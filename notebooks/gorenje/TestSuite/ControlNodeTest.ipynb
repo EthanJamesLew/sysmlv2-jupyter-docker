{
 "cells": [
  {
   "cell_type": "markdown",
   "id": "54c53863",
   "metadata": {},
   "source": [
    "# SysML v2 Test Suite\n",
    "\n",
    "This can notebook can be cleared using menu `Edit --> Clear All Outputs` and then all cells can be\n",
    "run using menu `Run --> Run All Cells`.\n",
    "\n",
    "**WARNING**: This file is generated, all modifications here will be ignored.\n"
   ]
  },
  {
   "cell_type": "markdown",
   "id": "621997a5",
   "metadata": {},
   "source": [
    "## File: ../../sysml/src/examples/Simple Tests/ControlNodeTest.sysml"
   ]
  },
  {
   "cell_type": "code",
   "execution_count": 1,
   "id": "605a6401",
   "metadata": {
    "execution": {
     "iopub.execute_input": "2021-08-04T06:26:28.227626Z",
     "iopub.status.busy": "2021-08-04T06:26:28.226366Z",
     "iopub.status.idle": "2021-08-04T06:26:28.464350Z",
     "shell.execute_reply": "2021-08-04T06:26:28.464636Z"
    }
   },
   "outputs": [
    {
     "data": {
      "text/plain": [
       "ActionDefinition ControlNodeTest (04ac9472-0248-4d32-9a4c-b286e108ae29)\n"
      ]
     },
     "execution_count": 1,
     "metadata": {},
     "output_type": "execute_result"
    }
   ],
   "source": [
    "action def ControlNodeTest {\n",
    "\taction A1;\n",
    "\tthen J;\n",
    "\t\n",
    "\taction A2;\n",
    "\tthen J;\n",
    "\t\n",
    "\tjoin J;\n",
    "\tthen fork F;\n",
    "\tthen B1;\n",
    "\tthen B2;\n",
    "\t\t\n",
    "\taction B1;\n",
    "\taction B2;\n",
    "}"
   ]
  },
  {
   "cell_type": "code",
   "execution_count": 2,
   "id": "14fb9428",
   "metadata": {
    "execution": {
     "iopub.execute_input": "2021-08-04T06:26:28.515790Z",
     "iopub.status.busy": "2021-08-04T06:26:28.515294Z",
     "iopub.status.idle": "2021-08-04T06:26:28.876683Z",
     "shell.execute_reply": "2021-08-04T06:26:28.876377Z"
    }
   },
   "outputs": [
    {
     "data": {
      "image/svg+xml": [
       "<?xml version=\"1.0\" encoding=\"UTF-8\" standalone=\"no\"?><svg xmlns=\"http://www.w3.org/2000/svg\" xmlns:xlink=\"http://www.w3.org/1999/xlink\" contentScriptType=\"application/ecmascript\" contentStyleType=\"text/css\" height=\"367px\" preserveAspectRatio=\"none\" style=\"width:205px;height:367px;\" version=\"1.1\" viewBox=\"0 0 205 367\" width=\"205px\" zoomAndPan=\"magnify\"><defs/><g><!--MD5=[fbc87193dbaf4d95561dea2c320d4a47]\n",
       "cluster E1--><a href=\"psysml:d75b3c07-b549-4c23-b2aa-d48828b6adea\" target=\"_top\" title=\"psysml:d75b3c07-b549-4c23-b2aa-d48828b6adea\" xlink:actuate=\"onRequest\" xlink:href=\"psysml:d75b3c07-b549-4c23-b2aa-d48828b6adea\" xlink:show=\"new\" xlink:title=\"psysml:d75b3c07-b549-4c23-b2aa-d48828b6adea\" xlink:type=\"simple\"><rect fill=\"#FFFFFF\" height=\"349\" id=\"E1\" style=\"stroke: #383838; stroke-width: 1.5;\" width=\"187\" x=\"7\" y=\"7\"/><rect fill=\"#F8F8F8\" height=\"37.9375\" style=\"stroke: #383838; stroke-width: 1.5;\" width=\"187\" x=\"7\" y=\"7\"/><text fill=\"#000000\" font-family=\"sans-serif\" font-size=\"12\" font-style=\"italic\" lengthAdjust=\"spacingAndGlyphs\" textLength=\"77\" x=\"62\" y=\"23.1387\">«action def»</text><text fill=\"#000000\" font-family=\"sans-serif\" font-size=\"12\" lengthAdjust=\"spacingAndGlyphs\" textLength=\"105\" x=\"48\" y=\"37.1074\">ControlNodeTest</text></a><rect fill=\"#000000\" height=\"8\" style=\"stroke: none; stroke-width: 1.0;\" width=\"80\" x=\"60\" y=\"161\"/><rect fill=\"#000000\" height=\"8\" style=\"stroke: none; stroke-width: 1.0;\" width=\"80\" x=\"60\" y=\"229\"/><g id=\"E1.E2\"><a href=\"psysml:c07d7274-d0ac-44b0-95a3-e3c0562da237\" target=\"_top\" title=\"psysml:c07d7274-d0ac-44b0-95a3-e3c0562da237\" xlink:actuate=\"onRequest\" xlink:href=\"psysml:c07d7274-d0ac-44b0-95a3-e3c0562da237\" xlink:show=\"new\" xlink:title=\"psysml:c07d7274-d0ac-44b0-95a3-e3c0562da237\" xlink:type=\"simple\"><rect fill=\"#FFFFFF\" height=\"42.9375\" id=\"E2\" rx=\"10\" ry=\"10\" style=\"stroke: #383838; stroke-width: 1.5;\" width=\"60\" x=\"118\" y=\"58\"/><rect fill=\"#F8F8F8\" height=\"37.9375\" rx=\"10\" ry=\"10\" style=\"stroke: #F8F8F8; stroke-width: 1.5;\" width=\"60\" x=\"118\" y=\"58\"/><rect fill=\"#F8F8F8\" height=\"10\" style=\"stroke: #F8F8F8; stroke-width: 1.5;\" width=\"60\" x=\"118\" y=\"85.9375\"/><rect fill=\"none\" height=\"42.9375\" id=\"E2\" rx=\"10\" ry=\"10\" style=\"stroke: #383838; stroke-width: 1.5;\" width=\"60\" x=\"118\" y=\"58\"/><text fill=\"#000000\" font-family=\"sans-serif\" font-size=\"12\" font-style=\"italic\" lengthAdjust=\"spacingAndGlyphs\" textLength=\"53\" x=\"121.5\" y=\"74.1387\">«action»</text><text fill=\"#000000\" font-family=\"sans-serif\" font-size=\"12\" lengthAdjust=\"spacingAndGlyphs\" textLength=\"16\" x=\"140\" y=\"88.1074\">A1</text></a></g><g id=\"E1.E3\"><a href=\"psysml:7bb05ae1-d1dd-4ff0-97ee-ce3344a0751d\" target=\"_top\" title=\"psysml:7bb05ae1-d1dd-4ff0-97ee-ce3344a0751d\" xlink:actuate=\"onRequest\" xlink:href=\"psysml:7bb05ae1-d1dd-4ff0-97ee-ce3344a0751d\" xlink:show=\"new\" xlink:title=\"psysml:7bb05ae1-d1dd-4ff0-97ee-ce3344a0751d\" xlink:type=\"simple\"><rect fill=\"#FFFFFF\" height=\"42.9375\" id=\"E3\" rx=\"10\" ry=\"10\" style=\"stroke: #383838; stroke-width: 1.5;\" width=\"60\" x=\"23\" y=\"58\"/><rect fill=\"#F8F8F8\" height=\"37.9375\" rx=\"10\" ry=\"10\" style=\"stroke: #F8F8F8; stroke-width: 1.5;\" width=\"60\" x=\"23\" y=\"58\"/><rect fill=\"#F8F8F8\" height=\"10\" style=\"stroke: #F8F8F8; stroke-width: 1.5;\" width=\"60\" x=\"23\" y=\"85.9375\"/><rect fill=\"none\" height=\"42.9375\" id=\"E3\" rx=\"10\" ry=\"10\" style=\"stroke: #383838; stroke-width: 1.5;\" width=\"60\" x=\"23\" y=\"58\"/><text fill=\"#000000\" font-family=\"sans-serif\" font-size=\"12\" font-style=\"italic\" lengthAdjust=\"spacingAndGlyphs\" textLength=\"53\" x=\"26.5\" y=\"74.1387\">«action»</text><text fill=\"#000000\" font-family=\"sans-serif\" font-size=\"12\" lengthAdjust=\"spacingAndGlyphs\" textLength=\"16\" x=\"45\" y=\"88.1074\">A2</text></a></g><g id=\"E1.E6\"><a href=\"psysml:d5fd7944-a8f1-4c67-81d3-da10d551f750\" target=\"_top\" title=\"psysml:d5fd7944-a8f1-4c67-81d3-da10d551f750\" xlink:actuate=\"onRequest\" xlink:href=\"psysml:d5fd7944-a8f1-4c67-81d3-da10d551f750\" xlink:show=\"new\" xlink:title=\"psysml:d5fd7944-a8f1-4c67-81d3-da10d551f750\" xlink:type=\"simple\"><rect fill=\"#FFFFFF\" height=\"42.9375\" id=\"E6\" rx=\"10\" ry=\"10\" style=\"stroke: #383838; stroke-width: 1.5;\" width=\"60\" x=\"23\" y=\"297\"/><rect fill=\"#F8F8F8\" height=\"37.9375\" rx=\"10\" ry=\"10\" style=\"stroke: #F8F8F8; stroke-width: 1.5;\" width=\"60\" x=\"23\" y=\"297\"/><rect fill=\"#F8F8F8\" height=\"10\" style=\"stroke: #F8F8F8; stroke-width: 1.5;\" width=\"60\" x=\"23\" y=\"324.9375\"/><rect fill=\"none\" height=\"42.9375\" id=\"E6\" rx=\"10\" ry=\"10\" style=\"stroke: #383838; stroke-width: 1.5;\" width=\"60\" x=\"23\" y=\"297\"/><text fill=\"#000000\" font-family=\"sans-serif\" font-size=\"12\" font-style=\"italic\" lengthAdjust=\"spacingAndGlyphs\" textLength=\"53\" x=\"26.5\" y=\"313.1387\">«action»</text><text fill=\"#000000\" font-family=\"sans-serif\" font-size=\"12\" lengthAdjust=\"spacingAndGlyphs\" textLength=\"16\" x=\"45\" y=\"327.1074\">B1</text></a></g><g id=\"E1.E7\"><a href=\"psysml:b7d3ffe5-6bb9-4232-a5c3-5eafb8d0b5f9\" target=\"_top\" title=\"psysml:b7d3ffe5-6bb9-4232-a5c3-5eafb8d0b5f9\" xlink:actuate=\"onRequest\" xlink:href=\"psysml:b7d3ffe5-6bb9-4232-a5c3-5eafb8d0b5f9\" xlink:show=\"new\" xlink:title=\"psysml:b7d3ffe5-6bb9-4232-a5c3-5eafb8d0b5f9\" xlink:type=\"simple\"><rect fill=\"#FFFFFF\" height=\"42.9375\" id=\"E7\" rx=\"10\" ry=\"10\" style=\"stroke: #383838; stroke-width: 1.5;\" width=\"60\" x=\"118\" y=\"297\"/><rect fill=\"#F8F8F8\" height=\"37.9375\" rx=\"10\" ry=\"10\" style=\"stroke: #F8F8F8; stroke-width: 1.5;\" width=\"60\" x=\"118\" y=\"297\"/><rect fill=\"#F8F8F8\" height=\"10\" style=\"stroke: #F8F8F8; stroke-width: 1.5;\" width=\"60\" x=\"118\" y=\"324.9375\"/><rect fill=\"none\" height=\"42.9375\" id=\"E7\" rx=\"10\" ry=\"10\" style=\"stroke: #383838; stroke-width: 1.5;\" width=\"60\" x=\"118\" y=\"297\"/><text fill=\"#000000\" font-family=\"sans-serif\" font-size=\"12\" font-style=\"italic\" lengthAdjust=\"spacingAndGlyphs\" textLength=\"53\" x=\"121.5\" y=\"313.1387\">«action»</text><text fill=\"#000000\" font-family=\"sans-serif\" font-size=\"12\" lengthAdjust=\"spacingAndGlyphs\" textLength=\"16\" x=\"140\" y=\"327.1074\">B2</text></a></g><!--MD5=[4d03bb2d0377dc85ccfab60ff574652b]\n",
       "link E2 to E4--><a href=\"psysml:a5b917a3-7538-4e28-aa62-755107929dae\" target=\"_top\" title=\"psysml:a5b917a3-7538-4e28-aa62-755107929dae\" xlink:actuate=\"onRequest\" xlink:href=\"psysml:a5b917a3-7538-4e28-aa62-755107929dae\" xlink:show=\"new\" xlink:title=\"psysml:a5b917a3-7538-4e28-aa62-755107929dae\" xlink:type=\"simple\"><path d=\"M136.13,101.14 C125.84,119.06 111.49,144.01 104.37,156.4 \" fill=\"none\" id=\"E2-&gt;E4\" style=\"stroke: #383838; stroke-width: 1.0;\"/><polygon fill=\"#383838\" points=\"101.79,160.88,109.7406,155.0673,104.2799,156.5441,102.8031,151.0834,101.79,160.88\" style=\"stroke: #383838; stroke-width: 1.0;\"/><text fill=\"#000000\" font-family=\"sans-serif\" font-size=\"13\" lengthAdjust=\"spacingAndGlyphs\" textLength=\"7\" x=\"93.6144\" y=\"150.0038\">*</text></a><!--MD5=[af87c684e3b0d8be13c1a698a818ef1e]\n",
       "link E3 to E4--><a href=\"psysml:b67a9087-1129-4a2e-aba3-334d88c3cbf2\" target=\"_top\" title=\"psysml:b67a9087-1129-4a2e-aba3-334d88c3cbf2\" xlink:actuate=\"onRequest\" xlink:href=\"psysml:b67a9087-1129-4a2e-aba3-334d88c3cbf2\" xlink:show=\"new\" xlink:title=\"psysml:b67a9087-1129-4a2e-aba3-334d88c3cbf2\" xlink:type=\"simple\"><path d=\"M64.62,101.14 C74.7,119.06 88.75,144.01 95.72,156.4 \" fill=\"none\" id=\"E3-&gt;E4\" style=\"stroke: #383838; stroke-width: 1.0;\"/><polygon fill=\"#383838\" points=\"98.25,160.88,97.3377,151.0735,95.8048,156.5187,90.3596,154.9858,98.25,160.88\" style=\"stroke: #383838; stroke-width: 1.0;\"/><text fill=\"#000000\" font-family=\"sans-serif\" font-size=\"13\" lengthAdjust=\"spacingAndGlyphs\" textLength=\"7\" x=\"99.4531\" y=\"150.0038\">*</text></a><!--MD5=[1b7591eae5389033d8d09a9d6721a717]\n",
       "link E4 to E5--><a href=\"psysml:9a17080e-ae46-40d4-b989-796f716175e4\" target=\"_top\" title=\"psysml:9a17080e-ae46-40d4-b989-796f716175e4\" xlink:actuate=\"onRequest\" xlink:href=\"psysml:9a17080e-ae46-40d4-b989-796f716175e4\" xlink:show=\"new\" xlink:title=\"psysml:9a17080e-ae46-40d4-b989-796f716175e4\" xlink:type=\"simple\"><path d=\"M100,169.18 C100,178.92 100,208.52 100,223.34 \" fill=\"none\" id=\"E4-&gt;E5\" style=\"stroke: #383838; stroke-width: 1.0;\"/><polygon fill=\"#383838\" points=\"100,228.69,104,219.69,100,223.69,96,219.69,100,228.69\" style=\"stroke: #383838; stroke-width: 1.0;\"/><text fill=\"#000000\" font-family=\"sans-serif\" font-size=\"13\" lengthAdjust=\"spacingAndGlyphs\" textLength=\"7\" x=\"90.6813\" y=\"217.9768\">*</text></a><!--MD5=[9120cf2e5df3bff93db8f754bbbc09b4]\n",
       "link E5 to E6--><a href=\"psysml:197b427e-ad07-4e53-856c-ed2b1bc0e06a\" target=\"_top\" title=\"psysml:197b427e-ad07-4e53-856c-ed2b1bc0e06a\" xlink:actuate=\"onRequest\" xlink:href=\"psysml:197b427e-ad07-4e53-856c-ed2b1bc0e06a\" xlink:show=\"new\" xlink:title=\"psysml:197b427e-ad07-4e53-856c-ed2b1bc0e06a\" xlink:type=\"simple\"><path d=\"M98.21,237.17 C93.16,246.14 78.41,272.36 67.11,292.43 \" fill=\"none\" id=\"E5-&gt;E6\" style=\"stroke: #383838; stroke-width: 1.0;\"/><polygon fill=\"#383838\" points=\"64.61,296.87,72.5151,290.9955,67.0661,292.5148,65.5467,287.0658,64.61,296.87\" style=\"stroke: #383838; stroke-width: 1.0;\"/><text fill=\"#000000\" font-family=\"sans-serif\" font-size=\"13\" lengthAdjust=\"spacingAndGlyphs\" textLength=\"7\" x=\"59.8909\" y=\"285.7715\">*</text></a><!--MD5=[3a9b96bfbf6b6ad89c494e81751bda47]\n",
       "link E5 to E7--><a href=\"psysml:b67e977c-71d2-45f4-9959-07a509bb3c26\" target=\"_top\" title=\"psysml:b67e977c-71d2-45f4-9959-07a509bb3c26\" xlink:actuate=\"onRequest\" xlink:href=\"psysml:b67e977c-71d2-45f4-9959-07a509bb3c26\" xlink:show=\"new\" xlink:title=\"psysml:b67e977c-71d2-45f4-9959-07a509bb3c26\" xlink:type=\"simple\"><path d=\"M101.82,237.17 C106.98,246.14 122.05,272.36 133.59,292.43 \" fill=\"none\" id=\"E5-&gt;E7\" style=\"stroke: #383838; stroke-width: 1.0;\"/><polygon fill=\"#383838\" points=\"136.14,296.87,135.1269,287.0734,133.6501,292.5341,128.1894,291.0573,136.14,296.87\" style=\"stroke: #383838; stroke-width: 1.0;\"/><text fill=\"#000000\" font-family=\"sans-serif\" font-size=\"13\" lengthAdjust=\"spacingAndGlyphs\" textLength=\"7\" x=\"124.82\" y=\"285.7715\">*</text></a><!--MD5=[dec793410d9e026984c9729bc30ff2bd]\n",
       "@startuml\r\n",
       " skinparam monochrome true\r\n",
       "skinparam classbackgroundcolor white\r\n",
       "skinparam shadowing false\r\n",
       "skinparam wrapWidth 300\r\n",
       "hide circle\r\n",
       "\r\n",
       "rec def \"ControlNodeTest\" as E1  <<(T,blue) action def>> [[psysml:d75b3c07-b549-4c23-b2aa-d48828b6adea ]] {\r\n",
       "rec usage \"A1\" as E2  <<(T,blue) action>> [[psysml:c07d7274-d0ac-44b0-95a3-e3c0562da237 ]] {\r\n",
       "}\r\n",
       "\r\n",
       "rec usage \"A2\" as E3  <<(T,blue) action>> [[psysml:7bb05ae1-d1dd-4ff0-97ee-ce3344a0751d ]] {\r\n",
       "}\r\n",
       "\r\n",
       "join \"J\" as E4  [[psysml:f3bfce16-3667-4a48-a42e-fd992fa328bf ]] \r\n",
       "fork \"F\" as E5  [[psysml:08c848ef-d5ea-4388-acb9-5b8d01347f10 ]] \r\n",
       "rec usage \"B1\" as E6  <<(T,blue) action>> [[psysml:d5fd7944-a8f1-4c67-81d3-da10d551f750 ]] {\r\n",
       "}\r\n",
       "\r\n",
       "rec usage \"B2\" as E7  <<(T,blue) action>> [[psysml:b7d3ffe5-6bb9-4232-a5c3-5eafb8d0b5f9 ]] {\r\n",
       "}\r\n",
       "\r\n",
       "}\r\n",
       "\r\n",
       "E2 - -> \"*\"E4 [[psysml:a5b917a3-7538-4e28-aa62-755107929dae ]] \r\n",
       "E3 - -> \"*\"E4 [[psysml:b67a9087-1129-4a2e-aba3-334d88c3cbf2 ]] \r\n",
       "E4 - -> \"*\"E5 [[psysml:9a17080e-ae46-40d4-b989-796f716175e4 ]] \r\n",
       "E5 - -> \"*\"E6 [[psysml:197b427e-ad07-4e53-856c-ed2b1bc0e06a ]] \r\n",
       "E5 - -> \"*\"E7 [[psysml:b67e977c-71d2-45f4-9959-07a509bb3c26 ]] \r\n",
       "@enduml\r\n",
       "\n",
       "PlantUML version 1.2020.13(Sat Jun 13 12:26:38 UTC 2020)\n",
       "(EPL source distribution)\n",
       "Java Runtime: OpenJDK Runtime Environment\n",
       "JVM: OpenJDK 64-Bit Server VM\n",
       "Default Encoding: UTF-8\n",
       "Language: en\n",
       "Country: null\n",
       "--></g></svg>"
      ]
     },
     "execution_count": 2,
     "metadata": {},
     "output_type": "execute_result"
    }
   ],
   "source": [
    "%viz --style=\"COMPTREE\" --view=\"Default\" \"ControlNodeTest\""
   ]
  },
  {
   "cell_type": "code",
   "execution_count": 3,
   "id": "0cb0f432",
   "metadata": {
    "execution": {
     "iopub.execute_input": "2021-08-04T06:26:28.927729Z",
     "iopub.status.busy": "2021-08-04T06:26:28.927103Z",
     "iopub.status.idle": "2021-08-04T06:26:28.975650Z",
     "shell.execute_reply": "2021-08-04T06:26:28.975831Z"
    }
   },
   "outputs": [
    {
     "data": {
      "image/svg+xml": [
       "<?xml version=\"1.0\" encoding=\"UTF-8\" standalone=\"no\"?><svg xmlns=\"http://www.w3.org/2000/svg\" xmlns:xlink=\"http://www.w3.org/1999/xlink\" contentScriptType=\"application/ecmascript\" contentStyleType=\"text/css\" height=\"169px\" preserveAspectRatio=\"none\" style=\"width:557px;height:169px;\" version=\"1.1\" viewBox=\"0 0 557 169\" width=\"557px\" zoomAndPan=\"magnify\"><defs/><g><!--MD5=[43c9051892ef23e1a46a86907403d788]\n",
       "class E1--><a href=\"psysml:d75b3c07-b549-4c23-b2aa-d48828b6adea\" target=\"_top\" title=\"psysml:d75b3c07-b549-4c23-b2aa-d48828b6adea\" xlink:actuate=\"onRequest\" xlink:href=\"psysml:d75b3c07-b549-4c23-b2aa-d48828b6adea\" xlink:show=\"new\" xlink:title=\"psysml:d75b3c07-b549-4c23-b2aa-d48828b6adea\" xlink:type=\"simple\"><rect fill=\"#FFFFFF\" height=\"45.9375\" id=\"E1\" style=\"stroke: #383838; stroke-width: 1.5;\" width=\"111\" x=\"220\" y=\"7\"/><text fill=\"#000000\" font-family=\"sans-serif\" font-size=\"12\" font-style=\"italic\" lengthAdjust=\"spacingAndGlyphs\" textLength=\"77\" x=\"237\" y=\"23.1387\">«action def»</text><text fill=\"#000000\" font-family=\"sans-serif\" font-size=\"12\" lengthAdjust=\"spacingAndGlyphs\" textLength=\"105\" x=\"223\" y=\"37.1074\">ControlNodeTest</text><line style=\"stroke: #383838; stroke-width: 1.5;\" x1=\"221\" x2=\"330\" y1=\"44.9375\" y2=\"44.9375\"/></a><!--MD5=[b4997ac47864f28c2f74865a473b2911]\n",
       "class E2--><a href=\"psysml:c07d7274-d0ac-44b0-95a3-e3c0562da237\" target=\"_top\" title=\"psysml:c07d7274-d0ac-44b0-95a3-e3c0562da237\" xlink:actuate=\"onRequest\" xlink:href=\"psysml:c07d7274-d0ac-44b0-95a3-e3c0562da237\" xlink:show=\"new\" xlink:title=\"psysml:c07d7274-d0ac-44b0-95a3-e3c0562da237\" xlink:type=\"simple\"><rect fill=\"#FFFFFF\" height=\"45.9375\" id=\"E2\" rx=\"10\" ry=\"10\" style=\"stroke: #383838; stroke-width: 1.5;\" width=\"55\" x=\"7\" y=\"113\"/><text fill=\"#000000\" font-family=\"sans-serif\" font-size=\"12\" font-style=\"italic\" lengthAdjust=\"spacingAndGlyphs\" textLength=\"53\" x=\"8\" y=\"129.1387\">«action»</text><text fill=\"#000000\" font-family=\"sans-serif\" font-size=\"12\" lengthAdjust=\"spacingAndGlyphs\" textLength=\"16\" x=\"26.5\" y=\"143.1074\">A1</text><line style=\"stroke: #383838; stroke-width: 1.5;\" x1=\"8\" x2=\"61\" y1=\"150.9375\" y2=\"150.9375\"/></a><!--MD5=[09b614a08d8cba4a07c9adeb5e0fee81]\n",
       "class E3--><a href=\"psysml:7bb05ae1-d1dd-4ff0-97ee-ce3344a0751d\" target=\"_top\" title=\"psysml:7bb05ae1-d1dd-4ff0-97ee-ce3344a0751d\" xlink:actuate=\"onRequest\" xlink:href=\"psysml:7bb05ae1-d1dd-4ff0-97ee-ce3344a0751d\" xlink:show=\"new\" xlink:title=\"psysml:7bb05ae1-d1dd-4ff0-97ee-ce3344a0751d\" xlink:type=\"simple\"><rect fill=\"#FFFFFF\" height=\"45.9375\" id=\"E3\" rx=\"10\" ry=\"10\" style=\"stroke: #383838; stroke-width: 1.5;\" width=\"55\" x=\"97\" y=\"113\"/><text fill=\"#000000\" font-family=\"sans-serif\" font-size=\"12\" font-style=\"italic\" lengthAdjust=\"spacingAndGlyphs\" textLength=\"53\" x=\"98\" y=\"129.1387\">«action»</text><text fill=\"#000000\" font-family=\"sans-serif\" font-size=\"12\" lengthAdjust=\"spacingAndGlyphs\" textLength=\"16\" x=\"116.5\" y=\"143.1074\">A2</text><line style=\"stroke: #383838; stroke-width: 1.5;\" x1=\"98\" x2=\"151\" y1=\"150.9375\" y2=\"150.9375\"/></a><!--MD5=[ebbe1d658d1005bcc118a6aa81145e00]\n",
       "class E4--><a href=\"psysml:f3bfce16-3667-4a48-a42e-fd992fa328bf\" target=\"_top\" title=\"psysml:f3bfce16-3667-4a48-a42e-fd992fa328bf\" xlink:actuate=\"onRequest\" xlink:href=\"psysml:f3bfce16-3667-4a48-a42e-fd992fa328bf\" xlink:show=\"new\" xlink:title=\"psysml:f3bfce16-3667-4a48-a42e-fd992fa328bf\" xlink:type=\"simple\"><rect fill=\"#FFFFFF\" height=\"45.9375\" id=\"E4\" rx=\"10\" ry=\"10\" style=\"stroke: #383838; stroke-width: 1.5;\" width=\"71\" x=\"187\" y=\"113\"/><text fill=\"#000000\" font-family=\"sans-serif\" font-size=\"12\" font-style=\"italic\" lengthAdjust=\"spacingAndGlyphs\" textLength=\"69\" x=\"188\" y=\"129.1387\">«joinNode»</text><text fill=\"#000000\" font-family=\"sans-serif\" font-size=\"12\" lengthAdjust=\"spacingAndGlyphs\" textLength=\"3\" x=\"221\" y=\"143.1074\">J</text><line style=\"stroke: #383838; stroke-width: 1.5;\" x1=\"188\" x2=\"257\" y1=\"150.9375\" y2=\"150.9375\"/></a><!--MD5=[270fce915f116d4de14055a7c1d9a0f3]\n",
       "class E5--><a href=\"psysml:08c848ef-d5ea-4388-acb9-5b8d01347f10\" target=\"_top\" title=\"psysml:08c848ef-d5ea-4388-acb9-5b8d01347f10\" xlink:actuate=\"onRequest\" xlink:href=\"psysml:08c848ef-d5ea-4388-acb9-5b8d01347f10\" xlink:show=\"new\" xlink:title=\"psysml:08c848ef-d5ea-4388-acb9-5b8d01347f10\" xlink:type=\"simple\"><rect fill=\"#FFFFFF\" height=\"45.9375\" id=\"E5\" rx=\"10\" ry=\"10\" style=\"stroke: #383838; stroke-width: 1.5;\" width=\"73\" x=\"293\" y=\"113\"/><text fill=\"#000000\" font-family=\"sans-serif\" font-size=\"12\" font-style=\"italic\" lengthAdjust=\"spacingAndGlyphs\" textLength=\"71\" x=\"294\" y=\"129.1387\">«forkNode»</text><text fill=\"#000000\" font-family=\"sans-serif\" font-size=\"12\" lengthAdjust=\"spacingAndGlyphs\" textLength=\"7\" x=\"326\" y=\"143.1074\">F</text><line style=\"stroke: #383838; stroke-width: 1.5;\" x1=\"294\" x2=\"365\" y1=\"150.9375\" y2=\"150.9375\"/></a><!--MD5=[60a26617385b1d2d0262a64233df1f8d]\n",
       "class E6--><a href=\"psysml:d5fd7944-a8f1-4c67-81d3-da10d551f750\" target=\"_top\" title=\"psysml:d5fd7944-a8f1-4c67-81d3-da10d551f750\" xlink:actuate=\"onRequest\" xlink:href=\"psysml:d5fd7944-a8f1-4c67-81d3-da10d551f750\" xlink:show=\"new\" xlink:title=\"psysml:d5fd7944-a8f1-4c67-81d3-da10d551f750\" xlink:type=\"simple\"><rect fill=\"#FFFFFF\" height=\"45.9375\" id=\"E6\" rx=\"10\" ry=\"10\" style=\"stroke: #383838; stroke-width: 1.5;\" width=\"55\" x=\"401\" y=\"113\"/><text fill=\"#000000\" font-family=\"sans-serif\" font-size=\"12\" font-style=\"italic\" lengthAdjust=\"spacingAndGlyphs\" textLength=\"53\" x=\"402\" y=\"129.1387\">«action»</text><text fill=\"#000000\" font-family=\"sans-serif\" font-size=\"12\" lengthAdjust=\"spacingAndGlyphs\" textLength=\"16\" x=\"420.5\" y=\"143.1074\">B1</text><line style=\"stroke: #383838; stroke-width: 1.5;\" x1=\"402\" x2=\"455\" y1=\"150.9375\" y2=\"150.9375\"/></a><!--MD5=[2156ba9850f5573cc1fc38a6a4b2f02b]\n",
       "class E7--><a href=\"psysml:b7d3ffe5-6bb9-4232-a5c3-5eafb8d0b5f9\" target=\"_top\" title=\"psysml:b7d3ffe5-6bb9-4232-a5c3-5eafb8d0b5f9\" xlink:actuate=\"onRequest\" xlink:href=\"psysml:b7d3ffe5-6bb9-4232-a5c3-5eafb8d0b5f9\" xlink:show=\"new\" xlink:title=\"psysml:b7d3ffe5-6bb9-4232-a5c3-5eafb8d0b5f9\" xlink:type=\"simple\"><rect fill=\"#FFFFFF\" height=\"45.9375\" id=\"E7\" rx=\"10\" ry=\"10\" style=\"stroke: #383838; stroke-width: 1.5;\" width=\"55\" x=\"491\" y=\"113\"/><text fill=\"#000000\" font-family=\"sans-serif\" font-size=\"12\" font-style=\"italic\" lengthAdjust=\"spacingAndGlyphs\" textLength=\"53\" x=\"492\" y=\"129.1387\">«action»</text><text fill=\"#000000\" font-family=\"sans-serif\" font-size=\"12\" lengthAdjust=\"spacingAndGlyphs\" textLength=\"16\" x=\"510.5\" y=\"143.1074\">B2</text><line style=\"stroke: #383838; stroke-width: 1.5;\" x1=\"492\" x2=\"545\" y1=\"150.9375\" y2=\"150.9375\"/></a><!--MD5=[a523cb2a0b79ecf9065ad8783f96c320]\n",
       "reverse link E1 to E2--><a href=\"psysml:090da899-d633-4f68-ac70-93df987c1f89\" target=\"_top\" title=\"psysml:090da899-d633-4f68-ac70-93df987c1f89\" xlink:actuate=\"onRequest\" xlink:href=\"psysml:090da899-d633-4f68-ac70-93df987c1f89\" xlink:show=\"new\" xlink:title=\"psysml:090da899-d633-4f68-ac70-93df987c1f89\" xlink:type=\"simple\"><path d=\"M207.75,58.2 C169.81,73.72 121.76,93.85 79.5,113 C73.96,115.51 68.08,118.3 62.47,121.01 \" fill=\"none\" id=\"E1&lt;-E2\" style=\"stroke: #383838; stroke-width: 1.0;\"/><polygon fill=\"#383838\" points=\"220.21,53.12,213.1443,51.6791,209.0967,57.6471,216.1624,59.088,220.21,53.12\" style=\"stroke: #383838; stroke-width: 1.0;\"/><text fill=\"#000000\" font-family=\"sans-serif\" font-size=\"13\" lengthAdjust=\"spacingAndGlyphs\" textLength=\"7\" x=\"70.1408\" y=\"112.6188\">*</text></a><!--MD5=[5d7b3810b1dd9b5164bea1151b29b665]\n",
       "reverse link E1 to E3--><a href=\"psysml:797c4c3c-8cfb-4ed1-914f-99d654db3cec\" target=\"_top\" title=\"psysml:797c4c3c-8cfb-4ed1-914f-99d654db3cec\" xlink:actuate=\"onRequest\" xlink:href=\"psysml:797c4c3c-8cfb-4ed1-914f-99d654db3cec\" xlink:show=\"new\" xlink:title=\"psysml:797c4c3c-8cfb-4ed1-914f-99d654db3cec\" xlink:type=\"simple\"><path d=\"M232.52,60.6 C206.81,78.31 174.87,100.31 152.42,115.77 \" fill=\"none\" id=\"E1&lt;-E3\" style=\"stroke: #383838; stroke-width: 1.0;\"/><polygon fill=\"#383838\" points=\"243.48,53.06,236.2697,53.1655,233.5938,59.8617,240.8041,59.7562,243.48,53.06\" style=\"stroke: #383838; stroke-width: 1.0;\"/><text fill=\"#000000\" font-family=\"sans-serif\" font-size=\"13\" lengthAdjust=\"spacingAndGlyphs\" textLength=\"7\" x=\"160.0786\" y=\"106.1015\">*</text></a><!--MD5=[f2c5c03aa1e8c0ba21c10a05e6444b8e]\n",
       "reverse link E1 to E4--><a href=\"psysml:70a466ea-83ad-4e19-afa5-d192b13fd9c7\" target=\"_top\" title=\"psysml:70a466ea-83ad-4e19-afa5-d192b13fd9c7\" xlink:actuate=\"onRequest\" xlink:href=\"psysml:70a466ea-83ad-4e19-afa5-d192b13fd9c7\" xlink:show=\"new\" xlink:title=\"psysml:70a466ea-83ad-4e19-afa5-d192b13fd9c7\" xlink:type=\"simple\"><path d=\"M258.16,65.03 C250.13,80.78 240.82,99.06 233.72,112.98 \" fill=\"none\" id=\"E1&lt;-E4\" style=\"stroke: #383838; stroke-width: 1.0;\"/><polygon fill=\"#383838\" points=\"264.26,53.06,257.9728,56.5915,258.8145,63.7533,265.1017,60.2218,264.26,53.06\" style=\"stroke: #383838; stroke-width: 1.0;\"/></a><!--MD5=[33238bef88d6431a141d8bc8fb12bca0]\n",
       "reverse link E1 to E5--><a href=\"psysml:26253911-6243-446d-b791-23c0e42b91a5\" target=\"_top\" title=\"psysml:26253911-6243-446d-b791-23c0e42b91a5\" xlink:actuate=\"onRequest\" xlink:href=\"psysml:26253911-6243-446d-b791-23c0e42b91a5\" xlink:show=\"new\" xlink:title=\"psysml:26253911-6243-446d-b791-23c0e42b91a5\" xlink:type=\"simple\"><path d=\"M293.17,65.03 C301.35,80.78 310.84,99.06 318.06,112.98 \" fill=\"none\" id=\"E1&lt;-E5\" style=\"stroke: #383838; stroke-width: 1.0;\"/><polygon fill=\"#383838\" points=\"286.95,53.06,286.1611,60.2278,292.4742,63.7129,293.263,56.545,286.95,53.06\" style=\"stroke: #383838; stroke-width: 1.0;\"/></a><!--MD5=[aca2ef284c2b1b90e17e73bf3f292c07]\n",
       "reverse link E1 to E6--><a href=\"psysml:e8354a48-cb93-46c3-a69e-19a4acf29f71\" target=\"_top\" title=\"psysml:e8354a48-cb93-46c3-a69e-19a4acf29f71\" xlink:actuate=\"onRequest\" xlink:href=\"psysml:e8354a48-cb93-46c3-a69e-19a4acf29f71\" xlink:show=\"new\" xlink:title=\"psysml:e8354a48-cb93-46c3-a69e-19a4acf29f71\" xlink:type=\"simple\"><path d=\"M318.77,60.41 C345.06,78.28 377.86,100.58 400.72,116.11 \" fill=\"none\" id=\"E1&lt;-E6\" style=\"stroke: #383838; stroke-width: 1.0;\"/><polygon fill=\"#383838\" points=\"307.95,53.06,310.6626,59.7415,317.8734,59.8074,315.1608,53.1259,307.95,53.06\" style=\"stroke: #383838; stroke-width: 1.0;\"/><text fill=\"#000000\" font-family=\"sans-serif\" font-size=\"13\" lengthAdjust=\"spacingAndGlyphs\" textLength=\"7\" x=\"386.0955\" y=\"106.5244\">*</text></a><!--MD5=[fc9706a6b2cf8c0e423679d303750d3f]\n",
       "reverse link E1 to E7--><a href=\"psysml:8dca6daf-962f-46a3-bb74-22037bd04295\" target=\"_top\" title=\"psysml:8dca6daf-962f-46a3-bb74-22037bd04295\" xlink:actuate=\"onRequest\" xlink:href=\"psysml:8dca6daf-962f-46a3-bb74-22037bd04295\" xlink:show=\"new\" xlink:title=\"psysml:8dca6daf-962f-46a3-bb74-22037bd04295\" xlink:type=\"simple\"><path d=\"M343.46,57.93 C381.88,73.46 430.65,93.68 473.5,113 C479.05,115.5 484.93,118.28 490.54,121 \" fill=\"none\" id=\"E1&lt;-E7\" style=\"stroke: #383838; stroke-width: 1.0;\"/><polygon fill=\"#383838\" points=\"331.37,53.06,335.4407,59.0122,342.5008,57.544,338.43,51.5917,331.37,53.06\" style=\"stroke: #383838; stroke-width: 1.0;\"/><text fill=\"#000000\" font-family=\"sans-serif\" font-size=\"13\" lengthAdjust=\"spacingAndGlyphs\" textLength=\"7\" x=\"475.8716\" y=\"112.6063\">*</text></a><!--MD5=[f29e6f3f44ca1d827caca4bf83840ace]\n",
       "@startuml\r\n",
       " skinparam monochrome true\r\n",
       "skinparam classbackgroundcolor white\r\n",
       "skinparam shadowing false\r\n",
       "skinparam wrapWidth 300\r\n",
       "hide circle\r\n",
       "\r\n",
       "comp def \"ControlNodeTest\" as E1  <<(T,blue) action def>> [[psysml:d75b3c07-b549-4c23-b2aa-d48828b6adea ]] {\r\n",
       "}\r\n",
       "comp usage \"A1\" as E2  <<(T,blue) action>> [[psysml:c07d7274-d0ac-44b0-95a3-e3c0562da237 ]] {\r\n",
       "}\r\n",
       "comp usage \"A2\" as E3  <<(T,blue) action>> [[psysml:7bb05ae1-d1dd-4ff0-97ee-ce3344a0751d ]] {\r\n",
       "}\r\n",
       "comp usage \"J\" as E4  <<(T,blue) joinNode>> [[psysml:f3bfce16-3667-4a48-a42e-fd992fa328bf ]] {\r\n",
       "}\r\n",
       "comp usage \"F\" as E5  <<(T,blue) forkNode>> [[psysml:08c848ef-d5ea-4388-acb9-5b8d01347f10 ]] {\r\n",
       "}\r\n",
       "comp usage \"B1\" as E6  <<(T,blue) action>> [[psysml:d5fd7944-a8f1-4c67-81d3-da10d551f750 ]] {\r\n",
       "}\r\n",
       "comp usage \"B2\" as E7  <<(T,blue) action>> [[psysml:b7d3ffe5-6bb9-4232-a5c3-5eafb8d0b5f9 ]] {\r\n",
       "}\r\n",
       "E1 *- - \"*\"E2 [[psysml:090da899-d633-4f68-ac70-93df987c1f89 ]] \r\n",
       "E1 *- - \"*\"E3 [[psysml:797c4c3c-8cfb-4ed1-914f-99d654db3cec ]] \r\n",
       "E1 *- - E4 [[psysml:70a466ea-83ad-4e19-afa5-d192b13fd9c7 ]] \r\n",
       "E1 *- - E5 [[psysml:26253911-6243-446d-b791-23c0e42b91a5 ]] \r\n",
       "E1 *- - \"*\"E6 [[psysml:e8354a48-cb93-46c3-a69e-19a4acf29f71 ]] \r\n",
       "E1 *- - \"*\"E7 [[psysml:8dca6daf-962f-46a3-bb74-22037bd04295 ]] \r\n",
       "@enduml\r\n",
       "\n",
       "PlantUML version 1.2020.13(Sat Jun 13 12:26:38 UTC 2020)\n",
       "(EPL source distribution)\n",
       "Java Runtime: OpenJDK Runtime Environment\n",
       "JVM: OpenJDK 64-Bit Server VM\n",
       "Default Encoding: UTF-8\n",
       "Language: en\n",
       "Country: null\n",
       "--></g></svg>"
      ]
     },
     "execution_count": 3,
     "metadata": {},
     "output_type": "execute_result"
    }
   ],
   "source": [
    "%viz --style=\"COMPTREE\" --view=\"Tree\" \"ControlNodeTest\""
   ]
  },
  {
   "cell_type": "code",
   "execution_count": 4,
   "id": "653b5767",
   "metadata": {
    "execution": {
     "iopub.execute_input": "2021-08-04T06:26:29.026492Z",
     "iopub.status.busy": "2021-08-04T06:26:29.026196Z",
     "iopub.status.idle": "2021-08-04T06:26:29.036013Z",
     "shell.execute_reply": "2021-08-04T06:26:29.036345Z"
    }
   },
   "outputs": [
    {
     "data": {
      "image/svg+xml": [
       "<?xml version=\"1.0\" encoding=\"UTF-8\" standalone=\"no\"?><svg xmlns=\"http://www.w3.org/2000/svg\" xmlns:xlink=\"http://www.w3.org/1999/xlink\" contentScriptType=\"application/ecmascript\" contentStyleType=\"text/css\" height=\"12px\" preserveAspectRatio=\"none\" style=\"width:12px;height:12px;\" version=\"1.1\" viewBox=\"0 0 12 12\" width=\"12px\" zoomAndPan=\"magnify\"><defs/><g><!--MD5=[f19188ef49e11757b5c46753f95d9edc]\n",
       "@startuml\r\n",
       " skinparam monochrome true\r\n",
       "skinparam classbackgroundcolor white\r\n",
       "skinparam shadowing false\r\n",
       "skinparam wrapWidth 300\r\n",
       "hide circle\r\n",
       "\r\n",
       "@enduml\r\n",
       "\n",
       "PlantUML version 1.2020.13(Sat Jun 13 12:26:38 UTC 2020)\n",
       "(EPL source distribution)\n",
       "Java Runtime: OpenJDK Runtime Environment\n",
       "JVM: OpenJDK 64-Bit Server VM\n",
       "Default Encoding: UTF-8\n",
       "Language: en\n",
       "Country: null\n",
       "--></g></svg>"
      ]
     },
     "execution_count": 4,
     "metadata": {},
     "output_type": "execute_result"
    }
   ],
   "source": [
    "%viz --style=\"COMPTREE\" --view=\"State\" \"ControlNodeTest\""
   ]
  },
  {
   "cell_type": "code",
   "execution_count": 5,
   "id": "eed10ca9",
   "metadata": {
    "execution": {
     "iopub.execute_input": "2021-08-04T06:26:29.087002Z",
     "iopub.status.busy": "2021-08-04T06:26:29.086418Z",
     "iopub.status.idle": "2021-08-04T06:26:29.131583Z",
     "shell.execute_reply": "2021-08-04T06:26:29.131226Z"
    }
   },
   "outputs": [
    {
     "data": {
      "image/svg+xml": [
       "<?xml version=\"1.0\" encoding=\"UTF-8\" standalone=\"no\"?><svg xmlns=\"http://www.w3.org/2000/svg\" xmlns:xlink=\"http://www.w3.org/1999/xlink\" contentScriptType=\"application/ecmascript\" contentStyleType=\"text/css\" height=\"217px\" preserveAspectRatio=\"none\" style=\"width:205px;height:217px;\" version=\"1.1\" viewBox=\"0 0 205 217\" width=\"205px\" zoomAndPan=\"magnify\"><defs/><g><!--MD5=[fbc87193dbaf4d95561dea2c320d4a47]\n",
       "cluster E1--><a href=\"psysml:d75b3c07-b549-4c23-b2aa-d48828b6adea\" target=\"_top\" title=\"psysml:d75b3c07-b549-4c23-b2aa-d48828b6adea\" xlink:actuate=\"onRequest\" xlink:href=\"psysml:d75b3c07-b549-4c23-b2aa-d48828b6adea\" xlink:show=\"new\" xlink:title=\"psysml:d75b3c07-b549-4c23-b2aa-d48828b6adea\" xlink:type=\"simple\"><rect fill=\"#FFFFFF\" height=\"199\" id=\"E1\" style=\"stroke: #383838; stroke-width: 1.5;\" width=\"187\" x=\"7\" y=\"7\"/><rect fill=\"#F8F8F8\" height=\"37.9375\" style=\"stroke: #383838; stroke-width: 1.5;\" width=\"187\" x=\"7\" y=\"7\"/><text fill=\"#000000\" font-family=\"sans-serif\" font-size=\"12\" font-style=\"italic\" lengthAdjust=\"spacingAndGlyphs\" textLength=\"77\" x=\"62\" y=\"23.1387\">«action def»</text><text fill=\"#000000\" font-family=\"sans-serif\" font-size=\"12\" lengthAdjust=\"spacingAndGlyphs\" textLength=\"105\" x=\"48\" y=\"37.1074\">ControlNodeTest</text></a><rect fill=\"#000000\" height=\"8\" style=\"stroke: none; stroke-width: 1.0;\" width=\"80\" x=\"60\" y=\"111\"/><rect fill=\"#000000\" height=\"8\" style=\"stroke: none; stroke-width: 1.0;\" width=\"80\" x=\"60\" y=\"129\"/><g id=\"E1.E2\"><a href=\"psysml:c07d7274-d0ac-44b0-95a3-e3c0562da237\" target=\"_top\" title=\"psysml:c07d7274-d0ac-44b0-95a3-e3c0562da237\" xlink:actuate=\"onRequest\" xlink:href=\"psysml:c07d7274-d0ac-44b0-95a3-e3c0562da237\" xlink:show=\"new\" xlink:title=\"psysml:c07d7274-d0ac-44b0-95a3-e3c0562da237\" xlink:type=\"simple\"><rect fill=\"#FFFFFF\" height=\"42.9375\" id=\"E2\" rx=\"10\" ry=\"10\" style=\"stroke: #383838; stroke-width: 1.5;\" width=\"60\" x=\"118\" y=\"58\"/><rect fill=\"#F8F8F8\" height=\"37.9375\" rx=\"10\" ry=\"10\" style=\"stroke: #F8F8F8; stroke-width: 1.5;\" width=\"60\" x=\"118\" y=\"58\"/><rect fill=\"#F8F8F8\" height=\"10\" style=\"stroke: #F8F8F8; stroke-width: 1.5;\" width=\"60\" x=\"118\" y=\"85.9375\"/><rect fill=\"none\" height=\"42.9375\" id=\"E2\" rx=\"10\" ry=\"10\" style=\"stroke: #383838; stroke-width: 1.5;\" width=\"60\" x=\"118\" y=\"58\"/><text fill=\"#000000\" font-family=\"sans-serif\" font-size=\"12\" font-style=\"italic\" lengthAdjust=\"spacingAndGlyphs\" textLength=\"53\" x=\"121.5\" y=\"74.1387\">«action»</text><text fill=\"#000000\" font-family=\"sans-serif\" font-size=\"12\" lengthAdjust=\"spacingAndGlyphs\" textLength=\"16\" x=\"140\" y=\"88.1074\">A1</text></a></g><g id=\"E1.E3\"><a href=\"psysml:7bb05ae1-d1dd-4ff0-97ee-ce3344a0751d\" target=\"_top\" title=\"psysml:7bb05ae1-d1dd-4ff0-97ee-ce3344a0751d\" xlink:actuate=\"onRequest\" xlink:href=\"psysml:7bb05ae1-d1dd-4ff0-97ee-ce3344a0751d\" xlink:show=\"new\" xlink:title=\"psysml:7bb05ae1-d1dd-4ff0-97ee-ce3344a0751d\" xlink:type=\"simple\"><rect fill=\"#FFFFFF\" height=\"42.9375\" id=\"E3\" rx=\"10\" ry=\"10\" style=\"stroke: #383838; stroke-width: 1.5;\" width=\"60\" x=\"23\" y=\"58\"/><rect fill=\"#F8F8F8\" height=\"37.9375\" rx=\"10\" ry=\"10\" style=\"stroke: #F8F8F8; stroke-width: 1.5;\" width=\"60\" x=\"23\" y=\"58\"/><rect fill=\"#F8F8F8\" height=\"10\" style=\"stroke: #F8F8F8; stroke-width: 1.5;\" width=\"60\" x=\"23\" y=\"85.9375\"/><rect fill=\"none\" height=\"42.9375\" id=\"E3\" rx=\"10\" ry=\"10\" style=\"stroke: #383838; stroke-width: 1.5;\" width=\"60\" x=\"23\" y=\"58\"/><text fill=\"#000000\" font-family=\"sans-serif\" font-size=\"12\" font-style=\"italic\" lengthAdjust=\"spacingAndGlyphs\" textLength=\"53\" x=\"26.5\" y=\"74.1387\">«action»</text><text fill=\"#000000\" font-family=\"sans-serif\" font-size=\"12\" lengthAdjust=\"spacingAndGlyphs\" textLength=\"16\" x=\"45\" y=\"88.1074\">A2</text></a></g><g id=\"E1.E6\"><a href=\"psysml:d5fd7944-a8f1-4c67-81d3-da10d551f750\" target=\"_top\" title=\"psysml:d5fd7944-a8f1-4c67-81d3-da10d551f750\" xlink:actuate=\"onRequest\" xlink:href=\"psysml:d5fd7944-a8f1-4c67-81d3-da10d551f750\" xlink:show=\"new\" xlink:title=\"psysml:d5fd7944-a8f1-4c67-81d3-da10d551f750\" xlink:type=\"simple\"><rect fill=\"#FFFFFF\" height=\"42.9375\" id=\"E6\" rx=\"10\" ry=\"10\" style=\"stroke: #383838; stroke-width: 1.5;\" width=\"60\" x=\"23\" y=\"147\"/><rect fill=\"#F8F8F8\" height=\"37.9375\" rx=\"10\" ry=\"10\" style=\"stroke: #F8F8F8; stroke-width: 1.5;\" width=\"60\" x=\"23\" y=\"147\"/><rect fill=\"#F8F8F8\" height=\"10\" style=\"stroke: #F8F8F8; stroke-width: 1.5;\" width=\"60\" x=\"23\" y=\"174.9375\"/><rect fill=\"none\" height=\"42.9375\" id=\"E6\" rx=\"10\" ry=\"10\" style=\"stroke: #383838; stroke-width: 1.5;\" width=\"60\" x=\"23\" y=\"147\"/><text fill=\"#000000\" font-family=\"sans-serif\" font-size=\"12\" font-style=\"italic\" lengthAdjust=\"spacingAndGlyphs\" textLength=\"53\" x=\"26.5\" y=\"163.1387\">«action»</text><text fill=\"#000000\" font-family=\"sans-serif\" font-size=\"12\" lengthAdjust=\"spacingAndGlyphs\" textLength=\"16\" x=\"45\" y=\"177.1074\">B1</text></a></g><g id=\"E1.E7\"><a href=\"psysml:b7d3ffe5-6bb9-4232-a5c3-5eafb8d0b5f9\" target=\"_top\" title=\"psysml:b7d3ffe5-6bb9-4232-a5c3-5eafb8d0b5f9\" xlink:actuate=\"onRequest\" xlink:href=\"psysml:b7d3ffe5-6bb9-4232-a5c3-5eafb8d0b5f9\" xlink:show=\"new\" xlink:title=\"psysml:b7d3ffe5-6bb9-4232-a5c3-5eafb8d0b5f9\" xlink:type=\"simple\"><rect fill=\"#FFFFFF\" height=\"42.9375\" id=\"E7\" rx=\"10\" ry=\"10\" style=\"stroke: #383838; stroke-width: 1.5;\" width=\"60\" x=\"118\" y=\"147\"/><rect fill=\"#F8F8F8\" height=\"37.9375\" rx=\"10\" ry=\"10\" style=\"stroke: #F8F8F8; stroke-width: 1.5;\" width=\"60\" x=\"118\" y=\"147\"/><rect fill=\"#F8F8F8\" height=\"10\" style=\"stroke: #F8F8F8; stroke-width: 1.5;\" width=\"60\" x=\"118\" y=\"174.9375\"/><rect fill=\"none\" height=\"42.9375\" id=\"E7\" rx=\"10\" ry=\"10\" style=\"stroke: #383838; stroke-width: 1.5;\" width=\"60\" x=\"118\" y=\"147\"/><text fill=\"#000000\" font-family=\"sans-serif\" font-size=\"12\" font-style=\"italic\" lengthAdjust=\"spacingAndGlyphs\" textLength=\"53\" x=\"121.5\" y=\"163.1387\">«action»</text><text fill=\"#000000\" font-family=\"sans-serif\" font-size=\"12\" lengthAdjust=\"spacingAndGlyphs\" textLength=\"16\" x=\"140\" y=\"177.1074\">B2</text></a></g><!--MD5=[4d03bb2d0377dc85ccfab60ff574652b]\n",
       "link E2 to E4--><a href=\"psysml:a5b917a3-7538-4e28-aa62-755107929dae\" target=\"_top\" title=\"psysml:a5b917a3-7538-4e28-aa62-755107929dae\" xlink:actuate=\"onRequest\" xlink:href=\"psysml:a5b917a3-7538-4e28-aa62-755107929dae\" xlink:show=\"new\" xlink:title=\"psysml:a5b917a3-7538-4e28-aa62-755107929dae\" xlink:type=\"simple\"><path d=\"M118.42,101.14 C114.95,103.57 111.64,105.88 108.81,107.85 \" fill=\"none\" id=\"E2-&gt;E4\" style=\"stroke: #383838; stroke-width: 1.0;\"/><polygon fill=\"#383838\" points=\"104.3,111,113.9709,109.1361,108.4022,108.1413,109.397,102.5726,104.3,111\" style=\"stroke: #383838; stroke-width: 1.0;\"/><text fill=\"#000000\" font-family=\"sans-serif\" font-size=\"13\" lengthAdjust=\"spacingAndGlyphs\" textLength=\"7\" x=\"97.87\" y=\"99.9205\">*</text></a><!--MD5=[af87c684e3b0d8be13c1a698a818ef1e]\n",
       "link E3 to E4--><a href=\"psysml:b67a9087-1129-4a2e-aba3-334d88c3cbf2\" target=\"_top\" title=\"psysml:b67a9087-1129-4a2e-aba3-334d88c3cbf2\" xlink:actuate=\"onRequest\" xlink:href=\"psysml:b67a9087-1129-4a2e-aba3-334d88c3cbf2\" xlink:show=\"new\" xlink:title=\"psysml:b67a9087-1129-4a2e-aba3-334d88c3cbf2\" xlink:type=\"simple\"><path d=\"M81.96,101.14 C85.36,103.57 88.6,105.88 91.37,107.85 \" fill=\"none\" id=\"E3-&gt;E4\" style=\"stroke: #383838; stroke-width: 1.0;\"/><polygon fill=\"#383838\" points=\"95.79,111,90.7801,102.5206,91.7175,108.0992,86.1388,109.0366,95.79,111\" style=\"stroke: #383838; stroke-width: 1.0;\"/><text fill=\"#000000\" font-family=\"sans-serif\" font-size=\"13\" lengthAdjust=\"spacingAndGlyphs\" textLength=\"7\" x=\"91.1121\" y=\"103.6092\">*</text></a><!--MD5=[1b7591eae5389033d8d09a9d6721a717]\n",
       "link E4 to E5--><a href=\"psysml:9a17080e-ae46-40d4-b989-796f716175e4\" target=\"_top\" title=\"psysml:9a17080e-ae46-40d4-b989-796f716175e4\" xlink:actuate=\"onRequest\" xlink:href=\"psysml:9a17080e-ae46-40d4-b989-796f716175e4\" xlink:show=\"new\" xlink:title=\"psysml:9a17080e-ae46-40d4-b989-796f716175e4\" xlink:type=\"simple\"><path d=\"M100,119.08 C100,120.38 100,121.95 100,123.55 \" fill=\"none\" id=\"E4-&gt;E5\" style=\"stroke: #383838; stroke-width: 1.0;\"/><polygon fill=\"#383838\" points=\"100,128.7,104,119.7,100,123.7,96,119.7,100,128.7\" style=\"stroke: #383838; stroke-width: 1.0;\"/><text fill=\"#000000\" font-family=\"sans-serif\" font-size=\"13\" lengthAdjust=\"spacingAndGlyphs\" textLength=\"7\" x=\"42.9663\" y=\"135.9509\">*</text></a><!--MD5=[9120cf2e5df3bff93db8f754bbbc09b4]\n",
       "link E5 to E6--><a href=\"psysml:197b427e-ad07-4e53-856c-ed2b1bc0e06a\" target=\"_top\" title=\"psysml:197b427e-ad07-4e53-856c-ed2b1bc0e06a\" xlink:actuate=\"onRequest\" xlink:href=\"psysml:197b427e-ad07-4e53-856c-ed2b1bc0e06a\" xlink:show=\"new\" xlink:title=\"psysml:197b427e-ad07-4e53-856c-ed2b1bc0e06a\" xlink:type=\"simple\"><path d=\"M95.66,137.09 C93.25,138.81 89.99,141.13 86.35,143.73 \" fill=\"none\" id=\"E5-&gt;E6\" style=\"stroke: #383838; stroke-width: 1.0;\"/><polygon fill=\"#383838\" points=\"81.93,146.88,91.5812,144.9166,86.0025,143.9792,86.9399,138.4006,81.93,146.88\" style=\"stroke: #383838; stroke-width: 1.0;\"/><text fill=\"#000000\" font-family=\"sans-serif\" font-size=\"13\" lengthAdjust=\"spacingAndGlyphs\" textLength=\"7\" x=\"91.0509\" y=\"155.0031\">*</text></a><!--MD5=[3a9b96bfbf6b6ad89c494e81751bda47]\n",
       "link E5 to E7--><a href=\"psysml:b67e977c-71d2-45f4-9959-07a509bb3c26\" target=\"_top\" title=\"psysml:b67e977c-71d2-45f4-9959-07a509bb3c26\" xlink:actuate=\"onRequest\" xlink:href=\"psysml:b67e977c-71d2-45f4-9959-07a509bb3c26\" xlink:show=\"new\" xlink:title=\"psysml:b67e977c-71d2-45f4-9959-07a509bb3c26\" xlink:type=\"simple\"><path d=\"M104.43,137.09 C106.9,138.81 110.22,141.13 113.94,143.73 \" fill=\"none\" id=\"E5-&gt;E7\" style=\"stroke: #383838; stroke-width: 1.0;\"/><polygon fill=\"#383838\" points=\"118.46,146.88,113.3827,138.4407,114.3645,144.0117,108.7935,144.9935,118.46,146.88\" style=\"stroke: #383838; stroke-width: 1.0;\"/><text fill=\"#000000\" font-family=\"sans-serif\" font-size=\"13\" lengthAdjust=\"spacingAndGlyphs\" textLength=\"7\" x=\"102.9935\" y=\"155.3537\">*</text></a><!--MD5=[d1b29d0d2463da7ee34214cab9ba79af]\n",
       "@startuml\r\n",
       "skinparam ranksep 10\r\n",
       "skinparam rectangle {\r\n",
       " backgroundColor<<block>> LightGreen\r\n",
       "}\r\n",
       " skinparam monochrome true\r\n",
       "skinparam classbackgroundcolor white\r\n",
       "skinparam shadowing false\r\n",
       "skinparam wrapWidth 300\r\n",
       "hide circle\r\n",
       "\r\n",
       "rec def \"ControlNodeTest\" as E1  <<(T,blue) action def>> [[psysml:d75b3c07-b549-4c23-b2aa-d48828b6adea ]] {\r\n",
       "rec usage \"A1\" as E2  <<(T,blue) action>> [[psysml:c07d7274-d0ac-44b0-95a3-e3c0562da237 ]] {\r\n",
       "}\r\n",
       "\r\n",
       "rec usage \"A2\" as E3  <<(T,blue) action>> [[psysml:7bb05ae1-d1dd-4ff0-97ee-ce3344a0751d ]] {\r\n",
       "}\r\n",
       "\r\n",
       "join \"J\" as E4  [[psysml:f3bfce16-3667-4a48-a42e-fd992fa328bf ]] \r\n",
       "fork \"F\" as E5  [[psysml:08c848ef-d5ea-4388-acb9-5b8d01347f10 ]] \r\n",
       "rec usage \"B1\" as E6  <<(T,blue) action>> [[psysml:d5fd7944-a8f1-4c67-81d3-da10d551f750 ]] {\r\n",
       "}\r\n",
       "\r\n",
       "rec usage \"B2\" as E7  <<(T,blue) action>> [[psysml:b7d3ffe5-6bb9-4232-a5c3-5eafb8d0b5f9 ]] {\r\n",
       "}\r\n",
       "\r\n",
       "}\r\n",
       "\r\n",
       "E2 - -> \"*\"E4 [[psysml:a5b917a3-7538-4e28-aa62-755107929dae ]] \r\n",
       "E3 - -> \"*\"E4 [[psysml:b67a9087-1129-4a2e-aba3-334d88c3cbf2 ]] \r\n",
       "E4 - -> \"*\"E5 [[psysml:9a17080e-ae46-40d4-b989-796f716175e4 ]] \r\n",
       "E5 - -> \"*\"E6 [[psysml:197b427e-ad07-4e53-856c-ed2b1bc0e06a ]] \r\n",
       "E5 - -> \"*\"E7 [[psysml:b67e977c-71d2-45f4-9959-07a509bb3c26 ]] \r\n",
       "@enduml\r\n",
       "\n",
       "PlantUML version 1.2020.13(Sat Jun 13 12:26:38 UTC 2020)\n",
       "(EPL source distribution)\n",
       "Java Runtime: OpenJDK Runtime Environment\n",
       "JVM: OpenJDK 64-Bit Server VM\n",
       "Default Encoding: UTF-8\n",
       "Language: en\n",
       "Country: null\n",
       "--></g></svg>"
      ]
     },
     "execution_count": 5,
     "metadata": {},
     "output_type": "execute_result"
    }
   ],
   "source": [
    "%viz --style=\"COMPTREE\" --view=\"Interconnection\" \"ControlNodeTest\""
   ]
  },
  {
   "cell_type": "code",
   "execution_count": 6,
   "id": "a3b550d8",
   "metadata": {
    "execution": {
     "iopub.execute_input": "2021-08-04T06:26:29.181288Z",
     "iopub.status.busy": "2021-08-04T06:26:29.180856Z",
     "iopub.status.idle": "2021-08-04T06:26:29.213257Z",
     "shell.execute_reply": "2021-08-04T06:26:29.213593Z"
    }
   },
   "outputs": [
    {
     "data": {
      "image/svg+xml": [
       "<?xml version=\"1.0\" encoding=\"UTF-8\" standalone=\"no\"?><svg xmlns=\"http://www.w3.org/2000/svg\" xmlns:xlink=\"http://www.w3.org/1999/xlink\" contentScriptType=\"application/ecmascript\" contentStyleType=\"text/css\" height=\"211px\" preserveAspectRatio=\"none\" style=\"width:205px;height:211px;\" version=\"1.1\" viewBox=\"0 0 205 211\" width=\"205px\" zoomAndPan=\"magnify\"><defs/><g><!--MD5=[fbc87193dbaf4d95561dea2c320d4a47]\n",
       "cluster E1--><a href=\"psysml:d75b3c07-b549-4c23-b2aa-d48828b6adea\" target=\"_top\" title=\"psysml:d75b3c07-b549-4c23-b2aa-d48828b6adea\" xlink:actuate=\"onRequest\" xlink:href=\"psysml:d75b3c07-b549-4c23-b2aa-d48828b6adea\" xlink:show=\"new\" xlink:title=\"psysml:d75b3c07-b549-4c23-b2aa-d48828b6adea\" xlink:type=\"simple\"><rect fill=\"#FFFFFF\" height=\"193\" id=\"E1\" style=\"stroke: #383838; stroke-width: 1.5;\" width=\"187\" x=\"7\" y=\"7\"/><rect fill=\"#F8F8F8\" height=\"37.9375\" style=\"stroke: #383838; stroke-width: 1.5;\" width=\"187\" x=\"7\" y=\"7\"/><text fill=\"#000000\" font-family=\"sans-serif\" font-size=\"12\" font-style=\"italic\" lengthAdjust=\"spacingAndGlyphs\" textLength=\"77\" x=\"62\" y=\"23.1387\">«action def»</text><text fill=\"#000000\" font-family=\"sans-serif\" font-size=\"12\" lengthAdjust=\"spacingAndGlyphs\" textLength=\"105\" x=\"48\" y=\"37.1074\">ControlNodeTest</text></a><rect fill=\"#000000\" height=\"8\" style=\"stroke: none; stroke-width: 1.0;\" width=\"80\" x=\"60\" y=\"109\"/><rect fill=\"#000000\" height=\"8\" style=\"stroke: none; stroke-width: 1.0;\" width=\"80\" x=\"60\" y=\"125\"/><g id=\"E1.E2\"><a href=\"psysml:c07d7274-d0ac-44b0-95a3-e3c0562da237\" target=\"_top\" title=\"psysml:c07d7274-d0ac-44b0-95a3-e3c0562da237\" xlink:actuate=\"onRequest\" xlink:href=\"psysml:c07d7274-d0ac-44b0-95a3-e3c0562da237\" xlink:show=\"new\" xlink:title=\"psysml:c07d7274-d0ac-44b0-95a3-e3c0562da237\" xlink:type=\"simple\"><rect fill=\"#FFFFFF\" height=\"42.9375\" id=\"E2\" rx=\"10\" ry=\"10\" style=\"stroke: #383838; stroke-width: 1.5;\" width=\"60\" x=\"118\" y=\"58\"/><rect fill=\"#F8F8F8\" height=\"37.9375\" rx=\"10\" ry=\"10\" style=\"stroke: #F8F8F8; stroke-width: 1.5;\" width=\"60\" x=\"118\" y=\"58\"/><rect fill=\"#F8F8F8\" height=\"10\" style=\"stroke: #F8F8F8; stroke-width: 1.5;\" width=\"60\" x=\"118\" y=\"85.9375\"/><rect fill=\"none\" height=\"42.9375\" id=\"E2\" rx=\"10\" ry=\"10\" style=\"stroke: #383838; stroke-width: 1.5;\" width=\"60\" x=\"118\" y=\"58\"/><text fill=\"#000000\" font-family=\"sans-serif\" font-size=\"12\" font-style=\"italic\" lengthAdjust=\"spacingAndGlyphs\" textLength=\"53\" x=\"121.5\" y=\"74.1387\">«action»</text><text fill=\"#000000\" font-family=\"sans-serif\" font-size=\"12\" lengthAdjust=\"spacingAndGlyphs\" textLength=\"16\" x=\"140\" y=\"88.1074\">A1</text></a></g><g id=\"E1.E3\"><a href=\"psysml:7bb05ae1-d1dd-4ff0-97ee-ce3344a0751d\" target=\"_top\" title=\"psysml:7bb05ae1-d1dd-4ff0-97ee-ce3344a0751d\" xlink:actuate=\"onRequest\" xlink:href=\"psysml:7bb05ae1-d1dd-4ff0-97ee-ce3344a0751d\" xlink:show=\"new\" xlink:title=\"psysml:7bb05ae1-d1dd-4ff0-97ee-ce3344a0751d\" xlink:type=\"simple\"><rect fill=\"#FFFFFF\" height=\"42.9375\" id=\"E3\" rx=\"10\" ry=\"10\" style=\"stroke: #383838; stroke-width: 1.5;\" width=\"60\" x=\"23\" y=\"58\"/><rect fill=\"#F8F8F8\" height=\"37.9375\" rx=\"10\" ry=\"10\" style=\"stroke: #F8F8F8; stroke-width: 1.5;\" width=\"60\" x=\"23\" y=\"58\"/><rect fill=\"#F8F8F8\" height=\"10\" style=\"stroke: #F8F8F8; stroke-width: 1.5;\" width=\"60\" x=\"23\" y=\"85.9375\"/><rect fill=\"none\" height=\"42.9375\" id=\"E3\" rx=\"10\" ry=\"10\" style=\"stroke: #383838; stroke-width: 1.5;\" width=\"60\" x=\"23\" y=\"58\"/><text fill=\"#000000\" font-family=\"sans-serif\" font-size=\"12\" font-style=\"italic\" lengthAdjust=\"spacingAndGlyphs\" textLength=\"53\" x=\"26.5\" y=\"74.1387\">«action»</text><text fill=\"#000000\" font-family=\"sans-serif\" font-size=\"12\" lengthAdjust=\"spacingAndGlyphs\" textLength=\"16\" x=\"45\" y=\"88.1074\">A2</text></a></g><g id=\"E1.E6\"><a href=\"psysml:d5fd7944-a8f1-4c67-81d3-da10d551f750\" target=\"_top\" title=\"psysml:d5fd7944-a8f1-4c67-81d3-da10d551f750\" xlink:actuate=\"onRequest\" xlink:href=\"psysml:d5fd7944-a8f1-4c67-81d3-da10d551f750\" xlink:show=\"new\" xlink:title=\"psysml:d5fd7944-a8f1-4c67-81d3-da10d551f750\" xlink:type=\"simple\"><rect fill=\"#FFFFFF\" height=\"42.9375\" id=\"E6\" rx=\"10\" ry=\"10\" style=\"stroke: #383838; stroke-width: 1.5;\" width=\"60\" x=\"23\" y=\"141\"/><rect fill=\"#F8F8F8\" height=\"37.9375\" rx=\"10\" ry=\"10\" style=\"stroke: #F8F8F8; stroke-width: 1.5;\" width=\"60\" x=\"23\" y=\"141\"/><rect fill=\"#F8F8F8\" height=\"10\" style=\"stroke: #F8F8F8; stroke-width: 1.5;\" width=\"60\" x=\"23\" y=\"168.9375\"/><rect fill=\"none\" height=\"42.9375\" id=\"E6\" rx=\"10\" ry=\"10\" style=\"stroke: #383838; stroke-width: 1.5;\" width=\"60\" x=\"23\" y=\"141\"/><text fill=\"#000000\" font-family=\"sans-serif\" font-size=\"12\" font-style=\"italic\" lengthAdjust=\"spacingAndGlyphs\" textLength=\"53\" x=\"26.5\" y=\"157.1387\">«action»</text><text fill=\"#000000\" font-family=\"sans-serif\" font-size=\"12\" lengthAdjust=\"spacingAndGlyphs\" textLength=\"16\" x=\"45\" y=\"171.1074\">B1</text></a></g><g id=\"E1.E7\"><a href=\"psysml:b7d3ffe5-6bb9-4232-a5c3-5eafb8d0b5f9\" target=\"_top\" title=\"psysml:b7d3ffe5-6bb9-4232-a5c3-5eafb8d0b5f9\" xlink:actuate=\"onRequest\" xlink:href=\"psysml:b7d3ffe5-6bb9-4232-a5c3-5eafb8d0b5f9\" xlink:show=\"new\" xlink:title=\"psysml:b7d3ffe5-6bb9-4232-a5c3-5eafb8d0b5f9\" xlink:type=\"simple\"><rect fill=\"#FFFFFF\" height=\"42.9375\" id=\"E7\" rx=\"10\" ry=\"10\" style=\"stroke: #383838; stroke-width: 1.5;\" width=\"60\" x=\"118\" y=\"141\"/><rect fill=\"#F8F8F8\" height=\"37.9375\" rx=\"10\" ry=\"10\" style=\"stroke: #F8F8F8; stroke-width: 1.5;\" width=\"60\" x=\"118\" y=\"141\"/><rect fill=\"#F8F8F8\" height=\"10\" style=\"stroke: #F8F8F8; stroke-width: 1.5;\" width=\"60\" x=\"118\" y=\"168.9375\"/><rect fill=\"none\" height=\"42.9375\" id=\"E7\" rx=\"10\" ry=\"10\" style=\"stroke: #383838; stroke-width: 1.5;\" width=\"60\" x=\"118\" y=\"141\"/><text fill=\"#000000\" font-family=\"sans-serif\" font-size=\"12\" font-style=\"italic\" lengthAdjust=\"spacingAndGlyphs\" textLength=\"53\" x=\"121.5\" y=\"157.1387\">«action»</text><text fill=\"#000000\" font-family=\"sans-serif\" font-size=\"12\" lengthAdjust=\"spacingAndGlyphs\" textLength=\"16\" x=\"140\" y=\"171.1074\">B2</text></a></g><!--MD5=[4d03bb2d0377dc85ccfab60ff574652b]\n",
       "link E2 to E4--><a href=\"psysml:a5b917a3-7538-4e28-aa62-755107929dae\" target=\"_top\" title=\"psysml:a5b917a3-7538-4e28-aa62-755107929dae\" xlink:actuate=\"onRequest\" xlink:href=\"psysml:a5b917a3-7538-4e28-aa62-755107929dae\" xlink:show=\"new\" xlink:title=\"psysml:a5b917a3-7538-4e28-aa62-755107929dae\" xlink:type=\"simple\"><path d=\"M117.87,100.27 C114.67,102.37 111.63,104.37 108.98,106.1 \" fill=\"none\" id=\"E2-&gt;E4\" style=\"stroke: #383838; stroke-width: 1.0; stroke-dasharray: 7.0,7.0;\"/><polygon fill=\"#383838\" points=\"104.72,108.9,114.4401,107.3128,108.9021,106.1595,110.0554,100.6215,104.72,108.9\" style=\"stroke: #383838; stroke-width: 1.0;\"/></a><!--MD5=[af87c684e3b0d8be13c1a698a818ef1e]\n",
       "link E3 to E4--><a href=\"psysml:b67a9087-1129-4a2e-aba3-334d88c3cbf2\" target=\"_top\" title=\"psysml:b67a9087-1129-4a2e-aba3-334d88c3cbf2\" xlink:actuate=\"onRequest\" xlink:href=\"psysml:b67a9087-1129-4a2e-aba3-334d88c3cbf2\" xlink:show=\"new\" xlink:title=\"psysml:b67a9087-1129-4a2e-aba3-334d88c3cbf2\" xlink:type=\"simple\"><path d=\"M83.03,100.63 C85.85,102.52 88.54,104.32 90.9,105.9 \" fill=\"none\" id=\"E3-&gt;E4\" style=\"stroke: #383838; stroke-width: 1.0; stroke-dasharray: 7.0,7.0;\"/><polygon fill=\"#383838\" points=\"95.26,108.82,90.0101,100.487,91.1063,106.0366,85.5567,107.1328,95.26,108.82\" style=\"stroke: #383838; stroke-width: 1.0;\"/></a><!--MD5=[1b7591eae5389033d8d09a9d6721a717]\n",
       "link E4 to E5--><a href=\"psysml:9a17080e-ae46-40d4-b989-796f716175e4\" target=\"_top\" title=\"psysml:9a17080e-ae46-40d4-b989-796f716175e4\" xlink:actuate=\"onRequest\" xlink:href=\"psysml:9a17080e-ae46-40d4-b989-796f716175e4\" xlink:show=\"new\" xlink:title=\"psysml:9a17080e-ae46-40d4-b989-796f716175e4\" xlink:type=\"simple\"><path d=\"M100,117.25 C100,118.05 100,118.94 100,119.86 \" fill=\"none\" id=\"E4-&gt;E5\" style=\"stroke: #383838; stroke-width: 1.0; stroke-dasharray: 7.0,7.0;\"/><polygon fill=\"#383838\" points=\"100,124.96,104,115.96,100,119.96,96,115.96,100,124.96\" style=\"stroke: #383838; stroke-width: 1.0;\"/></a><!--MD5=[9120cf2e5df3bff93db8f754bbbc09b4]\n",
       "link E5 to E6--><a href=\"psysml:197b427e-ad07-4e53-856c-ed2b1bc0e06a\" target=\"_top\" title=\"psysml:197b427e-ad07-4e53-856c-ed2b1bc0e06a\" xlink:actuate=\"onRequest\" xlink:href=\"psysml:197b427e-ad07-4e53-856c-ed2b1bc0e06a\" xlink:show=\"new\" xlink:title=\"psysml:197b427e-ad07-4e53-856c-ed2b1bc0e06a\" xlink:type=\"simple\"><path d=\"M95.32,133.14 C93.21,134.55 90.52,136.35 87.53,138.36 \" fill=\"none\" id=\"E5-&gt;E6\" style=\"stroke: #383838; stroke-width: 1.0; stroke-dasharray: 7.0,7.0;\"/><polygon fill=\"#383838\" points=\"83.27,141.21,92.9706,139.5074,87.4192,138.42,88.5066,132.8687,83.27,141.21\" style=\"stroke: #383838; stroke-width: 1.0;\"/></a><!--MD5=[3a9b96bfbf6b6ad89c494e81751bda47]\n",
       "link E5 to E7--><a href=\"psysml:b67e977c-71d2-45f4-9959-07a509bb3c26\" target=\"_top\" title=\"psysml:b67e977c-71d2-45f4-9959-07a509bb3c26\" xlink:actuate=\"onRequest\" xlink:href=\"psysml:b67e977c-71d2-45f4-9959-07a509bb3c26\" xlink:show=\"new\" xlink:title=\"psysml:b67e977c-71d2-45f4-9959-07a509bb3c26\" xlink:type=\"simple\"><path d=\"M104.78,133.14 C107.16,134.7 110.28,136.75 113.75,139.02 \" fill=\"none\" id=\"E5-&gt;E7\" style=\"stroke: #383838; stroke-width: 1.0; stroke-dasharray: 7.0,7.0;\"/><polygon fill=\"#383838\" points=\"117.96,141.79,112.6246,133.5115,113.7779,139.0495,108.2399,140.2028,117.96,141.79\" style=\"stroke: #383838; stroke-width: 1.0;\"/></a><!--MD5=[c5d88dba84586148daef199f4657f91b]\n",
       "@startuml\r\n",
       "skinparam ranksep 8\r\n",
       " skinparam monochrome true\r\n",
       "skinparam classbackgroundcolor white\r\n",
       "skinparam shadowing false\r\n",
       "skinparam wrapWidth 300\r\n",
       "hide circle\r\n",
       "\r\n",
       "rec def \"ControlNodeTest\" as E1  <<(T,blue) action def>> [[psysml:d75b3c07-b549-4c23-b2aa-d48828b6adea ]] {\r\n",
       "rec usage \"A1\" as E2  <<(T,blue) action>> [[psysml:c07d7274-d0ac-44b0-95a3-e3c0562da237 ]] {\r\n",
       "}\r\n",
       "\r\n",
       "rec usage \"A2\" as E3  <<(T,blue) action>> [[psysml:7bb05ae1-d1dd-4ff0-97ee-ce3344a0751d ]] {\r\n",
       "}\r\n",
       "\r\n",
       "join \"J\" as E4  [[psysml:f3bfce16-3667-4a48-a42e-fd992fa328bf ]] \r\n",
       "fork \"F\" as E5  [[psysml:08c848ef-d5ea-4388-acb9-5b8d01347f10 ]] \r\n",
       "rec usage \"B1\" as E6  <<(T,blue) action>> [[psysml:d5fd7944-a8f1-4c67-81d3-da10d551f750 ]] {\r\n",
       "}\r\n",
       "\r\n",
       "rec usage \"B2\" as E7  <<(T,blue) action>> [[psysml:b7d3ffe5-6bb9-4232-a5c3-5eafb8d0b5f9 ]] {\r\n",
       "}\r\n",
       "\r\n",
       "}\r\n",
       "\r\n",
       "E2 ..> E4 [[psysml:a5b917a3-7538-4e28-aa62-755107929dae ]] \r\n",
       "E3 ..> E4 [[psysml:b67a9087-1129-4a2e-aba3-334d88c3cbf2 ]] \r\n",
       "E4 ..> E5 [[psysml:9a17080e-ae46-40d4-b989-796f716175e4 ]] \r\n",
       "E5 ..> E6 [[psysml:197b427e-ad07-4e53-856c-ed2b1bc0e06a ]] \r\n",
       "E5 ..> E7 [[psysml:b67e977c-71d2-45f4-9959-07a509bb3c26 ]] \r\n",
       "@enduml\r\n",
       "\n",
       "PlantUML version 1.2020.13(Sat Jun 13 12:26:38 UTC 2020)\n",
       "(EPL source distribution)\n",
       "Java Runtime: OpenJDK Runtime Environment\n",
       "JVM: OpenJDK 64-Bit Server VM\n",
       "Default Encoding: UTF-8\n",
       "Language: en\n",
       "Country: null\n",
       "--></g></svg>"
      ]
     },
     "execution_count": 6,
     "metadata": {},
     "output_type": "execute_result"
    }
   ],
   "source": [
    "%viz --style=\"COMPTREE\" --view=\"Action\" \"ControlNodeTest\""
   ]
  },
  {
   "cell_type": "code",
   "execution_count": 7,
   "id": "79d792f4",
   "metadata": {
    "execution": {
     "iopub.execute_input": "2021-08-04T06:26:29.263679Z",
     "iopub.status.busy": "2021-08-04T06:26:29.263228Z",
     "iopub.status.idle": "2021-08-04T06:26:29.308866Z",
     "shell.execute_reply": "2021-08-04T06:26:29.308482Z"
    }
   },
   "outputs": [
    {
     "data": {
      "image/svg+xml": [
       "<?xml version=\"1.0\" encoding=\"UTF-8\" standalone=\"no\"?><svg xmlns=\"http://www.w3.org/2000/svg\" xmlns:xlink=\"http://www.w3.org/1999/xlink\" contentScriptType=\"application/ecmascript\" contentStyleType=\"text/css\" height=\"169px\" preserveAspectRatio=\"none\" style=\"width:557px;height:169px;\" version=\"1.1\" viewBox=\"0 0 557 169\" width=\"557px\" zoomAndPan=\"magnify\"><defs/><g><!--MD5=[43c9051892ef23e1a46a86907403d788]\n",
       "class E1--><a href=\"psysml:d75b3c07-b549-4c23-b2aa-d48828b6adea\" target=\"_top\" title=\"psysml:d75b3c07-b549-4c23-b2aa-d48828b6adea\" xlink:actuate=\"onRequest\" xlink:href=\"psysml:d75b3c07-b549-4c23-b2aa-d48828b6adea\" xlink:show=\"new\" xlink:title=\"psysml:d75b3c07-b549-4c23-b2aa-d48828b6adea\" xlink:type=\"simple\"><rect fill=\"#FFFFFF\" height=\"45.9375\" id=\"E1\" style=\"stroke: #383838; stroke-width: 1.5;\" width=\"111\" x=\"220\" y=\"7\"/><text fill=\"#000000\" font-family=\"sans-serif\" font-size=\"12\" font-style=\"italic\" lengthAdjust=\"spacingAndGlyphs\" textLength=\"77\" x=\"237\" y=\"23.1387\">«action def»</text><text fill=\"#000000\" font-family=\"sans-serif\" font-size=\"12\" lengthAdjust=\"spacingAndGlyphs\" textLength=\"105\" x=\"223\" y=\"37.1074\">ControlNodeTest</text><line style=\"stroke: #383838; stroke-width: 1.5;\" x1=\"221\" x2=\"330\" y1=\"44.9375\" y2=\"44.9375\"/></a><!--MD5=[b4997ac47864f28c2f74865a473b2911]\n",
       "class E2--><a href=\"psysml:c07d7274-d0ac-44b0-95a3-e3c0562da237\" target=\"_top\" title=\"psysml:c07d7274-d0ac-44b0-95a3-e3c0562da237\" xlink:actuate=\"onRequest\" xlink:href=\"psysml:c07d7274-d0ac-44b0-95a3-e3c0562da237\" xlink:show=\"new\" xlink:title=\"psysml:c07d7274-d0ac-44b0-95a3-e3c0562da237\" xlink:type=\"simple\"><rect fill=\"#FFFFFF\" height=\"45.9375\" id=\"E2\" rx=\"10\" ry=\"10\" style=\"stroke: #383838; stroke-width: 1.5;\" width=\"55\" x=\"7\" y=\"113\"/><text fill=\"#000000\" font-family=\"sans-serif\" font-size=\"12\" font-style=\"italic\" lengthAdjust=\"spacingAndGlyphs\" textLength=\"53\" x=\"8\" y=\"129.1387\">«action»</text><text fill=\"#000000\" font-family=\"sans-serif\" font-size=\"12\" lengthAdjust=\"spacingAndGlyphs\" textLength=\"16\" x=\"26.5\" y=\"143.1074\">A1</text><line style=\"stroke: #383838; stroke-width: 1.5;\" x1=\"8\" x2=\"61\" y1=\"150.9375\" y2=\"150.9375\"/></a><!--MD5=[09b614a08d8cba4a07c9adeb5e0fee81]\n",
       "class E3--><a href=\"psysml:7bb05ae1-d1dd-4ff0-97ee-ce3344a0751d\" target=\"_top\" title=\"psysml:7bb05ae1-d1dd-4ff0-97ee-ce3344a0751d\" xlink:actuate=\"onRequest\" xlink:href=\"psysml:7bb05ae1-d1dd-4ff0-97ee-ce3344a0751d\" xlink:show=\"new\" xlink:title=\"psysml:7bb05ae1-d1dd-4ff0-97ee-ce3344a0751d\" xlink:type=\"simple\"><rect fill=\"#FFFFFF\" height=\"45.9375\" id=\"E3\" rx=\"10\" ry=\"10\" style=\"stroke: #383838; stroke-width: 1.5;\" width=\"55\" x=\"97\" y=\"113\"/><text fill=\"#000000\" font-family=\"sans-serif\" font-size=\"12\" font-style=\"italic\" lengthAdjust=\"spacingAndGlyphs\" textLength=\"53\" x=\"98\" y=\"129.1387\">«action»</text><text fill=\"#000000\" font-family=\"sans-serif\" font-size=\"12\" lengthAdjust=\"spacingAndGlyphs\" textLength=\"16\" x=\"116.5\" y=\"143.1074\">A2</text><line style=\"stroke: #383838; stroke-width: 1.5;\" x1=\"98\" x2=\"151\" y1=\"150.9375\" y2=\"150.9375\"/></a><!--MD5=[ebbe1d658d1005bcc118a6aa81145e00]\n",
       "class E4--><a href=\"psysml:f3bfce16-3667-4a48-a42e-fd992fa328bf\" target=\"_top\" title=\"psysml:f3bfce16-3667-4a48-a42e-fd992fa328bf\" xlink:actuate=\"onRequest\" xlink:href=\"psysml:f3bfce16-3667-4a48-a42e-fd992fa328bf\" xlink:show=\"new\" xlink:title=\"psysml:f3bfce16-3667-4a48-a42e-fd992fa328bf\" xlink:type=\"simple\"><rect fill=\"#FFFFFF\" height=\"45.9375\" id=\"E4\" rx=\"10\" ry=\"10\" style=\"stroke: #383838; stroke-width: 1.5;\" width=\"71\" x=\"187\" y=\"113\"/><text fill=\"#000000\" font-family=\"sans-serif\" font-size=\"12\" font-style=\"italic\" lengthAdjust=\"spacingAndGlyphs\" textLength=\"69\" x=\"188\" y=\"129.1387\">«joinNode»</text><text fill=\"#000000\" font-family=\"sans-serif\" font-size=\"12\" lengthAdjust=\"spacingAndGlyphs\" textLength=\"3\" x=\"221\" y=\"143.1074\">J</text><line style=\"stroke: #383838; stroke-width: 1.5;\" x1=\"188\" x2=\"257\" y1=\"150.9375\" y2=\"150.9375\"/></a><!--MD5=[270fce915f116d4de14055a7c1d9a0f3]\n",
       "class E5--><a href=\"psysml:08c848ef-d5ea-4388-acb9-5b8d01347f10\" target=\"_top\" title=\"psysml:08c848ef-d5ea-4388-acb9-5b8d01347f10\" xlink:actuate=\"onRequest\" xlink:href=\"psysml:08c848ef-d5ea-4388-acb9-5b8d01347f10\" xlink:show=\"new\" xlink:title=\"psysml:08c848ef-d5ea-4388-acb9-5b8d01347f10\" xlink:type=\"simple\"><rect fill=\"#FFFFFF\" height=\"45.9375\" id=\"E5\" rx=\"10\" ry=\"10\" style=\"stroke: #383838; stroke-width: 1.5;\" width=\"73\" x=\"293\" y=\"113\"/><text fill=\"#000000\" font-family=\"sans-serif\" font-size=\"12\" font-style=\"italic\" lengthAdjust=\"spacingAndGlyphs\" textLength=\"71\" x=\"294\" y=\"129.1387\">«forkNode»</text><text fill=\"#000000\" font-family=\"sans-serif\" font-size=\"12\" lengthAdjust=\"spacingAndGlyphs\" textLength=\"7\" x=\"326\" y=\"143.1074\">F</text><line style=\"stroke: #383838; stroke-width: 1.5;\" x1=\"294\" x2=\"365\" y1=\"150.9375\" y2=\"150.9375\"/></a><!--MD5=[60a26617385b1d2d0262a64233df1f8d]\n",
       "class E6--><a href=\"psysml:d5fd7944-a8f1-4c67-81d3-da10d551f750\" target=\"_top\" title=\"psysml:d5fd7944-a8f1-4c67-81d3-da10d551f750\" xlink:actuate=\"onRequest\" xlink:href=\"psysml:d5fd7944-a8f1-4c67-81d3-da10d551f750\" xlink:show=\"new\" xlink:title=\"psysml:d5fd7944-a8f1-4c67-81d3-da10d551f750\" xlink:type=\"simple\"><rect fill=\"#FFFFFF\" height=\"45.9375\" id=\"E6\" rx=\"10\" ry=\"10\" style=\"stroke: #383838; stroke-width: 1.5;\" width=\"55\" x=\"401\" y=\"113\"/><text fill=\"#000000\" font-family=\"sans-serif\" font-size=\"12\" font-style=\"italic\" lengthAdjust=\"spacingAndGlyphs\" textLength=\"53\" x=\"402\" y=\"129.1387\">«action»</text><text fill=\"#000000\" font-family=\"sans-serif\" font-size=\"12\" lengthAdjust=\"spacingAndGlyphs\" textLength=\"16\" x=\"420.5\" y=\"143.1074\">B1</text><line style=\"stroke: #383838; stroke-width: 1.5;\" x1=\"402\" x2=\"455\" y1=\"150.9375\" y2=\"150.9375\"/></a><!--MD5=[2156ba9850f5573cc1fc38a6a4b2f02b]\n",
       "class E7--><a href=\"psysml:b7d3ffe5-6bb9-4232-a5c3-5eafb8d0b5f9\" target=\"_top\" title=\"psysml:b7d3ffe5-6bb9-4232-a5c3-5eafb8d0b5f9\" xlink:actuate=\"onRequest\" xlink:href=\"psysml:b7d3ffe5-6bb9-4232-a5c3-5eafb8d0b5f9\" xlink:show=\"new\" xlink:title=\"psysml:b7d3ffe5-6bb9-4232-a5c3-5eafb8d0b5f9\" xlink:type=\"simple\"><rect fill=\"#FFFFFF\" height=\"45.9375\" id=\"E7\" rx=\"10\" ry=\"10\" style=\"stroke: #383838; stroke-width: 1.5;\" width=\"55\" x=\"491\" y=\"113\"/><text fill=\"#000000\" font-family=\"sans-serif\" font-size=\"12\" font-style=\"italic\" lengthAdjust=\"spacingAndGlyphs\" textLength=\"53\" x=\"492\" y=\"129.1387\">«action»</text><text fill=\"#000000\" font-family=\"sans-serif\" font-size=\"12\" lengthAdjust=\"spacingAndGlyphs\" textLength=\"16\" x=\"510.5\" y=\"143.1074\">B2</text><line style=\"stroke: #383838; stroke-width: 1.5;\" x1=\"492\" x2=\"545\" y1=\"150.9375\" y2=\"150.9375\"/></a><!--MD5=[a523cb2a0b79ecf9065ad8783f96c320]\n",
       "reverse link E1 to E2--><a href=\"psysml:090da899-d633-4f68-ac70-93df987c1f89\" target=\"_top\" title=\"psysml:090da899-d633-4f68-ac70-93df987c1f89\" xlink:actuate=\"onRequest\" xlink:href=\"psysml:090da899-d633-4f68-ac70-93df987c1f89\" xlink:show=\"new\" xlink:title=\"psysml:090da899-d633-4f68-ac70-93df987c1f89\" xlink:type=\"simple\"><path d=\"M207.75,58.2 C169.81,73.72 121.76,93.85 79.5,113 C73.96,115.51 68.08,118.3 62.47,121.01 \" fill=\"none\" id=\"E1&lt;-E2\" style=\"stroke: #383838; stroke-width: 1.0;\"/><polygon fill=\"#383838\" points=\"220.21,53.12,213.1443,51.6791,209.0967,57.6471,216.1624,59.088,220.21,53.12\" style=\"stroke: #383838; stroke-width: 1.0;\"/><text fill=\"#000000\" font-family=\"sans-serif\" font-size=\"13\" lengthAdjust=\"spacingAndGlyphs\" textLength=\"7\" x=\"70.1408\" y=\"112.6188\">*</text></a><!--MD5=[5d7b3810b1dd9b5164bea1151b29b665]\n",
       "reverse link E1 to E3--><a href=\"psysml:797c4c3c-8cfb-4ed1-914f-99d654db3cec\" target=\"_top\" title=\"psysml:797c4c3c-8cfb-4ed1-914f-99d654db3cec\" xlink:actuate=\"onRequest\" xlink:href=\"psysml:797c4c3c-8cfb-4ed1-914f-99d654db3cec\" xlink:show=\"new\" xlink:title=\"psysml:797c4c3c-8cfb-4ed1-914f-99d654db3cec\" xlink:type=\"simple\"><path d=\"M232.52,60.6 C206.81,78.31 174.87,100.31 152.42,115.77 \" fill=\"none\" id=\"E1&lt;-E3\" style=\"stroke: #383838; stroke-width: 1.0;\"/><polygon fill=\"#383838\" points=\"243.48,53.06,236.2697,53.1655,233.5938,59.8617,240.8041,59.7562,243.48,53.06\" style=\"stroke: #383838; stroke-width: 1.0;\"/><text fill=\"#000000\" font-family=\"sans-serif\" font-size=\"13\" lengthAdjust=\"spacingAndGlyphs\" textLength=\"7\" x=\"160.0786\" y=\"106.1015\">*</text></a><!--MD5=[f2c5c03aa1e8c0ba21c10a05e6444b8e]\n",
       "reverse link E1 to E4--><a href=\"psysml:70a466ea-83ad-4e19-afa5-d192b13fd9c7\" target=\"_top\" title=\"psysml:70a466ea-83ad-4e19-afa5-d192b13fd9c7\" xlink:actuate=\"onRequest\" xlink:href=\"psysml:70a466ea-83ad-4e19-afa5-d192b13fd9c7\" xlink:show=\"new\" xlink:title=\"psysml:70a466ea-83ad-4e19-afa5-d192b13fd9c7\" xlink:type=\"simple\"><path d=\"M258.16,65.03 C250.13,80.78 240.82,99.06 233.72,112.98 \" fill=\"none\" id=\"E1&lt;-E4\" style=\"stroke: #383838; stroke-width: 1.0;\"/><polygon fill=\"#383838\" points=\"264.26,53.06,257.9728,56.5915,258.8145,63.7533,265.1017,60.2218,264.26,53.06\" style=\"stroke: #383838; stroke-width: 1.0;\"/></a><!--MD5=[33238bef88d6431a141d8bc8fb12bca0]\n",
       "reverse link E1 to E5--><a href=\"psysml:26253911-6243-446d-b791-23c0e42b91a5\" target=\"_top\" title=\"psysml:26253911-6243-446d-b791-23c0e42b91a5\" xlink:actuate=\"onRequest\" xlink:href=\"psysml:26253911-6243-446d-b791-23c0e42b91a5\" xlink:show=\"new\" xlink:title=\"psysml:26253911-6243-446d-b791-23c0e42b91a5\" xlink:type=\"simple\"><path d=\"M293.17,65.03 C301.35,80.78 310.84,99.06 318.06,112.98 \" fill=\"none\" id=\"E1&lt;-E5\" style=\"stroke: #383838; stroke-width: 1.0;\"/><polygon fill=\"#383838\" points=\"286.95,53.06,286.1611,60.2278,292.4742,63.7129,293.263,56.545,286.95,53.06\" style=\"stroke: #383838; stroke-width: 1.0;\"/></a><!--MD5=[aca2ef284c2b1b90e17e73bf3f292c07]\n",
       "reverse link E1 to E6--><a href=\"psysml:e8354a48-cb93-46c3-a69e-19a4acf29f71\" target=\"_top\" title=\"psysml:e8354a48-cb93-46c3-a69e-19a4acf29f71\" xlink:actuate=\"onRequest\" xlink:href=\"psysml:e8354a48-cb93-46c3-a69e-19a4acf29f71\" xlink:show=\"new\" xlink:title=\"psysml:e8354a48-cb93-46c3-a69e-19a4acf29f71\" xlink:type=\"simple\"><path d=\"M318.77,60.41 C345.06,78.28 377.86,100.58 400.72,116.11 \" fill=\"none\" id=\"E1&lt;-E6\" style=\"stroke: #383838; stroke-width: 1.0;\"/><polygon fill=\"#383838\" points=\"307.95,53.06,310.6626,59.7415,317.8734,59.8074,315.1608,53.1259,307.95,53.06\" style=\"stroke: #383838; stroke-width: 1.0;\"/><text fill=\"#000000\" font-family=\"sans-serif\" font-size=\"13\" lengthAdjust=\"spacingAndGlyphs\" textLength=\"7\" x=\"386.0955\" y=\"106.5244\">*</text></a><!--MD5=[fc9706a6b2cf8c0e423679d303750d3f]\n",
       "reverse link E1 to E7--><a href=\"psysml:8dca6daf-962f-46a3-bb74-22037bd04295\" target=\"_top\" title=\"psysml:8dca6daf-962f-46a3-bb74-22037bd04295\" xlink:actuate=\"onRequest\" xlink:href=\"psysml:8dca6daf-962f-46a3-bb74-22037bd04295\" xlink:show=\"new\" xlink:title=\"psysml:8dca6daf-962f-46a3-bb74-22037bd04295\" xlink:type=\"simple\"><path d=\"M343.46,57.93 C381.88,73.46 430.65,93.68 473.5,113 C479.05,115.5 484.93,118.28 490.54,121 \" fill=\"none\" id=\"E1&lt;-E7\" style=\"stroke: #383838; stroke-width: 1.0;\"/><polygon fill=\"#383838\" points=\"331.37,53.06,335.4407,59.0122,342.5008,57.544,338.43,51.5917,331.37,53.06\" style=\"stroke: #383838; stroke-width: 1.0;\"/><text fill=\"#000000\" font-family=\"sans-serif\" font-size=\"13\" lengthAdjust=\"spacingAndGlyphs\" textLength=\"7\" x=\"475.8716\" y=\"112.6063\">*</text></a><!--MD5=[f29e6f3f44ca1d827caca4bf83840ace]\n",
       "@startuml\r\n",
       " skinparam monochrome true\r\n",
       "skinparam classbackgroundcolor white\r\n",
       "skinparam shadowing false\r\n",
       "skinparam wrapWidth 300\r\n",
       "hide circle\r\n",
       "\r\n",
       "comp def \"ControlNodeTest\" as E1  <<(T,blue) action def>> [[psysml:d75b3c07-b549-4c23-b2aa-d48828b6adea ]] {\r\n",
       "}\r\n",
       "comp usage \"A1\" as E2  <<(T,blue) action>> [[psysml:c07d7274-d0ac-44b0-95a3-e3c0562da237 ]] {\r\n",
       "}\r\n",
       "comp usage \"A2\" as E3  <<(T,blue) action>> [[psysml:7bb05ae1-d1dd-4ff0-97ee-ce3344a0751d ]] {\r\n",
       "}\r\n",
       "comp usage \"J\" as E4  <<(T,blue) joinNode>> [[psysml:f3bfce16-3667-4a48-a42e-fd992fa328bf ]] {\r\n",
       "}\r\n",
       "comp usage \"F\" as E5  <<(T,blue) forkNode>> [[psysml:08c848ef-d5ea-4388-acb9-5b8d01347f10 ]] {\r\n",
       "}\r\n",
       "comp usage \"B1\" as E6  <<(T,blue) action>> [[psysml:d5fd7944-a8f1-4c67-81d3-da10d551f750 ]] {\r\n",
       "}\r\n",
       "comp usage \"B2\" as E7  <<(T,blue) action>> [[psysml:b7d3ffe5-6bb9-4232-a5c3-5eafb8d0b5f9 ]] {\r\n",
       "}\r\n",
       "E1 *- - \"*\"E2 [[psysml:090da899-d633-4f68-ac70-93df987c1f89 ]] \r\n",
       "E1 *- - \"*\"E3 [[psysml:797c4c3c-8cfb-4ed1-914f-99d654db3cec ]] \r\n",
       "E1 *- - E4 [[psysml:70a466ea-83ad-4e19-afa5-d192b13fd9c7 ]] \r\n",
       "E1 *- - E5 [[psysml:26253911-6243-446d-b791-23c0e42b91a5 ]] \r\n",
       "E1 *- - \"*\"E6 [[psysml:e8354a48-cb93-46c3-a69e-19a4acf29f71 ]] \r\n",
       "E1 *- - \"*\"E7 [[psysml:8dca6daf-962f-46a3-bb74-22037bd04295 ]] \r\n",
       "@enduml\r\n",
       "\n",
       "PlantUML version 1.2020.13(Sat Jun 13 12:26:38 UTC 2020)\n",
       "(EPL source distribution)\n",
       "Java Runtime: OpenJDK Runtime Environment\n",
       "JVM: OpenJDK 64-Bit Server VM\n",
       "Default Encoding: UTF-8\n",
       "Language: en\n",
       "Country: null\n",
       "--></g></svg>"
      ]
     },
     "execution_count": 7,
     "metadata": {},
     "output_type": "execute_result"
    }
   ],
   "source": [
    "%viz --style=\"COMPTREE\" --view=\"Sequence\" \"ControlNodeTest\""
   ]
  },
  {
   "cell_type": "code",
   "execution_count": 8,
   "id": "a7af771c",
   "metadata": {
    "execution": {
     "iopub.execute_input": "2021-08-04T06:26:29.358615Z",
     "iopub.status.busy": "2021-08-04T06:26:29.358208Z",
     "iopub.status.idle": "2021-08-04T06:26:29.400639Z",
     "shell.execute_reply": "2021-08-04T06:26:29.400333Z"
    }
   },
   "outputs": [
    {
     "data": {
      "image/svg+xml": [
       "<?xml version=\"1.0\" encoding=\"UTF-8\" standalone=\"no\"?><svg xmlns=\"http://www.w3.org/2000/svg\" xmlns:xlink=\"http://www.w3.org/1999/xlink\" contentScriptType=\"application/ecmascript\" contentStyleType=\"text/css\" height=\"367px\" preserveAspectRatio=\"none\" style=\"width:205px;height:367px;\" version=\"1.1\" viewBox=\"0 0 205 367\" width=\"205px\" zoomAndPan=\"magnify\"><defs/><g><!--MD5=[fbc87193dbaf4d95561dea2c320d4a47]\n",
       "cluster E1--><a href=\"psysml:d75b3c07-b549-4c23-b2aa-d48828b6adea\" target=\"_top\" title=\"psysml:d75b3c07-b549-4c23-b2aa-d48828b6adea\" xlink:actuate=\"onRequest\" xlink:href=\"psysml:d75b3c07-b549-4c23-b2aa-d48828b6adea\" xlink:show=\"new\" xlink:title=\"psysml:d75b3c07-b549-4c23-b2aa-d48828b6adea\" xlink:type=\"simple\"><rect fill=\"#FFFFFF\" height=\"349\" id=\"E1\" style=\"stroke: #383838; stroke-width: 1.5;\" width=\"187\" x=\"7\" y=\"7\"/><rect fill=\"#F8F8F8\" height=\"37.9375\" style=\"stroke: #383838; stroke-width: 1.5;\" width=\"187\" x=\"7\" y=\"7\"/><text fill=\"#000000\" font-family=\"sans-serif\" font-size=\"12\" font-style=\"italic\" lengthAdjust=\"spacingAndGlyphs\" textLength=\"77\" x=\"62\" y=\"23.1387\">«action def»</text><text fill=\"#000000\" font-family=\"sans-serif\" font-size=\"12\" lengthAdjust=\"spacingAndGlyphs\" textLength=\"105\" x=\"48\" y=\"37.1074\">ControlNodeTest</text></a><rect fill=\"#000000\" height=\"8\" style=\"stroke: none; stroke-width: 1.0;\" width=\"80\" x=\"60\" y=\"161\"/><rect fill=\"#000000\" height=\"8\" style=\"stroke: none; stroke-width: 1.0;\" width=\"80\" x=\"60\" y=\"229\"/><g id=\"E1.E2\"><a href=\"psysml:c07d7274-d0ac-44b0-95a3-e3c0562da237\" target=\"_top\" title=\"psysml:c07d7274-d0ac-44b0-95a3-e3c0562da237\" xlink:actuate=\"onRequest\" xlink:href=\"psysml:c07d7274-d0ac-44b0-95a3-e3c0562da237\" xlink:show=\"new\" xlink:title=\"psysml:c07d7274-d0ac-44b0-95a3-e3c0562da237\" xlink:type=\"simple\"><rect fill=\"#FFFFFF\" height=\"42.9375\" id=\"E2\" rx=\"10\" ry=\"10\" style=\"stroke: #383838; stroke-width: 1.5;\" width=\"60\" x=\"118\" y=\"58\"/><rect fill=\"#F8F8F8\" height=\"37.9375\" rx=\"10\" ry=\"10\" style=\"stroke: #F8F8F8; stroke-width: 1.5;\" width=\"60\" x=\"118\" y=\"58\"/><rect fill=\"#F8F8F8\" height=\"10\" style=\"stroke: #F8F8F8; stroke-width: 1.5;\" width=\"60\" x=\"118\" y=\"85.9375\"/><rect fill=\"none\" height=\"42.9375\" id=\"E2\" rx=\"10\" ry=\"10\" style=\"stroke: #383838; stroke-width: 1.5;\" width=\"60\" x=\"118\" y=\"58\"/><text fill=\"#000000\" font-family=\"sans-serif\" font-size=\"12\" font-style=\"italic\" lengthAdjust=\"spacingAndGlyphs\" textLength=\"53\" x=\"121.5\" y=\"74.1387\">«action»</text><text fill=\"#000000\" font-family=\"sans-serif\" font-size=\"12\" lengthAdjust=\"spacingAndGlyphs\" textLength=\"16\" x=\"140\" y=\"88.1074\">A1</text></a></g><g id=\"E1.E3\"><a href=\"psysml:7bb05ae1-d1dd-4ff0-97ee-ce3344a0751d\" target=\"_top\" title=\"psysml:7bb05ae1-d1dd-4ff0-97ee-ce3344a0751d\" xlink:actuate=\"onRequest\" xlink:href=\"psysml:7bb05ae1-d1dd-4ff0-97ee-ce3344a0751d\" xlink:show=\"new\" xlink:title=\"psysml:7bb05ae1-d1dd-4ff0-97ee-ce3344a0751d\" xlink:type=\"simple\"><rect fill=\"#FFFFFF\" height=\"42.9375\" id=\"E3\" rx=\"10\" ry=\"10\" style=\"stroke: #383838; stroke-width: 1.5;\" width=\"60\" x=\"23\" y=\"58\"/><rect fill=\"#F8F8F8\" height=\"37.9375\" rx=\"10\" ry=\"10\" style=\"stroke: #F8F8F8; stroke-width: 1.5;\" width=\"60\" x=\"23\" y=\"58\"/><rect fill=\"#F8F8F8\" height=\"10\" style=\"stroke: #F8F8F8; stroke-width: 1.5;\" width=\"60\" x=\"23\" y=\"85.9375\"/><rect fill=\"none\" height=\"42.9375\" id=\"E3\" rx=\"10\" ry=\"10\" style=\"stroke: #383838; stroke-width: 1.5;\" width=\"60\" x=\"23\" y=\"58\"/><text fill=\"#000000\" font-family=\"sans-serif\" font-size=\"12\" font-style=\"italic\" lengthAdjust=\"spacingAndGlyphs\" textLength=\"53\" x=\"26.5\" y=\"74.1387\">«action»</text><text fill=\"#000000\" font-family=\"sans-serif\" font-size=\"12\" lengthAdjust=\"spacingAndGlyphs\" textLength=\"16\" x=\"45\" y=\"88.1074\">A2</text></a></g><g id=\"E1.E6\"><a href=\"psysml:d5fd7944-a8f1-4c67-81d3-da10d551f750\" target=\"_top\" title=\"psysml:d5fd7944-a8f1-4c67-81d3-da10d551f750\" xlink:actuate=\"onRequest\" xlink:href=\"psysml:d5fd7944-a8f1-4c67-81d3-da10d551f750\" xlink:show=\"new\" xlink:title=\"psysml:d5fd7944-a8f1-4c67-81d3-da10d551f750\" xlink:type=\"simple\"><rect fill=\"#FFFFFF\" height=\"42.9375\" id=\"E6\" rx=\"10\" ry=\"10\" style=\"stroke: #383838; stroke-width: 1.5;\" width=\"60\" x=\"23\" y=\"297\"/><rect fill=\"#F8F8F8\" height=\"37.9375\" rx=\"10\" ry=\"10\" style=\"stroke: #F8F8F8; stroke-width: 1.5;\" width=\"60\" x=\"23\" y=\"297\"/><rect fill=\"#F8F8F8\" height=\"10\" style=\"stroke: #F8F8F8; stroke-width: 1.5;\" width=\"60\" x=\"23\" y=\"324.9375\"/><rect fill=\"none\" height=\"42.9375\" id=\"E6\" rx=\"10\" ry=\"10\" style=\"stroke: #383838; stroke-width: 1.5;\" width=\"60\" x=\"23\" y=\"297\"/><text fill=\"#000000\" font-family=\"sans-serif\" font-size=\"12\" font-style=\"italic\" lengthAdjust=\"spacingAndGlyphs\" textLength=\"53\" x=\"26.5\" y=\"313.1387\">«action»</text><text fill=\"#000000\" font-family=\"sans-serif\" font-size=\"12\" lengthAdjust=\"spacingAndGlyphs\" textLength=\"16\" x=\"45\" y=\"327.1074\">B1</text></a></g><g id=\"E1.E7\"><a href=\"psysml:b7d3ffe5-6bb9-4232-a5c3-5eafb8d0b5f9\" target=\"_top\" title=\"psysml:b7d3ffe5-6bb9-4232-a5c3-5eafb8d0b5f9\" xlink:actuate=\"onRequest\" xlink:href=\"psysml:b7d3ffe5-6bb9-4232-a5c3-5eafb8d0b5f9\" xlink:show=\"new\" xlink:title=\"psysml:b7d3ffe5-6bb9-4232-a5c3-5eafb8d0b5f9\" xlink:type=\"simple\"><rect fill=\"#FFFFFF\" height=\"42.9375\" id=\"E7\" rx=\"10\" ry=\"10\" style=\"stroke: #383838; stroke-width: 1.5;\" width=\"60\" x=\"118\" y=\"297\"/><rect fill=\"#F8F8F8\" height=\"37.9375\" rx=\"10\" ry=\"10\" style=\"stroke: #F8F8F8; stroke-width: 1.5;\" width=\"60\" x=\"118\" y=\"297\"/><rect fill=\"#F8F8F8\" height=\"10\" style=\"stroke: #F8F8F8; stroke-width: 1.5;\" width=\"60\" x=\"118\" y=\"324.9375\"/><rect fill=\"none\" height=\"42.9375\" id=\"E7\" rx=\"10\" ry=\"10\" style=\"stroke: #383838; stroke-width: 1.5;\" width=\"60\" x=\"118\" y=\"297\"/><text fill=\"#000000\" font-family=\"sans-serif\" font-size=\"12\" font-style=\"italic\" lengthAdjust=\"spacingAndGlyphs\" textLength=\"53\" x=\"121.5\" y=\"313.1387\">«action»</text><text fill=\"#000000\" font-family=\"sans-serif\" font-size=\"12\" lengthAdjust=\"spacingAndGlyphs\" textLength=\"16\" x=\"140\" y=\"327.1074\">B2</text></a></g><!--MD5=[4d03bb2d0377dc85ccfab60ff574652b]\n",
       "link E2 to E4--><a href=\"psysml:a5b917a3-7538-4e28-aa62-755107929dae\" target=\"_top\" title=\"psysml:a5b917a3-7538-4e28-aa62-755107929dae\" xlink:actuate=\"onRequest\" xlink:href=\"psysml:a5b917a3-7538-4e28-aa62-755107929dae\" xlink:show=\"new\" xlink:title=\"psysml:a5b917a3-7538-4e28-aa62-755107929dae\" xlink:type=\"simple\"><path d=\"M136.13,101.14 C125.84,119.06 111.49,144.01 104.37,156.4 \" fill=\"none\" id=\"E2-&gt;E4\" style=\"stroke: #383838; stroke-width: 1.0;\"/><polygon fill=\"#383838\" points=\"101.79,160.88,109.7406,155.0673,104.2799,156.5441,102.8031,151.0834,101.79,160.88\" style=\"stroke: #383838; stroke-width: 1.0;\"/><text fill=\"#000000\" font-family=\"sans-serif\" font-size=\"13\" lengthAdjust=\"spacingAndGlyphs\" textLength=\"7\" x=\"93.6144\" y=\"150.0038\">*</text></a><!--MD5=[af87c684e3b0d8be13c1a698a818ef1e]\n",
       "link E3 to E4--><a href=\"psysml:b67a9087-1129-4a2e-aba3-334d88c3cbf2\" target=\"_top\" title=\"psysml:b67a9087-1129-4a2e-aba3-334d88c3cbf2\" xlink:actuate=\"onRequest\" xlink:href=\"psysml:b67a9087-1129-4a2e-aba3-334d88c3cbf2\" xlink:show=\"new\" xlink:title=\"psysml:b67a9087-1129-4a2e-aba3-334d88c3cbf2\" xlink:type=\"simple\"><path d=\"M64.62,101.14 C74.7,119.06 88.75,144.01 95.72,156.4 \" fill=\"none\" id=\"E3-&gt;E4\" style=\"stroke: #383838; stroke-width: 1.0;\"/><polygon fill=\"#383838\" points=\"98.25,160.88,97.3377,151.0735,95.8048,156.5187,90.3596,154.9858,98.25,160.88\" style=\"stroke: #383838; stroke-width: 1.0;\"/><text fill=\"#000000\" font-family=\"sans-serif\" font-size=\"13\" lengthAdjust=\"spacingAndGlyphs\" textLength=\"7\" x=\"99.4531\" y=\"150.0038\">*</text></a><!--MD5=[1b7591eae5389033d8d09a9d6721a717]\n",
       "link E4 to E5--><a href=\"psysml:9a17080e-ae46-40d4-b989-796f716175e4\" target=\"_top\" title=\"psysml:9a17080e-ae46-40d4-b989-796f716175e4\" xlink:actuate=\"onRequest\" xlink:href=\"psysml:9a17080e-ae46-40d4-b989-796f716175e4\" xlink:show=\"new\" xlink:title=\"psysml:9a17080e-ae46-40d4-b989-796f716175e4\" xlink:type=\"simple\"><path d=\"M100,169.18 C100,178.92 100,208.52 100,223.34 \" fill=\"none\" id=\"E4-&gt;E5\" style=\"stroke: #383838; stroke-width: 1.0;\"/><polygon fill=\"#383838\" points=\"100,228.69,104,219.69,100,223.69,96,219.69,100,228.69\" style=\"stroke: #383838; stroke-width: 1.0;\"/><text fill=\"#000000\" font-family=\"sans-serif\" font-size=\"13\" lengthAdjust=\"spacingAndGlyphs\" textLength=\"7\" x=\"90.6813\" y=\"217.9768\">*</text></a><!--MD5=[9120cf2e5df3bff93db8f754bbbc09b4]\n",
       "link E5 to E6--><a href=\"psysml:197b427e-ad07-4e53-856c-ed2b1bc0e06a\" target=\"_top\" title=\"psysml:197b427e-ad07-4e53-856c-ed2b1bc0e06a\" xlink:actuate=\"onRequest\" xlink:href=\"psysml:197b427e-ad07-4e53-856c-ed2b1bc0e06a\" xlink:show=\"new\" xlink:title=\"psysml:197b427e-ad07-4e53-856c-ed2b1bc0e06a\" xlink:type=\"simple\"><path d=\"M98.21,237.17 C93.16,246.14 78.41,272.36 67.11,292.43 \" fill=\"none\" id=\"E5-&gt;E6\" style=\"stroke: #383838; stroke-width: 1.0;\"/><polygon fill=\"#383838\" points=\"64.61,296.87,72.5151,290.9955,67.0661,292.5148,65.5467,287.0658,64.61,296.87\" style=\"stroke: #383838; stroke-width: 1.0;\"/><text fill=\"#000000\" font-family=\"sans-serif\" font-size=\"13\" lengthAdjust=\"spacingAndGlyphs\" textLength=\"7\" x=\"59.8909\" y=\"285.7715\">*</text></a><!--MD5=[3a9b96bfbf6b6ad89c494e81751bda47]\n",
       "link E5 to E7--><a href=\"psysml:b67e977c-71d2-45f4-9959-07a509bb3c26\" target=\"_top\" title=\"psysml:b67e977c-71d2-45f4-9959-07a509bb3c26\" xlink:actuate=\"onRequest\" xlink:href=\"psysml:b67e977c-71d2-45f4-9959-07a509bb3c26\" xlink:show=\"new\" xlink:title=\"psysml:b67e977c-71d2-45f4-9959-07a509bb3c26\" xlink:type=\"simple\"><path d=\"M101.82,237.17 C106.98,246.14 122.05,272.36 133.59,292.43 \" fill=\"none\" id=\"E5-&gt;E7\" style=\"stroke: #383838; stroke-width: 1.0;\"/><polygon fill=\"#383838\" points=\"136.14,296.87,135.1269,287.0734,133.6501,292.5341,128.1894,291.0573,136.14,296.87\" style=\"stroke: #383838; stroke-width: 1.0;\"/><text fill=\"#000000\" font-family=\"sans-serif\" font-size=\"13\" lengthAdjust=\"spacingAndGlyphs\" textLength=\"7\" x=\"124.82\" y=\"285.7715\">*</text></a><!--MD5=[dec793410d9e026984c9729bc30ff2bd]\n",
       "@startuml\r\n",
       " skinparam monochrome true\r\n",
       "skinparam classbackgroundcolor white\r\n",
       "skinparam shadowing false\r\n",
       "skinparam wrapWidth 300\r\n",
       "hide circle\r\n",
       "\r\n",
       "rec def \"ControlNodeTest\" as E1  <<(T,blue) action def>> [[psysml:d75b3c07-b549-4c23-b2aa-d48828b6adea ]] {\r\n",
       "rec usage \"A1\" as E2  <<(T,blue) action>> [[psysml:c07d7274-d0ac-44b0-95a3-e3c0562da237 ]] {\r\n",
       "}\r\n",
       "\r\n",
       "rec usage \"A2\" as E3  <<(T,blue) action>> [[psysml:7bb05ae1-d1dd-4ff0-97ee-ce3344a0751d ]] {\r\n",
       "}\r\n",
       "\r\n",
       "join \"J\" as E4  [[psysml:f3bfce16-3667-4a48-a42e-fd992fa328bf ]] \r\n",
       "fork \"F\" as E5  [[psysml:08c848ef-d5ea-4388-acb9-5b8d01347f10 ]] \r\n",
       "rec usage \"B1\" as E6  <<(T,blue) action>> [[psysml:d5fd7944-a8f1-4c67-81d3-da10d551f750 ]] {\r\n",
       "}\r\n",
       "\r\n",
       "rec usage \"B2\" as E7  <<(T,blue) action>> [[psysml:b7d3ffe5-6bb9-4232-a5c3-5eafb8d0b5f9 ]] {\r\n",
       "}\r\n",
       "\r\n",
       "}\r\n",
       "\r\n",
       "E2 - -> \"*\"E4 [[psysml:a5b917a3-7538-4e28-aa62-755107929dae ]] \r\n",
       "E3 - -> \"*\"E4 [[psysml:b67a9087-1129-4a2e-aba3-334d88c3cbf2 ]] \r\n",
       "E4 - -> \"*\"E5 [[psysml:9a17080e-ae46-40d4-b989-796f716175e4 ]] \r\n",
       "E5 - -> \"*\"E6 [[psysml:197b427e-ad07-4e53-856c-ed2b1bc0e06a ]] \r\n",
       "E5 - -> \"*\"E7 [[psysml:b67e977c-71d2-45f4-9959-07a509bb3c26 ]] \r\n",
       "@enduml\r\n",
       "\n",
       "PlantUML version 1.2020.13(Sat Jun 13 12:26:38 UTC 2020)\n",
       "(EPL source distribution)\n",
       "Java Runtime: OpenJDK Runtime Environment\n",
       "JVM: OpenJDK 64-Bit Server VM\n",
       "Default Encoding: UTF-8\n",
       "Language: en\n",
       "Country: null\n",
       "--></g></svg>"
      ]
     },
     "execution_count": 8,
     "metadata": {},
     "output_type": "execute_result"
    }
   ],
   "source": [
    "%viz --style=\"COMPTREE\" --view=\"MIXED\" \"ControlNodeTest\""
   ]
  },
  {
   "cell_type": "code",
   "execution_count": 9,
   "id": "56ecdc78",
   "metadata": {
    "execution": {
     "iopub.execute_input": "2021-08-04T06:26:29.451018Z",
     "iopub.status.busy": "2021-08-04T06:26:29.450601Z",
     "iopub.status.idle": "2021-08-04T06:26:29.495988Z",
     "shell.execute_reply": "2021-08-04T06:26:29.495624Z"
    }
   },
   "outputs": [
    {
     "data": {
      "image/svg+xml": [
       "<?xml version=\"1.0\" encoding=\"UTF-8\" standalone=\"no\"?><svg xmlns=\"http://www.w3.org/2000/svg\" xmlns:xlink=\"http://www.w3.org/1999/xlink\" contentScriptType=\"application/ecmascript\" contentStyleType=\"text/css\" height=\"367px\" preserveAspectRatio=\"none\" style=\"width:205px;height:367px;\" version=\"1.1\" viewBox=\"0 0 205 367\" width=\"205px\" zoomAndPan=\"magnify\"><defs/><g><!--MD5=[fbc87193dbaf4d95561dea2c320d4a47]\n",
       "cluster E1--><a href=\"psysml:d75b3c07-b549-4c23-b2aa-d48828b6adea\" target=\"_top\" title=\"psysml:d75b3c07-b549-4c23-b2aa-d48828b6adea\" xlink:actuate=\"onRequest\" xlink:href=\"psysml:d75b3c07-b549-4c23-b2aa-d48828b6adea\" xlink:show=\"new\" xlink:title=\"psysml:d75b3c07-b549-4c23-b2aa-d48828b6adea\" xlink:type=\"simple\"><rect fill=\"#FFFFFF\" height=\"349\" id=\"E1\" style=\"stroke: #383838; stroke-width: 1.5;\" width=\"187\" x=\"7\" y=\"7\"/><rect fill=\"#F8F8F8\" height=\"37.9375\" style=\"stroke: #383838; stroke-width: 1.5;\" width=\"187\" x=\"7\" y=\"7\"/><text fill=\"#000000\" font-family=\"sans-serif\" font-size=\"12\" font-style=\"italic\" lengthAdjust=\"spacingAndGlyphs\" textLength=\"77\" x=\"62\" y=\"23.1387\">«action def»</text><text fill=\"#000000\" font-family=\"sans-serif\" font-size=\"12\" lengthAdjust=\"spacingAndGlyphs\" textLength=\"105\" x=\"48\" y=\"37.1074\">ControlNodeTest</text></a><rect fill=\"#000000\" height=\"8\" style=\"stroke: none; stroke-width: 1.0;\" width=\"80\" x=\"60\" y=\"161\"/><rect fill=\"#000000\" height=\"8\" style=\"stroke: none; stroke-width: 1.0;\" width=\"80\" x=\"60\" y=\"229\"/><g id=\"E1.E2\"><a href=\"psysml:c07d7274-d0ac-44b0-95a3-e3c0562da237\" target=\"_top\" title=\"psysml:c07d7274-d0ac-44b0-95a3-e3c0562da237\" xlink:actuate=\"onRequest\" xlink:href=\"psysml:c07d7274-d0ac-44b0-95a3-e3c0562da237\" xlink:show=\"new\" xlink:title=\"psysml:c07d7274-d0ac-44b0-95a3-e3c0562da237\" xlink:type=\"simple\"><rect fill=\"#FFFFFF\" height=\"42.9375\" id=\"E2\" rx=\"10\" ry=\"10\" style=\"stroke: #383838; stroke-width: 1.5;\" width=\"60\" x=\"118\" y=\"58\"/><rect fill=\"#F8F8F8\" height=\"37.9375\" rx=\"10\" ry=\"10\" style=\"stroke: #F8F8F8; stroke-width: 1.5;\" width=\"60\" x=\"118\" y=\"58\"/><rect fill=\"#F8F8F8\" height=\"10\" style=\"stroke: #F8F8F8; stroke-width: 1.5;\" width=\"60\" x=\"118\" y=\"85.9375\"/><rect fill=\"none\" height=\"42.9375\" id=\"E2\" rx=\"10\" ry=\"10\" style=\"stroke: #383838; stroke-width: 1.5;\" width=\"60\" x=\"118\" y=\"58\"/><text fill=\"#000000\" font-family=\"sans-serif\" font-size=\"12\" font-style=\"italic\" lengthAdjust=\"spacingAndGlyphs\" textLength=\"53\" x=\"121.5\" y=\"74.1387\">«action»</text><text fill=\"#000000\" font-family=\"sans-serif\" font-size=\"12\" lengthAdjust=\"spacingAndGlyphs\" textLength=\"16\" x=\"140\" y=\"88.1074\">A1</text></a></g><g id=\"E1.E3\"><a href=\"psysml:7bb05ae1-d1dd-4ff0-97ee-ce3344a0751d\" target=\"_top\" title=\"psysml:7bb05ae1-d1dd-4ff0-97ee-ce3344a0751d\" xlink:actuate=\"onRequest\" xlink:href=\"psysml:7bb05ae1-d1dd-4ff0-97ee-ce3344a0751d\" xlink:show=\"new\" xlink:title=\"psysml:7bb05ae1-d1dd-4ff0-97ee-ce3344a0751d\" xlink:type=\"simple\"><rect fill=\"#FFFFFF\" height=\"42.9375\" id=\"E3\" rx=\"10\" ry=\"10\" style=\"stroke: #383838; stroke-width: 1.5;\" width=\"60\" x=\"23\" y=\"58\"/><rect fill=\"#F8F8F8\" height=\"37.9375\" rx=\"10\" ry=\"10\" style=\"stroke: #F8F8F8; stroke-width: 1.5;\" width=\"60\" x=\"23\" y=\"58\"/><rect fill=\"#F8F8F8\" height=\"10\" style=\"stroke: #F8F8F8; stroke-width: 1.5;\" width=\"60\" x=\"23\" y=\"85.9375\"/><rect fill=\"none\" height=\"42.9375\" id=\"E3\" rx=\"10\" ry=\"10\" style=\"stroke: #383838; stroke-width: 1.5;\" width=\"60\" x=\"23\" y=\"58\"/><text fill=\"#000000\" font-family=\"sans-serif\" font-size=\"12\" font-style=\"italic\" lengthAdjust=\"spacingAndGlyphs\" textLength=\"53\" x=\"26.5\" y=\"74.1387\">«action»</text><text fill=\"#000000\" font-family=\"sans-serif\" font-size=\"12\" lengthAdjust=\"spacingAndGlyphs\" textLength=\"16\" x=\"45\" y=\"88.1074\">A2</text></a></g><g id=\"E1.E6\"><a href=\"psysml:d5fd7944-a8f1-4c67-81d3-da10d551f750\" target=\"_top\" title=\"psysml:d5fd7944-a8f1-4c67-81d3-da10d551f750\" xlink:actuate=\"onRequest\" xlink:href=\"psysml:d5fd7944-a8f1-4c67-81d3-da10d551f750\" xlink:show=\"new\" xlink:title=\"psysml:d5fd7944-a8f1-4c67-81d3-da10d551f750\" xlink:type=\"simple\"><rect fill=\"#FFFFFF\" height=\"42.9375\" id=\"E6\" rx=\"10\" ry=\"10\" style=\"stroke: #383838; stroke-width: 1.5;\" width=\"60\" x=\"23\" y=\"297\"/><rect fill=\"#F8F8F8\" height=\"37.9375\" rx=\"10\" ry=\"10\" style=\"stroke: #F8F8F8; stroke-width: 1.5;\" width=\"60\" x=\"23\" y=\"297\"/><rect fill=\"#F8F8F8\" height=\"10\" style=\"stroke: #F8F8F8; stroke-width: 1.5;\" width=\"60\" x=\"23\" y=\"324.9375\"/><rect fill=\"none\" height=\"42.9375\" id=\"E6\" rx=\"10\" ry=\"10\" style=\"stroke: #383838; stroke-width: 1.5;\" width=\"60\" x=\"23\" y=\"297\"/><text fill=\"#000000\" font-family=\"sans-serif\" font-size=\"12\" font-style=\"italic\" lengthAdjust=\"spacingAndGlyphs\" textLength=\"53\" x=\"26.5\" y=\"313.1387\">«action»</text><text fill=\"#000000\" font-family=\"sans-serif\" font-size=\"12\" lengthAdjust=\"spacingAndGlyphs\" textLength=\"16\" x=\"45\" y=\"327.1074\">B1</text></a></g><g id=\"E1.E7\"><a href=\"psysml:b7d3ffe5-6bb9-4232-a5c3-5eafb8d0b5f9\" target=\"_top\" title=\"psysml:b7d3ffe5-6bb9-4232-a5c3-5eafb8d0b5f9\" xlink:actuate=\"onRequest\" xlink:href=\"psysml:b7d3ffe5-6bb9-4232-a5c3-5eafb8d0b5f9\" xlink:show=\"new\" xlink:title=\"psysml:b7d3ffe5-6bb9-4232-a5c3-5eafb8d0b5f9\" xlink:type=\"simple\"><rect fill=\"#FFFFFF\" height=\"42.9375\" id=\"E7\" rx=\"10\" ry=\"10\" style=\"stroke: #383838; stroke-width: 1.5;\" width=\"60\" x=\"118\" y=\"297\"/><rect fill=\"#F8F8F8\" height=\"37.9375\" rx=\"10\" ry=\"10\" style=\"stroke: #F8F8F8; stroke-width: 1.5;\" width=\"60\" x=\"118\" y=\"297\"/><rect fill=\"#F8F8F8\" height=\"10\" style=\"stroke: #F8F8F8; stroke-width: 1.5;\" width=\"60\" x=\"118\" y=\"324.9375\"/><rect fill=\"none\" height=\"42.9375\" id=\"E7\" rx=\"10\" ry=\"10\" style=\"stroke: #383838; stroke-width: 1.5;\" width=\"60\" x=\"118\" y=\"297\"/><text fill=\"#000000\" font-family=\"sans-serif\" font-size=\"12\" font-style=\"italic\" lengthAdjust=\"spacingAndGlyphs\" textLength=\"53\" x=\"121.5\" y=\"313.1387\">«action»</text><text fill=\"#000000\" font-family=\"sans-serif\" font-size=\"12\" lengthAdjust=\"spacingAndGlyphs\" textLength=\"16\" x=\"140\" y=\"327.1074\">B2</text></a></g><!--MD5=[4d03bb2d0377dc85ccfab60ff574652b]\n",
       "link E2 to E4--><a href=\"psysml:a5b917a3-7538-4e28-aa62-755107929dae\" target=\"_top\" title=\"psysml:a5b917a3-7538-4e28-aa62-755107929dae\" xlink:actuate=\"onRequest\" xlink:href=\"psysml:a5b917a3-7538-4e28-aa62-755107929dae\" xlink:show=\"new\" xlink:title=\"psysml:a5b917a3-7538-4e28-aa62-755107929dae\" xlink:type=\"simple\"><path d=\"M136.13,101.14 C125.84,119.06 111.49,144.01 104.37,156.4 \" fill=\"none\" id=\"E2-&gt;E4\" style=\"stroke: #383838; stroke-width: 1.0;\"/><polygon fill=\"#383838\" points=\"101.79,160.88,109.7406,155.0673,104.2799,156.5441,102.8031,151.0834,101.79,160.88\" style=\"stroke: #383838; stroke-width: 1.0;\"/><text fill=\"#000000\" font-family=\"sans-serif\" font-size=\"13\" lengthAdjust=\"spacingAndGlyphs\" textLength=\"7\" x=\"93.6144\" y=\"150.0038\">*</text></a><!--MD5=[af87c684e3b0d8be13c1a698a818ef1e]\n",
       "link E3 to E4--><a href=\"psysml:b67a9087-1129-4a2e-aba3-334d88c3cbf2\" target=\"_top\" title=\"psysml:b67a9087-1129-4a2e-aba3-334d88c3cbf2\" xlink:actuate=\"onRequest\" xlink:href=\"psysml:b67a9087-1129-4a2e-aba3-334d88c3cbf2\" xlink:show=\"new\" xlink:title=\"psysml:b67a9087-1129-4a2e-aba3-334d88c3cbf2\" xlink:type=\"simple\"><path d=\"M64.62,101.14 C74.7,119.06 88.75,144.01 95.72,156.4 \" fill=\"none\" id=\"E3-&gt;E4\" style=\"stroke: #383838; stroke-width: 1.0;\"/><polygon fill=\"#383838\" points=\"98.25,160.88,97.3377,151.0735,95.8048,156.5187,90.3596,154.9858,98.25,160.88\" style=\"stroke: #383838; stroke-width: 1.0;\"/><text fill=\"#000000\" font-family=\"sans-serif\" font-size=\"13\" lengthAdjust=\"spacingAndGlyphs\" textLength=\"7\" x=\"99.4531\" y=\"150.0038\">*</text></a><!--MD5=[1b7591eae5389033d8d09a9d6721a717]\n",
       "link E4 to E5--><a href=\"psysml:9a17080e-ae46-40d4-b989-796f716175e4\" target=\"_top\" title=\"psysml:9a17080e-ae46-40d4-b989-796f716175e4\" xlink:actuate=\"onRequest\" xlink:href=\"psysml:9a17080e-ae46-40d4-b989-796f716175e4\" xlink:show=\"new\" xlink:title=\"psysml:9a17080e-ae46-40d4-b989-796f716175e4\" xlink:type=\"simple\"><path d=\"M100,169.18 C100,178.92 100,208.52 100,223.34 \" fill=\"none\" id=\"E4-&gt;E5\" style=\"stroke: #383838; stroke-width: 1.0;\"/><polygon fill=\"#383838\" points=\"100,228.69,104,219.69,100,223.69,96,219.69,100,228.69\" style=\"stroke: #383838; stroke-width: 1.0;\"/><text fill=\"#000000\" font-family=\"sans-serif\" font-size=\"13\" lengthAdjust=\"spacingAndGlyphs\" textLength=\"7\" x=\"90.6813\" y=\"217.9768\">*</text></a><!--MD5=[9120cf2e5df3bff93db8f754bbbc09b4]\n",
       "link E5 to E6--><a href=\"psysml:197b427e-ad07-4e53-856c-ed2b1bc0e06a\" target=\"_top\" title=\"psysml:197b427e-ad07-4e53-856c-ed2b1bc0e06a\" xlink:actuate=\"onRequest\" xlink:href=\"psysml:197b427e-ad07-4e53-856c-ed2b1bc0e06a\" xlink:show=\"new\" xlink:title=\"psysml:197b427e-ad07-4e53-856c-ed2b1bc0e06a\" xlink:type=\"simple\"><path d=\"M98.21,237.17 C93.16,246.14 78.41,272.36 67.11,292.43 \" fill=\"none\" id=\"E5-&gt;E6\" style=\"stroke: #383838; stroke-width: 1.0;\"/><polygon fill=\"#383838\" points=\"64.61,296.87,72.5151,290.9955,67.0661,292.5148,65.5467,287.0658,64.61,296.87\" style=\"stroke: #383838; stroke-width: 1.0;\"/><text fill=\"#000000\" font-family=\"sans-serif\" font-size=\"13\" lengthAdjust=\"spacingAndGlyphs\" textLength=\"7\" x=\"59.8909\" y=\"285.7715\">*</text></a><!--MD5=[3a9b96bfbf6b6ad89c494e81751bda47]\n",
       "link E5 to E7--><a href=\"psysml:b67e977c-71d2-45f4-9959-07a509bb3c26\" target=\"_top\" title=\"psysml:b67e977c-71d2-45f4-9959-07a509bb3c26\" xlink:actuate=\"onRequest\" xlink:href=\"psysml:b67e977c-71d2-45f4-9959-07a509bb3c26\" xlink:show=\"new\" xlink:title=\"psysml:b67e977c-71d2-45f4-9959-07a509bb3c26\" xlink:type=\"simple\"><path d=\"M101.82,237.17 C106.98,246.14 122.05,272.36 133.59,292.43 \" fill=\"none\" id=\"E5-&gt;E7\" style=\"stroke: #383838; stroke-width: 1.0;\"/><polygon fill=\"#383838\" points=\"136.14,296.87,135.1269,287.0734,133.6501,292.5341,128.1894,291.0573,136.14,296.87\" style=\"stroke: #383838; stroke-width: 1.0;\"/><text fill=\"#000000\" font-family=\"sans-serif\" font-size=\"13\" lengthAdjust=\"spacingAndGlyphs\" textLength=\"7\" x=\"124.82\" y=\"285.7715\">*</text></a><!--MD5=[3a326ceebd2b6beadea3c2c7977c08a2]\n",
       "@startuml\r\n",
       "skinparam linetype polyline\r\n",
       "skinparam monochrome true\r\n",
       "skinparam classbackgroundcolor white\r\n",
       "skinparam shadowing false\r\n",
       "skinparam wrapWidth 300\r\n",
       "hide circle\r\n",
       "\r\n",
       "rec def \"ControlNodeTest\" as E1  <<(T,blue) action def>> [[psysml:d75b3c07-b549-4c23-b2aa-d48828b6adea ]] {\r\n",
       "rec usage \"A1\" as E2  <<(T,blue) action>> [[psysml:c07d7274-d0ac-44b0-95a3-e3c0562da237 ]] {\r\n",
       "}\r\n",
       "\r\n",
       "rec usage \"A2\" as E3  <<(T,blue) action>> [[psysml:7bb05ae1-d1dd-4ff0-97ee-ce3344a0751d ]] {\r\n",
       "}\r\n",
       "\r\n",
       "join \"J\" as E4  [[psysml:f3bfce16-3667-4a48-a42e-fd992fa328bf ]] \r\n",
       "fork \"F\" as E5  [[psysml:08c848ef-d5ea-4388-acb9-5b8d01347f10 ]] \r\n",
       "rec usage \"B1\" as E6  <<(T,blue) action>> [[psysml:d5fd7944-a8f1-4c67-81d3-da10d551f750 ]] {\r\n",
       "}\r\n",
       "\r\n",
       "rec usage \"B2\" as E7  <<(T,blue) action>> [[psysml:b7d3ffe5-6bb9-4232-a5c3-5eafb8d0b5f9 ]] {\r\n",
       "}\r\n",
       "\r\n",
       "}\r\n",
       "\r\n",
       "E2 - -> \"*\"E4 [[psysml:a5b917a3-7538-4e28-aa62-755107929dae ]] \r\n",
       "E3 - -> \"*\"E4 [[psysml:b67a9087-1129-4a2e-aba3-334d88c3cbf2 ]] \r\n",
       "E4 - -> \"*\"E5 [[psysml:9a17080e-ae46-40d4-b989-796f716175e4 ]] \r\n",
       "E5 - -> \"*\"E6 [[psysml:197b427e-ad07-4e53-856c-ed2b1bc0e06a ]] \r\n",
       "E5 - -> \"*\"E7 [[psysml:b67e977c-71d2-45f4-9959-07a509bb3c26 ]] \r\n",
       "@enduml\r\n",
       "\n",
       "PlantUML version 1.2020.13(Sat Jun 13 12:26:38 UTC 2020)\n",
       "(EPL source distribution)\n",
       "Java Runtime: OpenJDK Runtime Environment\n",
       "JVM: OpenJDK 64-Bit Server VM\n",
       "Default Encoding: UTF-8\n",
       "Language: en\n",
       "Country: null\n",
       "--></g></svg>"
      ]
     },
     "execution_count": 9,
     "metadata": {},
     "output_type": "execute_result"
    }
   ],
   "source": [
    "%viz --style=\"POLYLINE\" --view=\"Default\" \"ControlNodeTest\""
   ]
  },
  {
   "cell_type": "code",
   "execution_count": 10,
   "id": "b4515bc5",
   "metadata": {
    "execution": {
     "iopub.execute_input": "2021-08-04T06:26:29.545815Z",
     "iopub.status.busy": "2021-08-04T06:26:29.545387Z",
     "iopub.status.idle": "2021-08-04T06:26:29.587323Z",
     "shell.execute_reply": "2021-08-04T06:26:29.586069Z"
    }
   },
   "outputs": [
    {
     "data": {
      "image/svg+xml": [
       "<?xml version=\"1.0\" encoding=\"UTF-8\" standalone=\"no\"?><svg xmlns=\"http://www.w3.org/2000/svg\" xmlns:xlink=\"http://www.w3.org/1999/xlink\" contentScriptType=\"application/ecmascript\" contentStyleType=\"text/css\" height=\"169px\" preserveAspectRatio=\"none\" style=\"width:557px;height:169px;\" version=\"1.1\" viewBox=\"0 0 557 169\" width=\"557px\" zoomAndPan=\"magnify\"><defs/><g><!--MD5=[43c9051892ef23e1a46a86907403d788]\n",
       "class E1--><a href=\"psysml:d75b3c07-b549-4c23-b2aa-d48828b6adea\" target=\"_top\" title=\"psysml:d75b3c07-b549-4c23-b2aa-d48828b6adea\" xlink:actuate=\"onRequest\" xlink:href=\"psysml:d75b3c07-b549-4c23-b2aa-d48828b6adea\" xlink:show=\"new\" xlink:title=\"psysml:d75b3c07-b549-4c23-b2aa-d48828b6adea\" xlink:type=\"simple\"><rect fill=\"#FFFFFF\" height=\"45.9375\" id=\"E1\" style=\"stroke: #383838; stroke-width: 1.5;\" width=\"111\" x=\"220\" y=\"7\"/><text fill=\"#000000\" font-family=\"sans-serif\" font-size=\"12\" font-style=\"italic\" lengthAdjust=\"spacingAndGlyphs\" textLength=\"77\" x=\"237\" y=\"23.1387\">«action def»</text><text fill=\"#000000\" font-family=\"sans-serif\" font-size=\"12\" lengthAdjust=\"spacingAndGlyphs\" textLength=\"105\" x=\"223\" y=\"37.1074\">ControlNodeTest</text><line style=\"stroke: #383838; stroke-width: 1.5;\" x1=\"221\" x2=\"330\" y1=\"44.9375\" y2=\"44.9375\"/></a><!--MD5=[b4997ac47864f28c2f74865a473b2911]\n",
       "class E2--><a href=\"psysml:c07d7274-d0ac-44b0-95a3-e3c0562da237\" target=\"_top\" title=\"psysml:c07d7274-d0ac-44b0-95a3-e3c0562da237\" xlink:actuate=\"onRequest\" xlink:href=\"psysml:c07d7274-d0ac-44b0-95a3-e3c0562da237\" xlink:show=\"new\" xlink:title=\"psysml:c07d7274-d0ac-44b0-95a3-e3c0562da237\" xlink:type=\"simple\"><rect fill=\"#FFFFFF\" height=\"45.9375\" id=\"E2\" rx=\"10\" ry=\"10\" style=\"stroke: #383838; stroke-width: 1.5;\" width=\"55\" x=\"7\" y=\"113\"/><text fill=\"#000000\" font-family=\"sans-serif\" font-size=\"12\" font-style=\"italic\" lengthAdjust=\"spacingAndGlyphs\" textLength=\"53\" x=\"8\" y=\"129.1387\">«action»</text><text fill=\"#000000\" font-family=\"sans-serif\" font-size=\"12\" lengthAdjust=\"spacingAndGlyphs\" textLength=\"16\" x=\"26.5\" y=\"143.1074\">A1</text><line style=\"stroke: #383838; stroke-width: 1.5;\" x1=\"8\" x2=\"61\" y1=\"150.9375\" y2=\"150.9375\"/></a><!--MD5=[09b614a08d8cba4a07c9adeb5e0fee81]\n",
       "class E3--><a href=\"psysml:7bb05ae1-d1dd-4ff0-97ee-ce3344a0751d\" target=\"_top\" title=\"psysml:7bb05ae1-d1dd-4ff0-97ee-ce3344a0751d\" xlink:actuate=\"onRequest\" xlink:href=\"psysml:7bb05ae1-d1dd-4ff0-97ee-ce3344a0751d\" xlink:show=\"new\" xlink:title=\"psysml:7bb05ae1-d1dd-4ff0-97ee-ce3344a0751d\" xlink:type=\"simple\"><rect fill=\"#FFFFFF\" height=\"45.9375\" id=\"E3\" rx=\"10\" ry=\"10\" style=\"stroke: #383838; stroke-width: 1.5;\" width=\"55\" x=\"97\" y=\"113\"/><text fill=\"#000000\" font-family=\"sans-serif\" font-size=\"12\" font-style=\"italic\" lengthAdjust=\"spacingAndGlyphs\" textLength=\"53\" x=\"98\" y=\"129.1387\">«action»</text><text fill=\"#000000\" font-family=\"sans-serif\" font-size=\"12\" lengthAdjust=\"spacingAndGlyphs\" textLength=\"16\" x=\"116.5\" y=\"143.1074\">A2</text><line style=\"stroke: #383838; stroke-width: 1.5;\" x1=\"98\" x2=\"151\" y1=\"150.9375\" y2=\"150.9375\"/></a><!--MD5=[ebbe1d658d1005bcc118a6aa81145e00]\n",
       "class E4--><a href=\"psysml:f3bfce16-3667-4a48-a42e-fd992fa328bf\" target=\"_top\" title=\"psysml:f3bfce16-3667-4a48-a42e-fd992fa328bf\" xlink:actuate=\"onRequest\" xlink:href=\"psysml:f3bfce16-3667-4a48-a42e-fd992fa328bf\" xlink:show=\"new\" xlink:title=\"psysml:f3bfce16-3667-4a48-a42e-fd992fa328bf\" xlink:type=\"simple\"><rect fill=\"#FFFFFF\" height=\"45.9375\" id=\"E4\" rx=\"10\" ry=\"10\" style=\"stroke: #383838; stroke-width: 1.5;\" width=\"71\" x=\"187\" y=\"113\"/><text fill=\"#000000\" font-family=\"sans-serif\" font-size=\"12\" font-style=\"italic\" lengthAdjust=\"spacingAndGlyphs\" textLength=\"69\" x=\"188\" y=\"129.1387\">«joinNode»</text><text fill=\"#000000\" font-family=\"sans-serif\" font-size=\"12\" lengthAdjust=\"spacingAndGlyphs\" textLength=\"3\" x=\"221\" y=\"143.1074\">J</text><line style=\"stroke: #383838; stroke-width: 1.5;\" x1=\"188\" x2=\"257\" y1=\"150.9375\" y2=\"150.9375\"/></a><!--MD5=[270fce915f116d4de14055a7c1d9a0f3]\n",
       "class E5--><a href=\"psysml:08c848ef-d5ea-4388-acb9-5b8d01347f10\" target=\"_top\" title=\"psysml:08c848ef-d5ea-4388-acb9-5b8d01347f10\" xlink:actuate=\"onRequest\" xlink:href=\"psysml:08c848ef-d5ea-4388-acb9-5b8d01347f10\" xlink:show=\"new\" xlink:title=\"psysml:08c848ef-d5ea-4388-acb9-5b8d01347f10\" xlink:type=\"simple\"><rect fill=\"#FFFFFF\" height=\"45.9375\" id=\"E5\" rx=\"10\" ry=\"10\" style=\"stroke: #383838; stroke-width: 1.5;\" width=\"73\" x=\"293\" y=\"113\"/><text fill=\"#000000\" font-family=\"sans-serif\" font-size=\"12\" font-style=\"italic\" lengthAdjust=\"spacingAndGlyphs\" textLength=\"71\" x=\"294\" y=\"129.1387\">«forkNode»</text><text fill=\"#000000\" font-family=\"sans-serif\" font-size=\"12\" lengthAdjust=\"spacingAndGlyphs\" textLength=\"7\" x=\"326\" y=\"143.1074\">F</text><line style=\"stroke: #383838; stroke-width: 1.5;\" x1=\"294\" x2=\"365\" y1=\"150.9375\" y2=\"150.9375\"/></a><!--MD5=[60a26617385b1d2d0262a64233df1f8d]\n",
       "class E6--><a href=\"psysml:d5fd7944-a8f1-4c67-81d3-da10d551f750\" target=\"_top\" title=\"psysml:d5fd7944-a8f1-4c67-81d3-da10d551f750\" xlink:actuate=\"onRequest\" xlink:href=\"psysml:d5fd7944-a8f1-4c67-81d3-da10d551f750\" xlink:show=\"new\" xlink:title=\"psysml:d5fd7944-a8f1-4c67-81d3-da10d551f750\" xlink:type=\"simple\"><rect fill=\"#FFFFFF\" height=\"45.9375\" id=\"E6\" rx=\"10\" ry=\"10\" style=\"stroke: #383838; stroke-width: 1.5;\" width=\"55\" x=\"401\" y=\"113\"/><text fill=\"#000000\" font-family=\"sans-serif\" font-size=\"12\" font-style=\"italic\" lengthAdjust=\"spacingAndGlyphs\" textLength=\"53\" x=\"402\" y=\"129.1387\">«action»</text><text fill=\"#000000\" font-family=\"sans-serif\" font-size=\"12\" lengthAdjust=\"spacingAndGlyphs\" textLength=\"16\" x=\"420.5\" y=\"143.1074\">B1</text><line style=\"stroke: #383838; stroke-width: 1.5;\" x1=\"402\" x2=\"455\" y1=\"150.9375\" y2=\"150.9375\"/></a><!--MD5=[2156ba9850f5573cc1fc38a6a4b2f02b]\n",
       "class E7--><a href=\"psysml:b7d3ffe5-6bb9-4232-a5c3-5eafb8d0b5f9\" target=\"_top\" title=\"psysml:b7d3ffe5-6bb9-4232-a5c3-5eafb8d0b5f9\" xlink:actuate=\"onRequest\" xlink:href=\"psysml:b7d3ffe5-6bb9-4232-a5c3-5eafb8d0b5f9\" xlink:show=\"new\" xlink:title=\"psysml:b7d3ffe5-6bb9-4232-a5c3-5eafb8d0b5f9\" xlink:type=\"simple\"><rect fill=\"#FFFFFF\" height=\"45.9375\" id=\"E7\" rx=\"10\" ry=\"10\" style=\"stroke: #383838; stroke-width: 1.5;\" width=\"55\" x=\"491\" y=\"113\"/><text fill=\"#000000\" font-family=\"sans-serif\" font-size=\"12\" font-style=\"italic\" lengthAdjust=\"spacingAndGlyphs\" textLength=\"53\" x=\"492\" y=\"129.1387\">«action»</text><text fill=\"#000000\" font-family=\"sans-serif\" font-size=\"12\" lengthAdjust=\"spacingAndGlyphs\" textLength=\"16\" x=\"510.5\" y=\"143.1074\">B2</text><line style=\"stroke: #383838; stroke-width: 1.5;\" x1=\"492\" x2=\"545\" y1=\"150.9375\" y2=\"150.9375\"/></a><!--MD5=[a523cb2a0b79ecf9065ad8783f96c320]\n",
       "reverse link E1 to E2--><a href=\"psysml:090da899-d633-4f68-ac70-93df987c1f89\" target=\"_top\" title=\"psysml:090da899-d633-4f68-ac70-93df987c1f89\" xlink:actuate=\"onRequest\" xlink:href=\"psysml:090da899-d633-4f68-ac70-93df987c1f89\" xlink:show=\"new\" xlink:title=\"psysml:090da899-d633-4f68-ac70-93df987c1f89\" xlink:type=\"simple\"><path d=\"M210.47,58.21 C153.42,82.07 79.5,113 79.5,113 C79.5,113 71.49,116.92 62.23,121.44 \" fill=\"none\" id=\"E1&lt;-E2\" style=\"stroke: #383838; stroke-width: 1.0;\"/><polygon fill=\"#383838\" points=\"222.72,53.08,215.6417,51.7026,211.6478,57.7066,218.7261,59.0841,222.72,53.08\" style=\"stroke: #383838; stroke-width: 1.0;\"/><text fill=\"#000000\" font-family=\"sans-serif\" font-size=\"13\" lengthAdjust=\"spacingAndGlyphs\" textLength=\"7\" x=\"69.8423\" y=\"113.1536\">*</text></a><!--MD5=[5d7b3810b1dd9b5164bea1151b29b665]\n",
       "reverse link E1 to E3--><a href=\"psysml:797c4c3c-8cfb-4ed1-914f-99d654db3cec\" target=\"_top\" title=\"psysml:797c4c3c-8cfb-4ed1-914f-99d654db3cec\" xlink:actuate=\"onRequest\" xlink:href=\"psysml:797c4c3c-8cfb-4ed1-914f-99d654db3cec\" xlink:show=\"new\" xlink:title=\"psysml:797c4c3c-8cfb-4ed1-914f-99d654db3cec\" xlink:type=\"simple\"><path d=\"M232.52,60.6 C206.81,78.31 174.87,100.31 152.42,115.77 \" fill=\"none\" id=\"E1&lt;-E3\" style=\"stroke: #383838; stroke-width: 1.0;\"/><polygon fill=\"#383838\" points=\"243.48,53.06,236.2697,53.1655,233.5938,59.8617,240.8041,59.7562,243.48,53.06\" style=\"stroke: #383838; stroke-width: 1.0;\"/><text fill=\"#000000\" font-family=\"sans-serif\" font-size=\"13\" lengthAdjust=\"spacingAndGlyphs\" textLength=\"7\" x=\"160.0786\" y=\"106.1015\">*</text></a><!--MD5=[f2c5c03aa1e8c0ba21c10a05e6444b8e]\n",
       "reverse link E1 to E4--><a href=\"psysml:70a466ea-83ad-4e19-afa5-d192b13fd9c7\" target=\"_top\" title=\"psysml:70a466ea-83ad-4e19-afa5-d192b13fd9c7\" xlink:actuate=\"onRequest\" xlink:href=\"psysml:70a466ea-83ad-4e19-afa5-d192b13fd9c7\" xlink:show=\"new\" xlink:title=\"psysml:70a466ea-83ad-4e19-afa5-d192b13fd9c7\" xlink:type=\"simple\"><path d=\"M258.16,65.03 C250.13,80.78 240.82,99.06 233.72,112.98 \" fill=\"none\" id=\"E1&lt;-E4\" style=\"stroke: #383838; stroke-width: 1.0;\"/><polygon fill=\"#383838\" points=\"264.26,53.06,257.9728,56.5915,258.8145,63.7533,265.1017,60.2218,264.26,53.06\" style=\"stroke: #383838; stroke-width: 1.0;\"/></a><!--MD5=[33238bef88d6431a141d8bc8fb12bca0]\n",
       "reverse link E1 to E5--><a href=\"psysml:26253911-6243-446d-b791-23c0e42b91a5\" target=\"_top\" title=\"psysml:26253911-6243-446d-b791-23c0e42b91a5\" xlink:actuate=\"onRequest\" xlink:href=\"psysml:26253911-6243-446d-b791-23c0e42b91a5\" xlink:show=\"new\" xlink:title=\"psysml:26253911-6243-446d-b791-23c0e42b91a5\" xlink:type=\"simple\"><path d=\"M293.17,65.03 C301.35,80.78 310.84,99.06 318.06,112.98 \" fill=\"none\" id=\"E1&lt;-E5\" style=\"stroke: #383838; stroke-width: 1.0;\"/><polygon fill=\"#383838\" points=\"286.95,53.06,286.1611,60.2278,292.4742,63.7129,293.263,56.545,286.95,53.06\" style=\"stroke: #383838; stroke-width: 1.0;\"/></a><!--MD5=[aca2ef284c2b1b90e17e73bf3f292c07]\n",
       "reverse link E1 to E6--><a href=\"psysml:e8354a48-cb93-46c3-a69e-19a4acf29f71\" target=\"_top\" title=\"psysml:e8354a48-cb93-46c3-a69e-19a4acf29f71\" xlink:actuate=\"onRequest\" xlink:href=\"psysml:e8354a48-cb93-46c3-a69e-19a4acf29f71\" xlink:show=\"new\" xlink:title=\"psysml:e8354a48-cb93-46c3-a69e-19a4acf29f71\" xlink:type=\"simple\"><path d=\"M318.77,60.41 C345.06,78.28 377.86,100.58 400.72,116.11 \" fill=\"none\" id=\"E1&lt;-E6\" style=\"stroke: #383838; stroke-width: 1.0;\"/><polygon fill=\"#383838\" points=\"307.95,53.06,310.6626,59.7415,317.8734,59.8074,315.1608,53.1259,307.95,53.06\" style=\"stroke: #383838; stroke-width: 1.0;\"/><text fill=\"#000000\" font-family=\"sans-serif\" font-size=\"13\" lengthAdjust=\"spacingAndGlyphs\" textLength=\"7\" x=\"386.0955\" y=\"106.5244\">*</text></a><!--MD5=[fc9706a6b2cf8c0e423679d303750d3f]\n",
       "reverse link E1 to E7--><a href=\"psysml:8dca6daf-962f-46a3-bb74-22037bd04295\" target=\"_top\" title=\"psysml:8dca6daf-962f-46a3-bb74-22037bd04295\" xlink:actuate=\"onRequest\" xlink:href=\"psysml:8dca6daf-962f-46a3-bb74-22037bd04295\" xlink:show=\"new\" xlink:title=\"psysml:8dca6daf-962f-46a3-bb74-22037bd04295\" xlink:type=\"simple\"><path d=\"M340.83,58.06 C398.51,81.94 473.5,113 473.5,113 C473.5,113 481.51,116.92 490.77,121.44 \" fill=\"none\" id=\"E1&lt;-E7\" style=\"stroke: #383838; stroke-width: 1.0;\"/><polygon fill=\"#383838\" points=\"328.82,53.08,332.8347,59.0702,339.9082,57.6682,335.8935,51.678,328.82,53.08\" style=\"stroke: #383838; stroke-width: 1.0;\"/><text fill=\"#000000\" font-family=\"sans-serif\" font-size=\"13\" lengthAdjust=\"spacingAndGlyphs\" textLength=\"7\" x=\"476.1577\" y=\"113.1536\">*</text></a><!--MD5=[ccf1da9fb46361497fd394ba583fd722]\n",
       "@startuml\r\n",
       "skinparam linetype polyline\r\n",
       "skinparam monochrome true\r\n",
       "skinparam classbackgroundcolor white\r\n",
       "skinparam shadowing false\r\n",
       "skinparam wrapWidth 300\r\n",
       "hide circle\r\n",
       "\r\n",
       "comp def \"ControlNodeTest\" as E1  <<(T,blue) action def>> [[psysml:d75b3c07-b549-4c23-b2aa-d48828b6adea ]] {\r\n",
       "}\r\n",
       "comp usage \"A1\" as E2  <<(T,blue) action>> [[psysml:c07d7274-d0ac-44b0-95a3-e3c0562da237 ]] {\r\n",
       "}\r\n",
       "comp usage \"A2\" as E3  <<(T,blue) action>> [[psysml:7bb05ae1-d1dd-4ff0-97ee-ce3344a0751d ]] {\r\n",
       "}\r\n",
       "comp usage \"J\" as E4  <<(T,blue) joinNode>> [[psysml:f3bfce16-3667-4a48-a42e-fd992fa328bf ]] {\r\n",
       "}\r\n",
       "comp usage \"F\" as E5  <<(T,blue) forkNode>> [[psysml:08c848ef-d5ea-4388-acb9-5b8d01347f10 ]] {\r\n",
       "}\r\n",
       "comp usage \"B1\" as E6  <<(T,blue) action>> [[psysml:d5fd7944-a8f1-4c67-81d3-da10d551f750 ]] {\r\n",
       "}\r\n",
       "comp usage \"B2\" as E7  <<(T,blue) action>> [[psysml:b7d3ffe5-6bb9-4232-a5c3-5eafb8d0b5f9 ]] {\r\n",
       "}\r\n",
       "E1 *- - \"*\"E2 [[psysml:090da899-d633-4f68-ac70-93df987c1f89 ]] \r\n",
       "E1 *- - \"*\"E3 [[psysml:797c4c3c-8cfb-4ed1-914f-99d654db3cec ]] \r\n",
       "E1 *- - E4 [[psysml:70a466ea-83ad-4e19-afa5-d192b13fd9c7 ]] \r\n",
       "E1 *- - E5 [[psysml:26253911-6243-446d-b791-23c0e42b91a5 ]] \r\n",
       "E1 *- - \"*\"E6 [[psysml:e8354a48-cb93-46c3-a69e-19a4acf29f71 ]] \r\n",
       "E1 *- - \"*\"E7 [[psysml:8dca6daf-962f-46a3-bb74-22037bd04295 ]] \r\n",
       "@enduml\r\n",
       "\n",
       "PlantUML version 1.2020.13(Sat Jun 13 12:26:38 UTC 2020)\n",
       "(EPL source distribution)\n",
       "Java Runtime: OpenJDK Runtime Environment\n",
       "JVM: OpenJDK 64-Bit Server VM\n",
       "Default Encoding: UTF-8\n",
       "Language: en\n",
       "Country: null\n",
       "--></g></svg>"
      ]
     },
     "execution_count": 10,
     "metadata": {},
     "output_type": "execute_result"
    }
   ],
   "source": [
    "%viz --style=\"POLYLINE\" --view=\"Tree\" \"ControlNodeTest\""
   ]
  },
  {
   "cell_type": "code",
   "execution_count": 11,
   "id": "a1371f13",
   "metadata": {
    "execution": {
     "iopub.execute_input": "2021-08-04T06:26:29.637126Z",
     "iopub.status.busy": "2021-08-04T06:26:29.636718Z",
     "iopub.status.idle": "2021-08-04T06:26:29.643359Z",
     "shell.execute_reply": "2021-08-04T06:26:29.643672Z"
    }
   },
   "outputs": [
    {
     "data": {
      "image/svg+xml": [
       "<?xml version=\"1.0\" encoding=\"UTF-8\" standalone=\"no\"?><svg xmlns=\"http://www.w3.org/2000/svg\" xmlns:xlink=\"http://www.w3.org/1999/xlink\" contentScriptType=\"application/ecmascript\" contentStyleType=\"text/css\" height=\"12px\" preserveAspectRatio=\"none\" style=\"width:12px;height:12px;\" version=\"1.1\" viewBox=\"0 0 12 12\" width=\"12px\" zoomAndPan=\"magnify\"><defs/><g><!--MD5=[896ac0e7a515d8dd7765a661cb4ee08b]\n",
       "@startuml\r\n",
       "skinparam linetype polyline\r\n",
       "skinparam monochrome true\r\n",
       "skinparam classbackgroundcolor white\r\n",
       "skinparam shadowing false\r\n",
       "skinparam wrapWidth 300\r\n",
       "hide circle\r\n",
       "\r\n",
       "@enduml\r\n",
       "\n",
       "PlantUML version 1.2020.13(Sat Jun 13 12:26:38 UTC 2020)\n",
       "(EPL source distribution)\n",
       "Java Runtime: OpenJDK Runtime Environment\n",
       "JVM: OpenJDK 64-Bit Server VM\n",
       "Default Encoding: UTF-8\n",
       "Language: en\n",
       "Country: null\n",
       "--></g></svg>"
      ]
     },
     "execution_count": 11,
     "metadata": {},
     "output_type": "execute_result"
    }
   ],
   "source": [
    "%viz --style=\"POLYLINE\" --view=\"State\" \"ControlNodeTest\""
   ]
  },
  {
   "cell_type": "code",
   "execution_count": 12,
   "id": "bede2515",
   "metadata": {
    "execution": {
     "iopub.execute_input": "2021-08-04T06:26:29.694110Z",
     "iopub.status.busy": "2021-08-04T06:26:29.693702Z",
     "iopub.status.idle": "2021-08-04T06:26:29.735604Z",
     "shell.execute_reply": "2021-08-04T06:26:29.734422Z"
    }
   },
   "outputs": [
    {
     "data": {
      "image/svg+xml": [
       "<?xml version=\"1.0\" encoding=\"UTF-8\" standalone=\"no\"?><svg xmlns=\"http://www.w3.org/2000/svg\" xmlns:xlink=\"http://www.w3.org/1999/xlink\" contentScriptType=\"application/ecmascript\" contentStyleType=\"text/css\" height=\"217px\" preserveAspectRatio=\"none\" style=\"width:205px;height:217px;\" version=\"1.1\" viewBox=\"0 0 205 217\" width=\"205px\" zoomAndPan=\"magnify\"><defs/><g><!--MD5=[fbc87193dbaf4d95561dea2c320d4a47]\n",
       "cluster E1--><a href=\"psysml:d75b3c07-b549-4c23-b2aa-d48828b6adea\" target=\"_top\" title=\"psysml:d75b3c07-b549-4c23-b2aa-d48828b6adea\" xlink:actuate=\"onRequest\" xlink:href=\"psysml:d75b3c07-b549-4c23-b2aa-d48828b6adea\" xlink:show=\"new\" xlink:title=\"psysml:d75b3c07-b549-4c23-b2aa-d48828b6adea\" xlink:type=\"simple\"><rect fill=\"#FFFFFF\" height=\"199\" id=\"E1\" style=\"stroke: #383838; stroke-width: 1.5;\" width=\"187\" x=\"7\" y=\"7\"/><rect fill=\"#F8F8F8\" height=\"37.9375\" style=\"stroke: #383838; stroke-width: 1.5;\" width=\"187\" x=\"7\" y=\"7\"/><text fill=\"#000000\" font-family=\"sans-serif\" font-size=\"12\" font-style=\"italic\" lengthAdjust=\"spacingAndGlyphs\" textLength=\"77\" x=\"62\" y=\"23.1387\">«action def»</text><text fill=\"#000000\" font-family=\"sans-serif\" font-size=\"12\" lengthAdjust=\"spacingAndGlyphs\" textLength=\"105\" x=\"48\" y=\"37.1074\">ControlNodeTest</text></a><rect fill=\"#000000\" height=\"8\" style=\"stroke: none; stroke-width: 1.0;\" width=\"80\" x=\"60\" y=\"111\"/><rect fill=\"#000000\" height=\"8\" style=\"stroke: none; stroke-width: 1.0;\" width=\"80\" x=\"60\" y=\"129\"/><g id=\"E1.E2\"><a href=\"psysml:c07d7274-d0ac-44b0-95a3-e3c0562da237\" target=\"_top\" title=\"psysml:c07d7274-d0ac-44b0-95a3-e3c0562da237\" xlink:actuate=\"onRequest\" xlink:href=\"psysml:c07d7274-d0ac-44b0-95a3-e3c0562da237\" xlink:show=\"new\" xlink:title=\"psysml:c07d7274-d0ac-44b0-95a3-e3c0562da237\" xlink:type=\"simple\"><rect fill=\"#FFFFFF\" height=\"42.9375\" id=\"E2\" rx=\"10\" ry=\"10\" style=\"stroke: #383838; stroke-width: 1.5;\" width=\"60\" x=\"118\" y=\"58\"/><rect fill=\"#F8F8F8\" height=\"37.9375\" rx=\"10\" ry=\"10\" style=\"stroke: #F8F8F8; stroke-width: 1.5;\" width=\"60\" x=\"118\" y=\"58\"/><rect fill=\"#F8F8F8\" height=\"10\" style=\"stroke: #F8F8F8; stroke-width: 1.5;\" width=\"60\" x=\"118\" y=\"85.9375\"/><rect fill=\"none\" height=\"42.9375\" id=\"E2\" rx=\"10\" ry=\"10\" style=\"stroke: #383838; stroke-width: 1.5;\" width=\"60\" x=\"118\" y=\"58\"/><text fill=\"#000000\" font-family=\"sans-serif\" font-size=\"12\" font-style=\"italic\" lengthAdjust=\"spacingAndGlyphs\" textLength=\"53\" x=\"121.5\" y=\"74.1387\">«action»</text><text fill=\"#000000\" font-family=\"sans-serif\" font-size=\"12\" lengthAdjust=\"spacingAndGlyphs\" textLength=\"16\" x=\"140\" y=\"88.1074\">A1</text></a></g><g id=\"E1.E3\"><a href=\"psysml:7bb05ae1-d1dd-4ff0-97ee-ce3344a0751d\" target=\"_top\" title=\"psysml:7bb05ae1-d1dd-4ff0-97ee-ce3344a0751d\" xlink:actuate=\"onRequest\" xlink:href=\"psysml:7bb05ae1-d1dd-4ff0-97ee-ce3344a0751d\" xlink:show=\"new\" xlink:title=\"psysml:7bb05ae1-d1dd-4ff0-97ee-ce3344a0751d\" xlink:type=\"simple\"><rect fill=\"#FFFFFF\" height=\"42.9375\" id=\"E3\" rx=\"10\" ry=\"10\" style=\"stroke: #383838; stroke-width: 1.5;\" width=\"60\" x=\"23\" y=\"58\"/><rect fill=\"#F8F8F8\" height=\"37.9375\" rx=\"10\" ry=\"10\" style=\"stroke: #F8F8F8; stroke-width: 1.5;\" width=\"60\" x=\"23\" y=\"58\"/><rect fill=\"#F8F8F8\" height=\"10\" style=\"stroke: #F8F8F8; stroke-width: 1.5;\" width=\"60\" x=\"23\" y=\"85.9375\"/><rect fill=\"none\" height=\"42.9375\" id=\"E3\" rx=\"10\" ry=\"10\" style=\"stroke: #383838; stroke-width: 1.5;\" width=\"60\" x=\"23\" y=\"58\"/><text fill=\"#000000\" font-family=\"sans-serif\" font-size=\"12\" font-style=\"italic\" lengthAdjust=\"spacingAndGlyphs\" textLength=\"53\" x=\"26.5\" y=\"74.1387\">«action»</text><text fill=\"#000000\" font-family=\"sans-serif\" font-size=\"12\" lengthAdjust=\"spacingAndGlyphs\" textLength=\"16\" x=\"45\" y=\"88.1074\">A2</text></a></g><g id=\"E1.E6\"><a href=\"psysml:d5fd7944-a8f1-4c67-81d3-da10d551f750\" target=\"_top\" title=\"psysml:d5fd7944-a8f1-4c67-81d3-da10d551f750\" xlink:actuate=\"onRequest\" xlink:href=\"psysml:d5fd7944-a8f1-4c67-81d3-da10d551f750\" xlink:show=\"new\" xlink:title=\"psysml:d5fd7944-a8f1-4c67-81d3-da10d551f750\" xlink:type=\"simple\"><rect fill=\"#FFFFFF\" height=\"42.9375\" id=\"E6\" rx=\"10\" ry=\"10\" style=\"stroke: #383838; stroke-width: 1.5;\" width=\"60\" x=\"23\" y=\"147\"/><rect fill=\"#F8F8F8\" height=\"37.9375\" rx=\"10\" ry=\"10\" style=\"stroke: #F8F8F8; stroke-width: 1.5;\" width=\"60\" x=\"23\" y=\"147\"/><rect fill=\"#F8F8F8\" height=\"10\" style=\"stroke: #F8F8F8; stroke-width: 1.5;\" width=\"60\" x=\"23\" y=\"174.9375\"/><rect fill=\"none\" height=\"42.9375\" id=\"E6\" rx=\"10\" ry=\"10\" style=\"stroke: #383838; stroke-width: 1.5;\" width=\"60\" x=\"23\" y=\"147\"/><text fill=\"#000000\" font-family=\"sans-serif\" font-size=\"12\" font-style=\"italic\" lengthAdjust=\"spacingAndGlyphs\" textLength=\"53\" x=\"26.5\" y=\"163.1387\">«action»</text><text fill=\"#000000\" font-family=\"sans-serif\" font-size=\"12\" lengthAdjust=\"spacingAndGlyphs\" textLength=\"16\" x=\"45\" y=\"177.1074\">B1</text></a></g><g id=\"E1.E7\"><a href=\"psysml:b7d3ffe5-6bb9-4232-a5c3-5eafb8d0b5f9\" target=\"_top\" title=\"psysml:b7d3ffe5-6bb9-4232-a5c3-5eafb8d0b5f9\" xlink:actuate=\"onRequest\" xlink:href=\"psysml:b7d3ffe5-6bb9-4232-a5c3-5eafb8d0b5f9\" xlink:show=\"new\" xlink:title=\"psysml:b7d3ffe5-6bb9-4232-a5c3-5eafb8d0b5f9\" xlink:type=\"simple\"><rect fill=\"#FFFFFF\" height=\"42.9375\" id=\"E7\" rx=\"10\" ry=\"10\" style=\"stroke: #383838; stroke-width: 1.5;\" width=\"60\" x=\"118\" y=\"147\"/><rect fill=\"#F8F8F8\" height=\"37.9375\" rx=\"10\" ry=\"10\" style=\"stroke: #F8F8F8; stroke-width: 1.5;\" width=\"60\" x=\"118\" y=\"147\"/><rect fill=\"#F8F8F8\" height=\"10\" style=\"stroke: #F8F8F8; stroke-width: 1.5;\" width=\"60\" x=\"118\" y=\"174.9375\"/><rect fill=\"none\" height=\"42.9375\" id=\"E7\" rx=\"10\" ry=\"10\" style=\"stroke: #383838; stroke-width: 1.5;\" width=\"60\" x=\"118\" y=\"147\"/><text fill=\"#000000\" font-family=\"sans-serif\" font-size=\"12\" font-style=\"italic\" lengthAdjust=\"spacingAndGlyphs\" textLength=\"53\" x=\"121.5\" y=\"163.1387\">«action»</text><text fill=\"#000000\" font-family=\"sans-serif\" font-size=\"12\" lengthAdjust=\"spacingAndGlyphs\" textLength=\"16\" x=\"140\" y=\"177.1074\">B2</text></a></g><!--MD5=[4d03bb2d0377dc85ccfab60ff574652b]\n",
       "link E2 to E4--><a href=\"psysml:a5b917a3-7538-4e28-aa62-755107929dae\" target=\"_top\" title=\"psysml:a5b917a3-7538-4e28-aa62-755107929dae\" xlink:actuate=\"onRequest\" xlink:href=\"psysml:a5b917a3-7538-4e28-aa62-755107929dae\" xlink:show=\"new\" xlink:title=\"psysml:a5b917a3-7538-4e28-aa62-755107929dae\" xlink:type=\"simple\"><path d=\"M118.42,101.14 C114.95,103.57 111.64,105.88 108.81,107.85 \" fill=\"none\" id=\"E2-&gt;E4\" style=\"stroke: #383838; stroke-width: 1.0;\"/><polygon fill=\"#383838\" points=\"104.3,111,113.9709,109.1361,108.4022,108.1413,109.397,102.5726,104.3,111\" style=\"stroke: #383838; stroke-width: 1.0;\"/><text fill=\"#000000\" font-family=\"sans-serif\" font-size=\"13\" lengthAdjust=\"spacingAndGlyphs\" textLength=\"7\" x=\"97.87\" y=\"99.9205\">*</text></a><!--MD5=[af87c684e3b0d8be13c1a698a818ef1e]\n",
       "link E3 to E4--><a href=\"psysml:b67a9087-1129-4a2e-aba3-334d88c3cbf2\" target=\"_top\" title=\"psysml:b67a9087-1129-4a2e-aba3-334d88c3cbf2\" xlink:actuate=\"onRequest\" xlink:href=\"psysml:b67a9087-1129-4a2e-aba3-334d88c3cbf2\" xlink:show=\"new\" xlink:title=\"psysml:b67a9087-1129-4a2e-aba3-334d88c3cbf2\" xlink:type=\"simple\"><path d=\"M81.96,101.14 C85.36,103.57 88.6,105.88 91.37,107.85 \" fill=\"none\" id=\"E3-&gt;E4\" style=\"stroke: #383838; stroke-width: 1.0;\"/><polygon fill=\"#383838\" points=\"95.79,111,90.7801,102.5206,91.7175,108.0992,86.1388,109.0366,95.79,111\" style=\"stroke: #383838; stroke-width: 1.0;\"/><text fill=\"#000000\" font-family=\"sans-serif\" font-size=\"13\" lengthAdjust=\"spacingAndGlyphs\" textLength=\"7\" x=\"91.1121\" y=\"103.6092\">*</text></a><!--MD5=[1b7591eae5389033d8d09a9d6721a717]\n",
       "link E4 to E5--><a href=\"psysml:9a17080e-ae46-40d4-b989-796f716175e4\" target=\"_top\" title=\"psysml:9a17080e-ae46-40d4-b989-796f716175e4\" xlink:actuate=\"onRequest\" xlink:href=\"psysml:9a17080e-ae46-40d4-b989-796f716175e4\" xlink:show=\"new\" xlink:title=\"psysml:9a17080e-ae46-40d4-b989-796f716175e4\" xlink:type=\"simple\"><path d=\"M100,119.08 C100,120.38 100,121.95 100,123.55 \" fill=\"none\" id=\"E4-&gt;E5\" style=\"stroke: #383838; stroke-width: 1.0;\"/><polygon fill=\"#383838\" points=\"100,128.7,104,119.7,100,123.7,96,119.7,100,128.7\" style=\"stroke: #383838; stroke-width: 1.0;\"/><text fill=\"#000000\" font-family=\"sans-serif\" font-size=\"13\" lengthAdjust=\"spacingAndGlyphs\" textLength=\"7\" x=\"42.9663\" y=\"135.9509\">*</text></a><!--MD5=[9120cf2e5df3bff93db8f754bbbc09b4]\n",
       "link E5 to E6--><a href=\"psysml:197b427e-ad07-4e53-856c-ed2b1bc0e06a\" target=\"_top\" title=\"psysml:197b427e-ad07-4e53-856c-ed2b1bc0e06a\" xlink:actuate=\"onRequest\" xlink:href=\"psysml:197b427e-ad07-4e53-856c-ed2b1bc0e06a\" xlink:show=\"new\" xlink:title=\"psysml:197b427e-ad07-4e53-856c-ed2b1bc0e06a\" xlink:type=\"simple\"><path d=\"M95.66,137.09 C93.25,138.81 89.99,141.13 86.35,143.73 \" fill=\"none\" id=\"E5-&gt;E6\" style=\"stroke: #383838; stroke-width: 1.0;\"/><polygon fill=\"#383838\" points=\"81.93,146.88,91.5812,144.9166,86.0025,143.9792,86.9399,138.4006,81.93,146.88\" style=\"stroke: #383838; stroke-width: 1.0;\"/><text fill=\"#000000\" font-family=\"sans-serif\" font-size=\"13\" lengthAdjust=\"spacingAndGlyphs\" textLength=\"7\" x=\"91.0509\" y=\"155.0031\">*</text></a><!--MD5=[3a9b96bfbf6b6ad89c494e81751bda47]\n",
       "link E5 to E7--><a href=\"psysml:b67e977c-71d2-45f4-9959-07a509bb3c26\" target=\"_top\" title=\"psysml:b67e977c-71d2-45f4-9959-07a509bb3c26\" xlink:actuate=\"onRequest\" xlink:href=\"psysml:b67e977c-71d2-45f4-9959-07a509bb3c26\" xlink:show=\"new\" xlink:title=\"psysml:b67e977c-71d2-45f4-9959-07a509bb3c26\" xlink:type=\"simple\"><path d=\"M104.43,137.09 C106.9,138.81 110.22,141.13 113.94,143.73 \" fill=\"none\" id=\"E5-&gt;E7\" style=\"stroke: #383838; stroke-width: 1.0;\"/><polygon fill=\"#383838\" points=\"118.46,146.88,113.3827,138.4407,114.3645,144.0117,108.7935,144.9935,118.46,146.88\" style=\"stroke: #383838; stroke-width: 1.0;\"/><text fill=\"#000000\" font-family=\"sans-serif\" font-size=\"13\" lengthAdjust=\"spacingAndGlyphs\" textLength=\"7\" x=\"102.9935\" y=\"155.3537\">*</text></a><!--MD5=[c4587d46f92ad0ff2f5d97941e1afe88]\n",
       "@startuml\r\n",
       "skinparam ranksep 10\r\n",
       "skinparam rectangle {\r\n",
       " backgroundColor<<block>> LightGreen\r\n",
       "}\r\n",
       "skinparam linetype polyline\r\n",
       "skinparam monochrome true\r\n",
       "skinparam classbackgroundcolor white\r\n",
       "skinparam shadowing false\r\n",
       "skinparam wrapWidth 300\r\n",
       "hide circle\r\n",
       "\r\n",
       "rec def \"ControlNodeTest\" as E1  <<(T,blue) action def>> [[psysml:d75b3c07-b549-4c23-b2aa-d48828b6adea ]] {\r\n",
       "rec usage \"A1\" as E2  <<(T,blue) action>> [[psysml:c07d7274-d0ac-44b0-95a3-e3c0562da237 ]] {\r\n",
       "}\r\n",
       "\r\n",
       "rec usage \"A2\" as E3  <<(T,blue) action>> [[psysml:7bb05ae1-d1dd-4ff0-97ee-ce3344a0751d ]] {\r\n",
       "}\r\n",
       "\r\n",
       "join \"J\" as E4  [[psysml:f3bfce16-3667-4a48-a42e-fd992fa328bf ]] \r\n",
       "fork \"F\" as E5  [[psysml:08c848ef-d5ea-4388-acb9-5b8d01347f10 ]] \r\n",
       "rec usage \"B1\" as E6  <<(T,blue) action>> [[psysml:d5fd7944-a8f1-4c67-81d3-da10d551f750 ]] {\r\n",
       "}\r\n",
       "\r\n",
       "rec usage \"B2\" as E7  <<(T,blue) action>> [[psysml:b7d3ffe5-6bb9-4232-a5c3-5eafb8d0b5f9 ]] {\r\n",
       "}\r\n",
       "\r\n",
       "}\r\n",
       "\r\n",
       "E2 - -> \"*\"E4 [[psysml:a5b917a3-7538-4e28-aa62-755107929dae ]] \r\n",
       "E3 - -> \"*\"E4 [[psysml:b67a9087-1129-4a2e-aba3-334d88c3cbf2 ]] \r\n",
       "E4 - -> \"*\"E5 [[psysml:9a17080e-ae46-40d4-b989-796f716175e4 ]] \r\n",
       "E5 - -> \"*\"E6 [[psysml:197b427e-ad07-4e53-856c-ed2b1bc0e06a ]] \r\n",
       "E5 - -> \"*\"E7 [[psysml:b67e977c-71d2-45f4-9959-07a509bb3c26 ]] \r\n",
       "@enduml\r\n",
       "\n",
       "PlantUML version 1.2020.13(Sat Jun 13 12:26:38 UTC 2020)\n",
       "(EPL source distribution)\n",
       "Java Runtime: OpenJDK Runtime Environment\n",
       "JVM: OpenJDK 64-Bit Server VM\n",
       "Default Encoding: UTF-8\n",
       "Language: en\n",
       "Country: null\n",
       "--></g></svg>"
      ]
     },
     "execution_count": 12,
     "metadata": {},
     "output_type": "execute_result"
    }
   ],
   "source": [
    "%viz --style=\"POLYLINE\" --view=\"Interconnection\" \"ControlNodeTest\""
   ]
  },
  {
   "cell_type": "code",
   "execution_count": 13,
   "id": "10722954",
   "metadata": {
    "execution": {
     "iopub.execute_input": "2021-08-04T06:26:29.785538Z",
     "iopub.status.busy": "2021-08-04T06:26:29.785137Z",
     "iopub.status.idle": "2021-08-04T06:26:29.818116Z",
     "shell.execute_reply": "2021-08-04T06:26:29.818430Z"
    }
   },
   "outputs": [
    {
     "data": {
      "image/svg+xml": [
       "<?xml version=\"1.0\" encoding=\"UTF-8\" standalone=\"no\"?><svg xmlns=\"http://www.w3.org/2000/svg\" xmlns:xlink=\"http://www.w3.org/1999/xlink\" contentScriptType=\"application/ecmascript\" contentStyleType=\"text/css\" height=\"211px\" preserveAspectRatio=\"none\" style=\"width:205px;height:211px;\" version=\"1.1\" viewBox=\"0 0 205 211\" width=\"205px\" zoomAndPan=\"magnify\"><defs/><g><!--MD5=[fbc87193dbaf4d95561dea2c320d4a47]\n",
       "cluster E1--><a href=\"psysml:d75b3c07-b549-4c23-b2aa-d48828b6adea\" target=\"_top\" title=\"psysml:d75b3c07-b549-4c23-b2aa-d48828b6adea\" xlink:actuate=\"onRequest\" xlink:href=\"psysml:d75b3c07-b549-4c23-b2aa-d48828b6adea\" xlink:show=\"new\" xlink:title=\"psysml:d75b3c07-b549-4c23-b2aa-d48828b6adea\" xlink:type=\"simple\"><rect fill=\"#FFFFFF\" height=\"193\" id=\"E1\" style=\"stroke: #383838; stroke-width: 1.5;\" width=\"187\" x=\"7\" y=\"7\"/><rect fill=\"#F8F8F8\" height=\"37.9375\" style=\"stroke: #383838; stroke-width: 1.5;\" width=\"187\" x=\"7\" y=\"7\"/><text fill=\"#000000\" font-family=\"sans-serif\" font-size=\"12\" font-style=\"italic\" lengthAdjust=\"spacingAndGlyphs\" textLength=\"77\" x=\"62\" y=\"23.1387\">«action def»</text><text fill=\"#000000\" font-family=\"sans-serif\" font-size=\"12\" lengthAdjust=\"spacingAndGlyphs\" textLength=\"105\" x=\"48\" y=\"37.1074\">ControlNodeTest</text></a><rect fill=\"#000000\" height=\"8\" style=\"stroke: none; stroke-width: 1.0;\" width=\"80\" x=\"60\" y=\"109\"/><rect fill=\"#000000\" height=\"8\" style=\"stroke: none; stroke-width: 1.0;\" width=\"80\" x=\"60\" y=\"125\"/><g id=\"E1.E2\"><a href=\"psysml:c07d7274-d0ac-44b0-95a3-e3c0562da237\" target=\"_top\" title=\"psysml:c07d7274-d0ac-44b0-95a3-e3c0562da237\" xlink:actuate=\"onRequest\" xlink:href=\"psysml:c07d7274-d0ac-44b0-95a3-e3c0562da237\" xlink:show=\"new\" xlink:title=\"psysml:c07d7274-d0ac-44b0-95a3-e3c0562da237\" xlink:type=\"simple\"><rect fill=\"#FFFFFF\" height=\"42.9375\" id=\"E2\" rx=\"10\" ry=\"10\" style=\"stroke: #383838; stroke-width: 1.5;\" width=\"60\" x=\"118\" y=\"58\"/><rect fill=\"#F8F8F8\" height=\"37.9375\" rx=\"10\" ry=\"10\" style=\"stroke: #F8F8F8; stroke-width: 1.5;\" width=\"60\" x=\"118\" y=\"58\"/><rect fill=\"#F8F8F8\" height=\"10\" style=\"stroke: #F8F8F8; stroke-width: 1.5;\" width=\"60\" x=\"118\" y=\"85.9375\"/><rect fill=\"none\" height=\"42.9375\" id=\"E2\" rx=\"10\" ry=\"10\" style=\"stroke: #383838; stroke-width: 1.5;\" width=\"60\" x=\"118\" y=\"58\"/><text fill=\"#000000\" font-family=\"sans-serif\" font-size=\"12\" font-style=\"italic\" lengthAdjust=\"spacingAndGlyphs\" textLength=\"53\" x=\"121.5\" y=\"74.1387\">«action»</text><text fill=\"#000000\" font-family=\"sans-serif\" font-size=\"12\" lengthAdjust=\"spacingAndGlyphs\" textLength=\"16\" x=\"140\" y=\"88.1074\">A1</text></a></g><g id=\"E1.E3\"><a href=\"psysml:7bb05ae1-d1dd-4ff0-97ee-ce3344a0751d\" target=\"_top\" title=\"psysml:7bb05ae1-d1dd-4ff0-97ee-ce3344a0751d\" xlink:actuate=\"onRequest\" xlink:href=\"psysml:7bb05ae1-d1dd-4ff0-97ee-ce3344a0751d\" xlink:show=\"new\" xlink:title=\"psysml:7bb05ae1-d1dd-4ff0-97ee-ce3344a0751d\" xlink:type=\"simple\"><rect fill=\"#FFFFFF\" height=\"42.9375\" id=\"E3\" rx=\"10\" ry=\"10\" style=\"stroke: #383838; stroke-width: 1.5;\" width=\"60\" x=\"23\" y=\"58\"/><rect fill=\"#F8F8F8\" height=\"37.9375\" rx=\"10\" ry=\"10\" style=\"stroke: #F8F8F8; stroke-width: 1.5;\" width=\"60\" x=\"23\" y=\"58\"/><rect fill=\"#F8F8F8\" height=\"10\" style=\"stroke: #F8F8F8; stroke-width: 1.5;\" width=\"60\" x=\"23\" y=\"85.9375\"/><rect fill=\"none\" height=\"42.9375\" id=\"E3\" rx=\"10\" ry=\"10\" style=\"stroke: #383838; stroke-width: 1.5;\" width=\"60\" x=\"23\" y=\"58\"/><text fill=\"#000000\" font-family=\"sans-serif\" font-size=\"12\" font-style=\"italic\" lengthAdjust=\"spacingAndGlyphs\" textLength=\"53\" x=\"26.5\" y=\"74.1387\">«action»</text><text fill=\"#000000\" font-family=\"sans-serif\" font-size=\"12\" lengthAdjust=\"spacingAndGlyphs\" textLength=\"16\" x=\"45\" y=\"88.1074\">A2</text></a></g><g id=\"E1.E6\"><a href=\"psysml:d5fd7944-a8f1-4c67-81d3-da10d551f750\" target=\"_top\" title=\"psysml:d5fd7944-a8f1-4c67-81d3-da10d551f750\" xlink:actuate=\"onRequest\" xlink:href=\"psysml:d5fd7944-a8f1-4c67-81d3-da10d551f750\" xlink:show=\"new\" xlink:title=\"psysml:d5fd7944-a8f1-4c67-81d3-da10d551f750\" xlink:type=\"simple\"><rect fill=\"#FFFFFF\" height=\"42.9375\" id=\"E6\" rx=\"10\" ry=\"10\" style=\"stroke: #383838; stroke-width: 1.5;\" width=\"60\" x=\"23\" y=\"141\"/><rect fill=\"#F8F8F8\" height=\"37.9375\" rx=\"10\" ry=\"10\" style=\"stroke: #F8F8F8; stroke-width: 1.5;\" width=\"60\" x=\"23\" y=\"141\"/><rect fill=\"#F8F8F8\" height=\"10\" style=\"stroke: #F8F8F8; stroke-width: 1.5;\" width=\"60\" x=\"23\" y=\"168.9375\"/><rect fill=\"none\" height=\"42.9375\" id=\"E6\" rx=\"10\" ry=\"10\" style=\"stroke: #383838; stroke-width: 1.5;\" width=\"60\" x=\"23\" y=\"141\"/><text fill=\"#000000\" font-family=\"sans-serif\" font-size=\"12\" font-style=\"italic\" lengthAdjust=\"spacingAndGlyphs\" textLength=\"53\" x=\"26.5\" y=\"157.1387\">«action»</text><text fill=\"#000000\" font-family=\"sans-serif\" font-size=\"12\" lengthAdjust=\"spacingAndGlyphs\" textLength=\"16\" x=\"45\" y=\"171.1074\">B1</text></a></g><g id=\"E1.E7\"><a href=\"psysml:b7d3ffe5-6bb9-4232-a5c3-5eafb8d0b5f9\" target=\"_top\" title=\"psysml:b7d3ffe5-6bb9-4232-a5c3-5eafb8d0b5f9\" xlink:actuate=\"onRequest\" xlink:href=\"psysml:b7d3ffe5-6bb9-4232-a5c3-5eafb8d0b5f9\" xlink:show=\"new\" xlink:title=\"psysml:b7d3ffe5-6bb9-4232-a5c3-5eafb8d0b5f9\" xlink:type=\"simple\"><rect fill=\"#FFFFFF\" height=\"42.9375\" id=\"E7\" rx=\"10\" ry=\"10\" style=\"stroke: #383838; stroke-width: 1.5;\" width=\"60\" x=\"118\" y=\"141\"/><rect fill=\"#F8F8F8\" height=\"37.9375\" rx=\"10\" ry=\"10\" style=\"stroke: #F8F8F8; stroke-width: 1.5;\" width=\"60\" x=\"118\" y=\"141\"/><rect fill=\"#F8F8F8\" height=\"10\" style=\"stroke: #F8F8F8; stroke-width: 1.5;\" width=\"60\" x=\"118\" y=\"168.9375\"/><rect fill=\"none\" height=\"42.9375\" id=\"E7\" rx=\"10\" ry=\"10\" style=\"stroke: #383838; stroke-width: 1.5;\" width=\"60\" x=\"118\" y=\"141\"/><text fill=\"#000000\" font-family=\"sans-serif\" font-size=\"12\" font-style=\"italic\" lengthAdjust=\"spacingAndGlyphs\" textLength=\"53\" x=\"121.5\" y=\"157.1387\">«action»</text><text fill=\"#000000\" font-family=\"sans-serif\" font-size=\"12\" lengthAdjust=\"spacingAndGlyphs\" textLength=\"16\" x=\"140\" y=\"171.1074\">B2</text></a></g><!--MD5=[4d03bb2d0377dc85ccfab60ff574652b]\n",
       "link E2 to E4--><a href=\"psysml:a5b917a3-7538-4e28-aa62-755107929dae\" target=\"_top\" title=\"psysml:a5b917a3-7538-4e28-aa62-755107929dae\" xlink:actuate=\"onRequest\" xlink:href=\"psysml:a5b917a3-7538-4e28-aa62-755107929dae\" xlink:show=\"new\" xlink:title=\"psysml:a5b917a3-7538-4e28-aa62-755107929dae\" xlink:type=\"simple\"><path d=\"M117.87,100.27 C114.67,102.37 111.63,104.37 108.98,106.1 \" fill=\"none\" id=\"E2-&gt;E4\" style=\"stroke: #383838; stroke-width: 1.0; stroke-dasharray: 7.0,7.0;\"/><polygon fill=\"#383838\" points=\"104.72,108.9,114.4401,107.3128,108.9021,106.1595,110.0554,100.6215,104.72,108.9\" style=\"stroke: #383838; stroke-width: 1.0;\"/></a><!--MD5=[af87c684e3b0d8be13c1a698a818ef1e]\n",
       "link E3 to E4--><a href=\"psysml:b67a9087-1129-4a2e-aba3-334d88c3cbf2\" target=\"_top\" title=\"psysml:b67a9087-1129-4a2e-aba3-334d88c3cbf2\" xlink:actuate=\"onRequest\" xlink:href=\"psysml:b67a9087-1129-4a2e-aba3-334d88c3cbf2\" xlink:show=\"new\" xlink:title=\"psysml:b67a9087-1129-4a2e-aba3-334d88c3cbf2\" xlink:type=\"simple\"><path d=\"M83.03,100.63 C85.85,102.52 88.54,104.32 90.9,105.9 \" fill=\"none\" id=\"E3-&gt;E4\" style=\"stroke: #383838; stroke-width: 1.0; stroke-dasharray: 7.0,7.0;\"/><polygon fill=\"#383838\" points=\"95.26,108.82,90.0101,100.487,91.1063,106.0366,85.5567,107.1328,95.26,108.82\" style=\"stroke: #383838; stroke-width: 1.0;\"/></a><!--MD5=[1b7591eae5389033d8d09a9d6721a717]\n",
       "link E4 to E5--><a href=\"psysml:9a17080e-ae46-40d4-b989-796f716175e4\" target=\"_top\" title=\"psysml:9a17080e-ae46-40d4-b989-796f716175e4\" xlink:actuate=\"onRequest\" xlink:href=\"psysml:9a17080e-ae46-40d4-b989-796f716175e4\" xlink:show=\"new\" xlink:title=\"psysml:9a17080e-ae46-40d4-b989-796f716175e4\" xlink:type=\"simple\"><path d=\"M100,117.25 C100,118.05 100,118.94 100,119.86 \" fill=\"none\" id=\"E4-&gt;E5\" style=\"stroke: #383838; stroke-width: 1.0; stroke-dasharray: 7.0,7.0;\"/><polygon fill=\"#383838\" points=\"100,124.96,104,115.96,100,119.96,96,115.96,100,124.96\" style=\"stroke: #383838; stroke-width: 1.0;\"/></a><!--MD5=[9120cf2e5df3bff93db8f754bbbc09b4]\n",
       "link E5 to E6--><a href=\"psysml:197b427e-ad07-4e53-856c-ed2b1bc0e06a\" target=\"_top\" title=\"psysml:197b427e-ad07-4e53-856c-ed2b1bc0e06a\" xlink:actuate=\"onRequest\" xlink:href=\"psysml:197b427e-ad07-4e53-856c-ed2b1bc0e06a\" xlink:show=\"new\" xlink:title=\"psysml:197b427e-ad07-4e53-856c-ed2b1bc0e06a\" xlink:type=\"simple\"><path d=\"M95.32,133.14 C93.21,134.55 90.52,136.35 87.53,138.36 \" fill=\"none\" id=\"E5-&gt;E6\" style=\"stroke: #383838; stroke-width: 1.0; stroke-dasharray: 7.0,7.0;\"/><polygon fill=\"#383838\" points=\"83.27,141.21,92.9706,139.5074,87.4192,138.42,88.5066,132.8687,83.27,141.21\" style=\"stroke: #383838; stroke-width: 1.0;\"/></a><!--MD5=[3a9b96bfbf6b6ad89c494e81751bda47]\n",
       "link E5 to E7--><a href=\"psysml:b67e977c-71d2-45f4-9959-07a509bb3c26\" target=\"_top\" title=\"psysml:b67e977c-71d2-45f4-9959-07a509bb3c26\" xlink:actuate=\"onRequest\" xlink:href=\"psysml:b67e977c-71d2-45f4-9959-07a509bb3c26\" xlink:show=\"new\" xlink:title=\"psysml:b67e977c-71d2-45f4-9959-07a509bb3c26\" xlink:type=\"simple\"><path d=\"M104.78,133.14 C107.16,134.7 110.28,136.75 113.75,139.02 \" fill=\"none\" id=\"E5-&gt;E7\" style=\"stroke: #383838; stroke-width: 1.0; stroke-dasharray: 7.0,7.0;\"/><polygon fill=\"#383838\" points=\"117.96,141.79,112.6246,133.5115,113.7779,139.0495,108.2399,140.2028,117.96,141.79\" style=\"stroke: #383838; stroke-width: 1.0;\"/></a><!--MD5=[f34d198bd1cdd0dcce05564953f41a11]\n",
       "@startuml\r\n",
       "skinparam ranksep 8\r\n",
       "skinparam linetype polyline\r\n",
       "skinparam monochrome true\r\n",
       "skinparam classbackgroundcolor white\r\n",
       "skinparam shadowing false\r\n",
       "skinparam wrapWidth 300\r\n",
       "hide circle\r\n",
       "\r\n",
       "rec def \"ControlNodeTest\" as E1  <<(T,blue) action def>> [[psysml:d75b3c07-b549-4c23-b2aa-d48828b6adea ]] {\r\n",
       "rec usage \"A1\" as E2  <<(T,blue) action>> [[psysml:c07d7274-d0ac-44b0-95a3-e3c0562da237 ]] {\r\n",
       "}\r\n",
       "\r\n",
       "rec usage \"A2\" as E3  <<(T,blue) action>> [[psysml:7bb05ae1-d1dd-4ff0-97ee-ce3344a0751d ]] {\r\n",
       "}\r\n",
       "\r\n",
       "join \"J\" as E4  [[psysml:f3bfce16-3667-4a48-a42e-fd992fa328bf ]] \r\n",
       "fork \"F\" as E5  [[psysml:08c848ef-d5ea-4388-acb9-5b8d01347f10 ]] \r\n",
       "rec usage \"B1\" as E6  <<(T,blue) action>> [[psysml:d5fd7944-a8f1-4c67-81d3-da10d551f750 ]] {\r\n",
       "}\r\n",
       "\r\n",
       "rec usage \"B2\" as E7  <<(T,blue) action>> [[psysml:b7d3ffe5-6bb9-4232-a5c3-5eafb8d0b5f9 ]] {\r\n",
       "}\r\n",
       "\r\n",
       "}\r\n",
       "\r\n",
       "E2 ..> E4 [[psysml:a5b917a3-7538-4e28-aa62-755107929dae ]] \r\n",
       "E3 ..> E4 [[psysml:b67a9087-1129-4a2e-aba3-334d88c3cbf2 ]] \r\n",
       "E4 ..> E5 [[psysml:9a17080e-ae46-40d4-b989-796f716175e4 ]] \r\n",
       "E5 ..> E6 [[psysml:197b427e-ad07-4e53-856c-ed2b1bc0e06a ]] \r\n",
       "E5 ..> E7 [[psysml:b67e977c-71d2-45f4-9959-07a509bb3c26 ]] \r\n",
       "@enduml\r\n",
       "\n",
       "PlantUML version 1.2020.13(Sat Jun 13 12:26:38 UTC 2020)\n",
       "(EPL source distribution)\n",
       "Java Runtime: OpenJDK Runtime Environment\n",
       "JVM: OpenJDK 64-Bit Server VM\n",
       "Default Encoding: UTF-8\n",
       "Language: en\n",
       "Country: null\n",
       "--></g></svg>"
      ]
     },
     "execution_count": 13,
     "metadata": {},
     "output_type": "execute_result"
    }
   ],
   "source": [
    "%viz --style=\"POLYLINE\" --view=\"Action\" \"ControlNodeTest\""
   ]
  },
  {
   "cell_type": "code",
   "execution_count": 14,
   "id": "b3ff237e",
   "metadata": {
    "execution": {
     "iopub.execute_input": "2021-08-04T06:26:29.868581Z",
     "iopub.status.busy": "2021-08-04T06:26:29.868179Z",
     "iopub.status.idle": "2021-08-04T06:26:29.913637Z",
     "shell.execute_reply": "2021-08-04T06:26:29.912686Z"
    }
   },
   "outputs": [
    {
     "data": {
      "image/svg+xml": [
       "<?xml version=\"1.0\" encoding=\"UTF-8\" standalone=\"no\"?><svg xmlns=\"http://www.w3.org/2000/svg\" xmlns:xlink=\"http://www.w3.org/1999/xlink\" contentScriptType=\"application/ecmascript\" contentStyleType=\"text/css\" height=\"169px\" preserveAspectRatio=\"none\" style=\"width:557px;height:169px;\" version=\"1.1\" viewBox=\"0 0 557 169\" width=\"557px\" zoomAndPan=\"magnify\"><defs/><g><!--MD5=[43c9051892ef23e1a46a86907403d788]\n",
       "class E1--><a href=\"psysml:d75b3c07-b549-4c23-b2aa-d48828b6adea\" target=\"_top\" title=\"psysml:d75b3c07-b549-4c23-b2aa-d48828b6adea\" xlink:actuate=\"onRequest\" xlink:href=\"psysml:d75b3c07-b549-4c23-b2aa-d48828b6adea\" xlink:show=\"new\" xlink:title=\"psysml:d75b3c07-b549-4c23-b2aa-d48828b6adea\" xlink:type=\"simple\"><rect fill=\"#FFFFFF\" height=\"45.9375\" id=\"E1\" style=\"stroke: #383838; stroke-width: 1.5;\" width=\"111\" x=\"220\" y=\"7\"/><text fill=\"#000000\" font-family=\"sans-serif\" font-size=\"12\" font-style=\"italic\" lengthAdjust=\"spacingAndGlyphs\" textLength=\"77\" x=\"237\" y=\"23.1387\">«action def»</text><text fill=\"#000000\" font-family=\"sans-serif\" font-size=\"12\" lengthAdjust=\"spacingAndGlyphs\" textLength=\"105\" x=\"223\" y=\"37.1074\">ControlNodeTest</text><line style=\"stroke: #383838; stroke-width: 1.5;\" x1=\"221\" x2=\"330\" y1=\"44.9375\" y2=\"44.9375\"/></a><!--MD5=[b4997ac47864f28c2f74865a473b2911]\n",
       "class E2--><a href=\"psysml:c07d7274-d0ac-44b0-95a3-e3c0562da237\" target=\"_top\" title=\"psysml:c07d7274-d0ac-44b0-95a3-e3c0562da237\" xlink:actuate=\"onRequest\" xlink:href=\"psysml:c07d7274-d0ac-44b0-95a3-e3c0562da237\" xlink:show=\"new\" xlink:title=\"psysml:c07d7274-d0ac-44b0-95a3-e3c0562da237\" xlink:type=\"simple\"><rect fill=\"#FFFFFF\" height=\"45.9375\" id=\"E2\" rx=\"10\" ry=\"10\" style=\"stroke: #383838; stroke-width: 1.5;\" width=\"55\" x=\"7\" y=\"113\"/><text fill=\"#000000\" font-family=\"sans-serif\" font-size=\"12\" font-style=\"italic\" lengthAdjust=\"spacingAndGlyphs\" textLength=\"53\" x=\"8\" y=\"129.1387\">«action»</text><text fill=\"#000000\" font-family=\"sans-serif\" font-size=\"12\" lengthAdjust=\"spacingAndGlyphs\" textLength=\"16\" x=\"26.5\" y=\"143.1074\">A1</text><line style=\"stroke: #383838; stroke-width: 1.5;\" x1=\"8\" x2=\"61\" y1=\"150.9375\" y2=\"150.9375\"/></a><!--MD5=[09b614a08d8cba4a07c9adeb5e0fee81]\n",
       "class E3--><a href=\"psysml:7bb05ae1-d1dd-4ff0-97ee-ce3344a0751d\" target=\"_top\" title=\"psysml:7bb05ae1-d1dd-4ff0-97ee-ce3344a0751d\" xlink:actuate=\"onRequest\" xlink:href=\"psysml:7bb05ae1-d1dd-4ff0-97ee-ce3344a0751d\" xlink:show=\"new\" xlink:title=\"psysml:7bb05ae1-d1dd-4ff0-97ee-ce3344a0751d\" xlink:type=\"simple\"><rect fill=\"#FFFFFF\" height=\"45.9375\" id=\"E3\" rx=\"10\" ry=\"10\" style=\"stroke: #383838; stroke-width: 1.5;\" width=\"55\" x=\"97\" y=\"113\"/><text fill=\"#000000\" font-family=\"sans-serif\" font-size=\"12\" font-style=\"italic\" lengthAdjust=\"spacingAndGlyphs\" textLength=\"53\" x=\"98\" y=\"129.1387\">«action»</text><text fill=\"#000000\" font-family=\"sans-serif\" font-size=\"12\" lengthAdjust=\"spacingAndGlyphs\" textLength=\"16\" x=\"116.5\" y=\"143.1074\">A2</text><line style=\"stroke: #383838; stroke-width: 1.5;\" x1=\"98\" x2=\"151\" y1=\"150.9375\" y2=\"150.9375\"/></a><!--MD5=[ebbe1d658d1005bcc118a6aa81145e00]\n",
       "class E4--><a href=\"psysml:f3bfce16-3667-4a48-a42e-fd992fa328bf\" target=\"_top\" title=\"psysml:f3bfce16-3667-4a48-a42e-fd992fa328bf\" xlink:actuate=\"onRequest\" xlink:href=\"psysml:f3bfce16-3667-4a48-a42e-fd992fa328bf\" xlink:show=\"new\" xlink:title=\"psysml:f3bfce16-3667-4a48-a42e-fd992fa328bf\" xlink:type=\"simple\"><rect fill=\"#FFFFFF\" height=\"45.9375\" id=\"E4\" rx=\"10\" ry=\"10\" style=\"stroke: #383838; stroke-width: 1.5;\" width=\"71\" x=\"187\" y=\"113\"/><text fill=\"#000000\" font-family=\"sans-serif\" font-size=\"12\" font-style=\"italic\" lengthAdjust=\"spacingAndGlyphs\" textLength=\"69\" x=\"188\" y=\"129.1387\">«joinNode»</text><text fill=\"#000000\" font-family=\"sans-serif\" font-size=\"12\" lengthAdjust=\"spacingAndGlyphs\" textLength=\"3\" x=\"221\" y=\"143.1074\">J</text><line style=\"stroke: #383838; stroke-width: 1.5;\" x1=\"188\" x2=\"257\" y1=\"150.9375\" y2=\"150.9375\"/></a><!--MD5=[270fce915f116d4de14055a7c1d9a0f3]\n",
       "class E5--><a href=\"psysml:08c848ef-d5ea-4388-acb9-5b8d01347f10\" target=\"_top\" title=\"psysml:08c848ef-d5ea-4388-acb9-5b8d01347f10\" xlink:actuate=\"onRequest\" xlink:href=\"psysml:08c848ef-d5ea-4388-acb9-5b8d01347f10\" xlink:show=\"new\" xlink:title=\"psysml:08c848ef-d5ea-4388-acb9-5b8d01347f10\" xlink:type=\"simple\"><rect fill=\"#FFFFFF\" height=\"45.9375\" id=\"E5\" rx=\"10\" ry=\"10\" style=\"stroke: #383838; stroke-width: 1.5;\" width=\"73\" x=\"293\" y=\"113\"/><text fill=\"#000000\" font-family=\"sans-serif\" font-size=\"12\" font-style=\"italic\" lengthAdjust=\"spacingAndGlyphs\" textLength=\"71\" x=\"294\" y=\"129.1387\">«forkNode»</text><text fill=\"#000000\" font-family=\"sans-serif\" font-size=\"12\" lengthAdjust=\"spacingAndGlyphs\" textLength=\"7\" x=\"326\" y=\"143.1074\">F</text><line style=\"stroke: #383838; stroke-width: 1.5;\" x1=\"294\" x2=\"365\" y1=\"150.9375\" y2=\"150.9375\"/></a><!--MD5=[60a26617385b1d2d0262a64233df1f8d]\n",
       "class E6--><a href=\"psysml:d5fd7944-a8f1-4c67-81d3-da10d551f750\" target=\"_top\" title=\"psysml:d5fd7944-a8f1-4c67-81d3-da10d551f750\" xlink:actuate=\"onRequest\" xlink:href=\"psysml:d5fd7944-a8f1-4c67-81d3-da10d551f750\" xlink:show=\"new\" xlink:title=\"psysml:d5fd7944-a8f1-4c67-81d3-da10d551f750\" xlink:type=\"simple\"><rect fill=\"#FFFFFF\" height=\"45.9375\" id=\"E6\" rx=\"10\" ry=\"10\" style=\"stroke: #383838; stroke-width: 1.5;\" width=\"55\" x=\"401\" y=\"113\"/><text fill=\"#000000\" font-family=\"sans-serif\" font-size=\"12\" font-style=\"italic\" lengthAdjust=\"spacingAndGlyphs\" textLength=\"53\" x=\"402\" y=\"129.1387\">«action»</text><text fill=\"#000000\" font-family=\"sans-serif\" font-size=\"12\" lengthAdjust=\"spacingAndGlyphs\" textLength=\"16\" x=\"420.5\" y=\"143.1074\">B1</text><line style=\"stroke: #383838; stroke-width: 1.5;\" x1=\"402\" x2=\"455\" y1=\"150.9375\" y2=\"150.9375\"/></a><!--MD5=[2156ba9850f5573cc1fc38a6a4b2f02b]\n",
       "class E7--><a href=\"psysml:b7d3ffe5-6bb9-4232-a5c3-5eafb8d0b5f9\" target=\"_top\" title=\"psysml:b7d3ffe5-6bb9-4232-a5c3-5eafb8d0b5f9\" xlink:actuate=\"onRequest\" xlink:href=\"psysml:b7d3ffe5-6bb9-4232-a5c3-5eafb8d0b5f9\" xlink:show=\"new\" xlink:title=\"psysml:b7d3ffe5-6bb9-4232-a5c3-5eafb8d0b5f9\" xlink:type=\"simple\"><rect fill=\"#FFFFFF\" height=\"45.9375\" id=\"E7\" rx=\"10\" ry=\"10\" style=\"stroke: #383838; stroke-width: 1.5;\" width=\"55\" x=\"491\" y=\"113\"/><text fill=\"#000000\" font-family=\"sans-serif\" font-size=\"12\" font-style=\"italic\" lengthAdjust=\"spacingAndGlyphs\" textLength=\"53\" x=\"492\" y=\"129.1387\">«action»</text><text fill=\"#000000\" font-family=\"sans-serif\" font-size=\"12\" lengthAdjust=\"spacingAndGlyphs\" textLength=\"16\" x=\"510.5\" y=\"143.1074\">B2</text><line style=\"stroke: #383838; stroke-width: 1.5;\" x1=\"492\" x2=\"545\" y1=\"150.9375\" y2=\"150.9375\"/></a><!--MD5=[a523cb2a0b79ecf9065ad8783f96c320]\n",
       "reverse link E1 to E2--><a href=\"psysml:090da899-d633-4f68-ac70-93df987c1f89\" target=\"_top\" title=\"psysml:090da899-d633-4f68-ac70-93df987c1f89\" xlink:actuate=\"onRequest\" xlink:href=\"psysml:090da899-d633-4f68-ac70-93df987c1f89\" xlink:show=\"new\" xlink:title=\"psysml:090da899-d633-4f68-ac70-93df987c1f89\" xlink:type=\"simple\"><path d=\"M210.47,58.21 C153.42,82.07 79.5,113 79.5,113 C79.5,113 71.49,116.92 62.23,121.44 \" fill=\"none\" id=\"E1&lt;-E2\" style=\"stroke: #383838; stroke-width: 1.0;\"/><polygon fill=\"#383838\" points=\"222.72,53.08,215.6417,51.7026,211.6478,57.7066,218.7261,59.0841,222.72,53.08\" style=\"stroke: #383838; stroke-width: 1.0;\"/><text fill=\"#000000\" font-family=\"sans-serif\" font-size=\"13\" lengthAdjust=\"spacingAndGlyphs\" textLength=\"7\" x=\"69.8423\" y=\"113.1536\">*</text></a><!--MD5=[5d7b3810b1dd9b5164bea1151b29b665]\n",
       "reverse link E1 to E3--><a href=\"psysml:797c4c3c-8cfb-4ed1-914f-99d654db3cec\" target=\"_top\" title=\"psysml:797c4c3c-8cfb-4ed1-914f-99d654db3cec\" xlink:actuate=\"onRequest\" xlink:href=\"psysml:797c4c3c-8cfb-4ed1-914f-99d654db3cec\" xlink:show=\"new\" xlink:title=\"psysml:797c4c3c-8cfb-4ed1-914f-99d654db3cec\" xlink:type=\"simple\"><path d=\"M232.52,60.6 C206.81,78.31 174.87,100.31 152.42,115.77 \" fill=\"none\" id=\"E1&lt;-E3\" style=\"stroke: #383838; stroke-width: 1.0;\"/><polygon fill=\"#383838\" points=\"243.48,53.06,236.2697,53.1655,233.5938,59.8617,240.8041,59.7562,243.48,53.06\" style=\"stroke: #383838; stroke-width: 1.0;\"/><text fill=\"#000000\" font-family=\"sans-serif\" font-size=\"13\" lengthAdjust=\"spacingAndGlyphs\" textLength=\"7\" x=\"160.0786\" y=\"106.1015\">*</text></a><!--MD5=[f2c5c03aa1e8c0ba21c10a05e6444b8e]\n",
       "reverse link E1 to E4--><a href=\"psysml:70a466ea-83ad-4e19-afa5-d192b13fd9c7\" target=\"_top\" title=\"psysml:70a466ea-83ad-4e19-afa5-d192b13fd9c7\" xlink:actuate=\"onRequest\" xlink:href=\"psysml:70a466ea-83ad-4e19-afa5-d192b13fd9c7\" xlink:show=\"new\" xlink:title=\"psysml:70a466ea-83ad-4e19-afa5-d192b13fd9c7\" xlink:type=\"simple\"><path d=\"M258.16,65.03 C250.13,80.78 240.82,99.06 233.72,112.98 \" fill=\"none\" id=\"E1&lt;-E4\" style=\"stroke: #383838; stroke-width: 1.0;\"/><polygon fill=\"#383838\" points=\"264.26,53.06,257.9728,56.5915,258.8145,63.7533,265.1017,60.2218,264.26,53.06\" style=\"stroke: #383838; stroke-width: 1.0;\"/></a><!--MD5=[33238bef88d6431a141d8bc8fb12bca0]\n",
       "reverse link E1 to E5--><a href=\"psysml:26253911-6243-446d-b791-23c0e42b91a5\" target=\"_top\" title=\"psysml:26253911-6243-446d-b791-23c0e42b91a5\" xlink:actuate=\"onRequest\" xlink:href=\"psysml:26253911-6243-446d-b791-23c0e42b91a5\" xlink:show=\"new\" xlink:title=\"psysml:26253911-6243-446d-b791-23c0e42b91a5\" xlink:type=\"simple\"><path d=\"M293.17,65.03 C301.35,80.78 310.84,99.06 318.06,112.98 \" fill=\"none\" id=\"E1&lt;-E5\" style=\"stroke: #383838; stroke-width: 1.0;\"/><polygon fill=\"#383838\" points=\"286.95,53.06,286.1611,60.2278,292.4742,63.7129,293.263,56.545,286.95,53.06\" style=\"stroke: #383838; stroke-width: 1.0;\"/></a><!--MD5=[aca2ef284c2b1b90e17e73bf3f292c07]\n",
       "reverse link E1 to E6--><a href=\"psysml:e8354a48-cb93-46c3-a69e-19a4acf29f71\" target=\"_top\" title=\"psysml:e8354a48-cb93-46c3-a69e-19a4acf29f71\" xlink:actuate=\"onRequest\" xlink:href=\"psysml:e8354a48-cb93-46c3-a69e-19a4acf29f71\" xlink:show=\"new\" xlink:title=\"psysml:e8354a48-cb93-46c3-a69e-19a4acf29f71\" xlink:type=\"simple\"><path d=\"M318.77,60.41 C345.06,78.28 377.86,100.58 400.72,116.11 \" fill=\"none\" id=\"E1&lt;-E6\" style=\"stroke: #383838; stroke-width: 1.0;\"/><polygon fill=\"#383838\" points=\"307.95,53.06,310.6626,59.7415,317.8734,59.8074,315.1608,53.1259,307.95,53.06\" style=\"stroke: #383838; stroke-width: 1.0;\"/><text fill=\"#000000\" font-family=\"sans-serif\" font-size=\"13\" lengthAdjust=\"spacingAndGlyphs\" textLength=\"7\" x=\"386.0955\" y=\"106.5244\">*</text></a><!--MD5=[fc9706a6b2cf8c0e423679d303750d3f]\n",
       "reverse link E1 to E7--><a href=\"psysml:8dca6daf-962f-46a3-bb74-22037bd04295\" target=\"_top\" title=\"psysml:8dca6daf-962f-46a3-bb74-22037bd04295\" xlink:actuate=\"onRequest\" xlink:href=\"psysml:8dca6daf-962f-46a3-bb74-22037bd04295\" xlink:show=\"new\" xlink:title=\"psysml:8dca6daf-962f-46a3-bb74-22037bd04295\" xlink:type=\"simple\"><path d=\"M340.83,58.06 C398.51,81.94 473.5,113 473.5,113 C473.5,113 481.51,116.92 490.77,121.44 \" fill=\"none\" id=\"E1&lt;-E7\" style=\"stroke: #383838; stroke-width: 1.0;\"/><polygon fill=\"#383838\" points=\"328.82,53.08,332.8347,59.0702,339.9082,57.6682,335.8935,51.678,328.82,53.08\" style=\"stroke: #383838; stroke-width: 1.0;\"/><text fill=\"#000000\" font-family=\"sans-serif\" font-size=\"13\" lengthAdjust=\"spacingAndGlyphs\" textLength=\"7\" x=\"476.1577\" y=\"113.1536\">*</text></a><!--MD5=[ccf1da9fb46361497fd394ba583fd722]\n",
       "@startuml\r\n",
       "skinparam linetype polyline\r\n",
       "skinparam monochrome true\r\n",
       "skinparam classbackgroundcolor white\r\n",
       "skinparam shadowing false\r\n",
       "skinparam wrapWidth 300\r\n",
       "hide circle\r\n",
       "\r\n",
       "comp def \"ControlNodeTest\" as E1  <<(T,blue) action def>> [[psysml:d75b3c07-b549-4c23-b2aa-d48828b6adea ]] {\r\n",
       "}\r\n",
       "comp usage \"A1\" as E2  <<(T,blue) action>> [[psysml:c07d7274-d0ac-44b0-95a3-e3c0562da237 ]] {\r\n",
       "}\r\n",
       "comp usage \"A2\" as E3  <<(T,blue) action>> [[psysml:7bb05ae1-d1dd-4ff0-97ee-ce3344a0751d ]] {\r\n",
       "}\r\n",
       "comp usage \"J\" as E4  <<(T,blue) joinNode>> [[psysml:f3bfce16-3667-4a48-a42e-fd992fa328bf ]] {\r\n",
       "}\r\n",
       "comp usage \"F\" as E5  <<(T,blue) forkNode>> [[psysml:08c848ef-d5ea-4388-acb9-5b8d01347f10 ]] {\r\n",
       "}\r\n",
       "comp usage \"B1\" as E6  <<(T,blue) action>> [[psysml:d5fd7944-a8f1-4c67-81d3-da10d551f750 ]] {\r\n",
       "}\r\n",
       "comp usage \"B2\" as E7  <<(T,blue) action>> [[psysml:b7d3ffe5-6bb9-4232-a5c3-5eafb8d0b5f9 ]] {\r\n",
       "}\r\n",
       "E1 *- - \"*\"E2 [[psysml:090da899-d633-4f68-ac70-93df987c1f89 ]] \r\n",
       "E1 *- - \"*\"E3 [[psysml:797c4c3c-8cfb-4ed1-914f-99d654db3cec ]] \r\n",
       "E1 *- - E4 [[psysml:70a466ea-83ad-4e19-afa5-d192b13fd9c7 ]] \r\n",
       "E1 *- - E5 [[psysml:26253911-6243-446d-b791-23c0e42b91a5 ]] \r\n",
       "E1 *- - \"*\"E6 [[psysml:e8354a48-cb93-46c3-a69e-19a4acf29f71 ]] \r\n",
       "E1 *- - \"*\"E7 [[psysml:8dca6daf-962f-46a3-bb74-22037bd04295 ]] \r\n",
       "@enduml\r\n",
       "\n",
       "PlantUML version 1.2020.13(Sat Jun 13 12:26:38 UTC 2020)\n",
       "(EPL source distribution)\n",
       "Java Runtime: OpenJDK Runtime Environment\n",
       "JVM: OpenJDK 64-Bit Server VM\n",
       "Default Encoding: UTF-8\n",
       "Language: en\n",
       "Country: null\n",
       "--></g></svg>"
      ]
     },
     "execution_count": 14,
     "metadata": {},
     "output_type": "execute_result"
    }
   ],
   "source": [
    "%viz --style=\"POLYLINE\" --view=\"Sequence\" \"ControlNodeTest\""
   ]
  },
  {
   "cell_type": "code",
   "execution_count": 15,
   "id": "d71a461d",
   "metadata": {
    "execution": {
     "iopub.execute_input": "2021-08-04T06:26:29.963533Z",
     "iopub.status.busy": "2021-08-04T06:26:29.963131Z",
     "iopub.status.idle": "2021-08-04T06:26:30.003942Z",
     "shell.execute_reply": "2021-08-04T06:26:30.004112Z"
    }
   },
   "outputs": [
    {
     "data": {
      "image/svg+xml": [
       "<?xml version=\"1.0\" encoding=\"UTF-8\" standalone=\"no\"?><svg xmlns=\"http://www.w3.org/2000/svg\" xmlns:xlink=\"http://www.w3.org/1999/xlink\" contentScriptType=\"application/ecmascript\" contentStyleType=\"text/css\" height=\"367px\" preserveAspectRatio=\"none\" style=\"width:205px;height:367px;\" version=\"1.1\" viewBox=\"0 0 205 367\" width=\"205px\" zoomAndPan=\"magnify\"><defs/><g><!--MD5=[fbc87193dbaf4d95561dea2c320d4a47]\n",
       "cluster E1--><a href=\"psysml:d75b3c07-b549-4c23-b2aa-d48828b6adea\" target=\"_top\" title=\"psysml:d75b3c07-b549-4c23-b2aa-d48828b6adea\" xlink:actuate=\"onRequest\" xlink:href=\"psysml:d75b3c07-b549-4c23-b2aa-d48828b6adea\" xlink:show=\"new\" xlink:title=\"psysml:d75b3c07-b549-4c23-b2aa-d48828b6adea\" xlink:type=\"simple\"><rect fill=\"#FFFFFF\" height=\"349\" id=\"E1\" style=\"stroke: #383838; stroke-width: 1.5;\" width=\"187\" x=\"7\" y=\"7\"/><rect fill=\"#F8F8F8\" height=\"37.9375\" style=\"stroke: #383838; stroke-width: 1.5;\" width=\"187\" x=\"7\" y=\"7\"/><text fill=\"#000000\" font-family=\"sans-serif\" font-size=\"12\" font-style=\"italic\" lengthAdjust=\"spacingAndGlyphs\" textLength=\"77\" x=\"62\" y=\"23.1387\">«action def»</text><text fill=\"#000000\" font-family=\"sans-serif\" font-size=\"12\" lengthAdjust=\"spacingAndGlyphs\" textLength=\"105\" x=\"48\" y=\"37.1074\">ControlNodeTest</text></a><rect fill=\"#000000\" height=\"8\" style=\"stroke: none; stroke-width: 1.0;\" width=\"80\" x=\"60\" y=\"161\"/><rect fill=\"#000000\" height=\"8\" style=\"stroke: none; stroke-width: 1.0;\" width=\"80\" x=\"60\" y=\"229\"/><g id=\"E1.E2\"><a href=\"psysml:c07d7274-d0ac-44b0-95a3-e3c0562da237\" target=\"_top\" title=\"psysml:c07d7274-d0ac-44b0-95a3-e3c0562da237\" xlink:actuate=\"onRequest\" xlink:href=\"psysml:c07d7274-d0ac-44b0-95a3-e3c0562da237\" xlink:show=\"new\" xlink:title=\"psysml:c07d7274-d0ac-44b0-95a3-e3c0562da237\" xlink:type=\"simple\"><rect fill=\"#FFFFFF\" height=\"42.9375\" id=\"E2\" rx=\"10\" ry=\"10\" style=\"stroke: #383838; stroke-width: 1.5;\" width=\"60\" x=\"118\" y=\"58\"/><rect fill=\"#F8F8F8\" height=\"37.9375\" rx=\"10\" ry=\"10\" style=\"stroke: #F8F8F8; stroke-width: 1.5;\" width=\"60\" x=\"118\" y=\"58\"/><rect fill=\"#F8F8F8\" height=\"10\" style=\"stroke: #F8F8F8; stroke-width: 1.5;\" width=\"60\" x=\"118\" y=\"85.9375\"/><rect fill=\"none\" height=\"42.9375\" id=\"E2\" rx=\"10\" ry=\"10\" style=\"stroke: #383838; stroke-width: 1.5;\" width=\"60\" x=\"118\" y=\"58\"/><text fill=\"#000000\" font-family=\"sans-serif\" font-size=\"12\" font-style=\"italic\" lengthAdjust=\"spacingAndGlyphs\" textLength=\"53\" x=\"121.5\" y=\"74.1387\">«action»</text><text fill=\"#000000\" font-family=\"sans-serif\" font-size=\"12\" lengthAdjust=\"spacingAndGlyphs\" textLength=\"16\" x=\"140\" y=\"88.1074\">A1</text></a></g><g id=\"E1.E3\"><a href=\"psysml:7bb05ae1-d1dd-4ff0-97ee-ce3344a0751d\" target=\"_top\" title=\"psysml:7bb05ae1-d1dd-4ff0-97ee-ce3344a0751d\" xlink:actuate=\"onRequest\" xlink:href=\"psysml:7bb05ae1-d1dd-4ff0-97ee-ce3344a0751d\" xlink:show=\"new\" xlink:title=\"psysml:7bb05ae1-d1dd-4ff0-97ee-ce3344a0751d\" xlink:type=\"simple\"><rect fill=\"#FFFFFF\" height=\"42.9375\" id=\"E3\" rx=\"10\" ry=\"10\" style=\"stroke: #383838; stroke-width: 1.5;\" width=\"60\" x=\"23\" y=\"58\"/><rect fill=\"#F8F8F8\" height=\"37.9375\" rx=\"10\" ry=\"10\" style=\"stroke: #F8F8F8; stroke-width: 1.5;\" width=\"60\" x=\"23\" y=\"58\"/><rect fill=\"#F8F8F8\" height=\"10\" style=\"stroke: #F8F8F8; stroke-width: 1.5;\" width=\"60\" x=\"23\" y=\"85.9375\"/><rect fill=\"none\" height=\"42.9375\" id=\"E3\" rx=\"10\" ry=\"10\" style=\"stroke: #383838; stroke-width: 1.5;\" width=\"60\" x=\"23\" y=\"58\"/><text fill=\"#000000\" font-family=\"sans-serif\" font-size=\"12\" font-style=\"italic\" lengthAdjust=\"spacingAndGlyphs\" textLength=\"53\" x=\"26.5\" y=\"74.1387\">«action»</text><text fill=\"#000000\" font-family=\"sans-serif\" font-size=\"12\" lengthAdjust=\"spacingAndGlyphs\" textLength=\"16\" x=\"45\" y=\"88.1074\">A2</text></a></g><g id=\"E1.E6\"><a href=\"psysml:d5fd7944-a8f1-4c67-81d3-da10d551f750\" target=\"_top\" title=\"psysml:d5fd7944-a8f1-4c67-81d3-da10d551f750\" xlink:actuate=\"onRequest\" xlink:href=\"psysml:d5fd7944-a8f1-4c67-81d3-da10d551f750\" xlink:show=\"new\" xlink:title=\"psysml:d5fd7944-a8f1-4c67-81d3-da10d551f750\" xlink:type=\"simple\"><rect fill=\"#FFFFFF\" height=\"42.9375\" id=\"E6\" rx=\"10\" ry=\"10\" style=\"stroke: #383838; stroke-width: 1.5;\" width=\"60\" x=\"23\" y=\"297\"/><rect fill=\"#F8F8F8\" height=\"37.9375\" rx=\"10\" ry=\"10\" style=\"stroke: #F8F8F8; stroke-width: 1.5;\" width=\"60\" x=\"23\" y=\"297\"/><rect fill=\"#F8F8F8\" height=\"10\" style=\"stroke: #F8F8F8; stroke-width: 1.5;\" width=\"60\" x=\"23\" y=\"324.9375\"/><rect fill=\"none\" height=\"42.9375\" id=\"E6\" rx=\"10\" ry=\"10\" style=\"stroke: #383838; stroke-width: 1.5;\" width=\"60\" x=\"23\" y=\"297\"/><text fill=\"#000000\" font-family=\"sans-serif\" font-size=\"12\" font-style=\"italic\" lengthAdjust=\"spacingAndGlyphs\" textLength=\"53\" x=\"26.5\" y=\"313.1387\">«action»</text><text fill=\"#000000\" font-family=\"sans-serif\" font-size=\"12\" lengthAdjust=\"spacingAndGlyphs\" textLength=\"16\" x=\"45\" y=\"327.1074\">B1</text></a></g><g id=\"E1.E7\"><a href=\"psysml:b7d3ffe5-6bb9-4232-a5c3-5eafb8d0b5f9\" target=\"_top\" title=\"psysml:b7d3ffe5-6bb9-4232-a5c3-5eafb8d0b5f9\" xlink:actuate=\"onRequest\" xlink:href=\"psysml:b7d3ffe5-6bb9-4232-a5c3-5eafb8d0b5f9\" xlink:show=\"new\" xlink:title=\"psysml:b7d3ffe5-6bb9-4232-a5c3-5eafb8d0b5f9\" xlink:type=\"simple\"><rect fill=\"#FFFFFF\" height=\"42.9375\" id=\"E7\" rx=\"10\" ry=\"10\" style=\"stroke: #383838; stroke-width: 1.5;\" width=\"60\" x=\"118\" y=\"297\"/><rect fill=\"#F8F8F8\" height=\"37.9375\" rx=\"10\" ry=\"10\" style=\"stroke: #F8F8F8; stroke-width: 1.5;\" width=\"60\" x=\"118\" y=\"297\"/><rect fill=\"#F8F8F8\" height=\"10\" style=\"stroke: #F8F8F8; stroke-width: 1.5;\" width=\"60\" x=\"118\" y=\"324.9375\"/><rect fill=\"none\" height=\"42.9375\" id=\"E7\" rx=\"10\" ry=\"10\" style=\"stroke: #383838; stroke-width: 1.5;\" width=\"60\" x=\"118\" y=\"297\"/><text fill=\"#000000\" font-family=\"sans-serif\" font-size=\"12\" font-style=\"italic\" lengthAdjust=\"spacingAndGlyphs\" textLength=\"53\" x=\"121.5\" y=\"313.1387\">«action»</text><text fill=\"#000000\" font-family=\"sans-serif\" font-size=\"12\" lengthAdjust=\"spacingAndGlyphs\" textLength=\"16\" x=\"140\" y=\"327.1074\">B2</text></a></g><!--MD5=[4d03bb2d0377dc85ccfab60ff574652b]\n",
       "link E2 to E4--><a href=\"psysml:a5b917a3-7538-4e28-aa62-755107929dae\" target=\"_top\" title=\"psysml:a5b917a3-7538-4e28-aa62-755107929dae\" xlink:actuate=\"onRequest\" xlink:href=\"psysml:a5b917a3-7538-4e28-aa62-755107929dae\" xlink:show=\"new\" xlink:title=\"psysml:a5b917a3-7538-4e28-aa62-755107929dae\" xlink:type=\"simple\"><path d=\"M136.13,101.14 C125.84,119.06 111.49,144.01 104.37,156.4 \" fill=\"none\" id=\"E2-&gt;E4\" style=\"stroke: #383838; stroke-width: 1.0;\"/><polygon fill=\"#383838\" points=\"101.79,160.88,109.7406,155.0673,104.2799,156.5441,102.8031,151.0834,101.79,160.88\" style=\"stroke: #383838; stroke-width: 1.0;\"/><text fill=\"#000000\" font-family=\"sans-serif\" font-size=\"13\" lengthAdjust=\"spacingAndGlyphs\" textLength=\"7\" x=\"93.6144\" y=\"150.0038\">*</text></a><!--MD5=[af87c684e3b0d8be13c1a698a818ef1e]\n",
       "link E3 to E4--><a href=\"psysml:b67a9087-1129-4a2e-aba3-334d88c3cbf2\" target=\"_top\" title=\"psysml:b67a9087-1129-4a2e-aba3-334d88c3cbf2\" xlink:actuate=\"onRequest\" xlink:href=\"psysml:b67a9087-1129-4a2e-aba3-334d88c3cbf2\" xlink:show=\"new\" xlink:title=\"psysml:b67a9087-1129-4a2e-aba3-334d88c3cbf2\" xlink:type=\"simple\"><path d=\"M64.62,101.14 C74.7,119.06 88.75,144.01 95.72,156.4 \" fill=\"none\" id=\"E3-&gt;E4\" style=\"stroke: #383838; stroke-width: 1.0;\"/><polygon fill=\"#383838\" points=\"98.25,160.88,97.3377,151.0735,95.8048,156.5187,90.3596,154.9858,98.25,160.88\" style=\"stroke: #383838; stroke-width: 1.0;\"/><text fill=\"#000000\" font-family=\"sans-serif\" font-size=\"13\" lengthAdjust=\"spacingAndGlyphs\" textLength=\"7\" x=\"99.4531\" y=\"150.0038\">*</text></a><!--MD5=[1b7591eae5389033d8d09a9d6721a717]\n",
       "link E4 to E5--><a href=\"psysml:9a17080e-ae46-40d4-b989-796f716175e4\" target=\"_top\" title=\"psysml:9a17080e-ae46-40d4-b989-796f716175e4\" xlink:actuate=\"onRequest\" xlink:href=\"psysml:9a17080e-ae46-40d4-b989-796f716175e4\" xlink:show=\"new\" xlink:title=\"psysml:9a17080e-ae46-40d4-b989-796f716175e4\" xlink:type=\"simple\"><path d=\"M100,169.18 C100,178.92 100,208.52 100,223.34 \" fill=\"none\" id=\"E4-&gt;E5\" style=\"stroke: #383838; stroke-width: 1.0;\"/><polygon fill=\"#383838\" points=\"100,228.69,104,219.69,100,223.69,96,219.69,100,228.69\" style=\"stroke: #383838; stroke-width: 1.0;\"/><text fill=\"#000000\" font-family=\"sans-serif\" font-size=\"13\" lengthAdjust=\"spacingAndGlyphs\" textLength=\"7\" x=\"90.6813\" y=\"217.9768\">*</text></a><!--MD5=[9120cf2e5df3bff93db8f754bbbc09b4]\n",
       "link E5 to E6--><a href=\"psysml:197b427e-ad07-4e53-856c-ed2b1bc0e06a\" target=\"_top\" title=\"psysml:197b427e-ad07-4e53-856c-ed2b1bc0e06a\" xlink:actuate=\"onRequest\" xlink:href=\"psysml:197b427e-ad07-4e53-856c-ed2b1bc0e06a\" xlink:show=\"new\" xlink:title=\"psysml:197b427e-ad07-4e53-856c-ed2b1bc0e06a\" xlink:type=\"simple\"><path d=\"M98.21,237.17 C93.16,246.14 78.41,272.36 67.11,292.43 \" fill=\"none\" id=\"E5-&gt;E6\" style=\"stroke: #383838; stroke-width: 1.0;\"/><polygon fill=\"#383838\" points=\"64.61,296.87,72.5151,290.9955,67.0661,292.5148,65.5467,287.0658,64.61,296.87\" style=\"stroke: #383838; stroke-width: 1.0;\"/><text fill=\"#000000\" font-family=\"sans-serif\" font-size=\"13\" lengthAdjust=\"spacingAndGlyphs\" textLength=\"7\" x=\"59.8909\" y=\"285.7715\">*</text></a><!--MD5=[3a9b96bfbf6b6ad89c494e81751bda47]\n",
       "link E5 to E7--><a href=\"psysml:b67e977c-71d2-45f4-9959-07a509bb3c26\" target=\"_top\" title=\"psysml:b67e977c-71d2-45f4-9959-07a509bb3c26\" xlink:actuate=\"onRequest\" xlink:href=\"psysml:b67e977c-71d2-45f4-9959-07a509bb3c26\" xlink:show=\"new\" xlink:title=\"psysml:b67e977c-71d2-45f4-9959-07a509bb3c26\" xlink:type=\"simple\"><path d=\"M101.82,237.17 C106.98,246.14 122.05,272.36 133.59,292.43 \" fill=\"none\" id=\"E5-&gt;E7\" style=\"stroke: #383838; stroke-width: 1.0;\"/><polygon fill=\"#383838\" points=\"136.14,296.87,135.1269,287.0734,133.6501,292.5341,128.1894,291.0573,136.14,296.87\" style=\"stroke: #383838; stroke-width: 1.0;\"/><text fill=\"#000000\" font-family=\"sans-serif\" font-size=\"13\" lengthAdjust=\"spacingAndGlyphs\" textLength=\"7\" x=\"124.82\" y=\"285.7715\">*</text></a><!--MD5=[3a326ceebd2b6beadea3c2c7977c08a2]\n",
       "@startuml\r\n",
       "skinparam linetype polyline\r\n",
       "skinparam monochrome true\r\n",
       "skinparam classbackgroundcolor white\r\n",
       "skinparam shadowing false\r\n",
       "skinparam wrapWidth 300\r\n",
       "hide circle\r\n",
       "\r\n",
       "rec def \"ControlNodeTest\" as E1  <<(T,blue) action def>> [[psysml:d75b3c07-b549-4c23-b2aa-d48828b6adea ]] {\r\n",
       "rec usage \"A1\" as E2  <<(T,blue) action>> [[psysml:c07d7274-d0ac-44b0-95a3-e3c0562da237 ]] {\r\n",
       "}\r\n",
       "\r\n",
       "rec usage \"A2\" as E3  <<(T,blue) action>> [[psysml:7bb05ae1-d1dd-4ff0-97ee-ce3344a0751d ]] {\r\n",
       "}\r\n",
       "\r\n",
       "join \"J\" as E4  [[psysml:f3bfce16-3667-4a48-a42e-fd992fa328bf ]] \r\n",
       "fork \"F\" as E5  [[psysml:08c848ef-d5ea-4388-acb9-5b8d01347f10 ]] \r\n",
       "rec usage \"B1\" as E6  <<(T,blue) action>> [[psysml:d5fd7944-a8f1-4c67-81d3-da10d551f750 ]] {\r\n",
       "}\r\n",
       "\r\n",
       "rec usage \"B2\" as E7  <<(T,blue) action>> [[psysml:b7d3ffe5-6bb9-4232-a5c3-5eafb8d0b5f9 ]] {\r\n",
       "}\r\n",
       "\r\n",
       "}\r\n",
       "\r\n",
       "E2 - -> \"*\"E4 [[psysml:a5b917a3-7538-4e28-aa62-755107929dae ]] \r\n",
       "E3 - -> \"*\"E4 [[psysml:b67a9087-1129-4a2e-aba3-334d88c3cbf2 ]] \r\n",
       "E4 - -> \"*\"E5 [[psysml:9a17080e-ae46-40d4-b989-796f716175e4 ]] \r\n",
       "E5 - -> \"*\"E6 [[psysml:197b427e-ad07-4e53-856c-ed2b1bc0e06a ]] \r\n",
       "E5 - -> \"*\"E7 [[psysml:b67e977c-71d2-45f4-9959-07a509bb3c26 ]] \r\n",
       "@enduml\r\n",
       "\n",
       "PlantUML version 1.2020.13(Sat Jun 13 12:26:38 UTC 2020)\n",
       "(EPL source distribution)\n",
       "Java Runtime: OpenJDK Runtime Environment\n",
       "JVM: OpenJDK 64-Bit Server VM\n",
       "Default Encoding: UTF-8\n",
       "Language: en\n",
       "Country: null\n",
       "--></g></svg>"
      ]
     },
     "execution_count": 15,
     "metadata": {},
     "output_type": "execute_result"
    }
   ],
   "source": [
    "%viz --style=\"POLYLINE\" --view=\"MIXED\" \"ControlNodeTest\""
   ]
  },
  {
   "cell_type": "code",
   "execution_count": 16,
   "id": "b090c0ea",
   "metadata": {
    "execution": {
     "iopub.execute_input": "2021-08-04T06:26:30.054528Z",
     "iopub.status.busy": "2021-08-04T06:26:30.054322Z",
     "iopub.status.idle": "2021-08-04T06:26:30.081926Z",
     "shell.execute_reply": "2021-08-04T06:26:30.081276Z"
    }
   },
   "outputs": [
    {
     "data": {
      "image/svg+xml": [
       "<?xml version=\"1.0\" encoding=\"UTF-8\" standalone=\"no\"?><svg xmlns=\"http://www.w3.org/2000/svg\" xmlns:xlink=\"http://www.w3.org/1999/xlink\" contentScriptType=\"application/ecmascript\" contentStyleType=\"text/css\" height=\"207px\" preserveAspectRatio=\"none\" style=\"width:366px;height:207px;\" version=\"1.1\" viewBox=\"0 0 366 207\" width=\"366px\" zoomAndPan=\"magnify\"><defs/><g><!--MD5=[fbc87193dbaf4d95561dea2c320d4a47]\n",
       "cluster E1--><a href=\"psysml:d75b3c07-b549-4c23-b2aa-d48828b6adea\" target=\"_top\" title=\"psysml:d75b3c07-b549-4c23-b2aa-d48828b6adea\" xlink:actuate=\"onRequest\" xlink:href=\"psysml:d75b3c07-b549-4c23-b2aa-d48828b6adea\" xlink:show=\"new\" xlink:title=\"psysml:d75b3c07-b549-4c23-b2aa-d48828b6adea\" xlink:type=\"simple\"><rect fill=\"#FFFFFF\" height=\"189\" id=\"E1\" style=\"stroke: #383838; stroke-width: 1.5;\" width=\"348\" x=\"7\" y=\"7\"/><rect fill=\"#F8F8F8\" height=\"37.9375\" style=\"stroke: #383838; stroke-width: 1.5;\" width=\"348\" x=\"7\" y=\"7\"/><text fill=\"#000000\" font-family=\"sans-serif\" font-size=\"12\" font-style=\"italic\" lengthAdjust=\"spacingAndGlyphs\" textLength=\"77\" x=\"142.5\" y=\"23.1387\">«action def»</text><text fill=\"#000000\" font-family=\"sans-serif\" font-size=\"12\" lengthAdjust=\"spacingAndGlyphs\" textLength=\"105\" x=\"128.5\" y=\"37.1074\">ControlNodeTest</text></a><rect fill=\"#000000\" height=\"80\" style=\"stroke: none; stroke-width: 1.0;\" width=\"8\" x=\"143\" y=\"79\"/><rect fill=\"#000000\" height=\"80\" style=\"stroke: none; stroke-width: 1.0;\" width=\"8\" x=\"211\" y=\"79\"/><g id=\"E1.E2\"><a href=\"psysml:c07d7274-d0ac-44b0-95a3-e3c0562da237\" target=\"_top\" title=\"psysml:c07d7274-d0ac-44b0-95a3-e3c0562da237\" xlink:actuate=\"onRequest\" xlink:href=\"psysml:c07d7274-d0ac-44b0-95a3-e3c0562da237\" xlink:show=\"new\" xlink:title=\"psysml:c07d7274-d0ac-44b0-95a3-e3c0562da237\" xlink:type=\"simple\"><rect fill=\"#FFFFFF\" height=\"42.9375\" id=\"E2\" rx=\"10\" ry=\"10\" style=\"stroke: #383838; stroke-width: 1.5;\" width=\"60\" x=\"23\" y=\"58.5\"/><rect fill=\"#F8F8F8\" height=\"37.9375\" rx=\"10\" ry=\"10\" style=\"stroke: #F8F8F8; stroke-width: 1.5;\" width=\"60\" x=\"23\" y=\"58.5\"/><rect fill=\"#F8F8F8\" height=\"10\" style=\"stroke: #F8F8F8; stroke-width: 1.5;\" width=\"60\" x=\"23\" y=\"86.4375\"/><rect fill=\"none\" height=\"42.9375\" id=\"E2\" rx=\"10\" ry=\"10\" style=\"stroke: #383838; stroke-width: 1.5;\" width=\"60\" x=\"23\" y=\"58.5\"/><text fill=\"#000000\" font-family=\"sans-serif\" font-size=\"12\" font-style=\"italic\" lengthAdjust=\"spacingAndGlyphs\" textLength=\"53\" x=\"26.5\" y=\"74.6387\">«action»</text><text fill=\"#000000\" font-family=\"sans-serif\" font-size=\"12\" lengthAdjust=\"spacingAndGlyphs\" textLength=\"16\" x=\"45\" y=\"88.6074\">A1</text></a></g><g id=\"E1.E3\"><a href=\"psysml:7bb05ae1-d1dd-4ff0-97ee-ce3344a0751d\" target=\"_top\" title=\"psysml:7bb05ae1-d1dd-4ff0-97ee-ce3344a0751d\" xlink:actuate=\"onRequest\" xlink:href=\"psysml:7bb05ae1-d1dd-4ff0-97ee-ce3344a0751d\" xlink:show=\"new\" xlink:title=\"psysml:7bb05ae1-d1dd-4ff0-97ee-ce3344a0751d\" xlink:type=\"simple\"><rect fill=\"#FFFFFF\" height=\"42.9375\" id=\"E3\" rx=\"10\" ry=\"10\" style=\"stroke: #383838; stroke-width: 1.5;\" width=\"60\" x=\"23\" y=\"136.5\"/><rect fill=\"#F8F8F8\" height=\"37.9375\" rx=\"10\" ry=\"10\" style=\"stroke: #F8F8F8; stroke-width: 1.5;\" width=\"60\" x=\"23\" y=\"136.5\"/><rect fill=\"#F8F8F8\" height=\"10\" style=\"stroke: #F8F8F8; stroke-width: 1.5;\" width=\"60\" x=\"23\" y=\"164.4375\"/><rect fill=\"none\" height=\"42.9375\" id=\"E3\" rx=\"10\" ry=\"10\" style=\"stroke: #383838; stroke-width: 1.5;\" width=\"60\" x=\"23\" y=\"136.5\"/><text fill=\"#000000\" font-family=\"sans-serif\" font-size=\"12\" font-style=\"italic\" lengthAdjust=\"spacingAndGlyphs\" textLength=\"53\" x=\"26.5\" y=\"152.6387\">«action»</text><text fill=\"#000000\" font-family=\"sans-serif\" font-size=\"12\" lengthAdjust=\"spacingAndGlyphs\" textLength=\"16\" x=\"45\" y=\"166.6074\">A2</text></a></g><g id=\"E1.E6\"><a href=\"psysml:d5fd7944-a8f1-4c67-81d3-da10d551f750\" target=\"_top\" title=\"psysml:d5fd7944-a8f1-4c67-81d3-da10d551f750\" xlink:actuate=\"onRequest\" xlink:href=\"psysml:d5fd7944-a8f1-4c67-81d3-da10d551f750\" xlink:show=\"new\" xlink:title=\"psysml:d5fd7944-a8f1-4c67-81d3-da10d551f750\" xlink:type=\"simple\"><rect fill=\"#FFFFFF\" height=\"42.9375\" id=\"E6\" rx=\"10\" ry=\"10\" style=\"stroke: #383838; stroke-width: 1.5;\" width=\"60\" x=\"279\" y=\"136.5\"/><rect fill=\"#F8F8F8\" height=\"37.9375\" rx=\"10\" ry=\"10\" style=\"stroke: #F8F8F8; stroke-width: 1.5;\" width=\"60\" x=\"279\" y=\"136.5\"/><rect fill=\"#F8F8F8\" height=\"10\" style=\"stroke: #F8F8F8; stroke-width: 1.5;\" width=\"60\" x=\"279\" y=\"164.4375\"/><rect fill=\"none\" height=\"42.9375\" id=\"E6\" rx=\"10\" ry=\"10\" style=\"stroke: #383838; stroke-width: 1.5;\" width=\"60\" x=\"279\" y=\"136.5\"/><text fill=\"#000000\" font-family=\"sans-serif\" font-size=\"12\" font-style=\"italic\" lengthAdjust=\"spacingAndGlyphs\" textLength=\"53\" x=\"282.5\" y=\"152.6387\">«action»</text><text fill=\"#000000\" font-family=\"sans-serif\" font-size=\"12\" lengthAdjust=\"spacingAndGlyphs\" textLength=\"16\" x=\"301\" y=\"166.6074\">B1</text></a></g><g id=\"E1.E7\"><a href=\"psysml:b7d3ffe5-6bb9-4232-a5c3-5eafb8d0b5f9\" target=\"_top\" title=\"psysml:b7d3ffe5-6bb9-4232-a5c3-5eafb8d0b5f9\" xlink:actuate=\"onRequest\" xlink:href=\"psysml:b7d3ffe5-6bb9-4232-a5c3-5eafb8d0b5f9\" xlink:show=\"new\" xlink:title=\"psysml:b7d3ffe5-6bb9-4232-a5c3-5eafb8d0b5f9\" xlink:type=\"simple\"><rect fill=\"#FFFFFF\" height=\"42.9375\" id=\"E7\" rx=\"10\" ry=\"10\" style=\"stroke: #383838; stroke-width: 1.5;\" width=\"60\" x=\"279\" y=\"58.5\"/><rect fill=\"#F8F8F8\" height=\"37.9375\" rx=\"10\" ry=\"10\" style=\"stroke: #F8F8F8; stroke-width: 1.5;\" width=\"60\" x=\"279\" y=\"58.5\"/><rect fill=\"#F8F8F8\" height=\"10\" style=\"stroke: #F8F8F8; stroke-width: 1.5;\" width=\"60\" x=\"279\" y=\"86.4375\"/><rect fill=\"none\" height=\"42.9375\" id=\"E7\" rx=\"10\" ry=\"10\" style=\"stroke: #383838; stroke-width: 1.5;\" width=\"60\" x=\"279\" y=\"58.5\"/><text fill=\"#000000\" font-family=\"sans-serif\" font-size=\"12\" font-style=\"italic\" lengthAdjust=\"spacingAndGlyphs\" textLength=\"53\" x=\"282.5\" y=\"74.6387\">«action»</text><text fill=\"#000000\" font-family=\"sans-serif\" font-size=\"12\" lengthAdjust=\"spacingAndGlyphs\" textLength=\"16\" x=\"301\" y=\"88.6074\">B2</text></a></g><!--MD5=[4d03bb2d0377dc85ccfab60ff574652b]\n",
       "link E2 to E4--><a href=\"psysml:a5b917a3-7538-4e28-aa62-755107929dae\" target=\"_top\" title=\"psysml:a5b917a3-7538-4e28-aa62-755107929dae\" xlink:actuate=\"onRequest\" xlink:href=\"psysml:a5b917a3-7538-4e28-aa62-755107929dae\" xlink:show=\"new\" xlink:title=\"psysml:a5b917a3-7538-4e28-aa62-755107929dae\" xlink:type=\"simple\"><path d=\"M83.11,92.34 C102.1,100.39 125.55,110.33 137.75,115.5 \" fill=\"none\" id=\"E2-&gt;E4\" style=\"stroke: #383838; stroke-width: 1.0;\"/><polygon fill=\"#383838\" points=\"142.51,117.52,135.7944,110.3158,137.9091,115.5625,132.6624,117.6772,142.51,117.52\" style=\"stroke: #383838; stroke-width: 1.0;\"/><text fill=\"#000000\" font-family=\"sans-serif\" font-size=\"13\" lengthAdjust=\"spacingAndGlyphs\" textLength=\"7\" x=\"128.1193\" y=\"135.2168\">*</text></a><!--MD5=[af87c684e3b0d8be13c1a698a818ef1e]\n",
       "link E3 to E4--><a href=\"psysml:b67a9087-1129-4a2e-aba3-334d88c3cbf2\" target=\"_top\" title=\"psysml:b67a9087-1129-4a2e-aba3-334d88c3cbf2\" xlink:actuate=\"onRequest\" xlink:href=\"psysml:b67a9087-1129-4a2e-aba3-334d88c3cbf2\" xlink:show=\"new\" xlink:title=\"psysml:b67a9087-1129-4a2e-aba3-334d88c3cbf2\" xlink:type=\"simple\"><path d=\"M83.11,145.66 C102.1,137.61 125.55,127.67 137.75,122.5 \" fill=\"none\" id=\"E3-&gt;E4\" style=\"stroke: #383838; stroke-width: 1.0;\"/><polygon fill=\"#383838\" points=\"142.51,120.48,132.6624,120.3228,137.9091,122.4375,135.7944,127.6842,142.51,120.48\" style=\"stroke: #383838; stroke-width: 1.0;\"/><text fill=\"#000000\" font-family=\"sans-serif\" font-size=\"13\" lengthAdjust=\"spacingAndGlyphs\" textLength=\"7\" x=\"128.1193\" y=\"112.0398\">*</text></a><!--MD5=[1b7591eae5389033d8d09a9d6721a717]\n",
       "link E4 to E5--><a href=\"psysml:9a17080e-ae46-40d4-b989-796f716175e4\" target=\"_top\" title=\"psysml:9a17080e-ae46-40d4-b989-796f716175e4\" xlink:actuate=\"onRequest\" xlink:href=\"psysml:9a17080e-ae46-40d4-b989-796f716175e4\" xlink:show=\"new\" xlink:title=\"psysml:9a17080e-ae46-40d4-b989-796f716175e4\" xlink:type=\"simple\"><path d=\"M151.18,119 C160.92,119 190.52,119 205.34,119 \" fill=\"none\" id=\"E4-&gt;E5\" style=\"stroke: #383838; stroke-width: 1.0;\"/><polygon fill=\"#383838\" points=\"210.69,119,201.69,115,205.69,119,201.69,123,210.69,119\" style=\"stroke: #383838; stroke-width: 1.0;\"/><text fill=\"#000000\" font-family=\"sans-serif\" font-size=\"13\" lengthAdjust=\"spacingAndGlyphs\" textLength=\"7\" x=\"196.0752\" y=\"138.4441\">*</text></a><!--MD5=[9120cf2e5df3bff93db8f754bbbc09b4]\n",
       "link E5 to E6--><a href=\"psysml:197b427e-ad07-4e53-856c-ed2b1bc0e06a\" target=\"_top\" title=\"psysml:197b427e-ad07-4e53-856c-ed2b1bc0e06a\" xlink:actuate=\"onRequest\" xlink:href=\"psysml:197b427e-ad07-4e53-856c-ed2b1bc0e06a\" xlink:show=\"new\" xlink:title=\"psysml:197b427e-ad07-4e53-856c-ed2b1bc0e06a\" xlink:type=\"simple\"><path d=\"M219.06,120.3 C227.64,123.93 252.69,134.55 274.03,143.6 \" fill=\"none\" id=\"E5-&gt;E6\" style=\"stroke: #383838; stroke-width: 1.0;\"/><polygon fill=\"#383838\" points=\"278.8,145.62,272.0844,138.4158,274.1991,143.6625,268.9524,145.7772,278.8,145.62\" style=\"stroke: #383838; stroke-width: 1.0;\"/><text fill=\"#000000\" font-family=\"sans-serif\" font-size=\"13\" lengthAdjust=\"spacingAndGlyphs\" textLength=\"7\" x=\"264.0069\" y=\"156.581\">*</text></a><!--MD5=[3a9b96bfbf6b6ad89c494e81751bda47]\n",
       "link E5 to E7--><a href=\"psysml:b67e977c-71d2-45f4-9959-07a509bb3c26\" target=\"_top\" title=\"psysml:b67e977c-71d2-45f4-9959-07a509bb3c26\" xlink:actuate=\"onRequest\" xlink:href=\"psysml:b67e977c-71d2-45f4-9959-07a509bb3c26\" xlink:show=\"new\" xlink:title=\"psysml:b67e977c-71d2-45f4-9959-07a509bb3c26\" xlink:type=\"simple\"><path d=\"M219.06,117.7 C227.64,114.07 252.69,103.45 274.03,94.4 \" fill=\"none\" id=\"E5-&gt;E7\" style=\"stroke: #383838; stroke-width: 1.0;\"/><polygon fill=\"#383838\" points=\"278.8,92.38,268.9524,92.2228,274.1991,94.3375,272.0844,99.5842,278.8,92.38\" style=\"stroke: #383838; stroke-width: 1.0;\"/><text fill=\"#000000\" font-family=\"sans-serif\" font-size=\"13\" lengthAdjust=\"spacingAndGlyphs\" textLength=\"7\" x=\"264.0069\" y=\"109.0667\">*</text></a><!--MD5=[bb74bce728e3f7fb496716f9d8e84755]\n",
       "@startuml\r\n",
       "left to right direction\r\n",
       "skinparam monochrome true\r\n",
       "skinparam classbackgroundcolor white\r\n",
       "skinparam shadowing false\r\n",
       "skinparam wrapWidth 300\r\n",
       "hide circle\r\n",
       "\r\n",
       "rec def \"ControlNodeTest\" as E1  <<(T,blue) action def>> [[psysml:d75b3c07-b549-4c23-b2aa-d48828b6adea ]] {\r\n",
       "rec usage \"A1\" as E2  <<(T,blue) action>> [[psysml:c07d7274-d0ac-44b0-95a3-e3c0562da237 ]] {\r\n",
       "}\r\n",
       "\r\n",
       "rec usage \"A2\" as E3  <<(T,blue) action>> [[psysml:7bb05ae1-d1dd-4ff0-97ee-ce3344a0751d ]] {\r\n",
       "}\r\n",
       "\r\n",
       "join \"J\" as E4  [[psysml:f3bfce16-3667-4a48-a42e-fd992fa328bf ]] \r\n",
       "fork \"F\" as E5  [[psysml:08c848ef-d5ea-4388-acb9-5b8d01347f10 ]] \r\n",
       "rec usage \"B1\" as E6  <<(T,blue) action>> [[psysml:d5fd7944-a8f1-4c67-81d3-da10d551f750 ]] {\r\n",
       "}\r\n",
       "\r\n",
       "rec usage \"B2\" as E7  <<(T,blue) action>> [[psysml:b7d3ffe5-6bb9-4232-a5c3-5eafb8d0b5f9 ]] {\r\n",
       "}\r\n",
       "\r\n",
       "}\r\n",
       "\r\n",
       "E2 - -> \"*\"E4 [[psysml:a5b917a3-7538-4e28-aa62-755107929dae ]] \r\n",
       "E3 - -> \"*\"E4 [[psysml:b67a9087-1129-4a2e-aba3-334d88c3cbf2 ]] \r\n",
       "E4 - -> \"*\"E5 [[psysml:9a17080e-ae46-40d4-b989-796f716175e4 ]] \r\n",
       "E5 - -> \"*\"E6 [[psysml:197b427e-ad07-4e53-856c-ed2b1bc0e06a ]] \r\n",
       "E5 - -> \"*\"E7 [[psysml:b67e977c-71d2-45f4-9959-07a509bb3c26 ]] \r\n",
       "@enduml\r\n",
       "\n",
       "PlantUML version 1.2020.13(Sat Jun 13 12:26:38 UTC 2020)\n",
       "(EPL source distribution)\n",
       "Java Runtime: OpenJDK Runtime Environment\n",
       "JVM: OpenJDK 64-Bit Server VM\n",
       "Default Encoding: UTF-8\n",
       "Language: en\n",
       "Country: null\n",
       "--></g></svg>"
      ]
     },
     "execution_count": 16,
     "metadata": {},
     "output_type": "execute_result"
    }
   ],
   "source": [
    "%viz --style=\"LR\" --view=\"Default\" \"ControlNodeTest\""
   ]
  },
  {
   "cell_type": "code",
   "execution_count": 17,
   "id": "1c9a9521",
   "metadata": {
    "execution": {
     "iopub.execute_input": "2021-08-04T06:26:30.132570Z",
     "iopub.status.busy": "2021-08-04T06:26:30.132138Z",
     "iopub.status.idle": "2021-08-04T06:26:30.155516Z",
     "shell.execute_reply": "2021-08-04T06:26:30.154290Z"
    }
   },
   "outputs": [
    {
     "data": {
      "image/svg+xml": [
       "<?xml version=\"1.0\" encoding=\"UTF-8\" standalone=\"no\"?><svg xmlns=\"http://www.w3.org/2000/svg\" xmlns:xlink=\"http://www.w3.org/1999/xlink\" contentScriptType=\"application/ecmascript\" contentStyleType=\"text/css\" height=\"468px\" preserveAspectRatio=\"none\" style=\"width:262px;height:468px;\" version=\"1.1\" viewBox=\"0 0 262 468\" width=\"262px\" zoomAndPan=\"magnify\"><defs/><g><!--MD5=[43c9051892ef23e1a46a86907403d788]\n",
       "class E1--><a href=\"psysml:d75b3c07-b549-4c23-b2aa-d48828b6adea\" target=\"_top\" title=\"psysml:d75b3c07-b549-4c23-b2aa-d48828b6adea\" xlink:actuate=\"onRequest\" xlink:href=\"psysml:d75b3c07-b549-4c23-b2aa-d48828b6adea\" xlink:show=\"new\" xlink:title=\"psysml:d75b3c07-b549-4c23-b2aa-d48828b6adea\" xlink:type=\"simple\"><rect fill=\"#FFFFFF\" height=\"45.9375\" id=\"E1\" style=\"stroke: #383838; stroke-width: 1.5;\" width=\"111\" x=\"7\" y=\"210\"/><text fill=\"#000000\" font-family=\"sans-serif\" font-size=\"12\" font-style=\"italic\" lengthAdjust=\"spacingAndGlyphs\" textLength=\"77\" x=\"24\" y=\"226.1387\">«action def»</text><text fill=\"#000000\" font-family=\"sans-serif\" font-size=\"12\" lengthAdjust=\"spacingAndGlyphs\" textLength=\"105\" x=\"10\" y=\"240.1074\">ControlNodeTest</text><line style=\"stroke: #383838; stroke-width: 1.5;\" x1=\"8\" x2=\"117\" y1=\"247.9375\" y2=\"247.9375\"/></a><!--MD5=[b4997ac47864f28c2f74865a473b2911]\n",
       "class E2--><a href=\"psysml:c07d7274-d0ac-44b0-95a3-e3c0562da237\" target=\"_top\" title=\"psysml:c07d7274-d0ac-44b0-95a3-e3c0562da237\" xlink:actuate=\"onRequest\" xlink:href=\"psysml:c07d7274-d0ac-44b0-95a3-e3c0562da237\" xlink:show=\"new\" xlink:title=\"psysml:c07d7274-d0ac-44b0-95a3-e3c0562da237\" xlink:type=\"simple\"><rect fill=\"#FFFFFF\" height=\"45.9375\" id=\"E2\" rx=\"10\" ry=\"10\" style=\"stroke: #383838; stroke-width: 1.5;\" width=\"55\" x=\"187\" y=\"7\"/><text fill=\"#000000\" font-family=\"sans-serif\" font-size=\"12\" font-style=\"italic\" lengthAdjust=\"spacingAndGlyphs\" textLength=\"53\" x=\"188\" y=\"23.1387\">«action»</text><text fill=\"#000000\" font-family=\"sans-serif\" font-size=\"12\" lengthAdjust=\"spacingAndGlyphs\" textLength=\"16\" x=\"206.5\" y=\"37.1074\">A1</text><line style=\"stroke: #383838; stroke-width: 1.5;\" x1=\"188\" x2=\"241\" y1=\"44.9375\" y2=\"44.9375\"/></a><!--MD5=[09b614a08d8cba4a07c9adeb5e0fee81]\n",
       "class E3--><a href=\"psysml:7bb05ae1-d1dd-4ff0-97ee-ce3344a0751d\" target=\"_top\" title=\"psysml:7bb05ae1-d1dd-4ff0-97ee-ce3344a0751d\" xlink:actuate=\"onRequest\" xlink:href=\"psysml:7bb05ae1-d1dd-4ff0-97ee-ce3344a0751d\" xlink:show=\"new\" xlink:title=\"psysml:7bb05ae1-d1dd-4ff0-97ee-ce3344a0751d\" xlink:type=\"simple\"><rect fill=\"#FFFFFF\" height=\"45.9375\" id=\"E3\" rx=\"10\" ry=\"10\" style=\"stroke: #383838; stroke-width: 1.5;\" width=\"55\" x=\"187\" y=\"88\"/><text fill=\"#000000\" font-family=\"sans-serif\" font-size=\"12\" font-style=\"italic\" lengthAdjust=\"spacingAndGlyphs\" textLength=\"53\" x=\"188\" y=\"104.1387\">«action»</text><text fill=\"#000000\" font-family=\"sans-serif\" font-size=\"12\" lengthAdjust=\"spacingAndGlyphs\" textLength=\"16\" x=\"206.5\" y=\"118.1074\">A2</text><line style=\"stroke: #383838; stroke-width: 1.5;\" x1=\"188\" x2=\"241\" y1=\"125.9375\" y2=\"125.9375\"/></a><!--MD5=[ebbe1d658d1005bcc118a6aa81145e00]\n",
       "class E4--><a href=\"psysml:f3bfce16-3667-4a48-a42e-fd992fa328bf\" target=\"_top\" title=\"psysml:f3bfce16-3667-4a48-a42e-fd992fa328bf\" xlink:actuate=\"onRequest\" xlink:href=\"psysml:f3bfce16-3667-4a48-a42e-fd992fa328bf\" xlink:show=\"new\" xlink:title=\"psysml:f3bfce16-3667-4a48-a42e-fd992fa328bf\" xlink:type=\"simple\"><rect fill=\"#FFFFFF\" height=\"45.9375\" id=\"E4\" rx=\"10\" ry=\"10\" style=\"stroke: #383838; stroke-width: 1.5;\" width=\"71\" x=\"179\" y=\"169\"/><text fill=\"#000000\" font-family=\"sans-serif\" font-size=\"12\" font-style=\"italic\" lengthAdjust=\"spacingAndGlyphs\" textLength=\"69\" x=\"180\" y=\"185.1387\">«joinNode»</text><text fill=\"#000000\" font-family=\"sans-serif\" font-size=\"12\" lengthAdjust=\"spacingAndGlyphs\" textLength=\"3\" x=\"213\" y=\"199.1074\">J</text><line style=\"stroke: #383838; stroke-width: 1.5;\" x1=\"180\" x2=\"249\" y1=\"206.9375\" y2=\"206.9375\"/></a><!--MD5=[270fce915f116d4de14055a7c1d9a0f3]\n",
       "class E5--><a href=\"psysml:08c848ef-d5ea-4388-acb9-5b8d01347f10\" target=\"_top\" title=\"psysml:08c848ef-d5ea-4388-acb9-5b8d01347f10\" xlink:actuate=\"onRequest\" xlink:href=\"psysml:08c848ef-d5ea-4388-acb9-5b8d01347f10\" xlink:show=\"new\" xlink:title=\"psysml:08c848ef-d5ea-4388-acb9-5b8d01347f10\" xlink:type=\"simple\"><rect fill=\"#FFFFFF\" height=\"45.9375\" id=\"E5\" rx=\"10\" ry=\"10\" style=\"stroke: #383838; stroke-width: 1.5;\" width=\"73\" x=\"178\" y=\"250\"/><text fill=\"#000000\" font-family=\"sans-serif\" font-size=\"12\" font-style=\"italic\" lengthAdjust=\"spacingAndGlyphs\" textLength=\"71\" x=\"179\" y=\"266.1387\">«forkNode»</text><text fill=\"#000000\" font-family=\"sans-serif\" font-size=\"12\" lengthAdjust=\"spacingAndGlyphs\" textLength=\"7\" x=\"211\" y=\"280.1074\">F</text><line style=\"stroke: #383838; stroke-width: 1.5;\" x1=\"179\" x2=\"250\" y1=\"287.9375\" y2=\"287.9375\"/></a><!--MD5=[60a26617385b1d2d0262a64233df1f8d]\n",
       "class E6--><a href=\"psysml:d5fd7944-a8f1-4c67-81d3-da10d551f750\" target=\"_top\" title=\"psysml:d5fd7944-a8f1-4c67-81d3-da10d551f750\" xlink:actuate=\"onRequest\" xlink:href=\"psysml:d5fd7944-a8f1-4c67-81d3-da10d551f750\" xlink:show=\"new\" xlink:title=\"psysml:d5fd7944-a8f1-4c67-81d3-da10d551f750\" xlink:type=\"simple\"><rect fill=\"#FFFFFF\" height=\"45.9375\" id=\"E6\" rx=\"10\" ry=\"10\" style=\"stroke: #383838; stroke-width: 1.5;\" width=\"55\" x=\"187\" y=\"331\"/><text fill=\"#000000\" font-family=\"sans-serif\" font-size=\"12\" font-style=\"italic\" lengthAdjust=\"spacingAndGlyphs\" textLength=\"53\" x=\"188\" y=\"347.1387\">«action»</text><text fill=\"#000000\" font-family=\"sans-serif\" font-size=\"12\" lengthAdjust=\"spacingAndGlyphs\" textLength=\"16\" x=\"206.5\" y=\"361.1074\">B1</text><line style=\"stroke: #383838; stroke-width: 1.5;\" x1=\"188\" x2=\"241\" y1=\"368.9375\" y2=\"368.9375\"/></a><!--MD5=[2156ba9850f5573cc1fc38a6a4b2f02b]\n",
       "class E7--><a href=\"psysml:b7d3ffe5-6bb9-4232-a5c3-5eafb8d0b5f9\" target=\"_top\" title=\"psysml:b7d3ffe5-6bb9-4232-a5c3-5eafb8d0b5f9\" xlink:actuate=\"onRequest\" xlink:href=\"psysml:b7d3ffe5-6bb9-4232-a5c3-5eafb8d0b5f9\" xlink:show=\"new\" xlink:title=\"psysml:b7d3ffe5-6bb9-4232-a5c3-5eafb8d0b5f9\" xlink:type=\"simple\"><rect fill=\"#FFFFFF\" height=\"45.9375\" id=\"E7\" rx=\"10\" ry=\"10\" style=\"stroke: #383838; stroke-width: 1.5;\" width=\"55\" x=\"187\" y=\"412\"/><text fill=\"#000000\" font-family=\"sans-serif\" font-size=\"12\" font-style=\"italic\" lengthAdjust=\"spacingAndGlyphs\" textLength=\"53\" x=\"188\" y=\"428.1387\">«action»</text><text fill=\"#000000\" font-family=\"sans-serif\" font-size=\"12\" lengthAdjust=\"spacingAndGlyphs\" textLength=\"16\" x=\"206.5\" y=\"442.1074\">B2</text><line style=\"stroke: #383838; stroke-width: 1.5;\" x1=\"188\" x2=\"241\" y1=\"449.9375\" y2=\"449.9375\"/></a><!--MD5=[a523cb2a0b79ecf9065ad8783f96c320]\n",
       "reverse link E1 to E2--><a href=\"psysml:090da899-d633-4f68-ac70-93df987c1f89\" target=\"_top\" title=\"psysml:090da899-d633-4f68-ac70-93df987c1f89\" xlink:actuate=\"onRequest\" xlink:href=\"psysml:090da899-d633-4f68-ac70-93df987c1f89\" xlink:show=\"new\" xlink:title=\"psysml:090da899-d633-4f68-ac70-93df987c1f89\" xlink:type=\"simple\"><path d=\"M85.95,198.68 C108.29,165.12 144.04,112.95 178,70 C182.38,64.47 187.28,58.69 192.02,53.31 \" fill=\"none\" id=\"E1&lt;-E2\" style=\"stroke: #383838; stroke-width: 1.0;\"/><polygon fill=\"#383838\" points=\"78.63,209.73,85.2762,206.9322,85.2498,199.7211,78.6036,202.5189,78.63,209.73\" style=\"stroke: #383838; stroke-width: 1.0;\"/><text fill=\"#000000\" font-family=\"sans-serif\" font-size=\"13\" lengthAdjust=\"spacingAndGlyphs\" textLength=\"7\" x=\"178.6874\" y=\"72.9106\">*</text></a><!--MD5=[5d7b3810b1dd9b5164bea1151b29b665]\n",
       "reverse link E1 to E3--><a href=\"psysml:797c4c3c-8cfb-4ed1-914f-99d654db3cec\" target=\"_top\" title=\"psysml:797c4c3c-8cfb-4ed1-914f-99d654db3cec\" xlink:actuate=\"onRequest\" xlink:href=\"psysml:797c4c3c-8cfb-4ed1-914f-99d654db3cec\" xlink:show=\"new\" xlink:title=\"psysml:797c4c3c-8cfb-4ed1-914f-99d654db3cec\" xlink:type=\"simple\"><path d=\"M102.49,201.29 C128.9,179.8 163.13,151.97 186.55,132.92 \" fill=\"none\" id=\"E1&lt;-E3\" style=\"stroke: #383838; stroke-width: 1.0;\"/><polygon fill=\"#383838\" points=\"92.07,209.77,99.2488,209.0886,101.3809,202.1999,94.2021,202.8813,92.07,209.77\" style=\"stroke: #383838; stroke-width: 1.0;\"/><text fill=\"#000000\" font-family=\"sans-serif\" font-size=\"13\" lengthAdjust=\"spacingAndGlyphs\" textLength=\"7\" x=\"171.8841\" y=\"152.1818\">*</text></a><!--MD5=[f2c5c03aa1e8c0ba21c10a05e6444b8e]\n",
       "reverse link E1 to E4--><a href=\"psysml:70a466ea-83ad-4e19-afa5-d192b13fd9c7\" target=\"_top\" title=\"psysml:70a466ea-83ad-4e19-afa5-d192b13fd9c7\" xlink:actuate=\"onRequest\" xlink:href=\"psysml:70a466ea-83ad-4e19-afa5-d192b13fd9c7\" xlink:show=\"new\" xlink:title=\"psysml:70a466ea-83ad-4e19-afa5-d192b13fd9c7\" xlink:type=\"simple\"><path d=\"M130.64,214.65 C147.28,210.1 164.44,205.41 178.79,201.49 \" fill=\"none\" id=\"E1&lt;-E4\" style=\"stroke: #383838; stroke-width: 1.0;\"/><polygon fill=\"#383838\" points=\"118.08,218.08,124.923,220.3544,129.6544,214.9125,122.8114,212.6381,118.08,218.08\" style=\"stroke: #383838; stroke-width: 1.0;\"/></a><!--MD5=[33238bef88d6431a141d8bc8fb12bca0]\n",
       "reverse link E1 to E5--><a href=\"psysml:26253911-6243-446d-b791-23c0e42b91a5\" target=\"_top\" title=\"psysml:26253911-6243-446d-b791-23c0e42b91a5\" xlink:actuate=\"onRequest\" xlink:href=\"psysml:26253911-6243-446d-b791-23c0e42b91a5\" xlink:show=\"new\" xlink:title=\"psysml:26253911-6243-446d-b791-23c0e42b91a5\" xlink:type=\"simple\"><path d=\"M130.91,250.98 C147.12,255.3 163.8,259.75 177.89,263.51 \" fill=\"none\" id=\"E1&lt;-E5\" style=\"stroke: #383838; stroke-width: 1.0;\"/><polygon fill=\"#383838\" points=\"118.08,247.55,122.8491,252.9589,129.6761,250.637,124.9071,245.2281,118.08,247.55\" style=\"stroke: #383838; stroke-width: 1.0;\"/></a><!--MD5=[aca2ef284c2b1b90e17e73bf3f292c07]\n",
       "reverse link E1 to E6--><a href=\"psysml:e8354a48-cb93-46c3-a69e-19a4acf29f71\" target=\"_top\" title=\"psysml:e8354a48-cb93-46c3-a69e-19a4acf29f71\" xlink:actuate=\"onRequest\" xlink:href=\"psysml:e8354a48-cb93-46c3-a69e-19a4acf29f71\" xlink:show=\"new\" xlink:title=\"psysml:e8354a48-cb93-46c3-a69e-19a4acf29f71\" xlink:type=\"simple\"><path d=\"M102.49,264.45 C128.9,285.76 163.13,313.37 186.55,332.26 \" fill=\"none\" id=\"E1&lt;-E6\" style=\"stroke: #383838; stroke-width: 1.0;\"/><polygon fill=\"#383838\" points=\"92.07,256.04,94.234,262.9187,101.4159,263.5668,99.2519,256.6881,92.07,256.04\" style=\"stroke: #383838; stroke-width: 1.0;\"/><text fill=\"#000000\" font-family=\"sans-serif\" font-size=\"13\" lengthAdjust=\"spacingAndGlyphs\" textLength=\"7\" x=\"171.8841\" y=\"340.8797\">*</text></a><!--MD5=[fc9706a6b2cf8c0e423679d303750d3f]\n",
       "reverse link E1 to E7--><a href=\"psysml:8dca6daf-962f-46a3-bb74-22037bd04295\" target=\"_top\" title=\"psysml:8dca6daf-962f-46a3-bb74-22037bd04295\" xlink:actuate=\"onRequest\" xlink:href=\"psysml:8dca6daf-962f-46a3-bb74-22037bd04295\" xlink:show=\"new\" xlink:title=\"psysml:8dca6daf-962f-46a3-bb74-22037bd04295\" xlink:type=\"simple\"><path d=\"M86.32,267.05 C108.8,300.12 144.55,351.42 178,394 C182.65,399.92 187.87,406.15 192.83,411.91 \" fill=\"none\" id=\"E1&lt;-E7\" style=\"stroke: #383838; stroke-width: 1.0;\"/><polygon fill=\"#383838\" points=\"78.95,256.16,79.0028,263.3709,85.6793,266.0956,85.6265,258.8847,78.95,256.16\" style=\"stroke: #383838; stroke-width: 1.0;\"/><text fill=\"#000000\" font-family=\"sans-serif\" font-size=\"13\" lengthAdjust=\"spacingAndGlyphs\" textLength=\"7\" x=\"179.0656\" y=\"400.7821\">*</text></a><!--MD5=[6173b5c2de96e93438764d2ace375d6c]\n",
       "@startuml\r\n",
       "left to right direction\r\n",
       "skinparam monochrome true\r\n",
       "skinparam classbackgroundcolor white\r\n",
       "skinparam shadowing false\r\n",
       "skinparam wrapWidth 300\r\n",
       "hide circle\r\n",
       "\r\n",
       "comp def \"ControlNodeTest\" as E1  <<(T,blue) action def>> [[psysml:d75b3c07-b549-4c23-b2aa-d48828b6adea ]] {\r\n",
       "}\r\n",
       "comp usage \"A1\" as E2  <<(T,blue) action>> [[psysml:c07d7274-d0ac-44b0-95a3-e3c0562da237 ]] {\r\n",
       "}\r\n",
       "comp usage \"A2\" as E3  <<(T,blue) action>> [[psysml:7bb05ae1-d1dd-4ff0-97ee-ce3344a0751d ]] {\r\n",
       "}\r\n",
       "comp usage \"J\" as E4  <<(T,blue) joinNode>> [[psysml:f3bfce16-3667-4a48-a42e-fd992fa328bf ]] {\r\n",
       "}\r\n",
       "comp usage \"F\" as E5  <<(T,blue) forkNode>> [[psysml:08c848ef-d5ea-4388-acb9-5b8d01347f10 ]] {\r\n",
       "}\r\n",
       "comp usage \"B1\" as E6  <<(T,blue) action>> [[psysml:d5fd7944-a8f1-4c67-81d3-da10d551f750 ]] {\r\n",
       "}\r\n",
       "comp usage \"B2\" as E7  <<(T,blue) action>> [[psysml:b7d3ffe5-6bb9-4232-a5c3-5eafb8d0b5f9 ]] {\r\n",
       "}\r\n",
       "E1 *- - \"*\"E2 [[psysml:090da899-d633-4f68-ac70-93df987c1f89 ]] \r\n",
       "E1 *- - \"*\"E3 [[psysml:797c4c3c-8cfb-4ed1-914f-99d654db3cec ]] \r\n",
       "E1 *- - E4 [[psysml:70a466ea-83ad-4e19-afa5-d192b13fd9c7 ]] \r\n",
       "E1 *- - E5 [[psysml:26253911-6243-446d-b791-23c0e42b91a5 ]] \r\n",
       "E1 *- - \"*\"E6 [[psysml:e8354a48-cb93-46c3-a69e-19a4acf29f71 ]] \r\n",
       "E1 *- - \"*\"E7 [[psysml:8dca6daf-962f-46a3-bb74-22037bd04295 ]] \r\n",
       "@enduml\r\n",
       "\n",
       "PlantUML version 1.2020.13(Sat Jun 13 12:26:38 UTC 2020)\n",
       "(EPL source distribution)\n",
       "Java Runtime: OpenJDK Runtime Environment\n",
       "JVM: OpenJDK 64-Bit Server VM\n",
       "Default Encoding: UTF-8\n",
       "Language: en\n",
       "Country: null\n",
       "--></g></svg>"
      ]
     },
     "execution_count": 17,
     "metadata": {},
     "output_type": "execute_result"
    }
   ],
   "source": [
    "%viz --style=\"LR\" --view=\"Tree\" \"ControlNodeTest\""
   ]
  },
  {
   "cell_type": "code",
   "execution_count": 18,
   "id": "af15c63e",
   "metadata": {
    "execution": {
     "iopub.execute_input": "2021-08-04T06:26:30.205215Z",
     "iopub.status.busy": "2021-08-04T06:26:30.204810Z",
     "iopub.status.idle": "2021-08-04T06:26:30.208234Z",
     "shell.execute_reply": "2021-08-04T06:26:30.208546Z"
    }
   },
   "outputs": [
    {
     "data": {
      "image/svg+xml": [
       "<?xml version=\"1.0\" encoding=\"UTF-8\" standalone=\"no\"?><svg xmlns=\"http://www.w3.org/2000/svg\" xmlns:xlink=\"http://www.w3.org/1999/xlink\" contentScriptType=\"application/ecmascript\" contentStyleType=\"text/css\" height=\"12px\" preserveAspectRatio=\"none\" style=\"width:12px;height:12px;\" version=\"1.1\" viewBox=\"0 0 12 12\" width=\"12px\" zoomAndPan=\"magnify\"><defs/><g><!--MD5=[19d285c9d72a204eba4e2cd117d745e8]\n",
       "@startuml\r\n",
       "left to right direction\r\n",
       "skinparam monochrome true\r\n",
       "skinparam classbackgroundcolor white\r\n",
       "skinparam shadowing false\r\n",
       "skinparam wrapWidth 300\r\n",
       "hide circle\r\n",
       "\r\n",
       "@enduml\r\n",
       "\n",
       "PlantUML version 1.2020.13(Sat Jun 13 12:26:38 UTC 2020)\n",
       "(EPL source distribution)\n",
       "Java Runtime: OpenJDK Runtime Environment\n",
       "JVM: OpenJDK 64-Bit Server VM\n",
       "Default Encoding: UTF-8\n",
       "Language: en\n",
       "Country: null\n",
       "--></g></svg>"
      ]
     },
     "execution_count": 18,
     "metadata": {},
     "output_type": "execute_result"
    }
   ],
   "source": [
    "%viz --style=\"LR\" --view=\"State\" \"ControlNodeTest\""
   ]
  },
  {
   "cell_type": "code",
   "execution_count": 19,
   "id": "860d145d",
   "metadata": {
    "execution": {
     "iopub.execute_input": "2021-08-04T06:26:30.258626Z",
     "iopub.status.busy": "2021-08-04T06:26:30.258226Z",
     "iopub.status.idle": "2021-08-04T06:26:30.289045Z",
     "shell.execute_reply": "2021-08-04T06:26:30.287465Z"
    }
   },
   "outputs": [
    {
     "data": {
      "image/svg+xml": [
       "<?xml version=\"1.0\" encoding=\"UTF-8\" standalone=\"no\"?><svg xmlns=\"http://www.w3.org/2000/svg\" xmlns:xlink=\"http://www.w3.org/1999/xlink\" contentScriptType=\"application/ecmascript\" contentStyleType=\"text/css\" height=\"207px\" preserveAspectRatio=\"none\" style=\"width:216px;height:207px;\" version=\"1.1\" viewBox=\"0 0 216 207\" width=\"216px\" zoomAndPan=\"magnify\"><defs/><g><!--MD5=[fbc87193dbaf4d95561dea2c320d4a47]\n",
       "cluster E1--><a href=\"psysml:d75b3c07-b549-4c23-b2aa-d48828b6adea\" target=\"_top\" title=\"psysml:d75b3c07-b549-4c23-b2aa-d48828b6adea\" xlink:actuate=\"onRequest\" xlink:href=\"psysml:d75b3c07-b549-4c23-b2aa-d48828b6adea\" xlink:show=\"new\" xlink:title=\"psysml:d75b3c07-b549-4c23-b2aa-d48828b6adea\" xlink:type=\"simple\"><rect fill=\"#FFFFFF\" height=\"189\" id=\"E1\" style=\"stroke: #383838; stroke-width: 1.5;\" width=\"198\" x=\"7\" y=\"7\"/><rect fill=\"#F8F8F8\" height=\"37.9375\" style=\"stroke: #383838; stroke-width: 1.5;\" width=\"198\" x=\"7\" y=\"7\"/><text fill=\"#000000\" font-family=\"sans-serif\" font-size=\"12\" font-style=\"italic\" lengthAdjust=\"spacingAndGlyphs\" textLength=\"77\" x=\"67.5\" y=\"23.1387\">«action def»</text><text fill=\"#000000\" font-family=\"sans-serif\" font-size=\"12\" lengthAdjust=\"spacingAndGlyphs\" textLength=\"105\" x=\"53.5\" y=\"37.1074\">ControlNodeTest</text></a><rect fill=\"#000000\" height=\"80\" style=\"stroke: none; stroke-width: 1.0;\" width=\"8\" x=\"93\" y=\"79\"/><rect fill=\"#000000\" height=\"80\" style=\"stroke: none; stroke-width: 1.0;\" width=\"8\" x=\"111\" y=\"79\"/><g id=\"E1.E2\"><a href=\"psysml:c07d7274-d0ac-44b0-95a3-e3c0562da237\" target=\"_top\" title=\"psysml:c07d7274-d0ac-44b0-95a3-e3c0562da237\" xlink:actuate=\"onRequest\" xlink:href=\"psysml:c07d7274-d0ac-44b0-95a3-e3c0562da237\" xlink:show=\"new\" xlink:title=\"psysml:c07d7274-d0ac-44b0-95a3-e3c0562da237\" xlink:type=\"simple\"><rect fill=\"#FFFFFF\" height=\"42.9375\" id=\"E2\" rx=\"10\" ry=\"10\" style=\"stroke: #383838; stroke-width: 1.5;\" width=\"60\" x=\"23\" y=\"58.5\"/><rect fill=\"#F8F8F8\" height=\"37.9375\" rx=\"10\" ry=\"10\" style=\"stroke: #F8F8F8; stroke-width: 1.5;\" width=\"60\" x=\"23\" y=\"58.5\"/><rect fill=\"#F8F8F8\" height=\"10\" style=\"stroke: #F8F8F8; stroke-width: 1.5;\" width=\"60\" x=\"23\" y=\"86.4375\"/><rect fill=\"none\" height=\"42.9375\" id=\"E2\" rx=\"10\" ry=\"10\" style=\"stroke: #383838; stroke-width: 1.5;\" width=\"60\" x=\"23\" y=\"58.5\"/><text fill=\"#000000\" font-family=\"sans-serif\" font-size=\"12\" font-style=\"italic\" lengthAdjust=\"spacingAndGlyphs\" textLength=\"53\" x=\"26.5\" y=\"74.6387\">«action»</text><text fill=\"#000000\" font-family=\"sans-serif\" font-size=\"12\" lengthAdjust=\"spacingAndGlyphs\" textLength=\"16\" x=\"45\" y=\"88.6074\">A1</text></a></g><g id=\"E1.E3\"><a href=\"psysml:7bb05ae1-d1dd-4ff0-97ee-ce3344a0751d\" target=\"_top\" title=\"psysml:7bb05ae1-d1dd-4ff0-97ee-ce3344a0751d\" xlink:actuate=\"onRequest\" xlink:href=\"psysml:7bb05ae1-d1dd-4ff0-97ee-ce3344a0751d\" xlink:show=\"new\" xlink:title=\"psysml:7bb05ae1-d1dd-4ff0-97ee-ce3344a0751d\" xlink:type=\"simple\"><rect fill=\"#FFFFFF\" height=\"42.9375\" id=\"E3\" rx=\"10\" ry=\"10\" style=\"stroke: #383838; stroke-width: 1.5;\" width=\"60\" x=\"23\" y=\"136.5\"/><rect fill=\"#F8F8F8\" height=\"37.9375\" rx=\"10\" ry=\"10\" style=\"stroke: #F8F8F8; stroke-width: 1.5;\" width=\"60\" x=\"23\" y=\"136.5\"/><rect fill=\"#F8F8F8\" height=\"10\" style=\"stroke: #F8F8F8; stroke-width: 1.5;\" width=\"60\" x=\"23\" y=\"164.4375\"/><rect fill=\"none\" height=\"42.9375\" id=\"E3\" rx=\"10\" ry=\"10\" style=\"stroke: #383838; stroke-width: 1.5;\" width=\"60\" x=\"23\" y=\"136.5\"/><text fill=\"#000000\" font-family=\"sans-serif\" font-size=\"12\" font-style=\"italic\" lengthAdjust=\"spacingAndGlyphs\" textLength=\"53\" x=\"26.5\" y=\"152.6387\">«action»</text><text fill=\"#000000\" font-family=\"sans-serif\" font-size=\"12\" lengthAdjust=\"spacingAndGlyphs\" textLength=\"16\" x=\"45\" y=\"166.6074\">A2</text></a></g><g id=\"E1.E6\"><a href=\"psysml:d5fd7944-a8f1-4c67-81d3-da10d551f750\" target=\"_top\" title=\"psysml:d5fd7944-a8f1-4c67-81d3-da10d551f750\" xlink:actuate=\"onRequest\" xlink:href=\"psysml:d5fd7944-a8f1-4c67-81d3-da10d551f750\" xlink:show=\"new\" xlink:title=\"psysml:d5fd7944-a8f1-4c67-81d3-da10d551f750\" xlink:type=\"simple\"><rect fill=\"#FFFFFF\" height=\"42.9375\" id=\"E6\" rx=\"10\" ry=\"10\" style=\"stroke: #383838; stroke-width: 1.5;\" width=\"60\" x=\"129\" y=\"136.5\"/><rect fill=\"#F8F8F8\" height=\"37.9375\" rx=\"10\" ry=\"10\" style=\"stroke: #F8F8F8; stroke-width: 1.5;\" width=\"60\" x=\"129\" y=\"136.5\"/><rect fill=\"#F8F8F8\" height=\"10\" style=\"stroke: #F8F8F8; stroke-width: 1.5;\" width=\"60\" x=\"129\" y=\"164.4375\"/><rect fill=\"none\" height=\"42.9375\" id=\"E6\" rx=\"10\" ry=\"10\" style=\"stroke: #383838; stroke-width: 1.5;\" width=\"60\" x=\"129\" y=\"136.5\"/><text fill=\"#000000\" font-family=\"sans-serif\" font-size=\"12\" font-style=\"italic\" lengthAdjust=\"spacingAndGlyphs\" textLength=\"53\" x=\"132.5\" y=\"152.6387\">«action»</text><text fill=\"#000000\" font-family=\"sans-serif\" font-size=\"12\" lengthAdjust=\"spacingAndGlyphs\" textLength=\"16\" x=\"151\" y=\"166.6074\">B1</text></a></g><g id=\"E1.E7\"><a href=\"psysml:b7d3ffe5-6bb9-4232-a5c3-5eafb8d0b5f9\" target=\"_top\" title=\"psysml:b7d3ffe5-6bb9-4232-a5c3-5eafb8d0b5f9\" xlink:actuate=\"onRequest\" xlink:href=\"psysml:b7d3ffe5-6bb9-4232-a5c3-5eafb8d0b5f9\" xlink:show=\"new\" xlink:title=\"psysml:b7d3ffe5-6bb9-4232-a5c3-5eafb8d0b5f9\" xlink:type=\"simple\"><rect fill=\"#FFFFFF\" height=\"42.9375\" id=\"E7\" rx=\"10\" ry=\"10\" style=\"stroke: #383838; stroke-width: 1.5;\" width=\"60\" x=\"129\" y=\"58.5\"/><rect fill=\"#F8F8F8\" height=\"37.9375\" rx=\"10\" ry=\"10\" style=\"stroke: #F8F8F8; stroke-width: 1.5;\" width=\"60\" x=\"129\" y=\"58.5\"/><rect fill=\"#F8F8F8\" height=\"10\" style=\"stroke: #F8F8F8; stroke-width: 1.5;\" width=\"60\" x=\"129\" y=\"86.4375\"/><rect fill=\"none\" height=\"42.9375\" id=\"E7\" rx=\"10\" ry=\"10\" style=\"stroke: #383838; stroke-width: 1.5;\" width=\"60\" x=\"129\" y=\"58.5\"/><text fill=\"#000000\" font-family=\"sans-serif\" font-size=\"12\" font-style=\"italic\" lengthAdjust=\"spacingAndGlyphs\" textLength=\"53\" x=\"132.5\" y=\"74.6387\">«action»</text><text fill=\"#000000\" font-family=\"sans-serif\" font-size=\"12\" lengthAdjust=\"spacingAndGlyphs\" textLength=\"16\" x=\"151\" y=\"88.6074\">B2</text></a></g><!--MD5=[4d03bb2d0377dc85ccfab60ff574652b]\n",
       "link E2 to E4--><a href=\"psysml:a5b917a3-7538-4e28-aa62-755107929dae\" target=\"_top\" title=\"psysml:a5b917a3-7538-4e28-aa62-755107929dae\" xlink:actuate=\"onRequest\" xlink:href=\"psysml:a5b917a3-7538-4e28-aa62-755107929dae\" xlink:show=\"new\" xlink:title=\"psysml:a5b917a3-7538-4e28-aa62-755107929dae\" xlink:type=\"simple\"><path d=\"M77.46,101.78 C81.59,105.62 85.59,109.34 88.82,112.33 \" fill=\"none\" id=\"E2-&gt;E4\" style=\"stroke: #383838; stroke-width: 1.0;\"/><polygon fill=\"#383838\" points=\"92.67,115.91,88.8034,106.8519,89.0086,112.505,83.3554,112.7102,92.67,115.91\" style=\"stroke: #383838; stroke-width: 1.0;\"/><text fill=\"#000000\" font-family=\"sans-serif\" font-size=\"13\" lengthAdjust=\"spacingAndGlyphs\" textLength=\"7\" x=\"84.6346\" y=\"125.3743\">*</text></a><!--MD5=[af87c684e3b0d8be13c1a698a818ef1e]\n",
       "link E3 to E4--><a href=\"psysml:b67a9087-1129-4a2e-aba3-334d88c3cbf2\" target=\"_top\" title=\"psysml:b67a9087-1129-4a2e-aba3-334d88c3cbf2\" xlink:actuate=\"onRequest\" xlink:href=\"psysml:b67a9087-1129-4a2e-aba3-334d88c3cbf2\" xlink:show=\"new\" xlink:title=\"psysml:b67a9087-1129-4a2e-aba3-334d88c3cbf2\" xlink:type=\"simple\"><path d=\"M77.46,136.22 C81.59,132.38 85.59,128.66 88.82,125.67 \" fill=\"none\" id=\"E3-&gt;E4\" style=\"stroke: #383838; stroke-width: 1.0;\"/><polygon fill=\"#383838\" points=\"92.67,122.09,83.3554,125.2898,89.0086,125.495,88.8034,131.1481,92.67,122.09\" style=\"stroke: #383838; stroke-width: 1.0;\"/><text fill=\"#000000\" font-family=\"sans-serif\" font-size=\"13\" lengthAdjust=\"spacingAndGlyphs\" textLength=\"7\" x=\"84.2779\" y=\"121.5834\">*</text></a><!--MD5=[1b7591eae5389033d8d09a9d6721a717]\n",
       "link E4 to E5--><a href=\"psysml:9a17080e-ae46-40d4-b989-796f716175e4\" target=\"_top\" title=\"psysml:9a17080e-ae46-40d4-b989-796f716175e4\" xlink:actuate=\"onRequest\" xlink:href=\"psysml:9a17080e-ae46-40d4-b989-796f716175e4\" xlink:show=\"new\" xlink:title=\"psysml:9a17080e-ae46-40d4-b989-796f716175e4\" xlink:type=\"simple\"><path d=\"M101.08,119 C102.38,119 103.95,119 105.55,119 \" fill=\"none\" id=\"E4-&gt;E5\" style=\"stroke: #383838; stroke-width: 1.0;\"/><polygon fill=\"#383838\" points=\"110.7,119,101.7,115,105.7,119,101.7,123,110.7,119\" style=\"stroke: #383838; stroke-width: 1.0;\"/><text fill=\"#000000\" font-family=\"sans-serif\" font-size=\"13\" lengthAdjust=\"spacingAndGlyphs\" textLength=\"7\" x=\"98.8948\" y=\"179.577\">*</text></a><!--MD5=[9120cf2e5df3bff93db8f754bbbc09b4]\n",
       "link E5 to E6--><a href=\"psysml:197b427e-ad07-4e53-856c-ed2b1bc0e06a\" target=\"_top\" title=\"psysml:197b427e-ad07-4e53-856c-ed2b1bc0e06a\" xlink:actuate=\"onRequest\" xlink:href=\"psysml:197b427e-ad07-4e53-856c-ed2b1bc0e06a\" xlink:show=\"new\" xlink:title=\"psysml:197b427e-ad07-4e53-856c-ed2b1bc0e06a\" xlink:type=\"simple\"><path d=\"M119.02,121.8 C121.78,124.37 126.15,128.43 130.99,132.92 \" fill=\"none\" id=\"E5-&gt;E6\" style=\"stroke: #383838; stroke-width: 1.0;\"/><polygon fill=\"#383838\" points=\"134.77,136.43,130.8845,127.38,131.1015,133.0327,125.4488,133.2496,134.77,136.43\" style=\"stroke: #383838; stroke-width: 1.0;\"/><text fill=\"#000000\" font-family=\"sans-serif\" font-size=\"13\" lengthAdjust=\"spacingAndGlyphs\" textLength=\"7\" x=\"119.9709\" y=\"125.3484\">*</text></a><!--MD5=[3a9b96bfbf6b6ad89c494e81751bda47]\n",
       "link E5 to E7--><a href=\"psysml:b67e977c-71d2-45f4-9959-07a509bb3c26\" target=\"_top\" title=\"psysml:b67e977c-71d2-45f4-9959-07a509bb3c26\" xlink:actuate=\"onRequest\" xlink:href=\"psysml:b67e977c-71d2-45f4-9959-07a509bb3c26\" xlink:show=\"new\" xlink:title=\"psysml:b67e977c-71d2-45f4-9959-07a509bb3c26\" xlink:type=\"simple\"><path d=\"M119.02,116.2 C121.78,113.63 126.15,109.57 130.99,105.08 \" fill=\"none\" id=\"E5-&gt;E7\" style=\"stroke: #383838; stroke-width: 1.0;\"/><polygon fill=\"#383838\" points=\"134.77,101.57,125.4488,104.7504,131.1015,104.9673,130.8845,110.62,134.77,101.57\" style=\"stroke: #383838; stroke-width: 1.0;\"/><text fill=\"#000000\" font-family=\"sans-serif\" font-size=\"13\" lengthAdjust=\"spacingAndGlyphs\" textLength=\"7\" x=\"120.3176\" y=\"121.4757\">*</text></a><!--MD5=[940d3e1cd495591f07a50d77df99706b]\n",
       "@startuml\r\n",
       "skinparam ranksep 10\r\n",
       "skinparam rectangle {\r\n",
       " backgroundColor<<block>> LightGreen\r\n",
       "}\r\n",
       "left to right direction\r\n",
       "skinparam monochrome true\r\n",
       "skinparam classbackgroundcolor white\r\n",
       "skinparam shadowing false\r\n",
       "skinparam wrapWidth 300\r\n",
       "hide circle\r\n",
       "\r\n",
       "rec def \"ControlNodeTest\" as E1  <<(T,blue) action def>> [[psysml:d75b3c07-b549-4c23-b2aa-d48828b6adea ]] {\r\n",
       "rec usage \"A1\" as E2  <<(T,blue) action>> [[psysml:c07d7274-d0ac-44b0-95a3-e3c0562da237 ]] {\r\n",
       "}\r\n",
       "\r\n",
       "rec usage \"A2\" as E3  <<(T,blue) action>> [[psysml:7bb05ae1-d1dd-4ff0-97ee-ce3344a0751d ]] {\r\n",
       "}\r\n",
       "\r\n",
       "join \"J\" as E4  [[psysml:f3bfce16-3667-4a48-a42e-fd992fa328bf ]] \r\n",
       "fork \"F\" as E5  [[psysml:08c848ef-d5ea-4388-acb9-5b8d01347f10 ]] \r\n",
       "rec usage \"B1\" as E6  <<(T,blue) action>> [[psysml:d5fd7944-a8f1-4c67-81d3-da10d551f750 ]] {\r\n",
       "}\r\n",
       "\r\n",
       "rec usage \"B2\" as E7  <<(T,blue) action>> [[psysml:b7d3ffe5-6bb9-4232-a5c3-5eafb8d0b5f9 ]] {\r\n",
       "}\r\n",
       "\r\n",
       "}\r\n",
       "\r\n",
       "E2 - -> \"*\"E4 [[psysml:a5b917a3-7538-4e28-aa62-755107929dae ]] \r\n",
       "E3 - -> \"*\"E4 [[psysml:b67a9087-1129-4a2e-aba3-334d88c3cbf2 ]] \r\n",
       "E4 - -> \"*\"E5 [[psysml:9a17080e-ae46-40d4-b989-796f716175e4 ]] \r\n",
       "E5 - -> \"*\"E6 [[psysml:197b427e-ad07-4e53-856c-ed2b1bc0e06a ]] \r\n",
       "E5 - -> \"*\"E7 [[psysml:b67e977c-71d2-45f4-9959-07a509bb3c26 ]] \r\n",
       "@enduml\r\n",
       "\n",
       "PlantUML version 1.2020.13(Sat Jun 13 12:26:38 UTC 2020)\n",
       "(EPL source distribution)\n",
       "Java Runtime: OpenJDK Runtime Environment\n",
       "JVM: OpenJDK 64-Bit Server VM\n",
       "Default Encoding: UTF-8\n",
       "Language: en\n",
       "Country: null\n",
       "--></g></svg>"
      ]
     },
     "execution_count": 19,
     "metadata": {},
     "output_type": "execute_result"
    }
   ],
   "source": [
    "%viz --style=\"LR\" --view=\"Interconnection\" \"ControlNodeTest\""
   ]
  },
  {
   "cell_type": "code",
   "execution_count": 20,
   "id": "4b8fe339",
   "metadata": {
    "execution": {
     "iopub.execute_input": "2021-08-04T06:26:30.338543Z",
     "iopub.status.busy": "2021-08-04T06:26:30.338070Z",
     "iopub.status.idle": "2021-08-04T06:26:30.357969Z",
     "shell.execute_reply": "2021-08-04T06:26:30.356720Z"
    }
   },
   "outputs": [
    {
     "data": {
      "image/svg+xml": [
       "<?xml version=\"1.0\" encoding=\"UTF-8\" standalone=\"no\"?><svg xmlns=\"http://www.w3.org/2000/svg\" xmlns:xlink=\"http://www.w3.org/1999/xlink\" contentScriptType=\"application/ecmascript\" contentStyleType=\"text/css\" height=\"207px\" preserveAspectRatio=\"none\" style=\"width:210px;height:207px;\" version=\"1.1\" viewBox=\"0 0 210 207\" width=\"210px\" zoomAndPan=\"magnify\"><defs/><g><!--MD5=[fbc87193dbaf4d95561dea2c320d4a47]\n",
       "cluster E1--><a href=\"psysml:d75b3c07-b549-4c23-b2aa-d48828b6adea\" target=\"_top\" title=\"psysml:d75b3c07-b549-4c23-b2aa-d48828b6adea\" xlink:actuate=\"onRequest\" xlink:href=\"psysml:d75b3c07-b549-4c23-b2aa-d48828b6adea\" xlink:show=\"new\" xlink:title=\"psysml:d75b3c07-b549-4c23-b2aa-d48828b6adea\" xlink:type=\"simple\"><rect fill=\"#FFFFFF\" height=\"189\" id=\"E1\" style=\"stroke: #383838; stroke-width: 1.5;\" width=\"192\" x=\"7\" y=\"7\"/><rect fill=\"#F8F8F8\" height=\"37.9375\" style=\"stroke: #383838; stroke-width: 1.5;\" width=\"192\" x=\"7\" y=\"7\"/><text fill=\"#000000\" font-family=\"sans-serif\" font-size=\"12\" font-style=\"italic\" lengthAdjust=\"spacingAndGlyphs\" textLength=\"77\" x=\"64.5\" y=\"23.1387\">«action def»</text><text fill=\"#000000\" font-family=\"sans-serif\" font-size=\"12\" lengthAdjust=\"spacingAndGlyphs\" textLength=\"105\" x=\"50.5\" y=\"37.1074\">ControlNodeTest</text></a><rect fill=\"#000000\" height=\"80\" style=\"stroke: none; stroke-width: 1.0;\" width=\"8\" x=\"91\" y=\"79\"/><rect fill=\"#000000\" height=\"80\" style=\"stroke: none; stroke-width: 1.0;\" width=\"8\" x=\"107\" y=\"79\"/><g id=\"E1.E2\"><a href=\"psysml:c07d7274-d0ac-44b0-95a3-e3c0562da237\" target=\"_top\" title=\"psysml:c07d7274-d0ac-44b0-95a3-e3c0562da237\" xlink:actuate=\"onRequest\" xlink:href=\"psysml:c07d7274-d0ac-44b0-95a3-e3c0562da237\" xlink:show=\"new\" xlink:title=\"psysml:c07d7274-d0ac-44b0-95a3-e3c0562da237\" xlink:type=\"simple\"><rect fill=\"#FFFFFF\" height=\"42.9375\" id=\"E2\" rx=\"10\" ry=\"10\" style=\"stroke: #383838; stroke-width: 1.5;\" width=\"60\" x=\"23\" y=\"58.5\"/><rect fill=\"#F8F8F8\" height=\"37.9375\" rx=\"10\" ry=\"10\" style=\"stroke: #F8F8F8; stroke-width: 1.5;\" width=\"60\" x=\"23\" y=\"58.5\"/><rect fill=\"#F8F8F8\" height=\"10\" style=\"stroke: #F8F8F8; stroke-width: 1.5;\" width=\"60\" x=\"23\" y=\"86.4375\"/><rect fill=\"none\" height=\"42.9375\" id=\"E2\" rx=\"10\" ry=\"10\" style=\"stroke: #383838; stroke-width: 1.5;\" width=\"60\" x=\"23\" y=\"58.5\"/><text fill=\"#000000\" font-family=\"sans-serif\" font-size=\"12\" font-style=\"italic\" lengthAdjust=\"spacingAndGlyphs\" textLength=\"53\" x=\"26.5\" y=\"74.6387\">«action»</text><text fill=\"#000000\" font-family=\"sans-serif\" font-size=\"12\" lengthAdjust=\"spacingAndGlyphs\" textLength=\"16\" x=\"45\" y=\"88.6074\">A1</text></a></g><g id=\"E1.E3\"><a href=\"psysml:7bb05ae1-d1dd-4ff0-97ee-ce3344a0751d\" target=\"_top\" title=\"psysml:7bb05ae1-d1dd-4ff0-97ee-ce3344a0751d\" xlink:actuate=\"onRequest\" xlink:href=\"psysml:7bb05ae1-d1dd-4ff0-97ee-ce3344a0751d\" xlink:show=\"new\" xlink:title=\"psysml:7bb05ae1-d1dd-4ff0-97ee-ce3344a0751d\" xlink:type=\"simple\"><rect fill=\"#FFFFFF\" height=\"42.9375\" id=\"E3\" rx=\"10\" ry=\"10\" style=\"stroke: #383838; stroke-width: 1.5;\" width=\"60\" x=\"23\" y=\"136.5\"/><rect fill=\"#F8F8F8\" height=\"37.9375\" rx=\"10\" ry=\"10\" style=\"stroke: #F8F8F8; stroke-width: 1.5;\" width=\"60\" x=\"23\" y=\"136.5\"/><rect fill=\"#F8F8F8\" height=\"10\" style=\"stroke: #F8F8F8; stroke-width: 1.5;\" width=\"60\" x=\"23\" y=\"164.4375\"/><rect fill=\"none\" height=\"42.9375\" id=\"E3\" rx=\"10\" ry=\"10\" style=\"stroke: #383838; stroke-width: 1.5;\" width=\"60\" x=\"23\" y=\"136.5\"/><text fill=\"#000000\" font-family=\"sans-serif\" font-size=\"12\" font-style=\"italic\" lengthAdjust=\"spacingAndGlyphs\" textLength=\"53\" x=\"26.5\" y=\"152.6387\">«action»</text><text fill=\"#000000\" font-family=\"sans-serif\" font-size=\"12\" lengthAdjust=\"spacingAndGlyphs\" textLength=\"16\" x=\"45\" y=\"166.6074\">A2</text></a></g><g id=\"E1.E6\"><a href=\"psysml:d5fd7944-a8f1-4c67-81d3-da10d551f750\" target=\"_top\" title=\"psysml:d5fd7944-a8f1-4c67-81d3-da10d551f750\" xlink:actuate=\"onRequest\" xlink:href=\"psysml:d5fd7944-a8f1-4c67-81d3-da10d551f750\" xlink:show=\"new\" xlink:title=\"psysml:d5fd7944-a8f1-4c67-81d3-da10d551f750\" xlink:type=\"simple\"><rect fill=\"#FFFFFF\" height=\"42.9375\" id=\"E6\" rx=\"10\" ry=\"10\" style=\"stroke: #383838; stroke-width: 1.5;\" width=\"60\" x=\"123\" y=\"136.5\"/><rect fill=\"#F8F8F8\" height=\"37.9375\" rx=\"10\" ry=\"10\" style=\"stroke: #F8F8F8; stroke-width: 1.5;\" width=\"60\" x=\"123\" y=\"136.5\"/><rect fill=\"#F8F8F8\" height=\"10\" style=\"stroke: #F8F8F8; stroke-width: 1.5;\" width=\"60\" x=\"123\" y=\"164.4375\"/><rect fill=\"none\" height=\"42.9375\" id=\"E6\" rx=\"10\" ry=\"10\" style=\"stroke: #383838; stroke-width: 1.5;\" width=\"60\" x=\"123\" y=\"136.5\"/><text fill=\"#000000\" font-family=\"sans-serif\" font-size=\"12\" font-style=\"italic\" lengthAdjust=\"spacingAndGlyphs\" textLength=\"53\" x=\"126.5\" y=\"152.6387\">«action»</text><text fill=\"#000000\" font-family=\"sans-serif\" font-size=\"12\" lengthAdjust=\"spacingAndGlyphs\" textLength=\"16\" x=\"145\" y=\"166.6074\">B1</text></a></g><g id=\"E1.E7\"><a href=\"psysml:b7d3ffe5-6bb9-4232-a5c3-5eafb8d0b5f9\" target=\"_top\" title=\"psysml:b7d3ffe5-6bb9-4232-a5c3-5eafb8d0b5f9\" xlink:actuate=\"onRequest\" xlink:href=\"psysml:b7d3ffe5-6bb9-4232-a5c3-5eafb8d0b5f9\" xlink:show=\"new\" xlink:title=\"psysml:b7d3ffe5-6bb9-4232-a5c3-5eafb8d0b5f9\" xlink:type=\"simple\"><rect fill=\"#FFFFFF\" height=\"42.9375\" id=\"E7\" rx=\"10\" ry=\"10\" style=\"stroke: #383838; stroke-width: 1.5;\" width=\"60\" x=\"123\" y=\"58.5\"/><rect fill=\"#F8F8F8\" height=\"37.9375\" rx=\"10\" ry=\"10\" style=\"stroke: #F8F8F8; stroke-width: 1.5;\" width=\"60\" x=\"123\" y=\"58.5\"/><rect fill=\"#F8F8F8\" height=\"10\" style=\"stroke: #F8F8F8; stroke-width: 1.5;\" width=\"60\" x=\"123\" y=\"86.4375\"/><rect fill=\"none\" height=\"42.9375\" id=\"E7\" rx=\"10\" ry=\"10\" style=\"stroke: #383838; stroke-width: 1.5;\" width=\"60\" x=\"123\" y=\"58.5\"/><text fill=\"#000000\" font-family=\"sans-serif\" font-size=\"12\" font-style=\"italic\" lengthAdjust=\"spacingAndGlyphs\" textLength=\"53\" x=\"126.5\" y=\"74.6387\">«action»</text><text fill=\"#000000\" font-family=\"sans-serif\" font-size=\"12\" lengthAdjust=\"spacingAndGlyphs\" textLength=\"16\" x=\"145\" y=\"88.6074\">B2</text></a></g><!--MD5=[4d03bb2d0377dc85ccfab60ff574652b]\n",
       "link E2 to E4--><a href=\"psysml:a5b917a3-7538-4e28-aa62-755107929dae\" target=\"_top\" title=\"psysml:a5b917a3-7538-4e28-aa62-755107929dae\" xlink:actuate=\"onRequest\" xlink:href=\"psysml:a5b917a3-7538-4e28-aa62-755107929dae\" xlink:show=\"new\" xlink:title=\"psysml:a5b917a3-7538-4e28-aa62-755107929dae\" xlink:type=\"simple\"><path d=\"M76.34,101.78 C80.28,105.62 84.09,109.34 87.16,112.33 \" fill=\"none\" id=\"E2-&gt;E4\" style=\"stroke: #383838; stroke-width: 1.0; stroke-dasharray: 7.0,7.0;\"/><polygon fill=\"#383838\" points=\"90.83,115.91,87.1648,106.7685,87.2448,112.4248,81.5885,112.5048,90.83,115.91\" style=\"stroke: #383838; stroke-width: 1.0;\"/></a><!--MD5=[af87c684e3b0d8be13c1a698a818ef1e]\n",
       "link E3 to E4--><a href=\"psysml:b67a9087-1129-4a2e-aba3-334d88c3cbf2\" target=\"_top\" title=\"psysml:b67a9087-1129-4a2e-aba3-334d88c3cbf2\" xlink:actuate=\"onRequest\" xlink:href=\"psysml:b67a9087-1129-4a2e-aba3-334d88c3cbf2\" xlink:show=\"new\" xlink:title=\"psysml:b67a9087-1129-4a2e-aba3-334d88c3cbf2\" xlink:type=\"simple\"><path d=\"M76.34,136.22 C80.28,132.38 84.09,128.66 87.16,125.67 \" fill=\"none\" id=\"E3-&gt;E4\" style=\"stroke: #383838; stroke-width: 1.0; stroke-dasharray: 7.0,7.0;\"/><polygon fill=\"#383838\" points=\"90.83,122.09,81.5885,125.4952,87.2448,125.5752,87.1648,131.2315,90.83,122.09\" style=\"stroke: #383838; stroke-width: 1.0;\"/></a><!--MD5=[1b7591eae5389033d8d09a9d6721a717]\n",
       "link E4 to E5--><a href=\"psysml:9a17080e-ae46-40d4-b989-796f716175e4\" target=\"_top\" title=\"psysml:9a17080e-ae46-40d4-b989-796f716175e4\" xlink:actuate=\"onRequest\" xlink:href=\"psysml:9a17080e-ae46-40d4-b989-796f716175e4\" xlink:show=\"new\" xlink:title=\"psysml:9a17080e-ae46-40d4-b989-796f716175e4\" xlink:type=\"simple\"><path d=\"M99.25,119 C100.05,119 100.94,119 101.86,119 \" fill=\"none\" id=\"E4-&gt;E5\" style=\"stroke: #383838; stroke-width: 1.0; stroke-dasharray: 7.0,7.0;\"/><polygon fill=\"#383838\" points=\"106.96,119,97.96,115,101.96,119,97.96,123,106.96,119\" style=\"stroke: #383838; stroke-width: 1.0;\"/></a><!--MD5=[9120cf2e5df3bff93db8f754bbbc09b4]\n",
       "link E5 to E6--><a href=\"psysml:197b427e-ad07-4e53-856c-ed2b1bc0e06a\" target=\"_top\" title=\"psysml:197b427e-ad07-4e53-856c-ed2b1bc0e06a\" xlink:actuate=\"onRequest\" xlink:href=\"psysml:197b427e-ad07-4e53-856c-ed2b1bc0e06a\" xlink:show=\"new\" xlink:title=\"psysml:197b427e-ad07-4e53-856c-ed2b1bc0e06a\" xlink:type=\"simple\"><path d=\"M115.14,122.06 C117.73,124.59 121.68,128.43 126.04,132.69 \" fill=\"none\" id=\"E5-&gt;E6\" style=\"stroke: #383838; stroke-width: 1.0; stroke-dasharray: 7.0,7.0;\"/><polygon fill=\"#383838\" points=\"129.78,136.34,126.1518,127.1838,126.2089,132.8404,120.5524,132.8975,129.78,136.34\" style=\"stroke: #383838; stroke-width: 1.0;\"/></a><!--MD5=[3a9b96bfbf6b6ad89c494e81751bda47]\n",
       "link E5 to E7--><a href=\"psysml:b67e977c-71d2-45f4-9959-07a509bb3c26\" target=\"_top\" title=\"psysml:b67e977c-71d2-45f4-9959-07a509bb3c26\" xlink:actuate=\"onRequest\" xlink:href=\"psysml:b67e977c-71d2-45f4-9959-07a509bb3c26\" xlink:show=\"new\" xlink:title=\"psysml:b67e977c-71d2-45f4-9959-07a509bb3c26\" xlink:type=\"simple\"><path d=\"M115.14,115.94 C117.73,113.41 121.68,109.57 126.04,105.31 \" fill=\"none\" id=\"E5-&gt;E7\" style=\"stroke: #383838; stroke-width: 1.0; stroke-dasharray: 7.0,7.0;\"/><polygon fill=\"#383838\" points=\"129.78,101.66,120.5524,105.1025,126.2089,105.1596,126.1518,110.8162,129.78,101.66\" style=\"stroke: #383838; stroke-width: 1.0;\"/></a><!--MD5=[1b6f1aed8faf717c37ebe1ea34ff6e77]\n",
       "@startuml\r\n",
       "skinparam ranksep 8\r\n",
       "left to right direction\r\n",
       "skinparam monochrome true\r\n",
       "skinparam classbackgroundcolor white\r\n",
       "skinparam shadowing false\r\n",
       "skinparam wrapWidth 300\r\n",
       "hide circle\r\n",
       "\r\n",
       "rec def \"ControlNodeTest\" as E1  <<(T,blue) action def>> [[psysml:d75b3c07-b549-4c23-b2aa-d48828b6adea ]] {\r\n",
       "rec usage \"A1\" as E2  <<(T,blue) action>> [[psysml:c07d7274-d0ac-44b0-95a3-e3c0562da237 ]] {\r\n",
       "}\r\n",
       "\r\n",
       "rec usage \"A2\" as E3  <<(T,blue) action>> [[psysml:7bb05ae1-d1dd-4ff0-97ee-ce3344a0751d ]] {\r\n",
       "}\r\n",
       "\r\n",
       "join \"J\" as E4  [[psysml:f3bfce16-3667-4a48-a42e-fd992fa328bf ]] \r\n",
       "fork \"F\" as E5  [[psysml:08c848ef-d5ea-4388-acb9-5b8d01347f10 ]] \r\n",
       "rec usage \"B1\" as E6  <<(T,blue) action>> [[psysml:d5fd7944-a8f1-4c67-81d3-da10d551f750 ]] {\r\n",
       "}\r\n",
       "\r\n",
       "rec usage \"B2\" as E7  <<(T,blue) action>> [[psysml:b7d3ffe5-6bb9-4232-a5c3-5eafb8d0b5f9 ]] {\r\n",
       "}\r\n",
       "\r\n",
       "}\r\n",
       "\r\n",
       "E2 ..> E4 [[psysml:a5b917a3-7538-4e28-aa62-755107929dae ]] \r\n",
       "E3 ..> E4 [[psysml:b67a9087-1129-4a2e-aba3-334d88c3cbf2 ]] \r\n",
       "E4 ..> E5 [[psysml:9a17080e-ae46-40d4-b989-796f716175e4 ]] \r\n",
       "E5 ..> E6 [[psysml:197b427e-ad07-4e53-856c-ed2b1bc0e06a ]] \r\n",
       "E5 ..> E7 [[psysml:b67e977c-71d2-45f4-9959-07a509bb3c26 ]] \r\n",
       "@enduml\r\n",
       "\n",
       "PlantUML version 1.2020.13(Sat Jun 13 12:26:38 UTC 2020)\n",
       "(EPL source distribution)\n",
       "Java Runtime: OpenJDK Runtime Environment\n",
       "JVM: OpenJDK 64-Bit Server VM\n",
       "Default Encoding: UTF-8\n",
       "Language: en\n",
       "Country: null\n",
       "--></g></svg>"
      ]
     },
     "execution_count": 20,
     "metadata": {},
     "output_type": "execute_result"
    }
   ],
   "source": [
    "%viz --style=\"LR\" --view=\"Action\" \"ControlNodeTest\""
   ]
  },
  {
   "cell_type": "code",
   "execution_count": 21,
   "id": "0a4eb8a9",
   "metadata": {
    "execution": {
     "iopub.execute_input": "2021-08-04T06:26:30.407508Z",
     "iopub.status.busy": "2021-08-04T06:26:30.407093Z",
     "iopub.status.idle": "2021-08-04T06:26:30.431316Z",
     "shell.execute_reply": "2021-08-04T06:26:30.430952Z"
    }
   },
   "outputs": [
    {
     "data": {
      "image/svg+xml": [
       "<?xml version=\"1.0\" encoding=\"UTF-8\" standalone=\"no\"?><svg xmlns=\"http://www.w3.org/2000/svg\" xmlns:xlink=\"http://www.w3.org/1999/xlink\" contentScriptType=\"application/ecmascript\" contentStyleType=\"text/css\" height=\"468px\" preserveAspectRatio=\"none\" style=\"width:262px;height:468px;\" version=\"1.1\" viewBox=\"0 0 262 468\" width=\"262px\" zoomAndPan=\"magnify\"><defs/><g><!--MD5=[43c9051892ef23e1a46a86907403d788]\n",
       "class E1--><a href=\"psysml:d75b3c07-b549-4c23-b2aa-d48828b6adea\" target=\"_top\" title=\"psysml:d75b3c07-b549-4c23-b2aa-d48828b6adea\" xlink:actuate=\"onRequest\" xlink:href=\"psysml:d75b3c07-b549-4c23-b2aa-d48828b6adea\" xlink:show=\"new\" xlink:title=\"psysml:d75b3c07-b549-4c23-b2aa-d48828b6adea\" xlink:type=\"simple\"><rect fill=\"#FFFFFF\" height=\"45.9375\" id=\"E1\" style=\"stroke: #383838; stroke-width: 1.5;\" width=\"111\" x=\"7\" y=\"210\"/><text fill=\"#000000\" font-family=\"sans-serif\" font-size=\"12\" font-style=\"italic\" lengthAdjust=\"spacingAndGlyphs\" textLength=\"77\" x=\"24\" y=\"226.1387\">«action def»</text><text fill=\"#000000\" font-family=\"sans-serif\" font-size=\"12\" lengthAdjust=\"spacingAndGlyphs\" textLength=\"105\" x=\"10\" y=\"240.1074\">ControlNodeTest</text><line style=\"stroke: #383838; stroke-width: 1.5;\" x1=\"8\" x2=\"117\" y1=\"247.9375\" y2=\"247.9375\"/></a><!--MD5=[b4997ac47864f28c2f74865a473b2911]\n",
       "class E2--><a href=\"psysml:c07d7274-d0ac-44b0-95a3-e3c0562da237\" target=\"_top\" title=\"psysml:c07d7274-d0ac-44b0-95a3-e3c0562da237\" xlink:actuate=\"onRequest\" xlink:href=\"psysml:c07d7274-d0ac-44b0-95a3-e3c0562da237\" xlink:show=\"new\" xlink:title=\"psysml:c07d7274-d0ac-44b0-95a3-e3c0562da237\" xlink:type=\"simple\"><rect fill=\"#FFFFFF\" height=\"45.9375\" id=\"E2\" rx=\"10\" ry=\"10\" style=\"stroke: #383838; stroke-width: 1.5;\" width=\"55\" x=\"187\" y=\"7\"/><text fill=\"#000000\" font-family=\"sans-serif\" font-size=\"12\" font-style=\"italic\" lengthAdjust=\"spacingAndGlyphs\" textLength=\"53\" x=\"188\" y=\"23.1387\">«action»</text><text fill=\"#000000\" font-family=\"sans-serif\" font-size=\"12\" lengthAdjust=\"spacingAndGlyphs\" textLength=\"16\" x=\"206.5\" y=\"37.1074\">A1</text><line style=\"stroke: #383838; stroke-width: 1.5;\" x1=\"188\" x2=\"241\" y1=\"44.9375\" y2=\"44.9375\"/></a><!--MD5=[09b614a08d8cba4a07c9adeb5e0fee81]\n",
       "class E3--><a href=\"psysml:7bb05ae1-d1dd-4ff0-97ee-ce3344a0751d\" target=\"_top\" title=\"psysml:7bb05ae1-d1dd-4ff0-97ee-ce3344a0751d\" xlink:actuate=\"onRequest\" xlink:href=\"psysml:7bb05ae1-d1dd-4ff0-97ee-ce3344a0751d\" xlink:show=\"new\" xlink:title=\"psysml:7bb05ae1-d1dd-4ff0-97ee-ce3344a0751d\" xlink:type=\"simple\"><rect fill=\"#FFFFFF\" height=\"45.9375\" id=\"E3\" rx=\"10\" ry=\"10\" style=\"stroke: #383838; stroke-width: 1.5;\" width=\"55\" x=\"187\" y=\"88\"/><text fill=\"#000000\" font-family=\"sans-serif\" font-size=\"12\" font-style=\"italic\" lengthAdjust=\"spacingAndGlyphs\" textLength=\"53\" x=\"188\" y=\"104.1387\">«action»</text><text fill=\"#000000\" font-family=\"sans-serif\" font-size=\"12\" lengthAdjust=\"spacingAndGlyphs\" textLength=\"16\" x=\"206.5\" y=\"118.1074\">A2</text><line style=\"stroke: #383838; stroke-width: 1.5;\" x1=\"188\" x2=\"241\" y1=\"125.9375\" y2=\"125.9375\"/></a><!--MD5=[ebbe1d658d1005bcc118a6aa81145e00]\n",
       "class E4--><a href=\"psysml:f3bfce16-3667-4a48-a42e-fd992fa328bf\" target=\"_top\" title=\"psysml:f3bfce16-3667-4a48-a42e-fd992fa328bf\" xlink:actuate=\"onRequest\" xlink:href=\"psysml:f3bfce16-3667-4a48-a42e-fd992fa328bf\" xlink:show=\"new\" xlink:title=\"psysml:f3bfce16-3667-4a48-a42e-fd992fa328bf\" xlink:type=\"simple\"><rect fill=\"#FFFFFF\" height=\"45.9375\" id=\"E4\" rx=\"10\" ry=\"10\" style=\"stroke: #383838; stroke-width: 1.5;\" width=\"71\" x=\"179\" y=\"169\"/><text fill=\"#000000\" font-family=\"sans-serif\" font-size=\"12\" font-style=\"italic\" lengthAdjust=\"spacingAndGlyphs\" textLength=\"69\" x=\"180\" y=\"185.1387\">«joinNode»</text><text fill=\"#000000\" font-family=\"sans-serif\" font-size=\"12\" lengthAdjust=\"spacingAndGlyphs\" textLength=\"3\" x=\"213\" y=\"199.1074\">J</text><line style=\"stroke: #383838; stroke-width: 1.5;\" x1=\"180\" x2=\"249\" y1=\"206.9375\" y2=\"206.9375\"/></a><!--MD5=[270fce915f116d4de14055a7c1d9a0f3]\n",
       "class E5--><a href=\"psysml:08c848ef-d5ea-4388-acb9-5b8d01347f10\" target=\"_top\" title=\"psysml:08c848ef-d5ea-4388-acb9-5b8d01347f10\" xlink:actuate=\"onRequest\" xlink:href=\"psysml:08c848ef-d5ea-4388-acb9-5b8d01347f10\" xlink:show=\"new\" xlink:title=\"psysml:08c848ef-d5ea-4388-acb9-5b8d01347f10\" xlink:type=\"simple\"><rect fill=\"#FFFFFF\" height=\"45.9375\" id=\"E5\" rx=\"10\" ry=\"10\" style=\"stroke: #383838; stroke-width: 1.5;\" width=\"73\" x=\"178\" y=\"250\"/><text fill=\"#000000\" font-family=\"sans-serif\" font-size=\"12\" font-style=\"italic\" lengthAdjust=\"spacingAndGlyphs\" textLength=\"71\" x=\"179\" y=\"266.1387\">«forkNode»</text><text fill=\"#000000\" font-family=\"sans-serif\" font-size=\"12\" lengthAdjust=\"spacingAndGlyphs\" textLength=\"7\" x=\"211\" y=\"280.1074\">F</text><line style=\"stroke: #383838; stroke-width: 1.5;\" x1=\"179\" x2=\"250\" y1=\"287.9375\" y2=\"287.9375\"/></a><!--MD5=[60a26617385b1d2d0262a64233df1f8d]\n",
       "class E6--><a href=\"psysml:d5fd7944-a8f1-4c67-81d3-da10d551f750\" target=\"_top\" title=\"psysml:d5fd7944-a8f1-4c67-81d3-da10d551f750\" xlink:actuate=\"onRequest\" xlink:href=\"psysml:d5fd7944-a8f1-4c67-81d3-da10d551f750\" xlink:show=\"new\" xlink:title=\"psysml:d5fd7944-a8f1-4c67-81d3-da10d551f750\" xlink:type=\"simple\"><rect fill=\"#FFFFFF\" height=\"45.9375\" id=\"E6\" rx=\"10\" ry=\"10\" style=\"stroke: #383838; stroke-width: 1.5;\" width=\"55\" x=\"187\" y=\"331\"/><text fill=\"#000000\" font-family=\"sans-serif\" font-size=\"12\" font-style=\"italic\" lengthAdjust=\"spacingAndGlyphs\" textLength=\"53\" x=\"188\" y=\"347.1387\">«action»</text><text fill=\"#000000\" font-family=\"sans-serif\" font-size=\"12\" lengthAdjust=\"spacingAndGlyphs\" textLength=\"16\" x=\"206.5\" y=\"361.1074\">B1</text><line style=\"stroke: #383838; stroke-width: 1.5;\" x1=\"188\" x2=\"241\" y1=\"368.9375\" y2=\"368.9375\"/></a><!--MD5=[2156ba9850f5573cc1fc38a6a4b2f02b]\n",
       "class E7--><a href=\"psysml:b7d3ffe5-6bb9-4232-a5c3-5eafb8d0b5f9\" target=\"_top\" title=\"psysml:b7d3ffe5-6bb9-4232-a5c3-5eafb8d0b5f9\" xlink:actuate=\"onRequest\" xlink:href=\"psysml:b7d3ffe5-6bb9-4232-a5c3-5eafb8d0b5f9\" xlink:show=\"new\" xlink:title=\"psysml:b7d3ffe5-6bb9-4232-a5c3-5eafb8d0b5f9\" xlink:type=\"simple\"><rect fill=\"#FFFFFF\" height=\"45.9375\" id=\"E7\" rx=\"10\" ry=\"10\" style=\"stroke: #383838; stroke-width: 1.5;\" width=\"55\" x=\"187\" y=\"412\"/><text fill=\"#000000\" font-family=\"sans-serif\" font-size=\"12\" font-style=\"italic\" lengthAdjust=\"spacingAndGlyphs\" textLength=\"53\" x=\"188\" y=\"428.1387\">«action»</text><text fill=\"#000000\" font-family=\"sans-serif\" font-size=\"12\" lengthAdjust=\"spacingAndGlyphs\" textLength=\"16\" x=\"206.5\" y=\"442.1074\">B2</text><line style=\"stroke: #383838; stroke-width: 1.5;\" x1=\"188\" x2=\"241\" y1=\"449.9375\" y2=\"449.9375\"/></a><!--MD5=[a523cb2a0b79ecf9065ad8783f96c320]\n",
       "reverse link E1 to E2--><a href=\"psysml:090da899-d633-4f68-ac70-93df987c1f89\" target=\"_top\" title=\"psysml:090da899-d633-4f68-ac70-93df987c1f89\" xlink:actuate=\"onRequest\" xlink:href=\"psysml:090da899-d633-4f68-ac70-93df987c1f89\" xlink:show=\"new\" xlink:title=\"psysml:090da899-d633-4f68-ac70-93df987c1f89\" xlink:type=\"simple\"><path d=\"M85.95,198.68 C108.29,165.12 144.04,112.95 178,70 C182.38,64.47 187.28,58.69 192.02,53.31 \" fill=\"none\" id=\"E1&lt;-E2\" style=\"stroke: #383838; stroke-width: 1.0;\"/><polygon fill=\"#383838\" points=\"78.63,209.73,85.2762,206.9322,85.2498,199.7211,78.6036,202.5189,78.63,209.73\" style=\"stroke: #383838; stroke-width: 1.0;\"/><text fill=\"#000000\" font-family=\"sans-serif\" font-size=\"13\" lengthAdjust=\"spacingAndGlyphs\" textLength=\"7\" x=\"178.6874\" y=\"72.9106\">*</text></a><!--MD5=[5d7b3810b1dd9b5164bea1151b29b665]\n",
       "reverse link E1 to E3--><a href=\"psysml:797c4c3c-8cfb-4ed1-914f-99d654db3cec\" target=\"_top\" title=\"psysml:797c4c3c-8cfb-4ed1-914f-99d654db3cec\" xlink:actuate=\"onRequest\" xlink:href=\"psysml:797c4c3c-8cfb-4ed1-914f-99d654db3cec\" xlink:show=\"new\" xlink:title=\"psysml:797c4c3c-8cfb-4ed1-914f-99d654db3cec\" xlink:type=\"simple\"><path d=\"M102.49,201.29 C128.9,179.8 163.13,151.97 186.55,132.92 \" fill=\"none\" id=\"E1&lt;-E3\" style=\"stroke: #383838; stroke-width: 1.0;\"/><polygon fill=\"#383838\" points=\"92.07,209.77,99.2488,209.0886,101.3809,202.1999,94.2021,202.8813,92.07,209.77\" style=\"stroke: #383838; stroke-width: 1.0;\"/><text fill=\"#000000\" font-family=\"sans-serif\" font-size=\"13\" lengthAdjust=\"spacingAndGlyphs\" textLength=\"7\" x=\"171.8841\" y=\"152.1818\">*</text></a><!--MD5=[f2c5c03aa1e8c0ba21c10a05e6444b8e]\n",
       "reverse link E1 to E4--><a href=\"psysml:70a466ea-83ad-4e19-afa5-d192b13fd9c7\" target=\"_top\" title=\"psysml:70a466ea-83ad-4e19-afa5-d192b13fd9c7\" xlink:actuate=\"onRequest\" xlink:href=\"psysml:70a466ea-83ad-4e19-afa5-d192b13fd9c7\" xlink:show=\"new\" xlink:title=\"psysml:70a466ea-83ad-4e19-afa5-d192b13fd9c7\" xlink:type=\"simple\"><path d=\"M130.64,214.65 C147.28,210.1 164.44,205.41 178.79,201.49 \" fill=\"none\" id=\"E1&lt;-E4\" style=\"stroke: #383838; stroke-width: 1.0;\"/><polygon fill=\"#383838\" points=\"118.08,218.08,124.923,220.3544,129.6544,214.9125,122.8114,212.6381,118.08,218.08\" style=\"stroke: #383838; stroke-width: 1.0;\"/></a><!--MD5=[33238bef88d6431a141d8bc8fb12bca0]\n",
       "reverse link E1 to E5--><a href=\"psysml:26253911-6243-446d-b791-23c0e42b91a5\" target=\"_top\" title=\"psysml:26253911-6243-446d-b791-23c0e42b91a5\" xlink:actuate=\"onRequest\" xlink:href=\"psysml:26253911-6243-446d-b791-23c0e42b91a5\" xlink:show=\"new\" xlink:title=\"psysml:26253911-6243-446d-b791-23c0e42b91a5\" xlink:type=\"simple\"><path d=\"M130.91,250.98 C147.12,255.3 163.8,259.75 177.89,263.51 \" fill=\"none\" id=\"E1&lt;-E5\" style=\"stroke: #383838; stroke-width: 1.0;\"/><polygon fill=\"#383838\" points=\"118.08,247.55,122.8491,252.9589,129.6761,250.637,124.9071,245.2281,118.08,247.55\" style=\"stroke: #383838; stroke-width: 1.0;\"/></a><!--MD5=[aca2ef284c2b1b90e17e73bf3f292c07]\n",
       "reverse link E1 to E6--><a href=\"psysml:e8354a48-cb93-46c3-a69e-19a4acf29f71\" target=\"_top\" title=\"psysml:e8354a48-cb93-46c3-a69e-19a4acf29f71\" xlink:actuate=\"onRequest\" xlink:href=\"psysml:e8354a48-cb93-46c3-a69e-19a4acf29f71\" xlink:show=\"new\" xlink:title=\"psysml:e8354a48-cb93-46c3-a69e-19a4acf29f71\" xlink:type=\"simple\"><path d=\"M102.49,264.45 C128.9,285.76 163.13,313.37 186.55,332.26 \" fill=\"none\" id=\"E1&lt;-E6\" style=\"stroke: #383838; stroke-width: 1.0;\"/><polygon fill=\"#383838\" points=\"92.07,256.04,94.234,262.9187,101.4159,263.5668,99.2519,256.6881,92.07,256.04\" style=\"stroke: #383838; stroke-width: 1.0;\"/><text fill=\"#000000\" font-family=\"sans-serif\" font-size=\"13\" lengthAdjust=\"spacingAndGlyphs\" textLength=\"7\" x=\"171.8841\" y=\"340.8797\">*</text></a><!--MD5=[fc9706a6b2cf8c0e423679d303750d3f]\n",
       "reverse link E1 to E7--><a href=\"psysml:8dca6daf-962f-46a3-bb74-22037bd04295\" target=\"_top\" title=\"psysml:8dca6daf-962f-46a3-bb74-22037bd04295\" xlink:actuate=\"onRequest\" xlink:href=\"psysml:8dca6daf-962f-46a3-bb74-22037bd04295\" xlink:show=\"new\" xlink:title=\"psysml:8dca6daf-962f-46a3-bb74-22037bd04295\" xlink:type=\"simple\"><path d=\"M86.32,267.05 C108.8,300.12 144.55,351.42 178,394 C182.65,399.92 187.87,406.15 192.83,411.91 \" fill=\"none\" id=\"E1&lt;-E7\" style=\"stroke: #383838; stroke-width: 1.0;\"/><polygon fill=\"#383838\" points=\"78.95,256.16,79.0028,263.3709,85.6793,266.0956,85.6265,258.8847,78.95,256.16\" style=\"stroke: #383838; stroke-width: 1.0;\"/><text fill=\"#000000\" font-family=\"sans-serif\" font-size=\"13\" lengthAdjust=\"spacingAndGlyphs\" textLength=\"7\" x=\"179.0656\" y=\"400.7821\">*</text></a><!--MD5=[6173b5c2de96e93438764d2ace375d6c]\n",
       "@startuml\r\n",
       "left to right direction\r\n",
       "skinparam monochrome true\r\n",
       "skinparam classbackgroundcolor white\r\n",
       "skinparam shadowing false\r\n",
       "skinparam wrapWidth 300\r\n",
       "hide circle\r\n",
       "\r\n",
       "comp def \"ControlNodeTest\" as E1  <<(T,blue) action def>> [[psysml:d75b3c07-b549-4c23-b2aa-d48828b6adea ]] {\r\n",
       "}\r\n",
       "comp usage \"A1\" as E2  <<(T,blue) action>> [[psysml:c07d7274-d0ac-44b0-95a3-e3c0562da237 ]] {\r\n",
       "}\r\n",
       "comp usage \"A2\" as E3  <<(T,blue) action>> [[psysml:7bb05ae1-d1dd-4ff0-97ee-ce3344a0751d ]] {\r\n",
       "}\r\n",
       "comp usage \"J\" as E4  <<(T,blue) joinNode>> [[psysml:f3bfce16-3667-4a48-a42e-fd992fa328bf ]] {\r\n",
       "}\r\n",
       "comp usage \"F\" as E5  <<(T,blue) forkNode>> [[psysml:08c848ef-d5ea-4388-acb9-5b8d01347f10 ]] {\r\n",
       "}\r\n",
       "comp usage \"B1\" as E6  <<(T,blue) action>> [[psysml:d5fd7944-a8f1-4c67-81d3-da10d551f750 ]] {\r\n",
       "}\r\n",
       "comp usage \"B2\" as E7  <<(T,blue) action>> [[psysml:b7d3ffe5-6bb9-4232-a5c3-5eafb8d0b5f9 ]] {\r\n",
       "}\r\n",
       "E1 *- - \"*\"E2 [[psysml:090da899-d633-4f68-ac70-93df987c1f89 ]] \r\n",
       "E1 *- - \"*\"E3 [[psysml:797c4c3c-8cfb-4ed1-914f-99d654db3cec ]] \r\n",
       "E1 *- - E4 [[psysml:70a466ea-83ad-4e19-afa5-d192b13fd9c7 ]] \r\n",
       "E1 *- - E5 [[psysml:26253911-6243-446d-b791-23c0e42b91a5 ]] \r\n",
       "E1 *- - \"*\"E6 [[psysml:e8354a48-cb93-46c3-a69e-19a4acf29f71 ]] \r\n",
       "E1 *- - \"*\"E7 [[psysml:8dca6daf-962f-46a3-bb74-22037bd04295 ]] \r\n",
       "@enduml\r\n",
       "\n",
       "PlantUML version 1.2020.13(Sat Jun 13 12:26:38 UTC 2020)\n",
       "(EPL source distribution)\n",
       "Java Runtime: OpenJDK Runtime Environment\n",
       "JVM: OpenJDK 64-Bit Server VM\n",
       "Default Encoding: UTF-8\n",
       "Language: en\n",
       "Country: null\n",
       "--></g></svg>"
      ]
     },
     "execution_count": 21,
     "metadata": {},
     "output_type": "execute_result"
    }
   ],
   "source": [
    "%viz --style=\"LR\" --view=\"Sequence\" \"ControlNodeTest\""
   ]
  },
  {
   "cell_type": "code",
   "execution_count": 22,
   "id": "ab6f4d33",
   "metadata": {
    "execution": {
     "iopub.execute_input": "2021-08-04T06:26:30.480893Z",
     "iopub.status.busy": "2021-08-04T06:26:30.480485Z",
     "iopub.status.idle": "2021-08-04T06:26:30.508685Z",
     "shell.execute_reply": "2021-08-04T06:26:30.508161Z"
    }
   },
   "outputs": [
    {
     "data": {
      "image/svg+xml": [
       "<?xml version=\"1.0\" encoding=\"UTF-8\" standalone=\"no\"?><svg xmlns=\"http://www.w3.org/2000/svg\" xmlns:xlink=\"http://www.w3.org/1999/xlink\" contentScriptType=\"application/ecmascript\" contentStyleType=\"text/css\" height=\"207px\" preserveAspectRatio=\"none\" style=\"width:366px;height:207px;\" version=\"1.1\" viewBox=\"0 0 366 207\" width=\"366px\" zoomAndPan=\"magnify\"><defs/><g><!--MD5=[fbc87193dbaf4d95561dea2c320d4a47]\n",
       "cluster E1--><a href=\"psysml:d75b3c07-b549-4c23-b2aa-d48828b6adea\" target=\"_top\" title=\"psysml:d75b3c07-b549-4c23-b2aa-d48828b6adea\" xlink:actuate=\"onRequest\" xlink:href=\"psysml:d75b3c07-b549-4c23-b2aa-d48828b6adea\" xlink:show=\"new\" xlink:title=\"psysml:d75b3c07-b549-4c23-b2aa-d48828b6adea\" xlink:type=\"simple\"><rect fill=\"#FFFFFF\" height=\"189\" id=\"E1\" style=\"stroke: #383838; stroke-width: 1.5;\" width=\"348\" x=\"7\" y=\"7\"/><rect fill=\"#F8F8F8\" height=\"37.9375\" style=\"stroke: #383838; stroke-width: 1.5;\" width=\"348\" x=\"7\" y=\"7\"/><text fill=\"#000000\" font-family=\"sans-serif\" font-size=\"12\" font-style=\"italic\" lengthAdjust=\"spacingAndGlyphs\" textLength=\"77\" x=\"142.5\" y=\"23.1387\">«action def»</text><text fill=\"#000000\" font-family=\"sans-serif\" font-size=\"12\" lengthAdjust=\"spacingAndGlyphs\" textLength=\"105\" x=\"128.5\" y=\"37.1074\">ControlNodeTest</text></a><rect fill=\"#000000\" height=\"80\" style=\"stroke: none; stroke-width: 1.0;\" width=\"8\" x=\"143\" y=\"79\"/><rect fill=\"#000000\" height=\"80\" style=\"stroke: none; stroke-width: 1.0;\" width=\"8\" x=\"211\" y=\"79\"/><g id=\"E1.E2\"><a href=\"psysml:c07d7274-d0ac-44b0-95a3-e3c0562da237\" target=\"_top\" title=\"psysml:c07d7274-d0ac-44b0-95a3-e3c0562da237\" xlink:actuate=\"onRequest\" xlink:href=\"psysml:c07d7274-d0ac-44b0-95a3-e3c0562da237\" xlink:show=\"new\" xlink:title=\"psysml:c07d7274-d0ac-44b0-95a3-e3c0562da237\" xlink:type=\"simple\"><rect fill=\"#FFFFFF\" height=\"42.9375\" id=\"E2\" rx=\"10\" ry=\"10\" style=\"stroke: #383838; stroke-width: 1.5;\" width=\"60\" x=\"23\" y=\"58.5\"/><rect fill=\"#F8F8F8\" height=\"37.9375\" rx=\"10\" ry=\"10\" style=\"stroke: #F8F8F8; stroke-width: 1.5;\" width=\"60\" x=\"23\" y=\"58.5\"/><rect fill=\"#F8F8F8\" height=\"10\" style=\"stroke: #F8F8F8; stroke-width: 1.5;\" width=\"60\" x=\"23\" y=\"86.4375\"/><rect fill=\"none\" height=\"42.9375\" id=\"E2\" rx=\"10\" ry=\"10\" style=\"stroke: #383838; stroke-width: 1.5;\" width=\"60\" x=\"23\" y=\"58.5\"/><text fill=\"#000000\" font-family=\"sans-serif\" font-size=\"12\" font-style=\"italic\" lengthAdjust=\"spacingAndGlyphs\" textLength=\"53\" x=\"26.5\" y=\"74.6387\">«action»</text><text fill=\"#000000\" font-family=\"sans-serif\" font-size=\"12\" lengthAdjust=\"spacingAndGlyphs\" textLength=\"16\" x=\"45\" y=\"88.6074\">A1</text></a></g><g id=\"E1.E3\"><a href=\"psysml:7bb05ae1-d1dd-4ff0-97ee-ce3344a0751d\" target=\"_top\" title=\"psysml:7bb05ae1-d1dd-4ff0-97ee-ce3344a0751d\" xlink:actuate=\"onRequest\" xlink:href=\"psysml:7bb05ae1-d1dd-4ff0-97ee-ce3344a0751d\" xlink:show=\"new\" xlink:title=\"psysml:7bb05ae1-d1dd-4ff0-97ee-ce3344a0751d\" xlink:type=\"simple\"><rect fill=\"#FFFFFF\" height=\"42.9375\" id=\"E3\" rx=\"10\" ry=\"10\" style=\"stroke: #383838; stroke-width: 1.5;\" width=\"60\" x=\"23\" y=\"136.5\"/><rect fill=\"#F8F8F8\" height=\"37.9375\" rx=\"10\" ry=\"10\" style=\"stroke: #F8F8F8; stroke-width: 1.5;\" width=\"60\" x=\"23\" y=\"136.5\"/><rect fill=\"#F8F8F8\" height=\"10\" style=\"stroke: #F8F8F8; stroke-width: 1.5;\" width=\"60\" x=\"23\" y=\"164.4375\"/><rect fill=\"none\" height=\"42.9375\" id=\"E3\" rx=\"10\" ry=\"10\" style=\"stroke: #383838; stroke-width: 1.5;\" width=\"60\" x=\"23\" y=\"136.5\"/><text fill=\"#000000\" font-family=\"sans-serif\" font-size=\"12\" font-style=\"italic\" lengthAdjust=\"spacingAndGlyphs\" textLength=\"53\" x=\"26.5\" y=\"152.6387\">«action»</text><text fill=\"#000000\" font-family=\"sans-serif\" font-size=\"12\" lengthAdjust=\"spacingAndGlyphs\" textLength=\"16\" x=\"45\" y=\"166.6074\">A2</text></a></g><g id=\"E1.E6\"><a href=\"psysml:d5fd7944-a8f1-4c67-81d3-da10d551f750\" target=\"_top\" title=\"psysml:d5fd7944-a8f1-4c67-81d3-da10d551f750\" xlink:actuate=\"onRequest\" xlink:href=\"psysml:d5fd7944-a8f1-4c67-81d3-da10d551f750\" xlink:show=\"new\" xlink:title=\"psysml:d5fd7944-a8f1-4c67-81d3-da10d551f750\" xlink:type=\"simple\"><rect fill=\"#FFFFFF\" height=\"42.9375\" id=\"E6\" rx=\"10\" ry=\"10\" style=\"stroke: #383838; stroke-width: 1.5;\" width=\"60\" x=\"279\" y=\"136.5\"/><rect fill=\"#F8F8F8\" height=\"37.9375\" rx=\"10\" ry=\"10\" style=\"stroke: #F8F8F8; stroke-width: 1.5;\" width=\"60\" x=\"279\" y=\"136.5\"/><rect fill=\"#F8F8F8\" height=\"10\" style=\"stroke: #F8F8F8; stroke-width: 1.5;\" width=\"60\" x=\"279\" y=\"164.4375\"/><rect fill=\"none\" height=\"42.9375\" id=\"E6\" rx=\"10\" ry=\"10\" style=\"stroke: #383838; stroke-width: 1.5;\" width=\"60\" x=\"279\" y=\"136.5\"/><text fill=\"#000000\" font-family=\"sans-serif\" font-size=\"12\" font-style=\"italic\" lengthAdjust=\"spacingAndGlyphs\" textLength=\"53\" x=\"282.5\" y=\"152.6387\">«action»</text><text fill=\"#000000\" font-family=\"sans-serif\" font-size=\"12\" lengthAdjust=\"spacingAndGlyphs\" textLength=\"16\" x=\"301\" y=\"166.6074\">B1</text></a></g><g id=\"E1.E7\"><a href=\"psysml:b7d3ffe5-6bb9-4232-a5c3-5eafb8d0b5f9\" target=\"_top\" title=\"psysml:b7d3ffe5-6bb9-4232-a5c3-5eafb8d0b5f9\" xlink:actuate=\"onRequest\" xlink:href=\"psysml:b7d3ffe5-6bb9-4232-a5c3-5eafb8d0b5f9\" xlink:show=\"new\" xlink:title=\"psysml:b7d3ffe5-6bb9-4232-a5c3-5eafb8d0b5f9\" xlink:type=\"simple\"><rect fill=\"#FFFFFF\" height=\"42.9375\" id=\"E7\" rx=\"10\" ry=\"10\" style=\"stroke: #383838; stroke-width: 1.5;\" width=\"60\" x=\"279\" y=\"58.5\"/><rect fill=\"#F8F8F8\" height=\"37.9375\" rx=\"10\" ry=\"10\" style=\"stroke: #F8F8F8; stroke-width: 1.5;\" width=\"60\" x=\"279\" y=\"58.5\"/><rect fill=\"#F8F8F8\" height=\"10\" style=\"stroke: #F8F8F8; stroke-width: 1.5;\" width=\"60\" x=\"279\" y=\"86.4375\"/><rect fill=\"none\" height=\"42.9375\" id=\"E7\" rx=\"10\" ry=\"10\" style=\"stroke: #383838; stroke-width: 1.5;\" width=\"60\" x=\"279\" y=\"58.5\"/><text fill=\"#000000\" font-family=\"sans-serif\" font-size=\"12\" font-style=\"italic\" lengthAdjust=\"spacingAndGlyphs\" textLength=\"53\" x=\"282.5\" y=\"74.6387\">«action»</text><text fill=\"#000000\" font-family=\"sans-serif\" font-size=\"12\" lengthAdjust=\"spacingAndGlyphs\" textLength=\"16\" x=\"301\" y=\"88.6074\">B2</text></a></g><!--MD5=[4d03bb2d0377dc85ccfab60ff574652b]\n",
       "link E2 to E4--><a href=\"psysml:a5b917a3-7538-4e28-aa62-755107929dae\" target=\"_top\" title=\"psysml:a5b917a3-7538-4e28-aa62-755107929dae\" xlink:actuate=\"onRequest\" xlink:href=\"psysml:a5b917a3-7538-4e28-aa62-755107929dae\" xlink:show=\"new\" xlink:title=\"psysml:a5b917a3-7538-4e28-aa62-755107929dae\" xlink:type=\"simple\"><path d=\"M83.11,92.34 C102.1,100.39 125.55,110.33 137.75,115.5 \" fill=\"none\" id=\"E2-&gt;E4\" style=\"stroke: #383838; stroke-width: 1.0;\"/><polygon fill=\"#383838\" points=\"142.51,117.52,135.7944,110.3158,137.9091,115.5625,132.6624,117.6772,142.51,117.52\" style=\"stroke: #383838; stroke-width: 1.0;\"/><text fill=\"#000000\" font-family=\"sans-serif\" font-size=\"13\" lengthAdjust=\"spacingAndGlyphs\" textLength=\"7\" x=\"128.1193\" y=\"135.2168\">*</text></a><!--MD5=[af87c684e3b0d8be13c1a698a818ef1e]\n",
       "link E3 to E4--><a href=\"psysml:b67a9087-1129-4a2e-aba3-334d88c3cbf2\" target=\"_top\" title=\"psysml:b67a9087-1129-4a2e-aba3-334d88c3cbf2\" xlink:actuate=\"onRequest\" xlink:href=\"psysml:b67a9087-1129-4a2e-aba3-334d88c3cbf2\" xlink:show=\"new\" xlink:title=\"psysml:b67a9087-1129-4a2e-aba3-334d88c3cbf2\" xlink:type=\"simple\"><path d=\"M83.11,145.66 C102.1,137.61 125.55,127.67 137.75,122.5 \" fill=\"none\" id=\"E3-&gt;E4\" style=\"stroke: #383838; stroke-width: 1.0;\"/><polygon fill=\"#383838\" points=\"142.51,120.48,132.6624,120.3228,137.9091,122.4375,135.7944,127.6842,142.51,120.48\" style=\"stroke: #383838; stroke-width: 1.0;\"/><text fill=\"#000000\" font-family=\"sans-serif\" font-size=\"13\" lengthAdjust=\"spacingAndGlyphs\" textLength=\"7\" x=\"128.1193\" y=\"112.0398\">*</text></a><!--MD5=[1b7591eae5389033d8d09a9d6721a717]\n",
       "link E4 to E5--><a href=\"psysml:9a17080e-ae46-40d4-b989-796f716175e4\" target=\"_top\" title=\"psysml:9a17080e-ae46-40d4-b989-796f716175e4\" xlink:actuate=\"onRequest\" xlink:href=\"psysml:9a17080e-ae46-40d4-b989-796f716175e4\" xlink:show=\"new\" xlink:title=\"psysml:9a17080e-ae46-40d4-b989-796f716175e4\" xlink:type=\"simple\"><path d=\"M151.18,119 C160.92,119 190.52,119 205.34,119 \" fill=\"none\" id=\"E4-&gt;E5\" style=\"stroke: #383838; stroke-width: 1.0;\"/><polygon fill=\"#383838\" points=\"210.69,119,201.69,115,205.69,119,201.69,123,210.69,119\" style=\"stroke: #383838; stroke-width: 1.0;\"/><text fill=\"#000000\" font-family=\"sans-serif\" font-size=\"13\" lengthAdjust=\"spacingAndGlyphs\" textLength=\"7\" x=\"196.0752\" y=\"138.4441\">*</text></a><!--MD5=[9120cf2e5df3bff93db8f754bbbc09b4]\n",
       "link E5 to E6--><a href=\"psysml:197b427e-ad07-4e53-856c-ed2b1bc0e06a\" target=\"_top\" title=\"psysml:197b427e-ad07-4e53-856c-ed2b1bc0e06a\" xlink:actuate=\"onRequest\" xlink:href=\"psysml:197b427e-ad07-4e53-856c-ed2b1bc0e06a\" xlink:show=\"new\" xlink:title=\"psysml:197b427e-ad07-4e53-856c-ed2b1bc0e06a\" xlink:type=\"simple\"><path d=\"M219.06,120.3 C227.64,123.93 252.69,134.55 274.03,143.6 \" fill=\"none\" id=\"E5-&gt;E6\" style=\"stroke: #383838; stroke-width: 1.0;\"/><polygon fill=\"#383838\" points=\"278.8,145.62,272.0844,138.4158,274.1991,143.6625,268.9524,145.7772,278.8,145.62\" style=\"stroke: #383838; stroke-width: 1.0;\"/><text fill=\"#000000\" font-family=\"sans-serif\" font-size=\"13\" lengthAdjust=\"spacingAndGlyphs\" textLength=\"7\" x=\"264.0069\" y=\"156.581\">*</text></a><!--MD5=[3a9b96bfbf6b6ad89c494e81751bda47]\n",
       "link E5 to E7--><a href=\"psysml:b67e977c-71d2-45f4-9959-07a509bb3c26\" target=\"_top\" title=\"psysml:b67e977c-71d2-45f4-9959-07a509bb3c26\" xlink:actuate=\"onRequest\" xlink:href=\"psysml:b67e977c-71d2-45f4-9959-07a509bb3c26\" xlink:show=\"new\" xlink:title=\"psysml:b67e977c-71d2-45f4-9959-07a509bb3c26\" xlink:type=\"simple\"><path d=\"M219.06,117.7 C227.64,114.07 252.69,103.45 274.03,94.4 \" fill=\"none\" id=\"E5-&gt;E7\" style=\"stroke: #383838; stroke-width: 1.0;\"/><polygon fill=\"#383838\" points=\"278.8,92.38,268.9524,92.2228,274.1991,94.3375,272.0844,99.5842,278.8,92.38\" style=\"stroke: #383838; stroke-width: 1.0;\"/><text fill=\"#000000\" font-family=\"sans-serif\" font-size=\"13\" lengthAdjust=\"spacingAndGlyphs\" textLength=\"7\" x=\"264.0069\" y=\"109.0667\">*</text></a><!--MD5=[bb74bce728e3f7fb496716f9d8e84755]\n",
       "@startuml\r\n",
       "left to right direction\r\n",
       "skinparam monochrome true\r\n",
       "skinparam classbackgroundcolor white\r\n",
       "skinparam shadowing false\r\n",
       "skinparam wrapWidth 300\r\n",
       "hide circle\r\n",
       "\r\n",
       "rec def \"ControlNodeTest\" as E1  <<(T,blue) action def>> [[psysml:d75b3c07-b549-4c23-b2aa-d48828b6adea ]] {\r\n",
       "rec usage \"A1\" as E2  <<(T,blue) action>> [[psysml:c07d7274-d0ac-44b0-95a3-e3c0562da237 ]] {\r\n",
       "}\r\n",
       "\r\n",
       "rec usage \"A2\" as E3  <<(T,blue) action>> [[psysml:7bb05ae1-d1dd-4ff0-97ee-ce3344a0751d ]] {\r\n",
       "}\r\n",
       "\r\n",
       "join \"J\" as E4  [[psysml:f3bfce16-3667-4a48-a42e-fd992fa328bf ]] \r\n",
       "fork \"F\" as E5  [[psysml:08c848ef-d5ea-4388-acb9-5b8d01347f10 ]] \r\n",
       "rec usage \"B1\" as E6  <<(T,blue) action>> [[psysml:d5fd7944-a8f1-4c67-81d3-da10d551f750 ]] {\r\n",
       "}\r\n",
       "\r\n",
       "rec usage \"B2\" as E7  <<(T,blue) action>> [[psysml:b7d3ffe5-6bb9-4232-a5c3-5eafb8d0b5f9 ]] {\r\n",
       "}\r\n",
       "\r\n",
       "}\r\n",
       "\r\n",
       "E2 - -> \"*\"E4 [[psysml:a5b917a3-7538-4e28-aa62-755107929dae ]] \r\n",
       "E3 - -> \"*\"E4 [[psysml:b67a9087-1129-4a2e-aba3-334d88c3cbf2 ]] \r\n",
       "E4 - -> \"*\"E5 [[psysml:9a17080e-ae46-40d4-b989-796f716175e4 ]] \r\n",
       "E5 - -> \"*\"E6 [[psysml:197b427e-ad07-4e53-856c-ed2b1bc0e06a ]] \r\n",
       "E5 - -> \"*\"E7 [[psysml:b67e977c-71d2-45f4-9959-07a509bb3c26 ]] \r\n",
       "@enduml\r\n",
       "\n",
       "PlantUML version 1.2020.13(Sat Jun 13 12:26:38 UTC 2020)\n",
       "(EPL source distribution)\n",
       "Java Runtime: OpenJDK Runtime Environment\n",
       "JVM: OpenJDK 64-Bit Server VM\n",
       "Default Encoding: UTF-8\n",
       "Language: en\n",
       "Country: null\n",
       "--></g></svg>"
      ]
     },
     "execution_count": 22,
     "metadata": {},
     "output_type": "execute_result"
    }
   ],
   "source": [
    "%viz --style=\"LR\" --view=\"MIXED\" \"ControlNodeTest\""
   ]
  },
  {
   "cell_type": "code",
   "execution_count": 23,
   "id": "b37dcb1c",
   "metadata": {
    "execution": {
     "iopub.execute_input": "2021-08-04T06:26:30.557799Z",
     "iopub.status.busy": "2021-08-04T06:26:30.557385Z",
     "iopub.status.idle": "2021-08-04T06:26:30.586476Z",
     "shell.execute_reply": "2021-08-04T06:26:30.586282Z"
    }
   },
   "outputs": [
    {
     "data": {
      "image/svg+xml": [
       "<?xml version=\"1.0\" encoding=\"UTF-8\" standalone=\"no\"?><svg xmlns=\"http://www.w3.org/2000/svg\" xmlns:xlink=\"http://www.w3.org/1999/xlink\" contentScriptType=\"application/ecmascript\" contentStyleType=\"text/css\" height=\"375px\" preserveAspectRatio=\"none\" style=\"width:213px;height:375px;\" version=\"1.1\" viewBox=\"0 0 213 375\" width=\"213px\" zoomAndPan=\"magnify\"><defs><filter height=\"300%\" id=\"fvxpow7ghdlrl\" width=\"300%\" x=\"-1\" y=\"-1\"><feGaussianBlur result=\"blurOut\" stdDeviation=\"2.0\"/><feColorMatrix in=\"blurOut\" result=\"blurOut2\" type=\"matrix\" values=\"0 0 0 0 0 0 0 0 0 0 0 0 0 0 0 0 0 0 .4 0\"/><feOffset dx=\"4.0\" dy=\"4.0\" in=\"blurOut2\" result=\"blurOut3\"/><feBlend in=\"SourceGraphic\" in2=\"blurOut3\" mode=\"normal\"/></filter></defs><g><!--MD5=[fbc87193dbaf4d95561dea2c320d4a47]\n",
       "cluster E1--><a href=\"psysml:d75b3c07-b549-4c23-b2aa-d48828b6adea\" target=\"_top\" title=\"psysml:d75b3c07-b549-4c23-b2aa-d48828b6adea\" xlink:actuate=\"onRequest\" xlink:href=\"psysml:d75b3c07-b549-4c23-b2aa-d48828b6adea\" xlink:show=\"new\" xlink:title=\"psysml:d75b3c07-b549-4c23-b2aa-d48828b6adea\" xlink:type=\"simple\"><rect fill=\"#FFFFFF\" filter=\"url(#fvxpow7ghdlrl)\" height=\"349\" id=\"E1\" style=\"stroke: #A80036; stroke-width: 1.5;\" width=\"187\" x=\"7\" y=\"7\"/><rect fill=\"#FEFECE\" height=\"37.9375\" style=\"stroke: #A80036; stroke-width: 1.5;\" width=\"187\" x=\"7\" y=\"7\"/><text fill=\"#000000\" font-family=\"sans-serif\" font-size=\"12\" font-style=\"italic\" lengthAdjust=\"spacingAndGlyphs\" textLength=\"77\" x=\"62\" y=\"23.1387\">«action def»</text><text fill=\"#000000\" font-family=\"sans-serif\" font-size=\"12\" lengthAdjust=\"spacingAndGlyphs\" textLength=\"105\" x=\"48\" y=\"37.1074\">ControlNodeTest</text></a><rect fill=\"#000000\" filter=\"url(#fvxpow7ghdlrl)\" height=\"8\" style=\"stroke: none; stroke-width: 1.0;\" width=\"80\" x=\"60\" y=\"161\"/><rect fill=\"#000000\" filter=\"url(#fvxpow7ghdlrl)\" height=\"8\" style=\"stroke: none; stroke-width: 1.0;\" width=\"80\" x=\"60\" y=\"229\"/><g id=\"E1.E2\"><a href=\"psysml:c07d7274-d0ac-44b0-95a3-e3c0562da237\" target=\"_top\" title=\"psysml:c07d7274-d0ac-44b0-95a3-e3c0562da237\" xlink:actuate=\"onRequest\" xlink:href=\"psysml:c07d7274-d0ac-44b0-95a3-e3c0562da237\" xlink:show=\"new\" xlink:title=\"psysml:c07d7274-d0ac-44b0-95a3-e3c0562da237\" xlink:type=\"simple\"><rect fill=\"#FEFECE\" filter=\"url(#fvxpow7ghdlrl)\" height=\"42.9375\" id=\"E2\" rx=\"10\" ry=\"10\" style=\"stroke: #A80036; stroke-width: 1.5;\" width=\"60\" x=\"118\" y=\"58\"/><text fill=\"#000000\" font-family=\"sans-serif\" font-size=\"12\" font-style=\"italic\" lengthAdjust=\"spacingAndGlyphs\" textLength=\"53\" x=\"121.5\" y=\"74.1387\">«action»</text><text fill=\"#000000\" font-family=\"sans-serif\" font-size=\"12\" lengthAdjust=\"spacingAndGlyphs\" textLength=\"16\" x=\"140\" y=\"88.1074\">A1</text></a></g><g id=\"E1.E3\"><a href=\"psysml:7bb05ae1-d1dd-4ff0-97ee-ce3344a0751d\" target=\"_top\" title=\"psysml:7bb05ae1-d1dd-4ff0-97ee-ce3344a0751d\" xlink:actuate=\"onRequest\" xlink:href=\"psysml:7bb05ae1-d1dd-4ff0-97ee-ce3344a0751d\" xlink:show=\"new\" xlink:title=\"psysml:7bb05ae1-d1dd-4ff0-97ee-ce3344a0751d\" xlink:type=\"simple\"><rect fill=\"#FEFECE\" filter=\"url(#fvxpow7ghdlrl)\" height=\"42.9375\" id=\"E3\" rx=\"10\" ry=\"10\" style=\"stroke: #A80036; stroke-width: 1.5;\" width=\"60\" x=\"23\" y=\"58\"/><text fill=\"#000000\" font-family=\"sans-serif\" font-size=\"12\" font-style=\"italic\" lengthAdjust=\"spacingAndGlyphs\" textLength=\"53\" x=\"26.5\" y=\"74.1387\">«action»</text><text fill=\"#000000\" font-family=\"sans-serif\" font-size=\"12\" lengthAdjust=\"spacingAndGlyphs\" textLength=\"16\" x=\"45\" y=\"88.1074\">A2</text></a></g><g id=\"E1.E6\"><a href=\"psysml:d5fd7944-a8f1-4c67-81d3-da10d551f750\" target=\"_top\" title=\"psysml:d5fd7944-a8f1-4c67-81d3-da10d551f750\" xlink:actuate=\"onRequest\" xlink:href=\"psysml:d5fd7944-a8f1-4c67-81d3-da10d551f750\" xlink:show=\"new\" xlink:title=\"psysml:d5fd7944-a8f1-4c67-81d3-da10d551f750\" xlink:type=\"simple\"><rect fill=\"#FEFECE\" filter=\"url(#fvxpow7ghdlrl)\" height=\"42.9375\" id=\"E6\" rx=\"10\" ry=\"10\" style=\"stroke: #A80036; stroke-width: 1.5;\" width=\"60\" x=\"23\" y=\"297\"/><text fill=\"#000000\" font-family=\"sans-serif\" font-size=\"12\" font-style=\"italic\" lengthAdjust=\"spacingAndGlyphs\" textLength=\"53\" x=\"26.5\" y=\"313.1387\">«action»</text><text fill=\"#000000\" font-family=\"sans-serif\" font-size=\"12\" lengthAdjust=\"spacingAndGlyphs\" textLength=\"16\" x=\"45\" y=\"327.1074\">B1</text></a></g><g id=\"E1.E7\"><a href=\"psysml:b7d3ffe5-6bb9-4232-a5c3-5eafb8d0b5f9\" target=\"_top\" title=\"psysml:b7d3ffe5-6bb9-4232-a5c3-5eafb8d0b5f9\" xlink:actuate=\"onRequest\" xlink:href=\"psysml:b7d3ffe5-6bb9-4232-a5c3-5eafb8d0b5f9\" xlink:show=\"new\" xlink:title=\"psysml:b7d3ffe5-6bb9-4232-a5c3-5eafb8d0b5f9\" xlink:type=\"simple\"><rect fill=\"#FEFECE\" filter=\"url(#fvxpow7ghdlrl)\" height=\"42.9375\" id=\"E7\" rx=\"10\" ry=\"10\" style=\"stroke: #A80036; stroke-width: 1.5;\" width=\"60\" x=\"118\" y=\"297\"/><text fill=\"#000000\" font-family=\"sans-serif\" font-size=\"12\" font-style=\"italic\" lengthAdjust=\"spacingAndGlyphs\" textLength=\"53\" x=\"121.5\" y=\"313.1387\">«action»</text><text fill=\"#000000\" font-family=\"sans-serif\" font-size=\"12\" lengthAdjust=\"spacingAndGlyphs\" textLength=\"16\" x=\"140\" y=\"327.1074\">B2</text></a></g><!--MD5=[4d03bb2d0377dc85ccfab60ff574652b]\n",
       "link E2 to E4--><a href=\"psysml:a5b917a3-7538-4e28-aa62-755107929dae\" target=\"_top\" title=\"psysml:a5b917a3-7538-4e28-aa62-755107929dae\" xlink:actuate=\"onRequest\" xlink:href=\"psysml:a5b917a3-7538-4e28-aa62-755107929dae\" xlink:show=\"new\" xlink:title=\"psysml:a5b917a3-7538-4e28-aa62-755107929dae\" xlink:type=\"simple\"><path d=\"M136.13,101.14 C125.84,119.06 111.49,144.01 104.37,156.4 \" fill=\"none\" id=\"E2-&gt;E4\" style=\"stroke: #A80036; stroke-width: 1.0;\"/><polygon fill=\"#A80036\" points=\"101.79,160.88,109.7406,155.0673,104.2799,156.5441,102.8031,151.0834,101.79,160.88\" style=\"stroke: #A80036; stroke-width: 1.0;\"/><text fill=\"#000000\" font-family=\"sans-serif\" font-size=\"13\" lengthAdjust=\"spacingAndGlyphs\" textLength=\"7\" x=\"93.6144\" y=\"150.0038\">*</text></a><!--MD5=[af87c684e3b0d8be13c1a698a818ef1e]\n",
       "link E3 to E4--><a href=\"psysml:b67a9087-1129-4a2e-aba3-334d88c3cbf2\" target=\"_top\" title=\"psysml:b67a9087-1129-4a2e-aba3-334d88c3cbf2\" xlink:actuate=\"onRequest\" xlink:href=\"psysml:b67a9087-1129-4a2e-aba3-334d88c3cbf2\" xlink:show=\"new\" xlink:title=\"psysml:b67a9087-1129-4a2e-aba3-334d88c3cbf2\" xlink:type=\"simple\"><path d=\"M64.62,101.14 C74.7,119.06 88.75,144.01 95.72,156.4 \" fill=\"none\" id=\"E3-&gt;E4\" style=\"stroke: #A80036; stroke-width: 1.0;\"/><polygon fill=\"#A80036\" points=\"98.25,160.88,97.3377,151.0735,95.8048,156.5187,90.3596,154.9858,98.25,160.88\" style=\"stroke: #A80036; stroke-width: 1.0;\"/><text fill=\"#000000\" font-family=\"sans-serif\" font-size=\"13\" lengthAdjust=\"spacingAndGlyphs\" textLength=\"7\" x=\"99.4531\" y=\"150.0038\">*</text></a><!--MD5=[1b7591eae5389033d8d09a9d6721a717]\n",
       "link E4 to E5--><a href=\"psysml:9a17080e-ae46-40d4-b989-796f716175e4\" target=\"_top\" title=\"psysml:9a17080e-ae46-40d4-b989-796f716175e4\" xlink:actuate=\"onRequest\" xlink:href=\"psysml:9a17080e-ae46-40d4-b989-796f716175e4\" xlink:show=\"new\" xlink:title=\"psysml:9a17080e-ae46-40d4-b989-796f716175e4\" xlink:type=\"simple\"><path d=\"M100,169.18 C100,178.92 100,208.52 100,223.34 \" fill=\"none\" id=\"E4-&gt;E5\" style=\"stroke: #A80036; stroke-width: 1.0;\"/><polygon fill=\"#A80036\" points=\"100,228.69,104,219.69,100,223.69,96,219.69,100,228.69\" style=\"stroke: #A80036; stroke-width: 1.0;\"/><text fill=\"#000000\" font-family=\"sans-serif\" font-size=\"13\" lengthAdjust=\"spacingAndGlyphs\" textLength=\"7\" x=\"90.6813\" y=\"217.9768\">*</text></a><!--MD5=[9120cf2e5df3bff93db8f754bbbc09b4]\n",
       "link E5 to E6--><a href=\"psysml:197b427e-ad07-4e53-856c-ed2b1bc0e06a\" target=\"_top\" title=\"psysml:197b427e-ad07-4e53-856c-ed2b1bc0e06a\" xlink:actuate=\"onRequest\" xlink:href=\"psysml:197b427e-ad07-4e53-856c-ed2b1bc0e06a\" xlink:show=\"new\" xlink:title=\"psysml:197b427e-ad07-4e53-856c-ed2b1bc0e06a\" xlink:type=\"simple\"><path d=\"M98.21,237.17 C93.16,246.14 78.41,272.36 67.11,292.43 \" fill=\"none\" id=\"E5-&gt;E6\" style=\"stroke: #A80036; stroke-width: 1.0;\"/><polygon fill=\"#A80036\" points=\"64.61,296.87,72.5151,290.9955,67.0661,292.5148,65.5467,287.0658,64.61,296.87\" style=\"stroke: #A80036; stroke-width: 1.0;\"/><text fill=\"#000000\" font-family=\"sans-serif\" font-size=\"13\" lengthAdjust=\"spacingAndGlyphs\" textLength=\"7\" x=\"59.8909\" y=\"285.7715\">*</text></a><!--MD5=[3a9b96bfbf6b6ad89c494e81751bda47]\n",
       "link E5 to E7--><a href=\"psysml:b67e977c-71d2-45f4-9959-07a509bb3c26\" target=\"_top\" title=\"psysml:b67e977c-71d2-45f4-9959-07a509bb3c26\" xlink:actuate=\"onRequest\" xlink:href=\"psysml:b67e977c-71d2-45f4-9959-07a509bb3c26\" xlink:show=\"new\" xlink:title=\"psysml:b67e977c-71d2-45f4-9959-07a509bb3c26\" xlink:type=\"simple\"><path d=\"M101.82,237.17 C106.98,246.14 122.05,272.36 133.59,292.43 \" fill=\"none\" id=\"E5-&gt;E7\" style=\"stroke: #A80036; stroke-width: 1.0;\"/><polygon fill=\"#A80036\" points=\"136.14,296.87,135.1269,287.0734,133.6501,292.5341,128.1894,291.0573,136.14,296.87\" style=\"stroke: #A80036; stroke-width: 1.0;\"/><text fill=\"#000000\" font-family=\"sans-serif\" font-size=\"13\" lengthAdjust=\"spacingAndGlyphs\" textLength=\"7\" x=\"124.82\" y=\"285.7715\">*</text></a><!--MD5=[5b5d62bfb98e8c08f737a39cd431cec4]\n",
       "@startuml\r\n",
       "skinparam wrapWidth 300\r\n",
       "hide circle\r\n",
       "\r\n",
       "rec def \"ControlNodeTest\" as E1  <<(T,blue) action def>> [[psysml:d75b3c07-b549-4c23-b2aa-d48828b6adea ]] {\r\n",
       "rec usage \"A1\" as E2  <<(T,blue) action>> [[psysml:c07d7274-d0ac-44b0-95a3-e3c0562da237 ]] {\r\n",
       "}\r\n",
       "\r\n",
       "rec usage \"A2\" as E3  <<(T,blue) action>> [[psysml:7bb05ae1-d1dd-4ff0-97ee-ce3344a0751d ]] {\r\n",
       "}\r\n",
       "\r\n",
       "join \"J\" as E4  [[psysml:f3bfce16-3667-4a48-a42e-fd992fa328bf ]] \r\n",
       "fork \"F\" as E5  [[psysml:08c848ef-d5ea-4388-acb9-5b8d01347f10 ]] \r\n",
       "rec usage \"B1\" as E6  <<(T,blue) action>> [[psysml:d5fd7944-a8f1-4c67-81d3-da10d551f750 ]] {\r\n",
       "}\r\n",
       "\r\n",
       "rec usage \"B2\" as E7  <<(T,blue) action>> [[psysml:b7d3ffe5-6bb9-4232-a5c3-5eafb8d0b5f9 ]] {\r\n",
       "}\r\n",
       "\r\n",
       "}\r\n",
       "\r\n",
       "E2 - -> \"*\"E4 [[psysml:a5b917a3-7538-4e28-aa62-755107929dae ]] \r\n",
       "E3 - -> \"*\"E4 [[psysml:b67a9087-1129-4a2e-aba3-334d88c3cbf2 ]] \r\n",
       "E4 - -> \"*\"E5 [[psysml:9a17080e-ae46-40d4-b989-796f716175e4 ]] \r\n",
       "E5 - -> \"*\"E6 [[psysml:197b427e-ad07-4e53-856c-ed2b1bc0e06a ]] \r\n",
       "E5 - -> \"*\"E7 [[psysml:b67e977c-71d2-45f4-9959-07a509bb3c26 ]] \r\n",
       "@enduml\r\n",
       "\n",
       "PlantUML version 1.2020.13(Sat Jun 13 12:26:38 UTC 2020)\n",
       "(EPL source distribution)\n",
       "Java Runtime: OpenJDK Runtime Environment\n",
       "JVM: OpenJDK 64-Bit Server VM\n",
       "Default Encoding: UTF-8\n",
       "Language: en\n",
       "Country: null\n",
       "--></g></svg>"
      ]
     },
     "execution_count": 23,
     "metadata": {},
     "output_type": "execute_result"
    }
   ],
   "source": [
    "%viz --style=\"STDCOLOR\" --view=\"Default\" \"ControlNodeTest\""
   ]
  },
  {
   "cell_type": "code",
   "execution_count": 24,
   "id": "e618a684",
   "metadata": {
    "execution": {
     "iopub.execute_input": "2021-08-04T06:26:30.637446Z",
     "iopub.status.busy": "2021-08-04T06:26:30.637044Z",
     "iopub.status.idle": "2021-08-04T06:26:30.666060Z",
     "shell.execute_reply": "2021-08-04T06:26:30.664904Z"
    }
   },
   "outputs": [
    {
     "data": {
      "image/svg+xml": [
       "<?xml version=\"1.0\" encoding=\"UTF-8\" standalone=\"no\"?><svg xmlns=\"http://www.w3.org/2000/svg\" xmlns:xlink=\"http://www.w3.org/1999/xlink\" contentScriptType=\"application/ecmascript\" contentStyleType=\"text/css\" height=\"177px\" preserveAspectRatio=\"none\" style=\"width:565px;height:177px;\" version=\"1.1\" viewBox=\"0 0 565 177\" width=\"565px\" zoomAndPan=\"magnify\"><defs><filter height=\"300%\" id=\"f1rjcsbxixa3et\" width=\"300%\" x=\"-1\" y=\"-1\"><feGaussianBlur result=\"blurOut\" stdDeviation=\"2.0\"/><feColorMatrix in=\"blurOut\" result=\"blurOut2\" type=\"matrix\" values=\"0 0 0 0 0 0 0 0 0 0 0 0 0 0 0 0 0 0 .4 0\"/><feOffset dx=\"4.0\" dy=\"4.0\" in=\"blurOut2\" result=\"blurOut3\"/><feBlend in=\"SourceGraphic\" in2=\"blurOut3\" mode=\"normal\"/></filter></defs><g><!--MD5=[43c9051892ef23e1a46a86907403d788]\n",
       "class E1--><a href=\"psysml:d75b3c07-b549-4c23-b2aa-d48828b6adea\" target=\"_top\" title=\"psysml:d75b3c07-b549-4c23-b2aa-d48828b6adea\" xlink:actuate=\"onRequest\" xlink:href=\"psysml:d75b3c07-b549-4c23-b2aa-d48828b6adea\" xlink:show=\"new\" xlink:title=\"psysml:d75b3c07-b549-4c23-b2aa-d48828b6adea\" xlink:type=\"simple\"><rect fill=\"#FEFECE\" filter=\"url(#f1rjcsbxixa3et)\" height=\"45.9375\" id=\"E1\" style=\"stroke: #A80036; stroke-width: 1.5;\" width=\"111\" x=\"220\" y=\"7\"/><text fill=\"#000000\" font-family=\"sans-serif\" font-size=\"12\" font-style=\"italic\" lengthAdjust=\"spacingAndGlyphs\" textLength=\"77\" x=\"237\" y=\"23.1387\">«action def»</text><text fill=\"#000000\" font-family=\"sans-serif\" font-size=\"12\" lengthAdjust=\"spacingAndGlyphs\" textLength=\"105\" x=\"223\" y=\"37.1074\">ControlNodeTest</text><line style=\"stroke: #A80036; stroke-width: 1.5;\" x1=\"221\" x2=\"330\" y1=\"44.9375\" y2=\"44.9375\"/></a><!--MD5=[b4997ac47864f28c2f74865a473b2911]\n",
       "class E2--><a href=\"psysml:c07d7274-d0ac-44b0-95a3-e3c0562da237\" target=\"_top\" title=\"psysml:c07d7274-d0ac-44b0-95a3-e3c0562da237\" xlink:actuate=\"onRequest\" xlink:href=\"psysml:c07d7274-d0ac-44b0-95a3-e3c0562da237\" xlink:show=\"new\" xlink:title=\"psysml:c07d7274-d0ac-44b0-95a3-e3c0562da237\" xlink:type=\"simple\"><rect fill=\"#FEFECE\" filter=\"url(#f1rjcsbxixa3et)\" height=\"45.9375\" id=\"E2\" rx=\"10\" ry=\"10\" style=\"stroke: #A80036; stroke-width: 1.5;\" width=\"55\" x=\"7\" y=\"113\"/><text fill=\"#000000\" font-family=\"sans-serif\" font-size=\"12\" font-style=\"italic\" lengthAdjust=\"spacingAndGlyphs\" textLength=\"53\" x=\"8\" y=\"129.1387\">«action»</text><text fill=\"#000000\" font-family=\"sans-serif\" font-size=\"12\" lengthAdjust=\"spacingAndGlyphs\" textLength=\"16\" x=\"26.5\" y=\"143.1074\">A1</text><line style=\"stroke: #A80036; stroke-width: 1.5;\" x1=\"8\" x2=\"61\" y1=\"150.9375\" y2=\"150.9375\"/></a><!--MD5=[09b614a08d8cba4a07c9adeb5e0fee81]\n",
       "class E3--><a href=\"psysml:7bb05ae1-d1dd-4ff0-97ee-ce3344a0751d\" target=\"_top\" title=\"psysml:7bb05ae1-d1dd-4ff0-97ee-ce3344a0751d\" xlink:actuate=\"onRequest\" xlink:href=\"psysml:7bb05ae1-d1dd-4ff0-97ee-ce3344a0751d\" xlink:show=\"new\" xlink:title=\"psysml:7bb05ae1-d1dd-4ff0-97ee-ce3344a0751d\" xlink:type=\"simple\"><rect fill=\"#FEFECE\" filter=\"url(#f1rjcsbxixa3et)\" height=\"45.9375\" id=\"E3\" rx=\"10\" ry=\"10\" style=\"stroke: #A80036; stroke-width: 1.5;\" width=\"55\" x=\"97\" y=\"113\"/><text fill=\"#000000\" font-family=\"sans-serif\" font-size=\"12\" font-style=\"italic\" lengthAdjust=\"spacingAndGlyphs\" textLength=\"53\" x=\"98\" y=\"129.1387\">«action»</text><text fill=\"#000000\" font-family=\"sans-serif\" font-size=\"12\" lengthAdjust=\"spacingAndGlyphs\" textLength=\"16\" x=\"116.5\" y=\"143.1074\">A2</text><line style=\"stroke: #A80036; stroke-width: 1.5;\" x1=\"98\" x2=\"151\" y1=\"150.9375\" y2=\"150.9375\"/></a><!--MD5=[ebbe1d658d1005bcc118a6aa81145e00]\n",
       "class E4--><a href=\"psysml:f3bfce16-3667-4a48-a42e-fd992fa328bf\" target=\"_top\" title=\"psysml:f3bfce16-3667-4a48-a42e-fd992fa328bf\" xlink:actuate=\"onRequest\" xlink:href=\"psysml:f3bfce16-3667-4a48-a42e-fd992fa328bf\" xlink:show=\"new\" xlink:title=\"psysml:f3bfce16-3667-4a48-a42e-fd992fa328bf\" xlink:type=\"simple\"><rect fill=\"#FEFECE\" filter=\"url(#f1rjcsbxixa3et)\" height=\"45.9375\" id=\"E4\" rx=\"10\" ry=\"10\" style=\"stroke: #A80036; stroke-width: 1.5;\" width=\"71\" x=\"187\" y=\"113\"/><text fill=\"#000000\" font-family=\"sans-serif\" font-size=\"12\" font-style=\"italic\" lengthAdjust=\"spacingAndGlyphs\" textLength=\"69\" x=\"188\" y=\"129.1387\">«joinNode»</text><text fill=\"#000000\" font-family=\"sans-serif\" font-size=\"12\" lengthAdjust=\"spacingAndGlyphs\" textLength=\"3\" x=\"221\" y=\"143.1074\">J</text><line style=\"stroke: #A80036; stroke-width: 1.5;\" x1=\"188\" x2=\"257\" y1=\"150.9375\" y2=\"150.9375\"/></a><!--MD5=[270fce915f116d4de14055a7c1d9a0f3]\n",
       "class E5--><a href=\"psysml:08c848ef-d5ea-4388-acb9-5b8d01347f10\" target=\"_top\" title=\"psysml:08c848ef-d5ea-4388-acb9-5b8d01347f10\" xlink:actuate=\"onRequest\" xlink:href=\"psysml:08c848ef-d5ea-4388-acb9-5b8d01347f10\" xlink:show=\"new\" xlink:title=\"psysml:08c848ef-d5ea-4388-acb9-5b8d01347f10\" xlink:type=\"simple\"><rect fill=\"#FEFECE\" filter=\"url(#f1rjcsbxixa3et)\" height=\"45.9375\" id=\"E5\" rx=\"10\" ry=\"10\" style=\"stroke: #A80036; stroke-width: 1.5;\" width=\"73\" x=\"293\" y=\"113\"/><text fill=\"#000000\" font-family=\"sans-serif\" font-size=\"12\" font-style=\"italic\" lengthAdjust=\"spacingAndGlyphs\" textLength=\"71\" x=\"294\" y=\"129.1387\">«forkNode»</text><text fill=\"#000000\" font-family=\"sans-serif\" font-size=\"12\" lengthAdjust=\"spacingAndGlyphs\" textLength=\"7\" x=\"326\" y=\"143.1074\">F</text><line style=\"stroke: #A80036; stroke-width: 1.5;\" x1=\"294\" x2=\"365\" y1=\"150.9375\" y2=\"150.9375\"/></a><!--MD5=[60a26617385b1d2d0262a64233df1f8d]\n",
       "class E6--><a href=\"psysml:d5fd7944-a8f1-4c67-81d3-da10d551f750\" target=\"_top\" title=\"psysml:d5fd7944-a8f1-4c67-81d3-da10d551f750\" xlink:actuate=\"onRequest\" xlink:href=\"psysml:d5fd7944-a8f1-4c67-81d3-da10d551f750\" xlink:show=\"new\" xlink:title=\"psysml:d5fd7944-a8f1-4c67-81d3-da10d551f750\" xlink:type=\"simple\"><rect fill=\"#FEFECE\" filter=\"url(#f1rjcsbxixa3et)\" height=\"45.9375\" id=\"E6\" rx=\"10\" ry=\"10\" style=\"stroke: #A80036; stroke-width: 1.5;\" width=\"55\" x=\"401\" y=\"113\"/><text fill=\"#000000\" font-family=\"sans-serif\" font-size=\"12\" font-style=\"italic\" lengthAdjust=\"spacingAndGlyphs\" textLength=\"53\" x=\"402\" y=\"129.1387\">«action»</text><text fill=\"#000000\" font-family=\"sans-serif\" font-size=\"12\" lengthAdjust=\"spacingAndGlyphs\" textLength=\"16\" x=\"420.5\" y=\"143.1074\">B1</text><line style=\"stroke: #A80036; stroke-width: 1.5;\" x1=\"402\" x2=\"455\" y1=\"150.9375\" y2=\"150.9375\"/></a><!--MD5=[2156ba9850f5573cc1fc38a6a4b2f02b]\n",
       "class E7--><a href=\"psysml:b7d3ffe5-6bb9-4232-a5c3-5eafb8d0b5f9\" target=\"_top\" title=\"psysml:b7d3ffe5-6bb9-4232-a5c3-5eafb8d0b5f9\" xlink:actuate=\"onRequest\" xlink:href=\"psysml:b7d3ffe5-6bb9-4232-a5c3-5eafb8d0b5f9\" xlink:show=\"new\" xlink:title=\"psysml:b7d3ffe5-6bb9-4232-a5c3-5eafb8d0b5f9\" xlink:type=\"simple\"><rect fill=\"#FEFECE\" filter=\"url(#f1rjcsbxixa3et)\" height=\"45.9375\" id=\"E7\" rx=\"10\" ry=\"10\" style=\"stroke: #A80036; stroke-width: 1.5;\" width=\"55\" x=\"491\" y=\"113\"/><text fill=\"#000000\" font-family=\"sans-serif\" font-size=\"12\" font-style=\"italic\" lengthAdjust=\"spacingAndGlyphs\" textLength=\"53\" x=\"492\" y=\"129.1387\">«action»</text><text fill=\"#000000\" font-family=\"sans-serif\" font-size=\"12\" lengthAdjust=\"spacingAndGlyphs\" textLength=\"16\" x=\"510.5\" y=\"143.1074\">B2</text><line style=\"stroke: #A80036; stroke-width: 1.5;\" x1=\"492\" x2=\"545\" y1=\"150.9375\" y2=\"150.9375\"/></a><!--MD5=[a523cb2a0b79ecf9065ad8783f96c320]\n",
       "reverse link E1 to E2--><a href=\"psysml:090da899-d633-4f68-ac70-93df987c1f89\" target=\"_top\" title=\"psysml:090da899-d633-4f68-ac70-93df987c1f89\" xlink:actuate=\"onRequest\" xlink:href=\"psysml:090da899-d633-4f68-ac70-93df987c1f89\" xlink:show=\"new\" xlink:title=\"psysml:090da899-d633-4f68-ac70-93df987c1f89\" xlink:type=\"simple\"><path d=\"M207.75,58.2 C169.81,73.72 121.76,93.85 79.5,113 C73.96,115.51 68.08,118.3 62.47,121.01 \" fill=\"none\" id=\"E1&lt;-E2\" style=\"stroke: #A80036; stroke-width: 1.0;\"/><polygon fill=\"#A80036\" points=\"220.21,53.12,213.1443,51.6791,209.0967,57.6471,216.1624,59.088,220.21,53.12\" style=\"stroke: #A80036; stroke-width: 1.0;\"/><text fill=\"#000000\" font-family=\"sans-serif\" font-size=\"13\" lengthAdjust=\"spacingAndGlyphs\" textLength=\"7\" x=\"70.1408\" y=\"112.6188\">*</text></a><!--MD5=[5d7b3810b1dd9b5164bea1151b29b665]\n",
       "reverse link E1 to E3--><a href=\"psysml:797c4c3c-8cfb-4ed1-914f-99d654db3cec\" target=\"_top\" title=\"psysml:797c4c3c-8cfb-4ed1-914f-99d654db3cec\" xlink:actuate=\"onRequest\" xlink:href=\"psysml:797c4c3c-8cfb-4ed1-914f-99d654db3cec\" xlink:show=\"new\" xlink:title=\"psysml:797c4c3c-8cfb-4ed1-914f-99d654db3cec\" xlink:type=\"simple\"><path d=\"M232.52,60.6 C206.81,78.31 174.87,100.31 152.42,115.77 \" fill=\"none\" id=\"E1&lt;-E3\" style=\"stroke: #A80036; stroke-width: 1.0;\"/><polygon fill=\"#A80036\" points=\"243.48,53.06,236.2697,53.1655,233.5938,59.8617,240.8041,59.7562,243.48,53.06\" style=\"stroke: #A80036; stroke-width: 1.0;\"/><text fill=\"#000000\" font-family=\"sans-serif\" font-size=\"13\" lengthAdjust=\"spacingAndGlyphs\" textLength=\"7\" x=\"160.0786\" y=\"106.1015\">*</text></a><!--MD5=[f2c5c03aa1e8c0ba21c10a05e6444b8e]\n",
       "reverse link E1 to E4--><a href=\"psysml:70a466ea-83ad-4e19-afa5-d192b13fd9c7\" target=\"_top\" title=\"psysml:70a466ea-83ad-4e19-afa5-d192b13fd9c7\" xlink:actuate=\"onRequest\" xlink:href=\"psysml:70a466ea-83ad-4e19-afa5-d192b13fd9c7\" xlink:show=\"new\" xlink:title=\"psysml:70a466ea-83ad-4e19-afa5-d192b13fd9c7\" xlink:type=\"simple\"><path d=\"M258.16,65.03 C250.13,80.78 240.82,99.06 233.72,112.98 \" fill=\"none\" id=\"E1&lt;-E4\" style=\"stroke: #A80036; stroke-width: 1.0;\"/><polygon fill=\"#A80036\" points=\"264.26,53.06,257.9728,56.5915,258.8145,63.7533,265.1017,60.2218,264.26,53.06\" style=\"stroke: #A80036; stroke-width: 1.0;\"/></a><!--MD5=[33238bef88d6431a141d8bc8fb12bca0]\n",
       "reverse link E1 to E5--><a href=\"psysml:26253911-6243-446d-b791-23c0e42b91a5\" target=\"_top\" title=\"psysml:26253911-6243-446d-b791-23c0e42b91a5\" xlink:actuate=\"onRequest\" xlink:href=\"psysml:26253911-6243-446d-b791-23c0e42b91a5\" xlink:show=\"new\" xlink:title=\"psysml:26253911-6243-446d-b791-23c0e42b91a5\" xlink:type=\"simple\"><path d=\"M293.17,65.03 C301.35,80.78 310.84,99.06 318.06,112.98 \" fill=\"none\" id=\"E1&lt;-E5\" style=\"stroke: #A80036; stroke-width: 1.0;\"/><polygon fill=\"#A80036\" points=\"286.95,53.06,286.1611,60.2278,292.4742,63.7129,293.263,56.545,286.95,53.06\" style=\"stroke: #A80036; stroke-width: 1.0;\"/></a><!--MD5=[aca2ef284c2b1b90e17e73bf3f292c07]\n",
       "reverse link E1 to E6--><a href=\"psysml:e8354a48-cb93-46c3-a69e-19a4acf29f71\" target=\"_top\" title=\"psysml:e8354a48-cb93-46c3-a69e-19a4acf29f71\" xlink:actuate=\"onRequest\" xlink:href=\"psysml:e8354a48-cb93-46c3-a69e-19a4acf29f71\" xlink:show=\"new\" xlink:title=\"psysml:e8354a48-cb93-46c3-a69e-19a4acf29f71\" xlink:type=\"simple\"><path d=\"M318.77,60.41 C345.06,78.28 377.86,100.58 400.72,116.11 \" fill=\"none\" id=\"E1&lt;-E6\" style=\"stroke: #A80036; stroke-width: 1.0;\"/><polygon fill=\"#A80036\" points=\"307.95,53.06,310.6626,59.7415,317.8734,59.8074,315.1608,53.1259,307.95,53.06\" style=\"stroke: #A80036; stroke-width: 1.0;\"/><text fill=\"#000000\" font-family=\"sans-serif\" font-size=\"13\" lengthAdjust=\"spacingAndGlyphs\" textLength=\"7\" x=\"386.0955\" y=\"106.5244\">*</text></a><!--MD5=[fc9706a6b2cf8c0e423679d303750d3f]\n",
       "reverse link E1 to E7--><a href=\"psysml:8dca6daf-962f-46a3-bb74-22037bd04295\" target=\"_top\" title=\"psysml:8dca6daf-962f-46a3-bb74-22037bd04295\" xlink:actuate=\"onRequest\" xlink:href=\"psysml:8dca6daf-962f-46a3-bb74-22037bd04295\" xlink:show=\"new\" xlink:title=\"psysml:8dca6daf-962f-46a3-bb74-22037bd04295\" xlink:type=\"simple\"><path d=\"M343.46,57.93 C381.88,73.46 430.65,93.68 473.5,113 C479.05,115.5 484.93,118.28 490.54,121 \" fill=\"none\" id=\"E1&lt;-E7\" style=\"stroke: #A80036; stroke-width: 1.0;\"/><polygon fill=\"#A80036\" points=\"331.37,53.06,335.4407,59.0122,342.5008,57.544,338.43,51.5917,331.37,53.06\" style=\"stroke: #A80036; stroke-width: 1.0;\"/><text fill=\"#000000\" font-family=\"sans-serif\" font-size=\"13\" lengthAdjust=\"spacingAndGlyphs\" textLength=\"7\" x=\"475.8716\" y=\"112.6063\">*</text></a><!--MD5=[53f02479094bc41b4e492f66399f7f28]\n",
       "@startuml\r\n",
       "skinparam wrapWidth 300\r\n",
       "hide circle\r\n",
       "\r\n",
       "comp def \"ControlNodeTest\" as E1  <<(T,blue) action def>> [[psysml:d75b3c07-b549-4c23-b2aa-d48828b6adea ]] {\r\n",
       "}\r\n",
       "comp usage \"A1\" as E2  <<(T,blue) action>> [[psysml:c07d7274-d0ac-44b0-95a3-e3c0562da237 ]] {\r\n",
       "}\r\n",
       "comp usage \"A2\" as E3  <<(T,blue) action>> [[psysml:7bb05ae1-d1dd-4ff0-97ee-ce3344a0751d ]] {\r\n",
       "}\r\n",
       "comp usage \"J\" as E4  <<(T,blue) joinNode>> [[psysml:f3bfce16-3667-4a48-a42e-fd992fa328bf ]] {\r\n",
       "}\r\n",
       "comp usage \"F\" as E5  <<(T,blue) forkNode>> [[psysml:08c848ef-d5ea-4388-acb9-5b8d01347f10 ]] {\r\n",
       "}\r\n",
       "comp usage \"B1\" as E6  <<(T,blue) action>> [[psysml:d5fd7944-a8f1-4c67-81d3-da10d551f750 ]] {\r\n",
       "}\r\n",
       "comp usage \"B2\" as E7  <<(T,blue) action>> [[psysml:b7d3ffe5-6bb9-4232-a5c3-5eafb8d0b5f9 ]] {\r\n",
       "}\r\n",
       "E1 *- - \"*\"E2 [[psysml:090da899-d633-4f68-ac70-93df987c1f89 ]] \r\n",
       "E1 *- - \"*\"E3 [[psysml:797c4c3c-8cfb-4ed1-914f-99d654db3cec ]] \r\n",
       "E1 *- - E4 [[psysml:70a466ea-83ad-4e19-afa5-d192b13fd9c7 ]] \r\n",
       "E1 *- - E5 [[psysml:26253911-6243-446d-b791-23c0e42b91a5 ]] \r\n",
       "E1 *- - \"*\"E6 [[psysml:e8354a48-cb93-46c3-a69e-19a4acf29f71 ]] \r\n",
       "E1 *- - \"*\"E7 [[psysml:8dca6daf-962f-46a3-bb74-22037bd04295 ]] \r\n",
       "@enduml\r\n",
       "\n",
       "PlantUML version 1.2020.13(Sat Jun 13 12:26:38 UTC 2020)\n",
       "(EPL source distribution)\n",
       "Java Runtime: OpenJDK Runtime Environment\n",
       "JVM: OpenJDK 64-Bit Server VM\n",
       "Default Encoding: UTF-8\n",
       "Language: en\n",
       "Country: null\n",
       "--></g></svg>"
      ]
     },
     "execution_count": 24,
     "metadata": {},
     "output_type": "execute_result"
    }
   ],
   "source": [
    "%viz --style=\"STDCOLOR\" --view=\"Tree\" \"ControlNodeTest\""
   ]
  },
  {
   "cell_type": "code",
   "execution_count": 25,
   "id": "c07dd4c0",
   "metadata": {
    "execution": {
     "iopub.execute_input": "2021-08-04T06:26:30.716126Z",
     "iopub.status.busy": "2021-08-04T06:26:30.715720Z",
     "iopub.status.idle": "2021-08-04T06:26:30.720338Z",
     "shell.execute_reply": "2021-08-04T06:26:30.720668Z"
    }
   },
   "outputs": [
    {
     "data": {
      "image/svg+xml": [
       "<?xml version=\"1.0\" encoding=\"UTF-8\" standalone=\"no\"?><svg xmlns=\"http://www.w3.org/2000/svg\" xmlns:xlink=\"http://www.w3.org/1999/xlink\" contentScriptType=\"application/ecmascript\" contentStyleType=\"text/css\" height=\"12px\" preserveAspectRatio=\"none\" style=\"width:12px;height:12px;\" version=\"1.1\" viewBox=\"0 0 12 12\" width=\"12px\" zoomAndPan=\"magnify\"><defs/><g><!--MD5=[aeeef50f102b80d730deb6443d14f702]\n",
       "@startuml\r\n",
       "skinparam wrapWidth 300\r\n",
       "hide circle\r\n",
       "\r\n",
       "@enduml\r\n",
       "\n",
       "PlantUML version 1.2020.13(Sat Jun 13 12:26:38 UTC 2020)\n",
       "(EPL source distribution)\n",
       "Java Runtime: OpenJDK Runtime Environment\n",
       "JVM: OpenJDK 64-Bit Server VM\n",
       "Default Encoding: UTF-8\n",
       "Language: en\n",
       "Country: null\n",
       "--></g></svg>"
      ]
     },
     "execution_count": 25,
     "metadata": {},
     "output_type": "execute_result"
    }
   ],
   "source": [
    "%viz --style=\"STDCOLOR\" --view=\"State\" \"ControlNodeTest\""
   ]
  },
  {
   "cell_type": "code",
   "execution_count": 26,
   "id": "249ecacf",
   "metadata": {
    "execution": {
     "iopub.execute_input": "2021-08-04T06:26:30.770904Z",
     "iopub.status.busy": "2021-08-04T06:26:30.770499Z",
     "iopub.status.idle": "2021-08-04T06:26:30.804479Z",
     "shell.execute_reply": "2021-08-04T06:26:30.804279Z"
    }
   },
   "outputs": [
    {
     "data": {
      "image/svg+xml": [
       "<?xml version=\"1.0\" encoding=\"UTF-8\" standalone=\"no\"?><svg xmlns=\"http://www.w3.org/2000/svg\" xmlns:xlink=\"http://www.w3.org/1999/xlink\" contentScriptType=\"application/ecmascript\" contentStyleType=\"text/css\" height=\"225px\" preserveAspectRatio=\"none\" style=\"width:213px;height:225px;\" version=\"1.1\" viewBox=\"0 0 213 225\" width=\"213px\" zoomAndPan=\"magnify\"><defs><filter height=\"300%\" id=\"fq0z9huao25s4\" width=\"300%\" x=\"-1\" y=\"-1\"><feGaussianBlur result=\"blurOut\" stdDeviation=\"2.0\"/><feColorMatrix in=\"blurOut\" result=\"blurOut2\" type=\"matrix\" values=\"0 0 0 0 0 0 0 0 0 0 0 0 0 0 0 0 0 0 .4 0\"/><feOffset dx=\"4.0\" dy=\"4.0\" in=\"blurOut2\" result=\"blurOut3\"/><feBlend in=\"SourceGraphic\" in2=\"blurOut3\" mode=\"normal\"/></filter></defs><g><!--MD5=[fbc87193dbaf4d95561dea2c320d4a47]\n",
       "cluster E1--><a href=\"psysml:d75b3c07-b549-4c23-b2aa-d48828b6adea\" target=\"_top\" title=\"psysml:d75b3c07-b549-4c23-b2aa-d48828b6adea\" xlink:actuate=\"onRequest\" xlink:href=\"psysml:d75b3c07-b549-4c23-b2aa-d48828b6adea\" xlink:show=\"new\" xlink:title=\"psysml:d75b3c07-b549-4c23-b2aa-d48828b6adea\" xlink:type=\"simple\"><rect fill=\"#FFFFFF\" filter=\"url(#fq0z9huao25s4)\" height=\"199\" id=\"E1\" style=\"stroke: #A80036; stroke-width: 1.5;\" width=\"187\" x=\"7\" y=\"7\"/><rect fill=\"#FEFECE\" height=\"37.9375\" style=\"stroke: #A80036; stroke-width: 1.5;\" width=\"187\" x=\"7\" y=\"7\"/><text fill=\"#000000\" font-family=\"sans-serif\" font-size=\"12\" font-style=\"italic\" lengthAdjust=\"spacingAndGlyphs\" textLength=\"77\" x=\"62\" y=\"23.1387\">«action def»</text><text fill=\"#000000\" font-family=\"sans-serif\" font-size=\"12\" lengthAdjust=\"spacingAndGlyphs\" textLength=\"105\" x=\"48\" y=\"37.1074\">ControlNodeTest</text></a><rect fill=\"#000000\" filter=\"url(#fq0z9huao25s4)\" height=\"8\" style=\"stroke: none; stroke-width: 1.0;\" width=\"80\" x=\"60\" y=\"111\"/><rect fill=\"#000000\" filter=\"url(#fq0z9huao25s4)\" height=\"8\" style=\"stroke: none; stroke-width: 1.0;\" width=\"80\" x=\"60\" y=\"129\"/><g id=\"E1.E2\"><a href=\"psysml:c07d7274-d0ac-44b0-95a3-e3c0562da237\" target=\"_top\" title=\"psysml:c07d7274-d0ac-44b0-95a3-e3c0562da237\" xlink:actuate=\"onRequest\" xlink:href=\"psysml:c07d7274-d0ac-44b0-95a3-e3c0562da237\" xlink:show=\"new\" xlink:title=\"psysml:c07d7274-d0ac-44b0-95a3-e3c0562da237\" xlink:type=\"simple\"><rect fill=\"#FEFECE\" filter=\"url(#fq0z9huao25s4)\" height=\"42.9375\" id=\"E2\" rx=\"10\" ry=\"10\" style=\"stroke: #A80036; stroke-width: 1.5;\" width=\"60\" x=\"118\" y=\"58\"/><text fill=\"#000000\" font-family=\"sans-serif\" font-size=\"12\" font-style=\"italic\" lengthAdjust=\"spacingAndGlyphs\" textLength=\"53\" x=\"121.5\" y=\"74.1387\">«action»</text><text fill=\"#000000\" font-family=\"sans-serif\" font-size=\"12\" lengthAdjust=\"spacingAndGlyphs\" textLength=\"16\" x=\"140\" y=\"88.1074\">A1</text></a></g><g id=\"E1.E3\"><a href=\"psysml:7bb05ae1-d1dd-4ff0-97ee-ce3344a0751d\" target=\"_top\" title=\"psysml:7bb05ae1-d1dd-4ff0-97ee-ce3344a0751d\" xlink:actuate=\"onRequest\" xlink:href=\"psysml:7bb05ae1-d1dd-4ff0-97ee-ce3344a0751d\" xlink:show=\"new\" xlink:title=\"psysml:7bb05ae1-d1dd-4ff0-97ee-ce3344a0751d\" xlink:type=\"simple\"><rect fill=\"#FEFECE\" filter=\"url(#fq0z9huao25s4)\" height=\"42.9375\" id=\"E3\" rx=\"10\" ry=\"10\" style=\"stroke: #A80036; stroke-width: 1.5;\" width=\"60\" x=\"23\" y=\"58\"/><text fill=\"#000000\" font-family=\"sans-serif\" font-size=\"12\" font-style=\"italic\" lengthAdjust=\"spacingAndGlyphs\" textLength=\"53\" x=\"26.5\" y=\"74.1387\">«action»</text><text fill=\"#000000\" font-family=\"sans-serif\" font-size=\"12\" lengthAdjust=\"spacingAndGlyphs\" textLength=\"16\" x=\"45\" y=\"88.1074\">A2</text></a></g><g id=\"E1.E6\"><a href=\"psysml:d5fd7944-a8f1-4c67-81d3-da10d551f750\" target=\"_top\" title=\"psysml:d5fd7944-a8f1-4c67-81d3-da10d551f750\" xlink:actuate=\"onRequest\" xlink:href=\"psysml:d5fd7944-a8f1-4c67-81d3-da10d551f750\" xlink:show=\"new\" xlink:title=\"psysml:d5fd7944-a8f1-4c67-81d3-da10d551f750\" xlink:type=\"simple\"><rect fill=\"#FEFECE\" filter=\"url(#fq0z9huao25s4)\" height=\"42.9375\" id=\"E6\" rx=\"10\" ry=\"10\" style=\"stroke: #A80036; stroke-width: 1.5;\" width=\"60\" x=\"23\" y=\"147\"/><text fill=\"#000000\" font-family=\"sans-serif\" font-size=\"12\" font-style=\"italic\" lengthAdjust=\"spacingAndGlyphs\" textLength=\"53\" x=\"26.5\" y=\"163.1387\">«action»</text><text fill=\"#000000\" font-family=\"sans-serif\" font-size=\"12\" lengthAdjust=\"spacingAndGlyphs\" textLength=\"16\" x=\"45\" y=\"177.1074\">B1</text></a></g><g id=\"E1.E7\"><a href=\"psysml:b7d3ffe5-6bb9-4232-a5c3-5eafb8d0b5f9\" target=\"_top\" title=\"psysml:b7d3ffe5-6bb9-4232-a5c3-5eafb8d0b5f9\" xlink:actuate=\"onRequest\" xlink:href=\"psysml:b7d3ffe5-6bb9-4232-a5c3-5eafb8d0b5f9\" xlink:show=\"new\" xlink:title=\"psysml:b7d3ffe5-6bb9-4232-a5c3-5eafb8d0b5f9\" xlink:type=\"simple\"><rect fill=\"#FEFECE\" filter=\"url(#fq0z9huao25s4)\" height=\"42.9375\" id=\"E7\" rx=\"10\" ry=\"10\" style=\"stroke: #A80036; stroke-width: 1.5;\" width=\"60\" x=\"118\" y=\"147\"/><text fill=\"#000000\" font-family=\"sans-serif\" font-size=\"12\" font-style=\"italic\" lengthAdjust=\"spacingAndGlyphs\" textLength=\"53\" x=\"121.5\" y=\"163.1387\">«action»</text><text fill=\"#000000\" font-family=\"sans-serif\" font-size=\"12\" lengthAdjust=\"spacingAndGlyphs\" textLength=\"16\" x=\"140\" y=\"177.1074\">B2</text></a></g><!--MD5=[4d03bb2d0377dc85ccfab60ff574652b]\n",
       "link E2 to E4--><a href=\"psysml:a5b917a3-7538-4e28-aa62-755107929dae\" target=\"_top\" title=\"psysml:a5b917a3-7538-4e28-aa62-755107929dae\" xlink:actuate=\"onRequest\" xlink:href=\"psysml:a5b917a3-7538-4e28-aa62-755107929dae\" xlink:show=\"new\" xlink:title=\"psysml:a5b917a3-7538-4e28-aa62-755107929dae\" xlink:type=\"simple\"><path d=\"M118.42,101.14 C114.95,103.57 111.64,105.88 108.81,107.85 \" fill=\"none\" id=\"E2-&gt;E4\" style=\"stroke: #A80036; stroke-width: 1.0;\"/><polygon fill=\"#A80036\" points=\"104.3,111,113.9709,109.1361,108.4022,108.1413,109.397,102.5726,104.3,111\" style=\"stroke: #A80036; stroke-width: 1.0;\"/><text fill=\"#000000\" font-family=\"sans-serif\" font-size=\"13\" lengthAdjust=\"spacingAndGlyphs\" textLength=\"7\" x=\"97.87\" y=\"99.9205\">*</text></a><!--MD5=[af87c684e3b0d8be13c1a698a818ef1e]\n",
       "link E3 to E4--><a href=\"psysml:b67a9087-1129-4a2e-aba3-334d88c3cbf2\" target=\"_top\" title=\"psysml:b67a9087-1129-4a2e-aba3-334d88c3cbf2\" xlink:actuate=\"onRequest\" xlink:href=\"psysml:b67a9087-1129-4a2e-aba3-334d88c3cbf2\" xlink:show=\"new\" xlink:title=\"psysml:b67a9087-1129-4a2e-aba3-334d88c3cbf2\" xlink:type=\"simple\"><path d=\"M81.96,101.14 C85.36,103.57 88.6,105.88 91.37,107.85 \" fill=\"none\" id=\"E3-&gt;E4\" style=\"stroke: #A80036; stroke-width: 1.0;\"/><polygon fill=\"#A80036\" points=\"95.79,111,90.7801,102.5206,91.7175,108.0992,86.1388,109.0366,95.79,111\" style=\"stroke: #A80036; stroke-width: 1.0;\"/><text fill=\"#000000\" font-family=\"sans-serif\" font-size=\"13\" lengthAdjust=\"spacingAndGlyphs\" textLength=\"7\" x=\"91.1121\" y=\"103.6092\">*</text></a><!--MD5=[1b7591eae5389033d8d09a9d6721a717]\n",
       "link E4 to E5--><a href=\"psysml:9a17080e-ae46-40d4-b989-796f716175e4\" target=\"_top\" title=\"psysml:9a17080e-ae46-40d4-b989-796f716175e4\" xlink:actuate=\"onRequest\" xlink:href=\"psysml:9a17080e-ae46-40d4-b989-796f716175e4\" xlink:show=\"new\" xlink:title=\"psysml:9a17080e-ae46-40d4-b989-796f716175e4\" xlink:type=\"simple\"><path d=\"M100,119.08 C100,120.38 100,121.95 100,123.55 \" fill=\"none\" id=\"E4-&gt;E5\" style=\"stroke: #A80036; stroke-width: 1.0;\"/><polygon fill=\"#A80036\" points=\"100,128.7,104,119.7,100,123.7,96,119.7,100,128.7\" style=\"stroke: #A80036; stroke-width: 1.0;\"/><text fill=\"#000000\" font-family=\"sans-serif\" font-size=\"13\" lengthAdjust=\"spacingAndGlyphs\" textLength=\"7\" x=\"42.9663\" y=\"135.9509\">*</text></a><!--MD5=[9120cf2e5df3bff93db8f754bbbc09b4]\n",
       "link E5 to E6--><a href=\"psysml:197b427e-ad07-4e53-856c-ed2b1bc0e06a\" target=\"_top\" title=\"psysml:197b427e-ad07-4e53-856c-ed2b1bc0e06a\" xlink:actuate=\"onRequest\" xlink:href=\"psysml:197b427e-ad07-4e53-856c-ed2b1bc0e06a\" xlink:show=\"new\" xlink:title=\"psysml:197b427e-ad07-4e53-856c-ed2b1bc0e06a\" xlink:type=\"simple\"><path d=\"M95.66,137.09 C93.25,138.81 89.99,141.13 86.35,143.73 \" fill=\"none\" id=\"E5-&gt;E6\" style=\"stroke: #A80036; stroke-width: 1.0;\"/><polygon fill=\"#A80036\" points=\"81.93,146.88,91.5812,144.9166,86.0025,143.9792,86.9399,138.4006,81.93,146.88\" style=\"stroke: #A80036; stroke-width: 1.0;\"/><text fill=\"#000000\" font-family=\"sans-serif\" font-size=\"13\" lengthAdjust=\"spacingAndGlyphs\" textLength=\"7\" x=\"91.0509\" y=\"155.0031\">*</text></a><!--MD5=[3a9b96bfbf6b6ad89c494e81751bda47]\n",
       "link E5 to E7--><a href=\"psysml:b67e977c-71d2-45f4-9959-07a509bb3c26\" target=\"_top\" title=\"psysml:b67e977c-71d2-45f4-9959-07a509bb3c26\" xlink:actuate=\"onRequest\" xlink:href=\"psysml:b67e977c-71d2-45f4-9959-07a509bb3c26\" xlink:show=\"new\" xlink:title=\"psysml:b67e977c-71d2-45f4-9959-07a509bb3c26\" xlink:type=\"simple\"><path d=\"M104.43,137.09 C106.9,138.81 110.22,141.13 113.94,143.73 \" fill=\"none\" id=\"E5-&gt;E7\" style=\"stroke: #A80036; stroke-width: 1.0;\"/><polygon fill=\"#A80036\" points=\"118.46,146.88,113.3827,138.4407,114.3645,144.0117,108.7935,144.9935,118.46,146.88\" style=\"stroke: #A80036; stroke-width: 1.0;\"/><text fill=\"#000000\" font-family=\"sans-serif\" font-size=\"13\" lengthAdjust=\"spacingAndGlyphs\" textLength=\"7\" x=\"102.9935\" y=\"155.3537\">*</text></a><!--MD5=[73f6f7c6360e4ccc08af7371cf216a2b]\n",
       "@startuml\r\n",
       "skinparam ranksep 10\r\n",
       "skinparam rectangle {\r\n",
       " backgroundColor<<block>> LightGreen\r\n",
       "}\r\n",
       "skinparam wrapWidth 300\r\n",
       "hide circle\r\n",
       "\r\n",
       "rec def \"ControlNodeTest\" as E1  <<(T,blue) action def>> [[psysml:d75b3c07-b549-4c23-b2aa-d48828b6adea ]] {\r\n",
       "rec usage \"A1\" as E2  <<(T,blue) action>> [[psysml:c07d7274-d0ac-44b0-95a3-e3c0562da237 ]] {\r\n",
       "}\r\n",
       "\r\n",
       "rec usage \"A2\" as E3  <<(T,blue) action>> [[psysml:7bb05ae1-d1dd-4ff0-97ee-ce3344a0751d ]] {\r\n",
       "}\r\n",
       "\r\n",
       "join \"J\" as E4  [[psysml:f3bfce16-3667-4a48-a42e-fd992fa328bf ]] \r\n",
       "fork \"F\" as E5  [[psysml:08c848ef-d5ea-4388-acb9-5b8d01347f10 ]] \r\n",
       "rec usage \"B1\" as E6  <<(T,blue) action>> [[psysml:d5fd7944-a8f1-4c67-81d3-da10d551f750 ]] {\r\n",
       "}\r\n",
       "\r\n",
       "rec usage \"B2\" as E7  <<(T,blue) action>> [[psysml:b7d3ffe5-6bb9-4232-a5c3-5eafb8d0b5f9 ]] {\r\n",
       "}\r\n",
       "\r\n",
       "}\r\n",
       "\r\n",
       "E2 - -> \"*\"E4 [[psysml:a5b917a3-7538-4e28-aa62-755107929dae ]] \r\n",
       "E3 - -> \"*\"E4 [[psysml:b67a9087-1129-4a2e-aba3-334d88c3cbf2 ]] \r\n",
       "E4 - -> \"*\"E5 [[psysml:9a17080e-ae46-40d4-b989-796f716175e4 ]] \r\n",
       "E5 - -> \"*\"E6 [[psysml:197b427e-ad07-4e53-856c-ed2b1bc0e06a ]] \r\n",
       "E5 - -> \"*\"E7 [[psysml:b67e977c-71d2-45f4-9959-07a509bb3c26 ]] \r\n",
       "@enduml\r\n",
       "\n",
       "PlantUML version 1.2020.13(Sat Jun 13 12:26:38 UTC 2020)\n",
       "(EPL source distribution)\n",
       "Java Runtime: OpenJDK Runtime Environment\n",
       "JVM: OpenJDK 64-Bit Server VM\n",
       "Default Encoding: UTF-8\n",
       "Language: en\n",
       "Country: null\n",
       "--></g></svg>"
      ]
     },
     "execution_count": 26,
     "metadata": {},
     "output_type": "execute_result"
    }
   ],
   "source": [
    "%viz --style=\"STDCOLOR\" --view=\"Interconnection\" \"ControlNodeTest\""
   ]
  },
  {
   "cell_type": "code",
   "execution_count": 27,
   "id": "cc8022c2",
   "metadata": {
    "execution": {
     "iopub.execute_input": "2021-08-04T06:26:30.855000Z",
     "iopub.status.busy": "2021-08-04T06:26:30.854598Z",
     "iopub.status.idle": "2021-08-04T06:26:30.883805Z",
     "shell.execute_reply": "2021-08-04T06:26:30.883452Z"
    }
   },
   "outputs": [
    {
     "data": {
      "image/svg+xml": [
       "<?xml version=\"1.0\" encoding=\"UTF-8\" standalone=\"no\"?><svg xmlns=\"http://www.w3.org/2000/svg\" xmlns:xlink=\"http://www.w3.org/1999/xlink\" contentScriptType=\"application/ecmascript\" contentStyleType=\"text/css\" height=\"219px\" preserveAspectRatio=\"none\" style=\"width:213px;height:219px;\" version=\"1.1\" viewBox=\"0 0 213 219\" width=\"213px\" zoomAndPan=\"magnify\"><defs><filter height=\"300%\" id=\"f176gkdr8fdyy2\" width=\"300%\" x=\"-1\" y=\"-1\"><feGaussianBlur result=\"blurOut\" stdDeviation=\"2.0\"/><feColorMatrix in=\"blurOut\" result=\"blurOut2\" type=\"matrix\" values=\"0 0 0 0 0 0 0 0 0 0 0 0 0 0 0 0 0 0 .4 0\"/><feOffset dx=\"4.0\" dy=\"4.0\" in=\"blurOut2\" result=\"blurOut3\"/><feBlend in=\"SourceGraphic\" in2=\"blurOut3\" mode=\"normal\"/></filter></defs><g><!--MD5=[fbc87193dbaf4d95561dea2c320d4a47]\n",
       "cluster E1--><a href=\"psysml:d75b3c07-b549-4c23-b2aa-d48828b6adea\" target=\"_top\" title=\"psysml:d75b3c07-b549-4c23-b2aa-d48828b6adea\" xlink:actuate=\"onRequest\" xlink:href=\"psysml:d75b3c07-b549-4c23-b2aa-d48828b6adea\" xlink:show=\"new\" xlink:title=\"psysml:d75b3c07-b549-4c23-b2aa-d48828b6adea\" xlink:type=\"simple\"><rect fill=\"#FFFFFF\" filter=\"url(#f176gkdr8fdyy2)\" height=\"193\" id=\"E1\" style=\"stroke: #A80036; stroke-width: 1.5;\" width=\"187\" x=\"7\" y=\"7\"/><rect fill=\"#FEFECE\" height=\"37.9375\" style=\"stroke: #A80036; stroke-width: 1.5;\" width=\"187\" x=\"7\" y=\"7\"/><text fill=\"#000000\" font-family=\"sans-serif\" font-size=\"12\" font-style=\"italic\" lengthAdjust=\"spacingAndGlyphs\" textLength=\"77\" x=\"62\" y=\"23.1387\">«action def»</text><text fill=\"#000000\" font-family=\"sans-serif\" font-size=\"12\" lengthAdjust=\"spacingAndGlyphs\" textLength=\"105\" x=\"48\" y=\"37.1074\">ControlNodeTest</text></a><rect fill=\"#000000\" filter=\"url(#f176gkdr8fdyy2)\" height=\"8\" style=\"stroke: none; stroke-width: 1.0;\" width=\"80\" x=\"60\" y=\"109\"/><rect fill=\"#000000\" filter=\"url(#f176gkdr8fdyy2)\" height=\"8\" style=\"stroke: none; stroke-width: 1.0;\" width=\"80\" x=\"60\" y=\"125\"/><g id=\"E1.E2\"><a href=\"psysml:c07d7274-d0ac-44b0-95a3-e3c0562da237\" target=\"_top\" title=\"psysml:c07d7274-d0ac-44b0-95a3-e3c0562da237\" xlink:actuate=\"onRequest\" xlink:href=\"psysml:c07d7274-d0ac-44b0-95a3-e3c0562da237\" xlink:show=\"new\" xlink:title=\"psysml:c07d7274-d0ac-44b0-95a3-e3c0562da237\" xlink:type=\"simple\"><rect fill=\"#FEFECE\" filter=\"url(#f176gkdr8fdyy2)\" height=\"42.9375\" id=\"E2\" rx=\"10\" ry=\"10\" style=\"stroke: #A80036; stroke-width: 1.5;\" width=\"60\" x=\"118\" y=\"58\"/><text fill=\"#000000\" font-family=\"sans-serif\" font-size=\"12\" font-style=\"italic\" lengthAdjust=\"spacingAndGlyphs\" textLength=\"53\" x=\"121.5\" y=\"74.1387\">«action»</text><text fill=\"#000000\" font-family=\"sans-serif\" font-size=\"12\" lengthAdjust=\"spacingAndGlyphs\" textLength=\"16\" x=\"140\" y=\"88.1074\">A1</text></a></g><g id=\"E1.E3\"><a href=\"psysml:7bb05ae1-d1dd-4ff0-97ee-ce3344a0751d\" target=\"_top\" title=\"psysml:7bb05ae1-d1dd-4ff0-97ee-ce3344a0751d\" xlink:actuate=\"onRequest\" xlink:href=\"psysml:7bb05ae1-d1dd-4ff0-97ee-ce3344a0751d\" xlink:show=\"new\" xlink:title=\"psysml:7bb05ae1-d1dd-4ff0-97ee-ce3344a0751d\" xlink:type=\"simple\"><rect fill=\"#FEFECE\" filter=\"url(#f176gkdr8fdyy2)\" height=\"42.9375\" id=\"E3\" rx=\"10\" ry=\"10\" style=\"stroke: #A80036; stroke-width: 1.5;\" width=\"60\" x=\"23\" y=\"58\"/><text fill=\"#000000\" font-family=\"sans-serif\" font-size=\"12\" font-style=\"italic\" lengthAdjust=\"spacingAndGlyphs\" textLength=\"53\" x=\"26.5\" y=\"74.1387\">«action»</text><text fill=\"#000000\" font-family=\"sans-serif\" font-size=\"12\" lengthAdjust=\"spacingAndGlyphs\" textLength=\"16\" x=\"45\" y=\"88.1074\">A2</text></a></g><g id=\"E1.E6\"><a href=\"psysml:d5fd7944-a8f1-4c67-81d3-da10d551f750\" target=\"_top\" title=\"psysml:d5fd7944-a8f1-4c67-81d3-da10d551f750\" xlink:actuate=\"onRequest\" xlink:href=\"psysml:d5fd7944-a8f1-4c67-81d3-da10d551f750\" xlink:show=\"new\" xlink:title=\"psysml:d5fd7944-a8f1-4c67-81d3-da10d551f750\" xlink:type=\"simple\"><rect fill=\"#FEFECE\" filter=\"url(#f176gkdr8fdyy2)\" height=\"42.9375\" id=\"E6\" rx=\"10\" ry=\"10\" style=\"stroke: #A80036; stroke-width: 1.5;\" width=\"60\" x=\"23\" y=\"141\"/><text fill=\"#000000\" font-family=\"sans-serif\" font-size=\"12\" font-style=\"italic\" lengthAdjust=\"spacingAndGlyphs\" textLength=\"53\" x=\"26.5\" y=\"157.1387\">«action»</text><text fill=\"#000000\" font-family=\"sans-serif\" font-size=\"12\" lengthAdjust=\"spacingAndGlyphs\" textLength=\"16\" x=\"45\" y=\"171.1074\">B1</text></a></g><g id=\"E1.E7\"><a href=\"psysml:b7d3ffe5-6bb9-4232-a5c3-5eafb8d0b5f9\" target=\"_top\" title=\"psysml:b7d3ffe5-6bb9-4232-a5c3-5eafb8d0b5f9\" xlink:actuate=\"onRequest\" xlink:href=\"psysml:b7d3ffe5-6bb9-4232-a5c3-5eafb8d0b5f9\" xlink:show=\"new\" xlink:title=\"psysml:b7d3ffe5-6bb9-4232-a5c3-5eafb8d0b5f9\" xlink:type=\"simple\"><rect fill=\"#FEFECE\" filter=\"url(#f176gkdr8fdyy2)\" height=\"42.9375\" id=\"E7\" rx=\"10\" ry=\"10\" style=\"stroke: #A80036; stroke-width: 1.5;\" width=\"60\" x=\"118\" y=\"141\"/><text fill=\"#000000\" font-family=\"sans-serif\" font-size=\"12\" font-style=\"italic\" lengthAdjust=\"spacingAndGlyphs\" textLength=\"53\" x=\"121.5\" y=\"157.1387\">«action»</text><text fill=\"#000000\" font-family=\"sans-serif\" font-size=\"12\" lengthAdjust=\"spacingAndGlyphs\" textLength=\"16\" x=\"140\" y=\"171.1074\">B2</text></a></g><!--MD5=[4d03bb2d0377dc85ccfab60ff574652b]\n",
       "link E2 to E4--><a href=\"psysml:a5b917a3-7538-4e28-aa62-755107929dae\" target=\"_top\" title=\"psysml:a5b917a3-7538-4e28-aa62-755107929dae\" xlink:actuate=\"onRequest\" xlink:href=\"psysml:a5b917a3-7538-4e28-aa62-755107929dae\" xlink:show=\"new\" xlink:title=\"psysml:a5b917a3-7538-4e28-aa62-755107929dae\" xlink:type=\"simple\"><path d=\"M117.87,100.27 C114.67,102.37 111.63,104.37 108.98,106.1 \" fill=\"none\" id=\"E2-&gt;E4\" style=\"stroke: #A80036; stroke-width: 1.0; stroke-dasharray: 7.0,7.0;\"/><polygon fill=\"#A80036\" points=\"104.72,108.9,114.4401,107.3128,108.9021,106.1595,110.0554,100.6215,104.72,108.9\" style=\"stroke: #A80036; stroke-width: 1.0;\"/></a><!--MD5=[af87c684e3b0d8be13c1a698a818ef1e]\n",
       "link E3 to E4--><a href=\"psysml:b67a9087-1129-4a2e-aba3-334d88c3cbf2\" target=\"_top\" title=\"psysml:b67a9087-1129-4a2e-aba3-334d88c3cbf2\" xlink:actuate=\"onRequest\" xlink:href=\"psysml:b67a9087-1129-4a2e-aba3-334d88c3cbf2\" xlink:show=\"new\" xlink:title=\"psysml:b67a9087-1129-4a2e-aba3-334d88c3cbf2\" xlink:type=\"simple\"><path d=\"M83.03,100.63 C85.85,102.52 88.54,104.32 90.9,105.9 \" fill=\"none\" id=\"E3-&gt;E4\" style=\"stroke: #A80036; stroke-width: 1.0; stroke-dasharray: 7.0,7.0;\"/><polygon fill=\"#A80036\" points=\"95.26,108.82,90.0101,100.487,91.1063,106.0366,85.5567,107.1328,95.26,108.82\" style=\"stroke: #A80036; stroke-width: 1.0;\"/></a><!--MD5=[1b7591eae5389033d8d09a9d6721a717]\n",
       "link E4 to E5--><a href=\"psysml:9a17080e-ae46-40d4-b989-796f716175e4\" target=\"_top\" title=\"psysml:9a17080e-ae46-40d4-b989-796f716175e4\" xlink:actuate=\"onRequest\" xlink:href=\"psysml:9a17080e-ae46-40d4-b989-796f716175e4\" xlink:show=\"new\" xlink:title=\"psysml:9a17080e-ae46-40d4-b989-796f716175e4\" xlink:type=\"simple\"><path d=\"M100,117.25 C100,118.05 100,118.94 100,119.86 \" fill=\"none\" id=\"E4-&gt;E5\" style=\"stroke: #A80036; stroke-width: 1.0; stroke-dasharray: 7.0,7.0;\"/><polygon fill=\"#A80036\" points=\"100,124.96,104,115.96,100,119.96,96,115.96,100,124.96\" style=\"stroke: #A80036; stroke-width: 1.0;\"/></a><!--MD5=[9120cf2e5df3bff93db8f754bbbc09b4]\n",
       "link E5 to E6--><a href=\"psysml:197b427e-ad07-4e53-856c-ed2b1bc0e06a\" target=\"_top\" title=\"psysml:197b427e-ad07-4e53-856c-ed2b1bc0e06a\" xlink:actuate=\"onRequest\" xlink:href=\"psysml:197b427e-ad07-4e53-856c-ed2b1bc0e06a\" xlink:show=\"new\" xlink:title=\"psysml:197b427e-ad07-4e53-856c-ed2b1bc0e06a\" xlink:type=\"simple\"><path d=\"M95.32,133.14 C93.21,134.55 90.52,136.35 87.53,138.36 \" fill=\"none\" id=\"E5-&gt;E6\" style=\"stroke: #A80036; stroke-width: 1.0; stroke-dasharray: 7.0,7.0;\"/><polygon fill=\"#A80036\" points=\"83.27,141.21,92.9706,139.5074,87.4192,138.42,88.5066,132.8687,83.27,141.21\" style=\"stroke: #A80036; stroke-width: 1.0;\"/></a><!--MD5=[3a9b96bfbf6b6ad89c494e81751bda47]\n",
       "link E5 to E7--><a href=\"psysml:b67e977c-71d2-45f4-9959-07a509bb3c26\" target=\"_top\" title=\"psysml:b67e977c-71d2-45f4-9959-07a509bb3c26\" xlink:actuate=\"onRequest\" xlink:href=\"psysml:b67e977c-71d2-45f4-9959-07a509bb3c26\" xlink:show=\"new\" xlink:title=\"psysml:b67e977c-71d2-45f4-9959-07a509bb3c26\" xlink:type=\"simple\"><path d=\"M104.78,133.14 C107.16,134.7 110.28,136.75 113.75,139.02 \" fill=\"none\" id=\"E5-&gt;E7\" style=\"stroke: #A80036; stroke-width: 1.0; stroke-dasharray: 7.0,7.0;\"/><polygon fill=\"#A80036\" points=\"117.96,141.79,112.6246,133.5115,113.7779,139.0495,108.2399,140.2028,117.96,141.79\" style=\"stroke: #A80036; stroke-width: 1.0;\"/></a><!--MD5=[d658d90275b112534be9aed544586e66]\n",
       "@startuml\r\n",
       "skinparam ranksep 8\r\n",
       "skinparam wrapWidth 300\r\n",
       "hide circle\r\n",
       "\r\n",
       "rec def \"ControlNodeTest\" as E1  <<(T,blue) action def>> [[psysml:d75b3c07-b549-4c23-b2aa-d48828b6adea ]] {\r\n",
       "rec usage \"A1\" as E2  <<(T,blue) action>> [[psysml:c07d7274-d0ac-44b0-95a3-e3c0562da237 ]] {\r\n",
       "}\r\n",
       "\r\n",
       "rec usage \"A2\" as E3  <<(T,blue) action>> [[psysml:7bb05ae1-d1dd-4ff0-97ee-ce3344a0751d ]] {\r\n",
       "}\r\n",
       "\r\n",
       "join \"J\" as E4  [[psysml:f3bfce16-3667-4a48-a42e-fd992fa328bf ]] \r\n",
       "fork \"F\" as E5  [[psysml:08c848ef-d5ea-4388-acb9-5b8d01347f10 ]] \r\n",
       "rec usage \"B1\" as E6  <<(T,blue) action>> [[psysml:d5fd7944-a8f1-4c67-81d3-da10d551f750 ]] {\r\n",
       "}\r\n",
       "\r\n",
       "rec usage \"B2\" as E7  <<(T,blue) action>> [[psysml:b7d3ffe5-6bb9-4232-a5c3-5eafb8d0b5f9 ]] {\r\n",
       "}\r\n",
       "\r\n",
       "}\r\n",
       "\r\n",
       "E2 ..> E4 [[psysml:a5b917a3-7538-4e28-aa62-755107929dae ]] \r\n",
       "E3 ..> E4 [[psysml:b67a9087-1129-4a2e-aba3-334d88c3cbf2 ]] \r\n",
       "E4 ..> E5 [[psysml:9a17080e-ae46-40d4-b989-796f716175e4 ]] \r\n",
       "E5 ..> E6 [[psysml:197b427e-ad07-4e53-856c-ed2b1bc0e06a ]] \r\n",
       "E5 ..> E7 [[psysml:b67e977c-71d2-45f4-9959-07a509bb3c26 ]] \r\n",
       "@enduml\r\n",
       "\n",
       "PlantUML version 1.2020.13(Sat Jun 13 12:26:38 UTC 2020)\n",
       "(EPL source distribution)\n",
       "Java Runtime: OpenJDK Runtime Environment\n",
       "JVM: OpenJDK 64-Bit Server VM\n",
       "Default Encoding: UTF-8\n",
       "Language: en\n",
       "Country: null\n",
       "--></g></svg>"
      ]
     },
     "execution_count": 27,
     "metadata": {},
     "output_type": "execute_result"
    }
   ],
   "source": [
    "%viz --style=\"STDCOLOR\" --view=\"Action\" \"ControlNodeTest\""
   ]
  },
  {
   "cell_type": "code",
   "execution_count": 28,
   "id": "59e73f5b",
   "metadata": {
    "execution": {
     "iopub.execute_input": "2021-08-04T06:26:30.933728Z",
     "iopub.status.busy": "2021-08-04T06:26:30.933321Z",
     "iopub.status.idle": "2021-08-04T06:26:30.964432Z",
     "shell.execute_reply": "2021-08-04T06:26:30.963226Z"
    }
   },
   "outputs": [
    {
     "data": {
      "image/svg+xml": [
       "<?xml version=\"1.0\" encoding=\"UTF-8\" standalone=\"no\"?><svg xmlns=\"http://www.w3.org/2000/svg\" xmlns:xlink=\"http://www.w3.org/1999/xlink\" contentScriptType=\"application/ecmascript\" contentStyleType=\"text/css\" height=\"177px\" preserveAspectRatio=\"none\" style=\"width:565px;height:177px;\" version=\"1.1\" viewBox=\"0 0 565 177\" width=\"565px\" zoomAndPan=\"magnify\"><defs><filter height=\"300%\" id=\"f1rjcsbxixa3et\" width=\"300%\" x=\"-1\" y=\"-1\"><feGaussianBlur result=\"blurOut\" stdDeviation=\"2.0\"/><feColorMatrix in=\"blurOut\" result=\"blurOut2\" type=\"matrix\" values=\"0 0 0 0 0 0 0 0 0 0 0 0 0 0 0 0 0 0 .4 0\"/><feOffset dx=\"4.0\" dy=\"4.0\" in=\"blurOut2\" result=\"blurOut3\"/><feBlend in=\"SourceGraphic\" in2=\"blurOut3\" mode=\"normal\"/></filter></defs><g><!--MD5=[43c9051892ef23e1a46a86907403d788]\n",
       "class E1--><a href=\"psysml:d75b3c07-b549-4c23-b2aa-d48828b6adea\" target=\"_top\" title=\"psysml:d75b3c07-b549-4c23-b2aa-d48828b6adea\" xlink:actuate=\"onRequest\" xlink:href=\"psysml:d75b3c07-b549-4c23-b2aa-d48828b6adea\" xlink:show=\"new\" xlink:title=\"psysml:d75b3c07-b549-4c23-b2aa-d48828b6adea\" xlink:type=\"simple\"><rect fill=\"#FEFECE\" filter=\"url(#f1rjcsbxixa3et)\" height=\"45.9375\" id=\"E1\" style=\"stroke: #A80036; stroke-width: 1.5;\" width=\"111\" x=\"220\" y=\"7\"/><text fill=\"#000000\" font-family=\"sans-serif\" font-size=\"12\" font-style=\"italic\" lengthAdjust=\"spacingAndGlyphs\" textLength=\"77\" x=\"237\" y=\"23.1387\">«action def»</text><text fill=\"#000000\" font-family=\"sans-serif\" font-size=\"12\" lengthAdjust=\"spacingAndGlyphs\" textLength=\"105\" x=\"223\" y=\"37.1074\">ControlNodeTest</text><line style=\"stroke: #A80036; stroke-width: 1.5;\" x1=\"221\" x2=\"330\" y1=\"44.9375\" y2=\"44.9375\"/></a><!--MD5=[b4997ac47864f28c2f74865a473b2911]\n",
       "class E2--><a href=\"psysml:c07d7274-d0ac-44b0-95a3-e3c0562da237\" target=\"_top\" title=\"psysml:c07d7274-d0ac-44b0-95a3-e3c0562da237\" xlink:actuate=\"onRequest\" xlink:href=\"psysml:c07d7274-d0ac-44b0-95a3-e3c0562da237\" xlink:show=\"new\" xlink:title=\"psysml:c07d7274-d0ac-44b0-95a3-e3c0562da237\" xlink:type=\"simple\"><rect fill=\"#FEFECE\" filter=\"url(#f1rjcsbxixa3et)\" height=\"45.9375\" id=\"E2\" rx=\"10\" ry=\"10\" style=\"stroke: #A80036; stroke-width: 1.5;\" width=\"55\" x=\"7\" y=\"113\"/><text fill=\"#000000\" font-family=\"sans-serif\" font-size=\"12\" font-style=\"italic\" lengthAdjust=\"spacingAndGlyphs\" textLength=\"53\" x=\"8\" y=\"129.1387\">«action»</text><text fill=\"#000000\" font-family=\"sans-serif\" font-size=\"12\" lengthAdjust=\"spacingAndGlyphs\" textLength=\"16\" x=\"26.5\" y=\"143.1074\">A1</text><line style=\"stroke: #A80036; stroke-width: 1.5;\" x1=\"8\" x2=\"61\" y1=\"150.9375\" y2=\"150.9375\"/></a><!--MD5=[09b614a08d8cba4a07c9adeb5e0fee81]\n",
       "class E3--><a href=\"psysml:7bb05ae1-d1dd-4ff0-97ee-ce3344a0751d\" target=\"_top\" title=\"psysml:7bb05ae1-d1dd-4ff0-97ee-ce3344a0751d\" xlink:actuate=\"onRequest\" xlink:href=\"psysml:7bb05ae1-d1dd-4ff0-97ee-ce3344a0751d\" xlink:show=\"new\" xlink:title=\"psysml:7bb05ae1-d1dd-4ff0-97ee-ce3344a0751d\" xlink:type=\"simple\"><rect fill=\"#FEFECE\" filter=\"url(#f1rjcsbxixa3et)\" height=\"45.9375\" id=\"E3\" rx=\"10\" ry=\"10\" style=\"stroke: #A80036; stroke-width: 1.5;\" width=\"55\" x=\"97\" y=\"113\"/><text fill=\"#000000\" font-family=\"sans-serif\" font-size=\"12\" font-style=\"italic\" lengthAdjust=\"spacingAndGlyphs\" textLength=\"53\" x=\"98\" y=\"129.1387\">«action»</text><text fill=\"#000000\" font-family=\"sans-serif\" font-size=\"12\" lengthAdjust=\"spacingAndGlyphs\" textLength=\"16\" x=\"116.5\" y=\"143.1074\">A2</text><line style=\"stroke: #A80036; stroke-width: 1.5;\" x1=\"98\" x2=\"151\" y1=\"150.9375\" y2=\"150.9375\"/></a><!--MD5=[ebbe1d658d1005bcc118a6aa81145e00]\n",
       "class E4--><a href=\"psysml:f3bfce16-3667-4a48-a42e-fd992fa328bf\" target=\"_top\" title=\"psysml:f3bfce16-3667-4a48-a42e-fd992fa328bf\" xlink:actuate=\"onRequest\" xlink:href=\"psysml:f3bfce16-3667-4a48-a42e-fd992fa328bf\" xlink:show=\"new\" xlink:title=\"psysml:f3bfce16-3667-4a48-a42e-fd992fa328bf\" xlink:type=\"simple\"><rect fill=\"#FEFECE\" filter=\"url(#f1rjcsbxixa3et)\" height=\"45.9375\" id=\"E4\" rx=\"10\" ry=\"10\" style=\"stroke: #A80036; stroke-width: 1.5;\" width=\"71\" x=\"187\" y=\"113\"/><text fill=\"#000000\" font-family=\"sans-serif\" font-size=\"12\" font-style=\"italic\" lengthAdjust=\"spacingAndGlyphs\" textLength=\"69\" x=\"188\" y=\"129.1387\">«joinNode»</text><text fill=\"#000000\" font-family=\"sans-serif\" font-size=\"12\" lengthAdjust=\"spacingAndGlyphs\" textLength=\"3\" x=\"221\" y=\"143.1074\">J</text><line style=\"stroke: #A80036; stroke-width: 1.5;\" x1=\"188\" x2=\"257\" y1=\"150.9375\" y2=\"150.9375\"/></a><!--MD5=[270fce915f116d4de14055a7c1d9a0f3]\n",
       "class E5--><a href=\"psysml:08c848ef-d5ea-4388-acb9-5b8d01347f10\" target=\"_top\" title=\"psysml:08c848ef-d5ea-4388-acb9-5b8d01347f10\" xlink:actuate=\"onRequest\" xlink:href=\"psysml:08c848ef-d5ea-4388-acb9-5b8d01347f10\" xlink:show=\"new\" xlink:title=\"psysml:08c848ef-d5ea-4388-acb9-5b8d01347f10\" xlink:type=\"simple\"><rect fill=\"#FEFECE\" filter=\"url(#f1rjcsbxixa3et)\" height=\"45.9375\" id=\"E5\" rx=\"10\" ry=\"10\" style=\"stroke: #A80036; stroke-width: 1.5;\" width=\"73\" x=\"293\" y=\"113\"/><text fill=\"#000000\" font-family=\"sans-serif\" font-size=\"12\" font-style=\"italic\" lengthAdjust=\"spacingAndGlyphs\" textLength=\"71\" x=\"294\" y=\"129.1387\">«forkNode»</text><text fill=\"#000000\" font-family=\"sans-serif\" font-size=\"12\" lengthAdjust=\"spacingAndGlyphs\" textLength=\"7\" x=\"326\" y=\"143.1074\">F</text><line style=\"stroke: #A80036; stroke-width: 1.5;\" x1=\"294\" x2=\"365\" y1=\"150.9375\" y2=\"150.9375\"/></a><!--MD5=[60a26617385b1d2d0262a64233df1f8d]\n",
       "class E6--><a href=\"psysml:d5fd7944-a8f1-4c67-81d3-da10d551f750\" target=\"_top\" title=\"psysml:d5fd7944-a8f1-4c67-81d3-da10d551f750\" xlink:actuate=\"onRequest\" xlink:href=\"psysml:d5fd7944-a8f1-4c67-81d3-da10d551f750\" xlink:show=\"new\" xlink:title=\"psysml:d5fd7944-a8f1-4c67-81d3-da10d551f750\" xlink:type=\"simple\"><rect fill=\"#FEFECE\" filter=\"url(#f1rjcsbxixa3et)\" height=\"45.9375\" id=\"E6\" rx=\"10\" ry=\"10\" style=\"stroke: #A80036; stroke-width: 1.5;\" width=\"55\" x=\"401\" y=\"113\"/><text fill=\"#000000\" font-family=\"sans-serif\" font-size=\"12\" font-style=\"italic\" lengthAdjust=\"spacingAndGlyphs\" textLength=\"53\" x=\"402\" y=\"129.1387\">«action»</text><text fill=\"#000000\" font-family=\"sans-serif\" font-size=\"12\" lengthAdjust=\"spacingAndGlyphs\" textLength=\"16\" x=\"420.5\" y=\"143.1074\">B1</text><line style=\"stroke: #A80036; stroke-width: 1.5;\" x1=\"402\" x2=\"455\" y1=\"150.9375\" y2=\"150.9375\"/></a><!--MD5=[2156ba9850f5573cc1fc38a6a4b2f02b]\n",
       "class E7--><a href=\"psysml:b7d3ffe5-6bb9-4232-a5c3-5eafb8d0b5f9\" target=\"_top\" title=\"psysml:b7d3ffe5-6bb9-4232-a5c3-5eafb8d0b5f9\" xlink:actuate=\"onRequest\" xlink:href=\"psysml:b7d3ffe5-6bb9-4232-a5c3-5eafb8d0b5f9\" xlink:show=\"new\" xlink:title=\"psysml:b7d3ffe5-6bb9-4232-a5c3-5eafb8d0b5f9\" xlink:type=\"simple\"><rect fill=\"#FEFECE\" filter=\"url(#f1rjcsbxixa3et)\" height=\"45.9375\" id=\"E7\" rx=\"10\" ry=\"10\" style=\"stroke: #A80036; stroke-width: 1.5;\" width=\"55\" x=\"491\" y=\"113\"/><text fill=\"#000000\" font-family=\"sans-serif\" font-size=\"12\" font-style=\"italic\" lengthAdjust=\"spacingAndGlyphs\" textLength=\"53\" x=\"492\" y=\"129.1387\">«action»</text><text fill=\"#000000\" font-family=\"sans-serif\" font-size=\"12\" lengthAdjust=\"spacingAndGlyphs\" textLength=\"16\" x=\"510.5\" y=\"143.1074\">B2</text><line style=\"stroke: #A80036; stroke-width: 1.5;\" x1=\"492\" x2=\"545\" y1=\"150.9375\" y2=\"150.9375\"/></a><!--MD5=[a523cb2a0b79ecf9065ad8783f96c320]\n",
       "reverse link E1 to E2--><a href=\"psysml:090da899-d633-4f68-ac70-93df987c1f89\" target=\"_top\" title=\"psysml:090da899-d633-4f68-ac70-93df987c1f89\" xlink:actuate=\"onRequest\" xlink:href=\"psysml:090da899-d633-4f68-ac70-93df987c1f89\" xlink:show=\"new\" xlink:title=\"psysml:090da899-d633-4f68-ac70-93df987c1f89\" xlink:type=\"simple\"><path d=\"M207.75,58.2 C169.81,73.72 121.76,93.85 79.5,113 C73.96,115.51 68.08,118.3 62.47,121.01 \" fill=\"none\" id=\"E1&lt;-E2\" style=\"stroke: #A80036; stroke-width: 1.0;\"/><polygon fill=\"#A80036\" points=\"220.21,53.12,213.1443,51.6791,209.0967,57.6471,216.1624,59.088,220.21,53.12\" style=\"stroke: #A80036; stroke-width: 1.0;\"/><text fill=\"#000000\" font-family=\"sans-serif\" font-size=\"13\" lengthAdjust=\"spacingAndGlyphs\" textLength=\"7\" x=\"70.1408\" y=\"112.6188\">*</text></a><!--MD5=[5d7b3810b1dd9b5164bea1151b29b665]\n",
       "reverse link E1 to E3--><a href=\"psysml:797c4c3c-8cfb-4ed1-914f-99d654db3cec\" target=\"_top\" title=\"psysml:797c4c3c-8cfb-4ed1-914f-99d654db3cec\" xlink:actuate=\"onRequest\" xlink:href=\"psysml:797c4c3c-8cfb-4ed1-914f-99d654db3cec\" xlink:show=\"new\" xlink:title=\"psysml:797c4c3c-8cfb-4ed1-914f-99d654db3cec\" xlink:type=\"simple\"><path d=\"M232.52,60.6 C206.81,78.31 174.87,100.31 152.42,115.77 \" fill=\"none\" id=\"E1&lt;-E3\" style=\"stroke: #A80036; stroke-width: 1.0;\"/><polygon fill=\"#A80036\" points=\"243.48,53.06,236.2697,53.1655,233.5938,59.8617,240.8041,59.7562,243.48,53.06\" style=\"stroke: #A80036; stroke-width: 1.0;\"/><text fill=\"#000000\" font-family=\"sans-serif\" font-size=\"13\" lengthAdjust=\"spacingAndGlyphs\" textLength=\"7\" x=\"160.0786\" y=\"106.1015\">*</text></a><!--MD5=[f2c5c03aa1e8c0ba21c10a05e6444b8e]\n",
       "reverse link E1 to E4--><a href=\"psysml:70a466ea-83ad-4e19-afa5-d192b13fd9c7\" target=\"_top\" title=\"psysml:70a466ea-83ad-4e19-afa5-d192b13fd9c7\" xlink:actuate=\"onRequest\" xlink:href=\"psysml:70a466ea-83ad-4e19-afa5-d192b13fd9c7\" xlink:show=\"new\" xlink:title=\"psysml:70a466ea-83ad-4e19-afa5-d192b13fd9c7\" xlink:type=\"simple\"><path d=\"M258.16,65.03 C250.13,80.78 240.82,99.06 233.72,112.98 \" fill=\"none\" id=\"E1&lt;-E4\" style=\"stroke: #A80036; stroke-width: 1.0;\"/><polygon fill=\"#A80036\" points=\"264.26,53.06,257.9728,56.5915,258.8145,63.7533,265.1017,60.2218,264.26,53.06\" style=\"stroke: #A80036; stroke-width: 1.0;\"/></a><!--MD5=[33238bef88d6431a141d8bc8fb12bca0]\n",
       "reverse link E1 to E5--><a href=\"psysml:26253911-6243-446d-b791-23c0e42b91a5\" target=\"_top\" title=\"psysml:26253911-6243-446d-b791-23c0e42b91a5\" xlink:actuate=\"onRequest\" xlink:href=\"psysml:26253911-6243-446d-b791-23c0e42b91a5\" xlink:show=\"new\" xlink:title=\"psysml:26253911-6243-446d-b791-23c0e42b91a5\" xlink:type=\"simple\"><path d=\"M293.17,65.03 C301.35,80.78 310.84,99.06 318.06,112.98 \" fill=\"none\" id=\"E1&lt;-E5\" style=\"stroke: #A80036; stroke-width: 1.0;\"/><polygon fill=\"#A80036\" points=\"286.95,53.06,286.1611,60.2278,292.4742,63.7129,293.263,56.545,286.95,53.06\" style=\"stroke: #A80036; stroke-width: 1.0;\"/></a><!--MD5=[aca2ef284c2b1b90e17e73bf3f292c07]\n",
       "reverse link E1 to E6--><a href=\"psysml:e8354a48-cb93-46c3-a69e-19a4acf29f71\" target=\"_top\" title=\"psysml:e8354a48-cb93-46c3-a69e-19a4acf29f71\" xlink:actuate=\"onRequest\" xlink:href=\"psysml:e8354a48-cb93-46c3-a69e-19a4acf29f71\" xlink:show=\"new\" xlink:title=\"psysml:e8354a48-cb93-46c3-a69e-19a4acf29f71\" xlink:type=\"simple\"><path d=\"M318.77,60.41 C345.06,78.28 377.86,100.58 400.72,116.11 \" fill=\"none\" id=\"E1&lt;-E6\" style=\"stroke: #A80036; stroke-width: 1.0;\"/><polygon fill=\"#A80036\" points=\"307.95,53.06,310.6626,59.7415,317.8734,59.8074,315.1608,53.1259,307.95,53.06\" style=\"stroke: #A80036; stroke-width: 1.0;\"/><text fill=\"#000000\" font-family=\"sans-serif\" font-size=\"13\" lengthAdjust=\"spacingAndGlyphs\" textLength=\"7\" x=\"386.0955\" y=\"106.5244\">*</text></a><!--MD5=[fc9706a6b2cf8c0e423679d303750d3f]\n",
       "reverse link E1 to E7--><a href=\"psysml:8dca6daf-962f-46a3-bb74-22037bd04295\" target=\"_top\" title=\"psysml:8dca6daf-962f-46a3-bb74-22037bd04295\" xlink:actuate=\"onRequest\" xlink:href=\"psysml:8dca6daf-962f-46a3-bb74-22037bd04295\" xlink:show=\"new\" xlink:title=\"psysml:8dca6daf-962f-46a3-bb74-22037bd04295\" xlink:type=\"simple\"><path d=\"M343.46,57.93 C381.88,73.46 430.65,93.68 473.5,113 C479.05,115.5 484.93,118.28 490.54,121 \" fill=\"none\" id=\"E1&lt;-E7\" style=\"stroke: #A80036; stroke-width: 1.0;\"/><polygon fill=\"#A80036\" points=\"331.37,53.06,335.4407,59.0122,342.5008,57.544,338.43,51.5917,331.37,53.06\" style=\"stroke: #A80036; stroke-width: 1.0;\"/><text fill=\"#000000\" font-family=\"sans-serif\" font-size=\"13\" lengthAdjust=\"spacingAndGlyphs\" textLength=\"7\" x=\"475.8716\" y=\"112.6063\">*</text></a><!--MD5=[53f02479094bc41b4e492f66399f7f28]\n",
       "@startuml\r\n",
       "skinparam wrapWidth 300\r\n",
       "hide circle\r\n",
       "\r\n",
       "comp def \"ControlNodeTest\" as E1  <<(T,blue) action def>> [[psysml:d75b3c07-b549-4c23-b2aa-d48828b6adea ]] {\r\n",
       "}\r\n",
       "comp usage \"A1\" as E2  <<(T,blue) action>> [[psysml:c07d7274-d0ac-44b0-95a3-e3c0562da237 ]] {\r\n",
       "}\r\n",
       "comp usage \"A2\" as E3  <<(T,blue) action>> [[psysml:7bb05ae1-d1dd-4ff0-97ee-ce3344a0751d ]] {\r\n",
       "}\r\n",
       "comp usage \"J\" as E4  <<(T,blue) joinNode>> [[psysml:f3bfce16-3667-4a48-a42e-fd992fa328bf ]] {\r\n",
       "}\r\n",
       "comp usage \"F\" as E5  <<(T,blue) forkNode>> [[psysml:08c848ef-d5ea-4388-acb9-5b8d01347f10 ]] {\r\n",
       "}\r\n",
       "comp usage \"B1\" as E6  <<(T,blue) action>> [[psysml:d5fd7944-a8f1-4c67-81d3-da10d551f750 ]] {\r\n",
       "}\r\n",
       "comp usage \"B2\" as E7  <<(T,blue) action>> [[psysml:b7d3ffe5-6bb9-4232-a5c3-5eafb8d0b5f9 ]] {\r\n",
       "}\r\n",
       "E1 *- - \"*\"E2 [[psysml:090da899-d633-4f68-ac70-93df987c1f89 ]] \r\n",
       "E1 *- - \"*\"E3 [[psysml:797c4c3c-8cfb-4ed1-914f-99d654db3cec ]] \r\n",
       "E1 *- - E4 [[psysml:70a466ea-83ad-4e19-afa5-d192b13fd9c7 ]] \r\n",
       "E1 *- - E5 [[psysml:26253911-6243-446d-b791-23c0e42b91a5 ]] \r\n",
       "E1 *- - \"*\"E6 [[psysml:e8354a48-cb93-46c3-a69e-19a4acf29f71 ]] \r\n",
       "E1 *- - \"*\"E7 [[psysml:8dca6daf-962f-46a3-bb74-22037bd04295 ]] \r\n",
       "@enduml\r\n",
       "\n",
       "PlantUML version 1.2020.13(Sat Jun 13 12:26:38 UTC 2020)\n",
       "(EPL source distribution)\n",
       "Java Runtime: OpenJDK Runtime Environment\n",
       "JVM: OpenJDK 64-Bit Server VM\n",
       "Default Encoding: UTF-8\n",
       "Language: en\n",
       "Country: null\n",
       "--></g></svg>"
      ]
     },
     "execution_count": 28,
     "metadata": {},
     "output_type": "execute_result"
    }
   ],
   "source": [
    "%viz --style=\"STDCOLOR\" --view=\"Sequence\" \"ControlNodeTest\""
   ]
  },
  {
   "cell_type": "code",
   "execution_count": 29,
   "id": "0f05bc8f",
   "metadata": {
    "execution": {
     "iopub.execute_input": "2021-08-04T06:26:31.014388Z",
     "iopub.status.busy": "2021-08-04T06:26:31.013985Z",
     "iopub.status.idle": "2021-08-04T06:26:31.047066Z",
     "shell.execute_reply": "2021-08-04T06:26:31.046870Z"
    }
   },
   "outputs": [
    {
     "data": {
      "image/svg+xml": [
       "<?xml version=\"1.0\" encoding=\"UTF-8\" standalone=\"no\"?><svg xmlns=\"http://www.w3.org/2000/svg\" xmlns:xlink=\"http://www.w3.org/1999/xlink\" contentScriptType=\"application/ecmascript\" contentStyleType=\"text/css\" height=\"375px\" preserveAspectRatio=\"none\" style=\"width:213px;height:375px;\" version=\"1.1\" viewBox=\"0 0 213 375\" width=\"213px\" zoomAndPan=\"magnify\"><defs><filter height=\"300%\" id=\"fvxpow7ghdlrl\" width=\"300%\" x=\"-1\" y=\"-1\"><feGaussianBlur result=\"blurOut\" stdDeviation=\"2.0\"/><feColorMatrix in=\"blurOut\" result=\"blurOut2\" type=\"matrix\" values=\"0 0 0 0 0 0 0 0 0 0 0 0 0 0 0 0 0 0 .4 0\"/><feOffset dx=\"4.0\" dy=\"4.0\" in=\"blurOut2\" result=\"blurOut3\"/><feBlend in=\"SourceGraphic\" in2=\"blurOut3\" mode=\"normal\"/></filter></defs><g><!--MD5=[fbc87193dbaf4d95561dea2c320d4a47]\n",
       "cluster E1--><a href=\"psysml:d75b3c07-b549-4c23-b2aa-d48828b6adea\" target=\"_top\" title=\"psysml:d75b3c07-b549-4c23-b2aa-d48828b6adea\" xlink:actuate=\"onRequest\" xlink:href=\"psysml:d75b3c07-b549-4c23-b2aa-d48828b6adea\" xlink:show=\"new\" xlink:title=\"psysml:d75b3c07-b549-4c23-b2aa-d48828b6adea\" xlink:type=\"simple\"><rect fill=\"#FFFFFF\" filter=\"url(#fvxpow7ghdlrl)\" height=\"349\" id=\"E1\" style=\"stroke: #A80036; stroke-width: 1.5;\" width=\"187\" x=\"7\" y=\"7\"/><rect fill=\"#FEFECE\" height=\"37.9375\" style=\"stroke: #A80036; stroke-width: 1.5;\" width=\"187\" x=\"7\" y=\"7\"/><text fill=\"#000000\" font-family=\"sans-serif\" font-size=\"12\" font-style=\"italic\" lengthAdjust=\"spacingAndGlyphs\" textLength=\"77\" x=\"62\" y=\"23.1387\">«action def»</text><text fill=\"#000000\" font-family=\"sans-serif\" font-size=\"12\" lengthAdjust=\"spacingAndGlyphs\" textLength=\"105\" x=\"48\" y=\"37.1074\">ControlNodeTest</text></a><rect fill=\"#000000\" filter=\"url(#fvxpow7ghdlrl)\" height=\"8\" style=\"stroke: none; stroke-width: 1.0;\" width=\"80\" x=\"60\" y=\"161\"/><rect fill=\"#000000\" filter=\"url(#fvxpow7ghdlrl)\" height=\"8\" style=\"stroke: none; stroke-width: 1.0;\" width=\"80\" x=\"60\" y=\"229\"/><g id=\"E1.E2\"><a href=\"psysml:c07d7274-d0ac-44b0-95a3-e3c0562da237\" target=\"_top\" title=\"psysml:c07d7274-d0ac-44b0-95a3-e3c0562da237\" xlink:actuate=\"onRequest\" xlink:href=\"psysml:c07d7274-d0ac-44b0-95a3-e3c0562da237\" xlink:show=\"new\" xlink:title=\"psysml:c07d7274-d0ac-44b0-95a3-e3c0562da237\" xlink:type=\"simple\"><rect fill=\"#FEFECE\" filter=\"url(#fvxpow7ghdlrl)\" height=\"42.9375\" id=\"E2\" rx=\"10\" ry=\"10\" style=\"stroke: #A80036; stroke-width: 1.5;\" width=\"60\" x=\"118\" y=\"58\"/><text fill=\"#000000\" font-family=\"sans-serif\" font-size=\"12\" font-style=\"italic\" lengthAdjust=\"spacingAndGlyphs\" textLength=\"53\" x=\"121.5\" y=\"74.1387\">«action»</text><text fill=\"#000000\" font-family=\"sans-serif\" font-size=\"12\" lengthAdjust=\"spacingAndGlyphs\" textLength=\"16\" x=\"140\" y=\"88.1074\">A1</text></a></g><g id=\"E1.E3\"><a href=\"psysml:7bb05ae1-d1dd-4ff0-97ee-ce3344a0751d\" target=\"_top\" title=\"psysml:7bb05ae1-d1dd-4ff0-97ee-ce3344a0751d\" xlink:actuate=\"onRequest\" xlink:href=\"psysml:7bb05ae1-d1dd-4ff0-97ee-ce3344a0751d\" xlink:show=\"new\" xlink:title=\"psysml:7bb05ae1-d1dd-4ff0-97ee-ce3344a0751d\" xlink:type=\"simple\"><rect fill=\"#FEFECE\" filter=\"url(#fvxpow7ghdlrl)\" height=\"42.9375\" id=\"E3\" rx=\"10\" ry=\"10\" style=\"stroke: #A80036; stroke-width: 1.5;\" width=\"60\" x=\"23\" y=\"58\"/><text fill=\"#000000\" font-family=\"sans-serif\" font-size=\"12\" font-style=\"italic\" lengthAdjust=\"spacingAndGlyphs\" textLength=\"53\" x=\"26.5\" y=\"74.1387\">«action»</text><text fill=\"#000000\" font-family=\"sans-serif\" font-size=\"12\" lengthAdjust=\"spacingAndGlyphs\" textLength=\"16\" x=\"45\" y=\"88.1074\">A2</text></a></g><g id=\"E1.E6\"><a href=\"psysml:d5fd7944-a8f1-4c67-81d3-da10d551f750\" target=\"_top\" title=\"psysml:d5fd7944-a8f1-4c67-81d3-da10d551f750\" xlink:actuate=\"onRequest\" xlink:href=\"psysml:d5fd7944-a8f1-4c67-81d3-da10d551f750\" xlink:show=\"new\" xlink:title=\"psysml:d5fd7944-a8f1-4c67-81d3-da10d551f750\" xlink:type=\"simple\"><rect fill=\"#FEFECE\" filter=\"url(#fvxpow7ghdlrl)\" height=\"42.9375\" id=\"E6\" rx=\"10\" ry=\"10\" style=\"stroke: #A80036; stroke-width: 1.5;\" width=\"60\" x=\"23\" y=\"297\"/><text fill=\"#000000\" font-family=\"sans-serif\" font-size=\"12\" font-style=\"italic\" lengthAdjust=\"spacingAndGlyphs\" textLength=\"53\" x=\"26.5\" y=\"313.1387\">«action»</text><text fill=\"#000000\" font-family=\"sans-serif\" font-size=\"12\" lengthAdjust=\"spacingAndGlyphs\" textLength=\"16\" x=\"45\" y=\"327.1074\">B1</text></a></g><g id=\"E1.E7\"><a href=\"psysml:b7d3ffe5-6bb9-4232-a5c3-5eafb8d0b5f9\" target=\"_top\" title=\"psysml:b7d3ffe5-6bb9-4232-a5c3-5eafb8d0b5f9\" xlink:actuate=\"onRequest\" xlink:href=\"psysml:b7d3ffe5-6bb9-4232-a5c3-5eafb8d0b5f9\" xlink:show=\"new\" xlink:title=\"psysml:b7d3ffe5-6bb9-4232-a5c3-5eafb8d0b5f9\" xlink:type=\"simple\"><rect fill=\"#FEFECE\" filter=\"url(#fvxpow7ghdlrl)\" height=\"42.9375\" id=\"E7\" rx=\"10\" ry=\"10\" style=\"stroke: #A80036; stroke-width: 1.5;\" width=\"60\" x=\"118\" y=\"297\"/><text fill=\"#000000\" font-family=\"sans-serif\" font-size=\"12\" font-style=\"italic\" lengthAdjust=\"spacingAndGlyphs\" textLength=\"53\" x=\"121.5\" y=\"313.1387\">«action»</text><text fill=\"#000000\" font-family=\"sans-serif\" font-size=\"12\" lengthAdjust=\"spacingAndGlyphs\" textLength=\"16\" x=\"140\" y=\"327.1074\">B2</text></a></g><!--MD5=[4d03bb2d0377dc85ccfab60ff574652b]\n",
       "link E2 to E4--><a href=\"psysml:a5b917a3-7538-4e28-aa62-755107929dae\" target=\"_top\" title=\"psysml:a5b917a3-7538-4e28-aa62-755107929dae\" xlink:actuate=\"onRequest\" xlink:href=\"psysml:a5b917a3-7538-4e28-aa62-755107929dae\" xlink:show=\"new\" xlink:title=\"psysml:a5b917a3-7538-4e28-aa62-755107929dae\" xlink:type=\"simple\"><path d=\"M136.13,101.14 C125.84,119.06 111.49,144.01 104.37,156.4 \" fill=\"none\" id=\"E2-&gt;E4\" style=\"stroke: #A80036; stroke-width: 1.0;\"/><polygon fill=\"#A80036\" points=\"101.79,160.88,109.7406,155.0673,104.2799,156.5441,102.8031,151.0834,101.79,160.88\" style=\"stroke: #A80036; stroke-width: 1.0;\"/><text fill=\"#000000\" font-family=\"sans-serif\" font-size=\"13\" lengthAdjust=\"spacingAndGlyphs\" textLength=\"7\" x=\"93.6144\" y=\"150.0038\">*</text></a><!--MD5=[af87c684e3b0d8be13c1a698a818ef1e]\n",
       "link E3 to E4--><a href=\"psysml:b67a9087-1129-4a2e-aba3-334d88c3cbf2\" target=\"_top\" title=\"psysml:b67a9087-1129-4a2e-aba3-334d88c3cbf2\" xlink:actuate=\"onRequest\" xlink:href=\"psysml:b67a9087-1129-4a2e-aba3-334d88c3cbf2\" xlink:show=\"new\" xlink:title=\"psysml:b67a9087-1129-4a2e-aba3-334d88c3cbf2\" xlink:type=\"simple\"><path d=\"M64.62,101.14 C74.7,119.06 88.75,144.01 95.72,156.4 \" fill=\"none\" id=\"E3-&gt;E4\" style=\"stroke: #A80036; stroke-width: 1.0;\"/><polygon fill=\"#A80036\" points=\"98.25,160.88,97.3377,151.0735,95.8048,156.5187,90.3596,154.9858,98.25,160.88\" style=\"stroke: #A80036; stroke-width: 1.0;\"/><text fill=\"#000000\" font-family=\"sans-serif\" font-size=\"13\" lengthAdjust=\"spacingAndGlyphs\" textLength=\"7\" x=\"99.4531\" y=\"150.0038\">*</text></a><!--MD5=[1b7591eae5389033d8d09a9d6721a717]\n",
       "link E4 to E5--><a href=\"psysml:9a17080e-ae46-40d4-b989-796f716175e4\" target=\"_top\" title=\"psysml:9a17080e-ae46-40d4-b989-796f716175e4\" xlink:actuate=\"onRequest\" xlink:href=\"psysml:9a17080e-ae46-40d4-b989-796f716175e4\" xlink:show=\"new\" xlink:title=\"psysml:9a17080e-ae46-40d4-b989-796f716175e4\" xlink:type=\"simple\"><path d=\"M100,169.18 C100,178.92 100,208.52 100,223.34 \" fill=\"none\" id=\"E4-&gt;E5\" style=\"stroke: #A80036; stroke-width: 1.0;\"/><polygon fill=\"#A80036\" points=\"100,228.69,104,219.69,100,223.69,96,219.69,100,228.69\" style=\"stroke: #A80036; stroke-width: 1.0;\"/><text fill=\"#000000\" font-family=\"sans-serif\" font-size=\"13\" lengthAdjust=\"spacingAndGlyphs\" textLength=\"7\" x=\"90.6813\" y=\"217.9768\">*</text></a><!--MD5=[9120cf2e5df3bff93db8f754bbbc09b4]\n",
       "link E5 to E6--><a href=\"psysml:197b427e-ad07-4e53-856c-ed2b1bc0e06a\" target=\"_top\" title=\"psysml:197b427e-ad07-4e53-856c-ed2b1bc0e06a\" xlink:actuate=\"onRequest\" xlink:href=\"psysml:197b427e-ad07-4e53-856c-ed2b1bc0e06a\" xlink:show=\"new\" xlink:title=\"psysml:197b427e-ad07-4e53-856c-ed2b1bc0e06a\" xlink:type=\"simple\"><path d=\"M98.21,237.17 C93.16,246.14 78.41,272.36 67.11,292.43 \" fill=\"none\" id=\"E5-&gt;E6\" style=\"stroke: #A80036; stroke-width: 1.0;\"/><polygon fill=\"#A80036\" points=\"64.61,296.87,72.5151,290.9955,67.0661,292.5148,65.5467,287.0658,64.61,296.87\" style=\"stroke: #A80036; stroke-width: 1.0;\"/><text fill=\"#000000\" font-family=\"sans-serif\" font-size=\"13\" lengthAdjust=\"spacingAndGlyphs\" textLength=\"7\" x=\"59.8909\" y=\"285.7715\">*</text></a><!--MD5=[3a9b96bfbf6b6ad89c494e81751bda47]\n",
       "link E5 to E7--><a href=\"psysml:b67e977c-71d2-45f4-9959-07a509bb3c26\" target=\"_top\" title=\"psysml:b67e977c-71d2-45f4-9959-07a509bb3c26\" xlink:actuate=\"onRequest\" xlink:href=\"psysml:b67e977c-71d2-45f4-9959-07a509bb3c26\" xlink:show=\"new\" xlink:title=\"psysml:b67e977c-71d2-45f4-9959-07a509bb3c26\" xlink:type=\"simple\"><path d=\"M101.82,237.17 C106.98,246.14 122.05,272.36 133.59,292.43 \" fill=\"none\" id=\"E5-&gt;E7\" style=\"stroke: #A80036; stroke-width: 1.0;\"/><polygon fill=\"#A80036\" points=\"136.14,296.87,135.1269,287.0734,133.6501,292.5341,128.1894,291.0573,136.14,296.87\" style=\"stroke: #A80036; stroke-width: 1.0;\"/><text fill=\"#000000\" font-family=\"sans-serif\" font-size=\"13\" lengthAdjust=\"spacingAndGlyphs\" textLength=\"7\" x=\"124.82\" y=\"285.7715\">*</text></a><!--MD5=[5b5d62bfb98e8c08f737a39cd431cec4]\n",
       "@startuml\r\n",
       "skinparam wrapWidth 300\r\n",
       "hide circle\r\n",
       "\r\n",
       "rec def \"ControlNodeTest\" as E1  <<(T,blue) action def>> [[psysml:d75b3c07-b549-4c23-b2aa-d48828b6adea ]] {\r\n",
       "rec usage \"A1\" as E2  <<(T,blue) action>> [[psysml:c07d7274-d0ac-44b0-95a3-e3c0562da237 ]] {\r\n",
       "}\r\n",
       "\r\n",
       "rec usage \"A2\" as E3  <<(T,blue) action>> [[psysml:7bb05ae1-d1dd-4ff0-97ee-ce3344a0751d ]] {\r\n",
       "}\r\n",
       "\r\n",
       "join \"J\" as E4  [[psysml:f3bfce16-3667-4a48-a42e-fd992fa328bf ]] \r\n",
       "fork \"F\" as E5  [[psysml:08c848ef-d5ea-4388-acb9-5b8d01347f10 ]] \r\n",
       "rec usage \"B1\" as E6  <<(T,blue) action>> [[psysml:d5fd7944-a8f1-4c67-81d3-da10d551f750 ]] {\r\n",
       "}\r\n",
       "\r\n",
       "rec usage \"B2\" as E7  <<(T,blue) action>> [[psysml:b7d3ffe5-6bb9-4232-a5c3-5eafb8d0b5f9 ]] {\r\n",
       "}\r\n",
       "\r\n",
       "}\r\n",
       "\r\n",
       "E2 - -> \"*\"E4 [[psysml:a5b917a3-7538-4e28-aa62-755107929dae ]] \r\n",
       "E3 - -> \"*\"E4 [[psysml:b67a9087-1129-4a2e-aba3-334d88c3cbf2 ]] \r\n",
       "E4 - -> \"*\"E5 [[psysml:9a17080e-ae46-40d4-b989-796f716175e4 ]] \r\n",
       "E5 - -> \"*\"E6 [[psysml:197b427e-ad07-4e53-856c-ed2b1bc0e06a ]] \r\n",
       "E5 - -> \"*\"E7 [[psysml:b67e977c-71d2-45f4-9959-07a509bb3c26 ]] \r\n",
       "@enduml\r\n",
       "\n",
       "PlantUML version 1.2020.13(Sat Jun 13 12:26:38 UTC 2020)\n",
       "(EPL source distribution)\n",
       "Java Runtime: OpenJDK Runtime Environment\n",
       "JVM: OpenJDK 64-Bit Server VM\n",
       "Default Encoding: UTF-8\n",
       "Language: en\n",
       "Country: null\n",
       "--></g></svg>"
      ]
     },
     "execution_count": 29,
     "metadata": {},
     "output_type": "execute_result"
    }
   ],
   "source": [
    "%viz --style=\"STDCOLOR\" --view=\"MIXED\" \"ControlNodeTest\""
   ]
  },
  {
   "cell_type": "code",
   "execution_count": 30,
   "id": "479262fe",
   "metadata": {
    "execution": {
     "iopub.execute_input": "2021-08-04T06:26:31.097063Z",
     "iopub.status.busy": "2021-08-04T06:26:31.096814Z",
     "iopub.status.idle": "2021-08-04T06:26:31.135817Z",
     "shell.execute_reply": "2021-08-04T06:26:31.135166Z"
    }
   },
   "outputs": [
    {
     "data": {
      "image/svg+xml": [
       "<?xml version=\"1.0\" encoding=\"UTF-8\" standalone=\"no\"?><svg xmlns=\"http://www.w3.org/2000/svg\" xmlns:xlink=\"http://www.w3.org/1999/xlink\" contentScriptType=\"application/ecmascript\" contentStyleType=\"text/css\" height=\"375px\" preserveAspectRatio=\"none\" style=\"width:265px;height:375px;\" version=\"1.1\" viewBox=\"0 0 265 375\" width=\"265px\" zoomAndPan=\"magnify\"><defs><filter height=\"300%\" id=\"fad7xciko9t62\" width=\"300%\" x=\"-1\" y=\"-1\"><feGaussianBlur result=\"blurOut\" stdDeviation=\"2.0\"/><feColorMatrix in=\"blurOut\" result=\"blurOut2\" type=\"matrix\" values=\"0 0 0 0 0 0 0 0 0 0 0 0 0 0 0 0 0 0 .4 0\"/><feOffset dx=\"4.0\" dy=\"4.0\" in=\"blurOut2\" result=\"blurOut3\"/><feBlend in=\"SourceGraphic\" in2=\"blurOut3\" mode=\"normal\"/></filter></defs><g><!--MD5=[fbc87193dbaf4d95561dea2c320d4a47]\n",
       "cluster E1--><a href=\"psysml:d75b3c07-b549-4c23-b2aa-d48828b6adea\" target=\"_top\" title=\"psysml:d75b3c07-b549-4c23-b2aa-d48828b6adea\" xlink:actuate=\"onRequest\" xlink:href=\"psysml:d75b3c07-b549-4c23-b2aa-d48828b6adea\" xlink:show=\"new\" xlink:title=\"psysml:d75b3c07-b549-4c23-b2aa-d48828b6adea\" xlink:type=\"simple\"><rect fill=\"#FFFFFF\" filter=\"url(#fad7xciko9t62)\" height=\"349\" id=\"E1\" style=\"stroke: #A80036; stroke-width: 1.5;\" width=\"239\" x=\"7\" y=\"7\"/><rect fill=\"#FEFECE\" height=\"37.9375\" style=\"stroke: #A80036; stroke-width: 1.5;\" width=\"239\" x=\"7\" y=\"7\"/><text fill=\"#000000\" font-family=\"sans-serif\" font-size=\"12\" font-style=\"italic\" lengthAdjust=\"spacingAndGlyphs\" textLength=\"77\" x=\"88\" y=\"23.1387\">«action def»</text><text fill=\"#000000\" font-family=\"sans-serif\" font-size=\"12\" lengthAdjust=\"spacingAndGlyphs\" textLength=\"105\" x=\"74\" y=\"37.1074\">ControlNodeTest</text></a><rect fill=\"#000000\" filter=\"url(#fad7xciko9t62)\" height=\"8\" style=\"stroke: none; stroke-width: 1.0;\" width=\"80\" x=\"86\" y=\"161\"/><rect fill=\"#000000\" filter=\"url(#fad7xciko9t62)\" height=\"8\" style=\"stroke: none; stroke-width: 1.0;\" width=\"80\" x=\"86\" y=\"229\"/><g id=\"E1.E2\"><a href=\"psysml:c07d7274-d0ac-44b0-95a3-e3c0562da237\" target=\"_top\" title=\"psysml:c07d7274-d0ac-44b0-95a3-e3c0562da237\" xlink:actuate=\"onRequest\" xlink:href=\"psysml:c07d7274-d0ac-44b0-95a3-e3c0562da237\" xlink:show=\"new\" xlink:title=\"psysml:c07d7274-d0ac-44b0-95a3-e3c0562da237\" xlink:type=\"simple\"><rect fill=\"#FEFECE\" filter=\"url(#fad7xciko9t62)\" height=\"42.9375\" id=\"E2\" rx=\"10\" ry=\"10\" style=\"stroke: #A80036; stroke-width: 1.5;\" width=\"86\" x=\"144\" y=\"58\"/><ellipse cx=\"161.25\" cy=\"76.9688\" fill=\"#FFA500\" rx=\"11\" ry=\"11\" style=\"stroke: #A80036; stroke-width: 1.0;\"/><path d=\"M157.125,78.8906 L157.125,71.0781 L159.5781,71.0781 L159.5781,79.5156 Q159.5781,80.4375 160.0469,80.9688 Q160.5313,81.5 161.3594,81.5 Q162.2031,81.5 162.6719,80.9688 Q163.1406,80.4375 163.1406,79.5156 L163.1406,71.0781 L165.5938,71.0781 L165.5938,78.8906 Q165.5938,81.4219 164.5938,82.5625 Q163.5938,83.7031 161.3594,83.7031 Q159.1406,83.7031 158.125,82.5625 Q157.125,81.4219 157.125,78.8906 Z \"/><text fill=\"#000000\" font-family=\"sans-serif\" font-size=\"12\" font-style=\"italic\" lengthAdjust=\"spacingAndGlyphs\" textLength=\"53\" x=\"173.75\" y=\"74.1387\">«action»</text><text fill=\"#000000\" font-family=\"sans-serif\" font-size=\"12\" lengthAdjust=\"spacingAndGlyphs\" textLength=\"16\" x=\"192.25\" y=\"88.1074\">A1</text></a></g><g id=\"E1.E3\"><a href=\"psysml:7bb05ae1-d1dd-4ff0-97ee-ce3344a0751d\" target=\"_top\" title=\"psysml:7bb05ae1-d1dd-4ff0-97ee-ce3344a0751d\" xlink:actuate=\"onRequest\" xlink:href=\"psysml:7bb05ae1-d1dd-4ff0-97ee-ce3344a0751d\" xlink:show=\"new\" xlink:title=\"psysml:7bb05ae1-d1dd-4ff0-97ee-ce3344a0751d\" xlink:type=\"simple\"><rect fill=\"#FEFECE\" filter=\"url(#fad7xciko9t62)\" height=\"42.9375\" id=\"E3\" rx=\"10\" ry=\"10\" style=\"stroke: #A80036; stroke-width: 1.5;\" width=\"86\" x=\"23\" y=\"58\"/><ellipse cx=\"40.25\" cy=\"76.9688\" fill=\"#FFA500\" rx=\"11\" ry=\"11\" style=\"stroke: #A80036; stroke-width: 1.0;\"/><path d=\"M36.125,78.8906 L36.125,71.0781 L38.5781,71.0781 L38.5781,79.5156 Q38.5781,80.4375 39.0469,80.9688 Q39.5313,81.5 40.3594,81.5 Q41.2031,81.5 41.6719,80.9688 Q42.1406,80.4375 42.1406,79.5156 L42.1406,71.0781 L44.5938,71.0781 L44.5938,78.8906 Q44.5938,81.4219 43.5938,82.5625 Q42.5938,83.7031 40.3594,83.7031 Q38.1406,83.7031 37.125,82.5625 Q36.125,81.4219 36.125,78.8906 Z \"/><text fill=\"#000000\" font-family=\"sans-serif\" font-size=\"12\" font-style=\"italic\" lengthAdjust=\"spacingAndGlyphs\" textLength=\"53\" x=\"52.75\" y=\"74.1387\">«action»</text><text fill=\"#000000\" font-family=\"sans-serif\" font-size=\"12\" lengthAdjust=\"spacingAndGlyphs\" textLength=\"16\" x=\"71.25\" y=\"88.1074\">A2</text></a></g><g id=\"E1.E6\"><a href=\"psysml:d5fd7944-a8f1-4c67-81d3-da10d551f750\" target=\"_top\" title=\"psysml:d5fd7944-a8f1-4c67-81d3-da10d551f750\" xlink:actuate=\"onRequest\" xlink:href=\"psysml:d5fd7944-a8f1-4c67-81d3-da10d551f750\" xlink:show=\"new\" xlink:title=\"psysml:d5fd7944-a8f1-4c67-81d3-da10d551f750\" xlink:type=\"simple\"><rect fill=\"#FEFECE\" filter=\"url(#fad7xciko9t62)\" height=\"42.9375\" id=\"E6\" rx=\"10\" ry=\"10\" style=\"stroke: #A80036; stroke-width: 1.5;\" width=\"86\" x=\"23\" y=\"297\"/><ellipse cx=\"40.25\" cy=\"315.9688\" fill=\"#FFA500\" rx=\"11\" ry=\"11\" style=\"stroke: #A80036; stroke-width: 1.0;\"/><path d=\"M36.125,317.8906 L36.125,310.0781 L38.5781,310.0781 L38.5781,318.5156 Q38.5781,319.4375 39.0469,319.9688 Q39.5313,320.5 40.3594,320.5 Q41.2031,320.5 41.6719,319.9688 Q42.1406,319.4375 42.1406,318.5156 L42.1406,310.0781 L44.5938,310.0781 L44.5938,317.8906 Q44.5938,320.4219 43.5938,321.5625 Q42.5938,322.7031 40.3594,322.7031 Q38.1406,322.7031 37.125,321.5625 Q36.125,320.4219 36.125,317.8906 Z \"/><text fill=\"#000000\" font-family=\"sans-serif\" font-size=\"12\" font-style=\"italic\" lengthAdjust=\"spacingAndGlyphs\" textLength=\"53\" x=\"52.75\" y=\"313.1387\">«action»</text><text fill=\"#000000\" font-family=\"sans-serif\" font-size=\"12\" lengthAdjust=\"spacingAndGlyphs\" textLength=\"16\" x=\"71.25\" y=\"327.1074\">B1</text></a></g><g id=\"E1.E7\"><a href=\"psysml:b7d3ffe5-6bb9-4232-a5c3-5eafb8d0b5f9\" target=\"_top\" title=\"psysml:b7d3ffe5-6bb9-4232-a5c3-5eafb8d0b5f9\" xlink:actuate=\"onRequest\" xlink:href=\"psysml:b7d3ffe5-6bb9-4232-a5c3-5eafb8d0b5f9\" xlink:show=\"new\" xlink:title=\"psysml:b7d3ffe5-6bb9-4232-a5c3-5eafb8d0b5f9\" xlink:type=\"simple\"><rect fill=\"#FEFECE\" filter=\"url(#fad7xciko9t62)\" height=\"42.9375\" id=\"E7\" rx=\"10\" ry=\"10\" style=\"stroke: #A80036; stroke-width: 1.5;\" width=\"86\" x=\"144\" y=\"297\"/><ellipse cx=\"161.25\" cy=\"315.9688\" fill=\"#FFA500\" rx=\"11\" ry=\"11\" style=\"stroke: #A80036; stroke-width: 1.0;\"/><path d=\"M157.125,317.8906 L157.125,310.0781 L159.5781,310.0781 L159.5781,318.5156 Q159.5781,319.4375 160.0469,319.9688 Q160.5313,320.5 161.3594,320.5 Q162.2031,320.5 162.6719,319.9688 Q163.1406,319.4375 163.1406,318.5156 L163.1406,310.0781 L165.5938,310.0781 L165.5938,317.8906 Q165.5938,320.4219 164.5938,321.5625 Q163.5938,322.7031 161.3594,322.7031 Q159.1406,322.7031 158.125,321.5625 Q157.125,320.4219 157.125,317.8906 Z \"/><text fill=\"#000000\" font-family=\"sans-serif\" font-size=\"12\" font-style=\"italic\" lengthAdjust=\"spacingAndGlyphs\" textLength=\"53\" x=\"173.75\" y=\"313.1387\">«action»</text><text fill=\"#000000\" font-family=\"sans-serif\" font-size=\"12\" lengthAdjust=\"spacingAndGlyphs\" textLength=\"16\" x=\"192.25\" y=\"327.1074\">B2</text></a></g><!--MD5=[4d03bb2d0377dc85ccfab60ff574652b]\n",
       "link E2 to E4--><a href=\"psysml:a5b917a3-7538-4e28-aa62-755107929dae\" target=\"_top\" title=\"psysml:a5b917a3-7538-4e28-aa62-755107929dae\" xlink:actuate=\"onRequest\" xlink:href=\"psysml:a5b917a3-7538-4e28-aa62-755107929dae\" xlink:show=\"new\" xlink:title=\"psysml:a5b917a3-7538-4e28-aa62-755107929dae\" xlink:type=\"simple\"><path d=\"M171.92,101.14 C158.72,119.22 140.27,144.46 131.31,156.73 \" fill=\"none\" id=\"E2-&gt;E4\" style=\"stroke: #A80036; stroke-width: 1.0;\"/><polygon fill=\"#A80036\" points=\"128.28,160.88,136.8219,155.9773,131.2319,156.8444,130.3648,151.2543,128.28,160.88\" style=\"stroke: #A80036; stroke-width: 1.0;\"/><text fill=\"#000000\" font-family=\"sans-serif\" font-size=\"13\" lengthAdjust=\"spacingAndGlyphs\" textLength=\"7\" x=\"120.4413\" y=\"150.0038\">*</text></a><!--MD5=[af87c684e3b0d8be13c1a698a818ef1e]\n",
       "link E3 to E4--><a href=\"psysml:b67a9087-1129-4a2e-aba3-334d88c3cbf2\" target=\"_top\" title=\"psysml:b67a9087-1129-4a2e-aba3-334d88c3cbf2\" xlink:actuate=\"onRequest\" xlink:href=\"psysml:b67a9087-1129-4a2e-aba3-334d88c3cbf2\" xlink:show=\"new\" xlink:title=\"psysml:b67a9087-1129-4a2e-aba3-334d88c3cbf2\" xlink:type=\"simple\"><path d=\"M80.83,101.14 C93.82,119.22 111.96,144.46 120.78,156.73 \" fill=\"none\" id=\"E3-&gt;E4\" style=\"stroke: #A80036; stroke-width: 1.0;\"/><polygon fill=\"#A80036\" points=\"123.76,160.88,121.7581,151.2367,120.843,156.8191,115.2607,155.9039,123.76,160.88\" style=\"stroke: #A80036; stroke-width: 1.0;\"/><text fill=\"#000000\" font-family=\"sans-serif\" font-size=\"13\" lengthAdjust=\"spacingAndGlyphs\" textLength=\"7\" x=\"112.8138\" y=\"150.0038\">*</text></a><!--MD5=[1b7591eae5389033d8d09a9d6721a717]\n",
       "link E4 to E5--><a href=\"psysml:9a17080e-ae46-40d4-b989-796f716175e4\" target=\"_top\" title=\"psysml:9a17080e-ae46-40d4-b989-796f716175e4\" xlink:actuate=\"onRequest\" xlink:href=\"psysml:9a17080e-ae46-40d4-b989-796f716175e4\" xlink:show=\"new\" xlink:title=\"psysml:9a17080e-ae46-40d4-b989-796f716175e4\" xlink:type=\"simple\"><path d=\"M126,169.18 C126,178.92 126,208.52 126,223.34 \" fill=\"none\" id=\"E4-&gt;E5\" style=\"stroke: #A80036; stroke-width: 1.0;\"/><polygon fill=\"#A80036\" points=\"126,228.69,130,219.69,126,223.69,122,219.69,126,228.69\" style=\"stroke: #A80036; stroke-width: 1.0;\"/><text fill=\"#000000\" font-family=\"sans-serif\" font-size=\"13\" lengthAdjust=\"spacingAndGlyphs\" textLength=\"7\" x=\"116.6813\" y=\"217.9768\">*</text></a><!--MD5=[9120cf2e5df3bff93db8f754bbbc09b4]\n",
       "link E5 to E6--><a href=\"psysml:197b427e-ad07-4e53-856c-ed2b1bc0e06a\" target=\"_top\" title=\"psysml:197b427e-ad07-4e53-856c-ed2b1bc0e06a\" xlink:actuate=\"onRequest\" xlink:href=\"psysml:197b427e-ad07-4e53-856c-ed2b1bc0e06a\" xlink:show=\"new\" xlink:title=\"psysml:197b427e-ad07-4e53-856c-ed2b1bc0e06a\" xlink:type=\"simple\"><path d=\"M123.72,237.17 C117.25,246.18 98.28,272.58 83.83,292.68 \" fill=\"none\" id=\"E5-&gt;E6\" style=\"stroke: #A80036; stroke-width: 1.0;\"/><polygon fill=\"#A80036\" points=\"80.83,296.87,89.3326,291.8995,83.7496,292.811,82.8381,287.228,80.83,296.87\" style=\"stroke: #A80036; stroke-width: 1.0;\"/><text fill=\"#000000\" font-family=\"sans-serif\" font-size=\"13\" lengthAdjust=\"spacingAndGlyphs\" textLength=\"7\" x=\"77.0166\" y=\"285.7715\">*</text></a><!--MD5=[3a9b96bfbf6b6ad89c494e81751bda47]\n",
       "link E5 to E7--><a href=\"psysml:b67e977c-71d2-45f4-9959-07a509bb3c26\" target=\"_top\" title=\"psysml:b67e977c-71d2-45f4-9959-07a509bb3c26\" xlink:actuate=\"onRequest\" xlink:href=\"psysml:b67e977c-71d2-45f4-9959-07a509bb3c26\" xlink:show=\"new\" xlink:title=\"psysml:b67e977c-71d2-45f4-9959-07a509bb3c26\" xlink:type=\"simple\"><path d=\"M128.32,237.17 C134.9,246.18 154.19,272.58 168.87,292.68 \" fill=\"none\" id=\"E5-&gt;E7\" style=\"stroke: #A80036; stroke-width: 1.0;\"/><polygon fill=\"#A80036\" points=\"171.93,296.87,169.8674,287.2396,168.9874,292.8276,163.3994,291.9476,171.93,296.87\" style=\"stroke: #A80036; stroke-width: 1.0;\"/><text fill=\"#000000\" font-family=\"sans-serif\" font-size=\"13\" lengthAdjust=\"spacingAndGlyphs\" textLength=\"7\" x=\"159.7072\" y=\"285.7715\">*</text></a><!--MD5=[8992922bb7c7f053a1e34bd5eccaa7f0]\n",
       "@startuml\r\n",
       " \r\n",
       "rec def \"ControlNodeTest\" as E1 << <<(B,lemonchiffon) action def>> [[psysml:d75b3c07-b549-4c23-b2aa-d48828b6adea ]] {\r\n",
       "rec usage \"A1\" as E2 << <<(U,orange) action>> [[psysml:c07d7274-d0ac-44b0-95a3-e3c0562da237 ]] {\r\n",
       "}\r\n",
       "\r\n",
       "rec usage \"A2\" as E3 << <<(U,orange) action>> [[psysml:7bb05ae1-d1dd-4ff0-97ee-ce3344a0751d ]] {\r\n",
       "}\r\n",
       "\r\n",
       "join \"J\" as E4  [[psysml:f3bfce16-3667-4a48-a42e-fd992fa328bf ]] \r\n",
       "fork \"F\" as E5  [[psysml:08c848ef-d5ea-4388-acb9-5b8d01347f10 ]] \r\n",
       "rec usage \"B1\" as E6 << <<(U,orange) action>> [[psysml:d5fd7944-a8f1-4c67-81d3-da10d551f750 ]] {\r\n",
       "}\r\n",
       "\r\n",
       "rec usage \"B2\" as E7 << <<(U,orange) action>> [[psysml:b7d3ffe5-6bb9-4232-a5c3-5eafb8d0b5f9 ]] {\r\n",
       "}\r\n",
       "\r\n",
       "}\r\n",
       "\r\n",
       "E2 - -> \"*\"E4 [[psysml:a5b917a3-7538-4e28-aa62-755107929dae ]] \r\n",
       "E3 - -> \"*\"E4 [[psysml:b67a9087-1129-4a2e-aba3-334d88c3cbf2 ]] \r\n",
       "E4 - -> \"*\"E5 [[psysml:9a17080e-ae46-40d4-b989-796f716175e4 ]] \r\n",
       "E5 - -> \"*\"E6 [[psysml:197b427e-ad07-4e53-856c-ed2b1bc0e06a ]] \r\n",
       "E5 - -> \"*\"E7 [[psysml:b67e977c-71d2-45f4-9959-07a509bb3c26 ]] \r\n",
       "@enduml\r\n",
       "\n",
       "PlantUML version 1.2020.13(Sat Jun 13 12:26:38 UTC 2020)\n",
       "(EPL source distribution)\n",
       "Java Runtime: OpenJDK Runtime Environment\n",
       "JVM: OpenJDK 64-Bit Server VM\n",
       "Default Encoding: UTF-8\n",
       "Language: en\n",
       "Country: null\n",
       "--></g></svg>"
      ]
     },
     "execution_count": 30,
     "metadata": {},
     "output_type": "execute_result"
    }
   ],
   "source": [
    "%viz --style=\"PLANTUML\" --view=\"Default\" \"ControlNodeTest\""
   ]
  },
  {
   "cell_type": "code",
   "execution_count": 31,
   "id": "ea2a70d9",
   "metadata": {
    "execution": {
     "iopub.execute_input": "2021-08-04T06:26:31.186273Z",
     "iopub.status.busy": "2021-08-04T06:26:31.185869Z",
     "iopub.status.idle": "2021-08-04T06:26:31.216356Z",
     "shell.execute_reply": "2021-08-04T06:26:31.215084Z"
    }
   },
   "outputs": [
    {
     "data": {
      "image/svg+xml": [
       "<?xml version=\"1.0\" encoding=\"UTF-8\" standalone=\"no\"?><svg xmlns=\"http://www.w3.org/2000/svg\" xmlns:xlink=\"http://www.w3.org/1999/xlink\" contentScriptType=\"application/ecmascript\" contentStyleType=\"text/css\" height=\"177px\" preserveAspectRatio=\"none\" style=\"width:721px;height:177px;\" version=\"1.1\" viewBox=\"0 0 721 177\" width=\"721px\" zoomAndPan=\"magnify\"><defs><filter height=\"300%\" id=\"f15wh5d2pt9ta4\" width=\"300%\" x=\"-1\" y=\"-1\"><feGaussianBlur result=\"blurOut\" stdDeviation=\"2.0\"/><feColorMatrix in=\"blurOut\" result=\"blurOut2\" type=\"matrix\" values=\"0 0 0 0 0 0 0 0 0 0 0 0 0 0 0 0 0 0 .4 0\"/><feOffset dx=\"4.0\" dy=\"4.0\" in=\"blurOut2\" result=\"blurOut3\"/><feBlend in=\"SourceGraphic\" in2=\"blurOut3\" mode=\"normal\"/></filter></defs><g><!--MD5=[43c9051892ef23e1a46a86907403d788]\n",
       "class E1--><a href=\"psysml:d75b3c07-b549-4c23-b2aa-d48828b6adea\" target=\"_top\" title=\"psysml:d75b3c07-b549-4c23-b2aa-d48828b6adea\" xlink:actuate=\"onRequest\" xlink:href=\"psysml:d75b3c07-b549-4c23-b2aa-d48828b6adea\" xlink:show=\"new\" xlink:title=\"psysml:d75b3c07-b549-4c23-b2aa-d48828b6adea\" xlink:type=\"simple\"><rect fill=\"#FEFECE\" filter=\"url(#f15wh5d2pt9ta4)\" height=\"45.9375\" id=\"E1\" style=\"stroke: #A80036; stroke-width: 1.5;\" width=\"137\" x=\"285\" y=\"7\"/><ellipse cx=\"300\" cy=\"25.9688\" fill=\"#FFFACD\" rx=\"11\" ry=\"11\" style=\"stroke: #A80036; stroke-width: 1.0;\"/><path d=\"M298.9063,26.3438 L298.9063,30.0156 L300.5313,30.0156 Q301.7031,30.0156 302.1719,29.625 Q302.6406,29.2188 302.6406,28.2188 Q302.6406,27.2188 302.1406,26.7813 Q301.6563,26.3438 300.5313,26.3438 L298.9063,26.3438 Z M298.9063,21.5156 L298.9063,24.3906 L300.5313,24.3906 Q301.4531,24.3906 301.8438,24.0625 Q302.25,23.7188 302.25,22.9688 Q302.25,22.2031 301.8438,21.8594 Q301.4375,21.5156 300.5313,21.5156 L298.9063,21.5156 Z M296.5313,19.5625 L300.5313,19.5625 Q302.5938,19.5625 303.6406,20.3438 Q304.6875,21.125 304.6875,22.6875 Q304.6875,23.8906 304.0625,24.5625 Q303.4531,25.2344 302.2656,25.3438 Q303.6875,25.4844 304.4063,26.2969 Q305.125,27.1094 305.125,28.5625 Q305.125,30.3594 304.0469,31.1719 Q302.9688,31.9688 300.5313,31.9688 L296.5313,31.9688 L296.5313,19.5625 Z \"/><text fill=\"#000000\" font-family=\"sans-serif\" font-size=\"12\" font-style=\"italic\" lengthAdjust=\"spacingAndGlyphs\" textLength=\"77\" x=\"328\" y=\"23.1387\">«action def»</text><text fill=\"#000000\" font-family=\"sans-serif\" font-size=\"12\" lengthAdjust=\"spacingAndGlyphs\" textLength=\"105\" x=\"314\" y=\"37.1074\">ControlNodeTest</text><line style=\"stroke: #A80036; stroke-width: 1.5;\" x1=\"286\" x2=\"421\" y1=\"44.9375\" y2=\"44.9375\"/></a><!--MD5=[b4997ac47864f28c2f74865a473b2911]\n",
       "class E2--><a href=\"psysml:c07d7274-d0ac-44b0-95a3-e3c0562da237\" target=\"_top\" title=\"psysml:c07d7274-d0ac-44b0-95a3-e3c0562da237\" xlink:actuate=\"onRequest\" xlink:href=\"psysml:c07d7274-d0ac-44b0-95a3-e3c0562da237\" xlink:show=\"new\" xlink:title=\"psysml:c07d7274-d0ac-44b0-95a3-e3c0562da237\" xlink:type=\"simple\"><rect fill=\"#FEFECE\" filter=\"url(#f15wh5d2pt9ta4)\" height=\"45.9375\" id=\"E2\" rx=\"10\" ry=\"10\" style=\"stroke: #A80036; stroke-width: 1.5;\" width=\"81\" x=\"7\" y=\"113\"/><ellipse cx=\"22\" cy=\"131.9688\" fill=\"#FFA500\" rx=\"11\" ry=\"11\" style=\"stroke: #A80036; stroke-width: 1.0;\"/><path d=\"M17.875,133.8906 L17.875,126.0781 L20.3281,126.0781 L20.3281,134.5156 Q20.3281,135.4375 20.7969,135.9688 Q21.2813,136.5 22.1094,136.5 Q22.9531,136.5 23.4219,135.9688 Q23.8906,135.4375 23.8906,134.5156 L23.8906,126.0781 L26.3438,126.0781 L26.3438,133.8906 Q26.3438,136.4219 25.3438,137.5625 Q24.3438,138.7031 22.1094,138.7031 Q19.8906,138.7031 18.875,137.5625 Q17.875,136.4219 17.875,133.8906 Z \"/><text fill=\"#000000\" font-family=\"sans-serif\" font-size=\"12\" font-style=\"italic\" lengthAdjust=\"spacingAndGlyphs\" textLength=\"53\" x=\"34\" y=\"129.1387\">«action»</text><text fill=\"#000000\" font-family=\"sans-serif\" font-size=\"12\" lengthAdjust=\"spacingAndGlyphs\" textLength=\"16\" x=\"52.5\" y=\"143.1074\">A1</text><line style=\"stroke: #A80036; stroke-width: 1.5;\" x1=\"8\" x2=\"87\" y1=\"150.9375\" y2=\"150.9375\"/></a><!--MD5=[09b614a08d8cba4a07c9adeb5e0fee81]\n",
       "class E3--><a href=\"psysml:7bb05ae1-d1dd-4ff0-97ee-ce3344a0751d\" target=\"_top\" title=\"psysml:7bb05ae1-d1dd-4ff0-97ee-ce3344a0751d\" xlink:actuate=\"onRequest\" xlink:href=\"psysml:7bb05ae1-d1dd-4ff0-97ee-ce3344a0751d\" xlink:show=\"new\" xlink:title=\"psysml:7bb05ae1-d1dd-4ff0-97ee-ce3344a0751d\" xlink:type=\"simple\"><rect fill=\"#FEFECE\" filter=\"url(#f15wh5d2pt9ta4)\" height=\"45.9375\" id=\"E3\" rx=\"10\" ry=\"10\" style=\"stroke: #A80036; stroke-width: 1.5;\" width=\"81\" x=\"123\" y=\"113\"/><ellipse cx=\"138\" cy=\"131.9688\" fill=\"#FFA500\" rx=\"11\" ry=\"11\" style=\"stroke: #A80036; stroke-width: 1.0;\"/><path d=\"M133.875,133.8906 L133.875,126.0781 L136.3281,126.0781 L136.3281,134.5156 Q136.3281,135.4375 136.7969,135.9688 Q137.2813,136.5 138.1094,136.5 Q138.9531,136.5 139.4219,135.9688 Q139.8906,135.4375 139.8906,134.5156 L139.8906,126.0781 L142.3438,126.0781 L142.3438,133.8906 Q142.3438,136.4219 141.3438,137.5625 Q140.3438,138.7031 138.1094,138.7031 Q135.8906,138.7031 134.875,137.5625 Q133.875,136.4219 133.875,133.8906 Z \"/><text fill=\"#000000\" font-family=\"sans-serif\" font-size=\"12\" font-style=\"italic\" lengthAdjust=\"spacingAndGlyphs\" textLength=\"53\" x=\"150\" y=\"129.1387\">«action»</text><text fill=\"#000000\" font-family=\"sans-serif\" font-size=\"12\" lengthAdjust=\"spacingAndGlyphs\" textLength=\"16\" x=\"168.5\" y=\"143.1074\">A2</text><line style=\"stroke: #A80036; stroke-width: 1.5;\" x1=\"124\" x2=\"203\" y1=\"150.9375\" y2=\"150.9375\"/></a><!--MD5=[ebbe1d658d1005bcc118a6aa81145e00]\n",
       "class E4--><a href=\"psysml:f3bfce16-3667-4a48-a42e-fd992fa328bf\" target=\"_top\" title=\"psysml:f3bfce16-3667-4a48-a42e-fd992fa328bf\" xlink:actuate=\"onRequest\" xlink:href=\"psysml:f3bfce16-3667-4a48-a42e-fd992fa328bf\" xlink:show=\"new\" xlink:title=\"psysml:f3bfce16-3667-4a48-a42e-fd992fa328bf\" xlink:type=\"simple\"><rect fill=\"#FEFECE\" filter=\"url(#f15wh5d2pt9ta4)\" height=\"45.9375\" id=\"E4\" rx=\"10\" ry=\"10\" style=\"stroke: #A80036; stroke-width: 1.5;\" width=\"97\" x=\"239\" y=\"113\"/><ellipse cx=\"254\" cy=\"131.9688\" fill=\"#FFA500\" rx=\"11\" ry=\"11\" style=\"stroke: #A80036; stroke-width: 1.0;\"/><path d=\"M249.875,133.8906 L249.875,126.0781 L252.3281,126.0781 L252.3281,134.5156 Q252.3281,135.4375 252.7969,135.9688 Q253.2813,136.5 254.1094,136.5 Q254.9531,136.5 255.4219,135.9688 Q255.8906,135.4375 255.8906,134.5156 L255.8906,126.0781 L258.3438,126.0781 L258.3438,133.8906 Q258.3438,136.4219 257.3438,137.5625 Q256.3438,138.7031 254.1094,138.7031 Q251.8906,138.7031 250.875,137.5625 Q249.875,136.4219 249.875,133.8906 Z \"/><text fill=\"#000000\" font-family=\"sans-serif\" font-size=\"12\" font-style=\"italic\" lengthAdjust=\"spacingAndGlyphs\" textLength=\"69\" x=\"266\" y=\"129.1387\">«joinNode»</text><text fill=\"#000000\" font-family=\"sans-serif\" font-size=\"12\" lengthAdjust=\"spacingAndGlyphs\" textLength=\"3\" x=\"299\" y=\"143.1074\">J</text><line style=\"stroke: #A80036; stroke-width: 1.5;\" x1=\"240\" x2=\"335\" y1=\"150.9375\" y2=\"150.9375\"/></a><!--MD5=[270fce915f116d4de14055a7c1d9a0f3]\n",
       "class E5--><a href=\"psysml:08c848ef-d5ea-4388-acb9-5b8d01347f10\" target=\"_top\" title=\"psysml:08c848ef-d5ea-4388-acb9-5b8d01347f10\" xlink:actuate=\"onRequest\" xlink:href=\"psysml:08c848ef-d5ea-4388-acb9-5b8d01347f10\" xlink:show=\"new\" xlink:title=\"psysml:08c848ef-d5ea-4388-acb9-5b8d01347f10\" xlink:type=\"simple\"><rect fill=\"#FEFECE\" filter=\"url(#f15wh5d2pt9ta4)\" height=\"45.9375\" id=\"E5\" rx=\"10\" ry=\"10\" style=\"stroke: #A80036; stroke-width: 1.5;\" width=\"99\" x=\"371\" y=\"113\"/><ellipse cx=\"386\" cy=\"131.9688\" fill=\"#FFA500\" rx=\"11\" ry=\"11\" style=\"stroke: #A80036; stroke-width: 1.0;\"/><path d=\"M381.875,133.8906 L381.875,126.0781 L384.3281,126.0781 L384.3281,134.5156 Q384.3281,135.4375 384.7969,135.9688 Q385.2813,136.5 386.1094,136.5 Q386.9531,136.5 387.4219,135.9688 Q387.8906,135.4375 387.8906,134.5156 L387.8906,126.0781 L390.3438,126.0781 L390.3438,133.8906 Q390.3438,136.4219 389.3438,137.5625 Q388.3438,138.7031 386.1094,138.7031 Q383.8906,138.7031 382.875,137.5625 Q381.875,136.4219 381.875,133.8906 Z \"/><text fill=\"#000000\" font-family=\"sans-serif\" font-size=\"12\" font-style=\"italic\" lengthAdjust=\"spacingAndGlyphs\" textLength=\"71\" x=\"398\" y=\"129.1387\">«forkNode»</text><text fill=\"#000000\" font-family=\"sans-serif\" font-size=\"12\" lengthAdjust=\"spacingAndGlyphs\" textLength=\"7\" x=\"430\" y=\"143.1074\">F</text><line style=\"stroke: #A80036; stroke-width: 1.5;\" x1=\"372\" x2=\"469\" y1=\"150.9375\" y2=\"150.9375\"/></a><!--MD5=[60a26617385b1d2d0262a64233df1f8d]\n",
       "class E6--><a href=\"psysml:d5fd7944-a8f1-4c67-81d3-da10d551f750\" target=\"_top\" title=\"psysml:d5fd7944-a8f1-4c67-81d3-da10d551f750\" xlink:actuate=\"onRequest\" xlink:href=\"psysml:d5fd7944-a8f1-4c67-81d3-da10d551f750\" xlink:show=\"new\" xlink:title=\"psysml:d5fd7944-a8f1-4c67-81d3-da10d551f750\" xlink:type=\"simple\"><rect fill=\"#FEFECE\" filter=\"url(#f15wh5d2pt9ta4)\" height=\"45.9375\" id=\"E6\" rx=\"10\" ry=\"10\" style=\"stroke: #A80036; stroke-width: 1.5;\" width=\"81\" x=\"505\" y=\"113\"/><ellipse cx=\"520\" cy=\"131.9688\" fill=\"#FFA500\" rx=\"11\" ry=\"11\" style=\"stroke: #A80036; stroke-width: 1.0;\"/><path d=\"M515.875,133.8906 L515.875,126.0781 L518.3281,126.0781 L518.3281,134.5156 Q518.3281,135.4375 518.7969,135.9688 Q519.2813,136.5 520.1094,136.5 Q520.9531,136.5 521.4219,135.9688 Q521.8906,135.4375 521.8906,134.5156 L521.8906,126.0781 L524.3438,126.0781 L524.3438,133.8906 Q524.3438,136.4219 523.3438,137.5625 Q522.3438,138.7031 520.1094,138.7031 Q517.8906,138.7031 516.875,137.5625 Q515.875,136.4219 515.875,133.8906 Z \"/><text fill=\"#000000\" font-family=\"sans-serif\" font-size=\"12\" font-style=\"italic\" lengthAdjust=\"spacingAndGlyphs\" textLength=\"53\" x=\"532\" y=\"129.1387\">«action»</text><text fill=\"#000000\" font-family=\"sans-serif\" font-size=\"12\" lengthAdjust=\"spacingAndGlyphs\" textLength=\"16\" x=\"550.5\" y=\"143.1074\">B1</text><line style=\"stroke: #A80036; stroke-width: 1.5;\" x1=\"506\" x2=\"585\" y1=\"150.9375\" y2=\"150.9375\"/></a><!--MD5=[2156ba9850f5573cc1fc38a6a4b2f02b]\n",
       "class E7--><a href=\"psysml:b7d3ffe5-6bb9-4232-a5c3-5eafb8d0b5f9\" target=\"_top\" title=\"psysml:b7d3ffe5-6bb9-4232-a5c3-5eafb8d0b5f9\" xlink:actuate=\"onRequest\" xlink:href=\"psysml:b7d3ffe5-6bb9-4232-a5c3-5eafb8d0b5f9\" xlink:show=\"new\" xlink:title=\"psysml:b7d3ffe5-6bb9-4232-a5c3-5eafb8d0b5f9\" xlink:type=\"simple\"><rect fill=\"#FEFECE\" filter=\"url(#f15wh5d2pt9ta4)\" height=\"45.9375\" id=\"E7\" rx=\"10\" ry=\"10\" style=\"stroke: #A80036; stroke-width: 1.5;\" width=\"81\" x=\"621\" y=\"113\"/><ellipse cx=\"636\" cy=\"131.9688\" fill=\"#FFA500\" rx=\"11\" ry=\"11\" style=\"stroke: #A80036; stroke-width: 1.0;\"/><path d=\"M631.875,133.8906 L631.875,126.0781 L634.3281,126.0781 L634.3281,134.5156 Q634.3281,135.4375 634.7969,135.9688 Q635.2813,136.5 636.1094,136.5 Q636.9531,136.5 637.4219,135.9688 Q637.8906,135.4375 637.8906,134.5156 L637.8906,126.0781 L640.3438,126.0781 L640.3438,133.8906 Q640.3438,136.4219 639.3438,137.5625 Q638.3438,138.7031 636.1094,138.7031 Q633.8906,138.7031 632.875,137.5625 Q631.875,136.4219 631.875,133.8906 Z \"/><text fill=\"#000000\" font-family=\"sans-serif\" font-size=\"12\" font-style=\"italic\" lengthAdjust=\"spacingAndGlyphs\" textLength=\"53\" x=\"648\" y=\"129.1387\">«action»</text><text fill=\"#000000\" font-family=\"sans-serif\" font-size=\"12\" lengthAdjust=\"spacingAndGlyphs\" textLength=\"16\" x=\"666.5\" y=\"143.1074\">B2</text><line style=\"stroke: #A80036; stroke-width: 1.5;\" x1=\"622\" x2=\"701\" y1=\"150.9375\" y2=\"150.9375\"/></a><!--MD5=[a523cb2a0b79ecf9065ad8783f96c320]\n",
       "reverse link E1 to E2--><a href=\"psysml:090da899-d633-4f68-ac70-93df987c1f89\" target=\"_top\" title=\"psysml:090da899-d633-4f68-ac70-93df987c1f89\" xlink:actuate=\"onRequest\" xlink:href=\"psysml:090da899-d633-4f68-ac70-93df987c1f89\" xlink:show=\"new\" xlink:title=\"psysml:090da899-d633-4f68-ac70-93df987c1f89\" xlink:type=\"simple\"><path d=\"M272.15,56.92 C223.59,72.63 160.82,93.37 105.5,113 C99.92,114.98 94.06,117.13 88.29,119.27 \" fill=\"none\" id=\"E1&lt;-E2\" style=\"stroke: #A80036; stroke-width: 1.0;\"/><polygon fill=\"#A80036\" points=\"284.81,52.83,277.8725,50.8626,273.3881,56.5098,280.3257,58.4772,284.81,52.83\" style=\"stroke: #A80036; stroke-width: 1.0;\"/><text fill=\"#000000\" font-family=\"sans-serif\" font-size=\"13\" lengthAdjust=\"spacingAndGlyphs\" textLength=\"7\" x=\"95.9023\" y=\"112.1891\">*</text></a><!--MD5=[5d7b3810b1dd9b5164bea1151b29b665]\n",
       "reverse link E1 to E3--><a href=\"psysml:797c4c3c-8cfb-4ed1-914f-99d654db3cec\" target=\"_top\" title=\"psysml:797c4c3c-8cfb-4ed1-914f-99d654db3cec\" xlink:actuate=\"onRequest\" xlink:href=\"psysml:797c4c3c-8cfb-4ed1-914f-99d654db3cec\" xlink:show=\"new\" xlink:title=\"psysml:797c4c3c-8cfb-4ed1-914f-99d654db3cec\" xlink:type=\"simple\"><path d=\"M301.79,59.3 C270.93,76.2 232.31,97.33 203.74,112.98 \" fill=\"none\" id=\"E1&lt;-E3\" style=\"stroke: #A80036; stroke-width: 1.0;\"/><polygon fill=\"#A80036\" points=\"313.21,53.06,306.0262,52.4335,302.6848,58.8238,309.8687,59.4503,313.21,53.06\" style=\"stroke: #A80036; stroke-width: 1.0;\"/><text fill=\"#000000\" font-family=\"sans-serif\" font-size=\"13\" lengthAdjust=\"spacingAndGlyphs\" textLength=\"7\" x=\"206.6139\" y=\"101.8709\">*</text></a><!--MD5=[f2c5c03aa1e8c0ba21c10a05e6444b8e]\n",
       "reverse link E1 to E4--><a href=\"psysml:70a466ea-83ad-4e19-afa5-d192b13fd9c7\" target=\"_top\" title=\"psysml:70a466ea-83ad-4e19-afa5-d192b13fd9c7\" xlink:actuate=\"onRequest\" xlink:href=\"psysml:70a466ea-83ad-4e19-afa5-d192b13fd9c7\" xlink:show=\"new\" xlink:title=\"psysml:70a466ea-83ad-4e19-afa5-d192b13fd9c7\" xlink:type=\"simple\"><path d=\"M332.5,64.09 C322.37,80.06 310.49,98.78 301.48,112.98 \" fill=\"none\" id=\"E1&lt;-E4\" style=\"stroke: #A80036; stroke-width: 1.0;\"/><polygon fill=\"#A80036\" points=\"339.5,53.06,332.9061,55.9789,333.0643,63.1883,339.6583,60.2694,339.5,53.06\" style=\"stroke: #A80036; stroke-width: 1.0;\"/></a><!--MD5=[33238bef88d6431a141d8bc8fb12bca0]\n",
       "reverse link E1 to E5--><a href=\"psysml:26253911-6243-446d-b791-23c0e42b91a5\" target=\"_top\" title=\"psysml:26253911-6243-446d-b791-23c0e42b91a5\" xlink:actuate=\"onRequest\" xlink:href=\"psysml:26253911-6243-446d-b791-23c0e42b91a5\" xlink:show=\"new\" xlink:title=\"psysml:26253911-6243-446d-b791-23c0e42b91a5\" xlink:type=\"simple\"><path d=\"M374.82,64.09 C385.11,80.06 397.17,98.78 406.31,112.98 \" fill=\"none\" id=\"E1&lt;-E5\" style=\"stroke: #A80036; stroke-width: 1.0;\"/><polygon fill=\"#A80036\" points=\"367.71,53.06,367.5979,60.2702,374.2104,63.1469,374.3225,55.9366,367.71,53.06\" style=\"stroke: #A80036; stroke-width: 1.0;\"/></a><!--MD5=[aca2ef284c2b1b90e17e73bf3f292c07]\n",
       "reverse link E1 to E6--><a href=\"psysml:e8354a48-cb93-46c3-a69e-19a4acf29f71\" target=\"_top\" title=\"psysml:e8354a48-cb93-46c3-a69e-19a4acf29f71\" xlink:actuate=\"onRequest\" xlink:href=\"psysml:e8354a48-cb93-46c3-a69e-19a4acf29f71\" xlink:show=\"new\" xlink:title=\"psysml:e8354a48-cb93-46c3-a69e-19a4acf29f71\" xlink:type=\"simple\"><path d=\"M405.75,59.3 C436.94,76.2 475.96,97.33 504.84,112.98 \" fill=\"none\" id=\"E1&lt;-E6\" style=\"stroke: #A80036; stroke-width: 1.0;\"/><polygon fill=\"#A80036\" points=\"394.22,53.06,397.5865,59.437,404.7678,58.7822,401.4013,52.4052,394.22,53.06\" style=\"stroke: #A80036; stroke-width: 1.0;\"/><text fill=\"#000000\" font-family=\"sans-serif\" font-size=\"13\" lengthAdjust=\"spacingAndGlyphs\" textLength=\"7\" x=\"489.974\" y=\"104.6279\">*</text></a><!--MD5=[fc9706a6b2cf8c0e423679d303750d3f]\n",
       "reverse link E1 to E7--><a href=\"psysml:8dca6daf-962f-46a3-bb74-22037bd04295\" target=\"_top\" title=\"psysml:8dca6daf-962f-46a3-bb74-22037bd04295\" xlink:actuate=\"onRequest\" xlink:href=\"psysml:8dca6daf-962f-46a3-bb74-22037bd04295\" xlink:show=\"new\" xlink:title=\"psysml:8dca6daf-962f-46a3-bb74-22037bd04295\" xlink:type=\"simple\"><path d=\"M434.69,56.6 C483.75,72.32 547.44,93.19 603.5,113 C609.08,114.97 614.95,117.12 620.71,119.26 \" fill=\"none\" id=\"E1&lt;-E7\" style=\"stroke: #A80036; stroke-width: 1.0;\"/><polygon fill=\"#A80036\" points=\"422.23,52.61,426.7262,58.2478,433.6595,56.2659,429.1634,50.6281,422.23,52.61\" style=\"stroke: #A80036; stroke-width: 1.0;\"/><text fill=\"#000000\" font-family=\"sans-serif\" font-size=\"13\" lengthAdjust=\"spacingAndGlyphs\" textLength=\"7\" x=\"606.0977\" y=\"112.1774\">*</text></a><!--MD5=[4e2f6062f00b109a95c74f75d892ff80]\n",
       "@startuml\r\n",
       " \r\n",
       "comp def \"ControlNodeTest\" as E1 << <<(B,lemonchiffon) action def>> [[psysml:d75b3c07-b549-4c23-b2aa-d48828b6adea ]] {\r\n",
       "}\r\n",
       "comp usage \"A1\" as E2 << <<(U,orange) action>> [[psysml:c07d7274-d0ac-44b0-95a3-e3c0562da237 ]] {\r\n",
       "}\r\n",
       "comp usage \"A2\" as E3 << <<(U,orange) action>> [[psysml:7bb05ae1-d1dd-4ff0-97ee-ce3344a0751d ]] {\r\n",
       "}\r\n",
       "comp usage \"J\" as E4 << <<(U,orange) joinNode>> [[psysml:f3bfce16-3667-4a48-a42e-fd992fa328bf ]] {\r\n",
       "}\r\n",
       "comp usage \"F\" as E5 << <<(U,orange) forkNode>> [[psysml:08c848ef-d5ea-4388-acb9-5b8d01347f10 ]] {\r\n",
       "}\r\n",
       "comp usage \"B1\" as E6 << <<(U,orange) action>> [[psysml:d5fd7944-a8f1-4c67-81d3-da10d551f750 ]] {\r\n",
       "}\r\n",
       "comp usage \"B2\" as E7 << <<(U,orange) action>> [[psysml:b7d3ffe5-6bb9-4232-a5c3-5eafb8d0b5f9 ]] {\r\n",
       "}\r\n",
       "E1 *- - \"*\"E2 [[psysml:090da899-d633-4f68-ac70-93df987c1f89 ]] \r\n",
       "E1 *- - \"*\"E3 [[psysml:797c4c3c-8cfb-4ed1-914f-99d654db3cec ]] \r\n",
       "E1 *- - E4 [[psysml:70a466ea-83ad-4e19-afa5-d192b13fd9c7 ]] \r\n",
       "E1 *- - E5 [[psysml:26253911-6243-446d-b791-23c0e42b91a5 ]] \r\n",
       "E1 *- - \"*\"E6 [[psysml:e8354a48-cb93-46c3-a69e-19a4acf29f71 ]] \r\n",
       "E1 *- - \"*\"E7 [[psysml:8dca6daf-962f-46a3-bb74-22037bd04295 ]] \r\n",
       "@enduml\r\n",
       "\n",
       "PlantUML version 1.2020.13(Sat Jun 13 12:26:38 UTC 2020)\n",
       "(EPL source distribution)\n",
       "Java Runtime: OpenJDK Runtime Environment\n",
       "JVM: OpenJDK 64-Bit Server VM\n",
       "Default Encoding: UTF-8\n",
       "Language: en\n",
       "Country: null\n",
       "--></g></svg>"
      ]
     },
     "execution_count": 31,
     "metadata": {},
     "output_type": "execute_result"
    }
   ],
   "source": [
    "%viz --style=\"PLANTUML\" --view=\"Tree\" \"ControlNodeTest\""
   ]
  },
  {
   "cell_type": "code",
   "execution_count": 32,
   "id": "5ed9aa8a",
   "metadata": {
    "execution": {
     "iopub.execute_input": "2021-08-04T06:26:31.266069Z",
     "iopub.status.busy": "2021-08-04T06:26:31.265665Z",
     "iopub.status.idle": "2021-08-04T06:26:31.349555Z",
     "shell.execute_reply": "2021-08-04T06:26:31.348178Z"
    }
   },
   "outputs": [
    {
     "data": {
      "image/svg+xml": [
       "<?xml version=\"1.0\" encoding=\"UTF-8\" standalone=\"no\"?><svg xmlns=\"http://www.w3.org/2000/svg\" xmlns:xlink=\"http://www.w3.org/1999/xlink\" contentScriptType=\"application/ecmascript\" contentStyleType=\"text/css\" height=\"303px\" preserveAspectRatio=\"none\" style=\"width:603px;height:303px;background:#000000;\" version=\"1.1\" viewBox=\"0 0 603 303\" width=\"603px\" zoomAndPan=\"magnify\"><defs/><g><rect fill=\"#190003\" height=\"1\" style=\"stroke: #190003; stroke-width: 1.0;\" width=\"1\" x=\"0\" y=\"0\"/><rect fill=\"#FFFFFF\" height=\"205.5625\" style=\"stroke: #FFFFFF; stroke-width: 1.0;\" width=\"602\" x=\"0\" y=\"0\"/><text fill=\"#000000\" font-family=\"sans-serif\" font-size=\"12\" font-weight=\"bold\" lengthAdjust=\"spacingAndGlyphs\" textLength=\"159\" x=\"5\" y=\"16.1387\">Welcome to PlantUML!</text><text fill=\"#000000\" font-family=\"sans-serif\" font-size=\"12\" lengthAdjust=\"spacingAndGlyphs\" textLength=\"0\" x=\"9\" y=\"30.1074\"/><text fill=\"#000000\" font-family=\"sans-serif\" font-size=\"12\" lengthAdjust=\"spacingAndGlyphs\" textLength=\"293\" x=\"5\" y=\"44.0762\">If you use this software, you accept its license.</text><text fill=\"#000000\" font-family=\"sans-serif\" font-size=\"12\" lengthAdjust=\"spacingAndGlyphs\" textLength=\"107\" x=\"5\" y=\"58.0449\">(details by typing</text><text fill=\"#000000\" font-family=\"monospace\" font-size=\"12\" lengthAdjust=\"spacingAndGlyphs\" textLength=\"49\" x=\"116\" y=\"58.0449\">license</text><text fill=\"#000000\" font-family=\"sans-serif\" font-size=\"12\" lengthAdjust=\"spacingAndGlyphs\" textLength=\"56\" x=\"169\" y=\"58.0449\">keyword)</text><text fill=\"#000000\" font-family=\"sans-serif\" font-size=\"12\" lengthAdjust=\"spacingAndGlyphs\" textLength=\"0\" x=\"9\" y=\"72.0137\"/><text fill=\"#000000\" font-family=\"sans-serif\" font-size=\"12\" lengthAdjust=\"spacingAndGlyphs\" textLength=\"283\" x=\"5\" y=\"85.9824\">You can start with a simple UML Diagram like:</text><text fill=\"#000000\" font-family=\"sans-serif\" font-size=\"12\" lengthAdjust=\"spacingAndGlyphs\" textLength=\"0\" x=\"9\" y=\"99.9512\"/><text fill=\"#000000\" font-family=\"monospace\" font-size=\"12\" lengthAdjust=\"spacingAndGlyphs\" textLength=\"119\" x=\"5\" y=\"113.9199\">Bob-&gt;Alice: Hello</text><text fill=\"#000000\" font-family=\"sans-serif\" font-size=\"12\" lengthAdjust=\"spacingAndGlyphs\" textLength=\"0\" x=\"9\" y=\"127.8887\"/><text fill=\"#000000\" font-family=\"sans-serif\" font-size=\"12\" lengthAdjust=\"spacingAndGlyphs\" textLength=\"14\" x=\"5\" y=\"141.8574\">Or</text><text fill=\"#000000\" font-family=\"sans-serif\" font-size=\"12\" lengthAdjust=\"spacingAndGlyphs\" textLength=\"0\" x=\"9\" y=\"155.8262\"/><text fill=\"#000000\" font-family=\"monospace\" font-size=\"12\" lengthAdjust=\"spacingAndGlyphs\" textLength=\"91\" x=\"5\" y=\"169.7949\">class Example</text><text fill=\"#000000\" font-family=\"sans-serif\" font-size=\"12\" lengthAdjust=\"spacingAndGlyphs\" textLength=\"0\" x=\"9\" y=\"183.7637\"/><text fill=\"#000000\" font-family=\"sans-serif\" font-size=\"12\" lengthAdjust=\"spacingAndGlyphs\" textLength=\"349\" x=\"5\" y=\"197.7324\">You will find more information about PlantUML syntax on</text><text fill=\"#000000\" font-family=\"sans-serif\" font-size=\"12\" lengthAdjust=\"spacingAndGlyphs\" text-decoration=\"underline\" textLength=\"129\" x=\"358\" y=\"197.7324\">https://plantuml.com</text><image height=\"71\" width=\"80\" x=\"516\" xlink:href=\"data:image/png;base64,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\" y=\"6\"/><rect fill=\"#000000\" height=\"96.4844\" style=\"stroke: #000000; stroke-width: 1.0;\" width=\"602\" x=\"0\" y=\"205.5625\"/><rect fill=\"#33FF02\" height=\"21.2969\" style=\"stroke: #33FF02; stroke-width: 1.0;\" width=\"170\" x=\"5\" y=\"210.5625\"/><text fill=\"#000000\" font-family=\"sans-serif\" font-size=\"14\" font-weight=\"bold\" lengthAdjust=\"spacingAndGlyphs\" textLength=\"168\" x=\"6\" y=\"225.5625\">[From string (line 2) ]</text><text fill=\"#33FF02\" font-family=\"sans-serif\" font-size=\"14\" font-weight=\"bold\" lengthAdjust=\"spacingAndGlyphs\" textLength=\"0\" x=\"10\" y=\"245.8594\"/><text fill=\"#33FF02\" font-family=\"sans-serif\" font-size=\"14\" font-weight=\"bold\" lengthAdjust=\"spacingAndGlyphs\" textLength=\"79\" x=\"5\" y=\"262.1563\">@startuml</text><text fill=\"#33FF02\" font-family=\"sans-serif\" font-size=\"14\" font-weight=\"bold\" lengthAdjust=\"spacingAndGlyphs\" textLength=\"0\" x=\"10\" y=\"278.4531\"/><text fill=\"#FF0000\" font-family=\"sans-serif\" font-size=\"14\" font-weight=\"bold\" lengthAdjust=\"spacingAndGlyphs\" textLength=\"142\" x=\"10\" y=\"294.75\">Empty description</text><!--MD5=[f59edd8218d337f74d0c332fc6737304]\n",
       "@startuml\r\n",
       " \r\n",
       "@enduml\r\n",
       "\n",
       "PlantUML version 1.2020.13(Sat Jun 13 12:26:38 UTC 2020)\n",
       "(EPL source distribution)\n",
       "Java Runtime: OpenJDK Runtime Environment\n",
       "JVM: OpenJDK 64-Bit Server VM\n",
       "Default Encoding: UTF-8\n",
       "Language: en\n",
       "Country: null\n",
       "--></g></svg>"
      ]
     },
     "execution_count": 32,
     "metadata": {},
     "output_type": "execute_result"
    }
   ],
   "source": [
    "%viz --style=\"PLANTUML\" --view=\"State\" \"ControlNodeTest\""
   ]
  },
  {
   "cell_type": "code",
   "execution_count": 33,
   "id": "e44a0e94",
   "metadata": {
    "execution": {
     "iopub.execute_input": "2021-08-04T06:26:31.398831Z",
     "iopub.status.busy": "2021-08-04T06:26:31.398430Z",
     "iopub.status.idle": "2021-08-04T06:26:31.429418Z",
     "shell.execute_reply": "2021-08-04T06:26:31.429054Z"
    }
   },
   "outputs": [
    {
     "data": {
      "image/svg+xml": [
       "<?xml version=\"1.0\" encoding=\"UTF-8\" standalone=\"no\"?><svg xmlns=\"http://www.w3.org/2000/svg\" xmlns:xlink=\"http://www.w3.org/1999/xlink\" contentScriptType=\"application/ecmascript\" contentStyleType=\"text/css\" height=\"225px\" preserveAspectRatio=\"none\" style=\"width:265px;height:225px;\" version=\"1.1\" viewBox=\"0 0 265 225\" width=\"265px\" zoomAndPan=\"magnify\"><defs><filter height=\"300%\" id=\"fz3tw5dst6tp1\" width=\"300%\" x=\"-1\" y=\"-1\"><feGaussianBlur result=\"blurOut\" stdDeviation=\"2.0\"/><feColorMatrix in=\"blurOut\" result=\"blurOut2\" type=\"matrix\" values=\"0 0 0 0 0 0 0 0 0 0 0 0 0 0 0 0 0 0 .4 0\"/><feOffset dx=\"4.0\" dy=\"4.0\" in=\"blurOut2\" result=\"blurOut3\"/><feBlend in=\"SourceGraphic\" in2=\"blurOut3\" mode=\"normal\"/></filter></defs><g><!--MD5=[fbc87193dbaf4d95561dea2c320d4a47]\n",
       "cluster E1--><a href=\"psysml:d75b3c07-b549-4c23-b2aa-d48828b6adea\" target=\"_top\" title=\"psysml:d75b3c07-b549-4c23-b2aa-d48828b6adea\" xlink:actuate=\"onRequest\" xlink:href=\"psysml:d75b3c07-b549-4c23-b2aa-d48828b6adea\" xlink:show=\"new\" xlink:title=\"psysml:d75b3c07-b549-4c23-b2aa-d48828b6adea\" xlink:type=\"simple\"><rect fill=\"#FFFFFF\" filter=\"url(#fz3tw5dst6tp1)\" height=\"199\" id=\"E1\" style=\"stroke: #A80036; stroke-width: 1.5;\" width=\"239\" x=\"7\" y=\"7\"/><rect fill=\"#FEFECE\" height=\"37.9375\" style=\"stroke: #A80036; stroke-width: 1.5;\" width=\"239\" x=\"7\" y=\"7\"/><text fill=\"#000000\" font-family=\"sans-serif\" font-size=\"12\" font-style=\"italic\" lengthAdjust=\"spacingAndGlyphs\" textLength=\"77\" x=\"88\" y=\"23.1387\">«action def»</text><text fill=\"#000000\" font-family=\"sans-serif\" font-size=\"12\" lengthAdjust=\"spacingAndGlyphs\" textLength=\"105\" x=\"74\" y=\"37.1074\">ControlNodeTest</text></a><rect fill=\"#000000\" filter=\"url(#fz3tw5dst6tp1)\" height=\"8\" style=\"stroke: none; stroke-width: 1.0;\" width=\"80\" x=\"86\" y=\"111\"/><rect fill=\"#000000\" filter=\"url(#fz3tw5dst6tp1)\" height=\"8\" style=\"stroke: none; stroke-width: 1.0;\" width=\"80\" x=\"86\" y=\"129\"/><g id=\"E1.E2\"><a href=\"psysml:c07d7274-d0ac-44b0-95a3-e3c0562da237\" target=\"_top\" title=\"psysml:c07d7274-d0ac-44b0-95a3-e3c0562da237\" xlink:actuate=\"onRequest\" xlink:href=\"psysml:c07d7274-d0ac-44b0-95a3-e3c0562da237\" xlink:show=\"new\" xlink:title=\"psysml:c07d7274-d0ac-44b0-95a3-e3c0562da237\" xlink:type=\"simple\"><rect fill=\"#FEFECE\" filter=\"url(#fz3tw5dst6tp1)\" height=\"42.9375\" id=\"E2\" rx=\"10\" ry=\"10\" style=\"stroke: #A80036; stroke-width: 1.5;\" width=\"86\" x=\"144\" y=\"58\"/><ellipse cx=\"161.25\" cy=\"76.9688\" fill=\"#FFA500\" rx=\"11\" ry=\"11\" style=\"stroke: #A80036; stroke-width: 1.0;\"/><path d=\"M157.125,78.8906 L157.125,71.0781 L159.5781,71.0781 L159.5781,79.5156 Q159.5781,80.4375 160.0469,80.9688 Q160.5313,81.5 161.3594,81.5 Q162.2031,81.5 162.6719,80.9688 Q163.1406,80.4375 163.1406,79.5156 L163.1406,71.0781 L165.5938,71.0781 L165.5938,78.8906 Q165.5938,81.4219 164.5938,82.5625 Q163.5938,83.7031 161.3594,83.7031 Q159.1406,83.7031 158.125,82.5625 Q157.125,81.4219 157.125,78.8906 Z \"/><text fill=\"#000000\" font-family=\"sans-serif\" font-size=\"12\" font-style=\"italic\" lengthAdjust=\"spacingAndGlyphs\" textLength=\"53\" x=\"173.75\" y=\"74.1387\">«action»</text><text fill=\"#000000\" font-family=\"sans-serif\" font-size=\"12\" lengthAdjust=\"spacingAndGlyphs\" textLength=\"16\" x=\"192.25\" y=\"88.1074\">A1</text></a></g><g id=\"E1.E3\"><a href=\"psysml:7bb05ae1-d1dd-4ff0-97ee-ce3344a0751d\" target=\"_top\" title=\"psysml:7bb05ae1-d1dd-4ff0-97ee-ce3344a0751d\" xlink:actuate=\"onRequest\" xlink:href=\"psysml:7bb05ae1-d1dd-4ff0-97ee-ce3344a0751d\" xlink:show=\"new\" xlink:title=\"psysml:7bb05ae1-d1dd-4ff0-97ee-ce3344a0751d\" xlink:type=\"simple\"><rect fill=\"#FEFECE\" filter=\"url(#fz3tw5dst6tp1)\" height=\"42.9375\" id=\"E3\" rx=\"10\" ry=\"10\" style=\"stroke: #A80036; stroke-width: 1.5;\" width=\"86\" x=\"23\" y=\"58\"/><ellipse cx=\"40.25\" cy=\"76.9688\" fill=\"#FFA500\" rx=\"11\" ry=\"11\" style=\"stroke: #A80036; stroke-width: 1.0;\"/><path d=\"M36.125,78.8906 L36.125,71.0781 L38.5781,71.0781 L38.5781,79.5156 Q38.5781,80.4375 39.0469,80.9688 Q39.5313,81.5 40.3594,81.5 Q41.2031,81.5 41.6719,80.9688 Q42.1406,80.4375 42.1406,79.5156 L42.1406,71.0781 L44.5938,71.0781 L44.5938,78.8906 Q44.5938,81.4219 43.5938,82.5625 Q42.5938,83.7031 40.3594,83.7031 Q38.1406,83.7031 37.125,82.5625 Q36.125,81.4219 36.125,78.8906 Z \"/><text fill=\"#000000\" font-family=\"sans-serif\" font-size=\"12\" font-style=\"italic\" lengthAdjust=\"spacingAndGlyphs\" textLength=\"53\" x=\"52.75\" y=\"74.1387\">«action»</text><text fill=\"#000000\" font-family=\"sans-serif\" font-size=\"12\" lengthAdjust=\"spacingAndGlyphs\" textLength=\"16\" x=\"71.25\" y=\"88.1074\">A2</text></a></g><g id=\"E1.E6\"><a href=\"psysml:d5fd7944-a8f1-4c67-81d3-da10d551f750\" target=\"_top\" title=\"psysml:d5fd7944-a8f1-4c67-81d3-da10d551f750\" xlink:actuate=\"onRequest\" xlink:href=\"psysml:d5fd7944-a8f1-4c67-81d3-da10d551f750\" xlink:show=\"new\" xlink:title=\"psysml:d5fd7944-a8f1-4c67-81d3-da10d551f750\" xlink:type=\"simple\"><rect fill=\"#FEFECE\" filter=\"url(#fz3tw5dst6tp1)\" height=\"42.9375\" id=\"E6\" rx=\"10\" ry=\"10\" style=\"stroke: #A80036; stroke-width: 1.5;\" width=\"86\" x=\"23\" y=\"147\"/><ellipse cx=\"40.25\" cy=\"165.9688\" fill=\"#FFA500\" rx=\"11\" ry=\"11\" style=\"stroke: #A80036; stroke-width: 1.0;\"/><path d=\"M36.125,167.8906 L36.125,160.0781 L38.5781,160.0781 L38.5781,168.5156 Q38.5781,169.4375 39.0469,169.9688 Q39.5313,170.5 40.3594,170.5 Q41.2031,170.5 41.6719,169.9688 Q42.1406,169.4375 42.1406,168.5156 L42.1406,160.0781 L44.5938,160.0781 L44.5938,167.8906 Q44.5938,170.4219 43.5938,171.5625 Q42.5938,172.7031 40.3594,172.7031 Q38.1406,172.7031 37.125,171.5625 Q36.125,170.4219 36.125,167.8906 Z \"/><text fill=\"#000000\" font-family=\"sans-serif\" font-size=\"12\" font-style=\"italic\" lengthAdjust=\"spacingAndGlyphs\" textLength=\"53\" x=\"52.75\" y=\"163.1387\">«action»</text><text fill=\"#000000\" font-family=\"sans-serif\" font-size=\"12\" lengthAdjust=\"spacingAndGlyphs\" textLength=\"16\" x=\"71.25\" y=\"177.1074\">B1</text></a></g><g id=\"E1.E7\"><a href=\"psysml:b7d3ffe5-6bb9-4232-a5c3-5eafb8d0b5f9\" target=\"_top\" title=\"psysml:b7d3ffe5-6bb9-4232-a5c3-5eafb8d0b5f9\" xlink:actuate=\"onRequest\" xlink:href=\"psysml:b7d3ffe5-6bb9-4232-a5c3-5eafb8d0b5f9\" xlink:show=\"new\" xlink:title=\"psysml:b7d3ffe5-6bb9-4232-a5c3-5eafb8d0b5f9\" xlink:type=\"simple\"><rect fill=\"#FEFECE\" filter=\"url(#fz3tw5dst6tp1)\" height=\"42.9375\" id=\"E7\" rx=\"10\" ry=\"10\" style=\"stroke: #A80036; stroke-width: 1.5;\" width=\"86\" x=\"144\" y=\"147\"/><ellipse cx=\"161.25\" cy=\"165.9688\" fill=\"#FFA500\" rx=\"11\" ry=\"11\" style=\"stroke: #A80036; stroke-width: 1.0;\"/><path d=\"M157.125,167.8906 L157.125,160.0781 L159.5781,160.0781 L159.5781,168.5156 Q159.5781,169.4375 160.0469,169.9688 Q160.5313,170.5 161.3594,170.5 Q162.2031,170.5 162.6719,169.9688 Q163.1406,169.4375 163.1406,168.5156 L163.1406,160.0781 L165.5938,160.0781 L165.5938,167.8906 Q165.5938,170.4219 164.5938,171.5625 Q163.5938,172.7031 161.3594,172.7031 Q159.1406,172.7031 158.125,171.5625 Q157.125,170.4219 157.125,167.8906 Z \"/><text fill=\"#000000\" font-family=\"sans-serif\" font-size=\"12\" font-style=\"italic\" lengthAdjust=\"spacingAndGlyphs\" textLength=\"53\" x=\"173.75\" y=\"163.1387\">«action»</text><text fill=\"#000000\" font-family=\"sans-serif\" font-size=\"12\" lengthAdjust=\"spacingAndGlyphs\" textLength=\"16\" x=\"192.25\" y=\"177.1074\">B2</text></a></g><!--MD5=[4d03bb2d0377dc85ccfab60ff574652b]\n",
       "link E2 to E4--><a href=\"psysml:a5b917a3-7538-4e28-aa62-755107929dae\" target=\"_top\" title=\"psysml:a5b917a3-7538-4e28-aa62-755107929dae\" xlink:actuate=\"onRequest\" xlink:href=\"psysml:a5b917a3-7538-4e28-aa62-755107929dae\" xlink:show=\"new\" xlink:title=\"psysml:a5b917a3-7538-4e28-aa62-755107929dae\" xlink:type=\"simple\"><path d=\"M149.41,101.14 C144.44,103.87 139.75,106.45 135.88,108.58 \" fill=\"none\" id=\"E2-&gt;E4\" style=\"stroke: #A80036; stroke-width: 1.0;\"/><polygon fill=\"#A80036\" points=\"131.47,111,141.2842,110.175,135.8529,108.5937,137.4342,103.1624,131.47,111\" style=\"stroke: #A80036; stroke-width: 1.0;\"/><text fill=\"#000000\" font-family=\"sans-serif\" font-size=\"13\" lengthAdjust=\"spacingAndGlyphs\" textLength=\"7\" x=\"125.8736\" y=\"99.9205\">*</text></a><!--MD5=[af87c684e3b0d8be13c1a698a818ef1e]\n",
       "link E3 to E4--><a href=\"psysml:b67a9087-1129-4a2e-aba3-334d88c3cbf2\" target=\"_top\" title=\"psysml:b67a9087-1129-4a2e-aba3-334d88c3cbf2\" xlink:actuate=\"onRequest\" xlink:href=\"psysml:b67a9087-1129-4a2e-aba3-334d88c3cbf2\" xlink:show=\"new\" xlink:title=\"psysml:b67a9087-1129-4a2e-aba3-334d88c3cbf2\" xlink:type=\"simple\"><path d=\"M102.97,101.14 C107.75,103.81 112.27,106.34 116.03,108.43 \" fill=\"none\" id=\"E3-&gt;E4\" style=\"stroke: #A80036; stroke-width: 1.0;\"/><polygon fill=\"#A80036\" points=\"120.62,111,114.7148,103.1178,116.2553,108.5609,110.8122,110.1014,120.62,111\" style=\"stroke: #A80036; stroke-width: 1.0;\"/><text fill=\"#000000\" font-family=\"sans-serif\" font-size=\"13\" lengthAdjust=\"spacingAndGlyphs\" textLength=\"7\" x=\"117.0915\" y=\"103.4098\">*</text></a><!--MD5=[1b7591eae5389033d8d09a9d6721a717]\n",
       "link E4 to E5--><a href=\"psysml:9a17080e-ae46-40d4-b989-796f716175e4\" target=\"_top\" title=\"psysml:9a17080e-ae46-40d4-b989-796f716175e4\" xlink:actuate=\"onRequest\" xlink:href=\"psysml:9a17080e-ae46-40d4-b989-796f716175e4\" xlink:show=\"new\" xlink:title=\"psysml:9a17080e-ae46-40d4-b989-796f716175e4\" xlink:type=\"simple\"><path d=\"M126,119.08 C126,120.38 126,121.95 126,123.55 \" fill=\"none\" id=\"E4-&gt;E5\" style=\"stroke: #A80036; stroke-width: 1.0;\"/><polygon fill=\"#A80036\" points=\"126,128.7,130,119.7,126,123.7,122,119.7,126,128.7\" style=\"stroke: #A80036; stroke-width: 1.0;\"/><text fill=\"#000000\" font-family=\"sans-serif\" font-size=\"13\" lengthAdjust=\"spacingAndGlyphs\" textLength=\"7\" x=\"73.5975\" y=\"135.9509\">*</text></a><!--MD5=[9120cf2e5df3bff93db8f754bbbc09b4]\n",
       "link E5 to E6--><a href=\"psysml:197b427e-ad07-4e53-856c-ed2b1bc0e06a\" target=\"_top\" title=\"psysml:197b427e-ad07-4e53-856c-ed2b1bc0e06a\" xlink:actuate=\"onRequest\" xlink:href=\"psysml:197b427e-ad07-4e53-856c-ed2b1bc0e06a\" xlink:show=\"new\" xlink:title=\"psysml:197b427e-ad07-4e53-856c-ed2b1bc0e06a\" xlink:type=\"simple\"><path d=\"M120.46,137.09 C117.11,138.96 112.49,141.54 107.35,144.41 \" fill=\"none\" id=\"E5-&gt;E6\" style=\"stroke: #A80036; stroke-width: 1.0;\"/><polygon fill=\"#A80036\" points=\"102.93,146.88,112.7378,145.9814,107.2947,144.4409,108.8352,138.9978,102.93,146.88\" style=\"stroke: #A80036; stroke-width: 1.0;\"/><text fill=\"#000000\" font-family=\"sans-serif\" font-size=\"13\" lengthAdjust=\"spacingAndGlyphs\" textLength=\"7\" x=\"76.7751\" y=\"135.7859\">*</text></a><!--MD5=[3a9b96bfbf6b6ad89c494e81751bda47]\n",
       "link E5 to E7--><a href=\"psysml:b67e977c-71d2-45f4-9959-07a509bb3c26\" target=\"_top\" title=\"psysml:b67e977c-71d2-45f4-9959-07a509bb3c26\" xlink:actuate=\"onRequest\" xlink:href=\"psysml:b67e977c-71d2-45f4-9959-07a509bb3c26\" xlink:show=\"new\" xlink:title=\"psysml:b67e977c-71d2-45f4-9959-07a509bb3c26\" xlink:type=\"simple\"><path d=\"M131.63,137.09 C135.04,138.96 139.73,141.54 144.96,144.41 \" fill=\"none\" id=\"E5-&gt;E7\" style=\"stroke: #A80036; stroke-width: 1.0;\"/><polygon fill=\"#A80036\" points=\"149.45,146.88,143.4751,139.0506,145.0638,144.4797,139.6346,146.0685,149.45,146.88\" style=\"stroke: #A80036; stroke-width: 1.0;\"/><text fill=\"#000000\" font-family=\"sans-serif\" font-size=\"13\" lengthAdjust=\"spacingAndGlyphs\" textLength=\"7\" x=\"164.4832\" y=\"135.7025\">*</text></a><!--MD5=[b54543bd672c1fa43d4c1f2d1408938f]\n",
       "@startuml\r\n",
       "skinparam ranksep 10\r\n",
       "skinparam rectangle {\r\n",
       " backgroundColor<<block>> LightGreen\r\n",
       "}\r\n",
       " \r\n",
       "rec def \"ControlNodeTest\" as E1 << <<(B,lemonchiffon) action def>> [[psysml:d75b3c07-b549-4c23-b2aa-d48828b6adea ]] {\r\n",
       "rec usage \"A1\" as E2 << <<(U,orange) action>> [[psysml:c07d7274-d0ac-44b0-95a3-e3c0562da237 ]] {\r\n",
       "}\r\n",
       "\r\n",
       "rec usage \"A2\" as E3 << <<(U,orange) action>> [[psysml:7bb05ae1-d1dd-4ff0-97ee-ce3344a0751d ]] {\r\n",
       "}\r\n",
       "\r\n",
       "join \"J\" as E4  [[psysml:f3bfce16-3667-4a48-a42e-fd992fa328bf ]] \r\n",
       "fork \"F\" as E5  [[psysml:08c848ef-d5ea-4388-acb9-5b8d01347f10 ]] \r\n",
       "rec usage \"B1\" as E6 << <<(U,orange) action>> [[psysml:d5fd7944-a8f1-4c67-81d3-da10d551f750 ]] {\r\n",
       "}\r\n",
       "\r\n",
       "rec usage \"B2\" as E7 << <<(U,orange) action>> [[psysml:b7d3ffe5-6bb9-4232-a5c3-5eafb8d0b5f9 ]] {\r\n",
       "}\r\n",
       "\r\n",
       "}\r\n",
       "\r\n",
       "E2 - -> \"*\"E4 [[psysml:a5b917a3-7538-4e28-aa62-755107929dae ]] \r\n",
       "E3 - -> \"*\"E4 [[psysml:b67a9087-1129-4a2e-aba3-334d88c3cbf2 ]] \r\n",
       "E4 - -> \"*\"E5 [[psysml:9a17080e-ae46-40d4-b989-796f716175e4 ]] \r\n",
       "E5 - -> \"*\"E6 [[psysml:197b427e-ad07-4e53-856c-ed2b1bc0e06a ]] \r\n",
       "E5 - -> \"*\"E7 [[psysml:b67e977c-71d2-45f4-9959-07a509bb3c26 ]] \r\n",
       "@enduml\r\n",
       "\n",
       "PlantUML version 1.2020.13(Sat Jun 13 12:26:38 UTC 2020)\n",
       "(EPL source distribution)\n",
       "Java Runtime: OpenJDK Runtime Environment\n",
       "JVM: OpenJDK 64-Bit Server VM\n",
       "Default Encoding: UTF-8\n",
       "Language: en\n",
       "Country: null\n",
       "--></g></svg>"
      ]
     },
     "execution_count": 33,
     "metadata": {},
     "output_type": "execute_result"
    }
   ],
   "source": [
    "%viz --style=\"PLANTUML\" --view=\"Interconnection\" \"ControlNodeTest\""
   ]
  },
  {
   "cell_type": "code",
   "execution_count": 34,
   "id": "1595043a",
   "metadata": {
    "execution": {
     "iopub.execute_input": "2021-08-04T06:26:31.479247Z",
     "iopub.status.busy": "2021-08-04T06:26:31.478847Z",
     "iopub.status.idle": "2021-08-04T06:26:31.503434Z",
     "shell.execute_reply": "2021-08-04T06:26:31.502268Z"
    }
   },
   "outputs": [
    {
     "data": {
      "image/svg+xml": [
       "<?xml version=\"1.0\" encoding=\"UTF-8\" standalone=\"no\"?><svg xmlns=\"http://www.w3.org/2000/svg\" xmlns:xlink=\"http://www.w3.org/1999/xlink\" contentScriptType=\"application/ecmascript\" contentStyleType=\"text/css\" height=\"219px\" preserveAspectRatio=\"none\" style=\"width:265px;height:219px;\" version=\"1.1\" viewBox=\"0 0 265 219\" width=\"265px\" zoomAndPan=\"magnify\"><defs><filter height=\"300%\" id=\"fttr9dwjibcl\" width=\"300%\" x=\"-1\" y=\"-1\"><feGaussianBlur result=\"blurOut\" stdDeviation=\"2.0\"/><feColorMatrix in=\"blurOut\" result=\"blurOut2\" type=\"matrix\" values=\"0 0 0 0 0 0 0 0 0 0 0 0 0 0 0 0 0 0 .4 0\"/><feOffset dx=\"4.0\" dy=\"4.0\" in=\"blurOut2\" result=\"blurOut3\"/><feBlend in=\"SourceGraphic\" in2=\"blurOut3\" mode=\"normal\"/></filter></defs><g><!--MD5=[fbc87193dbaf4d95561dea2c320d4a47]\n",
       "cluster E1--><a href=\"psysml:d75b3c07-b549-4c23-b2aa-d48828b6adea\" target=\"_top\" title=\"psysml:d75b3c07-b549-4c23-b2aa-d48828b6adea\" xlink:actuate=\"onRequest\" xlink:href=\"psysml:d75b3c07-b549-4c23-b2aa-d48828b6adea\" xlink:show=\"new\" xlink:title=\"psysml:d75b3c07-b549-4c23-b2aa-d48828b6adea\" xlink:type=\"simple\"><rect fill=\"#FFFFFF\" filter=\"url(#fttr9dwjibcl)\" height=\"193\" id=\"E1\" style=\"stroke: #A80036; stroke-width: 1.5;\" width=\"239\" x=\"7\" y=\"7\"/><rect fill=\"#FEFECE\" height=\"37.9375\" style=\"stroke: #A80036; stroke-width: 1.5;\" width=\"239\" x=\"7\" y=\"7\"/><text fill=\"#000000\" font-family=\"sans-serif\" font-size=\"12\" font-style=\"italic\" lengthAdjust=\"spacingAndGlyphs\" textLength=\"77\" x=\"88\" y=\"23.1387\">«action def»</text><text fill=\"#000000\" font-family=\"sans-serif\" font-size=\"12\" lengthAdjust=\"spacingAndGlyphs\" textLength=\"105\" x=\"74\" y=\"37.1074\">ControlNodeTest</text></a><rect fill=\"#000000\" filter=\"url(#fttr9dwjibcl)\" height=\"8\" style=\"stroke: none; stroke-width: 1.0;\" width=\"80\" x=\"86\" y=\"109\"/><rect fill=\"#000000\" filter=\"url(#fttr9dwjibcl)\" height=\"8\" style=\"stroke: none; stroke-width: 1.0;\" width=\"80\" x=\"86\" y=\"125\"/><g id=\"E1.E2\"><a href=\"psysml:c07d7274-d0ac-44b0-95a3-e3c0562da237\" target=\"_top\" title=\"psysml:c07d7274-d0ac-44b0-95a3-e3c0562da237\" xlink:actuate=\"onRequest\" xlink:href=\"psysml:c07d7274-d0ac-44b0-95a3-e3c0562da237\" xlink:show=\"new\" xlink:title=\"psysml:c07d7274-d0ac-44b0-95a3-e3c0562da237\" xlink:type=\"simple\"><rect fill=\"#FEFECE\" filter=\"url(#fttr9dwjibcl)\" height=\"42.9375\" id=\"E2\" rx=\"10\" ry=\"10\" style=\"stroke: #A80036; stroke-width: 1.5;\" width=\"86\" x=\"144\" y=\"58\"/><ellipse cx=\"161.25\" cy=\"76.9688\" fill=\"#FFA500\" rx=\"11\" ry=\"11\" style=\"stroke: #A80036; stroke-width: 1.0;\"/><path d=\"M157.125,78.8906 L157.125,71.0781 L159.5781,71.0781 L159.5781,79.5156 Q159.5781,80.4375 160.0469,80.9688 Q160.5313,81.5 161.3594,81.5 Q162.2031,81.5 162.6719,80.9688 Q163.1406,80.4375 163.1406,79.5156 L163.1406,71.0781 L165.5938,71.0781 L165.5938,78.8906 Q165.5938,81.4219 164.5938,82.5625 Q163.5938,83.7031 161.3594,83.7031 Q159.1406,83.7031 158.125,82.5625 Q157.125,81.4219 157.125,78.8906 Z \"/><text fill=\"#000000\" font-family=\"sans-serif\" font-size=\"12\" font-style=\"italic\" lengthAdjust=\"spacingAndGlyphs\" textLength=\"53\" x=\"173.75\" y=\"74.1387\">«action»</text><text fill=\"#000000\" font-family=\"sans-serif\" font-size=\"12\" lengthAdjust=\"spacingAndGlyphs\" textLength=\"16\" x=\"192.25\" y=\"88.1074\">A1</text></a></g><g id=\"E1.E3\"><a href=\"psysml:7bb05ae1-d1dd-4ff0-97ee-ce3344a0751d\" target=\"_top\" title=\"psysml:7bb05ae1-d1dd-4ff0-97ee-ce3344a0751d\" xlink:actuate=\"onRequest\" xlink:href=\"psysml:7bb05ae1-d1dd-4ff0-97ee-ce3344a0751d\" xlink:show=\"new\" xlink:title=\"psysml:7bb05ae1-d1dd-4ff0-97ee-ce3344a0751d\" xlink:type=\"simple\"><rect fill=\"#FEFECE\" filter=\"url(#fttr9dwjibcl)\" height=\"42.9375\" id=\"E3\" rx=\"10\" ry=\"10\" style=\"stroke: #A80036; stroke-width: 1.5;\" width=\"86\" x=\"23\" y=\"58\"/><ellipse cx=\"40.25\" cy=\"76.9688\" fill=\"#FFA500\" rx=\"11\" ry=\"11\" style=\"stroke: #A80036; stroke-width: 1.0;\"/><path d=\"M36.125,78.8906 L36.125,71.0781 L38.5781,71.0781 L38.5781,79.5156 Q38.5781,80.4375 39.0469,80.9688 Q39.5313,81.5 40.3594,81.5 Q41.2031,81.5 41.6719,80.9688 Q42.1406,80.4375 42.1406,79.5156 L42.1406,71.0781 L44.5938,71.0781 L44.5938,78.8906 Q44.5938,81.4219 43.5938,82.5625 Q42.5938,83.7031 40.3594,83.7031 Q38.1406,83.7031 37.125,82.5625 Q36.125,81.4219 36.125,78.8906 Z \"/><text fill=\"#000000\" font-family=\"sans-serif\" font-size=\"12\" font-style=\"italic\" lengthAdjust=\"spacingAndGlyphs\" textLength=\"53\" x=\"52.75\" y=\"74.1387\">«action»</text><text fill=\"#000000\" font-family=\"sans-serif\" font-size=\"12\" lengthAdjust=\"spacingAndGlyphs\" textLength=\"16\" x=\"71.25\" y=\"88.1074\">A2</text></a></g><g id=\"E1.E6\"><a href=\"psysml:d5fd7944-a8f1-4c67-81d3-da10d551f750\" target=\"_top\" title=\"psysml:d5fd7944-a8f1-4c67-81d3-da10d551f750\" xlink:actuate=\"onRequest\" xlink:href=\"psysml:d5fd7944-a8f1-4c67-81d3-da10d551f750\" xlink:show=\"new\" xlink:title=\"psysml:d5fd7944-a8f1-4c67-81d3-da10d551f750\" xlink:type=\"simple\"><rect fill=\"#FEFECE\" filter=\"url(#fttr9dwjibcl)\" height=\"42.9375\" id=\"E6\" rx=\"10\" ry=\"10\" style=\"stroke: #A80036; stroke-width: 1.5;\" width=\"86\" x=\"23\" y=\"141\"/><ellipse cx=\"40.25\" cy=\"159.9688\" fill=\"#FFA500\" rx=\"11\" ry=\"11\" style=\"stroke: #A80036; stroke-width: 1.0;\"/><path d=\"M36.125,161.8906 L36.125,154.0781 L38.5781,154.0781 L38.5781,162.5156 Q38.5781,163.4375 39.0469,163.9688 Q39.5313,164.5 40.3594,164.5 Q41.2031,164.5 41.6719,163.9688 Q42.1406,163.4375 42.1406,162.5156 L42.1406,154.0781 L44.5938,154.0781 L44.5938,161.8906 Q44.5938,164.4219 43.5938,165.5625 Q42.5938,166.7031 40.3594,166.7031 Q38.1406,166.7031 37.125,165.5625 Q36.125,164.4219 36.125,161.8906 Z \"/><text fill=\"#000000\" font-family=\"sans-serif\" font-size=\"12\" font-style=\"italic\" lengthAdjust=\"spacingAndGlyphs\" textLength=\"53\" x=\"52.75\" y=\"157.1387\">«action»</text><text fill=\"#000000\" font-family=\"sans-serif\" font-size=\"12\" lengthAdjust=\"spacingAndGlyphs\" textLength=\"16\" x=\"71.25\" y=\"171.1074\">B1</text></a></g><g id=\"E1.E7\"><a href=\"psysml:b7d3ffe5-6bb9-4232-a5c3-5eafb8d0b5f9\" target=\"_top\" title=\"psysml:b7d3ffe5-6bb9-4232-a5c3-5eafb8d0b5f9\" xlink:actuate=\"onRequest\" xlink:href=\"psysml:b7d3ffe5-6bb9-4232-a5c3-5eafb8d0b5f9\" xlink:show=\"new\" xlink:title=\"psysml:b7d3ffe5-6bb9-4232-a5c3-5eafb8d0b5f9\" xlink:type=\"simple\"><rect fill=\"#FEFECE\" filter=\"url(#fttr9dwjibcl)\" height=\"42.9375\" id=\"E7\" rx=\"10\" ry=\"10\" style=\"stroke: #A80036; stroke-width: 1.5;\" width=\"86\" x=\"144\" y=\"141\"/><ellipse cx=\"161.25\" cy=\"159.9688\" fill=\"#FFA500\" rx=\"11\" ry=\"11\" style=\"stroke: #A80036; stroke-width: 1.0;\"/><path d=\"M157.125,161.8906 L157.125,154.0781 L159.5781,154.0781 L159.5781,162.5156 Q159.5781,163.4375 160.0469,163.9688 Q160.5313,164.5 161.3594,164.5 Q162.2031,164.5 162.6719,163.9688 Q163.1406,163.4375 163.1406,162.5156 L163.1406,154.0781 L165.5938,154.0781 L165.5938,161.8906 Q165.5938,164.4219 164.5938,165.5625 Q163.5938,166.7031 161.3594,166.7031 Q159.1406,166.7031 158.125,165.5625 Q157.125,164.4219 157.125,161.8906 Z \"/><text fill=\"#000000\" font-family=\"sans-serif\" font-size=\"12\" font-style=\"italic\" lengthAdjust=\"spacingAndGlyphs\" textLength=\"53\" x=\"173.75\" y=\"157.1387\">«action»</text><text fill=\"#000000\" font-family=\"sans-serif\" font-size=\"12\" lengthAdjust=\"spacingAndGlyphs\" textLength=\"16\" x=\"192.25\" y=\"171.1074\">B2</text></a></g><!--MD5=[4d03bb2d0377dc85ccfab60ff574652b]\n",
       "link E2 to E4--><a href=\"psysml:a5b917a3-7538-4e28-aa62-755107929dae\" target=\"_top\" title=\"psysml:a5b917a3-7538-4e28-aa62-755107929dae\" xlink:actuate=\"onRequest\" xlink:href=\"psysml:a5b917a3-7538-4e28-aa62-755107929dae\" xlink:show=\"new\" xlink:title=\"psysml:a5b917a3-7538-4e28-aa62-755107929dae\" xlink:type=\"simple\"><path d=\"M146.99,101.16 C143.1,103.17 139.44,105.06 136.3,106.68 \" fill=\"none\" id=\"E2-&gt;E4\" style=\"stroke: #A80036; stroke-width: 1.0; stroke-dasharray: 7.0,7.0;\"/><polygon fill=\"#A80036\" points=\"131.83,108.99,141.6614,108.4046,136.2703,106.6913,137.9836,101.3002,131.83,108.99\" style=\"stroke: #A80036; stroke-width: 1.0;\"/></a><!--MD5=[af87c684e3b0d8be13c1a698a818ef1e]\n",
       "link E3 to E4--><a href=\"psysml:b67a9087-1129-4a2e-aba3-334d88c3cbf2\" target=\"_top\" title=\"psysml:b67a9087-1129-4a2e-aba3-334d88c3cbf2\" xlink:actuate=\"onRequest\" xlink:href=\"psysml:b67a9087-1129-4a2e-aba3-334d88c3cbf2\" xlink:show=\"new\" xlink:title=\"psysml:b67a9087-1129-4a2e-aba3-334d88c3cbf2\" xlink:type=\"simple\"><path d=\"M105.35,101.16 C109,103.07 112.44,104.88 115.42,106.45 \" fill=\"none\" id=\"E3-&gt;E4\" style=\"stroke: #A80036; stroke-width: 1.0; stroke-dasharray: 7.0,7.0;\"/><polygon fill=\"#A80036\" points=\"120.26,108.99,114.1556,101.261,115.8345,106.663,110.4325,108.3419,120.26,108.99\" style=\"stroke: #A80036; stroke-width: 1.0;\"/></a><!--MD5=[1b7591eae5389033d8d09a9d6721a717]\n",
       "link E4 to E5--><a href=\"psysml:9a17080e-ae46-40d4-b989-796f716175e4\" target=\"_top\" title=\"psysml:9a17080e-ae46-40d4-b989-796f716175e4\" xlink:actuate=\"onRequest\" xlink:href=\"psysml:9a17080e-ae46-40d4-b989-796f716175e4\" xlink:show=\"new\" xlink:title=\"psysml:9a17080e-ae46-40d4-b989-796f716175e4\" xlink:type=\"simple\"><path d=\"M126,117.25 C126,118.05 126,118.94 126,119.86 \" fill=\"none\" id=\"E4-&gt;E5\" style=\"stroke: #A80036; stroke-width: 1.0; stroke-dasharray: 7.0,7.0;\"/><polygon fill=\"#A80036\" points=\"126,124.96,130,115.96,126,119.96,122,115.96,126,124.96\" style=\"stroke: #A80036; stroke-width: 1.0;\"/></a><!--MD5=[9120cf2e5df3bff93db8f754bbbc09b4]\n",
       "link E5 to E6--><a href=\"psysml:197b427e-ad07-4e53-856c-ed2b1bc0e06a\" target=\"_top\" title=\"psysml:197b427e-ad07-4e53-856c-ed2b1bc0e06a\" xlink:actuate=\"onRequest\" xlink:href=\"psysml:197b427e-ad07-4e53-856c-ed2b1bc0e06a\" xlink:show=\"new\" xlink:title=\"psysml:197b427e-ad07-4e53-856c-ed2b1bc0e06a\" xlink:type=\"simple\"><path d=\"M120.03,133.14 C117.24,134.6 113.66,136.48 109.66,138.58 \" fill=\"none\" id=\"E5-&gt;E6\" style=\"stroke: #A80036; stroke-width: 1.0; stroke-dasharray: 7.0,7.0;\"/><polygon fill=\"#A80036\" points=\"105.18,140.93,115.0083,140.2937,109.6083,138.6084,111.2937,133.2084,105.18,140.93\" style=\"stroke: #A80036; stroke-width: 1.0;\"/></a><!--MD5=[3a9b96bfbf6b6ad89c494e81751bda47]\n",
       "link E5 to E7--><a href=\"psysml:b67e977c-71d2-45f4-9959-07a509bb3c26\" target=\"_top\" title=\"psysml:b67e977c-71d2-45f4-9959-07a509bb3c26\" xlink:actuate=\"onRequest\" xlink:href=\"psysml:b67e977c-71d2-45f4-9959-07a509bb3c26\" xlink:show=\"new\" xlink:title=\"psysml:b67e977c-71d2-45f4-9959-07a509bb3c26\" xlink:type=\"simple\"><path d=\"M132.07,133.14 C134.9,134.6 138.55,136.48 142.61,138.58 \" fill=\"none\" id=\"E5-&gt;E7\" style=\"stroke: #A80036; stroke-width: 1.0; stroke-dasharray: 7.0,7.0;\"/><polygon fill=\"#A80036\" points=\"147.16,140.93,140.9869,133.2558,142.7139,138.6426,137.3271,140.3696,147.16,140.93\" style=\"stroke: #A80036; stroke-width: 1.0;\"/></a><!--MD5=[6c2132f8692d9aeb6dba2f90ccb936d4]\n",
       "@startuml\r\n",
       "skinparam ranksep 8\r\n",
       " \r\n",
       "rec def \"ControlNodeTest\" as E1 << <<(B,lemonchiffon) action def>> [[psysml:d75b3c07-b549-4c23-b2aa-d48828b6adea ]] {\r\n",
       "rec usage \"A1\" as E2 << <<(U,orange) action>> [[psysml:c07d7274-d0ac-44b0-95a3-e3c0562da237 ]] {\r\n",
       "}\r\n",
       "\r\n",
       "rec usage \"A2\" as E3 << <<(U,orange) action>> [[psysml:7bb05ae1-d1dd-4ff0-97ee-ce3344a0751d ]] {\r\n",
       "}\r\n",
       "\r\n",
       "join \"J\" as E4  [[psysml:f3bfce16-3667-4a48-a42e-fd992fa328bf ]] \r\n",
       "fork \"F\" as E5  [[psysml:08c848ef-d5ea-4388-acb9-5b8d01347f10 ]] \r\n",
       "rec usage \"B1\" as E6 << <<(U,orange) action>> [[psysml:d5fd7944-a8f1-4c67-81d3-da10d551f750 ]] {\r\n",
       "}\r\n",
       "\r\n",
       "rec usage \"B2\" as E7 << <<(U,orange) action>> [[psysml:b7d3ffe5-6bb9-4232-a5c3-5eafb8d0b5f9 ]] {\r\n",
       "}\r\n",
       "\r\n",
       "}\r\n",
       "\r\n",
       "E2 ..> E4 [[psysml:a5b917a3-7538-4e28-aa62-755107929dae ]] \r\n",
       "E3 ..> E4 [[psysml:b67a9087-1129-4a2e-aba3-334d88c3cbf2 ]] \r\n",
       "E4 ..> E5 [[psysml:9a17080e-ae46-40d4-b989-796f716175e4 ]] \r\n",
       "E5 ..> E6 [[psysml:197b427e-ad07-4e53-856c-ed2b1bc0e06a ]] \r\n",
       "E5 ..> E7 [[psysml:b67e977c-71d2-45f4-9959-07a509bb3c26 ]] \r\n",
       "@enduml\r\n",
       "\n",
       "PlantUML version 1.2020.13(Sat Jun 13 12:26:38 UTC 2020)\n",
       "(EPL source distribution)\n",
       "Java Runtime: OpenJDK Runtime Environment\n",
       "JVM: OpenJDK 64-Bit Server VM\n",
       "Default Encoding: UTF-8\n",
       "Language: en\n",
       "Country: null\n",
       "--></g></svg>"
      ]
     },
     "execution_count": 34,
     "metadata": {},
     "output_type": "execute_result"
    }
   ],
   "source": [
    "%viz --style=\"PLANTUML\" --view=\"Action\" \"ControlNodeTest\""
   ]
  },
  {
   "cell_type": "code",
   "execution_count": 35,
   "id": "dd6b2b9f",
   "metadata": {
    "execution": {
     "iopub.execute_input": "2021-08-04T06:26:31.553149Z",
     "iopub.status.busy": "2021-08-04T06:26:31.552754Z",
     "iopub.status.idle": "2021-08-04T06:26:31.583418Z",
     "shell.execute_reply": "2021-08-04T06:26:31.583073Z"
    }
   },
   "outputs": [
    {
     "data": {
      "image/svg+xml": [
       "<?xml version=\"1.0\" encoding=\"UTF-8\" standalone=\"no\"?><svg xmlns=\"http://www.w3.org/2000/svg\" xmlns:xlink=\"http://www.w3.org/1999/xlink\" contentScriptType=\"application/ecmascript\" contentStyleType=\"text/css\" height=\"177px\" preserveAspectRatio=\"none\" style=\"width:721px;height:177px;\" version=\"1.1\" viewBox=\"0 0 721 177\" width=\"721px\" zoomAndPan=\"magnify\"><defs><filter height=\"300%\" id=\"f15wh5d2pt9ta4\" width=\"300%\" x=\"-1\" y=\"-1\"><feGaussianBlur result=\"blurOut\" stdDeviation=\"2.0\"/><feColorMatrix in=\"blurOut\" result=\"blurOut2\" type=\"matrix\" values=\"0 0 0 0 0 0 0 0 0 0 0 0 0 0 0 0 0 0 .4 0\"/><feOffset dx=\"4.0\" dy=\"4.0\" in=\"blurOut2\" result=\"blurOut3\"/><feBlend in=\"SourceGraphic\" in2=\"blurOut3\" mode=\"normal\"/></filter></defs><g><!--MD5=[43c9051892ef23e1a46a86907403d788]\n",
       "class E1--><a href=\"psysml:d75b3c07-b549-4c23-b2aa-d48828b6adea\" target=\"_top\" title=\"psysml:d75b3c07-b549-4c23-b2aa-d48828b6adea\" xlink:actuate=\"onRequest\" xlink:href=\"psysml:d75b3c07-b549-4c23-b2aa-d48828b6adea\" xlink:show=\"new\" xlink:title=\"psysml:d75b3c07-b549-4c23-b2aa-d48828b6adea\" xlink:type=\"simple\"><rect fill=\"#FEFECE\" filter=\"url(#f15wh5d2pt9ta4)\" height=\"45.9375\" id=\"E1\" style=\"stroke: #A80036; stroke-width: 1.5;\" width=\"137\" x=\"285\" y=\"7\"/><ellipse cx=\"300\" cy=\"25.9688\" fill=\"#FFFACD\" rx=\"11\" ry=\"11\" style=\"stroke: #A80036; stroke-width: 1.0;\"/><path d=\"M298.9063,26.3438 L298.9063,30.0156 L300.5313,30.0156 Q301.7031,30.0156 302.1719,29.625 Q302.6406,29.2188 302.6406,28.2188 Q302.6406,27.2188 302.1406,26.7813 Q301.6563,26.3438 300.5313,26.3438 L298.9063,26.3438 Z M298.9063,21.5156 L298.9063,24.3906 L300.5313,24.3906 Q301.4531,24.3906 301.8438,24.0625 Q302.25,23.7188 302.25,22.9688 Q302.25,22.2031 301.8438,21.8594 Q301.4375,21.5156 300.5313,21.5156 L298.9063,21.5156 Z M296.5313,19.5625 L300.5313,19.5625 Q302.5938,19.5625 303.6406,20.3438 Q304.6875,21.125 304.6875,22.6875 Q304.6875,23.8906 304.0625,24.5625 Q303.4531,25.2344 302.2656,25.3438 Q303.6875,25.4844 304.4063,26.2969 Q305.125,27.1094 305.125,28.5625 Q305.125,30.3594 304.0469,31.1719 Q302.9688,31.9688 300.5313,31.9688 L296.5313,31.9688 L296.5313,19.5625 Z \"/><text fill=\"#000000\" font-family=\"sans-serif\" font-size=\"12\" font-style=\"italic\" lengthAdjust=\"spacingAndGlyphs\" textLength=\"77\" x=\"328\" y=\"23.1387\">«action def»</text><text fill=\"#000000\" font-family=\"sans-serif\" font-size=\"12\" lengthAdjust=\"spacingAndGlyphs\" textLength=\"105\" x=\"314\" y=\"37.1074\">ControlNodeTest</text><line style=\"stroke: #A80036; stroke-width: 1.5;\" x1=\"286\" x2=\"421\" y1=\"44.9375\" y2=\"44.9375\"/></a><!--MD5=[b4997ac47864f28c2f74865a473b2911]\n",
       "class E2--><a href=\"psysml:c07d7274-d0ac-44b0-95a3-e3c0562da237\" target=\"_top\" title=\"psysml:c07d7274-d0ac-44b0-95a3-e3c0562da237\" xlink:actuate=\"onRequest\" xlink:href=\"psysml:c07d7274-d0ac-44b0-95a3-e3c0562da237\" xlink:show=\"new\" xlink:title=\"psysml:c07d7274-d0ac-44b0-95a3-e3c0562da237\" xlink:type=\"simple\"><rect fill=\"#FEFECE\" filter=\"url(#f15wh5d2pt9ta4)\" height=\"45.9375\" id=\"E2\" rx=\"10\" ry=\"10\" style=\"stroke: #A80036; stroke-width: 1.5;\" width=\"81\" x=\"7\" y=\"113\"/><ellipse cx=\"22\" cy=\"131.9688\" fill=\"#FFA500\" rx=\"11\" ry=\"11\" style=\"stroke: #A80036; stroke-width: 1.0;\"/><path d=\"M17.875,133.8906 L17.875,126.0781 L20.3281,126.0781 L20.3281,134.5156 Q20.3281,135.4375 20.7969,135.9688 Q21.2813,136.5 22.1094,136.5 Q22.9531,136.5 23.4219,135.9688 Q23.8906,135.4375 23.8906,134.5156 L23.8906,126.0781 L26.3438,126.0781 L26.3438,133.8906 Q26.3438,136.4219 25.3438,137.5625 Q24.3438,138.7031 22.1094,138.7031 Q19.8906,138.7031 18.875,137.5625 Q17.875,136.4219 17.875,133.8906 Z \"/><text fill=\"#000000\" font-family=\"sans-serif\" font-size=\"12\" font-style=\"italic\" lengthAdjust=\"spacingAndGlyphs\" textLength=\"53\" x=\"34\" y=\"129.1387\">«action»</text><text fill=\"#000000\" font-family=\"sans-serif\" font-size=\"12\" lengthAdjust=\"spacingAndGlyphs\" textLength=\"16\" x=\"52.5\" y=\"143.1074\">A1</text><line style=\"stroke: #A80036; stroke-width: 1.5;\" x1=\"8\" x2=\"87\" y1=\"150.9375\" y2=\"150.9375\"/></a><!--MD5=[09b614a08d8cba4a07c9adeb5e0fee81]\n",
       "class E3--><a href=\"psysml:7bb05ae1-d1dd-4ff0-97ee-ce3344a0751d\" target=\"_top\" title=\"psysml:7bb05ae1-d1dd-4ff0-97ee-ce3344a0751d\" xlink:actuate=\"onRequest\" xlink:href=\"psysml:7bb05ae1-d1dd-4ff0-97ee-ce3344a0751d\" xlink:show=\"new\" xlink:title=\"psysml:7bb05ae1-d1dd-4ff0-97ee-ce3344a0751d\" xlink:type=\"simple\"><rect fill=\"#FEFECE\" filter=\"url(#f15wh5d2pt9ta4)\" height=\"45.9375\" id=\"E3\" rx=\"10\" ry=\"10\" style=\"stroke: #A80036; stroke-width: 1.5;\" width=\"81\" x=\"123\" y=\"113\"/><ellipse cx=\"138\" cy=\"131.9688\" fill=\"#FFA500\" rx=\"11\" ry=\"11\" style=\"stroke: #A80036; stroke-width: 1.0;\"/><path d=\"M133.875,133.8906 L133.875,126.0781 L136.3281,126.0781 L136.3281,134.5156 Q136.3281,135.4375 136.7969,135.9688 Q137.2813,136.5 138.1094,136.5 Q138.9531,136.5 139.4219,135.9688 Q139.8906,135.4375 139.8906,134.5156 L139.8906,126.0781 L142.3438,126.0781 L142.3438,133.8906 Q142.3438,136.4219 141.3438,137.5625 Q140.3438,138.7031 138.1094,138.7031 Q135.8906,138.7031 134.875,137.5625 Q133.875,136.4219 133.875,133.8906 Z \"/><text fill=\"#000000\" font-family=\"sans-serif\" font-size=\"12\" font-style=\"italic\" lengthAdjust=\"spacingAndGlyphs\" textLength=\"53\" x=\"150\" y=\"129.1387\">«action»</text><text fill=\"#000000\" font-family=\"sans-serif\" font-size=\"12\" lengthAdjust=\"spacingAndGlyphs\" textLength=\"16\" x=\"168.5\" y=\"143.1074\">A2</text><line style=\"stroke: #A80036; stroke-width: 1.5;\" x1=\"124\" x2=\"203\" y1=\"150.9375\" y2=\"150.9375\"/></a><!--MD5=[ebbe1d658d1005bcc118a6aa81145e00]\n",
       "class E4--><a href=\"psysml:f3bfce16-3667-4a48-a42e-fd992fa328bf\" target=\"_top\" title=\"psysml:f3bfce16-3667-4a48-a42e-fd992fa328bf\" xlink:actuate=\"onRequest\" xlink:href=\"psysml:f3bfce16-3667-4a48-a42e-fd992fa328bf\" xlink:show=\"new\" xlink:title=\"psysml:f3bfce16-3667-4a48-a42e-fd992fa328bf\" xlink:type=\"simple\"><rect fill=\"#FEFECE\" filter=\"url(#f15wh5d2pt9ta4)\" height=\"45.9375\" id=\"E4\" rx=\"10\" ry=\"10\" style=\"stroke: #A80036; stroke-width: 1.5;\" width=\"97\" x=\"239\" y=\"113\"/><ellipse cx=\"254\" cy=\"131.9688\" fill=\"#FFA500\" rx=\"11\" ry=\"11\" style=\"stroke: #A80036; stroke-width: 1.0;\"/><path d=\"M249.875,133.8906 L249.875,126.0781 L252.3281,126.0781 L252.3281,134.5156 Q252.3281,135.4375 252.7969,135.9688 Q253.2813,136.5 254.1094,136.5 Q254.9531,136.5 255.4219,135.9688 Q255.8906,135.4375 255.8906,134.5156 L255.8906,126.0781 L258.3438,126.0781 L258.3438,133.8906 Q258.3438,136.4219 257.3438,137.5625 Q256.3438,138.7031 254.1094,138.7031 Q251.8906,138.7031 250.875,137.5625 Q249.875,136.4219 249.875,133.8906 Z \"/><text fill=\"#000000\" font-family=\"sans-serif\" font-size=\"12\" font-style=\"italic\" lengthAdjust=\"spacingAndGlyphs\" textLength=\"69\" x=\"266\" y=\"129.1387\">«joinNode»</text><text fill=\"#000000\" font-family=\"sans-serif\" font-size=\"12\" lengthAdjust=\"spacingAndGlyphs\" textLength=\"3\" x=\"299\" y=\"143.1074\">J</text><line style=\"stroke: #A80036; stroke-width: 1.5;\" x1=\"240\" x2=\"335\" y1=\"150.9375\" y2=\"150.9375\"/></a><!--MD5=[270fce915f116d4de14055a7c1d9a0f3]\n",
       "class E5--><a href=\"psysml:08c848ef-d5ea-4388-acb9-5b8d01347f10\" target=\"_top\" title=\"psysml:08c848ef-d5ea-4388-acb9-5b8d01347f10\" xlink:actuate=\"onRequest\" xlink:href=\"psysml:08c848ef-d5ea-4388-acb9-5b8d01347f10\" xlink:show=\"new\" xlink:title=\"psysml:08c848ef-d5ea-4388-acb9-5b8d01347f10\" xlink:type=\"simple\"><rect fill=\"#FEFECE\" filter=\"url(#f15wh5d2pt9ta4)\" height=\"45.9375\" id=\"E5\" rx=\"10\" ry=\"10\" style=\"stroke: #A80036; stroke-width: 1.5;\" width=\"99\" x=\"371\" y=\"113\"/><ellipse cx=\"386\" cy=\"131.9688\" fill=\"#FFA500\" rx=\"11\" ry=\"11\" style=\"stroke: #A80036; stroke-width: 1.0;\"/><path d=\"M381.875,133.8906 L381.875,126.0781 L384.3281,126.0781 L384.3281,134.5156 Q384.3281,135.4375 384.7969,135.9688 Q385.2813,136.5 386.1094,136.5 Q386.9531,136.5 387.4219,135.9688 Q387.8906,135.4375 387.8906,134.5156 L387.8906,126.0781 L390.3438,126.0781 L390.3438,133.8906 Q390.3438,136.4219 389.3438,137.5625 Q388.3438,138.7031 386.1094,138.7031 Q383.8906,138.7031 382.875,137.5625 Q381.875,136.4219 381.875,133.8906 Z \"/><text fill=\"#000000\" font-family=\"sans-serif\" font-size=\"12\" font-style=\"italic\" lengthAdjust=\"spacingAndGlyphs\" textLength=\"71\" x=\"398\" y=\"129.1387\">«forkNode»</text><text fill=\"#000000\" font-family=\"sans-serif\" font-size=\"12\" lengthAdjust=\"spacingAndGlyphs\" textLength=\"7\" x=\"430\" y=\"143.1074\">F</text><line style=\"stroke: #A80036; stroke-width: 1.5;\" x1=\"372\" x2=\"469\" y1=\"150.9375\" y2=\"150.9375\"/></a><!--MD5=[60a26617385b1d2d0262a64233df1f8d]\n",
       "class E6--><a href=\"psysml:d5fd7944-a8f1-4c67-81d3-da10d551f750\" target=\"_top\" title=\"psysml:d5fd7944-a8f1-4c67-81d3-da10d551f750\" xlink:actuate=\"onRequest\" xlink:href=\"psysml:d5fd7944-a8f1-4c67-81d3-da10d551f750\" xlink:show=\"new\" xlink:title=\"psysml:d5fd7944-a8f1-4c67-81d3-da10d551f750\" xlink:type=\"simple\"><rect fill=\"#FEFECE\" filter=\"url(#f15wh5d2pt9ta4)\" height=\"45.9375\" id=\"E6\" rx=\"10\" ry=\"10\" style=\"stroke: #A80036; stroke-width: 1.5;\" width=\"81\" x=\"505\" y=\"113\"/><ellipse cx=\"520\" cy=\"131.9688\" fill=\"#FFA500\" rx=\"11\" ry=\"11\" style=\"stroke: #A80036; stroke-width: 1.0;\"/><path d=\"M515.875,133.8906 L515.875,126.0781 L518.3281,126.0781 L518.3281,134.5156 Q518.3281,135.4375 518.7969,135.9688 Q519.2813,136.5 520.1094,136.5 Q520.9531,136.5 521.4219,135.9688 Q521.8906,135.4375 521.8906,134.5156 L521.8906,126.0781 L524.3438,126.0781 L524.3438,133.8906 Q524.3438,136.4219 523.3438,137.5625 Q522.3438,138.7031 520.1094,138.7031 Q517.8906,138.7031 516.875,137.5625 Q515.875,136.4219 515.875,133.8906 Z \"/><text fill=\"#000000\" font-family=\"sans-serif\" font-size=\"12\" font-style=\"italic\" lengthAdjust=\"spacingAndGlyphs\" textLength=\"53\" x=\"532\" y=\"129.1387\">«action»</text><text fill=\"#000000\" font-family=\"sans-serif\" font-size=\"12\" lengthAdjust=\"spacingAndGlyphs\" textLength=\"16\" x=\"550.5\" y=\"143.1074\">B1</text><line style=\"stroke: #A80036; stroke-width: 1.5;\" x1=\"506\" x2=\"585\" y1=\"150.9375\" y2=\"150.9375\"/></a><!--MD5=[2156ba9850f5573cc1fc38a6a4b2f02b]\n",
       "class E7--><a href=\"psysml:b7d3ffe5-6bb9-4232-a5c3-5eafb8d0b5f9\" target=\"_top\" title=\"psysml:b7d3ffe5-6bb9-4232-a5c3-5eafb8d0b5f9\" xlink:actuate=\"onRequest\" xlink:href=\"psysml:b7d3ffe5-6bb9-4232-a5c3-5eafb8d0b5f9\" xlink:show=\"new\" xlink:title=\"psysml:b7d3ffe5-6bb9-4232-a5c3-5eafb8d0b5f9\" xlink:type=\"simple\"><rect fill=\"#FEFECE\" filter=\"url(#f15wh5d2pt9ta4)\" height=\"45.9375\" id=\"E7\" rx=\"10\" ry=\"10\" style=\"stroke: #A80036; stroke-width: 1.5;\" width=\"81\" x=\"621\" y=\"113\"/><ellipse cx=\"636\" cy=\"131.9688\" fill=\"#FFA500\" rx=\"11\" ry=\"11\" style=\"stroke: #A80036; stroke-width: 1.0;\"/><path d=\"M631.875,133.8906 L631.875,126.0781 L634.3281,126.0781 L634.3281,134.5156 Q634.3281,135.4375 634.7969,135.9688 Q635.2813,136.5 636.1094,136.5 Q636.9531,136.5 637.4219,135.9688 Q637.8906,135.4375 637.8906,134.5156 L637.8906,126.0781 L640.3438,126.0781 L640.3438,133.8906 Q640.3438,136.4219 639.3438,137.5625 Q638.3438,138.7031 636.1094,138.7031 Q633.8906,138.7031 632.875,137.5625 Q631.875,136.4219 631.875,133.8906 Z \"/><text fill=\"#000000\" font-family=\"sans-serif\" font-size=\"12\" font-style=\"italic\" lengthAdjust=\"spacingAndGlyphs\" textLength=\"53\" x=\"648\" y=\"129.1387\">«action»</text><text fill=\"#000000\" font-family=\"sans-serif\" font-size=\"12\" lengthAdjust=\"spacingAndGlyphs\" textLength=\"16\" x=\"666.5\" y=\"143.1074\">B2</text><line style=\"stroke: #A80036; stroke-width: 1.5;\" x1=\"622\" x2=\"701\" y1=\"150.9375\" y2=\"150.9375\"/></a><!--MD5=[a523cb2a0b79ecf9065ad8783f96c320]\n",
       "reverse link E1 to E2--><a href=\"psysml:090da899-d633-4f68-ac70-93df987c1f89\" target=\"_top\" title=\"psysml:090da899-d633-4f68-ac70-93df987c1f89\" xlink:actuate=\"onRequest\" xlink:href=\"psysml:090da899-d633-4f68-ac70-93df987c1f89\" xlink:show=\"new\" xlink:title=\"psysml:090da899-d633-4f68-ac70-93df987c1f89\" xlink:type=\"simple\"><path d=\"M272.15,56.92 C223.59,72.63 160.82,93.37 105.5,113 C99.92,114.98 94.06,117.13 88.29,119.27 \" fill=\"none\" id=\"E1&lt;-E2\" style=\"stroke: #A80036; stroke-width: 1.0;\"/><polygon fill=\"#A80036\" points=\"284.81,52.83,277.8725,50.8626,273.3881,56.5098,280.3257,58.4772,284.81,52.83\" style=\"stroke: #A80036; stroke-width: 1.0;\"/><text fill=\"#000000\" font-family=\"sans-serif\" font-size=\"13\" lengthAdjust=\"spacingAndGlyphs\" textLength=\"7\" x=\"95.9023\" y=\"112.1891\">*</text></a><!--MD5=[5d7b3810b1dd9b5164bea1151b29b665]\n",
       "reverse link E1 to E3--><a href=\"psysml:797c4c3c-8cfb-4ed1-914f-99d654db3cec\" target=\"_top\" title=\"psysml:797c4c3c-8cfb-4ed1-914f-99d654db3cec\" xlink:actuate=\"onRequest\" xlink:href=\"psysml:797c4c3c-8cfb-4ed1-914f-99d654db3cec\" xlink:show=\"new\" xlink:title=\"psysml:797c4c3c-8cfb-4ed1-914f-99d654db3cec\" xlink:type=\"simple\"><path d=\"M301.79,59.3 C270.93,76.2 232.31,97.33 203.74,112.98 \" fill=\"none\" id=\"E1&lt;-E3\" style=\"stroke: #A80036; stroke-width: 1.0;\"/><polygon fill=\"#A80036\" points=\"313.21,53.06,306.0262,52.4335,302.6848,58.8238,309.8687,59.4503,313.21,53.06\" style=\"stroke: #A80036; stroke-width: 1.0;\"/><text fill=\"#000000\" font-family=\"sans-serif\" font-size=\"13\" lengthAdjust=\"spacingAndGlyphs\" textLength=\"7\" x=\"206.6139\" y=\"101.8709\">*</text></a><!--MD5=[f2c5c03aa1e8c0ba21c10a05e6444b8e]\n",
       "reverse link E1 to E4--><a href=\"psysml:70a466ea-83ad-4e19-afa5-d192b13fd9c7\" target=\"_top\" title=\"psysml:70a466ea-83ad-4e19-afa5-d192b13fd9c7\" xlink:actuate=\"onRequest\" xlink:href=\"psysml:70a466ea-83ad-4e19-afa5-d192b13fd9c7\" xlink:show=\"new\" xlink:title=\"psysml:70a466ea-83ad-4e19-afa5-d192b13fd9c7\" xlink:type=\"simple\"><path d=\"M332.5,64.09 C322.37,80.06 310.49,98.78 301.48,112.98 \" fill=\"none\" id=\"E1&lt;-E4\" style=\"stroke: #A80036; stroke-width: 1.0;\"/><polygon fill=\"#A80036\" points=\"339.5,53.06,332.9061,55.9789,333.0643,63.1883,339.6583,60.2694,339.5,53.06\" style=\"stroke: #A80036; stroke-width: 1.0;\"/></a><!--MD5=[33238bef88d6431a141d8bc8fb12bca0]\n",
       "reverse link E1 to E5--><a href=\"psysml:26253911-6243-446d-b791-23c0e42b91a5\" target=\"_top\" title=\"psysml:26253911-6243-446d-b791-23c0e42b91a5\" xlink:actuate=\"onRequest\" xlink:href=\"psysml:26253911-6243-446d-b791-23c0e42b91a5\" xlink:show=\"new\" xlink:title=\"psysml:26253911-6243-446d-b791-23c0e42b91a5\" xlink:type=\"simple\"><path d=\"M374.82,64.09 C385.11,80.06 397.17,98.78 406.31,112.98 \" fill=\"none\" id=\"E1&lt;-E5\" style=\"stroke: #A80036; stroke-width: 1.0;\"/><polygon fill=\"#A80036\" points=\"367.71,53.06,367.5979,60.2702,374.2104,63.1469,374.3225,55.9366,367.71,53.06\" style=\"stroke: #A80036; stroke-width: 1.0;\"/></a><!--MD5=[aca2ef284c2b1b90e17e73bf3f292c07]\n",
       "reverse link E1 to E6--><a href=\"psysml:e8354a48-cb93-46c3-a69e-19a4acf29f71\" target=\"_top\" title=\"psysml:e8354a48-cb93-46c3-a69e-19a4acf29f71\" xlink:actuate=\"onRequest\" xlink:href=\"psysml:e8354a48-cb93-46c3-a69e-19a4acf29f71\" xlink:show=\"new\" xlink:title=\"psysml:e8354a48-cb93-46c3-a69e-19a4acf29f71\" xlink:type=\"simple\"><path d=\"M405.75,59.3 C436.94,76.2 475.96,97.33 504.84,112.98 \" fill=\"none\" id=\"E1&lt;-E6\" style=\"stroke: #A80036; stroke-width: 1.0;\"/><polygon fill=\"#A80036\" points=\"394.22,53.06,397.5865,59.437,404.7678,58.7822,401.4013,52.4052,394.22,53.06\" style=\"stroke: #A80036; stroke-width: 1.0;\"/><text fill=\"#000000\" font-family=\"sans-serif\" font-size=\"13\" lengthAdjust=\"spacingAndGlyphs\" textLength=\"7\" x=\"489.974\" y=\"104.6279\">*</text></a><!--MD5=[fc9706a6b2cf8c0e423679d303750d3f]\n",
       "reverse link E1 to E7--><a href=\"psysml:8dca6daf-962f-46a3-bb74-22037bd04295\" target=\"_top\" title=\"psysml:8dca6daf-962f-46a3-bb74-22037bd04295\" xlink:actuate=\"onRequest\" xlink:href=\"psysml:8dca6daf-962f-46a3-bb74-22037bd04295\" xlink:show=\"new\" xlink:title=\"psysml:8dca6daf-962f-46a3-bb74-22037bd04295\" xlink:type=\"simple\"><path d=\"M434.69,56.6 C483.75,72.32 547.44,93.19 603.5,113 C609.08,114.97 614.95,117.12 620.71,119.26 \" fill=\"none\" id=\"E1&lt;-E7\" style=\"stroke: #A80036; stroke-width: 1.0;\"/><polygon fill=\"#A80036\" points=\"422.23,52.61,426.7262,58.2478,433.6595,56.2659,429.1634,50.6281,422.23,52.61\" style=\"stroke: #A80036; stroke-width: 1.0;\"/><text fill=\"#000000\" font-family=\"sans-serif\" font-size=\"13\" lengthAdjust=\"spacingAndGlyphs\" textLength=\"7\" x=\"606.0977\" y=\"112.1774\">*</text></a><!--MD5=[4e2f6062f00b109a95c74f75d892ff80]\n",
       "@startuml\r\n",
       " \r\n",
       "comp def \"ControlNodeTest\" as E1 << <<(B,lemonchiffon) action def>> [[psysml:d75b3c07-b549-4c23-b2aa-d48828b6adea ]] {\r\n",
       "}\r\n",
       "comp usage \"A1\" as E2 << <<(U,orange) action>> [[psysml:c07d7274-d0ac-44b0-95a3-e3c0562da237 ]] {\r\n",
       "}\r\n",
       "comp usage \"A2\" as E3 << <<(U,orange) action>> [[psysml:7bb05ae1-d1dd-4ff0-97ee-ce3344a0751d ]] {\r\n",
       "}\r\n",
       "comp usage \"J\" as E4 << <<(U,orange) joinNode>> [[psysml:f3bfce16-3667-4a48-a42e-fd992fa328bf ]] {\r\n",
       "}\r\n",
       "comp usage \"F\" as E5 << <<(U,orange) forkNode>> [[psysml:08c848ef-d5ea-4388-acb9-5b8d01347f10 ]] {\r\n",
       "}\r\n",
       "comp usage \"B1\" as E6 << <<(U,orange) action>> [[psysml:d5fd7944-a8f1-4c67-81d3-da10d551f750 ]] {\r\n",
       "}\r\n",
       "comp usage \"B2\" as E7 << <<(U,orange) action>> [[psysml:b7d3ffe5-6bb9-4232-a5c3-5eafb8d0b5f9 ]] {\r\n",
       "}\r\n",
       "E1 *- - \"*\"E2 [[psysml:090da899-d633-4f68-ac70-93df987c1f89 ]] \r\n",
       "E1 *- - \"*\"E3 [[psysml:797c4c3c-8cfb-4ed1-914f-99d654db3cec ]] \r\n",
       "E1 *- - E4 [[psysml:70a466ea-83ad-4e19-afa5-d192b13fd9c7 ]] \r\n",
       "E1 *- - E5 [[psysml:26253911-6243-446d-b791-23c0e42b91a5 ]] \r\n",
       "E1 *- - \"*\"E6 [[psysml:e8354a48-cb93-46c3-a69e-19a4acf29f71 ]] \r\n",
       "E1 *- - \"*\"E7 [[psysml:8dca6daf-962f-46a3-bb74-22037bd04295 ]] \r\n",
       "@enduml\r\n",
       "\n",
       "PlantUML version 1.2020.13(Sat Jun 13 12:26:38 UTC 2020)\n",
       "(EPL source distribution)\n",
       "Java Runtime: OpenJDK Runtime Environment\n",
       "JVM: OpenJDK 64-Bit Server VM\n",
       "Default Encoding: UTF-8\n",
       "Language: en\n",
       "Country: null\n",
       "--></g></svg>"
      ]
     },
     "execution_count": 35,
     "metadata": {},
     "output_type": "execute_result"
    }
   ],
   "source": [
    "%viz --style=\"PLANTUML\" --view=\"Sequence\" \"ControlNodeTest\""
   ]
  },
  {
   "cell_type": "code",
   "execution_count": 36,
   "id": "8e2d8abd",
   "metadata": {
    "execution": {
     "iopub.execute_input": "2021-08-04T06:26:31.633237Z",
     "iopub.status.busy": "2021-08-04T06:26:31.632842Z",
     "iopub.status.idle": "2021-08-04T06:26:31.663062Z",
     "shell.execute_reply": "2021-08-04T06:26:31.662706Z"
    }
   },
   "outputs": [
    {
     "data": {
      "image/svg+xml": [
       "<?xml version=\"1.0\" encoding=\"UTF-8\" standalone=\"no\"?><svg xmlns=\"http://www.w3.org/2000/svg\" xmlns:xlink=\"http://www.w3.org/1999/xlink\" contentScriptType=\"application/ecmascript\" contentStyleType=\"text/css\" height=\"375px\" preserveAspectRatio=\"none\" style=\"width:265px;height:375px;\" version=\"1.1\" viewBox=\"0 0 265 375\" width=\"265px\" zoomAndPan=\"magnify\"><defs><filter height=\"300%\" id=\"fad7xciko9t62\" width=\"300%\" x=\"-1\" y=\"-1\"><feGaussianBlur result=\"blurOut\" stdDeviation=\"2.0\"/><feColorMatrix in=\"blurOut\" result=\"blurOut2\" type=\"matrix\" values=\"0 0 0 0 0 0 0 0 0 0 0 0 0 0 0 0 0 0 .4 0\"/><feOffset dx=\"4.0\" dy=\"4.0\" in=\"blurOut2\" result=\"blurOut3\"/><feBlend in=\"SourceGraphic\" in2=\"blurOut3\" mode=\"normal\"/></filter></defs><g><!--MD5=[fbc87193dbaf4d95561dea2c320d4a47]\n",
       "cluster E1--><a href=\"psysml:d75b3c07-b549-4c23-b2aa-d48828b6adea\" target=\"_top\" title=\"psysml:d75b3c07-b549-4c23-b2aa-d48828b6adea\" xlink:actuate=\"onRequest\" xlink:href=\"psysml:d75b3c07-b549-4c23-b2aa-d48828b6adea\" xlink:show=\"new\" xlink:title=\"psysml:d75b3c07-b549-4c23-b2aa-d48828b6adea\" xlink:type=\"simple\"><rect fill=\"#FFFFFF\" filter=\"url(#fad7xciko9t62)\" height=\"349\" id=\"E1\" style=\"stroke: #A80036; stroke-width: 1.5;\" width=\"239\" x=\"7\" y=\"7\"/><rect fill=\"#FEFECE\" height=\"37.9375\" style=\"stroke: #A80036; stroke-width: 1.5;\" width=\"239\" x=\"7\" y=\"7\"/><text fill=\"#000000\" font-family=\"sans-serif\" font-size=\"12\" font-style=\"italic\" lengthAdjust=\"spacingAndGlyphs\" textLength=\"77\" x=\"88\" y=\"23.1387\">«action def»</text><text fill=\"#000000\" font-family=\"sans-serif\" font-size=\"12\" lengthAdjust=\"spacingAndGlyphs\" textLength=\"105\" x=\"74\" y=\"37.1074\">ControlNodeTest</text></a><rect fill=\"#000000\" filter=\"url(#fad7xciko9t62)\" height=\"8\" style=\"stroke: none; stroke-width: 1.0;\" width=\"80\" x=\"86\" y=\"161\"/><rect fill=\"#000000\" filter=\"url(#fad7xciko9t62)\" height=\"8\" style=\"stroke: none; stroke-width: 1.0;\" width=\"80\" x=\"86\" y=\"229\"/><g id=\"E1.E2\"><a href=\"psysml:c07d7274-d0ac-44b0-95a3-e3c0562da237\" target=\"_top\" title=\"psysml:c07d7274-d0ac-44b0-95a3-e3c0562da237\" xlink:actuate=\"onRequest\" xlink:href=\"psysml:c07d7274-d0ac-44b0-95a3-e3c0562da237\" xlink:show=\"new\" xlink:title=\"psysml:c07d7274-d0ac-44b0-95a3-e3c0562da237\" xlink:type=\"simple\"><rect fill=\"#FEFECE\" filter=\"url(#fad7xciko9t62)\" height=\"42.9375\" id=\"E2\" rx=\"10\" ry=\"10\" style=\"stroke: #A80036; stroke-width: 1.5;\" width=\"86\" x=\"144\" y=\"58\"/><ellipse cx=\"161.25\" cy=\"76.9688\" fill=\"#FFA500\" rx=\"11\" ry=\"11\" style=\"stroke: #A80036; stroke-width: 1.0;\"/><path d=\"M157.125,78.8906 L157.125,71.0781 L159.5781,71.0781 L159.5781,79.5156 Q159.5781,80.4375 160.0469,80.9688 Q160.5313,81.5 161.3594,81.5 Q162.2031,81.5 162.6719,80.9688 Q163.1406,80.4375 163.1406,79.5156 L163.1406,71.0781 L165.5938,71.0781 L165.5938,78.8906 Q165.5938,81.4219 164.5938,82.5625 Q163.5938,83.7031 161.3594,83.7031 Q159.1406,83.7031 158.125,82.5625 Q157.125,81.4219 157.125,78.8906 Z \"/><text fill=\"#000000\" font-family=\"sans-serif\" font-size=\"12\" font-style=\"italic\" lengthAdjust=\"spacingAndGlyphs\" textLength=\"53\" x=\"173.75\" y=\"74.1387\">«action»</text><text fill=\"#000000\" font-family=\"sans-serif\" font-size=\"12\" lengthAdjust=\"spacingAndGlyphs\" textLength=\"16\" x=\"192.25\" y=\"88.1074\">A1</text></a></g><g id=\"E1.E3\"><a href=\"psysml:7bb05ae1-d1dd-4ff0-97ee-ce3344a0751d\" target=\"_top\" title=\"psysml:7bb05ae1-d1dd-4ff0-97ee-ce3344a0751d\" xlink:actuate=\"onRequest\" xlink:href=\"psysml:7bb05ae1-d1dd-4ff0-97ee-ce3344a0751d\" xlink:show=\"new\" xlink:title=\"psysml:7bb05ae1-d1dd-4ff0-97ee-ce3344a0751d\" xlink:type=\"simple\"><rect fill=\"#FEFECE\" filter=\"url(#fad7xciko9t62)\" height=\"42.9375\" id=\"E3\" rx=\"10\" ry=\"10\" style=\"stroke: #A80036; stroke-width: 1.5;\" width=\"86\" x=\"23\" y=\"58\"/><ellipse cx=\"40.25\" cy=\"76.9688\" fill=\"#FFA500\" rx=\"11\" ry=\"11\" style=\"stroke: #A80036; stroke-width: 1.0;\"/><path d=\"M36.125,78.8906 L36.125,71.0781 L38.5781,71.0781 L38.5781,79.5156 Q38.5781,80.4375 39.0469,80.9688 Q39.5313,81.5 40.3594,81.5 Q41.2031,81.5 41.6719,80.9688 Q42.1406,80.4375 42.1406,79.5156 L42.1406,71.0781 L44.5938,71.0781 L44.5938,78.8906 Q44.5938,81.4219 43.5938,82.5625 Q42.5938,83.7031 40.3594,83.7031 Q38.1406,83.7031 37.125,82.5625 Q36.125,81.4219 36.125,78.8906 Z \"/><text fill=\"#000000\" font-family=\"sans-serif\" font-size=\"12\" font-style=\"italic\" lengthAdjust=\"spacingAndGlyphs\" textLength=\"53\" x=\"52.75\" y=\"74.1387\">«action»</text><text fill=\"#000000\" font-family=\"sans-serif\" font-size=\"12\" lengthAdjust=\"spacingAndGlyphs\" textLength=\"16\" x=\"71.25\" y=\"88.1074\">A2</text></a></g><g id=\"E1.E6\"><a href=\"psysml:d5fd7944-a8f1-4c67-81d3-da10d551f750\" target=\"_top\" title=\"psysml:d5fd7944-a8f1-4c67-81d3-da10d551f750\" xlink:actuate=\"onRequest\" xlink:href=\"psysml:d5fd7944-a8f1-4c67-81d3-da10d551f750\" xlink:show=\"new\" xlink:title=\"psysml:d5fd7944-a8f1-4c67-81d3-da10d551f750\" xlink:type=\"simple\"><rect fill=\"#FEFECE\" filter=\"url(#fad7xciko9t62)\" height=\"42.9375\" id=\"E6\" rx=\"10\" ry=\"10\" style=\"stroke: #A80036; stroke-width: 1.5;\" width=\"86\" x=\"23\" y=\"297\"/><ellipse cx=\"40.25\" cy=\"315.9688\" fill=\"#FFA500\" rx=\"11\" ry=\"11\" style=\"stroke: #A80036; stroke-width: 1.0;\"/><path d=\"M36.125,317.8906 L36.125,310.0781 L38.5781,310.0781 L38.5781,318.5156 Q38.5781,319.4375 39.0469,319.9688 Q39.5313,320.5 40.3594,320.5 Q41.2031,320.5 41.6719,319.9688 Q42.1406,319.4375 42.1406,318.5156 L42.1406,310.0781 L44.5938,310.0781 L44.5938,317.8906 Q44.5938,320.4219 43.5938,321.5625 Q42.5938,322.7031 40.3594,322.7031 Q38.1406,322.7031 37.125,321.5625 Q36.125,320.4219 36.125,317.8906 Z \"/><text fill=\"#000000\" font-family=\"sans-serif\" font-size=\"12\" font-style=\"italic\" lengthAdjust=\"spacingAndGlyphs\" textLength=\"53\" x=\"52.75\" y=\"313.1387\">«action»</text><text fill=\"#000000\" font-family=\"sans-serif\" font-size=\"12\" lengthAdjust=\"spacingAndGlyphs\" textLength=\"16\" x=\"71.25\" y=\"327.1074\">B1</text></a></g><g id=\"E1.E7\"><a href=\"psysml:b7d3ffe5-6bb9-4232-a5c3-5eafb8d0b5f9\" target=\"_top\" title=\"psysml:b7d3ffe5-6bb9-4232-a5c3-5eafb8d0b5f9\" xlink:actuate=\"onRequest\" xlink:href=\"psysml:b7d3ffe5-6bb9-4232-a5c3-5eafb8d0b5f9\" xlink:show=\"new\" xlink:title=\"psysml:b7d3ffe5-6bb9-4232-a5c3-5eafb8d0b5f9\" xlink:type=\"simple\"><rect fill=\"#FEFECE\" filter=\"url(#fad7xciko9t62)\" height=\"42.9375\" id=\"E7\" rx=\"10\" ry=\"10\" style=\"stroke: #A80036; stroke-width: 1.5;\" width=\"86\" x=\"144\" y=\"297\"/><ellipse cx=\"161.25\" cy=\"315.9688\" fill=\"#FFA500\" rx=\"11\" ry=\"11\" style=\"stroke: #A80036; stroke-width: 1.0;\"/><path d=\"M157.125,317.8906 L157.125,310.0781 L159.5781,310.0781 L159.5781,318.5156 Q159.5781,319.4375 160.0469,319.9688 Q160.5313,320.5 161.3594,320.5 Q162.2031,320.5 162.6719,319.9688 Q163.1406,319.4375 163.1406,318.5156 L163.1406,310.0781 L165.5938,310.0781 L165.5938,317.8906 Q165.5938,320.4219 164.5938,321.5625 Q163.5938,322.7031 161.3594,322.7031 Q159.1406,322.7031 158.125,321.5625 Q157.125,320.4219 157.125,317.8906 Z \"/><text fill=\"#000000\" font-family=\"sans-serif\" font-size=\"12\" font-style=\"italic\" lengthAdjust=\"spacingAndGlyphs\" textLength=\"53\" x=\"173.75\" y=\"313.1387\">«action»</text><text fill=\"#000000\" font-family=\"sans-serif\" font-size=\"12\" lengthAdjust=\"spacingAndGlyphs\" textLength=\"16\" x=\"192.25\" y=\"327.1074\">B2</text></a></g><!--MD5=[4d03bb2d0377dc85ccfab60ff574652b]\n",
       "link E2 to E4--><a href=\"psysml:a5b917a3-7538-4e28-aa62-755107929dae\" target=\"_top\" title=\"psysml:a5b917a3-7538-4e28-aa62-755107929dae\" xlink:actuate=\"onRequest\" xlink:href=\"psysml:a5b917a3-7538-4e28-aa62-755107929dae\" xlink:show=\"new\" xlink:title=\"psysml:a5b917a3-7538-4e28-aa62-755107929dae\" xlink:type=\"simple\"><path d=\"M171.92,101.14 C158.72,119.22 140.27,144.46 131.31,156.73 \" fill=\"none\" id=\"E2-&gt;E4\" style=\"stroke: #A80036; stroke-width: 1.0;\"/><polygon fill=\"#A80036\" points=\"128.28,160.88,136.8219,155.9773,131.2319,156.8444,130.3648,151.2543,128.28,160.88\" style=\"stroke: #A80036; stroke-width: 1.0;\"/><text fill=\"#000000\" font-family=\"sans-serif\" font-size=\"13\" lengthAdjust=\"spacingAndGlyphs\" textLength=\"7\" x=\"120.4413\" y=\"150.0038\">*</text></a><!--MD5=[af87c684e3b0d8be13c1a698a818ef1e]\n",
       "link E3 to E4--><a href=\"psysml:b67a9087-1129-4a2e-aba3-334d88c3cbf2\" target=\"_top\" title=\"psysml:b67a9087-1129-4a2e-aba3-334d88c3cbf2\" xlink:actuate=\"onRequest\" xlink:href=\"psysml:b67a9087-1129-4a2e-aba3-334d88c3cbf2\" xlink:show=\"new\" xlink:title=\"psysml:b67a9087-1129-4a2e-aba3-334d88c3cbf2\" xlink:type=\"simple\"><path d=\"M80.83,101.14 C93.82,119.22 111.96,144.46 120.78,156.73 \" fill=\"none\" id=\"E3-&gt;E4\" style=\"stroke: #A80036; stroke-width: 1.0;\"/><polygon fill=\"#A80036\" points=\"123.76,160.88,121.7581,151.2367,120.843,156.8191,115.2607,155.9039,123.76,160.88\" style=\"stroke: #A80036; stroke-width: 1.0;\"/><text fill=\"#000000\" font-family=\"sans-serif\" font-size=\"13\" lengthAdjust=\"spacingAndGlyphs\" textLength=\"7\" x=\"112.8138\" y=\"150.0038\">*</text></a><!--MD5=[1b7591eae5389033d8d09a9d6721a717]\n",
       "link E4 to E5--><a href=\"psysml:9a17080e-ae46-40d4-b989-796f716175e4\" target=\"_top\" title=\"psysml:9a17080e-ae46-40d4-b989-796f716175e4\" xlink:actuate=\"onRequest\" xlink:href=\"psysml:9a17080e-ae46-40d4-b989-796f716175e4\" xlink:show=\"new\" xlink:title=\"psysml:9a17080e-ae46-40d4-b989-796f716175e4\" xlink:type=\"simple\"><path d=\"M126,169.18 C126,178.92 126,208.52 126,223.34 \" fill=\"none\" id=\"E4-&gt;E5\" style=\"stroke: #A80036; stroke-width: 1.0;\"/><polygon fill=\"#A80036\" points=\"126,228.69,130,219.69,126,223.69,122,219.69,126,228.69\" style=\"stroke: #A80036; stroke-width: 1.0;\"/><text fill=\"#000000\" font-family=\"sans-serif\" font-size=\"13\" lengthAdjust=\"spacingAndGlyphs\" textLength=\"7\" x=\"116.6813\" y=\"217.9768\">*</text></a><!--MD5=[9120cf2e5df3bff93db8f754bbbc09b4]\n",
       "link E5 to E6--><a href=\"psysml:197b427e-ad07-4e53-856c-ed2b1bc0e06a\" target=\"_top\" title=\"psysml:197b427e-ad07-4e53-856c-ed2b1bc0e06a\" xlink:actuate=\"onRequest\" xlink:href=\"psysml:197b427e-ad07-4e53-856c-ed2b1bc0e06a\" xlink:show=\"new\" xlink:title=\"psysml:197b427e-ad07-4e53-856c-ed2b1bc0e06a\" xlink:type=\"simple\"><path d=\"M123.72,237.17 C117.25,246.18 98.28,272.58 83.83,292.68 \" fill=\"none\" id=\"E5-&gt;E6\" style=\"stroke: #A80036; stroke-width: 1.0;\"/><polygon fill=\"#A80036\" points=\"80.83,296.87,89.3326,291.8995,83.7496,292.811,82.8381,287.228,80.83,296.87\" style=\"stroke: #A80036; stroke-width: 1.0;\"/><text fill=\"#000000\" font-family=\"sans-serif\" font-size=\"13\" lengthAdjust=\"spacingAndGlyphs\" textLength=\"7\" x=\"77.0166\" y=\"285.7715\">*</text></a><!--MD5=[3a9b96bfbf6b6ad89c494e81751bda47]\n",
       "link E5 to E7--><a href=\"psysml:b67e977c-71d2-45f4-9959-07a509bb3c26\" target=\"_top\" title=\"psysml:b67e977c-71d2-45f4-9959-07a509bb3c26\" xlink:actuate=\"onRequest\" xlink:href=\"psysml:b67e977c-71d2-45f4-9959-07a509bb3c26\" xlink:show=\"new\" xlink:title=\"psysml:b67e977c-71d2-45f4-9959-07a509bb3c26\" xlink:type=\"simple\"><path d=\"M128.32,237.17 C134.9,246.18 154.19,272.58 168.87,292.68 \" fill=\"none\" id=\"E5-&gt;E7\" style=\"stroke: #A80036; stroke-width: 1.0;\"/><polygon fill=\"#A80036\" points=\"171.93,296.87,169.8674,287.2396,168.9874,292.8276,163.3994,291.9476,171.93,296.87\" style=\"stroke: #A80036; stroke-width: 1.0;\"/><text fill=\"#000000\" font-family=\"sans-serif\" font-size=\"13\" lengthAdjust=\"spacingAndGlyphs\" textLength=\"7\" x=\"159.7072\" y=\"285.7715\">*</text></a><!--MD5=[8992922bb7c7f053a1e34bd5eccaa7f0]\n",
       "@startuml\r\n",
       " \r\n",
       "rec def \"ControlNodeTest\" as E1 << <<(B,lemonchiffon) action def>> [[psysml:d75b3c07-b549-4c23-b2aa-d48828b6adea ]] {\r\n",
       "rec usage \"A1\" as E2 << <<(U,orange) action>> [[psysml:c07d7274-d0ac-44b0-95a3-e3c0562da237 ]] {\r\n",
       "}\r\n",
       "\r\n",
       "rec usage \"A2\" as E3 << <<(U,orange) action>> [[psysml:7bb05ae1-d1dd-4ff0-97ee-ce3344a0751d ]] {\r\n",
       "}\r\n",
       "\r\n",
       "join \"J\" as E4  [[psysml:f3bfce16-3667-4a48-a42e-fd992fa328bf ]] \r\n",
       "fork \"F\" as E5  [[psysml:08c848ef-d5ea-4388-acb9-5b8d01347f10 ]] \r\n",
       "rec usage \"B1\" as E6 << <<(U,orange) action>> [[psysml:d5fd7944-a8f1-4c67-81d3-da10d551f750 ]] {\r\n",
       "}\r\n",
       "\r\n",
       "rec usage \"B2\" as E7 << <<(U,orange) action>> [[psysml:b7d3ffe5-6bb9-4232-a5c3-5eafb8d0b5f9 ]] {\r\n",
       "}\r\n",
       "\r\n",
       "}\r\n",
       "\r\n",
       "E2 - -> \"*\"E4 [[psysml:a5b917a3-7538-4e28-aa62-755107929dae ]] \r\n",
       "E3 - -> \"*\"E4 [[psysml:b67a9087-1129-4a2e-aba3-334d88c3cbf2 ]] \r\n",
       "E4 - -> \"*\"E5 [[psysml:9a17080e-ae46-40d4-b989-796f716175e4 ]] \r\n",
       "E5 - -> \"*\"E6 [[psysml:197b427e-ad07-4e53-856c-ed2b1bc0e06a ]] \r\n",
       "E5 - -> \"*\"E7 [[psysml:b67e977c-71d2-45f4-9959-07a509bb3c26 ]] \r\n",
       "@enduml\r\n",
       "\n",
       "PlantUML version 1.2020.13(Sat Jun 13 12:26:38 UTC 2020)\n",
       "(EPL source distribution)\n",
       "Java Runtime: OpenJDK Runtime Environment\n",
       "JVM: OpenJDK 64-Bit Server VM\n",
       "Default Encoding: UTF-8\n",
       "Language: en\n",
       "Country: null\n",
       "--></g></svg>"
      ]
     },
     "execution_count": 36,
     "metadata": {},
     "output_type": "execute_result"
    }
   ],
   "source": [
    "%viz --style=\"PLANTUML\" --view=\"MIXED\" \"ControlNodeTest\""
   ]
  },
  {
   "cell_type": "code",
   "execution_count": 37,
   "id": "06b0761a",
   "metadata": {
    "execution": {
     "iopub.execute_input": "2021-08-04T06:26:31.712847Z",
     "iopub.status.busy": "2021-08-04T06:26:31.712445Z",
     "iopub.status.idle": "2021-08-04T06:26:31.738798Z",
     "shell.execute_reply": "2021-08-04T06:26:31.737252Z"
    }
   },
   "outputs": [
    {
     "data": {
      "image/svg+xml": [
       "<?xml version=\"1.0\" encoding=\"UTF-8\" standalone=\"no\"?><svg xmlns=\"http://www.w3.org/2000/svg\" xmlns:xlink=\"http://www.w3.org/1999/xlink\" contentScriptType=\"application/ecmascript\" contentStyleType=\"text/css\" height=\"367px\" preserveAspectRatio=\"none\" style=\"width:205px;height:367px;\" version=\"1.1\" viewBox=\"0 0 205 367\" width=\"205px\" zoomAndPan=\"magnify\"><defs/><g><!--MD5=[fbc87193dbaf4d95561dea2c320d4a47]\n",
       "cluster E1--><a href=\"psysml:d75b3c07-b549-4c23-b2aa-d48828b6adea\" target=\"_top\" title=\"psysml:d75b3c07-b549-4c23-b2aa-d48828b6adea\" xlink:actuate=\"onRequest\" xlink:href=\"psysml:d75b3c07-b549-4c23-b2aa-d48828b6adea\" xlink:show=\"new\" xlink:title=\"psysml:d75b3c07-b549-4c23-b2aa-d48828b6adea\" xlink:type=\"simple\"><rect fill=\"#FFFFFF\" height=\"349\" id=\"E1\" style=\"stroke: #383838; stroke-width: 1.5;\" width=\"187\" x=\"7\" y=\"7\"/><rect fill=\"#F8F8F8\" height=\"37.9375\" style=\"stroke: #383838; stroke-width: 1.5;\" width=\"187\" x=\"7\" y=\"7\"/><text fill=\"#000000\" font-family=\"sans-serif\" font-size=\"12\" font-style=\"italic\" lengthAdjust=\"spacingAndGlyphs\" textLength=\"77\" x=\"62\" y=\"23.1387\">«action def»</text><text fill=\"#000000\" font-family=\"sans-serif\" font-size=\"12\" lengthAdjust=\"spacingAndGlyphs\" textLength=\"105\" x=\"48\" y=\"37.1074\">ControlNodeTest</text></a><rect fill=\"#000000\" height=\"8\" style=\"stroke: none; stroke-width: 1.0;\" width=\"80\" x=\"60\" y=\"161\"/><rect fill=\"#000000\" height=\"8\" style=\"stroke: none; stroke-width: 1.0;\" width=\"80\" x=\"60\" y=\"229\"/><g id=\"E1.E2\"><a href=\"psysml:c07d7274-d0ac-44b0-95a3-e3c0562da237\" target=\"_top\" title=\"psysml:c07d7274-d0ac-44b0-95a3-e3c0562da237\" xlink:actuate=\"onRequest\" xlink:href=\"psysml:c07d7274-d0ac-44b0-95a3-e3c0562da237\" xlink:show=\"new\" xlink:title=\"psysml:c07d7274-d0ac-44b0-95a3-e3c0562da237\" xlink:type=\"simple\"><rect fill=\"#FFFFFF\" height=\"42.9375\" id=\"E2\" rx=\"10\" ry=\"10\" style=\"stroke: #383838; stroke-width: 1.5;\" width=\"60\" x=\"118\" y=\"58\"/><rect fill=\"#F8F8F8\" height=\"37.9375\" rx=\"10\" ry=\"10\" style=\"stroke: #F8F8F8; stroke-width: 1.5;\" width=\"60\" x=\"118\" y=\"58\"/><rect fill=\"#F8F8F8\" height=\"10\" style=\"stroke: #F8F8F8; stroke-width: 1.5;\" width=\"60\" x=\"118\" y=\"85.9375\"/><rect fill=\"none\" height=\"42.9375\" id=\"E2\" rx=\"10\" ry=\"10\" style=\"stroke: #383838; stroke-width: 1.5;\" width=\"60\" x=\"118\" y=\"58\"/><text fill=\"#000000\" font-family=\"sans-serif\" font-size=\"12\" font-style=\"italic\" lengthAdjust=\"spacingAndGlyphs\" textLength=\"53\" x=\"121.5\" y=\"74.1387\">«action»</text><text fill=\"#000000\" font-family=\"sans-serif\" font-size=\"12\" lengthAdjust=\"spacingAndGlyphs\" textLength=\"16\" x=\"140\" y=\"88.1074\">A1</text></a></g><g id=\"E1.E3\"><a href=\"psysml:7bb05ae1-d1dd-4ff0-97ee-ce3344a0751d\" target=\"_top\" title=\"psysml:7bb05ae1-d1dd-4ff0-97ee-ce3344a0751d\" xlink:actuate=\"onRequest\" xlink:href=\"psysml:7bb05ae1-d1dd-4ff0-97ee-ce3344a0751d\" xlink:show=\"new\" xlink:title=\"psysml:7bb05ae1-d1dd-4ff0-97ee-ce3344a0751d\" xlink:type=\"simple\"><rect fill=\"#FFFFFF\" height=\"42.9375\" id=\"E3\" rx=\"10\" ry=\"10\" style=\"stroke: #383838; stroke-width: 1.5;\" width=\"60\" x=\"23\" y=\"58\"/><rect fill=\"#F8F8F8\" height=\"37.9375\" rx=\"10\" ry=\"10\" style=\"stroke: #F8F8F8; stroke-width: 1.5;\" width=\"60\" x=\"23\" y=\"58\"/><rect fill=\"#F8F8F8\" height=\"10\" style=\"stroke: #F8F8F8; stroke-width: 1.5;\" width=\"60\" x=\"23\" y=\"85.9375\"/><rect fill=\"none\" height=\"42.9375\" id=\"E3\" rx=\"10\" ry=\"10\" style=\"stroke: #383838; stroke-width: 1.5;\" width=\"60\" x=\"23\" y=\"58\"/><text fill=\"#000000\" font-family=\"sans-serif\" font-size=\"12\" font-style=\"italic\" lengthAdjust=\"spacingAndGlyphs\" textLength=\"53\" x=\"26.5\" y=\"74.1387\">«action»</text><text fill=\"#000000\" font-family=\"sans-serif\" font-size=\"12\" lengthAdjust=\"spacingAndGlyphs\" textLength=\"16\" x=\"45\" y=\"88.1074\">A2</text></a></g><g id=\"E1.E6\"><a href=\"psysml:d5fd7944-a8f1-4c67-81d3-da10d551f750\" target=\"_top\" title=\"psysml:d5fd7944-a8f1-4c67-81d3-da10d551f750\" xlink:actuate=\"onRequest\" xlink:href=\"psysml:d5fd7944-a8f1-4c67-81d3-da10d551f750\" xlink:show=\"new\" xlink:title=\"psysml:d5fd7944-a8f1-4c67-81d3-da10d551f750\" xlink:type=\"simple\"><rect fill=\"#FFFFFF\" height=\"42.9375\" id=\"E6\" rx=\"10\" ry=\"10\" style=\"stroke: #383838; stroke-width: 1.5;\" width=\"60\" x=\"23\" y=\"297\"/><rect fill=\"#F8F8F8\" height=\"37.9375\" rx=\"10\" ry=\"10\" style=\"stroke: #F8F8F8; stroke-width: 1.5;\" width=\"60\" x=\"23\" y=\"297\"/><rect fill=\"#F8F8F8\" height=\"10\" style=\"stroke: #F8F8F8; stroke-width: 1.5;\" width=\"60\" x=\"23\" y=\"324.9375\"/><rect fill=\"none\" height=\"42.9375\" id=\"E6\" rx=\"10\" ry=\"10\" style=\"stroke: #383838; stroke-width: 1.5;\" width=\"60\" x=\"23\" y=\"297\"/><text fill=\"#000000\" font-family=\"sans-serif\" font-size=\"12\" font-style=\"italic\" lengthAdjust=\"spacingAndGlyphs\" textLength=\"53\" x=\"26.5\" y=\"313.1387\">«action»</text><text fill=\"#000000\" font-family=\"sans-serif\" font-size=\"12\" lengthAdjust=\"spacingAndGlyphs\" textLength=\"16\" x=\"45\" y=\"327.1074\">B1</text></a></g><g id=\"E1.E7\"><a href=\"psysml:b7d3ffe5-6bb9-4232-a5c3-5eafb8d0b5f9\" target=\"_top\" title=\"psysml:b7d3ffe5-6bb9-4232-a5c3-5eafb8d0b5f9\" xlink:actuate=\"onRequest\" xlink:href=\"psysml:b7d3ffe5-6bb9-4232-a5c3-5eafb8d0b5f9\" xlink:show=\"new\" xlink:title=\"psysml:b7d3ffe5-6bb9-4232-a5c3-5eafb8d0b5f9\" xlink:type=\"simple\"><rect fill=\"#FFFFFF\" height=\"42.9375\" id=\"E7\" rx=\"10\" ry=\"10\" style=\"stroke: #383838; stroke-width: 1.5;\" width=\"60\" x=\"118\" y=\"297\"/><rect fill=\"#F8F8F8\" height=\"37.9375\" rx=\"10\" ry=\"10\" style=\"stroke: #F8F8F8; stroke-width: 1.5;\" width=\"60\" x=\"118\" y=\"297\"/><rect fill=\"#F8F8F8\" height=\"10\" style=\"stroke: #F8F8F8; stroke-width: 1.5;\" width=\"60\" x=\"118\" y=\"324.9375\"/><rect fill=\"none\" height=\"42.9375\" id=\"E7\" rx=\"10\" ry=\"10\" style=\"stroke: #383838; stroke-width: 1.5;\" width=\"60\" x=\"118\" y=\"297\"/><text fill=\"#000000\" font-family=\"sans-serif\" font-size=\"12\" font-style=\"italic\" lengthAdjust=\"spacingAndGlyphs\" textLength=\"53\" x=\"121.5\" y=\"313.1387\">«action»</text><text fill=\"#000000\" font-family=\"sans-serif\" font-size=\"12\" lengthAdjust=\"spacingAndGlyphs\" textLength=\"16\" x=\"140\" y=\"327.1074\">B2</text></a></g><!--MD5=[4d03bb2d0377dc85ccfab60ff574652b]\n",
       "link E2 to E4--><a href=\"psysml:a5b917a3-7538-4e28-aa62-755107929dae\" target=\"_top\" title=\"psysml:a5b917a3-7538-4e28-aa62-755107929dae\" xlink:actuate=\"onRequest\" xlink:href=\"psysml:a5b917a3-7538-4e28-aa62-755107929dae\" xlink:show=\"new\" xlink:title=\"psysml:a5b917a3-7538-4e28-aa62-755107929dae\" xlink:type=\"simple\"><path d=\"M136.13,101.14 C125.84,119.06 111.49,144.01 104.37,156.4 \" fill=\"none\" id=\"E2-&gt;E4\" style=\"stroke: #383838; stroke-width: 1.0;\"/><polygon fill=\"#383838\" points=\"101.79,160.88,109.7406,155.0673,104.2799,156.5441,102.8031,151.0834,101.79,160.88\" style=\"stroke: #383838; stroke-width: 1.0;\"/><text fill=\"#000000\" font-family=\"sans-serif\" font-size=\"13\" lengthAdjust=\"spacingAndGlyphs\" textLength=\"7\" x=\"93.6144\" y=\"150.0038\">*</text></a><!--MD5=[af87c684e3b0d8be13c1a698a818ef1e]\n",
       "link E3 to E4--><a href=\"psysml:b67a9087-1129-4a2e-aba3-334d88c3cbf2\" target=\"_top\" title=\"psysml:b67a9087-1129-4a2e-aba3-334d88c3cbf2\" xlink:actuate=\"onRequest\" xlink:href=\"psysml:b67a9087-1129-4a2e-aba3-334d88c3cbf2\" xlink:show=\"new\" xlink:title=\"psysml:b67a9087-1129-4a2e-aba3-334d88c3cbf2\" xlink:type=\"simple\"><path d=\"M64.62,101.14 C74.7,119.06 88.75,144.01 95.72,156.4 \" fill=\"none\" id=\"E3-&gt;E4\" style=\"stroke: #383838; stroke-width: 1.0;\"/><polygon fill=\"#383838\" points=\"98.25,160.88,97.3377,151.0735,95.8048,156.5187,90.3596,154.9858,98.25,160.88\" style=\"stroke: #383838; stroke-width: 1.0;\"/><text fill=\"#000000\" font-family=\"sans-serif\" font-size=\"13\" lengthAdjust=\"spacingAndGlyphs\" textLength=\"7\" x=\"99.4531\" y=\"150.0038\">*</text></a><!--MD5=[1b7591eae5389033d8d09a9d6721a717]\n",
       "link E4 to E5--><a href=\"psysml:9a17080e-ae46-40d4-b989-796f716175e4\" target=\"_top\" title=\"psysml:9a17080e-ae46-40d4-b989-796f716175e4\" xlink:actuate=\"onRequest\" xlink:href=\"psysml:9a17080e-ae46-40d4-b989-796f716175e4\" xlink:show=\"new\" xlink:title=\"psysml:9a17080e-ae46-40d4-b989-796f716175e4\" xlink:type=\"simple\"><path d=\"M100,169.18 C100,178.92 100,208.52 100,223.34 \" fill=\"none\" id=\"E4-&gt;E5\" style=\"stroke: #383838; stroke-width: 1.0;\"/><polygon fill=\"#383838\" points=\"100,228.69,104,219.69,100,223.69,96,219.69,100,228.69\" style=\"stroke: #383838; stroke-width: 1.0;\"/><text fill=\"#000000\" font-family=\"sans-serif\" font-size=\"13\" lengthAdjust=\"spacingAndGlyphs\" textLength=\"7\" x=\"90.6813\" y=\"217.9768\">*</text></a><!--MD5=[9120cf2e5df3bff93db8f754bbbc09b4]\n",
       "link E5 to E6--><a href=\"psysml:197b427e-ad07-4e53-856c-ed2b1bc0e06a\" target=\"_top\" title=\"psysml:197b427e-ad07-4e53-856c-ed2b1bc0e06a\" xlink:actuate=\"onRequest\" xlink:href=\"psysml:197b427e-ad07-4e53-856c-ed2b1bc0e06a\" xlink:show=\"new\" xlink:title=\"psysml:197b427e-ad07-4e53-856c-ed2b1bc0e06a\" xlink:type=\"simple\"><path d=\"M98.21,237.17 C93.16,246.14 78.41,272.36 67.11,292.43 \" fill=\"none\" id=\"E5-&gt;E6\" style=\"stroke: #383838; stroke-width: 1.0;\"/><polygon fill=\"#383838\" points=\"64.61,296.87,72.5151,290.9955,67.0661,292.5148,65.5467,287.0658,64.61,296.87\" style=\"stroke: #383838; stroke-width: 1.0;\"/><text fill=\"#000000\" font-family=\"sans-serif\" font-size=\"13\" lengthAdjust=\"spacingAndGlyphs\" textLength=\"7\" x=\"59.8909\" y=\"285.7715\">*</text></a><!--MD5=[3a9b96bfbf6b6ad89c494e81751bda47]\n",
       "link E5 to E7--><a href=\"psysml:b67e977c-71d2-45f4-9959-07a509bb3c26\" target=\"_top\" title=\"psysml:b67e977c-71d2-45f4-9959-07a509bb3c26\" xlink:actuate=\"onRequest\" xlink:href=\"psysml:b67e977c-71d2-45f4-9959-07a509bb3c26\" xlink:show=\"new\" xlink:title=\"psysml:b67e977c-71d2-45f4-9959-07a509bb3c26\" xlink:type=\"simple\"><path d=\"M101.82,237.17 C106.98,246.14 122.05,272.36 133.59,292.43 \" fill=\"none\" id=\"E5-&gt;E7\" style=\"stroke: #383838; stroke-width: 1.0;\"/><polygon fill=\"#383838\" points=\"136.14,296.87,135.1269,287.0734,133.6501,292.5341,128.1894,291.0573,136.14,296.87\" style=\"stroke: #383838; stroke-width: 1.0;\"/><text fill=\"#000000\" font-family=\"sans-serif\" font-size=\"13\" lengthAdjust=\"spacingAndGlyphs\" textLength=\"7\" x=\"124.82\" y=\"285.7715\">*</text></a><!--MD5=[752a6a482311888bfcb793839658604c]\n",
       "@startuml\r\n",
       "skinparam monochrome true\r\n",
       "skinparam classbackgroundcolor white\r\n",
       "skinparam shadowing false\r\n",
       "skinparam wrapWidth 300\r\n",
       "hide circle\r\n",
       "\r\n",
       "rec def \"ControlNodeTest\" as E1  <<(T,blue) action def>> [[psysml:d75b3c07-b549-4c23-b2aa-d48828b6adea ]] {\r\n",
       "rec usage \"A1\" as E2  <<(T,blue) action>> [[psysml:c07d7274-d0ac-44b0-95a3-e3c0562da237 ]] {\r\n",
       "}\r\n",
       "\r\n",
       "rec usage \"A2\" as E3  <<(T,blue) action>> [[psysml:7bb05ae1-d1dd-4ff0-97ee-ce3344a0751d ]] {\r\n",
       "}\r\n",
       "\r\n",
       "join \"J\" as E4  [[psysml:f3bfce16-3667-4a48-a42e-fd992fa328bf ]] \r\n",
       "fork \"F\" as E5  [[psysml:08c848ef-d5ea-4388-acb9-5b8d01347f10 ]] \r\n",
       "rec usage \"B1\" as E6  <<(T,blue) action>> [[psysml:d5fd7944-a8f1-4c67-81d3-da10d551f750 ]] {\r\n",
       "}\r\n",
       "\r\n",
       "rec usage \"B2\" as E7  <<(T,blue) action>> [[psysml:b7d3ffe5-6bb9-4232-a5c3-5eafb8d0b5f9 ]] {\r\n",
       "}\r\n",
       "\r\n",
       "}\r\n",
       "\r\n",
       "E2 - -> \"*\"E4 [[psysml:a5b917a3-7538-4e28-aa62-755107929dae ]] \r\n",
       "E3 - -> \"*\"E4 [[psysml:b67a9087-1129-4a2e-aba3-334d88c3cbf2 ]] \r\n",
       "E4 - -> \"*\"E5 [[psysml:9a17080e-ae46-40d4-b989-796f716175e4 ]] \r\n",
       "E5 - -> \"*\"E6 [[psysml:197b427e-ad07-4e53-856c-ed2b1bc0e06a ]] \r\n",
       "E5 - -> \"*\"E7 [[psysml:b67e977c-71d2-45f4-9959-07a509bb3c26 ]] \r\n",
       "@enduml\r\n",
       "\n",
       "PlantUML version 1.2020.13(Sat Jun 13 12:26:38 UTC 2020)\n",
       "(EPL source distribution)\n",
       "Java Runtime: OpenJDK Runtime Environment\n",
       "JVM: OpenJDK 64-Bit Server VM\n",
       "Default Encoding: UTF-8\n",
       "Language: en\n",
       "Country: null\n",
       "--></g></svg>"
      ]
     },
     "execution_count": 37,
     "metadata": {},
     "output_type": "execute_result"
    }
   ],
   "source": [
    "%viz --style=\"DEFAULT\" --view=\"Default\" \"ControlNodeTest\""
   ]
  },
  {
   "cell_type": "code",
   "execution_count": 38,
   "id": "74211bbb",
   "metadata": {
    "execution": {
     "iopub.execute_input": "2021-08-04T06:26:31.788254Z",
     "iopub.status.busy": "2021-08-04T06:26:31.787854Z",
     "iopub.status.idle": "2021-08-04T06:26:31.813573Z",
     "shell.execute_reply": "2021-08-04T06:26:31.812845Z"
    }
   },
   "outputs": [
    {
     "data": {
      "image/svg+xml": [
       "<?xml version=\"1.0\" encoding=\"UTF-8\" standalone=\"no\"?><svg xmlns=\"http://www.w3.org/2000/svg\" xmlns:xlink=\"http://www.w3.org/1999/xlink\" contentScriptType=\"application/ecmascript\" contentStyleType=\"text/css\" height=\"169px\" preserveAspectRatio=\"none\" style=\"width:557px;height:169px;\" version=\"1.1\" viewBox=\"0 0 557 169\" width=\"557px\" zoomAndPan=\"magnify\"><defs/><g><!--MD5=[43c9051892ef23e1a46a86907403d788]\n",
       "class E1--><a href=\"psysml:d75b3c07-b549-4c23-b2aa-d48828b6adea\" target=\"_top\" title=\"psysml:d75b3c07-b549-4c23-b2aa-d48828b6adea\" xlink:actuate=\"onRequest\" xlink:href=\"psysml:d75b3c07-b549-4c23-b2aa-d48828b6adea\" xlink:show=\"new\" xlink:title=\"psysml:d75b3c07-b549-4c23-b2aa-d48828b6adea\" xlink:type=\"simple\"><rect fill=\"#FFFFFF\" height=\"45.9375\" id=\"E1\" style=\"stroke: #383838; stroke-width: 1.5;\" width=\"111\" x=\"220\" y=\"7\"/><text fill=\"#000000\" font-family=\"sans-serif\" font-size=\"12\" font-style=\"italic\" lengthAdjust=\"spacingAndGlyphs\" textLength=\"77\" x=\"237\" y=\"23.1387\">«action def»</text><text fill=\"#000000\" font-family=\"sans-serif\" font-size=\"12\" lengthAdjust=\"spacingAndGlyphs\" textLength=\"105\" x=\"223\" y=\"37.1074\">ControlNodeTest</text><line style=\"stroke: #383838; stroke-width: 1.5;\" x1=\"221\" x2=\"330\" y1=\"44.9375\" y2=\"44.9375\"/></a><!--MD5=[b4997ac47864f28c2f74865a473b2911]\n",
       "class E2--><a href=\"psysml:c07d7274-d0ac-44b0-95a3-e3c0562da237\" target=\"_top\" title=\"psysml:c07d7274-d0ac-44b0-95a3-e3c0562da237\" xlink:actuate=\"onRequest\" xlink:href=\"psysml:c07d7274-d0ac-44b0-95a3-e3c0562da237\" xlink:show=\"new\" xlink:title=\"psysml:c07d7274-d0ac-44b0-95a3-e3c0562da237\" xlink:type=\"simple\"><rect fill=\"#FFFFFF\" height=\"45.9375\" id=\"E2\" rx=\"10\" ry=\"10\" style=\"stroke: #383838; stroke-width: 1.5;\" width=\"55\" x=\"7\" y=\"113\"/><text fill=\"#000000\" font-family=\"sans-serif\" font-size=\"12\" font-style=\"italic\" lengthAdjust=\"spacingAndGlyphs\" textLength=\"53\" x=\"8\" y=\"129.1387\">«action»</text><text fill=\"#000000\" font-family=\"sans-serif\" font-size=\"12\" lengthAdjust=\"spacingAndGlyphs\" textLength=\"16\" x=\"26.5\" y=\"143.1074\">A1</text><line style=\"stroke: #383838; stroke-width: 1.5;\" x1=\"8\" x2=\"61\" y1=\"150.9375\" y2=\"150.9375\"/></a><!--MD5=[09b614a08d8cba4a07c9adeb5e0fee81]\n",
       "class E3--><a href=\"psysml:7bb05ae1-d1dd-4ff0-97ee-ce3344a0751d\" target=\"_top\" title=\"psysml:7bb05ae1-d1dd-4ff0-97ee-ce3344a0751d\" xlink:actuate=\"onRequest\" xlink:href=\"psysml:7bb05ae1-d1dd-4ff0-97ee-ce3344a0751d\" xlink:show=\"new\" xlink:title=\"psysml:7bb05ae1-d1dd-4ff0-97ee-ce3344a0751d\" xlink:type=\"simple\"><rect fill=\"#FFFFFF\" height=\"45.9375\" id=\"E3\" rx=\"10\" ry=\"10\" style=\"stroke: #383838; stroke-width: 1.5;\" width=\"55\" x=\"97\" y=\"113\"/><text fill=\"#000000\" font-family=\"sans-serif\" font-size=\"12\" font-style=\"italic\" lengthAdjust=\"spacingAndGlyphs\" textLength=\"53\" x=\"98\" y=\"129.1387\">«action»</text><text fill=\"#000000\" font-family=\"sans-serif\" font-size=\"12\" lengthAdjust=\"spacingAndGlyphs\" textLength=\"16\" x=\"116.5\" y=\"143.1074\">A2</text><line style=\"stroke: #383838; stroke-width: 1.5;\" x1=\"98\" x2=\"151\" y1=\"150.9375\" y2=\"150.9375\"/></a><!--MD5=[ebbe1d658d1005bcc118a6aa81145e00]\n",
       "class E4--><a href=\"psysml:f3bfce16-3667-4a48-a42e-fd992fa328bf\" target=\"_top\" title=\"psysml:f3bfce16-3667-4a48-a42e-fd992fa328bf\" xlink:actuate=\"onRequest\" xlink:href=\"psysml:f3bfce16-3667-4a48-a42e-fd992fa328bf\" xlink:show=\"new\" xlink:title=\"psysml:f3bfce16-3667-4a48-a42e-fd992fa328bf\" xlink:type=\"simple\"><rect fill=\"#FFFFFF\" height=\"45.9375\" id=\"E4\" rx=\"10\" ry=\"10\" style=\"stroke: #383838; stroke-width: 1.5;\" width=\"71\" x=\"187\" y=\"113\"/><text fill=\"#000000\" font-family=\"sans-serif\" font-size=\"12\" font-style=\"italic\" lengthAdjust=\"spacingAndGlyphs\" textLength=\"69\" x=\"188\" y=\"129.1387\">«joinNode»</text><text fill=\"#000000\" font-family=\"sans-serif\" font-size=\"12\" lengthAdjust=\"spacingAndGlyphs\" textLength=\"3\" x=\"221\" y=\"143.1074\">J</text><line style=\"stroke: #383838; stroke-width: 1.5;\" x1=\"188\" x2=\"257\" y1=\"150.9375\" y2=\"150.9375\"/></a><!--MD5=[270fce915f116d4de14055a7c1d9a0f3]\n",
       "class E5--><a href=\"psysml:08c848ef-d5ea-4388-acb9-5b8d01347f10\" target=\"_top\" title=\"psysml:08c848ef-d5ea-4388-acb9-5b8d01347f10\" xlink:actuate=\"onRequest\" xlink:href=\"psysml:08c848ef-d5ea-4388-acb9-5b8d01347f10\" xlink:show=\"new\" xlink:title=\"psysml:08c848ef-d5ea-4388-acb9-5b8d01347f10\" xlink:type=\"simple\"><rect fill=\"#FFFFFF\" height=\"45.9375\" id=\"E5\" rx=\"10\" ry=\"10\" style=\"stroke: #383838; stroke-width: 1.5;\" width=\"73\" x=\"293\" y=\"113\"/><text fill=\"#000000\" font-family=\"sans-serif\" font-size=\"12\" font-style=\"italic\" lengthAdjust=\"spacingAndGlyphs\" textLength=\"71\" x=\"294\" y=\"129.1387\">«forkNode»</text><text fill=\"#000000\" font-family=\"sans-serif\" font-size=\"12\" lengthAdjust=\"spacingAndGlyphs\" textLength=\"7\" x=\"326\" y=\"143.1074\">F</text><line style=\"stroke: #383838; stroke-width: 1.5;\" x1=\"294\" x2=\"365\" y1=\"150.9375\" y2=\"150.9375\"/></a><!--MD5=[60a26617385b1d2d0262a64233df1f8d]\n",
       "class E6--><a href=\"psysml:d5fd7944-a8f1-4c67-81d3-da10d551f750\" target=\"_top\" title=\"psysml:d5fd7944-a8f1-4c67-81d3-da10d551f750\" xlink:actuate=\"onRequest\" xlink:href=\"psysml:d5fd7944-a8f1-4c67-81d3-da10d551f750\" xlink:show=\"new\" xlink:title=\"psysml:d5fd7944-a8f1-4c67-81d3-da10d551f750\" xlink:type=\"simple\"><rect fill=\"#FFFFFF\" height=\"45.9375\" id=\"E6\" rx=\"10\" ry=\"10\" style=\"stroke: #383838; stroke-width: 1.5;\" width=\"55\" x=\"401\" y=\"113\"/><text fill=\"#000000\" font-family=\"sans-serif\" font-size=\"12\" font-style=\"italic\" lengthAdjust=\"spacingAndGlyphs\" textLength=\"53\" x=\"402\" y=\"129.1387\">«action»</text><text fill=\"#000000\" font-family=\"sans-serif\" font-size=\"12\" lengthAdjust=\"spacingAndGlyphs\" textLength=\"16\" x=\"420.5\" y=\"143.1074\">B1</text><line style=\"stroke: #383838; stroke-width: 1.5;\" x1=\"402\" x2=\"455\" y1=\"150.9375\" y2=\"150.9375\"/></a><!--MD5=[2156ba9850f5573cc1fc38a6a4b2f02b]\n",
       "class E7--><a href=\"psysml:b7d3ffe5-6bb9-4232-a5c3-5eafb8d0b5f9\" target=\"_top\" title=\"psysml:b7d3ffe5-6bb9-4232-a5c3-5eafb8d0b5f9\" xlink:actuate=\"onRequest\" xlink:href=\"psysml:b7d3ffe5-6bb9-4232-a5c3-5eafb8d0b5f9\" xlink:show=\"new\" xlink:title=\"psysml:b7d3ffe5-6bb9-4232-a5c3-5eafb8d0b5f9\" xlink:type=\"simple\"><rect fill=\"#FFFFFF\" height=\"45.9375\" id=\"E7\" rx=\"10\" ry=\"10\" style=\"stroke: #383838; stroke-width: 1.5;\" width=\"55\" x=\"491\" y=\"113\"/><text fill=\"#000000\" font-family=\"sans-serif\" font-size=\"12\" font-style=\"italic\" lengthAdjust=\"spacingAndGlyphs\" textLength=\"53\" x=\"492\" y=\"129.1387\">«action»</text><text fill=\"#000000\" font-family=\"sans-serif\" font-size=\"12\" lengthAdjust=\"spacingAndGlyphs\" textLength=\"16\" x=\"510.5\" y=\"143.1074\">B2</text><line style=\"stroke: #383838; stroke-width: 1.5;\" x1=\"492\" x2=\"545\" y1=\"150.9375\" y2=\"150.9375\"/></a><!--MD5=[a523cb2a0b79ecf9065ad8783f96c320]\n",
       "reverse link E1 to E2--><a href=\"psysml:090da899-d633-4f68-ac70-93df987c1f89\" target=\"_top\" title=\"psysml:090da899-d633-4f68-ac70-93df987c1f89\" xlink:actuate=\"onRequest\" xlink:href=\"psysml:090da899-d633-4f68-ac70-93df987c1f89\" xlink:show=\"new\" xlink:title=\"psysml:090da899-d633-4f68-ac70-93df987c1f89\" xlink:type=\"simple\"><path d=\"M207.75,58.2 C169.81,73.72 121.76,93.85 79.5,113 C73.96,115.51 68.08,118.3 62.47,121.01 \" fill=\"none\" id=\"E1&lt;-E2\" style=\"stroke: #383838; stroke-width: 1.0;\"/><polygon fill=\"#383838\" points=\"220.21,53.12,213.1443,51.6791,209.0967,57.6471,216.1624,59.088,220.21,53.12\" style=\"stroke: #383838; stroke-width: 1.0;\"/><text fill=\"#000000\" font-family=\"sans-serif\" font-size=\"13\" lengthAdjust=\"spacingAndGlyphs\" textLength=\"7\" x=\"70.1408\" y=\"112.6188\">*</text></a><!--MD5=[5d7b3810b1dd9b5164bea1151b29b665]\n",
       "reverse link E1 to E3--><a href=\"psysml:797c4c3c-8cfb-4ed1-914f-99d654db3cec\" target=\"_top\" title=\"psysml:797c4c3c-8cfb-4ed1-914f-99d654db3cec\" xlink:actuate=\"onRequest\" xlink:href=\"psysml:797c4c3c-8cfb-4ed1-914f-99d654db3cec\" xlink:show=\"new\" xlink:title=\"psysml:797c4c3c-8cfb-4ed1-914f-99d654db3cec\" xlink:type=\"simple\"><path d=\"M232.52,60.6 C206.81,78.31 174.87,100.31 152.42,115.77 \" fill=\"none\" id=\"E1&lt;-E3\" style=\"stroke: #383838; stroke-width: 1.0;\"/><polygon fill=\"#383838\" points=\"243.48,53.06,236.2697,53.1655,233.5938,59.8617,240.8041,59.7562,243.48,53.06\" style=\"stroke: #383838; stroke-width: 1.0;\"/><text fill=\"#000000\" font-family=\"sans-serif\" font-size=\"13\" lengthAdjust=\"spacingAndGlyphs\" textLength=\"7\" x=\"160.0786\" y=\"106.1015\">*</text></a><!--MD5=[f2c5c03aa1e8c0ba21c10a05e6444b8e]\n",
       "reverse link E1 to E4--><a href=\"psysml:70a466ea-83ad-4e19-afa5-d192b13fd9c7\" target=\"_top\" title=\"psysml:70a466ea-83ad-4e19-afa5-d192b13fd9c7\" xlink:actuate=\"onRequest\" xlink:href=\"psysml:70a466ea-83ad-4e19-afa5-d192b13fd9c7\" xlink:show=\"new\" xlink:title=\"psysml:70a466ea-83ad-4e19-afa5-d192b13fd9c7\" xlink:type=\"simple\"><path d=\"M258.16,65.03 C250.13,80.78 240.82,99.06 233.72,112.98 \" fill=\"none\" id=\"E1&lt;-E4\" style=\"stroke: #383838; stroke-width: 1.0;\"/><polygon fill=\"#383838\" points=\"264.26,53.06,257.9728,56.5915,258.8145,63.7533,265.1017,60.2218,264.26,53.06\" style=\"stroke: #383838; stroke-width: 1.0;\"/></a><!--MD5=[33238bef88d6431a141d8bc8fb12bca0]\n",
       "reverse link E1 to E5--><a href=\"psysml:26253911-6243-446d-b791-23c0e42b91a5\" target=\"_top\" title=\"psysml:26253911-6243-446d-b791-23c0e42b91a5\" xlink:actuate=\"onRequest\" xlink:href=\"psysml:26253911-6243-446d-b791-23c0e42b91a5\" xlink:show=\"new\" xlink:title=\"psysml:26253911-6243-446d-b791-23c0e42b91a5\" xlink:type=\"simple\"><path d=\"M293.17,65.03 C301.35,80.78 310.84,99.06 318.06,112.98 \" fill=\"none\" id=\"E1&lt;-E5\" style=\"stroke: #383838; stroke-width: 1.0;\"/><polygon fill=\"#383838\" points=\"286.95,53.06,286.1611,60.2278,292.4742,63.7129,293.263,56.545,286.95,53.06\" style=\"stroke: #383838; stroke-width: 1.0;\"/></a><!--MD5=[aca2ef284c2b1b90e17e73bf3f292c07]\n",
       "reverse link E1 to E6--><a href=\"psysml:e8354a48-cb93-46c3-a69e-19a4acf29f71\" target=\"_top\" title=\"psysml:e8354a48-cb93-46c3-a69e-19a4acf29f71\" xlink:actuate=\"onRequest\" xlink:href=\"psysml:e8354a48-cb93-46c3-a69e-19a4acf29f71\" xlink:show=\"new\" xlink:title=\"psysml:e8354a48-cb93-46c3-a69e-19a4acf29f71\" xlink:type=\"simple\"><path d=\"M318.77,60.41 C345.06,78.28 377.86,100.58 400.72,116.11 \" fill=\"none\" id=\"E1&lt;-E6\" style=\"stroke: #383838; stroke-width: 1.0;\"/><polygon fill=\"#383838\" points=\"307.95,53.06,310.6626,59.7415,317.8734,59.8074,315.1608,53.1259,307.95,53.06\" style=\"stroke: #383838; stroke-width: 1.0;\"/><text fill=\"#000000\" font-family=\"sans-serif\" font-size=\"13\" lengthAdjust=\"spacingAndGlyphs\" textLength=\"7\" x=\"386.0955\" y=\"106.5244\">*</text></a><!--MD5=[fc9706a6b2cf8c0e423679d303750d3f]\n",
       "reverse link E1 to E7--><a href=\"psysml:8dca6daf-962f-46a3-bb74-22037bd04295\" target=\"_top\" title=\"psysml:8dca6daf-962f-46a3-bb74-22037bd04295\" xlink:actuate=\"onRequest\" xlink:href=\"psysml:8dca6daf-962f-46a3-bb74-22037bd04295\" xlink:show=\"new\" xlink:title=\"psysml:8dca6daf-962f-46a3-bb74-22037bd04295\" xlink:type=\"simple\"><path d=\"M343.46,57.93 C381.88,73.46 430.65,93.68 473.5,113 C479.05,115.5 484.93,118.28 490.54,121 \" fill=\"none\" id=\"E1&lt;-E7\" style=\"stroke: #383838; stroke-width: 1.0;\"/><polygon fill=\"#383838\" points=\"331.37,53.06,335.4407,59.0122,342.5008,57.544,338.43,51.5917,331.37,53.06\" style=\"stroke: #383838; stroke-width: 1.0;\"/><text fill=\"#000000\" font-family=\"sans-serif\" font-size=\"13\" lengthAdjust=\"spacingAndGlyphs\" textLength=\"7\" x=\"475.8716\" y=\"112.6063\">*</text></a><!--MD5=[a53b8709a4133d14243e648fa56c7aee]\n",
       "@startuml\r\n",
       "skinparam monochrome true\r\n",
       "skinparam classbackgroundcolor white\r\n",
       "skinparam shadowing false\r\n",
       "skinparam wrapWidth 300\r\n",
       "hide circle\r\n",
       "\r\n",
       "comp def \"ControlNodeTest\" as E1  <<(T,blue) action def>> [[psysml:d75b3c07-b549-4c23-b2aa-d48828b6adea ]] {\r\n",
       "}\r\n",
       "comp usage \"A1\" as E2  <<(T,blue) action>> [[psysml:c07d7274-d0ac-44b0-95a3-e3c0562da237 ]] {\r\n",
       "}\r\n",
       "comp usage \"A2\" as E3  <<(T,blue) action>> [[psysml:7bb05ae1-d1dd-4ff0-97ee-ce3344a0751d ]] {\r\n",
       "}\r\n",
       "comp usage \"J\" as E4  <<(T,blue) joinNode>> [[psysml:f3bfce16-3667-4a48-a42e-fd992fa328bf ]] {\r\n",
       "}\r\n",
       "comp usage \"F\" as E5  <<(T,blue) forkNode>> [[psysml:08c848ef-d5ea-4388-acb9-5b8d01347f10 ]] {\r\n",
       "}\r\n",
       "comp usage \"B1\" as E6  <<(T,blue) action>> [[psysml:d5fd7944-a8f1-4c67-81d3-da10d551f750 ]] {\r\n",
       "}\r\n",
       "comp usage \"B2\" as E7  <<(T,blue) action>> [[psysml:b7d3ffe5-6bb9-4232-a5c3-5eafb8d0b5f9 ]] {\r\n",
       "}\r\n",
       "E1 *- - \"*\"E2 [[psysml:090da899-d633-4f68-ac70-93df987c1f89 ]] \r\n",
       "E1 *- - \"*\"E3 [[psysml:797c4c3c-8cfb-4ed1-914f-99d654db3cec ]] \r\n",
       "E1 *- - E4 [[psysml:70a466ea-83ad-4e19-afa5-d192b13fd9c7 ]] \r\n",
       "E1 *- - E5 [[psysml:26253911-6243-446d-b791-23c0e42b91a5 ]] \r\n",
       "E1 *- - \"*\"E6 [[psysml:e8354a48-cb93-46c3-a69e-19a4acf29f71 ]] \r\n",
       "E1 *- - \"*\"E7 [[psysml:8dca6daf-962f-46a3-bb74-22037bd04295 ]] \r\n",
       "@enduml\r\n",
       "\n",
       "PlantUML version 1.2020.13(Sat Jun 13 12:26:38 UTC 2020)\n",
       "(EPL source distribution)\n",
       "Java Runtime: OpenJDK Runtime Environment\n",
       "JVM: OpenJDK 64-Bit Server VM\n",
       "Default Encoding: UTF-8\n",
       "Language: en\n",
       "Country: null\n",
       "--></g></svg>"
      ]
     },
     "execution_count": 38,
     "metadata": {},
     "output_type": "execute_result"
    }
   ],
   "source": [
    "%viz --style=\"DEFAULT\" --view=\"Tree\" \"ControlNodeTest\""
   ]
  },
  {
   "cell_type": "code",
   "execution_count": 39,
   "id": "46ebe689",
   "metadata": {
    "execution": {
     "iopub.execute_input": "2021-08-04T06:26:31.863546Z",
     "iopub.status.busy": "2021-08-04T06:26:31.863339Z",
     "iopub.status.idle": "2021-08-04T06:26:31.867457Z",
     "shell.execute_reply": "2021-08-04T06:26:31.867618Z"
    }
   },
   "outputs": [
    {
     "data": {
      "image/svg+xml": [
       "<?xml version=\"1.0\" encoding=\"UTF-8\" standalone=\"no\"?><svg xmlns=\"http://www.w3.org/2000/svg\" xmlns:xlink=\"http://www.w3.org/1999/xlink\" contentScriptType=\"application/ecmascript\" contentStyleType=\"text/css\" height=\"12px\" preserveAspectRatio=\"none\" style=\"width:12px;height:12px;\" version=\"1.1\" viewBox=\"0 0 12 12\" width=\"12px\" zoomAndPan=\"magnify\"><defs/><g><!--MD5=[c5f280e076d0d61ccf4b0f27871bda1d]\n",
       "@startuml\r\n",
       "skinparam monochrome true\r\n",
       "skinparam classbackgroundcolor white\r\n",
       "skinparam shadowing false\r\n",
       "skinparam wrapWidth 300\r\n",
       "hide circle\r\n",
       "\r\n",
       "@enduml\r\n",
       "\n",
       "PlantUML version 1.2020.13(Sat Jun 13 12:26:38 UTC 2020)\n",
       "(EPL source distribution)\n",
       "Java Runtime: OpenJDK Runtime Environment\n",
       "JVM: OpenJDK 64-Bit Server VM\n",
       "Default Encoding: UTF-8\n",
       "Language: en\n",
       "Country: null\n",
       "--></g></svg>"
      ]
     },
     "execution_count": 39,
     "metadata": {},
     "output_type": "execute_result"
    }
   ],
   "source": [
    "%viz --style=\"DEFAULT\" --view=\"State\" \"ControlNodeTest\""
   ]
  },
  {
   "cell_type": "code",
   "execution_count": 40,
   "id": "a3a4a3bd",
   "metadata": {
    "execution": {
     "iopub.execute_input": "2021-08-04T06:26:31.917981Z",
     "iopub.status.busy": "2021-08-04T06:26:31.917736Z",
     "iopub.status.idle": "2021-08-04T06:26:31.945812Z",
     "shell.execute_reply": "2021-08-04T06:26:31.944585Z"
    }
   },
   "outputs": [
    {
     "data": {
      "image/svg+xml": [
       "<?xml version=\"1.0\" encoding=\"UTF-8\" standalone=\"no\"?><svg xmlns=\"http://www.w3.org/2000/svg\" xmlns:xlink=\"http://www.w3.org/1999/xlink\" contentScriptType=\"application/ecmascript\" contentStyleType=\"text/css\" height=\"217px\" preserveAspectRatio=\"none\" style=\"width:205px;height:217px;\" version=\"1.1\" viewBox=\"0 0 205 217\" width=\"205px\" zoomAndPan=\"magnify\"><defs/><g><!--MD5=[fbc87193dbaf4d95561dea2c320d4a47]\n",
       "cluster E1--><a href=\"psysml:d75b3c07-b549-4c23-b2aa-d48828b6adea\" target=\"_top\" title=\"psysml:d75b3c07-b549-4c23-b2aa-d48828b6adea\" xlink:actuate=\"onRequest\" xlink:href=\"psysml:d75b3c07-b549-4c23-b2aa-d48828b6adea\" xlink:show=\"new\" xlink:title=\"psysml:d75b3c07-b549-4c23-b2aa-d48828b6adea\" xlink:type=\"simple\"><rect fill=\"#FFFFFF\" height=\"199\" id=\"E1\" style=\"stroke: #383838; stroke-width: 1.5;\" width=\"187\" x=\"7\" y=\"7\"/><rect fill=\"#F8F8F8\" height=\"37.9375\" style=\"stroke: #383838; stroke-width: 1.5;\" width=\"187\" x=\"7\" y=\"7\"/><text fill=\"#000000\" font-family=\"sans-serif\" font-size=\"12\" font-style=\"italic\" lengthAdjust=\"spacingAndGlyphs\" textLength=\"77\" x=\"62\" y=\"23.1387\">«action def»</text><text fill=\"#000000\" font-family=\"sans-serif\" font-size=\"12\" lengthAdjust=\"spacingAndGlyphs\" textLength=\"105\" x=\"48\" y=\"37.1074\">ControlNodeTest</text></a><rect fill=\"#000000\" height=\"8\" style=\"stroke: none; stroke-width: 1.0;\" width=\"80\" x=\"60\" y=\"111\"/><rect fill=\"#000000\" height=\"8\" style=\"stroke: none; stroke-width: 1.0;\" width=\"80\" x=\"60\" y=\"129\"/><g id=\"E1.E2\"><a href=\"psysml:c07d7274-d0ac-44b0-95a3-e3c0562da237\" target=\"_top\" title=\"psysml:c07d7274-d0ac-44b0-95a3-e3c0562da237\" xlink:actuate=\"onRequest\" xlink:href=\"psysml:c07d7274-d0ac-44b0-95a3-e3c0562da237\" xlink:show=\"new\" xlink:title=\"psysml:c07d7274-d0ac-44b0-95a3-e3c0562da237\" xlink:type=\"simple\"><rect fill=\"#FFFFFF\" height=\"42.9375\" id=\"E2\" rx=\"10\" ry=\"10\" style=\"stroke: #383838; stroke-width: 1.5;\" width=\"60\" x=\"118\" y=\"58\"/><rect fill=\"#F8F8F8\" height=\"37.9375\" rx=\"10\" ry=\"10\" style=\"stroke: #F8F8F8; stroke-width: 1.5;\" width=\"60\" x=\"118\" y=\"58\"/><rect fill=\"#F8F8F8\" height=\"10\" style=\"stroke: #F8F8F8; stroke-width: 1.5;\" width=\"60\" x=\"118\" y=\"85.9375\"/><rect fill=\"none\" height=\"42.9375\" id=\"E2\" rx=\"10\" ry=\"10\" style=\"stroke: #383838; stroke-width: 1.5;\" width=\"60\" x=\"118\" y=\"58\"/><text fill=\"#000000\" font-family=\"sans-serif\" font-size=\"12\" font-style=\"italic\" lengthAdjust=\"spacingAndGlyphs\" textLength=\"53\" x=\"121.5\" y=\"74.1387\">«action»</text><text fill=\"#000000\" font-family=\"sans-serif\" font-size=\"12\" lengthAdjust=\"spacingAndGlyphs\" textLength=\"16\" x=\"140\" y=\"88.1074\">A1</text></a></g><g id=\"E1.E3\"><a href=\"psysml:7bb05ae1-d1dd-4ff0-97ee-ce3344a0751d\" target=\"_top\" title=\"psysml:7bb05ae1-d1dd-4ff0-97ee-ce3344a0751d\" xlink:actuate=\"onRequest\" xlink:href=\"psysml:7bb05ae1-d1dd-4ff0-97ee-ce3344a0751d\" xlink:show=\"new\" xlink:title=\"psysml:7bb05ae1-d1dd-4ff0-97ee-ce3344a0751d\" xlink:type=\"simple\"><rect fill=\"#FFFFFF\" height=\"42.9375\" id=\"E3\" rx=\"10\" ry=\"10\" style=\"stroke: #383838; stroke-width: 1.5;\" width=\"60\" x=\"23\" y=\"58\"/><rect fill=\"#F8F8F8\" height=\"37.9375\" rx=\"10\" ry=\"10\" style=\"stroke: #F8F8F8; stroke-width: 1.5;\" width=\"60\" x=\"23\" y=\"58\"/><rect fill=\"#F8F8F8\" height=\"10\" style=\"stroke: #F8F8F8; stroke-width: 1.5;\" width=\"60\" x=\"23\" y=\"85.9375\"/><rect fill=\"none\" height=\"42.9375\" id=\"E3\" rx=\"10\" ry=\"10\" style=\"stroke: #383838; stroke-width: 1.5;\" width=\"60\" x=\"23\" y=\"58\"/><text fill=\"#000000\" font-family=\"sans-serif\" font-size=\"12\" font-style=\"italic\" lengthAdjust=\"spacingAndGlyphs\" textLength=\"53\" x=\"26.5\" y=\"74.1387\">«action»</text><text fill=\"#000000\" font-family=\"sans-serif\" font-size=\"12\" lengthAdjust=\"spacingAndGlyphs\" textLength=\"16\" x=\"45\" y=\"88.1074\">A2</text></a></g><g id=\"E1.E6\"><a href=\"psysml:d5fd7944-a8f1-4c67-81d3-da10d551f750\" target=\"_top\" title=\"psysml:d5fd7944-a8f1-4c67-81d3-da10d551f750\" xlink:actuate=\"onRequest\" xlink:href=\"psysml:d5fd7944-a8f1-4c67-81d3-da10d551f750\" xlink:show=\"new\" xlink:title=\"psysml:d5fd7944-a8f1-4c67-81d3-da10d551f750\" xlink:type=\"simple\"><rect fill=\"#FFFFFF\" height=\"42.9375\" id=\"E6\" rx=\"10\" ry=\"10\" style=\"stroke: #383838; stroke-width: 1.5;\" width=\"60\" x=\"23\" y=\"147\"/><rect fill=\"#F8F8F8\" height=\"37.9375\" rx=\"10\" ry=\"10\" style=\"stroke: #F8F8F8; stroke-width: 1.5;\" width=\"60\" x=\"23\" y=\"147\"/><rect fill=\"#F8F8F8\" height=\"10\" style=\"stroke: #F8F8F8; stroke-width: 1.5;\" width=\"60\" x=\"23\" y=\"174.9375\"/><rect fill=\"none\" height=\"42.9375\" id=\"E6\" rx=\"10\" ry=\"10\" style=\"stroke: #383838; stroke-width: 1.5;\" width=\"60\" x=\"23\" y=\"147\"/><text fill=\"#000000\" font-family=\"sans-serif\" font-size=\"12\" font-style=\"italic\" lengthAdjust=\"spacingAndGlyphs\" textLength=\"53\" x=\"26.5\" y=\"163.1387\">«action»</text><text fill=\"#000000\" font-family=\"sans-serif\" font-size=\"12\" lengthAdjust=\"spacingAndGlyphs\" textLength=\"16\" x=\"45\" y=\"177.1074\">B1</text></a></g><g id=\"E1.E7\"><a href=\"psysml:b7d3ffe5-6bb9-4232-a5c3-5eafb8d0b5f9\" target=\"_top\" title=\"psysml:b7d3ffe5-6bb9-4232-a5c3-5eafb8d0b5f9\" xlink:actuate=\"onRequest\" xlink:href=\"psysml:b7d3ffe5-6bb9-4232-a5c3-5eafb8d0b5f9\" xlink:show=\"new\" xlink:title=\"psysml:b7d3ffe5-6bb9-4232-a5c3-5eafb8d0b5f9\" xlink:type=\"simple\"><rect fill=\"#FFFFFF\" height=\"42.9375\" id=\"E7\" rx=\"10\" ry=\"10\" style=\"stroke: #383838; stroke-width: 1.5;\" width=\"60\" x=\"118\" y=\"147\"/><rect fill=\"#F8F8F8\" height=\"37.9375\" rx=\"10\" ry=\"10\" style=\"stroke: #F8F8F8; stroke-width: 1.5;\" width=\"60\" x=\"118\" y=\"147\"/><rect fill=\"#F8F8F8\" height=\"10\" style=\"stroke: #F8F8F8; stroke-width: 1.5;\" width=\"60\" x=\"118\" y=\"174.9375\"/><rect fill=\"none\" height=\"42.9375\" id=\"E7\" rx=\"10\" ry=\"10\" style=\"stroke: #383838; stroke-width: 1.5;\" width=\"60\" x=\"118\" y=\"147\"/><text fill=\"#000000\" font-family=\"sans-serif\" font-size=\"12\" font-style=\"italic\" lengthAdjust=\"spacingAndGlyphs\" textLength=\"53\" x=\"121.5\" y=\"163.1387\">«action»</text><text fill=\"#000000\" font-family=\"sans-serif\" font-size=\"12\" lengthAdjust=\"spacingAndGlyphs\" textLength=\"16\" x=\"140\" y=\"177.1074\">B2</text></a></g><!--MD5=[4d03bb2d0377dc85ccfab60ff574652b]\n",
       "link E2 to E4--><a href=\"psysml:a5b917a3-7538-4e28-aa62-755107929dae\" target=\"_top\" title=\"psysml:a5b917a3-7538-4e28-aa62-755107929dae\" xlink:actuate=\"onRequest\" xlink:href=\"psysml:a5b917a3-7538-4e28-aa62-755107929dae\" xlink:show=\"new\" xlink:title=\"psysml:a5b917a3-7538-4e28-aa62-755107929dae\" xlink:type=\"simple\"><path d=\"M118.42,101.14 C114.95,103.57 111.64,105.88 108.81,107.85 \" fill=\"none\" id=\"E2-&gt;E4\" style=\"stroke: #383838; stroke-width: 1.0;\"/><polygon fill=\"#383838\" points=\"104.3,111,113.9709,109.1361,108.4022,108.1413,109.397,102.5726,104.3,111\" style=\"stroke: #383838; stroke-width: 1.0;\"/><text fill=\"#000000\" font-family=\"sans-serif\" font-size=\"13\" lengthAdjust=\"spacingAndGlyphs\" textLength=\"7\" x=\"97.87\" y=\"99.9205\">*</text></a><!--MD5=[af87c684e3b0d8be13c1a698a818ef1e]\n",
       "link E3 to E4--><a href=\"psysml:b67a9087-1129-4a2e-aba3-334d88c3cbf2\" target=\"_top\" title=\"psysml:b67a9087-1129-4a2e-aba3-334d88c3cbf2\" xlink:actuate=\"onRequest\" xlink:href=\"psysml:b67a9087-1129-4a2e-aba3-334d88c3cbf2\" xlink:show=\"new\" xlink:title=\"psysml:b67a9087-1129-4a2e-aba3-334d88c3cbf2\" xlink:type=\"simple\"><path d=\"M81.96,101.14 C85.36,103.57 88.6,105.88 91.37,107.85 \" fill=\"none\" id=\"E3-&gt;E4\" style=\"stroke: #383838; stroke-width: 1.0;\"/><polygon fill=\"#383838\" points=\"95.79,111,90.7801,102.5206,91.7175,108.0992,86.1388,109.0366,95.79,111\" style=\"stroke: #383838; stroke-width: 1.0;\"/><text fill=\"#000000\" font-family=\"sans-serif\" font-size=\"13\" lengthAdjust=\"spacingAndGlyphs\" textLength=\"7\" x=\"91.1121\" y=\"103.6092\">*</text></a><!--MD5=[1b7591eae5389033d8d09a9d6721a717]\n",
       "link E4 to E5--><a href=\"psysml:9a17080e-ae46-40d4-b989-796f716175e4\" target=\"_top\" title=\"psysml:9a17080e-ae46-40d4-b989-796f716175e4\" xlink:actuate=\"onRequest\" xlink:href=\"psysml:9a17080e-ae46-40d4-b989-796f716175e4\" xlink:show=\"new\" xlink:title=\"psysml:9a17080e-ae46-40d4-b989-796f716175e4\" xlink:type=\"simple\"><path d=\"M100,119.08 C100,120.38 100,121.95 100,123.55 \" fill=\"none\" id=\"E4-&gt;E5\" style=\"stroke: #383838; stroke-width: 1.0;\"/><polygon fill=\"#383838\" points=\"100,128.7,104,119.7,100,123.7,96,119.7,100,128.7\" style=\"stroke: #383838; stroke-width: 1.0;\"/><text fill=\"#000000\" font-family=\"sans-serif\" font-size=\"13\" lengthAdjust=\"spacingAndGlyphs\" textLength=\"7\" x=\"42.9663\" y=\"135.9509\">*</text></a><!--MD5=[9120cf2e5df3bff93db8f754bbbc09b4]\n",
       "link E5 to E6--><a href=\"psysml:197b427e-ad07-4e53-856c-ed2b1bc0e06a\" target=\"_top\" title=\"psysml:197b427e-ad07-4e53-856c-ed2b1bc0e06a\" xlink:actuate=\"onRequest\" xlink:href=\"psysml:197b427e-ad07-4e53-856c-ed2b1bc0e06a\" xlink:show=\"new\" xlink:title=\"psysml:197b427e-ad07-4e53-856c-ed2b1bc0e06a\" xlink:type=\"simple\"><path d=\"M95.66,137.09 C93.25,138.81 89.99,141.13 86.35,143.73 \" fill=\"none\" id=\"E5-&gt;E6\" style=\"stroke: #383838; stroke-width: 1.0;\"/><polygon fill=\"#383838\" points=\"81.93,146.88,91.5812,144.9166,86.0025,143.9792,86.9399,138.4006,81.93,146.88\" style=\"stroke: #383838; stroke-width: 1.0;\"/><text fill=\"#000000\" font-family=\"sans-serif\" font-size=\"13\" lengthAdjust=\"spacingAndGlyphs\" textLength=\"7\" x=\"91.0509\" y=\"155.0031\">*</text></a><!--MD5=[3a9b96bfbf6b6ad89c494e81751bda47]\n",
       "link E5 to E7--><a href=\"psysml:b67e977c-71d2-45f4-9959-07a509bb3c26\" target=\"_top\" title=\"psysml:b67e977c-71d2-45f4-9959-07a509bb3c26\" xlink:actuate=\"onRequest\" xlink:href=\"psysml:b67e977c-71d2-45f4-9959-07a509bb3c26\" xlink:show=\"new\" xlink:title=\"psysml:b67e977c-71d2-45f4-9959-07a509bb3c26\" xlink:type=\"simple\"><path d=\"M104.43,137.09 C106.9,138.81 110.22,141.13 113.94,143.73 \" fill=\"none\" id=\"E5-&gt;E7\" style=\"stroke: #383838; stroke-width: 1.0;\"/><polygon fill=\"#383838\" points=\"118.46,146.88,113.3827,138.4407,114.3645,144.0117,108.7935,144.9935,118.46,146.88\" style=\"stroke: #383838; stroke-width: 1.0;\"/><text fill=\"#000000\" font-family=\"sans-serif\" font-size=\"13\" lengthAdjust=\"spacingAndGlyphs\" textLength=\"7\" x=\"102.9935\" y=\"155.3537\">*</text></a><!--MD5=[0e68683b10a783d372b0c3c1985cfb3d]\n",
       "@startuml\r\n",
       "skinparam ranksep 10\r\n",
       "skinparam rectangle {\r\n",
       " backgroundColor<<block>> LightGreen\r\n",
       "}\r\n",
       "skinparam monochrome true\r\n",
       "skinparam classbackgroundcolor white\r\n",
       "skinparam shadowing false\r\n",
       "skinparam wrapWidth 300\r\n",
       "hide circle\r\n",
       "\r\n",
       "rec def \"ControlNodeTest\" as E1  <<(T,blue) action def>> [[psysml:d75b3c07-b549-4c23-b2aa-d48828b6adea ]] {\r\n",
       "rec usage \"A1\" as E2  <<(T,blue) action>> [[psysml:c07d7274-d0ac-44b0-95a3-e3c0562da237 ]] {\r\n",
       "}\r\n",
       "\r\n",
       "rec usage \"A2\" as E3  <<(T,blue) action>> [[psysml:7bb05ae1-d1dd-4ff0-97ee-ce3344a0751d ]] {\r\n",
       "}\r\n",
       "\r\n",
       "join \"J\" as E4  [[psysml:f3bfce16-3667-4a48-a42e-fd992fa328bf ]] \r\n",
       "fork \"F\" as E5  [[psysml:08c848ef-d5ea-4388-acb9-5b8d01347f10 ]] \r\n",
       "rec usage \"B1\" as E6  <<(T,blue) action>> [[psysml:d5fd7944-a8f1-4c67-81d3-da10d551f750 ]] {\r\n",
       "}\r\n",
       "\r\n",
       "rec usage \"B2\" as E7  <<(T,blue) action>> [[psysml:b7d3ffe5-6bb9-4232-a5c3-5eafb8d0b5f9 ]] {\r\n",
       "}\r\n",
       "\r\n",
       "}\r\n",
       "\r\n",
       "E2 - -> \"*\"E4 [[psysml:a5b917a3-7538-4e28-aa62-755107929dae ]] \r\n",
       "E3 - -> \"*\"E4 [[psysml:b67a9087-1129-4a2e-aba3-334d88c3cbf2 ]] \r\n",
       "E4 - -> \"*\"E5 [[psysml:9a17080e-ae46-40d4-b989-796f716175e4 ]] \r\n",
       "E5 - -> \"*\"E6 [[psysml:197b427e-ad07-4e53-856c-ed2b1bc0e06a ]] \r\n",
       "E5 - -> \"*\"E7 [[psysml:b67e977c-71d2-45f4-9959-07a509bb3c26 ]] \r\n",
       "@enduml\r\n",
       "\n",
       "PlantUML version 1.2020.13(Sat Jun 13 12:26:38 UTC 2020)\n",
       "(EPL source distribution)\n",
       "Java Runtime: OpenJDK Runtime Environment\n",
       "JVM: OpenJDK 64-Bit Server VM\n",
       "Default Encoding: UTF-8\n",
       "Language: en\n",
       "Country: null\n",
       "--></g></svg>"
      ]
     },
     "execution_count": 40,
     "metadata": {},
     "output_type": "execute_result"
    }
   ],
   "source": [
    "%viz --style=\"DEFAULT\" --view=\"Interconnection\" \"ControlNodeTest\""
   ]
  },
  {
   "cell_type": "code",
   "execution_count": 41,
   "id": "a41b05fb",
   "metadata": {
    "execution": {
     "iopub.execute_input": "2021-08-04T06:26:31.995428Z",
     "iopub.status.busy": "2021-08-04T06:26:31.995024Z",
     "iopub.status.idle": "2021-08-04T06:26:32.021835Z",
     "shell.execute_reply": "2021-08-04T06:26:32.021449Z"
    }
   },
   "outputs": [
    {
     "data": {
      "image/svg+xml": [
       "<?xml version=\"1.0\" encoding=\"UTF-8\" standalone=\"no\"?><svg xmlns=\"http://www.w3.org/2000/svg\" xmlns:xlink=\"http://www.w3.org/1999/xlink\" contentScriptType=\"application/ecmascript\" contentStyleType=\"text/css\" height=\"211px\" preserveAspectRatio=\"none\" style=\"width:205px;height:211px;\" version=\"1.1\" viewBox=\"0 0 205 211\" width=\"205px\" zoomAndPan=\"magnify\"><defs/><g><!--MD5=[fbc87193dbaf4d95561dea2c320d4a47]\n",
       "cluster E1--><a href=\"psysml:d75b3c07-b549-4c23-b2aa-d48828b6adea\" target=\"_top\" title=\"psysml:d75b3c07-b549-4c23-b2aa-d48828b6adea\" xlink:actuate=\"onRequest\" xlink:href=\"psysml:d75b3c07-b549-4c23-b2aa-d48828b6adea\" xlink:show=\"new\" xlink:title=\"psysml:d75b3c07-b549-4c23-b2aa-d48828b6adea\" xlink:type=\"simple\"><rect fill=\"#FFFFFF\" height=\"193\" id=\"E1\" style=\"stroke: #383838; stroke-width: 1.5;\" width=\"187\" x=\"7\" y=\"7\"/><rect fill=\"#F8F8F8\" height=\"37.9375\" style=\"stroke: #383838; stroke-width: 1.5;\" width=\"187\" x=\"7\" y=\"7\"/><text fill=\"#000000\" font-family=\"sans-serif\" font-size=\"12\" font-style=\"italic\" lengthAdjust=\"spacingAndGlyphs\" textLength=\"77\" x=\"62\" y=\"23.1387\">«action def»</text><text fill=\"#000000\" font-family=\"sans-serif\" font-size=\"12\" lengthAdjust=\"spacingAndGlyphs\" textLength=\"105\" x=\"48\" y=\"37.1074\">ControlNodeTest</text></a><rect fill=\"#000000\" height=\"8\" style=\"stroke: none; stroke-width: 1.0;\" width=\"80\" x=\"60\" y=\"109\"/><rect fill=\"#000000\" height=\"8\" style=\"stroke: none; stroke-width: 1.0;\" width=\"80\" x=\"60\" y=\"125\"/><g id=\"E1.E2\"><a href=\"psysml:c07d7274-d0ac-44b0-95a3-e3c0562da237\" target=\"_top\" title=\"psysml:c07d7274-d0ac-44b0-95a3-e3c0562da237\" xlink:actuate=\"onRequest\" xlink:href=\"psysml:c07d7274-d0ac-44b0-95a3-e3c0562da237\" xlink:show=\"new\" xlink:title=\"psysml:c07d7274-d0ac-44b0-95a3-e3c0562da237\" xlink:type=\"simple\"><rect fill=\"#FFFFFF\" height=\"42.9375\" id=\"E2\" rx=\"10\" ry=\"10\" style=\"stroke: #383838; stroke-width: 1.5;\" width=\"60\" x=\"118\" y=\"58\"/><rect fill=\"#F8F8F8\" height=\"37.9375\" rx=\"10\" ry=\"10\" style=\"stroke: #F8F8F8; stroke-width: 1.5;\" width=\"60\" x=\"118\" y=\"58\"/><rect fill=\"#F8F8F8\" height=\"10\" style=\"stroke: #F8F8F8; stroke-width: 1.5;\" width=\"60\" x=\"118\" y=\"85.9375\"/><rect fill=\"none\" height=\"42.9375\" id=\"E2\" rx=\"10\" ry=\"10\" style=\"stroke: #383838; stroke-width: 1.5;\" width=\"60\" x=\"118\" y=\"58\"/><text fill=\"#000000\" font-family=\"sans-serif\" font-size=\"12\" font-style=\"italic\" lengthAdjust=\"spacingAndGlyphs\" textLength=\"53\" x=\"121.5\" y=\"74.1387\">«action»</text><text fill=\"#000000\" font-family=\"sans-serif\" font-size=\"12\" lengthAdjust=\"spacingAndGlyphs\" textLength=\"16\" x=\"140\" y=\"88.1074\">A1</text></a></g><g id=\"E1.E3\"><a href=\"psysml:7bb05ae1-d1dd-4ff0-97ee-ce3344a0751d\" target=\"_top\" title=\"psysml:7bb05ae1-d1dd-4ff0-97ee-ce3344a0751d\" xlink:actuate=\"onRequest\" xlink:href=\"psysml:7bb05ae1-d1dd-4ff0-97ee-ce3344a0751d\" xlink:show=\"new\" xlink:title=\"psysml:7bb05ae1-d1dd-4ff0-97ee-ce3344a0751d\" xlink:type=\"simple\"><rect fill=\"#FFFFFF\" height=\"42.9375\" id=\"E3\" rx=\"10\" ry=\"10\" style=\"stroke: #383838; stroke-width: 1.5;\" width=\"60\" x=\"23\" y=\"58\"/><rect fill=\"#F8F8F8\" height=\"37.9375\" rx=\"10\" ry=\"10\" style=\"stroke: #F8F8F8; stroke-width: 1.5;\" width=\"60\" x=\"23\" y=\"58\"/><rect fill=\"#F8F8F8\" height=\"10\" style=\"stroke: #F8F8F8; stroke-width: 1.5;\" width=\"60\" x=\"23\" y=\"85.9375\"/><rect fill=\"none\" height=\"42.9375\" id=\"E3\" rx=\"10\" ry=\"10\" style=\"stroke: #383838; stroke-width: 1.5;\" width=\"60\" x=\"23\" y=\"58\"/><text fill=\"#000000\" font-family=\"sans-serif\" font-size=\"12\" font-style=\"italic\" lengthAdjust=\"spacingAndGlyphs\" textLength=\"53\" x=\"26.5\" y=\"74.1387\">«action»</text><text fill=\"#000000\" font-family=\"sans-serif\" font-size=\"12\" lengthAdjust=\"spacingAndGlyphs\" textLength=\"16\" x=\"45\" y=\"88.1074\">A2</text></a></g><g id=\"E1.E6\"><a href=\"psysml:d5fd7944-a8f1-4c67-81d3-da10d551f750\" target=\"_top\" title=\"psysml:d5fd7944-a8f1-4c67-81d3-da10d551f750\" xlink:actuate=\"onRequest\" xlink:href=\"psysml:d5fd7944-a8f1-4c67-81d3-da10d551f750\" xlink:show=\"new\" xlink:title=\"psysml:d5fd7944-a8f1-4c67-81d3-da10d551f750\" xlink:type=\"simple\"><rect fill=\"#FFFFFF\" height=\"42.9375\" id=\"E6\" rx=\"10\" ry=\"10\" style=\"stroke: #383838; stroke-width: 1.5;\" width=\"60\" x=\"23\" y=\"141\"/><rect fill=\"#F8F8F8\" height=\"37.9375\" rx=\"10\" ry=\"10\" style=\"stroke: #F8F8F8; stroke-width: 1.5;\" width=\"60\" x=\"23\" y=\"141\"/><rect fill=\"#F8F8F8\" height=\"10\" style=\"stroke: #F8F8F8; stroke-width: 1.5;\" width=\"60\" x=\"23\" y=\"168.9375\"/><rect fill=\"none\" height=\"42.9375\" id=\"E6\" rx=\"10\" ry=\"10\" style=\"stroke: #383838; stroke-width: 1.5;\" width=\"60\" x=\"23\" y=\"141\"/><text fill=\"#000000\" font-family=\"sans-serif\" font-size=\"12\" font-style=\"italic\" lengthAdjust=\"spacingAndGlyphs\" textLength=\"53\" x=\"26.5\" y=\"157.1387\">«action»</text><text fill=\"#000000\" font-family=\"sans-serif\" font-size=\"12\" lengthAdjust=\"spacingAndGlyphs\" textLength=\"16\" x=\"45\" y=\"171.1074\">B1</text></a></g><g id=\"E1.E7\"><a href=\"psysml:b7d3ffe5-6bb9-4232-a5c3-5eafb8d0b5f9\" target=\"_top\" title=\"psysml:b7d3ffe5-6bb9-4232-a5c3-5eafb8d0b5f9\" xlink:actuate=\"onRequest\" xlink:href=\"psysml:b7d3ffe5-6bb9-4232-a5c3-5eafb8d0b5f9\" xlink:show=\"new\" xlink:title=\"psysml:b7d3ffe5-6bb9-4232-a5c3-5eafb8d0b5f9\" xlink:type=\"simple\"><rect fill=\"#FFFFFF\" height=\"42.9375\" id=\"E7\" rx=\"10\" ry=\"10\" style=\"stroke: #383838; stroke-width: 1.5;\" width=\"60\" x=\"118\" y=\"141\"/><rect fill=\"#F8F8F8\" height=\"37.9375\" rx=\"10\" ry=\"10\" style=\"stroke: #F8F8F8; stroke-width: 1.5;\" width=\"60\" x=\"118\" y=\"141\"/><rect fill=\"#F8F8F8\" height=\"10\" style=\"stroke: #F8F8F8; stroke-width: 1.5;\" width=\"60\" x=\"118\" y=\"168.9375\"/><rect fill=\"none\" height=\"42.9375\" id=\"E7\" rx=\"10\" ry=\"10\" style=\"stroke: #383838; stroke-width: 1.5;\" width=\"60\" x=\"118\" y=\"141\"/><text fill=\"#000000\" font-family=\"sans-serif\" font-size=\"12\" font-style=\"italic\" lengthAdjust=\"spacingAndGlyphs\" textLength=\"53\" x=\"121.5\" y=\"157.1387\">«action»</text><text fill=\"#000000\" font-family=\"sans-serif\" font-size=\"12\" lengthAdjust=\"spacingAndGlyphs\" textLength=\"16\" x=\"140\" y=\"171.1074\">B2</text></a></g><!--MD5=[4d03bb2d0377dc85ccfab60ff574652b]\n",
       "link E2 to E4--><a href=\"psysml:a5b917a3-7538-4e28-aa62-755107929dae\" target=\"_top\" title=\"psysml:a5b917a3-7538-4e28-aa62-755107929dae\" xlink:actuate=\"onRequest\" xlink:href=\"psysml:a5b917a3-7538-4e28-aa62-755107929dae\" xlink:show=\"new\" xlink:title=\"psysml:a5b917a3-7538-4e28-aa62-755107929dae\" xlink:type=\"simple\"><path d=\"M117.87,100.27 C114.67,102.37 111.63,104.37 108.98,106.1 \" fill=\"none\" id=\"E2-&gt;E4\" style=\"stroke: #383838; stroke-width: 1.0; stroke-dasharray: 7.0,7.0;\"/><polygon fill=\"#383838\" points=\"104.72,108.9,114.4401,107.3128,108.9021,106.1595,110.0554,100.6215,104.72,108.9\" style=\"stroke: #383838; stroke-width: 1.0;\"/></a><!--MD5=[af87c684e3b0d8be13c1a698a818ef1e]\n",
       "link E3 to E4--><a href=\"psysml:b67a9087-1129-4a2e-aba3-334d88c3cbf2\" target=\"_top\" title=\"psysml:b67a9087-1129-4a2e-aba3-334d88c3cbf2\" xlink:actuate=\"onRequest\" xlink:href=\"psysml:b67a9087-1129-4a2e-aba3-334d88c3cbf2\" xlink:show=\"new\" xlink:title=\"psysml:b67a9087-1129-4a2e-aba3-334d88c3cbf2\" xlink:type=\"simple\"><path d=\"M83.03,100.63 C85.85,102.52 88.54,104.32 90.9,105.9 \" fill=\"none\" id=\"E3-&gt;E4\" style=\"stroke: #383838; stroke-width: 1.0; stroke-dasharray: 7.0,7.0;\"/><polygon fill=\"#383838\" points=\"95.26,108.82,90.0101,100.487,91.1063,106.0366,85.5567,107.1328,95.26,108.82\" style=\"stroke: #383838; stroke-width: 1.0;\"/></a><!--MD5=[1b7591eae5389033d8d09a9d6721a717]\n",
       "link E4 to E5--><a href=\"psysml:9a17080e-ae46-40d4-b989-796f716175e4\" target=\"_top\" title=\"psysml:9a17080e-ae46-40d4-b989-796f716175e4\" xlink:actuate=\"onRequest\" xlink:href=\"psysml:9a17080e-ae46-40d4-b989-796f716175e4\" xlink:show=\"new\" xlink:title=\"psysml:9a17080e-ae46-40d4-b989-796f716175e4\" xlink:type=\"simple\"><path d=\"M100,117.25 C100,118.05 100,118.94 100,119.86 \" fill=\"none\" id=\"E4-&gt;E5\" style=\"stroke: #383838; stroke-width: 1.0; stroke-dasharray: 7.0,7.0;\"/><polygon fill=\"#383838\" points=\"100,124.96,104,115.96,100,119.96,96,115.96,100,124.96\" style=\"stroke: #383838; stroke-width: 1.0;\"/></a><!--MD5=[9120cf2e5df3bff93db8f754bbbc09b4]\n",
       "link E5 to E6--><a href=\"psysml:197b427e-ad07-4e53-856c-ed2b1bc0e06a\" target=\"_top\" title=\"psysml:197b427e-ad07-4e53-856c-ed2b1bc0e06a\" xlink:actuate=\"onRequest\" xlink:href=\"psysml:197b427e-ad07-4e53-856c-ed2b1bc0e06a\" xlink:show=\"new\" xlink:title=\"psysml:197b427e-ad07-4e53-856c-ed2b1bc0e06a\" xlink:type=\"simple\"><path d=\"M95.32,133.14 C93.21,134.55 90.52,136.35 87.53,138.36 \" fill=\"none\" id=\"E5-&gt;E6\" style=\"stroke: #383838; stroke-width: 1.0; stroke-dasharray: 7.0,7.0;\"/><polygon fill=\"#383838\" points=\"83.27,141.21,92.9706,139.5074,87.4192,138.42,88.5066,132.8687,83.27,141.21\" style=\"stroke: #383838; stroke-width: 1.0;\"/></a><!--MD5=[3a9b96bfbf6b6ad89c494e81751bda47]\n",
       "link E5 to E7--><a href=\"psysml:b67e977c-71d2-45f4-9959-07a509bb3c26\" target=\"_top\" title=\"psysml:b67e977c-71d2-45f4-9959-07a509bb3c26\" xlink:actuate=\"onRequest\" xlink:href=\"psysml:b67e977c-71d2-45f4-9959-07a509bb3c26\" xlink:show=\"new\" xlink:title=\"psysml:b67e977c-71d2-45f4-9959-07a509bb3c26\" xlink:type=\"simple\"><path d=\"M104.78,133.14 C107.16,134.7 110.28,136.75 113.75,139.02 \" fill=\"none\" id=\"E5-&gt;E7\" style=\"stroke: #383838; stroke-width: 1.0; stroke-dasharray: 7.0,7.0;\"/><polygon fill=\"#383838\" points=\"117.96,141.79,112.6246,133.5115,113.7779,139.0495,108.2399,140.2028,117.96,141.79\" style=\"stroke: #383838; stroke-width: 1.0;\"/></a><!--MD5=[d7dc10793f758b6bffd483266ac9d5c1]\n",
       "@startuml\r\n",
       "skinparam ranksep 8\r\n",
       "skinparam monochrome true\r\n",
       "skinparam classbackgroundcolor white\r\n",
       "skinparam shadowing false\r\n",
       "skinparam wrapWidth 300\r\n",
       "hide circle\r\n",
       "\r\n",
       "rec def \"ControlNodeTest\" as E1  <<(T,blue) action def>> [[psysml:d75b3c07-b549-4c23-b2aa-d48828b6adea ]] {\r\n",
       "rec usage \"A1\" as E2  <<(T,blue) action>> [[psysml:c07d7274-d0ac-44b0-95a3-e3c0562da237 ]] {\r\n",
       "}\r\n",
       "\r\n",
       "rec usage \"A2\" as E3  <<(T,blue) action>> [[psysml:7bb05ae1-d1dd-4ff0-97ee-ce3344a0751d ]] {\r\n",
       "}\r\n",
       "\r\n",
       "join \"J\" as E4  [[psysml:f3bfce16-3667-4a48-a42e-fd992fa328bf ]] \r\n",
       "fork \"F\" as E5  [[psysml:08c848ef-d5ea-4388-acb9-5b8d01347f10 ]] \r\n",
       "rec usage \"B1\" as E6  <<(T,blue) action>> [[psysml:d5fd7944-a8f1-4c67-81d3-da10d551f750 ]] {\r\n",
       "}\r\n",
       "\r\n",
       "rec usage \"B2\" as E7  <<(T,blue) action>> [[psysml:b7d3ffe5-6bb9-4232-a5c3-5eafb8d0b5f9 ]] {\r\n",
       "}\r\n",
       "\r\n",
       "}\r\n",
       "\r\n",
       "E2 ..> E4 [[psysml:a5b917a3-7538-4e28-aa62-755107929dae ]] \r\n",
       "E3 ..> E4 [[psysml:b67a9087-1129-4a2e-aba3-334d88c3cbf2 ]] \r\n",
       "E4 ..> E5 [[psysml:9a17080e-ae46-40d4-b989-796f716175e4 ]] \r\n",
       "E5 ..> E6 [[psysml:197b427e-ad07-4e53-856c-ed2b1bc0e06a ]] \r\n",
       "E5 ..> E7 [[psysml:b67e977c-71d2-45f4-9959-07a509bb3c26 ]] \r\n",
       "@enduml\r\n",
       "\n",
       "PlantUML version 1.2020.13(Sat Jun 13 12:26:38 UTC 2020)\n",
       "(EPL source distribution)\n",
       "Java Runtime: OpenJDK Runtime Environment\n",
       "JVM: OpenJDK 64-Bit Server VM\n",
       "Default Encoding: UTF-8\n",
       "Language: en\n",
       "Country: null\n",
       "--></g></svg>"
      ]
     },
     "execution_count": 41,
     "metadata": {},
     "output_type": "execute_result"
    }
   ],
   "source": [
    "%viz --style=\"DEFAULT\" --view=\"Action\" \"ControlNodeTest\""
   ]
  },
  {
   "cell_type": "code",
   "execution_count": 42,
   "id": "d7bd7aba",
   "metadata": {
    "execution": {
     "iopub.execute_input": "2021-08-04T06:26:32.071545Z",
     "iopub.status.busy": "2021-08-04T06:26:32.071145Z",
     "iopub.status.idle": "2021-08-04T06:26:32.098119Z",
     "shell.execute_reply": "2021-08-04T06:26:32.096734Z"
    }
   },
   "outputs": [
    {
     "data": {
      "image/svg+xml": [
       "<?xml version=\"1.0\" encoding=\"UTF-8\" standalone=\"no\"?><svg xmlns=\"http://www.w3.org/2000/svg\" xmlns:xlink=\"http://www.w3.org/1999/xlink\" contentScriptType=\"application/ecmascript\" contentStyleType=\"text/css\" height=\"169px\" preserveAspectRatio=\"none\" style=\"width:557px;height:169px;\" version=\"1.1\" viewBox=\"0 0 557 169\" width=\"557px\" zoomAndPan=\"magnify\"><defs/><g><!--MD5=[43c9051892ef23e1a46a86907403d788]\n",
       "class E1--><a href=\"psysml:d75b3c07-b549-4c23-b2aa-d48828b6adea\" target=\"_top\" title=\"psysml:d75b3c07-b549-4c23-b2aa-d48828b6adea\" xlink:actuate=\"onRequest\" xlink:href=\"psysml:d75b3c07-b549-4c23-b2aa-d48828b6adea\" xlink:show=\"new\" xlink:title=\"psysml:d75b3c07-b549-4c23-b2aa-d48828b6adea\" xlink:type=\"simple\"><rect fill=\"#FFFFFF\" height=\"45.9375\" id=\"E1\" style=\"stroke: #383838; stroke-width: 1.5;\" width=\"111\" x=\"220\" y=\"7\"/><text fill=\"#000000\" font-family=\"sans-serif\" font-size=\"12\" font-style=\"italic\" lengthAdjust=\"spacingAndGlyphs\" textLength=\"77\" x=\"237\" y=\"23.1387\">«action def»</text><text fill=\"#000000\" font-family=\"sans-serif\" font-size=\"12\" lengthAdjust=\"spacingAndGlyphs\" textLength=\"105\" x=\"223\" y=\"37.1074\">ControlNodeTest</text><line style=\"stroke: #383838; stroke-width: 1.5;\" x1=\"221\" x2=\"330\" y1=\"44.9375\" y2=\"44.9375\"/></a><!--MD5=[b4997ac47864f28c2f74865a473b2911]\n",
       "class E2--><a href=\"psysml:c07d7274-d0ac-44b0-95a3-e3c0562da237\" target=\"_top\" title=\"psysml:c07d7274-d0ac-44b0-95a3-e3c0562da237\" xlink:actuate=\"onRequest\" xlink:href=\"psysml:c07d7274-d0ac-44b0-95a3-e3c0562da237\" xlink:show=\"new\" xlink:title=\"psysml:c07d7274-d0ac-44b0-95a3-e3c0562da237\" xlink:type=\"simple\"><rect fill=\"#FFFFFF\" height=\"45.9375\" id=\"E2\" rx=\"10\" ry=\"10\" style=\"stroke: #383838; stroke-width: 1.5;\" width=\"55\" x=\"7\" y=\"113\"/><text fill=\"#000000\" font-family=\"sans-serif\" font-size=\"12\" font-style=\"italic\" lengthAdjust=\"spacingAndGlyphs\" textLength=\"53\" x=\"8\" y=\"129.1387\">«action»</text><text fill=\"#000000\" font-family=\"sans-serif\" font-size=\"12\" lengthAdjust=\"spacingAndGlyphs\" textLength=\"16\" x=\"26.5\" y=\"143.1074\">A1</text><line style=\"stroke: #383838; stroke-width: 1.5;\" x1=\"8\" x2=\"61\" y1=\"150.9375\" y2=\"150.9375\"/></a><!--MD5=[09b614a08d8cba4a07c9adeb5e0fee81]\n",
       "class E3--><a href=\"psysml:7bb05ae1-d1dd-4ff0-97ee-ce3344a0751d\" target=\"_top\" title=\"psysml:7bb05ae1-d1dd-4ff0-97ee-ce3344a0751d\" xlink:actuate=\"onRequest\" xlink:href=\"psysml:7bb05ae1-d1dd-4ff0-97ee-ce3344a0751d\" xlink:show=\"new\" xlink:title=\"psysml:7bb05ae1-d1dd-4ff0-97ee-ce3344a0751d\" xlink:type=\"simple\"><rect fill=\"#FFFFFF\" height=\"45.9375\" id=\"E3\" rx=\"10\" ry=\"10\" style=\"stroke: #383838; stroke-width: 1.5;\" width=\"55\" x=\"97\" y=\"113\"/><text fill=\"#000000\" font-family=\"sans-serif\" font-size=\"12\" font-style=\"italic\" lengthAdjust=\"spacingAndGlyphs\" textLength=\"53\" x=\"98\" y=\"129.1387\">«action»</text><text fill=\"#000000\" font-family=\"sans-serif\" font-size=\"12\" lengthAdjust=\"spacingAndGlyphs\" textLength=\"16\" x=\"116.5\" y=\"143.1074\">A2</text><line style=\"stroke: #383838; stroke-width: 1.5;\" x1=\"98\" x2=\"151\" y1=\"150.9375\" y2=\"150.9375\"/></a><!--MD5=[ebbe1d658d1005bcc118a6aa81145e00]\n",
       "class E4--><a href=\"psysml:f3bfce16-3667-4a48-a42e-fd992fa328bf\" target=\"_top\" title=\"psysml:f3bfce16-3667-4a48-a42e-fd992fa328bf\" xlink:actuate=\"onRequest\" xlink:href=\"psysml:f3bfce16-3667-4a48-a42e-fd992fa328bf\" xlink:show=\"new\" xlink:title=\"psysml:f3bfce16-3667-4a48-a42e-fd992fa328bf\" xlink:type=\"simple\"><rect fill=\"#FFFFFF\" height=\"45.9375\" id=\"E4\" rx=\"10\" ry=\"10\" style=\"stroke: #383838; stroke-width: 1.5;\" width=\"71\" x=\"187\" y=\"113\"/><text fill=\"#000000\" font-family=\"sans-serif\" font-size=\"12\" font-style=\"italic\" lengthAdjust=\"spacingAndGlyphs\" textLength=\"69\" x=\"188\" y=\"129.1387\">«joinNode»</text><text fill=\"#000000\" font-family=\"sans-serif\" font-size=\"12\" lengthAdjust=\"spacingAndGlyphs\" textLength=\"3\" x=\"221\" y=\"143.1074\">J</text><line style=\"stroke: #383838; stroke-width: 1.5;\" x1=\"188\" x2=\"257\" y1=\"150.9375\" y2=\"150.9375\"/></a><!--MD5=[270fce915f116d4de14055a7c1d9a0f3]\n",
       "class E5--><a href=\"psysml:08c848ef-d5ea-4388-acb9-5b8d01347f10\" target=\"_top\" title=\"psysml:08c848ef-d5ea-4388-acb9-5b8d01347f10\" xlink:actuate=\"onRequest\" xlink:href=\"psysml:08c848ef-d5ea-4388-acb9-5b8d01347f10\" xlink:show=\"new\" xlink:title=\"psysml:08c848ef-d5ea-4388-acb9-5b8d01347f10\" xlink:type=\"simple\"><rect fill=\"#FFFFFF\" height=\"45.9375\" id=\"E5\" rx=\"10\" ry=\"10\" style=\"stroke: #383838; stroke-width: 1.5;\" width=\"73\" x=\"293\" y=\"113\"/><text fill=\"#000000\" font-family=\"sans-serif\" font-size=\"12\" font-style=\"italic\" lengthAdjust=\"spacingAndGlyphs\" textLength=\"71\" x=\"294\" y=\"129.1387\">«forkNode»</text><text fill=\"#000000\" font-family=\"sans-serif\" font-size=\"12\" lengthAdjust=\"spacingAndGlyphs\" textLength=\"7\" x=\"326\" y=\"143.1074\">F</text><line style=\"stroke: #383838; stroke-width: 1.5;\" x1=\"294\" x2=\"365\" y1=\"150.9375\" y2=\"150.9375\"/></a><!--MD5=[60a26617385b1d2d0262a64233df1f8d]\n",
       "class E6--><a href=\"psysml:d5fd7944-a8f1-4c67-81d3-da10d551f750\" target=\"_top\" title=\"psysml:d5fd7944-a8f1-4c67-81d3-da10d551f750\" xlink:actuate=\"onRequest\" xlink:href=\"psysml:d5fd7944-a8f1-4c67-81d3-da10d551f750\" xlink:show=\"new\" xlink:title=\"psysml:d5fd7944-a8f1-4c67-81d3-da10d551f750\" xlink:type=\"simple\"><rect fill=\"#FFFFFF\" height=\"45.9375\" id=\"E6\" rx=\"10\" ry=\"10\" style=\"stroke: #383838; stroke-width: 1.5;\" width=\"55\" x=\"401\" y=\"113\"/><text fill=\"#000000\" font-family=\"sans-serif\" font-size=\"12\" font-style=\"italic\" lengthAdjust=\"spacingAndGlyphs\" textLength=\"53\" x=\"402\" y=\"129.1387\">«action»</text><text fill=\"#000000\" font-family=\"sans-serif\" font-size=\"12\" lengthAdjust=\"spacingAndGlyphs\" textLength=\"16\" x=\"420.5\" y=\"143.1074\">B1</text><line style=\"stroke: #383838; stroke-width: 1.5;\" x1=\"402\" x2=\"455\" y1=\"150.9375\" y2=\"150.9375\"/></a><!--MD5=[2156ba9850f5573cc1fc38a6a4b2f02b]\n",
       "class E7--><a href=\"psysml:b7d3ffe5-6bb9-4232-a5c3-5eafb8d0b5f9\" target=\"_top\" title=\"psysml:b7d3ffe5-6bb9-4232-a5c3-5eafb8d0b5f9\" xlink:actuate=\"onRequest\" xlink:href=\"psysml:b7d3ffe5-6bb9-4232-a5c3-5eafb8d0b5f9\" xlink:show=\"new\" xlink:title=\"psysml:b7d3ffe5-6bb9-4232-a5c3-5eafb8d0b5f9\" xlink:type=\"simple\"><rect fill=\"#FFFFFF\" height=\"45.9375\" id=\"E7\" rx=\"10\" ry=\"10\" style=\"stroke: #383838; stroke-width: 1.5;\" width=\"55\" x=\"491\" y=\"113\"/><text fill=\"#000000\" font-family=\"sans-serif\" font-size=\"12\" font-style=\"italic\" lengthAdjust=\"spacingAndGlyphs\" textLength=\"53\" x=\"492\" y=\"129.1387\">«action»</text><text fill=\"#000000\" font-family=\"sans-serif\" font-size=\"12\" lengthAdjust=\"spacingAndGlyphs\" textLength=\"16\" x=\"510.5\" y=\"143.1074\">B2</text><line style=\"stroke: #383838; stroke-width: 1.5;\" x1=\"492\" x2=\"545\" y1=\"150.9375\" y2=\"150.9375\"/></a><!--MD5=[a523cb2a0b79ecf9065ad8783f96c320]\n",
       "reverse link E1 to E2--><a href=\"psysml:090da899-d633-4f68-ac70-93df987c1f89\" target=\"_top\" title=\"psysml:090da899-d633-4f68-ac70-93df987c1f89\" xlink:actuate=\"onRequest\" xlink:href=\"psysml:090da899-d633-4f68-ac70-93df987c1f89\" xlink:show=\"new\" xlink:title=\"psysml:090da899-d633-4f68-ac70-93df987c1f89\" xlink:type=\"simple\"><path d=\"M207.75,58.2 C169.81,73.72 121.76,93.85 79.5,113 C73.96,115.51 68.08,118.3 62.47,121.01 \" fill=\"none\" id=\"E1&lt;-E2\" style=\"stroke: #383838; stroke-width: 1.0;\"/><polygon fill=\"#383838\" points=\"220.21,53.12,213.1443,51.6791,209.0967,57.6471,216.1624,59.088,220.21,53.12\" style=\"stroke: #383838; stroke-width: 1.0;\"/><text fill=\"#000000\" font-family=\"sans-serif\" font-size=\"13\" lengthAdjust=\"spacingAndGlyphs\" textLength=\"7\" x=\"70.1408\" y=\"112.6188\">*</text></a><!--MD5=[5d7b3810b1dd9b5164bea1151b29b665]\n",
       "reverse link E1 to E3--><a href=\"psysml:797c4c3c-8cfb-4ed1-914f-99d654db3cec\" target=\"_top\" title=\"psysml:797c4c3c-8cfb-4ed1-914f-99d654db3cec\" xlink:actuate=\"onRequest\" xlink:href=\"psysml:797c4c3c-8cfb-4ed1-914f-99d654db3cec\" xlink:show=\"new\" xlink:title=\"psysml:797c4c3c-8cfb-4ed1-914f-99d654db3cec\" xlink:type=\"simple\"><path d=\"M232.52,60.6 C206.81,78.31 174.87,100.31 152.42,115.77 \" fill=\"none\" id=\"E1&lt;-E3\" style=\"stroke: #383838; stroke-width: 1.0;\"/><polygon fill=\"#383838\" points=\"243.48,53.06,236.2697,53.1655,233.5938,59.8617,240.8041,59.7562,243.48,53.06\" style=\"stroke: #383838; stroke-width: 1.0;\"/><text fill=\"#000000\" font-family=\"sans-serif\" font-size=\"13\" lengthAdjust=\"spacingAndGlyphs\" textLength=\"7\" x=\"160.0786\" y=\"106.1015\">*</text></a><!--MD5=[f2c5c03aa1e8c0ba21c10a05e6444b8e]\n",
       "reverse link E1 to E4--><a href=\"psysml:70a466ea-83ad-4e19-afa5-d192b13fd9c7\" target=\"_top\" title=\"psysml:70a466ea-83ad-4e19-afa5-d192b13fd9c7\" xlink:actuate=\"onRequest\" xlink:href=\"psysml:70a466ea-83ad-4e19-afa5-d192b13fd9c7\" xlink:show=\"new\" xlink:title=\"psysml:70a466ea-83ad-4e19-afa5-d192b13fd9c7\" xlink:type=\"simple\"><path d=\"M258.16,65.03 C250.13,80.78 240.82,99.06 233.72,112.98 \" fill=\"none\" id=\"E1&lt;-E4\" style=\"stroke: #383838; stroke-width: 1.0;\"/><polygon fill=\"#383838\" points=\"264.26,53.06,257.9728,56.5915,258.8145,63.7533,265.1017,60.2218,264.26,53.06\" style=\"stroke: #383838; stroke-width: 1.0;\"/></a><!--MD5=[33238bef88d6431a141d8bc8fb12bca0]\n",
       "reverse link E1 to E5--><a href=\"psysml:26253911-6243-446d-b791-23c0e42b91a5\" target=\"_top\" title=\"psysml:26253911-6243-446d-b791-23c0e42b91a5\" xlink:actuate=\"onRequest\" xlink:href=\"psysml:26253911-6243-446d-b791-23c0e42b91a5\" xlink:show=\"new\" xlink:title=\"psysml:26253911-6243-446d-b791-23c0e42b91a5\" xlink:type=\"simple\"><path d=\"M293.17,65.03 C301.35,80.78 310.84,99.06 318.06,112.98 \" fill=\"none\" id=\"E1&lt;-E5\" style=\"stroke: #383838; stroke-width: 1.0;\"/><polygon fill=\"#383838\" points=\"286.95,53.06,286.1611,60.2278,292.4742,63.7129,293.263,56.545,286.95,53.06\" style=\"stroke: #383838; stroke-width: 1.0;\"/></a><!--MD5=[aca2ef284c2b1b90e17e73bf3f292c07]\n",
       "reverse link E1 to E6--><a href=\"psysml:e8354a48-cb93-46c3-a69e-19a4acf29f71\" target=\"_top\" title=\"psysml:e8354a48-cb93-46c3-a69e-19a4acf29f71\" xlink:actuate=\"onRequest\" xlink:href=\"psysml:e8354a48-cb93-46c3-a69e-19a4acf29f71\" xlink:show=\"new\" xlink:title=\"psysml:e8354a48-cb93-46c3-a69e-19a4acf29f71\" xlink:type=\"simple\"><path d=\"M318.77,60.41 C345.06,78.28 377.86,100.58 400.72,116.11 \" fill=\"none\" id=\"E1&lt;-E6\" style=\"stroke: #383838; stroke-width: 1.0;\"/><polygon fill=\"#383838\" points=\"307.95,53.06,310.6626,59.7415,317.8734,59.8074,315.1608,53.1259,307.95,53.06\" style=\"stroke: #383838; stroke-width: 1.0;\"/><text fill=\"#000000\" font-family=\"sans-serif\" font-size=\"13\" lengthAdjust=\"spacingAndGlyphs\" textLength=\"7\" x=\"386.0955\" y=\"106.5244\">*</text></a><!--MD5=[fc9706a6b2cf8c0e423679d303750d3f]\n",
       "reverse link E1 to E7--><a href=\"psysml:8dca6daf-962f-46a3-bb74-22037bd04295\" target=\"_top\" title=\"psysml:8dca6daf-962f-46a3-bb74-22037bd04295\" xlink:actuate=\"onRequest\" xlink:href=\"psysml:8dca6daf-962f-46a3-bb74-22037bd04295\" xlink:show=\"new\" xlink:title=\"psysml:8dca6daf-962f-46a3-bb74-22037bd04295\" xlink:type=\"simple\"><path d=\"M343.46,57.93 C381.88,73.46 430.65,93.68 473.5,113 C479.05,115.5 484.93,118.28 490.54,121 \" fill=\"none\" id=\"E1&lt;-E7\" style=\"stroke: #383838; stroke-width: 1.0;\"/><polygon fill=\"#383838\" points=\"331.37,53.06,335.4407,59.0122,342.5008,57.544,338.43,51.5917,331.37,53.06\" style=\"stroke: #383838; stroke-width: 1.0;\"/><text fill=\"#000000\" font-family=\"sans-serif\" font-size=\"13\" lengthAdjust=\"spacingAndGlyphs\" textLength=\"7\" x=\"475.8716\" y=\"112.6063\">*</text></a><!--MD5=[a53b8709a4133d14243e648fa56c7aee]\n",
       "@startuml\r\n",
       "skinparam monochrome true\r\n",
       "skinparam classbackgroundcolor white\r\n",
       "skinparam shadowing false\r\n",
       "skinparam wrapWidth 300\r\n",
       "hide circle\r\n",
       "\r\n",
       "comp def \"ControlNodeTest\" as E1  <<(T,blue) action def>> [[psysml:d75b3c07-b549-4c23-b2aa-d48828b6adea ]] {\r\n",
       "}\r\n",
       "comp usage \"A1\" as E2  <<(T,blue) action>> [[psysml:c07d7274-d0ac-44b0-95a3-e3c0562da237 ]] {\r\n",
       "}\r\n",
       "comp usage \"A2\" as E3  <<(T,blue) action>> [[psysml:7bb05ae1-d1dd-4ff0-97ee-ce3344a0751d ]] {\r\n",
       "}\r\n",
       "comp usage \"J\" as E4  <<(T,blue) joinNode>> [[psysml:f3bfce16-3667-4a48-a42e-fd992fa328bf ]] {\r\n",
       "}\r\n",
       "comp usage \"F\" as E5  <<(T,blue) forkNode>> [[psysml:08c848ef-d5ea-4388-acb9-5b8d01347f10 ]] {\r\n",
       "}\r\n",
       "comp usage \"B1\" as E6  <<(T,blue) action>> [[psysml:d5fd7944-a8f1-4c67-81d3-da10d551f750 ]] {\r\n",
       "}\r\n",
       "comp usage \"B2\" as E7  <<(T,blue) action>> [[psysml:b7d3ffe5-6bb9-4232-a5c3-5eafb8d0b5f9 ]] {\r\n",
       "}\r\n",
       "E1 *- - \"*\"E2 [[psysml:090da899-d633-4f68-ac70-93df987c1f89 ]] \r\n",
       "E1 *- - \"*\"E3 [[psysml:797c4c3c-8cfb-4ed1-914f-99d654db3cec ]] \r\n",
       "E1 *- - E4 [[psysml:70a466ea-83ad-4e19-afa5-d192b13fd9c7 ]] \r\n",
       "E1 *- - E5 [[psysml:26253911-6243-446d-b791-23c0e42b91a5 ]] \r\n",
       "E1 *- - \"*\"E6 [[psysml:e8354a48-cb93-46c3-a69e-19a4acf29f71 ]] \r\n",
       "E1 *- - \"*\"E7 [[psysml:8dca6daf-962f-46a3-bb74-22037bd04295 ]] \r\n",
       "@enduml\r\n",
       "\n",
       "PlantUML version 1.2020.13(Sat Jun 13 12:26:38 UTC 2020)\n",
       "(EPL source distribution)\n",
       "Java Runtime: OpenJDK Runtime Environment\n",
       "JVM: OpenJDK 64-Bit Server VM\n",
       "Default Encoding: UTF-8\n",
       "Language: en\n",
       "Country: null\n",
       "--></g></svg>"
      ]
     },
     "execution_count": 42,
     "metadata": {},
     "output_type": "execute_result"
    }
   ],
   "source": [
    "%viz --style=\"DEFAULT\" --view=\"Sequence\" \"ControlNodeTest\""
   ]
  },
  {
   "cell_type": "code",
   "execution_count": 43,
   "id": "75ebc42e",
   "metadata": {
    "execution": {
     "iopub.execute_input": "2021-08-04T06:26:32.147740Z",
     "iopub.status.busy": "2021-08-04T06:26:32.147281Z",
     "iopub.status.idle": "2021-08-04T06:26:32.175513Z",
     "shell.execute_reply": "2021-08-04T06:26:32.175319Z"
    }
   },
   "outputs": [
    {
     "data": {
      "image/svg+xml": [
       "<?xml version=\"1.0\" encoding=\"UTF-8\" standalone=\"no\"?><svg xmlns=\"http://www.w3.org/2000/svg\" xmlns:xlink=\"http://www.w3.org/1999/xlink\" contentScriptType=\"application/ecmascript\" contentStyleType=\"text/css\" height=\"367px\" preserveAspectRatio=\"none\" style=\"width:205px;height:367px;\" version=\"1.1\" viewBox=\"0 0 205 367\" width=\"205px\" zoomAndPan=\"magnify\"><defs/><g><!--MD5=[fbc87193dbaf4d95561dea2c320d4a47]\n",
       "cluster E1--><a href=\"psysml:d75b3c07-b549-4c23-b2aa-d48828b6adea\" target=\"_top\" title=\"psysml:d75b3c07-b549-4c23-b2aa-d48828b6adea\" xlink:actuate=\"onRequest\" xlink:href=\"psysml:d75b3c07-b549-4c23-b2aa-d48828b6adea\" xlink:show=\"new\" xlink:title=\"psysml:d75b3c07-b549-4c23-b2aa-d48828b6adea\" xlink:type=\"simple\"><rect fill=\"#FFFFFF\" height=\"349\" id=\"E1\" style=\"stroke: #383838; stroke-width: 1.5;\" width=\"187\" x=\"7\" y=\"7\"/><rect fill=\"#F8F8F8\" height=\"37.9375\" style=\"stroke: #383838; stroke-width: 1.5;\" width=\"187\" x=\"7\" y=\"7\"/><text fill=\"#000000\" font-family=\"sans-serif\" font-size=\"12\" font-style=\"italic\" lengthAdjust=\"spacingAndGlyphs\" textLength=\"77\" x=\"62\" y=\"23.1387\">«action def»</text><text fill=\"#000000\" font-family=\"sans-serif\" font-size=\"12\" lengthAdjust=\"spacingAndGlyphs\" textLength=\"105\" x=\"48\" y=\"37.1074\">ControlNodeTest</text></a><rect fill=\"#000000\" height=\"8\" style=\"stroke: none; stroke-width: 1.0;\" width=\"80\" x=\"60\" y=\"161\"/><rect fill=\"#000000\" height=\"8\" style=\"stroke: none; stroke-width: 1.0;\" width=\"80\" x=\"60\" y=\"229\"/><g id=\"E1.E2\"><a href=\"psysml:c07d7274-d0ac-44b0-95a3-e3c0562da237\" target=\"_top\" title=\"psysml:c07d7274-d0ac-44b0-95a3-e3c0562da237\" xlink:actuate=\"onRequest\" xlink:href=\"psysml:c07d7274-d0ac-44b0-95a3-e3c0562da237\" xlink:show=\"new\" xlink:title=\"psysml:c07d7274-d0ac-44b0-95a3-e3c0562da237\" xlink:type=\"simple\"><rect fill=\"#FFFFFF\" height=\"42.9375\" id=\"E2\" rx=\"10\" ry=\"10\" style=\"stroke: #383838; stroke-width: 1.5;\" width=\"60\" x=\"118\" y=\"58\"/><rect fill=\"#F8F8F8\" height=\"37.9375\" rx=\"10\" ry=\"10\" style=\"stroke: #F8F8F8; stroke-width: 1.5;\" width=\"60\" x=\"118\" y=\"58\"/><rect fill=\"#F8F8F8\" height=\"10\" style=\"stroke: #F8F8F8; stroke-width: 1.5;\" width=\"60\" x=\"118\" y=\"85.9375\"/><rect fill=\"none\" height=\"42.9375\" id=\"E2\" rx=\"10\" ry=\"10\" style=\"stroke: #383838; stroke-width: 1.5;\" width=\"60\" x=\"118\" y=\"58\"/><text fill=\"#000000\" font-family=\"sans-serif\" font-size=\"12\" font-style=\"italic\" lengthAdjust=\"spacingAndGlyphs\" textLength=\"53\" x=\"121.5\" y=\"74.1387\">«action»</text><text fill=\"#000000\" font-family=\"sans-serif\" font-size=\"12\" lengthAdjust=\"spacingAndGlyphs\" textLength=\"16\" x=\"140\" y=\"88.1074\">A1</text></a></g><g id=\"E1.E3\"><a href=\"psysml:7bb05ae1-d1dd-4ff0-97ee-ce3344a0751d\" target=\"_top\" title=\"psysml:7bb05ae1-d1dd-4ff0-97ee-ce3344a0751d\" xlink:actuate=\"onRequest\" xlink:href=\"psysml:7bb05ae1-d1dd-4ff0-97ee-ce3344a0751d\" xlink:show=\"new\" xlink:title=\"psysml:7bb05ae1-d1dd-4ff0-97ee-ce3344a0751d\" xlink:type=\"simple\"><rect fill=\"#FFFFFF\" height=\"42.9375\" id=\"E3\" rx=\"10\" ry=\"10\" style=\"stroke: #383838; stroke-width: 1.5;\" width=\"60\" x=\"23\" y=\"58\"/><rect fill=\"#F8F8F8\" height=\"37.9375\" rx=\"10\" ry=\"10\" style=\"stroke: #F8F8F8; stroke-width: 1.5;\" width=\"60\" x=\"23\" y=\"58\"/><rect fill=\"#F8F8F8\" height=\"10\" style=\"stroke: #F8F8F8; stroke-width: 1.5;\" width=\"60\" x=\"23\" y=\"85.9375\"/><rect fill=\"none\" height=\"42.9375\" id=\"E3\" rx=\"10\" ry=\"10\" style=\"stroke: #383838; stroke-width: 1.5;\" width=\"60\" x=\"23\" y=\"58\"/><text fill=\"#000000\" font-family=\"sans-serif\" font-size=\"12\" font-style=\"italic\" lengthAdjust=\"spacingAndGlyphs\" textLength=\"53\" x=\"26.5\" y=\"74.1387\">«action»</text><text fill=\"#000000\" font-family=\"sans-serif\" font-size=\"12\" lengthAdjust=\"spacingAndGlyphs\" textLength=\"16\" x=\"45\" y=\"88.1074\">A2</text></a></g><g id=\"E1.E6\"><a href=\"psysml:d5fd7944-a8f1-4c67-81d3-da10d551f750\" target=\"_top\" title=\"psysml:d5fd7944-a8f1-4c67-81d3-da10d551f750\" xlink:actuate=\"onRequest\" xlink:href=\"psysml:d5fd7944-a8f1-4c67-81d3-da10d551f750\" xlink:show=\"new\" xlink:title=\"psysml:d5fd7944-a8f1-4c67-81d3-da10d551f750\" xlink:type=\"simple\"><rect fill=\"#FFFFFF\" height=\"42.9375\" id=\"E6\" rx=\"10\" ry=\"10\" style=\"stroke: #383838; stroke-width: 1.5;\" width=\"60\" x=\"23\" y=\"297\"/><rect fill=\"#F8F8F8\" height=\"37.9375\" rx=\"10\" ry=\"10\" style=\"stroke: #F8F8F8; stroke-width: 1.5;\" width=\"60\" x=\"23\" y=\"297\"/><rect fill=\"#F8F8F8\" height=\"10\" style=\"stroke: #F8F8F8; stroke-width: 1.5;\" width=\"60\" x=\"23\" y=\"324.9375\"/><rect fill=\"none\" height=\"42.9375\" id=\"E6\" rx=\"10\" ry=\"10\" style=\"stroke: #383838; stroke-width: 1.5;\" width=\"60\" x=\"23\" y=\"297\"/><text fill=\"#000000\" font-family=\"sans-serif\" font-size=\"12\" font-style=\"italic\" lengthAdjust=\"spacingAndGlyphs\" textLength=\"53\" x=\"26.5\" y=\"313.1387\">«action»</text><text fill=\"#000000\" font-family=\"sans-serif\" font-size=\"12\" lengthAdjust=\"spacingAndGlyphs\" textLength=\"16\" x=\"45\" y=\"327.1074\">B1</text></a></g><g id=\"E1.E7\"><a href=\"psysml:b7d3ffe5-6bb9-4232-a5c3-5eafb8d0b5f9\" target=\"_top\" title=\"psysml:b7d3ffe5-6bb9-4232-a5c3-5eafb8d0b5f9\" xlink:actuate=\"onRequest\" xlink:href=\"psysml:b7d3ffe5-6bb9-4232-a5c3-5eafb8d0b5f9\" xlink:show=\"new\" xlink:title=\"psysml:b7d3ffe5-6bb9-4232-a5c3-5eafb8d0b5f9\" xlink:type=\"simple\"><rect fill=\"#FFFFFF\" height=\"42.9375\" id=\"E7\" rx=\"10\" ry=\"10\" style=\"stroke: #383838; stroke-width: 1.5;\" width=\"60\" x=\"118\" y=\"297\"/><rect fill=\"#F8F8F8\" height=\"37.9375\" rx=\"10\" ry=\"10\" style=\"stroke: #F8F8F8; stroke-width: 1.5;\" width=\"60\" x=\"118\" y=\"297\"/><rect fill=\"#F8F8F8\" height=\"10\" style=\"stroke: #F8F8F8; stroke-width: 1.5;\" width=\"60\" x=\"118\" y=\"324.9375\"/><rect fill=\"none\" height=\"42.9375\" id=\"E7\" rx=\"10\" ry=\"10\" style=\"stroke: #383838; stroke-width: 1.5;\" width=\"60\" x=\"118\" y=\"297\"/><text fill=\"#000000\" font-family=\"sans-serif\" font-size=\"12\" font-style=\"italic\" lengthAdjust=\"spacingAndGlyphs\" textLength=\"53\" x=\"121.5\" y=\"313.1387\">«action»</text><text fill=\"#000000\" font-family=\"sans-serif\" font-size=\"12\" lengthAdjust=\"spacingAndGlyphs\" textLength=\"16\" x=\"140\" y=\"327.1074\">B2</text></a></g><!--MD5=[4d03bb2d0377dc85ccfab60ff574652b]\n",
       "link E2 to E4--><a href=\"psysml:a5b917a3-7538-4e28-aa62-755107929dae\" target=\"_top\" title=\"psysml:a5b917a3-7538-4e28-aa62-755107929dae\" xlink:actuate=\"onRequest\" xlink:href=\"psysml:a5b917a3-7538-4e28-aa62-755107929dae\" xlink:show=\"new\" xlink:title=\"psysml:a5b917a3-7538-4e28-aa62-755107929dae\" xlink:type=\"simple\"><path d=\"M136.13,101.14 C125.84,119.06 111.49,144.01 104.37,156.4 \" fill=\"none\" id=\"E2-&gt;E4\" style=\"stroke: #383838; stroke-width: 1.0;\"/><polygon fill=\"#383838\" points=\"101.79,160.88,109.7406,155.0673,104.2799,156.5441,102.8031,151.0834,101.79,160.88\" style=\"stroke: #383838; stroke-width: 1.0;\"/><text fill=\"#000000\" font-family=\"sans-serif\" font-size=\"13\" lengthAdjust=\"spacingAndGlyphs\" textLength=\"7\" x=\"93.6144\" y=\"150.0038\">*</text></a><!--MD5=[af87c684e3b0d8be13c1a698a818ef1e]\n",
       "link E3 to E4--><a href=\"psysml:b67a9087-1129-4a2e-aba3-334d88c3cbf2\" target=\"_top\" title=\"psysml:b67a9087-1129-4a2e-aba3-334d88c3cbf2\" xlink:actuate=\"onRequest\" xlink:href=\"psysml:b67a9087-1129-4a2e-aba3-334d88c3cbf2\" xlink:show=\"new\" xlink:title=\"psysml:b67a9087-1129-4a2e-aba3-334d88c3cbf2\" xlink:type=\"simple\"><path d=\"M64.62,101.14 C74.7,119.06 88.75,144.01 95.72,156.4 \" fill=\"none\" id=\"E3-&gt;E4\" style=\"stroke: #383838; stroke-width: 1.0;\"/><polygon fill=\"#383838\" points=\"98.25,160.88,97.3377,151.0735,95.8048,156.5187,90.3596,154.9858,98.25,160.88\" style=\"stroke: #383838; stroke-width: 1.0;\"/><text fill=\"#000000\" font-family=\"sans-serif\" font-size=\"13\" lengthAdjust=\"spacingAndGlyphs\" textLength=\"7\" x=\"99.4531\" y=\"150.0038\">*</text></a><!--MD5=[1b7591eae5389033d8d09a9d6721a717]\n",
       "link E4 to E5--><a href=\"psysml:9a17080e-ae46-40d4-b989-796f716175e4\" target=\"_top\" title=\"psysml:9a17080e-ae46-40d4-b989-796f716175e4\" xlink:actuate=\"onRequest\" xlink:href=\"psysml:9a17080e-ae46-40d4-b989-796f716175e4\" xlink:show=\"new\" xlink:title=\"psysml:9a17080e-ae46-40d4-b989-796f716175e4\" xlink:type=\"simple\"><path d=\"M100,169.18 C100,178.92 100,208.52 100,223.34 \" fill=\"none\" id=\"E4-&gt;E5\" style=\"stroke: #383838; stroke-width: 1.0;\"/><polygon fill=\"#383838\" points=\"100,228.69,104,219.69,100,223.69,96,219.69,100,228.69\" style=\"stroke: #383838; stroke-width: 1.0;\"/><text fill=\"#000000\" font-family=\"sans-serif\" font-size=\"13\" lengthAdjust=\"spacingAndGlyphs\" textLength=\"7\" x=\"90.6813\" y=\"217.9768\">*</text></a><!--MD5=[9120cf2e5df3bff93db8f754bbbc09b4]\n",
       "link E5 to E6--><a href=\"psysml:197b427e-ad07-4e53-856c-ed2b1bc0e06a\" target=\"_top\" title=\"psysml:197b427e-ad07-4e53-856c-ed2b1bc0e06a\" xlink:actuate=\"onRequest\" xlink:href=\"psysml:197b427e-ad07-4e53-856c-ed2b1bc0e06a\" xlink:show=\"new\" xlink:title=\"psysml:197b427e-ad07-4e53-856c-ed2b1bc0e06a\" xlink:type=\"simple\"><path d=\"M98.21,237.17 C93.16,246.14 78.41,272.36 67.11,292.43 \" fill=\"none\" id=\"E5-&gt;E6\" style=\"stroke: #383838; stroke-width: 1.0;\"/><polygon fill=\"#383838\" points=\"64.61,296.87,72.5151,290.9955,67.0661,292.5148,65.5467,287.0658,64.61,296.87\" style=\"stroke: #383838; stroke-width: 1.0;\"/><text fill=\"#000000\" font-family=\"sans-serif\" font-size=\"13\" lengthAdjust=\"spacingAndGlyphs\" textLength=\"7\" x=\"59.8909\" y=\"285.7715\">*</text></a><!--MD5=[3a9b96bfbf6b6ad89c494e81751bda47]\n",
       "link E5 to E7--><a href=\"psysml:b67e977c-71d2-45f4-9959-07a509bb3c26\" target=\"_top\" title=\"psysml:b67e977c-71d2-45f4-9959-07a509bb3c26\" xlink:actuate=\"onRequest\" xlink:href=\"psysml:b67e977c-71d2-45f4-9959-07a509bb3c26\" xlink:show=\"new\" xlink:title=\"psysml:b67e977c-71d2-45f4-9959-07a509bb3c26\" xlink:type=\"simple\"><path d=\"M101.82,237.17 C106.98,246.14 122.05,272.36 133.59,292.43 \" fill=\"none\" id=\"E5-&gt;E7\" style=\"stroke: #383838; stroke-width: 1.0;\"/><polygon fill=\"#383838\" points=\"136.14,296.87,135.1269,287.0734,133.6501,292.5341,128.1894,291.0573,136.14,296.87\" style=\"stroke: #383838; stroke-width: 1.0;\"/><text fill=\"#000000\" font-family=\"sans-serif\" font-size=\"13\" lengthAdjust=\"spacingAndGlyphs\" textLength=\"7\" x=\"124.82\" y=\"285.7715\">*</text></a><!--MD5=[752a6a482311888bfcb793839658604c]\n",
       "@startuml\r\n",
       "skinparam monochrome true\r\n",
       "skinparam classbackgroundcolor white\r\n",
       "skinparam shadowing false\r\n",
       "skinparam wrapWidth 300\r\n",
       "hide circle\r\n",
       "\r\n",
       "rec def \"ControlNodeTest\" as E1  <<(T,blue) action def>> [[psysml:d75b3c07-b549-4c23-b2aa-d48828b6adea ]] {\r\n",
       "rec usage \"A1\" as E2  <<(T,blue) action>> [[psysml:c07d7274-d0ac-44b0-95a3-e3c0562da237 ]] {\r\n",
       "}\r\n",
       "\r\n",
       "rec usage \"A2\" as E3  <<(T,blue) action>> [[psysml:7bb05ae1-d1dd-4ff0-97ee-ce3344a0751d ]] {\r\n",
       "}\r\n",
       "\r\n",
       "join \"J\" as E4  [[psysml:f3bfce16-3667-4a48-a42e-fd992fa328bf ]] \r\n",
       "fork \"F\" as E5  [[psysml:08c848ef-d5ea-4388-acb9-5b8d01347f10 ]] \r\n",
       "rec usage \"B1\" as E6  <<(T,blue) action>> [[psysml:d5fd7944-a8f1-4c67-81d3-da10d551f750 ]] {\r\n",
       "}\r\n",
       "\r\n",
       "rec usage \"B2\" as E7  <<(T,blue) action>> [[psysml:b7d3ffe5-6bb9-4232-a5c3-5eafb8d0b5f9 ]] {\r\n",
       "}\r\n",
       "\r\n",
       "}\r\n",
       "\r\n",
       "E2 - -> \"*\"E4 [[psysml:a5b917a3-7538-4e28-aa62-755107929dae ]] \r\n",
       "E3 - -> \"*\"E4 [[psysml:b67a9087-1129-4a2e-aba3-334d88c3cbf2 ]] \r\n",
       "E4 - -> \"*\"E5 [[psysml:9a17080e-ae46-40d4-b989-796f716175e4 ]] \r\n",
       "E5 - -> \"*\"E6 [[psysml:197b427e-ad07-4e53-856c-ed2b1bc0e06a ]] \r\n",
       "E5 - -> \"*\"E7 [[psysml:b67e977c-71d2-45f4-9959-07a509bb3c26 ]] \r\n",
       "@enduml\r\n",
       "\n",
       "PlantUML version 1.2020.13(Sat Jun 13 12:26:38 UTC 2020)\n",
       "(EPL source distribution)\n",
       "Java Runtime: OpenJDK Runtime Environment\n",
       "JVM: OpenJDK 64-Bit Server VM\n",
       "Default Encoding: UTF-8\n",
       "Language: en\n",
       "Country: null\n",
       "--></g></svg>"
      ]
     },
     "execution_count": 43,
     "metadata": {},
     "output_type": "execute_result"
    }
   ],
   "source": [
    "%viz --style=\"DEFAULT\" --view=\"MIXED\" \"ControlNodeTest\""
   ]
  },
  {
   "cell_type": "code",
   "execution_count": 44,
   "id": "cd864ed4",
   "metadata": {
    "execution": {
     "iopub.execute_input": "2021-08-04T06:26:32.226015Z",
     "iopub.status.busy": "2021-08-04T06:26:32.225614Z",
     "iopub.status.idle": "2021-08-04T06:26:32.255219Z",
     "shell.execute_reply": "2021-08-04T06:26:32.254875Z"
    }
   },
   "outputs": [
    {
     "data": {
      "image/svg+xml": [
       "<?xml version=\"1.0\" encoding=\"UTF-8\" standalone=\"no\"?><svg xmlns=\"http://www.w3.org/2000/svg\" xmlns:xlink=\"http://www.w3.org/1999/xlink\" contentScriptType=\"application/ecmascript\" contentStyleType=\"text/css\" height=\"367px\" preserveAspectRatio=\"none\" style=\"width:205px;height:367px;\" version=\"1.1\" viewBox=\"0 0 205 367\" width=\"205px\" zoomAndPan=\"magnify\"><defs/><g><!--MD5=[fbc87193dbaf4d95561dea2c320d4a47]\n",
       "cluster E1--><a href=\"psysml:d75b3c07-b549-4c23-b2aa-d48828b6adea\" target=\"_top\" title=\"psysml:d75b3c07-b549-4c23-b2aa-d48828b6adea\" xlink:actuate=\"onRequest\" xlink:href=\"psysml:d75b3c07-b549-4c23-b2aa-d48828b6adea\" xlink:show=\"new\" xlink:title=\"psysml:d75b3c07-b549-4c23-b2aa-d48828b6adea\" xlink:type=\"simple\"><rect fill=\"#FFFFFF\" height=\"349\" id=\"E1\" style=\"stroke: #383838; stroke-width: 1.5;\" width=\"187\" x=\"7\" y=\"7\"/><rect fill=\"#F8F8F8\" height=\"37.9375\" style=\"stroke: #383838; stroke-width: 1.5;\" width=\"187\" x=\"7\" y=\"7\"/><text fill=\"#000000\" font-family=\"sans-serif\" font-size=\"12\" font-style=\"italic\" lengthAdjust=\"spacingAndGlyphs\" textLength=\"77\" x=\"62\" y=\"23.1387\">«action def»</text><text fill=\"#000000\" font-family=\"sans-serif\" font-size=\"12\" lengthAdjust=\"spacingAndGlyphs\" textLength=\"105\" x=\"48\" y=\"37.1074\">ControlNodeTest</text></a><rect fill=\"#000000\" height=\"8\" style=\"stroke: none; stroke-width: 1.0;\" width=\"80\" x=\"60\" y=\"161\"/><rect fill=\"#000000\" height=\"8\" style=\"stroke: none; stroke-width: 1.0;\" width=\"80\" x=\"60\" y=\"229\"/><g id=\"E1.E2\"><a href=\"psysml:c07d7274-d0ac-44b0-95a3-e3c0562da237\" target=\"_top\" title=\"psysml:c07d7274-d0ac-44b0-95a3-e3c0562da237\" xlink:actuate=\"onRequest\" xlink:href=\"psysml:c07d7274-d0ac-44b0-95a3-e3c0562da237\" xlink:show=\"new\" xlink:title=\"psysml:c07d7274-d0ac-44b0-95a3-e3c0562da237\" xlink:type=\"simple\"><rect fill=\"#FFFFFF\" height=\"42.9375\" id=\"E2\" rx=\"10\" ry=\"10\" style=\"stroke: #383838; stroke-width: 1.5;\" width=\"60\" x=\"118\" y=\"58\"/><rect fill=\"#F8F8F8\" height=\"37.9375\" rx=\"10\" ry=\"10\" style=\"stroke: #F8F8F8; stroke-width: 1.5;\" width=\"60\" x=\"118\" y=\"58\"/><rect fill=\"#F8F8F8\" height=\"10\" style=\"stroke: #F8F8F8; stroke-width: 1.5;\" width=\"60\" x=\"118\" y=\"85.9375\"/><rect fill=\"none\" height=\"42.9375\" id=\"E2\" rx=\"10\" ry=\"10\" style=\"stroke: #383838; stroke-width: 1.5;\" width=\"60\" x=\"118\" y=\"58\"/><text fill=\"#000000\" font-family=\"sans-serif\" font-size=\"12\" font-style=\"italic\" lengthAdjust=\"spacingAndGlyphs\" textLength=\"53\" x=\"121.5\" y=\"74.1387\">«action»</text><text fill=\"#000000\" font-family=\"sans-serif\" font-size=\"12\" lengthAdjust=\"spacingAndGlyphs\" textLength=\"16\" x=\"140\" y=\"88.1074\">A1</text></a></g><g id=\"E1.E3\"><a href=\"psysml:7bb05ae1-d1dd-4ff0-97ee-ce3344a0751d\" target=\"_top\" title=\"psysml:7bb05ae1-d1dd-4ff0-97ee-ce3344a0751d\" xlink:actuate=\"onRequest\" xlink:href=\"psysml:7bb05ae1-d1dd-4ff0-97ee-ce3344a0751d\" xlink:show=\"new\" xlink:title=\"psysml:7bb05ae1-d1dd-4ff0-97ee-ce3344a0751d\" xlink:type=\"simple\"><rect fill=\"#FFFFFF\" height=\"42.9375\" id=\"E3\" rx=\"10\" ry=\"10\" style=\"stroke: #383838; stroke-width: 1.5;\" width=\"60\" x=\"23\" y=\"58\"/><rect fill=\"#F8F8F8\" height=\"37.9375\" rx=\"10\" ry=\"10\" style=\"stroke: #F8F8F8; stroke-width: 1.5;\" width=\"60\" x=\"23\" y=\"58\"/><rect fill=\"#F8F8F8\" height=\"10\" style=\"stroke: #F8F8F8; stroke-width: 1.5;\" width=\"60\" x=\"23\" y=\"85.9375\"/><rect fill=\"none\" height=\"42.9375\" id=\"E3\" rx=\"10\" ry=\"10\" style=\"stroke: #383838; stroke-width: 1.5;\" width=\"60\" x=\"23\" y=\"58\"/><text fill=\"#000000\" font-family=\"sans-serif\" font-size=\"12\" font-style=\"italic\" lengthAdjust=\"spacingAndGlyphs\" textLength=\"53\" x=\"26.5\" y=\"74.1387\">«action»</text><text fill=\"#000000\" font-family=\"sans-serif\" font-size=\"12\" lengthAdjust=\"spacingAndGlyphs\" textLength=\"16\" x=\"45\" y=\"88.1074\">A2</text></a></g><g id=\"E1.E6\"><a href=\"psysml:d5fd7944-a8f1-4c67-81d3-da10d551f750\" target=\"_top\" title=\"psysml:d5fd7944-a8f1-4c67-81d3-da10d551f750\" xlink:actuate=\"onRequest\" xlink:href=\"psysml:d5fd7944-a8f1-4c67-81d3-da10d551f750\" xlink:show=\"new\" xlink:title=\"psysml:d5fd7944-a8f1-4c67-81d3-da10d551f750\" xlink:type=\"simple\"><rect fill=\"#FFFFFF\" height=\"42.9375\" id=\"E6\" rx=\"10\" ry=\"10\" style=\"stroke: #383838; stroke-width: 1.5;\" width=\"60\" x=\"23\" y=\"297\"/><rect fill=\"#F8F8F8\" height=\"37.9375\" rx=\"10\" ry=\"10\" style=\"stroke: #F8F8F8; stroke-width: 1.5;\" width=\"60\" x=\"23\" y=\"297\"/><rect fill=\"#F8F8F8\" height=\"10\" style=\"stroke: #F8F8F8; stroke-width: 1.5;\" width=\"60\" x=\"23\" y=\"324.9375\"/><rect fill=\"none\" height=\"42.9375\" id=\"E6\" rx=\"10\" ry=\"10\" style=\"stroke: #383838; stroke-width: 1.5;\" width=\"60\" x=\"23\" y=\"297\"/><text fill=\"#000000\" font-family=\"sans-serif\" font-size=\"12\" font-style=\"italic\" lengthAdjust=\"spacingAndGlyphs\" textLength=\"53\" x=\"26.5\" y=\"313.1387\">«action»</text><text fill=\"#000000\" font-family=\"sans-serif\" font-size=\"12\" lengthAdjust=\"spacingAndGlyphs\" textLength=\"16\" x=\"45\" y=\"327.1074\">B1</text></a></g><g id=\"E1.E7\"><a href=\"psysml:b7d3ffe5-6bb9-4232-a5c3-5eafb8d0b5f9\" target=\"_top\" title=\"psysml:b7d3ffe5-6bb9-4232-a5c3-5eafb8d0b5f9\" xlink:actuate=\"onRequest\" xlink:href=\"psysml:b7d3ffe5-6bb9-4232-a5c3-5eafb8d0b5f9\" xlink:show=\"new\" xlink:title=\"psysml:b7d3ffe5-6bb9-4232-a5c3-5eafb8d0b5f9\" xlink:type=\"simple\"><rect fill=\"#FFFFFF\" height=\"42.9375\" id=\"E7\" rx=\"10\" ry=\"10\" style=\"stroke: #383838; stroke-width: 1.5;\" width=\"60\" x=\"118\" y=\"297\"/><rect fill=\"#F8F8F8\" height=\"37.9375\" rx=\"10\" ry=\"10\" style=\"stroke: #F8F8F8; stroke-width: 1.5;\" width=\"60\" x=\"118\" y=\"297\"/><rect fill=\"#F8F8F8\" height=\"10\" style=\"stroke: #F8F8F8; stroke-width: 1.5;\" width=\"60\" x=\"118\" y=\"324.9375\"/><rect fill=\"none\" height=\"42.9375\" id=\"E7\" rx=\"10\" ry=\"10\" style=\"stroke: #383838; stroke-width: 1.5;\" width=\"60\" x=\"118\" y=\"297\"/><text fill=\"#000000\" font-family=\"sans-serif\" font-size=\"12\" font-style=\"italic\" lengthAdjust=\"spacingAndGlyphs\" textLength=\"53\" x=\"121.5\" y=\"313.1387\">«action»</text><text fill=\"#000000\" font-family=\"sans-serif\" font-size=\"12\" lengthAdjust=\"spacingAndGlyphs\" textLength=\"16\" x=\"140\" y=\"327.1074\">B2</text></a></g><!--MD5=[4d03bb2d0377dc85ccfab60ff574652b]\n",
       "link E2 to E4--><a href=\"psysml:a5b917a3-7538-4e28-aa62-755107929dae\" target=\"_top\" title=\"psysml:a5b917a3-7538-4e28-aa62-755107929dae\" xlink:actuate=\"onRequest\" xlink:href=\"psysml:a5b917a3-7538-4e28-aa62-755107929dae\" xlink:show=\"new\" xlink:title=\"psysml:a5b917a3-7538-4e28-aa62-755107929dae\" xlink:type=\"simple\"><path d=\"M136.13,101.14 C125.84,119.06 111.49,144.01 104.37,156.4 \" fill=\"none\" id=\"E2-&gt;E4\" style=\"stroke: #383838; stroke-width: 1.0;\"/><polygon fill=\"#383838\" points=\"101.79,160.88,109.7406,155.0673,104.2799,156.5441,102.8031,151.0834,101.79,160.88\" style=\"stroke: #383838; stroke-width: 1.0;\"/><text fill=\"#000000\" font-family=\"sans-serif\" font-size=\"13\" lengthAdjust=\"spacingAndGlyphs\" textLength=\"7\" x=\"93.6144\" y=\"150.0038\">*</text></a><!--MD5=[af87c684e3b0d8be13c1a698a818ef1e]\n",
       "link E3 to E4--><a href=\"psysml:b67a9087-1129-4a2e-aba3-334d88c3cbf2\" target=\"_top\" title=\"psysml:b67a9087-1129-4a2e-aba3-334d88c3cbf2\" xlink:actuate=\"onRequest\" xlink:href=\"psysml:b67a9087-1129-4a2e-aba3-334d88c3cbf2\" xlink:show=\"new\" xlink:title=\"psysml:b67a9087-1129-4a2e-aba3-334d88c3cbf2\" xlink:type=\"simple\"><path d=\"M64.62,101.14 C74.7,119.06 88.75,144.01 95.72,156.4 \" fill=\"none\" id=\"E3-&gt;E4\" style=\"stroke: #383838; stroke-width: 1.0;\"/><polygon fill=\"#383838\" points=\"98.25,160.88,97.3377,151.0735,95.8048,156.5187,90.3596,154.9858,98.25,160.88\" style=\"stroke: #383838; stroke-width: 1.0;\"/><text fill=\"#000000\" font-family=\"sans-serif\" font-size=\"13\" lengthAdjust=\"spacingAndGlyphs\" textLength=\"7\" x=\"99.4531\" y=\"150.0038\">*</text></a><!--MD5=[1b7591eae5389033d8d09a9d6721a717]\n",
       "link E4 to E5--><a href=\"psysml:9a17080e-ae46-40d4-b989-796f716175e4\" target=\"_top\" title=\"psysml:9a17080e-ae46-40d4-b989-796f716175e4\" xlink:actuate=\"onRequest\" xlink:href=\"psysml:9a17080e-ae46-40d4-b989-796f716175e4\" xlink:show=\"new\" xlink:title=\"psysml:9a17080e-ae46-40d4-b989-796f716175e4\" xlink:type=\"simple\"><path d=\"M100,169.18 C100,178.92 100,208.52 100,223.34 \" fill=\"none\" id=\"E4-&gt;E5\" style=\"stroke: #383838; stroke-width: 1.0;\"/><polygon fill=\"#383838\" points=\"100,228.69,104,219.69,100,223.69,96,219.69,100,228.69\" style=\"stroke: #383838; stroke-width: 1.0;\"/><text fill=\"#000000\" font-family=\"sans-serif\" font-size=\"13\" lengthAdjust=\"spacingAndGlyphs\" textLength=\"7\" x=\"90.6813\" y=\"217.9768\">*</text></a><!--MD5=[9120cf2e5df3bff93db8f754bbbc09b4]\n",
       "link E5 to E6--><a href=\"psysml:197b427e-ad07-4e53-856c-ed2b1bc0e06a\" target=\"_top\" title=\"psysml:197b427e-ad07-4e53-856c-ed2b1bc0e06a\" xlink:actuate=\"onRequest\" xlink:href=\"psysml:197b427e-ad07-4e53-856c-ed2b1bc0e06a\" xlink:show=\"new\" xlink:title=\"psysml:197b427e-ad07-4e53-856c-ed2b1bc0e06a\" xlink:type=\"simple\"><path d=\"M98.21,237.17 C93.16,246.14 78.41,272.36 67.11,292.43 \" fill=\"none\" id=\"E5-&gt;E6\" style=\"stroke: #383838; stroke-width: 1.0;\"/><polygon fill=\"#383838\" points=\"64.61,296.87,72.5151,290.9955,67.0661,292.5148,65.5467,287.0658,64.61,296.87\" style=\"stroke: #383838; stroke-width: 1.0;\"/><text fill=\"#000000\" font-family=\"sans-serif\" font-size=\"13\" lengthAdjust=\"spacingAndGlyphs\" textLength=\"7\" x=\"59.8909\" y=\"285.7715\">*</text></a><!--MD5=[3a9b96bfbf6b6ad89c494e81751bda47]\n",
       "link E5 to E7--><a href=\"psysml:b67e977c-71d2-45f4-9959-07a509bb3c26\" target=\"_top\" title=\"psysml:b67e977c-71d2-45f4-9959-07a509bb3c26\" xlink:actuate=\"onRequest\" xlink:href=\"psysml:b67e977c-71d2-45f4-9959-07a509bb3c26\" xlink:show=\"new\" xlink:title=\"psysml:b67e977c-71d2-45f4-9959-07a509bb3c26\" xlink:type=\"simple\"><path d=\"M101.82,237.17 C106.98,246.14 122.05,272.36 133.59,292.43 \" fill=\"none\" id=\"E5-&gt;E7\" style=\"stroke: #383838; stroke-width: 1.0;\"/><polygon fill=\"#383838\" points=\"136.14,296.87,135.1269,287.0734,133.6501,292.5341,128.1894,291.0573,136.14,296.87\" style=\"stroke: #383838; stroke-width: 1.0;\"/><text fill=\"#000000\" font-family=\"sans-serif\" font-size=\"13\" lengthAdjust=\"spacingAndGlyphs\" textLength=\"7\" x=\"124.82\" y=\"285.7715\">*</text></a><!--MD5=[7de7de11187ad77438a29f26be964785]\n",
       "@startuml\r\n",
       "top to bottom direction\r\n",
       "skinparam monochrome true\r\n",
       "skinparam classbackgroundcolor white\r\n",
       "skinparam shadowing false\r\n",
       "skinparam wrapWidth 300\r\n",
       "hide circle\r\n",
       "\r\n",
       "rec def \"ControlNodeTest\" as E1  <<(T,blue) action def>> [[psysml:d75b3c07-b549-4c23-b2aa-d48828b6adea ]] {\r\n",
       "rec usage \"A1\" as E2  <<(T,blue) action>> [[psysml:c07d7274-d0ac-44b0-95a3-e3c0562da237 ]] {\r\n",
       "}\r\n",
       "\r\n",
       "rec usage \"A2\" as E3  <<(T,blue) action>> [[psysml:7bb05ae1-d1dd-4ff0-97ee-ce3344a0751d ]] {\r\n",
       "}\r\n",
       "\r\n",
       "join \"J\" as E4  [[psysml:f3bfce16-3667-4a48-a42e-fd992fa328bf ]] \r\n",
       "fork \"F\" as E5  [[psysml:08c848ef-d5ea-4388-acb9-5b8d01347f10 ]] \r\n",
       "rec usage \"B1\" as E6  <<(T,blue) action>> [[psysml:d5fd7944-a8f1-4c67-81d3-da10d551f750 ]] {\r\n",
       "}\r\n",
       "\r\n",
       "rec usage \"B2\" as E7  <<(T,blue) action>> [[psysml:b7d3ffe5-6bb9-4232-a5c3-5eafb8d0b5f9 ]] {\r\n",
       "}\r\n",
       "\r\n",
       "}\r\n",
       "\r\n",
       "E2 - -> \"*\"E4 [[psysml:a5b917a3-7538-4e28-aa62-755107929dae ]] \r\n",
       "E3 - -> \"*\"E4 [[psysml:b67a9087-1129-4a2e-aba3-334d88c3cbf2 ]] \r\n",
       "E4 - -> \"*\"E5 [[psysml:9a17080e-ae46-40d4-b989-796f716175e4 ]] \r\n",
       "E5 - -> \"*\"E6 [[psysml:197b427e-ad07-4e53-856c-ed2b1bc0e06a ]] \r\n",
       "E5 - -> \"*\"E7 [[psysml:b67e977c-71d2-45f4-9959-07a509bb3c26 ]] \r\n",
       "@enduml\r\n",
       "\n",
       "PlantUML version 1.2020.13(Sat Jun 13 12:26:38 UTC 2020)\n",
       "(EPL source distribution)\n",
       "Java Runtime: OpenJDK Runtime Environment\n",
       "JVM: OpenJDK 64-Bit Server VM\n",
       "Default Encoding: UTF-8\n",
       "Language: en\n",
       "Country: null\n",
       "--></g></svg>"
      ]
     },
     "execution_count": 44,
     "metadata": {},
     "output_type": "execute_result"
    }
   ],
   "source": [
    "%viz --style=\"TB\" --view=\"Default\" \"ControlNodeTest\""
   ]
  },
  {
   "cell_type": "code",
   "execution_count": 45,
   "id": "64934a05",
   "metadata": {
    "execution": {
     "iopub.execute_input": "2021-08-04T06:26:32.305071Z",
     "iopub.status.busy": "2021-08-04T06:26:32.304662Z",
     "iopub.status.idle": "2021-08-04T06:26:32.333669Z",
     "shell.execute_reply": "2021-08-04T06:26:32.333352Z"
    }
   },
   "outputs": [
    {
     "data": {
      "image/svg+xml": [
       "<?xml version=\"1.0\" encoding=\"UTF-8\" standalone=\"no\"?><svg xmlns=\"http://www.w3.org/2000/svg\" xmlns:xlink=\"http://www.w3.org/1999/xlink\" contentScriptType=\"application/ecmascript\" contentStyleType=\"text/css\" height=\"169px\" preserveAspectRatio=\"none\" style=\"width:557px;height:169px;\" version=\"1.1\" viewBox=\"0 0 557 169\" width=\"557px\" zoomAndPan=\"magnify\"><defs/><g><!--MD5=[43c9051892ef23e1a46a86907403d788]\n",
       "class E1--><a href=\"psysml:d75b3c07-b549-4c23-b2aa-d48828b6adea\" target=\"_top\" title=\"psysml:d75b3c07-b549-4c23-b2aa-d48828b6adea\" xlink:actuate=\"onRequest\" xlink:href=\"psysml:d75b3c07-b549-4c23-b2aa-d48828b6adea\" xlink:show=\"new\" xlink:title=\"psysml:d75b3c07-b549-4c23-b2aa-d48828b6adea\" xlink:type=\"simple\"><rect fill=\"#FFFFFF\" height=\"45.9375\" id=\"E1\" style=\"stroke: #383838; stroke-width: 1.5;\" width=\"111\" x=\"220\" y=\"7\"/><text fill=\"#000000\" font-family=\"sans-serif\" font-size=\"12\" font-style=\"italic\" lengthAdjust=\"spacingAndGlyphs\" textLength=\"77\" x=\"237\" y=\"23.1387\">«action def»</text><text fill=\"#000000\" font-family=\"sans-serif\" font-size=\"12\" lengthAdjust=\"spacingAndGlyphs\" textLength=\"105\" x=\"223\" y=\"37.1074\">ControlNodeTest</text><line style=\"stroke: #383838; stroke-width: 1.5;\" x1=\"221\" x2=\"330\" y1=\"44.9375\" y2=\"44.9375\"/></a><!--MD5=[b4997ac47864f28c2f74865a473b2911]\n",
       "class E2--><a href=\"psysml:c07d7274-d0ac-44b0-95a3-e3c0562da237\" target=\"_top\" title=\"psysml:c07d7274-d0ac-44b0-95a3-e3c0562da237\" xlink:actuate=\"onRequest\" xlink:href=\"psysml:c07d7274-d0ac-44b0-95a3-e3c0562da237\" xlink:show=\"new\" xlink:title=\"psysml:c07d7274-d0ac-44b0-95a3-e3c0562da237\" xlink:type=\"simple\"><rect fill=\"#FFFFFF\" height=\"45.9375\" id=\"E2\" rx=\"10\" ry=\"10\" style=\"stroke: #383838; stroke-width: 1.5;\" width=\"55\" x=\"7\" y=\"113\"/><text fill=\"#000000\" font-family=\"sans-serif\" font-size=\"12\" font-style=\"italic\" lengthAdjust=\"spacingAndGlyphs\" textLength=\"53\" x=\"8\" y=\"129.1387\">«action»</text><text fill=\"#000000\" font-family=\"sans-serif\" font-size=\"12\" lengthAdjust=\"spacingAndGlyphs\" textLength=\"16\" x=\"26.5\" y=\"143.1074\">A1</text><line style=\"stroke: #383838; stroke-width: 1.5;\" x1=\"8\" x2=\"61\" y1=\"150.9375\" y2=\"150.9375\"/></a><!--MD5=[09b614a08d8cba4a07c9adeb5e0fee81]\n",
       "class E3--><a href=\"psysml:7bb05ae1-d1dd-4ff0-97ee-ce3344a0751d\" target=\"_top\" title=\"psysml:7bb05ae1-d1dd-4ff0-97ee-ce3344a0751d\" xlink:actuate=\"onRequest\" xlink:href=\"psysml:7bb05ae1-d1dd-4ff0-97ee-ce3344a0751d\" xlink:show=\"new\" xlink:title=\"psysml:7bb05ae1-d1dd-4ff0-97ee-ce3344a0751d\" xlink:type=\"simple\"><rect fill=\"#FFFFFF\" height=\"45.9375\" id=\"E3\" rx=\"10\" ry=\"10\" style=\"stroke: #383838; stroke-width: 1.5;\" width=\"55\" x=\"97\" y=\"113\"/><text fill=\"#000000\" font-family=\"sans-serif\" font-size=\"12\" font-style=\"italic\" lengthAdjust=\"spacingAndGlyphs\" textLength=\"53\" x=\"98\" y=\"129.1387\">«action»</text><text fill=\"#000000\" font-family=\"sans-serif\" font-size=\"12\" lengthAdjust=\"spacingAndGlyphs\" textLength=\"16\" x=\"116.5\" y=\"143.1074\">A2</text><line style=\"stroke: #383838; stroke-width: 1.5;\" x1=\"98\" x2=\"151\" y1=\"150.9375\" y2=\"150.9375\"/></a><!--MD5=[ebbe1d658d1005bcc118a6aa81145e00]\n",
       "class E4--><a href=\"psysml:f3bfce16-3667-4a48-a42e-fd992fa328bf\" target=\"_top\" title=\"psysml:f3bfce16-3667-4a48-a42e-fd992fa328bf\" xlink:actuate=\"onRequest\" xlink:href=\"psysml:f3bfce16-3667-4a48-a42e-fd992fa328bf\" xlink:show=\"new\" xlink:title=\"psysml:f3bfce16-3667-4a48-a42e-fd992fa328bf\" xlink:type=\"simple\"><rect fill=\"#FFFFFF\" height=\"45.9375\" id=\"E4\" rx=\"10\" ry=\"10\" style=\"stroke: #383838; stroke-width: 1.5;\" width=\"71\" x=\"187\" y=\"113\"/><text fill=\"#000000\" font-family=\"sans-serif\" font-size=\"12\" font-style=\"italic\" lengthAdjust=\"spacingAndGlyphs\" textLength=\"69\" x=\"188\" y=\"129.1387\">«joinNode»</text><text fill=\"#000000\" font-family=\"sans-serif\" font-size=\"12\" lengthAdjust=\"spacingAndGlyphs\" textLength=\"3\" x=\"221\" y=\"143.1074\">J</text><line style=\"stroke: #383838; stroke-width: 1.5;\" x1=\"188\" x2=\"257\" y1=\"150.9375\" y2=\"150.9375\"/></a><!--MD5=[270fce915f116d4de14055a7c1d9a0f3]\n",
       "class E5--><a href=\"psysml:08c848ef-d5ea-4388-acb9-5b8d01347f10\" target=\"_top\" title=\"psysml:08c848ef-d5ea-4388-acb9-5b8d01347f10\" xlink:actuate=\"onRequest\" xlink:href=\"psysml:08c848ef-d5ea-4388-acb9-5b8d01347f10\" xlink:show=\"new\" xlink:title=\"psysml:08c848ef-d5ea-4388-acb9-5b8d01347f10\" xlink:type=\"simple\"><rect fill=\"#FFFFFF\" height=\"45.9375\" id=\"E5\" rx=\"10\" ry=\"10\" style=\"stroke: #383838; stroke-width: 1.5;\" width=\"73\" x=\"293\" y=\"113\"/><text fill=\"#000000\" font-family=\"sans-serif\" font-size=\"12\" font-style=\"italic\" lengthAdjust=\"spacingAndGlyphs\" textLength=\"71\" x=\"294\" y=\"129.1387\">«forkNode»</text><text fill=\"#000000\" font-family=\"sans-serif\" font-size=\"12\" lengthAdjust=\"spacingAndGlyphs\" textLength=\"7\" x=\"326\" y=\"143.1074\">F</text><line style=\"stroke: #383838; stroke-width: 1.5;\" x1=\"294\" x2=\"365\" y1=\"150.9375\" y2=\"150.9375\"/></a><!--MD5=[60a26617385b1d2d0262a64233df1f8d]\n",
       "class E6--><a href=\"psysml:d5fd7944-a8f1-4c67-81d3-da10d551f750\" target=\"_top\" title=\"psysml:d5fd7944-a8f1-4c67-81d3-da10d551f750\" xlink:actuate=\"onRequest\" xlink:href=\"psysml:d5fd7944-a8f1-4c67-81d3-da10d551f750\" xlink:show=\"new\" xlink:title=\"psysml:d5fd7944-a8f1-4c67-81d3-da10d551f750\" xlink:type=\"simple\"><rect fill=\"#FFFFFF\" height=\"45.9375\" id=\"E6\" rx=\"10\" ry=\"10\" style=\"stroke: #383838; stroke-width: 1.5;\" width=\"55\" x=\"401\" y=\"113\"/><text fill=\"#000000\" font-family=\"sans-serif\" font-size=\"12\" font-style=\"italic\" lengthAdjust=\"spacingAndGlyphs\" textLength=\"53\" x=\"402\" y=\"129.1387\">«action»</text><text fill=\"#000000\" font-family=\"sans-serif\" font-size=\"12\" lengthAdjust=\"spacingAndGlyphs\" textLength=\"16\" x=\"420.5\" y=\"143.1074\">B1</text><line style=\"stroke: #383838; stroke-width: 1.5;\" x1=\"402\" x2=\"455\" y1=\"150.9375\" y2=\"150.9375\"/></a><!--MD5=[2156ba9850f5573cc1fc38a6a4b2f02b]\n",
       "class E7--><a href=\"psysml:b7d3ffe5-6bb9-4232-a5c3-5eafb8d0b5f9\" target=\"_top\" title=\"psysml:b7d3ffe5-6bb9-4232-a5c3-5eafb8d0b5f9\" xlink:actuate=\"onRequest\" xlink:href=\"psysml:b7d3ffe5-6bb9-4232-a5c3-5eafb8d0b5f9\" xlink:show=\"new\" xlink:title=\"psysml:b7d3ffe5-6bb9-4232-a5c3-5eafb8d0b5f9\" xlink:type=\"simple\"><rect fill=\"#FFFFFF\" height=\"45.9375\" id=\"E7\" rx=\"10\" ry=\"10\" style=\"stroke: #383838; stroke-width: 1.5;\" width=\"55\" x=\"491\" y=\"113\"/><text fill=\"#000000\" font-family=\"sans-serif\" font-size=\"12\" font-style=\"italic\" lengthAdjust=\"spacingAndGlyphs\" textLength=\"53\" x=\"492\" y=\"129.1387\">«action»</text><text fill=\"#000000\" font-family=\"sans-serif\" font-size=\"12\" lengthAdjust=\"spacingAndGlyphs\" textLength=\"16\" x=\"510.5\" y=\"143.1074\">B2</text><line style=\"stroke: #383838; stroke-width: 1.5;\" x1=\"492\" x2=\"545\" y1=\"150.9375\" y2=\"150.9375\"/></a><!--MD5=[a523cb2a0b79ecf9065ad8783f96c320]\n",
       "reverse link E1 to E2--><a href=\"psysml:090da899-d633-4f68-ac70-93df987c1f89\" target=\"_top\" title=\"psysml:090da899-d633-4f68-ac70-93df987c1f89\" xlink:actuate=\"onRequest\" xlink:href=\"psysml:090da899-d633-4f68-ac70-93df987c1f89\" xlink:show=\"new\" xlink:title=\"psysml:090da899-d633-4f68-ac70-93df987c1f89\" xlink:type=\"simple\"><path d=\"M207.75,58.2 C169.81,73.72 121.76,93.85 79.5,113 C73.96,115.51 68.08,118.3 62.47,121.01 \" fill=\"none\" id=\"E1&lt;-E2\" style=\"stroke: #383838; stroke-width: 1.0;\"/><polygon fill=\"#383838\" points=\"220.21,53.12,213.1443,51.6791,209.0967,57.6471,216.1624,59.088,220.21,53.12\" style=\"stroke: #383838; stroke-width: 1.0;\"/><text fill=\"#000000\" font-family=\"sans-serif\" font-size=\"13\" lengthAdjust=\"spacingAndGlyphs\" textLength=\"7\" x=\"70.1408\" y=\"112.6188\">*</text></a><!--MD5=[5d7b3810b1dd9b5164bea1151b29b665]\n",
       "reverse link E1 to E3--><a href=\"psysml:797c4c3c-8cfb-4ed1-914f-99d654db3cec\" target=\"_top\" title=\"psysml:797c4c3c-8cfb-4ed1-914f-99d654db3cec\" xlink:actuate=\"onRequest\" xlink:href=\"psysml:797c4c3c-8cfb-4ed1-914f-99d654db3cec\" xlink:show=\"new\" xlink:title=\"psysml:797c4c3c-8cfb-4ed1-914f-99d654db3cec\" xlink:type=\"simple\"><path d=\"M232.52,60.6 C206.81,78.31 174.87,100.31 152.42,115.77 \" fill=\"none\" id=\"E1&lt;-E3\" style=\"stroke: #383838; stroke-width: 1.0;\"/><polygon fill=\"#383838\" points=\"243.48,53.06,236.2697,53.1655,233.5938,59.8617,240.8041,59.7562,243.48,53.06\" style=\"stroke: #383838; stroke-width: 1.0;\"/><text fill=\"#000000\" font-family=\"sans-serif\" font-size=\"13\" lengthAdjust=\"spacingAndGlyphs\" textLength=\"7\" x=\"160.0786\" y=\"106.1015\">*</text></a><!--MD5=[f2c5c03aa1e8c0ba21c10a05e6444b8e]\n",
       "reverse link E1 to E4--><a href=\"psysml:70a466ea-83ad-4e19-afa5-d192b13fd9c7\" target=\"_top\" title=\"psysml:70a466ea-83ad-4e19-afa5-d192b13fd9c7\" xlink:actuate=\"onRequest\" xlink:href=\"psysml:70a466ea-83ad-4e19-afa5-d192b13fd9c7\" xlink:show=\"new\" xlink:title=\"psysml:70a466ea-83ad-4e19-afa5-d192b13fd9c7\" xlink:type=\"simple\"><path d=\"M258.16,65.03 C250.13,80.78 240.82,99.06 233.72,112.98 \" fill=\"none\" id=\"E1&lt;-E4\" style=\"stroke: #383838; stroke-width: 1.0;\"/><polygon fill=\"#383838\" points=\"264.26,53.06,257.9728,56.5915,258.8145,63.7533,265.1017,60.2218,264.26,53.06\" style=\"stroke: #383838; stroke-width: 1.0;\"/></a><!--MD5=[33238bef88d6431a141d8bc8fb12bca0]\n",
       "reverse link E1 to E5--><a href=\"psysml:26253911-6243-446d-b791-23c0e42b91a5\" target=\"_top\" title=\"psysml:26253911-6243-446d-b791-23c0e42b91a5\" xlink:actuate=\"onRequest\" xlink:href=\"psysml:26253911-6243-446d-b791-23c0e42b91a5\" xlink:show=\"new\" xlink:title=\"psysml:26253911-6243-446d-b791-23c0e42b91a5\" xlink:type=\"simple\"><path d=\"M293.17,65.03 C301.35,80.78 310.84,99.06 318.06,112.98 \" fill=\"none\" id=\"E1&lt;-E5\" style=\"stroke: #383838; stroke-width: 1.0;\"/><polygon fill=\"#383838\" points=\"286.95,53.06,286.1611,60.2278,292.4742,63.7129,293.263,56.545,286.95,53.06\" style=\"stroke: #383838; stroke-width: 1.0;\"/></a><!--MD5=[aca2ef284c2b1b90e17e73bf3f292c07]\n",
       "reverse link E1 to E6--><a href=\"psysml:e8354a48-cb93-46c3-a69e-19a4acf29f71\" target=\"_top\" title=\"psysml:e8354a48-cb93-46c3-a69e-19a4acf29f71\" xlink:actuate=\"onRequest\" xlink:href=\"psysml:e8354a48-cb93-46c3-a69e-19a4acf29f71\" xlink:show=\"new\" xlink:title=\"psysml:e8354a48-cb93-46c3-a69e-19a4acf29f71\" xlink:type=\"simple\"><path d=\"M318.77,60.41 C345.06,78.28 377.86,100.58 400.72,116.11 \" fill=\"none\" id=\"E1&lt;-E6\" style=\"stroke: #383838; stroke-width: 1.0;\"/><polygon fill=\"#383838\" points=\"307.95,53.06,310.6626,59.7415,317.8734,59.8074,315.1608,53.1259,307.95,53.06\" style=\"stroke: #383838; stroke-width: 1.0;\"/><text fill=\"#000000\" font-family=\"sans-serif\" font-size=\"13\" lengthAdjust=\"spacingAndGlyphs\" textLength=\"7\" x=\"386.0955\" y=\"106.5244\">*</text></a><!--MD5=[fc9706a6b2cf8c0e423679d303750d3f]\n",
       "reverse link E1 to E7--><a href=\"psysml:8dca6daf-962f-46a3-bb74-22037bd04295\" target=\"_top\" title=\"psysml:8dca6daf-962f-46a3-bb74-22037bd04295\" xlink:actuate=\"onRequest\" xlink:href=\"psysml:8dca6daf-962f-46a3-bb74-22037bd04295\" xlink:show=\"new\" xlink:title=\"psysml:8dca6daf-962f-46a3-bb74-22037bd04295\" xlink:type=\"simple\"><path d=\"M343.46,57.93 C381.88,73.46 430.65,93.68 473.5,113 C479.05,115.5 484.93,118.28 490.54,121 \" fill=\"none\" id=\"E1&lt;-E7\" style=\"stroke: #383838; stroke-width: 1.0;\"/><polygon fill=\"#383838\" points=\"331.37,53.06,335.4407,59.0122,342.5008,57.544,338.43,51.5917,331.37,53.06\" style=\"stroke: #383838; stroke-width: 1.0;\"/><text fill=\"#000000\" font-family=\"sans-serif\" font-size=\"13\" lengthAdjust=\"spacingAndGlyphs\" textLength=\"7\" x=\"475.8716\" y=\"112.6063\">*</text></a><!--MD5=[c52a436fc87ad5fa6e7b1c9de74036be]\n",
       "@startuml\r\n",
       "top to bottom direction\r\n",
       "skinparam monochrome true\r\n",
       "skinparam classbackgroundcolor white\r\n",
       "skinparam shadowing false\r\n",
       "skinparam wrapWidth 300\r\n",
       "hide circle\r\n",
       "\r\n",
       "comp def \"ControlNodeTest\" as E1  <<(T,blue) action def>> [[psysml:d75b3c07-b549-4c23-b2aa-d48828b6adea ]] {\r\n",
       "}\r\n",
       "comp usage \"A1\" as E2  <<(T,blue) action>> [[psysml:c07d7274-d0ac-44b0-95a3-e3c0562da237 ]] {\r\n",
       "}\r\n",
       "comp usage \"A2\" as E3  <<(T,blue) action>> [[psysml:7bb05ae1-d1dd-4ff0-97ee-ce3344a0751d ]] {\r\n",
       "}\r\n",
       "comp usage \"J\" as E4  <<(T,blue) joinNode>> [[psysml:f3bfce16-3667-4a48-a42e-fd992fa328bf ]] {\r\n",
       "}\r\n",
       "comp usage \"F\" as E5  <<(T,blue) forkNode>> [[psysml:08c848ef-d5ea-4388-acb9-5b8d01347f10 ]] {\r\n",
       "}\r\n",
       "comp usage \"B1\" as E6  <<(T,blue) action>> [[psysml:d5fd7944-a8f1-4c67-81d3-da10d551f750 ]] {\r\n",
       "}\r\n",
       "comp usage \"B2\" as E7  <<(T,blue) action>> [[psysml:b7d3ffe5-6bb9-4232-a5c3-5eafb8d0b5f9 ]] {\r\n",
       "}\r\n",
       "E1 *- - \"*\"E2 [[psysml:090da899-d633-4f68-ac70-93df987c1f89 ]] \r\n",
       "E1 *- - \"*\"E3 [[psysml:797c4c3c-8cfb-4ed1-914f-99d654db3cec ]] \r\n",
       "E1 *- - E4 [[psysml:70a466ea-83ad-4e19-afa5-d192b13fd9c7 ]] \r\n",
       "E1 *- - E5 [[psysml:26253911-6243-446d-b791-23c0e42b91a5 ]] \r\n",
       "E1 *- - \"*\"E6 [[psysml:e8354a48-cb93-46c3-a69e-19a4acf29f71 ]] \r\n",
       "E1 *- - \"*\"E7 [[psysml:8dca6daf-962f-46a3-bb74-22037bd04295 ]] \r\n",
       "@enduml\r\n",
       "\n",
       "PlantUML version 1.2020.13(Sat Jun 13 12:26:38 UTC 2020)\n",
       "(EPL source distribution)\n",
       "Java Runtime: OpenJDK Runtime Environment\n",
       "JVM: OpenJDK 64-Bit Server VM\n",
       "Default Encoding: UTF-8\n",
       "Language: en\n",
       "Country: null\n",
       "--></g></svg>"
      ]
     },
     "execution_count": 45,
     "metadata": {},
     "output_type": "execute_result"
    }
   ],
   "source": [
    "%viz --style=\"TB\" --view=\"Tree\" \"ControlNodeTest\""
   ]
  },
  {
   "cell_type": "code",
   "execution_count": 46,
   "id": "cf2f2096",
   "metadata": {
    "execution": {
     "iopub.execute_input": "2021-08-04T06:26:32.383362Z",
     "iopub.status.busy": "2021-08-04T06:26:32.383007Z",
     "iopub.status.idle": "2021-08-04T06:26:32.387474Z",
     "shell.execute_reply": "2021-08-04T06:26:32.387746Z"
    }
   },
   "outputs": [
    {
     "data": {
      "image/svg+xml": [
       "<?xml version=\"1.0\" encoding=\"UTF-8\" standalone=\"no\"?><svg xmlns=\"http://www.w3.org/2000/svg\" xmlns:xlink=\"http://www.w3.org/1999/xlink\" contentScriptType=\"application/ecmascript\" contentStyleType=\"text/css\" height=\"12px\" preserveAspectRatio=\"none\" style=\"width:12px;height:12px;\" version=\"1.1\" viewBox=\"0 0 12 12\" width=\"12px\" zoomAndPan=\"magnify\"><defs/><g><!--MD5=[f4ee21bc66e489b5061b7c3e9601fdef]\n",
       "@startuml\r\n",
       "top to bottom direction\r\n",
       "skinparam monochrome true\r\n",
       "skinparam classbackgroundcolor white\r\n",
       "skinparam shadowing false\r\n",
       "skinparam wrapWidth 300\r\n",
       "hide circle\r\n",
       "\r\n",
       "@enduml\r\n",
       "\n",
       "PlantUML version 1.2020.13(Sat Jun 13 12:26:38 UTC 2020)\n",
       "(EPL source distribution)\n",
       "Java Runtime: OpenJDK Runtime Environment\n",
       "JVM: OpenJDK 64-Bit Server VM\n",
       "Default Encoding: UTF-8\n",
       "Language: en\n",
       "Country: null\n",
       "--></g></svg>"
      ]
     },
     "execution_count": 46,
     "metadata": {},
     "output_type": "execute_result"
    }
   ],
   "source": [
    "%viz --style=\"TB\" --view=\"State\" \"ControlNodeTest\""
   ]
  },
  {
   "cell_type": "code",
   "execution_count": 47,
   "id": "bd6f4ad5",
   "metadata": {
    "execution": {
     "iopub.execute_input": "2021-08-04T06:26:32.438141Z",
     "iopub.status.busy": "2021-08-04T06:26:32.437741Z",
     "iopub.status.idle": "2021-08-04T06:26:32.464363Z",
     "shell.execute_reply": "2021-08-04T06:26:32.463207Z"
    }
   },
   "outputs": [
    {
     "data": {
      "image/svg+xml": [
       "<?xml version=\"1.0\" encoding=\"UTF-8\" standalone=\"no\"?><svg xmlns=\"http://www.w3.org/2000/svg\" xmlns:xlink=\"http://www.w3.org/1999/xlink\" contentScriptType=\"application/ecmascript\" contentStyleType=\"text/css\" height=\"217px\" preserveAspectRatio=\"none\" style=\"width:205px;height:217px;\" version=\"1.1\" viewBox=\"0 0 205 217\" width=\"205px\" zoomAndPan=\"magnify\"><defs/><g><!--MD5=[fbc87193dbaf4d95561dea2c320d4a47]\n",
       "cluster E1--><a href=\"psysml:d75b3c07-b549-4c23-b2aa-d48828b6adea\" target=\"_top\" title=\"psysml:d75b3c07-b549-4c23-b2aa-d48828b6adea\" xlink:actuate=\"onRequest\" xlink:href=\"psysml:d75b3c07-b549-4c23-b2aa-d48828b6adea\" xlink:show=\"new\" xlink:title=\"psysml:d75b3c07-b549-4c23-b2aa-d48828b6adea\" xlink:type=\"simple\"><rect fill=\"#FFFFFF\" height=\"199\" id=\"E1\" style=\"stroke: #383838; stroke-width: 1.5;\" width=\"187\" x=\"7\" y=\"7\"/><rect fill=\"#F8F8F8\" height=\"37.9375\" style=\"stroke: #383838; stroke-width: 1.5;\" width=\"187\" x=\"7\" y=\"7\"/><text fill=\"#000000\" font-family=\"sans-serif\" font-size=\"12\" font-style=\"italic\" lengthAdjust=\"spacingAndGlyphs\" textLength=\"77\" x=\"62\" y=\"23.1387\">«action def»</text><text fill=\"#000000\" font-family=\"sans-serif\" font-size=\"12\" lengthAdjust=\"spacingAndGlyphs\" textLength=\"105\" x=\"48\" y=\"37.1074\">ControlNodeTest</text></a><rect fill=\"#000000\" height=\"8\" style=\"stroke: none; stroke-width: 1.0;\" width=\"80\" x=\"60\" y=\"111\"/><rect fill=\"#000000\" height=\"8\" style=\"stroke: none; stroke-width: 1.0;\" width=\"80\" x=\"60\" y=\"129\"/><g id=\"E1.E2\"><a href=\"psysml:c07d7274-d0ac-44b0-95a3-e3c0562da237\" target=\"_top\" title=\"psysml:c07d7274-d0ac-44b0-95a3-e3c0562da237\" xlink:actuate=\"onRequest\" xlink:href=\"psysml:c07d7274-d0ac-44b0-95a3-e3c0562da237\" xlink:show=\"new\" xlink:title=\"psysml:c07d7274-d0ac-44b0-95a3-e3c0562da237\" xlink:type=\"simple\"><rect fill=\"#FFFFFF\" height=\"42.9375\" id=\"E2\" rx=\"10\" ry=\"10\" style=\"stroke: #383838; stroke-width: 1.5;\" width=\"60\" x=\"118\" y=\"58\"/><rect fill=\"#F8F8F8\" height=\"37.9375\" rx=\"10\" ry=\"10\" style=\"stroke: #F8F8F8; stroke-width: 1.5;\" width=\"60\" x=\"118\" y=\"58\"/><rect fill=\"#F8F8F8\" height=\"10\" style=\"stroke: #F8F8F8; stroke-width: 1.5;\" width=\"60\" x=\"118\" y=\"85.9375\"/><rect fill=\"none\" height=\"42.9375\" id=\"E2\" rx=\"10\" ry=\"10\" style=\"stroke: #383838; stroke-width: 1.5;\" width=\"60\" x=\"118\" y=\"58\"/><text fill=\"#000000\" font-family=\"sans-serif\" font-size=\"12\" font-style=\"italic\" lengthAdjust=\"spacingAndGlyphs\" textLength=\"53\" x=\"121.5\" y=\"74.1387\">«action»</text><text fill=\"#000000\" font-family=\"sans-serif\" font-size=\"12\" lengthAdjust=\"spacingAndGlyphs\" textLength=\"16\" x=\"140\" y=\"88.1074\">A1</text></a></g><g id=\"E1.E3\"><a href=\"psysml:7bb05ae1-d1dd-4ff0-97ee-ce3344a0751d\" target=\"_top\" title=\"psysml:7bb05ae1-d1dd-4ff0-97ee-ce3344a0751d\" xlink:actuate=\"onRequest\" xlink:href=\"psysml:7bb05ae1-d1dd-4ff0-97ee-ce3344a0751d\" xlink:show=\"new\" xlink:title=\"psysml:7bb05ae1-d1dd-4ff0-97ee-ce3344a0751d\" xlink:type=\"simple\"><rect fill=\"#FFFFFF\" height=\"42.9375\" id=\"E3\" rx=\"10\" ry=\"10\" style=\"stroke: #383838; stroke-width: 1.5;\" width=\"60\" x=\"23\" y=\"58\"/><rect fill=\"#F8F8F8\" height=\"37.9375\" rx=\"10\" ry=\"10\" style=\"stroke: #F8F8F8; stroke-width: 1.5;\" width=\"60\" x=\"23\" y=\"58\"/><rect fill=\"#F8F8F8\" height=\"10\" style=\"stroke: #F8F8F8; stroke-width: 1.5;\" width=\"60\" x=\"23\" y=\"85.9375\"/><rect fill=\"none\" height=\"42.9375\" id=\"E3\" rx=\"10\" ry=\"10\" style=\"stroke: #383838; stroke-width: 1.5;\" width=\"60\" x=\"23\" y=\"58\"/><text fill=\"#000000\" font-family=\"sans-serif\" font-size=\"12\" font-style=\"italic\" lengthAdjust=\"spacingAndGlyphs\" textLength=\"53\" x=\"26.5\" y=\"74.1387\">«action»</text><text fill=\"#000000\" font-family=\"sans-serif\" font-size=\"12\" lengthAdjust=\"spacingAndGlyphs\" textLength=\"16\" x=\"45\" y=\"88.1074\">A2</text></a></g><g id=\"E1.E6\"><a href=\"psysml:d5fd7944-a8f1-4c67-81d3-da10d551f750\" target=\"_top\" title=\"psysml:d5fd7944-a8f1-4c67-81d3-da10d551f750\" xlink:actuate=\"onRequest\" xlink:href=\"psysml:d5fd7944-a8f1-4c67-81d3-da10d551f750\" xlink:show=\"new\" xlink:title=\"psysml:d5fd7944-a8f1-4c67-81d3-da10d551f750\" xlink:type=\"simple\"><rect fill=\"#FFFFFF\" height=\"42.9375\" id=\"E6\" rx=\"10\" ry=\"10\" style=\"stroke: #383838; stroke-width: 1.5;\" width=\"60\" x=\"23\" y=\"147\"/><rect fill=\"#F8F8F8\" height=\"37.9375\" rx=\"10\" ry=\"10\" style=\"stroke: #F8F8F8; stroke-width: 1.5;\" width=\"60\" x=\"23\" y=\"147\"/><rect fill=\"#F8F8F8\" height=\"10\" style=\"stroke: #F8F8F8; stroke-width: 1.5;\" width=\"60\" x=\"23\" y=\"174.9375\"/><rect fill=\"none\" height=\"42.9375\" id=\"E6\" rx=\"10\" ry=\"10\" style=\"stroke: #383838; stroke-width: 1.5;\" width=\"60\" x=\"23\" y=\"147\"/><text fill=\"#000000\" font-family=\"sans-serif\" font-size=\"12\" font-style=\"italic\" lengthAdjust=\"spacingAndGlyphs\" textLength=\"53\" x=\"26.5\" y=\"163.1387\">«action»</text><text fill=\"#000000\" font-family=\"sans-serif\" font-size=\"12\" lengthAdjust=\"spacingAndGlyphs\" textLength=\"16\" x=\"45\" y=\"177.1074\">B1</text></a></g><g id=\"E1.E7\"><a href=\"psysml:b7d3ffe5-6bb9-4232-a5c3-5eafb8d0b5f9\" target=\"_top\" title=\"psysml:b7d3ffe5-6bb9-4232-a5c3-5eafb8d0b5f9\" xlink:actuate=\"onRequest\" xlink:href=\"psysml:b7d3ffe5-6bb9-4232-a5c3-5eafb8d0b5f9\" xlink:show=\"new\" xlink:title=\"psysml:b7d3ffe5-6bb9-4232-a5c3-5eafb8d0b5f9\" xlink:type=\"simple\"><rect fill=\"#FFFFFF\" height=\"42.9375\" id=\"E7\" rx=\"10\" ry=\"10\" style=\"stroke: #383838; stroke-width: 1.5;\" width=\"60\" x=\"118\" y=\"147\"/><rect fill=\"#F8F8F8\" height=\"37.9375\" rx=\"10\" ry=\"10\" style=\"stroke: #F8F8F8; stroke-width: 1.5;\" width=\"60\" x=\"118\" y=\"147\"/><rect fill=\"#F8F8F8\" height=\"10\" style=\"stroke: #F8F8F8; stroke-width: 1.5;\" width=\"60\" x=\"118\" y=\"174.9375\"/><rect fill=\"none\" height=\"42.9375\" id=\"E7\" rx=\"10\" ry=\"10\" style=\"stroke: #383838; stroke-width: 1.5;\" width=\"60\" x=\"118\" y=\"147\"/><text fill=\"#000000\" font-family=\"sans-serif\" font-size=\"12\" font-style=\"italic\" lengthAdjust=\"spacingAndGlyphs\" textLength=\"53\" x=\"121.5\" y=\"163.1387\">«action»</text><text fill=\"#000000\" font-family=\"sans-serif\" font-size=\"12\" lengthAdjust=\"spacingAndGlyphs\" textLength=\"16\" x=\"140\" y=\"177.1074\">B2</text></a></g><!--MD5=[4d03bb2d0377dc85ccfab60ff574652b]\n",
       "link E2 to E4--><a href=\"psysml:a5b917a3-7538-4e28-aa62-755107929dae\" target=\"_top\" title=\"psysml:a5b917a3-7538-4e28-aa62-755107929dae\" xlink:actuate=\"onRequest\" xlink:href=\"psysml:a5b917a3-7538-4e28-aa62-755107929dae\" xlink:show=\"new\" xlink:title=\"psysml:a5b917a3-7538-4e28-aa62-755107929dae\" xlink:type=\"simple\"><path d=\"M118.42,101.14 C114.95,103.57 111.64,105.88 108.81,107.85 \" fill=\"none\" id=\"E2-&gt;E4\" style=\"stroke: #383838; stroke-width: 1.0;\"/><polygon fill=\"#383838\" points=\"104.3,111,113.9709,109.1361,108.4022,108.1413,109.397,102.5726,104.3,111\" style=\"stroke: #383838; stroke-width: 1.0;\"/><text fill=\"#000000\" font-family=\"sans-serif\" font-size=\"13\" lengthAdjust=\"spacingAndGlyphs\" textLength=\"7\" x=\"97.87\" y=\"99.9205\">*</text></a><!--MD5=[af87c684e3b0d8be13c1a698a818ef1e]\n",
       "link E3 to E4--><a href=\"psysml:b67a9087-1129-4a2e-aba3-334d88c3cbf2\" target=\"_top\" title=\"psysml:b67a9087-1129-4a2e-aba3-334d88c3cbf2\" xlink:actuate=\"onRequest\" xlink:href=\"psysml:b67a9087-1129-4a2e-aba3-334d88c3cbf2\" xlink:show=\"new\" xlink:title=\"psysml:b67a9087-1129-4a2e-aba3-334d88c3cbf2\" xlink:type=\"simple\"><path d=\"M81.96,101.14 C85.36,103.57 88.6,105.88 91.37,107.85 \" fill=\"none\" id=\"E3-&gt;E4\" style=\"stroke: #383838; stroke-width: 1.0;\"/><polygon fill=\"#383838\" points=\"95.79,111,90.7801,102.5206,91.7175,108.0992,86.1388,109.0366,95.79,111\" style=\"stroke: #383838; stroke-width: 1.0;\"/><text fill=\"#000000\" font-family=\"sans-serif\" font-size=\"13\" lengthAdjust=\"spacingAndGlyphs\" textLength=\"7\" x=\"91.1121\" y=\"103.6092\">*</text></a><!--MD5=[1b7591eae5389033d8d09a9d6721a717]\n",
       "link E4 to E5--><a href=\"psysml:9a17080e-ae46-40d4-b989-796f716175e4\" target=\"_top\" title=\"psysml:9a17080e-ae46-40d4-b989-796f716175e4\" xlink:actuate=\"onRequest\" xlink:href=\"psysml:9a17080e-ae46-40d4-b989-796f716175e4\" xlink:show=\"new\" xlink:title=\"psysml:9a17080e-ae46-40d4-b989-796f716175e4\" xlink:type=\"simple\"><path d=\"M100,119.08 C100,120.38 100,121.95 100,123.55 \" fill=\"none\" id=\"E4-&gt;E5\" style=\"stroke: #383838; stroke-width: 1.0;\"/><polygon fill=\"#383838\" points=\"100,128.7,104,119.7,100,123.7,96,119.7,100,128.7\" style=\"stroke: #383838; stroke-width: 1.0;\"/><text fill=\"#000000\" font-family=\"sans-serif\" font-size=\"13\" lengthAdjust=\"spacingAndGlyphs\" textLength=\"7\" x=\"42.9663\" y=\"135.9509\">*</text></a><!--MD5=[9120cf2e5df3bff93db8f754bbbc09b4]\n",
       "link E5 to E6--><a href=\"psysml:197b427e-ad07-4e53-856c-ed2b1bc0e06a\" target=\"_top\" title=\"psysml:197b427e-ad07-4e53-856c-ed2b1bc0e06a\" xlink:actuate=\"onRequest\" xlink:href=\"psysml:197b427e-ad07-4e53-856c-ed2b1bc0e06a\" xlink:show=\"new\" xlink:title=\"psysml:197b427e-ad07-4e53-856c-ed2b1bc0e06a\" xlink:type=\"simple\"><path d=\"M95.66,137.09 C93.25,138.81 89.99,141.13 86.35,143.73 \" fill=\"none\" id=\"E5-&gt;E6\" style=\"stroke: #383838; stroke-width: 1.0;\"/><polygon fill=\"#383838\" points=\"81.93,146.88,91.5812,144.9166,86.0025,143.9792,86.9399,138.4006,81.93,146.88\" style=\"stroke: #383838; stroke-width: 1.0;\"/><text fill=\"#000000\" font-family=\"sans-serif\" font-size=\"13\" lengthAdjust=\"spacingAndGlyphs\" textLength=\"7\" x=\"91.0509\" y=\"155.0031\">*</text></a><!--MD5=[3a9b96bfbf6b6ad89c494e81751bda47]\n",
       "link E5 to E7--><a href=\"psysml:b67e977c-71d2-45f4-9959-07a509bb3c26\" target=\"_top\" title=\"psysml:b67e977c-71d2-45f4-9959-07a509bb3c26\" xlink:actuate=\"onRequest\" xlink:href=\"psysml:b67e977c-71d2-45f4-9959-07a509bb3c26\" xlink:show=\"new\" xlink:title=\"psysml:b67e977c-71d2-45f4-9959-07a509bb3c26\" xlink:type=\"simple\"><path d=\"M104.43,137.09 C106.9,138.81 110.22,141.13 113.94,143.73 \" fill=\"none\" id=\"E5-&gt;E7\" style=\"stroke: #383838; stroke-width: 1.0;\"/><polygon fill=\"#383838\" points=\"118.46,146.88,113.3827,138.4407,114.3645,144.0117,108.7935,144.9935,118.46,146.88\" style=\"stroke: #383838; stroke-width: 1.0;\"/><text fill=\"#000000\" font-family=\"sans-serif\" font-size=\"13\" lengthAdjust=\"spacingAndGlyphs\" textLength=\"7\" x=\"102.9935\" y=\"155.3537\">*</text></a><!--MD5=[c3f6112d9c422fabff30088fa09c6006]\n",
       "@startuml\r\n",
       "skinparam ranksep 10\r\n",
       "skinparam rectangle {\r\n",
       " backgroundColor<<block>> LightGreen\r\n",
       "}\r\n",
       "top to bottom direction\r\n",
       "skinparam monochrome true\r\n",
       "skinparam classbackgroundcolor white\r\n",
       "skinparam shadowing false\r\n",
       "skinparam wrapWidth 300\r\n",
       "hide circle\r\n",
       "\r\n",
       "rec def \"ControlNodeTest\" as E1  <<(T,blue) action def>> [[psysml:d75b3c07-b549-4c23-b2aa-d48828b6adea ]] {\r\n",
       "rec usage \"A1\" as E2  <<(T,blue) action>> [[psysml:c07d7274-d0ac-44b0-95a3-e3c0562da237 ]] {\r\n",
       "}\r\n",
       "\r\n",
       "rec usage \"A2\" as E3  <<(T,blue) action>> [[psysml:7bb05ae1-d1dd-4ff0-97ee-ce3344a0751d ]] {\r\n",
       "}\r\n",
       "\r\n",
       "join \"J\" as E4  [[psysml:f3bfce16-3667-4a48-a42e-fd992fa328bf ]] \r\n",
       "fork \"F\" as E5  [[psysml:08c848ef-d5ea-4388-acb9-5b8d01347f10 ]] \r\n",
       "rec usage \"B1\" as E6  <<(T,blue) action>> [[psysml:d5fd7944-a8f1-4c67-81d3-da10d551f750 ]] {\r\n",
       "}\r\n",
       "\r\n",
       "rec usage \"B2\" as E7  <<(T,blue) action>> [[psysml:b7d3ffe5-6bb9-4232-a5c3-5eafb8d0b5f9 ]] {\r\n",
       "}\r\n",
       "\r\n",
       "}\r\n",
       "\r\n",
       "E2 - -> \"*\"E4 [[psysml:a5b917a3-7538-4e28-aa62-755107929dae ]] \r\n",
       "E3 - -> \"*\"E4 [[psysml:b67a9087-1129-4a2e-aba3-334d88c3cbf2 ]] \r\n",
       "E4 - -> \"*\"E5 [[psysml:9a17080e-ae46-40d4-b989-796f716175e4 ]] \r\n",
       "E5 - -> \"*\"E6 [[psysml:197b427e-ad07-4e53-856c-ed2b1bc0e06a ]] \r\n",
       "E5 - -> \"*\"E7 [[psysml:b67e977c-71d2-45f4-9959-07a509bb3c26 ]] \r\n",
       "@enduml\r\n",
       "\n",
       "PlantUML version 1.2020.13(Sat Jun 13 12:26:38 UTC 2020)\n",
       "(EPL source distribution)\n",
       "Java Runtime: OpenJDK Runtime Environment\n",
       "JVM: OpenJDK 64-Bit Server VM\n",
       "Default Encoding: UTF-8\n",
       "Language: en\n",
       "Country: null\n",
       "--></g></svg>"
      ]
     },
     "execution_count": 47,
     "metadata": {},
     "output_type": "execute_result"
    }
   ],
   "source": [
    "%viz --style=\"TB\" --view=\"Interconnection\" \"ControlNodeTest\""
   ]
  },
  {
   "cell_type": "code",
   "execution_count": 48,
   "id": "44a88c53",
   "metadata": {
    "execution": {
     "iopub.execute_input": "2021-08-04T06:26:32.513998Z",
     "iopub.status.busy": "2021-08-04T06:26:32.513606Z",
     "iopub.status.idle": "2021-08-04T06:26:32.531791Z",
     "shell.execute_reply": "2021-08-04T06:26:32.530640Z"
    }
   },
   "outputs": [
    {
     "data": {
      "image/svg+xml": [
       "<?xml version=\"1.0\" encoding=\"UTF-8\" standalone=\"no\"?><svg xmlns=\"http://www.w3.org/2000/svg\" xmlns:xlink=\"http://www.w3.org/1999/xlink\" contentScriptType=\"application/ecmascript\" contentStyleType=\"text/css\" height=\"211px\" preserveAspectRatio=\"none\" style=\"width:205px;height:211px;\" version=\"1.1\" viewBox=\"0 0 205 211\" width=\"205px\" zoomAndPan=\"magnify\"><defs/><g><!--MD5=[fbc87193dbaf4d95561dea2c320d4a47]\n",
       "cluster E1--><a href=\"psysml:d75b3c07-b549-4c23-b2aa-d48828b6adea\" target=\"_top\" title=\"psysml:d75b3c07-b549-4c23-b2aa-d48828b6adea\" xlink:actuate=\"onRequest\" xlink:href=\"psysml:d75b3c07-b549-4c23-b2aa-d48828b6adea\" xlink:show=\"new\" xlink:title=\"psysml:d75b3c07-b549-4c23-b2aa-d48828b6adea\" xlink:type=\"simple\"><rect fill=\"#FFFFFF\" height=\"193\" id=\"E1\" style=\"stroke: #383838; stroke-width: 1.5;\" width=\"187\" x=\"7\" y=\"7\"/><rect fill=\"#F8F8F8\" height=\"37.9375\" style=\"stroke: #383838; stroke-width: 1.5;\" width=\"187\" x=\"7\" y=\"7\"/><text fill=\"#000000\" font-family=\"sans-serif\" font-size=\"12\" font-style=\"italic\" lengthAdjust=\"spacingAndGlyphs\" textLength=\"77\" x=\"62\" y=\"23.1387\">«action def»</text><text fill=\"#000000\" font-family=\"sans-serif\" font-size=\"12\" lengthAdjust=\"spacingAndGlyphs\" textLength=\"105\" x=\"48\" y=\"37.1074\">ControlNodeTest</text></a><rect fill=\"#000000\" height=\"8\" style=\"stroke: none; stroke-width: 1.0;\" width=\"80\" x=\"60\" y=\"109\"/><rect fill=\"#000000\" height=\"8\" style=\"stroke: none; stroke-width: 1.0;\" width=\"80\" x=\"60\" y=\"125\"/><g id=\"E1.E2\"><a href=\"psysml:c07d7274-d0ac-44b0-95a3-e3c0562da237\" target=\"_top\" title=\"psysml:c07d7274-d0ac-44b0-95a3-e3c0562da237\" xlink:actuate=\"onRequest\" xlink:href=\"psysml:c07d7274-d0ac-44b0-95a3-e3c0562da237\" xlink:show=\"new\" xlink:title=\"psysml:c07d7274-d0ac-44b0-95a3-e3c0562da237\" xlink:type=\"simple\"><rect fill=\"#FFFFFF\" height=\"42.9375\" id=\"E2\" rx=\"10\" ry=\"10\" style=\"stroke: #383838; stroke-width: 1.5;\" width=\"60\" x=\"118\" y=\"58\"/><rect fill=\"#F8F8F8\" height=\"37.9375\" rx=\"10\" ry=\"10\" style=\"stroke: #F8F8F8; stroke-width: 1.5;\" width=\"60\" x=\"118\" y=\"58\"/><rect fill=\"#F8F8F8\" height=\"10\" style=\"stroke: #F8F8F8; stroke-width: 1.5;\" width=\"60\" x=\"118\" y=\"85.9375\"/><rect fill=\"none\" height=\"42.9375\" id=\"E2\" rx=\"10\" ry=\"10\" style=\"stroke: #383838; stroke-width: 1.5;\" width=\"60\" x=\"118\" y=\"58\"/><text fill=\"#000000\" font-family=\"sans-serif\" font-size=\"12\" font-style=\"italic\" lengthAdjust=\"spacingAndGlyphs\" textLength=\"53\" x=\"121.5\" y=\"74.1387\">«action»</text><text fill=\"#000000\" font-family=\"sans-serif\" font-size=\"12\" lengthAdjust=\"spacingAndGlyphs\" textLength=\"16\" x=\"140\" y=\"88.1074\">A1</text></a></g><g id=\"E1.E3\"><a href=\"psysml:7bb05ae1-d1dd-4ff0-97ee-ce3344a0751d\" target=\"_top\" title=\"psysml:7bb05ae1-d1dd-4ff0-97ee-ce3344a0751d\" xlink:actuate=\"onRequest\" xlink:href=\"psysml:7bb05ae1-d1dd-4ff0-97ee-ce3344a0751d\" xlink:show=\"new\" xlink:title=\"psysml:7bb05ae1-d1dd-4ff0-97ee-ce3344a0751d\" xlink:type=\"simple\"><rect fill=\"#FFFFFF\" height=\"42.9375\" id=\"E3\" rx=\"10\" ry=\"10\" style=\"stroke: #383838; stroke-width: 1.5;\" width=\"60\" x=\"23\" y=\"58\"/><rect fill=\"#F8F8F8\" height=\"37.9375\" rx=\"10\" ry=\"10\" style=\"stroke: #F8F8F8; stroke-width: 1.5;\" width=\"60\" x=\"23\" y=\"58\"/><rect fill=\"#F8F8F8\" height=\"10\" style=\"stroke: #F8F8F8; stroke-width: 1.5;\" width=\"60\" x=\"23\" y=\"85.9375\"/><rect fill=\"none\" height=\"42.9375\" id=\"E3\" rx=\"10\" ry=\"10\" style=\"stroke: #383838; stroke-width: 1.5;\" width=\"60\" x=\"23\" y=\"58\"/><text fill=\"#000000\" font-family=\"sans-serif\" font-size=\"12\" font-style=\"italic\" lengthAdjust=\"spacingAndGlyphs\" textLength=\"53\" x=\"26.5\" y=\"74.1387\">«action»</text><text fill=\"#000000\" font-family=\"sans-serif\" font-size=\"12\" lengthAdjust=\"spacingAndGlyphs\" textLength=\"16\" x=\"45\" y=\"88.1074\">A2</text></a></g><g id=\"E1.E6\"><a href=\"psysml:d5fd7944-a8f1-4c67-81d3-da10d551f750\" target=\"_top\" title=\"psysml:d5fd7944-a8f1-4c67-81d3-da10d551f750\" xlink:actuate=\"onRequest\" xlink:href=\"psysml:d5fd7944-a8f1-4c67-81d3-da10d551f750\" xlink:show=\"new\" xlink:title=\"psysml:d5fd7944-a8f1-4c67-81d3-da10d551f750\" xlink:type=\"simple\"><rect fill=\"#FFFFFF\" height=\"42.9375\" id=\"E6\" rx=\"10\" ry=\"10\" style=\"stroke: #383838; stroke-width: 1.5;\" width=\"60\" x=\"23\" y=\"141\"/><rect fill=\"#F8F8F8\" height=\"37.9375\" rx=\"10\" ry=\"10\" style=\"stroke: #F8F8F8; stroke-width: 1.5;\" width=\"60\" x=\"23\" y=\"141\"/><rect fill=\"#F8F8F8\" height=\"10\" style=\"stroke: #F8F8F8; stroke-width: 1.5;\" width=\"60\" x=\"23\" y=\"168.9375\"/><rect fill=\"none\" height=\"42.9375\" id=\"E6\" rx=\"10\" ry=\"10\" style=\"stroke: #383838; stroke-width: 1.5;\" width=\"60\" x=\"23\" y=\"141\"/><text fill=\"#000000\" font-family=\"sans-serif\" font-size=\"12\" font-style=\"italic\" lengthAdjust=\"spacingAndGlyphs\" textLength=\"53\" x=\"26.5\" y=\"157.1387\">«action»</text><text fill=\"#000000\" font-family=\"sans-serif\" font-size=\"12\" lengthAdjust=\"spacingAndGlyphs\" textLength=\"16\" x=\"45\" y=\"171.1074\">B1</text></a></g><g id=\"E1.E7\"><a href=\"psysml:b7d3ffe5-6bb9-4232-a5c3-5eafb8d0b5f9\" target=\"_top\" title=\"psysml:b7d3ffe5-6bb9-4232-a5c3-5eafb8d0b5f9\" xlink:actuate=\"onRequest\" xlink:href=\"psysml:b7d3ffe5-6bb9-4232-a5c3-5eafb8d0b5f9\" xlink:show=\"new\" xlink:title=\"psysml:b7d3ffe5-6bb9-4232-a5c3-5eafb8d0b5f9\" xlink:type=\"simple\"><rect fill=\"#FFFFFF\" height=\"42.9375\" id=\"E7\" rx=\"10\" ry=\"10\" style=\"stroke: #383838; stroke-width: 1.5;\" width=\"60\" x=\"118\" y=\"141\"/><rect fill=\"#F8F8F8\" height=\"37.9375\" rx=\"10\" ry=\"10\" style=\"stroke: #F8F8F8; stroke-width: 1.5;\" width=\"60\" x=\"118\" y=\"141\"/><rect fill=\"#F8F8F8\" height=\"10\" style=\"stroke: #F8F8F8; stroke-width: 1.5;\" width=\"60\" x=\"118\" y=\"168.9375\"/><rect fill=\"none\" height=\"42.9375\" id=\"E7\" rx=\"10\" ry=\"10\" style=\"stroke: #383838; stroke-width: 1.5;\" width=\"60\" x=\"118\" y=\"141\"/><text fill=\"#000000\" font-family=\"sans-serif\" font-size=\"12\" font-style=\"italic\" lengthAdjust=\"spacingAndGlyphs\" textLength=\"53\" x=\"121.5\" y=\"157.1387\">«action»</text><text fill=\"#000000\" font-family=\"sans-serif\" font-size=\"12\" lengthAdjust=\"spacingAndGlyphs\" textLength=\"16\" x=\"140\" y=\"171.1074\">B2</text></a></g><!--MD5=[4d03bb2d0377dc85ccfab60ff574652b]\n",
       "link E2 to E4--><a href=\"psysml:a5b917a3-7538-4e28-aa62-755107929dae\" target=\"_top\" title=\"psysml:a5b917a3-7538-4e28-aa62-755107929dae\" xlink:actuate=\"onRequest\" xlink:href=\"psysml:a5b917a3-7538-4e28-aa62-755107929dae\" xlink:show=\"new\" xlink:title=\"psysml:a5b917a3-7538-4e28-aa62-755107929dae\" xlink:type=\"simple\"><path d=\"M117.87,100.27 C114.67,102.37 111.63,104.37 108.98,106.1 \" fill=\"none\" id=\"E2-&gt;E4\" style=\"stroke: #383838; stroke-width: 1.0; stroke-dasharray: 7.0,7.0;\"/><polygon fill=\"#383838\" points=\"104.72,108.9,114.4401,107.3128,108.9021,106.1595,110.0554,100.6215,104.72,108.9\" style=\"stroke: #383838; stroke-width: 1.0;\"/></a><!--MD5=[af87c684e3b0d8be13c1a698a818ef1e]\n",
       "link E3 to E4--><a href=\"psysml:b67a9087-1129-4a2e-aba3-334d88c3cbf2\" target=\"_top\" title=\"psysml:b67a9087-1129-4a2e-aba3-334d88c3cbf2\" xlink:actuate=\"onRequest\" xlink:href=\"psysml:b67a9087-1129-4a2e-aba3-334d88c3cbf2\" xlink:show=\"new\" xlink:title=\"psysml:b67a9087-1129-4a2e-aba3-334d88c3cbf2\" xlink:type=\"simple\"><path d=\"M83.03,100.63 C85.85,102.52 88.54,104.32 90.9,105.9 \" fill=\"none\" id=\"E3-&gt;E4\" style=\"stroke: #383838; stroke-width: 1.0; stroke-dasharray: 7.0,7.0;\"/><polygon fill=\"#383838\" points=\"95.26,108.82,90.0101,100.487,91.1063,106.0366,85.5567,107.1328,95.26,108.82\" style=\"stroke: #383838; stroke-width: 1.0;\"/></a><!--MD5=[1b7591eae5389033d8d09a9d6721a717]\n",
       "link E4 to E5--><a href=\"psysml:9a17080e-ae46-40d4-b989-796f716175e4\" target=\"_top\" title=\"psysml:9a17080e-ae46-40d4-b989-796f716175e4\" xlink:actuate=\"onRequest\" xlink:href=\"psysml:9a17080e-ae46-40d4-b989-796f716175e4\" xlink:show=\"new\" xlink:title=\"psysml:9a17080e-ae46-40d4-b989-796f716175e4\" xlink:type=\"simple\"><path d=\"M100,117.25 C100,118.05 100,118.94 100,119.86 \" fill=\"none\" id=\"E4-&gt;E5\" style=\"stroke: #383838; stroke-width: 1.0; stroke-dasharray: 7.0,7.0;\"/><polygon fill=\"#383838\" points=\"100,124.96,104,115.96,100,119.96,96,115.96,100,124.96\" style=\"stroke: #383838; stroke-width: 1.0;\"/></a><!--MD5=[9120cf2e5df3bff93db8f754bbbc09b4]\n",
       "link E5 to E6--><a href=\"psysml:197b427e-ad07-4e53-856c-ed2b1bc0e06a\" target=\"_top\" title=\"psysml:197b427e-ad07-4e53-856c-ed2b1bc0e06a\" xlink:actuate=\"onRequest\" xlink:href=\"psysml:197b427e-ad07-4e53-856c-ed2b1bc0e06a\" xlink:show=\"new\" xlink:title=\"psysml:197b427e-ad07-4e53-856c-ed2b1bc0e06a\" xlink:type=\"simple\"><path d=\"M95.32,133.14 C93.21,134.55 90.52,136.35 87.53,138.36 \" fill=\"none\" id=\"E5-&gt;E6\" style=\"stroke: #383838; stroke-width: 1.0; stroke-dasharray: 7.0,7.0;\"/><polygon fill=\"#383838\" points=\"83.27,141.21,92.9706,139.5074,87.4192,138.42,88.5066,132.8687,83.27,141.21\" style=\"stroke: #383838; stroke-width: 1.0;\"/></a><!--MD5=[3a9b96bfbf6b6ad89c494e81751bda47]\n",
       "link E5 to E7--><a href=\"psysml:b67e977c-71d2-45f4-9959-07a509bb3c26\" target=\"_top\" title=\"psysml:b67e977c-71d2-45f4-9959-07a509bb3c26\" xlink:actuate=\"onRequest\" xlink:href=\"psysml:b67e977c-71d2-45f4-9959-07a509bb3c26\" xlink:show=\"new\" xlink:title=\"psysml:b67e977c-71d2-45f4-9959-07a509bb3c26\" xlink:type=\"simple\"><path d=\"M104.78,133.14 C107.16,134.7 110.28,136.75 113.75,139.02 \" fill=\"none\" id=\"E5-&gt;E7\" style=\"stroke: #383838; stroke-width: 1.0; stroke-dasharray: 7.0,7.0;\"/><polygon fill=\"#383838\" points=\"117.96,141.79,112.6246,133.5115,113.7779,139.0495,108.2399,140.2028,117.96,141.79\" style=\"stroke: #383838; stroke-width: 1.0;\"/></a><!--MD5=[3ab6cd37ad506d5a33e3bff5129f4d93]\n",
       "@startuml\r\n",
       "skinparam ranksep 8\r\n",
       "top to bottom direction\r\n",
       "skinparam monochrome true\r\n",
       "skinparam classbackgroundcolor white\r\n",
       "skinparam shadowing false\r\n",
       "skinparam wrapWidth 300\r\n",
       "hide circle\r\n",
       "\r\n",
       "rec def \"ControlNodeTest\" as E1  <<(T,blue) action def>> [[psysml:d75b3c07-b549-4c23-b2aa-d48828b6adea ]] {\r\n",
       "rec usage \"A1\" as E2  <<(T,blue) action>> [[psysml:c07d7274-d0ac-44b0-95a3-e3c0562da237 ]] {\r\n",
       "}\r\n",
       "\r\n",
       "rec usage \"A2\" as E3  <<(T,blue) action>> [[psysml:7bb05ae1-d1dd-4ff0-97ee-ce3344a0751d ]] {\r\n",
       "}\r\n",
       "\r\n",
       "join \"J\" as E4  [[psysml:f3bfce16-3667-4a48-a42e-fd992fa328bf ]] \r\n",
       "fork \"F\" as E5  [[psysml:08c848ef-d5ea-4388-acb9-5b8d01347f10 ]] \r\n",
       "rec usage \"B1\" as E6  <<(T,blue) action>> [[psysml:d5fd7944-a8f1-4c67-81d3-da10d551f750 ]] {\r\n",
       "}\r\n",
       "\r\n",
       "rec usage \"B2\" as E7  <<(T,blue) action>> [[psysml:b7d3ffe5-6bb9-4232-a5c3-5eafb8d0b5f9 ]] {\r\n",
       "}\r\n",
       "\r\n",
       "}\r\n",
       "\r\n",
       "E2 ..> E4 [[psysml:a5b917a3-7538-4e28-aa62-755107929dae ]] \r\n",
       "E3 ..> E4 [[psysml:b67a9087-1129-4a2e-aba3-334d88c3cbf2 ]] \r\n",
       "E4 ..> E5 [[psysml:9a17080e-ae46-40d4-b989-796f716175e4 ]] \r\n",
       "E5 ..> E6 [[psysml:197b427e-ad07-4e53-856c-ed2b1bc0e06a ]] \r\n",
       "E5 ..> E7 [[psysml:b67e977c-71d2-45f4-9959-07a509bb3c26 ]] \r\n",
       "@enduml\r\n",
       "\n",
       "PlantUML version 1.2020.13(Sat Jun 13 12:26:38 UTC 2020)\n",
       "(EPL source distribution)\n",
       "Java Runtime: OpenJDK Runtime Environment\n",
       "JVM: OpenJDK 64-Bit Server VM\n",
       "Default Encoding: UTF-8\n",
       "Language: en\n",
       "Country: null\n",
       "--></g></svg>"
      ]
     },
     "execution_count": 48,
     "metadata": {},
     "output_type": "execute_result"
    }
   ],
   "source": [
    "%viz --style=\"TB\" --view=\"Action\" \"ControlNodeTest\""
   ]
  },
  {
   "cell_type": "code",
   "execution_count": 49,
   "id": "f2ec4791",
   "metadata": {
    "execution": {
     "iopub.execute_input": "2021-08-04T06:26:32.581463Z",
     "iopub.status.busy": "2021-08-04T06:26:32.581046Z",
     "iopub.status.idle": "2021-08-04T06:26:32.608858Z",
     "shell.execute_reply": "2021-08-04T06:26:32.609168Z"
    }
   },
   "outputs": [
    {
     "data": {
      "image/svg+xml": [
       "<?xml version=\"1.0\" encoding=\"UTF-8\" standalone=\"no\"?><svg xmlns=\"http://www.w3.org/2000/svg\" xmlns:xlink=\"http://www.w3.org/1999/xlink\" contentScriptType=\"application/ecmascript\" contentStyleType=\"text/css\" height=\"169px\" preserveAspectRatio=\"none\" style=\"width:557px;height:169px;\" version=\"1.1\" viewBox=\"0 0 557 169\" width=\"557px\" zoomAndPan=\"magnify\"><defs/><g><!--MD5=[43c9051892ef23e1a46a86907403d788]\n",
       "class E1--><a href=\"psysml:d75b3c07-b549-4c23-b2aa-d48828b6adea\" target=\"_top\" title=\"psysml:d75b3c07-b549-4c23-b2aa-d48828b6adea\" xlink:actuate=\"onRequest\" xlink:href=\"psysml:d75b3c07-b549-4c23-b2aa-d48828b6adea\" xlink:show=\"new\" xlink:title=\"psysml:d75b3c07-b549-4c23-b2aa-d48828b6adea\" xlink:type=\"simple\"><rect fill=\"#FFFFFF\" height=\"45.9375\" id=\"E1\" style=\"stroke: #383838; stroke-width: 1.5;\" width=\"111\" x=\"220\" y=\"7\"/><text fill=\"#000000\" font-family=\"sans-serif\" font-size=\"12\" font-style=\"italic\" lengthAdjust=\"spacingAndGlyphs\" textLength=\"77\" x=\"237\" y=\"23.1387\">«action def»</text><text fill=\"#000000\" font-family=\"sans-serif\" font-size=\"12\" lengthAdjust=\"spacingAndGlyphs\" textLength=\"105\" x=\"223\" y=\"37.1074\">ControlNodeTest</text><line style=\"stroke: #383838; stroke-width: 1.5;\" x1=\"221\" x2=\"330\" y1=\"44.9375\" y2=\"44.9375\"/></a><!--MD5=[b4997ac47864f28c2f74865a473b2911]\n",
       "class E2--><a href=\"psysml:c07d7274-d0ac-44b0-95a3-e3c0562da237\" target=\"_top\" title=\"psysml:c07d7274-d0ac-44b0-95a3-e3c0562da237\" xlink:actuate=\"onRequest\" xlink:href=\"psysml:c07d7274-d0ac-44b0-95a3-e3c0562da237\" xlink:show=\"new\" xlink:title=\"psysml:c07d7274-d0ac-44b0-95a3-e3c0562da237\" xlink:type=\"simple\"><rect fill=\"#FFFFFF\" height=\"45.9375\" id=\"E2\" rx=\"10\" ry=\"10\" style=\"stroke: #383838; stroke-width: 1.5;\" width=\"55\" x=\"7\" y=\"113\"/><text fill=\"#000000\" font-family=\"sans-serif\" font-size=\"12\" font-style=\"italic\" lengthAdjust=\"spacingAndGlyphs\" textLength=\"53\" x=\"8\" y=\"129.1387\">«action»</text><text fill=\"#000000\" font-family=\"sans-serif\" font-size=\"12\" lengthAdjust=\"spacingAndGlyphs\" textLength=\"16\" x=\"26.5\" y=\"143.1074\">A1</text><line style=\"stroke: #383838; stroke-width: 1.5;\" x1=\"8\" x2=\"61\" y1=\"150.9375\" y2=\"150.9375\"/></a><!--MD5=[09b614a08d8cba4a07c9adeb5e0fee81]\n",
       "class E3--><a href=\"psysml:7bb05ae1-d1dd-4ff0-97ee-ce3344a0751d\" target=\"_top\" title=\"psysml:7bb05ae1-d1dd-4ff0-97ee-ce3344a0751d\" xlink:actuate=\"onRequest\" xlink:href=\"psysml:7bb05ae1-d1dd-4ff0-97ee-ce3344a0751d\" xlink:show=\"new\" xlink:title=\"psysml:7bb05ae1-d1dd-4ff0-97ee-ce3344a0751d\" xlink:type=\"simple\"><rect fill=\"#FFFFFF\" height=\"45.9375\" id=\"E3\" rx=\"10\" ry=\"10\" style=\"stroke: #383838; stroke-width: 1.5;\" width=\"55\" x=\"97\" y=\"113\"/><text fill=\"#000000\" font-family=\"sans-serif\" font-size=\"12\" font-style=\"italic\" lengthAdjust=\"spacingAndGlyphs\" textLength=\"53\" x=\"98\" y=\"129.1387\">«action»</text><text fill=\"#000000\" font-family=\"sans-serif\" font-size=\"12\" lengthAdjust=\"spacingAndGlyphs\" textLength=\"16\" x=\"116.5\" y=\"143.1074\">A2</text><line style=\"stroke: #383838; stroke-width: 1.5;\" x1=\"98\" x2=\"151\" y1=\"150.9375\" y2=\"150.9375\"/></a><!--MD5=[ebbe1d658d1005bcc118a6aa81145e00]\n",
       "class E4--><a href=\"psysml:f3bfce16-3667-4a48-a42e-fd992fa328bf\" target=\"_top\" title=\"psysml:f3bfce16-3667-4a48-a42e-fd992fa328bf\" xlink:actuate=\"onRequest\" xlink:href=\"psysml:f3bfce16-3667-4a48-a42e-fd992fa328bf\" xlink:show=\"new\" xlink:title=\"psysml:f3bfce16-3667-4a48-a42e-fd992fa328bf\" xlink:type=\"simple\"><rect fill=\"#FFFFFF\" height=\"45.9375\" id=\"E4\" rx=\"10\" ry=\"10\" style=\"stroke: #383838; stroke-width: 1.5;\" width=\"71\" x=\"187\" y=\"113\"/><text fill=\"#000000\" font-family=\"sans-serif\" font-size=\"12\" font-style=\"italic\" lengthAdjust=\"spacingAndGlyphs\" textLength=\"69\" x=\"188\" y=\"129.1387\">«joinNode»</text><text fill=\"#000000\" font-family=\"sans-serif\" font-size=\"12\" lengthAdjust=\"spacingAndGlyphs\" textLength=\"3\" x=\"221\" y=\"143.1074\">J</text><line style=\"stroke: #383838; stroke-width: 1.5;\" x1=\"188\" x2=\"257\" y1=\"150.9375\" y2=\"150.9375\"/></a><!--MD5=[270fce915f116d4de14055a7c1d9a0f3]\n",
       "class E5--><a href=\"psysml:08c848ef-d5ea-4388-acb9-5b8d01347f10\" target=\"_top\" title=\"psysml:08c848ef-d5ea-4388-acb9-5b8d01347f10\" xlink:actuate=\"onRequest\" xlink:href=\"psysml:08c848ef-d5ea-4388-acb9-5b8d01347f10\" xlink:show=\"new\" xlink:title=\"psysml:08c848ef-d5ea-4388-acb9-5b8d01347f10\" xlink:type=\"simple\"><rect fill=\"#FFFFFF\" height=\"45.9375\" id=\"E5\" rx=\"10\" ry=\"10\" style=\"stroke: #383838; stroke-width: 1.5;\" width=\"73\" x=\"293\" y=\"113\"/><text fill=\"#000000\" font-family=\"sans-serif\" font-size=\"12\" font-style=\"italic\" lengthAdjust=\"spacingAndGlyphs\" textLength=\"71\" x=\"294\" y=\"129.1387\">«forkNode»</text><text fill=\"#000000\" font-family=\"sans-serif\" font-size=\"12\" lengthAdjust=\"spacingAndGlyphs\" textLength=\"7\" x=\"326\" y=\"143.1074\">F</text><line style=\"stroke: #383838; stroke-width: 1.5;\" x1=\"294\" x2=\"365\" y1=\"150.9375\" y2=\"150.9375\"/></a><!--MD5=[60a26617385b1d2d0262a64233df1f8d]\n",
       "class E6--><a href=\"psysml:d5fd7944-a8f1-4c67-81d3-da10d551f750\" target=\"_top\" title=\"psysml:d5fd7944-a8f1-4c67-81d3-da10d551f750\" xlink:actuate=\"onRequest\" xlink:href=\"psysml:d5fd7944-a8f1-4c67-81d3-da10d551f750\" xlink:show=\"new\" xlink:title=\"psysml:d5fd7944-a8f1-4c67-81d3-da10d551f750\" xlink:type=\"simple\"><rect fill=\"#FFFFFF\" height=\"45.9375\" id=\"E6\" rx=\"10\" ry=\"10\" style=\"stroke: #383838; stroke-width: 1.5;\" width=\"55\" x=\"401\" y=\"113\"/><text fill=\"#000000\" font-family=\"sans-serif\" font-size=\"12\" font-style=\"italic\" lengthAdjust=\"spacingAndGlyphs\" textLength=\"53\" x=\"402\" y=\"129.1387\">«action»</text><text fill=\"#000000\" font-family=\"sans-serif\" font-size=\"12\" lengthAdjust=\"spacingAndGlyphs\" textLength=\"16\" x=\"420.5\" y=\"143.1074\">B1</text><line style=\"stroke: #383838; stroke-width: 1.5;\" x1=\"402\" x2=\"455\" y1=\"150.9375\" y2=\"150.9375\"/></a><!--MD5=[2156ba9850f5573cc1fc38a6a4b2f02b]\n",
       "class E7--><a href=\"psysml:b7d3ffe5-6bb9-4232-a5c3-5eafb8d0b5f9\" target=\"_top\" title=\"psysml:b7d3ffe5-6bb9-4232-a5c3-5eafb8d0b5f9\" xlink:actuate=\"onRequest\" xlink:href=\"psysml:b7d3ffe5-6bb9-4232-a5c3-5eafb8d0b5f9\" xlink:show=\"new\" xlink:title=\"psysml:b7d3ffe5-6bb9-4232-a5c3-5eafb8d0b5f9\" xlink:type=\"simple\"><rect fill=\"#FFFFFF\" height=\"45.9375\" id=\"E7\" rx=\"10\" ry=\"10\" style=\"stroke: #383838; stroke-width: 1.5;\" width=\"55\" x=\"491\" y=\"113\"/><text fill=\"#000000\" font-family=\"sans-serif\" font-size=\"12\" font-style=\"italic\" lengthAdjust=\"spacingAndGlyphs\" textLength=\"53\" x=\"492\" y=\"129.1387\">«action»</text><text fill=\"#000000\" font-family=\"sans-serif\" font-size=\"12\" lengthAdjust=\"spacingAndGlyphs\" textLength=\"16\" x=\"510.5\" y=\"143.1074\">B2</text><line style=\"stroke: #383838; stroke-width: 1.5;\" x1=\"492\" x2=\"545\" y1=\"150.9375\" y2=\"150.9375\"/></a><!--MD5=[a523cb2a0b79ecf9065ad8783f96c320]\n",
       "reverse link E1 to E2--><a href=\"psysml:090da899-d633-4f68-ac70-93df987c1f89\" target=\"_top\" title=\"psysml:090da899-d633-4f68-ac70-93df987c1f89\" xlink:actuate=\"onRequest\" xlink:href=\"psysml:090da899-d633-4f68-ac70-93df987c1f89\" xlink:show=\"new\" xlink:title=\"psysml:090da899-d633-4f68-ac70-93df987c1f89\" xlink:type=\"simple\"><path d=\"M207.75,58.2 C169.81,73.72 121.76,93.85 79.5,113 C73.96,115.51 68.08,118.3 62.47,121.01 \" fill=\"none\" id=\"E1&lt;-E2\" style=\"stroke: #383838; stroke-width: 1.0;\"/><polygon fill=\"#383838\" points=\"220.21,53.12,213.1443,51.6791,209.0967,57.6471,216.1624,59.088,220.21,53.12\" style=\"stroke: #383838; stroke-width: 1.0;\"/><text fill=\"#000000\" font-family=\"sans-serif\" font-size=\"13\" lengthAdjust=\"spacingAndGlyphs\" textLength=\"7\" x=\"70.1408\" y=\"112.6188\">*</text></a><!--MD5=[5d7b3810b1dd9b5164bea1151b29b665]\n",
       "reverse link E1 to E3--><a href=\"psysml:797c4c3c-8cfb-4ed1-914f-99d654db3cec\" target=\"_top\" title=\"psysml:797c4c3c-8cfb-4ed1-914f-99d654db3cec\" xlink:actuate=\"onRequest\" xlink:href=\"psysml:797c4c3c-8cfb-4ed1-914f-99d654db3cec\" xlink:show=\"new\" xlink:title=\"psysml:797c4c3c-8cfb-4ed1-914f-99d654db3cec\" xlink:type=\"simple\"><path d=\"M232.52,60.6 C206.81,78.31 174.87,100.31 152.42,115.77 \" fill=\"none\" id=\"E1&lt;-E3\" style=\"stroke: #383838; stroke-width: 1.0;\"/><polygon fill=\"#383838\" points=\"243.48,53.06,236.2697,53.1655,233.5938,59.8617,240.8041,59.7562,243.48,53.06\" style=\"stroke: #383838; stroke-width: 1.0;\"/><text fill=\"#000000\" font-family=\"sans-serif\" font-size=\"13\" lengthAdjust=\"spacingAndGlyphs\" textLength=\"7\" x=\"160.0786\" y=\"106.1015\">*</text></a><!--MD5=[f2c5c03aa1e8c0ba21c10a05e6444b8e]\n",
       "reverse link E1 to E4--><a href=\"psysml:70a466ea-83ad-4e19-afa5-d192b13fd9c7\" target=\"_top\" title=\"psysml:70a466ea-83ad-4e19-afa5-d192b13fd9c7\" xlink:actuate=\"onRequest\" xlink:href=\"psysml:70a466ea-83ad-4e19-afa5-d192b13fd9c7\" xlink:show=\"new\" xlink:title=\"psysml:70a466ea-83ad-4e19-afa5-d192b13fd9c7\" xlink:type=\"simple\"><path d=\"M258.16,65.03 C250.13,80.78 240.82,99.06 233.72,112.98 \" fill=\"none\" id=\"E1&lt;-E4\" style=\"stroke: #383838; stroke-width: 1.0;\"/><polygon fill=\"#383838\" points=\"264.26,53.06,257.9728,56.5915,258.8145,63.7533,265.1017,60.2218,264.26,53.06\" style=\"stroke: #383838; stroke-width: 1.0;\"/></a><!--MD5=[33238bef88d6431a141d8bc8fb12bca0]\n",
       "reverse link E1 to E5--><a href=\"psysml:26253911-6243-446d-b791-23c0e42b91a5\" target=\"_top\" title=\"psysml:26253911-6243-446d-b791-23c0e42b91a5\" xlink:actuate=\"onRequest\" xlink:href=\"psysml:26253911-6243-446d-b791-23c0e42b91a5\" xlink:show=\"new\" xlink:title=\"psysml:26253911-6243-446d-b791-23c0e42b91a5\" xlink:type=\"simple\"><path d=\"M293.17,65.03 C301.35,80.78 310.84,99.06 318.06,112.98 \" fill=\"none\" id=\"E1&lt;-E5\" style=\"stroke: #383838; stroke-width: 1.0;\"/><polygon fill=\"#383838\" points=\"286.95,53.06,286.1611,60.2278,292.4742,63.7129,293.263,56.545,286.95,53.06\" style=\"stroke: #383838; stroke-width: 1.0;\"/></a><!--MD5=[aca2ef284c2b1b90e17e73bf3f292c07]\n",
       "reverse link E1 to E6--><a href=\"psysml:e8354a48-cb93-46c3-a69e-19a4acf29f71\" target=\"_top\" title=\"psysml:e8354a48-cb93-46c3-a69e-19a4acf29f71\" xlink:actuate=\"onRequest\" xlink:href=\"psysml:e8354a48-cb93-46c3-a69e-19a4acf29f71\" xlink:show=\"new\" xlink:title=\"psysml:e8354a48-cb93-46c3-a69e-19a4acf29f71\" xlink:type=\"simple\"><path d=\"M318.77,60.41 C345.06,78.28 377.86,100.58 400.72,116.11 \" fill=\"none\" id=\"E1&lt;-E6\" style=\"stroke: #383838; stroke-width: 1.0;\"/><polygon fill=\"#383838\" points=\"307.95,53.06,310.6626,59.7415,317.8734,59.8074,315.1608,53.1259,307.95,53.06\" style=\"stroke: #383838; stroke-width: 1.0;\"/><text fill=\"#000000\" font-family=\"sans-serif\" font-size=\"13\" lengthAdjust=\"spacingAndGlyphs\" textLength=\"7\" x=\"386.0955\" y=\"106.5244\">*</text></a><!--MD5=[fc9706a6b2cf8c0e423679d303750d3f]\n",
       "reverse link E1 to E7--><a href=\"psysml:8dca6daf-962f-46a3-bb74-22037bd04295\" target=\"_top\" title=\"psysml:8dca6daf-962f-46a3-bb74-22037bd04295\" xlink:actuate=\"onRequest\" xlink:href=\"psysml:8dca6daf-962f-46a3-bb74-22037bd04295\" xlink:show=\"new\" xlink:title=\"psysml:8dca6daf-962f-46a3-bb74-22037bd04295\" xlink:type=\"simple\"><path d=\"M343.46,57.93 C381.88,73.46 430.65,93.68 473.5,113 C479.05,115.5 484.93,118.28 490.54,121 \" fill=\"none\" id=\"E1&lt;-E7\" style=\"stroke: #383838; stroke-width: 1.0;\"/><polygon fill=\"#383838\" points=\"331.37,53.06,335.4407,59.0122,342.5008,57.544,338.43,51.5917,331.37,53.06\" style=\"stroke: #383838; stroke-width: 1.0;\"/><text fill=\"#000000\" font-family=\"sans-serif\" font-size=\"13\" lengthAdjust=\"spacingAndGlyphs\" textLength=\"7\" x=\"475.8716\" y=\"112.6063\">*</text></a><!--MD5=[c52a436fc87ad5fa6e7b1c9de74036be]\n",
       "@startuml\r\n",
       "top to bottom direction\r\n",
       "skinparam monochrome true\r\n",
       "skinparam classbackgroundcolor white\r\n",
       "skinparam shadowing false\r\n",
       "skinparam wrapWidth 300\r\n",
       "hide circle\r\n",
       "\r\n",
       "comp def \"ControlNodeTest\" as E1  <<(T,blue) action def>> [[psysml:d75b3c07-b549-4c23-b2aa-d48828b6adea ]] {\r\n",
       "}\r\n",
       "comp usage \"A1\" as E2  <<(T,blue) action>> [[psysml:c07d7274-d0ac-44b0-95a3-e3c0562da237 ]] {\r\n",
       "}\r\n",
       "comp usage \"A2\" as E3  <<(T,blue) action>> [[psysml:7bb05ae1-d1dd-4ff0-97ee-ce3344a0751d ]] {\r\n",
       "}\r\n",
       "comp usage \"J\" as E4  <<(T,blue) joinNode>> [[psysml:f3bfce16-3667-4a48-a42e-fd992fa328bf ]] {\r\n",
       "}\r\n",
       "comp usage \"F\" as E5  <<(T,blue) forkNode>> [[psysml:08c848ef-d5ea-4388-acb9-5b8d01347f10 ]] {\r\n",
       "}\r\n",
       "comp usage \"B1\" as E6  <<(T,blue) action>> [[psysml:d5fd7944-a8f1-4c67-81d3-da10d551f750 ]] {\r\n",
       "}\r\n",
       "comp usage \"B2\" as E7  <<(T,blue) action>> [[psysml:b7d3ffe5-6bb9-4232-a5c3-5eafb8d0b5f9 ]] {\r\n",
       "}\r\n",
       "E1 *- - \"*\"E2 [[psysml:090da899-d633-4f68-ac70-93df987c1f89 ]] \r\n",
       "E1 *- - \"*\"E3 [[psysml:797c4c3c-8cfb-4ed1-914f-99d654db3cec ]] \r\n",
       "E1 *- - E4 [[psysml:70a466ea-83ad-4e19-afa5-d192b13fd9c7 ]] \r\n",
       "E1 *- - E5 [[psysml:26253911-6243-446d-b791-23c0e42b91a5 ]] \r\n",
       "E1 *- - \"*\"E6 [[psysml:e8354a48-cb93-46c3-a69e-19a4acf29f71 ]] \r\n",
       "E1 *- - \"*\"E7 [[psysml:8dca6daf-962f-46a3-bb74-22037bd04295 ]] \r\n",
       "@enduml\r\n",
       "\n",
       "PlantUML version 1.2020.13(Sat Jun 13 12:26:38 UTC 2020)\n",
       "(EPL source distribution)\n",
       "Java Runtime: OpenJDK Runtime Environment\n",
       "JVM: OpenJDK 64-Bit Server VM\n",
       "Default Encoding: UTF-8\n",
       "Language: en\n",
       "Country: null\n",
       "--></g></svg>"
      ]
     },
     "execution_count": 49,
     "metadata": {},
     "output_type": "execute_result"
    }
   ],
   "source": [
    "%viz --style=\"TB\" --view=\"Sequence\" \"ControlNodeTest\""
   ]
  },
  {
   "cell_type": "code",
   "execution_count": 50,
   "id": "6f8dd9b1",
   "metadata": {
    "execution": {
     "iopub.execute_input": "2021-08-04T06:26:32.659075Z",
     "iopub.status.busy": "2021-08-04T06:26:32.658688Z",
     "iopub.status.idle": "2021-08-04T06:26:32.685600Z",
     "shell.execute_reply": "2021-08-04T06:26:32.685253Z"
    }
   },
   "outputs": [
    {
     "data": {
      "image/svg+xml": [
       "<?xml version=\"1.0\" encoding=\"UTF-8\" standalone=\"no\"?><svg xmlns=\"http://www.w3.org/2000/svg\" xmlns:xlink=\"http://www.w3.org/1999/xlink\" contentScriptType=\"application/ecmascript\" contentStyleType=\"text/css\" height=\"367px\" preserveAspectRatio=\"none\" style=\"width:205px;height:367px;\" version=\"1.1\" viewBox=\"0 0 205 367\" width=\"205px\" zoomAndPan=\"magnify\"><defs/><g><!--MD5=[fbc87193dbaf4d95561dea2c320d4a47]\n",
       "cluster E1--><a href=\"psysml:d75b3c07-b549-4c23-b2aa-d48828b6adea\" target=\"_top\" title=\"psysml:d75b3c07-b549-4c23-b2aa-d48828b6adea\" xlink:actuate=\"onRequest\" xlink:href=\"psysml:d75b3c07-b549-4c23-b2aa-d48828b6adea\" xlink:show=\"new\" xlink:title=\"psysml:d75b3c07-b549-4c23-b2aa-d48828b6adea\" xlink:type=\"simple\"><rect fill=\"#FFFFFF\" height=\"349\" id=\"E1\" style=\"stroke: #383838; stroke-width: 1.5;\" width=\"187\" x=\"7\" y=\"7\"/><rect fill=\"#F8F8F8\" height=\"37.9375\" style=\"stroke: #383838; stroke-width: 1.5;\" width=\"187\" x=\"7\" y=\"7\"/><text fill=\"#000000\" font-family=\"sans-serif\" font-size=\"12\" font-style=\"italic\" lengthAdjust=\"spacingAndGlyphs\" textLength=\"77\" x=\"62\" y=\"23.1387\">«action def»</text><text fill=\"#000000\" font-family=\"sans-serif\" font-size=\"12\" lengthAdjust=\"spacingAndGlyphs\" textLength=\"105\" x=\"48\" y=\"37.1074\">ControlNodeTest</text></a><rect fill=\"#000000\" height=\"8\" style=\"stroke: none; stroke-width: 1.0;\" width=\"80\" x=\"60\" y=\"161\"/><rect fill=\"#000000\" height=\"8\" style=\"stroke: none; stroke-width: 1.0;\" width=\"80\" x=\"60\" y=\"229\"/><g id=\"E1.E2\"><a href=\"psysml:c07d7274-d0ac-44b0-95a3-e3c0562da237\" target=\"_top\" title=\"psysml:c07d7274-d0ac-44b0-95a3-e3c0562da237\" xlink:actuate=\"onRequest\" xlink:href=\"psysml:c07d7274-d0ac-44b0-95a3-e3c0562da237\" xlink:show=\"new\" xlink:title=\"psysml:c07d7274-d0ac-44b0-95a3-e3c0562da237\" xlink:type=\"simple\"><rect fill=\"#FFFFFF\" height=\"42.9375\" id=\"E2\" rx=\"10\" ry=\"10\" style=\"stroke: #383838; stroke-width: 1.5;\" width=\"60\" x=\"118\" y=\"58\"/><rect fill=\"#F8F8F8\" height=\"37.9375\" rx=\"10\" ry=\"10\" style=\"stroke: #F8F8F8; stroke-width: 1.5;\" width=\"60\" x=\"118\" y=\"58\"/><rect fill=\"#F8F8F8\" height=\"10\" style=\"stroke: #F8F8F8; stroke-width: 1.5;\" width=\"60\" x=\"118\" y=\"85.9375\"/><rect fill=\"none\" height=\"42.9375\" id=\"E2\" rx=\"10\" ry=\"10\" style=\"stroke: #383838; stroke-width: 1.5;\" width=\"60\" x=\"118\" y=\"58\"/><text fill=\"#000000\" font-family=\"sans-serif\" font-size=\"12\" font-style=\"italic\" lengthAdjust=\"spacingAndGlyphs\" textLength=\"53\" x=\"121.5\" y=\"74.1387\">«action»</text><text fill=\"#000000\" font-family=\"sans-serif\" font-size=\"12\" lengthAdjust=\"spacingAndGlyphs\" textLength=\"16\" x=\"140\" y=\"88.1074\">A1</text></a></g><g id=\"E1.E3\"><a href=\"psysml:7bb05ae1-d1dd-4ff0-97ee-ce3344a0751d\" target=\"_top\" title=\"psysml:7bb05ae1-d1dd-4ff0-97ee-ce3344a0751d\" xlink:actuate=\"onRequest\" xlink:href=\"psysml:7bb05ae1-d1dd-4ff0-97ee-ce3344a0751d\" xlink:show=\"new\" xlink:title=\"psysml:7bb05ae1-d1dd-4ff0-97ee-ce3344a0751d\" xlink:type=\"simple\"><rect fill=\"#FFFFFF\" height=\"42.9375\" id=\"E3\" rx=\"10\" ry=\"10\" style=\"stroke: #383838; stroke-width: 1.5;\" width=\"60\" x=\"23\" y=\"58\"/><rect fill=\"#F8F8F8\" height=\"37.9375\" rx=\"10\" ry=\"10\" style=\"stroke: #F8F8F8; stroke-width: 1.5;\" width=\"60\" x=\"23\" y=\"58\"/><rect fill=\"#F8F8F8\" height=\"10\" style=\"stroke: #F8F8F8; stroke-width: 1.5;\" width=\"60\" x=\"23\" y=\"85.9375\"/><rect fill=\"none\" height=\"42.9375\" id=\"E3\" rx=\"10\" ry=\"10\" style=\"stroke: #383838; stroke-width: 1.5;\" width=\"60\" x=\"23\" y=\"58\"/><text fill=\"#000000\" font-family=\"sans-serif\" font-size=\"12\" font-style=\"italic\" lengthAdjust=\"spacingAndGlyphs\" textLength=\"53\" x=\"26.5\" y=\"74.1387\">«action»</text><text fill=\"#000000\" font-family=\"sans-serif\" font-size=\"12\" lengthAdjust=\"spacingAndGlyphs\" textLength=\"16\" x=\"45\" y=\"88.1074\">A2</text></a></g><g id=\"E1.E6\"><a href=\"psysml:d5fd7944-a8f1-4c67-81d3-da10d551f750\" target=\"_top\" title=\"psysml:d5fd7944-a8f1-4c67-81d3-da10d551f750\" xlink:actuate=\"onRequest\" xlink:href=\"psysml:d5fd7944-a8f1-4c67-81d3-da10d551f750\" xlink:show=\"new\" xlink:title=\"psysml:d5fd7944-a8f1-4c67-81d3-da10d551f750\" xlink:type=\"simple\"><rect fill=\"#FFFFFF\" height=\"42.9375\" id=\"E6\" rx=\"10\" ry=\"10\" style=\"stroke: #383838; stroke-width: 1.5;\" width=\"60\" x=\"23\" y=\"297\"/><rect fill=\"#F8F8F8\" height=\"37.9375\" rx=\"10\" ry=\"10\" style=\"stroke: #F8F8F8; stroke-width: 1.5;\" width=\"60\" x=\"23\" y=\"297\"/><rect fill=\"#F8F8F8\" height=\"10\" style=\"stroke: #F8F8F8; stroke-width: 1.5;\" width=\"60\" x=\"23\" y=\"324.9375\"/><rect fill=\"none\" height=\"42.9375\" id=\"E6\" rx=\"10\" ry=\"10\" style=\"stroke: #383838; stroke-width: 1.5;\" width=\"60\" x=\"23\" y=\"297\"/><text fill=\"#000000\" font-family=\"sans-serif\" font-size=\"12\" font-style=\"italic\" lengthAdjust=\"spacingAndGlyphs\" textLength=\"53\" x=\"26.5\" y=\"313.1387\">«action»</text><text fill=\"#000000\" font-family=\"sans-serif\" font-size=\"12\" lengthAdjust=\"spacingAndGlyphs\" textLength=\"16\" x=\"45\" y=\"327.1074\">B1</text></a></g><g id=\"E1.E7\"><a href=\"psysml:b7d3ffe5-6bb9-4232-a5c3-5eafb8d0b5f9\" target=\"_top\" title=\"psysml:b7d3ffe5-6bb9-4232-a5c3-5eafb8d0b5f9\" xlink:actuate=\"onRequest\" xlink:href=\"psysml:b7d3ffe5-6bb9-4232-a5c3-5eafb8d0b5f9\" xlink:show=\"new\" xlink:title=\"psysml:b7d3ffe5-6bb9-4232-a5c3-5eafb8d0b5f9\" xlink:type=\"simple\"><rect fill=\"#FFFFFF\" height=\"42.9375\" id=\"E7\" rx=\"10\" ry=\"10\" style=\"stroke: #383838; stroke-width: 1.5;\" width=\"60\" x=\"118\" y=\"297\"/><rect fill=\"#F8F8F8\" height=\"37.9375\" rx=\"10\" ry=\"10\" style=\"stroke: #F8F8F8; stroke-width: 1.5;\" width=\"60\" x=\"118\" y=\"297\"/><rect fill=\"#F8F8F8\" height=\"10\" style=\"stroke: #F8F8F8; stroke-width: 1.5;\" width=\"60\" x=\"118\" y=\"324.9375\"/><rect fill=\"none\" height=\"42.9375\" id=\"E7\" rx=\"10\" ry=\"10\" style=\"stroke: #383838; stroke-width: 1.5;\" width=\"60\" x=\"118\" y=\"297\"/><text fill=\"#000000\" font-family=\"sans-serif\" font-size=\"12\" font-style=\"italic\" lengthAdjust=\"spacingAndGlyphs\" textLength=\"53\" x=\"121.5\" y=\"313.1387\">«action»</text><text fill=\"#000000\" font-family=\"sans-serif\" font-size=\"12\" lengthAdjust=\"spacingAndGlyphs\" textLength=\"16\" x=\"140\" y=\"327.1074\">B2</text></a></g><!--MD5=[4d03bb2d0377dc85ccfab60ff574652b]\n",
       "link E2 to E4--><a href=\"psysml:a5b917a3-7538-4e28-aa62-755107929dae\" target=\"_top\" title=\"psysml:a5b917a3-7538-4e28-aa62-755107929dae\" xlink:actuate=\"onRequest\" xlink:href=\"psysml:a5b917a3-7538-4e28-aa62-755107929dae\" xlink:show=\"new\" xlink:title=\"psysml:a5b917a3-7538-4e28-aa62-755107929dae\" xlink:type=\"simple\"><path d=\"M136.13,101.14 C125.84,119.06 111.49,144.01 104.37,156.4 \" fill=\"none\" id=\"E2-&gt;E4\" style=\"stroke: #383838; stroke-width: 1.0;\"/><polygon fill=\"#383838\" points=\"101.79,160.88,109.7406,155.0673,104.2799,156.5441,102.8031,151.0834,101.79,160.88\" style=\"stroke: #383838; stroke-width: 1.0;\"/><text fill=\"#000000\" font-family=\"sans-serif\" font-size=\"13\" lengthAdjust=\"spacingAndGlyphs\" textLength=\"7\" x=\"93.6144\" y=\"150.0038\">*</text></a><!--MD5=[af87c684e3b0d8be13c1a698a818ef1e]\n",
       "link E3 to E4--><a href=\"psysml:b67a9087-1129-4a2e-aba3-334d88c3cbf2\" target=\"_top\" title=\"psysml:b67a9087-1129-4a2e-aba3-334d88c3cbf2\" xlink:actuate=\"onRequest\" xlink:href=\"psysml:b67a9087-1129-4a2e-aba3-334d88c3cbf2\" xlink:show=\"new\" xlink:title=\"psysml:b67a9087-1129-4a2e-aba3-334d88c3cbf2\" xlink:type=\"simple\"><path d=\"M64.62,101.14 C74.7,119.06 88.75,144.01 95.72,156.4 \" fill=\"none\" id=\"E3-&gt;E4\" style=\"stroke: #383838; stroke-width: 1.0;\"/><polygon fill=\"#383838\" points=\"98.25,160.88,97.3377,151.0735,95.8048,156.5187,90.3596,154.9858,98.25,160.88\" style=\"stroke: #383838; stroke-width: 1.0;\"/><text fill=\"#000000\" font-family=\"sans-serif\" font-size=\"13\" lengthAdjust=\"spacingAndGlyphs\" textLength=\"7\" x=\"99.4531\" y=\"150.0038\">*</text></a><!--MD5=[1b7591eae5389033d8d09a9d6721a717]\n",
       "link E4 to E5--><a href=\"psysml:9a17080e-ae46-40d4-b989-796f716175e4\" target=\"_top\" title=\"psysml:9a17080e-ae46-40d4-b989-796f716175e4\" xlink:actuate=\"onRequest\" xlink:href=\"psysml:9a17080e-ae46-40d4-b989-796f716175e4\" xlink:show=\"new\" xlink:title=\"psysml:9a17080e-ae46-40d4-b989-796f716175e4\" xlink:type=\"simple\"><path d=\"M100,169.18 C100,178.92 100,208.52 100,223.34 \" fill=\"none\" id=\"E4-&gt;E5\" style=\"stroke: #383838; stroke-width: 1.0;\"/><polygon fill=\"#383838\" points=\"100,228.69,104,219.69,100,223.69,96,219.69,100,228.69\" style=\"stroke: #383838; stroke-width: 1.0;\"/><text fill=\"#000000\" font-family=\"sans-serif\" font-size=\"13\" lengthAdjust=\"spacingAndGlyphs\" textLength=\"7\" x=\"90.6813\" y=\"217.9768\">*</text></a><!--MD5=[9120cf2e5df3bff93db8f754bbbc09b4]\n",
       "link E5 to E6--><a href=\"psysml:197b427e-ad07-4e53-856c-ed2b1bc0e06a\" target=\"_top\" title=\"psysml:197b427e-ad07-4e53-856c-ed2b1bc0e06a\" xlink:actuate=\"onRequest\" xlink:href=\"psysml:197b427e-ad07-4e53-856c-ed2b1bc0e06a\" xlink:show=\"new\" xlink:title=\"psysml:197b427e-ad07-4e53-856c-ed2b1bc0e06a\" xlink:type=\"simple\"><path d=\"M98.21,237.17 C93.16,246.14 78.41,272.36 67.11,292.43 \" fill=\"none\" id=\"E5-&gt;E6\" style=\"stroke: #383838; stroke-width: 1.0;\"/><polygon fill=\"#383838\" points=\"64.61,296.87,72.5151,290.9955,67.0661,292.5148,65.5467,287.0658,64.61,296.87\" style=\"stroke: #383838; stroke-width: 1.0;\"/><text fill=\"#000000\" font-family=\"sans-serif\" font-size=\"13\" lengthAdjust=\"spacingAndGlyphs\" textLength=\"7\" x=\"59.8909\" y=\"285.7715\">*</text></a><!--MD5=[3a9b96bfbf6b6ad89c494e81751bda47]\n",
       "link E5 to E7--><a href=\"psysml:b67e977c-71d2-45f4-9959-07a509bb3c26\" target=\"_top\" title=\"psysml:b67e977c-71d2-45f4-9959-07a509bb3c26\" xlink:actuate=\"onRequest\" xlink:href=\"psysml:b67e977c-71d2-45f4-9959-07a509bb3c26\" xlink:show=\"new\" xlink:title=\"psysml:b67e977c-71d2-45f4-9959-07a509bb3c26\" xlink:type=\"simple\"><path d=\"M101.82,237.17 C106.98,246.14 122.05,272.36 133.59,292.43 \" fill=\"none\" id=\"E5-&gt;E7\" style=\"stroke: #383838; stroke-width: 1.0;\"/><polygon fill=\"#383838\" points=\"136.14,296.87,135.1269,287.0734,133.6501,292.5341,128.1894,291.0573,136.14,296.87\" style=\"stroke: #383838; stroke-width: 1.0;\"/><text fill=\"#000000\" font-family=\"sans-serif\" font-size=\"13\" lengthAdjust=\"spacingAndGlyphs\" textLength=\"7\" x=\"124.82\" y=\"285.7715\">*</text></a><!--MD5=[7de7de11187ad77438a29f26be964785]\n",
       "@startuml\r\n",
       "top to bottom direction\r\n",
       "skinparam monochrome true\r\n",
       "skinparam classbackgroundcolor white\r\n",
       "skinparam shadowing false\r\n",
       "skinparam wrapWidth 300\r\n",
       "hide circle\r\n",
       "\r\n",
       "rec def \"ControlNodeTest\" as E1  <<(T,blue) action def>> [[psysml:d75b3c07-b549-4c23-b2aa-d48828b6adea ]] {\r\n",
       "rec usage \"A1\" as E2  <<(T,blue) action>> [[psysml:c07d7274-d0ac-44b0-95a3-e3c0562da237 ]] {\r\n",
       "}\r\n",
       "\r\n",
       "rec usage \"A2\" as E3  <<(T,blue) action>> [[psysml:7bb05ae1-d1dd-4ff0-97ee-ce3344a0751d ]] {\r\n",
       "}\r\n",
       "\r\n",
       "join \"J\" as E4  [[psysml:f3bfce16-3667-4a48-a42e-fd992fa328bf ]] \r\n",
       "fork \"F\" as E5  [[psysml:08c848ef-d5ea-4388-acb9-5b8d01347f10 ]] \r\n",
       "rec usage \"B1\" as E6  <<(T,blue) action>> [[psysml:d5fd7944-a8f1-4c67-81d3-da10d551f750 ]] {\r\n",
       "}\r\n",
       "\r\n",
       "rec usage \"B2\" as E7  <<(T,blue) action>> [[psysml:b7d3ffe5-6bb9-4232-a5c3-5eafb8d0b5f9 ]] {\r\n",
       "}\r\n",
       "\r\n",
       "}\r\n",
       "\r\n",
       "E2 - -> \"*\"E4 [[psysml:a5b917a3-7538-4e28-aa62-755107929dae ]] \r\n",
       "E3 - -> \"*\"E4 [[psysml:b67a9087-1129-4a2e-aba3-334d88c3cbf2 ]] \r\n",
       "E4 - -> \"*\"E5 [[psysml:9a17080e-ae46-40d4-b989-796f716175e4 ]] \r\n",
       "E5 - -> \"*\"E6 [[psysml:197b427e-ad07-4e53-856c-ed2b1bc0e06a ]] \r\n",
       "E5 - -> \"*\"E7 [[psysml:b67e977c-71d2-45f4-9959-07a509bb3c26 ]] \r\n",
       "@enduml\r\n",
       "\n",
       "PlantUML version 1.2020.13(Sat Jun 13 12:26:38 UTC 2020)\n",
       "(EPL source distribution)\n",
       "Java Runtime: OpenJDK Runtime Environment\n",
       "JVM: OpenJDK 64-Bit Server VM\n",
       "Default Encoding: UTF-8\n",
       "Language: en\n",
       "Country: null\n",
       "--></g></svg>"
      ]
     },
     "execution_count": 50,
     "metadata": {},
     "output_type": "execute_result"
    }
   ],
   "source": [
    "%viz --style=\"TB\" --view=\"MIXED\" \"ControlNodeTest\""
   ]
  },
  {
   "cell_type": "code",
   "execution_count": 51,
   "id": "a7b63683",
   "metadata": {
    "execution": {
     "iopub.execute_input": "2021-08-04T06:26:32.735296Z",
     "iopub.status.busy": "2021-08-04T06:26:32.734900Z",
     "iopub.status.idle": "2021-08-04T06:26:32.759967Z",
     "shell.execute_reply": "2021-08-04T06:26:32.758489Z"
    }
   },
   "outputs": [
    {
     "data": {
      "image/svg+xml": [
       "<?xml version=\"1.0\" encoding=\"UTF-8\" standalone=\"no\"?><svg xmlns=\"http://www.w3.org/2000/svg\" xmlns:xlink=\"http://www.w3.org/1999/xlink\" contentScriptType=\"application/ecmascript\" contentStyleType=\"text/css\" height=\"367px\" preserveAspectRatio=\"none\" style=\"width:205px;height:367px;\" version=\"1.1\" viewBox=\"0 0 205 367\" width=\"205px\" zoomAndPan=\"magnify\"><defs/><g><!--MD5=[fbc87193dbaf4d95561dea2c320d4a47]\n",
       "cluster E1--><a href=\"psysml:d75b3c07-b549-4c23-b2aa-d48828b6adea\" target=\"_top\" title=\"psysml:d75b3c07-b549-4c23-b2aa-d48828b6adea\" xlink:actuate=\"onRequest\" xlink:href=\"psysml:d75b3c07-b549-4c23-b2aa-d48828b6adea\" xlink:show=\"new\" xlink:title=\"psysml:d75b3c07-b549-4c23-b2aa-d48828b6adea\" xlink:type=\"simple\"><rect fill=\"#FFFFFF\" height=\"349\" id=\"E1\" style=\"stroke: #383838; stroke-width: 1.5;\" width=\"187\" x=\"7\" y=\"7\"/><rect fill=\"#F8F8F8\" height=\"37.9375\" style=\"stroke: #383838; stroke-width: 1.5;\" width=\"187\" x=\"7\" y=\"7\"/><text fill=\"#000000\" font-family=\"sans-serif\" font-size=\"12\" font-style=\"italic\" lengthAdjust=\"spacingAndGlyphs\" textLength=\"77\" x=\"62\" y=\"23.1387\">«action def»</text><text fill=\"#000000\" font-family=\"sans-serif\" font-size=\"12\" lengthAdjust=\"spacingAndGlyphs\" textLength=\"105\" x=\"48\" y=\"37.1074\">ControlNodeTest</text></a><rect fill=\"#000000\" height=\"8\" style=\"stroke: none; stroke-width: 1.0;\" width=\"80\" x=\"60\" y=\"161\"/><rect fill=\"#000000\" height=\"8\" style=\"stroke: none; stroke-width: 1.0;\" width=\"80\" x=\"60\" y=\"229\"/><g id=\"E1.E2\"><a href=\"psysml:c07d7274-d0ac-44b0-95a3-e3c0562da237\" target=\"_top\" title=\"psysml:c07d7274-d0ac-44b0-95a3-e3c0562da237\" xlink:actuate=\"onRequest\" xlink:href=\"psysml:c07d7274-d0ac-44b0-95a3-e3c0562da237\" xlink:show=\"new\" xlink:title=\"psysml:c07d7274-d0ac-44b0-95a3-e3c0562da237\" xlink:type=\"simple\"><rect fill=\"#FFFFFF\" height=\"42.9375\" id=\"E2\" rx=\"10\" ry=\"10\" style=\"stroke: #383838; stroke-width: 1.5;\" width=\"60\" x=\"118\" y=\"58\"/><rect fill=\"#F8F8F8\" height=\"37.9375\" rx=\"10\" ry=\"10\" style=\"stroke: #F8F8F8; stroke-width: 1.5;\" width=\"60\" x=\"118\" y=\"58\"/><rect fill=\"#F8F8F8\" height=\"10\" style=\"stroke: #F8F8F8; stroke-width: 1.5;\" width=\"60\" x=\"118\" y=\"85.9375\"/><rect fill=\"none\" height=\"42.9375\" id=\"E2\" rx=\"10\" ry=\"10\" style=\"stroke: #383838; stroke-width: 1.5;\" width=\"60\" x=\"118\" y=\"58\"/><text fill=\"#000000\" font-family=\"sans-serif\" font-size=\"12\" font-style=\"italic\" lengthAdjust=\"spacingAndGlyphs\" textLength=\"53\" x=\"121.5\" y=\"74.1387\">«action»</text><text fill=\"#000000\" font-family=\"sans-serif\" font-size=\"12\" lengthAdjust=\"spacingAndGlyphs\" textLength=\"16\" x=\"140\" y=\"88.1074\">A1</text></a></g><g id=\"E1.E3\"><a href=\"psysml:7bb05ae1-d1dd-4ff0-97ee-ce3344a0751d\" target=\"_top\" title=\"psysml:7bb05ae1-d1dd-4ff0-97ee-ce3344a0751d\" xlink:actuate=\"onRequest\" xlink:href=\"psysml:7bb05ae1-d1dd-4ff0-97ee-ce3344a0751d\" xlink:show=\"new\" xlink:title=\"psysml:7bb05ae1-d1dd-4ff0-97ee-ce3344a0751d\" xlink:type=\"simple\"><rect fill=\"#FFFFFF\" height=\"42.9375\" id=\"E3\" rx=\"10\" ry=\"10\" style=\"stroke: #383838; stroke-width: 1.5;\" width=\"60\" x=\"23\" y=\"58\"/><rect fill=\"#F8F8F8\" height=\"37.9375\" rx=\"10\" ry=\"10\" style=\"stroke: #F8F8F8; stroke-width: 1.5;\" width=\"60\" x=\"23\" y=\"58\"/><rect fill=\"#F8F8F8\" height=\"10\" style=\"stroke: #F8F8F8; stroke-width: 1.5;\" width=\"60\" x=\"23\" y=\"85.9375\"/><rect fill=\"none\" height=\"42.9375\" id=\"E3\" rx=\"10\" ry=\"10\" style=\"stroke: #383838; stroke-width: 1.5;\" width=\"60\" x=\"23\" y=\"58\"/><text fill=\"#000000\" font-family=\"sans-serif\" font-size=\"12\" font-style=\"italic\" lengthAdjust=\"spacingAndGlyphs\" textLength=\"53\" x=\"26.5\" y=\"74.1387\">«action»</text><text fill=\"#000000\" font-family=\"sans-serif\" font-size=\"12\" lengthAdjust=\"spacingAndGlyphs\" textLength=\"16\" x=\"45\" y=\"88.1074\">A2</text></a></g><g id=\"E1.E6\"><a href=\"psysml:d5fd7944-a8f1-4c67-81d3-da10d551f750\" target=\"_top\" title=\"psysml:d5fd7944-a8f1-4c67-81d3-da10d551f750\" xlink:actuate=\"onRequest\" xlink:href=\"psysml:d5fd7944-a8f1-4c67-81d3-da10d551f750\" xlink:show=\"new\" xlink:title=\"psysml:d5fd7944-a8f1-4c67-81d3-da10d551f750\" xlink:type=\"simple\"><rect fill=\"#FFFFFF\" height=\"42.9375\" id=\"E6\" rx=\"10\" ry=\"10\" style=\"stroke: #383838; stroke-width: 1.5;\" width=\"60\" x=\"23\" y=\"297\"/><rect fill=\"#F8F8F8\" height=\"37.9375\" rx=\"10\" ry=\"10\" style=\"stroke: #F8F8F8; stroke-width: 1.5;\" width=\"60\" x=\"23\" y=\"297\"/><rect fill=\"#F8F8F8\" height=\"10\" style=\"stroke: #F8F8F8; stroke-width: 1.5;\" width=\"60\" x=\"23\" y=\"324.9375\"/><rect fill=\"none\" height=\"42.9375\" id=\"E6\" rx=\"10\" ry=\"10\" style=\"stroke: #383838; stroke-width: 1.5;\" width=\"60\" x=\"23\" y=\"297\"/><text fill=\"#000000\" font-family=\"sans-serif\" font-size=\"12\" font-style=\"italic\" lengthAdjust=\"spacingAndGlyphs\" textLength=\"53\" x=\"26.5\" y=\"313.1387\">«action»</text><text fill=\"#000000\" font-family=\"sans-serif\" font-size=\"12\" lengthAdjust=\"spacingAndGlyphs\" textLength=\"16\" x=\"45\" y=\"327.1074\">B1</text></a></g><g id=\"E1.E7\"><a href=\"psysml:b7d3ffe5-6bb9-4232-a5c3-5eafb8d0b5f9\" target=\"_top\" title=\"psysml:b7d3ffe5-6bb9-4232-a5c3-5eafb8d0b5f9\" xlink:actuate=\"onRequest\" xlink:href=\"psysml:b7d3ffe5-6bb9-4232-a5c3-5eafb8d0b5f9\" xlink:show=\"new\" xlink:title=\"psysml:b7d3ffe5-6bb9-4232-a5c3-5eafb8d0b5f9\" xlink:type=\"simple\"><rect fill=\"#FFFFFF\" height=\"42.9375\" id=\"E7\" rx=\"10\" ry=\"10\" style=\"stroke: #383838; stroke-width: 1.5;\" width=\"60\" x=\"118\" y=\"297\"/><rect fill=\"#F8F8F8\" height=\"37.9375\" rx=\"10\" ry=\"10\" style=\"stroke: #F8F8F8; stroke-width: 1.5;\" width=\"60\" x=\"118\" y=\"297\"/><rect fill=\"#F8F8F8\" height=\"10\" style=\"stroke: #F8F8F8; stroke-width: 1.5;\" width=\"60\" x=\"118\" y=\"324.9375\"/><rect fill=\"none\" height=\"42.9375\" id=\"E7\" rx=\"10\" ry=\"10\" style=\"stroke: #383838; stroke-width: 1.5;\" width=\"60\" x=\"118\" y=\"297\"/><text fill=\"#000000\" font-family=\"sans-serif\" font-size=\"12\" font-style=\"italic\" lengthAdjust=\"spacingAndGlyphs\" textLength=\"53\" x=\"121.5\" y=\"313.1387\">«action»</text><text fill=\"#000000\" font-family=\"sans-serif\" font-size=\"12\" lengthAdjust=\"spacingAndGlyphs\" textLength=\"16\" x=\"140\" y=\"327.1074\">B2</text></a></g><!--MD5=[4d03bb2d0377dc85ccfab60ff574652b]\n",
       "link E2 to E4--><a href=\"psysml:a5b917a3-7538-4e28-aa62-755107929dae\" target=\"_top\" title=\"psysml:a5b917a3-7538-4e28-aa62-755107929dae\" xlink:actuate=\"onRequest\" xlink:href=\"psysml:a5b917a3-7538-4e28-aa62-755107929dae\" xlink:show=\"new\" xlink:title=\"psysml:a5b917a3-7538-4e28-aa62-755107929dae\" xlink:type=\"simple\"><path d=\"M129,101.08 C129,101.08 129,155.97 129,155.97 \" fill=\"none\" id=\"E2-&gt;E4\" style=\"stroke: #383838; stroke-width: 1.0;\"/><polygon fill=\"#383838\" points=\"129,160.97,133,151.97,129,155.97,125,151.97,129,160.97\" style=\"stroke: #383838; stroke-width: 1.0;\"/><text fill=\"#000000\" font-family=\"sans-serif\" font-size=\"13\" lengthAdjust=\"spacingAndGlyphs\" textLength=\"7\" x=\"140.1688\" y=\"149.8691\">*</text></a><!--MD5=[af87c684e3b0d8be13c1a698a818ef1e]\n",
       "link E3 to E4--><a href=\"psysml:b67a9087-1129-4a2e-aba3-334d88c3cbf2\" target=\"_top\" title=\"psysml:b67a9087-1129-4a2e-aba3-334d88c3cbf2\" xlink:actuate=\"onRequest\" xlink:href=\"psysml:b67a9087-1129-4a2e-aba3-334d88c3cbf2\" xlink:show=\"new\" xlink:title=\"psysml:b67a9087-1129-4a2e-aba3-334d88c3cbf2\" xlink:type=\"simple\"><path d=\"M71.5,101.08 C71.5,101.08 71.5,155.97 71.5,155.97 \" fill=\"none\" id=\"E3-&gt;E4\" style=\"stroke: #383838; stroke-width: 1.0;\"/><polygon fill=\"#383838\" points=\"71.5,160.97,75.5,151.97,71.5,155.97,67.5,151.97,71.5,160.97\" style=\"stroke: #383838; stroke-width: 1.0;\"/><text fill=\"#000000\" font-family=\"sans-serif\" font-size=\"13\" lengthAdjust=\"spacingAndGlyphs\" textLength=\"7\" x=\"44.9\" y=\"151.0154\">*</text></a><!--MD5=[1b7591eae5389033d8d09a9d6721a717]\n",
       "link E4 to E5--><a href=\"psysml:9a17080e-ae46-40d4-b989-796f716175e4\" target=\"_top\" title=\"psysml:9a17080e-ae46-40d4-b989-796f716175e4\" xlink:actuate=\"onRequest\" xlink:href=\"psysml:9a17080e-ae46-40d4-b989-796f716175e4\" xlink:show=\"new\" xlink:title=\"psysml:9a17080e-ae46-40d4-b989-796f716175e4\" xlink:type=\"simple\"><path d=\"M100,169.05 C100,169.05 100,223.71 100,223.71 \" fill=\"none\" id=\"E4-&gt;E5\" style=\"stroke: #383838; stroke-width: 1.0;\"/><polygon fill=\"#383838\" points=\"100,228.71,104,219.71,100,223.71,96,219.71,100,228.71\" style=\"stroke: #383838; stroke-width: 1.0;\"/><text fill=\"#000000\" font-family=\"sans-serif\" font-size=\"13\" lengthAdjust=\"spacingAndGlyphs\" textLength=\"7\" x=\"90.6813\" y=\"218.01\">*</text></a><!--MD5=[9120cf2e5df3bff93db8f754bbbc09b4]\n",
       "link E5 to E6--><a href=\"psysml:197b427e-ad07-4e53-856c-ed2b1bc0e06a\" target=\"_top\" title=\"psysml:197b427e-ad07-4e53-856c-ed2b1bc0e06a\" xlink:actuate=\"onRequest\" xlink:href=\"psysml:197b427e-ad07-4e53-856c-ed2b1bc0e06a\" xlink:show=\"new\" xlink:title=\"psysml:197b427e-ad07-4e53-856c-ed2b1bc0e06a\" xlink:type=\"simple\"><path d=\"M71.5,237.12 C71.5,237.12 71.5,291.87 71.5,291.87 \" fill=\"none\" id=\"E5-&gt;E6\" style=\"stroke: #383838; stroke-width: 1.0;\"/><polygon fill=\"#383838\" points=\"71.5,296.87,75.5,287.87,71.5,291.87,67.5,287.87,71.5,296.87\" style=\"stroke: #383838; stroke-width: 1.0;\"/><text fill=\"#000000\" font-family=\"sans-serif\" font-size=\"13\" lengthAdjust=\"spacingAndGlyphs\" textLength=\"7\" x=\"68.7188\" y=\"285.7715\">*</text></a><!--MD5=[3a9b96bfbf6b6ad89c494e81751bda47]\n",
       "link E5 to E7--><a href=\"psysml:b67e977c-71d2-45f4-9959-07a509bb3c26\" target=\"_top\" title=\"psysml:b67e977c-71d2-45f4-9959-07a509bb3c26\" xlink:actuate=\"onRequest\" xlink:href=\"psysml:b67e977c-71d2-45f4-9959-07a509bb3c26\" xlink:show=\"new\" xlink:title=\"psysml:b67e977c-71d2-45f4-9959-07a509bb3c26\" xlink:type=\"simple\"><path d=\"M129,237.12 C129,237.12 129,291.87 129,291.87 \" fill=\"none\" id=\"E5-&gt;E7\" style=\"stroke: #383838; stroke-width: 1.0;\"/><polygon fill=\"#383838\" points=\"129,296.87,133,287.87,129,291.87,125,287.87,129,296.87\" style=\"stroke: #383838; stroke-width: 1.0;\"/><text fill=\"#000000\" font-family=\"sans-serif\" font-size=\"13\" lengthAdjust=\"spacingAndGlyphs\" textLength=\"7\" x=\"115.6719\" y=\"285.7715\">*</text></a><!--MD5=[031b20eeb8f485653d487746761668cf]\n",
       "@startuml\r\n",
       "skinparam linetype ortho\r\n",
       "skinparam monochrome true\r\n",
       "skinparam classbackgroundcolor white\r\n",
       "skinparam shadowing false\r\n",
       "skinparam wrapWidth 300\r\n",
       "hide circle\r\n",
       "\r\n",
       "rec def \"ControlNodeTest\" as E1  <<(T,blue) action def>> [[psysml:d75b3c07-b549-4c23-b2aa-d48828b6adea ]] {\r\n",
       "rec usage \"A1\" as E2  <<(T,blue) action>> [[psysml:c07d7274-d0ac-44b0-95a3-e3c0562da237 ]] {\r\n",
       "}\r\n",
       "\r\n",
       "rec usage \"A2\" as E3  <<(T,blue) action>> [[psysml:7bb05ae1-d1dd-4ff0-97ee-ce3344a0751d ]] {\r\n",
       "}\r\n",
       "\r\n",
       "join \"J\" as E4  [[psysml:f3bfce16-3667-4a48-a42e-fd992fa328bf ]] \r\n",
       "fork \"F\" as E5  [[psysml:08c848ef-d5ea-4388-acb9-5b8d01347f10 ]] \r\n",
       "rec usage \"B1\" as E6  <<(T,blue) action>> [[psysml:d5fd7944-a8f1-4c67-81d3-da10d551f750 ]] {\r\n",
       "}\r\n",
       "\r\n",
       "rec usage \"B2\" as E7  <<(T,blue) action>> [[psysml:b7d3ffe5-6bb9-4232-a5c3-5eafb8d0b5f9 ]] {\r\n",
       "}\r\n",
       "\r\n",
       "}\r\n",
       "\r\n",
       "E2 - -> \"*\"E4 [[psysml:a5b917a3-7538-4e28-aa62-755107929dae ]] \r\n",
       "E3 - -> \"*\"E4 [[psysml:b67a9087-1129-4a2e-aba3-334d88c3cbf2 ]] \r\n",
       "E4 - -> \"*\"E5 [[psysml:9a17080e-ae46-40d4-b989-796f716175e4 ]] \r\n",
       "E5 - -> \"*\"E6 [[psysml:197b427e-ad07-4e53-856c-ed2b1bc0e06a ]] \r\n",
       "E5 - -> \"*\"E7 [[psysml:b67e977c-71d2-45f4-9959-07a509bb3c26 ]] \r\n",
       "@enduml\r\n",
       "\n",
       "PlantUML version 1.2020.13(Sat Jun 13 12:26:38 UTC 2020)\n",
       "(EPL source distribution)\n",
       "Java Runtime: OpenJDK Runtime Environment\n",
       "JVM: OpenJDK 64-Bit Server VM\n",
       "Default Encoding: UTF-8\n",
       "Language: en\n",
       "Country: null\n",
       "--></g></svg>"
      ]
     },
     "execution_count": 51,
     "metadata": {},
     "output_type": "execute_result"
    }
   ],
   "source": [
    "%viz --style=\"ORTHOLINE\" --view=\"Default\" \"ControlNodeTest\""
   ]
  },
  {
   "cell_type": "code",
   "execution_count": 52,
   "id": "4b16f0a7",
   "metadata": {
    "execution": {
     "iopub.execute_input": "2021-08-04T06:26:32.809218Z",
     "iopub.status.busy": "2021-08-04T06:26:32.808765Z",
     "iopub.status.idle": "2021-08-04T06:26:32.826111Z",
     "shell.execute_reply": "2021-08-04T06:26:32.824933Z"
    }
   },
   "outputs": [
    {
     "data": {
      "image/svg+xml": [
       "<?xml version=\"1.0\" encoding=\"UTF-8\" standalone=\"no\"?><svg xmlns=\"http://www.w3.org/2000/svg\" xmlns:xlink=\"http://www.w3.org/1999/xlink\" contentScriptType=\"application/ecmascript\" contentStyleType=\"text/css\" height=\"169px\" preserveAspectRatio=\"none\" style=\"width:557px;height:169px;\" version=\"1.1\" viewBox=\"0 0 557 169\" width=\"557px\" zoomAndPan=\"magnify\"><defs/><g><!--MD5=[43c9051892ef23e1a46a86907403d788]\n",
       "class E1--><a href=\"psysml:d75b3c07-b549-4c23-b2aa-d48828b6adea\" target=\"_top\" title=\"psysml:d75b3c07-b549-4c23-b2aa-d48828b6adea\" xlink:actuate=\"onRequest\" xlink:href=\"psysml:d75b3c07-b549-4c23-b2aa-d48828b6adea\" xlink:show=\"new\" xlink:title=\"psysml:d75b3c07-b549-4c23-b2aa-d48828b6adea\" xlink:type=\"simple\"><rect fill=\"#FFFFFF\" height=\"45.9375\" id=\"E1\" style=\"stroke: #383838; stroke-width: 1.5;\" width=\"111\" x=\"220\" y=\"7\"/><text fill=\"#000000\" font-family=\"sans-serif\" font-size=\"12\" font-style=\"italic\" lengthAdjust=\"spacingAndGlyphs\" textLength=\"77\" x=\"237\" y=\"23.1387\">«action def»</text><text fill=\"#000000\" font-family=\"sans-serif\" font-size=\"12\" lengthAdjust=\"spacingAndGlyphs\" textLength=\"105\" x=\"223\" y=\"37.1074\">ControlNodeTest</text><line style=\"stroke: #383838; stroke-width: 1.5;\" x1=\"221\" x2=\"330\" y1=\"44.9375\" y2=\"44.9375\"/></a><!--MD5=[b4997ac47864f28c2f74865a473b2911]\n",
       "class E2--><a href=\"psysml:c07d7274-d0ac-44b0-95a3-e3c0562da237\" target=\"_top\" title=\"psysml:c07d7274-d0ac-44b0-95a3-e3c0562da237\" xlink:actuate=\"onRequest\" xlink:href=\"psysml:c07d7274-d0ac-44b0-95a3-e3c0562da237\" xlink:show=\"new\" xlink:title=\"psysml:c07d7274-d0ac-44b0-95a3-e3c0562da237\" xlink:type=\"simple\"><rect fill=\"#FFFFFF\" height=\"45.9375\" id=\"E2\" rx=\"10\" ry=\"10\" style=\"stroke: #383838; stroke-width: 1.5;\" width=\"55\" x=\"7\" y=\"113\"/><text fill=\"#000000\" font-family=\"sans-serif\" font-size=\"12\" font-style=\"italic\" lengthAdjust=\"spacingAndGlyphs\" textLength=\"53\" x=\"8\" y=\"129.1387\">«action»</text><text fill=\"#000000\" font-family=\"sans-serif\" font-size=\"12\" lengthAdjust=\"spacingAndGlyphs\" textLength=\"16\" x=\"26.5\" y=\"143.1074\">A1</text><line style=\"stroke: #383838; stroke-width: 1.5;\" x1=\"8\" x2=\"61\" y1=\"150.9375\" y2=\"150.9375\"/></a><!--MD5=[09b614a08d8cba4a07c9adeb5e0fee81]\n",
       "class E3--><a href=\"psysml:7bb05ae1-d1dd-4ff0-97ee-ce3344a0751d\" target=\"_top\" title=\"psysml:7bb05ae1-d1dd-4ff0-97ee-ce3344a0751d\" xlink:actuate=\"onRequest\" xlink:href=\"psysml:7bb05ae1-d1dd-4ff0-97ee-ce3344a0751d\" xlink:show=\"new\" xlink:title=\"psysml:7bb05ae1-d1dd-4ff0-97ee-ce3344a0751d\" xlink:type=\"simple\"><rect fill=\"#FFFFFF\" height=\"45.9375\" id=\"E3\" rx=\"10\" ry=\"10\" style=\"stroke: #383838; stroke-width: 1.5;\" width=\"55\" x=\"97\" y=\"113\"/><text fill=\"#000000\" font-family=\"sans-serif\" font-size=\"12\" font-style=\"italic\" lengthAdjust=\"spacingAndGlyphs\" textLength=\"53\" x=\"98\" y=\"129.1387\">«action»</text><text fill=\"#000000\" font-family=\"sans-serif\" font-size=\"12\" lengthAdjust=\"spacingAndGlyphs\" textLength=\"16\" x=\"116.5\" y=\"143.1074\">A2</text><line style=\"stroke: #383838; stroke-width: 1.5;\" x1=\"98\" x2=\"151\" y1=\"150.9375\" y2=\"150.9375\"/></a><!--MD5=[ebbe1d658d1005bcc118a6aa81145e00]\n",
       "class E4--><a href=\"psysml:f3bfce16-3667-4a48-a42e-fd992fa328bf\" target=\"_top\" title=\"psysml:f3bfce16-3667-4a48-a42e-fd992fa328bf\" xlink:actuate=\"onRequest\" xlink:href=\"psysml:f3bfce16-3667-4a48-a42e-fd992fa328bf\" xlink:show=\"new\" xlink:title=\"psysml:f3bfce16-3667-4a48-a42e-fd992fa328bf\" xlink:type=\"simple\"><rect fill=\"#FFFFFF\" height=\"45.9375\" id=\"E4\" rx=\"10\" ry=\"10\" style=\"stroke: #383838; stroke-width: 1.5;\" width=\"71\" x=\"187\" y=\"113\"/><text fill=\"#000000\" font-family=\"sans-serif\" font-size=\"12\" font-style=\"italic\" lengthAdjust=\"spacingAndGlyphs\" textLength=\"69\" x=\"188\" y=\"129.1387\">«joinNode»</text><text fill=\"#000000\" font-family=\"sans-serif\" font-size=\"12\" lengthAdjust=\"spacingAndGlyphs\" textLength=\"3\" x=\"221\" y=\"143.1074\">J</text><line style=\"stroke: #383838; stroke-width: 1.5;\" x1=\"188\" x2=\"257\" y1=\"150.9375\" y2=\"150.9375\"/></a><!--MD5=[270fce915f116d4de14055a7c1d9a0f3]\n",
       "class E5--><a href=\"psysml:08c848ef-d5ea-4388-acb9-5b8d01347f10\" target=\"_top\" title=\"psysml:08c848ef-d5ea-4388-acb9-5b8d01347f10\" xlink:actuate=\"onRequest\" xlink:href=\"psysml:08c848ef-d5ea-4388-acb9-5b8d01347f10\" xlink:show=\"new\" xlink:title=\"psysml:08c848ef-d5ea-4388-acb9-5b8d01347f10\" xlink:type=\"simple\"><rect fill=\"#FFFFFF\" height=\"45.9375\" id=\"E5\" rx=\"10\" ry=\"10\" style=\"stroke: #383838; stroke-width: 1.5;\" width=\"73\" x=\"293\" y=\"113\"/><text fill=\"#000000\" font-family=\"sans-serif\" font-size=\"12\" font-style=\"italic\" lengthAdjust=\"spacingAndGlyphs\" textLength=\"71\" x=\"294\" y=\"129.1387\">«forkNode»</text><text fill=\"#000000\" font-family=\"sans-serif\" font-size=\"12\" lengthAdjust=\"spacingAndGlyphs\" textLength=\"7\" x=\"326\" y=\"143.1074\">F</text><line style=\"stroke: #383838; stroke-width: 1.5;\" x1=\"294\" x2=\"365\" y1=\"150.9375\" y2=\"150.9375\"/></a><!--MD5=[60a26617385b1d2d0262a64233df1f8d]\n",
       "class E6--><a href=\"psysml:d5fd7944-a8f1-4c67-81d3-da10d551f750\" target=\"_top\" title=\"psysml:d5fd7944-a8f1-4c67-81d3-da10d551f750\" xlink:actuate=\"onRequest\" xlink:href=\"psysml:d5fd7944-a8f1-4c67-81d3-da10d551f750\" xlink:show=\"new\" xlink:title=\"psysml:d5fd7944-a8f1-4c67-81d3-da10d551f750\" xlink:type=\"simple\"><rect fill=\"#FFFFFF\" height=\"45.9375\" id=\"E6\" rx=\"10\" ry=\"10\" style=\"stroke: #383838; stroke-width: 1.5;\" width=\"55\" x=\"401\" y=\"113\"/><text fill=\"#000000\" font-family=\"sans-serif\" font-size=\"12\" font-style=\"italic\" lengthAdjust=\"spacingAndGlyphs\" textLength=\"53\" x=\"402\" y=\"129.1387\">«action»</text><text fill=\"#000000\" font-family=\"sans-serif\" font-size=\"12\" lengthAdjust=\"spacingAndGlyphs\" textLength=\"16\" x=\"420.5\" y=\"143.1074\">B1</text><line style=\"stroke: #383838; stroke-width: 1.5;\" x1=\"402\" x2=\"455\" y1=\"150.9375\" y2=\"150.9375\"/></a><!--MD5=[2156ba9850f5573cc1fc38a6a4b2f02b]\n",
       "class E7--><a href=\"psysml:b7d3ffe5-6bb9-4232-a5c3-5eafb8d0b5f9\" target=\"_top\" title=\"psysml:b7d3ffe5-6bb9-4232-a5c3-5eafb8d0b5f9\" xlink:actuate=\"onRequest\" xlink:href=\"psysml:b7d3ffe5-6bb9-4232-a5c3-5eafb8d0b5f9\" xlink:show=\"new\" xlink:title=\"psysml:b7d3ffe5-6bb9-4232-a5c3-5eafb8d0b5f9\" xlink:type=\"simple\"><rect fill=\"#FFFFFF\" height=\"45.9375\" id=\"E7\" rx=\"10\" ry=\"10\" style=\"stroke: #383838; stroke-width: 1.5;\" width=\"55\" x=\"491\" y=\"113\"/><text fill=\"#000000\" font-family=\"sans-serif\" font-size=\"12\" font-style=\"italic\" lengthAdjust=\"spacingAndGlyphs\" textLength=\"53\" x=\"492\" y=\"129.1387\">«action»</text><text fill=\"#000000\" font-family=\"sans-serif\" font-size=\"12\" lengthAdjust=\"spacingAndGlyphs\" textLength=\"16\" x=\"510.5\" y=\"143.1074\">B2</text><line style=\"stroke: #383838; stroke-width: 1.5;\" x1=\"492\" x2=\"545\" y1=\"150.9375\" y2=\"150.9375\"/></a><!--MD5=[a523cb2a0b79ecf9065ad8783f96c320]\n",
       "reverse link E1 to E2--><a href=\"psysml:090da899-d633-4f68-ac70-93df987c1f89\" target=\"_top\" title=\"psysml:090da899-d633-4f68-ac70-93df987c1f89\" xlink:actuate=\"onRequest\" xlink:href=\"psysml:090da899-d633-4f68-ac70-93df987c1f89\" xlink:show=\"new\" xlink:title=\"psysml:090da899-d633-4f68-ac70-93df987c1f89\" xlink:type=\"simple\"><path d=\"M206.91,23 C206.91,23 34.5,23 34.5,23 C34.5,23 34.5,79.8 34.5,112.86 \" fill=\"none\" id=\"E1&lt;-E2\" style=\"stroke: #383838; stroke-width: 1.0;\"/><polygon fill=\"#383838\" points=\"219.91,23,213.91,19,207.91,23,213.91,27,219.91,23\" style=\"stroke: #383838; stroke-width: 1.0;\"/><text fill=\"#000000\" font-family=\"sans-serif\" font-size=\"13\" lengthAdjust=\"spacingAndGlyphs\" textLength=\"7\" x=\"26.6031\" y=\"102.1004\">*</text></a><!--MD5=[5d7b3810b1dd9b5164bea1151b29b665]\n",
       "reverse link E1 to E3--><a href=\"psysml:797c4c3c-8cfb-4ed1-914f-99d654db3cec\" target=\"_top\" title=\"psysml:797c4c3c-8cfb-4ed1-914f-99d654db3cec\" xlink:actuate=\"onRequest\" xlink:href=\"psysml:797c4c3c-8cfb-4ed1-914f-99d654db3cec\" xlink:show=\"new\" xlink:title=\"psysml:797c4c3c-8cfb-4ed1-914f-99d654db3cec\" xlink:type=\"simple\"><path d=\"M206.7,38 C206.7,38 124.5,38 124.5,38 C124.5,38 124.5,83.8 124.5,112.78 \" fill=\"none\" id=\"E1&lt;-E3\" style=\"stroke: #383838; stroke-width: 1.0;\"/><polygon fill=\"#383838\" points=\"219.7,38,213.7,34,207.7,38,213.7,42,219.7,38\" style=\"stroke: #383838; stroke-width: 1.0;\"/><text fill=\"#000000\" font-family=\"sans-serif\" font-size=\"13\" lengthAdjust=\"spacingAndGlyphs\" textLength=\"7\" x=\"116.6031\" y=\"101.9999\">*</text></a><!--MD5=[f2c5c03aa1e8c0ba21c10a05e6444b8e]\n",
       "reverse link E1 to E4--><a href=\"psysml:70a466ea-83ad-4e19-afa5-d192b13fd9c7\" target=\"_top\" title=\"psysml:70a466ea-83ad-4e19-afa5-d192b13fd9c7\" xlink:actuate=\"onRequest\" xlink:href=\"psysml:70a466ea-83ad-4e19-afa5-d192b13fd9c7\" xlink:show=\"new\" xlink:title=\"psysml:70a466ea-83ad-4e19-afa5-d192b13fd9c7\" xlink:type=\"simple\"><path d=\"M239,66 C239,66 239,112.68 239,112.68 \" fill=\"none\" id=\"E1&lt;-E4\" style=\"stroke: #383838; stroke-width: 1.0;\"/><polygon fill=\"#383838\" points=\"239,53,235,59,239,65,243,59,239,53\" style=\"stroke: #383838; stroke-width: 1.0;\"/></a><!--MD5=[33238bef88d6431a141d8bc8fb12bca0]\n",
       "reverse link E1 to E5--><a href=\"psysml:26253911-6243-446d-b791-23c0e42b91a5\" target=\"_top\" title=\"psysml:26253911-6243-446d-b791-23c0e42b91a5\" xlink:actuate=\"onRequest\" xlink:href=\"psysml:26253911-6243-446d-b791-23c0e42b91a5\" xlink:show=\"new\" xlink:title=\"psysml:26253911-6243-446d-b791-23c0e42b91a5\" xlink:type=\"simple\"><path d=\"M312,66 C312,66 312,112.68 312,112.68 \" fill=\"none\" id=\"E1&lt;-E5\" style=\"stroke: #383838; stroke-width: 1.0;\"/><polygon fill=\"#383838\" points=\"312,53,308,59,312,65,316,59,312,53\" style=\"stroke: #383838; stroke-width: 1.0;\"/></a><!--MD5=[aca2ef284c2b1b90e17e73bf3f292c07]\n",
       "reverse link E1 to E6--><a href=\"psysml:e8354a48-cb93-46c3-a69e-19a4acf29f71\" target=\"_top\" title=\"psysml:e8354a48-cb93-46c3-a69e-19a4acf29f71\" xlink:actuate=\"onRequest\" xlink:href=\"psysml:e8354a48-cb93-46c3-a69e-19a4acf29f71\" xlink:show=\"new\" xlink:title=\"psysml:e8354a48-cb93-46c3-a69e-19a4acf29f71\" xlink:type=\"simple\"><path d=\"M344.17,38 C344.17,38 428.5,38 428.5,38 C428.5,38 428.5,83.8 428.5,112.78 \" fill=\"none\" id=\"E1&lt;-E6\" style=\"stroke: #383838; stroke-width: 1.0;\"/><polygon fill=\"#383838\" points=\"331.17,38,337.17,42,343.17,38,337.17,34,331.17,38\" style=\"stroke: #383838; stroke-width: 1.0;\"/><text fill=\"#000000\" font-family=\"sans-serif\" font-size=\"13\" lengthAdjust=\"spacingAndGlyphs\" textLength=\"7\" x=\"420.6031\" y=\"101.9999\">*</text></a><!--MD5=[fc9706a6b2cf8c0e423679d303750d3f]\n",
       "reverse link E1 to E7--><a href=\"psysml:8dca6daf-962f-46a3-bb74-22037bd04295\" target=\"_top\" title=\"psysml:8dca6daf-962f-46a3-bb74-22037bd04295\" xlink:actuate=\"onRequest\" xlink:href=\"psysml:8dca6daf-962f-46a3-bb74-22037bd04295\" xlink:show=\"new\" xlink:title=\"psysml:8dca6daf-962f-46a3-bb74-22037bd04295\" xlink:type=\"simple\"><path d=\"M344.25,23 C344.25,23 518.5,23 518.5,23 C518.5,23 518.5,79.8 518.5,112.86 \" fill=\"none\" id=\"E1&lt;-E7\" style=\"stroke: #383838; stroke-width: 1.0;\"/><polygon fill=\"#383838\" points=\"331.25,23,337.25,27,343.25,23,337.25,19,331.25,23\" style=\"stroke: #383838; stroke-width: 1.0;\"/><text fill=\"#000000\" font-family=\"sans-serif\" font-size=\"13\" lengthAdjust=\"spacingAndGlyphs\" textLength=\"7\" x=\"510.6031\" y=\"102.1004\">*</text></a><!--MD5=[09d89e5b13bd6cdc85cec7e1adea141f]\n",
       "@startuml\r\n",
       "skinparam linetype ortho\r\n",
       "skinparam monochrome true\r\n",
       "skinparam classbackgroundcolor white\r\n",
       "skinparam shadowing false\r\n",
       "skinparam wrapWidth 300\r\n",
       "hide circle\r\n",
       "\r\n",
       "comp def \"ControlNodeTest\" as E1  <<(T,blue) action def>> [[psysml:d75b3c07-b549-4c23-b2aa-d48828b6adea ]] {\r\n",
       "}\r\n",
       "comp usage \"A1\" as E2  <<(T,blue) action>> [[psysml:c07d7274-d0ac-44b0-95a3-e3c0562da237 ]] {\r\n",
       "}\r\n",
       "comp usage \"A2\" as E3  <<(T,blue) action>> [[psysml:7bb05ae1-d1dd-4ff0-97ee-ce3344a0751d ]] {\r\n",
       "}\r\n",
       "comp usage \"J\" as E4  <<(T,blue) joinNode>> [[psysml:f3bfce16-3667-4a48-a42e-fd992fa328bf ]] {\r\n",
       "}\r\n",
       "comp usage \"F\" as E5  <<(T,blue) forkNode>> [[psysml:08c848ef-d5ea-4388-acb9-5b8d01347f10 ]] {\r\n",
       "}\r\n",
       "comp usage \"B1\" as E6  <<(T,blue) action>> [[psysml:d5fd7944-a8f1-4c67-81d3-da10d551f750 ]] {\r\n",
       "}\r\n",
       "comp usage \"B2\" as E7  <<(T,blue) action>> [[psysml:b7d3ffe5-6bb9-4232-a5c3-5eafb8d0b5f9 ]] {\r\n",
       "}\r\n",
       "E1 *- - \"*\"E2 [[psysml:090da899-d633-4f68-ac70-93df987c1f89 ]] \r\n",
       "E1 *- - \"*\"E3 [[psysml:797c4c3c-8cfb-4ed1-914f-99d654db3cec ]] \r\n",
       "E1 *- - E4 [[psysml:70a466ea-83ad-4e19-afa5-d192b13fd9c7 ]] \r\n",
       "E1 *- - E5 [[psysml:26253911-6243-446d-b791-23c0e42b91a5 ]] \r\n",
       "E1 *- - \"*\"E6 [[psysml:e8354a48-cb93-46c3-a69e-19a4acf29f71 ]] \r\n",
       "E1 *- - \"*\"E7 [[psysml:8dca6daf-962f-46a3-bb74-22037bd04295 ]] \r\n",
       "@enduml\r\n",
       "\n",
       "PlantUML version 1.2020.13(Sat Jun 13 12:26:38 UTC 2020)\n",
       "(EPL source distribution)\n",
       "Java Runtime: OpenJDK Runtime Environment\n",
       "JVM: OpenJDK 64-Bit Server VM\n",
       "Default Encoding: UTF-8\n",
       "Language: en\n",
       "Country: null\n",
       "--></g></svg>"
      ]
     },
     "execution_count": 52,
     "metadata": {},
     "output_type": "execute_result"
    }
   ],
   "source": [
    "%viz --style=\"ORTHOLINE\" --view=\"Tree\" \"ControlNodeTest\""
   ]
  },
  {
   "cell_type": "code",
   "execution_count": 53,
   "id": "8892f47d",
   "metadata": {
    "execution": {
     "iopub.execute_input": "2021-08-04T06:26:32.875592Z",
     "iopub.status.busy": "2021-08-04T06:26:32.875199Z",
     "iopub.status.idle": "2021-08-04T06:26:32.878759Z",
     "shell.execute_reply": "2021-08-04T06:26:32.878407Z"
    }
   },
   "outputs": [
    {
     "data": {
      "image/svg+xml": [
       "<?xml version=\"1.0\" encoding=\"UTF-8\" standalone=\"no\"?><svg xmlns=\"http://www.w3.org/2000/svg\" xmlns:xlink=\"http://www.w3.org/1999/xlink\" contentScriptType=\"application/ecmascript\" contentStyleType=\"text/css\" height=\"12px\" preserveAspectRatio=\"none\" style=\"width:12px;height:12px;\" version=\"1.1\" viewBox=\"0 0 12 12\" width=\"12px\" zoomAndPan=\"magnify\"><defs/><g><!--MD5=[97d6f38768b311333d388e66b2b27985]\n",
       "@startuml\r\n",
       "skinparam linetype ortho\r\n",
       "skinparam monochrome true\r\n",
       "skinparam classbackgroundcolor white\r\n",
       "skinparam shadowing false\r\n",
       "skinparam wrapWidth 300\r\n",
       "hide circle\r\n",
       "\r\n",
       "@enduml\r\n",
       "\n",
       "PlantUML version 1.2020.13(Sat Jun 13 12:26:38 UTC 2020)\n",
       "(EPL source distribution)\n",
       "Java Runtime: OpenJDK Runtime Environment\n",
       "JVM: OpenJDK 64-Bit Server VM\n",
       "Default Encoding: UTF-8\n",
       "Language: en\n",
       "Country: null\n",
       "--></g></svg>"
      ]
     },
     "execution_count": 53,
     "metadata": {},
     "output_type": "execute_result"
    }
   ],
   "source": [
    "%viz --style=\"ORTHOLINE\" --view=\"State\" \"ControlNodeTest\""
   ]
  },
  {
   "cell_type": "code",
   "execution_count": 54,
   "id": "793bdec3",
   "metadata": {
    "execution": {
     "iopub.execute_input": "2021-08-04T06:26:32.928651Z",
     "iopub.status.busy": "2021-08-04T06:26:32.928218Z",
     "iopub.status.idle": "2021-08-04T06:26:32.958668Z",
     "shell.execute_reply": "2021-08-04T06:26:32.958325Z"
    }
   },
   "outputs": [
    {
     "data": {
      "image/svg+xml": [
       "<?xml version=\"1.0\" encoding=\"UTF-8\" standalone=\"no\"?><svg xmlns=\"http://www.w3.org/2000/svg\" xmlns:xlink=\"http://www.w3.org/1999/xlink\" contentScriptType=\"application/ecmascript\" contentStyleType=\"text/css\" height=\"217px\" preserveAspectRatio=\"none\" style=\"width:205px;height:217px;\" version=\"1.1\" viewBox=\"0 0 205 217\" width=\"205px\" zoomAndPan=\"magnify\"><defs/><g><!--MD5=[fbc87193dbaf4d95561dea2c320d4a47]\n",
       "cluster E1--><a href=\"psysml:d75b3c07-b549-4c23-b2aa-d48828b6adea\" target=\"_top\" title=\"psysml:d75b3c07-b549-4c23-b2aa-d48828b6adea\" xlink:actuate=\"onRequest\" xlink:href=\"psysml:d75b3c07-b549-4c23-b2aa-d48828b6adea\" xlink:show=\"new\" xlink:title=\"psysml:d75b3c07-b549-4c23-b2aa-d48828b6adea\" xlink:type=\"simple\"><rect fill=\"#FFFFFF\" height=\"199\" id=\"E1\" style=\"stroke: #383838; stroke-width: 1.5;\" width=\"187\" x=\"7\" y=\"7\"/><rect fill=\"#F8F8F8\" height=\"37.9375\" style=\"stroke: #383838; stroke-width: 1.5;\" width=\"187\" x=\"7\" y=\"7\"/><text fill=\"#000000\" font-family=\"sans-serif\" font-size=\"12\" font-style=\"italic\" lengthAdjust=\"spacingAndGlyphs\" textLength=\"77\" x=\"62\" y=\"23.1387\">«action def»</text><text fill=\"#000000\" font-family=\"sans-serif\" font-size=\"12\" lengthAdjust=\"spacingAndGlyphs\" textLength=\"105\" x=\"48\" y=\"37.1074\">ControlNodeTest</text></a><rect fill=\"#000000\" height=\"8\" style=\"stroke: none; stroke-width: 1.0;\" width=\"80\" x=\"60\" y=\"111\"/><rect fill=\"#000000\" height=\"8\" style=\"stroke: none; stroke-width: 1.0;\" width=\"80\" x=\"60\" y=\"129\"/><g id=\"E1.E2\"><a href=\"psysml:c07d7274-d0ac-44b0-95a3-e3c0562da237\" target=\"_top\" title=\"psysml:c07d7274-d0ac-44b0-95a3-e3c0562da237\" xlink:actuate=\"onRequest\" xlink:href=\"psysml:c07d7274-d0ac-44b0-95a3-e3c0562da237\" xlink:show=\"new\" xlink:title=\"psysml:c07d7274-d0ac-44b0-95a3-e3c0562da237\" xlink:type=\"simple\"><rect fill=\"#FFFFFF\" height=\"42.9375\" id=\"E2\" rx=\"10\" ry=\"10\" style=\"stroke: #383838; stroke-width: 1.5;\" width=\"60\" x=\"118\" y=\"58\"/><rect fill=\"#F8F8F8\" height=\"37.9375\" rx=\"10\" ry=\"10\" style=\"stroke: #F8F8F8; stroke-width: 1.5;\" width=\"60\" x=\"118\" y=\"58\"/><rect fill=\"#F8F8F8\" height=\"10\" style=\"stroke: #F8F8F8; stroke-width: 1.5;\" width=\"60\" x=\"118\" y=\"85.9375\"/><rect fill=\"none\" height=\"42.9375\" id=\"E2\" rx=\"10\" ry=\"10\" style=\"stroke: #383838; stroke-width: 1.5;\" width=\"60\" x=\"118\" y=\"58\"/><text fill=\"#000000\" font-family=\"sans-serif\" font-size=\"12\" font-style=\"italic\" lengthAdjust=\"spacingAndGlyphs\" textLength=\"53\" x=\"121.5\" y=\"74.1387\">«action»</text><text fill=\"#000000\" font-family=\"sans-serif\" font-size=\"12\" lengthAdjust=\"spacingAndGlyphs\" textLength=\"16\" x=\"140\" y=\"88.1074\">A1</text></a></g><g id=\"E1.E3\"><a href=\"psysml:7bb05ae1-d1dd-4ff0-97ee-ce3344a0751d\" target=\"_top\" title=\"psysml:7bb05ae1-d1dd-4ff0-97ee-ce3344a0751d\" xlink:actuate=\"onRequest\" xlink:href=\"psysml:7bb05ae1-d1dd-4ff0-97ee-ce3344a0751d\" xlink:show=\"new\" xlink:title=\"psysml:7bb05ae1-d1dd-4ff0-97ee-ce3344a0751d\" xlink:type=\"simple\"><rect fill=\"#FFFFFF\" height=\"42.9375\" id=\"E3\" rx=\"10\" ry=\"10\" style=\"stroke: #383838; stroke-width: 1.5;\" width=\"60\" x=\"23\" y=\"58\"/><rect fill=\"#F8F8F8\" height=\"37.9375\" rx=\"10\" ry=\"10\" style=\"stroke: #F8F8F8; stroke-width: 1.5;\" width=\"60\" x=\"23\" y=\"58\"/><rect fill=\"#F8F8F8\" height=\"10\" style=\"stroke: #F8F8F8; stroke-width: 1.5;\" width=\"60\" x=\"23\" y=\"85.9375\"/><rect fill=\"none\" height=\"42.9375\" id=\"E3\" rx=\"10\" ry=\"10\" style=\"stroke: #383838; stroke-width: 1.5;\" width=\"60\" x=\"23\" y=\"58\"/><text fill=\"#000000\" font-family=\"sans-serif\" font-size=\"12\" font-style=\"italic\" lengthAdjust=\"spacingAndGlyphs\" textLength=\"53\" x=\"26.5\" y=\"74.1387\">«action»</text><text fill=\"#000000\" font-family=\"sans-serif\" font-size=\"12\" lengthAdjust=\"spacingAndGlyphs\" textLength=\"16\" x=\"45\" y=\"88.1074\">A2</text></a></g><g id=\"E1.E6\"><a href=\"psysml:d5fd7944-a8f1-4c67-81d3-da10d551f750\" target=\"_top\" title=\"psysml:d5fd7944-a8f1-4c67-81d3-da10d551f750\" xlink:actuate=\"onRequest\" xlink:href=\"psysml:d5fd7944-a8f1-4c67-81d3-da10d551f750\" xlink:show=\"new\" xlink:title=\"psysml:d5fd7944-a8f1-4c67-81d3-da10d551f750\" xlink:type=\"simple\"><rect fill=\"#FFFFFF\" height=\"42.9375\" id=\"E6\" rx=\"10\" ry=\"10\" style=\"stroke: #383838; stroke-width: 1.5;\" width=\"60\" x=\"23\" y=\"147\"/><rect fill=\"#F8F8F8\" height=\"37.9375\" rx=\"10\" ry=\"10\" style=\"stroke: #F8F8F8; stroke-width: 1.5;\" width=\"60\" x=\"23\" y=\"147\"/><rect fill=\"#F8F8F8\" height=\"10\" style=\"stroke: #F8F8F8; stroke-width: 1.5;\" width=\"60\" x=\"23\" y=\"174.9375\"/><rect fill=\"none\" height=\"42.9375\" id=\"E6\" rx=\"10\" ry=\"10\" style=\"stroke: #383838; stroke-width: 1.5;\" width=\"60\" x=\"23\" y=\"147\"/><text fill=\"#000000\" font-family=\"sans-serif\" font-size=\"12\" font-style=\"italic\" lengthAdjust=\"spacingAndGlyphs\" textLength=\"53\" x=\"26.5\" y=\"163.1387\">«action»</text><text fill=\"#000000\" font-family=\"sans-serif\" font-size=\"12\" lengthAdjust=\"spacingAndGlyphs\" textLength=\"16\" x=\"45\" y=\"177.1074\">B1</text></a></g><g id=\"E1.E7\"><a href=\"psysml:b7d3ffe5-6bb9-4232-a5c3-5eafb8d0b5f9\" target=\"_top\" title=\"psysml:b7d3ffe5-6bb9-4232-a5c3-5eafb8d0b5f9\" xlink:actuate=\"onRequest\" xlink:href=\"psysml:b7d3ffe5-6bb9-4232-a5c3-5eafb8d0b5f9\" xlink:show=\"new\" xlink:title=\"psysml:b7d3ffe5-6bb9-4232-a5c3-5eafb8d0b5f9\" xlink:type=\"simple\"><rect fill=\"#FFFFFF\" height=\"42.9375\" id=\"E7\" rx=\"10\" ry=\"10\" style=\"stroke: #383838; stroke-width: 1.5;\" width=\"60\" x=\"118\" y=\"147\"/><rect fill=\"#F8F8F8\" height=\"37.9375\" rx=\"10\" ry=\"10\" style=\"stroke: #F8F8F8; stroke-width: 1.5;\" width=\"60\" x=\"118\" y=\"147\"/><rect fill=\"#F8F8F8\" height=\"10\" style=\"stroke: #F8F8F8; stroke-width: 1.5;\" width=\"60\" x=\"118\" y=\"174.9375\"/><rect fill=\"none\" height=\"42.9375\" id=\"E7\" rx=\"10\" ry=\"10\" style=\"stroke: #383838; stroke-width: 1.5;\" width=\"60\" x=\"118\" y=\"147\"/><text fill=\"#000000\" font-family=\"sans-serif\" font-size=\"12\" font-style=\"italic\" lengthAdjust=\"spacingAndGlyphs\" textLength=\"53\" x=\"121.5\" y=\"163.1387\">«action»</text><text fill=\"#000000\" font-family=\"sans-serif\" font-size=\"12\" lengthAdjust=\"spacingAndGlyphs\" textLength=\"16\" x=\"140\" y=\"177.1074\">B2</text></a></g><!--MD5=[4d03bb2d0377dc85ccfab60ff574652b]\n",
       "link E2 to E4--><a href=\"psysml:a5b917a3-7538-4e28-aa62-755107929dae\" target=\"_top\" title=\"psysml:a5b917a3-7538-4e28-aa62-755107929dae\" xlink:actuate=\"onRequest\" xlink:href=\"psysml:a5b917a3-7538-4e28-aa62-755107929dae\" xlink:show=\"new\" xlink:title=\"psysml:a5b917a3-7538-4e28-aa62-755107929dae\" xlink:type=\"simple\"><path d=\"M129,101.38 C129,101.38 129,105.93 129,105.93 \" fill=\"none\" id=\"E2-&gt;E4\" style=\"stroke: #383838; stroke-width: 1.0;\"/><polygon fill=\"#383838\" points=\"129,110.93,133,101.93,129,105.93,125,101.93,129,110.93\" style=\"stroke: #383838; stroke-width: 1.0;\"/><text fill=\"#000000\" font-family=\"sans-serif\" font-size=\"13\" lengthAdjust=\"spacingAndGlyphs\" textLength=\"7\" x=\"134.4298\" y=\"120.7771\">*</text></a><!--MD5=[af87c684e3b0d8be13c1a698a818ef1e]\n",
       "link E3 to E4--><a href=\"psysml:b67a9087-1129-4a2e-aba3-334d88c3cbf2\" target=\"_top\" title=\"psysml:b67a9087-1129-4a2e-aba3-334d88c3cbf2\" xlink:actuate=\"onRequest\" xlink:href=\"psysml:b67a9087-1129-4a2e-aba3-334d88c3cbf2\" xlink:show=\"new\" xlink:title=\"psysml:b67a9087-1129-4a2e-aba3-334d88c3cbf2\" xlink:type=\"simple\"><path d=\"M71.5,101.38 C71.5,101.38 71.5,105.93 71.5,105.93 \" fill=\"none\" id=\"E3-&gt;E4\" style=\"stroke: #383838; stroke-width: 1.0;\"/><polygon fill=\"#383838\" points=\"71.5,110.93,75.5,101.93,71.5,105.93,67.5,101.93,71.5,110.93\" style=\"stroke: #383838; stroke-width: 1.0;\"/><text fill=\"#000000\" font-family=\"sans-serif\" font-size=\"13\" lengthAdjust=\"spacingAndGlyphs\" textLength=\"7\" x=\"39.495\" y=\"120.9044\">*</text></a><!--MD5=[1b7591eae5389033d8d09a9d6721a717]\n",
       "link E4 to E5--><a href=\"psysml:9a17080e-ae46-40d4-b989-796f716175e4\" target=\"_top\" title=\"psysml:9a17080e-ae46-40d4-b989-796f716175e4\" xlink:actuate=\"onRequest\" xlink:href=\"psysml:9a17080e-ae46-40d4-b989-796f716175e4\" xlink:show=\"new\" xlink:title=\"psysml:9a17080e-ae46-40d4-b989-796f716175e4\" xlink:type=\"simple\"><path d=\"M100,119.17 C100,119.17 100,123.6 100,123.6 \" fill=\"none\" id=\"E4-&gt;E5\" style=\"stroke: #383838; stroke-width: 1.0;\"/><polygon fill=\"#383838\" points=\"100,128.6,104,119.6,100,123.6,96,119.6,100,128.6\" style=\"stroke: #383838; stroke-width: 1.0;\"/><text fill=\"#000000\" font-family=\"sans-serif\" font-size=\"13\" lengthAdjust=\"spacingAndGlyphs\" textLength=\"7\" x=\"43.3276\" y=\"136.1011\">*</text></a><!--MD5=[9120cf2e5df3bff93db8f754bbbc09b4]\n",
       "link E5 to E6--><a href=\"psysml:197b427e-ad07-4e53-856c-ed2b1bc0e06a\" target=\"_top\" title=\"psysml:197b427e-ad07-4e53-856c-ed2b1bc0e06a\" xlink:actuate=\"onRequest\" xlink:href=\"psysml:197b427e-ad07-4e53-856c-ed2b1bc0e06a\" xlink:show=\"new\" xlink:title=\"psysml:197b427e-ad07-4e53-856c-ed2b1bc0e06a\" xlink:type=\"simple\"><path d=\"M71.5,137.07 C71.5,137.07 71.5,141.87 71.5,141.87 \" fill=\"none\" id=\"E5-&gt;E6\" style=\"stroke: #383838; stroke-width: 1.0;\"/><polygon fill=\"#383838\" points=\"71.5,146.87,75.5,137.87,71.5,141.87,67.5,137.87,71.5,146.87\" style=\"stroke: #383838; stroke-width: 1.0;\"/><text fill=\"#000000\" font-family=\"sans-serif\" font-size=\"13\" lengthAdjust=\"spacingAndGlyphs\" textLength=\"7\" x=\"42.6575\" y=\"135.6478\">*</text></a><!--MD5=[3a9b96bfbf6b6ad89c494e81751bda47]\n",
       "link E5 to E7--><a href=\"psysml:b67e977c-71d2-45f4-9959-07a509bb3c26\" target=\"_top\" title=\"psysml:b67e977c-71d2-45f4-9959-07a509bb3c26\" xlink:actuate=\"onRequest\" xlink:href=\"psysml:b67e977c-71d2-45f4-9959-07a509bb3c26\" xlink:show=\"new\" xlink:title=\"psysml:b67e977c-71d2-45f4-9959-07a509bb3c26\" xlink:type=\"simple\"><path d=\"M129,137.07 C129,137.07 129,141.87 129,141.87 \" fill=\"none\" id=\"E5-&gt;E7\" style=\"stroke: #383838; stroke-width: 1.0;\"/><polygon fill=\"#383838\" points=\"129,146.87,133,137.87,129,141.87,125,137.87,129,146.87\" style=\"stroke: #383838; stroke-width: 1.0;\"/><text fill=\"#000000\" font-family=\"sans-serif\" font-size=\"13\" lengthAdjust=\"spacingAndGlyphs\" textLength=\"7\" x=\"150.5473\" y=\"135.671\">*</text></a><!--MD5=[112be03202a8fd52806dde9de13d62d1]\n",
       "@startuml\r\n",
       "skinparam ranksep 10\r\n",
       "skinparam rectangle {\r\n",
       " backgroundColor<<block>> LightGreen\r\n",
       "}\r\n",
       "skinparam linetype ortho\r\n",
       "skinparam monochrome true\r\n",
       "skinparam classbackgroundcolor white\r\n",
       "skinparam shadowing false\r\n",
       "skinparam wrapWidth 300\r\n",
       "hide circle\r\n",
       "\r\n",
       "rec def \"ControlNodeTest\" as E1  <<(T,blue) action def>> [[psysml:d75b3c07-b549-4c23-b2aa-d48828b6adea ]] {\r\n",
       "rec usage \"A1\" as E2  <<(T,blue) action>> [[psysml:c07d7274-d0ac-44b0-95a3-e3c0562da237 ]] {\r\n",
       "}\r\n",
       "\r\n",
       "rec usage \"A2\" as E3  <<(T,blue) action>> [[psysml:7bb05ae1-d1dd-4ff0-97ee-ce3344a0751d ]] {\r\n",
       "}\r\n",
       "\r\n",
       "join \"J\" as E4  [[psysml:f3bfce16-3667-4a48-a42e-fd992fa328bf ]] \r\n",
       "fork \"F\" as E5  [[psysml:08c848ef-d5ea-4388-acb9-5b8d01347f10 ]] \r\n",
       "rec usage \"B1\" as E6  <<(T,blue) action>> [[psysml:d5fd7944-a8f1-4c67-81d3-da10d551f750 ]] {\r\n",
       "}\r\n",
       "\r\n",
       "rec usage \"B2\" as E7  <<(T,blue) action>> [[psysml:b7d3ffe5-6bb9-4232-a5c3-5eafb8d0b5f9 ]] {\r\n",
       "}\r\n",
       "\r\n",
       "}\r\n",
       "\r\n",
       "E2 - -> \"*\"E4 [[psysml:a5b917a3-7538-4e28-aa62-755107929dae ]] \r\n",
       "E3 - -> \"*\"E4 [[psysml:b67a9087-1129-4a2e-aba3-334d88c3cbf2 ]] \r\n",
       "E4 - -> \"*\"E5 [[psysml:9a17080e-ae46-40d4-b989-796f716175e4 ]] \r\n",
       "E5 - -> \"*\"E6 [[psysml:197b427e-ad07-4e53-856c-ed2b1bc0e06a ]] \r\n",
       "E5 - -> \"*\"E7 [[psysml:b67e977c-71d2-45f4-9959-07a509bb3c26 ]] \r\n",
       "@enduml\r\n",
       "\n",
       "PlantUML version 1.2020.13(Sat Jun 13 12:26:38 UTC 2020)\n",
       "(EPL source distribution)\n",
       "Java Runtime: OpenJDK Runtime Environment\n",
       "JVM: OpenJDK 64-Bit Server VM\n",
       "Default Encoding: UTF-8\n",
       "Language: en\n",
       "Country: null\n",
       "--></g></svg>"
      ]
     },
     "execution_count": 54,
     "metadata": {},
     "output_type": "execute_result"
    }
   ],
   "source": [
    "%viz --style=\"ORTHOLINE\" --view=\"Interconnection\" \"ControlNodeTest\""
   ]
  },
  {
   "cell_type": "code",
   "execution_count": 55,
   "id": "6d586ffe",
   "metadata": {
    "execution": {
     "iopub.execute_input": "2021-08-04T06:26:33.008253Z",
     "iopub.status.busy": "2021-08-04T06:26:33.007863Z",
     "iopub.status.idle": "2021-08-04T06:26:33.033571Z",
     "shell.execute_reply": "2021-08-04T06:26:33.033384Z"
    }
   },
   "outputs": [
    {
     "data": {
      "image/svg+xml": [
       "<?xml version=\"1.0\" encoding=\"UTF-8\" standalone=\"no\"?><svg xmlns=\"http://www.w3.org/2000/svg\" xmlns:xlink=\"http://www.w3.org/1999/xlink\" contentScriptType=\"application/ecmascript\" contentStyleType=\"text/css\" height=\"211px\" preserveAspectRatio=\"none\" style=\"width:205px;height:211px;\" version=\"1.1\" viewBox=\"0 0 205 211\" width=\"205px\" zoomAndPan=\"magnify\"><defs/><g><!--MD5=[fbc87193dbaf4d95561dea2c320d4a47]\n",
       "cluster E1--><a href=\"psysml:d75b3c07-b549-4c23-b2aa-d48828b6adea\" target=\"_top\" title=\"psysml:d75b3c07-b549-4c23-b2aa-d48828b6adea\" xlink:actuate=\"onRequest\" xlink:href=\"psysml:d75b3c07-b549-4c23-b2aa-d48828b6adea\" xlink:show=\"new\" xlink:title=\"psysml:d75b3c07-b549-4c23-b2aa-d48828b6adea\" xlink:type=\"simple\"><rect fill=\"#FFFFFF\" height=\"193\" id=\"E1\" style=\"stroke: #383838; stroke-width: 1.5;\" width=\"187\" x=\"7\" y=\"7\"/><rect fill=\"#F8F8F8\" height=\"37.9375\" style=\"stroke: #383838; stroke-width: 1.5;\" width=\"187\" x=\"7\" y=\"7\"/><text fill=\"#000000\" font-family=\"sans-serif\" font-size=\"12\" font-style=\"italic\" lengthAdjust=\"spacingAndGlyphs\" textLength=\"77\" x=\"62\" y=\"23.1387\">«action def»</text><text fill=\"#000000\" font-family=\"sans-serif\" font-size=\"12\" lengthAdjust=\"spacingAndGlyphs\" textLength=\"105\" x=\"48\" y=\"37.1074\">ControlNodeTest</text></a><rect fill=\"#000000\" height=\"8\" style=\"stroke: none; stroke-width: 1.0;\" width=\"80\" x=\"60\" y=\"109\"/><rect fill=\"#000000\" height=\"8\" style=\"stroke: none; stroke-width: 1.0;\" width=\"80\" x=\"60\" y=\"125\"/><g id=\"E1.E2\"><a href=\"psysml:c07d7274-d0ac-44b0-95a3-e3c0562da237\" target=\"_top\" title=\"psysml:c07d7274-d0ac-44b0-95a3-e3c0562da237\" xlink:actuate=\"onRequest\" xlink:href=\"psysml:c07d7274-d0ac-44b0-95a3-e3c0562da237\" xlink:show=\"new\" xlink:title=\"psysml:c07d7274-d0ac-44b0-95a3-e3c0562da237\" xlink:type=\"simple\"><rect fill=\"#FFFFFF\" height=\"42.9375\" id=\"E2\" rx=\"10\" ry=\"10\" style=\"stroke: #383838; stroke-width: 1.5;\" width=\"60\" x=\"118\" y=\"58\"/><rect fill=\"#F8F8F8\" height=\"37.9375\" rx=\"10\" ry=\"10\" style=\"stroke: #F8F8F8; stroke-width: 1.5;\" width=\"60\" x=\"118\" y=\"58\"/><rect fill=\"#F8F8F8\" height=\"10\" style=\"stroke: #F8F8F8; stroke-width: 1.5;\" width=\"60\" x=\"118\" y=\"85.9375\"/><rect fill=\"none\" height=\"42.9375\" id=\"E2\" rx=\"10\" ry=\"10\" style=\"stroke: #383838; stroke-width: 1.5;\" width=\"60\" x=\"118\" y=\"58\"/><text fill=\"#000000\" font-family=\"sans-serif\" font-size=\"12\" font-style=\"italic\" lengthAdjust=\"spacingAndGlyphs\" textLength=\"53\" x=\"121.5\" y=\"74.1387\">«action»</text><text fill=\"#000000\" font-family=\"sans-serif\" font-size=\"12\" lengthAdjust=\"spacingAndGlyphs\" textLength=\"16\" x=\"140\" y=\"88.1074\">A1</text></a></g><g id=\"E1.E3\"><a href=\"psysml:7bb05ae1-d1dd-4ff0-97ee-ce3344a0751d\" target=\"_top\" title=\"psysml:7bb05ae1-d1dd-4ff0-97ee-ce3344a0751d\" xlink:actuate=\"onRequest\" xlink:href=\"psysml:7bb05ae1-d1dd-4ff0-97ee-ce3344a0751d\" xlink:show=\"new\" xlink:title=\"psysml:7bb05ae1-d1dd-4ff0-97ee-ce3344a0751d\" xlink:type=\"simple\"><rect fill=\"#FFFFFF\" height=\"42.9375\" id=\"E3\" rx=\"10\" ry=\"10\" style=\"stroke: #383838; stroke-width: 1.5;\" width=\"60\" x=\"23\" y=\"58\"/><rect fill=\"#F8F8F8\" height=\"37.9375\" rx=\"10\" ry=\"10\" style=\"stroke: #F8F8F8; stroke-width: 1.5;\" width=\"60\" x=\"23\" y=\"58\"/><rect fill=\"#F8F8F8\" height=\"10\" style=\"stroke: #F8F8F8; stroke-width: 1.5;\" width=\"60\" x=\"23\" y=\"85.9375\"/><rect fill=\"none\" height=\"42.9375\" id=\"E3\" rx=\"10\" ry=\"10\" style=\"stroke: #383838; stroke-width: 1.5;\" width=\"60\" x=\"23\" y=\"58\"/><text fill=\"#000000\" font-family=\"sans-serif\" font-size=\"12\" font-style=\"italic\" lengthAdjust=\"spacingAndGlyphs\" textLength=\"53\" x=\"26.5\" y=\"74.1387\">«action»</text><text fill=\"#000000\" font-family=\"sans-serif\" font-size=\"12\" lengthAdjust=\"spacingAndGlyphs\" textLength=\"16\" x=\"45\" y=\"88.1074\">A2</text></a></g><g id=\"E1.E6\"><a href=\"psysml:d5fd7944-a8f1-4c67-81d3-da10d551f750\" target=\"_top\" title=\"psysml:d5fd7944-a8f1-4c67-81d3-da10d551f750\" xlink:actuate=\"onRequest\" xlink:href=\"psysml:d5fd7944-a8f1-4c67-81d3-da10d551f750\" xlink:show=\"new\" xlink:title=\"psysml:d5fd7944-a8f1-4c67-81d3-da10d551f750\" xlink:type=\"simple\"><rect fill=\"#FFFFFF\" height=\"42.9375\" id=\"E6\" rx=\"10\" ry=\"10\" style=\"stroke: #383838; stroke-width: 1.5;\" width=\"60\" x=\"23\" y=\"141\"/><rect fill=\"#F8F8F8\" height=\"37.9375\" rx=\"10\" ry=\"10\" style=\"stroke: #F8F8F8; stroke-width: 1.5;\" width=\"60\" x=\"23\" y=\"141\"/><rect fill=\"#F8F8F8\" height=\"10\" style=\"stroke: #F8F8F8; stroke-width: 1.5;\" width=\"60\" x=\"23\" y=\"168.9375\"/><rect fill=\"none\" height=\"42.9375\" id=\"E6\" rx=\"10\" ry=\"10\" style=\"stroke: #383838; stroke-width: 1.5;\" width=\"60\" x=\"23\" y=\"141\"/><text fill=\"#000000\" font-family=\"sans-serif\" font-size=\"12\" font-style=\"italic\" lengthAdjust=\"spacingAndGlyphs\" textLength=\"53\" x=\"26.5\" y=\"157.1387\">«action»</text><text fill=\"#000000\" font-family=\"sans-serif\" font-size=\"12\" lengthAdjust=\"spacingAndGlyphs\" textLength=\"16\" x=\"45\" y=\"171.1074\">B1</text></a></g><g id=\"E1.E7\"><a href=\"psysml:b7d3ffe5-6bb9-4232-a5c3-5eafb8d0b5f9\" target=\"_top\" title=\"psysml:b7d3ffe5-6bb9-4232-a5c3-5eafb8d0b5f9\" xlink:actuate=\"onRequest\" xlink:href=\"psysml:b7d3ffe5-6bb9-4232-a5c3-5eafb8d0b5f9\" xlink:show=\"new\" xlink:title=\"psysml:b7d3ffe5-6bb9-4232-a5c3-5eafb8d0b5f9\" xlink:type=\"simple\"><rect fill=\"#FFFFFF\" height=\"42.9375\" id=\"E7\" rx=\"10\" ry=\"10\" style=\"stroke: #383838; stroke-width: 1.5;\" width=\"60\" x=\"118\" y=\"141\"/><rect fill=\"#F8F8F8\" height=\"37.9375\" rx=\"10\" ry=\"10\" style=\"stroke: #F8F8F8; stroke-width: 1.5;\" width=\"60\" x=\"118\" y=\"141\"/><rect fill=\"#F8F8F8\" height=\"10\" style=\"stroke: #F8F8F8; stroke-width: 1.5;\" width=\"60\" x=\"118\" y=\"168.9375\"/><rect fill=\"none\" height=\"42.9375\" id=\"E7\" rx=\"10\" ry=\"10\" style=\"stroke: #383838; stroke-width: 1.5;\" width=\"60\" x=\"118\" y=\"141\"/><text fill=\"#000000\" font-family=\"sans-serif\" font-size=\"12\" font-style=\"italic\" lengthAdjust=\"spacingAndGlyphs\" textLength=\"53\" x=\"121.5\" y=\"157.1387\">«action»</text><text fill=\"#000000\" font-family=\"sans-serif\" font-size=\"12\" lengthAdjust=\"spacingAndGlyphs\" textLength=\"16\" x=\"140\" y=\"171.1074\">B2</text></a></g><!--MD5=[4d03bb2d0377dc85ccfab60ff574652b]\n",
       "link E2 to E4--><a href=\"psysml:a5b917a3-7538-4e28-aa62-755107929dae\" target=\"_top\" title=\"psysml:a5b917a3-7538-4e28-aa62-755107929dae\" xlink:actuate=\"onRequest\" xlink:href=\"psysml:a5b917a3-7538-4e28-aa62-755107929dae\" xlink:show=\"new\" xlink:title=\"psysml:a5b917a3-7538-4e28-aa62-755107929dae\" xlink:type=\"simple\"><path d=\"M129,101.28 C129,101.28 129,103.71 129,103.71 \" fill=\"none\" id=\"E2-&gt;E4\" style=\"stroke: #383838; stroke-width: 1.0; stroke-dasharray: 7.0,7.0;\"/><polygon fill=\"#383838\" points=\"129,108.71,133,99.71,129,103.71,125,99.71,129,108.71\" style=\"stroke: #383838; stroke-width: 1.0;\"/></a><!--MD5=[af87c684e3b0d8be13c1a698a818ef1e]\n",
       "link E3 to E4--><a href=\"psysml:b67a9087-1129-4a2e-aba3-334d88c3cbf2\" target=\"_top\" title=\"psysml:b67a9087-1129-4a2e-aba3-334d88c3cbf2\" xlink:actuate=\"onRequest\" xlink:href=\"psysml:b67a9087-1129-4a2e-aba3-334d88c3cbf2\" xlink:show=\"new\" xlink:title=\"psysml:b67a9087-1129-4a2e-aba3-334d88c3cbf2\" xlink:type=\"simple\"><path d=\"M71.5,101.28 C71.5,101.28 71.5,103.71 71.5,103.71 \" fill=\"none\" id=\"E3-&gt;E4\" style=\"stroke: #383838; stroke-width: 1.0; stroke-dasharray: 7.0,7.0;\"/><polygon fill=\"#383838\" points=\"71.5,108.71,75.5,99.71,71.5,103.71,67.5,99.71,71.5,108.71\" style=\"stroke: #383838; stroke-width: 1.0;\"/></a><!--MD5=[1b7591eae5389033d8d09a9d6721a717]\n",
       "link E4 to E5--><a href=\"psysml:9a17080e-ae46-40d4-b989-796f716175e4\" target=\"_top\" title=\"psysml:9a17080e-ae46-40d4-b989-796f716175e4\" xlink:actuate=\"onRequest\" xlink:href=\"psysml:9a17080e-ae46-40d4-b989-796f716175e4\" xlink:show=\"new\" xlink:title=\"psysml:9a17080e-ae46-40d4-b989-796f716175e4\" xlink:type=\"simple\"><path d=\"M100,117.04 C100,117.04 100,119.8 100,119.8 \" fill=\"none\" id=\"E4-&gt;E5\" style=\"stroke: #383838; stroke-width: 1.0; stroke-dasharray: 7.0,7.0;\"/><polygon fill=\"#383838\" points=\"100,124.8,104,115.8,100,119.8,96,115.8,100,124.8\" style=\"stroke: #383838; stroke-width: 1.0;\"/></a><!--MD5=[9120cf2e5df3bff93db8f754bbbc09b4]\n",
       "link E5 to E6--><a href=\"psysml:197b427e-ad07-4e53-856c-ed2b1bc0e06a\" target=\"_top\" title=\"psysml:197b427e-ad07-4e53-856c-ed2b1bc0e06a\" xlink:actuate=\"onRequest\" xlink:href=\"psysml:197b427e-ad07-4e53-856c-ed2b1bc0e06a\" xlink:show=\"new\" xlink:title=\"psysml:197b427e-ad07-4e53-856c-ed2b1bc0e06a\" xlink:type=\"simple\"><path d=\"M71.5,133.11 C71.5,133.11 71.5,135.88 71.5,135.88 \" fill=\"none\" id=\"E5-&gt;E6\" style=\"stroke: #383838; stroke-width: 1.0; stroke-dasharray: 7.0,7.0;\"/><polygon fill=\"#383838\" points=\"71.5,140.88,75.5,131.88,71.5,135.88,67.5,131.88,71.5,140.88\" style=\"stroke: #383838; stroke-width: 1.0;\"/></a><!--MD5=[3a9b96bfbf6b6ad89c494e81751bda47]\n",
       "link E5 to E7--><a href=\"psysml:b67e977c-71d2-45f4-9959-07a509bb3c26\" target=\"_top\" title=\"psysml:b67e977c-71d2-45f4-9959-07a509bb3c26\" xlink:actuate=\"onRequest\" xlink:href=\"psysml:b67e977c-71d2-45f4-9959-07a509bb3c26\" xlink:show=\"new\" xlink:title=\"psysml:b67e977c-71d2-45f4-9959-07a509bb3c26\" xlink:type=\"simple\"><path d=\"M129,133.11 C129,133.11 129,135.88 129,135.88 \" fill=\"none\" id=\"E5-&gt;E7\" style=\"stroke: #383838; stroke-width: 1.0; stroke-dasharray: 7.0,7.0;\"/><polygon fill=\"#383838\" points=\"129,140.88,133,131.88,129,135.88,125,131.88,129,140.88\" style=\"stroke: #383838; stroke-width: 1.0;\"/></a><!--MD5=[530e32f20f064c931687f43ce470e6be]\n",
       "@startuml\r\n",
       "skinparam ranksep 8\r\n",
       "skinparam linetype ortho\r\n",
       "skinparam monochrome true\r\n",
       "skinparam classbackgroundcolor white\r\n",
       "skinparam shadowing false\r\n",
       "skinparam wrapWidth 300\r\n",
       "hide circle\r\n",
       "\r\n",
       "rec def \"ControlNodeTest\" as E1  <<(T,blue) action def>> [[psysml:d75b3c07-b549-4c23-b2aa-d48828b6adea ]] {\r\n",
       "rec usage \"A1\" as E2  <<(T,blue) action>> [[psysml:c07d7274-d0ac-44b0-95a3-e3c0562da237 ]] {\r\n",
       "}\r\n",
       "\r\n",
       "rec usage \"A2\" as E3  <<(T,blue) action>> [[psysml:7bb05ae1-d1dd-4ff0-97ee-ce3344a0751d ]] {\r\n",
       "}\r\n",
       "\r\n",
       "join \"J\" as E4  [[psysml:f3bfce16-3667-4a48-a42e-fd992fa328bf ]] \r\n",
       "fork \"F\" as E5  [[psysml:08c848ef-d5ea-4388-acb9-5b8d01347f10 ]] \r\n",
       "rec usage \"B1\" as E6  <<(T,blue) action>> [[psysml:d5fd7944-a8f1-4c67-81d3-da10d551f750 ]] {\r\n",
       "}\r\n",
       "\r\n",
       "rec usage \"B2\" as E7  <<(T,blue) action>> [[psysml:b7d3ffe5-6bb9-4232-a5c3-5eafb8d0b5f9 ]] {\r\n",
       "}\r\n",
       "\r\n",
       "}\r\n",
       "\r\n",
       "E2 ..> E4 [[psysml:a5b917a3-7538-4e28-aa62-755107929dae ]] \r\n",
       "E3 ..> E4 [[psysml:b67a9087-1129-4a2e-aba3-334d88c3cbf2 ]] \r\n",
       "E4 ..> E5 [[psysml:9a17080e-ae46-40d4-b989-796f716175e4 ]] \r\n",
       "E5 ..> E6 [[psysml:197b427e-ad07-4e53-856c-ed2b1bc0e06a ]] \r\n",
       "E5 ..> E7 [[psysml:b67e977c-71d2-45f4-9959-07a509bb3c26 ]] \r\n",
       "@enduml\r\n",
       "\n",
       "PlantUML version 1.2020.13(Sat Jun 13 12:26:38 UTC 2020)\n",
       "(EPL source distribution)\n",
       "Java Runtime: OpenJDK Runtime Environment\n",
       "JVM: OpenJDK 64-Bit Server VM\n",
       "Default Encoding: UTF-8\n",
       "Language: en\n",
       "Country: null\n",
       "--></g></svg>"
      ]
     },
     "execution_count": 55,
     "metadata": {},
     "output_type": "execute_result"
    }
   ],
   "source": [
    "%viz --style=\"ORTHOLINE\" --view=\"Action\" \"ControlNodeTest\""
   ]
  },
  {
   "cell_type": "code",
   "execution_count": 56,
   "id": "38d99761",
   "metadata": {
    "execution": {
     "iopub.execute_input": "2021-08-04T06:26:33.083135Z",
     "iopub.status.busy": "2021-08-04T06:26:33.082891Z",
     "iopub.status.idle": "2021-08-04T06:26:33.108408Z",
     "shell.execute_reply": "2021-08-04T06:26:33.108208Z"
    }
   },
   "outputs": [
    {
     "data": {
      "image/svg+xml": [
       "<?xml version=\"1.0\" encoding=\"UTF-8\" standalone=\"no\"?><svg xmlns=\"http://www.w3.org/2000/svg\" xmlns:xlink=\"http://www.w3.org/1999/xlink\" contentScriptType=\"application/ecmascript\" contentStyleType=\"text/css\" height=\"169px\" preserveAspectRatio=\"none\" style=\"width:557px;height:169px;\" version=\"1.1\" viewBox=\"0 0 557 169\" width=\"557px\" zoomAndPan=\"magnify\"><defs/><g><!--MD5=[43c9051892ef23e1a46a86907403d788]\n",
       "class E1--><a href=\"psysml:d75b3c07-b549-4c23-b2aa-d48828b6adea\" target=\"_top\" title=\"psysml:d75b3c07-b549-4c23-b2aa-d48828b6adea\" xlink:actuate=\"onRequest\" xlink:href=\"psysml:d75b3c07-b549-4c23-b2aa-d48828b6adea\" xlink:show=\"new\" xlink:title=\"psysml:d75b3c07-b549-4c23-b2aa-d48828b6adea\" xlink:type=\"simple\"><rect fill=\"#FFFFFF\" height=\"45.9375\" id=\"E1\" style=\"stroke: #383838; stroke-width: 1.5;\" width=\"111\" x=\"220\" y=\"7\"/><text fill=\"#000000\" font-family=\"sans-serif\" font-size=\"12\" font-style=\"italic\" lengthAdjust=\"spacingAndGlyphs\" textLength=\"77\" x=\"237\" y=\"23.1387\">«action def»</text><text fill=\"#000000\" font-family=\"sans-serif\" font-size=\"12\" lengthAdjust=\"spacingAndGlyphs\" textLength=\"105\" x=\"223\" y=\"37.1074\">ControlNodeTest</text><line style=\"stroke: #383838; stroke-width: 1.5;\" x1=\"221\" x2=\"330\" y1=\"44.9375\" y2=\"44.9375\"/></a><!--MD5=[b4997ac47864f28c2f74865a473b2911]\n",
       "class E2--><a href=\"psysml:c07d7274-d0ac-44b0-95a3-e3c0562da237\" target=\"_top\" title=\"psysml:c07d7274-d0ac-44b0-95a3-e3c0562da237\" xlink:actuate=\"onRequest\" xlink:href=\"psysml:c07d7274-d0ac-44b0-95a3-e3c0562da237\" xlink:show=\"new\" xlink:title=\"psysml:c07d7274-d0ac-44b0-95a3-e3c0562da237\" xlink:type=\"simple\"><rect fill=\"#FFFFFF\" height=\"45.9375\" id=\"E2\" rx=\"10\" ry=\"10\" style=\"stroke: #383838; stroke-width: 1.5;\" width=\"55\" x=\"7\" y=\"113\"/><text fill=\"#000000\" font-family=\"sans-serif\" font-size=\"12\" font-style=\"italic\" lengthAdjust=\"spacingAndGlyphs\" textLength=\"53\" x=\"8\" y=\"129.1387\">«action»</text><text fill=\"#000000\" font-family=\"sans-serif\" font-size=\"12\" lengthAdjust=\"spacingAndGlyphs\" textLength=\"16\" x=\"26.5\" y=\"143.1074\">A1</text><line style=\"stroke: #383838; stroke-width: 1.5;\" x1=\"8\" x2=\"61\" y1=\"150.9375\" y2=\"150.9375\"/></a><!--MD5=[09b614a08d8cba4a07c9adeb5e0fee81]\n",
       "class E3--><a href=\"psysml:7bb05ae1-d1dd-4ff0-97ee-ce3344a0751d\" target=\"_top\" title=\"psysml:7bb05ae1-d1dd-4ff0-97ee-ce3344a0751d\" xlink:actuate=\"onRequest\" xlink:href=\"psysml:7bb05ae1-d1dd-4ff0-97ee-ce3344a0751d\" xlink:show=\"new\" xlink:title=\"psysml:7bb05ae1-d1dd-4ff0-97ee-ce3344a0751d\" xlink:type=\"simple\"><rect fill=\"#FFFFFF\" height=\"45.9375\" id=\"E3\" rx=\"10\" ry=\"10\" style=\"stroke: #383838; stroke-width: 1.5;\" width=\"55\" x=\"97\" y=\"113\"/><text fill=\"#000000\" font-family=\"sans-serif\" font-size=\"12\" font-style=\"italic\" lengthAdjust=\"spacingAndGlyphs\" textLength=\"53\" x=\"98\" y=\"129.1387\">«action»</text><text fill=\"#000000\" font-family=\"sans-serif\" font-size=\"12\" lengthAdjust=\"spacingAndGlyphs\" textLength=\"16\" x=\"116.5\" y=\"143.1074\">A2</text><line style=\"stroke: #383838; stroke-width: 1.5;\" x1=\"98\" x2=\"151\" y1=\"150.9375\" y2=\"150.9375\"/></a><!--MD5=[ebbe1d658d1005bcc118a6aa81145e00]\n",
       "class E4--><a href=\"psysml:f3bfce16-3667-4a48-a42e-fd992fa328bf\" target=\"_top\" title=\"psysml:f3bfce16-3667-4a48-a42e-fd992fa328bf\" xlink:actuate=\"onRequest\" xlink:href=\"psysml:f3bfce16-3667-4a48-a42e-fd992fa328bf\" xlink:show=\"new\" xlink:title=\"psysml:f3bfce16-3667-4a48-a42e-fd992fa328bf\" xlink:type=\"simple\"><rect fill=\"#FFFFFF\" height=\"45.9375\" id=\"E4\" rx=\"10\" ry=\"10\" style=\"stroke: #383838; stroke-width: 1.5;\" width=\"71\" x=\"187\" y=\"113\"/><text fill=\"#000000\" font-family=\"sans-serif\" font-size=\"12\" font-style=\"italic\" lengthAdjust=\"spacingAndGlyphs\" textLength=\"69\" x=\"188\" y=\"129.1387\">«joinNode»</text><text fill=\"#000000\" font-family=\"sans-serif\" font-size=\"12\" lengthAdjust=\"spacingAndGlyphs\" textLength=\"3\" x=\"221\" y=\"143.1074\">J</text><line style=\"stroke: #383838; stroke-width: 1.5;\" x1=\"188\" x2=\"257\" y1=\"150.9375\" y2=\"150.9375\"/></a><!--MD5=[270fce915f116d4de14055a7c1d9a0f3]\n",
       "class E5--><a href=\"psysml:08c848ef-d5ea-4388-acb9-5b8d01347f10\" target=\"_top\" title=\"psysml:08c848ef-d5ea-4388-acb9-5b8d01347f10\" xlink:actuate=\"onRequest\" xlink:href=\"psysml:08c848ef-d5ea-4388-acb9-5b8d01347f10\" xlink:show=\"new\" xlink:title=\"psysml:08c848ef-d5ea-4388-acb9-5b8d01347f10\" xlink:type=\"simple\"><rect fill=\"#FFFFFF\" height=\"45.9375\" id=\"E5\" rx=\"10\" ry=\"10\" style=\"stroke: #383838; stroke-width: 1.5;\" width=\"73\" x=\"293\" y=\"113\"/><text fill=\"#000000\" font-family=\"sans-serif\" font-size=\"12\" font-style=\"italic\" lengthAdjust=\"spacingAndGlyphs\" textLength=\"71\" x=\"294\" y=\"129.1387\">«forkNode»</text><text fill=\"#000000\" font-family=\"sans-serif\" font-size=\"12\" lengthAdjust=\"spacingAndGlyphs\" textLength=\"7\" x=\"326\" y=\"143.1074\">F</text><line style=\"stroke: #383838; stroke-width: 1.5;\" x1=\"294\" x2=\"365\" y1=\"150.9375\" y2=\"150.9375\"/></a><!--MD5=[60a26617385b1d2d0262a64233df1f8d]\n",
       "class E6--><a href=\"psysml:d5fd7944-a8f1-4c67-81d3-da10d551f750\" target=\"_top\" title=\"psysml:d5fd7944-a8f1-4c67-81d3-da10d551f750\" xlink:actuate=\"onRequest\" xlink:href=\"psysml:d5fd7944-a8f1-4c67-81d3-da10d551f750\" xlink:show=\"new\" xlink:title=\"psysml:d5fd7944-a8f1-4c67-81d3-da10d551f750\" xlink:type=\"simple\"><rect fill=\"#FFFFFF\" height=\"45.9375\" id=\"E6\" rx=\"10\" ry=\"10\" style=\"stroke: #383838; stroke-width: 1.5;\" width=\"55\" x=\"401\" y=\"113\"/><text fill=\"#000000\" font-family=\"sans-serif\" font-size=\"12\" font-style=\"italic\" lengthAdjust=\"spacingAndGlyphs\" textLength=\"53\" x=\"402\" y=\"129.1387\">«action»</text><text fill=\"#000000\" font-family=\"sans-serif\" font-size=\"12\" lengthAdjust=\"spacingAndGlyphs\" textLength=\"16\" x=\"420.5\" y=\"143.1074\">B1</text><line style=\"stroke: #383838; stroke-width: 1.5;\" x1=\"402\" x2=\"455\" y1=\"150.9375\" y2=\"150.9375\"/></a><!--MD5=[2156ba9850f5573cc1fc38a6a4b2f02b]\n",
       "class E7--><a href=\"psysml:b7d3ffe5-6bb9-4232-a5c3-5eafb8d0b5f9\" target=\"_top\" title=\"psysml:b7d3ffe5-6bb9-4232-a5c3-5eafb8d0b5f9\" xlink:actuate=\"onRequest\" xlink:href=\"psysml:b7d3ffe5-6bb9-4232-a5c3-5eafb8d0b5f9\" xlink:show=\"new\" xlink:title=\"psysml:b7d3ffe5-6bb9-4232-a5c3-5eafb8d0b5f9\" xlink:type=\"simple\"><rect fill=\"#FFFFFF\" height=\"45.9375\" id=\"E7\" rx=\"10\" ry=\"10\" style=\"stroke: #383838; stroke-width: 1.5;\" width=\"55\" x=\"491\" y=\"113\"/><text fill=\"#000000\" font-family=\"sans-serif\" font-size=\"12\" font-style=\"italic\" lengthAdjust=\"spacingAndGlyphs\" textLength=\"53\" x=\"492\" y=\"129.1387\">«action»</text><text fill=\"#000000\" font-family=\"sans-serif\" font-size=\"12\" lengthAdjust=\"spacingAndGlyphs\" textLength=\"16\" x=\"510.5\" y=\"143.1074\">B2</text><line style=\"stroke: #383838; stroke-width: 1.5;\" x1=\"492\" x2=\"545\" y1=\"150.9375\" y2=\"150.9375\"/></a><!--MD5=[a523cb2a0b79ecf9065ad8783f96c320]\n",
       "reverse link E1 to E2--><a href=\"psysml:090da899-d633-4f68-ac70-93df987c1f89\" target=\"_top\" title=\"psysml:090da899-d633-4f68-ac70-93df987c1f89\" xlink:actuate=\"onRequest\" xlink:href=\"psysml:090da899-d633-4f68-ac70-93df987c1f89\" xlink:show=\"new\" xlink:title=\"psysml:090da899-d633-4f68-ac70-93df987c1f89\" xlink:type=\"simple\"><path d=\"M206.91,23 C206.91,23 34.5,23 34.5,23 C34.5,23 34.5,79.8 34.5,112.86 \" fill=\"none\" id=\"E1&lt;-E2\" style=\"stroke: #383838; stroke-width: 1.0;\"/><polygon fill=\"#383838\" points=\"219.91,23,213.91,19,207.91,23,213.91,27,219.91,23\" style=\"stroke: #383838; stroke-width: 1.0;\"/><text fill=\"#000000\" font-family=\"sans-serif\" font-size=\"13\" lengthAdjust=\"spacingAndGlyphs\" textLength=\"7\" x=\"26.6031\" y=\"102.1004\">*</text></a><!--MD5=[5d7b3810b1dd9b5164bea1151b29b665]\n",
       "reverse link E1 to E3--><a href=\"psysml:797c4c3c-8cfb-4ed1-914f-99d654db3cec\" target=\"_top\" title=\"psysml:797c4c3c-8cfb-4ed1-914f-99d654db3cec\" xlink:actuate=\"onRequest\" xlink:href=\"psysml:797c4c3c-8cfb-4ed1-914f-99d654db3cec\" xlink:show=\"new\" xlink:title=\"psysml:797c4c3c-8cfb-4ed1-914f-99d654db3cec\" xlink:type=\"simple\"><path d=\"M206.7,38 C206.7,38 124.5,38 124.5,38 C124.5,38 124.5,83.8 124.5,112.78 \" fill=\"none\" id=\"E1&lt;-E3\" style=\"stroke: #383838; stroke-width: 1.0;\"/><polygon fill=\"#383838\" points=\"219.7,38,213.7,34,207.7,38,213.7,42,219.7,38\" style=\"stroke: #383838; stroke-width: 1.0;\"/><text fill=\"#000000\" font-family=\"sans-serif\" font-size=\"13\" lengthAdjust=\"spacingAndGlyphs\" textLength=\"7\" x=\"116.6031\" y=\"101.9999\">*</text></a><!--MD5=[f2c5c03aa1e8c0ba21c10a05e6444b8e]\n",
       "reverse link E1 to E4--><a href=\"psysml:70a466ea-83ad-4e19-afa5-d192b13fd9c7\" target=\"_top\" title=\"psysml:70a466ea-83ad-4e19-afa5-d192b13fd9c7\" xlink:actuate=\"onRequest\" xlink:href=\"psysml:70a466ea-83ad-4e19-afa5-d192b13fd9c7\" xlink:show=\"new\" xlink:title=\"psysml:70a466ea-83ad-4e19-afa5-d192b13fd9c7\" xlink:type=\"simple\"><path d=\"M239,66 C239,66 239,112.68 239,112.68 \" fill=\"none\" id=\"E1&lt;-E4\" style=\"stroke: #383838; stroke-width: 1.0;\"/><polygon fill=\"#383838\" points=\"239,53,235,59,239,65,243,59,239,53\" style=\"stroke: #383838; stroke-width: 1.0;\"/></a><!--MD5=[33238bef88d6431a141d8bc8fb12bca0]\n",
       "reverse link E1 to E5--><a href=\"psysml:26253911-6243-446d-b791-23c0e42b91a5\" target=\"_top\" title=\"psysml:26253911-6243-446d-b791-23c0e42b91a5\" xlink:actuate=\"onRequest\" xlink:href=\"psysml:26253911-6243-446d-b791-23c0e42b91a5\" xlink:show=\"new\" xlink:title=\"psysml:26253911-6243-446d-b791-23c0e42b91a5\" xlink:type=\"simple\"><path d=\"M312,66 C312,66 312,112.68 312,112.68 \" fill=\"none\" id=\"E1&lt;-E5\" style=\"stroke: #383838; stroke-width: 1.0;\"/><polygon fill=\"#383838\" points=\"312,53,308,59,312,65,316,59,312,53\" style=\"stroke: #383838; stroke-width: 1.0;\"/></a><!--MD5=[aca2ef284c2b1b90e17e73bf3f292c07]\n",
       "reverse link E1 to E6--><a href=\"psysml:e8354a48-cb93-46c3-a69e-19a4acf29f71\" target=\"_top\" title=\"psysml:e8354a48-cb93-46c3-a69e-19a4acf29f71\" xlink:actuate=\"onRequest\" xlink:href=\"psysml:e8354a48-cb93-46c3-a69e-19a4acf29f71\" xlink:show=\"new\" xlink:title=\"psysml:e8354a48-cb93-46c3-a69e-19a4acf29f71\" xlink:type=\"simple\"><path d=\"M344.17,38 C344.17,38 428.5,38 428.5,38 C428.5,38 428.5,83.8 428.5,112.78 \" fill=\"none\" id=\"E1&lt;-E6\" style=\"stroke: #383838; stroke-width: 1.0;\"/><polygon fill=\"#383838\" points=\"331.17,38,337.17,42,343.17,38,337.17,34,331.17,38\" style=\"stroke: #383838; stroke-width: 1.0;\"/><text fill=\"#000000\" font-family=\"sans-serif\" font-size=\"13\" lengthAdjust=\"spacingAndGlyphs\" textLength=\"7\" x=\"420.6031\" y=\"101.9999\">*</text></a><!--MD5=[fc9706a6b2cf8c0e423679d303750d3f]\n",
       "reverse link E1 to E7--><a href=\"psysml:8dca6daf-962f-46a3-bb74-22037bd04295\" target=\"_top\" title=\"psysml:8dca6daf-962f-46a3-bb74-22037bd04295\" xlink:actuate=\"onRequest\" xlink:href=\"psysml:8dca6daf-962f-46a3-bb74-22037bd04295\" xlink:show=\"new\" xlink:title=\"psysml:8dca6daf-962f-46a3-bb74-22037bd04295\" xlink:type=\"simple\"><path d=\"M344.25,23 C344.25,23 518.5,23 518.5,23 C518.5,23 518.5,79.8 518.5,112.86 \" fill=\"none\" id=\"E1&lt;-E7\" style=\"stroke: #383838; stroke-width: 1.0;\"/><polygon fill=\"#383838\" points=\"331.25,23,337.25,27,343.25,23,337.25,19,331.25,23\" style=\"stroke: #383838; stroke-width: 1.0;\"/><text fill=\"#000000\" font-family=\"sans-serif\" font-size=\"13\" lengthAdjust=\"spacingAndGlyphs\" textLength=\"7\" x=\"510.6031\" y=\"102.1004\">*</text></a><!--MD5=[09d89e5b13bd6cdc85cec7e1adea141f]\n",
       "@startuml\r\n",
       "skinparam linetype ortho\r\n",
       "skinparam monochrome true\r\n",
       "skinparam classbackgroundcolor white\r\n",
       "skinparam shadowing false\r\n",
       "skinparam wrapWidth 300\r\n",
       "hide circle\r\n",
       "\r\n",
       "comp def \"ControlNodeTest\" as E1  <<(T,blue) action def>> [[psysml:d75b3c07-b549-4c23-b2aa-d48828b6adea ]] {\r\n",
       "}\r\n",
       "comp usage \"A1\" as E2  <<(T,blue) action>> [[psysml:c07d7274-d0ac-44b0-95a3-e3c0562da237 ]] {\r\n",
       "}\r\n",
       "comp usage \"A2\" as E3  <<(T,blue) action>> [[psysml:7bb05ae1-d1dd-4ff0-97ee-ce3344a0751d ]] {\r\n",
       "}\r\n",
       "comp usage \"J\" as E4  <<(T,blue) joinNode>> [[psysml:f3bfce16-3667-4a48-a42e-fd992fa328bf ]] {\r\n",
       "}\r\n",
       "comp usage \"F\" as E5  <<(T,blue) forkNode>> [[psysml:08c848ef-d5ea-4388-acb9-5b8d01347f10 ]] {\r\n",
       "}\r\n",
       "comp usage \"B1\" as E6  <<(T,blue) action>> [[psysml:d5fd7944-a8f1-4c67-81d3-da10d551f750 ]] {\r\n",
       "}\r\n",
       "comp usage \"B2\" as E7  <<(T,blue) action>> [[psysml:b7d3ffe5-6bb9-4232-a5c3-5eafb8d0b5f9 ]] {\r\n",
       "}\r\n",
       "E1 *- - \"*\"E2 [[psysml:090da899-d633-4f68-ac70-93df987c1f89 ]] \r\n",
       "E1 *- - \"*\"E3 [[psysml:797c4c3c-8cfb-4ed1-914f-99d654db3cec ]] \r\n",
       "E1 *- - E4 [[psysml:70a466ea-83ad-4e19-afa5-d192b13fd9c7 ]] \r\n",
       "E1 *- - E5 [[psysml:26253911-6243-446d-b791-23c0e42b91a5 ]] \r\n",
       "E1 *- - \"*\"E6 [[psysml:e8354a48-cb93-46c3-a69e-19a4acf29f71 ]] \r\n",
       "E1 *- - \"*\"E7 [[psysml:8dca6daf-962f-46a3-bb74-22037bd04295 ]] \r\n",
       "@enduml\r\n",
       "\n",
       "PlantUML version 1.2020.13(Sat Jun 13 12:26:38 UTC 2020)\n",
       "(EPL source distribution)\n",
       "Java Runtime: OpenJDK Runtime Environment\n",
       "JVM: OpenJDK 64-Bit Server VM\n",
       "Default Encoding: UTF-8\n",
       "Language: en\n",
       "Country: null\n",
       "--></g></svg>"
      ]
     },
     "execution_count": 56,
     "metadata": {},
     "output_type": "execute_result"
    }
   ],
   "source": [
    "%viz --style=\"ORTHOLINE\" --view=\"Sequence\" \"ControlNodeTest\""
   ]
  },
  {
   "cell_type": "code",
   "execution_count": 57,
   "id": "602eccb4",
   "metadata": {
    "execution": {
     "iopub.execute_input": "2021-08-04T06:26:33.158740Z",
     "iopub.status.busy": "2021-08-04T06:26:33.158343Z",
     "iopub.status.idle": "2021-08-04T06:26:33.189206Z",
     "shell.execute_reply": "2021-08-04T06:26:33.188853Z"
    }
   },
   "outputs": [
    {
     "data": {
      "image/svg+xml": [
       "<?xml version=\"1.0\" encoding=\"UTF-8\" standalone=\"no\"?><svg xmlns=\"http://www.w3.org/2000/svg\" xmlns:xlink=\"http://www.w3.org/1999/xlink\" contentScriptType=\"application/ecmascript\" contentStyleType=\"text/css\" height=\"367px\" preserveAspectRatio=\"none\" style=\"width:205px;height:367px;\" version=\"1.1\" viewBox=\"0 0 205 367\" width=\"205px\" zoomAndPan=\"magnify\"><defs/><g><!--MD5=[fbc87193dbaf4d95561dea2c320d4a47]\n",
       "cluster E1--><a href=\"psysml:d75b3c07-b549-4c23-b2aa-d48828b6adea\" target=\"_top\" title=\"psysml:d75b3c07-b549-4c23-b2aa-d48828b6adea\" xlink:actuate=\"onRequest\" xlink:href=\"psysml:d75b3c07-b549-4c23-b2aa-d48828b6adea\" xlink:show=\"new\" xlink:title=\"psysml:d75b3c07-b549-4c23-b2aa-d48828b6adea\" xlink:type=\"simple\"><rect fill=\"#FFFFFF\" height=\"349\" id=\"E1\" style=\"stroke: #383838; stroke-width: 1.5;\" width=\"187\" x=\"7\" y=\"7\"/><rect fill=\"#F8F8F8\" height=\"37.9375\" style=\"stroke: #383838; stroke-width: 1.5;\" width=\"187\" x=\"7\" y=\"7\"/><text fill=\"#000000\" font-family=\"sans-serif\" font-size=\"12\" font-style=\"italic\" lengthAdjust=\"spacingAndGlyphs\" textLength=\"77\" x=\"62\" y=\"23.1387\">«action def»</text><text fill=\"#000000\" font-family=\"sans-serif\" font-size=\"12\" lengthAdjust=\"spacingAndGlyphs\" textLength=\"105\" x=\"48\" y=\"37.1074\">ControlNodeTest</text></a><rect fill=\"#000000\" height=\"8\" style=\"stroke: none; stroke-width: 1.0;\" width=\"80\" x=\"60\" y=\"161\"/><rect fill=\"#000000\" height=\"8\" style=\"stroke: none; stroke-width: 1.0;\" width=\"80\" x=\"60\" y=\"229\"/><g id=\"E1.E2\"><a href=\"psysml:c07d7274-d0ac-44b0-95a3-e3c0562da237\" target=\"_top\" title=\"psysml:c07d7274-d0ac-44b0-95a3-e3c0562da237\" xlink:actuate=\"onRequest\" xlink:href=\"psysml:c07d7274-d0ac-44b0-95a3-e3c0562da237\" xlink:show=\"new\" xlink:title=\"psysml:c07d7274-d0ac-44b0-95a3-e3c0562da237\" xlink:type=\"simple\"><rect fill=\"#FFFFFF\" height=\"42.9375\" id=\"E2\" rx=\"10\" ry=\"10\" style=\"stroke: #383838; stroke-width: 1.5;\" width=\"60\" x=\"118\" y=\"58\"/><rect fill=\"#F8F8F8\" height=\"37.9375\" rx=\"10\" ry=\"10\" style=\"stroke: #F8F8F8; stroke-width: 1.5;\" width=\"60\" x=\"118\" y=\"58\"/><rect fill=\"#F8F8F8\" height=\"10\" style=\"stroke: #F8F8F8; stroke-width: 1.5;\" width=\"60\" x=\"118\" y=\"85.9375\"/><rect fill=\"none\" height=\"42.9375\" id=\"E2\" rx=\"10\" ry=\"10\" style=\"stroke: #383838; stroke-width: 1.5;\" width=\"60\" x=\"118\" y=\"58\"/><text fill=\"#000000\" font-family=\"sans-serif\" font-size=\"12\" font-style=\"italic\" lengthAdjust=\"spacingAndGlyphs\" textLength=\"53\" x=\"121.5\" y=\"74.1387\">«action»</text><text fill=\"#000000\" font-family=\"sans-serif\" font-size=\"12\" lengthAdjust=\"spacingAndGlyphs\" textLength=\"16\" x=\"140\" y=\"88.1074\">A1</text></a></g><g id=\"E1.E3\"><a href=\"psysml:7bb05ae1-d1dd-4ff0-97ee-ce3344a0751d\" target=\"_top\" title=\"psysml:7bb05ae1-d1dd-4ff0-97ee-ce3344a0751d\" xlink:actuate=\"onRequest\" xlink:href=\"psysml:7bb05ae1-d1dd-4ff0-97ee-ce3344a0751d\" xlink:show=\"new\" xlink:title=\"psysml:7bb05ae1-d1dd-4ff0-97ee-ce3344a0751d\" xlink:type=\"simple\"><rect fill=\"#FFFFFF\" height=\"42.9375\" id=\"E3\" rx=\"10\" ry=\"10\" style=\"stroke: #383838; stroke-width: 1.5;\" width=\"60\" x=\"23\" y=\"58\"/><rect fill=\"#F8F8F8\" height=\"37.9375\" rx=\"10\" ry=\"10\" style=\"stroke: #F8F8F8; stroke-width: 1.5;\" width=\"60\" x=\"23\" y=\"58\"/><rect fill=\"#F8F8F8\" height=\"10\" style=\"stroke: #F8F8F8; stroke-width: 1.5;\" width=\"60\" x=\"23\" y=\"85.9375\"/><rect fill=\"none\" height=\"42.9375\" id=\"E3\" rx=\"10\" ry=\"10\" style=\"stroke: #383838; stroke-width: 1.5;\" width=\"60\" x=\"23\" y=\"58\"/><text fill=\"#000000\" font-family=\"sans-serif\" font-size=\"12\" font-style=\"italic\" lengthAdjust=\"spacingAndGlyphs\" textLength=\"53\" x=\"26.5\" y=\"74.1387\">«action»</text><text fill=\"#000000\" font-family=\"sans-serif\" font-size=\"12\" lengthAdjust=\"spacingAndGlyphs\" textLength=\"16\" x=\"45\" y=\"88.1074\">A2</text></a></g><g id=\"E1.E6\"><a href=\"psysml:d5fd7944-a8f1-4c67-81d3-da10d551f750\" target=\"_top\" title=\"psysml:d5fd7944-a8f1-4c67-81d3-da10d551f750\" xlink:actuate=\"onRequest\" xlink:href=\"psysml:d5fd7944-a8f1-4c67-81d3-da10d551f750\" xlink:show=\"new\" xlink:title=\"psysml:d5fd7944-a8f1-4c67-81d3-da10d551f750\" xlink:type=\"simple\"><rect fill=\"#FFFFFF\" height=\"42.9375\" id=\"E6\" rx=\"10\" ry=\"10\" style=\"stroke: #383838; stroke-width: 1.5;\" width=\"60\" x=\"23\" y=\"297\"/><rect fill=\"#F8F8F8\" height=\"37.9375\" rx=\"10\" ry=\"10\" style=\"stroke: #F8F8F8; stroke-width: 1.5;\" width=\"60\" x=\"23\" y=\"297\"/><rect fill=\"#F8F8F8\" height=\"10\" style=\"stroke: #F8F8F8; stroke-width: 1.5;\" width=\"60\" x=\"23\" y=\"324.9375\"/><rect fill=\"none\" height=\"42.9375\" id=\"E6\" rx=\"10\" ry=\"10\" style=\"stroke: #383838; stroke-width: 1.5;\" width=\"60\" x=\"23\" y=\"297\"/><text fill=\"#000000\" font-family=\"sans-serif\" font-size=\"12\" font-style=\"italic\" lengthAdjust=\"spacingAndGlyphs\" textLength=\"53\" x=\"26.5\" y=\"313.1387\">«action»</text><text fill=\"#000000\" font-family=\"sans-serif\" font-size=\"12\" lengthAdjust=\"spacingAndGlyphs\" textLength=\"16\" x=\"45\" y=\"327.1074\">B1</text></a></g><g id=\"E1.E7\"><a href=\"psysml:b7d3ffe5-6bb9-4232-a5c3-5eafb8d0b5f9\" target=\"_top\" title=\"psysml:b7d3ffe5-6bb9-4232-a5c3-5eafb8d0b5f9\" xlink:actuate=\"onRequest\" xlink:href=\"psysml:b7d3ffe5-6bb9-4232-a5c3-5eafb8d0b5f9\" xlink:show=\"new\" xlink:title=\"psysml:b7d3ffe5-6bb9-4232-a5c3-5eafb8d0b5f9\" xlink:type=\"simple\"><rect fill=\"#FFFFFF\" height=\"42.9375\" id=\"E7\" rx=\"10\" ry=\"10\" style=\"stroke: #383838; stroke-width: 1.5;\" width=\"60\" x=\"118\" y=\"297\"/><rect fill=\"#F8F8F8\" height=\"37.9375\" rx=\"10\" ry=\"10\" style=\"stroke: #F8F8F8; stroke-width: 1.5;\" width=\"60\" x=\"118\" y=\"297\"/><rect fill=\"#F8F8F8\" height=\"10\" style=\"stroke: #F8F8F8; stroke-width: 1.5;\" width=\"60\" x=\"118\" y=\"324.9375\"/><rect fill=\"none\" height=\"42.9375\" id=\"E7\" rx=\"10\" ry=\"10\" style=\"stroke: #383838; stroke-width: 1.5;\" width=\"60\" x=\"118\" y=\"297\"/><text fill=\"#000000\" font-family=\"sans-serif\" font-size=\"12\" font-style=\"italic\" lengthAdjust=\"spacingAndGlyphs\" textLength=\"53\" x=\"121.5\" y=\"313.1387\">«action»</text><text fill=\"#000000\" font-family=\"sans-serif\" font-size=\"12\" lengthAdjust=\"spacingAndGlyphs\" textLength=\"16\" x=\"140\" y=\"327.1074\">B2</text></a></g><!--MD5=[4d03bb2d0377dc85ccfab60ff574652b]\n",
       "link E2 to E4--><a href=\"psysml:a5b917a3-7538-4e28-aa62-755107929dae\" target=\"_top\" title=\"psysml:a5b917a3-7538-4e28-aa62-755107929dae\" xlink:actuate=\"onRequest\" xlink:href=\"psysml:a5b917a3-7538-4e28-aa62-755107929dae\" xlink:show=\"new\" xlink:title=\"psysml:a5b917a3-7538-4e28-aa62-755107929dae\" xlink:type=\"simple\"><path d=\"M129,101.08 C129,101.08 129,155.97 129,155.97 \" fill=\"none\" id=\"E2-&gt;E4\" style=\"stroke: #383838; stroke-width: 1.0;\"/><polygon fill=\"#383838\" points=\"129,160.97,133,151.97,129,155.97,125,151.97,129,160.97\" style=\"stroke: #383838; stroke-width: 1.0;\"/><text fill=\"#000000\" font-family=\"sans-serif\" font-size=\"13\" lengthAdjust=\"spacingAndGlyphs\" textLength=\"7\" x=\"140.1688\" y=\"149.8691\">*</text></a><!--MD5=[af87c684e3b0d8be13c1a698a818ef1e]\n",
       "link E3 to E4--><a href=\"psysml:b67a9087-1129-4a2e-aba3-334d88c3cbf2\" target=\"_top\" title=\"psysml:b67a9087-1129-4a2e-aba3-334d88c3cbf2\" xlink:actuate=\"onRequest\" xlink:href=\"psysml:b67a9087-1129-4a2e-aba3-334d88c3cbf2\" xlink:show=\"new\" xlink:title=\"psysml:b67a9087-1129-4a2e-aba3-334d88c3cbf2\" xlink:type=\"simple\"><path d=\"M71.5,101.08 C71.5,101.08 71.5,155.97 71.5,155.97 \" fill=\"none\" id=\"E3-&gt;E4\" style=\"stroke: #383838; stroke-width: 1.0;\"/><polygon fill=\"#383838\" points=\"71.5,160.97,75.5,151.97,71.5,155.97,67.5,151.97,71.5,160.97\" style=\"stroke: #383838; stroke-width: 1.0;\"/><text fill=\"#000000\" font-family=\"sans-serif\" font-size=\"13\" lengthAdjust=\"spacingAndGlyphs\" textLength=\"7\" x=\"44.9\" y=\"151.0154\">*</text></a><!--MD5=[1b7591eae5389033d8d09a9d6721a717]\n",
       "link E4 to E5--><a href=\"psysml:9a17080e-ae46-40d4-b989-796f716175e4\" target=\"_top\" title=\"psysml:9a17080e-ae46-40d4-b989-796f716175e4\" xlink:actuate=\"onRequest\" xlink:href=\"psysml:9a17080e-ae46-40d4-b989-796f716175e4\" xlink:show=\"new\" xlink:title=\"psysml:9a17080e-ae46-40d4-b989-796f716175e4\" xlink:type=\"simple\"><path d=\"M100,169.05 C100,169.05 100,223.71 100,223.71 \" fill=\"none\" id=\"E4-&gt;E5\" style=\"stroke: #383838; stroke-width: 1.0;\"/><polygon fill=\"#383838\" points=\"100,228.71,104,219.71,100,223.71,96,219.71,100,228.71\" style=\"stroke: #383838; stroke-width: 1.0;\"/><text fill=\"#000000\" font-family=\"sans-serif\" font-size=\"13\" lengthAdjust=\"spacingAndGlyphs\" textLength=\"7\" x=\"90.6813\" y=\"218.01\">*</text></a><!--MD5=[9120cf2e5df3bff93db8f754bbbc09b4]\n",
       "link E5 to E6--><a href=\"psysml:197b427e-ad07-4e53-856c-ed2b1bc0e06a\" target=\"_top\" title=\"psysml:197b427e-ad07-4e53-856c-ed2b1bc0e06a\" xlink:actuate=\"onRequest\" xlink:href=\"psysml:197b427e-ad07-4e53-856c-ed2b1bc0e06a\" xlink:show=\"new\" xlink:title=\"psysml:197b427e-ad07-4e53-856c-ed2b1bc0e06a\" xlink:type=\"simple\"><path d=\"M71.5,237.12 C71.5,237.12 71.5,291.87 71.5,291.87 \" fill=\"none\" id=\"E5-&gt;E6\" style=\"stroke: #383838; stroke-width: 1.0;\"/><polygon fill=\"#383838\" points=\"71.5,296.87,75.5,287.87,71.5,291.87,67.5,287.87,71.5,296.87\" style=\"stroke: #383838; stroke-width: 1.0;\"/><text fill=\"#000000\" font-family=\"sans-serif\" font-size=\"13\" lengthAdjust=\"spacingAndGlyphs\" textLength=\"7\" x=\"68.7188\" y=\"285.7715\">*</text></a><!--MD5=[3a9b96bfbf6b6ad89c494e81751bda47]\n",
       "link E5 to E7--><a href=\"psysml:b67e977c-71d2-45f4-9959-07a509bb3c26\" target=\"_top\" title=\"psysml:b67e977c-71d2-45f4-9959-07a509bb3c26\" xlink:actuate=\"onRequest\" xlink:href=\"psysml:b67e977c-71d2-45f4-9959-07a509bb3c26\" xlink:show=\"new\" xlink:title=\"psysml:b67e977c-71d2-45f4-9959-07a509bb3c26\" xlink:type=\"simple\"><path d=\"M129,237.12 C129,237.12 129,291.87 129,291.87 \" fill=\"none\" id=\"E5-&gt;E7\" style=\"stroke: #383838; stroke-width: 1.0;\"/><polygon fill=\"#383838\" points=\"129,296.87,133,287.87,129,291.87,125,287.87,129,296.87\" style=\"stroke: #383838; stroke-width: 1.0;\"/><text fill=\"#000000\" font-family=\"sans-serif\" font-size=\"13\" lengthAdjust=\"spacingAndGlyphs\" textLength=\"7\" x=\"115.6719\" y=\"285.7715\">*</text></a><!--MD5=[031b20eeb8f485653d487746761668cf]\n",
       "@startuml\r\n",
       "skinparam linetype ortho\r\n",
       "skinparam monochrome true\r\n",
       "skinparam classbackgroundcolor white\r\n",
       "skinparam shadowing false\r\n",
       "skinparam wrapWidth 300\r\n",
       "hide circle\r\n",
       "\r\n",
       "rec def \"ControlNodeTest\" as E1  <<(T,blue) action def>> [[psysml:d75b3c07-b549-4c23-b2aa-d48828b6adea ]] {\r\n",
       "rec usage \"A1\" as E2  <<(T,blue) action>> [[psysml:c07d7274-d0ac-44b0-95a3-e3c0562da237 ]] {\r\n",
       "}\r\n",
       "\r\n",
       "rec usage \"A2\" as E3  <<(T,blue) action>> [[psysml:7bb05ae1-d1dd-4ff0-97ee-ce3344a0751d ]] {\r\n",
       "}\r\n",
       "\r\n",
       "join \"J\" as E4  [[psysml:f3bfce16-3667-4a48-a42e-fd992fa328bf ]] \r\n",
       "fork \"F\" as E5  [[psysml:08c848ef-d5ea-4388-acb9-5b8d01347f10 ]] \r\n",
       "rec usage \"B1\" as E6  <<(T,blue) action>> [[psysml:d5fd7944-a8f1-4c67-81d3-da10d551f750 ]] {\r\n",
       "}\r\n",
       "\r\n",
       "rec usage \"B2\" as E7  <<(T,blue) action>> [[psysml:b7d3ffe5-6bb9-4232-a5c3-5eafb8d0b5f9 ]] {\r\n",
       "}\r\n",
       "\r\n",
       "}\r\n",
       "\r\n",
       "E2 - -> \"*\"E4 [[psysml:a5b917a3-7538-4e28-aa62-755107929dae ]] \r\n",
       "E3 - -> \"*\"E4 [[psysml:b67a9087-1129-4a2e-aba3-334d88c3cbf2 ]] \r\n",
       "E4 - -> \"*\"E5 [[psysml:9a17080e-ae46-40d4-b989-796f716175e4 ]] \r\n",
       "E5 - -> \"*\"E6 [[psysml:197b427e-ad07-4e53-856c-ed2b1bc0e06a ]] \r\n",
       "E5 - -> \"*\"E7 [[psysml:b67e977c-71d2-45f4-9959-07a509bb3c26 ]] \r\n",
       "@enduml\r\n",
       "\n",
       "PlantUML version 1.2020.13(Sat Jun 13 12:26:38 UTC 2020)\n",
       "(EPL source distribution)\n",
       "Java Runtime: OpenJDK Runtime Environment\n",
       "JVM: OpenJDK 64-Bit Server VM\n",
       "Default Encoding: UTF-8\n",
       "Language: en\n",
       "Country: null\n",
       "--></g></svg>"
      ]
     },
     "execution_count": 57,
     "metadata": {},
     "output_type": "execute_result"
    }
   ],
   "source": [
    "%viz --style=\"ORTHOLINE\" --view=\"MIXED\" \"ControlNodeTest\""
   ]
  }
 ],
 "metadata": {
  "kernelspec": {
   "display_name": "SysML",
   "language": "sysml",
   "name": "sysml"
  },
  "language_info": {
   "codemirror_mode": "sysml",
   "file_extension": ".sysml",
   "mimetype": "text/x-sysml",
   "name": "SysML",
   "pygments_lexer": "java",
   "version": "1.0.0"
  }
 },
 "nbformat": 4,
 "nbformat_minor": 5
}
