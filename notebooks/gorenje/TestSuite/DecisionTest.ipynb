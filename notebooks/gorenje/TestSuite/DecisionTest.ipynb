{
 "cells": [
  {
   "cell_type": "markdown",
   "id": "e3cc329d",
   "metadata": {},
   "source": [
    "# SysML v2 Test Suite\n",
    "\n",
    "This can notebook can be cleared using menu `Edit --> Clear All Outputs` and then all cells can be\n",
    "run using menu `Run --> Run All Cells`.\n",
    "\n",
    "**WARNING**: This file is generated, all modifications here will be ignored.\n"
   ]
  },
  {
   "cell_type": "markdown",
   "id": "45a041ba",
   "metadata": {},
   "source": [
    "## File: ../../sysml/src/examples/Simple Tests/DecisionTest.sysml"
   ]
  },
  {
   "cell_type": "code",
   "execution_count": 1,
   "id": "88855e3c",
   "metadata": {
    "execution": {
     "iopub.execute_input": "2021-04-20T07:01:16.657333Z",
     "iopub.status.busy": "2021-04-20T07:01:16.656406Z",
     "iopub.status.idle": "2021-04-20T07:01:17.419471Z",
     "shell.execute_reply": "2021-04-20T07:01:17.419007Z"
    }
   },
   "outputs": [
    {
     "data": {
      "text/plain": [
       "ActionDefinition DecisionTest (becbb662-5dee-4e87-9da4-4b1e44e3daed)\n"
      ]
     },
     "execution_count": 1,
     "metadata": {},
     "output_type": "execute_result"
    }
   ],
   "source": [
    "action def DecisionTest {\n",
    "\tattribute x = 1;\n",
    "\t\n",
    "\tdecide 'test x';\n",
    "\tif x == 1 then A1; \n",
    "\tif x > 1 then A2;\n",
    "\telse A3; \n",
    "\t\n",
    "\tthen decide; \n",
    "\tif true then A1;\n",
    "\tif false then A2;\n",
    "\t\n",
    "\taction A1;\n",
    "\taction A2;\n",
    "\taction A3;\n",
    "\t\n",
    "\tsuccession S first A1 \n",
    "\t\tif x == 0 then A2;\n",
    "\t\t\n",
    "\tfirst A3;\n",
    "\t\tif x > 0 then 'test x';\n",
    "}"
   ]
  },
  {
   "cell_type": "code",
   "execution_count": 2,
   "id": "5e963656",
   "metadata": {
    "execution": {
     "iopub.execute_input": "2021-04-20T07:01:17.471992Z",
     "iopub.status.busy": "2021-04-20T07:01:17.471494Z",
     "iopub.status.idle": "2021-04-20T07:01:18.185956Z",
     "shell.execute_reply": "2021-04-20T07:01:18.185387Z"
    }
   },
   "outputs": [
    {
     "data": {
      "image/svg+xml": [
       "<?xml version=\"1.0\" encoding=\"UTF-8\" standalone=\"no\"?><svg xmlns=\"http://www.w3.org/2000/svg\" xmlns:xlink=\"http://www.w3.org/1999/xlink\" contentScriptType=\"application/ecmascript\" contentStyleType=\"text/css\" height=\"574px\" preserveAspectRatio=\"none\" style=\"width:333px;height:574px;\" version=\"1.1\" viewBox=\"0 0 333 574\" width=\"333px\" zoomAndPan=\"magnify\"><defs/><g><!--MD5=[fbc87193dbaf4d95561dea2c320d4a47]\n",
       "cluster E1--><a href=\"psysml:704d58b1-847a-4b5f-8ef4-b4da5c2432eb\" target=\"_top\" title=\"psysml:704d58b1-847a-4b5f-8ef4-b4da5c2432eb\" xlink:actuate=\"onRequest\" xlink:href=\"psysml:704d58b1-847a-4b5f-8ef4-b4da5c2432eb\" xlink:show=\"new\" xlink:title=\"psysml:704d58b1-847a-4b5f-8ef4-b4da5c2432eb\" xlink:type=\"simple\"><rect fill=\"#FFFFFF\" height=\"534.72\" id=\"E1\" style=\"stroke: #383838; stroke-width: 1.5;\" width=\"315\" x=\"7\" y=\"7\"/><rect fill=\"#F8F8F8\" height=\"37.9375\" style=\"stroke: #383838; stroke-width: 1.5;\" width=\"315\" x=\"7\" y=\"7\"/><text fill=\"#000000\" font-family=\"sans-serif\" font-size=\"12\" font-style=\"italic\" lengthAdjust=\"spacingAndGlyphs\" textLength=\"77\" x=\"126\" y=\"23.1387\">«action def»</text><text fill=\"#000000\" font-family=\"sans-serif\" font-size=\"12\" lengthAdjust=\"spacingAndGlyphs\" textLength=\"80\" x=\"124.5\" y=\"37.1074\">DecisionTest</text></a><text fill=\"#000000\" font-family=\"sans-serif\" font-size=\"14\" lengthAdjust=\"spacingAndGlyphs\" textLength=\"48\" x=\"140\" y=\"560.7151\">$result</text><rect fill=\"#383838\" height=\"12\" style=\"stroke: #F8F8F8; stroke-width: 1.5;\" width=\"12\" x=\"158\" y=\"535.72\"/><polygon fill=\"#F8F8F8\" points=\"141,28.5,153,40.5,141,52.5,129,40.5,141,28.5\" style=\"stroke: #383838; stroke-width: 1.5;\"/><polygon fill=\"#F8F8F8\" points=\"35,170.5,47,182.5,35,194.5,23,182.5,35,170.5\" style=\"stroke: #383838; stroke-width: 1.5;\"/><g id=\"E1.E5\"><a href=\"psysml:f4b16115-f2df-4145-8494-1e5aced0fe90\" target=\"_top\" title=\"psysml:f4b16115-f2df-4145-8494-1e5aced0fe90\" xlink:actuate=\"onRequest\" xlink:href=\"psysml:f4b16115-f2df-4145-8494-1e5aced0fe90\" xlink:show=\"new\" xlink:title=\"psysml:f4b16115-f2df-4145-8494-1e5aced0fe90\" xlink:type=\"simple\"><rect fill=\"#FFFFFF\" height=\"42.9375\" id=\"E5\" rx=\"10\" ry=\"10\" style=\"stroke: #383838; stroke-width: 1.5;\" width=\"60\" x=\"135\" y=\"281\"/><rect fill=\"#F8F8F8\" height=\"37.9375\" rx=\"10\" ry=\"10\" style=\"stroke: #F8F8F8; stroke-width: 1.5;\" width=\"60\" x=\"135\" y=\"281\"/><rect fill=\"#F8F8F8\" height=\"10\" style=\"stroke: #F8F8F8; stroke-width: 1.5;\" width=\"60\" x=\"135\" y=\"308.9375\"/><rect fill=\"none\" height=\"42.9375\" id=\"E5\" rx=\"10\" ry=\"10\" style=\"stroke: #383838; stroke-width: 1.5;\" width=\"60\" x=\"135\" y=\"281\"/><text fill=\"#000000\" font-family=\"sans-serif\" font-size=\"12\" font-style=\"italic\" lengthAdjust=\"spacingAndGlyphs\" textLength=\"53\" x=\"138.5\" y=\"297.1387\">«action»</text><text fill=\"#000000\" font-family=\"sans-serif\" font-size=\"12\" lengthAdjust=\"spacingAndGlyphs\" textLength=\"16\" x=\"157\" y=\"311.1074\">A1</text></a></g><g id=\"E1.E6\"><a href=\"psysml:ffb4dce0-5cb8-4add-9e67-ebd1f2f3deb3\" target=\"_top\" title=\"psysml:ffb4dce0-5cb8-4add-9e67-ebd1f2f3deb3\" xlink:actuate=\"onRequest\" xlink:href=\"psysml:ffb4dce0-5cb8-4add-9e67-ebd1f2f3deb3\" xlink:show=\"new\" xlink:title=\"psysml:ffb4dce0-5cb8-4add-9e67-ebd1f2f3deb3\" xlink:type=\"simple\"><rect fill=\"#FFFFFF\" height=\"42.9375\" id=\"E6\" rx=\"10\" ry=\"10\" style=\"stroke: #383838; stroke-width: 1.5;\" width=\"60\" x=\"135\" y=\"401\"/><rect fill=\"#F8F8F8\" height=\"37.9375\" rx=\"10\" ry=\"10\" style=\"stroke: #F8F8F8; stroke-width: 1.5;\" width=\"60\" x=\"135\" y=\"401\"/><rect fill=\"#F8F8F8\" height=\"10\" style=\"stroke: #F8F8F8; stroke-width: 1.5;\" width=\"60\" x=\"135\" y=\"428.9375\"/><rect fill=\"none\" height=\"42.9375\" id=\"E6\" rx=\"10\" ry=\"10\" style=\"stroke: #383838; stroke-width: 1.5;\" width=\"60\" x=\"135\" y=\"401\"/><text fill=\"#000000\" font-family=\"sans-serif\" font-size=\"12\" font-style=\"italic\" lengthAdjust=\"spacingAndGlyphs\" textLength=\"53\" x=\"138.5\" y=\"417.1387\">«action»</text><text fill=\"#000000\" font-family=\"sans-serif\" font-size=\"12\" lengthAdjust=\"spacingAndGlyphs\" textLength=\"16\" x=\"157\" y=\"431.1074\">A2</text></a></g><g id=\"E1.E7\"><a href=\"psysml:dc91d98e-27d3-4fe3-8c05-9cedeab5907b\" target=\"_top\" title=\"psysml:dc91d98e-27d3-4fe3-8c05-9cedeab5907b\" xlink:actuate=\"onRequest\" xlink:href=\"psysml:dc91d98e-27d3-4fe3-8c05-9cedeab5907b\" xlink:show=\"new\" xlink:title=\"psysml:dc91d98e-27d3-4fe3-8c05-9cedeab5907b\" xlink:type=\"simple\"><rect fill=\"#FFFFFF\" height=\"42.9375\" id=\"E7\" rx=\"10\" ry=\"10\" style=\"stroke: #383838; stroke-width: 1.5;\" width=\"60\" x=\"46\" y=\"88\"/><rect fill=\"#F8F8F8\" height=\"37.9375\" rx=\"10\" ry=\"10\" style=\"stroke: #F8F8F8; stroke-width: 1.5;\" width=\"60\" x=\"46\" y=\"88\"/><rect fill=\"#F8F8F8\" height=\"10\" style=\"stroke: #F8F8F8; stroke-width: 1.5;\" width=\"60\" x=\"46\" y=\"115.9375\"/><rect fill=\"none\" height=\"42.9375\" id=\"E7\" rx=\"10\" ry=\"10\" style=\"stroke: #383838; stroke-width: 1.5;\" width=\"60\" x=\"46\" y=\"88\"/><text fill=\"#000000\" font-family=\"sans-serif\" font-size=\"12\" font-style=\"italic\" lengthAdjust=\"spacingAndGlyphs\" textLength=\"53\" x=\"49.5\" y=\"104.1387\">«action»</text><text fill=\"#000000\" font-family=\"sans-serif\" font-size=\"12\" lengthAdjust=\"spacingAndGlyphs\" textLength=\"16\" x=\"68\" y=\"118.1074\">A3</text></a></g><g id=\"E1.E8\"><a href=\"psysml:dc91d98e-27d3-4fe3-8c05-9cedeab5907b\" target=\"_top\" title=\"psysml:dc91d98e-27d3-4fe3-8c05-9cedeab5907b\" xlink:actuate=\"onRequest\" xlink:href=\"psysml:dc91d98e-27d3-4fe3-8c05-9cedeab5907b\" xlink:show=\"new\" xlink:title=\"psysml:dc91d98e-27d3-4fe3-8c05-9cedeab5907b\" xlink:type=\"simple\"><rect fill=\"#FFFFFF\" height=\"42.9375\" id=\"E8\" rx=\"10\" ry=\"10\" style=\"stroke: #383838; stroke-width: 1.5;\" width=\"60\" x=\"246\" y=\"161\"/><rect fill=\"#F8F8F8\" height=\"37.9375\" rx=\"10\" ry=\"10\" style=\"stroke: #F8F8F8; stroke-width: 1.5;\" width=\"60\" x=\"246\" y=\"161\"/><rect fill=\"#F8F8F8\" height=\"10\" style=\"stroke: #F8F8F8; stroke-width: 1.5;\" width=\"60\" x=\"246\" y=\"188.9375\"/><rect fill=\"none\" height=\"42.9375\" id=\"E8\" rx=\"10\" ry=\"10\" style=\"stroke: #383838; stroke-width: 1.5;\" width=\"60\" x=\"246\" y=\"161\"/><text fill=\"#000000\" font-family=\"sans-serif\" font-size=\"12\" font-style=\"italic\" lengthAdjust=\"spacingAndGlyphs\" textLength=\"53\" x=\"249.5\" y=\"177.1387\">«action»</text><text fill=\"#000000\" font-family=\"sans-serif\" font-size=\"12\" lengthAdjust=\"spacingAndGlyphs\" textLength=\"16\" x=\"268\" y=\"191.1074\">A3</text></a></g><!--MD5=[0188b64bb0ae78505a997a81836e11e9]\n",
       "link E3 to E5--><a href=\"psysml:f0c1a87b-40f9-41dd-914f-8704a756a2ee\" target=\"_top\" title=\"psysml:f0c1a87b-40f9-41dd-914f-8704a756a2ee\" xlink:actuate=\"onRequest\" xlink:href=\"psysml:f0c1a87b-40f9-41dd-914f-8704a756a2ee\" xlink:show=\"new\" xlink:title=\"psysml:f0c1a87b-40f9-41dd-914f-8704a756a2ee\" xlink:type=\"simple\"><path d=\"M140.49,52.19 C139.39,78.26 137.41,147.1 144,204 C146.84,228.53 153.03,255.98 157.96,275.49 \" fill=\"none\" id=\"E3-&gt;E5\" style=\"stroke: #383838; stroke-width: 1.0;\"/><polygon fill=\"#383838\" points=\"159.31,280.77,160.9741,271.0627,158.0805,275.9235,153.2197,273.0299,159.31,280.77\" style=\"stroke: #383838; stroke-width: 1.0;\"/><text fill=\"#000000\" font-family=\"sans-serif\" font-size=\"13\" lengthAdjust=\"spacingAndGlyphs\" textLength=\"55\" x=\"145\" y=\"187.0669\">[x == 1]</text></a><!--MD5=[ec9844e0c75763426927cad3229d1081]\n",
       "link E3 to E6--><a href=\"psysml:534d6032-2416-43d2-b21b-3e106f4a7f5b\" target=\"_top\" title=\"psysml:534d6032-2416-43d2-b21b-3e106f4a7f5b\" xlink:actuate=\"onRequest\" xlink:href=\"psysml:534d6032-2416-43d2-b21b-3e106f4a7f5b\" xlink:show=\"new\" xlink:title=\"psysml:534d6032-2416-43d2-b21b-3e106f4a7f5b\" xlink:type=\"simple\"><path d=\"M145.73,48.09 C157.96,65.53 190.67,114.68 205,161 C230.5,243.43 221.33,267.84 226,354 C226.41,361.54 229.22,364.16 226,371 C220.27,383.19 209.98,393.45 199.48,401.47 \" fill=\"none\" id=\"E3-&gt;E6\" style=\"stroke: #383838; stroke-width: 1.0;\"/><polygon fill=\"#383838\" points=\"195.29,404.54,204.9073,402.4168,199.3138,401.5721,200.1586,395.9786,195.29,404.54\" style=\"stroke: #383838; stroke-width: 1.0;\"/><text fill=\"#000000\" font-family=\"sans-serif\" font-size=\"13\" lengthAdjust=\"spacingAndGlyphs\" textLength=\"44\" x=\"223\" y=\"247.0669\">[x &gt; 1]</text></a><!--MD5=[ca5a752d6098d8a44b3f88316e7452d1]\n",
       "link E3 to E8--><a href=\"psysml:e6958018-0280-470d-866d-790aaedd3d9a\" target=\"_top\" title=\"psysml:e6958018-0280-470d-866d-790aaedd3d9a\" xlink:actuate=\"onRequest\" xlink:href=\"psysml:e6958018-0280-470d-866d-790aaedd3d9a\" xlink:show=\"new\" xlink:title=\"psysml:e6958018-0280-470d-866d-790aaedd3d9a\" xlink:type=\"simple\"><path d=\"M147.97,45.53 C163.29,54.53 199.17,76.37 207,88 C217.96,104.27 206.82,114.23 217,131 C223.37,141.49 232.66,150.9 242,158.68 \" fill=\"none\" id=\"E3-&gt;E8\" style=\"stroke: #383838; stroke-width: 1.0;\"/><polygon fill=\"#383838\" points=\"246,161.91,241.5179,153.1401,242.1124,158.7657,236.4869,159.3602,246,161.91\" style=\"stroke: #383838; stroke-width: 1.0;\"/></a><!--MD5=[95fa686b5a16158bcdbcaeead89f639b]\n",
       "link E8 to E3--><a href=\"psysml:7eebbea4-be3a-4ef1-ac68-fab402045136\" target=\"_top\" title=\"psysml:7eebbea4-be3a-4ef1-ac68-fab402045136\" xlink:actuate=\"onRequest\" xlink:href=\"psysml:7eebbea4-be3a-4ef1-ac68-fab402045136\" xlink:show=\"new\" xlink:title=\"psysml:7eebbea4-be3a-4ef1-ac68-fab402045136\" xlink:type=\"simple\"><path d=\"M263.71,160.86 C249.28,137.02 225.81,99.6 214,88 C204.2,78.38 171.17,58.79 153.08,48.37 \" fill=\"none\" id=\"E8-&gt;E3\" style=\"stroke: #383838; stroke-width: 1.0;\"/><polygon fill=\"#383838\" points=\"148.41,45.69,154.234,53.6323,152.7495,48.1738,158.208,46.6892,148.41,45.69\" style=\"stroke: #383838; stroke-width: 1.0;\"/><text fill=\"#000000\" font-family=\"sans-serif\" font-size=\"13\" lengthAdjust=\"spacingAndGlyphs\" textLength=\"44\" x=\"244\" y=\"114.0669\">[x &gt; 0]</text></a><!--MD5=[af87c684e3b0d8be13c1a698a818ef1e]\n",
       "link E3 to E4--><a href=\"psysml:b2a8f402-8a6f-47b5-a176-34e34a53fa41\" target=\"_top\" title=\"psysml:b2a8f402-8a6f-47b5-a176-34e34a53fa41\" xlink:actuate=\"onRequest\" xlink:href=\"psysml:b2a8f402-8a6f-47b5-a176-34e34a53fa41\" xlink:show=\"new\" xlink:title=\"psysml:b2a8f402-8a6f-47b5-a176-34e34a53fa41\" xlink:type=\"simple\"><path d=\"M131.03,42.86 C110.41,46.26 63.22,57.19 42,88 C25.54,111.89 28.61,147.84 31.99,167.47 \" fill=\"none\" id=\"E3-&gt;E4\" style=\"stroke: #383838; stroke-width: 1.0;\"/><polygon fill=\"#383838\" points=\"32.94,172.56,35.2263,162.9802,32.0255,167.6443,27.3613,164.4435,32.94,172.56\" style=\"stroke: #383838; stroke-width: 1.0;\"/></a><!--MD5=[1b7591eae5389033d8d09a9d6721a717]\n",
       "link E4 to E5--><a href=\"psysml:d4e4cf4f-ca71-4ae2-aa8b-453c4e696e69\" target=\"_top\" title=\"psysml:d4e4cf4f-ca71-4ae2-aa8b-453c4e696e69\" xlink:actuate=\"onRequest\" xlink:href=\"psysml:d4e4cf4f-ca71-4ae2-aa8b-453c4e696e69\" xlink:show=\"new\" xlink:title=\"psysml:d4e4cf4f-ca71-4ae2-aa8b-453c4e696e69\" xlink:type=\"simple\"><path d=\"M39.08,190.91 C46.63,204.15 63.87,232.24 84,251 C97.73,263.8 115.17,275.16 130.35,283.85 \" fill=\"none\" id=\"E4-&gt;E5\" style=\"stroke: #383838; stroke-width: 1.0;\"/><polygon fill=\"#383838\" points=\"134.98,286.46,129.0858,278.5696,130.6187,284.0148,125.1735,285.5477,134.98,286.46\" style=\"stroke: #383838; stroke-width: 1.0;\"/><text fill=\"#000000\" font-family=\"sans-serif\" font-size=\"13\" lengthAdjust=\"spacingAndGlyphs\" textLength=\"36\" x=\"85\" y=\"247.0669\">[true]</text></a><!--MD5=[79568f1e445c3877b6a54524624ccc7d]\n",
       "link E4 to E6--><a href=\"psysml:07d2ed15-614f-457b-995c-67ac116a921b\" target=\"_top\" title=\"psysml:07d2ed15-614f-457b-995c-67ac116a921b\" xlink:actuate=\"onRequest\" xlink:href=\"psysml:07d2ed15-614f-457b-995c-67ac116a921b\" xlink:show=\"new\" xlink:title=\"psysml:07d2ed15-614f-457b-995c-67ac116a921b\" xlink:type=\"simple\"><path d=\"M36.3,193.29 C39.76,217.03 50.73,279.03 76,324 C91.89,352.29 117.42,379.1 137.07,397.43 \" fill=\"none\" id=\"E4-&gt;E6\" style=\"stroke: #383838; stroke-width: 1.0;\"/><polygon fill=\"#383838\" points=\"140.92,400.98,137.0155,391.9382,137.2443,397.5904,131.5921,397.8192,140.92,400.98\" style=\"stroke: #383838; stroke-width: 1.0;\"/><text fill=\"#000000\" font-family=\"sans-serif\" font-size=\"13\" lengthAdjust=\"spacingAndGlyphs\" textLength=\"40\" x=\"77\" y=\"307.0669\">[false]</text></a><!--MD5=[9120cf2e5df3bff93db8f754bbbc09b4]\n",
       "link E5 to E6--><a href=\"psysml:b67ea915-0e8a-4542-80c4-8f1f8e1002d6\" target=\"_top\" title=\"psysml:b67ea915-0e8a-4542-80c4-8f1f8e1002d6\" xlink:actuate=\"onRequest\" xlink:href=\"psysml:b67ea915-0e8a-4542-80c4-8f1f8e1002d6\" xlink:show=\"new\" xlink:title=\"psysml:b67ea915-0e8a-4542-80c4-8f1f8e1002d6\" xlink:type=\"simple\"><path d=\"M165,324.05 C165,343.9 165,374.02 165,395.52 \" fill=\"none\" id=\"E5-&gt;E6\" style=\"stroke: #383838; stroke-width: 1.0;\"/><polygon fill=\"#383838\" points=\"165,400.79,169,391.79,165,395.79,161,391.79,165,400.79\" style=\"stroke: #383838; stroke-width: 1.0;\"/><text fill=\"#000000\" font-family=\"sans-serif\" font-size=\"13\" lengthAdjust=\"spacingAndGlyphs\" textLength=\"55\" x=\"166\" y=\"367.0669\">[x == 0]</text></a><!--MD5=[92bfd93a0e06348b88bc3869a6ae0a4d]\n",
       "@startuml\r\n",
       " skinparam monochrome true\r\n",
       "skinparam classbackgroundcolor white\r\n",
       "skinparam shadowing false\r\n",
       "skinparam wrapWidth 300\r\n",
       "hide circle\r\n",
       "\r\n",
       "rec def \"DecisionTest\" as E1  <<(T,blue)action def>> [[psysml:704d58b1-847a-4b5f-8ef4-b4da5c2432eb ]] {\r\n",
       "portout \"$result\" as E2  [[psysml:d3db88a9-d6e2-4728-bacb-cdc83b04fb60 ]] \r\n",
       "choice \"test x\" as E3  [[psysml:07816a00-a6c6-49d5-84be-841a1e7e2f6a ]] \r\n",
       "choice \"noname\" as E4  [[psysml:26311404-6ce6-4dcd-89ed-d43ec51ac22a ]] \r\n",
       "rec usage \"A1\" as E5  <<(T,blue)action>> [[psysml:f4b16115-f2df-4145-8494-1e5aced0fe90 ]] {\r\n",
       "}\r\n",
       "\r\n",
       "rec usage \"A2\" as E6  <<(T,blue)action>> [[psysml:ffb4dce0-5cb8-4add-9e67-ebd1f2f3deb3 ]] {\r\n",
       "}\r\n",
       "\r\n",
       "rec usage \"A3\" as E7  <<(T,blue)action>> [[psysml:dc91d98e-27d3-4fe3-8c05-9cedeab5907b ]] {\r\n",
       "}\r\n",
       "\r\n",
       "rec usage \"A3\" as E8  <<(T,blue)action>> [[psysml:dc91d98e-27d3-4fe3-8c05-9cedeab5907b ]] {\r\n",
       "}\r\n",
       "\r\n",
       "}\r\n",
       "\r\n",
       "E3  - -> E5 [[psysml:f0c1a87b-40f9-41dd-914f-8704a756a2ee ]] : [x == 1]\r\n",
       "E3  - -> E6 [[psysml:534d6032-2416-43d2-b21b-3e106f4a7f5b ]] : [x > 1]\r\n",
       "E3  - -> E8 [[psysml:e6958018-0280-470d-866d-790aaedd3d9a ]] \r\n",
       "E3 - -> E4 [[psysml:b2a8f402-8a6f-47b5-a176-34e34a53fa41 ]] \r\n",
       "E4  - -> E5 [[psysml:d4e4cf4f-ca71-4ae2-aa8b-453c4e696e69 ]] : [true]\r\n",
       "E4  - -> E6 [[psysml:07d2ed15-614f-457b-995c-67ac116a921b ]] : [false]\r\n",
       "E5  - -> E6 [[psysml:b67ea915-0e8a-4542-80c4-8f1f8e1002d6 ]] : [x == 0]\r\n",
       "E8  - -> E3 [[psysml:7eebbea4-be3a-4ef1-ac68-fab402045136 ]] : [x > 0]\r\n",
       "@enduml\r\n",
       "\n",
       "PlantUML version 1.2020.13(Sat Jun 13 12:26:38 UTC 2020)\n",
       "(EPL source distribution)\n",
       "Java Runtime: OpenJDK Runtime Environment\n",
       "JVM: OpenJDK 64-Bit Server VM\n",
       "Default Encoding: UTF-8\n",
       "Language: en\n",
       "Country: null\n",
       "--></g></svg>"
      ]
     },
     "execution_count": 2,
     "metadata": {},
     "output_type": "execute_result"
    }
   ],
   "source": [
    "%viz --style=\"COMPTREE\" --view=\"Default\" \"DecisionTest\""
   ]
  },
  {
   "cell_type": "code",
   "execution_count": 3,
   "id": "78b0fd61",
   "metadata": {
    "execution": {
     "iopub.execute_input": "2021-04-20T07:01:18.236016Z",
     "iopub.status.busy": "2021-04-20T07:01:18.235394Z",
     "iopub.status.idle": "2021-04-20T07:01:18.409201Z",
     "shell.execute_reply": "2021-04-20T07:01:18.408806Z"
    }
   },
   "outputs": [
    {
     "data": {
      "image/svg+xml": [
       "<?xml version=\"1.0\" encoding=\"UTF-8\" standalone=\"no\"?><svg xmlns=\"http://www.w3.org/2000/svg\" xmlns:xlink=\"http://www.w3.org/1999/xlink\" contentScriptType=\"application/ecmascript\" contentStyleType=\"text/css\" height=\"207px\" preserveAspectRatio=\"none\" style=\"width:109px;height:207px;\" version=\"1.1\" viewBox=\"0 0 109 207\" width=\"109px\" zoomAndPan=\"magnify\"><defs/><g><!--MD5=[43c9051892ef23e1a46a86907403d788]\n",
       "class E1--><a href=\"psysml:704d58b1-847a-4b5f-8ef4-b4da5c2432eb\" target=\"_top\" title=\"psysml:704d58b1-847a-4b5f-8ef4-b4da5c2432eb\" xlink:actuate=\"onRequest\" xlink:href=\"psysml:704d58b1-847a-4b5f-8ef4-b4da5c2432eb\" xlink:show=\"new\" xlink:title=\"psysml:704d58b1-847a-4b5f-8ef4-b4da5c2432eb\" xlink:type=\"simple\"><rect fill=\"#FFFFFF\" height=\"189.9844\" id=\"E1\" style=\"stroke: #383838; stroke-width: 1.5;\" width=\"91\" x=\"7\" y=\"7\"/><text fill=\"#000000\" font-family=\"sans-serif\" font-size=\"12\" font-style=\"italic\" lengthAdjust=\"spacingAndGlyphs\" textLength=\"77\" x=\"14\" y=\"23.1387\">«action def»</text><text fill=\"#000000\" font-family=\"sans-serif\" font-size=\"12\" lengthAdjust=\"spacingAndGlyphs\" textLength=\"80\" x=\"12.5\" y=\"37.1074\">DecisionTest</text><line style=\"stroke: #383838; stroke-width: 1.5;\" x1=\"8\" x2=\"97\" y1=\"44.9375\" y2=\"44.9375\"/><text fill=\"#000000\" font-family=\"sans-serif\" font-size=\"11\" lengthAdjust=\"spacingAndGlyphs\" textLength=\"26\" x=\"13\" y=\"75.9526\">x=1;</text><line style=\"stroke: #383838; stroke-width: 1.0;\" x1=\"8\" x2=\"25\" y1=\"59.3398\" y2=\"59.3398\"/><text fill=\"#000000\" font-family=\"sans-serif\" font-size=\"11\" lengthAdjust=\"spacingAndGlyphs\" textLength=\"55\" x=\"25\" y=\"62.6479\">attributes</text><line style=\"stroke: #383838; stroke-width: 1.0;\" x1=\"80\" x2=\"97\" y1=\"59.3398\" y2=\"59.3398\"/><text fill=\"#000000\" font-family=\"sans-serif\" font-size=\"11\" lengthAdjust=\"spacingAndGlyphs\" textLength=\"14\" x=\"13\" y=\"105.562\">A1</text><text fill=\"#000000\" font-family=\"sans-serif\" font-size=\"11\" lengthAdjust=\"spacingAndGlyphs\" textLength=\"14\" x=\"13\" y=\"118.3667\">A2</text><text fill=\"#000000\" font-family=\"sans-serif\" font-size=\"11\" lengthAdjust=\"spacingAndGlyphs\" textLength=\"14\" x=\"13\" y=\"131.1714\">A3</text><line style=\"stroke: #383838; stroke-width: 1.0;\" x1=\"8\" x2=\"32\" y1=\"88.9492\" y2=\"88.9492\"/><text fill=\"#000000\" font-family=\"sans-serif\" font-size=\"11\" lengthAdjust=\"spacingAndGlyphs\" textLength=\"41\" x=\"32\" y=\"92.2573\">actions</text><line style=\"stroke: #383838; stroke-width: 1.0;\" x1=\"73\" x2=\"97\" y1=\"88.9492\" y2=\"88.9492\"/><text fill=\"#000000\" font-family=\"sans-serif\" font-size=\"11\" lengthAdjust=\"spacingAndGlyphs\" textLength=\"32\" x=\"13\" y=\"160.7808\">test x</text><line style=\"stroke: #383838; stroke-width: 1.0;\" x1=\"8\" x2=\"11\" y1=\"144.168\" y2=\"144.168\"/><text fill=\"#000000\" font-family=\"sans-serif\" font-size=\"11\" lengthAdjust=\"spacingAndGlyphs\" textLength=\"83\" x=\"11\" y=\"147.4761\">decisionNodes</text><line style=\"stroke: #383838; stroke-width: 1.0;\" x1=\"94\" x2=\"97\" y1=\"144.168\" y2=\"144.168\"/><text fill=\"#000000\" font-family=\"sans-serif\" font-size=\"11\" lengthAdjust=\"spacingAndGlyphs\" textLength=\"8\" x=\"13\" y=\"190.3901\">S</text><line style=\"stroke: #383838; stroke-width: 1.0;\" x1=\"8\" x2=\"22\" y1=\"173.7773\" y2=\"173.7773\"/><text fill=\"#000000\" font-family=\"sans-serif\" font-size=\"11\" lengthAdjust=\"spacingAndGlyphs\" textLength=\"61\" x=\"22\" y=\"177.0854\">transitions</text><line style=\"stroke: #383838; stroke-width: 1.0;\" x1=\"83\" x2=\"97\" y1=\"173.7773\" y2=\"173.7773\"/></a><!--MD5=[b4bb066cb9423aad4675c63f26adb3eb]\n",
       "@startuml\r\n",
       " skinparam monochrome true\r\n",
       "skinparam classbackgroundcolor white\r\n",
       "skinparam shadowing false\r\n",
       "skinparam wrapWidth 300\r\n",
       "hide circle\r\n",
       "\r\n",
       "comp def \"DecisionTest\" as E1  <<(T,blue)action def>> [[psysml:704d58b1-847a-4b5f-8ef4-b4da5c2432eb ]] {\r\n",
       "- - attributes - -\r\n",
       "x=1; \r\n",
       "- - actions - -\r\n",
       "A1\r\n",
       "A2\r\n",
       "A3\r\n",
       "- - decisionNodes - -\r\n",
       "test x\r\n",
       "- - transitions - -\r\n",
       "S\r\n",
       "}\r\n",
       "@enduml\r\n",
       "\n",
       "PlantUML version 1.2020.13(Sat Jun 13 12:26:38 UTC 2020)\n",
       "(EPL source distribution)\n",
       "Java Runtime: OpenJDK Runtime Environment\n",
       "JVM: OpenJDK 64-Bit Server VM\n",
       "Default Encoding: UTF-8\n",
       "Language: en\n",
       "Country: null\n",
       "--></g></svg>"
      ]
     },
     "execution_count": 3,
     "metadata": {},
     "output_type": "execute_result"
    }
   ],
   "source": [
    "%viz --style=\"COMPTREE\" --view=\"Tree\" \"DecisionTest\""
   ]
  },
  {
   "cell_type": "code",
   "execution_count": 4,
   "id": "dd68c343",
   "metadata": {
    "execution": {
     "iopub.execute_input": "2021-04-20T07:01:18.461108Z",
     "iopub.status.busy": "2021-04-20T07:01:18.460204Z",
     "iopub.status.idle": "2021-04-20T07:01:18.473238Z",
     "shell.execute_reply": "2021-04-20T07:01:18.472969Z"
    }
   },
   "outputs": [
    {
     "data": {
      "image/svg+xml": [
       "<?xml version=\"1.0\" encoding=\"UTF-8\" standalone=\"no\"?><svg xmlns=\"http://www.w3.org/2000/svg\" xmlns:xlink=\"http://www.w3.org/1999/xlink\" contentScriptType=\"application/ecmascript\" contentStyleType=\"text/css\" height=\"12px\" preserveAspectRatio=\"none\" style=\"width:12px;height:12px;\" version=\"1.1\" viewBox=\"0 0 12 12\" width=\"12px\" zoomAndPan=\"magnify\"><defs/><g><!--MD5=[f19188ef49e11757b5c46753f95d9edc]\n",
       "@startuml\r\n",
       " skinparam monochrome true\r\n",
       "skinparam classbackgroundcolor white\r\n",
       "skinparam shadowing false\r\n",
       "skinparam wrapWidth 300\r\n",
       "hide circle\r\n",
       "\r\n",
       "@enduml\r\n",
       "\n",
       "PlantUML version 1.2020.13(Sat Jun 13 12:26:38 UTC 2020)\n",
       "(EPL source distribution)\n",
       "Java Runtime: OpenJDK Runtime Environment\n",
       "JVM: OpenJDK 64-Bit Server VM\n",
       "Default Encoding: UTF-8\n",
       "Language: en\n",
       "Country: null\n",
       "--></g></svg>"
      ]
     },
     "execution_count": 4,
     "metadata": {},
     "output_type": "execute_result"
    }
   ],
   "source": [
    "%viz --style=\"COMPTREE\" --view=\"State\" \"DecisionTest\""
   ]
  },
  {
   "cell_type": "code",
   "execution_count": 5,
   "id": "d550f5a9",
   "metadata": {
    "execution": {
     "iopub.execute_input": "2021-04-20T07:01:18.525410Z",
     "iopub.status.busy": "2021-04-20T07:01:18.524822Z",
     "iopub.status.idle": "2021-04-20T07:01:18.614926Z",
     "shell.execute_reply": "2021-04-20T07:01:18.613150Z"
    }
   },
   "outputs": [
    {
     "data": {
      "image/svg+xml": [
       "<?xml version=\"1.0\" encoding=\"UTF-8\" standalone=\"no\"?><svg xmlns=\"http://www.w3.org/2000/svg\" xmlns:xlink=\"http://www.w3.org/1999/xlink\" contentScriptType=\"application/ecmascript\" contentStyleType=\"text/css\" height=\"384px\" preserveAspectRatio=\"none\" style=\"width:333px;height:384px;\" version=\"1.1\" viewBox=\"0 0 333 384\" width=\"333px\" zoomAndPan=\"magnify\"><defs/><g><!--MD5=[fbc87193dbaf4d95561dea2c320d4a47]\n",
       "cluster E1--><a href=\"psysml:704d58b1-847a-4b5f-8ef4-b4da5c2432eb\" target=\"_top\" title=\"psysml:704d58b1-847a-4b5f-8ef4-b4da5c2432eb\" xlink:actuate=\"onRequest\" xlink:href=\"psysml:704d58b1-847a-4b5f-8ef4-b4da5c2432eb\" xlink:show=\"new\" xlink:title=\"psysml:704d58b1-847a-4b5f-8ef4-b4da5c2432eb\" xlink:type=\"simple\"><rect fill=\"#FFFFFF\" height=\"344.72\" id=\"E1\" style=\"stroke: #383838; stroke-width: 1.5;\" width=\"315\" x=\"7\" y=\"7\"/><rect fill=\"#F8F8F8\" height=\"37.9375\" style=\"stroke: #383838; stroke-width: 1.5;\" width=\"315\" x=\"7\" y=\"7\"/><text fill=\"#000000\" font-family=\"sans-serif\" font-size=\"12\" font-style=\"italic\" lengthAdjust=\"spacingAndGlyphs\" textLength=\"77\" x=\"126\" y=\"23.1387\">«action def»</text><text fill=\"#000000\" font-family=\"sans-serif\" font-size=\"12\" lengthAdjust=\"spacingAndGlyphs\" textLength=\"80\" x=\"124.5\" y=\"37.1074\">DecisionTest</text></a><text fill=\"#000000\" font-family=\"sans-serif\" font-size=\"14\" lengthAdjust=\"spacingAndGlyphs\" textLength=\"48\" x=\"140\" y=\"370.7151\">$result</text><rect fill=\"#383838\" height=\"12\" style=\"stroke: #F8F8F8; stroke-width: 1.5;\" width=\"12\" x=\"158\" y=\"345.72\"/><polygon fill=\"#F8F8F8\" points=\"141,28.5,153,40.5,141,52.5,129,40.5,141,28.5\" style=\"stroke: #383838; stroke-width: 1.5;\"/><polygon fill=\"#F8F8F8\" points=\"35,126.5,47,138.5,35,150.5,23,138.5,35,126.5\" style=\"stroke: #383838; stroke-width: 1.5;\"/><g id=\"E1.E5\"><a href=\"psysml:f4b16115-f2df-4145-8494-1e5aced0fe90\" target=\"_top\" title=\"psysml:f4b16115-f2df-4145-8494-1e5aced0fe90\" xlink:actuate=\"onRequest\" xlink:href=\"psysml:f4b16115-f2df-4145-8494-1e5aced0fe90\" xlink:show=\"new\" xlink:title=\"psysml:f4b16115-f2df-4145-8494-1e5aced0fe90\" xlink:type=\"simple\"><rect fill=\"#FFFFFF\" height=\"42.9375\" id=\"E5\" rx=\"10\" ry=\"10\" style=\"stroke: #383838; stroke-width: 1.5;\" width=\"60\" x=\"135\" y=\"193\"/><rect fill=\"#F8F8F8\" height=\"37.9375\" rx=\"10\" ry=\"10\" style=\"stroke: #F8F8F8; stroke-width: 1.5;\" width=\"60\" x=\"135\" y=\"193\"/><rect fill=\"#F8F8F8\" height=\"10\" style=\"stroke: #F8F8F8; stroke-width: 1.5;\" width=\"60\" x=\"135\" y=\"220.9375\"/><rect fill=\"none\" height=\"42.9375\" id=\"E5\" rx=\"10\" ry=\"10\" style=\"stroke: #383838; stroke-width: 1.5;\" width=\"60\" x=\"135\" y=\"193\"/><text fill=\"#000000\" font-family=\"sans-serif\" font-size=\"12\" font-style=\"italic\" lengthAdjust=\"spacingAndGlyphs\" textLength=\"53\" x=\"138.5\" y=\"209.1387\">«action»</text><text fill=\"#000000\" font-family=\"sans-serif\" font-size=\"12\" lengthAdjust=\"spacingAndGlyphs\" textLength=\"16\" x=\"157\" y=\"223.1074\">A1</text></a></g><g id=\"E1.E6\"><a href=\"psysml:ffb4dce0-5cb8-4add-9e67-ebd1f2f3deb3\" target=\"_top\" title=\"psysml:ffb4dce0-5cb8-4add-9e67-ebd1f2f3deb3\" xlink:actuate=\"onRequest\" xlink:href=\"psysml:ffb4dce0-5cb8-4add-9e67-ebd1f2f3deb3\" xlink:show=\"new\" xlink:title=\"psysml:ffb4dce0-5cb8-4add-9e67-ebd1f2f3deb3\" xlink:type=\"simple\"><rect fill=\"#FFFFFF\" height=\"42.9375\" id=\"E6\" rx=\"10\" ry=\"10\" style=\"stroke: #383838; stroke-width: 1.5;\" width=\"60\" x=\"135\" y=\"269\"/><rect fill=\"#F8F8F8\" height=\"37.9375\" rx=\"10\" ry=\"10\" style=\"stroke: #F8F8F8; stroke-width: 1.5;\" width=\"60\" x=\"135\" y=\"269\"/><rect fill=\"#F8F8F8\" height=\"10\" style=\"stroke: #F8F8F8; stroke-width: 1.5;\" width=\"60\" x=\"135\" y=\"296.9375\"/><rect fill=\"none\" height=\"42.9375\" id=\"E6\" rx=\"10\" ry=\"10\" style=\"stroke: #383838; stroke-width: 1.5;\" width=\"60\" x=\"135\" y=\"269\"/><text fill=\"#000000\" font-family=\"sans-serif\" font-size=\"12\" font-style=\"italic\" lengthAdjust=\"spacingAndGlyphs\" textLength=\"53\" x=\"138.5\" y=\"285.1387\">«action»</text><text fill=\"#000000\" font-family=\"sans-serif\" font-size=\"12\" lengthAdjust=\"spacingAndGlyphs\" textLength=\"16\" x=\"157\" y=\"299.1074\">A2</text></a></g><g id=\"E1.E7\"><a href=\"psysml:dc91d98e-27d3-4fe3-8c05-9cedeab5907b\" target=\"_top\" title=\"psysml:dc91d98e-27d3-4fe3-8c05-9cedeab5907b\" xlink:actuate=\"onRequest\" xlink:href=\"psysml:dc91d98e-27d3-4fe3-8c05-9cedeab5907b\" xlink:show=\"new\" xlink:title=\"psysml:dc91d98e-27d3-4fe3-8c05-9cedeab5907b\" xlink:type=\"simple\"><rect fill=\"#FFFFFF\" height=\"42.9375\" id=\"E7\" rx=\"10\" ry=\"10\" style=\"stroke: #383838; stroke-width: 1.5;\" width=\"60\" x=\"46\" y=\"66\"/><rect fill=\"#F8F8F8\" height=\"37.9375\" rx=\"10\" ry=\"10\" style=\"stroke: #F8F8F8; stroke-width: 1.5;\" width=\"60\" x=\"46\" y=\"66\"/><rect fill=\"#F8F8F8\" height=\"10\" style=\"stroke: #F8F8F8; stroke-width: 1.5;\" width=\"60\" x=\"46\" y=\"93.9375\"/><rect fill=\"none\" height=\"42.9375\" id=\"E7\" rx=\"10\" ry=\"10\" style=\"stroke: #383838; stroke-width: 1.5;\" width=\"60\" x=\"46\" y=\"66\"/><text fill=\"#000000\" font-family=\"sans-serif\" font-size=\"12\" font-style=\"italic\" lengthAdjust=\"spacingAndGlyphs\" textLength=\"53\" x=\"49.5\" y=\"82.1387\">«action»</text><text fill=\"#000000\" font-family=\"sans-serif\" font-size=\"12\" lengthAdjust=\"spacingAndGlyphs\" textLength=\"16\" x=\"68\" y=\"96.1074\">A3</text></a></g><g id=\"E1.E8\"><a href=\"psysml:dc91d98e-27d3-4fe3-8c05-9cedeab5907b\" target=\"_top\" title=\"psysml:dc91d98e-27d3-4fe3-8c05-9cedeab5907b\" xlink:actuate=\"onRequest\" xlink:href=\"psysml:dc91d98e-27d3-4fe3-8c05-9cedeab5907b\" xlink:show=\"new\" xlink:title=\"psysml:dc91d98e-27d3-4fe3-8c05-9cedeab5907b\" xlink:type=\"simple\"><rect fill=\"#FFFFFF\" height=\"42.9375\" id=\"E8\" rx=\"10\" ry=\"10\" style=\"stroke: #383838; stroke-width: 1.5;\" width=\"60\" x=\"246\" y=\"117\"/><rect fill=\"#F8F8F8\" height=\"37.9375\" rx=\"10\" ry=\"10\" style=\"stroke: #F8F8F8; stroke-width: 1.5;\" width=\"60\" x=\"246\" y=\"117\"/><rect fill=\"#F8F8F8\" height=\"10\" style=\"stroke: #F8F8F8; stroke-width: 1.5;\" width=\"60\" x=\"246\" y=\"144.9375\"/><rect fill=\"none\" height=\"42.9375\" id=\"E8\" rx=\"10\" ry=\"10\" style=\"stroke: #383838; stroke-width: 1.5;\" width=\"60\" x=\"246\" y=\"117\"/><text fill=\"#000000\" font-family=\"sans-serif\" font-size=\"12\" font-style=\"italic\" lengthAdjust=\"spacingAndGlyphs\" textLength=\"53\" x=\"249.5\" y=\"133.1387\">«action»</text><text fill=\"#000000\" font-family=\"sans-serif\" font-size=\"12\" lengthAdjust=\"spacingAndGlyphs\" textLength=\"16\" x=\"268\" y=\"147.1074\">A3</text></a></g><!--MD5=[0188b64bb0ae78505a997a81836e11e9]\n",
       "link E3 to E5--><a href=\"psysml:f0c1a87b-40f9-41dd-914f-8704a756a2ee\" target=\"_top\" title=\"psysml:f0c1a87b-40f9-41dd-914f-8704a756a2ee\" xlink:actuate=\"onRequest\" xlink:href=\"psysml:f0c1a87b-40f9-41dd-914f-8704a756a2ee\" xlink:show=\"new\" xlink:title=\"psysml:f0c1a87b-40f9-41dd-914f-8704a756a2ee\" xlink:type=\"simple\"><path d=\"M140.07,51.78 C138.47,72.5 136.04,120.67 144,160 C145.92,169.49 149.4,179.47 152.99,188.21 \" fill=\"none\" id=\"E3-&gt;E5\" style=\"stroke: #383838; stroke-width: 1.0;\"/><polygon fill=\"#383838\" points=\"154.98,192.92,155.1631,183.0728,153.0346,188.314,147.7935,186.1855,154.98,192.92\" style=\"stroke: #383838; stroke-width: 1.0;\"/><text fill=\"#000000\" font-family=\"sans-serif\" font-size=\"13\" lengthAdjust=\"spacingAndGlyphs\" textLength=\"55\" x=\"145\" y=\"143.0669\">[x == 1]</text></a><!--MD5=[ec9844e0c75763426927cad3229d1081]\n",
       "link E3 to E6--><a href=\"psysml:534d6032-2416-43d2-b21b-3e106f4a7f5b\" target=\"_top\" title=\"psysml:534d6032-2416-43d2-b21b-3e106f4a7f5b\" xlink:actuate=\"onRequest\" xlink:href=\"psysml:534d6032-2416-43d2-b21b-3e106f4a7f5b\" xlink:show=\"new\" xlink:title=\"psysml:534d6032-2416-43d2-b21b-3e106f4a7f5b\" xlink:type=\"simple\"><path d=\"M147.17,46.62 C160.24,57.84 190.71,86.12 205,117 C229.03,168.92 221.32,186.98 226,244 C226.62,251.53 230.06,254.63 226,261 C220.01,270.41 210.02,276.76 199.83,281.03 \" fill=\"none\" id=\"E3-&gt;E6\" style=\"stroke: #383838; stroke-width: 1.0;\"/><polygon fill=\"#383838\" points=\"195.15,282.85,204.9881,283.3102,199.8089,281.035,202.0841,275.8559,195.15,282.85\" style=\"stroke: #383838; stroke-width: 1.0;\"/><text fill=\"#000000\" font-family=\"sans-serif\" font-size=\"13\" lengthAdjust=\"spacingAndGlyphs\" textLength=\"44\" x=\"224\" y=\"181.0669\">[x &gt; 1]</text></a><!--MD5=[ca5a752d6098d8a44b3f88316e7452d1]\n",
       "link E3 to E8--><a href=\"psysml:e6958018-0280-470d-866d-790aaedd3d9a\" target=\"_top\" title=\"psysml:e6958018-0280-470d-866d-790aaedd3d9a\" xlink:actuate=\"onRequest\" xlink:href=\"psysml:e6958018-0280-470d-866d-790aaedd3d9a\" xlink:show=\"new\" xlink:title=\"psysml:e6958018-0280-470d-866d-790aaedd3d9a\" xlink:type=\"simple\"><path d=\"M147.65,45.88 C153.56,49.59 162.55,54.81 171,58 C186.34,63.79 195.35,54.47 207,66 C220.94,79.81 204.74,93.68 217,109 C223.18,116.72 231.96,122.48 240.86,126.73 \" fill=\"none\" id=\"E3-&gt;E8\" style=\"stroke: #383838; stroke-width: 1.0;\"/><polygon fill=\"#383838\" points=\"245.81,128.93,239.2251,121.6061,241.2451,126.89,235.9612,128.91,245.81,128.93\" style=\"stroke: #383838; stroke-width: 1.0;\"/></a><!--MD5=[95fa686b5a16158bcdbcaeead89f639b]\n",
       "link E8 to E3--><a href=\"psysml:7eebbea4-be3a-4ef1-ac68-fab402045136\" target=\"_top\" title=\"psysml:7eebbea4-be3a-4ef1-ac68-fab402045136\" xlink:actuate=\"onRequest\" xlink:href=\"psysml:7eebbea4-be3a-4ef1-ac68-fab402045136\" xlink:show=\"new\" xlink:title=\"psysml:7eebbea4-be3a-4ef1-ac68-fab402045136\" xlink:type=\"simple\"><path d=\"M253.3,116.74 C250.77,114.19 248.29,111.58 246,109 C230.2,91.18 234.22,78.6 214,66 C197.5,55.72 189.3,64.54 171,58 C164.35,55.62 157.42,51.9 151.89,48.59 \" fill=\"none\" id=\"E8-&gt;E3\" style=\"stroke: #383838; stroke-width: 1.0;\"/><polygon fill=\"#383838\" points=\"147.62,45.95,153.1764,54.0818,151.8744,48.5769,157.3793,47.2748,147.62,45.95\" style=\"stroke: #383838; stroke-width: 1.0;\"/><text fill=\"#000000\" font-family=\"sans-serif\" font-size=\"13\" lengthAdjust=\"spacingAndGlyphs\" textLength=\"44\" x=\"247\" y=\"92.0669\">[x &gt; 0]</text></a><!--MD5=[af87c684e3b0d8be13c1a698a818ef1e]\n",
       "link E3 to E4--><a href=\"psysml:b2a8f402-8a6f-47b5-a176-34e34a53fa41\" target=\"_top\" title=\"psysml:b2a8f402-8a6f-47b5-a176-34e34a53fa41\" xlink:actuate=\"onRequest\" xlink:href=\"psysml:b2a8f402-8a6f-47b5-a176-34e34a53fa41\" xlink:show=\"new\" xlink:title=\"psysml:b2a8f402-8a6f-47b5-a176-34e34a53fa41\" xlink:type=\"simple\"><path d=\"M130.87,42.54 C108.03,45.11 53.64,52.54 42,66 C28.37,81.77 29.55,107.42 32.02,123.33 \" fill=\"none\" id=\"E3-&gt;E4\" style=\"stroke: #383838; stroke-width: 1.0;\"/><polygon fill=\"#383838\" points=\"32.88,128.32,35.3057,118.7745,32.0372,123.3915,27.4201,120.1231,32.88,128.32\" style=\"stroke: #383838; stroke-width: 1.0;\"/></a><!--MD5=[1b7591eae5389033d8d09a9d6721a717]\n",
       "link E4 to E5--><a href=\"psysml:d4e4cf4f-ca71-4ae2-aa8b-453c4e696e69\" target=\"_top\" title=\"psysml:d4e4cf4f-ca71-4ae2-aa8b-453c4e696e69\" xlink:actuate=\"onRequest\" xlink:href=\"psysml:d4e4cf4f-ca71-4ae2-aa8b-453c4e696e69\" xlink:show=\"new\" xlink:title=\"psysml:d4e4cf4f-ca71-4ae2-aa8b-453c4e696e69\" xlink:type=\"simple\"><path d=\"M40.09,145.69 C48.35,155.37 65.62,174.11 84,185 C93.67,190.73 97.38,189.32 108,193 C115.1,195.46 122.69,198.15 129.93,200.74 \" fill=\"none\" id=\"E4-&gt;E5\" style=\"stroke: #383838; stroke-width: 1.0;\"/><polygon fill=\"#383838\" points=\"134.87,202.52,127.7488,195.7164,130.1636,200.832,125.048,203.2467,134.87,202.52\" style=\"stroke: #383838; stroke-width: 1.0;\"/><text fill=\"#000000\" font-family=\"sans-serif\" font-size=\"13\" lengthAdjust=\"spacingAndGlyphs\" textLength=\"36\" x=\"85\" y=\"181.0669\">[true]</text></a><!--MD5=[79568f1e445c3877b6a54524624ccc7d]\n",
       "link E4 to E6--><a href=\"psysml:07d2ed15-614f-457b-995c-67ac116a921b\" target=\"_top\" title=\"psysml:07d2ed15-614f-457b-995c-67ac116a921b\" xlink:actuate=\"onRequest\" xlink:href=\"psysml:07d2ed15-614f-457b-995c-67ac116a921b\" xlink:show=\"new\" xlink:title=\"psysml:07d2ed15-614f-457b-995c-67ac116a921b\" xlink:type=\"simple\"><path d=\"M36.89,148.77 C41.08,167.27 52.64,209.28 76,236 C90.77,252.89 112.21,266 130.35,275.02 \" fill=\"none\" id=\"E4-&gt;E6\" style=\"stroke: #383838; stroke-width: 1.0;\"/><polygon fill=\"#383838\" points=\"134.88,277.22,128.532,269.6898,130.3825,275.0355,125.0368,276.8859,134.88,277.22\" style=\"stroke: #383838; stroke-width: 1.0;\"/><text fill=\"#000000\" font-family=\"sans-serif\" font-size=\"13\" lengthAdjust=\"spacingAndGlyphs\" textLength=\"40\" x=\"77\" y=\"219.0669\">[false]</text></a><!--MD5=[9120cf2e5df3bff93db8f754bbbc09b4]\n",
       "link E5 to E6--><a href=\"psysml:b67ea915-0e8a-4542-80c4-8f1f8e1002d6\" target=\"_top\" title=\"psysml:b67ea915-0e8a-4542-80c4-8f1f8e1002d6\" xlink:actuate=\"onRequest\" xlink:href=\"psysml:b67ea915-0e8a-4542-80c4-8f1f8e1002d6\" xlink:show=\"new\" xlink:title=\"psysml:b67ea915-0e8a-4542-80c4-8f1f8e1002d6\" xlink:type=\"simple\"><path d=\"M165,236.11 C165,244.69 165,254.75 165,263.8 \" fill=\"none\" id=\"E5-&gt;E6\" style=\"stroke: #383838; stroke-width: 1.0;\"/><polygon fill=\"#383838\" points=\"165,269,169,260,165,264,161,260,165,269\" style=\"stroke: #383838; stroke-width: 1.0;\"/><text fill=\"#000000\" font-family=\"sans-serif\" font-size=\"13\" lengthAdjust=\"spacingAndGlyphs\" textLength=\"55\" x=\"166\" y=\"257.0669\">[x == 0]</text></a><!--MD5=[2d6f68f94b85f8fd51b5c3eda3e6174a]\n",
       "@startuml\r\n",
       "skinparam ranksep 10\r\n",
       "skinparam rectangle {\r\n",
       " backgroundColor<<block>> LightGreen\r\n",
       "}\r\n",
       " skinparam monochrome true\r\n",
       "skinparam classbackgroundcolor white\r\n",
       "skinparam shadowing false\r\n",
       "skinparam wrapWidth 300\r\n",
       "hide circle\r\n",
       "\r\n",
       "rec def \"DecisionTest\" as E1  <<(T,blue)action def>> [[psysml:704d58b1-847a-4b5f-8ef4-b4da5c2432eb ]] {\r\n",
       "portout \"$result\" as E2  [[psysml:d3db88a9-d6e2-4728-bacb-cdc83b04fb60 ]] \r\n",
       "choice \"test x\" as E3  [[psysml:07816a00-a6c6-49d5-84be-841a1e7e2f6a ]] \r\n",
       "choice \"noname\" as E4  [[psysml:26311404-6ce6-4dcd-89ed-d43ec51ac22a ]] \r\n",
       "rec usage \"A1\" as E5  <<(T,blue)action>> [[psysml:f4b16115-f2df-4145-8494-1e5aced0fe90 ]] {\r\n",
       "}\r\n",
       "\r\n",
       "rec usage \"A2\" as E6  <<(T,blue)action>> [[psysml:ffb4dce0-5cb8-4add-9e67-ebd1f2f3deb3 ]] {\r\n",
       "}\r\n",
       "\r\n",
       "rec usage \"A3\" as E7  <<(T,blue)action>> [[psysml:dc91d98e-27d3-4fe3-8c05-9cedeab5907b ]] {\r\n",
       "}\r\n",
       "\r\n",
       "rec usage \"A3\" as E8  <<(T,blue)action>> [[psysml:dc91d98e-27d3-4fe3-8c05-9cedeab5907b ]] {\r\n",
       "}\r\n",
       "\r\n",
       "}\r\n",
       "\r\n",
       "E3  - -> E5 [[psysml:f0c1a87b-40f9-41dd-914f-8704a756a2ee ]] : [x == 1]\r\n",
       "E3  - -> E6 [[psysml:534d6032-2416-43d2-b21b-3e106f4a7f5b ]] : [x > 1]\r\n",
       "E3  - -> E8 [[psysml:e6958018-0280-470d-866d-790aaedd3d9a ]] \r\n",
       "E3 - -> E4 [[psysml:b2a8f402-8a6f-47b5-a176-34e34a53fa41 ]] \r\n",
       "E4  - -> E5 [[psysml:d4e4cf4f-ca71-4ae2-aa8b-453c4e696e69 ]] : [true]\r\n",
       "E4  - -> E6 [[psysml:07d2ed15-614f-457b-995c-67ac116a921b ]] : [false]\r\n",
       "E5  - -> E6 [[psysml:b67ea915-0e8a-4542-80c4-8f1f8e1002d6 ]] : [x == 0]\r\n",
       "E8  - -> E3 [[psysml:7eebbea4-be3a-4ef1-ac68-fab402045136 ]] : [x > 0]\r\n",
       "@enduml\r\n",
       "\n",
       "PlantUML version 1.2020.13(Sat Jun 13 12:26:38 UTC 2020)\n",
       "(EPL source distribution)\n",
       "Java Runtime: OpenJDK Runtime Environment\n",
       "JVM: OpenJDK 64-Bit Server VM\n",
       "Default Encoding: UTF-8\n",
       "Language: en\n",
       "Country: null\n",
       "--></g></svg>"
      ]
     },
     "execution_count": 5,
     "metadata": {},
     "output_type": "execute_result"
    }
   ],
   "source": [
    "%viz --style=\"COMPTREE\" --view=\"Interconnection\" \"DecisionTest\""
   ]
  },
  {
   "cell_type": "code",
   "execution_count": 6,
   "id": "4edfca47",
   "metadata": {
    "execution": {
     "iopub.execute_input": "2021-04-20T07:01:18.665015Z",
     "iopub.status.busy": "2021-04-20T07:01:18.664523Z",
     "iopub.status.idle": "2021-04-20T07:01:18.735367Z",
     "shell.execute_reply": "2021-04-20T07:01:18.735040Z"
    }
   },
   "outputs": [
    {
     "data": {
      "image/svg+xml": [
       "<?xml version=\"1.0\" encoding=\"UTF-8\" standalone=\"no\"?><svg xmlns=\"http://www.w3.org/2000/svg\" xmlns:xlink=\"http://www.w3.org/1999/xlink\" contentScriptType=\"application/ecmascript\" contentStyleType=\"text/css\" height=\"384px\" preserveAspectRatio=\"none\" style=\"width:333px;height:384px;\" version=\"1.1\" viewBox=\"0 0 333 384\" width=\"333px\" zoomAndPan=\"magnify\"><defs/><g><!--MD5=[fbc87193dbaf4d95561dea2c320d4a47]\n",
       "cluster E1--><a href=\"psysml:704d58b1-847a-4b5f-8ef4-b4da5c2432eb\" target=\"_top\" title=\"psysml:704d58b1-847a-4b5f-8ef4-b4da5c2432eb\" xlink:actuate=\"onRequest\" xlink:href=\"psysml:704d58b1-847a-4b5f-8ef4-b4da5c2432eb\" xlink:show=\"new\" xlink:title=\"psysml:704d58b1-847a-4b5f-8ef4-b4da5c2432eb\" xlink:type=\"simple\"><rect fill=\"#FFFFFF\" height=\"344.72\" id=\"E1\" style=\"stroke: #383838; stroke-width: 1.5;\" width=\"315\" x=\"7\" y=\"7\"/><rect fill=\"#F8F8F8\" height=\"37.9375\" style=\"stroke: #383838; stroke-width: 1.5;\" width=\"315\" x=\"7\" y=\"7\"/><text fill=\"#000000\" font-family=\"sans-serif\" font-size=\"12\" font-style=\"italic\" lengthAdjust=\"spacingAndGlyphs\" textLength=\"77\" x=\"126\" y=\"23.1387\">«action def»</text><text fill=\"#000000\" font-family=\"sans-serif\" font-size=\"12\" lengthAdjust=\"spacingAndGlyphs\" textLength=\"80\" x=\"124.5\" y=\"37.1074\">DecisionTest</text></a><text fill=\"#000000\" font-family=\"sans-serif\" font-size=\"14\" lengthAdjust=\"spacingAndGlyphs\" textLength=\"48\" x=\"140\" y=\"370.7151\">$result</text><rect fill=\"#383838\" height=\"12\" style=\"stroke: #F8F8F8; stroke-width: 1.5;\" width=\"12\" x=\"158\" y=\"345.72\"/><polygon fill=\"#F8F8F8\" points=\"141,28.5,153,40.5,141,52.5,129,40.5,141,28.5\" style=\"stroke: #383838; stroke-width: 1.5;\"/><polygon fill=\"#F8F8F8\" points=\"35,126.5,47,138.5,35,150.5,23,138.5,35,126.5\" style=\"stroke: #383838; stroke-width: 1.5;\"/><g id=\"E1.E5\"><a href=\"psysml:f4b16115-f2df-4145-8494-1e5aced0fe90\" target=\"_top\" title=\"psysml:f4b16115-f2df-4145-8494-1e5aced0fe90\" xlink:actuate=\"onRequest\" xlink:href=\"psysml:f4b16115-f2df-4145-8494-1e5aced0fe90\" xlink:show=\"new\" xlink:title=\"psysml:f4b16115-f2df-4145-8494-1e5aced0fe90\" xlink:type=\"simple\"><rect fill=\"#FFFFFF\" height=\"42.9375\" id=\"E5\" rx=\"10\" ry=\"10\" style=\"stroke: #383838; stroke-width: 1.5;\" width=\"60\" x=\"135\" y=\"193\"/><rect fill=\"#F8F8F8\" height=\"37.9375\" rx=\"10\" ry=\"10\" style=\"stroke: #F8F8F8; stroke-width: 1.5;\" width=\"60\" x=\"135\" y=\"193\"/><rect fill=\"#F8F8F8\" height=\"10\" style=\"stroke: #F8F8F8; stroke-width: 1.5;\" width=\"60\" x=\"135\" y=\"220.9375\"/><rect fill=\"none\" height=\"42.9375\" id=\"E5\" rx=\"10\" ry=\"10\" style=\"stroke: #383838; stroke-width: 1.5;\" width=\"60\" x=\"135\" y=\"193\"/><text fill=\"#000000\" font-family=\"sans-serif\" font-size=\"12\" font-style=\"italic\" lengthAdjust=\"spacingAndGlyphs\" textLength=\"53\" x=\"138.5\" y=\"209.1387\">«action»</text><text fill=\"#000000\" font-family=\"sans-serif\" font-size=\"12\" lengthAdjust=\"spacingAndGlyphs\" textLength=\"16\" x=\"157\" y=\"223.1074\">A1</text></a></g><g id=\"E1.E6\"><a href=\"psysml:ffb4dce0-5cb8-4add-9e67-ebd1f2f3deb3\" target=\"_top\" title=\"psysml:ffb4dce0-5cb8-4add-9e67-ebd1f2f3deb3\" xlink:actuate=\"onRequest\" xlink:href=\"psysml:ffb4dce0-5cb8-4add-9e67-ebd1f2f3deb3\" xlink:show=\"new\" xlink:title=\"psysml:ffb4dce0-5cb8-4add-9e67-ebd1f2f3deb3\" xlink:type=\"simple\"><rect fill=\"#FFFFFF\" height=\"42.9375\" id=\"E6\" rx=\"10\" ry=\"10\" style=\"stroke: #383838; stroke-width: 1.5;\" width=\"60\" x=\"135\" y=\"269\"/><rect fill=\"#F8F8F8\" height=\"37.9375\" rx=\"10\" ry=\"10\" style=\"stroke: #F8F8F8; stroke-width: 1.5;\" width=\"60\" x=\"135\" y=\"269\"/><rect fill=\"#F8F8F8\" height=\"10\" style=\"stroke: #F8F8F8; stroke-width: 1.5;\" width=\"60\" x=\"135\" y=\"296.9375\"/><rect fill=\"none\" height=\"42.9375\" id=\"E6\" rx=\"10\" ry=\"10\" style=\"stroke: #383838; stroke-width: 1.5;\" width=\"60\" x=\"135\" y=\"269\"/><text fill=\"#000000\" font-family=\"sans-serif\" font-size=\"12\" font-style=\"italic\" lengthAdjust=\"spacingAndGlyphs\" textLength=\"53\" x=\"138.5\" y=\"285.1387\">«action»</text><text fill=\"#000000\" font-family=\"sans-serif\" font-size=\"12\" lengthAdjust=\"spacingAndGlyphs\" textLength=\"16\" x=\"157\" y=\"299.1074\">A2</text></a></g><g id=\"E1.E7\"><a href=\"psysml:dc91d98e-27d3-4fe3-8c05-9cedeab5907b\" target=\"_top\" title=\"psysml:dc91d98e-27d3-4fe3-8c05-9cedeab5907b\" xlink:actuate=\"onRequest\" xlink:href=\"psysml:dc91d98e-27d3-4fe3-8c05-9cedeab5907b\" xlink:show=\"new\" xlink:title=\"psysml:dc91d98e-27d3-4fe3-8c05-9cedeab5907b\" xlink:type=\"simple\"><rect fill=\"#FFFFFF\" height=\"42.9375\" id=\"E7\" rx=\"10\" ry=\"10\" style=\"stroke: #383838; stroke-width: 1.5;\" width=\"60\" x=\"46\" y=\"66\"/><rect fill=\"#F8F8F8\" height=\"37.9375\" rx=\"10\" ry=\"10\" style=\"stroke: #F8F8F8; stroke-width: 1.5;\" width=\"60\" x=\"46\" y=\"66\"/><rect fill=\"#F8F8F8\" height=\"10\" style=\"stroke: #F8F8F8; stroke-width: 1.5;\" width=\"60\" x=\"46\" y=\"93.9375\"/><rect fill=\"none\" height=\"42.9375\" id=\"E7\" rx=\"10\" ry=\"10\" style=\"stroke: #383838; stroke-width: 1.5;\" width=\"60\" x=\"46\" y=\"66\"/><text fill=\"#000000\" font-family=\"sans-serif\" font-size=\"12\" font-style=\"italic\" lengthAdjust=\"spacingAndGlyphs\" textLength=\"53\" x=\"49.5\" y=\"82.1387\">«action»</text><text fill=\"#000000\" font-family=\"sans-serif\" font-size=\"12\" lengthAdjust=\"spacingAndGlyphs\" textLength=\"16\" x=\"68\" y=\"96.1074\">A3</text></a></g><g id=\"E1.E8\"><a href=\"psysml:dc91d98e-27d3-4fe3-8c05-9cedeab5907b\" target=\"_top\" title=\"psysml:dc91d98e-27d3-4fe3-8c05-9cedeab5907b\" xlink:actuate=\"onRequest\" xlink:href=\"psysml:dc91d98e-27d3-4fe3-8c05-9cedeab5907b\" xlink:show=\"new\" xlink:title=\"psysml:dc91d98e-27d3-4fe3-8c05-9cedeab5907b\" xlink:type=\"simple\"><rect fill=\"#FFFFFF\" height=\"42.9375\" id=\"E8\" rx=\"10\" ry=\"10\" style=\"stroke: #383838; stroke-width: 1.5;\" width=\"60\" x=\"246\" y=\"117\"/><rect fill=\"#F8F8F8\" height=\"37.9375\" rx=\"10\" ry=\"10\" style=\"stroke: #F8F8F8; stroke-width: 1.5;\" width=\"60\" x=\"246\" y=\"117\"/><rect fill=\"#F8F8F8\" height=\"10\" style=\"stroke: #F8F8F8; stroke-width: 1.5;\" width=\"60\" x=\"246\" y=\"144.9375\"/><rect fill=\"none\" height=\"42.9375\" id=\"E8\" rx=\"10\" ry=\"10\" style=\"stroke: #383838; stroke-width: 1.5;\" width=\"60\" x=\"246\" y=\"117\"/><text fill=\"#000000\" font-family=\"sans-serif\" font-size=\"12\" font-style=\"italic\" lengthAdjust=\"spacingAndGlyphs\" textLength=\"53\" x=\"249.5\" y=\"133.1387\">«action»</text><text fill=\"#000000\" font-family=\"sans-serif\" font-size=\"12\" lengthAdjust=\"spacingAndGlyphs\" textLength=\"16\" x=\"268\" y=\"147.1074\">A3</text></a></g><!--MD5=[0188b64bb0ae78505a997a81836e11e9]\n",
       "link E3 to E5--><a href=\"psysml:f0c1a87b-40f9-41dd-914f-8704a756a2ee\" target=\"_top\" title=\"psysml:f0c1a87b-40f9-41dd-914f-8704a756a2ee\" xlink:actuate=\"onRequest\" xlink:href=\"psysml:f0c1a87b-40f9-41dd-914f-8704a756a2ee\" xlink:show=\"new\" xlink:title=\"psysml:f0c1a87b-40f9-41dd-914f-8704a756a2ee\" xlink:type=\"simple\"><path d=\"M140.07,51.78 C138.47,72.5 136.04,120.67 144,160 C145.92,169.49 149.4,179.47 152.99,188.21 \" fill=\"none\" id=\"E3-&gt;E5\" style=\"stroke: #383838; stroke-width: 1.0; stroke-dasharray: 7.0,7.0;\"/><polygon fill=\"#383838\" points=\"154.98,192.92,155.1631,183.0728,153.0346,188.314,147.7935,186.1855,154.98,192.92\" style=\"stroke: #383838; stroke-width: 1.0;\"/><text fill=\"#000000\" font-family=\"sans-serif\" font-size=\"13\" lengthAdjust=\"spacingAndGlyphs\" textLength=\"55\" x=\"145\" y=\"143.0669\">[x == 1]</text></a><!--MD5=[ec9844e0c75763426927cad3229d1081]\n",
       "link E3 to E6--><a href=\"psysml:534d6032-2416-43d2-b21b-3e106f4a7f5b\" target=\"_top\" title=\"psysml:534d6032-2416-43d2-b21b-3e106f4a7f5b\" xlink:actuate=\"onRequest\" xlink:href=\"psysml:534d6032-2416-43d2-b21b-3e106f4a7f5b\" xlink:show=\"new\" xlink:title=\"psysml:534d6032-2416-43d2-b21b-3e106f4a7f5b\" xlink:type=\"simple\"><path d=\"M147.17,46.62 C160.24,57.84 190.71,86.12 205,117 C229.03,168.92 221.32,186.98 226,244 C226.62,251.53 230.06,254.63 226,261 C220.01,270.41 210.02,276.76 199.83,281.03 \" fill=\"none\" id=\"E3-&gt;E6\" style=\"stroke: #383838; stroke-width: 1.0; stroke-dasharray: 7.0,7.0;\"/><polygon fill=\"#383838\" points=\"195.15,282.85,204.9881,283.3102,199.8089,281.035,202.0841,275.8559,195.15,282.85\" style=\"stroke: #383838; stroke-width: 1.0;\"/><text fill=\"#000000\" font-family=\"sans-serif\" font-size=\"13\" lengthAdjust=\"spacingAndGlyphs\" textLength=\"44\" x=\"224\" y=\"181.0669\">[x &gt; 1]</text></a><!--MD5=[ca5a752d6098d8a44b3f88316e7452d1]\n",
       "link E3 to E8--><a href=\"psysml:e6958018-0280-470d-866d-790aaedd3d9a\" target=\"_top\" title=\"psysml:e6958018-0280-470d-866d-790aaedd3d9a\" xlink:actuate=\"onRequest\" xlink:href=\"psysml:e6958018-0280-470d-866d-790aaedd3d9a\" xlink:show=\"new\" xlink:title=\"psysml:e6958018-0280-470d-866d-790aaedd3d9a\" xlink:type=\"simple\"><path d=\"M147.65,45.88 C153.56,49.59 162.55,54.81 171,58 C186.34,63.79 195.35,54.47 207,66 C220.94,79.81 204.74,93.68 217,109 C223.18,116.72 231.96,122.48 240.86,126.73 \" fill=\"none\" id=\"E3-&gt;E8\" style=\"stroke: #383838; stroke-width: 1.0; stroke-dasharray: 7.0,7.0;\"/><polygon fill=\"#383838\" points=\"245.81,128.93,239.2251,121.6061,241.2451,126.89,235.9612,128.91,245.81,128.93\" style=\"stroke: #383838; stroke-width: 1.0;\"/></a><!--MD5=[95fa686b5a16158bcdbcaeead89f639b]\n",
       "link E8 to E3--><a href=\"psysml:7eebbea4-be3a-4ef1-ac68-fab402045136\" target=\"_top\" title=\"psysml:7eebbea4-be3a-4ef1-ac68-fab402045136\" xlink:actuate=\"onRequest\" xlink:href=\"psysml:7eebbea4-be3a-4ef1-ac68-fab402045136\" xlink:show=\"new\" xlink:title=\"psysml:7eebbea4-be3a-4ef1-ac68-fab402045136\" xlink:type=\"simple\"><path d=\"M253.3,116.74 C250.77,114.19 248.29,111.58 246,109 C230.2,91.18 234.22,78.6 214,66 C197.5,55.72 189.3,64.54 171,58 C164.35,55.62 157.42,51.9 151.89,48.59 \" fill=\"none\" id=\"E8-&gt;E3\" style=\"stroke: #383838; stroke-width: 1.0; stroke-dasharray: 7.0,7.0;\"/><polygon fill=\"#383838\" points=\"147.62,45.95,153.1764,54.0818,151.8744,48.5769,157.3793,47.2748,147.62,45.95\" style=\"stroke: #383838; stroke-width: 1.0;\"/><text fill=\"#000000\" font-family=\"sans-serif\" font-size=\"13\" lengthAdjust=\"spacingAndGlyphs\" textLength=\"44\" x=\"247\" y=\"92.0669\">[x &gt; 0]</text></a><!--MD5=[af87c684e3b0d8be13c1a698a818ef1e]\n",
       "link E3 to E4--><a href=\"psysml:b2a8f402-8a6f-47b5-a176-34e34a53fa41\" target=\"_top\" title=\"psysml:b2a8f402-8a6f-47b5-a176-34e34a53fa41\" xlink:actuate=\"onRequest\" xlink:href=\"psysml:b2a8f402-8a6f-47b5-a176-34e34a53fa41\" xlink:show=\"new\" xlink:title=\"psysml:b2a8f402-8a6f-47b5-a176-34e34a53fa41\" xlink:type=\"simple\"><path d=\"M130.87,42.54 C108.03,45.11 53.64,52.54 42,66 C28.37,81.77 29.55,107.42 32.02,123.33 \" fill=\"none\" id=\"E3-&gt;E4\" style=\"stroke: #383838; stroke-width: 1.0; stroke-dasharray: 7.0,7.0;\"/><polygon fill=\"#383838\" points=\"32.88,128.32,35.3057,118.7745,32.0372,123.3915,27.4201,120.1231,32.88,128.32\" style=\"stroke: #383838; stroke-width: 1.0;\"/></a><!--MD5=[1b7591eae5389033d8d09a9d6721a717]\n",
       "link E4 to E5--><a href=\"psysml:d4e4cf4f-ca71-4ae2-aa8b-453c4e696e69\" target=\"_top\" title=\"psysml:d4e4cf4f-ca71-4ae2-aa8b-453c4e696e69\" xlink:actuate=\"onRequest\" xlink:href=\"psysml:d4e4cf4f-ca71-4ae2-aa8b-453c4e696e69\" xlink:show=\"new\" xlink:title=\"psysml:d4e4cf4f-ca71-4ae2-aa8b-453c4e696e69\" xlink:type=\"simple\"><path d=\"M40.09,145.69 C48.35,155.37 65.62,174.11 84,185 C93.67,190.73 97.38,189.32 108,193 C115.1,195.46 122.69,198.15 129.93,200.74 \" fill=\"none\" id=\"E4-&gt;E5\" style=\"stroke: #383838; stroke-width: 1.0; stroke-dasharray: 7.0,7.0;\"/><polygon fill=\"#383838\" points=\"134.87,202.52,127.7488,195.7164,130.1636,200.832,125.048,203.2467,134.87,202.52\" style=\"stroke: #383838; stroke-width: 1.0;\"/><text fill=\"#000000\" font-family=\"sans-serif\" font-size=\"13\" lengthAdjust=\"spacingAndGlyphs\" textLength=\"36\" x=\"85\" y=\"181.0669\">[true]</text></a><!--MD5=[79568f1e445c3877b6a54524624ccc7d]\n",
       "link E4 to E6--><a href=\"psysml:07d2ed15-614f-457b-995c-67ac116a921b\" target=\"_top\" title=\"psysml:07d2ed15-614f-457b-995c-67ac116a921b\" xlink:actuate=\"onRequest\" xlink:href=\"psysml:07d2ed15-614f-457b-995c-67ac116a921b\" xlink:show=\"new\" xlink:title=\"psysml:07d2ed15-614f-457b-995c-67ac116a921b\" xlink:type=\"simple\"><path d=\"M36.89,148.77 C41.08,167.27 52.64,209.28 76,236 C90.77,252.89 112.21,266 130.35,275.02 \" fill=\"none\" id=\"E4-&gt;E6\" style=\"stroke: #383838; stroke-width: 1.0; stroke-dasharray: 7.0,7.0;\"/><polygon fill=\"#383838\" points=\"134.88,277.22,128.532,269.6898,130.3825,275.0355,125.0368,276.8859,134.88,277.22\" style=\"stroke: #383838; stroke-width: 1.0;\"/><text fill=\"#000000\" font-family=\"sans-serif\" font-size=\"13\" lengthAdjust=\"spacingAndGlyphs\" textLength=\"40\" x=\"77\" y=\"219.0669\">[false]</text></a><!--MD5=[9120cf2e5df3bff93db8f754bbbc09b4]\n",
       "link E5 to E6--><a href=\"psysml:b67ea915-0e8a-4542-80c4-8f1f8e1002d6\" target=\"_top\" title=\"psysml:b67ea915-0e8a-4542-80c4-8f1f8e1002d6\" xlink:actuate=\"onRequest\" xlink:href=\"psysml:b67ea915-0e8a-4542-80c4-8f1f8e1002d6\" xlink:show=\"new\" xlink:title=\"psysml:b67ea915-0e8a-4542-80c4-8f1f8e1002d6\" xlink:type=\"simple\"><path d=\"M165,236.11 C165,244.69 165,254.75 165,263.8 \" fill=\"none\" id=\"E5-&gt;E6\" style=\"stroke: #383838; stroke-width: 1.0; stroke-dasharray: 7.0,7.0;\"/><polygon fill=\"#383838\" points=\"165,269,169,260,165,264,161,260,165,269\" style=\"stroke: #383838; stroke-width: 1.0;\"/><text fill=\"#000000\" font-family=\"sans-serif\" font-size=\"13\" lengthAdjust=\"spacingAndGlyphs\" textLength=\"55\" x=\"166\" y=\"257.0669\">[x == 0]</text></a><!--MD5=[610bb39e87d698f0705149804097ab67]\n",
       "@startuml\r\n",
       "skinparam ranksep 8\r\n",
       " skinparam monochrome true\r\n",
       "skinparam classbackgroundcolor white\r\n",
       "skinparam shadowing false\r\n",
       "skinparam wrapWidth 300\r\n",
       "hide circle\r\n",
       "\r\n",
       "rec def \"DecisionTest\" as E1  <<(T,blue)action def>> [[psysml:704d58b1-847a-4b5f-8ef4-b4da5c2432eb ]] {\r\n",
       "portout \"$result\" as E2  [[psysml:d3db88a9-d6e2-4728-bacb-cdc83b04fb60 ]] \r\n",
       "choice \"test x\" as E3  [[psysml:07816a00-a6c6-49d5-84be-841a1e7e2f6a ]] \r\n",
       "choice \"noname\" as E4  [[psysml:26311404-6ce6-4dcd-89ed-d43ec51ac22a ]] \r\n",
       "rec usage \"A1\" as E5  <<(T,blue)action>> [[psysml:f4b16115-f2df-4145-8494-1e5aced0fe90 ]] {\r\n",
       "}\r\n",
       "\r\n",
       "rec usage \"A2\" as E6  <<(T,blue)action>> [[psysml:ffb4dce0-5cb8-4add-9e67-ebd1f2f3deb3 ]] {\r\n",
       "}\r\n",
       "\r\n",
       "rec usage \"A3\" as E7  <<(T,blue)action>> [[psysml:dc91d98e-27d3-4fe3-8c05-9cedeab5907b ]] {\r\n",
       "}\r\n",
       "\r\n",
       "rec usage \"A3\" as E8  <<(T,blue)action>> [[psysml:dc91d98e-27d3-4fe3-8c05-9cedeab5907b ]] {\r\n",
       "}\r\n",
       "\r\n",
       "}\r\n",
       "\r\n",
       "E3 ..> E5 [[psysml:f0c1a87b-40f9-41dd-914f-8704a756a2ee ]] : [x == 1]\r\n",
       "E3 ..> E6 [[psysml:534d6032-2416-43d2-b21b-3e106f4a7f5b ]] : [x > 1]\r\n",
       "E3 ..> E8 [[psysml:e6958018-0280-470d-866d-790aaedd3d9a ]] \r\n",
       "E3 ..> E4 [[psysml:b2a8f402-8a6f-47b5-a176-34e34a53fa41 ]] \r\n",
       "E4 ..> E5 [[psysml:d4e4cf4f-ca71-4ae2-aa8b-453c4e696e69 ]] : [true]\r\n",
       "E4 ..> E6 [[psysml:07d2ed15-614f-457b-995c-67ac116a921b ]] : [false]\r\n",
       "E5 ..> E6 [[psysml:b67ea915-0e8a-4542-80c4-8f1f8e1002d6 ]] : [x == 0]\r\n",
       "E8 ..> E3 [[psysml:7eebbea4-be3a-4ef1-ac68-fab402045136 ]] : [x > 0]\r\n",
       "@enduml\r\n",
       "\n",
       "PlantUML version 1.2020.13(Sat Jun 13 12:26:38 UTC 2020)\n",
       "(EPL source distribution)\n",
       "Java Runtime: OpenJDK Runtime Environment\n",
       "JVM: OpenJDK 64-Bit Server VM\n",
       "Default Encoding: UTF-8\n",
       "Language: en\n",
       "Country: null\n",
       "--></g></svg>"
      ]
     },
     "execution_count": 6,
     "metadata": {},
     "output_type": "execute_result"
    }
   ],
   "source": [
    "%viz --style=\"COMPTREE\" --view=\"Action\" \"DecisionTest\""
   ]
  },
  {
   "cell_type": "code",
   "execution_count": 7,
   "id": "2f5b8b1a",
   "metadata": {
    "execution": {
     "iopub.execute_input": "2021-04-20T07:01:18.786906Z",
     "iopub.status.busy": "2021-04-20T07:01:18.786116Z",
     "iopub.status.idle": "2021-04-20T07:01:18.912075Z",
     "shell.execute_reply": "2021-04-20T07:01:18.910860Z"
    }
   },
   "outputs": [
    {
     "data": {
      "image/svg+xml": [
       "<?xml version=\"1.0\" encoding=\"UTF-8\" standalone=\"no\"?><svg xmlns=\"http://www.w3.org/2000/svg\" xmlns:xlink=\"http://www.w3.org/1999/xlink\" contentScriptType=\"application/ecmascript\" contentStyleType=\"text/css\" height=\"207px\" preserveAspectRatio=\"none\" style=\"width:109px;height:207px;\" version=\"1.1\" viewBox=\"0 0 109 207\" width=\"109px\" zoomAndPan=\"magnify\"><defs/><g><!--MD5=[43c9051892ef23e1a46a86907403d788]\n",
       "class E1--><a href=\"psysml:704d58b1-847a-4b5f-8ef4-b4da5c2432eb\" target=\"_top\" title=\"psysml:704d58b1-847a-4b5f-8ef4-b4da5c2432eb\" xlink:actuate=\"onRequest\" xlink:href=\"psysml:704d58b1-847a-4b5f-8ef4-b4da5c2432eb\" xlink:show=\"new\" xlink:title=\"psysml:704d58b1-847a-4b5f-8ef4-b4da5c2432eb\" xlink:type=\"simple\"><rect fill=\"#FFFFFF\" height=\"189.9844\" id=\"E1\" style=\"stroke: #383838; stroke-width: 1.5;\" width=\"91\" x=\"7\" y=\"7\"/><text fill=\"#000000\" font-family=\"sans-serif\" font-size=\"12\" font-style=\"italic\" lengthAdjust=\"spacingAndGlyphs\" textLength=\"77\" x=\"14\" y=\"23.1387\">«action def»</text><text fill=\"#000000\" font-family=\"sans-serif\" font-size=\"12\" lengthAdjust=\"spacingAndGlyphs\" textLength=\"80\" x=\"12.5\" y=\"37.1074\">DecisionTest</text><line style=\"stroke: #383838; stroke-width: 1.5;\" x1=\"8\" x2=\"97\" y1=\"44.9375\" y2=\"44.9375\"/><text fill=\"#000000\" font-family=\"sans-serif\" font-size=\"11\" lengthAdjust=\"spacingAndGlyphs\" textLength=\"26\" x=\"13\" y=\"75.9526\">x=1;</text><line style=\"stroke: #383838; stroke-width: 1.0;\" x1=\"8\" x2=\"25\" y1=\"59.3398\" y2=\"59.3398\"/><text fill=\"#000000\" font-family=\"sans-serif\" font-size=\"11\" lengthAdjust=\"spacingAndGlyphs\" textLength=\"55\" x=\"25\" y=\"62.6479\">attributes</text><line style=\"stroke: #383838; stroke-width: 1.0;\" x1=\"80\" x2=\"97\" y1=\"59.3398\" y2=\"59.3398\"/><text fill=\"#000000\" font-family=\"sans-serif\" font-size=\"11\" lengthAdjust=\"spacingAndGlyphs\" textLength=\"14\" x=\"13\" y=\"105.562\">A1</text><text fill=\"#000000\" font-family=\"sans-serif\" font-size=\"11\" lengthAdjust=\"spacingAndGlyphs\" textLength=\"14\" x=\"13\" y=\"118.3667\">A2</text><text fill=\"#000000\" font-family=\"sans-serif\" font-size=\"11\" lengthAdjust=\"spacingAndGlyphs\" textLength=\"14\" x=\"13\" y=\"131.1714\">A3</text><line style=\"stroke: #383838; stroke-width: 1.0;\" x1=\"8\" x2=\"32\" y1=\"88.9492\" y2=\"88.9492\"/><text fill=\"#000000\" font-family=\"sans-serif\" font-size=\"11\" lengthAdjust=\"spacingAndGlyphs\" textLength=\"41\" x=\"32\" y=\"92.2573\">actions</text><line style=\"stroke: #383838; stroke-width: 1.0;\" x1=\"73\" x2=\"97\" y1=\"88.9492\" y2=\"88.9492\"/><text fill=\"#000000\" font-family=\"sans-serif\" font-size=\"11\" lengthAdjust=\"spacingAndGlyphs\" textLength=\"32\" x=\"13\" y=\"160.7808\">test x</text><line style=\"stroke: #383838; stroke-width: 1.0;\" x1=\"8\" x2=\"11\" y1=\"144.168\" y2=\"144.168\"/><text fill=\"#000000\" font-family=\"sans-serif\" font-size=\"11\" lengthAdjust=\"spacingAndGlyphs\" textLength=\"83\" x=\"11\" y=\"147.4761\">decisionNodes</text><line style=\"stroke: #383838; stroke-width: 1.0;\" x1=\"94\" x2=\"97\" y1=\"144.168\" y2=\"144.168\"/><text fill=\"#000000\" font-family=\"sans-serif\" font-size=\"11\" lengthAdjust=\"spacingAndGlyphs\" textLength=\"8\" x=\"13\" y=\"190.3901\">S</text><line style=\"stroke: #383838; stroke-width: 1.0;\" x1=\"8\" x2=\"22\" y1=\"173.7773\" y2=\"173.7773\"/><text fill=\"#000000\" font-family=\"sans-serif\" font-size=\"11\" lengthAdjust=\"spacingAndGlyphs\" textLength=\"61\" x=\"22\" y=\"177.0854\">transitions</text><line style=\"stroke: #383838; stroke-width: 1.0;\" x1=\"83\" x2=\"97\" y1=\"173.7773\" y2=\"173.7773\"/></a><!--MD5=[b4bb066cb9423aad4675c63f26adb3eb]\n",
       "@startuml\r\n",
       " skinparam monochrome true\r\n",
       "skinparam classbackgroundcolor white\r\n",
       "skinparam shadowing false\r\n",
       "skinparam wrapWidth 300\r\n",
       "hide circle\r\n",
       "\r\n",
       "comp def \"DecisionTest\" as E1  <<(T,blue)action def>> [[psysml:704d58b1-847a-4b5f-8ef4-b4da5c2432eb ]] {\r\n",
       "- - attributes - -\r\n",
       "x=1; \r\n",
       "- - actions - -\r\n",
       "A1\r\n",
       "A2\r\n",
       "A3\r\n",
       "- - decisionNodes - -\r\n",
       "test x\r\n",
       "- - transitions - -\r\n",
       "S\r\n",
       "}\r\n",
       "@enduml\r\n",
       "\n",
       "PlantUML version 1.2020.13(Sat Jun 13 12:26:38 UTC 2020)\n",
       "(EPL source distribution)\n",
       "Java Runtime: OpenJDK Runtime Environment\n",
       "JVM: OpenJDK 64-Bit Server VM\n",
       "Default Encoding: UTF-8\n",
       "Language: en\n",
       "Country: null\n",
       "--></g></svg>"
      ]
     },
     "execution_count": 7,
     "metadata": {},
     "output_type": "execute_result"
    }
   ],
   "source": [
    "%viz --style=\"COMPTREE\" --view=\"Sequence\" \"DecisionTest\""
   ]
  },
  {
   "cell_type": "code",
   "execution_count": 8,
   "id": "036c8edd",
   "metadata": {
    "execution": {
     "iopub.execute_input": "2021-04-20T07:01:18.963571Z",
     "iopub.status.busy": "2021-04-20T07:01:18.962773Z",
     "iopub.status.idle": "2021-04-20T07:01:19.025560Z",
     "shell.execute_reply": "2021-04-20T07:01:19.023959Z"
    }
   },
   "outputs": [
    {
     "data": {
      "image/svg+xml": [
       "<?xml version=\"1.0\" encoding=\"UTF-8\" standalone=\"no\"?><svg xmlns=\"http://www.w3.org/2000/svg\" xmlns:xlink=\"http://www.w3.org/1999/xlink\" contentScriptType=\"application/ecmascript\" contentStyleType=\"text/css\" height=\"574px\" preserveAspectRatio=\"none\" style=\"width:333px;height:574px;\" version=\"1.1\" viewBox=\"0 0 333 574\" width=\"333px\" zoomAndPan=\"magnify\"><defs/><g><!--MD5=[fbc87193dbaf4d95561dea2c320d4a47]\n",
       "cluster E1--><a href=\"psysml:704d58b1-847a-4b5f-8ef4-b4da5c2432eb\" target=\"_top\" title=\"psysml:704d58b1-847a-4b5f-8ef4-b4da5c2432eb\" xlink:actuate=\"onRequest\" xlink:href=\"psysml:704d58b1-847a-4b5f-8ef4-b4da5c2432eb\" xlink:show=\"new\" xlink:title=\"psysml:704d58b1-847a-4b5f-8ef4-b4da5c2432eb\" xlink:type=\"simple\"><rect fill=\"#FFFFFF\" height=\"534.72\" id=\"E1\" style=\"stroke: #383838; stroke-width: 1.5;\" width=\"315\" x=\"7\" y=\"7\"/><rect fill=\"#F8F8F8\" height=\"37.9375\" style=\"stroke: #383838; stroke-width: 1.5;\" width=\"315\" x=\"7\" y=\"7\"/><text fill=\"#000000\" font-family=\"sans-serif\" font-size=\"12\" font-style=\"italic\" lengthAdjust=\"spacingAndGlyphs\" textLength=\"77\" x=\"126\" y=\"23.1387\">«action def»</text><text fill=\"#000000\" font-family=\"sans-serif\" font-size=\"12\" lengthAdjust=\"spacingAndGlyphs\" textLength=\"80\" x=\"124.5\" y=\"37.1074\">DecisionTest</text></a><text fill=\"#000000\" font-family=\"sans-serif\" font-size=\"14\" lengthAdjust=\"spacingAndGlyphs\" textLength=\"48\" x=\"140\" y=\"560.7151\">$result</text><rect fill=\"#383838\" height=\"12\" style=\"stroke: #F8F8F8; stroke-width: 1.5;\" width=\"12\" x=\"158\" y=\"535.72\"/><polygon fill=\"#F8F8F8\" points=\"141,28.5,153,40.5,141,52.5,129,40.5,141,28.5\" style=\"stroke: #383838; stroke-width: 1.5;\"/><polygon fill=\"#F8F8F8\" points=\"35,170.5,47,182.5,35,194.5,23,182.5,35,170.5\" style=\"stroke: #383838; stroke-width: 1.5;\"/><g id=\"E1.E5\"><a href=\"psysml:f4b16115-f2df-4145-8494-1e5aced0fe90\" target=\"_top\" title=\"psysml:f4b16115-f2df-4145-8494-1e5aced0fe90\" xlink:actuate=\"onRequest\" xlink:href=\"psysml:f4b16115-f2df-4145-8494-1e5aced0fe90\" xlink:show=\"new\" xlink:title=\"psysml:f4b16115-f2df-4145-8494-1e5aced0fe90\" xlink:type=\"simple\"><rect fill=\"#FFFFFF\" height=\"42.9375\" id=\"E5\" rx=\"10\" ry=\"10\" style=\"stroke: #383838; stroke-width: 1.5;\" width=\"60\" x=\"135\" y=\"281\"/><rect fill=\"#F8F8F8\" height=\"37.9375\" rx=\"10\" ry=\"10\" style=\"stroke: #F8F8F8; stroke-width: 1.5;\" width=\"60\" x=\"135\" y=\"281\"/><rect fill=\"#F8F8F8\" height=\"10\" style=\"stroke: #F8F8F8; stroke-width: 1.5;\" width=\"60\" x=\"135\" y=\"308.9375\"/><rect fill=\"none\" height=\"42.9375\" id=\"E5\" rx=\"10\" ry=\"10\" style=\"stroke: #383838; stroke-width: 1.5;\" width=\"60\" x=\"135\" y=\"281\"/><text fill=\"#000000\" font-family=\"sans-serif\" font-size=\"12\" font-style=\"italic\" lengthAdjust=\"spacingAndGlyphs\" textLength=\"53\" x=\"138.5\" y=\"297.1387\">«action»</text><text fill=\"#000000\" font-family=\"sans-serif\" font-size=\"12\" lengthAdjust=\"spacingAndGlyphs\" textLength=\"16\" x=\"157\" y=\"311.1074\">A1</text></a></g><g id=\"E1.E6\"><a href=\"psysml:ffb4dce0-5cb8-4add-9e67-ebd1f2f3deb3\" target=\"_top\" title=\"psysml:ffb4dce0-5cb8-4add-9e67-ebd1f2f3deb3\" xlink:actuate=\"onRequest\" xlink:href=\"psysml:ffb4dce0-5cb8-4add-9e67-ebd1f2f3deb3\" xlink:show=\"new\" xlink:title=\"psysml:ffb4dce0-5cb8-4add-9e67-ebd1f2f3deb3\" xlink:type=\"simple\"><rect fill=\"#FFFFFF\" height=\"42.9375\" id=\"E6\" rx=\"10\" ry=\"10\" style=\"stroke: #383838; stroke-width: 1.5;\" width=\"60\" x=\"135\" y=\"401\"/><rect fill=\"#F8F8F8\" height=\"37.9375\" rx=\"10\" ry=\"10\" style=\"stroke: #F8F8F8; stroke-width: 1.5;\" width=\"60\" x=\"135\" y=\"401\"/><rect fill=\"#F8F8F8\" height=\"10\" style=\"stroke: #F8F8F8; stroke-width: 1.5;\" width=\"60\" x=\"135\" y=\"428.9375\"/><rect fill=\"none\" height=\"42.9375\" id=\"E6\" rx=\"10\" ry=\"10\" style=\"stroke: #383838; stroke-width: 1.5;\" width=\"60\" x=\"135\" y=\"401\"/><text fill=\"#000000\" font-family=\"sans-serif\" font-size=\"12\" font-style=\"italic\" lengthAdjust=\"spacingAndGlyphs\" textLength=\"53\" x=\"138.5\" y=\"417.1387\">«action»</text><text fill=\"#000000\" font-family=\"sans-serif\" font-size=\"12\" lengthAdjust=\"spacingAndGlyphs\" textLength=\"16\" x=\"157\" y=\"431.1074\">A2</text></a></g><g id=\"E1.E7\"><a href=\"psysml:dc91d98e-27d3-4fe3-8c05-9cedeab5907b\" target=\"_top\" title=\"psysml:dc91d98e-27d3-4fe3-8c05-9cedeab5907b\" xlink:actuate=\"onRequest\" xlink:href=\"psysml:dc91d98e-27d3-4fe3-8c05-9cedeab5907b\" xlink:show=\"new\" xlink:title=\"psysml:dc91d98e-27d3-4fe3-8c05-9cedeab5907b\" xlink:type=\"simple\"><rect fill=\"#FFFFFF\" height=\"42.9375\" id=\"E7\" rx=\"10\" ry=\"10\" style=\"stroke: #383838; stroke-width: 1.5;\" width=\"60\" x=\"46\" y=\"88\"/><rect fill=\"#F8F8F8\" height=\"37.9375\" rx=\"10\" ry=\"10\" style=\"stroke: #F8F8F8; stroke-width: 1.5;\" width=\"60\" x=\"46\" y=\"88\"/><rect fill=\"#F8F8F8\" height=\"10\" style=\"stroke: #F8F8F8; stroke-width: 1.5;\" width=\"60\" x=\"46\" y=\"115.9375\"/><rect fill=\"none\" height=\"42.9375\" id=\"E7\" rx=\"10\" ry=\"10\" style=\"stroke: #383838; stroke-width: 1.5;\" width=\"60\" x=\"46\" y=\"88\"/><text fill=\"#000000\" font-family=\"sans-serif\" font-size=\"12\" font-style=\"italic\" lengthAdjust=\"spacingAndGlyphs\" textLength=\"53\" x=\"49.5\" y=\"104.1387\">«action»</text><text fill=\"#000000\" font-family=\"sans-serif\" font-size=\"12\" lengthAdjust=\"spacingAndGlyphs\" textLength=\"16\" x=\"68\" y=\"118.1074\">A3</text></a></g><g id=\"E1.E8\"><a href=\"psysml:dc91d98e-27d3-4fe3-8c05-9cedeab5907b\" target=\"_top\" title=\"psysml:dc91d98e-27d3-4fe3-8c05-9cedeab5907b\" xlink:actuate=\"onRequest\" xlink:href=\"psysml:dc91d98e-27d3-4fe3-8c05-9cedeab5907b\" xlink:show=\"new\" xlink:title=\"psysml:dc91d98e-27d3-4fe3-8c05-9cedeab5907b\" xlink:type=\"simple\"><rect fill=\"#FFFFFF\" height=\"42.9375\" id=\"E8\" rx=\"10\" ry=\"10\" style=\"stroke: #383838; stroke-width: 1.5;\" width=\"60\" x=\"246\" y=\"161\"/><rect fill=\"#F8F8F8\" height=\"37.9375\" rx=\"10\" ry=\"10\" style=\"stroke: #F8F8F8; stroke-width: 1.5;\" width=\"60\" x=\"246\" y=\"161\"/><rect fill=\"#F8F8F8\" height=\"10\" style=\"stroke: #F8F8F8; stroke-width: 1.5;\" width=\"60\" x=\"246\" y=\"188.9375\"/><rect fill=\"none\" height=\"42.9375\" id=\"E8\" rx=\"10\" ry=\"10\" style=\"stroke: #383838; stroke-width: 1.5;\" width=\"60\" x=\"246\" y=\"161\"/><text fill=\"#000000\" font-family=\"sans-serif\" font-size=\"12\" font-style=\"italic\" lengthAdjust=\"spacingAndGlyphs\" textLength=\"53\" x=\"249.5\" y=\"177.1387\">«action»</text><text fill=\"#000000\" font-family=\"sans-serif\" font-size=\"12\" lengthAdjust=\"spacingAndGlyphs\" textLength=\"16\" x=\"268\" y=\"191.1074\">A3</text></a></g><!--MD5=[0188b64bb0ae78505a997a81836e11e9]\n",
       "link E3 to E5--><a href=\"psysml:f0c1a87b-40f9-41dd-914f-8704a756a2ee\" target=\"_top\" title=\"psysml:f0c1a87b-40f9-41dd-914f-8704a756a2ee\" xlink:actuate=\"onRequest\" xlink:href=\"psysml:f0c1a87b-40f9-41dd-914f-8704a756a2ee\" xlink:show=\"new\" xlink:title=\"psysml:f0c1a87b-40f9-41dd-914f-8704a756a2ee\" xlink:type=\"simple\"><path d=\"M140.49,52.19 C139.39,78.26 137.41,147.1 144,204 C146.84,228.53 153.03,255.98 157.96,275.49 \" fill=\"none\" id=\"E3-&gt;E5\" style=\"stroke: #383838; stroke-width: 1.0;\"/><polygon fill=\"#383838\" points=\"159.31,280.77,160.9741,271.0627,158.0805,275.9235,153.2197,273.0299,159.31,280.77\" style=\"stroke: #383838; stroke-width: 1.0;\"/><text fill=\"#000000\" font-family=\"sans-serif\" font-size=\"13\" lengthAdjust=\"spacingAndGlyphs\" textLength=\"55\" x=\"145\" y=\"187.0669\">[x == 1]</text></a><!--MD5=[ec9844e0c75763426927cad3229d1081]\n",
       "link E3 to E6--><a href=\"psysml:534d6032-2416-43d2-b21b-3e106f4a7f5b\" target=\"_top\" title=\"psysml:534d6032-2416-43d2-b21b-3e106f4a7f5b\" xlink:actuate=\"onRequest\" xlink:href=\"psysml:534d6032-2416-43d2-b21b-3e106f4a7f5b\" xlink:show=\"new\" xlink:title=\"psysml:534d6032-2416-43d2-b21b-3e106f4a7f5b\" xlink:type=\"simple\"><path d=\"M145.73,48.09 C157.96,65.53 190.67,114.68 205,161 C230.5,243.43 221.33,267.84 226,354 C226.41,361.54 229.22,364.16 226,371 C220.27,383.19 209.98,393.45 199.48,401.47 \" fill=\"none\" id=\"E3-&gt;E6\" style=\"stroke: #383838; stroke-width: 1.0;\"/><polygon fill=\"#383838\" points=\"195.29,404.54,204.9073,402.4168,199.3138,401.5721,200.1586,395.9786,195.29,404.54\" style=\"stroke: #383838; stroke-width: 1.0;\"/><text fill=\"#000000\" font-family=\"sans-serif\" font-size=\"13\" lengthAdjust=\"spacingAndGlyphs\" textLength=\"44\" x=\"223\" y=\"247.0669\">[x &gt; 1]</text></a><!--MD5=[ca5a752d6098d8a44b3f88316e7452d1]\n",
       "link E3 to E8--><a href=\"psysml:e6958018-0280-470d-866d-790aaedd3d9a\" target=\"_top\" title=\"psysml:e6958018-0280-470d-866d-790aaedd3d9a\" xlink:actuate=\"onRequest\" xlink:href=\"psysml:e6958018-0280-470d-866d-790aaedd3d9a\" xlink:show=\"new\" xlink:title=\"psysml:e6958018-0280-470d-866d-790aaedd3d9a\" xlink:type=\"simple\"><path d=\"M147.97,45.53 C163.29,54.53 199.17,76.37 207,88 C217.96,104.27 206.82,114.23 217,131 C223.37,141.49 232.66,150.9 242,158.68 \" fill=\"none\" id=\"E3-&gt;E8\" style=\"stroke: #383838; stroke-width: 1.0;\"/><polygon fill=\"#383838\" points=\"246,161.91,241.5179,153.1401,242.1124,158.7657,236.4869,159.3602,246,161.91\" style=\"stroke: #383838; stroke-width: 1.0;\"/></a><!--MD5=[95fa686b5a16158bcdbcaeead89f639b]\n",
       "link E8 to E3--><a href=\"psysml:7eebbea4-be3a-4ef1-ac68-fab402045136\" target=\"_top\" title=\"psysml:7eebbea4-be3a-4ef1-ac68-fab402045136\" xlink:actuate=\"onRequest\" xlink:href=\"psysml:7eebbea4-be3a-4ef1-ac68-fab402045136\" xlink:show=\"new\" xlink:title=\"psysml:7eebbea4-be3a-4ef1-ac68-fab402045136\" xlink:type=\"simple\"><path d=\"M263.71,160.86 C249.28,137.02 225.81,99.6 214,88 C204.2,78.38 171.17,58.79 153.08,48.37 \" fill=\"none\" id=\"E8-&gt;E3\" style=\"stroke: #383838; stroke-width: 1.0;\"/><polygon fill=\"#383838\" points=\"148.41,45.69,154.234,53.6323,152.7495,48.1738,158.208,46.6892,148.41,45.69\" style=\"stroke: #383838; stroke-width: 1.0;\"/><text fill=\"#000000\" font-family=\"sans-serif\" font-size=\"13\" lengthAdjust=\"spacingAndGlyphs\" textLength=\"44\" x=\"244\" y=\"114.0669\">[x &gt; 0]</text></a><!--MD5=[af87c684e3b0d8be13c1a698a818ef1e]\n",
       "link E3 to E4--><a href=\"psysml:b2a8f402-8a6f-47b5-a176-34e34a53fa41\" target=\"_top\" title=\"psysml:b2a8f402-8a6f-47b5-a176-34e34a53fa41\" xlink:actuate=\"onRequest\" xlink:href=\"psysml:b2a8f402-8a6f-47b5-a176-34e34a53fa41\" xlink:show=\"new\" xlink:title=\"psysml:b2a8f402-8a6f-47b5-a176-34e34a53fa41\" xlink:type=\"simple\"><path d=\"M131.03,42.86 C110.41,46.26 63.22,57.19 42,88 C25.54,111.89 28.61,147.84 31.99,167.47 \" fill=\"none\" id=\"E3-&gt;E4\" style=\"stroke: #383838; stroke-width: 1.0;\"/><polygon fill=\"#383838\" points=\"32.94,172.56,35.2263,162.9802,32.0255,167.6443,27.3613,164.4435,32.94,172.56\" style=\"stroke: #383838; stroke-width: 1.0;\"/></a><!--MD5=[1b7591eae5389033d8d09a9d6721a717]\n",
       "link E4 to E5--><a href=\"psysml:d4e4cf4f-ca71-4ae2-aa8b-453c4e696e69\" target=\"_top\" title=\"psysml:d4e4cf4f-ca71-4ae2-aa8b-453c4e696e69\" xlink:actuate=\"onRequest\" xlink:href=\"psysml:d4e4cf4f-ca71-4ae2-aa8b-453c4e696e69\" xlink:show=\"new\" xlink:title=\"psysml:d4e4cf4f-ca71-4ae2-aa8b-453c4e696e69\" xlink:type=\"simple\"><path d=\"M39.08,190.91 C46.63,204.15 63.87,232.24 84,251 C97.73,263.8 115.17,275.16 130.35,283.85 \" fill=\"none\" id=\"E4-&gt;E5\" style=\"stroke: #383838; stroke-width: 1.0;\"/><polygon fill=\"#383838\" points=\"134.98,286.46,129.0858,278.5696,130.6187,284.0148,125.1735,285.5477,134.98,286.46\" style=\"stroke: #383838; stroke-width: 1.0;\"/><text fill=\"#000000\" font-family=\"sans-serif\" font-size=\"13\" lengthAdjust=\"spacingAndGlyphs\" textLength=\"36\" x=\"85\" y=\"247.0669\">[true]</text></a><!--MD5=[79568f1e445c3877b6a54524624ccc7d]\n",
       "link E4 to E6--><a href=\"psysml:07d2ed15-614f-457b-995c-67ac116a921b\" target=\"_top\" title=\"psysml:07d2ed15-614f-457b-995c-67ac116a921b\" xlink:actuate=\"onRequest\" xlink:href=\"psysml:07d2ed15-614f-457b-995c-67ac116a921b\" xlink:show=\"new\" xlink:title=\"psysml:07d2ed15-614f-457b-995c-67ac116a921b\" xlink:type=\"simple\"><path d=\"M36.3,193.29 C39.76,217.03 50.73,279.03 76,324 C91.89,352.29 117.42,379.1 137.07,397.43 \" fill=\"none\" id=\"E4-&gt;E6\" style=\"stroke: #383838; stroke-width: 1.0;\"/><polygon fill=\"#383838\" points=\"140.92,400.98,137.0155,391.9382,137.2443,397.5904,131.5921,397.8192,140.92,400.98\" style=\"stroke: #383838; stroke-width: 1.0;\"/><text fill=\"#000000\" font-family=\"sans-serif\" font-size=\"13\" lengthAdjust=\"spacingAndGlyphs\" textLength=\"40\" x=\"77\" y=\"307.0669\">[false]</text></a><!--MD5=[9120cf2e5df3bff93db8f754bbbc09b4]\n",
       "link E5 to E6--><a href=\"psysml:b67ea915-0e8a-4542-80c4-8f1f8e1002d6\" target=\"_top\" title=\"psysml:b67ea915-0e8a-4542-80c4-8f1f8e1002d6\" xlink:actuate=\"onRequest\" xlink:href=\"psysml:b67ea915-0e8a-4542-80c4-8f1f8e1002d6\" xlink:show=\"new\" xlink:title=\"psysml:b67ea915-0e8a-4542-80c4-8f1f8e1002d6\" xlink:type=\"simple\"><path d=\"M165,324.05 C165,343.9 165,374.02 165,395.52 \" fill=\"none\" id=\"E5-&gt;E6\" style=\"stroke: #383838; stroke-width: 1.0;\"/><polygon fill=\"#383838\" points=\"165,400.79,169,391.79,165,395.79,161,391.79,165,400.79\" style=\"stroke: #383838; stroke-width: 1.0;\"/><text fill=\"#000000\" font-family=\"sans-serif\" font-size=\"13\" lengthAdjust=\"spacingAndGlyphs\" textLength=\"55\" x=\"166\" y=\"367.0669\">[x == 0]</text></a><!--MD5=[92bfd93a0e06348b88bc3869a6ae0a4d]\n",
       "@startuml\r\n",
       " skinparam monochrome true\r\n",
       "skinparam classbackgroundcolor white\r\n",
       "skinparam shadowing false\r\n",
       "skinparam wrapWidth 300\r\n",
       "hide circle\r\n",
       "\r\n",
       "rec def \"DecisionTest\" as E1  <<(T,blue)action def>> [[psysml:704d58b1-847a-4b5f-8ef4-b4da5c2432eb ]] {\r\n",
       "portout \"$result\" as E2  [[psysml:d3db88a9-d6e2-4728-bacb-cdc83b04fb60 ]] \r\n",
       "choice \"test x\" as E3  [[psysml:07816a00-a6c6-49d5-84be-841a1e7e2f6a ]] \r\n",
       "choice \"noname\" as E4  [[psysml:26311404-6ce6-4dcd-89ed-d43ec51ac22a ]] \r\n",
       "rec usage \"A1\" as E5  <<(T,blue)action>> [[psysml:f4b16115-f2df-4145-8494-1e5aced0fe90 ]] {\r\n",
       "}\r\n",
       "\r\n",
       "rec usage \"A2\" as E6  <<(T,blue)action>> [[psysml:ffb4dce0-5cb8-4add-9e67-ebd1f2f3deb3 ]] {\r\n",
       "}\r\n",
       "\r\n",
       "rec usage \"A3\" as E7  <<(T,blue)action>> [[psysml:dc91d98e-27d3-4fe3-8c05-9cedeab5907b ]] {\r\n",
       "}\r\n",
       "\r\n",
       "rec usage \"A3\" as E8  <<(T,blue)action>> [[psysml:dc91d98e-27d3-4fe3-8c05-9cedeab5907b ]] {\r\n",
       "}\r\n",
       "\r\n",
       "}\r\n",
       "\r\n",
       "E3  - -> E5 [[psysml:f0c1a87b-40f9-41dd-914f-8704a756a2ee ]] : [x == 1]\r\n",
       "E3  - -> E6 [[psysml:534d6032-2416-43d2-b21b-3e106f4a7f5b ]] : [x > 1]\r\n",
       "E3  - -> E8 [[psysml:e6958018-0280-470d-866d-790aaedd3d9a ]] \r\n",
       "E3 - -> E4 [[psysml:b2a8f402-8a6f-47b5-a176-34e34a53fa41 ]] \r\n",
       "E4  - -> E5 [[psysml:d4e4cf4f-ca71-4ae2-aa8b-453c4e696e69 ]] : [true]\r\n",
       "E4  - -> E6 [[psysml:07d2ed15-614f-457b-995c-67ac116a921b ]] : [false]\r\n",
       "E5  - -> E6 [[psysml:b67ea915-0e8a-4542-80c4-8f1f8e1002d6 ]] : [x == 0]\r\n",
       "E8  - -> E3 [[psysml:7eebbea4-be3a-4ef1-ac68-fab402045136 ]] : [x > 0]\r\n",
       "@enduml\r\n",
       "\n",
       "PlantUML version 1.2020.13(Sat Jun 13 12:26:38 UTC 2020)\n",
       "(EPL source distribution)\n",
       "Java Runtime: OpenJDK Runtime Environment\n",
       "JVM: OpenJDK 64-Bit Server VM\n",
       "Default Encoding: UTF-8\n",
       "Language: en\n",
       "Country: null\n",
       "--></g></svg>"
      ]
     },
     "execution_count": 8,
     "metadata": {},
     "output_type": "execute_result"
    }
   ],
   "source": [
    "%viz --style=\"COMPTREE\" --view=\"MIXED\" \"DecisionTest\""
   ]
  },
  {
   "cell_type": "code",
   "execution_count": 9,
   "id": "f6bdadc3",
   "metadata": {
    "execution": {
     "iopub.execute_input": "2021-04-20T07:01:19.077631Z",
     "iopub.status.busy": "2021-04-20T07:01:19.077045Z",
     "iopub.status.idle": "2021-04-20T07:01:19.142277Z",
     "shell.execute_reply": "2021-04-20T07:01:19.138633Z"
    }
   },
   "outputs": [
    {
     "data": {
      "image/svg+xml": [
       "<?xml version=\"1.0\" encoding=\"UTF-8\" standalone=\"no\"?><svg xmlns=\"http://www.w3.org/2000/svg\" xmlns:xlink=\"http://www.w3.org/1999/xlink\" contentScriptType=\"application/ecmascript\" contentStyleType=\"text/css\" height=\"574px\" preserveAspectRatio=\"none\" style=\"width:333px;height:574px;\" version=\"1.1\" viewBox=\"0 0 333 574\" width=\"333px\" zoomAndPan=\"magnify\"><defs/><g><!--MD5=[fbc87193dbaf4d95561dea2c320d4a47]\n",
       "cluster E1--><a href=\"psysml:704d58b1-847a-4b5f-8ef4-b4da5c2432eb\" target=\"_top\" title=\"psysml:704d58b1-847a-4b5f-8ef4-b4da5c2432eb\" xlink:actuate=\"onRequest\" xlink:href=\"psysml:704d58b1-847a-4b5f-8ef4-b4da5c2432eb\" xlink:show=\"new\" xlink:title=\"psysml:704d58b1-847a-4b5f-8ef4-b4da5c2432eb\" xlink:type=\"simple\"><rect fill=\"#FFFFFF\" height=\"534.72\" id=\"E1\" style=\"stroke: #383838; stroke-width: 1.5;\" width=\"315\" x=\"7\" y=\"7\"/><rect fill=\"#F8F8F8\" height=\"37.9375\" style=\"stroke: #383838; stroke-width: 1.5;\" width=\"315\" x=\"7\" y=\"7\"/><text fill=\"#000000\" font-family=\"sans-serif\" font-size=\"12\" font-style=\"italic\" lengthAdjust=\"spacingAndGlyphs\" textLength=\"77\" x=\"126\" y=\"23.1387\">«action def»</text><text fill=\"#000000\" font-family=\"sans-serif\" font-size=\"12\" lengthAdjust=\"spacingAndGlyphs\" textLength=\"80\" x=\"124.5\" y=\"37.1074\">DecisionTest</text></a><text fill=\"#000000\" font-family=\"sans-serif\" font-size=\"14\" lengthAdjust=\"spacingAndGlyphs\" textLength=\"48\" x=\"140\" y=\"560.7151\">$result</text><rect fill=\"#383838\" height=\"12\" style=\"stroke: #F8F8F8; stroke-width: 1.5;\" width=\"12\" x=\"158\" y=\"535.72\"/><polygon fill=\"#F8F8F8\" points=\"141,28.5,153,40.5,141,52.5,129,40.5,141,28.5\" style=\"stroke: #383838; stroke-width: 1.5;\"/><polygon fill=\"#F8F8F8\" points=\"35,170.5,47,182.5,35,194.5,23,182.5,35,170.5\" style=\"stroke: #383838; stroke-width: 1.5;\"/><g id=\"E1.E5\"><a href=\"psysml:f4b16115-f2df-4145-8494-1e5aced0fe90\" target=\"_top\" title=\"psysml:f4b16115-f2df-4145-8494-1e5aced0fe90\" xlink:actuate=\"onRequest\" xlink:href=\"psysml:f4b16115-f2df-4145-8494-1e5aced0fe90\" xlink:show=\"new\" xlink:title=\"psysml:f4b16115-f2df-4145-8494-1e5aced0fe90\" xlink:type=\"simple\"><rect fill=\"#FFFFFF\" height=\"42.9375\" id=\"E5\" rx=\"10\" ry=\"10\" style=\"stroke: #383838; stroke-width: 1.5;\" width=\"60\" x=\"135\" y=\"281\"/><rect fill=\"#F8F8F8\" height=\"37.9375\" rx=\"10\" ry=\"10\" style=\"stroke: #F8F8F8; stroke-width: 1.5;\" width=\"60\" x=\"135\" y=\"281\"/><rect fill=\"#F8F8F8\" height=\"10\" style=\"stroke: #F8F8F8; stroke-width: 1.5;\" width=\"60\" x=\"135\" y=\"308.9375\"/><rect fill=\"none\" height=\"42.9375\" id=\"E5\" rx=\"10\" ry=\"10\" style=\"stroke: #383838; stroke-width: 1.5;\" width=\"60\" x=\"135\" y=\"281\"/><text fill=\"#000000\" font-family=\"sans-serif\" font-size=\"12\" font-style=\"italic\" lengthAdjust=\"spacingAndGlyphs\" textLength=\"53\" x=\"138.5\" y=\"297.1387\">«action»</text><text fill=\"#000000\" font-family=\"sans-serif\" font-size=\"12\" lengthAdjust=\"spacingAndGlyphs\" textLength=\"16\" x=\"157\" y=\"311.1074\">A1</text></a></g><g id=\"E1.E6\"><a href=\"psysml:ffb4dce0-5cb8-4add-9e67-ebd1f2f3deb3\" target=\"_top\" title=\"psysml:ffb4dce0-5cb8-4add-9e67-ebd1f2f3deb3\" xlink:actuate=\"onRequest\" xlink:href=\"psysml:ffb4dce0-5cb8-4add-9e67-ebd1f2f3deb3\" xlink:show=\"new\" xlink:title=\"psysml:ffb4dce0-5cb8-4add-9e67-ebd1f2f3deb3\" xlink:type=\"simple\"><rect fill=\"#FFFFFF\" height=\"42.9375\" id=\"E6\" rx=\"10\" ry=\"10\" style=\"stroke: #383838; stroke-width: 1.5;\" width=\"60\" x=\"135\" y=\"401\"/><rect fill=\"#F8F8F8\" height=\"37.9375\" rx=\"10\" ry=\"10\" style=\"stroke: #F8F8F8; stroke-width: 1.5;\" width=\"60\" x=\"135\" y=\"401\"/><rect fill=\"#F8F8F8\" height=\"10\" style=\"stroke: #F8F8F8; stroke-width: 1.5;\" width=\"60\" x=\"135\" y=\"428.9375\"/><rect fill=\"none\" height=\"42.9375\" id=\"E6\" rx=\"10\" ry=\"10\" style=\"stroke: #383838; stroke-width: 1.5;\" width=\"60\" x=\"135\" y=\"401\"/><text fill=\"#000000\" font-family=\"sans-serif\" font-size=\"12\" font-style=\"italic\" lengthAdjust=\"spacingAndGlyphs\" textLength=\"53\" x=\"138.5\" y=\"417.1387\">«action»</text><text fill=\"#000000\" font-family=\"sans-serif\" font-size=\"12\" lengthAdjust=\"spacingAndGlyphs\" textLength=\"16\" x=\"157\" y=\"431.1074\">A2</text></a></g><g id=\"E1.E7\"><a href=\"psysml:dc91d98e-27d3-4fe3-8c05-9cedeab5907b\" target=\"_top\" title=\"psysml:dc91d98e-27d3-4fe3-8c05-9cedeab5907b\" xlink:actuate=\"onRequest\" xlink:href=\"psysml:dc91d98e-27d3-4fe3-8c05-9cedeab5907b\" xlink:show=\"new\" xlink:title=\"psysml:dc91d98e-27d3-4fe3-8c05-9cedeab5907b\" xlink:type=\"simple\"><rect fill=\"#FFFFFF\" height=\"42.9375\" id=\"E7\" rx=\"10\" ry=\"10\" style=\"stroke: #383838; stroke-width: 1.5;\" width=\"60\" x=\"46\" y=\"88\"/><rect fill=\"#F8F8F8\" height=\"37.9375\" rx=\"10\" ry=\"10\" style=\"stroke: #F8F8F8; stroke-width: 1.5;\" width=\"60\" x=\"46\" y=\"88\"/><rect fill=\"#F8F8F8\" height=\"10\" style=\"stroke: #F8F8F8; stroke-width: 1.5;\" width=\"60\" x=\"46\" y=\"115.9375\"/><rect fill=\"none\" height=\"42.9375\" id=\"E7\" rx=\"10\" ry=\"10\" style=\"stroke: #383838; stroke-width: 1.5;\" width=\"60\" x=\"46\" y=\"88\"/><text fill=\"#000000\" font-family=\"sans-serif\" font-size=\"12\" font-style=\"italic\" lengthAdjust=\"spacingAndGlyphs\" textLength=\"53\" x=\"49.5\" y=\"104.1387\">«action»</text><text fill=\"#000000\" font-family=\"sans-serif\" font-size=\"12\" lengthAdjust=\"spacingAndGlyphs\" textLength=\"16\" x=\"68\" y=\"118.1074\">A3</text></a></g><g id=\"E1.E8\"><a href=\"psysml:dc91d98e-27d3-4fe3-8c05-9cedeab5907b\" target=\"_top\" title=\"psysml:dc91d98e-27d3-4fe3-8c05-9cedeab5907b\" xlink:actuate=\"onRequest\" xlink:href=\"psysml:dc91d98e-27d3-4fe3-8c05-9cedeab5907b\" xlink:show=\"new\" xlink:title=\"psysml:dc91d98e-27d3-4fe3-8c05-9cedeab5907b\" xlink:type=\"simple\"><rect fill=\"#FFFFFF\" height=\"42.9375\" id=\"E8\" rx=\"10\" ry=\"10\" style=\"stroke: #383838; stroke-width: 1.5;\" width=\"60\" x=\"246\" y=\"161\"/><rect fill=\"#F8F8F8\" height=\"37.9375\" rx=\"10\" ry=\"10\" style=\"stroke: #F8F8F8; stroke-width: 1.5;\" width=\"60\" x=\"246\" y=\"161\"/><rect fill=\"#F8F8F8\" height=\"10\" style=\"stroke: #F8F8F8; stroke-width: 1.5;\" width=\"60\" x=\"246\" y=\"188.9375\"/><rect fill=\"none\" height=\"42.9375\" id=\"E8\" rx=\"10\" ry=\"10\" style=\"stroke: #383838; stroke-width: 1.5;\" width=\"60\" x=\"246\" y=\"161\"/><text fill=\"#000000\" font-family=\"sans-serif\" font-size=\"12\" font-style=\"italic\" lengthAdjust=\"spacingAndGlyphs\" textLength=\"53\" x=\"249.5\" y=\"177.1387\">«action»</text><text fill=\"#000000\" font-family=\"sans-serif\" font-size=\"12\" lengthAdjust=\"spacingAndGlyphs\" textLength=\"16\" x=\"268\" y=\"191.1074\">A3</text></a></g><!--MD5=[0188b64bb0ae78505a997a81836e11e9]\n",
       "link E3 to E5--><a href=\"psysml:f0c1a87b-40f9-41dd-914f-8704a756a2ee\" target=\"_top\" title=\"psysml:f0c1a87b-40f9-41dd-914f-8704a756a2ee\" xlink:actuate=\"onRequest\" xlink:href=\"psysml:f0c1a87b-40f9-41dd-914f-8704a756a2ee\" xlink:show=\"new\" xlink:title=\"psysml:f0c1a87b-40f9-41dd-914f-8704a756a2ee\" xlink:type=\"simple\"><path d=\"M141.2,52.41 C141.87,88.85 144,204 144,204 C144,204 153.2,246.72 159.42,275.6 \" fill=\"none\" id=\"E3-&gt;E5\" style=\"stroke: #383838; stroke-width: 1.0;\"/><polygon fill=\"#383838\" points=\"160.55,280.82,162.5831,271.1833,159.5063,275.9302,154.7594,272.8533,160.55,280.82\" style=\"stroke: #383838; stroke-width: 1.0;\"/><text fill=\"#000000\" font-family=\"sans-serif\" font-size=\"13\" lengthAdjust=\"spacingAndGlyphs\" textLength=\"55\" x=\"145\" y=\"187.0669\">[x == 1]</text></a><!--MD5=[ec9844e0c75763426927cad3229d1081]\n",
       "link E3 to E6--><a href=\"psysml:534d6032-2416-43d2-b21b-3e106f4a7f5b\" target=\"_top\" title=\"psysml:534d6032-2416-43d2-b21b-3e106f4a7f5b\" xlink:actuate=\"onRequest\" xlink:href=\"psysml:534d6032-2416-43d2-b21b-3e106f4a7f5b\" xlink:show=\"new\" xlink:title=\"psysml:534d6032-2416-43d2-b21b-3e106f4a7f5b\" xlink:type=\"simple\"><path d=\"M145,48.98 C159.01,75.14 205,161 205,161 C205,161 226,354 226,354 C226,354 226,371 226,371 C226,371 209.6,384.58 193.8,397.65 \" fill=\"none\" id=\"E3-&gt;E6\" style=\"stroke: #383838; stroke-width: 1.0;\"/><polygon fill=\"#383838\" points=\"189.81,400.96,199.2964,398.3128,193.6651,397.776,194.202,392.1446,189.81,400.96\" style=\"stroke: #383838; stroke-width: 1.0;\"/><text fill=\"#000000\" font-family=\"sans-serif\" font-size=\"13\" lengthAdjust=\"spacingAndGlyphs\" textLength=\"44\" x=\"215\" y=\"247.0669\">[x &gt; 1]</text></a><!--MD5=[ca5a752d6098d8a44b3f88316e7452d1]\n",
       "link E3 to E8--><a href=\"psysml:e6958018-0280-470d-866d-790aaedd3d9a\" target=\"_top\" title=\"psysml:e6958018-0280-470d-866d-790aaedd3d9a\" xlink:actuate=\"onRequest\" xlink:href=\"psysml:e6958018-0280-470d-866d-790aaedd3d9a\" xlink:show=\"new\" xlink:title=\"psysml:e6958018-0280-470d-866d-790aaedd3d9a\" xlink:type=\"simple\"><path d=\"M147.57,46.13 C164.26,57.89 207,88 207,88 C207,88 217,131 217,131 C217,131 232.87,144.58 248.14,157.65 \" fill=\"none\" id=\"E3-&gt;E8\" style=\"stroke: #383838; stroke-width: 1.0;\"/><polygon fill=\"#383838\" points=\"252,160.96,247.7506,152.0751,248.1967,157.7143,242.5574,158.1604,252,160.96\" style=\"stroke: #383838; stroke-width: 1.0;\"/></a><!--MD5=[95fa686b5a16158bcdbcaeead89f639b]\n",
       "link E8 to E3--><a href=\"psysml:7eebbea4-be3a-4ef1-ac68-fab402045136\" target=\"_top\" title=\"psysml:7eebbea4-be3a-4ef1-ac68-fab402045136\" xlink:actuate=\"onRequest\" xlink:href=\"psysml:7eebbea4-be3a-4ef1-ac68-fab402045136\" xlink:show=\"new\" xlink:title=\"psysml:7eebbea4-be3a-4ef1-ac68-fab402045136\" xlink:type=\"simple\"><path d=\"M262.24,160.75 C243.97,133.2 214,88 214,88 C214,88 172.35,61.47 151.97,48.49 \" fill=\"none\" id=\"E8-&gt;E3\" style=\"stroke: #383838; stroke-width: 1.0;\"/><polygon fill=\"#383838\" points=\"147.74,45.79,153.1801,54.0001,151.9565,48.4772,157.4795,47.2536,147.74,45.79\" style=\"stroke: #383838; stroke-width: 1.0;\"/><text fill=\"#000000\" font-family=\"sans-serif\" font-size=\"13\" lengthAdjust=\"spacingAndGlyphs\" textLength=\"44\" x=\"242\" y=\"114.0669\">[x &gt; 0]</text></a><!--MD5=[af87c684e3b0d8be13c1a698a818ef1e]\n",
       "link E3 to E4--><a href=\"psysml:b2a8f402-8a6f-47b5-a176-34e34a53fa41\" target=\"_top\" title=\"psysml:b2a8f402-8a6f-47b5-a176-34e34a53fa41\" xlink:actuate=\"onRequest\" xlink:href=\"psysml:b2a8f402-8a6f-47b5-a176-34e34a53fa41\" xlink:show=\"new\" xlink:title=\"psysml:b2a8f402-8a6f-47b5-a176-34e34a53fa41\" xlink:type=\"simple\"><path d=\"M133.23,45.15 C109.89,56.11 42,88 42,88 C42,88 38.16,139.24 36.17,165.86 \" fill=\"none\" id=\"E3-&gt;E4\" style=\"stroke: #383838; stroke-width: 1.0;\"/><polygon fill=\"#383838\" points=\"35.78,171.14,40.4376,162.462,36.1515,166.1538,32.4597,161.8677,35.78,171.14\" style=\"stroke: #383838; stroke-width: 1.0;\"/></a><!--MD5=[1b7591eae5389033d8d09a9d6721a717]\n",
       "link E4 to E5--><a href=\"psysml:d4e4cf4f-ca71-4ae2-aa8b-453c4e696e69\" target=\"_top\" title=\"psysml:d4e4cf4f-ca71-4ae2-aa8b-453c4e696e69\" xlink:actuate=\"onRequest\" xlink:href=\"psysml:d4e4cf4f-ca71-4ae2-aa8b-453c4e696e69\" xlink:show=\"new\" xlink:title=\"psysml:d4e4cf4f-ca71-4ae2-aa8b-453c4e696e69\" xlink:type=\"simple\"><path d=\"M39.7,189.97 C51.96,206.87 84,251 84,251 C84,251 108.44,266.24 130.47,279.97 \" fill=\"none\" id=\"E4-&gt;E5\" style=\"stroke: #383838; stroke-width: 1.0;\"/><polygon fill=\"#383838\" points=\"134.84,282.7,129.3157,274.5464,130.596,280.0564,125.0859,281.3368,134.84,282.7\" style=\"stroke: #383838; stroke-width: 1.0;\"/><text fill=\"#000000\" font-family=\"sans-serif\" font-size=\"13\" lengthAdjust=\"spacingAndGlyphs\" textLength=\"36\" x=\"85\" y=\"247.0669\">[true]</text></a><!--MD5=[79568f1e445c3877b6a54524624ccc7d]\n",
       "link E4 to E6--><a href=\"psysml:07d2ed15-614f-457b-995c-67ac116a921b\" target=\"_top\" title=\"psysml:07d2ed15-614f-457b-995c-67ac116a921b\" xlink:actuate=\"onRequest\" xlink:href=\"psysml:07d2ed15-614f-457b-995c-67ac116a921b\" xlink:show=\"new\" xlink:title=\"psysml:07d2ed15-614f-457b-995c-67ac116a921b\" xlink:type=\"simple\"><path d=\"M37.56,192.29 C46.54,223.05 76,324 76,324 C76,324 116.3,368.15 142.66,397.03 \" fill=\"none\" id=\"E4-&gt;E6\" style=\"stroke: #383838; stroke-width: 1.0;\"/><polygon fill=\"#383838\" points=\"146.13,400.82,143.0249,391.4734,142.7624,397.1242,137.1116,396.8616,146.13,400.82\" style=\"stroke: #383838; stroke-width: 1.0;\"/><text fill=\"#000000\" font-family=\"sans-serif\" font-size=\"13\" lengthAdjust=\"spacingAndGlyphs\" textLength=\"40\" x=\"77\" y=\"307.0669\">[false]</text></a><!--MD5=[9120cf2e5df3bff93db8f754bbbc09b4]\n",
       "link E5 to E6--><a href=\"psysml:b67ea915-0e8a-4542-80c4-8f1f8e1002d6\" target=\"_top\" title=\"psysml:b67ea915-0e8a-4542-80c4-8f1f8e1002d6\" xlink:actuate=\"onRequest\" xlink:href=\"psysml:b67ea915-0e8a-4542-80c4-8f1f8e1002d6\" xlink:show=\"new\" xlink:title=\"psysml:b67ea915-0e8a-4542-80c4-8f1f8e1002d6\" xlink:type=\"simple\"><path d=\"M165,324.05 C165,343.9 165,374.02 165,395.52 \" fill=\"none\" id=\"E5-&gt;E6\" style=\"stroke: #383838; stroke-width: 1.0;\"/><polygon fill=\"#383838\" points=\"165,400.79,169,391.79,165,395.79,161,391.79,165,400.79\" style=\"stroke: #383838; stroke-width: 1.0;\"/><text fill=\"#000000\" font-family=\"sans-serif\" font-size=\"13\" lengthAdjust=\"spacingAndGlyphs\" textLength=\"55\" x=\"166\" y=\"367.0669\">[x == 0]</text></a><!--MD5=[c4c5b609cd5996c10f4ae1e0a1a46d90]\n",
       "@startuml\r\n",
       "skinparam linetype polyline\r\n",
       "skinparam monochrome true\r\n",
       "skinparam classbackgroundcolor white\r\n",
       "skinparam shadowing false\r\n",
       "skinparam wrapWidth 300\r\n",
       "hide circle\r\n",
       "\r\n",
       "rec def \"DecisionTest\" as E1  <<(T,blue)action def>> [[psysml:704d58b1-847a-4b5f-8ef4-b4da5c2432eb ]] {\r\n",
       "portout \"$result\" as E2  [[psysml:d3db88a9-d6e2-4728-bacb-cdc83b04fb60 ]] \r\n",
       "choice \"test x\" as E3  [[psysml:07816a00-a6c6-49d5-84be-841a1e7e2f6a ]] \r\n",
       "choice \"noname\" as E4  [[psysml:26311404-6ce6-4dcd-89ed-d43ec51ac22a ]] \r\n",
       "rec usage \"A1\" as E5  <<(T,blue)action>> [[psysml:f4b16115-f2df-4145-8494-1e5aced0fe90 ]] {\r\n",
       "}\r\n",
       "\r\n",
       "rec usage \"A2\" as E6  <<(T,blue)action>> [[psysml:ffb4dce0-5cb8-4add-9e67-ebd1f2f3deb3 ]] {\r\n",
       "}\r\n",
       "\r\n",
       "rec usage \"A3\" as E7  <<(T,blue)action>> [[psysml:dc91d98e-27d3-4fe3-8c05-9cedeab5907b ]] {\r\n",
       "}\r\n",
       "\r\n",
       "rec usage \"A3\" as E8  <<(T,blue)action>> [[psysml:dc91d98e-27d3-4fe3-8c05-9cedeab5907b ]] {\r\n",
       "}\r\n",
       "\r\n",
       "}\r\n",
       "\r\n",
       "E3  - -> E5 [[psysml:f0c1a87b-40f9-41dd-914f-8704a756a2ee ]] : [x == 1]\r\n",
       "E3  - -> E6 [[psysml:534d6032-2416-43d2-b21b-3e106f4a7f5b ]] : [x > 1]\r\n",
       "E3  - -> E8 [[psysml:e6958018-0280-470d-866d-790aaedd3d9a ]] \r\n",
       "E3 - -> E4 [[psysml:b2a8f402-8a6f-47b5-a176-34e34a53fa41 ]] \r\n",
       "E4  - -> E5 [[psysml:d4e4cf4f-ca71-4ae2-aa8b-453c4e696e69 ]] : [true]\r\n",
       "E4  - -> E6 [[psysml:07d2ed15-614f-457b-995c-67ac116a921b ]] : [false]\r\n",
       "E5  - -> E6 [[psysml:b67ea915-0e8a-4542-80c4-8f1f8e1002d6 ]] : [x == 0]\r\n",
       "E8  - -> E3 [[psysml:7eebbea4-be3a-4ef1-ac68-fab402045136 ]] : [x > 0]\r\n",
       "@enduml\r\n",
       "\n",
       "PlantUML version 1.2020.13(Sat Jun 13 12:26:38 UTC 2020)\n",
       "(EPL source distribution)\n",
       "Java Runtime: OpenJDK Runtime Environment\n",
       "JVM: OpenJDK 64-Bit Server VM\n",
       "Default Encoding: UTF-8\n",
       "Language: en\n",
       "Country: null\n",
       "--></g></svg>"
      ]
     },
     "execution_count": 9,
     "metadata": {},
     "output_type": "execute_result"
    }
   ],
   "source": [
    "%viz --style=\"POLYLINE\" --view=\"Default\" \"DecisionTest\""
   ]
  },
  {
   "cell_type": "code",
   "execution_count": 10,
   "id": "b77e7e4d",
   "metadata": {
    "execution": {
     "iopub.execute_input": "2021-04-20T07:01:19.195325Z",
     "iopub.status.busy": "2021-04-20T07:01:19.194137Z",
     "iopub.status.idle": "2021-04-20T07:01:19.328013Z",
     "shell.execute_reply": "2021-04-20T07:01:19.325654Z"
    }
   },
   "outputs": [
    {
     "data": {
      "image/svg+xml": [
       "<?xml version=\"1.0\" encoding=\"UTF-8\" standalone=\"no\"?><svg xmlns=\"http://www.w3.org/2000/svg\" xmlns:xlink=\"http://www.w3.org/1999/xlink\" contentScriptType=\"application/ecmascript\" contentStyleType=\"text/css\" height=\"207px\" preserveAspectRatio=\"none\" style=\"width:109px;height:207px;\" version=\"1.1\" viewBox=\"0 0 109 207\" width=\"109px\" zoomAndPan=\"magnify\"><defs/><g><!--MD5=[43c9051892ef23e1a46a86907403d788]\n",
       "class E1--><a href=\"psysml:704d58b1-847a-4b5f-8ef4-b4da5c2432eb\" target=\"_top\" title=\"psysml:704d58b1-847a-4b5f-8ef4-b4da5c2432eb\" xlink:actuate=\"onRequest\" xlink:href=\"psysml:704d58b1-847a-4b5f-8ef4-b4da5c2432eb\" xlink:show=\"new\" xlink:title=\"psysml:704d58b1-847a-4b5f-8ef4-b4da5c2432eb\" xlink:type=\"simple\"><rect fill=\"#FFFFFF\" height=\"189.9844\" id=\"E1\" style=\"stroke: #383838; stroke-width: 1.5;\" width=\"91\" x=\"7\" y=\"7\"/><text fill=\"#000000\" font-family=\"sans-serif\" font-size=\"12\" font-style=\"italic\" lengthAdjust=\"spacingAndGlyphs\" textLength=\"77\" x=\"14\" y=\"23.1387\">«action def»</text><text fill=\"#000000\" font-family=\"sans-serif\" font-size=\"12\" lengthAdjust=\"spacingAndGlyphs\" textLength=\"80\" x=\"12.5\" y=\"37.1074\">DecisionTest</text><line style=\"stroke: #383838; stroke-width: 1.5;\" x1=\"8\" x2=\"97\" y1=\"44.9375\" y2=\"44.9375\"/><text fill=\"#000000\" font-family=\"sans-serif\" font-size=\"11\" lengthAdjust=\"spacingAndGlyphs\" textLength=\"26\" x=\"13\" y=\"75.9526\">x=1;</text><line style=\"stroke: #383838; stroke-width: 1.0;\" x1=\"8\" x2=\"25\" y1=\"59.3398\" y2=\"59.3398\"/><text fill=\"#000000\" font-family=\"sans-serif\" font-size=\"11\" lengthAdjust=\"spacingAndGlyphs\" textLength=\"55\" x=\"25\" y=\"62.6479\">attributes</text><line style=\"stroke: #383838; stroke-width: 1.0;\" x1=\"80\" x2=\"97\" y1=\"59.3398\" y2=\"59.3398\"/><text fill=\"#000000\" font-family=\"sans-serif\" font-size=\"11\" lengthAdjust=\"spacingAndGlyphs\" textLength=\"14\" x=\"13\" y=\"105.562\">A1</text><text fill=\"#000000\" font-family=\"sans-serif\" font-size=\"11\" lengthAdjust=\"spacingAndGlyphs\" textLength=\"14\" x=\"13\" y=\"118.3667\">A2</text><text fill=\"#000000\" font-family=\"sans-serif\" font-size=\"11\" lengthAdjust=\"spacingAndGlyphs\" textLength=\"14\" x=\"13\" y=\"131.1714\">A3</text><line style=\"stroke: #383838; stroke-width: 1.0;\" x1=\"8\" x2=\"32\" y1=\"88.9492\" y2=\"88.9492\"/><text fill=\"#000000\" font-family=\"sans-serif\" font-size=\"11\" lengthAdjust=\"spacingAndGlyphs\" textLength=\"41\" x=\"32\" y=\"92.2573\">actions</text><line style=\"stroke: #383838; stroke-width: 1.0;\" x1=\"73\" x2=\"97\" y1=\"88.9492\" y2=\"88.9492\"/><text fill=\"#000000\" font-family=\"sans-serif\" font-size=\"11\" lengthAdjust=\"spacingAndGlyphs\" textLength=\"32\" x=\"13\" y=\"160.7808\">test x</text><line style=\"stroke: #383838; stroke-width: 1.0;\" x1=\"8\" x2=\"11\" y1=\"144.168\" y2=\"144.168\"/><text fill=\"#000000\" font-family=\"sans-serif\" font-size=\"11\" lengthAdjust=\"spacingAndGlyphs\" textLength=\"83\" x=\"11\" y=\"147.4761\">decisionNodes</text><line style=\"stroke: #383838; stroke-width: 1.0;\" x1=\"94\" x2=\"97\" y1=\"144.168\" y2=\"144.168\"/><text fill=\"#000000\" font-family=\"sans-serif\" font-size=\"11\" lengthAdjust=\"spacingAndGlyphs\" textLength=\"8\" x=\"13\" y=\"190.3901\">S</text><line style=\"stroke: #383838; stroke-width: 1.0;\" x1=\"8\" x2=\"22\" y1=\"173.7773\" y2=\"173.7773\"/><text fill=\"#000000\" font-family=\"sans-serif\" font-size=\"11\" lengthAdjust=\"spacingAndGlyphs\" textLength=\"61\" x=\"22\" y=\"177.0854\">transitions</text><line style=\"stroke: #383838; stroke-width: 1.0;\" x1=\"83\" x2=\"97\" y1=\"173.7773\" y2=\"173.7773\"/></a><!--MD5=[f4621c3643c6d54ed376174d57b057eb]\n",
       "@startuml\r\n",
       "skinparam linetype polyline\r\n",
       "skinparam monochrome true\r\n",
       "skinparam classbackgroundcolor white\r\n",
       "skinparam shadowing false\r\n",
       "skinparam wrapWidth 300\r\n",
       "hide circle\r\n",
       "\r\n",
       "comp def \"DecisionTest\" as E1  <<(T,blue)action def>> [[psysml:704d58b1-847a-4b5f-8ef4-b4da5c2432eb ]] {\r\n",
       "- - attributes - -\r\n",
       "x=1; \r\n",
       "- - actions - -\r\n",
       "A1\r\n",
       "A2\r\n",
       "A3\r\n",
       "- - decisionNodes - -\r\n",
       "test x\r\n",
       "- - transitions - -\r\n",
       "S\r\n",
       "}\r\n",
       "@enduml\r\n",
       "\n",
       "PlantUML version 1.2020.13(Sat Jun 13 12:26:38 UTC 2020)\n",
       "(EPL source distribution)\n",
       "Java Runtime: OpenJDK Runtime Environment\n",
       "JVM: OpenJDK 64-Bit Server VM\n",
       "Default Encoding: UTF-8\n",
       "Language: en\n",
       "Country: null\n",
       "--></g></svg>"
      ]
     },
     "execution_count": 10,
     "metadata": {},
     "output_type": "execute_result"
    }
   ],
   "source": [
    "%viz --style=\"POLYLINE\" --view=\"Tree\" \"DecisionTest\""
   ]
  },
  {
   "cell_type": "code",
   "execution_count": 11,
   "id": "b21489a2",
   "metadata": {
    "execution": {
     "iopub.execute_input": "2021-04-20T07:01:19.381317Z",
     "iopub.status.busy": "2021-04-20T07:01:19.379360Z",
     "iopub.status.idle": "2021-04-20T07:01:19.399064Z",
     "shell.execute_reply": "2021-04-20T07:01:19.397278Z"
    }
   },
   "outputs": [
    {
     "data": {
      "image/svg+xml": [
       "<?xml version=\"1.0\" encoding=\"UTF-8\" standalone=\"no\"?><svg xmlns=\"http://www.w3.org/2000/svg\" xmlns:xlink=\"http://www.w3.org/1999/xlink\" contentScriptType=\"application/ecmascript\" contentStyleType=\"text/css\" height=\"12px\" preserveAspectRatio=\"none\" style=\"width:12px;height:12px;\" version=\"1.1\" viewBox=\"0 0 12 12\" width=\"12px\" zoomAndPan=\"magnify\"><defs/><g><!--MD5=[896ac0e7a515d8dd7765a661cb4ee08b]\n",
       "@startuml\r\n",
       "skinparam linetype polyline\r\n",
       "skinparam monochrome true\r\n",
       "skinparam classbackgroundcolor white\r\n",
       "skinparam shadowing false\r\n",
       "skinparam wrapWidth 300\r\n",
       "hide circle\r\n",
       "\r\n",
       "@enduml\r\n",
       "\n",
       "PlantUML version 1.2020.13(Sat Jun 13 12:26:38 UTC 2020)\n",
       "(EPL source distribution)\n",
       "Java Runtime: OpenJDK Runtime Environment\n",
       "JVM: OpenJDK 64-Bit Server VM\n",
       "Default Encoding: UTF-8\n",
       "Language: en\n",
       "Country: null\n",
       "--></g></svg>"
      ]
     },
     "execution_count": 11,
     "metadata": {},
     "output_type": "execute_result"
    }
   ],
   "source": [
    "%viz --style=\"POLYLINE\" --view=\"State\" \"DecisionTest\""
   ]
  },
  {
   "cell_type": "code",
   "execution_count": 12,
   "id": "e06b97b6",
   "metadata": {
    "execution": {
     "iopub.execute_input": "2021-04-20T07:01:19.479183Z",
     "iopub.status.busy": "2021-04-20T07:01:19.474363Z",
     "iopub.status.idle": "2021-04-20T07:01:19.603984Z",
     "shell.execute_reply": "2021-04-20T07:01:19.601091Z"
    }
   },
   "outputs": [
    {
     "data": {
      "image/svg+xml": [
       "<?xml version=\"1.0\" encoding=\"UTF-8\" standalone=\"no\"?><svg xmlns=\"http://www.w3.org/2000/svg\" xmlns:xlink=\"http://www.w3.org/1999/xlink\" contentScriptType=\"application/ecmascript\" contentStyleType=\"text/css\" height=\"384px\" preserveAspectRatio=\"none\" style=\"width:333px;height:384px;\" version=\"1.1\" viewBox=\"0 0 333 384\" width=\"333px\" zoomAndPan=\"magnify\"><defs/><g><!--MD5=[fbc87193dbaf4d95561dea2c320d4a47]\n",
       "cluster E1--><a href=\"psysml:704d58b1-847a-4b5f-8ef4-b4da5c2432eb\" target=\"_top\" title=\"psysml:704d58b1-847a-4b5f-8ef4-b4da5c2432eb\" xlink:actuate=\"onRequest\" xlink:href=\"psysml:704d58b1-847a-4b5f-8ef4-b4da5c2432eb\" xlink:show=\"new\" xlink:title=\"psysml:704d58b1-847a-4b5f-8ef4-b4da5c2432eb\" xlink:type=\"simple\"><rect fill=\"#FFFFFF\" height=\"344.72\" id=\"E1\" style=\"stroke: #383838; stroke-width: 1.5;\" width=\"315\" x=\"7\" y=\"7\"/><rect fill=\"#F8F8F8\" height=\"37.9375\" style=\"stroke: #383838; stroke-width: 1.5;\" width=\"315\" x=\"7\" y=\"7\"/><text fill=\"#000000\" font-family=\"sans-serif\" font-size=\"12\" font-style=\"italic\" lengthAdjust=\"spacingAndGlyphs\" textLength=\"77\" x=\"126\" y=\"23.1387\">«action def»</text><text fill=\"#000000\" font-family=\"sans-serif\" font-size=\"12\" lengthAdjust=\"spacingAndGlyphs\" textLength=\"80\" x=\"124.5\" y=\"37.1074\">DecisionTest</text></a><text fill=\"#000000\" font-family=\"sans-serif\" font-size=\"14\" lengthAdjust=\"spacingAndGlyphs\" textLength=\"48\" x=\"140\" y=\"370.7151\">$result</text><rect fill=\"#383838\" height=\"12\" style=\"stroke: #F8F8F8; stroke-width: 1.5;\" width=\"12\" x=\"158\" y=\"345.72\"/><polygon fill=\"#F8F8F8\" points=\"141,28.5,153,40.5,141,52.5,129,40.5,141,28.5\" style=\"stroke: #383838; stroke-width: 1.5;\"/><polygon fill=\"#F8F8F8\" points=\"35,126.5,47,138.5,35,150.5,23,138.5,35,126.5\" style=\"stroke: #383838; stroke-width: 1.5;\"/><g id=\"E1.E5\"><a href=\"psysml:f4b16115-f2df-4145-8494-1e5aced0fe90\" target=\"_top\" title=\"psysml:f4b16115-f2df-4145-8494-1e5aced0fe90\" xlink:actuate=\"onRequest\" xlink:href=\"psysml:f4b16115-f2df-4145-8494-1e5aced0fe90\" xlink:show=\"new\" xlink:title=\"psysml:f4b16115-f2df-4145-8494-1e5aced0fe90\" xlink:type=\"simple\"><rect fill=\"#FFFFFF\" height=\"42.9375\" id=\"E5\" rx=\"10\" ry=\"10\" style=\"stroke: #383838; stroke-width: 1.5;\" width=\"60\" x=\"135\" y=\"193\"/><rect fill=\"#F8F8F8\" height=\"37.9375\" rx=\"10\" ry=\"10\" style=\"stroke: #F8F8F8; stroke-width: 1.5;\" width=\"60\" x=\"135\" y=\"193\"/><rect fill=\"#F8F8F8\" height=\"10\" style=\"stroke: #F8F8F8; stroke-width: 1.5;\" width=\"60\" x=\"135\" y=\"220.9375\"/><rect fill=\"none\" height=\"42.9375\" id=\"E5\" rx=\"10\" ry=\"10\" style=\"stroke: #383838; stroke-width: 1.5;\" width=\"60\" x=\"135\" y=\"193\"/><text fill=\"#000000\" font-family=\"sans-serif\" font-size=\"12\" font-style=\"italic\" lengthAdjust=\"spacingAndGlyphs\" textLength=\"53\" x=\"138.5\" y=\"209.1387\">«action»</text><text fill=\"#000000\" font-family=\"sans-serif\" font-size=\"12\" lengthAdjust=\"spacingAndGlyphs\" textLength=\"16\" x=\"157\" y=\"223.1074\">A1</text></a></g><g id=\"E1.E6\"><a href=\"psysml:ffb4dce0-5cb8-4add-9e67-ebd1f2f3deb3\" target=\"_top\" title=\"psysml:ffb4dce0-5cb8-4add-9e67-ebd1f2f3deb3\" xlink:actuate=\"onRequest\" xlink:href=\"psysml:ffb4dce0-5cb8-4add-9e67-ebd1f2f3deb3\" xlink:show=\"new\" xlink:title=\"psysml:ffb4dce0-5cb8-4add-9e67-ebd1f2f3deb3\" xlink:type=\"simple\"><rect fill=\"#FFFFFF\" height=\"42.9375\" id=\"E6\" rx=\"10\" ry=\"10\" style=\"stroke: #383838; stroke-width: 1.5;\" width=\"60\" x=\"135\" y=\"269\"/><rect fill=\"#F8F8F8\" height=\"37.9375\" rx=\"10\" ry=\"10\" style=\"stroke: #F8F8F8; stroke-width: 1.5;\" width=\"60\" x=\"135\" y=\"269\"/><rect fill=\"#F8F8F8\" height=\"10\" style=\"stroke: #F8F8F8; stroke-width: 1.5;\" width=\"60\" x=\"135\" y=\"296.9375\"/><rect fill=\"none\" height=\"42.9375\" id=\"E6\" rx=\"10\" ry=\"10\" style=\"stroke: #383838; stroke-width: 1.5;\" width=\"60\" x=\"135\" y=\"269\"/><text fill=\"#000000\" font-family=\"sans-serif\" font-size=\"12\" font-style=\"italic\" lengthAdjust=\"spacingAndGlyphs\" textLength=\"53\" x=\"138.5\" y=\"285.1387\">«action»</text><text fill=\"#000000\" font-family=\"sans-serif\" font-size=\"12\" lengthAdjust=\"spacingAndGlyphs\" textLength=\"16\" x=\"157\" y=\"299.1074\">A2</text></a></g><g id=\"E1.E7\"><a href=\"psysml:dc91d98e-27d3-4fe3-8c05-9cedeab5907b\" target=\"_top\" title=\"psysml:dc91d98e-27d3-4fe3-8c05-9cedeab5907b\" xlink:actuate=\"onRequest\" xlink:href=\"psysml:dc91d98e-27d3-4fe3-8c05-9cedeab5907b\" xlink:show=\"new\" xlink:title=\"psysml:dc91d98e-27d3-4fe3-8c05-9cedeab5907b\" xlink:type=\"simple\"><rect fill=\"#FFFFFF\" height=\"42.9375\" id=\"E7\" rx=\"10\" ry=\"10\" style=\"stroke: #383838; stroke-width: 1.5;\" width=\"60\" x=\"46\" y=\"66\"/><rect fill=\"#F8F8F8\" height=\"37.9375\" rx=\"10\" ry=\"10\" style=\"stroke: #F8F8F8; stroke-width: 1.5;\" width=\"60\" x=\"46\" y=\"66\"/><rect fill=\"#F8F8F8\" height=\"10\" style=\"stroke: #F8F8F8; stroke-width: 1.5;\" width=\"60\" x=\"46\" y=\"93.9375\"/><rect fill=\"none\" height=\"42.9375\" id=\"E7\" rx=\"10\" ry=\"10\" style=\"stroke: #383838; stroke-width: 1.5;\" width=\"60\" x=\"46\" y=\"66\"/><text fill=\"#000000\" font-family=\"sans-serif\" font-size=\"12\" font-style=\"italic\" lengthAdjust=\"spacingAndGlyphs\" textLength=\"53\" x=\"49.5\" y=\"82.1387\">«action»</text><text fill=\"#000000\" font-family=\"sans-serif\" font-size=\"12\" lengthAdjust=\"spacingAndGlyphs\" textLength=\"16\" x=\"68\" y=\"96.1074\">A3</text></a></g><g id=\"E1.E8\"><a href=\"psysml:dc91d98e-27d3-4fe3-8c05-9cedeab5907b\" target=\"_top\" title=\"psysml:dc91d98e-27d3-4fe3-8c05-9cedeab5907b\" xlink:actuate=\"onRequest\" xlink:href=\"psysml:dc91d98e-27d3-4fe3-8c05-9cedeab5907b\" xlink:show=\"new\" xlink:title=\"psysml:dc91d98e-27d3-4fe3-8c05-9cedeab5907b\" xlink:type=\"simple\"><rect fill=\"#FFFFFF\" height=\"42.9375\" id=\"E8\" rx=\"10\" ry=\"10\" style=\"stroke: #383838; stroke-width: 1.5;\" width=\"60\" x=\"246\" y=\"117\"/><rect fill=\"#F8F8F8\" height=\"37.9375\" rx=\"10\" ry=\"10\" style=\"stroke: #F8F8F8; stroke-width: 1.5;\" width=\"60\" x=\"246\" y=\"117\"/><rect fill=\"#F8F8F8\" height=\"10\" style=\"stroke: #F8F8F8; stroke-width: 1.5;\" width=\"60\" x=\"246\" y=\"144.9375\"/><rect fill=\"none\" height=\"42.9375\" id=\"E8\" rx=\"10\" ry=\"10\" style=\"stroke: #383838; stroke-width: 1.5;\" width=\"60\" x=\"246\" y=\"117\"/><text fill=\"#000000\" font-family=\"sans-serif\" font-size=\"12\" font-style=\"italic\" lengthAdjust=\"spacingAndGlyphs\" textLength=\"53\" x=\"249.5\" y=\"133.1387\">«action»</text><text fill=\"#000000\" font-family=\"sans-serif\" font-size=\"12\" lengthAdjust=\"spacingAndGlyphs\" textLength=\"16\" x=\"268\" y=\"147.1074\">A3</text></a></g><!--MD5=[0188b64bb0ae78505a997a81836e11e9]\n",
       "link E3 to E5--><a href=\"psysml:f0c1a87b-40f9-41dd-914f-8704a756a2ee\" target=\"_top\" title=\"psysml:f0c1a87b-40f9-41dd-914f-8704a756a2ee\" xlink:actuate=\"onRequest\" xlink:href=\"psysml:f0c1a87b-40f9-41dd-914f-8704a756a2ee\" xlink:show=\"new\" xlink:title=\"psysml:f0c1a87b-40f9-41dd-914f-8704a756a2ee\" xlink:type=\"simple\"><path d=\"M141.28,52.44 C142.02,81.77 144,160 144,160 C144,160 149.67,174.43 155.11,188.31 \" fill=\"none\" id=\"E3-&gt;E5\" style=\"stroke: #383838; stroke-width: 1.0;\"/><polygon fill=\"#383838\" points=\"156.94,192.97,157.374,183.1307,155.1126,188.3159,149.9274,186.0545,156.94,192.97\" style=\"stroke: #383838; stroke-width: 1.0;\"/><text fill=\"#000000\" font-family=\"sans-serif\" font-size=\"13\" lengthAdjust=\"spacingAndGlyphs\" textLength=\"55\" x=\"145\" y=\"143.0669\">[x == 1]</text></a><!--MD5=[ec9844e0c75763426927cad3229d1081]\n",
       "link E3 to E6--><a href=\"psysml:534d6032-2416-43d2-b21b-3e106f4a7f5b\" target=\"_top\" title=\"psysml:534d6032-2416-43d2-b21b-3e106f4a7f5b\" xlink:actuate=\"onRequest\" xlink:href=\"psysml:534d6032-2416-43d2-b21b-3e106f4a7f5b\" xlink:show=\"new\" xlink:title=\"psysml:534d6032-2416-43d2-b21b-3e106f4a7f5b\" xlink:type=\"simple\"><path d=\"M146.24,47.68 C161.52,65.71 205,117 205,117 C205,117 226,244 226,244 C226,244 226,261 226,261 C226,261 213.5,266.84 199.81,273.24 \" fill=\"none\" id=\"E3-&gt;E6\" style=\"stroke: #383838; stroke-width: 1.0;\"/><polygon fill=\"#383838\" points=\"195.14,275.42,204.9874,275.2489,199.6731,273.3103,201.6118,267.996,195.14,275.42\" style=\"stroke: #383838; stroke-width: 1.0;\"/><text fill=\"#000000\" font-family=\"sans-serif\" font-size=\"13\" lengthAdjust=\"spacingAndGlyphs\" textLength=\"44\" x=\"217\" y=\"181.0669\">[x &gt; 1]</text></a><!--MD5=[ca5a752d6098d8a44b3f88316e7452d1]\n",
       "link E3 to E8--><a href=\"psysml:e6958018-0280-470d-866d-790aaedd3d9a\" target=\"_top\" title=\"psysml:e6958018-0280-470d-866d-790aaedd3d9a\" xlink:actuate=\"onRequest\" xlink:href=\"psysml:e6958018-0280-470d-866d-790aaedd3d9a\" xlink:show=\"new\" xlink:title=\"psysml:e6958018-0280-470d-866d-790aaedd3d9a\" xlink:type=\"simple\"><path d=\"M148.26,45.49 C157.14,50.38 171,58 171,58 C171,58 207,66 207,66 C207,66 217,109 217,109 C217,109 228.34,114.48 241.07,120.63 \" fill=\"none\" id=\"E3-&gt;E8\" style=\"stroke: #383838; stroke-width: 1.0;\"/><polygon fill=\"#383838\" points=\"245.81,122.92,239.4427,115.4062,241.3069,120.7471,235.966,122.6112,245.81,122.92\" style=\"stroke: #383838; stroke-width: 1.0;\"/></a><!--MD5=[95fa686b5a16158bcdbcaeead89f639b]\n",
       "link E8 to E3--><a href=\"psysml:7eebbea4-be3a-4ef1-ac68-fab402045136\" target=\"_top\" title=\"psysml:7eebbea4-be3a-4ef1-ac68-fab402045136\" xlink:actuate=\"onRequest\" xlink:href=\"psysml:7eebbea4-be3a-4ef1-ac68-fab402045136\" xlink:show=\"new\" xlink:title=\"psysml:7eebbea4-be3a-4ef1-ac68-fab402045136\" xlink:type=\"simple\"><path d=\"M254.2,116.79 C249.54,112.37 246,109 246,109 C246,109 214,66 214,66 C214,66 171,58 171,58 C171,58 161.13,52.57 152.72,47.94 \" fill=\"none\" id=\"E8-&gt;E3\" style=\"stroke: #383838; stroke-width: 1.0;\"/><polygon fill=\"#383838\" points=\"148.26,45.49,154.2153,53.3344,152.6402,47.9012,158.0733,46.3261,148.26,45.49\" style=\"stroke: #383838; stroke-width: 1.0;\"/><text fill=\"#000000\" font-family=\"sans-serif\" font-size=\"13\" lengthAdjust=\"spacingAndGlyphs\" textLength=\"44\" x=\"247\" y=\"92.0669\">[x &gt; 0]</text></a><!--MD5=[af87c684e3b0d8be13c1a698a818ef1e]\n",
       "link E3 to E4--><a href=\"psysml:b2a8f402-8a6f-47b5-a176-34e34a53fa41\" target=\"_top\" title=\"psysml:b2a8f402-8a6f-47b5-a176-34e34a53fa41\" xlink:actuate=\"onRequest\" xlink:href=\"psysml:b2a8f402-8a6f-47b5-a176-34e34a53fa41\" xlink:show=\"new\" xlink:title=\"psysml:b2a8f402-8a6f-47b5-a176-34e34a53fa41\" xlink:type=\"simple\"><path d=\"M131.86,43.76 C107.36,49.83 42,66 42,66 C42,66 38.55,101.26 36.49,122.25 \" fill=\"none\" id=\"E3-&gt;E4\" style=\"stroke: #383838; stroke-width: 1.0;\"/><polygon fill=\"#383838\" points=\"36,127.26,40.8562,118.6916,36.4862,122.2837,32.8941,117.9137,36,127.26\" style=\"stroke: #383838; stroke-width: 1.0;\"/></a><!--MD5=[1b7591eae5389033d8d09a9d6721a717]\n",
       "link E4 to E5--><a href=\"psysml:d4e4cf4f-ca71-4ae2-aa8b-453c4e696e69\" target=\"_top\" title=\"psysml:d4e4cf4f-ca71-4ae2-aa8b-453c4e696e69\" xlink:actuate=\"onRequest\" xlink:href=\"psysml:d4e4cf4f-ca71-4ae2-aa8b-453c4e696e69\" xlink:show=\"new\" xlink:title=\"psysml:d4e4cf4f-ca71-4ae2-aa8b-453c4e696e69\" xlink:type=\"simple\"><path d=\"M41.01,145.08 C54.09,157.23 84,185 84,185 C84,185 108,193 108,193 C108,193 118.26,196.69 130.07,200.94 \" fill=\"none\" id=\"E4-&gt;E5\" style=\"stroke: #383838; stroke-width: 1.0;\"/><polygon fill=\"#383838\" points=\"134.83,202.65,127.7272,195.8273,130.1281,200.9493,125.0061,203.3503,134.83,202.65\" style=\"stroke: #383838; stroke-width: 1.0;\"/><text fill=\"#000000\" font-family=\"sans-serif\" font-size=\"13\" lengthAdjust=\"spacingAndGlyphs\" textLength=\"36\" x=\"85\" y=\"181.0669\">[true]</text></a><!--MD5=[79568f1e445c3877b6a54524624ccc7d]\n",
       "link E4 to E6--><a href=\"psysml:07d2ed15-614f-457b-995c-67ac116a921b\" target=\"_top\" title=\"psysml:07d2ed15-614f-457b-995c-67ac116a921b\" xlink:actuate=\"onRequest\" xlink:href=\"psysml:07d2ed15-614f-457b-995c-67ac116a921b\" xlink:show=\"new\" xlink:title=\"psysml:07d2ed15-614f-457b-995c-67ac116a921b\" xlink:type=\"simple\"><path d=\"M38.36,147.4 C48.15,170.44 76,236 76,236 C76,236 105.53,253.75 130.57,268.81 \" fill=\"none\" id=\"E4-&gt;E6\" style=\"stroke: #383838; stroke-width: 1.0;\"/><polygon fill=\"#383838\" points=\"134.87,271.39,129.2105,263.3296,130.5825,268.8175,125.0946,270.1895,134.87,271.39\" style=\"stroke: #383838; stroke-width: 1.0;\"/><text fill=\"#000000\" font-family=\"sans-serif\" font-size=\"13\" lengthAdjust=\"spacingAndGlyphs\" textLength=\"40\" x=\"77\" y=\"219.0669\">[false]</text></a><!--MD5=[9120cf2e5df3bff93db8f754bbbc09b4]\n",
       "link E5 to E6--><a href=\"psysml:b67ea915-0e8a-4542-80c4-8f1f8e1002d6\" target=\"_top\" title=\"psysml:b67ea915-0e8a-4542-80c4-8f1f8e1002d6\" xlink:actuate=\"onRequest\" xlink:href=\"psysml:b67ea915-0e8a-4542-80c4-8f1f8e1002d6\" xlink:show=\"new\" xlink:title=\"psysml:b67ea915-0e8a-4542-80c4-8f1f8e1002d6\" xlink:type=\"simple\"><path d=\"M165,236.11 C165,244.69 165,254.75 165,263.8 \" fill=\"none\" id=\"E5-&gt;E6\" style=\"stroke: #383838; stroke-width: 1.0;\"/><polygon fill=\"#383838\" points=\"165,269,169,260,165,264,161,260,165,269\" style=\"stroke: #383838; stroke-width: 1.0;\"/><text fill=\"#000000\" font-family=\"sans-serif\" font-size=\"13\" lengthAdjust=\"spacingAndGlyphs\" textLength=\"55\" x=\"166\" y=\"257.0669\">[x == 0]</text></a><!--MD5=[7ecc0416eef5707b9732912d3afa564d]\n",
       "@startuml\r\n",
       "skinparam ranksep 10\r\n",
       "skinparam rectangle {\r\n",
       " backgroundColor<<block>> LightGreen\r\n",
       "}\r\n",
       "skinparam linetype polyline\r\n",
       "skinparam monochrome true\r\n",
       "skinparam classbackgroundcolor white\r\n",
       "skinparam shadowing false\r\n",
       "skinparam wrapWidth 300\r\n",
       "hide circle\r\n",
       "\r\n",
       "rec def \"DecisionTest\" as E1  <<(T,blue)action def>> [[psysml:704d58b1-847a-4b5f-8ef4-b4da5c2432eb ]] {\r\n",
       "portout \"$result\" as E2  [[psysml:d3db88a9-d6e2-4728-bacb-cdc83b04fb60 ]] \r\n",
       "choice \"test x\" as E3  [[psysml:07816a00-a6c6-49d5-84be-841a1e7e2f6a ]] \r\n",
       "choice \"noname\" as E4  [[psysml:26311404-6ce6-4dcd-89ed-d43ec51ac22a ]] \r\n",
       "rec usage \"A1\" as E5  <<(T,blue)action>> [[psysml:f4b16115-f2df-4145-8494-1e5aced0fe90 ]] {\r\n",
       "}\r\n",
       "\r\n",
       "rec usage \"A2\" as E6  <<(T,blue)action>> [[psysml:ffb4dce0-5cb8-4add-9e67-ebd1f2f3deb3 ]] {\r\n",
       "}\r\n",
       "\r\n",
       "rec usage \"A3\" as E7  <<(T,blue)action>> [[psysml:dc91d98e-27d3-4fe3-8c05-9cedeab5907b ]] {\r\n",
       "}\r\n",
       "\r\n",
       "rec usage \"A3\" as E8  <<(T,blue)action>> [[psysml:dc91d98e-27d3-4fe3-8c05-9cedeab5907b ]] {\r\n",
       "}\r\n",
       "\r\n",
       "}\r\n",
       "\r\n",
       "E3  - -> E5 [[psysml:f0c1a87b-40f9-41dd-914f-8704a756a2ee ]] : [x == 1]\r\n",
       "E3  - -> E6 [[psysml:534d6032-2416-43d2-b21b-3e106f4a7f5b ]] : [x > 1]\r\n",
       "E3  - -> E8 [[psysml:e6958018-0280-470d-866d-790aaedd3d9a ]] \r\n",
       "E3 - -> E4 [[psysml:b2a8f402-8a6f-47b5-a176-34e34a53fa41 ]] \r\n",
       "E4  - -> E5 [[psysml:d4e4cf4f-ca71-4ae2-aa8b-453c4e696e69 ]] : [true]\r\n",
       "E4  - -> E6 [[psysml:07d2ed15-614f-457b-995c-67ac116a921b ]] : [false]\r\n",
       "E5  - -> E6 [[psysml:b67ea915-0e8a-4542-80c4-8f1f8e1002d6 ]] : [x == 0]\r\n",
       "E8  - -> E3 [[psysml:7eebbea4-be3a-4ef1-ac68-fab402045136 ]] : [x > 0]\r\n",
       "@enduml\r\n",
       "\n",
       "PlantUML version 1.2020.13(Sat Jun 13 12:26:38 UTC 2020)\n",
       "(EPL source distribution)\n",
       "Java Runtime: OpenJDK Runtime Environment\n",
       "JVM: OpenJDK 64-Bit Server VM\n",
       "Default Encoding: UTF-8\n",
       "Language: en\n",
       "Country: null\n",
       "--></g></svg>"
      ]
     },
     "execution_count": 12,
     "metadata": {},
     "output_type": "execute_result"
    }
   ],
   "source": [
    "%viz --style=\"POLYLINE\" --view=\"Interconnection\" \"DecisionTest\""
   ]
  },
  {
   "cell_type": "code",
   "execution_count": 13,
   "id": "871e9c7b",
   "metadata": {
    "execution": {
     "iopub.execute_input": "2021-04-20T07:01:19.657105Z",
     "iopub.status.busy": "2021-04-20T07:01:19.656646Z",
     "iopub.status.idle": "2021-04-20T07:01:19.740568Z",
     "shell.execute_reply": "2021-04-20T07:01:19.739595Z"
    }
   },
   "outputs": [
    {
     "data": {
      "image/svg+xml": [
       "<?xml version=\"1.0\" encoding=\"UTF-8\" standalone=\"no\"?><svg xmlns=\"http://www.w3.org/2000/svg\" xmlns:xlink=\"http://www.w3.org/1999/xlink\" contentScriptType=\"application/ecmascript\" contentStyleType=\"text/css\" height=\"384px\" preserveAspectRatio=\"none\" style=\"width:333px;height:384px;\" version=\"1.1\" viewBox=\"0 0 333 384\" width=\"333px\" zoomAndPan=\"magnify\"><defs/><g><!--MD5=[fbc87193dbaf4d95561dea2c320d4a47]\n",
       "cluster E1--><a href=\"psysml:704d58b1-847a-4b5f-8ef4-b4da5c2432eb\" target=\"_top\" title=\"psysml:704d58b1-847a-4b5f-8ef4-b4da5c2432eb\" xlink:actuate=\"onRequest\" xlink:href=\"psysml:704d58b1-847a-4b5f-8ef4-b4da5c2432eb\" xlink:show=\"new\" xlink:title=\"psysml:704d58b1-847a-4b5f-8ef4-b4da5c2432eb\" xlink:type=\"simple\"><rect fill=\"#FFFFFF\" height=\"344.72\" id=\"E1\" style=\"stroke: #383838; stroke-width: 1.5;\" width=\"315\" x=\"7\" y=\"7\"/><rect fill=\"#F8F8F8\" height=\"37.9375\" style=\"stroke: #383838; stroke-width: 1.5;\" width=\"315\" x=\"7\" y=\"7\"/><text fill=\"#000000\" font-family=\"sans-serif\" font-size=\"12\" font-style=\"italic\" lengthAdjust=\"spacingAndGlyphs\" textLength=\"77\" x=\"126\" y=\"23.1387\">«action def»</text><text fill=\"#000000\" font-family=\"sans-serif\" font-size=\"12\" lengthAdjust=\"spacingAndGlyphs\" textLength=\"80\" x=\"124.5\" y=\"37.1074\">DecisionTest</text></a><text fill=\"#000000\" font-family=\"sans-serif\" font-size=\"14\" lengthAdjust=\"spacingAndGlyphs\" textLength=\"48\" x=\"140\" y=\"370.7151\">$result</text><rect fill=\"#383838\" height=\"12\" style=\"stroke: #F8F8F8; stroke-width: 1.5;\" width=\"12\" x=\"158\" y=\"345.72\"/><polygon fill=\"#F8F8F8\" points=\"141,28.5,153,40.5,141,52.5,129,40.5,141,28.5\" style=\"stroke: #383838; stroke-width: 1.5;\"/><polygon fill=\"#F8F8F8\" points=\"35,126.5,47,138.5,35,150.5,23,138.5,35,126.5\" style=\"stroke: #383838; stroke-width: 1.5;\"/><g id=\"E1.E5\"><a href=\"psysml:f4b16115-f2df-4145-8494-1e5aced0fe90\" target=\"_top\" title=\"psysml:f4b16115-f2df-4145-8494-1e5aced0fe90\" xlink:actuate=\"onRequest\" xlink:href=\"psysml:f4b16115-f2df-4145-8494-1e5aced0fe90\" xlink:show=\"new\" xlink:title=\"psysml:f4b16115-f2df-4145-8494-1e5aced0fe90\" xlink:type=\"simple\"><rect fill=\"#FFFFFF\" height=\"42.9375\" id=\"E5\" rx=\"10\" ry=\"10\" style=\"stroke: #383838; stroke-width: 1.5;\" width=\"60\" x=\"135\" y=\"193\"/><rect fill=\"#F8F8F8\" height=\"37.9375\" rx=\"10\" ry=\"10\" style=\"stroke: #F8F8F8; stroke-width: 1.5;\" width=\"60\" x=\"135\" y=\"193\"/><rect fill=\"#F8F8F8\" height=\"10\" style=\"stroke: #F8F8F8; stroke-width: 1.5;\" width=\"60\" x=\"135\" y=\"220.9375\"/><rect fill=\"none\" height=\"42.9375\" id=\"E5\" rx=\"10\" ry=\"10\" style=\"stroke: #383838; stroke-width: 1.5;\" width=\"60\" x=\"135\" y=\"193\"/><text fill=\"#000000\" font-family=\"sans-serif\" font-size=\"12\" font-style=\"italic\" lengthAdjust=\"spacingAndGlyphs\" textLength=\"53\" x=\"138.5\" y=\"209.1387\">«action»</text><text fill=\"#000000\" font-family=\"sans-serif\" font-size=\"12\" lengthAdjust=\"spacingAndGlyphs\" textLength=\"16\" x=\"157\" y=\"223.1074\">A1</text></a></g><g id=\"E1.E6\"><a href=\"psysml:ffb4dce0-5cb8-4add-9e67-ebd1f2f3deb3\" target=\"_top\" title=\"psysml:ffb4dce0-5cb8-4add-9e67-ebd1f2f3deb3\" xlink:actuate=\"onRequest\" xlink:href=\"psysml:ffb4dce0-5cb8-4add-9e67-ebd1f2f3deb3\" xlink:show=\"new\" xlink:title=\"psysml:ffb4dce0-5cb8-4add-9e67-ebd1f2f3deb3\" xlink:type=\"simple\"><rect fill=\"#FFFFFF\" height=\"42.9375\" id=\"E6\" rx=\"10\" ry=\"10\" style=\"stroke: #383838; stroke-width: 1.5;\" width=\"60\" x=\"135\" y=\"269\"/><rect fill=\"#F8F8F8\" height=\"37.9375\" rx=\"10\" ry=\"10\" style=\"stroke: #F8F8F8; stroke-width: 1.5;\" width=\"60\" x=\"135\" y=\"269\"/><rect fill=\"#F8F8F8\" height=\"10\" style=\"stroke: #F8F8F8; stroke-width: 1.5;\" width=\"60\" x=\"135\" y=\"296.9375\"/><rect fill=\"none\" height=\"42.9375\" id=\"E6\" rx=\"10\" ry=\"10\" style=\"stroke: #383838; stroke-width: 1.5;\" width=\"60\" x=\"135\" y=\"269\"/><text fill=\"#000000\" font-family=\"sans-serif\" font-size=\"12\" font-style=\"italic\" lengthAdjust=\"spacingAndGlyphs\" textLength=\"53\" x=\"138.5\" y=\"285.1387\">«action»</text><text fill=\"#000000\" font-family=\"sans-serif\" font-size=\"12\" lengthAdjust=\"spacingAndGlyphs\" textLength=\"16\" x=\"157\" y=\"299.1074\">A2</text></a></g><g id=\"E1.E7\"><a href=\"psysml:dc91d98e-27d3-4fe3-8c05-9cedeab5907b\" target=\"_top\" title=\"psysml:dc91d98e-27d3-4fe3-8c05-9cedeab5907b\" xlink:actuate=\"onRequest\" xlink:href=\"psysml:dc91d98e-27d3-4fe3-8c05-9cedeab5907b\" xlink:show=\"new\" xlink:title=\"psysml:dc91d98e-27d3-4fe3-8c05-9cedeab5907b\" xlink:type=\"simple\"><rect fill=\"#FFFFFF\" height=\"42.9375\" id=\"E7\" rx=\"10\" ry=\"10\" style=\"stroke: #383838; stroke-width: 1.5;\" width=\"60\" x=\"46\" y=\"66\"/><rect fill=\"#F8F8F8\" height=\"37.9375\" rx=\"10\" ry=\"10\" style=\"stroke: #F8F8F8; stroke-width: 1.5;\" width=\"60\" x=\"46\" y=\"66\"/><rect fill=\"#F8F8F8\" height=\"10\" style=\"stroke: #F8F8F8; stroke-width: 1.5;\" width=\"60\" x=\"46\" y=\"93.9375\"/><rect fill=\"none\" height=\"42.9375\" id=\"E7\" rx=\"10\" ry=\"10\" style=\"stroke: #383838; stroke-width: 1.5;\" width=\"60\" x=\"46\" y=\"66\"/><text fill=\"#000000\" font-family=\"sans-serif\" font-size=\"12\" font-style=\"italic\" lengthAdjust=\"spacingAndGlyphs\" textLength=\"53\" x=\"49.5\" y=\"82.1387\">«action»</text><text fill=\"#000000\" font-family=\"sans-serif\" font-size=\"12\" lengthAdjust=\"spacingAndGlyphs\" textLength=\"16\" x=\"68\" y=\"96.1074\">A3</text></a></g><g id=\"E1.E8\"><a href=\"psysml:dc91d98e-27d3-4fe3-8c05-9cedeab5907b\" target=\"_top\" title=\"psysml:dc91d98e-27d3-4fe3-8c05-9cedeab5907b\" xlink:actuate=\"onRequest\" xlink:href=\"psysml:dc91d98e-27d3-4fe3-8c05-9cedeab5907b\" xlink:show=\"new\" xlink:title=\"psysml:dc91d98e-27d3-4fe3-8c05-9cedeab5907b\" xlink:type=\"simple\"><rect fill=\"#FFFFFF\" height=\"42.9375\" id=\"E8\" rx=\"10\" ry=\"10\" style=\"stroke: #383838; stroke-width: 1.5;\" width=\"60\" x=\"246\" y=\"117\"/><rect fill=\"#F8F8F8\" height=\"37.9375\" rx=\"10\" ry=\"10\" style=\"stroke: #F8F8F8; stroke-width: 1.5;\" width=\"60\" x=\"246\" y=\"117\"/><rect fill=\"#F8F8F8\" height=\"10\" style=\"stroke: #F8F8F8; stroke-width: 1.5;\" width=\"60\" x=\"246\" y=\"144.9375\"/><rect fill=\"none\" height=\"42.9375\" id=\"E8\" rx=\"10\" ry=\"10\" style=\"stroke: #383838; stroke-width: 1.5;\" width=\"60\" x=\"246\" y=\"117\"/><text fill=\"#000000\" font-family=\"sans-serif\" font-size=\"12\" font-style=\"italic\" lengthAdjust=\"spacingAndGlyphs\" textLength=\"53\" x=\"249.5\" y=\"133.1387\">«action»</text><text fill=\"#000000\" font-family=\"sans-serif\" font-size=\"12\" lengthAdjust=\"spacingAndGlyphs\" textLength=\"16\" x=\"268\" y=\"147.1074\">A3</text></a></g><!--MD5=[0188b64bb0ae78505a997a81836e11e9]\n",
       "link E3 to E5--><a href=\"psysml:f0c1a87b-40f9-41dd-914f-8704a756a2ee\" target=\"_top\" title=\"psysml:f0c1a87b-40f9-41dd-914f-8704a756a2ee\" xlink:actuate=\"onRequest\" xlink:href=\"psysml:f0c1a87b-40f9-41dd-914f-8704a756a2ee\" xlink:show=\"new\" xlink:title=\"psysml:f0c1a87b-40f9-41dd-914f-8704a756a2ee\" xlink:type=\"simple\"><path d=\"M141.28,52.44 C142.02,81.77 144,160 144,160 C144,160 149.67,174.43 155.11,188.31 \" fill=\"none\" id=\"E3-&gt;E5\" style=\"stroke: #383838; stroke-width: 1.0; stroke-dasharray: 7.0,7.0;\"/><polygon fill=\"#383838\" points=\"156.94,192.97,157.374,183.1307,155.1126,188.3159,149.9274,186.0545,156.94,192.97\" style=\"stroke: #383838; stroke-width: 1.0;\"/><text fill=\"#000000\" font-family=\"sans-serif\" font-size=\"13\" lengthAdjust=\"spacingAndGlyphs\" textLength=\"55\" x=\"145\" y=\"143.0669\">[x == 1]</text></a><!--MD5=[ec9844e0c75763426927cad3229d1081]\n",
       "link E3 to E6--><a href=\"psysml:534d6032-2416-43d2-b21b-3e106f4a7f5b\" target=\"_top\" title=\"psysml:534d6032-2416-43d2-b21b-3e106f4a7f5b\" xlink:actuate=\"onRequest\" xlink:href=\"psysml:534d6032-2416-43d2-b21b-3e106f4a7f5b\" xlink:show=\"new\" xlink:title=\"psysml:534d6032-2416-43d2-b21b-3e106f4a7f5b\" xlink:type=\"simple\"><path d=\"M146.24,47.68 C161.52,65.71 205,117 205,117 C205,117 226,244 226,244 C226,244 226,261 226,261 C226,261 213.5,266.84 199.81,273.24 \" fill=\"none\" id=\"E3-&gt;E6\" style=\"stroke: #383838; stroke-width: 1.0; stroke-dasharray: 7.0,7.0;\"/><polygon fill=\"#383838\" points=\"195.14,275.42,204.9874,275.2489,199.6731,273.3103,201.6118,267.996,195.14,275.42\" style=\"stroke: #383838; stroke-width: 1.0;\"/><text fill=\"#000000\" font-family=\"sans-serif\" font-size=\"13\" lengthAdjust=\"spacingAndGlyphs\" textLength=\"44\" x=\"217\" y=\"181.0669\">[x &gt; 1]</text></a><!--MD5=[ca5a752d6098d8a44b3f88316e7452d1]\n",
       "link E3 to E8--><a href=\"psysml:e6958018-0280-470d-866d-790aaedd3d9a\" target=\"_top\" title=\"psysml:e6958018-0280-470d-866d-790aaedd3d9a\" xlink:actuate=\"onRequest\" xlink:href=\"psysml:e6958018-0280-470d-866d-790aaedd3d9a\" xlink:show=\"new\" xlink:title=\"psysml:e6958018-0280-470d-866d-790aaedd3d9a\" xlink:type=\"simple\"><path d=\"M148.26,45.49 C157.14,50.38 171,58 171,58 C171,58 207,66 207,66 C207,66 217,109 217,109 C217,109 228.34,114.48 241.07,120.63 \" fill=\"none\" id=\"E3-&gt;E8\" style=\"stroke: #383838; stroke-width: 1.0; stroke-dasharray: 7.0,7.0;\"/><polygon fill=\"#383838\" points=\"245.81,122.92,239.4427,115.4062,241.3069,120.7471,235.966,122.6112,245.81,122.92\" style=\"stroke: #383838; stroke-width: 1.0;\"/></a><!--MD5=[95fa686b5a16158bcdbcaeead89f639b]\n",
       "link E8 to E3--><a href=\"psysml:7eebbea4-be3a-4ef1-ac68-fab402045136\" target=\"_top\" title=\"psysml:7eebbea4-be3a-4ef1-ac68-fab402045136\" xlink:actuate=\"onRequest\" xlink:href=\"psysml:7eebbea4-be3a-4ef1-ac68-fab402045136\" xlink:show=\"new\" xlink:title=\"psysml:7eebbea4-be3a-4ef1-ac68-fab402045136\" xlink:type=\"simple\"><path d=\"M254.2,116.79 C249.54,112.37 246,109 246,109 C246,109 214,66 214,66 C214,66 171,58 171,58 C171,58 161.13,52.57 152.72,47.94 \" fill=\"none\" id=\"E8-&gt;E3\" style=\"stroke: #383838; stroke-width: 1.0; stroke-dasharray: 7.0,7.0;\"/><polygon fill=\"#383838\" points=\"148.26,45.49,154.2153,53.3344,152.6402,47.9012,158.0733,46.3261,148.26,45.49\" style=\"stroke: #383838; stroke-width: 1.0;\"/><text fill=\"#000000\" font-family=\"sans-serif\" font-size=\"13\" lengthAdjust=\"spacingAndGlyphs\" textLength=\"44\" x=\"247\" y=\"92.0669\">[x &gt; 0]</text></a><!--MD5=[af87c684e3b0d8be13c1a698a818ef1e]\n",
       "link E3 to E4--><a href=\"psysml:b2a8f402-8a6f-47b5-a176-34e34a53fa41\" target=\"_top\" title=\"psysml:b2a8f402-8a6f-47b5-a176-34e34a53fa41\" xlink:actuate=\"onRequest\" xlink:href=\"psysml:b2a8f402-8a6f-47b5-a176-34e34a53fa41\" xlink:show=\"new\" xlink:title=\"psysml:b2a8f402-8a6f-47b5-a176-34e34a53fa41\" xlink:type=\"simple\"><path d=\"M131.86,43.76 C107.36,49.83 42,66 42,66 C42,66 38.55,101.26 36.49,122.25 \" fill=\"none\" id=\"E3-&gt;E4\" style=\"stroke: #383838; stroke-width: 1.0; stroke-dasharray: 7.0,7.0;\"/><polygon fill=\"#383838\" points=\"36,127.26,40.8562,118.6916,36.4862,122.2837,32.8941,117.9137,36,127.26\" style=\"stroke: #383838; stroke-width: 1.0;\"/></a><!--MD5=[1b7591eae5389033d8d09a9d6721a717]\n",
       "link E4 to E5--><a href=\"psysml:d4e4cf4f-ca71-4ae2-aa8b-453c4e696e69\" target=\"_top\" title=\"psysml:d4e4cf4f-ca71-4ae2-aa8b-453c4e696e69\" xlink:actuate=\"onRequest\" xlink:href=\"psysml:d4e4cf4f-ca71-4ae2-aa8b-453c4e696e69\" xlink:show=\"new\" xlink:title=\"psysml:d4e4cf4f-ca71-4ae2-aa8b-453c4e696e69\" xlink:type=\"simple\"><path d=\"M41.01,145.08 C54.09,157.23 84,185 84,185 C84,185 108,193 108,193 C108,193 118.26,196.69 130.07,200.94 \" fill=\"none\" id=\"E4-&gt;E5\" style=\"stroke: #383838; stroke-width: 1.0; stroke-dasharray: 7.0,7.0;\"/><polygon fill=\"#383838\" points=\"134.83,202.65,127.7272,195.8273,130.1281,200.9493,125.0061,203.3503,134.83,202.65\" style=\"stroke: #383838; stroke-width: 1.0;\"/><text fill=\"#000000\" font-family=\"sans-serif\" font-size=\"13\" lengthAdjust=\"spacingAndGlyphs\" textLength=\"36\" x=\"85\" y=\"181.0669\">[true]</text></a><!--MD5=[79568f1e445c3877b6a54524624ccc7d]\n",
       "link E4 to E6--><a href=\"psysml:07d2ed15-614f-457b-995c-67ac116a921b\" target=\"_top\" title=\"psysml:07d2ed15-614f-457b-995c-67ac116a921b\" xlink:actuate=\"onRequest\" xlink:href=\"psysml:07d2ed15-614f-457b-995c-67ac116a921b\" xlink:show=\"new\" xlink:title=\"psysml:07d2ed15-614f-457b-995c-67ac116a921b\" xlink:type=\"simple\"><path d=\"M38.36,147.4 C48.15,170.44 76,236 76,236 C76,236 105.53,253.75 130.57,268.81 \" fill=\"none\" id=\"E4-&gt;E6\" style=\"stroke: #383838; stroke-width: 1.0; stroke-dasharray: 7.0,7.0;\"/><polygon fill=\"#383838\" points=\"134.87,271.39,129.2105,263.3296,130.5825,268.8175,125.0946,270.1895,134.87,271.39\" style=\"stroke: #383838; stroke-width: 1.0;\"/><text fill=\"#000000\" font-family=\"sans-serif\" font-size=\"13\" lengthAdjust=\"spacingAndGlyphs\" textLength=\"40\" x=\"77\" y=\"219.0669\">[false]</text></a><!--MD5=[9120cf2e5df3bff93db8f754bbbc09b4]\n",
       "link E5 to E6--><a href=\"psysml:b67ea915-0e8a-4542-80c4-8f1f8e1002d6\" target=\"_top\" title=\"psysml:b67ea915-0e8a-4542-80c4-8f1f8e1002d6\" xlink:actuate=\"onRequest\" xlink:href=\"psysml:b67ea915-0e8a-4542-80c4-8f1f8e1002d6\" xlink:show=\"new\" xlink:title=\"psysml:b67ea915-0e8a-4542-80c4-8f1f8e1002d6\" xlink:type=\"simple\"><path d=\"M165,236.11 C165,244.69 165,254.75 165,263.8 \" fill=\"none\" id=\"E5-&gt;E6\" style=\"stroke: #383838; stroke-width: 1.0; stroke-dasharray: 7.0,7.0;\"/><polygon fill=\"#383838\" points=\"165,269,169,260,165,264,161,260,165,269\" style=\"stroke: #383838; stroke-width: 1.0;\"/><text fill=\"#000000\" font-family=\"sans-serif\" font-size=\"13\" lengthAdjust=\"spacingAndGlyphs\" textLength=\"55\" x=\"166\" y=\"257.0669\">[x == 0]</text></a><!--MD5=[a191c0da11f85ae845ceb561eb8e6582]\n",
       "@startuml\r\n",
       "skinparam ranksep 8\r\n",
       "skinparam linetype polyline\r\n",
       "skinparam monochrome true\r\n",
       "skinparam classbackgroundcolor white\r\n",
       "skinparam shadowing false\r\n",
       "skinparam wrapWidth 300\r\n",
       "hide circle\r\n",
       "\r\n",
       "rec def \"DecisionTest\" as E1  <<(T,blue)action def>> [[psysml:704d58b1-847a-4b5f-8ef4-b4da5c2432eb ]] {\r\n",
       "portout \"$result\" as E2  [[psysml:d3db88a9-d6e2-4728-bacb-cdc83b04fb60 ]] \r\n",
       "choice \"test x\" as E3  [[psysml:07816a00-a6c6-49d5-84be-841a1e7e2f6a ]] \r\n",
       "choice \"noname\" as E4  [[psysml:26311404-6ce6-4dcd-89ed-d43ec51ac22a ]] \r\n",
       "rec usage \"A1\" as E5  <<(T,blue)action>> [[psysml:f4b16115-f2df-4145-8494-1e5aced0fe90 ]] {\r\n",
       "}\r\n",
       "\r\n",
       "rec usage \"A2\" as E6  <<(T,blue)action>> [[psysml:ffb4dce0-5cb8-4add-9e67-ebd1f2f3deb3 ]] {\r\n",
       "}\r\n",
       "\r\n",
       "rec usage \"A3\" as E7  <<(T,blue)action>> [[psysml:dc91d98e-27d3-4fe3-8c05-9cedeab5907b ]] {\r\n",
       "}\r\n",
       "\r\n",
       "rec usage \"A3\" as E8  <<(T,blue)action>> [[psysml:dc91d98e-27d3-4fe3-8c05-9cedeab5907b ]] {\r\n",
       "}\r\n",
       "\r\n",
       "}\r\n",
       "\r\n",
       "E3 ..> E5 [[psysml:f0c1a87b-40f9-41dd-914f-8704a756a2ee ]] : [x == 1]\r\n",
       "E3 ..> E6 [[psysml:534d6032-2416-43d2-b21b-3e106f4a7f5b ]] : [x > 1]\r\n",
       "E3 ..> E8 [[psysml:e6958018-0280-470d-866d-790aaedd3d9a ]] \r\n",
       "E3 ..> E4 [[psysml:b2a8f402-8a6f-47b5-a176-34e34a53fa41 ]] \r\n",
       "E4 ..> E5 [[psysml:d4e4cf4f-ca71-4ae2-aa8b-453c4e696e69 ]] : [true]\r\n",
       "E4 ..> E6 [[psysml:07d2ed15-614f-457b-995c-67ac116a921b ]] : [false]\r\n",
       "E5 ..> E6 [[psysml:b67ea915-0e8a-4542-80c4-8f1f8e1002d6 ]] : [x == 0]\r\n",
       "E8 ..> E3 [[psysml:7eebbea4-be3a-4ef1-ac68-fab402045136 ]] : [x > 0]\r\n",
       "@enduml\r\n",
       "\n",
       "PlantUML version 1.2020.13(Sat Jun 13 12:26:38 UTC 2020)\n",
       "(EPL source distribution)\n",
       "Java Runtime: OpenJDK Runtime Environment\n",
       "JVM: OpenJDK 64-Bit Server VM\n",
       "Default Encoding: UTF-8\n",
       "Language: en\n",
       "Country: null\n",
       "--></g></svg>"
      ]
     },
     "execution_count": 13,
     "metadata": {},
     "output_type": "execute_result"
    }
   ],
   "source": [
    "%viz --style=\"POLYLINE\" --view=\"Action\" \"DecisionTest\""
   ]
  },
  {
   "cell_type": "code",
   "execution_count": 14,
   "id": "9f1bd6c0",
   "metadata": {
    "execution": {
     "iopub.execute_input": "2021-04-20T07:01:19.794551Z",
     "iopub.status.busy": "2021-04-20T07:01:19.793635Z",
     "iopub.status.idle": "2021-04-20T07:01:19.894404Z",
     "shell.execute_reply": "2021-04-20T07:01:19.894103Z"
    }
   },
   "outputs": [
    {
     "data": {
      "image/svg+xml": [
       "<?xml version=\"1.0\" encoding=\"UTF-8\" standalone=\"no\"?><svg xmlns=\"http://www.w3.org/2000/svg\" xmlns:xlink=\"http://www.w3.org/1999/xlink\" contentScriptType=\"application/ecmascript\" contentStyleType=\"text/css\" height=\"207px\" preserveAspectRatio=\"none\" style=\"width:109px;height:207px;\" version=\"1.1\" viewBox=\"0 0 109 207\" width=\"109px\" zoomAndPan=\"magnify\"><defs/><g><!--MD5=[43c9051892ef23e1a46a86907403d788]\n",
       "class E1--><a href=\"psysml:704d58b1-847a-4b5f-8ef4-b4da5c2432eb\" target=\"_top\" title=\"psysml:704d58b1-847a-4b5f-8ef4-b4da5c2432eb\" xlink:actuate=\"onRequest\" xlink:href=\"psysml:704d58b1-847a-4b5f-8ef4-b4da5c2432eb\" xlink:show=\"new\" xlink:title=\"psysml:704d58b1-847a-4b5f-8ef4-b4da5c2432eb\" xlink:type=\"simple\"><rect fill=\"#FFFFFF\" height=\"189.9844\" id=\"E1\" style=\"stroke: #383838; stroke-width: 1.5;\" width=\"91\" x=\"7\" y=\"7\"/><text fill=\"#000000\" font-family=\"sans-serif\" font-size=\"12\" font-style=\"italic\" lengthAdjust=\"spacingAndGlyphs\" textLength=\"77\" x=\"14\" y=\"23.1387\">«action def»</text><text fill=\"#000000\" font-family=\"sans-serif\" font-size=\"12\" lengthAdjust=\"spacingAndGlyphs\" textLength=\"80\" x=\"12.5\" y=\"37.1074\">DecisionTest</text><line style=\"stroke: #383838; stroke-width: 1.5;\" x1=\"8\" x2=\"97\" y1=\"44.9375\" y2=\"44.9375\"/><text fill=\"#000000\" font-family=\"sans-serif\" font-size=\"11\" lengthAdjust=\"spacingAndGlyphs\" textLength=\"26\" x=\"13\" y=\"75.9526\">x=1;</text><line style=\"stroke: #383838; stroke-width: 1.0;\" x1=\"8\" x2=\"25\" y1=\"59.3398\" y2=\"59.3398\"/><text fill=\"#000000\" font-family=\"sans-serif\" font-size=\"11\" lengthAdjust=\"spacingAndGlyphs\" textLength=\"55\" x=\"25\" y=\"62.6479\">attributes</text><line style=\"stroke: #383838; stroke-width: 1.0;\" x1=\"80\" x2=\"97\" y1=\"59.3398\" y2=\"59.3398\"/><text fill=\"#000000\" font-family=\"sans-serif\" font-size=\"11\" lengthAdjust=\"spacingAndGlyphs\" textLength=\"14\" x=\"13\" y=\"105.562\">A1</text><text fill=\"#000000\" font-family=\"sans-serif\" font-size=\"11\" lengthAdjust=\"spacingAndGlyphs\" textLength=\"14\" x=\"13\" y=\"118.3667\">A2</text><text fill=\"#000000\" font-family=\"sans-serif\" font-size=\"11\" lengthAdjust=\"spacingAndGlyphs\" textLength=\"14\" x=\"13\" y=\"131.1714\">A3</text><line style=\"stroke: #383838; stroke-width: 1.0;\" x1=\"8\" x2=\"32\" y1=\"88.9492\" y2=\"88.9492\"/><text fill=\"#000000\" font-family=\"sans-serif\" font-size=\"11\" lengthAdjust=\"spacingAndGlyphs\" textLength=\"41\" x=\"32\" y=\"92.2573\">actions</text><line style=\"stroke: #383838; stroke-width: 1.0;\" x1=\"73\" x2=\"97\" y1=\"88.9492\" y2=\"88.9492\"/><text fill=\"#000000\" font-family=\"sans-serif\" font-size=\"11\" lengthAdjust=\"spacingAndGlyphs\" textLength=\"32\" x=\"13\" y=\"160.7808\">test x</text><line style=\"stroke: #383838; stroke-width: 1.0;\" x1=\"8\" x2=\"11\" y1=\"144.168\" y2=\"144.168\"/><text fill=\"#000000\" font-family=\"sans-serif\" font-size=\"11\" lengthAdjust=\"spacingAndGlyphs\" textLength=\"83\" x=\"11\" y=\"147.4761\">decisionNodes</text><line style=\"stroke: #383838; stroke-width: 1.0;\" x1=\"94\" x2=\"97\" y1=\"144.168\" y2=\"144.168\"/><text fill=\"#000000\" font-family=\"sans-serif\" font-size=\"11\" lengthAdjust=\"spacingAndGlyphs\" textLength=\"8\" x=\"13\" y=\"190.3901\">S</text><line style=\"stroke: #383838; stroke-width: 1.0;\" x1=\"8\" x2=\"22\" y1=\"173.7773\" y2=\"173.7773\"/><text fill=\"#000000\" font-family=\"sans-serif\" font-size=\"11\" lengthAdjust=\"spacingAndGlyphs\" textLength=\"61\" x=\"22\" y=\"177.0854\">transitions</text><line style=\"stroke: #383838; stroke-width: 1.0;\" x1=\"83\" x2=\"97\" y1=\"173.7773\" y2=\"173.7773\"/></a><!--MD5=[f4621c3643c6d54ed376174d57b057eb]\n",
       "@startuml\r\n",
       "skinparam linetype polyline\r\n",
       "skinparam monochrome true\r\n",
       "skinparam classbackgroundcolor white\r\n",
       "skinparam shadowing false\r\n",
       "skinparam wrapWidth 300\r\n",
       "hide circle\r\n",
       "\r\n",
       "comp def \"DecisionTest\" as E1  <<(T,blue)action def>> [[psysml:704d58b1-847a-4b5f-8ef4-b4da5c2432eb ]] {\r\n",
       "- - attributes - -\r\n",
       "x=1; \r\n",
       "- - actions - -\r\n",
       "A1\r\n",
       "A2\r\n",
       "A3\r\n",
       "- - decisionNodes - -\r\n",
       "test x\r\n",
       "- - transitions - -\r\n",
       "S\r\n",
       "}\r\n",
       "@enduml\r\n",
       "\n",
       "PlantUML version 1.2020.13(Sat Jun 13 12:26:38 UTC 2020)\n",
       "(EPL source distribution)\n",
       "Java Runtime: OpenJDK Runtime Environment\n",
       "JVM: OpenJDK 64-Bit Server VM\n",
       "Default Encoding: UTF-8\n",
       "Language: en\n",
       "Country: null\n",
       "--></g></svg>"
      ]
     },
     "execution_count": 14,
     "metadata": {},
     "output_type": "execute_result"
    }
   ],
   "source": [
    "%viz --style=\"POLYLINE\" --view=\"Sequence\" \"DecisionTest\""
   ]
  },
  {
   "cell_type": "code",
   "execution_count": 15,
   "id": "f75b9cea",
   "metadata": {
    "execution": {
     "iopub.execute_input": "2021-04-20T07:01:19.944157Z",
     "iopub.status.busy": "2021-04-20T07:01:19.943661Z",
     "iopub.status.idle": "2021-04-20T07:01:19.986834Z",
     "shell.execute_reply": "2021-04-20T07:01:19.986256Z"
    }
   },
   "outputs": [
    {
     "data": {
      "image/svg+xml": [
       "<?xml version=\"1.0\" encoding=\"UTF-8\" standalone=\"no\"?><svg xmlns=\"http://www.w3.org/2000/svg\" xmlns:xlink=\"http://www.w3.org/1999/xlink\" contentScriptType=\"application/ecmascript\" contentStyleType=\"text/css\" height=\"574px\" preserveAspectRatio=\"none\" style=\"width:333px;height:574px;\" version=\"1.1\" viewBox=\"0 0 333 574\" width=\"333px\" zoomAndPan=\"magnify\"><defs/><g><!--MD5=[fbc87193dbaf4d95561dea2c320d4a47]\n",
       "cluster E1--><a href=\"psysml:704d58b1-847a-4b5f-8ef4-b4da5c2432eb\" target=\"_top\" title=\"psysml:704d58b1-847a-4b5f-8ef4-b4da5c2432eb\" xlink:actuate=\"onRequest\" xlink:href=\"psysml:704d58b1-847a-4b5f-8ef4-b4da5c2432eb\" xlink:show=\"new\" xlink:title=\"psysml:704d58b1-847a-4b5f-8ef4-b4da5c2432eb\" xlink:type=\"simple\"><rect fill=\"#FFFFFF\" height=\"534.72\" id=\"E1\" style=\"stroke: #383838; stroke-width: 1.5;\" width=\"315\" x=\"7\" y=\"7\"/><rect fill=\"#F8F8F8\" height=\"37.9375\" style=\"stroke: #383838; stroke-width: 1.5;\" width=\"315\" x=\"7\" y=\"7\"/><text fill=\"#000000\" font-family=\"sans-serif\" font-size=\"12\" font-style=\"italic\" lengthAdjust=\"spacingAndGlyphs\" textLength=\"77\" x=\"126\" y=\"23.1387\">«action def»</text><text fill=\"#000000\" font-family=\"sans-serif\" font-size=\"12\" lengthAdjust=\"spacingAndGlyphs\" textLength=\"80\" x=\"124.5\" y=\"37.1074\">DecisionTest</text></a><text fill=\"#000000\" font-family=\"sans-serif\" font-size=\"14\" lengthAdjust=\"spacingAndGlyphs\" textLength=\"48\" x=\"140\" y=\"560.7151\">$result</text><rect fill=\"#383838\" height=\"12\" style=\"stroke: #F8F8F8; stroke-width: 1.5;\" width=\"12\" x=\"158\" y=\"535.72\"/><polygon fill=\"#F8F8F8\" points=\"141,28.5,153,40.5,141,52.5,129,40.5,141,28.5\" style=\"stroke: #383838; stroke-width: 1.5;\"/><polygon fill=\"#F8F8F8\" points=\"35,170.5,47,182.5,35,194.5,23,182.5,35,170.5\" style=\"stroke: #383838; stroke-width: 1.5;\"/><g id=\"E1.E5\"><a href=\"psysml:f4b16115-f2df-4145-8494-1e5aced0fe90\" target=\"_top\" title=\"psysml:f4b16115-f2df-4145-8494-1e5aced0fe90\" xlink:actuate=\"onRequest\" xlink:href=\"psysml:f4b16115-f2df-4145-8494-1e5aced0fe90\" xlink:show=\"new\" xlink:title=\"psysml:f4b16115-f2df-4145-8494-1e5aced0fe90\" xlink:type=\"simple\"><rect fill=\"#FFFFFF\" height=\"42.9375\" id=\"E5\" rx=\"10\" ry=\"10\" style=\"stroke: #383838; stroke-width: 1.5;\" width=\"60\" x=\"135\" y=\"281\"/><rect fill=\"#F8F8F8\" height=\"37.9375\" rx=\"10\" ry=\"10\" style=\"stroke: #F8F8F8; stroke-width: 1.5;\" width=\"60\" x=\"135\" y=\"281\"/><rect fill=\"#F8F8F8\" height=\"10\" style=\"stroke: #F8F8F8; stroke-width: 1.5;\" width=\"60\" x=\"135\" y=\"308.9375\"/><rect fill=\"none\" height=\"42.9375\" id=\"E5\" rx=\"10\" ry=\"10\" style=\"stroke: #383838; stroke-width: 1.5;\" width=\"60\" x=\"135\" y=\"281\"/><text fill=\"#000000\" font-family=\"sans-serif\" font-size=\"12\" font-style=\"italic\" lengthAdjust=\"spacingAndGlyphs\" textLength=\"53\" x=\"138.5\" y=\"297.1387\">«action»</text><text fill=\"#000000\" font-family=\"sans-serif\" font-size=\"12\" lengthAdjust=\"spacingAndGlyphs\" textLength=\"16\" x=\"157\" y=\"311.1074\">A1</text></a></g><g id=\"E1.E6\"><a href=\"psysml:ffb4dce0-5cb8-4add-9e67-ebd1f2f3deb3\" target=\"_top\" title=\"psysml:ffb4dce0-5cb8-4add-9e67-ebd1f2f3deb3\" xlink:actuate=\"onRequest\" xlink:href=\"psysml:ffb4dce0-5cb8-4add-9e67-ebd1f2f3deb3\" xlink:show=\"new\" xlink:title=\"psysml:ffb4dce0-5cb8-4add-9e67-ebd1f2f3deb3\" xlink:type=\"simple\"><rect fill=\"#FFFFFF\" height=\"42.9375\" id=\"E6\" rx=\"10\" ry=\"10\" style=\"stroke: #383838; stroke-width: 1.5;\" width=\"60\" x=\"135\" y=\"401\"/><rect fill=\"#F8F8F8\" height=\"37.9375\" rx=\"10\" ry=\"10\" style=\"stroke: #F8F8F8; stroke-width: 1.5;\" width=\"60\" x=\"135\" y=\"401\"/><rect fill=\"#F8F8F8\" height=\"10\" style=\"stroke: #F8F8F8; stroke-width: 1.5;\" width=\"60\" x=\"135\" y=\"428.9375\"/><rect fill=\"none\" height=\"42.9375\" id=\"E6\" rx=\"10\" ry=\"10\" style=\"stroke: #383838; stroke-width: 1.5;\" width=\"60\" x=\"135\" y=\"401\"/><text fill=\"#000000\" font-family=\"sans-serif\" font-size=\"12\" font-style=\"italic\" lengthAdjust=\"spacingAndGlyphs\" textLength=\"53\" x=\"138.5\" y=\"417.1387\">«action»</text><text fill=\"#000000\" font-family=\"sans-serif\" font-size=\"12\" lengthAdjust=\"spacingAndGlyphs\" textLength=\"16\" x=\"157\" y=\"431.1074\">A2</text></a></g><g id=\"E1.E7\"><a href=\"psysml:dc91d98e-27d3-4fe3-8c05-9cedeab5907b\" target=\"_top\" title=\"psysml:dc91d98e-27d3-4fe3-8c05-9cedeab5907b\" xlink:actuate=\"onRequest\" xlink:href=\"psysml:dc91d98e-27d3-4fe3-8c05-9cedeab5907b\" xlink:show=\"new\" xlink:title=\"psysml:dc91d98e-27d3-4fe3-8c05-9cedeab5907b\" xlink:type=\"simple\"><rect fill=\"#FFFFFF\" height=\"42.9375\" id=\"E7\" rx=\"10\" ry=\"10\" style=\"stroke: #383838; stroke-width: 1.5;\" width=\"60\" x=\"46\" y=\"88\"/><rect fill=\"#F8F8F8\" height=\"37.9375\" rx=\"10\" ry=\"10\" style=\"stroke: #F8F8F8; stroke-width: 1.5;\" width=\"60\" x=\"46\" y=\"88\"/><rect fill=\"#F8F8F8\" height=\"10\" style=\"stroke: #F8F8F8; stroke-width: 1.5;\" width=\"60\" x=\"46\" y=\"115.9375\"/><rect fill=\"none\" height=\"42.9375\" id=\"E7\" rx=\"10\" ry=\"10\" style=\"stroke: #383838; stroke-width: 1.5;\" width=\"60\" x=\"46\" y=\"88\"/><text fill=\"#000000\" font-family=\"sans-serif\" font-size=\"12\" font-style=\"italic\" lengthAdjust=\"spacingAndGlyphs\" textLength=\"53\" x=\"49.5\" y=\"104.1387\">«action»</text><text fill=\"#000000\" font-family=\"sans-serif\" font-size=\"12\" lengthAdjust=\"spacingAndGlyphs\" textLength=\"16\" x=\"68\" y=\"118.1074\">A3</text></a></g><g id=\"E1.E8\"><a href=\"psysml:dc91d98e-27d3-4fe3-8c05-9cedeab5907b\" target=\"_top\" title=\"psysml:dc91d98e-27d3-4fe3-8c05-9cedeab5907b\" xlink:actuate=\"onRequest\" xlink:href=\"psysml:dc91d98e-27d3-4fe3-8c05-9cedeab5907b\" xlink:show=\"new\" xlink:title=\"psysml:dc91d98e-27d3-4fe3-8c05-9cedeab5907b\" xlink:type=\"simple\"><rect fill=\"#FFFFFF\" height=\"42.9375\" id=\"E8\" rx=\"10\" ry=\"10\" style=\"stroke: #383838; stroke-width: 1.5;\" width=\"60\" x=\"246\" y=\"161\"/><rect fill=\"#F8F8F8\" height=\"37.9375\" rx=\"10\" ry=\"10\" style=\"stroke: #F8F8F8; stroke-width: 1.5;\" width=\"60\" x=\"246\" y=\"161\"/><rect fill=\"#F8F8F8\" height=\"10\" style=\"stroke: #F8F8F8; stroke-width: 1.5;\" width=\"60\" x=\"246\" y=\"188.9375\"/><rect fill=\"none\" height=\"42.9375\" id=\"E8\" rx=\"10\" ry=\"10\" style=\"stroke: #383838; stroke-width: 1.5;\" width=\"60\" x=\"246\" y=\"161\"/><text fill=\"#000000\" font-family=\"sans-serif\" font-size=\"12\" font-style=\"italic\" lengthAdjust=\"spacingAndGlyphs\" textLength=\"53\" x=\"249.5\" y=\"177.1387\">«action»</text><text fill=\"#000000\" font-family=\"sans-serif\" font-size=\"12\" lengthAdjust=\"spacingAndGlyphs\" textLength=\"16\" x=\"268\" y=\"191.1074\">A3</text></a></g><!--MD5=[0188b64bb0ae78505a997a81836e11e9]\n",
       "link E3 to E5--><a href=\"psysml:f0c1a87b-40f9-41dd-914f-8704a756a2ee\" target=\"_top\" title=\"psysml:f0c1a87b-40f9-41dd-914f-8704a756a2ee\" xlink:actuate=\"onRequest\" xlink:href=\"psysml:f0c1a87b-40f9-41dd-914f-8704a756a2ee\" xlink:show=\"new\" xlink:title=\"psysml:f0c1a87b-40f9-41dd-914f-8704a756a2ee\" xlink:type=\"simple\"><path d=\"M141.2,52.41 C141.87,88.85 144,204 144,204 C144,204 153.2,246.72 159.42,275.6 \" fill=\"none\" id=\"E3-&gt;E5\" style=\"stroke: #383838; stroke-width: 1.0;\"/><polygon fill=\"#383838\" points=\"160.55,280.82,162.5831,271.1833,159.5063,275.9302,154.7594,272.8533,160.55,280.82\" style=\"stroke: #383838; stroke-width: 1.0;\"/><text fill=\"#000000\" font-family=\"sans-serif\" font-size=\"13\" lengthAdjust=\"spacingAndGlyphs\" textLength=\"55\" x=\"145\" y=\"187.0669\">[x == 1]</text></a><!--MD5=[ec9844e0c75763426927cad3229d1081]\n",
       "link E3 to E6--><a href=\"psysml:534d6032-2416-43d2-b21b-3e106f4a7f5b\" target=\"_top\" title=\"psysml:534d6032-2416-43d2-b21b-3e106f4a7f5b\" xlink:actuate=\"onRequest\" xlink:href=\"psysml:534d6032-2416-43d2-b21b-3e106f4a7f5b\" xlink:show=\"new\" xlink:title=\"psysml:534d6032-2416-43d2-b21b-3e106f4a7f5b\" xlink:type=\"simple\"><path d=\"M145,48.98 C159.01,75.14 205,161 205,161 C205,161 226,354 226,354 C226,354 226,371 226,371 C226,371 209.6,384.58 193.8,397.65 \" fill=\"none\" id=\"E3-&gt;E6\" style=\"stroke: #383838; stroke-width: 1.0;\"/><polygon fill=\"#383838\" points=\"189.81,400.96,199.2964,398.3128,193.6651,397.776,194.202,392.1446,189.81,400.96\" style=\"stroke: #383838; stroke-width: 1.0;\"/><text fill=\"#000000\" font-family=\"sans-serif\" font-size=\"13\" lengthAdjust=\"spacingAndGlyphs\" textLength=\"44\" x=\"215\" y=\"247.0669\">[x &gt; 1]</text></a><!--MD5=[ca5a752d6098d8a44b3f88316e7452d1]\n",
       "link E3 to E8--><a href=\"psysml:e6958018-0280-470d-866d-790aaedd3d9a\" target=\"_top\" title=\"psysml:e6958018-0280-470d-866d-790aaedd3d9a\" xlink:actuate=\"onRequest\" xlink:href=\"psysml:e6958018-0280-470d-866d-790aaedd3d9a\" xlink:show=\"new\" xlink:title=\"psysml:e6958018-0280-470d-866d-790aaedd3d9a\" xlink:type=\"simple\"><path d=\"M147.57,46.13 C164.26,57.89 207,88 207,88 C207,88 217,131 217,131 C217,131 232.87,144.58 248.14,157.65 \" fill=\"none\" id=\"E3-&gt;E8\" style=\"stroke: #383838; stroke-width: 1.0;\"/><polygon fill=\"#383838\" points=\"252,160.96,247.7506,152.0751,248.1967,157.7143,242.5574,158.1604,252,160.96\" style=\"stroke: #383838; stroke-width: 1.0;\"/></a><!--MD5=[95fa686b5a16158bcdbcaeead89f639b]\n",
       "link E8 to E3--><a href=\"psysml:7eebbea4-be3a-4ef1-ac68-fab402045136\" target=\"_top\" title=\"psysml:7eebbea4-be3a-4ef1-ac68-fab402045136\" xlink:actuate=\"onRequest\" xlink:href=\"psysml:7eebbea4-be3a-4ef1-ac68-fab402045136\" xlink:show=\"new\" xlink:title=\"psysml:7eebbea4-be3a-4ef1-ac68-fab402045136\" xlink:type=\"simple\"><path d=\"M262.24,160.75 C243.97,133.2 214,88 214,88 C214,88 172.35,61.47 151.97,48.49 \" fill=\"none\" id=\"E8-&gt;E3\" style=\"stroke: #383838; stroke-width: 1.0;\"/><polygon fill=\"#383838\" points=\"147.74,45.79,153.1801,54.0001,151.9565,48.4772,157.4795,47.2536,147.74,45.79\" style=\"stroke: #383838; stroke-width: 1.0;\"/><text fill=\"#000000\" font-family=\"sans-serif\" font-size=\"13\" lengthAdjust=\"spacingAndGlyphs\" textLength=\"44\" x=\"242\" y=\"114.0669\">[x &gt; 0]</text></a><!--MD5=[af87c684e3b0d8be13c1a698a818ef1e]\n",
       "link E3 to E4--><a href=\"psysml:b2a8f402-8a6f-47b5-a176-34e34a53fa41\" target=\"_top\" title=\"psysml:b2a8f402-8a6f-47b5-a176-34e34a53fa41\" xlink:actuate=\"onRequest\" xlink:href=\"psysml:b2a8f402-8a6f-47b5-a176-34e34a53fa41\" xlink:show=\"new\" xlink:title=\"psysml:b2a8f402-8a6f-47b5-a176-34e34a53fa41\" xlink:type=\"simple\"><path d=\"M133.23,45.15 C109.89,56.11 42,88 42,88 C42,88 38.16,139.24 36.17,165.86 \" fill=\"none\" id=\"E3-&gt;E4\" style=\"stroke: #383838; stroke-width: 1.0;\"/><polygon fill=\"#383838\" points=\"35.78,171.14,40.4376,162.462,36.1515,166.1538,32.4597,161.8677,35.78,171.14\" style=\"stroke: #383838; stroke-width: 1.0;\"/></a><!--MD5=[1b7591eae5389033d8d09a9d6721a717]\n",
       "link E4 to E5--><a href=\"psysml:d4e4cf4f-ca71-4ae2-aa8b-453c4e696e69\" target=\"_top\" title=\"psysml:d4e4cf4f-ca71-4ae2-aa8b-453c4e696e69\" xlink:actuate=\"onRequest\" xlink:href=\"psysml:d4e4cf4f-ca71-4ae2-aa8b-453c4e696e69\" xlink:show=\"new\" xlink:title=\"psysml:d4e4cf4f-ca71-4ae2-aa8b-453c4e696e69\" xlink:type=\"simple\"><path d=\"M39.7,189.97 C51.96,206.87 84,251 84,251 C84,251 108.44,266.24 130.47,279.97 \" fill=\"none\" id=\"E4-&gt;E5\" style=\"stroke: #383838; stroke-width: 1.0;\"/><polygon fill=\"#383838\" points=\"134.84,282.7,129.3157,274.5464,130.596,280.0564,125.0859,281.3368,134.84,282.7\" style=\"stroke: #383838; stroke-width: 1.0;\"/><text fill=\"#000000\" font-family=\"sans-serif\" font-size=\"13\" lengthAdjust=\"spacingAndGlyphs\" textLength=\"36\" x=\"85\" y=\"247.0669\">[true]</text></a><!--MD5=[79568f1e445c3877b6a54524624ccc7d]\n",
       "link E4 to E6--><a href=\"psysml:07d2ed15-614f-457b-995c-67ac116a921b\" target=\"_top\" title=\"psysml:07d2ed15-614f-457b-995c-67ac116a921b\" xlink:actuate=\"onRequest\" xlink:href=\"psysml:07d2ed15-614f-457b-995c-67ac116a921b\" xlink:show=\"new\" xlink:title=\"psysml:07d2ed15-614f-457b-995c-67ac116a921b\" xlink:type=\"simple\"><path d=\"M37.56,192.29 C46.54,223.05 76,324 76,324 C76,324 116.3,368.15 142.66,397.03 \" fill=\"none\" id=\"E4-&gt;E6\" style=\"stroke: #383838; stroke-width: 1.0;\"/><polygon fill=\"#383838\" points=\"146.13,400.82,143.0249,391.4734,142.7624,397.1242,137.1116,396.8616,146.13,400.82\" style=\"stroke: #383838; stroke-width: 1.0;\"/><text fill=\"#000000\" font-family=\"sans-serif\" font-size=\"13\" lengthAdjust=\"spacingAndGlyphs\" textLength=\"40\" x=\"77\" y=\"307.0669\">[false]</text></a><!--MD5=[9120cf2e5df3bff93db8f754bbbc09b4]\n",
       "link E5 to E6--><a href=\"psysml:b67ea915-0e8a-4542-80c4-8f1f8e1002d6\" target=\"_top\" title=\"psysml:b67ea915-0e8a-4542-80c4-8f1f8e1002d6\" xlink:actuate=\"onRequest\" xlink:href=\"psysml:b67ea915-0e8a-4542-80c4-8f1f8e1002d6\" xlink:show=\"new\" xlink:title=\"psysml:b67ea915-0e8a-4542-80c4-8f1f8e1002d6\" xlink:type=\"simple\"><path d=\"M165,324.05 C165,343.9 165,374.02 165,395.52 \" fill=\"none\" id=\"E5-&gt;E6\" style=\"stroke: #383838; stroke-width: 1.0;\"/><polygon fill=\"#383838\" points=\"165,400.79,169,391.79,165,395.79,161,391.79,165,400.79\" style=\"stroke: #383838; stroke-width: 1.0;\"/><text fill=\"#000000\" font-family=\"sans-serif\" font-size=\"13\" lengthAdjust=\"spacingAndGlyphs\" textLength=\"55\" x=\"166\" y=\"367.0669\">[x == 0]</text></a><!--MD5=[c4c5b609cd5996c10f4ae1e0a1a46d90]\n",
       "@startuml\r\n",
       "skinparam linetype polyline\r\n",
       "skinparam monochrome true\r\n",
       "skinparam classbackgroundcolor white\r\n",
       "skinparam shadowing false\r\n",
       "skinparam wrapWidth 300\r\n",
       "hide circle\r\n",
       "\r\n",
       "rec def \"DecisionTest\" as E1  <<(T,blue)action def>> [[psysml:704d58b1-847a-4b5f-8ef4-b4da5c2432eb ]] {\r\n",
       "portout \"$result\" as E2  [[psysml:d3db88a9-d6e2-4728-bacb-cdc83b04fb60 ]] \r\n",
       "choice \"test x\" as E3  [[psysml:07816a00-a6c6-49d5-84be-841a1e7e2f6a ]] \r\n",
       "choice \"noname\" as E4  [[psysml:26311404-6ce6-4dcd-89ed-d43ec51ac22a ]] \r\n",
       "rec usage \"A1\" as E5  <<(T,blue)action>> [[psysml:f4b16115-f2df-4145-8494-1e5aced0fe90 ]] {\r\n",
       "}\r\n",
       "\r\n",
       "rec usage \"A2\" as E6  <<(T,blue)action>> [[psysml:ffb4dce0-5cb8-4add-9e67-ebd1f2f3deb3 ]] {\r\n",
       "}\r\n",
       "\r\n",
       "rec usage \"A3\" as E7  <<(T,blue)action>> [[psysml:dc91d98e-27d3-4fe3-8c05-9cedeab5907b ]] {\r\n",
       "}\r\n",
       "\r\n",
       "rec usage \"A3\" as E8  <<(T,blue)action>> [[psysml:dc91d98e-27d3-4fe3-8c05-9cedeab5907b ]] {\r\n",
       "}\r\n",
       "\r\n",
       "}\r\n",
       "\r\n",
       "E3  - -> E5 [[psysml:f0c1a87b-40f9-41dd-914f-8704a756a2ee ]] : [x == 1]\r\n",
       "E3  - -> E6 [[psysml:534d6032-2416-43d2-b21b-3e106f4a7f5b ]] : [x > 1]\r\n",
       "E3  - -> E8 [[psysml:e6958018-0280-470d-866d-790aaedd3d9a ]] \r\n",
       "E3 - -> E4 [[psysml:b2a8f402-8a6f-47b5-a176-34e34a53fa41 ]] \r\n",
       "E4  - -> E5 [[psysml:d4e4cf4f-ca71-4ae2-aa8b-453c4e696e69 ]] : [true]\r\n",
       "E4  - -> E6 [[psysml:07d2ed15-614f-457b-995c-67ac116a921b ]] : [false]\r\n",
       "E5  - -> E6 [[psysml:b67ea915-0e8a-4542-80c4-8f1f8e1002d6 ]] : [x == 0]\r\n",
       "E8  - -> E3 [[psysml:7eebbea4-be3a-4ef1-ac68-fab402045136 ]] : [x > 0]\r\n",
       "@enduml\r\n",
       "\n",
       "PlantUML version 1.2020.13(Sat Jun 13 12:26:38 UTC 2020)\n",
       "(EPL source distribution)\n",
       "Java Runtime: OpenJDK Runtime Environment\n",
       "JVM: OpenJDK 64-Bit Server VM\n",
       "Default Encoding: UTF-8\n",
       "Language: en\n",
       "Country: null\n",
       "--></g></svg>"
      ]
     },
     "execution_count": 15,
     "metadata": {},
     "output_type": "execute_result"
    }
   ],
   "source": [
    "%viz --style=\"POLYLINE\" --view=\"MIXED\" \"DecisionTest\""
   ]
  },
  {
   "cell_type": "code",
   "execution_count": 16,
   "id": "5ce2e168",
   "metadata": {
    "execution": {
     "iopub.execute_input": "2021-04-20T07:01:20.039594Z",
     "iopub.status.busy": "2021-04-20T07:01:20.038824Z",
     "iopub.status.idle": "2021-04-20T07:01:20.101016Z",
     "shell.execute_reply": "2021-04-20T07:01:20.090241Z"
    }
   },
   "outputs": [
    {
     "data": {
      "image/svg+xml": [
       "<?xml version=\"1.0\" encoding=\"UTF-8\" standalone=\"no\"?><svg xmlns=\"http://www.w3.org/2000/svg\" xmlns:xlink=\"http://www.w3.org/1999/xlink\" contentScriptType=\"application/ecmascript\" contentStyleType=\"text/css\" height=\"277px\" preserveAspectRatio=\"none\" style=\"width:797px;height:277px;\" version=\"1.1\" viewBox=\"0 0 797 277\" width=\"797px\" zoomAndPan=\"magnify\"><defs/><g><!--MD5=[fbc87193dbaf4d95561dea2c320d4a47]\n",
       "cluster E1--><a href=\"psysml:704d58b1-847a-4b5f-8ef4-b4da5c2432eb\" target=\"_top\" title=\"psysml:704d58b1-847a-4b5f-8ef4-b4da5c2432eb\" xlink:actuate=\"onRequest\" xlink:href=\"psysml:704d58b1-847a-4b5f-8ef4-b4da5c2432eb\" xlink:show=\"new\" xlink:title=\"psysml:704d58b1-847a-4b5f-8ef4-b4da5c2432eb\" xlink:type=\"simple\"><rect fill=\"#FFFFFF\" height=\"259\" id=\"E1\" style=\"stroke: #383838; stroke-width: 1.5;\" width=\"754.72\" x=\"7\" y=\"7\"/><rect fill=\"#F8F8F8\" height=\"37.9375\" style=\"stroke: #383838; stroke-width: 1.5;\" width=\"754.72\" x=\"7\" y=\"7\"/><text fill=\"#000000\" font-family=\"sans-serif\" font-size=\"12\" font-style=\"italic\" lengthAdjust=\"spacingAndGlyphs\" textLength=\"77\" x=\"345.86\" y=\"23.1387\">«action def»</text><text fill=\"#000000\" font-family=\"sans-serif\" font-size=\"12\" lengthAdjust=\"spacingAndGlyphs\" textLength=\"80\" x=\"344.36\" y=\"37.1074\">DecisionTest</text></a><text fill=\"#000000\" font-family=\"sans-serif\" font-size=\"14\" lengthAdjust=\"spacingAndGlyphs\" textLength=\"48\" x=\"737.72\" y=\"115.6982\">$result</text><rect fill=\"#383838\" height=\"12\" style=\"stroke: #F8F8F8; stroke-width: 1.5;\" width=\"12\" x=\"755.72\" y=\"131\"/><polygon fill=\"#F8F8F8\" points=\"82,94,94,106,82,118,70,106,82,94\" style=\"stroke: #383838; stroke-width: 1.5;\"/><polygon fill=\"#F8F8F8\" points=\"291,226,303,238,291,250,279,238,291,226\" style=\"stroke: #383838; stroke-width: 1.5;\"/><g id=\"E1.E5\"><a href=\"psysml:f4b16115-f2df-4145-8494-1e5aced0fe90\" target=\"_top\" title=\"psysml:f4b16115-f2df-4145-8494-1e5aced0fe90\" xlink:actuate=\"onRequest\" xlink:href=\"psysml:f4b16115-f2df-4145-8494-1e5aced0fe90\" xlink:show=\"new\" xlink:title=\"psysml:f4b16115-f2df-4145-8494-1e5aced0fe90\" xlink:type=\"simple\"><rect fill=\"#FFFFFF\" height=\"42.9375\" id=\"E5\" rx=\"10\" ry=\"10\" style=\"stroke: #383838; stroke-width: 1.5;\" width=\"60\" x=\"427\" y=\"119.5\"/><rect fill=\"#F8F8F8\" height=\"37.9375\" rx=\"10\" ry=\"10\" style=\"stroke: #F8F8F8; stroke-width: 1.5;\" width=\"60\" x=\"427\" y=\"119.5\"/><rect fill=\"#F8F8F8\" height=\"10\" style=\"stroke: #F8F8F8; stroke-width: 1.5;\" width=\"60\" x=\"427\" y=\"147.4375\"/><rect fill=\"none\" height=\"42.9375\" id=\"E5\" rx=\"10\" ry=\"10\" style=\"stroke: #383838; stroke-width: 1.5;\" width=\"60\" x=\"427\" y=\"119.5\"/><text fill=\"#000000\" font-family=\"sans-serif\" font-size=\"12\" font-style=\"italic\" lengthAdjust=\"spacingAndGlyphs\" textLength=\"53\" x=\"430.5\" y=\"135.6387\">«action»</text><text fill=\"#000000\" font-family=\"sans-serif\" font-size=\"12\" lengthAdjust=\"spacingAndGlyphs\" textLength=\"16\" x=\"449\" y=\"149.6074\">A1</text></a></g><g id=\"E1.E6\"><a href=\"psysml:ffb4dce0-5cb8-4add-9e67-ebd1f2f3deb3\" target=\"_top\" title=\"psysml:ffb4dce0-5cb8-4add-9e67-ebd1f2f3deb3\" xlink:actuate=\"onRequest\" xlink:href=\"psysml:ffb4dce0-5cb8-4add-9e67-ebd1f2f3deb3\" xlink:show=\"new\" xlink:title=\"psysml:ffb4dce0-5cb8-4add-9e67-ebd1f2f3deb3\" xlink:type=\"simple\"><rect fill=\"#FFFFFF\" height=\"42.9375\" id=\"E6\" rx=\"10\" ry=\"10\" style=\"stroke: #383838; stroke-width: 1.5;\" width=\"60\" x=\"604\" y=\"119.5\"/><rect fill=\"#F8F8F8\" height=\"37.9375\" rx=\"10\" ry=\"10\" style=\"stroke: #F8F8F8; stroke-width: 1.5;\" width=\"60\" x=\"604\" y=\"119.5\"/><rect fill=\"#F8F8F8\" height=\"10\" style=\"stroke: #F8F8F8; stroke-width: 1.5;\" width=\"60\" x=\"604\" y=\"147.4375\"/><rect fill=\"none\" height=\"42.9375\" id=\"E6\" rx=\"10\" ry=\"10\" style=\"stroke: #383838; stroke-width: 1.5;\" width=\"60\" x=\"604\" y=\"119.5\"/><text fill=\"#000000\" font-family=\"sans-serif\" font-size=\"12\" font-style=\"italic\" lengthAdjust=\"spacingAndGlyphs\" textLength=\"53\" x=\"607.5\" y=\"135.6387\">«action»</text><text fill=\"#000000\" font-family=\"sans-serif\" font-size=\"12\" lengthAdjust=\"spacingAndGlyphs\" textLength=\"16\" x=\"626\" y=\"149.6074\">A2</text></a></g><g id=\"E1.E7\"><a href=\"psysml:dc91d98e-27d3-4fe3-8c05-9cedeab5907b\" target=\"_top\" title=\"psysml:dc91d98e-27d3-4fe3-8c05-9cedeab5907b\" xlink:actuate=\"onRequest\" xlink:href=\"psysml:dc91d98e-27d3-4fe3-8c05-9cedeab5907b\" xlink:show=\"new\" xlink:title=\"psysml:dc91d98e-27d3-4fe3-8c05-9cedeab5907b\" xlink:type=\"simple\"><rect fill=\"#FFFFFF\" height=\"42.9375\" id=\"E7\" rx=\"10\" ry=\"10\" style=\"stroke: #383838; stroke-width: 1.5;\" width=\"60\" x=\"171\" y=\"175.5\"/><rect fill=\"#F8F8F8\" height=\"37.9375\" rx=\"10\" ry=\"10\" style=\"stroke: #F8F8F8; stroke-width: 1.5;\" width=\"60\" x=\"171\" y=\"175.5\"/><rect fill=\"#F8F8F8\" height=\"10\" style=\"stroke: #F8F8F8; stroke-width: 1.5;\" width=\"60\" x=\"171\" y=\"203.4375\"/><rect fill=\"none\" height=\"42.9375\" id=\"E7\" rx=\"10\" ry=\"10\" style=\"stroke: #383838; stroke-width: 1.5;\" width=\"60\" x=\"171\" y=\"175.5\"/><text fill=\"#000000\" font-family=\"sans-serif\" font-size=\"12\" font-style=\"italic\" lengthAdjust=\"spacingAndGlyphs\" textLength=\"53\" x=\"174.5\" y=\"191.6387\">«action»</text><text fill=\"#000000\" font-family=\"sans-serif\" font-size=\"12\" lengthAdjust=\"spacingAndGlyphs\" textLength=\"16\" x=\"193\" y=\"205.6074\">A3</text></a></g><g id=\"E1.E8\"><a href=\"psysml:dc91d98e-27d3-4fe3-8c05-9cedeab5907b\" target=\"_top\" title=\"psysml:dc91d98e-27d3-4fe3-8c05-9cedeab5907b\" xlink:actuate=\"onRequest\" xlink:href=\"psysml:dc91d98e-27d3-4fe3-8c05-9cedeab5907b\" xlink:show=\"new\" xlink:title=\"psysml:dc91d98e-27d3-4fe3-8c05-9cedeab5907b\" xlink:type=\"simple\"><rect fill=\"#FFFFFF\" height=\"42.9375\" id=\"E8\" rx=\"10\" ry=\"10\" style=\"stroke: #383838; stroke-width: 1.5;\" width=\"60\" x=\"261\" y=\"23.5\"/><rect fill=\"#F8F8F8\" height=\"37.9375\" rx=\"10\" ry=\"10\" style=\"stroke: #F8F8F8; stroke-width: 1.5;\" width=\"60\" x=\"261\" y=\"23.5\"/><rect fill=\"#F8F8F8\" height=\"10\" style=\"stroke: #F8F8F8; stroke-width: 1.5;\" width=\"60\" x=\"261\" y=\"51.4375\"/><rect fill=\"none\" height=\"42.9375\" id=\"E8\" rx=\"10\" ry=\"10\" style=\"stroke: #383838; stroke-width: 1.5;\" width=\"60\" x=\"261\" y=\"23.5\"/><text fill=\"#000000\" font-family=\"sans-serif\" font-size=\"12\" font-style=\"italic\" lengthAdjust=\"spacingAndGlyphs\" textLength=\"53\" x=\"264.5\" y=\"39.6387\">«action»</text><text fill=\"#000000\" font-family=\"sans-serif\" font-size=\"12\" lengthAdjust=\"spacingAndGlyphs\" textLength=\"16\" x=\"283\" y=\"53.6074\">A3</text></a></g><!--MD5=[0188b64bb0ae78505a997a81836e11e9]\n",
       "link E3 to E5--><a href=\"psysml:f0c1a87b-40f9-41dd-914f-8704a756a2ee\" target=\"_top\" title=\"psysml:f0c1a87b-40f9-41dd-914f-8704a756a2ee\" xlink:actuate=\"onRequest\" xlink:href=\"psysml:f0c1a87b-40f9-41dd-914f-8704a756a2ee\" xlink:show=\"new\" xlink:title=\"psysml:f0c1a87b-40f9-41dd-914f-8704a756a2ee\" xlink:type=\"simple\"><path d=\"M92.63,107.42 C119.32,111.32 196.53,122.33 261,129 C300.91,133.13 310.96,133.49 351,136 C374.51,137.47 401,138.73 421.49,139.62 \" fill=\"none\" id=\"E3-&gt;E5\" style=\"stroke: #383838; stroke-width: 1.0;\"/><polygon fill=\"#383838\" points=\"426.57,139.84,417.7495,135.4583,421.5746,139.6259,417.407,143.451,426.57,139.84\" style=\"stroke: #383838; stroke-width: 1.0;\"/><text fill=\"#000000\" font-family=\"sans-serif\" font-size=\"13\" lengthAdjust=\"spacingAndGlyphs\" textLength=\"55\" x=\"263.5\" y=\"125.0669\">[x == 1]</text></a><!--MD5=[ec9844e0c75763426927cad3229d1081]\n",
       "link E3 to E6--><a href=\"psysml:534d6032-2416-43d2-b21b-3e106f4a7f5b\" target=\"_top\" title=\"psysml:534d6032-2416-43d2-b21b-3e106f4a7f5b\" xlink:actuate=\"onRequest\" xlink:href=\"psysml:534d6032-2416-43d2-b21b-3e106f4a7f5b\" xlink:show=\"new\" xlink:title=\"psysml:534d6032-2416-43d2-b21b-3e106f4a7f5b\" xlink:type=\"simple\"><path d=\"M93.32,105.22 C139.39,101.88 330.73,89.51 487,102 C526.04,105.12 536.36,105.17 574,116 C582.23,118.37 590.85,121.58 598.88,124.9 \" fill=\"none\" id=\"E3-&gt;E6\" style=\"stroke: #383838; stroke-width: 1.0;\"/><polygon fill=\"#383838\" points=\"603.79,126.98,597.0555,119.7935,599.184,125.0346,593.9428,127.1631,603.79,126.98\" style=\"stroke: #383838; stroke-width: 1.0;\"/><text fill=\"#000000\" font-family=\"sans-serif\" font-size=\"13\" lengthAdjust=\"spacingAndGlyphs\" textLength=\"44\" x=\"352\" y=\"93.0669\">[x &gt; 1]</text></a><!--MD5=[ca5a752d6098d8a44b3f88316e7452d1]\n",
       "link E3 to E8--><a href=\"psysml:e6958018-0280-470d-866d-790aaedd3d9a\" target=\"_top\" title=\"psysml:e6958018-0280-470d-866d-790aaedd3d9a\" xlink:actuate=\"onRequest\" xlink:href=\"psysml:e6958018-0280-470d-866d-790aaedd3d9a\" xlink:show=\"new\" xlink:title=\"psysml:e6958018-0280-470d-866d-790aaedd3d9a\" xlink:type=\"simple\"><path d=\"M93.49,105.27 C125.14,103.04 218.3,96.1 231,91 C243.02,86.18 254.64,78.13 264.33,70.1 \" fill=\"none\" id=\"E3-&gt;E8\" style=\"stroke: #383838; stroke-width: 1.0;\"/><polygon fill=\"#383838\" points=\"268.36,66.67,258.9123,69.4521,264.5507,69.9087,264.0941,75.5471,268.36,66.67\" style=\"stroke: #383838; stroke-width: 1.0;\"/></a><!--MD5=[95fa686b5a16158bcdbcaeead89f639b]\n",
       "link E8 to E3--><a href=\"psysml:7eebbea4-be3a-4ef1-ac68-fab402045136\" target=\"_top\" title=\"psysml:7eebbea4-be3a-4ef1-ac68-fab402045136\" xlink:actuate=\"onRequest\" xlink:href=\"psysml:7eebbea4-be3a-4ef1-ac68-fab402045136\" xlink:show=\"new\" xlink:title=\"psysml:7eebbea4-be3a-4ef1-ac68-fab402045136\" xlink:type=\"simple\"><path d=\"M260.77,53.61 C215.33,67 129.54,92.28 96.47,102.03 \" fill=\"none\" id=\"E8-&gt;E3\" style=\"stroke: #383838; stroke-width: 1.0;\"/><polygon fill=\"#383838\" points=\"91.63,103.46,101.3936,104.7532,96.4261,102.0469,99.1325,97.0794,91.63,103.46\" style=\"stroke: #383838; stroke-width: 1.0;\"/><text fill=\"#000000\" font-family=\"sans-serif\" font-size=\"13\" lengthAdjust=\"spacingAndGlyphs\" textLength=\"44\" x=\"179\" y=\"60.0669\">[x &gt; 0]</text></a><!--MD5=[af87c684e3b0d8be13c1a698a818ef1e]\n",
       "link E3 to E4--><a href=\"psysml:b2a8f402-8a6f-47b5-a176-34e34a53fa41\" target=\"_top\" title=\"psysml:b2a8f402-8a6f-47b5-a176-34e34a53fa41\" xlink:actuate=\"onRequest\" xlink:href=\"psysml:b2a8f402-8a6f-47b5-a176-34e34a53fa41\" xlink:show=\"new\" xlink:title=\"psysml:b2a8f402-8a6f-47b5-a176-34e34a53fa41\" xlink:type=\"simple\"><path d=\"M86.04,114.02 C95.02,136.5 123.81,200.16 171,227 C204.39,245.99 251.73,243.27 275.38,240.3 \" fill=\"none\" id=\"E3-&gt;E4\" style=\"stroke: #383838; stroke-width: 1.0;\"/><polygon fill=\"#383838\" points=\"280.59,239.6,271.1346,236.8442,275.6352,240.2711,272.2083,244.7718,280.59,239.6\" style=\"stroke: #383838; stroke-width: 1.0;\"/></a><!--MD5=[1b7591eae5389033d8d09a9d6721a717]\n",
       "link E4 to E5--><a href=\"psysml:d4e4cf4f-ca71-4ae2-aa8b-453c4e696e69\" target=\"_top\" title=\"psysml:d4e4cf4f-ca71-4ae2-aa8b-453c4e696e69\" xlink:actuate=\"onRequest\" xlink:href=\"psysml:d4e4cf4f-ca71-4ae2-aa8b-453c4e696e69\" xlink:show=\"new\" xlink:title=\"psysml:d4e4cf4f-ca71-4ae2-aa8b-453c4e696e69\" xlink:type=\"simple\"><path d=\"M299.5,234.12 C316.88,225.07 361.19,201.68 397,180 C405.33,174.96 414.16,169.29 422.39,163.88 \" fill=\"none\" id=\"E4-&gt;E5\" style=\"stroke: #383838; stroke-width: 1.0;\"/><polygon fill=\"#383838\" points=\"426.88,160.91,417.1688,162.551,422.7132,163.6736,421.5905,169.2179,426.88,160.91\" style=\"stroke: #383838; stroke-width: 1.0;\"/><text fill=\"#000000\" font-family=\"sans-serif\" font-size=\"13\" lengthAdjust=\"spacingAndGlyphs\" textLength=\"36\" x=\"356\" y=\"176.0669\">[true]</text></a><!--MD5=[79568f1e445c3877b6a54524624ccc7d]\n",
       "link E4 to E6--><a href=\"psysml:07d2ed15-614f-457b-995c-67ac116a921b\" target=\"_top\" title=\"psysml:07d2ed15-614f-457b-995c-67ac116a921b\" xlink:actuate=\"onRequest\" xlink:href=\"psysml:07d2ed15-614f-457b-995c-67ac116a921b\" xlink:show=\"new\" xlink:title=\"psysml:07d2ed15-614f-457b-995c-67ac116a921b\" xlink:type=\"simple\"><path d=\"M301.88,236.49 C330.74,231.97 417.32,217.55 487,197 C526.14,185.46 569.65,168.17 598.9,155.85 \" fill=\"none\" id=\"E4-&gt;E6\" style=\"stroke: #383838; stroke-width: 1.0;\"/><polygon fill=\"#383838\" points=\"603.83,153.77,593.9831,153.576,599.2218,155.7103,597.0875,160.9491,603.83,153.77\" style=\"stroke: #383838; stroke-width: 1.0;\"/><text fill=\"#000000\" font-family=\"sans-serif\" font-size=\"13\" lengthAdjust=\"spacingAndGlyphs\" textLength=\"40\" x=\"437\" y=\"193.0669\">[false]</text></a><!--MD5=[9120cf2e5df3bff93db8f754bbbc09b4]\n",
       "link E5 to E6--><a href=\"psysml:b67ea915-0e8a-4542-80c4-8f1f8e1002d6\" target=\"_top\" title=\"psysml:b67ea915-0e8a-4542-80c4-8f1f8e1002d6\" xlink:actuate=\"onRequest\" xlink:href=\"psysml:b67ea915-0e8a-4542-80c4-8f1f8e1002d6\" xlink:show=\"new\" xlink:title=\"psysml:b67ea915-0e8a-4542-80c4-8f1f8e1002d6\" xlink:type=\"simple\"><path d=\"M487.29,141 C518.05,141 566.36,141 598.83,141 \" fill=\"none\" id=\"E5-&gt;E6\" style=\"stroke: #383838; stroke-width: 1.0;\"/><polygon fill=\"#383838\" points=\"603.91,141,594.91,137,598.91,141,594.91,145,603.91,141\" style=\"stroke: #383838; stroke-width: 1.0;\"/><text fill=\"#000000\" font-family=\"sans-serif\" font-size=\"13\" lengthAdjust=\"spacingAndGlyphs\" textLength=\"55\" x=\"518\" y=\"137.0669\">[x == 0]</text></a><!--MD5=[be42317be300c23f00eea6bef46b878f]\n",
       "@startuml\r\n",
       "left to right direction\r\n",
       "skinparam monochrome true\r\n",
       "skinparam classbackgroundcolor white\r\n",
       "skinparam shadowing false\r\n",
       "skinparam wrapWidth 300\r\n",
       "hide circle\r\n",
       "\r\n",
       "rec def \"DecisionTest\" as E1  <<(T,blue)action def>> [[psysml:704d58b1-847a-4b5f-8ef4-b4da5c2432eb ]] {\r\n",
       "portout \"$result\" as E2  [[psysml:d3db88a9-d6e2-4728-bacb-cdc83b04fb60 ]] \r\n",
       "choice \"test x\" as E3  [[psysml:07816a00-a6c6-49d5-84be-841a1e7e2f6a ]] \r\n",
       "choice \"noname\" as E4  [[psysml:26311404-6ce6-4dcd-89ed-d43ec51ac22a ]] \r\n",
       "rec usage \"A1\" as E5  <<(T,blue)action>> [[psysml:f4b16115-f2df-4145-8494-1e5aced0fe90 ]] {\r\n",
       "}\r\n",
       "\r\n",
       "rec usage \"A2\" as E6  <<(T,blue)action>> [[psysml:ffb4dce0-5cb8-4add-9e67-ebd1f2f3deb3 ]] {\r\n",
       "}\r\n",
       "\r\n",
       "rec usage \"A3\" as E7  <<(T,blue)action>> [[psysml:dc91d98e-27d3-4fe3-8c05-9cedeab5907b ]] {\r\n",
       "}\r\n",
       "\r\n",
       "rec usage \"A3\" as E8  <<(T,blue)action>> [[psysml:dc91d98e-27d3-4fe3-8c05-9cedeab5907b ]] {\r\n",
       "}\r\n",
       "\r\n",
       "}\r\n",
       "\r\n",
       "E3  - -> E5 [[psysml:f0c1a87b-40f9-41dd-914f-8704a756a2ee ]] : [x == 1]\r\n",
       "E3  - -> E6 [[psysml:534d6032-2416-43d2-b21b-3e106f4a7f5b ]] : [x > 1]\r\n",
       "E3  - -> E8 [[psysml:e6958018-0280-470d-866d-790aaedd3d9a ]] \r\n",
       "E3 - -> E4 [[psysml:b2a8f402-8a6f-47b5-a176-34e34a53fa41 ]] \r\n",
       "E4  - -> E5 [[psysml:d4e4cf4f-ca71-4ae2-aa8b-453c4e696e69 ]] : [true]\r\n",
       "E4  - -> E6 [[psysml:07d2ed15-614f-457b-995c-67ac116a921b ]] : [false]\r\n",
       "E5  - -> E6 [[psysml:b67ea915-0e8a-4542-80c4-8f1f8e1002d6 ]] : [x == 0]\r\n",
       "E8  - -> E3 [[psysml:7eebbea4-be3a-4ef1-ac68-fab402045136 ]] : [x > 0]\r\n",
       "@enduml\r\n",
       "\n",
       "PlantUML version 1.2020.13(Sat Jun 13 12:26:38 UTC 2020)\n",
       "(EPL source distribution)\n",
       "Java Runtime: OpenJDK Runtime Environment\n",
       "JVM: OpenJDK 64-Bit Server VM\n",
       "Default Encoding: UTF-8\n",
       "Language: en\n",
       "Country: null\n",
       "--></g></svg>"
      ]
     },
     "execution_count": 16,
     "metadata": {},
     "output_type": "execute_result"
    }
   ],
   "source": [
    "%viz --style=\"LR\" --view=\"Default\" \"DecisionTest\""
   ]
  },
  {
   "cell_type": "code",
   "execution_count": 17,
   "id": "064f238f",
   "metadata": {
    "execution": {
     "iopub.execute_input": "2021-04-20T07:01:20.154755Z",
     "iopub.status.busy": "2021-04-20T07:01:20.153513Z",
     "iopub.status.idle": "2021-04-20T07:01:20.246310Z",
     "shell.execute_reply": "2021-04-20T07:01:20.238587Z"
    }
   },
   "outputs": [
    {
     "data": {
      "image/svg+xml": [
       "<?xml version=\"1.0\" encoding=\"UTF-8\" standalone=\"no\"?><svg xmlns=\"http://www.w3.org/2000/svg\" xmlns:xlink=\"http://www.w3.org/1999/xlink\" contentScriptType=\"application/ecmascript\" contentStyleType=\"text/css\" height=\"207px\" preserveAspectRatio=\"none\" style=\"width:109px;height:207px;\" version=\"1.1\" viewBox=\"0 0 109 207\" width=\"109px\" zoomAndPan=\"magnify\"><defs/><g><!--MD5=[43c9051892ef23e1a46a86907403d788]\n",
       "class E1--><a href=\"psysml:704d58b1-847a-4b5f-8ef4-b4da5c2432eb\" target=\"_top\" title=\"psysml:704d58b1-847a-4b5f-8ef4-b4da5c2432eb\" xlink:actuate=\"onRequest\" xlink:href=\"psysml:704d58b1-847a-4b5f-8ef4-b4da5c2432eb\" xlink:show=\"new\" xlink:title=\"psysml:704d58b1-847a-4b5f-8ef4-b4da5c2432eb\" xlink:type=\"simple\"><rect fill=\"#FFFFFF\" height=\"189.9844\" id=\"E1\" style=\"stroke: #383838; stroke-width: 1.5;\" width=\"91\" x=\"7\" y=\"7\"/><text fill=\"#000000\" font-family=\"sans-serif\" font-size=\"12\" font-style=\"italic\" lengthAdjust=\"spacingAndGlyphs\" textLength=\"77\" x=\"14\" y=\"23.1387\">«action def»</text><text fill=\"#000000\" font-family=\"sans-serif\" font-size=\"12\" lengthAdjust=\"spacingAndGlyphs\" textLength=\"80\" x=\"12.5\" y=\"37.1074\">DecisionTest</text><line style=\"stroke: #383838; stroke-width: 1.5;\" x1=\"8\" x2=\"97\" y1=\"44.9375\" y2=\"44.9375\"/><text fill=\"#000000\" font-family=\"sans-serif\" font-size=\"11\" lengthAdjust=\"spacingAndGlyphs\" textLength=\"26\" x=\"13\" y=\"75.9526\">x=1;</text><line style=\"stroke: #383838; stroke-width: 1.0;\" x1=\"8\" x2=\"25\" y1=\"59.3398\" y2=\"59.3398\"/><text fill=\"#000000\" font-family=\"sans-serif\" font-size=\"11\" lengthAdjust=\"spacingAndGlyphs\" textLength=\"55\" x=\"25\" y=\"62.6479\">attributes</text><line style=\"stroke: #383838; stroke-width: 1.0;\" x1=\"80\" x2=\"97\" y1=\"59.3398\" y2=\"59.3398\"/><text fill=\"#000000\" font-family=\"sans-serif\" font-size=\"11\" lengthAdjust=\"spacingAndGlyphs\" textLength=\"14\" x=\"13\" y=\"105.562\">A1</text><text fill=\"#000000\" font-family=\"sans-serif\" font-size=\"11\" lengthAdjust=\"spacingAndGlyphs\" textLength=\"14\" x=\"13\" y=\"118.3667\">A2</text><text fill=\"#000000\" font-family=\"sans-serif\" font-size=\"11\" lengthAdjust=\"spacingAndGlyphs\" textLength=\"14\" x=\"13\" y=\"131.1714\">A3</text><line style=\"stroke: #383838; stroke-width: 1.0;\" x1=\"8\" x2=\"32\" y1=\"88.9492\" y2=\"88.9492\"/><text fill=\"#000000\" font-family=\"sans-serif\" font-size=\"11\" lengthAdjust=\"spacingAndGlyphs\" textLength=\"41\" x=\"32\" y=\"92.2573\">actions</text><line style=\"stroke: #383838; stroke-width: 1.0;\" x1=\"73\" x2=\"97\" y1=\"88.9492\" y2=\"88.9492\"/><text fill=\"#000000\" font-family=\"sans-serif\" font-size=\"11\" lengthAdjust=\"spacingAndGlyphs\" textLength=\"32\" x=\"13\" y=\"160.7808\">test x</text><line style=\"stroke: #383838; stroke-width: 1.0;\" x1=\"8\" x2=\"11\" y1=\"144.168\" y2=\"144.168\"/><text fill=\"#000000\" font-family=\"sans-serif\" font-size=\"11\" lengthAdjust=\"spacingAndGlyphs\" textLength=\"83\" x=\"11\" y=\"147.4761\">decisionNodes</text><line style=\"stroke: #383838; stroke-width: 1.0;\" x1=\"94\" x2=\"97\" y1=\"144.168\" y2=\"144.168\"/><text fill=\"#000000\" font-family=\"sans-serif\" font-size=\"11\" lengthAdjust=\"spacingAndGlyphs\" textLength=\"8\" x=\"13\" y=\"190.3901\">S</text><line style=\"stroke: #383838; stroke-width: 1.0;\" x1=\"8\" x2=\"22\" y1=\"173.7773\" y2=\"173.7773\"/><text fill=\"#000000\" font-family=\"sans-serif\" font-size=\"11\" lengthAdjust=\"spacingAndGlyphs\" textLength=\"61\" x=\"22\" y=\"177.0854\">transitions</text><line style=\"stroke: #383838; stroke-width: 1.0;\" x1=\"83\" x2=\"97\" y1=\"173.7773\" y2=\"173.7773\"/></a><!--MD5=[7441b11388d8e1e2412f1b1fe73ad034]\n",
       "@startuml\r\n",
       "left to right direction\r\n",
       "skinparam monochrome true\r\n",
       "skinparam classbackgroundcolor white\r\n",
       "skinparam shadowing false\r\n",
       "skinparam wrapWidth 300\r\n",
       "hide circle\r\n",
       "\r\n",
       "comp def \"DecisionTest\" as E1  <<(T,blue)action def>> [[psysml:704d58b1-847a-4b5f-8ef4-b4da5c2432eb ]] {\r\n",
       "- - attributes - -\r\n",
       "x=1; \r\n",
       "- - actions - -\r\n",
       "A1\r\n",
       "A2\r\n",
       "A3\r\n",
       "- - decisionNodes - -\r\n",
       "test x\r\n",
       "- - transitions - -\r\n",
       "S\r\n",
       "}\r\n",
       "@enduml\r\n",
       "\n",
       "PlantUML version 1.2020.13(Sat Jun 13 12:26:38 UTC 2020)\n",
       "(EPL source distribution)\n",
       "Java Runtime: OpenJDK Runtime Environment\n",
       "JVM: OpenJDK 64-Bit Server VM\n",
       "Default Encoding: UTF-8\n",
       "Language: en\n",
       "Country: null\n",
       "--></g></svg>"
      ]
     },
     "execution_count": 17,
     "metadata": {},
     "output_type": "execute_result"
    }
   ],
   "source": [
    "%viz --style=\"LR\" --view=\"Tree\" \"DecisionTest\""
   ]
  },
  {
   "cell_type": "code",
   "execution_count": 18,
   "id": "74158561",
   "metadata": {
    "execution": {
     "iopub.execute_input": "2021-04-20T07:01:20.300229Z",
     "iopub.status.busy": "2021-04-20T07:01:20.299272Z",
     "iopub.status.idle": "2021-04-20T07:01:20.307100Z",
     "shell.execute_reply": "2021-04-20T07:01:20.306509Z"
    }
   },
   "outputs": [
    {
     "data": {
      "image/svg+xml": [
       "<?xml version=\"1.0\" encoding=\"UTF-8\" standalone=\"no\"?><svg xmlns=\"http://www.w3.org/2000/svg\" xmlns:xlink=\"http://www.w3.org/1999/xlink\" contentScriptType=\"application/ecmascript\" contentStyleType=\"text/css\" height=\"12px\" preserveAspectRatio=\"none\" style=\"width:12px;height:12px;\" version=\"1.1\" viewBox=\"0 0 12 12\" width=\"12px\" zoomAndPan=\"magnify\"><defs/><g><!--MD5=[19d285c9d72a204eba4e2cd117d745e8]\n",
       "@startuml\r\n",
       "left to right direction\r\n",
       "skinparam monochrome true\r\n",
       "skinparam classbackgroundcolor white\r\n",
       "skinparam shadowing false\r\n",
       "skinparam wrapWidth 300\r\n",
       "hide circle\r\n",
       "\r\n",
       "@enduml\r\n",
       "\n",
       "PlantUML version 1.2020.13(Sat Jun 13 12:26:38 UTC 2020)\n",
       "(EPL source distribution)\n",
       "Java Runtime: OpenJDK Runtime Environment\n",
       "JVM: OpenJDK 64-Bit Server VM\n",
       "Default Encoding: UTF-8\n",
       "Language: en\n",
       "Country: null\n",
       "--></g></svg>"
      ]
     },
     "execution_count": 18,
     "metadata": {},
     "output_type": "execute_result"
    }
   ],
   "source": [
    "%viz --style=\"LR\" --view=\"State\" \"DecisionTest\""
   ]
  },
  {
   "cell_type": "code",
   "execution_count": 19,
   "id": "87f6333f",
   "metadata": {
    "execution": {
     "iopub.execute_input": "2021-04-20T07:01:20.358340Z",
     "iopub.status.busy": "2021-04-20T07:01:20.357749Z",
     "iopub.status.idle": "2021-04-20T07:01:20.400766Z",
     "shell.execute_reply": "2021-04-20T07:01:20.401041Z"
    }
   },
   "outputs": [
    {
     "data": {
      "image/svg+xml": [
       "<?xml version=\"1.0\" encoding=\"UTF-8\" standalone=\"no\"?><svg xmlns=\"http://www.w3.org/2000/svg\" xmlns:xlink=\"http://www.w3.org/1999/xlink\" contentScriptType=\"application/ecmascript\" contentStyleType=\"text/css\" height=\"277px\" preserveAspectRatio=\"none\" style=\"width:607px;height:277px;\" version=\"1.1\" viewBox=\"0 0 607 277\" width=\"607px\" zoomAndPan=\"magnify\"><defs/><g><!--MD5=[fbc87193dbaf4d95561dea2c320d4a47]\n",
       "cluster E1--><a href=\"psysml:704d58b1-847a-4b5f-8ef4-b4da5c2432eb\" target=\"_top\" title=\"psysml:704d58b1-847a-4b5f-8ef4-b4da5c2432eb\" xlink:actuate=\"onRequest\" xlink:href=\"psysml:704d58b1-847a-4b5f-8ef4-b4da5c2432eb\" xlink:show=\"new\" xlink:title=\"psysml:704d58b1-847a-4b5f-8ef4-b4da5c2432eb\" xlink:type=\"simple\"><rect fill=\"#FFFFFF\" height=\"259\" id=\"E1\" style=\"stroke: #383838; stroke-width: 1.5;\" width=\"564.72\" x=\"7\" y=\"7\"/><rect fill=\"#F8F8F8\" height=\"37.9375\" style=\"stroke: #383838; stroke-width: 1.5;\" width=\"564.72\" x=\"7\" y=\"7\"/><text fill=\"#000000\" font-family=\"sans-serif\" font-size=\"12\" font-style=\"italic\" lengthAdjust=\"spacingAndGlyphs\" textLength=\"77\" x=\"250.86\" y=\"23.1387\">«action def»</text><text fill=\"#000000\" font-family=\"sans-serif\" font-size=\"12\" lengthAdjust=\"spacingAndGlyphs\" textLength=\"80\" x=\"249.36\" y=\"37.1074\">DecisionTest</text></a><text fill=\"#000000\" font-family=\"sans-serif\" font-size=\"14\" lengthAdjust=\"spacingAndGlyphs\" textLength=\"48\" x=\"547.72\" y=\"115.6982\">$result</text><rect fill=\"#383838\" height=\"12\" style=\"stroke: #F8F8F8; stroke-width: 1.5;\" width=\"12\" x=\"565.72\" y=\"131\"/><polygon fill=\"#F8F8F8\" points=\"82,94,94,106,82,118,70,106,82,94\" style=\"stroke: #383838; stroke-width: 1.5;\"/><polygon fill=\"#F8F8F8\" points=\"247,226,259,238,247,250,235,238,247,226\" style=\"stroke: #383838; stroke-width: 1.5;\"/><g id=\"E1.E5\"><a href=\"psysml:f4b16115-f2df-4145-8494-1e5aced0fe90\" target=\"_top\" title=\"psysml:f4b16115-f2df-4145-8494-1e5aced0fe90\" xlink:actuate=\"onRequest\" xlink:href=\"psysml:f4b16115-f2df-4145-8494-1e5aced0fe90\" xlink:show=\"new\" xlink:title=\"psysml:f4b16115-f2df-4145-8494-1e5aced0fe90\" xlink:type=\"simple\"><rect fill=\"#FFFFFF\" height=\"42.9375\" id=\"E5\" rx=\"10\" ry=\"10\" style=\"stroke: #383838; stroke-width: 1.5;\" width=\"60\" x=\"339\" y=\"119.5\"/><rect fill=\"#F8F8F8\" height=\"37.9375\" rx=\"10\" ry=\"10\" style=\"stroke: #F8F8F8; stroke-width: 1.5;\" width=\"60\" x=\"339\" y=\"119.5\"/><rect fill=\"#F8F8F8\" height=\"10\" style=\"stroke: #F8F8F8; stroke-width: 1.5;\" width=\"60\" x=\"339\" y=\"147.4375\"/><rect fill=\"none\" height=\"42.9375\" id=\"E5\" rx=\"10\" ry=\"10\" style=\"stroke: #383838; stroke-width: 1.5;\" width=\"60\" x=\"339\" y=\"119.5\"/><text fill=\"#000000\" font-family=\"sans-serif\" font-size=\"12\" font-style=\"italic\" lengthAdjust=\"spacingAndGlyphs\" textLength=\"53\" x=\"342.5\" y=\"135.6387\">«action»</text><text fill=\"#000000\" font-family=\"sans-serif\" font-size=\"12\" lengthAdjust=\"spacingAndGlyphs\" textLength=\"16\" x=\"361\" y=\"149.6074\">A1</text></a></g><g id=\"E1.E6\"><a href=\"psysml:ffb4dce0-5cb8-4add-9e67-ebd1f2f3deb3\" target=\"_top\" title=\"psysml:ffb4dce0-5cb8-4add-9e67-ebd1f2f3deb3\" xlink:actuate=\"onRequest\" xlink:href=\"psysml:ffb4dce0-5cb8-4add-9e67-ebd1f2f3deb3\" xlink:show=\"new\" xlink:title=\"psysml:ffb4dce0-5cb8-4add-9e67-ebd1f2f3deb3\" xlink:type=\"simple\"><rect fill=\"#FFFFFF\" height=\"42.9375\" id=\"E6\" rx=\"10\" ry=\"10\" style=\"stroke: #383838; stroke-width: 1.5;\" width=\"60\" x=\"472\" y=\"119.5\"/><rect fill=\"#F8F8F8\" height=\"37.9375\" rx=\"10\" ry=\"10\" style=\"stroke: #F8F8F8; stroke-width: 1.5;\" width=\"60\" x=\"472\" y=\"119.5\"/><rect fill=\"#F8F8F8\" height=\"10\" style=\"stroke: #F8F8F8; stroke-width: 1.5;\" width=\"60\" x=\"472\" y=\"147.4375\"/><rect fill=\"none\" height=\"42.9375\" id=\"E6\" rx=\"10\" ry=\"10\" style=\"stroke: #383838; stroke-width: 1.5;\" width=\"60\" x=\"472\" y=\"119.5\"/><text fill=\"#000000\" font-family=\"sans-serif\" font-size=\"12\" font-style=\"italic\" lengthAdjust=\"spacingAndGlyphs\" textLength=\"53\" x=\"475.5\" y=\"135.6387\">«action»</text><text fill=\"#000000\" font-family=\"sans-serif\" font-size=\"12\" lengthAdjust=\"spacingAndGlyphs\" textLength=\"16\" x=\"494\" y=\"149.6074\">A2</text></a></g><g id=\"E1.E7\"><a href=\"psysml:dc91d98e-27d3-4fe3-8c05-9cedeab5907b\" target=\"_top\" title=\"psysml:dc91d98e-27d3-4fe3-8c05-9cedeab5907b\" xlink:actuate=\"onRequest\" xlink:href=\"psysml:dc91d98e-27d3-4fe3-8c05-9cedeab5907b\" xlink:show=\"new\" xlink:title=\"psysml:dc91d98e-27d3-4fe3-8c05-9cedeab5907b\" xlink:type=\"simple\"><rect fill=\"#FFFFFF\" height=\"42.9375\" id=\"E7\" rx=\"10\" ry=\"10\" style=\"stroke: #383838; stroke-width: 1.5;\" width=\"60\" x=\"149\" y=\"175.5\"/><rect fill=\"#F8F8F8\" height=\"37.9375\" rx=\"10\" ry=\"10\" style=\"stroke: #F8F8F8; stroke-width: 1.5;\" width=\"60\" x=\"149\" y=\"175.5\"/><rect fill=\"#F8F8F8\" height=\"10\" style=\"stroke: #F8F8F8; stroke-width: 1.5;\" width=\"60\" x=\"149\" y=\"203.4375\"/><rect fill=\"none\" height=\"42.9375\" id=\"E7\" rx=\"10\" ry=\"10\" style=\"stroke: #383838; stroke-width: 1.5;\" width=\"60\" x=\"149\" y=\"175.5\"/><text fill=\"#000000\" font-family=\"sans-serif\" font-size=\"12\" font-style=\"italic\" lengthAdjust=\"spacingAndGlyphs\" textLength=\"53\" x=\"152.5\" y=\"191.6387\">«action»</text><text fill=\"#000000\" font-family=\"sans-serif\" font-size=\"12\" lengthAdjust=\"spacingAndGlyphs\" textLength=\"16\" x=\"171\" y=\"205.6074\">A3</text></a></g><g id=\"E1.E8\"><a href=\"psysml:dc91d98e-27d3-4fe3-8c05-9cedeab5907b\" target=\"_top\" title=\"psysml:dc91d98e-27d3-4fe3-8c05-9cedeab5907b\" xlink:actuate=\"onRequest\" xlink:href=\"psysml:dc91d98e-27d3-4fe3-8c05-9cedeab5907b\" xlink:show=\"new\" xlink:title=\"psysml:dc91d98e-27d3-4fe3-8c05-9cedeab5907b\" xlink:type=\"simple\"><rect fill=\"#FFFFFF\" height=\"42.9375\" id=\"E8\" rx=\"10\" ry=\"10\" style=\"stroke: #383838; stroke-width: 1.5;\" width=\"60\" x=\"217\" y=\"23.5\"/><rect fill=\"#F8F8F8\" height=\"37.9375\" rx=\"10\" ry=\"10\" style=\"stroke: #F8F8F8; stroke-width: 1.5;\" width=\"60\" x=\"217\" y=\"23.5\"/><rect fill=\"#F8F8F8\" height=\"10\" style=\"stroke: #F8F8F8; stroke-width: 1.5;\" width=\"60\" x=\"217\" y=\"51.4375\"/><rect fill=\"none\" height=\"42.9375\" id=\"E8\" rx=\"10\" ry=\"10\" style=\"stroke: #383838; stroke-width: 1.5;\" width=\"60\" x=\"217\" y=\"23.5\"/><text fill=\"#000000\" font-family=\"sans-serif\" font-size=\"12\" font-style=\"italic\" lengthAdjust=\"spacingAndGlyphs\" textLength=\"53\" x=\"220.5\" y=\"39.6387\">«action»</text><text fill=\"#000000\" font-family=\"sans-serif\" font-size=\"12\" lengthAdjust=\"spacingAndGlyphs\" textLength=\"16\" x=\"239\" y=\"53.6074\">A3</text></a></g><!--MD5=[0188b64bb0ae78505a997a81836e11e9]\n",
       "link E3 to E5--><a href=\"psysml:f0c1a87b-40f9-41dd-914f-8704a756a2ee\" target=\"_top\" title=\"psysml:f0c1a87b-40f9-41dd-914f-8704a756a2ee\" xlink:actuate=\"onRequest\" xlink:href=\"psysml:f0c1a87b-40f9-41dd-914f-8704a756a2ee\" xlink:show=\"new\" xlink:title=\"psysml:f0c1a87b-40f9-41dd-914f-8704a756a2ee\" xlink:type=\"simple\"><path d=\"M92.39,107.84 C114.2,112.05 170,122.55 217,129 C247.1,133.13 254.72,133.53 285,136 C300.89,137.3 318.52,138.4 333.42,139.25 \" fill=\"none\" id=\"E3-&gt;E5\" style=\"stroke: #383838; stroke-width: 1.0;\"/><polygon fill=\"#383838\" points=\"338.79,139.54,330.0208,135.0567,333.7974,139.2682,329.5859,143.0448,338.79,139.54\" style=\"stroke: #383838; stroke-width: 1.0;\"/><text fill=\"#000000\" font-family=\"sans-serif\" font-size=\"13\" lengthAdjust=\"spacingAndGlyphs\" textLength=\"55\" x=\"219.5\" y=\"125.0669\">[x == 1]</text></a><!--MD5=[ec9844e0c75763426927cad3229d1081]\n",
       "link E3 to E6--><a href=\"psysml:534d6032-2416-43d2-b21b-3e106f4a7f5b\" target=\"_top\" title=\"psysml:534d6032-2416-43d2-b21b-3e106f4a7f5b\" xlink:actuate=\"onRequest\" xlink:href=\"psysml:534d6032-2416-43d2-b21b-3e106f4a7f5b\" xlink:show=\"new\" xlink:title=\"psysml:534d6032-2416-43d2-b21b-3e106f4a7f5b\" xlink:type=\"simple\"><path d=\"M93.71,105.52 C141.79,103.44 337.9,95.49 399,102 C428.39,105.13 436.82,104.41 464,116 C464.96,116.41 465.93,116.85 466.89,117.31 \" fill=\"none\" id=\"E3-&gt;E6\" style=\"stroke: #383838; stroke-width: 1.0;\"/><polygon fill=\"#383838\" points=\"471.68,119.77,465.5069,112.0958,467.2339,117.4826,461.8471,119.2096,471.68,119.77\" style=\"stroke: #383838; stroke-width: 1.0;\"/><text fill=\"#000000\" font-family=\"sans-serif\" font-size=\"13\" lengthAdjust=\"spacingAndGlyphs\" textLength=\"44\" x=\"286\" y=\"96.0669\">[x &gt; 1]</text></a><!--MD5=[ca5a752d6098d8a44b3f88316e7452d1]\n",
       "link E3 to E8--><a href=\"psysml:e6958018-0280-470d-866d-790aaedd3d9a\" target=\"_top\" title=\"psysml:e6958018-0280-470d-866d-790aaedd3d9a\" xlink:actuate=\"onRequest\" xlink:href=\"psysml:e6958018-0280-470d-866d-790aaedd3d9a\" xlink:show=\"new\" xlink:title=\"psysml:e6958018-0280-470d-866d-790aaedd3d9a\" xlink:type=\"simple\"><path d=\"M93.57,105.2 C122.06,102.98 198.98,96.55 209,91 C217.62,86.22 224.99,78.54 230.83,70.81 \" fill=\"none\" id=\"E3-&gt;E8\" style=\"stroke: #383838; stroke-width: 1.0;\"/><polygon fill=\"#383838\" points=\"233.91,66.53,225.4107,71.5061,230.993,70.5909,231.9081,76.1733,233.91,66.53\" style=\"stroke: #383838; stroke-width: 1.0;\"/></a><!--MD5=[95fa686b5a16158bcdbcaeead89f639b]\n",
       "link E8 to E3--><a href=\"psysml:7eebbea4-be3a-4ef1-ac68-fab402045136\" target=\"_top\" title=\"psysml:7eebbea4-be3a-4ef1-ac68-fab402045136\" xlink:actuate=\"onRequest\" xlink:href=\"psysml:7eebbea4-be3a-4ef1-ac68-fab402045136\" xlink:show=\"new\" xlink:title=\"psysml:7eebbea4-be3a-4ef1-ac68-fab402045136\" xlink:type=\"simple\"><path d=\"M216.62,58.8 C214.06,59.91 211.49,61 209,62 C168.64,78.27 119.69,94.35 96.47,101.76 \" fill=\"none\" id=\"E8-&gt;E3\" style=\"stroke: #383838; stroke-width: 1.0;\"/><polygon fill=\"#383838\" points=\"91.66,103.29,101.4493,104.3717,96.4244,101.7734,99.0227,96.7486,91.66,103.29\" style=\"stroke: #383838; stroke-width: 1.0;\"/><text fill=\"#000000\" font-family=\"sans-serif\" font-size=\"13\" lengthAdjust=\"spacingAndGlyphs\" textLength=\"44\" x=\"157\" y=\"58.0669\">[x &gt; 0]</text></a><!--MD5=[af87c684e3b0d8be13c1a698a818ef1e]\n",
       "link E3 to E4--><a href=\"psysml:b2a8f402-8a6f-47b5-a176-34e34a53fa41\" target=\"_top\" title=\"psysml:b2a8f402-8a6f-47b5-a176-34e34a53fa41\" xlink:actuate=\"onRequest\" xlink:href=\"psysml:b2a8f402-8a6f-47b5-a176-34e34a53fa41\" xlink:show=\"new\" xlink:title=\"psysml:b2a8f402-8a6f-47b5-a176-34e34a53fa41\" xlink:type=\"simple\"><path d=\"M84.97,115.23 C90.46,138.5 108.3,199.62 149,227 C174.04,243.85 211.18,242.58 231.47,240.25 \" fill=\"none\" id=\"E3-&gt;E4\" style=\"stroke: #383838; stroke-width: 1.0;\"/><polygon fill=\"#383838\" points=\"236.49,239.61,227.0583,236.7739,231.5297,240.239,228.0647,244.7104,236.49,239.61\" style=\"stroke: #383838; stroke-width: 1.0;\"/></a><!--MD5=[1b7591eae5389033d8d09a9d6721a717]\n",
       "link E4 to E5--><a href=\"psysml:d4e4cf4f-ca71-4ae2-aa8b-453c4e696e69\" target=\"_top\" title=\"psysml:d4e4cf4f-ca71-4ae2-aa8b-453c4e696e69\" xlink:actuate=\"onRequest\" xlink:href=\"psysml:d4e4cf4f-ca71-4ae2-aa8b-453c4e696e69\" xlink:show=\"new\" xlink:title=\"psysml:d4e4cf4f-ca71-4ae2-aa8b-453c4e696e69\" xlink:type=\"simple\"><path d=\"M255.24,233.64 C270.11,224.54 304.89,202.48 331,180 C335.75,175.91 340.56,171.28 345.06,166.67 \" fill=\"none\" id=\"E4-&gt;E5\" style=\"stroke: #383838; stroke-width: 1.0;\"/><polygon fill=\"#383838\" points=\"348.77,162.83,339.6434,166.5321,345.2993,166.4292,345.4022,172.0851,348.77,162.83\" style=\"stroke: #383838; stroke-width: 1.0;\"/><text fill=\"#000000\" font-family=\"sans-serif\" font-size=\"13\" lengthAdjust=\"spacingAndGlyphs\" textLength=\"36\" x=\"290\" y=\"176.0669\">[true]</text></a><!--MD5=[79568f1e445c3877b6a54524624ccc7d]\n",
       "link E4 to E6--><a href=\"psysml:07d2ed15-614f-457b-995c-67ac116a921b\" target=\"_top\" title=\"psysml:07d2ed15-614f-457b-995c-67ac116a921b\" xlink:actuate=\"onRequest\" xlink:href=\"psysml:07d2ed15-614f-457b-995c-67ac116a921b\" xlink:show=\"new\" xlink:title=\"psysml:07d2ed15-614f-457b-995c-67ac116a921b\" xlink:type=\"simple\"><path d=\"M257.44,236.25 C281.6,231.6 347.36,217.84 399,197 C422.69,187.44 447.86,173.66 467.27,162.17 \" fill=\"none\" id=\"E4-&gt;E6\" style=\"stroke: #383838; stroke-width: 1.0;\"/><polygon fill=\"#383838\" points=\"471.57,159.6,461.7917,160.7765,467.2762,162.1619,465.8908,167.6465,471.57,159.6\" style=\"stroke: #383838; stroke-width: 1.0;\"/><text fill=\"#000000\" font-family=\"sans-serif\" font-size=\"13\" lengthAdjust=\"spacingAndGlyphs\" textLength=\"40\" x=\"349\" y=\"193.0669\">[false]</text></a><!--MD5=[9120cf2e5df3bff93db8f754bbbc09b4]\n",
       "link E5 to E6--><a href=\"psysml:b67ea915-0e8a-4542-80c4-8f1f8e1002d6\" target=\"_top\" title=\"psysml:b67ea915-0e8a-4542-80c4-8f1f8e1002d6\" xlink:actuate=\"onRequest\" xlink:href=\"psysml:b67ea915-0e8a-4542-80c4-8f1f8e1002d6\" xlink:show=\"new\" xlink:title=\"psysml:b67ea915-0e8a-4542-80c4-8f1f8e1002d6\" xlink:type=\"simple\"><path d=\"M399.07,141 C418.95,141 445.38,141 466.35,141 \" fill=\"none\" id=\"E5-&gt;E6\" style=\"stroke: #383838; stroke-width: 1.0;\"/><polygon fill=\"#383838\" points=\"471.56,141,462.56,137,466.56,141,462.56,145,471.56,141\" style=\"stroke: #383838; stroke-width: 1.0;\"/><text fill=\"#000000\" font-family=\"sans-serif\" font-size=\"13\" lengthAdjust=\"spacingAndGlyphs\" textLength=\"55\" x=\"408\" y=\"137.0669\">[x == 0]</text></a><!--MD5=[64818237e00b2131af4f1482f75691e6]\n",
       "@startuml\r\n",
       "skinparam ranksep 10\r\n",
       "skinparam rectangle {\r\n",
       " backgroundColor<<block>> LightGreen\r\n",
       "}\r\n",
       "left to right direction\r\n",
       "skinparam monochrome true\r\n",
       "skinparam classbackgroundcolor white\r\n",
       "skinparam shadowing false\r\n",
       "skinparam wrapWidth 300\r\n",
       "hide circle\r\n",
       "\r\n",
       "rec def \"DecisionTest\" as E1  <<(T,blue)action def>> [[psysml:704d58b1-847a-4b5f-8ef4-b4da5c2432eb ]] {\r\n",
       "portout \"$result\" as E2  [[psysml:d3db88a9-d6e2-4728-bacb-cdc83b04fb60 ]] \r\n",
       "choice \"test x\" as E3  [[psysml:07816a00-a6c6-49d5-84be-841a1e7e2f6a ]] \r\n",
       "choice \"noname\" as E4  [[psysml:26311404-6ce6-4dcd-89ed-d43ec51ac22a ]] \r\n",
       "rec usage \"A1\" as E5  <<(T,blue)action>> [[psysml:f4b16115-f2df-4145-8494-1e5aced0fe90 ]] {\r\n",
       "}\r\n",
       "\r\n",
       "rec usage \"A2\" as E6  <<(T,blue)action>> [[psysml:ffb4dce0-5cb8-4add-9e67-ebd1f2f3deb3 ]] {\r\n",
       "}\r\n",
       "\r\n",
       "rec usage \"A3\" as E7  <<(T,blue)action>> [[psysml:dc91d98e-27d3-4fe3-8c05-9cedeab5907b ]] {\r\n",
       "}\r\n",
       "\r\n",
       "rec usage \"A3\" as E8  <<(T,blue)action>> [[psysml:dc91d98e-27d3-4fe3-8c05-9cedeab5907b ]] {\r\n",
       "}\r\n",
       "\r\n",
       "}\r\n",
       "\r\n",
       "E3  - -> E5 [[psysml:f0c1a87b-40f9-41dd-914f-8704a756a2ee ]] : [x == 1]\r\n",
       "E3  - -> E6 [[psysml:534d6032-2416-43d2-b21b-3e106f4a7f5b ]] : [x > 1]\r\n",
       "E3  - -> E8 [[psysml:e6958018-0280-470d-866d-790aaedd3d9a ]] \r\n",
       "E3 - -> E4 [[psysml:b2a8f402-8a6f-47b5-a176-34e34a53fa41 ]] \r\n",
       "E4  - -> E5 [[psysml:d4e4cf4f-ca71-4ae2-aa8b-453c4e696e69 ]] : [true]\r\n",
       "E4  - -> E6 [[psysml:07d2ed15-614f-457b-995c-67ac116a921b ]] : [false]\r\n",
       "E5  - -> E6 [[psysml:b67ea915-0e8a-4542-80c4-8f1f8e1002d6 ]] : [x == 0]\r\n",
       "E8  - -> E3 [[psysml:7eebbea4-be3a-4ef1-ac68-fab402045136 ]] : [x > 0]\r\n",
       "@enduml\r\n",
       "\n",
       "PlantUML version 1.2020.13(Sat Jun 13 12:26:38 UTC 2020)\n",
       "(EPL source distribution)\n",
       "Java Runtime: OpenJDK Runtime Environment\n",
       "JVM: OpenJDK 64-Bit Server VM\n",
       "Default Encoding: UTF-8\n",
       "Language: en\n",
       "Country: null\n",
       "--></g></svg>"
      ]
     },
     "execution_count": 19,
     "metadata": {},
     "output_type": "execute_result"
    }
   ],
   "source": [
    "%viz --style=\"LR\" --view=\"Interconnection\" \"DecisionTest\""
   ]
  },
  {
   "cell_type": "code",
   "execution_count": 20,
   "id": "5be5c71c",
   "metadata": {
    "execution": {
     "iopub.execute_input": "2021-04-20T07:01:20.454291Z",
     "iopub.status.busy": "2021-04-20T07:01:20.453569Z",
     "iopub.status.idle": "2021-04-20T07:01:20.499504Z",
     "shell.execute_reply": "2021-04-20T07:01:20.497455Z"
    }
   },
   "outputs": [
    {
     "data": {
      "image/svg+xml": [
       "<?xml version=\"1.0\" encoding=\"UTF-8\" standalone=\"no\"?><svg xmlns=\"http://www.w3.org/2000/svg\" xmlns:xlink=\"http://www.w3.org/1999/xlink\" contentScriptType=\"application/ecmascript\" contentStyleType=\"text/css\" height=\"277px\" preserveAspectRatio=\"none\" style=\"width:607px;height:277px;\" version=\"1.1\" viewBox=\"0 0 607 277\" width=\"607px\" zoomAndPan=\"magnify\"><defs/><g><!--MD5=[fbc87193dbaf4d95561dea2c320d4a47]\n",
       "cluster E1--><a href=\"psysml:704d58b1-847a-4b5f-8ef4-b4da5c2432eb\" target=\"_top\" title=\"psysml:704d58b1-847a-4b5f-8ef4-b4da5c2432eb\" xlink:actuate=\"onRequest\" xlink:href=\"psysml:704d58b1-847a-4b5f-8ef4-b4da5c2432eb\" xlink:show=\"new\" xlink:title=\"psysml:704d58b1-847a-4b5f-8ef4-b4da5c2432eb\" xlink:type=\"simple\"><rect fill=\"#FFFFFF\" height=\"259\" id=\"E1\" style=\"stroke: #383838; stroke-width: 1.5;\" width=\"564.72\" x=\"7\" y=\"7\"/><rect fill=\"#F8F8F8\" height=\"37.9375\" style=\"stroke: #383838; stroke-width: 1.5;\" width=\"564.72\" x=\"7\" y=\"7\"/><text fill=\"#000000\" font-family=\"sans-serif\" font-size=\"12\" font-style=\"italic\" lengthAdjust=\"spacingAndGlyphs\" textLength=\"77\" x=\"250.86\" y=\"23.1387\">«action def»</text><text fill=\"#000000\" font-family=\"sans-serif\" font-size=\"12\" lengthAdjust=\"spacingAndGlyphs\" textLength=\"80\" x=\"249.36\" y=\"37.1074\">DecisionTest</text></a><text fill=\"#000000\" font-family=\"sans-serif\" font-size=\"14\" lengthAdjust=\"spacingAndGlyphs\" textLength=\"48\" x=\"547.72\" y=\"115.6982\">$result</text><rect fill=\"#383838\" height=\"12\" style=\"stroke: #F8F8F8; stroke-width: 1.5;\" width=\"12\" x=\"565.72\" y=\"131\"/><polygon fill=\"#F8F8F8\" points=\"82,94,94,106,82,118,70,106,82,94\" style=\"stroke: #383838; stroke-width: 1.5;\"/><polygon fill=\"#F8F8F8\" points=\"247,226,259,238,247,250,235,238,247,226\" style=\"stroke: #383838; stroke-width: 1.5;\"/><g id=\"E1.E5\"><a href=\"psysml:f4b16115-f2df-4145-8494-1e5aced0fe90\" target=\"_top\" title=\"psysml:f4b16115-f2df-4145-8494-1e5aced0fe90\" xlink:actuate=\"onRequest\" xlink:href=\"psysml:f4b16115-f2df-4145-8494-1e5aced0fe90\" xlink:show=\"new\" xlink:title=\"psysml:f4b16115-f2df-4145-8494-1e5aced0fe90\" xlink:type=\"simple\"><rect fill=\"#FFFFFF\" height=\"42.9375\" id=\"E5\" rx=\"10\" ry=\"10\" style=\"stroke: #383838; stroke-width: 1.5;\" width=\"60\" x=\"339\" y=\"119.5\"/><rect fill=\"#F8F8F8\" height=\"37.9375\" rx=\"10\" ry=\"10\" style=\"stroke: #F8F8F8; stroke-width: 1.5;\" width=\"60\" x=\"339\" y=\"119.5\"/><rect fill=\"#F8F8F8\" height=\"10\" style=\"stroke: #F8F8F8; stroke-width: 1.5;\" width=\"60\" x=\"339\" y=\"147.4375\"/><rect fill=\"none\" height=\"42.9375\" id=\"E5\" rx=\"10\" ry=\"10\" style=\"stroke: #383838; stroke-width: 1.5;\" width=\"60\" x=\"339\" y=\"119.5\"/><text fill=\"#000000\" font-family=\"sans-serif\" font-size=\"12\" font-style=\"italic\" lengthAdjust=\"spacingAndGlyphs\" textLength=\"53\" x=\"342.5\" y=\"135.6387\">«action»</text><text fill=\"#000000\" font-family=\"sans-serif\" font-size=\"12\" lengthAdjust=\"spacingAndGlyphs\" textLength=\"16\" x=\"361\" y=\"149.6074\">A1</text></a></g><g id=\"E1.E6\"><a href=\"psysml:ffb4dce0-5cb8-4add-9e67-ebd1f2f3deb3\" target=\"_top\" title=\"psysml:ffb4dce0-5cb8-4add-9e67-ebd1f2f3deb3\" xlink:actuate=\"onRequest\" xlink:href=\"psysml:ffb4dce0-5cb8-4add-9e67-ebd1f2f3deb3\" xlink:show=\"new\" xlink:title=\"psysml:ffb4dce0-5cb8-4add-9e67-ebd1f2f3deb3\" xlink:type=\"simple\"><rect fill=\"#FFFFFF\" height=\"42.9375\" id=\"E6\" rx=\"10\" ry=\"10\" style=\"stroke: #383838; stroke-width: 1.5;\" width=\"60\" x=\"472\" y=\"119.5\"/><rect fill=\"#F8F8F8\" height=\"37.9375\" rx=\"10\" ry=\"10\" style=\"stroke: #F8F8F8; stroke-width: 1.5;\" width=\"60\" x=\"472\" y=\"119.5\"/><rect fill=\"#F8F8F8\" height=\"10\" style=\"stroke: #F8F8F8; stroke-width: 1.5;\" width=\"60\" x=\"472\" y=\"147.4375\"/><rect fill=\"none\" height=\"42.9375\" id=\"E6\" rx=\"10\" ry=\"10\" style=\"stroke: #383838; stroke-width: 1.5;\" width=\"60\" x=\"472\" y=\"119.5\"/><text fill=\"#000000\" font-family=\"sans-serif\" font-size=\"12\" font-style=\"italic\" lengthAdjust=\"spacingAndGlyphs\" textLength=\"53\" x=\"475.5\" y=\"135.6387\">«action»</text><text fill=\"#000000\" font-family=\"sans-serif\" font-size=\"12\" lengthAdjust=\"spacingAndGlyphs\" textLength=\"16\" x=\"494\" y=\"149.6074\">A2</text></a></g><g id=\"E1.E7\"><a href=\"psysml:dc91d98e-27d3-4fe3-8c05-9cedeab5907b\" target=\"_top\" title=\"psysml:dc91d98e-27d3-4fe3-8c05-9cedeab5907b\" xlink:actuate=\"onRequest\" xlink:href=\"psysml:dc91d98e-27d3-4fe3-8c05-9cedeab5907b\" xlink:show=\"new\" xlink:title=\"psysml:dc91d98e-27d3-4fe3-8c05-9cedeab5907b\" xlink:type=\"simple\"><rect fill=\"#FFFFFF\" height=\"42.9375\" id=\"E7\" rx=\"10\" ry=\"10\" style=\"stroke: #383838; stroke-width: 1.5;\" width=\"60\" x=\"149\" y=\"175.5\"/><rect fill=\"#F8F8F8\" height=\"37.9375\" rx=\"10\" ry=\"10\" style=\"stroke: #F8F8F8; stroke-width: 1.5;\" width=\"60\" x=\"149\" y=\"175.5\"/><rect fill=\"#F8F8F8\" height=\"10\" style=\"stroke: #F8F8F8; stroke-width: 1.5;\" width=\"60\" x=\"149\" y=\"203.4375\"/><rect fill=\"none\" height=\"42.9375\" id=\"E7\" rx=\"10\" ry=\"10\" style=\"stroke: #383838; stroke-width: 1.5;\" width=\"60\" x=\"149\" y=\"175.5\"/><text fill=\"#000000\" font-family=\"sans-serif\" font-size=\"12\" font-style=\"italic\" lengthAdjust=\"spacingAndGlyphs\" textLength=\"53\" x=\"152.5\" y=\"191.6387\">«action»</text><text fill=\"#000000\" font-family=\"sans-serif\" font-size=\"12\" lengthAdjust=\"spacingAndGlyphs\" textLength=\"16\" x=\"171\" y=\"205.6074\">A3</text></a></g><g id=\"E1.E8\"><a href=\"psysml:dc91d98e-27d3-4fe3-8c05-9cedeab5907b\" target=\"_top\" title=\"psysml:dc91d98e-27d3-4fe3-8c05-9cedeab5907b\" xlink:actuate=\"onRequest\" xlink:href=\"psysml:dc91d98e-27d3-4fe3-8c05-9cedeab5907b\" xlink:show=\"new\" xlink:title=\"psysml:dc91d98e-27d3-4fe3-8c05-9cedeab5907b\" xlink:type=\"simple\"><rect fill=\"#FFFFFF\" height=\"42.9375\" id=\"E8\" rx=\"10\" ry=\"10\" style=\"stroke: #383838; stroke-width: 1.5;\" width=\"60\" x=\"217\" y=\"23.5\"/><rect fill=\"#F8F8F8\" height=\"37.9375\" rx=\"10\" ry=\"10\" style=\"stroke: #F8F8F8; stroke-width: 1.5;\" width=\"60\" x=\"217\" y=\"23.5\"/><rect fill=\"#F8F8F8\" height=\"10\" style=\"stroke: #F8F8F8; stroke-width: 1.5;\" width=\"60\" x=\"217\" y=\"51.4375\"/><rect fill=\"none\" height=\"42.9375\" id=\"E8\" rx=\"10\" ry=\"10\" style=\"stroke: #383838; stroke-width: 1.5;\" width=\"60\" x=\"217\" y=\"23.5\"/><text fill=\"#000000\" font-family=\"sans-serif\" font-size=\"12\" font-style=\"italic\" lengthAdjust=\"spacingAndGlyphs\" textLength=\"53\" x=\"220.5\" y=\"39.6387\">«action»</text><text fill=\"#000000\" font-family=\"sans-serif\" font-size=\"12\" lengthAdjust=\"spacingAndGlyphs\" textLength=\"16\" x=\"239\" y=\"53.6074\">A3</text></a></g><!--MD5=[0188b64bb0ae78505a997a81836e11e9]\n",
       "link E3 to E5--><a href=\"psysml:f0c1a87b-40f9-41dd-914f-8704a756a2ee\" target=\"_top\" title=\"psysml:f0c1a87b-40f9-41dd-914f-8704a756a2ee\" xlink:actuate=\"onRequest\" xlink:href=\"psysml:f0c1a87b-40f9-41dd-914f-8704a756a2ee\" xlink:show=\"new\" xlink:title=\"psysml:f0c1a87b-40f9-41dd-914f-8704a756a2ee\" xlink:type=\"simple\"><path d=\"M92.39,107.84 C114.2,112.05 170,122.55 217,129 C247.1,133.13 254.72,133.53 285,136 C300.89,137.3 318.52,138.4 333.42,139.25 \" fill=\"none\" id=\"E3-&gt;E5\" style=\"stroke: #383838; stroke-width: 1.0; stroke-dasharray: 7.0,7.0;\"/><polygon fill=\"#383838\" points=\"338.79,139.54,330.0208,135.0567,333.7974,139.2682,329.5859,143.0448,338.79,139.54\" style=\"stroke: #383838; stroke-width: 1.0;\"/><text fill=\"#000000\" font-family=\"sans-serif\" font-size=\"13\" lengthAdjust=\"spacingAndGlyphs\" textLength=\"55\" x=\"219.5\" y=\"125.0669\">[x == 1]</text></a><!--MD5=[ec9844e0c75763426927cad3229d1081]\n",
       "link E3 to E6--><a href=\"psysml:534d6032-2416-43d2-b21b-3e106f4a7f5b\" target=\"_top\" title=\"psysml:534d6032-2416-43d2-b21b-3e106f4a7f5b\" xlink:actuate=\"onRequest\" xlink:href=\"psysml:534d6032-2416-43d2-b21b-3e106f4a7f5b\" xlink:show=\"new\" xlink:title=\"psysml:534d6032-2416-43d2-b21b-3e106f4a7f5b\" xlink:type=\"simple\"><path d=\"M93.71,105.52 C141.79,103.44 337.9,95.49 399,102 C428.39,105.13 436.82,104.41 464,116 C464.96,116.41 465.93,116.85 466.89,117.31 \" fill=\"none\" id=\"E3-&gt;E6\" style=\"stroke: #383838; stroke-width: 1.0; stroke-dasharray: 7.0,7.0;\"/><polygon fill=\"#383838\" points=\"471.68,119.77,465.5069,112.0958,467.2339,117.4826,461.8471,119.2096,471.68,119.77\" style=\"stroke: #383838; stroke-width: 1.0;\"/><text fill=\"#000000\" font-family=\"sans-serif\" font-size=\"13\" lengthAdjust=\"spacingAndGlyphs\" textLength=\"44\" x=\"286\" y=\"96.0669\">[x &gt; 1]</text></a><!--MD5=[ca5a752d6098d8a44b3f88316e7452d1]\n",
       "link E3 to E8--><a href=\"psysml:e6958018-0280-470d-866d-790aaedd3d9a\" target=\"_top\" title=\"psysml:e6958018-0280-470d-866d-790aaedd3d9a\" xlink:actuate=\"onRequest\" xlink:href=\"psysml:e6958018-0280-470d-866d-790aaedd3d9a\" xlink:show=\"new\" xlink:title=\"psysml:e6958018-0280-470d-866d-790aaedd3d9a\" xlink:type=\"simple\"><path d=\"M93.57,105.2 C122.06,102.98 198.98,96.55 209,91 C217.62,86.22 224.99,78.54 230.83,70.81 \" fill=\"none\" id=\"E3-&gt;E8\" style=\"stroke: #383838; stroke-width: 1.0; stroke-dasharray: 7.0,7.0;\"/><polygon fill=\"#383838\" points=\"233.91,66.53,225.4107,71.5061,230.993,70.5909,231.9081,76.1733,233.91,66.53\" style=\"stroke: #383838; stroke-width: 1.0;\"/></a><!--MD5=[95fa686b5a16158bcdbcaeead89f639b]\n",
       "link E8 to E3--><a href=\"psysml:7eebbea4-be3a-4ef1-ac68-fab402045136\" target=\"_top\" title=\"psysml:7eebbea4-be3a-4ef1-ac68-fab402045136\" xlink:actuate=\"onRequest\" xlink:href=\"psysml:7eebbea4-be3a-4ef1-ac68-fab402045136\" xlink:show=\"new\" xlink:title=\"psysml:7eebbea4-be3a-4ef1-ac68-fab402045136\" xlink:type=\"simple\"><path d=\"M216.62,58.8 C214.06,59.91 211.49,61 209,62 C168.64,78.27 119.69,94.35 96.47,101.76 \" fill=\"none\" id=\"E8-&gt;E3\" style=\"stroke: #383838; stroke-width: 1.0; stroke-dasharray: 7.0,7.0;\"/><polygon fill=\"#383838\" points=\"91.66,103.29,101.4493,104.3717,96.4244,101.7734,99.0227,96.7486,91.66,103.29\" style=\"stroke: #383838; stroke-width: 1.0;\"/><text fill=\"#000000\" font-family=\"sans-serif\" font-size=\"13\" lengthAdjust=\"spacingAndGlyphs\" textLength=\"44\" x=\"157\" y=\"58.0669\">[x &gt; 0]</text></a><!--MD5=[af87c684e3b0d8be13c1a698a818ef1e]\n",
       "link E3 to E4--><a href=\"psysml:b2a8f402-8a6f-47b5-a176-34e34a53fa41\" target=\"_top\" title=\"psysml:b2a8f402-8a6f-47b5-a176-34e34a53fa41\" xlink:actuate=\"onRequest\" xlink:href=\"psysml:b2a8f402-8a6f-47b5-a176-34e34a53fa41\" xlink:show=\"new\" xlink:title=\"psysml:b2a8f402-8a6f-47b5-a176-34e34a53fa41\" xlink:type=\"simple\"><path d=\"M84.97,115.23 C90.46,138.5 108.3,199.62 149,227 C174.04,243.85 211.18,242.58 231.47,240.25 \" fill=\"none\" id=\"E3-&gt;E4\" style=\"stroke: #383838; stroke-width: 1.0; stroke-dasharray: 7.0,7.0;\"/><polygon fill=\"#383838\" points=\"236.49,239.61,227.0583,236.7739,231.5297,240.239,228.0647,244.7104,236.49,239.61\" style=\"stroke: #383838; stroke-width: 1.0;\"/></a><!--MD5=[1b7591eae5389033d8d09a9d6721a717]\n",
       "link E4 to E5--><a href=\"psysml:d4e4cf4f-ca71-4ae2-aa8b-453c4e696e69\" target=\"_top\" title=\"psysml:d4e4cf4f-ca71-4ae2-aa8b-453c4e696e69\" xlink:actuate=\"onRequest\" xlink:href=\"psysml:d4e4cf4f-ca71-4ae2-aa8b-453c4e696e69\" xlink:show=\"new\" xlink:title=\"psysml:d4e4cf4f-ca71-4ae2-aa8b-453c4e696e69\" xlink:type=\"simple\"><path d=\"M255.24,233.64 C270.11,224.54 304.89,202.48 331,180 C335.75,175.91 340.56,171.28 345.06,166.67 \" fill=\"none\" id=\"E4-&gt;E5\" style=\"stroke: #383838; stroke-width: 1.0; stroke-dasharray: 7.0,7.0;\"/><polygon fill=\"#383838\" points=\"348.77,162.83,339.6434,166.5321,345.2993,166.4292,345.4022,172.0851,348.77,162.83\" style=\"stroke: #383838; stroke-width: 1.0;\"/><text fill=\"#000000\" font-family=\"sans-serif\" font-size=\"13\" lengthAdjust=\"spacingAndGlyphs\" textLength=\"36\" x=\"290\" y=\"176.0669\">[true]</text></a><!--MD5=[79568f1e445c3877b6a54524624ccc7d]\n",
       "link E4 to E6--><a href=\"psysml:07d2ed15-614f-457b-995c-67ac116a921b\" target=\"_top\" title=\"psysml:07d2ed15-614f-457b-995c-67ac116a921b\" xlink:actuate=\"onRequest\" xlink:href=\"psysml:07d2ed15-614f-457b-995c-67ac116a921b\" xlink:show=\"new\" xlink:title=\"psysml:07d2ed15-614f-457b-995c-67ac116a921b\" xlink:type=\"simple\"><path d=\"M257.44,236.25 C281.6,231.6 347.36,217.84 399,197 C422.69,187.44 447.86,173.66 467.27,162.17 \" fill=\"none\" id=\"E4-&gt;E6\" style=\"stroke: #383838; stroke-width: 1.0; stroke-dasharray: 7.0,7.0;\"/><polygon fill=\"#383838\" points=\"471.57,159.6,461.7917,160.7765,467.2762,162.1619,465.8908,167.6465,471.57,159.6\" style=\"stroke: #383838; stroke-width: 1.0;\"/><text fill=\"#000000\" font-family=\"sans-serif\" font-size=\"13\" lengthAdjust=\"spacingAndGlyphs\" textLength=\"40\" x=\"349\" y=\"193.0669\">[false]</text></a><!--MD5=[9120cf2e5df3bff93db8f754bbbc09b4]\n",
       "link E5 to E6--><a href=\"psysml:b67ea915-0e8a-4542-80c4-8f1f8e1002d6\" target=\"_top\" title=\"psysml:b67ea915-0e8a-4542-80c4-8f1f8e1002d6\" xlink:actuate=\"onRequest\" xlink:href=\"psysml:b67ea915-0e8a-4542-80c4-8f1f8e1002d6\" xlink:show=\"new\" xlink:title=\"psysml:b67ea915-0e8a-4542-80c4-8f1f8e1002d6\" xlink:type=\"simple\"><path d=\"M399.07,141 C418.95,141 445.38,141 466.35,141 \" fill=\"none\" id=\"E5-&gt;E6\" style=\"stroke: #383838; stroke-width: 1.0; stroke-dasharray: 7.0,7.0;\"/><polygon fill=\"#383838\" points=\"471.56,141,462.56,137,466.56,141,462.56,145,471.56,141\" style=\"stroke: #383838; stroke-width: 1.0;\"/><text fill=\"#000000\" font-family=\"sans-serif\" font-size=\"13\" lengthAdjust=\"spacingAndGlyphs\" textLength=\"55\" x=\"408\" y=\"137.0669\">[x == 0]</text></a><!--MD5=[c1adb1e02bb8ea921f198d70139603fa]\n",
       "@startuml\r\n",
       "skinparam ranksep 8\r\n",
       "left to right direction\r\n",
       "skinparam monochrome true\r\n",
       "skinparam classbackgroundcolor white\r\n",
       "skinparam shadowing false\r\n",
       "skinparam wrapWidth 300\r\n",
       "hide circle\r\n",
       "\r\n",
       "rec def \"DecisionTest\" as E1  <<(T,blue)action def>> [[psysml:704d58b1-847a-4b5f-8ef4-b4da5c2432eb ]] {\r\n",
       "portout \"$result\" as E2  [[psysml:d3db88a9-d6e2-4728-bacb-cdc83b04fb60 ]] \r\n",
       "choice \"test x\" as E3  [[psysml:07816a00-a6c6-49d5-84be-841a1e7e2f6a ]] \r\n",
       "choice \"noname\" as E4  [[psysml:26311404-6ce6-4dcd-89ed-d43ec51ac22a ]] \r\n",
       "rec usage \"A1\" as E5  <<(T,blue)action>> [[psysml:f4b16115-f2df-4145-8494-1e5aced0fe90 ]] {\r\n",
       "}\r\n",
       "\r\n",
       "rec usage \"A2\" as E6  <<(T,blue)action>> [[psysml:ffb4dce0-5cb8-4add-9e67-ebd1f2f3deb3 ]] {\r\n",
       "}\r\n",
       "\r\n",
       "rec usage \"A3\" as E7  <<(T,blue)action>> [[psysml:dc91d98e-27d3-4fe3-8c05-9cedeab5907b ]] {\r\n",
       "}\r\n",
       "\r\n",
       "rec usage \"A3\" as E8  <<(T,blue)action>> [[psysml:dc91d98e-27d3-4fe3-8c05-9cedeab5907b ]] {\r\n",
       "}\r\n",
       "\r\n",
       "}\r\n",
       "\r\n",
       "E3 ..> E5 [[psysml:f0c1a87b-40f9-41dd-914f-8704a756a2ee ]] : [x == 1]\r\n",
       "E3 ..> E6 [[psysml:534d6032-2416-43d2-b21b-3e106f4a7f5b ]] : [x > 1]\r\n",
       "E3 ..> E8 [[psysml:e6958018-0280-470d-866d-790aaedd3d9a ]] \r\n",
       "E3 ..> E4 [[psysml:b2a8f402-8a6f-47b5-a176-34e34a53fa41 ]] \r\n",
       "E4 ..> E5 [[psysml:d4e4cf4f-ca71-4ae2-aa8b-453c4e696e69 ]] : [true]\r\n",
       "E4 ..> E6 [[psysml:07d2ed15-614f-457b-995c-67ac116a921b ]] : [false]\r\n",
       "E5 ..> E6 [[psysml:b67ea915-0e8a-4542-80c4-8f1f8e1002d6 ]] : [x == 0]\r\n",
       "E8 ..> E3 [[psysml:7eebbea4-be3a-4ef1-ac68-fab402045136 ]] : [x > 0]\r\n",
       "@enduml\r\n",
       "\n",
       "PlantUML version 1.2020.13(Sat Jun 13 12:26:38 UTC 2020)\n",
       "(EPL source distribution)\n",
       "Java Runtime: OpenJDK Runtime Environment\n",
       "JVM: OpenJDK 64-Bit Server VM\n",
       "Default Encoding: UTF-8\n",
       "Language: en\n",
       "Country: null\n",
       "--></g></svg>"
      ]
     },
     "execution_count": 20,
     "metadata": {},
     "output_type": "execute_result"
    }
   ],
   "source": [
    "%viz --style=\"LR\" --view=\"Action\" \"DecisionTest\""
   ]
  },
  {
   "cell_type": "code",
   "execution_count": 21,
   "id": "fbc87a18",
   "metadata": {
    "execution": {
     "iopub.execute_input": "2021-04-20T07:01:20.549480Z",
     "iopub.status.busy": "2021-04-20T07:01:20.548932Z",
     "iopub.status.idle": "2021-04-20T07:01:20.646205Z",
     "shell.execute_reply": "2021-04-20T07:01:20.646493Z"
    }
   },
   "outputs": [
    {
     "data": {
      "image/svg+xml": [
       "<?xml version=\"1.0\" encoding=\"UTF-8\" standalone=\"no\"?><svg xmlns=\"http://www.w3.org/2000/svg\" xmlns:xlink=\"http://www.w3.org/1999/xlink\" contentScriptType=\"application/ecmascript\" contentStyleType=\"text/css\" height=\"207px\" preserveAspectRatio=\"none\" style=\"width:109px;height:207px;\" version=\"1.1\" viewBox=\"0 0 109 207\" width=\"109px\" zoomAndPan=\"magnify\"><defs/><g><!--MD5=[43c9051892ef23e1a46a86907403d788]\n",
       "class E1--><a href=\"psysml:704d58b1-847a-4b5f-8ef4-b4da5c2432eb\" target=\"_top\" title=\"psysml:704d58b1-847a-4b5f-8ef4-b4da5c2432eb\" xlink:actuate=\"onRequest\" xlink:href=\"psysml:704d58b1-847a-4b5f-8ef4-b4da5c2432eb\" xlink:show=\"new\" xlink:title=\"psysml:704d58b1-847a-4b5f-8ef4-b4da5c2432eb\" xlink:type=\"simple\"><rect fill=\"#FFFFFF\" height=\"189.9844\" id=\"E1\" style=\"stroke: #383838; stroke-width: 1.5;\" width=\"91\" x=\"7\" y=\"7\"/><text fill=\"#000000\" font-family=\"sans-serif\" font-size=\"12\" font-style=\"italic\" lengthAdjust=\"spacingAndGlyphs\" textLength=\"77\" x=\"14\" y=\"23.1387\">«action def»</text><text fill=\"#000000\" font-family=\"sans-serif\" font-size=\"12\" lengthAdjust=\"spacingAndGlyphs\" textLength=\"80\" x=\"12.5\" y=\"37.1074\">DecisionTest</text><line style=\"stroke: #383838; stroke-width: 1.5;\" x1=\"8\" x2=\"97\" y1=\"44.9375\" y2=\"44.9375\"/><text fill=\"#000000\" font-family=\"sans-serif\" font-size=\"11\" lengthAdjust=\"spacingAndGlyphs\" textLength=\"26\" x=\"13\" y=\"75.9526\">x=1;</text><line style=\"stroke: #383838; stroke-width: 1.0;\" x1=\"8\" x2=\"25\" y1=\"59.3398\" y2=\"59.3398\"/><text fill=\"#000000\" font-family=\"sans-serif\" font-size=\"11\" lengthAdjust=\"spacingAndGlyphs\" textLength=\"55\" x=\"25\" y=\"62.6479\">attributes</text><line style=\"stroke: #383838; stroke-width: 1.0;\" x1=\"80\" x2=\"97\" y1=\"59.3398\" y2=\"59.3398\"/><text fill=\"#000000\" font-family=\"sans-serif\" font-size=\"11\" lengthAdjust=\"spacingAndGlyphs\" textLength=\"14\" x=\"13\" y=\"105.562\">A1</text><text fill=\"#000000\" font-family=\"sans-serif\" font-size=\"11\" lengthAdjust=\"spacingAndGlyphs\" textLength=\"14\" x=\"13\" y=\"118.3667\">A2</text><text fill=\"#000000\" font-family=\"sans-serif\" font-size=\"11\" lengthAdjust=\"spacingAndGlyphs\" textLength=\"14\" x=\"13\" y=\"131.1714\">A3</text><line style=\"stroke: #383838; stroke-width: 1.0;\" x1=\"8\" x2=\"32\" y1=\"88.9492\" y2=\"88.9492\"/><text fill=\"#000000\" font-family=\"sans-serif\" font-size=\"11\" lengthAdjust=\"spacingAndGlyphs\" textLength=\"41\" x=\"32\" y=\"92.2573\">actions</text><line style=\"stroke: #383838; stroke-width: 1.0;\" x1=\"73\" x2=\"97\" y1=\"88.9492\" y2=\"88.9492\"/><text fill=\"#000000\" font-family=\"sans-serif\" font-size=\"11\" lengthAdjust=\"spacingAndGlyphs\" textLength=\"32\" x=\"13\" y=\"160.7808\">test x</text><line style=\"stroke: #383838; stroke-width: 1.0;\" x1=\"8\" x2=\"11\" y1=\"144.168\" y2=\"144.168\"/><text fill=\"#000000\" font-family=\"sans-serif\" font-size=\"11\" lengthAdjust=\"spacingAndGlyphs\" textLength=\"83\" x=\"11\" y=\"147.4761\">decisionNodes</text><line style=\"stroke: #383838; stroke-width: 1.0;\" x1=\"94\" x2=\"97\" y1=\"144.168\" y2=\"144.168\"/><text fill=\"#000000\" font-family=\"sans-serif\" font-size=\"11\" lengthAdjust=\"spacingAndGlyphs\" textLength=\"8\" x=\"13\" y=\"190.3901\">S</text><line style=\"stroke: #383838; stroke-width: 1.0;\" x1=\"8\" x2=\"22\" y1=\"173.7773\" y2=\"173.7773\"/><text fill=\"#000000\" font-family=\"sans-serif\" font-size=\"11\" lengthAdjust=\"spacingAndGlyphs\" textLength=\"61\" x=\"22\" y=\"177.0854\">transitions</text><line style=\"stroke: #383838; stroke-width: 1.0;\" x1=\"83\" x2=\"97\" y1=\"173.7773\" y2=\"173.7773\"/></a><!--MD5=[7441b11388d8e1e2412f1b1fe73ad034]\n",
       "@startuml\r\n",
       "left to right direction\r\n",
       "skinparam monochrome true\r\n",
       "skinparam classbackgroundcolor white\r\n",
       "skinparam shadowing false\r\n",
       "skinparam wrapWidth 300\r\n",
       "hide circle\r\n",
       "\r\n",
       "comp def \"DecisionTest\" as E1  <<(T,blue)action def>> [[psysml:704d58b1-847a-4b5f-8ef4-b4da5c2432eb ]] {\r\n",
       "- - attributes - -\r\n",
       "x=1; \r\n",
       "- - actions - -\r\n",
       "A1\r\n",
       "A2\r\n",
       "A3\r\n",
       "- - decisionNodes - -\r\n",
       "test x\r\n",
       "- - transitions - -\r\n",
       "S\r\n",
       "}\r\n",
       "@enduml\r\n",
       "\n",
       "PlantUML version 1.2020.13(Sat Jun 13 12:26:38 UTC 2020)\n",
       "(EPL source distribution)\n",
       "Java Runtime: OpenJDK Runtime Environment\n",
       "JVM: OpenJDK 64-Bit Server VM\n",
       "Default Encoding: UTF-8\n",
       "Language: en\n",
       "Country: null\n",
       "--></g></svg>"
      ]
     },
     "execution_count": 21,
     "metadata": {},
     "output_type": "execute_result"
    }
   ],
   "source": [
    "%viz --style=\"LR\" --view=\"Sequence\" \"DecisionTest\""
   ]
  },
  {
   "cell_type": "code",
   "execution_count": 22,
   "id": "7b4c7f48",
   "metadata": {
    "execution": {
     "iopub.execute_input": "2021-04-20T07:01:20.697407Z",
     "iopub.status.busy": "2021-04-20T07:01:20.696953Z",
     "iopub.status.idle": "2021-04-20T07:01:20.744021Z",
     "shell.execute_reply": "2021-04-20T07:01:20.743634Z"
    }
   },
   "outputs": [
    {
     "data": {
      "image/svg+xml": [
       "<?xml version=\"1.0\" encoding=\"UTF-8\" standalone=\"no\"?><svg xmlns=\"http://www.w3.org/2000/svg\" xmlns:xlink=\"http://www.w3.org/1999/xlink\" contentScriptType=\"application/ecmascript\" contentStyleType=\"text/css\" height=\"277px\" preserveAspectRatio=\"none\" style=\"width:797px;height:277px;\" version=\"1.1\" viewBox=\"0 0 797 277\" width=\"797px\" zoomAndPan=\"magnify\"><defs/><g><!--MD5=[fbc87193dbaf4d95561dea2c320d4a47]\n",
       "cluster E1--><a href=\"psysml:704d58b1-847a-4b5f-8ef4-b4da5c2432eb\" target=\"_top\" title=\"psysml:704d58b1-847a-4b5f-8ef4-b4da5c2432eb\" xlink:actuate=\"onRequest\" xlink:href=\"psysml:704d58b1-847a-4b5f-8ef4-b4da5c2432eb\" xlink:show=\"new\" xlink:title=\"psysml:704d58b1-847a-4b5f-8ef4-b4da5c2432eb\" xlink:type=\"simple\"><rect fill=\"#FFFFFF\" height=\"259\" id=\"E1\" style=\"stroke: #383838; stroke-width: 1.5;\" width=\"754.72\" x=\"7\" y=\"7\"/><rect fill=\"#F8F8F8\" height=\"37.9375\" style=\"stroke: #383838; stroke-width: 1.5;\" width=\"754.72\" x=\"7\" y=\"7\"/><text fill=\"#000000\" font-family=\"sans-serif\" font-size=\"12\" font-style=\"italic\" lengthAdjust=\"spacingAndGlyphs\" textLength=\"77\" x=\"345.86\" y=\"23.1387\">«action def»</text><text fill=\"#000000\" font-family=\"sans-serif\" font-size=\"12\" lengthAdjust=\"spacingAndGlyphs\" textLength=\"80\" x=\"344.36\" y=\"37.1074\">DecisionTest</text></a><text fill=\"#000000\" font-family=\"sans-serif\" font-size=\"14\" lengthAdjust=\"spacingAndGlyphs\" textLength=\"48\" x=\"737.72\" y=\"115.6982\">$result</text><rect fill=\"#383838\" height=\"12\" style=\"stroke: #F8F8F8; stroke-width: 1.5;\" width=\"12\" x=\"755.72\" y=\"131\"/><polygon fill=\"#F8F8F8\" points=\"82,94,94,106,82,118,70,106,82,94\" style=\"stroke: #383838; stroke-width: 1.5;\"/><polygon fill=\"#F8F8F8\" points=\"291,226,303,238,291,250,279,238,291,226\" style=\"stroke: #383838; stroke-width: 1.5;\"/><g id=\"E1.E5\"><a href=\"psysml:f4b16115-f2df-4145-8494-1e5aced0fe90\" target=\"_top\" title=\"psysml:f4b16115-f2df-4145-8494-1e5aced0fe90\" xlink:actuate=\"onRequest\" xlink:href=\"psysml:f4b16115-f2df-4145-8494-1e5aced0fe90\" xlink:show=\"new\" xlink:title=\"psysml:f4b16115-f2df-4145-8494-1e5aced0fe90\" xlink:type=\"simple\"><rect fill=\"#FFFFFF\" height=\"42.9375\" id=\"E5\" rx=\"10\" ry=\"10\" style=\"stroke: #383838; stroke-width: 1.5;\" width=\"60\" x=\"427\" y=\"119.5\"/><rect fill=\"#F8F8F8\" height=\"37.9375\" rx=\"10\" ry=\"10\" style=\"stroke: #F8F8F8; stroke-width: 1.5;\" width=\"60\" x=\"427\" y=\"119.5\"/><rect fill=\"#F8F8F8\" height=\"10\" style=\"stroke: #F8F8F8; stroke-width: 1.5;\" width=\"60\" x=\"427\" y=\"147.4375\"/><rect fill=\"none\" height=\"42.9375\" id=\"E5\" rx=\"10\" ry=\"10\" style=\"stroke: #383838; stroke-width: 1.5;\" width=\"60\" x=\"427\" y=\"119.5\"/><text fill=\"#000000\" font-family=\"sans-serif\" font-size=\"12\" font-style=\"italic\" lengthAdjust=\"spacingAndGlyphs\" textLength=\"53\" x=\"430.5\" y=\"135.6387\">«action»</text><text fill=\"#000000\" font-family=\"sans-serif\" font-size=\"12\" lengthAdjust=\"spacingAndGlyphs\" textLength=\"16\" x=\"449\" y=\"149.6074\">A1</text></a></g><g id=\"E1.E6\"><a href=\"psysml:ffb4dce0-5cb8-4add-9e67-ebd1f2f3deb3\" target=\"_top\" title=\"psysml:ffb4dce0-5cb8-4add-9e67-ebd1f2f3deb3\" xlink:actuate=\"onRequest\" xlink:href=\"psysml:ffb4dce0-5cb8-4add-9e67-ebd1f2f3deb3\" xlink:show=\"new\" xlink:title=\"psysml:ffb4dce0-5cb8-4add-9e67-ebd1f2f3deb3\" xlink:type=\"simple\"><rect fill=\"#FFFFFF\" height=\"42.9375\" id=\"E6\" rx=\"10\" ry=\"10\" style=\"stroke: #383838; stroke-width: 1.5;\" width=\"60\" x=\"604\" y=\"119.5\"/><rect fill=\"#F8F8F8\" height=\"37.9375\" rx=\"10\" ry=\"10\" style=\"stroke: #F8F8F8; stroke-width: 1.5;\" width=\"60\" x=\"604\" y=\"119.5\"/><rect fill=\"#F8F8F8\" height=\"10\" style=\"stroke: #F8F8F8; stroke-width: 1.5;\" width=\"60\" x=\"604\" y=\"147.4375\"/><rect fill=\"none\" height=\"42.9375\" id=\"E6\" rx=\"10\" ry=\"10\" style=\"stroke: #383838; stroke-width: 1.5;\" width=\"60\" x=\"604\" y=\"119.5\"/><text fill=\"#000000\" font-family=\"sans-serif\" font-size=\"12\" font-style=\"italic\" lengthAdjust=\"spacingAndGlyphs\" textLength=\"53\" x=\"607.5\" y=\"135.6387\">«action»</text><text fill=\"#000000\" font-family=\"sans-serif\" font-size=\"12\" lengthAdjust=\"spacingAndGlyphs\" textLength=\"16\" x=\"626\" y=\"149.6074\">A2</text></a></g><g id=\"E1.E7\"><a href=\"psysml:dc91d98e-27d3-4fe3-8c05-9cedeab5907b\" target=\"_top\" title=\"psysml:dc91d98e-27d3-4fe3-8c05-9cedeab5907b\" xlink:actuate=\"onRequest\" xlink:href=\"psysml:dc91d98e-27d3-4fe3-8c05-9cedeab5907b\" xlink:show=\"new\" xlink:title=\"psysml:dc91d98e-27d3-4fe3-8c05-9cedeab5907b\" xlink:type=\"simple\"><rect fill=\"#FFFFFF\" height=\"42.9375\" id=\"E7\" rx=\"10\" ry=\"10\" style=\"stroke: #383838; stroke-width: 1.5;\" width=\"60\" x=\"171\" y=\"175.5\"/><rect fill=\"#F8F8F8\" height=\"37.9375\" rx=\"10\" ry=\"10\" style=\"stroke: #F8F8F8; stroke-width: 1.5;\" width=\"60\" x=\"171\" y=\"175.5\"/><rect fill=\"#F8F8F8\" height=\"10\" style=\"stroke: #F8F8F8; stroke-width: 1.5;\" width=\"60\" x=\"171\" y=\"203.4375\"/><rect fill=\"none\" height=\"42.9375\" id=\"E7\" rx=\"10\" ry=\"10\" style=\"stroke: #383838; stroke-width: 1.5;\" width=\"60\" x=\"171\" y=\"175.5\"/><text fill=\"#000000\" font-family=\"sans-serif\" font-size=\"12\" font-style=\"italic\" lengthAdjust=\"spacingAndGlyphs\" textLength=\"53\" x=\"174.5\" y=\"191.6387\">«action»</text><text fill=\"#000000\" font-family=\"sans-serif\" font-size=\"12\" lengthAdjust=\"spacingAndGlyphs\" textLength=\"16\" x=\"193\" y=\"205.6074\">A3</text></a></g><g id=\"E1.E8\"><a href=\"psysml:dc91d98e-27d3-4fe3-8c05-9cedeab5907b\" target=\"_top\" title=\"psysml:dc91d98e-27d3-4fe3-8c05-9cedeab5907b\" xlink:actuate=\"onRequest\" xlink:href=\"psysml:dc91d98e-27d3-4fe3-8c05-9cedeab5907b\" xlink:show=\"new\" xlink:title=\"psysml:dc91d98e-27d3-4fe3-8c05-9cedeab5907b\" xlink:type=\"simple\"><rect fill=\"#FFFFFF\" height=\"42.9375\" id=\"E8\" rx=\"10\" ry=\"10\" style=\"stroke: #383838; stroke-width: 1.5;\" width=\"60\" x=\"261\" y=\"23.5\"/><rect fill=\"#F8F8F8\" height=\"37.9375\" rx=\"10\" ry=\"10\" style=\"stroke: #F8F8F8; stroke-width: 1.5;\" width=\"60\" x=\"261\" y=\"23.5\"/><rect fill=\"#F8F8F8\" height=\"10\" style=\"stroke: #F8F8F8; stroke-width: 1.5;\" width=\"60\" x=\"261\" y=\"51.4375\"/><rect fill=\"none\" height=\"42.9375\" id=\"E8\" rx=\"10\" ry=\"10\" style=\"stroke: #383838; stroke-width: 1.5;\" width=\"60\" x=\"261\" y=\"23.5\"/><text fill=\"#000000\" font-family=\"sans-serif\" font-size=\"12\" font-style=\"italic\" lengthAdjust=\"spacingAndGlyphs\" textLength=\"53\" x=\"264.5\" y=\"39.6387\">«action»</text><text fill=\"#000000\" font-family=\"sans-serif\" font-size=\"12\" lengthAdjust=\"spacingAndGlyphs\" textLength=\"16\" x=\"283\" y=\"53.6074\">A3</text></a></g><!--MD5=[0188b64bb0ae78505a997a81836e11e9]\n",
       "link E3 to E5--><a href=\"psysml:f0c1a87b-40f9-41dd-914f-8704a756a2ee\" target=\"_top\" title=\"psysml:f0c1a87b-40f9-41dd-914f-8704a756a2ee\" xlink:actuate=\"onRequest\" xlink:href=\"psysml:f0c1a87b-40f9-41dd-914f-8704a756a2ee\" xlink:show=\"new\" xlink:title=\"psysml:f0c1a87b-40f9-41dd-914f-8704a756a2ee\" xlink:type=\"simple\"><path d=\"M92.63,107.42 C119.32,111.32 196.53,122.33 261,129 C300.91,133.13 310.96,133.49 351,136 C374.51,137.47 401,138.73 421.49,139.62 \" fill=\"none\" id=\"E3-&gt;E5\" style=\"stroke: #383838; stroke-width: 1.0;\"/><polygon fill=\"#383838\" points=\"426.57,139.84,417.7495,135.4583,421.5746,139.6259,417.407,143.451,426.57,139.84\" style=\"stroke: #383838; stroke-width: 1.0;\"/><text fill=\"#000000\" font-family=\"sans-serif\" font-size=\"13\" lengthAdjust=\"spacingAndGlyphs\" textLength=\"55\" x=\"263.5\" y=\"125.0669\">[x == 1]</text></a><!--MD5=[ec9844e0c75763426927cad3229d1081]\n",
       "link E3 to E6--><a href=\"psysml:534d6032-2416-43d2-b21b-3e106f4a7f5b\" target=\"_top\" title=\"psysml:534d6032-2416-43d2-b21b-3e106f4a7f5b\" xlink:actuate=\"onRequest\" xlink:href=\"psysml:534d6032-2416-43d2-b21b-3e106f4a7f5b\" xlink:show=\"new\" xlink:title=\"psysml:534d6032-2416-43d2-b21b-3e106f4a7f5b\" xlink:type=\"simple\"><path d=\"M93.32,105.22 C139.39,101.88 330.73,89.51 487,102 C526.04,105.12 536.36,105.17 574,116 C582.23,118.37 590.85,121.58 598.88,124.9 \" fill=\"none\" id=\"E3-&gt;E6\" style=\"stroke: #383838; stroke-width: 1.0;\"/><polygon fill=\"#383838\" points=\"603.79,126.98,597.0555,119.7935,599.184,125.0346,593.9428,127.1631,603.79,126.98\" style=\"stroke: #383838; stroke-width: 1.0;\"/><text fill=\"#000000\" font-family=\"sans-serif\" font-size=\"13\" lengthAdjust=\"spacingAndGlyphs\" textLength=\"44\" x=\"352\" y=\"93.0669\">[x &gt; 1]</text></a><!--MD5=[ca5a752d6098d8a44b3f88316e7452d1]\n",
       "link E3 to E8--><a href=\"psysml:e6958018-0280-470d-866d-790aaedd3d9a\" target=\"_top\" title=\"psysml:e6958018-0280-470d-866d-790aaedd3d9a\" xlink:actuate=\"onRequest\" xlink:href=\"psysml:e6958018-0280-470d-866d-790aaedd3d9a\" xlink:show=\"new\" xlink:title=\"psysml:e6958018-0280-470d-866d-790aaedd3d9a\" xlink:type=\"simple\"><path d=\"M93.49,105.27 C125.14,103.04 218.3,96.1 231,91 C243.02,86.18 254.64,78.13 264.33,70.1 \" fill=\"none\" id=\"E3-&gt;E8\" style=\"stroke: #383838; stroke-width: 1.0;\"/><polygon fill=\"#383838\" points=\"268.36,66.67,258.9123,69.4521,264.5507,69.9087,264.0941,75.5471,268.36,66.67\" style=\"stroke: #383838; stroke-width: 1.0;\"/></a><!--MD5=[95fa686b5a16158bcdbcaeead89f639b]\n",
       "link E8 to E3--><a href=\"psysml:7eebbea4-be3a-4ef1-ac68-fab402045136\" target=\"_top\" title=\"psysml:7eebbea4-be3a-4ef1-ac68-fab402045136\" xlink:actuate=\"onRequest\" xlink:href=\"psysml:7eebbea4-be3a-4ef1-ac68-fab402045136\" xlink:show=\"new\" xlink:title=\"psysml:7eebbea4-be3a-4ef1-ac68-fab402045136\" xlink:type=\"simple\"><path d=\"M260.77,53.61 C215.33,67 129.54,92.28 96.47,102.03 \" fill=\"none\" id=\"E8-&gt;E3\" style=\"stroke: #383838; stroke-width: 1.0;\"/><polygon fill=\"#383838\" points=\"91.63,103.46,101.3936,104.7532,96.4261,102.0469,99.1325,97.0794,91.63,103.46\" style=\"stroke: #383838; stroke-width: 1.0;\"/><text fill=\"#000000\" font-family=\"sans-serif\" font-size=\"13\" lengthAdjust=\"spacingAndGlyphs\" textLength=\"44\" x=\"179\" y=\"60.0669\">[x &gt; 0]</text></a><!--MD5=[af87c684e3b0d8be13c1a698a818ef1e]\n",
       "link E3 to E4--><a href=\"psysml:b2a8f402-8a6f-47b5-a176-34e34a53fa41\" target=\"_top\" title=\"psysml:b2a8f402-8a6f-47b5-a176-34e34a53fa41\" xlink:actuate=\"onRequest\" xlink:href=\"psysml:b2a8f402-8a6f-47b5-a176-34e34a53fa41\" xlink:show=\"new\" xlink:title=\"psysml:b2a8f402-8a6f-47b5-a176-34e34a53fa41\" xlink:type=\"simple\"><path d=\"M86.04,114.02 C95.02,136.5 123.81,200.16 171,227 C204.39,245.99 251.73,243.27 275.38,240.3 \" fill=\"none\" id=\"E3-&gt;E4\" style=\"stroke: #383838; stroke-width: 1.0;\"/><polygon fill=\"#383838\" points=\"280.59,239.6,271.1346,236.8442,275.6352,240.2711,272.2083,244.7718,280.59,239.6\" style=\"stroke: #383838; stroke-width: 1.0;\"/></a><!--MD5=[1b7591eae5389033d8d09a9d6721a717]\n",
       "link E4 to E5--><a href=\"psysml:d4e4cf4f-ca71-4ae2-aa8b-453c4e696e69\" target=\"_top\" title=\"psysml:d4e4cf4f-ca71-4ae2-aa8b-453c4e696e69\" xlink:actuate=\"onRequest\" xlink:href=\"psysml:d4e4cf4f-ca71-4ae2-aa8b-453c4e696e69\" xlink:show=\"new\" xlink:title=\"psysml:d4e4cf4f-ca71-4ae2-aa8b-453c4e696e69\" xlink:type=\"simple\"><path d=\"M299.5,234.12 C316.88,225.07 361.19,201.68 397,180 C405.33,174.96 414.16,169.29 422.39,163.88 \" fill=\"none\" id=\"E4-&gt;E5\" style=\"stroke: #383838; stroke-width: 1.0;\"/><polygon fill=\"#383838\" points=\"426.88,160.91,417.1688,162.551,422.7132,163.6736,421.5905,169.2179,426.88,160.91\" style=\"stroke: #383838; stroke-width: 1.0;\"/><text fill=\"#000000\" font-family=\"sans-serif\" font-size=\"13\" lengthAdjust=\"spacingAndGlyphs\" textLength=\"36\" x=\"356\" y=\"176.0669\">[true]</text></a><!--MD5=[79568f1e445c3877b6a54524624ccc7d]\n",
       "link E4 to E6--><a href=\"psysml:07d2ed15-614f-457b-995c-67ac116a921b\" target=\"_top\" title=\"psysml:07d2ed15-614f-457b-995c-67ac116a921b\" xlink:actuate=\"onRequest\" xlink:href=\"psysml:07d2ed15-614f-457b-995c-67ac116a921b\" xlink:show=\"new\" xlink:title=\"psysml:07d2ed15-614f-457b-995c-67ac116a921b\" xlink:type=\"simple\"><path d=\"M301.88,236.49 C330.74,231.97 417.32,217.55 487,197 C526.14,185.46 569.65,168.17 598.9,155.85 \" fill=\"none\" id=\"E4-&gt;E6\" style=\"stroke: #383838; stroke-width: 1.0;\"/><polygon fill=\"#383838\" points=\"603.83,153.77,593.9831,153.576,599.2218,155.7103,597.0875,160.9491,603.83,153.77\" style=\"stroke: #383838; stroke-width: 1.0;\"/><text fill=\"#000000\" font-family=\"sans-serif\" font-size=\"13\" lengthAdjust=\"spacingAndGlyphs\" textLength=\"40\" x=\"437\" y=\"193.0669\">[false]</text></a><!--MD5=[9120cf2e5df3bff93db8f754bbbc09b4]\n",
       "link E5 to E6--><a href=\"psysml:b67ea915-0e8a-4542-80c4-8f1f8e1002d6\" target=\"_top\" title=\"psysml:b67ea915-0e8a-4542-80c4-8f1f8e1002d6\" xlink:actuate=\"onRequest\" xlink:href=\"psysml:b67ea915-0e8a-4542-80c4-8f1f8e1002d6\" xlink:show=\"new\" xlink:title=\"psysml:b67ea915-0e8a-4542-80c4-8f1f8e1002d6\" xlink:type=\"simple\"><path d=\"M487.29,141 C518.05,141 566.36,141 598.83,141 \" fill=\"none\" id=\"E5-&gt;E6\" style=\"stroke: #383838; stroke-width: 1.0;\"/><polygon fill=\"#383838\" points=\"603.91,141,594.91,137,598.91,141,594.91,145,603.91,141\" style=\"stroke: #383838; stroke-width: 1.0;\"/><text fill=\"#000000\" font-family=\"sans-serif\" font-size=\"13\" lengthAdjust=\"spacingAndGlyphs\" textLength=\"55\" x=\"518\" y=\"137.0669\">[x == 0]</text></a><!--MD5=[be42317be300c23f00eea6bef46b878f]\n",
       "@startuml\r\n",
       "left to right direction\r\n",
       "skinparam monochrome true\r\n",
       "skinparam classbackgroundcolor white\r\n",
       "skinparam shadowing false\r\n",
       "skinparam wrapWidth 300\r\n",
       "hide circle\r\n",
       "\r\n",
       "rec def \"DecisionTest\" as E1  <<(T,blue)action def>> [[psysml:704d58b1-847a-4b5f-8ef4-b4da5c2432eb ]] {\r\n",
       "portout \"$result\" as E2  [[psysml:d3db88a9-d6e2-4728-bacb-cdc83b04fb60 ]] \r\n",
       "choice \"test x\" as E3  [[psysml:07816a00-a6c6-49d5-84be-841a1e7e2f6a ]] \r\n",
       "choice \"noname\" as E4  [[psysml:26311404-6ce6-4dcd-89ed-d43ec51ac22a ]] \r\n",
       "rec usage \"A1\" as E5  <<(T,blue)action>> [[psysml:f4b16115-f2df-4145-8494-1e5aced0fe90 ]] {\r\n",
       "}\r\n",
       "\r\n",
       "rec usage \"A2\" as E6  <<(T,blue)action>> [[psysml:ffb4dce0-5cb8-4add-9e67-ebd1f2f3deb3 ]] {\r\n",
       "}\r\n",
       "\r\n",
       "rec usage \"A3\" as E7  <<(T,blue)action>> [[psysml:dc91d98e-27d3-4fe3-8c05-9cedeab5907b ]] {\r\n",
       "}\r\n",
       "\r\n",
       "rec usage \"A3\" as E8  <<(T,blue)action>> [[psysml:dc91d98e-27d3-4fe3-8c05-9cedeab5907b ]] {\r\n",
       "}\r\n",
       "\r\n",
       "}\r\n",
       "\r\n",
       "E3  - -> E5 [[psysml:f0c1a87b-40f9-41dd-914f-8704a756a2ee ]] : [x == 1]\r\n",
       "E3  - -> E6 [[psysml:534d6032-2416-43d2-b21b-3e106f4a7f5b ]] : [x > 1]\r\n",
       "E3  - -> E8 [[psysml:e6958018-0280-470d-866d-790aaedd3d9a ]] \r\n",
       "E3 - -> E4 [[psysml:b2a8f402-8a6f-47b5-a176-34e34a53fa41 ]] \r\n",
       "E4  - -> E5 [[psysml:d4e4cf4f-ca71-4ae2-aa8b-453c4e696e69 ]] : [true]\r\n",
       "E4  - -> E6 [[psysml:07d2ed15-614f-457b-995c-67ac116a921b ]] : [false]\r\n",
       "E5  - -> E6 [[psysml:b67ea915-0e8a-4542-80c4-8f1f8e1002d6 ]] : [x == 0]\r\n",
       "E8  - -> E3 [[psysml:7eebbea4-be3a-4ef1-ac68-fab402045136 ]] : [x > 0]\r\n",
       "@enduml\r\n",
       "\n",
       "PlantUML version 1.2020.13(Sat Jun 13 12:26:38 UTC 2020)\n",
       "(EPL source distribution)\n",
       "Java Runtime: OpenJDK Runtime Environment\n",
       "JVM: OpenJDK 64-Bit Server VM\n",
       "Default Encoding: UTF-8\n",
       "Language: en\n",
       "Country: null\n",
       "--></g></svg>"
      ]
     },
     "execution_count": 22,
     "metadata": {},
     "output_type": "execute_result"
    }
   ],
   "source": [
    "%viz --style=\"LR\" --view=\"MIXED\" \"DecisionTest\""
   ]
  },
  {
   "cell_type": "code",
   "execution_count": 23,
   "id": "e6a91468",
   "metadata": {
    "execution": {
     "iopub.execute_input": "2021-04-20T07:01:20.794455Z",
     "iopub.status.busy": "2021-04-20T07:01:20.793973Z",
     "iopub.status.idle": "2021-04-20T07:01:20.833351Z",
     "shell.execute_reply": "2021-04-20T07:01:20.832027Z"
    }
   },
   "outputs": [
    {
     "data": {
      "image/svg+xml": [
       "<?xml version=\"1.0\" encoding=\"UTF-8\" standalone=\"no\"?><svg xmlns=\"http://www.w3.org/2000/svg\" xmlns:xlink=\"http://www.w3.org/1999/xlink\" contentScriptType=\"application/ecmascript\" contentStyleType=\"text/css\" height=\"574px\" preserveAspectRatio=\"none\" style=\"width:341px;height:574px;\" version=\"1.1\" viewBox=\"0 0 341 574\" width=\"341px\" zoomAndPan=\"magnify\"><defs><filter height=\"300%\" id=\"f1gbhq65vguziu\" width=\"300%\" x=\"-1\" y=\"-1\"><feGaussianBlur result=\"blurOut\" stdDeviation=\"2.0\"/><feColorMatrix in=\"blurOut\" result=\"blurOut2\" type=\"matrix\" values=\"0 0 0 0 0 0 0 0 0 0 0 0 0 0 0 0 0 0 .4 0\"/><feOffset dx=\"4.0\" dy=\"4.0\" in=\"blurOut2\" result=\"blurOut3\"/><feBlend in=\"SourceGraphic\" in2=\"blurOut3\" mode=\"normal\"/></filter></defs><g><!--MD5=[fbc87193dbaf4d95561dea2c320d4a47]\n",
       "cluster E1--><a href=\"psysml:704d58b1-847a-4b5f-8ef4-b4da5c2432eb\" target=\"_top\" title=\"psysml:704d58b1-847a-4b5f-8ef4-b4da5c2432eb\" xlink:actuate=\"onRequest\" xlink:href=\"psysml:704d58b1-847a-4b5f-8ef4-b4da5c2432eb\" xlink:show=\"new\" xlink:title=\"psysml:704d58b1-847a-4b5f-8ef4-b4da5c2432eb\" xlink:type=\"simple\"><rect fill=\"#FFFFFF\" filter=\"url(#f1gbhq65vguziu)\" height=\"534.72\" id=\"E1\" style=\"stroke: #A80036; stroke-width: 1.5;\" width=\"315\" x=\"7\" y=\"7\"/><rect fill=\"#FEFECE\" height=\"37.9375\" style=\"stroke: #A80036; stroke-width: 1.5;\" width=\"315\" x=\"7\" y=\"7\"/><text fill=\"#000000\" font-family=\"sans-serif\" font-size=\"12\" font-style=\"italic\" lengthAdjust=\"spacingAndGlyphs\" textLength=\"77\" x=\"126\" y=\"23.1387\">«action def»</text><text fill=\"#000000\" font-family=\"sans-serif\" font-size=\"12\" lengthAdjust=\"spacingAndGlyphs\" textLength=\"80\" x=\"124.5\" y=\"37.1074\">DecisionTest</text></a><text fill=\"#000000\" font-family=\"sans-serif\" font-size=\"14\" lengthAdjust=\"spacingAndGlyphs\" textLength=\"48\" x=\"140\" y=\"560.7151\">$result</text><rect fill=\"#A80036\" height=\"12\" style=\"stroke: #FEFECE; stroke-width: 1.5;\" width=\"12\" x=\"158\" y=\"535.72\"/><polygon fill=\"#FEFECE\" filter=\"url(#f1gbhq65vguziu)\" points=\"141,28.5,153,40.5,141,52.5,129,40.5,141,28.5\" style=\"stroke: #A80036; stroke-width: 1.5;\"/><polygon fill=\"#FEFECE\" filter=\"url(#f1gbhq65vguziu)\" points=\"35,170.5,47,182.5,35,194.5,23,182.5,35,170.5\" style=\"stroke: #A80036; stroke-width: 1.5;\"/><g id=\"E1.E5\"><a href=\"psysml:f4b16115-f2df-4145-8494-1e5aced0fe90\" target=\"_top\" title=\"psysml:f4b16115-f2df-4145-8494-1e5aced0fe90\" xlink:actuate=\"onRequest\" xlink:href=\"psysml:f4b16115-f2df-4145-8494-1e5aced0fe90\" xlink:show=\"new\" xlink:title=\"psysml:f4b16115-f2df-4145-8494-1e5aced0fe90\" xlink:type=\"simple\"><rect fill=\"#FEFECE\" filter=\"url(#f1gbhq65vguziu)\" height=\"42.9375\" id=\"E5\" rx=\"10\" ry=\"10\" style=\"stroke: #A80036; stroke-width: 1.5;\" width=\"60\" x=\"135\" y=\"281\"/><text fill=\"#000000\" font-family=\"sans-serif\" font-size=\"12\" font-style=\"italic\" lengthAdjust=\"spacingAndGlyphs\" textLength=\"53\" x=\"138.5\" y=\"297.1387\">«action»</text><text fill=\"#000000\" font-family=\"sans-serif\" font-size=\"12\" lengthAdjust=\"spacingAndGlyphs\" textLength=\"16\" x=\"157\" y=\"311.1074\">A1</text></a></g><g id=\"E1.E6\"><a href=\"psysml:ffb4dce0-5cb8-4add-9e67-ebd1f2f3deb3\" target=\"_top\" title=\"psysml:ffb4dce0-5cb8-4add-9e67-ebd1f2f3deb3\" xlink:actuate=\"onRequest\" xlink:href=\"psysml:ffb4dce0-5cb8-4add-9e67-ebd1f2f3deb3\" xlink:show=\"new\" xlink:title=\"psysml:ffb4dce0-5cb8-4add-9e67-ebd1f2f3deb3\" xlink:type=\"simple\"><rect fill=\"#FEFECE\" filter=\"url(#f1gbhq65vguziu)\" height=\"42.9375\" id=\"E6\" rx=\"10\" ry=\"10\" style=\"stroke: #A80036; stroke-width: 1.5;\" width=\"60\" x=\"135\" y=\"401\"/><text fill=\"#000000\" font-family=\"sans-serif\" font-size=\"12\" font-style=\"italic\" lengthAdjust=\"spacingAndGlyphs\" textLength=\"53\" x=\"138.5\" y=\"417.1387\">«action»</text><text fill=\"#000000\" font-family=\"sans-serif\" font-size=\"12\" lengthAdjust=\"spacingAndGlyphs\" textLength=\"16\" x=\"157\" y=\"431.1074\">A2</text></a></g><g id=\"E1.E7\"><a href=\"psysml:dc91d98e-27d3-4fe3-8c05-9cedeab5907b\" target=\"_top\" title=\"psysml:dc91d98e-27d3-4fe3-8c05-9cedeab5907b\" xlink:actuate=\"onRequest\" xlink:href=\"psysml:dc91d98e-27d3-4fe3-8c05-9cedeab5907b\" xlink:show=\"new\" xlink:title=\"psysml:dc91d98e-27d3-4fe3-8c05-9cedeab5907b\" xlink:type=\"simple\"><rect fill=\"#FEFECE\" filter=\"url(#f1gbhq65vguziu)\" height=\"42.9375\" id=\"E7\" rx=\"10\" ry=\"10\" style=\"stroke: #A80036; stroke-width: 1.5;\" width=\"60\" x=\"46\" y=\"88\"/><text fill=\"#000000\" font-family=\"sans-serif\" font-size=\"12\" font-style=\"italic\" lengthAdjust=\"spacingAndGlyphs\" textLength=\"53\" x=\"49.5\" y=\"104.1387\">«action»</text><text fill=\"#000000\" font-family=\"sans-serif\" font-size=\"12\" lengthAdjust=\"spacingAndGlyphs\" textLength=\"16\" x=\"68\" y=\"118.1074\">A3</text></a></g><g id=\"E1.E8\"><a href=\"psysml:dc91d98e-27d3-4fe3-8c05-9cedeab5907b\" target=\"_top\" title=\"psysml:dc91d98e-27d3-4fe3-8c05-9cedeab5907b\" xlink:actuate=\"onRequest\" xlink:href=\"psysml:dc91d98e-27d3-4fe3-8c05-9cedeab5907b\" xlink:show=\"new\" xlink:title=\"psysml:dc91d98e-27d3-4fe3-8c05-9cedeab5907b\" xlink:type=\"simple\"><rect fill=\"#FEFECE\" filter=\"url(#f1gbhq65vguziu)\" height=\"42.9375\" id=\"E8\" rx=\"10\" ry=\"10\" style=\"stroke: #A80036; stroke-width: 1.5;\" width=\"60\" x=\"246\" y=\"161\"/><text fill=\"#000000\" font-family=\"sans-serif\" font-size=\"12\" font-style=\"italic\" lengthAdjust=\"spacingAndGlyphs\" textLength=\"53\" x=\"249.5\" y=\"177.1387\">«action»</text><text fill=\"#000000\" font-family=\"sans-serif\" font-size=\"12\" lengthAdjust=\"spacingAndGlyphs\" textLength=\"16\" x=\"268\" y=\"191.1074\">A3</text></a></g><!--MD5=[0188b64bb0ae78505a997a81836e11e9]\n",
       "link E3 to E5--><a href=\"psysml:f0c1a87b-40f9-41dd-914f-8704a756a2ee\" target=\"_top\" title=\"psysml:f0c1a87b-40f9-41dd-914f-8704a756a2ee\" xlink:actuate=\"onRequest\" xlink:href=\"psysml:f0c1a87b-40f9-41dd-914f-8704a756a2ee\" xlink:show=\"new\" xlink:title=\"psysml:f0c1a87b-40f9-41dd-914f-8704a756a2ee\" xlink:type=\"simple\"><path d=\"M140.49,52.19 C139.39,78.26 137.41,147.1 144,204 C146.84,228.53 153.03,255.98 157.96,275.49 \" fill=\"none\" id=\"E3-&gt;E5\" style=\"stroke: #A80036; stroke-width: 1.0;\"/><polygon fill=\"#A80036\" points=\"159.31,280.77,160.9741,271.0627,158.0805,275.9235,153.2197,273.0299,159.31,280.77\" style=\"stroke: #A80036; stroke-width: 1.0;\"/><text fill=\"#000000\" font-family=\"sans-serif\" font-size=\"13\" lengthAdjust=\"spacingAndGlyphs\" textLength=\"55\" x=\"145\" y=\"187.0669\">[x == 1]</text></a><!--MD5=[ec9844e0c75763426927cad3229d1081]\n",
       "link E3 to E6--><a href=\"psysml:534d6032-2416-43d2-b21b-3e106f4a7f5b\" target=\"_top\" title=\"psysml:534d6032-2416-43d2-b21b-3e106f4a7f5b\" xlink:actuate=\"onRequest\" xlink:href=\"psysml:534d6032-2416-43d2-b21b-3e106f4a7f5b\" xlink:show=\"new\" xlink:title=\"psysml:534d6032-2416-43d2-b21b-3e106f4a7f5b\" xlink:type=\"simple\"><path d=\"M145.73,48.09 C157.96,65.53 190.67,114.68 205,161 C230.5,243.43 221.33,267.84 226,354 C226.41,361.54 229.22,364.16 226,371 C220.27,383.19 209.98,393.45 199.48,401.47 \" fill=\"none\" id=\"E3-&gt;E6\" style=\"stroke: #A80036; stroke-width: 1.0;\"/><polygon fill=\"#A80036\" points=\"195.29,404.54,204.9073,402.4168,199.3138,401.5721,200.1586,395.9786,195.29,404.54\" style=\"stroke: #A80036; stroke-width: 1.0;\"/><text fill=\"#000000\" font-family=\"sans-serif\" font-size=\"13\" lengthAdjust=\"spacingAndGlyphs\" textLength=\"44\" x=\"223\" y=\"247.0669\">[x &gt; 1]</text></a><!--MD5=[ca5a752d6098d8a44b3f88316e7452d1]\n",
       "link E3 to E8--><a href=\"psysml:e6958018-0280-470d-866d-790aaedd3d9a\" target=\"_top\" title=\"psysml:e6958018-0280-470d-866d-790aaedd3d9a\" xlink:actuate=\"onRequest\" xlink:href=\"psysml:e6958018-0280-470d-866d-790aaedd3d9a\" xlink:show=\"new\" xlink:title=\"psysml:e6958018-0280-470d-866d-790aaedd3d9a\" xlink:type=\"simple\"><path d=\"M147.97,45.53 C163.29,54.53 199.17,76.37 207,88 C217.96,104.27 206.82,114.23 217,131 C223.37,141.49 232.66,150.9 242,158.68 \" fill=\"none\" id=\"E3-&gt;E8\" style=\"stroke: #A80036; stroke-width: 1.0;\"/><polygon fill=\"#A80036\" points=\"246,161.91,241.5179,153.1401,242.1124,158.7657,236.4869,159.3602,246,161.91\" style=\"stroke: #A80036; stroke-width: 1.0;\"/></a><!--MD5=[95fa686b5a16158bcdbcaeead89f639b]\n",
       "link E8 to E3--><a href=\"psysml:7eebbea4-be3a-4ef1-ac68-fab402045136\" target=\"_top\" title=\"psysml:7eebbea4-be3a-4ef1-ac68-fab402045136\" xlink:actuate=\"onRequest\" xlink:href=\"psysml:7eebbea4-be3a-4ef1-ac68-fab402045136\" xlink:show=\"new\" xlink:title=\"psysml:7eebbea4-be3a-4ef1-ac68-fab402045136\" xlink:type=\"simple\"><path d=\"M263.71,160.86 C249.28,137.02 225.81,99.6 214,88 C204.2,78.38 171.17,58.79 153.08,48.37 \" fill=\"none\" id=\"E8-&gt;E3\" style=\"stroke: #A80036; stroke-width: 1.0;\"/><polygon fill=\"#A80036\" points=\"148.41,45.69,154.234,53.6323,152.7495,48.1738,158.208,46.6892,148.41,45.69\" style=\"stroke: #A80036; stroke-width: 1.0;\"/><text fill=\"#000000\" font-family=\"sans-serif\" font-size=\"13\" lengthAdjust=\"spacingAndGlyphs\" textLength=\"44\" x=\"244\" y=\"114.0669\">[x &gt; 0]</text></a><!--MD5=[af87c684e3b0d8be13c1a698a818ef1e]\n",
       "link E3 to E4--><a href=\"psysml:b2a8f402-8a6f-47b5-a176-34e34a53fa41\" target=\"_top\" title=\"psysml:b2a8f402-8a6f-47b5-a176-34e34a53fa41\" xlink:actuate=\"onRequest\" xlink:href=\"psysml:b2a8f402-8a6f-47b5-a176-34e34a53fa41\" xlink:show=\"new\" xlink:title=\"psysml:b2a8f402-8a6f-47b5-a176-34e34a53fa41\" xlink:type=\"simple\"><path d=\"M131.03,42.86 C110.41,46.26 63.22,57.19 42,88 C25.54,111.89 28.61,147.84 31.99,167.47 \" fill=\"none\" id=\"E3-&gt;E4\" style=\"stroke: #A80036; stroke-width: 1.0;\"/><polygon fill=\"#A80036\" points=\"32.94,172.56,35.2263,162.9802,32.0255,167.6443,27.3613,164.4435,32.94,172.56\" style=\"stroke: #A80036; stroke-width: 1.0;\"/></a><!--MD5=[1b7591eae5389033d8d09a9d6721a717]\n",
       "link E4 to E5--><a href=\"psysml:d4e4cf4f-ca71-4ae2-aa8b-453c4e696e69\" target=\"_top\" title=\"psysml:d4e4cf4f-ca71-4ae2-aa8b-453c4e696e69\" xlink:actuate=\"onRequest\" xlink:href=\"psysml:d4e4cf4f-ca71-4ae2-aa8b-453c4e696e69\" xlink:show=\"new\" xlink:title=\"psysml:d4e4cf4f-ca71-4ae2-aa8b-453c4e696e69\" xlink:type=\"simple\"><path d=\"M39.08,190.91 C46.63,204.15 63.87,232.24 84,251 C97.73,263.8 115.17,275.16 130.35,283.85 \" fill=\"none\" id=\"E4-&gt;E5\" style=\"stroke: #A80036; stroke-width: 1.0;\"/><polygon fill=\"#A80036\" points=\"134.98,286.46,129.0858,278.5696,130.6187,284.0148,125.1735,285.5477,134.98,286.46\" style=\"stroke: #A80036; stroke-width: 1.0;\"/><text fill=\"#000000\" font-family=\"sans-serif\" font-size=\"13\" lengthAdjust=\"spacingAndGlyphs\" textLength=\"36\" x=\"85\" y=\"247.0669\">[true]</text></a><!--MD5=[79568f1e445c3877b6a54524624ccc7d]\n",
       "link E4 to E6--><a href=\"psysml:07d2ed15-614f-457b-995c-67ac116a921b\" target=\"_top\" title=\"psysml:07d2ed15-614f-457b-995c-67ac116a921b\" xlink:actuate=\"onRequest\" xlink:href=\"psysml:07d2ed15-614f-457b-995c-67ac116a921b\" xlink:show=\"new\" xlink:title=\"psysml:07d2ed15-614f-457b-995c-67ac116a921b\" xlink:type=\"simple\"><path d=\"M36.3,193.29 C39.76,217.03 50.73,279.03 76,324 C91.89,352.29 117.42,379.1 137.07,397.43 \" fill=\"none\" id=\"E4-&gt;E6\" style=\"stroke: #A80036; stroke-width: 1.0;\"/><polygon fill=\"#A80036\" points=\"140.92,400.98,137.0155,391.9382,137.2443,397.5904,131.5921,397.8192,140.92,400.98\" style=\"stroke: #A80036; stroke-width: 1.0;\"/><text fill=\"#000000\" font-family=\"sans-serif\" font-size=\"13\" lengthAdjust=\"spacingAndGlyphs\" textLength=\"40\" x=\"77\" y=\"307.0669\">[false]</text></a><!--MD5=[9120cf2e5df3bff93db8f754bbbc09b4]\n",
       "link E5 to E6--><a href=\"psysml:b67ea915-0e8a-4542-80c4-8f1f8e1002d6\" target=\"_top\" title=\"psysml:b67ea915-0e8a-4542-80c4-8f1f8e1002d6\" xlink:actuate=\"onRequest\" xlink:href=\"psysml:b67ea915-0e8a-4542-80c4-8f1f8e1002d6\" xlink:show=\"new\" xlink:title=\"psysml:b67ea915-0e8a-4542-80c4-8f1f8e1002d6\" xlink:type=\"simple\"><path d=\"M165,324.05 C165,343.9 165,374.02 165,395.52 \" fill=\"none\" id=\"E5-&gt;E6\" style=\"stroke: #A80036; stroke-width: 1.0;\"/><polygon fill=\"#A80036\" points=\"165,400.79,169,391.79,165,395.79,161,391.79,165,400.79\" style=\"stroke: #A80036; stroke-width: 1.0;\"/><text fill=\"#000000\" font-family=\"sans-serif\" font-size=\"13\" lengthAdjust=\"spacingAndGlyphs\" textLength=\"55\" x=\"166\" y=\"367.0669\">[x == 0]</text></a><!--MD5=[63bb46dbb4940016ab7ee02acb912714]\n",
       "@startuml\r\n",
       "skinparam wrapWidth 300\r\n",
       "hide circle\r\n",
       "\r\n",
       "rec def \"DecisionTest\" as E1  <<(T,blue)action def>> [[psysml:704d58b1-847a-4b5f-8ef4-b4da5c2432eb ]] {\r\n",
       "portout \"$result\" as E2  [[psysml:d3db88a9-d6e2-4728-bacb-cdc83b04fb60 ]] \r\n",
       "choice \"test x\" as E3  [[psysml:07816a00-a6c6-49d5-84be-841a1e7e2f6a ]] \r\n",
       "choice \"noname\" as E4  [[psysml:26311404-6ce6-4dcd-89ed-d43ec51ac22a ]] \r\n",
       "rec usage \"A1\" as E5  <<(T,blue)action>> [[psysml:f4b16115-f2df-4145-8494-1e5aced0fe90 ]] {\r\n",
       "}\r\n",
       "\r\n",
       "rec usage \"A2\" as E6  <<(T,blue)action>> [[psysml:ffb4dce0-5cb8-4add-9e67-ebd1f2f3deb3 ]] {\r\n",
       "}\r\n",
       "\r\n",
       "rec usage \"A3\" as E7  <<(T,blue)action>> [[psysml:dc91d98e-27d3-4fe3-8c05-9cedeab5907b ]] {\r\n",
       "}\r\n",
       "\r\n",
       "rec usage \"A3\" as E8  <<(T,blue)action>> [[psysml:dc91d98e-27d3-4fe3-8c05-9cedeab5907b ]] {\r\n",
       "}\r\n",
       "\r\n",
       "}\r\n",
       "\r\n",
       "E3  - -> E5 [[psysml:f0c1a87b-40f9-41dd-914f-8704a756a2ee ]] : [x == 1]\r\n",
       "E3  - -> E6 [[psysml:534d6032-2416-43d2-b21b-3e106f4a7f5b ]] : [x > 1]\r\n",
       "E3  - -> E8 [[psysml:e6958018-0280-470d-866d-790aaedd3d9a ]] \r\n",
       "E3 - -> E4 [[psysml:b2a8f402-8a6f-47b5-a176-34e34a53fa41 ]] \r\n",
       "E4  - -> E5 [[psysml:d4e4cf4f-ca71-4ae2-aa8b-453c4e696e69 ]] : [true]\r\n",
       "E4  - -> E6 [[psysml:07d2ed15-614f-457b-995c-67ac116a921b ]] : [false]\r\n",
       "E5  - -> E6 [[psysml:b67ea915-0e8a-4542-80c4-8f1f8e1002d6 ]] : [x == 0]\r\n",
       "E8  - -> E3 [[psysml:7eebbea4-be3a-4ef1-ac68-fab402045136 ]] : [x > 0]\r\n",
       "@enduml\r\n",
       "\n",
       "PlantUML version 1.2020.13(Sat Jun 13 12:26:38 UTC 2020)\n",
       "(EPL source distribution)\n",
       "Java Runtime: OpenJDK Runtime Environment\n",
       "JVM: OpenJDK 64-Bit Server VM\n",
       "Default Encoding: UTF-8\n",
       "Language: en\n",
       "Country: null\n",
       "--></g></svg>"
      ]
     },
     "execution_count": 23,
     "metadata": {},
     "output_type": "execute_result"
    }
   ],
   "source": [
    "%viz --style=\"STDCOLOR\" --view=\"Default\" \"DecisionTest\""
   ]
  },
  {
   "cell_type": "code",
   "execution_count": 24,
   "id": "4c695df4",
   "metadata": {
    "execution": {
     "iopub.execute_input": "2021-04-20T07:01:20.883768Z",
     "iopub.status.busy": "2021-04-20T07:01:20.883317Z",
     "iopub.status.idle": "2021-04-20T07:01:20.956393Z",
     "shell.execute_reply": "2021-04-20T07:01:20.956001Z"
    }
   },
   "outputs": [
    {
     "data": {
      "image/svg+xml": [
       "<?xml version=\"1.0\" encoding=\"UTF-8\" standalone=\"no\"?><svg xmlns=\"http://www.w3.org/2000/svg\" xmlns:xlink=\"http://www.w3.org/1999/xlink\" contentScriptType=\"application/ecmascript\" contentStyleType=\"text/css\" height=\"199px\" preserveAspectRatio=\"none\" style=\"width:117px;height:199px;\" version=\"1.1\" viewBox=\"0 0 117 199\" width=\"117px\" zoomAndPan=\"magnify\"><defs><filter height=\"300%\" id=\"fnol3ik3231ie\" width=\"300%\" x=\"-1\" y=\"-1\"><feGaussianBlur result=\"blurOut\" stdDeviation=\"2.0\"/><feColorMatrix in=\"blurOut\" result=\"blurOut2\" type=\"matrix\" values=\"0 0 0 0 0 0 0 0 0 0 0 0 0 0 0 0 0 0 .4 0\"/><feOffset dx=\"4.0\" dy=\"4.0\" in=\"blurOut2\" result=\"blurOut3\"/><feBlend in=\"SourceGraphic\" in2=\"blurOut3\" mode=\"normal\"/></filter></defs><g><!--MD5=[43c9051892ef23e1a46a86907403d788]\n",
       "class E1--><a href=\"psysml:704d58b1-847a-4b5f-8ef4-b4da5c2432eb\" target=\"_top\" title=\"psysml:704d58b1-847a-4b5f-8ef4-b4da5c2432eb\" xlink:actuate=\"onRequest\" xlink:href=\"psysml:704d58b1-847a-4b5f-8ef4-b4da5c2432eb\" xlink:show=\"new\" xlink:title=\"psysml:704d58b1-847a-4b5f-8ef4-b4da5c2432eb\" xlink:type=\"simple\"><rect fill=\"#FEFECE\" filter=\"url(#fnol3ik3231ie)\" height=\"173.1797\" id=\"E1\" style=\"stroke: #A80036; stroke-width: 1.5;\" width=\"91\" x=\"7\" y=\"7\"/><text fill=\"#000000\" font-family=\"sans-serif\" font-size=\"12\" font-style=\"italic\" lengthAdjust=\"spacingAndGlyphs\" textLength=\"77\" x=\"14\" y=\"23.1387\">«action def»</text><text fill=\"#000000\" font-family=\"sans-serif\" font-size=\"12\" lengthAdjust=\"spacingAndGlyphs\" textLength=\"80\" x=\"12.5\" y=\"37.1074\">DecisionTest</text><line style=\"stroke: #A80036; stroke-width: 1.5;\" x1=\"8\" x2=\"97\" y1=\"44.9375\" y2=\"44.9375\"/><text fill=\"#000000\" font-family=\"sans-serif\" font-size=\"11\" lengthAdjust=\"spacingAndGlyphs\" textLength=\"26\" x=\"13\" y=\"59.1479\">x=1;</text><text fill=\"#000000\" font-family=\"sans-serif\" font-size=\"11\" lengthAdjust=\"spacingAndGlyphs\" textLength=\"14\" x=\"13\" y=\"88.7573\">A1</text><text fill=\"#000000\" font-family=\"sans-serif\" font-size=\"11\" lengthAdjust=\"spacingAndGlyphs\" textLength=\"14\" x=\"13\" y=\"101.562\">A2</text><text fill=\"#000000\" font-family=\"sans-serif\" font-size=\"11\" lengthAdjust=\"spacingAndGlyphs\" textLength=\"14\" x=\"13\" y=\"114.3667\">A3</text><line style=\"stroke: #A80036; stroke-width: 1.0;\" x1=\"8\" x2=\"32\" y1=\"72.1445\" y2=\"72.1445\"/><text fill=\"#000000\" font-family=\"sans-serif\" font-size=\"11\" lengthAdjust=\"spacingAndGlyphs\" textLength=\"41\" x=\"32\" y=\"75.4526\">actions</text><line style=\"stroke: #A80036; stroke-width: 1.0;\" x1=\"73\" x2=\"97\" y1=\"72.1445\" y2=\"72.1445\"/><text fill=\"#000000\" font-family=\"sans-serif\" font-size=\"11\" lengthAdjust=\"spacingAndGlyphs\" textLength=\"32\" x=\"13\" y=\"143.9761\">test x</text><line style=\"stroke: #A80036; stroke-width: 1.0;\" x1=\"8\" x2=\"11\" y1=\"127.3633\" y2=\"127.3633\"/><text fill=\"#000000\" font-family=\"sans-serif\" font-size=\"11\" lengthAdjust=\"spacingAndGlyphs\" textLength=\"83\" x=\"11\" y=\"130.6714\">decisionNodes</text><line style=\"stroke: #A80036; stroke-width: 1.0;\" x1=\"94\" x2=\"97\" y1=\"127.3633\" y2=\"127.3633\"/><text fill=\"#000000\" font-family=\"sans-serif\" font-size=\"11\" lengthAdjust=\"spacingAndGlyphs\" textLength=\"8\" x=\"13\" y=\"173.5854\">S</text><line style=\"stroke: #A80036; stroke-width: 1.0;\" x1=\"8\" x2=\"22\" y1=\"156.9727\" y2=\"156.9727\"/><text fill=\"#000000\" font-family=\"sans-serif\" font-size=\"11\" lengthAdjust=\"spacingAndGlyphs\" textLength=\"61\" x=\"22\" y=\"160.2808\">transitions</text><line style=\"stroke: #A80036; stroke-width: 1.0;\" x1=\"83\" x2=\"97\" y1=\"156.9727\" y2=\"156.9727\"/></a><!--MD5=[d2c1ac4f245c54904e24c8baffd7aadc]\n",
       "@startuml\r\n",
       "skinparam wrapWidth 300\r\n",
       "hide circle\r\n",
       "\r\n",
       "comp def \"DecisionTest\" as E1  <<(T,blue)action def>> [[psysml:704d58b1-847a-4b5f-8ef4-b4da5c2432eb ]] {\r\n",
       "x=1; \r\n",
       "- - actions - -\r\n",
       "A1\r\n",
       "A2\r\n",
       "A3\r\n",
       "- - decisionNodes - -\r\n",
       "test x\r\n",
       "- - transitions - -\r\n",
       "S\r\n",
       "}\r\n",
       "@enduml\r\n",
       "\n",
       "PlantUML version 1.2020.13(Sat Jun 13 12:26:38 UTC 2020)\n",
       "(EPL source distribution)\n",
       "Java Runtime: OpenJDK Runtime Environment\n",
       "JVM: OpenJDK 64-Bit Server VM\n",
       "Default Encoding: UTF-8\n",
       "Language: en\n",
       "Country: null\n",
       "--></g></svg>"
      ]
     },
     "execution_count": 24,
     "metadata": {},
     "output_type": "execute_result"
    }
   ],
   "source": [
    "%viz --style=\"STDCOLOR\" --view=\"Tree\" \"DecisionTest\""
   ]
  },
  {
   "cell_type": "code",
   "execution_count": 25,
   "id": "e27d477c",
   "metadata": {
    "execution": {
     "iopub.execute_input": "2021-04-20T07:01:21.006668Z",
     "iopub.status.busy": "2021-04-20T07:01:21.006282Z",
     "iopub.status.idle": "2021-04-20T07:01:21.011949Z",
     "shell.execute_reply": "2021-04-20T07:01:21.011550Z"
    }
   },
   "outputs": [
    {
     "data": {
      "image/svg+xml": [
       "<?xml version=\"1.0\" encoding=\"UTF-8\" standalone=\"no\"?><svg xmlns=\"http://www.w3.org/2000/svg\" xmlns:xlink=\"http://www.w3.org/1999/xlink\" contentScriptType=\"application/ecmascript\" contentStyleType=\"text/css\" height=\"12px\" preserveAspectRatio=\"none\" style=\"width:12px;height:12px;\" version=\"1.1\" viewBox=\"0 0 12 12\" width=\"12px\" zoomAndPan=\"magnify\"><defs/><g><!--MD5=[aeeef50f102b80d730deb6443d14f702]\n",
       "@startuml\r\n",
       "skinparam wrapWidth 300\r\n",
       "hide circle\r\n",
       "\r\n",
       "@enduml\r\n",
       "\n",
       "PlantUML version 1.2020.13(Sat Jun 13 12:26:38 UTC 2020)\n",
       "(EPL source distribution)\n",
       "Java Runtime: OpenJDK Runtime Environment\n",
       "JVM: OpenJDK 64-Bit Server VM\n",
       "Default Encoding: UTF-8\n",
       "Language: en\n",
       "Country: null\n",
       "--></g></svg>"
      ]
     },
     "execution_count": 25,
     "metadata": {},
     "output_type": "execute_result"
    }
   ],
   "source": [
    "%viz --style=\"STDCOLOR\" --view=\"State\" \"DecisionTest\""
   ]
  },
  {
   "cell_type": "code",
   "execution_count": 26,
   "id": "63e2e047",
   "metadata": {
    "execution": {
     "iopub.execute_input": "2021-04-20T07:01:21.062380Z",
     "iopub.status.busy": "2021-04-20T07:01:21.062001Z",
     "iopub.status.idle": "2021-04-20T07:01:21.101616Z",
     "shell.execute_reply": "2021-04-20T07:01:21.099330Z"
    }
   },
   "outputs": [
    {
     "data": {
      "image/svg+xml": [
       "<?xml version=\"1.0\" encoding=\"UTF-8\" standalone=\"no\"?><svg xmlns=\"http://www.w3.org/2000/svg\" xmlns:xlink=\"http://www.w3.org/1999/xlink\" contentScriptType=\"application/ecmascript\" contentStyleType=\"text/css\" height=\"384px\" preserveAspectRatio=\"none\" style=\"width:341px;height:384px;\" version=\"1.1\" viewBox=\"0 0 341 384\" width=\"341px\" zoomAndPan=\"magnify\"><defs><filter height=\"300%\" id=\"fmbws0whkqhpd\" width=\"300%\" x=\"-1\" y=\"-1\"><feGaussianBlur result=\"blurOut\" stdDeviation=\"2.0\"/><feColorMatrix in=\"blurOut\" result=\"blurOut2\" type=\"matrix\" values=\"0 0 0 0 0 0 0 0 0 0 0 0 0 0 0 0 0 0 .4 0\"/><feOffset dx=\"4.0\" dy=\"4.0\" in=\"blurOut2\" result=\"blurOut3\"/><feBlend in=\"SourceGraphic\" in2=\"blurOut3\" mode=\"normal\"/></filter></defs><g><!--MD5=[fbc87193dbaf4d95561dea2c320d4a47]\n",
       "cluster E1--><a href=\"psysml:704d58b1-847a-4b5f-8ef4-b4da5c2432eb\" target=\"_top\" title=\"psysml:704d58b1-847a-4b5f-8ef4-b4da5c2432eb\" xlink:actuate=\"onRequest\" xlink:href=\"psysml:704d58b1-847a-4b5f-8ef4-b4da5c2432eb\" xlink:show=\"new\" xlink:title=\"psysml:704d58b1-847a-4b5f-8ef4-b4da5c2432eb\" xlink:type=\"simple\"><rect fill=\"#FFFFFF\" filter=\"url(#fmbws0whkqhpd)\" height=\"344.72\" id=\"E1\" style=\"stroke: #A80036; stroke-width: 1.5;\" width=\"315\" x=\"7\" y=\"7\"/><rect fill=\"#FEFECE\" height=\"37.9375\" style=\"stroke: #A80036; stroke-width: 1.5;\" width=\"315\" x=\"7\" y=\"7\"/><text fill=\"#000000\" font-family=\"sans-serif\" font-size=\"12\" font-style=\"italic\" lengthAdjust=\"spacingAndGlyphs\" textLength=\"77\" x=\"126\" y=\"23.1387\">«action def»</text><text fill=\"#000000\" font-family=\"sans-serif\" font-size=\"12\" lengthAdjust=\"spacingAndGlyphs\" textLength=\"80\" x=\"124.5\" y=\"37.1074\">DecisionTest</text></a><text fill=\"#000000\" font-family=\"sans-serif\" font-size=\"14\" lengthAdjust=\"spacingAndGlyphs\" textLength=\"48\" x=\"140\" y=\"370.7151\">$result</text><rect fill=\"#A80036\" height=\"12\" style=\"stroke: #FEFECE; stroke-width: 1.5;\" width=\"12\" x=\"158\" y=\"345.72\"/><polygon fill=\"#FEFECE\" filter=\"url(#fmbws0whkqhpd)\" points=\"141,28.5,153,40.5,141,52.5,129,40.5,141,28.5\" style=\"stroke: #A80036; stroke-width: 1.5;\"/><polygon fill=\"#FEFECE\" filter=\"url(#fmbws0whkqhpd)\" points=\"35,126.5,47,138.5,35,150.5,23,138.5,35,126.5\" style=\"stroke: #A80036; stroke-width: 1.5;\"/><g id=\"E1.E5\"><a href=\"psysml:f4b16115-f2df-4145-8494-1e5aced0fe90\" target=\"_top\" title=\"psysml:f4b16115-f2df-4145-8494-1e5aced0fe90\" xlink:actuate=\"onRequest\" xlink:href=\"psysml:f4b16115-f2df-4145-8494-1e5aced0fe90\" xlink:show=\"new\" xlink:title=\"psysml:f4b16115-f2df-4145-8494-1e5aced0fe90\" xlink:type=\"simple\"><rect fill=\"#FEFECE\" filter=\"url(#fmbws0whkqhpd)\" height=\"42.9375\" id=\"E5\" rx=\"10\" ry=\"10\" style=\"stroke: #A80036; stroke-width: 1.5;\" width=\"60\" x=\"135\" y=\"193\"/><text fill=\"#000000\" font-family=\"sans-serif\" font-size=\"12\" font-style=\"italic\" lengthAdjust=\"spacingAndGlyphs\" textLength=\"53\" x=\"138.5\" y=\"209.1387\">«action»</text><text fill=\"#000000\" font-family=\"sans-serif\" font-size=\"12\" lengthAdjust=\"spacingAndGlyphs\" textLength=\"16\" x=\"157\" y=\"223.1074\">A1</text></a></g><g id=\"E1.E6\"><a href=\"psysml:ffb4dce0-5cb8-4add-9e67-ebd1f2f3deb3\" target=\"_top\" title=\"psysml:ffb4dce0-5cb8-4add-9e67-ebd1f2f3deb3\" xlink:actuate=\"onRequest\" xlink:href=\"psysml:ffb4dce0-5cb8-4add-9e67-ebd1f2f3deb3\" xlink:show=\"new\" xlink:title=\"psysml:ffb4dce0-5cb8-4add-9e67-ebd1f2f3deb3\" xlink:type=\"simple\"><rect fill=\"#FEFECE\" filter=\"url(#fmbws0whkqhpd)\" height=\"42.9375\" id=\"E6\" rx=\"10\" ry=\"10\" style=\"stroke: #A80036; stroke-width: 1.5;\" width=\"60\" x=\"135\" y=\"269\"/><text fill=\"#000000\" font-family=\"sans-serif\" font-size=\"12\" font-style=\"italic\" lengthAdjust=\"spacingAndGlyphs\" textLength=\"53\" x=\"138.5\" y=\"285.1387\">«action»</text><text fill=\"#000000\" font-family=\"sans-serif\" font-size=\"12\" lengthAdjust=\"spacingAndGlyphs\" textLength=\"16\" x=\"157\" y=\"299.1074\">A2</text></a></g><g id=\"E1.E7\"><a href=\"psysml:dc91d98e-27d3-4fe3-8c05-9cedeab5907b\" target=\"_top\" title=\"psysml:dc91d98e-27d3-4fe3-8c05-9cedeab5907b\" xlink:actuate=\"onRequest\" xlink:href=\"psysml:dc91d98e-27d3-4fe3-8c05-9cedeab5907b\" xlink:show=\"new\" xlink:title=\"psysml:dc91d98e-27d3-4fe3-8c05-9cedeab5907b\" xlink:type=\"simple\"><rect fill=\"#FEFECE\" filter=\"url(#fmbws0whkqhpd)\" height=\"42.9375\" id=\"E7\" rx=\"10\" ry=\"10\" style=\"stroke: #A80036; stroke-width: 1.5;\" width=\"60\" x=\"46\" y=\"66\"/><text fill=\"#000000\" font-family=\"sans-serif\" font-size=\"12\" font-style=\"italic\" lengthAdjust=\"spacingAndGlyphs\" textLength=\"53\" x=\"49.5\" y=\"82.1387\">«action»</text><text fill=\"#000000\" font-family=\"sans-serif\" font-size=\"12\" lengthAdjust=\"spacingAndGlyphs\" textLength=\"16\" x=\"68\" y=\"96.1074\">A3</text></a></g><g id=\"E1.E8\"><a href=\"psysml:dc91d98e-27d3-4fe3-8c05-9cedeab5907b\" target=\"_top\" title=\"psysml:dc91d98e-27d3-4fe3-8c05-9cedeab5907b\" xlink:actuate=\"onRequest\" xlink:href=\"psysml:dc91d98e-27d3-4fe3-8c05-9cedeab5907b\" xlink:show=\"new\" xlink:title=\"psysml:dc91d98e-27d3-4fe3-8c05-9cedeab5907b\" xlink:type=\"simple\"><rect fill=\"#FEFECE\" filter=\"url(#fmbws0whkqhpd)\" height=\"42.9375\" id=\"E8\" rx=\"10\" ry=\"10\" style=\"stroke: #A80036; stroke-width: 1.5;\" width=\"60\" x=\"246\" y=\"117\"/><text fill=\"#000000\" font-family=\"sans-serif\" font-size=\"12\" font-style=\"italic\" lengthAdjust=\"spacingAndGlyphs\" textLength=\"53\" x=\"249.5\" y=\"133.1387\">«action»</text><text fill=\"#000000\" font-family=\"sans-serif\" font-size=\"12\" lengthAdjust=\"spacingAndGlyphs\" textLength=\"16\" x=\"268\" y=\"147.1074\">A3</text></a></g><!--MD5=[0188b64bb0ae78505a997a81836e11e9]\n",
       "link E3 to E5--><a href=\"psysml:f0c1a87b-40f9-41dd-914f-8704a756a2ee\" target=\"_top\" title=\"psysml:f0c1a87b-40f9-41dd-914f-8704a756a2ee\" xlink:actuate=\"onRequest\" xlink:href=\"psysml:f0c1a87b-40f9-41dd-914f-8704a756a2ee\" xlink:show=\"new\" xlink:title=\"psysml:f0c1a87b-40f9-41dd-914f-8704a756a2ee\" xlink:type=\"simple\"><path d=\"M140.07,51.78 C138.47,72.5 136.04,120.67 144,160 C145.92,169.49 149.4,179.47 152.99,188.21 \" fill=\"none\" id=\"E3-&gt;E5\" style=\"stroke: #A80036; stroke-width: 1.0;\"/><polygon fill=\"#A80036\" points=\"154.98,192.92,155.1631,183.0728,153.0346,188.314,147.7935,186.1855,154.98,192.92\" style=\"stroke: #A80036; stroke-width: 1.0;\"/><text fill=\"#000000\" font-family=\"sans-serif\" font-size=\"13\" lengthAdjust=\"spacingAndGlyphs\" textLength=\"55\" x=\"145\" y=\"143.0669\">[x == 1]</text></a><!--MD5=[ec9844e0c75763426927cad3229d1081]\n",
       "link E3 to E6--><a href=\"psysml:534d6032-2416-43d2-b21b-3e106f4a7f5b\" target=\"_top\" title=\"psysml:534d6032-2416-43d2-b21b-3e106f4a7f5b\" xlink:actuate=\"onRequest\" xlink:href=\"psysml:534d6032-2416-43d2-b21b-3e106f4a7f5b\" xlink:show=\"new\" xlink:title=\"psysml:534d6032-2416-43d2-b21b-3e106f4a7f5b\" xlink:type=\"simple\"><path d=\"M147.17,46.62 C160.24,57.84 190.71,86.12 205,117 C229.03,168.92 221.32,186.98 226,244 C226.62,251.53 230.06,254.63 226,261 C220.01,270.41 210.02,276.76 199.83,281.03 \" fill=\"none\" id=\"E3-&gt;E6\" style=\"stroke: #A80036; stroke-width: 1.0;\"/><polygon fill=\"#A80036\" points=\"195.15,282.85,204.9881,283.3102,199.8089,281.035,202.0841,275.8559,195.15,282.85\" style=\"stroke: #A80036; stroke-width: 1.0;\"/><text fill=\"#000000\" font-family=\"sans-serif\" font-size=\"13\" lengthAdjust=\"spacingAndGlyphs\" textLength=\"44\" x=\"224\" y=\"181.0669\">[x &gt; 1]</text></a><!--MD5=[ca5a752d6098d8a44b3f88316e7452d1]\n",
       "link E3 to E8--><a href=\"psysml:e6958018-0280-470d-866d-790aaedd3d9a\" target=\"_top\" title=\"psysml:e6958018-0280-470d-866d-790aaedd3d9a\" xlink:actuate=\"onRequest\" xlink:href=\"psysml:e6958018-0280-470d-866d-790aaedd3d9a\" xlink:show=\"new\" xlink:title=\"psysml:e6958018-0280-470d-866d-790aaedd3d9a\" xlink:type=\"simple\"><path d=\"M147.65,45.88 C153.56,49.59 162.55,54.81 171,58 C186.34,63.79 195.35,54.47 207,66 C220.94,79.81 204.74,93.68 217,109 C223.18,116.72 231.96,122.48 240.86,126.73 \" fill=\"none\" id=\"E3-&gt;E8\" style=\"stroke: #A80036; stroke-width: 1.0;\"/><polygon fill=\"#A80036\" points=\"245.81,128.93,239.2251,121.6061,241.2451,126.89,235.9612,128.91,245.81,128.93\" style=\"stroke: #A80036; stroke-width: 1.0;\"/></a><!--MD5=[95fa686b5a16158bcdbcaeead89f639b]\n",
       "link E8 to E3--><a href=\"psysml:7eebbea4-be3a-4ef1-ac68-fab402045136\" target=\"_top\" title=\"psysml:7eebbea4-be3a-4ef1-ac68-fab402045136\" xlink:actuate=\"onRequest\" xlink:href=\"psysml:7eebbea4-be3a-4ef1-ac68-fab402045136\" xlink:show=\"new\" xlink:title=\"psysml:7eebbea4-be3a-4ef1-ac68-fab402045136\" xlink:type=\"simple\"><path d=\"M253.3,116.74 C250.77,114.19 248.29,111.58 246,109 C230.2,91.18 234.22,78.6 214,66 C197.5,55.72 189.3,64.54 171,58 C164.35,55.62 157.42,51.9 151.89,48.59 \" fill=\"none\" id=\"E8-&gt;E3\" style=\"stroke: #A80036; stroke-width: 1.0;\"/><polygon fill=\"#A80036\" points=\"147.62,45.95,153.1764,54.0818,151.8744,48.5769,157.3793,47.2748,147.62,45.95\" style=\"stroke: #A80036; stroke-width: 1.0;\"/><text fill=\"#000000\" font-family=\"sans-serif\" font-size=\"13\" lengthAdjust=\"spacingAndGlyphs\" textLength=\"44\" x=\"247\" y=\"92.0669\">[x &gt; 0]</text></a><!--MD5=[af87c684e3b0d8be13c1a698a818ef1e]\n",
       "link E3 to E4--><a href=\"psysml:b2a8f402-8a6f-47b5-a176-34e34a53fa41\" target=\"_top\" title=\"psysml:b2a8f402-8a6f-47b5-a176-34e34a53fa41\" xlink:actuate=\"onRequest\" xlink:href=\"psysml:b2a8f402-8a6f-47b5-a176-34e34a53fa41\" xlink:show=\"new\" xlink:title=\"psysml:b2a8f402-8a6f-47b5-a176-34e34a53fa41\" xlink:type=\"simple\"><path d=\"M130.87,42.54 C108.03,45.11 53.64,52.54 42,66 C28.37,81.77 29.55,107.42 32.02,123.33 \" fill=\"none\" id=\"E3-&gt;E4\" style=\"stroke: #A80036; stroke-width: 1.0;\"/><polygon fill=\"#A80036\" points=\"32.88,128.32,35.3057,118.7745,32.0372,123.3915,27.4201,120.1231,32.88,128.32\" style=\"stroke: #A80036; stroke-width: 1.0;\"/></a><!--MD5=[1b7591eae5389033d8d09a9d6721a717]\n",
       "link E4 to E5--><a href=\"psysml:d4e4cf4f-ca71-4ae2-aa8b-453c4e696e69\" target=\"_top\" title=\"psysml:d4e4cf4f-ca71-4ae2-aa8b-453c4e696e69\" xlink:actuate=\"onRequest\" xlink:href=\"psysml:d4e4cf4f-ca71-4ae2-aa8b-453c4e696e69\" xlink:show=\"new\" xlink:title=\"psysml:d4e4cf4f-ca71-4ae2-aa8b-453c4e696e69\" xlink:type=\"simple\"><path d=\"M40.09,145.69 C48.35,155.37 65.62,174.11 84,185 C93.67,190.73 97.38,189.32 108,193 C115.1,195.46 122.69,198.15 129.93,200.74 \" fill=\"none\" id=\"E4-&gt;E5\" style=\"stroke: #A80036; stroke-width: 1.0;\"/><polygon fill=\"#A80036\" points=\"134.87,202.52,127.7488,195.7164,130.1636,200.832,125.048,203.2467,134.87,202.52\" style=\"stroke: #A80036; stroke-width: 1.0;\"/><text fill=\"#000000\" font-family=\"sans-serif\" font-size=\"13\" lengthAdjust=\"spacingAndGlyphs\" textLength=\"36\" x=\"85\" y=\"181.0669\">[true]</text></a><!--MD5=[79568f1e445c3877b6a54524624ccc7d]\n",
       "link E4 to E6--><a href=\"psysml:07d2ed15-614f-457b-995c-67ac116a921b\" target=\"_top\" title=\"psysml:07d2ed15-614f-457b-995c-67ac116a921b\" xlink:actuate=\"onRequest\" xlink:href=\"psysml:07d2ed15-614f-457b-995c-67ac116a921b\" xlink:show=\"new\" xlink:title=\"psysml:07d2ed15-614f-457b-995c-67ac116a921b\" xlink:type=\"simple\"><path d=\"M36.89,148.77 C41.08,167.27 52.64,209.28 76,236 C90.77,252.89 112.21,266 130.35,275.02 \" fill=\"none\" id=\"E4-&gt;E6\" style=\"stroke: #A80036; stroke-width: 1.0;\"/><polygon fill=\"#A80036\" points=\"134.88,277.22,128.532,269.6898,130.3825,275.0355,125.0368,276.8859,134.88,277.22\" style=\"stroke: #A80036; stroke-width: 1.0;\"/><text fill=\"#000000\" font-family=\"sans-serif\" font-size=\"13\" lengthAdjust=\"spacingAndGlyphs\" textLength=\"40\" x=\"77\" y=\"219.0669\">[false]</text></a><!--MD5=[9120cf2e5df3bff93db8f754bbbc09b4]\n",
       "link E5 to E6--><a href=\"psysml:b67ea915-0e8a-4542-80c4-8f1f8e1002d6\" target=\"_top\" title=\"psysml:b67ea915-0e8a-4542-80c4-8f1f8e1002d6\" xlink:actuate=\"onRequest\" xlink:href=\"psysml:b67ea915-0e8a-4542-80c4-8f1f8e1002d6\" xlink:show=\"new\" xlink:title=\"psysml:b67ea915-0e8a-4542-80c4-8f1f8e1002d6\" xlink:type=\"simple\"><path d=\"M165,236.11 C165,244.69 165,254.75 165,263.8 \" fill=\"none\" id=\"E5-&gt;E6\" style=\"stroke: #A80036; stroke-width: 1.0;\"/><polygon fill=\"#A80036\" points=\"165,269,169,260,165,264,161,260,165,269\" style=\"stroke: #A80036; stroke-width: 1.0;\"/><text fill=\"#000000\" font-family=\"sans-serif\" font-size=\"13\" lengthAdjust=\"spacingAndGlyphs\" textLength=\"55\" x=\"166\" y=\"257.0669\">[x == 0]</text></a><!--MD5=[17f45241f9e6b48aa58ef8c251d26884]\n",
       "@startuml\r\n",
       "skinparam ranksep 10\r\n",
       "skinparam rectangle {\r\n",
       " backgroundColor<<block>> LightGreen\r\n",
       "}\r\n",
       "skinparam wrapWidth 300\r\n",
       "hide circle\r\n",
       "\r\n",
       "rec def \"DecisionTest\" as E1  <<(T,blue)action def>> [[psysml:704d58b1-847a-4b5f-8ef4-b4da5c2432eb ]] {\r\n",
       "portout \"$result\" as E2  [[psysml:d3db88a9-d6e2-4728-bacb-cdc83b04fb60 ]] \r\n",
       "choice \"test x\" as E3  [[psysml:07816a00-a6c6-49d5-84be-841a1e7e2f6a ]] \r\n",
       "choice \"noname\" as E4  [[psysml:26311404-6ce6-4dcd-89ed-d43ec51ac22a ]] \r\n",
       "rec usage \"A1\" as E5  <<(T,blue)action>> [[psysml:f4b16115-f2df-4145-8494-1e5aced0fe90 ]] {\r\n",
       "}\r\n",
       "\r\n",
       "rec usage \"A2\" as E6  <<(T,blue)action>> [[psysml:ffb4dce0-5cb8-4add-9e67-ebd1f2f3deb3 ]] {\r\n",
       "}\r\n",
       "\r\n",
       "rec usage \"A3\" as E7  <<(T,blue)action>> [[psysml:dc91d98e-27d3-4fe3-8c05-9cedeab5907b ]] {\r\n",
       "}\r\n",
       "\r\n",
       "rec usage \"A3\" as E8  <<(T,blue)action>> [[psysml:dc91d98e-27d3-4fe3-8c05-9cedeab5907b ]] {\r\n",
       "}\r\n",
       "\r\n",
       "}\r\n",
       "\r\n",
       "E3  - -> E5 [[psysml:f0c1a87b-40f9-41dd-914f-8704a756a2ee ]] : [x == 1]\r\n",
       "E3  - -> E6 [[psysml:534d6032-2416-43d2-b21b-3e106f4a7f5b ]] : [x > 1]\r\n",
       "E3  - -> E8 [[psysml:e6958018-0280-470d-866d-790aaedd3d9a ]] \r\n",
       "E3 - -> E4 [[psysml:b2a8f402-8a6f-47b5-a176-34e34a53fa41 ]] \r\n",
       "E4  - -> E5 [[psysml:d4e4cf4f-ca71-4ae2-aa8b-453c4e696e69 ]] : [true]\r\n",
       "E4  - -> E6 [[psysml:07d2ed15-614f-457b-995c-67ac116a921b ]] : [false]\r\n",
       "E5  - -> E6 [[psysml:b67ea915-0e8a-4542-80c4-8f1f8e1002d6 ]] : [x == 0]\r\n",
       "E8  - -> E3 [[psysml:7eebbea4-be3a-4ef1-ac68-fab402045136 ]] : [x > 0]\r\n",
       "@enduml\r\n",
       "\n",
       "PlantUML version 1.2020.13(Sat Jun 13 12:26:38 UTC 2020)\n",
       "(EPL source distribution)\n",
       "Java Runtime: OpenJDK Runtime Environment\n",
       "JVM: OpenJDK 64-Bit Server VM\n",
       "Default Encoding: UTF-8\n",
       "Language: en\n",
       "Country: null\n",
       "--></g></svg>"
      ]
     },
     "execution_count": 26,
     "metadata": {},
     "output_type": "execute_result"
    }
   ],
   "source": [
    "%viz --style=\"STDCOLOR\" --view=\"Interconnection\" \"DecisionTest\""
   ]
  },
  {
   "cell_type": "code",
   "execution_count": 27,
   "id": "dc874a5a",
   "metadata": {
    "execution": {
     "iopub.execute_input": "2021-04-20T07:01:21.151383Z",
     "iopub.status.busy": "2021-04-20T07:01:21.150904Z",
     "iopub.status.idle": "2021-04-20T07:01:21.190162Z",
     "shell.execute_reply": "2021-04-20T07:01:21.188880Z"
    }
   },
   "outputs": [
    {
     "data": {
      "image/svg+xml": [
       "<?xml version=\"1.0\" encoding=\"UTF-8\" standalone=\"no\"?><svg xmlns=\"http://www.w3.org/2000/svg\" xmlns:xlink=\"http://www.w3.org/1999/xlink\" contentScriptType=\"application/ecmascript\" contentStyleType=\"text/css\" height=\"384px\" preserveAspectRatio=\"none\" style=\"width:341px;height:384px;\" version=\"1.1\" viewBox=\"0 0 341 384\" width=\"341px\" zoomAndPan=\"magnify\"><defs><filter height=\"300%\" id=\"fl8htxtjf4ohv\" width=\"300%\" x=\"-1\" y=\"-1\"><feGaussianBlur result=\"blurOut\" stdDeviation=\"2.0\"/><feColorMatrix in=\"blurOut\" result=\"blurOut2\" type=\"matrix\" values=\"0 0 0 0 0 0 0 0 0 0 0 0 0 0 0 0 0 0 .4 0\"/><feOffset dx=\"4.0\" dy=\"4.0\" in=\"blurOut2\" result=\"blurOut3\"/><feBlend in=\"SourceGraphic\" in2=\"blurOut3\" mode=\"normal\"/></filter></defs><g><!--MD5=[fbc87193dbaf4d95561dea2c320d4a47]\n",
       "cluster E1--><a href=\"psysml:704d58b1-847a-4b5f-8ef4-b4da5c2432eb\" target=\"_top\" title=\"psysml:704d58b1-847a-4b5f-8ef4-b4da5c2432eb\" xlink:actuate=\"onRequest\" xlink:href=\"psysml:704d58b1-847a-4b5f-8ef4-b4da5c2432eb\" xlink:show=\"new\" xlink:title=\"psysml:704d58b1-847a-4b5f-8ef4-b4da5c2432eb\" xlink:type=\"simple\"><rect fill=\"#FFFFFF\" filter=\"url(#fl8htxtjf4ohv)\" height=\"344.72\" id=\"E1\" style=\"stroke: #A80036; stroke-width: 1.5;\" width=\"315\" x=\"7\" y=\"7\"/><rect fill=\"#FEFECE\" height=\"37.9375\" style=\"stroke: #A80036; stroke-width: 1.5;\" width=\"315\" x=\"7\" y=\"7\"/><text fill=\"#000000\" font-family=\"sans-serif\" font-size=\"12\" font-style=\"italic\" lengthAdjust=\"spacingAndGlyphs\" textLength=\"77\" x=\"126\" y=\"23.1387\">«action def»</text><text fill=\"#000000\" font-family=\"sans-serif\" font-size=\"12\" lengthAdjust=\"spacingAndGlyphs\" textLength=\"80\" x=\"124.5\" y=\"37.1074\">DecisionTest</text></a><text fill=\"#000000\" font-family=\"sans-serif\" font-size=\"14\" lengthAdjust=\"spacingAndGlyphs\" textLength=\"48\" x=\"140\" y=\"370.7151\">$result</text><rect fill=\"#A80036\" height=\"12\" style=\"stroke: #FEFECE; stroke-width: 1.5;\" width=\"12\" x=\"158\" y=\"345.72\"/><polygon fill=\"#FEFECE\" filter=\"url(#fl8htxtjf4ohv)\" points=\"141,28.5,153,40.5,141,52.5,129,40.5,141,28.5\" style=\"stroke: #A80036; stroke-width: 1.5;\"/><polygon fill=\"#FEFECE\" filter=\"url(#fl8htxtjf4ohv)\" points=\"35,126.5,47,138.5,35,150.5,23,138.5,35,126.5\" style=\"stroke: #A80036; stroke-width: 1.5;\"/><g id=\"E1.E5\"><a href=\"psysml:f4b16115-f2df-4145-8494-1e5aced0fe90\" target=\"_top\" title=\"psysml:f4b16115-f2df-4145-8494-1e5aced0fe90\" xlink:actuate=\"onRequest\" xlink:href=\"psysml:f4b16115-f2df-4145-8494-1e5aced0fe90\" xlink:show=\"new\" xlink:title=\"psysml:f4b16115-f2df-4145-8494-1e5aced0fe90\" xlink:type=\"simple\"><rect fill=\"#FEFECE\" filter=\"url(#fl8htxtjf4ohv)\" height=\"42.9375\" id=\"E5\" rx=\"10\" ry=\"10\" style=\"stroke: #A80036; stroke-width: 1.5;\" width=\"60\" x=\"135\" y=\"193\"/><text fill=\"#000000\" font-family=\"sans-serif\" font-size=\"12\" font-style=\"italic\" lengthAdjust=\"spacingAndGlyphs\" textLength=\"53\" x=\"138.5\" y=\"209.1387\">«action»</text><text fill=\"#000000\" font-family=\"sans-serif\" font-size=\"12\" lengthAdjust=\"spacingAndGlyphs\" textLength=\"16\" x=\"157\" y=\"223.1074\">A1</text></a></g><g id=\"E1.E6\"><a href=\"psysml:ffb4dce0-5cb8-4add-9e67-ebd1f2f3deb3\" target=\"_top\" title=\"psysml:ffb4dce0-5cb8-4add-9e67-ebd1f2f3deb3\" xlink:actuate=\"onRequest\" xlink:href=\"psysml:ffb4dce0-5cb8-4add-9e67-ebd1f2f3deb3\" xlink:show=\"new\" xlink:title=\"psysml:ffb4dce0-5cb8-4add-9e67-ebd1f2f3deb3\" xlink:type=\"simple\"><rect fill=\"#FEFECE\" filter=\"url(#fl8htxtjf4ohv)\" height=\"42.9375\" id=\"E6\" rx=\"10\" ry=\"10\" style=\"stroke: #A80036; stroke-width: 1.5;\" width=\"60\" x=\"135\" y=\"269\"/><text fill=\"#000000\" font-family=\"sans-serif\" font-size=\"12\" font-style=\"italic\" lengthAdjust=\"spacingAndGlyphs\" textLength=\"53\" x=\"138.5\" y=\"285.1387\">«action»</text><text fill=\"#000000\" font-family=\"sans-serif\" font-size=\"12\" lengthAdjust=\"spacingAndGlyphs\" textLength=\"16\" x=\"157\" y=\"299.1074\">A2</text></a></g><g id=\"E1.E7\"><a href=\"psysml:dc91d98e-27d3-4fe3-8c05-9cedeab5907b\" target=\"_top\" title=\"psysml:dc91d98e-27d3-4fe3-8c05-9cedeab5907b\" xlink:actuate=\"onRequest\" xlink:href=\"psysml:dc91d98e-27d3-4fe3-8c05-9cedeab5907b\" xlink:show=\"new\" xlink:title=\"psysml:dc91d98e-27d3-4fe3-8c05-9cedeab5907b\" xlink:type=\"simple\"><rect fill=\"#FEFECE\" filter=\"url(#fl8htxtjf4ohv)\" height=\"42.9375\" id=\"E7\" rx=\"10\" ry=\"10\" style=\"stroke: #A80036; stroke-width: 1.5;\" width=\"60\" x=\"46\" y=\"66\"/><text fill=\"#000000\" font-family=\"sans-serif\" font-size=\"12\" font-style=\"italic\" lengthAdjust=\"spacingAndGlyphs\" textLength=\"53\" x=\"49.5\" y=\"82.1387\">«action»</text><text fill=\"#000000\" font-family=\"sans-serif\" font-size=\"12\" lengthAdjust=\"spacingAndGlyphs\" textLength=\"16\" x=\"68\" y=\"96.1074\">A3</text></a></g><g id=\"E1.E8\"><a href=\"psysml:dc91d98e-27d3-4fe3-8c05-9cedeab5907b\" target=\"_top\" title=\"psysml:dc91d98e-27d3-4fe3-8c05-9cedeab5907b\" xlink:actuate=\"onRequest\" xlink:href=\"psysml:dc91d98e-27d3-4fe3-8c05-9cedeab5907b\" xlink:show=\"new\" xlink:title=\"psysml:dc91d98e-27d3-4fe3-8c05-9cedeab5907b\" xlink:type=\"simple\"><rect fill=\"#FEFECE\" filter=\"url(#fl8htxtjf4ohv)\" height=\"42.9375\" id=\"E8\" rx=\"10\" ry=\"10\" style=\"stroke: #A80036; stroke-width: 1.5;\" width=\"60\" x=\"246\" y=\"117\"/><text fill=\"#000000\" font-family=\"sans-serif\" font-size=\"12\" font-style=\"italic\" lengthAdjust=\"spacingAndGlyphs\" textLength=\"53\" x=\"249.5\" y=\"133.1387\">«action»</text><text fill=\"#000000\" font-family=\"sans-serif\" font-size=\"12\" lengthAdjust=\"spacingAndGlyphs\" textLength=\"16\" x=\"268\" y=\"147.1074\">A3</text></a></g><!--MD5=[0188b64bb0ae78505a997a81836e11e9]\n",
       "link E3 to E5--><a href=\"psysml:f0c1a87b-40f9-41dd-914f-8704a756a2ee\" target=\"_top\" title=\"psysml:f0c1a87b-40f9-41dd-914f-8704a756a2ee\" xlink:actuate=\"onRequest\" xlink:href=\"psysml:f0c1a87b-40f9-41dd-914f-8704a756a2ee\" xlink:show=\"new\" xlink:title=\"psysml:f0c1a87b-40f9-41dd-914f-8704a756a2ee\" xlink:type=\"simple\"><path d=\"M140.07,51.78 C138.47,72.5 136.04,120.67 144,160 C145.92,169.49 149.4,179.47 152.99,188.21 \" fill=\"none\" id=\"E3-&gt;E5\" style=\"stroke: #A80036; stroke-width: 1.0; stroke-dasharray: 7.0,7.0;\"/><polygon fill=\"#A80036\" points=\"154.98,192.92,155.1631,183.0728,153.0346,188.314,147.7935,186.1855,154.98,192.92\" style=\"stroke: #A80036; stroke-width: 1.0;\"/><text fill=\"#000000\" font-family=\"sans-serif\" font-size=\"13\" lengthAdjust=\"spacingAndGlyphs\" textLength=\"55\" x=\"145\" y=\"143.0669\">[x == 1]</text></a><!--MD5=[ec9844e0c75763426927cad3229d1081]\n",
       "link E3 to E6--><a href=\"psysml:534d6032-2416-43d2-b21b-3e106f4a7f5b\" target=\"_top\" title=\"psysml:534d6032-2416-43d2-b21b-3e106f4a7f5b\" xlink:actuate=\"onRequest\" xlink:href=\"psysml:534d6032-2416-43d2-b21b-3e106f4a7f5b\" xlink:show=\"new\" xlink:title=\"psysml:534d6032-2416-43d2-b21b-3e106f4a7f5b\" xlink:type=\"simple\"><path d=\"M147.17,46.62 C160.24,57.84 190.71,86.12 205,117 C229.03,168.92 221.32,186.98 226,244 C226.62,251.53 230.06,254.63 226,261 C220.01,270.41 210.02,276.76 199.83,281.03 \" fill=\"none\" id=\"E3-&gt;E6\" style=\"stroke: #A80036; stroke-width: 1.0; stroke-dasharray: 7.0,7.0;\"/><polygon fill=\"#A80036\" points=\"195.15,282.85,204.9881,283.3102,199.8089,281.035,202.0841,275.8559,195.15,282.85\" style=\"stroke: #A80036; stroke-width: 1.0;\"/><text fill=\"#000000\" font-family=\"sans-serif\" font-size=\"13\" lengthAdjust=\"spacingAndGlyphs\" textLength=\"44\" x=\"224\" y=\"181.0669\">[x &gt; 1]</text></a><!--MD5=[ca5a752d6098d8a44b3f88316e7452d1]\n",
       "link E3 to E8--><a href=\"psysml:e6958018-0280-470d-866d-790aaedd3d9a\" target=\"_top\" title=\"psysml:e6958018-0280-470d-866d-790aaedd3d9a\" xlink:actuate=\"onRequest\" xlink:href=\"psysml:e6958018-0280-470d-866d-790aaedd3d9a\" xlink:show=\"new\" xlink:title=\"psysml:e6958018-0280-470d-866d-790aaedd3d9a\" xlink:type=\"simple\"><path d=\"M147.65,45.88 C153.56,49.59 162.55,54.81 171,58 C186.34,63.79 195.35,54.47 207,66 C220.94,79.81 204.74,93.68 217,109 C223.18,116.72 231.96,122.48 240.86,126.73 \" fill=\"none\" id=\"E3-&gt;E8\" style=\"stroke: #A80036; stroke-width: 1.0; stroke-dasharray: 7.0,7.0;\"/><polygon fill=\"#A80036\" points=\"245.81,128.93,239.2251,121.6061,241.2451,126.89,235.9612,128.91,245.81,128.93\" style=\"stroke: #A80036; stroke-width: 1.0;\"/></a><!--MD5=[95fa686b5a16158bcdbcaeead89f639b]\n",
       "link E8 to E3--><a href=\"psysml:7eebbea4-be3a-4ef1-ac68-fab402045136\" target=\"_top\" title=\"psysml:7eebbea4-be3a-4ef1-ac68-fab402045136\" xlink:actuate=\"onRequest\" xlink:href=\"psysml:7eebbea4-be3a-4ef1-ac68-fab402045136\" xlink:show=\"new\" xlink:title=\"psysml:7eebbea4-be3a-4ef1-ac68-fab402045136\" xlink:type=\"simple\"><path d=\"M253.3,116.74 C250.77,114.19 248.29,111.58 246,109 C230.2,91.18 234.22,78.6 214,66 C197.5,55.72 189.3,64.54 171,58 C164.35,55.62 157.42,51.9 151.89,48.59 \" fill=\"none\" id=\"E8-&gt;E3\" style=\"stroke: #A80036; stroke-width: 1.0; stroke-dasharray: 7.0,7.0;\"/><polygon fill=\"#A80036\" points=\"147.62,45.95,153.1764,54.0818,151.8744,48.5769,157.3793,47.2748,147.62,45.95\" style=\"stroke: #A80036; stroke-width: 1.0;\"/><text fill=\"#000000\" font-family=\"sans-serif\" font-size=\"13\" lengthAdjust=\"spacingAndGlyphs\" textLength=\"44\" x=\"247\" y=\"92.0669\">[x &gt; 0]</text></a><!--MD5=[af87c684e3b0d8be13c1a698a818ef1e]\n",
       "link E3 to E4--><a href=\"psysml:b2a8f402-8a6f-47b5-a176-34e34a53fa41\" target=\"_top\" title=\"psysml:b2a8f402-8a6f-47b5-a176-34e34a53fa41\" xlink:actuate=\"onRequest\" xlink:href=\"psysml:b2a8f402-8a6f-47b5-a176-34e34a53fa41\" xlink:show=\"new\" xlink:title=\"psysml:b2a8f402-8a6f-47b5-a176-34e34a53fa41\" xlink:type=\"simple\"><path d=\"M130.87,42.54 C108.03,45.11 53.64,52.54 42,66 C28.37,81.77 29.55,107.42 32.02,123.33 \" fill=\"none\" id=\"E3-&gt;E4\" style=\"stroke: #A80036; stroke-width: 1.0; stroke-dasharray: 7.0,7.0;\"/><polygon fill=\"#A80036\" points=\"32.88,128.32,35.3057,118.7745,32.0372,123.3915,27.4201,120.1231,32.88,128.32\" style=\"stroke: #A80036; stroke-width: 1.0;\"/></a><!--MD5=[1b7591eae5389033d8d09a9d6721a717]\n",
       "link E4 to E5--><a href=\"psysml:d4e4cf4f-ca71-4ae2-aa8b-453c4e696e69\" target=\"_top\" title=\"psysml:d4e4cf4f-ca71-4ae2-aa8b-453c4e696e69\" xlink:actuate=\"onRequest\" xlink:href=\"psysml:d4e4cf4f-ca71-4ae2-aa8b-453c4e696e69\" xlink:show=\"new\" xlink:title=\"psysml:d4e4cf4f-ca71-4ae2-aa8b-453c4e696e69\" xlink:type=\"simple\"><path d=\"M40.09,145.69 C48.35,155.37 65.62,174.11 84,185 C93.67,190.73 97.38,189.32 108,193 C115.1,195.46 122.69,198.15 129.93,200.74 \" fill=\"none\" id=\"E4-&gt;E5\" style=\"stroke: #A80036; stroke-width: 1.0; stroke-dasharray: 7.0,7.0;\"/><polygon fill=\"#A80036\" points=\"134.87,202.52,127.7488,195.7164,130.1636,200.832,125.048,203.2467,134.87,202.52\" style=\"stroke: #A80036; stroke-width: 1.0;\"/><text fill=\"#000000\" font-family=\"sans-serif\" font-size=\"13\" lengthAdjust=\"spacingAndGlyphs\" textLength=\"36\" x=\"85\" y=\"181.0669\">[true]</text></a><!--MD5=[79568f1e445c3877b6a54524624ccc7d]\n",
       "link E4 to E6--><a href=\"psysml:07d2ed15-614f-457b-995c-67ac116a921b\" target=\"_top\" title=\"psysml:07d2ed15-614f-457b-995c-67ac116a921b\" xlink:actuate=\"onRequest\" xlink:href=\"psysml:07d2ed15-614f-457b-995c-67ac116a921b\" xlink:show=\"new\" xlink:title=\"psysml:07d2ed15-614f-457b-995c-67ac116a921b\" xlink:type=\"simple\"><path d=\"M36.89,148.77 C41.08,167.27 52.64,209.28 76,236 C90.77,252.89 112.21,266 130.35,275.02 \" fill=\"none\" id=\"E4-&gt;E6\" style=\"stroke: #A80036; stroke-width: 1.0; stroke-dasharray: 7.0,7.0;\"/><polygon fill=\"#A80036\" points=\"134.88,277.22,128.532,269.6898,130.3825,275.0355,125.0368,276.8859,134.88,277.22\" style=\"stroke: #A80036; stroke-width: 1.0;\"/><text fill=\"#000000\" font-family=\"sans-serif\" font-size=\"13\" lengthAdjust=\"spacingAndGlyphs\" textLength=\"40\" x=\"77\" y=\"219.0669\">[false]</text></a><!--MD5=[9120cf2e5df3bff93db8f754bbbc09b4]\n",
       "link E5 to E6--><a href=\"psysml:b67ea915-0e8a-4542-80c4-8f1f8e1002d6\" target=\"_top\" title=\"psysml:b67ea915-0e8a-4542-80c4-8f1f8e1002d6\" xlink:actuate=\"onRequest\" xlink:href=\"psysml:b67ea915-0e8a-4542-80c4-8f1f8e1002d6\" xlink:show=\"new\" xlink:title=\"psysml:b67ea915-0e8a-4542-80c4-8f1f8e1002d6\" xlink:type=\"simple\"><path d=\"M165,236.11 C165,244.69 165,254.75 165,263.8 \" fill=\"none\" id=\"E5-&gt;E6\" style=\"stroke: #A80036; stroke-width: 1.0; stroke-dasharray: 7.0,7.0;\"/><polygon fill=\"#A80036\" points=\"165,269,169,260,165,264,161,260,165,269\" style=\"stroke: #A80036; stroke-width: 1.0;\"/><text fill=\"#000000\" font-family=\"sans-serif\" font-size=\"13\" lengthAdjust=\"spacingAndGlyphs\" textLength=\"55\" x=\"166\" y=\"257.0669\">[x == 0]</text></a><!--MD5=[b817923c40f019924684c127887b3fde]\n",
       "@startuml\r\n",
       "skinparam ranksep 8\r\n",
       "skinparam wrapWidth 300\r\n",
       "hide circle\r\n",
       "\r\n",
       "rec def \"DecisionTest\" as E1  <<(T,blue)action def>> [[psysml:704d58b1-847a-4b5f-8ef4-b4da5c2432eb ]] {\r\n",
       "portout \"$result\" as E2  [[psysml:d3db88a9-d6e2-4728-bacb-cdc83b04fb60 ]] \r\n",
       "choice \"test x\" as E3  [[psysml:07816a00-a6c6-49d5-84be-841a1e7e2f6a ]] \r\n",
       "choice \"noname\" as E4  [[psysml:26311404-6ce6-4dcd-89ed-d43ec51ac22a ]] \r\n",
       "rec usage \"A1\" as E5  <<(T,blue)action>> [[psysml:f4b16115-f2df-4145-8494-1e5aced0fe90 ]] {\r\n",
       "}\r\n",
       "\r\n",
       "rec usage \"A2\" as E6  <<(T,blue)action>> [[psysml:ffb4dce0-5cb8-4add-9e67-ebd1f2f3deb3 ]] {\r\n",
       "}\r\n",
       "\r\n",
       "rec usage \"A3\" as E7  <<(T,blue)action>> [[psysml:dc91d98e-27d3-4fe3-8c05-9cedeab5907b ]] {\r\n",
       "}\r\n",
       "\r\n",
       "rec usage \"A3\" as E8  <<(T,blue)action>> [[psysml:dc91d98e-27d3-4fe3-8c05-9cedeab5907b ]] {\r\n",
       "}\r\n",
       "\r\n",
       "}\r\n",
       "\r\n",
       "E3 ..> E5 [[psysml:f0c1a87b-40f9-41dd-914f-8704a756a2ee ]] : [x == 1]\r\n",
       "E3 ..> E6 [[psysml:534d6032-2416-43d2-b21b-3e106f4a7f5b ]] : [x > 1]\r\n",
       "E3 ..> E8 [[psysml:e6958018-0280-470d-866d-790aaedd3d9a ]] \r\n",
       "E3 ..> E4 [[psysml:b2a8f402-8a6f-47b5-a176-34e34a53fa41 ]] \r\n",
       "E4 ..> E5 [[psysml:d4e4cf4f-ca71-4ae2-aa8b-453c4e696e69 ]] : [true]\r\n",
       "E4 ..> E6 [[psysml:07d2ed15-614f-457b-995c-67ac116a921b ]] : [false]\r\n",
       "E5 ..> E6 [[psysml:b67ea915-0e8a-4542-80c4-8f1f8e1002d6 ]] : [x == 0]\r\n",
       "E8 ..> E3 [[psysml:7eebbea4-be3a-4ef1-ac68-fab402045136 ]] : [x > 0]\r\n",
       "@enduml\r\n",
       "\n",
       "PlantUML version 1.2020.13(Sat Jun 13 12:26:38 UTC 2020)\n",
       "(EPL source distribution)\n",
       "Java Runtime: OpenJDK Runtime Environment\n",
       "JVM: OpenJDK 64-Bit Server VM\n",
       "Default Encoding: UTF-8\n",
       "Language: en\n",
       "Country: null\n",
       "--></g></svg>"
      ]
     },
     "execution_count": 27,
     "metadata": {},
     "output_type": "execute_result"
    }
   ],
   "source": [
    "%viz --style=\"STDCOLOR\" --view=\"Action\" \"DecisionTest\""
   ]
  },
  {
   "cell_type": "code",
   "execution_count": 28,
   "id": "0bb18468",
   "metadata": {
    "execution": {
     "iopub.execute_input": "2021-04-20T07:01:21.240834Z",
     "iopub.status.busy": "2021-04-20T07:01:21.240199Z",
     "iopub.status.idle": "2021-04-20T07:01:21.299487Z",
     "shell.execute_reply": "2021-04-20T07:01:21.299142Z"
    }
   },
   "outputs": [
    {
     "data": {
      "image/svg+xml": [
       "<?xml version=\"1.0\" encoding=\"UTF-8\" standalone=\"no\"?><svg xmlns=\"http://www.w3.org/2000/svg\" xmlns:xlink=\"http://www.w3.org/1999/xlink\" contentScriptType=\"application/ecmascript\" contentStyleType=\"text/css\" height=\"199px\" preserveAspectRatio=\"none\" style=\"width:117px;height:199px;\" version=\"1.1\" viewBox=\"0 0 117 199\" width=\"117px\" zoomAndPan=\"magnify\"><defs><filter height=\"300%\" id=\"fnol3ik3231ie\" width=\"300%\" x=\"-1\" y=\"-1\"><feGaussianBlur result=\"blurOut\" stdDeviation=\"2.0\"/><feColorMatrix in=\"blurOut\" result=\"blurOut2\" type=\"matrix\" values=\"0 0 0 0 0 0 0 0 0 0 0 0 0 0 0 0 0 0 .4 0\"/><feOffset dx=\"4.0\" dy=\"4.0\" in=\"blurOut2\" result=\"blurOut3\"/><feBlend in=\"SourceGraphic\" in2=\"blurOut3\" mode=\"normal\"/></filter></defs><g><!--MD5=[43c9051892ef23e1a46a86907403d788]\n",
       "class E1--><a href=\"psysml:704d58b1-847a-4b5f-8ef4-b4da5c2432eb\" target=\"_top\" title=\"psysml:704d58b1-847a-4b5f-8ef4-b4da5c2432eb\" xlink:actuate=\"onRequest\" xlink:href=\"psysml:704d58b1-847a-4b5f-8ef4-b4da5c2432eb\" xlink:show=\"new\" xlink:title=\"psysml:704d58b1-847a-4b5f-8ef4-b4da5c2432eb\" xlink:type=\"simple\"><rect fill=\"#FEFECE\" filter=\"url(#fnol3ik3231ie)\" height=\"173.1797\" id=\"E1\" style=\"stroke: #A80036; stroke-width: 1.5;\" width=\"91\" x=\"7\" y=\"7\"/><text fill=\"#000000\" font-family=\"sans-serif\" font-size=\"12\" font-style=\"italic\" lengthAdjust=\"spacingAndGlyphs\" textLength=\"77\" x=\"14\" y=\"23.1387\">«action def»</text><text fill=\"#000000\" font-family=\"sans-serif\" font-size=\"12\" lengthAdjust=\"spacingAndGlyphs\" textLength=\"80\" x=\"12.5\" y=\"37.1074\">DecisionTest</text><line style=\"stroke: #A80036; stroke-width: 1.5;\" x1=\"8\" x2=\"97\" y1=\"44.9375\" y2=\"44.9375\"/><text fill=\"#000000\" font-family=\"sans-serif\" font-size=\"11\" lengthAdjust=\"spacingAndGlyphs\" textLength=\"26\" x=\"13\" y=\"59.1479\">x=1;</text><text fill=\"#000000\" font-family=\"sans-serif\" font-size=\"11\" lengthAdjust=\"spacingAndGlyphs\" textLength=\"14\" x=\"13\" y=\"88.7573\">A1</text><text fill=\"#000000\" font-family=\"sans-serif\" font-size=\"11\" lengthAdjust=\"spacingAndGlyphs\" textLength=\"14\" x=\"13\" y=\"101.562\">A2</text><text fill=\"#000000\" font-family=\"sans-serif\" font-size=\"11\" lengthAdjust=\"spacingAndGlyphs\" textLength=\"14\" x=\"13\" y=\"114.3667\">A3</text><line style=\"stroke: #A80036; stroke-width: 1.0;\" x1=\"8\" x2=\"32\" y1=\"72.1445\" y2=\"72.1445\"/><text fill=\"#000000\" font-family=\"sans-serif\" font-size=\"11\" lengthAdjust=\"spacingAndGlyphs\" textLength=\"41\" x=\"32\" y=\"75.4526\">actions</text><line style=\"stroke: #A80036; stroke-width: 1.0;\" x1=\"73\" x2=\"97\" y1=\"72.1445\" y2=\"72.1445\"/><text fill=\"#000000\" font-family=\"sans-serif\" font-size=\"11\" lengthAdjust=\"spacingAndGlyphs\" textLength=\"32\" x=\"13\" y=\"143.9761\">test x</text><line style=\"stroke: #A80036; stroke-width: 1.0;\" x1=\"8\" x2=\"11\" y1=\"127.3633\" y2=\"127.3633\"/><text fill=\"#000000\" font-family=\"sans-serif\" font-size=\"11\" lengthAdjust=\"spacingAndGlyphs\" textLength=\"83\" x=\"11\" y=\"130.6714\">decisionNodes</text><line style=\"stroke: #A80036; stroke-width: 1.0;\" x1=\"94\" x2=\"97\" y1=\"127.3633\" y2=\"127.3633\"/><text fill=\"#000000\" font-family=\"sans-serif\" font-size=\"11\" lengthAdjust=\"spacingAndGlyphs\" textLength=\"8\" x=\"13\" y=\"173.5854\">S</text><line style=\"stroke: #A80036; stroke-width: 1.0;\" x1=\"8\" x2=\"22\" y1=\"156.9727\" y2=\"156.9727\"/><text fill=\"#000000\" font-family=\"sans-serif\" font-size=\"11\" lengthAdjust=\"spacingAndGlyphs\" textLength=\"61\" x=\"22\" y=\"160.2808\">transitions</text><line style=\"stroke: #A80036; stroke-width: 1.0;\" x1=\"83\" x2=\"97\" y1=\"156.9727\" y2=\"156.9727\"/></a><!--MD5=[d2c1ac4f245c54904e24c8baffd7aadc]\n",
       "@startuml\r\n",
       "skinparam wrapWidth 300\r\n",
       "hide circle\r\n",
       "\r\n",
       "comp def \"DecisionTest\" as E1  <<(T,blue)action def>> [[psysml:704d58b1-847a-4b5f-8ef4-b4da5c2432eb ]] {\r\n",
       "x=1; \r\n",
       "- - actions - -\r\n",
       "A1\r\n",
       "A2\r\n",
       "A3\r\n",
       "- - decisionNodes - -\r\n",
       "test x\r\n",
       "- - transitions - -\r\n",
       "S\r\n",
       "}\r\n",
       "@enduml\r\n",
       "\n",
       "PlantUML version 1.2020.13(Sat Jun 13 12:26:38 UTC 2020)\n",
       "(EPL source distribution)\n",
       "Java Runtime: OpenJDK Runtime Environment\n",
       "JVM: OpenJDK 64-Bit Server VM\n",
       "Default Encoding: UTF-8\n",
       "Language: en\n",
       "Country: null\n",
       "--></g></svg>"
      ]
     },
     "execution_count": 28,
     "metadata": {},
     "output_type": "execute_result"
    }
   ],
   "source": [
    "%viz --style=\"STDCOLOR\" --view=\"Sequence\" \"DecisionTest\""
   ]
  },
  {
   "cell_type": "code",
   "execution_count": 29,
   "id": "9e6c29db",
   "metadata": {
    "execution": {
     "iopub.execute_input": "2021-04-20T07:01:21.350871Z",
     "iopub.status.busy": "2021-04-20T07:01:21.350069Z",
     "iopub.status.idle": "2021-04-20T07:01:21.397310Z",
     "shell.execute_reply": "2021-04-20T07:01:21.395441Z"
    }
   },
   "outputs": [
    {
     "data": {
      "image/svg+xml": [
       "<?xml version=\"1.0\" encoding=\"UTF-8\" standalone=\"no\"?><svg xmlns=\"http://www.w3.org/2000/svg\" xmlns:xlink=\"http://www.w3.org/1999/xlink\" contentScriptType=\"application/ecmascript\" contentStyleType=\"text/css\" height=\"574px\" preserveAspectRatio=\"none\" style=\"width:341px;height:574px;\" version=\"1.1\" viewBox=\"0 0 341 574\" width=\"341px\" zoomAndPan=\"magnify\"><defs><filter height=\"300%\" id=\"f1gbhq65vguziu\" width=\"300%\" x=\"-1\" y=\"-1\"><feGaussianBlur result=\"blurOut\" stdDeviation=\"2.0\"/><feColorMatrix in=\"blurOut\" result=\"blurOut2\" type=\"matrix\" values=\"0 0 0 0 0 0 0 0 0 0 0 0 0 0 0 0 0 0 .4 0\"/><feOffset dx=\"4.0\" dy=\"4.0\" in=\"blurOut2\" result=\"blurOut3\"/><feBlend in=\"SourceGraphic\" in2=\"blurOut3\" mode=\"normal\"/></filter></defs><g><!--MD5=[fbc87193dbaf4d95561dea2c320d4a47]\n",
       "cluster E1--><a href=\"psysml:704d58b1-847a-4b5f-8ef4-b4da5c2432eb\" target=\"_top\" title=\"psysml:704d58b1-847a-4b5f-8ef4-b4da5c2432eb\" xlink:actuate=\"onRequest\" xlink:href=\"psysml:704d58b1-847a-4b5f-8ef4-b4da5c2432eb\" xlink:show=\"new\" xlink:title=\"psysml:704d58b1-847a-4b5f-8ef4-b4da5c2432eb\" xlink:type=\"simple\"><rect fill=\"#FFFFFF\" filter=\"url(#f1gbhq65vguziu)\" height=\"534.72\" id=\"E1\" style=\"stroke: #A80036; stroke-width: 1.5;\" width=\"315\" x=\"7\" y=\"7\"/><rect fill=\"#FEFECE\" height=\"37.9375\" style=\"stroke: #A80036; stroke-width: 1.5;\" width=\"315\" x=\"7\" y=\"7\"/><text fill=\"#000000\" font-family=\"sans-serif\" font-size=\"12\" font-style=\"italic\" lengthAdjust=\"spacingAndGlyphs\" textLength=\"77\" x=\"126\" y=\"23.1387\">«action def»</text><text fill=\"#000000\" font-family=\"sans-serif\" font-size=\"12\" lengthAdjust=\"spacingAndGlyphs\" textLength=\"80\" x=\"124.5\" y=\"37.1074\">DecisionTest</text></a><text fill=\"#000000\" font-family=\"sans-serif\" font-size=\"14\" lengthAdjust=\"spacingAndGlyphs\" textLength=\"48\" x=\"140\" y=\"560.7151\">$result</text><rect fill=\"#A80036\" height=\"12\" style=\"stroke: #FEFECE; stroke-width: 1.5;\" width=\"12\" x=\"158\" y=\"535.72\"/><polygon fill=\"#FEFECE\" filter=\"url(#f1gbhq65vguziu)\" points=\"141,28.5,153,40.5,141,52.5,129,40.5,141,28.5\" style=\"stroke: #A80036; stroke-width: 1.5;\"/><polygon fill=\"#FEFECE\" filter=\"url(#f1gbhq65vguziu)\" points=\"35,170.5,47,182.5,35,194.5,23,182.5,35,170.5\" style=\"stroke: #A80036; stroke-width: 1.5;\"/><g id=\"E1.E5\"><a href=\"psysml:f4b16115-f2df-4145-8494-1e5aced0fe90\" target=\"_top\" title=\"psysml:f4b16115-f2df-4145-8494-1e5aced0fe90\" xlink:actuate=\"onRequest\" xlink:href=\"psysml:f4b16115-f2df-4145-8494-1e5aced0fe90\" xlink:show=\"new\" xlink:title=\"psysml:f4b16115-f2df-4145-8494-1e5aced0fe90\" xlink:type=\"simple\"><rect fill=\"#FEFECE\" filter=\"url(#f1gbhq65vguziu)\" height=\"42.9375\" id=\"E5\" rx=\"10\" ry=\"10\" style=\"stroke: #A80036; stroke-width: 1.5;\" width=\"60\" x=\"135\" y=\"281\"/><text fill=\"#000000\" font-family=\"sans-serif\" font-size=\"12\" font-style=\"italic\" lengthAdjust=\"spacingAndGlyphs\" textLength=\"53\" x=\"138.5\" y=\"297.1387\">«action»</text><text fill=\"#000000\" font-family=\"sans-serif\" font-size=\"12\" lengthAdjust=\"spacingAndGlyphs\" textLength=\"16\" x=\"157\" y=\"311.1074\">A1</text></a></g><g id=\"E1.E6\"><a href=\"psysml:ffb4dce0-5cb8-4add-9e67-ebd1f2f3deb3\" target=\"_top\" title=\"psysml:ffb4dce0-5cb8-4add-9e67-ebd1f2f3deb3\" xlink:actuate=\"onRequest\" xlink:href=\"psysml:ffb4dce0-5cb8-4add-9e67-ebd1f2f3deb3\" xlink:show=\"new\" xlink:title=\"psysml:ffb4dce0-5cb8-4add-9e67-ebd1f2f3deb3\" xlink:type=\"simple\"><rect fill=\"#FEFECE\" filter=\"url(#f1gbhq65vguziu)\" height=\"42.9375\" id=\"E6\" rx=\"10\" ry=\"10\" style=\"stroke: #A80036; stroke-width: 1.5;\" width=\"60\" x=\"135\" y=\"401\"/><text fill=\"#000000\" font-family=\"sans-serif\" font-size=\"12\" font-style=\"italic\" lengthAdjust=\"spacingAndGlyphs\" textLength=\"53\" x=\"138.5\" y=\"417.1387\">«action»</text><text fill=\"#000000\" font-family=\"sans-serif\" font-size=\"12\" lengthAdjust=\"spacingAndGlyphs\" textLength=\"16\" x=\"157\" y=\"431.1074\">A2</text></a></g><g id=\"E1.E7\"><a href=\"psysml:dc91d98e-27d3-4fe3-8c05-9cedeab5907b\" target=\"_top\" title=\"psysml:dc91d98e-27d3-4fe3-8c05-9cedeab5907b\" xlink:actuate=\"onRequest\" xlink:href=\"psysml:dc91d98e-27d3-4fe3-8c05-9cedeab5907b\" xlink:show=\"new\" xlink:title=\"psysml:dc91d98e-27d3-4fe3-8c05-9cedeab5907b\" xlink:type=\"simple\"><rect fill=\"#FEFECE\" filter=\"url(#f1gbhq65vguziu)\" height=\"42.9375\" id=\"E7\" rx=\"10\" ry=\"10\" style=\"stroke: #A80036; stroke-width: 1.5;\" width=\"60\" x=\"46\" y=\"88\"/><text fill=\"#000000\" font-family=\"sans-serif\" font-size=\"12\" font-style=\"italic\" lengthAdjust=\"spacingAndGlyphs\" textLength=\"53\" x=\"49.5\" y=\"104.1387\">«action»</text><text fill=\"#000000\" font-family=\"sans-serif\" font-size=\"12\" lengthAdjust=\"spacingAndGlyphs\" textLength=\"16\" x=\"68\" y=\"118.1074\">A3</text></a></g><g id=\"E1.E8\"><a href=\"psysml:dc91d98e-27d3-4fe3-8c05-9cedeab5907b\" target=\"_top\" title=\"psysml:dc91d98e-27d3-4fe3-8c05-9cedeab5907b\" xlink:actuate=\"onRequest\" xlink:href=\"psysml:dc91d98e-27d3-4fe3-8c05-9cedeab5907b\" xlink:show=\"new\" xlink:title=\"psysml:dc91d98e-27d3-4fe3-8c05-9cedeab5907b\" xlink:type=\"simple\"><rect fill=\"#FEFECE\" filter=\"url(#f1gbhq65vguziu)\" height=\"42.9375\" id=\"E8\" rx=\"10\" ry=\"10\" style=\"stroke: #A80036; stroke-width: 1.5;\" width=\"60\" x=\"246\" y=\"161\"/><text fill=\"#000000\" font-family=\"sans-serif\" font-size=\"12\" font-style=\"italic\" lengthAdjust=\"spacingAndGlyphs\" textLength=\"53\" x=\"249.5\" y=\"177.1387\">«action»</text><text fill=\"#000000\" font-family=\"sans-serif\" font-size=\"12\" lengthAdjust=\"spacingAndGlyphs\" textLength=\"16\" x=\"268\" y=\"191.1074\">A3</text></a></g><!--MD5=[0188b64bb0ae78505a997a81836e11e9]\n",
       "link E3 to E5--><a href=\"psysml:f0c1a87b-40f9-41dd-914f-8704a756a2ee\" target=\"_top\" title=\"psysml:f0c1a87b-40f9-41dd-914f-8704a756a2ee\" xlink:actuate=\"onRequest\" xlink:href=\"psysml:f0c1a87b-40f9-41dd-914f-8704a756a2ee\" xlink:show=\"new\" xlink:title=\"psysml:f0c1a87b-40f9-41dd-914f-8704a756a2ee\" xlink:type=\"simple\"><path d=\"M140.49,52.19 C139.39,78.26 137.41,147.1 144,204 C146.84,228.53 153.03,255.98 157.96,275.49 \" fill=\"none\" id=\"E3-&gt;E5\" style=\"stroke: #A80036; stroke-width: 1.0;\"/><polygon fill=\"#A80036\" points=\"159.31,280.77,160.9741,271.0627,158.0805,275.9235,153.2197,273.0299,159.31,280.77\" style=\"stroke: #A80036; stroke-width: 1.0;\"/><text fill=\"#000000\" font-family=\"sans-serif\" font-size=\"13\" lengthAdjust=\"spacingAndGlyphs\" textLength=\"55\" x=\"145\" y=\"187.0669\">[x == 1]</text></a><!--MD5=[ec9844e0c75763426927cad3229d1081]\n",
       "link E3 to E6--><a href=\"psysml:534d6032-2416-43d2-b21b-3e106f4a7f5b\" target=\"_top\" title=\"psysml:534d6032-2416-43d2-b21b-3e106f4a7f5b\" xlink:actuate=\"onRequest\" xlink:href=\"psysml:534d6032-2416-43d2-b21b-3e106f4a7f5b\" xlink:show=\"new\" xlink:title=\"psysml:534d6032-2416-43d2-b21b-3e106f4a7f5b\" xlink:type=\"simple\"><path d=\"M145.73,48.09 C157.96,65.53 190.67,114.68 205,161 C230.5,243.43 221.33,267.84 226,354 C226.41,361.54 229.22,364.16 226,371 C220.27,383.19 209.98,393.45 199.48,401.47 \" fill=\"none\" id=\"E3-&gt;E6\" style=\"stroke: #A80036; stroke-width: 1.0;\"/><polygon fill=\"#A80036\" points=\"195.29,404.54,204.9073,402.4168,199.3138,401.5721,200.1586,395.9786,195.29,404.54\" style=\"stroke: #A80036; stroke-width: 1.0;\"/><text fill=\"#000000\" font-family=\"sans-serif\" font-size=\"13\" lengthAdjust=\"spacingAndGlyphs\" textLength=\"44\" x=\"223\" y=\"247.0669\">[x &gt; 1]</text></a><!--MD5=[ca5a752d6098d8a44b3f88316e7452d1]\n",
       "link E3 to E8--><a href=\"psysml:e6958018-0280-470d-866d-790aaedd3d9a\" target=\"_top\" title=\"psysml:e6958018-0280-470d-866d-790aaedd3d9a\" xlink:actuate=\"onRequest\" xlink:href=\"psysml:e6958018-0280-470d-866d-790aaedd3d9a\" xlink:show=\"new\" xlink:title=\"psysml:e6958018-0280-470d-866d-790aaedd3d9a\" xlink:type=\"simple\"><path d=\"M147.97,45.53 C163.29,54.53 199.17,76.37 207,88 C217.96,104.27 206.82,114.23 217,131 C223.37,141.49 232.66,150.9 242,158.68 \" fill=\"none\" id=\"E3-&gt;E8\" style=\"stroke: #A80036; stroke-width: 1.0;\"/><polygon fill=\"#A80036\" points=\"246,161.91,241.5179,153.1401,242.1124,158.7657,236.4869,159.3602,246,161.91\" style=\"stroke: #A80036; stroke-width: 1.0;\"/></a><!--MD5=[95fa686b5a16158bcdbcaeead89f639b]\n",
       "link E8 to E3--><a href=\"psysml:7eebbea4-be3a-4ef1-ac68-fab402045136\" target=\"_top\" title=\"psysml:7eebbea4-be3a-4ef1-ac68-fab402045136\" xlink:actuate=\"onRequest\" xlink:href=\"psysml:7eebbea4-be3a-4ef1-ac68-fab402045136\" xlink:show=\"new\" xlink:title=\"psysml:7eebbea4-be3a-4ef1-ac68-fab402045136\" xlink:type=\"simple\"><path d=\"M263.71,160.86 C249.28,137.02 225.81,99.6 214,88 C204.2,78.38 171.17,58.79 153.08,48.37 \" fill=\"none\" id=\"E8-&gt;E3\" style=\"stroke: #A80036; stroke-width: 1.0;\"/><polygon fill=\"#A80036\" points=\"148.41,45.69,154.234,53.6323,152.7495,48.1738,158.208,46.6892,148.41,45.69\" style=\"stroke: #A80036; stroke-width: 1.0;\"/><text fill=\"#000000\" font-family=\"sans-serif\" font-size=\"13\" lengthAdjust=\"spacingAndGlyphs\" textLength=\"44\" x=\"244\" y=\"114.0669\">[x &gt; 0]</text></a><!--MD5=[af87c684e3b0d8be13c1a698a818ef1e]\n",
       "link E3 to E4--><a href=\"psysml:b2a8f402-8a6f-47b5-a176-34e34a53fa41\" target=\"_top\" title=\"psysml:b2a8f402-8a6f-47b5-a176-34e34a53fa41\" xlink:actuate=\"onRequest\" xlink:href=\"psysml:b2a8f402-8a6f-47b5-a176-34e34a53fa41\" xlink:show=\"new\" xlink:title=\"psysml:b2a8f402-8a6f-47b5-a176-34e34a53fa41\" xlink:type=\"simple\"><path d=\"M131.03,42.86 C110.41,46.26 63.22,57.19 42,88 C25.54,111.89 28.61,147.84 31.99,167.47 \" fill=\"none\" id=\"E3-&gt;E4\" style=\"stroke: #A80036; stroke-width: 1.0;\"/><polygon fill=\"#A80036\" points=\"32.94,172.56,35.2263,162.9802,32.0255,167.6443,27.3613,164.4435,32.94,172.56\" style=\"stroke: #A80036; stroke-width: 1.0;\"/></a><!--MD5=[1b7591eae5389033d8d09a9d6721a717]\n",
       "link E4 to E5--><a href=\"psysml:d4e4cf4f-ca71-4ae2-aa8b-453c4e696e69\" target=\"_top\" title=\"psysml:d4e4cf4f-ca71-4ae2-aa8b-453c4e696e69\" xlink:actuate=\"onRequest\" xlink:href=\"psysml:d4e4cf4f-ca71-4ae2-aa8b-453c4e696e69\" xlink:show=\"new\" xlink:title=\"psysml:d4e4cf4f-ca71-4ae2-aa8b-453c4e696e69\" xlink:type=\"simple\"><path d=\"M39.08,190.91 C46.63,204.15 63.87,232.24 84,251 C97.73,263.8 115.17,275.16 130.35,283.85 \" fill=\"none\" id=\"E4-&gt;E5\" style=\"stroke: #A80036; stroke-width: 1.0;\"/><polygon fill=\"#A80036\" points=\"134.98,286.46,129.0858,278.5696,130.6187,284.0148,125.1735,285.5477,134.98,286.46\" style=\"stroke: #A80036; stroke-width: 1.0;\"/><text fill=\"#000000\" font-family=\"sans-serif\" font-size=\"13\" lengthAdjust=\"spacingAndGlyphs\" textLength=\"36\" x=\"85\" y=\"247.0669\">[true]</text></a><!--MD5=[79568f1e445c3877b6a54524624ccc7d]\n",
       "link E4 to E6--><a href=\"psysml:07d2ed15-614f-457b-995c-67ac116a921b\" target=\"_top\" title=\"psysml:07d2ed15-614f-457b-995c-67ac116a921b\" xlink:actuate=\"onRequest\" xlink:href=\"psysml:07d2ed15-614f-457b-995c-67ac116a921b\" xlink:show=\"new\" xlink:title=\"psysml:07d2ed15-614f-457b-995c-67ac116a921b\" xlink:type=\"simple\"><path d=\"M36.3,193.29 C39.76,217.03 50.73,279.03 76,324 C91.89,352.29 117.42,379.1 137.07,397.43 \" fill=\"none\" id=\"E4-&gt;E6\" style=\"stroke: #A80036; stroke-width: 1.0;\"/><polygon fill=\"#A80036\" points=\"140.92,400.98,137.0155,391.9382,137.2443,397.5904,131.5921,397.8192,140.92,400.98\" style=\"stroke: #A80036; stroke-width: 1.0;\"/><text fill=\"#000000\" font-family=\"sans-serif\" font-size=\"13\" lengthAdjust=\"spacingAndGlyphs\" textLength=\"40\" x=\"77\" y=\"307.0669\">[false]</text></a><!--MD5=[9120cf2e5df3bff93db8f754bbbc09b4]\n",
       "link E5 to E6--><a href=\"psysml:b67ea915-0e8a-4542-80c4-8f1f8e1002d6\" target=\"_top\" title=\"psysml:b67ea915-0e8a-4542-80c4-8f1f8e1002d6\" xlink:actuate=\"onRequest\" xlink:href=\"psysml:b67ea915-0e8a-4542-80c4-8f1f8e1002d6\" xlink:show=\"new\" xlink:title=\"psysml:b67ea915-0e8a-4542-80c4-8f1f8e1002d6\" xlink:type=\"simple\"><path d=\"M165,324.05 C165,343.9 165,374.02 165,395.52 \" fill=\"none\" id=\"E5-&gt;E6\" style=\"stroke: #A80036; stroke-width: 1.0;\"/><polygon fill=\"#A80036\" points=\"165,400.79,169,391.79,165,395.79,161,391.79,165,400.79\" style=\"stroke: #A80036; stroke-width: 1.0;\"/><text fill=\"#000000\" font-family=\"sans-serif\" font-size=\"13\" lengthAdjust=\"spacingAndGlyphs\" textLength=\"55\" x=\"166\" y=\"367.0669\">[x == 0]</text></a><!--MD5=[63bb46dbb4940016ab7ee02acb912714]\n",
       "@startuml\r\n",
       "skinparam wrapWidth 300\r\n",
       "hide circle\r\n",
       "\r\n",
       "rec def \"DecisionTest\" as E1  <<(T,blue)action def>> [[psysml:704d58b1-847a-4b5f-8ef4-b4da5c2432eb ]] {\r\n",
       "portout \"$result\" as E2  [[psysml:d3db88a9-d6e2-4728-bacb-cdc83b04fb60 ]] \r\n",
       "choice \"test x\" as E3  [[psysml:07816a00-a6c6-49d5-84be-841a1e7e2f6a ]] \r\n",
       "choice \"noname\" as E4  [[psysml:26311404-6ce6-4dcd-89ed-d43ec51ac22a ]] \r\n",
       "rec usage \"A1\" as E5  <<(T,blue)action>> [[psysml:f4b16115-f2df-4145-8494-1e5aced0fe90 ]] {\r\n",
       "}\r\n",
       "\r\n",
       "rec usage \"A2\" as E6  <<(T,blue)action>> [[psysml:ffb4dce0-5cb8-4add-9e67-ebd1f2f3deb3 ]] {\r\n",
       "}\r\n",
       "\r\n",
       "rec usage \"A3\" as E7  <<(T,blue)action>> [[psysml:dc91d98e-27d3-4fe3-8c05-9cedeab5907b ]] {\r\n",
       "}\r\n",
       "\r\n",
       "rec usage \"A3\" as E8  <<(T,blue)action>> [[psysml:dc91d98e-27d3-4fe3-8c05-9cedeab5907b ]] {\r\n",
       "}\r\n",
       "\r\n",
       "}\r\n",
       "\r\n",
       "E3  - -> E5 [[psysml:f0c1a87b-40f9-41dd-914f-8704a756a2ee ]] : [x == 1]\r\n",
       "E3  - -> E6 [[psysml:534d6032-2416-43d2-b21b-3e106f4a7f5b ]] : [x > 1]\r\n",
       "E3  - -> E8 [[psysml:e6958018-0280-470d-866d-790aaedd3d9a ]] \r\n",
       "E3 - -> E4 [[psysml:b2a8f402-8a6f-47b5-a176-34e34a53fa41 ]] \r\n",
       "E4  - -> E5 [[psysml:d4e4cf4f-ca71-4ae2-aa8b-453c4e696e69 ]] : [true]\r\n",
       "E4  - -> E6 [[psysml:07d2ed15-614f-457b-995c-67ac116a921b ]] : [false]\r\n",
       "E5  - -> E6 [[psysml:b67ea915-0e8a-4542-80c4-8f1f8e1002d6 ]] : [x == 0]\r\n",
       "E8  - -> E3 [[psysml:7eebbea4-be3a-4ef1-ac68-fab402045136 ]] : [x > 0]\r\n",
       "@enduml\r\n",
       "\n",
       "PlantUML version 1.2020.13(Sat Jun 13 12:26:38 UTC 2020)\n",
       "(EPL source distribution)\n",
       "Java Runtime: OpenJDK Runtime Environment\n",
       "JVM: OpenJDK 64-Bit Server VM\n",
       "Default Encoding: UTF-8\n",
       "Language: en\n",
       "Country: null\n",
       "--></g></svg>"
      ]
     },
     "execution_count": 29,
     "metadata": {},
     "output_type": "execute_result"
    }
   ],
   "source": [
    "%viz --style=\"STDCOLOR\" --view=\"MIXED\" \"DecisionTest\""
   ]
  },
  {
   "cell_type": "code",
   "execution_count": 30,
   "id": "597f4ec4",
   "metadata": {
    "execution": {
     "iopub.execute_input": "2021-04-20T07:01:21.443227Z",
     "iopub.status.busy": "2021-04-20T07:01:21.442778Z",
     "iopub.status.idle": "2021-04-20T07:01:21.506673Z",
     "shell.execute_reply": "2021-04-20T07:01:21.506253Z"
    }
   },
   "outputs": [
    {
     "data": {
      "image/svg+xml": [
       "<?xml version=\"1.0\" encoding=\"UTF-8\" standalone=\"no\"?><svg xmlns=\"http://www.w3.org/2000/svg\" xmlns:xlink=\"http://www.w3.org/1999/xlink\" contentScriptType=\"application/ecmascript\" contentStyleType=\"text/css\" height=\"574px\" preserveAspectRatio=\"none\" style=\"width:367px;height:574px;\" version=\"1.1\" viewBox=\"0 0 367 574\" width=\"367px\" zoomAndPan=\"magnify\"><defs><filter height=\"300%\" id=\"f16qt0xkrynq67\" width=\"300%\" x=\"-1\" y=\"-1\"><feGaussianBlur result=\"blurOut\" stdDeviation=\"2.0\"/><feColorMatrix in=\"blurOut\" result=\"blurOut2\" type=\"matrix\" values=\"0 0 0 0 0 0 0 0 0 0 0 0 0 0 0 0 0 0 .4 0\"/><feOffset dx=\"4.0\" dy=\"4.0\" in=\"blurOut2\" result=\"blurOut3\"/><feBlend in=\"SourceGraphic\" in2=\"blurOut3\" mode=\"normal\"/></filter></defs><g><!--MD5=[fbc87193dbaf4d95561dea2c320d4a47]\n",
       "cluster E1--><a href=\"psysml:704d58b1-847a-4b5f-8ef4-b4da5c2432eb\" target=\"_top\" title=\"psysml:704d58b1-847a-4b5f-8ef4-b4da5c2432eb\" xlink:actuate=\"onRequest\" xlink:href=\"psysml:704d58b1-847a-4b5f-8ef4-b4da5c2432eb\" xlink:show=\"new\" xlink:title=\"psysml:704d58b1-847a-4b5f-8ef4-b4da5c2432eb\" xlink:type=\"simple\"><rect fill=\"#FFFFFF\" filter=\"url(#f16qt0xkrynq67)\" height=\"534.72\" id=\"E1\" style=\"stroke: #A80036; stroke-width: 1.5;\" width=\"341\" x=\"7\" y=\"7\"/><rect fill=\"#FEFECE\" height=\"37.9375\" style=\"stroke: #A80036; stroke-width: 1.5;\" width=\"341\" x=\"7\" y=\"7\"/><text fill=\"#000000\" font-family=\"sans-serif\" font-size=\"12\" font-style=\"italic\" lengthAdjust=\"spacingAndGlyphs\" textLength=\"77\" x=\"139\" y=\"23.1387\">«action def»</text><text fill=\"#000000\" font-family=\"sans-serif\" font-size=\"12\" lengthAdjust=\"spacingAndGlyphs\" textLength=\"80\" x=\"137.5\" y=\"37.1074\">DecisionTest</text></a><text fill=\"#000000\" font-family=\"sans-serif\" font-size=\"14\" lengthAdjust=\"spacingAndGlyphs\" textLength=\"48\" x=\"153\" y=\"560.7151\">$result</text><rect fill=\"#A80036\" height=\"12\" style=\"stroke: #FEFECE; stroke-width: 1.5;\" width=\"12\" x=\"171\" y=\"535.72\"/><polygon fill=\"#FEFECE\" filter=\"url(#f16qt0xkrynq67)\" points=\"167,28.5,179,40.5,167,52.5,155,40.5,167,28.5\" style=\"stroke: #A80036; stroke-width: 1.5;\"/><polygon fill=\"#FEFECE\" filter=\"url(#f16qt0xkrynq67)\" points=\"35,170.5,47,182.5,35,194.5,23,182.5,35,170.5\" style=\"stroke: #A80036; stroke-width: 1.5;\"/><g id=\"E1.E5\"><a href=\"psysml:f4b16115-f2df-4145-8494-1e5aced0fe90\" target=\"_top\" title=\"psysml:f4b16115-f2df-4145-8494-1e5aced0fe90\" xlink:actuate=\"onRequest\" xlink:href=\"psysml:f4b16115-f2df-4145-8494-1e5aced0fe90\" xlink:show=\"new\" xlink:title=\"psysml:f4b16115-f2df-4145-8494-1e5aced0fe90\" xlink:type=\"simple\"><rect fill=\"#FEFECE\" filter=\"url(#f16qt0xkrynq67)\" height=\"42.9375\" id=\"E5\" rx=\"10\" ry=\"10\" style=\"stroke: #A80036; stroke-width: 1.5;\" width=\"86\" x=\"135\" y=\"281\"/><ellipse cx=\"152.25\" cy=\"299.9688\" fill=\"#FFA500\" rx=\"11\" ry=\"11\" style=\"stroke: #A80036; stroke-width: 1.0;\"/><path d=\"M148.125,301.8906 L148.125,294.0781 L150.5781,294.0781 L150.5781,302.5156 Q150.5781,303.4375 151.0469,303.9688 Q151.5313,304.5 152.3594,304.5 Q153.2031,304.5 153.6719,303.9688 Q154.1406,303.4375 154.1406,302.5156 L154.1406,294.0781 L156.5938,294.0781 L156.5938,301.8906 Q156.5938,304.4219 155.5938,305.5625 Q154.5938,306.7031 152.3594,306.7031 Q150.1406,306.7031 149.125,305.5625 Q148.125,304.4219 148.125,301.8906 Z \"/><text fill=\"#000000\" font-family=\"sans-serif\" font-size=\"12\" font-style=\"italic\" lengthAdjust=\"spacingAndGlyphs\" textLength=\"53\" x=\"164.75\" y=\"297.1387\">«action»</text><text fill=\"#000000\" font-family=\"sans-serif\" font-size=\"12\" lengthAdjust=\"spacingAndGlyphs\" textLength=\"16\" x=\"183.25\" y=\"311.1074\">A1</text></a></g><g id=\"E1.E6\"><a href=\"psysml:ffb4dce0-5cb8-4add-9e67-ebd1f2f3deb3\" target=\"_top\" title=\"psysml:ffb4dce0-5cb8-4add-9e67-ebd1f2f3deb3\" xlink:actuate=\"onRequest\" xlink:href=\"psysml:ffb4dce0-5cb8-4add-9e67-ebd1f2f3deb3\" xlink:show=\"new\" xlink:title=\"psysml:ffb4dce0-5cb8-4add-9e67-ebd1f2f3deb3\" xlink:type=\"simple\"><rect fill=\"#FEFECE\" filter=\"url(#f16qt0xkrynq67)\" height=\"42.9375\" id=\"E6\" rx=\"10\" ry=\"10\" style=\"stroke: #A80036; stroke-width: 1.5;\" width=\"86\" x=\"135\" y=\"401\"/><ellipse cx=\"152.25\" cy=\"419.9688\" fill=\"#FFA500\" rx=\"11\" ry=\"11\" style=\"stroke: #A80036; stroke-width: 1.0;\"/><path d=\"M148.125,421.8906 L148.125,414.0781 L150.5781,414.0781 L150.5781,422.5156 Q150.5781,423.4375 151.0469,423.9688 Q151.5313,424.5 152.3594,424.5 Q153.2031,424.5 153.6719,423.9688 Q154.1406,423.4375 154.1406,422.5156 L154.1406,414.0781 L156.5938,414.0781 L156.5938,421.8906 Q156.5938,424.4219 155.5938,425.5625 Q154.5938,426.7031 152.3594,426.7031 Q150.1406,426.7031 149.125,425.5625 Q148.125,424.4219 148.125,421.8906 Z \"/><text fill=\"#000000\" font-family=\"sans-serif\" font-size=\"12\" font-style=\"italic\" lengthAdjust=\"spacingAndGlyphs\" textLength=\"53\" x=\"164.75\" y=\"417.1387\">«action»</text><text fill=\"#000000\" font-family=\"sans-serif\" font-size=\"12\" lengthAdjust=\"spacingAndGlyphs\" textLength=\"16\" x=\"183.25\" y=\"431.1074\">A2</text></a></g><g id=\"E1.E7\"><a href=\"psysml:dc91d98e-27d3-4fe3-8c05-9cedeab5907b\" target=\"_top\" title=\"psysml:dc91d98e-27d3-4fe3-8c05-9cedeab5907b\" xlink:actuate=\"onRequest\" xlink:href=\"psysml:dc91d98e-27d3-4fe3-8c05-9cedeab5907b\" xlink:show=\"new\" xlink:title=\"psysml:dc91d98e-27d3-4fe3-8c05-9cedeab5907b\" xlink:type=\"simple\"><rect fill=\"#FEFECE\" filter=\"url(#f16qt0xkrynq67)\" height=\"42.9375\" id=\"E7\" rx=\"10\" ry=\"10\" style=\"stroke: #A80036; stroke-width: 1.5;\" width=\"86\" x=\"30\" y=\"88\"/><ellipse cx=\"47.25\" cy=\"106.9688\" fill=\"#FFA500\" rx=\"11\" ry=\"11\" style=\"stroke: #A80036; stroke-width: 1.0;\"/><path d=\"M43.125,108.8906 L43.125,101.0781 L45.5781,101.0781 L45.5781,109.5156 Q45.5781,110.4375 46.0469,110.9688 Q46.5313,111.5 47.3594,111.5 Q48.2031,111.5 48.6719,110.9688 Q49.1406,110.4375 49.1406,109.5156 L49.1406,101.0781 L51.5938,101.0781 L51.5938,108.8906 Q51.5938,111.4219 50.5938,112.5625 Q49.5938,113.7031 47.3594,113.7031 Q45.1406,113.7031 44.125,112.5625 Q43.125,111.4219 43.125,108.8906 Z \"/><text fill=\"#000000\" font-family=\"sans-serif\" font-size=\"12\" font-style=\"italic\" lengthAdjust=\"spacingAndGlyphs\" textLength=\"53\" x=\"59.75\" y=\"104.1387\">«action»</text><text fill=\"#000000\" font-family=\"sans-serif\" font-size=\"12\" lengthAdjust=\"spacingAndGlyphs\" textLength=\"16\" x=\"78.25\" y=\"118.1074\">A3</text></a></g><g id=\"E1.E8\"><a href=\"psysml:dc91d98e-27d3-4fe3-8c05-9cedeab5907b\" target=\"_top\" title=\"psysml:dc91d98e-27d3-4fe3-8c05-9cedeab5907b\" xlink:actuate=\"onRequest\" xlink:href=\"psysml:dc91d98e-27d3-4fe3-8c05-9cedeab5907b\" xlink:show=\"new\" xlink:title=\"psysml:dc91d98e-27d3-4fe3-8c05-9cedeab5907b\" xlink:type=\"simple\"><rect fill=\"#FEFECE\" filter=\"url(#f16qt0xkrynq67)\" height=\"42.9375\" id=\"E8\" rx=\"10\" ry=\"10\" style=\"stroke: #A80036; stroke-width: 1.5;\" width=\"86\" x=\"246\" y=\"161\"/><ellipse cx=\"263.25\" cy=\"179.9688\" fill=\"#FFA500\" rx=\"11\" ry=\"11\" style=\"stroke: #A80036; stroke-width: 1.0;\"/><path d=\"M259.125,181.8906 L259.125,174.0781 L261.5781,174.0781 L261.5781,182.5156 Q261.5781,183.4375 262.0469,183.9688 Q262.5313,184.5 263.3594,184.5 Q264.2031,184.5 264.6719,183.9688 Q265.1406,183.4375 265.1406,182.5156 L265.1406,174.0781 L267.5938,174.0781 L267.5938,181.8906 Q267.5938,184.4219 266.5938,185.5625 Q265.5938,186.7031 263.3594,186.7031 Q261.1406,186.7031 260.125,185.5625 Q259.125,184.4219 259.125,181.8906 Z \"/><text fill=\"#000000\" font-family=\"sans-serif\" font-size=\"12\" font-style=\"italic\" lengthAdjust=\"spacingAndGlyphs\" textLength=\"53\" x=\"275.75\" y=\"177.1387\">«action»</text><text fill=\"#000000\" font-family=\"sans-serif\" font-size=\"12\" lengthAdjust=\"spacingAndGlyphs\" textLength=\"16\" x=\"294.25\" y=\"191.1074\">A3</text></a></g><!--MD5=[0188b64bb0ae78505a997a81836e11e9]\n",
       "link E3 to E5--><a href=\"psysml:f0c1a87b-40f9-41dd-914f-8704a756a2ee\" target=\"_top\" title=\"psysml:f0c1a87b-40f9-41dd-914f-8704a756a2ee\" xlink:actuate=\"onRequest\" xlink:href=\"psysml:f0c1a87b-40f9-41dd-914f-8704a756a2ee\" xlink:show=\"new\" xlink:title=\"psysml:f0c1a87b-40f9-41dd-914f-8704a756a2ee\" xlink:type=\"simple\"><path d=\"M164.07,49.64 C155.89,73.45 134.01,145 144,204 C148.28,229.26 158.37,256.69 166.46,276.01 \" fill=\"none\" id=\"E3-&gt;E5\" style=\"stroke: #A80036; stroke-width: 1.0;\"/><polygon fill=\"#A80036\" points=\"168.47,280.74,168.6272,270.8924,166.5125,276.1391,161.2658,274.0244,168.47,280.74\" style=\"stroke: #A80036; stroke-width: 1.0;\"/><text fill=\"#000000\" font-family=\"sans-serif\" font-size=\"13\" lengthAdjust=\"spacingAndGlyphs\" textLength=\"55\" x=\"145\" y=\"187.0669\">[x == 1]</text></a><!--MD5=[ec9844e0c75763426927cad3229d1081]\n",
       "link E3 to E6--><a href=\"psysml:534d6032-2416-43d2-b21b-3e106f4a7f5b\" target=\"_top\" title=\"psysml:534d6032-2416-43d2-b21b-3e106f4a7f5b\" xlink:actuate=\"onRequest\" xlink:href=\"psysml:534d6032-2416-43d2-b21b-3e106f4a7f5b\" xlink:show=\"new\" xlink:title=\"psysml:534d6032-2416-43d2-b21b-3e106f4a7f5b\" xlink:type=\"simple\"><path d=\"M169.76,49.87 C176.16,69.33 192.4,119.09 205,161 C220.96,214.09 229.87,226.32 239,281 C244.35,313.05 242.11,321.52 243,354 C243.21,361.55 246.32,364.21 243,371 C237.83,381.56 229.28,390.54 220.04,397.88 \" fill=\"none\" id=\"E3-&gt;E6\" style=\"stroke: #A80036; stroke-width: 1.0;\"/><polygon fill=\"#A80036\" points=\"216.05,400.92,225.6321,398.6432,220.0258,397.8881,220.781,392.2818,216.05,400.92\" style=\"stroke: #A80036; stroke-width: 1.0;\"/><text fill=\"#000000\" font-family=\"sans-serif\" font-size=\"13\" lengthAdjust=\"spacingAndGlyphs\" textLength=\"44\" x=\"234\" y=\"247.0669\">[x &gt; 1]</text></a><!--MD5=[ca5a752d6098d8a44b3f88316e7452d1]\n",
       "link E3 to E8--><a href=\"psysml:e6958018-0280-470d-866d-790aaedd3d9a\" target=\"_top\" title=\"psysml:e6958018-0280-470d-866d-790aaedd3d9a\" xlink:actuate=\"onRequest\" xlink:href=\"psysml:e6958018-0280-470d-866d-790aaedd3d9a\" xlink:show=\"new\" xlink:title=\"psysml:e6958018-0280-470d-866d-790aaedd3d9a\" xlink:type=\"simple\"><path d=\"M173.65,46.41 C183.6,54.12 202.22,70.04 212,88 C221.39,105.23 211.3,114.55 222,131 C228.74,141.36 238.38,150.41 248.25,157.86 \" fill=\"none\" id=\"E3-&gt;E8\" style=\"stroke: #A80036; stroke-width: 1.0;\"/><polygon fill=\"#A80036\" points=\"252.48,160.96,247.5918,152.4099,248.4493,158.0013,242.8579,158.8589,252.48,160.96\" style=\"stroke: #A80036; stroke-width: 1.0;\"/></a><!--MD5=[95fa686b5a16158bcdbcaeead89f639b]\n",
       "link E8 to E3--><a href=\"psysml:7eebbea4-be3a-4ef1-ac68-fab402045136\" target=\"_top\" title=\"psysml:7eebbea4-be3a-4ef1-ac68-fab402045136\" xlink:actuate=\"onRequest\" xlink:href=\"psysml:7eebbea4-be3a-4ef1-ac68-fab402045136\" xlink:show=\"new\" xlink:title=\"psysml:7eebbea4-be3a-4ef1-ac68-fab402045136\" xlink:type=\"simple\"><path d=\"M273.44,160.88 C266.56,151.73 258.36,140.84 251,131 C236.73,111.93 235.07,105.58 219,88 C205.73,73.48 188.36,58.66 177.44,49.77 \" fill=\"none\" id=\"E8-&gt;E3\" style=\"stroke: #A80036; stroke-width: 1.0;\"/><polygon fill=\"#A80036\" points=\"173.46,46.56,177.9421,55.3299,177.3476,49.7043,182.9731,49.1098,173.46,46.56\" style=\"stroke: #A80036; stroke-width: 1.0;\"/><text fill=\"#000000\" font-family=\"sans-serif\" font-size=\"13\" lengthAdjust=\"spacingAndGlyphs\" textLength=\"44\" x=\"252\" y=\"114.0669\">[x &gt; 0]</text></a><!--MD5=[af87c684e3b0d8be13c1a698a818ef1e]\n",
       "link E3 to E4--><a href=\"psysml:b2a8f402-8a6f-47b5-a176-34e34a53fa41\" target=\"_top\" title=\"psysml:b2a8f402-8a6f-47b5-a176-34e34a53fa41\" xlink:actuate=\"onRequest\" xlink:href=\"psysml:b2a8f402-8a6f-47b5-a176-34e34a53fa41\" xlink:show=\"new\" xlink:title=\"psysml:b2a8f402-8a6f-47b5-a176-34e34a53fa41\" xlink:type=\"simple\"><path d=\"M155.55,41.29 C128.17,41.5 58.94,46.32 29,88 C11.65,112.15 22.14,149.49 29.56,168.87 \" fill=\"none\" id=\"E3-&gt;E4\" style=\"stroke: #A80036; stroke-width: 1.0;\"/><polygon fill=\"#A80036\" points=\"31.54,173.83,31.9114,163.9881,29.683,169.1876,24.4836,166.9593,31.54,173.83\" style=\"stroke: #A80036; stroke-width: 1.0;\"/></a><!--MD5=[1b7591eae5389033d8d09a9d6721a717]\n",
       "link E4 to E5--><a href=\"psysml:d4e4cf4f-ca71-4ae2-aa8b-453c4e696e69\" target=\"_top\" title=\"psysml:d4e4cf4f-ca71-4ae2-aa8b-453c4e696e69\" xlink:actuate=\"onRequest\" xlink:href=\"psysml:d4e4cf4f-ca71-4ae2-aa8b-453c4e696e69\" xlink:show=\"new\" xlink:title=\"psysml:d4e4cf4f-ca71-4ae2-aa8b-453c4e696e69\" xlink:type=\"simple\"><path d=\"M38.96,191.04 C46.32,204.49 63.28,232.9 84,251 C97.53,262.82 114.3,272.93 129.91,280.93 \" fill=\"none\" id=\"E4-&gt;E5\" style=\"stroke: #A80036; stroke-width: 1.0;\"/><polygon fill=\"#A80036\" points=\"134.71,283.34,128.4587,275.7294,130.2407,281.0982,124.8719,282.8802,134.71,283.34\" style=\"stroke: #A80036; stroke-width: 1.0;\"/><text fill=\"#000000\" font-family=\"sans-serif\" font-size=\"13\" lengthAdjust=\"spacingAndGlyphs\" textLength=\"36\" x=\"85\" y=\"247.0669\">[true]</text></a><!--MD5=[79568f1e445c3877b6a54524624ccc7d]\n",
       "link E4 to E6--><a href=\"psysml:07d2ed15-614f-457b-995c-67ac116a921b\" target=\"_top\" title=\"psysml:07d2ed15-614f-457b-995c-67ac116a921b\" xlink:actuate=\"onRequest\" xlink:href=\"psysml:07d2ed15-614f-457b-995c-67ac116a921b\" xlink:show=\"new\" xlink:title=\"psysml:07d2ed15-614f-457b-995c-67ac116a921b\" xlink:type=\"simple\"><path d=\"M36.1,193.4 C39.13,217.4 49.22,279.92 76,324 C93.84,353.37 122.75,379.82 145.25,397.74 \" fill=\"none\" id=\"E4-&gt;E6\" style=\"stroke: #A80036; stroke-width: 1.0;\"/><polygon fill=\"#A80036\" points=\"149.37,400.99,144.7826,392.2748,145.4449,397.8927,139.8269,398.555,149.37,400.99\" style=\"stroke: #A80036; stroke-width: 1.0;\"/><text fill=\"#000000\" font-family=\"sans-serif\" font-size=\"13\" lengthAdjust=\"spacingAndGlyphs\" textLength=\"40\" x=\"77\" y=\"307.0669\">[false]</text></a><!--MD5=[9120cf2e5df3bff93db8f754bbbc09b4]\n",
       "link E5 to E6--><a href=\"psysml:b67ea915-0e8a-4542-80c4-8f1f8e1002d6\" target=\"_top\" title=\"psysml:b67ea915-0e8a-4542-80c4-8f1f8e1002d6\" xlink:actuate=\"onRequest\" xlink:href=\"psysml:b67ea915-0e8a-4542-80c4-8f1f8e1002d6\" xlink:show=\"new\" xlink:title=\"psysml:b67ea915-0e8a-4542-80c4-8f1f8e1002d6\" xlink:type=\"simple\"><path d=\"M178,324.05 C178,343.9 178,374.02 178,395.52 \" fill=\"none\" id=\"E5-&gt;E6\" style=\"stroke: #A80036; stroke-width: 1.0;\"/><polygon fill=\"#A80036\" points=\"178,400.79,182,391.79,178,395.79,174,391.79,178,400.79\" style=\"stroke: #A80036; stroke-width: 1.0;\"/><text fill=\"#000000\" font-family=\"sans-serif\" font-size=\"13\" lengthAdjust=\"spacingAndGlyphs\" textLength=\"55\" x=\"179\" y=\"367.0669\">[x == 0]</text></a><!--MD5=[6d8f4b2e78afface1242da0722006cf2]\n",
       "@startuml\r\n",
       " \r\n",
       "rec def \"DecisionTest\" as E1  <<(D,brown)action def>> [[psysml:704d58b1-847a-4b5f-8ef4-b4da5c2432eb ]] {\r\n",
       "portout \"$result\" as E2  [[psysml:d3db88a9-d6e2-4728-bacb-cdc83b04fb60 ]] \r\n",
       "choice \"test x\" as E3  [[psysml:07816a00-a6c6-49d5-84be-841a1e7e2f6a ]] \r\n",
       "choice \"noname\" as E4  [[psysml:26311404-6ce6-4dcd-89ed-d43ec51ac22a ]] \r\n",
       "rec usage \"A1\" as E5  <<(U,orange)action>> [[psysml:f4b16115-f2df-4145-8494-1e5aced0fe90 ]] {\r\n",
       "}\r\n",
       "\r\n",
       "rec usage \"A2\" as E6  <<(U,orange)action>> [[psysml:ffb4dce0-5cb8-4add-9e67-ebd1f2f3deb3 ]] {\r\n",
       "}\r\n",
       "\r\n",
       "rec usage \"A3\" as E7  <<(U,orange)action>> [[psysml:dc91d98e-27d3-4fe3-8c05-9cedeab5907b ]] {\r\n",
       "}\r\n",
       "\r\n",
       "rec usage \"A3\" as E8  <<(U,orange)action>> [[psysml:dc91d98e-27d3-4fe3-8c05-9cedeab5907b ]] {\r\n",
       "}\r\n",
       "\r\n",
       "}\r\n",
       "\r\n",
       "E3  - -> E5 [[psysml:f0c1a87b-40f9-41dd-914f-8704a756a2ee ]] : [x == 1]\r\n",
       "E3  - -> E6 [[psysml:534d6032-2416-43d2-b21b-3e106f4a7f5b ]] : [x > 1]\r\n",
       "E3  - -> E8 [[psysml:e6958018-0280-470d-866d-790aaedd3d9a ]] \r\n",
       "E3 - -> E4 [[psysml:b2a8f402-8a6f-47b5-a176-34e34a53fa41 ]] \r\n",
       "E4  - -> E5 [[psysml:d4e4cf4f-ca71-4ae2-aa8b-453c4e696e69 ]] : [true]\r\n",
       "E4  - -> E6 [[psysml:07d2ed15-614f-457b-995c-67ac116a921b ]] : [false]\r\n",
       "E5  - -> E6 [[psysml:b67ea915-0e8a-4542-80c4-8f1f8e1002d6 ]] : [x == 0]\r\n",
       "E8  - -> E3 [[psysml:7eebbea4-be3a-4ef1-ac68-fab402045136 ]] : [x > 0]\r\n",
       "@enduml\r\n",
       "\n",
       "PlantUML version 1.2020.13(Sat Jun 13 12:26:38 UTC 2020)\n",
       "(EPL source distribution)\n",
       "Java Runtime: OpenJDK Runtime Environment\n",
       "JVM: OpenJDK 64-Bit Server VM\n",
       "Default Encoding: UTF-8\n",
       "Language: en\n",
       "Country: null\n",
       "--></g></svg>"
      ]
     },
     "execution_count": 30,
     "metadata": {},
     "output_type": "execute_result"
    }
   ],
   "source": [
    "%viz --style=\"PLANTUML\" --view=\"Default\" \"DecisionTest\""
   ]
  },
  {
   "cell_type": "code",
   "execution_count": 31,
   "id": "51fd3e4a",
   "metadata": {
    "execution": {
     "iopub.execute_input": "2021-04-20T07:01:21.557478Z",
     "iopub.status.busy": "2021-04-20T07:01:21.556871Z",
     "iopub.status.idle": "2021-04-20T07:01:21.617352Z",
     "shell.execute_reply": "2021-04-20T07:01:21.617003Z"
    }
   },
   "outputs": [
    {
     "data": {
      "image/svg+xml": [
       "<?xml version=\"1.0\" encoding=\"UTF-8\" standalone=\"no\"?><svg xmlns=\"http://www.w3.org/2000/svg\" xmlns:xlink=\"http://www.w3.org/1999/xlink\" contentScriptType=\"application/ecmascript\" contentStyleType=\"text/css\" height=\"199px\" preserveAspectRatio=\"none\" style=\"width:138px;height:199px;\" version=\"1.1\" viewBox=\"0 0 138 199\" width=\"138px\" zoomAndPan=\"magnify\"><defs><filter height=\"300%\" id=\"f1e2l7ihdlobeb\" width=\"300%\" x=\"-1\" y=\"-1\"><feGaussianBlur result=\"blurOut\" stdDeviation=\"2.0\"/><feColorMatrix in=\"blurOut\" result=\"blurOut2\" type=\"matrix\" values=\"0 0 0 0 0 0 0 0 0 0 0 0 0 0 0 0 0 0 .4 0\"/><feOffset dx=\"4.0\" dy=\"4.0\" in=\"blurOut2\" result=\"blurOut3\"/><feBlend in=\"SourceGraphic\" in2=\"blurOut3\" mode=\"normal\"/></filter></defs><g><!--MD5=[43c9051892ef23e1a46a86907403d788]\n",
       "class E1--><a href=\"psysml:704d58b1-847a-4b5f-8ef4-b4da5c2432eb\" target=\"_top\" title=\"psysml:704d58b1-847a-4b5f-8ef4-b4da5c2432eb\" xlink:actuate=\"onRequest\" xlink:href=\"psysml:704d58b1-847a-4b5f-8ef4-b4da5c2432eb\" xlink:show=\"new\" xlink:title=\"psysml:704d58b1-847a-4b5f-8ef4-b4da5c2432eb\" xlink:type=\"simple\"><rect fill=\"#FEFECE\" filter=\"url(#f1e2l7ihdlobeb)\" height=\"173.1797\" id=\"E1\" style=\"stroke: #A80036; stroke-width: 1.5;\" width=\"112\" x=\"7\" y=\"7\"/><ellipse cx=\"22\" cy=\"25.9688\" fill=\"#A52A2A\" rx=\"11\" ry=\"11\" style=\"stroke: #A80036; stroke-width: 1.0;\"/><path d=\"M21.5938,21.7813 L21.5938,29.7656 L22.25,29.7656 Q23.6875,29.7656 24.2969,28.8594 Q24.9219,27.9375 24.9219,25.7656 Q24.9219,23.5938 24.2969,22.6875 Q23.6875,21.7813 22.25,21.7813 L21.5938,21.7813 Z M19.1406,19.5781 L21.7656,19.5781 Q24.7969,19.5781 26.125,21.0313 Q27.4688,22.4688 27.4688,25.7656 Q27.4688,29.0625 26.125,30.5156 Q24.7969,31.9688 21.7656,31.9688 L19.1406,31.9688 L19.1406,19.5781 Z \"/><text fill=\"#000000\" font-family=\"sans-serif\" font-size=\"12\" font-style=\"italic\" lengthAdjust=\"spacingAndGlyphs\" textLength=\"77\" x=\"37.5\" y=\"23.1387\">«action def»</text><text fill=\"#000000\" font-family=\"sans-serif\" font-size=\"12\" lengthAdjust=\"spacingAndGlyphs\" textLength=\"80\" x=\"36\" y=\"37.1074\">DecisionTest</text><line style=\"stroke: #A80036; stroke-width: 1.5;\" x1=\"8\" x2=\"118\" y1=\"44.9375\" y2=\"44.9375\"/><text fill=\"#000000\" font-family=\"sans-serif\" font-size=\"11\" lengthAdjust=\"spacingAndGlyphs\" textLength=\"26\" x=\"13\" y=\"59.1479\">x=1;</text><text fill=\"#000000\" font-family=\"sans-serif\" font-size=\"11\" lengthAdjust=\"spacingAndGlyphs\" textLength=\"14\" x=\"13\" y=\"88.7573\">A1</text><text fill=\"#000000\" font-family=\"sans-serif\" font-size=\"11\" lengthAdjust=\"spacingAndGlyphs\" textLength=\"14\" x=\"13\" y=\"101.562\">A2</text><text fill=\"#000000\" font-family=\"sans-serif\" font-size=\"11\" lengthAdjust=\"spacingAndGlyphs\" textLength=\"14\" x=\"13\" y=\"114.3667\">A3</text><line style=\"stroke: #A80036; stroke-width: 1.0;\" x1=\"8\" x2=\"42.5\" y1=\"72.1445\" y2=\"72.1445\"/><text fill=\"#000000\" font-family=\"sans-serif\" font-size=\"11\" lengthAdjust=\"spacingAndGlyphs\" textLength=\"41\" x=\"42.5\" y=\"75.4526\">actions</text><line style=\"stroke: #A80036; stroke-width: 1.0;\" x1=\"83.5\" x2=\"118\" y1=\"72.1445\" y2=\"72.1445\"/><text fill=\"#000000\" font-family=\"sans-serif\" font-size=\"11\" lengthAdjust=\"spacingAndGlyphs\" textLength=\"32\" x=\"13\" y=\"143.9761\">test x</text><line style=\"stroke: #A80036; stroke-width: 1.0;\" x1=\"8\" x2=\"21.5\" y1=\"127.3633\" y2=\"127.3633\"/><text fill=\"#000000\" font-family=\"sans-serif\" font-size=\"11\" lengthAdjust=\"spacingAndGlyphs\" textLength=\"83\" x=\"21.5\" y=\"130.6714\">decisionNodes</text><line style=\"stroke: #A80036; stroke-width: 1.0;\" x1=\"104.5\" x2=\"118\" y1=\"127.3633\" y2=\"127.3633\"/><text fill=\"#000000\" font-family=\"sans-serif\" font-size=\"11\" lengthAdjust=\"spacingAndGlyphs\" textLength=\"8\" x=\"13\" y=\"173.5854\">S</text><line style=\"stroke: #A80036; stroke-width: 1.0;\" x1=\"8\" x2=\"32.5\" y1=\"156.9727\" y2=\"156.9727\"/><text fill=\"#000000\" font-family=\"sans-serif\" font-size=\"11\" lengthAdjust=\"spacingAndGlyphs\" textLength=\"61\" x=\"32.5\" y=\"160.2808\">transitions</text><line style=\"stroke: #A80036; stroke-width: 1.0;\" x1=\"93.5\" x2=\"118\" y1=\"156.9727\" y2=\"156.9727\"/></a><!--MD5=[d8744e6bdb2c6ca73c05af536471fa31]\n",
       "@startuml\r\n",
       " \r\n",
       "comp def \"DecisionTest\" as E1  <<(D,brown)action def>> [[psysml:704d58b1-847a-4b5f-8ef4-b4da5c2432eb ]] {\r\n",
       "x=1; \r\n",
       "- - actions - -\r\n",
       "A1\r\n",
       "A2\r\n",
       "A3\r\n",
       "- - decisionNodes - -\r\n",
       "test x\r\n",
       "- - transitions - -\r\n",
       "S\r\n",
       "}\r\n",
       "@enduml\r\n",
       "\n",
       "PlantUML version 1.2020.13(Sat Jun 13 12:26:38 UTC 2020)\n",
       "(EPL source distribution)\n",
       "Java Runtime: OpenJDK Runtime Environment\n",
       "JVM: OpenJDK 64-Bit Server VM\n",
       "Default Encoding: UTF-8\n",
       "Language: en\n",
       "Country: null\n",
       "--></g></svg>"
      ]
     },
     "execution_count": 31,
     "metadata": {},
     "output_type": "execute_result"
    }
   ],
   "source": [
    "%viz --style=\"PLANTUML\" --view=\"Tree\" \"DecisionTest\""
   ]
  },
  {
   "cell_type": "code",
   "execution_count": 32,
   "id": "fd932838",
   "metadata": {
    "execution": {
     "iopub.execute_input": "2021-04-20T07:01:21.667839Z",
     "iopub.status.busy": "2021-04-20T07:01:21.667445Z",
     "iopub.status.idle": "2021-04-20T07:01:21.840572Z",
     "shell.execute_reply": "2021-04-20T07:01:21.838742Z"
    }
   },
   "outputs": [
    {
     "data": {
      "image/svg+xml": [
       "<?xml version=\"1.0\" encoding=\"UTF-8\" standalone=\"no\"?><svg xmlns=\"http://www.w3.org/2000/svg\" xmlns:xlink=\"http://www.w3.org/1999/xlink\" contentScriptType=\"application/ecmascript\" contentStyleType=\"text/css\" height=\"410px\" preserveAspectRatio=\"none\" style=\"width:603px;height:410px;background:#000000;\" version=\"1.1\" viewBox=\"0 0 603 410\" width=\"603px\" zoomAndPan=\"magnify\"><defs/><g><rect fill=\"#0D161E\" height=\"1\" style=\"stroke: #0D161E; stroke-width: 1.0;\" width=\"1\" x=\"0\" y=\"0\"/><rect fill=\"#FFFFFF\" height=\"53\" style=\"stroke: #FFFFFF; stroke-width: 1.0;\" width=\"602\" x=\"0\" y=\"0\"/><image height=\"53\" width=\"450\" x=\"1\" xlink:href=\"data:image/png;base64,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\" y=\"1\"/><rect fill=\"#FFFFFF\" height=\"205.5625\" style=\"stroke: #FFFFFF; stroke-width: 1.0;\" width=\"602\" x=\"0\" y=\"53\"/><text fill=\"#000000\" font-family=\"sans-serif\" font-size=\"12\" font-weight=\"bold\" lengthAdjust=\"spacingAndGlyphs\" textLength=\"159\" x=\"5\" y=\"69.1387\">Welcome to PlantUML!</text><text fill=\"#000000\" font-family=\"sans-serif\" font-size=\"12\" lengthAdjust=\"spacingAndGlyphs\" textLength=\"0\" x=\"9\" y=\"83.1074\"/><text fill=\"#000000\" font-family=\"sans-serif\" font-size=\"12\" lengthAdjust=\"spacingAndGlyphs\" textLength=\"293\" x=\"5\" y=\"97.0762\">If you use this software, you accept its license.</text><text fill=\"#000000\" font-family=\"sans-serif\" font-size=\"12\" lengthAdjust=\"spacingAndGlyphs\" textLength=\"107\" x=\"5\" y=\"111.0449\">(details by typing</text><text fill=\"#000000\" font-family=\"monospace\" font-size=\"12\" lengthAdjust=\"spacingAndGlyphs\" textLength=\"49\" x=\"116\" y=\"111.0449\">license</text><text fill=\"#000000\" font-family=\"sans-serif\" font-size=\"12\" lengthAdjust=\"spacingAndGlyphs\" textLength=\"56\" x=\"169\" y=\"111.0449\">keyword)</text><text fill=\"#000000\" font-family=\"sans-serif\" font-size=\"12\" lengthAdjust=\"spacingAndGlyphs\" textLength=\"0\" x=\"9\" y=\"125.0137\"/><text fill=\"#000000\" font-family=\"sans-serif\" font-size=\"12\" lengthAdjust=\"spacingAndGlyphs\" textLength=\"283\" x=\"5\" y=\"138.9824\">You can start with a simple UML Diagram like:</text><text fill=\"#000000\" font-family=\"sans-serif\" font-size=\"12\" lengthAdjust=\"spacingAndGlyphs\" textLength=\"0\" x=\"9\" y=\"152.9512\"/><text fill=\"#000000\" font-family=\"monospace\" font-size=\"12\" lengthAdjust=\"spacingAndGlyphs\" textLength=\"119\" x=\"5\" y=\"166.9199\">Bob-&gt;Alice: Hello</text><text fill=\"#000000\" font-family=\"sans-serif\" font-size=\"12\" lengthAdjust=\"spacingAndGlyphs\" textLength=\"0\" x=\"9\" y=\"180.8887\"/><text fill=\"#000000\" font-family=\"sans-serif\" font-size=\"12\" lengthAdjust=\"spacingAndGlyphs\" textLength=\"14\" x=\"5\" y=\"194.8574\">Or</text><text fill=\"#000000\" font-family=\"sans-serif\" font-size=\"12\" lengthAdjust=\"spacingAndGlyphs\" textLength=\"0\" x=\"9\" y=\"208.8262\"/><text fill=\"#000000\" font-family=\"monospace\" font-size=\"12\" lengthAdjust=\"spacingAndGlyphs\" textLength=\"91\" x=\"5\" y=\"222.7949\">class Example</text><text fill=\"#000000\" font-family=\"sans-serif\" font-size=\"12\" lengthAdjust=\"spacingAndGlyphs\" textLength=\"0\" x=\"9\" y=\"236.7637\"/><text fill=\"#000000\" font-family=\"sans-serif\" font-size=\"12\" lengthAdjust=\"spacingAndGlyphs\" textLength=\"349\" x=\"5\" y=\"250.7324\">You will find more information about PlantUML syntax on</text><text fill=\"#000000\" font-family=\"sans-serif\" font-size=\"12\" lengthAdjust=\"spacingAndGlyphs\" text-decoration=\"underline\" textLength=\"129\" x=\"358\" y=\"250.7324\">https://plantuml.com</text><image height=\"71\" width=\"80\" x=\"516\" xlink:href=\"data:image/png;base64,iVBORw0KGgoAAAANSUhEUgAAAFAAAABHCAMAAACnHDC8AAADAFBMVEX///+BpbvD3u/f7vfPz8+nz+g3ksuZEDkWADr/ujlvsdpTodLCwsOLwOEbg8T//v6pqamZETnLysvT09To5+jqLS4VATj9/f27u7vDw8MTfsK+v7/j4+SOweJprdjL4/KxsbEri8jk8PgXa57c29uUETez1utQoNJ1tNtEmc9cptWBut6ayOW/3O6YEDjY6vUfhcXBwcHs7Ozw9/v83t79uTn7+/vX19ehoaHx8fG2tLXHx8fuVlfrNTYaBjn/vUH5+fmko6WXl5f/+fn95ub+9PT+8PD3qKidmaMxIUrnqDWcFj7n5eX09PTu7u2SkpKfnZ6rq6z0lJTm4tzJrHUfDT339/eFGDn6tjcrEzOvrbBuZ3l4eomSMS7Hz9Smpqasu8SFiYuQETfa2du1m6OOM051J0NWTWL5xse4uLj6zc33r6/4vb7ydHXqLi/72dntTE3tR0ijbn5jW3C+u8NANVQrG0XFubqRVGZza4GQGT2VaS7a0NPJtI6IJj/zszrfqkXXzr/Hw8cgC0LUqltOQ2JsSC5bTGjOpFafSi2+iDGtyt14m7TJhTCPJUSwoIG/qa+ikHiIgpCRHjI9j8KXbnaQH0FLf6FGPlp0cnYyKE2rg49Wj7dFXHmcwtrp6uu+xMjvYWLvW1z97e3sPD3sP0DuUlP709PYzdDPmzqZWWySRVygfHHd1smWkZ+PgnibETqsl260q5fLuppJLC/dpj2HPFLTtHv/ujrTwJy5s6iWjIi0iD3joTTCmU3trjuvZS2zlFvjq0HSyLbYp0qRts10XGxEKC9yPVBQZIOPdlNvMk2NeYNqRlujtcCVrr3j5eY1gK9Qn9GLp7lbeJXRxrCkiZDaozyukoJ+H0B3rc+OYy+iprJkYXdhmr6ee0afs79xq9BikrGKjI3FomEiLFO0ay6nfIm4pZXRjTFuhZSZWm0zcZyJN0KNTk4eebNfdIGGlZ93h5kcED5nOVYyRWbziIk9dJ4kerE5ZYxRUnLG1d7p8PTvY2PtTk/1nZ1ycV/bAAAFx0lEQVR4Xu1Ye1BUVRg/e3dhl4csKyxqPlBJQVETF2icAY13GogkEFqizqRRpoBpTCIapaUOhWNjUdOMSBpqJYZTg4KigFKADzSIVZ4qD5VFluXhLgvbPee+r49R7v2z3+zcc77fOfPb7zvfPd85uwCIhwT4wPisANwPAuIKHnbHH1I+KwAXDA18ShDW58CneCEnXl8JGwmfHylCPSvlZ/FWxh8YIRIxTWkZAEofkTz8sNq7tAqE2gODOB6GYZobVaH20SVZ4oQcdmXV0L7c4b8OFvJHRoYwdVIoyPX3gxtFDA+V8e6mM8pBoCjij4wQiWo/ALzV/kpkifBi13p4waZuGrJEECycixcEVSbYgFwUozg4/qSraOxrP7O8Eogj2HDxyMWmzpk6823+yIjhvR7fLOpDsCuGhwC0WfbkjQq8A0MWC0EgIYzPCYMymM8Iwcvz6K4IWw8skTrgq3iPMIQnxdfKrvyedpyvbSsyBQt6zcH6OxXmjqYxg9PbgXBBveK6aRAXNEl1Ssc+hz7Bgntyohb/ggQlNrrdzfIuoYKSb79067PrRoLmGo25SeghJRn1yMrSbPTptZaoBlwtlWbBHspxiW+mW8+46ereVnMXGxbFQ+mjofiHZTrclJn5E14UEgdrO9tRVph0HDJlYlRsLv4XFA7RBA1kK5ogBb7gtn08AvxWymc2b+YzLHC3nnOCNHvdayUsZpnnwnPqGf+yGKcPKlv92vtJC209zGyRWJmgyd16sSGGT/AmM2rdKZKZHxwCz7KUodLzJOO8th4OBqxdo0c2tfUkNr3QlJkZQWWMBP0uwBHvmQQb3zRVCMnsMO6ATazf3f0kkza0HTaPCdIhpyTknqP61Te1eV2gRpr1FUn4xtxRT72pDHhj09/UnBLjiv72p4d8FEtlLibBd7Qg0xK5+XfS9q2AzxSVHPnNIMBS8BQPw8N1W4glQWj0mtp4+nSHhvKYOM4GL6vH1jGTcDQ3p1979AQPI5agXEDYwuS5awknJ73rHU56RyLAr6ACpO5iMRGvp3XykjImgs4Fgm2/7URc8dhbeD9jdhYVNon0mdFcAjTIXbmC75VrmVHcQ+JDIXbuNmYUYlZoYx6XcWjKTWavYXd1WzU9OEh9wLFfEVFza5PEhVhDAvfLx60cWM3ePMa9hyZG5DNr6DbQiCUcYU0AKGzGyYxlkf+wxnCk+wdwCbA/TkWH7Dbgoq8dcmKNssQQ3F/JmMxlIj/fzo/7s9OIwUMebbYzbh2zLfk7ehBGzIau6OeO+xzGKlBRwCGAXNaCFgYbRoKG+hMTfMff4M6h0LYxpmv/92ym9tIxc4uRzawynCEWGhum7odf9/75vh8zg0bKijX5AMxhMacsK8pBxaJihtnQqr1KG8yFMzq/dutJ2iKwNCbXA7Yamsm2Xn0XtgtowY3Xy8rpYc4NNqon8eM49k+NtzU55GtMleGAkNR6oldDMhH+e9EX0JB+UYKv4WgLZrLCjHV7wnyYlzJZvYV6A6d1w6xEph842UUyTkjGIbzwRA/JIOBJKSt88yglqND1h6TpiQqQV99wmJ7nknQcgIIHqd00EwSzgudigGYQUHE4qFMcGJb22kp7lNop8p6znStvg5S2e1TVRti56w/zj8fZzKLiDa317MqBQFbs+J3dcbSgo+H4D0kLOokJ82/NR8KZbp9eIZgllwKR8Ec1ejIX827POk/06HpYffGd5dkoZJXMqDAVXd1Nbhavlx4OyuAiPcyAF3Ick8faXAuE5WToApkMxykL1PbNRJ91SDkXOyymPFR1UMlw9GjRPKCrPsRSvUnbzbkELj2PSSRkQLiH1AvROTutlpryLHQAoCD+C2BBP4npMwd9zsIgzgaDsK+bctmVw3hetai5t9RS4PEqub4QnCvxteGzOZyQXxjscxkhHisWKMi72+T0p1dxGeGYkG0ez+eeG7In/n/oNOexC9fzIiLvPxVtKp84iza+AAAAAElFTkSuQmCC\" y=\"59\"/><rect fill=\"#000000\" height=\"96.4844\" style=\"stroke: #000000; stroke-width: 1.0;\" width=\"602\" x=\"0\" y=\"258.5625\"/><rect fill=\"#33FF02\" height=\"21.2969\" style=\"stroke: #33FF02; stroke-width: 1.0;\" width=\"170\" x=\"5\" y=\"263.5625\"/><text fill=\"#000000\" font-family=\"sans-serif\" font-size=\"14\" font-weight=\"bold\" lengthAdjust=\"spacingAndGlyphs\" textLength=\"168\" x=\"6\" y=\"278.5625\">[From string (line 2) ]</text><text fill=\"#33FF02\" font-family=\"sans-serif\" font-size=\"14\" font-weight=\"bold\" lengthAdjust=\"spacingAndGlyphs\" textLength=\"0\" x=\"10\" y=\"298.8594\"/><text fill=\"#33FF02\" font-family=\"sans-serif\" font-size=\"14\" font-weight=\"bold\" lengthAdjust=\"spacingAndGlyphs\" textLength=\"79\" x=\"5\" y=\"315.1563\">@startuml</text><text fill=\"#33FF02\" font-family=\"sans-serif\" font-size=\"14\" font-weight=\"bold\" lengthAdjust=\"spacingAndGlyphs\" textLength=\"0\" x=\"10\" y=\"331.4531\"/><text fill=\"#FF0000\" font-family=\"sans-serif\" font-size=\"14\" font-weight=\"bold\" lengthAdjust=\"spacingAndGlyphs\" textLength=\"142\" x=\"10\" y=\"347.75\">Empty description</text><rect fill=\"#FFFFFF\" height=\"53\" style=\"stroke: #FFFFFF; stroke-width: 1.0;\" width=\"602\" x=\"0\" y=\"355.0469\"/><image height=\"53\" width=\"450\" x=\"1\" xlink:href=\"data:image/png;base64,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\" y=\"356.0469\"/><!--MD5=[f59edd8218d337f74d0c332fc6737304]\n",
       "@startuml\r\n",
       " \r\n",
       "@enduml\r\n",
       "\n",
       "PlantUML version 1.2020.13(Sat Jun 13 12:26:38 UTC 2020)\n",
       "(EPL source distribution)\n",
       "Java Runtime: OpenJDK Runtime Environment\n",
       "JVM: OpenJDK 64-Bit Server VM\n",
       "Default Encoding: UTF-8\n",
       "Language: en\n",
       "Country: null\n",
       "--></g></svg>"
      ]
     },
     "execution_count": 32,
     "metadata": {},
     "output_type": "execute_result"
    }
   ],
   "source": [
    "%viz --style=\"PLANTUML\" --view=\"State\" \"DecisionTest\""
   ]
  },
  {
   "cell_type": "code",
   "execution_count": 33,
   "id": "0e79177b",
   "metadata": {
    "execution": {
     "iopub.execute_input": "2021-04-20T07:01:21.890754Z",
     "iopub.status.busy": "2021-04-20T07:01:21.890073Z",
     "iopub.status.idle": "2021-04-20T07:01:21.926746Z",
     "shell.execute_reply": "2021-04-20T07:01:21.925347Z"
    }
   },
   "outputs": [
    {
     "data": {
      "image/svg+xml": [
       "<?xml version=\"1.0\" encoding=\"UTF-8\" standalone=\"no\"?><svg xmlns=\"http://www.w3.org/2000/svg\" xmlns:xlink=\"http://www.w3.org/1999/xlink\" contentScriptType=\"application/ecmascript\" contentStyleType=\"text/css\" height=\"384px\" preserveAspectRatio=\"none\" style=\"width:367px;height:384px;\" version=\"1.1\" viewBox=\"0 0 367 384\" width=\"367px\" zoomAndPan=\"magnify\"><defs><filter height=\"300%\" id=\"fdw8q4umck48m\" width=\"300%\" x=\"-1\" y=\"-1\"><feGaussianBlur result=\"blurOut\" stdDeviation=\"2.0\"/><feColorMatrix in=\"blurOut\" result=\"blurOut2\" type=\"matrix\" values=\"0 0 0 0 0 0 0 0 0 0 0 0 0 0 0 0 0 0 .4 0\"/><feOffset dx=\"4.0\" dy=\"4.0\" in=\"blurOut2\" result=\"blurOut3\"/><feBlend in=\"SourceGraphic\" in2=\"blurOut3\" mode=\"normal\"/></filter></defs><g><!--MD5=[fbc87193dbaf4d95561dea2c320d4a47]\n",
       "cluster E1--><a href=\"psysml:704d58b1-847a-4b5f-8ef4-b4da5c2432eb\" target=\"_top\" title=\"psysml:704d58b1-847a-4b5f-8ef4-b4da5c2432eb\" xlink:actuate=\"onRequest\" xlink:href=\"psysml:704d58b1-847a-4b5f-8ef4-b4da5c2432eb\" xlink:show=\"new\" xlink:title=\"psysml:704d58b1-847a-4b5f-8ef4-b4da5c2432eb\" xlink:type=\"simple\"><rect fill=\"#FFFFFF\" filter=\"url(#fdw8q4umck48m)\" height=\"344.72\" id=\"E1\" style=\"stroke: #A80036; stroke-width: 1.5;\" width=\"341\" x=\"7\" y=\"7\"/><rect fill=\"#FEFECE\" height=\"37.9375\" style=\"stroke: #A80036; stroke-width: 1.5;\" width=\"341\" x=\"7\" y=\"7\"/><text fill=\"#000000\" font-family=\"sans-serif\" font-size=\"12\" font-style=\"italic\" lengthAdjust=\"spacingAndGlyphs\" textLength=\"77\" x=\"139\" y=\"23.1387\">«action def»</text><text fill=\"#000000\" font-family=\"sans-serif\" font-size=\"12\" lengthAdjust=\"spacingAndGlyphs\" textLength=\"80\" x=\"137.5\" y=\"37.1074\">DecisionTest</text></a><text fill=\"#000000\" font-family=\"sans-serif\" font-size=\"14\" lengthAdjust=\"spacingAndGlyphs\" textLength=\"48\" x=\"153\" y=\"370.7151\">$result</text><rect fill=\"#A80036\" height=\"12\" style=\"stroke: #FEFECE; stroke-width: 1.5;\" width=\"12\" x=\"171\" y=\"345.72\"/><polygon fill=\"#FEFECE\" filter=\"url(#fdw8q4umck48m)\" points=\"167,28.5,179,40.5,167,52.5,155,40.5,167,28.5\" style=\"stroke: #A80036; stroke-width: 1.5;\"/><polygon fill=\"#FEFECE\" filter=\"url(#fdw8q4umck48m)\" points=\"35,126.5,47,138.5,35,150.5,23,138.5,35,126.5\" style=\"stroke: #A80036; stroke-width: 1.5;\"/><g id=\"E1.E5\"><a href=\"psysml:f4b16115-f2df-4145-8494-1e5aced0fe90\" target=\"_top\" title=\"psysml:f4b16115-f2df-4145-8494-1e5aced0fe90\" xlink:actuate=\"onRequest\" xlink:href=\"psysml:f4b16115-f2df-4145-8494-1e5aced0fe90\" xlink:show=\"new\" xlink:title=\"psysml:f4b16115-f2df-4145-8494-1e5aced0fe90\" xlink:type=\"simple\"><rect fill=\"#FEFECE\" filter=\"url(#fdw8q4umck48m)\" height=\"42.9375\" id=\"E5\" rx=\"10\" ry=\"10\" style=\"stroke: #A80036; stroke-width: 1.5;\" width=\"86\" x=\"135\" y=\"193\"/><ellipse cx=\"152.25\" cy=\"211.9688\" fill=\"#FFA500\" rx=\"11\" ry=\"11\" style=\"stroke: #A80036; stroke-width: 1.0;\"/><path d=\"M148.125,213.8906 L148.125,206.0781 L150.5781,206.0781 L150.5781,214.5156 Q150.5781,215.4375 151.0469,215.9688 Q151.5313,216.5 152.3594,216.5 Q153.2031,216.5 153.6719,215.9688 Q154.1406,215.4375 154.1406,214.5156 L154.1406,206.0781 L156.5938,206.0781 L156.5938,213.8906 Q156.5938,216.4219 155.5938,217.5625 Q154.5938,218.7031 152.3594,218.7031 Q150.1406,218.7031 149.125,217.5625 Q148.125,216.4219 148.125,213.8906 Z \"/><text fill=\"#000000\" font-family=\"sans-serif\" font-size=\"12\" font-style=\"italic\" lengthAdjust=\"spacingAndGlyphs\" textLength=\"53\" x=\"164.75\" y=\"209.1387\">«action»</text><text fill=\"#000000\" font-family=\"sans-serif\" font-size=\"12\" lengthAdjust=\"spacingAndGlyphs\" textLength=\"16\" x=\"183.25\" y=\"223.1074\">A1</text></a></g><g id=\"E1.E6\"><a href=\"psysml:ffb4dce0-5cb8-4add-9e67-ebd1f2f3deb3\" target=\"_top\" title=\"psysml:ffb4dce0-5cb8-4add-9e67-ebd1f2f3deb3\" xlink:actuate=\"onRequest\" xlink:href=\"psysml:ffb4dce0-5cb8-4add-9e67-ebd1f2f3deb3\" xlink:show=\"new\" xlink:title=\"psysml:ffb4dce0-5cb8-4add-9e67-ebd1f2f3deb3\" xlink:type=\"simple\"><rect fill=\"#FEFECE\" filter=\"url(#fdw8q4umck48m)\" height=\"42.9375\" id=\"E6\" rx=\"10\" ry=\"10\" style=\"stroke: #A80036; stroke-width: 1.5;\" width=\"86\" x=\"135\" y=\"269\"/><ellipse cx=\"152.25\" cy=\"287.9688\" fill=\"#FFA500\" rx=\"11\" ry=\"11\" style=\"stroke: #A80036; stroke-width: 1.0;\"/><path d=\"M148.125,289.8906 L148.125,282.0781 L150.5781,282.0781 L150.5781,290.5156 Q150.5781,291.4375 151.0469,291.9688 Q151.5313,292.5 152.3594,292.5 Q153.2031,292.5 153.6719,291.9688 Q154.1406,291.4375 154.1406,290.5156 L154.1406,282.0781 L156.5938,282.0781 L156.5938,289.8906 Q156.5938,292.4219 155.5938,293.5625 Q154.5938,294.7031 152.3594,294.7031 Q150.1406,294.7031 149.125,293.5625 Q148.125,292.4219 148.125,289.8906 Z \"/><text fill=\"#000000\" font-family=\"sans-serif\" font-size=\"12\" font-style=\"italic\" lengthAdjust=\"spacingAndGlyphs\" textLength=\"53\" x=\"164.75\" y=\"285.1387\">«action»</text><text fill=\"#000000\" font-family=\"sans-serif\" font-size=\"12\" lengthAdjust=\"spacingAndGlyphs\" textLength=\"16\" x=\"183.25\" y=\"299.1074\">A2</text></a></g><g id=\"E1.E7\"><a href=\"psysml:dc91d98e-27d3-4fe3-8c05-9cedeab5907b\" target=\"_top\" title=\"psysml:dc91d98e-27d3-4fe3-8c05-9cedeab5907b\" xlink:actuate=\"onRequest\" xlink:href=\"psysml:dc91d98e-27d3-4fe3-8c05-9cedeab5907b\" xlink:show=\"new\" xlink:title=\"psysml:dc91d98e-27d3-4fe3-8c05-9cedeab5907b\" xlink:type=\"simple\"><rect fill=\"#FEFECE\" filter=\"url(#fdw8q4umck48m)\" height=\"42.9375\" id=\"E7\" rx=\"10\" ry=\"10\" style=\"stroke: #A80036; stroke-width: 1.5;\" width=\"86\" x=\"30\" y=\"66\"/><ellipse cx=\"47.25\" cy=\"84.9688\" fill=\"#FFA500\" rx=\"11\" ry=\"11\" style=\"stroke: #A80036; stroke-width: 1.0;\"/><path d=\"M43.125,86.8906 L43.125,79.0781 L45.5781,79.0781 L45.5781,87.5156 Q45.5781,88.4375 46.0469,88.9688 Q46.5313,89.5 47.3594,89.5 Q48.2031,89.5 48.6719,88.9688 Q49.1406,88.4375 49.1406,87.5156 L49.1406,79.0781 L51.5938,79.0781 L51.5938,86.8906 Q51.5938,89.4219 50.5938,90.5625 Q49.5938,91.7031 47.3594,91.7031 Q45.1406,91.7031 44.125,90.5625 Q43.125,89.4219 43.125,86.8906 Z \"/><text fill=\"#000000\" font-family=\"sans-serif\" font-size=\"12\" font-style=\"italic\" lengthAdjust=\"spacingAndGlyphs\" textLength=\"53\" x=\"59.75\" y=\"82.1387\">«action»</text><text fill=\"#000000\" font-family=\"sans-serif\" font-size=\"12\" lengthAdjust=\"spacingAndGlyphs\" textLength=\"16\" x=\"78.25\" y=\"96.1074\">A3</text></a></g><g id=\"E1.E8\"><a href=\"psysml:dc91d98e-27d3-4fe3-8c05-9cedeab5907b\" target=\"_top\" title=\"psysml:dc91d98e-27d3-4fe3-8c05-9cedeab5907b\" xlink:actuate=\"onRequest\" xlink:href=\"psysml:dc91d98e-27d3-4fe3-8c05-9cedeab5907b\" xlink:show=\"new\" xlink:title=\"psysml:dc91d98e-27d3-4fe3-8c05-9cedeab5907b\" xlink:type=\"simple\"><rect fill=\"#FEFECE\" filter=\"url(#fdw8q4umck48m)\" height=\"42.9375\" id=\"E8\" rx=\"10\" ry=\"10\" style=\"stroke: #A80036; stroke-width: 1.5;\" width=\"86\" x=\"246\" y=\"117\"/><ellipse cx=\"263.25\" cy=\"135.9688\" fill=\"#FFA500\" rx=\"11\" ry=\"11\" style=\"stroke: #A80036; stroke-width: 1.0;\"/><path d=\"M259.125,137.8906 L259.125,130.0781 L261.5781,130.0781 L261.5781,138.5156 Q261.5781,139.4375 262.0469,139.9688 Q262.5313,140.5 263.3594,140.5 Q264.2031,140.5 264.6719,139.9688 Q265.1406,139.4375 265.1406,138.5156 L265.1406,130.0781 L267.5938,130.0781 L267.5938,137.8906 Q267.5938,140.4219 266.5938,141.5625 Q265.5938,142.7031 263.3594,142.7031 Q261.1406,142.7031 260.125,141.5625 Q259.125,140.4219 259.125,137.8906 Z \"/><text fill=\"#000000\" font-family=\"sans-serif\" font-size=\"12\" font-style=\"italic\" lengthAdjust=\"spacingAndGlyphs\" textLength=\"53\" x=\"275.75\" y=\"133.1387\">«action»</text><text fill=\"#000000\" font-family=\"sans-serif\" font-size=\"12\" lengthAdjust=\"spacingAndGlyphs\" textLength=\"16\" x=\"294.25\" y=\"147.1074\">A3</text></a></g><!--MD5=[0188b64bb0ae78505a997a81836e11e9]\n",
       "link E3 to E5--><a href=\"psysml:f0c1a87b-40f9-41dd-914f-8704a756a2ee\" target=\"_top\" title=\"psysml:f0c1a87b-40f9-41dd-914f-8704a756a2ee\" xlink:actuate=\"onRequest\" xlink:href=\"psysml:f0c1a87b-40f9-41dd-914f-8704a756a2ee\" xlink:show=\"new\" xlink:title=\"psysml:f0c1a87b-40f9-41dd-914f-8704a756a2ee\" xlink:type=\"simple\"><path d=\"M163.2,48.82 C153.97,67.58 132,118.75 144,160 C146.9,169.99 152.3,179.89 157.95,188.41 \" fill=\"none\" id=\"E3-&gt;E5\" style=\"stroke: #A80036; stroke-width: 1.0;\"/><polygon fill=\"#A80036\" points=\"161.1,192.99,159.2903,183.3088,158.2643,188.8719,152.7013,187.8459,161.1,192.99\" style=\"stroke: #A80036; stroke-width: 1.0;\"/><text fill=\"#000000\" font-family=\"sans-serif\" font-size=\"13\" lengthAdjust=\"spacingAndGlyphs\" textLength=\"55\" x=\"145\" y=\"143.0669\">[x == 1]</text></a><!--MD5=[ec9844e0c75763426927cad3229d1081]\n",
       "link E3 to E6--><a href=\"psysml:534d6032-2416-43d2-b21b-3e106f4a7f5b\" target=\"_top\" title=\"psysml:534d6032-2416-43d2-b21b-3e106f4a7f5b\" xlink:actuate=\"onRequest\" xlink:href=\"psysml:534d6032-2416-43d2-b21b-3e106f4a7f5b\" xlink:show=\"new\" xlink:title=\"psysml:534d6032-2416-43d2-b21b-3e106f4a7f5b\" xlink:type=\"simple\"><path d=\"M170.89,48.95 C177.9,62.43 193.04,91.82 205,117 C220.88,150.42 229.86,157.14 239,193 C244.61,215.03 242.11,221.28 243,244 C243.3,251.55 247.13,254.68 243,261 C238.78,267.45 232.75,272.45 226.03,276.33 \" fill=\"none\" id=\"E3-&gt;E6\" style=\"stroke: #A80036; stroke-width: 1.0;\"/><polygon fill=\"#A80036\" points=\"221.28,278.83,231.1075,278.1819,225.7055,276.503,227.3844,271.101,221.28,278.83\" style=\"stroke: #A80036; stroke-width: 1.0;\"/><text fill=\"#000000\" font-family=\"sans-serif\" font-size=\"13\" lengthAdjust=\"spacingAndGlyphs\" textLength=\"44\" x=\"237\" y=\"181.0669\">[x &gt; 1]</text></a><!--MD5=[ca5a752d6098d8a44b3f88316e7452d1]\n",
       "link E3 to E8--><a href=\"psysml:e6958018-0280-470d-866d-790aaedd3d9a\" target=\"_top\" title=\"psysml:e6958018-0280-470d-866d-790aaedd3d9a\" xlink:actuate=\"onRequest\" xlink:href=\"psysml:e6958018-0280-470d-866d-790aaedd3d9a\" xlink:show=\"new\" xlink:title=\"psysml:e6958018-0280-470d-866d-790aaedd3d9a\" xlink:type=\"simple\"><path d=\"M174.38,45.6 C180.45,48.95 189.26,53.81 197,58 C203.64,61.6 207.4,60.01 212,66 C223.95,81.56 209.38,93.97 222,109 C227.18,115.17 233.94,120.04 241.17,123.87 \" fill=\"none\" id=\"E3-&gt;E8\" style=\"stroke: #A80036; stroke-width: 1.0;\"/><polygon fill=\"#A80036\" points=\"245.72,126.12,239.4203,118.5495,241.2365,123.9068,235.8791,125.7231,245.72,126.12\" style=\"stroke: #A80036; stroke-width: 1.0;\"/></a><!--MD5=[95fa686b5a16158bcdbcaeead89f639b]\n",
       "link E8 to E3--><a href=\"psysml:7eebbea4-be3a-4ef1-ac68-fab402045136\" target=\"_top\" title=\"psysml:7eebbea4-be3a-4ef1-ac68-fab402045136\" xlink:actuate=\"onRequest\" xlink:href=\"psysml:7eebbea4-be3a-4ef1-ac68-fab402045136\" xlink:show=\"new\" xlink:title=\"psysml:7eebbea4-be3a-4ef1-ac68-fab402045136\" xlink:type=\"simple\"><path d=\"M259.64,116.85 C256.62,114.33 253.68,111.69 251,109 C234.19,92.12 238.11,80.22 219,66 C210.65,59.79 206.48,62.3 197,58 C190.87,55.22 184.28,51.67 178.85,48.57 \" fill=\"none\" id=\"E8-&gt;E3\" style=\"stroke: #A80036; stroke-width: 1.0;\"/><polygon fill=\"#A80036\" points=\"174.24,45.89,180.0018,53.8776,178.5599,48.4076,184.0299,46.9657,174.24,45.89\" style=\"stroke: #A80036; stroke-width: 1.0;\"/><text fill=\"#000000\" font-family=\"sans-serif\" font-size=\"13\" lengthAdjust=\"spacingAndGlyphs\" textLength=\"44\" x=\"252\" y=\"92.0669\">[x &gt; 0]</text></a><!--MD5=[af87c684e3b0d8be13c1a698a818ef1e]\n",
       "link E3 to E4--><a href=\"psysml:b2a8f402-8a6f-47b5-a176-34e34a53fa41\" target=\"_top\" title=\"psysml:b2a8f402-8a6f-47b5-a176-34e34a53fa41\" xlink:actuate=\"onRequest\" xlink:href=\"psysml:b2a8f402-8a6f-47b5-a176-34e34a53fa41\" xlink:show=\"new\" xlink:title=\"psysml:b2a8f402-8a6f-47b5-a176-34e34a53fa41\" xlink:type=\"simple\"><path d=\"M155.98,41.72 C126.2,42.55 45.26,46.6 29,66 C15.2,82.47 22.72,109.21 29.1,124.9 \" fill=\"none\" id=\"E3-&gt;E4\" style=\"stroke: #A80036; stroke-width: 1.0;\"/><polygon fill=\"#A80036\" points=\"31.18,129.77,31.3113,119.922,29.2104,125.1743,23.9581,123.0734,31.18,129.77\" style=\"stroke: #A80036; stroke-width: 1.0;\"/></a><!--MD5=[1b7591eae5389033d8d09a9d6721a717]\n",
       "link E4 to E5--><a href=\"psysml:d4e4cf4f-ca71-4ae2-aa8b-453c4e696e69\" target=\"_top\" title=\"psysml:d4e4cf4f-ca71-4ae2-aa8b-453c4e696e69\" xlink:actuate=\"onRequest\" xlink:href=\"psysml:d4e4cf4f-ca71-4ae2-aa8b-453c4e696e69\" xlink:show=\"new\" xlink:title=\"psysml:d4e4cf4f-ca71-4ae2-aa8b-453c4e696e69\" xlink:type=\"simple\"><path d=\"M40.05,145.75 C48.27,155.51 65.48,174.36 84,185 C86.27,186.3 107.96,192.91 129.94,199.43 \" fill=\"none\" id=\"E4-&gt;E5\" style=\"stroke: #A80036; stroke-width: 1.0;\"/><polygon fill=\"#A80036\" points=\"134.92,200.9,127.4226,194.5133,130.125,199.483,125.1554,202.1853,134.92,200.9\" style=\"stroke: #A80036; stroke-width: 1.0;\"/><text fill=\"#000000\" font-family=\"sans-serif\" font-size=\"13\" lengthAdjust=\"spacingAndGlyphs\" textLength=\"36\" x=\"85\" y=\"181.0669\">[true]</text></a><!--MD5=[79568f1e445c3877b6a54524624ccc7d]\n",
       "link E4 to E6--><a href=\"psysml:07d2ed15-614f-457b-995c-67ac116a921b\" target=\"_top\" title=\"psysml:07d2ed15-614f-457b-995c-67ac116a921b\" xlink:actuate=\"onRequest\" xlink:href=\"psysml:07d2ed15-614f-457b-995c-67ac116a921b\" xlink:show=\"new\" xlink:title=\"psysml:07d2ed15-614f-457b-995c-67ac116a921b\" xlink:type=\"simple\"><path d=\"M36.76,148.89 C40.71,167.6 51.87,209.97 76,236 C90.72,251.89 111.25,263.91 130.03,272.49 \" fill=\"none\" id=\"E4-&gt;E6\" style=\"stroke: #A80036; stroke-width: 1.0;\"/><polygon fill=\"#A80036\" points=\"134.76,274.6,128.1751,267.2761,130.1951,272.56,124.9112,274.58,134.76,274.6\" style=\"stroke: #A80036; stroke-width: 1.0;\"/><text fill=\"#000000\" font-family=\"sans-serif\" font-size=\"13\" lengthAdjust=\"spacingAndGlyphs\" textLength=\"40\" x=\"77\" y=\"219.0669\">[false]</text></a><!--MD5=[9120cf2e5df3bff93db8f754bbbc09b4]\n",
       "link E5 to E6--><a href=\"psysml:b67ea915-0e8a-4542-80c4-8f1f8e1002d6\" target=\"_top\" title=\"psysml:b67ea915-0e8a-4542-80c4-8f1f8e1002d6\" xlink:actuate=\"onRequest\" xlink:href=\"psysml:b67ea915-0e8a-4542-80c4-8f1f8e1002d6\" xlink:show=\"new\" xlink:title=\"psysml:b67ea915-0e8a-4542-80c4-8f1f8e1002d6\" xlink:type=\"simple\"><path d=\"M178,236.11 C178,244.69 178,254.75 178,263.8 \" fill=\"none\" id=\"E5-&gt;E6\" style=\"stroke: #A80036; stroke-width: 1.0;\"/><polygon fill=\"#A80036\" points=\"178,269,182,260,178,264,174,260,178,269\" style=\"stroke: #A80036; stroke-width: 1.0;\"/><text fill=\"#000000\" font-family=\"sans-serif\" font-size=\"13\" lengthAdjust=\"spacingAndGlyphs\" textLength=\"55\" x=\"179\" y=\"257.0669\">[x == 0]</text></a><!--MD5=[c2ce28346c1b0174391f492844a81783]\n",
       "@startuml\r\n",
       "skinparam ranksep 10\r\n",
       "skinparam rectangle {\r\n",
       " backgroundColor<<block>> LightGreen\r\n",
       "}\r\n",
       " \r\n",
       "rec def \"DecisionTest\" as E1  <<(D,brown)action def>> [[psysml:704d58b1-847a-4b5f-8ef4-b4da5c2432eb ]] {\r\n",
       "portout \"$result\" as E2  [[psysml:d3db88a9-d6e2-4728-bacb-cdc83b04fb60 ]] \r\n",
       "choice \"test x\" as E3  [[psysml:07816a00-a6c6-49d5-84be-841a1e7e2f6a ]] \r\n",
       "choice \"noname\" as E4  [[psysml:26311404-6ce6-4dcd-89ed-d43ec51ac22a ]] \r\n",
       "rec usage \"A1\" as E5  <<(U,orange)action>> [[psysml:f4b16115-f2df-4145-8494-1e5aced0fe90 ]] {\r\n",
       "}\r\n",
       "\r\n",
       "rec usage \"A2\" as E6  <<(U,orange)action>> [[psysml:ffb4dce0-5cb8-4add-9e67-ebd1f2f3deb3 ]] {\r\n",
       "}\r\n",
       "\r\n",
       "rec usage \"A3\" as E7  <<(U,orange)action>> [[psysml:dc91d98e-27d3-4fe3-8c05-9cedeab5907b ]] {\r\n",
       "}\r\n",
       "\r\n",
       "rec usage \"A3\" as E8  <<(U,orange)action>> [[psysml:dc91d98e-27d3-4fe3-8c05-9cedeab5907b ]] {\r\n",
       "}\r\n",
       "\r\n",
       "}\r\n",
       "\r\n",
       "E3  - -> E5 [[psysml:f0c1a87b-40f9-41dd-914f-8704a756a2ee ]] : [x == 1]\r\n",
       "E3  - -> E6 [[psysml:534d6032-2416-43d2-b21b-3e106f4a7f5b ]] : [x > 1]\r\n",
       "E3  - -> E8 [[psysml:e6958018-0280-470d-866d-790aaedd3d9a ]] \r\n",
       "E3 - -> E4 [[psysml:b2a8f402-8a6f-47b5-a176-34e34a53fa41 ]] \r\n",
       "E4  - -> E5 [[psysml:d4e4cf4f-ca71-4ae2-aa8b-453c4e696e69 ]] : [true]\r\n",
       "E4  - -> E6 [[psysml:07d2ed15-614f-457b-995c-67ac116a921b ]] : [false]\r\n",
       "E5  - -> E6 [[psysml:b67ea915-0e8a-4542-80c4-8f1f8e1002d6 ]] : [x == 0]\r\n",
       "E8  - -> E3 [[psysml:7eebbea4-be3a-4ef1-ac68-fab402045136 ]] : [x > 0]\r\n",
       "@enduml\r\n",
       "\n",
       "PlantUML version 1.2020.13(Sat Jun 13 12:26:38 UTC 2020)\n",
       "(EPL source distribution)\n",
       "Java Runtime: OpenJDK Runtime Environment\n",
       "JVM: OpenJDK 64-Bit Server VM\n",
       "Default Encoding: UTF-8\n",
       "Language: en\n",
       "Country: null\n",
       "--></g></svg>"
      ]
     },
     "execution_count": 33,
     "metadata": {},
     "output_type": "execute_result"
    }
   ],
   "source": [
    "%viz --style=\"PLANTUML\" --view=\"Interconnection\" \"DecisionTest\""
   ]
  },
  {
   "cell_type": "code",
   "execution_count": 34,
   "id": "02e4a419",
   "metadata": {
    "execution": {
     "iopub.execute_input": "2021-04-20T07:01:21.977262Z",
     "iopub.status.busy": "2021-04-20T07:01:21.976702Z",
     "iopub.status.idle": "2021-04-20T07:01:22.015417Z",
     "shell.execute_reply": "2021-04-20T07:01:22.014867Z"
    }
   },
   "outputs": [
    {
     "data": {
      "image/svg+xml": [
       "<?xml version=\"1.0\" encoding=\"UTF-8\" standalone=\"no\"?><svg xmlns=\"http://www.w3.org/2000/svg\" xmlns:xlink=\"http://www.w3.org/1999/xlink\" contentScriptType=\"application/ecmascript\" contentStyleType=\"text/css\" height=\"384px\" preserveAspectRatio=\"none\" style=\"width:367px;height:384px;\" version=\"1.1\" viewBox=\"0 0 367 384\" width=\"367px\" zoomAndPan=\"magnify\"><defs><filter height=\"300%\" id=\"fskvgxorrjtxo\" width=\"300%\" x=\"-1\" y=\"-1\"><feGaussianBlur result=\"blurOut\" stdDeviation=\"2.0\"/><feColorMatrix in=\"blurOut\" result=\"blurOut2\" type=\"matrix\" values=\"0 0 0 0 0 0 0 0 0 0 0 0 0 0 0 0 0 0 .4 0\"/><feOffset dx=\"4.0\" dy=\"4.0\" in=\"blurOut2\" result=\"blurOut3\"/><feBlend in=\"SourceGraphic\" in2=\"blurOut3\" mode=\"normal\"/></filter></defs><g><!--MD5=[fbc87193dbaf4d95561dea2c320d4a47]\n",
       "cluster E1--><a href=\"psysml:704d58b1-847a-4b5f-8ef4-b4da5c2432eb\" target=\"_top\" title=\"psysml:704d58b1-847a-4b5f-8ef4-b4da5c2432eb\" xlink:actuate=\"onRequest\" xlink:href=\"psysml:704d58b1-847a-4b5f-8ef4-b4da5c2432eb\" xlink:show=\"new\" xlink:title=\"psysml:704d58b1-847a-4b5f-8ef4-b4da5c2432eb\" xlink:type=\"simple\"><rect fill=\"#FFFFFF\" filter=\"url(#fskvgxorrjtxo)\" height=\"344.72\" id=\"E1\" style=\"stroke: #A80036; stroke-width: 1.5;\" width=\"341\" x=\"7\" y=\"7\"/><rect fill=\"#FEFECE\" height=\"37.9375\" style=\"stroke: #A80036; stroke-width: 1.5;\" width=\"341\" x=\"7\" y=\"7\"/><text fill=\"#000000\" font-family=\"sans-serif\" font-size=\"12\" font-style=\"italic\" lengthAdjust=\"spacingAndGlyphs\" textLength=\"77\" x=\"139\" y=\"23.1387\">«action def»</text><text fill=\"#000000\" font-family=\"sans-serif\" font-size=\"12\" lengthAdjust=\"spacingAndGlyphs\" textLength=\"80\" x=\"137.5\" y=\"37.1074\">DecisionTest</text></a><text fill=\"#000000\" font-family=\"sans-serif\" font-size=\"14\" lengthAdjust=\"spacingAndGlyphs\" textLength=\"48\" x=\"153\" y=\"370.7151\">$result</text><rect fill=\"#A80036\" height=\"12\" style=\"stroke: #FEFECE; stroke-width: 1.5;\" width=\"12\" x=\"171\" y=\"345.72\"/><polygon fill=\"#FEFECE\" filter=\"url(#fskvgxorrjtxo)\" points=\"167,28.5,179,40.5,167,52.5,155,40.5,167,28.5\" style=\"stroke: #A80036; stroke-width: 1.5;\"/><polygon fill=\"#FEFECE\" filter=\"url(#fskvgxorrjtxo)\" points=\"35,126.5,47,138.5,35,150.5,23,138.5,35,126.5\" style=\"stroke: #A80036; stroke-width: 1.5;\"/><g id=\"E1.E5\"><a href=\"psysml:f4b16115-f2df-4145-8494-1e5aced0fe90\" target=\"_top\" title=\"psysml:f4b16115-f2df-4145-8494-1e5aced0fe90\" xlink:actuate=\"onRequest\" xlink:href=\"psysml:f4b16115-f2df-4145-8494-1e5aced0fe90\" xlink:show=\"new\" xlink:title=\"psysml:f4b16115-f2df-4145-8494-1e5aced0fe90\" xlink:type=\"simple\"><rect fill=\"#FEFECE\" filter=\"url(#fskvgxorrjtxo)\" height=\"42.9375\" id=\"E5\" rx=\"10\" ry=\"10\" style=\"stroke: #A80036; stroke-width: 1.5;\" width=\"86\" x=\"135\" y=\"193\"/><ellipse cx=\"152.25\" cy=\"211.9688\" fill=\"#FFA500\" rx=\"11\" ry=\"11\" style=\"stroke: #A80036; stroke-width: 1.0;\"/><path d=\"M148.125,213.8906 L148.125,206.0781 L150.5781,206.0781 L150.5781,214.5156 Q150.5781,215.4375 151.0469,215.9688 Q151.5313,216.5 152.3594,216.5 Q153.2031,216.5 153.6719,215.9688 Q154.1406,215.4375 154.1406,214.5156 L154.1406,206.0781 L156.5938,206.0781 L156.5938,213.8906 Q156.5938,216.4219 155.5938,217.5625 Q154.5938,218.7031 152.3594,218.7031 Q150.1406,218.7031 149.125,217.5625 Q148.125,216.4219 148.125,213.8906 Z \"/><text fill=\"#000000\" font-family=\"sans-serif\" font-size=\"12\" font-style=\"italic\" lengthAdjust=\"spacingAndGlyphs\" textLength=\"53\" x=\"164.75\" y=\"209.1387\">«action»</text><text fill=\"#000000\" font-family=\"sans-serif\" font-size=\"12\" lengthAdjust=\"spacingAndGlyphs\" textLength=\"16\" x=\"183.25\" y=\"223.1074\">A1</text></a></g><g id=\"E1.E6\"><a href=\"psysml:ffb4dce0-5cb8-4add-9e67-ebd1f2f3deb3\" target=\"_top\" title=\"psysml:ffb4dce0-5cb8-4add-9e67-ebd1f2f3deb3\" xlink:actuate=\"onRequest\" xlink:href=\"psysml:ffb4dce0-5cb8-4add-9e67-ebd1f2f3deb3\" xlink:show=\"new\" xlink:title=\"psysml:ffb4dce0-5cb8-4add-9e67-ebd1f2f3deb3\" xlink:type=\"simple\"><rect fill=\"#FEFECE\" filter=\"url(#fskvgxorrjtxo)\" height=\"42.9375\" id=\"E6\" rx=\"10\" ry=\"10\" style=\"stroke: #A80036; stroke-width: 1.5;\" width=\"86\" x=\"135\" y=\"269\"/><ellipse cx=\"152.25\" cy=\"287.9688\" fill=\"#FFA500\" rx=\"11\" ry=\"11\" style=\"stroke: #A80036; stroke-width: 1.0;\"/><path d=\"M148.125,289.8906 L148.125,282.0781 L150.5781,282.0781 L150.5781,290.5156 Q150.5781,291.4375 151.0469,291.9688 Q151.5313,292.5 152.3594,292.5 Q153.2031,292.5 153.6719,291.9688 Q154.1406,291.4375 154.1406,290.5156 L154.1406,282.0781 L156.5938,282.0781 L156.5938,289.8906 Q156.5938,292.4219 155.5938,293.5625 Q154.5938,294.7031 152.3594,294.7031 Q150.1406,294.7031 149.125,293.5625 Q148.125,292.4219 148.125,289.8906 Z \"/><text fill=\"#000000\" font-family=\"sans-serif\" font-size=\"12\" font-style=\"italic\" lengthAdjust=\"spacingAndGlyphs\" textLength=\"53\" x=\"164.75\" y=\"285.1387\">«action»</text><text fill=\"#000000\" font-family=\"sans-serif\" font-size=\"12\" lengthAdjust=\"spacingAndGlyphs\" textLength=\"16\" x=\"183.25\" y=\"299.1074\">A2</text></a></g><g id=\"E1.E7\"><a href=\"psysml:dc91d98e-27d3-4fe3-8c05-9cedeab5907b\" target=\"_top\" title=\"psysml:dc91d98e-27d3-4fe3-8c05-9cedeab5907b\" xlink:actuate=\"onRequest\" xlink:href=\"psysml:dc91d98e-27d3-4fe3-8c05-9cedeab5907b\" xlink:show=\"new\" xlink:title=\"psysml:dc91d98e-27d3-4fe3-8c05-9cedeab5907b\" xlink:type=\"simple\"><rect fill=\"#FEFECE\" filter=\"url(#fskvgxorrjtxo)\" height=\"42.9375\" id=\"E7\" rx=\"10\" ry=\"10\" style=\"stroke: #A80036; stroke-width: 1.5;\" width=\"86\" x=\"30\" y=\"66\"/><ellipse cx=\"47.25\" cy=\"84.9688\" fill=\"#FFA500\" rx=\"11\" ry=\"11\" style=\"stroke: #A80036; stroke-width: 1.0;\"/><path d=\"M43.125,86.8906 L43.125,79.0781 L45.5781,79.0781 L45.5781,87.5156 Q45.5781,88.4375 46.0469,88.9688 Q46.5313,89.5 47.3594,89.5 Q48.2031,89.5 48.6719,88.9688 Q49.1406,88.4375 49.1406,87.5156 L49.1406,79.0781 L51.5938,79.0781 L51.5938,86.8906 Q51.5938,89.4219 50.5938,90.5625 Q49.5938,91.7031 47.3594,91.7031 Q45.1406,91.7031 44.125,90.5625 Q43.125,89.4219 43.125,86.8906 Z \"/><text fill=\"#000000\" font-family=\"sans-serif\" font-size=\"12\" font-style=\"italic\" lengthAdjust=\"spacingAndGlyphs\" textLength=\"53\" x=\"59.75\" y=\"82.1387\">«action»</text><text fill=\"#000000\" font-family=\"sans-serif\" font-size=\"12\" lengthAdjust=\"spacingAndGlyphs\" textLength=\"16\" x=\"78.25\" y=\"96.1074\">A3</text></a></g><g id=\"E1.E8\"><a href=\"psysml:dc91d98e-27d3-4fe3-8c05-9cedeab5907b\" target=\"_top\" title=\"psysml:dc91d98e-27d3-4fe3-8c05-9cedeab5907b\" xlink:actuate=\"onRequest\" xlink:href=\"psysml:dc91d98e-27d3-4fe3-8c05-9cedeab5907b\" xlink:show=\"new\" xlink:title=\"psysml:dc91d98e-27d3-4fe3-8c05-9cedeab5907b\" xlink:type=\"simple\"><rect fill=\"#FEFECE\" filter=\"url(#fskvgxorrjtxo)\" height=\"42.9375\" id=\"E8\" rx=\"10\" ry=\"10\" style=\"stroke: #A80036; stroke-width: 1.5;\" width=\"86\" x=\"246\" y=\"117\"/><ellipse cx=\"263.25\" cy=\"135.9688\" fill=\"#FFA500\" rx=\"11\" ry=\"11\" style=\"stroke: #A80036; stroke-width: 1.0;\"/><path d=\"M259.125,137.8906 L259.125,130.0781 L261.5781,130.0781 L261.5781,138.5156 Q261.5781,139.4375 262.0469,139.9688 Q262.5313,140.5 263.3594,140.5 Q264.2031,140.5 264.6719,139.9688 Q265.1406,139.4375 265.1406,138.5156 L265.1406,130.0781 L267.5938,130.0781 L267.5938,137.8906 Q267.5938,140.4219 266.5938,141.5625 Q265.5938,142.7031 263.3594,142.7031 Q261.1406,142.7031 260.125,141.5625 Q259.125,140.4219 259.125,137.8906 Z \"/><text fill=\"#000000\" font-family=\"sans-serif\" font-size=\"12\" font-style=\"italic\" lengthAdjust=\"spacingAndGlyphs\" textLength=\"53\" x=\"275.75\" y=\"133.1387\">«action»</text><text fill=\"#000000\" font-family=\"sans-serif\" font-size=\"12\" lengthAdjust=\"spacingAndGlyphs\" textLength=\"16\" x=\"294.25\" y=\"147.1074\">A3</text></a></g><!--MD5=[0188b64bb0ae78505a997a81836e11e9]\n",
       "link E3 to E5--><a href=\"psysml:f0c1a87b-40f9-41dd-914f-8704a756a2ee\" target=\"_top\" title=\"psysml:f0c1a87b-40f9-41dd-914f-8704a756a2ee\" xlink:actuate=\"onRequest\" xlink:href=\"psysml:f0c1a87b-40f9-41dd-914f-8704a756a2ee\" xlink:show=\"new\" xlink:title=\"psysml:f0c1a87b-40f9-41dd-914f-8704a756a2ee\" xlink:type=\"simple\"><path d=\"M163.2,48.82 C153.97,67.58 132,118.75 144,160 C146.9,169.99 152.3,179.89 157.95,188.41 \" fill=\"none\" id=\"E3-&gt;E5\" style=\"stroke: #A80036; stroke-width: 1.0; stroke-dasharray: 7.0,7.0;\"/><polygon fill=\"#A80036\" points=\"161.1,192.99,159.2903,183.3088,158.2643,188.8719,152.7013,187.8459,161.1,192.99\" style=\"stroke: #A80036; stroke-width: 1.0;\"/><text fill=\"#000000\" font-family=\"sans-serif\" font-size=\"13\" lengthAdjust=\"spacingAndGlyphs\" textLength=\"55\" x=\"145\" y=\"143.0669\">[x == 1]</text></a><!--MD5=[ec9844e0c75763426927cad3229d1081]\n",
       "link E3 to E6--><a href=\"psysml:534d6032-2416-43d2-b21b-3e106f4a7f5b\" target=\"_top\" title=\"psysml:534d6032-2416-43d2-b21b-3e106f4a7f5b\" xlink:actuate=\"onRequest\" xlink:href=\"psysml:534d6032-2416-43d2-b21b-3e106f4a7f5b\" xlink:show=\"new\" xlink:title=\"psysml:534d6032-2416-43d2-b21b-3e106f4a7f5b\" xlink:type=\"simple\"><path d=\"M170.89,48.95 C177.9,62.43 193.04,91.82 205,117 C220.88,150.42 229.86,157.14 239,193 C244.61,215.03 242.11,221.28 243,244 C243.3,251.55 247.13,254.68 243,261 C238.78,267.45 232.75,272.45 226.03,276.33 \" fill=\"none\" id=\"E3-&gt;E6\" style=\"stroke: #A80036; stroke-width: 1.0; stroke-dasharray: 7.0,7.0;\"/><polygon fill=\"#A80036\" points=\"221.28,278.83,231.1075,278.1819,225.7055,276.503,227.3844,271.101,221.28,278.83\" style=\"stroke: #A80036; stroke-width: 1.0;\"/><text fill=\"#000000\" font-family=\"sans-serif\" font-size=\"13\" lengthAdjust=\"spacingAndGlyphs\" textLength=\"44\" x=\"237\" y=\"181.0669\">[x &gt; 1]</text></a><!--MD5=[ca5a752d6098d8a44b3f88316e7452d1]\n",
       "link E3 to E8--><a href=\"psysml:e6958018-0280-470d-866d-790aaedd3d9a\" target=\"_top\" title=\"psysml:e6958018-0280-470d-866d-790aaedd3d9a\" xlink:actuate=\"onRequest\" xlink:href=\"psysml:e6958018-0280-470d-866d-790aaedd3d9a\" xlink:show=\"new\" xlink:title=\"psysml:e6958018-0280-470d-866d-790aaedd3d9a\" xlink:type=\"simple\"><path d=\"M174.38,45.6 C180.45,48.95 189.26,53.81 197,58 C203.64,61.6 207.4,60.01 212,66 C223.95,81.56 209.38,93.97 222,109 C227.18,115.17 233.94,120.04 241.17,123.87 \" fill=\"none\" id=\"E3-&gt;E8\" style=\"stroke: #A80036; stroke-width: 1.0; stroke-dasharray: 7.0,7.0;\"/><polygon fill=\"#A80036\" points=\"245.72,126.12,239.4203,118.5495,241.2365,123.9068,235.8791,125.7231,245.72,126.12\" style=\"stroke: #A80036; stroke-width: 1.0;\"/></a><!--MD5=[95fa686b5a16158bcdbcaeead89f639b]\n",
       "link E8 to E3--><a href=\"psysml:7eebbea4-be3a-4ef1-ac68-fab402045136\" target=\"_top\" title=\"psysml:7eebbea4-be3a-4ef1-ac68-fab402045136\" xlink:actuate=\"onRequest\" xlink:href=\"psysml:7eebbea4-be3a-4ef1-ac68-fab402045136\" xlink:show=\"new\" xlink:title=\"psysml:7eebbea4-be3a-4ef1-ac68-fab402045136\" xlink:type=\"simple\"><path d=\"M259.64,116.85 C256.62,114.33 253.68,111.69 251,109 C234.19,92.12 238.11,80.22 219,66 C210.65,59.79 206.48,62.3 197,58 C190.87,55.22 184.28,51.67 178.85,48.57 \" fill=\"none\" id=\"E8-&gt;E3\" style=\"stroke: #A80036; stroke-width: 1.0; stroke-dasharray: 7.0,7.0;\"/><polygon fill=\"#A80036\" points=\"174.24,45.89,180.0018,53.8776,178.5599,48.4076,184.0299,46.9657,174.24,45.89\" style=\"stroke: #A80036; stroke-width: 1.0;\"/><text fill=\"#000000\" font-family=\"sans-serif\" font-size=\"13\" lengthAdjust=\"spacingAndGlyphs\" textLength=\"44\" x=\"252\" y=\"92.0669\">[x &gt; 0]</text></a><!--MD5=[af87c684e3b0d8be13c1a698a818ef1e]\n",
       "link E3 to E4--><a href=\"psysml:b2a8f402-8a6f-47b5-a176-34e34a53fa41\" target=\"_top\" title=\"psysml:b2a8f402-8a6f-47b5-a176-34e34a53fa41\" xlink:actuate=\"onRequest\" xlink:href=\"psysml:b2a8f402-8a6f-47b5-a176-34e34a53fa41\" xlink:show=\"new\" xlink:title=\"psysml:b2a8f402-8a6f-47b5-a176-34e34a53fa41\" xlink:type=\"simple\"><path d=\"M155.98,41.72 C126.2,42.55 45.26,46.6 29,66 C15.2,82.47 22.72,109.21 29.1,124.9 \" fill=\"none\" id=\"E3-&gt;E4\" style=\"stroke: #A80036; stroke-width: 1.0; stroke-dasharray: 7.0,7.0;\"/><polygon fill=\"#A80036\" points=\"31.18,129.77,31.3113,119.922,29.2104,125.1743,23.9581,123.0734,31.18,129.77\" style=\"stroke: #A80036; stroke-width: 1.0;\"/></a><!--MD5=[1b7591eae5389033d8d09a9d6721a717]\n",
       "link E4 to E5--><a href=\"psysml:d4e4cf4f-ca71-4ae2-aa8b-453c4e696e69\" target=\"_top\" title=\"psysml:d4e4cf4f-ca71-4ae2-aa8b-453c4e696e69\" xlink:actuate=\"onRequest\" xlink:href=\"psysml:d4e4cf4f-ca71-4ae2-aa8b-453c4e696e69\" xlink:show=\"new\" xlink:title=\"psysml:d4e4cf4f-ca71-4ae2-aa8b-453c4e696e69\" xlink:type=\"simple\"><path d=\"M40.05,145.75 C48.27,155.51 65.48,174.36 84,185 C86.27,186.3 107.96,192.91 129.94,199.43 \" fill=\"none\" id=\"E4-&gt;E5\" style=\"stroke: #A80036; stroke-width: 1.0; stroke-dasharray: 7.0,7.0;\"/><polygon fill=\"#A80036\" points=\"134.92,200.9,127.4226,194.5133,130.125,199.483,125.1554,202.1853,134.92,200.9\" style=\"stroke: #A80036; stroke-width: 1.0;\"/><text fill=\"#000000\" font-family=\"sans-serif\" font-size=\"13\" lengthAdjust=\"spacingAndGlyphs\" textLength=\"36\" x=\"85\" y=\"181.0669\">[true]</text></a><!--MD5=[79568f1e445c3877b6a54524624ccc7d]\n",
       "link E4 to E6--><a href=\"psysml:07d2ed15-614f-457b-995c-67ac116a921b\" target=\"_top\" title=\"psysml:07d2ed15-614f-457b-995c-67ac116a921b\" xlink:actuate=\"onRequest\" xlink:href=\"psysml:07d2ed15-614f-457b-995c-67ac116a921b\" xlink:show=\"new\" xlink:title=\"psysml:07d2ed15-614f-457b-995c-67ac116a921b\" xlink:type=\"simple\"><path d=\"M36.76,148.89 C40.71,167.6 51.87,209.97 76,236 C90.72,251.89 111.25,263.91 130.03,272.49 \" fill=\"none\" id=\"E4-&gt;E6\" style=\"stroke: #A80036; stroke-width: 1.0; stroke-dasharray: 7.0,7.0;\"/><polygon fill=\"#A80036\" points=\"134.76,274.6,128.1751,267.2761,130.1951,272.56,124.9112,274.58,134.76,274.6\" style=\"stroke: #A80036; stroke-width: 1.0;\"/><text fill=\"#000000\" font-family=\"sans-serif\" font-size=\"13\" lengthAdjust=\"spacingAndGlyphs\" textLength=\"40\" x=\"77\" y=\"219.0669\">[false]</text></a><!--MD5=[9120cf2e5df3bff93db8f754bbbc09b4]\n",
       "link E5 to E6--><a href=\"psysml:b67ea915-0e8a-4542-80c4-8f1f8e1002d6\" target=\"_top\" title=\"psysml:b67ea915-0e8a-4542-80c4-8f1f8e1002d6\" xlink:actuate=\"onRequest\" xlink:href=\"psysml:b67ea915-0e8a-4542-80c4-8f1f8e1002d6\" xlink:show=\"new\" xlink:title=\"psysml:b67ea915-0e8a-4542-80c4-8f1f8e1002d6\" xlink:type=\"simple\"><path d=\"M178,236.11 C178,244.69 178,254.75 178,263.8 \" fill=\"none\" id=\"E5-&gt;E6\" style=\"stroke: #A80036; stroke-width: 1.0; stroke-dasharray: 7.0,7.0;\"/><polygon fill=\"#A80036\" points=\"178,269,182,260,178,264,174,260,178,269\" style=\"stroke: #A80036; stroke-width: 1.0;\"/><text fill=\"#000000\" font-family=\"sans-serif\" font-size=\"13\" lengthAdjust=\"spacingAndGlyphs\" textLength=\"55\" x=\"179\" y=\"257.0669\">[x == 0]</text></a><!--MD5=[f38cf53ff4b87439559a4c9237f236a9]\n",
       "@startuml\r\n",
       "skinparam ranksep 8\r\n",
       " \r\n",
       "rec def \"DecisionTest\" as E1  <<(D,brown)action def>> [[psysml:704d58b1-847a-4b5f-8ef4-b4da5c2432eb ]] {\r\n",
       "portout \"$result\" as E2  [[psysml:d3db88a9-d6e2-4728-bacb-cdc83b04fb60 ]] \r\n",
       "choice \"test x\" as E3  [[psysml:07816a00-a6c6-49d5-84be-841a1e7e2f6a ]] \r\n",
       "choice \"noname\" as E4  [[psysml:26311404-6ce6-4dcd-89ed-d43ec51ac22a ]] \r\n",
       "rec usage \"A1\" as E5  <<(U,orange)action>> [[psysml:f4b16115-f2df-4145-8494-1e5aced0fe90 ]] {\r\n",
       "}\r\n",
       "\r\n",
       "rec usage \"A2\" as E6  <<(U,orange)action>> [[psysml:ffb4dce0-5cb8-4add-9e67-ebd1f2f3deb3 ]] {\r\n",
       "}\r\n",
       "\r\n",
       "rec usage \"A3\" as E7  <<(U,orange)action>> [[psysml:dc91d98e-27d3-4fe3-8c05-9cedeab5907b ]] {\r\n",
       "}\r\n",
       "\r\n",
       "rec usage \"A3\" as E8  <<(U,orange)action>> [[psysml:dc91d98e-27d3-4fe3-8c05-9cedeab5907b ]] {\r\n",
       "}\r\n",
       "\r\n",
       "}\r\n",
       "\r\n",
       "E3 ..> E5 [[psysml:f0c1a87b-40f9-41dd-914f-8704a756a2ee ]] : [x == 1]\r\n",
       "E3 ..> E6 [[psysml:534d6032-2416-43d2-b21b-3e106f4a7f5b ]] : [x > 1]\r\n",
       "E3 ..> E8 [[psysml:e6958018-0280-470d-866d-790aaedd3d9a ]] \r\n",
       "E3 ..> E4 [[psysml:b2a8f402-8a6f-47b5-a176-34e34a53fa41 ]] \r\n",
       "E4 ..> E5 [[psysml:d4e4cf4f-ca71-4ae2-aa8b-453c4e696e69 ]] : [true]\r\n",
       "E4 ..> E6 [[psysml:07d2ed15-614f-457b-995c-67ac116a921b ]] : [false]\r\n",
       "E5 ..> E6 [[psysml:b67ea915-0e8a-4542-80c4-8f1f8e1002d6 ]] : [x == 0]\r\n",
       "E8 ..> E3 [[psysml:7eebbea4-be3a-4ef1-ac68-fab402045136 ]] : [x > 0]\r\n",
       "@enduml\r\n",
       "\n",
       "PlantUML version 1.2020.13(Sat Jun 13 12:26:38 UTC 2020)\n",
       "(EPL source distribution)\n",
       "Java Runtime: OpenJDK Runtime Environment\n",
       "JVM: OpenJDK 64-Bit Server VM\n",
       "Default Encoding: UTF-8\n",
       "Language: en\n",
       "Country: null\n",
       "--></g></svg>"
      ]
     },
     "execution_count": 34,
     "metadata": {},
     "output_type": "execute_result"
    }
   ],
   "source": [
    "%viz --style=\"PLANTUML\" --view=\"Action\" \"DecisionTest\""
   ]
  },
  {
   "cell_type": "code",
   "execution_count": 35,
   "id": "fa58adac",
   "metadata": {
    "execution": {
     "iopub.execute_input": "2021-04-20T07:01:22.066186Z",
     "iopub.status.busy": "2021-04-20T07:01:22.065646Z",
     "iopub.status.idle": "2021-04-20T07:01:22.125822Z",
     "shell.execute_reply": "2021-04-20T07:01:22.125423Z"
    }
   },
   "outputs": [
    {
     "data": {
      "image/svg+xml": [
       "<?xml version=\"1.0\" encoding=\"UTF-8\" standalone=\"no\"?><svg xmlns=\"http://www.w3.org/2000/svg\" xmlns:xlink=\"http://www.w3.org/1999/xlink\" contentScriptType=\"application/ecmascript\" contentStyleType=\"text/css\" height=\"199px\" preserveAspectRatio=\"none\" style=\"width:138px;height:199px;\" version=\"1.1\" viewBox=\"0 0 138 199\" width=\"138px\" zoomAndPan=\"magnify\"><defs><filter height=\"300%\" id=\"f1e2l7ihdlobeb\" width=\"300%\" x=\"-1\" y=\"-1\"><feGaussianBlur result=\"blurOut\" stdDeviation=\"2.0\"/><feColorMatrix in=\"blurOut\" result=\"blurOut2\" type=\"matrix\" values=\"0 0 0 0 0 0 0 0 0 0 0 0 0 0 0 0 0 0 .4 0\"/><feOffset dx=\"4.0\" dy=\"4.0\" in=\"blurOut2\" result=\"blurOut3\"/><feBlend in=\"SourceGraphic\" in2=\"blurOut3\" mode=\"normal\"/></filter></defs><g><!--MD5=[43c9051892ef23e1a46a86907403d788]\n",
       "class E1--><a href=\"psysml:704d58b1-847a-4b5f-8ef4-b4da5c2432eb\" target=\"_top\" title=\"psysml:704d58b1-847a-4b5f-8ef4-b4da5c2432eb\" xlink:actuate=\"onRequest\" xlink:href=\"psysml:704d58b1-847a-4b5f-8ef4-b4da5c2432eb\" xlink:show=\"new\" xlink:title=\"psysml:704d58b1-847a-4b5f-8ef4-b4da5c2432eb\" xlink:type=\"simple\"><rect fill=\"#FEFECE\" filter=\"url(#f1e2l7ihdlobeb)\" height=\"173.1797\" id=\"E1\" style=\"stroke: #A80036; stroke-width: 1.5;\" width=\"112\" x=\"7\" y=\"7\"/><ellipse cx=\"22\" cy=\"25.9688\" fill=\"#A52A2A\" rx=\"11\" ry=\"11\" style=\"stroke: #A80036; stroke-width: 1.0;\"/><path d=\"M21.5938,21.7813 L21.5938,29.7656 L22.25,29.7656 Q23.6875,29.7656 24.2969,28.8594 Q24.9219,27.9375 24.9219,25.7656 Q24.9219,23.5938 24.2969,22.6875 Q23.6875,21.7813 22.25,21.7813 L21.5938,21.7813 Z M19.1406,19.5781 L21.7656,19.5781 Q24.7969,19.5781 26.125,21.0313 Q27.4688,22.4688 27.4688,25.7656 Q27.4688,29.0625 26.125,30.5156 Q24.7969,31.9688 21.7656,31.9688 L19.1406,31.9688 L19.1406,19.5781 Z \"/><text fill=\"#000000\" font-family=\"sans-serif\" font-size=\"12\" font-style=\"italic\" lengthAdjust=\"spacingAndGlyphs\" textLength=\"77\" x=\"37.5\" y=\"23.1387\">«action def»</text><text fill=\"#000000\" font-family=\"sans-serif\" font-size=\"12\" lengthAdjust=\"spacingAndGlyphs\" textLength=\"80\" x=\"36\" y=\"37.1074\">DecisionTest</text><line style=\"stroke: #A80036; stroke-width: 1.5;\" x1=\"8\" x2=\"118\" y1=\"44.9375\" y2=\"44.9375\"/><text fill=\"#000000\" font-family=\"sans-serif\" font-size=\"11\" lengthAdjust=\"spacingAndGlyphs\" textLength=\"26\" x=\"13\" y=\"59.1479\">x=1;</text><text fill=\"#000000\" font-family=\"sans-serif\" font-size=\"11\" lengthAdjust=\"spacingAndGlyphs\" textLength=\"14\" x=\"13\" y=\"88.7573\">A1</text><text fill=\"#000000\" font-family=\"sans-serif\" font-size=\"11\" lengthAdjust=\"spacingAndGlyphs\" textLength=\"14\" x=\"13\" y=\"101.562\">A2</text><text fill=\"#000000\" font-family=\"sans-serif\" font-size=\"11\" lengthAdjust=\"spacingAndGlyphs\" textLength=\"14\" x=\"13\" y=\"114.3667\">A3</text><line style=\"stroke: #A80036; stroke-width: 1.0;\" x1=\"8\" x2=\"42.5\" y1=\"72.1445\" y2=\"72.1445\"/><text fill=\"#000000\" font-family=\"sans-serif\" font-size=\"11\" lengthAdjust=\"spacingAndGlyphs\" textLength=\"41\" x=\"42.5\" y=\"75.4526\">actions</text><line style=\"stroke: #A80036; stroke-width: 1.0;\" x1=\"83.5\" x2=\"118\" y1=\"72.1445\" y2=\"72.1445\"/><text fill=\"#000000\" font-family=\"sans-serif\" font-size=\"11\" lengthAdjust=\"spacingAndGlyphs\" textLength=\"32\" x=\"13\" y=\"143.9761\">test x</text><line style=\"stroke: #A80036; stroke-width: 1.0;\" x1=\"8\" x2=\"21.5\" y1=\"127.3633\" y2=\"127.3633\"/><text fill=\"#000000\" font-family=\"sans-serif\" font-size=\"11\" lengthAdjust=\"spacingAndGlyphs\" textLength=\"83\" x=\"21.5\" y=\"130.6714\">decisionNodes</text><line style=\"stroke: #A80036; stroke-width: 1.0;\" x1=\"104.5\" x2=\"118\" y1=\"127.3633\" y2=\"127.3633\"/><text fill=\"#000000\" font-family=\"sans-serif\" font-size=\"11\" lengthAdjust=\"spacingAndGlyphs\" textLength=\"8\" x=\"13\" y=\"173.5854\">S</text><line style=\"stroke: #A80036; stroke-width: 1.0;\" x1=\"8\" x2=\"32.5\" y1=\"156.9727\" y2=\"156.9727\"/><text fill=\"#000000\" font-family=\"sans-serif\" font-size=\"11\" lengthAdjust=\"spacingAndGlyphs\" textLength=\"61\" x=\"32.5\" y=\"160.2808\">transitions</text><line style=\"stroke: #A80036; stroke-width: 1.0;\" x1=\"93.5\" x2=\"118\" y1=\"156.9727\" y2=\"156.9727\"/></a><!--MD5=[d8744e6bdb2c6ca73c05af536471fa31]\n",
       "@startuml\r\n",
       " \r\n",
       "comp def \"DecisionTest\" as E1  <<(D,brown)action def>> [[psysml:704d58b1-847a-4b5f-8ef4-b4da5c2432eb ]] {\r\n",
       "x=1; \r\n",
       "- - actions - -\r\n",
       "A1\r\n",
       "A2\r\n",
       "A3\r\n",
       "- - decisionNodes - -\r\n",
       "test x\r\n",
       "- - transitions - -\r\n",
       "S\r\n",
       "}\r\n",
       "@enduml\r\n",
       "\n",
       "PlantUML version 1.2020.13(Sat Jun 13 12:26:38 UTC 2020)\n",
       "(EPL source distribution)\n",
       "Java Runtime: OpenJDK Runtime Environment\n",
       "JVM: OpenJDK 64-Bit Server VM\n",
       "Default Encoding: UTF-8\n",
       "Language: en\n",
       "Country: null\n",
       "--></g></svg>"
      ]
     },
     "execution_count": 35,
     "metadata": {},
     "output_type": "execute_result"
    }
   ],
   "source": [
    "%viz --style=\"PLANTUML\" --view=\"Sequence\" \"DecisionTest\""
   ]
  },
  {
   "cell_type": "code",
   "execution_count": 36,
   "id": "6e9be120",
   "metadata": {
    "execution": {
     "iopub.execute_input": "2021-04-20T07:01:22.176949Z",
     "iopub.status.busy": "2021-04-20T07:01:22.176339Z",
     "iopub.status.idle": "2021-04-20T07:01:22.225270Z",
     "shell.execute_reply": "2021-04-20T07:01:22.224826Z"
    }
   },
   "outputs": [
    {
     "data": {
      "image/svg+xml": [
       "<?xml version=\"1.0\" encoding=\"UTF-8\" standalone=\"no\"?><svg xmlns=\"http://www.w3.org/2000/svg\" xmlns:xlink=\"http://www.w3.org/1999/xlink\" contentScriptType=\"application/ecmascript\" contentStyleType=\"text/css\" height=\"574px\" preserveAspectRatio=\"none\" style=\"width:367px;height:574px;\" version=\"1.1\" viewBox=\"0 0 367 574\" width=\"367px\" zoomAndPan=\"magnify\"><defs><filter height=\"300%\" id=\"f16qt0xkrynq67\" width=\"300%\" x=\"-1\" y=\"-1\"><feGaussianBlur result=\"blurOut\" stdDeviation=\"2.0\"/><feColorMatrix in=\"blurOut\" result=\"blurOut2\" type=\"matrix\" values=\"0 0 0 0 0 0 0 0 0 0 0 0 0 0 0 0 0 0 .4 0\"/><feOffset dx=\"4.0\" dy=\"4.0\" in=\"blurOut2\" result=\"blurOut3\"/><feBlend in=\"SourceGraphic\" in2=\"blurOut3\" mode=\"normal\"/></filter></defs><g><!--MD5=[fbc87193dbaf4d95561dea2c320d4a47]\n",
       "cluster E1--><a href=\"psysml:704d58b1-847a-4b5f-8ef4-b4da5c2432eb\" target=\"_top\" title=\"psysml:704d58b1-847a-4b5f-8ef4-b4da5c2432eb\" xlink:actuate=\"onRequest\" xlink:href=\"psysml:704d58b1-847a-4b5f-8ef4-b4da5c2432eb\" xlink:show=\"new\" xlink:title=\"psysml:704d58b1-847a-4b5f-8ef4-b4da5c2432eb\" xlink:type=\"simple\"><rect fill=\"#FFFFFF\" filter=\"url(#f16qt0xkrynq67)\" height=\"534.72\" id=\"E1\" style=\"stroke: #A80036; stroke-width: 1.5;\" width=\"341\" x=\"7\" y=\"7\"/><rect fill=\"#FEFECE\" height=\"37.9375\" style=\"stroke: #A80036; stroke-width: 1.5;\" width=\"341\" x=\"7\" y=\"7\"/><text fill=\"#000000\" font-family=\"sans-serif\" font-size=\"12\" font-style=\"italic\" lengthAdjust=\"spacingAndGlyphs\" textLength=\"77\" x=\"139\" y=\"23.1387\">«action def»</text><text fill=\"#000000\" font-family=\"sans-serif\" font-size=\"12\" lengthAdjust=\"spacingAndGlyphs\" textLength=\"80\" x=\"137.5\" y=\"37.1074\">DecisionTest</text></a><text fill=\"#000000\" font-family=\"sans-serif\" font-size=\"14\" lengthAdjust=\"spacingAndGlyphs\" textLength=\"48\" x=\"153\" y=\"560.7151\">$result</text><rect fill=\"#A80036\" height=\"12\" style=\"stroke: #FEFECE; stroke-width: 1.5;\" width=\"12\" x=\"171\" y=\"535.72\"/><polygon fill=\"#FEFECE\" filter=\"url(#f16qt0xkrynq67)\" points=\"167,28.5,179,40.5,167,52.5,155,40.5,167,28.5\" style=\"stroke: #A80036; stroke-width: 1.5;\"/><polygon fill=\"#FEFECE\" filter=\"url(#f16qt0xkrynq67)\" points=\"35,170.5,47,182.5,35,194.5,23,182.5,35,170.5\" style=\"stroke: #A80036; stroke-width: 1.5;\"/><g id=\"E1.E5\"><a href=\"psysml:f4b16115-f2df-4145-8494-1e5aced0fe90\" target=\"_top\" title=\"psysml:f4b16115-f2df-4145-8494-1e5aced0fe90\" xlink:actuate=\"onRequest\" xlink:href=\"psysml:f4b16115-f2df-4145-8494-1e5aced0fe90\" xlink:show=\"new\" xlink:title=\"psysml:f4b16115-f2df-4145-8494-1e5aced0fe90\" xlink:type=\"simple\"><rect fill=\"#FEFECE\" filter=\"url(#f16qt0xkrynq67)\" height=\"42.9375\" id=\"E5\" rx=\"10\" ry=\"10\" style=\"stroke: #A80036; stroke-width: 1.5;\" width=\"86\" x=\"135\" y=\"281\"/><ellipse cx=\"152.25\" cy=\"299.9688\" fill=\"#FFA500\" rx=\"11\" ry=\"11\" style=\"stroke: #A80036; stroke-width: 1.0;\"/><path d=\"M148.125,301.8906 L148.125,294.0781 L150.5781,294.0781 L150.5781,302.5156 Q150.5781,303.4375 151.0469,303.9688 Q151.5313,304.5 152.3594,304.5 Q153.2031,304.5 153.6719,303.9688 Q154.1406,303.4375 154.1406,302.5156 L154.1406,294.0781 L156.5938,294.0781 L156.5938,301.8906 Q156.5938,304.4219 155.5938,305.5625 Q154.5938,306.7031 152.3594,306.7031 Q150.1406,306.7031 149.125,305.5625 Q148.125,304.4219 148.125,301.8906 Z \"/><text fill=\"#000000\" font-family=\"sans-serif\" font-size=\"12\" font-style=\"italic\" lengthAdjust=\"spacingAndGlyphs\" textLength=\"53\" x=\"164.75\" y=\"297.1387\">«action»</text><text fill=\"#000000\" font-family=\"sans-serif\" font-size=\"12\" lengthAdjust=\"spacingAndGlyphs\" textLength=\"16\" x=\"183.25\" y=\"311.1074\">A1</text></a></g><g id=\"E1.E6\"><a href=\"psysml:ffb4dce0-5cb8-4add-9e67-ebd1f2f3deb3\" target=\"_top\" title=\"psysml:ffb4dce0-5cb8-4add-9e67-ebd1f2f3deb3\" xlink:actuate=\"onRequest\" xlink:href=\"psysml:ffb4dce0-5cb8-4add-9e67-ebd1f2f3deb3\" xlink:show=\"new\" xlink:title=\"psysml:ffb4dce0-5cb8-4add-9e67-ebd1f2f3deb3\" xlink:type=\"simple\"><rect fill=\"#FEFECE\" filter=\"url(#f16qt0xkrynq67)\" height=\"42.9375\" id=\"E6\" rx=\"10\" ry=\"10\" style=\"stroke: #A80036; stroke-width: 1.5;\" width=\"86\" x=\"135\" y=\"401\"/><ellipse cx=\"152.25\" cy=\"419.9688\" fill=\"#FFA500\" rx=\"11\" ry=\"11\" style=\"stroke: #A80036; stroke-width: 1.0;\"/><path d=\"M148.125,421.8906 L148.125,414.0781 L150.5781,414.0781 L150.5781,422.5156 Q150.5781,423.4375 151.0469,423.9688 Q151.5313,424.5 152.3594,424.5 Q153.2031,424.5 153.6719,423.9688 Q154.1406,423.4375 154.1406,422.5156 L154.1406,414.0781 L156.5938,414.0781 L156.5938,421.8906 Q156.5938,424.4219 155.5938,425.5625 Q154.5938,426.7031 152.3594,426.7031 Q150.1406,426.7031 149.125,425.5625 Q148.125,424.4219 148.125,421.8906 Z \"/><text fill=\"#000000\" font-family=\"sans-serif\" font-size=\"12\" font-style=\"italic\" lengthAdjust=\"spacingAndGlyphs\" textLength=\"53\" x=\"164.75\" y=\"417.1387\">«action»</text><text fill=\"#000000\" font-family=\"sans-serif\" font-size=\"12\" lengthAdjust=\"spacingAndGlyphs\" textLength=\"16\" x=\"183.25\" y=\"431.1074\">A2</text></a></g><g id=\"E1.E7\"><a href=\"psysml:dc91d98e-27d3-4fe3-8c05-9cedeab5907b\" target=\"_top\" title=\"psysml:dc91d98e-27d3-4fe3-8c05-9cedeab5907b\" xlink:actuate=\"onRequest\" xlink:href=\"psysml:dc91d98e-27d3-4fe3-8c05-9cedeab5907b\" xlink:show=\"new\" xlink:title=\"psysml:dc91d98e-27d3-4fe3-8c05-9cedeab5907b\" xlink:type=\"simple\"><rect fill=\"#FEFECE\" filter=\"url(#f16qt0xkrynq67)\" height=\"42.9375\" id=\"E7\" rx=\"10\" ry=\"10\" style=\"stroke: #A80036; stroke-width: 1.5;\" width=\"86\" x=\"30\" y=\"88\"/><ellipse cx=\"47.25\" cy=\"106.9688\" fill=\"#FFA500\" rx=\"11\" ry=\"11\" style=\"stroke: #A80036; stroke-width: 1.0;\"/><path d=\"M43.125,108.8906 L43.125,101.0781 L45.5781,101.0781 L45.5781,109.5156 Q45.5781,110.4375 46.0469,110.9688 Q46.5313,111.5 47.3594,111.5 Q48.2031,111.5 48.6719,110.9688 Q49.1406,110.4375 49.1406,109.5156 L49.1406,101.0781 L51.5938,101.0781 L51.5938,108.8906 Q51.5938,111.4219 50.5938,112.5625 Q49.5938,113.7031 47.3594,113.7031 Q45.1406,113.7031 44.125,112.5625 Q43.125,111.4219 43.125,108.8906 Z \"/><text fill=\"#000000\" font-family=\"sans-serif\" font-size=\"12\" font-style=\"italic\" lengthAdjust=\"spacingAndGlyphs\" textLength=\"53\" x=\"59.75\" y=\"104.1387\">«action»</text><text fill=\"#000000\" font-family=\"sans-serif\" font-size=\"12\" lengthAdjust=\"spacingAndGlyphs\" textLength=\"16\" x=\"78.25\" y=\"118.1074\">A3</text></a></g><g id=\"E1.E8\"><a href=\"psysml:dc91d98e-27d3-4fe3-8c05-9cedeab5907b\" target=\"_top\" title=\"psysml:dc91d98e-27d3-4fe3-8c05-9cedeab5907b\" xlink:actuate=\"onRequest\" xlink:href=\"psysml:dc91d98e-27d3-4fe3-8c05-9cedeab5907b\" xlink:show=\"new\" xlink:title=\"psysml:dc91d98e-27d3-4fe3-8c05-9cedeab5907b\" xlink:type=\"simple\"><rect fill=\"#FEFECE\" filter=\"url(#f16qt0xkrynq67)\" height=\"42.9375\" id=\"E8\" rx=\"10\" ry=\"10\" style=\"stroke: #A80036; stroke-width: 1.5;\" width=\"86\" x=\"246\" y=\"161\"/><ellipse cx=\"263.25\" cy=\"179.9688\" fill=\"#FFA500\" rx=\"11\" ry=\"11\" style=\"stroke: #A80036; stroke-width: 1.0;\"/><path d=\"M259.125,181.8906 L259.125,174.0781 L261.5781,174.0781 L261.5781,182.5156 Q261.5781,183.4375 262.0469,183.9688 Q262.5313,184.5 263.3594,184.5 Q264.2031,184.5 264.6719,183.9688 Q265.1406,183.4375 265.1406,182.5156 L265.1406,174.0781 L267.5938,174.0781 L267.5938,181.8906 Q267.5938,184.4219 266.5938,185.5625 Q265.5938,186.7031 263.3594,186.7031 Q261.1406,186.7031 260.125,185.5625 Q259.125,184.4219 259.125,181.8906 Z \"/><text fill=\"#000000\" font-family=\"sans-serif\" font-size=\"12\" font-style=\"italic\" lengthAdjust=\"spacingAndGlyphs\" textLength=\"53\" x=\"275.75\" y=\"177.1387\">«action»</text><text fill=\"#000000\" font-family=\"sans-serif\" font-size=\"12\" lengthAdjust=\"spacingAndGlyphs\" textLength=\"16\" x=\"294.25\" y=\"191.1074\">A3</text></a></g><!--MD5=[0188b64bb0ae78505a997a81836e11e9]\n",
       "link E3 to E5--><a href=\"psysml:f0c1a87b-40f9-41dd-914f-8704a756a2ee\" target=\"_top\" title=\"psysml:f0c1a87b-40f9-41dd-914f-8704a756a2ee\" xlink:actuate=\"onRequest\" xlink:href=\"psysml:f0c1a87b-40f9-41dd-914f-8704a756a2ee\" xlink:show=\"new\" xlink:title=\"psysml:f0c1a87b-40f9-41dd-914f-8704a756a2ee\" xlink:type=\"simple\"><path d=\"M164.07,49.64 C155.89,73.45 134.01,145 144,204 C148.28,229.26 158.37,256.69 166.46,276.01 \" fill=\"none\" id=\"E3-&gt;E5\" style=\"stroke: #A80036; stroke-width: 1.0;\"/><polygon fill=\"#A80036\" points=\"168.47,280.74,168.6272,270.8924,166.5125,276.1391,161.2658,274.0244,168.47,280.74\" style=\"stroke: #A80036; stroke-width: 1.0;\"/><text fill=\"#000000\" font-family=\"sans-serif\" font-size=\"13\" lengthAdjust=\"spacingAndGlyphs\" textLength=\"55\" x=\"145\" y=\"187.0669\">[x == 1]</text></a><!--MD5=[ec9844e0c75763426927cad3229d1081]\n",
       "link E3 to E6--><a href=\"psysml:534d6032-2416-43d2-b21b-3e106f4a7f5b\" target=\"_top\" title=\"psysml:534d6032-2416-43d2-b21b-3e106f4a7f5b\" xlink:actuate=\"onRequest\" xlink:href=\"psysml:534d6032-2416-43d2-b21b-3e106f4a7f5b\" xlink:show=\"new\" xlink:title=\"psysml:534d6032-2416-43d2-b21b-3e106f4a7f5b\" xlink:type=\"simple\"><path d=\"M169.76,49.87 C176.16,69.33 192.4,119.09 205,161 C220.96,214.09 229.87,226.32 239,281 C244.35,313.05 242.11,321.52 243,354 C243.21,361.55 246.32,364.21 243,371 C237.83,381.56 229.28,390.54 220.04,397.88 \" fill=\"none\" id=\"E3-&gt;E6\" style=\"stroke: #A80036; stroke-width: 1.0;\"/><polygon fill=\"#A80036\" points=\"216.05,400.92,225.6321,398.6432,220.0258,397.8881,220.781,392.2818,216.05,400.92\" style=\"stroke: #A80036; stroke-width: 1.0;\"/><text fill=\"#000000\" font-family=\"sans-serif\" font-size=\"13\" lengthAdjust=\"spacingAndGlyphs\" textLength=\"44\" x=\"234\" y=\"247.0669\">[x &gt; 1]</text></a><!--MD5=[ca5a752d6098d8a44b3f88316e7452d1]\n",
       "link E3 to E8--><a href=\"psysml:e6958018-0280-470d-866d-790aaedd3d9a\" target=\"_top\" title=\"psysml:e6958018-0280-470d-866d-790aaedd3d9a\" xlink:actuate=\"onRequest\" xlink:href=\"psysml:e6958018-0280-470d-866d-790aaedd3d9a\" xlink:show=\"new\" xlink:title=\"psysml:e6958018-0280-470d-866d-790aaedd3d9a\" xlink:type=\"simple\"><path d=\"M173.65,46.41 C183.6,54.12 202.22,70.04 212,88 C221.39,105.23 211.3,114.55 222,131 C228.74,141.36 238.38,150.41 248.25,157.86 \" fill=\"none\" id=\"E3-&gt;E8\" style=\"stroke: #A80036; stroke-width: 1.0;\"/><polygon fill=\"#A80036\" points=\"252.48,160.96,247.5918,152.4099,248.4493,158.0013,242.8579,158.8589,252.48,160.96\" style=\"stroke: #A80036; stroke-width: 1.0;\"/></a><!--MD5=[95fa686b5a16158bcdbcaeead89f639b]\n",
       "link E8 to E3--><a href=\"psysml:7eebbea4-be3a-4ef1-ac68-fab402045136\" target=\"_top\" title=\"psysml:7eebbea4-be3a-4ef1-ac68-fab402045136\" xlink:actuate=\"onRequest\" xlink:href=\"psysml:7eebbea4-be3a-4ef1-ac68-fab402045136\" xlink:show=\"new\" xlink:title=\"psysml:7eebbea4-be3a-4ef1-ac68-fab402045136\" xlink:type=\"simple\"><path d=\"M273.44,160.88 C266.56,151.73 258.36,140.84 251,131 C236.73,111.93 235.07,105.58 219,88 C205.73,73.48 188.36,58.66 177.44,49.77 \" fill=\"none\" id=\"E8-&gt;E3\" style=\"stroke: #A80036; stroke-width: 1.0;\"/><polygon fill=\"#A80036\" points=\"173.46,46.56,177.9421,55.3299,177.3476,49.7043,182.9731,49.1098,173.46,46.56\" style=\"stroke: #A80036; stroke-width: 1.0;\"/><text fill=\"#000000\" font-family=\"sans-serif\" font-size=\"13\" lengthAdjust=\"spacingAndGlyphs\" textLength=\"44\" x=\"252\" y=\"114.0669\">[x &gt; 0]</text></a><!--MD5=[af87c684e3b0d8be13c1a698a818ef1e]\n",
       "link E3 to E4--><a href=\"psysml:b2a8f402-8a6f-47b5-a176-34e34a53fa41\" target=\"_top\" title=\"psysml:b2a8f402-8a6f-47b5-a176-34e34a53fa41\" xlink:actuate=\"onRequest\" xlink:href=\"psysml:b2a8f402-8a6f-47b5-a176-34e34a53fa41\" xlink:show=\"new\" xlink:title=\"psysml:b2a8f402-8a6f-47b5-a176-34e34a53fa41\" xlink:type=\"simple\"><path d=\"M155.55,41.29 C128.17,41.5 58.94,46.32 29,88 C11.65,112.15 22.14,149.49 29.56,168.87 \" fill=\"none\" id=\"E3-&gt;E4\" style=\"stroke: #A80036; stroke-width: 1.0;\"/><polygon fill=\"#A80036\" points=\"31.54,173.83,31.9114,163.9881,29.683,169.1876,24.4836,166.9593,31.54,173.83\" style=\"stroke: #A80036; stroke-width: 1.0;\"/></a><!--MD5=[1b7591eae5389033d8d09a9d6721a717]\n",
       "link E4 to E5--><a href=\"psysml:d4e4cf4f-ca71-4ae2-aa8b-453c4e696e69\" target=\"_top\" title=\"psysml:d4e4cf4f-ca71-4ae2-aa8b-453c4e696e69\" xlink:actuate=\"onRequest\" xlink:href=\"psysml:d4e4cf4f-ca71-4ae2-aa8b-453c4e696e69\" xlink:show=\"new\" xlink:title=\"psysml:d4e4cf4f-ca71-4ae2-aa8b-453c4e696e69\" xlink:type=\"simple\"><path d=\"M38.96,191.04 C46.32,204.49 63.28,232.9 84,251 C97.53,262.82 114.3,272.93 129.91,280.93 \" fill=\"none\" id=\"E4-&gt;E5\" style=\"stroke: #A80036; stroke-width: 1.0;\"/><polygon fill=\"#A80036\" points=\"134.71,283.34,128.4587,275.7294,130.2407,281.0982,124.8719,282.8802,134.71,283.34\" style=\"stroke: #A80036; stroke-width: 1.0;\"/><text fill=\"#000000\" font-family=\"sans-serif\" font-size=\"13\" lengthAdjust=\"spacingAndGlyphs\" textLength=\"36\" x=\"85\" y=\"247.0669\">[true]</text></a><!--MD5=[79568f1e445c3877b6a54524624ccc7d]\n",
       "link E4 to E6--><a href=\"psysml:07d2ed15-614f-457b-995c-67ac116a921b\" target=\"_top\" title=\"psysml:07d2ed15-614f-457b-995c-67ac116a921b\" xlink:actuate=\"onRequest\" xlink:href=\"psysml:07d2ed15-614f-457b-995c-67ac116a921b\" xlink:show=\"new\" xlink:title=\"psysml:07d2ed15-614f-457b-995c-67ac116a921b\" xlink:type=\"simple\"><path d=\"M36.1,193.4 C39.13,217.4 49.22,279.92 76,324 C93.84,353.37 122.75,379.82 145.25,397.74 \" fill=\"none\" id=\"E4-&gt;E6\" style=\"stroke: #A80036; stroke-width: 1.0;\"/><polygon fill=\"#A80036\" points=\"149.37,400.99,144.7826,392.2748,145.4449,397.8927,139.8269,398.555,149.37,400.99\" style=\"stroke: #A80036; stroke-width: 1.0;\"/><text fill=\"#000000\" font-family=\"sans-serif\" font-size=\"13\" lengthAdjust=\"spacingAndGlyphs\" textLength=\"40\" x=\"77\" y=\"307.0669\">[false]</text></a><!--MD5=[9120cf2e5df3bff93db8f754bbbc09b4]\n",
       "link E5 to E6--><a href=\"psysml:b67ea915-0e8a-4542-80c4-8f1f8e1002d6\" target=\"_top\" title=\"psysml:b67ea915-0e8a-4542-80c4-8f1f8e1002d6\" xlink:actuate=\"onRequest\" xlink:href=\"psysml:b67ea915-0e8a-4542-80c4-8f1f8e1002d6\" xlink:show=\"new\" xlink:title=\"psysml:b67ea915-0e8a-4542-80c4-8f1f8e1002d6\" xlink:type=\"simple\"><path d=\"M178,324.05 C178,343.9 178,374.02 178,395.52 \" fill=\"none\" id=\"E5-&gt;E6\" style=\"stroke: #A80036; stroke-width: 1.0;\"/><polygon fill=\"#A80036\" points=\"178,400.79,182,391.79,178,395.79,174,391.79,178,400.79\" style=\"stroke: #A80036; stroke-width: 1.0;\"/><text fill=\"#000000\" font-family=\"sans-serif\" font-size=\"13\" lengthAdjust=\"spacingAndGlyphs\" textLength=\"55\" x=\"179\" y=\"367.0669\">[x == 0]</text></a><!--MD5=[6d8f4b2e78afface1242da0722006cf2]\n",
       "@startuml\r\n",
       " \r\n",
       "rec def \"DecisionTest\" as E1  <<(D,brown)action def>> [[psysml:704d58b1-847a-4b5f-8ef4-b4da5c2432eb ]] {\r\n",
       "portout \"$result\" as E2  [[psysml:d3db88a9-d6e2-4728-bacb-cdc83b04fb60 ]] \r\n",
       "choice \"test x\" as E3  [[psysml:07816a00-a6c6-49d5-84be-841a1e7e2f6a ]] \r\n",
       "choice \"noname\" as E4  [[psysml:26311404-6ce6-4dcd-89ed-d43ec51ac22a ]] \r\n",
       "rec usage \"A1\" as E5  <<(U,orange)action>> [[psysml:f4b16115-f2df-4145-8494-1e5aced0fe90 ]] {\r\n",
       "}\r\n",
       "\r\n",
       "rec usage \"A2\" as E6  <<(U,orange)action>> [[psysml:ffb4dce0-5cb8-4add-9e67-ebd1f2f3deb3 ]] {\r\n",
       "}\r\n",
       "\r\n",
       "rec usage \"A3\" as E7  <<(U,orange)action>> [[psysml:dc91d98e-27d3-4fe3-8c05-9cedeab5907b ]] {\r\n",
       "}\r\n",
       "\r\n",
       "rec usage \"A3\" as E8  <<(U,orange)action>> [[psysml:dc91d98e-27d3-4fe3-8c05-9cedeab5907b ]] {\r\n",
       "}\r\n",
       "\r\n",
       "}\r\n",
       "\r\n",
       "E3  - -> E5 [[psysml:f0c1a87b-40f9-41dd-914f-8704a756a2ee ]] : [x == 1]\r\n",
       "E3  - -> E6 [[psysml:534d6032-2416-43d2-b21b-3e106f4a7f5b ]] : [x > 1]\r\n",
       "E3  - -> E8 [[psysml:e6958018-0280-470d-866d-790aaedd3d9a ]] \r\n",
       "E3 - -> E4 [[psysml:b2a8f402-8a6f-47b5-a176-34e34a53fa41 ]] \r\n",
       "E4  - -> E5 [[psysml:d4e4cf4f-ca71-4ae2-aa8b-453c4e696e69 ]] : [true]\r\n",
       "E4  - -> E6 [[psysml:07d2ed15-614f-457b-995c-67ac116a921b ]] : [false]\r\n",
       "E5  - -> E6 [[psysml:b67ea915-0e8a-4542-80c4-8f1f8e1002d6 ]] : [x == 0]\r\n",
       "E8  - -> E3 [[psysml:7eebbea4-be3a-4ef1-ac68-fab402045136 ]] : [x > 0]\r\n",
       "@enduml\r\n",
       "\n",
       "PlantUML version 1.2020.13(Sat Jun 13 12:26:38 UTC 2020)\n",
       "(EPL source distribution)\n",
       "Java Runtime: OpenJDK Runtime Environment\n",
       "JVM: OpenJDK 64-Bit Server VM\n",
       "Default Encoding: UTF-8\n",
       "Language: en\n",
       "Country: null\n",
       "--></g></svg>"
      ]
     },
     "execution_count": 36,
     "metadata": {},
     "output_type": "execute_result"
    }
   ],
   "source": [
    "%viz --style=\"PLANTUML\" --view=\"MIXED\" \"DecisionTest\""
   ]
  },
  {
   "cell_type": "code",
   "execution_count": 37,
   "id": "085eb2a0",
   "metadata": {
    "execution": {
     "iopub.execute_input": "2021-04-20T07:01:22.274450Z",
     "iopub.status.busy": "2021-04-20T07:01:22.274012Z",
     "iopub.status.idle": "2021-04-20T07:01:22.336980Z",
     "shell.execute_reply": "2021-04-20T07:01:22.336212Z"
    }
   },
   "outputs": [
    {
     "data": {
      "image/svg+xml": [
       "<?xml version=\"1.0\" encoding=\"UTF-8\" standalone=\"no\"?><svg xmlns=\"http://www.w3.org/2000/svg\" xmlns:xlink=\"http://www.w3.org/1999/xlink\" contentScriptType=\"application/ecmascript\" contentStyleType=\"text/css\" height=\"574px\" preserveAspectRatio=\"none\" style=\"width:333px;height:574px;\" version=\"1.1\" viewBox=\"0 0 333 574\" width=\"333px\" zoomAndPan=\"magnify\"><defs/><g><!--MD5=[fbc87193dbaf4d95561dea2c320d4a47]\n",
       "cluster E1--><a href=\"psysml:704d58b1-847a-4b5f-8ef4-b4da5c2432eb\" target=\"_top\" title=\"psysml:704d58b1-847a-4b5f-8ef4-b4da5c2432eb\" xlink:actuate=\"onRequest\" xlink:href=\"psysml:704d58b1-847a-4b5f-8ef4-b4da5c2432eb\" xlink:show=\"new\" xlink:title=\"psysml:704d58b1-847a-4b5f-8ef4-b4da5c2432eb\" xlink:type=\"simple\"><rect fill=\"#FFFFFF\" height=\"534.72\" id=\"E1\" style=\"stroke: #383838; stroke-width: 1.5;\" width=\"315\" x=\"7\" y=\"7\"/><rect fill=\"#F8F8F8\" height=\"37.9375\" style=\"stroke: #383838; stroke-width: 1.5;\" width=\"315\" x=\"7\" y=\"7\"/><text fill=\"#000000\" font-family=\"sans-serif\" font-size=\"12\" font-style=\"italic\" lengthAdjust=\"spacingAndGlyphs\" textLength=\"77\" x=\"126\" y=\"23.1387\">«action def»</text><text fill=\"#000000\" font-family=\"sans-serif\" font-size=\"12\" lengthAdjust=\"spacingAndGlyphs\" textLength=\"80\" x=\"124.5\" y=\"37.1074\">DecisionTest</text></a><text fill=\"#000000\" font-family=\"sans-serif\" font-size=\"14\" lengthAdjust=\"spacingAndGlyphs\" textLength=\"48\" x=\"140\" y=\"560.7151\">$result</text><rect fill=\"#383838\" height=\"12\" style=\"stroke: #F8F8F8; stroke-width: 1.5;\" width=\"12\" x=\"158\" y=\"535.72\"/><polygon fill=\"#F8F8F8\" points=\"141,28.5,153,40.5,141,52.5,129,40.5,141,28.5\" style=\"stroke: #383838; stroke-width: 1.5;\"/><polygon fill=\"#F8F8F8\" points=\"35,170.5,47,182.5,35,194.5,23,182.5,35,170.5\" style=\"stroke: #383838; stroke-width: 1.5;\"/><g id=\"E1.E5\"><a href=\"psysml:f4b16115-f2df-4145-8494-1e5aced0fe90\" target=\"_top\" title=\"psysml:f4b16115-f2df-4145-8494-1e5aced0fe90\" xlink:actuate=\"onRequest\" xlink:href=\"psysml:f4b16115-f2df-4145-8494-1e5aced0fe90\" xlink:show=\"new\" xlink:title=\"psysml:f4b16115-f2df-4145-8494-1e5aced0fe90\" xlink:type=\"simple\"><rect fill=\"#FFFFFF\" height=\"42.9375\" id=\"E5\" rx=\"10\" ry=\"10\" style=\"stroke: #383838; stroke-width: 1.5;\" width=\"60\" x=\"135\" y=\"281\"/><rect fill=\"#F8F8F8\" height=\"37.9375\" rx=\"10\" ry=\"10\" style=\"stroke: #F8F8F8; stroke-width: 1.5;\" width=\"60\" x=\"135\" y=\"281\"/><rect fill=\"#F8F8F8\" height=\"10\" style=\"stroke: #F8F8F8; stroke-width: 1.5;\" width=\"60\" x=\"135\" y=\"308.9375\"/><rect fill=\"none\" height=\"42.9375\" id=\"E5\" rx=\"10\" ry=\"10\" style=\"stroke: #383838; stroke-width: 1.5;\" width=\"60\" x=\"135\" y=\"281\"/><text fill=\"#000000\" font-family=\"sans-serif\" font-size=\"12\" font-style=\"italic\" lengthAdjust=\"spacingAndGlyphs\" textLength=\"53\" x=\"138.5\" y=\"297.1387\">«action»</text><text fill=\"#000000\" font-family=\"sans-serif\" font-size=\"12\" lengthAdjust=\"spacingAndGlyphs\" textLength=\"16\" x=\"157\" y=\"311.1074\">A1</text></a></g><g id=\"E1.E6\"><a href=\"psysml:ffb4dce0-5cb8-4add-9e67-ebd1f2f3deb3\" target=\"_top\" title=\"psysml:ffb4dce0-5cb8-4add-9e67-ebd1f2f3deb3\" xlink:actuate=\"onRequest\" xlink:href=\"psysml:ffb4dce0-5cb8-4add-9e67-ebd1f2f3deb3\" xlink:show=\"new\" xlink:title=\"psysml:ffb4dce0-5cb8-4add-9e67-ebd1f2f3deb3\" xlink:type=\"simple\"><rect fill=\"#FFFFFF\" height=\"42.9375\" id=\"E6\" rx=\"10\" ry=\"10\" style=\"stroke: #383838; stroke-width: 1.5;\" width=\"60\" x=\"135\" y=\"401\"/><rect fill=\"#F8F8F8\" height=\"37.9375\" rx=\"10\" ry=\"10\" style=\"stroke: #F8F8F8; stroke-width: 1.5;\" width=\"60\" x=\"135\" y=\"401\"/><rect fill=\"#F8F8F8\" height=\"10\" style=\"stroke: #F8F8F8; stroke-width: 1.5;\" width=\"60\" x=\"135\" y=\"428.9375\"/><rect fill=\"none\" height=\"42.9375\" id=\"E6\" rx=\"10\" ry=\"10\" style=\"stroke: #383838; stroke-width: 1.5;\" width=\"60\" x=\"135\" y=\"401\"/><text fill=\"#000000\" font-family=\"sans-serif\" font-size=\"12\" font-style=\"italic\" lengthAdjust=\"spacingAndGlyphs\" textLength=\"53\" x=\"138.5\" y=\"417.1387\">«action»</text><text fill=\"#000000\" font-family=\"sans-serif\" font-size=\"12\" lengthAdjust=\"spacingAndGlyphs\" textLength=\"16\" x=\"157\" y=\"431.1074\">A2</text></a></g><g id=\"E1.E7\"><a href=\"psysml:dc91d98e-27d3-4fe3-8c05-9cedeab5907b\" target=\"_top\" title=\"psysml:dc91d98e-27d3-4fe3-8c05-9cedeab5907b\" xlink:actuate=\"onRequest\" xlink:href=\"psysml:dc91d98e-27d3-4fe3-8c05-9cedeab5907b\" xlink:show=\"new\" xlink:title=\"psysml:dc91d98e-27d3-4fe3-8c05-9cedeab5907b\" xlink:type=\"simple\"><rect fill=\"#FFFFFF\" height=\"42.9375\" id=\"E7\" rx=\"10\" ry=\"10\" style=\"stroke: #383838; stroke-width: 1.5;\" width=\"60\" x=\"46\" y=\"88\"/><rect fill=\"#F8F8F8\" height=\"37.9375\" rx=\"10\" ry=\"10\" style=\"stroke: #F8F8F8; stroke-width: 1.5;\" width=\"60\" x=\"46\" y=\"88\"/><rect fill=\"#F8F8F8\" height=\"10\" style=\"stroke: #F8F8F8; stroke-width: 1.5;\" width=\"60\" x=\"46\" y=\"115.9375\"/><rect fill=\"none\" height=\"42.9375\" id=\"E7\" rx=\"10\" ry=\"10\" style=\"stroke: #383838; stroke-width: 1.5;\" width=\"60\" x=\"46\" y=\"88\"/><text fill=\"#000000\" font-family=\"sans-serif\" font-size=\"12\" font-style=\"italic\" lengthAdjust=\"spacingAndGlyphs\" textLength=\"53\" x=\"49.5\" y=\"104.1387\">«action»</text><text fill=\"#000000\" font-family=\"sans-serif\" font-size=\"12\" lengthAdjust=\"spacingAndGlyphs\" textLength=\"16\" x=\"68\" y=\"118.1074\">A3</text></a></g><g id=\"E1.E8\"><a href=\"psysml:dc91d98e-27d3-4fe3-8c05-9cedeab5907b\" target=\"_top\" title=\"psysml:dc91d98e-27d3-4fe3-8c05-9cedeab5907b\" xlink:actuate=\"onRequest\" xlink:href=\"psysml:dc91d98e-27d3-4fe3-8c05-9cedeab5907b\" xlink:show=\"new\" xlink:title=\"psysml:dc91d98e-27d3-4fe3-8c05-9cedeab5907b\" xlink:type=\"simple\"><rect fill=\"#FFFFFF\" height=\"42.9375\" id=\"E8\" rx=\"10\" ry=\"10\" style=\"stroke: #383838; stroke-width: 1.5;\" width=\"60\" x=\"246\" y=\"161\"/><rect fill=\"#F8F8F8\" height=\"37.9375\" rx=\"10\" ry=\"10\" style=\"stroke: #F8F8F8; stroke-width: 1.5;\" width=\"60\" x=\"246\" y=\"161\"/><rect fill=\"#F8F8F8\" height=\"10\" style=\"stroke: #F8F8F8; stroke-width: 1.5;\" width=\"60\" x=\"246\" y=\"188.9375\"/><rect fill=\"none\" height=\"42.9375\" id=\"E8\" rx=\"10\" ry=\"10\" style=\"stroke: #383838; stroke-width: 1.5;\" width=\"60\" x=\"246\" y=\"161\"/><text fill=\"#000000\" font-family=\"sans-serif\" font-size=\"12\" font-style=\"italic\" lengthAdjust=\"spacingAndGlyphs\" textLength=\"53\" x=\"249.5\" y=\"177.1387\">«action»</text><text fill=\"#000000\" font-family=\"sans-serif\" font-size=\"12\" lengthAdjust=\"spacingAndGlyphs\" textLength=\"16\" x=\"268\" y=\"191.1074\">A3</text></a></g><!--MD5=[0188b64bb0ae78505a997a81836e11e9]\n",
       "link E3 to E5--><a href=\"psysml:f0c1a87b-40f9-41dd-914f-8704a756a2ee\" target=\"_top\" title=\"psysml:f0c1a87b-40f9-41dd-914f-8704a756a2ee\" xlink:actuate=\"onRequest\" xlink:href=\"psysml:f0c1a87b-40f9-41dd-914f-8704a756a2ee\" xlink:show=\"new\" xlink:title=\"psysml:f0c1a87b-40f9-41dd-914f-8704a756a2ee\" xlink:type=\"simple\"><path d=\"M140.49,52.19 C139.39,78.26 137.41,147.1 144,204 C146.84,228.53 153.03,255.98 157.96,275.49 \" fill=\"none\" id=\"E3-&gt;E5\" style=\"stroke: #383838; stroke-width: 1.0;\"/><polygon fill=\"#383838\" points=\"159.31,280.77,160.9741,271.0627,158.0805,275.9235,153.2197,273.0299,159.31,280.77\" style=\"stroke: #383838; stroke-width: 1.0;\"/><text fill=\"#000000\" font-family=\"sans-serif\" font-size=\"13\" lengthAdjust=\"spacingAndGlyphs\" textLength=\"55\" x=\"145\" y=\"187.0669\">[x == 1]</text></a><!--MD5=[ec9844e0c75763426927cad3229d1081]\n",
       "link E3 to E6--><a href=\"psysml:534d6032-2416-43d2-b21b-3e106f4a7f5b\" target=\"_top\" title=\"psysml:534d6032-2416-43d2-b21b-3e106f4a7f5b\" xlink:actuate=\"onRequest\" xlink:href=\"psysml:534d6032-2416-43d2-b21b-3e106f4a7f5b\" xlink:show=\"new\" xlink:title=\"psysml:534d6032-2416-43d2-b21b-3e106f4a7f5b\" xlink:type=\"simple\"><path d=\"M145.73,48.09 C157.96,65.53 190.67,114.68 205,161 C230.5,243.43 221.33,267.84 226,354 C226.41,361.54 229.22,364.16 226,371 C220.27,383.19 209.98,393.45 199.48,401.47 \" fill=\"none\" id=\"E3-&gt;E6\" style=\"stroke: #383838; stroke-width: 1.0;\"/><polygon fill=\"#383838\" points=\"195.29,404.54,204.9073,402.4168,199.3138,401.5721,200.1586,395.9786,195.29,404.54\" style=\"stroke: #383838; stroke-width: 1.0;\"/><text fill=\"#000000\" font-family=\"sans-serif\" font-size=\"13\" lengthAdjust=\"spacingAndGlyphs\" textLength=\"44\" x=\"223\" y=\"247.0669\">[x &gt; 1]</text></a><!--MD5=[ca5a752d6098d8a44b3f88316e7452d1]\n",
       "link E3 to E8--><a href=\"psysml:e6958018-0280-470d-866d-790aaedd3d9a\" target=\"_top\" title=\"psysml:e6958018-0280-470d-866d-790aaedd3d9a\" xlink:actuate=\"onRequest\" xlink:href=\"psysml:e6958018-0280-470d-866d-790aaedd3d9a\" xlink:show=\"new\" xlink:title=\"psysml:e6958018-0280-470d-866d-790aaedd3d9a\" xlink:type=\"simple\"><path d=\"M147.97,45.53 C163.29,54.53 199.17,76.37 207,88 C217.96,104.27 206.82,114.23 217,131 C223.37,141.49 232.66,150.9 242,158.68 \" fill=\"none\" id=\"E3-&gt;E8\" style=\"stroke: #383838; stroke-width: 1.0;\"/><polygon fill=\"#383838\" points=\"246,161.91,241.5179,153.1401,242.1124,158.7657,236.4869,159.3602,246,161.91\" style=\"stroke: #383838; stroke-width: 1.0;\"/></a><!--MD5=[95fa686b5a16158bcdbcaeead89f639b]\n",
       "link E8 to E3--><a href=\"psysml:7eebbea4-be3a-4ef1-ac68-fab402045136\" target=\"_top\" title=\"psysml:7eebbea4-be3a-4ef1-ac68-fab402045136\" xlink:actuate=\"onRequest\" xlink:href=\"psysml:7eebbea4-be3a-4ef1-ac68-fab402045136\" xlink:show=\"new\" xlink:title=\"psysml:7eebbea4-be3a-4ef1-ac68-fab402045136\" xlink:type=\"simple\"><path d=\"M263.71,160.86 C249.28,137.02 225.81,99.6 214,88 C204.2,78.38 171.17,58.79 153.08,48.37 \" fill=\"none\" id=\"E8-&gt;E3\" style=\"stroke: #383838; stroke-width: 1.0;\"/><polygon fill=\"#383838\" points=\"148.41,45.69,154.234,53.6323,152.7495,48.1738,158.208,46.6892,148.41,45.69\" style=\"stroke: #383838; stroke-width: 1.0;\"/><text fill=\"#000000\" font-family=\"sans-serif\" font-size=\"13\" lengthAdjust=\"spacingAndGlyphs\" textLength=\"44\" x=\"244\" y=\"114.0669\">[x &gt; 0]</text></a><!--MD5=[af87c684e3b0d8be13c1a698a818ef1e]\n",
       "link E3 to E4--><a href=\"psysml:b2a8f402-8a6f-47b5-a176-34e34a53fa41\" target=\"_top\" title=\"psysml:b2a8f402-8a6f-47b5-a176-34e34a53fa41\" xlink:actuate=\"onRequest\" xlink:href=\"psysml:b2a8f402-8a6f-47b5-a176-34e34a53fa41\" xlink:show=\"new\" xlink:title=\"psysml:b2a8f402-8a6f-47b5-a176-34e34a53fa41\" xlink:type=\"simple\"><path d=\"M131.03,42.86 C110.41,46.26 63.22,57.19 42,88 C25.54,111.89 28.61,147.84 31.99,167.47 \" fill=\"none\" id=\"E3-&gt;E4\" style=\"stroke: #383838; stroke-width: 1.0;\"/><polygon fill=\"#383838\" points=\"32.94,172.56,35.2263,162.9802,32.0255,167.6443,27.3613,164.4435,32.94,172.56\" style=\"stroke: #383838; stroke-width: 1.0;\"/></a><!--MD5=[1b7591eae5389033d8d09a9d6721a717]\n",
       "link E4 to E5--><a href=\"psysml:d4e4cf4f-ca71-4ae2-aa8b-453c4e696e69\" target=\"_top\" title=\"psysml:d4e4cf4f-ca71-4ae2-aa8b-453c4e696e69\" xlink:actuate=\"onRequest\" xlink:href=\"psysml:d4e4cf4f-ca71-4ae2-aa8b-453c4e696e69\" xlink:show=\"new\" xlink:title=\"psysml:d4e4cf4f-ca71-4ae2-aa8b-453c4e696e69\" xlink:type=\"simple\"><path d=\"M39.08,190.91 C46.63,204.15 63.87,232.24 84,251 C97.73,263.8 115.17,275.16 130.35,283.85 \" fill=\"none\" id=\"E4-&gt;E5\" style=\"stroke: #383838; stroke-width: 1.0;\"/><polygon fill=\"#383838\" points=\"134.98,286.46,129.0858,278.5696,130.6187,284.0148,125.1735,285.5477,134.98,286.46\" style=\"stroke: #383838; stroke-width: 1.0;\"/><text fill=\"#000000\" font-family=\"sans-serif\" font-size=\"13\" lengthAdjust=\"spacingAndGlyphs\" textLength=\"36\" x=\"85\" y=\"247.0669\">[true]</text></a><!--MD5=[79568f1e445c3877b6a54524624ccc7d]\n",
       "link E4 to E6--><a href=\"psysml:07d2ed15-614f-457b-995c-67ac116a921b\" target=\"_top\" title=\"psysml:07d2ed15-614f-457b-995c-67ac116a921b\" xlink:actuate=\"onRequest\" xlink:href=\"psysml:07d2ed15-614f-457b-995c-67ac116a921b\" xlink:show=\"new\" xlink:title=\"psysml:07d2ed15-614f-457b-995c-67ac116a921b\" xlink:type=\"simple\"><path d=\"M36.3,193.29 C39.76,217.03 50.73,279.03 76,324 C91.89,352.29 117.42,379.1 137.07,397.43 \" fill=\"none\" id=\"E4-&gt;E6\" style=\"stroke: #383838; stroke-width: 1.0;\"/><polygon fill=\"#383838\" points=\"140.92,400.98,137.0155,391.9382,137.2443,397.5904,131.5921,397.8192,140.92,400.98\" style=\"stroke: #383838; stroke-width: 1.0;\"/><text fill=\"#000000\" font-family=\"sans-serif\" font-size=\"13\" lengthAdjust=\"spacingAndGlyphs\" textLength=\"40\" x=\"77\" y=\"307.0669\">[false]</text></a><!--MD5=[9120cf2e5df3bff93db8f754bbbc09b4]\n",
       "link E5 to E6--><a href=\"psysml:b67ea915-0e8a-4542-80c4-8f1f8e1002d6\" target=\"_top\" title=\"psysml:b67ea915-0e8a-4542-80c4-8f1f8e1002d6\" xlink:actuate=\"onRequest\" xlink:href=\"psysml:b67ea915-0e8a-4542-80c4-8f1f8e1002d6\" xlink:show=\"new\" xlink:title=\"psysml:b67ea915-0e8a-4542-80c4-8f1f8e1002d6\" xlink:type=\"simple\"><path d=\"M165,324.05 C165,343.9 165,374.02 165,395.52 \" fill=\"none\" id=\"E5-&gt;E6\" style=\"stroke: #383838; stroke-width: 1.0;\"/><polygon fill=\"#383838\" points=\"165,400.79,169,391.79,165,395.79,161,391.79,165,400.79\" style=\"stroke: #383838; stroke-width: 1.0;\"/><text fill=\"#000000\" font-family=\"sans-serif\" font-size=\"13\" lengthAdjust=\"spacingAndGlyphs\" textLength=\"55\" x=\"166\" y=\"367.0669\">[x == 0]</text></a><!--MD5=[65dc443925679c963789bbd3b9a12942]\n",
       "@startuml\r\n",
       "skinparam monochrome true\r\n",
       "skinparam classbackgroundcolor white\r\n",
       "skinparam shadowing false\r\n",
       "skinparam wrapWidth 300\r\n",
       "hide circle\r\n",
       "\r\n",
       "rec def \"DecisionTest\" as E1  <<(T,blue)action def>> [[psysml:704d58b1-847a-4b5f-8ef4-b4da5c2432eb ]] {\r\n",
       "portout \"$result\" as E2  [[psysml:d3db88a9-d6e2-4728-bacb-cdc83b04fb60 ]] \r\n",
       "choice \"test x\" as E3  [[psysml:07816a00-a6c6-49d5-84be-841a1e7e2f6a ]] \r\n",
       "choice \"noname\" as E4  [[psysml:26311404-6ce6-4dcd-89ed-d43ec51ac22a ]] \r\n",
       "rec usage \"A1\" as E5  <<(T,blue)action>> [[psysml:f4b16115-f2df-4145-8494-1e5aced0fe90 ]] {\r\n",
       "}\r\n",
       "\r\n",
       "rec usage \"A2\" as E6  <<(T,blue)action>> [[psysml:ffb4dce0-5cb8-4add-9e67-ebd1f2f3deb3 ]] {\r\n",
       "}\r\n",
       "\r\n",
       "rec usage \"A3\" as E7  <<(T,blue)action>> [[psysml:dc91d98e-27d3-4fe3-8c05-9cedeab5907b ]] {\r\n",
       "}\r\n",
       "\r\n",
       "rec usage \"A3\" as E8  <<(T,blue)action>> [[psysml:dc91d98e-27d3-4fe3-8c05-9cedeab5907b ]] {\r\n",
       "}\r\n",
       "\r\n",
       "}\r\n",
       "\r\n",
       "E3  - -> E5 [[psysml:f0c1a87b-40f9-41dd-914f-8704a756a2ee ]] : [x == 1]\r\n",
       "E3  - -> E6 [[psysml:534d6032-2416-43d2-b21b-3e106f4a7f5b ]] : [x > 1]\r\n",
       "E3  - -> E8 [[psysml:e6958018-0280-470d-866d-790aaedd3d9a ]] \r\n",
       "E3 - -> E4 [[psysml:b2a8f402-8a6f-47b5-a176-34e34a53fa41 ]] \r\n",
       "E4  - -> E5 [[psysml:d4e4cf4f-ca71-4ae2-aa8b-453c4e696e69 ]] : [true]\r\n",
       "E4  - -> E6 [[psysml:07d2ed15-614f-457b-995c-67ac116a921b ]] : [false]\r\n",
       "E5  - -> E6 [[psysml:b67ea915-0e8a-4542-80c4-8f1f8e1002d6 ]] : [x == 0]\r\n",
       "E8  - -> E3 [[psysml:7eebbea4-be3a-4ef1-ac68-fab402045136 ]] : [x > 0]\r\n",
       "@enduml\r\n",
       "\n",
       "PlantUML version 1.2020.13(Sat Jun 13 12:26:38 UTC 2020)\n",
       "(EPL source distribution)\n",
       "Java Runtime: OpenJDK Runtime Environment\n",
       "JVM: OpenJDK 64-Bit Server VM\n",
       "Default Encoding: UTF-8\n",
       "Language: en\n",
       "Country: null\n",
       "--></g></svg>"
      ]
     },
     "execution_count": 37,
     "metadata": {},
     "output_type": "execute_result"
    }
   ],
   "source": [
    "%viz --style=\"DEFAULT\" --view=\"Default\" \"DecisionTest\""
   ]
  },
  {
   "cell_type": "code",
   "execution_count": 38,
   "id": "a51322e1",
   "metadata": {
    "execution": {
     "iopub.execute_input": "2021-04-20T07:01:22.387109Z",
     "iopub.status.busy": "2021-04-20T07:01:22.386389Z",
     "iopub.status.idle": "2021-04-20T07:01:22.467979Z",
     "shell.execute_reply": "2021-04-20T07:01:22.467543Z"
    }
   },
   "outputs": [
    {
     "data": {
      "image/svg+xml": [
       "<?xml version=\"1.0\" encoding=\"UTF-8\" standalone=\"no\"?><svg xmlns=\"http://www.w3.org/2000/svg\" xmlns:xlink=\"http://www.w3.org/1999/xlink\" contentScriptType=\"application/ecmascript\" contentStyleType=\"text/css\" height=\"207px\" preserveAspectRatio=\"none\" style=\"width:109px;height:207px;\" version=\"1.1\" viewBox=\"0 0 109 207\" width=\"109px\" zoomAndPan=\"magnify\"><defs/><g><!--MD5=[43c9051892ef23e1a46a86907403d788]\n",
       "class E1--><a href=\"psysml:704d58b1-847a-4b5f-8ef4-b4da5c2432eb\" target=\"_top\" title=\"psysml:704d58b1-847a-4b5f-8ef4-b4da5c2432eb\" xlink:actuate=\"onRequest\" xlink:href=\"psysml:704d58b1-847a-4b5f-8ef4-b4da5c2432eb\" xlink:show=\"new\" xlink:title=\"psysml:704d58b1-847a-4b5f-8ef4-b4da5c2432eb\" xlink:type=\"simple\"><rect fill=\"#FFFFFF\" height=\"189.9844\" id=\"E1\" style=\"stroke: #383838; stroke-width: 1.5;\" width=\"91\" x=\"7\" y=\"7\"/><text fill=\"#000000\" font-family=\"sans-serif\" font-size=\"12\" font-style=\"italic\" lengthAdjust=\"spacingAndGlyphs\" textLength=\"77\" x=\"14\" y=\"23.1387\">«action def»</text><text fill=\"#000000\" font-family=\"sans-serif\" font-size=\"12\" lengthAdjust=\"spacingAndGlyphs\" textLength=\"80\" x=\"12.5\" y=\"37.1074\">DecisionTest</text><line style=\"stroke: #383838; stroke-width: 1.5;\" x1=\"8\" x2=\"97\" y1=\"44.9375\" y2=\"44.9375\"/><text fill=\"#000000\" font-family=\"sans-serif\" font-size=\"11\" lengthAdjust=\"spacingAndGlyphs\" textLength=\"26\" x=\"13\" y=\"75.9526\">x=1;</text><line style=\"stroke: #383838; stroke-width: 1.0;\" x1=\"8\" x2=\"25\" y1=\"59.3398\" y2=\"59.3398\"/><text fill=\"#000000\" font-family=\"sans-serif\" font-size=\"11\" lengthAdjust=\"spacingAndGlyphs\" textLength=\"55\" x=\"25\" y=\"62.6479\">attributes</text><line style=\"stroke: #383838; stroke-width: 1.0;\" x1=\"80\" x2=\"97\" y1=\"59.3398\" y2=\"59.3398\"/><text fill=\"#000000\" font-family=\"sans-serif\" font-size=\"11\" lengthAdjust=\"spacingAndGlyphs\" textLength=\"14\" x=\"13\" y=\"105.562\">A1</text><text fill=\"#000000\" font-family=\"sans-serif\" font-size=\"11\" lengthAdjust=\"spacingAndGlyphs\" textLength=\"14\" x=\"13\" y=\"118.3667\">A2</text><text fill=\"#000000\" font-family=\"sans-serif\" font-size=\"11\" lengthAdjust=\"spacingAndGlyphs\" textLength=\"14\" x=\"13\" y=\"131.1714\">A3</text><line style=\"stroke: #383838; stroke-width: 1.0;\" x1=\"8\" x2=\"32\" y1=\"88.9492\" y2=\"88.9492\"/><text fill=\"#000000\" font-family=\"sans-serif\" font-size=\"11\" lengthAdjust=\"spacingAndGlyphs\" textLength=\"41\" x=\"32\" y=\"92.2573\">actions</text><line style=\"stroke: #383838; stroke-width: 1.0;\" x1=\"73\" x2=\"97\" y1=\"88.9492\" y2=\"88.9492\"/><text fill=\"#000000\" font-family=\"sans-serif\" font-size=\"11\" lengthAdjust=\"spacingAndGlyphs\" textLength=\"32\" x=\"13\" y=\"160.7808\">test x</text><line style=\"stroke: #383838; stroke-width: 1.0;\" x1=\"8\" x2=\"11\" y1=\"144.168\" y2=\"144.168\"/><text fill=\"#000000\" font-family=\"sans-serif\" font-size=\"11\" lengthAdjust=\"spacingAndGlyphs\" textLength=\"83\" x=\"11\" y=\"147.4761\">decisionNodes</text><line style=\"stroke: #383838; stroke-width: 1.0;\" x1=\"94\" x2=\"97\" y1=\"144.168\" y2=\"144.168\"/><text fill=\"#000000\" font-family=\"sans-serif\" font-size=\"11\" lengthAdjust=\"spacingAndGlyphs\" textLength=\"8\" x=\"13\" y=\"190.3901\">S</text><line style=\"stroke: #383838; stroke-width: 1.0;\" x1=\"8\" x2=\"22\" y1=\"173.7773\" y2=\"173.7773\"/><text fill=\"#000000\" font-family=\"sans-serif\" font-size=\"11\" lengthAdjust=\"spacingAndGlyphs\" textLength=\"61\" x=\"22\" y=\"177.0854\">transitions</text><line style=\"stroke: #383838; stroke-width: 1.0;\" x1=\"83\" x2=\"97\" y1=\"173.7773\" y2=\"173.7773\"/></a><!--MD5=[13b132487af54f9973f78eb67d8bdb43]\n",
       "@startuml\r\n",
       "skinparam monochrome true\r\n",
       "skinparam classbackgroundcolor white\r\n",
       "skinparam shadowing false\r\n",
       "skinparam wrapWidth 300\r\n",
       "hide circle\r\n",
       "\r\n",
       "comp def \"DecisionTest\" as E1  <<(T,blue)action def>> [[psysml:704d58b1-847a-4b5f-8ef4-b4da5c2432eb ]] {\r\n",
       "- - attributes - -\r\n",
       "x=1; \r\n",
       "- - actions - -\r\n",
       "A1\r\n",
       "A2\r\n",
       "A3\r\n",
       "- - decisionNodes - -\r\n",
       "test x\r\n",
       "- - transitions - -\r\n",
       "S\r\n",
       "}\r\n",
       "@enduml\r\n",
       "\n",
       "PlantUML version 1.2020.13(Sat Jun 13 12:26:38 UTC 2020)\n",
       "(EPL source distribution)\n",
       "Java Runtime: OpenJDK Runtime Environment\n",
       "JVM: OpenJDK 64-Bit Server VM\n",
       "Default Encoding: UTF-8\n",
       "Language: en\n",
       "Country: null\n",
       "--></g></svg>"
      ]
     },
     "execution_count": 38,
     "metadata": {},
     "output_type": "execute_result"
    }
   ],
   "source": [
    "%viz --style=\"DEFAULT\" --view=\"Tree\" \"DecisionTest\""
   ]
  },
  {
   "cell_type": "code",
   "execution_count": 39,
   "id": "d9eaaf0b",
   "metadata": {
    "execution": {
     "iopub.execute_input": "2021-04-20T07:01:22.516573Z",
     "iopub.status.busy": "2021-04-20T07:01:22.516182Z",
     "iopub.status.idle": "2021-04-20T07:01:22.521204Z",
     "shell.execute_reply": "2021-04-20T07:01:22.520863Z"
    }
   },
   "outputs": [
    {
     "data": {
      "image/svg+xml": [
       "<?xml version=\"1.0\" encoding=\"UTF-8\" standalone=\"no\"?><svg xmlns=\"http://www.w3.org/2000/svg\" xmlns:xlink=\"http://www.w3.org/1999/xlink\" contentScriptType=\"application/ecmascript\" contentStyleType=\"text/css\" height=\"12px\" preserveAspectRatio=\"none\" style=\"width:12px;height:12px;\" version=\"1.1\" viewBox=\"0 0 12 12\" width=\"12px\" zoomAndPan=\"magnify\"><defs/><g><!--MD5=[c5f280e076d0d61ccf4b0f27871bda1d]\n",
       "@startuml\r\n",
       "skinparam monochrome true\r\n",
       "skinparam classbackgroundcolor white\r\n",
       "skinparam shadowing false\r\n",
       "skinparam wrapWidth 300\r\n",
       "hide circle\r\n",
       "\r\n",
       "@enduml\r\n",
       "\n",
       "PlantUML version 1.2020.13(Sat Jun 13 12:26:38 UTC 2020)\n",
       "(EPL source distribution)\n",
       "Java Runtime: OpenJDK Runtime Environment\n",
       "JVM: OpenJDK 64-Bit Server VM\n",
       "Default Encoding: UTF-8\n",
       "Language: en\n",
       "Country: null\n",
       "--></g></svg>"
      ]
     },
     "execution_count": 39,
     "metadata": {},
     "output_type": "execute_result"
    }
   ],
   "source": [
    "%viz --style=\"DEFAULT\" --view=\"State\" \"DecisionTest\""
   ]
  },
  {
   "cell_type": "code",
   "execution_count": 40,
   "id": "4625ff8c",
   "metadata": {
    "execution": {
     "iopub.execute_input": "2021-04-20T07:01:22.580035Z",
     "iopub.status.busy": "2021-04-20T07:01:22.579325Z",
     "iopub.status.idle": "2021-04-20T07:01:22.616332Z",
     "shell.execute_reply": "2021-04-20T07:01:22.615744Z"
    }
   },
   "outputs": [
    {
     "data": {
      "image/svg+xml": [
       "<?xml version=\"1.0\" encoding=\"UTF-8\" standalone=\"no\"?><svg xmlns=\"http://www.w3.org/2000/svg\" xmlns:xlink=\"http://www.w3.org/1999/xlink\" contentScriptType=\"application/ecmascript\" contentStyleType=\"text/css\" height=\"384px\" preserveAspectRatio=\"none\" style=\"width:333px;height:384px;\" version=\"1.1\" viewBox=\"0 0 333 384\" width=\"333px\" zoomAndPan=\"magnify\"><defs/><g><!--MD5=[fbc87193dbaf4d95561dea2c320d4a47]\n",
       "cluster E1--><a href=\"psysml:704d58b1-847a-4b5f-8ef4-b4da5c2432eb\" target=\"_top\" title=\"psysml:704d58b1-847a-4b5f-8ef4-b4da5c2432eb\" xlink:actuate=\"onRequest\" xlink:href=\"psysml:704d58b1-847a-4b5f-8ef4-b4da5c2432eb\" xlink:show=\"new\" xlink:title=\"psysml:704d58b1-847a-4b5f-8ef4-b4da5c2432eb\" xlink:type=\"simple\"><rect fill=\"#FFFFFF\" height=\"344.72\" id=\"E1\" style=\"stroke: #383838; stroke-width: 1.5;\" width=\"315\" x=\"7\" y=\"7\"/><rect fill=\"#F8F8F8\" height=\"37.9375\" style=\"stroke: #383838; stroke-width: 1.5;\" width=\"315\" x=\"7\" y=\"7\"/><text fill=\"#000000\" font-family=\"sans-serif\" font-size=\"12\" font-style=\"italic\" lengthAdjust=\"spacingAndGlyphs\" textLength=\"77\" x=\"126\" y=\"23.1387\">«action def»</text><text fill=\"#000000\" font-family=\"sans-serif\" font-size=\"12\" lengthAdjust=\"spacingAndGlyphs\" textLength=\"80\" x=\"124.5\" y=\"37.1074\">DecisionTest</text></a><text fill=\"#000000\" font-family=\"sans-serif\" font-size=\"14\" lengthAdjust=\"spacingAndGlyphs\" textLength=\"48\" x=\"140\" y=\"370.7151\">$result</text><rect fill=\"#383838\" height=\"12\" style=\"stroke: #F8F8F8; stroke-width: 1.5;\" width=\"12\" x=\"158\" y=\"345.72\"/><polygon fill=\"#F8F8F8\" points=\"141,28.5,153,40.5,141,52.5,129,40.5,141,28.5\" style=\"stroke: #383838; stroke-width: 1.5;\"/><polygon fill=\"#F8F8F8\" points=\"35,126.5,47,138.5,35,150.5,23,138.5,35,126.5\" style=\"stroke: #383838; stroke-width: 1.5;\"/><g id=\"E1.E5\"><a href=\"psysml:f4b16115-f2df-4145-8494-1e5aced0fe90\" target=\"_top\" title=\"psysml:f4b16115-f2df-4145-8494-1e5aced0fe90\" xlink:actuate=\"onRequest\" xlink:href=\"psysml:f4b16115-f2df-4145-8494-1e5aced0fe90\" xlink:show=\"new\" xlink:title=\"psysml:f4b16115-f2df-4145-8494-1e5aced0fe90\" xlink:type=\"simple\"><rect fill=\"#FFFFFF\" height=\"42.9375\" id=\"E5\" rx=\"10\" ry=\"10\" style=\"stroke: #383838; stroke-width: 1.5;\" width=\"60\" x=\"135\" y=\"193\"/><rect fill=\"#F8F8F8\" height=\"37.9375\" rx=\"10\" ry=\"10\" style=\"stroke: #F8F8F8; stroke-width: 1.5;\" width=\"60\" x=\"135\" y=\"193\"/><rect fill=\"#F8F8F8\" height=\"10\" style=\"stroke: #F8F8F8; stroke-width: 1.5;\" width=\"60\" x=\"135\" y=\"220.9375\"/><rect fill=\"none\" height=\"42.9375\" id=\"E5\" rx=\"10\" ry=\"10\" style=\"stroke: #383838; stroke-width: 1.5;\" width=\"60\" x=\"135\" y=\"193\"/><text fill=\"#000000\" font-family=\"sans-serif\" font-size=\"12\" font-style=\"italic\" lengthAdjust=\"spacingAndGlyphs\" textLength=\"53\" x=\"138.5\" y=\"209.1387\">«action»</text><text fill=\"#000000\" font-family=\"sans-serif\" font-size=\"12\" lengthAdjust=\"spacingAndGlyphs\" textLength=\"16\" x=\"157\" y=\"223.1074\">A1</text></a></g><g id=\"E1.E6\"><a href=\"psysml:ffb4dce0-5cb8-4add-9e67-ebd1f2f3deb3\" target=\"_top\" title=\"psysml:ffb4dce0-5cb8-4add-9e67-ebd1f2f3deb3\" xlink:actuate=\"onRequest\" xlink:href=\"psysml:ffb4dce0-5cb8-4add-9e67-ebd1f2f3deb3\" xlink:show=\"new\" xlink:title=\"psysml:ffb4dce0-5cb8-4add-9e67-ebd1f2f3deb3\" xlink:type=\"simple\"><rect fill=\"#FFFFFF\" height=\"42.9375\" id=\"E6\" rx=\"10\" ry=\"10\" style=\"stroke: #383838; stroke-width: 1.5;\" width=\"60\" x=\"135\" y=\"269\"/><rect fill=\"#F8F8F8\" height=\"37.9375\" rx=\"10\" ry=\"10\" style=\"stroke: #F8F8F8; stroke-width: 1.5;\" width=\"60\" x=\"135\" y=\"269\"/><rect fill=\"#F8F8F8\" height=\"10\" style=\"stroke: #F8F8F8; stroke-width: 1.5;\" width=\"60\" x=\"135\" y=\"296.9375\"/><rect fill=\"none\" height=\"42.9375\" id=\"E6\" rx=\"10\" ry=\"10\" style=\"stroke: #383838; stroke-width: 1.5;\" width=\"60\" x=\"135\" y=\"269\"/><text fill=\"#000000\" font-family=\"sans-serif\" font-size=\"12\" font-style=\"italic\" lengthAdjust=\"spacingAndGlyphs\" textLength=\"53\" x=\"138.5\" y=\"285.1387\">«action»</text><text fill=\"#000000\" font-family=\"sans-serif\" font-size=\"12\" lengthAdjust=\"spacingAndGlyphs\" textLength=\"16\" x=\"157\" y=\"299.1074\">A2</text></a></g><g id=\"E1.E7\"><a href=\"psysml:dc91d98e-27d3-4fe3-8c05-9cedeab5907b\" target=\"_top\" title=\"psysml:dc91d98e-27d3-4fe3-8c05-9cedeab5907b\" xlink:actuate=\"onRequest\" xlink:href=\"psysml:dc91d98e-27d3-4fe3-8c05-9cedeab5907b\" xlink:show=\"new\" xlink:title=\"psysml:dc91d98e-27d3-4fe3-8c05-9cedeab5907b\" xlink:type=\"simple\"><rect fill=\"#FFFFFF\" height=\"42.9375\" id=\"E7\" rx=\"10\" ry=\"10\" style=\"stroke: #383838; stroke-width: 1.5;\" width=\"60\" x=\"46\" y=\"66\"/><rect fill=\"#F8F8F8\" height=\"37.9375\" rx=\"10\" ry=\"10\" style=\"stroke: #F8F8F8; stroke-width: 1.5;\" width=\"60\" x=\"46\" y=\"66\"/><rect fill=\"#F8F8F8\" height=\"10\" style=\"stroke: #F8F8F8; stroke-width: 1.5;\" width=\"60\" x=\"46\" y=\"93.9375\"/><rect fill=\"none\" height=\"42.9375\" id=\"E7\" rx=\"10\" ry=\"10\" style=\"stroke: #383838; stroke-width: 1.5;\" width=\"60\" x=\"46\" y=\"66\"/><text fill=\"#000000\" font-family=\"sans-serif\" font-size=\"12\" font-style=\"italic\" lengthAdjust=\"spacingAndGlyphs\" textLength=\"53\" x=\"49.5\" y=\"82.1387\">«action»</text><text fill=\"#000000\" font-family=\"sans-serif\" font-size=\"12\" lengthAdjust=\"spacingAndGlyphs\" textLength=\"16\" x=\"68\" y=\"96.1074\">A3</text></a></g><g id=\"E1.E8\"><a href=\"psysml:dc91d98e-27d3-4fe3-8c05-9cedeab5907b\" target=\"_top\" title=\"psysml:dc91d98e-27d3-4fe3-8c05-9cedeab5907b\" xlink:actuate=\"onRequest\" xlink:href=\"psysml:dc91d98e-27d3-4fe3-8c05-9cedeab5907b\" xlink:show=\"new\" xlink:title=\"psysml:dc91d98e-27d3-4fe3-8c05-9cedeab5907b\" xlink:type=\"simple\"><rect fill=\"#FFFFFF\" height=\"42.9375\" id=\"E8\" rx=\"10\" ry=\"10\" style=\"stroke: #383838; stroke-width: 1.5;\" width=\"60\" x=\"246\" y=\"117\"/><rect fill=\"#F8F8F8\" height=\"37.9375\" rx=\"10\" ry=\"10\" style=\"stroke: #F8F8F8; stroke-width: 1.5;\" width=\"60\" x=\"246\" y=\"117\"/><rect fill=\"#F8F8F8\" height=\"10\" style=\"stroke: #F8F8F8; stroke-width: 1.5;\" width=\"60\" x=\"246\" y=\"144.9375\"/><rect fill=\"none\" height=\"42.9375\" id=\"E8\" rx=\"10\" ry=\"10\" style=\"stroke: #383838; stroke-width: 1.5;\" width=\"60\" x=\"246\" y=\"117\"/><text fill=\"#000000\" font-family=\"sans-serif\" font-size=\"12\" font-style=\"italic\" lengthAdjust=\"spacingAndGlyphs\" textLength=\"53\" x=\"249.5\" y=\"133.1387\">«action»</text><text fill=\"#000000\" font-family=\"sans-serif\" font-size=\"12\" lengthAdjust=\"spacingAndGlyphs\" textLength=\"16\" x=\"268\" y=\"147.1074\">A3</text></a></g><!--MD5=[0188b64bb0ae78505a997a81836e11e9]\n",
       "link E3 to E5--><a href=\"psysml:f0c1a87b-40f9-41dd-914f-8704a756a2ee\" target=\"_top\" title=\"psysml:f0c1a87b-40f9-41dd-914f-8704a756a2ee\" xlink:actuate=\"onRequest\" xlink:href=\"psysml:f0c1a87b-40f9-41dd-914f-8704a756a2ee\" xlink:show=\"new\" xlink:title=\"psysml:f0c1a87b-40f9-41dd-914f-8704a756a2ee\" xlink:type=\"simple\"><path d=\"M140.07,51.78 C138.47,72.5 136.04,120.67 144,160 C145.92,169.49 149.4,179.47 152.99,188.21 \" fill=\"none\" id=\"E3-&gt;E5\" style=\"stroke: #383838; stroke-width: 1.0;\"/><polygon fill=\"#383838\" points=\"154.98,192.92,155.1631,183.0728,153.0346,188.314,147.7935,186.1855,154.98,192.92\" style=\"stroke: #383838; stroke-width: 1.0;\"/><text fill=\"#000000\" font-family=\"sans-serif\" font-size=\"13\" lengthAdjust=\"spacingAndGlyphs\" textLength=\"55\" x=\"145\" y=\"143.0669\">[x == 1]</text></a><!--MD5=[ec9844e0c75763426927cad3229d1081]\n",
       "link E3 to E6--><a href=\"psysml:534d6032-2416-43d2-b21b-3e106f4a7f5b\" target=\"_top\" title=\"psysml:534d6032-2416-43d2-b21b-3e106f4a7f5b\" xlink:actuate=\"onRequest\" xlink:href=\"psysml:534d6032-2416-43d2-b21b-3e106f4a7f5b\" xlink:show=\"new\" xlink:title=\"psysml:534d6032-2416-43d2-b21b-3e106f4a7f5b\" xlink:type=\"simple\"><path d=\"M147.17,46.62 C160.24,57.84 190.71,86.12 205,117 C229.03,168.92 221.32,186.98 226,244 C226.62,251.53 230.06,254.63 226,261 C220.01,270.41 210.02,276.76 199.83,281.03 \" fill=\"none\" id=\"E3-&gt;E6\" style=\"stroke: #383838; stroke-width: 1.0;\"/><polygon fill=\"#383838\" points=\"195.15,282.85,204.9881,283.3102,199.8089,281.035,202.0841,275.8559,195.15,282.85\" style=\"stroke: #383838; stroke-width: 1.0;\"/><text fill=\"#000000\" font-family=\"sans-serif\" font-size=\"13\" lengthAdjust=\"spacingAndGlyphs\" textLength=\"44\" x=\"224\" y=\"181.0669\">[x &gt; 1]</text></a><!--MD5=[ca5a752d6098d8a44b3f88316e7452d1]\n",
       "link E3 to E8--><a href=\"psysml:e6958018-0280-470d-866d-790aaedd3d9a\" target=\"_top\" title=\"psysml:e6958018-0280-470d-866d-790aaedd3d9a\" xlink:actuate=\"onRequest\" xlink:href=\"psysml:e6958018-0280-470d-866d-790aaedd3d9a\" xlink:show=\"new\" xlink:title=\"psysml:e6958018-0280-470d-866d-790aaedd3d9a\" xlink:type=\"simple\"><path d=\"M147.65,45.88 C153.56,49.59 162.55,54.81 171,58 C186.34,63.79 195.35,54.47 207,66 C220.94,79.81 204.74,93.68 217,109 C223.18,116.72 231.96,122.48 240.86,126.73 \" fill=\"none\" id=\"E3-&gt;E8\" style=\"stroke: #383838; stroke-width: 1.0;\"/><polygon fill=\"#383838\" points=\"245.81,128.93,239.2251,121.6061,241.2451,126.89,235.9612,128.91,245.81,128.93\" style=\"stroke: #383838; stroke-width: 1.0;\"/></a><!--MD5=[95fa686b5a16158bcdbcaeead89f639b]\n",
       "link E8 to E3--><a href=\"psysml:7eebbea4-be3a-4ef1-ac68-fab402045136\" target=\"_top\" title=\"psysml:7eebbea4-be3a-4ef1-ac68-fab402045136\" xlink:actuate=\"onRequest\" xlink:href=\"psysml:7eebbea4-be3a-4ef1-ac68-fab402045136\" xlink:show=\"new\" xlink:title=\"psysml:7eebbea4-be3a-4ef1-ac68-fab402045136\" xlink:type=\"simple\"><path d=\"M253.3,116.74 C250.77,114.19 248.29,111.58 246,109 C230.2,91.18 234.22,78.6 214,66 C197.5,55.72 189.3,64.54 171,58 C164.35,55.62 157.42,51.9 151.89,48.59 \" fill=\"none\" id=\"E8-&gt;E3\" style=\"stroke: #383838; stroke-width: 1.0;\"/><polygon fill=\"#383838\" points=\"147.62,45.95,153.1764,54.0818,151.8744,48.5769,157.3793,47.2748,147.62,45.95\" style=\"stroke: #383838; stroke-width: 1.0;\"/><text fill=\"#000000\" font-family=\"sans-serif\" font-size=\"13\" lengthAdjust=\"spacingAndGlyphs\" textLength=\"44\" x=\"247\" y=\"92.0669\">[x &gt; 0]</text></a><!--MD5=[af87c684e3b0d8be13c1a698a818ef1e]\n",
       "link E3 to E4--><a href=\"psysml:b2a8f402-8a6f-47b5-a176-34e34a53fa41\" target=\"_top\" title=\"psysml:b2a8f402-8a6f-47b5-a176-34e34a53fa41\" xlink:actuate=\"onRequest\" xlink:href=\"psysml:b2a8f402-8a6f-47b5-a176-34e34a53fa41\" xlink:show=\"new\" xlink:title=\"psysml:b2a8f402-8a6f-47b5-a176-34e34a53fa41\" xlink:type=\"simple\"><path d=\"M130.87,42.54 C108.03,45.11 53.64,52.54 42,66 C28.37,81.77 29.55,107.42 32.02,123.33 \" fill=\"none\" id=\"E3-&gt;E4\" style=\"stroke: #383838; stroke-width: 1.0;\"/><polygon fill=\"#383838\" points=\"32.88,128.32,35.3057,118.7745,32.0372,123.3915,27.4201,120.1231,32.88,128.32\" style=\"stroke: #383838; stroke-width: 1.0;\"/></a><!--MD5=[1b7591eae5389033d8d09a9d6721a717]\n",
       "link E4 to E5--><a href=\"psysml:d4e4cf4f-ca71-4ae2-aa8b-453c4e696e69\" target=\"_top\" title=\"psysml:d4e4cf4f-ca71-4ae2-aa8b-453c4e696e69\" xlink:actuate=\"onRequest\" xlink:href=\"psysml:d4e4cf4f-ca71-4ae2-aa8b-453c4e696e69\" xlink:show=\"new\" xlink:title=\"psysml:d4e4cf4f-ca71-4ae2-aa8b-453c4e696e69\" xlink:type=\"simple\"><path d=\"M40.09,145.69 C48.35,155.37 65.62,174.11 84,185 C93.67,190.73 97.38,189.32 108,193 C115.1,195.46 122.69,198.15 129.93,200.74 \" fill=\"none\" id=\"E4-&gt;E5\" style=\"stroke: #383838; stroke-width: 1.0;\"/><polygon fill=\"#383838\" points=\"134.87,202.52,127.7488,195.7164,130.1636,200.832,125.048,203.2467,134.87,202.52\" style=\"stroke: #383838; stroke-width: 1.0;\"/><text fill=\"#000000\" font-family=\"sans-serif\" font-size=\"13\" lengthAdjust=\"spacingAndGlyphs\" textLength=\"36\" x=\"85\" y=\"181.0669\">[true]</text></a><!--MD5=[79568f1e445c3877b6a54524624ccc7d]\n",
       "link E4 to E6--><a href=\"psysml:07d2ed15-614f-457b-995c-67ac116a921b\" target=\"_top\" title=\"psysml:07d2ed15-614f-457b-995c-67ac116a921b\" xlink:actuate=\"onRequest\" xlink:href=\"psysml:07d2ed15-614f-457b-995c-67ac116a921b\" xlink:show=\"new\" xlink:title=\"psysml:07d2ed15-614f-457b-995c-67ac116a921b\" xlink:type=\"simple\"><path d=\"M36.89,148.77 C41.08,167.27 52.64,209.28 76,236 C90.77,252.89 112.21,266 130.35,275.02 \" fill=\"none\" id=\"E4-&gt;E6\" style=\"stroke: #383838; stroke-width: 1.0;\"/><polygon fill=\"#383838\" points=\"134.88,277.22,128.532,269.6898,130.3825,275.0355,125.0368,276.8859,134.88,277.22\" style=\"stroke: #383838; stroke-width: 1.0;\"/><text fill=\"#000000\" font-family=\"sans-serif\" font-size=\"13\" lengthAdjust=\"spacingAndGlyphs\" textLength=\"40\" x=\"77\" y=\"219.0669\">[false]</text></a><!--MD5=[9120cf2e5df3bff93db8f754bbbc09b4]\n",
       "link E5 to E6--><a href=\"psysml:b67ea915-0e8a-4542-80c4-8f1f8e1002d6\" target=\"_top\" title=\"psysml:b67ea915-0e8a-4542-80c4-8f1f8e1002d6\" xlink:actuate=\"onRequest\" xlink:href=\"psysml:b67ea915-0e8a-4542-80c4-8f1f8e1002d6\" xlink:show=\"new\" xlink:title=\"psysml:b67ea915-0e8a-4542-80c4-8f1f8e1002d6\" xlink:type=\"simple\"><path d=\"M165,236.11 C165,244.69 165,254.75 165,263.8 \" fill=\"none\" id=\"E5-&gt;E6\" style=\"stroke: #383838; stroke-width: 1.0;\"/><polygon fill=\"#383838\" points=\"165,269,169,260,165,264,161,260,165,269\" style=\"stroke: #383838; stroke-width: 1.0;\"/><text fill=\"#000000\" font-family=\"sans-serif\" font-size=\"13\" lengthAdjust=\"spacingAndGlyphs\" textLength=\"55\" x=\"166\" y=\"257.0669\">[x == 0]</text></a><!--MD5=[cf0c2a25af565a3a31f6d8b9ff061a7c]\n",
       "@startuml\r\n",
       "skinparam ranksep 10\r\n",
       "skinparam rectangle {\r\n",
       " backgroundColor<<block>> LightGreen\r\n",
       "}\r\n",
       "skinparam monochrome true\r\n",
       "skinparam classbackgroundcolor white\r\n",
       "skinparam shadowing false\r\n",
       "skinparam wrapWidth 300\r\n",
       "hide circle\r\n",
       "\r\n",
       "rec def \"DecisionTest\" as E1  <<(T,blue)action def>> [[psysml:704d58b1-847a-4b5f-8ef4-b4da5c2432eb ]] {\r\n",
       "portout \"$result\" as E2  [[psysml:d3db88a9-d6e2-4728-bacb-cdc83b04fb60 ]] \r\n",
       "choice \"test x\" as E3  [[psysml:07816a00-a6c6-49d5-84be-841a1e7e2f6a ]] \r\n",
       "choice \"noname\" as E4  [[psysml:26311404-6ce6-4dcd-89ed-d43ec51ac22a ]] \r\n",
       "rec usage \"A1\" as E5  <<(T,blue)action>> [[psysml:f4b16115-f2df-4145-8494-1e5aced0fe90 ]] {\r\n",
       "}\r\n",
       "\r\n",
       "rec usage \"A2\" as E6  <<(T,blue)action>> [[psysml:ffb4dce0-5cb8-4add-9e67-ebd1f2f3deb3 ]] {\r\n",
       "}\r\n",
       "\r\n",
       "rec usage \"A3\" as E7  <<(T,blue)action>> [[psysml:dc91d98e-27d3-4fe3-8c05-9cedeab5907b ]] {\r\n",
       "}\r\n",
       "\r\n",
       "rec usage \"A3\" as E8  <<(T,blue)action>> [[psysml:dc91d98e-27d3-4fe3-8c05-9cedeab5907b ]] {\r\n",
       "}\r\n",
       "\r\n",
       "}\r\n",
       "\r\n",
       "E3  - -> E5 [[psysml:f0c1a87b-40f9-41dd-914f-8704a756a2ee ]] : [x == 1]\r\n",
       "E3  - -> E6 [[psysml:534d6032-2416-43d2-b21b-3e106f4a7f5b ]] : [x > 1]\r\n",
       "E3  - -> E8 [[psysml:e6958018-0280-470d-866d-790aaedd3d9a ]] \r\n",
       "E3 - -> E4 [[psysml:b2a8f402-8a6f-47b5-a176-34e34a53fa41 ]] \r\n",
       "E4  - -> E5 [[psysml:d4e4cf4f-ca71-4ae2-aa8b-453c4e696e69 ]] : [true]\r\n",
       "E4  - -> E6 [[psysml:07d2ed15-614f-457b-995c-67ac116a921b ]] : [false]\r\n",
       "E5  - -> E6 [[psysml:b67ea915-0e8a-4542-80c4-8f1f8e1002d6 ]] : [x == 0]\r\n",
       "E8  - -> E3 [[psysml:7eebbea4-be3a-4ef1-ac68-fab402045136 ]] : [x > 0]\r\n",
       "@enduml\r\n",
       "\n",
       "PlantUML version 1.2020.13(Sat Jun 13 12:26:38 UTC 2020)\n",
       "(EPL source distribution)\n",
       "Java Runtime: OpenJDK Runtime Environment\n",
       "JVM: OpenJDK 64-Bit Server VM\n",
       "Default Encoding: UTF-8\n",
       "Language: en\n",
       "Country: null\n",
       "--></g></svg>"
      ]
     },
     "execution_count": 40,
     "metadata": {},
     "output_type": "execute_result"
    }
   ],
   "source": [
    "%viz --style=\"DEFAULT\" --view=\"Interconnection\" \"DecisionTest\""
   ]
  },
  {
   "cell_type": "code",
   "execution_count": 41,
   "id": "a6d78e5a",
   "metadata": {
    "execution": {
     "iopub.execute_input": "2021-04-20T07:01:22.667552Z",
     "iopub.status.busy": "2021-04-20T07:01:22.667169Z",
     "iopub.status.idle": "2021-04-20T07:01:22.705086Z",
     "shell.execute_reply": "2021-04-20T07:01:22.703709Z"
    }
   },
   "outputs": [
    {
     "data": {
      "image/svg+xml": [
       "<?xml version=\"1.0\" encoding=\"UTF-8\" standalone=\"no\"?><svg xmlns=\"http://www.w3.org/2000/svg\" xmlns:xlink=\"http://www.w3.org/1999/xlink\" contentScriptType=\"application/ecmascript\" contentStyleType=\"text/css\" height=\"384px\" preserveAspectRatio=\"none\" style=\"width:333px;height:384px;\" version=\"1.1\" viewBox=\"0 0 333 384\" width=\"333px\" zoomAndPan=\"magnify\"><defs/><g><!--MD5=[fbc87193dbaf4d95561dea2c320d4a47]\n",
       "cluster E1--><a href=\"psysml:704d58b1-847a-4b5f-8ef4-b4da5c2432eb\" target=\"_top\" title=\"psysml:704d58b1-847a-4b5f-8ef4-b4da5c2432eb\" xlink:actuate=\"onRequest\" xlink:href=\"psysml:704d58b1-847a-4b5f-8ef4-b4da5c2432eb\" xlink:show=\"new\" xlink:title=\"psysml:704d58b1-847a-4b5f-8ef4-b4da5c2432eb\" xlink:type=\"simple\"><rect fill=\"#FFFFFF\" height=\"344.72\" id=\"E1\" style=\"stroke: #383838; stroke-width: 1.5;\" width=\"315\" x=\"7\" y=\"7\"/><rect fill=\"#F8F8F8\" height=\"37.9375\" style=\"stroke: #383838; stroke-width: 1.5;\" width=\"315\" x=\"7\" y=\"7\"/><text fill=\"#000000\" font-family=\"sans-serif\" font-size=\"12\" font-style=\"italic\" lengthAdjust=\"spacingAndGlyphs\" textLength=\"77\" x=\"126\" y=\"23.1387\">«action def»</text><text fill=\"#000000\" font-family=\"sans-serif\" font-size=\"12\" lengthAdjust=\"spacingAndGlyphs\" textLength=\"80\" x=\"124.5\" y=\"37.1074\">DecisionTest</text></a><text fill=\"#000000\" font-family=\"sans-serif\" font-size=\"14\" lengthAdjust=\"spacingAndGlyphs\" textLength=\"48\" x=\"140\" y=\"370.7151\">$result</text><rect fill=\"#383838\" height=\"12\" style=\"stroke: #F8F8F8; stroke-width: 1.5;\" width=\"12\" x=\"158\" y=\"345.72\"/><polygon fill=\"#F8F8F8\" points=\"141,28.5,153,40.5,141,52.5,129,40.5,141,28.5\" style=\"stroke: #383838; stroke-width: 1.5;\"/><polygon fill=\"#F8F8F8\" points=\"35,126.5,47,138.5,35,150.5,23,138.5,35,126.5\" style=\"stroke: #383838; stroke-width: 1.5;\"/><g id=\"E1.E5\"><a href=\"psysml:f4b16115-f2df-4145-8494-1e5aced0fe90\" target=\"_top\" title=\"psysml:f4b16115-f2df-4145-8494-1e5aced0fe90\" xlink:actuate=\"onRequest\" xlink:href=\"psysml:f4b16115-f2df-4145-8494-1e5aced0fe90\" xlink:show=\"new\" xlink:title=\"psysml:f4b16115-f2df-4145-8494-1e5aced0fe90\" xlink:type=\"simple\"><rect fill=\"#FFFFFF\" height=\"42.9375\" id=\"E5\" rx=\"10\" ry=\"10\" style=\"stroke: #383838; stroke-width: 1.5;\" width=\"60\" x=\"135\" y=\"193\"/><rect fill=\"#F8F8F8\" height=\"37.9375\" rx=\"10\" ry=\"10\" style=\"stroke: #F8F8F8; stroke-width: 1.5;\" width=\"60\" x=\"135\" y=\"193\"/><rect fill=\"#F8F8F8\" height=\"10\" style=\"stroke: #F8F8F8; stroke-width: 1.5;\" width=\"60\" x=\"135\" y=\"220.9375\"/><rect fill=\"none\" height=\"42.9375\" id=\"E5\" rx=\"10\" ry=\"10\" style=\"stroke: #383838; stroke-width: 1.5;\" width=\"60\" x=\"135\" y=\"193\"/><text fill=\"#000000\" font-family=\"sans-serif\" font-size=\"12\" font-style=\"italic\" lengthAdjust=\"spacingAndGlyphs\" textLength=\"53\" x=\"138.5\" y=\"209.1387\">«action»</text><text fill=\"#000000\" font-family=\"sans-serif\" font-size=\"12\" lengthAdjust=\"spacingAndGlyphs\" textLength=\"16\" x=\"157\" y=\"223.1074\">A1</text></a></g><g id=\"E1.E6\"><a href=\"psysml:ffb4dce0-5cb8-4add-9e67-ebd1f2f3deb3\" target=\"_top\" title=\"psysml:ffb4dce0-5cb8-4add-9e67-ebd1f2f3deb3\" xlink:actuate=\"onRequest\" xlink:href=\"psysml:ffb4dce0-5cb8-4add-9e67-ebd1f2f3deb3\" xlink:show=\"new\" xlink:title=\"psysml:ffb4dce0-5cb8-4add-9e67-ebd1f2f3deb3\" xlink:type=\"simple\"><rect fill=\"#FFFFFF\" height=\"42.9375\" id=\"E6\" rx=\"10\" ry=\"10\" style=\"stroke: #383838; stroke-width: 1.5;\" width=\"60\" x=\"135\" y=\"269\"/><rect fill=\"#F8F8F8\" height=\"37.9375\" rx=\"10\" ry=\"10\" style=\"stroke: #F8F8F8; stroke-width: 1.5;\" width=\"60\" x=\"135\" y=\"269\"/><rect fill=\"#F8F8F8\" height=\"10\" style=\"stroke: #F8F8F8; stroke-width: 1.5;\" width=\"60\" x=\"135\" y=\"296.9375\"/><rect fill=\"none\" height=\"42.9375\" id=\"E6\" rx=\"10\" ry=\"10\" style=\"stroke: #383838; stroke-width: 1.5;\" width=\"60\" x=\"135\" y=\"269\"/><text fill=\"#000000\" font-family=\"sans-serif\" font-size=\"12\" font-style=\"italic\" lengthAdjust=\"spacingAndGlyphs\" textLength=\"53\" x=\"138.5\" y=\"285.1387\">«action»</text><text fill=\"#000000\" font-family=\"sans-serif\" font-size=\"12\" lengthAdjust=\"spacingAndGlyphs\" textLength=\"16\" x=\"157\" y=\"299.1074\">A2</text></a></g><g id=\"E1.E7\"><a href=\"psysml:dc91d98e-27d3-4fe3-8c05-9cedeab5907b\" target=\"_top\" title=\"psysml:dc91d98e-27d3-4fe3-8c05-9cedeab5907b\" xlink:actuate=\"onRequest\" xlink:href=\"psysml:dc91d98e-27d3-4fe3-8c05-9cedeab5907b\" xlink:show=\"new\" xlink:title=\"psysml:dc91d98e-27d3-4fe3-8c05-9cedeab5907b\" xlink:type=\"simple\"><rect fill=\"#FFFFFF\" height=\"42.9375\" id=\"E7\" rx=\"10\" ry=\"10\" style=\"stroke: #383838; stroke-width: 1.5;\" width=\"60\" x=\"46\" y=\"66\"/><rect fill=\"#F8F8F8\" height=\"37.9375\" rx=\"10\" ry=\"10\" style=\"stroke: #F8F8F8; stroke-width: 1.5;\" width=\"60\" x=\"46\" y=\"66\"/><rect fill=\"#F8F8F8\" height=\"10\" style=\"stroke: #F8F8F8; stroke-width: 1.5;\" width=\"60\" x=\"46\" y=\"93.9375\"/><rect fill=\"none\" height=\"42.9375\" id=\"E7\" rx=\"10\" ry=\"10\" style=\"stroke: #383838; stroke-width: 1.5;\" width=\"60\" x=\"46\" y=\"66\"/><text fill=\"#000000\" font-family=\"sans-serif\" font-size=\"12\" font-style=\"italic\" lengthAdjust=\"spacingAndGlyphs\" textLength=\"53\" x=\"49.5\" y=\"82.1387\">«action»</text><text fill=\"#000000\" font-family=\"sans-serif\" font-size=\"12\" lengthAdjust=\"spacingAndGlyphs\" textLength=\"16\" x=\"68\" y=\"96.1074\">A3</text></a></g><g id=\"E1.E8\"><a href=\"psysml:dc91d98e-27d3-4fe3-8c05-9cedeab5907b\" target=\"_top\" title=\"psysml:dc91d98e-27d3-4fe3-8c05-9cedeab5907b\" xlink:actuate=\"onRequest\" xlink:href=\"psysml:dc91d98e-27d3-4fe3-8c05-9cedeab5907b\" xlink:show=\"new\" xlink:title=\"psysml:dc91d98e-27d3-4fe3-8c05-9cedeab5907b\" xlink:type=\"simple\"><rect fill=\"#FFFFFF\" height=\"42.9375\" id=\"E8\" rx=\"10\" ry=\"10\" style=\"stroke: #383838; stroke-width: 1.5;\" width=\"60\" x=\"246\" y=\"117\"/><rect fill=\"#F8F8F8\" height=\"37.9375\" rx=\"10\" ry=\"10\" style=\"stroke: #F8F8F8; stroke-width: 1.5;\" width=\"60\" x=\"246\" y=\"117\"/><rect fill=\"#F8F8F8\" height=\"10\" style=\"stroke: #F8F8F8; stroke-width: 1.5;\" width=\"60\" x=\"246\" y=\"144.9375\"/><rect fill=\"none\" height=\"42.9375\" id=\"E8\" rx=\"10\" ry=\"10\" style=\"stroke: #383838; stroke-width: 1.5;\" width=\"60\" x=\"246\" y=\"117\"/><text fill=\"#000000\" font-family=\"sans-serif\" font-size=\"12\" font-style=\"italic\" lengthAdjust=\"spacingAndGlyphs\" textLength=\"53\" x=\"249.5\" y=\"133.1387\">«action»</text><text fill=\"#000000\" font-family=\"sans-serif\" font-size=\"12\" lengthAdjust=\"spacingAndGlyphs\" textLength=\"16\" x=\"268\" y=\"147.1074\">A3</text></a></g><!--MD5=[0188b64bb0ae78505a997a81836e11e9]\n",
       "link E3 to E5--><a href=\"psysml:f0c1a87b-40f9-41dd-914f-8704a756a2ee\" target=\"_top\" title=\"psysml:f0c1a87b-40f9-41dd-914f-8704a756a2ee\" xlink:actuate=\"onRequest\" xlink:href=\"psysml:f0c1a87b-40f9-41dd-914f-8704a756a2ee\" xlink:show=\"new\" xlink:title=\"psysml:f0c1a87b-40f9-41dd-914f-8704a756a2ee\" xlink:type=\"simple\"><path d=\"M140.07,51.78 C138.47,72.5 136.04,120.67 144,160 C145.92,169.49 149.4,179.47 152.99,188.21 \" fill=\"none\" id=\"E3-&gt;E5\" style=\"stroke: #383838; stroke-width: 1.0; stroke-dasharray: 7.0,7.0;\"/><polygon fill=\"#383838\" points=\"154.98,192.92,155.1631,183.0728,153.0346,188.314,147.7935,186.1855,154.98,192.92\" style=\"stroke: #383838; stroke-width: 1.0;\"/><text fill=\"#000000\" font-family=\"sans-serif\" font-size=\"13\" lengthAdjust=\"spacingAndGlyphs\" textLength=\"55\" x=\"145\" y=\"143.0669\">[x == 1]</text></a><!--MD5=[ec9844e0c75763426927cad3229d1081]\n",
       "link E3 to E6--><a href=\"psysml:534d6032-2416-43d2-b21b-3e106f4a7f5b\" target=\"_top\" title=\"psysml:534d6032-2416-43d2-b21b-3e106f4a7f5b\" xlink:actuate=\"onRequest\" xlink:href=\"psysml:534d6032-2416-43d2-b21b-3e106f4a7f5b\" xlink:show=\"new\" xlink:title=\"psysml:534d6032-2416-43d2-b21b-3e106f4a7f5b\" xlink:type=\"simple\"><path d=\"M147.17,46.62 C160.24,57.84 190.71,86.12 205,117 C229.03,168.92 221.32,186.98 226,244 C226.62,251.53 230.06,254.63 226,261 C220.01,270.41 210.02,276.76 199.83,281.03 \" fill=\"none\" id=\"E3-&gt;E6\" style=\"stroke: #383838; stroke-width: 1.0; stroke-dasharray: 7.0,7.0;\"/><polygon fill=\"#383838\" points=\"195.15,282.85,204.9881,283.3102,199.8089,281.035,202.0841,275.8559,195.15,282.85\" style=\"stroke: #383838; stroke-width: 1.0;\"/><text fill=\"#000000\" font-family=\"sans-serif\" font-size=\"13\" lengthAdjust=\"spacingAndGlyphs\" textLength=\"44\" x=\"224\" y=\"181.0669\">[x &gt; 1]</text></a><!--MD5=[ca5a752d6098d8a44b3f88316e7452d1]\n",
       "link E3 to E8--><a href=\"psysml:e6958018-0280-470d-866d-790aaedd3d9a\" target=\"_top\" title=\"psysml:e6958018-0280-470d-866d-790aaedd3d9a\" xlink:actuate=\"onRequest\" xlink:href=\"psysml:e6958018-0280-470d-866d-790aaedd3d9a\" xlink:show=\"new\" xlink:title=\"psysml:e6958018-0280-470d-866d-790aaedd3d9a\" xlink:type=\"simple\"><path d=\"M147.65,45.88 C153.56,49.59 162.55,54.81 171,58 C186.34,63.79 195.35,54.47 207,66 C220.94,79.81 204.74,93.68 217,109 C223.18,116.72 231.96,122.48 240.86,126.73 \" fill=\"none\" id=\"E3-&gt;E8\" style=\"stroke: #383838; stroke-width: 1.0; stroke-dasharray: 7.0,7.0;\"/><polygon fill=\"#383838\" points=\"245.81,128.93,239.2251,121.6061,241.2451,126.89,235.9612,128.91,245.81,128.93\" style=\"stroke: #383838; stroke-width: 1.0;\"/></a><!--MD5=[95fa686b5a16158bcdbcaeead89f639b]\n",
       "link E8 to E3--><a href=\"psysml:7eebbea4-be3a-4ef1-ac68-fab402045136\" target=\"_top\" title=\"psysml:7eebbea4-be3a-4ef1-ac68-fab402045136\" xlink:actuate=\"onRequest\" xlink:href=\"psysml:7eebbea4-be3a-4ef1-ac68-fab402045136\" xlink:show=\"new\" xlink:title=\"psysml:7eebbea4-be3a-4ef1-ac68-fab402045136\" xlink:type=\"simple\"><path d=\"M253.3,116.74 C250.77,114.19 248.29,111.58 246,109 C230.2,91.18 234.22,78.6 214,66 C197.5,55.72 189.3,64.54 171,58 C164.35,55.62 157.42,51.9 151.89,48.59 \" fill=\"none\" id=\"E8-&gt;E3\" style=\"stroke: #383838; stroke-width: 1.0; stroke-dasharray: 7.0,7.0;\"/><polygon fill=\"#383838\" points=\"147.62,45.95,153.1764,54.0818,151.8744,48.5769,157.3793,47.2748,147.62,45.95\" style=\"stroke: #383838; stroke-width: 1.0;\"/><text fill=\"#000000\" font-family=\"sans-serif\" font-size=\"13\" lengthAdjust=\"spacingAndGlyphs\" textLength=\"44\" x=\"247\" y=\"92.0669\">[x &gt; 0]</text></a><!--MD5=[af87c684e3b0d8be13c1a698a818ef1e]\n",
       "link E3 to E4--><a href=\"psysml:b2a8f402-8a6f-47b5-a176-34e34a53fa41\" target=\"_top\" title=\"psysml:b2a8f402-8a6f-47b5-a176-34e34a53fa41\" xlink:actuate=\"onRequest\" xlink:href=\"psysml:b2a8f402-8a6f-47b5-a176-34e34a53fa41\" xlink:show=\"new\" xlink:title=\"psysml:b2a8f402-8a6f-47b5-a176-34e34a53fa41\" xlink:type=\"simple\"><path d=\"M130.87,42.54 C108.03,45.11 53.64,52.54 42,66 C28.37,81.77 29.55,107.42 32.02,123.33 \" fill=\"none\" id=\"E3-&gt;E4\" style=\"stroke: #383838; stroke-width: 1.0; stroke-dasharray: 7.0,7.0;\"/><polygon fill=\"#383838\" points=\"32.88,128.32,35.3057,118.7745,32.0372,123.3915,27.4201,120.1231,32.88,128.32\" style=\"stroke: #383838; stroke-width: 1.0;\"/></a><!--MD5=[1b7591eae5389033d8d09a9d6721a717]\n",
       "link E4 to E5--><a href=\"psysml:d4e4cf4f-ca71-4ae2-aa8b-453c4e696e69\" target=\"_top\" title=\"psysml:d4e4cf4f-ca71-4ae2-aa8b-453c4e696e69\" xlink:actuate=\"onRequest\" xlink:href=\"psysml:d4e4cf4f-ca71-4ae2-aa8b-453c4e696e69\" xlink:show=\"new\" xlink:title=\"psysml:d4e4cf4f-ca71-4ae2-aa8b-453c4e696e69\" xlink:type=\"simple\"><path d=\"M40.09,145.69 C48.35,155.37 65.62,174.11 84,185 C93.67,190.73 97.38,189.32 108,193 C115.1,195.46 122.69,198.15 129.93,200.74 \" fill=\"none\" id=\"E4-&gt;E5\" style=\"stroke: #383838; stroke-width: 1.0; stroke-dasharray: 7.0,7.0;\"/><polygon fill=\"#383838\" points=\"134.87,202.52,127.7488,195.7164,130.1636,200.832,125.048,203.2467,134.87,202.52\" style=\"stroke: #383838; stroke-width: 1.0;\"/><text fill=\"#000000\" font-family=\"sans-serif\" font-size=\"13\" lengthAdjust=\"spacingAndGlyphs\" textLength=\"36\" x=\"85\" y=\"181.0669\">[true]</text></a><!--MD5=[79568f1e445c3877b6a54524624ccc7d]\n",
       "link E4 to E6--><a href=\"psysml:07d2ed15-614f-457b-995c-67ac116a921b\" target=\"_top\" title=\"psysml:07d2ed15-614f-457b-995c-67ac116a921b\" xlink:actuate=\"onRequest\" xlink:href=\"psysml:07d2ed15-614f-457b-995c-67ac116a921b\" xlink:show=\"new\" xlink:title=\"psysml:07d2ed15-614f-457b-995c-67ac116a921b\" xlink:type=\"simple\"><path d=\"M36.89,148.77 C41.08,167.27 52.64,209.28 76,236 C90.77,252.89 112.21,266 130.35,275.02 \" fill=\"none\" id=\"E4-&gt;E6\" style=\"stroke: #383838; stroke-width: 1.0; stroke-dasharray: 7.0,7.0;\"/><polygon fill=\"#383838\" points=\"134.88,277.22,128.532,269.6898,130.3825,275.0355,125.0368,276.8859,134.88,277.22\" style=\"stroke: #383838; stroke-width: 1.0;\"/><text fill=\"#000000\" font-family=\"sans-serif\" font-size=\"13\" lengthAdjust=\"spacingAndGlyphs\" textLength=\"40\" x=\"77\" y=\"219.0669\">[false]</text></a><!--MD5=[9120cf2e5df3bff93db8f754bbbc09b4]\n",
       "link E5 to E6--><a href=\"psysml:b67ea915-0e8a-4542-80c4-8f1f8e1002d6\" target=\"_top\" title=\"psysml:b67ea915-0e8a-4542-80c4-8f1f8e1002d6\" xlink:actuate=\"onRequest\" xlink:href=\"psysml:b67ea915-0e8a-4542-80c4-8f1f8e1002d6\" xlink:show=\"new\" xlink:title=\"psysml:b67ea915-0e8a-4542-80c4-8f1f8e1002d6\" xlink:type=\"simple\"><path d=\"M165,236.11 C165,244.69 165,254.75 165,263.8 \" fill=\"none\" id=\"E5-&gt;E6\" style=\"stroke: #383838; stroke-width: 1.0; stroke-dasharray: 7.0,7.0;\"/><polygon fill=\"#383838\" points=\"165,269,169,260,165,264,161,260,165,269\" style=\"stroke: #383838; stroke-width: 1.0;\"/><text fill=\"#000000\" font-family=\"sans-serif\" font-size=\"13\" lengthAdjust=\"spacingAndGlyphs\" textLength=\"55\" x=\"166\" y=\"257.0669\">[x == 0]</text></a><!--MD5=[e2815acf1ac5f43fdb0932936aa40dac]\n",
       "@startuml\r\n",
       "skinparam ranksep 8\r\n",
       "skinparam monochrome true\r\n",
       "skinparam classbackgroundcolor white\r\n",
       "skinparam shadowing false\r\n",
       "skinparam wrapWidth 300\r\n",
       "hide circle\r\n",
       "\r\n",
       "rec def \"DecisionTest\" as E1  <<(T,blue)action def>> [[psysml:704d58b1-847a-4b5f-8ef4-b4da5c2432eb ]] {\r\n",
       "portout \"$result\" as E2  [[psysml:d3db88a9-d6e2-4728-bacb-cdc83b04fb60 ]] \r\n",
       "choice \"test x\" as E3  [[psysml:07816a00-a6c6-49d5-84be-841a1e7e2f6a ]] \r\n",
       "choice \"noname\" as E4  [[psysml:26311404-6ce6-4dcd-89ed-d43ec51ac22a ]] \r\n",
       "rec usage \"A1\" as E5  <<(T,blue)action>> [[psysml:f4b16115-f2df-4145-8494-1e5aced0fe90 ]] {\r\n",
       "}\r\n",
       "\r\n",
       "rec usage \"A2\" as E6  <<(T,blue)action>> [[psysml:ffb4dce0-5cb8-4add-9e67-ebd1f2f3deb3 ]] {\r\n",
       "}\r\n",
       "\r\n",
       "rec usage \"A3\" as E7  <<(T,blue)action>> [[psysml:dc91d98e-27d3-4fe3-8c05-9cedeab5907b ]] {\r\n",
       "}\r\n",
       "\r\n",
       "rec usage \"A3\" as E8  <<(T,blue)action>> [[psysml:dc91d98e-27d3-4fe3-8c05-9cedeab5907b ]] {\r\n",
       "}\r\n",
       "\r\n",
       "}\r\n",
       "\r\n",
       "E3 ..> E5 [[psysml:f0c1a87b-40f9-41dd-914f-8704a756a2ee ]] : [x == 1]\r\n",
       "E3 ..> E6 [[psysml:534d6032-2416-43d2-b21b-3e106f4a7f5b ]] : [x > 1]\r\n",
       "E3 ..> E8 [[psysml:e6958018-0280-470d-866d-790aaedd3d9a ]] \r\n",
       "E3 ..> E4 [[psysml:b2a8f402-8a6f-47b5-a176-34e34a53fa41 ]] \r\n",
       "E4 ..> E5 [[psysml:d4e4cf4f-ca71-4ae2-aa8b-453c4e696e69 ]] : [true]\r\n",
       "E4 ..> E6 [[psysml:07d2ed15-614f-457b-995c-67ac116a921b ]] : [false]\r\n",
       "E5 ..> E6 [[psysml:b67ea915-0e8a-4542-80c4-8f1f8e1002d6 ]] : [x == 0]\r\n",
       "E8 ..> E3 [[psysml:7eebbea4-be3a-4ef1-ac68-fab402045136 ]] : [x > 0]\r\n",
       "@enduml\r\n",
       "\n",
       "PlantUML version 1.2020.13(Sat Jun 13 12:26:38 UTC 2020)\n",
       "(EPL source distribution)\n",
       "Java Runtime: OpenJDK Runtime Environment\n",
       "JVM: OpenJDK 64-Bit Server VM\n",
       "Default Encoding: UTF-8\n",
       "Language: en\n",
       "Country: null\n",
       "--></g></svg>"
      ]
     },
     "execution_count": 41,
     "metadata": {},
     "output_type": "execute_result"
    }
   ],
   "source": [
    "%viz --style=\"DEFAULT\" --view=\"Action\" \"DecisionTest\""
   ]
  },
  {
   "cell_type": "code",
   "execution_count": 42,
   "id": "f6dc9afa",
   "metadata": {
    "execution": {
     "iopub.execute_input": "2021-04-20T07:01:22.754025Z",
     "iopub.status.busy": "2021-04-20T07:01:22.753500Z",
     "iopub.status.idle": "2021-04-20T07:01:22.838483Z",
     "shell.execute_reply": "2021-04-20T07:01:22.837805Z"
    }
   },
   "outputs": [
    {
     "data": {
      "image/svg+xml": [
       "<?xml version=\"1.0\" encoding=\"UTF-8\" standalone=\"no\"?><svg xmlns=\"http://www.w3.org/2000/svg\" xmlns:xlink=\"http://www.w3.org/1999/xlink\" contentScriptType=\"application/ecmascript\" contentStyleType=\"text/css\" height=\"207px\" preserveAspectRatio=\"none\" style=\"width:109px;height:207px;\" version=\"1.1\" viewBox=\"0 0 109 207\" width=\"109px\" zoomAndPan=\"magnify\"><defs/><g><!--MD5=[43c9051892ef23e1a46a86907403d788]\n",
       "class E1--><a href=\"psysml:704d58b1-847a-4b5f-8ef4-b4da5c2432eb\" target=\"_top\" title=\"psysml:704d58b1-847a-4b5f-8ef4-b4da5c2432eb\" xlink:actuate=\"onRequest\" xlink:href=\"psysml:704d58b1-847a-4b5f-8ef4-b4da5c2432eb\" xlink:show=\"new\" xlink:title=\"psysml:704d58b1-847a-4b5f-8ef4-b4da5c2432eb\" xlink:type=\"simple\"><rect fill=\"#FFFFFF\" height=\"189.9844\" id=\"E1\" style=\"stroke: #383838; stroke-width: 1.5;\" width=\"91\" x=\"7\" y=\"7\"/><text fill=\"#000000\" font-family=\"sans-serif\" font-size=\"12\" font-style=\"italic\" lengthAdjust=\"spacingAndGlyphs\" textLength=\"77\" x=\"14\" y=\"23.1387\">«action def»</text><text fill=\"#000000\" font-family=\"sans-serif\" font-size=\"12\" lengthAdjust=\"spacingAndGlyphs\" textLength=\"80\" x=\"12.5\" y=\"37.1074\">DecisionTest</text><line style=\"stroke: #383838; stroke-width: 1.5;\" x1=\"8\" x2=\"97\" y1=\"44.9375\" y2=\"44.9375\"/><text fill=\"#000000\" font-family=\"sans-serif\" font-size=\"11\" lengthAdjust=\"spacingAndGlyphs\" textLength=\"26\" x=\"13\" y=\"75.9526\">x=1;</text><line style=\"stroke: #383838; stroke-width: 1.0;\" x1=\"8\" x2=\"25\" y1=\"59.3398\" y2=\"59.3398\"/><text fill=\"#000000\" font-family=\"sans-serif\" font-size=\"11\" lengthAdjust=\"spacingAndGlyphs\" textLength=\"55\" x=\"25\" y=\"62.6479\">attributes</text><line style=\"stroke: #383838; stroke-width: 1.0;\" x1=\"80\" x2=\"97\" y1=\"59.3398\" y2=\"59.3398\"/><text fill=\"#000000\" font-family=\"sans-serif\" font-size=\"11\" lengthAdjust=\"spacingAndGlyphs\" textLength=\"14\" x=\"13\" y=\"105.562\">A1</text><text fill=\"#000000\" font-family=\"sans-serif\" font-size=\"11\" lengthAdjust=\"spacingAndGlyphs\" textLength=\"14\" x=\"13\" y=\"118.3667\">A2</text><text fill=\"#000000\" font-family=\"sans-serif\" font-size=\"11\" lengthAdjust=\"spacingAndGlyphs\" textLength=\"14\" x=\"13\" y=\"131.1714\">A3</text><line style=\"stroke: #383838; stroke-width: 1.0;\" x1=\"8\" x2=\"32\" y1=\"88.9492\" y2=\"88.9492\"/><text fill=\"#000000\" font-family=\"sans-serif\" font-size=\"11\" lengthAdjust=\"spacingAndGlyphs\" textLength=\"41\" x=\"32\" y=\"92.2573\">actions</text><line style=\"stroke: #383838; stroke-width: 1.0;\" x1=\"73\" x2=\"97\" y1=\"88.9492\" y2=\"88.9492\"/><text fill=\"#000000\" font-family=\"sans-serif\" font-size=\"11\" lengthAdjust=\"spacingAndGlyphs\" textLength=\"32\" x=\"13\" y=\"160.7808\">test x</text><line style=\"stroke: #383838; stroke-width: 1.0;\" x1=\"8\" x2=\"11\" y1=\"144.168\" y2=\"144.168\"/><text fill=\"#000000\" font-family=\"sans-serif\" font-size=\"11\" lengthAdjust=\"spacingAndGlyphs\" textLength=\"83\" x=\"11\" y=\"147.4761\">decisionNodes</text><line style=\"stroke: #383838; stroke-width: 1.0;\" x1=\"94\" x2=\"97\" y1=\"144.168\" y2=\"144.168\"/><text fill=\"#000000\" font-family=\"sans-serif\" font-size=\"11\" lengthAdjust=\"spacingAndGlyphs\" textLength=\"8\" x=\"13\" y=\"190.3901\">S</text><line style=\"stroke: #383838; stroke-width: 1.0;\" x1=\"8\" x2=\"22\" y1=\"173.7773\" y2=\"173.7773\"/><text fill=\"#000000\" font-family=\"sans-serif\" font-size=\"11\" lengthAdjust=\"spacingAndGlyphs\" textLength=\"61\" x=\"22\" y=\"177.0854\">transitions</text><line style=\"stroke: #383838; stroke-width: 1.0;\" x1=\"83\" x2=\"97\" y1=\"173.7773\" y2=\"173.7773\"/></a><!--MD5=[13b132487af54f9973f78eb67d8bdb43]\n",
       "@startuml\r\n",
       "skinparam monochrome true\r\n",
       "skinparam classbackgroundcolor white\r\n",
       "skinparam shadowing false\r\n",
       "skinparam wrapWidth 300\r\n",
       "hide circle\r\n",
       "\r\n",
       "comp def \"DecisionTest\" as E1  <<(T,blue)action def>> [[psysml:704d58b1-847a-4b5f-8ef4-b4da5c2432eb ]] {\r\n",
       "- - attributes - -\r\n",
       "x=1; \r\n",
       "- - actions - -\r\n",
       "A1\r\n",
       "A2\r\n",
       "A3\r\n",
       "- - decisionNodes - -\r\n",
       "test x\r\n",
       "- - transitions - -\r\n",
       "S\r\n",
       "}\r\n",
       "@enduml\r\n",
       "\n",
       "PlantUML version 1.2020.13(Sat Jun 13 12:26:38 UTC 2020)\n",
       "(EPL source distribution)\n",
       "Java Runtime: OpenJDK Runtime Environment\n",
       "JVM: OpenJDK 64-Bit Server VM\n",
       "Default Encoding: UTF-8\n",
       "Language: en\n",
       "Country: null\n",
       "--></g></svg>"
      ]
     },
     "execution_count": 42,
     "metadata": {},
     "output_type": "execute_result"
    }
   ],
   "source": [
    "%viz --style=\"DEFAULT\" --view=\"Sequence\" \"DecisionTest\""
   ]
  },
  {
   "cell_type": "code",
   "execution_count": 43,
   "id": "63be02ff",
   "metadata": {
    "execution": {
     "iopub.execute_input": "2021-04-20T07:01:22.890791Z",
     "iopub.status.busy": "2021-04-20T07:01:22.890209Z",
     "iopub.status.idle": "2021-04-20T07:01:22.932072Z",
     "shell.execute_reply": "2021-04-20T07:01:22.931713Z"
    }
   },
   "outputs": [
    {
     "data": {
      "image/svg+xml": [
       "<?xml version=\"1.0\" encoding=\"UTF-8\" standalone=\"no\"?><svg xmlns=\"http://www.w3.org/2000/svg\" xmlns:xlink=\"http://www.w3.org/1999/xlink\" contentScriptType=\"application/ecmascript\" contentStyleType=\"text/css\" height=\"574px\" preserveAspectRatio=\"none\" style=\"width:333px;height:574px;\" version=\"1.1\" viewBox=\"0 0 333 574\" width=\"333px\" zoomAndPan=\"magnify\"><defs/><g><!--MD5=[fbc87193dbaf4d95561dea2c320d4a47]\n",
       "cluster E1--><a href=\"psysml:704d58b1-847a-4b5f-8ef4-b4da5c2432eb\" target=\"_top\" title=\"psysml:704d58b1-847a-4b5f-8ef4-b4da5c2432eb\" xlink:actuate=\"onRequest\" xlink:href=\"psysml:704d58b1-847a-4b5f-8ef4-b4da5c2432eb\" xlink:show=\"new\" xlink:title=\"psysml:704d58b1-847a-4b5f-8ef4-b4da5c2432eb\" xlink:type=\"simple\"><rect fill=\"#FFFFFF\" height=\"534.72\" id=\"E1\" style=\"stroke: #383838; stroke-width: 1.5;\" width=\"315\" x=\"7\" y=\"7\"/><rect fill=\"#F8F8F8\" height=\"37.9375\" style=\"stroke: #383838; stroke-width: 1.5;\" width=\"315\" x=\"7\" y=\"7\"/><text fill=\"#000000\" font-family=\"sans-serif\" font-size=\"12\" font-style=\"italic\" lengthAdjust=\"spacingAndGlyphs\" textLength=\"77\" x=\"126\" y=\"23.1387\">«action def»</text><text fill=\"#000000\" font-family=\"sans-serif\" font-size=\"12\" lengthAdjust=\"spacingAndGlyphs\" textLength=\"80\" x=\"124.5\" y=\"37.1074\">DecisionTest</text></a><text fill=\"#000000\" font-family=\"sans-serif\" font-size=\"14\" lengthAdjust=\"spacingAndGlyphs\" textLength=\"48\" x=\"140\" y=\"560.7151\">$result</text><rect fill=\"#383838\" height=\"12\" style=\"stroke: #F8F8F8; stroke-width: 1.5;\" width=\"12\" x=\"158\" y=\"535.72\"/><polygon fill=\"#F8F8F8\" points=\"141,28.5,153,40.5,141,52.5,129,40.5,141,28.5\" style=\"stroke: #383838; stroke-width: 1.5;\"/><polygon fill=\"#F8F8F8\" points=\"35,170.5,47,182.5,35,194.5,23,182.5,35,170.5\" style=\"stroke: #383838; stroke-width: 1.5;\"/><g id=\"E1.E5\"><a href=\"psysml:f4b16115-f2df-4145-8494-1e5aced0fe90\" target=\"_top\" title=\"psysml:f4b16115-f2df-4145-8494-1e5aced0fe90\" xlink:actuate=\"onRequest\" xlink:href=\"psysml:f4b16115-f2df-4145-8494-1e5aced0fe90\" xlink:show=\"new\" xlink:title=\"psysml:f4b16115-f2df-4145-8494-1e5aced0fe90\" xlink:type=\"simple\"><rect fill=\"#FFFFFF\" height=\"42.9375\" id=\"E5\" rx=\"10\" ry=\"10\" style=\"stroke: #383838; stroke-width: 1.5;\" width=\"60\" x=\"135\" y=\"281\"/><rect fill=\"#F8F8F8\" height=\"37.9375\" rx=\"10\" ry=\"10\" style=\"stroke: #F8F8F8; stroke-width: 1.5;\" width=\"60\" x=\"135\" y=\"281\"/><rect fill=\"#F8F8F8\" height=\"10\" style=\"stroke: #F8F8F8; stroke-width: 1.5;\" width=\"60\" x=\"135\" y=\"308.9375\"/><rect fill=\"none\" height=\"42.9375\" id=\"E5\" rx=\"10\" ry=\"10\" style=\"stroke: #383838; stroke-width: 1.5;\" width=\"60\" x=\"135\" y=\"281\"/><text fill=\"#000000\" font-family=\"sans-serif\" font-size=\"12\" font-style=\"italic\" lengthAdjust=\"spacingAndGlyphs\" textLength=\"53\" x=\"138.5\" y=\"297.1387\">«action»</text><text fill=\"#000000\" font-family=\"sans-serif\" font-size=\"12\" lengthAdjust=\"spacingAndGlyphs\" textLength=\"16\" x=\"157\" y=\"311.1074\">A1</text></a></g><g id=\"E1.E6\"><a href=\"psysml:ffb4dce0-5cb8-4add-9e67-ebd1f2f3deb3\" target=\"_top\" title=\"psysml:ffb4dce0-5cb8-4add-9e67-ebd1f2f3deb3\" xlink:actuate=\"onRequest\" xlink:href=\"psysml:ffb4dce0-5cb8-4add-9e67-ebd1f2f3deb3\" xlink:show=\"new\" xlink:title=\"psysml:ffb4dce0-5cb8-4add-9e67-ebd1f2f3deb3\" xlink:type=\"simple\"><rect fill=\"#FFFFFF\" height=\"42.9375\" id=\"E6\" rx=\"10\" ry=\"10\" style=\"stroke: #383838; stroke-width: 1.5;\" width=\"60\" x=\"135\" y=\"401\"/><rect fill=\"#F8F8F8\" height=\"37.9375\" rx=\"10\" ry=\"10\" style=\"stroke: #F8F8F8; stroke-width: 1.5;\" width=\"60\" x=\"135\" y=\"401\"/><rect fill=\"#F8F8F8\" height=\"10\" style=\"stroke: #F8F8F8; stroke-width: 1.5;\" width=\"60\" x=\"135\" y=\"428.9375\"/><rect fill=\"none\" height=\"42.9375\" id=\"E6\" rx=\"10\" ry=\"10\" style=\"stroke: #383838; stroke-width: 1.5;\" width=\"60\" x=\"135\" y=\"401\"/><text fill=\"#000000\" font-family=\"sans-serif\" font-size=\"12\" font-style=\"italic\" lengthAdjust=\"spacingAndGlyphs\" textLength=\"53\" x=\"138.5\" y=\"417.1387\">«action»</text><text fill=\"#000000\" font-family=\"sans-serif\" font-size=\"12\" lengthAdjust=\"spacingAndGlyphs\" textLength=\"16\" x=\"157\" y=\"431.1074\">A2</text></a></g><g id=\"E1.E7\"><a href=\"psysml:dc91d98e-27d3-4fe3-8c05-9cedeab5907b\" target=\"_top\" title=\"psysml:dc91d98e-27d3-4fe3-8c05-9cedeab5907b\" xlink:actuate=\"onRequest\" xlink:href=\"psysml:dc91d98e-27d3-4fe3-8c05-9cedeab5907b\" xlink:show=\"new\" xlink:title=\"psysml:dc91d98e-27d3-4fe3-8c05-9cedeab5907b\" xlink:type=\"simple\"><rect fill=\"#FFFFFF\" height=\"42.9375\" id=\"E7\" rx=\"10\" ry=\"10\" style=\"stroke: #383838; stroke-width: 1.5;\" width=\"60\" x=\"46\" y=\"88\"/><rect fill=\"#F8F8F8\" height=\"37.9375\" rx=\"10\" ry=\"10\" style=\"stroke: #F8F8F8; stroke-width: 1.5;\" width=\"60\" x=\"46\" y=\"88\"/><rect fill=\"#F8F8F8\" height=\"10\" style=\"stroke: #F8F8F8; stroke-width: 1.5;\" width=\"60\" x=\"46\" y=\"115.9375\"/><rect fill=\"none\" height=\"42.9375\" id=\"E7\" rx=\"10\" ry=\"10\" style=\"stroke: #383838; stroke-width: 1.5;\" width=\"60\" x=\"46\" y=\"88\"/><text fill=\"#000000\" font-family=\"sans-serif\" font-size=\"12\" font-style=\"italic\" lengthAdjust=\"spacingAndGlyphs\" textLength=\"53\" x=\"49.5\" y=\"104.1387\">«action»</text><text fill=\"#000000\" font-family=\"sans-serif\" font-size=\"12\" lengthAdjust=\"spacingAndGlyphs\" textLength=\"16\" x=\"68\" y=\"118.1074\">A3</text></a></g><g id=\"E1.E8\"><a href=\"psysml:dc91d98e-27d3-4fe3-8c05-9cedeab5907b\" target=\"_top\" title=\"psysml:dc91d98e-27d3-4fe3-8c05-9cedeab5907b\" xlink:actuate=\"onRequest\" xlink:href=\"psysml:dc91d98e-27d3-4fe3-8c05-9cedeab5907b\" xlink:show=\"new\" xlink:title=\"psysml:dc91d98e-27d3-4fe3-8c05-9cedeab5907b\" xlink:type=\"simple\"><rect fill=\"#FFFFFF\" height=\"42.9375\" id=\"E8\" rx=\"10\" ry=\"10\" style=\"stroke: #383838; stroke-width: 1.5;\" width=\"60\" x=\"246\" y=\"161\"/><rect fill=\"#F8F8F8\" height=\"37.9375\" rx=\"10\" ry=\"10\" style=\"stroke: #F8F8F8; stroke-width: 1.5;\" width=\"60\" x=\"246\" y=\"161\"/><rect fill=\"#F8F8F8\" height=\"10\" style=\"stroke: #F8F8F8; stroke-width: 1.5;\" width=\"60\" x=\"246\" y=\"188.9375\"/><rect fill=\"none\" height=\"42.9375\" id=\"E8\" rx=\"10\" ry=\"10\" style=\"stroke: #383838; stroke-width: 1.5;\" width=\"60\" x=\"246\" y=\"161\"/><text fill=\"#000000\" font-family=\"sans-serif\" font-size=\"12\" font-style=\"italic\" lengthAdjust=\"spacingAndGlyphs\" textLength=\"53\" x=\"249.5\" y=\"177.1387\">«action»</text><text fill=\"#000000\" font-family=\"sans-serif\" font-size=\"12\" lengthAdjust=\"spacingAndGlyphs\" textLength=\"16\" x=\"268\" y=\"191.1074\">A3</text></a></g><!--MD5=[0188b64bb0ae78505a997a81836e11e9]\n",
       "link E3 to E5--><a href=\"psysml:f0c1a87b-40f9-41dd-914f-8704a756a2ee\" target=\"_top\" title=\"psysml:f0c1a87b-40f9-41dd-914f-8704a756a2ee\" xlink:actuate=\"onRequest\" xlink:href=\"psysml:f0c1a87b-40f9-41dd-914f-8704a756a2ee\" xlink:show=\"new\" xlink:title=\"psysml:f0c1a87b-40f9-41dd-914f-8704a756a2ee\" xlink:type=\"simple\"><path d=\"M140.49,52.19 C139.39,78.26 137.41,147.1 144,204 C146.84,228.53 153.03,255.98 157.96,275.49 \" fill=\"none\" id=\"E3-&gt;E5\" style=\"stroke: #383838; stroke-width: 1.0;\"/><polygon fill=\"#383838\" points=\"159.31,280.77,160.9741,271.0627,158.0805,275.9235,153.2197,273.0299,159.31,280.77\" style=\"stroke: #383838; stroke-width: 1.0;\"/><text fill=\"#000000\" font-family=\"sans-serif\" font-size=\"13\" lengthAdjust=\"spacingAndGlyphs\" textLength=\"55\" x=\"145\" y=\"187.0669\">[x == 1]</text></a><!--MD5=[ec9844e0c75763426927cad3229d1081]\n",
       "link E3 to E6--><a href=\"psysml:534d6032-2416-43d2-b21b-3e106f4a7f5b\" target=\"_top\" title=\"psysml:534d6032-2416-43d2-b21b-3e106f4a7f5b\" xlink:actuate=\"onRequest\" xlink:href=\"psysml:534d6032-2416-43d2-b21b-3e106f4a7f5b\" xlink:show=\"new\" xlink:title=\"psysml:534d6032-2416-43d2-b21b-3e106f4a7f5b\" xlink:type=\"simple\"><path d=\"M145.73,48.09 C157.96,65.53 190.67,114.68 205,161 C230.5,243.43 221.33,267.84 226,354 C226.41,361.54 229.22,364.16 226,371 C220.27,383.19 209.98,393.45 199.48,401.47 \" fill=\"none\" id=\"E3-&gt;E6\" style=\"stroke: #383838; stroke-width: 1.0;\"/><polygon fill=\"#383838\" points=\"195.29,404.54,204.9073,402.4168,199.3138,401.5721,200.1586,395.9786,195.29,404.54\" style=\"stroke: #383838; stroke-width: 1.0;\"/><text fill=\"#000000\" font-family=\"sans-serif\" font-size=\"13\" lengthAdjust=\"spacingAndGlyphs\" textLength=\"44\" x=\"223\" y=\"247.0669\">[x &gt; 1]</text></a><!--MD5=[ca5a752d6098d8a44b3f88316e7452d1]\n",
       "link E3 to E8--><a href=\"psysml:e6958018-0280-470d-866d-790aaedd3d9a\" target=\"_top\" title=\"psysml:e6958018-0280-470d-866d-790aaedd3d9a\" xlink:actuate=\"onRequest\" xlink:href=\"psysml:e6958018-0280-470d-866d-790aaedd3d9a\" xlink:show=\"new\" xlink:title=\"psysml:e6958018-0280-470d-866d-790aaedd3d9a\" xlink:type=\"simple\"><path d=\"M147.97,45.53 C163.29,54.53 199.17,76.37 207,88 C217.96,104.27 206.82,114.23 217,131 C223.37,141.49 232.66,150.9 242,158.68 \" fill=\"none\" id=\"E3-&gt;E8\" style=\"stroke: #383838; stroke-width: 1.0;\"/><polygon fill=\"#383838\" points=\"246,161.91,241.5179,153.1401,242.1124,158.7657,236.4869,159.3602,246,161.91\" style=\"stroke: #383838; stroke-width: 1.0;\"/></a><!--MD5=[95fa686b5a16158bcdbcaeead89f639b]\n",
       "link E8 to E3--><a href=\"psysml:7eebbea4-be3a-4ef1-ac68-fab402045136\" target=\"_top\" title=\"psysml:7eebbea4-be3a-4ef1-ac68-fab402045136\" xlink:actuate=\"onRequest\" xlink:href=\"psysml:7eebbea4-be3a-4ef1-ac68-fab402045136\" xlink:show=\"new\" xlink:title=\"psysml:7eebbea4-be3a-4ef1-ac68-fab402045136\" xlink:type=\"simple\"><path d=\"M263.71,160.86 C249.28,137.02 225.81,99.6 214,88 C204.2,78.38 171.17,58.79 153.08,48.37 \" fill=\"none\" id=\"E8-&gt;E3\" style=\"stroke: #383838; stroke-width: 1.0;\"/><polygon fill=\"#383838\" points=\"148.41,45.69,154.234,53.6323,152.7495,48.1738,158.208,46.6892,148.41,45.69\" style=\"stroke: #383838; stroke-width: 1.0;\"/><text fill=\"#000000\" font-family=\"sans-serif\" font-size=\"13\" lengthAdjust=\"spacingAndGlyphs\" textLength=\"44\" x=\"244\" y=\"114.0669\">[x &gt; 0]</text></a><!--MD5=[af87c684e3b0d8be13c1a698a818ef1e]\n",
       "link E3 to E4--><a href=\"psysml:b2a8f402-8a6f-47b5-a176-34e34a53fa41\" target=\"_top\" title=\"psysml:b2a8f402-8a6f-47b5-a176-34e34a53fa41\" xlink:actuate=\"onRequest\" xlink:href=\"psysml:b2a8f402-8a6f-47b5-a176-34e34a53fa41\" xlink:show=\"new\" xlink:title=\"psysml:b2a8f402-8a6f-47b5-a176-34e34a53fa41\" xlink:type=\"simple\"><path d=\"M131.03,42.86 C110.41,46.26 63.22,57.19 42,88 C25.54,111.89 28.61,147.84 31.99,167.47 \" fill=\"none\" id=\"E3-&gt;E4\" style=\"stroke: #383838; stroke-width: 1.0;\"/><polygon fill=\"#383838\" points=\"32.94,172.56,35.2263,162.9802,32.0255,167.6443,27.3613,164.4435,32.94,172.56\" style=\"stroke: #383838; stroke-width: 1.0;\"/></a><!--MD5=[1b7591eae5389033d8d09a9d6721a717]\n",
       "link E4 to E5--><a href=\"psysml:d4e4cf4f-ca71-4ae2-aa8b-453c4e696e69\" target=\"_top\" title=\"psysml:d4e4cf4f-ca71-4ae2-aa8b-453c4e696e69\" xlink:actuate=\"onRequest\" xlink:href=\"psysml:d4e4cf4f-ca71-4ae2-aa8b-453c4e696e69\" xlink:show=\"new\" xlink:title=\"psysml:d4e4cf4f-ca71-4ae2-aa8b-453c4e696e69\" xlink:type=\"simple\"><path d=\"M39.08,190.91 C46.63,204.15 63.87,232.24 84,251 C97.73,263.8 115.17,275.16 130.35,283.85 \" fill=\"none\" id=\"E4-&gt;E5\" style=\"stroke: #383838; stroke-width: 1.0;\"/><polygon fill=\"#383838\" points=\"134.98,286.46,129.0858,278.5696,130.6187,284.0148,125.1735,285.5477,134.98,286.46\" style=\"stroke: #383838; stroke-width: 1.0;\"/><text fill=\"#000000\" font-family=\"sans-serif\" font-size=\"13\" lengthAdjust=\"spacingAndGlyphs\" textLength=\"36\" x=\"85\" y=\"247.0669\">[true]</text></a><!--MD5=[79568f1e445c3877b6a54524624ccc7d]\n",
       "link E4 to E6--><a href=\"psysml:07d2ed15-614f-457b-995c-67ac116a921b\" target=\"_top\" title=\"psysml:07d2ed15-614f-457b-995c-67ac116a921b\" xlink:actuate=\"onRequest\" xlink:href=\"psysml:07d2ed15-614f-457b-995c-67ac116a921b\" xlink:show=\"new\" xlink:title=\"psysml:07d2ed15-614f-457b-995c-67ac116a921b\" xlink:type=\"simple\"><path d=\"M36.3,193.29 C39.76,217.03 50.73,279.03 76,324 C91.89,352.29 117.42,379.1 137.07,397.43 \" fill=\"none\" id=\"E4-&gt;E6\" style=\"stroke: #383838; stroke-width: 1.0;\"/><polygon fill=\"#383838\" points=\"140.92,400.98,137.0155,391.9382,137.2443,397.5904,131.5921,397.8192,140.92,400.98\" style=\"stroke: #383838; stroke-width: 1.0;\"/><text fill=\"#000000\" font-family=\"sans-serif\" font-size=\"13\" lengthAdjust=\"spacingAndGlyphs\" textLength=\"40\" x=\"77\" y=\"307.0669\">[false]</text></a><!--MD5=[9120cf2e5df3bff93db8f754bbbc09b4]\n",
       "link E5 to E6--><a href=\"psysml:b67ea915-0e8a-4542-80c4-8f1f8e1002d6\" target=\"_top\" title=\"psysml:b67ea915-0e8a-4542-80c4-8f1f8e1002d6\" xlink:actuate=\"onRequest\" xlink:href=\"psysml:b67ea915-0e8a-4542-80c4-8f1f8e1002d6\" xlink:show=\"new\" xlink:title=\"psysml:b67ea915-0e8a-4542-80c4-8f1f8e1002d6\" xlink:type=\"simple\"><path d=\"M165,324.05 C165,343.9 165,374.02 165,395.52 \" fill=\"none\" id=\"E5-&gt;E6\" style=\"stroke: #383838; stroke-width: 1.0;\"/><polygon fill=\"#383838\" points=\"165,400.79,169,391.79,165,395.79,161,391.79,165,400.79\" style=\"stroke: #383838; stroke-width: 1.0;\"/><text fill=\"#000000\" font-family=\"sans-serif\" font-size=\"13\" lengthAdjust=\"spacingAndGlyphs\" textLength=\"55\" x=\"166\" y=\"367.0669\">[x == 0]</text></a><!--MD5=[65dc443925679c963789bbd3b9a12942]\n",
       "@startuml\r\n",
       "skinparam monochrome true\r\n",
       "skinparam classbackgroundcolor white\r\n",
       "skinparam shadowing false\r\n",
       "skinparam wrapWidth 300\r\n",
       "hide circle\r\n",
       "\r\n",
       "rec def \"DecisionTest\" as E1  <<(T,blue)action def>> [[psysml:704d58b1-847a-4b5f-8ef4-b4da5c2432eb ]] {\r\n",
       "portout \"$result\" as E2  [[psysml:d3db88a9-d6e2-4728-bacb-cdc83b04fb60 ]] \r\n",
       "choice \"test x\" as E3  [[psysml:07816a00-a6c6-49d5-84be-841a1e7e2f6a ]] \r\n",
       "choice \"noname\" as E4  [[psysml:26311404-6ce6-4dcd-89ed-d43ec51ac22a ]] \r\n",
       "rec usage \"A1\" as E5  <<(T,blue)action>> [[psysml:f4b16115-f2df-4145-8494-1e5aced0fe90 ]] {\r\n",
       "}\r\n",
       "\r\n",
       "rec usage \"A2\" as E6  <<(T,blue)action>> [[psysml:ffb4dce0-5cb8-4add-9e67-ebd1f2f3deb3 ]] {\r\n",
       "}\r\n",
       "\r\n",
       "rec usage \"A3\" as E7  <<(T,blue)action>> [[psysml:dc91d98e-27d3-4fe3-8c05-9cedeab5907b ]] {\r\n",
       "}\r\n",
       "\r\n",
       "rec usage \"A3\" as E8  <<(T,blue)action>> [[psysml:dc91d98e-27d3-4fe3-8c05-9cedeab5907b ]] {\r\n",
       "}\r\n",
       "\r\n",
       "}\r\n",
       "\r\n",
       "E3  - -> E5 [[psysml:f0c1a87b-40f9-41dd-914f-8704a756a2ee ]] : [x == 1]\r\n",
       "E3  - -> E6 [[psysml:534d6032-2416-43d2-b21b-3e106f4a7f5b ]] : [x > 1]\r\n",
       "E3  - -> E8 [[psysml:e6958018-0280-470d-866d-790aaedd3d9a ]] \r\n",
       "E3 - -> E4 [[psysml:b2a8f402-8a6f-47b5-a176-34e34a53fa41 ]] \r\n",
       "E4  - -> E5 [[psysml:d4e4cf4f-ca71-4ae2-aa8b-453c4e696e69 ]] : [true]\r\n",
       "E4  - -> E6 [[psysml:07d2ed15-614f-457b-995c-67ac116a921b ]] : [false]\r\n",
       "E5  - -> E6 [[psysml:b67ea915-0e8a-4542-80c4-8f1f8e1002d6 ]] : [x == 0]\r\n",
       "E8  - -> E3 [[psysml:7eebbea4-be3a-4ef1-ac68-fab402045136 ]] : [x > 0]\r\n",
       "@enduml\r\n",
       "\n",
       "PlantUML version 1.2020.13(Sat Jun 13 12:26:38 UTC 2020)\n",
       "(EPL source distribution)\n",
       "Java Runtime: OpenJDK Runtime Environment\n",
       "JVM: OpenJDK 64-Bit Server VM\n",
       "Default Encoding: UTF-8\n",
       "Language: en\n",
       "Country: null\n",
       "--></g></svg>"
      ]
     },
     "execution_count": 43,
     "metadata": {},
     "output_type": "execute_result"
    }
   ],
   "source": [
    "%viz --style=\"DEFAULT\" --view=\"MIXED\" \"DecisionTest\""
   ]
  },
  {
   "cell_type": "code",
   "execution_count": 44,
   "id": "69907ecf",
   "metadata": {
    "execution": {
     "iopub.execute_input": "2021-04-20T07:01:22.982431Z",
     "iopub.status.busy": "2021-04-20T07:01:22.981727Z",
     "iopub.status.idle": "2021-04-20T07:01:23.018212Z",
     "shell.execute_reply": "2021-04-20T07:01:23.017646Z"
    }
   },
   "outputs": [
    {
     "data": {
      "image/svg+xml": [
       "<?xml version=\"1.0\" encoding=\"UTF-8\" standalone=\"no\"?><svg xmlns=\"http://www.w3.org/2000/svg\" xmlns:xlink=\"http://www.w3.org/1999/xlink\" contentScriptType=\"application/ecmascript\" contentStyleType=\"text/css\" height=\"574px\" preserveAspectRatio=\"none\" style=\"width:333px;height:574px;\" version=\"1.1\" viewBox=\"0 0 333 574\" width=\"333px\" zoomAndPan=\"magnify\"><defs/><g><!--MD5=[fbc87193dbaf4d95561dea2c320d4a47]\n",
       "cluster E1--><a href=\"psysml:704d58b1-847a-4b5f-8ef4-b4da5c2432eb\" target=\"_top\" title=\"psysml:704d58b1-847a-4b5f-8ef4-b4da5c2432eb\" xlink:actuate=\"onRequest\" xlink:href=\"psysml:704d58b1-847a-4b5f-8ef4-b4da5c2432eb\" xlink:show=\"new\" xlink:title=\"psysml:704d58b1-847a-4b5f-8ef4-b4da5c2432eb\" xlink:type=\"simple\"><rect fill=\"#FFFFFF\" height=\"534.72\" id=\"E1\" style=\"stroke: #383838; stroke-width: 1.5;\" width=\"315\" x=\"7\" y=\"7\"/><rect fill=\"#F8F8F8\" height=\"37.9375\" style=\"stroke: #383838; stroke-width: 1.5;\" width=\"315\" x=\"7\" y=\"7\"/><text fill=\"#000000\" font-family=\"sans-serif\" font-size=\"12\" font-style=\"italic\" lengthAdjust=\"spacingAndGlyphs\" textLength=\"77\" x=\"126\" y=\"23.1387\">«action def»</text><text fill=\"#000000\" font-family=\"sans-serif\" font-size=\"12\" lengthAdjust=\"spacingAndGlyphs\" textLength=\"80\" x=\"124.5\" y=\"37.1074\">DecisionTest</text></a><text fill=\"#000000\" font-family=\"sans-serif\" font-size=\"14\" lengthAdjust=\"spacingAndGlyphs\" textLength=\"48\" x=\"140\" y=\"560.7151\">$result</text><rect fill=\"#383838\" height=\"12\" style=\"stroke: #F8F8F8; stroke-width: 1.5;\" width=\"12\" x=\"158\" y=\"535.72\"/><polygon fill=\"#F8F8F8\" points=\"141,28.5,153,40.5,141,52.5,129,40.5,141,28.5\" style=\"stroke: #383838; stroke-width: 1.5;\"/><polygon fill=\"#F8F8F8\" points=\"35,170.5,47,182.5,35,194.5,23,182.5,35,170.5\" style=\"stroke: #383838; stroke-width: 1.5;\"/><g id=\"E1.E5\"><a href=\"psysml:f4b16115-f2df-4145-8494-1e5aced0fe90\" target=\"_top\" title=\"psysml:f4b16115-f2df-4145-8494-1e5aced0fe90\" xlink:actuate=\"onRequest\" xlink:href=\"psysml:f4b16115-f2df-4145-8494-1e5aced0fe90\" xlink:show=\"new\" xlink:title=\"psysml:f4b16115-f2df-4145-8494-1e5aced0fe90\" xlink:type=\"simple\"><rect fill=\"#FFFFFF\" height=\"42.9375\" id=\"E5\" rx=\"10\" ry=\"10\" style=\"stroke: #383838; stroke-width: 1.5;\" width=\"60\" x=\"135\" y=\"281\"/><rect fill=\"#F8F8F8\" height=\"37.9375\" rx=\"10\" ry=\"10\" style=\"stroke: #F8F8F8; stroke-width: 1.5;\" width=\"60\" x=\"135\" y=\"281\"/><rect fill=\"#F8F8F8\" height=\"10\" style=\"stroke: #F8F8F8; stroke-width: 1.5;\" width=\"60\" x=\"135\" y=\"308.9375\"/><rect fill=\"none\" height=\"42.9375\" id=\"E5\" rx=\"10\" ry=\"10\" style=\"stroke: #383838; stroke-width: 1.5;\" width=\"60\" x=\"135\" y=\"281\"/><text fill=\"#000000\" font-family=\"sans-serif\" font-size=\"12\" font-style=\"italic\" lengthAdjust=\"spacingAndGlyphs\" textLength=\"53\" x=\"138.5\" y=\"297.1387\">«action»</text><text fill=\"#000000\" font-family=\"sans-serif\" font-size=\"12\" lengthAdjust=\"spacingAndGlyphs\" textLength=\"16\" x=\"157\" y=\"311.1074\">A1</text></a></g><g id=\"E1.E6\"><a href=\"psysml:ffb4dce0-5cb8-4add-9e67-ebd1f2f3deb3\" target=\"_top\" title=\"psysml:ffb4dce0-5cb8-4add-9e67-ebd1f2f3deb3\" xlink:actuate=\"onRequest\" xlink:href=\"psysml:ffb4dce0-5cb8-4add-9e67-ebd1f2f3deb3\" xlink:show=\"new\" xlink:title=\"psysml:ffb4dce0-5cb8-4add-9e67-ebd1f2f3deb3\" xlink:type=\"simple\"><rect fill=\"#FFFFFF\" height=\"42.9375\" id=\"E6\" rx=\"10\" ry=\"10\" style=\"stroke: #383838; stroke-width: 1.5;\" width=\"60\" x=\"135\" y=\"401\"/><rect fill=\"#F8F8F8\" height=\"37.9375\" rx=\"10\" ry=\"10\" style=\"stroke: #F8F8F8; stroke-width: 1.5;\" width=\"60\" x=\"135\" y=\"401\"/><rect fill=\"#F8F8F8\" height=\"10\" style=\"stroke: #F8F8F8; stroke-width: 1.5;\" width=\"60\" x=\"135\" y=\"428.9375\"/><rect fill=\"none\" height=\"42.9375\" id=\"E6\" rx=\"10\" ry=\"10\" style=\"stroke: #383838; stroke-width: 1.5;\" width=\"60\" x=\"135\" y=\"401\"/><text fill=\"#000000\" font-family=\"sans-serif\" font-size=\"12\" font-style=\"italic\" lengthAdjust=\"spacingAndGlyphs\" textLength=\"53\" x=\"138.5\" y=\"417.1387\">«action»</text><text fill=\"#000000\" font-family=\"sans-serif\" font-size=\"12\" lengthAdjust=\"spacingAndGlyphs\" textLength=\"16\" x=\"157\" y=\"431.1074\">A2</text></a></g><g id=\"E1.E7\"><a href=\"psysml:dc91d98e-27d3-4fe3-8c05-9cedeab5907b\" target=\"_top\" title=\"psysml:dc91d98e-27d3-4fe3-8c05-9cedeab5907b\" xlink:actuate=\"onRequest\" xlink:href=\"psysml:dc91d98e-27d3-4fe3-8c05-9cedeab5907b\" xlink:show=\"new\" xlink:title=\"psysml:dc91d98e-27d3-4fe3-8c05-9cedeab5907b\" xlink:type=\"simple\"><rect fill=\"#FFFFFF\" height=\"42.9375\" id=\"E7\" rx=\"10\" ry=\"10\" style=\"stroke: #383838; stroke-width: 1.5;\" width=\"60\" x=\"46\" y=\"88\"/><rect fill=\"#F8F8F8\" height=\"37.9375\" rx=\"10\" ry=\"10\" style=\"stroke: #F8F8F8; stroke-width: 1.5;\" width=\"60\" x=\"46\" y=\"88\"/><rect fill=\"#F8F8F8\" height=\"10\" style=\"stroke: #F8F8F8; stroke-width: 1.5;\" width=\"60\" x=\"46\" y=\"115.9375\"/><rect fill=\"none\" height=\"42.9375\" id=\"E7\" rx=\"10\" ry=\"10\" style=\"stroke: #383838; stroke-width: 1.5;\" width=\"60\" x=\"46\" y=\"88\"/><text fill=\"#000000\" font-family=\"sans-serif\" font-size=\"12\" font-style=\"italic\" lengthAdjust=\"spacingAndGlyphs\" textLength=\"53\" x=\"49.5\" y=\"104.1387\">«action»</text><text fill=\"#000000\" font-family=\"sans-serif\" font-size=\"12\" lengthAdjust=\"spacingAndGlyphs\" textLength=\"16\" x=\"68\" y=\"118.1074\">A3</text></a></g><g id=\"E1.E8\"><a href=\"psysml:dc91d98e-27d3-4fe3-8c05-9cedeab5907b\" target=\"_top\" title=\"psysml:dc91d98e-27d3-4fe3-8c05-9cedeab5907b\" xlink:actuate=\"onRequest\" xlink:href=\"psysml:dc91d98e-27d3-4fe3-8c05-9cedeab5907b\" xlink:show=\"new\" xlink:title=\"psysml:dc91d98e-27d3-4fe3-8c05-9cedeab5907b\" xlink:type=\"simple\"><rect fill=\"#FFFFFF\" height=\"42.9375\" id=\"E8\" rx=\"10\" ry=\"10\" style=\"stroke: #383838; stroke-width: 1.5;\" width=\"60\" x=\"246\" y=\"161\"/><rect fill=\"#F8F8F8\" height=\"37.9375\" rx=\"10\" ry=\"10\" style=\"stroke: #F8F8F8; stroke-width: 1.5;\" width=\"60\" x=\"246\" y=\"161\"/><rect fill=\"#F8F8F8\" height=\"10\" style=\"stroke: #F8F8F8; stroke-width: 1.5;\" width=\"60\" x=\"246\" y=\"188.9375\"/><rect fill=\"none\" height=\"42.9375\" id=\"E8\" rx=\"10\" ry=\"10\" style=\"stroke: #383838; stroke-width: 1.5;\" width=\"60\" x=\"246\" y=\"161\"/><text fill=\"#000000\" font-family=\"sans-serif\" font-size=\"12\" font-style=\"italic\" lengthAdjust=\"spacingAndGlyphs\" textLength=\"53\" x=\"249.5\" y=\"177.1387\">«action»</text><text fill=\"#000000\" font-family=\"sans-serif\" font-size=\"12\" lengthAdjust=\"spacingAndGlyphs\" textLength=\"16\" x=\"268\" y=\"191.1074\">A3</text></a></g><!--MD5=[0188b64bb0ae78505a997a81836e11e9]\n",
       "link E3 to E5--><a href=\"psysml:f0c1a87b-40f9-41dd-914f-8704a756a2ee\" target=\"_top\" title=\"psysml:f0c1a87b-40f9-41dd-914f-8704a756a2ee\" xlink:actuate=\"onRequest\" xlink:href=\"psysml:f0c1a87b-40f9-41dd-914f-8704a756a2ee\" xlink:show=\"new\" xlink:title=\"psysml:f0c1a87b-40f9-41dd-914f-8704a756a2ee\" xlink:type=\"simple\"><path d=\"M140.49,52.19 C139.39,78.26 137.41,147.1 144,204 C146.84,228.53 153.03,255.98 157.96,275.49 \" fill=\"none\" id=\"E3-&gt;E5\" style=\"stroke: #383838; stroke-width: 1.0;\"/><polygon fill=\"#383838\" points=\"159.31,280.77,160.9741,271.0627,158.0805,275.9235,153.2197,273.0299,159.31,280.77\" style=\"stroke: #383838; stroke-width: 1.0;\"/><text fill=\"#000000\" font-family=\"sans-serif\" font-size=\"13\" lengthAdjust=\"spacingAndGlyphs\" textLength=\"55\" x=\"145\" y=\"187.0669\">[x == 1]</text></a><!--MD5=[ec9844e0c75763426927cad3229d1081]\n",
       "link E3 to E6--><a href=\"psysml:534d6032-2416-43d2-b21b-3e106f4a7f5b\" target=\"_top\" title=\"psysml:534d6032-2416-43d2-b21b-3e106f4a7f5b\" xlink:actuate=\"onRequest\" xlink:href=\"psysml:534d6032-2416-43d2-b21b-3e106f4a7f5b\" xlink:show=\"new\" xlink:title=\"psysml:534d6032-2416-43d2-b21b-3e106f4a7f5b\" xlink:type=\"simple\"><path d=\"M145.73,48.09 C157.96,65.53 190.67,114.68 205,161 C230.5,243.43 221.33,267.84 226,354 C226.41,361.54 229.22,364.16 226,371 C220.27,383.19 209.98,393.45 199.48,401.47 \" fill=\"none\" id=\"E3-&gt;E6\" style=\"stroke: #383838; stroke-width: 1.0;\"/><polygon fill=\"#383838\" points=\"195.29,404.54,204.9073,402.4168,199.3138,401.5721,200.1586,395.9786,195.29,404.54\" style=\"stroke: #383838; stroke-width: 1.0;\"/><text fill=\"#000000\" font-family=\"sans-serif\" font-size=\"13\" lengthAdjust=\"spacingAndGlyphs\" textLength=\"44\" x=\"223\" y=\"247.0669\">[x &gt; 1]</text></a><!--MD5=[ca5a752d6098d8a44b3f88316e7452d1]\n",
       "link E3 to E8--><a href=\"psysml:e6958018-0280-470d-866d-790aaedd3d9a\" target=\"_top\" title=\"psysml:e6958018-0280-470d-866d-790aaedd3d9a\" xlink:actuate=\"onRequest\" xlink:href=\"psysml:e6958018-0280-470d-866d-790aaedd3d9a\" xlink:show=\"new\" xlink:title=\"psysml:e6958018-0280-470d-866d-790aaedd3d9a\" xlink:type=\"simple\"><path d=\"M147.97,45.53 C163.29,54.53 199.17,76.37 207,88 C217.96,104.27 206.82,114.23 217,131 C223.37,141.49 232.66,150.9 242,158.68 \" fill=\"none\" id=\"E3-&gt;E8\" style=\"stroke: #383838; stroke-width: 1.0;\"/><polygon fill=\"#383838\" points=\"246,161.91,241.5179,153.1401,242.1124,158.7657,236.4869,159.3602,246,161.91\" style=\"stroke: #383838; stroke-width: 1.0;\"/></a><!--MD5=[95fa686b5a16158bcdbcaeead89f639b]\n",
       "link E8 to E3--><a href=\"psysml:7eebbea4-be3a-4ef1-ac68-fab402045136\" target=\"_top\" title=\"psysml:7eebbea4-be3a-4ef1-ac68-fab402045136\" xlink:actuate=\"onRequest\" xlink:href=\"psysml:7eebbea4-be3a-4ef1-ac68-fab402045136\" xlink:show=\"new\" xlink:title=\"psysml:7eebbea4-be3a-4ef1-ac68-fab402045136\" xlink:type=\"simple\"><path d=\"M263.71,160.86 C249.28,137.02 225.81,99.6 214,88 C204.2,78.38 171.17,58.79 153.08,48.37 \" fill=\"none\" id=\"E8-&gt;E3\" style=\"stroke: #383838; stroke-width: 1.0;\"/><polygon fill=\"#383838\" points=\"148.41,45.69,154.234,53.6323,152.7495,48.1738,158.208,46.6892,148.41,45.69\" style=\"stroke: #383838; stroke-width: 1.0;\"/><text fill=\"#000000\" font-family=\"sans-serif\" font-size=\"13\" lengthAdjust=\"spacingAndGlyphs\" textLength=\"44\" x=\"244\" y=\"114.0669\">[x &gt; 0]</text></a><!--MD5=[af87c684e3b0d8be13c1a698a818ef1e]\n",
       "link E3 to E4--><a href=\"psysml:b2a8f402-8a6f-47b5-a176-34e34a53fa41\" target=\"_top\" title=\"psysml:b2a8f402-8a6f-47b5-a176-34e34a53fa41\" xlink:actuate=\"onRequest\" xlink:href=\"psysml:b2a8f402-8a6f-47b5-a176-34e34a53fa41\" xlink:show=\"new\" xlink:title=\"psysml:b2a8f402-8a6f-47b5-a176-34e34a53fa41\" xlink:type=\"simple\"><path d=\"M131.03,42.86 C110.41,46.26 63.22,57.19 42,88 C25.54,111.89 28.61,147.84 31.99,167.47 \" fill=\"none\" id=\"E3-&gt;E4\" style=\"stroke: #383838; stroke-width: 1.0;\"/><polygon fill=\"#383838\" points=\"32.94,172.56,35.2263,162.9802,32.0255,167.6443,27.3613,164.4435,32.94,172.56\" style=\"stroke: #383838; stroke-width: 1.0;\"/></a><!--MD5=[1b7591eae5389033d8d09a9d6721a717]\n",
       "link E4 to E5--><a href=\"psysml:d4e4cf4f-ca71-4ae2-aa8b-453c4e696e69\" target=\"_top\" title=\"psysml:d4e4cf4f-ca71-4ae2-aa8b-453c4e696e69\" xlink:actuate=\"onRequest\" xlink:href=\"psysml:d4e4cf4f-ca71-4ae2-aa8b-453c4e696e69\" xlink:show=\"new\" xlink:title=\"psysml:d4e4cf4f-ca71-4ae2-aa8b-453c4e696e69\" xlink:type=\"simple\"><path d=\"M39.08,190.91 C46.63,204.15 63.87,232.24 84,251 C97.73,263.8 115.17,275.16 130.35,283.85 \" fill=\"none\" id=\"E4-&gt;E5\" style=\"stroke: #383838; stroke-width: 1.0;\"/><polygon fill=\"#383838\" points=\"134.98,286.46,129.0858,278.5696,130.6187,284.0148,125.1735,285.5477,134.98,286.46\" style=\"stroke: #383838; stroke-width: 1.0;\"/><text fill=\"#000000\" font-family=\"sans-serif\" font-size=\"13\" lengthAdjust=\"spacingAndGlyphs\" textLength=\"36\" x=\"85\" y=\"247.0669\">[true]</text></a><!--MD5=[79568f1e445c3877b6a54524624ccc7d]\n",
       "link E4 to E6--><a href=\"psysml:07d2ed15-614f-457b-995c-67ac116a921b\" target=\"_top\" title=\"psysml:07d2ed15-614f-457b-995c-67ac116a921b\" xlink:actuate=\"onRequest\" xlink:href=\"psysml:07d2ed15-614f-457b-995c-67ac116a921b\" xlink:show=\"new\" xlink:title=\"psysml:07d2ed15-614f-457b-995c-67ac116a921b\" xlink:type=\"simple\"><path d=\"M36.3,193.29 C39.76,217.03 50.73,279.03 76,324 C91.89,352.29 117.42,379.1 137.07,397.43 \" fill=\"none\" id=\"E4-&gt;E6\" style=\"stroke: #383838; stroke-width: 1.0;\"/><polygon fill=\"#383838\" points=\"140.92,400.98,137.0155,391.9382,137.2443,397.5904,131.5921,397.8192,140.92,400.98\" style=\"stroke: #383838; stroke-width: 1.0;\"/><text fill=\"#000000\" font-family=\"sans-serif\" font-size=\"13\" lengthAdjust=\"spacingAndGlyphs\" textLength=\"40\" x=\"77\" y=\"307.0669\">[false]</text></a><!--MD5=[9120cf2e5df3bff93db8f754bbbc09b4]\n",
       "link E5 to E6--><a href=\"psysml:b67ea915-0e8a-4542-80c4-8f1f8e1002d6\" target=\"_top\" title=\"psysml:b67ea915-0e8a-4542-80c4-8f1f8e1002d6\" xlink:actuate=\"onRequest\" xlink:href=\"psysml:b67ea915-0e8a-4542-80c4-8f1f8e1002d6\" xlink:show=\"new\" xlink:title=\"psysml:b67ea915-0e8a-4542-80c4-8f1f8e1002d6\" xlink:type=\"simple\"><path d=\"M165,324.05 C165,343.9 165,374.02 165,395.52 \" fill=\"none\" id=\"E5-&gt;E6\" style=\"stroke: #383838; stroke-width: 1.0;\"/><polygon fill=\"#383838\" points=\"165,400.79,169,391.79,165,395.79,161,391.79,165,400.79\" style=\"stroke: #383838; stroke-width: 1.0;\"/><text fill=\"#000000\" font-family=\"sans-serif\" font-size=\"13\" lengthAdjust=\"spacingAndGlyphs\" textLength=\"55\" x=\"166\" y=\"367.0669\">[x == 0]</text></a><!--MD5=[4e538a2b454849cc40ce975b8060371b]\n",
       "@startuml\r\n",
       "top to bottom direction\r\n",
       "skinparam monochrome true\r\n",
       "skinparam classbackgroundcolor white\r\n",
       "skinparam shadowing false\r\n",
       "skinparam wrapWidth 300\r\n",
       "hide circle\r\n",
       "\r\n",
       "rec def \"DecisionTest\" as E1  <<(T,blue)action def>> [[psysml:704d58b1-847a-4b5f-8ef4-b4da5c2432eb ]] {\r\n",
       "portout \"$result\" as E2  [[psysml:d3db88a9-d6e2-4728-bacb-cdc83b04fb60 ]] \r\n",
       "choice \"test x\" as E3  [[psysml:07816a00-a6c6-49d5-84be-841a1e7e2f6a ]] \r\n",
       "choice \"noname\" as E4  [[psysml:26311404-6ce6-4dcd-89ed-d43ec51ac22a ]] \r\n",
       "rec usage \"A1\" as E5  <<(T,blue)action>> [[psysml:f4b16115-f2df-4145-8494-1e5aced0fe90 ]] {\r\n",
       "}\r\n",
       "\r\n",
       "rec usage \"A2\" as E6  <<(T,blue)action>> [[psysml:ffb4dce0-5cb8-4add-9e67-ebd1f2f3deb3 ]] {\r\n",
       "}\r\n",
       "\r\n",
       "rec usage \"A3\" as E7  <<(T,blue)action>> [[psysml:dc91d98e-27d3-4fe3-8c05-9cedeab5907b ]] {\r\n",
       "}\r\n",
       "\r\n",
       "rec usage \"A3\" as E8  <<(T,blue)action>> [[psysml:dc91d98e-27d3-4fe3-8c05-9cedeab5907b ]] {\r\n",
       "}\r\n",
       "\r\n",
       "}\r\n",
       "\r\n",
       "E3  - -> E5 [[psysml:f0c1a87b-40f9-41dd-914f-8704a756a2ee ]] : [x == 1]\r\n",
       "E3  - -> E6 [[psysml:534d6032-2416-43d2-b21b-3e106f4a7f5b ]] : [x > 1]\r\n",
       "E3  - -> E8 [[psysml:e6958018-0280-470d-866d-790aaedd3d9a ]] \r\n",
       "E3 - -> E4 [[psysml:b2a8f402-8a6f-47b5-a176-34e34a53fa41 ]] \r\n",
       "E4  - -> E5 [[psysml:d4e4cf4f-ca71-4ae2-aa8b-453c4e696e69 ]] : [true]\r\n",
       "E4  - -> E6 [[psysml:07d2ed15-614f-457b-995c-67ac116a921b ]] : [false]\r\n",
       "E5  - -> E6 [[psysml:b67ea915-0e8a-4542-80c4-8f1f8e1002d6 ]] : [x == 0]\r\n",
       "E8  - -> E3 [[psysml:7eebbea4-be3a-4ef1-ac68-fab402045136 ]] : [x > 0]\r\n",
       "@enduml\r\n",
       "\n",
       "PlantUML version 1.2020.13(Sat Jun 13 12:26:38 UTC 2020)\n",
       "(EPL source distribution)\n",
       "Java Runtime: OpenJDK Runtime Environment\n",
       "JVM: OpenJDK 64-Bit Server VM\n",
       "Default Encoding: UTF-8\n",
       "Language: en\n",
       "Country: null\n",
       "--></g></svg>"
      ]
     },
     "execution_count": 44,
     "metadata": {},
     "output_type": "execute_result"
    }
   ],
   "source": [
    "%viz --style=\"TB\" --view=\"Default\" \"DecisionTest\""
   ]
  },
  {
   "cell_type": "code",
   "execution_count": 45,
   "id": "676979b5",
   "metadata": {
    "execution": {
     "iopub.execute_input": "2021-04-20T07:01:23.068934Z",
     "iopub.status.busy": "2021-04-20T07:01:23.068191Z",
     "iopub.status.idle": "2021-04-20T07:01:23.153285Z",
     "shell.execute_reply": "2021-04-20T07:01:23.153569Z"
    }
   },
   "outputs": [
    {
     "data": {
      "image/svg+xml": [
       "<?xml version=\"1.0\" encoding=\"UTF-8\" standalone=\"no\"?><svg xmlns=\"http://www.w3.org/2000/svg\" xmlns:xlink=\"http://www.w3.org/1999/xlink\" contentScriptType=\"application/ecmascript\" contentStyleType=\"text/css\" height=\"207px\" preserveAspectRatio=\"none\" style=\"width:109px;height:207px;\" version=\"1.1\" viewBox=\"0 0 109 207\" width=\"109px\" zoomAndPan=\"magnify\"><defs/><g><!--MD5=[43c9051892ef23e1a46a86907403d788]\n",
       "class E1--><a href=\"psysml:704d58b1-847a-4b5f-8ef4-b4da5c2432eb\" target=\"_top\" title=\"psysml:704d58b1-847a-4b5f-8ef4-b4da5c2432eb\" xlink:actuate=\"onRequest\" xlink:href=\"psysml:704d58b1-847a-4b5f-8ef4-b4da5c2432eb\" xlink:show=\"new\" xlink:title=\"psysml:704d58b1-847a-4b5f-8ef4-b4da5c2432eb\" xlink:type=\"simple\"><rect fill=\"#FFFFFF\" height=\"189.9844\" id=\"E1\" style=\"stroke: #383838; stroke-width: 1.5;\" width=\"91\" x=\"7\" y=\"7\"/><text fill=\"#000000\" font-family=\"sans-serif\" font-size=\"12\" font-style=\"italic\" lengthAdjust=\"spacingAndGlyphs\" textLength=\"77\" x=\"14\" y=\"23.1387\">«action def»</text><text fill=\"#000000\" font-family=\"sans-serif\" font-size=\"12\" lengthAdjust=\"spacingAndGlyphs\" textLength=\"80\" x=\"12.5\" y=\"37.1074\">DecisionTest</text><line style=\"stroke: #383838; stroke-width: 1.5;\" x1=\"8\" x2=\"97\" y1=\"44.9375\" y2=\"44.9375\"/><text fill=\"#000000\" font-family=\"sans-serif\" font-size=\"11\" lengthAdjust=\"spacingAndGlyphs\" textLength=\"26\" x=\"13\" y=\"75.9526\">x=1;</text><line style=\"stroke: #383838; stroke-width: 1.0;\" x1=\"8\" x2=\"25\" y1=\"59.3398\" y2=\"59.3398\"/><text fill=\"#000000\" font-family=\"sans-serif\" font-size=\"11\" lengthAdjust=\"spacingAndGlyphs\" textLength=\"55\" x=\"25\" y=\"62.6479\">attributes</text><line style=\"stroke: #383838; stroke-width: 1.0;\" x1=\"80\" x2=\"97\" y1=\"59.3398\" y2=\"59.3398\"/><text fill=\"#000000\" font-family=\"sans-serif\" font-size=\"11\" lengthAdjust=\"spacingAndGlyphs\" textLength=\"14\" x=\"13\" y=\"105.562\">A1</text><text fill=\"#000000\" font-family=\"sans-serif\" font-size=\"11\" lengthAdjust=\"spacingAndGlyphs\" textLength=\"14\" x=\"13\" y=\"118.3667\">A2</text><text fill=\"#000000\" font-family=\"sans-serif\" font-size=\"11\" lengthAdjust=\"spacingAndGlyphs\" textLength=\"14\" x=\"13\" y=\"131.1714\">A3</text><line style=\"stroke: #383838; stroke-width: 1.0;\" x1=\"8\" x2=\"32\" y1=\"88.9492\" y2=\"88.9492\"/><text fill=\"#000000\" font-family=\"sans-serif\" font-size=\"11\" lengthAdjust=\"spacingAndGlyphs\" textLength=\"41\" x=\"32\" y=\"92.2573\">actions</text><line style=\"stroke: #383838; stroke-width: 1.0;\" x1=\"73\" x2=\"97\" y1=\"88.9492\" y2=\"88.9492\"/><text fill=\"#000000\" font-family=\"sans-serif\" font-size=\"11\" lengthAdjust=\"spacingAndGlyphs\" textLength=\"32\" x=\"13\" y=\"160.7808\">test x</text><line style=\"stroke: #383838; stroke-width: 1.0;\" x1=\"8\" x2=\"11\" y1=\"144.168\" y2=\"144.168\"/><text fill=\"#000000\" font-family=\"sans-serif\" font-size=\"11\" lengthAdjust=\"spacingAndGlyphs\" textLength=\"83\" x=\"11\" y=\"147.4761\">decisionNodes</text><line style=\"stroke: #383838; stroke-width: 1.0;\" x1=\"94\" x2=\"97\" y1=\"144.168\" y2=\"144.168\"/><text fill=\"#000000\" font-family=\"sans-serif\" font-size=\"11\" lengthAdjust=\"spacingAndGlyphs\" textLength=\"8\" x=\"13\" y=\"190.3901\">S</text><line style=\"stroke: #383838; stroke-width: 1.0;\" x1=\"8\" x2=\"22\" y1=\"173.7773\" y2=\"173.7773\"/><text fill=\"#000000\" font-family=\"sans-serif\" font-size=\"11\" lengthAdjust=\"spacingAndGlyphs\" textLength=\"61\" x=\"22\" y=\"177.0854\">transitions</text><line style=\"stroke: #383838; stroke-width: 1.0;\" x1=\"83\" x2=\"97\" y1=\"173.7773\" y2=\"173.7773\"/></a><!--MD5=[7d6d24c4a1d6777fcb1160fbe682cb23]\n",
       "@startuml\r\n",
       "top to bottom direction\r\n",
       "skinparam monochrome true\r\n",
       "skinparam classbackgroundcolor white\r\n",
       "skinparam shadowing false\r\n",
       "skinparam wrapWidth 300\r\n",
       "hide circle\r\n",
       "\r\n",
       "comp def \"DecisionTest\" as E1  <<(T,blue)action def>> [[psysml:704d58b1-847a-4b5f-8ef4-b4da5c2432eb ]] {\r\n",
       "- - attributes - -\r\n",
       "x=1; \r\n",
       "- - actions - -\r\n",
       "A1\r\n",
       "A2\r\n",
       "A3\r\n",
       "- - decisionNodes - -\r\n",
       "test x\r\n",
       "- - transitions - -\r\n",
       "S\r\n",
       "}\r\n",
       "@enduml\r\n",
       "\n",
       "PlantUML version 1.2020.13(Sat Jun 13 12:26:38 UTC 2020)\n",
       "(EPL source distribution)\n",
       "Java Runtime: OpenJDK Runtime Environment\n",
       "JVM: OpenJDK 64-Bit Server VM\n",
       "Default Encoding: UTF-8\n",
       "Language: en\n",
       "Country: null\n",
       "--></g></svg>"
      ]
     },
     "execution_count": 45,
     "metadata": {},
     "output_type": "execute_result"
    }
   ],
   "source": [
    "%viz --style=\"TB\" --view=\"Tree\" \"DecisionTest\""
   ]
  },
  {
   "cell_type": "code",
   "execution_count": 46,
   "id": "1711bd3f",
   "metadata": {
    "execution": {
     "iopub.execute_input": "2021-04-20T07:01:23.204722Z",
     "iopub.status.busy": "2021-04-20T07:01:23.204102Z",
     "iopub.status.idle": "2021-04-20T07:01:23.208310Z",
     "shell.execute_reply": "2021-04-20T07:01:23.207975Z"
    }
   },
   "outputs": [
    {
     "data": {
      "image/svg+xml": [
       "<?xml version=\"1.0\" encoding=\"UTF-8\" standalone=\"no\"?><svg xmlns=\"http://www.w3.org/2000/svg\" xmlns:xlink=\"http://www.w3.org/1999/xlink\" contentScriptType=\"application/ecmascript\" contentStyleType=\"text/css\" height=\"12px\" preserveAspectRatio=\"none\" style=\"width:12px;height:12px;\" version=\"1.1\" viewBox=\"0 0 12 12\" width=\"12px\" zoomAndPan=\"magnify\"><defs/><g><!--MD5=[f4ee21bc66e489b5061b7c3e9601fdef]\n",
       "@startuml\r\n",
       "top to bottom direction\r\n",
       "skinparam monochrome true\r\n",
       "skinparam classbackgroundcolor white\r\n",
       "skinparam shadowing false\r\n",
       "skinparam wrapWidth 300\r\n",
       "hide circle\r\n",
       "\r\n",
       "@enduml\r\n",
       "\n",
       "PlantUML version 1.2020.13(Sat Jun 13 12:26:38 UTC 2020)\n",
       "(EPL source distribution)\n",
       "Java Runtime: OpenJDK Runtime Environment\n",
       "JVM: OpenJDK 64-Bit Server VM\n",
       "Default Encoding: UTF-8\n",
       "Language: en\n",
       "Country: null\n",
       "--></g></svg>"
      ]
     },
     "execution_count": 46,
     "metadata": {},
     "output_type": "execute_result"
    }
   ],
   "source": [
    "%viz --style=\"TB\" --view=\"State\" \"DecisionTest\""
   ]
  },
  {
   "cell_type": "code",
   "execution_count": 47,
   "id": "0a36fc4b",
   "metadata": {
    "execution": {
     "iopub.execute_input": "2021-04-20T07:01:23.259608Z",
     "iopub.status.busy": "2021-04-20T07:01:23.259075Z",
     "iopub.status.idle": "2021-04-20T07:01:23.296006Z",
     "shell.execute_reply": "2021-04-20T07:01:23.295570Z"
    }
   },
   "outputs": [
    {
     "data": {
      "image/svg+xml": [
       "<?xml version=\"1.0\" encoding=\"UTF-8\" standalone=\"no\"?><svg xmlns=\"http://www.w3.org/2000/svg\" xmlns:xlink=\"http://www.w3.org/1999/xlink\" contentScriptType=\"application/ecmascript\" contentStyleType=\"text/css\" height=\"384px\" preserveAspectRatio=\"none\" style=\"width:333px;height:384px;\" version=\"1.1\" viewBox=\"0 0 333 384\" width=\"333px\" zoomAndPan=\"magnify\"><defs/><g><!--MD5=[fbc87193dbaf4d95561dea2c320d4a47]\n",
       "cluster E1--><a href=\"psysml:704d58b1-847a-4b5f-8ef4-b4da5c2432eb\" target=\"_top\" title=\"psysml:704d58b1-847a-4b5f-8ef4-b4da5c2432eb\" xlink:actuate=\"onRequest\" xlink:href=\"psysml:704d58b1-847a-4b5f-8ef4-b4da5c2432eb\" xlink:show=\"new\" xlink:title=\"psysml:704d58b1-847a-4b5f-8ef4-b4da5c2432eb\" xlink:type=\"simple\"><rect fill=\"#FFFFFF\" height=\"344.72\" id=\"E1\" style=\"stroke: #383838; stroke-width: 1.5;\" width=\"315\" x=\"7\" y=\"7\"/><rect fill=\"#F8F8F8\" height=\"37.9375\" style=\"stroke: #383838; stroke-width: 1.5;\" width=\"315\" x=\"7\" y=\"7\"/><text fill=\"#000000\" font-family=\"sans-serif\" font-size=\"12\" font-style=\"italic\" lengthAdjust=\"spacingAndGlyphs\" textLength=\"77\" x=\"126\" y=\"23.1387\">«action def»</text><text fill=\"#000000\" font-family=\"sans-serif\" font-size=\"12\" lengthAdjust=\"spacingAndGlyphs\" textLength=\"80\" x=\"124.5\" y=\"37.1074\">DecisionTest</text></a><text fill=\"#000000\" font-family=\"sans-serif\" font-size=\"14\" lengthAdjust=\"spacingAndGlyphs\" textLength=\"48\" x=\"140\" y=\"370.7151\">$result</text><rect fill=\"#383838\" height=\"12\" style=\"stroke: #F8F8F8; stroke-width: 1.5;\" width=\"12\" x=\"158\" y=\"345.72\"/><polygon fill=\"#F8F8F8\" points=\"141,28.5,153,40.5,141,52.5,129,40.5,141,28.5\" style=\"stroke: #383838; stroke-width: 1.5;\"/><polygon fill=\"#F8F8F8\" points=\"35,126.5,47,138.5,35,150.5,23,138.5,35,126.5\" style=\"stroke: #383838; stroke-width: 1.5;\"/><g id=\"E1.E5\"><a href=\"psysml:f4b16115-f2df-4145-8494-1e5aced0fe90\" target=\"_top\" title=\"psysml:f4b16115-f2df-4145-8494-1e5aced0fe90\" xlink:actuate=\"onRequest\" xlink:href=\"psysml:f4b16115-f2df-4145-8494-1e5aced0fe90\" xlink:show=\"new\" xlink:title=\"psysml:f4b16115-f2df-4145-8494-1e5aced0fe90\" xlink:type=\"simple\"><rect fill=\"#FFFFFF\" height=\"42.9375\" id=\"E5\" rx=\"10\" ry=\"10\" style=\"stroke: #383838; stroke-width: 1.5;\" width=\"60\" x=\"135\" y=\"193\"/><rect fill=\"#F8F8F8\" height=\"37.9375\" rx=\"10\" ry=\"10\" style=\"stroke: #F8F8F8; stroke-width: 1.5;\" width=\"60\" x=\"135\" y=\"193\"/><rect fill=\"#F8F8F8\" height=\"10\" style=\"stroke: #F8F8F8; stroke-width: 1.5;\" width=\"60\" x=\"135\" y=\"220.9375\"/><rect fill=\"none\" height=\"42.9375\" id=\"E5\" rx=\"10\" ry=\"10\" style=\"stroke: #383838; stroke-width: 1.5;\" width=\"60\" x=\"135\" y=\"193\"/><text fill=\"#000000\" font-family=\"sans-serif\" font-size=\"12\" font-style=\"italic\" lengthAdjust=\"spacingAndGlyphs\" textLength=\"53\" x=\"138.5\" y=\"209.1387\">«action»</text><text fill=\"#000000\" font-family=\"sans-serif\" font-size=\"12\" lengthAdjust=\"spacingAndGlyphs\" textLength=\"16\" x=\"157\" y=\"223.1074\">A1</text></a></g><g id=\"E1.E6\"><a href=\"psysml:ffb4dce0-5cb8-4add-9e67-ebd1f2f3deb3\" target=\"_top\" title=\"psysml:ffb4dce0-5cb8-4add-9e67-ebd1f2f3deb3\" xlink:actuate=\"onRequest\" xlink:href=\"psysml:ffb4dce0-5cb8-4add-9e67-ebd1f2f3deb3\" xlink:show=\"new\" xlink:title=\"psysml:ffb4dce0-5cb8-4add-9e67-ebd1f2f3deb3\" xlink:type=\"simple\"><rect fill=\"#FFFFFF\" height=\"42.9375\" id=\"E6\" rx=\"10\" ry=\"10\" style=\"stroke: #383838; stroke-width: 1.5;\" width=\"60\" x=\"135\" y=\"269\"/><rect fill=\"#F8F8F8\" height=\"37.9375\" rx=\"10\" ry=\"10\" style=\"stroke: #F8F8F8; stroke-width: 1.5;\" width=\"60\" x=\"135\" y=\"269\"/><rect fill=\"#F8F8F8\" height=\"10\" style=\"stroke: #F8F8F8; stroke-width: 1.5;\" width=\"60\" x=\"135\" y=\"296.9375\"/><rect fill=\"none\" height=\"42.9375\" id=\"E6\" rx=\"10\" ry=\"10\" style=\"stroke: #383838; stroke-width: 1.5;\" width=\"60\" x=\"135\" y=\"269\"/><text fill=\"#000000\" font-family=\"sans-serif\" font-size=\"12\" font-style=\"italic\" lengthAdjust=\"spacingAndGlyphs\" textLength=\"53\" x=\"138.5\" y=\"285.1387\">«action»</text><text fill=\"#000000\" font-family=\"sans-serif\" font-size=\"12\" lengthAdjust=\"spacingAndGlyphs\" textLength=\"16\" x=\"157\" y=\"299.1074\">A2</text></a></g><g id=\"E1.E7\"><a href=\"psysml:dc91d98e-27d3-4fe3-8c05-9cedeab5907b\" target=\"_top\" title=\"psysml:dc91d98e-27d3-4fe3-8c05-9cedeab5907b\" xlink:actuate=\"onRequest\" xlink:href=\"psysml:dc91d98e-27d3-4fe3-8c05-9cedeab5907b\" xlink:show=\"new\" xlink:title=\"psysml:dc91d98e-27d3-4fe3-8c05-9cedeab5907b\" xlink:type=\"simple\"><rect fill=\"#FFFFFF\" height=\"42.9375\" id=\"E7\" rx=\"10\" ry=\"10\" style=\"stroke: #383838; stroke-width: 1.5;\" width=\"60\" x=\"46\" y=\"66\"/><rect fill=\"#F8F8F8\" height=\"37.9375\" rx=\"10\" ry=\"10\" style=\"stroke: #F8F8F8; stroke-width: 1.5;\" width=\"60\" x=\"46\" y=\"66\"/><rect fill=\"#F8F8F8\" height=\"10\" style=\"stroke: #F8F8F8; stroke-width: 1.5;\" width=\"60\" x=\"46\" y=\"93.9375\"/><rect fill=\"none\" height=\"42.9375\" id=\"E7\" rx=\"10\" ry=\"10\" style=\"stroke: #383838; stroke-width: 1.5;\" width=\"60\" x=\"46\" y=\"66\"/><text fill=\"#000000\" font-family=\"sans-serif\" font-size=\"12\" font-style=\"italic\" lengthAdjust=\"spacingAndGlyphs\" textLength=\"53\" x=\"49.5\" y=\"82.1387\">«action»</text><text fill=\"#000000\" font-family=\"sans-serif\" font-size=\"12\" lengthAdjust=\"spacingAndGlyphs\" textLength=\"16\" x=\"68\" y=\"96.1074\">A3</text></a></g><g id=\"E1.E8\"><a href=\"psysml:dc91d98e-27d3-4fe3-8c05-9cedeab5907b\" target=\"_top\" title=\"psysml:dc91d98e-27d3-4fe3-8c05-9cedeab5907b\" xlink:actuate=\"onRequest\" xlink:href=\"psysml:dc91d98e-27d3-4fe3-8c05-9cedeab5907b\" xlink:show=\"new\" xlink:title=\"psysml:dc91d98e-27d3-4fe3-8c05-9cedeab5907b\" xlink:type=\"simple\"><rect fill=\"#FFFFFF\" height=\"42.9375\" id=\"E8\" rx=\"10\" ry=\"10\" style=\"stroke: #383838; stroke-width: 1.5;\" width=\"60\" x=\"246\" y=\"117\"/><rect fill=\"#F8F8F8\" height=\"37.9375\" rx=\"10\" ry=\"10\" style=\"stroke: #F8F8F8; stroke-width: 1.5;\" width=\"60\" x=\"246\" y=\"117\"/><rect fill=\"#F8F8F8\" height=\"10\" style=\"stroke: #F8F8F8; stroke-width: 1.5;\" width=\"60\" x=\"246\" y=\"144.9375\"/><rect fill=\"none\" height=\"42.9375\" id=\"E8\" rx=\"10\" ry=\"10\" style=\"stroke: #383838; stroke-width: 1.5;\" width=\"60\" x=\"246\" y=\"117\"/><text fill=\"#000000\" font-family=\"sans-serif\" font-size=\"12\" font-style=\"italic\" lengthAdjust=\"spacingAndGlyphs\" textLength=\"53\" x=\"249.5\" y=\"133.1387\">«action»</text><text fill=\"#000000\" font-family=\"sans-serif\" font-size=\"12\" lengthAdjust=\"spacingAndGlyphs\" textLength=\"16\" x=\"268\" y=\"147.1074\">A3</text></a></g><!--MD5=[0188b64bb0ae78505a997a81836e11e9]\n",
       "link E3 to E5--><a href=\"psysml:f0c1a87b-40f9-41dd-914f-8704a756a2ee\" target=\"_top\" title=\"psysml:f0c1a87b-40f9-41dd-914f-8704a756a2ee\" xlink:actuate=\"onRequest\" xlink:href=\"psysml:f0c1a87b-40f9-41dd-914f-8704a756a2ee\" xlink:show=\"new\" xlink:title=\"psysml:f0c1a87b-40f9-41dd-914f-8704a756a2ee\" xlink:type=\"simple\"><path d=\"M140.07,51.78 C138.47,72.5 136.04,120.67 144,160 C145.92,169.49 149.4,179.47 152.99,188.21 \" fill=\"none\" id=\"E3-&gt;E5\" style=\"stroke: #383838; stroke-width: 1.0;\"/><polygon fill=\"#383838\" points=\"154.98,192.92,155.1631,183.0728,153.0346,188.314,147.7935,186.1855,154.98,192.92\" style=\"stroke: #383838; stroke-width: 1.0;\"/><text fill=\"#000000\" font-family=\"sans-serif\" font-size=\"13\" lengthAdjust=\"spacingAndGlyphs\" textLength=\"55\" x=\"145\" y=\"143.0669\">[x == 1]</text></a><!--MD5=[ec9844e0c75763426927cad3229d1081]\n",
       "link E3 to E6--><a href=\"psysml:534d6032-2416-43d2-b21b-3e106f4a7f5b\" target=\"_top\" title=\"psysml:534d6032-2416-43d2-b21b-3e106f4a7f5b\" xlink:actuate=\"onRequest\" xlink:href=\"psysml:534d6032-2416-43d2-b21b-3e106f4a7f5b\" xlink:show=\"new\" xlink:title=\"psysml:534d6032-2416-43d2-b21b-3e106f4a7f5b\" xlink:type=\"simple\"><path d=\"M147.17,46.62 C160.24,57.84 190.71,86.12 205,117 C229.03,168.92 221.32,186.98 226,244 C226.62,251.53 230.06,254.63 226,261 C220.01,270.41 210.02,276.76 199.83,281.03 \" fill=\"none\" id=\"E3-&gt;E6\" style=\"stroke: #383838; stroke-width: 1.0;\"/><polygon fill=\"#383838\" points=\"195.15,282.85,204.9881,283.3102,199.8089,281.035,202.0841,275.8559,195.15,282.85\" style=\"stroke: #383838; stroke-width: 1.0;\"/><text fill=\"#000000\" font-family=\"sans-serif\" font-size=\"13\" lengthAdjust=\"spacingAndGlyphs\" textLength=\"44\" x=\"224\" y=\"181.0669\">[x &gt; 1]</text></a><!--MD5=[ca5a752d6098d8a44b3f88316e7452d1]\n",
       "link E3 to E8--><a href=\"psysml:e6958018-0280-470d-866d-790aaedd3d9a\" target=\"_top\" title=\"psysml:e6958018-0280-470d-866d-790aaedd3d9a\" xlink:actuate=\"onRequest\" xlink:href=\"psysml:e6958018-0280-470d-866d-790aaedd3d9a\" xlink:show=\"new\" xlink:title=\"psysml:e6958018-0280-470d-866d-790aaedd3d9a\" xlink:type=\"simple\"><path d=\"M147.65,45.88 C153.56,49.59 162.55,54.81 171,58 C186.34,63.79 195.35,54.47 207,66 C220.94,79.81 204.74,93.68 217,109 C223.18,116.72 231.96,122.48 240.86,126.73 \" fill=\"none\" id=\"E3-&gt;E8\" style=\"stroke: #383838; stroke-width: 1.0;\"/><polygon fill=\"#383838\" points=\"245.81,128.93,239.2251,121.6061,241.2451,126.89,235.9612,128.91,245.81,128.93\" style=\"stroke: #383838; stroke-width: 1.0;\"/></a><!--MD5=[95fa686b5a16158bcdbcaeead89f639b]\n",
       "link E8 to E3--><a href=\"psysml:7eebbea4-be3a-4ef1-ac68-fab402045136\" target=\"_top\" title=\"psysml:7eebbea4-be3a-4ef1-ac68-fab402045136\" xlink:actuate=\"onRequest\" xlink:href=\"psysml:7eebbea4-be3a-4ef1-ac68-fab402045136\" xlink:show=\"new\" xlink:title=\"psysml:7eebbea4-be3a-4ef1-ac68-fab402045136\" xlink:type=\"simple\"><path d=\"M253.3,116.74 C250.77,114.19 248.29,111.58 246,109 C230.2,91.18 234.22,78.6 214,66 C197.5,55.72 189.3,64.54 171,58 C164.35,55.62 157.42,51.9 151.89,48.59 \" fill=\"none\" id=\"E8-&gt;E3\" style=\"stroke: #383838; stroke-width: 1.0;\"/><polygon fill=\"#383838\" points=\"147.62,45.95,153.1764,54.0818,151.8744,48.5769,157.3793,47.2748,147.62,45.95\" style=\"stroke: #383838; stroke-width: 1.0;\"/><text fill=\"#000000\" font-family=\"sans-serif\" font-size=\"13\" lengthAdjust=\"spacingAndGlyphs\" textLength=\"44\" x=\"247\" y=\"92.0669\">[x &gt; 0]</text></a><!--MD5=[af87c684e3b0d8be13c1a698a818ef1e]\n",
       "link E3 to E4--><a href=\"psysml:b2a8f402-8a6f-47b5-a176-34e34a53fa41\" target=\"_top\" title=\"psysml:b2a8f402-8a6f-47b5-a176-34e34a53fa41\" xlink:actuate=\"onRequest\" xlink:href=\"psysml:b2a8f402-8a6f-47b5-a176-34e34a53fa41\" xlink:show=\"new\" xlink:title=\"psysml:b2a8f402-8a6f-47b5-a176-34e34a53fa41\" xlink:type=\"simple\"><path d=\"M130.87,42.54 C108.03,45.11 53.64,52.54 42,66 C28.37,81.77 29.55,107.42 32.02,123.33 \" fill=\"none\" id=\"E3-&gt;E4\" style=\"stroke: #383838; stroke-width: 1.0;\"/><polygon fill=\"#383838\" points=\"32.88,128.32,35.3057,118.7745,32.0372,123.3915,27.4201,120.1231,32.88,128.32\" style=\"stroke: #383838; stroke-width: 1.0;\"/></a><!--MD5=[1b7591eae5389033d8d09a9d6721a717]\n",
       "link E4 to E5--><a href=\"psysml:d4e4cf4f-ca71-4ae2-aa8b-453c4e696e69\" target=\"_top\" title=\"psysml:d4e4cf4f-ca71-4ae2-aa8b-453c4e696e69\" xlink:actuate=\"onRequest\" xlink:href=\"psysml:d4e4cf4f-ca71-4ae2-aa8b-453c4e696e69\" xlink:show=\"new\" xlink:title=\"psysml:d4e4cf4f-ca71-4ae2-aa8b-453c4e696e69\" xlink:type=\"simple\"><path d=\"M40.09,145.69 C48.35,155.37 65.62,174.11 84,185 C93.67,190.73 97.38,189.32 108,193 C115.1,195.46 122.69,198.15 129.93,200.74 \" fill=\"none\" id=\"E4-&gt;E5\" style=\"stroke: #383838; stroke-width: 1.0;\"/><polygon fill=\"#383838\" points=\"134.87,202.52,127.7488,195.7164,130.1636,200.832,125.048,203.2467,134.87,202.52\" style=\"stroke: #383838; stroke-width: 1.0;\"/><text fill=\"#000000\" font-family=\"sans-serif\" font-size=\"13\" lengthAdjust=\"spacingAndGlyphs\" textLength=\"36\" x=\"85\" y=\"181.0669\">[true]</text></a><!--MD5=[79568f1e445c3877b6a54524624ccc7d]\n",
       "link E4 to E6--><a href=\"psysml:07d2ed15-614f-457b-995c-67ac116a921b\" target=\"_top\" title=\"psysml:07d2ed15-614f-457b-995c-67ac116a921b\" xlink:actuate=\"onRequest\" xlink:href=\"psysml:07d2ed15-614f-457b-995c-67ac116a921b\" xlink:show=\"new\" xlink:title=\"psysml:07d2ed15-614f-457b-995c-67ac116a921b\" xlink:type=\"simple\"><path d=\"M36.89,148.77 C41.08,167.27 52.64,209.28 76,236 C90.77,252.89 112.21,266 130.35,275.02 \" fill=\"none\" id=\"E4-&gt;E6\" style=\"stroke: #383838; stroke-width: 1.0;\"/><polygon fill=\"#383838\" points=\"134.88,277.22,128.532,269.6898,130.3825,275.0355,125.0368,276.8859,134.88,277.22\" style=\"stroke: #383838; stroke-width: 1.0;\"/><text fill=\"#000000\" font-family=\"sans-serif\" font-size=\"13\" lengthAdjust=\"spacingAndGlyphs\" textLength=\"40\" x=\"77\" y=\"219.0669\">[false]</text></a><!--MD5=[9120cf2e5df3bff93db8f754bbbc09b4]\n",
       "link E5 to E6--><a href=\"psysml:b67ea915-0e8a-4542-80c4-8f1f8e1002d6\" target=\"_top\" title=\"psysml:b67ea915-0e8a-4542-80c4-8f1f8e1002d6\" xlink:actuate=\"onRequest\" xlink:href=\"psysml:b67ea915-0e8a-4542-80c4-8f1f8e1002d6\" xlink:show=\"new\" xlink:title=\"psysml:b67ea915-0e8a-4542-80c4-8f1f8e1002d6\" xlink:type=\"simple\"><path d=\"M165,236.11 C165,244.69 165,254.75 165,263.8 \" fill=\"none\" id=\"E5-&gt;E6\" style=\"stroke: #383838; stroke-width: 1.0;\"/><polygon fill=\"#383838\" points=\"165,269,169,260,165,264,161,260,165,269\" style=\"stroke: #383838; stroke-width: 1.0;\"/><text fill=\"#000000\" font-family=\"sans-serif\" font-size=\"13\" lengthAdjust=\"spacingAndGlyphs\" textLength=\"55\" x=\"166\" y=\"257.0669\">[x == 0]</text></a><!--MD5=[df15a41a6bf0544411483b66ce7c5af1]\n",
       "@startuml\r\n",
       "skinparam ranksep 10\r\n",
       "skinparam rectangle {\r\n",
       " backgroundColor<<block>> LightGreen\r\n",
       "}\r\n",
       "top to bottom direction\r\n",
       "skinparam monochrome true\r\n",
       "skinparam classbackgroundcolor white\r\n",
       "skinparam shadowing false\r\n",
       "skinparam wrapWidth 300\r\n",
       "hide circle\r\n",
       "\r\n",
       "rec def \"DecisionTest\" as E1  <<(T,blue)action def>> [[psysml:704d58b1-847a-4b5f-8ef4-b4da5c2432eb ]] {\r\n",
       "portout \"$result\" as E2  [[psysml:d3db88a9-d6e2-4728-bacb-cdc83b04fb60 ]] \r\n",
       "choice \"test x\" as E3  [[psysml:07816a00-a6c6-49d5-84be-841a1e7e2f6a ]] \r\n",
       "choice \"noname\" as E4  [[psysml:26311404-6ce6-4dcd-89ed-d43ec51ac22a ]] \r\n",
       "rec usage \"A1\" as E5  <<(T,blue)action>> [[psysml:f4b16115-f2df-4145-8494-1e5aced0fe90 ]] {\r\n",
       "}\r\n",
       "\r\n",
       "rec usage \"A2\" as E6  <<(T,blue)action>> [[psysml:ffb4dce0-5cb8-4add-9e67-ebd1f2f3deb3 ]] {\r\n",
       "}\r\n",
       "\r\n",
       "rec usage \"A3\" as E7  <<(T,blue)action>> [[psysml:dc91d98e-27d3-4fe3-8c05-9cedeab5907b ]] {\r\n",
       "}\r\n",
       "\r\n",
       "rec usage \"A3\" as E8  <<(T,blue)action>> [[psysml:dc91d98e-27d3-4fe3-8c05-9cedeab5907b ]] {\r\n",
       "}\r\n",
       "\r\n",
       "}\r\n",
       "\r\n",
       "E3  - -> E5 [[psysml:f0c1a87b-40f9-41dd-914f-8704a756a2ee ]] : [x == 1]\r\n",
       "E3  - -> E6 [[psysml:534d6032-2416-43d2-b21b-3e106f4a7f5b ]] : [x > 1]\r\n",
       "E3  - -> E8 [[psysml:e6958018-0280-470d-866d-790aaedd3d9a ]] \r\n",
       "E3 - -> E4 [[psysml:b2a8f402-8a6f-47b5-a176-34e34a53fa41 ]] \r\n",
       "E4  - -> E5 [[psysml:d4e4cf4f-ca71-4ae2-aa8b-453c4e696e69 ]] : [true]\r\n",
       "E4  - -> E6 [[psysml:07d2ed15-614f-457b-995c-67ac116a921b ]] : [false]\r\n",
       "E5  - -> E6 [[psysml:b67ea915-0e8a-4542-80c4-8f1f8e1002d6 ]] : [x == 0]\r\n",
       "E8  - -> E3 [[psysml:7eebbea4-be3a-4ef1-ac68-fab402045136 ]] : [x > 0]\r\n",
       "@enduml\r\n",
       "\n",
       "PlantUML version 1.2020.13(Sat Jun 13 12:26:38 UTC 2020)\n",
       "(EPL source distribution)\n",
       "Java Runtime: OpenJDK Runtime Environment\n",
       "JVM: OpenJDK 64-Bit Server VM\n",
       "Default Encoding: UTF-8\n",
       "Language: en\n",
       "Country: null\n",
       "--></g></svg>"
      ]
     },
     "execution_count": 47,
     "metadata": {},
     "output_type": "execute_result"
    }
   ],
   "source": [
    "%viz --style=\"TB\" --view=\"Interconnection\" \"DecisionTest\""
   ]
  },
  {
   "cell_type": "code",
   "execution_count": 48,
   "id": "b018a996",
   "metadata": {
    "execution": {
     "iopub.execute_input": "2021-04-20T07:01:23.347401Z",
     "iopub.status.busy": "2021-04-20T07:01:23.346854Z",
     "iopub.status.idle": "2021-04-20T07:01:23.383441Z",
     "shell.execute_reply": "2021-04-20T07:01:23.382078Z"
    }
   },
   "outputs": [
    {
     "data": {
      "image/svg+xml": [
       "<?xml version=\"1.0\" encoding=\"UTF-8\" standalone=\"no\"?><svg xmlns=\"http://www.w3.org/2000/svg\" xmlns:xlink=\"http://www.w3.org/1999/xlink\" contentScriptType=\"application/ecmascript\" contentStyleType=\"text/css\" height=\"384px\" preserveAspectRatio=\"none\" style=\"width:333px;height:384px;\" version=\"1.1\" viewBox=\"0 0 333 384\" width=\"333px\" zoomAndPan=\"magnify\"><defs/><g><!--MD5=[fbc87193dbaf4d95561dea2c320d4a47]\n",
       "cluster E1--><a href=\"psysml:704d58b1-847a-4b5f-8ef4-b4da5c2432eb\" target=\"_top\" title=\"psysml:704d58b1-847a-4b5f-8ef4-b4da5c2432eb\" xlink:actuate=\"onRequest\" xlink:href=\"psysml:704d58b1-847a-4b5f-8ef4-b4da5c2432eb\" xlink:show=\"new\" xlink:title=\"psysml:704d58b1-847a-4b5f-8ef4-b4da5c2432eb\" xlink:type=\"simple\"><rect fill=\"#FFFFFF\" height=\"344.72\" id=\"E1\" style=\"stroke: #383838; stroke-width: 1.5;\" width=\"315\" x=\"7\" y=\"7\"/><rect fill=\"#F8F8F8\" height=\"37.9375\" style=\"stroke: #383838; stroke-width: 1.5;\" width=\"315\" x=\"7\" y=\"7\"/><text fill=\"#000000\" font-family=\"sans-serif\" font-size=\"12\" font-style=\"italic\" lengthAdjust=\"spacingAndGlyphs\" textLength=\"77\" x=\"126\" y=\"23.1387\">«action def»</text><text fill=\"#000000\" font-family=\"sans-serif\" font-size=\"12\" lengthAdjust=\"spacingAndGlyphs\" textLength=\"80\" x=\"124.5\" y=\"37.1074\">DecisionTest</text></a><text fill=\"#000000\" font-family=\"sans-serif\" font-size=\"14\" lengthAdjust=\"spacingAndGlyphs\" textLength=\"48\" x=\"140\" y=\"370.7151\">$result</text><rect fill=\"#383838\" height=\"12\" style=\"stroke: #F8F8F8; stroke-width: 1.5;\" width=\"12\" x=\"158\" y=\"345.72\"/><polygon fill=\"#F8F8F8\" points=\"141,28.5,153,40.5,141,52.5,129,40.5,141,28.5\" style=\"stroke: #383838; stroke-width: 1.5;\"/><polygon fill=\"#F8F8F8\" points=\"35,126.5,47,138.5,35,150.5,23,138.5,35,126.5\" style=\"stroke: #383838; stroke-width: 1.5;\"/><g id=\"E1.E5\"><a href=\"psysml:f4b16115-f2df-4145-8494-1e5aced0fe90\" target=\"_top\" title=\"psysml:f4b16115-f2df-4145-8494-1e5aced0fe90\" xlink:actuate=\"onRequest\" xlink:href=\"psysml:f4b16115-f2df-4145-8494-1e5aced0fe90\" xlink:show=\"new\" xlink:title=\"psysml:f4b16115-f2df-4145-8494-1e5aced0fe90\" xlink:type=\"simple\"><rect fill=\"#FFFFFF\" height=\"42.9375\" id=\"E5\" rx=\"10\" ry=\"10\" style=\"stroke: #383838; stroke-width: 1.5;\" width=\"60\" x=\"135\" y=\"193\"/><rect fill=\"#F8F8F8\" height=\"37.9375\" rx=\"10\" ry=\"10\" style=\"stroke: #F8F8F8; stroke-width: 1.5;\" width=\"60\" x=\"135\" y=\"193\"/><rect fill=\"#F8F8F8\" height=\"10\" style=\"stroke: #F8F8F8; stroke-width: 1.5;\" width=\"60\" x=\"135\" y=\"220.9375\"/><rect fill=\"none\" height=\"42.9375\" id=\"E5\" rx=\"10\" ry=\"10\" style=\"stroke: #383838; stroke-width: 1.5;\" width=\"60\" x=\"135\" y=\"193\"/><text fill=\"#000000\" font-family=\"sans-serif\" font-size=\"12\" font-style=\"italic\" lengthAdjust=\"spacingAndGlyphs\" textLength=\"53\" x=\"138.5\" y=\"209.1387\">«action»</text><text fill=\"#000000\" font-family=\"sans-serif\" font-size=\"12\" lengthAdjust=\"spacingAndGlyphs\" textLength=\"16\" x=\"157\" y=\"223.1074\">A1</text></a></g><g id=\"E1.E6\"><a href=\"psysml:ffb4dce0-5cb8-4add-9e67-ebd1f2f3deb3\" target=\"_top\" title=\"psysml:ffb4dce0-5cb8-4add-9e67-ebd1f2f3deb3\" xlink:actuate=\"onRequest\" xlink:href=\"psysml:ffb4dce0-5cb8-4add-9e67-ebd1f2f3deb3\" xlink:show=\"new\" xlink:title=\"psysml:ffb4dce0-5cb8-4add-9e67-ebd1f2f3deb3\" xlink:type=\"simple\"><rect fill=\"#FFFFFF\" height=\"42.9375\" id=\"E6\" rx=\"10\" ry=\"10\" style=\"stroke: #383838; stroke-width: 1.5;\" width=\"60\" x=\"135\" y=\"269\"/><rect fill=\"#F8F8F8\" height=\"37.9375\" rx=\"10\" ry=\"10\" style=\"stroke: #F8F8F8; stroke-width: 1.5;\" width=\"60\" x=\"135\" y=\"269\"/><rect fill=\"#F8F8F8\" height=\"10\" style=\"stroke: #F8F8F8; stroke-width: 1.5;\" width=\"60\" x=\"135\" y=\"296.9375\"/><rect fill=\"none\" height=\"42.9375\" id=\"E6\" rx=\"10\" ry=\"10\" style=\"stroke: #383838; stroke-width: 1.5;\" width=\"60\" x=\"135\" y=\"269\"/><text fill=\"#000000\" font-family=\"sans-serif\" font-size=\"12\" font-style=\"italic\" lengthAdjust=\"spacingAndGlyphs\" textLength=\"53\" x=\"138.5\" y=\"285.1387\">«action»</text><text fill=\"#000000\" font-family=\"sans-serif\" font-size=\"12\" lengthAdjust=\"spacingAndGlyphs\" textLength=\"16\" x=\"157\" y=\"299.1074\">A2</text></a></g><g id=\"E1.E7\"><a href=\"psysml:dc91d98e-27d3-4fe3-8c05-9cedeab5907b\" target=\"_top\" title=\"psysml:dc91d98e-27d3-4fe3-8c05-9cedeab5907b\" xlink:actuate=\"onRequest\" xlink:href=\"psysml:dc91d98e-27d3-4fe3-8c05-9cedeab5907b\" xlink:show=\"new\" xlink:title=\"psysml:dc91d98e-27d3-4fe3-8c05-9cedeab5907b\" xlink:type=\"simple\"><rect fill=\"#FFFFFF\" height=\"42.9375\" id=\"E7\" rx=\"10\" ry=\"10\" style=\"stroke: #383838; stroke-width: 1.5;\" width=\"60\" x=\"46\" y=\"66\"/><rect fill=\"#F8F8F8\" height=\"37.9375\" rx=\"10\" ry=\"10\" style=\"stroke: #F8F8F8; stroke-width: 1.5;\" width=\"60\" x=\"46\" y=\"66\"/><rect fill=\"#F8F8F8\" height=\"10\" style=\"stroke: #F8F8F8; stroke-width: 1.5;\" width=\"60\" x=\"46\" y=\"93.9375\"/><rect fill=\"none\" height=\"42.9375\" id=\"E7\" rx=\"10\" ry=\"10\" style=\"stroke: #383838; stroke-width: 1.5;\" width=\"60\" x=\"46\" y=\"66\"/><text fill=\"#000000\" font-family=\"sans-serif\" font-size=\"12\" font-style=\"italic\" lengthAdjust=\"spacingAndGlyphs\" textLength=\"53\" x=\"49.5\" y=\"82.1387\">«action»</text><text fill=\"#000000\" font-family=\"sans-serif\" font-size=\"12\" lengthAdjust=\"spacingAndGlyphs\" textLength=\"16\" x=\"68\" y=\"96.1074\">A3</text></a></g><g id=\"E1.E8\"><a href=\"psysml:dc91d98e-27d3-4fe3-8c05-9cedeab5907b\" target=\"_top\" title=\"psysml:dc91d98e-27d3-4fe3-8c05-9cedeab5907b\" xlink:actuate=\"onRequest\" xlink:href=\"psysml:dc91d98e-27d3-4fe3-8c05-9cedeab5907b\" xlink:show=\"new\" xlink:title=\"psysml:dc91d98e-27d3-4fe3-8c05-9cedeab5907b\" xlink:type=\"simple\"><rect fill=\"#FFFFFF\" height=\"42.9375\" id=\"E8\" rx=\"10\" ry=\"10\" style=\"stroke: #383838; stroke-width: 1.5;\" width=\"60\" x=\"246\" y=\"117\"/><rect fill=\"#F8F8F8\" height=\"37.9375\" rx=\"10\" ry=\"10\" style=\"stroke: #F8F8F8; stroke-width: 1.5;\" width=\"60\" x=\"246\" y=\"117\"/><rect fill=\"#F8F8F8\" height=\"10\" style=\"stroke: #F8F8F8; stroke-width: 1.5;\" width=\"60\" x=\"246\" y=\"144.9375\"/><rect fill=\"none\" height=\"42.9375\" id=\"E8\" rx=\"10\" ry=\"10\" style=\"stroke: #383838; stroke-width: 1.5;\" width=\"60\" x=\"246\" y=\"117\"/><text fill=\"#000000\" font-family=\"sans-serif\" font-size=\"12\" font-style=\"italic\" lengthAdjust=\"spacingAndGlyphs\" textLength=\"53\" x=\"249.5\" y=\"133.1387\">«action»</text><text fill=\"#000000\" font-family=\"sans-serif\" font-size=\"12\" lengthAdjust=\"spacingAndGlyphs\" textLength=\"16\" x=\"268\" y=\"147.1074\">A3</text></a></g><!--MD5=[0188b64bb0ae78505a997a81836e11e9]\n",
       "link E3 to E5--><a href=\"psysml:f0c1a87b-40f9-41dd-914f-8704a756a2ee\" target=\"_top\" title=\"psysml:f0c1a87b-40f9-41dd-914f-8704a756a2ee\" xlink:actuate=\"onRequest\" xlink:href=\"psysml:f0c1a87b-40f9-41dd-914f-8704a756a2ee\" xlink:show=\"new\" xlink:title=\"psysml:f0c1a87b-40f9-41dd-914f-8704a756a2ee\" xlink:type=\"simple\"><path d=\"M140.07,51.78 C138.47,72.5 136.04,120.67 144,160 C145.92,169.49 149.4,179.47 152.99,188.21 \" fill=\"none\" id=\"E3-&gt;E5\" style=\"stroke: #383838; stroke-width: 1.0; stroke-dasharray: 7.0,7.0;\"/><polygon fill=\"#383838\" points=\"154.98,192.92,155.1631,183.0728,153.0346,188.314,147.7935,186.1855,154.98,192.92\" style=\"stroke: #383838; stroke-width: 1.0;\"/><text fill=\"#000000\" font-family=\"sans-serif\" font-size=\"13\" lengthAdjust=\"spacingAndGlyphs\" textLength=\"55\" x=\"145\" y=\"143.0669\">[x == 1]</text></a><!--MD5=[ec9844e0c75763426927cad3229d1081]\n",
       "link E3 to E6--><a href=\"psysml:534d6032-2416-43d2-b21b-3e106f4a7f5b\" target=\"_top\" title=\"psysml:534d6032-2416-43d2-b21b-3e106f4a7f5b\" xlink:actuate=\"onRequest\" xlink:href=\"psysml:534d6032-2416-43d2-b21b-3e106f4a7f5b\" xlink:show=\"new\" xlink:title=\"psysml:534d6032-2416-43d2-b21b-3e106f4a7f5b\" xlink:type=\"simple\"><path d=\"M147.17,46.62 C160.24,57.84 190.71,86.12 205,117 C229.03,168.92 221.32,186.98 226,244 C226.62,251.53 230.06,254.63 226,261 C220.01,270.41 210.02,276.76 199.83,281.03 \" fill=\"none\" id=\"E3-&gt;E6\" style=\"stroke: #383838; stroke-width: 1.0; stroke-dasharray: 7.0,7.0;\"/><polygon fill=\"#383838\" points=\"195.15,282.85,204.9881,283.3102,199.8089,281.035,202.0841,275.8559,195.15,282.85\" style=\"stroke: #383838; stroke-width: 1.0;\"/><text fill=\"#000000\" font-family=\"sans-serif\" font-size=\"13\" lengthAdjust=\"spacingAndGlyphs\" textLength=\"44\" x=\"224\" y=\"181.0669\">[x &gt; 1]</text></a><!--MD5=[ca5a752d6098d8a44b3f88316e7452d1]\n",
       "link E3 to E8--><a href=\"psysml:e6958018-0280-470d-866d-790aaedd3d9a\" target=\"_top\" title=\"psysml:e6958018-0280-470d-866d-790aaedd3d9a\" xlink:actuate=\"onRequest\" xlink:href=\"psysml:e6958018-0280-470d-866d-790aaedd3d9a\" xlink:show=\"new\" xlink:title=\"psysml:e6958018-0280-470d-866d-790aaedd3d9a\" xlink:type=\"simple\"><path d=\"M147.65,45.88 C153.56,49.59 162.55,54.81 171,58 C186.34,63.79 195.35,54.47 207,66 C220.94,79.81 204.74,93.68 217,109 C223.18,116.72 231.96,122.48 240.86,126.73 \" fill=\"none\" id=\"E3-&gt;E8\" style=\"stroke: #383838; stroke-width: 1.0; stroke-dasharray: 7.0,7.0;\"/><polygon fill=\"#383838\" points=\"245.81,128.93,239.2251,121.6061,241.2451,126.89,235.9612,128.91,245.81,128.93\" style=\"stroke: #383838; stroke-width: 1.0;\"/></a><!--MD5=[95fa686b5a16158bcdbcaeead89f639b]\n",
       "link E8 to E3--><a href=\"psysml:7eebbea4-be3a-4ef1-ac68-fab402045136\" target=\"_top\" title=\"psysml:7eebbea4-be3a-4ef1-ac68-fab402045136\" xlink:actuate=\"onRequest\" xlink:href=\"psysml:7eebbea4-be3a-4ef1-ac68-fab402045136\" xlink:show=\"new\" xlink:title=\"psysml:7eebbea4-be3a-4ef1-ac68-fab402045136\" xlink:type=\"simple\"><path d=\"M253.3,116.74 C250.77,114.19 248.29,111.58 246,109 C230.2,91.18 234.22,78.6 214,66 C197.5,55.72 189.3,64.54 171,58 C164.35,55.62 157.42,51.9 151.89,48.59 \" fill=\"none\" id=\"E8-&gt;E3\" style=\"stroke: #383838; stroke-width: 1.0; stroke-dasharray: 7.0,7.0;\"/><polygon fill=\"#383838\" points=\"147.62,45.95,153.1764,54.0818,151.8744,48.5769,157.3793,47.2748,147.62,45.95\" style=\"stroke: #383838; stroke-width: 1.0;\"/><text fill=\"#000000\" font-family=\"sans-serif\" font-size=\"13\" lengthAdjust=\"spacingAndGlyphs\" textLength=\"44\" x=\"247\" y=\"92.0669\">[x &gt; 0]</text></a><!--MD5=[af87c684e3b0d8be13c1a698a818ef1e]\n",
       "link E3 to E4--><a href=\"psysml:b2a8f402-8a6f-47b5-a176-34e34a53fa41\" target=\"_top\" title=\"psysml:b2a8f402-8a6f-47b5-a176-34e34a53fa41\" xlink:actuate=\"onRequest\" xlink:href=\"psysml:b2a8f402-8a6f-47b5-a176-34e34a53fa41\" xlink:show=\"new\" xlink:title=\"psysml:b2a8f402-8a6f-47b5-a176-34e34a53fa41\" xlink:type=\"simple\"><path d=\"M130.87,42.54 C108.03,45.11 53.64,52.54 42,66 C28.37,81.77 29.55,107.42 32.02,123.33 \" fill=\"none\" id=\"E3-&gt;E4\" style=\"stroke: #383838; stroke-width: 1.0; stroke-dasharray: 7.0,7.0;\"/><polygon fill=\"#383838\" points=\"32.88,128.32,35.3057,118.7745,32.0372,123.3915,27.4201,120.1231,32.88,128.32\" style=\"stroke: #383838; stroke-width: 1.0;\"/></a><!--MD5=[1b7591eae5389033d8d09a9d6721a717]\n",
       "link E4 to E5--><a href=\"psysml:d4e4cf4f-ca71-4ae2-aa8b-453c4e696e69\" target=\"_top\" title=\"psysml:d4e4cf4f-ca71-4ae2-aa8b-453c4e696e69\" xlink:actuate=\"onRequest\" xlink:href=\"psysml:d4e4cf4f-ca71-4ae2-aa8b-453c4e696e69\" xlink:show=\"new\" xlink:title=\"psysml:d4e4cf4f-ca71-4ae2-aa8b-453c4e696e69\" xlink:type=\"simple\"><path d=\"M40.09,145.69 C48.35,155.37 65.62,174.11 84,185 C93.67,190.73 97.38,189.32 108,193 C115.1,195.46 122.69,198.15 129.93,200.74 \" fill=\"none\" id=\"E4-&gt;E5\" style=\"stroke: #383838; stroke-width: 1.0; stroke-dasharray: 7.0,7.0;\"/><polygon fill=\"#383838\" points=\"134.87,202.52,127.7488,195.7164,130.1636,200.832,125.048,203.2467,134.87,202.52\" style=\"stroke: #383838; stroke-width: 1.0;\"/><text fill=\"#000000\" font-family=\"sans-serif\" font-size=\"13\" lengthAdjust=\"spacingAndGlyphs\" textLength=\"36\" x=\"85\" y=\"181.0669\">[true]</text></a><!--MD5=[79568f1e445c3877b6a54524624ccc7d]\n",
       "link E4 to E6--><a href=\"psysml:07d2ed15-614f-457b-995c-67ac116a921b\" target=\"_top\" title=\"psysml:07d2ed15-614f-457b-995c-67ac116a921b\" xlink:actuate=\"onRequest\" xlink:href=\"psysml:07d2ed15-614f-457b-995c-67ac116a921b\" xlink:show=\"new\" xlink:title=\"psysml:07d2ed15-614f-457b-995c-67ac116a921b\" xlink:type=\"simple\"><path d=\"M36.89,148.77 C41.08,167.27 52.64,209.28 76,236 C90.77,252.89 112.21,266 130.35,275.02 \" fill=\"none\" id=\"E4-&gt;E6\" style=\"stroke: #383838; stroke-width: 1.0; stroke-dasharray: 7.0,7.0;\"/><polygon fill=\"#383838\" points=\"134.88,277.22,128.532,269.6898,130.3825,275.0355,125.0368,276.8859,134.88,277.22\" style=\"stroke: #383838; stroke-width: 1.0;\"/><text fill=\"#000000\" font-family=\"sans-serif\" font-size=\"13\" lengthAdjust=\"spacingAndGlyphs\" textLength=\"40\" x=\"77\" y=\"219.0669\">[false]</text></a><!--MD5=[9120cf2e5df3bff93db8f754bbbc09b4]\n",
       "link E5 to E6--><a href=\"psysml:b67ea915-0e8a-4542-80c4-8f1f8e1002d6\" target=\"_top\" title=\"psysml:b67ea915-0e8a-4542-80c4-8f1f8e1002d6\" xlink:actuate=\"onRequest\" xlink:href=\"psysml:b67ea915-0e8a-4542-80c4-8f1f8e1002d6\" xlink:show=\"new\" xlink:title=\"psysml:b67ea915-0e8a-4542-80c4-8f1f8e1002d6\" xlink:type=\"simple\"><path d=\"M165,236.11 C165,244.69 165,254.75 165,263.8 \" fill=\"none\" id=\"E5-&gt;E6\" style=\"stroke: #383838; stroke-width: 1.0; stroke-dasharray: 7.0,7.0;\"/><polygon fill=\"#383838\" points=\"165,269,169,260,165,264,161,260,165,269\" style=\"stroke: #383838; stroke-width: 1.0;\"/><text fill=\"#000000\" font-family=\"sans-serif\" font-size=\"13\" lengthAdjust=\"spacingAndGlyphs\" textLength=\"55\" x=\"166\" y=\"257.0669\">[x == 0]</text></a><!--MD5=[657859a0628f0e437607004a009a4d25]\n",
       "@startuml\r\n",
       "skinparam ranksep 8\r\n",
       "top to bottom direction\r\n",
       "skinparam monochrome true\r\n",
       "skinparam classbackgroundcolor white\r\n",
       "skinparam shadowing false\r\n",
       "skinparam wrapWidth 300\r\n",
       "hide circle\r\n",
       "\r\n",
       "rec def \"DecisionTest\" as E1  <<(T,blue)action def>> [[psysml:704d58b1-847a-4b5f-8ef4-b4da5c2432eb ]] {\r\n",
       "portout \"$result\" as E2  [[psysml:d3db88a9-d6e2-4728-bacb-cdc83b04fb60 ]] \r\n",
       "choice \"test x\" as E3  [[psysml:07816a00-a6c6-49d5-84be-841a1e7e2f6a ]] \r\n",
       "choice \"noname\" as E4  [[psysml:26311404-6ce6-4dcd-89ed-d43ec51ac22a ]] \r\n",
       "rec usage \"A1\" as E5  <<(T,blue)action>> [[psysml:f4b16115-f2df-4145-8494-1e5aced0fe90 ]] {\r\n",
       "}\r\n",
       "\r\n",
       "rec usage \"A2\" as E6  <<(T,blue)action>> [[psysml:ffb4dce0-5cb8-4add-9e67-ebd1f2f3deb3 ]] {\r\n",
       "}\r\n",
       "\r\n",
       "rec usage \"A3\" as E7  <<(T,blue)action>> [[psysml:dc91d98e-27d3-4fe3-8c05-9cedeab5907b ]] {\r\n",
       "}\r\n",
       "\r\n",
       "rec usage \"A3\" as E8  <<(T,blue)action>> [[psysml:dc91d98e-27d3-4fe3-8c05-9cedeab5907b ]] {\r\n",
       "}\r\n",
       "\r\n",
       "}\r\n",
       "\r\n",
       "E3 ..> E5 [[psysml:f0c1a87b-40f9-41dd-914f-8704a756a2ee ]] : [x == 1]\r\n",
       "E3 ..> E6 [[psysml:534d6032-2416-43d2-b21b-3e106f4a7f5b ]] : [x > 1]\r\n",
       "E3 ..> E8 [[psysml:e6958018-0280-470d-866d-790aaedd3d9a ]] \r\n",
       "E3 ..> E4 [[psysml:b2a8f402-8a6f-47b5-a176-34e34a53fa41 ]] \r\n",
       "E4 ..> E5 [[psysml:d4e4cf4f-ca71-4ae2-aa8b-453c4e696e69 ]] : [true]\r\n",
       "E4 ..> E6 [[psysml:07d2ed15-614f-457b-995c-67ac116a921b ]] : [false]\r\n",
       "E5 ..> E6 [[psysml:b67ea915-0e8a-4542-80c4-8f1f8e1002d6 ]] : [x == 0]\r\n",
       "E8 ..> E3 [[psysml:7eebbea4-be3a-4ef1-ac68-fab402045136 ]] : [x > 0]\r\n",
       "@enduml\r\n",
       "\n",
       "PlantUML version 1.2020.13(Sat Jun 13 12:26:38 UTC 2020)\n",
       "(EPL source distribution)\n",
       "Java Runtime: OpenJDK Runtime Environment\n",
       "JVM: OpenJDK 64-Bit Server VM\n",
       "Default Encoding: UTF-8\n",
       "Language: en\n",
       "Country: null\n",
       "--></g></svg>"
      ]
     },
     "execution_count": 48,
     "metadata": {},
     "output_type": "execute_result"
    }
   ],
   "source": [
    "%viz --style=\"TB\" --view=\"Action\" \"DecisionTest\""
   ]
  },
  {
   "cell_type": "code",
   "execution_count": 49,
   "id": "f47b61ae",
   "metadata": {
    "execution": {
     "iopub.execute_input": "2021-04-20T07:01:23.434401Z",
     "iopub.status.busy": "2021-04-20T07:01:23.434061Z",
     "iopub.status.idle": "2021-04-20T07:01:23.503359Z",
     "shell.execute_reply": "2021-04-20T07:01:23.503014Z"
    }
   },
   "outputs": [
    {
     "data": {
      "image/svg+xml": [
       "<?xml version=\"1.0\" encoding=\"UTF-8\" standalone=\"no\"?><svg xmlns=\"http://www.w3.org/2000/svg\" xmlns:xlink=\"http://www.w3.org/1999/xlink\" contentScriptType=\"application/ecmascript\" contentStyleType=\"text/css\" height=\"207px\" preserveAspectRatio=\"none\" style=\"width:109px;height:207px;\" version=\"1.1\" viewBox=\"0 0 109 207\" width=\"109px\" zoomAndPan=\"magnify\"><defs/><g><!--MD5=[43c9051892ef23e1a46a86907403d788]\n",
       "class E1--><a href=\"psysml:704d58b1-847a-4b5f-8ef4-b4da5c2432eb\" target=\"_top\" title=\"psysml:704d58b1-847a-4b5f-8ef4-b4da5c2432eb\" xlink:actuate=\"onRequest\" xlink:href=\"psysml:704d58b1-847a-4b5f-8ef4-b4da5c2432eb\" xlink:show=\"new\" xlink:title=\"psysml:704d58b1-847a-4b5f-8ef4-b4da5c2432eb\" xlink:type=\"simple\"><rect fill=\"#FFFFFF\" height=\"189.9844\" id=\"E1\" style=\"stroke: #383838; stroke-width: 1.5;\" width=\"91\" x=\"7\" y=\"7\"/><text fill=\"#000000\" font-family=\"sans-serif\" font-size=\"12\" font-style=\"italic\" lengthAdjust=\"spacingAndGlyphs\" textLength=\"77\" x=\"14\" y=\"23.1387\">«action def»</text><text fill=\"#000000\" font-family=\"sans-serif\" font-size=\"12\" lengthAdjust=\"spacingAndGlyphs\" textLength=\"80\" x=\"12.5\" y=\"37.1074\">DecisionTest</text><line style=\"stroke: #383838; stroke-width: 1.5;\" x1=\"8\" x2=\"97\" y1=\"44.9375\" y2=\"44.9375\"/><text fill=\"#000000\" font-family=\"sans-serif\" font-size=\"11\" lengthAdjust=\"spacingAndGlyphs\" textLength=\"26\" x=\"13\" y=\"75.9526\">x=1;</text><line style=\"stroke: #383838; stroke-width: 1.0;\" x1=\"8\" x2=\"25\" y1=\"59.3398\" y2=\"59.3398\"/><text fill=\"#000000\" font-family=\"sans-serif\" font-size=\"11\" lengthAdjust=\"spacingAndGlyphs\" textLength=\"55\" x=\"25\" y=\"62.6479\">attributes</text><line style=\"stroke: #383838; stroke-width: 1.0;\" x1=\"80\" x2=\"97\" y1=\"59.3398\" y2=\"59.3398\"/><text fill=\"#000000\" font-family=\"sans-serif\" font-size=\"11\" lengthAdjust=\"spacingAndGlyphs\" textLength=\"14\" x=\"13\" y=\"105.562\">A1</text><text fill=\"#000000\" font-family=\"sans-serif\" font-size=\"11\" lengthAdjust=\"spacingAndGlyphs\" textLength=\"14\" x=\"13\" y=\"118.3667\">A2</text><text fill=\"#000000\" font-family=\"sans-serif\" font-size=\"11\" lengthAdjust=\"spacingAndGlyphs\" textLength=\"14\" x=\"13\" y=\"131.1714\">A3</text><line style=\"stroke: #383838; stroke-width: 1.0;\" x1=\"8\" x2=\"32\" y1=\"88.9492\" y2=\"88.9492\"/><text fill=\"#000000\" font-family=\"sans-serif\" font-size=\"11\" lengthAdjust=\"spacingAndGlyphs\" textLength=\"41\" x=\"32\" y=\"92.2573\">actions</text><line style=\"stroke: #383838; stroke-width: 1.0;\" x1=\"73\" x2=\"97\" y1=\"88.9492\" y2=\"88.9492\"/><text fill=\"#000000\" font-family=\"sans-serif\" font-size=\"11\" lengthAdjust=\"spacingAndGlyphs\" textLength=\"32\" x=\"13\" y=\"160.7808\">test x</text><line style=\"stroke: #383838; stroke-width: 1.0;\" x1=\"8\" x2=\"11\" y1=\"144.168\" y2=\"144.168\"/><text fill=\"#000000\" font-family=\"sans-serif\" font-size=\"11\" lengthAdjust=\"spacingAndGlyphs\" textLength=\"83\" x=\"11\" y=\"147.4761\">decisionNodes</text><line style=\"stroke: #383838; stroke-width: 1.0;\" x1=\"94\" x2=\"97\" y1=\"144.168\" y2=\"144.168\"/><text fill=\"#000000\" font-family=\"sans-serif\" font-size=\"11\" lengthAdjust=\"spacingAndGlyphs\" textLength=\"8\" x=\"13\" y=\"190.3901\">S</text><line style=\"stroke: #383838; stroke-width: 1.0;\" x1=\"8\" x2=\"22\" y1=\"173.7773\" y2=\"173.7773\"/><text fill=\"#000000\" font-family=\"sans-serif\" font-size=\"11\" lengthAdjust=\"spacingAndGlyphs\" textLength=\"61\" x=\"22\" y=\"177.0854\">transitions</text><line style=\"stroke: #383838; stroke-width: 1.0;\" x1=\"83\" x2=\"97\" y1=\"173.7773\" y2=\"173.7773\"/></a><!--MD5=[7d6d24c4a1d6777fcb1160fbe682cb23]\n",
       "@startuml\r\n",
       "top to bottom direction\r\n",
       "skinparam monochrome true\r\n",
       "skinparam classbackgroundcolor white\r\n",
       "skinparam shadowing false\r\n",
       "skinparam wrapWidth 300\r\n",
       "hide circle\r\n",
       "\r\n",
       "comp def \"DecisionTest\" as E1  <<(T,blue)action def>> [[psysml:704d58b1-847a-4b5f-8ef4-b4da5c2432eb ]] {\r\n",
       "- - attributes - -\r\n",
       "x=1; \r\n",
       "- - actions - -\r\n",
       "A1\r\n",
       "A2\r\n",
       "A3\r\n",
       "- - decisionNodes - -\r\n",
       "test x\r\n",
       "- - transitions - -\r\n",
       "S\r\n",
       "}\r\n",
       "@enduml\r\n",
       "\n",
       "PlantUML version 1.2020.13(Sat Jun 13 12:26:38 UTC 2020)\n",
       "(EPL source distribution)\n",
       "Java Runtime: OpenJDK Runtime Environment\n",
       "JVM: OpenJDK 64-Bit Server VM\n",
       "Default Encoding: UTF-8\n",
       "Language: en\n",
       "Country: null\n",
       "--></g></svg>"
      ]
     },
     "execution_count": 49,
     "metadata": {},
     "output_type": "execute_result"
    }
   ],
   "source": [
    "%viz --style=\"TB\" --view=\"Sequence\" \"DecisionTest\""
   ]
  },
  {
   "cell_type": "code",
   "execution_count": 50,
   "id": "98b78d61",
   "metadata": {
    "execution": {
     "iopub.execute_input": "2021-04-20T07:01:23.575374Z",
     "iopub.status.busy": "2021-04-20T07:01:23.574959Z",
     "iopub.status.idle": "2021-04-20T07:01:23.606706Z",
     "shell.execute_reply": "2021-04-20T07:01:23.606989Z"
    }
   },
   "outputs": [
    {
     "data": {
      "image/svg+xml": [
       "<?xml version=\"1.0\" encoding=\"UTF-8\" standalone=\"no\"?><svg xmlns=\"http://www.w3.org/2000/svg\" xmlns:xlink=\"http://www.w3.org/1999/xlink\" contentScriptType=\"application/ecmascript\" contentStyleType=\"text/css\" height=\"574px\" preserveAspectRatio=\"none\" style=\"width:333px;height:574px;\" version=\"1.1\" viewBox=\"0 0 333 574\" width=\"333px\" zoomAndPan=\"magnify\"><defs/><g><!--MD5=[fbc87193dbaf4d95561dea2c320d4a47]\n",
       "cluster E1--><a href=\"psysml:704d58b1-847a-4b5f-8ef4-b4da5c2432eb\" target=\"_top\" title=\"psysml:704d58b1-847a-4b5f-8ef4-b4da5c2432eb\" xlink:actuate=\"onRequest\" xlink:href=\"psysml:704d58b1-847a-4b5f-8ef4-b4da5c2432eb\" xlink:show=\"new\" xlink:title=\"psysml:704d58b1-847a-4b5f-8ef4-b4da5c2432eb\" xlink:type=\"simple\"><rect fill=\"#FFFFFF\" height=\"534.72\" id=\"E1\" style=\"stroke: #383838; stroke-width: 1.5;\" width=\"315\" x=\"7\" y=\"7\"/><rect fill=\"#F8F8F8\" height=\"37.9375\" style=\"stroke: #383838; stroke-width: 1.5;\" width=\"315\" x=\"7\" y=\"7\"/><text fill=\"#000000\" font-family=\"sans-serif\" font-size=\"12\" font-style=\"italic\" lengthAdjust=\"spacingAndGlyphs\" textLength=\"77\" x=\"126\" y=\"23.1387\">«action def»</text><text fill=\"#000000\" font-family=\"sans-serif\" font-size=\"12\" lengthAdjust=\"spacingAndGlyphs\" textLength=\"80\" x=\"124.5\" y=\"37.1074\">DecisionTest</text></a><text fill=\"#000000\" font-family=\"sans-serif\" font-size=\"14\" lengthAdjust=\"spacingAndGlyphs\" textLength=\"48\" x=\"140\" y=\"560.7151\">$result</text><rect fill=\"#383838\" height=\"12\" style=\"stroke: #F8F8F8; stroke-width: 1.5;\" width=\"12\" x=\"158\" y=\"535.72\"/><polygon fill=\"#F8F8F8\" points=\"141,28.5,153,40.5,141,52.5,129,40.5,141,28.5\" style=\"stroke: #383838; stroke-width: 1.5;\"/><polygon fill=\"#F8F8F8\" points=\"35,170.5,47,182.5,35,194.5,23,182.5,35,170.5\" style=\"stroke: #383838; stroke-width: 1.5;\"/><g id=\"E1.E5\"><a href=\"psysml:f4b16115-f2df-4145-8494-1e5aced0fe90\" target=\"_top\" title=\"psysml:f4b16115-f2df-4145-8494-1e5aced0fe90\" xlink:actuate=\"onRequest\" xlink:href=\"psysml:f4b16115-f2df-4145-8494-1e5aced0fe90\" xlink:show=\"new\" xlink:title=\"psysml:f4b16115-f2df-4145-8494-1e5aced0fe90\" xlink:type=\"simple\"><rect fill=\"#FFFFFF\" height=\"42.9375\" id=\"E5\" rx=\"10\" ry=\"10\" style=\"stroke: #383838; stroke-width: 1.5;\" width=\"60\" x=\"135\" y=\"281\"/><rect fill=\"#F8F8F8\" height=\"37.9375\" rx=\"10\" ry=\"10\" style=\"stroke: #F8F8F8; stroke-width: 1.5;\" width=\"60\" x=\"135\" y=\"281\"/><rect fill=\"#F8F8F8\" height=\"10\" style=\"stroke: #F8F8F8; stroke-width: 1.5;\" width=\"60\" x=\"135\" y=\"308.9375\"/><rect fill=\"none\" height=\"42.9375\" id=\"E5\" rx=\"10\" ry=\"10\" style=\"stroke: #383838; stroke-width: 1.5;\" width=\"60\" x=\"135\" y=\"281\"/><text fill=\"#000000\" font-family=\"sans-serif\" font-size=\"12\" font-style=\"italic\" lengthAdjust=\"spacingAndGlyphs\" textLength=\"53\" x=\"138.5\" y=\"297.1387\">«action»</text><text fill=\"#000000\" font-family=\"sans-serif\" font-size=\"12\" lengthAdjust=\"spacingAndGlyphs\" textLength=\"16\" x=\"157\" y=\"311.1074\">A1</text></a></g><g id=\"E1.E6\"><a href=\"psysml:ffb4dce0-5cb8-4add-9e67-ebd1f2f3deb3\" target=\"_top\" title=\"psysml:ffb4dce0-5cb8-4add-9e67-ebd1f2f3deb3\" xlink:actuate=\"onRequest\" xlink:href=\"psysml:ffb4dce0-5cb8-4add-9e67-ebd1f2f3deb3\" xlink:show=\"new\" xlink:title=\"psysml:ffb4dce0-5cb8-4add-9e67-ebd1f2f3deb3\" xlink:type=\"simple\"><rect fill=\"#FFFFFF\" height=\"42.9375\" id=\"E6\" rx=\"10\" ry=\"10\" style=\"stroke: #383838; stroke-width: 1.5;\" width=\"60\" x=\"135\" y=\"401\"/><rect fill=\"#F8F8F8\" height=\"37.9375\" rx=\"10\" ry=\"10\" style=\"stroke: #F8F8F8; stroke-width: 1.5;\" width=\"60\" x=\"135\" y=\"401\"/><rect fill=\"#F8F8F8\" height=\"10\" style=\"stroke: #F8F8F8; stroke-width: 1.5;\" width=\"60\" x=\"135\" y=\"428.9375\"/><rect fill=\"none\" height=\"42.9375\" id=\"E6\" rx=\"10\" ry=\"10\" style=\"stroke: #383838; stroke-width: 1.5;\" width=\"60\" x=\"135\" y=\"401\"/><text fill=\"#000000\" font-family=\"sans-serif\" font-size=\"12\" font-style=\"italic\" lengthAdjust=\"spacingAndGlyphs\" textLength=\"53\" x=\"138.5\" y=\"417.1387\">«action»</text><text fill=\"#000000\" font-family=\"sans-serif\" font-size=\"12\" lengthAdjust=\"spacingAndGlyphs\" textLength=\"16\" x=\"157\" y=\"431.1074\">A2</text></a></g><g id=\"E1.E7\"><a href=\"psysml:dc91d98e-27d3-4fe3-8c05-9cedeab5907b\" target=\"_top\" title=\"psysml:dc91d98e-27d3-4fe3-8c05-9cedeab5907b\" xlink:actuate=\"onRequest\" xlink:href=\"psysml:dc91d98e-27d3-4fe3-8c05-9cedeab5907b\" xlink:show=\"new\" xlink:title=\"psysml:dc91d98e-27d3-4fe3-8c05-9cedeab5907b\" xlink:type=\"simple\"><rect fill=\"#FFFFFF\" height=\"42.9375\" id=\"E7\" rx=\"10\" ry=\"10\" style=\"stroke: #383838; stroke-width: 1.5;\" width=\"60\" x=\"46\" y=\"88\"/><rect fill=\"#F8F8F8\" height=\"37.9375\" rx=\"10\" ry=\"10\" style=\"stroke: #F8F8F8; stroke-width: 1.5;\" width=\"60\" x=\"46\" y=\"88\"/><rect fill=\"#F8F8F8\" height=\"10\" style=\"stroke: #F8F8F8; stroke-width: 1.5;\" width=\"60\" x=\"46\" y=\"115.9375\"/><rect fill=\"none\" height=\"42.9375\" id=\"E7\" rx=\"10\" ry=\"10\" style=\"stroke: #383838; stroke-width: 1.5;\" width=\"60\" x=\"46\" y=\"88\"/><text fill=\"#000000\" font-family=\"sans-serif\" font-size=\"12\" font-style=\"italic\" lengthAdjust=\"spacingAndGlyphs\" textLength=\"53\" x=\"49.5\" y=\"104.1387\">«action»</text><text fill=\"#000000\" font-family=\"sans-serif\" font-size=\"12\" lengthAdjust=\"spacingAndGlyphs\" textLength=\"16\" x=\"68\" y=\"118.1074\">A3</text></a></g><g id=\"E1.E8\"><a href=\"psysml:dc91d98e-27d3-4fe3-8c05-9cedeab5907b\" target=\"_top\" title=\"psysml:dc91d98e-27d3-4fe3-8c05-9cedeab5907b\" xlink:actuate=\"onRequest\" xlink:href=\"psysml:dc91d98e-27d3-4fe3-8c05-9cedeab5907b\" xlink:show=\"new\" xlink:title=\"psysml:dc91d98e-27d3-4fe3-8c05-9cedeab5907b\" xlink:type=\"simple\"><rect fill=\"#FFFFFF\" height=\"42.9375\" id=\"E8\" rx=\"10\" ry=\"10\" style=\"stroke: #383838; stroke-width: 1.5;\" width=\"60\" x=\"246\" y=\"161\"/><rect fill=\"#F8F8F8\" height=\"37.9375\" rx=\"10\" ry=\"10\" style=\"stroke: #F8F8F8; stroke-width: 1.5;\" width=\"60\" x=\"246\" y=\"161\"/><rect fill=\"#F8F8F8\" height=\"10\" style=\"stroke: #F8F8F8; stroke-width: 1.5;\" width=\"60\" x=\"246\" y=\"188.9375\"/><rect fill=\"none\" height=\"42.9375\" id=\"E8\" rx=\"10\" ry=\"10\" style=\"stroke: #383838; stroke-width: 1.5;\" width=\"60\" x=\"246\" y=\"161\"/><text fill=\"#000000\" font-family=\"sans-serif\" font-size=\"12\" font-style=\"italic\" lengthAdjust=\"spacingAndGlyphs\" textLength=\"53\" x=\"249.5\" y=\"177.1387\">«action»</text><text fill=\"#000000\" font-family=\"sans-serif\" font-size=\"12\" lengthAdjust=\"spacingAndGlyphs\" textLength=\"16\" x=\"268\" y=\"191.1074\">A3</text></a></g><!--MD5=[0188b64bb0ae78505a997a81836e11e9]\n",
       "link E3 to E5--><a href=\"psysml:f0c1a87b-40f9-41dd-914f-8704a756a2ee\" target=\"_top\" title=\"psysml:f0c1a87b-40f9-41dd-914f-8704a756a2ee\" xlink:actuate=\"onRequest\" xlink:href=\"psysml:f0c1a87b-40f9-41dd-914f-8704a756a2ee\" xlink:show=\"new\" xlink:title=\"psysml:f0c1a87b-40f9-41dd-914f-8704a756a2ee\" xlink:type=\"simple\"><path d=\"M140.49,52.19 C139.39,78.26 137.41,147.1 144,204 C146.84,228.53 153.03,255.98 157.96,275.49 \" fill=\"none\" id=\"E3-&gt;E5\" style=\"stroke: #383838; stroke-width: 1.0;\"/><polygon fill=\"#383838\" points=\"159.31,280.77,160.9741,271.0627,158.0805,275.9235,153.2197,273.0299,159.31,280.77\" style=\"stroke: #383838; stroke-width: 1.0;\"/><text fill=\"#000000\" font-family=\"sans-serif\" font-size=\"13\" lengthAdjust=\"spacingAndGlyphs\" textLength=\"55\" x=\"145\" y=\"187.0669\">[x == 1]</text></a><!--MD5=[ec9844e0c75763426927cad3229d1081]\n",
       "link E3 to E6--><a href=\"psysml:534d6032-2416-43d2-b21b-3e106f4a7f5b\" target=\"_top\" title=\"psysml:534d6032-2416-43d2-b21b-3e106f4a7f5b\" xlink:actuate=\"onRequest\" xlink:href=\"psysml:534d6032-2416-43d2-b21b-3e106f4a7f5b\" xlink:show=\"new\" xlink:title=\"psysml:534d6032-2416-43d2-b21b-3e106f4a7f5b\" xlink:type=\"simple\"><path d=\"M145.73,48.09 C157.96,65.53 190.67,114.68 205,161 C230.5,243.43 221.33,267.84 226,354 C226.41,361.54 229.22,364.16 226,371 C220.27,383.19 209.98,393.45 199.48,401.47 \" fill=\"none\" id=\"E3-&gt;E6\" style=\"stroke: #383838; stroke-width: 1.0;\"/><polygon fill=\"#383838\" points=\"195.29,404.54,204.9073,402.4168,199.3138,401.5721,200.1586,395.9786,195.29,404.54\" style=\"stroke: #383838; stroke-width: 1.0;\"/><text fill=\"#000000\" font-family=\"sans-serif\" font-size=\"13\" lengthAdjust=\"spacingAndGlyphs\" textLength=\"44\" x=\"223\" y=\"247.0669\">[x &gt; 1]</text></a><!--MD5=[ca5a752d6098d8a44b3f88316e7452d1]\n",
       "link E3 to E8--><a href=\"psysml:e6958018-0280-470d-866d-790aaedd3d9a\" target=\"_top\" title=\"psysml:e6958018-0280-470d-866d-790aaedd3d9a\" xlink:actuate=\"onRequest\" xlink:href=\"psysml:e6958018-0280-470d-866d-790aaedd3d9a\" xlink:show=\"new\" xlink:title=\"psysml:e6958018-0280-470d-866d-790aaedd3d9a\" xlink:type=\"simple\"><path d=\"M147.97,45.53 C163.29,54.53 199.17,76.37 207,88 C217.96,104.27 206.82,114.23 217,131 C223.37,141.49 232.66,150.9 242,158.68 \" fill=\"none\" id=\"E3-&gt;E8\" style=\"stroke: #383838; stroke-width: 1.0;\"/><polygon fill=\"#383838\" points=\"246,161.91,241.5179,153.1401,242.1124,158.7657,236.4869,159.3602,246,161.91\" style=\"stroke: #383838; stroke-width: 1.0;\"/></a><!--MD5=[95fa686b5a16158bcdbcaeead89f639b]\n",
       "link E8 to E3--><a href=\"psysml:7eebbea4-be3a-4ef1-ac68-fab402045136\" target=\"_top\" title=\"psysml:7eebbea4-be3a-4ef1-ac68-fab402045136\" xlink:actuate=\"onRequest\" xlink:href=\"psysml:7eebbea4-be3a-4ef1-ac68-fab402045136\" xlink:show=\"new\" xlink:title=\"psysml:7eebbea4-be3a-4ef1-ac68-fab402045136\" xlink:type=\"simple\"><path d=\"M263.71,160.86 C249.28,137.02 225.81,99.6 214,88 C204.2,78.38 171.17,58.79 153.08,48.37 \" fill=\"none\" id=\"E8-&gt;E3\" style=\"stroke: #383838; stroke-width: 1.0;\"/><polygon fill=\"#383838\" points=\"148.41,45.69,154.234,53.6323,152.7495,48.1738,158.208,46.6892,148.41,45.69\" style=\"stroke: #383838; stroke-width: 1.0;\"/><text fill=\"#000000\" font-family=\"sans-serif\" font-size=\"13\" lengthAdjust=\"spacingAndGlyphs\" textLength=\"44\" x=\"244\" y=\"114.0669\">[x &gt; 0]</text></a><!--MD5=[af87c684e3b0d8be13c1a698a818ef1e]\n",
       "link E3 to E4--><a href=\"psysml:b2a8f402-8a6f-47b5-a176-34e34a53fa41\" target=\"_top\" title=\"psysml:b2a8f402-8a6f-47b5-a176-34e34a53fa41\" xlink:actuate=\"onRequest\" xlink:href=\"psysml:b2a8f402-8a6f-47b5-a176-34e34a53fa41\" xlink:show=\"new\" xlink:title=\"psysml:b2a8f402-8a6f-47b5-a176-34e34a53fa41\" xlink:type=\"simple\"><path d=\"M131.03,42.86 C110.41,46.26 63.22,57.19 42,88 C25.54,111.89 28.61,147.84 31.99,167.47 \" fill=\"none\" id=\"E3-&gt;E4\" style=\"stroke: #383838; stroke-width: 1.0;\"/><polygon fill=\"#383838\" points=\"32.94,172.56,35.2263,162.9802,32.0255,167.6443,27.3613,164.4435,32.94,172.56\" style=\"stroke: #383838; stroke-width: 1.0;\"/></a><!--MD5=[1b7591eae5389033d8d09a9d6721a717]\n",
       "link E4 to E5--><a href=\"psysml:d4e4cf4f-ca71-4ae2-aa8b-453c4e696e69\" target=\"_top\" title=\"psysml:d4e4cf4f-ca71-4ae2-aa8b-453c4e696e69\" xlink:actuate=\"onRequest\" xlink:href=\"psysml:d4e4cf4f-ca71-4ae2-aa8b-453c4e696e69\" xlink:show=\"new\" xlink:title=\"psysml:d4e4cf4f-ca71-4ae2-aa8b-453c4e696e69\" xlink:type=\"simple\"><path d=\"M39.08,190.91 C46.63,204.15 63.87,232.24 84,251 C97.73,263.8 115.17,275.16 130.35,283.85 \" fill=\"none\" id=\"E4-&gt;E5\" style=\"stroke: #383838; stroke-width: 1.0;\"/><polygon fill=\"#383838\" points=\"134.98,286.46,129.0858,278.5696,130.6187,284.0148,125.1735,285.5477,134.98,286.46\" style=\"stroke: #383838; stroke-width: 1.0;\"/><text fill=\"#000000\" font-family=\"sans-serif\" font-size=\"13\" lengthAdjust=\"spacingAndGlyphs\" textLength=\"36\" x=\"85\" y=\"247.0669\">[true]</text></a><!--MD5=[79568f1e445c3877b6a54524624ccc7d]\n",
       "link E4 to E6--><a href=\"psysml:07d2ed15-614f-457b-995c-67ac116a921b\" target=\"_top\" title=\"psysml:07d2ed15-614f-457b-995c-67ac116a921b\" xlink:actuate=\"onRequest\" xlink:href=\"psysml:07d2ed15-614f-457b-995c-67ac116a921b\" xlink:show=\"new\" xlink:title=\"psysml:07d2ed15-614f-457b-995c-67ac116a921b\" xlink:type=\"simple\"><path d=\"M36.3,193.29 C39.76,217.03 50.73,279.03 76,324 C91.89,352.29 117.42,379.1 137.07,397.43 \" fill=\"none\" id=\"E4-&gt;E6\" style=\"stroke: #383838; stroke-width: 1.0;\"/><polygon fill=\"#383838\" points=\"140.92,400.98,137.0155,391.9382,137.2443,397.5904,131.5921,397.8192,140.92,400.98\" style=\"stroke: #383838; stroke-width: 1.0;\"/><text fill=\"#000000\" font-family=\"sans-serif\" font-size=\"13\" lengthAdjust=\"spacingAndGlyphs\" textLength=\"40\" x=\"77\" y=\"307.0669\">[false]</text></a><!--MD5=[9120cf2e5df3bff93db8f754bbbc09b4]\n",
       "link E5 to E6--><a href=\"psysml:b67ea915-0e8a-4542-80c4-8f1f8e1002d6\" target=\"_top\" title=\"psysml:b67ea915-0e8a-4542-80c4-8f1f8e1002d6\" xlink:actuate=\"onRequest\" xlink:href=\"psysml:b67ea915-0e8a-4542-80c4-8f1f8e1002d6\" xlink:show=\"new\" xlink:title=\"psysml:b67ea915-0e8a-4542-80c4-8f1f8e1002d6\" xlink:type=\"simple\"><path d=\"M165,324.05 C165,343.9 165,374.02 165,395.52 \" fill=\"none\" id=\"E5-&gt;E6\" style=\"stroke: #383838; stroke-width: 1.0;\"/><polygon fill=\"#383838\" points=\"165,400.79,169,391.79,165,395.79,161,391.79,165,400.79\" style=\"stroke: #383838; stroke-width: 1.0;\"/><text fill=\"#000000\" font-family=\"sans-serif\" font-size=\"13\" lengthAdjust=\"spacingAndGlyphs\" textLength=\"55\" x=\"166\" y=\"367.0669\">[x == 0]</text></a><!--MD5=[4e538a2b454849cc40ce975b8060371b]\n",
       "@startuml\r\n",
       "top to bottom direction\r\n",
       "skinparam monochrome true\r\n",
       "skinparam classbackgroundcolor white\r\n",
       "skinparam shadowing false\r\n",
       "skinparam wrapWidth 300\r\n",
       "hide circle\r\n",
       "\r\n",
       "rec def \"DecisionTest\" as E1  <<(T,blue)action def>> [[psysml:704d58b1-847a-4b5f-8ef4-b4da5c2432eb ]] {\r\n",
       "portout \"$result\" as E2  [[psysml:d3db88a9-d6e2-4728-bacb-cdc83b04fb60 ]] \r\n",
       "choice \"test x\" as E3  [[psysml:07816a00-a6c6-49d5-84be-841a1e7e2f6a ]] \r\n",
       "choice \"noname\" as E4  [[psysml:26311404-6ce6-4dcd-89ed-d43ec51ac22a ]] \r\n",
       "rec usage \"A1\" as E5  <<(T,blue)action>> [[psysml:f4b16115-f2df-4145-8494-1e5aced0fe90 ]] {\r\n",
       "}\r\n",
       "\r\n",
       "rec usage \"A2\" as E6  <<(T,blue)action>> [[psysml:ffb4dce0-5cb8-4add-9e67-ebd1f2f3deb3 ]] {\r\n",
       "}\r\n",
       "\r\n",
       "rec usage \"A3\" as E7  <<(T,blue)action>> [[psysml:dc91d98e-27d3-4fe3-8c05-9cedeab5907b ]] {\r\n",
       "}\r\n",
       "\r\n",
       "rec usage \"A3\" as E8  <<(T,blue)action>> [[psysml:dc91d98e-27d3-4fe3-8c05-9cedeab5907b ]] {\r\n",
       "}\r\n",
       "\r\n",
       "}\r\n",
       "\r\n",
       "E3  - -> E5 [[psysml:f0c1a87b-40f9-41dd-914f-8704a756a2ee ]] : [x == 1]\r\n",
       "E3  - -> E6 [[psysml:534d6032-2416-43d2-b21b-3e106f4a7f5b ]] : [x > 1]\r\n",
       "E3  - -> E8 [[psysml:e6958018-0280-470d-866d-790aaedd3d9a ]] \r\n",
       "E3 - -> E4 [[psysml:b2a8f402-8a6f-47b5-a176-34e34a53fa41 ]] \r\n",
       "E4  - -> E5 [[psysml:d4e4cf4f-ca71-4ae2-aa8b-453c4e696e69 ]] : [true]\r\n",
       "E4  - -> E6 [[psysml:07d2ed15-614f-457b-995c-67ac116a921b ]] : [false]\r\n",
       "E5  - -> E6 [[psysml:b67ea915-0e8a-4542-80c4-8f1f8e1002d6 ]] : [x == 0]\r\n",
       "E8  - -> E3 [[psysml:7eebbea4-be3a-4ef1-ac68-fab402045136 ]] : [x > 0]\r\n",
       "@enduml\r\n",
       "\n",
       "PlantUML version 1.2020.13(Sat Jun 13 12:26:38 UTC 2020)\n",
       "(EPL source distribution)\n",
       "Java Runtime: OpenJDK Runtime Environment\n",
       "JVM: OpenJDK 64-Bit Server VM\n",
       "Default Encoding: UTF-8\n",
       "Language: en\n",
       "Country: null\n",
       "--></g></svg>"
      ]
     },
     "execution_count": 50,
     "metadata": {},
     "output_type": "execute_result"
    }
   ],
   "source": [
    "%viz --style=\"TB\" --view=\"MIXED\" \"DecisionTest\""
   ]
  },
  {
   "cell_type": "code",
   "execution_count": 51,
   "id": "9a5b6072",
   "metadata": {
    "execution": {
     "iopub.execute_input": "2021-04-20T07:01:23.662024Z",
     "iopub.status.busy": "2021-04-20T07:01:23.661567Z",
     "iopub.status.idle": "2021-04-20T07:01:23.701351Z",
     "shell.execute_reply": "2021-04-20T07:01:23.699836Z"
    }
   },
   "outputs": [
    {
     "data": {
      "image/svg+xml": [
       "<?xml version=\"1.0\" encoding=\"UTF-8\" standalone=\"no\"?><svg xmlns=\"http://www.w3.org/2000/svg\" xmlns:xlink=\"http://www.w3.org/1999/xlink\" contentScriptType=\"application/ecmascript\" contentStyleType=\"text/css\" height=\"574px\" preserveAspectRatio=\"none\" style=\"width:333px;height:574px;\" version=\"1.1\" viewBox=\"0 0 333 574\" width=\"333px\" zoomAndPan=\"magnify\"><defs/><g><!--MD5=[fbc87193dbaf4d95561dea2c320d4a47]\n",
       "cluster E1--><a href=\"psysml:704d58b1-847a-4b5f-8ef4-b4da5c2432eb\" target=\"_top\" title=\"psysml:704d58b1-847a-4b5f-8ef4-b4da5c2432eb\" xlink:actuate=\"onRequest\" xlink:href=\"psysml:704d58b1-847a-4b5f-8ef4-b4da5c2432eb\" xlink:show=\"new\" xlink:title=\"psysml:704d58b1-847a-4b5f-8ef4-b4da5c2432eb\" xlink:type=\"simple\"><rect fill=\"#FFFFFF\" height=\"534.72\" id=\"E1\" style=\"stroke: #383838; stroke-width: 1.5;\" width=\"315\" x=\"7\" y=\"7\"/><rect fill=\"#F8F8F8\" height=\"37.9375\" style=\"stroke: #383838; stroke-width: 1.5;\" width=\"315\" x=\"7\" y=\"7\"/><text fill=\"#000000\" font-family=\"sans-serif\" font-size=\"12\" font-style=\"italic\" lengthAdjust=\"spacingAndGlyphs\" textLength=\"77\" x=\"126\" y=\"23.1387\">«action def»</text><text fill=\"#000000\" font-family=\"sans-serif\" font-size=\"12\" lengthAdjust=\"spacingAndGlyphs\" textLength=\"80\" x=\"124.5\" y=\"37.1074\">DecisionTest</text></a><text fill=\"#000000\" font-family=\"sans-serif\" font-size=\"14\" lengthAdjust=\"spacingAndGlyphs\" textLength=\"48\" x=\"140\" y=\"560.7151\">$result</text><rect fill=\"#383838\" height=\"12\" style=\"stroke: #F8F8F8; stroke-width: 1.5;\" width=\"12\" x=\"158\" y=\"535.72\"/><polygon fill=\"#F8F8F8\" points=\"141,28.5,153,40.5,141,52.5,129,40.5,141,28.5\" style=\"stroke: #383838; stroke-width: 1.5;\"/><polygon fill=\"#F8F8F8\" points=\"35,170.5,47,182.5,35,194.5,23,182.5,35,170.5\" style=\"stroke: #383838; stroke-width: 1.5;\"/><g id=\"E1.E5\"><a href=\"psysml:f4b16115-f2df-4145-8494-1e5aced0fe90\" target=\"_top\" title=\"psysml:f4b16115-f2df-4145-8494-1e5aced0fe90\" xlink:actuate=\"onRequest\" xlink:href=\"psysml:f4b16115-f2df-4145-8494-1e5aced0fe90\" xlink:show=\"new\" xlink:title=\"psysml:f4b16115-f2df-4145-8494-1e5aced0fe90\" xlink:type=\"simple\"><rect fill=\"#FFFFFF\" height=\"42.9375\" id=\"E5\" rx=\"10\" ry=\"10\" style=\"stroke: #383838; stroke-width: 1.5;\" width=\"60\" x=\"135\" y=\"281\"/><rect fill=\"#F8F8F8\" height=\"37.9375\" rx=\"10\" ry=\"10\" style=\"stroke: #F8F8F8; stroke-width: 1.5;\" width=\"60\" x=\"135\" y=\"281\"/><rect fill=\"#F8F8F8\" height=\"10\" style=\"stroke: #F8F8F8; stroke-width: 1.5;\" width=\"60\" x=\"135\" y=\"308.9375\"/><rect fill=\"none\" height=\"42.9375\" id=\"E5\" rx=\"10\" ry=\"10\" style=\"stroke: #383838; stroke-width: 1.5;\" width=\"60\" x=\"135\" y=\"281\"/><text fill=\"#000000\" font-family=\"sans-serif\" font-size=\"12\" font-style=\"italic\" lengthAdjust=\"spacingAndGlyphs\" textLength=\"53\" x=\"138.5\" y=\"297.1387\">«action»</text><text fill=\"#000000\" font-family=\"sans-serif\" font-size=\"12\" lengthAdjust=\"spacingAndGlyphs\" textLength=\"16\" x=\"157\" y=\"311.1074\">A1</text></a></g><g id=\"E1.E6\"><a href=\"psysml:ffb4dce0-5cb8-4add-9e67-ebd1f2f3deb3\" target=\"_top\" title=\"psysml:ffb4dce0-5cb8-4add-9e67-ebd1f2f3deb3\" xlink:actuate=\"onRequest\" xlink:href=\"psysml:ffb4dce0-5cb8-4add-9e67-ebd1f2f3deb3\" xlink:show=\"new\" xlink:title=\"psysml:ffb4dce0-5cb8-4add-9e67-ebd1f2f3deb3\" xlink:type=\"simple\"><rect fill=\"#FFFFFF\" height=\"42.9375\" id=\"E6\" rx=\"10\" ry=\"10\" style=\"stroke: #383838; stroke-width: 1.5;\" width=\"60\" x=\"135\" y=\"401\"/><rect fill=\"#F8F8F8\" height=\"37.9375\" rx=\"10\" ry=\"10\" style=\"stroke: #F8F8F8; stroke-width: 1.5;\" width=\"60\" x=\"135\" y=\"401\"/><rect fill=\"#F8F8F8\" height=\"10\" style=\"stroke: #F8F8F8; stroke-width: 1.5;\" width=\"60\" x=\"135\" y=\"428.9375\"/><rect fill=\"none\" height=\"42.9375\" id=\"E6\" rx=\"10\" ry=\"10\" style=\"stroke: #383838; stroke-width: 1.5;\" width=\"60\" x=\"135\" y=\"401\"/><text fill=\"#000000\" font-family=\"sans-serif\" font-size=\"12\" font-style=\"italic\" lengthAdjust=\"spacingAndGlyphs\" textLength=\"53\" x=\"138.5\" y=\"417.1387\">«action»</text><text fill=\"#000000\" font-family=\"sans-serif\" font-size=\"12\" lengthAdjust=\"spacingAndGlyphs\" textLength=\"16\" x=\"157\" y=\"431.1074\">A2</text></a></g><g id=\"E1.E7\"><a href=\"psysml:dc91d98e-27d3-4fe3-8c05-9cedeab5907b\" target=\"_top\" title=\"psysml:dc91d98e-27d3-4fe3-8c05-9cedeab5907b\" xlink:actuate=\"onRequest\" xlink:href=\"psysml:dc91d98e-27d3-4fe3-8c05-9cedeab5907b\" xlink:show=\"new\" xlink:title=\"psysml:dc91d98e-27d3-4fe3-8c05-9cedeab5907b\" xlink:type=\"simple\"><rect fill=\"#FFFFFF\" height=\"42.9375\" id=\"E7\" rx=\"10\" ry=\"10\" style=\"stroke: #383838; stroke-width: 1.5;\" width=\"60\" x=\"46\" y=\"88\"/><rect fill=\"#F8F8F8\" height=\"37.9375\" rx=\"10\" ry=\"10\" style=\"stroke: #F8F8F8; stroke-width: 1.5;\" width=\"60\" x=\"46\" y=\"88\"/><rect fill=\"#F8F8F8\" height=\"10\" style=\"stroke: #F8F8F8; stroke-width: 1.5;\" width=\"60\" x=\"46\" y=\"115.9375\"/><rect fill=\"none\" height=\"42.9375\" id=\"E7\" rx=\"10\" ry=\"10\" style=\"stroke: #383838; stroke-width: 1.5;\" width=\"60\" x=\"46\" y=\"88\"/><text fill=\"#000000\" font-family=\"sans-serif\" font-size=\"12\" font-style=\"italic\" lengthAdjust=\"spacingAndGlyphs\" textLength=\"53\" x=\"49.5\" y=\"104.1387\">«action»</text><text fill=\"#000000\" font-family=\"sans-serif\" font-size=\"12\" lengthAdjust=\"spacingAndGlyphs\" textLength=\"16\" x=\"68\" y=\"118.1074\">A3</text></a></g><g id=\"E1.E8\"><a href=\"psysml:dc91d98e-27d3-4fe3-8c05-9cedeab5907b\" target=\"_top\" title=\"psysml:dc91d98e-27d3-4fe3-8c05-9cedeab5907b\" xlink:actuate=\"onRequest\" xlink:href=\"psysml:dc91d98e-27d3-4fe3-8c05-9cedeab5907b\" xlink:show=\"new\" xlink:title=\"psysml:dc91d98e-27d3-4fe3-8c05-9cedeab5907b\" xlink:type=\"simple\"><rect fill=\"#FFFFFF\" height=\"42.9375\" id=\"E8\" rx=\"10\" ry=\"10\" style=\"stroke: #383838; stroke-width: 1.5;\" width=\"60\" x=\"246\" y=\"161\"/><rect fill=\"#F8F8F8\" height=\"37.9375\" rx=\"10\" ry=\"10\" style=\"stroke: #F8F8F8; stroke-width: 1.5;\" width=\"60\" x=\"246\" y=\"161\"/><rect fill=\"#F8F8F8\" height=\"10\" style=\"stroke: #F8F8F8; stroke-width: 1.5;\" width=\"60\" x=\"246\" y=\"188.9375\"/><rect fill=\"none\" height=\"42.9375\" id=\"E8\" rx=\"10\" ry=\"10\" style=\"stroke: #383838; stroke-width: 1.5;\" width=\"60\" x=\"246\" y=\"161\"/><text fill=\"#000000\" font-family=\"sans-serif\" font-size=\"12\" font-style=\"italic\" lengthAdjust=\"spacingAndGlyphs\" textLength=\"53\" x=\"249.5\" y=\"177.1387\">«action»</text><text fill=\"#000000\" font-family=\"sans-serif\" font-size=\"12\" lengthAdjust=\"spacingAndGlyphs\" textLength=\"16\" x=\"268\" y=\"191.1074\">A3</text></a></g><!--MD5=[0188b64bb0ae78505a997a81836e11e9]\n",
       "link E3 to E5--><a href=\"psysml:f0c1a87b-40f9-41dd-914f-8704a756a2ee\" target=\"_top\" title=\"psysml:f0c1a87b-40f9-41dd-914f-8704a756a2ee\" xlink:actuate=\"onRequest\" xlink:href=\"psysml:f0c1a87b-40f9-41dd-914f-8704a756a2ee\" xlink:show=\"new\" xlink:title=\"psysml:f0c1a87b-40f9-41dd-914f-8704a756a2ee\" xlink:type=\"simple\"><path d=\"M142.2,51.42 C142.2,51.42 142.2,275.91 142.2,275.91 \" fill=\"none\" id=\"E3-&gt;E5\" style=\"stroke: #383838; stroke-width: 1.0;\"/><polygon fill=\"#383838\" points=\"142.2,280.91,146.2,271.91,142.2,275.91,138.2,271.91,142.2,280.91\" style=\"stroke: #383838; stroke-width: 1.0;\"/><text fill=\"#000000\" font-family=\"sans-serif\" font-size=\"13\" lengthAdjust=\"spacingAndGlyphs\" textLength=\"55\" x=\"118\" y=\"187.0669\">[x == 1]</text></a><!--MD5=[ec9844e0c75763426927cad3229d1081]\n",
       "link E3 to E6--><a href=\"psysml:534d6032-2416-43d2-b21b-3e106f4a7f5b\" target=\"_top\" title=\"psysml:534d6032-2416-43d2-b21b-3e106f4a7f5b\" xlink:actuate=\"onRequest\" xlink:href=\"psysml:534d6032-2416-43d2-b21b-3e106f4a7f5b\" xlink:show=\"new\" xlink:title=\"psysml:534d6032-2416-43d2-b21b-3e106f4a7f5b\" xlink:type=\"simple\"><path d=\"M132.52,36.72 C125.78,36.72 117.5,36.72 117.5,36.72 C117.5,36.72 117.5,415.72 117.5,415.72 C117.5,415.72 129.92,415.72 129.92,415.72 \" fill=\"none\" id=\"E3-&gt;E6\" style=\"stroke: #383838; stroke-width: 1.0;\"/><polygon fill=\"#383838\" points=\"134.92,415.72,125.92,411.72,129.92,415.72,125.92,419.72,134.92,415.72\" style=\"stroke: #383838; stroke-width: 1.0;\"/><text fill=\"#000000\" font-family=\"sans-serif\" font-size=\"13\" lengthAdjust=\"spacingAndGlyphs\" textLength=\"44\" x=\"221\" y=\"247.0669\">[x &gt; 1]</text></a><!--MD5=[ca5a752d6098d8a44b3f88316e7452d1]\n",
       "link E3 to E8--><a href=\"psysml:e6958018-0280-470d-866d-790aaedd3d9a\" target=\"_top\" title=\"psysml:e6958018-0280-470d-866d-790aaedd3d9a\" xlink:actuate=\"onRequest\" xlink:href=\"psysml:e6958018-0280-470d-866d-790aaedd3d9a\" xlink:show=\"new\" xlink:title=\"psysml:e6958018-0280-470d-866d-790aaedd3d9a\" xlink:type=\"simple\"><path d=\"M149.4,44.35 C149.4,65.32 149.4,164.72 149.4,164.72 C149.4,164.72 241,164.72 241,164.72 \" fill=\"none\" id=\"E3-&gt;E8\" style=\"stroke: #383838; stroke-width: 1.0;\"/><polygon fill=\"#383838\" points=\"246,164.72,237,160.72,241,164.72,237,168.72,246,164.72\" style=\"stroke: #383838; stroke-width: 1.0;\"/></a><!--MD5=[95fa686b5a16158bcdbcaeead89f639b]\n",
       "link E8 to E3--><a href=\"psysml:7eebbea4-be3a-4ef1-ac68-fab402045136\" target=\"_top\" title=\"psysml:7eebbea4-be3a-4ef1-ac68-fab402045136\" xlink:actuate=\"onRequest\" xlink:href=\"psysml:7eebbea4-be3a-4ef1-ac68-fab402045136\" xlink:show=\"new\" xlink:title=\"psysml:7eebbea4-be3a-4ef1-ac68-fab402045136\" xlink:type=\"simple\"><path d=\"M245.8,167.72 C207.34,167.72 145.8,167.72 145.8,167.72 C145.8,167.72 145.8,52.7 145.8,52.7 \" fill=\"none\" id=\"E8-&gt;E3\" style=\"stroke: #383838; stroke-width: 1.0;\"/><polygon fill=\"#383838\" points=\"145.8,47.7,141.8,56.7,145.8,52.7,149.8,56.7,145.8,47.7\" style=\"stroke: #383838; stroke-width: 1.0;\"/><text fill=\"#000000\" font-family=\"sans-serif\" font-size=\"13\" lengthAdjust=\"spacingAndGlyphs\" textLength=\"44\" x=\"254\" y=\"114.0669\">[x &gt; 0]</text></a><!--MD5=[af87c684e3b0d8be13c1a698a818ef1e]\n",
       "link E3 to E4--><a href=\"psysml:b2a8f402-8a6f-47b5-a176-34e34a53fa41\" target=\"_top\" title=\"psysml:b2a8f402-8a6f-47b5-a176-34e34a53fa41\" xlink:actuate=\"onRequest\" xlink:href=\"psysml:b2a8f402-8a6f-47b5-a176-34e34a53fa41\" xlink:show=\"new\" xlink:title=\"psysml:b2a8f402-8a6f-47b5-a176-34e34a53fa41\" xlink:type=\"simple\"><path d=\"M133,44.72 C108.23,44.72 34.5,44.72 34.5,44.72 C34.5,44.72 34.5,165.75 34.5,165.75 \" fill=\"none\" id=\"E3-&gt;E4\" style=\"stroke: #383838; stroke-width: 1.0;\"/><polygon fill=\"#383838\" points=\"34.5,170.75,38.5,161.75,34.5,165.75,30.5,161.75,34.5,170.75\" style=\"stroke: #383838; stroke-width: 1.0;\"/></a><!--MD5=[1b7591eae5389033d8d09a9d6721a717]\n",
       "link E4 to E5--><a href=\"psysml:d4e4cf4f-ca71-4ae2-aa8b-453c4e696e69\" target=\"_top\" title=\"psysml:d4e4cf4f-ca71-4ae2-aa8b-453c4e696e69\" xlink:actuate=\"onRequest\" xlink:href=\"psysml:d4e4cf4f-ca71-4ae2-aa8b-453c4e696e69\" xlink:show=\"new\" xlink:title=\"psysml:d4e4cf4f-ca71-4ae2-aa8b-453c4e696e69\" xlink:type=\"simple\"><path d=\"M46.88,182.72 C74.1,182.72 138.6,182.72 138.6,182.72 C138.6,182.72 138.6,275.81 138.6,275.81 \" fill=\"none\" id=\"E4-&gt;E5\" style=\"stroke: #383838; stroke-width: 1.0;\"/><polygon fill=\"#383838\" points=\"138.6,280.81,142.6,271.81,138.6,275.81,134.6,271.81,138.6,280.81\" style=\"stroke: #383838; stroke-width: 1.0;\"/><text fill=\"#000000\" font-family=\"sans-serif\" font-size=\"13\" lengthAdjust=\"spacingAndGlyphs\" textLength=\"36\" x=\"88\" y=\"247.0669\">[true]</text></a><!--MD5=[79568f1e445c3877b6a54524624ccc7d]\n",
       "link E4 to E6--><a href=\"psysml:07d2ed15-614f-457b-995c-67ac116a921b\" target=\"_top\" title=\"psysml:07d2ed15-614f-457b-995c-67ac116a921b\" xlink:actuate=\"onRequest\" xlink:href=\"psysml:07d2ed15-614f-457b-995c-67ac116a921b\" xlink:show=\"new\" xlink:title=\"psysml:07d2ed15-614f-457b-995c-67ac116a921b\" xlink:type=\"simple\"><path d=\"M35,194.76 C35,244.64 35,429.72 35,429.72 C35,429.72 129.85,429.72 129.85,429.72 \" fill=\"none\" id=\"E4-&gt;E6\" style=\"stroke: #383838; stroke-width: 1.0;\"/><polygon fill=\"#383838\" points=\"134.85,429.72,125.85,425.72,129.85,429.72,125.85,433.72,134.85,429.72\" style=\"stroke: #383838; stroke-width: 1.0;\"/><text fill=\"#000000\" font-family=\"sans-serif\" font-size=\"13\" lengthAdjust=\"spacingAndGlyphs\" textLength=\"40\" x=\"59\" y=\"307.0669\">[false]</text></a><!--MD5=[9120cf2e5df3bff93db8f754bbbc09b4]\n",
       "link E5 to E6--><a href=\"psysml:b67ea915-0e8a-4542-80c4-8f1f8e1002d6\" target=\"_top\" title=\"psysml:b67ea915-0e8a-4542-80c4-8f1f8e1002d6\" xlink:actuate=\"onRequest\" xlink:href=\"psysml:b67ea915-0e8a-4542-80c4-8f1f8e1002d6\" xlink:show=\"new\" xlink:title=\"psysml:b67ea915-0e8a-4542-80c4-8f1f8e1002d6\" xlink:type=\"simple\"><path d=\"M165,324.23 C165,324.23 165,395.93 165,395.93 \" fill=\"none\" id=\"E5-&gt;E6\" style=\"stroke: #383838; stroke-width: 1.0;\"/><polygon fill=\"#383838\" points=\"165,400.93,169,391.93,165,395.93,161,391.93,165,400.93\" style=\"stroke: #383838; stroke-width: 1.0;\"/><text fill=\"#000000\" font-family=\"sans-serif\" font-size=\"13\" lengthAdjust=\"spacingAndGlyphs\" textLength=\"55\" x=\"166\" y=\"367.0669\">[x == 0]</text></a><!--MD5=[250d49b786283b0e3a985e29b671a434]\n",
       "@startuml\r\n",
       "skinparam linetype ortho\r\n",
       "skinparam monochrome true\r\n",
       "skinparam classbackgroundcolor white\r\n",
       "skinparam shadowing false\r\n",
       "skinparam wrapWidth 300\r\n",
       "hide circle\r\n",
       "\r\n",
       "rec def \"DecisionTest\" as E1  <<(T,blue)action def>> [[psysml:704d58b1-847a-4b5f-8ef4-b4da5c2432eb ]] {\r\n",
       "portout \"$result\" as E2  [[psysml:d3db88a9-d6e2-4728-bacb-cdc83b04fb60 ]] \r\n",
       "choice \"test x\" as E3  [[psysml:07816a00-a6c6-49d5-84be-841a1e7e2f6a ]] \r\n",
       "choice \"noname\" as E4  [[psysml:26311404-6ce6-4dcd-89ed-d43ec51ac22a ]] \r\n",
       "rec usage \"A1\" as E5  <<(T,blue)action>> [[psysml:f4b16115-f2df-4145-8494-1e5aced0fe90 ]] {\r\n",
       "}\r\n",
       "\r\n",
       "rec usage \"A2\" as E6  <<(T,blue)action>> [[psysml:ffb4dce0-5cb8-4add-9e67-ebd1f2f3deb3 ]] {\r\n",
       "}\r\n",
       "\r\n",
       "rec usage \"A3\" as E7  <<(T,blue)action>> [[psysml:dc91d98e-27d3-4fe3-8c05-9cedeab5907b ]] {\r\n",
       "}\r\n",
       "\r\n",
       "rec usage \"A3\" as E8  <<(T,blue)action>> [[psysml:dc91d98e-27d3-4fe3-8c05-9cedeab5907b ]] {\r\n",
       "}\r\n",
       "\r\n",
       "}\r\n",
       "\r\n",
       "E3  - -> E5 [[psysml:f0c1a87b-40f9-41dd-914f-8704a756a2ee ]] : [x == 1]\r\n",
       "E3  - -> E6 [[psysml:534d6032-2416-43d2-b21b-3e106f4a7f5b ]] : [x > 1]\r\n",
       "E3  - -> E8 [[psysml:e6958018-0280-470d-866d-790aaedd3d9a ]] \r\n",
       "E3 - -> E4 [[psysml:b2a8f402-8a6f-47b5-a176-34e34a53fa41 ]] \r\n",
       "E4  - -> E5 [[psysml:d4e4cf4f-ca71-4ae2-aa8b-453c4e696e69 ]] : [true]\r\n",
       "E4  - -> E6 [[psysml:07d2ed15-614f-457b-995c-67ac116a921b ]] : [false]\r\n",
       "E5  - -> E6 [[psysml:b67ea915-0e8a-4542-80c4-8f1f8e1002d6 ]] : [x == 0]\r\n",
       "E8  - -> E3 [[psysml:7eebbea4-be3a-4ef1-ac68-fab402045136 ]] : [x > 0]\r\n",
       "@enduml\r\n",
       "\n",
       "PlantUML version 1.2020.13(Sat Jun 13 12:26:38 UTC 2020)\n",
       "(EPL source distribution)\n",
       "Java Runtime: OpenJDK Runtime Environment\n",
       "JVM: OpenJDK 64-Bit Server VM\n",
       "Default Encoding: UTF-8\n",
       "Language: en\n",
       "Country: null\n",
       "--></g></svg>"
      ]
     },
     "execution_count": 51,
     "metadata": {},
     "output_type": "execute_result"
    }
   ],
   "source": [
    "%viz --style=\"ORTHOLINE\" --view=\"Default\" \"DecisionTest\""
   ]
  },
  {
   "cell_type": "code",
   "execution_count": 52,
   "id": "03f88701",
   "metadata": {
    "execution": {
     "iopub.execute_input": "2021-04-20T07:01:23.747584Z",
     "iopub.status.busy": "2021-04-20T07:01:23.747146Z",
     "iopub.status.idle": "2021-04-20T07:01:23.811819Z",
     "shell.execute_reply": "2021-04-20T07:01:23.811480Z"
    }
   },
   "outputs": [
    {
     "data": {
      "image/svg+xml": [
       "<?xml version=\"1.0\" encoding=\"UTF-8\" standalone=\"no\"?><svg xmlns=\"http://www.w3.org/2000/svg\" xmlns:xlink=\"http://www.w3.org/1999/xlink\" contentScriptType=\"application/ecmascript\" contentStyleType=\"text/css\" height=\"207px\" preserveAspectRatio=\"none\" style=\"width:109px;height:207px;\" version=\"1.1\" viewBox=\"0 0 109 207\" width=\"109px\" zoomAndPan=\"magnify\"><defs/><g><!--MD5=[43c9051892ef23e1a46a86907403d788]\n",
       "class E1--><a href=\"psysml:704d58b1-847a-4b5f-8ef4-b4da5c2432eb\" target=\"_top\" title=\"psysml:704d58b1-847a-4b5f-8ef4-b4da5c2432eb\" xlink:actuate=\"onRequest\" xlink:href=\"psysml:704d58b1-847a-4b5f-8ef4-b4da5c2432eb\" xlink:show=\"new\" xlink:title=\"psysml:704d58b1-847a-4b5f-8ef4-b4da5c2432eb\" xlink:type=\"simple\"><rect fill=\"#FFFFFF\" height=\"189.9844\" id=\"E1\" style=\"stroke: #383838; stroke-width: 1.5;\" width=\"91\" x=\"7\" y=\"7\"/><text fill=\"#000000\" font-family=\"sans-serif\" font-size=\"12\" font-style=\"italic\" lengthAdjust=\"spacingAndGlyphs\" textLength=\"77\" x=\"14\" y=\"23.1387\">«action def»</text><text fill=\"#000000\" font-family=\"sans-serif\" font-size=\"12\" lengthAdjust=\"spacingAndGlyphs\" textLength=\"80\" x=\"12.5\" y=\"37.1074\">DecisionTest</text><line style=\"stroke: #383838; stroke-width: 1.5;\" x1=\"8\" x2=\"97\" y1=\"44.9375\" y2=\"44.9375\"/><text fill=\"#000000\" font-family=\"sans-serif\" font-size=\"11\" lengthAdjust=\"spacingAndGlyphs\" textLength=\"26\" x=\"13\" y=\"75.9526\">x=1;</text><line style=\"stroke: #383838; stroke-width: 1.0;\" x1=\"8\" x2=\"25\" y1=\"59.3398\" y2=\"59.3398\"/><text fill=\"#000000\" font-family=\"sans-serif\" font-size=\"11\" lengthAdjust=\"spacingAndGlyphs\" textLength=\"55\" x=\"25\" y=\"62.6479\">attributes</text><line style=\"stroke: #383838; stroke-width: 1.0;\" x1=\"80\" x2=\"97\" y1=\"59.3398\" y2=\"59.3398\"/><text fill=\"#000000\" font-family=\"sans-serif\" font-size=\"11\" lengthAdjust=\"spacingAndGlyphs\" textLength=\"14\" x=\"13\" y=\"105.562\">A1</text><text fill=\"#000000\" font-family=\"sans-serif\" font-size=\"11\" lengthAdjust=\"spacingAndGlyphs\" textLength=\"14\" x=\"13\" y=\"118.3667\">A2</text><text fill=\"#000000\" font-family=\"sans-serif\" font-size=\"11\" lengthAdjust=\"spacingAndGlyphs\" textLength=\"14\" x=\"13\" y=\"131.1714\">A3</text><line style=\"stroke: #383838; stroke-width: 1.0;\" x1=\"8\" x2=\"32\" y1=\"88.9492\" y2=\"88.9492\"/><text fill=\"#000000\" font-family=\"sans-serif\" font-size=\"11\" lengthAdjust=\"spacingAndGlyphs\" textLength=\"41\" x=\"32\" y=\"92.2573\">actions</text><line style=\"stroke: #383838; stroke-width: 1.0;\" x1=\"73\" x2=\"97\" y1=\"88.9492\" y2=\"88.9492\"/><text fill=\"#000000\" font-family=\"sans-serif\" font-size=\"11\" lengthAdjust=\"spacingAndGlyphs\" textLength=\"32\" x=\"13\" y=\"160.7808\">test x</text><line style=\"stroke: #383838; stroke-width: 1.0;\" x1=\"8\" x2=\"11\" y1=\"144.168\" y2=\"144.168\"/><text fill=\"#000000\" font-family=\"sans-serif\" font-size=\"11\" lengthAdjust=\"spacingAndGlyphs\" textLength=\"83\" x=\"11\" y=\"147.4761\">decisionNodes</text><line style=\"stroke: #383838; stroke-width: 1.0;\" x1=\"94\" x2=\"97\" y1=\"144.168\" y2=\"144.168\"/><text fill=\"#000000\" font-family=\"sans-serif\" font-size=\"11\" lengthAdjust=\"spacingAndGlyphs\" textLength=\"8\" x=\"13\" y=\"190.3901\">S</text><line style=\"stroke: #383838; stroke-width: 1.0;\" x1=\"8\" x2=\"22\" y1=\"173.7773\" y2=\"173.7773\"/><text fill=\"#000000\" font-family=\"sans-serif\" font-size=\"11\" lengthAdjust=\"spacingAndGlyphs\" textLength=\"61\" x=\"22\" y=\"177.0854\">transitions</text><line style=\"stroke: #383838; stroke-width: 1.0;\" x1=\"83\" x2=\"97\" y1=\"173.7773\" y2=\"173.7773\"/></a><!--MD5=[a9f7bfcfba2ce0c4f32e33ad10168e90]\n",
       "@startuml\r\n",
       "skinparam linetype ortho\r\n",
       "skinparam monochrome true\r\n",
       "skinparam classbackgroundcolor white\r\n",
       "skinparam shadowing false\r\n",
       "skinparam wrapWidth 300\r\n",
       "hide circle\r\n",
       "\r\n",
       "comp def \"DecisionTest\" as E1  <<(T,blue)action def>> [[psysml:704d58b1-847a-4b5f-8ef4-b4da5c2432eb ]] {\r\n",
       "- - attributes - -\r\n",
       "x=1; \r\n",
       "- - actions - -\r\n",
       "A1\r\n",
       "A2\r\n",
       "A3\r\n",
       "- - decisionNodes - -\r\n",
       "test x\r\n",
       "- - transitions - -\r\n",
       "S\r\n",
       "}\r\n",
       "@enduml\r\n",
       "\n",
       "PlantUML version 1.2020.13(Sat Jun 13 12:26:38 UTC 2020)\n",
       "(EPL source distribution)\n",
       "Java Runtime: OpenJDK Runtime Environment\n",
       "JVM: OpenJDK 64-Bit Server VM\n",
       "Default Encoding: UTF-8\n",
       "Language: en\n",
       "Country: null\n",
       "--></g></svg>"
      ]
     },
     "execution_count": 52,
     "metadata": {},
     "output_type": "execute_result"
    }
   ],
   "source": [
    "%viz --style=\"ORTHOLINE\" --view=\"Tree\" \"DecisionTest\""
   ]
  },
  {
   "cell_type": "code",
   "execution_count": 53,
   "id": "b3d9284a",
   "metadata": {
    "execution": {
     "iopub.execute_input": "2021-04-20T07:01:23.864022Z",
     "iopub.status.busy": "2021-04-20T07:01:23.863511Z",
     "iopub.status.idle": "2021-04-20T07:01:23.867567Z",
     "shell.execute_reply": "2021-04-20T07:01:23.867232Z"
    }
   },
   "outputs": [
    {
     "data": {
      "image/svg+xml": [
       "<?xml version=\"1.0\" encoding=\"UTF-8\" standalone=\"no\"?><svg xmlns=\"http://www.w3.org/2000/svg\" xmlns:xlink=\"http://www.w3.org/1999/xlink\" contentScriptType=\"application/ecmascript\" contentStyleType=\"text/css\" height=\"12px\" preserveAspectRatio=\"none\" style=\"width:12px;height:12px;\" version=\"1.1\" viewBox=\"0 0 12 12\" width=\"12px\" zoomAndPan=\"magnify\"><defs/><g><!--MD5=[97d6f38768b311333d388e66b2b27985]\n",
       "@startuml\r\n",
       "skinparam linetype ortho\r\n",
       "skinparam monochrome true\r\n",
       "skinparam classbackgroundcolor white\r\n",
       "skinparam shadowing false\r\n",
       "skinparam wrapWidth 300\r\n",
       "hide circle\r\n",
       "\r\n",
       "@enduml\r\n",
       "\n",
       "PlantUML version 1.2020.13(Sat Jun 13 12:26:38 UTC 2020)\n",
       "(EPL source distribution)\n",
       "Java Runtime: OpenJDK Runtime Environment\n",
       "JVM: OpenJDK 64-Bit Server VM\n",
       "Default Encoding: UTF-8\n",
       "Language: en\n",
       "Country: null\n",
       "--></g></svg>"
      ]
     },
     "execution_count": 53,
     "metadata": {},
     "output_type": "execute_result"
    }
   ],
   "source": [
    "%viz --style=\"ORTHOLINE\" --view=\"State\" \"DecisionTest\""
   ]
  },
  {
   "cell_type": "code",
   "execution_count": 54,
   "id": "89a38eb7",
   "metadata": {
    "execution": {
     "iopub.execute_input": "2021-04-20T07:01:23.918695Z",
     "iopub.status.busy": "2021-04-20T07:01:23.918332Z",
     "iopub.status.idle": "2021-04-20T07:01:23.956050Z",
     "shell.execute_reply": "2021-04-20T07:01:23.955371Z"
    }
   },
   "outputs": [
    {
     "data": {
      "image/svg+xml": [
       "<?xml version=\"1.0\" encoding=\"UTF-8\" standalone=\"no\"?><svg xmlns=\"http://www.w3.org/2000/svg\" xmlns:xlink=\"http://www.w3.org/1999/xlink\" contentScriptType=\"application/ecmascript\" contentStyleType=\"text/css\" height=\"384px\" preserveAspectRatio=\"none\" style=\"width:333px;height:384px;\" version=\"1.1\" viewBox=\"0 0 333 384\" width=\"333px\" zoomAndPan=\"magnify\"><defs/><g><!--MD5=[fbc87193dbaf4d95561dea2c320d4a47]\n",
       "cluster E1--><a href=\"psysml:704d58b1-847a-4b5f-8ef4-b4da5c2432eb\" target=\"_top\" title=\"psysml:704d58b1-847a-4b5f-8ef4-b4da5c2432eb\" xlink:actuate=\"onRequest\" xlink:href=\"psysml:704d58b1-847a-4b5f-8ef4-b4da5c2432eb\" xlink:show=\"new\" xlink:title=\"psysml:704d58b1-847a-4b5f-8ef4-b4da5c2432eb\" xlink:type=\"simple\"><rect fill=\"#FFFFFF\" height=\"344.72\" id=\"E1\" style=\"stroke: #383838; stroke-width: 1.5;\" width=\"315\" x=\"7\" y=\"7\"/><rect fill=\"#F8F8F8\" height=\"37.9375\" style=\"stroke: #383838; stroke-width: 1.5;\" width=\"315\" x=\"7\" y=\"7\"/><text fill=\"#000000\" font-family=\"sans-serif\" font-size=\"12\" font-style=\"italic\" lengthAdjust=\"spacingAndGlyphs\" textLength=\"77\" x=\"126\" y=\"23.1387\">«action def»</text><text fill=\"#000000\" font-family=\"sans-serif\" font-size=\"12\" lengthAdjust=\"spacingAndGlyphs\" textLength=\"80\" x=\"124.5\" y=\"37.1074\">DecisionTest</text></a><text fill=\"#000000\" font-family=\"sans-serif\" font-size=\"14\" lengthAdjust=\"spacingAndGlyphs\" textLength=\"48\" x=\"140\" y=\"370.7151\">$result</text><rect fill=\"#383838\" height=\"12\" style=\"stroke: #F8F8F8; stroke-width: 1.5;\" width=\"12\" x=\"158\" y=\"345.72\"/><polygon fill=\"#F8F8F8\" points=\"141,28.5,153,40.5,141,52.5,129,40.5,141,28.5\" style=\"stroke: #383838; stroke-width: 1.5;\"/><polygon fill=\"#F8F8F8\" points=\"35,126.5,47,138.5,35,150.5,23,138.5,35,126.5\" style=\"stroke: #383838; stroke-width: 1.5;\"/><g id=\"E1.E5\"><a href=\"psysml:f4b16115-f2df-4145-8494-1e5aced0fe90\" target=\"_top\" title=\"psysml:f4b16115-f2df-4145-8494-1e5aced0fe90\" xlink:actuate=\"onRequest\" xlink:href=\"psysml:f4b16115-f2df-4145-8494-1e5aced0fe90\" xlink:show=\"new\" xlink:title=\"psysml:f4b16115-f2df-4145-8494-1e5aced0fe90\" xlink:type=\"simple\"><rect fill=\"#FFFFFF\" height=\"42.9375\" id=\"E5\" rx=\"10\" ry=\"10\" style=\"stroke: #383838; stroke-width: 1.5;\" width=\"60\" x=\"135\" y=\"193\"/><rect fill=\"#F8F8F8\" height=\"37.9375\" rx=\"10\" ry=\"10\" style=\"stroke: #F8F8F8; stroke-width: 1.5;\" width=\"60\" x=\"135\" y=\"193\"/><rect fill=\"#F8F8F8\" height=\"10\" style=\"stroke: #F8F8F8; stroke-width: 1.5;\" width=\"60\" x=\"135\" y=\"220.9375\"/><rect fill=\"none\" height=\"42.9375\" id=\"E5\" rx=\"10\" ry=\"10\" style=\"stroke: #383838; stroke-width: 1.5;\" width=\"60\" x=\"135\" y=\"193\"/><text fill=\"#000000\" font-family=\"sans-serif\" font-size=\"12\" font-style=\"italic\" lengthAdjust=\"spacingAndGlyphs\" textLength=\"53\" x=\"138.5\" y=\"209.1387\">«action»</text><text fill=\"#000000\" font-family=\"sans-serif\" font-size=\"12\" lengthAdjust=\"spacingAndGlyphs\" textLength=\"16\" x=\"157\" y=\"223.1074\">A1</text></a></g><g id=\"E1.E6\"><a href=\"psysml:ffb4dce0-5cb8-4add-9e67-ebd1f2f3deb3\" target=\"_top\" title=\"psysml:ffb4dce0-5cb8-4add-9e67-ebd1f2f3deb3\" xlink:actuate=\"onRequest\" xlink:href=\"psysml:ffb4dce0-5cb8-4add-9e67-ebd1f2f3deb3\" xlink:show=\"new\" xlink:title=\"psysml:ffb4dce0-5cb8-4add-9e67-ebd1f2f3deb3\" xlink:type=\"simple\"><rect fill=\"#FFFFFF\" height=\"42.9375\" id=\"E6\" rx=\"10\" ry=\"10\" style=\"stroke: #383838; stroke-width: 1.5;\" width=\"60\" x=\"135\" y=\"269\"/><rect fill=\"#F8F8F8\" height=\"37.9375\" rx=\"10\" ry=\"10\" style=\"stroke: #F8F8F8; stroke-width: 1.5;\" width=\"60\" x=\"135\" y=\"269\"/><rect fill=\"#F8F8F8\" height=\"10\" style=\"stroke: #F8F8F8; stroke-width: 1.5;\" width=\"60\" x=\"135\" y=\"296.9375\"/><rect fill=\"none\" height=\"42.9375\" id=\"E6\" rx=\"10\" ry=\"10\" style=\"stroke: #383838; stroke-width: 1.5;\" width=\"60\" x=\"135\" y=\"269\"/><text fill=\"#000000\" font-family=\"sans-serif\" font-size=\"12\" font-style=\"italic\" lengthAdjust=\"spacingAndGlyphs\" textLength=\"53\" x=\"138.5\" y=\"285.1387\">«action»</text><text fill=\"#000000\" font-family=\"sans-serif\" font-size=\"12\" lengthAdjust=\"spacingAndGlyphs\" textLength=\"16\" x=\"157\" y=\"299.1074\">A2</text></a></g><g id=\"E1.E7\"><a href=\"psysml:dc91d98e-27d3-4fe3-8c05-9cedeab5907b\" target=\"_top\" title=\"psysml:dc91d98e-27d3-4fe3-8c05-9cedeab5907b\" xlink:actuate=\"onRequest\" xlink:href=\"psysml:dc91d98e-27d3-4fe3-8c05-9cedeab5907b\" xlink:show=\"new\" xlink:title=\"psysml:dc91d98e-27d3-4fe3-8c05-9cedeab5907b\" xlink:type=\"simple\"><rect fill=\"#FFFFFF\" height=\"42.9375\" id=\"E7\" rx=\"10\" ry=\"10\" style=\"stroke: #383838; stroke-width: 1.5;\" width=\"60\" x=\"46\" y=\"66\"/><rect fill=\"#F8F8F8\" height=\"37.9375\" rx=\"10\" ry=\"10\" style=\"stroke: #F8F8F8; stroke-width: 1.5;\" width=\"60\" x=\"46\" y=\"66\"/><rect fill=\"#F8F8F8\" height=\"10\" style=\"stroke: #F8F8F8; stroke-width: 1.5;\" width=\"60\" x=\"46\" y=\"93.9375\"/><rect fill=\"none\" height=\"42.9375\" id=\"E7\" rx=\"10\" ry=\"10\" style=\"stroke: #383838; stroke-width: 1.5;\" width=\"60\" x=\"46\" y=\"66\"/><text fill=\"#000000\" font-family=\"sans-serif\" font-size=\"12\" font-style=\"italic\" lengthAdjust=\"spacingAndGlyphs\" textLength=\"53\" x=\"49.5\" y=\"82.1387\">«action»</text><text fill=\"#000000\" font-family=\"sans-serif\" font-size=\"12\" lengthAdjust=\"spacingAndGlyphs\" textLength=\"16\" x=\"68\" y=\"96.1074\">A3</text></a></g><g id=\"E1.E8\"><a href=\"psysml:dc91d98e-27d3-4fe3-8c05-9cedeab5907b\" target=\"_top\" title=\"psysml:dc91d98e-27d3-4fe3-8c05-9cedeab5907b\" xlink:actuate=\"onRequest\" xlink:href=\"psysml:dc91d98e-27d3-4fe3-8c05-9cedeab5907b\" xlink:show=\"new\" xlink:title=\"psysml:dc91d98e-27d3-4fe3-8c05-9cedeab5907b\" xlink:type=\"simple\"><rect fill=\"#FFFFFF\" height=\"42.9375\" id=\"E8\" rx=\"10\" ry=\"10\" style=\"stroke: #383838; stroke-width: 1.5;\" width=\"60\" x=\"246\" y=\"117\"/><rect fill=\"#F8F8F8\" height=\"37.9375\" rx=\"10\" ry=\"10\" style=\"stroke: #F8F8F8; stroke-width: 1.5;\" width=\"60\" x=\"246\" y=\"117\"/><rect fill=\"#F8F8F8\" height=\"10\" style=\"stroke: #F8F8F8; stroke-width: 1.5;\" width=\"60\" x=\"246\" y=\"144.9375\"/><rect fill=\"none\" height=\"42.9375\" id=\"E8\" rx=\"10\" ry=\"10\" style=\"stroke: #383838; stroke-width: 1.5;\" width=\"60\" x=\"246\" y=\"117\"/><text fill=\"#000000\" font-family=\"sans-serif\" font-size=\"12\" font-style=\"italic\" lengthAdjust=\"spacingAndGlyphs\" textLength=\"53\" x=\"249.5\" y=\"133.1387\">«action»</text><text fill=\"#000000\" font-family=\"sans-serif\" font-size=\"12\" lengthAdjust=\"spacingAndGlyphs\" textLength=\"16\" x=\"268\" y=\"147.1074\">A3</text></a></g><!--MD5=[0188b64bb0ae78505a997a81836e11e9]\n",
       "link E3 to E5--><a href=\"psysml:f0c1a87b-40f9-41dd-914f-8704a756a2ee\" target=\"_top\" title=\"psysml:f0c1a87b-40f9-41dd-914f-8704a756a2ee\" xlink:actuate=\"onRequest\" xlink:href=\"psysml:f0c1a87b-40f9-41dd-914f-8704a756a2ee\" xlink:show=\"new\" xlink:title=\"psysml:f0c1a87b-40f9-41dd-914f-8704a756a2ee\" xlink:type=\"simple\"><path d=\"M142.2,51.38 C142.2,51.38 142.2,187.91 142.2,187.91 \" fill=\"none\" id=\"E3-&gt;E5\" style=\"stroke: #383838; stroke-width: 1.0;\"/><polygon fill=\"#383838\" points=\"142.2,192.91,146.2,183.91,142.2,187.91,138.2,183.91,142.2,192.91\" style=\"stroke: #383838; stroke-width: 1.0;\"/><text fill=\"#000000\" font-family=\"sans-serif\" font-size=\"13\" lengthAdjust=\"spacingAndGlyphs\" textLength=\"55\" x=\"118\" y=\"143.0669\">[x == 1]</text></a><!--MD5=[ec9844e0c75763426927cad3229d1081]\n",
       "link E3 to E6--><a href=\"psysml:534d6032-2416-43d2-b21b-3e106f4a7f5b\" target=\"_top\" title=\"psysml:534d6032-2416-43d2-b21b-3e106f4a7f5b\" xlink:actuate=\"onRequest\" xlink:href=\"psysml:534d6032-2416-43d2-b21b-3e106f4a7f5b\" xlink:show=\"new\" xlink:title=\"psysml:534d6032-2416-43d2-b21b-3e106f4a7f5b\" xlink:type=\"simple\"><path d=\"M132.52,36.72 C125.78,36.72 117.5,36.72 117.5,36.72 C117.5,36.72 117.5,283.72 117.5,283.72 C117.5,283.72 129.92,283.72 129.92,283.72 \" fill=\"none\" id=\"E3-&gt;E6\" style=\"stroke: #383838; stroke-width: 1.0;\"/><polygon fill=\"#383838\" points=\"134.92,283.72,125.92,279.72,129.92,283.72,125.92,287.72,134.92,283.72\" style=\"stroke: #383838; stroke-width: 1.0;\"/><text fill=\"#000000\" font-family=\"sans-serif\" font-size=\"13\" lengthAdjust=\"spacingAndGlyphs\" textLength=\"44\" x=\"221\" y=\"181.0669\">[x &gt; 1]</text></a><!--MD5=[ca5a752d6098d8a44b3f88316e7452d1]\n",
       "link E3 to E8--><a href=\"psysml:e6958018-0280-470d-866d-790aaedd3d9a\" target=\"_top\" title=\"psysml:e6958018-0280-470d-866d-790aaedd3d9a\" xlink:actuate=\"onRequest\" xlink:href=\"psysml:e6958018-0280-470d-866d-790aaedd3d9a\" xlink:show=\"new\" xlink:title=\"psysml:e6958018-0280-470d-866d-790aaedd3d9a\" xlink:type=\"simple\"><path d=\"M149.4,44.37 C149.4,60.39 149.4,120.72 149.4,120.72 C149.4,120.72 241,120.72 241,120.72 \" fill=\"none\" id=\"E3-&gt;E8\" style=\"stroke: #383838; stroke-width: 1.0;\"/><polygon fill=\"#383838\" points=\"246,120.72,237,116.72,241,120.72,237,124.72,246,120.72\" style=\"stroke: #383838; stroke-width: 1.0;\"/></a><!--MD5=[95fa686b5a16158bcdbcaeead89f639b]\n",
       "link E8 to E3--><a href=\"psysml:7eebbea4-be3a-4ef1-ac68-fab402045136\" target=\"_top\" title=\"psysml:7eebbea4-be3a-4ef1-ac68-fab402045136\" xlink:actuate=\"onRequest\" xlink:href=\"psysml:7eebbea4-be3a-4ef1-ac68-fab402045136\" xlink:show=\"new\" xlink:title=\"psysml:7eebbea4-be3a-4ef1-ac68-fab402045136\" xlink:type=\"simple\"><path d=\"M245.8,123.72 C207.34,123.72 145.8,123.72 145.8,123.72 C145.8,123.72 145.8,52.89 145.8,52.89 \" fill=\"none\" id=\"E8-&gt;E3\" style=\"stroke: #383838; stroke-width: 1.0;\"/><polygon fill=\"#383838\" points=\"145.8,47.89,141.8,56.89,145.8,52.89,149.8,56.89,145.8,47.89\" style=\"stroke: #383838; stroke-width: 1.0;\"/><text fill=\"#000000\" font-family=\"sans-serif\" font-size=\"13\" lengthAdjust=\"spacingAndGlyphs\" textLength=\"44\" x=\"254\" y=\"92.0669\">[x &gt; 0]</text></a><!--MD5=[af87c684e3b0d8be13c1a698a818ef1e]\n",
       "link E3 to E4--><a href=\"psysml:b2a8f402-8a6f-47b5-a176-34e34a53fa41\" target=\"_top\" title=\"psysml:b2a8f402-8a6f-47b5-a176-34e34a53fa41\" xlink:actuate=\"onRequest\" xlink:href=\"psysml:b2a8f402-8a6f-47b5-a176-34e34a53fa41\" xlink:show=\"new\" xlink:title=\"psysml:b2a8f402-8a6f-47b5-a176-34e34a53fa41\" xlink:type=\"simple\"><path d=\"M133,44.72 C108.23,44.72 34.5,44.72 34.5,44.72 C34.5,44.72 34.5,121.62 34.5,121.62 \" fill=\"none\" id=\"E3-&gt;E4\" style=\"stroke: #383838; stroke-width: 1.0;\"/><polygon fill=\"#383838\" points=\"34.5,126.62,38.5,117.62,34.5,121.62,30.5,117.62,34.5,126.62\" style=\"stroke: #383838; stroke-width: 1.0;\"/></a><!--MD5=[1b7591eae5389033d8d09a9d6721a717]\n",
       "link E4 to E5--><a href=\"psysml:d4e4cf4f-ca71-4ae2-aa8b-453c4e696e69\" target=\"_top\" title=\"psysml:d4e4cf4f-ca71-4ae2-aa8b-453c4e696e69\" xlink:actuate=\"onRequest\" xlink:href=\"psysml:d4e4cf4f-ca71-4ae2-aa8b-453c4e696e69\" xlink:show=\"new\" xlink:title=\"psysml:d4e4cf4f-ca71-4ae2-aa8b-453c4e696e69\" xlink:type=\"simple\"><path d=\"M46.88,138.72 C74.1,138.72 138.6,138.72 138.6,138.72 C138.6,138.72 138.6,187.99 138.6,187.99 \" fill=\"none\" id=\"E4-&gt;E5\" style=\"stroke: #383838; stroke-width: 1.0;\"/><polygon fill=\"#383838\" points=\"138.6,192.99,142.6,183.99,138.6,187.99,134.6,183.99,138.6,192.99\" style=\"stroke: #383838; stroke-width: 1.0;\"/><text fill=\"#000000\" font-family=\"sans-serif\" font-size=\"13\" lengthAdjust=\"spacingAndGlyphs\" textLength=\"36\" x=\"88\" y=\"181.0669\">[true]</text></a><!--MD5=[79568f1e445c3877b6a54524624ccc7d]\n",
       "link E4 to E6--><a href=\"psysml:07d2ed15-614f-457b-995c-67ac116a921b\" target=\"_top\" title=\"psysml:07d2ed15-614f-457b-995c-67ac116a921b\" xlink:actuate=\"onRequest\" xlink:href=\"psysml:07d2ed15-614f-457b-995c-67ac116a921b\" xlink:show=\"new\" xlink:title=\"psysml:07d2ed15-614f-457b-995c-67ac116a921b\" xlink:type=\"simple\"><path d=\"M35,150.73 C35,188.01 35,297.72 35,297.72 C35,297.72 129.85,297.72 129.85,297.72 \" fill=\"none\" id=\"E4-&gt;E6\" style=\"stroke: #383838; stroke-width: 1.0;\"/><polygon fill=\"#383838\" points=\"134.85,297.72,125.85,293.72,129.85,297.72,125.85,301.72,134.85,297.72\" style=\"stroke: #383838; stroke-width: 1.0;\"/><text fill=\"#000000\" font-family=\"sans-serif\" font-size=\"13\" lengthAdjust=\"spacingAndGlyphs\" textLength=\"40\" x=\"59\" y=\"219.0669\">[false]</text></a><!--MD5=[9120cf2e5df3bff93db8f754bbbc09b4]\n",
       "link E5 to E6--><a href=\"psysml:b67ea915-0e8a-4542-80c4-8f1f8e1002d6\" target=\"_top\" title=\"psysml:b67ea915-0e8a-4542-80c4-8f1f8e1002d6\" xlink:actuate=\"onRequest\" xlink:href=\"psysml:b67ea915-0e8a-4542-80c4-8f1f8e1002d6\" xlink:show=\"new\" xlink:title=\"psysml:b67ea915-0e8a-4542-80c4-8f1f8e1002d6\" xlink:type=\"simple\"><path d=\"M165,236.08 C165,236.08 165,263.87 165,263.87 \" fill=\"none\" id=\"E5-&gt;E6\" style=\"stroke: #383838; stroke-width: 1.0;\"/><polygon fill=\"#383838\" points=\"165,268.87,169,259.87,165,263.87,161,259.87,165,268.87\" style=\"stroke: #383838; stroke-width: 1.0;\"/><text fill=\"#000000\" font-family=\"sans-serif\" font-size=\"13\" lengthAdjust=\"spacingAndGlyphs\" textLength=\"55\" x=\"166\" y=\"257.0669\">[x == 0]</text></a><!--MD5=[bc8c9fc5f4d8324540b1013bfba2d4be]\n",
       "@startuml\r\n",
       "skinparam ranksep 10\r\n",
       "skinparam rectangle {\r\n",
       " backgroundColor<<block>> LightGreen\r\n",
       "}\r\n",
       "skinparam linetype ortho\r\n",
       "skinparam monochrome true\r\n",
       "skinparam classbackgroundcolor white\r\n",
       "skinparam shadowing false\r\n",
       "skinparam wrapWidth 300\r\n",
       "hide circle\r\n",
       "\r\n",
       "rec def \"DecisionTest\" as E1  <<(T,blue)action def>> [[psysml:704d58b1-847a-4b5f-8ef4-b4da5c2432eb ]] {\r\n",
       "portout \"$result\" as E2  [[psysml:d3db88a9-d6e2-4728-bacb-cdc83b04fb60 ]] \r\n",
       "choice \"test x\" as E3  [[psysml:07816a00-a6c6-49d5-84be-841a1e7e2f6a ]] \r\n",
       "choice \"noname\" as E4  [[psysml:26311404-6ce6-4dcd-89ed-d43ec51ac22a ]] \r\n",
       "rec usage \"A1\" as E5  <<(T,blue)action>> [[psysml:f4b16115-f2df-4145-8494-1e5aced0fe90 ]] {\r\n",
       "}\r\n",
       "\r\n",
       "rec usage \"A2\" as E6  <<(T,blue)action>> [[psysml:ffb4dce0-5cb8-4add-9e67-ebd1f2f3deb3 ]] {\r\n",
       "}\r\n",
       "\r\n",
       "rec usage \"A3\" as E7  <<(T,blue)action>> [[psysml:dc91d98e-27d3-4fe3-8c05-9cedeab5907b ]] {\r\n",
       "}\r\n",
       "\r\n",
       "rec usage \"A3\" as E8  <<(T,blue)action>> [[psysml:dc91d98e-27d3-4fe3-8c05-9cedeab5907b ]] {\r\n",
       "}\r\n",
       "\r\n",
       "}\r\n",
       "\r\n",
       "E3  - -> E5 [[psysml:f0c1a87b-40f9-41dd-914f-8704a756a2ee ]] : [x == 1]\r\n",
       "E3  - -> E6 [[psysml:534d6032-2416-43d2-b21b-3e106f4a7f5b ]] : [x > 1]\r\n",
       "E3  - -> E8 [[psysml:e6958018-0280-470d-866d-790aaedd3d9a ]] \r\n",
       "E3 - -> E4 [[psysml:b2a8f402-8a6f-47b5-a176-34e34a53fa41 ]] \r\n",
       "E4  - -> E5 [[psysml:d4e4cf4f-ca71-4ae2-aa8b-453c4e696e69 ]] : [true]\r\n",
       "E4  - -> E6 [[psysml:07d2ed15-614f-457b-995c-67ac116a921b ]] : [false]\r\n",
       "E5  - -> E6 [[psysml:b67ea915-0e8a-4542-80c4-8f1f8e1002d6 ]] : [x == 0]\r\n",
       "E8  - -> E3 [[psysml:7eebbea4-be3a-4ef1-ac68-fab402045136 ]] : [x > 0]\r\n",
       "@enduml\r\n",
       "\n",
       "PlantUML version 1.2020.13(Sat Jun 13 12:26:38 UTC 2020)\n",
       "(EPL source distribution)\n",
       "Java Runtime: OpenJDK Runtime Environment\n",
       "JVM: OpenJDK 64-Bit Server VM\n",
       "Default Encoding: UTF-8\n",
       "Language: en\n",
       "Country: null\n",
       "--></g></svg>"
      ]
     },
     "execution_count": 54,
     "metadata": {},
     "output_type": "execute_result"
    }
   ],
   "source": [
    "%viz --style=\"ORTHOLINE\" --view=\"Interconnection\" \"DecisionTest\""
   ]
  },
  {
   "cell_type": "code",
   "execution_count": 55,
   "id": "df3b1187",
   "metadata": {
    "execution": {
     "iopub.execute_input": "2021-04-20T07:01:24.008022Z",
     "iopub.status.busy": "2021-04-20T07:01:24.007502Z",
     "iopub.status.idle": "2021-04-20T07:01:24.047347Z",
     "shell.execute_reply": "2021-04-20T07:01:24.045351Z"
    }
   },
   "outputs": [
    {
     "data": {
      "image/svg+xml": [
       "<?xml version=\"1.0\" encoding=\"UTF-8\" standalone=\"no\"?><svg xmlns=\"http://www.w3.org/2000/svg\" xmlns:xlink=\"http://www.w3.org/1999/xlink\" contentScriptType=\"application/ecmascript\" contentStyleType=\"text/css\" height=\"384px\" preserveAspectRatio=\"none\" style=\"width:333px;height:384px;\" version=\"1.1\" viewBox=\"0 0 333 384\" width=\"333px\" zoomAndPan=\"magnify\"><defs/><g><!--MD5=[fbc87193dbaf4d95561dea2c320d4a47]\n",
       "cluster E1--><a href=\"psysml:704d58b1-847a-4b5f-8ef4-b4da5c2432eb\" target=\"_top\" title=\"psysml:704d58b1-847a-4b5f-8ef4-b4da5c2432eb\" xlink:actuate=\"onRequest\" xlink:href=\"psysml:704d58b1-847a-4b5f-8ef4-b4da5c2432eb\" xlink:show=\"new\" xlink:title=\"psysml:704d58b1-847a-4b5f-8ef4-b4da5c2432eb\" xlink:type=\"simple\"><rect fill=\"#FFFFFF\" height=\"344.72\" id=\"E1\" style=\"stroke: #383838; stroke-width: 1.5;\" width=\"315\" x=\"7\" y=\"7\"/><rect fill=\"#F8F8F8\" height=\"37.9375\" style=\"stroke: #383838; stroke-width: 1.5;\" width=\"315\" x=\"7\" y=\"7\"/><text fill=\"#000000\" font-family=\"sans-serif\" font-size=\"12\" font-style=\"italic\" lengthAdjust=\"spacingAndGlyphs\" textLength=\"77\" x=\"126\" y=\"23.1387\">«action def»</text><text fill=\"#000000\" font-family=\"sans-serif\" font-size=\"12\" lengthAdjust=\"spacingAndGlyphs\" textLength=\"80\" x=\"124.5\" y=\"37.1074\">DecisionTest</text></a><text fill=\"#000000\" font-family=\"sans-serif\" font-size=\"14\" lengthAdjust=\"spacingAndGlyphs\" textLength=\"48\" x=\"140\" y=\"370.7151\">$result</text><rect fill=\"#383838\" height=\"12\" style=\"stroke: #F8F8F8; stroke-width: 1.5;\" width=\"12\" x=\"158\" y=\"345.72\"/><polygon fill=\"#F8F8F8\" points=\"141,28.5,153,40.5,141,52.5,129,40.5,141,28.5\" style=\"stroke: #383838; stroke-width: 1.5;\"/><polygon fill=\"#F8F8F8\" points=\"35,126.5,47,138.5,35,150.5,23,138.5,35,126.5\" style=\"stroke: #383838; stroke-width: 1.5;\"/><g id=\"E1.E5\"><a href=\"psysml:f4b16115-f2df-4145-8494-1e5aced0fe90\" target=\"_top\" title=\"psysml:f4b16115-f2df-4145-8494-1e5aced0fe90\" xlink:actuate=\"onRequest\" xlink:href=\"psysml:f4b16115-f2df-4145-8494-1e5aced0fe90\" xlink:show=\"new\" xlink:title=\"psysml:f4b16115-f2df-4145-8494-1e5aced0fe90\" xlink:type=\"simple\"><rect fill=\"#FFFFFF\" height=\"42.9375\" id=\"E5\" rx=\"10\" ry=\"10\" style=\"stroke: #383838; stroke-width: 1.5;\" width=\"60\" x=\"135\" y=\"193\"/><rect fill=\"#F8F8F8\" height=\"37.9375\" rx=\"10\" ry=\"10\" style=\"stroke: #F8F8F8; stroke-width: 1.5;\" width=\"60\" x=\"135\" y=\"193\"/><rect fill=\"#F8F8F8\" height=\"10\" style=\"stroke: #F8F8F8; stroke-width: 1.5;\" width=\"60\" x=\"135\" y=\"220.9375\"/><rect fill=\"none\" height=\"42.9375\" id=\"E5\" rx=\"10\" ry=\"10\" style=\"stroke: #383838; stroke-width: 1.5;\" width=\"60\" x=\"135\" y=\"193\"/><text fill=\"#000000\" font-family=\"sans-serif\" font-size=\"12\" font-style=\"italic\" lengthAdjust=\"spacingAndGlyphs\" textLength=\"53\" x=\"138.5\" y=\"209.1387\">«action»</text><text fill=\"#000000\" font-family=\"sans-serif\" font-size=\"12\" lengthAdjust=\"spacingAndGlyphs\" textLength=\"16\" x=\"157\" y=\"223.1074\">A1</text></a></g><g id=\"E1.E6\"><a href=\"psysml:ffb4dce0-5cb8-4add-9e67-ebd1f2f3deb3\" target=\"_top\" title=\"psysml:ffb4dce0-5cb8-4add-9e67-ebd1f2f3deb3\" xlink:actuate=\"onRequest\" xlink:href=\"psysml:ffb4dce0-5cb8-4add-9e67-ebd1f2f3deb3\" xlink:show=\"new\" xlink:title=\"psysml:ffb4dce0-5cb8-4add-9e67-ebd1f2f3deb3\" xlink:type=\"simple\"><rect fill=\"#FFFFFF\" height=\"42.9375\" id=\"E6\" rx=\"10\" ry=\"10\" style=\"stroke: #383838; stroke-width: 1.5;\" width=\"60\" x=\"135\" y=\"269\"/><rect fill=\"#F8F8F8\" height=\"37.9375\" rx=\"10\" ry=\"10\" style=\"stroke: #F8F8F8; stroke-width: 1.5;\" width=\"60\" x=\"135\" y=\"269\"/><rect fill=\"#F8F8F8\" height=\"10\" style=\"stroke: #F8F8F8; stroke-width: 1.5;\" width=\"60\" x=\"135\" y=\"296.9375\"/><rect fill=\"none\" height=\"42.9375\" id=\"E6\" rx=\"10\" ry=\"10\" style=\"stroke: #383838; stroke-width: 1.5;\" width=\"60\" x=\"135\" y=\"269\"/><text fill=\"#000000\" font-family=\"sans-serif\" font-size=\"12\" font-style=\"italic\" lengthAdjust=\"spacingAndGlyphs\" textLength=\"53\" x=\"138.5\" y=\"285.1387\">«action»</text><text fill=\"#000000\" font-family=\"sans-serif\" font-size=\"12\" lengthAdjust=\"spacingAndGlyphs\" textLength=\"16\" x=\"157\" y=\"299.1074\">A2</text></a></g><g id=\"E1.E7\"><a href=\"psysml:dc91d98e-27d3-4fe3-8c05-9cedeab5907b\" target=\"_top\" title=\"psysml:dc91d98e-27d3-4fe3-8c05-9cedeab5907b\" xlink:actuate=\"onRequest\" xlink:href=\"psysml:dc91d98e-27d3-4fe3-8c05-9cedeab5907b\" xlink:show=\"new\" xlink:title=\"psysml:dc91d98e-27d3-4fe3-8c05-9cedeab5907b\" xlink:type=\"simple\"><rect fill=\"#FFFFFF\" height=\"42.9375\" id=\"E7\" rx=\"10\" ry=\"10\" style=\"stroke: #383838; stroke-width: 1.5;\" width=\"60\" x=\"46\" y=\"66\"/><rect fill=\"#F8F8F8\" height=\"37.9375\" rx=\"10\" ry=\"10\" style=\"stroke: #F8F8F8; stroke-width: 1.5;\" width=\"60\" x=\"46\" y=\"66\"/><rect fill=\"#F8F8F8\" height=\"10\" style=\"stroke: #F8F8F8; stroke-width: 1.5;\" width=\"60\" x=\"46\" y=\"93.9375\"/><rect fill=\"none\" height=\"42.9375\" id=\"E7\" rx=\"10\" ry=\"10\" style=\"stroke: #383838; stroke-width: 1.5;\" width=\"60\" x=\"46\" y=\"66\"/><text fill=\"#000000\" font-family=\"sans-serif\" font-size=\"12\" font-style=\"italic\" lengthAdjust=\"spacingAndGlyphs\" textLength=\"53\" x=\"49.5\" y=\"82.1387\">«action»</text><text fill=\"#000000\" font-family=\"sans-serif\" font-size=\"12\" lengthAdjust=\"spacingAndGlyphs\" textLength=\"16\" x=\"68\" y=\"96.1074\">A3</text></a></g><g id=\"E1.E8\"><a href=\"psysml:dc91d98e-27d3-4fe3-8c05-9cedeab5907b\" target=\"_top\" title=\"psysml:dc91d98e-27d3-4fe3-8c05-9cedeab5907b\" xlink:actuate=\"onRequest\" xlink:href=\"psysml:dc91d98e-27d3-4fe3-8c05-9cedeab5907b\" xlink:show=\"new\" xlink:title=\"psysml:dc91d98e-27d3-4fe3-8c05-9cedeab5907b\" xlink:type=\"simple\"><rect fill=\"#FFFFFF\" height=\"42.9375\" id=\"E8\" rx=\"10\" ry=\"10\" style=\"stroke: #383838; stroke-width: 1.5;\" width=\"60\" x=\"246\" y=\"117\"/><rect fill=\"#F8F8F8\" height=\"37.9375\" rx=\"10\" ry=\"10\" style=\"stroke: #F8F8F8; stroke-width: 1.5;\" width=\"60\" x=\"246\" y=\"117\"/><rect fill=\"#F8F8F8\" height=\"10\" style=\"stroke: #F8F8F8; stroke-width: 1.5;\" width=\"60\" x=\"246\" y=\"144.9375\"/><rect fill=\"none\" height=\"42.9375\" id=\"E8\" rx=\"10\" ry=\"10\" style=\"stroke: #383838; stroke-width: 1.5;\" width=\"60\" x=\"246\" y=\"117\"/><text fill=\"#000000\" font-family=\"sans-serif\" font-size=\"12\" font-style=\"italic\" lengthAdjust=\"spacingAndGlyphs\" textLength=\"53\" x=\"249.5\" y=\"133.1387\">«action»</text><text fill=\"#000000\" font-family=\"sans-serif\" font-size=\"12\" lengthAdjust=\"spacingAndGlyphs\" textLength=\"16\" x=\"268\" y=\"147.1074\">A3</text></a></g><!--MD5=[0188b64bb0ae78505a997a81836e11e9]\n",
       "link E3 to E5--><a href=\"psysml:f0c1a87b-40f9-41dd-914f-8704a756a2ee\" target=\"_top\" title=\"psysml:f0c1a87b-40f9-41dd-914f-8704a756a2ee\" xlink:actuate=\"onRequest\" xlink:href=\"psysml:f0c1a87b-40f9-41dd-914f-8704a756a2ee\" xlink:show=\"new\" xlink:title=\"psysml:f0c1a87b-40f9-41dd-914f-8704a756a2ee\" xlink:type=\"simple\"><path d=\"M142.2,51.38 C142.2,51.38 142.2,187.91 142.2,187.91 \" fill=\"none\" id=\"E3-&gt;E5\" style=\"stroke: #383838; stroke-width: 1.0; stroke-dasharray: 7.0,7.0;\"/><polygon fill=\"#383838\" points=\"142.2,192.91,146.2,183.91,142.2,187.91,138.2,183.91,142.2,192.91\" style=\"stroke: #383838; stroke-width: 1.0;\"/><text fill=\"#000000\" font-family=\"sans-serif\" font-size=\"13\" lengthAdjust=\"spacingAndGlyphs\" textLength=\"55\" x=\"118\" y=\"143.0669\">[x == 1]</text></a><!--MD5=[ec9844e0c75763426927cad3229d1081]\n",
       "link E3 to E6--><a href=\"psysml:534d6032-2416-43d2-b21b-3e106f4a7f5b\" target=\"_top\" title=\"psysml:534d6032-2416-43d2-b21b-3e106f4a7f5b\" xlink:actuate=\"onRequest\" xlink:href=\"psysml:534d6032-2416-43d2-b21b-3e106f4a7f5b\" xlink:show=\"new\" xlink:title=\"psysml:534d6032-2416-43d2-b21b-3e106f4a7f5b\" xlink:type=\"simple\"><path d=\"M132.52,36.72 C125.78,36.72 117.5,36.72 117.5,36.72 C117.5,36.72 117.5,283.72 117.5,283.72 C117.5,283.72 129.92,283.72 129.92,283.72 \" fill=\"none\" id=\"E3-&gt;E6\" style=\"stroke: #383838; stroke-width: 1.0; stroke-dasharray: 7.0,7.0;\"/><polygon fill=\"#383838\" points=\"134.92,283.72,125.92,279.72,129.92,283.72,125.92,287.72,134.92,283.72\" style=\"stroke: #383838; stroke-width: 1.0;\"/><text fill=\"#000000\" font-family=\"sans-serif\" font-size=\"13\" lengthAdjust=\"spacingAndGlyphs\" textLength=\"44\" x=\"221\" y=\"181.0669\">[x &gt; 1]</text></a><!--MD5=[ca5a752d6098d8a44b3f88316e7452d1]\n",
       "link E3 to E8--><a href=\"psysml:e6958018-0280-470d-866d-790aaedd3d9a\" target=\"_top\" title=\"psysml:e6958018-0280-470d-866d-790aaedd3d9a\" xlink:actuate=\"onRequest\" xlink:href=\"psysml:e6958018-0280-470d-866d-790aaedd3d9a\" xlink:show=\"new\" xlink:title=\"psysml:e6958018-0280-470d-866d-790aaedd3d9a\" xlink:type=\"simple\"><path d=\"M149.4,44.37 C149.4,60.39 149.4,120.72 149.4,120.72 C149.4,120.72 241,120.72 241,120.72 \" fill=\"none\" id=\"E3-&gt;E8\" style=\"stroke: #383838; stroke-width: 1.0; stroke-dasharray: 7.0,7.0;\"/><polygon fill=\"#383838\" points=\"246,120.72,237,116.72,241,120.72,237,124.72,246,120.72\" style=\"stroke: #383838; stroke-width: 1.0;\"/></a><!--MD5=[95fa686b5a16158bcdbcaeead89f639b]\n",
       "link E8 to E3--><a href=\"psysml:7eebbea4-be3a-4ef1-ac68-fab402045136\" target=\"_top\" title=\"psysml:7eebbea4-be3a-4ef1-ac68-fab402045136\" xlink:actuate=\"onRequest\" xlink:href=\"psysml:7eebbea4-be3a-4ef1-ac68-fab402045136\" xlink:show=\"new\" xlink:title=\"psysml:7eebbea4-be3a-4ef1-ac68-fab402045136\" xlink:type=\"simple\"><path d=\"M245.8,123.72 C207.34,123.72 145.8,123.72 145.8,123.72 C145.8,123.72 145.8,52.89 145.8,52.89 \" fill=\"none\" id=\"E8-&gt;E3\" style=\"stroke: #383838; stroke-width: 1.0; stroke-dasharray: 7.0,7.0;\"/><polygon fill=\"#383838\" points=\"145.8,47.89,141.8,56.89,145.8,52.89,149.8,56.89,145.8,47.89\" style=\"stroke: #383838; stroke-width: 1.0;\"/><text fill=\"#000000\" font-family=\"sans-serif\" font-size=\"13\" lengthAdjust=\"spacingAndGlyphs\" textLength=\"44\" x=\"254\" y=\"92.0669\">[x &gt; 0]</text></a><!--MD5=[af87c684e3b0d8be13c1a698a818ef1e]\n",
       "link E3 to E4--><a href=\"psysml:b2a8f402-8a6f-47b5-a176-34e34a53fa41\" target=\"_top\" title=\"psysml:b2a8f402-8a6f-47b5-a176-34e34a53fa41\" xlink:actuate=\"onRequest\" xlink:href=\"psysml:b2a8f402-8a6f-47b5-a176-34e34a53fa41\" xlink:show=\"new\" xlink:title=\"psysml:b2a8f402-8a6f-47b5-a176-34e34a53fa41\" xlink:type=\"simple\"><path d=\"M133,44.72 C108.23,44.72 34.5,44.72 34.5,44.72 C34.5,44.72 34.5,121.62 34.5,121.62 \" fill=\"none\" id=\"E3-&gt;E4\" style=\"stroke: #383838; stroke-width: 1.0; stroke-dasharray: 7.0,7.0;\"/><polygon fill=\"#383838\" points=\"34.5,126.62,38.5,117.62,34.5,121.62,30.5,117.62,34.5,126.62\" style=\"stroke: #383838; stroke-width: 1.0;\"/></a><!--MD5=[1b7591eae5389033d8d09a9d6721a717]\n",
       "link E4 to E5--><a href=\"psysml:d4e4cf4f-ca71-4ae2-aa8b-453c4e696e69\" target=\"_top\" title=\"psysml:d4e4cf4f-ca71-4ae2-aa8b-453c4e696e69\" xlink:actuate=\"onRequest\" xlink:href=\"psysml:d4e4cf4f-ca71-4ae2-aa8b-453c4e696e69\" xlink:show=\"new\" xlink:title=\"psysml:d4e4cf4f-ca71-4ae2-aa8b-453c4e696e69\" xlink:type=\"simple\"><path d=\"M46.88,138.72 C74.1,138.72 138.6,138.72 138.6,138.72 C138.6,138.72 138.6,187.99 138.6,187.99 \" fill=\"none\" id=\"E4-&gt;E5\" style=\"stroke: #383838; stroke-width: 1.0; stroke-dasharray: 7.0,7.0;\"/><polygon fill=\"#383838\" points=\"138.6,192.99,142.6,183.99,138.6,187.99,134.6,183.99,138.6,192.99\" style=\"stroke: #383838; stroke-width: 1.0;\"/><text fill=\"#000000\" font-family=\"sans-serif\" font-size=\"13\" lengthAdjust=\"spacingAndGlyphs\" textLength=\"36\" x=\"88\" y=\"181.0669\">[true]</text></a><!--MD5=[79568f1e445c3877b6a54524624ccc7d]\n",
       "link E4 to E6--><a href=\"psysml:07d2ed15-614f-457b-995c-67ac116a921b\" target=\"_top\" title=\"psysml:07d2ed15-614f-457b-995c-67ac116a921b\" xlink:actuate=\"onRequest\" xlink:href=\"psysml:07d2ed15-614f-457b-995c-67ac116a921b\" xlink:show=\"new\" xlink:title=\"psysml:07d2ed15-614f-457b-995c-67ac116a921b\" xlink:type=\"simple\"><path d=\"M35,150.73 C35,188.01 35,297.72 35,297.72 C35,297.72 129.85,297.72 129.85,297.72 \" fill=\"none\" id=\"E4-&gt;E6\" style=\"stroke: #383838; stroke-width: 1.0; stroke-dasharray: 7.0,7.0;\"/><polygon fill=\"#383838\" points=\"134.85,297.72,125.85,293.72,129.85,297.72,125.85,301.72,134.85,297.72\" style=\"stroke: #383838; stroke-width: 1.0;\"/><text fill=\"#000000\" font-family=\"sans-serif\" font-size=\"13\" lengthAdjust=\"spacingAndGlyphs\" textLength=\"40\" x=\"59\" y=\"219.0669\">[false]</text></a><!--MD5=[9120cf2e5df3bff93db8f754bbbc09b4]\n",
       "link E5 to E6--><a href=\"psysml:b67ea915-0e8a-4542-80c4-8f1f8e1002d6\" target=\"_top\" title=\"psysml:b67ea915-0e8a-4542-80c4-8f1f8e1002d6\" xlink:actuate=\"onRequest\" xlink:href=\"psysml:b67ea915-0e8a-4542-80c4-8f1f8e1002d6\" xlink:show=\"new\" xlink:title=\"psysml:b67ea915-0e8a-4542-80c4-8f1f8e1002d6\" xlink:type=\"simple\"><path d=\"M165,236.08 C165,236.08 165,263.87 165,263.87 \" fill=\"none\" id=\"E5-&gt;E6\" style=\"stroke: #383838; stroke-width: 1.0; stroke-dasharray: 7.0,7.0;\"/><polygon fill=\"#383838\" points=\"165,268.87,169,259.87,165,263.87,161,259.87,165,268.87\" style=\"stroke: #383838; stroke-width: 1.0;\"/><text fill=\"#000000\" font-family=\"sans-serif\" font-size=\"13\" lengthAdjust=\"spacingAndGlyphs\" textLength=\"55\" x=\"166\" y=\"257.0669\">[x == 0]</text></a><!--MD5=[aab1bb39b9eae77d8e2e6232cb514ce3]\n",
       "@startuml\r\n",
       "skinparam ranksep 8\r\n",
       "skinparam linetype ortho\r\n",
       "skinparam monochrome true\r\n",
       "skinparam classbackgroundcolor white\r\n",
       "skinparam shadowing false\r\n",
       "skinparam wrapWidth 300\r\n",
       "hide circle\r\n",
       "\r\n",
       "rec def \"DecisionTest\" as E1  <<(T,blue)action def>> [[psysml:704d58b1-847a-4b5f-8ef4-b4da5c2432eb ]] {\r\n",
       "portout \"$result\" as E2  [[psysml:d3db88a9-d6e2-4728-bacb-cdc83b04fb60 ]] \r\n",
       "choice \"test x\" as E3  [[psysml:07816a00-a6c6-49d5-84be-841a1e7e2f6a ]] \r\n",
       "choice \"noname\" as E4  [[psysml:26311404-6ce6-4dcd-89ed-d43ec51ac22a ]] \r\n",
       "rec usage \"A1\" as E5  <<(T,blue)action>> [[psysml:f4b16115-f2df-4145-8494-1e5aced0fe90 ]] {\r\n",
       "}\r\n",
       "\r\n",
       "rec usage \"A2\" as E6  <<(T,blue)action>> [[psysml:ffb4dce0-5cb8-4add-9e67-ebd1f2f3deb3 ]] {\r\n",
       "}\r\n",
       "\r\n",
       "rec usage \"A3\" as E7  <<(T,blue)action>> [[psysml:dc91d98e-27d3-4fe3-8c05-9cedeab5907b ]] {\r\n",
       "}\r\n",
       "\r\n",
       "rec usage \"A3\" as E8  <<(T,blue)action>> [[psysml:dc91d98e-27d3-4fe3-8c05-9cedeab5907b ]] {\r\n",
       "}\r\n",
       "\r\n",
       "}\r\n",
       "\r\n",
       "E3 ..> E5 [[psysml:f0c1a87b-40f9-41dd-914f-8704a756a2ee ]] : [x == 1]\r\n",
       "E3 ..> E6 [[psysml:534d6032-2416-43d2-b21b-3e106f4a7f5b ]] : [x > 1]\r\n",
       "E3 ..> E8 [[psysml:e6958018-0280-470d-866d-790aaedd3d9a ]] \r\n",
       "E3 ..> E4 [[psysml:b2a8f402-8a6f-47b5-a176-34e34a53fa41 ]] \r\n",
       "E4 ..> E5 [[psysml:d4e4cf4f-ca71-4ae2-aa8b-453c4e696e69 ]] : [true]\r\n",
       "E4 ..> E6 [[psysml:07d2ed15-614f-457b-995c-67ac116a921b ]] : [false]\r\n",
       "E5 ..> E6 [[psysml:b67ea915-0e8a-4542-80c4-8f1f8e1002d6 ]] : [x == 0]\r\n",
       "E8 ..> E3 [[psysml:7eebbea4-be3a-4ef1-ac68-fab402045136 ]] : [x > 0]\r\n",
       "@enduml\r\n",
       "\n",
       "PlantUML version 1.2020.13(Sat Jun 13 12:26:38 UTC 2020)\n",
       "(EPL source distribution)\n",
       "Java Runtime: OpenJDK Runtime Environment\n",
       "JVM: OpenJDK 64-Bit Server VM\n",
       "Default Encoding: UTF-8\n",
       "Language: en\n",
       "Country: null\n",
       "--></g></svg>"
      ]
     },
     "execution_count": 55,
     "metadata": {},
     "output_type": "execute_result"
    }
   ],
   "source": [
    "%viz --style=\"ORTHOLINE\" --view=\"Action\" \"DecisionTest\""
   ]
  },
  {
   "cell_type": "code",
   "execution_count": 56,
   "id": "9ca43d72",
   "metadata": {
    "execution": {
     "iopub.execute_input": "2021-04-20T07:01:24.097297Z",
     "iopub.status.busy": "2021-04-20T07:01:24.096588Z",
     "iopub.status.idle": "2021-04-20T07:01:24.185128Z",
     "shell.execute_reply": "2021-04-20T07:01:24.185655Z"
    }
   },
   "outputs": [
    {
     "data": {
      "image/svg+xml": [
       "<?xml version=\"1.0\" encoding=\"UTF-8\" standalone=\"no\"?><svg xmlns=\"http://www.w3.org/2000/svg\" xmlns:xlink=\"http://www.w3.org/1999/xlink\" contentScriptType=\"application/ecmascript\" contentStyleType=\"text/css\" height=\"207px\" preserveAspectRatio=\"none\" style=\"width:109px;height:207px;\" version=\"1.1\" viewBox=\"0 0 109 207\" width=\"109px\" zoomAndPan=\"magnify\"><defs/><g><!--MD5=[43c9051892ef23e1a46a86907403d788]\n",
       "class E1--><a href=\"psysml:704d58b1-847a-4b5f-8ef4-b4da5c2432eb\" target=\"_top\" title=\"psysml:704d58b1-847a-4b5f-8ef4-b4da5c2432eb\" xlink:actuate=\"onRequest\" xlink:href=\"psysml:704d58b1-847a-4b5f-8ef4-b4da5c2432eb\" xlink:show=\"new\" xlink:title=\"psysml:704d58b1-847a-4b5f-8ef4-b4da5c2432eb\" xlink:type=\"simple\"><rect fill=\"#FFFFFF\" height=\"189.9844\" id=\"E1\" style=\"stroke: #383838; stroke-width: 1.5;\" width=\"91\" x=\"7\" y=\"7\"/><text fill=\"#000000\" font-family=\"sans-serif\" font-size=\"12\" font-style=\"italic\" lengthAdjust=\"spacingAndGlyphs\" textLength=\"77\" x=\"14\" y=\"23.1387\">«action def»</text><text fill=\"#000000\" font-family=\"sans-serif\" font-size=\"12\" lengthAdjust=\"spacingAndGlyphs\" textLength=\"80\" x=\"12.5\" y=\"37.1074\">DecisionTest</text><line style=\"stroke: #383838; stroke-width: 1.5;\" x1=\"8\" x2=\"97\" y1=\"44.9375\" y2=\"44.9375\"/><text fill=\"#000000\" font-family=\"sans-serif\" font-size=\"11\" lengthAdjust=\"spacingAndGlyphs\" textLength=\"26\" x=\"13\" y=\"75.9526\">x=1;</text><line style=\"stroke: #383838; stroke-width: 1.0;\" x1=\"8\" x2=\"25\" y1=\"59.3398\" y2=\"59.3398\"/><text fill=\"#000000\" font-family=\"sans-serif\" font-size=\"11\" lengthAdjust=\"spacingAndGlyphs\" textLength=\"55\" x=\"25\" y=\"62.6479\">attributes</text><line style=\"stroke: #383838; stroke-width: 1.0;\" x1=\"80\" x2=\"97\" y1=\"59.3398\" y2=\"59.3398\"/><text fill=\"#000000\" font-family=\"sans-serif\" font-size=\"11\" lengthAdjust=\"spacingAndGlyphs\" textLength=\"14\" x=\"13\" y=\"105.562\">A1</text><text fill=\"#000000\" font-family=\"sans-serif\" font-size=\"11\" lengthAdjust=\"spacingAndGlyphs\" textLength=\"14\" x=\"13\" y=\"118.3667\">A2</text><text fill=\"#000000\" font-family=\"sans-serif\" font-size=\"11\" lengthAdjust=\"spacingAndGlyphs\" textLength=\"14\" x=\"13\" y=\"131.1714\">A3</text><line style=\"stroke: #383838; stroke-width: 1.0;\" x1=\"8\" x2=\"32\" y1=\"88.9492\" y2=\"88.9492\"/><text fill=\"#000000\" font-family=\"sans-serif\" font-size=\"11\" lengthAdjust=\"spacingAndGlyphs\" textLength=\"41\" x=\"32\" y=\"92.2573\">actions</text><line style=\"stroke: #383838; stroke-width: 1.0;\" x1=\"73\" x2=\"97\" y1=\"88.9492\" y2=\"88.9492\"/><text fill=\"#000000\" font-family=\"sans-serif\" font-size=\"11\" lengthAdjust=\"spacingAndGlyphs\" textLength=\"32\" x=\"13\" y=\"160.7808\">test x</text><line style=\"stroke: #383838; stroke-width: 1.0;\" x1=\"8\" x2=\"11\" y1=\"144.168\" y2=\"144.168\"/><text fill=\"#000000\" font-family=\"sans-serif\" font-size=\"11\" lengthAdjust=\"spacingAndGlyphs\" textLength=\"83\" x=\"11\" y=\"147.4761\">decisionNodes</text><line style=\"stroke: #383838; stroke-width: 1.0;\" x1=\"94\" x2=\"97\" y1=\"144.168\" y2=\"144.168\"/><text fill=\"#000000\" font-family=\"sans-serif\" font-size=\"11\" lengthAdjust=\"spacingAndGlyphs\" textLength=\"8\" x=\"13\" y=\"190.3901\">S</text><line style=\"stroke: #383838; stroke-width: 1.0;\" x1=\"8\" x2=\"22\" y1=\"173.7773\" y2=\"173.7773\"/><text fill=\"#000000\" font-family=\"sans-serif\" font-size=\"11\" lengthAdjust=\"spacingAndGlyphs\" textLength=\"61\" x=\"22\" y=\"177.0854\">transitions</text><line style=\"stroke: #383838; stroke-width: 1.0;\" x1=\"83\" x2=\"97\" y1=\"173.7773\" y2=\"173.7773\"/></a><!--MD5=[a9f7bfcfba2ce0c4f32e33ad10168e90]\n",
       "@startuml\r\n",
       "skinparam linetype ortho\r\n",
       "skinparam monochrome true\r\n",
       "skinparam classbackgroundcolor white\r\n",
       "skinparam shadowing false\r\n",
       "skinparam wrapWidth 300\r\n",
       "hide circle\r\n",
       "\r\n",
       "comp def \"DecisionTest\" as E1  <<(T,blue)action def>> [[psysml:704d58b1-847a-4b5f-8ef4-b4da5c2432eb ]] {\r\n",
       "- - attributes - -\r\n",
       "x=1; \r\n",
       "- - actions - -\r\n",
       "A1\r\n",
       "A2\r\n",
       "A3\r\n",
       "- - decisionNodes - -\r\n",
       "test x\r\n",
       "- - transitions - -\r\n",
       "S\r\n",
       "}\r\n",
       "@enduml\r\n",
       "\n",
       "PlantUML version 1.2020.13(Sat Jun 13 12:26:38 UTC 2020)\n",
       "(EPL source distribution)\n",
       "Java Runtime: OpenJDK Runtime Environment\n",
       "JVM: OpenJDK 64-Bit Server VM\n",
       "Default Encoding: UTF-8\n",
       "Language: en\n",
       "Country: null\n",
       "--></g></svg>"
      ]
     },
     "execution_count": 56,
     "metadata": {},
     "output_type": "execute_result"
    }
   ],
   "source": [
    "%viz --style=\"ORTHOLINE\" --view=\"Sequence\" \"DecisionTest\""
   ]
  },
  {
   "cell_type": "code",
   "execution_count": 57,
   "id": "82f00d9c",
   "metadata": {
    "execution": {
     "iopub.execute_input": "2021-04-20T07:01:24.236570Z",
     "iopub.status.busy": "2021-04-20T07:01:24.236070Z",
     "iopub.status.idle": "2021-04-20T07:01:24.313372Z",
     "shell.execute_reply": "2021-04-20T07:01:24.311067Z"
    }
   },
   "outputs": [
    {
     "data": {
      "image/svg+xml": [
       "<?xml version=\"1.0\" encoding=\"UTF-8\" standalone=\"no\"?><svg xmlns=\"http://www.w3.org/2000/svg\" xmlns:xlink=\"http://www.w3.org/1999/xlink\" contentScriptType=\"application/ecmascript\" contentStyleType=\"text/css\" height=\"574px\" preserveAspectRatio=\"none\" style=\"width:333px;height:574px;\" version=\"1.1\" viewBox=\"0 0 333 574\" width=\"333px\" zoomAndPan=\"magnify\"><defs/><g><!--MD5=[fbc87193dbaf4d95561dea2c320d4a47]\n",
       "cluster E1--><a href=\"psysml:704d58b1-847a-4b5f-8ef4-b4da5c2432eb\" target=\"_top\" title=\"psysml:704d58b1-847a-4b5f-8ef4-b4da5c2432eb\" xlink:actuate=\"onRequest\" xlink:href=\"psysml:704d58b1-847a-4b5f-8ef4-b4da5c2432eb\" xlink:show=\"new\" xlink:title=\"psysml:704d58b1-847a-4b5f-8ef4-b4da5c2432eb\" xlink:type=\"simple\"><rect fill=\"#FFFFFF\" height=\"534.72\" id=\"E1\" style=\"stroke: #383838; stroke-width: 1.5;\" width=\"315\" x=\"7\" y=\"7\"/><rect fill=\"#F8F8F8\" height=\"37.9375\" style=\"stroke: #383838; stroke-width: 1.5;\" width=\"315\" x=\"7\" y=\"7\"/><text fill=\"#000000\" font-family=\"sans-serif\" font-size=\"12\" font-style=\"italic\" lengthAdjust=\"spacingAndGlyphs\" textLength=\"77\" x=\"126\" y=\"23.1387\">«action def»</text><text fill=\"#000000\" font-family=\"sans-serif\" font-size=\"12\" lengthAdjust=\"spacingAndGlyphs\" textLength=\"80\" x=\"124.5\" y=\"37.1074\">DecisionTest</text></a><text fill=\"#000000\" font-family=\"sans-serif\" font-size=\"14\" lengthAdjust=\"spacingAndGlyphs\" textLength=\"48\" x=\"140\" y=\"560.7151\">$result</text><rect fill=\"#383838\" height=\"12\" style=\"stroke: #F8F8F8; stroke-width: 1.5;\" width=\"12\" x=\"158\" y=\"535.72\"/><polygon fill=\"#F8F8F8\" points=\"141,28.5,153,40.5,141,52.5,129,40.5,141,28.5\" style=\"stroke: #383838; stroke-width: 1.5;\"/><polygon fill=\"#F8F8F8\" points=\"35,170.5,47,182.5,35,194.5,23,182.5,35,170.5\" style=\"stroke: #383838; stroke-width: 1.5;\"/><g id=\"E1.E5\"><a href=\"psysml:f4b16115-f2df-4145-8494-1e5aced0fe90\" target=\"_top\" title=\"psysml:f4b16115-f2df-4145-8494-1e5aced0fe90\" xlink:actuate=\"onRequest\" xlink:href=\"psysml:f4b16115-f2df-4145-8494-1e5aced0fe90\" xlink:show=\"new\" xlink:title=\"psysml:f4b16115-f2df-4145-8494-1e5aced0fe90\" xlink:type=\"simple\"><rect fill=\"#FFFFFF\" height=\"42.9375\" id=\"E5\" rx=\"10\" ry=\"10\" style=\"stroke: #383838; stroke-width: 1.5;\" width=\"60\" x=\"135\" y=\"281\"/><rect fill=\"#F8F8F8\" height=\"37.9375\" rx=\"10\" ry=\"10\" style=\"stroke: #F8F8F8; stroke-width: 1.5;\" width=\"60\" x=\"135\" y=\"281\"/><rect fill=\"#F8F8F8\" height=\"10\" style=\"stroke: #F8F8F8; stroke-width: 1.5;\" width=\"60\" x=\"135\" y=\"308.9375\"/><rect fill=\"none\" height=\"42.9375\" id=\"E5\" rx=\"10\" ry=\"10\" style=\"stroke: #383838; stroke-width: 1.5;\" width=\"60\" x=\"135\" y=\"281\"/><text fill=\"#000000\" font-family=\"sans-serif\" font-size=\"12\" font-style=\"italic\" lengthAdjust=\"spacingAndGlyphs\" textLength=\"53\" x=\"138.5\" y=\"297.1387\">«action»</text><text fill=\"#000000\" font-family=\"sans-serif\" font-size=\"12\" lengthAdjust=\"spacingAndGlyphs\" textLength=\"16\" x=\"157\" y=\"311.1074\">A1</text></a></g><g id=\"E1.E6\"><a href=\"psysml:ffb4dce0-5cb8-4add-9e67-ebd1f2f3deb3\" target=\"_top\" title=\"psysml:ffb4dce0-5cb8-4add-9e67-ebd1f2f3deb3\" xlink:actuate=\"onRequest\" xlink:href=\"psysml:ffb4dce0-5cb8-4add-9e67-ebd1f2f3deb3\" xlink:show=\"new\" xlink:title=\"psysml:ffb4dce0-5cb8-4add-9e67-ebd1f2f3deb3\" xlink:type=\"simple\"><rect fill=\"#FFFFFF\" height=\"42.9375\" id=\"E6\" rx=\"10\" ry=\"10\" style=\"stroke: #383838; stroke-width: 1.5;\" width=\"60\" x=\"135\" y=\"401\"/><rect fill=\"#F8F8F8\" height=\"37.9375\" rx=\"10\" ry=\"10\" style=\"stroke: #F8F8F8; stroke-width: 1.5;\" width=\"60\" x=\"135\" y=\"401\"/><rect fill=\"#F8F8F8\" height=\"10\" style=\"stroke: #F8F8F8; stroke-width: 1.5;\" width=\"60\" x=\"135\" y=\"428.9375\"/><rect fill=\"none\" height=\"42.9375\" id=\"E6\" rx=\"10\" ry=\"10\" style=\"stroke: #383838; stroke-width: 1.5;\" width=\"60\" x=\"135\" y=\"401\"/><text fill=\"#000000\" font-family=\"sans-serif\" font-size=\"12\" font-style=\"italic\" lengthAdjust=\"spacingAndGlyphs\" textLength=\"53\" x=\"138.5\" y=\"417.1387\">«action»</text><text fill=\"#000000\" font-family=\"sans-serif\" font-size=\"12\" lengthAdjust=\"spacingAndGlyphs\" textLength=\"16\" x=\"157\" y=\"431.1074\">A2</text></a></g><g id=\"E1.E7\"><a href=\"psysml:dc91d98e-27d3-4fe3-8c05-9cedeab5907b\" target=\"_top\" title=\"psysml:dc91d98e-27d3-4fe3-8c05-9cedeab5907b\" xlink:actuate=\"onRequest\" xlink:href=\"psysml:dc91d98e-27d3-4fe3-8c05-9cedeab5907b\" xlink:show=\"new\" xlink:title=\"psysml:dc91d98e-27d3-4fe3-8c05-9cedeab5907b\" xlink:type=\"simple\"><rect fill=\"#FFFFFF\" height=\"42.9375\" id=\"E7\" rx=\"10\" ry=\"10\" style=\"stroke: #383838; stroke-width: 1.5;\" width=\"60\" x=\"46\" y=\"88\"/><rect fill=\"#F8F8F8\" height=\"37.9375\" rx=\"10\" ry=\"10\" style=\"stroke: #F8F8F8; stroke-width: 1.5;\" width=\"60\" x=\"46\" y=\"88\"/><rect fill=\"#F8F8F8\" height=\"10\" style=\"stroke: #F8F8F8; stroke-width: 1.5;\" width=\"60\" x=\"46\" y=\"115.9375\"/><rect fill=\"none\" height=\"42.9375\" id=\"E7\" rx=\"10\" ry=\"10\" style=\"stroke: #383838; stroke-width: 1.5;\" width=\"60\" x=\"46\" y=\"88\"/><text fill=\"#000000\" font-family=\"sans-serif\" font-size=\"12\" font-style=\"italic\" lengthAdjust=\"spacingAndGlyphs\" textLength=\"53\" x=\"49.5\" y=\"104.1387\">«action»</text><text fill=\"#000000\" font-family=\"sans-serif\" font-size=\"12\" lengthAdjust=\"spacingAndGlyphs\" textLength=\"16\" x=\"68\" y=\"118.1074\">A3</text></a></g><g id=\"E1.E8\"><a href=\"psysml:dc91d98e-27d3-4fe3-8c05-9cedeab5907b\" target=\"_top\" title=\"psysml:dc91d98e-27d3-4fe3-8c05-9cedeab5907b\" xlink:actuate=\"onRequest\" xlink:href=\"psysml:dc91d98e-27d3-4fe3-8c05-9cedeab5907b\" xlink:show=\"new\" xlink:title=\"psysml:dc91d98e-27d3-4fe3-8c05-9cedeab5907b\" xlink:type=\"simple\"><rect fill=\"#FFFFFF\" height=\"42.9375\" id=\"E8\" rx=\"10\" ry=\"10\" style=\"stroke: #383838; stroke-width: 1.5;\" width=\"60\" x=\"246\" y=\"161\"/><rect fill=\"#F8F8F8\" height=\"37.9375\" rx=\"10\" ry=\"10\" style=\"stroke: #F8F8F8; stroke-width: 1.5;\" width=\"60\" x=\"246\" y=\"161\"/><rect fill=\"#F8F8F8\" height=\"10\" style=\"stroke: #F8F8F8; stroke-width: 1.5;\" width=\"60\" x=\"246\" y=\"188.9375\"/><rect fill=\"none\" height=\"42.9375\" id=\"E8\" rx=\"10\" ry=\"10\" style=\"stroke: #383838; stroke-width: 1.5;\" width=\"60\" x=\"246\" y=\"161\"/><text fill=\"#000000\" font-family=\"sans-serif\" font-size=\"12\" font-style=\"italic\" lengthAdjust=\"spacingAndGlyphs\" textLength=\"53\" x=\"249.5\" y=\"177.1387\">«action»</text><text fill=\"#000000\" font-family=\"sans-serif\" font-size=\"12\" lengthAdjust=\"spacingAndGlyphs\" textLength=\"16\" x=\"268\" y=\"191.1074\">A3</text></a></g><!--MD5=[0188b64bb0ae78505a997a81836e11e9]\n",
       "link E3 to E5--><a href=\"psysml:f0c1a87b-40f9-41dd-914f-8704a756a2ee\" target=\"_top\" title=\"psysml:f0c1a87b-40f9-41dd-914f-8704a756a2ee\" xlink:actuate=\"onRequest\" xlink:href=\"psysml:f0c1a87b-40f9-41dd-914f-8704a756a2ee\" xlink:show=\"new\" xlink:title=\"psysml:f0c1a87b-40f9-41dd-914f-8704a756a2ee\" xlink:type=\"simple\"><path d=\"M142.2,51.42 C142.2,51.42 142.2,275.91 142.2,275.91 \" fill=\"none\" id=\"E3-&gt;E5\" style=\"stroke: #383838; stroke-width: 1.0;\"/><polygon fill=\"#383838\" points=\"142.2,280.91,146.2,271.91,142.2,275.91,138.2,271.91,142.2,280.91\" style=\"stroke: #383838; stroke-width: 1.0;\"/><text fill=\"#000000\" font-family=\"sans-serif\" font-size=\"13\" lengthAdjust=\"spacingAndGlyphs\" textLength=\"55\" x=\"118\" y=\"187.0669\">[x == 1]</text></a><!--MD5=[ec9844e0c75763426927cad3229d1081]\n",
       "link E3 to E6--><a href=\"psysml:534d6032-2416-43d2-b21b-3e106f4a7f5b\" target=\"_top\" title=\"psysml:534d6032-2416-43d2-b21b-3e106f4a7f5b\" xlink:actuate=\"onRequest\" xlink:href=\"psysml:534d6032-2416-43d2-b21b-3e106f4a7f5b\" xlink:show=\"new\" xlink:title=\"psysml:534d6032-2416-43d2-b21b-3e106f4a7f5b\" xlink:type=\"simple\"><path d=\"M132.52,36.72 C125.78,36.72 117.5,36.72 117.5,36.72 C117.5,36.72 117.5,415.72 117.5,415.72 C117.5,415.72 129.92,415.72 129.92,415.72 \" fill=\"none\" id=\"E3-&gt;E6\" style=\"stroke: #383838; stroke-width: 1.0;\"/><polygon fill=\"#383838\" points=\"134.92,415.72,125.92,411.72,129.92,415.72,125.92,419.72,134.92,415.72\" style=\"stroke: #383838; stroke-width: 1.0;\"/><text fill=\"#000000\" font-family=\"sans-serif\" font-size=\"13\" lengthAdjust=\"spacingAndGlyphs\" textLength=\"44\" x=\"221\" y=\"247.0669\">[x &gt; 1]</text></a><!--MD5=[ca5a752d6098d8a44b3f88316e7452d1]\n",
       "link E3 to E8--><a href=\"psysml:e6958018-0280-470d-866d-790aaedd3d9a\" target=\"_top\" title=\"psysml:e6958018-0280-470d-866d-790aaedd3d9a\" xlink:actuate=\"onRequest\" xlink:href=\"psysml:e6958018-0280-470d-866d-790aaedd3d9a\" xlink:show=\"new\" xlink:title=\"psysml:e6958018-0280-470d-866d-790aaedd3d9a\" xlink:type=\"simple\"><path d=\"M149.4,44.35 C149.4,65.32 149.4,164.72 149.4,164.72 C149.4,164.72 241,164.72 241,164.72 \" fill=\"none\" id=\"E3-&gt;E8\" style=\"stroke: #383838; stroke-width: 1.0;\"/><polygon fill=\"#383838\" points=\"246,164.72,237,160.72,241,164.72,237,168.72,246,164.72\" style=\"stroke: #383838; stroke-width: 1.0;\"/></a><!--MD5=[95fa686b5a16158bcdbcaeead89f639b]\n",
       "link E8 to E3--><a href=\"psysml:7eebbea4-be3a-4ef1-ac68-fab402045136\" target=\"_top\" title=\"psysml:7eebbea4-be3a-4ef1-ac68-fab402045136\" xlink:actuate=\"onRequest\" xlink:href=\"psysml:7eebbea4-be3a-4ef1-ac68-fab402045136\" xlink:show=\"new\" xlink:title=\"psysml:7eebbea4-be3a-4ef1-ac68-fab402045136\" xlink:type=\"simple\"><path d=\"M245.8,167.72 C207.34,167.72 145.8,167.72 145.8,167.72 C145.8,167.72 145.8,52.7 145.8,52.7 \" fill=\"none\" id=\"E8-&gt;E3\" style=\"stroke: #383838; stroke-width: 1.0;\"/><polygon fill=\"#383838\" points=\"145.8,47.7,141.8,56.7,145.8,52.7,149.8,56.7,145.8,47.7\" style=\"stroke: #383838; stroke-width: 1.0;\"/><text fill=\"#000000\" font-family=\"sans-serif\" font-size=\"13\" lengthAdjust=\"spacingAndGlyphs\" textLength=\"44\" x=\"254\" y=\"114.0669\">[x &gt; 0]</text></a><!--MD5=[af87c684e3b0d8be13c1a698a818ef1e]\n",
       "link E3 to E4--><a href=\"psysml:b2a8f402-8a6f-47b5-a176-34e34a53fa41\" target=\"_top\" title=\"psysml:b2a8f402-8a6f-47b5-a176-34e34a53fa41\" xlink:actuate=\"onRequest\" xlink:href=\"psysml:b2a8f402-8a6f-47b5-a176-34e34a53fa41\" xlink:show=\"new\" xlink:title=\"psysml:b2a8f402-8a6f-47b5-a176-34e34a53fa41\" xlink:type=\"simple\"><path d=\"M133,44.72 C108.23,44.72 34.5,44.72 34.5,44.72 C34.5,44.72 34.5,165.75 34.5,165.75 \" fill=\"none\" id=\"E3-&gt;E4\" style=\"stroke: #383838; stroke-width: 1.0;\"/><polygon fill=\"#383838\" points=\"34.5,170.75,38.5,161.75,34.5,165.75,30.5,161.75,34.5,170.75\" style=\"stroke: #383838; stroke-width: 1.0;\"/></a><!--MD5=[1b7591eae5389033d8d09a9d6721a717]\n",
       "link E4 to E5--><a href=\"psysml:d4e4cf4f-ca71-4ae2-aa8b-453c4e696e69\" target=\"_top\" title=\"psysml:d4e4cf4f-ca71-4ae2-aa8b-453c4e696e69\" xlink:actuate=\"onRequest\" xlink:href=\"psysml:d4e4cf4f-ca71-4ae2-aa8b-453c4e696e69\" xlink:show=\"new\" xlink:title=\"psysml:d4e4cf4f-ca71-4ae2-aa8b-453c4e696e69\" xlink:type=\"simple\"><path d=\"M46.88,182.72 C74.1,182.72 138.6,182.72 138.6,182.72 C138.6,182.72 138.6,275.81 138.6,275.81 \" fill=\"none\" id=\"E4-&gt;E5\" style=\"stroke: #383838; stroke-width: 1.0;\"/><polygon fill=\"#383838\" points=\"138.6,280.81,142.6,271.81,138.6,275.81,134.6,271.81,138.6,280.81\" style=\"stroke: #383838; stroke-width: 1.0;\"/><text fill=\"#000000\" font-family=\"sans-serif\" font-size=\"13\" lengthAdjust=\"spacingAndGlyphs\" textLength=\"36\" x=\"88\" y=\"247.0669\">[true]</text></a><!--MD5=[79568f1e445c3877b6a54524624ccc7d]\n",
       "link E4 to E6--><a href=\"psysml:07d2ed15-614f-457b-995c-67ac116a921b\" target=\"_top\" title=\"psysml:07d2ed15-614f-457b-995c-67ac116a921b\" xlink:actuate=\"onRequest\" xlink:href=\"psysml:07d2ed15-614f-457b-995c-67ac116a921b\" xlink:show=\"new\" xlink:title=\"psysml:07d2ed15-614f-457b-995c-67ac116a921b\" xlink:type=\"simple\"><path d=\"M35,194.76 C35,244.64 35,429.72 35,429.72 C35,429.72 129.85,429.72 129.85,429.72 \" fill=\"none\" id=\"E4-&gt;E6\" style=\"stroke: #383838; stroke-width: 1.0;\"/><polygon fill=\"#383838\" points=\"134.85,429.72,125.85,425.72,129.85,429.72,125.85,433.72,134.85,429.72\" style=\"stroke: #383838; stroke-width: 1.0;\"/><text fill=\"#000000\" font-family=\"sans-serif\" font-size=\"13\" lengthAdjust=\"spacingAndGlyphs\" textLength=\"40\" x=\"59\" y=\"307.0669\">[false]</text></a><!--MD5=[9120cf2e5df3bff93db8f754bbbc09b4]\n",
       "link E5 to E6--><a href=\"psysml:b67ea915-0e8a-4542-80c4-8f1f8e1002d6\" target=\"_top\" title=\"psysml:b67ea915-0e8a-4542-80c4-8f1f8e1002d6\" xlink:actuate=\"onRequest\" xlink:href=\"psysml:b67ea915-0e8a-4542-80c4-8f1f8e1002d6\" xlink:show=\"new\" xlink:title=\"psysml:b67ea915-0e8a-4542-80c4-8f1f8e1002d6\" xlink:type=\"simple\"><path d=\"M165,324.23 C165,324.23 165,395.93 165,395.93 \" fill=\"none\" id=\"E5-&gt;E6\" style=\"stroke: #383838; stroke-width: 1.0;\"/><polygon fill=\"#383838\" points=\"165,400.93,169,391.93,165,395.93,161,391.93,165,400.93\" style=\"stroke: #383838; stroke-width: 1.0;\"/><text fill=\"#000000\" font-family=\"sans-serif\" font-size=\"13\" lengthAdjust=\"spacingAndGlyphs\" textLength=\"55\" x=\"166\" y=\"367.0669\">[x == 0]</text></a><!--MD5=[250d49b786283b0e3a985e29b671a434]\n",
       "@startuml\r\n",
       "skinparam linetype ortho\r\n",
       "skinparam monochrome true\r\n",
       "skinparam classbackgroundcolor white\r\n",
       "skinparam shadowing false\r\n",
       "skinparam wrapWidth 300\r\n",
       "hide circle\r\n",
       "\r\n",
       "rec def \"DecisionTest\" as E1  <<(T,blue)action def>> [[psysml:704d58b1-847a-4b5f-8ef4-b4da5c2432eb ]] {\r\n",
       "portout \"$result\" as E2  [[psysml:d3db88a9-d6e2-4728-bacb-cdc83b04fb60 ]] \r\n",
       "choice \"test x\" as E3  [[psysml:07816a00-a6c6-49d5-84be-841a1e7e2f6a ]] \r\n",
       "choice \"noname\" as E4  [[psysml:26311404-6ce6-4dcd-89ed-d43ec51ac22a ]] \r\n",
       "rec usage \"A1\" as E5  <<(T,blue)action>> [[psysml:f4b16115-f2df-4145-8494-1e5aced0fe90 ]] {\r\n",
       "}\r\n",
       "\r\n",
       "rec usage \"A2\" as E6  <<(T,blue)action>> [[psysml:ffb4dce0-5cb8-4add-9e67-ebd1f2f3deb3 ]] {\r\n",
       "}\r\n",
       "\r\n",
       "rec usage \"A3\" as E7  <<(T,blue)action>> [[psysml:dc91d98e-27d3-4fe3-8c05-9cedeab5907b ]] {\r\n",
       "}\r\n",
       "\r\n",
       "rec usage \"A3\" as E8  <<(T,blue)action>> [[psysml:dc91d98e-27d3-4fe3-8c05-9cedeab5907b ]] {\r\n",
       "}\r\n",
       "\r\n",
       "}\r\n",
       "\r\n",
       "E3  - -> E5 [[psysml:f0c1a87b-40f9-41dd-914f-8704a756a2ee ]] : [x == 1]\r\n",
       "E3  - -> E6 [[psysml:534d6032-2416-43d2-b21b-3e106f4a7f5b ]] : [x > 1]\r\n",
       "E3  - -> E8 [[psysml:e6958018-0280-470d-866d-790aaedd3d9a ]] \r\n",
       "E3 - -> E4 [[psysml:b2a8f402-8a6f-47b5-a176-34e34a53fa41 ]] \r\n",
       "E4  - -> E5 [[psysml:d4e4cf4f-ca71-4ae2-aa8b-453c4e696e69 ]] : [true]\r\n",
       "E4  - -> E6 [[psysml:07d2ed15-614f-457b-995c-67ac116a921b ]] : [false]\r\n",
       "E5  - -> E6 [[psysml:b67ea915-0e8a-4542-80c4-8f1f8e1002d6 ]] : [x == 0]\r\n",
       "E8  - -> E3 [[psysml:7eebbea4-be3a-4ef1-ac68-fab402045136 ]] : [x > 0]\r\n",
       "@enduml\r\n",
       "\n",
       "PlantUML version 1.2020.13(Sat Jun 13 12:26:38 UTC 2020)\n",
       "(EPL source distribution)\n",
       "Java Runtime: OpenJDK Runtime Environment\n",
       "JVM: OpenJDK 64-Bit Server VM\n",
       "Default Encoding: UTF-8\n",
       "Language: en\n",
       "Country: null\n",
       "--></g></svg>"
      ]
     },
     "execution_count": 57,
     "metadata": {},
     "output_type": "execute_result"
    }
   ],
   "source": [
    "%viz --style=\"ORTHOLINE\" --view=\"MIXED\" \"DecisionTest\""
   ]
  }
 ],
 "metadata": {
  "kernelspec": {
   "display_name": "SysML",
   "language": "sysml",
   "name": "sysml"
  },
  "language_info": {
   "codemirror_mode": "sysml",
   "file_extension": ".sysml",
   "mimetype": "text/x-sysml",
   "name": "SysML",
   "pygments_lexer": "java",
   "version": "1.0.0"
  }
 },
 "nbformat": 4,
 "nbformat_minor": 5
}
