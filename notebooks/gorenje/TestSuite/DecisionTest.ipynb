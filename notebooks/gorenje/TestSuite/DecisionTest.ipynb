{
 "cells": [
  {
   "cell_type": "markdown",
   "id": "34c508f9",
   "metadata": {},
   "source": [
    "# SysML v2 Test Suite\n",
    "\n",
    "This can notebook can be cleared using menu `Edit --> Clear All Outputs` and then all cells can be\n",
    "run using menu `Run --> Run All Cells`.\n",
    "\n",
    "**WARNING**: This file is generated, all modifications here will be ignored.\n"
   ]
  },
  {
   "cell_type": "markdown",
   "id": "6de2867e",
   "metadata": {},
   "source": [
    "## File: ../../sysml/src/examples/Simple Tests/DecisionTest.sysml"
   ]
  },
  {
   "cell_type": "code",
   "execution_count": 1,
   "id": "7ea2941f",
   "metadata": {
    "execution": {
     "iopub.execute_input": "2022-03-21T07:50:57.358742Z",
     "iopub.status.busy": "2022-03-21T07:50:57.357304Z",
     "iopub.status.idle": "2022-03-21T07:50:58.014151Z",
     "shell.execute_reply": "2022-03-21T07:50:58.014496Z"
    }
   },
   "outputs": [
    {
     "data": {
      "text/plain": [
       "ActionDefinition DecisionTest (c6dbc6e1-cbe3-4520-8cae-545bed3812ee)\n"
      ]
     },
     "execution_count": 1,
     "metadata": {},
     "output_type": "execute_result"
    }
   ],
   "source": [
    "action def DecisionTest {\n",
    "\tattribute x = 1;\n",
    "\t\n",
    "\tdecide 'test x';\n",
    "\tif x == 1 then A1; \n",
    "\tif x > 1 then A2;\n",
    "\telse A3; \n",
    "\t\n",
    "\tthen decide; \n",
    "\tif true then A1;\n",
    "\tif false then A2;\n",
    "\t\n",
    "\taction A1;\n",
    "\taction A2;\n",
    "\taction A3;\n",
    "\t\n",
    "\tsuccession S first A1 \n",
    "\t\tif x == 0 then A2;\n",
    "\t\t\n",
    "\tfirst A3;\n",
    "\t\tif x > 0 then 'test x';\n",
    "}"
   ]
  },
  {
   "cell_type": "code",
   "execution_count": 2,
   "id": "a31d20d5",
   "metadata": {
    "execution": {
     "iopub.execute_input": "2022-03-21T07:50:58.065325Z",
     "iopub.status.busy": "2022-03-21T07:50:58.064898Z",
     "iopub.status.idle": "2022-03-21T07:50:58.530402Z",
     "shell.execute_reply": "2022-03-21T07:50:58.528284Z"
    }
   },
   "outputs": [
    {
     "data": {
      "image/svg+xml": [
       "<?xml version=\"1.0\" encoding=\"UTF-8\" standalone=\"no\"?><svg xmlns=\"http://www.w3.org/2000/svg\" xmlns:xlink=\"http://www.w3.org/1999/xlink\" contentScriptType=\"application/ecmascript\" contentStyleType=\"text/css\" height=\"488px\" preserveAspectRatio=\"none\" style=\"width:333px;height:488px;\" version=\"1.1\" viewBox=\"0 0 333 488\" width=\"333px\" zoomAndPan=\"magnify\"><defs/><g><!--MD5=[fbc87193dbaf4d95561dea2c320d4a47]\n",
       "cluster E1--><a href=\"psysml:62ac371c-e17a-420d-a580-1aab63005ed6\" target=\"_top\" title=\"psysml:62ac371c-e17a-420d-a580-1aab63005ed6\" xlink:actuate=\"onRequest\" xlink:href=\"psysml:62ac371c-e17a-420d-a580-1aab63005ed6\" xlink:show=\"new\" xlink:title=\"psysml:62ac371c-e17a-420d-a580-1aab63005ed6\" xlink:type=\"simple\"><rect fill=\"#FFFFFF\" height=\"470\" id=\"E1\" style=\"stroke: #383838; stroke-width: 1.5;\" width=\"315\" x=\"7\" y=\"7\"/><rect fill=\"#F8F8F8\" height=\"37.9375\" style=\"stroke: #383838; stroke-width: 1.5;\" width=\"315\" x=\"7\" y=\"7\"/><text fill=\"#000000\" font-family=\"sans-serif\" font-size=\"12\" font-style=\"italic\" lengthAdjust=\"spacingAndGlyphs\" textLength=\"81\" x=\"124\" y=\"23.1387\">«action  def»</text><text fill=\"#000000\" font-family=\"sans-serif\" font-size=\"12\" lengthAdjust=\"spacingAndGlyphs\" textLength=\"80\" x=\"124.5\" y=\"37.1074\">DecisionTest</text></a><polygon fill=\"#F8F8F8\" points=\"210,67.5,222,79.5,210,91.5,198,79.5,210,67.5\" style=\"stroke: #383838; stroke-width: 1.5;\"/><polygon fill=\"#F8F8F8\" points=\"35,187.5,47,199.5,35,211.5,23,199.5,35,187.5\" style=\"stroke: #383838; stroke-width: 1.5;\"/><g id=\"E1.E4\"><a href=\"psysml:bb8ae358-9e9d-46e4-9973-23f4ed00e117\" target=\"_top\" title=\"psysml:bb8ae358-9e9d-46e4-9973-23f4ed00e117\" xlink:actuate=\"onRequest\" xlink:href=\"psysml:bb8ae358-9e9d-46e4-9973-23f4ed00e117\" xlink:show=\"new\" xlink:title=\"psysml:bb8ae358-9e9d-46e4-9973-23f4ed00e117\" xlink:type=\"simple\"><rect fill=\"#FFFFFF\" height=\"42.9375\" id=\"E4\" rx=\"10\" ry=\"10\" style=\"stroke: #383838; stroke-width: 1.5;\" width=\"60\" x=\"135\" y=\"298\"/><rect fill=\"#F8F8F8\" height=\"37.9375\" rx=\"10\" ry=\"10\" style=\"stroke: #F8F8F8; stroke-width: 1.5;\" width=\"60\" x=\"135\" y=\"298\"/><rect fill=\"#F8F8F8\" height=\"10\" style=\"stroke: #F8F8F8; stroke-width: 1.5;\" width=\"60\" x=\"135\" y=\"325.9375\"/><rect fill=\"none\" height=\"42.9375\" id=\"E4\" rx=\"10\" ry=\"10\" style=\"stroke: #383838; stroke-width: 1.5;\" width=\"60\" x=\"135\" y=\"298\"/><text fill=\"#000000\" font-family=\"sans-serif\" font-size=\"12\" font-style=\"italic\" lengthAdjust=\"spacingAndGlyphs\" textLength=\"53\" x=\"138.5\" y=\"314.1387\">«action»</text><text fill=\"#000000\" font-family=\"sans-serif\" font-size=\"12\" lengthAdjust=\"spacingAndGlyphs\" textLength=\"16\" x=\"157\" y=\"328.1074\">A1</text></a></g><g id=\"E1.E5\"><a href=\"psysml:e7f91728-bf49-43a2-b90b-9012c9afe2c4\" target=\"_top\" title=\"psysml:e7f91728-bf49-43a2-b90b-9012c9afe2c4\" xlink:actuate=\"onRequest\" xlink:href=\"psysml:e7f91728-bf49-43a2-b90b-9012c9afe2c4\" xlink:show=\"new\" xlink:title=\"psysml:e7f91728-bf49-43a2-b90b-9012c9afe2c4\" xlink:type=\"simple\"><rect fill=\"#FFFFFF\" height=\"42.9375\" id=\"E5\" rx=\"10\" ry=\"10\" style=\"stroke: #383838; stroke-width: 1.5;\" width=\"60\" x=\"135\" y=\"418\"/><rect fill=\"#F8F8F8\" height=\"37.9375\" rx=\"10\" ry=\"10\" style=\"stroke: #F8F8F8; stroke-width: 1.5;\" width=\"60\" x=\"135\" y=\"418\"/><rect fill=\"#F8F8F8\" height=\"10\" style=\"stroke: #F8F8F8; stroke-width: 1.5;\" width=\"60\" x=\"135\" y=\"445.9375\"/><rect fill=\"none\" height=\"42.9375\" id=\"E5\" rx=\"10\" ry=\"10\" style=\"stroke: #383838; stroke-width: 1.5;\" width=\"60\" x=\"135\" y=\"418\"/><text fill=\"#000000\" font-family=\"sans-serif\" font-size=\"12\" font-style=\"italic\" lengthAdjust=\"spacingAndGlyphs\" textLength=\"53\" x=\"138.5\" y=\"434.1387\">«action»</text><text fill=\"#000000\" font-family=\"sans-serif\" font-size=\"12\" lengthAdjust=\"spacingAndGlyphs\" textLength=\"16\" x=\"157\" y=\"448.1074\">A2</text></a></g><g id=\"E1.E6\"><a href=\"psysml:0d8578a4-a91e-4bc0-9576-e9210611ea53\" target=\"_top\" title=\"psysml:0d8578a4-a91e-4bc0-9576-e9210611ea53\" xlink:actuate=\"onRequest\" xlink:href=\"psysml:0d8578a4-a91e-4bc0-9576-e9210611ea53\" xlink:show=\"new\" xlink:title=\"psysml:0d8578a4-a91e-4bc0-9576-e9210611ea53\" xlink:type=\"simple\"><rect fill=\"#FFFFFF\" height=\"42.9375\" id=\"E6\" rx=\"10\" ry=\"10\" style=\"stroke: #383838; stroke-width: 1.5;\" width=\"60\" x=\"63\" y=\"58\"/><rect fill=\"#F8F8F8\" height=\"37.9375\" rx=\"10\" ry=\"10\" style=\"stroke: #F8F8F8; stroke-width: 1.5;\" width=\"60\" x=\"63\" y=\"58\"/><rect fill=\"#F8F8F8\" height=\"10\" style=\"stroke: #F8F8F8; stroke-width: 1.5;\" width=\"60\" x=\"63\" y=\"85.9375\"/><rect fill=\"none\" height=\"42.9375\" id=\"E6\" rx=\"10\" ry=\"10\" style=\"stroke: #383838; stroke-width: 1.5;\" width=\"60\" x=\"63\" y=\"58\"/><text fill=\"#000000\" font-family=\"sans-serif\" font-size=\"12\" font-style=\"italic\" lengthAdjust=\"spacingAndGlyphs\" textLength=\"53\" x=\"66.5\" y=\"74.1387\">«action»</text><text fill=\"#000000\" font-family=\"sans-serif\" font-size=\"12\" lengthAdjust=\"spacingAndGlyphs\" textLength=\"16\" x=\"85\" y=\"88.1074\">A3</text></a></g><g id=\"E1.E7\"><a href=\"psysml:0d8578a4-a91e-4bc0-9576-e9210611ea53\" target=\"_top\" title=\"psysml:0d8578a4-a91e-4bc0-9576-e9210611ea53\" xlink:actuate=\"onRequest\" xlink:href=\"psysml:0d8578a4-a91e-4bc0-9576-e9210611ea53\" xlink:show=\"new\" xlink:title=\"psysml:0d8578a4-a91e-4bc0-9576-e9210611ea53\" xlink:type=\"simple\"><rect fill=\"#FFFFFF\" height=\"42.9375\" id=\"E7\" rx=\"10\" ry=\"10\" style=\"stroke: #383838; stroke-width: 1.5;\" width=\"60\" x=\"246\" y=\"178\"/><rect fill=\"#F8F8F8\" height=\"37.9375\" rx=\"10\" ry=\"10\" style=\"stroke: #F8F8F8; stroke-width: 1.5;\" width=\"60\" x=\"246\" y=\"178\"/><rect fill=\"#F8F8F8\" height=\"10\" style=\"stroke: #F8F8F8; stroke-width: 1.5;\" width=\"60\" x=\"246\" y=\"205.9375\"/><rect fill=\"none\" height=\"42.9375\" id=\"E7\" rx=\"10\" ry=\"10\" style=\"stroke: #383838; stroke-width: 1.5;\" width=\"60\" x=\"246\" y=\"178\"/><text fill=\"#000000\" font-family=\"sans-serif\" font-size=\"12\" font-style=\"italic\" lengthAdjust=\"spacingAndGlyphs\" textLength=\"53\" x=\"249.5\" y=\"194.1387\">«action»</text><text fill=\"#000000\" font-family=\"sans-serif\" font-size=\"12\" lengthAdjust=\"spacingAndGlyphs\" textLength=\"16\" x=\"268\" y=\"208.1074\">A3</text></a></g><!--MD5=[4d03bb2d0377dc85ccfab60ff574652b]\n",
       "link E2 to E4--><a href=\"psysml:8074e684-9dcd-4869-b14d-8570f637bde9\" target=\"_top\" title=\"psysml:8074e684-9dcd-4869-b14d-8570f637bde9\" xlink:actuate=\"onRequest\" xlink:href=\"psysml:8074e684-9dcd-4869-b14d-8570f637bde9\" xlink:show=\"new\" xlink:title=\"psysml:8074e684-9dcd-4869-b14d-8570f637bde9\" xlink:type=\"simple\"><path d=\"M204.45,86 C190.88,99.89 156.22,138.13 144,178 C132.04,217.01 144.31,264.27 154.48,292.83 \" fill=\"none\" id=\"E2-&gt;E4\" style=\"stroke: #383838; stroke-width: 1.0;\"/><polygon fill=\"#383838\" points=\"156.22,297.6,156.8939,287.7742,154.5067,292.9027,149.3782,290.5155,156.22,297.6\" style=\"stroke: #383838; stroke-width: 1.0;\"/><text fill=\"#000000\" font-family=\"sans-serif\" font-size=\"13\" lengthAdjust=\"spacingAndGlyphs\" textLength=\"55\" x=\"145\" y=\"204.0669\">[x == 1]</text><text fill=\"#000000\" font-family=\"sans-serif\" font-size=\"13\" lengthAdjust=\"spacingAndGlyphs\" textLength=\"7\" x=\"145.9198\" y=\"286.7919\">*</text></a><!--MD5=[dcad52bbbca2fe8adc741ce38b45dc12]\n",
       "link E2 to E5--><a href=\"psysml:3f3ee8aa-e9f7-416c-965c-8aff211aef79\" target=\"_top\" title=\"psysml:3f3ee8aa-e9f7-416c-965c-8aff211aef79\" xlink:actuate=\"onRequest\" xlink:href=\"psysml:3f3ee8aa-e9f7-416c-965c-8aff211aef79\" xlink:show=\"new\" xlink:title=\"psysml:3f3ee8aa-e9f7-416c-965c-8aff211aef79\" xlink:type=\"simple\"><path d=\"M210.67,90.83 C214.08,143.62 229.24,381.12 226,388 C220.27,400.19 209.98,410.45 199.48,418.47 \" fill=\"none\" id=\"E2-&gt;E5\" style=\"stroke: #383838; stroke-width: 1.0;\"/><polygon fill=\"#383838\" points=\"195.29,421.54,204.9073,419.4168,199.3138,418.5721,200.1586,412.9786,195.29,421.54\" style=\"stroke: #383838; stroke-width: 1.0;\"/><text fill=\"#000000\" font-family=\"sans-serif\" font-size=\"13\" lengthAdjust=\"spacingAndGlyphs\" textLength=\"44\" x=\"222\" y=\"264.0669\">[x &gt; 1]</text><text fill=\"#000000\" font-family=\"sans-serif\" font-size=\"13\" lengthAdjust=\"spacingAndGlyphs\" textLength=\"7\" x=\"203.1039\" y=\"412.7419\">*</text></a><!--MD5=[e3d2a08a9c9236652057e8ed0cbc9b62]\n",
       "link E2 to E7--><a href=\"psysml:5268f6a4-a59c-47f8-920f-30c5900c34c3\" target=\"_top\" title=\"psysml:5268f6a4-a59c-47f8-920f-30c5900c34c3\" xlink:actuate=\"onRequest\" xlink:href=\"psysml:5268f6a4-a59c-47f8-920f-30c5900c34c3\" xlink:show=\"new\" xlink:title=\"psysml:5268f6a4-a59c-47f8-920f-30c5900c34c3\" xlink:type=\"simple\"><path d=\"M210.1,91.71 C210.67,105.71 213.16,129.99 223,148 C228.29,157.68 236.08,166.6 244.08,174.17 \" fill=\"none\" id=\"E2-&gt;E7\" style=\"stroke: #383838; stroke-width: 1.0;\"/><polygon fill=\"#383838\" points=\"248.01,177.77,244.069,168.744,244.3207,174.3953,238.6694,174.6469,248.01,177.77\" style=\"stroke: #383838; stroke-width: 1.0;\"/><text fill=\"#000000\" font-family=\"sans-serif\" font-size=\"13\" lengthAdjust=\"spacingAndGlyphs\" textLength=\"7\" x=\"232.5471\" y=\"167.0076\">*</text></a><!--MD5=[583832df87f4419a098336a29a52fa00]\n",
       "link E7 to E2--><a href=\"psysml:1fcd52fd-d040-4c7e-90de-1e4181f9ba4a\" target=\"_top\" title=\"psysml:1fcd52fd-d040-4c7e-90de-1e4181f9ba4a\" xlink:actuate=\"onRequest\" xlink:href=\"psysml:1fcd52fd-d040-4c7e-90de-1e4181f9ba4a\" xlink:show=\"new\" xlink:title=\"psysml:1fcd52fd-d040-4c7e-90de-1e4181f9ba4a\" xlink:type=\"simple\"><path d=\"M264.3,177.59 C250.41,152.74 227.7,112.15 216.57,92.25 \" fill=\"none\" id=\"E7-&gt;E2\" style=\"stroke: #383838; stroke-width: 1.0;\"/><polygon fill=\"#383838\" points=\"214.13,87.88,215.0286,97.6878,216.5691,92.2447,222.0122,93.7852,214.13,87.88\" style=\"stroke: #383838; stroke-width: 1.0;\"/><text fill=\"#000000\" font-family=\"sans-serif\" font-size=\"13\" lengthAdjust=\"spacingAndGlyphs\" textLength=\"44\" x=\"247\" y=\"144.0669\">[x &gt; 0]</text><text fill=\"#000000\" font-family=\"sans-serif\" font-size=\"13\" lengthAdjust=\"spacingAndGlyphs\" textLength=\"7\" x=\"207.5946\" y=\"111.7074\">*</text></a><!--MD5=[2720a5a1f2c3fca2055b230370638851]\n",
       "link E2 to E3--><a href=\"psysml:c0d6c8f2-adfa-4de5-8b53-fd445de20c7a\" target=\"_top\" title=\"psysml:c0d6c8f2-adfa-4de5-8b53-fd445de20c7a\" xlink:actuate=\"onRequest\" xlink:href=\"psysml:c0d6c8f2-adfa-4de5-8b53-fd445de20c7a\" xlink:show=\"new\" xlink:title=\"psysml:c0d6c8f2-adfa-4de5-8b53-fd445de20c7a\" xlink:type=\"simple\"><path d=\"M201.9,83.58 C184.06,90.55 140.39,108.7 108,131 C82.49,148.57 56.88,174.67 43.84,188.71 \" fill=\"none\" id=\"E2-&gt;E3\" style=\"stroke: #383838; stroke-width: 1.0;\"/><polygon fill=\"#383838\" points=\"40.21,192.66,49.2443,188.738,43.5925,188.9778,43.3527,183.326,40.21,192.66\" style=\"stroke: #383838; stroke-width: 1.0;\"/><text fill=\"#000000\" font-family=\"sans-serif\" font-size=\"13\" lengthAdjust=\"spacingAndGlyphs\" textLength=\"7\" x=\"48.2668\" y=\"176.5238\">*</text></a><!--MD5=[af87c684e3b0d8be13c1a698a818ef1e]\n",
       "link E3 to E4--><a href=\"psysml:647fb379-8896-403f-81c0-e54862ace948\" target=\"_top\" title=\"psysml:647fb379-8896-403f-81c0-e54862ace948\" xlink:actuate=\"onRequest\" xlink:href=\"psysml:647fb379-8896-403f-81c0-e54862ace948\" xlink:show=\"new\" xlink:title=\"psysml:647fb379-8896-403f-81c0-e54862ace948\" xlink:type=\"simple\"><path d=\"M39.08,207.91 C46.63,221.15 63.87,249.24 84,268 C97.73,280.8 115.17,292.16 130.35,300.85 \" fill=\"none\" id=\"E3-&gt;E4\" style=\"stroke: #383838; stroke-width: 1.0;\"/><polygon fill=\"#383838\" points=\"134.98,303.46,129.0858,295.5696,130.6187,301.0148,125.1735,302.5477,134.98,303.46\" style=\"stroke: #383838; stroke-width: 1.0;\"/><text fill=\"#000000\" font-family=\"sans-serif\" font-size=\"13\" lengthAdjust=\"spacingAndGlyphs\" textLength=\"36\" x=\"85\" y=\"264.0669\">[true]</text><text fill=\"#000000\" font-family=\"sans-serif\" font-size=\"13\" lengthAdjust=\"spacingAndGlyphs\" textLength=\"7\" x=\"119.8095\" y=\"294.8128\">*</text></a><!--MD5=[0188b64bb0ae78505a997a81836e11e9]\n",
       "link E3 to E5--><a href=\"psysml:1317e145-771b-48e4-a88c-08ae6f2caba6\" target=\"_top\" title=\"psysml:1317e145-771b-48e4-a88c-08ae6f2caba6\" xlink:actuate=\"onRequest\" xlink:href=\"psysml:1317e145-771b-48e4-a88c-08ae6f2caba6\" xlink:show=\"new\" xlink:title=\"psysml:1317e145-771b-48e4-a88c-08ae6f2caba6\" xlink:type=\"simple\"><path d=\"M36.3,210.29 C39.76,234.03 50.73,296.03 76,341 C91.89,369.29 117.42,396.1 137.07,414.43 \" fill=\"none\" id=\"E3-&gt;E5\" style=\"stroke: #383838; stroke-width: 1.0;\"/><polygon fill=\"#383838\" points=\"140.92,417.98,137.0155,408.9382,137.2443,414.5904,131.5921,414.8192,140.92,417.98\" style=\"stroke: #383838; stroke-width: 1.0;\"/><text fill=\"#000000\" font-family=\"sans-serif\" font-size=\"13\" lengthAdjust=\"spacingAndGlyphs\" textLength=\"40\" x=\"77\" y=\"324.0669\">[false]</text><text fill=\"#000000\" font-family=\"sans-serif\" font-size=\"13\" lengthAdjust=\"spacingAndGlyphs\" textLength=\"7\" x=\"126.1631\" y=\"406.9125\">*</text></a><!--MD5=[1b7591eae5389033d8d09a9d6721a717]\n",
       "link E4 to E5--><a href=\"psysml:23f0aa3a-74d1-4632-9e57-f97d17e19ec4\" target=\"_top\" title=\"psysml:23f0aa3a-74d1-4632-9e57-f97d17e19ec4\" xlink:actuate=\"onRequest\" xlink:href=\"psysml:23f0aa3a-74d1-4632-9e57-f97d17e19ec4\" xlink:show=\"new\" xlink:title=\"psysml:23f0aa3a-74d1-4632-9e57-f97d17e19ec4\" xlink:type=\"simple\"><path d=\"M165,341.05 C165,360.9 165,391.02 165,412.52 \" fill=\"none\" id=\"E4-&gt;E5\" style=\"stroke: #383838; stroke-width: 1.0;\"/><polygon fill=\"#383838\" points=\"165,417.79,169,408.79,165,412.79,161,408.79,165,417.79\" style=\"stroke: #383838; stroke-width: 1.0;\"/><text fill=\"#000000\" font-family=\"sans-serif\" font-size=\"13\" lengthAdjust=\"spacingAndGlyphs\" textLength=\"55\" x=\"166\" y=\"384.0669\">[x == 0]</text><text fill=\"#000000\" font-family=\"sans-serif\" font-size=\"13\" lengthAdjust=\"spacingAndGlyphs\" textLength=\"7\" x=\"157.0594\" y=\"407.033\">*</text></a><!--MD5=[beed3bc0e6dbb26b5b0d4d496a176f34]\n",
       "@startuml\r\n",
       " skinparam monochrome true\r\n",
       "skinparam classbackgroundcolor white\r\n",
       "skinparam shadowing false\r\n",
       "skinparam wrapWidth 300\r\n",
       "hide circle\r\n",
       "\r\n",
       "rec def \"DecisionTest\" as E1  <<(T,blue) action  def>> [[psysml:62ac371c-e17a-420d-a580-1aab63005ed6 ]] {\r\n",
       "choice \"test x\" as E2  [[psysml:2e150d19-c5c5-4276-9136-9fe31d212434 ]] \r\n",
       "choice \"<s>noname</s>\" as E3  [[psysml:cc5b619c-f329-4ed7-9a64-7943d6ed9569 ]] \r\n",
       "rec usage \"A1\" as E4  <<(T,blue) action>> [[psysml:bb8ae358-9e9d-46e4-9973-23f4ed00e117 ]] {\r\n",
       "}\r\n",
       "\r\n",
       "rec usage \"A2\" as E5  <<(T,blue) action>> [[psysml:e7f91728-bf49-43a2-b90b-9012c9afe2c4 ]] {\r\n",
       "}\r\n",
       "\r\n",
       "rec usage \"A3\" as E6  <<(T,blue) action>> [[psysml:0d8578a4-a91e-4bc0-9576-e9210611ea53 ]] {\r\n",
       "}\r\n",
       "\r\n",
       "rec usage \"A3\" as E7  <<(T,blue) action>> [[psysml:0d8578a4-a91e-4bc0-9576-e9210611ea53 ]] {\r\n",
       "}\r\n",
       "\r\n",
       "}\r\n",
       "\r\n",
       "E2  - -> \"*\"E4 [[psysml:8074e684-9dcd-4869-b14d-8570f637bde9 ]] : [x == 1]\r\n",
       "E2  - -> \"*\"E5 [[psysml:3f3ee8aa-e9f7-416c-965c-8aff211aef79 ]] : [x > 1]\r\n",
       "E2  - -> \"*\"E7 [[psysml:5268f6a4-a59c-47f8-920f-30c5900c34c3 ]] \r\n",
       "E2 - -> \"*\"E3 [[psysml:c0d6c8f2-adfa-4de5-8b53-fd445de20c7a ]] \r\n",
       "E3  - -> \"*\"E4 [[psysml:647fb379-8896-403f-81c0-e54862ace948 ]] : [true]\r\n",
       "E3  - -> \"*\"E5 [[psysml:1317e145-771b-48e4-a88c-08ae6f2caba6 ]] : [false]\r\n",
       "E4  - -> \"*\"E5 [[psysml:23f0aa3a-74d1-4632-9e57-f97d17e19ec4 ]] : [x == 0]\r\n",
       "E7  - -> \"*\"E2 [[psysml:1fcd52fd-d040-4c7e-90de-1e4181f9ba4a ]] : [x > 0]\r\n",
       "@enduml\r\n",
       "\n",
       "PlantUML version 1.2020.13(Sat Jun 13 12:26:38 UTC 2020)\n",
       "(EPL source distribution)\n",
       "Java Runtime: OpenJDK Runtime Environment\n",
       "JVM: OpenJDK 64-Bit Server VM\n",
       "Default Encoding: UTF-8\n",
       "Language: en\n",
       "Country: null\n",
       "--></g></svg>"
      ]
     },
     "execution_count": 2,
     "metadata": {},
     "output_type": "execute_result"
    }
   ],
   "source": [
    "%viz --style=\"COMPTREE\" --view=\"Default\" \"DecisionTest\""
   ]
  },
  {
   "cell_type": "code",
   "execution_count": 3,
   "id": "5a798ba8",
   "metadata": {
    "execution": {
     "iopub.execute_input": "2022-03-21T07:50:58.579138Z",
     "iopub.status.busy": "2022-03-21T07:50:58.578687Z",
     "iopub.status.idle": "2022-03-21T07:50:58.757051Z",
     "shell.execute_reply": "2022-03-21T07:50:58.755557Z"
    }
   },
   "outputs": [
    {
     "data": {
      "image/svg+xml": [
       "<?xml version=\"1.0\" encoding=\"UTF-8\" standalone=\"no\"?><svg xmlns=\"http://www.w3.org/2000/svg\" xmlns:xlink=\"http://www.w3.org/1999/xlink\" contentScriptType=\"application/ecmascript\" contentStyleType=\"text/css\" height=\"335px\" preserveAspectRatio=\"none\" style=\"width:531px;height:335px;\" version=\"1.1\" viewBox=\"0 0 531 335\" width=\"531px\" zoomAndPan=\"magnify\"><defs/><g><!--MD5=[43c9051892ef23e1a46a86907403d788]\n",
       "class E1--><a href=\"psysml:62ac371c-e17a-420d-a580-1aab63005ed6\" target=\"_top\" title=\"psysml:62ac371c-e17a-420d-a580-1aab63005ed6\" xlink:actuate=\"onRequest\" xlink:href=\"psysml:62ac371c-e17a-420d-a580-1aab63005ed6\" xlink:show=\"new\" xlink:title=\"psysml:62ac371c-e17a-420d-a580-1aab63005ed6\" xlink:type=\"simple\"><rect fill=\"#FFFFFF\" height=\"211.5938\" id=\"E1\" style=\"stroke: #383838; stroke-width: 1.5;\" width=\"86\" x=\"315\" y=\"7\"/><text fill=\"#000000\" font-family=\"sans-serif\" font-size=\"12\" font-style=\"italic\" lengthAdjust=\"spacingAndGlyphs\" textLength=\"81\" x=\"317.5\" y=\"23.1387\">«action  def»</text><text fill=\"#000000\" font-family=\"sans-serif\" font-size=\"12\" lengthAdjust=\"spacingAndGlyphs\" textLength=\"80\" x=\"318\" y=\"37.1074\">DecisionTest</text><line style=\"stroke: #383838; stroke-width: 1.5;\" x1=\"316\" x2=\"400\" y1=\"44.9375\" y2=\"44.9375\"/><text fill=\"#000000\" font-family=\"sans-serif\" font-size=\"11\" lengthAdjust=\"spacingAndGlyphs\" textLength=\"30\" x=\"321\" y=\"75.9526\">x= 1;</text><line style=\"stroke: #383838; stroke-width: 1.0;\" x1=\"316\" x2=\"330.5\" y1=\"59.3398\" y2=\"59.3398\"/><text fill=\"#000000\" font-family=\"sans-serif\" font-size=\"11\" lengthAdjust=\"spacingAndGlyphs\" textLength=\"55\" x=\"330.5\" y=\"62.6479\">attributes</text><line style=\"stroke: #383838; stroke-width: 1.0;\" x1=\"385.5\" x2=\"400\" y1=\"59.3398\" y2=\"59.3398\"/><text fill=\"#000000\" font-family=\"sans-serif\" font-size=\"11\" lengthAdjust=\"spacingAndGlyphs\" textLength=\"25\" x=\"321\" y=\"105.562\">then</text><line style=\"stroke: #383838; stroke-width: 1.0;\" x1=\"316\" x2=\"322.5\" y1=\"88.9492\" y2=\"88.9492\"/><text fill=\"#000000\" font-family=\"sans-serif\" font-size=\"11\" lengthAdjust=\"spacingAndGlyphs\" textLength=\"71\" x=\"322.5\" y=\"92.2573\">successions</text><line style=\"stroke: #383838; stroke-width: 1.0;\" x1=\"393.5\" x2=\"400\" y1=\"88.9492\" y2=\"88.9492\"/><text fill=\"#000000\" font-family=\"sans-serif\" font-size=\"11\" lengthAdjust=\"spacingAndGlyphs\" textLength=\"0\" x=\"325\" y=\"135.1714\"/><text fill=\"#000000\" font-family=\"sans-serif\" font-size=\"11\" lengthAdjust=\"spacingAndGlyphs\" textLength=\"0\" x=\"325\" y=\"147.9761\"/><text fill=\"#000000\" font-family=\"sans-serif\" font-size=\"11\" lengthAdjust=\"spacingAndGlyphs\" textLength=\"0\" x=\"325\" y=\"160.7808\"/><text fill=\"#000000\" font-family=\"sans-serif\" font-size=\"11\" lengthAdjust=\"spacingAndGlyphs\" textLength=\"0\" x=\"325\" y=\"173.5854\"/><text fill=\"#000000\" font-family=\"sans-serif\" font-size=\"11\" lengthAdjust=\"spacingAndGlyphs\" textLength=\"0\" x=\"325\" y=\"186.3901\"/><text fill=\"#000000\" font-family=\"sans-serif\" font-size=\"11\" lengthAdjust=\"spacingAndGlyphs\" textLength=\"0\" x=\"325\" y=\"199.1948\"/><text fill=\"#000000\" font-family=\"sans-serif\" font-size=\"11\" lengthAdjust=\"spacingAndGlyphs\" textLength=\"8\" x=\"321\" y=\"211.9995\">S</text><line style=\"stroke: #383838; stroke-width: 1.0;\" x1=\"316\" x2=\"327.5\" y1=\"118.5586\" y2=\"118.5586\"/><text fill=\"#000000\" font-family=\"sans-serif\" font-size=\"11\" lengthAdjust=\"spacingAndGlyphs\" textLength=\"61\" x=\"327.5\" y=\"121.8667\">transitions</text><line style=\"stroke: #383838; stroke-width: 1.0;\" x1=\"388.5\" x2=\"400\" y1=\"118.5586\" y2=\"118.5586\"/></a><!--MD5=[b4997ac47864f28c2f74865a473b2911]\n",
       "class E2--><a href=\"psysml:2e150d19-c5c5-4276-9136-9fe31d212434\" target=\"_top\" title=\"psysml:2e150d19-c5c5-4276-9136-9fe31d212434\" xlink:actuate=\"onRequest\" xlink:href=\"psysml:2e150d19-c5c5-4276-9136-9fe31d212434\" xlink:show=\"new\" xlink:title=\"psysml:2e150d19-c5c5-4276-9136-9fe31d212434\" xlink:type=\"simple\"><rect fill=\"#FFFFFF\" height=\"45.9375\" id=\"E2\" rx=\"10\" ry=\"10\" style=\"stroke: #383838; stroke-width: 1.5;\" width=\"104\" x=\"7\" y=\"279\"/><text fill=\"#000000\" font-family=\"sans-serif\" font-size=\"12\" font-style=\"italic\" lengthAdjust=\"spacingAndGlyphs\" textLength=\"102\" x=\"8\" y=\"295.1387\">«decision node»</text><text fill=\"#000000\" font-family=\"sans-serif\" font-size=\"12\" lengthAdjust=\"spacingAndGlyphs\" textLength=\"35\" x=\"39.5\" y=\"309.1074\">test x</text><line style=\"stroke: #383838; stroke-width: 1.5;\" x1=\"8\" x2=\"110\" y1=\"316.9375\" y2=\"316.9375\"/></a><!--MD5=[09b614a08d8cba4a07c9adeb5e0fee81]\n",
       "class E3--><a href=\"psysml:cc5b619c-f329-4ed7-9a64-7943d6ed9569\" target=\"_top\" title=\"psysml:cc5b619c-f329-4ed7-9a64-7943d6ed9569\" xlink:actuate=\"onRequest\" xlink:href=\"psysml:cc5b619c-f329-4ed7-9a64-7943d6ed9569\" xlink:show=\"new\" xlink:title=\"psysml:cc5b619c-f329-4ed7-9a64-7943d6ed9569\" xlink:type=\"simple\"><rect fill=\"#FFFFFF\" height=\"45.9375\" id=\"E3\" rx=\"10\" ry=\"10\" style=\"stroke: #383838; stroke-width: 1.5;\" width=\"104\" x=\"146\" y=\"279\"/><text fill=\"#000000\" font-family=\"sans-serif\" font-size=\"12\" font-style=\"italic\" lengthAdjust=\"spacingAndGlyphs\" textLength=\"102\" x=\"147\" y=\"295.1387\">«decision node»</text><text fill=\"#000000\" font-family=\"sans-serif\" font-size=\"12\" lengthAdjust=\"spacingAndGlyphs\" text-decoration=\"line-through\" textLength=\"51\" x=\"170.5\" y=\"309.1074\">noname</text><text fill=\"#000000\" font-family=\"sans-serif\" font-size=\"12\" lengthAdjust=\"spacingAndGlyphs\" textLength=\"0\" x=\"225.5\" y=\"309.1074\"/><line style=\"stroke: #383838; stroke-width: 1.5;\" x1=\"147\" x2=\"249\" y1=\"316.9375\" y2=\"316.9375\"/></a><!--MD5=[ebbe1d658d1005bcc118a6aa81145e00]\n",
       "class E4--><a href=\"psysml:bb8ae358-9e9d-46e4-9973-23f4ed00e117\" target=\"_top\" title=\"psysml:bb8ae358-9e9d-46e4-9973-23f4ed00e117\" xlink:actuate=\"onRequest\" xlink:href=\"psysml:bb8ae358-9e9d-46e4-9973-23f4ed00e117\" xlink:show=\"new\" xlink:title=\"psysml:bb8ae358-9e9d-46e4-9973-23f4ed00e117\" xlink:type=\"simple\"><rect fill=\"#FFFFFF\" height=\"45.9375\" id=\"E4\" rx=\"10\" ry=\"10\" style=\"stroke: #383838; stroke-width: 1.5;\" width=\"55\" x=\"285.5\" y=\"279\"/><text fill=\"#000000\" font-family=\"sans-serif\" font-size=\"12\" font-style=\"italic\" lengthAdjust=\"spacingAndGlyphs\" textLength=\"53\" x=\"286.5\" y=\"295.1387\">«action»</text><text fill=\"#000000\" font-family=\"sans-serif\" font-size=\"12\" lengthAdjust=\"spacingAndGlyphs\" textLength=\"16\" x=\"303\" y=\"309.1074\">A1</text><line style=\"stroke: #383838; stroke-width: 1.5;\" x1=\"286.5\" x2=\"339.5\" y1=\"316.9375\" y2=\"316.9375\"/></a><!--MD5=[270fce915f116d4de14055a7c1d9a0f3]\n",
       "class E5--><a href=\"psysml:e7f91728-bf49-43a2-b90b-9012c9afe2c4\" target=\"_top\" title=\"psysml:e7f91728-bf49-43a2-b90b-9012c9afe2c4\" xlink:actuate=\"onRequest\" xlink:href=\"psysml:e7f91728-bf49-43a2-b90b-9012c9afe2c4\" xlink:show=\"new\" xlink:title=\"psysml:e7f91728-bf49-43a2-b90b-9012c9afe2c4\" xlink:type=\"simple\"><rect fill=\"#FFFFFF\" height=\"45.9375\" id=\"E5\" rx=\"10\" ry=\"10\" style=\"stroke: #383838; stroke-width: 1.5;\" width=\"55\" x=\"375.5\" y=\"279\"/><text fill=\"#000000\" font-family=\"sans-serif\" font-size=\"12\" font-style=\"italic\" lengthAdjust=\"spacingAndGlyphs\" textLength=\"53\" x=\"376.5\" y=\"295.1387\">«action»</text><text fill=\"#000000\" font-family=\"sans-serif\" font-size=\"12\" lengthAdjust=\"spacingAndGlyphs\" textLength=\"16\" x=\"393\" y=\"309.1074\">A2</text><line style=\"stroke: #383838; stroke-width: 1.5;\" x1=\"376.5\" x2=\"429.5\" y1=\"316.9375\" y2=\"316.9375\"/></a><!--MD5=[60a26617385b1d2d0262a64233df1f8d]\n",
       "class E6--><a href=\"psysml:0d8578a4-a91e-4bc0-9576-e9210611ea53\" target=\"_top\" title=\"psysml:0d8578a4-a91e-4bc0-9576-e9210611ea53\" xlink:actuate=\"onRequest\" xlink:href=\"psysml:0d8578a4-a91e-4bc0-9576-e9210611ea53\" xlink:show=\"new\" xlink:title=\"psysml:0d8578a4-a91e-4bc0-9576-e9210611ea53\" xlink:type=\"simple\"><rect fill=\"#FFFFFF\" height=\"45.9375\" id=\"E6\" rx=\"10\" ry=\"10\" style=\"stroke: #383838; stroke-width: 1.5;\" width=\"55\" x=\"465.5\" y=\"279\"/><text fill=\"#000000\" font-family=\"sans-serif\" font-size=\"12\" font-style=\"italic\" lengthAdjust=\"spacingAndGlyphs\" textLength=\"53\" x=\"466.5\" y=\"295.1387\">«action»</text><text fill=\"#000000\" font-family=\"sans-serif\" font-size=\"12\" lengthAdjust=\"spacingAndGlyphs\" textLength=\"16\" x=\"483\" y=\"309.1074\">A3</text><line style=\"stroke: #383838; stroke-width: 1.5;\" x1=\"466.5\" x2=\"519.5\" y1=\"316.9375\" y2=\"316.9375\"/></a><!--MD5=[a523cb2a0b79ecf9065ad8783f96c320]\n",
       "reverse link E1 to E2--><a href=\"psysml:61bbaf95-6b35-4ea8-9656-8ce08595131a\" target=\"_top\" title=\"psysml:61bbaf95-6b35-4ea8-9656-8ce08595131a\" xlink:actuate=\"onRequest\" xlink:href=\"psysml:61bbaf95-6b35-4ea8-9656-8ce08595131a\" xlink:show=\"new\" xlink:title=\"psysml:61bbaf95-6b35-4ea8-9656-8ce08595131a\" xlink:type=\"simple\"><path d=\"M303.54,148.06 C242.66,186.13 145.87,246.67 94.21,278.98 \" fill=\"none\" id=\"E1&lt;-E2\" style=\"stroke: #383838; stroke-width: 1.0;\"/><polygon fill=\"#383838\" points=\"314.84,140.99,307.632,140.7788,304.6648,147.3512,311.8728,147.5623,314.84,140.99\" style=\"stroke: #383838; stroke-width: 1.0;\"/></a><!--MD5=[5d7b3810b1dd9b5164bea1151b29b665]\n",
       "reverse link E1 to E3--><a href=\"psysml:1be4164a-e759-487d-bef2-3f3fc6c6ee3e\" target=\"_top\" title=\"psysml:1be4164a-e759-487d-bef2-3f3fc6c6ee3e\" xlink:actuate=\"onRequest\" xlink:href=\"psysml:1be4164a-e759-487d-bef2-3f3fc6c6ee3e\" xlink:show=\"new\" xlink:title=\"psysml:1be4164a-e759-487d-bef2-3f3fc6c6ee3e\" xlink:type=\"simple\"><path d=\"M305.9,174.89 C275.51,210.41 238.98,253.11 217.17,278.6 \" fill=\"none\" id=\"E1&lt;-E3\" style=\"stroke: #383838; stroke-width: 1.0;\"/><polygon fill=\"#383838\" points=\"314.7,164.6,307.7601,166.559,306.8992,173.7185,313.8391,171.7595,314.7,164.6\" style=\"stroke: #383838; stroke-width: 1.0;\"/></a><!--MD5=[f2c5c03aa1e8c0ba21c10a05e6444b8e]\n",
       "reverse link E1 to E4--><a href=\"psysml:ea8ec5e3-dd0d-4201-a2d4-45f385d409e8\" target=\"_top\" title=\"psysml:ea8ec5e3-dd0d-4201-a2d4-45f385d409e8\" xlink:actuate=\"onRequest\" xlink:href=\"psysml:ea8ec5e3-dd0d-4201-a2d4-45f385d409e8\" xlink:show=\"new\" xlink:title=\"psysml:ea8ec5e3-dd0d-4201-a2d4-45f385d409e8\" xlink:type=\"simple\"><path d=\"M329.58,232.08 C325.3,249.9 321.32,266.44 318.33,278.84 \" fill=\"none\" id=\"E1&lt;-E4\" style=\"stroke: #383838; stroke-width: 1.0;\"/><polygon fill=\"#383838\" points=\"332.67,219.25,327.3811,224.1517,329.8715,230.9191,335.1605,226.0174,332.67,219.25\" style=\"stroke: #383838; stroke-width: 1.0;\"/><text fill=\"#000000\" font-family=\"sans-serif\" font-size=\"13\" lengthAdjust=\"spacingAndGlyphs\" textLength=\"7\" x=\"311.7989\" y=\"268.0753\">*</text></a><!--MD5=[33238bef88d6431a141d8bc8fb12bca0]\n",
       "reverse link E1 to E5--><a href=\"psysml:8b3fb5b8-4ae2-4666-9331-7642784b574c\" target=\"_top\" title=\"psysml:8b3fb5b8-4ae2-4666-9331-7642784b574c\" xlink:actuate=\"onRequest\" xlink:href=\"psysml:8b3fb5b8-4ae2-4666-9331-7642784b574c\" xlink:show=\"new\" xlink:title=\"psysml:8b3fb5b8-4ae2-4666-9331-7642784b574c\" xlink:type=\"simple\"><path d=\"M386.42,232.08 C390.7,249.9 394.68,266.44 397.67,278.84 \" fill=\"none\" id=\"E1&lt;-E5\" style=\"stroke: #383838; stroke-width: 1.0;\"/><polygon fill=\"#383838\" points=\"383.33,219.25,380.8395,226.0174,386.1285,230.9191,388.6189,224.1517,383.33,219.25\" style=\"stroke: #383838; stroke-width: 1.0;\"/><text fill=\"#000000\" font-family=\"sans-serif\" font-size=\"13\" lengthAdjust=\"spacingAndGlyphs\" textLength=\"7\" x=\"388.4073\" y=\"268.0753\">*</text></a><!--MD5=[aca2ef284c2b1b90e17e73bf3f292c07]\n",
       "reverse link E1 to E6--><a href=\"psysml:a8437b79-0ca7-4b3d-9ccd-1b1fd90c9a28\" target=\"_top\" title=\"psysml:a8437b79-0ca7-4b3d-9ccd-1b1fd90c9a28\" xlink:actuate=\"onRequest\" xlink:href=\"psysml:a8437b79-0ca7-4b3d-9ccd-1b1fd90c9a28\" xlink:show=\"new\" xlink:title=\"psysml:a8437b79-0ca7-4b3d-9ccd-1b1fd90c9a28\" xlink:type=\"simple\"><path d=\"M408.77,201.95 C429.03,230.31 451.36,259.35 468.19,278.59 \" fill=\"none\" id=\"E1&lt;-E6\" style=\"stroke: #383838; stroke-width: 1.0;\"/><polygon fill=\"#383838\" points=\"401.11,191.14,401.3121,198.3483,408.0436,200.9341,407.8415,193.7258,401.11,191.14\" style=\"stroke: #383838; stroke-width: 1.0;\"/><text fill=\"#000000\" font-family=\"sans-serif\" font-size=\"13\" lengthAdjust=\"spacingAndGlyphs\" textLength=\"7\" x=\"453.9356\" y=\"267.7612\">*</text></a><!--MD5=[aca2ef284c2b1b90e17e73bf3f292c07]\n",
       "reverse link E1 to E6--><a href=\"psysml:df3b65d4-7483-4b88-b5f9-cbf727def8cf\" target=\"_top\" title=\"psysml:df3b65d4-7483-4b88-b5f9-cbf727def8cf\" xlink:actuate=\"onRequest\" xlink:href=\"psysml:df3b65d4-7483-4b88-b5f9-cbf727def8cf\" xlink:show=\"new\" xlink:title=\"psysml:df3b65d4-7483-4b88-b5f9-cbf727def8cf\" xlink:type=\"simple\"><path d=\"M410.8,169.86 C439.32,206.45 471.27,252.27 486.16,278.93 \" fill=\"none\" id=\"E1&lt;-E6-1\" style=\"stroke: #383838; stroke-width: 1.0; stroke-dasharray: 7.0,7.0;\"/><ellipse cx=\"406.2494\" cy=\"164.1173\" fill=\"#FFFFFF\" rx=\"8\" ry=\"8\" style=\"stroke: #383838; stroke-width: 1.0;\"/><line style=\"stroke: #383838; stroke-width: 1.0;\" x1=\"411.2088\" x2=\"401.29\" y1=\"170.3946\" y2=\"157.84\"/><line style=\"stroke: #383838; stroke-width: 1.0;\" x1=\"399.9721\" x2=\"412.5267\" y1=\"169.0767\" y2=\"159.1579\"/><text fill=\"#000000\" font-family=\"sans-serif\" font-size=\"13\" lengthAdjust=\"spacingAndGlyphs\" textLength=\"7\" x=\"476.3811\" y=\"267.8075\">*</text></a><!--MD5=[7cfda5da3e00cd56aec8c625b68f7ce9]\n",
       "@startuml\r\n",
       " skinparam monochrome true\r\n",
       "skinparam classbackgroundcolor white\r\n",
       "skinparam shadowing false\r\n",
       "skinparam wrapWidth 300\r\n",
       "hide circle\r\n",
       "\r\n",
       "comp def \"DecisionTest\" as E1  <<(T,blue) action  def>> [[psysml:62ac371c-e17a-420d-a580-1aab63005ed6 ]] {\r\n",
       "- - attributes - -\r\n",
       "x= 1; \r\n",
       "- - successions - -\r\n",
       " then \r\n",
       "- - transitions - -\r\n",
       "\r\n",
       "\r\n",
       "\r\n",
       "\r\n",
       "\r\n",
       "\r\n",
       "S\r\n",
       "}\r\n",
       "comp usage \"test x \" as E2  <<(T,blue) decision node>> [[psysml:2e150d19-c5c5-4276-9136-9fe31d212434 ]] {\r\n",
       "}\r\n",
       "comp usage \"<s>noname</s> \" as E3  <<(T,blue) decision node>> [[psysml:cc5b619c-f329-4ed7-9a64-7943d6ed9569 ]] {\r\n",
       "}\r\n",
       "comp usage \"A1 \" as E4  <<(T,blue) action>> [[psysml:bb8ae358-9e9d-46e4-9973-23f4ed00e117 ]] {\r\n",
       "}\r\n",
       "comp usage \"A2 \" as E5  <<(T,blue) action>> [[psysml:e7f91728-bf49-43a2-b90b-9012c9afe2c4 ]] {\r\n",
       "}\r\n",
       "comp usage \"A3 \" as E6  <<(T,blue) action>> [[psysml:0d8578a4-a91e-4bc0-9576-e9210611ea53 ]] {\r\n",
       "}\r\n",
       "E1 *- - E2 [[psysml:61bbaf95-6b35-4ea8-9656-8ce08595131a ]] \r\n",
       "E1 *- - E3 [[psysml:1be4164a-e759-487d-bef2-3f3fc6c6ee3e ]] \r\n",
       "E1 *- - \"*\"E4 [[psysml:ea8ec5e3-dd0d-4201-a2d4-45f385d409e8 ]] \r\n",
       "E1 *- - \"*\"E5 [[psysml:8b3fb5b8-4ae2-4666-9331-7642784b574c ]] \r\n",
       "E1 *- - \"*\"E6 [[psysml:a8437b79-0ca7-4b3d-9ccd-1b1fd90c9a28 ]] \r\n",
       "E1 +.. \"*\"E6 [[psysml:df3b65d4-7483-4b88-b5f9-cbf727def8cf ]] \r\n",
       "@enduml\r\n",
       "\n",
       "PlantUML version 1.2020.13(Sat Jun 13 12:26:38 UTC 2020)\n",
       "(EPL source distribution)\n",
       "Java Runtime: OpenJDK Runtime Environment\n",
       "JVM: OpenJDK 64-Bit Server VM\n",
       "Default Encoding: UTF-8\n",
       "Language: en\n",
       "Country: null\n",
       "--></g></svg>"
      ]
     },
     "execution_count": 3,
     "metadata": {},
     "output_type": "execute_result"
    }
   ],
   "source": [
    "%viz --style=\"COMPTREE\" --view=\"Tree\" \"DecisionTest\""
   ]
  },
  {
   "cell_type": "code",
   "execution_count": 4,
   "id": "5db15bae",
   "metadata": {
    "execution": {
     "iopub.execute_input": "2022-03-21T07:50:58.806529Z",
     "iopub.status.busy": "2022-03-21T07:50:58.806094Z",
     "iopub.status.idle": "2022-03-21T07:50:58.811977Z",
     "shell.execute_reply": "2022-03-21T07:50:58.812303Z"
    }
   },
   "outputs": [
    {
     "data": {
      "image/svg+xml": [
       "<?xml version=\"1.0\" encoding=\"UTF-8\" standalone=\"no\"?><svg xmlns=\"http://www.w3.org/2000/svg\" xmlns:xlink=\"http://www.w3.org/1999/xlink\" contentScriptType=\"application/ecmascript\" contentStyleType=\"text/css\" height=\"12px\" preserveAspectRatio=\"none\" style=\"width:12px;height:12px;\" version=\"1.1\" viewBox=\"0 0 12 12\" width=\"12px\" zoomAndPan=\"magnify\"><defs/><g><!--MD5=[f19188ef49e11757b5c46753f95d9edc]\n",
       "@startuml\r\n",
       " skinparam monochrome true\r\n",
       "skinparam classbackgroundcolor white\r\n",
       "skinparam shadowing false\r\n",
       "skinparam wrapWidth 300\r\n",
       "hide circle\r\n",
       "\r\n",
       "@enduml\r\n",
       "\n",
       "PlantUML version 1.2020.13(Sat Jun 13 12:26:38 UTC 2020)\n",
       "(EPL source distribution)\n",
       "Java Runtime: OpenJDK Runtime Environment\n",
       "JVM: OpenJDK 64-Bit Server VM\n",
       "Default Encoding: UTF-8\n",
       "Language: en\n",
       "Country: null\n",
       "--></g></svg>"
      ]
     },
     "execution_count": 4,
     "metadata": {},
     "output_type": "execute_result"
    }
   ],
   "source": [
    "%viz --style=\"COMPTREE\" --view=\"State\" \"DecisionTest\""
   ]
  },
  {
   "cell_type": "code",
   "execution_count": 5,
   "id": "a1eccd95",
   "metadata": {
    "execution": {
     "iopub.execute_input": "2022-03-21T07:50:58.862654Z",
     "iopub.status.busy": "2022-03-21T07:50:58.862239Z",
     "iopub.status.idle": "2022-03-21T07:50:58.940273Z",
     "shell.execute_reply": "2022-03-21T07:50:58.938750Z"
    }
   },
   "outputs": [
    {
     "data": {
      "image/svg+xml": [
       "<?xml version=\"1.0\" encoding=\"UTF-8\" standalone=\"no\"?><svg xmlns=\"http://www.w3.org/2000/svg\" xmlns:xlink=\"http://www.w3.org/1999/xlink\" contentScriptType=\"application/ecmascript\" contentStyleType=\"text/css\" height=\"356px\" preserveAspectRatio=\"none\" style=\"width:333px;height:356px;\" version=\"1.1\" viewBox=\"0 0 333 356\" width=\"333px\" zoomAndPan=\"magnify\"><defs/><g><!--MD5=[fbc87193dbaf4d95561dea2c320d4a47]\n",
       "cluster E1--><a href=\"psysml:62ac371c-e17a-420d-a580-1aab63005ed6\" target=\"_top\" title=\"psysml:62ac371c-e17a-420d-a580-1aab63005ed6\" xlink:actuate=\"onRequest\" xlink:href=\"psysml:62ac371c-e17a-420d-a580-1aab63005ed6\" xlink:show=\"new\" xlink:title=\"psysml:62ac371c-e17a-420d-a580-1aab63005ed6\" xlink:type=\"simple\"><rect fill=\"#FFFFFF\" height=\"338\" id=\"E1\" style=\"stroke: #383838; stroke-width: 1.5;\" width=\"315\" x=\"7\" y=\"7\"/><rect fill=\"#F8F8F8\" height=\"37.9375\" style=\"stroke: #383838; stroke-width: 1.5;\" width=\"315\" x=\"7\" y=\"7\"/><text fill=\"#000000\" font-family=\"sans-serif\" font-size=\"12\" font-style=\"italic\" lengthAdjust=\"spacingAndGlyphs\" textLength=\"81\" x=\"124\" y=\"23.1387\">«action  def»</text><text fill=\"#000000\" font-family=\"sans-serif\" font-size=\"12\" lengthAdjust=\"spacingAndGlyphs\" textLength=\"80\" x=\"124.5\" y=\"37.1074\">DecisionTest</text></a><polygon fill=\"#F8F8F8\" points=\"210,67.5,222,79.5,210,91.5,198,79.5,210,67.5\" style=\"stroke: #383838; stroke-width: 1.5;\"/><polygon fill=\"#F8F8F8\" points=\"35,143.5,47,155.5,35,167.5,23,155.5,35,143.5\" style=\"stroke: #383838; stroke-width: 1.5;\"/><g id=\"E1.E4\"><a href=\"psysml:bb8ae358-9e9d-46e4-9973-23f4ed00e117\" target=\"_top\" title=\"psysml:bb8ae358-9e9d-46e4-9973-23f4ed00e117\" xlink:actuate=\"onRequest\" xlink:href=\"psysml:bb8ae358-9e9d-46e4-9973-23f4ed00e117\" xlink:show=\"new\" xlink:title=\"psysml:bb8ae358-9e9d-46e4-9973-23f4ed00e117\" xlink:type=\"simple\"><rect fill=\"#FFFFFF\" height=\"42.9375\" id=\"E4\" rx=\"10\" ry=\"10\" style=\"stroke: #383838; stroke-width: 1.5;\" width=\"60\" x=\"135\" y=\"210\"/><rect fill=\"#F8F8F8\" height=\"37.9375\" rx=\"10\" ry=\"10\" style=\"stroke: #F8F8F8; stroke-width: 1.5;\" width=\"60\" x=\"135\" y=\"210\"/><rect fill=\"#F8F8F8\" height=\"10\" style=\"stroke: #F8F8F8; stroke-width: 1.5;\" width=\"60\" x=\"135\" y=\"237.9375\"/><rect fill=\"none\" height=\"42.9375\" id=\"E4\" rx=\"10\" ry=\"10\" style=\"stroke: #383838; stroke-width: 1.5;\" width=\"60\" x=\"135\" y=\"210\"/><text fill=\"#000000\" font-family=\"sans-serif\" font-size=\"12\" font-style=\"italic\" lengthAdjust=\"spacingAndGlyphs\" textLength=\"53\" x=\"138.5\" y=\"226.1387\">«action»</text><text fill=\"#000000\" font-family=\"sans-serif\" font-size=\"12\" lengthAdjust=\"spacingAndGlyphs\" textLength=\"16\" x=\"157\" y=\"240.1074\">A1</text></a></g><g id=\"E1.E5\"><a href=\"psysml:e7f91728-bf49-43a2-b90b-9012c9afe2c4\" target=\"_top\" title=\"psysml:e7f91728-bf49-43a2-b90b-9012c9afe2c4\" xlink:actuate=\"onRequest\" xlink:href=\"psysml:e7f91728-bf49-43a2-b90b-9012c9afe2c4\" xlink:show=\"new\" xlink:title=\"psysml:e7f91728-bf49-43a2-b90b-9012c9afe2c4\" xlink:type=\"simple\"><rect fill=\"#FFFFFF\" height=\"42.9375\" id=\"E5\" rx=\"10\" ry=\"10\" style=\"stroke: #383838; stroke-width: 1.5;\" width=\"60\" x=\"135\" y=\"286\"/><rect fill=\"#F8F8F8\" height=\"37.9375\" rx=\"10\" ry=\"10\" style=\"stroke: #F8F8F8; stroke-width: 1.5;\" width=\"60\" x=\"135\" y=\"286\"/><rect fill=\"#F8F8F8\" height=\"10\" style=\"stroke: #F8F8F8; stroke-width: 1.5;\" width=\"60\" x=\"135\" y=\"313.9375\"/><rect fill=\"none\" height=\"42.9375\" id=\"E5\" rx=\"10\" ry=\"10\" style=\"stroke: #383838; stroke-width: 1.5;\" width=\"60\" x=\"135\" y=\"286\"/><text fill=\"#000000\" font-family=\"sans-serif\" font-size=\"12\" font-style=\"italic\" lengthAdjust=\"spacingAndGlyphs\" textLength=\"53\" x=\"138.5\" y=\"302.1387\">«action»</text><text fill=\"#000000\" font-family=\"sans-serif\" font-size=\"12\" lengthAdjust=\"spacingAndGlyphs\" textLength=\"16\" x=\"157\" y=\"316.1074\">A2</text></a></g><g id=\"E1.E6\"><a href=\"psysml:0d8578a4-a91e-4bc0-9576-e9210611ea53\" target=\"_top\" title=\"psysml:0d8578a4-a91e-4bc0-9576-e9210611ea53\" xlink:actuate=\"onRequest\" xlink:href=\"psysml:0d8578a4-a91e-4bc0-9576-e9210611ea53\" xlink:show=\"new\" xlink:title=\"psysml:0d8578a4-a91e-4bc0-9576-e9210611ea53\" xlink:type=\"simple\"><rect fill=\"#FFFFFF\" height=\"42.9375\" id=\"E6\" rx=\"10\" ry=\"10\" style=\"stroke: #383838; stroke-width: 1.5;\" width=\"60\" x=\"63\" y=\"58\"/><rect fill=\"#F8F8F8\" height=\"37.9375\" rx=\"10\" ry=\"10\" style=\"stroke: #F8F8F8; stroke-width: 1.5;\" width=\"60\" x=\"63\" y=\"58\"/><rect fill=\"#F8F8F8\" height=\"10\" style=\"stroke: #F8F8F8; stroke-width: 1.5;\" width=\"60\" x=\"63\" y=\"85.9375\"/><rect fill=\"none\" height=\"42.9375\" id=\"E6\" rx=\"10\" ry=\"10\" style=\"stroke: #383838; stroke-width: 1.5;\" width=\"60\" x=\"63\" y=\"58\"/><text fill=\"#000000\" font-family=\"sans-serif\" font-size=\"12\" font-style=\"italic\" lengthAdjust=\"spacingAndGlyphs\" textLength=\"53\" x=\"66.5\" y=\"74.1387\">«action»</text><text fill=\"#000000\" font-family=\"sans-serif\" font-size=\"12\" lengthAdjust=\"spacingAndGlyphs\" textLength=\"16\" x=\"85\" y=\"88.1074\">A3</text></a></g><g id=\"E1.E7\"><a href=\"psysml:0d8578a4-a91e-4bc0-9576-e9210611ea53\" target=\"_top\" title=\"psysml:0d8578a4-a91e-4bc0-9576-e9210611ea53\" xlink:actuate=\"onRequest\" xlink:href=\"psysml:0d8578a4-a91e-4bc0-9576-e9210611ea53\" xlink:show=\"new\" xlink:title=\"psysml:0d8578a4-a91e-4bc0-9576-e9210611ea53\" xlink:type=\"simple\"><rect fill=\"#FFFFFF\" height=\"42.9375\" id=\"E7\" rx=\"10\" ry=\"10\" style=\"stroke: #383838; stroke-width: 1.5;\" width=\"60\" x=\"246\" y=\"134\"/><rect fill=\"#F8F8F8\" height=\"37.9375\" rx=\"10\" ry=\"10\" style=\"stroke: #F8F8F8; stroke-width: 1.5;\" width=\"60\" x=\"246\" y=\"134\"/><rect fill=\"#F8F8F8\" height=\"10\" style=\"stroke: #F8F8F8; stroke-width: 1.5;\" width=\"60\" x=\"246\" y=\"161.9375\"/><rect fill=\"none\" height=\"42.9375\" id=\"E7\" rx=\"10\" ry=\"10\" style=\"stroke: #383838; stroke-width: 1.5;\" width=\"60\" x=\"246\" y=\"134\"/><text fill=\"#000000\" font-family=\"sans-serif\" font-size=\"12\" font-style=\"italic\" lengthAdjust=\"spacingAndGlyphs\" textLength=\"53\" x=\"249.5\" y=\"150.1387\">«action»</text><text fill=\"#000000\" font-family=\"sans-serif\" font-size=\"12\" lengthAdjust=\"spacingAndGlyphs\" textLength=\"16\" x=\"268\" y=\"164.1074\">A3</text></a></g><!--MD5=[4d03bb2d0377dc85ccfab60ff574652b]\n",
       "link E2 to E4--><a href=\"psysml:8074e684-9dcd-4869-b14d-8570f637bde9\" target=\"_top\" title=\"psysml:8074e684-9dcd-4869-b14d-8570f637bde9\" xlink:actuate=\"onRequest\" xlink:href=\"psysml:8074e684-9dcd-4869-b14d-8570f637bde9\" xlink:show=\"new\" xlink:title=\"psysml:8074e684-9dcd-4869-b14d-8570f637bde9\" xlink:type=\"simple\"><path d=\"M201.97,84.07 C187.22,91.12 156.19,108.44 144,134 C133.21,156.64 141.61,184.91 150.79,204.99 \" fill=\"none\" id=\"E2-&gt;E4\" style=\"stroke: #383838; stroke-width: 1.0;\"/><polygon fill=\"#383838\" points=\"153,209.65,152.7662,199.8039,150.8614,205.1304,145.5349,203.2257,153,209.65\" style=\"stroke: #383838; stroke-width: 1.0;\"/><text fill=\"#000000\" font-family=\"sans-serif\" font-size=\"13\" lengthAdjust=\"spacingAndGlyphs\" textLength=\"55\" x=\"145\" y=\"160.0669\">[x == 1]</text><text fill=\"#000000\" font-family=\"sans-serif\" font-size=\"13\" lengthAdjust=\"spacingAndGlyphs\" textLength=\"7\" x=\"141.8344\" y=\"198.8553\">*</text></a><!--MD5=[dcad52bbbca2fe8adc741ce38b45dc12]\n",
       "link E2 to E5--><a href=\"psysml:3f3ee8aa-e9f7-416c-965c-8aff211aef79\" target=\"_top\" title=\"psysml:3f3ee8aa-e9f7-416c-965c-8aff211aef79\" xlink:actuate=\"onRequest\" xlink:href=\"psysml:3f3ee8aa-e9f7-416c-965c-8aff211aef79\" xlink:show=\"new\" xlink:title=\"psysml:3f3ee8aa-e9f7-416c-965c-8aff211aef79\" xlink:type=\"simple\"><path d=\"M211.03,90.77 C214.33,123.83 224.51,227.37 226,261 C226.33,268.55 230.06,271.63 226,278 C220.01,287.41 210.02,293.76 199.83,298.03 \" fill=\"none\" id=\"E2-&gt;E5\" style=\"stroke: #383838; stroke-width: 1.0;\"/><polygon fill=\"#383838\" points=\"195.15,299.85,204.9881,300.3102,199.8089,298.035,202.0841,292.8559,195.15,299.85\" style=\"stroke: #383838; stroke-width: 1.0;\"/><text fill=\"#000000\" font-family=\"sans-serif\" font-size=\"13\" lengthAdjust=\"spacingAndGlyphs\" textLength=\"44\" x=\"222\" y=\"198.0669\">[x &gt; 1]</text><text fill=\"#000000\" font-family=\"sans-serif\" font-size=\"13\" lengthAdjust=\"spacingAndGlyphs\" textLength=\"7\" x=\"202.9316\" y=\"293.436\">*</text></a><!--MD5=[e3d2a08a9c9236652057e8ed0cbc9b62]\n",
       "link E2 to E7--><a href=\"psysml:5268f6a4-a59c-47f8-920f-30c5900c34c3\" target=\"_top\" title=\"psysml:5268f6a4-a59c-47f8-920f-30c5900c34c3\" xlink:actuate=\"onRequest\" xlink:href=\"psysml:5268f6a4-a59c-47f8-920f-30c5900c34c3\" xlink:show=\"new\" xlink:title=\"psysml:5268f6a4-a59c-47f8-920f-30c5900c34c3\" xlink:type=\"simple\"><path d=\"M210.68,90.95 C211.82,100.93 214.86,115.89 223,126 C227.84,132.02 234.31,136.94 241.06,140.89 \" fill=\"none\" id=\"E2-&gt;E7\" style=\"stroke: #383838; stroke-width: 1.0;\"/><polygon fill=\"#383838\" points=\"245.76,143.47,239.7851,135.6406,241.3738,141.0697,235.9446,142.6585,245.76,143.47\" style=\"stroke: #383838; stroke-width: 1.0;\"/><text fill=\"#000000\" font-family=\"sans-serif\" font-size=\"13\" lengthAdjust=\"spacingAndGlyphs\" textLength=\"7\" x=\"230.9576\" y=\"136.0432\">*</text></a><!--MD5=[583832df87f4419a098336a29a52fa00]\n",
       "link E7 to E2--><a href=\"psysml:1fcd52fd-d040-4c7e-90de-1e4181f9ba4a\" target=\"_top\" title=\"psysml:1fcd52fd-d040-4c7e-90de-1e4181f9ba4a\" xlink:actuate=\"onRequest\" xlink:href=\"psysml:1fcd52fd-d040-4c7e-90de-1e4181f9ba4a\" xlink:show=\"new\" xlink:title=\"psysml:1fcd52fd-d040-4c7e-90de-1e4181f9ba4a\" xlink:type=\"simple\"><path d=\"M257.61,133.88 C245.02,119.76 228.86,101.65 218.98,90.57 \" fill=\"none\" id=\"E7-&gt;E2\" style=\"stroke: #383838; stroke-width: 1.0;\"/><polygon fill=\"#383838\" points=\"215.4,86.56,218.3919,95.9434,218.7227,90.2963,224.3699,90.6271,215.4,86.56\" style=\"stroke: #383838; stroke-width: 1.0;\"/><text fill=\"#000000\" font-family=\"sans-serif\" font-size=\"13\" lengthAdjust=\"spacingAndGlyphs\" textLength=\"44\" x=\"249\" y=\"122.0669\">[x &gt; 0]</text><text fill=\"#000000\" font-family=\"sans-serif\" font-size=\"13\" lengthAdjust=\"spacingAndGlyphs\" textLength=\"7\" x=\"210.0625\" y=\"111.425\">*</text></a><!--MD5=[2720a5a1f2c3fca2055b230370638851]\n",
       "link E2 to E3--><a href=\"psysml:c0d6c8f2-adfa-4de5-8b53-fd445de20c7a\" target=\"_top\" title=\"psysml:c0d6c8f2-adfa-4de5-8b53-fd445de20c7a\" xlink:actuate=\"onRequest\" xlink:href=\"psysml:c0d6c8f2-adfa-4de5-8b53-fd445de20c7a\" xlink:show=\"new\" xlink:title=\"psysml:c0d6c8f2-adfa-4de5-8b53-fd445de20c7a\" xlink:type=\"simple\"><path d=\"M201.54,83.16 C188.57,87.22 162.96,95.08 141,101 C126.43,104.93 121.91,103.16 108,109 C84.25,118.97 59.36,136.17 45.65,146.32 \" fill=\"none\" id=\"E2-&gt;E3\" style=\"stroke: #383838; stroke-width: 1.0;\"/><polygon fill=\"#383838\" points=\"41.45,149.47,51.05,147.27,45.45,146.47,46.25,140.87,41.45,149.47\" style=\"stroke: #383838; stroke-width: 1.0;\"/><text fill=\"#000000\" font-family=\"sans-serif\" font-size=\"13\" lengthAdjust=\"spacingAndGlyphs\" textLength=\"7\" x=\"51.6488\" y=\"132.7367\">*</text></a><!--MD5=[af87c684e3b0d8be13c1a698a818ef1e]\n",
       "link E3 to E4--><a href=\"psysml:647fb379-8896-403f-81c0-e54862ace948\" target=\"_top\" title=\"psysml:647fb379-8896-403f-81c0-e54862ace948\" xlink:actuate=\"onRequest\" xlink:href=\"psysml:647fb379-8896-403f-81c0-e54862ace948\" xlink:show=\"new\" xlink:title=\"psysml:647fb379-8896-403f-81c0-e54862ace948\" xlink:type=\"simple\"><path d=\"M40.09,162.69 C48.35,172.37 65.62,191.11 84,202 C93.67,207.73 97.38,206.32 108,210 C115.1,212.46 122.69,215.15 129.93,217.74 \" fill=\"none\" id=\"E3-&gt;E4\" style=\"stroke: #383838; stroke-width: 1.0;\"/><polygon fill=\"#383838\" points=\"134.87,219.52,127.7488,212.7164,130.1636,217.832,125.048,220.2467,134.87,219.52\" style=\"stroke: #383838; stroke-width: 1.0;\"/><text fill=\"#000000\" font-family=\"sans-serif\" font-size=\"13\" lengthAdjust=\"spacingAndGlyphs\" textLength=\"36\" x=\"85\" y=\"198.0669\">[true]</text><text fill=\"#000000\" font-family=\"sans-serif\" font-size=\"13\" lengthAdjust=\"spacingAndGlyphs\" textLength=\"7\" x=\"120.0931\" y=\"212.1047\">*</text></a><!--MD5=[0188b64bb0ae78505a997a81836e11e9]\n",
       "link E3 to E5--><a href=\"psysml:1317e145-771b-48e4-a88c-08ae6f2caba6\" target=\"_top\" title=\"psysml:1317e145-771b-48e4-a88c-08ae6f2caba6\" xlink:actuate=\"onRequest\" xlink:href=\"psysml:1317e145-771b-48e4-a88c-08ae6f2caba6\" xlink:show=\"new\" xlink:title=\"psysml:1317e145-771b-48e4-a88c-08ae6f2caba6\" xlink:type=\"simple\"><path d=\"M36.91,165.76 C41.11,184.24 52.71,226.21 76,253 C90.72,269.93 112.16,283.05 130.31,292.05 \" fill=\"none\" id=\"E3-&gt;E5\" style=\"stroke: #383838; stroke-width: 1.0;\"/><polygon fill=\"#383838\" points=\"134.85,294.25,128.4921,286.7283,130.3496,292.0714,125.0064,293.9289,134.85,294.25\" style=\"stroke: #383838; stroke-width: 1.0;\"/><text fill=\"#000000\" font-family=\"sans-serif\" font-size=\"13\" lengthAdjust=\"spacingAndGlyphs\" textLength=\"40\" x=\"77\" y=\"236.0669\">[false]</text><text fill=\"#000000\" font-family=\"sans-serif\" font-size=\"13\" lengthAdjust=\"spacingAndGlyphs\" textLength=\"7\" x=\"120.0684\" y=\"286.541\">*</text></a><!--MD5=[1b7591eae5389033d8d09a9d6721a717]\n",
       "link E4 to E5--><a href=\"psysml:23f0aa3a-74d1-4632-9e57-f97d17e19ec4\" target=\"_top\" title=\"psysml:23f0aa3a-74d1-4632-9e57-f97d17e19ec4\" xlink:actuate=\"onRequest\" xlink:href=\"psysml:23f0aa3a-74d1-4632-9e57-f97d17e19ec4\" xlink:show=\"new\" xlink:title=\"psysml:23f0aa3a-74d1-4632-9e57-f97d17e19ec4\" xlink:type=\"simple\"><path d=\"M165,253.11 C165,261.69 165,271.75 165,280.8 \" fill=\"none\" id=\"E4-&gt;E5\" style=\"stroke: #383838; stroke-width: 1.0;\"/><polygon fill=\"#383838\" points=\"165,286,169,277,165,281,161,277,165,286\" style=\"stroke: #383838; stroke-width: 1.0;\"/><text fill=\"#000000\" font-family=\"sans-serif\" font-size=\"13\" lengthAdjust=\"spacingAndGlyphs\" textLength=\"55\" x=\"166\" y=\"274.0669\">[x == 0]</text><text fill=\"#000000\" font-family=\"sans-serif\" font-size=\"13\" lengthAdjust=\"spacingAndGlyphs\" textLength=\"7\" x=\"157.0156\" y=\"274.9381\">*</text></a><!--MD5=[378926db6bc0a1aba20e887a1409d1e3]\n",
       "@startuml\r\n",
       "skinparam ranksep 10\r\n",
       "skinparam rectangle {\r\n",
       " backgroundColor<<block>> LightGreen\r\n",
       "}\r\n",
       " skinparam monochrome true\r\n",
       "skinparam classbackgroundcolor white\r\n",
       "skinparam shadowing false\r\n",
       "skinparam wrapWidth 300\r\n",
       "hide circle\r\n",
       "\r\n",
       "rec def \"DecisionTest\" as E1  <<(T,blue) action  def>> [[psysml:62ac371c-e17a-420d-a580-1aab63005ed6 ]] {\r\n",
       "choice \"test x\" as E2  [[psysml:2e150d19-c5c5-4276-9136-9fe31d212434 ]] \r\n",
       "choice \"<s>noname</s>\" as E3  [[psysml:cc5b619c-f329-4ed7-9a64-7943d6ed9569 ]] \r\n",
       "rec usage \"A1\" as E4  <<(T,blue) action>> [[psysml:bb8ae358-9e9d-46e4-9973-23f4ed00e117 ]] {\r\n",
       "}\r\n",
       "\r\n",
       "rec usage \"A2\" as E5  <<(T,blue) action>> [[psysml:e7f91728-bf49-43a2-b90b-9012c9afe2c4 ]] {\r\n",
       "}\r\n",
       "\r\n",
       "rec usage \"A3\" as E6  <<(T,blue) action>> [[psysml:0d8578a4-a91e-4bc0-9576-e9210611ea53 ]] {\r\n",
       "}\r\n",
       "\r\n",
       "rec usage \"A3\" as E7  <<(T,blue) action>> [[psysml:0d8578a4-a91e-4bc0-9576-e9210611ea53 ]] {\r\n",
       "}\r\n",
       "\r\n",
       "}\r\n",
       "\r\n",
       "E2  - -> \"*\"E4 [[psysml:8074e684-9dcd-4869-b14d-8570f637bde9 ]] : [x == 1]\r\n",
       "E2  - -> \"*\"E5 [[psysml:3f3ee8aa-e9f7-416c-965c-8aff211aef79 ]] : [x > 1]\r\n",
       "E2  - -> \"*\"E7 [[psysml:5268f6a4-a59c-47f8-920f-30c5900c34c3 ]] \r\n",
       "E2 - -> \"*\"E3 [[psysml:c0d6c8f2-adfa-4de5-8b53-fd445de20c7a ]] \r\n",
       "E3  - -> \"*\"E4 [[psysml:647fb379-8896-403f-81c0-e54862ace948 ]] : [true]\r\n",
       "E3  - -> \"*\"E5 [[psysml:1317e145-771b-48e4-a88c-08ae6f2caba6 ]] : [false]\r\n",
       "E4  - -> \"*\"E5 [[psysml:23f0aa3a-74d1-4632-9e57-f97d17e19ec4 ]] : [x == 0]\r\n",
       "E7  - -> \"*\"E2 [[psysml:1fcd52fd-d040-4c7e-90de-1e4181f9ba4a ]] : [x > 0]\r\n",
       "@enduml\r\n",
       "\n",
       "PlantUML version 1.2020.13(Sat Jun 13 12:26:38 UTC 2020)\n",
       "(EPL source distribution)\n",
       "Java Runtime: OpenJDK Runtime Environment\n",
       "JVM: OpenJDK 64-Bit Server VM\n",
       "Default Encoding: UTF-8\n",
       "Language: en\n",
       "Country: null\n",
       "--></g></svg>"
      ]
     },
     "execution_count": 5,
     "metadata": {},
     "output_type": "execute_result"
    }
   ],
   "source": [
    "%viz --style=\"COMPTREE\" --view=\"Interconnection\" \"DecisionTest\""
   ]
  },
  {
   "cell_type": "code",
   "execution_count": 6,
   "id": "a9e8f86d",
   "metadata": {
    "execution": {
     "iopub.execute_input": "2022-03-21T07:50:58.989679Z",
     "iopub.status.busy": "2022-03-21T07:50:58.989248Z",
     "iopub.status.idle": "2022-03-21T07:50:59.042015Z",
     "shell.execute_reply": "2022-03-21T07:50:59.041666Z"
    }
   },
   "outputs": [
    {
     "data": {
      "image/svg+xml": [
       "<?xml version=\"1.0\" encoding=\"UTF-8\" standalone=\"no\"?><svg xmlns=\"http://www.w3.org/2000/svg\" xmlns:xlink=\"http://www.w3.org/1999/xlink\" contentScriptType=\"application/ecmascript\" contentStyleType=\"text/css\" height=\"356px\" preserveAspectRatio=\"none\" style=\"width:333px;height:356px;\" version=\"1.1\" viewBox=\"0 0 333 356\" width=\"333px\" zoomAndPan=\"magnify\"><defs/><g><!--MD5=[fbc87193dbaf4d95561dea2c320d4a47]\n",
       "cluster E1--><a href=\"psysml:62ac371c-e17a-420d-a580-1aab63005ed6\" target=\"_top\" title=\"psysml:62ac371c-e17a-420d-a580-1aab63005ed6\" xlink:actuate=\"onRequest\" xlink:href=\"psysml:62ac371c-e17a-420d-a580-1aab63005ed6\" xlink:show=\"new\" xlink:title=\"psysml:62ac371c-e17a-420d-a580-1aab63005ed6\" xlink:type=\"simple\"><rect fill=\"#FFFFFF\" height=\"338\" id=\"E1\" style=\"stroke: #383838; stroke-width: 1.5;\" width=\"315\" x=\"7\" y=\"7\"/><rect fill=\"#F8F8F8\" height=\"37.9375\" style=\"stroke: #383838; stroke-width: 1.5;\" width=\"315\" x=\"7\" y=\"7\"/><text fill=\"#000000\" font-family=\"sans-serif\" font-size=\"12\" font-style=\"italic\" lengthAdjust=\"spacingAndGlyphs\" textLength=\"81\" x=\"124\" y=\"23.1387\">«action  def»</text><text fill=\"#000000\" font-family=\"sans-serif\" font-size=\"12\" lengthAdjust=\"spacingAndGlyphs\" textLength=\"80\" x=\"124.5\" y=\"37.1074\">DecisionTest</text></a><polygon fill=\"#F8F8F8\" points=\"210,67.5,222,79.5,210,91.5,198,79.5,210,67.5\" style=\"stroke: #383838; stroke-width: 1.5;\"/><polygon fill=\"#F8F8F8\" points=\"35,143.5,47,155.5,35,167.5,23,155.5,35,143.5\" style=\"stroke: #383838; stroke-width: 1.5;\"/><g id=\"E1.E4\"><a href=\"psysml:bb8ae358-9e9d-46e4-9973-23f4ed00e117\" target=\"_top\" title=\"psysml:bb8ae358-9e9d-46e4-9973-23f4ed00e117\" xlink:actuate=\"onRequest\" xlink:href=\"psysml:bb8ae358-9e9d-46e4-9973-23f4ed00e117\" xlink:show=\"new\" xlink:title=\"psysml:bb8ae358-9e9d-46e4-9973-23f4ed00e117\" xlink:type=\"simple\"><rect fill=\"#FFFFFF\" height=\"42.9375\" id=\"E4\" rx=\"10\" ry=\"10\" style=\"stroke: #383838; stroke-width: 1.5;\" width=\"60\" x=\"135\" y=\"210\"/><rect fill=\"#F8F8F8\" height=\"37.9375\" rx=\"10\" ry=\"10\" style=\"stroke: #F8F8F8; stroke-width: 1.5;\" width=\"60\" x=\"135\" y=\"210\"/><rect fill=\"#F8F8F8\" height=\"10\" style=\"stroke: #F8F8F8; stroke-width: 1.5;\" width=\"60\" x=\"135\" y=\"237.9375\"/><rect fill=\"none\" height=\"42.9375\" id=\"E4\" rx=\"10\" ry=\"10\" style=\"stroke: #383838; stroke-width: 1.5;\" width=\"60\" x=\"135\" y=\"210\"/><text fill=\"#000000\" font-family=\"sans-serif\" font-size=\"12\" font-style=\"italic\" lengthAdjust=\"spacingAndGlyphs\" textLength=\"53\" x=\"138.5\" y=\"226.1387\">«action»</text><text fill=\"#000000\" font-family=\"sans-serif\" font-size=\"12\" lengthAdjust=\"spacingAndGlyphs\" textLength=\"16\" x=\"157\" y=\"240.1074\">A1</text></a></g><g id=\"E1.E5\"><a href=\"psysml:e7f91728-bf49-43a2-b90b-9012c9afe2c4\" target=\"_top\" title=\"psysml:e7f91728-bf49-43a2-b90b-9012c9afe2c4\" xlink:actuate=\"onRequest\" xlink:href=\"psysml:e7f91728-bf49-43a2-b90b-9012c9afe2c4\" xlink:show=\"new\" xlink:title=\"psysml:e7f91728-bf49-43a2-b90b-9012c9afe2c4\" xlink:type=\"simple\"><rect fill=\"#FFFFFF\" height=\"42.9375\" id=\"E5\" rx=\"10\" ry=\"10\" style=\"stroke: #383838; stroke-width: 1.5;\" width=\"60\" x=\"135\" y=\"286\"/><rect fill=\"#F8F8F8\" height=\"37.9375\" rx=\"10\" ry=\"10\" style=\"stroke: #F8F8F8; stroke-width: 1.5;\" width=\"60\" x=\"135\" y=\"286\"/><rect fill=\"#F8F8F8\" height=\"10\" style=\"stroke: #F8F8F8; stroke-width: 1.5;\" width=\"60\" x=\"135\" y=\"313.9375\"/><rect fill=\"none\" height=\"42.9375\" id=\"E5\" rx=\"10\" ry=\"10\" style=\"stroke: #383838; stroke-width: 1.5;\" width=\"60\" x=\"135\" y=\"286\"/><text fill=\"#000000\" font-family=\"sans-serif\" font-size=\"12\" font-style=\"italic\" lengthAdjust=\"spacingAndGlyphs\" textLength=\"53\" x=\"138.5\" y=\"302.1387\">«action»</text><text fill=\"#000000\" font-family=\"sans-serif\" font-size=\"12\" lengthAdjust=\"spacingAndGlyphs\" textLength=\"16\" x=\"157\" y=\"316.1074\">A2</text></a></g><g id=\"E1.E6\"><a href=\"psysml:0d8578a4-a91e-4bc0-9576-e9210611ea53\" target=\"_top\" title=\"psysml:0d8578a4-a91e-4bc0-9576-e9210611ea53\" xlink:actuate=\"onRequest\" xlink:href=\"psysml:0d8578a4-a91e-4bc0-9576-e9210611ea53\" xlink:show=\"new\" xlink:title=\"psysml:0d8578a4-a91e-4bc0-9576-e9210611ea53\" xlink:type=\"simple\"><rect fill=\"#FFFFFF\" height=\"42.9375\" id=\"E6\" rx=\"10\" ry=\"10\" style=\"stroke: #383838; stroke-width: 1.5;\" width=\"60\" x=\"63\" y=\"58\"/><rect fill=\"#F8F8F8\" height=\"37.9375\" rx=\"10\" ry=\"10\" style=\"stroke: #F8F8F8; stroke-width: 1.5;\" width=\"60\" x=\"63\" y=\"58\"/><rect fill=\"#F8F8F8\" height=\"10\" style=\"stroke: #F8F8F8; stroke-width: 1.5;\" width=\"60\" x=\"63\" y=\"85.9375\"/><rect fill=\"none\" height=\"42.9375\" id=\"E6\" rx=\"10\" ry=\"10\" style=\"stroke: #383838; stroke-width: 1.5;\" width=\"60\" x=\"63\" y=\"58\"/><text fill=\"#000000\" font-family=\"sans-serif\" font-size=\"12\" font-style=\"italic\" lengthAdjust=\"spacingAndGlyphs\" textLength=\"53\" x=\"66.5\" y=\"74.1387\">«action»</text><text fill=\"#000000\" font-family=\"sans-serif\" font-size=\"12\" lengthAdjust=\"spacingAndGlyphs\" textLength=\"16\" x=\"85\" y=\"88.1074\">A3</text></a></g><g id=\"E1.E7\"><a href=\"psysml:0d8578a4-a91e-4bc0-9576-e9210611ea53\" target=\"_top\" title=\"psysml:0d8578a4-a91e-4bc0-9576-e9210611ea53\" xlink:actuate=\"onRequest\" xlink:href=\"psysml:0d8578a4-a91e-4bc0-9576-e9210611ea53\" xlink:show=\"new\" xlink:title=\"psysml:0d8578a4-a91e-4bc0-9576-e9210611ea53\" xlink:type=\"simple\"><rect fill=\"#FFFFFF\" height=\"42.9375\" id=\"E7\" rx=\"10\" ry=\"10\" style=\"stroke: #383838; stroke-width: 1.5;\" width=\"60\" x=\"246\" y=\"134\"/><rect fill=\"#F8F8F8\" height=\"37.9375\" rx=\"10\" ry=\"10\" style=\"stroke: #F8F8F8; stroke-width: 1.5;\" width=\"60\" x=\"246\" y=\"134\"/><rect fill=\"#F8F8F8\" height=\"10\" style=\"stroke: #F8F8F8; stroke-width: 1.5;\" width=\"60\" x=\"246\" y=\"161.9375\"/><rect fill=\"none\" height=\"42.9375\" id=\"E7\" rx=\"10\" ry=\"10\" style=\"stroke: #383838; stroke-width: 1.5;\" width=\"60\" x=\"246\" y=\"134\"/><text fill=\"#000000\" font-family=\"sans-serif\" font-size=\"12\" font-style=\"italic\" lengthAdjust=\"spacingAndGlyphs\" textLength=\"53\" x=\"249.5\" y=\"150.1387\">«action»</text><text fill=\"#000000\" font-family=\"sans-serif\" font-size=\"12\" lengthAdjust=\"spacingAndGlyphs\" textLength=\"16\" x=\"268\" y=\"164.1074\">A3</text></a></g><!--MD5=[4d03bb2d0377dc85ccfab60ff574652b]\n",
       "link E2 to E4--><a href=\"psysml:8074e684-9dcd-4869-b14d-8570f637bde9\" target=\"_top\" title=\"psysml:8074e684-9dcd-4869-b14d-8570f637bde9\" xlink:actuate=\"onRequest\" xlink:href=\"psysml:8074e684-9dcd-4869-b14d-8570f637bde9\" xlink:show=\"new\" xlink:title=\"psysml:8074e684-9dcd-4869-b14d-8570f637bde9\" xlink:type=\"simple\"><path d=\"M201.97,84.07 C187.22,91.12 156.19,108.44 144,134 C133.21,156.64 141.61,184.91 150.79,204.99 \" fill=\"none\" id=\"E2-&gt;E4\" style=\"stroke: #383838; stroke-width: 1.0; stroke-dasharray: 7.0,7.0;\"/><polygon fill=\"#383838\" points=\"153,209.65,152.7662,199.8039,150.8614,205.1304,145.5349,203.2257,153,209.65\" style=\"stroke: #383838; stroke-width: 1.0;\"/><text fill=\"#000000\" font-family=\"sans-serif\" font-size=\"13\" lengthAdjust=\"spacingAndGlyphs\" textLength=\"55\" x=\"145\" y=\"160.0669\">[x == 1]</text></a><!--MD5=[dcad52bbbca2fe8adc741ce38b45dc12]\n",
       "link E2 to E5--><a href=\"psysml:3f3ee8aa-e9f7-416c-965c-8aff211aef79\" target=\"_top\" title=\"psysml:3f3ee8aa-e9f7-416c-965c-8aff211aef79\" xlink:actuate=\"onRequest\" xlink:href=\"psysml:3f3ee8aa-e9f7-416c-965c-8aff211aef79\" xlink:show=\"new\" xlink:title=\"psysml:3f3ee8aa-e9f7-416c-965c-8aff211aef79\" xlink:type=\"simple\"><path d=\"M211.03,90.77 C214.33,123.83 224.51,227.37 226,261 C226.33,268.55 230.06,271.63 226,278 C220.01,287.41 210.02,293.76 199.83,298.03 \" fill=\"none\" id=\"E2-&gt;E5\" style=\"stroke: #383838; stroke-width: 1.0; stroke-dasharray: 7.0,7.0;\"/><polygon fill=\"#383838\" points=\"195.15,299.85,204.9881,300.3102,199.8089,298.035,202.0841,292.8559,195.15,299.85\" style=\"stroke: #383838; stroke-width: 1.0;\"/><text fill=\"#000000\" font-family=\"sans-serif\" font-size=\"13\" lengthAdjust=\"spacingAndGlyphs\" textLength=\"44\" x=\"222\" y=\"198.0669\">[x &gt; 1]</text></a><!--MD5=[e3d2a08a9c9236652057e8ed0cbc9b62]\n",
       "link E2 to E7--><a href=\"psysml:5268f6a4-a59c-47f8-920f-30c5900c34c3\" target=\"_top\" title=\"psysml:5268f6a4-a59c-47f8-920f-30c5900c34c3\" xlink:actuate=\"onRequest\" xlink:href=\"psysml:5268f6a4-a59c-47f8-920f-30c5900c34c3\" xlink:show=\"new\" xlink:title=\"psysml:5268f6a4-a59c-47f8-920f-30c5900c34c3\" xlink:type=\"simple\"><path d=\"M210.68,90.95 C211.82,100.93 214.86,115.89 223,126 C227.84,132.02 234.31,136.94 241.06,140.89 \" fill=\"none\" id=\"E2-&gt;E7\" style=\"stroke: #383838; stroke-width: 1.0; stroke-dasharray: 7.0,7.0;\"/><polygon fill=\"#383838\" points=\"245.76,143.47,239.7851,135.6406,241.3738,141.0697,235.9446,142.6585,245.76,143.47\" style=\"stroke: #383838; stroke-width: 1.0;\"/></a><!--MD5=[583832df87f4419a098336a29a52fa00]\n",
       "link E7 to E2--><a href=\"psysml:1fcd52fd-d040-4c7e-90de-1e4181f9ba4a\" target=\"_top\" title=\"psysml:1fcd52fd-d040-4c7e-90de-1e4181f9ba4a\" xlink:actuate=\"onRequest\" xlink:href=\"psysml:1fcd52fd-d040-4c7e-90de-1e4181f9ba4a\" xlink:show=\"new\" xlink:title=\"psysml:1fcd52fd-d040-4c7e-90de-1e4181f9ba4a\" xlink:type=\"simple\"><path d=\"M257.61,133.88 C245.02,119.76 228.86,101.65 218.98,90.57 \" fill=\"none\" id=\"E7-&gt;E2\" style=\"stroke: #383838; stroke-width: 1.0; stroke-dasharray: 7.0,7.0;\"/><polygon fill=\"#383838\" points=\"215.4,86.56,218.3919,95.9434,218.7227,90.2963,224.3699,90.6271,215.4,86.56\" style=\"stroke: #383838; stroke-width: 1.0;\"/><text fill=\"#000000\" font-family=\"sans-serif\" font-size=\"13\" lengthAdjust=\"spacingAndGlyphs\" textLength=\"44\" x=\"249\" y=\"122.0669\">[x &gt; 0]</text></a><!--MD5=[2720a5a1f2c3fca2055b230370638851]\n",
       "link E2 to E3--><a href=\"psysml:c0d6c8f2-adfa-4de5-8b53-fd445de20c7a\" target=\"_top\" title=\"psysml:c0d6c8f2-adfa-4de5-8b53-fd445de20c7a\" xlink:actuate=\"onRequest\" xlink:href=\"psysml:c0d6c8f2-adfa-4de5-8b53-fd445de20c7a\" xlink:show=\"new\" xlink:title=\"psysml:c0d6c8f2-adfa-4de5-8b53-fd445de20c7a\" xlink:type=\"simple\"><path d=\"M201.54,83.16 C188.57,87.22 162.96,95.08 141,101 C126.43,104.93 121.91,103.16 108,109 C84.25,118.97 59.36,136.17 45.65,146.32 \" fill=\"none\" id=\"E2-&gt;E3\" style=\"stroke: #383838; stroke-width: 1.0; stroke-dasharray: 7.0,7.0;\"/><polygon fill=\"#383838\" points=\"41.45,149.47,51.05,147.27,45.45,146.47,46.25,140.87,41.45,149.47\" style=\"stroke: #383838; stroke-width: 1.0;\"/></a><!--MD5=[af87c684e3b0d8be13c1a698a818ef1e]\n",
       "link E3 to E4--><a href=\"psysml:647fb379-8896-403f-81c0-e54862ace948\" target=\"_top\" title=\"psysml:647fb379-8896-403f-81c0-e54862ace948\" xlink:actuate=\"onRequest\" xlink:href=\"psysml:647fb379-8896-403f-81c0-e54862ace948\" xlink:show=\"new\" xlink:title=\"psysml:647fb379-8896-403f-81c0-e54862ace948\" xlink:type=\"simple\"><path d=\"M40.09,162.69 C48.35,172.37 65.62,191.11 84,202 C93.67,207.73 97.38,206.32 108,210 C115.1,212.46 122.69,215.15 129.93,217.74 \" fill=\"none\" id=\"E3-&gt;E4\" style=\"stroke: #383838; stroke-width: 1.0; stroke-dasharray: 7.0,7.0;\"/><polygon fill=\"#383838\" points=\"134.87,219.52,127.7488,212.7164,130.1636,217.832,125.048,220.2467,134.87,219.52\" style=\"stroke: #383838; stroke-width: 1.0;\"/><text fill=\"#000000\" font-family=\"sans-serif\" font-size=\"13\" lengthAdjust=\"spacingAndGlyphs\" textLength=\"36\" x=\"85\" y=\"198.0669\">[true]</text></a><!--MD5=[0188b64bb0ae78505a997a81836e11e9]\n",
       "link E3 to E5--><a href=\"psysml:1317e145-771b-48e4-a88c-08ae6f2caba6\" target=\"_top\" title=\"psysml:1317e145-771b-48e4-a88c-08ae6f2caba6\" xlink:actuate=\"onRequest\" xlink:href=\"psysml:1317e145-771b-48e4-a88c-08ae6f2caba6\" xlink:show=\"new\" xlink:title=\"psysml:1317e145-771b-48e4-a88c-08ae6f2caba6\" xlink:type=\"simple\"><path d=\"M36.91,165.76 C41.11,184.24 52.71,226.21 76,253 C90.72,269.93 112.16,283.05 130.31,292.05 \" fill=\"none\" id=\"E3-&gt;E5\" style=\"stroke: #383838; stroke-width: 1.0; stroke-dasharray: 7.0,7.0;\"/><polygon fill=\"#383838\" points=\"134.85,294.25,128.4921,286.7283,130.3496,292.0714,125.0064,293.9289,134.85,294.25\" style=\"stroke: #383838; stroke-width: 1.0;\"/><text fill=\"#000000\" font-family=\"sans-serif\" font-size=\"13\" lengthAdjust=\"spacingAndGlyphs\" textLength=\"40\" x=\"77\" y=\"236.0669\">[false]</text></a><!--MD5=[1b7591eae5389033d8d09a9d6721a717]\n",
       "link E4 to E5--><a href=\"psysml:23f0aa3a-74d1-4632-9e57-f97d17e19ec4\" target=\"_top\" title=\"psysml:23f0aa3a-74d1-4632-9e57-f97d17e19ec4\" xlink:actuate=\"onRequest\" xlink:href=\"psysml:23f0aa3a-74d1-4632-9e57-f97d17e19ec4\" xlink:show=\"new\" xlink:title=\"psysml:23f0aa3a-74d1-4632-9e57-f97d17e19ec4\" xlink:type=\"simple\"><path d=\"M165,253.11 C165,261.69 165,271.75 165,280.8 \" fill=\"none\" id=\"E4-&gt;E5\" style=\"stroke: #383838; stroke-width: 1.0; stroke-dasharray: 7.0,7.0;\"/><polygon fill=\"#383838\" points=\"165,286,169,277,165,281,161,277,165,286\" style=\"stroke: #383838; stroke-width: 1.0;\"/><text fill=\"#000000\" font-family=\"sans-serif\" font-size=\"13\" lengthAdjust=\"spacingAndGlyphs\" textLength=\"55\" x=\"166\" y=\"274.0669\">[x == 0]</text></a><!--MD5=[84bdffb51fea59051188de49f88d84fb]\n",
       "@startuml\r\n",
       "skinparam ranksep 8\r\n",
       " skinparam monochrome true\r\n",
       "skinparam classbackgroundcolor white\r\n",
       "skinparam shadowing false\r\n",
       "skinparam wrapWidth 300\r\n",
       "hide circle\r\n",
       "\r\n",
       "rec def \"DecisionTest\" as E1  <<(T,blue) action  def>> [[psysml:62ac371c-e17a-420d-a580-1aab63005ed6 ]] {\r\n",
       "choice \"test x\" as E2  [[psysml:2e150d19-c5c5-4276-9136-9fe31d212434 ]] \r\n",
       "choice \"<s>noname</s>\" as E3  [[psysml:cc5b619c-f329-4ed7-9a64-7943d6ed9569 ]] \r\n",
       "rec usage \"A1\" as E4  <<(T,blue) action>> [[psysml:bb8ae358-9e9d-46e4-9973-23f4ed00e117 ]] {\r\n",
       "}\r\n",
       "\r\n",
       "rec usage \"A2\" as E5  <<(T,blue) action>> [[psysml:e7f91728-bf49-43a2-b90b-9012c9afe2c4 ]] {\r\n",
       "}\r\n",
       "\r\n",
       "rec usage \"A3\" as E6  <<(T,blue) action>> [[psysml:0d8578a4-a91e-4bc0-9576-e9210611ea53 ]] {\r\n",
       "}\r\n",
       "\r\n",
       "rec usage \"A3\" as E7  <<(T,blue) action>> [[psysml:0d8578a4-a91e-4bc0-9576-e9210611ea53 ]] {\r\n",
       "}\r\n",
       "\r\n",
       "}\r\n",
       "\r\n",
       "E2 ..> E4 [[psysml:8074e684-9dcd-4869-b14d-8570f637bde9 ]] : [x == 1]\r\n",
       "E2 ..> E5 [[psysml:3f3ee8aa-e9f7-416c-965c-8aff211aef79 ]] : [x > 1]\r\n",
       "E2 ..> E7 [[psysml:5268f6a4-a59c-47f8-920f-30c5900c34c3 ]] \r\n",
       "E2 ..> E3 [[psysml:c0d6c8f2-adfa-4de5-8b53-fd445de20c7a ]] \r\n",
       "E3 ..> E4 [[psysml:647fb379-8896-403f-81c0-e54862ace948 ]] : [true]\r\n",
       "E3 ..> E5 [[psysml:1317e145-771b-48e4-a88c-08ae6f2caba6 ]] : [false]\r\n",
       "E4 ..> E5 [[psysml:23f0aa3a-74d1-4632-9e57-f97d17e19ec4 ]] : [x == 0]\r\n",
       "E7 ..> E2 [[psysml:1fcd52fd-d040-4c7e-90de-1e4181f9ba4a ]] : [x > 0]\r\n",
       "@enduml\r\n",
       "\n",
       "PlantUML version 1.2020.13(Sat Jun 13 12:26:38 UTC 2020)\n",
       "(EPL source distribution)\n",
       "Java Runtime: OpenJDK Runtime Environment\n",
       "JVM: OpenJDK 64-Bit Server VM\n",
       "Default Encoding: UTF-8\n",
       "Language: en\n",
       "Country: null\n",
       "--></g></svg>"
      ]
     },
     "execution_count": 6,
     "metadata": {},
     "output_type": "execute_result"
    }
   ],
   "source": [
    "%viz --style=\"COMPTREE\" --view=\"Action\" \"DecisionTest\""
   ]
  },
  {
   "cell_type": "code",
   "execution_count": 7,
   "id": "851073b7",
   "metadata": {
    "execution": {
     "iopub.execute_input": "2022-03-21T07:50:59.092195Z",
     "iopub.status.busy": "2022-03-21T07:50:59.091794Z",
     "iopub.status.idle": "2022-03-21T07:50:59.104697Z",
     "shell.execute_reply": "2022-03-21T07:50:59.105018Z"
    }
   },
   "outputs": [
    {
     "data": {
      "image/svg+xml": [
       "<?xml version=\"1.0\" encoding=\"UTF-8\" standalone=\"no\"?><svg xmlns=\"http://www.w3.org/2000/svg\" xmlns:xlink=\"http://www.w3.org/1999/xlink\" contentScriptType=\"application/ecmascript\" contentStyleType=\"text/css\" height=\"12px\" preserveAspectRatio=\"none\" style=\"width:12px;height:12px;\" version=\"1.1\" viewBox=\"0 0 12 12\" width=\"12px\" zoomAndPan=\"magnify\"><defs/><g><!--MD5=[803fc46c337be7a5c8a9831e35356779]\n",
       "@startuml\r\n",
       "skinparam roundcorner 20\r\n",
       "skinparam BoxPadding 20\r\n",
       "skinparam SequenceBoxBackgroundColor #white\r\n",
       "skinparam style strictuml\r\n",
       "skinparam maxMessageSize 100\r\n",
       " skinparam monochrome true\r\n",
       "skinparam classbackgroundcolor white\r\n",
       "skinparam shadowing false\r\n",
       "skinparam wrapWidth 300\r\n",
       "hide circle\r\n",
       "\r\n",
       "@enduml\r\n",
       "\n",
       "PlantUML version 1.2020.13(Sat Jun 13 12:26:38 UTC 2020)\n",
       "(EPL source distribution)\n",
       "Java Runtime: OpenJDK Runtime Environment\n",
       "JVM: OpenJDK 64-Bit Server VM\n",
       "Default Encoding: UTF-8\n",
       "Language: en\n",
       "Country: null\n",
       "--></g></svg>"
      ]
     },
     "execution_count": 7,
     "metadata": {},
     "output_type": "execute_result"
    }
   ],
   "source": [
    "%viz --style=\"COMPTREE\" --view=\"Sequence\" \"DecisionTest\""
   ]
  },
  {
   "cell_type": "code",
   "execution_count": 8,
   "id": "f2b77c4c",
   "metadata": {
    "execution": {
     "iopub.execute_input": "2022-03-21T07:50:59.155929Z",
     "iopub.status.busy": "2022-03-21T07:50:59.155331Z",
     "iopub.status.idle": "2022-03-21T07:50:59.208625Z",
     "shell.execute_reply": "2022-03-21T07:50:59.208417Z"
    }
   },
   "outputs": [
    {
     "data": {
      "image/svg+xml": [
       "<?xml version=\"1.0\" encoding=\"UTF-8\" standalone=\"no\"?><svg xmlns=\"http://www.w3.org/2000/svg\" xmlns:xlink=\"http://www.w3.org/1999/xlink\" contentScriptType=\"application/ecmascript\" contentStyleType=\"text/css\" height=\"488px\" preserveAspectRatio=\"none\" style=\"width:333px;height:488px;\" version=\"1.1\" viewBox=\"0 0 333 488\" width=\"333px\" zoomAndPan=\"magnify\"><defs/><g><!--MD5=[fbc87193dbaf4d95561dea2c320d4a47]\n",
       "cluster E1--><a href=\"psysml:62ac371c-e17a-420d-a580-1aab63005ed6\" target=\"_top\" title=\"psysml:62ac371c-e17a-420d-a580-1aab63005ed6\" xlink:actuate=\"onRequest\" xlink:href=\"psysml:62ac371c-e17a-420d-a580-1aab63005ed6\" xlink:show=\"new\" xlink:title=\"psysml:62ac371c-e17a-420d-a580-1aab63005ed6\" xlink:type=\"simple\"><rect fill=\"#FFFFFF\" height=\"470\" id=\"E1\" style=\"stroke: #383838; stroke-width: 1.5;\" width=\"315\" x=\"7\" y=\"7\"/><rect fill=\"#F8F8F8\" height=\"37.9375\" style=\"stroke: #383838; stroke-width: 1.5;\" width=\"315\" x=\"7\" y=\"7\"/><text fill=\"#000000\" font-family=\"sans-serif\" font-size=\"12\" font-style=\"italic\" lengthAdjust=\"spacingAndGlyphs\" textLength=\"81\" x=\"124\" y=\"23.1387\">«action  def»</text><text fill=\"#000000\" font-family=\"sans-serif\" font-size=\"12\" lengthAdjust=\"spacingAndGlyphs\" textLength=\"80\" x=\"124.5\" y=\"37.1074\">DecisionTest</text></a><polygon fill=\"#F8F8F8\" points=\"210,67.5,222,79.5,210,91.5,198,79.5,210,67.5\" style=\"stroke: #383838; stroke-width: 1.5;\"/><polygon fill=\"#F8F8F8\" points=\"35,187.5,47,199.5,35,211.5,23,199.5,35,187.5\" style=\"stroke: #383838; stroke-width: 1.5;\"/><g id=\"E1.E4\"><a href=\"psysml:bb8ae358-9e9d-46e4-9973-23f4ed00e117\" target=\"_top\" title=\"psysml:bb8ae358-9e9d-46e4-9973-23f4ed00e117\" xlink:actuate=\"onRequest\" xlink:href=\"psysml:bb8ae358-9e9d-46e4-9973-23f4ed00e117\" xlink:show=\"new\" xlink:title=\"psysml:bb8ae358-9e9d-46e4-9973-23f4ed00e117\" xlink:type=\"simple\"><rect fill=\"#FFFFFF\" height=\"42.9375\" id=\"E4\" rx=\"10\" ry=\"10\" style=\"stroke: #383838; stroke-width: 1.5;\" width=\"60\" x=\"135\" y=\"298\"/><rect fill=\"#F8F8F8\" height=\"37.9375\" rx=\"10\" ry=\"10\" style=\"stroke: #F8F8F8; stroke-width: 1.5;\" width=\"60\" x=\"135\" y=\"298\"/><rect fill=\"#F8F8F8\" height=\"10\" style=\"stroke: #F8F8F8; stroke-width: 1.5;\" width=\"60\" x=\"135\" y=\"325.9375\"/><rect fill=\"none\" height=\"42.9375\" id=\"E4\" rx=\"10\" ry=\"10\" style=\"stroke: #383838; stroke-width: 1.5;\" width=\"60\" x=\"135\" y=\"298\"/><text fill=\"#000000\" font-family=\"sans-serif\" font-size=\"12\" font-style=\"italic\" lengthAdjust=\"spacingAndGlyphs\" textLength=\"53\" x=\"138.5\" y=\"314.1387\">«action»</text><text fill=\"#000000\" font-family=\"sans-serif\" font-size=\"12\" lengthAdjust=\"spacingAndGlyphs\" textLength=\"16\" x=\"157\" y=\"328.1074\">A1</text></a></g><g id=\"E1.E5\"><a href=\"psysml:e7f91728-bf49-43a2-b90b-9012c9afe2c4\" target=\"_top\" title=\"psysml:e7f91728-bf49-43a2-b90b-9012c9afe2c4\" xlink:actuate=\"onRequest\" xlink:href=\"psysml:e7f91728-bf49-43a2-b90b-9012c9afe2c4\" xlink:show=\"new\" xlink:title=\"psysml:e7f91728-bf49-43a2-b90b-9012c9afe2c4\" xlink:type=\"simple\"><rect fill=\"#FFFFFF\" height=\"42.9375\" id=\"E5\" rx=\"10\" ry=\"10\" style=\"stroke: #383838; stroke-width: 1.5;\" width=\"60\" x=\"135\" y=\"418\"/><rect fill=\"#F8F8F8\" height=\"37.9375\" rx=\"10\" ry=\"10\" style=\"stroke: #F8F8F8; stroke-width: 1.5;\" width=\"60\" x=\"135\" y=\"418\"/><rect fill=\"#F8F8F8\" height=\"10\" style=\"stroke: #F8F8F8; stroke-width: 1.5;\" width=\"60\" x=\"135\" y=\"445.9375\"/><rect fill=\"none\" height=\"42.9375\" id=\"E5\" rx=\"10\" ry=\"10\" style=\"stroke: #383838; stroke-width: 1.5;\" width=\"60\" x=\"135\" y=\"418\"/><text fill=\"#000000\" font-family=\"sans-serif\" font-size=\"12\" font-style=\"italic\" lengthAdjust=\"spacingAndGlyphs\" textLength=\"53\" x=\"138.5\" y=\"434.1387\">«action»</text><text fill=\"#000000\" font-family=\"sans-serif\" font-size=\"12\" lengthAdjust=\"spacingAndGlyphs\" textLength=\"16\" x=\"157\" y=\"448.1074\">A2</text></a></g><g id=\"E1.E6\"><a href=\"psysml:0d8578a4-a91e-4bc0-9576-e9210611ea53\" target=\"_top\" title=\"psysml:0d8578a4-a91e-4bc0-9576-e9210611ea53\" xlink:actuate=\"onRequest\" xlink:href=\"psysml:0d8578a4-a91e-4bc0-9576-e9210611ea53\" xlink:show=\"new\" xlink:title=\"psysml:0d8578a4-a91e-4bc0-9576-e9210611ea53\" xlink:type=\"simple\"><rect fill=\"#FFFFFF\" height=\"42.9375\" id=\"E6\" rx=\"10\" ry=\"10\" style=\"stroke: #383838; stroke-width: 1.5;\" width=\"60\" x=\"63\" y=\"58\"/><rect fill=\"#F8F8F8\" height=\"37.9375\" rx=\"10\" ry=\"10\" style=\"stroke: #F8F8F8; stroke-width: 1.5;\" width=\"60\" x=\"63\" y=\"58\"/><rect fill=\"#F8F8F8\" height=\"10\" style=\"stroke: #F8F8F8; stroke-width: 1.5;\" width=\"60\" x=\"63\" y=\"85.9375\"/><rect fill=\"none\" height=\"42.9375\" id=\"E6\" rx=\"10\" ry=\"10\" style=\"stroke: #383838; stroke-width: 1.5;\" width=\"60\" x=\"63\" y=\"58\"/><text fill=\"#000000\" font-family=\"sans-serif\" font-size=\"12\" font-style=\"italic\" lengthAdjust=\"spacingAndGlyphs\" textLength=\"53\" x=\"66.5\" y=\"74.1387\">«action»</text><text fill=\"#000000\" font-family=\"sans-serif\" font-size=\"12\" lengthAdjust=\"spacingAndGlyphs\" textLength=\"16\" x=\"85\" y=\"88.1074\">A3</text></a></g><g id=\"E1.E7\"><a href=\"psysml:0d8578a4-a91e-4bc0-9576-e9210611ea53\" target=\"_top\" title=\"psysml:0d8578a4-a91e-4bc0-9576-e9210611ea53\" xlink:actuate=\"onRequest\" xlink:href=\"psysml:0d8578a4-a91e-4bc0-9576-e9210611ea53\" xlink:show=\"new\" xlink:title=\"psysml:0d8578a4-a91e-4bc0-9576-e9210611ea53\" xlink:type=\"simple\"><rect fill=\"#FFFFFF\" height=\"42.9375\" id=\"E7\" rx=\"10\" ry=\"10\" style=\"stroke: #383838; stroke-width: 1.5;\" width=\"60\" x=\"246\" y=\"178\"/><rect fill=\"#F8F8F8\" height=\"37.9375\" rx=\"10\" ry=\"10\" style=\"stroke: #F8F8F8; stroke-width: 1.5;\" width=\"60\" x=\"246\" y=\"178\"/><rect fill=\"#F8F8F8\" height=\"10\" style=\"stroke: #F8F8F8; stroke-width: 1.5;\" width=\"60\" x=\"246\" y=\"205.9375\"/><rect fill=\"none\" height=\"42.9375\" id=\"E7\" rx=\"10\" ry=\"10\" style=\"stroke: #383838; stroke-width: 1.5;\" width=\"60\" x=\"246\" y=\"178\"/><text fill=\"#000000\" font-family=\"sans-serif\" font-size=\"12\" font-style=\"italic\" lengthAdjust=\"spacingAndGlyphs\" textLength=\"53\" x=\"249.5\" y=\"194.1387\">«action»</text><text fill=\"#000000\" font-family=\"sans-serif\" font-size=\"12\" lengthAdjust=\"spacingAndGlyphs\" textLength=\"16\" x=\"268\" y=\"208.1074\">A3</text></a></g><!--MD5=[4d03bb2d0377dc85ccfab60ff574652b]\n",
       "link E2 to E4--><a href=\"psysml:8074e684-9dcd-4869-b14d-8570f637bde9\" target=\"_top\" title=\"psysml:8074e684-9dcd-4869-b14d-8570f637bde9\" xlink:actuate=\"onRequest\" xlink:href=\"psysml:8074e684-9dcd-4869-b14d-8570f637bde9\" xlink:show=\"new\" xlink:title=\"psysml:8074e684-9dcd-4869-b14d-8570f637bde9\" xlink:type=\"simple\"><path d=\"M204.45,86 C190.88,99.89 156.22,138.13 144,178 C132.04,217.01 144.31,264.27 154.48,292.83 \" fill=\"none\" id=\"E2-&gt;E4\" style=\"stroke: #383838; stroke-width: 1.0;\"/><polygon fill=\"#383838\" points=\"156.22,297.6,156.8939,287.7742,154.5067,292.9027,149.3782,290.5155,156.22,297.6\" style=\"stroke: #383838; stroke-width: 1.0;\"/><text fill=\"#000000\" font-family=\"sans-serif\" font-size=\"13\" lengthAdjust=\"spacingAndGlyphs\" textLength=\"55\" x=\"145\" y=\"204.0669\">[x == 1]</text><text fill=\"#000000\" font-family=\"sans-serif\" font-size=\"13\" lengthAdjust=\"spacingAndGlyphs\" textLength=\"7\" x=\"145.9198\" y=\"286.7919\">*</text></a><!--MD5=[dcad52bbbca2fe8adc741ce38b45dc12]\n",
       "link E2 to E5--><a href=\"psysml:3f3ee8aa-e9f7-416c-965c-8aff211aef79\" target=\"_top\" title=\"psysml:3f3ee8aa-e9f7-416c-965c-8aff211aef79\" xlink:actuate=\"onRequest\" xlink:href=\"psysml:3f3ee8aa-e9f7-416c-965c-8aff211aef79\" xlink:show=\"new\" xlink:title=\"psysml:3f3ee8aa-e9f7-416c-965c-8aff211aef79\" xlink:type=\"simple\"><path d=\"M210.67,90.83 C214.08,143.62 229.24,381.12 226,388 C220.27,400.19 209.98,410.45 199.48,418.47 \" fill=\"none\" id=\"E2-&gt;E5\" style=\"stroke: #383838; stroke-width: 1.0;\"/><polygon fill=\"#383838\" points=\"195.29,421.54,204.9073,419.4168,199.3138,418.5721,200.1586,412.9786,195.29,421.54\" style=\"stroke: #383838; stroke-width: 1.0;\"/><text fill=\"#000000\" font-family=\"sans-serif\" font-size=\"13\" lengthAdjust=\"spacingAndGlyphs\" textLength=\"44\" x=\"222\" y=\"264.0669\">[x &gt; 1]</text><text fill=\"#000000\" font-family=\"sans-serif\" font-size=\"13\" lengthAdjust=\"spacingAndGlyphs\" textLength=\"7\" x=\"203.1039\" y=\"412.7419\">*</text></a><!--MD5=[e3d2a08a9c9236652057e8ed0cbc9b62]\n",
       "link E2 to E7--><a href=\"psysml:5268f6a4-a59c-47f8-920f-30c5900c34c3\" target=\"_top\" title=\"psysml:5268f6a4-a59c-47f8-920f-30c5900c34c3\" xlink:actuate=\"onRequest\" xlink:href=\"psysml:5268f6a4-a59c-47f8-920f-30c5900c34c3\" xlink:show=\"new\" xlink:title=\"psysml:5268f6a4-a59c-47f8-920f-30c5900c34c3\" xlink:type=\"simple\"><path d=\"M210.1,91.71 C210.67,105.71 213.16,129.99 223,148 C228.29,157.68 236.08,166.6 244.08,174.17 \" fill=\"none\" id=\"E2-&gt;E7\" style=\"stroke: #383838; stroke-width: 1.0;\"/><polygon fill=\"#383838\" points=\"248.01,177.77,244.069,168.744,244.3207,174.3953,238.6694,174.6469,248.01,177.77\" style=\"stroke: #383838; stroke-width: 1.0;\"/><text fill=\"#000000\" font-family=\"sans-serif\" font-size=\"13\" lengthAdjust=\"spacingAndGlyphs\" textLength=\"7\" x=\"232.5471\" y=\"167.0076\">*</text></a><!--MD5=[583832df87f4419a098336a29a52fa00]\n",
       "link E7 to E2--><a href=\"psysml:1fcd52fd-d040-4c7e-90de-1e4181f9ba4a\" target=\"_top\" title=\"psysml:1fcd52fd-d040-4c7e-90de-1e4181f9ba4a\" xlink:actuate=\"onRequest\" xlink:href=\"psysml:1fcd52fd-d040-4c7e-90de-1e4181f9ba4a\" xlink:show=\"new\" xlink:title=\"psysml:1fcd52fd-d040-4c7e-90de-1e4181f9ba4a\" xlink:type=\"simple\"><path d=\"M264.3,177.59 C250.41,152.74 227.7,112.15 216.57,92.25 \" fill=\"none\" id=\"E7-&gt;E2\" style=\"stroke: #383838; stroke-width: 1.0;\"/><polygon fill=\"#383838\" points=\"214.13,87.88,215.0286,97.6878,216.5691,92.2447,222.0122,93.7852,214.13,87.88\" style=\"stroke: #383838; stroke-width: 1.0;\"/><text fill=\"#000000\" font-family=\"sans-serif\" font-size=\"13\" lengthAdjust=\"spacingAndGlyphs\" textLength=\"44\" x=\"247\" y=\"144.0669\">[x &gt; 0]</text><text fill=\"#000000\" font-family=\"sans-serif\" font-size=\"13\" lengthAdjust=\"spacingAndGlyphs\" textLength=\"7\" x=\"207.5946\" y=\"111.7074\">*</text></a><!--MD5=[2720a5a1f2c3fca2055b230370638851]\n",
       "link E2 to E3--><a href=\"psysml:c0d6c8f2-adfa-4de5-8b53-fd445de20c7a\" target=\"_top\" title=\"psysml:c0d6c8f2-adfa-4de5-8b53-fd445de20c7a\" xlink:actuate=\"onRequest\" xlink:href=\"psysml:c0d6c8f2-adfa-4de5-8b53-fd445de20c7a\" xlink:show=\"new\" xlink:title=\"psysml:c0d6c8f2-adfa-4de5-8b53-fd445de20c7a\" xlink:type=\"simple\"><path d=\"M201.9,83.58 C184.06,90.55 140.39,108.7 108,131 C82.49,148.57 56.88,174.67 43.84,188.71 \" fill=\"none\" id=\"E2-&gt;E3\" style=\"stroke: #383838; stroke-width: 1.0;\"/><polygon fill=\"#383838\" points=\"40.21,192.66,49.2443,188.738,43.5925,188.9778,43.3527,183.326,40.21,192.66\" style=\"stroke: #383838; stroke-width: 1.0;\"/><text fill=\"#000000\" font-family=\"sans-serif\" font-size=\"13\" lengthAdjust=\"spacingAndGlyphs\" textLength=\"7\" x=\"48.2668\" y=\"176.5238\">*</text></a><!--MD5=[af87c684e3b0d8be13c1a698a818ef1e]\n",
       "link E3 to E4--><a href=\"psysml:647fb379-8896-403f-81c0-e54862ace948\" target=\"_top\" title=\"psysml:647fb379-8896-403f-81c0-e54862ace948\" xlink:actuate=\"onRequest\" xlink:href=\"psysml:647fb379-8896-403f-81c0-e54862ace948\" xlink:show=\"new\" xlink:title=\"psysml:647fb379-8896-403f-81c0-e54862ace948\" xlink:type=\"simple\"><path d=\"M39.08,207.91 C46.63,221.15 63.87,249.24 84,268 C97.73,280.8 115.17,292.16 130.35,300.85 \" fill=\"none\" id=\"E3-&gt;E4\" style=\"stroke: #383838; stroke-width: 1.0;\"/><polygon fill=\"#383838\" points=\"134.98,303.46,129.0858,295.5696,130.6187,301.0148,125.1735,302.5477,134.98,303.46\" style=\"stroke: #383838; stroke-width: 1.0;\"/><text fill=\"#000000\" font-family=\"sans-serif\" font-size=\"13\" lengthAdjust=\"spacingAndGlyphs\" textLength=\"36\" x=\"85\" y=\"264.0669\">[true]</text><text fill=\"#000000\" font-family=\"sans-serif\" font-size=\"13\" lengthAdjust=\"spacingAndGlyphs\" textLength=\"7\" x=\"119.8095\" y=\"294.8128\">*</text></a><!--MD5=[0188b64bb0ae78505a997a81836e11e9]\n",
       "link E3 to E5--><a href=\"psysml:1317e145-771b-48e4-a88c-08ae6f2caba6\" target=\"_top\" title=\"psysml:1317e145-771b-48e4-a88c-08ae6f2caba6\" xlink:actuate=\"onRequest\" xlink:href=\"psysml:1317e145-771b-48e4-a88c-08ae6f2caba6\" xlink:show=\"new\" xlink:title=\"psysml:1317e145-771b-48e4-a88c-08ae6f2caba6\" xlink:type=\"simple\"><path d=\"M36.3,210.29 C39.76,234.03 50.73,296.03 76,341 C91.89,369.29 117.42,396.1 137.07,414.43 \" fill=\"none\" id=\"E3-&gt;E5\" style=\"stroke: #383838; stroke-width: 1.0;\"/><polygon fill=\"#383838\" points=\"140.92,417.98,137.0155,408.9382,137.2443,414.5904,131.5921,414.8192,140.92,417.98\" style=\"stroke: #383838; stroke-width: 1.0;\"/><text fill=\"#000000\" font-family=\"sans-serif\" font-size=\"13\" lengthAdjust=\"spacingAndGlyphs\" textLength=\"40\" x=\"77\" y=\"324.0669\">[false]</text><text fill=\"#000000\" font-family=\"sans-serif\" font-size=\"13\" lengthAdjust=\"spacingAndGlyphs\" textLength=\"7\" x=\"126.1631\" y=\"406.9125\">*</text></a><!--MD5=[1b7591eae5389033d8d09a9d6721a717]\n",
       "link E4 to E5--><a href=\"psysml:23f0aa3a-74d1-4632-9e57-f97d17e19ec4\" target=\"_top\" title=\"psysml:23f0aa3a-74d1-4632-9e57-f97d17e19ec4\" xlink:actuate=\"onRequest\" xlink:href=\"psysml:23f0aa3a-74d1-4632-9e57-f97d17e19ec4\" xlink:show=\"new\" xlink:title=\"psysml:23f0aa3a-74d1-4632-9e57-f97d17e19ec4\" xlink:type=\"simple\"><path d=\"M165,341.05 C165,360.9 165,391.02 165,412.52 \" fill=\"none\" id=\"E4-&gt;E5\" style=\"stroke: #383838; stroke-width: 1.0;\"/><polygon fill=\"#383838\" points=\"165,417.79,169,408.79,165,412.79,161,408.79,165,417.79\" style=\"stroke: #383838; stroke-width: 1.0;\"/><text fill=\"#000000\" font-family=\"sans-serif\" font-size=\"13\" lengthAdjust=\"spacingAndGlyphs\" textLength=\"55\" x=\"166\" y=\"384.0669\">[x == 0]</text><text fill=\"#000000\" font-family=\"sans-serif\" font-size=\"13\" lengthAdjust=\"spacingAndGlyphs\" textLength=\"7\" x=\"157.0594\" y=\"407.033\">*</text></a><!--MD5=[beed3bc0e6dbb26b5b0d4d496a176f34]\n",
       "@startuml\r\n",
       " skinparam monochrome true\r\n",
       "skinparam classbackgroundcolor white\r\n",
       "skinparam shadowing false\r\n",
       "skinparam wrapWidth 300\r\n",
       "hide circle\r\n",
       "\r\n",
       "rec def \"DecisionTest\" as E1  <<(T,blue) action  def>> [[psysml:62ac371c-e17a-420d-a580-1aab63005ed6 ]] {\r\n",
       "choice \"test x\" as E2  [[psysml:2e150d19-c5c5-4276-9136-9fe31d212434 ]] \r\n",
       "choice \"<s>noname</s>\" as E3  [[psysml:cc5b619c-f329-4ed7-9a64-7943d6ed9569 ]] \r\n",
       "rec usage \"A1\" as E4  <<(T,blue) action>> [[psysml:bb8ae358-9e9d-46e4-9973-23f4ed00e117 ]] {\r\n",
       "}\r\n",
       "\r\n",
       "rec usage \"A2\" as E5  <<(T,blue) action>> [[psysml:e7f91728-bf49-43a2-b90b-9012c9afe2c4 ]] {\r\n",
       "}\r\n",
       "\r\n",
       "rec usage \"A3\" as E6  <<(T,blue) action>> [[psysml:0d8578a4-a91e-4bc0-9576-e9210611ea53 ]] {\r\n",
       "}\r\n",
       "\r\n",
       "rec usage \"A3\" as E7  <<(T,blue) action>> [[psysml:0d8578a4-a91e-4bc0-9576-e9210611ea53 ]] {\r\n",
       "}\r\n",
       "\r\n",
       "}\r\n",
       "\r\n",
       "E2  - -> \"*\"E4 [[psysml:8074e684-9dcd-4869-b14d-8570f637bde9 ]] : [x == 1]\r\n",
       "E2  - -> \"*\"E5 [[psysml:3f3ee8aa-e9f7-416c-965c-8aff211aef79 ]] : [x > 1]\r\n",
       "E2  - -> \"*\"E7 [[psysml:5268f6a4-a59c-47f8-920f-30c5900c34c3 ]] \r\n",
       "E2 - -> \"*\"E3 [[psysml:c0d6c8f2-adfa-4de5-8b53-fd445de20c7a ]] \r\n",
       "E3  - -> \"*\"E4 [[psysml:647fb379-8896-403f-81c0-e54862ace948 ]] : [true]\r\n",
       "E3  - -> \"*\"E5 [[psysml:1317e145-771b-48e4-a88c-08ae6f2caba6 ]] : [false]\r\n",
       "E4  - -> \"*\"E5 [[psysml:23f0aa3a-74d1-4632-9e57-f97d17e19ec4 ]] : [x == 0]\r\n",
       "E7  - -> \"*\"E2 [[psysml:1fcd52fd-d040-4c7e-90de-1e4181f9ba4a ]] : [x > 0]\r\n",
       "@enduml\r\n",
       "\n",
       "PlantUML version 1.2020.13(Sat Jun 13 12:26:38 UTC 2020)\n",
       "(EPL source distribution)\n",
       "Java Runtime: OpenJDK Runtime Environment\n",
       "JVM: OpenJDK 64-Bit Server VM\n",
       "Default Encoding: UTF-8\n",
       "Language: en\n",
       "Country: null\n",
       "--></g></svg>"
      ]
     },
     "execution_count": 8,
     "metadata": {},
     "output_type": "execute_result"
    }
   ],
   "source": [
    "%viz --style=\"COMPTREE\" --view=\"MIXED\" \"DecisionTest\""
   ]
  },
  {
   "cell_type": "code",
   "execution_count": 9,
   "id": "20f4959d",
   "metadata": {
    "execution": {
     "iopub.execute_input": "2022-03-21T07:50:59.258526Z",
     "iopub.status.busy": "2022-03-21T07:50:59.258272Z",
     "iopub.status.idle": "2022-03-21T07:50:59.313514Z",
     "shell.execute_reply": "2022-03-21T07:50:59.313132Z"
    }
   },
   "outputs": [
    {
     "data": {
      "image/svg+xml": [
       "<?xml version=\"1.0\" encoding=\"UTF-8\" standalone=\"no\"?><svg xmlns=\"http://www.w3.org/2000/svg\" xmlns:xlink=\"http://www.w3.org/1999/xlink\" contentScriptType=\"application/ecmascript\" contentStyleType=\"text/css\" height=\"488px\" preserveAspectRatio=\"none\" style=\"width:333px;height:488px;\" version=\"1.1\" viewBox=\"0 0 333 488\" width=\"333px\" zoomAndPan=\"magnify\"><defs/><g><!--MD5=[fbc87193dbaf4d95561dea2c320d4a47]\n",
       "cluster E1--><a href=\"psysml:62ac371c-e17a-420d-a580-1aab63005ed6\" target=\"_top\" title=\"psysml:62ac371c-e17a-420d-a580-1aab63005ed6\" xlink:actuate=\"onRequest\" xlink:href=\"psysml:62ac371c-e17a-420d-a580-1aab63005ed6\" xlink:show=\"new\" xlink:title=\"psysml:62ac371c-e17a-420d-a580-1aab63005ed6\" xlink:type=\"simple\"><rect fill=\"#FFFFFF\" height=\"470\" id=\"E1\" style=\"stroke: #383838; stroke-width: 1.5;\" width=\"315\" x=\"7\" y=\"7\"/><rect fill=\"#F8F8F8\" height=\"37.9375\" style=\"stroke: #383838; stroke-width: 1.5;\" width=\"315\" x=\"7\" y=\"7\"/><text fill=\"#000000\" font-family=\"sans-serif\" font-size=\"12\" font-style=\"italic\" lengthAdjust=\"spacingAndGlyphs\" textLength=\"81\" x=\"124\" y=\"23.1387\">«action  def»</text><text fill=\"#000000\" font-family=\"sans-serif\" font-size=\"12\" lengthAdjust=\"spacingAndGlyphs\" textLength=\"80\" x=\"124.5\" y=\"37.1074\">DecisionTest</text></a><polygon fill=\"#F8F8F8\" points=\"210,67.5,222,79.5,210,91.5,198,79.5,210,67.5\" style=\"stroke: #383838; stroke-width: 1.5;\"/><polygon fill=\"#F8F8F8\" points=\"35,187.5,47,199.5,35,211.5,23,199.5,35,187.5\" style=\"stroke: #383838; stroke-width: 1.5;\"/><g id=\"E1.E4\"><a href=\"psysml:bb8ae358-9e9d-46e4-9973-23f4ed00e117\" target=\"_top\" title=\"psysml:bb8ae358-9e9d-46e4-9973-23f4ed00e117\" xlink:actuate=\"onRequest\" xlink:href=\"psysml:bb8ae358-9e9d-46e4-9973-23f4ed00e117\" xlink:show=\"new\" xlink:title=\"psysml:bb8ae358-9e9d-46e4-9973-23f4ed00e117\" xlink:type=\"simple\"><rect fill=\"#FFFFFF\" height=\"42.9375\" id=\"E4\" rx=\"10\" ry=\"10\" style=\"stroke: #383838; stroke-width: 1.5;\" width=\"60\" x=\"135\" y=\"298\"/><rect fill=\"#F8F8F8\" height=\"37.9375\" rx=\"10\" ry=\"10\" style=\"stroke: #F8F8F8; stroke-width: 1.5;\" width=\"60\" x=\"135\" y=\"298\"/><rect fill=\"#F8F8F8\" height=\"10\" style=\"stroke: #F8F8F8; stroke-width: 1.5;\" width=\"60\" x=\"135\" y=\"325.9375\"/><rect fill=\"none\" height=\"42.9375\" id=\"E4\" rx=\"10\" ry=\"10\" style=\"stroke: #383838; stroke-width: 1.5;\" width=\"60\" x=\"135\" y=\"298\"/><text fill=\"#000000\" font-family=\"sans-serif\" font-size=\"12\" font-style=\"italic\" lengthAdjust=\"spacingAndGlyphs\" textLength=\"53\" x=\"138.5\" y=\"314.1387\">«action»</text><text fill=\"#000000\" font-family=\"sans-serif\" font-size=\"12\" lengthAdjust=\"spacingAndGlyphs\" textLength=\"16\" x=\"157\" y=\"328.1074\">A1</text></a></g><g id=\"E1.E5\"><a href=\"psysml:e7f91728-bf49-43a2-b90b-9012c9afe2c4\" target=\"_top\" title=\"psysml:e7f91728-bf49-43a2-b90b-9012c9afe2c4\" xlink:actuate=\"onRequest\" xlink:href=\"psysml:e7f91728-bf49-43a2-b90b-9012c9afe2c4\" xlink:show=\"new\" xlink:title=\"psysml:e7f91728-bf49-43a2-b90b-9012c9afe2c4\" xlink:type=\"simple\"><rect fill=\"#FFFFFF\" height=\"42.9375\" id=\"E5\" rx=\"10\" ry=\"10\" style=\"stroke: #383838; stroke-width: 1.5;\" width=\"60\" x=\"135\" y=\"418\"/><rect fill=\"#F8F8F8\" height=\"37.9375\" rx=\"10\" ry=\"10\" style=\"stroke: #F8F8F8; stroke-width: 1.5;\" width=\"60\" x=\"135\" y=\"418\"/><rect fill=\"#F8F8F8\" height=\"10\" style=\"stroke: #F8F8F8; stroke-width: 1.5;\" width=\"60\" x=\"135\" y=\"445.9375\"/><rect fill=\"none\" height=\"42.9375\" id=\"E5\" rx=\"10\" ry=\"10\" style=\"stroke: #383838; stroke-width: 1.5;\" width=\"60\" x=\"135\" y=\"418\"/><text fill=\"#000000\" font-family=\"sans-serif\" font-size=\"12\" font-style=\"italic\" lengthAdjust=\"spacingAndGlyphs\" textLength=\"53\" x=\"138.5\" y=\"434.1387\">«action»</text><text fill=\"#000000\" font-family=\"sans-serif\" font-size=\"12\" lengthAdjust=\"spacingAndGlyphs\" textLength=\"16\" x=\"157\" y=\"448.1074\">A2</text></a></g><g id=\"E1.E6\"><a href=\"psysml:0d8578a4-a91e-4bc0-9576-e9210611ea53\" target=\"_top\" title=\"psysml:0d8578a4-a91e-4bc0-9576-e9210611ea53\" xlink:actuate=\"onRequest\" xlink:href=\"psysml:0d8578a4-a91e-4bc0-9576-e9210611ea53\" xlink:show=\"new\" xlink:title=\"psysml:0d8578a4-a91e-4bc0-9576-e9210611ea53\" xlink:type=\"simple\"><rect fill=\"#FFFFFF\" height=\"42.9375\" id=\"E6\" rx=\"10\" ry=\"10\" style=\"stroke: #383838; stroke-width: 1.5;\" width=\"60\" x=\"63\" y=\"58\"/><rect fill=\"#F8F8F8\" height=\"37.9375\" rx=\"10\" ry=\"10\" style=\"stroke: #F8F8F8; stroke-width: 1.5;\" width=\"60\" x=\"63\" y=\"58\"/><rect fill=\"#F8F8F8\" height=\"10\" style=\"stroke: #F8F8F8; stroke-width: 1.5;\" width=\"60\" x=\"63\" y=\"85.9375\"/><rect fill=\"none\" height=\"42.9375\" id=\"E6\" rx=\"10\" ry=\"10\" style=\"stroke: #383838; stroke-width: 1.5;\" width=\"60\" x=\"63\" y=\"58\"/><text fill=\"#000000\" font-family=\"sans-serif\" font-size=\"12\" font-style=\"italic\" lengthAdjust=\"spacingAndGlyphs\" textLength=\"53\" x=\"66.5\" y=\"74.1387\">«action»</text><text fill=\"#000000\" font-family=\"sans-serif\" font-size=\"12\" lengthAdjust=\"spacingAndGlyphs\" textLength=\"16\" x=\"85\" y=\"88.1074\">A3</text></a></g><g id=\"E1.E7\"><a href=\"psysml:0d8578a4-a91e-4bc0-9576-e9210611ea53\" target=\"_top\" title=\"psysml:0d8578a4-a91e-4bc0-9576-e9210611ea53\" xlink:actuate=\"onRequest\" xlink:href=\"psysml:0d8578a4-a91e-4bc0-9576-e9210611ea53\" xlink:show=\"new\" xlink:title=\"psysml:0d8578a4-a91e-4bc0-9576-e9210611ea53\" xlink:type=\"simple\"><rect fill=\"#FFFFFF\" height=\"42.9375\" id=\"E7\" rx=\"10\" ry=\"10\" style=\"stroke: #383838; stroke-width: 1.5;\" width=\"60\" x=\"246\" y=\"178\"/><rect fill=\"#F8F8F8\" height=\"37.9375\" rx=\"10\" ry=\"10\" style=\"stroke: #F8F8F8; stroke-width: 1.5;\" width=\"60\" x=\"246\" y=\"178\"/><rect fill=\"#F8F8F8\" height=\"10\" style=\"stroke: #F8F8F8; stroke-width: 1.5;\" width=\"60\" x=\"246\" y=\"205.9375\"/><rect fill=\"none\" height=\"42.9375\" id=\"E7\" rx=\"10\" ry=\"10\" style=\"stroke: #383838; stroke-width: 1.5;\" width=\"60\" x=\"246\" y=\"178\"/><text fill=\"#000000\" font-family=\"sans-serif\" font-size=\"12\" font-style=\"italic\" lengthAdjust=\"spacingAndGlyphs\" textLength=\"53\" x=\"249.5\" y=\"194.1387\">«action»</text><text fill=\"#000000\" font-family=\"sans-serif\" font-size=\"12\" lengthAdjust=\"spacingAndGlyphs\" textLength=\"16\" x=\"268\" y=\"208.1074\">A3</text></a></g><!--MD5=[4d03bb2d0377dc85ccfab60ff574652b]\n",
       "link E2 to E4--><a href=\"psysml:8074e684-9dcd-4869-b14d-8570f637bde9\" target=\"_top\" title=\"psysml:8074e684-9dcd-4869-b14d-8570f637bde9\" xlink:actuate=\"onRequest\" xlink:href=\"psysml:8074e684-9dcd-4869-b14d-8570f637bde9\" xlink:show=\"new\" xlink:title=\"psysml:8074e684-9dcd-4869-b14d-8570f637bde9\" xlink:type=\"simple\"><path d=\"M205.46,87.2 C190.55,109.23 144,178 144,178 C144,178 144,221 144,221 C144,221 153.2,263.72 159.42,292.6 \" fill=\"none\" id=\"E2-&gt;E4\" style=\"stroke: #383838; stroke-width: 1.0;\"/><polygon fill=\"#383838\" points=\"160.55,297.82,162.5831,288.1833,159.5063,292.9302,154.7594,289.8533,160.55,297.82\" style=\"stroke: #383838; stroke-width: 1.0;\"/><text fill=\"#000000\" font-family=\"sans-serif\" font-size=\"13\" lengthAdjust=\"spacingAndGlyphs\" textLength=\"55\" x=\"145\" y=\"204.0669\">[x == 1]</text><text fill=\"#000000\" font-family=\"sans-serif\" font-size=\"13\" lengthAdjust=\"spacingAndGlyphs\" textLength=\"7\" x=\"151.4134\" y=\"287.071\">*</text></a><!--MD5=[dcad52bbbca2fe8adc741ce38b45dc12]\n",
       "link E2 to E5--><a href=\"psysml:3f3ee8aa-e9f7-416c-965c-8aff211aef79\" target=\"_top\" title=\"psysml:3f3ee8aa-e9f7-416c-965c-8aff211aef79\" xlink:actuate=\"onRequest\" xlink:href=\"psysml:3f3ee8aa-e9f7-416c-965c-8aff211aef79\" xlink:show=\"new\" xlink:title=\"psysml:3f3ee8aa-e9f7-416c-965c-8aff211aef79\" xlink:type=\"simple\"><path d=\"M210.59,91.18 C213.48,143.59 226,371 226,371 C226,371 226,388 226,388 C226,388 209.6,401.58 193.8,414.65 \" fill=\"none\" id=\"E2-&gt;E5\" style=\"stroke: #383838; stroke-width: 1.0;\"/><polygon fill=\"#383838\" points=\"189.81,417.96,199.2964,415.3128,193.6651,414.776,194.202,409.1446,189.81,417.96\" style=\"stroke: #383838; stroke-width: 1.0;\"/><text fill=\"#000000\" font-family=\"sans-serif\" font-size=\"13\" lengthAdjust=\"spacingAndGlyphs\" textLength=\"44\" x=\"221\" y=\"264.0669\">[x &gt; 1]</text><text fill=\"#000000\" font-family=\"sans-serif\" font-size=\"13\" lengthAdjust=\"spacingAndGlyphs\" textLength=\"7\" x=\"188.8034\" y=\"406.8869\">*</text></a><!--MD5=[e3d2a08a9c9236652057e8ed0cbc9b62]\n",
       "link E2 to E7--><a href=\"psysml:5268f6a4-a59c-47f8-920f-30c5900c34c3\" target=\"_top\" title=\"psysml:5268f6a4-a59c-47f8-920f-30c5900c34c3\" xlink:actuate=\"onRequest\" xlink:href=\"psysml:5268f6a4-a59c-47f8-920f-30c5900c34c3\" xlink:show=\"new\" xlink:title=\"psysml:5268f6a4-a59c-47f8-920f-30c5900c34c3\" xlink:type=\"simple\"><path d=\"M211.81,89.89 C215.38,108.43 223,148 223,148 C223,148 237.01,161.35 250.63,174.32 \" fill=\"none\" id=\"E2-&gt;E7\" style=\"stroke: #383838; stroke-width: 1.0;\"/><polygon fill=\"#383838\" points=\"254.44,177.96,250.6644,168.8636,250.8129,174.5185,245.158,174.667,254.44,177.96\" style=\"stroke: #383838; stroke-width: 1.0;\"/><text fill=\"#000000\" font-family=\"sans-serif\" font-size=\"13\" lengthAdjust=\"spacingAndGlyphs\" textLength=\"7\" x=\"240.3919\" y=\"166.8869\">*</text></a><!--MD5=[583832df87f4419a098336a29a52fa00]\n",
       "link E7 to E2--><a href=\"psysml:1fcd52fd-d040-4c7e-90de-1e4181f9ba4a\" target=\"_top\" title=\"psysml:1fcd52fd-d040-4c7e-90de-1e4181f9ba4a\" xlink:actuate=\"onRequest\" xlink:href=\"psysml:1fcd52fd-d040-4c7e-90de-1e4181f9ba4a\" xlink:show=\"new\" xlink:title=\"psysml:1fcd52fd-d040-4c7e-90de-1e4181f9ba4a\" xlink:type=\"simple\"><path d=\"M264.3,177.59 C250.41,152.74 227.7,112.15 216.57,92.25 \" fill=\"none\" id=\"E7-&gt;E2\" style=\"stroke: #383838; stroke-width: 1.0;\"/><polygon fill=\"#383838\" points=\"214.13,87.88,215.0286,97.6878,216.5691,92.2447,222.0122,93.7852,214.13,87.88\" style=\"stroke: #383838; stroke-width: 1.0;\"/><text fill=\"#000000\" font-family=\"sans-serif\" font-size=\"13\" lengthAdjust=\"spacingAndGlyphs\" textLength=\"44\" x=\"247\" y=\"144.0669\">[x &gt; 0]</text><text fill=\"#000000\" font-family=\"sans-serif\" font-size=\"13\" lengthAdjust=\"spacingAndGlyphs\" textLength=\"7\" x=\"207.5946\" y=\"111.7074\">*</text></a><!--MD5=[2720a5a1f2c3fca2055b230370638851]\n",
       "link E2 to E3--><a href=\"psysml:c0d6c8f2-adfa-4de5-8b53-fd445de20c7a\" target=\"_top\" title=\"psysml:c0d6c8f2-adfa-4de5-8b53-fd445de20c7a\" xlink:actuate=\"onRequest\" xlink:href=\"psysml:c0d6c8f2-adfa-4de5-8b53-fd445de20c7a\" xlink:show=\"new\" xlink:title=\"psysml:c0d6c8f2-adfa-4de5-8b53-fd445de20c7a\" xlink:type=\"simple\"><path d=\"M202.33,84.3 C178.61,96.04 108,131 108,131 C108,131 64.37,171.35 44.57,189.65 \" fill=\"none\" id=\"E2-&gt;E3\" style=\"stroke: #383838; stroke-width: 1.0;\"/><polygon fill=\"#383838\" points=\"40.73,193.2,50.0512,190.0196,44.3985,189.8027,44.6155,184.15,40.73,193.2\" style=\"stroke: #383838; stroke-width: 1.0;\"/><text fill=\"#000000\" font-family=\"sans-serif\" font-size=\"13\" lengthAdjust=\"spacingAndGlyphs\" textLength=\"7\" x=\"50.1907\" y=\"176.19\">*</text></a><!--MD5=[af87c684e3b0d8be13c1a698a818ef1e]\n",
       "link E3 to E4--><a href=\"psysml:647fb379-8896-403f-81c0-e54862ace948\" target=\"_top\" title=\"psysml:647fb379-8896-403f-81c0-e54862ace948\" xlink:actuate=\"onRequest\" xlink:href=\"psysml:647fb379-8896-403f-81c0-e54862ace948\" xlink:show=\"new\" xlink:title=\"psysml:647fb379-8896-403f-81c0-e54862ace948\" xlink:type=\"simple\"><path d=\"M39.7,206.97 C51.96,223.87 84,268 84,268 C84,268 108.44,283.24 130.47,296.97 \" fill=\"none\" id=\"E3-&gt;E4\" style=\"stroke: #383838; stroke-width: 1.0;\"/><polygon fill=\"#383838\" points=\"134.84,299.7,129.3157,291.5464,130.596,297.0564,125.0859,298.3368,134.84,299.7\" style=\"stroke: #383838; stroke-width: 1.0;\"/><text fill=\"#000000\" font-family=\"sans-serif\" font-size=\"13\" lengthAdjust=\"spacingAndGlyphs\" textLength=\"36\" x=\"85\" y=\"264.0669\">[true]</text><text fill=\"#000000\" font-family=\"sans-serif\" font-size=\"13\" lengthAdjust=\"spacingAndGlyphs\" textLength=\"7\" x=\"120.0561\" y=\"290.4764\">*</text></a><!--MD5=[0188b64bb0ae78505a997a81836e11e9]\n",
       "link E3 to E5--><a href=\"psysml:1317e145-771b-48e4-a88c-08ae6f2caba6\" target=\"_top\" title=\"psysml:1317e145-771b-48e4-a88c-08ae6f2caba6\" xlink:actuate=\"onRequest\" xlink:href=\"psysml:1317e145-771b-48e4-a88c-08ae6f2caba6\" xlink:show=\"new\" xlink:title=\"psysml:1317e145-771b-48e4-a88c-08ae6f2caba6\" xlink:type=\"simple\"><path d=\"M37.56,209.29 C46.54,240.05 76,341 76,341 C76,341 116.3,385.15 142.66,414.03 \" fill=\"none\" id=\"E3-&gt;E5\" style=\"stroke: #383838; stroke-width: 1.0;\"/><polygon fill=\"#383838\" points=\"146.13,417.82,143.0249,408.4734,142.7624,414.1242,137.1116,413.8616,146.13,417.82\" style=\"stroke: #383838; stroke-width: 1.0;\"/><text fill=\"#000000\" font-family=\"sans-serif\" font-size=\"13\" lengthAdjust=\"spacingAndGlyphs\" textLength=\"40\" x=\"77\" y=\"324.0669\">[false]</text><text fill=\"#000000\" font-family=\"sans-serif\" font-size=\"13\" lengthAdjust=\"spacingAndGlyphs\" textLength=\"7\" x=\"133.1181\" y=\"407.071\">*</text></a><!--MD5=[1b7591eae5389033d8d09a9d6721a717]\n",
       "link E4 to E5--><a href=\"psysml:23f0aa3a-74d1-4632-9e57-f97d17e19ec4\" target=\"_top\" title=\"psysml:23f0aa3a-74d1-4632-9e57-f97d17e19ec4\" xlink:actuate=\"onRequest\" xlink:href=\"psysml:23f0aa3a-74d1-4632-9e57-f97d17e19ec4\" xlink:show=\"new\" xlink:title=\"psysml:23f0aa3a-74d1-4632-9e57-f97d17e19ec4\" xlink:type=\"simple\"><path d=\"M165,341.05 C165,360.9 165,391.02 165,412.52 \" fill=\"none\" id=\"E4-&gt;E5\" style=\"stroke: #383838; stroke-width: 1.0;\"/><polygon fill=\"#383838\" points=\"165,417.79,169,408.79,165,412.79,161,408.79,165,417.79\" style=\"stroke: #383838; stroke-width: 1.0;\"/><text fill=\"#000000\" font-family=\"sans-serif\" font-size=\"13\" lengthAdjust=\"spacingAndGlyphs\" textLength=\"55\" x=\"166\" y=\"384.0669\">[x == 0]</text><text fill=\"#000000\" font-family=\"sans-serif\" font-size=\"13\" lengthAdjust=\"spacingAndGlyphs\" textLength=\"7\" x=\"157.0594\" y=\"407.033\">*</text></a><!--MD5=[2ad113b0af1f08578a40965616f74226]\n",
       "@startuml\r\n",
       "skinparam linetype polyline\r\n",
       "skinparam monochrome true\r\n",
       "skinparam classbackgroundcolor white\r\n",
       "skinparam shadowing false\r\n",
       "skinparam wrapWidth 300\r\n",
       "hide circle\r\n",
       "\r\n",
       "rec def \"DecisionTest\" as E1  <<(T,blue) action  def>> [[psysml:62ac371c-e17a-420d-a580-1aab63005ed6 ]] {\r\n",
       "choice \"test x\" as E2  [[psysml:2e150d19-c5c5-4276-9136-9fe31d212434 ]] \r\n",
       "choice \"<s>noname</s>\" as E3  [[psysml:cc5b619c-f329-4ed7-9a64-7943d6ed9569 ]] \r\n",
       "rec usage \"A1\" as E4  <<(T,blue) action>> [[psysml:bb8ae358-9e9d-46e4-9973-23f4ed00e117 ]] {\r\n",
       "}\r\n",
       "\r\n",
       "rec usage \"A2\" as E5  <<(T,blue) action>> [[psysml:e7f91728-bf49-43a2-b90b-9012c9afe2c4 ]] {\r\n",
       "}\r\n",
       "\r\n",
       "rec usage \"A3\" as E6  <<(T,blue) action>> [[psysml:0d8578a4-a91e-4bc0-9576-e9210611ea53 ]] {\r\n",
       "}\r\n",
       "\r\n",
       "rec usage \"A3\" as E7  <<(T,blue) action>> [[psysml:0d8578a4-a91e-4bc0-9576-e9210611ea53 ]] {\r\n",
       "}\r\n",
       "\r\n",
       "}\r\n",
       "\r\n",
       "E2  - -> \"*\"E4 [[psysml:8074e684-9dcd-4869-b14d-8570f637bde9 ]] : [x == 1]\r\n",
       "E2  - -> \"*\"E5 [[psysml:3f3ee8aa-e9f7-416c-965c-8aff211aef79 ]] : [x > 1]\r\n",
       "E2  - -> \"*\"E7 [[psysml:5268f6a4-a59c-47f8-920f-30c5900c34c3 ]] \r\n",
       "E2 - -> \"*\"E3 [[psysml:c0d6c8f2-adfa-4de5-8b53-fd445de20c7a ]] \r\n",
       "E3  - -> \"*\"E4 [[psysml:647fb379-8896-403f-81c0-e54862ace948 ]] : [true]\r\n",
       "E3  - -> \"*\"E5 [[psysml:1317e145-771b-48e4-a88c-08ae6f2caba6 ]] : [false]\r\n",
       "E4  - -> \"*\"E5 [[psysml:23f0aa3a-74d1-4632-9e57-f97d17e19ec4 ]] : [x == 0]\r\n",
       "E7  - -> \"*\"E2 [[psysml:1fcd52fd-d040-4c7e-90de-1e4181f9ba4a ]] : [x > 0]\r\n",
       "@enduml\r\n",
       "\n",
       "PlantUML version 1.2020.13(Sat Jun 13 12:26:38 UTC 2020)\n",
       "(EPL source distribution)\n",
       "Java Runtime: OpenJDK Runtime Environment\n",
       "JVM: OpenJDK 64-Bit Server VM\n",
       "Default Encoding: UTF-8\n",
       "Language: en\n",
       "Country: null\n",
       "--></g></svg>"
      ]
     },
     "execution_count": 9,
     "metadata": {},
     "output_type": "execute_result"
    }
   ],
   "source": [
    "%viz --style=\"POLYLINE\" --view=\"Default\" \"DecisionTest\""
   ]
  },
  {
   "cell_type": "code",
   "execution_count": 10,
   "id": "9fc4c658",
   "metadata": {
    "execution": {
     "iopub.execute_input": "2022-03-21T07:50:59.362677Z",
     "iopub.status.busy": "2022-03-21T07:50:59.362267Z",
     "iopub.status.idle": "2022-03-21T07:50:59.505646Z",
     "shell.execute_reply": "2022-03-21T07:50:59.505268Z"
    }
   },
   "outputs": [
    {
     "data": {
      "image/svg+xml": [
       "<?xml version=\"1.0\" encoding=\"UTF-8\" standalone=\"no\"?><svg xmlns=\"http://www.w3.org/2000/svg\" xmlns:xlink=\"http://www.w3.org/1999/xlink\" contentScriptType=\"application/ecmascript\" contentStyleType=\"text/css\" height=\"335px\" preserveAspectRatio=\"none\" style=\"width:531px;height:335px;\" version=\"1.1\" viewBox=\"0 0 531 335\" width=\"531px\" zoomAndPan=\"magnify\"><defs/><g><!--MD5=[43c9051892ef23e1a46a86907403d788]\n",
       "class E1--><a href=\"psysml:62ac371c-e17a-420d-a580-1aab63005ed6\" target=\"_top\" title=\"psysml:62ac371c-e17a-420d-a580-1aab63005ed6\" xlink:actuate=\"onRequest\" xlink:href=\"psysml:62ac371c-e17a-420d-a580-1aab63005ed6\" xlink:show=\"new\" xlink:title=\"psysml:62ac371c-e17a-420d-a580-1aab63005ed6\" xlink:type=\"simple\"><rect fill=\"#FFFFFF\" height=\"211.5938\" id=\"E1\" style=\"stroke: #383838; stroke-width: 1.5;\" width=\"86\" x=\"315\" y=\"7\"/><text fill=\"#000000\" font-family=\"sans-serif\" font-size=\"12\" font-style=\"italic\" lengthAdjust=\"spacingAndGlyphs\" textLength=\"81\" x=\"317.5\" y=\"23.1387\">«action  def»</text><text fill=\"#000000\" font-family=\"sans-serif\" font-size=\"12\" lengthAdjust=\"spacingAndGlyphs\" textLength=\"80\" x=\"318\" y=\"37.1074\">DecisionTest</text><line style=\"stroke: #383838; stroke-width: 1.5;\" x1=\"316\" x2=\"400\" y1=\"44.9375\" y2=\"44.9375\"/><text fill=\"#000000\" font-family=\"sans-serif\" font-size=\"11\" lengthAdjust=\"spacingAndGlyphs\" textLength=\"30\" x=\"321\" y=\"75.9526\">x= 1;</text><line style=\"stroke: #383838; stroke-width: 1.0;\" x1=\"316\" x2=\"330.5\" y1=\"59.3398\" y2=\"59.3398\"/><text fill=\"#000000\" font-family=\"sans-serif\" font-size=\"11\" lengthAdjust=\"spacingAndGlyphs\" textLength=\"55\" x=\"330.5\" y=\"62.6479\">attributes</text><line style=\"stroke: #383838; stroke-width: 1.0;\" x1=\"385.5\" x2=\"400\" y1=\"59.3398\" y2=\"59.3398\"/><text fill=\"#000000\" font-family=\"sans-serif\" font-size=\"11\" lengthAdjust=\"spacingAndGlyphs\" textLength=\"25\" x=\"321\" y=\"105.562\">then</text><line style=\"stroke: #383838; stroke-width: 1.0;\" x1=\"316\" x2=\"322.5\" y1=\"88.9492\" y2=\"88.9492\"/><text fill=\"#000000\" font-family=\"sans-serif\" font-size=\"11\" lengthAdjust=\"spacingAndGlyphs\" textLength=\"71\" x=\"322.5\" y=\"92.2573\">successions</text><line style=\"stroke: #383838; stroke-width: 1.0;\" x1=\"393.5\" x2=\"400\" y1=\"88.9492\" y2=\"88.9492\"/><text fill=\"#000000\" font-family=\"sans-serif\" font-size=\"11\" lengthAdjust=\"spacingAndGlyphs\" textLength=\"0\" x=\"325\" y=\"135.1714\"/><text fill=\"#000000\" font-family=\"sans-serif\" font-size=\"11\" lengthAdjust=\"spacingAndGlyphs\" textLength=\"0\" x=\"325\" y=\"147.9761\"/><text fill=\"#000000\" font-family=\"sans-serif\" font-size=\"11\" lengthAdjust=\"spacingAndGlyphs\" textLength=\"0\" x=\"325\" y=\"160.7808\"/><text fill=\"#000000\" font-family=\"sans-serif\" font-size=\"11\" lengthAdjust=\"spacingAndGlyphs\" textLength=\"0\" x=\"325\" y=\"173.5854\"/><text fill=\"#000000\" font-family=\"sans-serif\" font-size=\"11\" lengthAdjust=\"spacingAndGlyphs\" textLength=\"0\" x=\"325\" y=\"186.3901\"/><text fill=\"#000000\" font-family=\"sans-serif\" font-size=\"11\" lengthAdjust=\"spacingAndGlyphs\" textLength=\"0\" x=\"325\" y=\"199.1948\"/><text fill=\"#000000\" font-family=\"sans-serif\" font-size=\"11\" lengthAdjust=\"spacingAndGlyphs\" textLength=\"8\" x=\"321\" y=\"211.9995\">S</text><line style=\"stroke: #383838; stroke-width: 1.0;\" x1=\"316\" x2=\"327.5\" y1=\"118.5586\" y2=\"118.5586\"/><text fill=\"#000000\" font-family=\"sans-serif\" font-size=\"11\" lengthAdjust=\"spacingAndGlyphs\" textLength=\"61\" x=\"327.5\" y=\"121.8667\">transitions</text><line style=\"stroke: #383838; stroke-width: 1.0;\" x1=\"388.5\" x2=\"400\" y1=\"118.5586\" y2=\"118.5586\"/></a><!--MD5=[b4997ac47864f28c2f74865a473b2911]\n",
       "class E2--><a href=\"psysml:2e150d19-c5c5-4276-9136-9fe31d212434\" target=\"_top\" title=\"psysml:2e150d19-c5c5-4276-9136-9fe31d212434\" xlink:actuate=\"onRequest\" xlink:href=\"psysml:2e150d19-c5c5-4276-9136-9fe31d212434\" xlink:show=\"new\" xlink:title=\"psysml:2e150d19-c5c5-4276-9136-9fe31d212434\" xlink:type=\"simple\"><rect fill=\"#FFFFFF\" height=\"45.9375\" id=\"E2\" rx=\"10\" ry=\"10\" style=\"stroke: #383838; stroke-width: 1.5;\" width=\"104\" x=\"7\" y=\"279\"/><text fill=\"#000000\" font-family=\"sans-serif\" font-size=\"12\" font-style=\"italic\" lengthAdjust=\"spacingAndGlyphs\" textLength=\"102\" x=\"8\" y=\"295.1387\">«decision node»</text><text fill=\"#000000\" font-family=\"sans-serif\" font-size=\"12\" lengthAdjust=\"spacingAndGlyphs\" textLength=\"35\" x=\"39.5\" y=\"309.1074\">test x</text><line style=\"stroke: #383838; stroke-width: 1.5;\" x1=\"8\" x2=\"110\" y1=\"316.9375\" y2=\"316.9375\"/></a><!--MD5=[09b614a08d8cba4a07c9adeb5e0fee81]\n",
       "class E3--><a href=\"psysml:cc5b619c-f329-4ed7-9a64-7943d6ed9569\" target=\"_top\" title=\"psysml:cc5b619c-f329-4ed7-9a64-7943d6ed9569\" xlink:actuate=\"onRequest\" xlink:href=\"psysml:cc5b619c-f329-4ed7-9a64-7943d6ed9569\" xlink:show=\"new\" xlink:title=\"psysml:cc5b619c-f329-4ed7-9a64-7943d6ed9569\" xlink:type=\"simple\"><rect fill=\"#FFFFFF\" height=\"45.9375\" id=\"E3\" rx=\"10\" ry=\"10\" style=\"stroke: #383838; stroke-width: 1.5;\" width=\"104\" x=\"146\" y=\"279\"/><text fill=\"#000000\" font-family=\"sans-serif\" font-size=\"12\" font-style=\"italic\" lengthAdjust=\"spacingAndGlyphs\" textLength=\"102\" x=\"147\" y=\"295.1387\">«decision node»</text><text fill=\"#000000\" font-family=\"sans-serif\" font-size=\"12\" lengthAdjust=\"spacingAndGlyphs\" text-decoration=\"line-through\" textLength=\"51\" x=\"170.5\" y=\"309.1074\">noname</text><text fill=\"#000000\" font-family=\"sans-serif\" font-size=\"12\" lengthAdjust=\"spacingAndGlyphs\" textLength=\"0\" x=\"225.5\" y=\"309.1074\"/><line style=\"stroke: #383838; stroke-width: 1.5;\" x1=\"147\" x2=\"249\" y1=\"316.9375\" y2=\"316.9375\"/></a><!--MD5=[ebbe1d658d1005bcc118a6aa81145e00]\n",
       "class E4--><a href=\"psysml:bb8ae358-9e9d-46e4-9973-23f4ed00e117\" target=\"_top\" title=\"psysml:bb8ae358-9e9d-46e4-9973-23f4ed00e117\" xlink:actuate=\"onRequest\" xlink:href=\"psysml:bb8ae358-9e9d-46e4-9973-23f4ed00e117\" xlink:show=\"new\" xlink:title=\"psysml:bb8ae358-9e9d-46e4-9973-23f4ed00e117\" xlink:type=\"simple\"><rect fill=\"#FFFFFF\" height=\"45.9375\" id=\"E4\" rx=\"10\" ry=\"10\" style=\"stroke: #383838; stroke-width: 1.5;\" width=\"55\" x=\"285.5\" y=\"279\"/><text fill=\"#000000\" font-family=\"sans-serif\" font-size=\"12\" font-style=\"italic\" lengthAdjust=\"spacingAndGlyphs\" textLength=\"53\" x=\"286.5\" y=\"295.1387\">«action»</text><text fill=\"#000000\" font-family=\"sans-serif\" font-size=\"12\" lengthAdjust=\"spacingAndGlyphs\" textLength=\"16\" x=\"303\" y=\"309.1074\">A1</text><line style=\"stroke: #383838; stroke-width: 1.5;\" x1=\"286.5\" x2=\"339.5\" y1=\"316.9375\" y2=\"316.9375\"/></a><!--MD5=[270fce915f116d4de14055a7c1d9a0f3]\n",
       "class E5--><a href=\"psysml:e7f91728-bf49-43a2-b90b-9012c9afe2c4\" target=\"_top\" title=\"psysml:e7f91728-bf49-43a2-b90b-9012c9afe2c4\" xlink:actuate=\"onRequest\" xlink:href=\"psysml:e7f91728-bf49-43a2-b90b-9012c9afe2c4\" xlink:show=\"new\" xlink:title=\"psysml:e7f91728-bf49-43a2-b90b-9012c9afe2c4\" xlink:type=\"simple\"><rect fill=\"#FFFFFF\" height=\"45.9375\" id=\"E5\" rx=\"10\" ry=\"10\" style=\"stroke: #383838; stroke-width: 1.5;\" width=\"55\" x=\"375.5\" y=\"279\"/><text fill=\"#000000\" font-family=\"sans-serif\" font-size=\"12\" font-style=\"italic\" lengthAdjust=\"spacingAndGlyphs\" textLength=\"53\" x=\"376.5\" y=\"295.1387\">«action»</text><text fill=\"#000000\" font-family=\"sans-serif\" font-size=\"12\" lengthAdjust=\"spacingAndGlyphs\" textLength=\"16\" x=\"393\" y=\"309.1074\">A2</text><line style=\"stroke: #383838; stroke-width: 1.5;\" x1=\"376.5\" x2=\"429.5\" y1=\"316.9375\" y2=\"316.9375\"/></a><!--MD5=[60a26617385b1d2d0262a64233df1f8d]\n",
       "class E6--><a href=\"psysml:0d8578a4-a91e-4bc0-9576-e9210611ea53\" target=\"_top\" title=\"psysml:0d8578a4-a91e-4bc0-9576-e9210611ea53\" xlink:actuate=\"onRequest\" xlink:href=\"psysml:0d8578a4-a91e-4bc0-9576-e9210611ea53\" xlink:show=\"new\" xlink:title=\"psysml:0d8578a4-a91e-4bc0-9576-e9210611ea53\" xlink:type=\"simple\"><rect fill=\"#FFFFFF\" height=\"45.9375\" id=\"E6\" rx=\"10\" ry=\"10\" style=\"stroke: #383838; stroke-width: 1.5;\" width=\"55\" x=\"465.5\" y=\"279\"/><text fill=\"#000000\" font-family=\"sans-serif\" font-size=\"12\" font-style=\"italic\" lengthAdjust=\"spacingAndGlyphs\" textLength=\"53\" x=\"466.5\" y=\"295.1387\">«action»</text><text fill=\"#000000\" font-family=\"sans-serif\" font-size=\"12\" lengthAdjust=\"spacingAndGlyphs\" textLength=\"16\" x=\"483\" y=\"309.1074\">A3</text><line style=\"stroke: #383838; stroke-width: 1.5;\" x1=\"466.5\" x2=\"519.5\" y1=\"316.9375\" y2=\"316.9375\"/></a><!--MD5=[a523cb2a0b79ecf9065ad8783f96c320]\n",
       "reverse link E1 to E2--><a href=\"psysml:61bbaf95-6b35-4ea8-9656-8ce08595131a\" target=\"_top\" title=\"psysml:61bbaf95-6b35-4ea8-9656-8ce08595131a\" xlink:actuate=\"onRequest\" xlink:href=\"psysml:61bbaf95-6b35-4ea8-9656-8ce08595131a\" xlink:show=\"new\" xlink:title=\"psysml:61bbaf95-6b35-4ea8-9656-8ce08595131a\" xlink:type=\"simple\"><path d=\"M303.54,148.06 C242.66,186.13 145.87,246.67 94.21,278.98 \" fill=\"none\" id=\"E1&lt;-E2\" style=\"stroke: #383838; stroke-width: 1.0;\"/><polygon fill=\"#383838\" points=\"314.84,140.99,307.632,140.7788,304.6648,147.3512,311.8728,147.5623,314.84,140.99\" style=\"stroke: #383838; stroke-width: 1.0;\"/></a><!--MD5=[5d7b3810b1dd9b5164bea1151b29b665]\n",
       "reverse link E1 to E3--><a href=\"psysml:1be4164a-e759-487d-bef2-3f3fc6c6ee3e\" target=\"_top\" title=\"psysml:1be4164a-e759-487d-bef2-3f3fc6c6ee3e\" xlink:actuate=\"onRequest\" xlink:href=\"psysml:1be4164a-e759-487d-bef2-3f3fc6c6ee3e\" xlink:show=\"new\" xlink:title=\"psysml:1be4164a-e759-487d-bef2-3f3fc6c6ee3e\" xlink:type=\"simple\"><path d=\"M305.9,174.89 C275.51,210.41 238.98,253.11 217.17,278.6 \" fill=\"none\" id=\"E1&lt;-E3\" style=\"stroke: #383838; stroke-width: 1.0;\"/><polygon fill=\"#383838\" points=\"314.7,164.6,307.7601,166.559,306.8992,173.7185,313.8391,171.7595,314.7,164.6\" style=\"stroke: #383838; stroke-width: 1.0;\"/></a><!--MD5=[f2c5c03aa1e8c0ba21c10a05e6444b8e]\n",
       "reverse link E1 to E4--><a href=\"psysml:ea8ec5e3-dd0d-4201-a2d4-45f385d409e8\" target=\"_top\" title=\"psysml:ea8ec5e3-dd0d-4201-a2d4-45f385d409e8\" xlink:actuate=\"onRequest\" xlink:href=\"psysml:ea8ec5e3-dd0d-4201-a2d4-45f385d409e8\" xlink:show=\"new\" xlink:title=\"psysml:ea8ec5e3-dd0d-4201-a2d4-45f385d409e8\" xlink:type=\"simple\"><path d=\"M329.58,232.08 C325.3,249.9 321.32,266.44 318.33,278.84 \" fill=\"none\" id=\"E1&lt;-E4\" style=\"stroke: #383838; stroke-width: 1.0;\"/><polygon fill=\"#383838\" points=\"332.67,219.25,327.3811,224.1517,329.8715,230.9191,335.1605,226.0174,332.67,219.25\" style=\"stroke: #383838; stroke-width: 1.0;\"/><text fill=\"#000000\" font-family=\"sans-serif\" font-size=\"13\" lengthAdjust=\"spacingAndGlyphs\" textLength=\"7\" x=\"311.7989\" y=\"268.0753\">*</text></a><!--MD5=[33238bef88d6431a141d8bc8fb12bca0]\n",
       "reverse link E1 to E5--><a href=\"psysml:8b3fb5b8-4ae2-4666-9331-7642784b574c\" target=\"_top\" title=\"psysml:8b3fb5b8-4ae2-4666-9331-7642784b574c\" xlink:actuate=\"onRequest\" xlink:href=\"psysml:8b3fb5b8-4ae2-4666-9331-7642784b574c\" xlink:show=\"new\" xlink:title=\"psysml:8b3fb5b8-4ae2-4666-9331-7642784b574c\" xlink:type=\"simple\"><path d=\"M386.42,232.08 C390.7,249.9 394.68,266.44 397.67,278.84 \" fill=\"none\" id=\"E1&lt;-E5\" style=\"stroke: #383838; stroke-width: 1.0;\"/><polygon fill=\"#383838\" points=\"383.33,219.25,380.8395,226.0174,386.1285,230.9191,388.6189,224.1517,383.33,219.25\" style=\"stroke: #383838; stroke-width: 1.0;\"/><text fill=\"#000000\" font-family=\"sans-serif\" font-size=\"13\" lengthAdjust=\"spacingAndGlyphs\" textLength=\"7\" x=\"388.4073\" y=\"268.0753\">*</text></a><!--MD5=[aca2ef284c2b1b90e17e73bf3f292c07]\n",
       "reverse link E1 to E6--><a href=\"psysml:a8437b79-0ca7-4b3d-9ccd-1b1fd90c9a28\" target=\"_top\" title=\"psysml:a8437b79-0ca7-4b3d-9ccd-1b1fd90c9a28\" xlink:actuate=\"onRequest\" xlink:href=\"psysml:a8437b79-0ca7-4b3d-9ccd-1b1fd90c9a28\" xlink:show=\"new\" xlink:title=\"psysml:a8437b79-0ca7-4b3d-9ccd-1b1fd90c9a28\" xlink:type=\"simple\"><path d=\"M408.77,201.95 C429.03,230.31 451.36,259.35 468.19,278.59 \" fill=\"none\" id=\"E1&lt;-E6\" style=\"stroke: #383838; stroke-width: 1.0;\"/><polygon fill=\"#383838\" points=\"401.11,191.14,401.3121,198.3483,408.0436,200.9341,407.8415,193.7258,401.11,191.14\" style=\"stroke: #383838; stroke-width: 1.0;\"/><text fill=\"#000000\" font-family=\"sans-serif\" font-size=\"13\" lengthAdjust=\"spacingAndGlyphs\" textLength=\"7\" x=\"453.9356\" y=\"267.7612\">*</text></a><!--MD5=[aca2ef284c2b1b90e17e73bf3f292c07]\n",
       "reverse link E1 to E6--><a href=\"psysml:df3b65d4-7483-4b88-b5f9-cbf727def8cf\" target=\"_top\" title=\"psysml:df3b65d4-7483-4b88-b5f9-cbf727def8cf\" xlink:actuate=\"onRequest\" xlink:href=\"psysml:df3b65d4-7483-4b88-b5f9-cbf727def8cf\" xlink:show=\"new\" xlink:title=\"psysml:df3b65d4-7483-4b88-b5f9-cbf727def8cf\" xlink:type=\"simple\"><path d=\"M410.8,169.86 C439.32,206.45 471.27,252.27 486.16,278.93 \" fill=\"none\" id=\"E1&lt;-E6-1\" style=\"stroke: #383838; stroke-width: 1.0; stroke-dasharray: 7.0,7.0;\"/><ellipse cx=\"406.2494\" cy=\"164.1173\" fill=\"#FFFFFF\" rx=\"8\" ry=\"8\" style=\"stroke: #383838; stroke-width: 1.0;\"/><line style=\"stroke: #383838; stroke-width: 1.0;\" x1=\"411.2088\" x2=\"401.29\" y1=\"170.3946\" y2=\"157.84\"/><line style=\"stroke: #383838; stroke-width: 1.0;\" x1=\"399.9721\" x2=\"412.5267\" y1=\"169.0767\" y2=\"159.1579\"/><text fill=\"#000000\" font-family=\"sans-serif\" font-size=\"13\" lengthAdjust=\"spacingAndGlyphs\" textLength=\"7\" x=\"476.3811\" y=\"267.8075\">*</text></a><!--MD5=[6d05bed5e7d0cd2fbfbd4308b5622281]\n",
       "@startuml\r\n",
       "skinparam linetype polyline\r\n",
       "skinparam monochrome true\r\n",
       "skinparam classbackgroundcolor white\r\n",
       "skinparam shadowing false\r\n",
       "skinparam wrapWidth 300\r\n",
       "hide circle\r\n",
       "\r\n",
       "comp def \"DecisionTest\" as E1  <<(T,blue) action  def>> [[psysml:62ac371c-e17a-420d-a580-1aab63005ed6 ]] {\r\n",
       "- - attributes - -\r\n",
       "x= 1; \r\n",
       "- - successions - -\r\n",
       " then \r\n",
       "- - transitions - -\r\n",
       "\r\n",
       "\r\n",
       "\r\n",
       "\r\n",
       "\r\n",
       "\r\n",
       "S\r\n",
       "}\r\n",
       "comp usage \"test x \" as E2  <<(T,blue) decision node>> [[psysml:2e150d19-c5c5-4276-9136-9fe31d212434 ]] {\r\n",
       "}\r\n",
       "comp usage \"<s>noname</s> \" as E3  <<(T,blue) decision node>> [[psysml:cc5b619c-f329-4ed7-9a64-7943d6ed9569 ]] {\r\n",
       "}\r\n",
       "comp usage \"A1 \" as E4  <<(T,blue) action>> [[psysml:bb8ae358-9e9d-46e4-9973-23f4ed00e117 ]] {\r\n",
       "}\r\n",
       "comp usage \"A2 \" as E5  <<(T,blue) action>> [[psysml:e7f91728-bf49-43a2-b90b-9012c9afe2c4 ]] {\r\n",
       "}\r\n",
       "comp usage \"A3 \" as E6  <<(T,blue) action>> [[psysml:0d8578a4-a91e-4bc0-9576-e9210611ea53 ]] {\r\n",
       "}\r\n",
       "E1 *- - E2 [[psysml:61bbaf95-6b35-4ea8-9656-8ce08595131a ]] \r\n",
       "E1 *- - E3 [[psysml:1be4164a-e759-487d-bef2-3f3fc6c6ee3e ]] \r\n",
       "E1 *- - \"*\"E4 [[psysml:ea8ec5e3-dd0d-4201-a2d4-45f385d409e8 ]] \r\n",
       "E1 *- - \"*\"E5 [[psysml:8b3fb5b8-4ae2-4666-9331-7642784b574c ]] \r\n",
       "E1 *- - \"*\"E6 [[psysml:a8437b79-0ca7-4b3d-9ccd-1b1fd90c9a28 ]] \r\n",
       "E1 +.. \"*\"E6 [[psysml:df3b65d4-7483-4b88-b5f9-cbf727def8cf ]] \r\n",
       "@enduml\r\n",
       "\n",
       "PlantUML version 1.2020.13(Sat Jun 13 12:26:38 UTC 2020)\n",
       "(EPL source distribution)\n",
       "Java Runtime: OpenJDK Runtime Environment\n",
       "JVM: OpenJDK 64-Bit Server VM\n",
       "Default Encoding: UTF-8\n",
       "Language: en\n",
       "Country: null\n",
       "--></g></svg>"
      ]
     },
     "execution_count": 10,
     "metadata": {},
     "output_type": "execute_result"
    }
   ],
   "source": [
    "%viz --style=\"POLYLINE\" --view=\"Tree\" \"DecisionTest\""
   ]
  },
  {
   "cell_type": "code",
   "execution_count": 11,
   "id": "bb0a9f3c",
   "metadata": {
    "execution": {
     "iopub.execute_input": "2022-03-21T07:50:59.555084Z",
     "iopub.status.busy": "2022-03-21T07:50:59.554647Z",
     "iopub.status.idle": "2022-03-21T07:50:59.558998Z",
     "shell.execute_reply": "2022-03-21T07:50:59.559321Z"
    }
   },
   "outputs": [
    {
     "data": {
      "image/svg+xml": [
       "<?xml version=\"1.0\" encoding=\"UTF-8\" standalone=\"no\"?><svg xmlns=\"http://www.w3.org/2000/svg\" xmlns:xlink=\"http://www.w3.org/1999/xlink\" contentScriptType=\"application/ecmascript\" contentStyleType=\"text/css\" height=\"12px\" preserveAspectRatio=\"none\" style=\"width:12px;height:12px;\" version=\"1.1\" viewBox=\"0 0 12 12\" width=\"12px\" zoomAndPan=\"magnify\"><defs/><g><!--MD5=[896ac0e7a515d8dd7765a661cb4ee08b]\n",
       "@startuml\r\n",
       "skinparam linetype polyline\r\n",
       "skinparam monochrome true\r\n",
       "skinparam classbackgroundcolor white\r\n",
       "skinparam shadowing false\r\n",
       "skinparam wrapWidth 300\r\n",
       "hide circle\r\n",
       "\r\n",
       "@enduml\r\n",
       "\n",
       "PlantUML version 1.2020.13(Sat Jun 13 12:26:38 UTC 2020)\n",
       "(EPL source distribution)\n",
       "Java Runtime: OpenJDK Runtime Environment\n",
       "JVM: OpenJDK 64-Bit Server VM\n",
       "Default Encoding: UTF-8\n",
       "Language: en\n",
       "Country: null\n",
       "--></g></svg>"
      ]
     },
     "execution_count": 11,
     "metadata": {},
     "output_type": "execute_result"
    }
   ],
   "source": [
    "%viz --style=\"POLYLINE\" --view=\"State\" \"DecisionTest\""
   ]
  },
  {
   "cell_type": "code",
   "execution_count": 12,
   "id": "6a75e300",
   "metadata": {
    "execution": {
     "iopub.execute_input": "2022-03-21T07:50:59.609273Z",
     "iopub.status.busy": "2022-03-21T07:50:59.608866Z",
     "iopub.status.idle": "2022-03-21T07:50:59.647547Z",
     "shell.execute_reply": "2022-03-21T07:50:59.647868Z"
    }
   },
   "outputs": [
    {
     "data": {
      "image/svg+xml": [
       "<?xml version=\"1.0\" encoding=\"UTF-8\" standalone=\"no\"?><svg xmlns=\"http://www.w3.org/2000/svg\" xmlns:xlink=\"http://www.w3.org/1999/xlink\" contentScriptType=\"application/ecmascript\" contentStyleType=\"text/css\" height=\"356px\" preserveAspectRatio=\"none\" style=\"width:333px;height:356px;\" version=\"1.1\" viewBox=\"0 0 333 356\" width=\"333px\" zoomAndPan=\"magnify\"><defs/><g><!--MD5=[fbc87193dbaf4d95561dea2c320d4a47]\n",
       "cluster E1--><a href=\"psysml:62ac371c-e17a-420d-a580-1aab63005ed6\" target=\"_top\" title=\"psysml:62ac371c-e17a-420d-a580-1aab63005ed6\" xlink:actuate=\"onRequest\" xlink:href=\"psysml:62ac371c-e17a-420d-a580-1aab63005ed6\" xlink:show=\"new\" xlink:title=\"psysml:62ac371c-e17a-420d-a580-1aab63005ed6\" xlink:type=\"simple\"><rect fill=\"#FFFFFF\" height=\"338\" id=\"E1\" style=\"stroke: #383838; stroke-width: 1.5;\" width=\"315\" x=\"7\" y=\"7\"/><rect fill=\"#F8F8F8\" height=\"37.9375\" style=\"stroke: #383838; stroke-width: 1.5;\" width=\"315\" x=\"7\" y=\"7\"/><text fill=\"#000000\" font-family=\"sans-serif\" font-size=\"12\" font-style=\"italic\" lengthAdjust=\"spacingAndGlyphs\" textLength=\"81\" x=\"124\" y=\"23.1387\">«action  def»</text><text fill=\"#000000\" font-family=\"sans-serif\" font-size=\"12\" lengthAdjust=\"spacingAndGlyphs\" textLength=\"80\" x=\"124.5\" y=\"37.1074\">DecisionTest</text></a><polygon fill=\"#F8F8F8\" points=\"210,67.5,222,79.5,210,91.5,198,79.5,210,67.5\" style=\"stroke: #383838; stroke-width: 1.5;\"/><polygon fill=\"#F8F8F8\" points=\"35,143.5,47,155.5,35,167.5,23,155.5,35,143.5\" style=\"stroke: #383838; stroke-width: 1.5;\"/><g id=\"E1.E4\"><a href=\"psysml:bb8ae358-9e9d-46e4-9973-23f4ed00e117\" target=\"_top\" title=\"psysml:bb8ae358-9e9d-46e4-9973-23f4ed00e117\" xlink:actuate=\"onRequest\" xlink:href=\"psysml:bb8ae358-9e9d-46e4-9973-23f4ed00e117\" xlink:show=\"new\" xlink:title=\"psysml:bb8ae358-9e9d-46e4-9973-23f4ed00e117\" xlink:type=\"simple\"><rect fill=\"#FFFFFF\" height=\"42.9375\" id=\"E4\" rx=\"10\" ry=\"10\" style=\"stroke: #383838; stroke-width: 1.5;\" width=\"60\" x=\"135\" y=\"210\"/><rect fill=\"#F8F8F8\" height=\"37.9375\" rx=\"10\" ry=\"10\" style=\"stroke: #F8F8F8; stroke-width: 1.5;\" width=\"60\" x=\"135\" y=\"210\"/><rect fill=\"#F8F8F8\" height=\"10\" style=\"stroke: #F8F8F8; stroke-width: 1.5;\" width=\"60\" x=\"135\" y=\"237.9375\"/><rect fill=\"none\" height=\"42.9375\" id=\"E4\" rx=\"10\" ry=\"10\" style=\"stroke: #383838; stroke-width: 1.5;\" width=\"60\" x=\"135\" y=\"210\"/><text fill=\"#000000\" font-family=\"sans-serif\" font-size=\"12\" font-style=\"italic\" lengthAdjust=\"spacingAndGlyphs\" textLength=\"53\" x=\"138.5\" y=\"226.1387\">«action»</text><text fill=\"#000000\" font-family=\"sans-serif\" font-size=\"12\" lengthAdjust=\"spacingAndGlyphs\" textLength=\"16\" x=\"157\" y=\"240.1074\">A1</text></a></g><g id=\"E1.E5\"><a href=\"psysml:e7f91728-bf49-43a2-b90b-9012c9afe2c4\" target=\"_top\" title=\"psysml:e7f91728-bf49-43a2-b90b-9012c9afe2c4\" xlink:actuate=\"onRequest\" xlink:href=\"psysml:e7f91728-bf49-43a2-b90b-9012c9afe2c4\" xlink:show=\"new\" xlink:title=\"psysml:e7f91728-bf49-43a2-b90b-9012c9afe2c4\" xlink:type=\"simple\"><rect fill=\"#FFFFFF\" height=\"42.9375\" id=\"E5\" rx=\"10\" ry=\"10\" style=\"stroke: #383838; stroke-width: 1.5;\" width=\"60\" x=\"135\" y=\"286\"/><rect fill=\"#F8F8F8\" height=\"37.9375\" rx=\"10\" ry=\"10\" style=\"stroke: #F8F8F8; stroke-width: 1.5;\" width=\"60\" x=\"135\" y=\"286\"/><rect fill=\"#F8F8F8\" height=\"10\" style=\"stroke: #F8F8F8; stroke-width: 1.5;\" width=\"60\" x=\"135\" y=\"313.9375\"/><rect fill=\"none\" height=\"42.9375\" id=\"E5\" rx=\"10\" ry=\"10\" style=\"stroke: #383838; stroke-width: 1.5;\" width=\"60\" x=\"135\" y=\"286\"/><text fill=\"#000000\" font-family=\"sans-serif\" font-size=\"12\" font-style=\"italic\" lengthAdjust=\"spacingAndGlyphs\" textLength=\"53\" x=\"138.5\" y=\"302.1387\">«action»</text><text fill=\"#000000\" font-family=\"sans-serif\" font-size=\"12\" lengthAdjust=\"spacingAndGlyphs\" textLength=\"16\" x=\"157\" y=\"316.1074\">A2</text></a></g><g id=\"E1.E6\"><a href=\"psysml:0d8578a4-a91e-4bc0-9576-e9210611ea53\" target=\"_top\" title=\"psysml:0d8578a4-a91e-4bc0-9576-e9210611ea53\" xlink:actuate=\"onRequest\" xlink:href=\"psysml:0d8578a4-a91e-4bc0-9576-e9210611ea53\" xlink:show=\"new\" xlink:title=\"psysml:0d8578a4-a91e-4bc0-9576-e9210611ea53\" xlink:type=\"simple\"><rect fill=\"#FFFFFF\" height=\"42.9375\" id=\"E6\" rx=\"10\" ry=\"10\" style=\"stroke: #383838; stroke-width: 1.5;\" width=\"60\" x=\"63\" y=\"58\"/><rect fill=\"#F8F8F8\" height=\"37.9375\" rx=\"10\" ry=\"10\" style=\"stroke: #F8F8F8; stroke-width: 1.5;\" width=\"60\" x=\"63\" y=\"58\"/><rect fill=\"#F8F8F8\" height=\"10\" style=\"stroke: #F8F8F8; stroke-width: 1.5;\" width=\"60\" x=\"63\" y=\"85.9375\"/><rect fill=\"none\" height=\"42.9375\" id=\"E6\" rx=\"10\" ry=\"10\" style=\"stroke: #383838; stroke-width: 1.5;\" width=\"60\" x=\"63\" y=\"58\"/><text fill=\"#000000\" font-family=\"sans-serif\" font-size=\"12\" font-style=\"italic\" lengthAdjust=\"spacingAndGlyphs\" textLength=\"53\" x=\"66.5\" y=\"74.1387\">«action»</text><text fill=\"#000000\" font-family=\"sans-serif\" font-size=\"12\" lengthAdjust=\"spacingAndGlyphs\" textLength=\"16\" x=\"85\" y=\"88.1074\">A3</text></a></g><g id=\"E1.E7\"><a href=\"psysml:0d8578a4-a91e-4bc0-9576-e9210611ea53\" target=\"_top\" title=\"psysml:0d8578a4-a91e-4bc0-9576-e9210611ea53\" xlink:actuate=\"onRequest\" xlink:href=\"psysml:0d8578a4-a91e-4bc0-9576-e9210611ea53\" xlink:show=\"new\" xlink:title=\"psysml:0d8578a4-a91e-4bc0-9576-e9210611ea53\" xlink:type=\"simple\"><rect fill=\"#FFFFFF\" height=\"42.9375\" id=\"E7\" rx=\"10\" ry=\"10\" style=\"stroke: #383838; stroke-width: 1.5;\" width=\"60\" x=\"246\" y=\"134\"/><rect fill=\"#F8F8F8\" height=\"37.9375\" rx=\"10\" ry=\"10\" style=\"stroke: #F8F8F8; stroke-width: 1.5;\" width=\"60\" x=\"246\" y=\"134\"/><rect fill=\"#F8F8F8\" height=\"10\" style=\"stroke: #F8F8F8; stroke-width: 1.5;\" width=\"60\" x=\"246\" y=\"161.9375\"/><rect fill=\"none\" height=\"42.9375\" id=\"E7\" rx=\"10\" ry=\"10\" style=\"stroke: #383838; stroke-width: 1.5;\" width=\"60\" x=\"246\" y=\"134\"/><text fill=\"#000000\" font-family=\"sans-serif\" font-size=\"12\" font-style=\"italic\" lengthAdjust=\"spacingAndGlyphs\" textLength=\"53\" x=\"249.5\" y=\"150.1387\">«action»</text><text fill=\"#000000\" font-family=\"sans-serif\" font-size=\"12\" lengthAdjust=\"spacingAndGlyphs\" textLength=\"16\" x=\"268\" y=\"164.1074\">A3</text></a></g><!--MD5=[4d03bb2d0377dc85ccfab60ff574652b]\n",
       "link E2 to E4--><a href=\"psysml:8074e684-9dcd-4869-b14d-8570f637bde9\" target=\"_top\" title=\"psysml:8074e684-9dcd-4869-b14d-8570f637bde9\" xlink:actuate=\"onRequest\" xlink:href=\"psysml:8074e684-9dcd-4869-b14d-8570f637bde9\" xlink:show=\"new\" xlink:title=\"psysml:8074e684-9dcd-4869-b14d-8570f637bde9\" xlink:type=\"simple\"><path d=\"M203.91,85.44 C187.57,98.68 144,134 144,134 C144,134 144,177 144,177 C144,177 149.67,191.43 155.11,205.31 \" fill=\"none\" id=\"E2-&gt;E4\" style=\"stroke: #383838; stroke-width: 1.0;\"/><polygon fill=\"#383838\" points=\"156.94,209.97,157.374,200.1307,155.1126,205.3159,149.9274,203.0545,156.94,209.97\" style=\"stroke: #383838; stroke-width: 1.0;\"/><text fill=\"#000000\" font-family=\"sans-serif\" font-size=\"13\" lengthAdjust=\"spacingAndGlyphs\" textLength=\"55\" x=\"145\" y=\"160.0669\">[x == 1]</text><text fill=\"#000000\" font-family=\"sans-serif\" font-size=\"13\" lengthAdjust=\"spacingAndGlyphs\" textLength=\"7\" x=\"146.6888\" y=\"198.8997\">*</text></a><!--MD5=[dcad52bbbca2fe8adc741ce38b45dc12]\n",
       "link E2 to E5--><a href=\"psysml:3f3ee8aa-e9f7-416c-965c-8aff211aef79\" target=\"_top\" title=\"psysml:3f3ee8aa-e9f7-416c-965c-8aff211aef79\" xlink:actuate=\"onRequest\" xlink:href=\"psysml:3f3ee8aa-e9f7-416c-965c-8aff211aef79\" xlink:show=\"new\" xlink:title=\"psysml:3f3ee8aa-e9f7-416c-965c-8aff211aef79\" xlink:type=\"simple\"><path d=\"M210.91,90.72 C214.29,128.91 226,261 226,261 C226,261 226,278 226,278 C226,278 213.5,283.84 199.81,290.24 \" fill=\"none\" id=\"E2-&gt;E5\" style=\"stroke: #383838; stroke-width: 1.0;\"/><polygon fill=\"#383838\" points=\"195.14,292.42,204.9874,292.2489,199.6731,290.3103,201.6118,284.996,195.14,292.42\" style=\"stroke: #383838; stroke-width: 1.0;\"/><text fill=\"#000000\" font-family=\"sans-serif\" font-size=\"13\" lengthAdjust=\"spacingAndGlyphs\" textLength=\"44\" x=\"221\" y=\"198.0669\">[x &gt; 1]</text><text fill=\"#000000\" font-family=\"sans-serif\" font-size=\"13\" lengthAdjust=\"spacingAndGlyphs\" textLength=\"7\" x=\"202.9192\" y=\"284.2879\">*</text></a><!--MD5=[e3d2a08a9c9236652057e8ed0cbc9b62]\n",
       "link E2 to E7--><a href=\"psysml:5268f6a4-a59c-47f8-920f-30c5900c34c3\" target=\"_top\" title=\"psysml:5268f6a4-a59c-47f8-920f-30c5900c34c3\" xlink:actuate=\"onRequest\" xlink:href=\"psysml:5268f6a4-a59c-47f8-920f-30c5900c34c3\" xlink:show=\"new\" xlink:title=\"psysml:5268f6a4-a59c-47f8-920f-30c5900c34c3\" xlink:type=\"simple\"><path d=\"M212.51,89.27 C216.28,102.49 223,126 223,126 C223,126 231.18,130.4 241.12,135.74 \" fill=\"none\" id=\"E2-&gt;E7\" style=\"stroke: #383838; stroke-width: 1.0;\"/><polygon fill=\"#383838\" points=\"245.78,138.25,239.7446,130.467,241.3754,135.8838,235.9586,137.5145,245.78,138.25\" style=\"stroke: #383838; stroke-width: 1.0;\"/><text fill=\"#000000\" font-family=\"sans-serif\" font-size=\"13\" lengthAdjust=\"spacingAndGlyphs\" textLength=\"7\" x=\"230.9823\" y=\"129.616\">*</text></a><!--MD5=[583832df87f4419a098336a29a52fa00]\n",
       "link E7 to E2--><a href=\"psysml:1fcd52fd-d040-4c7e-90de-1e4181f9ba4a\" target=\"_top\" title=\"psysml:1fcd52fd-d040-4c7e-90de-1e4181f9ba4a\" xlink:actuate=\"onRequest\" xlink:href=\"psysml:1fcd52fd-d040-4c7e-90de-1e4181f9ba4a\" xlink:show=\"new\" xlink:title=\"psysml:1fcd52fd-d040-4c7e-90de-1e4181f9ba4a\" xlink:type=\"simple\"><path d=\"M257.61,133.88 C245.02,119.76 228.86,101.65 218.98,90.57 \" fill=\"none\" id=\"E7-&gt;E2\" style=\"stroke: #383838; stroke-width: 1.0;\"/><polygon fill=\"#383838\" points=\"215.4,86.56,218.3919,95.9434,218.7227,90.2963,224.3699,90.6271,215.4,86.56\" style=\"stroke: #383838; stroke-width: 1.0;\"/><text fill=\"#000000\" font-family=\"sans-serif\" font-size=\"13\" lengthAdjust=\"spacingAndGlyphs\" textLength=\"44\" x=\"249\" y=\"122.0669\">[x &gt; 0]</text><text fill=\"#000000\" font-family=\"sans-serif\" font-size=\"13\" lengthAdjust=\"spacingAndGlyphs\" textLength=\"7\" x=\"210.0625\" y=\"111.425\">*</text></a><!--MD5=[2720a5a1f2c3fca2055b230370638851]\n",
       "link E2 to E3--><a href=\"psysml:c0d6c8f2-adfa-4de5-8b53-fd445de20c7a\" target=\"_top\" title=\"psysml:c0d6c8f2-adfa-4de5-8b53-fd445de20c7a\" xlink:actuate=\"onRequest\" xlink:href=\"psysml:c0d6c8f2-adfa-4de5-8b53-fd445de20c7a\" xlink:show=\"new\" xlink:title=\"psysml:c0d6c8f2-adfa-4de5-8b53-fd445de20c7a\" xlink:type=\"simple\"><path d=\"M201.26,83.1 C182.69,88.61 141,101 141,101 C141,101 108,109 108,109 C108,109 66.75,134.71 46.26,147.48 \" fill=\"none\" id=\"E2-&gt;E3\" style=\"stroke: #383838; stroke-width: 1.0;\"/><polygon fill=\"#383838\" points=\"42,150.14,51.7541,148.7768,46.244,147.4964,47.5243,141.9864,42,150.14\" style=\"stroke: #383838; stroke-width: 1.0;\"/><text fill=\"#000000\" font-family=\"sans-serif\" font-size=\"13\" lengthAdjust=\"spacingAndGlyphs\" textLength=\"7\" x=\"54.3375\" y=\"132.1744\">*</text></a><!--MD5=[af87c684e3b0d8be13c1a698a818ef1e]\n",
       "link E3 to E4--><a href=\"psysml:647fb379-8896-403f-81c0-e54862ace948\" target=\"_top\" title=\"psysml:647fb379-8896-403f-81c0-e54862ace948\" xlink:actuate=\"onRequest\" xlink:href=\"psysml:647fb379-8896-403f-81c0-e54862ace948\" xlink:show=\"new\" xlink:title=\"psysml:647fb379-8896-403f-81c0-e54862ace948\" xlink:type=\"simple\"><path d=\"M41.01,162.08 C54.09,174.23 84,202 84,202 C84,202 108,210 108,210 C108,210 118.26,213.69 130.07,217.94 \" fill=\"none\" id=\"E3-&gt;E4\" style=\"stroke: #383838; stroke-width: 1.0;\"/><polygon fill=\"#383838\" points=\"134.83,219.65,127.7272,212.8273,130.1281,217.9493,125.0061,220.3503,134.83,219.65\" style=\"stroke: #383838; stroke-width: 1.0;\"/><text fill=\"#000000\" font-family=\"sans-serif\" font-size=\"13\" lengthAdjust=\"spacingAndGlyphs\" textLength=\"36\" x=\"85\" y=\"198.0669\">[true]</text><text fill=\"#000000\" font-family=\"sans-serif\" font-size=\"13\" lengthAdjust=\"spacingAndGlyphs\" textLength=\"7\" x=\"120.0438\" y=\"212.2648\">*</text></a><!--MD5=[0188b64bb0ae78505a997a81836e11e9]\n",
       "link E3 to E5--><a href=\"psysml:1317e145-771b-48e4-a88c-08ae6f2caba6\" target=\"_top\" title=\"psysml:1317e145-771b-48e4-a88c-08ae6f2caba6\" xlink:actuate=\"onRequest\" xlink:href=\"psysml:1317e145-771b-48e4-a88c-08ae6f2caba6\" xlink:show=\"new\" xlink:title=\"psysml:1317e145-771b-48e4-a88c-08ae6f2caba6\" xlink:type=\"simple\"><path d=\"M38.36,164.4 C48.15,187.44 76,253 76,253 C76,253 105.53,270.75 130.57,285.81 \" fill=\"none\" id=\"E3-&gt;E5\" style=\"stroke: #383838; stroke-width: 1.0;\"/><polygon fill=\"#383838\" points=\"134.87,288.39,129.2105,280.3296,130.5825,285.8175,125.0946,287.1895,134.87,288.39\" style=\"stroke: #383838; stroke-width: 1.0;\"/><text fill=\"#000000\" font-family=\"sans-serif\" font-size=\"13\" lengthAdjust=\"spacingAndGlyphs\" textLength=\"40\" x=\"77\" y=\"236.0669\">[false]</text><text fill=\"#000000\" font-family=\"sans-serif\" font-size=\"13\" lengthAdjust=\"spacingAndGlyphs\" textLength=\"7\" x=\"120.0931\" y=\"279.3259\">*</text></a><!--MD5=[1b7591eae5389033d8d09a9d6721a717]\n",
       "link E4 to E5--><a href=\"psysml:23f0aa3a-74d1-4632-9e57-f97d17e19ec4\" target=\"_top\" title=\"psysml:23f0aa3a-74d1-4632-9e57-f97d17e19ec4\" xlink:actuate=\"onRequest\" xlink:href=\"psysml:23f0aa3a-74d1-4632-9e57-f97d17e19ec4\" xlink:show=\"new\" xlink:title=\"psysml:23f0aa3a-74d1-4632-9e57-f97d17e19ec4\" xlink:type=\"simple\"><path d=\"M165,253.11 C165,261.69 165,271.75 165,280.8 \" fill=\"none\" id=\"E4-&gt;E5\" style=\"stroke: #383838; stroke-width: 1.0;\"/><polygon fill=\"#383838\" points=\"165,286,169,277,165,281,161,277,165,286\" style=\"stroke: #383838; stroke-width: 1.0;\"/><text fill=\"#000000\" font-family=\"sans-serif\" font-size=\"13\" lengthAdjust=\"spacingAndGlyphs\" textLength=\"55\" x=\"166\" y=\"274.0669\">[x == 0]</text><text fill=\"#000000\" font-family=\"sans-serif\" font-size=\"13\" lengthAdjust=\"spacingAndGlyphs\" textLength=\"7\" x=\"157.0156\" y=\"274.9381\">*</text></a><!--MD5=[bcea630e4d467bd23989ab802c210f11]\n",
       "@startuml\r\n",
       "skinparam ranksep 10\r\n",
       "skinparam rectangle {\r\n",
       " backgroundColor<<block>> LightGreen\r\n",
       "}\r\n",
       "skinparam linetype polyline\r\n",
       "skinparam monochrome true\r\n",
       "skinparam classbackgroundcolor white\r\n",
       "skinparam shadowing false\r\n",
       "skinparam wrapWidth 300\r\n",
       "hide circle\r\n",
       "\r\n",
       "rec def \"DecisionTest\" as E1  <<(T,blue) action  def>> [[psysml:62ac371c-e17a-420d-a580-1aab63005ed6 ]] {\r\n",
       "choice \"test x\" as E2  [[psysml:2e150d19-c5c5-4276-9136-9fe31d212434 ]] \r\n",
       "choice \"<s>noname</s>\" as E3  [[psysml:cc5b619c-f329-4ed7-9a64-7943d6ed9569 ]] \r\n",
       "rec usage \"A1\" as E4  <<(T,blue) action>> [[psysml:bb8ae358-9e9d-46e4-9973-23f4ed00e117 ]] {\r\n",
       "}\r\n",
       "\r\n",
       "rec usage \"A2\" as E5  <<(T,blue) action>> [[psysml:e7f91728-bf49-43a2-b90b-9012c9afe2c4 ]] {\r\n",
       "}\r\n",
       "\r\n",
       "rec usage \"A3\" as E6  <<(T,blue) action>> [[psysml:0d8578a4-a91e-4bc0-9576-e9210611ea53 ]] {\r\n",
       "}\r\n",
       "\r\n",
       "rec usage \"A3\" as E7  <<(T,blue) action>> [[psysml:0d8578a4-a91e-4bc0-9576-e9210611ea53 ]] {\r\n",
       "}\r\n",
       "\r\n",
       "}\r\n",
       "\r\n",
       "E2  - -> \"*\"E4 [[psysml:8074e684-9dcd-4869-b14d-8570f637bde9 ]] : [x == 1]\r\n",
       "E2  - -> \"*\"E5 [[psysml:3f3ee8aa-e9f7-416c-965c-8aff211aef79 ]] : [x > 1]\r\n",
       "E2  - -> \"*\"E7 [[psysml:5268f6a4-a59c-47f8-920f-30c5900c34c3 ]] \r\n",
       "E2 - -> \"*\"E3 [[psysml:c0d6c8f2-adfa-4de5-8b53-fd445de20c7a ]] \r\n",
       "E3  - -> \"*\"E4 [[psysml:647fb379-8896-403f-81c0-e54862ace948 ]] : [true]\r\n",
       "E3  - -> \"*\"E5 [[psysml:1317e145-771b-48e4-a88c-08ae6f2caba6 ]] : [false]\r\n",
       "E4  - -> \"*\"E5 [[psysml:23f0aa3a-74d1-4632-9e57-f97d17e19ec4 ]] : [x == 0]\r\n",
       "E7  - -> \"*\"E2 [[psysml:1fcd52fd-d040-4c7e-90de-1e4181f9ba4a ]] : [x > 0]\r\n",
       "@enduml\r\n",
       "\n",
       "PlantUML version 1.2020.13(Sat Jun 13 12:26:38 UTC 2020)\n",
       "(EPL source distribution)\n",
       "Java Runtime: OpenJDK Runtime Environment\n",
       "JVM: OpenJDK 64-Bit Server VM\n",
       "Default Encoding: UTF-8\n",
       "Language: en\n",
       "Country: null\n",
       "--></g></svg>"
      ]
     },
     "execution_count": 12,
     "metadata": {},
     "output_type": "execute_result"
    }
   ],
   "source": [
    "%viz --style=\"POLYLINE\" --view=\"Interconnection\" \"DecisionTest\""
   ]
  },
  {
   "cell_type": "code",
   "execution_count": 13,
   "id": "adbb0f7f",
   "metadata": {
    "execution": {
     "iopub.execute_input": "2022-03-21T07:50:59.697900Z",
     "iopub.status.busy": "2022-03-21T07:50:59.697498Z",
     "iopub.status.idle": "2022-03-21T07:50:59.741779Z",
     "shell.execute_reply": "2022-03-21T07:50:59.741417Z"
    }
   },
   "outputs": [
    {
     "data": {
      "image/svg+xml": [
       "<?xml version=\"1.0\" encoding=\"UTF-8\" standalone=\"no\"?><svg xmlns=\"http://www.w3.org/2000/svg\" xmlns:xlink=\"http://www.w3.org/1999/xlink\" contentScriptType=\"application/ecmascript\" contentStyleType=\"text/css\" height=\"356px\" preserveAspectRatio=\"none\" style=\"width:333px;height:356px;\" version=\"1.1\" viewBox=\"0 0 333 356\" width=\"333px\" zoomAndPan=\"magnify\"><defs/><g><!--MD5=[fbc87193dbaf4d95561dea2c320d4a47]\n",
       "cluster E1--><a href=\"psysml:62ac371c-e17a-420d-a580-1aab63005ed6\" target=\"_top\" title=\"psysml:62ac371c-e17a-420d-a580-1aab63005ed6\" xlink:actuate=\"onRequest\" xlink:href=\"psysml:62ac371c-e17a-420d-a580-1aab63005ed6\" xlink:show=\"new\" xlink:title=\"psysml:62ac371c-e17a-420d-a580-1aab63005ed6\" xlink:type=\"simple\"><rect fill=\"#FFFFFF\" height=\"338\" id=\"E1\" style=\"stroke: #383838; stroke-width: 1.5;\" width=\"315\" x=\"7\" y=\"7\"/><rect fill=\"#F8F8F8\" height=\"37.9375\" style=\"stroke: #383838; stroke-width: 1.5;\" width=\"315\" x=\"7\" y=\"7\"/><text fill=\"#000000\" font-family=\"sans-serif\" font-size=\"12\" font-style=\"italic\" lengthAdjust=\"spacingAndGlyphs\" textLength=\"81\" x=\"124\" y=\"23.1387\">«action  def»</text><text fill=\"#000000\" font-family=\"sans-serif\" font-size=\"12\" lengthAdjust=\"spacingAndGlyphs\" textLength=\"80\" x=\"124.5\" y=\"37.1074\">DecisionTest</text></a><polygon fill=\"#F8F8F8\" points=\"210,67.5,222,79.5,210,91.5,198,79.5,210,67.5\" style=\"stroke: #383838; stroke-width: 1.5;\"/><polygon fill=\"#F8F8F8\" points=\"35,143.5,47,155.5,35,167.5,23,155.5,35,143.5\" style=\"stroke: #383838; stroke-width: 1.5;\"/><g id=\"E1.E4\"><a href=\"psysml:bb8ae358-9e9d-46e4-9973-23f4ed00e117\" target=\"_top\" title=\"psysml:bb8ae358-9e9d-46e4-9973-23f4ed00e117\" xlink:actuate=\"onRequest\" xlink:href=\"psysml:bb8ae358-9e9d-46e4-9973-23f4ed00e117\" xlink:show=\"new\" xlink:title=\"psysml:bb8ae358-9e9d-46e4-9973-23f4ed00e117\" xlink:type=\"simple\"><rect fill=\"#FFFFFF\" height=\"42.9375\" id=\"E4\" rx=\"10\" ry=\"10\" style=\"stroke: #383838; stroke-width: 1.5;\" width=\"60\" x=\"135\" y=\"210\"/><rect fill=\"#F8F8F8\" height=\"37.9375\" rx=\"10\" ry=\"10\" style=\"stroke: #F8F8F8; stroke-width: 1.5;\" width=\"60\" x=\"135\" y=\"210\"/><rect fill=\"#F8F8F8\" height=\"10\" style=\"stroke: #F8F8F8; stroke-width: 1.5;\" width=\"60\" x=\"135\" y=\"237.9375\"/><rect fill=\"none\" height=\"42.9375\" id=\"E4\" rx=\"10\" ry=\"10\" style=\"stroke: #383838; stroke-width: 1.5;\" width=\"60\" x=\"135\" y=\"210\"/><text fill=\"#000000\" font-family=\"sans-serif\" font-size=\"12\" font-style=\"italic\" lengthAdjust=\"spacingAndGlyphs\" textLength=\"53\" x=\"138.5\" y=\"226.1387\">«action»</text><text fill=\"#000000\" font-family=\"sans-serif\" font-size=\"12\" lengthAdjust=\"spacingAndGlyphs\" textLength=\"16\" x=\"157\" y=\"240.1074\">A1</text></a></g><g id=\"E1.E5\"><a href=\"psysml:e7f91728-bf49-43a2-b90b-9012c9afe2c4\" target=\"_top\" title=\"psysml:e7f91728-bf49-43a2-b90b-9012c9afe2c4\" xlink:actuate=\"onRequest\" xlink:href=\"psysml:e7f91728-bf49-43a2-b90b-9012c9afe2c4\" xlink:show=\"new\" xlink:title=\"psysml:e7f91728-bf49-43a2-b90b-9012c9afe2c4\" xlink:type=\"simple\"><rect fill=\"#FFFFFF\" height=\"42.9375\" id=\"E5\" rx=\"10\" ry=\"10\" style=\"stroke: #383838; stroke-width: 1.5;\" width=\"60\" x=\"135\" y=\"286\"/><rect fill=\"#F8F8F8\" height=\"37.9375\" rx=\"10\" ry=\"10\" style=\"stroke: #F8F8F8; stroke-width: 1.5;\" width=\"60\" x=\"135\" y=\"286\"/><rect fill=\"#F8F8F8\" height=\"10\" style=\"stroke: #F8F8F8; stroke-width: 1.5;\" width=\"60\" x=\"135\" y=\"313.9375\"/><rect fill=\"none\" height=\"42.9375\" id=\"E5\" rx=\"10\" ry=\"10\" style=\"stroke: #383838; stroke-width: 1.5;\" width=\"60\" x=\"135\" y=\"286\"/><text fill=\"#000000\" font-family=\"sans-serif\" font-size=\"12\" font-style=\"italic\" lengthAdjust=\"spacingAndGlyphs\" textLength=\"53\" x=\"138.5\" y=\"302.1387\">«action»</text><text fill=\"#000000\" font-family=\"sans-serif\" font-size=\"12\" lengthAdjust=\"spacingAndGlyphs\" textLength=\"16\" x=\"157\" y=\"316.1074\">A2</text></a></g><g id=\"E1.E6\"><a href=\"psysml:0d8578a4-a91e-4bc0-9576-e9210611ea53\" target=\"_top\" title=\"psysml:0d8578a4-a91e-4bc0-9576-e9210611ea53\" xlink:actuate=\"onRequest\" xlink:href=\"psysml:0d8578a4-a91e-4bc0-9576-e9210611ea53\" xlink:show=\"new\" xlink:title=\"psysml:0d8578a4-a91e-4bc0-9576-e9210611ea53\" xlink:type=\"simple\"><rect fill=\"#FFFFFF\" height=\"42.9375\" id=\"E6\" rx=\"10\" ry=\"10\" style=\"stroke: #383838; stroke-width: 1.5;\" width=\"60\" x=\"63\" y=\"58\"/><rect fill=\"#F8F8F8\" height=\"37.9375\" rx=\"10\" ry=\"10\" style=\"stroke: #F8F8F8; stroke-width: 1.5;\" width=\"60\" x=\"63\" y=\"58\"/><rect fill=\"#F8F8F8\" height=\"10\" style=\"stroke: #F8F8F8; stroke-width: 1.5;\" width=\"60\" x=\"63\" y=\"85.9375\"/><rect fill=\"none\" height=\"42.9375\" id=\"E6\" rx=\"10\" ry=\"10\" style=\"stroke: #383838; stroke-width: 1.5;\" width=\"60\" x=\"63\" y=\"58\"/><text fill=\"#000000\" font-family=\"sans-serif\" font-size=\"12\" font-style=\"italic\" lengthAdjust=\"spacingAndGlyphs\" textLength=\"53\" x=\"66.5\" y=\"74.1387\">«action»</text><text fill=\"#000000\" font-family=\"sans-serif\" font-size=\"12\" lengthAdjust=\"spacingAndGlyphs\" textLength=\"16\" x=\"85\" y=\"88.1074\">A3</text></a></g><g id=\"E1.E7\"><a href=\"psysml:0d8578a4-a91e-4bc0-9576-e9210611ea53\" target=\"_top\" title=\"psysml:0d8578a4-a91e-4bc0-9576-e9210611ea53\" xlink:actuate=\"onRequest\" xlink:href=\"psysml:0d8578a4-a91e-4bc0-9576-e9210611ea53\" xlink:show=\"new\" xlink:title=\"psysml:0d8578a4-a91e-4bc0-9576-e9210611ea53\" xlink:type=\"simple\"><rect fill=\"#FFFFFF\" height=\"42.9375\" id=\"E7\" rx=\"10\" ry=\"10\" style=\"stroke: #383838; stroke-width: 1.5;\" width=\"60\" x=\"246\" y=\"134\"/><rect fill=\"#F8F8F8\" height=\"37.9375\" rx=\"10\" ry=\"10\" style=\"stroke: #F8F8F8; stroke-width: 1.5;\" width=\"60\" x=\"246\" y=\"134\"/><rect fill=\"#F8F8F8\" height=\"10\" style=\"stroke: #F8F8F8; stroke-width: 1.5;\" width=\"60\" x=\"246\" y=\"161.9375\"/><rect fill=\"none\" height=\"42.9375\" id=\"E7\" rx=\"10\" ry=\"10\" style=\"stroke: #383838; stroke-width: 1.5;\" width=\"60\" x=\"246\" y=\"134\"/><text fill=\"#000000\" font-family=\"sans-serif\" font-size=\"12\" font-style=\"italic\" lengthAdjust=\"spacingAndGlyphs\" textLength=\"53\" x=\"249.5\" y=\"150.1387\">«action»</text><text fill=\"#000000\" font-family=\"sans-serif\" font-size=\"12\" lengthAdjust=\"spacingAndGlyphs\" textLength=\"16\" x=\"268\" y=\"164.1074\">A3</text></a></g><!--MD5=[4d03bb2d0377dc85ccfab60ff574652b]\n",
       "link E2 to E4--><a href=\"psysml:8074e684-9dcd-4869-b14d-8570f637bde9\" target=\"_top\" title=\"psysml:8074e684-9dcd-4869-b14d-8570f637bde9\" xlink:actuate=\"onRequest\" xlink:href=\"psysml:8074e684-9dcd-4869-b14d-8570f637bde9\" xlink:show=\"new\" xlink:title=\"psysml:8074e684-9dcd-4869-b14d-8570f637bde9\" xlink:type=\"simple\"><path d=\"M203.91,85.44 C187.57,98.68 144,134 144,134 C144,134 144,177 144,177 C144,177 149.67,191.43 155.11,205.31 \" fill=\"none\" id=\"E2-&gt;E4\" style=\"stroke: #383838; stroke-width: 1.0; stroke-dasharray: 7.0,7.0;\"/><polygon fill=\"#383838\" points=\"156.94,209.97,157.374,200.1307,155.1126,205.3159,149.9274,203.0545,156.94,209.97\" style=\"stroke: #383838; stroke-width: 1.0;\"/><text fill=\"#000000\" font-family=\"sans-serif\" font-size=\"13\" lengthAdjust=\"spacingAndGlyphs\" textLength=\"55\" x=\"145\" y=\"160.0669\">[x == 1]</text></a><!--MD5=[dcad52bbbca2fe8adc741ce38b45dc12]\n",
       "link E2 to E5--><a href=\"psysml:3f3ee8aa-e9f7-416c-965c-8aff211aef79\" target=\"_top\" title=\"psysml:3f3ee8aa-e9f7-416c-965c-8aff211aef79\" xlink:actuate=\"onRequest\" xlink:href=\"psysml:3f3ee8aa-e9f7-416c-965c-8aff211aef79\" xlink:show=\"new\" xlink:title=\"psysml:3f3ee8aa-e9f7-416c-965c-8aff211aef79\" xlink:type=\"simple\"><path d=\"M210.91,90.72 C214.29,128.91 226,261 226,261 C226,261 226,278 226,278 C226,278 213.5,283.84 199.81,290.24 \" fill=\"none\" id=\"E2-&gt;E5\" style=\"stroke: #383838; stroke-width: 1.0; stroke-dasharray: 7.0,7.0;\"/><polygon fill=\"#383838\" points=\"195.14,292.42,204.9874,292.2489,199.6731,290.3103,201.6118,284.996,195.14,292.42\" style=\"stroke: #383838; stroke-width: 1.0;\"/><text fill=\"#000000\" font-family=\"sans-serif\" font-size=\"13\" lengthAdjust=\"spacingAndGlyphs\" textLength=\"44\" x=\"221\" y=\"198.0669\">[x &gt; 1]</text></a><!--MD5=[e3d2a08a9c9236652057e8ed0cbc9b62]\n",
       "link E2 to E7--><a href=\"psysml:5268f6a4-a59c-47f8-920f-30c5900c34c3\" target=\"_top\" title=\"psysml:5268f6a4-a59c-47f8-920f-30c5900c34c3\" xlink:actuate=\"onRequest\" xlink:href=\"psysml:5268f6a4-a59c-47f8-920f-30c5900c34c3\" xlink:show=\"new\" xlink:title=\"psysml:5268f6a4-a59c-47f8-920f-30c5900c34c3\" xlink:type=\"simple\"><path d=\"M212.51,89.27 C216.28,102.49 223,126 223,126 C223,126 231.18,130.4 241.12,135.74 \" fill=\"none\" id=\"E2-&gt;E7\" style=\"stroke: #383838; stroke-width: 1.0; stroke-dasharray: 7.0,7.0;\"/><polygon fill=\"#383838\" points=\"245.78,138.25,239.7446,130.467,241.3754,135.8838,235.9586,137.5145,245.78,138.25\" style=\"stroke: #383838; stroke-width: 1.0;\"/></a><!--MD5=[583832df87f4419a098336a29a52fa00]\n",
       "link E7 to E2--><a href=\"psysml:1fcd52fd-d040-4c7e-90de-1e4181f9ba4a\" target=\"_top\" title=\"psysml:1fcd52fd-d040-4c7e-90de-1e4181f9ba4a\" xlink:actuate=\"onRequest\" xlink:href=\"psysml:1fcd52fd-d040-4c7e-90de-1e4181f9ba4a\" xlink:show=\"new\" xlink:title=\"psysml:1fcd52fd-d040-4c7e-90de-1e4181f9ba4a\" xlink:type=\"simple\"><path d=\"M257.61,133.88 C245.02,119.76 228.86,101.65 218.98,90.57 \" fill=\"none\" id=\"E7-&gt;E2\" style=\"stroke: #383838; stroke-width: 1.0; stroke-dasharray: 7.0,7.0;\"/><polygon fill=\"#383838\" points=\"215.4,86.56,218.3919,95.9434,218.7227,90.2963,224.3699,90.6271,215.4,86.56\" style=\"stroke: #383838; stroke-width: 1.0;\"/><text fill=\"#000000\" font-family=\"sans-serif\" font-size=\"13\" lengthAdjust=\"spacingAndGlyphs\" textLength=\"44\" x=\"249\" y=\"122.0669\">[x &gt; 0]</text></a><!--MD5=[2720a5a1f2c3fca2055b230370638851]\n",
       "link E2 to E3--><a href=\"psysml:c0d6c8f2-adfa-4de5-8b53-fd445de20c7a\" target=\"_top\" title=\"psysml:c0d6c8f2-adfa-4de5-8b53-fd445de20c7a\" xlink:actuate=\"onRequest\" xlink:href=\"psysml:c0d6c8f2-adfa-4de5-8b53-fd445de20c7a\" xlink:show=\"new\" xlink:title=\"psysml:c0d6c8f2-adfa-4de5-8b53-fd445de20c7a\" xlink:type=\"simple\"><path d=\"M201.26,83.1 C182.69,88.61 141,101 141,101 C141,101 108,109 108,109 C108,109 66.75,134.71 46.26,147.48 \" fill=\"none\" id=\"E2-&gt;E3\" style=\"stroke: #383838; stroke-width: 1.0; stroke-dasharray: 7.0,7.0;\"/><polygon fill=\"#383838\" points=\"42,150.14,51.7541,148.7768,46.244,147.4964,47.5243,141.9864,42,150.14\" style=\"stroke: #383838; stroke-width: 1.0;\"/></a><!--MD5=[af87c684e3b0d8be13c1a698a818ef1e]\n",
       "link E3 to E4--><a href=\"psysml:647fb379-8896-403f-81c0-e54862ace948\" target=\"_top\" title=\"psysml:647fb379-8896-403f-81c0-e54862ace948\" xlink:actuate=\"onRequest\" xlink:href=\"psysml:647fb379-8896-403f-81c0-e54862ace948\" xlink:show=\"new\" xlink:title=\"psysml:647fb379-8896-403f-81c0-e54862ace948\" xlink:type=\"simple\"><path d=\"M41.01,162.08 C54.09,174.23 84,202 84,202 C84,202 108,210 108,210 C108,210 118.26,213.69 130.07,217.94 \" fill=\"none\" id=\"E3-&gt;E4\" style=\"stroke: #383838; stroke-width: 1.0; stroke-dasharray: 7.0,7.0;\"/><polygon fill=\"#383838\" points=\"134.83,219.65,127.7272,212.8273,130.1281,217.9493,125.0061,220.3503,134.83,219.65\" style=\"stroke: #383838; stroke-width: 1.0;\"/><text fill=\"#000000\" font-family=\"sans-serif\" font-size=\"13\" lengthAdjust=\"spacingAndGlyphs\" textLength=\"36\" x=\"85\" y=\"198.0669\">[true]</text></a><!--MD5=[0188b64bb0ae78505a997a81836e11e9]\n",
       "link E3 to E5--><a href=\"psysml:1317e145-771b-48e4-a88c-08ae6f2caba6\" target=\"_top\" title=\"psysml:1317e145-771b-48e4-a88c-08ae6f2caba6\" xlink:actuate=\"onRequest\" xlink:href=\"psysml:1317e145-771b-48e4-a88c-08ae6f2caba6\" xlink:show=\"new\" xlink:title=\"psysml:1317e145-771b-48e4-a88c-08ae6f2caba6\" xlink:type=\"simple\"><path d=\"M38.36,164.4 C48.15,187.44 76,253 76,253 C76,253 105.53,270.75 130.57,285.81 \" fill=\"none\" id=\"E3-&gt;E5\" style=\"stroke: #383838; stroke-width: 1.0; stroke-dasharray: 7.0,7.0;\"/><polygon fill=\"#383838\" points=\"134.87,288.39,129.2105,280.3296,130.5825,285.8175,125.0946,287.1895,134.87,288.39\" style=\"stroke: #383838; stroke-width: 1.0;\"/><text fill=\"#000000\" font-family=\"sans-serif\" font-size=\"13\" lengthAdjust=\"spacingAndGlyphs\" textLength=\"40\" x=\"77\" y=\"236.0669\">[false]</text></a><!--MD5=[1b7591eae5389033d8d09a9d6721a717]\n",
       "link E4 to E5--><a href=\"psysml:23f0aa3a-74d1-4632-9e57-f97d17e19ec4\" target=\"_top\" title=\"psysml:23f0aa3a-74d1-4632-9e57-f97d17e19ec4\" xlink:actuate=\"onRequest\" xlink:href=\"psysml:23f0aa3a-74d1-4632-9e57-f97d17e19ec4\" xlink:show=\"new\" xlink:title=\"psysml:23f0aa3a-74d1-4632-9e57-f97d17e19ec4\" xlink:type=\"simple\"><path d=\"M165,253.11 C165,261.69 165,271.75 165,280.8 \" fill=\"none\" id=\"E4-&gt;E5\" style=\"stroke: #383838; stroke-width: 1.0; stroke-dasharray: 7.0,7.0;\"/><polygon fill=\"#383838\" points=\"165,286,169,277,165,281,161,277,165,286\" style=\"stroke: #383838; stroke-width: 1.0;\"/><text fill=\"#000000\" font-family=\"sans-serif\" font-size=\"13\" lengthAdjust=\"spacingAndGlyphs\" textLength=\"55\" x=\"166\" y=\"274.0669\">[x == 0]</text></a><!--MD5=[b1324d83fb3aea29a70082f99c16cb6e]\n",
       "@startuml\r\n",
       "skinparam ranksep 8\r\n",
       "skinparam linetype polyline\r\n",
       "skinparam monochrome true\r\n",
       "skinparam classbackgroundcolor white\r\n",
       "skinparam shadowing false\r\n",
       "skinparam wrapWidth 300\r\n",
       "hide circle\r\n",
       "\r\n",
       "rec def \"DecisionTest\" as E1  <<(T,blue) action  def>> [[psysml:62ac371c-e17a-420d-a580-1aab63005ed6 ]] {\r\n",
       "choice \"test x\" as E2  [[psysml:2e150d19-c5c5-4276-9136-9fe31d212434 ]] \r\n",
       "choice \"<s>noname</s>\" as E3  [[psysml:cc5b619c-f329-4ed7-9a64-7943d6ed9569 ]] \r\n",
       "rec usage \"A1\" as E4  <<(T,blue) action>> [[psysml:bb8ae358-9e9d-46e4-9973-23f4ed00e117 ]] {\r\n",
       "}\r\n",
       "\r\n",
       "rec usage \"A2\" as E5  <<(T,blue) action>> [[psysml:e7f91728-bf49-43a2-b90b-9012c9afe2c4 ]] {\r\n",
       "}\r\n",
       "\r\n",
       "rec usage \"A3\" as E6  <<(T,blue) action>> [[psysml:0d8578a4-a91e-4bc0-9576-e9210611ea53 ]] {\r\n",
       "}\r\n",
       "\r\n",
       "rec usage \"A3\" as E7  <<(T,blue) action>> [[psysml:0d8578a4-a91e-4bc0-9576-e9210611ea53 ]] {\r\n",
       "}\r\n",
       "\r\n",
       "}\r\n",
       "\r\n",
       "E2 ..> E4 [[psysml:8074e684-9dcd-4869-b14d-8570f637bde9 ]] : [x == 1]\r\n",
       "E2 ..> E5 [[psysml:3f3ee8aa-e9f7-416c-965c-8aff211aef79 ]] : [x > 1]\r\n",
       "E2 ..> E7 [[psysml:5268f6a4-a59c-47f8-920f-30c5900c34c3 ]] \r\n",
       "E2 ..> E3 [[psysml:c0d6c8f2-adfa-4de5-8b53-fd445de20c7a ]] \r\n",
       "E3 ..> E4 [[psysml:647fb379-8896-403f-81c0-e54862ace948 ]] : [true]\r\n",
       "E3 ..> E5 [[psysml:1317e145-771b-48e4-a88c-08ae6f2caba6 ]] : [false]\r\n",
       "E4 ..> E5 [[psysml:23f0aa3a-74d1-4632-9e57-f97d17e19ec4 ]] : [x == 0]\r\n",
       "E7 ..> E2 [[psysml:1fcd52fd-d040-4c7e-90de-1e4181f9ba4a ]] : [x > 0]\r\n",
       "@enduml\r\n",
       "\n",
       "PlantUML version 1.2020.13(Sat Jun 13 12:26:38 UTC 2020)\n",
       "(EPL source distribution)\n",
       "Java Runtime: OpenJDK Runtime Environment\n",
       "JVM: OpenJDK 64-Bit Server VM\n",
       "Default Encoding: UTF-8\n",
       "Language: en\n",
       "Country: null\n",
       "--></g></svg>"
      ]
     },
     "execution_count": 13,
     "metadata": {},
     "output_type": "execute_result"
    }
   ],
   "source": [
    "%viz --style=\"POLYLINE\" --view=\"Action\" \"DecisionTest\""
   ]
  },
  {
   "cell_type": "code",
   "execution_count": 14,
   "id": "08394816",
   "metadata": {
    "execution": {
     "iopub.execute_input": "2022-03-21T07:50:59.791561Z",
     "iopub.status.busy": "2022-03-21T07:50:59.791118Z",
     "iopub.status.idle": "2022-03-21T07:50:59.798309Z",
     "shell.execute_reply": "2022-03-21T07:50:59.798622Z"
    }
   },
   "outputs": [
    {
     "data": {
      "image/svg+xml": [
       "<?xml version=\"1.0\" encoding=\"UTF-8\" standalone=\"no\"?><svg xmlns=\"http://www.w3.org/2000/svg\" xmlns:xlink=\"http://www.w3.org/1999/xlink\" contentScriptType=\"application/ecmascript\" contentStyleType=\"text/css\" height=\"12px\" preserveAspectRatio=\"none\" style=\"width:12px;height:12px;\" version=\"1.1\" viewBox=\"0 0 12 12\" width=\"12px\" zoomAndPan=\"magnify\"><defs/><g><!--MD5=[dc938048236c351797870c36b62f92ad]\n",
       "@startuml\r\n",
       "skinparam roundcorner 20\r\n",
       "skinparam BoxPadding 20\r\n",
       "skinparam SequenceBoxBackgroundColor #white\r\n",
       "skinparam style strictuml\r\n",
       "skinparam maxMessageSize 100\r\n",
       "skinparam linetype polyline\r\n",
       "skinparam monochrome true\r\n",
       "skinparam classbackgroundcolor white\r\n",
       "skinparam shadowing false\r\n",
       "skinparam wrapWidth 300\r\n",
       "hide circle\r\n",
       "\r\n",
       "@enduml\r\n",
       "\n",
       "PlantUML version 1.2020.13(Sat Jun 13 12:26:38 UTC 2020)\n",
       "(EPL source distribution)\n",
       "Java Runtime: OpenJDK Runtime Environment\n",
       "JVM: OpenJDK 64-Bit Server VM\n",
       "Default Encoding: UTF-8\n",
       "Language: en\n",
       "Country: null\n",
       "--></g></svg>"
      ]
     },
     "execution_count": 14,
     "metadata": {},
     "output_type": "execute_result"
    }
   ],
   "source": [
    "%viz --style=\"POLYLINE\" --view=\"Sequence\" \"DecisionTest\""
   ]
  },
  {
   "cell_type": "code",
   "execution_count": 15,
   "id": "1c6a646b",
   "metadata": {
    "execution": {
     "iopub.execute_input": "2022-03-21T07:50:59.848858Z",
     "iopub.status.busy": "2022-03-21T07:50:59.848419Z",
     "iopub.status.idle": "2022-03-21T07:50:59.894954Z",
     "shell.execute_reply": "2022-03-21T07:50:59.895278Z"
    }
   },
   "outputs": [
    {
     "data": {
      "image/svg+xml": [
       "<?xml version=\"1.0\" encoding=\"UTF-8\" standalone=\"no\"?><svg xmlns=\"http://www.w3.org/2000/svg\" xmlns:xlink=\"http://www.w3.org/1999/xlink\" contentScriptType=\"application/ecmascript\" contentStyleType=\"text/css\" height=\"488px\" preserveAspectRatio=\"none\" style=\"width:333px;height:488px;\" version=\"1.1\" viewBox=\"0 0 333 488\" width=\"333px\" zoomAndPan=\"magnify\"><defs/><g><!--MD5=[fbc87193dbaf4d95561dea2c320d4a47]\n",
       "cluster E1--><a href=\"psysml:62ac371c-e17a-420d-a580-1aab63005ed6\" target=\"_top\" title=\"psysml:62ac371c-e17a-420d-a580-1aab63005ed6\" xlink:actuate=\"onRequest\" xlink:href=\"psysml:62ac371c-e17a-420d-a580-1aab63005ed6\" xlink:show=\"new\" xlink:title=\"psysml:62ac371c-e17a-420d-a580-1aab63005ed6\" xlink:type=\"simple\"><rect fill=\"#FFFFFF\" height=\"470\" id=\"E1\" style=\"stroke: #383838; stroke-width: 1.5;\" width=\"315\" x=\"7\" y=\"7\"/><rect fill=\"#F8F8F8\" height=\"37.9375\" style=\"stroke: #383838; stroke-width: 1.5;\" width=\"315\" x=\"7\" y=\"7\"/><text fill=\"#000000\" font-family=\"sans-serif\" font-size=\"12\" font-style=\"italic\" lengthAdjust=\"spacingAndGlyphs\" textLength=\"81\" x=\"124\" y=\"23.1387\">«action  def»</text><text fill=\"#000000\" font-family=\"sans-serif\" font-size=\"12\" lengthAdjust=\"spacingAndGlyphs\" textLength=\"80\" x=\"124.5\" y=\"37.1074\">DecisionTest</text></a><polygon fill=\"#F8F8F8\" points=\"210,67.5,222,79.5,210,91.5,198,79.5,210,67.5\" style=\"stroke: #383838; stroke-width: 1.5;\"/><polygon fill=\"#F8F8F8\" points=\"35,187.5,47,199.5,35,211.5,23,199.5,35,187.5\" style=\"stroke: #383838; stroke-width: 1.5;\"/><g id=\"E1.E4\"><a href=\"psysml:bb8ae358-9e9d-46e4-9973-23f4ed00e117\" target=\"_top\" title=\"psysml:bb8ae358-9e9d-46e4-9973-23f4ed00e117\" xlink:actuate=\"onRequest\" xlink:href=\"psysml:bb8ae358-9e9d-46e4-9973-23f4ed00e117\" xlink:show=\"new\" xlink:title=\"psysml:bb8ae358-9e9d-46e4-9973-23f4ed00e117\" xlink:type=\"simple\"><rect fill=\"#FFFFFF\" height=\"42.9375\" id=\"E4\" rx=\"10\" ry=\"10\" style=\"stroke: #383838; stroke-width: 1.5;\" width=\"60\" x=\"135\" y=\"298\"/><rect fill=\"#F8F8F8\" height=\"37.9375\" rx=\"10\" ry=\"10\" style=\"stroke: #F8F8F8; stroke-width: 1.5;\" width=\"60\" x=\"135\" y=\"298\"/><rect fill=\"#F8F8F8\" height=\"10\" style=\"stroke: #F8F8F8; stroke-width: 1.5;\" width=\"60\" x=\"135\" y=\"325.9375\"/><rect fill=\"none\" height=\"42.9375\" id=\"E4\" rx=\"10\" ry=\"10\" style=\"stroke: #383838; stroke-width: 1.5;\" width=\"60\" x=\"135\" y=\"298\"/><text fill=\"#000000\" font-family=\"sans-serif\" font-size=\"12\" font-style=\"italic\" lengthAdjust=\"spacingAndGlyphs\" textLength=\"53\" x=\"138.5\" y=\"314.1387\">«action»</text><text fill=\"#000000\" font-family=\"sans-serif\" font-size=\"12\" lengthAdjust=\"spacingAndGlyphs\" textLength=\"16\" x=\"157\" y=\"328.1074\">A1</text></a></g><g id=\"E1.E5\"><a href=\"psysml:e7f91728-bf49-43a2-b90b-9012c9afe2c4\" target=\"_top\" title=\"psysml:e7f91728-bf49-43a2-b90b-9012c9afe2c4\" xlink:actuate=\"onRequest\" xlink:href=\"psysml:e7f91728-bf49-43a2-b90b-9012c9afe2c4\" xlink:show=\"new\" xlink:title=\"psysml:e7f91728-bf49-43a2-b90b-9012c9afe2c4\" xlink:type=\"simple\"><rect fill=\"#FFFFFF\" height=\"42.9375\" id=\"E5\" rx=\"10\" ry=\"10\" style=\"stroke: #383838; stroke-width: 1.5;\" width=\"60\" x=\"135\" y=\"418\"/><rect fill=\"#F8F8F8\" height=\"37.9375\" rx=\"10\" ry=\"10\" style=\"stroke: #F8F8F8; stroke-width: 1.5;\" width=\"60\" x=\"135\" y=\"418\"/><rect fill=\"#F8F8F8\" height=\"10\" style=\"stroke: #F8F8F8; stroke-width: 1.5;\" width=\"60\" x=\"135\" y=\"445.9375\"/><rect fill=\"none\" height=\"42.9375\" id=\"E5\" rx=\"10\" ry=\"10\" style=\"stroke: #383838; stroke-width: 1.5;\" width=\"60\" x=\"135\" y=\"418\"/><text fill=\"#000000\" font-family=\"sans-serif\" font-size=\"12\" font-style=\"italic\" lengthAdjust=\"spacingAndGlyphs\" textLength=\"53\" x=\"138.5\" y=\"434.1387\">«action»</text><text fill=\"#000000\" font-family=\"sans-serif\" font-size=\"12\" lengthAdjust=\"spacingAndGlyphs\" textLength=\"16\" x=\"157\" y=\"448.1074\">A2</text></a></g><g id=\"E1.E6\"><a href=\"psysml:0d8578a4-a91e-4bc0-9576-e9210611ea53\" target=\"_top\" title=\"psysml:0d8578a4-a91e-4bc0-9576-e9210611ea53\" xlink:actuate=\"onRequest\" xlink:href=\"psysml:0d8578a4-a91e-4bc0-9576-e9210611ea53\" xlink:show=\"new\" xlink:title=\"psysml:0d8578a4-a91e-4bc0-9576-e9210611ea53\" xlink:type=\"simple\"><rect fill=\"#FFFFFF\" height=\"42.9375\" id=\"E6\" rx=\"10\" ry=\"10\" style=\"stroke: #383838; stroke-width: 1.5;\" width=\"60\" x=\"63\" y=\"58\"/><rect fill=\"#F8F8F8\" height=\"37.9375\" rx=\"10\" ry=\"10\" style=\"stroke: #F8F8F8; stroke-width: 1.5;\" width=\"60\" x=\"63\" y=\"58\"/><rect fill=\"#F8F8F8\" height=\"10\" style=\"stroke: #F8F8F8; stroke-width: 1.5;\" width=\"60\" x=\"63\" y=\"85.9375\"/><rect fill=\"none\" height=\"42.9375\" id=\"E6\" rx=\"10\" ry=\"10\" style=\"stroke: #383838; stroke-width: 1.5;\" width=\"60\" x=\"63\" y=\"58\"/><text fill=\"#000000\" font-family=\"sans-serif\" font-size=\"12\" font-style=\"italic\" lengthAdjust=\"spacingAndGlyphs\" textLength=\"53\" x=\"66.5\" y=\"74.1387\">«action»</text><text fill=\"#000000\" font-family=\"sans-serif\" font-size=\"12\" lengthAdjust=\"spacingAndGlyphs\" textLength=\"16\" x=\"85\" y=\"88.1074\">A3</text></a></g><g id=\"E1.E7\"><a href=\"psysml:0d8578a4-a91e-4bc0-9576-e9210611ea53\" target=\"_top\" title=\"psysml:0d8578a4-a91e-4bc0-9576-e9210611ea53\" xlink:actuate=\"onRequest\" xlink:href=\"psysml:0d8578a4-a91e-4bc0-9576-e9210611ea53\" xlink:show=\"new\" xlink:title=\"psysml:0d8578a4-a91e-4bc0-9576-e9210611ea53\" xlink:type=\"simple\"><rect fill=\"#FFFFFF\" height=\"42.9375\" id=\"E7\" rx=\"10\" ry=\"10\" style=\"stroke: #383838; stroke-width: 1.5;\" width=\"60\" x=\"246\" y=\"178\"/><rect fill=\"#F8F8F8\" height=\"37.9375\" rx=\"10\" ry=\"10\" style=\"stroke: #F8F8F8; stroke-width: 1.5;\" width=\"60\" x=\"246\" y=\"178\"/><rect fill=\"#F8F8F8\" height=\"10\" style=\"stroke: #F8F8F8; stroke-width: 1.5;\" width=\"60\" x=\"246\" y=\"205.9375\"/><rect fill=\"none\" height=\"42.9375\" id=\"E7\" rx=\"10\" ry=\"10\" style=\"stroke: #383838; stroke-width: 1.5;\" width=\"60\" x=\"246\" y=\"178\"/><text fill=\"#000000\" font-family=\"sans-serif\" font-size=\"12\" font-style=\"italic\" lengthAdjust=\"spacingAndGlyphs\" textLength=\"53\" x=\"249.5\" y=\"194.1387\">«action»</text><text fill=\"#000000\" font-family=\"sans-serif\" font-size=\"12\" lengthAdjust=\"spacingAndGlyphs\" textLength=\"16\" x=\"268\" y=\"208.1074\">A3</text></a></g><!--MD5=[4d03bb2d0377dc85ccfab60ff574652b]\n",
       "link E2 to E4--><a href=\"psysml:8074e684-9dcd-4869-b14d-8570f637bde9\" target=\"_top\" title=\"psysml:8074e684-9dcd-4869-b14d-8570f637bde9\" xlink:actuate=\"onRequest\" xlink:href=\"psysml:8074e684-9dcd-4869-b14d-8570f637bde9\" xlink:show=\"new\" xlink:title=\"psysml:8074e684-9dcd-4869-b14d-8570f637bde9\" xlink:type=\"simple\"><path d=\"M205.46,87.2 C190.55,109.23 144,178 144,178 C144,178 144,221 144,221 C144,221 153.2,263.72 159.42,292.6 \" fill=\"none\" id=\"E2-&gt;E4\" style=\"stroke: #383838; stroke-width: 1.0;\"/><polygon fill=\"#383838\" points=\"160.55,297.82,162.5831,288.1833,159.5063,292.9302,154.7594,289.8533,160.55,297.82\" style=\"stroke: #383838; stroke-width: 1.0;\"/><text fill=\"#000000\" font-family=\"sans-serif\" font-size=\"13\" lengthAdjust=\"spacingAndGlyphs\" textLength=\"55\" x=\"145\" y=\"204.0669\">[x == 1]</text><text fill=\"#000000\" font-family=\"sans-serif\" font-size=\"13\" lengthAdjust=\"spacingAndGlyphs\" textLength=\"7\" x=\"151.4134\" y=\"287.071\">*</text></a><!--MD5=[dcad52bbbca2fe8adc741ce38b45dc12]\n",
       "link E2 to E5--><a href=\"psysml:3f3ee8aa-e9f7-416c-965c-8aff211aef79\" target=\"_top\" title=\"psysml:3f3ee8aa-e9f7-416c-965c-8aff211aef79\" xlink:actuate=\"onRequest\" xlink:href=\"psysml:3f3ee8aa-e9f7-416c-965c-8aff211aef79\" xlink:show=\"new\" xlink:title=\"psysml:3f3ee8aa-e9f7-416c-965c-8aff211aef79\" xlink:type=\"simple\"><path d=\"M210.59,91.18 C213.48,143.59 226,371 226,371 C226,371 226,388 226,388 C226,388 209.6,401.58 193.8,414.65 \" fill=\"none\" id=\"E2-&gt;E5\" style=\"stroke: #383838; stroke-width: 1.0;\"/><polygon fill=\"#383838\" points=\"189.81,417.96,199.2964,415.3128,193.6651,414.776,194.202,409.1446,189.81,417.96\" style=\"stroke: #383838; stroke-width: 1.0;\"/><text fill=\"#000000\" font-family=\"sans-serif\" font-size=\"13\" lengthAdjust=\"spacingAndGlyphs\" textLength=\"44\" x=\"221\" y=\"264.0669\">[x &gt; 1]</text><text fill=\"#000000\" font-family=\"sans-serif\" font-size=\"13\" lengthAdjust=\"spacingAndGlyphs\" textLength=\"7\" x=\"188.8034\" y=\"406.8869\">*</text></a><!--MD5=[e3d2a08a9c9236652057e8ed0cbc9b62]\n",
       "link E2 to E7--><a href=\"psysml:5268f6a4-a59c-47f8-920f-30c5900c34c3\" target=\"_top\" title=\"psysml:5268f6a4-a59c-47f8-920f-30c5900c34c3\" xlink:actuate=\"onRequest\" xlink:href=\"psysml:5268f6a4-a59c-47f8-920f-30c5900c34c3\" xlink:show=\"new\" xlink:title=\"psysml:5268f6a4-a59c-47f8-920f-30c5900c34c3\" xlink:type=\"simple\"><path d=\"M211.81,89.89 C215.38,108.43 223,148 223,148 C223,148 237.01,161.35 250.63,174.32 \" fill=\"none\" id=\"E2-&gt;E7\" style=\"stroke: #383838; stroke-width: 1.0;\"/><polygon fill=\"#383838\" points=\"254.44,177.96,250.6644,168.8636,250.8129,174.5185,245.158,174.667,254.44,177.96\" style=\"stroke: #383838; stroke-width: 1.0;\"/><text fill=\"#000000\" font-family=\"sans-serif\" font-size=\"13\" lengthAdjust=\"spacingAndGlyphs\" textLength=\"7\" x=\"240.3919\" y=\"166.8869\">*</text></a><!--MD5=[583832df87f4419a098336a29a52fa00]\n",
       "link E7 to E2--><a href=\"psysml:1fcd52fd-d040-4c7e-90de-1e4181f9ba4a\" target=\"_top\" title=\"psysml:1fcd52fd-d040-4c7e-90de-1e4181f9ba4a\" xlink:actuate=\"onRequest\" xlink:href=\"psysml:1fcd52fd-d040-4c7e-90de-1e4181f9ba4a\" xlink:show=\"new\" xlink:title=\"psysml:1fcd52fd-d040-4c7e-90de-1e4181f9ba4a\" xlink:type=\"simple\"><path d=\"M264.3,177.59 C250.41,152.74 227.7,112.15 216.57,92.25 \" fill=\"none\" id=\"E7-&gt;E2\" style=\"stroke: #383838; stroke-width: 1.0;\"/><polygon fill=\"#383838\" points=\"214.13,87.88,215.0286,97.6878,216.5691,92.2447,222.0122,93.7852,214.13,87.88\" style=\"stroke: #383838; stroke-width: 1.0;\"/><text fill=\"#000000\" font-family=\"sans-serif\" font-size=\"13\" lengthAdjust=\"spacingAndGlyphs\" textLength=\"44\" x=\"247\" y=\"144.0669\">[x &gt; 0]</text><text fill=\"#000000\" font-family=\"sans-serif\" font-size=\"13\" lengthAdjust=\"spacingAndGlyphs\" textLength=\"7\" x=\"207.5946\" y=\"111.7074\">*</text></a><!--MD5=[2720a5a1f2c3fca2055b230370638851]\n",
       "link E2 to E3--><a href=\"psysml:c0d6c8f2-adfa-4de5-8b53-fd445de20c7a\" target=\"_top\" title=\"psysml:c0d6c8f2-adfa-4de5-8b53-fd445de20c7a\" xlink:actuate=\"onRequest\" xlink:href=\"psysml:c0d6c8f2-adfa-4de5-8b53-fd445de20c7a\" xlink:show=\"new\" xlink:title=\"psysml:c0d6c8f2-adfa-4de5-8b53-fd445de20c7a\" xlink:type=\"simple\"><path d=\"M202.33,84.3 C178.61,96.04 108,131 108,131 C108,131 64.37,171.35 44.57,189.65 \" fill=\"none\" id=\"E2-&gt;E3\" style=\"stroke: #383838; stroke-width: 1.0;\"/><polygon fill=\"#383838\" points=\"40.73,193.2,50.0512,190.0196,44.3985,189.8027,44.6155,184.15,40.73,193.2\" style=\"stroke: #383838; stroke-width: 1.0;\"/><text fill=\"#000000\" font-family=\"sans-serif\" font-size=\"13\" lengthAdjust=\"spacingAndGlyphs\" textLength=\"7\" x=\"50.1907\" y=\"176.19\">*</text></a><!--MD5=[af87c684e3b0d8be13c1a698a818ef1e]\n",
       "link E3 to E4--><a href=\"psysml:647fb379-8896-403f-81c0-e54862ace948\" target=\"_top\" title=\"psysml:647fb379-8896-403f-81c0-e54862ace948\" xlink:actuate=\"onRequest\" xlink:href=\"psysml:647fb379-8896-403f-81c0-e54862ace948\" xlink:show=\"new\" xlink:title=\"psysml:647fb379-8896-403f-81c0-e54862ace948\" xlink:type=\"simple\"><path d=\"M39.7,206.97 C51.96,223.87 84,268 84,268 C84,268 108.44,283.24 130.47,296.97 \" fill=\"none\" id=\"E3-&gt;E4\" style=\"stroke: #383838; stroke-width: 1.0;\"/><polygon fill=\"#383838\" points=\"134.84,299.7,129.3157,291.5464,130.596,297.0564,125.0859,298.3368,134.84,299.7\" style=\"stroke: #383838; stroke-width: 1.0;\"/><text fill=\"#000000\" font-family=\"sans-serif\" font-size=\"13\" lengthAdjust=\"spacingAndGlyphs\" textLength=\"36\" x=\"85\" y=\"264.0669\">[true]</text><text fill=\"#000000\" font-family=\"sans-serif\" font-size=\"13\" lengthAdjust=\"spacingAndGlyphs\" textLength=\"7\" x=\"120.0561\" y=\"290.4764\">*</text></a><!--MD5=[0188b64bb0ae78505a997a81836e11e9]\n",
       "link E3 to E5--><a href=\"psysml:1317e145-771b-48e4-a88c-08ae6f2caba6\" target=\"_top\" title=\"psysml:1317e145-771b-48e4-a88c-08ae6f2caba6\" xlink:actuate=\"onRequest\" xlink:href=\"psysml:1317e145-771b-48e4-a88c-08ae6f2caba6\" xlink:show=\"new\" xlink:title=\"psysml:1317e145-771b-48e4-a88c-08ae6f2caba6\" xlink:type=\"simple\"><path d=\"M37.56,209.29 C46.54,240.05 76,341 76,341 C76,341 116.3,385.15 142.66,414.03 \" fill=\"none\" id=\"E3-&gt;E5\" style=\"stroke: #383838; stroke-width: 1.0;\"/><polygon fill=\"#383838\" points=\"146.13,417.82,143.0249,408.4734,142.7624,414.1242,137.1116,413.8616,146.13,417.82\" style=\"stroke: #383838; stroke-width: 1.0;\"/><text fill=\"#000000\" font-family=\"sans-serif\" font-size=\"13\" lengthAdjust=\"spacingAndGlyphs\" textLength=\"40\" x=\"77\" y=\"324.0669\">[false]</text><text fill=\"#000000\" font-family=\"sans-serif\" font-size=\"13\" lengthAdjust=\"spacingAndGlyphs\" textLength=\"7\" x=\"133.1181\" y=\"407.071\">*</text></a><!--MD5=[1b7591eae5389033d8d09a9d6721a717]\n",
       "link E4 to E5--><a href=\"psysml:23f0aa3a-74d1-4632-9e57-f97d17e19ec4\" target=\"_top\" title=\"psysml:23f0aa3a-74d1-4632-9e57-f97d17e19ec4\" xlink:actuate=\"onRequest\" xlink:href=\"psysml:23f0aa3a-74d1-4632-9e57-f97d17e19ec4\" xlink:show=\"new\" xlink:title=\"psysml:23f0aa3a-74d1-4632-9e57-f97d17e19ec4\" xlink:type=\"simple\"><path d=\"M165,341.05 C165,360.9 165,391.02 165,412.52 \" fill=\"none\" id=\"E4-&gt;E5\" style=\"stroke: #383838; stroke-width: 1.0;\"/><polygon fill=\"#383838\" points=\"165,417.79,169,408.79,165,412.79,161,408.79,165,417.79\" style=\"stroke: #383838; stroke-width: 1.0;\"/><text fill=\"#000000\" font-family=\"sans-serif\" font-size=\"13\" lengthAdjust=\"spacingAndGlyphs\" textLength=\"55\" x=\"166\" y=\"384.0669\">[x == 0]</text><text fill=\"#000000\" font-family=\"sans-serif\" font-size=\"13\" lengthAdjust=\"spacingAndGlyphs\" textLength=\"7\" x=\"157.0594\" y=\"407.033\">*</text></a><!--MD5=[2ad113b0af1f08578a40965616f74226]\n",
       "@startuml\r\n",
       "skinparam linetype polyline\r\n",
       "skinparam monochrome true\r\n",
       "skinparam classbackgroundcolor white\r\n",
       "skinparam shadowing false\r\n",
       "skinparam wrapWidth 300\r\n",
       "hide circle\r\n",
       "\r\n",
       "rec def \"DecisionTest\" as E1  <<(T,blue) action  def>> [[psysml:62ac371c-e17a-420d-a580-1aab63005ed6 ]] {\r\n",
       "choice \"test x\" as E2  [[psysml:2e150d19-c5c5-4276-9136-9fe31d212434 ]] \r\n",
       "choice \"<s>noname</s>\" as E3  [[psysml:cc5b619c-f329-4ed7-9a64-7943d6ed9569 ]] \r\n",
       "rec usage \"A1\" as E4  <<(T,blue) action>> [[psysml:bb8ae358-9e9d-46e4-9973-23f4ed00e117 ]] {\r\n",
       "}\r\n",
       "\r\n",
       "rec usage \"A2\" as E5  <<(T,blue) action>> [[psysml:e7f91728-bf49-43a2-b90b-9012c9afe2c4 ]] {\r\n",
       "}\r\n",
       "\r\n",
       "rec usage \"A3\" as E6  <<(T,blue) action>> [[psysml:0d8578a4-a91e-4bc0-9576-e9210611ea53 ]] {\r\n",
       "}\r\n",
       "\r\n",
       "rec usage \"A3\" as E7  <<(T,blue) action>> [[psysml:0d8578a4-a91e-4bc0-9576-e9210611ea53 ]] {\r\n",
       "}\r\n",
       "\r\n",
       "}\r\n",
       "\r\n",
       "E2  - -> \"*\"E4 [[psysml:8074e684-9dcd-4869-b14d-8570f637bde9 ]] : [x == 1]\r\n",
       "E2  - -> \"*\"E5 [[psysml:3f3ee8aa-e9f7-416c-965c-8aff211aef79 ]] : [x > 1]\r\n",
       "E2  - -> \"*\"E7 [[psysml:5268f6a4-a59c-47f8-920f-30c5900c34c3 ]] \r\n",
       "E2 - -> \"*\"E3 [[psysml:c0d6c8f2-adfa-4de5-8b53-fd445de20c7a ]] \r\n",
       "E3  - -> \"*\"E4 [[psysml:647fb379-8896-403f-81c0-e54862ace948 ]] : [true]\r\n",
       "E3  - -> \"*\"E5 [[psysml:1317e145-771b-48e4-a88c-08ae6f2caba6 ]] : [false]\r\n",
       "E4  - -> \"*\"E5 [[psysml:23f0aa3a-74d1-4632-9e57-f97d17e19ec4 ]] : [x == 0]\r\n",
       "E7  - -> \"*\"E2 [[psysml:1fcd52fd-d040-4c7e-90de-1e4181f9ba4a ]] : [x > 0]\r\n",
       "@enduml\r\n",
       "\n",
       "PlantUML version 1.2020.13(Sat Jun 13 12:26:38 UTC 2020)\n",
       "(EPL source distribution)\n",
       "Java Runtime: OpenJDK Runtime Environment\n",
       "JVM: OpenJDK 64-Bit Server VM\n",
       "Default Encoding: UTF-8\n",
       "Language: en\n",
       "Country: null\n",
       "--></g></svg>"
      ]
     },
     "execution_count": 15,
     "metadata": {},
     "output_type": "execute_result"
    }
   ],
   "source": [
    "%viz --style=\"POLYLINE\" --view=\"MIXED\" \"DecisionTest\""
   ]
  },
  {
   "cell_type": "code",
   "execution_count": 16,
   "id": "57405824",
   "metadata": {
    "execution": {
     "iopub.execute_input": "2022-03-21T07:50:59.945740Z",
     "iopub.status.busy": "2022-03-21T07:50:59.945320Z",
     "iopub.status.idle": "2022-03-21T07:50:59.992017Z",
     "shell.execute_reply": "2022-03-21T07:50:59.991673Z"
    }
   },
   "outputs": [
    {
     "data": {
      "image/svg+xml": [
       "<?xml version=\"1.0\" encoding=\"UTF-8\" standalone=\"no\"?><svg xmlns=\"http://www.w3.org/2000/svg\" xmlns:xlink=\"http://www.w3.org/1999/xlink\" contentScriptType=\"application/ecmascript\" contentStyleType=\"text/css\" height=\"312px\" preserveAspectRatio=\"none\" style=\"width:619px;height:312px;\" version=\"1.1\" viewBox=\"0 0 619 312\" width=\"619px\" zoomAndPan=\"magnify\"><defs/><g><!--MD5=[fbc87193dbaf4d95561dea2c320d4a47]\n",
       "cluster E1--><a href=\"psysml:62ac371c-e17a-420d-a580-1aab63005ed6\" target=\"_top\" title=\"psysml:62ac371c-e17a-420d-a580-1aab63005ed6\" xlink:actuate=\"onRequest\" xlink:href=\"psysml:62ac371c-e17a-420d-a580-1aab63005ed6\" xlink:show=\"new\" xlink:title=\"psysml:62ac371c-e17a-420d-a580-1aab63005ed6\" xlink:type=\"simple\"><rect fill=\"#FFFFFF\" height=\"294\" id=\"E1\" style=\"stroke: #383838; stroke-width: 1.5;\" width=\"601\" x=\"7\" y=\"7\"/><rect fill=\"#F8F8F8\" height=\"37.9375\" style=\"stroke: #383838; stroke-width: 1.5;\" width=\"601\" x=\"7\" y=\"7\"/><text fill=\"#000000\" font-family=\"sans-serif\" font-size=\"12\" font-style=\"italic\" lengthAdjust=\"spacingAndGlyphs\" textLength=\"81\" x=\"267\" y=\"23.1387\">«action  def»</text><text fill=\"#000000\" font-family=\"sans-serif\" font-size=\"12\" lengthAdjust=\"spacingAndGlyphs\" textLength=\"80\" x=\"267.5\" y=\"37.1074\">DecisionTest</text></a><polygon fill=\"#F8F8F8\" points=\"53,126,65,138,53,150,41,138,53,126\" style=\"stroke: #383838; stroke-width: 1.5;\"/><polygon fill=\"#F8F8F8\" points=\"219,261,231,273,219,285,207,273,219,261\" style=\"stroke: #383838; stroke-width: 1.5;\"/><g id=\"E1.E4\"><a href=\"psysml:bb8ae358-9e9d-46e4-9973-23f4ed00e117\" target=\"_top\" title=\"psysml:bb8ae358-9e9d-46e4-9973-23f4ed00e117\" xlink:actuate=\"onRequest\" xlink:href=\"psysml:bb8ae358-9e9d-46e4-9973-23f4ed00e117\" xlink:show=\"new\" xlink:title=\"psysml:bb8ae358-9e9d-46e4-9973-23f4ed00e117\" xlink:type=\"simple\"><rect fill=\"#FFFFFF\" height=\"42.9375\" id=\"E4\" rx=\"10\" ry=\"10\" style=\"stroke: #383838; stroke-width: 1.5;\" width=\"60\" x=\"355\" y=\"154.5\"/><rect fill=\"#F8F8F8\" height=\"37.9375\" rx=\"10\" ry=\"10\" style=\"stroke: #F8F8F8; stroke-width: 1.5;\" width=\"60\" x=\"355\" y=\"154.5\"/><rect fill=\"#F8F8F8\" height=\"10\" style=\"stroke: #F8F8F8; stroke-width: 1.5;\" width=\"60\" x=\"355\" y=\"182.4375\"/><rect fill=\"none\" height=\"42.9375\" id=\"E4\" rx=\"10\" ry=\"10\" style=\"stroke: #383838; stroke-width: 1.5;\" width=\"60\" x=\"355\" y=\"154.5\"/><text fill=\"#000000\" font-family=\"sans-serif\" font-size=\"12\" font-style=\"italic\" lengthAdjust=\"spacingAndGlyphs\" textLength=\"53\" x=\"358.5\" y=\"170.6387\">«action»</text><text fill=\"#000000\" font-family=\"sans-serif\" font-size=\"12\" lengthAdjust=\"spacingAndGlyphs\" textLength=\"16\" x=\"377\" y=\"184.6074\">A1</text></a></g><g id=\"E1.E5\"><a href=\"psysml:e7f91728-bf49-43a2-b90b-9012c9afe2c4\" target=\"_top\" title=\"psysml:e7f91728-bf49-43a2-b90b-9012c9afe2c4\" xlink:actuate=\"onRequest\" xlink:href=\"psysml:e7f91728-bf49-43a2-b90b-9012c9afe2c4\" xlink:show=\"new\" xlink:title=\"psysml:e7f91728-bf49-43a2-b90b-9012c9afe2c4\" xlink:type=\"simple\"><rect fill=\"#FFFFFF\" height=\"42.9375\" id=\"E5\" rx=\"10\" ry=\"10\" style=\"stroke: #383838; stroke-width: 1.5;\" width=\"60\" x=\"532\" y=\"154.5\"/><rect fill=\"#F8F8F8\" height=\"37.9375\" rx=\"10\" ry=\"10\" style=\"stroke: #F8F8F8; stroke-width: 1.5;\" width=\"60\" x=\"532\" y=\"154.5\"/><rect fill=\"#F8F8F8\" height=\"10\" style=\"stroke: #F8F8F8; stroke-width: 1.5;\" width=\"60\" x=\"532\" y=\"182.4375\"/><rect fill=\"none\" height=\"42.9375\" id=\"E5\" rx=\"10\" ry=\"10\" style=\"stroke: #383838; stroke-width: 1.5;\" width=\"60\" x=\"532\" y=\"154.5\"/><text fill=\"#000000\" font-family=\"sans-serif\" font-size=\"12\" font-style=\"italic\" lengthAdjust=\"spacingAndGlyphs\" textLength=\"53\" x=\"535.5\" y=\"170.6387\">«action»</text><text fill=\"#000000\" font-family=\"sans-serif\" font-size=\"12\" lengthAdjust=\"spacingAndGlyphs\" textLength=\"16\" x=\"554\" y=\"184.6074\">A2</text></a></g><g id=\"E1.E6\"><a href=\"psysml:0d8578a4-a91e-4bc0-9576-e9210611ea53\" target=\"_top\" title=\"psysml:0d8578a4-a91e-4bc0-9576-e9210611ea53\" xlink:actuate=\"onRequest\" xlink:href=\"psysml:0d8578a4-a91e-4bc0-9576-e9210611ea53\" xlink:show=\"new\" xlink:title=\"psysml:0d8578a4-a91e-4bc0-9576-e9210611ea53\" xlink:type=\"simple\"><rect fill=\"#FFFFFF\" height=\"42.9375\" id=\"E6\" rx=\"10\" ry=\"10\" style=\"stroke: #383838; stroke-width: 1.5;\" width=\"60\" x=\"23\" y=\"213.5\"/><rect fill=\"#F8F8F8\" height=\"37.9375\" rx=\"10\" ry=\"10\" style=\"stroke: #F8F8F8; stroke-width: 1.5;\" width=\"60\" x=\"23\" y=\"213.5\"/><rect fill=\"#F8F8F8\" height=\"10\" style=\"stroke: #F8F8F8; stroke-width: 1.5;\" width=\"60\" x=\"23\" y=\"241.4375\"/><rect fill=\"none\" height=\"42.9375\" id=\"E6\" rx=\"10\" ry=\"10\" style=\"stroke: #383838; stroke-width: 1.5;\" width=\"60\" x=\"23\" y=\"213.5\"/><text fill=\"#000000\" font-family=\"sans-serif\" font-size=\"12\" font-style=\"italic\" lengthAdjust=\"spacingAndGlyphs\" textLength=\"53\" x=\"26.5\" y=\"229.6387\">«action»</text><text fill=\"#000000\" font-family=\"sans-serif\" font-size=\"12\" lengthAdjust=\"spacingAndGlyphs\" textLength=\"16\" x=\"45\" y=\"243.6074\">A3</text></a></g><g id=\"E1.E7\"><a href=\"psysml:0d8578a4-a91e-4bc0-9576-e9210611ea53\" target=\"_top\" title=\"psysml:0d8578a4-a91e-4bc0-9576-e9210611ea53\" xlink:actuate=\"onRequest\" xlink:href=\"psysml:0d8578a4-a91e-4bc0-9576-e9210611ea53\" xlink:show=\"new\" xlink:title=\"psysml:0d8578a4-a91e-4bc0-9576-e9210611ea53\" xlink:type=\"simple\"><rect fill=\"#FFFFFF\" height=\"42.9375\" id=\"E7\" rx=\"10\" ry=\"10\" style=\"stroke: #383838; stroke-width: 1.5;\" width=\"60\" x=\"189\" y=\"58.5\"/><rect fill=\"#F8F8F8\" height=\"37.9375\" rx=\"10\" ry=\"10\" style=\"stroke: #F8F8F8; stroke-width: 1.5;\" width=\"60\" x=\"189\" y=\"58.5\"/><rect fill=\"#F8F8F8\" height=\"10\" style=\"stroke: #F8F8F8; stroke-width: 1.5;\" width=\"60\" x=\"189\" y=\"86.4375\"/><rect fill=\"none\" height=\"42.9375\" id=\"E7\" rx=\"10\" ry=\"10\" style=\"stroke: #383838; stroke-width: 1.5;\" width=\"60\" x=\"189\" y=\"58.5\"/><text fill=\"#000000\" font-family=\"sans-serif\" font-size=\"12\" font-style=\"italic\" lengthAdjust=\"spacingAndGlyphs\" textLength=\"53\" x=\"192.5\" y=\"74.6387\">«action»</text><text fill=\"#000000\" font-family=\"sans-serif\" font-size=\"12\" lengthAdjust=\"spacingAndGlyphs\" textLength=\"16\" x=\"211\" y=\"88.6074\">A3</text></a></g><!--MD5=[4d03bb2d0377dc85ccfab60ff574652b]\n",
       "link E2 to E4--><a href=\"psysml:8074e684-9dcd-4869-b14d-8570f637bde9\" target=\"_top\" title=\"psysml:8074e684-9dcd-4869-b14d-8570f637bde9\" xlink:actuate=\"onRequest\" xlink:href=\"psysml:8074e684-9dcd-4869-b14d-8570f637bde9\" xlink:show=\"new\" xlink:title=\"psysml:8074e684-9dcd-4869-b14d-8570f637bde9\" xlink:type=\"simple\"><path d=\"M63.11,140.12 C84.79,145.1 141.22,157.56 189,164 C228.76,169.36 238.96,168.49 279,171 C302.51,172.47 329,173.73 349.49,174.62 \" fill=\"none\" id=\"E2-&gt;E4\" style=\"stroke: #383838; stroke-width: 1.0;\"/><polygon fill=\"#383838\" points=\"354.57,174.84,345.7495,170.4583,349.5746,174.6259,345.407,178.451,354.57,174.84\" style=\"stroke: #383838; stroke-width: 1.0;\"/><text fill=\"#000000\" font-family=\"sans-serif\" font-size=\"13\" lengthAdjust=\"spacingAndGlyphs\" textLength=\"55\" x=\"191.5\" y=\"160.0669\">[x == 1]</text><text fill=\"#000000\" font-family=\"sans-serif\" font-size=\"13\" lengthAdjust=\"spacingAndGlyphs\" textLength=\"7\" x=\"340.1478\" y=\"188.3151\">*</text></a><!--MD5=[dcad52bbbca2fe8adc741ce38b45dc12]\n",
       "link E2 to E5--><a href=\"psysml:3f3ee8aa-e9f7-416c-965c-8aff211aef79\" target=\"_top\" title=\"psysml:3f3ee8aa-e9f7-416c-965c-8aff211aef79\" xlink:actuate=\"onRequest\" xlink:href=\"psysml:3f3ee8aa-e9f7-416c-965c-8aff211aef79\" xlink:show=\"new\" xlink:title=\"psysml:3f3ee8aa-e9f7-416c-965c-8aff211aef79\" xlink:type=\"simple\"><path d=\"M64.36,137.35 C107.45,134.77 276.62,125.94 415,137 C454.04,140.12 464.36,140.17 502,151 C510.23,153.37 518.85,156.58 526.88,159.9 \" fill=\"none\" id=\"E2-&gt;E5\" style=\"stroke: #383838; stroke-width: 1.0;\"/><polygon fill=\"#383838\" points=\"531.79,161.98,525.0555,154.7935,527.184,160.0346,521.9428,162.1631,531.79,161.98\" style=\"stroke: #383838; stroke-width: 1.0;\"/><text fill=\"#000000\" font-family=\"sans-serif\" font-size=\"13\" lengthAdjust=\"spacingAndGlyphs\" textLength=\"44\" x=\"280\" y=\"128.0669\">[x &gt; 1]</text><text fill=\"#000000\" font-family=\"sans-serif\" font-size=\"13\" lengthAdjust=\"spacingAndGlyphs\" textLength=\"7\" x=\"516.9946\" y=\"172.5617\">*</text></a><!--MD5=[e3d2a08a9c9236652057e8ed0cbc9b62]\n",
       "link E2 to E7--><a href=\"psysml:5268f6a4-a59c-47f8-920f-30c5900c34c3\" target=\"_top\" title=\"psysml:5268f6a4-a59c-47f8-920f-30c5900c34c3\" xlink:actuate=\"onRequest\" xlink:href=\"psysml:5268f6a4-a59c-47f8-920f-30c5900c34c3\" xlink:show=\"new\" xlink:title=\"psysml:5268f6a4-a59c-47f8-920f-30c5900c34c3\" xlink:type=\"simple\"><path d=\"M64.07,136.95 C86.88,134.47 141.79,127.95 159,121 C169.04,116.94 179.05,110.93 187.9,104.74 \" fill=\"none\" id=\"E2-&gt;E7\" style=\"stroke: #383838; stroke-width: 1.0;\"/><polygon fill=\"#383838\" points=\"192.15,101.7,182.5021,103.6794,188.0823,104.6075,187.1542,110.1877,192.15,101.7\" style=\"stroke: #383838; stroke-width: 1.0;\"/><text fill=\"#000000\" font-family=\"sans-serif\" font-size=\"13\" lengthAdjust=\"spacingAndGlyphs\" textLength=\"7\" x=\"176.9934\" y=\"121.6406\">*</text></a><!--MD5=[583832df87f4419a098336a29a52fa00]\n",
       "link E7 to E2--><a href=\"psysml:1fcd52fd-d040-4c7e-90de-1e4181f9ba4a\" target=\"_top\" title=\"psysml:1fcd52fd-d040-4c7e-90de-1e4181f9ba4a\" xlink:actuate=\"onRequest\" xlink:href=\"psysml:1fcd52fd-d040-4c7e-90de-1e4181f9ba4a\" xlink:show=\"new\" xlink:title=\"psysml:1fcd52fd-d040-4c7e-90de-1e4181f9ba4a\" xlink:type=\"simple\"><path d=\"M188.96,90.27 C153.05,102.97 93.45,124.05 67.16,133.35 \" fill=\"none\" id=\"E7-&gt;E2\" style=\"stroke: #383838; stroke-width: 1.0;\"/><polygon fill=\"#383838\" points=\"62.36,135.04,72.1793,135.8026,67.0726,133.3692,69.506,128.2625,62.36,135.04\" style=\"stroke: #383838; stroke-width: 1.0;\"/><text fill=\"#000000\" font-family=\"sans-serif\" font-size=\"13\" lengthAdjust=\"spacingAndGlyphs\" textLength=\"44\" x=\"114\" y=\"99.0669\">[x &gt; 0]</text><text fill=\"#000000\" font-family=\"sans-serif\" font-size=\"13\" lengthAdjust=\"spacingAndGlyphs\" textLength=\"7\" x=\"72.9695\" y=\"123.5322\">*</text></a><!--MD5=[2720a5a1f2c3fca2055b230370638851]\n",
       "link E2 to E3--><a href=\"psysml:c0d6c8f2-adfa-4de5-8b53-fd445de20c7a\" target=\"_top\" title=\"psysml:c0d6c8f2-adfa-4de5-8b53-fd445de20c7a\" xlink:actuate=\"onRequest\" xlink:href=\"psysml:c0d6c8f2-adfa-4de5-8b53-fd445de20c7a\" xlink:show=\"new\" xlink:title=\"psysml:c0d6c8f2-adfa-4de5-8b53-fd445de20c7a\" xlink:type=\"simple\"><path d=\"M59.16,144.21 C68.98,155.84 91.34,181.43 113,200 C144.83,227.3 186.84,254.05 206.69,266.2 \" fill=\"none\" id=\"E2-&gt;E3\" style=\"stroke: #383838; stroke-width: 1.0;\"/><polygon fill=\"#383838\" points=\"211.02,268.84,205.412,260.7437,206.749,266.2403,201.2524,267.5773,211.02,268.84\" style=\"stroke: #383838; stroke-width: 1.0;\"/><text fill=\"#000000\" font-family=\"sans-serif\" font-size=\"13\" lengthAdjust=\"spacingAndGlyphs\" textLength=\"7\" x=\"192.253\" y=\"254.0235\">*</text></a><!--MD5=[af87c684e3b0d8be13c1a698a818ef1e]\n",
       "link E3 to E4--><a href=\"psysml:647fb379-8896-403f-81c0-e54862ace948\" target=\"_top\" title=\"psysml:647fb379-8896-403f-81c0-e54862ace948\" xlink:actuate=\"onRequest\" xlink:href=\"psysml:647fb379-8896-403f-81c0-e54862ace948\" xlink:show=\"new\" xlink:title=\"psysml:647fb379-8896-403f-81c0-e54862ace948\" xlink:type=\"simple\"><path d=\"M227.5,269.12 C244.88,260.07 289.19,236.68 325,215 C333.33,209.96 342.16,204.29 350.39,198.88 \" fill=\"none\" id=\"E3-&gt;E4\" style=\"stroke: #383838; stroke-width: 1.0;\"/><polygon fill=\"#383838\" points=\"354.88,195.91,345.1688,197.551,350.7132,198.6736,349.5905,204.2179,354.88,195.91\" style=\"stroke: #383838; stroke-width: 1.0;\"/><text fill=\"#000000\" font-family=\"sans-serif\" font-size=\"13\" lengthAdjust=\"spacingAndGlyphs\" textLength=\"36\" x=\"284\" y=\"211.0669\">[true]</text><text fill=\"#000000\" font-family=\"sans-serif\" font-size=\"13\" lengthAdjust=\"spacingAndGlyphs\" textLength=\"7\" x=\"340.1054\" y=\"214.338\">*</text></a><!--MD5=[0188b64bb0ae78505a997a81836e11e9]\n",
       "link E3 to E5--><a href=\"psysml:1317e145-771b-48e4-a88c-08ae6f2caba6\" target=\"_top\" title=\"psysml:1317e145-771b-48e4-a88c-08ae6f2caba6\" xlink:actuate=\"onRequest\" xlink:href=\"psysml:1317e145-771b-48e4-a88c-08ae6f2caba6\" xlink:show=\"new\" xlink:title=\"psysml:1317e145-771b-48e4-a88c-08ae6f2caba6\" xlink:type=\"simple\"><path d=\"M229.88,271.49 C258.74,266.97 345.32,252.55 415,232 C454.14,220.46 497.65,203.17 526.9,190.85 \" fill=\"none\" id=\"E3-&gt;E5\" style=\"stroke: #383838; stroke-width: 1.0;\"/><polygon fill=\"#383838\" points=\"531.83,188.77,521.9831,188.576,527.2218,190.7103,525.0875,195.9491,531.83,188.77\" style=\"stroke: #383838; stroke-width: 1.0;\"/><text fill=\"#000000\" font-family=\"sans-serif\" font-size=\"13\" lengthAdjust=\"spacingAndGlyphs\" textLength=\"40\" x=\"365\" y=\"228.0669\">[false]</text><text fill=\"#000000\" font-family=\"sans-serif\" font-size=\"13\" lengthAdjust=\"spacingAndGlyphs\" textLength=\"7\" x=\"517.0438\" y=\"205.5469\">*</text></a><!--MD5=[1b7591eae5389033d8d09a9d6721a717]\n",
       "link E4 to E5--><a href=\"psysml:23f0aa3a-74d1-4632-9e57-f97d17e19ec4\" target=\"_top\" title=\"psysml:23f0aa3a-74d1-4632-9e57-f97d17e19ec4\" xlink:actuate=\"onRequest\" xlink:href=\"psysml:23f0aa3a-74d1-4632-9e57-f97d17e19ec4\" xlink:show=\"new\" xlink:title=\"psysml:23f0aa3a-74d1-4632-9e57-f97d17e19ec4\" xlink:type=\"simple\"><path d=\"M415.29,176 C446.05,176 494.36,176 526.83,176 \" fill=\"none\" id=\"E4-&gt;E5\" style=\"stroke: #383838; stroke-width: 1.0;\"/><polygon fill=\"#383838\" points=\"531.91,176,522.91,172,526.91,176,522.91,180,531.91,176\" style=\"stroke: #383838; stroke-width: 1.0;\"/><text fill=\"#000000\" font-family=\"sans-serif\" font-size=\"13\" lengthAdjust=\"spacingAndGlyphs\" textLength=\"55\" x=\"446\" y=\"172.0669\">[x == 0]</text><text fill=\"#000000\" font-family=\"sans-serif\" font-size=\"13\" lengthAdjust=\"spacingAndGlyphs\" textLength=\"7\" x=\"517.1423\" y=\"189.8239\">*</text></a><!--MD5=[d5629b77fe0b48ff7250d2dc2cf3385c]\n",
       "@startuml\r\n",
       "left to right direction\r\n",
       "skinparam monochrome true\r\n",
       "skinparam classbackgroundcolor white\r\n",
       "skinparam shadowing false\r\n",
       "skinparam wrapWidth 300\r\n",
       "hide circle\r\n",
       "\r\n",
       "rec def \"DecisionTest\" as E1  <<(T,blue) action  def>> [[psysml:62ac371c-e17a-420d-a580-1aab63005ed6 ]] {\r\n",
       "choice \"test x\" as E2  [[psysml:2e150d19-c5c5-4276-9136-9fe31d212434 ]] \r\n",
       "choice \"<s>noname</s>\" as E3  [[psysml:cc5b619c-f329-4ed7-9a64-7943d6ed9569 ]] \r\n",
       "rec usage \"A1\" as E4  <<(T,blue) action>> [[psysml:bb8ae358-9e9d-46e4-9973-23f4ed00e117 ]] {\r\n",
       "}\r\n",
       "\r\n",
       "rec usage \"A2\" as E5  <<(T,blue) action>> [[psysml:e7f91728-bf49-43a2-b90b-9012c9afe2c4 ]] {\r\n",
       "}\r\n",
       "\r\n",
       "rec usage \"A3\" as E6  <<(T,blue) action>> [[psysml:0d8578a4-a91e-4bc0-9576-e9210611ea53 ]] {\r\n",
       "}\r\n",
       "\r\n",
       "rec usage \"A3\" as E7  <<(T,blue) action>> [[psysml:0d8578a4-a91e-4bc0-9576-e9210611ea53 ]] {\r\n",
       "}\r\n",
       "\r\n",
       "}\r\n",
       "\r\n",
       "E2  - -> \"*\"E4 [[psysml:8074e684-9dcd-4869-b14d-8570f637bde9 ]] : [x == 1]\r\n",
       "E2  - -> \"*\"E5 [[psysml:3f3ee8aa-e9f7-416c-965c-8aff211aef79 ]] : [x > 1]\r\n",
       "E2  - -> \"*\"E7 [[psysml:5268f6a4-a59c-47f8-920f-30c5900c34c3 ]] \r\n",
       "E2 - -> \"*\"E3 [[psysml:c0d6c8f2-adfa-4de5-8b53-fd445de20c7a ]] \r\n",
       "E3  - -> \"*\"E4 [[psysml:647fb379-8896-403f-81c0-e54862ace948 ]] : [true]\r\n",
       "E3  - -> \"*\"E5 [[psysml:1317e145-771b-48e4-a88c-08ae6f2caba6 ]] : [false]\r\n",
       "E4  - -> \"*\"E5 [[psysml:23f0aa3a-74d1-4632-9e57-f97d17e19ec4 ]] : [x == 0]\r\n",
       "E7  - -> \"*\"E2 [[psysml:1fcd52fd-d040-4c7e-90de-1e4181f9ba4a ]] : [x > 0]\r\n",
       "@enduml\r\n",
       "\n",
       "PlantUML version 1.2020.13(Sat Jun 13 12:26:38 UTC 2020)\n",
       "(EPL source distribution)\n",
       "Java Runtime: OpenJDK Runtime Environment\n",
       "JVM: OpenJDK 64-Bit Server VM\n",
       "Default Encoding: UTF-8\n",
       "Language: en\n",
       "Country: null\n",
       "--></g></svg>"
      ]
     },
     "execution_count": 16,
     "metadata": {},
     "output_type": "execute_result"
    }
   ],
   "source": [
    "%viz --style=\"LR\" --view=\"Default\" \"DecisionTest\""
   ]
  },
  {
   "cell_type": "code",
   "execution_count": 17,
   "id": "eba7b578",
   "metadata": {
    "execution": {
     "iopub.execute_input": "2022-03-21T07:51:00.041929Z",
     "iopub.status.busy": "2022-03-21T07:51:00.041528Z",
     "iopub.status.idle": "2022-03-21T07:51:00.178306Z",
     "shell.execute_reply": "2022-03-21T07:51:00.175936Z"
    }
   },
   "outputs": [
    {
     "data": {
      "image/svg+xml": [
       "<?xml version=\"1.0\" encoding=\"UTF-8\" standalone=\"no\"?><svg xmlns=\"http://www.w3.org/2000/svg\" xmlns:xlink=\"http://www.w3.org/1999/xlink\" contentScriptType=\"application/ecmascript\" contentStyleType=\"text/css\" height=\"387px\" preserveAspectRatio=\"none\" style=\"width:268px;height:387px;\" version=\"1.1\" viewBox=\"0 0 268 387\" width=\"268px\" zoomAndPan=\"magnify\"><defs/><g><!--MD5=[43c9051892ef23e1a46a86907403d788]\n",
       "class E1--><a href=\"psysml:62ac371c-e17a-420d-a580-1aab63005ed6\" target=\"_top\" title=\"psysml:62ac371c-e17a-420d-a580-1aab63005ed6\" xlink:actuate=\"onRequest\" xlink:href=\"psysml:62ac371c-e17a-420d-a580-1aab63005ed6\" xlink:show=\"new\" xlink:title=\"psysml:62ac371c-e17a-420d-a580-1aab63005ed6\" xlink:type=\"simple\"><rect fill=\"#FFFFFF\" height=\"211.5938\" id=\"E1\" style=\"stroke: #383838; stroke-width: 1.5;\" width=\"86\" x=\"7\" y=\"127\"/><text fill=\"#000000\" font-family=\"sans-serif\" font-size=\"12\" font-style=\"italic\" lengthAdjust=\"spacingAndGlyphs\" textLength=\"81\" x=\"9.5\" y=\"143.1387\">«action  def»</text><text fill=\"#000000\" font-family=\"sans-serif\" font-size=\"12\" lengthAdjust=\"spacingAndGlyphs\" textLength=\"80\" x=\"10\" y=\"157.1074\">DecisionTest</text><line style=\"stroke: #383838; stroke-width: 1.5;\" x1=\"8\" x2=\"92\" y1=\"164.9375\" y2=\"164.9375\"/><text fill=\"#000000\" font-family=\"sans-serif\" font-size=\"11\" lengthAdjust=\"spacingAndGlyphs\" textLength=\"30\" x=\"13\" y=\"195.9526\">x= 1;</text><line style=\"stroke: #383838; stroke-width: 1.0;\" x1=\"8\" x2=\"22.5\" y1=\"179.3398\" y2=\"179.3398\"/><text fill=\"#000000\" font-family=\"sans-serif\" font-size=\"11\" lengthAdjust=\"spacingAndGlyphs\" textLength=\"55\" x=\"22.5\" y=\"182.6479\">attributes</text><line style=\"stroke: #383838; stroke-width: 1.0;\" x1=\"77.5\" x2=\"92\" y1=\"179.3398\" y2=\"179.3398\"/><text fill=\"#000000\" font-family=\"sans-serif\" font-size=\"11\" lengthAdjust=\"spacingAndGlyphs\" textLength=\"25\" x=\"13\" y=\"225.562\">then</text><line style=\"stroke: #383838; stroke-width: 1.0;\" x1=\"8\" x2=\"14.5\" y1=\"208.9492\" y2=\"208.9492\"/><text fill=\"#000000\" font-family=\"sans-serif\" font-size=\"11\" lengthAdjust=\"spacingAndGlyphs\" textLength=\"71\" x=\"14.5\" y=\"212.2573\">successions</text><line style=\"stroke: #383838; stroke-width: 1.0;\" x1=\"85.5\" x2=\"92\" y1=\"208.9492\" y2=\"208.9492\"/><text fill=\"#000000\" font-family=\"sans-serif\" font-size=\"11\" lengthAdjust=\"spacingAndGlyphs\" textLength=\"0\" x=\"17\" y=\"255.1714\"/><text fill=\"#000000\" font-family=\"sans-serif\" font-size=\"11\" lengthAdjust=\"spacingAndGlyphs\" textLength=\"0\" x=\"17\" y=\"267.9761\"/><text fill=\"#000000\" font-family=\"sans-serif\" font-size=\"11\" lengthAdjust=\"spacingAndGlyphs\" textLength=\"0\" x=\"17\" y=\"280.7808\"/><text fill=\"#000000\" font-family=\"sans-serif\" font-size=\"11\" lengthAdjust=\"spacingAndGlyphs\" textLength=\"0\" x=\"17\" y=\"293.5854\"/><text fill=\"#000000\" font-family=\"sans-serif\" font-size=\"11\" lengthAdjust=\"spacingAndGlyphs\" textLength=\"0\" x=\"17\" y=\"306.3901\"/><text fill=\"#000000\" font-family=\"sans-serif\" font-size=\"11\" lengthAdjust=\"spacingAndGlyphs\" textLength=\"0\" x=\"17\" y=\"319.1948\"/><text fill=\"#000000\" font-family=\"sans-serif\" font-size=\"11\" lengthAdjust=\"spacingAndGlyphs\" textLength=\"8\" x=\"13\" y=\"331.9995\">S</text><line style=\"stroke: #383838; stroke-width: 1.0;\" x1=\"8\" x2=\"19.5\" y1=\"238.5586\" y2=\"238.5586\"/><text fill=\"#000000\" font-family=\"sans-serif\" font-size=\"11\" lengthAdjust=\"spacingAndGlyphs\" textLength=\"61\" x=\"19.5\" y=\"241.8667\">transitions</text><line style=\"stroke: #383838; stroke-width: 1.0;\" x1=\"80.5\" x2=\"92\" y1=\"238.5586\" y2=\"238.5586\"/></a><!--MD5=[b4997ac47864f28c2f74865a473b2911]\n",
       "class E2--><a href=\"psysml:2e150d19-c5c5-4276-9136-9fe31d212434\" target=\"_top\" title=\"psysml:2e150d19-c5c5-4276-9136-9fe31d212434\" xlink:actuate=\"onRequest\" xlink:href=\"psysml:2e150d19-c5c5-4276-9136-9fe31d212434\" xlink:show=\"new\" xlink:title=\"psysml:2e150d19-c5c5-4276-9136-9fe31d212434\" xlink:type=\"simple\"><rect fill=\"#FFFFFF\" height=\"45.9375\" id=\"E2\" rx=\"10\" ry=\"10\" style=\"stroke: #383838; stroke-width: 1.5;\" width=\"104\" x=\"153\" y=\"7\"/><text fill=\"#000000\" font-family=\"sans-serif\" font-size=\"12\" font-style=\"italic\" lengthAdjust=\"spacingAndGlyphs\" textLength=\"102\" x=\"154\" y=\"23.1387\">«decision node»</text><text fill=\"#000000\" font-family=\"sans-serif\" font-size=\"12\" lengthAdjust=\"spacingAndGlyphs\" textLength=\"35\" x=\"185.5\" y=\"37.1074\">test x</text><line style=\"stroke: #383838; stroke-width: 1.5;\" x1=\"154\" x2=\"256\" y1=\"44.9375\" y2=\"44.9375\"/></a><!--MD5=[09b614a08d8cba4a07c9adeb5e0fee81]\n",
       "class E3--><a href=\"psysml:cc5b619c-f329-4ed7-9a64-7943d6ed9569\" target=\"_top\" title=\"psysml:cc5b619c-f329-4ed7-9a64-7943d6ed9569\" xlink:actuate=\"onRequest\" xlink:href=\"psysml:cc5b619c-f329-4ed7-9a64-7943d6ed9569\" xlink:show=\"new\" xlink:title=\"psysml:cc5b619c-f329-4ed7-9a64-7943d6ed9569\" xlink:type=\"simple\"><rect fill=\"#FFFFFF\" height=\"45.9375\" id=\"E3\" rx=\"10\" ry=\"10\" style=\"stroke: #383838; stroke-width: 1.5;\" width=\"104\" x=\"153\" y=\"88\"/><text fill=\"#000000\" font-family=\"sans-serif\" font-size=\"12\" font-style=\"italic\" lengthAdjust=\"spacingAndGlyphs\" textLength=\"102\" x=\"154\" y=\"104.1387\">«decision node»</text><text fill=\"#000000\" font-family=\"sans-serif\" font-size=\"12\" lengthAdjust=\"spacingAndGlyphs\" text-decoration=\"line-through\" textLength=\"51\" x=\"177.5\" y=\"118.1074\">noname</text><text fill=\"#000000\" font-family=\"sans-serif\" font-size=\"12\" lengthAdjust=\"spacingAndGlyphs\" textLength=\"0\" x=\"232.5\" y=\"118.1074\"/><line style=\"stroke: #383838; stroke-width: 1.5;\" x1=\"154\" x2=\"256\" y1=\"125.9375\" y2=\"125.9375\"/></a><!--MD5=[ebbe1d658d1005bcc118a6aa81145e00]\n",
       "class E4--><a href=\"psysml:bb8ae358-9e9d-46e4-9973-23f4ed00e117\" target=\"_top\" title=\"psysml:bb8ae358-9e9d-46e4-9973-23f4ed00e117\" xlink:actuate=\"onRequest\" xlink:href=\"psysml:bb8ae358-9e9d-46e4-9973-23f4ed00e117\" xlink:show=\"new\" xlink:title=\"psysml:bb8ae358-9e9d-46e4-9973-23f4ed00e117\" xlink:type=\"simple\"><rect fill=\"#FFFFFF\" height=\"45.9375\" id=\"E4\" rx=\"10\" ry=\"10\" style=\"stroke: #383838; stroke-width: 1.5;\" width=\"55\" x=\"177.5\" y=\"169\"/><text fill=\"#000000\" font-family=\"sans-serif\" font-size=\"12\" font-style=\"italic\" lengthAdjust=\"spacingAndGlyphs\" textLength=\"53\" x=\"178.5\" y=\"185.1387\">«action»</text><text fill=\"#000000\" font-family=\"sans-serif\" font-size=\"12\" lengthAdjust=\"spacingAndGlyphs\" textLength=\"16\" x=\"195\" y=\"199.1074\">A1</text><line style=\"stroke: #383838; stroke-width: 1.5;\" x1=\"178.5\" x2=\"231.5\" y1=\"206.9375\" y2=\"206.9375\"/></a><!--MD5=[270fce915f116d4de14055a7c1d9a0f3]\n",
       "class E5--><a href=\"psysml:e7f91728-bf49-43a2-b90b-9012c9afe2c4\" target=\"_top\" title=\"psysml:e7f91728-bf49-43a2-b90b-9012c9afe2c4\" xlink:actuate=\"onRequest\" xlink:href=\"psysml:e7f91728-bf49-43a2-b90b-9012c9afe2c4\" xlink:show=\"new\" xlink:title=\"psysml:e7f91728-bf49-43a2-b90b-9012c9afe2c4\" xlink:type=\"simple\"><rect fill=\"#FFFFFF\" height=\"45.9375\" id=\"E5\" rx=\"10\" ry=\"10\" style=\"stroke: #383838; stroke-width: 1.5;\" width=\"55\" x=\"177.5\" y=\"250\"/><text fill=\"#000000\" font-family=\"sans-serif\" font-size=\"12\" font-style=\"italic\" lengthAdjust=\"spacingAndGlyphs\" textLength=\"53\" x=\"178.5\" y=\"266.1387\">«action»</text><text fill=\"#000000\" font-family=\"sans-serif\" font-size=\"12\" lengthAdjust=\"spacingAndGlyphs\" textLength=\"16\" x=\"195\" y=\"280.1074\">A2</text><line style=\"stroke: #383838; stroke-width: 1.5;\" x1=\"178.5\" x2=\"231.5\" y1=\"287.9375\" y2=\"287.9375\"/></a><!--MD5=[60a26617385b1d2d0262a64233df1f8d]\n",
       "class E6--><a href=\"psysml:0d8578a4-a91e-4bc0-9576-e9210611ea53\" target=\"_top\" title=\"psysml:0d8578a4-a91e-4bc0-9576-e9210611ea53\" xlink:actuate=\"onRequest\" xlink:href=\"psysml:0d8578a4-a91e-4bc0-9576-e9210611ea53\" xlink:show=\"new\" xlink:title=\"psysml:0d8578a4-a91e-4bc0-9576-e9210611ea53\" xlink:type=\"simple\"><rect fill=\"#FFFFFF\" height=\"45.9375\" id=\"E6\" rx=\"10\" ry=\"10\" style=\"stroke: #383838; stroke-width: 1.5;\" width=\"55\" x=\"177.5\" y=\"331\"/><text fill=\"#000000\" font-family=\"sans-serif\" font-size=\"12\" font-style=\"italic\" lengthAdjust=\"spacingAndGlyphs\" textLength=\"53\" x=\"178.5\" y=\"347.1387\">«action»</text><text fill=\"#000000\" font-family=\"sans-serif\" font-size=\"12\" lengthAdjust=\"spacingAndGlyphs\" textLength=\"16\" x=\"195\" y=\"361.1074\">A3</text><line style=\"stroke: #383838; stroke-width: 1.5;\" x1=\"178.5\" x2=\"231.5\" y1=\"368.9375\" y2=\"368.9375\"/></a><!--MD5=[a523cb2a0b79ecf9065ad8783f96c320]\n",
       "reverse link E1 to E2--><a href=\"psysml:61bbaf95-6b35-4ea8-9656-8ce08595131a\" target=\"_top\" title=\"psysml:61bbaf95-6b35-4ea8-9656-8ce08595131a\" xlink:actuate=\"onRequest\" xlink:href=\"psysml:61bbaf95-6b35-4ea8-9656-8ce08595131a\" xlink:show=\"new\" xlink:title=\"psysml:61bbaf95-6b35-4ea8-9656-8ce08595131a\" xlink:type=\"simple\"><path d=\"M99.97,142.41 C115.34,117.68 133.45,91.74 153,70 C158.34,64.06 164.64,58.34 170.96,53.17 \" fill=\"none\" id=\"E1&lt;-E2\" style=\"stroke: #383838; stroke-width: 1.0;\"/><polygon fill=\"#383838\" points=\"93.1,153.67,99.6395,150.631,99.3494,143.4257,92.8099,146.4647,93.1,153.67\" style=\"stroke: #383838; stroke-width: 1.0;\"/></a><!--MD5=[5d7b3810b1dd9b5164bea1151b29b665]\n",
       "reverse link E1 to E3--><a href=\"psysml:1be4164a-e759-487d-bef2-3f3fc6c6ee3e\" target=\"_top\" title=\"psysml:1be4164a-e759-487d-bef2-3f3fc6c6ee3e\" xlink:actuate=\"onRequest\" xlink:href=\"psysml:1be4164a-e759-487d-bef2-3f3fc6c6ee3e\" xlink:show=\"new\" xlink:title=\"psysml:1be4164a-e759-487d-bef2-3f3fc6c6ee3e\" xlink:type=\"simple\"><path d=\"M103.29,190.76 C119.22,177.95 136.8,163.87 153,151 C159.87,145.54 167.29,139.7 174.29,134.21 \" fill=\"none\" id=\"E1&lt;-E3\" style=\"stroke: #383838; stroke-width: 1.0;\"/><polygon fill=\"#383838\" points=\"93.09,198.97,100.2719,198.3219,102.4359,191.4432,95.254,192.0913,93.09,198.97\" style=\"stroke: #383838; stroke-width: 1.0;\"/></a><!--MD5=[f2c5c03aa1e8c0ba21c10a05e6444b8e]\n",
       "reverse link E1 to E4--><a href=\"psysml:ea8ec5e3-dd0d-4201-a2d4-45f385d409e8\" target=\"_top\" title=\"psysml:ea8ec5e3-dd0d-4201-a2d4-45f385d409e8\" xlink:actuate=\"onRequest\" xlink:href=\"psysml:ea8ec5e3-dd0d-4201-a2d4-45f385d409e8\" xlink:show=\"new\" xlink:title=\"psysml:ea8ec5e3-dd0d-4201-a2d4-45f385d409e8\" xlink:type=\"simple\"><path d=\"M105.93,218.28 C130.22,211.77 157.65,204.42 177.32,199.15 \" fill=\"none\" id=\"E1&lt;-E4\" style=\"stroke: #383838; stroke-width: 1.0;\"/><polygon fill=\"#383838\" points=\"93.21,221.69,100.042,223.9974,104.7996,218.5784,97.9676,216.271,93.21,221.69\" style=\"stroke: #383838; stroke-width: 1.0;\"/><text fill=\"#000000\" font-family=\"sans-serif\" font-size=\"13\" lengthAdjust=\"spacingAndGlyphs\" textLength=\"7\" x=\"162.3301\" y=\"214.996\">*</text></a><!--MD5=[33238bef88d6431a141d8bc8fb12bca0]\n",
       "reverse link E1 to E5--><a href=\"psysml:8b3fb5b8-4ae2-4666-9331-7642784b574c\" target=\"_top\" title=\"psysml:8b3fb5b8-4ae2-4666-9331-7642784b574c\" xlink:actuate=\"onRequest\" xlink:href=\"psysml:8b3fb5b8-4ae2-4666-9331-7642784b574c\" xlink:show=\"new\" xlink:title=\"psysml:8b3fb5b8-4ae2-4666-9331-7642784b574c\" xlink:type=\"simple\"><path d=\"M105.93,247.36 C130.22,253.71 157.65,260.88 177.32,266.02 \" fill=\"none\" id=\"E1&lt;-E5\" style=\"stroke: #383838; stroke-width: 1.0;\"/><polygon fill=\"#383838\" points=\"93.21,244.04,98.005,249.4259,104.8208,247.0712,100.0258,241.6853,93.21,244.04\" style=\"stroke: #383838; stroke-width: 1.0;\"/><text fill=\"#000000\" font-family=\"sans-serif\" font-size=\"13\" lengthAdjust=\"spacingAndGlyphs\" textLength=\"7\" x=\"162.3301\" y=\"278.2452\">*</text></a><!--MD5=[aca2ef284c2b1b90e17e73bf3f292c07]\n",
       "reverse link E1 to E6--><a href=\"psysml:a8437b79-0ca7-4b3d-9ccd-1b1fd90c9a28\" target=\"_top\" title=\"psysml:a8437b79-0ca7-4b3d-9ccd-1b1fd90c9a28\" xlink:actuate=\"onRequest\" xlink:href=\"psysml:a8437b79-0ca7-4b3d-9ccd-1b1fd90c9a28\" xlink:show=\"new\" xlink:title=\"psysml:a8437b79-0ca7-4b3d-9ccd-1b1fd90c9a28\" xlink:type=\"simple\"><path d=\"M103.26,286.5 C128.18,307.45 156.93,329.44 177.32,342.85 \" fill=\"none\" id=\"E1&lt;-E6\" style=\"stroke: #383838; stroke-width: 1.0;\"/><polygon fill=\"#383838\" points=\"93.21,277.92,95.1748,284.8583,102.335,285.7132,100.3702,278.7749,93.21,277.92\" style=\"stroke: #383838; stroke-width: 1.0;\"/><text fill=\"#000000\" font-family=\"sans-serif\" font-size=\"13\" lengthAdjust=\"spacingAndGlyphs\" textLength=\"7\" x=\"162.3301\" y=\"354.0066\">*</text></a><!--MD5=[aca2ef284c2b1b90e17e73bf3f292c07]\n",
       "reverse link E1 to E6--><a href=\"psysml:df3b65d4-7483-4b88-b5f9-cbf727def8cf\" target=\"_top\" title=\"psysml:df3b65d4-7483-4b88-b5f9-cbf727def8cf\" xlink:actuate=\"onRequest\" xlink:href=\"psysml:df3b65d4-7483-4b88-b5f9-cbf727def8cf\" xlink:show=\"new\" xlink:title=\"psysml:df3b65d4-7483-4b88-b5f9-cbf727def8cf\" xlink:type=\"simple\"><path d=\"M105.45,263.07 C133.8,284.15 166.57,311.38 186.27,330.95 \" fill=\"none\" id=\"E1&lt;-E6-1\" style=\"stroke: #383838; stroke-width: 1.0; stroke-dasharray: 7.0,7.0;\"/><ellipse cx=\"99.6779\" cy=\"258.8781\" fill=\"#FFFFFF\" rx=\"8\" ry=\"8\" style=\"stroke: #383838; stroke-width: 1.0;\"/><line style=\"stroke: #383838; stroke-width: 1.0;\" x1=\"106.1458\" x2=\"93.21\" y1=\"263.5862\" y2=\"254.17\"/><line style=\"stroke: #383838; stroke-width: 1.0;\" x1=\"94.9698\" x2=\"104.386\" y1=\"265.346\" y2=\"252.4102\"/><text fill=\"#000000\" font-family=\"sans-serif\" font-size=\"13\" lengthAdjust=\"spacingAndGlyphs\" textLength=\"7\" x=\"173.2957\" y=\"319.8328\">*</text></a><!--MD5=[74adf224610edeb3ca73eef3e09f36b1]\n",
       "@startuml\r\n",
       "left to right direction\r\n",
       "skinparam monochrome true\r\n",
       "skinparam classbackgroundcolor white\r\n",
       "skinparam shadowing false\r\n",
       "skinparam wrapWidth 300\r\n",
       "hide circle\r\n",
       "\r\n",
       "comp def \"DecisionTest\" as E1  <<(T,blue) action  def>> [[psysml:62ac371c-e17a-420d-a580-1aab63005ed6 ]] {\r\n",
       "- - attributes - -\r\n",
       "x= 1; \r\n",
       "- - successions - -\r\n",
       " then \r\n",
       "- - transitions - -\r\n",
       "\r\n",
       "\r\n",
       "\r\n",
       "\r\n",
       "\r\n",
       "\r\n",
       "S\r\n",
       "}\r\n",
       "comp usage \"test x \" as E2  <<(T,blue) decision node>> [[psysml:2e150d19-c5c5-4276-9136-9fe31d212434 ]] {\r\n",
       "}\r\n",
       "comp usage \"<s>noname</s> \" as E3  <<(T,blue) decision node>> [[psysml:cc5b619c-f329-4ed7-9a64-7943d6ed9569 ]] {\r\n",
       "}\r\n",
       "comp usage \"A1 \" as E4  <<(T,blue) action>> [[psysml:bb8ae358-9e9d-46e4-9973-23f4ed00e117 ]] {\r\n",
       "}\r\n",
       "comp usage \"A2 \" as E5  <<(T,blue) action>> [[psysml:e7f91728-bf49-43a2-b90b-9012c9afe2c4 ]] {\r\n",
       "}\r\n",
       "comp usage \"A3 \" as E6  <<(T,blue) action>> [[psysml:0d8578a4-a91e-4bc0-9576-e9210611ea53 ]] {\r\n",
       "}\r\n",
       "E1 *- - E2 [[psysml:61bbaf95-6b35-4ea8-9656-8ce08595131a ]] \r\n",
       "E1 *- - E3 [[psysml:1be4164a-e759-487d-bef2-3f3fc6c6ee3e ]] \r\n",
       "E1 *- - \"*\"E4 [[psysml:ea8ec5e3-dd0d-4201-a2d4-45f385d409e8 ]] \r\n",
       "E1 *- - \"*\"E5 [[psysml:8b3fb5b8-4ae2-4666-9331-7642784b574c ]] \r\n",
       "E1 *- - \"*\"E6 [[psysml:a8437b79-0ca7-4b3d-9ccd-1b1fd90c9a28 ]] \r\n",
       "E1 +.. \"*\"E6 [[psysml:df3b65d4-7483-4b88-b5f9-cbf727def8cf ]] \r\n",
       "@enduml\r\n",
       "\n",
       "PlantUML version 1.2020.13(Sat Jun 13 12:26:38 UTC 2020)\n",
       "(EPL source distribution)\n",
       "Java Runtime: OpenJDK Runtime Environment\n",
       "JVM: OpenJDK 64-Bit Server VM\n",
       "Default Encoding: UTF-8\n",
       "Language: en\n",
       "Country: null\n",
       "--></g></svg>"
      ]
     },
     "execution_count": 17,
     "metadata": {},
     "output_type": "execute_result"
    }
   ],
   "source": [
    "%viz --style=\"LR\" --view=\"Tree\" \"DecisionTest\""
   ]
  },
  {
   "cell_type": "code",
   "execution_count": 18,
   "id": "73665db6",
   "metadata": {
    "execution": {
     "iopub.execute_input": "2022-03-21T07:51:00.227145Z",
     "iopub.status.busy": "2022-03-21T07:51:00.226547Z",
     "iopub.status.idle": "2022-03-21T07:51:00.231044Z",
     "shell.execute_reply": "2022-03-21T07:51:00.230654Z"
    }
   },
   "outputs": [
    {
     "data": {
      "image/svg+xml": [
       "<?xml version=\"1.0\" encoding=\"UTF-8\" standalone=\"no\"?><svg xmlns=\"http://www.w3.org/2000/svg\" xmlns:xlink=\"http://www.w3.org/1999/xlink\" contentScriptType=\"application/ecmascript\" contentStyleType=\"text/css\" height=\"12px\" preserveAspectRatio=\"none\" style=\"width:12px;height:12px;\" version=\"1.1\" viewBox=\"0 0 12 12\" width=\"12px\" zoomAndPan=\"magnify\"><defs/><g><!--MD5=[19d285c9d72a204eba4e2cd117d745e8]\n",
       "@startuml\r\n",
       "left to right direction\r\n",
       "skinparam monochrome true\r\n",
       "skinparam classbackgroundcolor white\r\n",
       "skinparam shadowing false\r\n",
       "skinparam wrapWidth 300\r\n",
       "hide circle\r\n",
       "\r\n",
       "@enduml\r\n",
       "\n",
       "PlantUML version 1.2020.13(Sat Jun 13 12:26:38 UTC 2020)\n",
       "(EPL source distribution)\n",
       "Java Runtime: OpenJDK Runtime Environment\n",
       "JVM: OpenJDK 64-Bit Server VM\n",
       "Default Encoding: UTF-8\n",
       "Language: en\n",
       "Country: null\n",
       "--></g></svg>"
      ]
     },
     "execution_count": 18,
     "metadata": {},
     "output_type": "execute_result"
    }
   ],
   "source": [
    "%viz --style=\"LR\" --view=\"State\" \"DecisionTest\""
   ]
  },
  {
   "cell_type": "code",
   "execution_count": 19,
   "id": "820e5092",
   "metadata": {
    "execution": {
     "iopub.execute_input": "2022-03-21T07:51:00.281237Z",
     "iopub.status.busy": "2022-03-21T07:51:00.280803Z",
     "iopub.status.idle": "2022-03-21T07:51:00.320772Z",
     "shell.execute_reply": "2022-03-21T07:51:00.320396Z"
    }
   },
   "outputs": [
    {
     "data": {
      "image/svg+xml": [
       "<?xml version=\"1.0\" encoding=\"UTF-8\" standalone=\"no\"?><svg xmlns=\"http://www.w3.org/2000/svg\" xmlns:xlink=\"http://www.w3.org/1999/xlink\" contentScriptType=\"application/ecmascript\" contentStyleType=\"text/css\" height=\"312px\" preserveAspectRatio=\"none\" style=\"width:487px;height:312px;\" version=\"1.1\" viewBox=\"0 0 487 312\" width=\"487px\" zoomAndPan=\"magnify\"><defs/><g><!--MD5=[fbc87193dbaf4d95561dea2c320d4a47]\n",
       "cluster E1--><a href=\"psysml:62ac371c-e17a-420d-a580-1aab63005ed6\" target=\"_top\" title=\"psysml:62ac371c-e17a-420d-a580-1aab63005ed6\" xlink:actuate=\"onRequest\" xlink:href=\"psysml:62ac371c-e17a-420d-a580-1aab63005ed6\" xlink:show=\"new\" xlink:title=\"psysml:62ac371c-e17a-420d-a580-1aab63005ed6\" xlink:type=\"simple\"><rect fill=\"#FFFFFF\" height=\"294\" id=\"E1\" style=\"stroke: #383838; stroke-width: 1.5;\" width=\"469\" x=\"7\" y=\"7\"/><rect fill=\"#F8F8F8\" height=\"37.9375\" style=\"stroke: #383838; stroke-width: 1.5;\" width=\"469\" x=\"7\" y=\"7\"/><text fill=\"#000000\" font-family=\"sans-serif\" font-size=\"12\" font-style=\"italic\" lengthAdjust=\"spacingAndGlyphs\" textLength=\"81\" x=\"201\" y=\"23.1387\">«action  def»</text><text fill=\"#000000\" font-family=\"sans-serif\" font-size=\"12\" lengthAdjust=\"spacingAndGlyphs\" textLength=\"80\" x=\"201.5\" y=\"37.1074\">DecisionTest</text></a><polygon fill=\"#F8F8F8\" points=\"53,126,65,138,53,150,41,138,53,126\" style=\"stroke: #383838; stroke-width: 1.5;\"/><polygon fill=\"#F8F8F8\" points=\"175,261,187,273,175,285,163,273,175,261\" style=\"stroke: #383838; stroke-width: 1.5;\"/><g id=\"E1.E4\"><a href=\"psysml:bb8ae358-9e9d-46e4-9973-23f4ed00e117\" target=\"_top\" title=\"psysml:bb8ae358-9e9d-46e4-9973-23f4ed00e117\" xlink:actuate=\"onRequest\" xlink:href=\"psysml:bb8ae358-9e9d-46e4-9973-23f4ed00e117\" xlink:show=\"new\" xlink:title=\"psysml:bb8ae358-9e9d-46e4-9973-23f4ed00e117\" xlink:type=\"simple\"><rect fill=\"#FFFFFF\" height=\"42.9375\" id=\"E4\" rx=\"10\" ry=\"10\" style=\"stroke: #383838; stroke-width: 1.5;\" width=\"60\" x=\"267\" y=\"154.5\"/><rect fill=\"#F8F8F8\" height=\"37.9375\" rx=\"10\" ry=\"10\" style=\"stroke: #F8F8F8; stroke-width: 1.5;\" width=\"60\" x=\"267\" y=\"154.5\"/><rect fill=\"#F8F8F8\" height=\"10\" style=\"stroke: #F8F8F8; stroke-width: 1.5;\" width=\"60\" x=\"267\" y=\"182.4375\"/><rect fill=\"none\" height=\"42.9375\" id=\"E4\" rx=\"10\" ry=\"10\" style=\"stroke: #383838; stroke-width: 1.5;\" width=\"60\" x=\"267\" y=\"154.5\"/><text fill=\"#000000\" font-family=\"sans-serif\" font-size=\"12\" font-style=\"italic\" lengthAdjust=\"spacingAndGlyphs\" textLength=\"53\" x=\"270.5\" y=\"170.6387\">«action»</text><text fill=\"#000000\" font-family=\"sans-serif\" font-size=\"12\" lengthAdjust=\"spacingAndGlyphs\" textLength=\"16\" x=\"289\" y=\"184.6074\">A1</text></a></g><g id=\"E1.E5\"><a href=\"psysml:e7f91728-bf49-43a2-b90b-9012c9afe2c4\" target=\"_top\" title=\"psysml:e7f91728-bf49-43a2-b90b-9012c9afe2c4\" xlink:actuate=\"onRequest\" xlink:href=\"psysml:e7f91728-bf49-43a2-b90b-9012c9afe2c4\" xlink:show=\"new\" xlink:title=\"psysml:e7f91728-bf49-43a2-b90b-9012c9afe2c4\" xlink:type=\"simple\"><rect fill=\"#FFFFFF\" height=\"42.9375\" id=\"E5\" rx=\"10\" ry=\"10\" style=\"stroke: #383838; stroke-width: 1.5;\" width=\"60\" x=\"400\" y=\"154.5\"/><rect fill=\"#F8F8F8\" height=\"37.9375\" rx=\"10\" ry=\"10\" style=\"stroke: #F8F8F8; stroke-width: 1.5;\" width=\"60\" x=\"400\" y=\"154.5\"/><rect fill=\"#F8F8F8\" height=\"10\" style=\"stroke: #F8F8F8; stroke-width: 1.5;\" width=\"60\" x=\"400\" y=\"182.4375\"/><rect fill=\"none\" height=\"42.9375\" id=\"E5\" rx=\"10\" ry=\"10\" style=\"stroke: #383838; stroke-width: 1.5;\" width=\"60\" x=\"400\" y=\"154.5\"/><text fill=\"#000000\" font-family=\"sans-serif\" font-size=\"12\" font-style=\"italic\" lengthAdjust=\"spacingAndGlyphs\" textLength=\"53\" x=\"403.5\" y=\"170.6387\">«action»</text><text fill=\"#000000\" font-family=\"sans-serif\" font-size=\"12\" lengthAdjust=\"spacingAndGlyphs\" textLength=\"16\" x=\"422\" y=\"184.6074\">A2</text></a></g><g id=\"E1.E6\"><a href=\"psysml:0d8578a4-a91e-4bc0-9576-e9210611ea53\" target=\"_top\" title=\"psysml:0d8578a4-a91e-4bc0-9576-e9210611ea53\" xlink:actuate=\"onRequest\" xlink:href=\"psysml:0d8578a4-a91e-4bc0-9576-e9210611ea53\" xlink:show=\"new\" xlink:title=\"psysml:0d8578a4-a91e-4bc0-9576-e9210611ea53\" xlink:type=\"simple\"><rect fill=\"#FFFFFF\" height=\"42.9375\" id=\"E6\" rx=\"10\" ry=\"10\" style=\"stroke: #383838; stroke-width: 1.5;\" width=\"60\" x=\"23\" y=\"213.5\"/><rect fill=\"#F8F8F8\" height=\"37.9375\" rx=\"10\" ry=\"10\" style=\"stroke: #F8F8F8; stroke-width: 1.5;\" width=\"60\" x=\"23\" y=\"213.5\"/><rect fill=\"#F8F8F8\" height=\"10\" style=\"stroke: #F8F8F8; stroke-width: 1.5;\" width=\"60\" x=\"23\" y=\"241.4375\"/><rect fill=\"none\" height=\"42.9375\" id=\"E6\" rx=\"10\" ry=\"10\" style=\"stroke: #383838; stroke-width: 1.5;\" width=\"60\" x=\"23\" y=\"213.5\"/><text fill=\"#000000\" font-family=\"sans-serif\" font-size=\"12\" font-style=\"italic\" lengthAdjust=\"spacingAndGlyphs\" textLength=\"53\" x=\"26.5\" y=\"229.6387\">«action»</text><text fill=\"#000000\" font-family=\"sans-serif\" font-size=\"12\" lengthAdjust=\"spacingAndGlyphs\" textLength=\"16\" x=\"45\" y=\"243.6074\">A3</text></a></g><g id=\"E1.E7\"><a href=\"psysml:0d8578a4-a91e-4bc0-9576-e9210611ea53\" target=\"_top\" title=\"psysml:0d8578a4-a91e-4bc0-9576-e9210611ea53\" xlink:actuate=\"onRequest\" xlink:href=\"psysml:0d8578a4-a91e-4bc0-9576-e9210611ea53\" xlink:show=\"new\" xlink:title=\"psysml:0d8578a4-a91e-4bc0-9576-e9210611ea53\" xlink:type=\"simple\"><rect fill=\"#FFFFFF\" height=\"42.9375\" id=\"E7\" rx=\"10\" ry=\"10\" style=\"stroke: #383838; stroke-width: 1.5;\" width=\"60\" x=\"145\" y=\"58.5\"/><rect fill=\"#F8F8F8\" height=\"37.9375\" rx=\"10\" ry=\"10\" style=\"stroke: #F8F8F8; stroke-width: 1.5;\" width=\"60\" x=\"145\" y=\"58.5\"/><rect fill=\"#F8F8F8\" height=\"10\" style=\"stroke: #F8F8F8; stroke-width: 1.5;\" width=\"60\" x=\"145\" y=\"86.4375\"/><rect fill=\"none\" height=\"42.9375\" id=\"E7\" rx=\"10\" ry=\"10\" style=\"stroke: #383838; stroke-width: 1.5;\" width=\"60\" x=\"145\" y=\"58.5\"/><text fill=\"#000000\" font-family=\"sans-serif\" font-size=\"12\" font-style=\"italic\" lengthAdjust=\"spacingAndGlyphs\" textLength=\"53\" x=\"148.5\" y=\"74.6387\">«action»</text><text fill=\"#000000\" font-family=\"sans-serif\" font-size=\"12\" lengthAdjust=\"spacingAndGlyphs\" textLength=\"16\" x=\"167\" y=\"88.6074\">A3</text></a></g><!--MD5=[4d03bb2d0377dc85ccfab60ff574652b]\n",
       "link E2 to E4--><a href=\"psysml:8074e684-9dcd-4869-b14d-8570f637bde9\" target=\"_top\" title=\"psysml:8074e684-9dcd-4869-b14d-8570f637bde9\" xlink:actuate=\"onRequest\" xlink:href=\"psysml:8074e684-9dcd-4869-b14d-8570f637bde9\" xlink:show=\"new\" xlink:title=\"psysml:8074e684-9dcd-4869-b14d-8570f637bde9\" xlink:type=\"simple\"><path d=\"M62.41,140.94 C78.32,146.39 114.02,158.03 145,164 C174.83,169.75 182.72,168.53 213,171 C228.89,172.3 246.52,173.4 261.42,174.25 \" fill=\"none\" id=\"E2-&gt;E4\" style=\"stroke: #383838; stroke-width: 1.0;\"/><polygon fill=\"#383838\" points=\"266.79,174.54,258.0208,170.0567,261.7974,174.2682,257.5859,178.0448,266.79,174.54\" style=\"stroke: #383838; stroke-width: 1.0;\"/><text fill=\"#000000\" font-family=\"sans-serif\" font-size=\"13\" lengthAdjust=\"spacingAndGlyphs\" textLength=\"55\" x=\"147.5\" y=\"160.0669\">[x == 1]</text><text fill=\"#000000\" font-family=\"sans-serif\" font-size=\"13\" lengthAdjust=\"spacingAndGlyphs\" textLength=\"7\" x=\"251.9946\" y=\"188.0262\">*</text></a><!--MD5=[dcad52bbbca2fe8adc741ce38b45dc12]\n",
       "link E2 to E5--><a href=\"psysml:3f3ee8aa-e9f7-416c-965c-8aff211aef79\" target=\"_top\" title=\"psysml:3f3ee8aa-e9f7-416c-965c-8aff211aef79\" xlink:actuate=\"onRequest\" xlink:href=\"psysml:3f3ee8aa-e9f7-416c-965c-8aff211aef79\" xlink:show=\"new\" xlink:title=\"psysml:3f3ee8aa-e9f7-416c-965c-8aff211aef79\" xlink:type=\"simple\"><path d=\"M64.69,137.65 C108.56,136.25 274.8,131.44 327,137 C356.39,140.13 364.82,139.41 392,151 C392.96,151.41 393.93,151.85 394.89,152.31 \" fill=\"none\" id=\"E2-&gt;E5\" style=\"stroke: #383838; stroke-width: 1.0;\"/><polygon fill=\"#383838\" points=\"399.68,154.77,393.5069,147.0958,395.2339,152.4826,389.8471,154.2096,399.68,154.77\" style=\"stroke: #383838; stroke-width: 1.0;\"/><text fill=\"#000000\" font-family=\"sans-serif\" font-size=\"13\" lengthAdjust=\"spacingAndGlyphs\" textLength=\"44\" x=\"214\" y=\"131.0669\">[x &gt; 1]</text><text fill=\"#000000\" font-family=\"sans-serif\" font-size=\"13\" lengthAdjust=\"spacingAndGlyphs\" textLength=\"7\" x=\"384.8591\" y=\"163.6844\">*</text></a><!--MD5=[e3d2a08a9c9236652057e8ed0cbc9b62]\n",
       "link E2 to E7--><a href=\"psysml:5268f6a4-a59c-47f8-920f-30c5900c34c3\" target=\"_top\" title=\"psysml:5268f6a4-a59c-47f8-920f-30c5900c34c3\" xlink:actuate=\"onRequest\" xlink:href=\"psysml:5268f6a4-a59c-47f8-920f-30c5900c34c3\" xlink:show=\"new\" xlink:title=\"psysml:5268f6a4-a59c-47f8-920f-30c5900c34c3\" xlink:type=\"simple\"><path d=\"M63.4,136.24 C84.45,132.27 133.79,122.83 137,121 C143.76,117.13 149.96,111.59 155.27,105.83 \" fill=\"none\" id=\"E2-&gt;E7\" style=\"stroke: #383838; stroke-width: 1.0;\"/><polygon fill=\"#383838\" points=\"158.8,101.82,149.8466,105.9232,155.4924,105.5696,155.8459,111.2154,158.8,101.82\" style=\"stroke: #383838; stroke-width: 1.0;\"/><text fill=\"#000000\" font-family=\"sans-serif\" font-size=\"13\" lengthAdjust=\"spacingAndGlyphs\" textLength=\"7\" x=\"146.7519\" y=\"121.4252\">*</text></a><!--MD5=[583832df87f4419a098336a29a52fa00]\n",
       "link E7 to E2--><a href=\"psysml:1fcd52fd-d040-4c7e-90de-1e4181f9ba4a\" target=\"_top\" title=\"psysml:1fcd52fd-d040-4c7e-90de-1e4181f9ba4a\" xlink:actuate=\"onRequest\" xlink:href=\"psysml:1fcd52fd-d040-4c7e-90de-1e4181f9ba4a\" xlink:show=\"new\" xlink:title=\"psysml:1fcd52fd-d040-4c7e-90de-1e4181f9ba4a\" xlink:type=\"simple\"><path d=\"M144.81,94.11 C119.63,106.28 84.51,123.25 66.2,132.1 \" fill=\"none\" id=\"E7-&gt;E2\" style=\"stroke: #383838; stroke-width: 1.0;\"/><polygon fill=\"#383838\" points=\"61.51,134.37,71.354,134.0612,66.0131,132.1971,67.8773,126.8562,61.51,134.37\" style=\"stroke: #383838; stroke-width: 1.0;\"/><text fill=\"#000000\" font-family=\"sans-serif\" font-size=\"13\" lengthAdjust=\"spacingAndGlyphs\" textLength=\"44\" x=\"92\" y=\"95.0669\">[x &gt; 0]</text><text fill=\"#000000\" font-family=\"sans-serif\" font-size=\"13\" lengthAdjust=\"spacingAndGlyphs\" textLength=\"7\" x=\"73.2198\" y=\"120.6499\">*</text></a><!--MD5=[2720a5a1f2c3fca2055b230370638851]\n",
       "link E2 to E3--><a href=\"psysml:c0d6c8f2-adfa-4de5-8b53-fd445de20c7a\" target=\"_top\" title=\"psysml:c0d6c8f2-adfa-4de5-8b53-fd445de20c7a\" xlink:actuate=\"onRequest\" xlink:href=\"psysml:c0d6c8f2-adfa-4de5-8b53-fd445de20c7a\" xlink:show=\"new\" xlink:title=\"psysml:c0d6c8f2-adfa-4de5-8b53-fd445de20c7a\" xlink:type=\"simple\"><path d=\"M57.63,145.75 C63.59,158 76.25,182.27 91,200 C113.43,226.97 146.15,252.65 163.03,265.13 \" fill=\"none\" id=\"E2-&gt;E3\" style=\"stroke: #383838; stroke-width: 1.0;\"/><polygon fill=\"#383838\" points=\"167.35,268.28,162.442,259.7412,163.3125,265.3306,157.723,266.2011,167.35,268.28\" style=\"stroke: #383838; stroke-width: 1.0;\"/><text fill=\"#000000\" font-family=\"sans-serif\" font-size=\"13\" lengthAdjust=\"spacingAndGlyphs\" textLength=\"7\" x=\"147.8062\" y=\"251.6741\">*</text></a><!--MD5=[af87c684e3b0d8be13c1a698a818ef1e]\n",
       "link E3 to E4--><a href=\"psysml:647fb379-8896-403f-81c0-e54862ace948\" target=\"_top\" title=\"psysml:647fb379-8896-403f-81c0-e54862ace948\" xlink:actuate=\"onRequest\" xlink:href=\"psysml:647fb379-8896-403f-81c0-e54862ace948\" xlink:show=\"new\" xlink:title=\"psysml:647fb379-8896-403f-81c0-e54862ace948\" xlink:type=\"simple\"><path d=\"M183.24,268.64 C198.11,259.54 232.89,237.48 259,215 C263.75,210.91 268.56,206.28 273.06,201.67 \" fill=\"none\" id=\"E3-&gt;E4\" style=\"stroke: #383838; stroke-width: 1.0;\"/><polygon fill=\"#383838\" points=\"276.77,197.83,267.6434,201.5321,273.2993,201.4292,273.4022,207.0851,276.77,197.83\" style=\"stroke: #383838; stroke-width: 1.0;\"/><text fill=\"#000000\" font-family=\"sans-serif\" font-size=\"13\" lengthAdjust=\"spacingAndGlyphs\" textLength=\"36\" x=\"218\" y=\"211.0669\">[true]</text><text fill=\"#000000\" font-family=\"sans-serif\" font-size=\"13\" lengthAdjust=\"spacingAndGlyphs\" textLength=\"7\" x=\"263.6892\" y=\"217.4377\">*</text></a><!--MD5=[0188b64bb0ae78505a997a81836e11e9]\n",
       "link E3 to E5--><a href=\"psysml:1317e145-771b-48e4-a88c-08ae6f2caba6\" target=\"_top\" title=\"psysml:1317e145-771b-48e4-a88c-08ae6f2caba6\" xlink:actuate=\"onRequest\" xlink:href=\"psysml:1317e145-771b-48e4-a88c-08ae6f2caba6\" xlink:show=\"new\" xlink:title=\"psysml:1317e145-771b-48e4-a88c-08ae6f2caba6\" xlink:type=\"simple\"><path d=\"M185.44,271.25 C209.6,266.6 275.36,252.84 327,232 C350.69,222.44 375.86,208.66 395.27,197.17 \" fill=\"none\" id=\"E3-&gt;E5\" style=\"stroke: #383838; stroke-width: 1.0;\"/><polygon fill=\"#383838\" points=\"399.57,194.6,389.7917,195.7765,395.2762,197.1619,393.8908,202.6465,399.57,194.6\" style=\"stroke: #383838; stroke-width: 1.0;\"/><text fill=\"#000000\" font-family=\"sans-serif\" font-size=\"13\" lengthAdjust=\"spacingAndGlyphs\" textLength=\"40\" x=\"277\" y=\"228.0669\">[false]</text><text fill=\"#000000\" font-family=\"sans-serif\" font-size=\"13\" lengthAdjust=\"spacingAndGlyphs\" textLength=\"7\" x=\"385.1478\" y=\"212.3976\">*</text></a><!--MD5=[1b7591eae5389033d8d09a9d6721a717]\n",
       "link E4 to E5--><a href=\"psysml:23f0aa3a-74d1-4632-9e57-f97d17e19ec4\" target=\"_top\" title=\"psysml:23f0aa3a-74d1-4632-9e57-f97d17e19ec4\" xlink:actuate=\"onRequest\" xlink:href=\"psysml:23f0aa3a-74d1-4632-9e57-f97d17e19ec4\" xlink:show=\"new\" xlink:title=\"psysml:23f0aa3a-74d1-4632-9e57-f97d17e19ec4\" xlink:type=\"simple\"><path d=\"M327.07,176 C346.95,176 373.38,176 394.35,176 \" fill=\"none\" id=\"E4-&gt;E5\" style=\"stroke: #383838; stroke-width: 1.0;\"/><polygon fill=\"#383838\" points=\"399.56,176,390.56,172,394.56,176,390.56,180,399.56,176\" style=\"stroke: #383838; stroke-width: 1.0;\"/><text fill=\"#000000\" font-family=\"sans-serif\" font-size=\"13\" lengthAdjust=\"spacingAndGlyphs\" textLength=\"55\" x=\"336\" y=\"172.0669\">[x == 0]</text><text fill=\"#000000\" font-family=\"sans-serif\" font-size=\"13\" lengthAdjust=\"spacingAndGlyphs\" textLength=\"7\" x=\"385.1356\" y=\"189.7289\">*</text></a><!--MD5=[bf86512025fa7041552fe8fd4f00e8a3]\n",
       "@startuml\r\n",
       "skinparam ranksep 10\r\n",
       "skinparam rectangle {\r\n",
       " backgroundColor<<block>> LightGreen\r\n",
       "}\r\n",
       "left to right direction\r\n",
       "skinparam monochrome true\r\n",
       "skinparam classbackgroundcolor white\r\n",
       "skinparam shadowing false\r\n",
       "skinparam wrapWidth 300\r\n",
       "hide circle\r\n",
       "\r\n",
       "rec def \"DecisionTest\" as E1  <<(T,blue) action  def>> [[psysml:62ac371c-e17a-420d-a580-1aab63005ed6 ]] {\r\n",
       "choice \"test x\" as E2  [[psysml:2e150d19-c5c5-4276-9136-9fe31d212434 ]] \r\n",
       "choice \"<s>noname</s>\" as E3  [[psysml:cc5b619c-f329-4ed7-9a64-7943d6ed9569 ]] \r\n",
       "rec usage \"A1\" as E4  <<(T,blue) action>> [[psysml:bb8ae358-9e9d-46e4-9973-23f4ed00e117 ]] {\r\n",
       "}\r\n",
       "\r\n",
       "rec usage \"A2\" as E5  <<(T,blue) action>> [[psysml:e7f91728-bf49-43a2-b90b-9012c9afe2c4 ]] {\r\n",
       "}\r\n",
       "\r\n",
       "rec usage \"A3\" as E6  <<(T,blue) action>> [[psysml:0d8578a4-a91e-4bc0-9576-e9210611ea53 ]] {\r\n",
       "}\r\n",
       "\r\n",
       "rec usage \"A3\" as E7  <<(T,blue) action>> [[psysml:0d8578a4-a91e-4bc0-9576-e9210611ea53 ]] {\r\n",
       "}\r\n",
       "\r\n",
       "}\r\n",
       "\r\n",
       "E2  - -> \"*\"E4 [[psysml:8074e684-9dcd-4869-b14d-8570f637bde9 ]] : [x == 1]\r\n",
       "E2  - -> \"*\"E5 [[psysml:3f3ee8aa-e9f7-416c-965c-8aff211aef79 ]] : [x > 1]\r\n",
       "E2  - -> \"*\"E7 [[psysml:5268f6a4-a59c-47f8-920f-30c5900c34c3 ]] \r\n",
       "E2 - -> \"*\"E3 [[psysml:c0d6c8f2-adfa-4de5-8b53-fd445de20c7a ]] \r\n",
       "E3  - -> \"*\"E4 [[psysml:647fb379-8896-403f-81c0-e54862ace948 ]] : [true]\r\n",
       "E3  - -> \"*\"E5 [[psysml:1317e145-771b-48e4-a88c-08ae6f2caba6 ]] : [false]\r\n",
       "E4  - -> \"*\"E5 [[psysml:23f0aa3a-74d1-4632-9e57-f97d17e19ec4 ]] : [x == 0]\r\n",
       "E7  - -> \"*\"E2 [[psysml:1fcd52fd-d040-4c7e-90de-1e4181f9ba4a ]] : [x > 0]\r\n",
       "@enduml\r\n",
       "\n",
       "PlantUML version 1.2020.13(Sat Jun 13 12:26:38 UTC 2020)\n",
       "(EPL source distribution)\n",
       "Java Runtime: OpenJDK Runtime Environment\n",
       "JVM: OpenJDK 64-Bit Server VM\n",
       "Default Encoding: UTF-8\n",
       "Language: en\n",
       "Country: null\n",
       "--></g></svg>"
      ]
     },
     "execution_count": 19,
     "metadata": {},
     "output_type": "execute_result"
    }
   ],
   "source": [
    "%viz --style=\"LR\" --view=\"Interconnection\" \"DecisionTest\""
   ]
  },
  {
   "cell_type": "code",
   "execution_count": 20,
   "id": "04c134ee",
   "metadata": {
    "execution": {
     "iopub.execute_input": "2022-03-21T07:51:00.370338Z",
     "iopub.status.busy": "2022-03-21T07:51:00.369924Z",
     "iopub.status.idle": "2022-03-21T07:51:00.407885Z",
     "shell.execute_reply": "2022-03-21T07:51:00.406466Z"
    }
   },
   "outputs": [
    {
     "data": {
      "image/svg+xml": [
       "<?xml version=\"1.0\" encoding=\"UTF-8\" standalone=\"no\"?><svg xmlns=\"http://www.w3.org/2000/svg\" xmlns:xlink=\"http://www.w3.org/1999/xlink\" contentScriptType=\"application/ecmascript\" contentStyleType=\"text/css\" height=\"312px\" preserveAspectRatio=\"none\" style=\"width:487px;height:312px;\" version=\"1.1\" viewBox=\"0 0 487 312\" width=\"487px\" zoomAndPan=\"magnify\"><defs/><g><!--MD5=[fbc87193dbaf4d95561dea2c320d4a47]\n",
       "cluster E1--><a href=\"psysml:62ac371c-e17a-420d-a580-1aab63005ed6\" target=\"_top\" title=\"psysml:62ac371c-e17a-420d-a580-1aab63005ed6\" xlink:actuate=\"onRequest\" xlink:href=\"psysml:62ac371c-e17a-420d-a580-1aab63005ed6\" xlink:show=\"new\" xlink:title=\"psysml:62ac371c-e17a-420d-a580-1aab63005ed6\" xlink:type=\"simple\"><rect fill=\"#FFFFFF\" height=\"294\" id=\"E1\" style=\"stroke: #383838; stroke-width: 1.5;\" width=\"469\" x=\"7\" y=\"7\"/><rect fill=\"#F8F8F8\" height=\"37.9375\" style=\"stroke: #383838; stroke-width: 1.5;\" width=\"469\" x=\"7\" y=\"7\"/><text fill=\"#000000\" font-family=\"sans-serif\" font-size=\"12\" font-style=\"italic\" lengthAdjust=\"spacingAndGlyphs\" textLength=\"81\" x=\"201\" y=\"23.1387\">«action  def»</text><text fill=\"#000000\" font-family=\"sans-serif\" font-size=\"12\" lengthAdjust=\"spacingAndGlyphs\" textLength=\"80\" x=\"201.5\" y=\"37.1074\">DecisionTest</text></a><polygon fill=\"#F8F8F8\" points=\"53,126,65,138,53,150,41,138,53,126\" style=\"stroke: #383838; stroke-width: 1.5;\"/><polygon fill=\"#F8F8F8\" points=\"175,261,187,273,175,285,163,273,175,261\" style=\"stroke: #383838; stroke-width: 1.5;\"/><g id=\"E1.E4\"><a href=\"psysml:bb8ae358-9e9d-46e4-9973-23f4ed00e117\" target=\"_top\" title=\"psysml:bb8ae358-9e9d-46e4-9973-23f4ed00e117\" xlink:actuate=\"onRequest\" xlink:href=\"psysml:bb8ae358-9e9d-46e4-9973-23f4ed00e117\" xlink:show=\"new\" xlink:title=\"psysml:bb8ae358-9e9d-46e4-9973-23f4ed00e117\" xlink:type=\"simple\"><rect fill=\"#FFFFFF\" height=\"42.9375\" id=\"E4\" rx=\"10\" ry=\"10\" style=\"stroke: #383838; stroke-width: 1.5;\" width=\"60\" x=\"267\" y=\"154.5\"/><rect fill=\"#F8F8F8\" height=\"37.9375\" rx=\"10\" ry=\"10\" style=\"stroke: #F8F8F8; stroke-width: 1.5;\" width=\"60\" x=\"267\" y=\"154.5\"/><rect fill=\"#F8F8F8\" height=\"10\" style=\"stroke: #F8F8F8; stroke-width: 1.5;\" width=\"60\" x=\"267\" y=\"182.4375\"/><rect fill=\"none\" height=\"42.9375\" id=\"E4\" rx=\"10\" ry=\"10\" style=\"stroke: #383838; stroke-width: 1.5;\" width=\"60\" x=\"267\" y=\"154.5\"/><text fill=\"#000000\" font-family=\"sans-serif\" font-size=\"12\" font-style=\"italic\" lengthAdjust=\"spacingAndGlyphs\" textLength=\"53\" x=\"270.5\" y=\"170.6387\">«action»</text><text fill=\"#000000\" font-family=\"sans-serif\" font-size=\"12\" lengthAdjust=\"spacingAndGlyphs\" textLength=\"16\" x=\"289\" y=\"184.6074\">A1</text></a></g><g id=\"E1.E5\"><a href=\"psysml:e7f91728-bf49-43a2-b90b-9012c9afe2c4\" target=\"_top\" title=\"psysml:e7f91728-bf49-43a2-b90b-9012c9afe2c4\" xlink:actuate=\"onRequest\" xlink:href=\"psysml:e7f91728-bf49-43a2-b90b-9012c9afe2c4\" xlink:show=\"new\" xlink:title=\"psysml:e7f91728-bf49-43a2-b90b-9012c9afe2c4\" xlink:type=\"simple\"><rect fill=\"#FFFFFF\" height=\"42.9375\" id=\"E5\" rx=\"10\" ry=\"10\" style=\"stroke: #383838; stroke-width: 1.5;\" width=\"60\" x=\"400\" y=\"154.5\"/><rect fill=\"#F8F8F8\" height=\"37.9375\" rx=\"10\" ry=\"10\" style=\"stroke: #F8F8F8; stroke-width: 1.5;\" width=\"60\" x=\"400\" y=\"154.5\"/><rect fill=\"#F8F8F8\" height=\"10\" style=\"stroke: #F8F8F8; stroke-width: 1.5;\" width=\"60\" x=\"400\" y=\"182.4375\"/><rect fill=\"none\" height=\"42.9375\" id=\"E5\" rx=\"10\" ry=\"10\" style=\"stroke: #383838; stroke-width: 1.5;\" width=\"60\" x=\"400\" y=\"154.5\"/><text fill=\"#000000\" font-family=\"sans-serif\" font-size=\"12\" font-style=\"italic\" lengthAdjust=\"spacingAndGlyphs\" textLength=\"53\" x=\"403.5\" y=\"170.6387\">«action»</text><text fill=\"#000000\" font-family=\"sans-serif\" font-size=\"12\" lengthAdjust=\"spacingAndGlyphs\" textLength=\"16\" x=\"422\" y=\"184.6074\">A2</text></a></g><g id=\"E1.E6\"><a href=\"psysml:0d8578a4-a91e-4bc0-9576-e9210611ea53\" target=\"_top\" title=\"psysml:0d8578a4-a91e-4bc0-9576-e9210611ea53\" xlink:actuate=\"onRequest\" xlink:href=\"psysml:0d8578a4-a91e-4bc0-9576-e9210611ea53\" xlink:show=\"new\" xlink:title=\"psysml:0d8578a4-a91e-4bc0-9576-e9210611ea53\" xlink:type=\"simple\"><rect fill=\"#FFFFFF\" height=\"42.9375\" id=\"E6\" rx=\"10\" ry=\"10\" style=\"stroke: #383838; stroke-width: 1.5;\" width=\"60\" x=\"23\" y=\"213.5\"/><rect fill=\"#F8F8F8\" height=\"37.9375\" rx=\"10\" ry=\"10\" style=\"stroke: #F8F8F8; stroke-width: 1.5;\" width=\"60\" x=\"23\" y=\"213.5\"/><rect fill=\"#F8F8F8\" height=\"10\" style=\"stroke: #F8F8F8; stroke-width: 1.5;\" width=\"60\" x=\"23\" y=\"241.4375\"/><rect fill=\"none\" height=\"42.9375\" id=\"E6\" rx=\"10\" ry=\"10\" style=\"stroke: #383838; stroke-width: 1.5;\" width=\"60\" x=\"23\" y=\"213.5\"/><text fill=\"#000000\" font-family=\"sans-serif\" font-size=\"12\" font-style=\"italic\" lengthAdjust=\"spacingAndGlyphs\" textLength=\"53\" x=\"26.5\" y=\"229.6387\">«action»</text><text fill=\"#000000\" font-family=\"sans-serif\" font-size=\"12\" lengthAdjust=\"spacingAndGlyphs\" textLength=\"16\" x=\"45\" y=\"243.6074\">A3</text></a></g><g id=\"E1.E7\"><a href=\"psysml:0d8578a4-a91e-4bc0-9576-e9210611ea53\" target=\"_top\" title=\"psysml:0d8578a4-a91e-4bc0-9576-e9210611ea53\" xlink:actuate=\"onRequest\" xlink:href=\"psysml:0d8578a4-a91e-4bc0-9576-e9210611ea53\" xlink:show=\"new\" xlink:title=\"psysml:0d8578a4-a91e-4bc0-9576-e9210611ea53\" xlink:type=\"simple\"><rect fill=\"#FFFFFF\" height=\"42.9375\" id=\"E7\" rx=\"10\" ry=\"10\" style=\"stroke: #383838; stroke-width: 1.5;\" width=\"60\" x=\"145\" y=\"58.5\"/><rect fill=\"#F8F8F8\" height=\"37.9375\" rx=\"10\" ry=\"10\" style=\"stroke: #F8F8F8; stroke-width: 1.5;\" width=\"60\" x=\"145\" y=\"58.5\"/><rect fill=\"#F8F8F8\" height=\"10\" style=\"stroke: #F8F8F8; stroke-width: 1.5;\" width=\"60\" x=\"145\" y=\"86.4375\"/><rect fill=\"none\" height=\"42.9375\" id=\"E7\" rx=\"10\" ry=\"10\" style=\"stroke: #383838; stroke-width: 1.5;\" width=\"60\" x=\"145\" y=\"58.5\"/><text fill=\"#000000\" font-family=\"sans-serif\" font-size=\"12\" font-style=\"italic\" lengthAdjust=\"spacingAndGlyphs\" textLength=\"53\" x=\"148.5\" y=\"74.6387\">«action»</text><text fill=\"#000000\" font-family=\"sans-serif\" font-size=\"12\" lengthAdjust=\"spacingAndGlyphs\" textLength=\"16\" x=\"167\" y=\"88.6074\">A3</text></a></g><!--MD5=[4d03bb2d0377dc85ccfab60ff574652b]\n",
       "link E2 to E4--><a href=\"psysml:8074e684-9dcd-4869-b14d-8570f637bde9\" target=\"_top\" title=\"psysml:8074e684-9dcd-4869-b14d-8570f637bde9\" xlink:actuate=\"onRequest\" xlink:href=\"psysml:8074e684-9dcd-4869-b14d-8570f637bde9\" xlink:show=\"new\" xlink:title=\"psysml:8074e684-9dcd-4869-b14d-8570f637bde9\" xlink:type=\"simple\"><path d=\"M62.41,140.94 C78.32,146.39 114.02,158.03 145,164 C174.83,169.75 182.72,168.53 213,171 C228.89,172.3 246.52,173.4 261.42,174.25 \" fill=\"none\" id=\"E2-&gt;E4\" style=\"stroke: #383838; stroke-width: 1.0; stroke-dasharray: 7.0,7.0;\"/><polygon fill=\"#383838\" points=\"266.79,174.54,258.0208,170.0567,261.7974,174.2682,257.5859,178.0448,266.79,174.54\" style=\"stroke: #383838; stroke-width: 1.0;\"/><text fill=\"#000000\" font-family=\"sans-serif\" font-size=\"13\" lengthAdjust=\"spacingAndGlyphs\" textLength=\"55\" x=\"147.5\" y=\"160.0669\">[x == 1]</text></a><!--MD5=[dcad52bbbca2fe8adc741ce38b45dc12]\n",
       "link E2 to E5--><a href=\"psysml:3f3ee8aa-e9f7-416c-965c-8aff211aef79\" target=\"_top\" title=\"psysml:3f3ee8aa-e9f7-416c-965c-8aff211aef79\" xlink:actuate=\"onRequest\" xlink:href=\"psysml:3f3ee8aa-e9f7-416c-965c-8aff211aef79\" xlink:show=\"new\" xlink:title=\"psysml:3f3ee8aa-e9f7-416c-965c-8aff211aef79\" xlink:type=\"simple\"><path d=\"M64.69,137.65 C108.56,136.25 274.8,131.44 327,137 C356.39,140.13 364.82,139.41 392,151 C392.96,151.41 393.93,151.85 394.89,152.31 \" fill=\"none\" id=\"E2-&gt;E5\" style=\"stroke: #383838; stroke-width: 1.0; stroke-dasharray: 7.0,7.0;\"/><polygon fill=\"#383838\" points=\"399.68,154.77,393.5069,147.0958,395.2339,152.4826,389.8471,154.2096,399.68,154.77\" style=\"stroke: #383838; stroke-width: 1.0;\"/><text fill=\"#000000\" font-family=\"sans-serif\" font-size=\"13\" lengthAdjust=\"spacingAndGlyphs\" textLength=\"44\" x=\"214\" y=\"131.0669\">[x &gt; 1]</text></a><!--MD5=[e3d2a08a9c9236652057e8ed0cbc9b62]\n",
       "link E2 to E7--><a href=\"psysml:5268f6a4-a59c-47f8-920f-30c5900c34c3\" target=\"_top\" title=\"psysml:5268f6a4-a59c-47f8-920f-30c5900c34c3\" xlink:actuate=\"onRequest\" xlink:href=\"psysml:5268f6a4-a59c-47f8-920f-30c5900c34c3\" xlink:show=\"new\" xlink:title=\"psysml:5268f6a4-a59c-47f8-920f-30c5900c34c3\" xlink:type=\"simple\"><path d=\"M63.4,136.24 C84.45,132.27 133.79,122.83 137,121 C143.76,117.13 149.96,111.59 155.27,105.83 \" fill=\"none\" id=\"E2-&gt;E7\" style=\"stroke: #383838; stroke-width: 1.0; stroke-dasharray: 7.0,7.0;\"/><polygon fill=\"#383838\" points=\"158.8,101.82,149.8466,105.9232,155.4924,105.5696,155.8459,111.2154,158.8,101.82\" style=\"stroke: #383838; stroke-width: 1.0;\"/></a><!--MD5=[583832df87f4419a098336a29a52fa00]\n",
       "link E7 to E2--><a href=\"psysml:1fcd52fd-d040-4c7e-90de-1e4181f9ba4a\" target=\"_top\" title=\"psysml:1fcd52fd-d040-4c7e-90de-1e4181f9ba4a\" xlink:actuate=\"onRequest\" xlink:href=\"psysml:1fcd52fd-d040-4c7e-90de-1e4181f9ba4a\" xlink:show=\"new\" xlink:title=\"psysml:1fcd52fd-d040-4c7e-90de-1e4181f9ba4a\" xlink:type=\"simple\"><path d=\"M144.81,94.11 C119.63,106.28 84.51,123.25 66.2,132.1 \" fill=\"none\" id=\"E7-&gt;E2\" style=\"stroke: #383838; stroke-width: 1.0; stroke-dasharray: 7.0,7.0;\"/><polygon fill=\"#383838\" points=\"61.51,134.37,71.354,134.0612,66.0131,132.1971,67.8773,126.8562,61.51,134.37\" style=\"stroke: #383838; stroke-width: 1.0;\"/><text fill=\"#000000\" font-family=\"sans-serif\" font-size=\"13\" lengthAdjust=\"spacingAndGlyphs\" textLength=\"44\" x=\"92\" y=\"95.0669\">[x &gt; 0]</text></a><!--MD5=[2720a5a1f2c3fca2055b230370638851]\n",
       "link E2 to E3--><a href=\"psysml:c0d6c8f2-adfa-4de5-8b53-fd445de20c7a\" target=\"_top\" title=\"psysml:c0d6c8f2-adfa-4de5-8b53-fd445de20c7a\" xlink:actuate=\"onRequest\" xlink:href=\"psysml:c0d6c8f2-adfa-4de5-8b53-fd445de20c7a\" xlink:show=\"new\" xlink:title=\"psysml:c0d6c8f2-adfa-4de5-8b53-fd445de20c7a\" xlink:type=\"simple\"><path d=\"M57.63,145.75 C63.59,158 76.25,182.27 91,200 C113.43,226.97 146.15,252.65 163.03,265.13 \" fill=\"none\" id=\"E2-&gt;E3\" style=\"stroke: #383838; stroke-width: 1.0; stroke-dasharray: 7.0,7.0;\"/><polygon fill=\"#383838\" points=\"167.35,268.28,162.442,259.7412,163.3125,265.3306,157.723,266.2011,167.35,268.28\" style=\"stroke: #383838; stroke-width: 1.0;\"/></a><!--MD5=[af87c684e3b0d8be13c1a698a818ef1e]\n",
       "link E3 to E4--><a href=\"psysml:647fb379-8896-403f-81c0-e54862ace948\" target=\"_top\" title=\"psysml:647fb379-8896-403f-81c0-e54862ace948\" xlink:actuate=\"onRequest\" xlink:href=\"psysml:647fb379-8896-403f-81c0-e54862ace948\" xlink:show=\"new\" xlink:title=\"psysml:647fb379-8896-403f-81c0-e54862ace948\" xlink:type=\"simple\"><path d=\"M183.24,268.64 C198.11,259.54 232.89,237.48 259,215 C263.75,210.91 268.56,206.28 273.06,201.67 \" fill=\"none\" id=\"E3-&gt;E4\" style=\"stroke: #383838; stroke-width: 1.0; stroke-dasharray: 7.0,7.0;\"/><polygon fill=\"#383838\" points=\"276.77,197.83,267.6434,201.5321,273.2993,201.4292,273.4022,207.0851,276.77,197.83\" style=\"stroke: #383838; stroke-width: 1.0;\"/><text fill=\"#000000\" font-family=\"sans-serif\" font-size=\"13\" lengthAdjust=\"spacingAndGlyphs\" textLength=\"36\" x=\"218\" y=\"211.0669\">[true]</text></a><!--MD5=[0188b64bb0ae78505a997a81836e11e9]\n",
       "link E3 to E5--><a href=\"psysml:1317e145-771b-48e4-a88c-08ae6f2caba6\" target=\"_top\" title=\"psysml:1317e145-771b-48e4-a88c-08ae6f2caba6\" xlink:actuate=\"onRequest\" xlink:href=\"psysml:1317e145-771b-48e4-a88c-08ae6f2caba6\" xlink:show=\"new\" xlink:title=\"psysml:1317e145-771b-48e4-a88c-08ae6f2caba6\" xlink:type=\"simple\"><path d=\"M185.44,271.25 C209.6,266.6 275.36,252.84 327,232 C350.69,222.44 375.86,208.66 395.27,197.17 \" fill=\"none\" id=\"E3-&gt;E5\" style=\"stroke: #383838; stroke-width: 1.0; stroke-dasharray: 7.0,7.0;\"/><polygon fill=\"#383838\" points=\"399.57,194.6,389.7917,195.7765,395.2762,197.1619,393.8908,202.6465,399.57,194.6\" style=\"stroke: #383838; stroke-width: 1.0;\"/><text fill=\"#000000\" font-family=\"sans-serif\" font-size=\"13\" lengthAdjust=\"spacingAndGlyphs\" textLength=\"40\" x=\"277\" y=\"228.0669\">[false]</text></a><!--MD5=[1b7591eae5389033d8d09a9d6721a717]\n",
       "link E4 to E5--><a href=\"psysml:23f0aa3a-74d1-4632-9e57-f97d17e19ec4\" target=\"_top\" title=\"psysml:23f0aa3a-74d1-4632-9e57-f97d17e19ec4\" xlink:actuate=\"onRequest\" xlink:href=\"psysml:23f0aa3a-74d1-4632-9e57-f97d17e19ec4\" xlink:show=\"new\" xlink:title=\"psysml:23f0aa3a-74d1-4632-9e57-f97d17e19ec4\" xlink:type=\"simple\"><path d=\"M327.07,176 C346.95,176 373.38,176 394.35,176 \" fill=\"none\" id=\"E4-&gt;E5\" style=\"stroke: #383838; stroke-width: 1.0; stroke-dasharray: 7.0,7.0;\"/><polygon fill=\"#383838\" points=\"399.56,176,390.56,172,394.56,176,390.56,180,399.56,176\" style=\"stroke: #383838; stroke-width: 1.0;\"/><text fill=\"#000000\" font-family=\"sans-serif\" font-size=\"13\" lengthAdjust=\"spacingAndGlyphs\" textLength=\"55\" x=\"336\" y=\"172.0669\">[x == 0]</text></a><!--MD5=[0570861dce77070d35d7d04741754531]\n",
       "@startuml\r\n",
       "skinparam ranksep 8\r\n",
       "left to right direction\r\n",
       "skinparam monochrome true\r\n",
       "skinparam classbackgroundcolor white\r\n",
       "skinparam shadowing false\r\n",
       "skinparam wrapWidth 300\r\n",
       "hide circle\r\n",
       "\r\n",
       "rec def \"DecisionTest\" as E1  <<(T,blue) action  def>> [[psysml:62ac371c-e17a-420d-a580-1aab63005ed6 ]] {\r\n",
       "choice \"test x\" as E2  [[psysml:2e150d19-c5c5-4276-9136-9fe31d212434 ]] \r\n",
       "choice \"<s>noname</s>\" as E3  [[psysml:cc5b619c-f329-4ed7-9a64-7943d6ed9569 ]] \r\n",
       "rec usage \"A1\" as E4  <<(T,blue) action>> [[psysml:bb8ae358-9e9d-46e4-9973-23f4ed00e117 ]] {\r\n",
       "}\r\n",
       "\r\n",
       "rec usage \"A2\" as E5  <<(T,blue) action>> [[psysml:e7f91728-bf49-43a2-b90b-9012c9afe2c4 ]] {\r\n",
       "}\r\n",
       "\r\n",
       "rec usage \"A3\" as E6  <<(T,blue) action>> [[psysml:0d8578a4-a91e-4bc0-9576-e9210611ea53 ]] {\r\n",
       "}\r\n",
       "\r\n",
       "rec usage \"A3\" as E7  <<(T,blue) action>> [[psysml:0d8578a4-a91e-4bc0-9576-e9210611ea53 ]] {\r\n",
       "}\r\n",
       "\r\n",
       "}\r\n",
       "\r\n",
       "E2 ..> E4 [[psysml:8074e684-9dcd-4869-b14d-8570f637bde9 ]] : [x == 1]\r\n",
       "E2 ..> E5 [[psysml:3f3ee8aa-e9f7-416c-965c-8aff211aef79 ]] : [x > 1]\r\n",
       "E2 ..> E7 [[psysml:5268f6a4-a59c-47f8-920f-30c5900c34c3 ]] \r\n",
       "E2 ..> E3 [[psysml:c0d6c8f2-adfa-4de5-8b53-fd445de20c7a ]] \r\n",
       "E3 ..> E4 [[psysml:647fb379-8896-403f-81c0-e54862ace948 ]] : [true]\r\n",
       "E3 ..> E5 [[psysml:1317e145-771b-48e4-a88c-08ae6f2caba6 ]] : [false]\r\n",
       "E4 ..> E5 [[psysml:23f0aa3a-74d1-4632-9e57-f97d17e19ec4 ]] : [x == 0]\r\n",
       "E7 ..> E2 [[psysml:1fcd52fd-d040-4c7e-90de-1e4181f9ba4a ]] : [x > 0]\r\n",
       "@enduml\r\n",
       "\n",
       "PlantUML version 1.2020.13(Sat Jun 13 12:26:38 UTC 2020)\n",
       "(EPL source distribution)\n",
       "Java Runtime: OpenJDK Runtime Environment\n",
       "JVM: OpenJDK 64-Bit Server VM\n",
       "Default Encoding: UTF-8\n",
       "Language: en\n",
       "Country: null\n",
       "--></g></svg>"
      ]
     },
     "execution_count": 20,
     "metadata": {},
     "output_type": "execute_result"
    }
   ],
   "source": [
    "%viz --style=\"LR\" --view=\"Action\" \"DecisionTest\""
   ]
  },
  {
   "cell_type": "code",
   "execution_count": 21,
   "id": "523f529b",
   "metadata": {
    "execution": {
     "iopub.execute_input": "2022-03-21T07:51:00.457287Z",
     "iopub.status.busy": "2022-03-21T07:51:00.456879Z",
     "iopub.status.idle": "2022-03-21T07:51:00.463488Z",
     "shell.execute_reply": "2022-03-21T07:51:00.463785Z"
    }
   },
   "outputs": [
    {
     "data": {
      "image/svg+xml": [
       "<?xml version=\"1.0\" encoding=\"UTF-8\" standalone=\"no\"?><svg xmlns=\"http://www.w3.org/2000/svg\" xmlns:xlink=\"http://www.w3.org/1999/xlink\" contentScriptType=\"application/ecmascript\" contentStyleType=\"text/css\" height=\"12px\" preserveAspectRatio=\"none\" style=\"width:12px;height:12px;\" version=\"1.1\" viewBox=\"0 0 12 12\" width=\"12px\" zoomAndPan=\"magnify\"><defs/><g><!--MD5=[238c11ea2002f03115ad6b49a457d50e]\n",
       "@startuml\r\n",
       "skinparam roundcorner 20\r\n",
       "skinparam BoxPadding 20\r\n",
       "skinparam SequenceBoxBackgroundColor #white\r\n",
       "skinparam style strictuml\r\n",
       "skinparam maxMessageSize 100\r\n",
       "left to right direction\r\n",
       "skinparam monochrome true\r\n",
       "skinparam classbackgroundcolor white\r\n",
       "skinparam shadowing false\r\n",
       "skinparam wrapWidth 300\r\n",
       "hide circle\r\n",
       "\r\n",
       "@enduml\r\n",
       "\n",
       "PlantUML version 1.2020.13(Sat Jun 13 12:26:38 UTC 2020)\n",
       "(EPL source distribution)\n",
       "Java Runtime: OpenJDK Runtime Environment\n",
       "JVM: OpenJDK 64-Bit Server VM\n",
       "Default Encoding: UTF-8\n",
       "Language: en\n",
       "Country: null\n",
       "--></g></svg>"
      ]
     },
     "execution_count": 21,
     "metadata": {},
     "output_type": "execute_result"
    }
   ],
   "source": [
    "%viz --style=\"LR\" --view=\"Sequence\" \"DecisionTest\""
   ]
  },
  {
   "cell_type": "code",
   "execution_count": 22,
   "id": "e8fc8616",
   "metadata": {
    "execution": {
     "iopub.execute_input": "2022-03-21T07:51:00.513572Z",
     "iopub.status.busy": "2022-03-21T07:51:00.513334Z",
     "iopub.status.idle": "2022-03-21T07:51:00.552110Z",
     "shell.execute_reply": "2022-03-21T07:51:00.551674Z"
    }
   },
   "outputs": [
    {
     "data": {
      "image/svg+xml": [
       "<?xml version=\"1.0\" encoding=\"UTF-8\" standalone=\"no\"?><svg xmlns=\"http://www.w3.org/2000/svg\" xmlns:xlink=\"http://www.w3.org/1999/xlink\" contentScriptType=\"application/ecmascript\" contentStyleType=\"text/css\" height=\"312px\" preserveAspectRatio=\"none\" style=\"width:619px;height:312px;\" version=\"1.1\" viewBox=\"0 0 619 312\" width=\"619px\" zoomAndPan=\"magnify\"><defs/><g><!--MD5=[fbc87193dbaf4d95561dea2c320d4a47]\n",
       "cluster E1--><a href=\"psysml:62ac371c-e17a-420d-a580-1aab63005ed6\" target=\"_top\" title=\"psysml:62ac371c-e17a-420d-a580-1aab63005ed6\" xlink:actuate=\"onRequest\" xlink:href=\"psysml:62ac371c-e17a-420d-a580-1aab63005ed6\" xlink:show=\"new\" xlink:title=\"psysml:62ac371c-e17a-420d-a580-1aab63005ed6\" xlink:type=\"simple\"><rect fill=\"#FFFFFF\" height=\"294\" id=\"E1\" style=\"stroke: #383838; stroke-width: 1.5;\" width=\"601\" x=\"7\" y=\"7\"/><rect fill=\"#F8F8F8\" height=\"37.9375\" style=\"stroke: #383838; stroke-width: 1.5;\" width=\"601\" x=\"7\" y=\"7\"/><text fill=\"#000000\" font-family=\"sans-serif\" font-size=\"12\" font-style=\"italic\" lengthAdjust=\"spacingAndGlyphs\" textLength=\"81\" x=\"267\" y=\"23.1387\">«action  def»</text><text fill=\"#000000\" font-family=\"sans-serif\" font-size=\"12\" lengthAdjust=\"spacingAndGlyphs\" textLength=\"80\" x=\"267.5\" y=\"37.1074\">DecisionTest</text></a><polygon fill=\"#F8F8F8\" points=\"53,126,65,138,53,150,41,138,53,126\" style=\"stroke: #383838; stroke-width: 1.5;\"/><polygon fill=\"#F8F8F8\" points=\"219,261,231,273,219,285,207,273,219,261\" style=\"stroke: #383838; stroke-width: 1.5;\"/><g id=\"E1.E4\"><a href=\"psysml:bb8ae358-9e9d-46e4-9973-23f4ed00e117\" target=\"_top\" title=\"psysml:bb8ae358-9e9d-46e4-9973-23f4ed00e117\" xlink:actuate=\"onRequest\" xlink:href=\"psysml:bb8ae358-9e9d-46e4-9973-23f4ed00e117\" xlink:show=\"new\" xlink:title=\"psysml:bb8ae358-9e9d-46e4-9973-23f4ed00e117\" xlink:type=\"simple\"><rect fill=\"#FFFFFF\" height=\"42.9375\" id=\"E4\" rx=\"10\" ry=\"10\" style=\"stroke: #383838; stroke-width: 1.5;\" width=\"60\" x=\"355\" y=\"154.5\"/><rect fill=\"#F8F8F8\" height=\"37.9375\" rx=\"10\" ry=\"10\" style=\"stroke: #F8F8F8; stroke-width: 1.5;\" width=\"60\" x=\"355\" y=\"154.5\"/><rect fill=\"#F8F8F8\" height=\"10\" style=\"stroke: #F8F8F8; stroke-width: 1.5;\" width=\"60\" x=\"355\" y=\"182.4375\"/><rect fill=\"none\" height=\"42.9375\" id=\"E4\" rx=\"10\" ry=\"10\" style=\"stroke: #383838; stroke-width: 1.5;\" width=\"60\" x=\"355\" y=\"154.5\"/><text fill=\"#000000\" font-family=\"sans-serif\" font-size=\"12\" font-style=\"italic\" lengthAdjust=\"spacingAndGlyphs\" textLength=\"53\" x=\"358.5\" y=\"170.6387\">«action»</text><text fill=\"#000000\" font-family=\"sans-serif\" font-size=\"12\" lengthAdjust=\"spacingAndGlyphs\" textLength=\"16\" x=\"377\" y=\"184.6074\">A1</text></a></g><g id=\"E1.E5\"><a href=\"psysml:e7f91728-bf49-43a2-b90b-9012c9afe2c4\" target=\"_top\" title=\"psysml:e7f91728-bf49-43a2-b90b-9012c9afe2c4\" xlink:actuate=\"onRequest\" xlink:href=\"psysml:e7f91728-bf49-43a2-b90b-9012c9afe2c4\" xlink:show=\"new\" xlink:title=\"psysml:e7f91728-bf49-43a2-b90b-9012c9afe2c4\" xlink:type=\"simple\"><rect fill=\"#FFFFFF\" height=\"42.9375\" id=\"E5\" rx=\"10\" ry=\"10\" style=\"stroke: #383838; stroke-width: 1.5;\" width=\"60\" x=\"532\" y=\"154.5\"/><rect fill=\"#F8F8F8\" height=\"37.9375\" rx=\"10\" ry=\"10\" style=\"stroke: #F8F8F8; stroke-width: 1.5;\" width=\"60\" x=\"532\" y=\"154.5\"/><rect fill=\"#F8F8F8\" height=\"10\" style=\"stroke: #F8F8F8; stroke-width: 1.5;\" width=\"60\" x=\"532\" y=\"182.4375\"/><rect fill=\"none\" height=\"42.9375\" id=\"E5\" rx=\"10\" ry=\"10\" style=\"stroke: #383838; stroke-width: 1.5;\" width=\"60\" x=\"532\" y=\"154.5\"/><text fill=\"#000000\" font-family=\"sans-serif\" font-size=\"12\" font-style=\"italic\" lengthAdjust=\"spacingAndGlyphs\" textLength=\"53\" x=\"535.5\" y=\"170.6387\">«action»</text><text fill=\"#000000\" font-family=\"sans-serif\" font-size=\"12\" lengthAdjust=\"spacingAndGlyphs\" textLength=\"16\" x=\"554\" y=\"184.6074\">A2</text></a></g><g id=\"E1.E6\"><a href=\"psysml:0d8578a4-a91e-4bc0-9576-e9210611ea53\" target=\"_top\" title=\"psysml:0d8578a4-a91e-4bc0-9576-e9210611ea53\" xlink:actuate=\"onRequest\" xlink:href=\"psysml:0d8578a4-a91e-4bc0-9576-e9210611ea53\" xlink:show=\"new\" xlink:title=\"psysml:0d8578a4-a91e-4bc0-9576-e9210611ea53\" xlink:type=\"simple\"><rect fill=\"#FFFFFF\" height=\"42.9375\" id=\"E6\" rx=\"10\" ry=\"10\" style=\"stroke: #383838; stroke-width: 1.5;\" width=\"60\" x=\"23\" y=\"213.5\"/><rect fill=\"#F8F8F8\" height=\"37.9375\" rx=\"10\" ry=\"10\" style=\"stroke: #F8F8F8; stroke-width: 1.5;\" width=\"60\" x=\"23\" y=\"213.5\"/><rect fill=\"#F8F8F8\" height=\"10\" style=\"stroke: #F8F8F8; stroke-width: 1.5;\" width=\"60\" x=\"23\" y=\"241.4375\"/><rect fill=\"none\" height=\"42.9375\" id=\"E6\" rx=\"10\" ry=\"10\" style=\"stroke: #383838; stroke-width: 1.5;\" width=\"60\" x=\"23\" y=\"213.5\"/><text fill=\"#000000\" font-family=\"sans-serif\" font-size=\"12\" font-style=\"italic\" lengthAdjust=\"spacingAndGlyphs\" textLength=\"53\" x=\"26.5\" y=\"229.6387\">«action»</text><text fill=\"#000000\" font-family=\"sans-serif\" font-size=\"12\" lengthAdjust=\"spacingAndGlyphs\" textLength=\"16\" x=\"45\" y=\"243.6074\">A3</text></a></g><g id=\"E1.E7\"><a href=\"psysml:0d8578a4-a91e-4bc0-9576-e9210611ea53\" target=\"_top\" title=\"psysml:0d8578a4-a91e-4bc0-9576-e9210611ea53\" xlink:actuate=\"onRequest\" xlink:href=\"psysml:0d8578a4-a91e-4bc0-9576-e9210611ea53\" xlink:show=\"new\" xlink:title=\"psysml:0d8578a4-a91e-4bc0-9576-e9210611ea53\" xlink:type=\"simple\"><rect fill=\"#FFFFFF\" height=\"42.9375\" id=\"E7\" rx=\"10\" ry=\"10\" style=\"stroke: #383838; stroke-width: 1.5;\" width=\"60\" x=\"189\" y=\"58.5\"/><rect fill=\"#F8F8F8\" height=\"37.9375\" rx=\"10\" ry=\"10\" style=\"stroke: #F8F8F8; stroke-width: 1.5;\" width=\"60\" x=\"189\" y=\"58.5\"/><rect fill=\"#F8F8F8\" height=\"10\" style=\"stroke: #F8F8F8; stroke-width: 1.5;\" width=\"60\" x=\"189\" y=\"86.4375\"/><rect fill=\"none\" height=\"42.9375\" id=\"E7\" rx=\"10\" ry=\"10\" style=\"stroke: #383838; stroke-width: 1.5;\" width=\"60\" x=\"189\" y=\"58.5\"/><text fill=\"#000000\" font-family=\"sans-serif\" font-size=\"12\" font-style=\"italic\" lengthAdjust=\"spacingAndGlyphs\" textLength=\"53\" x=\"192.5\" y=\"74.6387\">«action»</text><text fill=\"#000000\" font-family=\"sans-serif\" font-size=\"12\" lengthAdjust=\"spacingAndGlyphs\" textLength=\"16\" x=\"211\" y=\"88.6074\">A3</text></a></g><!--MD5=[4d03bb2d0377dc85ccfab60ff574652b]\n",
       "link E2 to E4--><a href=\"psysml:8074e684-9dcd-4869-b14d-8570f637bde9\" target=\"_top\" title=\"psysml:8074e684-9dcd-4869-b14d-8570f637bde9\" xlink:actuate=\"onRequest\" xlink:href=\"psysml:8074e684-9dcd-4869-b14d-8570f637bde9\" xlink:show=\"new\" xlink:title=\"psysml:8074e684-9dcd-4869-b14d-8570f637bde9\" xlink:type=\"simple\"><path d=\"M63.11,140.12 C84.79,145.1 141.22,157.56 189,164 C228.76,169.36 238.96,168.49 279,171 C302.51,172.47 329,173.73 349.49,174.62 \" fill=\"none\" id=\"E2-&gt;E4\" style=\"stroke: #383838; stroke-width: 1.0;\"/><polygon fill=\"#383838\" points=\"354.57,174.84,345.7495,170.4583,349.5746,174.6259,345.407,178.451,354.57,174.84\" style=\"stroke: #383838; stroke-width: 1.0;\"/><text fill=\"#000000\" font-family=\"sans-serif\" font-size=\"13\" lengthAdjust=\"spacingAndGlyphs\" textLength=\"55\" x=\"191.5\" y=\"160.0669\">[x == 1]</text><text fill=\"#000000\" font-family=\"sans-serif\" font-size=\"13\" lengthAdjust=\"spacingAndGlyphs\" textLength=\"7\" x=\"340.1478\" y=\"188.3151\">*</text></a><!--MD5=[dcad52bbbca2fe8adc741ce38b45dc12]\n",
       "link E2 to E5--><a href=\"psysml:3f3ee8aa-e9f7-416c-965c-8aff211aef79\" target=\"_top\" title=\"psysml:3f3ee8aa-e9f7-416c-965c-8aff211aef79\" xlink:actuate=\"onRequest\" xlink:href=\"psysml:3f3ee8aa-e9f7-416c-965c-8aff211aef79\" xlink:show=\"new\" xlink:title=\"psysml:3f3ee8aa-e9f7-416c-965c-8aff211aef79\" xlink:type=\"simple\"><path d=\"M64.36,137.35 C107.45,134.77 276.62,125.94 415,137 C454.04,140.12 464.36,140.17 502,151 C510.23,153.37 518.85,156.58 526.88,159.9 \" fill=\"none\" id=\"E2-&gt;E5\" style=\"stroke: #383838; stroke-width: 1.0;\"/><polygon fill=\"#383838\" points=\"531.79,161.98,525.0555,154.7935,527.184,160.0346,521.9428,162.1631,531.79,161.98\" style=\"stroke: #383838; stroke-width: 1.0;\"/><text fill=\"#000000\" font-family=\"sans-serif\" font-size=\"13\" lengthAdjust=\"spacingAndGlyphs\" textLength=\"44\" x=\"280\" y=\"128.0669\">[x &gt; 1]</text><text fill=\"#000000\" font-family=\"sans-serif\" font-size=\"13\" lengthAdjust=\"spacingAndGlyphs\" textLength=\"7\" x=\"516.9946\" y=\"172.5617\">*</text></a><!--MD5=[e3d2a08a9c9236652057e8ed0cbc9b62]\n",
       "link E2 to E7--><a href=\"psysml:5268f6a4-a59c-47f8-920f-30c5900c34c3\" target=\"_top\" title=\"psysml:5268f6a4-a59c-47f8-920f-30c5900c34c3\" xlink:actuate=\"onRequest\" xlink:href=\"psysml:5268f6a4-a59c-47f8-920f-30c5900c34c3\" xlink:show=\"new\" xlink:title=\"psysml:5268f6a4-a59c-47f8-920f-30c5900c34c3\" xlink:type=\"simple\"><path d=\"M64.07,136.95 C86.88,134.47 141.79,127.95 159,121 C169.04,116.94 179.05,110.93 187.9,104.74 \" fill=\"none\" id=\"E2-&gt;E7\" style=\"stroke: #383838; stroke-width: 1.0;\"/><polygon fill=\"#383838\" points=\"192.15,101.7,182.5021,103.6794,188.0823,104.6075,187.1542,110.1877,192.15,101.7\" style=\"stroke: #383838; stroke-width: 1.0;\"/><text fill=\"#000000\" font-family=\"sans-serif\" font-size=\"13\" lengthAdjust=\"spacingAndGlyphs\" textLength=\"7\" x=\"176.9934\" y=\"121.6406\">*</text></a><!--MD5=[583832df87f4419a098336a29a52fa00]\n",
       "link E7 to E2--><a href=\"psysml:1fcd52fd-d040-4c7e-90de-1e4181f9ba4a\" target=\"_top\" title=\"psysml:1fcd52fd-d040-4c7e-90de-1e4181f9ba4a\" xlink:actuate=\"onRequest\" xlink:href=\"psysml:1fcd52fd-d040-4c7e-90de-1e4181f9ba4a\" xlink:show=\"new\" xlink:title=\"psysml:1fcd52fd-d040-4c7e-90de-1e4181f9ba4a\" xlink:type=\"simple\"><path d=\"M188.96,90.27 C153.05,102.97 93.45,124.05 67.16,133.35 \" fill=\"none\" id=\"E7-&gt;E2\" style=\"stroke: #383838; stroke-width: 1.0;\"/><polygon fill=\"#383838\" points=\"62.36,135.04,72.1793,135.8026,67.0726,133.3692,69.506,128.2625,62.36,135.04\" style=\"stroke: #383838; stroke-width: 1.0;\"/><text fill=\"#000000\" font-family=\"sans-serif\" font-size=\"13\" lengthAdjust=\"spacingAndGlyphs\" textLength=\"44\" x=\"114\" y=\"99.0669\">[x &gt; 0]</text><text fill=\"#000000\" font-family=\"sans-serif\" font-size=\"13\" lengthAdjust=\"spacingAndGlyphs\" textLength=\"7\" x=\"72.9695\" y=\"123.5322\">*</text></a><!--MD5=[2720a5a1f2c3fca2055b230370638851]\n",
       "link E2 to E3--><a href=\"psysml:c0d6c8f2-adfa-4de5-8b53-fd445de20c7a\" target=\"_top\" title=\"psysml:c0d6c8f2-adfa-4de5-8b53-fd445de20c7a\" xlink:actuate=\"onRequest\" xlink:href=\"psysml:c0d6c8f2-adfa-4de5-8b53-fd445de20c7a\" xlink:show=\"new\" xlink:title=\"psysml:c0d6c8f2-adfa-4de5-8b53-fd445de20c7a\" xlink:type=\"simple\"><path d=\"M59.16,144.21 C68.98,155.84 91.34,181.43 113,200 C144.83,227.3 186.84,254.05 206.69,266.2 \" fill=\"none\" id=\"E2-&gt;E3\" style=\"stroke: #383838; stroke-width: 1.0;\"/><polygon fill=\"#383838\" points=\"211.02,268.84,205.412,260.7437,206.749,266.2403,201.2524,267.5773,211.02,268.84\" style=\"stroke: #383838; stroke-width: 1.0;\"/><text fill=\"#000000\" font-family=\"sans-serif\" font-size=\"13\" lengthAdjust=\"spacingAndGlyphs\" textLength=\"7\" x=\"192.253\" y=\"254.0235\">*</text></a><!--MD5=[af87c684e3b0d8be13c1a698a818ef1e]\n",
       "link E3 to E4--><a href=\"psysml:647fb379-8896-403f-81c0-e54862ace948\" target=\"_top\" title=\"psysml:647fb379-8896-403f-81c0-e54862ace948\" xlink:actuate=\"onRequest\" xlink:href=\"psysml:647fb379-8896-403f-81c0-e54862ace948\" xlink:show=\"new\" xlink:title=\"psysml:647fb379-8896-403f-81c0-e54862ace948\" xlink:type=\"simple\"><path d=\"M227.5,269.12 C244.88,260.07 289.19,236.68 325,215 C333.33,209.96 342.16,204.29 350.39,198.88 \" fill=\"none\" id=\"E3-&gt;E4\" style=\"stroke: #383838; stroke-width: 1.0;\"/><polygon fill=\"#383838\" points=\"354.88,195.91,345.1688,197.551,350.7132,198.6736,349.5905,204.2179,354.88,195.91\" style=\"stroke: #383838; stroke-width: 1.0;\"/><text fill=\"#000000\" font-family=\"sans-serif\" font-size=\"13\" lengthAdjust=\"spacingAndGlyphs\" textLength=\"36\" x=\"284\" y=\"211.0669\">[true]</text><text fill=\"#000000\" font-family=\"sans-serif\" font-size=\"13\" lengthAdjust=\"spacingAndGlyphs\" textLength=\"7\" x=\"340.1054\" y=\"214.338\">*</text></a><!--MD5=[0188b64bb0ae78505a997a81836e11e9]\n",
       "link E3 to E5--><a href=\"psysml:1317e145-771b-48e4-a88c-08ae6f2caba6\" target=\"_top\" title=\"psysml:1317e145-771b-48e4-a88c-08ae6f2caba6\" xlink:actuate=\"onRequest\" xlink:href=\"psysml:1317e145-771b-48e4-a88c-08ae6f2caba6\" xlink:show=\"new\" xlink:title=\"psysml:1317e145-771b-48e4-a88c-08ae6f2caba6\" xlink:type=\"simple\"><path d=\"M229.88,271.49 C258.74,266.97 345.32,252.55 415,232 C454.14,220.46 497.65,203.17 526.9,190.85 \" fill=\"none\" id=\"E3-&gt;E5\" style=\"stroke: #383838; stroke-width: 1.0;\"/><polygon fill=\"#383838\" points=\"531.83,188.77,521.9831,188.576,527.2218,190.7103,525.0875,195.9491,531.83,188.77\" style=\"stroke: #383838; stroke-width: 1.0;\"/><text fill=\"#000000\" font-family=\"sans-serif\" font-size=\"13\" lengthAdjust=\"spacingAndGlyphs\" textLength=\"40\" x=\"365\" y=\"228.0669\">[false]</text><text fill=\"#000000\" font-family=\"sans-serif\" font-size=\"13\" lengthAdjust=\"spacingAndGlyphs\" textLength=\"7\" x=\"517.0438\" y=\"205.5469\">*</text></a><!--MD5=[1b7591eae5389033d8d09a9d6721a717]\n",
       "link E4 to E5--><a href=\"psysml:23f0aa3a-74d1-4632-9e57-f97d17e19ec4\" target=\"_top\" title=\"psysml:23f0aa3a-74d1-4632-9e57-f97d17e19ec4\" xlink:actuate=\"onRequest\" xlink:href=\"psysml:23f0aa3a-74d1-4632-9e57-f97d17e19ec4\" xlink:show=\"new\" xlink:title=\"psysml:23f0aa3a-74d1-4632-9e57-f97d17e19ec4\" xlink:type=\"simple\"><path d=\"M415.29,176 C446.05,176 494.36,176 526.83,176 \" fill=\"none\" id=\"E4-&gt;E5\" style=\"stroke: #383838; stroke-width: 1.0;\"/><polygon fill=\"#383838\" points=\"531.91,176,522.91,172,526.91,176,522.91,180,531.91,176\" style=\"stroke: #383838; stroke-width: 1.0;\"/><text fill=\"#000000\" font-family=\"sans-serif\" font-size=\"13\" lengthAdjust=\"spacingAndGlyphs\" textLength=\"55\" x=\"446\" y=\"172.0669\">[x == 0]</text><text fill=\"#000000\" font-family=\"sans-serif\" font-size=\"13\" lengthAdjust=\"spacingAndGlyphs\" textLength=\"7\" x=\"517.1423\" y=\"189.8239\">*</text></a><!--MD5=[d5629b77fe0b48ff7250d2dc2cf3385c]\n",
       "@startuml\r\n",
       "left to right direction\r\n",
       "skinparam monochrome true\r\n",
       "skinparam classbackgroundcolor white\r\n",
       "skinparam shadowing false\r\n",
       "skinparam wrapWidth 300\r\n",
       "hide circle\r\n",
       "\r\n",
       "rec def \"DecisionTest\" as E1  <<(T,blue) action  def>> [[psysml:62ac371c-e17a-420d-a580-1aab63005ed6 ]] {\r\n",
       "choice \"test x\" as E2  [[psysml:2e150d19-c5c5-4276-9136-9fe31d212434 ]] \r\n",
       "choice \"<s>noname</s>\" as E3  [[psysml:cc5b619c-f329-4ed7-9a64-7943d6ed9569 ]] \r\n",
       "rec usage \"A1\" as E4  <<(T,blue) action>> [[psysml:bb8ae358-9e9d-46e4-9973-23f4ed00e117 ]] {\r\n",
       "}\r\n",
       "\r\n",
       "rec usage \"A2\" as E5  <<(T,blue) action>> [[psysml:e7f91728-bf49-43a2-b90b-9012c9afe2c4 ]] {\r\n",
       "}\r\n",
       "\r\n",
       "rec usage \"A3\" as E6  <<(T,blue) action>> [[psysml:0d8578a4-a91e-4bc0-9576-e9210611ea53 ]] {\r\n",
       "}\r\n",
       "\r\n",
       "rec usage \"A3\" as E7  <<(T,blue) action>> [[psysml:0d8578a4-a91e-4bc0-9576-e9210611ea53 ]] {\r\n",
       "}\r\n",
       "\r\n",
       "}\r\n",
       "\r\n",
       "E2  - -> \"*\"E4 [[psysml:8074e684-9dcd-4869-b14d-8570f637bde9 ]] : [x == 1]\r\n",
       "E2  - -> \"*\"E5 [[psysml:3f3ee8aa-e9f7-416c-965c-8aff211aef79 ]] : [x > 1]\r\n",
       "E2  - -> \"*\"E7 [[psysml:5268f6a4-a59c-47f8-920f-30c5900c34c3 ]] \r\n",
       "E2 - -> \"*\"E3 [[psysml:c0d6c8f2-adfa-4de5-8b53-fd445de20c7a ]] \r\n",
       "E3  - -> \"*\"E4 [[psysml:647fb379-8896-403f-81c0-e54862ace948 ]] : [true]\r\n",
       "E3  - -> \"*\"E5 [[psysml:1317e145-771b-48e4-a88c-08ae6f2caba6 ]] : [false]\r\n",
       "E4  - -> \"*\"E5 [[psysml:23f0aa3a-74d1-4632-9e57-f97d17e19ec4 ]] : [x == 0]\r\n",
       "E7  - -> \"*\"E2 [[psysml:1fcd52fd-d040-4c7e-90de-1e4181f9ba4a ]] : [x > 0]\r\n",
       "@enduml\r\n",
       "\n",
       "PlantUML version 1.2020.13(Sat Jun 13 12:26:38 UTC 2020)\n",
       "(EPL source distribution)\n",
       "Java Runtime: OpenJDK Runtime Environment\n",
       "JVM: OpenJDK 64-Bit Server VM\n",
       "Default Encoding: UTF-8\n",
       "Language: en\n",
       "Country: null\n",
       "--></g></svg>"
      ]
     },
     "execution_count": 22,
     "metadata": {},
     "output_type": "execute_result"
    }
   ],
   "source": [
    "%viz --style=\"LR\" --view=\"MIXED\" \"DecisionTest\""
   ]
  },
  {
   "cell_type": "code",
   "execution_count": 23,
   "id": "3a5ad78a",
   "metadata": {
    "execution": {
     "iopub.execute_input": "2022-03-21T07:51:00.601457Z",
     "iopub.status.busy": "2022-03-21T07:51:00.600979Z",
     "iopub.status.idle": "2022-03-21T07:51:00.640398Z",
     "shell.execute_reply": "2022-03-21T07:51:00.640022Z"
    }
   },
   "outputs": [
    {
     "data": {
      "image/svg+xml": [
       "<?xml version=\"1.0\" encoding=\"UTF-8\" standalone=\"no\"?><svg xmlns=\"http://www.w3.org/2000/svg\" xmlns:xlink=\"http://www.w3.org/1999/xlink\" contentScriptType=\"application/ecmascript\" contentStyleType=\"text/css\" height=\"496px\" preserveAspectRatio=\"none\" style=\"width:341px;height:496px;\" version=\"1.1\" viewBox=\"0 0 341 496\" width=\"341px\" zoomAndPan=\"magnify\"><defs><filter height=\"300%\" id=\"f16tq6riq269sq\" width=\"300%\" x=\"-1\" y=\"-1\"><feGaussianBlur result=\"blurOut\" stdDeviation=\"2.0\"/><feColorMatrix in=\"blurOut\" result=\"blurOut2\" type=\"matrix\" values=\"0 0 0 0 0 0 0 0 0 0 0 0 0 0 0 0 0 0 .4 0\"/><feOffset dx=\"4.0\" dy=\"4.0\" in=\"blurOut2\" result=\"blurOut3\"/><feBlend in=\"SourceGraphic\" in2=\"blurOut3\" mode=\"normal\"/></filter></defs><g><!--MD5=[fbc87193dbaf4d95561dea2c320d4a47]\n",
       "cluster E1--><a href=\"psysml:62ac371c-e17a-420d-a580-1aab63005ed6\" target=\"_top\" title=\"psysml:62ac371c-e17a-420d-a580-1aab63005ed6\" xlink:actuate=\"onRequest\" xlink:href=\"psysml:62ac371c-e17a-420d-a580-1aab63005ed6\" xlink:show=\"new\" xlink:title=\"psysml:62ac371c-e17a-420d-a580-1aab63005ed6\" xlink:type=\"simple\"><rect fill=\"#FFFFFF\" filter=\"url(#f16tq6riq269sq)\" height=\"470\" id=\"E1\" style=\"stroke: #A80036; stroke-width: 1.5;\" width=\"315\" x=\"7\" y=\"7\"/><rect fill=\"#FEFECE\" height=\"37.9375\" style=\"stroke: #A80036; stroke-width: 1.5;\" width=\"315\" x=\"7\" y=\"7\"/><text fill=\"#000000\" font-family=\"sans-serif\" font-size=\"12\" font-style=\"italic\" lengthAdjust=\"spacingAndGlyphs\" textLength=\"81\" x=\"124\" y=\"23.1387\">«action  def»</text><text fill=\"#000000\" font-family=\"sans-serif\" font-size=\"12\" lengthAdjust=\"spacingAndGlyphs\" textLength=\"80\" x=\"124.5\" y=\"37.1074\">DecisionTest</text></a><polygon fill=\"#FEFECE\" filter=\"url(#f16tq6riq269sq)\" points=\"210,67.5,222,79.5,210,91.5,198,79.5,210,67.5\" style=\"stroke: #A80036; stroke-width: 1.5;\"/><polygon fill=\"#FEFECE\" filter=\"url(#f16tq6riq269sq)\" points=\"35,187.5,47,199.5,35,211.5,23,199.5,35,187.5\" style=\"stroke: #A80036; stroke-width: 1.5;\"/><g id=\"E1.E4\"><a href=\"psysml:bb8ae358-9e9d-46e4-9973-23f4ed00e117\" target=\"_top\" title=\"psysml:bb8ae358-9e9d-46e4-9973-23f4ed00e117\" xlink:actuate=\"onRequest\" xlink:href=\"psysml:bb8ae358-9e9d-46e4-9973-23f4ed00e117\" xlink:show=\"new\" xlink:title=\"psysml:bb8ae358-9e9d-46e4-9973-23f4ed00e117\" xlink:type=\"simple\"><rect fill=\"#FEFECE\" filter=\"url(#f16tq6riq269sq)\" height=\"42.9375\" id=\"E4\" rx=\"10\" ry=\"10\" style=\"stroke: #A80036; stroke-width: 1.5;\" width=\"60\" x=\"135\" y=\"298\"/><text fill=\"#000000\" font-family=\"sans-serif\" font-size=\"12\" font-style=\"italic\" lengthAdjust=\"spacingAndGlyphs\" textLength=\"53\" x=\"138.5\" y=\"314.1387\">«action»</text><text fill=\"#000000\" font-family=\"sans-serif\" font-size=\"12\" lengthAdjust=\"spacingAndGlyphs\" textLength=\"16\" x=\"157\" y=\"328.1074\">A1</text></a></g><g id=\"E1.E5\"><a href=\"psysml:e7f91728-bf49-43a2-b90b-9012c9afe2c4\" target=\"_top\" title=\"psysml:e7f91728-bf49-43a2-b90b-9012c9afe2c4\" xlink:actuate=\"onRequest\" xlink:href=\"psysml:e7f91728-bf49-43a2-b90b-9012c9afe2c4\" xlink:show=\"new\" xlink:title=\"psysml:e7f91728-bf49-43a2-b90b-9012c9afe2c4\" xlink:type=\"simple\"><rect fill=\"#FEFECE\" filter=\"url(#f16tq6riq269sq)\" height=\"42.9375\" id=\"E5\" rx=\"10\" ry=\"10\" style=\"stroke: #A80036; stroke-width: 1.5;\" width=\"60\" x=\"135\" y=\"418\"/><text fill=\"#000000\" font-family=\"sans-serif\" font-size=\"12\" font-style=\"italic\" lengthAdjust=\"spacingAndGlyphs\" textLength=\"53\" x=\"138.5\" y=\"434.1387\">«action»</text><text fill=\"#000000\" font-family=\"sans-serif\" font-size=\"12\" lengthAdjust=\"spacingAndGlyphs\" textLength=\"16\" x=\"157\" y=\"448.1074\">A2</text></a></g><g id=\"E1.E6\"><a href=\"psysml:0d8578a4-a91e-4bc0-9576-e9210611ea53\" target=\"_top\" title=\"psysml:0d8578a4-a91e-4bc0-9576-e9210611ea53\" xlink:actuate=\"onRequest\" xlink:href=\"psysml:0d8578a4-a91e-4bc0-9576-e9210611ea53\" xlink:show=\"new\" xlink:title=\"psysml:0d8578a4-a91e-4bc0-9576-e9210611ea53\" xlink:type=\"simple\"><rect fill=\"#FEFECE\" filter=\"url(#f16tq6riq269sq)\" height=\"42.9375\" id=\"E6\" rx=\"10\" ry=\"10\" style=\"stroke: #A80036; stroke-width: 1.5;\" width=\"60\" x=\"63\" y=\"58\"/><text fill=\"#000000\" font-family=\"sans-serif\" font-size=\"12\" font-style=\"italic\" lengthAdjust=\"spacingAndGlyphs\" textLength=\"53\" x=\"66.5\" y=\"74.1387\">«action»</text><text fill=\"#000000\" font-family=\"sans-serif\" font-size=\"12\" lengthAdjust=\"spacingAndGlyphs\" textLength=\"16\" x=\"85\" y=\"88.1074\">A3</text></a></g><g id=\"E1.E7\"><a href=\"psysml:0d8578a4-a91e-4bc0-9576-e9210611ea53\" target=\"_top\" title=\"psysml:0d8578a4-a91e-4bc0-9576-e9210611ea53\" xlink:actuate=\"onRequest\" xlink:href=\"psysml:0d8578a4-a91e-4bc0-9576-e9210611ea53\" xlink:show=\"new\" xlink:title=\"psysml:0d8578a4-a91e-4bc0-9576-e9210611ea53\" xlink:type=\"simple\"><rect fill=\"#FEFECE\" filter=\"url(#f16tq6riq269sq)\" height=\"42.9375\" id=\"E7\" rx=\"10\" ry=\"10\" style=\"stroke: #A80036; stroke-width: 1.5;\" width=\"60\" x=\"246\" y=\"178\"/><text fill=\"#000000\" font-family=\"sans-serif\" font-size=\"12\" font-style=\"italic\" lengthAdjust=\"spacingAndGlyphs\" textLength=\"53\" x=\"249.5\" y=\"194.1387\">«action»</text><text fill=\"#000000\" font-family=\"sans-serif\" font-size=\"12\" lengthAdjust=\"spacingAndGlyphs\" textLength=\"16\" x=\"268\" y=\"208.1074\">A3</text></a></g><!--MD5=[4d03bb2d0377dc85ccfab60ff574652b]\n",
       "link E2 to E4--><a href=\"psysml:8074e684-9dcd-4869-b14d-8570f637bde9\" target=\"_top\" title=\"psysml:8074e684-9dcd-4869-b14d-8570f637bde9\" xlink:actuate=\"onRequest\" xlink:href=\"psysml:8074e684-9dcd-4869-b14d-8570f637bde9\" xlink:show=\"new\" xlink:title=\"psysml:8074e684-9dcd-4869-b14d-8570f637bde9\" xlink:type=\"simple\"><path d=\"M204.45,86 C190.88,99.89 156.22,138.13 144,178 C132.04,217.01 144.31,264.27 154.48,292.83 \" fill=\"none\" id=\"E2-&gt;E4\" style=\"stroke: #A80036; stroke-width: 1.0;\"/><polygon fill=\"#A80036\" points=\"156.22,297.6,156.8939,287.7742,154.5067,292.9027,149.3782,290.5155,156.22,297.6\" style=\"stroke: #A80036; stroke-width: 1.0;\"/><text fill=\"#000000\" font-family=\"sans-serif\" font-size=\"13\" lengthAdjust=\"spacingAndGlyphs\" textLength=\"55\" x=\"145\" y=\"204.0669\">[x == 1]</text><text fill=\"#000000\" font-family=\"sans-serif\" font-size=\"13\" lengthAdjust=\"spacingAndGlyphs\" textLength=\"7\" x=\"145.9198\" y=\"286.7919\">*</text></a><!--MD5=[dcad52bbbca2fe8adc741ce38b45dc12]\n",
       "link E2 to E5--><a href=\"psysml:3f3ee8aa-e9f7-416c-965c-8aff211aef79\" target=\"_top\" title=\"psysml:3f3ee8aa-e9f7-416c-965c-8aff211aef79\" xlink:actuate=\"onRequest\" xlink:href=\"psysml:3f3ee8aa-e9f7-416c-965c-8aff211aef79\" xlink:show=\"new\" xlink:title=\"psysml:3f3ee8aa-e9f7-416c-965c-8aff211aef79\" xlink:type=\"simple\"><path d=\"M210.67,90.83 C214.08,143.62 229.24,381.12 226,388 C220.27,400.19 209.98,410.45 199.48,418.47 \" fill=\"none\" id=\"E2-&gt;E5\" style=\"stroke: #A80036; stroke-width: 1.0;\"/><polygon fill=\"#A80036\" points=\"195.29,421.54,204.9073,419.4168,199.3138,418.5721,200.1586,412.9786,195.29,421.54\" style=\"stroke: #A80036; stroke-width: 1.0;\"/><text fill=\"#000000\" font-family=\"sans-serif\" font-size=\"13\" lengthAdjust=\"spacingAndGlyphs\" textLength=\"44\" x=\"222\" y=\"264.0669\">[x &gt; 1]</text><text fill=\"#000000\" font-family=\"sans-serif\" font-size=\"13\" lengthAdjust=\"spacingAndGlyphs\" textLength=\"7\" x=\"203.1039\" y=\"412.7419\">*</text></a><!--MD5=[e3d2a08a9c9236652057e8ed0cbc9b62]\n",
       "link E2 to E7--><a href=\"psysml:5268f6a4-a59c-47f8-920f-30c5900c34c3\" target=\"_top\" title=\"psysml:5268f6a4-a59c-47f8-920f-30c5900c34c3\" xlink:actuate=\"onRequest\" xlink:href=\"psysml:5268f6a4-a59c-47f8-920f-30c5900c34c3\" xlink:show=\"new\" xlink:title=\"psysml:5268f6a4-a59c-47f8-920f-30c5900c34c3\" xlink:type=\"simple\"><path d=\"M210.1,91.71 C210.67,105.71 213.16,129.99 223,148 C228.29,157.68 236.08,166.6 244.08,174.17 \" fill=\"none\" id=\"E2-&gt;E7\" style=\"stroke: #A80036; stroke-width: 1.0;\"/><polygon fill=\"#A80036\" points=\"248.01,177.77,244.069,168.744,244.3207,174.3953,238.6694,174.6469,248.01,177.77\" style=\"stroke: #A80036; stroke-width: 1.0;\"/><text fill=\"#000000\" font-family=\"sans-serif\" font-size=\"13\" lengthAdjust=\"spacingAndGlyphs\" textLength=\"7\" x=\"232.5471\" y=\"167.0076\">*</text></a><!--MD5=[583832df87f4419a098336a29a52fa00]\n",
       "link E7 to E2--><a href=\"psysml:1fcd52fd-d040-4c7e-90de-1e4181f9ba4a\" target=\"_top\" title=\"psysml:1fcd52fd-d040-4c7e-90de-1e4181f9ba4a\" xlink:actuate=\"onRequest\" xlink:href=\"psysml:1fcd52fd-d040-4c7e-90de-1e4181f9ba4a\" xlink:show=\"new\" xlink:title=\"psysml:1fcd52fd-d040-4c7e-90de-1e4181f9ba4a\" xlink:type=\"simple\"><path d=\"M264.3,177.59 C250.41,152.74 227.7,112.15 216.57,92.25 \" fill=\"none\" id=\"E7-&gt;E2\" style=\"stroke: #A80036; stroke-width: 1.0;\"/><polygon fill=\"#A80036\" points=\"214.13,87.88,215.0286,97.6878,216.5691,92.2447,222.0122,93.7852,214.13,87.88\" style=\"stroke: #A80036; stroke-width: 1.0;\"/><text fill=\"#000000\" font-family=\"sans-serif\" font-size=\"13\" lengthAdjust=\"spacingAndGlyphs\" textLength=\"44\" x=\"247\" y=\"144.0669\">[x &gt; 0]</text><text fill=\"#000000\" font-family=\"sans-serif\" font-size=\"13\" lengthAdjust=\"spacingAndGlyphs\" textLength=\"7\" x=\"207.5946\" y=\"111.7074\">*</text></a><!--MD5=[2720a5a1f2c3fca2055b230370638851]\n",
       "link E2 to E3--><a href=\"psysml:c0d6c8f2-adfa-4de5-8b53-fd445de20c7a\" target=\"_top\" title=\"psysml:c0d6c8f2-adfa-4de5-8b53-fd445de20c7a\" xlink:actuate=\"onRequest\" xlink:href=\"psysml:c0d6c8f2-adfa-4de5-8b53-fd445de20c7a\" xlink:show=\"new\" xlink:title=\"psysml:c0d6c8f2-adfa-4de5-8b53-fd445de20c7a\" xlink:type=\"simple\"><path d=\"M201.9,83.58 C184.06,90.55 140.39,108.7 108,131 C82.49,148.57 56.88,174.67 43.84,188.71 \" fill=\"none\" id=\"E2-&gt;E3\" style=\"stroke: #A80036; stroke-width: 1.0;\"/><polygon fill=\"#A80036\" points=\"40.21,192.66,49.2443,188.738,43.5925,188.9778,43.3527,183.326,40.21,192.66\" style=\"stroke: #A80036; stroke-width: 1.0;\"/><text fill=\"#000000\" font-family=\"sans-serif\" font-size=\"13\" lengthAdjust=\"spacingAndGlyphs\" textLength=\"7\" x=\"48.2668\" y=\"176.5238\">*</text></a><!--MD5=[af87c684e3b0d8be13c1a698a818ef1e]\n",
       "link E3 to E4--><a href=\"psysml:647fb379-8896-403f-81c0-e54862ace948\" target=\"_top\" title=\"psysml:647fb379-8896-403f-81c0-e54862ace948\" xlink:actuate=\"onRequest\" xlink:href=\"psysml:647fb379-8896-403f-81c0-e54862ace948\" xlink:show=\"new\" xlink:title=\"psysml:647fb379-8896-403f-81c0-e54862ace948\" xlink:type=\"simple\"><path d=\"M39.08,207.91 C46.63,221.15 63.87,249.24 84,268 C97.73,280.8 115.17,292.16 130.35,300.85 \" fill=\"none\" id=\"E3-&gt;E4\" style=\"stroke: #A80036; stroke-width: 1.0;\"/><polygon fill=\"#A80036\" points=\"134.98,303.46,129.0858,295.5696,130.6187,301.0148,125.1735,302.5477,134.98,303.46\" style=\"stroke: #A80036; stroke-width: 1.0;\"/><text fill=\"#000000\" font-family=\"sans-serif\" font-size=\"13\" lengthAdjust=\"spacingAndGlyphs\" textLength=\"36\" x=\"85\" y=\"264.0669\">[true]</text><text fill=\"#000000\" font-family=\"sans-serif\" font-size=\"13\" lengthAdjust=\"spacingAndGlyphs\" textLength=\"7\" x=\"119.8095\" y=\"294.8128\">*</text></a><!--MD5=[0188b64bb0ae78505a997a81836e11e9]\n",
       "link E3 to E5--><a href=\"psysml:1317e145-771b-48e4-a88c-08ae6f2caba6\" target=\"_top\" title=\"psysml:1317e145-771b-48e4-a88c-08ae6f2caba6\" xlink:actuate=\"onRequest\" xlink:href=\"psysml:1317e145-771b-48e4-a88c-08ae6f2caba6\" xlink:show=\"new\" xlink:title=\"psysml:1317e145-771b-48e4-a88c-08ae6f2caba6\" xlink:type=\"simple\"><path d=\"M36.3,210.29 C39.76,234.03 50.73,296.03 76,341 C91.89,369.29 117.42,396.1 137.07,414.43 \" fill=\"none\" id=\"E3-&gt;E5\" style=\"stroke: #A80036; stroke-width: 1.0;\"/><polygon fill=\"#A80036\" points=\"140.92,417.98,137.0155,408.9382,137.2443,414.5904,131.5921,414.8192,140.92,417.98\" style=\"stroke: #A80036; stroke-width: 1.0;\"/><text fill=\"#000000\" font-family=\"sans-serif\" font-size=\"13\" lengthAdjust=\"spacingAndGlyphs\" textLength=\"40\" x=\"77\" y=\"324.0669\">[false]</text><text fill=\"#000000\" font-family=\"sans-serif\" font-size=\"13\" lengthAdjust=\"spacingAndGlyphs\" textLength=\"7\" x=\"126.1631\" y=\"406.9125\">*</text></a><!--MD5=[1b7591eae5389033d8d09a9d6721a717]\n",
       "link E4 to E5--><a href=\"psysml:23f0aa3a-74d1-4632-9e57-f97d17e19ec4\" target=\"_top\" title=\"psysml:23f0aa3a-74d1-4632-9e57-f97d17e19ec4\" xlink:actuate=\"onRequest\" xlink:href=\"psysml:23f0aa3a-74d1-4632-9e57-f97d17e19ec4\" xlink:show=\"new\" xlink:title=\"psysml:23f0aa3a-74d1-4632-9e57-f97d17e19ec4\" xlink:type=\"simple\"><path d=\"M165,341.05 C165,360.9 165,391.02 165,412.52 \" fill=\"none\" id=\"E4-&gt;E5\" style=\"stroke: #A80036; stroke-width: 1.0;\"/><polygon fill=\"#A80036\" points=\"165,417.79,169,408.79,165,412.79,161,408.79,165,417.79\" style=\"stroke: #A80036; stroke-width: 1.0;\"/><text fill=\"#000000\" font-family=\"sans-serif\" font-size=\"13\" lengthAdjust=\"spacingAndGlyphs\" textLength=\"55\" x=\"166\" y=\"384.0669\">[x == 0]</text><text fill=\"#000000\" font-family=\"sans-serif\" font-size=\"13\" lengthAdjust=\"spacingAndGlyphs\" textLength=\"7\" x=\"157.0594\" y=\"407.033\">*</text></a><!--MD5=[7e26461f269d4075c2bc58295ad6dd95]\n",
       "@startuml\r\n",
       "skinparam wrapWidth 300\r\n",
       "hide circle\r\n",
       "\r\n",
       "rec def \"DecisionTest\" as E1  <<(T,blue) action  def>> [[psysml:62ac371c-e17a-420d-a580-1aab63005ed6 ]] {\r\n",
       "choice \"test x\" as E2  [[psysml:2e150d19-c5c5-4276-9136-9fe31d212434 ]] \r\n",
       "choice \"<s>noname</s>\" as E3  [[psysml:cc5b619c-f329-4ed7-9a64-7943d6ed9569 ]] \r\n",
       "rec usage \"A1\" as E4  <<(T,blue) action>> [[psysml:bb8ae358-9e9d-46e4-9973-23f4ed00e117 ]] {\r\n",
       "}\r\n",
       "\r\n",
       "rec usage \"A2\" as E5  <<(T,blue) action>> [[psysml:e7f91728-bf49-43a2-b90b-9012c9afe2c4 ]] {\r\n",
       "}\r\n",
       "\r\n",
       "rec usage \"A3\" as E6  <<(T,blue) action>> [[psysml:0d8578a4-a91e-4bc0-9576-e9210611ea53 ]] {\r\n",
       "}\r\n",
       "\r\n",
       "rec usage \"A3\" as E7  <<(T,blue) action>> [[psysml:0d8578a4-a91e-4bc0-9576-e9210611ea53 ]] {\r\n",
       "}\r\n",
       "\r\n",
       "}\r\n",
       "\r\n",
       "E2  - -> \"*\"E4 [[psysml:8074e684-9dcd-4869-b14d-8570f637bde9 ]] : [x == 1]\r\n",
       "E2  - -> \"*\"E5 [[psysml:3f3ee8aa-e9f7-416c-965c-8aff211aef79 ]] : [x > 1]\r\n",
       "E2  - -> \"*\"E7 [[psysml:5268f6a4-a59c-47f8-920f-30c5900c34c3 ]] \r\n",
       "E2 - -> \"*\"E3 [[psysml:c0d6c8f2-adfa-4de5-8b53-fd445de20c7a ]] \r\n",
       "E3  - -> \"*\"E4 [[psysml:647fb379-8896-403f-81c0-e54862ace948 ]] : [true]\r\n",
       "E3  - -> \"*\"E5 [[psysml:1317e145-771b-48e4-a88c-08ae6f2caba6 ]] : [false]\r\n",
       "E4  - -> \"*\"E5 [[psysml:23f0aa3a-74d1-4632-9e57-f97d17e19ec4 ]] : [x == 0]\r\n",
       "E7  - -> \"*\"E2 [[psysml:1fcd52fd-d040-4c7e-90de-1e4181f9ba4a ]] : [x > 0]\r\n",
       "@enduml\r\n",
       "\n",
       "PlantUML version 1.2020.13(Sat Jun 13 12:26:38 UTC 2020)\n",
       "(EPL source distribution)\n",
       "Java Runtime: OpenJDK Runtime Environment\n",
       "JVM: OpenJDK 64-Bit Server VM\n",
       "Default Encoding: UTF-8\n",
       "Language: en\n",
       "Country: null\n",
       "--></g></svg>"
      ]
     },
     "execution_count": 23,
     "metadata": {},
     "output_type": "execute_result"
    }
   ],
   "source": [
    "%viz --style=\"STDCOLOR\" --view=\"Default\" \"DecisionTest\""
   ]
  },
  {
   "cell_type": "code",
   "execution_count": 24,
   "id": "80a779e9",
   "metadata": {
    "execution": {
     "iopub.execute_input": "2022-03-21T07:51:00.689849Z",
     "iopub.status.busy": "2022-03-21T07:51:00.689438Z",
     "iopub.status.idle": "2022-03-21T07:51:00.815669Z",
     "shell.execute_reply": "2022-03-21T07:51:00.814183Z"
    }
   },
   "outputs": [
    {
     "data": {
      "image/svg+xml": [
       "<?xml version=\"1.0\" encoding=\"UTF-8\" standalone=\"no\"?><svg xmlns=\"http://www.w3.org/2000/svg\" xmlns:xlink=\"http://www.w3.org/1999/xlink\" contentScriptType=\"application/ecmascript\" contentStyleType=\"text/css\" height=\"343px\" preserveAspectRatio=\"none\" style=\"width:539px;height:343px;\" version=\"1.1\" viewBox=\"0 0 539 343\" width=\"539px\" zoomAndPan=\"magnify\"><defs><filter height=\"300%\" id=\"f1v6lnw5epx0n2\" width=\"300%\" x=\"-1\" y=\"-1\"><feGaussianBlur result=\"blurOut\" stdDeviation=\"2.0\"/><feColorMatrix in=\"blurOut\" result=\"blurOut2\" type=\"matrix\" values=\"0 0 0 0 0 0 0 0 0 0 0 0 0 0 0 0 0 0 .4 0\"/><feOffset dx=\"4.0\" dy=\"4.0\" in=\"blurOut2\" result=\"blurOut3\"/><feBlend in=\"SourceGraphic\" in2=\"blurOut3\" mode=\"normal\"/></filter></defs><g><!--MD5=[43c9051892ef23e1a46a86907403d788]\n",
       "class E1--><a href=\"psysml:62ac371c-e17a-420d-a580-1aab63005ed6\" target=\"_top\" title=\"psysml:62ac371c-e17a-420d-a580-1aab63005ed6\" xlink:actuate=\"onRequest\" xlink:href=\"psysml:62ac371c-e17a-420d-a580-1aab63005ed6\" xlink:show=\"new\" xlink:title=\"psysml:62ac371c-e17a-420d-a580-1aab63005ed6\" xlink:type=\"simple\"><rect fill=\"#FEFECE\" filter=\"url(#f1v6lnw5epx0n2)\" height=\"211.5938\" id=\"E1\" style=\"stroke: #A80036; stroke-width: 1.5;\" width=\"86\" x=\"315\" y=\"7\"/><text fill=\"#000000\" font-family=\"sans-serif\" font-size=\"12\" font-style=\"italic\" lengthAdjust=\"spacingAndGlyphs\" textLength=\"81\" x=\"317.5\" y=\"23.1387\">«action  def»</text><text fill=\"#000000\" font-family=\"sans-serif\" font-size=\"12\" lengthAdjust=\"spacingAndGlyphs\" textLength=\"80\" x=\"318\" y=\"37.1074\">DecisionTest</text><line style=\"stroke: #A80036; stroke-width: 1.5;\" x1=\"316\" x2=\"400\" y1=\"44.9375\" y2=\"44.9375\"/><text fill=\"#000000\" font-family=\"sans-serif\" font-size=\"11\" lengthAdjust=\"spacingAndGlyphs\" textLength=\"30\" x=\"321\" y=\"75.9526\">x= 1;</text><line style=\"stroke: #A80036; stroke-width: 1.0;\" x1=\"316\" x2=\"330.5\" y1=\"59.3398\" y2=\"59.3398\"/><text fill=\"#000000\" font-family=\"sans-serif\" font-size=\"11\" lengthAdjust=\"spacingAndGlyphs\" textLength=\"55\" x=\"330.5\" y=\"62.6479\">attributes</text><line style=\"stroke: #A80036; stroke-width: 1.0;\" x1=\"385.5\" x2=\"400\" y1=\"59.3398\" y2=\"59.3398\"/><text fill=\"#000000\" font-family=\"sans-serif\" font-size=\"11\" lengthAdjust=\"spacingAndGlyphs\" textLength=\"25\" x=\"321\" y=\"105.562\">then</text><line style=\"stroke: #A80036; stroke-width: 1.0;\" x1=\"316\" x2=\"322.5\" y1=\"88.9492\" y2=\"88.9492\"/><text fill=\"#000000\" font-family=\"sans-serif\" font-size=\"11\" lengthAdjust=\"spacingAndGlyphs\" textLength=\"71\" x=\"322.5\" y=\"92.2573\">successions</text><line style=\"stroke: #A80036; stroke-width: 1.0;\" x1=\"393.5\" x2=\"400\" y1=\"88.9492\" y2=\"88.9492\"/><text fill=\"#000000\" font-family=\"sans-serif\" font-size=\"11\" lengthAdjust=\"spacingAndGlyphs\" textLength=\"0\" x=\"325\" y=\"135.1714\"/><text fill=\"#000000\" font-family=\"sans-serif\" font-size=\"11\" lengthAdjust=\"spacingAndGlyphs\" textLength=\"0\" x=\"325\" y=\"147.9761\"/><text fill=\"#000000\" font-family=\"sans-serif\" font-size=\"11\" lengthAdjust=\"spacingAndGlyphs\" textLength=\"0\" x=\"325\" y=\"160.7808\"/><text fill=\"#000000\" font-family=\"sans-serif\" font-size=\"11\" lengthAdjust=\"spacingAndGlyphs\" textLength=\"0\" x=\"325\" y=\"173.5854\"/><text fill=\"#000000\" font-family=\"sans-serif\" font-size=\"11\" lengthAdjust=\"spacingAndGlyphs\" textLength=\"0\" x=\"325\" y=\"186.3901\"/><text fill=\"#000000\" font-family=\"sans-serif\" font-size=\"11\" lengthAdjust=\"spacingAndGlyphs\" textLength=\"0\" x=\"325\" y=\"199.1948\"/><text fill=\"#000000\" font-family=\"sans-serif\" font-size=\"11\" lengthAdjust=\"spacingAndGlyphs\" textLength=\"8\" x=\"321\" y=\"211.9995\">S</text><line style=\"stroke: #A80036; stroke-width: 1.0;\" x1=\"316\" x2=\"327.5\" y1=\"118.5586\" y2=\"118.5586\"/><text fill=\"#000000\" font-family=\"sans-serif\" font-size=\"11\" lengthAdjust=\"spacingAndGlyphs\" textLength=\"61\" x=\"327.5\" y=\"121.8667\">transitions</text><line style=\"stroke: #A80036; stroke-width: 1.0;\" x1=\"388.5\" x2=\"400\" y1=\"118.5586\" y2=\"118.5586\"/></a><!--MD5=[b4997ac47864f28c2f74865a473b2911]\n",
       "class E2--><a href=\"psysml:2e150d19-c5c5-4276-9136-9fe31d212434\" target=\"_top\" title=\"psysml:2e150d19-c5c5-4276-9136-9fe31d212434\" xlink:actuate=\"onRequest\" xlink:href=\"psysml:2e150d19-c5c5-4276-9136-9fe31d212434\" xlink:show=\"new\" xlink:title=\"psysml:2e150d19-c5c5-4276-9136-9fe31d212434\" xlink:type=\"simple\"><rect fill=\"#FEFECE\" filter=\"url(#f1v6lnw5epx0n2)\" height=\"45.9375\" id=\"E2\" rx=\"10\" ry=\"10\" style=\"stroke: #A80036; stroke-width: 1.5;\" width=\"104\" x=\"7\" y=\"279\"/><text fill=\"#000000\" font-family=\"sans-serif\" font-size=\"12\" font-style=\"italic\" lengthAdjust=\"spacingAndGlyphs\" textLength=\"102\" x=\"8\" y=\"295.1387\">«decision node»</text><text fill=\"#000000\" font-family=\"sans-serif\" font-size=\"12\" lengthAdjust=\"spacingAndGlyphs\" textLength=\"35\" x=\"39.5\" y=\"309.1074\">test x</text><line style=\"stroke: #A80036; stroke-width: 1.5;\" x1=\"8\" x2=\"110\" y1=\"316.9375\" y2=\"316.9375\"/></a><!--MD5=[09b614a08d8cba4a07c9adeb5e0fee81]\n",
       "class E3--><a href=\"psysml:cc5b619c-f329-4ed7-9a64-7943d6ed9569\" target=\"_top\" title=\"psysml:cc5b619c-f329-4ed7-9a64-7943d6ed9569\" xlink:actuate=\"onRequest\" xlink:href=\"psysml:cc5b619c-f329-4ed7-9a64-7943d6ed9569\" xlink:show=\"new\" xlink:title=\"psysml:cc5b619c-f329-4ed7-9a64-7943d6ed9569\" xlink:type=\"simple\"><rect fill=\"#FEFECE\" filter=\"url(#f1v6lnw5epx0n2)\" height=\"45.9375\" id=\"E3\" rx=\"10\" ry=\"10\" style=\"stroke: #A80036; stroke-width: 1.5;\" width=\"104\" x=\"146\" y=\"279\"/><text fill=\"#000000\" font-family=\"sans-serif\" font-size=\"12\" font-style=\"italic\" lengthAdjust=\"spacingAndGlyphs\" textLength=\"102\" x=\"147\" y=\"295.1387\">«decision node»</text><text fill=\"#000000\" font-family=\"sans-serif\" font-size=\"12\" lengthAdjust=\"spacingAndGlyphs\" text-decoration=\"line-through\" textLength=\"51\" x=\"170.5\" y=\"309.1074\">noname</text><text fill=\"#000000\" font-family=\"sans-serif\" font-size=\"12\" lengthAdjust=\"spacingAndGlyphs\" textLength=\"0\" x=\"225.5\" y=\"309.1074\"/><line style=\"stroke: #A80036; stroke-width: 1.5;\" x1=\"147\" x2=\"249\" y1=\"316.9375\" y2=\"316.9375\"/></a><!--MD5=[ebbe1d658d1005bcc118a6aa81145e00]\n",
       "class E4--><a href=\"psysml:bb8ae358-9e9d-46e4-9973-23f4ed00e117\" target=\"_top\" title=\"psysml:bb8ae358-9e9d-46e4-9973-23f4ed00e117\" xlink:actuate=\"onRequest\" xlink:href=\"psysml:bb8ae358-9e9d-46e4-9973-23f4ed00e117\" xlink:show=\"new\" xlink:title=\"psysml:bb8ae358-9e9d-46e4-9973-23f4ed00e117\" xlink:type=\"simple\"><rect fill=\"#FEFECE\" filter=\"url(#f1v6lnw5epx0n2)\" height=\"45.9375\" id=\"E4\" rx=\"10\" ry=\"10\" style=\"stroke: #A80036; stroke-width: 1.5;\" width=\"55\" x=\"285.5\" y=\"279\"/><text fill=\"#000000\" font-family=\"sans-serif\" font-size=\"12\" font-style=\"italic\" lengthAdjust=\"spacingAndGlyphs\" textLength=\"53\" x=\"286.5\" y=\"295.1387\">«action»</text><text fill=\"#000000\" font-family=\"sans-serif\" font-size=\"12\" lengthAdjust=\"spacingAndGlyphs\" textLength=\"16\" x=\"303\" y=\"309.1074\">A1</text><line style=\"stroke: #A80036; stroke-width: 1.5;\" x1=\"286.5\" x2=\"339.5\" y1=\"316.9375\" y2=\"316.9375\"/></a><!--MD5=[270fce915f116d4de14055a7c1d9a0f3]\n",
       "class E5--><a href=\"psysml:e7f91728-bf49-43a2-b90b-9012c9afe2c4\" target=\"_top\" title=\"psysml:e7f91728-bf49-43a2-b90b-9012c9afe2c4\" xlink:actuate=\"onRequest\" xlink:href=\"psysml:e7f91728-bf49-43a2-b90b-9012c9afe2c4\" xlink:show=\"new\" xlink:title=\"psysml:e7f91728-bf49-43a2-b90b-9012c9afe2c4\" xlink:type=\"simple\"><rect fill=\"#FEFECE\" filter=\"url(#f1v6lnw5epx0n2)\" height=\"45.9375\" id=\"E5\" rx=\"10\" ry=\"10\" style=\"stroke: #A80036; stroke-width: 1.5;\" width=\"55\" x=\"375.5\" y=\"279\"/><text fill=\"#000000\" font-family=\"sans-serif\" font-size=\"12\" font-style=\"italic\" lengthAdjust=\"spacingAndGlyphs\" textLength=\"53\" x=\"376.5\" y=\"295.1387\">«action»</text><text fill=\"#000000\" font-family=\"sans-serif\" font-size=\"12\" lengthAdjust=\"spacingAndGlyphs\" textLength=\"16\" x=\"393\" y=\"309.1074\">A2</text><line style=\"stroke: #A80036; stroke-width: 1.5;\" x1=\"376.5\" x2=\"429.5\" y1=\"316.9375\" y2=\"316.9375\"/></a><!--MD5=[60a26617385b1d2d0262a64233df1f8d]\n",
       "class E6--><a href=\"psysml:0d8578a4-a91e-4bc0-9576-e9210611ea53\" target=\"_top\" title=\"psysml:0d8578a4-a91e-4bc0-9576-e9210611ea53\" xlink:actuate=\"onRequest\" xlink:href=\"psysml:0d8578a4-a91e-4bc0-9576-e9210611ea53\" xlink:show=\"new\" xlink:title=\"psysml:0d8578a4-a91e-4bc0-9576-e9210611ea53\" xlink:type=\"simple\"><rect fill=\"#FEFECE\" filter=\"url(#f1v6lnw5epx0n2)\" height=\"45.9375\" id=\"E6\" rx=\"10\" ry=\"10\" style=\"stroke: #A80036; stroke-width: 1.5;\" width=\"55\" x=\"465.5\" y=\"279\"/><text fill=\"#000000\" font-family=\"sans-serif\" font-size=\"12\" font-style=\"italic\" lengthAdjust=\"spacingAndGlyphs\" textLength=\"53\" x=\"466.5\" y=\"295.1387\">«action»</text><text fill=\"#000000\" font-family=\"sans-serif\" font-size=\"12\" lengthAdjust=\"spacingAndGlyphs\" textLength=\"16\" x=\"483\" y=\"309.1074\">A3</text><line style=\"stroke: #A80036; stroke-width: 1.5;\" x1=\"466.5\" x2=\"519.5\" y1=\"316.9375\" y2=\"316.9375\"/></a><!--MD5=[a523cb2a0b79ecf9065ad8783f96c320]\n",
       "reverse link E1 to E2--><a href=\"psysml:61bbaf95-6b35-4ea8-9656-8ce08595131a\" target=\"_top\" title=\"psysml:61bbaf95-6b35-4ea8-9656-8ce08595131a\" xlink:actuate=\"onRequest\" xlink:href=\"psysml:61bbaf95-6b35-4ea8-9656-8ce08595131a\" xlink:show=\"new\" xlink:title=\"psysml:61bbaf95-6b35-4ea8-9656-8ce08595131a\" xlink:type=\"simple\"><path d=\"M303.54,148.06 C242.66,186.13 145.87,246.67 94.21,278.98 \" fill=\"none\" id=\"E1&lt;-E2\" style=\"stroke: #A80036; stroke-width: 1.0;\"/><polygon fill=\"#A80036\" points=\"314.84,140.99,307.632,140.7788,304.6648,147.3512,311.8728,147.5623,314.84,140.99\" style=\"stroke: #A80036; stroke-width: 1.0;\"/></a><!--MD5=[5d7b3810b1dd9b5164bea1151b29b665]\n",
       "reverse link E1 to E3--><a href=\"psysml:1be4164a-e759-487d-bef2-3f3fc6c6ee3e\" target=\"_top\" title=\"psysml:1be4164a-e759-487d-bef2-3f3fc6c6ee3e\" xlink:actuate=\"onRequest\" xlink:href=\"psysml:1be4164a-e759-487d-bef2-3f3fc6c6ee3e\" xlink:show=\"new\" xlink:title=\"psysml:1be4164a-e759-487d-bef2-3f3fc6c6ee3e\" xlink:type=\"simple\"><path d=\"M305.9,174.89 C275.51,210.41 238.98,253.11 217.17,278.6 \" fill=\"none\" id=\"E1&lt;-E3\" style=\"stroke: #A80036; stroke-width: 1.0;\"/><polygon fill=\"#A80036\" points=\"314.7,164.6,307.7601,166.559,306.8992,173.7185,313.8391,171.7595,314.7,164.6\" style=\"stroke: #A80036; stroke-width: 1.0;\"/></a><!--MD5=[f2c5c03aa1e8c0ba21c10a05e6444b8e]\n",
       "reverse link E1 to E4--><a href=\"psysml:ea8ec5e3-dd0d-4201-a2d4-45f385d409e8\" target=\"_top\" title=\"psysml:ea8ec5e3-dd0d-4201-a2d4-45f385d409e8\" xlink:actuate=\"onRequest\" xlink:href=\"psysml:ea8ec5e3-dd0d-4201-a2d4-45f385d409e8\" xlink:show=\"new\" xlink:title=\"psysml:ea8ec5e3-dd0d-4201-a2d4-45f385d409e8\" xlink:type=\"simple\"><path d=\"M329.58,232.08 C325.3,249.9 321.32,266.44 318.33,278.84 \" fill=\"none\" id=\"E1&lt;-E4\" style=\"stroke: #A80036; stroke-width: 1.0;\"/><polygon fill=\"#A80036\" points=\"332.67,219.25,327.3811,224.1517,329.8715,230.9191,335.1605,226.0174,332.67,219.25\" style=\"stroke: #A80036; stroke-width: 1.0;\"/><text fill=\"#000000\" font-family=\"sans-serif\" font-size=\"13\" lengthAdjust=\"spacingAndGlyphs\" textLength=\"7\" x=\"311.7989\" y=\"268.0753\">*</text></a><!--MD5=[33238bef88d6431a141d8bc8fb12bca0]\n",
       "reverse link E1 to E5--><a href=\"psysml:8b3fb5b8-4ae2-4666-9331-7642784b574c\" target=\"_top\" title=\"psysml:8b3fb5b8-4ae2-4666-9331-7642784b574c\" xlink:actuate=\"onRequest\" xlink:href=\"psysml:8b3fb5b8-4ae2-4666-9331-7642784b574c\" xlink:show=\"new\" xlink:title=\"psysml:8b3fb5b8-4ae2-4666-9331-7642784b574c\" xlink:type=\"simple\"><path d=\"M386.42,232.08 C390.7,249.9 394.68,266.44 397.67,278.84 \" fill=\"none\" id=\"E1&lt;-E5\" style=\"stroke: #A80036; stroke-width: 1.0;\"/><polygon fill=\"#A80036\" points=\"383.33,219.25,380.8395,226.0174,386.1285,230.9191,388.6189,224.1517,383.33,219.25\" style=\"stroke: #A80036; stroke-width: 1.0;\"/><text fill=\"#000000\" font-family=\"sans-serif\" font-size=\"13\" lengthAdjust=\"spacingAndGlyphs\" textLength=\"7\" x=\"388.4073\" y=\"268.0753\">*</text></a><!--MD5=[aca2ef284c2b1b90e17e73bf3f292c07]\n",
       "reverse link E1 to E6--><a href=\"psysml:a8437b79-0ca7-4b3d-9ccd-1b1fd90c9a28\" target=\"_top\" title=\"psysml:a8437b79-0ca7-4b3d-9ccd-1b1fd90c9a28\" xlink:actuate=\"onRequest\" xlink:href=\"psysml:a8437b79-0ca7-4b3d-9ccd-1b1fd90c9a28\" xlink:show=\"new\" xlink:title=\"psysml:a8437b79-0ca7-4b3d-9ccd-1b1fd90c9a28\" xlink:type=\"simple\"><path d=\"M408.77,201.95 C429.03,230.31 451.36,259.35 468.19,278.59 \" fill=\"none\" id=\"E1&lt;-E6\" style=\"stroke: #A80036; stroke-width: 1.0;\"/><polygon fill=\"#A80036\" points=\"401.11,191.14,401.3121,198.3483,408.0436,200.9341,407.8415,193.7258,401.11,191.14\" style=\"stroke: #A80036; stroke-width: 1.0;\"/><text fill=\"#000000\" font-family=\"sans-serif\" font-size=\"13\" lengthAdjust=\"spacingAndGlyphs\" textLength=\"7\" x=\"453.9356\" y=\"267.7612\">*</text></a><!--MD5=[aca2ef284c2b1b90e17e73bf3f292c07]\n",
       "reverse link E1 to E6--><a href=\"psysml:df3b65d4-7483-4b88-b5f9-cbf727def8cf\" target=\"_top\" title=\"psysml:df3b65d4-7483-4b88-b5f9-cbf727def8cf\" xlink:actuate=\"onRequest\" xlink:href=\"psysml:df3b65d4-7483-4b88-b5f9-cbf727def8cf\" xlink:show=\"new\" xlink:title=\"psysml:df3b65d4-7483-4b88-b5f9-cbf727def8cf\" xlink:type=\"simple\"><path d=\"M410.8,169.86 C439.32,206.45 471.27,252.27 486.16,278.93 \" fill=\"none\" id=\"E1&lt;-E6-1\" style=\"stroke: #A80036; stroke-width: 1.0; stroke-dasharray: 7.0,7.0;\"/><ellipse cx=\"406.2494\" cy=\"164.1173\" fill=\"#FFFFFF\" rx=\"8\" ry=\"8\" style=\"stroke: #A80036; stroke-width: 1.0;\"/><line style=\"stroke: #A80036; stroke-width: 1.0;\" x1=\"411.2088\" x2=\"401.29\" y1=\"170.3946\" y2=\"157.84\"/><line style=\"stroke: #A80036; stroke-width: 1.0;\" x1=\"399.9721\" x2=\"412.5267\" y1=\"169.0767\" y2=\"159.1579\"/><text fill=\"#000000\" font-family=\"sans-serif\" font-size=\"13\" lengthAdjust=\"spacingAndGlyphs\" textLength=\"7\" x=\"476.3811\" y=\"267.8075\">*</text></a><!--MD5=[a4a0400e516acabe3e1b66bbd94b97db]\n",
       "@startuml\r\n",
       "skinparam wrapWidth 300\r\n",
       "hide circle\r\n",
       "\r\n",
       "comp def \"DecisionTest\" as E1  <<(T,blue) action  def>> [[psysml:62ac371c-e17a-420d-a580-1aab63005ed6 ]] {\r\n",
       "- - attributes - -\r\n",
       "x= 1; \r\n",
       "- - successions - -\r\n",
       " then \r\n",
       "- - transitions - -\r\n",
       "\r\n",
       "\r\n",
       "\r\n",
       "\r\n",
       "\r\n",
       "\r\n",
       "S\r\n",
       "}\r\n",
       "comp usage \"test x \" as E2  <<(T,blue) decision node>> [[psysml:2e150d19-c5c5-4276-9136-9fe31d212434 ]] {\r\n",
       "}\r\n",
       "comp usage \"<s>noname</s> \" as E3  <<(T,blue) decision node>> [[psysml:cc5b619c-f329-4ed7-9a64-7943d6ed9569 ]] {\r\n",
       "}\r\n",
       "comp usage \"A1 \" as E4  <<(T,blue) action>> [[psysml:bb8ae358-9e9d-46e4-9973-23f4ed00e117 ]] {\r\n",
       "}\r\n",
       "comp usage \"A2 \" as E5  <<(T,blue) action>> [[psysml:e7f91728-bf49-43a2-b90b-9012c9afe2c4 ]] {\r\n",
       "}\r\n",
       "comp usage \"A3 \" as E6  <<(T,blue) action>> [[psysml:0d8578a4-a91e-4bc0-9576-e9210611ea53 ]] {\r\n",
       "}\r\n",
       "E1 *- - E2 [[psysml:61bbaf95-6b35-4ea8-9656-8ce08595131a ]] \r\n",
       "E1 *- - E3 [[psysml:1be4164a-e759-487d-bef2-3f3fc6c6ee3e ]] \r\n",
       "E1 *- - \"*\"E4 [[psysml:ea8ec5e3-dd0d-4201-a2d4-45f385d409e8 ]] \r\n",
       "E1 *- - \"*\"E5 [[psysml:8b3fb5b8-4ae2-4666-9331-7642784b574c ]] \r\n",
       "E1 *- - \"*\"E6 [[psysml:a8437b79-0ca7-4b3d-9ccd-1b1fd90c9a28 ]] \r\n",
       "E1 +.. \"*\"E6 [[psysml:df3b65d4-7483-4b88-b5f9-cbf727def8cf ]] \r\n",
       "@enduml\r\n",
       "\n",
       "PlantUML version 1.2020.13(Sat Jun 13 12:26:38 UTC 2020)\n",
       "(EPL source distribution)\n",
       "Java Runtime: OpenJDK Runtime Environment\n",
       "JVM: OpenJDK 64-Bit Server VM\n",
       "Default Encoding: UTF-8\n",
       "Language: en\n",
       "Country: null\n",
       "--></g></svg>"
      ]
     },
     "execution_count": 24,
     "metadata": {},
     "output_type": "execute_result"
    }
   ],
   "source": [
    "%viz --style=\"STDCOLOR\" --view=\"Tree\" \"DecisionTest\""
   ]
  },
  {
   "cell_type": "code",
   "execution_count": 25,
   "id": "4def2e6d",
   "metadata": {
    "execution": {
     "iopub.execute_input": "2022-03-21T07:51:00.864749Z",
     "iopub.status.busy": "2022-03-21T07:51:00.864302Z",
     "iopub.status.idle": "2022-03-21T07:51:00.867926Z",
     "shell.execute_reply": "2022-03-21T07:51:00.867566Z"
    }
   },
   "outputs": [
    {
     "data": {
      "image/svg+xml": [
       "<?xml version=\"1.0\" encoding=\"UTF-8\" standalone=\"no\"?><svg xmlns=\"http://www.w3.org/2000/svg\" xmlns:xlink=\"http://www.w3.org/1999/xlink\" contentScriptType=\"application/ecmascript\" contentStyleType=\"text/css\" height=\"12px\" preserveAspectRatio=\"none\" style=\"width:12px;height:12px;\" version=\"1.1\" viewBox=\"0 0 12 12\" width=\"12px\" zoomAndPan=\"magnify\"><defs/><g><!--MD5=[aeeef50f102b80d730deb6443d14f702]\n",
       "@startuml\r\n",
       "skinparam wrapWidth 300\r\n",
       "hide circle\r\n",
       "\r\n",
       "@enduml\r\n",
       "\n",
       "PlantUML version 1.2020.13(Sat Jun 13 12:26:38 UTC 2020)\n",
       "(EPL source distribution)\n",
       "Java Runtime: OpenJDK Runtime Environment\n",
       "JVM: OpenJDK 64-Bit Server VM\n",
       "Default Encoding: UTF-8\n",
       "Language: en\n",
       "Country: null\n",
       "--></g></svg>"
      ]
     },
     "execution_count": 25,
     "metadata": {},
     "output_type": "execute_result"
    }
   ],
   "source": [
    "%viz --style=\"STDCOLOR\" --view=\"State\" \"DecisionTest\""
   ]
  },
  {
   "cell_type": "code",
   "execution_count": 26,
   "id": "0d590362",
   "metadata": {
    "execution": {
     "iopub.execute_input": "2022-03-21T07:51:00.917816Z",
     "iopub.status.busy": "2022-03-21T07:51:00.917384Z",
     "iopub.status.idle": "2022-03-21T07:51:00.958159Z",
     "shell.execute_reply": "2022-03-21T07:51:00.957788Z"
    }
   },
   "outputs": [
    {
     "data": {
      "image/svg+xml": [
       "<?xml version=\"1.0\" encoding=\"UTF-8\" standalone=\"no\"?><svg xmlns=\"http://www.w3.org/2000/svg\" xmlns:xlink=\"http://www.w3.org/1999/xlink\" contentScriptType=\"application/ecmascript\" contentStyleType=\"text/css\" height=\"364px\" preserveAspectRatio=\"none\" style=\"width:341px;height:364px;\" version=\"1.1\" viewBox=\"0 0 341 364\" width=\"341px\" zoomAndPan=\"magnify\"><defs><filter height=\"300%\" id=\"fyusrngfadj7f\" width=\"300%\" x=\"-1\" y=\"-1\"><feGaussianBlur result=\"blurOut\" stdDeviation=\"2.0\"/><feColorMatrix in=\"blurOut\" result=\"blurOut2\" type=\"matrix\" values=\"0 0 0 0 0 0 0 0 0 0 0 0 0 0 0 0 0 0 .4 0\"/><feOffset dx=\"4.0\" dy=\"4.0\" in=\"blurOut2\" result=\"blurOut3\"/><feBlend in=\"SourceGraphic\" in2=\"blurOut3\" mode=\"normal\"/></filter></defs><g><!--MD5=[fbc87193dbaf4d95561dea2c320d4a47]\n",
       "cluster E1--><a href=\"psysml:62ac371c-e17a-420d-a580-1aab63005ed6\" target=\"_top\" title=\"psysml:62ac371c-e17a-420d-a580-1aab63005ed6\" xlink:actuate=\"onRequest\" xlink:href=\"psysml:62ac371c-e17a-420d-a580-1aab63005ed6\" xlink:show=\"new\" xlink:title=\"psysml:62ac371c-e17a-420d-a580-1aab63005ed6\" xlink:type=\"simple\"><rect fill=\"#FFFFFF\" filter=\"url(#fyusrngfadj7f)\" height=\"338\" id=\"E1\" style=\"stroke: #A80036; stroke-width: 1.5;\" width=\"315\" x=\"7\" y=\"7\"/><rect fill=\"#FEFECE\" height=\"37.9375\" style=\"stroke: #A80036; stroke-width: 1.5;\" width=\"315\" x=\"7\" y=\"7\"/><text fill=\"#000000\" font-family=\"sans-serif\" font-size=\"12\" font-style=\"italic\" lengthAdjust=\"spacingAndGlyphs\" textLength=\"81\" x=\"124\" y=\"23.1387\">«action  def»</text><text fill=\"#000000\" font-family=\"sans-serif\" font-size=\"12\" lengthAdjust=\"spacingAndGlyphs\" textLength=\"80\" x=\"124.5\" y=\"37.1074\">DecisionTest</text></a><polygon fill=\"#FEFECE\" filter=\"url(#fyusrngfadj7f)\" points=\"210,67.5,222,79.5,210,91.5,198,79.5,210,67.5\" style=\"stroke: #A80036; stroke-width: 1.5;\"/><polygon fill=\"#FEFECE\" filter=\"url(#fyusrngfadj7f)\" points=\"35,143.5,47,155.5,35,167.5,23,155.5,35,143.5\" style=\"stroke: #A80036; stroke-width: 1.5;\"/><g id=\"E1.E4\"><a href=\"psysml:bb8ae358-9e9d-46e4-9973-23f4ed00e117\" target=\"_top\" title=\"psysml:bb8ae358-9e9d-46e4-9973-23f4ed00e117\" xlink:actuate=\"onRequest\" xlink:href=\"psysml:bb8ae358-9e9d-46e4-9973-23f4ed00e117\" xlink:show=\"new\" xlink:title=\"psysml:bb8ae358-9e9d-46e4-9973-23f4ed00e117\" xlink:type=\"simple\"><rect fill=\"#FEFECE\" filter=\"url(#fyusrngfadj7f)\" height=\"42.9375\" id=\"E4\" rx=\"10\" ry=\"10\" style=\"stroke: #A80036; stroke-width: 1.5;\" width=\"60\" x=\"135\" y=\"210\"/><text fill=\"#000000\" font-family=\"sans-serif\" font-size=\"12\" font-style=\"italic\" lengthAdjust=\"spacingAndGlyphs\" textLength=\"53\" x=\"138.5\" y=\"226.1387\">«action»</text><text fill=\"#000000\" font-family=\"sans-serif\" font-size=\"12\" lengthAdjust=\"spacingAndGlyphs\" textLength=\"16\" x=\"157\" y=\"240.1074\">A1</text></a></g><g id=\"E1.E5\"><a href=\"psysml:e7f91728-bf49-43a2-b90b-9012c9afe2c4\" target=\"_top\" title=\"psysml:e7f91728-bf49-43a2-b90b-9012c9afe2c4\" xlink:actuate=\"onRequest\" xlink:href=\"psysml:e7f91728-bf49-43a2-b90b-9012c9afe2c4\" xlink:show=\"new\" xlink:title=\"psysml:e7f91728-bf49-43a2-b90b-9012c9afe2c4\" xlink:type=\"simple\"><rect fill=\"#FEFECE\" filter=\"url(#fyusrngfadj7f)\" height=\"42.9375\" id=\"E5\" rx=\"10\" ry=\"10\" style=\"stroke: #A80036; stroke-width: 1.5;\" width=\"60\" x=\"135\" y=\"286\"/><text fill=\"#000000\" font-family=\"sans-serif\" font-size=\"12\" font-style=\"italic\" lengthAdjust=\"spacingAndGlyphs\" textLength=\"53\" x=\"138.5\" y=\"302.1387\">«action»</text><text fill=\"#000000\" font-family=\"sans-serif\" font-size=\"12\" lengthAdjust=\"spacingAndGlyphs\" textLength=\"16\" x=\"157\" y=\"316.1074\">A2</text></a></g><g id=\"E1.E6\"><a href=\"psysml:0d8578a4-a91e-4bc0-9576-e9210611ea53\" target=\"_top\" title=\"psysml:0d8578a4-a91e-4bc0-9576-e9210611ea53\" xlink:actuate=\"onRequest\" xlink:href=\"psysml:0d8578a4-a91e-4bc0-9576-e9210611ea53\" xlink:show=\"new\" xlink:title=\"psysml:0d8578a4-a91e-4bc0-9576-e9210611ea53\" xlink:type=\"simple\"><rect fill=\"#FEFECE\" filter=\"url(#fyusrngfadj7f)\" height=\"42.9375\" id=\"E6\" rx=\"10\" ry=\"10\" style=\"stroke: #A80036; stroke-width: 1.5;\" width=\"60\" x=\"63\" y=\"58\"/><text fill=\"#000000\" font-family=\"sans-serif\" font-size=\"12\" font-style=\"italic\" lengthAdjust=\"spacingAndGlyphs\" textLength=\"53\" x=\"66.5\" y=\"74.1387\">«action»</text><text fill=\"#000000\" font-family=\"sans-serif\" font-size=\"12\" lengthAdjust=\"spacingAndGlyphs\" textLength=\"16\" x=\"85\" y=\"88.1074\">A3</text></a></g><g id=\"E1.E7\"><a href=\"psysml:0d8578a4-a91e-4bc0-9576-e9210611ea53\" target=\"_top\" title=\"psysml:0d8578a4-a91e-4bc0-9576-e9210611ea53\" xlink:actuate=\"onRequest\" xlink:href=\"psysml:0d8578a4-a91e-4bc0-9576-e9210611ea53\" xlink:show=\"new\" xlink:title=\"psysml:0d8578a4-a91e-4bc0-9576-e9210611ea53\" xlink:type=\"simple\"><rect fill=\"#FEFECE\" filter=\"url(#fyusrngfadj7f)\" height=\"42.9375\" id=\"E7\" rx=\"10\" ry=\"10\" style=\"stroke: #A80036; stroke-width: 1.5;\" width=\"60\" x=\"246\" y=\"134\"/><text fill=\"#000000\" font-family=\"sans-serif\" font-size=\"12\" font-style=\"italic\" lengthAdjust=\"spacingAndGlyphs\" textLength=\"53\" x=\"249.5\" y=\"150.1387\">«action»</text><text fill=\"#000000\" font-family=\"sans-serif\" font-size=\"12\" lengthAdjust=\"spacingAndGlyphs\" textLength=\"16\" x=\"268\" y=\"164.1074\">A3</text></a></g><!--MD5=[4d03bb2d0377dc85ccfab60ff574652b]\n",
       "link E2 to E4--><a href=\"psysml:8074e684-9dcd-4869-b14d-8570f637bde9\" target=\"_top\" title=\"psysml:8074e684-9dcd-4869-b14d-8570f637bde9\" xlink:actuate=\"onRequest\" xlink:href=\"psysml:8074e684-9dcd-4869-b14d-8570f637bde9\" xlink:show=\"new\" xlink:title=\"psysml:8074e684-9dcd-4869-b14d-8570f637bde9\" xlink:type=\"simple\"><path d=\"M201.97,84.07 C187.22,91.12 156.19,108.44 144,134 C133.21,156.64 141.61,184.91 150.79,204.99 \" fill=\"none\" id=\"E2-&gt;E4\" style=\"stroke: #A80036; stroke-width: 1.0;\"/><polygon fill=\"#A80036\" points=\"153,209.65,152.7662,199.8039,150.8614,205.1304,145.5349,203.2257,153,209.65\" style=\"stroke: #A80036; stroke-width: 1.0;\"/><text fill=\"#000000\" font-family=\"sans-serif\" font-size=\"13\" lengthAdjust=\"spacingAndGlyphs\" textLength=\"55\" x=\"145\" y=\"160.0669\">[x == 1]</text><text fill=\"#000000\" font-family=\"sans-serif\" font-size=\"13\" lengthAdjust=\"spacingAndGlyphs\" textLength=\"7\" x=\"141.8344\" y=\"198.8553\">*</text></a><!--MD5=[dcad52bbbca2fe8adc741ce38b45dc12]\n",
       "link E2 to E5--><a href=\"psysml:3f3ee8aa-e9f7-416c-965c-8aff211aef79\" target=\"_top\" title=\"psysml:3f3ee8aa-e9f7-416c-965c-8aff211aef79\" xlink:actuate=\"onRequest\" xlink:href=\"psysml:3f3ee8aa-e9f7-416c-965c-8aff211aef79\" xlink:show=\"new\" xlink:title=\"psysml:3f3ee8aa-e9f7-416c-965c-8aff211aef79\" xlink:type=\"simple\"><path d=\"M211.03,90.77 C214.33,123.83 224.51,227.37 226,261 C226.33,268.55 230.06,271.63 226,278 C220.01,287.41 210.02,293.76 199.83,298.03 \" fill=\"none\" id=\"E2-&gt;E5\" style=\"stroke: #A80036; stroke-width: 1.0;\"/><polygon fill=\"#A80036\" points=\"195.15,299.85,204.9881,300.3102,199.8089,298.035,202.0841,292.8559,195.15,299.85\" style=\"stroke: #A80036; stroke-width: 1.0;\"/><text fill=\"#000000\" font-family=\"sans-serif\" font-size=\"13\" lengthAdjust=\"spacingAndGlyphs\" textLength=\"44\" x=\"222\" y=\"198.0669\">[x &gt; 1]</text><text fill=\"#000000\" font-family=\"sans-serif\" font-size=\"13\" lengthAdjust=\"spacingAndGlyphs\" textLength=\"7\" x=\"202.9316\" y=\"293.436\">*</text></a><!--MD5=[e3d2a08a9c9236652057e8ed0cbc9b62]\n",
       "link E2 to E7--><a href=\"psysml:5268f6a4-a59c-47f8-920f-30c5900c34c3\" target=\"_top\" title=\"psysml:5268f6a4-a59c-47f8-920f-30c5900c34c3\" xlink:actuate=\"onRequest\" xlink:href=\"psysml:5268f6a4-a59c-47f8-920f-30c5900c34c3\" xlink:show=\"new\" xlink:title=\"psysml:5268f6a4-a59c-47f8-920f-30c5900c34c3\" xlink:type=\"simple\"><path d=\"M210.68,90.95 C211.82,100.93 214.86,115.89 223,126 C227.84,132.02 234.31,136.94 241.06,140.89 \" fill=\"none\" id=\"E2-&gt;E7\" style=\"stroke: #A80036; stroke-width: 1.0;\"/><polygon fill=\"#A80036\" points=\"245.76,143.47,239.7851,135.6406,241.3738,141.0697,235.9446,142.6585,245.76,143.47\" style=\"stroke: #A80036; stroke-width: 1.0;\"/><text fill=\"#000000\" font-family=\"sans-serif\" font-size=\"13\" lengthAdjust=\"spacingAndGlyphs\" textLength=\"7\" x=\"230.9576\" y=\"136.0432\">*</text></a><!--MD5=[583832df87f4419a098336a29a52fa00]\n",
       "link E7 to E2--><a href=\"psysml:1fcd52fd-d040-4c7e-90de-1e4181f9ba4a\" target=\"_top\" title=\"psysml:1fcd52fd-d040-4c7e-90de-1e4181f9ba4a\" xlink:actuate=\"onRequest\" xlink:href=\"psysml:1fcd52fd-d040-4c7e-90de-1e4181f9ba4a\" xlink:show=\"new\" xlink:title=\"psysml:1fcd52fd-d040-4c7e-90de-1e4181f9ba4a\" xlink:type=\"simple\"><path d=\"M257.61,133.88 C245.02,119.76 228.86,101.65 218.98,90.57 \" fill=\"none\" id=\"E7-&gt;E2\" style=\"stroke: #A80036; stroke-width: 1.0;\"/><polygon fill=\"#A80036\" points=\"215.4,86.56,218.3919,95.9434,218.7227,90.2963,224.3699,90.6271,215.4,86.56\" style=\"stroke: #A80036; stroke-width: 1.0;\"/><text fill=\"#000000\" font-family=\"sans-serif\" font-size=\"13\" lengthAdjust=\"spacingAndGlyphs\" textLength=\"44\" x=\"249\" y=\"122.0669\">[x &gt; 0]</text><text fill=\"#000000\" font-family=\"sans-serif\" font-size=\"13\" lengthAdjust=\"spacingAndGlyphs\" textLength=\"7\" x=\"210.0625\" y=\"111.425\">*</text></a><!--MD5=[2720a5a1f2c3fca2055b230370638851]\n",
       "link E2 to E3--><a href=\"psysml:c0d6c8f2-adfa-4de5-8b53-fd445de20c7a\" target=\"_top\" title=\"psysml:c0d6c8f2-adfa-4de5-8b53-fd445de20c7a\" xlink:actuate=\"onRequest\" xlink:href=\"psysml:c0d6c8f2-adfa-4de5-8b53-fd445de20c7a\" xlink:show=\"new\" xlink:title=\"psysml:c0d6c8f2-adfa-4de5-8b53-fd445de20c7a\" xlink:type=\"simple\"><path d=\"M201.54,83.16 C188.57,87.22 162.96,95.08 141,101 C126.43,104.93 121.91,103.16 108,109 C84.25,118.97 59.36,136.17 45.65,146.32 \" fill=\"none\" id=\"E2-&gt;E3\" style=\"stroke: #A80036; stroke-width: 1.0;\"/><polygon fill=\"#A80036\" points=\"41.45,149.47,51.05,147.27,45.45,146.47,46.25,140.87,41.45,149.47\" style=\"stroke: #A80036; stroke-width: 1.0;\"/><text fill=\"#000000\" font-family=\"sans-serif\" font-size=\"13\" lengthAdjust=\"spacingAndGlyphs\" textLength=\"7\" x=\"51.6488\" y=\"132.7367\">*</text></a><!--MD5=[af87c684e3b0d8be13c1a698a818ef1e]\n",
       "link E3 to E4--><a href=\"psysml:647fb379-8896-403f-81c0-e54862ace948\" target=\"_top\" title=\"psysml:647fb379-8896-403f-81c0-e54862ace948\" xlink:actuate=\"onRequest\" xlink:href=\"psysml:647fb379-8896-403f-81c0-e54862ace948\" xlink:show=\"new\" xlink:title=\"psysml:647fb379-8896-403f-81c0-e54862ace948\" xlink:type=\"simple\"><path d=\"M40.09,162.69 C48.35,172.37 65.62,191.11 84,202 C93.67,207.73 97.38,206.32 108,210 C115.1,212.46 122.69,215.15 129.93,217.74 \" fill=\"none\" id=\"E3-&gt;E4\" style=\"stroke: #A80036; stroke-width: 1.0;\"/><polygon fill=\"#A80036\" points=\"134.87,219.52,127.7488,212.7164,130.1636,217.832,125.048,220.2467,134.87,219.52\" style=\"stroke: #A80036; stroke-width: 1.0;\"/><text fill=\"#000000\" font-family=\"sans-serif\" font-size=\"13\" lengthAdjust=\"spacingAndGlyphs\" textLength=\"36\" x=\"85\" y=\"198.0669\">[true]</text><text fill=\"#000000\" font-family=\"sans-serif\" font-size=\"13\" lengthAdjust=\"spacingAndGlyphs\" textLength=\"7\" x=\"120.0931\" y=\"212.1047\">*</text></a><!--MD5=[0188b64bb0ae78505a997a81836e11e9]\n",
       "link E3 to E5--><a href=\"psysml:1317e145-771b-48e4-a88c-08ae6f2caba6\" target=\"_top\" title=\"psysml:1317e145-771b-48e4-a88c-08ae6f2caba6\" xlink:actuate=\"onRequest\" xlink:href=\"psysml:1317e145-771b-48e4-a88c-08ae6f2caba6\" xlink:show=\"new\" xlink:title=\"psysml:1317e145-771b-48e4-a88c-08ae6f2caba6\" xlink:type=\"simple\"><path d=\"M36.91,165.76 C41.11,184.24 52.71,226.21 76,253 C90.72,269.93 112.16,283.05 130.31,292.05 \" fill=\"none\" id=\"E3-&gt;E5\" style=\"stroke: #A80036; stroke-width: 1.0;\"/><polygon fill=\"#A80036\" points=\"134.85,294.25,128.4921,286.7283,130.3496,292.0714,125.0064,293.9289,134.85,294.25\" style=\"stroke: #A80036; stroke-width: 1.0;\"/><text fill=\"#000000\" font-family=\"sans-serif\" font-size=\"13\" lengthAdjust=\"spacingAndGlyphs\" textLength=\"40\" x=\"77\" y=\"236.0669\">[false]</text><text fill=\"#000000\" font-family=\"sans-serif\" font-size=\"13\" lengthAdjust=\"spacingAndGlyphs\" textLength=\"7\" x=\"120.0684\" y=\"286.541\">*</text></a><!--MD5=[1b7591eae5389033d8d09a9d6721a717]\n",
       "link E4 to E5--><a href=\"psysml:23f0aa3a-74d1-4632-9e57-f97d17e19ec4\" target=\"_top\" title=\"psysml:23f0aa3a-74d1-4632-9e57-f97d17e19ec4\" xlink:actuate=\"onRequest\" xlink:href=\"psysml:23f0aa3a-74d1-4632-9e57-f97d17e19ec4\" xlink:show=\"new\" xlink:title=\"psysml:23f0aa3a-74d1-4632-9e57-f97d17e19ec4\" xlink:type=\"simple\"><path d=\"M165,253.11 C165,261.69 165,271.75 165,280.8 \" fill=\"none\" id=\"E4-&gt;E5\" style=\"stroke: #A80036; stroke-width: 1.0;\"/><polygon fill=\"#A80036\" points=\"165,286,169,277,165,281,161,277,165,286\" style=\"stroke: #A80036; stroke-width: 1.0;\"/><text fill=\"#000000\" font-family=\"sans-serif\" font-size=\"13\" lengthAdjust=\"spacingAndGlyphs\" textLength=\"55\" x=\"166\" y=\"274.0669\">[x == 0]</text><text fill=\"#000000\" font-family=\"sans-serif\" font-size=\"13\" lengthAdjust=\"spacingAndGlyphs\" textLength=\"7\" x=\"157.0156\" y=\"274.9381\">*</text></a><!--MD5=[2f6e0e0cd82954e3c45a7d474304c727]\n",
       "@startuml\r\n",
       "skinparam ranksep 10\r\n",
       "skinparam rectangle {\r\n",
       " backgroundColor<<block>> LightGreen\r\n",
       "}\r\n",
       "skinparam wrapWidth 300\r\n",
       "hide circle\r\n",
       "\r\n",
       "rec def \"DecisionTest\" as E1  <<(T,blue) action  def>> [[psysml:62ac371c-e17a-420d-a580-1aab63005ed6 ]] {\r\n",
       "choice \"test x\" as E2  [[psysml:2e150d19-c5c5-4276-9136-9fe31d212434 ]] \r\n",
       "choice \"<s>noname</s>\" as E3  [[psysml:cc5b619c-f329-4ed7-9a64-7943d6ed9569 ]] \r\n",
       "rec usage \"A1\" as E4  <<(T,blue) action>> [[psysml:bb8ae358-9e9d-46e4-9973-23f4ed00e117 ]] {\r\n",
       "}\r\n",
       "\r\n",
       "rec usage \"A2\" as E5  <<(T,blue) action>> [[psysml:e7f91728-bf49-43a2-b90b-9012c9afe2c4 ]] {\r\n",
       "}\r\n",
       "\r\n",
       "rec usage \"A3\" as E6  <<(T,blue) action>> [[psysml:0d8578a4-a91e-4bc0-9576-e9210611ea53 ]] {\r\n",
       "}\r\n",
       "\r\n",
       "rec usage \"A3\" as E7  <<(T,blue) action>> [[psysml:0d8578a4-a91e-4bc0-9576-e9210611ea53 ]] {\r\n",
       "}\r\n",
       "\r\n",
       "}\r\n",
       "\r\n",
       "E2  - -> \"*\"E4 [[psysml:8074e684-9dcd-4869-b14d-8570f637bde9 ]] : [x == 1]\r\n",
       "E2  - -> \"*\"E5 [[psysml:3f3ee8aa-e9f7-416c-965c-8aff211aef79 ]] : [x > 1]\r\n",
       "E2  - -> \"*\"E7 [[psysml:5268f6a4-a59c-47f8-920f-30c5900c34c3 ]] \r\n",
       "E2 - -> \"*\"E3 [[psysml:c0d6c8f2-adfa-4de5-8b53-fd445de20c7a ]] \r\n",
       "E3  - -> \"*\"E4 [[psysml:647fb379-8896-403f-81c0-e54862ace948 ]] : [true]\r\n",
       "E3  - -> \"*\"E5 [[psysml:1317e145-771b-48e4-a88c-08ae6f2caba6 ]] : [false]\r\n",
       "E4  - -> \"*\"E5 [[psysml:23f0aa3a-74d1-4632-9e57-f97d17e19ec4 ]] : [x == 0]\r\n",
       "E7  - -> \"*\"E2 [[psysml:1fcd52fd-d040-4c7e-90de-1e4181f9ba4a ]] : [x > 0]\r\n",
       "@enduml\r\n",
       "\n",
       "PlantUML version 1.2020.13(Sat Jun 13 12:26:38 UTC 2020)\n",
       "(EPL source distribution)\n",
       "Java Runtime: OpenJDK Runtime Environment\n",
       "JVM: OpenJDK 64-Bit Server VM\n",
       "Default Encoding: UTF-8\n",
       "Language: en\n",
       "Country: null\n",
       "--></g></svg>"
      ]
     },
     "execution_count": 26,
     "metadata": {},
     "output_type": "execute_result"
    }
   ],
   "source": [
    "%viz --style=\"STDCOLOR\" --view=\"Interconnection\" \"DecisionTest\""
   ]
  },
  {
   "cell_type": "code",
   "execution_count": 27,
   "id": "ba96c5c1",
   "metadata": {
    "execution": {
     "iopub.execute_input": "2022-03-21T07:51:01.007588Z",
     "iopub.status.busy": "2022-03-21T07:51:01.007183Z",
     "iopub.status.idle": "2022-03-21T07:51:01.043718Z",
     "shell.execute_reply": "2022-03-21T07:51:01.042316Z"
    }
   },
   "outputs": [
    {
     "data": {
      "image/svg+xml": [
       "<?xml version=\"1.0\" encoding=\"UTF-8\" standalone=\"no\"?><svg xmlns=\"http://www.w3.org/2000/svg\" xmlns:xlink=\"http://www.w3.org/1999/xlink\" contentScriptType=\"application/ecmascript\" contentStyleType=\"text/css\" height=\"364px\" preserveAspectRatio=\"none\" style=\"width:341px;height:364px;\" version=\"1.1\" viewBox=\"0 0 341 364\" width=\"341px\" zoomAndPan=\"magnify\"><defs><filter height=\"300%\" id=\"f17gtijlwns6w1\" width=\"300%\" x=\"-1\" y=\"-1\"><feGaussianBlur result=\"blurOut\" stdDeviation=\"2.0\"/><feColorMatrix in=\"blurOut\" result=\"blurOut2\" type=\"matrix\" values=\"0 0 0 0 0 0 0 0 0 0 0 0 0 0 0 0 0 0 .4 0\"/><feOffset dx=\"4.0\" dy=\"4.0\" in=\"blurOut2\" result=\"blurOut3\"/><feBlend in=\"SourceGraphic\" in2=\"blurOut3\" mode=\"normal\"/></filter></defs><g><!--MD5=[fbc87193dbaf4d95561dea2c320d4a47]\n",
       "cluster E1--><a href=\"psysml:62ac371c-e17a-420d-a580-1aab63005ed6\" target=\"_top\" title=\"psysml:62ac371c-e17a-420d-a580-1aab63005ed6\" xlink:actuate=\"onRequest\" xlink:href=\"psysml:62ac371c-e17a-420d-a580-1aab63005ed6\" xlink:show=\"new\" xlink:title=\"psysml:62ac371c-e17a-420d-a580-1aab63005ed6\" xlink:type=\"simple\"><rect fill=\"#FFFFFF\" filter=\"url(#f17gtijlwns6w1)\" height=\"338\" id=\"E1\" style=\"stroke: #A80036; stroke-width: 1.5;\" width=\"315\" x=\"7\" y=\"7\"/><rect fill=\"#FEFECE\" height=\"37.9375\" style=\"stroke: #A80036; stroke-width: 1.5;\" width=\"315\" x=\"7\" y=\"7\"/><text fill=\"#000000\" font-family=\"sans-serif\" font-size=\"12\" font-style=\"italic\" lengthAdjust=\"spacingAndGlyphs\" textLength=\"81\" x=\"124\" y=\"23.1387\">«action  def»</text><text fill=\"#000000\" font-family=\"sans-serif\" font-size=\"12\" lengthAdjust=\"spacingAndGlyphs\" textLength=\"80\" x=\"124.5\" y=\"37.1074\">DecisionTest</text></a><polygon fill=\"#FEFECE\" filter=\"url(#f17gtijlwns6w1)\" points=\"210,67.5,222,79.5,210,91.5,198,79.5,210,67.5\" style=\"stroke: #A80036; stroke-width: 1.5;\"/><polygon fill=\"#FEFECE\" filter=\"url(#f17gtijlwns6w1)\" points=\"35,143.5,47,155.5,35,167.5,23,155.5,35,143.5\" style=\"stroke: #A80036; stroke-width: 1.5;\"/><g id=\"E1.E4\"><a href=\"psysml:bb8ae358-9e9d-46e4-9973-23f4ed00e117\" target=\"_top\" title=\"psysml:bb8ae358-9e9d-46e4-9973-23f4ed00e117\" xlink:actuate=\"onRequest\" xlink:href=\"psysml:bb8ae358-9e9d-46e4-9973-23f4ed00e117\" xlink:show=\"new\" xlink:title=\"psysml:bb8ae358-9e9d-46e4-9973-23f4ed00e117\" xlink:type=\"simple\"><rect fill=\"#FEFECE\" filter=\"url(#f17gtijlwns6w1)\" height=\"42.9375\" id=\"E4\" rx=\"10\" ry=\"10\" style=\"stroke: #A80036; stroke-width: 1.5;\" width=\"60\" x=\"135\" y=\"210\"/><text fill=\"#000000\" font-family=\"sans-serif\" font-size=\"12\" font-style=\"italic\" lengthAdjust=\"spacingAndGlyphs\" textLength=\"53\" x=\"138.5\" y=\"226.1387\">«action»</text><text fill=\"#000000\" font-family=\"sans-serif\" font-size=\"12\" lengthAdjust=\"spacingAndGlyphs\" textLength=\"16\" x=\"157\" y=\"240.1074\">A1</text></a></g><g id=\"E1.E5\"><a href=\"psysml:e7f91728-bf49-43a2-b90b-9012c9afe2c4\" target=\"_top\" title=\"psysml:e7f91728-bf49-43a2-b90b-9012c9afe2c4\" xlink:actuate=\"onRequest\" xlink:href=\"psysml:e7f91728-bf49-43a2-b90b-9012c9afe2c4\" xlink:show=\"new\" xlink:title=\"psysml:e7f91728-bf49-43a2-b90b-9012c9afe2c4\" xlink:type=\"simple\"><rect fill=\"#FEFECE\" filter=\"url(#f17gtijlwns6w1)\" height=\"42.9375\" id=\"E5\" rx=\"10\" ry=\"10\" style=\"stroke: #A80036; stroke-width: 1.5;\" width=\"60\" x=\"135\" y=\"286\"/><text fill=\"#000000\" font-family=\"sans-serif\" font-size=\"12\" font-style=\"italic\" lengthAdjust=\"spacingAndGlyphs\" textLength=\"53\" x=\"138.5\" y=\"302.1387\">«action»</text><text fill=\"#000000\" font-family=\"sans-serif\" font-size=\"12\" lengthAdjust=\"spacingAndGlyphs\" textLength=\"16\" x=\"157\" y=\"316.1074\">A2</text></a></g><g id=\"E1.E6\"><a href=\"psysml:0d8578a4-a91e-4bc0-9576-e9210611ea53\" target=\"_top\" title=\"psysml:0d8578a4-a91e-4bc0-9576-e9210611ea53\" xlink:actuate=\"onRequest\" xlink:href=\"psysml:0d8578a4-a91e-4bc0-9576-e9210611ea53\" xlink:show=\"new\" xlink:title=\"psysml:0d8578a4-a91e-4bc0-9576-e9210611ea53\" xlink:type=\"simple\"><rect fill=\"#FEFECE\" filter=\"url(#f17gtijlwns6w1)\" height=\"42.9375\" id=\"E6\" rx=\"10\" ry=\"10\" style=\"stroke: #A80036; stroke-width: 1.5;\" width=\"60\" x=\"63\" y=\"58\"/><text fill=\"#000000\" font-family=\"sans-serif\" font-size=\"12\" font-style=\"italic\" lengthAdjust=\"spacingAndGlyphs\" textLength=\"53\" x=\"66.5\" y=\"74.1387\">«action»</text><text fill=\"#000000\" font-family=\"sans-serif\" font-size=\"12\" lengthAdjust=\"spacingAndGlyphs\" textLength=\"16\" x=\"85\" y=\"88.1074\">A3</text></a></g><g id=\"E1.E7\"><a href=\"psysml:0d8578a4-a91e-4bc0-9576-e9210611ea53\" target=\"_top\" title=\"psysml:0d8578a4-a91e-4bc0-9576-e9210611ea53\" xlink:actuate=\"onRequest\" xlink:href=\"psysml:0d8578a4-a91e-4bc0-9576-e9210611ea53\" xlink:show=\"new\" xlink:title=\"psysml:0d8578a4-a91e-4bc0-9576-e9210611ea53\" xlink:type=\"simple\"><rect fill=\"#FEFECE\" filter=\"url(#f17gtijlwns6w1)\" height=\"42.9375\" id=\"E7\" rx=\"10\" ry=\"10\" style=\"stroke: #A80036; stroke-width: 1.5;\" width=\"60\" x=\"246\" y=\"134\"/><text fill=\"#000000\" font-family=\"sans-serif\" font-size=\"12\" font-style=\"italic\" lengthAdjust=\"spacingAndGlyphs\" textLength=\"53\" x=\"249.5\" y=\"150.1387\">«action»</text><text fill=\"#000000\" font-family=\"sans-serif\" font-size=\"12\" lengthAdjust=\"spacingAndGlyphs\" textLength=\"16\" x=\"268\" y=\"164.1074\">A3</text></a></g><!--MD5=[4d03bb2d0377dc85ccfab60ff574652b]\n",
       "link E2 to E4--><a href=\"psysml:8074e684-9dcd-4869-b14d-8570f637bde9\" target=\"_top\" title=\"psysml:8074e684-9dcd-4869-b14d-8570f637bde9\" xlink:actuate=\"onRequest\" xlink:href=\"psysml:8074e684-9dcd-4869-b14d-8570f637bde9\" xlink:show=\"new\" xlink:title=\"psysml:8074e684-9dcd-4869-b14d-8570f637bde9\" xlink:type=\"simple\"><path d=\"M201.97,84.07 C187.22,91.12 156.19,108.44 144,134 C133.21,156.64 141.61,184.91 150.79,204.99 \" fill=\"none\" id=\"E2-&gt;E4\" style=\"stroke: #A80036; stroke-width: 1.0; stroke-dasharray: 7.0,7.0;\"/><polygon fill=\"#A80036\" points=\"153,209.65,152.7662,199.8039,150.8614,205.1304,145.5349,203.2257,153,209.65\" style=\"stroke: #A80036; stroke-width: 1.0;\"/><text fill=\"#000000\" font-family=\"sans-serif\" font-size=\"13\" lengthAdjust=\"spacingAndGlyphs\" textLength=\"55\" x=\"145\" y=\"160.0669\">[x == 1]</text></a><!--MD5=[dcad52bbbca2fe8adc741ce38b45dc12]\n",
       "link E2 to E5--><a href=\"psysml:3f3ee8aa-e9f7-416c-965c-8aff211aef79\" target=\"_top\" title=\"psysml:3f3ee8aa-e9f7-416c-965c-8aff211aef79\" xlink:actuate=\"onRequest\" xlink:href=\"psysml:3f3ee8aa-e9f7-416c-965c-8aff211aef79\" xlink:show=\"new\" xlink:title=\"psysml:3f3ee8aa-e9f7-416c-965c-8aff211aef79\" xlink:type=\"simple\"><path d=\"M211.03,90.77 C214.33,123.83 224.51,227.37 226,261 C226.33,268.55 230.06,271.63 226,278 C220.01,287.41 210.02,293.76 199.83,298.03 \" fill=\"none\" id=\"E2-&gt;E5\" style=\"stroke: #A80036; stroke-width: 1.0; stroke-dasharray: 7.0,7.0;\"/><polygon fill=\"#A80036\" points=\"195.15,299.85,204.9881,300.3102,199.8089,298.035,202.0841,292.8559,195.15,299.85\" style=\"stroke: #A80036; stroke-width: 1.0;\"/><text fill=\"#000000\" font-family=\"sans-serif\" font-size=\"13\" lengthAdjust=\"spacingAndGlyphs\" textLength=\"44\" x=\"222\" y=\"198.0669\">[x &gt; 1]</text></a><!--MD5=[e3d2a08a9c9236652057e8ed0cbc9b62]\n",
       "link E2 to E7--><a href=\"psysml:5268f6a4-a59c-47f8-920f-30c5900c34c3\" target=\"_top\" title=\"psysml:5268f6a4-a59c-47f8-920f-30c5900c34c3\" xlink:actuate=\"onRequest\" xlink:href=\"psysml:5268f6a4-a59c-47f8-920f-30c5900c34c3\" xlink:show=\"new\" xlink:title=\"psysml:5268f6a4-a59c-47f8-920f-30c5900c34c3\" xlink:type=\"simple\"><path d=\"M210.68,90.95 C211.82,100.93 214.86,115.89 223,126 C227.84,132.02 234.31,136.94 241.06,140.89 \" fill=\"none\" id=\"E2-&gt;E7\" style=\"stroke: #A80036; stroke-width: 1.0; stroke-dasharray: 7.0,7.0;\"/><polygon fill=\"#A80036\" points=\"245.76,143.47,239.7851,135.6406,241.3738,141.0697,235.9446,142.6585,245.76,143.47\" style=\"stroke: #A80036; stroke-width: 1.0;\"/></a><!--MD5=[583832df87f4419a098336a29a52fa00]\n",
       "link E7 to E2--><a href=\"psysml:1fcd52fd-d040-4c7e-90de-1e4181f9ba4a\" target=\"_top\" title=\"psysml:1fcd52fd-d040-4c7e-90de-1e4181f9ba4a\" xlink:actuate=\"onRequest\" xlink:href=\"psysml:1fcd52fd-d040-4c7e-90de-1e4181f9ba4a\" xlink:show=\"new\" xlink:title=\"psysml:1fcd52fd-d040-4c7e-90de-1e4181f9ba4a\" xlink:type=\"simple\"><path d=\"M257.61,133.88 C245.02,119.76 228.86,101.65 218.98,90.57 \" fill=\"none\" id=\"E7-&gt;E2\" style=\"stroke: #A80036; stroke-width: 1.0; stroke-dasharray: 7.0,7.0;\"/><polygon fill=\"#A80036\" points=\"215.4,86.56,218.3919,95.9434,218.7227,90.2963,224.3699,90.6271,215.4,86.56\" style=\"stroke: #A80036; stroke-width: 1.0;\"/><text fill=\"#000000\" font-family=\"sans-serif\" font-size=\"13\" lengthAdjust=\"spacingAndGlyphs\" textLength=\"44\" x=\"249\" y=\"122.0669\">[x &gt; 0]</text></a><!--MD5=[2720a5a1f2c3fca2055b230370638851]\n",
       "link E2 to E3--><a href=\"psysml:c0d6c8f2-adfa-4de5-8b53-fd445de20c7a\" target=\"_top\" title=\"psysml:c0d6c8f2-adfa-4de5-8b53-fd445de20c7a\" xlink:actuate=\"onRequest\" xlink:href=\"psysml:c0d6c8f2-adfa-4de5-8b53-fd445de20c7a\" xlink:show=\"new\" xlink:title=\"psysml:c0d6c8f2-adfa-4de5-8b53-fd445de20c7a\" xlink:type=\"simple\"><path d=\"M201.54,83.16 C188.57,87.22 162.96,95.08 141,101 C126.43,104.93 121.91,103.16 108,109 C84.25,118.97 59.36,136.17 45.65,146.32 \" fill=\"none\" id=\"E2-&gt;E3\" style=\"stroke: #A80036; stroke-width: 1.0; stroke-dasharray: 7.0,7.0;\"/><polygon fill=\"#A80036\" points=\"41.45,149.47,51.05,147.27,45.45,146.47,46.25,140.87,41.45,149.47\" style=\"stroke: #A80036; stroke-width: 1.0;\"/></a><!--MD5=[af87c684e3b0d8be13c1a698a818ef1e]\n",
       "link E3 to E4--><a href=\"psysml:647fb379-8896-403f-81c0-e54862ace948\" target=\"_top\" title=\"psysml:647fb379-8896-403f-81c0-e54862ace948\" xlink:actuate=\"onRequest\" xlink:href=\"psysml:647fb379-8896-403f-81c0-e54862ace948\" xlink:show=\"new\" xlink:title=\"psysml:647fb379-8896-403f-81c0-e54862ace948\" xlink:type=\"simple\"><path d=\"M40.09,162.69 C48.35,172.37 65.62,191.11 84,202 C93.67,207.73 97.38,206.32 108,210 C115.1,212.46 122.69,215.15 129.93,217.74 \" fill=\"none\" id=\"E3-&gt;E4\" style=\"stroke: #A80036; stroke-width: 1.0; stroke-dasharray: 7.0,7.0;\"/><polygon fill=\"#A80036\" points=\"134.87,219.52,127.7488,212.7164,130.1636,217.832,125.048,220.2467,134.87,219.52\" style=\"stroke: #A80036; stroke-width: 1.0;\"/><text fill=\"#000000\" font-family=\"sans-serif\" font-size=\"13\" lengthAdjust=\"spacingAndGlyphs\" textLength=\"36\" x=\"85\" y=\"198.0669\">[true]</text></a><!--MD5=[0188b64bb0ae78505a997a81836e11e9]\n",
       "link E3 to E5--><a href=\"psysml:1317e145-771b-48e4-a88c-08ae6f2caba6\" target=\"_top\" title=\"psysml:1317e145-771b-48e4-a88c-08ae6f2caba6\" xlink:actuate=\"onRequest\" xlink:href=\"psysml:1317e145-771b-48e4-a88c-08ae6f2caba6\" xlink:show=\"new\" xlink:title=\"psysml:1317e145-771b-48e4-a88c-08ae6f2caba6\" xlink:type=\"simple\"><path d=\"M36.91,165.76 C41.11,184.24 52.71,226.21 76,253 C90.72,269.93 112.16,283.05 130.31,292.05 \" fill=\"none\" id=\"E3-&gt;E5\" style=\"stroke: #A80036; stroke-width: 1.0; stroke-dasharray: 7.0,7.0;\"/><polygon fill=\"#A80036\" points=\"134.85,294.25,128.4921,286.7283,130.3496,292.0714,125.0064,293.9289,134.85,294.25\" style=\"stroke: #A80036; stroke-width: 1.0;\"/><text fill=\"#000000\" font-family=\"sans-serif\" font-size=\"13\" lengthAdjust=\"spacingAndGlyphs\" textLength=\"40\" x=\"77\" y=\"236.0669\">[false]</text></a><!--MD5=[1b7591eae5389033d8d09a9d6721a717]\n",
       "link E4 to E5--><a href=\"psysml:23f0aa3a-74d1-4632-9e57-f97d17e19ec4\" target=\"_top\" title=\"psysml:23f0aa3a-74d1-4632-9e57-f97d17e19ec4\" xlink:actuate=\"onRequest\" xlink:href=\"psysml:23f0aa3a-74d1-4632-9e57-f97d17e19ec4\" xlink:show=\"new\" xlink:title=\"psysml:23f0aa3a-74d1-4632-9e57-f97d17e19ec4\" xlink:type=\"simple\"><path d=\"M165,253.11 C165,261.69 165,271.75 165,280.8 \" fill=\"none\" id=\"E4-&gt;E5\" style=\"stroke: #A80036; stroke-width: 1.0; stroke-dasharray: 7.0,7.0;\"/><polygon fill=\"#A80036\" points=\"165,286,169,277,165,281,161,277,165,286\" style=\"stroke: #A80036; stroke-width: 1.0;\"/><text fill=\"#000000\" font-family=\"sans-serif\" font-size=\"13\" lengthAdjust=\"spacingAndGlyphs\" textLength=\"55\" x=\"166\" y=\"274.0669\">[x == 0]</text></a><!--MD5=[bfbb4a9a0a868de602ca9ddfdf3c9787]\n",
       "@startuml\r\n",
       "skinparam ranksep 8\r\n",
       "skinparam wrapWidth 300\r\n",
       "hide circle\r\n",
       "\r\n",
       "rec def \"DecisionTest\" as E1  <<(T,blue) action  def>> [[psysml:62ac371c-e17a-420d-a580-1aab63005ed6 ]] {\r\n",
       "choice \"test x\" as E2  [[psysml:2e150d19-c5c5-4276-9136-9fe31d212434 ]] \r\n",
       "choice \"<s>noname</s>\" as E3  [[psysml:cc5b619c-f329-4ed7-9a64-7943d6ed9569 ]] \r\n",
       "rec usage \"A1\" as E4  <<(T,blue) action>> [[psysml:bb8ae358-9e9d-46e4-9973-23f4ed00e117 ]] {\r\n",
       "}\r\n",
       "\r\n",
       "rec usage \"A2\" as E5  <<(T,blue) action>> [[psysml:e7f91728-bf49-43a2-b90b-9012c9afe2c4 ]] {\r\n",
       "}\r\n",
       "\r\n",
       "rec usage \"A3\" as E6  <<(T,blue) action>> [[psysml:0d8578a4-a91e-4bc0-9576-e9210611ea53 ]] {\r\n",
       "}\r\n",
       "\r\n",
       "rec usage \"A3\" as E7  <<(T,blue) action>> [[psysml:0d8578a4-a91e-4bc0-9576-e9210611ea53 ]] {\r\n",
       "}\r\n",
       "\r\n",
       "}\r\n",
       "\r\n",
       "E2 ..> E4 [[psysml:8074e684-9dcd-4869-b14d-8570f637bde9 ]] : [x == 1]\r\n",
       "E2 ..> E5 [[psysml:3f3ee8aa-e9f7-416c-965c-8aff211aef79 ]] : [x > 1]\r\n",
       "E2 ..> E7 [[psysml:5268f6a4-a59c-47f8-920f-30c5900c34c3 ]] \r\n",
       "E2 ..> E3 [[psysml:c0d6c8f2-adfa-4de5-8b53-fd445de20c7a ]] \r\n",
       "E3 ..> E4 [[psysml:647fb379-8896-403f-81c0-e54862ace948 ]] : [true]\r\n",
       "E3 ..> E5 [[psysml:1317e145-771b-48e4-a88c-08ae6f2caba6 ]] : [false]\r\n",
       "E4 ..> E5 [[psysml:23f0aa3a-74d1-4632-9e57-f97d17e19ec4 ]] : [x == 0]\r\n",
       "E7 ..> E2 [[psysml:1fcd52fd-d040-4c7e-90de-1e4181f9ba4a ]] : [x > 0]\r\n",
       "@enduml\r\n",
       "\n",
       "PlantUML version 1.2020.13(Sat Jun 13 12:26:38 UTC 2020)\n",
       "(EPL source distribution)\n",
       "Java Runtime: OpenJDK Runtime Environment\n",
       "JVM: OpenJDK 64-Bit Server VM\n",
       "Default Encoding: UTF-8\n",
       "Language: en\n",
       "Country: null\n",
       "--></g></svg>"
      ]
     },
     "execution_count": 27,
     "metadata": {},
     "output_type": "execute_result"
    }
   ],
   "source": [
    "%viz --style=\"STDCOLOR\" --view=\"Action\" \"DecisionTest\""
   ]
  },
  {
   "cell_type": "code",
   "execution_count": 28,
   "id": "d0271328",
   "metadata": {
    "execution": {
     "iopub.execute_input": "2022-03-21T07:51:01.093132Z",
     "iopub.status.busy": "2022-03-21T07:51:01.092732Z",
     "iopub.status.idle": "2022-03-21T07:51:01.098564Z",
     "shell.execute_reply": "2022-03-21T07:51:01.098879Z"
    }
   },
   "outputs": [
    {
     "data": {
      "image/svg+xml": [
       "<?xml version=\"1.0\" encoding=\"UTF-8\" standalone=\"no\"?><svg xmlns=\"http://www.w3.org/2000/svg\" xmlns:xlink=\"http://www.w3.org/1999/xlink\" contentScriptType=\"application/ecmascript\" contentStyleType=\"text/css\" height=\"12px\" preserveAspectRatio=\"none\" style=\"width:12px;height:12px;\" version=\"1.1\" viewBox=\"0 0 12 12\" width=\"12px\" zoomAndPan=\"magnify\"><defs/><g><!--MD5=[6c4bca67b4d71758159a5a7f1f1e1fc2]\n",
       "@startuml\r\n",
       "skinparam roundcorner 20\r\n",
       "skinparam BoxPadding 20\r\n",
       "skinparam SequenceBoxBackgroundColor #white\r\n",
       "skinparam style strictuml\r\n",
       "skinparam maxMessageSize 100\r\n",
       "skinparam wrapWidth 300\r\n",
       "hide circle\r\n",
       "\r\n",
       "@enduml\r\n",
       "\n",
       "PlantUML version 1.2020.13(Sat Jun 13 12:26:38 UTC 2020)\n",
       "(EPL source distribution)\n",
       "Java Runtime: OpenJDK Runtime Environment\n",
       "JVM: OpenJDK 64-Bit Server VM\n",
       "Default Encoding: UTF-8\n",
       "Language: en\n",
       "Country: null\n",
       "--></g></svg>"
      ]
     },
     "execution_count": 28,
     "metadata": {},
     "output_type": "execute_result"
    }
   ],
   "source": [
    "%viz --style=\"STDCOLOR\" --view=\"Sequence\" \"DecisionTest\""
   ]
  },
  {
   "cell_type": "code",
   "execution_count": 29,
   "id": "ac38cd5b",
   "metadata": {
    "execution": {
     "iopub.execute_input": "2022-03-21T07:51:01.148955Z",
     "iopub.status.busy": "2022-03-21T07:51:01.148557Z",
     "iopub.status.idle": "2022-03-21T07:51:01.186332Z",
     "shell.execute_reply": "2022-03-21T07:51:01.185968Z"
    }
   },
   "outputs": [
    {
     "data": {
      "image/svg+xml": [
       "<?xml version=\"1.0\" encoding=\"UTF-8\" standalone=\"no\"?><svg xmlns=\"http://www.w3.org/2000/svg\" xmlns:xlink=\"http://www.w3.org/1999/xlink\" contentScriptType=\"application/ecmascript\" contentStyleType=\"text/css\" height=\"496px\" preserveAspectRatio=\"none\" style=\"width:341px;height:496px;\" version=\"1.1\" viewBox=\"0 0 341 496\" width=\"341px\" zoomAndPan=\"magnify\"><defs><filter height=\"300%\" id=\"f16tq6riq269sq\" width=\"300%\" x=\"-1\" y=\"-1\"><feGaussianBlur result=\"blurOut\" stdDeviation=\"2.0\"/><feColorMatrix in=\"blurOut\" result=\"blurOut2\" type=\"matrix\" values=\"0 0 0 0 0 0 0 0 0 0 0 0 0 0 0 0 0 0 .4 0\"/><feOffset dx=\"4.0\" dy=\"4.0\" in=\"blurOut2\" result=\"blurOut3\"/><feBlend in=\"SourceGraphic\" in2=\"blurOut3\" mode=\"normal\"/></filter></defs><g><!--MD5=[fbc87193dbaf4d95561dea2c320d4a47]\n",
       "cluster E1--><a href=\"psysml:62ac371c-e17a-420d-a580-1aab63005ed6\" target=\"_top\" title=\"psysml:62ac371c-e17a-420d-a580-1aab63005ed6\" xlink:actuate=\"onRequest\" xlink:href=\"psysml:62ac371c-e17a-420d-a580-1aab63005ed6\" xlink:show=\"new\" xlink:title=\"psysml:62ac371c-e17a-420d-a580-1aab63005ed6\" xlink:type=\"simple\"><rect fill=\"#FFFFFF\" filter=\"url(#f16tq6riq269sq)\" height=\"470\" id=\"E1\" style=\"stroke: #A80036; stroke-width: 1.5;\" width=\"315\" x=\"7\" y=\"7\"/><rect fill=\"#FEFECE\" height=\"37.9375\" style=\"stroke: #A80036; stroke-width: 1.5;\" width=\"315\" x=\"7\" y=\"7\"/><text fill=\"#000000\" font-family=\"sans-serif\" font-size=\"12\" font-style=\"italic\" lengthAdjust=\"spacingAndGlyphs\" textLength=\"81\" x=\"124\" y=\"23.1387\">«action  def»</text><text fill=\"#000000\" font-family=\"sans-serif\" font-size=\"12\" lengthAdjust=\"spacingAndGlyphs\" textLength=\"80\" x=\"124.5\" y=\"37.1074\">DecisionTest</text></a><polygon fill=\"#FEFECE\" filter=\"url(#f16tq6riq269sq)\" points=\"210,67.5,222,79.5,210,91.5,198,79.5,210,67.5\" style=\"stroke: #A80036; stroke-width: 1.5;\"/><polygon fill=\"#FEFECE\" filter=\"url(#f16tq6riq269sq)\" points=\"35,187.5,47,199.5,35,211.5,23,199.5,35,187.5\" style=\"stroke: #A80036; stroke-width: 1.5;\"/><g id=\"E1.E4\"><a href=\"psysml:bb8ae358-9e9d-46e4-9973-23f4ed00e117\" target=\"_top\" title=\"psysml:bb8ae358-9e9d-46e4-9973-23f4ed00e117\" xlink:actuate=\"onRequest\" xlink:href=\"psysml:bb8ae358-9e9d-46e4-9973-23f4ed00e117\" xlink:show=\"new\" xlink:title=\"psysml:bb8ae358-9e9d-46e4-9973-23f4ed00e117\" xlink:type=\"simple\"><rect fill=\"#FEFECE\" filter=\"url(#f16tq6riq269sq)\" height=\"42.9375\" id=\"E4\" rx=\"10\" ry=\"10\" style=\"stroke: #A80036; stroke-width: 1.5;\" width=\"60\" x=\"135\" y=\"298\"/><text fill=\"#000000\" font-family=\"sans-serif\" font-size=\"12\" font-style=\"italic\" lengthAdjust=\"spacingAndGlyphs\" textLength=\"53\" x=\"138.5\" y=\"314.1387\">«action»</text><text fill=\"#000000\" font-family=\"sans-serif\" font-size=\"12\" lengthAdjust=\"spacingAndGlyphs\" textLength=\"16\" x=\"157\" y=\"328.1074\">A1</text></a></g><g id=\"E1.E5\"><a href=\"psysml:e7f91728-bf49-43a2-b90b-9012c9afe2c4\" target=\"_top\" title=\"psysml:e7f91728-bf49-43a2-b90b-9012c9afe2c4\" xlink:actuate=\"onRequest\" xlink:href=\"psysml:e7f91728-bf49-43a2-b90b-9012c9afe2c4\" xlink:show=\"new\" xlink:title=\"psysml:e7f91728-bf49-43a2-b90b-9012c9afe2c4\" xlink:type=\"simple\"><rect fill=\"#FEFECE\" filter=\"url(#f16tq6riq269sq)\" height=\"42.9375\" id=\"E5\" rx=\"10\" ry=\"10\" style=\"stroke: #A80036; stroke-width: 1.5;\" width=\"60\" x=\"135\" y=\"418\"/><text fill=\"#000000\" font-family=\"sans-serif\" font-size=\"12\" font-style=\"italic\" lengthAdjust=\"spacingAndGlyphs\" textLength=\"53\" x=\"138.5\" y=\"434.1387\">«action»</text><text fill=\"#000000\" font-family=\"sans-serif\" font-size=\"12\" lengthAdjust=\"spacingAndGlyphs\" textLength=\"16\" x=\"157\" y=\"448.1074\">A2</text></a></g><g id=\"E1.E6\"><a href=\"psysml:0d8578a4-a91e-4bc0-9576-e9210611ea53\" target=\"_top\" title=\"psysml:0d8578a4-a91e-4bc0-9576-e9210611ea53\" xlink:actuate=\"onRequest\" xlink:href=\"psysml:0d8578a4-a91e-4bc0-9576-e9210611ea53\" xlink:show=\"new\" xlink:title=\"psysml:0d8578a4-a91e-4bc0-9576-e9210611ea53\" xlink:type=\"simple\"><rect fill=\"#FEFECE\" filter=\"url(#f16tq6riq269sq)\" height=\"42.9375\" id=\"E6\" rx=\"10\" ry=\"10\" style=\"stroke: #A80036; stroke-width: 1.5;\" width=\"60\" x=\"63\" y=\"58\"/><text fill=\"#000000\" font-family=\"sans-serif\" font-size=\"12\" font-style=\"italic\" lengthAdjust=\"spacingAndGlyphs\" textLength=\"53\" x=\"66.5\" y=\"74.1387\">«action»</text><text fill=\"#000000\" font-family=\"sans-serif\" font-size=\"12\" lengthAdjust=\"spacingAndGlyphs\" textLength=\"16\" x=\"85\" y=\"88.1074\">A3</text></a></g><g id=\"E1.E7\"><a href=\"psysml:0d8578a4-a91e-4bc0-9576-e9210611ea53\" target=\"_top\" title=\"psysml:0d8578a4-a91e-4bc0-9576-e9210611ea53\" xlink:actuate=\"onRequest\" xlink:href=\"psysml:0d8578a4-a91e-4bc0-9576-e9210611ea53\" xlink:show=\"new\" xlink:title=\"psysml:0d8578a4-a91e-4bc0-9576-e9210611ea53\" xlink:type=\"simple\"><rect fill=\"#FEFECE\" filter=\"url(#f16tq6riq269sq)\" height=\"42.9375\" id=\"E7\" rx=\"10\" ry=\"10\" style=\"stroke: #A80036; stroke-width: 1.5;\" width=\"60\" x=\"246\" y=\"178\"/><text fill=\"#000000\" font-family=\"sans-serif\" font-size=\"12\" font-style=\"italic\" lengthAdjust=\"spacingAndGlyphs\" textLength=\"53\" x=\"249.5\" y=\"194.1387\">«action»</text><text fill=\"#000000\" font-family=\"sans-serif\" font-size=\"12\" lengthAdjust=\"spacingAndGlyphs\" textLength=\"16\" x=\"268\" y=\"208.1074\">A3</text></a></g><!--MD5=[4d03bb2d0377dc85ccfab60ff574652b]\n",
       "link E2 to E4--><a href=\"psysml:8074e684-9dcd-4869-b14d-8570f637bde9\" target=\"_top\" title=\"psysml:8074e684-9dcd-4869-b14d-8570f637bde9\" xlink:actuate=\"onRequest\" xlink:href=\"psysml:8074e684-9dcd-4869-b14d-8570f637bde9\" xlink:show=\"new\" xlink:title=\"psysml:8074e684-9dcd-4869-b14d-8570f637bde9\" xlink:type=\"simple\"><path d=\"M204.45,86 C190.88,99.89 156.22,138.13 144,178 C132.04,217.01 144.31,264.27 154.48,292.83 \" fill=\"none\" id=\"E2-&gt;E4\" style=\"stroke: #A80036; stroke-width: 1.0;\"/><polygon fill=\"#A80036\" points=\"156.22,297.6,156.8939,287.7742,154.5067,292.9027,149.3782,290.5155,156.22,297.6\" style=\"stroke: #A80036; stroke-width: 1.0;\"/><text fill=\"#000000\" font-family=\"sans-serif\" font-size=\"13\" lengthAdjust=\"spacingAndGlyphs\" textLength=\"55\" x=\"145\" y=\"204.0669\">[x == 1]</text><text fill=\"#000000\" font-family=\"sans-serif\" font-size=\"13\" lengthAdjust=\"spacingAndGlyphs\" textLength=\"7\" x=\"145.9198\" y=\"286.7919\">*</text></a><!--MD5=[dcad52bbbca2fe8adc741ce38b45dc12]\n",
       "link E2 to E5--><a href=\"psysml:3f3ee8aa-e9f7-416c-965c-8aff211aef79\" target=\"_top\" title=\"psysml:3f3ee8aa-e9f7-416c-965c-8aff211aef79\" xlink:actuate=\"onRequest\" xlink:href=\"psysml:3f3ee8aa-e9f7-416c-965c-8aff211aef79\" xlink:show=\"new\" xlink:title=\"psysml:3f3ee8aa-e9f7-416c-965c-8aff211aef79\" xlink:type=\"simple\"><path d=\"M210.67,90.83 C214.08,143.62 229.24,381.12 226,388 C220.27,400.19 209.98,410.45 199.48,418.47 \" fill=\"none\" id=\"E2-&gt;E5\" style=\"stroke: #A80036; stroke-width: 1.0;\"/><polygon fill=\"#A80036\" points=\"195.29,421.54,204.9073,419.4168,199.3138,418.5721,200.1586,412.9786,195.29,421.54\" style=\"stroke: #A80036; stroke-width: 1.0;\"/><text fill=\"#000000\" font-family=\"sans-serif\" font-size=\"13\" lengthAdjust=\"spacingAndGlyphs\" textLength=\"44\" x=\"222\" y=\"264.0669\">[x &gt; 1]</text><text fill=\"#000000\" font-family=\"sans-serif\" font-size=\"13\" lengthAdjust=\"spacingAndGlyphs\" textLength=\"7\" x=\"203.1039\" y=\"412.7419\">*</text></a><!--MD5=[e3d2a08a9c9236652057e8ed0cbc9b62]\n",
       "link E2 to E7--><a href=\"psysml:5268f6a4-a59c-47f8-920f-30c5900c34c3\" target=\"_top\" title=\"psysml:5268f6a4-a59c-47f8-920f-30c5900c34c3\" xlink:actuate=\"onRequest\" xlink:href=\"psysml:5268f6a4-a59c-47f8-920f-30c5900c34c3\" xlink:show=\"new\" xlink:title=\"psysml:5268f6a4-a59c-47f8-920f-30c5900c34c3\" xlink:type=\"simple\"><path d=\"M210.1,91.71 C210.67,105.71 213.16,129.99 223,148 C228.29,157.68 236.08,166.6 244.08,174.17 \" fill=\"none\" id=\"E2-&gt;E7\" style=\"stroke: #A80036; stroke-width: 1.0;\"/><polygon fill=\"#A80036\" points=\"248.01,177.77,244.069,168.744,244.3207,174.3953,238.6694,174.6469,248.01,177.77\" style=\"stroke: #A80036; stroke-width: 1.0;\"/><text fill=\"#000000\" font-family=\"sans-serif\" font-size=\"13\" lengthAdjust=\"spacingAndGlyphs\" textLength=\"7\" x=\"232.5471\" y=\"167.0076\">*</text></a><!--MD5=[583832df87f4419a098336a29a52fa00]\n",
       "link E7 to E2--><a href=\"psysml:1fcd52fd-d040-4c7e-90de-1e4181f9ba4a\" target=\"_top\" title=\"psysml:1fcd52fd-d040-4c7e-90de-1e4181f9ba4a\" xlink:actuate=\"onRequest\" xlink:href=\"psysml:1fcd52fd-d040-4c7e-90de-1e4181f9ba4a\" xlink:show=\"new\" xlink:title=\"psysml:1fcd52fd-d040-4c7e-90de-1e4181f9ba4a\" xlink:type=\"simple\"><path d=\"M264.3,177.59 C250.41,152.74 227.7,112.15 216.57,92.25 \" fill=\"none\" id=\"E7-&gt;E2\" style=\"stroke: #A80036; stroke-width: 1.0;\"/><polygon fill=\"#A80036\" points=\"214.13,87.88,215.0286,97.6878,216.5691,92.2447,222.0122,93.7852,214.13,87.88\" style=\"stroke: #A80036; stroke-width: 1.0;\"/><text fill=\"#000000\" font-family=\"sans-serif\" font-size=\"13\" lengthAdjust=\"spacingAndGlyphs\" textLength=\"44\" x=\"247\" y=\"144.0669\">[x &gt; 0]</text><text fill=\"#000000\" font-family=\"sans-serif\" font-size=\"13\" lengthAdjust=\"spacingAndGlyphs\" textLength=\"7\" x=\"207.5946\" y=\"111.7074\">*</text></a><!--MD5=[2720a5a1f2c3fca2055b230370638851]\n",
       "link E2 to E3--><a href=\"psysml:c0d6c8f2-adfa-4de5-8b53-fd445de20c7a\" target=\"_top\" title=\"psysml:c0d6c8f2-adfa-4de5-8b53-fd445de20c7a\" xlink:actuate=\"onRequest\" xlink:href=\"psysml:c0d6c8f2-adfa-4de5-8b53-fd445de20c7a\" xlink:show=\"new\" xlink:title=\"psysml:c0d6c8f2-adfa-4de5-8b53-fd445de20c7a\" xlink:type=\"simple\"><path d=\"M201.9,83.58 C184.06,90.55 140.39,108.7 108,131 C82.49,148.57 56.88,174.67 43.84,188.71 \" fill=\"none\" id=\"E2-&gt;E3\" style=\"stroke: #A80036; stroke-width: 1.0;\"/><polygon fill=\"#A80036\" points=\"40.21,192.66,49.2443,188.738,43.5925,188.9778,43.3527,183.326,40.21,192.66\" style=\"stroke: #A80036; stroke-width: 1.0;\"/><text fill=\"#000000\" font-family=\"sans-serif\" font-size=\"13\" lengthAdjust=\"spacingAndGlyphs\" textLength=\"7\" x=\"48.2668\" y=\"176.5238\">*</text></a><!--MD5=[af87c684e3b0d8be13c1a698a818ef1e]\n",
       "link E3 to E4--><a href=\"psysml:647fb379-8896-403f-81c0-e54862ace948\" target=\"_top\" title=\"psysml:647fb379-8896-403f-81c0-e54862ace948\" xlink:actuate=\"onRequest\" xlink:href=\"psysml:647fb379-8896-403f-81c0-e54862ace948\" xlink:show=\"new\" xlink:title=\"psysml:647fb379-8896-403f-81c0-e54862ace948\" xlink:type=\"simple\"><path d=\"M39.08,207.91 C46.63,221.15 63.87,249.24 84,268 C97.73,280.8 115.17,292.16 130.35,300.85 \" fill=\"none\" id=\"E3-&gt;E4\" style=\"stroke: #A80036; stroke-width: 1.0;\"/><polygon fill=\"#A80036\" points=\"134.98,303.46,129.0858,295.5696,130.6187,301.0148,125.1735,302.5477,134.98,303.46\" style=\"stroke: #A80036; stroke-width: 1.0;\"/><text fill=\"#000000\" font-family=\"sans-serif\" font-size=\"13\" lengthAdjust=\"spacingAndGlyphs\" textLength=\"36\" x=\"85\" y=\"264.0669\">[true]</text><text fill=\"#000000\" font-family=\"sans-serif\" font-size=\"13\" lengthAdjust=\"spacingAndGlyphs\" textLength=\"7\" x=\"119.8095\" y=\"294.8128\">*</text></a><!--MD5=[0188b64bb0ae78505a997a81836e11e9]\n",
       "link E3 to E5--><a href=\"psysml:1317e145-771b-48e4-a88c-08ae6f2caba6\" target=\"_top\" title=\"psysml:1317e145-771b-48e4-a88c-08ae6f2caba6\" xlink:actuate=\"onRequest\" xlink:href=\"psysml:1317e145-771b-48e4-a88c-08ae6f2caba6\" xlink:show=\"new\" xlink:title=\"psysml:1317e145-771b-48e4-a88c-08ae6f2caba6\" xlink:type=\"simple\"><path d=\"M36.3,210.29 C39.76,234.03 50.73,296.03 76,341 C91.89,369.29 117.42,396.1 137.07,414.43 \" fill=\"none\" id=\"E3-&gt;E5\" style=\"stroke: #A80036; stroke-width: 1.0;\"/><polygon fill=\"#A80036\" points=\"140.92,417.98,137.0155,408.9382,137.2443,414.5904,131.5921,414.8192,140.92,417.98\" style=\"stroke: #A80036; stroke-width: 1.0;\"/><text fill=\"#000000\" font-family=\"sans-serif\" font-size=\"13\" lengthAdjust=\"spacingAndGlyphs\" textLength=\"40\" x=\"77\" y=\"324.0669\">[false]</text><text fill=\"#000000\" font-family=\"sans-serif\" font-size=\"13\" lengthAdjust=\"spacingAndGlyphs\" textLength=\"7\" x=\"126.1631\" y=\"406.9125\">*</text></a><!--MD5=[1b7591eae5389033d8d09a9d6721a717]\n",
       "link E4 to E5--><a href=\"psysml:23f0aa3a-74d1-4632-9e57-f97d17e19ec4\" target=\"_top\" title=\"psysml:23f0aa3a-74d1-4632-9e57-f97d17e19ec4\" xlink:actuate=\"onRequest\" xlink:href=\"psysml:23f0aa3a-74d1-4632-9e57-f97d17e19ec4\" xlink:show=\"new\" xlink:title=\"psysml:23f0aa3a-74d1-4632-9e57-f97d17e19ec4\" xlink:type=\"simple\"><path d=\"M165,341.05 C165,360.9 165,391.02 165,412.52 \" fill=\"none\" id=\"E4-&gt;E5\" style=\"stroke: #A80036; stroke-width: 1.0;\"/><polygon fill=\"#A80036\" points=\"165,417.79,169,408.79,165,412.79,161,408.79,165,417.79\" style=\"stroke: #A80036; stroke-width: 1.0;\"/><text fill=\"#000000\" font-family=\"sans-serif\" font-size=\"13\" lengthAdjust=\"spacingAndGlyphs\" textLength=\"55\" x=\"166\" y=\"384.0669\">[x == 0]</text><text fill=\"#000000\" font-family=\"sans-serif\" font-size=\"13\" lengthAdjust=\"spacingAndGlyphs\" textLength=\"7\" x=\"157.0594\" y=\"407.033\">*</text></a><!--MD5=[7e26461f269d4075c2bc58295ad6dd95]\n",
       "@startuml\r\n",
       "skinparam wrapWidth 300\r\n",
       "hide circle\r\n",
       "\r\n",
       "rec def \"DecisionTest\" as E1  <<(T,blue) action  def>> [[psysml:62ac371c-e17a-420d-a580-1aab63005ed6 ]] {\r\n",
       "choice \"test x\" as E2  [[psysml:2e150d19-c5c5-4276-9136-9fe31d212434 ]] \r\n",
       "choice \"<s>noname</s>\" as E3  [[psysml:cc5b619c-f329-4ed7-9a64-7943d6ed9569 ]] \r\n",
       "rec usage \"A1\" as E4  <<(T,blue) action>> [[psysml:bb8ae358-9e9d-46e4-9973-23f4ed00e117 ]] {\r\n",
       "}\r\n",
       "\r\n",
       "rec usage \"A2\" as E5  <<(T,blue) action>> [[psysml:e7f91728-bf49-43a2-b90b-9012c9afe2c4 ]] {\r\n",
       "}\r\n",
       "\r\n",
       "rec usage \"A3\" as E6  <<(T,blue) action>> [[psysml:0d8578a4-a91e-4bc0-9576-e9210611ea53 ]] {\r\n",
       "}\r\n",
       "\r\n",
       "rec usage \"A3\" as E7  <<(T,blue) action>> [[psysml:0d8578a4-a91e-4bc0-9576-e9210611ea53 ]] {\r\n",
       "}\r\n",
       "\r\n",
       "}\r\n",
       "\r\n",
       "E2  - -> \"*\"E4 [[psysml:8074e684-9dcd-4869-b14d-8570f637bde9 ]] : [x == 1]\r\n",
       "E2  - -> \"*\"E5 [[psysml:3f3ee8aa-e9f7-416c-965c-8aff211aef79 ]] : [x > 1]\r\n",
       "E2  - -> \"*\"E7 [[psysml:5268f6a4-a59c-47f8-920f-30c5900c34c3 ]] \r\n",
       "E2 - -> \"*\"E3 [[psysml:c0d6c8f2-adfa-4de5-8b53-fd445de20c7a ]] \r\n",
       "E3  - -> \"*\"E4 [[psysml:647fb379-8896-403f-81c0-e54862ace948 ]] : [true]\r\n",
       "E3  - -> \"*\"E5 [[psysml:1317e145-771b-48e4-a88c-08ae6f2caba6 ]] : [false]\r\n",
       "E4  - -> \"*\"E5 [[psysml:23f0aa3a-74d1-4632-9e57-f97d17e19ec4 ]] : [x == 0]\r\n",
       "E7  - -> \"*\"E2 [[psysml:1fcd52fd-d040-4c7e-90de-1e4181f9ba4a ]] : [x > 0]\r\n",
       "@enduml\r\n",
       "\n",
       "PlantUML version 1.2020.13(Sat Jun 13 12:26:38 UTC 2020)\n",
       "(EPL source distribution)\n",
       "Java Runtime: OpenJDK Runtime Environment\n",
       "JVM: OpenJDK 64-Bit Server VM\n",
       "Default Encoding: UTF-8\n",
       "Language: en\n",
       "Country: null\n",
       "--></g></svg>"
      ]
     },
     "execution_count": 29,
     "metadata": {},
     "output_type": "execute_result"
    }
   ],
   "source": [
    "%viz --style=\"STDCOLOR\" --view=\"MIXED\" \"DecisionTest\""
   ]
  },
  {
   "cell_type": "code",
   "execution_count": 30,
   "id": "4a0dfef8",
   "metadata": {
    "execution": {
     "iopub.execute_input": "2022-03-21T07:51:01.235942Z",
     "iopub.status.busy": "2022-03-21T07:51:01.235535Z",
     "iopub.status.idle": "2022-03-21T07:51:01.295890Z",
     "shell.execute_reply": "2022-03-21T07:51:01.294099Z"
    }
   },
   "outputs": [
    {
     "data": {
      "image/svg+xml": [
       "<?xml version=\"1.0\" encoding=\"UTF-8\" standalone=\"no\"?><svg xmlns=\"http://www.w3.org/2000/svg\" xmlns:xlink=\"http://www.w3.org/1999/xlink\" contentScriptType=\"application/ecmascript\" contentStyleType=\"text/css\" height=\"496px\" preserveAspectRatio=\"none\" style=\"width:367px;height:496px;\" version=\"1.1\" viewBox=\"0 0 367 496\" width=\"367px\" zoomAndPan=\"magnify\"><defs><filter height=\"300%\" id=\"f1putjvi4hfu29\" width=\"300%\" x=\"-1\" y=\"-1\"><feGaussianBlur result=\"blurOut\" stdDeviation=\"2.0\"/><feColorMatrix in=\"blurOut\" result=\"blurOut2\" type=\"matrix\" values=\"0 0 0 0 0 0 0 0 0 0 0 0 0 0 0 0 0 0 .4 0\"/><feOffset dx=\"4.0\" dy=\"4.0\" in=\"blurOut2\" result=\"blurOut3\"/><feBlend in=\"SourceGraphic\" in2=\"blurOut3\" mode=\"normal\"/></filter></defs><g><!--MD5=[fbc87193dbaf4d95561dea2c320d4a47]\n",
       "cluster E1--><a href=\"psysml:62ac371c-e17a-420d-a580-1aab63005ed6\" target=\"_top\" title=\"psysml:62ac371c-e17a-420d-a580-1aab63005ed6\" xlink:actuate=\"onRequest\" xlink:href=\"psysml:62ac371c-e17a-420d-a580-1aab63005ed6\" xlink:show=\"new\" xlink:title=\"psysml:62ac371c-e17a-420d-a580-1aab63005ed6\" xlink:type=\"simple\"><rect fill=\"#FFFFFF\" filter=\"url(#f1putjvi4hfu29)\" height=\"470\" id=\"E1\" style=\"stroke: #A80036; stroke-width: 1.5;\" width=\"341\" x=\"7\" y=\"7\"/><rect fill=\"#FEFECE\" height=\"37.9375\" style=\"stroke: #A80036; stroke-width: 1.5;\" width=\"341\" x=\"7\" y=\"7\"/><text fill=\"#000000\" font-family=\"sans-serif\" font-size=\"12\" font-style=\"italic\" lengthAdjust=\"spacingAndGlyphs\" textLength=\"81\" x=\"137\" y=\"23.1387\">«action  def»</text><text fill=\"#000000\" font-family=\"sans-serif\" font-size=\"12\" lengthAdjust=\"spacingAndGlyphs\" textLength=\"80\" x=\"137.5\" y=\"37.1074\">DecisionTest</text></a><polygon fill=\"#FEFECE\" filter=\"url(#f1putjvi4hfu29)\" points=\"210,67.5,222,79.5,210,91.5,198,79.5,210,67.5\" style=\"stroke: #A80036; stroke-width: 1.5;\"/><polygon fill=\"#FEFECE\" filter=\"url(#f1putjvi4hfu29)\" points=\"35,187.5,47,199.5,35,211.5,23,199.5,35,187.5\" style=\"stroke: #A80036; stroke-width: 1.5;\"/><g id=\"E1.E4\"><a href=\"psysml:bb8ae358-9e9d-46e4-9973-23f4ed00e117\" target=\"_top\" title=\"psysml:bb8ae358-9e9d-46e4-9973-23f4ed00e117\" xlink:actuate=\"onRequest\" xlink:href=\"psysml:bb8ae358-9e9d-46e4-9973-23f4ed00e117\" xlink:show=\"new\" xlink:title=\"psysml:bb8ae358-9e9d-46e4-9973-23f4ed00e117\" xlink:type=\"simple\"><rect fill=\"#FEFECE\" filter=\"url(#f1putjvi4hfu29)\" height=\"42.9375\" id=\"E4\" rx=\"10\" ry=\"10\" style=\"stroke: #A80036; stroke-width: 1.5;\" width=\"86\" x=\"135\" y=\"298\"/><ellipse cx=\"152.25\" cy=\"316.9688\" fill=\"#FFA500\" rx=\"11\" ry=\"11\" style=\"stroke: #A80036; stroke-width: 1.0;\"/><path d=\"M152,322.4375 Q150.25,322.4375 149.2969,321.4063 Q148.3594,320.3594 148.3594,318.5156 L148.3594,311.625 L150.4219,311.625 L150.4219,311.7813 Q150.3281,311.875 150.2969,312.0156 Q150.2813,312.1406 150.2813,312.4063 L150.2813,318.5313 Q150.2813,319.625 150.6563,320.25 Q151.0313,320.875 152.0156,320.875 Q153,320.875 153.3906,320.25 Q153.7813,319.625 153.7813,318.4844 L153.7813,311.625 L155.6563,311.625 L155.6563,318.4688 Q155.6563,320.5 154.625,321.4688 Q153.6094,322.4375 152,322.4375 Z \"/><text fill=\"#000000\" font-family=\"sans-serif\" font-size=\"12\" font-style=\"italic\" lengthAdjust=\"spacingAndGlyphs\" textLength=\"53\" x=\"164.75\" y=\"314.1387\">«action»</text><text fill=\"#000000\" font-family=\"sans-serif\" font-size=\"12\" lengthAdjust=\"spacingAndGlyphs\" textLength=\"16\" x=\"183.25\" y=\"328.1074\">A1</text></a></g><g id=\"E1.E5\"><a href=\"psysml:e7f91728-bf49-43a2-b90b-9012c9afe2c4\" target=\"_top\" title=\"psysml:e7f91728-bf49-43a2-b90b-9012c9afe2c4\" xlink:actuate=\"onRequest\" xlink:href=\"psysml:e7f91728-bf49-43a2-b90b-9012c9afe2c4\" xlink:show=\"new\" xlink:title=\"psysml:e7f91728-bf49-43a2-b90b-9012c9afe2c4\" xlink:type=\"simple\"><rect fill=\"#FEFECE\" filter=\"url(#f1putjvi4hfu29)\" height=\"42.9375\" id=\"E5\" rx=\"10\" ry=\"10\" style=\"stroke: #A80036; stroke-width: 1.5;\" width=\"86\" x=\"135\" y=\"418\"/><ellipse cx=\"152.25\" cy=\"436.9688\" fill=\"#FFA500\" rx=\"11\" ry=\"11\" style=\"stroke: #A80036; stroke-width: 1.0;\"/><path d=\"M152,442.4375 Q150.25,442.4375 149.2969,441.4063 Q148.3594,440.3594 148.3594,438.5156 L148.3594,431.625 L150.4219,431.625 L150.4219,431.7813 Q150.3281,431.875 150.2969,432.0156 Q150.2813,432.1406 150.2813,432.4063 L150.2813,438.5313 Q150.2813,439.625 150.6563,440.25 Q151.0313,440.875 152.0156,440.875 Q153,440.875 153.3906,440.25 Q153.7813,439.625 153.7813,438.4844 L153.7813,431.625 L155.6563,431.625 L155.6563,438.4688 Q155.6563,440.5 154.625,441.4688 Q153.6094,442.4375 152,442.4375 Z \"/><text fill=\"#000000\" font-family=\"sans-serif\" font-size=\"12\" font-style=\"italic\" lengthAdjust=\"spacingAndGlyphs\" textLength=\"53\" x=\"164.75\" y=\"434.1387\">«action»</text><text fill=\"#000000\" font-family=\"sans-serif\" font-size=\"12\" lengthAdjust=\"spacingAndGlyphs\" textLength=\"16\" x=\"183.25\" y=\"448.1074\">A2</text></a></g><g id=\"E1.E6\"><a href=\"psysml:0d8578a4-a91e-4bc0-9576-e9210611ea53\" target=\"_top\" title=\"psysml:0d8578a4-a91e-4bc0-9576-e9210611ea53\" xlink:actuate=\"onRequest\" xlink:href=\"psysml:0d8578a4-a91e-4bc0-9576-e9210611ea53\" xlink:show=\"new\" xlink:title=\"psysml:0d8578a4-a91e-4bc0-9576-e9210611ea53\" xlink:type=\"simple\"><rect fill=\"#FEFECE\" filter=\"url(#f1putjvi4hfu29)\" height=\"42.9375\" id=\"E6\" rx=\"10\" ry=\"10\" style=\"stroke: #A80036; stroke-width: 1.5;\" width=\"86\" x=\"50\" y=\"58\"/><ellipse cx=\"67.25\" cy=\"76.9688\" fill=\"#FFA500\" rx=\"11\" ry=\"11\" style=\"stroke: #A80036; stroke-width: 1.0;\"/><path d=\"M67,82.4375 Q65.25,82.4375 64.2969,81.4063 Q63.3594,80.3594 63.3594,78.5156 L63.3594,71.625 L65.4219,71.625 L65.4219,71.7813 Q65.3281,71.875 65.2969,72.0156 Q65.2813,72.1406 65.2813,72.4063 L65.2813,78.5313 Q65.2813,79.625 65.6563,80.25 Q66.0313,80.875 67.0156,80.875 Q68,80.875 68.3906,80.25 Q68.7813,79.625 68.7813,78.4844 L68.7813,71.625 L70.6563,71.625 L70.6563,78.4688 Q70.6563,80.5 69.625,81.4688 Q68.6094,82.4375 67,82.4375 Z \"/><text fill=\"#000000\" font-family=\"sans-serif\" font-size=\"12\" font-style=\"italic\" lengthAdjust=\"spacingAndGlyphs\" textLength=\"53\" x=\"79.75\" y=\"74.1387\">«action»</text><text fill=\"#000000\" font-family=\"sans-serif\" font-size=\"12\" lengthAdjust=\"spacingAndGlyphs\" textLength=\"16\" x=\"98.25\" y=\"88.1074\">A3</text></a></g><g id=\"E1.E7\"><a href=\"psysml:0d8578a4-a91e-4bc0-9576-e9210611ea53\" target=\"_top\" title=\"psysml:0d8578a4-a91e-4bc0-9576-e9210611ea53\" xlink:actuate=\"onRequest\" xlink:href=\"psysml:0d8578a4-a91e-4bc0-9576-e9210611ea53\" xlink:show=\"new\" xlink:title=\"psysml:0d8578a4-a91e-4bc0-9576-e9210611ea53\" xlink:type=\"simple\"><rect fill=\"#FEFECE\" filter=\"url(#f1putjvi4hfu29)\" height=\"42.9375\" id=\"E7\" rx=\"10\" ry=\"10\" style=\"stroke: #A80036; stroke-width: 1.5;\" width=\"86\" x=\"246\" y=\"178\"/><ellipse cx=\"263.25\" cy=\"196.9688\" fill=\"#FFA500\" rx=\"11\" ry=\"11\" style=\"stroke: #A80036; stroke-width: 1.0;\"/><path d=\"M263,202.4375 Q261.25,202.4375 260.2969,201.4063 Q259.3594,200.3594 259.3594,198.5156 L259.3594,191.625 L261.4219,191.625 L261.4219,191.7813 Q261.3281,191.875 261.2969,192.0156 Q261.2813,192.1406 261.2813,192.4063 L261.2813,198.5313 Q261.2813,199.625 261.6563,200.25 Q262.0313,200.875 263.0156,200.875 Q264,200.875 264.3906,200.25 Q264.7813,199.625 264.7813,198.4844 L264.7813,191.625 L266.6563,191.625 L266.6563,198.4688 Q266.6563,200.5 265.625,201.4688 Q264.6094,202.4375 263,202.4375 Z \"/><text fill=\"#000000\" font-family=\"sans-serif\" font-size=\"12\" font-style=\"italic\" lengthAdjust=\"spacingAndGlyphs\" textLength=\"53\" x=\"275.75\" y=\"194.1387\">«action»</text><text fill=\"#000000\" font-family=\"sans-serif\" font-size=\"12\" lengthAdjust=\"spacingAndGlyphs\" textLength=\"16\" x=\"294.25\" y=\"208.1074\">A3</text></a></g><!--MD5=[4d03bb2d0377dc85ccfab60ff574652b]\n",
       "link E2 to E4--><a href=\"psysml:8074e684-9dcd-4869-b14d-8570f637bde9\" target=\"_top\" title=\"psysml:8074e684-9dcd-4869-b14d-8570f637bde9\" xlink:actuate=\"onRequest\" xlink:href=\"psysml:8074e684-9dcd-4869-b14d-8570f637bde9\" xlink:show=\"new\" xlink:title=\"psysml:8074e684-9dcd-4869-b14d-8570f637bde9\" xlink:type=\"simple\"><path d=\"M204.45,86 C190.88,99.89 156.22,138.13 144,178 C131.83,217.69 149.59,264.76 163.67,293.09 \" fill=\"none\" id=\"E2-&gt;E4\" style=\"stroke: #A80036; stroke-width: 1.0;\"/><polygon fill=\"#A80036\" points=\"166.08,297.81,165.5574,287.975,163.8097,293.3551,158.4296,291.6074,166.08,297.81\" style=\"stroke: #A80036; stroke-width: 1.0;\"/><text fill=\"#000000\" font-family=\"sans-serif\" font-size=\"13\" lengthAdjust=\"spacingAndGlyphs\" textLength=\"55\" x=\"145\" y=\"204.0669\">[x == 1]</text><text fill=\"#000000\" font-family=\"sans-serif\" font-size=\"13\" lengthAdjust=\"spacingAndGlyphs\" textLength=\"7\" x=\"154.9359\" y=\"287.0583\">*</text></a><!--MD5=[dcad52bbbca2fe8adc741ce38b45dc12]\n",
       "link E2 to E5--><a href=\"psysml:3f3ee8aa-e9f7-416c-965c-8aff211aef79\" target=\"_top\" title=\"psysml:3f3ee8aa-e9f7-416c-965c-8aff211aef79\" xlink:actuate=\"onRequest\" xlink:href=\"psysml:3f3ee8aa-e9f7-416c-965c-8aff211aef79\" xlink:show=\"new\" xlink:title=\"psysml:3f3ee8aa-e9f7-416c-965c-8aff211aef79\" xlink:type=\"simple\"><path d=\"M211.32,90.39 C216.99,132.87 238.97,297.67 239,298 C242.74,337.86 260.6,352.04 243,388 C237.83,398.56 229.28,407.54 220.04,414.88 \" fill=\"none\" id=\"E2-&gt;E5\" style=\"stroke: #A80036; stroke-width: 1.0;\"/><polygon fill=\"#A80036\" points=\"216.05,417.92,225.6321,415.6432,220.0258,414.8881,220.781,409.2818,216.05,417.92\" style=\"stroke: #A80036; stroke-width: 1.0;\"/><text fill=\"#000000\" font-family=\"sans-serif\" font-size=\"13\" lengthAdjust=\"spacingAndGlyphs\" textLength=\"44\" x=\"235\" y=\"264.0669\">[x &gt; 1]</text><text fill=\"#000000\" font-family=\"sans-serif\" font-size=\"13\" lengthAdjust=\"spacingAndGlyphs\" textLength=\"7\" x=\"218.7672\" y=\"406.8356\">*</text></a><!--MD5=[e3d2a08a9c9236652057e8ed0cbc9b62]\n",
       "link E2 to E7--><a href=\"psysml:5268f6a4-a59c-47f8-920f-30c5900c34c3\" target=\"_top\" title=\"psysml:5268f6a4-a59c-47f8-920f-30c5900c34c3\" xlink:actuate=\"onRequest\" xlink:href=\"psysml:5268f6a4-a59c-47f8-920f-30c5900c34c3\" xlink:show=\"new\" xlink:title=\"psysml:5268f6a4-a59c-47f8-920f-30c5900c34c3\" xlink:type=\"simple\"><path d=\"M212.2,89.84 C215.69,103.47 223.45,129.2 236,148 C242.31,157.45 250.67,166.45 258.88,174.18 \" fill=\"none\" id=\"E2-&gt;E7\" style=\"stroke: #A80036; stroke-width: 1.0;\"/><polygon fill=\"#A80036\" points=\"262.9,177.86,258.978,168.8257,259.2178,174.4775,253.566,174.7173,262.9,177.86\" style=\"stroke: #A80036; stroke-width: 1.0;\"/><text fill=\"#000000\" font-family=\"sans-serif\" font-size=\"13\" lengthAdjust=\"spacingAndGlyphs\" textLength=\"7\" x=\"247.575\" y=\"166.7587\">*</text></a><!--MD5=[583832df87f4419a098336a29a52fa00]\n",
       "link E7 to E2--><a href=\"psysml:1fcd52fd-d040-4c7e-90de-1e4181f9ba4a\" target=\"_top\" title=\"psysml:1fcd52fd-d040-4c7e-90de-1e4181f9ba4a\" xlink:actuate=\"onRequest\" xlink:href=\"psysml:1fcd52fd-d040-4c7e-90de-1e4181f9ba4a\" xlink:show=\"new\" xlink:title=\"psysml:1fcd52fd-d040-4c7e-90de-1e4181f9ba4a\" xlink:type=\"simple\"><path d=\"M275.08,177.71 C258.3,152.65 230.72,111.44 217.51,91.71 \" fill=\"none\" id=\"E7-&gt;E2\" style=\"stroke: #A80036; stroke-width: 1.0;\"/><polygon fill=\"#A80036\" points=\"214.47,87.18,216.1572,96.8833,217.2534,91.3337,222.803,92.4299,214.47,87.18\" style=\"stroke: #A80036; stroke-width: 1.0;\"/><text fill=\"#000000\" font-family=\"sans-serif\" font-size=\"13\" lengthAdjust=\"spacingAndGlyphs\" textLength=\"44\" x=\"255\" y=\"144.0669\">[x &gt; 0]</text><text fill=\"#000000\" font-family=\"sans-serif\" font-size=\"13\" lengthAdjust=\"spacingAndGlyphs\" textLength=\"7\" x=\"208.2703\" y=\"111.8252\">*</text></a><!--MD5=[2720a5a1f2c3fca2055b230370638851]\n",
       "link E2 to E3--><a href=\"psysml:c0d6c8f2-adfa-4de5-8b53-fd445de20c7a\" target=\"_top\" title=\"psysml:c0d6c8f2-adfa-4de5-8b53-fd445de20c7a\" xlink:actuate=\"onRequest\" xlink:href=\"psysml:c0d6c8f2-adfa-4de5-8b53-fd445de20c7a\" xlink:show=\"new\" xlink:title=\"psysml:c0d6c8f2-adfa-4de5-8b53-fd445de20c7a\" xlink:type=\"simple\"><path d=\"M201.9,83.58 C184.06,90.55 140.39,108.7 108,131 C82.49,148.57 56.88,174.67 43.84,188.71 \" fill=\"none\" id=\"E2-&gt;E3\" style=\"stroke: #A80036; stroke-width: 1.0;\"/><polygon fill=\"#A80036\" points=\"40.21,192.66,49.2443,188.738,43.5925,188.9778,43.3527,183.326,40.21,192.66\" style=\"stroke: #A80036; stroke-width: 1.0;\"/><text fill=\"#000000\" font-family=\"sans-serif\" font-size=\"13\" lengthAdjust=\"spacingAndGlyphs\" textLength=\"7\" x=\"48.2668\" y=\"176.5238\">*</text></a><!--MD5=[af87c684e3b0d8be13c1a698a818ef1e]\n",
       "link E3 to E4--><a href=\"psysml:647fb379-8896-403f-81c0-e54862ace948\" target=\"_top\" title=\"psysml:647fb379-8896-403f-81c0-e54862ace948\" xlink:actuate=\"onRequest\" xlink:href=\"psysml:647fb379-8896-403f-81c0-e54862ace948\" xlink:show=\"new\" xlink:title=\"psysml:647fb379-8896-403f-81c0-e54862ace948\" xlink:type=\"simple\"><path d=\"M38.96,208.04 C46.32,221.49 63.28,249.9 84,268 C97.53,279.82 114.3,289.93 129.91,297.93 \" fill=\"none\" id=\"E3-&gt;E4\" style=\"stroke: #A80036; stroke-width: 1.0;\"/><polygon fill=\"#A80036\" points=\"134.71,300.34,128.4587,292.7294,130.2407,298.0982,124.8719,299.8802,134.71,300.34\" style=\"stroke: #A80036; stroke-width: 1.0;\"/><text fill=\"#000000\" font-family=\"sans-serif\" font-size=\"13\" lengthAdjust=\"spacingAndGlyphs\" textLength=\"36\" x=\"85\" y=\"264.0669\">[true]</text><text fill=\"#000000\" font-family=\"sans-serif\" font-size=\"13\" lengthAdjust=\"spacingAndGlyphs\" textLength=\"7\" x=\"119.9604\" y=\"293.0075\">*</text></a><!--MD5=[0188b64bb0ae78505a997a81836e11e9]\n",
       "link E3 to E5--><a href=\"psysml:1317e145-771b-48e4-a88c-08ae6f2caba6\" target=\"_top\" title=\"psysml:1317e145-771b-48e4-a88c-08ae6f2caba6\" xlink:actuate=\"onRequest\" xlink:href=\"psysml:1317e145-771b-48e4-a88c-08ae6f2caba6\" xlink:show=\"new\" xlink:title=\"psysml:1317e145-771b-48e4-a88c-08ae6f2caba6\" xlink:type=\"simple\"><path d=\"M36.1,210.4 C39.13,234.4 49.22,296.92 76,341 C93.84,370.37 122.75,396.82 145.25,414.74 \" fill=\"none\" id=\"E3-&gt;E5\" style=\"stroke: #A80036; stroke-width: 1.0;\"/><polygon fill=\"#A80036\" points=\"149.37,417.99,144.7826,409.2748,145.4449,414.8927,139.8269,415.555,149.37,417.99\" style=\"stroke: #A80036; stroke-width: 1.0;\"/><text fill=\"#000000\" font-family=\"sans-serif\" font-size=\"13\" lengthAdjust=\"spacingAndGlyphs\" textLength=\"40\" x=\"77\" y=\"324.0669\">[false]</text><text fill=\"#000000\" font-family=\"sans-serif\" font-size=\"13\" lengthAdjust=\"spacingAndGlyphs\" textLength=\"7\" x=\"133.3334\" y=\"406.9253\">*</text></a><!--MD5=[1b7591eae5389033d8d09a9d6721a717]\n",
       "link E4 to E5--><a href=\"psysml:23f0aa3a-74d1-4632-9e57-f97d17e19ec4\" target=\"_top\" title=\"psysml:23f0aa3a-74d1-4632-9e57-f97d17e19ec4\" xlink:actuate=\"onRequest\" xlink:href=\"psysml:23f0aa3a-74d1-4632-9e57-f97d17e19ec4\" xlink:show=\"new\" xlink:title=\"psysml:23f0aa3a-74d1-4632-9e57-f97d17e19ec4\" xlink:type=\"simple\"><path d=\"M178,341.05 C178,360.9 178,391.02 178,412.52 \" fill=\"none\" id=\"E4-&gt;E5\" style=\"stroke: #A80036; stroke-width: 1.0;\"/><polygon fill=\"#A80036\" points=\"178,417.79,182,408.79,178,412.79,174,408.79,178,417.79\" style=\"stroke: #A80036; stroke-width: 1.0;\"/><text fill=\"#000000\" font-family=\"sans-serif\" font-size=\"13\" lengthAdjust=\"spacingAndGlyphs\" textLength=\"55\" x=\"179\" y=\"384.0669\">[x == 0]</text><text fill=\"#000000\" font-family=\"sans-serif\" font-size=\"13\" lengthAdjust=\"spacingAndGlyphs\" textLength=\"7\" x=\"170.0594\" y=\"407.033\">*</text></a><!--MD5=[9c73934cf5f2ef9ceaffe66d23846cd3]\n",
       "@startuml\r\n",
       " \r\n",
       "rec def \"DecisionTest\" as E1 << <<(B,lemonchiffon) action  def>> [[psysml:62ac371c-e17a-420d-a580-1aab63005ed6 ]] {\r\n",
       "choice \"test x\" as E2  [[psysml:2e150d19-c5c5-4276-9136-9fe31d212434 ]] \r\n",
       "choice \"<s>noname</s>\" as E3  [[psysml:cc5b619c-f329-4ed7-9a64-7943d6ed9569 ]] \r\n",
       "rec usage \"A1\" as E4 << <<(U,orange) action>> [[psysml:bb8ae358-9e9d-46e4-9973-23f4ed00e117 ]] {\r\n",
       "}\r\n",
       "\r\n",
       "rec usage \"A2\" as E5 << <<(U,orange) action>> [[psysml:e7f91728-bf49-43a2-b90b-9012c9afe2c4 ]] {\r\n",
       "}\r\n",
       "\r\n",
       "rec usage \"A3\" as E6 << <<(U,orange) action>> [[psysml:0d8578a4-a91e-4bc0-9576-e9210611ea53 ]] {\r\n",
       "}\r\n",
       "\r\n",
       "rec usage \"A3\" as E7 << <<(U,orange) action>> [[psysml:0d8578a4-a91e-4bc0-9576-e9210611ea53 ]] {\r\n",
       "}\r\n",
       "\r\n",
       "}\r\n",
       "\r\n",
       "E2  - -> \"*\"E4 [[psysml:8074e684-9dcd-4869-b14d-8570f637bde9 ]] : [x == 1]\r\n",
       "E2  - -> \"*\"E5 [[psysml:3f3ee8aa-e9f7-416c-965c-8aff211aef79 ]] : [x > 1]\r\n",
       "E2  - -> \"*\"E7 [[psysml:5268f6a4-a59c-47f8-920f-30c5900c34c3 ]] \r\n",
       "E2 - -> \"*\"E3 [[psysml:c0d6c8f2-adfa-4de5-8b53-fd445de20c7a ]] \r\n",
       "E3  - -> \"*\"E4 [[psysml:647fb379-8896-403f-81c0-e54862ace948 ]] : [true]\r\n",
       "E3  - -> \"*\"E5 [[psysml:1317e145-771b-48e4-a88c-08ae6f2caba6 ]] : [false]\r\n",
       "E4  - -> \"*\"E5 [[psysml:23f0aa3a-74d1-4632-9e57-f97d17e19ec4 ]] : [x == 0]\r\n",
       "E7  - -> \"*\"E2 [[psysml:1fcd52fd-d040-4c7e-90de-1e4181f9ba4a ]] : [x > 0]\r\n",
       "@enduml\r\n",
       "\n",
       "PlantUML version 1.2020.13(Sat Jun 13 12:26:38 UTC 2020)\n",
       "(EPL source distribution)\n",
       "Java Runtime: OpenJDK Runtime Environment\n",
       "JVM: OpenJDK 64-Bit Server VM\n",
       "Default Encoding: UTF-8\n",
       "Language: en\n",
       "Country: null\n",
       "--></g></svg>"
      ]
     },
     "execution_count": 30,
     "metadata": {},
     "output_type": "execute_result"
    }
   ],
   "source": [
    "%viz --style=\"PLANTUML\" --view=\"Default\" \"DecisionTest\""
   ]
  },
  {
   "cell_type": "code",
   "execution_count": 31,
   "id": "2ac41613",
   "metadata": {
    "execution": {
     "iopub.execute_input": "2022-03-21T07:51:01.344666Z",
     "iopub.status.busy": "2022-03-21T07:51:01.344255Z",
     "iopub.status.idle": "2022-03-21T07:51:01.477044Z",
     "shell.execute_reply": "2022-03-21T07:51:01.475527Z"
    }
   },
   "outputs": [
    {
     "data": {
      "image/svg+xml": [
       "<?xml version=\"1.0\" encoding=\"UTF-8\" standalone=\"no\"?><svg xmlns=\"http://www.w3.org/2000/svg\" xmlns:xlink=\"http://www.w3.org/1999/xlink\" contentScriptType=\"application/ecmascript\" contentStyleType=\"text/css\" height=\"343px\" preserveAspectRatio=\"none\" style=\"width:669px;height:343px;\" version=\"1.1\" viewBox=\"0 0 669 343\" width=\"669px\" zoomAndPan=\"magnify\"><defs><filter height=\"300%\" id=\"fmqhxmjq0qh6i\" width=\"300%\" x=\"-1\" y=\"-1\"><feGaussianBlur result=\"blurOut\" stdDeviation=\"2.0\"/><feColorMatrix in=\"blurOut\" result=\"blurOut2\" type=\"matrix\" values=\"0 0 0 0 0 0 0 0 0 0 0 0 0 0 0 0 0 0 .4 0\"/><feOffset dx=\"4.0\" dy=\"4.0\" in=\"blurOut2\" result=\"blurOut3\"/><feBlend in=\"SourceGraphic\" in2=\"blurOut3\" mode=\"normal\"/></filter></defs><g><!--MD5=[43c9051892ef23e1a46a86907403d788]\n",
       "class E1--><a href=\"psysml:62ac371c-e17a-420d-a580-1aab63005ed6\" target=\"_top\" title=\"psysml:62ac371c-e17a-420d-a580-1aab63005ed6\" xlink:actuate=\"onRequest\" xlink:href=\"psysml:62ac371c-e17a-420d-a580-1aab63005ed6\" xlink:show=\"new\" xlink:title=\"psysml:62ac371c-e17a-420d-a580-1aab63005ed6\" xlink:type=\"simple\"><rect fill=\"#FEFECE\" filter=\"url(#fmqhxmjq0qh6i)\" height=\"211.5938\" id=\"E1\" style=\"stroke: #A80036; stroke-width: 1.5;\" width=\"112\" x=\"380\" y=\"7\"/><ellipse cx=\"395\" cy=\"25.9688\" fill=\"#FFFACD\" rx=\"11\" ry=\"11\" style=\"stroke: #A80036; stroke-width: 1.0;\"/><path d=\"M391.875,30.9688 L391.875,20.375 L395.1094,20.375 Q397.0156,20.375 397.9219,21.125 Q398.8438,21.875 398.8438,23.0469 Q398.8438,23.7344 398.4531,24.3906 Q398.0781,25.0469 397.3594,25.3438 Q398.2188,25.7188 398.7344,26.4063 Q399.25,27.0938 399.25,27.9063 Q399.25,29.2813 398.2188,30.125 Q397.2031,30.9688 395.0938,30.9688 L391.875,30.9688 Z M393.7969,24.6094 L394.9531,24.6094 Q396.0781,24.6094 396.4844,24.2344 Q396.9063,23.8438 396.9063,23.2188 Q396.9063,22.6406 396.4844,22.2813 Q396.0625,21.9219 395.125,21.9219 L393.7969,21.9219 L393.7969,24.6094 Z M393.7969,29.3906 L395.2969,29.3906 Q396.2031,29.3906 396.7344,29 Q397.2656,28.6094 397.2656,27.8594 Q397.2656,27.0938 396.7656,26.625 Q396.2656,26.1406 395,26.1406 L393.7969,26.1406 L393.7969,29.3906 Z \"/><text fill=\"#000000\" font-family=\"sans-serif\" font-size=\"12\" font-style=\"italic\" lengthAdjust=\"spacingAndGlyphs\" textLength=\"81\" x=\"408.5\" y=\"23.1387\">«action  def»</text><text fill=\"#000000\" font-family=\"sans-serif\" font-size=\"12\" lengthAdjust=\"spacingAndGlyphs\" textLength=\"80\" x=\"409\" y=\"37.1074\">DecisionTest</text><line style=\"stroke: #A80036; stroke-width: 1.5;\" x1=\"381\" x2=\"491\" y1=\"44.9375\" y2=\"44.9375\"/><text fill=\"#000000\" font-family=\"sans-serif\" font-size=\"11\" lengthAdjust=\"spacingAndGlyphs\" textLength=\"30\" x=\"386\" y=\"75.9526\">x= 1;</text><line style=\"stroke: #A80036; stroke-width: 1.0;\" x1=\"381\" x2=\"408.5\" y1=\"59.3398\" y2=\"59.3398\"/><text fill=\"#000000\" font-family=\"sans-serif\" font-size=\"11\" lengthAdjust=\"spacingAndGlyphs\" textLength=\"55\" x=\"408.5\" y=\"62.6479\">attributes</text><line style=\"stroke: #A80036; stroke-width: 1.0;\" x1=\"463.5\" x2=\"491\" y1=\"59.3398\" y2=\"59.3398\"/><text fill=\"#000000\" font-family=\"sans-serif\" font-size=\"11\" lengthAdjust=\"spacingAndGlyphs\" textLength=\"25\" x=\"386\" y=\"105.562\">then</text><line style=\"stroke: #A80036; stroke-width: 1.0;\" x1=\"381\" x2=\"400.5\" y1=\"88.9492\" y2=\"88.9492\"/><text fill=\"#000000\" font-family=\"sans-serif\" font-size=\"11\" lengthAdjust=\"spacingAndGlyphs\" textLength=\"71\" x=\"400.5\" y=\"92.2573\">successions</text><line style=\"stroke: #A80036; stroke-width: 1.0;\" x1=\"471.5\" x2=\"491\" y1=\"88.9492\" y2=\"88.9492\"/><text fill=\"#000000\" font-family=\"sans-serif\" font-size=\"11\" lengthAdjust=\"spacingAndGlyphs\" textLength=\"0\" x=\"390\" y=\"135.1714\"/><text fill=\"#000000\" font-family=\"sans-serif\" font-size=\"11\" lengthAdjust=\"spacingAndGlyphs\" textLength=\"0\" x=\"390\" y=\"147.9761\"/><text fill=\"#000000\" font-family=\"sans-serif\" font-size=\"11\" lengthAdjust=\"spacingAndGlyphs\" textLength=\"0\" x=\"390\" y=\"160.7808\"/><text fill=\"#000000\" font-family=\"sans-serif\" font-size=\"11\" lengthAdjust=\"spacingAndGlyphs\" textLength=\"0\" x=\"390\" y=\"173.5854\"/><text fill=\"#000000\" font-family=\"sans-serif\" font-size=\"11\" lengthAdjust=\"spacingAndGlyphs\" textLength=\"0\" x=\"390\" y=\"186.3901\"/><text fill=\"#000000\" font-family=\"sans-serif\" font-size=\"11\" lengthAdjust=\"spacingAndGlyphs\" textLength=\"0\" x=\"390\" y=\"199.1948\"/><text fill=\"#000000\" font-family=\"sans-serif\" font-size=\"11\" lengthAdjust=\"spacingAndGlyphs\" textLength=\"8\" x=\"386\" y=\"211.9995\">S</text><line style=\"stroke: #A80036; stroke-width: 1.0;\" x1=\"381\" x2=\"405.5\" y1=\"118.5586\" y2=\"118.5586\"/><text fill=\"#000000\" font-family=\"sans-serif\" font-size=\"11\" lengthAdjust=\"spacingAndGlyphs\" textLength=\"61\" x=\"405.5\" y=\"121.8667\">transitions</text><line style=\"stroke: #A80036; stroke-width: 1.0;\" x1=\"466.5\" x2=\"491\" y1=\"118.5586\" y2=\"118.5586\"/></a><!--MD5=[b4997ac47864f28c2f74865a473b2911]\n",
       "class E2--><a href=\"psysml:2e150d19-c5c5-4276-9136-9fe31d212434\" target=\"_top\" title=\"psysml:2e150d19-c5c5-4276-9136-9fe31d212434\" xlink:actuate=\"onRequest\" xlink:href=\"psysml:2e150d19-c5c5-4276-9136-9fe31d212434\" xlink:show=\"new\" xlink:title=\"psysml:2e150d19-c5c5-4276-9136-9fe31d212434\" xlink:type=\"simple\"><rect fill=\"#FEFECE\" filter=\"url(#fmqhxmjq0qh6i)\" height=\"45.9375\" id=\"E2\" rx=\"10\" ry=\"10\" style=\"stroke: #A80036; stroke-width: 1.5;\" width=\"130\" x=\"7\" y=\"279\"/><ellipse cx=\"22\" cy=\"297.9688\" fill=\"#FFA500\" rx=\"11\" ry=\"11\" style=\"stroke: #A80036; stroke-width: 1.0;\"/><path d=\"M21.75,303.4375 Q20,303.4375 19.0469,302.4063 Q18.1094,301.3594 18.1094,299.5156 L18.1094,292.625 L20.1719,292.625 L20.1719,292.7813 Q20.0781,292.875 20.0469,293.0156 Q20.0313,293.1406 20.0313,293.4063 L20.0313,299.5313 Q20.0313,300.625 20.4063,301.25 Q20.7813,301.875 21.7656,301.875 Q22.75,301.875 23.1406,301.25 Q23.5313,300.625 23.5313,299.4844 L23.5313,292.625 L25.4063,292.625 L25.4063,299.4688 Q25.4063,301.5 24.375,302.4688 Q23.3594,303.4375 21.75,303.4375 Z \"/><text fill=\"#000000\" font-family=\"sans-serif\" font-size=\"12\" font-style=\"italic\" lengthAdjust=\"spacingAndGlyphs\" textLength=\"102\" x=\"34\" y=\"295.1387\">«decision node»</text><text fill=\"#000000\" font-family=\"sans-serif\" font-size=\"12\" lengthAdjust=\"spacingAndGlyphs\" textLength=\"35\" x=\"65.5\" y=\"309.1074\">test x</text><line style=\"stroke: #A80036; stroke-width: 1.5;\" x1=\"8\" x2=\"136\" y1=\"316.9375\" y2=\"316.9375\"/></a><!--MD5=[09b614a08d8cba4a07c9adeb5e0fee81]\n",
       "class E3--><a href=\"psysml:cc5b619c-f329-4ed7-9a64-7943d6ed9569\" target=\"_top\" title=\"psysml:cc5b619c-f329-4ed7-9a64-7943d6ed9569\" xlink:actuate=\"onRequest\" xlink:href=\"psysml:cc5b619c-f329-4ed7-9a64-7943d6ed9569\" xlink:show=\"new\" xlink:title=\"psysml:cc5b619c-f329-4ed7-9a64-7943d6ed9569\" xlink:type=\"simple\"><rect fill=\"#FEFECE\" filter=\"url(#fmqhxmjq0qh6i)\" height=\"45.9375\" id=\"E3\" rx=\"10\" ry=\"10\" style=\"stroke: #A80036; stroke-width: 1.5;\" width=\"130\" x=\"172\" y=\"279\"/><ellipse cx=\"187\" cy=\"297.9688\" fill=\"#FFA500\" rx=\"11\" ry=\"11\" style=\"stroke: #A80036; stroke-width: 1.0;\"/><path d=\"M186.75,303.4375 Q185,303.4375 184.0469,302.4063 Q183.1094,301.3594 183.1094,299.5156 L183.1094,292.625 L185.1719,292.625 L185.1719,292.7813 Q185.0781,292.875 185.0469,293.0156 Q185.0313,293.1406 185.0313,293.4063 L185.0313,299.5313 Q185.0313,300.625 185.4063,301.25 Q185.7813,301.875 186.7656,301.875 Q187.75,301.875 188.1406,301.25 Q188.5313,300.625 188.5313,299.4844 L188.5313,292.625 L190.4063,292.625 L190.4063,299.4688 Q190.4063,301.5 189.375,302.4688 Q188.3594,303.4375 186.75,303.4375 Z \"/><text fill=\"#000000\" font-family=\"sans-serif\" font-size=\"12\" font-style=\"italic\" lengthAdjust=\"spacingAndGlyphs\" textLength=\"102\" x=\"199\" y=\"295.1387\">«decision node»</text><text fill=\"#000000\" font-family=\"sans-serif\" font-size=\"12\" lengthAdjust=\"spacingAndGlyphs\" text-decoration=\"line-through\" textLength=\"51\" x=\"222.5\" y=\"309.1074\">noname</text><text fill=\"#000000\" font-family=\"sans-serif\" font-size=\"12\" lengthAdjust=\"spacingAndGlyphs\" textLength=\"0\" x=\"277.5\" y=\"309.1074\"/><line style=\"stroke: #A80036; stroke-width: 1.5;\" x1=\"173\" x2=\"301\" y1=\"316.9375\" y2=\"316.9375\"/></a><!--MD5=[ebbe1d658d1005bcc118a6aa81145e00]\n",
       "class E4--><a href=\"psysml:bb8ae358-9e9d-46e4-9973-23f4ed00e117\" target=\"_top\" title=\"psysml:bb8ae358-9e9d-46e4-9973-23f4ed00e117\" xlink:actuate=\"onRequest\" xlink:href=\"psysml:bb8ae358-9e9d-46e4-9973-23f4ed00e117\" xlink:show=\"new\" xlink:title=\"psysml:bb8ae358-9e9d-46e4-9973-23f4ed00e117\" xlink:type=\"simple\"><rect fill=\"#FEFECE\" filter=\"url(#fmqhxmjq0qh6i)\" height=\"45.9375\" id=\"E4\" rx=\"10\" ry=\"10\" style=\"stroke: #A80036; stroke-width: 1.5;\" width=\"81\" x=\"337.5\" y=\"279\"/><ellipse cx=\"352.5\" cy=\"297.9688\" fill=\"#FFA500\" rx=\"11\" ry=\"11\" style=\"stroke: #A80036; stroke-width: 1.0;\"/><path d=\"M352.25,303.4375 Q350.5,303.4375 349.5469,302.4063 Q348.6094,301.3594 348.6094,299.5156 L348.6094,292.625 L350.6719,292.625 L350.6719,292.7813 Q350.5781,292.875 350.5469,293.0156 Q350.5313,293.1406 350.5313,293.4063 L350.5313,299.5313 Q350.5313,300.625 350.9063,301.25 Q351.2813,301.875 352.2656,301.875 Q353.25,301.875 353.6406,301.25 Q354.0313,300.625 354.0313,299.4844 L354.0313,292.625 L355.9063,292.625 L355.9063,299.4688 Q355.9063,301.5 354.875,302.4688 Q353.8594,303.4375 352.25,303.4375 Z \"/><text fill=\"#000000\" font-family=\"sans-serif\" font-size=\"12\" font-style=\"italic\" lengthAdjust=\"spacingAndGlyphs\" textLength=\"53\" x=\"364.5\" y=\"295.1387\">«action»</text><text fill=\"#000000\" font-family=\"sans-serif\" font-size=\"12\" lengthAdjust=\"spacingAndGlyphs\" textLength=\"16\" x=\"381\" y=\"309.1074\">A1</text><line style=\"stroke: #A80036; stroke-width: 1.5;\" x1=\"338.5\" x2=\"417.5\" y1=\"316.9375\" y2=\"316.9375\"/></a><!--MD5=[270fce915f116d4de14055a7c1d9a0f3]\n",
       "class E5--><a href=\"psysml:e7f91728-bf49-43a2-b90b-9012c9afe2c4\" target=\"_top\" title=\"psysml:e7f91728-bf49-43a2-b90b-9012c9afe2c4\" xlink:actuate=\"onRequest\" xlink:href=\"psysml:e7f91728-bf49-43a2-b90b-9012c9afe2c4\" xlink:show=\"new\" xlink:title=\"psysml:e7f91728-bf49-43a2-b90b-9012c9afe2c4\" xlink:type=\"simple\"><rect fill=\"#FEFECE\" filter=\"url(#fmqhxmjq0qh6i)\" height=\"45.9375\" id=\"E5\" rx=\"10\" ry=\"10\" style=\"stroke: #A80036; stroke-width: 1.5;\" width=\"81\" x=\"453.5\" y=\"279\"/><ellipse cx=\"468.5\" cy=\"297.9688\" fill=\"#FFA500\" rx=\"11\" ry=\"11\" style=\"stroke: #A80036; stroke-width: 1.0;\"/><path d=\"M468.25,303.4375 Q466.5,303.4375 465.5469,302.4063 Q464.6094,301.3594 464.6094,299.5156 L464.6094,292.625 L466.6719,292.625 L466.6719,292.7813 Q466.5781,292.875 466.5469,293.0156 Q466.5313,293.1406 466.5313,293.4063 L466.5313,299.5313 Q466.5313,300.625 466.9063,301.25 Q467.2813,301.875 468.2656,301.875 Q469.25,301.875 469.6406,301.25 Q470.0313,300.625 470.0313,299.4844 L470.0313,292.625 L471.9063,292.625 L471.9063,299.4688 Q471.9063,301.5 470.875,302.4688 Q469.8594,303.4375 468.25,303.4375 Z \"/><text fill=\"#000000\" font-family=\"sans-serif\" font-size=\"12\" font-style=\"italic\" lengthAdjust=\"spacingAndGlyphs\" textLength=\"53\" x=\"480.5\" y=\"295.1387\">«action»</text><text fill=\"#000000\" font-family=\"sans-serif\" font-size=\"12\" lengthAdjust=\"spacingAndGlyphs\" textLength=\"16\" x=\"497\" y=\"309.1074\">A2</text><line style=\"stroke: #A80036; stroke-width: 1.5;\" x1=\"454.5\" x2=\"533.5\" y1=\"316.9375\" y2=\"316.9375\"/></a><!--MD5=[60a26617385b1d2d0262a64233df1f8d]\n",
       "class E6--><a href=\"psysml:0d8578a4-a91e-4bc0-9576-e9210611ea53\" target=\"_top\" title=\"psysml:0d8578a4-a91e-4bc0-9576-e9210611ea53\" xlink:actuate=\"onRequest\" xlink:href=\"psysml:0d8578a4-a91e-4bc0-9576-e9210611ea53\" xlink:show=\"new\" xlink:title=\"psysml:0d8578a4-a91e-4bc0-9576-e9210611ea53\" xlink:type=\"simple\"><rect fill=\"#FEFECE\" filter=\"url(#fmqhxmjq0qh6i)\" height=\"45.9375\" id=\"E6\" rx=\"10\" ry=\"10\" style=\"stroke: #A80036; stroke-width: 1.5;\" width=\"81\" x=\"569.5\" y=\"279\"/><ellipse cx=\"584.5\" cy=\"297.9688\" fill=\"#FFA500\" rx=\"11\" ry=\"11\" style=\"stroke: #A80036; stroke-width: 1.0;\"/><path d=\"M584.25,303.4375 Q582.5,303.4375 581.5469,302.4063 Q580.6094,301.3594 580.6094,299.5156 L580.6094,292.625 L582.6719,292.625 L582.6719,292.7813 Q582.5781,292.875 582.5469,293.0156 Q582.5313,293.1406 582.5313,293.4063 L582.5313,299.5313 Q582.5313,300.625 582.9063,301.25 Q583.2813,301.875 584.2656,301.875 Q585.25,301.875 585.6406,301.25 Q586.0313,300.625 586.0313,299.4844 L586.0313,292.625 L587.9063,292.625 L587.9063,299.4688 Q587.9063,301.5 586.875,302.4688 Q585.8594,303.4375 584.25,303.4375 Z \"/><text fill=\"#000000\" font-family=\"sans-serif\" font-size=\"12\" font-style=\"italic\" lengthAdjust=\"spacingAndGlyphs\" textLength=\"53\" x=\"596.5\" y=\"295.1387\">«action»</text><text fill=\"#000000\" font-family=\"sans-serif\" font-size=\"12\" lengthAdjust=\"spacingAndGlyphs\" textLength=\"16\" x=\"613\" y=\"309.1074\">A3</text><line style=\"stroke: #A80036; stroke-width: 1.5;\" x1=\"570.5\" x2=\"649.5\" y1=\"316.9375\" y2=\"316.9375\"/></a><!--MD5=[a523cb2a0b79ecf9065ad8783f96c320]\n",
       "reverse link E1 to E2--><a href=\"psysml:61bbaf95-6b35-4ea8-9656-8ce08595131a\" target=\"_top\" title=\"psysml:61bbaf95-6b35-4ea8-9656-8ce08595131a\" xlink:actuate=\"onRequest\" xlink:href=\"psysml:61bbaf95-6b35-4ea8-9656-8ce08595131a\" xlink:show=\"new\" xlink:title=\"psysml:61bbaf95-6b35-4ea8-9656-8ce08595131a\" xlink:type=\"simple\"><path d=\"M367.95,148.96 C293.81,187.05 177.47,246.82 115.03,278.89 \" fill=\"none\" id=\"E1&lt;-E2\" style=\"stroke: #A80036; stroke-width: 1.0;\"/><polygon fill=\"#A80036\" points=\"379.92,142.81,372.7553,141.9929,369.2455,148.2922,376.4101,149.1093,379.92,142.81\" style=\"stroke: #A80036; stroke-width: 1.0;\"/></a><!--MD5=[5d7b3810b1dd9b5164bea1151b29b665]\n",
       "reverse link E1 to E3--><a href=\"psysml:1be4164a-e759-487d-bef2-3f3fc6c6ee3e\" target=\"_top\" title=\"psysml:1be4164a-e759-487d-bef2-3f3fc6c6ee3e\" xlink:actuate=\"onRequest\" xlink:href=\"psysml:1be4164a-e759-487d-bef2-3f3fc6c6ee3e\" xlink:show=\"new\" xlink:title=\"psysml:1be4164a-e759-487d-bef2-3f3fc6c6ee3e\" xlink:type=\"simple\"><path d=\"M369.86,176.15 C332.18,211.56 287.28,253.75 260.51,278.91 \" fill=\"none\" id=\"E1&lt;-E3\" style=\"stroke: #A80036; stroke-width: 1.0;\"/><polygon fill=\"#A80036\" points=\"379.77,166.84,372.6584,168.0337,371.025,175.0574,378.1366,173.8637,379.77,166.84\" style=\"stroke: #A80036; stroke-width: 1.0;\"/></a><!--MD5=[f2c5c03aa1e8c0ba21c10a05e6444b8e]\n",
       "reverse link E1 to E4--><a href=\"psysml:ea8ec5e3-dd0d-4201-a2d4-45f385d409e8\" target=\"_top\" title=\"psysml:ea8ec5e3-dd0d-4201-a2d4-45f385d409e8\" xlink:actuate=\"onRequest\" xlink:href=\"psysml:ea8ec5e3-dd0d-4201-a2d4-45f385d409e8\" xlink:show=\"new\" xlink:title=\"psysml:ea8ec5e3-dd0d-4201-a2d4-45f385d409e8\" xlink:type=\"simple\"><path d=\"M399.46,231.82 C393.9,249.74 388.74,266.38 384.87,278.84 \" fill=\"none\" id=\"E1&lt;-E4\" style=\"stroke: #A80036; stroke-width: 1.0;\"/><polygon fill=\"#A80036\" points=\"403.36,219.25,397.7599,223.793,399.7995,230.7096,405.3996,226.1666,403.36,219.25\" style=\"stroke: #A80036; stroke-width: 1.0;\"/><text fill=\"#000000\" font-family=\"sans-serif\" font-size=\"13\" lengthAdjust=\"spacingAndGlyphs\" textLength=\"7\" x=\"378.7336\" y=\"268.0753\">*</text></a><!--MD5=[33238bef88d6431a141d8bc8fb12bca0]\n",
       "reverse link E1 to E5--><a href=\"psysml:8b3fb5b8-4ae2-4666-9331-7642784b574c\" target=\"_top\" title=\"psysml:8b3fb5b8-4ae2-4666-9331-7642784b574c\" xlink:actuate=\"onRequest\" xlink:href=\"psysml:8b3fb5b8-4ae2-4666-9331-7642784b574c\" xlink:show=\"new\" xlink:title=\"psysml:8b3fb5b8-4ae2-4666-9331-7642784b574c\" xlink:type=\"simple\"><path d=\"M472.54,231.82 C478.1,249.74 483.26,266.38 487.13,278.84 \" fill=\"none\" id=\"E1&lt;-E5\" style=\"stroke: #A80036; stroke-width: 1.0;\"/><polygon fill=\"#A80036\" points=\"468.64,219.25,466.6004,226.1666,472.2005,230.7096,474.2401,223.793,468.64,219.25\" style=\"stroke: #A80036; stroke-width: 1.0;\"/><text fill=\"#000000\" font-family=\"sans-serif\" font-size=\"13\" lengthAdjust=\"spacingAndGlyphs\" textLength=\"7\" x=\"477.4727\" y=\"268.0753\">*</text></a><!--MD5=[aca2ef284c2b1b90e17e73bf3f292c07]\n",
       "reverse link E1 to E6--><a href=\"psysml:a8437b79-0ca7-4b3d-9ccd-1b1fd90c9a28\" target=\"_top\" title=\"psysml:a8437b79-0ca7-4b3d-9ccd-1b1fd90c9a28\" xlink:actuate=\"onRequest\" xlink:href=\"psysml:a8437b79-0ca7-4b3d-9ccd-1b1fd90c9a28\" xlink:show=\"new\" xlink:title=\"psysml:a8437b79-0ca7-4b3d-9ccd-1b1fd90c9a28\" xlink:type=\"simple\"><path d=\"M500.83,197.3 C528.31,227.27 558.87,258.65 580.88,278.93 \" fill=\"none\" id=\"E1&lt;-E6\" style=\"stroke: #A80036; stroke-width: 1.0;\"/><polygon fill=\"#A80036\" points=\"492.03,187.64,493.1073,194.7702,500.1034,196.5181,499.0261,189.3879,492.03,187.64\" style=\"stroke: #A80036; stroke-width: 1.0;\"/><text fill=\"#000000\" font-family=\"sans-serif\" font-size=\"13\" lengthAdjust=\"spacingAndGlyphs\" textLength=\"7\" x=\"565.1134\" y=\"267.8075\">*</text></a><!--MD5=[aca2ef284c2b1b90e17e73bf3f292c07]\n",
       "reverse link E1 to E6--><a href=\"psysml:df3b65d4-7483-4b88-b5f9-cbf727def8cf\" target=\"_top\" title=\"psysml:df3b65d4-7483-4b88-b5f9-cbf727def8cf\" xlink:actuate=\"onRequest\" xlink:href=\"psysml:df3b65d4-7483-4b88-b5f9-cbf727def8cf\" xlink:show=\"new\" xlink:title=\"psysml:df3b65d4-7483-4b88-b5f9-cbf727def8cf\" xlink:type=\"simple\"><path d=\"M503.13,172.58 C538.6,208.67 578.54,252.85 598.5,278.86 \" fill=\"none\" id=\"E1&lt;-E6-1\" style=\"stroke: #A80036; stroke-width: 1.0; stroke-dasharray: 7.0,7.0;\"/><ellipse cx=\"497.9378\" cy=\"167.3459\" fill=\"#FFFFFF\" rx=\"8\" ry=\"8\" style=\"stroke: #A80036; stroke-width: 1.0;\"/><line style=\"stroke: #A80036; stroke-width: 1.0;\" x1=\"503.5756\" x2=\"492.3\" y1=\"173.0217\" y2=\"161.67\"/><line style=\"stroke: #A80036; stroke-width: 1.0;\" x1=\"492.2619\" x2=\"503.6136\" y1=\"172.9836\" y2=\"161.7081\"/><text fill=\"#000000\" font-family=\"sans-serif\" font-size=\"13\" lengthAdjust=\"spacingAndGlyphs\" textLength=\"7\" x=\"587.6563\" y=\"268.1004\">*</text></a><!--MD5=[dfd11fc1e34edec4fd7714dc1fce6e40]\n",
       "@startuml\r\n",
       " \r\n",
       "comp def \"DecisionTest\" as E1 << <<(B,lemonchiffon) action  def>> [[psysml:62ac371c-e17a-420d-a580-1aab63005ed6 ]] {\r\n",
       "- - attributes - -\r\n",
       "x= 1; \r\n",
       "- - successions - -\r\n",
       " then \r\n",
       "- - transitions - -\r\n",
       "\r\n",
       "\r\n",
       "\r\n",
       "\r\n",
       "\r\n",
       "\r\n",
       "S\r\n",
       "}\r\n",
       "comp usage \"test x \" as E2 << <<(U,orange) decision node>> [[psysml:2e150d19-c5c5-4276-9136-9fe31d212434 ]] {\r\n",
       "}\r\n",
       "comp usage \"<s>noname</s> \" as E3 << <<(U,orange) decision node>> [[psysml:cc5b619c-f329-4ed7-9a64-7943d6ed9569 ]] {\r\n",
       "}\r\n",
       "comp usage \"A1 \" as E4 << <<(U,orange) action>> [[psysml:bb8ae358-9e9d-46e4-9973-23f4ed00e117 ]] {\r\n",
       "}\r\n",
       "comp usage \"A2 \" as E5 << <<(U,orange) action>> [[psysml:e7f91728-bf49-43a2-b90b-9012c9afe2c4 ]] {\r\n",
       "}\r\n",
       "comp usage \"A3 \" as E6 << <<(U,orange) action>> [[psysml:0d8578a4-a91e-4bc0-9576-e9210611ea53 ]] {\r\n",
       "}\r\n",
       "E1 *- - E2 [[psysml:61bbaf95-6b35-4ea8-9656-8ce08595131a ]] \r\n",
       "E1 *- - E3 [[psysml:1be4164a-e759-487d-bef2-3f3fc6c6ee3e ]] \r\n",
       "E1 *- - \"*\"E4 [[psysml:ea8ec5e3-dd0d-4201-a2d4-45f385d409e8 ]] \r\n",
       "E1 *- - \"*\"E5 [[psysml:8b3fb5b8-4ae2-4666-9331-7642784b574c ]] \r\n",
       "E1 *- - \"*\"E6 [[psysml:a8437b79-0ca7-4b3d-9ccd-1b1fd90c9a28 ]] \r\n",
       "E1 +.. \"*\"E6 [[psysml:df3b65d4-7483-4b88-b5f9-cbf727def8cf ]] \r\n",
       "@enduml\r\n",
       "\n",
       "PlantUML version 1.2020.13(Sat Jun 13 12:26:38 UTC 2020)\n",
       "(EPL source distribution)\n",
       "Java Runtime: OpenJDK Runtime Environment\n",
       "JVM: OpenJDK 64-Bit Server VM\n",
       "Default Encoding: UTF-8\n",
       "Language: en\n",
       "Country: null\n",
       "--></g></svg>"
      ]
     },
     "execution_count": 31,
     "metadata": {},
     "output_type": "execute_result"
    }
   ],
   "source": [
    "%viz --style=\"PLANTUML\" --view=\"Tree\" \"DecisionTest\""
   ]
  },
  {
   "cell_type": "code",
   "execution_count": 32,
   "id": "dd7a4122",
   "metadata": {
    "execution": {
     "iopub.execute_input": "2022-03-21T07:51:01.526231Z",
     "iopub.status.busy": "2022-03-21T07:51:01.525653Z",
     "iopub.status.idle": "2022-03-21T07:51:01.605503Z",
     "shell.execute_reply": "2022-03-21T07:51:01.604193Z"
    }
   },
   "outputs": [
    {
     "data": {
      "image/svg+xml": [
       "<?xml version=\"1.0\" encoding=\"UTF-8\" standalone=\"no\"?><svg xmlns=\"http://www.w3.org/2000/svg\" xmlns:xlink=\"http://www.w3.org/1999/xlink\" contentScriptType=\"application/ecmascript\" contentStyleType=\"text/css\" height=\"300px\" preserveAspectRatio=\"none\" style=\"width:603px;height:300px;background:#000000;\" version=\"1.1\" viewBox=\"0 0 603 300\" width=\"603px\" zoomAndPan=\"magnify\"><defs/><g><rect fill=\"#201C20\" height=\"1\" style=\"stroke: #201C20; stroke-width: 1.0;\" width=\"1\" x=\"0\" y=\"0\"/><rect fill=\"#FFFFFF\" height=\"202.8012\" style=\"stroke: #FFFFFF; stroke-width: 1.0;\" width=\"602\" x=\"0\" y=\"0\"/><text fill=\"#000000\" font-family=\"sans-serif\" font-size=\"12\" font-weight=\"bold\" lengthAdjust=\"spacingAndGlyphs\" textLength=\"139\" x=\"5\" y=\"16.1387\">Welcome to PlantUML!</text><text fill=\"#000000\" font-family=\"sans-serif\" font-size=\"12\" lengthAdjust=\"spacingAndGlyphs\" textLength=\"0\" x=\"9\" y=\"30.1074\"/><text fill=\"#000000\" font-family=\"sans-serif\" font-size=\"12\" lengthAdjust=\"spacingAndGlyphs\" textLength=\"293\" x=\"5\" y=\"44.0762\">If you use this software, you accept its license.</text><text fill=\"#000000\" font-family=\"sans-serif\" font-size=\"12\" lengthAdjust=\"spacingAndGlyphs\" textLength=\"107\" x=\"5\" y=\"58.0449\">(details by typing</text><text fill=\"#000000\" font-family=\"monospace\" font-size=\"12\" lengthAdjust=\"spacingAndGlyphs\" textLength=\"42\" x=\"116\" y=\"58.595\">license</text><text fill=\"#000000\" font-family=\"sans-serif\" font-size=\"12\" lengthAdjust=\"spacingAndGlyphs\" textLength=\"56\" x=\"162\" y=\"58.0449\">keyword)</text><text fill=\"#000000\" font-family=\"sans-serif\" font-size=\"12\" lengthAdjust=\"spacingAndGlyphs\" textLength=\"0\" x=\"9\" y=\"72.0137\"/><text fill=\"#000000\" font-family=\"sans-serif\" font-size=\"12\" lengthAdjust=\"spacingAndGlyphs\" textLength=\"283\" x=\"5\" y=\"85.9824\">You can start with a simple UML Diagram like:</text><text fill=\"#000000\" font-family=\"sans-serif\" font-size=\"12\" lengthAdjust=\"spacingAndGlyphs\" textLength=\"0\" x=\"9\" y=\"99.9512\"/><text fill=\"#000000\" font-family=\"monospace\" font-size=\"12\" lengthAdjust=\"spacingAndGlyphs\" textLength=\"102\" x=\"5\" y=\"113.0893\">Bob-&gt;Alice: Hello</text><text fill=\"#000000\" font-family=\"sans-serif\" font-size=\"12\" lengthAdjust=\"spacingAndGlyphs\" textLength=\"0\" x=\"9\" y=\"126.508\"/><text fill=\"#000000\" font-family=\"sans-serif\" font-size=\"12\" lengthAdjust=\"spacingAndGlyphs\" textLength=\"14\" x=\"5\" y=\"140.4768\">Or</text><text fill=\"#000000\" font-family=\"sans-serif\" font-size=\"12\" lengthAdjust=\"spacingAndGlyphs\" textLength=\"0\" x=\"9\" y=\"154.4455\"/><text fill=\"#000000\" font-family=\"monospace\" font-size=\"12\" lengthAdjust=\"spacingAndGlyphs\" textLength=\"78\" x=\"5\" y=\"167.5837\">class Example</text><text fill=\"#000000\" font-family=\"sans-serif\" font-size=\"12\" lengthAdjust=\"spacingAndGlyphs\" textLength=\"0\" x=\"9\" y=\"181.0023\"/><text fill=\"#000000\" font-family=\"sans-serif\" font-size=\"12\" lengthAdjust=\"spacingAndGlyphs\" textLength=\"349\" x=\"5\" y=\"194.9711\">You will find more information about PlantUML syntax on</text><text fill=\"#000000\" font-family=\"sans-serif\" font-size=\"12\" lengthAdjust=\"spacingAndGlyphs\" text-decoration=\"underline\" textLength=\"129\" x=\"358\" y=\"194.9711\">https://plantuml.com</text><image height=\"71\" width=\"80\" x=\"516\" xlink:href=\"data:image/png;base64,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\" y=\"6\"/><rect fill=\"#000000\" height=\"96.4844\" style=\"stroke: #000000; stroke-width: 1.0;\" width=\"602\" x=\"0\" y=\"202.8012\"/><rect fill=\"#33FF02\" height=\"21.2969\" style=\"stroke: #33FF02; stroke-width: 1.0;\" width=\"145\" x=\"5\" y=\"207.8012\"/><text fill=\"#000000\" font-family=\"sans-serif\" font-size=\"14\" font-weight=\"bold\" lengthAdjust=\"spacingAndGlyphs\" textLength=\"143\" x=\"6\" y=\"222.8012\">[From string (line 2) ]</text><text fill=\"#33FF02\" font-family=\"sans-serif\" font-size=\"14\" font-weight=\"bold\" lengthAdjust=\"spacingAndGlyphs\" textLength=\"0\" x=\"9\" y=\"243.0981\"/><text fill=\"#33FF02\" font-family=\"sans-serif\" font-size=\"14\" font-weight=\"bold\" lengthAdjust=\"spacingAndGlyphs\" textLength=\"70\" x=\"5\" y=\"259.3949\">@startuml</text><text fill=\"#33FF02\" font-family=\"sans-serif\" font-size=\"14\" font-weight=\"bold\" lengthAdjust=\"spacingAndGlyphs\" textLength=\"0\" x=\"9\" y=\"275.6918\"/><text fill=\"#FF0000\" font-family=\"sans-serif\" font-size=\"14\" font-weight=\"bold\" lengthAdjust=\"spacingAndGlyphs\" textLength=\"124\" x=\"9\" y=\"291.9887\">Empty description</text><!--MD5=[f59edd8218d337f74d0c332fc6737304]\n",
       "@startuml\r\n",
       " \r\n",
       "@enduml\r\n",
       "\n",
       "PlantUML version 1.2020.13(Sat Jun 13 12:26:38 UTC 2020)\n",
       "(EPL source distribution)\n",
       "Java Runtime: OpenJDK Runtime Environment\n",
       "JVM: OpenJDK 64-Bit Server VM\n",
       "Default Encoding: UTF-8\n",
       "Language: en\n",
       "Country: null\n",
       "--></g></svg>"
      ]
     },
     "execution_count": 32,
     "metadata": {},
     "output_type": "execute_result"
    }
   ],
   "source": [
    "%viz --style=\"PLANTUML\" --view=\"State\" \"DecisionTest\""
   ]
  },
  {
   "cell_type": "code",
   "execution_count": 33,
   "id": "243e223f",
   "metadata": {
    "execution": {
     "iopub.execute_input": "2022-03-21T07:51:01.654809Z",
     "iopub.status.busy": "2022-03-21T07:51:01.654376Z",
     "iopub.status.idle": "2022-03-21T07:51:01.687821Z",
     "shell.execute_reply": "2022-03-21T07:51:01.687424Z"
    }
   },
   "outputs": [
    {
     "data": {
      "image/svg+xml": [
       "<?xml version=\"1.0\" encoding=\"UTF-8\" standalone=\"no\"?><svg xmlns=\"http://www.w3.org/2000/svg\" xmlns:xlink=\"http://www.w3.org/1999/xlink\" contentScriptType=\"application/ecmascript\" contentStyleType=\"text/css\" height=\"364px\" preserveAspectRatio=\"none\" style=\"width:367px;height:364px;\" version=\"1.1\" viewBox=\"0 0 367 364\" width=\"367px\" zoomAndPan=\"magnify\"><defs><filter height=\"300%\" id=\"ffpgp680v937o\" width=\"300%\" x=\"-1\" y=\"-1\"><feGaussianBlur result=\"blurOut\" stdDeviation=\"2.0\"/><feColorMatrix in=\"blurOut\" result=\"blurOut2\" type=\"matrix\" values=\"0 0 0 0 0 0 0 0 0 0 0 0 0 0 0 0 0 0 .4 0\"/><feOffset dx=\"4.0\" dy=\"4.0\" in=\"blurOut2\" result=\"blurOut3\"/><feBlend in=\"SourceGraphic\" in2=\"blurOut3\" mode=\"normal\"/></filter></defs><g><!--MD5=[fbc87193dbaf4d95561dea2c320d4a47]\n",
       "cluster E1--><a href=\"psysml:62ac371c-e17a-420d-a580-1aab63005ed6\" target=\"_top\" title=\"psysml:62ac371c-e17a-420d-a580-1aab63005ed6\" xlink:actuate=\"onRequest\" xlink:href=\"psysml:62ac371c-e17a-420d-a580-1aab63005ed6\" xlink:show=\"new\" xlink:title=\"psysml:62ac371c-e17a-420d-a580-1aab63005ed6\" xlink:type=\"simple\"><rect fill=\"#FFFFFF\" filter=\"url(#ffpgp680v937o)\" height=\"338\" id=\"E1\" style=\"stroke: #A80036; stroke-width: 1.5;\" width=\"341\" x=\"7\" y=\"7\"/><rect fill=\"#FEFECE\" height=\"37.9375\" style=\"stroke: #A80036; stroke-width: 1.5;\" width=\"341\" x=\"7\" y=\"7\"/><text fill=\"#000000\" font-family=\"sans-serif\" font-size=\"12\" font-style=\"italic\" lengthAdjust=\"spacingAndGlyphs\" textLength=\"81\" x=\"137\" y=\"23.1387\">«action  def»</text><text fill=\"#000000\" font-family=\"sans-serif\" font-size=\"12\" lengthAdjust=\"spacingAndGlyphs\" textLength=\"80\" x=\"137.5\" y=\"37.1074\">DecisionTest</text></a><polygon fill=\"#FEFECE\" filter=\"url(#ffpgp680v937o)\" points=\"210,67.5,222,79.5,210,91.5,198,79.5,210,67.5\" style=\"stroke: #A80036; stroke-width: 1.5;\"/><polygon fill=\"#FEFECE\" filter=\"url(#ffpgp680v937o)\" points=\"35,143.5,47,155.5,35,167.5,23,155.5,35,143.5\" style=\"stroke: #A80036; stroke-width: 1.5;\"/><g id=\"E1.E4\"><a href=\"psysml:bb8ae358-9e9d-46e4-9973-23f4ed00e117\" target=\"_top\" title=\"psysml:bb8ae358-9e9d-46e4-9973-23f4ed00e117\" xlink:actuate=\"onRequest\" xlink:href=\"psysml:bb8ae358-9e9d-46e4-9973-23f4ed00e117\" xlink:show=\"new\" xlink:title=\"psysml:bb8ae358-9e9d-46e4-9973-23f4ed00e117\" xlink:type=\"simple\"><rect fill=\"#FEFECE\" filter=\"url(#ffpgp680v937o)\" height=\"42.9375\" id=\"E4\" rx=\"10\" ry=\"10\" style=\"stroke: #A80036; stroke-width: 1.5;\" width=\"86\" x=\"135\" y=\"210\"/><ellipse cx=\"152.25\" cy=\"228.9688\" fill=\"#FFA500\" rx=\"11\" ry=\"11\" style=\"stroke: #A80036; stroke-width: 1.0;\"/><path d=\"M152,234.4375 Q150.25,234.4375 149.2969,233.4063 Q148.3594,232.3594 148.3594,230.5156 L148.3594,223.625 L150.4219,223.625 L150.4219,223.7813 Q150.3281,223.875 150.2969,224.0156 Q150.2813,224.1406 150.2813,224.4063 L150.2813,230.5313 Q150.2813,231.625 150.6563,232.25 Q151.0313,232.875 152.0156,232.875 Q153,232.875 153.3906,232.25 Q153.7813,231.625 153.7813,230.4844 L153.7813,223.625 L155.6563,223.625 L155.6563,230.4688 Q155.6563,232.5 154.625,233.4688 Q153.6094,234.4375 152,234.4375 Z \"/><text fill=\"#000000\" font-family=\"sans-serif\" font-size=\"12\" font-style=\"italic\" lengthAdjust=\"spacingAndGlyphs\" textLength=\"53\" x=\"164.75\" y=\"226.1387\">«action»</text><text fill=\"#000000\" font-family=\"sans-serif\" font-size=\"12\" lengthAdjust=\"spacingAndGlyphs\" textLength=\"16\" x=\"183.25\" y=\"240.1074\">A1</text></a></g><g id=\"E1.E5\"><a href=\"psysml:e7f91728-bf49-43a2-b90b-9012c9afe2c4\" target=\"_top\" title=\"psysml:e7f91728-bf49-43a2-b90b-9012c9afe2c4\" xlink:actuate=\"onRequest\" xlink:href=\"psysml:e7f91728-bf49-43a2-b90b-9012c9afe2c4\" xlink:show=\"new\" xlink:title=\"psysml:e7f91728-bf49-43a2-b90b-9012c9afe2c4\" xlink:type=\"simple\"><rect fill=\"#FEFECE\" filter=\"url(#ffpgp680v937o)\" height=\"42.9375\" id=\"E5\" rx=\"10\" ry=\"10\" style=\"stroke: #A80036; stroke-width: 1.5;\" width=\"86\" x=\"135\" y=\"286\"/><ellipse cx=\"152.25\" cy=\"304.9688\" fill=\"#FFA500\" rx=\"11\" ry=\"11\" style=\"stroke: #A80036; stroke-width: 1.0;\"/><path d=\"M152,310.4375 Q150.25,310.4375 149.2969,309.4063 Q148.3594,308.3594 148.3594,306.5156 L148.3594,299.625 L150.4219,299.625 L150.4219,299.7813 Q150.3281,299.875 150.2969,300.0156 Q150.2813,300.1406 150.2813,300.4063 L150.2813,306.5313 Q150.2813,307.625 150.6563,308.25 Q151.0313,308.875 152.0156,308.875 Q153,308.875 153.3906,308.25 Q153.7813,307.625 153.7813,306.4844 L153.7813,299.625 L155.6563,299.625 L155.6563,306.4688 Q155.6563,308.5 154.625,309.4688 Q153.6094,310.4375 152,310.4375 Z \"/><text fill=\"#000000\" font-family=\"sans-serif\" font-size=\"12\" font-style=\"italic\" lengthAdjust=\"spacingAndGlyphs\" textLength=\"53\" x=\"164.75\" y=\"302.1387\">«action»</text><text fill=\"#000000\" font-family=\"sans-serif\" font-size=\"12\" lengthAdjust=\"spacingAndGlyphs\" textLength=\"16\" x=\"183.25\" y=\"316.1074\">A2</text></a></g><g id=\"E1.E6\"><a href=\"psysml:0d8578a4-a91e-4bc0-9576-e9210611ea53\" target=\"_top\" title=\"psysml:0d8578a4-a91e-4bc0-9576-e9210611ea53\" xlink:actuate=\"onRequest\" xlink:href=\"psysml:0d8578a4-a91e-4bc0-9576-e9210611ea53\" xlink:show=\"new\" xlink:title=\"psysml:0d8578a4-a91e-4bc0-9576-e9210611ea53\" xlink:type=\"simple\"><rect fill=\"#FEFECE\" filter=\"url(#ffpgp680v937o)\" height=\"42.9375\" id=\"E6\" rx=\"10\" ry=\"10\" style=\"stroke: #A80036; stroke-width: 1.5;\" width=\"86\" x=\"50\" y=\"58\"/><ellipse cx=\"67.25\" cy=\"76.9688\" fill=\"#FFA500\" rx=\"11\" ry=\"11\" style=\"stroke: #A80036; stroke-width: 1.0;\"/><path d=\"M67,82.4375 Q65.25,82.4375 64.2969,81.4063 Q63.3594,80.3594 63.3594,78.5156 L63.3594,71.625 L65.4219,71.625 L65.4219,71.7813 Q65.3281,71.875 65.2969,72.0156 Q65.2813,72.1406 65.2813,72.4063 L65.2813,78.5313 Q65.2813,79.625 65.6563,80.25 Q66.0313,80.875 67.0156,80.875 Q68,80.875 68.3906,80.25 Q68.7813,79.625 68.7813,78.4844 L68.7813,71.625 L70.6563,71.625 L70.6563,78.4688 Q70.6563,80.5 69.625,81.4688 Q68.6094,82.4375 67,82.4375 Z \"/><text fill=\"#000000\" font-family=\"sans-serif\" font-size=\"12\" font-style=\"italic\" lengthAdjust=\"spacingAndGlyphs\" textLength=\"53\" x=\"79.75\" y=\"74.1387\">«action»</text><text fill=\"#000000\" font-family=\"sans-serif\" font-size=\"12\" lengthAdjust=\"spacingAndGlyphs\" textLength=\"16\" x=\"98.25\" y=\"88.1074\">A3</text></a></g><g id=\"E1.E7\"><a href=\"psysml:0d8578a4-a91e-4bc0-9576-e9210611ea53\" target=\"_top\" title=\"psysml:0d8578a4-a91e-4bc0-9576-e9210611ea53\" xlink:actuate=\"onRequest\" xlink:href=\"psysml:0d8578a4-a91e-4bc0-9576-e9210611ea53\" xlink:show=\"new\" xlink:title=\"psysml:0d8578a4-a91e-4bc0-9576-e9210611ea53\" xlink:type=\"simple\"><rect fill=\"#FEFECE\" filter=\"url(#ffpgp680v937o)\" height=\"42.9375\" id=\"E7\" rx=\"10\" ry=\"10\" style=\"stroke: #A80036; stroke-width: 1.5;\" width=\"86\" x=\"246\" y=\"134\"/><ellipse cx=\"263.25\" cy=\"152.9688\" fill=\"#FFA500\" rx=\"11\" ry=\"11\" style=\"stroke: #A80036; stroke-width: 1.0;\"/><path d=\"M263,158.4375 Q261.25,158.4375 260.2969,157.4063 Q259.3594,156.3594 259.3594,154.5156 L259.3594,147.625 L261.4219,147.625 L261.4219,147.7813 Q261.3281,147.875 261.2969,148.0156 Q261.2813,148.1406 261.2813,148.4063 L261.2813,154.5313 Q261.2813,155.625 261.6563,156.25 Q262.0313,156.875 263.0156,156.875 Q264,156.875 264.3906,156.25 Q264.7813,155.625 264.7813,154.4844 L264.7813,147.625 L266.6563,147.625 L266.6563,154.4688 Q266.6563,156.5 265.625,157.4688 Q264.6094,158.4375 263,158.4375 Z \"/><text fill=\"#000000\" font-family=\"sans-serif\" font-size=\"12\" font-style=\"italic\" lengthAdjust=\"spacingAndGlyphs\" textLength=\"53\" x=\"275.75\" y=\"150.1387\">«action»</text><text fill=\"#000000\" font-family=\"sans-serif\" font-size=\"12\" lengthAdjust=\"spacingAndGlyphs\" textLength=\"16\" x=\"294.25\" y=\"164.1074\">A3</text></a></g><!--MD5=[4d03bb2d0377dc85ccfab60ff574652b]\n",
       "link E2 to E4--><a href=\"psysml:8074e684-9dcd-4869-b14d-8570f637bde9\" target=\"_top\" title=\"psysml:8074e684-9dcd-4869-b14d-8570f637bde9\" xlink:actuate=\"onRequest\" xlink:href=\"psysml:8074e684-9dcd-4869-b14d-8570f637bde9\" xlink:show=\"new\" xlink:title=\"psysml:8074e684-9dcd-4869-b14d-8570f637bde9\" xlink:type=\"simple\"><path d=\"M201.97,84.07 C187.22,91.12 156.19,108.44 144,134 C135.78,151.25 138.66,158.65 144,177 C146.9,186.99 152.3,196.89 157.95,205.41 \" fill=\"none\" id=\"E2-&gt;E4\" style=\"stroke: #A80036; stroke-width: 1.0;\"/><polygon fill=\"#A80036\" points=\"161.1,209.99,159.2903,200.3088,158.2643,205.8719,152.7013,204.8459,161.1,209.99\" style=\"stroke: #A80036; stroke-width: 1.0;\"/><text fill=\"#000000\" font-family=\"sans-serif\" font-size=\"13\" lengthAdjust=\"spacingAndGlyphs\" textLength=\"55\" x=\"145\" y=\"160.0669\">[x == 1]</text><text fill=\"#000000\" font-family=\"sans-serif\" font-size=\"13\" lengthAdjust=\"spacingAndGlyphs\" textLength=\"7\" x=\"148.3625\" y=\"198.9253\">*</text></a><!--MD5=[dcad52bbbca2fe8adc741ce38b45dc12]\n",
       "link E2 to E5--><a href=\"psysml:3f3ee8aa-e9f7-416c-965c-8aff211aef79\" target=\"_top\" title=\"psysml:3f3ee8aa-e9f7-416c-965c-8aff211aef79\" xlink:actuate=\"onRequest\" xlink:href=\"psysml:3f3ee8aa-e9f7-416c-965c-8aff211aef79\" xlink:show=\"new\" xlink:title=\"psysml:3f3ee8aa-e9f7-416c-965c-8aff211aef79\" xlink:type=\"simple\"><path d=\"M210.68,91.05 C211.4,100.32 212.73,114.14 215,126 C219.41,149.09 222.48,154.42 229,177 C233.25,191.72 236.16,194.94 239,210 C243.21,232.34 242.11,238.28 243,261 C243.3,268.55 247.13,271.68 243,278 C238.78,284.45 232.75,289.45 226.03,293.33 \" fill=\"none\" id=\"E2-&gt;E5\" style=\"stroke: #A80036; stroke-width: 1.0;\"/><polygon fill=\"#A80036\" points=\"221.28,295.83,231.1075,295.1819,225.7055,293.503,227.3844,288.101,221.28,295.83\" style=\"stroke: #A80036; stroke-width: 1.0;\"/><text fill=\"#000000\" font-family=\"sans-serif\" font-size=\"13\" lengthAdjust=\"spacingAndGlyphs\" textLength=\"44\" x=\"238\" y=\"198.0669\">[x &gt; 1]</text><text fill=\"#000000\" font-family=\"sans-serif\" font-size=\"13\" lengthAdjust=\"spacingAndGlyphs\" textLength=\"7\" x=\"229.0279\" y=\"289.738\">*</text></a><!--MD5=[e3d2a08a9c9236652057e8ed0cbc9b62]\n",
       "link E2 to E7--><a href=\"psysml:5268f6a4-a59c-47f8-920f-30c5900c34c3\" target=\"_top\" title=\"psysml:5268f6a4-a59c-47f8-920f-30c5900c34c3\" xlink:actuate=\"onRequest\" xlink:href=\"psysml:5268f6a4-a59c-47f8-920f-30c5900c34c3\" xlink:show=\"new\" xlink:title=\"psysml:5268f6a4-a59c-47f8-920f-30c5900c34c3\" xlink:type=\"simple\"><path d=\"M213.08,88.8 C217.09,98.68 224.92,115.21 236,126 C237.78,127.73 239.68,129.39 241.67,130.97 \" fill=\"none\" id=\"E2-&gt;E7\" style=\"stroke: #A80036; stroke-width: 1.0;\"/><polygon fill=\"#A80036\" points=\"245.87,134.1,241.0503,125.511,241.8631,131.1092,236.265,131.922,245.87,134.1\" style=\"stroke: #A80036; stroke-width: 1.0;\"/><text fill=\"#000000\" font-family=\"sans-serif\" font-size=\"13\" lengthAdjust=\"spacingAndGlyphs\" textLength=\"7\" x=\"230.8555\" y=\"126.2165\">*</text></a><!--MD5=[583832df87f4419a098336a29a52fa00]\n",
       "link E7 to E2--><a href=\"psysml:1fcd52fd-d040-4c7e-90de-1e4181f9ba4a\" target=\"_top\" title=\"psysml:1fcd52fd-d040-4c7e-90de-1e4181f9ba4a\" xlink:actuate=\"onRequest\" xlink:href=\"psysml:1fcd52fd-d040-4c7e-90de-1e4181f9ba4a\" xlink:show=\"new\" xlink:title=\"psysml:1fcd52fd-d040-4c7e-90de-1e4181f9ba4a\" xlink:type=\"simple\"><path d=\"M266.81,133.71 C251.24,119.13 231.21,100.37 219.57,89.46 \" fill=\"none\" id=\"E7-&gt;E2\" style=\"stroke: #A80036; stroke-width: 1.0;\"/><polygon fill=\"#A80036\" points=\"215.68,85.82,219.5101,94.8936,219.3277,89.2397,224.9816,89.0573,215.68,85.82\" style=\"stroke: #A80036; stroke-width: 1.0;\"/><text fill=\"#000000\" font-family=\"sans-serif\" font-size=\"13\" lengthAdjust=\"spacingAndGlyphs\" textLength=\"44\" x=\"257\" y=\"122.0669\">[x &gt; 0]</text><text fill=\"#000000\" font-family=\"sans-serif\" font-size=\"13\" lengthAdjust=\"spacingAndGlyphs\" textLength=\"7\" x=\"210.8055\" y=\"111.4261\">*</text></a><!--MD5=[2720a5a1f2c3fca2055b230370638851]\n",
       "link E2 to E3--><a href=\"psysml:c0d6c8f2-adfa-4de5-8b53-fd445de20c7a\" target=\"_top\" title=\"psysml:c0d6c8f2-adfa-4de5-8b53-fd445de20c7a\" xlink:actuate=\"onRequest\" xlink:href=\"psysml:c0d6c8f2-adfa-4de5-8b53-fd445de20c7a\" xlink:show=\"new\" xlink:title=\"psysml:c0d6c8f2-adfa-4de5-8b53-fd445de20c7a\" xlink:type=\"simple\"><path d=\"M202.17,83.87 C191.47,88.37 171.6,96.29 154,101 C133.95,106.37 127.39,101.6 108,109 C83.93,118.19 59.16,135.65 45.55,146.07 \" fill=\"none\" id=\"E2-&gt;E3\" style=\"stroke: #A80036; stroke-width: 1.0;\"/><polygon fill=\"#A80036\" points=\"41.38,149.31,50.9381,146.9348,45.3245,146.2373,46.0219,140.6236,41.38,149.31\" style=\"stroke: #A80036; stroke-width: 1.0;\"/><text fill=\"#000000\" font-family=\"sans-serif\" font-size=\"13\" lengthAdjust=\"spacingAndGlyphs\" textLength=\"7\" x=\"51.507\" y=\"132.4127\">*</text></a><!--MD5=[af87c684e3b0d8be13c1a698a818ef1e]\n",
       "link E3 to E4--><a href=\"psysml:647fb379-8896-403f-81c0-e54862ace948\" target=\"_top\" title=\"psysml:647fb379-8896-403f-81c0-e54862ace948\" xlink:actuate=\"onRequest\" xlink:href=\"psysml:647fb379-8896-403f-81c0-e54862ace948\" xlink:show=\"new\" xlink:title=\"psysml:647fb379-8896-403f-81c0-e54862ace948\" xlink:type=\"simple\"><path d=\"M40.05,162.75 C48.27,172.51 65.48,191.36 84,202 C86.27,203.3 107.96,209.91 129.94,216.43 \" fill=\"none\" id=\"E3-&gt;E4\" style=\"stroke: #A80036; stroke-width: 1.0;\"/><polygon fill=\"#A80036\" points=\"134.92,217.9,127.4226,211.5133,130.125,216.483,125.1554,219.1853,134.92,217.9\" style=\"stroke: #A80036; stroke-width: 1.0;\"/><text fill=\"#000000\" font-family=\"sans-serif\" font-size=\"13\" lengthAdjust=\"spacingAndGlyphs\" textLength=\"36\" x=\"85\" y=\"198.0669\">[true]</text><text fill=\"#000000\" font-family=\"sans-serif\" font-size=\"13\" lengthAdjust=\"spacingAndGlyphs\" textLength=\"7\" x=\"119.9141\" y=\"211.3571\">*</text></a><!--MD5=[0188b64bb0ae78505a997a81836e11e9]\n",
       "link E3 to E5--><a href=\"psysml:1317e145-771b-48e4-a88c-08ae6f2caba6\" target=\"_top\" title=\"psysml:1317e145-771b-48e4-a88c-08ae6f2caba6\" xlink:actuate=\"onRequest\" xlink:href=\"psysml:1317e145-771b-48e4-a88c-08ae6f2caba6\" xlink:show=\"new\" xlink:title=\"psysml:1317e145-771b-48e4-a88c-08ae6f2caba6\" xlink:type=\"simple\"><path d=\"M36.78,165.88 C40.75,184.57 51.94,226.9 76,253 C90.74,268.99 111.37,281.06 130.23,289.64 \" fill=\"none\" id=\"E3-&gt;E5\" style=\"stroke: #A80036; stroke-width: 1.0;\"/><polygon fill=\"#A80036\" points=\"134.98,291.75,128.376,284.4433,130.4098,289.722,125.1311,291.7557,134.98,291.75\" style=\"stroke: #A80036; stroke-width: 1.0;\"/><text fill=\"#000000\" font-family=\"sans-serif\" font-size=\"13\" lengthAdjust=\"spacingAndGlyphs\" textLength=\"40\" x=\"77\" y=\"236.0669\">[false]</text><text fill=\"#000000\" font-family=\"sans-serif\" font-size=\"13\" lengthAdjust=\"spacingAndGlyphs\" textLength=\"7\" x=\"119.9844\" y=\"284.8376\">*</text></a><!--MD5=[1b7591eae5389033d8d09a9d6721a717]\n",
       "link E4 to E5--><a href=\"psysml:23f0aa3a-74d1-4632-9e57-f97d17e19ec4\" target=\"_top\" title=\"psysml:23f0aa3a-74d1-4632-9e57-f97d17e19ec4\" xlink:actuate=\"onRequest\" xlink:href=\"psysml:23f0aa3a-74d1-4632-9e57-f97d17e19ec4\" xlink:show=\"new\" xlink:title=\"psysml:23f0aa3a-74d1-4632-9e57-f97d17e19ec4\" xlink:type=\"simple\"><path d=\"M178,253.11 C178,261.69 178,271.75 178,280.8 \" fill=\"none\" id=\"E4-&gt;E5\" style=\"stroke: #A80036; stroke-width: 1.0;\"/><polygon fill=\"#A80036\" points=\"178,286,182,277,178,281,174,277,178,286\" style=\"stroke: #A80036; stroke-width: 1.0;\"/><text fill=\"#000000\" font-family=\"sans-serif\" font-size=\"13\" lengthAdjust=\"spacingAndGlyphs\" textLength=\"55\" x=\"179\" y=\"274.0669\">[x == 0]</text><text fill=\"#000000\" font-family=\"sans-serif\" font-size=\"13\" lengthAdjust=\"spacingAndGlyphs\" textLength=\"7\" x=\"170.0156\" y=\"274.9381\">*</text></a><!--MD5=[832de5df9f516e5fbd7bd8e7f71cd014]\n",
       "@startuml\r\n",
       "skinparam ranksep 10\r\n",
       "skinparam rectangle {\r\n",
       " backgroundColor<<block>> LightGreen\r\n",
       "}\r\n",
       " \r\n",
       "rec def \"DecisionTest\" as E1 << <<(B,lemonchiffon) action  def>> [[psysml:62ac371c-e17a-420d-a580-1aab63005ed6 ]] {\r\n",
       "choice \"test x\" as E2  [[psysml:2e150d19-c5c5-4276-9136-9fe31d212434 ]] \r\n",
       "choice \"<s>noname</s>\" as E3  [[psysml:cc5b619c-f329-4ed7-9a64-7943d6ed9569 ]] \r\n",
       "rec usage \"A1\" as E4 << <<(U,orange) action>> [[psysml:bb8ae358-9e9d-46e4-9973-23f4ed00e117 ]] {\r\n",
       "}\r\n",
       "\r\n",
       "rec usage \"A2\" as E5 << <<(U,orange) action>> [[psysml:e7f91728-bf49-43a2-b90b-9012c9afe2c4 ]] {\r\n",
       "}\r\n",
       "\r\n",
       "rec usage \"A3\" as E6 << <<(U,orange) action>> [[psysml:0d8578a4-a91e-4bc0-9576-e9210611ea53 ]] {\r\n",
       "}\r\n",
       "\r\n",
       "rec usage \"A3\" as E7 << <<(U,orange) action>> [[psysml:0d8578a4-a91e-4bc0-9576-e9210611ea53 ]] {\r\n",
       "}\r\n",
       "\r\n",
       "}\r\n",
       "\r\n",
       "E2  - -> \"*\"E4 [[psysml:8074e684-9dcd-4869-b14d-8570f637bde9 ]] : [x == 1]\r\n",
       "E2  - -> \"*\"E5 [[psysml:3f3ee8aa-e9f7-416c-965c-8aff211aef79 ]] : [x > 1]\r\n",
       "E2  - -> \"*\"E7 [[psysml:5268f6a4-a59c-47f8-920f-30c5900c34c3 ]] \r\n",
       "E2 - -> \"*\"E3 [[psysml:c0d6c8f2-adfa-4de5-8b53-fd445de20c7a ]] \r\n",
       "E3  - -> \"*\"E4 [[psysml:647fb379-8896-403f-81c0-e54862ace948 ]] : [true]\r\n",
       "E3  - -> \"*\"E5 [[psysml:1317e145-771b-48e4-a88c-08ae6f2caba6 ]] : [false]\r\n",
       "E4  - -> \"*\"E5 [[psysml:23f0aa3a-74d1-4632-9e57-f97d17e19ec4 ]] : [x == 0]\r\n",
       "E7  - -> \"*\"E2 [[psysml:1fcd52fd-d040-4c7e-90de-1e4181f9ba4a ]] : [x > 0]\r\n",
       "@enduml\r\n",
       "\n",
       "PlantUML version 1.2020.13(Sat Jun 13 12:26:38 UTC 2020)\n",
       "(EPL source distribution)\n",
       "Java Runtime: OpenJDK Runtime Environment\n",
       "JVM: OpenJDK 64-Bit Server VM\n",
       "Default Encoding: UTF-8\n",
       "Language: en\n",
       "Country: null\n",
       "--></g></svg>"
      ]
     },
     "execution_count": 33,
     "metadata": {},
     "output_type": "execute_result"
    }
   ],
   "source": [
    "%viz --style=\"PLANTUML\" --view=\"Interconnection\" \"DecisionTest\""
   ]
  },
  {
   "cell_type": "code",
   "execution_count": 34,
   "id": "ae1f0071",
   "metadata": {
    "execution": {
     "iopub.execute_input": "2022-03-21T07:51:01.736941Z",
     "iopub.status.busy": "2022-03-21T07:51:01.736536Z",
     "iopub.status.idle": "2022-03-21T07:51:01.773843Z",
     "shell.execute_reply": "2022-03-21T07:51:01.772417Z"
    }
   },
   "outputs": [
    {
     "data": {
      "image/svg+xml": [
       "<?xml version=\"1.0\" encoding=\"UTF-8\" standalone=\"no\"?><svg xmlns=\"http://www.w3.org/2000/svg\" xmlns:xlink=\"http://www.w3.org/1999/xlink\" contentScriptType=\"application/ecmascript\" contentStyleType=\"text/css\" height=\"364px\" preserveAspectRatio=\"none\" style=\"width:367px;height:364px;\" version=\"1.1\" viewBox=\"0 0 367 364\" width=\"367px\" zoomAndPan=\"magnify\"><defs><filter height=\"300%\" id=\"fihwy8fycxc7k\" width=\"300%\" x=\"-1\" y=\"-1\"><feGaussianBlur result=\"blurOut\" stdDeviation=\"2.0\"/><feColorMatrix in=\"blurOut\" result=\"blurOut2\" type=\"matrix\" values=\"0 0 0 0 0 0 0 0 0 0 0 0 0 0 0 0 0 0 .4 0\"/><feOffset dx=\"4.0\" dy=\"4.0\" in=\"blurOut2\" result=\"blurOut3\"/><feBlend in=\"SourceGraphic\" in2=\"blurOut3\" mode=\"normal\"/></filter></defs><g><!--MD5=[fbc87193dbaf4d95561dea2c320d4a47]\n",
       "cluster E1--><a href=\"psysml:62ac371c-e17a-420d-a580-1aab63005ed6\" target=\"_top\" title=\"psysml:62ac371c-e17a-420d-a580-1aab63005ed6\" xlink:actuate=\"onRequest\" xlink:href=\"psysml:62ac371c-e17a-420d-a580-1aab63005ed6\" xlink:show=\"new\" xlink:title=\"psysml:62ac371c-e17a-420d-a580-1aab63005ed6\" xlink:type=\"simple\"><rect fill=\"#FFFFFF\" filter=\"url(#fihwy8fycxc7k)\" height=\"338\" id=\"E1\" style=\"stroke: #A80036; stroke-width: 1.5;\" width=\"341\" x=\"7\" y=\"7\"/><rect fill=\"#FEFECE\" height=\"37.9375\" style=\"stroke: #A80036; stroke-width: 1.5;\" width=\"341\" x=\"7\" y=\"7\"/><text fill=\"#000000\" font-family=\"sans-serif\" font-size=\"12\" font-style=\"italic\" lengthAdjust=\"spacingAndGlyphs\" textLength=\"81\" x=\"137\" y=\"23.1387\">«action  def»</text><text fill=\"#000000\" font-family=\"sans-serif\" font-size=\"12\" lengthAdjust=\"spacingAndGlyphs\" textLength=\"80\" x=\"137.5\" y=\"37.1074\">DecisionTest</text></a><polygon fill=\"#FEFECE\" filter=\"url(#fihwy8fycxc7k)\" points=\"210,67.5,222,79.5,210,91.5,198,79.5,210,67.5\" style=\"stroke: #A80036; stroke-width: 1.5;\"/><polygon fill=\"#FEFECE\" filter=\"url(#fihwy8fycxc7k)\" points=\"35,143.5,47,155.5,35,167.5,23,155.5,35,143.5\" style=\"stroke: #A80036; stroke-width: 1.5;\"/><g id=\"E1.E4\"><a href=\"psysml:bb8ae358-9e9d-46e4-9973-23f4ed00e117\" target=\"_top\" title=\"psysml:bb8ae358-9e9d-46e4-9973-23f4ed00e117\" xlink:actuate=\"onRequest\" xlink:href=\"psysml:bb8ae358-9e9d-46e4-9973-23f4ed00e117\" xlink:show=\"new\" xlink:title=\"psysml:bb8ae358-9e9d-46e4-9973-23f4ed00e117\" xlink:type=\"simple\"><rect fill=\"#FEFECE\" filter=\"url(#fihwy8fycxc7k)\" height=\"42.9375\" id=\"E4\" rx=\"10\" ry=\"10\" style=\"stroke: #A80036; stroke-width: 1.5;\" width=\"86\" x=\"135\" y=\"210\"/><ellipse cx=\"152.25\" cy=\"228.9688\" fill=\"#FFA500\" rx=\"11\" ry=\"11\" style=\"stroke: #A80036; stroke-width: 1.0;\"/><path d=\"M152,234.4375 Q150.25,234.4375 149.2969,233.4063 Q148.3594,232.3594 148.3594,230.5156 L148.3594,223.625 L150.4219,223.625 L150.4219,223.7813 Q150.3281,223.875 150.2969,224.0156 Q150.2813,224.1406 150.2813,224.4063 L150.2813,230.5313 Q150.2813,231.625 150.6563,232.25 Q151.0313,232.875 152.0156,232.875 Q153,232.875 153.3906,232.25 Q153.7813,231.625 153.7813,230.4844 L153.7813,223.625 L155.6563,223.625 L155.6563,230.4688 Q155.6563,232.5 154.625,233.4688 Q153.6094,234.4375 152,234.4375 Z \"/><text fill=\"#000000\" font-family=\"sans-serif\" font-size=\"12\" font-style=\"italic\" lengthAdjust=\"spacingAndGlyphs\" textLength=\"53\" x=\"164.75\" y=\"226.1387\">«action»</text><text fill=\"#000000\" font-family=\"sans-serif\" font-size=\"12\" lengthAdjust=\"spacingAndGlyphs\" textLength=\"16\" x=\"183.25\" y=\"240.1074\">A1</text></a></g><g id=\"E1.E5\"><a href=\"psysml:e7f91728-bf49-43a2-b90b-9012c9afe2c4\" target=\"_top\" title=\"psysml:e7f91728-bf49-43a2-b90b-9012c9afe2c4\" xlink:actuate=\"onRequest\" xlink:href=\"psysml:e7f91728-bf49-43a2-b90b-9012c9afe2c4\" xlink:show=\"new\" xlink:title=\"psysml:e7f91728-bf49-43a2-b90b-9012c9afe2c4\" xlink:type=\"simple\"><rect fill=\"#FEFECE\" filter=\"url(#fihwy8fycxc7k)\" height=\"42.9375\" id=\"E5\" rx=\"10\" ry=\"10\" style=\"stroke: #A80036; stroke-width: 1.5;\" width=\"86\" x=\"135\" y=\"286\"/><ellipse cx=\"152.25\" cy=\"304.9688\" fill=\"#FFA500\" rx=\"11\" ry=\"11\" style=\"stroke: #A80036; stroke-width: 1.0;\"/><path d=\"M152,310.4375 Q150.25,310.4375 149.2969,309.4063 Q148.3594,308.3594 148.3594,306.5156 L148.3594,299.625 L150.4219,299.625 L150.4219,299.7813 Q150.3281,299.875 150.2969,300.0156 Q150.2813,300.1406 150.2813,300.4063 L150.2813,306.5313 Q150.2813,307.625 150.6563,308.25 Q151.0313,308.875 152.0156,308.875 Q153,308.875 153.3906,308.25 Q153.7813,307.625 153.7813,306.4844 L153.7813,299.625 L155.6563,299.625 L155.6563,306.4688 Q155.6563,308.5 154.625,309.4688 Q153.6094,310.4375 152,310.4375 Z \"/><text fill=\"#000000\" font-family=\"sans-serif\" font-size=\"12\" font-style=\"italic\" lengthAdjust=\"spacingAndGlyphs\" textLength=\"53\" x=\"164.75\" y=\"302.1387\">«action»</text><text fill=\"#000000\" font-family=\"sans-serif\" font-size=\"12\" lengthAdjust=\"spacingAndGlyphs\" textLength=\"16\" x=\"183.25\" y=\"316.1074\">A2</text></a></g><g id=\"E1.E6\"><a href=\"psysml:0d8578a4-a91e-4bc0-9576-e9210611ea53\" target=\"_top\" title=\"psysml:0d8578a4-a91e-4bc0-9576-e9210611ea53\" xlink:actuate=\"onRequest\" xlink:href=\"psysml:0d8578a4-a91e-4bc0-9576-e9210611ea53\" xlink:show=\"new\" xlink:title=\"psysml:0d8578a4-a91e-4bc0-9576-e9210611ea53\" xlink:type=\"simple\"><rect fill=\"#FEFECE\" filter=\"url(#fihwy8fycxc7k)\" height=\"42.9375\" id=\"E6\" rx=\"10\" ry=\"10\" style=\"stroke: #A80036; stroke-width: 1.5;\" width=\"86\" x=\"50\" y=\"58\"/><ellipse cx=\"67.25\" cy=\"76.9688\" fill=\"#FFA500\" rx=\"11\" ry=\"11\" style=\"stroke: #A80036; stroke-width: 1.0;\"/><path d=\"M67,82.4375 Q65.25,82.4375 64.2969,81.4063 Q63.3594,80.3594 63.3594,78.5156 L63.3594,71.625 L65.4219,71.625 L65.4219,71.7813 Q65.3281,71.875 65.2969,72.0156 Q65.2813,72.1406 65.2813,72.4063 L65.2813,78.5313 Q65.2813,79.625 65.6563,80.25 Q66.0313,80.875 67.0156,80.875 Q68,80.875 68.3906,80.25 Q68.7813,79.625 68.7813,78.4844 L68.7813,71.625 L70.6563,71.625 L70.6563,78.4688 Q70.6563,80.5 69.625,81.4688 Q68.6094,82.4375 67,82.4375 Z \"/><text fill=\"#000000\" font-family=\"sans-serif\" font-size=\"12\" font-style=\"italic\" lengthAdjust=\"spacingAndGlyphs\" textLength=\"53\" x=\"79.75\" y=\"74.1387\">«action»</text><text fill=\"#000000\" font-family=\"sans-serif\" font-size=\"12\" lengthAdjust=\"spacingAndGlyphs\" textLength=\"16\" x=\"98.25\" y=\"88.1074\">A3</text></a></g><g id=\"E1.E7\"><a href=\"psysml:0d8578a4-a91e-4bc0-9576-e9210611ea53\" target=\"_top\" title=\"psysml:0d8578a4-a91e-4bc0-9576-e9210611ea53\" xlink:actuate=\"onRequest\" xlink:href=\"psysml:0d8578a4-a91e-4bc0-9576-e9210611ea53\" xlink:show=\"new\" xlink:title=\"psysml:0d8578a4-a91e-4bc0-9576-e9210611ea53\" xlink:type=\"simple\"><rect fill=\"#FEFECE\" filter=\"url(#fihwy8fycxc7k)\" height=\"42.9375\" id=\"E7\" rx=\"10\" ry=\"10\" style=\"stroke: #A80036; stroke-width: 1.5;\" width=\"86\" x=\"246\" y=\"134\"/><ellipse cx=\"263.25\" cy=\"152.9688\" fill=\"#FFA500\" rx=\"11\" ry=\"11\" style=\"stroke: #A80036; stroke-width: 1.0;\"/><path d=\"M263,158.4375 Q261.25,158.4375 260.2969,157.4063 Q259.3594,156.3594 259.3594,154.5156 L259.3594,147.625 L261.4219,147.625 L261.4219,147.7813 Q261.3281,147.875 261.2969,148.0156 Q261.2813,148.1406 261.2813,148.4063 L261.2813,154.5313 Q261.2813,155.625 261.6563,156.25 Q262.0313,156.875 263.0156,156.875 Q264,156.875 264.3906,156.25 Q264.7813,155.625 264.7813,154.4844 L264.7813,147.625 L266.6563,147.625 L266.6563,154.4688 Q266.6563,156.5 265.625,157.4688 Q264.6094,158.4375 263,158.4375 Z \"/><text fill=\"#000000\" font-family=\"sans-serif\" font-size=\"12\" font-style=\"italic\" lengthAdjust=\"spacingAndGlyphs\" textLength=\"53\" x=\"275.75\" y=\"150.1387\">«action»</text><text fill=\"#000000\" font-family=\"sans-serif\" font-size=\"12\" lengthAdjust=\"spacingAndGlyphs\" textLength=\"16\" x=\"294.25\" y=\"164.1074\">A3</text></a></g><!--MD5=[4d03bb2d0377dc85ccfab60ff574652b]\n",
       "link E2 to E4--><a href=\"psysml:8074e684-9dcd-4869-b14d-8570f637bde9\" target=\"_top\" title=\"psysml:8074e684-9dcd-4869-b14d-8570f637bde9\" xlink:actuate=\"onRequest\" xlink:href=\"psysml:8074e684-9dcd-4869-b14d-8570f637bde9\" xlink:show=\"new\" xlink:title=\"psysml:8074e684-9dcd-4869-b14d-8570f637bde9\" xlink:type=\"simple\"><path d=\"M201.97,84.07 C187.22,91.12 156.19,108.44 144,134 C135.78,151.25 138.66,158.65 144,177 C146.9,186.99 152.3,196.89 157.95,205.41 \" fill=\"none\" id=\"E2-&gt;E4\" style=\"stroke: #A80036; stroke-width: 1.0; stroke-dasharray: 7.0,7.0;\"/><polygon fill=\"#A80036\" points=\"161.1,209.99,159.2903,200.3088,158.2643,205.8719,152.7013,204.8459,161.1,209.99\" style=\"stroke: #A80036; stroke-width: 1.0;\"/><text fill=\"#000000\" font-family=\"sans-serif\" font-size=\"13\" lengthAdjust=\"spacingAndGlyphs\" textLength=\"55\" x=\"145\" y=\"160.0669\">[x == 1]</text></a><!--MD5=[dcad52bbbca2fe8adc741ce38b45dc12]\n",
       "link E2 to E5--><a href=\"psysml:3f3ee8aa-e9f7-416c-965c-8aff211aef79\" target=\"_top\" title=\"psysml:3f3ee8aa-e9f7-416c-965c-8aff211aef79\" xlink:actuate=\"onRequest\" xlink:href=\"psysml:3f3ee8aa-e9f7-416c-965c-8aff211aef79\" xlink:show=\"new\" xlink:title=\"psysml:3f3ee8aa-e9f7-416c-965c-8aff211aef79\" xlink:type=\"simple\"><path d=\"M210.68,91.05 C211.4,100.32 212.73,114.14 215,126 C219.41,149.09 222.48,154.42 229,177 C233.25,191.72 236.16,194.94 239,210 C243.21,232.34 242.11,238.28 243,261 C243.3,268.55 247.13,271.68 243,278 C238.78,284.45 232.75,289.45 226.03,293.33 \" fill=\"none\" id=\"E2-&gt;E5\" style=\"stroke: #A80036; stroke-width: 1.0; stroke-dasharray: 7.0,7.0;\"/><polygon fill=\"#A80036\" points=\"221.28,295.83,231.1075,295.1819,225.7055,293.503,227.3844,288.101,221.28,295.83\" style=\"stroke: #A80036; stroke-width: 1.0;\"/><text fill=\"#000000\" font-family=\"sans-serif\" font-size=\"13\" lengthAdjust=\"spacingAndGlyphs\" textLength=\"44\" x=\"238\" y=\"198.0669\">[x &gt; 1]</text></a><!--MD5=[e3d2a08a9c9236652057e8ed0cbc9b62]\n",
       "link E2 to E7--><a href=\"psysml:5268f6a4-a59c-47f8-920f-30c5900c34c3\" target=\"_top\" title=\"psysml:5268f6a4-a59c-47f8-920f-30c5900c34c3\" xlink:actuate=\"onRequest\" xlink:href=\"psysml:5268f6a4-a59c-47f8-920f-30c5900c34c3\" xlink:show=\"new\" xlink:title=\"psysml:5268f6a4-a59c-47f8-920f-30c5900c34c3\" xlink:type=\"simple\"><path d=\"M213.08,88.8 C217.09,98.68 224.92,115.21 236,126 C237.78,127.73 239.68,129.39 241.67,130.97 \" fill=\"none\" id=\"E2-&gt;E7\" style=\"stroke: #A80036; stroke-width: 1.0; stroke-dasharray: 7.0,7.0;\"/><polygon fill=\"#A80036\" points=\"245.87,134.1,241.0503,125.511,241.8631,131.1092,236.265,131.922,245.87,134.1\" style=\"stroke: #A80036; stroke-width: 1.0;\"/></a><!--MD5=[583832df87f4419a098336a29a52fa00]\n",
       "link E7 to E2--><a href=\"psysml:1fcd52fd-d040-4c7e-90de-1e4181f9ba4a\" target=\"_top\" title=\"psysml:1fcd52fd-d040-4c7e-90de-1e4181f9ba4a\" xlink:actuate=\"onRequest\" xlink:href=\"psysml:1fcd52fd-d040-4c7e-90de-1e4181f9ba4a\" xlink:show=\"new\" xlink:title=\"psysml:1fcd52fd-d040-4c7e-90de-1e4181f9ba4a\" xlink:type=\"simple\"><path d=\"M266.81,133.71 C251.24,119.13 231.21,100.37 219.57,89.46 \" fill=\"none\" id=\"E7-&gt;E2\" style=\"stroke: #A80036; stroke-width: 1.0; stroke-dasharray: 7.0,7.0;\"/><polygon fill=\"#A80036\" points=\"215.68,85.82,219.5101,94.8936,219.3277,89.2397,224.9816,89.0573,215.68,85.82\" style=\"stroke: #A80036; stroke-width: 1.0;\"/><text fill=\"#000000\" font-family=\"sans-serif\" font-size=\"13\" lengthAdjust=\"spacingAndGlyphs\" textLength=\"44\" x=\"257\" y=\"122.0669\">[x &gt; 0]</text></a><!--MD5=[2720a5a1f2c3fca2055b230370638851]\n",
       "link E2 to E3--><a href=\"psysml:c0d6c8f2-adfa-4de5-8b53-fd445de20c7a\" target=\"_top\" title=\"psysml:c0d6c8f2-adfa-4de5-8b53-fd445de20c7a\" xlink:actuate=\"onRequest\" xlink:href=\"psysml:c0d6c8f2-adfa-4de5-8b53-fd445de20c7a\" xlink:show=\"new\" xlink:title=\"psysml:c0d6c8f2-adfa-4de5-8b53-fd445de20c7a\" xlink:type=\"simple\"><path d=\"M202.17,83.87 C191.47,88.37 171.6,96.29 154,101 C133.95,106.37 127.39,101.6 108,109 C83.93,118.19 59.16,135.65 45.55,146.07 \" fill=\"none\" id=\"E2-&gt;E3\" style=\"stroke: #A80036; stroke-width: 1.0; stroke-dasharray: 7.0,7.0;\"/><polygon fill=\"#A80036\" points=\"41.38,149.31,50.9381,146.9348,45.3245,146.2373,46.0219,140.6236,41.38,149.31\" style=\"stroke: #A80036; stroke-width: 1.0;\"/></a><!--MD5=[af87c684e3b0d8be13c1a698a818ef1e]\n",
       "link E3 to E4--><a href=\"psysml:647fb379-8896-403f-81c0-e54862ace948\" target=\"_top\" title=\"psysml:647fb379-8896-403f-81c0-e54862ace948\" xlink:actuate=\"onRequest\" xlink:href=\"psysml:647fb379-8896-403f-81c0-e54862ace948\" xlink:show=\"new\" xlink:title=\"psysml:647fb379-8896-403f-81c0-e54862ace948\" xlink:type=\"simple\"><path d=\"M40.05,162.75 C48.27,172.51 65.48,191.36 84,202 C86.27,203.3 107.96,209.91 129.94,216.43 \" fill=\"none\" id=\"E3-&gt;E4\" style=\"stroke: #A80036; stroke-width: 1.0; stroke-dasharray: 7.0,7.0;\"/><polygon fill=\"#A80036\" points=\"134.92,217.9,127.4226,211.5133,130.125,216.483,125.1554,219.1853,134.92,217.9\" style=\"stroke: #A80036; stroke-width: 1.0;\"/><text fill=\"#000000\" font-family=\"sans-serif\" font-size=\"13\" lengthAdjust=\"spacingAndGlyphs\" textLength=\"36\" x=\"85\" y=\"198.0669\">[true]</text></a><!--MD5=[0188b64bb0ae78505a997a81836e11e9]\n",
       "link E3 to E5--><a href=\"psysml:1317e145-771b-48e4-a88c-08ae6f2caba6\" target=\"_top\" title=\"psysml:1317e145-771b-48e4-a88c-08ae6f2caba6\" xlink:actuate=\"onRequest\" xlink:href=\"psysml:1317e145-771b-48e4-a88c-08ae6f2caba6\" xlink:show=\"new\" xlink:title=\"psysml:1317e145-771b-48e4-a88c-08ae6f2caba6\" xlink:type=\"simple\"><path d=\"M36.78,165.88 C40.75,184.57 51.94,226.9 76,253 C90.74,268.99 111.37,281.06 130.23,289.64 \" fill=\"none\" id=\"E3-&gt;E5\" style=\"stroke: #A80036; stroke-width: 1.0; stroke-dasharray: 7.0,7.0;\"/><polygon fill=\"#A80036\" points=\"134.98,291.75,128.376,284.4433,130.4098,289.722,125.1311,291.7557,134.98,291.75\" style=\"stroke: #A80036; stroke-width: 1.0;\"/><text fill=\"#000000\" font-family=\"sans-serif\" font-size=\"13\" lengthAdjust=\"spacingAndGlyphs\" textLength=\"40\" x=\"77\" y=\"236.0669\">[false]</text></a><!--MD5=[1b7591eae5389033d8d09a9d6721a717]\n",
       "link E4 to E5--><a href=\"psysml:23f0aa3a-74d1-4632-9e57-f97d17e19ec4\" target=\"_top\" title=\"psysml:23f0aa3a-74d1-4632-9e57-f97d17e19ec4\" xlink:actuate=\"onRequest\" xlink:href=\"psysml:23f0aa3a-74d1-4632-9e57-f97d17e19ec4\" xlink:show=\"new\" xlink:title=\"psysml:23f0aa3a-74d1-4632-9e57-f97d17e19ec4\" xlink:type=\"simple\"><path d=\"M178,253.11 C178,261.69 178,271.75 178,280.8 \" fill=\"none\" id=\"E4-&gt;E5\" style=\"stroke: #A80036; stroke-width: 1.0; stroke-dasharray: 7.0,7.0;\"/><polygon fill=\"#A80036\" points=\"178,286,182,277,178,281,174,277,178,286\" style=\"stroke: #A80036; stroke-width: 1.0;\"/><text fill=\"#000000\" font-family=\"sans-serif\" font-size=\"13\" lengthAdjust=\"spacingAndGlyphs\" textLength=\"55\" x=\"179\" y=\"274.0669\">[x == 0]</text></a><!--MD5=[b1abae48249da6fb9d99b3eeab300e59]\n",
       "@startuml\r\n",
       "skinparam ranksep 8\r\n",
       " \r\n",
       "rec def \"DecisionTest\" as E1 << <<(B,lemonchiffon) action  def>> [[psysml:62ac371c-e17a-420d-a580-1aab63005ed6 ]] {\r\n",
       "choice \"test x\" as E2  [[psysml:2e150d19-c5c5-4276-9136-9fe31d212434 ]] \r\n",
       "choice \"<s>noname</s>\" as E3  [[psysml:cc5b619c-f329-4ed7-9a64-7943d6ed9569 ]] \r\n",
       "rec usage \"A1\" as E4 << <<(U,orange) action>> [[psysml:bb8ae358-9e9d-46e4-9973-23f4ed00e117 ]] {\r\n",
       "}\r\n",
       "\r\n",
       "rec usage \"A2\" as E5 << <<(U,orange) action>> [[psysml:e7f91728-bf49-43a2-b90b-9012c9afe2c4 ]] {\r\n",
       "}\r\n",
       "\r\n",
       "rec usage \"A3\" as E6 << <<(U,orange) action>> [[psysml:0d8578a4-a91e-4bc0-9576-e9210611ea53 ]] {\r\n",
       "}\r\n",
       "\r\n",
       "rec usage \"A3\" as E7 << <<(U,orange) action>> [[psysml:0d8578a4-a91e-4bc0-9576-e9210611ea53 ]] {\r\n",
       "}\r\n",
       "\r\n",
       "}\r\n",
       "\r\n",
       "E2 ..> E4 [[psysml:8074e684-9dcd-4869-b14d-8570f637bde9 ]] : [x == 1]\r\n",
       "E2 ..> E5 [[psysml:3f3ee8aa-e9f7-416c-965c-8aff211aef79 ]] : [x > 1]\r\n",
       "E2 ..> E7 [[psysml:5268f6a4-a59c-47f8-920f-30c5900c34c3 ]] \r\n",
       "E2 ..> E3 [[psysml:c0d6c8f2-adfa-4de5-8b53-fd445de20c7a ]] \r\n",
       "E3 ..> E4 [[psysml:647fb379-8896-403f-81c0-e54862ace948 ]] : [true]\r\n",
       "E3 ..> E5 [[psysml:1317e145-771b-48e4-a88c-08ae6f2caba6 ]] : [false]\r\n",
       "E4 ..> E5 [[psysml:23f0aa3a-74d1-4632-9e57-f97d17e19ec4 ]] : [x == 0]\r\n",
       "E7 ..> E2 [[psysml:1fcd52fd-d040-4c7e-90de-1e4181f9ba4a ]] : [x > 0]\r\n",
       "@enduml\r\n",
       "\n",
       "PlantUML version 1.2020.13(Sat Jun 13 12:26:38 UTC 2020)\n",
       "(EPL source distribution)\n",
       "Java Runtime: OpenJDK Runtime Environment\n",
       "JVM: OpenJDK 64-Bit Server VM\n",
       "Default Encoding: UTF-8\n",
       "Language: en\n",
       "Country: null\n",
       "--></g></svg>"
      ]
     },
     "execution_count": 34,
     "metadata": {},
     "output_type": "execute_result"
    }
   ],
   "source": [
    "%viz --style=\"PLANTUML\" --view=\"Action\" \"DecisionTest\""
   ]
  },
  {
   "cell_type": "code",
   "execution_count": 35,
   "id": "532156ba",
   "metadata": {
    "execution": {
     "iopub.execute_input": "2022-03-21T07:51:01.823184Z",
     "iopub.status.busy": "2022-03-21T07:51:01.822766Z",
     "iopub.status.idle": "2022-03-21T07:51:01.828981Z",
     "shell.execute_reply": "2022-03-21T07:51:01.828643Z"
    }
   },
   "outputs": [
    {
     "data": {
      "image/svg+xml": [
       "<?xml version=\"1.0\" encoding=\"UTF-8\" standalone=\"no\"?><svg xmlns=\"http://www.w3.org/2000/svg\" xmlns:xlink=\"http://www.w3.org/1999/xlink\" contentScriptType=\"application/ecmascript\" contentStyleType=\"text/css\" height=\"12px\" preserveAspectRatio=\"none\" style=\"width:12px;height:12px;\" version=\"1.1\" viewBox=\"0 0 12 12\" width=\"12px\" zoomAndPan=\"magnify\"><defs/><g><!--MD5=[ca4faa0b02def275ea33c14ea7a1a98d]\n",
       "@startuml\r\n",
       "skinparam roundcorner 20\r\n",
       "skinparam BoxPadding 20\r\n",
       "skinparam SequenceBoxBackgroundColor #white\r\n",
       "skinparam style strictuml\r\n",
       "skinparam maxMessageSize 100\r\n",
       " \r\n",
       "@enduml\r\n",
       "\n",
       "PlantUML version 1.2020.13(Sat Jun 13 12:26:38 UTC 2020)\n",
       "(EPL source distribution)\n",
       "Java Runtime: OpenJDK Runtime Environment\n",
       "JVM: OpenJDK 64-Bit Server VM\n",
       "Default Encoding: UTF-8\n",
       "Language: en\n",
       "Country: null\n",
       "--></g></svg>"
      ]
     },
     "execution_count": 35,
     "metadata": {},
     "output_type": "execute_result"
    }
   ],
   "source": [
    "%viz --style=\"PLANTUML\" --view=\"Sequence\" \"DecisionTest\""
   ]
  },
  {
   "cell_type": "code",
   "execution_count": 36,
   "id": "dabd3c2e",
   "metadata": {
    "execution": {
     "iopub.execute_input": "2022-03-21T07:51:01.878615Z",
     "iopub.status.busy": "2022-03-21T07:51:01.878204Z",
     "iopub.status.idle": "2022-03-21T07:51:01.916173Z",
     "shell.execute_reply": "2022-03-21T07:51:01.915803Z"
    }
   },
   "outputs": [
    {
     "data": {
      "image/svg+xml": [
       "<?xml version=\"1.0\" encoding=\"UTF-8\" standalone=\"no\"?><svg xmlns=\"http://www.w3.org/2000/svg\" xmlns:xlink=\"http://www.w3.org/1999/xlink\" contentScriptType=\"application/ecmascript\" contentStyleType=\"text/css\" height=\"496px\" preserveAspectRatio=\"none\" style=\"width:367px;height:496px;\" version=\"1.1\" viewBox=\"0 0 367 496\" width=\"367px\" zoomAndPan=\"magnify\"><defs><filter height=\"300%\" id=\"f1putjvi4hfu29\" width=\"300%\" x=\"-1\" y=\"-1\"><feGaussianBlur result=\"blurOut\" stdDeviation=\"2.0\"/><feColorMatrix in=\"blurOut\" result=\"blurOut2\" type=\"matrix\" values=\"0 0 0 0 0 0 0 0 0 0 0 0 0 0 0 0 0 0 .4 0\"/><feOffset dx=\"4.0\" dy=\"4.0\" in=\"blurOut2\" result=\"blurOut3\"/><feBlend in=\"SourceGraphic\" in2=\"blurOut3\" mode=\"normal\"/></filter></defs><g><!--MD5=[fbc87193dbaf4d95561dea2c320d4a47]\n",
       "cluster E1--><a href=\"psysml:62ac371c-e17a-420d-a580-1aab63005ed6\" target=\"_top\" title=\"psysml:62ac371c-e17a-420d-a580-1aab63005ed6\" xlink:actuate=\"onRequest\" xlink:href=\"psysml:62ac371c-e17a-420d-a580-1aab63005ed6\" xlink:show=\"new\" xlink:title=\"psysml:62ac371c-e17a-420d-a580-1aab63005ed6\" xlink:type=\"simple\"><rect fill=\"#FFFFFF\" filter=\"url(#f1putjvi4hfu29)\" height=\"470\" id=\"E1\" style=\"stroke: #A80036; stroke-width: 1.5;\" width=\"341\" x=\"7\" y=\"7\"/><rect fill=\"#FEFECE\" height=\"37.9375\" style=\"stroke: #A80036; stroke-width: 1.5;\" width=\"341\" x=\"7\" y=\"7\"/><text fill=\"#000000\" font-family=\"sans-serif\" font-size=\"12\" font-style=\"italic\" lengthAdjust=\"spacingAndGlyphs\" textLength=\"81\" x=\"137\" y=\"23.1387\">«action  def»</text><text fill=\"#000000\" font-family=\"sans-serif\" font-size=\"12\" lengthAdjust=\"spacingAndGlyphs\" textLength=\"80\" x=\"137.5\" y=\"37.1074\">DecisionTest</text></a><polygon fill=\"#FEFECE\" filter=\"url(#f1putjvi4hfu29)\" points=\"210,67.5,222,79.5,210,91.5,198,79.5,210,67.5\" style=\"stroke: #A80036; stroke-width: 1.5;\"/><polygon fill=\"#FEFECE\" filter=\"url(#f1putjvi4hfu29)\" points=\"35,187.5,47,199.5,35,211.5,23,199.5,35,187.5\" style=\"stroke: #A80036; stroke-width: 1.5;\"/><g id=\"E1.E4\"><a href=\"psysml:bb8ae358-9e9d-46e4-9973-23f4ed00e117\" target=\"_top\" title=\"psysml:bb8ae358-9e9d-46e4-9973-23f4ed00e117\" xlink:actuate=\"onRequest\" xlink:href=\"psysml:bb8ae358-9e9d-46e4-9973-23f4ed00e117\" xlink:show=\"new\" xlink:title=\"psysml:bb8ae358-9e9d-46e4-9973-23f4ed00e117\" xlink:type=\"simple\"><rect fill=\"#FEFECE\" filter=\"url(#f1putjvi4hfu29)\" height=\"42.9375\" id=\"E4\" rx=\"10\" ry=\"10\" style=\"stroke: #A80036; stroke-width: 1.5;\" width=\"86\" x=\"135\" y=\"298\"/><ellipse cx=\"152.25\" cy=\"316.9688\" fill=\"#FFA500\" rx=\"11\" ry=\"11\" style=\"stroke: #A80036; stroke-width: 1.0;\"/><path d=\"M152,322.4375 Q150.25,322.4375 149.2969,321.4063 Q148.3594,320.3594 148.3594,318.5156 L148.3594,311.625 L150.4219,311.625 L150.4219,311.7813 Q150.3281,311.875 150.2969,312.0156 Q150.2813,312.1406 150.2813,312.4063 L150.2813,318.5313 Q150.2813,319.625 150.6563,320.25 Q151.0313,320.875 152.0156,320.875 Q153,320.875 153.3906,320.25 Q153.7813,319.625 153.7813,318.4844 L153.7813,311.625 L155.6563,311.625 L155.6563,318.4688 Q155.6563,320.5 154.625,321.4688 Q153.6094,322.4375 152,322.4375 Z \"/><text fill=\"#000000\" font-family=\"sans-serif\" font-size=\"12\" font-style=\"italic\" lengthAdjust=\"spacingAndGlyphs\" textLength=\"53\" x=\"164.75\" y=\"314.1387\">«action»</text><text fill=\"#000000\" font-family=\"sans-serif\" font-size=\"12\" lengthAdjust=\"spacingAndGlyphs\" textLength=\"16\" x=\"183.25\" y=\"328.1074\">A1</text></a></g><g id=\"E1.E5\"><a href=\"psysml:e7f91728-bf49-43a2-b90b-9012c9afe2c4\" target=\"_top\" title=\"psysml:e7f91728-bf49-43a2-b90b-9012c9afe2c4\" xlink:actuate=\"onRequest\" xlink:href=\"psysml:e7f91728-bf49-43a2-b90b-9012c9afe2c4\" xlink:show=\"new\" xlink:title=\"psysml:e7f91728-bf49-43a2-b90b-9012c9afe2c4\" xlink:type=\"simple\"><rect fill=\"#FEFECE\" filter=\"url(#f1putjvi4hfu29)\" height=\"42.9375\" id=\"E5\" rx=\"10\" ry=\"10\" style=\"stroke: #A80036; stroke-width: 1.5;\" width=\"86\" x=\"135\" y=\"418\"/><ellipse cx=\"152.25\" cy=\"436.9688\" fill=\"#FFA500\" rx=\"11\" ry=\"11\" style=\"stroke: #A80036; stroke-width: 1.0;\"/><path d=\"M152,442.4375 Q150.25,442.4375 149.2969,441.4063 Q148.3594,440.3594 148.3594,438.5156 L148.3594,431.625 L150.4219,431.625 L150.4219,431.7813 Q150.3281,431.875 150.2969,432.0156 Q150.2813,432.1406 150.2813,432.4063 L150.2813,438.5313 Q150.2813,439.625 150.6563,440.25 Q151.0313,440.875 152.0156,440.875 Q153,440.875 153.3906,440.25 Q153.7813,439.625 153.7813,438.4844 L153.7813,431.625 L155.6563,431.625 L155.6563,438.4688 Q155.6563,440.5 154.625,441.4688 Q153.6094,442.4375 152,442.4375 Z \"/><text fill=\"#000000\" font-family=\"sans-serif\" font-size=\"12\" font-style=\"italic\" lengthAdjust=\"spacingAndGlyphs\" textLength=\"53\" x=\"164.75\" y=\"434.1387\">«action»</text><text fill=\"#000000\" font-family=\"sans-serif\" font-size=\"12\" lengthAdjust=\"spacingAndGlyphs\" textLength=\"16\" x=\"183.25\" y=\"448.1074\">A2</text></a></g><g id=\"E1.E6\"><a href=\"psysml:0d8578a4-a91e-4bc0-9576-e9210611ea53\" target=\"_top\" title=\"psysml:0d8578a4-a91e-4bc0-9576-e9210611ea53\" xlink:actuate=\"onRequest\" xlink:href=\"psysml:0d8578a4-a91e-4bc0-9576-e9210611ea53\" xlink:show=\"new\" xlink:title=\"psysml:0d8578a4-a91e-4bc0-9576-e9210611ea53\" xlink:type=\"simple\"><rect fill=\"#FEFECE\" filter=\"url(#f1putjvi4hfu29)\" height=\"42.9375\" id=\"E6\" rx=\"10\" ry=\"10\" style=\"stroke: #A80036; stroke-width: 1.5;\" width=\"86\" x=\"50\" y=\"58\"/><ellipse cx=\"67.25\" cy=\"76.9688\" fill=\"#FFA500\" rx=\"11\" ry=\"11\" style=\"stroke: #A80036; stroke-width: 1.0;\"/><path d=\"M67,82.4375 Q65.25,82.4375 64.2969,81.4063 Q63.3594,80.3594 63.3594,78.5156 L63.3594,71.625 L65.4219,71.625 L65.4219,71.7813 Q65.3281,71.875 65.2969,72.0156 Q65.2813,72.1406 65.2813,72.4063 L65.2813,78.5313 Q65.2813,79.625 65.6563,80.25 Q66.0313,80.875 67.0156,80.875 Q68,80.875 68.3906,80.25 Q68.7813,79.625 68.7813,78.4844 L68.7813,71.625 L70.6563,71.625 L70.6563,78.4688 Q70.6563,80.5 69.625,81.4688 Q68.6094,82.4375 67,82.4375 Z \"/><text fill=\"#000000\" font-family=\"sans-serif\" font-size=\"12\" font-style=\"italic\" lengthAdjust=\"spacingAndGlyphs\" textLength=\"53\" x=\"79.75\" y=\"74.1387\">«action»</text><text fill=\"#000000\" font-family=\"sans-serif\" font-size=\"12\" lengthAdjust=\"spacingAndGlyphs\" textLength=\"16\" x=\"98.25\" y=\"88.1074\">A3</text></a></g><g id=\"E1.E7\"><a href=\"psysml:0d8578a4-a91e-4bc0-9576-e9210611ea53\" target=\"_top\" title=\"psysml:0d8578a4-a91e-4bc0-9576-e9210611ea53\" xlink:actuate=\"onRequest\" xlink:href=\"psysml:0d8578a4-a91e-4bc0-9576-e9210611ea53\" xlink:show=\"new\" xlink:title=\"psysml:0d8578a4-a91e-4bc0-9576-e9210611ea53\" xlink:type=\"simple\"><rect fill=\"#FEFECE\" filter=\"url(#f1putjvi4hfu29)\" height=\"42.9375\" id=\"E7\" rx=\"10\" ry=\"10\" style=\"stroke: #A80036; stroke-width: 1.5;\" width=\"86\" x=\"246\" y=\"178\"/><ellipse cx=\"263.25\" cy=\"196.9688\" fill=\"#FFA500\" rx=\"11\" ry=\"11\" style=\"stroke: #A80036; stroke-width: 1.0;\"/><path d=\"M263,202.4375 Q261.25,202.4375 260.2969,201.4063 Q259.3594,200.3594 259.3594,198.5156 L259.3594,191.625 L261.4219,191.625 L261.4219,191.7813 Q261.3281,191.875 261.2969,192.0156 Q261.2813,192.1406 261.2813,192.4063 L261.2813,198.5313 Q261.2813,199.625 261.6563,200.25 Q262.0313,200.875 263.0156,200.875 Q264,200.875 264.3906,200.25 Q264.7813,199.625 264.7813,198.4844 L264.7813,191.625 L266.6563,191.625 L266.6563,198.4688 Q266.6563,200.5 265.625,201.4688 Q264.6094,202.4375 263,202.4375 Z \"/><text fill=\"#000000\" font-family=\"sans-serif\" font-size=\"12\" font-style=\"italic\" lengthAdjust=\"spacingAndGlyphs\" textLength=\"53\" x=\"275.75\" y=\"194.1387\">«action»</text><text fill=\"#000000\" font-family=\"sans-serif\" font-size=\"12\" lengthAdjust=\"spacingAndGlyphs\" textLength=\"16\" x=\"294.25\" y=\"208.1074\">A3</text></a></g><!--MD5=[4d03bb2d0377dc85ccfab60ff574652b]\n",
       "link E2 to E4--><a href=\"psysml:8074e684-9dcd-4869-b14d-8570f637bde9\" target=\"_top\" title=\"psysml:8074e684-9dcd-4869-b14d-8570f637bde9\" xlink:actuate=\"onRequest\" xlink:href=\"psysml:8074e684-9dcd-4869-b14d-8570f637bde9\" xlink:show=\"new\" xlink:title=\"psysml:8074e684-9dcd-4869-b14d-8570f637bde9\" xlink:type=\"simple\"><path d=\"M204.45,86 C190.88,99.89 156.22,138.13 144,178 C131.83,217.69 149.59,264.76 163.67,293.09 \" fill=\"none\" id=\"E2-&gt;E4\" style=\"stroke: #A80036; stroke-width: 1.0;\"/><polygon fill=\"#A80036\" points=\"166.08,297.81,165.5574,287.975,163.8097,293.3551,158.4296,291.6074,166.08,297.81\" style=\"stroke: #A80036; stroke-width: 1.0;\"/><text fill=\"#000000\" font-family=\"sans-serif\" font-size=\"13\" lengthAdjust=\"spacingAndGlyphs\" textLength=\"55\" x=\"145\" y=\"204.0669\">[x == 1]</text><text fill=\"#000000\" font-family=\"sans-serif\" font-size=\"13\" lengthAdjust=\"spacingAndGlyphs\" textLength=\"7\" x=\"154.9359\" y=\"287.0583\">*</text></a><!--MD5=[dcad52bbbca2fe8adc741ce38b45dc12]\n",
       "link E2 to E5--><a href=\"psysml:3f3ee8aa-e9f7-416c-965c-8aff211aef79\" target=\"_top\" title=\"psysml:3f3ee8aa-e9f7-416c-965c-8aff211aef79\" xlink:actuate=\"onRequest\" xlink:href=\"psysml:3f3ee8aa-e9f7-416c-965c-8aff211aef79\" xlink:show=\"new\" xlink:title=\"psysml:3f3ee8aa-e9f7-416c-965c-8aff211aef79\" xlink:type=\"simple\"><path d=\"M211.32,90.39 C216.99,132.87 238.97,297.67 239,298 C242.74,337.86 260.6,352.04 243,388 C237.83,398.56 229.28,407.54 220.04,414.88 \" fill=\"none\" id=\"E2-&gt;E5\" style=\"stroke: #A80036; stroke-width: 1.0;\"/><polygon fill=\"#A80036\" points=\"216.05,417.92,225.6321,415.6432,220.0258,414.8881,220.781,409.2818,216.05,417.92\" style=\"stroke: #A80036; stroke-width: 1.0;\"/><text fill=\"#000000\" font-family=\"sans-serif\" font-size=\"13\" lengthAdjust=\"spacingAndGlyphs\" textLength=\"44\" x=\"235\" y=\"264.0669\">[x &gt; 1]</text><text fill=\"#000000\" font-family=\"sans-serif\" font-size=\"13\" lengthAdjust=\"spacingAndGlyphs\" textLength=\"7\" x=\"218.7672\" y=\"406.8356\">*</text></a><!--MD5=[e3d2a08a9c9236652057e8ed0cbc9b62]\n",
       "link E2 to E7--><a href=\"psysml:5268f6a4-a59c-47f8-920f-30c5900c34c3\" target=\"_top\" title=\"psysml:5268f6a4-a59c-47f8-920f-30c5900c34c3\" xlink:actuate=\"onRequest\" xlink:href=\"psysml:5268f6a4-a59c-47f8-920f-30c5900c34c3\" xlink:show=\"new\" xlink:title=\"psysml:5268f6a4-a59c-47f8-920f-30c5900c34c3\" xlink:type=\"simple\"><path d=\"M212.2,89.84 C215.69,103.47 223.45,129.2 236,148 C242.31,157.45 250.67,166.45 258.88,174.18 \" fill=\"none\" id=\"E2-&gt;E7\" style=\"stroke: #A80036; stroke-width: 1.0;\"/><polygon fill=\"#A80036\" points=\"262.9,177.86,258.978,168.8257,259.2178,174.4775,253.566,174.7173,262.9,177.86\" style=\"stroke: #A80036; stroke-width: 1.0;\"/><text fill=\"#000000\" font-family=\"sans-serif\" font-size=\"13\" lengthAdjust=\"spacingAndGlyphs\" textLength=\"7\" x=\"247.575\" y=\"166.7587\">*</text></a><!--MD5=[583832df87f4419a098336a29a52fa00]\n",
       "link E7 to E2--><a href=\"psysml:1fcd52fd-d040-4c7e-90de-1e4181f9ba4a\" target=\"_top\" title=\"psysml:1fcd52fd-d040-4c7e-90de-1e4181f9ba4a\" xlink:actuate=\"onRequest\" xlink:href=\"psysml:1fcd52fd-d040-4c7e-90de-1e4181f9ba4a\" xlink:show=\"new\" xlink:title=\"psysml:1fcd52fd-d040-4c7e-90de-1e4181f9ba4a\" xlink:type=\"simple\"><path d=\"M275.08,177.71 C258.3,152.65 230.72,111.44 217.51,91.71 \" fill=\"none\" id=\"E7-&gt;E2\" style=\"stroke: #A80036; stroke-width: 1.0;\"/><polygon fill=\"#A80036\" points=\"214.47,87.18,216.1572,96.8833,217.2534,91.3337,222.803,92.4299,214.47,87.18\" style=\"stroke: #A80036; stroke-width: 1.0;\"/><text fill=\"#000000\" font-family=\"sans-serif\" font-size=\"13\" lengthAdjust=\"spacingAndGlyphs\" textLength=\"44\" x=\"255\" y=\"144.0669\">[x &gt; 0]</text><text fill=\"#000000\" font-family=\"sans-serif\" font-size=\"13\" lengthAdjust=\"spacingAndGlyphs\" textLength=\"7\" x=\"208.2703\" y=\"111.8252\">*</text></a><!--MD5=[2720a5a1f2c3fca2055b230370638851]\n",
       "link E2 to E3--><a href=\"psysml:c0d6c8f2-adfa-4de5-8b53-fd445de20c7a\" target=\"_top\" title=\"psysml:c0d6c8f2-adfa-4de5-8b53-fd445de20c7a\" xlink:actuate=\"onRequest\" xlink:href=\"psysml:c0d6c8f2-adfa-4de5-8b53-fd445de20c7a\" xlink:show=\"new\" xlink:title=\"psysml:c0d6c8f2-adfa-4de5-8b53-fd445de20c7a\" xlink:type=\"simple\"><path d=\"M201.9,83.58 C184.06,90.55 140.39,108.7 108,131 C82.49,148.57 56.88,174.67 43.84,188.71 \" fill=\"none\" id=\"E2-&gt;E3\" style=\"stroke: #A80036; stroke-width: 1.0;\"/><polygon fill=\"#A80036\" points=\"40.21,192.66,49.2443,188.738,43.5925,188.9778,43.3527,183.326,40.21,192.66\" style=\"stroke: #A80036; stroke-width: 1.0;\"/><text fill=\"#000000\" font-family=\"sans-serif\" font-size=\"13\" lengthAdjust=\"spacingAndGlyphs\" textLength=\"7\" x=\"48.2668\" y=\"176.5238\">*</text></a><!--MD5=[af87c684e3b0d8be13c1a698a818ef1e]\n",
       "link E3 to E4--><a href=\"psysml:647fb379-8896-403f-81c0-e54862ace948\" target=\"_top\" title=\"psysml:647fb379-8896-403f-81c0-e54862ace948\" xlink:actuate=\"onRequest\" xlink:href=\"psysml:647fb379-8896-403f-81c0-e54862ace948\" xlink:show=\"new\" xlink:title=\"psysml:647fb379-8896-403f-81c0-e54862ace948\" xlink:type=\"simple\"><path d=\"M38.96,208.04 C46.32,221.49 63.28,249.9 84,268 C97.53,279.82 114.3,289.93 129.91,297.93 \" fill=\"none\" id=\"E3-&gt;E4\" style=\"stroke: #A80036; stroke-width: 1.0;\"/><polygon fill=\"#A80036\" points=\"134.71,300.34,128.4587,292.7294,130.2407,298.0982,124.8719,299.8802,134.71,300.34\" style=\"stroke: #A80036; stroke-width: 1.0;\"/><text fill=\"#000000\" font-family=\"sans-serif\" font-size=\"13\" lengthAdjust=\"spacingAndGlyphs\" textLength=\"36\" x=\"85\" y=\"264.0669\">[true]</text><text fill=\"#000000\" font-family=\"sans-serif\" font-size=\"13\" lengthAdjust=\"spacingAndGlyphs\" textLength=\"7\" x=\"119.9604\" y=\"293.0075\">*</text></a><!--MD5=[0188b64bb0ae78505a997a81836e11e9]\n",
       "link E3 to E5--><a href=\"psysml:1317e145-771b-48e4-a88c-08ae6f2caba6\" target=\"_top\" title=\"psysml:1317e145-771b-48e4-a88c-08ae6f2caba6\" xlink:actuate=\"onRequest\" xlink:href=\"psysml:1317e145-771b-48e4-a88c-08ae6f2caba6\" xlink:show=\"new\" xlink:title=\"psysml:1317e145-771b-48e4-a88c-08ae6f2caba6\" xlink:type=\"simple\"><path d=\"M36.1,210.4 C39.13,234.4 49.22,296.92 76,341 C93.84,370.37 122.75,396.82 145.25,414.74 \" fill=\"none\" id=\"E3-&gt;E5\" style=\"stroke: #A80036; stroke-width: 1.0;\"/><polygon fill=\"#A80036\" points=\"149.37,417.99,144.7826,409.2748,145.4449,414.8927,139.8269,415.555,149.37,417.99\" style=\"stroke: #A80036; stroke-width: 1.0;\"/><text fill=\"#000000\" font-family=\"sans-serif\" font-size=\"13\" lengthAdjust=\"spacingAndGlyphs\" textLength=\"40\" x=\"77\" y=\"324.0669\">[false]</text><text fill=\"#000000\" font-family=\"sans-serif\" font-size=\"13\" lengthAdjust=\"spacingAndGlyphs\" textLength=\"7\" x=\"133.3334\" y=\"406.9253\">*</text></a><!--MD5=[1b7591eae5389033d8d09a9d6721a717]\n",
       "link E4 to E5--><a href=\"psysml:23f0aa3a-74d1-4632-9e57-f97d17e19ec4\" target=\"_top\" title=\"psysml:23f0aa3a-74d1-4632-9e57-f97d17e19ec4\" xlink:actuate=\"onRequest\" xlink:href=\"psysml:23f0aa3a-74d1-4632-9e57-f97d17e19ec4\" xlink:show=\"new\" xlink:title=\"psysml:23f0aa3a-74d1-4632-9e57-f97d17e19ec4\" xlink:type=\"simple\"><path d=\"M178,341.05 C178,360.9 178,391.02 178,412.52 \" fill=\"none\" id=\"E4-&gt;E5\" style=\"stroke: #A80036; stroke-width: 1.0;\"/><polygon fill=\"#A80036\" points=\"178,417.79,182,408.79,178,412.79,174,408.79,178,417.79\" style=\"stroke: #A80036; stroke-width: 1.0;\"/><text fill=\"#000000\" font-family=\"sans-serif\" font-size=\"13\" lengthAdjust=\"spacingAndGlyphs\" textLength=\"55\" x=\"179\" y=\"384.0669\">[x == 0]</text><text fill=\"#000000\" font-family=\"sans-serif\" font-size=\"13\" lengthAdjust=\"spacingAndGlyphs\" textLength=\"7\" x=\"170.0594\" y=\"407.033\">*</text></a><!--MD5=[9c73934cf5f2ef9ceaffe66d23846cd3]\n",
       "@startuml\r\n",
       " \r\n",
       "rec def \"DecisionTest\" as E1 << <<(B,lemonchiffon) action  def>> [[psysml:62ac371c-e17a-420d-a580-1aab63005ed6 ]] {\r\n",
       "choice \"test x\" as E2  [[psysml:2e150d19-c5c5-4276-9136-9fe31d212434 ]] \r\n",
       "choice \"<s>noname</s>\" as E3  [[psysml:cc5b619c-f329-4ed7-9a64-7943d6ed9569 ]] \r\n",
       "rec usage \"A1\" as E4 << <<(U,orange) action>> [[psysml:bb8ae358-9e9d-46e4-9973-23f4ed00e117 ]] {\r\n",
       "}\r\n",
       "\r\n",
       "rec usage \"A2\" as E5 << <<(U,orange) action>> [[psysml:e7f91728-bf49-43a2-b90b-9012c9afe2c4 ]] {\r\n",
       "}\r\n",
       "\r\n",
       "rec usage \"A3\" as E6 << <<(U,orange) action>> [[psysml:0d8578a4-a91e-4bc0-9576-e9210611ea53 ]] {\r\n",
       "}\r\n",
       "\r\n",
       "rec usage \"A3\" as E7 << <<(U,orange) action>> [[psysml:0d8578a4-a91e-4bc0-9576-e9210611ea53 ]] {\r\n",
       "}\r\n",
       "\r\n",
       "}\r\n",
       "\r\n",
       "E2  - -> \"*\"E4 [[psysml:8074e684-9dcd-4869-b14d-8570f637bde9 ]] : [x == 1]\r\n",
       "E2  - -> \"*\"E5 [[psysml:3f3ee8aa-e9f7-416c-965c-8aff211aef79 ]] : [x > 1]\r\n",
       "E2  - -> \"*\"E7 [[psysml:5268f6a4-a59c-47f8-920f-30c5900c34c3 ]] \r\n",
       "E2 - -> \"*\"E3 [[psysml:c0d6c8f2-adfa-4de5-8b53-fd445de20c7a ]] \r\n",
       "E3  - -> \"*\"E4 [[psysml:647fb379-8896-403f-81c0-e54862ace948 ]] : [true]\r\n",
       "E3  - -> \"*\"E5 [[psysml:1317e145-771b-48e4-a88c-08ae6f2caba6 ]] : [false]\r\n",
       "E4  - -> \"*\"E5 [[psysml:23f0aa3a-74d1-4632-9e57-f97d17e19ec4 ]] : [x == 0]\r\n",
       "E7  - -> \"*\"E2 [[psysml:1fcd52fd-d040-4c7e-90de-1e4181f9ba4a ]] : [x > 0]\r\n",
       "@enduml\r\n",
       "\n",
       "PlantUML version 1.2020.13(Sat Jun 13 12:26:38 UTC 2020)\n",
       "(EPL source distribution)\n",
       "Java Runtime: OpenJDK Runtime Environment\n",
       "JVM: OpenJDK 64-Bit Server VM\n",
       "Default Encoding: UTF-8\n",
       "Language: en\n",
       "Country: null\n",
       "--></g></svg>"
      ]
     },
     "execution_count": 36,
     "metadata": {},
     "output_type": "execute_result"
    }
   ],
   "source": [
    "%viz --style=\"PLANTUML\" --view=\"MIXED\" \"DecisionTest\""
   ]
  },
  {
   "cell_type": "code",
   "execution_count": 37,
   "id": "dabf37cb",
   "metadata": {
    "execution": {
     "iopub.execute_input": "2022-03-21T07:51:01.965582Z",
     "iopub.status.busy": "2022-03-21T07:51:01.965148Z",
     "iopub.status.idle": "2022-03-21T07:51:02.004210Z",
     "shell.execute_reply": "2022-03-21T07:51:02.003917Z"
    }
   },
   "outputs": [
    {
     "data": {
      "image/svg+xml": [
       "<?xml version=\"1.0\" encoding=\"UTF-8\" standalone=\"no\"?><svg xmlns=\"http://www.w3.org/2000/svg\" xmlns:xlink=\"http://www.w3.org/1999/xlink\" contentScriptType=\"application/ecmascript\" contentStyleType=\"text/css\" height=\"488px\" preserveAspectRatio=\"none\" style=\"width:333px;height:488px;\" version=\"1.1\" viewBox=\"0 0 333 488\" width=\"333px\" zoomAndPan=\"magnify\"><defs/><g><!--MD5=[fbc87193dbaf4d95561dea2c320d4a47]\n",
       "cluster E1--><a href=\"psysml:62ac371c-e17a-420d-a580-1aab63005ed6\" target=\"_top\" title=\"psysml:62ac371c-e17a-420d-a580-1aab63005ed6\" xlink:actuate=\"onRequest\" xlink:href=\"psysml:62ac371c-e17a-420d-a580-1aab63005ed6\" xlink:show=\"new\" xlink:title=\"psysml:62ac371c-e17a-420d-a580-1aab63005ed6\" xlink:type=\"simple\"><rect fill=\"#FFFFFF\" height=\"470\" id=\"E1\" style=\"stroke: #383838; stroke-width: 1.5;\" width=\"315\" x=\"7\" y=\"7\"/><rect fill=\"#F8F8F8\" height=\"37.9375\" style=\"stroke: #383838; stroke-width: 1.5;\" width=\"315\" x=\"7\" y=\"7\"/><text fill=\"#000000\" font-family=\"sans-serif\" font-size=\"12\" font-style=\"italic\" lengthAdjust=\"spacingAndGlyphs\" textLength=\"81\" x=\"124\" y=\"23.1387\">«action  def»</text><text fill=\"#000000\" font-family=\"sans-serif\" font-size=\"12\" lengthAdjust=\"spacingAndGlyphs\" textLength=\"80\" x=\"124.5\" y=\"37.1074\">DecisionTest</text></a><polygon fill=\"#F8F8F8\" points=\"210,67.5,222,79.5,210,91.5,198,79.5,210,67.5\" style=\"stroke: #383838; stroke-width: 1.5;\"/><polygon fill=\"#F8F8F8\" points=\"35,187.5,47,199.5,35,211.5,23,199.5,35,187.5\" style=\"stroke: #383838; stroke-width: 1.5;\"/><g id=\"E1.E4\"><a href=\"psysml:bb8ae358-9e9d-46e4-9973-23f4ed00e117\" target=\"_top\" title=\"psysml:bb8ae358-9e9d-46e4-9973-23f4ed00e117\" xlink:actuate=\"onRequest\" xlink:href=\"psysml:bb8ae358-9e9d-46e4-9973-23f4ed00e117\" xlink:show=\"new\" xlink:title=\"psysml:bb8ae358-9e9d-46e4-9973-23f4ed00e117\" xlink:type=\"simple\"><rect fill=\"#FFFFFF\" height=\"42.9375\" id=\"E4\" rx=\"10\" ry=\"10\" style=\"stroke: #383838; stroke-width: 1.5;\" width=\"60\" x=\"135\" y=\"298\"/><rect fill=\"#F8F8F8\" height=\"37.9375\" rx=\"10\" ry=\"10\" style=\"stroke: #F8F8F8; stroke-width: 1.5;\" width=\"60\" x=\"135\" y=\"298\"/><rect fill=\"#F8F8F8\" height=\"10\" style=\"stroke: #F8F8F8; stroke-width: 1.5;\" width=\"60\" x=\"135\" y=\"325.9375\"/><rect fill=\"none\" height=\"42.9375\" id=\"E4\" rx=\"10\" ry=\"10\" style=\"stroke: #383838; stroke-width: 1.5;\" width=\"60\" x=\"135\" y=\"298\"/><text fill=\"#000000\" font-family=\"sans-serif\" font-size=\"12\" font-style=\"italic\" lengthAdjust=\"spacingAndGlyphs\" textLength=\"53\" x=\"138.5\" y=\"314.1387\">«action»</text><text fill=\"#000000\" font-family=\"sans-serif\" font-size=\"12\" lengthAdjust=\"spacingAndGlyphs\" textLength=\"16\" x=\"157\" y=\"328.1074\">A1</text></a></g><g id=\"E1.E5\"><a href=\"psysml:e7f91728-bf49-43a2-b90b-9012c9afe2c4\" target=\"_top\" title=\"psysml:e7f91728-bf49-43a2-b90b-9012c9afe2c4\" xlink:actuate=\"onRequest\" xlink:href=\"psysml:e7f91728-bf49-43a2-b90b-9012c9afe2c4\" xlink:show=\"new\" xlink:title=\"psysml:e7f91728-bf49-43a2-b90b-9012c9afe2c4\" xlink:type=\"simple\"><rect fill=\"#FFFFFF\" height=\"42.9375\" id=\"E5\" rx=\"10\" ry=\"10\" style=\"stroke: #383838; stroke-width: 1.5;\" width=\"60\" x=\"135\" y=\"418\"/><rect fill=\"#F8F8F8\" height=\"37.9375\" rx=\"10\" ry=\"10\" style=\"stroke: #F8F8F8; stroke-width: 1.5;\" width=\"60\" x=\"135\" y=\"418\"/><rect fill=\"#F8F8F8\" height=\"10\" style=\"stroke: #F8F8F8; stroke-width: 1.5;\" width=\"60\" x=\"135\" y=\"445.9375\"/><rect fill=\"none\" height=\"42.9375\" id=\"E5\" rx=\"10\" ry=\"10\" style=\"stroke: #383838; stroke-width: 1.5;\" width=\"60\" x=\"135\" y=\"418\"/><text fill=\"#000000\" font-family=\"sans-serif\" font-size=\"12\" font-style=\"italic\" lengthAdjust=\"spacingAndGlyphs\" textLength=\"53\" x=\"138.5\" y=\"434.1387\">«action»</text><text fill=\"#000000\" font-family=\"sans-serif\" font-size=\"12\" lengthAdjust=\"spacingAndGlyphs\" textLength=\"16\" x=\"157\" y=\"448.1074\">A2</text></a></g><g id=\"E1.E6\"><a href=\"psysml:0d8578a4-a91e-4bc0-9576-e9210611ea53\" target=\"_top\" title=\"psysml:0d8578a4-a91e-4bc0-9576-e9210611ea53\" xlink:actuate=\"onRequest\" xlink:href=\"psysml:0d8578a4-a91e-4bc0-9576-e9210611ea53\" xlink:show=\"new\" xlink:title=\"psysml:0d8578a4-a91e-4bc0-9576-e9210611ea53\" xlink:type=\"simple\"><rect fill=\"#FFFFFF\" height=\"42.9375\" id=\"E6\" rx=\"10\" ry=\"10\" style=\"stroke: #383838; stroke-width: 1.5;\" width=\"60\" x=\"63\" y=\"58\"/><rect fill=\"#F8F8F8\" height=\"37.9375\" rx=\"10\" ry=\"10\" style=\"stroke: #F8F8F8; stroke-width: 1.5;\" width=\"60\" x=\"63\" y=\"58\"/><rect fill=\"#F8F8F8\" height=\"10\" style=\"stroke: #F8F8F8; stroke-width: 1.5;\" width=\"60\" x=\"63\" y=\"85.9375\"/><rect fill=\"none\" height=\"42.9375\" id=\"E6\" rx=\"10\" ry=\"10\" style=\"stroke: #383838; stroke-width: 1.5;\" width=\"60\" x=\"63\" y=\"58\"/><text fill=\"#000000\" font-family=\"sans-serif\" font-size=\"12\" font-style=\"italic\" lengthAdjust=\"spacingAndGlyphs\" textLength=\"53\" x=\"66.5\" y=\"74.1387\">«action»</text><text fill=\"#000000\" font-family=\"sans-serif\" font-size=\"12\" lengthAdjust=\"spacingAndGlyphs\" textLength=\"16\" x=\"85\" y=\"88.1074\">A3</text></a></g><g id=\"E1.E7\"><a href=\"psysml:0d8578a4-a91e-4bc0-9576-e9210611ea53\" target=\"_top\" title=\"psysml:0d8578a4-a91e-4bc0-9576-e9210611ea53\" xlink:actuate=\"onRequest\" xlink:href=\"psysml:0d8578a4-a91e-4bc0-9576-e9210611ea53\" xlink:show=\"new\" xlink:title=\"psysml:0d8578a4-a91e-4bc0-9576-e9210611ea53\" xlink:type=\"simple\"><rect fill=\"#FFFFFF\" height=\"42.9375\" id=\"E7\" rx=\"10\" ry=\"10\" style=\"stroke: #383838; stroke-width: 1.5;\" width=\"60\" x=\"246\" y=\"178\"/><rect fill=\"#F8F8F8\" height=\"37.9375\" rx=\"10\" ry=\"10\" style=\"stroke: #F8F8F8; stroke-width: 1.5;\" width=\"60\" x=\"246\" y=\"178\"/><rect fill=\"#F8F8F8\" height=\"10\" style=\"stroke: #F8F8F8; stroke-width: 1.5;\" width=\"60\" x=\"246\" y=\"205.9375\"/><rect fill=\"none\" height=\"42.9375\" id=\"E7\" rx=\"10\" ry=\"10\" style=\"stroke: #383838; stroke-width: 1.5;\" width=\"60\" x=\"246\" y=\"178\"/><text fill=\"#000000\" font-family=\"sans-serif\" font-size=\"12\" font-style=\"italic\" lengthAdjust=\"spacingAndGlyphs\" textLength=\"53\" x=\"249.5\" y=\"194.1387\">«action»</text><text fill=\"#000000\" font-family=\"sans-serif\" font-size=\"12\" lengthAdjust=\"spacingAndGlyphs\" textLength=\"16\" x=\"268\" y=\"208.1074\">A3</text></a></g><!--MD5=[4d03bb2d0377dc85ccfab60ff574652b]\n",
       "link E2 to E4--><a href=\"psysml:8074e684-9dcd-4869-b14d-8570f637bde9\" target=\"_top\" title=\"psysml:8074e684-9dcd-4869-b14d-8570f637bde9\" xlink:actuate=\"onRequest\" xlink:href=\"psysml:8074e684-9dcd-4869-b14d-8570f637bde9\" xlink:show=\"new\" xlink:title=\"psysml:8074e684-9dcd-4869-b14d-8570f637bde9\" xlink:type=\"simple\"><path d=\"M204.45,86 C190.88,99.89 156.22,138.13 144,178 C132.04,217.01 144.31,264.27 154.48,292.83 \" fill=\"none\" id=\"E2-&gt;E4\" style=\"stroke: #383838; stroke-width: 1.0;\"/><polygon fill=\"#383838\" points=\"156.22,297.6,156.8939,287.7742,154.5067,292.9027,149.3782,290.5155,156.22,297.6\" style=\"stroke: #383838; stroke-width: 1.0;\"/><text fill=\"#000000\" font-family=\"sans-serif\" font-size=\"13\" lengthAdjust=\"spacingAndGlyphs\" textLength=\"55\" x=\"145\" y=\"204.0669\">[x == 1]</text><text fill=\"#000000\" font-family=\"sans-serif\" font-size=\"13\" lengthAdjust=\"spacingAndGlyphs\" textLength=\"7\" x=\"145.9198\" y=\"286.7919\">*</text></a><!--MD5=[dcad52bbbca2fe8adc741ce38b45dc12]\n",
       "link E2 to E5--><a href=\"psysml:3f3ee8aa-e9f7-416c-965c-8aff211aef79\" target=\"_top\" title=\"psysml:3f3ee8aa-e9f7-416c-965c-8aff211aef79\" xlink:actuate=\"onRequest\" xlink:href=\"psysml:3f3ee8aa-e9f7-416c-965c-8aff211aef79\" xlink:show=\"new\" xlink:title=\"psysml:3f3ee8aa-e9f7-416c-965c-8aff211aef79\" xlink:type=\"simple\"><path d=\"M210.67,90.83 C214.08,143.62 229.24,381.12 226,388 C220.27,400.19 209.98,410.45 199.48,418.47 \" fill=\"none\" id=\"E2-&gt;E5\" style=\"stroke: #383838; stroke-width: 1.0;\"/><polygon fill=\"#383838\" points=\"195.29,421.54,204.9073,419.4168,199.3138,418.5721,200.1586,412.9786,195.29,421.54\" style=\"stroke: #383838; stroke-width: 1.0;\"/><text fill=\"#000000\" font-family=\"sans-serif\" font-size=\"13\" lengthAdjust=\"spacingAndGlyphs\" textLength=\"44\" x=\"222\" y=\"264.0669\">[x &gt; 1]</text><text fill=\"#000000\" font-family=\"sans-serif\" font-size=\"13\" lengthAdjust=\"spacingAndGlyphs\" textLength=\"7\" x=\"203.1039\" y=\"412.7419\">*</text></a><!--MD5=[e3d2a08a9c9236652057e8ed0cbc9b62]\n",
       "link E2 to E7--><a href=\"psysml:5268f6a4-a59c-47f8-920f-30c5900c34c3\" target=\"_top\" title=\"psysml:5268f6a4-a59c-47f8-920f-30c5900c34c3\" xlink:actuate=\"onRequest\" xlink:href=\"psysml:5268f6a4-a59c-47f8-920f-30c5900c34c3\" xlink:show=\"new\" xlink:title=\"psysml:5268f6a4-a59c-47f8-920f-30c5900c34c3\" xlink:type=\"simple\"><path d=\"M210.1,91.71 C210.67,105.71 213.16,129.99 223,148 C228.29,157.68 236.08,166.6 244.08,174.17 \" fill=\"none\" id=\"E2-&gt;E7\" style=\"stroke: #383838; stroke-width: 1.0;\"/><polygon fill=\"#383838\" points=\"248.01,177.77,244.069,168.744,244.3207,174.3953,238.6694,174.6469,248.01,177.77\" style=\"stroke: #383838; stroke-width: 1.0;\"/><text fill=\"#000000\" font-family=\"sans-serif\" font-size=\"13\" lengthAdjust=\"spacingAndGlyphs\" textLength=\"7\" x=\"232.5471\" y=\"167.0076\">*</text></a><!--MD5=[583832df87f4419a098336a29a52fa00]\n",
       "link E7 to E2--><a href=\"psysml:1fcd52fd-d040-4c7e-90de-1e4181f9ba4a\" target=\"_top\" title=\"psysml:1fcd52fd-d040-4c7e-90de-1e4181f9ba4a\" xlink:actuate=\"onRequest\" xlink:href=\"psysml:1fcd52fd-d040-4c7e-90de-1e4181f9ba4a\" xlink:show=\"new\" xlink:title=\"psysml:1fcd52fd-d040-4c7e-90de-1e4181f9ba4a\" xlink:type=\"simple\"><path d=\"M264.3,177.59 C250.41,152.74 227.7,112.15 216.57,92.25 \" fill=\"none\" id=\"E7-&gt;E2\" style=\"stroke: #383838; stroke-width: 1.0;\"/><polygon fill=\"#383838\" points=\"214.13,87.88,215.0286,97.6878,216.5691,92.2447,222.0122,93.7852,214.13,87.88\" style=\"stroke: #383838; stroke-width: 1.0;\"/><text fill=\"#000000\" font-family=\"sans-serif\" font-size=\"13\" lengthAdjust=\"spacingAndGlyphs\" textLength=\"44\" x=\"247\" y=\"144.0669\">[x &gt; 0]</text><text fill=\"#000000\" font-family=\"sans-serif\" font-size=\"13\" lengthAdjust=\"spacingAndGlyphs\" textLength=\"7\" x=\"207.5946\" y=\"111.7074\">*</text></a><!--MD5=[2720a5a1f2c3fca2055b230370638851]\n",
       "link E2 to E3--><a href=\"psysml:c0d6c8f2-adfa-4de5-8b53-fd445de20c7a\" target=\"_top\" title=\"psysml:c0d6c8f2-adfa-4de5-8b53-fd445de20c7a\" xlink:actuate=\"onRequest\" xlink:href=\"psysml:c0d6c8f2-adfa-4de5-8b53-fd445de20c7a\" xlink:show=\"new\" xlink:title=\"psysml:c0d6c8f2-adfa-4de5-8b53-fd445de20c7a\" xlink:type=\"simple\"><path d=\"M201.9,83.58 C184.06,90.55 140.39,108.7 108,131 C82.49,148.57 56.88,174.67 43.84,188.71 \" fill=\"none\" id=\"E2-&gt;E3\" style=\"stroke: #383838; stroke-width: 1.0;\"/><polygon fill=\"#383838\" points=\"40.21,192.66,49.2443,188.738,43.5925,188.9778,43.3527,183.326,40.21,192.66\" style=\"stroke: #383838; stroke-width: 1.0;\"/><text fill=\"#000000\" font-family=\"sans-serif\" font-size=\"13\" lengthAdjust=\"spacingAndGlyphs\" textLength=\"7\" x=\"48.2668\" y=\"176.5238\">*</text></a><!--MD5=[af87c684e3b0d8be13c1a698a818ef1e]\n",
       "link E3 to E4--><a href=\"psysml:647fb379-8896-403f-81c0-e54862ace948\" target=\"_top\" title=\"psysml:647fb379-8896-403f-81c0-e54862ace948\" xlink:actuate=\"onRequest\" xlink:href=\"psysml:647fb379-8896-403f-81c0-e54862ace948\" xlink:show=\"new\" xlink:title=\"psysml:647fb379-8896-403f-81c0-e54862ace948\" xlink:type=\"simple\"><path d=\"M39.08,207.91 C46.63,221.15 63.87,249.24 84,268 C97.73,280.8 115.17,292.16 130.35,300.85 \" fill=\"none\" id=\"E3-&gt;E4\" style=\"stroke: #383838; stroke-width: 1.0;\"/><polygon fill=\"#383838\" points=\"134.98,303.46,129.0858,295.5696,130.6187,301.0148,125.1735,302.5477,134.98,303.46\" style=\"stroke: #383838; stroke-width: 1.0;\"/><text fill=\"#000000\" font-family=\"sans-serif\" font-size=\"13\" lengthAdjust=\"spacingAndGlyphs\" textLength=\"36\" x=\"85\" y=\"264.0669\">[true]</text><text fill=\"#000000\" font-family=\"sans-serif\" font-size=\"13\" lengthAdjust=\"spacingAndGlyphs\" textLength=\"7\" x=\"119.8095\" y=\"294.8128\">*</text></a><!--MD5=[0188b64bb0ae78505a997a81836e11e9]\n",
       "link E3 to E5--><a href=\"psysml:1317e145-771b-48e4-a88c-08ae6f2caba6\" target=\"_top\" title=\"psysml:1317e145-771b-48e4-a88c-08ae6f2caba6\" xlink:actuate=\"onRequest\" xlink:href=\"psysml:1317e145-771b-48e4-a88c-08ae6f2caba6\" xlink:show=\"new\" xlink:title=\"psysml:1317e145-771b-48e4-a88c-08ae6f2caba6\" xlink:type=\"simple\"><path d=\"M36.3,210.29 C39.76,234.03 50.73,296.03 76,341 C91.89,369.29 117.42,396.1 137.07,414.43 \" fill=\"none\" id=\"E3-&gt;E5\" style=\"stroke: #383838; stroke-width: 1.0;\"/><polygon fill=\"#383838\" points=\"140.92,417.98,137.0155,408.9382,137.2443,414.5904,131.5921,414.8192,140.92,417.98\" style=\"stroke: #383838; stroke-width: 1.0;\"/><text fill=\"#000000\" font-family=\"sans-serif\" font-size=\"13\" lengthAdjust=\"spacingAndGlyphs\" textLength=\"40\" x=\"77\" y=\"324.0669\">[false]</text><text fill=\"#000000\" font-family=\"sans-serif\" font-size=\"13\" lengthAdjust=\"spacingAndGlyphs\" textLength=\"7\" x=\"126.1631\" y=\"406.9125\">*</text></a><!--MD5=[1b7591eae5389033d8d09a9d6721a717]\n",
       "link E4 to E5--><a href=\"psysml:23f0aa3a-74d1-4632-9e57-f97d17e19ec4\" target=\"_top\" title=\"psysml:23f0aa3a-74d1-4632-9e57-f97d17e19ec4\" xlink:actuate=\"onRequest\" xlink:href=\"psysml:23f0aa3a-74d1-4632-9e57-f97d17e19ec4\" xlink:show=\"new\" xlink:title=\"psysml:23f0aa3a-74d1-4632-9e57-f97d17e19ec4\" xlink:type=\"simple\"><path d=\"M165,341.05 C165,360.9 165,391.02 165,412.52 \" fill=\"none\" id=\"E4-&gt;E5\" style=\"stroke: #383838; stroke-width: 1.0;\"/><polygon fill=\"#383838\" points=\"165,417.79,169,408.79,165,412.79,161,408.79,165,417.79\" style=\"stroke: #383838; stroke-width: 1.0;\"/><text fill=\"#000000\" font-family=\"sans-serif\" font-size=\"13\" lengthAdjust=\"spacingAndGlyphs\" textLength=\"55\" x=\"166\" y=\"384.0669\">[x == 0]</text><text fill=\"#000000\" font-family=\"sans-serif\" font-size=\"13\" lengthAdjust=\"spacingAndGlyphs\" textLength=\"7\" x=\"157.0594\" y=\"407.033\">*</text></a><!--MD5=[bd4353a165167bb3a1b619b10dbce7c7]\n",
       "@startuml\r\n",
       "skinparam monochrome true\r\n",
       "skinparam classbackgroundcolor white\r\n",
       "skinparam shadowing false\r\n",
       "skinparam wrapWidth 300\r\n",
       "hide circle\r\n",
       "\r\n",
       "rec def \"DecisionTest\" as E1  <<(T,blue) action  def>> [[psysml:62ac371c-e17a-420d-a580-1aab63005ed6 ]] {\r\n",
       "choice \"test x\" as E2  [[psysml:2e150d19-c5c5-4276-9136-9fe31d212434 ]] \r\n",
       "choice \"<s>noname</s>\" as E3  [[psysml:cc5b619c-f329-4ed7-9a64-7943d6ed9569 ]] \r\n",
       "rec usage \"A1\" as E4  <<(T,blue) action>> [[psysml:bb8ae358-9e9d-46e4-9973-23f4ed00e117 ]] {\r\n",
       "}\r\n",
       "\r\n",
       "rec usage \"A2\" as E5  <<(T,blue) action>> [[psysml:e7f91728-bf49-43a2-b90b-9012c9afe2c4 ]] {\r\n",
       "}\r\n",
       "\r\n",
       "rec usage \"A3\" as E6  <<(T,blue) action>> [[psysml:0d8578a4-a91e-4bc0-9576-e9210611ea53 ]] {\r\n",
       "}\r\n",
       "\r\n",
       "rec usage \"A3\" as E7  <<(T,blue) action>> [[psysml:0d8578a4-a91e-4bc0-9576-e9210611ea53 ]] {\r\n",
       "}\r\n",
       "\r\n",
       "}\r\n",
       "\r\n",
       "E2  - -> \"*\"E4 [[psysml:8074e684-9dcd-4869-b14d-8570f637bde9 ]] : [x == 1]\r\n",
       "E2  - -> \"*\"E5 [[psysml:3f3ee8aa-e9f7-416c-965c-8aff211aef79 ]] : [x > 1]\r\n",
       "E2  - -> \"*\"E7 [[psysml:5268f6a4-a59c-47f8-920f-30c5900c34c3 ]] \r\n",
       "E2 - -> \"*\"E3 [[psysml:c0d6c8f2-adfa-4de5-8b53-fd445de20c7a ]] \r\n",
       "E3  - -> \"*\"E4 [[psysml:647fb379-8896-403f-81c0-e54862ace948 ]] : [true]\r\n",
       "E3  - -> \"*\"E5 [[psysml:1317e145-771b-48e4-a88c-08ae6f2caba6 ]] : [false]\r\n",
       "E4  - -> \"*\"E5 [[psysml:23f0aa3a-74d1-4632-9e57-f97d17e19ec4 ]] : [x == 0]\r\n",
       "E7  - -> \"*\"E2 [[psysml:1fcd52fd-d040-4c7e-90de-1e4181f9ba4a ]] : [x > 0]\r\n",
       "@enduml\r\n",
       "\n",
       "PlantUML version 1.2020.13(Sat Jun 13 12:26:38 UTC 2020)\n",
       "(EPL source distribution)\n",
       "Java Runtime: OpenJDK Runtime Environment\n",
       "JVM: OpenJDK 64-Bit Server VM\n",
       "Default Encoding: UTF-8\n",
       "Language: en\n",
       "Country: null\n",
       "--></g></svg>"
      ]
     },
     "execution_count": 37,
     "metadata": {},
     "output_type": "execute_result"
    }
   ],
   "source": [
    "%viz --style=\"DEFAULT\" --view=\"Default\" \"DecisionTest\""
   ]
  },
  {
   "cell_type": "code",
   "execution_count": 38,
   "id": "3750141b",
   "metadata": {
    "execution": {
     "iopub.execute_input": "2022-03-21T07:51:02.054160Z",
     "iopub.status.busy": "2022-03-21T07:51:02.053642Z",
     "iopub.status.idle": "2022-03-21T07:51:02.176679Z",
     "shell.execute_reply": "2022-03-21T07:51:02.175855Z"
    }
   },
   "outputs": [
    {
     "data": {
      "image/svg+xml": [
       "<?xml version=\"1.0\" encoding=\"UTF-8\" standalone=\"no\"?><svg xmlns=\"http://www.w3.org/2000/svg\" xmlns:xlink=\"http://www.w3.org/1999/xlink\" contentScriptType=\"application/ecmascript\" contentStyleType=\"text/css\" height=\"335px\" preserveAspectRatio=\"none\" style=\"width:531px;height:335px;\" version=\"1.1\" viewBox=\"0 0 531 335\" width=\"531px\" zoomAndPan=\"magnify\"><defs/><g><!--MD5=[43c9051892ef23e1a46a86907403d788]\n",
       "class E1--><a href=\"psysml:62ac371c-e17a-420d-a580-1aab63005ed6\" target=\"_top\" title=\"psysml:62ac371c-e17a-420d-a580-1aab63005ed6\" xlink:actuate=\"onRequest\" xlink:href=\"psysml:62ac371c-e17a-420d-a580-1aab63005ed6\" xlink:show=\"new\" xlink:title=\"psysml:62ac371c-e17a-420d-a580-1aab63005ed6\" xlink:type=\"simple\"><rect fill=\"#FFFFFF\" height=\"211.5938\" id=\"E1\" style=\"stroke: #383838; stroke-width: 1.5;\" width=\"86\" x=\"315\" y=\"7\"/><text fill=\"#000000\" font-family=\"sans-serif\" font-size=\"12\" font-style=\"italic\" lengthAdjust=\"spacingAndGlyphs\" textLength=\"81\" x=\"317.5\" y=\"23.1387\">«action  def»</text><text fill=\"#000000\" font-family=\"sans-serif\" font-size=\"12\" lengthAdjust=\"spacingAndGlyphs\" textLength=\"80\" x=\"318\" y=\"37.1074\">DecisionTest</text><line style=\"stroke: #383838; stroke-width: 1.5;\" x1=\"316\" x2=\"400\" y1=\"44.9375\" y2=\"44.9375\"/><text fill=\"#000000\" font-family=\"sans-serif\" font-size=\"11\" lengthAdjust=\"spacingAndGlyphs\" textLength=\"30\" x=\"321\" y=\"75.9526\">x= 1;</text><line style=\"stroke: #383838; stroke-width: 1.0;\" x1=\"316\" x2=\"330.5\" y1=\"59.3398\" y2=\"59.3398\"/><text fill=\"#000000\" font-family=\"sans-serif\" font-size=\"11\" lengthAdjust=\"spacingAndGlyphs\" textLength=\"55\" x=\"330.5\" y=\"62.6479\">attributes</text><line style=\"stroke: #383838; stroke-width: 1.0;\" x1=\"385.5\" x2=\"400\" y1=\"59.3398\" y2=\"59.3398\"/><text fill=\"#000000\" font-family=\"sans-serif\" font-size=\"11\" lengthAdjust=\"spacingAndGlyphs\" textLength=\"25\" x=\"321\" y=\"105.562\">then</text><line style=\"stroke: #383838; stroke-width: 1.0;\" x1=\"316\" x2=\"322.5\" y1=\"88.9492\" y2=\"88.9492\"/><text fill=\"#000000\" font-family=\"sans-serif\" font-size=\"11\" lengthAdjust=\"spacingAndGlyphs\" textLength=\"71\" x=\"322.5\" y=\"92.2573\">successions</text><line style=\"stroke: #383838; stroke-width: 1.0;\" x1=\"393.5\" x2=\"400\" y1=\"88.9492\" y2=\"88.9492\"/><text fill=\"#000000\" font-family=\"sans-serif\" font-size=\"11\" lengthAdjust=\"spacingAndGlyphs\" textLength=\"0\" x=\"325\" y=\"135.1714\"/><text fill=\"#000000\" font-family=\"sans-serif\" font-size=\"11\" lengthAdjust=\"spacingAndGlyphs\" textLength=\"0\" x=\"325\" y=\"147.9761\"/><text fill=\"#000000\" font-family=\"sans-serif\" font-size=\"11\" lengthAdjust=\"spacingAndGlyphs\" textLength=\"0\" x=\"325\" y=\"160.7808\"/><text fill=\"#000000\" font-family=\"sans-serif\" font-size=\"11\" lengthAdjust=\"spacingAndGlyphs\" textLength=\"0\" x=\"325\" y=\"173.5854\"/><text fill=\"#000000\" font-family=\"sans-serif\" font-size=\"11\" lengthAdjust=\"spacingAndGlyphs\" textLength=\"0\" x=\"325\" y=\"186.3901\"/><text fill=\"#000000\" font-family=\"sans-serif\" font-size=\"11\" lengthAdjust=\"spacingAndGlyphs\" textLength=\"0\" x=\"325\" y=\"199.1948\"/><text fill=\"#000000\" font-family=\"sans-serif\" font-size=\"11\" lengthAdjust=\"spacingAndGlyphs\" textLength=\"8\" x=\"321\" y=\"211.9995\">S</text><line style=\"stroke: #383838; stroke-width: 1.0;\" x1=\"316\" x2=\"327.5\" y1=\"118.5586\" y2=\"118.5586\"/><text fill=\"#000000\" font-family=\"sans-serif\" font-size=\"11\" lengthAdjust=\"spacingAndGlyphs\" textLength=\"61\" x=\"327.5\" y=\"121.8667\">transitions</text><line style=\"stroke: #383838; stroke-width: 1.0;\" x1=\"388.5\" x2=\"400\" y1=\"118.5586\" y2=\"118.5586\"/></a><!--MD5=[b4997ac47864f28c2f74865a473b2911]\n",
       "class E2--><a href=\"psysml:2e150d19-c5c5-4276-9136-9fe31d212434\" target=\"_top\" title=\"psysml:2e150d19-c5c5-4276-9136-9fe31d212434\" xlink:actuate=\"onRequest\" xlink:href=\"psysml:2e150d19-c5c5-4276-9136-9fe31d212434\" xlink:show=\"new\" xlink:title=\"psysml:2e150d19-c5c5-4276-9136-9fe31d212434\" xlink:type=\"simple\"><rect fill=\"#FFFFFF\" height=\"45.9375\" id=\"E2\" rx=\"10\" ry=\"10\" style=\"stroke: #383838; stroke-width: 1.5;\" width=\"104\" x=\"7\" y=\"279\"/><text fill=\"#000000\" font-family=\"sans-serif\" font-size=\"12\" font-style=\"italic\" lengthAdjust=\"spacingAndGlyphs\" textLength=\"102\" x=\"8\" y=\"295.1387\">«decision node»</text><text fill=\"#000000\" font-family=\"sans-serif\" font-size=\"12\" lengthAdjust=\"spacingAndGlyphs\" textLength=\"35\" x=\"39.5\" y=\"309.1074\">test x</text><line style=\"stroke: #383838; stroke-width: 1.5;\" x1=\"8\" x2=\"110\" y1=\"316.9375\" y2=\"316.9375\"/></a><!--MD5=[09b614a08d8cba4a07c9adeb5e0fee81]\n",
       "class E3--><a href=\"psysml:cc5b619c-f329-4ed7-9a64-7943d6ed9569\" target=\"_top\" title=\"psysml:cc5b619c-f329-4ed7-9a64-7943d6ed9569\" xlink:actuate=\"onRequest\" xlink:href=\"psysml:cc5b619c-f329-4ed7-9a64-7943d6ed9569\" xlink:show=\"new\" xlink:title=\"psysml:cc5b619c-f329-4ed7-9a64-7943d6ed9569\" xlink:type=\"simple\"><rect fill=\"#FFFFFF\" height=\"45.9375\" id=\"E3\" rx=\"10\" ry=\"10\" style=\"stroke: #383838; stroke-width: 1.5;\" width=\"104\" x=\"146\" y=\"279\"/><text fill=\"#000000\" font-family=\"sans-serif\" font-size=\"12\" font-style=\"italic\" lengthAdjust=\"spacingAndGlyphs\" textLength=\"102\" x=\"147\" y=\"295.1387\">«decision node»</text><text fill=\"#000000\" font-family=\"sans-serif\" font-size=\"12\" lengthAdjust=\"spacingAndGlyphs\" text-decoration=\"line-through\" textLength=\"51\" x=\"170.5\" y=\"309.1074\">noname</text><text fill=\"#000000\" font-family=\"sans-serif\" font-size=\"12\" lengthAdjust=\"spacingAndGlyphs\" textLength=\"0\" x=\"225.5\" y=\"309.1074\"/><line style=\"stroke: #383838; stroke-width: 1.5;\" x1=\"147\" x2=\"249\" y1=\"316.9375\" y2=\"316.9375\"/></a><!--MD5=[ebbe1d658d1005bcc118a6aa81145e00]\n",
       "class E4--><a href=\"psysml:bb8ae358-9e9d-46e4-9973-23f4ed00e117\" target=\"_top\" title=\"psysml:bb8ae358-9e9d-46e4-9973-23f4ed00e117\" xlink:actuate=\"onRequest\" xlink:href=\"psysml:bb8ae358-9e9d-46e4-9973-23f4ed00e117\" xlink:show=\"new\" xlink:title=\"psysml:bb8ae358-9e9d-46e4-9973-23f4ed00e117\" xlink:type=\"simple\"><rect fill=\"#FFFFFF\" height=\"45.9375\" id=\"E4\" rx=\"10\" ry=\"10\" style=\"stroke: #383838; stroke-width: 1.5;\" width=\"55\" x=\"285.5\" y=\"279\"/><text fill=\"#000000\" font-family=\"sans-serif\" font-size=\"12\" font-style=\"italic\" lengthAdjust=\"spacingAndGlyphs\" textLength=\"53\" x=\"286.5\" y=\"295.1387\">«action»</text><text fill=\"#000000\" font-family=\"sans-serif\" font-size=\"12\" lengthAdjust=\"spacingAndGlyphs\" textLength=\"16\" x=\"303\" y=\"309.1074\">A1</text><line style=\"stroke: #383838; stroke-width: 1.5;\" x1=\"286.5\" x2=\"339.5\" y1=\"316.9375\" y2=\"316.9375\"/></a><!--MD5=[270fce915f116d4de14055a7c1d9a0f3]\n",
       "class E5--><a href=\"psysml:e7f91728-bf49-43a2-b90b-9012c9afe2c4\" target=\"_top\" title=\"psysml:e7f91728-bf49-43a2-b90b-9012c9afe2c4\" xlink:actuate=\"onRequest\" xlink:href=\"psysml:e7f91728-bf49-43a2-b90b-9012c9afe2c4\" xlink:show=\"new\" xlink:title=\"psysml:e7f91728-bf49-43a2-b90b-9012c9afe2c4\" xlink:type=\"simple\"><rect fill=\"#FFFFFF\" height=\"45.9375\" id=\"E5\" rx=\"10\" ry=\"10\" style=\"stroke: #383838; stroke-width: 1.5;\" width=\"55\" x=\"375.5\" y=\"279\"/><text fill=\"#000000\" font-family=\"sans-serif\" font-size=\"12\" font-style=\"italic\" lengthAdjust=\"spacingAndGlyphs\" textLength=\"53\" x=\"376.5\" y=\"295.1387\">«action»</text><text fill=\"#000000\" font-family=\"sans-serif\" font-size=\"12\" lengthAdjust=\"spacingAndGlyphs\" textLength=\"16\" x=\"393\" y=\"309.1074\">A2</text><line style=\"stroke: #383838; stroke-width: 1.5;\" x1=\"376.5\" x2=\"429.5\" y1=\"316.9375\" y2=\"316.9375\"/></a><!--MD5=[60a26617385b1d2d0262a64233df1f8d]\n",
       "class E6--><a href=\"psysml:0d8578a4-a91e-4bc0-9576-e9210611ea53\" target=\"_top\" title=\"psysml:0d8578a4-a91e-4bc0-9576-e9210611ea53\" xlink:actuate=\"onRequest\" xlink:href=\"psysml:0d8578a4-a91e-4bc0-9576-e9210611ea53\" xlink:show=\"new\" xlink:title=\"psysml:0d8578a4-a91e-4bc0-9576-e9210611ea53\" xlink:type=\"simple\"><rect fill=\"#FFFFFF\" height=\"45.9375\" id=\"E6\" rx=\"10\" ry=\"10\" style=\"stroke: #383838; stroke-width: 1.5;\" width=\"55\" x=\"465.5\" y=\"279\"/><text fill=\"#000000\" font-family=\"sans-serif\" font-size=\"12\" font-style=\"italic\" lengthAdjust=\"spacingAndGlyphs\" textLength=\"53\" x=\"466.5\" y=\"295.1387\">«action»</text><text fill=\"#000000\" font-family=\"sans-serif\" font-size=\"12\" lengthAdjust=\"spacingAndGlyphs\" textLength=\"16\" x=\"483\" y=\"309.1074\">A3</text><line style=\"stroke: #383838; stroke-width: 1.5;\" x1=\"466.5\" x2=\"519.5\" y1=\"316.9375\" y2=\"316.9375\"/></a><!--MD5=[a523cb2a0b79ecf9065ad8783f96c320]\n",
       "reverse link E1 to E2--><a href=\"psysml:61bbaf95-6b35-4ea8-9656-8ce08595131a\" target=\"_top\" title=\"psysml:61bbaf95-6b35-4ea8-9656-8ce08595131a\" xlink:actuate=\"onRequest\" xlink:href=\"psysml:61bbaf95-6b35-4ea8-9656-8ce08595131a\" xlink:show=\"new\" xlink:title=\"psysml:61bbaf95-6b35-4ea8-9656-8ce08595131a\" xlink:type=\"simple\"><path d=\"M303.54,148.06 C242.66,186.13 145.87,246.67 94.21,278.98 \" fill=\"none\" id=\"E1&lt;-E2\" style=\"stroke: #383838; stroke-width: 1.0;\"/><polygon fill=\"#383838\" points=\"314.84,140.99,307.632,140.7788,304.6648,147.3512,311.8728,147.5623,314.84,140.99\" style=\"stroke: #383838; stroke-width: 1.0;\"/></a><!--MD5=[5d7b3810b1dd9b5164bea1151b29b665]\n",
       "reverse link E1 to E3--><a href=\"psysml:1be4164a-e759-487d-bef2-3f3fc6c6ee3e\" target=\"_top\" title=\"psysml:1be4164a-e759-487d-bef2-3f3fc6c6ee3e\" xlink:actuate=\"onRequest\" xlink:href=\"psysml:1be4164a-e759-487d-bef2-3f3fc6c6ee3e\" xlink:show=\"new\" xlink:title=\"psysml:1be4164a-e759-487d-bef2-3f3fc6c6ee3e\" xlink:type=\"simple\"><path d=\"M305.9,174.89 C275.51,210.41 238.98,253.11 217.17,278.6 \" fill=\"none\" id=\"E1&lt;-E3\" style=\"stroke: #383838; stroke-width: 1.0;\"/><polygon fill=\"#383838\" points=\"314.7,164.6,307.7601,166.559,306.8992,173.7185,313.8391,171.7595,314.7,164.6\" style=\"stroke: #383838; stroke-width: 1.0;\"/></a><!--MD5=[f2c5c03aa1e8c0ba21c10a05e6444b8e]\n",
       "reverse link E1 to E4--><a href=\"psysml:ea8ec5e3-dd0d-4201-a2d4-45f385d409e8\" target=\"_top\" title=\"psysml:ea8ec5e3-dd0d-4201-a2d4-45f385d409e8\" xlink:actuate=\"onRequest\" xlink:href=\"psysml:ea8ec5e3-dd0d-4201-a2d4-45f385d409e8\" xlink:show=\"new\" xlink:title=\"psysml:ea8ec5e3-dd0d-4201-a2d4-45f385d409e8\" xlink:type=\"simple\"><path d=\"M329.58,232.08 C325.3,249.9 321.32,266.44 318.33,278.84 \" fill=\"none\" id=\"E1&lt;-E4\" style=\"stroke: #383838; stroke-width: 1.0;\"/><polygon fill=\"#383838\" points=\"332.67,219.25,327.3811,224.1517,329.8715,230.9191,335.1605,226.0174,332.67,219.25\" style=\"stroke: #383838; stroke-width: 1.0;\"/><text fill=\"#000000\" font-family=\"sans-serif\" font-size=\"13\" lengthAdjust=\"spacingAndGlyphs\" textLength=\"7\" x=\"311.7989\" y=\"268.0753\">*</text></a><!--MD5=[33238bef88d6431a141d8bc8fb12bca0]\n",
       "reverse link E1 to E5--><a href=\"psysml:8b3fb5b8-4ae2-4666-9331-7642784b574c\" target=\"_top\" title=\"psysml:8b3fb5b8-4ae2-4666-9331-7642784b574c\" xlink:actuate=\"onRequest\" xlink:href=\"psysml:8b3fb5b8-4ae2-4666-9331-7642784b574c\" xlink:show=\"new\" xlink:title=\"psysml:8b3fb5b8-4ae2-4666-9331-7642784b574c\" xlink:type=\"simple\"><path d=\"M386.42,232.08 C390.7,249.9 394.68,266.44 397.67,278.84 \" fill=\"none\" id=\"E1&lt;-E5\" style=\"stroke: #383838; stroke-width: 1.0;\"/><polygon fill=\"#383838\" points=\"383.33,219.25,380.8395,226.0174,386.1285,230.9191,388.6189,224.1517,383.33,219.25\" style=\"stroke: #383838; stroke-width: 1.0;\"/><text fill=\"#000000\" font-family=\"sans-serif\" font-size=\"13\" lengthAdjust=\"spacingAndGlyphs\" textLength=\"7\" x=\"388.4073\" y=\"268.0753\">*</text></a><!--MD5=[aca2ef284c2b1b90e17e73bf3f292c07]\n",
       "reverse link E1 to E6--><a href=\"psysml:a8437b79-0ca7-4b3d-9ccd-1b1fd90c9a28\" target=\"_top\" title=\"psysml:a8437b79-0ca7-4b3d-9ccd-1b1fd90c9a28\" xlink:actuate=\"onRequest\" xlink:href=\"psysml:a8437b79-0ca7-4b3d-9ccd-1b1fd90c9a28\" xlink:show=\"new\" xlink:title=\"psysml:a8437b79-0ca7-4b3d-9ccd-1b1fd90c9a28\" xlink:type=\"simple\"><path d=\"M408.77,201.95 C429.03,230.31 451.36,259.35 468.19,278.59 \" fill=\"none\" id=\"E1&lt;-E6\" style=\"stroke: #383838; stroke-width: 1.0;\"/><polygon fill=\"#383838\" points=\"401.11,191.14,401.3121,198.3483,408.0436,200.9341,407.8415,193.7258,401.11,191.14\" style=\"stroke: #383838; stroke-width: 1.0;\"/><text fill=\"#000000\" font-family=\"sans-serif\" font-size=\"13\" lengthAdjust=\"spacingAndGlyphs\" textLength=\"7\" x=\"453.9356\" y=\"267.7612\">*</text></a><!--MD5=[aca2ef284c2b1b90e17e73bf3f292c07]\n",
       "reverse link E1 to E6--><a href=\"psysml:df3b65d4-7483-4b88-b5f9-cbf727def8cf\" target=\"_top\" title=\"psysml:df3b65d4-7483-4b88-b5f9-cbf727def8cf\" xlink:actuate=\"onRequest\" xlink:href=\"psysml:df3b65d4-7483-4b88-b5f9-cbf727def8cf\" xlink:show=\"new\" xlink:title=\"psysml:df3b65d4-7483-4b88-b5f9-cbf727def8cf\" xlink:type=\"simple\"><path d=\"M410.8,169.86 C439.32,206.45 471.27,252.27 486.16,278.93 \" fill=\"none\" id=\"E1&lt;-E6-1\" style=\"stroke: #383838; stroke-width: 1.0; stroke-dasharray: 7.0,7.0;\"/><ellipse cx=\"406.2494\" cy=\"164.1173\" fill=\"#FFFFFF\" rx=\"8\" ry=\"8\" style=\"stroke: #383838; stroke-width: 1.0;\"/><line style=\"stroke: #383838; stroke-width: 1.0;\" x1=\"411.2088\" x2=\"401.29\" y1=\"170.3946\" y2=\"157.84\"/><line style=\"stroke: #383838; stroke-width: 1.0;\" x1=\"399.9721\" x2=\"412.5267\" y1=\"169.0767\" y2=\"159.1579\"/><text fill=\"#000000\" font-family=\"sans-serif\" font-size=\"13\" lengthAdjust=\"spacingAndGlyphs\" textLength=\"7\" x=\"476.3811\" y=\"267.8075\">*</text></a><!--MD5=[1a19082557c6857637d03a36c43540e7]\n",
       "@startuml\r\n",
       "skinparam monochrome true\r\n",
       "skinparam classbackgroundcolor white\r\n",
       "skinparam shadowing false\r\n",
       "skinparam wrapWidth 300\r\n",
       "hide circle\r\n",
       "\r\n",
       "comp def \"DecisionTest\" as E1  <<(T,blue) action  def>> [[psysml:62ac371c-e17a-420d-a580-1aab63005ed6 ]] {\r\n",
       "- - attributes - -\r\n",
       "x= 1; \r\n",
       "- - successions - -\r\n",
       " then \r\n",
       "- - transitions - -\r\n",
       "\r\n",
       "\r\n",
       "\r\n",
       "\r\n",
       "\r\n",
       "\r\n",
       "S\r\n",
       "}\r\n",
       "comp usage \"test x \" as E2  <<(T,blue) decision node>> [[psysml:2e150d19-c5c5-4276-9136-9fe31d212434 ]] {\r\n",
       "}\r\n",
       "comp usage \"<s>noname</s> \" as E3  <<(T,blue) decision node>> [[psysml:cc5b619c-f329-4ed7-9a64-7943d6ed9569 ]] {\r\n",
       "}\r\n",
       "comp usage \"A1 \" as E4  <<(T,blue) action>> [[psysml:bb8ae358-9e9d-46e4-9973-23f4ed00e117 ]] {\r\n",
       "}\r\n",
       "comp usage \"A2 \" as E5  <<(T,blue) action>> [[psysml:e7f91728-bf49-43a2-b90b-9012c9afe2c4 ]] {\r\n",
       "}\r\n",
       "comp usage \"A3 \" as E6  <<(T,blue) action>> [[psysml:0d8578a4-a91e-4bc0-9576-e9210611ea53 ]] {\r\n",
       "}\r\n",
       "E1 *- - E2 [[psysml:61bbaf95-6b35-4ea8-9656-8ce08595131a ]] \r\n",
       "E1 *- - E3 [[psysml:1be4164a-e759-487d-bef2-3f3fc6c6ee3e ]] \r\n",
       "E1 *- - \"*\"E4 [[psysml:ea8ec5e3-dd0d-4201-a2d4-45f385d409e8 ]] \r\n",
       "E1 *- - \"*\"E5 [[psysml:8b3fb5b8-4ae2-4666-9331-7642784b574c ]] \r\n",
       "E1 *- - \"*\"E6 [[psysml:a8437b79-0ca7-4b3d-9ccd-1b1fd90c9a28 ]] \r\n",
       "E1 +.. \"*\"E6 [[psysml:df3b65d4-7483-4b88-b5f9-cbf727def8cf ]] \r\n",
       "@enduml\r\n",
       "\n",
       "PlantUML version 1.2020.13(Sat Jun 13 12:26:38 UTC 2020)\n",
       "(EPL source distribution)\n",
       "Java Runtime: OpenJDK Runtime Environment\n",
       "JVM: OpenJDK 64-Bit Server VM\n",
       "Default Encoding: UTF-8\n",
       "Language: en\n",
       "Country: null\n",
       "--></g></svg>"
      ]
     },
     "execution_count": 38,
     "metadata": {},
     "output_type": "execute_result"
    }
   ],
   "source": [
    "%viz --style=\"DEFAULT\" --view=\"Tree\" \"DecisionTest\""
   ]
  },
  {
   "cell_type": "code",
   "execution_count": 39,
   "id": "bbbb385f",
   "metadata": {
    "execution": {
     "iopub.execute_input": "2022-03-21T07:51:02.226471Z",
     "iopub.status.busy": "2022-03-21T07:51:02.226112Z",
     "iopub.status.idle": "2022-03-21T07:51:02.229284Z",
     "shell.execute_reply": "2022-03-21T07:51:02.229437Z"
    }
   },
   "outputs": [
    {
     "data": {
      "image/svg+xml": [
       "<?xml version=\"1.0\" encoding=\"UTF-8\" standalone=\"no\"?><svg xmlns=\"http://www.w3.org/2000/svg\" xmlns:xlink=\"http://www.w3.org/1999/xlink\" contentScriptType=\"application/ecmascript\" contentStyleType=\"text/css\" height=\"12px\" preserveAspectRatio=\"none\" style=\"width:12px;height:12px;\" version=\"1.1\" viewBox=\"0 0 12 12\" width=\"12px\" zoomAndPan=\"magnify\"><defs/><g><!--MD5=[c5f280e076d0d61ccf4b0f27871bda1d]\n",
       "@startuml\r\n",
       "skinparam monochrome true\r\n",
       "skinparam classbackgroundcolor white\r\n",
       "skinparam shadowing false\r\n",
       "skinparam wrapWidth 300\r\n",
       "hide circle\r\n",
       "\r\n",
       "@enduml\r\n",
       "\n",
       "PlantUML version 1.2020.13(Sat Jun 13 12:26:38 UTC 2020)\n",
       "(EPL source distribution)\n",
       "Java Runtime: OpenJDK Runtime Environment\n",
       "JVM: OpenJDK 64-Bit Server VM\n",
       "Default Encoding: UTF-8\n",
       "Language: en\n",
       "Country: null\n",
       "--></g></svg>"
      ]
     },
     "execution_count": 39,
     "metadata": {},
     "output_type": "execute_result"
    }
   ],
   "source": [
    "%viz --style=\"DEFAULT\" --view=\"State\" \"DecisionTest\""
   ]
  },
  {
   "cell_type": "code",
   "execution_count": 40,
   "id": "51f22d57",
   "metadata": {
    "execution": {
     "iopub.execute_input": "2022-03-21T07:51:02.280003Z",
     "iopub.status.busy": "2022-03-21T07:51:02.279655Z",
     "iopub.status.idle": "2022-03-21T07:51:02.309724Z",
     "shell.execute_reply": "2022-03-21T07:51:02.309347Z"
    }
   },
   "outputs": [
    {
     "data": {
      "image/svg+xml": [
       "<?xml version=\"1.0\" encoding=\"UTF-8\" standalone=\"no\"?><svg xmlns=\"http://www.w3.org/2000/svg\" xmlns:xlink=\"http://www.w3.org/1999/xlink\" contentScriptType=\"application/ecmascript\" contentStyleType=\"text/css\" height=\"356px\" preserveAspectRatio=\"none\" style=\"width:333px;height:356px;\" version=\"1.1\" viewBox=\"0 0 333 356\" width=\"333px\" zoomAndPan=\"magnify\"><defs/><g><!--MD5=[fbc87193dbaf4d95561dea2c320d4a47]\n",
       "cluster E1--><a href=\"psysml:62ac371c-e17a-420d-a580-1aab63005ed6\" target=\"_top\" title=\"psysml:62ac371c-e17a-420d-a580-1aab63005ed6\" xlink:actuate=\"onRequest\" xlink:href=\"psysml:62ac371c-e17a-420d-a580-1aab63005ed6\" xlink:show=\"new\" xlink:title=\"psysml:62ac371c-e17a-420d-a580-1aab63005ed6\" xlink:type=\"simple\"><rect fill=\"#FFFFFF\" height=\"338\" id=\"E1\" style=\"stroke: #383838; stroke-width: 1.5;\" width=\"315\" x=\"7\" y=\"7\"/><rect fill=\"#F8F8F8\" height=\"37.9375\" style=\"stroke: #383838; stroke-width: 1.5;\" width=\"315\" x=\"7\" y=\"7\"/><text fill=\"#000000\" font-family=\"sans-serif\" font-size=\"12\" font-style=\"italic\" lengthAdjust=\"spacingAndGlyphs\" textLength=\"81\" x=\"124\" y=\"23.1387\">«action  def»</text><text fill=\"#000000\" font-family=\"sans-serif\" font-size=\"12\" lengthAdjust=\"spacingAndGlyphs\" textLength=\"80\" x=\"124.5\" y=\"37.1074\">DecisionTest</text></a><polygon fill=\"#F8F8F8\" points=\"210,67.5,222,79.5,210,91.5,198,79.5,210,67.5\" style=\"stroke: #383838; stroke-width: 1.5;\"/><polygon fill=\"#F8F8F8\" points=\"35,143.5,47,155.5,35,167.5,23,155.5,35,143.5\" style=\"stroke: #383838; stroke-width: 1.5;\"/><g id=\"E1.E4\"><a href=\"psysml:bb8ae358-9e9d-46e4-9973-23f4ed00e117\" target=\"_top\" title=\"psysml:bb8ae358-9e9d-46e4-9973-23f4ed00e117\" xlink:actuate=\"onRequest\" xlink:href=\"psysml:bb8ae358-9e9d-46e4-9973-23f4ed00e117\" xlink:show=\"new\" xlink:title=\"psysml:bb8ae358-9e9d-46e4-9973-23f4ed00e117\" xlink:type=\"simple\"><rect fill=\"#FFFFFF\" height=\"42.9375\" id=\"E4\" rx=\"10\" ry=\"10\" style=\"stroke: #383838; stroke-width: 1.5;\" width=\"60\" x=\"135\" y=\"210\"/><rect fill=\"#F8F8F8\" height=\"37.9375\" rx=\"10\" ry=\"10\" style=\"stroke: #F8F8F8; stroke-width: 1.5;\" width=\"60\" x=\"135\" y=\"210\"/><rect fill=\"#F8F8F8\" height=\"10\" style=\"stroke: #F8F8F8; stroke-width: 1.5;\" width=\"60\" x=\"135\" y=\"237.9375\"/><rect fill=\"none\" height=\"42.9375\" id=\"E4\" rx=\"10\" ry=\"10\" style=\"stroke: #383838; stroke-width: 1.5;\" width=\"60\" x=\"135\" y=\"210\"/><text fill=\"#000000\" font-family=\"sans-serif\" font-size=\"12\" font-style=\"italic\" lengthAdjust=\"spacingAndGlyphs\" textLength=\"53\" x=\"138.5\" y=\"226.1387\">«action»</text><text fill=\"#000000\" font-family=\"sans-serif\" font-size=\"12\" lengthAdjust=\"spacingAndGlyphs\" textLength=\"16\" x=\"157\" y=\"240.1074\">A1</text></a></g><g id=\"E1.E5\"><a href=\"psysml:e7f91728-bf49-43a2-b90b-9012c9afe2c4\" target=\"_top\" title=\"psysml:e7f91728-bf49-43a2-b90b-9012c9afe2c4\" xlink:actuate=\"onRequest\" xlink:href=\"psysml:e7f91728-bf49-43a2-b90b-9012c9afe2c4\" xlink:show=\"new\" xlink:title=\"psysml:e7f91728-bf49-43a2-b90b-9012c9afe2c4\" xlink:type=\"simple\"><rect fill=\"#FFFFFF\" height=\"42.9375\" id=\"E5\" rx=\"10\" ry=\"10\" style=\"stroke: #383838; stroke-width: 1.5;\" width=\"60\" x=\"135\" y=\"286\"/><rect fill=\"#F8F8F8\" height=\"37.9375\" rx=\"10\" ry=\"10\" style=\"stroke: #F8F8F8; stroke-width: 1.5;\" width=\"60\" x=\"135\" y=\"286\"/><rect fill=\"#F8F8F8\" height=\"10\" style=\"stroke: #F8F8F8; stroke-width: 1.5;\" width=\"60\" x=\"135\" y=\"313.9375\"/><rect fill=\"none\" height=\"42.9375\" id=\"E5\" rx=\"10\" ry=\"10\" style=\"stroke: #383838; stroke-width: 1.5;\" width=\"60\" x=\"135\" y=\"286\"/><text fill=\"#000000\" font-family=\"sans-serif\" font-size=\"12\" font-style=\"italic\" lengthAdjust=\"spacingAndGlyphs\" textLength=\"53\" x=\"138.5\" y=\"302.1387\">«action»</text><text fill=\"#000000\" font-family=\"sans-serif\" font-size=\"12\" lengthAdjust=\"spacingAndGlyphs\" textLength=\"16\" x=\"157\" y=\"316.1074\">A2</text></a></g><g id=\"E1.E6\"><a href=\"psysml:0d8578a4-a91e-4bc0-9576-e9210611ea53\" target=\"_top\" title=\"psysml:0d8578a4-a91e-4bc0-9576-e9210611ea53\" xlink:actuate=\"onRequest\" xlink:href=\"psysml:0d8578a4-a91e-4bc0-9576-e9210611ea53\" xlink:show=\"new\" xlink:title=\"psysml:0d8578a4-a91e-4bc0-9576-e9210611ea53\" xlink:type=\"simple\"><rect fill=\"#FFFFFF\" height=\"42.9375\" id=\"E6\" rx=\"10\" ry=\"10\" style=\"stroke: #383838; stroke-width: 1.5;\" width=\"60\" x=\"63\" y=\"58\"/><rect fill=\"#F8F8F8\" height=\"37.9375\" rx=\"10\" ry=\"10\" style=\"stroke: #F8F8F8; stroke-width: 1.5;\" width=\"60\" x=\"63\" y=\"58\"/><rect fill=\"#F8F8F8\" height=\"10\" style=\"stroke: #F8F8F8; stroke-width: 1.5;\" width=\"60\" x=\"63\" y=\"85.9375\"/><rect fill=\"none\" height=\"42.9375\" id=\"E6\" rx=\"10\" ry=\"10\" style=\"stroke: #383838; stroke-width: 1.5;\" width=\"60\" x=\"63\" y=\"58\"/><text fill=\"#000000\" font-family=\"sans-serif\" font-size=\"12\" font-style=\"italic\" lengthAdjust=\"spacingAndGlyphs\" textLength=\"53\" x=\"66.5\" y=\"74.1387\">«action»</text><text fill=\"#000000\" font-family=\"sans-serif\" font-size=\"12\" lengthAdjust=\"spacingAndGlyphs\" textLength=\"16\" x=\"85\" y=\"88.1074\">A3</text></a></g><g id=\"E1.E7\"><a href=\"psysml:0d8578a4-a91e-4bc0-9576-e9210611ea53\" target=\"_top\" title=\"psysml:0d8578a4-a91e-4bc0-9576-e9210611ea53\" xlink:actuate=\"onRequest\" xlink:href=\"psysml:0d8578a4-a91e-4bc0-9576-e9210611ea53\" xlink:show=\"new\" xlink:title=\"psysml:0d8578a4-a91e-4bc0-9576-e9210611ea53\" xlink:type=\"simple\"><rect fill=\"#FFFFFF\" height=\"42.9375\" id=\"E7\" rx=\"10\" ry=\"10\" style=\"stroke: #383838; stroke-width: 1.5;\" width=\"60\" x=\"246\" y=\"134\"/><rect fill=\"#F8F8F8\" height=\"37.9375\" rx=\"10\" ry=\"10\" style=\"stroke: #F8F8F8; stroke-width: 1.5;\" width=\"60\" x=\"246\" y=\"134\"/><rect fill=\"#F8F8F8\" height=\"10\" style=\"stroke: #F8F8F8; stroke-width: 1.5;\" width=\"60\" x=\"246\" y=\"161.9375\"/><rect fill=\"none\" height=\"42.9375\" id=\"E7\" rx=\"10\" ry=\"10\" style=\"stroke: #383838; stroke-width: 1.5;\" width=\"60\" x=\"246\" y=\"134\"/><text fill=\"#000000\" font-family=\"sans-serif\" font-size=\"12\" font-style=\"italic\" lengthAdjust=\"spacingAndGlyphs\" textLength=\"53\" x=\"249.5\" y=\"150.1387\">«action»</text><text fill=\"#000000\" font-family=\"sans-serif\" font-size=\"12\" lengthAdjust=\"spacingAndGlyphs\" textLength=\"16\" x=\"268\" y=\"164.1074\">A3</text></a></g><!--MD5=[4d03bb2d0377dc85ccfab60ff574652b]\n",
       "link E2 to E4--><a href=\"psysml:8074e684-9dcd-4869-b14d-8570f637bde9\" target=\"_top\" title=\"psysml:8074e684-9dcd-4869-b14d-8570f637bde9\" xlink:actuate=\"onRequest\" xlink:href=\"psysml:8074e684-9dcd-4869-b14d-8570f637bde9\" xlink:show=\"new\" xlink:title=\"psysml:8074e684-9dcd-4869-b14d-8570f637bde9\" xlink:type=\"simple\"><path d=\"M201.97,84.07 C187.22,91.12 156.19,108.44 144,134 C133.21,156.64 141.61,184.91 150.79,204.99 \" fill=\"none\" id=\"E2-&gt;E4\" style=\"stroke: #383838; stroke-width: 1.0;\"/><polygon fill=\"#383838\" points=\"153,209.65,152.7662,199.8039,150.8614,205.1304,145.5349,203.2257,153,209.65\" style=\"stroke: #383838; stroke-width: 1.0;\"/><text fill=\"#000000\" font-family=\"sans-serif\" font-size=\"13\" lengthAdjust=\"spacingAndGlyphs\" textLength=\"55\" x=\"145\" y=\"160.0669\">[x == 1]</text><text fill=\"#000000\" font-family=\"sans-serif\" font-size=\"13\" lengthAdjust=\"spacingAndGlyphs\" textLength=\"7\" x=\"141.8344\" y=\"198.8553\">*</text></a><!--MD5=[dcad52bbbca2fe8adc741ce38b45dc12]\n",
       "link E2 to E5--><a href=\"psysml:3f3ee8aa-e9f7-416c-965c-8aff211aef79\" target=\"_top\" title=\"psysml:3f3ee8aa-e9f7-416c-965c-8aff211aef79\" xlink:actuate=\"onRequest\" xlink:href=\"psysml:3f3ee8aa-e9f7-416c-965c-8aff211aef79\" xlink:show=\"new\" xlink:title=\"psysml:3f3ee8aa-e9f7-416c-965c-8aff211aef79\" xlink:type=\"simple\"><path d=\"M211.03,90.77 C214.33,123.83 224.51,227.37 226,261 C226.33,268.55 230.06,271.63 226,278 C220.01,287.41 210.02,293.76 199.83,298.03 \" fill=\"none\" id=\"E2-&gt;E5\" style=\"stroke: #383838; stroke-width: 1.0;\"/><polygon fill=\"#383838\" points=\"195.15,299.85,204.9881,300.3102,199.8089,298.035,202.0841,292.8559,195.15,299.85\" style=\"stroke: #383838; stroke-width: 1.0;\"/><text fill=\"#000000\" font-family=\"sans-serif\" font-size=\"13\" lengthAdjust=\"spacingAndGlyphs\" textLength=\"44\" x=\"222\" y=\"198.0669\">[x &gt; 1]</text><text fill=\"#000000\" font-family=\"sans-serif\" font-size=\"13\" lengthAdjust=\"spacingAndGlyphs\" textLength=\"7\" x=\"202.9316\" y=\"293.436\">*</text></a><!--MD5=[e3d2a08a9c9236652057e8ed0cbc9b62]\n",
       "link E2 to E7--><a href=\"psysml:5268f6a4-a59c-47f8-920f-30c5900c34c3\" target=\"_top\" title=\"psysml:5268f6a4-a59c-47f8-920f-30c5900c34c3\" xlink:actuate=\"onRequest\" xlink:href=\"psysml:5268f6a4-a59c-47f8-920f-30c5900c34c3\" xlink:show=\"new\" xlink:title=\"psysml:5268f6a4-a59c-47f8-920f-30c5900c34c3\" xlink:type=\"simple\"><path d=\"M210.68,90.95 C211.82,100.93 214.86,115.89 223,126 C227.84,132.02 234.31,136.94 241.06,140.89 \" fill=\"none\" id=\"E2-&gt;E7\" style=\"stroke: #383838; stroke-width: 1.0;\"/><polygon fill=\"#383838\" points=\"245.76,143.47,239.7851,135.6406,241.3738,141.0697,235.9446,142.6585,245.76,143.47\" style=\"stroke: #383838; stroke-width: 1.0;\"/><text fill=\"#000000\" font-family=\"sans-serif\" font-size=\"13\" lengthAdjust=\"spacingAndGlyphs\" textLength=\"7\" x=\"230.9576\" y=\"136.0432\">*</text></a><!--MD5=[583832df87f4419a098336a29a52fa00]\n",
       "link E7 to E2--><a href=\"psysml:1fcd52fd-d040-4c7e-90de-1e4181f9ba4a\" target=\"_top\" title=\"psysml:1fcd52fd-d040-4c7e-90de-1e4181f9ba4a\" xlink:actuate=\"onRequest\" xlink:href=\"psysml:1fcd52fd-d040-4c7e-90de-1e4181f9ba4a\" xlink:show=\"new\" xlink:title=\"psysml:1fcd52fd-d040-4c7e-90de-1e4181f9ba4a\" xlink:type=\"simple\"><path d=\"M257.61,133.88 C245.02,119.76 228.86,101.65 218.98,90.57 \" fill=\"none\" id=\"E7-&gt;E2\" style=\"stroke: #383838; stroke-width: 1.0;\"/><polygon fill=\"#383838\" points=\"215.4,86.56,218.3919,95.9434,218.7227,90.2963,224.3699,90.6271,215.4,86.56\" style=\"stroke: #383838; stroke-width: 1.0;\"/><text fill=\"#000000\" font-family=\"sans-serif\" font-size=\"13\" lengthAdjust=\"spacingAndGlyphs\" textLength=\"44\" x=\"249\" y=\"122.0669\">[x &gt; 0]</text><text fill=\"#000000\" font-family=\"sans-serif\" font-size=\"13\" lengthAdjust=\"spacingAndGlyphs\" textLength=\"7\" x=\"210.0625\" y=\"111.425\">*</text></a><!--MD5=[2720a5a1f2c3fca2055b230370638851]\n",
       "link E2 to E3--><a href=\"psysml:c0d6c8f2-adfa-4de5-8b53-fd445de20c7a\" target=\"_top\" title=\"psysml:c0d6c8f2-adfa-4de5-8b53-fd445de20c7a\" xlink:actuate=\"onRequest\" xlink:href=\"psysml:c0d6c8f2-adfa-4de5-8b53-fd445de20c7a\" xlink:show=\"new\" xlink:title=\"psysml:c0d6c8f2-adfa-4de5-8b53-fd445de20c7a\" xlink:type=\"simple\"><path d=\"M201.54,83.16 C188.57,87.22 162.96,95.08 141,101 C126.43,104.93 121.91,103.16 108,109 C84.25,118.97 59.36,136.17 45.65,146.32 \" fill=\"none\" id=\"E2-&gt;E3\" style=\"stroke: #383838; stroke-width: 1.0;\"/><polygon fill=\"#383838\" points=\"41.45,149.47,51.05,147.27,45.45,146.47,46.25,140.87,41.45,149.47\" style=\"stroke: #383838; stroke-width: 1.0;\"/><text fill=\"#000000\" font-family=\"sans-serif\" font-size=\"13\" lengthAdjust=\"spacingAndGlyphs\" textLength=\"7\" x=\"51.6488\" y=\"132.7367\">*</text></a><!--MD5=[af87c684e3b0d8be13c1a698a818ef1e]\n",
       "link E3 to E4--><a href=\"psysml:647fb379-8896-403f-81c0-e54862ace948\" target=\"_top\" title=\"psysml:647fb379-8896-403f-81c0-e54862ace948\" xlink:actuate=\"onRequest\" xlink:href=\"psysml:647fb379-8896-403f-81c0-e54862ace948\" xlink:show=\"new\" xlink:title=\"psysml:647fb379-8896-403f-81c0-e54862ace948\" xlink:type=\"simple\"><path d=\"M40.09,162.69 C48.35,172.37 65.62,191.11 84,202 C93.67,207.73 97.38,206.32 108,210 C115.1,212.46 122.69,215.15 129.93,217.74 \" fill=\"none\" id=\"E3-&gt;E4\" style=\"stroke: #383838; stroke-width: 1.0;\"/><polygon fill=\"#383838\" points=\"134.87,219.52,127.7488,212.7164,130.1636,217.832,125.048,220.2467,134.87,219.52\" style=\"stroke: #383838; stroke-width: 1.0;\"/><text fill=\"#000000\" font-family=\"sans-serif\" font-size=\"13\" lengthAdjust=\"spacingAndGlyphs\" textLength=\"36\" x=\"85\" y=\"198.0669\">[true]</text><text fill=\"#000000\" font-family=\"sans-serif\" font-size=\"13\" lengthAdjust=\"spacingAndGlyphs\" textLength=\"7\" x=\"120.0931\" y=\"212.1047\">*</text></a><!--MD5=[0188b64bb0ae78505a997a81836e11e9]\n",
       "link E3 to E5--><a href=\"psysml:1317e145-771b-48e4-a88c-08ae6f2caba6\" target=\"_top\" title=\"psysml:1317e145-771b-48e4-a88c-08ae6f2caba6\" xlink:actuate=\"onRequest\" xlink:href=\"psysml:1317e145-771b-48e4-a88c-08ae6f2caba6\" xlink:show=\"new\" xlink:title=\"psysml:1317e145-771b-48e4-a88c-08ae6f2caba6\" xlink:type=\"simple\"><path d=\"M36.91,165.76 C41.11,184.24 52.71,226.21 76,253 C90.72,269.93 112.16,283.05 130.31,292.05 \" fill=\"none\" id=\"E3-&gt;E5\" style=\"stroke: #383838; stroke-width: 1.0;\"/><polygon fill=\"#383838\" points=\"134.85,294.25,128.4921,286.7283,130.3496,292.0714,125.0064,293.9289,134.85,294.25\" style=\"stroke: #383838; stroke-width: 1.0;\"/><text fill=\"#000000\" font-family=\"sans-serif\" font-size=\"13\" lengthAdjust=\"spacingAndGlyphs\" textLength=\"40\" x=\"77\" y=\"236.0669\">[false]</text><text fill=\"#000000\" font-family=\"sans-serif\" font-size=\"13\" lengthAdjust=\"spacingAndGlyphs\" textLength=\"7\" x=\"120.0684\" y=\"286.541\">*</text></a><!--MD5=[1b7591eae5389033d8d09a9d6721a717]\n",
       "link E4 to E5--><a href=\"psysml:23f0aa3a-74d1-4632-9e57-f97d17e19ec4\" target=\"_top\" title=\"psysml:23f0aa3a-74d1-4632-9e57-f97d17e19ec4\" xlink:actuate=\"onRequest\" xlink:href=\"psysml:23f0aa3a-74d1-4632-9e57-f97d17e19ec4\" xlink:show=\"new\" xlink:title=\"psysml:23f0aa3a-74d1-4632-9e57-f97d17e19ec4\" xlink:type=\"simple\"><path d=\"M165,253.11 C165,261.69 165,271.75 165,280.8 \" fill=\"none\" id=\"E4-&gt;E5\" style=\"stroke: #383838; stroke-width: 1.0;\"/><polygon fill=\"#383838\" points=\"165,286,169,277,165,281,161,277,165,286\" style=\"stroke: #383838; stroke-width: 1.0;\"/><text fill=\"#000000\" font-family=\"sans-serif\" font-size=\"13\" lengthAdjust=\"spacingAndGlyphs\" textLength=\"55\" x=\"166\" y=\"274.0669\">[x == 0]</text><text fill=\"#000000\" font-family=\"sans-serif\" font-size=\"13\" lengthAdjust=\"spacingAndGlyphs\" textLength=\"7\" x=\"157.0156\" y=\"274.9381\">*</text></a><!--MD5=[8b9d65e2623b55d7ccc2eb0771037236]\n",
       "@startuml\r\n",
       "skinparam ranksep 10\r\n",
       "skinparam rectangle {\r\n",
       " backgroundColor<<block>> LightGreen\r\n",
       "}\r\n",
       "skinparam monochrome true\r\n",
       "skinparam classbackgroundcolor white\r\n",
       "skinparam shadowing false\r\n",
       "skinparam wrapWidth 300\r\n",
       "hide circle\r\n",
       "\r\n",
       "rec def \"DecisionTest\" as E1  <<(T,blue) action  def>> [[psysml:62ac371c-e17a-420d-a580-1aab63005ed6 ]] {\r\n",
       "choice \"test x\" as E2  [[psysml:2e150d19-c5c5-4276-9136-9fe31d212434 ]] \r\n",
       "choice \"<s>noname</s>\" as E3  [[psysml:cc5b619c-f329-4ed7-9a64-7943d6ed9569 ]] \r\n",
       "rec usage \"A1\" as E4  <<(T,blue) action>> [[psysml:bb8ae358-9e9d-46e4-9973-23f4ed00e117 ]] {\r\n",
       "}\r\n",
       "\r\n",
       "rec usage \"A2\" as E5  <<(T,blue) action>> [[psysml:e7f91728-bf49-43a2-b90b-9012c9afe2c4 ]] {\r\n",
       "}\r\n",
       "\r\n",
       "rec usage \"A3\" as E6  <<(T,blue) action>> [[psysml:0d8578a4-a91e-4bc0-9576-e9210611ea53 ]] {\r\n",
       "}\r\n",
       "\r\n",
       "rec usage \"A3\" as E7  <<(T,blue) action>> [[psysml:0d8578a4-a91e-4bc0-9576-e9210611ea53 ]] {\r\n",
       "}\r\n",
       "\r\n",
       "}\r\n",
       "\r\n",
       "E2  - -> \"*\"E4 [[psysml:8074e684-9dcd-4869-b14d-8570f637bde9 ]] : [x == 1]\r\n",
       "E2  - -> \"*\"E5 [[psysml:3f3ee8aa-e9f7-416c-965c-8aff211aef79 ]] : [x > 1]\r\n",
       "E2  - -> \"*\"E7 [[psysml:5268f6a4-a59c-47f8-920f-30c5900c34c3 ]] \r\n",
       "E2 - -> \"*\"E3 [[psysml:c0d6c8f2-adfa-4de5-8b53-fd445de20c7a ]] \r\n",
       "E3  - -> \"*\"E4 [[psysml:647fb379-8896-403f-81c0-e54862ace948 ]] : [true]\r\n",
       "E3  - -> \"*\"E5 [[psysml:1317e145-771b-48e4-a88c-08ae6f2caba6 ]] : [false]\r\n",
       "E4  - -> \"*\"E5 [[psysml:23f0aa3a-74d1-4632-9e57-f97d17e19ec4 ]] : [x == 0]\r\n",
       "E7  - -> \"*\"E2 [[psysml:1fcd52fd-d040-4c7e-90de-1e4181f9ba4a ]] : [x > 0]\r\n",
       "@enduml\r\n",
       "\n",
       "PlantUML version 1.2020.13(Sat Jun 13 12:26:38 UTC 2020)\n",
       "(EPL source distribution)\n",
       "Java Runtime: OpenJDK Runtime Environment\n",
       "JVM: OpenJDK 64-Bit Server VM\n",
       "Default Encoding: UTF-8\n",
       "Language: en\n",
       "Country: null\n",
       "--></g></svg>"
      ]
     },
     "execution_count": 40,
     "metadata": {},
     "output_type": "execute_result"
    }
   ],
   "source": [
    "%viz --style=\"DEFAULT\" --view=\"Interconnection\" \"DecisionTest\""
   ]
  },
  {
   "cell_type": "code",
   "execution_count": 41,
   "id": "a151cea7",
   "metadata": {
    "execution": {
     "iopub.execute_input": "2022-03-21T07:51:02.359432Z",
     "iopub.status.busy": "2022-03-21T07:51:02.358793Z",
     "iopub.status.idle": "2022-03-21T07:51:02.390715Z",
     "shell.execute_reply": "2022-03-21T07:51:02.389304Z"
    }
   },
   "outputs": [
    {
     "data": {
      "image/svg+xml": [
       "<?xml version=\"1.0\" encoding=\"UTF-8\" standalone=\"no\"?><svg xmlns=\"http://www.w3.org/2000/svg\" xmlns:xlink=\"http://www.w3.org/1999/xlink\" contentScriptType=\"application/ecmascript\" contentStyleType=\"text/css\" height=\"356px\" preserveAspectRatio=\"none\" style=\"width:333px;height:356px;\" version=\"1.1\" viewBox=\"0 0 333 356\" width=\"333px\" zoomAndPan=\"magnify\"><defs/><g><!--MD5=[fbc87193dbaf4d95561dea2c320d4a47]\n",
       "cluster E1--><a href=\"psysml:62ac371c-e17a-420d-a580-1aab63005ed6\" target=\"_top\" title=\"psysml:62ac371c-e17a-420d-a580-1aab63005ed6\" xlink:actuate=\"onRequest\" xlink:href=\"psysml:62ac371c-e17a-420d-a580-1aab63005ed6\" xlink:show=\"new\" xlink:title=\"psysml:62ac371c-e17a-420d-a580-1aab63005ed6\" xlink:type=\"simple\"><rect fill=\"#FFFFFF\" height=\"338\" id=\"E1\" style=\"stroke: #383838; stroke-width: 1.5;\" width=\"315\" x=\"7\" y=\"7\"/><rect fill=\"#F8F8F8\" height=\"37.9375\" style=\"stroke: #383838; stroke-width: 1.5;\" width=\"315\" x=\"7\" y=\"7\"/><text fill=\"#000000\" font-family=\"sans-serif\" font-size=\"12\" font-style=\"italic\" lengthAdjust=\"spacingAndGlyphs\" textLength=\"81\" x=\"124\" y=\"23.1387\">«action  def»</text><text fill=\"#000000\" font-family=\"sans-serif\" font-size=\"12\" lengthAdjust=\"spacingAndGlyphs\" textLength=\"80\" x=\"124.5\" y=\"37.1074\">DecisionTest</text></a><polygon fill=\"#F8F8F8\" points=\"210,67.5,222,79.5,210,91.5,198,79.5,210,67.5\" style=\"stroke: #383838; stroke-width: 1.5;\"/><polygon fill=\"#F8F8F8\" points=\"35,143.5,47,155.5,35,167.5,23,155.5,35,143.5\" style=\"stroke: #383838; stroke-width: 1.5;\"/><g id=\"E1.E4\"><a href=\"psysml:bb8ae358-9e9d-46e4-9973-23f4ed00e117\" target=\"_top\" title=\"psysml:bb8ae358-9e9d-46e4-9973-23f4ed00e117\" xlink:actuate=\"onRequest\" xlink:href=\"psysml:bb8ae358-9e9d-46e4-9973-23f4ed00e117\" xlink:show=\"new\" xlink:title=\"psysml:bb8ae358-9e9d-46e4-9973-23f4ed00e117\" xlink:type=\"simple\"><rect fill=\"#FFFFFF\" height=\"42.9375\" id=\"E4\" rx=\"10\" ry=\"10\" style=\"stroke: #383838; stroke-width: 1.5;\" width=\"60\" x=\"135\" y=\"210\"/><rect fill=\"#F8F8F8\" height=\"37.9375\" rx=\"10\" ry=\"10\" style=\"stroke: #F8F8F8; stroke-width: 1.5;\" width=\"60\" x=\"135\" y=\"210\"/><rect fill=\"#F8F8F8\" height=\"10\" style=\"stroke: #F8F8F8; stroke-width: 1.5;\" width=\"60\" x=\"135\" y=\"237.9375\"/><rect fill=\"none\" height=\"42.9375\" id=\"E4\" rx=\"10\" ry=\"10\" style=\"stroke: #383838; stroke-width: 1.5;\" width=\"60\" x=\"135\" y=\"210\"/><text fill=\"#000000\" font-family=\"sans-serif\" font-size=\"12\" font-style=\"italic\" lengthAdjust=\"spacingAndGlyphs\" textLength=\"53\" x=\"138.5\" y=\"226.1387\">«action»</text><text fill=\"#000000\" font-family=\"sans-serif\" font-size=\"12\" lengthAdjust=\"spacingAndGlyphs\" textLength=\"16\" x=\"157\" y=\"240.1074\">A1</text></a></g><g id=\"E1.E5\"><a href=\"psysml:e7f91728-bf49-43a2-b90b-9012c9afe2c4\" target=\"_top\" title=\"psysml:e7f91728-bf49-43a2-b90b-9012c9afe2c4\" xlink:actuate=\"onRequest\" xlink:href=\"psysml:e7f91728-bf49-43a2-b90b-9012c9afe2c4\" xlink:show=\"new\" xlink:title=\"psysml:e7f91728-bf49-43a2-b90b-9012c9afe2c4\" xlink:type=\"simple\"><rect fill=\"#FFFFFF\" height=\"42.9375\" id=\"E5\" rx=\"10\" ry=\"10\" style=\"stroke: #383838; stroke-width: 1.5;\" width=\"60\" x=\"135\" y=\"286\"/><rect fill=\"#F8F8F8\" height=\"37.9375\" rx=\"10\" ry=\"10\" style=\"stroke: #F8F8F8; stroke-width: 1.5;\" width=\"60\" x=\"135\" y=\"286\"/><rect fill=\"#F8F8F8\" height=\"10\" style=\"stroke: #F8F8F8; stroke-width: 1.5;\" width=\"60\" x=\"135\" y=\"313.9375\"/><rect fill=\"none\" height=\"42.9375\" id=\"E5\" rx=\"10\" ry=\"10\" style=\"stroke: #383838; stroke-width: 1.5;\" width=\"60\" x=\"135\" y=\"286\"/><text fill=\"#000000\" font-family=\"sans-serif\" font-size=\"12\" font-style=\"italic\" lengthAdjust=\"spacingAndGlyphs\" textLength=\"53\" x=\"138.5\" y=\"302.1387\">«action»</text><text fill=\"#000000\" font-family=\"sans-serif\" font-size=\"12\" lengthAdjust=\"spacingAndGlyphs\" textLength=\"16\" x=\"157\" y=\"316.1074\">A2</text></a></g><g id=\"E1.E6\"><a href=\"psysml:0d8578a4-a91e-4bc0-9576-e9210611ea53\" target=\"_top\" title=\"psysml:0d8578a4-a91e-4bc0-9576-e9210611ea53\" xlink:actuate=\"onRequest\" xlink:href=\"psysml:0d8578a4-a91e-4bc0-9576-e9210611ea53\" xlink:show=\"new\" xlink:title=\"psysml:0d8578a4-a91e-4bc0-9576-e9210611ea53\" xlink:type=\"simple\"><rect fill=\"#FFFFFF\" height=\"42.9375\" id=\"E6\" rx=\"10\" ry=\"10\" style=\"stroke: #383838; stroke-width: 1.5;\" width=\"60\" x=\"63\" y=\"58\"/><rect fill=\"#F8F8F8\" height=\"37.9375\" rx=\"10\" ry=\"10\" style=\"stroke: #F8F8F8; stroke-width: 1.5;\" width=\"60\" x=\"63\" y=\"58\"/><rect fill=\"#F8F8F8\" height=\"10\" style=\"stroke: #F8F8F8; stroke-width: 1.5;\" width=\"60\" x=\"63\" y=\"85.9375\"/><rect fill=\"none\" height=\"42.9375\" id=\"E6\" rx=\"10\" ry=\"10\" style=\"stroke: #383838; stroke-width: 1.5;\" width=\"60\" x=\"63\" y=\"58\"/><text fill=\"#000000\" font-family=\"sans-serif\" font-size=\"12\" font-style=\"italic\" lengthAdjust=\"spacingAndGlyphs\" textLength=\"53\" x=\"66.5\" y=\"74.1387\">«action»</text><text fill=\"#000000\" font-family=\"sans-serif\" font-size=\"12\" lengthAdjust=\"spacingAndGlyphs\" textLength=\"16\" x=\"85\" y=\"88.1074\">A3</text></a></g><g id=\"E1.E7\"><a href=\"psysml:0d8578a4-a91e-4bc0-9576-e9210611ea53\" target=\"_top\" title=\"psysml:0d8578a4-a91e-4bc0-9576-e9210611ea53\" xlink:actuate=\"onRequest\" xlink:href=\"psysml:0d8578a4-a91e-4bc0-9576-e9210611ea53\" xlink:show=\"new\" xlink:title=\"psysml:0d8578a4-a91e-4bc0-9576-e9210611ea53\" xlink:type=\"simple\"><rect fill=\"#FFFFFF\" height=\"42.9375\" id=\"E7\" rx=\"10\" ry=\"10\" style=\"stroke: #383838; stroke-width: 1.5;\" width=\"60\" x=\"246\" y=\"134\"/><rect fill=\"#F8F8F8\" height=\"37.9375\" rx=\"10\" ry=\"10\" style=\"stroke: #F8F8F8; stroke-width: 1.5;\" width=\"60\" x=\"246\" y=\"134\"/><rect fill=\"#F8F8F8\" height=\"10\" style=\"stroke: #F8F8F8; stroke-width: 1.5;\" width=\"60\" x=\"246\" y=\"161.9375\"/><rect fill=\"none\" height=\"42.9375\" id=\"E7\" rx=\"10\" ry=\"10\" style=\"stroke: #383838; stroke-width: 1.5;\" width=\"60\" x=\"246\" y=\"134\"/><text fill=\"#000000\" font-family=\"sans-serif\" font-size=\"12\" font-style=\"italic\" lengthAdjust=\"spacingAndGlyphs\" textLength=\"53\" x=\"249.5\" y=\"150.1387\">«action»</text><text fill=\"#000000\" font-family=\"sans-serif\" font-size=\"12\" lengthAdjust=\"spacingAndGlyphs\" textLength=\"16\" x=\"268\" y=\"164.1074\">A3</text></a></g><!--MD5=[4d03bb2d0377dc85ccfab60ff574652b]\n",
       "link E2 to E4--><a href=\"psysml:8074e684-9dcd-4869-b14d-8570f637bde9\" target=\"_top\" title=\"psysml:8074e684-9dcd-4869-b14d-8570f637bde9\" xlink:actuate=\"onRequest\" xlink:href=\"psysml:8074e684-9dcd-4869-b14d-8570f637bde9\" xlink:show=\"new\" xlink:title=\"psysml:8074e684-9dcd-4869-b14d-8570f637bde9\" xlink:type=\"simple\"><path d=\"M201.97,84.07 C187.22,91.12 156.19,108.44 144,134 C133.21,156.64 141.61,184.91 150.79,204.99 \" fill=\"none\" id=\"E2-&gt;E4\" style=\"stroke: #383838; stroke-width: 1.0; stroke-dasharray: 7.0,7.0;\"/><polygon fill=\"#383838\" points=\"153,209.65,152.7662,199.8039,150.8614,205.1304,145.5349,203.2257,153,209.65\" style=\"stroke: #383838; stroke-width: 1.0;\"/><text fill=\"#000000\" font-family=\"sans-serif\" font-size=\"13\" lengthAdjust=\"spacingAndGlyphs\" textLength=\"55\" x=\"145\" y=\"160.0669\">[x == 1]</text></a><!--MD5=[dcad52bbbca2fe8adc741ce38b45dc12]\n",
       "link E2 to E5--><a href=\"psysml:3f3ee8aa-e9f7-416c-965c-8aff211aef79\" target=\"_top\" title=\"psysml:3f3ee8aa-e9f7-416c-965c-8aff211aef79\" xlink:actuate=\"onRequest\" xlink:href=\"psysml:3f3ee8aa-e9f7-416c-965c-8aff211aef79\" xlink:show=\"new\" xlink:title=\"psysml:3f3ee8aa-e9f7-416c-965c-8aff211aef79\" xlink:type=\"simple\"><path d=\"M211.03,90.77 C214.33,123.83 224.51,227.37 226,261 C226.33,268.55 230.06,271.63 226,278 C220.01,287.41 210.02,293.76 199.83,298.03 \" fill=\"none\" id=\"E2-&gt;E5\" style=\"stroke: #383838; stroke-width: 1.0; stroke-dasharray: 7.0,7.0;\"/><polygon fill=\"#383838\" points=\"195.15,299.85,204.9881,300.3102,199.8089,298.035,202.0841,292.8559,195.15,299.85\" style=\"stroke: #383838; stroke-width: 1.0;\"/><text fill=\"#000000\" font-family=\"sans-serif\" font-size=\"13\" lengthAdjust=\"spacingAndGlyphs\" textLength=\"44\" x=\"222\" y=\"198.0669\">[x &gt; 1]</text></a><!--MD5=[e3d2a08a9c9236652057e8ed0cbc9b62]\n",
       "link E2 to E7--><a href=\"psysml:5268f6a4-a59c-47f8-920f-30c5900c34c3\" target=\"_top\" title=\"psysml:5268f6a4-a59c-47f8-920f-30c5900c34c3\" xlink:actuate=\"onRequest\" xlink:href=\"psysml:5268f6a4-a59c-47f8-920f-30c5900c34c3\" xlink:show=\"new\" xlink:title=\"psysml:5268f6a4-a59c-47f8-920f-30c5900c34c3\" xlink:type=\"simple\"><path d=\"M210.68,90.95 C211.82,100.93 214.86,115.89 223,126 C227.84,132.02 234.31,136.94 241.06,140.89 \" fill=\"none\" id=\"E2-&gt;E7\" style=\"stroke: #383838; stroke-width: 1.0; stroke-dasharray: 7.0,7.0;\"/><polygon fill=\"#383838\" points=\"245.76,143.47,239.7851,135.6406,241.3738,141.0697,235.9446,142.6585,245.76,143.47\" style=\"stroke: #383838; stroke-width: 1.0;\"/></a><!--MD5=[583832df87f4419a098336a29a52fa00]\n",
       "link E7 to E2--><a href=\"psysml:1fcd52fd-d040-4c7e-90de-1e4181f9ba4a\" target=\"_top\" title=\"psysml:1fcd52fd-d040-4c7e-90de-1e4181f9ba4a\" xlink:actuate=\"onRequest\" xlink:href=\"psysml:1fcd52fd-d040-4c7e-90de-1e4181f9ba4a\" xlink:show=\"new\" xlink:title=\"psysml:1fcd52fd-d040-4c7e-90de-1e4181f9ba4a\" xlink:type=\"simple\"><path d=\"M257.61,133.88 C245.02,119.76 228.86,101.65 218.98,90.57 \" fill=\"none\" id=\"E7-&gt;E2\" style=\"stroke: #383838; stroke-width: 1.0; stroke-dasharray: 7.0,7.0;\"/><polygon fill=\"#383838\" points=\"215.4,86.56,218.3919,95.9434,218.7227,90.2963,224.3699,90.6271,215.4,86.56\" style=\"stroke: #383838; stroke-width: 1.0;\"/><text fill=\"#000000\" font-family=\"sans-serif\" font-size=\"13\" lengthAdjust=\"spacingAndGlyphs\" textLength=\"44\" x=\"249\" y=\"122.0669\">[x &gt; 0]</text></a><!--MD5=[2720a5a1f2c3fca2055b230370638851]\n",
       "link E2 to E3--><a href=\"psysml:c0d6c8f2-adfa-4de5-8b53-fd445de20c7a\" target=\"_top\" title=\"psysml:c0d6c8f2-adfa-4de5-8b53-fd445de20c7a\" xlink:actuate=\"onRequest\" xlink:href=\"psysml:c0d6c8f2-adfa-4de5-8b53-fd445de20c7a\" xlink:show=\"new\" xlink:title=\"psysml:c0d6c8f2-adfa-4de5-8b53-fd445de20c7a\" xlink:type=\"simple\"><path d=\"M201.54,83.16 C188.57,87.22 162.96,95.08 141,101 C126.43,104.93 121.91,103.16 108,109 C84.25,118.97 59.36,136.17 45.65,146.32 \" fill=\"none\" id=\"E2-&gt;E3\" style=\"stroke: #383838; stroke-width: 1.0; stroke-dasharray: 7.0,7.0;\"/><polygon fill=\"#383838\" points=\"41.45,149.47,51.05,147.27,45.45,146.47,46.25,140.87,41.45,149.47\" style=\"stroke: #383838; stroke-width: 1.0;\"/></a><!--MD5=[af87c684e3b0d8be13c1a698a818ef1e]\n",
       "link E3 to E4--><a href=\"psysml:647fb379-8896-403f-81c0-e54862ace948\" target=\"_top\" title=\"psysml:647fb379-8896-403f-81c0-e54862ace948\" xlink:actuate=\"onRequest\" xlink:href=\"psysml:647fb379-8896-403f-81c0-e54862ace948\" xlink:show=\"new\" xlink:title=\"psysml:647fb379-8896-403f-81c0-e54862ace948\" xlink:type=\"simple\"><path d=\"M40.09,162.69 C48.35,172.37 65.62,191.11 84,202 C93.67,207.73 97.38,206.32 108,210 C115.1,212.46 122.69,215.15 129.93,217.74 \" fill=\"none\" id=\"E3-&gt;E4\" style=\"stroke: #383838; stroke-width: 1.0; stroke-dasharray: 7.0,7.0;\"/><polygon fill=\"#383838\" points=\"134.87,219.52,127.7488,212.7164,130.1636,217.832,125.048,220.2467,134.87,219.52\" style=\"stroke: #383838; stroke-width: 1.0;\"/><text fill=\"#000000\" font-family=\"sans-serif\" font-size=\"13\" lengthAdjust=\"spacingAndGlyphs\" textLength=\"36\" x=\"85\" y=\"198.0669\">[true]</text></a><!--MD5=[0188b64bb0ae78505a997a81836e11e9]\n",
       "link E3 to E5--><a href=\"psysml:1317e145-771b-48e4-a88c-08ae6f2caba6\" target=\"_top\" title=\"psysml:1317e145-771b-48e4-a88c-08ae6f2caba6\" xlink:actuate=\"onRequest\" xlink:href=\"psysml:1317e145-771b-48e4-a88c-08ae6f2caba6\" xlink:show=\"new\" xlink:title=\"psysml:1317e145-771b-48e4-a88c-08ae6f2caba6\" xlink:type=\"simple\"><path d=\"M36.91,165.76 C41.11,184.24 52.71,226.21 76,253 C90.72,269.93 112.16,283.05 130.31,292.05 \" fill=\"none\" id=\"E3-&gt;E5\" style=\"stroke: #383838; stroke-width: 1.0; stroke-dasharray: 7.0,7.0;\"/><polygon fill=\"#383838\" points=\"134.85,294.25,128.4921,286.7283,130.3496,292.0714,125.0064,293.9289,134.85,294.25\" style=\"stroke: #383838; stroke-width: 1.0;\"/><text fill=\"#000000\" font-family=\"sans-serif\" font-size=\"13\" lengthAdjust=\"spacingAndGlyphs\" textLength=\"40\" x=\"77\" y=\"236.0669\">[false]</text></a><!--MD5=[1b7591eae5389033d8d09a9d6721a717]\n",
       "link E4 to E5--><a href=\"psysml:23f0aa3a-74d1-4632-9e57-f97d17e19ec4\" target=\"_top\" title=\"psysml:23f0aa3a-74d1-4632-9e57-f97d17e19ec4\" xlink:actuate=\"onRequest\" xlink:href=\"psysml:23f0aa3a-74d1-4632-9e57-f97d17e19ec4\" xlink:show=\"new\" xlink:title=\"psysml:23f0aa3a-74d1-4632-9e57-f97d17e19ec4\" xlink:type=\"simple\"><path d=\"M165,253.11 C165,261.69 165,271.75 165,280.8 \" fill=\"none\" id=\"E4-&gt;E5\" style=\"stroke: #383838; stroke-width: 1.0; stroke-dasharray: 7.0,7.0;\"/><polygon fill=\"#383838\" points=\"165,286,169,277,165,281,161,277,165,286\" style=\"stroke: #383838; stroke-width: 1.0;\"/><text fill=\"#000000\" font-family=\"sans-serif\" font-size=\"13\" lengthAdjust=\"spacingAndGlyphs\" textLength=\"55\" x=\"166\" y=\"274.0669\">[x == 0]</text></a><!--MD5=[579cc76e2a349903361c45237ab72bf7]\n",
       "@startuml\r\n",
       "skinparam ranksep 8\r\n",
       "skinparam monochrome true\r\n",
       "skinparam classbackgroundcolor white\r\n",
       "skinparam shadowing false\r\n",
       "skinparam wrapWidth 300\r\n",
       "hide circle\r\n",
       "\r\n",
       "rec def \"DecisionTest\" as E1  <<(T,blue) action  def>> [[psysml:62ac371c-e17a-420d-a580-1aab63005ed6 ]] {\r\n",
       "choice \"test x\" as E2  [[psysml:2e150d19-c5c5-4276-9136-9fe31d212434 ]] \r\n",
       "choice \"<s>noname</s>\" as E3  [[psysml:cc5b619c-f329-4ed7-9a64-7943d6ed9569 ]] \r\n",
       "rec usage \"A1\" as E4  <<(T,blue) action>> [[psysml:bb8ae358-9e9d-46e4-9973-23f4ed00e117 ]] {\r\n",
       "}\r\n",
       "\r\n",
       "rec usage \"A2\" as E5  <<(T,blue) action>> [[psysml:e7f91728-bf49-43a2-b90b-9012c9afe2c4 ]] {\r\n",
       "}\r\n",
       "\r\n",
       "rec usage \"A3\" as E6  <<(T,blue) action>> [[psysml:0d8578a4-a91e-4bc0-9576-e9210611ea53 ]] {\r\n",
       "}\r\n",
       "\r\n",
       "rec usage \"A3\" as E7  <<(T,blue) action>> [[psysml:0d8578a4-a91e-4bc0-9576-e9210611ea53 ]] {\r\n",
       "}\r\n",
       "\r\n",
       "}\r\n",
       "\r\n",
       "E2 ..> E4 [[psysml:8074e684-9dcd-4869-b14d-8570f637bde9 ]] : [x == 1]\r\n",
       "E2 ..> E5 [[psysml:3f3ee8aa-e9f7-416c-965c-8aff211aef79 ]] : [x > 1]\r\n",
       "E2 ..> E7 [[psysml:5268f6a4-a59c-47f8-920f-30c5900c34c3 ]] \r\n",
       "E2 ..> E3 [[psysml:c0d6c8f2-adfa-4de5-8b53-fd445de20c7a ]] \r\n",
       "E3 ..> E4 [[psysml:647fb379-8896-403f-81c0-e54862ace948 ]] : [true]\r\n",
       "E3 ..> E5 [[psysml:1317e145-771b-48e4-a88c-08ae6f2caba6 ]] : [false]\r\n",
       "E4 ..> E5 [[psysml:23f0aa3a-74d1-4632-9e57-f97d17e19ec4 ]] : [x == 0]\r\n",
       "E7 ..> E2 [[psysml:1fcd52fd-d040-4c7e-90de-1e4181f9ba4a ]] : [x > 0]\r\n",
       "@enduml\r\n",
       "\n",
       "PlantUML version 1.2020.13(Sat Jun 13 12:26:38 UTC 2020)\n",
       "(EPL source distribution)\n",
       "Java Runtime: OpenJDK Runtime Environment\n",
       "JVM: OpenJDK 64-Bit Server VM\n",
       "Default Encoding: UTF-8\n",
       "Language: en\n",
       "Country: null\n",
       "--></g></svg>"
      ]
     },
     "execution_count": 41,
     "metadata": {},
     "output_type": "execute_result"
    }
   ],
   "source": [
    "%viz --style=\"DEFAULT\" --view=\"Action\" \"DecisionTest\""
   ]
  },
  {
   "cell_type": "code",
   "execution_count": 42,
   "id": "c48b3aba",
   "metadata": {
    "execution": {
     "iopub.execute_input": "2022-03-21T07:51:02.440439Z",
     "iopub.status.busy": "2022-03-21T07:51:02.439807Z",
     "iopub.status.idle": "2022-03-21T07:51:02.446075Z",
     "shell.execute_reply": "2022-03-21T07:51:02.445714Z"
    }
   },
   "outputs": [
    {
     "data": {
      "image/svg+xml": [
       "<?xml version=\"1.0\" encoding=\"UTF-8\" standalone=\"no\"?><svg xmlns=\"http://www.w3.org/2000/svg\" xmlns:xlink=\"http://www.w3.org/1999/xlink\" contentScriptType=\"application/ecmascript\" contentStyleType=\"text/css\" height=\"12px\" preserveAspectRatio=\"none\" style=\"width:12px;height:12px;\" version=\"1.1\" viewBox=\"0 0 12 12\" width=\"12px\" zoomAndPan=\"magnify\"><defs/><g><!--MD5=[0b72472770326784bf6c2b53246e1e64]\n",
       "@startuml\r\n",
       "skinparam roundcorner 20\r\n",
       "skinparam BoxPadding 20\r\n",
       "skinparam SequenceBoxBackgroundColor #white\r\n",
       "skinparam style strictuml\r\n",
       "skinparam maxMessageSize 100\r\n",
       "skinparam monochrome true\r\n",
       "skinparam classbackgroundcolor white\r\n",
       "skinparam shadowing false\r\n",
       "skinparam wrapWidth 300\r\n",
       "hide circle\r\n",
       "\r\n",
       "@enduml\r\n",
       "\n",
       "PlantUML version 1.2020.13(Sat Jun 13 12:26:38 UTC 2020)\n",
       "(EPL source distribution)\n",
       "Java Runtime: OpenJDK Runtime Environment\n",
       "JVM: OpenJDK 64-Bit Server VM\n",
       "Default Encoding: UTF-8\n",
       "Language: en\n",
       "Country: null\n",
       "--></g></svg>"
      ]
     },
     "execution_count": 42,
     "metadata": {},
     "output_type": "execute_result"
    }
   ],
   "source": [
    "%viz --style=\"DEFAULT\" --view=\"Sequence\" \"DecisionTest\""
   ]
  },
  {
   "cell_type": "code",
   "execution_count": 43,
   "id": "633bd980",
   "metadata": {
    "execution": {
     "iopub.execute_input": "2022-03-21T07:51:02.496273Z",
     "iopub.status.busy": "2022-03-21T07:51:02.495657Z",
     "iopub.status.idle": "2022-03-21T07:51:02.532489Z",
     "shell.execute_reply": "2022-03-21T07:51:02.532119Z"
    }
   },
   "outputs": [
    {
     "data": {
      "image/svg+xml": [
       "<?xml version=\"1.0\" encoding=\"UTF-8\" standalone=\"no\"?><svg xmlns=\"http://www.w3.org/2000/svg\" xmlns:xlink=\"http://www.w3.org/1999/xlink\" contentScriptType=\"application/ecmascript\" contentStyleType=\"text/css\" height=\"488px\" preserveAspectRatio=\"none\" style=\"width:333px;height:488px;\" version=\"1.1\" viewBox=\"0 0 333 488\" width=\"333px\" zoomAndPan=\"magnify\"><defs/><g><!--MD5=[fbc87193dbaf4d95561dea2c320d4a47]\n",
       "cluster E1--><a href=\"psysml:62ac371c-e17a-420d-a580-1aab63005ed6\" target=\"_top\" title=\"psysml:62ac371c-e17a-420d-a580-1aab63005ed6\" xlink:actuate=\"onRequest\" xlink:href=\"psysml:62ac371c-e17a-420d-a580-1aab63005ed6\" xlink:show=\"new\" xlink:title=\"psysml:62ac371c-e17a-420d-a580-1aab63005ed6\" xlink:type=\"simple\"><rect fill=\"#FFFFFF\" height=\"470\" id=\"E1\" style=\"stroke: #383838; stroke-width: 1.5;\" width=\"315\" x=\"7\" y=\"7\"/><rect fill=\"#F8F8F8\" height=\"37.9375\" style=\"stroke: #383838; stroke-width: 1.5;\" width=\"315\" x=\"7\" y=\"7\"/><text fill=\"#000000\" font-family=\"sans-serif\" font-size=\"12\" font-style=\"italic\" lengthAdjust=\"spacingAndGlyphs\" textLength=\"81\" x=\"124\" y=\"23.1387\">«action  def»</text><text fill=\"#000000\" font-family=\"sans-serif\" font-size=\"12\" lengthAdjust=\"spacingAndGlyphs\" textLength=\"80\" x=\"124.5\" y=\"37.1074\">DecisionTest</text></a><polygon fill=\"#F8F8F8\" points=\"210,67.5,222,79.5,210,91.5,198,79.5,210,67.5\" style=\"stroke: #383838; stroke-width: 1.5;\"/><polygon fill=\"#F8F8F8\" points=\"35,187.5,47,199.5,35,211.5,23,199.5,35,187.5\" style=\"stroke: #383838; stroke-width: 1.5;\"/><g id=\"E1.E4\"><a href=\"psysml:bb8ae358-9e9d-46e4-9973-23f4ed00e117\" target=\"_top\" title=\"psysml:bb8ae358-9e9d-46e4-9973-23f4ed00e117\" xlink:actuate=\"onRequest\" xlink:href=\"psysml:bb8ae358-9e9d-46e4-9973-23f4ed00e117\" xlink:show=\"new\" xlink:title=\"psysml:bb8ae358-9e9d-46e4-9973-23f4ed00e117\" xlink:type=\"simple\"><rect fill=\"#FFFFFF\" height=\"42.9375\" id=\"E4\" rx=\"10\" ry=\"10\" style=\"stroke: #383838; stroke-width: 1.5;\" width=\"60\" x=\"135\" y=\"298\"/><rect fill=\"#F8F8F8\" height=\"37.9375\" rx=\"10\" ry=\"10\" style=\"stroke: #F8F8F8; stroke-width: 1.5;\" width=\"60\" x=\"135\" y=\"298\"/><rect fill=\"#F8F8F8\" height=\"10\" style=\"stroke: #F8F8F8; stroke-width: 1.5;\" width=\"60\" x=\"135\" y=\"325.9375\"/><rect fill=\"none\" height=\"42.9375\" id=\"E4\" rx=\"10\" ry=\"10\" style=\"stroke: #383838; stroke-width: 1.5;\" width=\"60\" x=\"135\" y=\"298\"/><text fill=\"#000000\" font-family=\"sans-serif\" font-size=\"12\" font-style=\"italic\" lengthAdjust=\"spacingAndGlyphs\" textLength=\"53\" x=\"138.5\" y=\"314.1387\">«action»</text><text fill=\"#000000\" font-family=\"sans-serif\" font-size=\"12\" lengthAdjust=\"spacingAndGlyphs\" textLength=\"16\" x=\"157\" y=\"328.1074\">A1</text></a></g><g id=\"E1.E5\"><a href=\"psysml:e7f91728-bf49-43a2-b90b-9012c9afe2c4\" target=\"_top\" title=\"psysml:e7f91728-bf49-43a2-b90b-9012c9afe2c4\" xlink:actuate=\"onRequest\" xlink:href=\"psysml:e7f91728-bf49-43a2-b90b-9012c9afe2c4\" xlink:show=\"new\" xlink:title=\"psysml:e7f91728-bf49-43a2-b90b-9012c9afe2c4\" xlink:type=\"simple\"><rect fill=\"#FFFFFF\" height=\"42.9375\" id=\"E5\" rx=\"10\" ry=\"10\" style=\"stroke: #383838; stroke-width: 1.5;\" width=\"60\" x=\"135\" y=\"418\"/><rect fill=\"#F8F8F8\" height=\"37.9375\" rx=\"10\" ry=\"10\" style=\"stroke: #F8F8F8; stroke-width: 1.5;\" width=\"60\" x=\"135\" y=\"418\"/><rect fill=\"#F8F8F8\" height=\"10\" style=\"stroke: #F8F8F8; stroke-width: 1.5;\" width=\"60\" x=\"135\" y=\"445.9375\"/><rect fill=\"none\" height=\"42.9375\" id=\"E5\" rx=\"10\" ry=\"10\" style=\"stroke: #383838; stroke-width: 1.5;\" width=\"60\" x=\"135\" y=\"418\"/><text fill=\"#000000\" font-family=\"sans-serif\" font-size=\"12\" font-style=\"italic\" lengthAdjust=\"spacingAndGlyphs\" textLength=\"53\" x=\"138.5\" y=\"434.1387\">«action»</text><text fill=\"#000000\" font-family=\"sans-serif\" font-size=\"12\" lengthAdjust=\"spacingAndGlyphs\" textLength=\"16\" x=\"157\" y=\"448.1074\">A2</text></a></g><g id=\"E1.E6\"><a href=\"psysml:0d8578a4-a91e-4bc0-9576-e9210611ea53\" target=\"_top\" title=\"psysml:0d8578a4-a91e-4bc0-9576-e9210611ea53\" xlink:actuate=\"onRequest\" xlink:href=\"psysml:0d8578a4-a91e-4bc0-9576-e9210611ea53\" xlink:show=\"new\" xlink:title=\"psysml:0d8578a4-a91e-4bc0-9576-e9210611ea53\" xlink:type=\"simple\"><rect fill=\"#FFFFFF\" height=\"42.9375\" id=\"E6\" rx=\"10\" ry=\"10\" style=\"stroke: #383838; stroke-width: 1.5;\" width=\"60\" x=\"63\" y=\"58\"/><rect fill=\"#F8F8F8\" height=\"37.9375\" rx=\"10\" ry=\"10\" style=\"stroke: #F8F8F8; stroke-width: 1.5;\" width=\"60\" x=\"63\" y=\"58\"/><rect fill=\"#F8F8F8\" height=\"10\" style=\"stroke: #F8F8F8; stroke-width: 1.5;\" width=\"60\" x=\"63\" y=\"85.9375\"/><rect fill=\"none\" height=\"42.9375\" id=\"E6\" rx=\"10\" ry=\"10\" style=\"stroke: #383838; stroke-width: 1.5;\" width=\"60\" x=\"63\" y=\"58\"/><text fill=\"#000000\" font-family=\"sans-serif\" font-size=\"12\" font-style=\"italic\" lengthAdjust=\"spacingAndGlyphs\" textLength=\"53\" x=\"66.5\" y=\"74.1387\">«action»</text><text fill=\"#000000\" font-family=\"sans-serif\" font-size=\"12\" lengthAdjust=\"spacingAndGlyphs\" textLength=\"16\" x=\"85\" y=\"88.1074\">A3</text></a></g><g id=\"E1.E7\"><a href=\"psysml:0d8578a4-a91e-4bc0-9576-e9210611ea53\" target=\"_top\" title=\"psysml:0d8578a4-a91e-4bc0-9576-e9210611ea53\" xlink:actuate=\"onRequest\" xlink:href=\"psysml:0d8578a4-a91e-4bc0-9576-e9210611ea53\" xlink:show=\"new\" xlink:title=\"psysml:0d8578a4-a91e-4bc0-9576-e9210611ea53\" xlink:type=\"simple\"><rect fill=\"#FFFFFF\" height=\"42.9375\" id=\"E7\" rx=\"10\" ry=\"10\" style=\"stroke: #383838; stroke-width: 1.5;\" width=\"60\" x=\"246\" y=\"178\"/><rect fill=\"#F8F8F8\" height=\"37.9375\" rx=\"10\" ry=\"10\" style=\"stroke: #F8F8F8; stroke-width: 1.5;\" width=\"60\" x=\"246\" y=\"178\"/><rect fill=\"#F8F8F8\" height=\"10\" style=\"stroke: #F8F8F8; stroke-width: 1.5;\" width=\"60\" x=\"246\" y=\"205.9375\"/><rect fill=\"none\" height=\"42.9375\" id=\"E7\" rx=\"10\" ry=\"10\" style=\"stroke: #383838; stroke-width: 1.5;\" width=\"60\" x=\"246\" y=\"178\"/><text fill=\"#000000\" font-family=\"sans-serif\" font-size=\"12\" font-style=\"italic\" lengthAdjust=\"spacingAndGlyphs\" textLength=\"53\" x=\"249.5\" y=\"194.1387\">«action»</text><text fill=\"#000000\" font-family=\"sans-serif\" font-size=\"12\" lengthAdjust=\"spacingAndGlyphs\" textLength=\"16\" x=\"268\" y=\"208.1074\">A3</text></a></g><!--MD5=[4d03bb2d0377dc85ccfab60ff574652b]\n",
       "link E2 to E4--><a href=\"psysml:8074e684-9dcd-4869-b14d-8570f637bde9\" target=\"_top\" title=\"psysml:8074e684-9dcd-4869-b14d-8570f637bde9\" xlink:actuate=\"onRequest\" xlink:href=\"psysml:8074e684-9dcd-4869-b14d-8570f637bde9\" xlink:show=\"new\" xlink:title=\"psysml:8074e684-9dcd-4869-b14d-8570f637bde9\" xlink:type=\"simple\"><path d=\"M204.45,86 C190.88,99.89 156.22,138.13 144,178 C132.04,217.01 144.31,264.27 154.48,292.83 \" fill=\"none\" id=\"E2-&gt;E4\" style=\"stroke: #383838; stroke-width: 1.0;\"/><polygon fill=\"#383838\" points=\"156.22,297.6,156.8939,287.7742,154.5067,292.9027,149.3782,290.5155,156.22,297.6\" style=\"stroke: #383838; stroke-width: 1.0;\"/><text fill=\"#000000\" font-family=\"sans-serif\" font-size=\"13\" lengthAdjust=\"spacingAndGlyphs\" textLength=\"55\" x=\"145\" y=\"204.0669\">[x == 1]</text><text fill=\"#000000\" font-family=\"sans-serif\" font-size=\"13\" lengthAdjust=\"spacingAndGlyphs\" textLength=\"7\" x=\"145.9198\" y=\"286.7919\">*</text></a><!--MD5=[dcad52bbbca2fe8adc741ce38b45dc12]\n",
       "link E2 to E5--><a href=\"psysml:3f3ee8aa-e9f7-416c-965c-8aff211aef79\" target=\"_top\" title=\"psysml:3f3ee8aa-e9f7-416c-965c-8aff211aef79\" xlink:actuate=\"onRequest\" xlink:href=\"psysml:3f3ee8aa-e9f7-416c-965c-8aff211aef79\" xlink:show=\"new\" xlink:title=\"psysml:3f3ee8aa-e9f7-416c-965c-8aff211aef79\" xlink:type=\"simple\"><path d=\"M210.67,90.83 C214.08,143.62 229.24,381.12 226,388 C220.27,400.19 209.98,410.45 199.48,418.47 \" fill=\"none\" id=\"E2-&gt;E5\" style=\"stroke: #383838; stroke-width: 1.0;\"/><polygon fill=\"#383838\" points=\"195.29,421.54,204.9073,419.4168,199.3138,418.5721,200.1586,412.9786,195.29,421.54\" style=\"stroke: #383838; stroke-width: 1.0;\"/><text fill=\"#000000\" font-family=\"sans-serif\" font-size=\"13\" lengthAdjust=\"spacingAndGlyphs\" textLength=\"44\" x=\"222\" y=\"264.0669\">[x &gt; 1]</text><text fill=\"#000000\" font-family=\"sans-serif\" font-size=\"13\" lengthAdjust=\"spacingAndGlyphs\" textLength=\"7\" x=\"203.1039\" y=\"412.7419\">*</text></a><!--MD5=[e3d2a08a9c9236652057e8ed0cbc9b62]\n",
       "link E2 to E7--><a href=\"psysml:5268f6a4-a59c-47f8-920f-30c5900c34c3\" target=\"_top\" title=\"psysml:5268f6a4-a59c-47f8-920f-30c5900c34c3\" xlink:actuate=\"onRequest\" xlink:href=\"psysml:5268f6a4-a59c-47f8-920f-30c5900c34c3\" xlink:show=\"new\" xlink:title=\"psysml:5268f6a4-a59c-47f8-920f-30c5900c34c3\" xlink:type=\"simple\"><path d=\"M210.1,91.71 C210.67,105.71 213.16,129.99 223,148 C228.29,157.68 236.08,166.6 244.08,174.17 \" fill=\"none\" id=\"E2-&gt;E7\" style=\"stroke: #383838; stroke-width: 1.0;\"/><polygon fill=\"#383838\" points=\"248.01,177.77,244.069,168.744,244.3207,174.3953,238.6694,174.6469,248.01,177.77\" style=\"stroke: #383838; stroke-width: 1.0;\"/><text fill=\"#000000\" font-family=\"sans-serif\" font-size=\"13\" lengthAdjust=\"spacingAndGlyphs\" textLength=\"7\" x=\"232.5471\" y=\"167.0076\">*</text></a><!--MD5=[583832df87f4419a098336a29a52fa00]\n",
       "link E7 to E2--><a href=\"psysml:1fcd52fd-d040-4c7e-90de-1e4181f9ba4a\" target=\"_top\" title=\"psysml:1fcd52fd-d040-4c7e-90de-1e4181f9ba4a\" xlink:actuate=\"onRequest\" xlink:href=\"psysml:1fcd52fd-d040-4c7e-90de-1e4181f9ba4a\" xlink:show=\"new\" xlink:title=\"psysml:1fcd52fd-d040-4c7e-90de-1e4181f9ba4a\" xlink:type=\"simple\"><path d=\"M264.3,177.59 C250.41,152.74 227.7,112.15 216.57,92.25 \" fill=\"none\" id=\"E7-&gt;E2\" style=\"stroke: #383838; stroke-width: 1.0;\"/><polygon fill=\"#383838\" points=\"214.13,87.88,215.0286,97.6878,216.5691,92.2447,222.0122,93.7852,214.13,87.88\" style=\"stroke: #383838; stroke-width: 1.0;\"/><text fill=\"#000000\" font-family=\"sans-serif\" font-size=\"13\" lengthAdjust=\"spacingAndGlyphs\" textLength=\"44\" x=\"247\" y=\"144.0669\">[x &gt; 0]</text><text fill=\"#000000\" font-family=\"sans-serif\" font-size=\"13\" lengthAdjust=\"spacingAndGlyphs\" textLength=\"7\" x=\"207.5946\" y=\"111.7074\">*</text></a><!--MD5=[2720a5a1f2c3fca2055b230370638851]\n",
       "link E2 to E3--><a href=\"psysml:c0d6c8f2-adfa-4de5-8b53-fd445de20c7a\" target=\"_top\" title=\"psysml:c0d6c8f2-adfa-4de5-8b53-fd445de20c7a\" xlink:actuate=\"onRequest\" xlink:href=\"psysml:c0d6c8f2-adfa-4de5-8b53-fd445de20c7a\" xlink:show=\"new\" xlink:title=\"psysml:c0d6c8f2-adfa-4de5-8b53-fd445de20c7a\" xlink:type=\"simple\"><path d=\"M201.9,83.58 C184.06,90.55 140.39,108.7 108,131 C82.49,148.57 56.88,174.67 43.84,188.71 \" fill=\"none\" id=\"E2-&gt;E3\" style=\"stroke: #383838; stroke-width: 1.0;\"/><polygon fill=\"#383838\" points=\"40.21,192.66,49.2443,188.738,43.5925,188.9778,43.3527,183.326,40.21,192.66\" style=\"stroke: #383838; stroke-width: 1.0;\"/><text fill=\"#000000\" font-family=\"sans-serif\" font-size=\"13\" lengthAdjust=\"spacingAndGlyphs\" textLength=\"7\" x=\"48.2668\" y=\"176.5238\">*</text></a><!--MD5=[af87c684e3b0d8be13c1a698a818ef1e]\n",
       "link E3 to E4--><a href=\"psysml:647fb379-8896-403f-81c0-e54862ace948\" target=\"_top\" title=\"psysml:647fb379-8896-403f-81c0-e54862ace948\" xlink:actuate=\"onRequest\" xlink:href=\"psysml:647fb379-8896-403f-81c0-e54862ace948\" xlink:show=\"new\" xlink:title=\"psysml:647fb379-8896-403f-81c0-e54862ace948\" xlink:type=\"simple\"><path d=\"M39.08,207.91 C46.63,221.15 63.87,249.24 84,268 C97.73,280.8 115.17,292.16 130.35,300.85 \" fill=\"none\" id=\"E3-&gt;E4\" style=\"stroke: #383838; stroke-width: 1.0;\"/><polygon fill=\"#383838\" points=\"134.98,303.46,129.0858,295.5696,130.6187,301.0148,125.1735,302.5477,134.98,303.46\" style=\"stroke: #383838; stroke-width: 1.0;\"/><text fill=\"#000000\" font-family=\"sans-serif\" font-size=\"13\" lengthAdjust=\"spacingAndGlyphs\" textLength=\"36\" x=\"85\" y=\"264.0669\">[true]</text><text fill=\"#000000\" font-family=\"sans-serif\" font-size=\"13\" lengthAdjust=\"spacingAndGlyphs\" textLength=\"7\" x=\"119.8095\" y=\"294.8128\">*</text></a><!--MD5=[0188b64bb0ae78505a997a81836e11e9]\n",
       "link E3 to E5--><a href=\"psysml:1317e145-771b-48e4-a88c-08ae6f2caba6\" target=\"_top\" title=\"psysml:1317e145-771b-48e4-a88c-08ae6f2caba6\" xlink:actuate=\"onRequest\" xlink:href=\"psysml:1317e145-771b-48e4-a88c-08ae6f2caba6\" xlink:show=\"new\" xlink:title=\"psysml:1317e145-771b-48e4-a88c-08ae6f2caba6\" xlink:type=\"simple\"><path d=\"M36.3,210.29 C39.76,234.03 50.73,296.03 76,341 C91.89,369.29 117.42,396.1 137.07,414.43 \" fill=\"none\" id=\"E3-&gt;E5\" style=\"stroke: #383838; stroke-width: 1.0;\"/><polygon fill=\"#383838\" points=\"140.92,417.98,137.0155,408.9382,137.2443,414.5904,131.5921,414.8192,140.92,417.98\" style=\"stroke: #383838; stroke-width: 1.0;\"/><text fill=\"#000000\" font-family=\"sans-serif\" font-size=\"13\" lengthAdjust=\"spacingAndGlyphs\" textLength=\"40\" x=\"77\" y=\"324.0669\">[false]</text><text fill=\"#000000\" font-family=\"sans-serif\" font-size=\"13\" lengthAdjust=\"spacingAndGlyphs\" textLength=\"7\" x=\"126.1631\" y=\"406.9125\">*</text></a><!--MD5=[1b7591eae5389033d8d09a9d6721a717]\n",
       "link E4 to E5--><a href=\"psysml:23f0aa3a-74d1-4632-9e57-f97d17e19ec4\" target=\"_top\" title=\"psysml:23f0aa3a-74d1-4632-9e57-f97d17e19ec4\" xlink:actuate=\"onRequest\" xlink:href=\"psysml:23f0aa3a-74d1-4632-9e57-f97d17e19ec4\" xlink:show=\"new\" xlink:title=\"psysml:23f0aa3a-74d1-4632-9e57-f97d17e19ec4\" xlink:type=\"simple\"><path d=\"M165,341.05 C165,360.9 165,391.02 165,412.52 \" fill=\"none\" id=\"E4-&gt;E5\" style=\"stroke: #383838; stroke-width: 1.0;\"/><polygon fill=\"#383838\" points=\"165,417.79,169,408.79,165,412.79,161,408.79,165,417.79\" style=\"stroke: #383838; stroke-width: 1.0;\"/><text fill=\"#000000\" font-family=\"sans-serif\" font-size=\"13\" lengthAdjust=\"spacingAndGlyphs\" textLength=\"55\" x=\"166\" y=\"384.0669\">[x == 0]</text><text fill=\"#000000\" font-family=\"sans-serif\" font-size=\"13\" lengthAdjust=\"spacingAndGlyphs\" textLength=\"7\" x=\"157.0594\" y=\"407.033\">*</text></a><!--MD5=[bd4353a165167bb3a1b619b10dbce7c7]\n",
       "@startuml\r\n",
       "skinparam monochrome true\r\n",
       "skinparam classbackgroundcolor white\r\n",
       "skinparam shadowing false\r\n",
       "skinparam wrapWidth 300\r\n",
       "hide circle\r\n",
       "\r\n",
       "rec def \"DecisionTest\" as E1  <<(T,blue) action  def>> [[psysml:62ac371c-e17a-420d-a580-1aab63005ed6 ]] {\r\n",
       "choice \"test x\" as E2  [[psysml:2e150d19-c5c5-4276-9136-9fe31d212434 ]] \r\n",
       "choice \"<s>noname</s>\" as E3  [[psysml:cc5b619c-f329-4ed7-9a64-7943d6ed9569 ]] \r\n",
       "rec usage \"A1\" as E4  <<(T,blue) action>> [[psysml:bb8ae358-9e9d-46e4-9973-23f4ed00e117 ]] {\r\n",
       "}\r\n",
       "\r\n",
       "rec usage \"A2\" as E5  <<(T,blue) action>> [[psysml:e7f91728-bf49-43a2-b90b-9012c9afe2c4 ]] {\r\n",
       "}\r\n",
       "\r\n",
       "rec usage \"A3\" as E6  <<(T,blue) action>> [[psysml:0d8578a4-a91e-4bc0-9576-e9210611ea53 ]] {\r\n",
       "}\r\n",
       "\r\n",
       "rec usage \"A3\" as E7  <<(T,blue) action>> [[psysml:0d8578a4-a91e-4bc0-9576-e9210611ea53 ]] {\r\n",
       "}\r\n",
       "\r\n",
       "}\r\n",
       "\r\n",
       "E2  - -> \"*\"E4 [[psysml:8074e684-9dcd-4869-b14d-8570f637bde9 ]] : [x == 1]\r\n",
       "E2  - -> \"*\"E5 [[psysml:3f3ee8aa-e9f7-416c-965c-8aff211aef79 ]] : [x > 1]\r\n",
       "E2  - -> \"*\"E7 [[psysml:5268f6a4-a59c-47f8-920f-30c5900c34c3 ]] \r\n",
       "E2 - -> \"*\"E3 [[psysml:c0d6c8f2-adfa-4de5-8b53-fd445de20c7a ]] \r\n",
       "E3  - -> \"*\"E4 [[psysml:647fb379-8896-403f-81c0-e54862ace948 ]] : [true]\r\n",
       "E3  - -> \"*\"E5 [[psysml:1317e145-771b-48e4-a88c-08ae6f2caba6 ]] : [false]\r\n",
       "E4  - -> \"*\"E5 [[psysml:23f0aa3a-74d1-4632-9e57-f97d17e19ec4 ]] : [x == 0]\r\n",
       "E7  - -> \"*\"E2 [[psysml:1fcd52fd-d040-4c7e-90de-1e4181f9ba4a ]] : [x > 0]\r\n",
       "@enduml\r\n",
       "\n",
       "PlantUML version 1.2020.13(Sat Jun 13 12:26:38 UTC 2020)\n",
       "(EPL source distribution)\n",
       "Java Runtime: OpenJDK Runtime Environment\n",
       "JVM: OpenJDK 64-Bit Server VM\n",
       "Default Encoding: UTF-8\n",
       "Language: en\n",
       "Country: null\n",
       "--></g></svg>"
      ]
     },
     "execution_count": 43,
     "metadata": {},
     "output_type": "execute_result"
    }
   ],
   "source": [
    "%viz --style=\"DEFAULT\" --view=\"MIXED\" \"DecisionTest\""
   ]
  },
  {
   "cell_type": "code",
   "execution_count": 44,
   "id": "ac52107d",
   "metadata": {
    "execution": {
     "iopub.execute_input": "2022-03-21T07:51:02.582165Z",
     "iopub.status.busy": "2022-03-21T07:51:02.581552Z",
     "iopub.status.idle": "2022-03-21T07:51:02.616775Z",
     "shell.execute_reply": "2022-03-21T07:51:02.615581Z"
    }
   },
   "outputs": [
    {
     "data": {
      "image/svg+xml": [
       "<?xml version=\"1.0\" encoding=\"UTF-8\" standalone=\"no\"?><svg xmlns=\"http://www.w3.org/2000/svg\" xmlns:xlink=\"http://www.w3.org/1999/xlink\" contentScriptType=\"application/ecmascript\" contentStyleType=\"text/css\" height=\"488px\" preserveAspectRatio=\"none\" style=\"width:333px;height:488px;\" version=\"1.1\" viewBox=\"0 0 333 488\" width=\"333px\" zoomAndPan=\"magnify\"><defs/><g><!--MD5=[fbc87193dbaf4d95561dea2c320d4a47]\n",
       "cluster E1--><a href=\"psysml:62ac371c-e17a-420d-a580-1aab63005ed6\" target=\"_top\" title=\"psysml:62ac371c-e17a-420d-a580-1aab63005ed6\" xlink:actuate=\"onRequest\" xlink:href=\"psysml:62ac371c-e17a-420d-a580-1aab63005ed6\" xlink:show=\"new\" xlink:title=\"psysml:62ac371c-e17a-420d-a580-1aab63005ed6\" xlink:type=\"simple\"><rect fill=\"#FFFFFF\" height=\"470\" id=\"E1\" style=\"stroke: #383838; stroke-width: 1.5;\" width=\"315\" x=\"7\" y=\"7\"/><rect fill=\"#F8F8F8\" height=\"37.9375\" style=\"stroke: #383838; stroke-width: 1.5;\" width=\"315\" x=\"7\" y=\"7\"/><text fill=\"#000000\" font-family=\"sans-serif\" font-size=\"12\" font-style=\"italic\" lengthAdjust=\"spacingAndGlyphs\" textLength=\"81\" x=\"124\" y=\"23.1387\">«action  def»</text><text fill=\"#000000\" font-family=\"sans-serif\" font-size=\"12\" lengthAdjust=\"spacingAndGlyphs\" textLength=\"80\" x=\"124.5\" y=\"37.1074\">DecisionTest</text></a><polygon fill=\"#F8F8F8\" points=\"210,67.5,222,79.5,210,91.5,198,79.5,210,67.5\" style=\"stroke: #383838; stroke-width: 1.5;\"/><polygon fill=\"#F8F8F8\" points=\"35,187.5,47,199.5,35,211.5,23,199.5,35,187.5\" style=\"stroke: #383838; stroke-width: 1.5;\"/><g id=\"E1.E4\"><a href=\"psysml:bb8ae358-9e9d-46e4-9973-23f4ed00e117\" target=\"_top\" title=\"psysml:bb8ae358-9e9d-46e4-9973-23f4ed00e117\" xlink:actuate=\"onRequest\" xlink:href=\"psysml:bb8ae358-9e9d-46e4-9973-23f4ed00e117\" xlink:show=\"new\" xlink:title=\"psysml:bb8ae358-9e9d-46e4-9973-23f4ed00e117\" xlink:type=\"simple\"><rect fill=\"#FFFFFF\" height=\"42.9375\" id=\"E4\" rx=\"10\" ry=\"10\" style=\"stroke: #383838; stroke-width: 1.5;\" width=\"60\" x=\"135\" y=\"298\"/><rect fill=\"#F8F8F8\" height=\"37.9375\" rx=\"10\" ry=\"10\" style=\"stroke: #F8F8F8; stroke-width: 1.5;\" width=\"60\" x=\"135\" y=\"298\"/><rect fill=\"#F8F8F8\" height=\"10\" style=\"stroke: #F8F8F8; stroke-width: 1.5;\" width=\"60\" x=\"135\" y=\"325.9375\"/><rect fill=\"none\" height=\"42.9375\" id=\"E4\" rx=\"10\" ry=\"10\" style=\"stroke: #383838; stroke-width: 1.5;\" width=\"60\" x=\"135\" y=\"298\"/><text fill=\"#000000\" font-family=\"sans-serif\" font-size=\"12\" font-style=\"italic\" lengthAdjust=\"spacingAndGlyphs\" textLength=\"53\" x=\"138.5\" y=\"314.1387\">«action»</text><text fill=\"#000000\" font-family=\"sans-serif\" font-size=\"12\" lengthAdjust=\"spacingAndGlyphs\" textLength=\"16\" x=\"157\" y=\"328.1074\">A1</text></a></g><g id=\"E1.E5\"><a href=\"psysml:e7f91728-bf49-43a2-b90b-9012c9afe2c4\" target=\"_top\" title=\"psysml:e7f91728-bf49-43a2-b90b-9012c9afe2c4\" xlink:actuate=\"onRequest\" xlink:href=\"psysml:e7f91728-bf49-43a2-b90b-9012c9afe2c4\" xlink:show=\"new\" xlink:title=\"psysml:e7f91728-bf49-43a2-b90b-9012c9afe2c4\" xlink:type=\"simple\"><rect fill=\"#FFFFFF\" height=\"42.9375\" id=\"E5\" rx=\"10\" ry=\"10\" style=\"stroke: #383838; stroke-width: 1.5;\" width=\"60\" x=\"135\" y=\"418\"/><rect fill=\"#F8F8F8\" height=\"37.9375\" rx=\"10\" ry=\"10\" style=\"stroke: #F8F8F8; stroke-width: 1.5;\" width=\"60\" x=\"135\" y=\"418\"/><rect fill=\"#F8F8F8\" height=\"10\" style=\"stroke: #F8F8F8; stroke-width: 1.5;\" width=\"60\" x=\"135\" y=\"445.9375\"/><rect fill=\"none\" height=\"42.9375\" id=\"E5\" rx=\"10\" ry=\"10\" style=\"stroke: #383838; stroke-width: 1.5;\" width=\"60\" x=\"135\" y=\"418\"/><text fill=\"#000000\" font-family=\"sans-serif\" font-size=\"12\" font-style=\"italic\" lengthAdjust=\"spacingAndGlyphs\" textLength=\"53\" x=\"138.5\" y=\"434.1387\">«action»</text><text fill=\"#000000\" font-family=\"sans-serif\" font-size=\"12\" lengthAdjust=\"spacingAndGlyphs\" textLength=\"16\" x=\"157\" y=\"448.1074\">A2</text></a></g><g id=\"E1.E6\"><a href=\"psysml:0d8578a4-a91e-4bc0-9576-e9210611ea53\" target=\"_top\" title=\"psysml:0d8578a4-a91e-4bc0-9576-e9210611ea53\" xlink:actuate=\"onRequest\" xlink:href=\"psysml:0d8578a4-a91e-4bc0-9576-e9210611ea53\" xlink:show=\"new\" xlink:title=\"psysml:0d8578a4-a91e-4bc0-9576-e9210611ea53\" xlink:type=\"simple\"><rect fill=\"#FFFFFF\" height=\"42.9375\" id=\"E6\" rx=\"10\" ry=\"10\" style=\"stroke: #383838; stroke-width: 1.5;\" width=\"60\" x=\"63\" y=\"58\"/><rect fill=\"#F8F8F8\" height=\"37.9375\" rx=\"10\" ry=\"10\" style=\"stroke: #F8F8F8; stroke-width: 1.5;\" width=\"60\" x=\"63\" y=\"58\"/><rect fill=\"#F8F8F8\" height=\"10\" style=\"stroke: #F8F8F8; stroke-width: 1.5;\" width=\"60\" x=\"63\" y=\"85.9375\"/><rect fill=\"none\" height=\"42.9375\" id=\"E6\" rx=\"10\" ry=\"10\" style=\"stroke: #383838; stroke-width: 1.5;\" width=\"60\" x=\"63\" y=\"58\"/><text fill=\"#000000\" font-family=\"sans-serif\" font-size=\"12\" font-style=\"italic\" lengthAdjust=\"spacingAndGlyphs\" textLength=\"53\" x=\"66.5\" y=\"74.1387\">«action»</text><text fill=\"#000000\" font-family=\"sans-serif\" font-size=\"12\" lengthAdjust=\"spacingAndGlyphs\" textLength=\"16\" x=\"85\" y=\"88.1074\">A3</text></a></g><g id=\"E1.E7\"><a href=\"psysml:0d8578a4-a91e-4bc0-9576-e9210611ea53\" target=\"_top\" title=\"psysml:0d8578a4-a91e-4bc0-9576-e9210611ea53\" xlink:actuate=\"onRequest\" xlink:href=\"psysml:0d8578a4-a91e-4bc0-9576-e9210611ea53\" xlink:show=\"new\" xlink:title=\"psysml:0d8578a4-a91e-4bc0-9576-e9210611ea53\" xlink:type=\"simple\"><rect fill=\"#FFFFFF\" height=\"42.9375\" id=\"E7\" rx=\"10\" ry=\"10\" style=\"stroke: #383838; stroke-width: 1.5;\" width=\"60\" x=\"246\" y=\"178\"/><rect fill=\"#F8F8F8\" height=\"37.9375\" rx=\"10\" ry=\"10\" style=\"stroke: #F8F8F8; stroke-width: 1.5;\" width=\"60\" x=\"246\" y=\"178\"/><rect fill=\"#F8F8F8\" height=\"10\" style=\"stroke: #F8F8F8; stroke-width: 1.5;\" width=\"60\" x=\"246\" y=\"205.9375\"/><rect fill=\"none\" height=\"42.9375\" id=\"E7\" rx=\"10\" ry=\"10\" style=\"stroke: #383838; stroke-width: 1.5;\" width=\"60\" x=\"246\" y=\"178\"/><text fill=\"#000000\" font-family=\"sans-serif\" font-size=\"12\" font-style=\"italic\" lengthAdjust=\"spacingAndGlyphs\" textLength=\"53\" x=\"249.5\" y=\"194.1387\">«action»</text><text fill=\"#000000\" font-family=\"sans-serif\" font-size=\"12\" lengthAdjust=\"spacingAndGlyphs\" textLength=\"16\" x=\"268\" y=\"208.1074\">A3</text></a></g><!--MD5=[4d03bb2d0377dc85ccfab60ff574652b]\n",
       "link E2 to E4--><a href=\"psysml:8074e684-9dcd-4869-b14d-8570f637bde9\" target=\"_top\" title=\"psysml:8074e684-9dcd-4869-b14d-8570f637bde9\" xlink:actuate=\"onRequest\" xlink:href=\"psysml:8074e684-9dcd-4869-b14d-8570f637bde9\" xlink:show=\"new\" xlink:title=\"psysml:8074e684-9dcd-4869-b14d-8570f637bde9\" xlink:type=\"simple\"><path d=\"M204.45,86 C190.88,99.89 156.22,138.13 144,178 C132.04,217.01 144.31,264.27 154.48,292.83 \" fill=\"none\" id=\"E2-&gt;E4\" style=\"stroke: #383838; stroke-width: 1.0;\"/><polygon fill=\"#383838\" points=\"156.22,297.6,156.8939,287.7742,154.5067,292.9027,149.3782,290.5155,156.22,297.6\" style=\"stroke: #383838; stroke-width: 1.0;\"/><text fill=\"#000000\" font-family=\"sans-serif\" font-size=\"13\" lengthAdjust=\"spacingAndGlyphs\" textLength=\"55\" x=\"145\" y=\"204.0669\">[x == 1]</text><text fill=\"#000000\" font-family=\"sans-serif\" font-size=\"13\" lengthAdjust=\"spacingAndGlyphs\" textLength=\"7\" x=\"145.9198\" y=\"286.7919\">*</text></a><!--MD5=[dcad52bbbca2fe8adc741ce38b45dc12]\n",
       "link E2 to E5--><a href=\"psysml:3f3ee8aa-e9f7-416c-965c-8aff211aef79\" target=\"_top\" title=\"psysml:3f3ee8aa-e9f7-416c-965c-8aff211aef79\" xlink:actuate=\"onRequest\" xlink:href=\"psysml:3f3ee8aa-e9f7-416c-965c-8aff211aef79\" xlink:show=\"new\" xlink:title=\"psysml:3f3ee8aa-e9f7-416c-965c-8aff211aef79\" xlink:type=\"simple\"><path d=\"M210.67,90.83 C214.08,143.62 229.24,381.12 226,388 C220.27,400.19 209.98,410.45 199.48,418.47 \" fill=\"none\" id=\"E2-&gt;E5\" style=\"stroke: #383838; stroke-width: 1.0;\"/><polygon fill=\"#383838\" points=\"195.29,421.54,204.9073,419.4168,199.3138,418.5721,200.1586,412.9786,195.29,421.54\" style=\"stroke: #383838; stroke-width: 1.0;\"/><text fill=\"#000000\" font-family=\"sans-serif\" font-size=\"13\" lengthAdjust=\"spacingAndGlyphs\" textLength=\"44\" x=\"222\" y=\"264.0669\">[x &gt; 1]</text><text fill=\"#000000\" font-family=\"sans-serif\" font-size=\"13\" lengthAdjust=\"spacingAndGlyphs\" textLength=\"7\" x=\"203.1039\" y=\"412.7419\">*</text></a><!--MD5=[e3d2a08a9c9236652057e8ed0cbc9b62]\n",
       "link E2 to E7--><a href=\"psysml:5268f6a4-a59c-47f8-920f-30c5900c34c3\" target=\"_top\" title=\"psysml:5268f6a4-a59c-47f8-920f-30c5900c34c3\" xlink:actuate=\"onRequest\" xlink:href=\"psysml:5268f6a4-a59c-47f8-920f-30c5900c34c3\" xlink:show=\"new\" xlink:title=\"psysml:5268f6a4-a59c-47f8-920f-30c5900c34c3\" xlink:type=\"simple\"><path d=\"M210.1,91.71 C210.67,105.71 213.16,129.99 223,148 C228.29,157.68 236.08,166.6 244.08,174.17 \" fill=\"none\" id=\"E2-&gt;E7\" style=\"stroke: #383838; stroke-width: 1.0;\"/><polygon fill=\"#383838\" points=\"248.01,177.77,244.069,168.744,244.3207,174.3953,238.6694,174.6469,248.01,177.77\" style=\"stroke: #383838; stroke-width: 1.0;\"/><text fill=\"#000000\" font-family=\"sans-serif\" font-size=\"13\" lengthAdjust=\"spacingAndGlyphs\" textLength=\"7\" x=\"232.5471\" y=\"167.0076\">*</text></a><!--MD5=[583832df87f4419a098336a29a52fa00]\n",
       "link E7 to E2--><a href=\"psysml:1fcd52fd-d040-4c7e-90de-1e4181f9ba4a\" target=\"_top\" title=\"psysml:1fcd52fd-d040-4c7e-90de-1e4181f9ba4a\" xlink:actuate=\"onRequest\" xlink:href=\"psysml:1fcd52fd-d040-4c7e-90de-1e4181f9ba4a\" xlink:show=\"new\" xlink:title=\"psysml:1fcd52fd-d040-4c7e-90de-1e4181f9ba4a\" xlink:type=\"simple\"><path d=\"M264.3,177.59 C250.41,152.74 227.7,112.15 216.57,92.25 \" fill=\"none\" id=\"E7-&gt;E2\" style=\"stroke: #383838; stroke-width: 1.0;\"/><polygon fill=\"#383838\" points=\"214.13,87.88,215.0286,97.6878,216.5691,92.2447,222.0122,93.7852,214.13,87.88\" style=\"stroke: #383838; stroke-width: 1.0;\"/><text fill=\"#000000\" font-family=\"sans-serif\" font-size=\"13\" lengthAdjust=\"spacingAndGlyphs\" textLength=\"44\" x=\"247\" y=\"144.0669\">[x &gt; 0]</text><text fill=\"#000000\" font-family=\"sans-serif\" font-size=\"13\" lengthAdjust=\"spacingAndGlyphs\" textLength=\"7\" x=\"207.5946\" y=\"111.7074\">*</text></a><!--MD5=[2720a5a1f2c3fca2055b230370638851]\n",
       "link E2 to E3--><a href=\"psysml:c0d6c8f2-adfa-4de5-8b53-fd445de20c7a\" target=\"_top\" title=\"psysml:c0d6c8f2-adfa-4de5-8b53-fd445de20c7a\" xlink:actuate=\"onRequest\" xlink:href=\"psysml:c0d6c8f2-adfa-4de5-8b53-fd445de20c7a\" xlink:show=\"new\" xlink:title=\"psysml:c0d6c8f2-adfa-4de5-8b53-fd445de20c7a\" xlink:type=\"simple\"><path d=\"M201.9,83.58 C184.06,90.55 140.39,108.7 108,131 C82.49,148.57 56.88,174.67 43.84,188.71 \" fill=\"none\" id=\"E2-&gt;E3\" style=\"stroke: #383838; stroke-width: 1.0;\"/><polygon fill=\"#383838\" points=\"40.21,192.66,49.2443,188.738,43.5925,188.9778,43.3527,183.326,40.21,192.66\" style=\"stroke: #383838; stroke-width: 1.0;\"/><text fill=\"#000000\" font-family=\"sans-serif\" font-size=\"13\" lengthAdjust=\"spacingAndGlyphs\" textLength=\"7\" x=\"48.2668\" y=\"176.5238\">*</text></a><!--MD5=[af87c684e3b0d8be13c1a698a818ef1e]\n",
       "link E3 to E4--><a href=\"psysml:647fb379-8896-403f-81c0-e54862ace948\" target=\"_top\" title=\"psysml:647fb379-8896-403f-81c0-e54862ace948\" xlink:actuate=\"onRequest\" xlink:href=\"psysml:647fb379-8896-403f-81c0-e54862ace948\" xlink:show=\"new\" xlink:title=\"psysml:647fb379-8896-403f-81c0-e54862ace948\" xlink:type=\"simple\"><path d=\"M39.08,207.91 C46.63,221.15 63.87,249.24 84,268 C97.73,280.8 115.17,292.16 130.35,300.85 \" fill=\"none\" id=\"E3-&gt;E4\" style=\"stroke: #383838; stroke-width: 1.0;\"/><polygon fill=\"#383838\" points=\"134.98,303.46,129.0858,295.5696,130.6187,301.0148,125.1735,302.5477,134.98,303.46\" style=\"stroke: #383838; stroke-width: 1.0;\"/><text fill=\"#000000\" font-family=\"sans-serif\" font-size=\"13\" lengthAdjust=\"spacingAndGlyphs\" textLength=\"36\" x=\"85\" y=\"264.0669\">[true]</text><text fill=\"#000000\" font-family=\"sans-serif\" font-size=\"13\" lengthAdjust=\"spacingAndGlyphs\" textLength=\"7\" x=\"119.8095\" y=\"294.8128\">*</text></a><!--MD5=[0188b64bb0ae78505a997a81836e11e9]\n",
       "link E3 to E5--><a href=\"psysml:1317e145-771b-48e4-a88c-08ae6f2caba6\" target=\"_top\" title=\"psysml:1317e145-771b-48e4-a88c-08ae6f2caba6\" xlink:actuate=\"onRequest\" xlink:href=\"psysml:1317e145-771b-48e4-a88c-08ae6f2caba6\" xlink:show=\"new\" xlink:title=\"psysml:1317e145-771b-48e4-a88c-08ae6f2caba6\" xlink:type=\"simple\"><path d=\"M36.3,210.29 C39.76,234.03 50.73,296.03 76,341 C91.89,369.29 117.42,396.1 137.07,414.43 \" fill=\"none\" id=\"E3-&gt;E5\" style=\"stroke: #383838; stroke-width: 1.0;\"/><polygon fill=\"#383838\" points=\"140.92,417.98,137.0155,408.9382,137.2443,414.5904,131.5921,414.8192,140.92,417.98\" style=\"stroke: #383838; stroke-width: 1.0;\"/><text fill=\"#000000\" font-family=\"sans-serif\" font-size=\"13\" lengthAdjust=\"spacingAndGlyphs\" textLength=\"40\" x=\"77\" y=\"324.0669\">[false]</text><text fill=\"#000000\" font-family=\"sans-serif\" font-size=\"13\" lengthAdjust=\"spacingAndGlyphs\" textLength=\"7\" x=\"126.1631\" y=\"406.9125\">*</text></a><!--MD5=[1b7591eae5389033d8d09a9d6721a717]\n",
       "link E4 to E5--><a href=\"psysml:23f0aa3a-74d1-4632-9e57-f97d17e19ec4\" target=\"_top\" title=\"psysml:23f0aa3a-74d1-4632-9e57-f97d17e19ec4\" xlink:actuate=\"onRequest\" xlink:href=\"psysml:23f0aa3a-74d1-4632-9e57-f97d17e19ec4\" xlink:show=\"new\" xlink:title=\"psysml:23f0aa3a-74d1-4632-9e57-f97d17e19ec4\" xlink:type=\"simple\"><path d=\"M165,341.05 C165,360.9 165,391.02 165,412.52 \" fill=\"none\" id=\"E4-&gt;E5\" style=\"stroke: #383838; stroke-width: 1.0;\"/><polygon fill=\"#383838\" points=\"165,417.79,169,408.79,165,412.79,161,408.79,165,417.79\" style=\"stroke: #383838; stroke-width: 1.0;\"/><text fill=\"#000000\" font-family=\"sans-serif\" font-size=\"13\" lengthAdjust=\"spacingAndGlyphs\" textLength=\"55\" x=\"166\" y=\"384.0669\">[x == 0]</text><text fill=\"#000000\" font-family=\"sans-serif\" font-size=\"13\" lengthAdjust=\"spacingAndGlyphs\" textLength=\"7\" x=\"157.0594\" y=\"407.033\">*</text></a><!--MD5=[fe27a158559732c234fa8cf49abd86f2]\n",
       "@startuml\r\n",
       "top to bottom direction\r\n",
       "skinparam monochrome true\r\n",
       "skinparam classbackgroundcolor white\r\n",
       "skinparam shadowing false\r\n",
       "skinparam wrapWidth 300\r\n",
       "hide circle\r\n",
       "\r\n",
       "rec def \"DecisionTest\" as E1  <<(T,blue) action  def>> [[psysml:62ac371c-e17a-420d-a580-1aab63005ed6 ]] {\r\n",
       "choice \"test x\" as E2  [[psysml:2e150d19-c5c5-4276-9136-9fe31d212434 ]] \r\n",
       "choice \"<s>noname</s>\" as E3  [[psysml:cc5b619c-f329-4ed7-9a64-7943d6ed9569 ]] \r\n",
       "rec usage \"A1\" as E4  <<(T,blue) action>> [[psysml:bb8ae358-9e9d-46e4-9973-23f4ed00e117 ]] {\r\n",
       "}\r\n",
       "\r\n",
       "rec usage \"A2\" as E5  <<(T,blue) action>> [[psysml:e7f91728-bf49-43a2-b90b-9012c9afe2c4 ]] {\r\n",
       "}\r\n",
       "\r\n",
       "rec usage \"A3\" as E6  <<(T,blue) action>> [[psysml:0d8578a4-a91e-4bc0-9576-e9210611ea53 ]] {\r\n",
       "}\r\n",
       "\r\n",
       "rec usage \"A3\" as E7  <<(T,blue) action>> [[psysml:0d8578a4-a91e-4bc0-9576-e9210611ea53 ]] {\r\n",
       "}\r\n",
       "\r\n",
       "}\r\n",
       "\r\n",
       "E2  - -> \"*\"E4 [[psysml:8074e684-9dcd-4869-b14d-8570f637bde9 ]] : [x == 1]\r\n",
       "E2  - -> \"*\"E5 [[psysml:3f3ee8aa-e9f7-416c-965c-8aff211aef79 ]] : [x > 1]\r\n",
       "E2  - -> \"*\"E7 [[psysml:5268f6a4-a59c-47f8-920f-30c5900c34c3 ]] \r\n",
       "E2 - -> \"*\"E3 [[psysml:c0d6c8f2-adfa-4de5-8b53-fd445de20c7a ]] \r\n",
       "E3  - -> \"*\"E4 [[psysml:647fb379-8896-403f-81c0-e54862ace948 ]] : [true]\r\n",
       "E3  - -> \"*\"E5 [[psysml:1317e145-771b-48e4-a88c-08ae6f2caba6 ]] : [false]\r\n",
       "E4  - -> \"*\"E5 [[psysml:23f0aa3a-74d1-4632-9e57-f97d17e19ec4 ]] : [x == 0]\r\n",
       "E7  - -> \"*\"E2 [[psysml:1fcd52fd-d040-4c7e-90de-1e4181f9ba4a ]] : [x > 0]\r\n",
       "@enduml\r\n",
       "\n",
       "PlantUML version 1.2020.13(Sat Jun 13 12:26:38 UTC 2020)\n",
       "(EPL source distribution)\n",
       "Java Runtime: OpenJDK Runtime Environment\n",
       "JVM: OpenJDK 64-Bit Server VM\n",
       "Default Encoding: UTF-8\n",
       "Language: en\n",
       "Country: null\n",
       "--></g></svg>"
      ]
     },
     "execution_count": 44,
     "metadata": {},
     "output_type": "execute_result"
    }
   ],
   "source": [
    "%viz --style=\"TB\" --view=\"Default\" \"DecisionTest\""
   ]
  },
  {
   "cell_type": "code",
   "execution_count": 45,
   "id": "242f54c8",
   "metadata": {
    "execution": {
     "iopub.execute_input": "2022-03-21T07:51:02.666603Z",
     "iopub.status.busy": "2022-03-21T07:51:02.665968Z",
     "iopub.status.idle": "2022-03-21T07:51:02.792583Z",
     "shell.execute_reply": "2022-03-21T07:51:02.791753Z"
    }
   },
   "outputs": [
    {
     "data": {
      "image/svg+xml": [
       "<?xml version=\"1.0\" encoding=\"UTF-8\" standalone=\"no\"?><svg xmlns=\"http://www.w3.org/2000/svg\" xmlns:xlink=\"http://www.w3.org/1999/xlink\" contentScriptType=\"application/ecmascript\" contentStyleType=\"text/css\" height=\"335px\" preserveAspectRatio=\"none\" style=\"width:531px;height:335px;\" version=\"1.1\" viewBox=\"0 0 531 335\" width=\"531px\" zoomAndPan=\"magnify\"><defs/><g><!--MD5=[43c9051892ef23e1a46a86907403d788]\n",
       "class E1--><a href=\"psysml:62ac371c-e17a-420d-a580-1aab63005ed6\" target=\"_top\" title=\"psysml:62ac371c-e17a-420d-a580-1aab63005ed6\" xlink:actuate=\"onRequest\" xlink:href=\"psysml:62ac371c-e17a-420d-a580-1aab63005ed6\" xlink:show=\"new\" xlink:title=\"psysml:62ac371c-e17a-420d-a580-1aab63005ed6\" xlink:type=\"simple\"><rect fill=\"#FFFFFF\" height=\"211.5938\" id=\"E1\" style=\"stroke: #383838; stroke-width: 1.5;\" width=\"86\" x=\"315\" y=\"7\"/><text fill=\"#000000\" font-family=\"sans-serif\" font-size=\"12\" font-style=\"italic\" lengthAdjust=\"spacingAndGlyphs\" textLength=\"81\" x=\"317.5\" y=\"23.1387\">«action  def»</text><text fill=\"#000000\" font-family=\"sans-serif\" font-size=\"12\" lengthAdjust=\"spacingAndGlyphs\" textLength=\"80\" x=\"318\" y=\"37.1074\">DecisionTest</text><line style=\"stroke: #383838; stroke-width: 1.5;\" x1=\"316\" x2=\"400\" y1=\"44.9375\" y2=\"44.9375\"/><text fill=\"#000000\" font-family=\"sans-serif\" font-size=\"11\" lengthAdjust=\"spacingAndGlyphs\" textLength=\"30\" x=\"321\" y=\"75.9526\">x= 1;</text><line style=\"stroke: #383838; stroke-width: 1.0;\" x1=\"316\" x2=\"330.5\" y1=\"59.3398\" y2=\"59.3398\"/><text fill=\"#000000\" font-family=\"sans-serif\" font-size=\"11\" lengthAdjust=\"spacingAndGlyphs\" textLength=\"55\" x=\"330.5\" y=\"62.6479\">attributes</text><line style=\"stroke: #383838; stroke-width: 1.0;\" x1=\"385.5\" x2=\"400\" y1=\"59.3398\" y2=\"59.3398\"/><text fill=\"#000000\" font-family=\"sans-serif\" font-size=\"11\" lengthAdjust=\"spacingAndGlyphs\" textLength=\"25\" x=\"321\" y=\"105.562\">then</text><line style=\"stroke: #383838; stroke-width: 1.0;\" x1=\"316\" x2=\"322.5\" y1=\"88.9492\" y2=\"88.9492\"/><text fill=\"#000000\" font-family=\"sans-serif\" font-size=\"11\" lengthAdjust=\"spacingAndGlyphs\" textLength=\"71\" x=\"322.5\" y=\"92.2573\">successions</text><line style=\"stroke: #383838; stroke-width: 1.0;\" x1=\"393.5\" x2=\"400\" y1=\"88.9492\" y2=\"88.9492\"/><text fill=\"#000000\" font-family=\"sans-serif\" font-size=\"11\" lengthAdjust=\"spacingAndGlyphs\" textLength=\"0\" x=\"325\" y=\"135.1714\"/><text fill=\"#000000\" font-family=\"sans-serif\" font-size=\"11\" lengthAdjust=\"spacingAndGlyphs\" textLength=\"0\" x=\"325\" y=\"147.9761\"/><text fill=\"#000000\" font-family=\"sans-serif\" font-size=\"11\" lengthAdjust=\"spacingAndGlyphs\" textLength=\"0\" x=\"325\" y=\"160.7808\"/><text fill=\"#000000\" font-family=\"sans-serif\" font-size=\"11\" lengthAdjust=\"spacingAndGlyphs\" textLength=\"0\" x=\"325\" y=\"173.5854\"/><text fill=\"#000000\" font-family=\"sans-serif\" font-size=\"11\" lengthAdjust=\"spacingAndGlyphs\" textLength=\"0\" x=\"325\" y=\"186.3901\"/><text fill=\"#000000\" font-family=\"sans-serif\" font-size=\"11\" lengthAdjust=\"spacingAndGlyphs\" textLength=\"0\" x=\"325\" y=\"199.1948\"/><text fill=\"#000000\" font-family=\"sans-serif\" font-size=\"11\" lengthAdjust=\"spacingAndGlyphs\" textLength=\"8\" x=\"321\" y=\"211.9995\">S</text><line style=\"stroke: #383838; stroke-width: 1.0;\" x1=\"316\" x2=\"327.5\" y1=\"118.5586\" y2=\"118.5586\"/><text fill=\"#000000\" font-family=\"sans-serif\" font-size=\"11\" lengthAdjust=\"spacingAndGlyphs\" textLength=\"61\" x=\"327.5\" y=\"121.8667\">transitions</text><line style=\"stroke: #383838; stroke-width: 1.0;\" x1=\"388.5\" x2=\"400\" y1=\"118.5586\" y2=\"118.5586\"/></a><!--MD5=[b4997ac47864f28c2f74865a473b2911]\n",
       "class E2--><a href=\"psysml:2e150d19-c5c5-4276-9136-9fe31d212434\" target=\"_top\" title=\"psysml:2e150d19-c5c5-4276-9136-9fe31d212434\" xlink:actuate=\"onRequest\" xlink:href=\"psysml:2e150d19-c5c5-4276-9136-9fe31d212434\" xlink:show=\"new\" xlink:title=\"psysml:2e150d19-c5c5-4276-9136-9fe31d212434\" xlink:type=\"simple\"><rect fill=\"#FFFFFF\" height=\"45.9375\" id=\"E2\" rx=\"10\" ry=\"10\" style=\"stroke: #383838; stroke-width: 1.5;\" width=\"104\" x=\"7\" y=\"279\"/><text fill=\"#000000\" font-family=\"sans-serif\" font-size=\"12\" font-style=\"italic\" lengthAdjust=\"spacingAndGlyphs\" textLength=\"102\" x=\"8\" y=\"295.1387\">«decision node»</text><text fill=\"#000000\" font-family=\"sans-serif\" font-size=\"12\" lengthAdjust=\"spacingAndGlyphs\" textLength=\"35\" x=\"39.5\" y=\"309.1074\">test x</text><line style=\"stroke: #383838; stroke-width: 1.5;\" x1=\"8\" x2=\"110\" y1=\"316.9375\" y2=\"316.9375\"/></a><!--MD5=[09b614a08d8cba4a07c9adeb5e0fee81]\n",
       "class E3--><a href=\"psysml:cc5b619c-f329-4ed7-9a64-7943d6ed9569\" target=\"_top\" title=\"psysml:cc5b619c-f329-4ed7-9a64-7943d6ed9569\" xlink:actuate=\"onRequest\" xlink:href=\"psysml:cc5b619c-f329-4ed7-9a64-7943d6ed9569\" xlink:show=\"new\" xlink:title=\"psysml:cc5b619c-f329-4ed7-9a64-7943d6ed9569\" xlink:type=\"simple\"><rect fill=\"#FFFFFF\" height=\"45.9375\" id=\"E3\" rx=\"10\" ry=\"10\" style=\"stroke: #383838; stroke-width: 1.5;\" width=\"104\" x=\"146\" y=\"279\"/><text fill=\"#000000\" font-family=\"sans-serif\" font-size=\"12\" font-style=\"italic\" lengthAdjust=\"spacingAndGlyphs\" textLength=\"102\" x=\"147\" y=\"295.1387\">«decision node»</text><text fill=\"#000000\" font-family=\"sans-serif\" font-size=\"12\" lengthAdjust=\"spacingAndGlyphs\" text-decoration=\"line-through\" textLength=\"51\" x=\"170.5\" y=\"309.1074\">noname</text><text fill=\"#000000\" font-family=\"sans-serif\" font-size=\"12\" lengthAdjust=\"spacingAndGlyphs\" textLength=\"0\" x=\"225.5\" y=\"309.1074\"/><line style=\"stroke: #383838; stroke-width: 1.5;\" x1=\"147\" x2=\"249\" y1=\"316.9375\" y2=\"316.9375\"/></a><!--MD5=[ebbe1d658d1005bcc118a6aa81145e00]\n",
       "class E4--><a href=\"psysml:bb8ae358-9e9d-46e4-9973-23f4ed00e117\" target=\"_top\" title=\"psysml:bb8ae358-9e9d-46e4-9973-23f4ed00e117\" xlink:actuate=\"onRequest\" xlink:href=\"psysml:bb8ae358-9e9d-46e4-9973-23f4ed00e117\" xlink:show=\"new\" xlink:title=\"psysml:bb8ae358-9e9d-46e4-9973-23f4ed00e117\" xlink:type=\"simple\"><rect fill=\"#FFFFFF\" height=\"45.9375\" id=\"E4\" rx=\"10\" ry=\"10\" style=\"stroke: #383838; stroke-width: 1.5;\" width=\"55\" x=\"285.5\" y=\"279\"/><text fill=\"#000000\" font-family=\"sans-serif\" font-size=\"12\" font-style=\"italic\" lengthAdjust=\"spacingAndGlyphs\" textLength=\"53\" x=\"286.5\" y=\"295.1387\">«action»</text><text fill=\"#000000\" font-family=\"sans-serif\" font-size=\"12\" lengthAdjust=\"spacingAndGlyphs\" textLength=\"16\" x=\"303\" y=\"309.1074\">A1</text><line style=\"stroke: #383838; stroke-width: 1.5;\" x1=\"286.5\" x2=\"339.5\" y1=\"316.9375\" y2=\"316.9375\"/></a><!--MD5=[270fce915f116d4de14055a7c1d9a0f3]\n",
       "class E5--><a href=\"psysml:e7f91728-bf49-43a2-b90b-9012c9afe2c4\" target=\"_top\" title=\"psysml:e7f91728-bf49-43a2-b90b-9012c9afe2c4\" xlink:actuate=\"onRequest\" xlink:href=\"psysml:e7f91728-bf49-43a2-b90b-9012c9afe2c4\" xlink:show=\"new\" xlink:title=\"psysml:e7f91728-bf49-43a2-b90b-9012c9afe2c4\" xlink:type=\"simple\"><rect fill=\"#FFFFFF\" height=\"45.9375\" id=\"E5\" rx=\"10\" ry=\"10\" style=\"stroke: #383838; stroke-width: 1.5;\" width=\"55\" x=\"375.5\" y=\"279\"/><text fill=\"#000000\" font-family=\"sans-serif\" font-size=\"12\" font-style=\"italic\" lengthAdjust=\"spacingAndGlyphs\" textLength=\"53\" x=\"376.5\" y=\"295.1387\">«action»</text><text fill=\"#000000\" font-family=\"sans-serif\" font-size=\"12\" lengthAdjust=\"spacingAndGlyphs\" textLength=\"16\" x=\"393\" y=\"309.1074\">A2</text><line style=\"stroke: #383838; stroke-width: 1.5;\" x1=\"376.5\" x2=\"429.5\" y1=\"316.9375\" y2=\"316.9375\"/></a><!--MD5=[60a26617385b1d2d0262a64233df1f8d]\n",
       "class E6--><a href=\"psysml:0d8578a4-a91e-4bc0-9576-e9210611ea53\" target=\"_top\" title=\"psysml:0d8578a4-a91e-4bc0-9576-e9210611ea53\" xlink:actuate=\"onRequest\" xlink:href=\"psysml:0d8578a4-a91e-4bc0-9576-e9210611ea53\" xlink:show=\"new\" xlink:title=\"psysml:0d8578a4-a91e-4bc0-9576-e9210611ea53\" xlink:type=\"simple\"><rect fill=\"#FFFFFF\" height=\"45.9375\" id=\"E6\" rx=\"10\" ry=\"10\" style=\"stroke: #383838; stroke-width: 1.5;\" width=\"55\" x=\"465.5\" y=\"279\"/><text fill=\"#000000\" font-family=\"sans-serif\" font-size=\"12\" font-style=\"italic\" lengthAdjust=\"spacingAndGlyphs\" textLength=\"53\" x=\"466.5\" y=\"295.1387\">«action»</text><text fill=\"#000000\" font-family=\"sans-serif\" font-size=\"12\" lengthAdjust=\"spacingAndGlyphs\" textLength=\"16\" x=\"483\" y=\"309.1074\">A3</text><line style=\"stroke: #383838; stroke-width: 1.5;\" x1=\"466.5\" x2=\"519.5\" y1=\"316.9375\" y2=\"316.9375\"/></a><!--MD5=[a523cb2a0b79ecf9065ad8783f96c320]\n",
       "reverse link E1 to E2--><a href=\"psysml:61bbaf95-6b35-4ea8-9656-8ce08595131a\" target=\"_top\" title=\"psysml:61bbaf95-6b35-4ea8-9656-8ce08595131a\" xlink:actuate=\"onRequest\" xlink:href=\"psysml:61bbaf95-6b35-4ea8-9656-8ce08595131a\" xlink:show=\"new\" xlink:title=\"psysml:61bbaf95-6b35-4ea8-9656-8ce08595131a\" xlink:type=\"simple\"><path d=\"M303.54,148.06 C242.66,186.13 145.87,246.67 94.21,278.98 \" fill=\"none\" id=\"E1&lt;-E2\" style=\"stroke: #383838; stroke-width: 1.0;\"/><polygon fill=\"#383838\" points=\"314.84,140.99,307.632,140.7788,304.6648,147.3512,311.8728,147.5623,314.84,140.99\" style=\"stroke: #383838; stroke-width: 1.0;\"/></a><!--MD5=[5d7b3810b1dd9b5164bea1151b29b665]\n",
       "reverse link E1 to E3--><a href=\"psysml:1be4164a-e759-487d-bef2-3f3fc6c6ee3e\" target=\"_top\" title=\"psysml:1be4164a-e759-487d-bef2-3f3fc6c6ee3e\" xlink:actuate=\"onRequest\" xlink:href=\"psysml:1be4164a-e759-487d-bef2-3f3fc6c6ee3e\" xlink:show=\"new\" xlink:title=\"psysml:1be4164a-e759-487d-bef2-3f3fc6c6ee3e\" xlink:type=\"simple\"><path d=\"M305.9,174.89 C275.51,210.41 238.98,253.11 217.17,278.6 \" fill=\"none\" id=\"E1&lt;-E3\" style=\"stroke: #383838; stroke-width: 1.0;\"/><polygon fill=\"#383838\" points=\"314.7,164.6,307.7601,166.559,306.8992,173.7185,313.8391,171.7595,314.7,164.6\" style=\"stroke: #383838; stroke-width: 1.0;\"/></a><!--MD5=[f2c5c03aa1e8c0ba21c10a05e6444b8e]\n",
       "reverse link E1 to E4--><a href=\"psysml:ea8ec5e3-dd0d-4201-a2d4-45f385d409e8\" target=\"_top\" title=\"psysml:ea8ec5e3-dd0d-4201-a2d4-45f385d409e8\" xlink:actuate=\"onRequest\" xlink:href=\"psysml:ea8ec5e3-dd0d-4201-a2d4-45f385d409e8\" xlink:show=\"new\" xlink:title=\"psysml:ea8ec5e3-dd0d-4201-a2d4-45f385d409e8\" xlink:type=\"simple\"><path d=\"M329.58,232.08 C325.3,249.9 321.32,266.44 318.33,278.84 \" fill=\"none\" id=\"E1&lt;-E4\" style=\"stroke: #383838; stroke-width: 1.0;\"/><polygon fill=\"#383838\" points=\"332.67,219.25,327.3811,224.1517,329.8715,230.9191,335.1605,226.0174,332.67,219.25\" style=\"stroke: #383838; stroke-width: 1.0;\"/><text fill=\"#000000\" font-family=\"sans-serif\" font-size=\"13\" lengthAdjust=\"spacingAndGlyphs\" textLength=\"7\" x=\"311.7989\" y=\"268.0753\">*</text></a><!--MD5=[33238bef88d6431a141d8bc8fb12bca0]\n",
       "reverse link E1 to E5--><a href=\"psysml:8b3fb5b8-4ae2-4666-9331-7642784b574c\" target=\"_top\" title=\"psysml:8b3fb5b8-4ae2-4666-9331-7642784b574c\" xlink:actuate=\"onRequest\" xlink:href=\"psysml:8b3fb5b8-4ae2-4666-9331-7642784b574c\" xlink:show=\"new\" xlink:title=\"psysml:8b3fb5b8-4ae2-4666-9331-7642784b574c\" xlink:type=\"simple\"><path d=\"M386.42,232.08 C390.7,249.9 394.68,266.44 397.67,278.84 \" fill=\"none\" id=\"E1&lt;-E5\" style=\"stroke: #383838; stroke-width: 1.0;\"/><polygon fill=\"#383838\" points=\"383.33,219.25,380.8395,226.0174,386.1285,230.9191,388.6189,224.1517,383.33,219.25\" style=\"stroke: #383838; stroke-width: 1.0;\"/><text fill=\"#000000\" font-family=\"sans-serif\" font-size=\"13\" lengthAdjust=\"spacingAndGlyphs\" textLength=\"7\" x=\"388.4073\" y=\"268.0753\">*</text></a><!--MD5=[aca2ef284c2b1b90e17e73bf3f292c07]\n",
       "reverse link E1 to E6--><a href=\"psysml:a8437b79-0ca7-4b3d-9ccd-1b1fd90c9a28\" target=\"_top\" title=\"psysml:a8437b79-0ca7-4b3d-9ccd-1b1fd90c9a28\" xlink:actuate=\"onRequest\" xlink:href=\"psysml:a8437b79-0ca7-4b3d-9ccd-1b1fd90c9a28\" xlink:show=\"new\" xlink:title=\"psysml:a8437b79-0ca7-4b3d-9ccd-1b1fd90c9a28\" xlink:type=\"simple\"><path d=\"M408.77,201.95 C429.03,230.31 451.36,259.35 468.19,278.59 \" fill=\"none\" id=\"E1&lt;-E6\" style=\"stroke: #383838; stroke-width: 1.0;\"/><polygon fill=\"#383838\" points=\"401.11,191.14,401.3121,198.3483,408.0436,200.9341,407.8415,193.7258,401.11,191.14\" style=\"stroke: #383838; stroke-width: 1.0;\"/><text fill=\"#000000\" font-family=\"sans-serif\" font-size=\"13\" lengthAdjust=\"spacingAndGlyphs\" textLength=\"7\" x=\"453.9356\" y=\"267.7612\">*</text></a><!--MD5=[aca2ef284c2b1b90e17e73bf3f292c07]\n",
       "reverse link E1 to E6--><a href=\"psysml:df3b65d4-7483-4b88-b5f9-cbf727def8cf\" target=\"_top\" title=\"psysml:df3b65d4-7483-4b88-b5f9-cbf727def8cf\" xlink:actuate=\"onRequest\" xlink:href=\"psysml:df3b65d4-7483-4b88-b5f9-cbf727def8cf\" xlink:show=\"new\" xlink:title=\"psysml:df3b65d4-7483-4b88-b5f9-cbf727def8cf\" xlink:type=\"simple\"><path d=\"M410.8,169.86 C439.32,206.45 471.27,252.27 486.16,278.93 \" fill=\"none\" id=\"E1&lt;-E6-1\" style=\"stroke: #383838; stroke-width: 1.0; stroke-dasharray: 7.0,7.0;\"/><ellipse cx=\"406.2494\" cy=\"164.1173\" fill=\"#FFFFFF\" rx=\"8\" ry=\"8\" style=\"stroke: #383838; stroke-width: 1.0;\"/><line style=\"stroke: #383838; stroke-width: 1.0;\" x1=\"411.2088\" x2=\"401.29\" y1=\"170.3946\" y2=\"157.84\"/><line style=\"stroke: #383838; stroke-width: 1.0;\" x1=\"399.9721\" x2=\"412.5267\" y1=\"169.0767\" y2=\"159.1579\"/><text fill=\"#000000\" font-family=\"sans-serif\" font-size=\"13\" lengthAdjust=\"spacingAndGlyphs\" textLength=\"7\" x=\"476.3811\" y=\"267.8075\">*</text></a><!--MD5=[1ac3132bad0e927212ff2eff61057e00]\n",
       "@startuml\r\n",
       "top to bottom direction\r\n",
       "skinparam monochrome true\r\n",
       "skinparam classbackgroundcolor white\r\n",
       "skinparam shadowing false\r\n",
       "skinparam wrapWidth 300\r\n",
       "hide circle\r\n",
       "\r\n",
       "comp def \"DecisionTest\" as E1  <<(T,blue) action  def>> [[psysml:62ac371c-e17a-420d-a580-1aab63005ed6 ]] {\r\n",
       "- - attributes - -\r\n",
       "x= 1; \r\n",
       "- - successions - -\r\n",
       " then \r\n",
       "- - transitions - -\r\n",
       "\r\n",
       "\r\n",
       "\r\n",
       "\r\n",
       "\r\n",
       "\r\n",
       "S\r\n",
       "}\r\n",
       "comp usage \"test x \" as E2  <<(T,blue) decision node>> [[psysml:2e150d19-c5c5-4276-9136-9fe31d212434 ]] {\r\n",
       "}\r\n",
       "comp usage \"<s>noname</s> \" as E3  <<(T,blue) decision node>> [[psysml:cc5b619c-f329-4ed7-9a64-7943d6ed9569 ]] {\r\n",
       "}\r\n",
       "comp usage \"A1 \" as E4  <<(T,blue) action>> [[psysml:bb8ae358-9e9d-46e4-9973-23f4ed00e117 ]] {\r\n",
       "}\r\n",
       "comp usage \"A2 \" as E5  <<(T,blue) action>> [[psysml:e7f91728-bf49-43a2-b90b-9012c9afe2c4 ]] {\r\n",
       "}\r\n",
       "comp usage \"A3 \" as E6  <<(T,blue) action>> [[psysml:0d8578a4-a91e-4bc0-9576-e9210611ea53 ]] {\r\n",
       "}\r\n",
       "E1 *- - E2 [[psysml:61bbaf95-6b35-4ea8-9656-8ce08595131a ]] \r\n",
       "E1 *- - E3 [[psysml:1be4164a-e759-487d-bef2-3f3fc6c6ee3e ]] \r\n",
       "E1 *- - \"*\"E4 [[psysml:ea8ec5e3-dd0d-4201-a2d4-45f385d409e8 ]] \r\n",
       "E1 *- - \"*\"E5 [[psysml:8b3fb5b8-4ae2-4666-9331-7642784b574c ]] \r\n",
       "E1 *- - \"*\"E6 [[psysml:a8437b79-0ca7-4b3d-9ccd-1b1fd90c9a28 ]] \r\n",
       "E1 +.. \"*\"E6 [[psysml:df3b65d4-7483-4b88-b5f9-cbf727def8cf ]] \r\n",
       "@enduml\r\n",
       "\n",
       "PlantUML version 1.2020.13(Sat Jun 13 12:26:38 UTC 2020)\n",
       "(EPL source distribution)\n",
       "Java Runtime: OpenJDK Runtime Environment\n",
       "JVM: OpenJDK 64-Bit Server VM\n",
       "Default Encoding: UTF-8\n",
       "Language: en\n",
       "Country: null\n",
       "--></g></svg>"
      ]
     },
     "execution_count": 45,
     "metadata": {},
     "output_type": "execute_result"
    }
   ],
   "source": [
    "%viz --style=\"TB\" --view=\"Tree\" \"DecisionTest\""
   ]
  },
  {
   "cell_type": "code",
   "execution_count": 46,
   "id": "08bd7b70",
   "metadata": {
    "execution": {
     "iopub.execute_input": "2022-03-21T07:51:02.842221Z",
     "iopub.status.busy": "2022-03-21T07:51:02.841914Z",
     "iopub.status.idle": "2022-03-21T07:51:02.844942Z",
     "shell.execute_reply": "2022-03-21T07:51:02.844761Z"
    }
   },
   "outputs": [
    {
     "data": {
      "image/svg+xml": [
       "<?xml version=\"1.0\" encoding=\"UTF-8\" standalone=\"no\"?><svg xmlns=\"http://www.w3.org/2000/svg\" xmlns:xlink=\"http://www.w3.org/1999/xlink\" contentScriptType=\"application/ecmascript\" contentStyleType=\"text/css\" height=\"12px\" preserveAspectRatio=\"none\" style=\"width:12px;height:12px;\" version=\"1.1\" viewBox=\"0 0 12 12\" width=\"12px\" zoomAndPan=\"magnify\"><defs/><g><!--MD5=[f4ee21bc66e489b5061b7c3e9601fdef]\n",
       "@startuml\r\n",
       "top to bottom direction\r\n",
       "skinparam monochrome true\r\n",
       "skinparam classbackgroundcolor white\r\n",
       "skinparam shadowing false\r\n",
       "skinparam wrapWidth 300\r\n",
       "hide circle\r\n",
       "\r\n",
       "@enduml\r\n",
       "\n",
       "PlantUML version 1.2020.13(Sat Jun 13 12:26:38 UTC 2020)\n",
       "(EPL source distribution)\n",
       "Java Runtime: OpenJDK Runtime Environment\n",
       "JVM: OpenJDK 64-Bit Server VM\n",
       "Default Encoding: UTF-8\n",
       "Language: en\n",
       "Country: null\n",
       "--></g></svg>"
      ]
     },
     "execution_count": 46,
     "metadata": {},
     "output_type": "execute_result"
    }
   ],
   "source": [
    "%viz --style=\"TB\" --view=\"State\" \"DecisionTest\""
   ]
  },
  {
   "cell_type": "code",
   "execution_count": 47,
   "id": "25c62703",
   "metadata": {
    "execution": {
     "iopub.execute_input": "2022-03-21T07:51:02.895136Z",
     "iopub.status.busy": "2022-03-21T07:51:02.894807Z",
     "iopub.status.idle": "2022-03-21T07:51:02.925875Z",
     "shell.execute_reply": "2022-03-21T07:51:02.924379Z"
    }
   },
   "outputs": [
    {
     "data": {
      "image/svg+xml": [
       "<?xml version=\"1.0\" encoding=\"UTF-8\" standalone=\"no\"?><svg xmlns=\"http://www.w3.org/2000/svg\" xmlns:xlink=\"http://www.w3.org/1999/xlink\" contentScriptType=\"application/ecmascript\" contentStyleType=\"text/css\" height=\"356px\" preserveAspectRatio=\"none\" style=\"width:333px;height:356px;\" version=\"1.1\" viewBox=\"0 0 333 356\" width=\"333px\" zoomAndPan=\"magnify\"><defs/><g><!--MD5=[fbc87193dbaf4d95561dea2c320d4a47]\n",
       "cluster E1--><a href=\"psysml:62ac371c-e17a-420d-a580-1aab63005ed6\" target=\"_top\" title=\"psysml:62ac371c-e17a-420d-a580-1aab63005ed6\" xlink:actuate=\"onRequest\" xlink:href=\"psysml:62ac371c-e17a-420d-a580-1aab63005ed6\" xlink:show=\"new\" xlink:title=\"psysml:62ac371c-e17a-420d-a580-1aab63005ed6\" xlink:type=\"simple\"><rect fill=\"#FFFFFF\" height=\"338\" id=\"E1\" style=\"stroke: #383838; stroke-width: 1.5;\" width=\"315\" x=\"7\" y=\"7\"/><rect fill=\"#F8F8F8\" height=\"37.9375\" style=\"stroke: #383838; stroke-width: 1.5;\" width=\"315\" x=\"7\" y=\"7\"/><text fill=\"#000000\" font-family=\"sans-serif\" font-size=\"12\" font-style=\"italic\" lengthAdjust=\"spacingAndGlyphs\" textLength=\"81\" x=\"124\" y=\"23.1387\">«action  def»</text><text fill=\"#000000\" font-family=\"sans-serif\" font-size=\"12\" lengthAdjust=\"spacingAndGlyphs\" textLength=\"80\" x=\"124.5\" y=\"37.1074\">DecisionTest</text></a><polygon fill=\"#F8F8F8\" points=\"210,67.5,222,79.5,210,91.5,198,79.5,210,67.5\" style=\"stroke: #383838; stroke-width: 1.5;\"/><polygon fill=\"#F8F8F8\" points=\"35,143.5,47,155.5,35,167.5,23,155.5,35,143.5\" style=\"stroke: #383838; stroke-width: 1.5;\"/><g id=\"E1.E4\"><a href=\"psysml:bb8ae358-9e9d-46e4-9973-23f4ed00e117\" target=\"_top\" title=\"psysml:bb8ae358-9e9d-46e4-9973-23f4ed00e117\" xlink:actuate=\"onRequest\" xlink:href=\"psysml:bb8ae358-9e9d-46e4-9973-23f4ed00e117\" xlink:show=\"new\" xlink:title=\"psysml:bb8ae358-9e9d-46e4-9973-23f4ed00e117\" xlink:type=\"simple\"><rect fill=\"#FFFFFF\" height=\"42.9375\" id=\"E4\" rx=\"10\" ry=\"10\" style=\"stroke: #383838; stroke-width: 1.5;\" width=\"60\" x=\"135\" y=\"210\"/><rect fill=\"#F8F8F8\" height=\"37.9375\" rx=\"10\" ry=\"10\" style=\"stroke: #F8F8F8; stroke-width: 1.5;\" width=\"60\" x=\"135\" y=\"210\"/><rect fill=\"#F8F8F8\" height=\"10\" style=\"stroke: #F8F8F8; stroke-width: 1.5;\" width=\"60\" x=\"135\" y=\"237.9375\"/><rect fill=\"none\" height=\"42.9375\" id=\"E4\" rx=\"10\" ry=\"10\" style=\"stroke: #383838; stroke-width: 1.5;\" width=\"60\" x=\"135\" y=\"210\"/><text fill=\"#000000\" font-family=\"sans-serif\" font-size=\"12\" font-style=\"italic\" lengthAdjust=\"spacingAndGlyphs\" textLength=\"53\" x=\"138.5\" y=\"226.1387\">«action»</text><text fill=\"#000000\" font-family=\"sans-serif\" font-size=\"12\" lengthAdjust=\"spacingAndGlyphs\" textLength=\"16\" x=\"157\" y=\"240.1074\">A1</text></a></g><g id=\"E1.E5\"><a href=\"psysml:e7f91728-bf49-43a2-b90b-9012c9afe2c4\" target=\"_top\" title=\"psysml:e7f91728-bf49-43a2-b90b-9012c9afe2c4\" xlink:actuate=\"onRequest\" xlink:href=\"psysml:e7f91728-bf49-43a2-b90b-9012c9afe2c4\" xlink:show=\"new\" xlink:title=\"psysml:e7f91728-bf49-43a2-b90b-9012c9afe2c4\" xlink:type=\"simple\"><rect fill=\"#FFFFFF\" height=\"42.9375\" id=\"E5\" rx=\"10\" ry=\"10\" style=\"stroke: #383838; stroke-width: 1.5;\" width=\"60\" x=\"135\" y=\"286\"/><rect fill=\"#F8F8F8\" height=\"37.9375\" rx=\"10\" ry=\"10\" style=\"stroke: #F8F8F8; stroke-width: 1.5;\" width=\"60\" x=\"135\" y=\"286\"/><rect fill=\"#F8F8F8\" height=\"10\" style=\"stroke: #F8F8F8; stroke-width: 1.5;\" width=\"60\" x=\"135\" y=\"313.9375\"/><rect fill=\"none\" height=\"42.9375\" id=\"E5\" rx=\"10\" ry=\"10\" style=\"stroke: #383838; stroke-width: 1.5;\" width=\"60\" x=\"135\" y=\"286\"/><text fill=\"#000000\" font-family=\"sans-serif\" font-size=\"12\" font-style=\"italic\" lengthAdjust=\"spacingAndGlyphs\" textLength=\"53\" x=\"138.5\" y=\"302.1387\">«action»</text><text fill=\"#000000\" font-family=\"sans-serif\" font-size=\"12\" lengthAdjust=\"spacingAndGlyphs\" textLength=\"16\" x=\"157\" y=\"316.1074\">A2</text></a></g><g id=\"E1.E6\"><a href=\"psysml:0d8578a4-a91e-4bc0-9576-e9210611ea53\" target=\"_top\" title=\"psysml:0d8578a4-a91e-4bc0-9576-e9210611ea53\" xlink:actuate=\"onRequest\" xlink:href=\"psysml:0d8578a4-a91e-4bc0-9576-e9210611ea53\" xlink:show=\"new\" xlink:title=\"psysml:0d8578a4-a91e-4bc0-9576-e9210611ea53\" xlink:type=\"simple\"><rect fill=\"#FFFFFF\" height=\"42.9375\" id=\"E6\" rx=\"10\" ry=\"10\" style=\"stroke: #383838; stroke-width: 1.5;\" width=\"60\" x=\"63\" y=\"58\"/><rect fill=\"#F8F8F8\" height=\"37.9375\" rx=\"10\" ry=\"10\" style=\"stroke: #F8F8F8; stroke-width: 1.5;\" width=\"60\" x=\"63\" y=\"58\"/><rect fill=\"#F8F8F8\" height=\"10\" style=\"stroke: #F8F8F8; stroke-width: 1.5;\" width=\"60\" x=\"63\" y=\"85.9375\"/><rect fill=\"none\" height=\"42.9375\" id=\"E6\" rx=\"10\" ry=\"10\" style=\"stroke: #383838; stroke-width: 1.5;\" width=\"60\" x=\"63\" y=\"58\"/><text fill=\"#000000\" font-family=\"sans-serif\" font-size=\"12\" font-style=\"italic\" lengthAdjust=\"spacingAndGlyphs\" textLength=\"53\" x=\"66.5\" y=\"74.1387\">«action»</text><text fill=\"#000000\" font-family=\"sans-serif\" font-size=\"12\" lengthAdjust=\"spacingAndGlyphs\" textLength=\"16\" x=\"85\" y=\"88.1074\">A3</text></a></g><g id=\"E1.E7\"><a href=\"psysml:0d8578a4-a91e-4bc0-9576-e9210611ea53\" target=\"_top\" title=\"psysml:0d8578a4-a91e-4bc0-9576-e9210611ea53\" xlink:actuate=\"onRequest\" xlink:href=\"psysml:0d8578a4-a91e-4bc0-9576-e9210611ea53\" xlink:show=\"new\" xlink:title=\"psysml:0d8578a4-a91e-4bc0-9576-e9210611ea53\" xlink:type=\"simple\"><rect fill=\"#FFFFFF\" height=\"42.9375\" id=\"E7\" rx=\"10\" ry=\"10\" style=\"stroke: #383838; stroke-width: 1.5;\" width=\"60\" x=\"246\" y=\"134\"/><rect fill=\"#F8F8F8\" height=\"37.9375\" rx=\"10\" ry=\"10\" style=\"stroke: #F8F8F8; stroke-width: 1.5;\" width=\"60\" x=\"246\" y=\"134\"/><rect fill=\"#F8F8F8\" height=\"10\" style=\"stroke: #F8F8F8; stroke-width: 1.5;\" width=\"60\" x=\"246\" y=\"161.9375\"/><rect fill=\"none\" height=\"42.9375\" id=\"E7\" rx=\"10\" ry=\"10\" style=\"stroke: #383838; stroke-width: 1.5;\" width=\"60\" x=\"246\" y=\"134\"/><text fill=\"#000000\" font-family=\"sans-serif\" font-size=\"12\" font-style=\"italic\" lengthAdjust=\"spacingAndGlyphs\" textLength=\"53\" x=\"249.5\" y=\"150.1387\">«action»</text><text fill=\"#000000\" font-family=\"sans-serif\" font-size=\"12\" lengthAdjust=\"spacingAndGlyphs\" textLength=\"16\" x=\"268\" y=\"164.1074\">A3</text></a></g><!--MD5=[4d03bb2d0377dc85ccfab60ff574652b]\n",
       "link E2 to E4--><a href=\"psysml:8074e684-9dcd-4869-b14d-8570f637bde9\" target=\"_top\" title=\"psysml:8074e684-9dcd-4869-b14d-8570f637bde9\" xlink:actuate=\"onRequest\" xlink:href=\"psysml:8074e684-9dcd-4869-b14d-8570f637bde9\" xlink:show=\"new\" xlink:title=\"psysml:8074e684-9dcd-4869-b14d-8570f637bde9\" xlink:type=\"simple\"><path d=\"M201.97,84.07 C187.22,91.12 156.19,108.44 144,134 C133.21,156.64 141.61,184.91 150.79,204.99 \" fill=\"none\" id=\"E2-&gt;E4\" style=\"stroke: #383838; stroke-width: 1.0;\"/><polygon fill=\"#383838\" points=\"153,209.65,152.7662,199.8039,150.8614,205.1304,145.5349,203.2257,153,209.65\" style=\"stroke: #383838; stroke-width: 1.0;\"/><text fill=\"#000000\" font-family=\"sans-serif\" font-size=\"13\" lengthAdjust=\"spacingAndGlyphs\" textLength=\"55\" x=\"145\" y=\"160.0669\">[x == 1]</text><text fill=\"#000000\" font-family=\"sans-serif\" font-size=\"13\" lengthAdjust=\"spacingAndGlyphs\" textLength=\"7\" x=\"141.8344\" y=\"198.8553\">*</text></a><!--MD5=[dcad52bbbca2fe8adc741ce38b45dc12]\n",
       "link E2 to E5--><a href=\"psysml:3f3ee8aa-e9f7-416c-965c-8aff211aef79\" target=\"_top\" title=\"psysml:3f3ee8aa-e9f7-416c-965c-8aff211aef79\" xlink:actuate=\"onRequest\" xlink:href=\"psysml:3f3ee8aa-e9f7-416c-965c-8aff211aef79\" xlink:show=\"new\" xlink:title=\"psysml:3f3ee8aa-e9f7-416c-965c-8aff211aef79\" xlink:type=\"simple\"><path d=\"M211.03,90.77 C214.33,123.83 224.51,227.37 226,261 C226.33,268.55 230.06,271.63 226,278 C220.01,287.41 210.02,293.76 199.83,298.03 \" fill=\"none\" id=\"E2-&gt;E5\" style=\"stroke: #383838; stroke-width: 1.0;\"/><polygon fill=\"#383838\" points=\"195.15,299.85,204.9881,300.3102,199.8089,298.035,202.0841,292.8559,195.15,299.85\" style=\"stroke: #383838; stroke-width: 1.0;\"/><text fill=\"#000000\" font-family=\"sans-serif\" font-size=\"13\" lengthAdjust=\"spacingAndGlyphs\" textLength=\"44\" x=\"222\" y=\"198.0669\">[x &gt; 1]</text><text fill=\"#000000\" font-family=\"sans-serif\" font-size=\"13\" lengthAdjust=\"spacingAndGlyphs\" textLength=\"7\" x=\"202.9316\" y=\"293.436\">*</text></a><!--MD5=[e3d2a08a9c9236652057e8ed0cbc9b62]\n",
       "link E2 to E7--><a href=\"psysml:5268f6a4-a59c-47f8-920f-30c5900c34c3\" target=\"_top\" title=\"psysml:5268f6a4-a59c-47f8-920f-30c5900c34c3\" xlink:actuate=\"onRequest\" xlink:href=\"psysml:5268f6a4-a59c-47f8-920f-30c5900c34c3\" xlink:show=\"new\" xlink:title=\"psysml:5268f6a4-a59c-47f8-920f-30c5900c34c3\" xlink:type=\"simple\"><path d=\"M210.68,90.95 C211.82,100.93 214.86,115.89 223,126 C227.84,132.02 234.31,136.94 241.06,140.89 \" fill=\"none\" id=\"E2-&gt;E7\" style=\"stroke: #383838; stroke-width: 1.0;\"/><polygon fill=\"#383838\" points=\"245.76,143.47,239.7851,135.6406,241.3738,141.0697,235.9446,142.6585,245.76,143.47\" style=\"stroke: #383838; stroke-width: 1.0;\"/><text fill=\"#000000\" font-family=\"sans-serif\" font-size=\"13\" lengthAdjust=\"spacingAndGlyphs\" textLength=\"7\" x=\"230.9576\" y=\"136.0432\">*</text></a><!--MD5=[583832df87f4419a098336a29a52fa00]\n",
       "link E7 to E2--><a href=\"psysml:1fcd52fd-d040-4c7e-90de-1e4181f9ba4a\" target=\"_top\" title=\"psysml:1fcd52fd-d040-4c7e-90de-1e4181f9ba4a\" xlink:actuate=\"onRequest\" xlink:href=\"psysml:1fcd52fd-d040-4c7e-90de-1e4181f9ba4a\" xlink:show=\"new\" xlink:title=\"psysml:1fcd52fd-d040-4c7e-90de-1e4181f9ba4a\" xlink:type=\"simple\"><path d=\"M257.61,133.88 C245.02,119.76 228.86,101.65 218.98,90.57 \" fill=\"none\" id=\"E7-&gt;E2\" style=\"stroke: #383838; stroke-width: 1.0;\"/><polygon fill=\"#383838\" points=\"215.4,86.56,218.3919,95.9434,218.7227,90.2963,224.3699,90.6271,215.4,86.56\" style=\"stroke: #383838; stroke-width: 1.0;\"/><text fill=\"#000000\" font-family=\"sans-serif\" font-size=\"13\" lengthAdjust=\"spacingAndGlyphs\" textLength=\"44\" x=\"249\" y=\"122.0669\">[x &gt; 0]</text><text fill=\"#000000\" font-family=\"sans-serif\" font-size=\"13\" lengthAdjust=\"spacingAndGlyphs\" textLength=\"7\" x=\"210.0625\" y=\"111.425\">*</text></a><!--MD5=[2720a5a1f2c3fca2055b230370638851]\n",
       "link E2 to E3--><a href=\"psysml:c0d6c8f2-adfa-4de5-8b53-fd445de20c7a\" target=\"_top\" title=\"psysml:c0d6c8f2-adfa-4de5-8b53-fd445de20c7a\" xlink:actuate=\"onRequest\" xlink:href=\"psysml:c0d6c8f2-adfa-4de5-8b53-fd445de20c7a\" xlink:show=\"new\" xlink:title=\"psysml:c0d6c8f2-adfa-4de5-8b53-fd445de20c7a\" xlink:type=\"simple\"><path d=\"M201.54,83.16 C188.57,87.22 162.96,95.08 141,101 C126.43,104.93 121.91,103.16 108,109 C84.25,118.97 59.36,136.17 45.65,146.32 \" fill=\"none\" id=\"E2-&gt;E3\" style=\"stroke: #383838; stroke-width: 1.0;\"/><polygon fill=\"#383838\" points=\"41.45,149.47,51.05,147.27,45.45,146.47,46.25,140.87,41.45,149.47\" style=\"stroke: #383838; stroke-width: 1.0;\"/><text fill=\"#000000\" font-family=\"sans-serif\" font-size=\"13\" lengthAdjust=\"spacingAndGlyphs\" textLength=\"7\" x=\"51.6488\" y=\"132.7367\">*</text></a><!--MD5=[af87c684e3b0d8be13c1a698a818ef1e]\n",
       "link E3 to E4--><a href=\"psysml:647fb379-8896-403f-81c0-e54862ace948\" target=\"_top\" title=\"psysml:647fb379-8896-403f-81c0-e54862ace948\" xlink:actuate=\"onRequest\" xlink:href=\"psysml:647fb379-8896-403f-81c0-e54862ace948\" xlink:show=\"new\" xlink:title=\"psysml:647fb379-8896-403f-81c0-e54862ace948\" xlink:type=\"simple\"><path d=\"M40.09,162.69 C48.35,172.37 65.62,191.11 84,202 C93.67,207.73 97.38,206.32 108,210 C115.1,212.46 122.69,215.15 129.93,217.74 \" fill=\"none\" id=\"E3-&gt;E4\" style=\"stroke: #383838; stroke-width: 1.0;\"/><polygon fill=\"#383838\" points=\"134.87,219.52,127.7488,212.7164,130.1636,217.832,125.048,220.2467,134.87,219.52\" style=\"stroke: #383838; stroke-width: 1.0;\"/><text fill=\"#000000\" font-family=\"sans-serif\" font-size=\"13\" lengthAdjust=\"spacingAndGlyphs\" textLength=\"36\" x=\"85\" y=\"198.0669\">[true]</text><text fill=\"#000000\" font-family=\"sans-serif\" font-size=\"13\" lengthAdjust=\"spacingAndGlyphs\" textLength=\"7\" x=\"120.0931\" y=\"212.1047\">*</text></a><!--MD5=[0188b64bb0ae78505a997a81836e11e9]\n",
       "link E3 to E5--><a href=\"psysml:1317e145-771b-48e4-a88c-08ae6f2caba6\" target=\"_top\" title=\"psysml:1317e145-771b-48e4-a88c-08ae6f2caba6\" xlink:actuate=\"onRequest\" xlink:href=\"psysml:1317e145-771b-48e4-a88c-08ae6f2caba6\" xlink:show=\"new\" xlink:title=\"psysml:1317e145-771b-48e4-a88c-08ae6f2caba6\" xlink:type=\"simple\"><path d=\"M36.91,165.76 C41.11,184.24 52.71,226.21 76,253 C90.72,269.93 112.16,283.05 130.31,292.05 \" fill=\"none\" id=\"E3-&gt;E5\" style=\"stroke: #383838; stroke-width: 1.0;\"/><polygon fill=\"#383838\" points=\"134.85,294.25,128.4921,286.7283,130.3496,292.0714,125.0064,293.9289,134.85,294.25\" style=\"stroke: #383838; stroke-width: 1.0;\"/><text fill=\"#000000\" font-family=\"sans-serif\" font-size=\"13\" lengthAdjust=\"spacingAndGlyphs\" textLength=\"40\" x=\"77\" y=\"236.0669\">[false]</text><text fill=\"#000000\" font-family=\"sans-serif\" font-size=\"13\" lengthAdjust=\"spacingAndGlyphs\" textLength=\"7\" x=\"120.0684\" y=\"286.541\">*</text></a><!--MD5=[1b7591eae5389033d8d09a9d6721a717]\n",
       "link E4 to E5--><a href=\"psysml:23f0aa3a-74d1-4632-9e57-f97d17e19ec4\" target=\"_top\" title=\"psysml:23f0aa3a-74d1-4632-9e57-f97d17e19ec4\" xlink:actuate=\"onRequest\" xlink:href=\"psysml:23f0aa3a-74d1-4632-9e57-f97d17e19ec4\" xlink:show=\"new\" xlink:title=\"psysml:23f0aa3a-74d1-4632-9e57-f97d17e19ec4\" xlink:type=\"simple\"><path d=\"M165,253.11 C165,261.69 165,271.75 165,280.8 \" fill=\"none\" id=\"E4-&gt;E5\" style=\"stroke: #383838; stroke-width: 1.0;\"/><polygon fill=\"#383838\" points=\"165,286,169,277,165,281,161,277,165,286\" style=\"stroke: #383838; stroke-width: 1.0;\"/><text fill=\"#000000\" font-family=\"sans-serif\" font-size=\"13\" lengthAdjust=\"spacingAndGlyphs\" textLength=\"55\" x=\"166\" y=\"274.0669\">[x == 0]</text><text fill=\"#000000\" font-family=\"sans-serif\" font-size=\"13\" lengthAdjust=\"spacingAndGlyphs\" textLength=\"7\" x=\"157.0156\" y=\"274.9381\">*</text></a><!--MD5=[4102395cccd65fbe690496312e1de143]\n",
       "@startuml\r\n",
       "skinparam ranksep 10\r\n",
       "skinparam rectangle {\r\n",
       " backgroundColor<<block>> LightGreen\r\n",
       "}\r\n",
       "top to bottom direction\r\n",
       "skinparam monochrome true\r\n",
       "skinparam classbackgroundcolor white\r\n",
       "skinparam shadowing false\r\n",
       "skinparam wrapWidth 300\r\n",
       "hide circle\r\n",
       "\r\n",
       "rec def \"DecisionTest\" as E1  <<(T,blue) action  def>> [[psysml:62ac371c-e17a-420d-a580-1aab63005ed6 ]] {\r\n",
       "choice \"test x\" as E2  [[psysml:2e150d19-c5c5-4276-9136-9fe31d212434 ]] \r\n",
       "choice \"<s>noname</s>\" as E3  [[psysml:cc5b619c-f329-4ed7-9a64-7943d6ed9569 ]] \r\n",
       "rec usage \"A1\" as E4  <<(T,blue) action>> [[psysml:bb8ae358-9e9d-46e4-9973-23f4ed00e117 ]] {\r\n",
       "}\r\n",
       "\r\n",
       "rec usage \"A2\" as E5  <<(T,blue) action>> [[psysml:e7f91728-bf49-43a2-b90b-9012c9afe2c4 ]] {\r\n",
       "}\r\n",
       "\r\n",
       "rec usage \"A3\" as E6  <<(T,blue) action>> [[psysml:0d8578a4-a91e-4bc0-9576-e9210611ea53 ]] {\r\n",
       "}\r\n",
       "\r\n",
       "rec usage \"A3\" as E7  <<(T,blue) action>> [[psysml:0d8578a4-a91e-4bc0-9576-e9210611ea53 ]] {\r\n",
       "}\r\n",
       "\r\n",
       "}\r\n",
       "\r\n",
       "E2  - -> \"*\"E4 [[psysml:8074e684-9dcd-4869-b14d-8570f637bde9 ]] : [x == 1]\r\n",
       "E2  - -> \"*\"E5 [[psysml:3f3ee8aa-e9f7-416c-965c-8aff211aef79 ]] : [x > 1]\r\n",
       "E2  - -> \"*\"E7 [[psysml:5268f6a4-a59c-47f8-920f-30c5900c34c3 ]] \r\n",
       "E2 - -> \"*\"E3 [[psysml:c0d6c8f2-adfa-4de5-8b53-fd445de20c7a ]] \r\n",
       "E3  - -> \"*\"E4 [[psysml:647fb379-8896-403f-81c0-e54862ace948 ]] : [true]\r\n",
       "E3  - -> \"*\"E5 [[psysml:1317e145-771b-48e4-a88c-08ae6f2caba6 ]] : [false]\r\n",
       "E4  - -> \"*\"E5 [[psysml:23f0aa3a-74d1-4632-9e57-f97d17e19ec4 ]] : [x == 0]\r\n",
       "E7  - -> \"*\"E2 [[psysml:1fcd52fd-d040-4c7e-90de-1e4181f9ba4a ]] : [x > 0]\r\n",
       "@enduml\r\n",
       "\n",
       "PlantUML version 1.2020.13(Sat Jun 13 12:26:38 UTC 2020)\n",
       "(EPL source distribution)\n",
       "Java Runtime: OpenJDK Runtime Environment\n",
       "JVM: OpenJDK 64-Bit Server VM\n",
       "Default Encoding: UTF-8\n",
       "Language: en\n",
       "Country: null\n",
       "--></g></svg>"
      ]
     },
     "execution_count": 47,
     "metadata": {},
     "output_type": "execute_result"
    }
   ],
   "source": [
    "%viz --style=\"TB\" --view=\"Interconnection\" \"DecisionTest\""
   ]
  },
  {
   "cell_type": "code",
   "execution_count": 48,
   "id": "2092e8f4",
   "metadata": {
    "execution": {
     "iopub.execute_input": "2022-03-21T07:51:02.975110Z",
     "iopub.status.busy": "2022-03-21T07:51:02.974680Z",
     "iopub.status.idle": "2022-03-21T07:51:03.010395Z",
     "shell.execute_reply": "2022-03-21T07:51:03.009993Z"
    }
   },
   "outputs": [
    {
     "data": {
      "image/svg+xml": [
       "<?xml version=\"1.0\" encoding=\"UTF-8\" standalone=\"no\"?><svg xmlns=\"http://www.w3.org/2000/svg\" xmlns:xlink=\"http://www.w3.org/1999/xlink\" contentScriptType=\"application/ecmascript\" contentStyleType=\"text/css\" height=\"356px\" preserveAspectRatio=\"none\" style=\"width:333px;height:356px;\" version=\"1.1\" viewBox=\"0 0 333 356\" width=\"333px\" zoomAndPan=\"magnify\"><defs/><g><!--MD5=[fbc87193dbaf4d95561dea2c320d4a47]\n",
       "cluster E1--><a href=\"psysml:62ac371c-e17a-420d-a580-1aab63005ed6\" target=\"_top\" title=\"psysml:62ac371c-e17a-420d-a580-1aab63005ed6\" xlink:actuate=\"onRequest\" xlink:href=\"psysml:62ac371c-e17a-420d-a580-1aab63005ed6\" xlink:show=\"new\" xlink:title=\"psysml:62ac371c-e17a-420d-a580-1aab63005ed6\" xlink:type=\"simple\"><rect fill=\"#FFFFFF\" height=\"338\" id=\"E1\" style=\"stroke: #383838; stroke-width: 1.5;\" width=\"315\" x=\"7\" y=\"7\"/><rect fill=\"#F8F8F8\" height=\"37.9375\" style=\"stroke: #383838; stroke-width: 1.5;\" width=\"315\" x=\"7\" y=\"7\"/><text fill=\"#000000\" font-family=\"sans-serif\" font-size=\"12\" font-style=\"italic\" lengthAdjust=\"spacingAndGlyphs\" textLength=\"81\" x=\"124\" y=\"23.1387\">«action  def»</text><text fill=\"#000000\" font-family=\"sans-serif\" font-size=\"12\" lengthAdjust=\"spacingAndGlyphs\" textLength=\"80\" x=\"124.5\" y=\"37.1074\">DecisionTest</text></a><polygon fill=\"#F8F8F8\" points=\"210,67.5,222,79.5,210,91.5,198,79.5,210,67.5\" style=\"stroke: #383838; stroke-width: 1.5;\"/><polygon fill=\"#F8F8F8\" points=\"35,143.5,47,155.5,35,167.5,23,155.5,35,143.5\" style=\"stroke: #383838; stroke-width: 1.5;\"/><g id=\"E1.E4\"><a href=\"psysml:bb8ae358-9e9d-46e4-9973-23f4ed00e117\" target=\"_top\" title=\"psysml:bb8ae358-9e9d-46e4-9973-23f4ed00e117\" xlink:actuate=\"onRequest\" xlink:href=\"psysml:bb8ae358-9e9d-46e4-9973-23f4ed00e117\" xlink:show=\"new\" xlink:title=\"psysml:bb8ae358-9e9d-46e4-9973-23f4ed00e117\" xlink:type=\"simple\"><rect fill=\"#FFFFFF\" height=\"42.9375\" id=\"E4\" rx=\"10\" ry=\"10\" style=\"stroke: #383838; stroke-width: 1.5;\" width=\"60\" x=\"135\" y=\"210\"/><rect fill=\"#F8F8F8\" height=\"37.9375\" rx=\"10\" ry=\"10\" style=\"stroke: #F8F8F8; stroke-width: 1.5;\" width=\"60\" x=\"135\" y=\"210\"/><rect fill=\"#F8F8F8\" height=\"10\" style=\"stroke: #F8F8F8; stroke-width: 1.5;\" width=\"60\" x=\"135\" y=\"237.9375\"/><rect fill=\"none\" height=\"42.9375\" id=\"E4\" rx=\"10\" ry=\"10\" style=\"stroke: #383838; stroke-width: 1.5;\" width=\"60\" x=\"135\" y=\"210\"/><text fill=\"#000000\" font-family=\"sans-serif\" font-size=\"12\" font-style=\"italic\" lengthAdjust=\"spacingAndGlyphs\" textLength=\"53\" x=\"138.5\" y=\"226.1387\">«action»</text><text fill=\"#000000\" font-family=\"sans-serif\" font-size=\"12\" lengthAdjust=\"spacingAndGlyphs\" textLength=\"16\" x=\"157\" y=\"240.1074\">A1</text></a></g><g id=\"E1.E5\"><a href=\"psysml:e7f91728-bf49-43a2-b90b-9012c9afe2c4\" target=\"_top\" title=\"psysml:e7f91728-bf49-43a2-b90b-9012c9afe2c4\" xlink:actuate=\"onRequest\" xlink:href=\"psysml:e7f91728-bf49-43a2-b90b-9012c9afe2c4\" xlink:show=\"new\" xlink:title=\"psysml:e7f91728-bf49-43a2-b90b-9012c9afe2c4\" xlink:type=\"simple\"><rect fill=\"#FFFFFF\" height=\"42.9375\" id=\"E5\" rx=\"10\" ry=\"10\" style=\"stroke: #383838; stroke-width: 1.5;\" width=\"60\" x=\"135\" y=\"286\"/><rect fill=\"#F8F8F8\" height=\"37.9375\" rx=\"10\" ry=\"10\" style=\"stroke: #F8F8F8; stroke-width: 1.5;\" width=\"60\" x=\"135\" y=\"286\"/><rect fill=\"#F8F8F8\" height=\"10\" style=\"stroke: #F8F8F8; stroke-width: 1.5;\" width=\"60\" x=\"135\" y=\"313.9375\"/><rect fill=\"none\" height=\"42.9375\" id=\"E5\" rx=\"10\" ry=\"10\" style=\"stroke: #383838; stroke-width: 1.5;\" width=\"60\" x=\"135\" y=\"286\"/><text fill=\"#000000\" font-family=\"sans-serif\" font-size=\"12\" font-style=\"italic\" lengthAdjust=\"spacingAndGlyphs\" textLength=\"53\" x=\"138.5\" y=\"302.1387\">«action»</text><text fill=\"#000000\" font-family=\"sans-serif\" font-size=\"12\" lengthAdjust=\"spacingAndGlyphs\" textLength=\"16\" x=\"157\" y=\"316.1074\">A2</text></a></g><g id=\"E1.E6\"><a href=\"psysml:0d8578a4-a91e-4bc0-9576-e9210611ea53\" target=\"_top\" title=\"psysml:0d8578a4-a91e-4bc0-9576-e9210611ea53\" xlink:actuate=\"onRequest\" xlink:href=\"psysml:0d8578a4-a91e-4bc0-9576-e9210611ea53\" xlink:show=\"new\" xlink:title=\"psysml:0d8578a4-a91e-4bc0-9576-e9210611ea53\" xlink:type=\"simple\"><rect fill=\"#FFFFFF\" height=\"42.9375\" id=\"E6\" rx=\"10\" ry=\"10\" style=\"stroke: #383838; stroke-width: 1.5;\" width=\"60\" x=\"63\" y=\"58\"/><rect fill=\"#F8F8F8\" height=\"37.9375\" rx=\"10\" ry=\"10\" style=\"stroke: #F8F8F8; stroke-width: 1.5;\" width=\"60\" x=\"63\" y=\"58\"/><rect fill=\"#F8F8F8\" height=\"10\" style=\"stroke: #F8F8F8; stroke-width: 1.5;\" width=\"60\" x=\"63\" y=\"85.9375\"/><rect fill=\"none\" height=\"42.9375\" id=\"E6\" rx=\"10\" ry=\"10\" style=\"stroke: #383838; stroke-width: 1.5;\" width=\"60\" x=\"63\" y=\"58\"/><text fill=\"#000000\" font-family=\"sans-serif\" font-size=\"12\" font-style=\"italic\" lengthAdjust=\"spacingAndGlyphs\" textLength=\"53\" x=\"66.5\" y=\"74.1387\">«action»</text><text fill=\"#000000\" font-family=\"sans-serif\" font-size=\"12\" lengthAdjust=\"spacingAndGlyphs\" textLength=\"16\" x=\"85\" y=\"88.1074\">A3</text></a></g><g id=\"E1.E7\"><a href=\"psysml:0d8578a4-a91e-4bc0-9576-e9210611ea53\" target=\"_top\" title=\"psysml:0d8578a4-a91e-4bc0-9576-e9210611ea53\" xlink:actuate=\"onRequest\" xlink:href=\"psysml:0d8578a4-a91e-4bc0-9576-e9210611ea53\" xlink:show=\"new\" xlink:title=\"psysml:0d8578a4-a91e-4bc0-9576-e9210611ea53\" xlink:type=\"simple\"><rect fill=\"#FFFFFF\" height=\"42.9375\" id=\"E7\" rx=\"10\" ry=\"10\" style=\"stroke: #383838; stroke-width: 1.5;\" width=\"60\" x=\"246\" y=\"134\"/><rect fill=\"#F8F8F8\" height=\"37.9375\" rx=\"10\" ry=\"10\" style=\"stroke: #F8F8F8; stroke-width: 1.5;\" width=\"60\" x=\"246\" y=\"134\"/><rect fill=\"#F8F8F8\" height=\"10\" style=\"stroke: #F8F8F8; stroke-width: 1.5;\" width=\"60\" x=\"246\" y=\"161.9375\"/><rect fill=\"none\" height=\"42.9375\" id=\"E7\" rx=\"10\" ry=\"10\" style=\"stroke: #383838; stroke-width: 1.5;\" width=\"60\" x=\"246\" y=\"134\"/><text fill=\"#000000\" font-family=\"sans-serif\" font-size=\"12\" font-style=\"italic\" lengthAdjust=\"spacingAndGlyphs\" textLength=\"53\" x=\"249.5\" y=\"150.1387\">«action»</text><text fill=\"#000000\" font-family=\"sans-serif\" font-size=\"12\" lengthAdjust=\"spacingAndGlyphs\" textLength=\"16\" x=\"268\" y=\"164.1074\">A3</text></a></g><!--MD5=[4d03bb2d0377dc85ccfab60ff574652b]\n",
       "link E2 to E4--><a href=\"psysml:8074e684-9dcd-4869-b14d-8570f637bde9\" target=\"_top\" title=\"psysml:8074e684-9dcd-4869-b14d-8570f637bde9\" xlink:actuate=\"onRequest\" xlink:href=\"psysml:8074e684-9dcd-4869-b14d-8570f637bde9\" xlink:show=\"new\" xlink:title=\"psysml:8074e684-9dcd-4869-b14d-8570f637bde9\" xlink:type=\"simple\"><path d=\"M201.97,84.07 C187.22,91.12 156.19,108.44 144,134 C133.21,156.64 141.61,184.91 150.79,204.99 \" fill=\"none\" id=\"E2-&gt;E4\" style=\"stroke: #383838; stroke-width: 1.0; stroke-dasharray: 7.0,7.0;\"/><polygon fill=\"#383838\" points=\"153,209.65,152.7662,199.8039,150.8614,205.1304,145.5349,203.2257,153,209.65\" style=\"stroke: #383838; stroke-width: 1.0;\"/><text fill=\"#000000\" font-family=\"sans-serif\" font-size=\"13\" lengthAdjust=\"spacingAndGlyphs\" textLength=\"55\" x=\"145\" y=\"160.0669\">[x == 1]</text></a><!--MD5=[dcad52bbbca2fe8adc741ce38b45dc12]\n",
       "link E2 to E5--><a href=\"psysml:3f3ee8aa-e9f7-416c-965c-8aff211aef79\" target=\"_top\" title=\"psysml:3f3ee8aa-e9f7-416c-965c-8aff211aef79\" xlink:actuate=\"onRequest\" xlink:href=\"psysml:3f3ee8aa-e9f7-416c-965c-8aff211aef79\" xlink:show=\"new\" xlink:title=\"psysml:3f3ee8aa-e9f7-416c-965c-8aff211aef79\" xlink:type=\"simple\"><path d=\"M211.03,90.77 C214.33,123.83 224.51,227.37 226,261 C226.33,268.55 230.06,271.63 226,278 C220.01,287.41 210.02,293.76 199.83,298.03 \" fill=\"none\" id=\"E2-&gt;E5\" style=\"stroke: #383838; stroke-width: 1.0; stroke-dasharray: 7.0,7.0;\"/><polygon fill=\"#383838\" points=\"195.15,299.85,204.9881,300.3102,199.8089,298.035,202.0841,292.8559,195.15,299.85\" style=\"stroke: #383838; stroke-width: 1.0;\"/><text fill=\"#000000\" font-family=\"sans-serif\" font-size=\"13\" lengthAdjust=\"spacingAndGlyphs\" textLength=\"44\" x=\"222\" y=\"198.0669\">[x &gt; 1]</text></a><!--MD5=[e3d2a08a9c9236652057e8ed0cbc9b62]\n",
       "link E2 to E7--><a href=\"psysml:5268f6a4-a59c-47f8-920f-30c5900c34c3\" target=\"_top\" title=\"psysml:5268f6a4-a59c-47f8-920f-30c5900c34c3\" xlink:actuate=\"onRequest\" xlink:href=\"psysml:5268f6a4-a59c-47f8-920f-30c5900c34c3\" xlink:show=\"new\" xlink:title=\"psysml:5268f6a4-a59c-47f8-920f-30c5900c34c3\" xlink:type=\"simple\"><path d=\"M210.68,90.95 C211.82,100.93 214.86,115.89 223,126 C227.84,132.02 234.31,136.94 241.06,140.89 \" fill=\"none\" id=\"E2-&gt;E7\" style=\"stroke: #383838; stroke-width: 1.0; stroke-dasharray: 7.0,7.0;\"/><polygon fill=\"#383838\" points=\"245.76,143.47,239.7851,135.6406,241.3738,141.0697,235.9446,142.6585,245.76,143.47\" style=\"stroke: #383838; stroke-width: 1.0;\"/></a><!--MD5=[583832df87f4419a098336a29a52fa00]\n",
       "link E7 to E2--><a href=\"psysml:1fcd52fd-d040-4c7e-90de-1e4181f9ba4a\" target=\"_top\" title=\"psysml:1fcd52fd-d040-4c7e-90de-1e4181f9ba4a\" xlink:actuate=\"onRequest\" xlink:href=\"psysml:1fcd52fd-d040-4c7e-90de-1e4181f9ba4a\" xlink:show=\"new\" xlink:title=\"psysml:1fcd52fd-d040-4c7e-90de-1e4181f9ba4a\" xlink:type=\"simple\"><path d=\"M257.61,133.88 C245.02,119.76 228.86,101.65 218.98,90.57 \" fill=\"none\" id=\"E7-&gt;E2\" style=\"stroke: #383838; stroke-width: 1.0; stroke-dasharray: 7.0,7.0;\"/><polygon fill=\"#383838\" points=\"215.4,86.56,218.3919,95.9434,218.7227,90.2963,224.3699,90.6271,215.4,86.56\" style=\"stroke: #383838; stroke-width: 1.0;\"/><text fill=\"#000000\" font-family=\"sans-serif\" font-size=\"13\" lengthAdjust=\"spacingAndGlyphs\" textLength=\"44\" x=\"249\" y=\"122.0669\">[x &gt; 0]</text></a><!--MD5=[2720a5a1f2c3fca2055b230370638851]\n",
       "link E2 to E3--><a href=\"psysml:c0d6c8f2-adfa-4de5-8b53-fd445de20c7a\" target=\"_top\" title=\"psysml:c0d6c8f2-adfa-4de5-8b53-fd445de20c7a\" xlink:actuate=\"onRequest\" xlink:href=\"psysml:c0d6c8f2-adfa-4de5-8b53-fd445de20c7a\" xlink:show=\"new\" xlink:title=\"psysml:c0d6c8f2-adfa-4de5-8b53-fd445de20c7a\" xlink:type=\"simple\"><path d=\"M201.54,83.16 C188.57,87.22 162.96,95.08 141,101 C126.43,104.93 121.91,103.16 108,109 C84.25,118.97 59.36,136.17 45.65,146.32 \" fill=\"none\" id=\"E2-&gt;E3\" style=\"stroke: #383838; stroke-width: 1.0; stroke-dasharray: 7.0,7.0;\"/><polygon fill=\"#383838\" points=\"41.45,149.47,51.05,147.27,45.45,146.47,46.25,140.87,41.45,149.47\" style=\"stroke: #383838; stroke-width: 1.0;\"/></a><!--MD5=[af87c684e3b0d8be13c1a698a818ef1e]\n",
       "link E3 to E4--><a href=\"psysml:647fb379-8896-403f-81c0-e54862ace948\" target=\"_top\" title=\"psysml:647fb379-8896-403f-81c0-e54862ace948\" xlink:actuate=\"onRequest\" xlink:href=\"psysml:647fb379-8896-403f-81c0-e54862ace948\" xlink:show=\"new\" xlink:title=\"psysml:647fb379-8896-403f-81c0-e54862ace948\" xlink:type=\"simple\"><path d=\"M40.09,162.69 C48.35,172.37 65.62,191.11 84,202 C93.67,207.73 97.38,206.32 108,210 C115.1,212.46 122.69,215.15 129.93,217.74 \" fill=\"none\" id=\"E3-&gt;E4\" style=\"stroke: #383838; stroke-width: 1.0; stroke-dasharray: 7.0,7.0;\"/><polygon fill=\"#383838\" points=\"134.87,219.52,127.7488,212.7164,130.1636,217.832,125.048,220.2467,134.87,219.52\" style=\"stroke: #383838; stroke-width: 1.0;\"/><text fill=\"#000000\" font-family=\"sans-serif\" font-size=\"13\" lengthAdjust=\"spacingAndGlyphs\" textLength=\"36\" x=\"85\" y=\"198.0669\">[true]</text></a><!--MD5=[0188b64bb0ae78505a997a81836e11e9]\n",
       "link E3 to E5--><a href=\"psysml:1317e145-771b-48e4-a88c-08ae6f2caba6\" target=\"_top\" title=\"psysml:1317e145-771b-48e4-a88c-08ae6f2caba6\" xlink:actuate=\"onRequest\" xlink:href=\"psysml:1317e145-771b-48e4-a88c-08ae6f2caba6\" xlink:show=\"new\" xlink:title=\"psysml:1317e145-771b-48e4-a88c-08ae6f2caba6\" xlink:type=\"simple\"><path d=\"M36.91,165.76 C41.11,184.24 52.71,226.21 76,253 C90.72,269.93 112.16,283.05 130.31,292.05 \" fill=\"none\" id=\"E3-&gt;E5\" style=\"stroke: #383838; stroke-width: 1.0; stroke-dasharray: 7.0,7.0;\"/><polygon fill=\"#383838\" points=\"134.85,294.25,128.4921,286.7283,130.3496,292.0714,125.0064,293.9289,134.85,294.25\" style=\"stroke: #383838; stroke-width: 1.0;\"/><text fill=\"#000000\" font-family=\"sans-serif\" font-size=\"13\" lengthAdjust=\"spacingAndGlyphs\" textLength=\"40\" x=\"77\" y=\"236.0669\">[false]</text></a><!--MD5=[1b7591eae5389033d8d09a9d6721a717]\n",
       "link E4 to E5--><a href=\"psysml:23f0aa3a-74d1-4632-9e57-f97d17e19ec4\" target=\"_top\" title=\"psysml:23f0aa3a-74d1-4632-9e57-f97d17e19ec4\" xlink:actuate=\"onRequest\" xlink:href=\"psysml:23f0aa3a-74d1-4632-9e57-f97d17e19ec4\" xlink:show=\"new\" xlink:title=\"psysml:23f0aa3a-74d1-4632-9e57-f97d17e19ec4\" xlink:type=\"simple\"><path d=\"M165,253.11 C165,261.69 165,271.75 165,280.8 \" fill=\"none\" id=\"E4-&gt;E5\" style=\"stroke: #383838; stroke-width: 1.0; stroke-dasharray: 7.0,7.0;\"/><polygon fill=\"#383838\" points=\"165,286,169,277,165,281,161,277,165,286\" style=\"stroke: #383838; stroke-width: 1.0;\"/><text fill=\"#000000\" font-family=\"sans-serif\" font-size=\"13\" lengthAdjust=\"spacingAndGlyphs\" textLength=\"55\" x=\"166\" y=\"274.0669\">[x == 0]</text></a><!--MD5=[fab09b2935f9ff19d94d80a401725ac0]\n",
       "@startuml\r\n",
       "skinparam ranksep 8\r\n",
       "top to bottom direction\r\n",
       "skinparam monochrome true\r\n",
       "skinparam classbackgroundcolor white\r\n",
       "skinparam shadowing false\r\n",
       "skinparam wrapWidth 300\r\n",
       "hide circle\r\n",
       "\r\n",
       "rec def \"DecisionTest\" as E1  <<(T,blue) action  def>> [[psysml:62ac371c-e17a-420d-a580-1aab63005ed6 ]] {\r\n",
       "choice \"test x\" as E2  [[psysml:2e150d19-c5c5-4276-9136-9fe31d212434 ]] \r\n",
       "choice \"<s>noname</s>\" as E3  [[psysml:cc5b619c-f329-4ed7-9a64-7943d6ed9569 ]] \r\n",
       "rec usage \"A1\" as E4  <<(T,blue) action>> [[psysml:bb8ae358-9e9d-46e4-9973-23f4ed00e117 ]] {\r\n",
       "}\r\n",
       "\r\n",
       "rec usage \"A2\" as E5  <<(T,blue) action>> [[psysml:e7f91728-bf49-43a2-b90b-9012c9afe2c4 ]] {\r\n",
       "}\r\n",
       "\r\n",
       "rec usage \"A3\" as E6  <<(T,blue) action>> [[psysml:0d8578a4-a91e-4bc0-9576-e9210611ea53 ]] {\r\n",
       "}\r\n",
       "\r\n",
       "rec usage \"A3\" as E7  <<(T,blue) action>> [[psysml:0d8578a4-a91e-4bc0-9576-e9210611ea53 ]] {\r\n",
       "}\r\n",
       "\r\n",
       "}\r\n",
       "\r\n",
       "E2 ..> E4 [[psysml:8074e684-9dcd-4869-b14d-8570f637bde9 ]] : [x == 1]\r\n",
       "E2 ..> E5 [[psysml:3f3ee8aa-e9f7-416c-965c-8aff211aef79 ]] : [x > 1]\r\n",
       "E2 ..> E7 [[psysml:5268f6a4-a59c-47f8-920f-30c5900c34c3 ]] \r\n",
       "E2 ..> E3 [[psysml:c0d6c8f2-adfa-4de5-8b53-fd445de20c7a ]] \r\n",
       "E3 ..> E4 [[psysml:647fb379-8896-403f-81c0-e54862ace948 ]] : [true]\r\n",
       "E3 ..> E5 [[psysml:1317e145-771b-48e4-a88c-08ae6f2caba6 ]] : [false]\r\n",
       "E4 ..> E5 [[psysml:23f0aa3a-74d1-4632-9e57-f97d17e19ec4 ]] : [x == 0]\r\n",
       "E7 ..> E2 [[psysml:1fcd52fd-d040-4c7e-90de-1e4181f9ba4a ]] : [x > 0]\r\n",
       "@enduml\r\n",
       "\n",
       "PlantUML version 1.2020.13(Sat Jun 13 12:26:38 UTC 2020)\n",
       "(EPL source distribution)\n",
       "Java Runtime: OpenJDK Runtime Environment\n",
       "JVM: OpenJDK 64-Bit Server VM\n",
       "Default Encoding: UTF-8\n",
       "Language: en\n",
       "Country: null\n",
       "--></g></svg>"
      ]
     },
     "execution_count": 48,
     "metadata": {},
     "output_type": "execute_result"
    }
   ],
   "source": [
    "%viz --style=\"TB\" --view=\"Action\" \"DecisionTest\""
   ]
  },
  {
   "cell_type": "code",
   "execution_count": 49,
   "id": "86744fcd",
   "metadata": {
    "execution": {
     "iopub.execute_input": "2022-03-21T07:51:03.059767Z",
     "iopub.status.busy": "2022-03-21T07:51:03.059356Z",
     "iopub.status.idle": "2022-03-21T07:51:03.065484Z",
     "shell.execute_reply": "2022-03-21T07:51:03.065119Z"
    }
   },
   "outputs": [
    {
     "data": {
      "image/svg+xml": [
       "<?xml version=\"1.0\" encoding=\"UTF-8\" standalone=\"no\"?><svg xmlns=\"http://www.w3.org/2000/svg\" xmlns:xlink=\"http://www.w3.org/1999/xlink\" contentScriptType=\"application/ecmascript\" contentStyleType=\"text/css\" height=\"12px\" preserveAspectRatio=\"none\" style=\"width:12px;height:12px;\" version=\"1.1\" viewBox=\"0 0 12 12\" width=\"12px\" zoomAndPan=\"magnify\"><defs/><g><!--MD5=[e1ab0c84c44d2fef8bf5f140f2689906]\n",
       "@startuml\r\n",
       "skinparam roundcorner 20\r\n",
       "skinparam BoxPadding 20\r\n",
       "skinparam SequenceBoxBackgroundColor #white\r\n",
       "skinparam style strictuml\r\n",
       "skinparam maxMessageSize 100\r\n",
       "top to bottom direction\r\n",
       "skinparam monochrome true\r\n",
       "skinparam classbackgroundcolor white\r\n",
       "skinparam shadowing false\r\n",
       "skinparam wrapWidth 300\r\n",
       "hide circle\r\n",
       "\r\n",
       "@enduml\r\n",
       "\n",
       "PlantUML version 1.2020.13(Sat Jun 13 12:26:38 UTC 2020)\n",
       "(EPL source distribution)\n",
       "Java Runtime: OpenJDK Runtime Environment\n",
       "JVM: OpenJDK 64-Bit Server VM\n",
       "Default Encoding: UTF-8\n",
       "Language: en\n",
       "Country: null\n",
       "--></g></svg>"
      ]
     },
     "execution_count": 49,
     "metadata": {},
     "output_type": "execute_result"
    }
   ],
   "source": [
    "%viz --style=\"TB\" --view=\"Sequence\" \"DecisionTest\""
   ]
  },
  {
   "cell_type": "code",
   "execution_count": 50,
   "id": "c5750952",
   "metadata": {
    "execution": {
     "iopub.execute_input": "2022-03-21T07:51:03.115426Z",
     "iopub.status.busy": "2022-03-21T07:51:03.115017Z",
     "iopub.status.idle": "2022-03-21T07:51:03.154514Z",
     "shell.execute_reply": "2022-03-21T07:51:03.153090Z"
    }
   },
   "outputs": [
    {
     "data": {
      "image/svg+xml": [
       "<?xml version=\"1.0\" encoding=\"UTF-8\" standalone=\"no\"?><svg xmlns=\"http://www.w3.org/2000/svg\" xmlns:xlink=\"http://www.w3.org/1999/xlink\" contentScriptType=\"application/ecmascript\" contentStyleType=\"text/css\" height=\"488px\" preserveAspectRatio=\"none\" style=\"width:333px;height:488px;\" version=\"1.1\" viewBox=\"0 0 333 488\" width=\"333px\" zoomAndPan=\"magnify\"><defs/><g><!--MD5=[fbc87193dbaf4d95561dea2c320d4a47]\n",
       "cluster E1--><a href=\"psysml:62ac371c-e17a-420d-a580-1aab63005ed6\" target=\"_top\" title=\"psysml:62ac371c-e17a-420d-a580-1aab63005ed6\" xlink:actuate=\"onRequest\" xlink:href=\"psysml:62ac371c-e17a-420d-a580-1aab63005ed6\" xlink:show=\"new\" xlink:title=\"psysml:62ac371c-e17a-420d-a580-1aab63005ed6\" xlink:type=\"simple\"><rect fill=\"#FFFFFF\" height=\"470\" id=\"E1\" style=\"stroke: #383838; stroke-width: 1.5;\" width=\"315\" x=\"7\" y=\"7\"/><rect fill=\"#F8F8F8\" height=\"37.9375\" style=\"stroke: #383838; stroke-width: 1.5;\" width=\"315\" x=\"7\" y=\"7\"/><text fill=\"#000000\" font-family=\"sans-serif\" font-size=\"12\" font-style=\"italic\" lengthAdjust=\"spacingAndGlyphs\" textLength=\"81\" x=\"124\" y=\"23.1387\">«action  def»</text><text fill=\"#000000\" font-family=\"sans-serif\" font-size=\"12\" lengthAdjust=\"spacingAndGlyphs\" textLength=\"80\" x=\"124.5\" y=\"37.1074\">DecisionTest</text></a><polygon fill=\"#F8F8F8\" points=\"210,67.5,222,79.5,210,91.5,198,79.5,210,67.5\" style=\"stroke: #383838; stroke-width: 1.5;\"/><polygon fill=\"#F8F8F8\" points=\"35,187.5,47,199.5,35,211.5,23,199.5,35,187.5\" style=\"stroke: #383838; stroke-width: 1.5;\"/><g id=\"E1.E4\"><a href=\"psysml:bb8ae358-9e9d-46e4-9973-23f4ed00e117\" target=\"_top\" title=\"psysml:bb8ae358-9e9d-46e4-9973-23f4ed00e117\" xlink:actuate=\"onRequest\" xlink:href=\"psysml:bb8ae358-9e9d-46e4-9973-23f4ed00e117\" xlink:show=\"new\" xlink:title=\"psysml:bb8ae358-9e9d-46e4-9973-23f4ed00e117\" xlink:type=\"simple\"><rect fill=\"#FFFFFF\" height=\"42.9375\" id=\"E4\" rx=\"10\" ry=\"10\" style=\"stroke: #383838; stroke-width: 1.5;\" width=\"60\" x=\"135\" y=\"298\"/><rect fill=\"#F8F8F8\" height=\"37.9375\" rx=\"10\" ry=\"10\" style=\"stroke: #F8F8F8; stroke-width: 1.5;\" width=\"60\" x=\"135\" y=\"298\"/><rect fill=\"#F8F8F8\" height=\"10\" style=\"stroke: #F8F8F8; stroke-width: 1.5;\" width=\"60\" x=\"135\" y=\"325.9375\"/><rect fill=\"none\" height=\"42.9375\" id=\"E4\" rx=\"10\" ry=\"10\" style=\"stroke: #383838; stroke-width: 1.5;\" width=\"60\" x=\"135\" y=\"298\"/><text fill=\"#000000\" font-family=\"sans-serif\" font-size=\"12\" font-style=\"italic\" lengthAdjust=\"spacingAndGlyphs\" textLength=\"53\" x=\"138.5\" y=\"314.1387\">«action»</text><text fill=\"#000000\" font-family=\"sans-serif\" font-size=\"12\" lengthAdjust=\"spacingAndGlyphs\" textLength=\"16\" x=\"157\" y=\"328.1074\">A1</text></a></g><g id=\"E1.E5\"><a href=\"psysml:e7f91728-bf49-43a2-b90b-9012c9afe2c4\" target=\"_top\" title=\"psysml:e7f91728-bf49-43a2-b90b-9012c9afe2c4\" xlink:actuate=\"onRequest\" xlink:href=\"psysml:e7f91728-bf49-43a2-b90b-9012c9afe2c4\" xlink:show=\"new\" xlink:title=\"psysml:e7f91728-bf49-43a2-b90b-9012c9afe2c4\" xlink:type=\"simple\"><rect fill=\"#FFFFFF\" height=\"42.9375\" id=\"E5\" rx=\"10\" ry=\"10\" style=\"stroke: #383838; stroke-width: 1.5;\" width=\"60\" x=\"135\" y=\"418\"/><rect fill=\"#F8F8F8\" height=\"37.9375\" rx=\"10\" ry=\"10\" style=\"stroke: #F8F8F8; stroke-width: 1.5;\" width=\"60\" x=\"135\" y=\"418\"/><rect fill=\"#F8F8F8\" height=\"10\" style=\"stroke: #F8F8F8; stroke-width: 1.5;\" width=\"60\" x=\"135\" y=\"445.9375\"/><rect fill=\"none\" height=\"42.9375\" id=\"E5\" rx=\"10\" ry=\"10\" style=\"stroke: #383838; stroke-width: 1.5;\" width=\"60\" x=\"135\" y=\"418\"/><text fill=\"#000000\" font-family=\"sans-serif\" font-size=\"12\" font-style=\"italic\" lengthAdjust=\"spacingAndGlyphs\" textLength=\"53\" x=\"138.5\" y=\"434.1387\">«action»</text><text fill=\"#000000\" font-family=\"sans-serif\" font-size=\"12\" lengthAdjust=\"spacingAndGlyphs\" textLength=\"16\" x=\"157\" y=\"448.1074\">A2</text></a></g><g id=\"E1.E6\"><a href=\"psysml:0d8578a4-a91e-4bc0-9576-e9210611ea53\" target=\"_top\" title=\"psysml:0d8578a4-a91e-4bc0-9576-e9210611ea53\" xlink:actuate=\"onRequest\" xlink:href=\"psysml:0d8578a4-a91e-4bc0-9576-e9210611ea53\" xlink:show=\"new\" xlink:title=\"psysml:0d8578a4-a91e-4bc0-9576-e9210611ea53\" xlink:type=\"simple\"><rect fill=\"#FFFFFF\" height=\"42.9375\" id=\"E6\" rx=\"10\" ry=\"10\" style=\"stroke: #383838; stroke-width: 1.5;\" width=\"60\" x=\"63\" y=\"58\"/><rect fill=\"#F8F8F8\" height=\"37.9375\" rx=\"10\" ry=\"10\" style=\"stroke: #F8F8F8; stroke-width: 1.5;\" width=\"60\" x=\"63\" y=\"58\"/><rect fill=\"#F8F8F8\" height=\"10\" style=\"stroke: #F8F8F8; stroke-width: 1.5;\" width=\"60\" x=\"63\" y=\"85.9375\"/><rect fill=\"none\" height=\"42.9375\" id=\"E6\" rx=\"10\" ry=\"10\" style=\"stroke: #383838; stroke-width: 1.5;\" width=\"60\" x=\"63\" y=\"58\"/><text fill=\"#000000\" font-family=\"sans-serif\" font-size=\"12\" font-style=\"italic\" lengthAdjust=\"spacingAndGlyphs\" textLength=\"53\" x=\"66.5\" y=\"74.1387\">«action»</text><text fill=\"#000000\" font-family=\"sans-serif\" font-size=\"12\" lengthAdjust=\"spacingAndGlyphs\" textLength=\"16\" x=\"85\" y=\"88.1074\">A3</text></a></g><g id=\"E1.E7\"><a href=\"psysml:0d8578a4-a91e-4bc0-9576-e9210611ea53\" target=\"_top\" title=\"psysml:0d8578a4-a91e-4bc0-9576-e9210611ea53\" xlink:actuate=\"onRequest\" xlink:href=\"psysml:0d8578a4-a91e-4bc0-9576-e9210611ea53\" xlink:show=\"new\" xlink:title=\"psysml:0d8578a4-a91e-4bc0-9576-e9210611ea53\" xlink:type=\"simple\"><rect fill=\"#FFFFFF\" height=\"42.9375\" id=\"E7\" rx=\"10\" ry=\"10\" style=\"stroke: #383838; stroke-width: 1.5;\" width=\"60\" x=\"246\" y=\"178\"/><rect fill=\"#F8F8F8\" height=\"37.9375\" rx=\"10\" ry=\"10\" style=\"stroke: #F8F8F8; stroke-width: 1.5;\" width=\"60\" x=\"246\" y=\"178\"/><rect fill=\"#F8F8F8\" height=\"10\" style=\"stroke: #F8F8F8; stroke-width: 1.5;\" width=\"60\" x=\"246\" y=\"205.9375\"/><rect fill=\"none\" height=\"42.9375\" id=\"E7\" rx=\"10\" ry=\"10\" style=\"stroke: #383838; stroke-width: 1.5;\" width=\"60\" x=\"246\" y=\"178\"/><text fill=\"#000000\" font-family=\"sans-serif\" font-size=\"12\" font-style=\"italic\" lengthAdjust=\"spacingAndGlyphs\" textLength=\"53\" x=\"249.5\" y=\"194.1387\">«action»</text><text fill=\"#000000\" font-family=\"sans-serif\" font-size=\"12\" lengthAdjust=\"spacingAndGlyphs\" textLength=\"16\" x=\"268\" y=\"208.1074\">A3</text></a></g><!--MD5=[4d03bb2d0377dc85ccfab60ff574652b]\n",
       "link E2 to E4--><a href=\"psysml:8074e684-9dcd-4869-b14d-8570f637bde9\" target=\"_top\" title=\"psysml:8074e684-9dcd-4869-b14d-8570f637bde9\" xlink:actuate=\"onRequest\" xlink:href=\"psysml:8074e684-9dcd-4869-b14d-8570f637bde9\" xlink:show=\"new\" xlink:title=\"psysml:8074e684-9dcd-4869-b14d-8570f637bde9\" xlink:type=\"simple\"><path d=\"M204.45,86 C190.88,99.89 156.22,138.13 144,178 C132.04,217.01 144.31,264.27 154.48,292.83 \" fill=\"none\" id=\"E2-&gt;E4\" style=\"stroke: #383838; stroke-width: 1.0;\"/><polygon fill=\"#383838\" points=\"156.22,297.6,156.8939,287.7742,154.5067,292.9027,149.3782,290.5155,156.22,297.6\" style=\"stroke: #383838; stroke-width: 1.0;\"/><text fill=\"#000000\" font-family=\"sans-serif\" font-size=\"13\" lengthAdjust=\"spacingAndGlyphs\" textLength=\"55\" x=\"145\" y=\"204.0669\">[x == 1]</text><text fill=\"#000000\" font-family=\"sans-serif\" font-size=\"13\" lengthAdjust=\"spacingAndGlyphs\" textLength=\"7\" x=\"145.9198\" y=\"286.7919\">*</text></a><!--MD5=[dcad52bbbca2fe8adc741ce38b45dc12]\n",
       "link E2 to E5--><a href=\"psysml:3f3ee8aa-e9f7-416c-965c-8aff211aef79\" target=\"_top\" title=\"psysml:3f3ee8aa-e9f7-416c-965c-8aff211aef79\" xlink:actuate=\"onRequest\" xlink:href=\"psysml:3f3ee8aa-e9f7-416c-965c-8aff211aef79\" xlink:show=\"new\" xlink:title=\"psysml:3f3ee8aa-e9f7-416c-965c-8aff211aef79\" xlink:type=\"simple\"><path d=\"M210.67,90.83 C214.08,143.62 229.24,381.12 226,388 C220.27,400.19 209.98,410.45 199.48,418.47 \" fill=\"none\" id=\"E2-&gt;E5\" style=\"stroke: #383838; stroke-width: 1.0;\"/><polygon fill=\"#383838\" points=\"195.29,421.54,204.9073,419.4168,199.3138,418.5721,200.1586,412.9786,195.29,421.54\" style=\"stroke: #383838; stroke-width: 1.0;\"/><text fill=\"#000000\" font-family=\"sans-serif\" font-size=\"13\" lengthAdjust=\"spacingAndGlyphs\" textLength=\"44\" x=\"222\" y=\"264.0669\">[x &gt; 1]</text><text fill=\"#000000\" font-family=\"sans-serif\" font-size=\"13\" lengthAdjust=\"spacingAndGlyphs\" textLength=\"7\" x=\"203.1039\" y=\"412.7419\">*</text></a><!--MD5=[e3d2a08a9c9236652057e8ed0cbc9b62]\n",
       "link E2 to E7--><a href=\"psysml:5268f6a4-a59c-47f8-920f-30c5900c34c3\" target=\"_top\" title=\"psysml:5268f6a4-a59c-47f8-920f-30c5900c34c3\" xlink:actuate=\"onRequest\" xlink:href=\"psysml:5268f6a4-a59c-47f8-920f-30c5900c34c3\" xlink:show=\"new\" xlink:title=\"psysml:5268f6a4-a59c-47f8-920f-30c5900c34c3\" xlink:type=\"simple\"><path d=\"M210.1,91.71 C210.67,105.71 213.16,129.99 223,148 C228.29,157.68 236.08,166.6 244.08,174.17 \" fill=\"none\" id=\"E2-&gt;E7\" style=\"stroke: #383838; stroke-width: 1.0;\"/><polygon fill=\"#383838\" points=\"248.01,177.77,244.069,168.744,244.3207,174.3953,238.6694,174.6469,248.01,177.77\" style=\"stroke: #383838; stroke-width: 1.0;\"/><text fill=\"#000000\" font-family=\"sans-serif\" font-size=\"13\" lengthAdjust=\"spacingAndGlyphs\" textLength=\"7\" x=\"232.5471\" y=\"167.0076\">*</text></a><!--MD5=[583832df87f4419a098336a29a52fa00]\n",
       "link E7 to E2--><a href=\"psysml:1fcd52fd-d040-4c7e-90de-1e4181f9ba4a\" target=\"_top\" title=\"psysml:1fcd52fd-d040-4c7e-90de-1e4181f9ba4a\" xlink:actuate=\"onRequest\" xlink:href=\"psysml:1fcd52fd-d040-4c7e-90de-1e4181f9ba4a\" xlink:show=\"new\" xlink:title=\"psysml:1fcd52fd-d040-4c7e-90de-1e4181f9ba4a\" xlink:type=\"simple\"><path d=\"M264.3,177.59 C250.41,152.74 227.7,112.15 216.57,92.25 \" fill=\"none\" id=\"E7-&gt;E2\" style=\"stroke: #383838; stroke-width: 1.0;\"/><polygon fill=\"#383838\" points=\"214.13,87.88,215.0286,97.6878,216.5691,92.2447,222.0122,93.7852,214.13,87.88\" style=\"stroke: #383838; stroke-width: 1.0;\"/><text fill=\"#000000\" font-family=\"sans-serif\" font-size=\"13\" lengthAdjust=\"spacingAndGlyphs\" textLength=\"44\" x=\"247\" y=\"144.0669\">[x &gt; 0]</text><text fill=\"#000000\" font-family=\"sans-serif\" font-size=\"13\" lengthAdjust=\"spacingAndGlyphs\" textLength=\"7\" x=\"207.5946\" y=\"111.7074\">*</text></a><!--MD5=[2720a5a1f2c3fca2055b230370638851]\n",
       "link E2 to E3--><a href=\"psysml:c0d6c8f2-adfa-4de5-8b53-fd445de20c7a\" target=\"_top\" title=\"psysml:c0d6c8f2-adfa-4de5-8b53-fd445de20c7a\" xlink:actuate=\"onRequest\" xlink:href=\"psysml:c0d6c8f2-adfa-4de5-8b53-fd445de20c7a\" xlink:show=\"new\" xlink:title=\"psysml:c0d6c8f2-adfa-4de5-8b53-fd445de20c7a\" xlink:type=\"simple\"><path d=\"M201.9,83.58 C184.06,90.55 140.39,108.7 108,131 C82.49,148.57 56.88,174.67 43.84,188.71 \" fill=\"none\" id=\"E2-&gt;E3\" style=\"stroke: #383838; stroke-width: 1.0;\"/><polygon fill=\"#383838\" points=\"40.21,192.66,49.2443,188.738,43.5925,188.9778,43.3527,183.326,40.21,192.66\" style=\"stroke: #383838; stroke-width: 1.0;\"/><text fill=\"#000000\" font-family=\"sans-serif\" font-size=\"13\" lengthAdjust=\"spacingAndGlyphs\" textLength=\"7\" x=\"48.2668\" y=\"176.5238\">*</text></a><!--MD5=[af87c684e3b0d8be13c1a698a818ef1e]\n",
       "link E3 to E4--><a href=\"psysml:647fb379-8896-403f-81c0-e54862ace948\" target=\"_top\" title=\"psysml:647fb379-8896-403f-81c0-e54862ace948\" xlink:actuate=\"onRequest\" xlink:href=\"psysml:647fb379-8896-403f-81c0-e54862ace948\" xlink:show=\"new\" xlink:title=\"psysml:647fb379-8896-403f-81c0-e54862ace948\" xlink:type=\"simple\"><path d=\"M39.08,207.91 C46.63,221.15 63.87,249.24 84,268 C97.73,280.8 115.17,292.16 130.35,300.85 \" fill=\"none\" id=\"E3-&gt;E4\" style=\"stroke: #383838; stroke-width: 1.0;\"/><polygon fill=\"#383838\" points=\"134.98,303.46,129.0858,295.5696,130.6187,301.0148,125.1735,302.5477,134.98,303.46\" style=\"stroke: #383838; stroke-width: 1.0;\"/><text fill=\"#000000\" font-family=\"sans-serif\" font-size=\"13\" lengthAdjust=\"spacingAndGlyphs\" textLength=\"36\" x=\"85\" y=\"264.0669\">[true]</text><text fill=\"#000000\" font-family=\"sans-serif\" font-size=\"13\" lengthAdjust=\"spacingAndGlyphs\" textLength=\"7\" x=\"119.8095\" y=\"294.8128\">*</text></a><!--MD5=[0188b64bb0ae78505a997a81836e11e9]\n",
       "link E3 to E5--><a href=\"psysml:1317e145-771b-48e4-a88c-08ae6f2caba6\" target=\"_top\" title=\"psysml:1317e145-771b-48e4-a88c-08ae6f2caba6\" xlink:actuate=\"onRequest\" xlink:href=\"psysml:1317e145-771b-48e4-a88c-08ae6f2caba6\" xlink:show=\"new\" xlink:title=\"psysml:1317e145-771b-48e4-a88c-08ae6f2caba6\" xlink:type=\"simple\"><path d=\"M36.3,210.29 C39.76,234.03 50.73,296.03 76,341 C91.89,369.29 117.42,396.1 137.07,414.43 \" fill=\"none\" id=\"E3-&gt;E5\" style=\"stroke: #383838; stroke-width: 1.0;\"/><polygon fill=\"#383838\" points=\"140.92,417.98,137.0155,408.9382,137.2443,414.5904,131.5921,414.8192,140.92,417.98\" style=\"stroke: #383838; stroke-width: 1.0;\"/><text fill=\"#000000\" font-family=\"sans-serif\" font-size=\"13\" lengthAdjust=\"spacingAndGlyphs\" textLength=\"40\" x=\"77\" y=\"324.0669\">[false]</text><text fill=\"#000000\" font-family=\"sans-serif\" font-size=\"13\" lengthAdjust=\"spacingAndGlyphs\" textLength=\"7\" x=\"126.1631\" y=\"406.9125\">*</text></a><!--MD5=[1b7591eae5389033d8d09a9d6721a717]\n",
       "link E4 to E5--><a href=\"psysml:23f0aa3a-74d1-4632-9e57-f97d17e19ec4\" target=\"_top\" title=\"psysml:23f0aa3a-74d1-4632-9e57-f97d17e19ec4\" xlink:actuate=\"onRequest\" xlink:href=\"psysml:23f0aa3a-74d1-4632-9e57-f97d17e19ec4\" xlink:show=\"new\" xlink:title=\"psysml:23f0aa3a-74d1-4632-9e57-f97d17e19ec4\" xlink:type=\"simple\"><path d=\"M165,341.05 C165,360.9 165,391.02 165,412.52 \" fill=\"none\" id=\"E4-&gt;E5\" style=\"stroke: #383838; stroke-width: 1.0;\"/><polygon fill=\"#383838\" points=\"165,417.79,169,408.79,165,412.79,161,408.79,165,417.79\" style=\"stroke: #383838; stroke-width: 1.0;\"/><text fill=\"#000000\" font-family=\"sans-serif\" font-size=\"13\" lengthAdjust=\"spacingAndGlyphs\" textLength=\"55\" x=\"166\" y=\"384.0669\">[x == 0]</text><text fill=\"#000000\" font-family=\"sans-serif\" font-size=\"13\" lengthAdjust=\"spacingAndGlyphs\" textLength=\"7\" x=\"157.0594\" y=\"407.033\">*</text></a><!--MD5=[fe27a158559732c234fa8cf49abd86f2]\n",
       "@startuml\r\n",
       "top to bottom direction\r\n",
       "skinparam monochrome true\r\n",
       "skinparam classbackgroundcolor white\r\n",
       "skinparam shadowing false\r\n",
       "skinparam wrapWidth 300\r\n",
       "hide circle\r\n",
       "\r\n",
       "rec def \"DecisionTest\" as E1  <<(T,blue) action  def>> [[psysml:62ac371c-e17a-420d-a580-1aab63005ed6 ]] {\r\n",
       "choice \"test x\" as E2  [[psysml:2e150d19-c5c5-4276-9136-9fe31d212434 ]] \r\n",
       "choice \"<s>noname</s>\" as E3  [[psysml:cc5b619c-f329-4ed7-9a64-7943d6ed9569 ]] \r\n",
       "rec usage \"A1\" as E4  <<(T,blue) action>> [[psysml:bb8ae358-9e9d-46e4-9973-23f4ed00e117 ]] {\r\n",
       "}\r\n",
       "\r\n",
       "rec usage \"A2\" as E5  <<(T,blue) action>> [[psysml:e7f91728-bf49-43a2-b90b-9012c9afe2c4 ]] {\r\n",
       "}\r\n",
       "\r\n",
       "rec usage \"A3\" as E6  <<(T,blue) action>> [[psysml:0d8578a4-a91e-4bc0-9576-e9210611ea53 ]] {\r\n",
       "}\r\n",
       "\r\n",
       "rec usage \"A3\" as E7  <<(T,blue) action>> [[psysml:0d8578a4-a91e-4bc0-9576-e9210611ea53 ]] {\r\n",
       "}\r\n",
       "\r\n",
       "}\r\n",
       "\r\n",
       "E2  - -> \"*\"E4 [[psysml:8074e684-9dcd-4869-b14d-8570f637bde9 ]] : [x == 1]\r\n",
       "E2  - -> \"*\"E5 [[psysml:3f3ee8aa-e9f7-416c-965c-8aff211aef79 ]] : [x > 1]\r\n",
       "E2  - -> \"*\"E7 [[psysml:5268f6a4-a59c-47f8-920f-30c5900c34c3 ]] \r\n",
       "E2 - -> \"*\"E3 [[psysml:c0d6c8f2-adfa-4de5-8b53-fd445de20c7a ]] \r\n",
       "E3  - -> \"*\"E4 [[psysml:647fb379-8896-403f-81c0-e54862ace948 ]] : [true]\r\n",
       "E3  - -> \"*\"E5 [[psysml:1317e145-771b-48e4-a88c-08ae6f2caba6 ]] : [false]\r\n",
       "E4  - -> \"*\"E5 [[psysml:23f0aa3a-74d1-4632-9e57-f97d17e19ec4 ]] : [x == 0]\r\n",
       "E7  - -> \"*\"E2 [[psysml:1fcd52fd-d040-4c7e-90de-1e4181f9ba4a ]] : [x > 0]\r\n",
       "@enduml\r\n",
       "\n",
       "PlantUML version 1.2020.13(Sat Jun 13 12:26:38 UTC 2020)\n",
       "(EPL source distribution)\n",
       "Java Runtime: OpenJDK Runtime Environment\n",
       "JVM: OpenJDK 64-Bit Server VM\n",
       "Default Encoding: UTF-8\n",
       "Language: en\n",
       "Country: null\n",
       "--></g></svg>"
      ]
     },
     "execution_count": 50,
     "metadata": {},
     "output_type": "execute_result"
    }
   ],
   "source": [
    "%viz --style=\"TB\" --view=\"MIXED\" \"DecisionTest\""
   ]
  },
  {
   "cell_type": "code",
   "execution_count": 51,
   "id": "c4bee6d0",
   "metadata": {
    "execution": {
     "iopub.execute_input": "2022-03-21T07:51:03.203764Z",
     "iopub.status.busy": "2022-03-21T07:51:03.203357Z",
     "iopub.status.idle": "2022-03-21T07:51:03.240025Z",
     "shell.execute_reply": "2022-03-21T07:51:03.238595Z"
    }
   },
   "outputs": [
    {
     "data": {
      "image/svg+xml": [
       "<?xml version=\"1.0\" encoding=\"UTF-8\" standalone=\"no\"?><svg xmlns=\"http://www.w3.org/2000/svg\" xmlns:xlink=\"http://www.w3.org/1999/xlink\" contentScriptType=\"application/ecmascript\" contentStyleType=\"text/css\" height=\"488px\" preserveAspectRatio=\"none\" style=\"width:333px;height:488px;\" version=\"1.1\" viewBox=\"0 0 333 488\" width=\"333px\" zoomAndPan=\"magnify\"><defs/><g><!--MD5=[fbc87193dbaf4d95561dea2c320d4a47]\n",
       "cluster E1--><a href=\"psysml:62ac371c-e17a-420d-a580-1aab63005ed6\" target=\"_top\" title=\"psysml:62ac371c-e17a-420d-a580-1aab63005ed6\" xlink:actuate=\"onRequest\" xlink:href=\"psysml:62ac371c-e17a-420d-a580-1aab63005ed6\" xlink:show=\"new\" xlink:title=\"psysml:62ac371c-e17a-420d-a580-1aab63005ed6\" xlink:type=\"simple\"><rect fill=\"#FFFFFF\" height=\"470\" id=\"E1\" style=\"stroke: #383838; stroke-width: 1.5;\" width=\"315\" x=\"7\" y=\"7\"/><rect fill=\"#F8F8F8\" height=\"37.9375\" style=\"stroke: #383838; stroke-width: 1.5;\" width=\"315\" x=\"7\" y=\"7\"/><text fill=\"#000000\" font-family=\"sans-serif\" font-size=\"12\" font-style=\"italic\" lengthAdjust=\"spacingAndGlyphs\" textLength=\"81\" x=\"124\" y=\"23.1387\">«action  def»</text><text fill=\"#000000\" font-family=\"sans-serif\" font-size=\"12\" lengthAdjust=\"spacingAndGlyphs\" textLength=\"80\" x=\"124.5\" y=\"37.1074\">DecisionTest</text></a><polygon fill=\"#F8F8F8\" points=\"210,67.5,222,79.5,210,91.5,198,79.5,210,67.5\" style=\"stroke: #383838; stroke-width: 1.5;\"/><polygon fill=\"#F8F8F8\" points=\"35,187.5,47,199.5,35,211.5,23,199.5,35,187.5\" style=\"stroke: #383838; stroke-width: 1.5;\"/><g id=\"E1.E4\"><a href=\"psysml:bb8ae358-9e9d-46e4-9973-23f4ed00e117\" target=\"_top\" title=\"psysml:bb8ae358-9e9d-46e4-9973-23f4ed00e117\" xlink:actuate=\"onRequest\" xlink:href=\"psysml:bb8ae358-9e9d-46e4-9973-23f4ed00e117\" xlink:show=\"new\" xlink:title=\"psysml:bb8ae358-9e9d-46e4-9973-23f4ed00e117\" xlink:type=\"simple\"><rect fill=\"#FFFFFF\" height=\"42.9375\" id=\"E4\" rx=\"10\" ry=\"10\" style=\"stroke: #383838; stroke-width: 1.5;\" width=\"60\" x=\"135\" y=\"298\"/><rect fill=\"#F8F8F8\" height=\"37.9375\" rx=\"10\" ry=\"10\" style=\"stroke: #F8F8F8; stroke-width: 1.5;\" width=\"60\" x=\"135\" y=\"298\"/><rect fill=\"#F8F8F8\" height=\"10\" style=\"stroke: #F8F8F8; stroke-width: 1.5;\" width=\"60\" x=\"135\" y=\"325.9375\"/><rect fill=\"none\" height=\"42.9375\" id=\"E4\" rx=\"10\" ry=\"10\" style=\"stroke: #383838; stroke-width: 1.5;\" width=\"60\" x=\"135\" y=\"298\"/><text fill=\"#000000\" font-family=\"sans-serif\" font-size=\"12\" font-style=\"italic\" lengthAdjust=\"spacingAndGlyphs\" textLength=\"53\" x=\"138.5\" y=\"314.1387\">«action»</text><text fill=\"#000000\" font-family=\"sans-serif\" font-size=\"12\" lengthAdjust=\"spacingAndGlyphs\" textLength=\"16\" x=\"157\" y=\"328.1074\">A1</text></a></g><g id=\"E1.E5\"><a href=\"psysml:e7f91728-bf49-43a2-b90b-9012c9afe2c4\" target=\"_top\" title=\"psysml:e7f91728-bf49-43a2-b90b-9012c9afe2c4\" xlink:actuate=\"onRequest\" xlink:href=\"psysml:e7f91728-bf49-43a2-b90b-9012c9afe2c4\" xlink:show=\"new\" xlink:title=\"psysml:e7f91728-bf49-43a2-b90b-9012c9afe2c4\" xlink:type=\"simple\"><rect fill=\"#FFFFFF\" height=\"42.9375\" id=\"E5\" rx=\"10\" ry=\"10\" style=\"stroke: #383838; stroke-width: 1.5;\" width=\"60\" x=\"135\" y=\"418\"/><rect fill=\"#F8F8F8\" height=\"37.9375\" rx=\"10\" ry=\"10\" style=\"stroke: #F8F8F8; stroke-width: 1.5;\" width=\"60\" x=\"135\" y=\"418\"/><rect fill=\"#F8F8F8\" height=\"10\" style=\"stroke: #F8F8F8; stroke-width: 1.5;\" width=\"60\" x=\"135\" y=\"445.9375\"/><rect fill=\"none\" height=\"42.9375\" id=\"E5\" rx=\"10\" ry=\"10\" style=\"stroke: #383838; stroke-width: 1.5;\" width=\"60\" x=\"135\" y=\"418\"/><text fill=\"#000000\" font-family=\"sans-serif\" font-size=\"12\" font-style=\"italic\" lengthAdjust=\"spacingAndGlyphs\" textLength=\"53\" x=\"138.5\" y=\"434.1387\">«action»</text><text fill=\"#000000\" font-family=\"sans-serif\" font-size=\"12\" lengthAdjust=\"spacingAndGlyphs\" textLength=\"16\" x=\"157\" y=\"448.1074\">A2</text></a></g><g id=\"E1.E6\"><a href=\"psysml:0d8578a4-a91e-4bc0-9576-e9210611ea53\" target=\"_top\" title=\"psysml:0d8578a4-a91e-4bc0-9576-e9210611ea53\" xlink:actuate=\"onRequest\" xlink:href=\"psysml:0d8578a4-a91e-4bc0-9576-e9210611ea53\" xlink:show=\"new\" xlink:title=\"psysml:0d8578a4-a91e-4bc0-9576-e9210611ea53\" xlink:type=\"simple\"><rect fill=\"#FFFFFF\" height=\"42.9375\" id=\"E6\" rx=\"10\" ry=\"10\" style=\"stroke: #383838; stroke-width: 1.5;\" width=\"60\" x=\"63\" y=\"58\"/><rect fill=\"#F8F8F8\" height=\"37.9375\" rx=\"10\" ry=\"10\" style=\"stroke: #F8F8F8; stroke-width: 1.5;\" width=\"60\" x=\"63\" y=\"58\"/><rect fill=\"#F8F8F8\" height=\"10\" style=\"stroke: #F8F8F8; stroke-width: 1.5;\" width=\"60\" x=\"63\" y=\"85.9375\"/><rect fill=\"none\" height=\"42.9375\" id=\"E6\" rx=\"10\" ry=\"10\" style=\"stroke: #383838; stroke-width: 1.5;\" width=\"60\" x=\"63\" y=\"58\"/><text fill=\"#000000\" font-family=\"sans-serif\" font-size=\"12\" font-style=\"italic\" lengthAdjust=\"spacingAndGlyphs\" textLength=\"53\" x=\"66.5\" y=\"74.1387\">«action»</text><text fill=\"#000000\" font-family=\"sans-serif\" font-size=\"12\" lengthAdjust=\"spacingAndGlyphs\" textLength=\"16\" x=\"85\" y=\"88.1074\">A3</text></a></g><g id=\"E1.E7\"><a href=\"psysml:0d8578a4-a91e-4bc0-9576-e9210611ea53\" target=\"_top\" title=\"psysml:0d8578a4-a91e-4bc0-9576-e9210611ea53\" xlink:actuate=\"onRequest\" xlink:href=\"psysml:0d8578a4-a91e-4bc0-9576-e9210611ea53\" xlink:show=\"new\" xlink:title=\"psysml:0d8578a4-a91e-4bc0-9576-e9210611ea53\" xlink:type=\"simple\"><rect fill=\"#FFFFFF\" height=\"42.9375\" id=\"E7\" rx=\"10\" ry=\"10\" style=\"stroke: #383838; stroke-width: 1.5;\" width=\"60\" x=\"246\" y=\"178\"/><rect fill=\"#F8F8F8\" height=\"37.9375\" rx=\"10\" ry=\"10\" style=\"stroke: #F8F8F8; stroke-width: 1.5;\" width=\"60\" x=\"246\" y=\"178\"/><rect fill=\"#F8F8F8\" height=\"10\" style=\"stroke: #F8F8F8; stroke-width: 1.5;\" width=\"60\" x=\"246\" y=\"205.9375\"/><rect fill=\"none\" height=\"42.9375\" id=\"E7\" rx=\"10\" ry=\"10\" style=\"stroke: #383838; stroke-width: 1.5;\" width=\"60\" x=\"246\" y=\"178\"/><text fill=\"#000000\" font-family=\"sans-serif\" font-size=\"12\" font-style=\"italic\" lengthAdjust=\"spacingAndGlyphs\" textLength=\"53\" x=\"249.5\" y=\"194.1387\">«action»</text><text fill=\"#000000\" font-family=\"sans-serif\" font-size=\"12\" lengthAdjust=\"spacingAndGlyphs\" textLength=\"16\" x=\"268\" y=\"208.1074\">A3</text></a></g><!--MD5=[4d03bb2d0377dc85ccfab60ff574652b]\n",
       "link E2 to E4--><a href=\"psysml:8074e684-9dcd-4869-b14d-8570f637bde9\" target=\"_top\" title=\"psysml:8074e684-9dcd-4869-b14d-8570f637bde9\" xlink:actuate=\"onRequest\" xlink:href=\"psysml:8074e684-9dcd-4869-b14d-8570f637bde9\" xlink:show=\"new\" xlink:title=\"psysml:8074e684-9dcd-4869-b14d-8570f637bde9\" xlink:type=\"simple\"><path d=\"M206,87.5 C206,129.23 206,320 206,320 C206,320 200.23,320 200.23,320 \" fill=\"none\" id=\"E2-&gt;E4\" style=\"stroke: #383838; stroke-width: 1.0;\"/><polygon fill=\"#383838\" points=\"195.23,320,204.23,324,200.23,320,204.23,316,195.23,320\" style=\"stroke: #383838; stroke-width: 1.0;\"/><text fill=\"#000000\" font-family=\"sans-serif\" font-size=\"13\" lengthAdjust=\"spacingAndGlyphs\" textLength=\"55\" x=\"118\" y=\"204.0669\">[x == 1]</text><text fill=\"#000000\" font-family=\"sans-serif\" font-size=\"13\" lengthAdjust=\"spacingAndGlyphs\" textLength=\"7\" x=\"203.0301\" y=\"315.4707\">*</text></a><!--MD5=[dcad52bbbca2fe8adc741ce38b45dc12]\n",
       "link E2 to E5--><a href=\"psysml:3f3ee8aa-e9f7-416c-965c-8aff211aef79\" target=\"_top\" title=\"psysml:3f3ee8aa-e9f7-416c-965c-8aff211aef79\" xlink:actuate=\"onRequest\" xlink:href=\"psysml:3f3ee8aa-e9f7-416c-965c-8aff211aef79\" xlink:show=\"new\" xlink:title=\"psysml:3f3ee8aa-e9f7-416c-965c-8aff211aef79\" xlink:type=\"simple\"><path d=\"M210,91.91 C210,155.3 210,440 210,440 C210,440 200.02,440 200.02,440 \" fill=\"none\" id=\"E2-&gt;E5\" style=\"stroke: #383838; stroke-width: 1.0;\"/><polygon fill=\"#383838\" points=\"195.02,440,204.02,444,200.02,440,204.02,436,195.02,440\" style=\"stroke: #383838; stroke-width: 1.0;\"/><text fill=\"#000000\" font-family=\"sans-serif\" font-size=\"13\" lengthAdjust=\"spacingAndGlyphs\" textLength=\"44\" x=\"221\" y=\"264.0669\">[x &gt; 1]</text><text fill=\"#000000\" font-family=\"sans-serif\" font-size=\"13\" lengthAdjust=\"spacingAndGlyphs\" textLength=\"7\" x=\"203.1905\" y=\"435.3844\">*</text></a><!--MD5=[e3d2a08a9c9236652057e8ed0cbc9b62]\n",
       "link E2 to E7--><a href=\"psysml:5268f6a4-a59c-47f8-920f-30c5900c34c3\" target=\"_top\" title=\"psysml:5268f6a4-a59c-47f8-920f-30c5900c34c3\" xlink:actuate=\"onRequest\" xlink:href=\"psysml:5268f6a4-a59c-47f8-920f-30c5900c34c3\" xlink:show=\"new\" xlink:title=\"psysml:5268f6a4-a59c-47f8-920f-30c5900c34c3\" xlink:type=\"simple\"><path d=\"M218,83.9 C218,103.52 218,182 218,182 C218,182 240.98,182 240.98,182 \" fill=\"none\" id=\"E2-&gt;E7\" style=\"stroke: #383838; stroke-width: 1.0;\"/><polygon fill=\"#383838\" points=\"245.98,182,236.98,178,240.98,182,236.98,186,245.98,182\" style=\"stroke: #383838; stroke-width: 1.0;\"/><text fill=\"#000000\" font-family=\"sans-serif\" font-size=\"13\" lengthAdjust=\"spacingAndGlyphs\" textLength=\"7\" x=\"230.8095\" y=\"172.9969\">*</text></a><!--MD5=[583832df87f4419a098336a29a52fa00]\n",
       "link E7 to E2--><a href=\"psysml:1fcd52fd-d040-4c7e-90de-1e4181f9ba4a\" target=\"_top\" title=\"psysml:1fcd52fd-d040-4c7e-90de-1e4181f9ba4a\" xlink:actuate=\"onRequest\" xlink:href=\"psysml:1fcd52fd-d040-4c7e-90de-1e4181f9ba4a\" xlink:show=\"new\" xlink:title=\"psysml:1fcd52fd-d040-4c7e-90de-1e4181f9ba4a\" xlink:type=\"simple\"><path d=\"M245.73,185 C229.99,185 214,185 214,185 C214,185 214,92.78 214,92.78 \" fill=\"none\" id=\"E7-&gt;E2\" style=\"stroke: #383838; stroke-width: 1.0;\"/><polygon fill=\"#383838\" points=\"214,87.78,210,96.78,214,92.78,218,96.78,214,87.78\" style=\"stroke: #383838; stroke-width: 1.0;\"/><text fill=\"#000000\" font-family=\"sans-serif\" font-size=\"13\" lengthAdjust=\"spacingAndGlyphs\" textLength=\"44\" x=\"260\" y=\"144.0669\">[x &gt; 0]</text><text fill=\"#000000\" font-family=\"sans-serif\" font-size=\"13\" lengthAdjust=\"spacingAndGlyphs\" textLength=\"7\" x=\"207.3688\" y=\"111.5336\">*</text></a><!--MD5=[2720a5a1f2c3fca2055b230370638851]\n",
       "link E2 to E3--><a href=\"psysml:c0d6c8f2-adfa-4de5-8b53-fd445de20c7a\" target=\"_top\" title=\"psysml:c0d6c8f2-adfa-4de5-8b53-fd445de20c7a\" xlink:actuate=\"onRequest\" xlink:href=\"psysml:c0d6c8f2-adfa-4de5-8b53-fd445de20c7a\" xlink:show=\"new\" xlink:title=\"psysml:c0d6c8f2-adfa-4de5-8b53-fd445de20c7a\" xlink:type=\"simple\"><path d=\"M202,83.51 C202,104.42 202,200 202,200 C202,200 51.74,200 51.74,200 \" fill=\"none\" id=\"E2-&gt;E3\" style=\"stroke: #383838; stroke-width: 1.0;\"/><polygon fill=\"#383838\" points=\"46.74,200,55.74,204,51.74,200,55.74,196,46.74,200\" style=\"stroke: #383838; stroke-width: 1.0;\"/><text fill=\"#000000\" font-family=\"sans-serif\" font-size=\"13\" lengthAdjust=\"spacingAndGlyphs\" textLength=\"7\" x=\"54.9315\" y=\"193.3401\">*</text></a><!--MD5=[af87c684e3b0d8be13c1a698a818ef1e]\n",
       "link E3 to E4--><a href=\"psysml:647fb379-8896-403f-81c0-e54862ace948\" target=\"_top\" title=\"psysml:647fb379-8896-403f-81c0-e54862ace948\" xlink:actuate=\"onRequest\" xlink:href=\"psysml:647fb379-8896-403f-81c0-e54862ace948\" xlink:show=\"new\" xlink:title=\"psysml:647fb379-8896-403f-81c0-e54862ace948\" xlink:type=\"simple\"><path d=\"M39,207.78 C39,235.01 39,320 39,320 C39,320 129.82,320 129.82,320 \" fill=\"none\" id=\"E3-&gt;E4\" style=\"stroke: #383838; stroke-width: 1.0;\"/><polygon fill=\"#383838\" points=\"134.82,320,125.82,316,129.82,320,125.82,324,134.82,320\" style=\"stroke: #383838; stroke-width: 1.0;\"/><text fill=\"#000000\" font-family=\"sans-serif\" font-size=\"13\" lengthAdjust=\"spacingAndGlyphs\" textLength=\"36\" x=\"88\" y=\"264.0669\">[true]</text><text fill=\"#000000\" font-family=\"sans-serif\" font-size=\"13\" lengthAdjust=\"spacingAndGlyphs\" textLength=\"7\" x=\"120.0315\" y=\"315.4707\">*</text></a><!--MD5=[0188b64bb0ae78505a997a81836e11e9]\n",
       "link E3 to E5--><a href=\"psysml:1317e145-771b-48e4-a88c-08ae6f2caba6\" target=\"_top\" title=\"psysml:1317e145-771b-48e4-a88c-08ae6f2caba6\" xlink:actuate=\"onRequest\" xlink:href=\"psysml:1317e145-771b-48e4-a88c-08ae6f2caba6\" xlink:show=\"new\" xlink:title=\"psysml:1317e145-771b-48e4-a88c-08ae6f2caba6\" xlink:type=\"simple\"><path d=\"M31,207.5 C31,249.23 31,440 31,440 C31,440 129.93,440 129.93,440 \" fill=\"none\" id=\"E3-&gt;E5\" style=\"stroke: #383838; stroke-width: 1.0;\"/><polygon fill=\"#383838\" points=\"134.93,440,125.93,436,129.93,440,125.93,444,134.93,440\" style=\"stroke: #383838; stroke-width: 1.0;\"/><text fill=\"#000000\" font-family=\"sans-serif\" font-size=\"13\" lengthAdjust=\"spacingAndGlyphs\" textLength=\"40\" x=\"59\" y=\"324.0669\">[false]</text><text fill=\"#000000\" font-family=\"sans-serif\" font-size=\"13\" lengthAdjust=\"spacingAndGlyphs\" textLength=\"7\" x=\"120.1669\" y=\"435.4707\">*</text></a><!--MD5=[1b7591eae5389033d8d09a9d6721a717]\n",
       "link E4 to E5--><a href=\"psysml:23f0aa3a-74d1-4632-9e57-f97d17e19ec4\" target=\"_top\" title=\"psysml:23f0aa3a-74d1-4632-9e57-f97d17e19ec4\" xlink:actuate=\"onRequest\" xlink:href=\"psysml:23f0aa3a-74d1-4632-9e57-f97d17e19ec4\" xlink:show=\"new\" xlink:title=\"psysml:23f0aa3a-74d1-4632-9e57-f97d17e19ec4\" xlink:type=\"simple\"><path d=\"M165,341.23 C165,341.23 165,412.93 165,412.93 \" fill=\"none\" id=\"E4-&gt;E5\" style=\"stroke: #383838; stroke-width: 1.0;\"/><polygon fill=\"#383838\" points=\"165,417.93,169,408.93,165,412.93,161,408.93,165,417.93\" style=\"stroke: #383838; stroke-width: 1.0;\"/><text fill=\"#000000\" font-family=\"sans-serif\" font-size=\"13\" lengthAdjust=\"spacingAndGlyphs\" textLength=\"55\" x=\"166\" y=\"384.0669\">[x == 0]</text><text fill=\"#000000\" font-family=\"sans-serif\" font-size=\"13\" lengthAdjust=\"spacingAndGlyphs\" textLength=\"7\" x=\"157.0156\" y=\"406.8484\">*</text></a><!--MD5=[46a98e92bd8072ec434b95145b444a28]\n",
       "@startuml\r\n",
       "skinparam linetype ortho\r\n",
       "skinparam monochrome true\r\n",
       "skinparam classbackgroundcolor white\r\n",
       "skinparam shadowing false\r\n",
       "skinparam wrapWidth 300\r\n",
       "hide circle\r\n",
       "\r\n",
       "rec def \"DecisionTest\" as E1  <<(T,blue) action  def>> [[psysml:62ac371c-e17a-420d-a580-1aab63005ed6 ]] {\r\n",
       "choice \"test x\" as E2  [[psysml:2e150d19-c5c5-4276-9136-9fe31d212434 ]] \r\n",
       "choice \"<s>noname</s>\" as E3  [[psysml:cc5b619c-f329-4ed7-9a64-7943d6ed9569 ]] \r\n",
       "rec usage \"A1\" as E4  <<(T,blue) action>> [[psysml:bb8ae358-9e9d-46e4-9973-23f4ed00e117 ]] {\r\n",
       "}\r\n",
       "\r\n",
       "rec usage \"A2\" as E5  <<(T,blue) action>> [[psysml:e7f91728-bf49-43a2-b90b-9012c9afe2c4 ]] {\r\n",
       "}\r\n",
       "\r\n",
       "rec usage \"A3\" as E6  <<(T,blue) action>> [[psysml:0d8578a4-a91e-4bc0-9576-e9210611ea53 ]] {\r\n",
       "}\r\n",
       "\r\n",
       "rec usage \"A3\" as E7  <<(T,blue) action>> [[psysml:0d8578a4-a91e-4bc0-9576-e9210611ea53 ]] {\r\n",
       "}\r\n",
       "\r\n",
       "}\r\n",
       "\r\n",
       "E2  - -> \"*\"E4 [[psysml:8074e684-9dcd-4869-b14d-8570f637bde9 ]] : [x == 1]\r\n",
       "E2  - -> \"*\"E5 [[psysml:3f3ee8aa-e9f7-416c-965c-8aff211aef79 ]] : [x > 1]\r\n",
       "E2  - -> \"*\"E7 [[psysml:5268f6a4-a59c-47f8-920f-30c5900c34c3 ]] \r\n",
       "E2 - -> \"*\"E3 [[psysml:c0d6c8f2-adfa-4de5-8b53-fd445de20c7a ]] \r\n",
       "E3  - -> \"*\"E4 [[psysml:647fb379-8896-403f-81c0-e54862ace948 ]] : [true]\r\n",
       "E3  - -> \"*\"E5 [[psysml:1317e145-771b-48e4-a88c-08ae6f2caba6 ]] : [false]\r\n",
       "E4  - -> \"*\"E5 [[psysml:23f0aa3a-74d1-4632-9e57-f97d17e19ec4 ]] : [x == 0]\r\n",
       "E7  - -> \"*\"E2 [[psysml:1fcd52fd-d040-4c7e-90de-1e4181f9ba4a ]] : [x > 0]\r\n",
       "@enduml\r\n",
       "\n",
       "PlantUML version 1.2020.13(Sat Jun 13 12:26:38 UTC 2020)\n",
       "(EPL source distribution)\n",
       "Java Runtime: OpenJDK Runtime Environment\n",
       "JVM: OpenJDK 64-Bit Server VM\n",
       "Default Encoding: UTF-8\n",
       "Language: en\n",
       "Country: null\n",
       "--></g></svg>"
      ]
     },
     "execution_count": 51,
     "metadata": {},
     "output_type": "execute_result"
    }
   ],
   "source": [
    "%viz --style=\"ORTHOLINE\" --view=\"Default\" \"DecisionTest\""
   ]
  },
  {
   "cell_type": "code",
   "execution_count": 52,
   "id": "ecc1984b",
   "metadata": {
    "execution": {
     "iopub.execute_input": "2022-03-21T07:51:03.289368Z",
     "iopub.status.busy": "2022-03-21T07:51:03.288962Z",
     "iopub.status.idle": "2022-03-21T07:51:03.420608Z",
     "shell.execute_reply": "2022-03-21T07:51:03.419187Z"
    }
   },
   "outputs": [
    {
     "data": {
      "image/svg+xml": [
       "<?xml version=\"1.0\" encoding=\"UTF-8\" standalone=\"no\"?><svg xmlns=\"http://www.w3.org/2000/svg\" xmlns:xlink=\"http://www.w3.org/1999/xlink\" contentScriptType=\"application/ecmascript\" contentStyleType=\"text/css\" height=\"335px\" preserveAspectRatio=\"none\" style=\"width:531px;height:335px;\" version=\"1.1\" viewBox=\"0 0 531 335\" width=\"531px\" zoomAndPan=\"magnify\"><defs/><g><!--MD5=[43c9051892ef23e1a46a86907403d788]\n",
       "class E1--><a href=\"psysml:62ac371c-e17a-420d-a580-1aab63005ed6\" target=\"_top\" title=\"psysml:62ac371c-e17a-420d-a580-1aab63005ed6\" xlink:actuate=\"onRequest\" xlink:href=\"psysml:62ac371c-e17a-420d-a580-1aab63005ed6\" xlink:show=\"new\" xlink:title=\"psysml:62ac371c-e17a-420d-a580-1aab63005ed6\" xlink:type=\"simple\"><rect fill=\"#FFFFFF\" height=\"211.5938\" id=\"E1\" style=\"stroke: #383838; stroke-width: 1.5;\" width=\"86\" x=\"315\" y=\"7\"/><text fill=\"#000000\" font-family=\"sans-serif\" font-size=\"12\" font-style=\"italic\" lengthAdjust=\"spacingAndGlyphs\" textLength=\"81\" x=\"317.5\" y=\"23.1387\">«action  def»</text><text fill=\"#000000\" font-family=\"sans-serif\" font-size=\"12\" lengthAdjust=\"spacingAndGlyphs\" textLength=\"80\" x=\"318\" y=\"37.1074\">DecisionTest</text><line style=\"stroke: #383838; stroke-width: 1.5;\" x1=\"316\" x2=\"400\" y1=\"44.9375\" y2=\"44.9375\"/><text fill=\"#000000\" font-family=\"sans-serif\" font-size=\"11\" lengthAdjust=\"spacingAndGlyphs\" textLength=\"30\" x=\"321\" y=\"75.9526\">x= 1;</text><line style=\"stroke: #383838; stroke-width: 1.0;\" x1=\"316\" x2=\"330.5\" y1=\"59.3398\" y2=\"59.3398\"/><text fill=\"#000000\" font-family=\"sans-serif\" font-size=\"11\" lengthAdjust=\"spacingAndGlyphs\" textLength=\"55\" x=\"330.5\" y=\"62.6479\">attributes</text><line style=\"stroke: #383838; stroke-width: 1.0;\" x1=\"385.5\" x2=\"400\" y1=\"59.3398\" y2=\"59.3398\"/><text fill=\"#000000\" font-family=\"sans-serif\" font-size=\"11\" lengthAdjust=\"spacingAndGlyphs\" textLength=\"25\" x=\"321\" y=\"105.562\">then</text><line style=\"stroke: #383838; stroke-width: 1.0;\" x1=\"316\" x2=\"322.5\" y1=\"88.9492\" y2=\"88.9492\"/><text fill=\"#000000\" font-family=\"sans-serif\" font-size=\"11\" lengthAdjust=\"spacingAndGlyphs\" textLength=\"71\" x=\"322.5\" y=\"92.2573\">successions</text><line style=\"stroke: #383838; stroke-width: 1.0;\" x1=\"393.5\" x2=\"400\" y1=\"88.9492\" y2=\"88.9492\"/><text fill=\"#000000\" font-family=\"sans-serif\" font-size=\"11\" lengthAdjust=\"spacingAndGlyphs\" textLength=\"0\" x=\"325\" y=\"135.1714\"/><text fill=\"#000000\" font-family=\"sans-serif\" font-size=\"11\" lengthAdjust=\"spacingAndGlyphs\" textLength=\"0\" x=\"325\" y=\"147.9761\"/><text fill=\"#000000\" font-family=\"sans-serif\" font-size=\"11\" lengthAdjust=\"spacingAndGlyphs\" textLength=\"0\" x=\"325\" y=\"160.7808\"/><text fill=\"#000000\" font-family=\"sans-serif\" font-size=\"11\" lengthAdjust=\"spacingAndGlyphs\" textLength=\"0\" x=\"325\" y=\"173.5854\"/><text fill=\"#000000\" font-family=\"sans-serif\" font-size=\"11\" lengthAdjust=\"spacingAndGlyphs\" textLength=\"0\" x=\"325\" y=\"186.3901\"/><text fill=\"#000000\" font-family=\"sans-serif\" font-size=\"11\" lengthAdjust=\"spacingAndGlyphs\" textLength=\"0\" x=\"325\" y=\"199.1948\"/><text fill=\"#000000\" font-family=\"sans-serif\" font-size=\"11\" lengthAdjust=\"spacingAndGlyphs\" textLength=\"8\" x=\"321\" y=\"211.9995\">S</text><line style=\"stroke: #383838; stroke-width: 1.0;\" x1=\"316\" x2=\"327.5\" y1=\"118.5586\" y2=\"118.5586\"/><text fill=\"#000000\" font-family=\"sans-serif\" font-size=\"11\" lengthAdjust=\"spacingAndGlyphs\" textLength=\"61\" x=\"327.5\" y=\"121.8667\">transitions</text><line style=\"stroke: #383838; stroke-width: 1.0;\" x1=\"388.5\" x2=\"400\" y1=\"118.5586\" y2=\"118.5586\"/></a><!--MD5=[b4997ac47864f28c2f74865a473b2911]\n",
       "class E2--><a href=\"psysml:2e150d19-c5c5-4276-9136-9fe31d212434\" target=\"_top\" title=\"psysml:2e150d19-c5c5-4276-9136-9fe31d212434\" xlink:actuate=\"onRequest\" xlink:href=\"psysml:2e150d19-c5c5-4276-9136-9fe31d212434\" xlink:show=\"new\" xlink:title=\"psysml:2e150d19-c5c5-4276-9136-9fe31d212434\" xlink:type=\"simple\"><rect fill=\"#FFFFFF\" height=\"45.9375\" id=\"E2\" rx=\"10\" ry=\"10\" style=\"stroke: #383838; stroke-width: 1.5;\" width=\"104\" x=\"7\" y=\"279\"/><text fill=\"#000000\" font-family=\"sans-serif\" font-size=\"12\" font-style=\"italic\" lengthAdjust=\"spacingAndGlyphs\" textLength=\"102\" x=\"8\" y=\"295.1387\">«decision node»</text><text fill=\"#000000\" font-family=\"sans-serif\" font-size=\"12\" lengthAdjust=\"spacingAndGlyphs\" textLength=\"35\" x=\"39.5\" y=\"309.1074\">test x</text><line style=\"stroke: #383838; stroke-width: 1.5;\" x1=\"8\" x2=\"110\" y1=\"316.9375\" y2=\"316.9375\"/></a><!--MD5=[09b614a08d8cba4a07c9adeb5e0fee81]\n",
       "class E3--><a href=\"psysml:cc5b619c-f329-4ed7-9a64-7943d6ed9569\" target=\"_top\" title=\"psysml:cc5b619c-f329-4ed7-9a64-7943d6ed9569\" xlink:actuate=\"onRequest\" xlink:href=\"psysml:cc5b619c-f329-4ed7-9a64-7943d6ed9569\" xlink:show=\"new\" xlink:title=\"psysml:cc5b619c-f329-4ed7-9a64-7943d6ed9569\" xlink:type=\"simple\"><rect fill=\"#FFFFFF\" height=\"45.9375\" id=\"E3\" rx=\"10\" ry=\"10\" style=\"stroke: #383838; stroke-width: 1.5;\" width=\"104\" x=\"146\" y=\"279\"/><text fill=\"#000000\" font-family=\"sans-serif\" font-size=\"12\" font-style=\"italic\" lengthAdjust=\"spacingAndGlyphs\" textLength=\"102\" x=\"147\" y=\"295.1387\">«decision node»</text><text fill=\"#000000\" font-family=\"sans-serif\" font-size=\"12\" lengthAdjust=\"spacingAndGlyphs\" text-decoration=\"line-through\" textLength=\"51\" x=\"170.5\" y=\"309.1074\">noname</text><text fill=\"#000000\" font-family=\"sans-serif\" font-size=\"12\" lengthAdjust=\"spacingAndGlyphs\" textLength=\"0\" x=\"225.5\" y=\"309.1074\"/><line style=\"stroke: #383838; stroke-width: 1.5;\" x1=\"147\" x2=\"249\" y1=\"316.9375\" y2=\"316.9375\"/></a><!--MD5=[ebbe1d658d1005bcc118a6aa81145e00]\n",
       "class E4--><a href=\"psysml:bb8ae358-9e9d-46e4-9973-23f4ed00e117\" target=\"_top\" title=\"psysml:bb8ae358-9e9d-46e4-9973-23f4ed00e117\" xlink:actuate=\"onRequest\" xlink:href=\"psysml:bb8ae358-9e9d-46e4-9973-23f4ed00e117\" xlink:show=\"new\" xlink:title=\"psysml:bb8ae358-9e9d-46e4-9973-23f4ed00e117\" xlink:type=\"simple\"><rect fill=\"#FFFFFF\" height=\"45.9375\" id=\"E4\" rx=\"10\" ry=\"10\" style=\"stroke: #383838; stroke-width: 1.5;\" width=\"55\" x=\"285.5\" y=\"279\"/><text fill=\"#000000\" font-family=\"sans-serif\" font-size=\"12\" font-style=\"italic\" lengthAdjust=\"spacingAndGlyphs\" textLength=\"53\" x=\"286.5\" y=\"295.1387\">«action»</text><text fill=\"#000000\" font-family=\"sans-serif\" font-size=\"12\" lengthAdjust=\"spacingAndGlyphs\" textLength=\"16\" x=\"303\" y=\"309.1074\">A1</text><line style=\"stroke: #383838; stroke-width: 1.5;\" x1=\"286.5\" x2=\"339.5\" y1=\"316.9375\" y2=\"316.9375\"/></a><!--MD5=[270fce915f116d4de14055a7c1d9a0f3]\n",
       "class E5--><a href=\"psysml:e7f91728-bf49-43a2-b90b-9012c9afe2c4\" target=\"_top\" title=\"psysml:e7f91728-bf49-43a2-b90b-9012c9afe2c4\" xlink:actuate=\"onRequest\" xlink:href=\"psysml:e7f91728-bf49-43a2-b90b-9012c9afe2c4\" xlink:show=\"new\" xlink:title=\"psysml:e7f91728-bf49-43a2-b90b-9012c9afe2c4\" xlink:type=\"simple\"><rect fill=\"#FFFFFF\" height=\"45.9375\" id=\"E5\" rx=\"10\" ry=\"10\" style=\"stroke: #383838; stroke-width: 1.5;\" width=\"55\" x=\"375.5\" y=\"279\"/><text fill=\"#000000\" font-family=\"sans-serif\" font-size=\"12\" font-style=\"italic\" lengthAdjust=\"spacingAndGlyphs\" textLength=\"53\" x=\"376.5\" y=\"295.1387\">«action»</text><text fill=\"#000000\" font-family=\"sans-serif\" font-size=\"12\" lengthAdjust=\"spacingAndGlyphs\" textLength=\"16\" x=\"393\" y=\"309.1074\">A2</text><line style=\"stroke: #383838; stroke-width: 1.5;\" x1=\"376.5\" x2=\"429.5\" y1=\"316.9375\" y2=\"316.9375\"/></a><!--MD5=[60a26617385b1d2d0262a64233df1f8d]\n",
       "class E6--><a href=\"psysml:0d8578a4-a91e-4bc0-9576-e9210611ea53\" target=\"_top\" title=\"psysml:0d8578a4-a91e-4bc0-9576-e9210611ea53\" xlink:actuate=\"onRequest\" xlink:href=\"psysml:0d8578a4-a91e-4bc0-9576-e9210611ea53\" xlink:show=\"new\" xlink:title=\"psysml:0d8578a4-a91e-4bc0-9576-e9210611ea53\" xlink:type=\"simple\"><rect fill=\"#FFFFFF\" height=\"45.9375\" id=\"E6\" rx=\"10\" ry=\"10\" style=\"stroke: #383838; stroke-width: 1.5;\" width=\"55\" x=\"465.5\" y=\"279\"/><text fill=\"#000000\" font-family=\"sans-serif\" font-size=\"12\" font-style=\"italic\" lengthAdjust=\"spacingAndGlyphs\" textLength=\"53\" x=\"466.5\" y=\"295.1387\">«action»</text><text fill=\"#000000\" font-family=\"sans-serif\" font-size=\"12\" lengthAdjust=\"spacingAndGlyphs\" textLength=\"16\" x=\"483\" y=\"309.1074\">A3</text><line style=\"stroke: #383838; stroke-width: 1.5;\" x1=\"466.5\" x2=\"519.5\" y1=\"316.9375\" y2=\"316.9375\"/></a><!--MD5=[a523cb2a0b79ecf9065ad8783f96c320]\n",
       "reverse link E1 to E2--><a href=\"psysml:61bbaf95-6b35-4ea8-9656-8ce08595131a\" target=\"_top\" title=\"psysml:61bbaf95-6b35-4ea8-9656-8ce08595131a\" xlink:actuate=\"onRequest\" xlink:href=\"psysml:61bbaf95-6b35-4ea8-9656-8ce08595131a\" xlink:show=\"new\" xlink:title=\"psysml:61bbaf95-6b35-4ea8-9656-8ce08595131a\" xlink:type=\"simple\"><path d=\"M301.84,78 C301.84,78 59,78 59,78 C59,78 59,221.64 59,278.87 \" fill=\"none\" id=\"E1&lt;-E2\" style=\"stroke: #383838; stroke-width: 1.0;\"/><polygon fill=\"#383838\" points=\"314.84,78,308.84,74,302.84,78,308.84,82,314.84,78\" style=\"stroke: #383838; stroke-width: 1.0;\"/></a><!--MD5=[5d7b3810b1dd9b5164bea1151b29b665]\n",
       "reverse link E1 to E3--><a href=\"psysml:1be4164a-e759-487d-bef2-3f3fc6c6ee3e\" target=\"_top\" title=\"psysml:1be4164a-e759-487d-bef2-3f3fc6c6ee3e\" xlink:actuate=\"onRequest\" xlink:href=\"psysml:1be4164a-e759-487d-bef2-3f3fc6c6ee3e\" xlink:show=\"new\" xlink:title=\"psysml:1be4164a-e759-487d-bef2-3f3fc6c6ee3e\" xlink:type=\"simple\"><path d=\"M301.7,149 C301.7,149 198,149 198,149 C198,149 198,235.96 198,278.76 \" fill=\"none\" id=\"E1&lt;-E3\" style=\"stroke: #383838; stroke-width: 1.0;\"/><polygon fill=\"#383838\" points=\"314.7,149,308.7,145,302.7,149,308.7,153,314.7,149\" style=\"stroke: #383838; stroke-width: 1.0;\"/></a><!--MD5=[f2c5c03aa1e8c0ba21c10a05e6444b8e]\n",
       "reverse link E1 to E4--><a href=\"psysml:ea8ec5e3-dd0d-4201-a2d4-45f385d409e8\" target=\"_top\" title=\"psysml:ea8ec5e3-dd0d-4201-a2d4-45f385d409e8\" xlink:actuate=\"onRequest\" xlink:href=\"psysml:ea8ec5e3-dd0d-4201-a2d4-45f385d409e8\" xlink:show=\"new\" xlink:title=\"psysml:ea8ec5e3-dd0d-4201-a2d4-45f385d409e8\" xlink:type=\"simple\"><path d=\"M327.75,232.1 C327.75,232.1 327.75,278.83 327.75,278.83 \" fill=\"none\" id=\"E1&lt;-E4\" style=\"stroke: #383838; stroke-width: 1.0;\"/><polygon fill=\"#383838\" points=\"327.75,219.1,323.75,225.1,327.75,231.1,331.75,225.1,327.75,219.1\" style=\"stroke: #383838; stroke-width: 1.0;\"/><text fill=\"#000000\" font-family=\"sans-serif\" font-size=\"13\" lengthAdjust=\"spacingAndGlyphs\" textLength=\"7\" x=\"323.6328\" y=\"268.0627\">*</text></a><!--MD5=[33238bef88d6431a141d8bc8fb12bca0]\n",
       "reverse link E1 to E5--><a href=\"psysml:8b3fb5b8-4ae2-4666-9331-7642784b574c\" target=\"_top\" title=\"psysml:8b3fb5b8-4ae2-4666-9331-7642784b574c\" xlink:actuate=\"onRequest\" xlink:href=\"psysml:8b3fb5b8-4ae2-4666-9331-7642784b574c\" xlink:show=\"new\" xlink:title=\"psysml:8b3fb5b8-4ae2-4666-9331-7642784b574c\" xlink:type=\"simple\"><path d=\"M388.25,232.1 C388.25,232.1 388.25,278.83 388.25,278.83 \" fill=\"none\" id=\"E1&lt;-E5\" style=\"stroke: #383838; stroke-width: 1.0;\"/><polygon fill=\"#383838\" points=\"388.25,219.1,384.25,225.1,388.25,231.1,392.25,225.1,388.25,219.1\" style=\"stroke: #383838; stroke-width: 1.0;\"/><text fill=\"#000000\" font-family=\"sans-serif\" font-size=\"13\" lengthAdjust=\"spacingAndGlyphs\" textLength=\"7\" x=\"376.5734\" y=\"268.0627\">*</text></a><!--MD5=[aca2ef284c2b1b90e17e73bf3f292c07]\n",
       "reverse link E1 to E6--><a href=\"psysml:a8437b79-0ca7-4b3d-9ccd-1b1fd90c9a28\" target=\"_top\" title=\"psysml:a8437b79-0ca7-4b3d-9ccd-1b1fd90c9a28\" xlink:actuate=\"onRequest\" xlink:href=\"psysml:a8437b79-0ca7-4b3d-9ccd-1b1fd90c9a28\" xlink:show=\"new\" xlink:title=\"psysml:a8437b79-0ca7-4b3d-9ccd-1b1fd90c9a28\" xlink:type=\"simple\"><path d=\"M414.25,78 C414.25,78 502.17,78 502.17,78 C502.17,78 502.17,221.64 502.17,278.87 \" fill=\"none\" id=\"E1&lt;-E6\" style=\"stroke: #383838; stroke-width: 1.0;\"/><polygon fill=\"#383838\" points=\"401.25,78,407.25,82,413.25,78,407.25,74,401.25,78\" style=\"stroke: #383838; stroke-width: 1.0;\"/><text fill=\"#000000\" font-family=\"sans-serif\" font-size=\"13\" lengthAdjust=\"spacingAndGlyphs\" textLength=\"7\" x=\"496.6229\" y=\"268.113\">*</text></a><!--MD5=[aca2ef284c2b1b90e17e73bf3f292c07]\n",
       "reverse link E1 to E6--><a href=\"psysml:df3b65d4-7483-4b88-b5f9-cbf727def8cf\" target=\"_top\" title=\"psysml:df3b65d4-7483-4b88-b5f9-cbf727def8cf\" xlink:actuate=\"onRequest\" xlink:href=\"psysml:df3b65d4-7483-4b88-b5f9-cbf727def8cf\" xlink:show=\"new\" xlink:title=\"psysml:df3b65d4-7483-4b88-b5f9-cbf727def8cf\" xlink:type=\"simple\"><path d=\"M416.3,149 C416.3,149 483.83,149 483.83,149 C483.83,149 483.83,235.96 483.83,278.76 \" fill=\"none\" id=\"E1&lt;-E6-1\" style=\"stroke: #383838; stroke-width: 1.0; stroke-dasharray: 7.0,7.0;\"/><ellipse cx=\"409.3\" cy=\"149\" fill=\"#FFFFFF\" rx=\"8\" ry=\"8\" style=\"stroke: #383838; stroke-width: 1.0;\"/><line style=\"stroke: #383838; stroke-width: 1.0;\" x1=\"417.3\" x2=\"401.3\" y1=\"149\" y2=\"149\"/><line style=\"stroke: #383838; stroke-width: 1.0;\" x1=\"409.3\" x2=\"409.3\" y1=\"157\" y2=\"141\"/><text fill=\"#000000\" font-family=\"sans-serif\" font-size=\"13\" lengthAdjust=\"spacingAndGlyphs\" textLength=\"7\" x=\"473.5833\" y=\"267.9748\">*</text></a><!--MD5=[27f0bc84d1d4e3f620b4e8f9fcd53cc3]\n",
       "@startuml\r\n",
       "skinparam linetype ortho\r\n",
       "skinparam monochrome true\r\n",
       "skinparam classbackgroundcolor white\r\n",
       "skinparam shadowing false\r\n",
       "skinparam wrapWidth 300\r\n",
       "hide circle\r\n",
       "\r\n",
       "comp def \"DecisionTest\" as E1  <<(T,blue) action  def>> [[psysml:62ac371c-e17a-420d-a580-1aab63005ed6 ]] {\r\n",
       "- - attributes - -\r\n",
       "x= 1; \r\n",
       "- - successions - -\r\n",
       " then \r\n",
       "- - transitions - -\r\n",
       "\r\n",
       "\r\n",
       "\r\n",
       "\r\n",
       "\r\n",
       "\r\n",
       "S\r\n",
       "}\r\n",
       "comp usage \"test x \" as E2  <<(T,blue) decision node>> [[psysml:2e150d19-c5c5-4276-9136-9fe31d212434 ]] {\r\n",
       "}\r\n",
       "comp usage \"<s>noname</s> \" as E3  <<(T,blue) decision node>> [[psysml:cc5b619c-f329-4ed7-9a64-7943d6ed9569 ]] {\r\n",
       "}\r\n",
       "comp usage \"A1 \" as E4  <<(T,blue) action>> [[psysml:bb8ae358-9e9d-46e4-9973-23f4ed00e117 ]] {\r\n",
       "}\r\n",
       "comp usage \"A2 \" as E5  <<(T,blue) action>> [[psysml:e7f91728-bf49-43a2-b90b-9012c9afe2c4 ]] {\r\n",
       "}\r\n",
       "comp usage \"A3 \" as E6  <<(T,blue) action>> [[psysml:0d8578a4-a91e-4bc0-9576-e9210611ea53 ]] {\r\n",
       "}\r\n",
       "E1 *- - E2 [[psysml:61bbaf95-6b35-4ea8-9656-8ce08595131a ]] \r\n",
       "E1 *- - E3 [[psysml:1be4164a-e759-487d-bef2-3f3fc6c6ee3e ]] \r\n",
       "E1 *- - \"*\"E4 [[psysml:ea8ec5e3-dd0d-4201-a2d4-45f385d409e8 ]] \r\n",
       "E1 *- - \"*\"E5 [[psysml:8b3fb5b8-4ae2-4666-9331-7642784b574c ]] \r\n",
       "E1 *- - \"*\"E6 [[psysml:a8437b79-0ca7-4b3d-9ccd-1b1fd90c9a28 ]] \r\n",
       "E1 +.. \"*\"E6 [[psysml:df3b65d4-7483-4b88-b5f9-cbf727def8cf ]] \r\n",
       "@enduml\r\n",
       "\n",
       "PlantUML version 1.2020.13(Sat Jun 13 12:26:38 UTC 2020)\n",
       "(EPL source distribution)\n",
       "Java Runtime: OpenJDK Runtime Environment\n",
       "JVM: OpenJDK 64-Bit Server VM\n",
       "Default Encoding: UTF-8\n",
       "Language: en\n",
       "Country: null\n",
       "--></g></svg>"
      ]
     },
     "execution_count": 52,
     "metadata": {},
     "output_type": "execute_result"
    }
   ],
   "source": [
    "%viz --style=\"ORTHOLINE\" --view=\"Tree\" \"DecisionTest\""
   ]
  },
  {
   "cell_type": "code",
   "execution_count": 53,
   "id": "d80c487a",
   "metadata": {
    "execution": {
     "iopub.execute_input": "2022-03-21T07:51:03.469663Z",
     "iopub.status.busy": "2022-03-21T07:51:03.469234Z",
     "iopub.status.idle": "2022-03-21T07:51:03.473305Z",
     "shell.execute_reply": "2022-03-21T07:51:03.472916Z"
    }
   },
   "outputs": [
    {
     "data": {
      "image/svg+xml": [
       "<?xml version=\"1.0\" encoding=\"UTF-8\" standalone=\"no\"?><svg xmlns=\"http://www.w3.org/2000/svg\" xmlns:xlink=\"http://www.w3.org/1999/xlink\" contentScriptType=\"application/ecmascript\" contentStyleType=\"text/css\" height=\"12px\" preserveAspectRatio=\"none\" style=\"width:12px;height:12px;\" version=\"1.1\" viewBox=\"0 0 12 12\" width=\"12px\" zoomAndPan=\"magnify\"><defs/><g><!--MD5=[97d6f38768b311333d388e66b2b27985]\n",
       "@startuml\r\n",
       "skinparam linetype ortho\r\n",
       "skinparam monochrome true\r\n",
       "skinparam classbackgroundcolor white\r\n",
       "skinparam shadowing false\r\n",
       "skinparam wrapWidth 300\r\n",
       "hide circle\r\n",
       "\r\n",
       "@enduml\r\n",
       "\n",
       "PlantUML version 1.2020.13(Sat Jun 13 12:26:38 UTC 2020)\n",
       "(EPL source distribution)\n",
       "Java Runtime: OpenJDK Runtime Environment\n",
       "JVM: OpenJDK 64-Bit Server VM\n",
       "Default Encoding: UTF-8\n",
       "Language: en\n",
       "Country: null\n",
       "--></g></svg>"
      ]
     },
     "execution_count": 53,
     "metadata": {},
     "output_type": "execute_result"
    }
   ],
   "source": [
    "%viz --style=\"ORTHOLINE\" --view=\"State\" \"DecisionTest\""
   ]
  },
  {
   "cell_type": "code",
   "execution_count": 54,
   "id": "f1a3e6db",
   "metadata": {
    "execution": {
     "iopub.execute_input": "2022-03-21T07:51:03.522726Z",
     "iopub.status.busy": "2022-03-21T07:51:03.522278Z",
     "iopub.status.idle": "2022-03-21T07:51:03.561715Z",
     "shell.execute_reply": "2022-03-21T07:51:03.560256Z"
    }
   },
   "outputs": [
    {
     "data": {
      "image/svg+xml": [
       "<?xml version=\"1.0\" encoding=\"UTF-8\" standalone=\"no\"?><svg xmlns=\"http://www.w3.org/2000/svg\" xmlns:xlink=\"http://www.w3.org/1999/xlink\" contentScriptType=\"application/ecmascript\" contentStyleType=\"text/css\" height=\"356px\" preserveAspectRatio=\"none\" style=\"width:333px;height:356px;\" version=\"1.1\" viewBox=\"0 0 333 356\" width=\"333px\" zoomAndPan=\"magnify\"><defs/><g><!--MD5=[fbc87193dbaf4d95561dea2c320d4a47]\n",
       "cluster E1--><a href=\"psysml:62ac371c-e17a-420d-a580-1aab63005ed6\" target=\"_top\" title=\"psysml:62ac371c-e17a-420d-a580-1aab63005ed6\" xlink:actuate=\"onRequest\" xlink:href=\"psysml:62ac371c-e17a-420d-a580-1aab63005ed6\" xlink:show=\"new\" xlink:title=\"psysml:62ac371c-e17a-420d-a580-1aab63005ed6\" xlink:type=\"simple\"><rect fill=\"#FFFFFF\" height=\"338\" id=\"E1\" style=\"stroke: #383838; stroke-width: 1.5;\" width=\"315\" x=\"7\" y=\"7\"/><rect fill=\"#F8F8F8\" height=\"37.9375\" style=\"stroke: #383838; stroke-width: 1.5;\" width=\"315\" x=\"7\" y=\"7\"/><text fill=\"#000000\" font-family=\"sans-serif\" font-size=\"12\" font-style=\"italic\" lengthAdjust=\"spacingAndGlyphs\" textLength=\"81\" x=\"124\" y=\"23.1387\">«action  def»</text><text fill=\"#000000\" font-family=\"sans-serif\" font-size=\"12\" lengthAdjust=\"spacingAndGlyphs\" textLength=\"80\" x=\"124.5\" y=\"37.1074\">DecisionTest</text></a><polygon fill=\"#F8F8F8\" points=\"210,67.5,222,79.5,210,91.5,198,79.5,210,67.5\" style=\"stroke: #383838; stroke-width: 1.5;\"/><polygon fill=\"#F8F8F8\" points=\"35,143.5,47,155.5,35,167.5,23,155.5,35,143.5\" style=\"stroke: #383838; stroke-width: 1.5;\"/><g id=\"E1.E4\"><a href=\"psysml:bb8ae358-9e9d-46e4-9973-23f4ed00e117\" target=\"_top\" title=\"psysml:bb8ae358-9e9d-46e4-9973-23f4ed00e117\" xlink:actuate=\"onRequest\" xlink:href=\"psysml:bb8ae358-9e9d-46e4-9973-23f4ed00e117\" xlink:show=\"new\" xlink:title=\"psysml:bb8ae358-9e9d-46e4-9973-23f4ed00e117\" xlink:type=\"simple\"><rect fill=\"#FFFFFF\" height=\"42.9375\" id=\"E4\" rx=\"10\" ry=\"10\" style=\"stroke: #383838; stroke-width: 1.5;\" width=\"60\" x=\"135\" y=\"210\"/><rect fill=\"#F8F8F8\" height=\"37.9375\" rx=\"10\" ry=\"10\" style=\"stroke: #F8F8F8; stroke-width: 1.5;\" width=\"60\" x=\"135\" y=\"210\"/><rect fill=\"#F8F8F8\" height=\"10\" style=\"stroke: #F8F8F8; stroke-width: 1.5;\" width=\"60\" x=\"135\" y=\"237.9375\"/><rect fill=\"none\" height=\"42.9375\" id=\"E4\" rx=\"10\" ry=\"10\" style=\"stroke: #383838; stroke-width: 1.5;\" width=\"60\" x=\"135\" y=\"210\"/><text fill=\"#000000\" font-family=\"sans-serif\" font-size=\"12\" font-style=\"italic\" lengthAdjust=\"spacingAndGlyphs\" textLength=\"53\" x=\"138.5\" y=\"226.1387\">«action»</text><text fill=\"#000000\" font-family=\"sans-serif\" font-size=\"12\" lengthAdjust=\"spacingAndGlyphs\" textLength=\"16\" x=\"157\" y=\"240.1074\">A1</text></a></g><g id=\"E1.E5\"><a href=\"psysml:e7f91728-bf49-43a2-b90b-9012c9afe2c4\" target=\"_top\" title=\"psysml:e7f91728-bf49-43a2-b90b-9012c9afe2c4\" xlink:actuate=\"onRequest\" xlink:href=\"psysml:e7f91728-bf49-43a2-b90b-9012c9afe2c4\" xlink:show=\"new\" xlink:title=\"psysml:e7f91728-bf49-43a2-b90b-9012c9afe2c4\" xlink:type=\"simple\"><rect fill=\"#FFFFFF\" height=\"42.9375\" id=\"E5\" rx=\"10\" ry=\"10\" style=\"stroke: #383838; stroke-width: 1.5;\" width=\"60\" x=\"135\" y=\"286\"/><rect fill=\"#F8F8F8\" height=\"37.9375\" rx=\"10\" ry=\"10\" style=\"stroke: #F8F8F8; stroke-width: 1.5;\" width=\"60\" x=\"135\" y=\"286\"/><rect fill=\"#F8F8F8\" height=\"10\" style=\"stroke: #F8F8F8; stroke-width: 1.5;\" width=\"60\" x=\"135\" y=\"313.9375\"/><rect fill=\"none\" height=\"42.9375\" id=\"E5\" rx=\"10\" ry=\"10\" style=\"stroke: #383838; stroke-width: 1.5;\" width=\"60\" x=\"135\" y=\"286\"/><text fill=\"#000000\" font-family=\"sans-serif\" font-size=\"12\" font-style=\"italic\" lengthAdjust=\"spacingAndGlyphs\" textLength=\"53\" x=\"138.5\" y=\"302.1387\">«action»</text><text fill=\"#000000\" font-family=\"sans-serif\" font-size=\"12\" lengthAdjust=\"spacingAndGlyphs\" textLength=\"16\" x=\"157\" y=\"316.1074\">A2</text></a></g><g id=\"E1.E6\"><a href=\"psysml:0d8578a4-a91e-4bc0-9576-e9210611ea53\" target=\"_top\" title=\"psysml:0d8578a4-a91e-4bc0-9576-e9210611ea53\" xlink:actuate=\"onRequest\" xlink:href=\"psysml:0d8578a4-a91e-4bc0-9576-e9210611ea53\" xlink:show=\"new\" xlink:title=\"psysml:0d8578a4-a91e-4bc0-9576-e9210611ea53\" xlink:type=\"simple\"><rect fill=\"#FFFFFF\" height=\"42.9375\" id=\"E6\" rx=\"10\" ry=\"10\" style=\"stroke: #383838; stroke-width: 1.5;\" width=\"60\" x=\"63\" y=\"58\"/><rect fill=\"#F8F8F8\" height=\"37.9375\" rx=\"10\" ry=\"10\" style=\"stroke: #F8F8F8; stroke-width: 1.5;\" width=\"60\" x=\"63\" y=\"58\"/><rect fill=\"#F8F8F8\" height=\"10\" style=\"stroke: #F8F8F8; stroke-width: 1.5;\" width=\"60\" x=\"63\" y=\"85.9375\"/><rect fill=\"none\" height=\"42.9375\" id=\"E6\" rx=\"10\" ry=\"10\" style=\"stroke: #383838; stroke-width: 1.5;\" width=\"60\" x=\"63\" y=\"58\"/><text fill=\"#000000\" font-family=\"sans-serif\" font-size=\"12\" font-style=\"italic\" lengthAdjust=\"spacingAndGlyphs\" textLength=\"53\" x=\"66.5\" y=\"74.1387\">«action»</text><text fill=\"#000000\" font-family=\"sans-serif\" font-size=\"12\" lengthAdjust=\"spacingAndGlyphs\" textLength=\"16\" x=\"85\" y=\"88.1074\">A3</text></a></g><g id=\"E1.E7\"><a href=\"psysml:0d8578a4-a91e-4bc0-9576-e9210611ea53\" target=\"_top\" title=\"psysml:0d8578a4-a91e-4bc0-9576-e9210611ea53\" xlink:actuate=\"onRequest\" xlink:href=\"psysml:0d8578a4-a91e-4bc0-9576-e9210611ea53\" xlink:show=\"new\" xlink:title=\"psysml:0d8578a4-a91e-4bc0-9576-e9210611ea53\" xlink:type=\"simple\"><rect fill=\"#FFFFFF\" height=\"42.9375\" id=\"E7\" rx=\"10\" ry=\"10\" style=\"stroke: #383838; stroke-width: 1.5;\" width=\"60\" x=\"246\" y=\"134\"/><rect fill=\"#F8F8F8\" height=\"37.9375\" rx=\"10\" ry=\"10\" style=\"stroke: #F8F8F8; stroke-width: 1.5;\" width=\"60\" x=\"246\" y=\"134\"/><rect fill=\"#F8F8F8\" height=\"10\" style=\"stroke: #F8F8F8; stroke-width: 1.5;\" width=\"60\" x=\"246\" y=\"161.9375\"/><rect fill=\"none\" height=\"42.9375\" id=\"E7\" rx=\"10\" ry=\"10\" style=\"stroke: #383838; stroke-width: 1.5;\" width=\"60\" x=\"246\" y=\"134\"/><text fill=\"#000000\" font-family=\"sans-serif\" font-size=\"12\" font-style=\"italic\" lengthAdjust=\"spacingAndGlyphs\" textLength=\"53\" x=\"249.5\" y=\"150.1387\">«action»</text><text fill=\"#000000\" font-family=\"sans-serif\" font-size=\"12\" lengthAdjust=\"spacingAndGlyphs\" textLength=\"16\" x=\"268\" y=\"164.1074\">A3</text></a></g><!--MD5=[4d03bb2d0377dc85ccfab60ff574652b]\n",
       "link E2 to E4--><a href=\"psysml:8074e684-9dcd-4869-b14d-8570f637bde9\" target=\"_top\" title=\"psysml:8074e684-9dcd-4869-b14d-8570f637bde9\" xlink:actuate=\"onRequest\" xlink:href=\"psysml:8074e684-9dcd-4869-b14d-8570f637bde9\" xlink:show=\"new\" xlink:title=\"psysml:8074e684-9dcd-4869-b14d-8570f637bde9\" xlink:type=\"simple\"><path d=\"M206,87.7 C206,119.37 206,232 206,232 C206,232 200.23,232 200.23,232 \" fill=\"none\" id=\"E2-&gt;E4\" style=\"stroke: #383838; stroke-width: 1.0;\"/><polygon fill=\"#383838\" points=\"195.23,232,204.23,236,200.23,232,204.23,228,195.23,232\" style=\"stroke: #383838; stroke-width: 1.0;\"/><text fill=\"#000000\" font-family=\"sans-serif\" font-size=\"13\" lengthAdjust=\"spacingAndGlyphs\" textLength=\"55\" x=\"118\" y=\"160.0669\">[x == 1]</text><text fill=\"#000000\" font-family=\"sans-serif\" font-size=\"13\" lengthAdjust=\"spacingAndGlyphs\" textLength=\"7\" x=\"203.0301\" y=\"227.4707\">*</text></a><!--MD5=[dcad52bbbca2fe8adc741ce38b45dc12]\n",
       "link E2 to E5--><a href=\"psysml:3f3ee8aa-e9f7-416c-965c-8aff211aef79\" target=\"_top\" title=\"psysml:3f3ee8aa-e9f7-416c-965c-8aff211aef79\" xlink:actuate=\"onRequest\" xlink:href=\"psysml:3f3ee8aa-e9f7-416c-965c-8aff211aef79\" xlink:show=\"new\" xlink:title=\"psysml:3f3ee8aa-e9f7-416c-965c-8aff211aef79\" xlink:type=\"simple\"><path d=\"M210,91.79 C210,139.25 210,308 210,308 C210,308 200.02,308 200.02,308 \" fill=\"none\" id=\"E2-&gt;E5\" style=\"stroke: #383838; stroke-width: 1.0;\"/><polygon fill=\"#383838\" points=\"195.02,308,204.02,312,200.02,308,204.02,304,195.02,308\" style=\"stroke: #383838; stroke-width: 1.0;\"/><text fill=\"#000000\" font-family=\"sans-serif\" font-size=\"13\" lengthAdjust=\"spacingAndGlyphs\" textLength=\"44\" x=\"221\" y=\"198.0669\">[x &gt; 1]</text><text fill=\"#000000\" font-family=\"sans-serif\" font-size=\"13\" lengthAdjust=\"spacingAndGlyphs\" textLength=\"7\" x=\"203.1905\" y=\"303.3844\">*</text></a><!--MD5=[e3d2a08a9c9236652057e8ed0cbc9b62]\n",
       "link E2 to E7--><a href=\"psysml:5268f6a4-a59c-47f8-920f-30c5900c34c3\" target=\"_top\" title=\"psysml:5268f6a4-a59c-47f8-920f-30c5900c34c3\" xlink:actuate=\"onRequest\" xlink:href=\"psysml:5268f6a4-a59c-47f8-920f-30c5900c34c3\" xlink:show=\"new\" xlink:title=\"psysml:5268f6a4-a59c-47f8-920f-30c5900c34c3\" xlink:type=\"simple\"><path d=\"M218,83.71 C218,97.12 218,138 218,138 C218,138 240.98,138 240.98,138 \" fill=\"none\" id=\"E2-&gt;E7\" style=\"stroke: #383838; stroke-width: 1.0;\"/><polygon fill=\"#383838\" points=\"245.98,138,236.98,134,240.98,138,236.98,142,245.98,138\" style=\"stroke: #383838; stroke-width: 1.0;\"/><text fill=\"#000000\" font-family=\"sans-serif\" font-size=\"13\" lengthAdjust=\"spacingAndGlyphs\" textLength=\"7\" x=\"230.8095\" y=\"128.9969\">*</text></a><!--MD5=[583832df87f4419a098336a29a52fa00]\n",
       "link E7 to E2--><a href=\"psysml:1fcd52fd-d040-4c7e-90de-1e4181f9ba4a\" target=\"_top\" title=\"psysml:1fcd52fd-d040-4c7e-90de-1e4181f9ba4a\" xlink:actuate=\"onRequest\" xlink:href=\"psysml:1fcd52fd-d040-4c7e-90de-1e4181f9ba4a\" xlink:show=\"new\" xlink:title=\"psysml:1fcd52fd-d040-4c7e-90de-1e4181f9ba4a\" xlink:type=\"simple\"><path d=\"M245.73,141 C229.99,141 214,141 214,141 C214,141 214,92.54 214,92.54 \" fill=\"none\" id=\"E7-&gt;E2\" style=\"stroke: #383838; stroke-width: 1.0;\"/><polygon fill=\"#383838\" points=\"214,87.54,210,96.54,214,92.54,218,96.54,214,87.54\" style=\"stroke: #383838; stroke-width: 1.0;\"/><text fill=\"#000000\" font-family=\"sans-serif\" font-size=\"13\" lengthAdjust=\"spacingAndGlyphs\" textLength=\"44\" x=\"260\" y=\"122.0669\">[x &gt; 0]</text><text fill=\"#000000\" font-family=\"sans-serif\" font-size=\"13\" lengthAdjust=\"spacingAndGlyphs\" textLength=\"7\" x=\"207.3813\" y=\"111.5068\">*</text></a><!--MD5=[2720a5a1f2c3fca2055b230370638851]\n",
       "link E2 to E3--><a href=\"psysml:c0d6c8f2-adfa-4de5-8b53-fd445de20c7a\" target=\"_top\" title=\"psysml:c0d6c8f2-adfa-4de5-8b53-fd445de20c7a\" xlink:actuate=\"onRequest\" xlink:href=\"psysml:c0d6c8f2-adfa-4de5-8b53-fd445de20c7a\" xlink:show=\"new\" xlink:title=\"psysml:c0d6c8f2-adfa-4de5-8b53-fd445de20c7a\" xlink:type=\"simple\"><path d=\"M202,83.61 C202,99.5 202,156 202,156 C202,156 51.74,156 51.74,156 \" fill=\"none\" id=\"E2-&gt;E3\" style=\"stroke: #383838; stroke-width: 1.0;\"/><polygon fill=\"#383838\" points=\"46.74,156,55.74,160,51.74,156,55.74,152,46.74,156\" style=\"stroke: #383838; stroke-width: 1.0;\"/><text fill=\"#000000\" font-family=\"sans-serif\" font-size=\"13\" lengthAdjust=\"spacingAndGlyphs\" textLength=\"7\" x=\"54.9315\" y=\"149.3401\">*</text></a><!--MD5=[af87c684e3b0d8be13c1a698a818ef1e]\n",
       "link E3 to E4--><a href=\"psysml:647fb379-8896-403f-81c0-e54862ace948\" target=\"_top\" title=\"psysml:647fb379-8896-403f-81c0-e54862ace948\" xlink:actuate=\"onRequest\" xlink:href=\"psysml:647fb379-8896-403f-81c0-e54862ace948\" xlink:show=\"new\" xlink:title=\"psysml:647fb379-8896-403f-81c0-e54862ace948\" xlink:type=\"simple\"><path d=\"M39,163.69 C39,183.42 39,232 39,232 C39,232 129.82,232 129.82,232 \" fill=\"none\" id=\"E3-&gt;E4\" style=\"stroke: #383838; stroke-width: 1.0;\"/><polygon fill=\"#383838\" points=\"134.82,232,125.82,228,129.82,232,125.82,236,134.82,232\" style=\"stroke: #383838; stroke-width: 1.0;\"/><text fill=\"#000000\" font-family=\"sans-serif\" font-size=\"13\" lengthAdjust=\"spacingAndGlyphs\" textLength=\"36\" x=\"88\" y=\"198.0669\">[true]</text><text fill=\"#000000\" font-family=\"sans-serif\" font-size=\"13\" lengthAdjust=\"spacingAndGlyphs\" textLength=\"7\" x=\"120.0315\" y=\"227.4707\">*</text></a><!--MD5=[0188b64bb0ae78505a997a81836e11e9]\n",
       "link E3 to E5--><a href=\"psysml:1317e145-771b-48e4-a88c-08ae6f2caba6\" target=\"_top\" title=\"psysml:1317e145-771b-48e4-a88c-08ae6f2caba6\" xlink:actuate=\"onRequest\" xlink:href=\"psysml:1317e145-771b-48e4-a88c-08ae6f2caba6\" xlink:show=\"new\" xlink:title=\"psysml:1317e145-771b-48e4-a88c-08ae6f2caba6\" xlink:type=\"simple\"><path d=\"M31,163.7 C31,195.37 31,308 31,308 C31,308 129.93,308 129.93,308 \" fill=\"none\" id=\"E3-&gt;E5\" style=\"stroke: #383838; stroke-width: 1.0;\"/><polygon fill=\"#383838\" points=\"134.93,308,125.93,304,129.93,308,125.93,312,134.93,308\" style=\"stroke: #383838; stroke-width: 1.0;\"/><text fill=\"#000000\" font-family=\"sans-serif\" font-size=\"13\" lengthAdjust=\"spacingAndGlyphs\" textLength=\"40\" x=\"59\" y=\"236.0669\">[false]</text><text fill=\"#000000\" font-family=\"sans-serif\" font-size=\"13\" lengthAdjust=\"spacingAndGlyphs\" textLength=\"7\" x=\"120.1669\" y=\"303.4707\">*</text></a><!--MD5=[1b7591eae5389033d8d09a9d6721a717]\n",
       "link E4 to E5--><a href=\"psysml:23f0aa3a-74d1-4632-9e57-f97d17e19ec4\" target=\"_top\" title=\"psysml:23f0aa3a-74d1-4632-9e57-f97d17e19ec4\" xlink:actuate=\"onRequest\" xlink:href=\"psysml:23f0aa3a-74d1-4632-9e57-f97d17e19ec4\" xlink:show=\"new\" xlink:title=\"psysml:23f0aa3a-74d1-4632-9e57-f97d17e19ec4\" xlink:type=\"simple\"><path d=\"M165,253.08 C165,253.08 165,280.87 165,280.87 \" fill=\"none\" id=\"E4-&gt;E5\" style=\"stroke: #383838; stroke-width: 1.0;\"/><polygon fill=\"#383838\" points=\"165,285.87,169,276.87,165,280.87,161,276.87,165,285.87\" style=\"stroke: #383838; stroke-width: 1.0;\"/><text fill=\"#000000\" font-family=\"sans-serif\" font-size=\"13\" lengthAdjust=\"spacingAndGlyphs\" textLength=\"55\" x=\"166\" y=\"274.0669\">[x == 0]</text><text fill=\"#000000\" font-family=\"sans-serif\" font-size=\"13\" lengthAdjust=\"spacingAndGlyphs\" textLength=\"7\" x=\"157.0156\" y=\"274.7715\">*</text></a><!--MD5=[dfcc878e91ac4a95478f9e1de95f1141]\n",
       "@startuml\r\n",
       "skinparam ranksep 10\r\n",
       "skinparam rectangle {\r\n",
       " backgroundColor<<block>> LightGreen\r\n",
       "}\r\n",
       "skinparam linetype ortho\r\n",
       "skinparam monochrome true\r\n",
       "skinparam classbackgroundcolor white\r\n",
       "skinparam shadowing false\r\n",
       "skinparam wrapWidth 300\r\n",
       "hide circle\r\n",
       "\r\n",
       "rec def \"DecisionTest\" as E1  <<(T,blue) action  def>> [[psysml:62ac371c-e17a-420d-a580-1aab63005ed6 ]] {\r\n",
       "choice \"test x\" as E2  [[psysml:2e150d19-c5c5-4276-9136-9fe31d212434 ]] \r\n",
       "choice \"<s>noname</s>\" as E3  [[psysml:cc5b619c-f329-4ed7-9a64-7943d6ed9569 ]] \r\n",
       "rec usage \"A1\" as E4  <<(T,blue) action>> [[psysml:bb8ae358-9e9d-46e4-9973-23f4ed00e117 ]] {\r\n",
       "}\r\n",
       "\r\n",
       "rec usage \"A2\" as E5  <<(T,blue) action>> [[psysml:e7f91728-bf49-43a2-b90b-9012c9afe2c4 ]] {\r\n",
       "}\r\n",
       "\r\n",
       "rec usage \"A3\" as E6  <<(T,blue) action>> [[psysml:0d8578a4-a91e-4bc0-9576-e9210611ea53 ]] {\r\n",
       "}\r\n",
       "\r\n",
       "rec usage \"A3\" as E7  <<(T,blue) action>> [[psysml:0d8578a4-a91e-4bc0-9576-e9210611ea53 ]] {\r\n",
       "}\r\n",
       "\r\n",
       "}\r\n",
       "\r\n",
       "E2  - -> \"*\"E4 [[psysml:8074e684-9dcd-4869-b14d-8570f637bde9 ]] : [x == 1]\r\n",
       "E2  - -> \"*\"E5 [[psysml:3f3ee8aa-e9f7-416c-965c-8aff211aef79 ]] : [x > 1]\r\n",
       "E2  - -> \"*\"E7 [[psysml:5268f6a4-a59c-47f8-920f-30c5900c34c3 ]] \r\n",
       "E2 - -> \"*\"E3 [[psysml:c0d6c8f2-adfa-4de5-8b53-fd445de20c7a ]] \r\n",
       "E3  - -> \"*\"E4 [[psysml:647fb379-8896-403f-81c0-e54862ace948 ]] : [true]\r\n",
       "E3  - -> \"*\"E5 [[psysml:1317e145-771b-48e4-a88c-08ae6f2caba6 ]] : [false]\r\n",
       "E4  - -> \"*\"E5 [[psysml:23f0aa3a-74d1-4632-9e57-f97d17e19ec4 ]] : [x == 0]\r\n",
       "E7  - -> \"*\"E2 [[psysml:1fcd52fd-d040-4c7e-90de-1e4181f9ba4a ]] : [x > 0]\r\n",
       "@enduml\r\n",
       "\n",
       "PlantUML version 1.2020.13(Sat Jun 13 12:26:38 UTC 2020)\n",
       "(EPL source distribution)\n",
       "Java Runtime: OpenJDK Runtime Environment\n",
       "JVM: OpenJDK 64-Bit Server VM\n",
       "Default Encoding: UTF-8\n",
       "Language: en\n",
       "Country: null\n",
       "--></g></svg>"
      ]
     },
     "execution_count": 54,
     "metadata": {},
     "output_type": "execute_result"
    }
   ],
   "source": [
    "%viz --style=\"ORTHOLINE\" --view=\"Interconnection\" \"DecisionTest\""
   ]
  },
  {
   "cell_type": "code",
   "execution_count": 55,
   "id": "507eb381",
   "metadata": {
    "execution": {
     "iopub.execute_input": "2022-03-21T07:51:03.610909Z",
     "iopub.status.busy": "2022-03-21T07:51:03.610490Z",
     "iopub.status.idle": "2022-03-21T07:51:03.646980Z",
     "shell.execute_reply": "2022-03-21T07:51:03.645547Z"
    }
   },
   "outputs": [
    {
     "data": {
      "image/svg+xml": [
       "<?xml version=\"1.0\" encoding=\"UTF-8\" standalone=\"no\"?><svg xmlns=\"http://www.w3.org/2000/svg\" xmlns:xlink=\"http://www.w3.org/1999/xlink\" contentScriptType=\"application/ecmascript\" contentStyleType=\"text/css\" height=\"356px\" preserveAspectRatio=\"none\" style=\"width:333px;height:356px;\" version=\"1.1\" viewBox=\"0 0 333 356\" width=\"333px\" zoomAndPan=\"magnify\"><defs/><g><!--MD5=[fbc87193dbaf4d95561dea2c320d4a47]\n",
       "cluster E1--><a href=\"psysml:62ac371c-e17a-420d-a580-1aab63005ed6\" target=\"_top\" title=\"psysml:62ac371c-e17a-420d-a580-1aab63005ed6\" xlink:actuate=\"onRequest\" xlink:href=\"psysml:62ac371c-e17a-420d-a580-1aab63005ed6\" xlink:show=\"new\" xlink:title=\"psysml:62ac371c-e17a-420d-a580-1aab63005ed6\" xlink:type=\"simple\"><rect fill=\"#FFFFFF\" height=\"338\" id=\"E1\" style=\"stroke: #383838; stroke-width: 1.5;\" width=\"315\" x=\"7\" y=\"7\"/><rect fill=\"#F8F8F8\" height=\"37.9375\" style=\"stroke: #383838; stroke-width: 1.5;\" width=\"315\" x=\"7\" y=\"7\"/><text fill=\"#000000\" font-family=\"sans-serif\" font-size=\"12\" font-style=\"italic\" lengthAdjust=\"spacingAndGlyphs\" textLength=\"81\" x=\"124\" y=\"23.1387\">«action  def»</text><text fill=\"#000000\" font-family=\"sans-serif\" font-size=\"12\" lengthAdjust=\"spacingAndGlyphs\" textLength=\"80\" x=\"124.5\" y=\"37.1074\">DecisionTest</text></a><polygon fill=\"#F8F8F8\" points=\"210,67.5,222,79.5,210,91.5,198,79.5,210,67.5\" style=\"stroke: #383838; stroke-width: 1.5;\"/><polygon fill=\"#F8F8F8\" points=\"35,143.5,47,155.5,35,167.5,23,155.5,35,143.5\" style=\"stroke: #383838; stroke-width: 1.5;\"/><g id=\"E1.E4\"><a href=\"psysml:bb8ae358-9e9d-46e4-9973-23f4ed00e117\" target=\"_top\" title=\"psysml:bb8ae358-9e9d-46e4-9973-23f4ed00e117\" xlink:actuate=\"onRequest\" xlink:href=\"psysml:bb8ae358-9e9d-46e4-9973-23f4ed00e117\" xlink:show=\"new\" xlink:title=\"psysml:bb8ae358-9e9d-46e4-9973-23f4ed00e117\" xlink:type=\"simple\"><rect fill=\"#FFFFFF\" height=\"42.9375\" id=\"E4\" rx=\"10\" ry=\"10\" style=\"stroke: #383838; stroke-width: 1.5;\" width=\"60\" x=\"135\" y=\"210\"/><rect fill=\"#F8F8F8\" height=\"37.9375\" rx=\"10\" ry=\"10\" style=\"stroke: #F8F8F8; stroke-width: 1.5;\" width=\"60\" x=\"135\" y=\"210\"/><rect fill=\"#F8F8F8\" height=\"10\" style=\"stroke: #F8F8F8; stroke-width: 1.5;\" width=\"60\" x=\"135\" y=\"237.9375\"/><rect fill=\"none\" height=\"42.9375\" id=\"E4\" rx=\"10\" ry=\"10\" style=\"stroke: #383838; stroke-width: 1.5;\" width=\"60\" x=\"135\" y=\"210\"/><text fill=\"#000000\" font-family=\"sans-serif\" font-size=\"12\" font-style=\"italic\" lengthAdjust=\"spacingAndGlyphs\" textLength=\"53\" x=\"138.5\" y=\"226.1387\">«action»</text><text fill=\"#000000\" font-family=\"sans-serif\" font-size=\"12\" lengthAdjust=\"spacingAndGlyphs\" textLength=\"16\" x=\"157\" y=\"240.1074\">A1</text></a></g><g id=\"E1.E5\"><a href=\"psysml:e7f91728-bf49-43a2-b90b-9012c9afe2c4\" target=\"_top\" title=\"psysml:e7f91728-bf49-43a2-b90b-9012c9afe2c4\" xlink:actuate=\"onRequest\" xlink:href=\"psysml:e7f91728-bf49-43a2-b90b-9012c9afe2c4\" xlink:show=\"new\" xlink:title=\"psysml:e7f91728-bf49-43a2-b90b-9012c9afe2c4\" xlink:type=\"simple\"><rect fill=\"#FFFFFF\" height=\"42.9375\" id=\"E5\" rx=\"10\" ry=\"10\" style=\"stroke: #383838; stroke-width: 1.5;\" width=\"60\" x=\"135\" y=\"286\"/><rect fill=\"#F8F8F8\" height=\"37.9375\" rx=\"10\" ry=\"10\" style=\"stroke: #F8F8F8; stroke-width: 1.5;\" width=\"60\" x=\"135\" y=\"286\"/><rect fill=\"#F8F8F8\" height=\"10\" style=\"stroke: #F8F8F8; stroke-width: 1.5;\" width=\"60\" x=\"135\" y=\"313.9375\"/><rect fill=\"none\" height=\"42.9375\" id=\"E5\" rx=\"10\" ry=\"10\" style=\"stroke: #383838; stroke-width: 1.5;\" width=\"60\" x=\"135\" y=\"286\"/><text fill=\"#000000\" font-family=\"sans-serif\" font-size=\"12\" font-style=\"italic\" lengthAdjust=\"spacingAndGlyphs\" textLength=\"53\" x=\"138.5\" y=\"302.1387\">«action»</text><text fill=\"#000000\" font-family=\"sans-serif\" font-size=\"12\" lengthAdjust=\"spacingAndGlyphs\" textLength=\"16\" x=\"157\" y=\"316.1074\">A2</text></a></g><g id=\"E1.E6\"><a href=\"psysml:0d8578a4-a91e-4bc0-9576-e9210611ea53\" target=\"_top\" title=\"psysml:0d8578a4-a91e-4bc0-9576-e9210611ea53\" xlink:actuate=\"onRequest\" xlink:href=\"psysml:0d8578a4-a91e-4bc0-9576-e9210611ea53\" xlink:show=\"new\" xlink:title=\"psysml:0d8578a4-a91e-4bc0-9576-e9210611ea53\" xlink:type=\"simple\"><rect fill=\"#FFFFFF\" height=\"42.9375\" id=\"E6\" rx=\"10\" ry=\"10\" style=\"stroke: #383838; stroke-width: 1.5;\" width=\"60\" x=\"63\" y=\"58\"/><rect fill=\"#F8F8F8\" height=\"37.9375\" rx=\"10\" ry=\"10\" style=\"stroke: #F8F8F8; stroke-width: 1.5;\" width=\"60\" x=\"63\" y=\"58\"/><rect fill=\"#F8F8F8\" height=\"10\" style=\"stroke: #F8F8F8; stroke-width: 1.5;\" width=\"60\" x=\"63\" y=\"85.9375\"/><rect fill=\"none\" height=\"42.9375\" id=\"E6\" rx=\"10\" ry=\"10\" style=\"stroke: #383838; stroke-width: 1.5;\" width=\"60\" x=\"63\" y=\"58\"/><text fill=\"#000000\" font-family=\"sans-serif\" font-size=\"12\" font-style=\"italic\" lengthAdjust=\"spacingAndGlyphs\" textLength=\"53\" x=\"66.5\" y=\"74.1387\">«action»</text><text fill=\"#000000\" font-family=\"sans-serif\" font-size=\"12\" lengthAdjust=\"spacingAndGlyphs\" textLength=\"16\" x=\"85\" y=\"88.1074\">A3</text></a></g><g id=\"E1.E7\"><a href=\"psysml:0d8578a4-a91e-4bc0-9576-e9210611ea53\" target=\"_top\" title=\"psysml:0d8578a4-a91e-4bc0-9576-e9210611ea53\" xlink:actuate=\"onRequest\" xlink:href=\"psysml:0d8578a4-a91e-4bc0-9576-e9210611ea53\" xlink:show=\"new\" xlink:title=\"psysml:0d8578a4-a91e-4bc0-9576-e9210611ea53\" xlink:type=\"simple\"><rect fill=\"#FFFFFF\" height=\"42.9375\" id=\"E7\" rx=\"10\" ry=\"10\" style=\"stroke: #383838; stroke-width: 1.5;\" width=\"60\" x=\"246\" y=\"134\"/><rect fill=\"#F8F8F8\" height=\"37.9375\" rx=\"10\" ry=\"10\" style=\"stroke: #F8F8F8; stroke-width: 1.5;\" width=\"60\" x=\"246\" y=\"134\"/><rect fill=\"#F8F8F8\" height=\"10\" style=\"stroke: #F8F8F8; stroke-width: 1.5;\" width=\"60\" x=\"246\" y=\"161.9375\"/><rect fill=\"none\" height=\"42.9375\" id=\"E7\" rx=\"10\" ry=\"10\" style=\"stroke: #383838; stroke-width: 1.5;\" width=\"60\" x=\"246\" y=\"134\"/><text fill=\"#000000\" font-family=\"sans-serif\" font-size=\"12\" font-style=\"italic\" lengthAdjust=\"spacingAndGlyphs\" textLength=\"53\" x=\"249.5\" y=\"150.1387\">«action»</text><text fill=\"#000000\" font-family=\"sans-serif\" font-size=\"12\" lengthAdjust=\"spacingAndGlyphs\" textLength=\"16\" x=\"268\" y=\"164.1074\">A3</text></a></g><!--MD5=[4d03bb2d0377dc85ccfab60ff574652b]\n",
       "link E2 to E4--><a href=\"psysml:8074e684-9dcd-4869-b14d-8570f637bde9\" target=\"_top\" title=\"psysml:8074e684-9dcd-4869-b14d-8570f637bde9\" xlink:actuate=\"onRequest\" xlink:href=\"psysml:8074e684-9dcd-4869-b14d-8570f637bde9\" xlink:show=\"new\" xlink:title=\"psysml:8074e684-9dcd-4869-b14d-8570f637bde9\" xlink:type=\"simple\"><path d=\"M206,87.7 C206,119.37 206,232 206,232 C206,232 200.23,232 200.23,232 \" fill=\"none\" id=\"E2-&gt;E4\" style=\"stroke: #383838; stroke-width: 1.0; stroke-dasharray: 7.0,7.0;\"/><polygon fill=\"#383838\" points=\"195.23,232,204.23,236,200.23,232,204.23,228,195.23,232\" style=\"stroke: #383838; stroke-width: 1.0;\"/><text fill=\"#000000\" font-family=\"sans-serif\" font-size=\"13\" lengthAdjust=\"spacingAndGlyphs\" textLength=\"55\" x=\"118\" y=\"160.0669\">[x == 1]</text></a><!--MD5=[dcad52bbbca2fe8adc741ce38b45dc12]\n",
       "link E2 to E5--><a href=\"psysml:3f3ee8aa-e9f7-416c-965c-8aff211aef79\" target=\"_top\" title=\"psysml:3f3ee8aa-e9f7-416c-965c-8aff211aef79\" xlink:actuate=\"onRequest\" xlink:href=\"psysml:3f3ee8aa-e9f7-416c-965c-8aff211aef79\" xlink:show=\"new\" xlink:title=\"psysml:3f3ee8aa-e9f7-416c-965c-8aff211aef79\" xlink:type=\"simple\"><path d=\"M210,91.79 C210,139.25 210,308 210,308 C210,308 200.02,308 200.02,308 \" fill=\"none\" id=\"E2-&gt;E5\" style=\"stroke: #383838; stroke-width: 1.0; stroke-dasharray: 7.0,7.0;\"/><polygon fill=\"#383838\" points=\"195.02,308,204.02,312,200.02,308,204.02,304,195.02,308\" style=\"stroke: #383838; stroke-width: 1.0;\"/><text fill=\"#000000\" font-family=\"sans-serif\" font-size=\"13\" lengthAdjust=\"spacingAndGlyphs\" textLength=\"44\" x=\"221\" y=\"198.0669\">[x &gt; 1]</text></a><!--MD5=[e3d2a08a9c9236652057e8ed0cbc9b62]\n",
       "link E2 to E7--><a href=\"psysml:5268f6a4-a59c-47f8-920f-30c5900c34c3\" target=\"_top\" title=\"psysml:5268f6a4-a59c-47f8-920f-30c5900c34c3\" xlink:actuate=\"onRequest\" xlink:href=\"psysml:5268f6a4-a59c-47f8-920f-30c5900c34c3\" xlink:show=\"new\" xlink:title=\"psysml:5268f6a4-a59c-47f8-920f-30c5900c34c3\" xlink:type=\"simple\"><path d=\"M218,83.71 C218,97.12 218,138 218,138 C218,138 240.98,138 240.98,138 \" fill=\"none\" id=\"E2-&gt;E7\" style=\"stroke: #383838; stroke-width: 1.0; stroke-dasharray: 7.0,7.0;\"/><polygon fill=\"#383838\" points=\"245.98,138,236.98,134,240.98,138,236.98,142,245.98,138\" style=\"stroke: #383838; stroke-width: 1.0;\"/></a><!--MD5=[583832df87f4419a098336a29a52fa00]\n",
       "link E7 to E2--><a href=\"psysml:1fcd52fd-d040-4c7e-90de-1e4181f9ba4a\" target=\"_top\" title=\"psysml:1fcd52fd-d040-4c7e-90de-1e4181f9ba4a\" xlink:actuate=\"onRequest\" xlink:href=\"psysml:1fcd52fd-d040-4c7e-90de-1e4181f9ba4a\" xlink:show=\"new\" xlink:title=\"psysml:1fcd52fd-d040-4c7e-90de-1e4181f9ba4a\" xlink:type=\"simple\"><path d=\"M245.73,141 C229.99,141 214,141 214,141 C214,141 214,92.54 214,92.54 \" fill=\"none\" id=\"E7-&gt;E2\" style=\"stroke: #383838; stroke-width: 1.0; stroke-dasharray: 7.0,7.0;\"/><polygon fill=\"#383838\" points=\"214,87.54,210,96.54,214,92.54,218,96.54,214,87.54\" style=\"stroke: #383838; stroke-width: 1.0;\"/><text fill=\"#000000\" font-family=\"sans-serif\" font-size=\"13\" lengthAdjust=\"spacingAndGlyphs\" textLength=\"44\" x=\"260\" y=\"122.0669\">[x &gt; 0]</text></a><!--MD5=[2720a5a1f2c3fca2055b230370638851]\n",
       "link E2 to E3--><a href=\"psysml:c0d6c8f2-adfa-4de5-8b53-fd445de20c7a\" target=\"_top\" title=\"psysml:c0d6c8f2-adfa-4de5-8b53-fd445de20c7a\" xlink:actuate=\"onRequest\" xlink:href=\"psysml:c0d6c8f2-adfa-4de5-8b53-fd445de20c7a\" xlink:show=\"new\" xlink:title=\"psysml:c0d6c8f2-adfa-4de5-8b53-fd445de20c7a\" xlink:type=\"simple\"><path d=\"M202,83.61 C202,99.5 202,156 202,156 C202,156 51.74,156 51.74,156 \" fill=\"none\" id=\"E2-&gt;E3\" style=\"stroke: #383838; stroke-width: 1.0; stroke-dasharray: 7.0,7.0;\"/><polygon fill=\"#383838\" points=\"46.74,156,55.74,160,51.74,156,55.74,152,46.74,156\" style=\"stroke: #383838; stroke-width: 1.0;\"/></a><!--MD5=[af87c684e3b0d8be13c1a698a818ef1e]\n",
       "link E3 to E4--><a href=\"psysml:647fb379-8896-403f-81c0-e54862ace948\" target=\"_top\" title=\"psysml:647fb379-8896-403f-81c0-e54862ace948\" xlink:actuate=\"onRequest\" xlink:href=\"psysml:647fb379-8896-403f-81c0-e54862ace948\" xlink:show=\"new\" xlink:title=\"psysml:647fb379-8896-403f-81c0-e54862ace948\" xlink:type=\"simple\"><path d=\"M39,163.69 C39,183.42 39,232 39,232 C39,232 129.82,232 129.82,232 \" fill=\"none\" id=\"E3-&gt;E4\" style=\"stroke: #383838; stroke-width: 1.0; stroke-dasharray: 7.0,7.0;\"/><polygon fill=\"#383838\" points=\"134.82,232,125.82,228,129.82,232,125.82,236,134.82,232\" style=\"stroke: #383838; stroke-width: 1.0;\"/><text fill=\"#000000\" font-family=\"sans-serif\" font-size=\"13\" lengthAdjust=\"spacingAndGlyphs\" textLength=\"36\" x=\"88\" y=\"198.0669\">[true]</text></a><!--MD5=[0188b64bb0ae78505a997a81836e11e9]\n",
       "link E3 to E5--><a href=\"psysml:1317e145-771b-48e4-a88c-08ae6f2caba6\" target=\"_top\" title=\"psysml:1317e145-771b-48e4-a88c-08ae6f2caba6\" xlink:actuate=\"onRequest\" xlink:href=\"psysml:1317e145-771b-48e4-a88c-08ae6f2caba6\" xlink:show=\"new\" xlink:title=\"psysml:1317e145-771b-48e4-a88c-08ae6f2caba6\" xlink:type=\"simple\"><path d=\"M31,163.7 C31,195.37 31,308 31,308 C31,308 129.93,308 129.93,308 \" fill=\"none\" id=\"E3-&gt;E5\" style=\"stroke: #383838; stroke-width: 1.0; stroke-dasharray: 7.0,7.0;\"/><polygon fill=\"#383838\" points=\"134.93,308,125.93,304,129.93,308,125.93,312,134.93,308\" style=\"stroke: #383838; stroke-width: 1.0;\"/><text fill=\"#000000\" font-family=\"sans-serif\" font-size=\"13\" lengthAdjust=\"spacingAndGlyphs\" textLength=\"40\" x=\"59\" y=\"236.0669\">[false]</text></a><!--MD5=[1b7591eae5389033d8d09a9d6721a717]\n",
       "link E4 to E5--><a href=\"psysml:23f0aa3a-74d1-4632-9e57-f97d17e19ec4\" target=\"_top\" title=\"psysml:23f0aa3a-74d1-4632-9e57-f97d17e19ec4\" xlink:actuate=\"onRequest\" xlink:href=\"psysml:23f0aa3a-74d1-4632-9e57-f97d17e19ec4\" xlink:show=\"new\" xlink:title=\"psysml:23f0aa3a-74d1-4632-9e57-f97d17e19ec4\" xlink:type=\"simple\"><path d=\"M165,253.08 C165,253.08 165,280.87 165,280.87 \" fill=\"none\" id=\"E4-&gt;E5\" style=\"stroke: #383838; stroke-width: 1.0; stroke-dasharray: 7.0,7.0;\"/><polygon fill=\"#383838\" points=\"165,285.87,169,276.87,165,280.87,161,276.87,165,285.87\" style=\"stroke: #383838; stroke-width: 1.0;\"/><text fill=\"#000000\" font-family=\"sans-serif\" font-size=\"13\" lengthAdjust=\"spacingAndGlyphs\" textLength=\"55\" x=\"166\" y=\"274.0669\">[x == 0]</text></a><!--MD5=[9cf498773c52b054f45e98bc0d0dec22]\n",
       "@startuml\r\n",
       "skinparam ranksep 8\r\n",
       "skinparam linetype ortho\r\n",
       "skinparam monochrome true\r\n",
       "skinparam classbackgroundcolor white\r\n",
       "skinparam shadowing false\r\n",
       "skinparam wrapWidth 300\r\n",
       "hide circle\r\n",
       "\r\n",
       "rec def \"DecisionTest\" as E1  <<(T,blue) action  def>> [[psysml:62ac371c-e17a-420d-a580-1aab63005ed6 ]] {\r\n",
       "choice \"test x\" as E2  [[psysml:2e150d19-c5c5-4276-9136-9fe31d212434 ]] \r\n",
       "choice \"<s>noname</s>\" as E3  [[psysml:cc5b619c-f329-4ed7-9a64-7943d6ed9569 ]] \r\n",
       "rec usage \"A1\" as E4  <<(T,blue) action>> [[psysml:bb8ae358-9e9d-46e4-9973-23f4ed00e117 ]] {\r\n",
       "}\r\n",
       "\r\n",
       "rec usage \"A2\" as E5  <<(T,blue) action>> [[psysml:e7f91728-bf49-43a2-b90b-9012c9afe2c4 ]] {\r\n",
       "}\r\n",
       "\r\n",
       "rec usage \"A3\" as E6  <<(T,blue) action>> [[psysml:0d8578a4-a91e-4bc0-9576-e9210611ea53 ]] {\r\n",
       "}\r\n",
       "\r\n",
       "rec usage \"A3\" as E7  <<(T,blue) action>> [[psysml:0d8578a4-a91e-4bc0-9576-e9210611ea53 ]] {\r\n",
       "}\r\n",
       "\r\n",
       "}\r\n",
       "\r\n",
       "E2 ..> E4 [[psysml:8074e684-9dcd-4869-b14d-8570f637bde9 ]] : [x == 1]\r\n",
       "E2 ..> E5 [[psysml:3f3ee8aa-e9f7-416c-965c-8aff211aef79 ]] : [x > 1]\r\n",
       "E2 ..> E7 [[psysml:5268f6a4-a59c-47f8-920f-30c5900c34c3 ]] \r\n",
       "E2 ..> E3 [[psysml:c0d6c8f2-adfa-4de5-8b53-fd445de20c7a ]] \r\n",
       "E3 ..> E4 [[psysml:647fb379-8896-403f-81c0-e54862ace948 ]] : [true]\r\n",
       "E3 ..> E5 [[psysml:1317e145-771b-48e4-a88c-08ae6f2caba6 ]] : [false]\r\n",
       "E4 ..> E5 [[psysml:23f0aa3a-74d1-4632-9e57-f97d17e19ec4 ]] : [x == 0]\r\n",
       "E7 ..> E2 [[psysml:1fcd52fd-d040-4c7e-90de-1e4181f9ba4a ]] : [x > 0]\r\n",
       "@enduml\r\n",
       "\n",
       "PlantUML version 1.2020.13(Sat Jun 13 12:26:38 UTC 2020)\n",
       "(EPL source distribution)\n",
       "Java Runtime: OpenJDK Runtime Environment\n",
       "JVM: OpenJDK 64-Bit Server VM\n",
       "Default Encoding: UTF-8\n",
       "Language: en\n",
       "Country: null\n",
       "--></g></svg>"
      ]
     },
     "execution_count": 55,
     "metadata": {},
     "output_type": "execute_result"
    }
   ],
   "source": [
    "%viz --style=\"ORTHOLINE\" --view=\"Action\" \"DecisionTest\""
   ]
  },
  {
   "cell_type": "code",
   "execution_count": 56,
   "id": "f7aef570",
   "metadata": {
    "execution": {
     "iopub.execute_input": "2022-03-21T07:51:03.696146Z",
     "iopub.status.busy": "2022-03-21T07:51:03.695735Z",
     "iopub.status.idle": "2022-03-21T07:51:03.702199Z",
     "shell.execute_reply": "2022-03-21T07:51:03.701829Z"
    }
   },
   "outputs": [
    {
     "data": {
      "image/svg+xml": [
       "<?xml version=\"1.0\" encoding=\"UTF-8\" standalone=\"no\"?><svg xmlns=\"http://www.w3.org/2000/svg\" xmlns:xlink=\"http://www.w3.org/1999/xlink\" contentScriptType=\"application/ecmascript\" contentStyleType=\"text/css\" height=\"12px\" preserveAspectRatio=\"none\" style=\"width:12px;height:12px;\" version=\"1.1\" viewBox=\"0 0 12 12\" width=\"12px\" zoomAndPan=\"magnify\"><defs/><g><!--MD5=[30fc1de5121c5abddedd55b44417fde8]\n",
       "@startuml\r\n",
       "skinparam roundcorner 20\r\n",
       "skinparam BoxPadding 20\r\n",
       "skinparam SequenceBoxBackgroundColor #white\r\n",
       "skinparam style strictuml\r\n",
       "skinparam maxMessageSize 100\r\n",
       "skinparam linetype ortho\r\n",
       "skinparam monochrome true\r\n",
       "skinparam classbackgroundcolor white\r\n",
       "skinparam shadowing false\r\n",
       "skinparam wrapWidth 300\r\n",
       "hide circle\r\n",
       "\r\n",
       "@enduml\r\n",
       "\n",
       "PlantUML version 1.2020.13(Sat Jun 13 12:26:38 UTC 2020)\n",
       "(EPL source distribution)\n",
       "Java Runtime: OpenJDK Runtime Environment\n",
       "JVM: OpenJDK 64-Bit Server VM\n",
       "Default Encoding: UTF-8\n",
       "Language: en\n",
       "Country: null\n",
       "--></g></svg>"
      ]
     },
     "execution_count": 56,
     "metadata": {},
     "output_type": "execute_result"
    }
   ],
   "source": [
    "%viz --style=\"ORTHOLINE\" --view=\"Sequence\" \"DecisionTest\""
   ]
  },
  {
   "cell_type": "code",
   "execution_count": 57,
   "id": "185bdbc9",
   "metadata": {
    "execution": {
     "iopub.execute_input": "2022-03-21T07:51:03.751922Z",
     "iopub.status.busy": "2022-03-21T07:51:03.751497Z",
     "iopub.status.idle": "2022-03-21T07:51:03.789684Z",
     "shell.execute_reply": "2022-03-21T07:51:03.788250Z"
    }
   },
   "outputs": [
    {
     "data": {
      "image/svg+xml": [
       "<?xml version=\"1.0\" encoding=\"UTF-8\" standalone=\"no\"?><svg xmlns=\"http://www.w3.org/2000/svg\" xmlns:xlink=\"http://www.w3.org/1999/xlink\" contentScriptType=\"application/ecmascript\" contentStyleType=\"text/css\" height=\"488px\" preserveAspectRatio=\"none\" style=\"width:333px;height:488px;\" version=\"1.1\" viewBox=\"0 0 333 488\" width=\"333px\" zoomAndPan=\"magnify\"><defs/><g><!--MD5=[fbc87193dbaf4d95561dea2c320d4a47]\n",
       "cluster E1--><a href=\"psysml:62ac371c-e17a-420d-a580-1aab63005ed6\" target=\"_top\" title=\"psysml:62ac371c-e17a-420d-a580-1aab63005ed6\" xlink:actuate=\"onRequest\" xlink:href=\"psysml:62ac371c-e17a-420d-a580-1aab63005ed6\" xlink:show=\"new\" xlink:title=\"psysml:62ac371c-e17a-420d-a580-1aab63005ed6\" xlink:type=\"simple\"><rect fill=\"#FFFFFF\" height=\"470\" id=\"E1\" style=\"stroke: #383838; stroke-width: 1.5;\" width=\"315\" x=\"7\" y=\"7\"/><rect fill=\"#F8F8F8\" height=\"37.9375\" style=\"stroke: #383838; stroke-width: 1.5;\" width=\"315\" x=\"7\" y=\"7\"/><text fill=\"#000000\" font-family=\"sans-serif\" font-size=\"12\" font-style=\"italic\" lengthAdjust=\"spacingAndGlyphs\" textLength=\"81\" x=\"124\" y=\"23.1387\">«action  def»</text><text fill=\"#000000\" font-family=\"sans-serif\" font-size=\"12\" lengthAdjust=\"spacingAndGlyphs\" textLength=\"80\" x=\"124.5\" y=\"37.1074\">DecisionTest</text></a><polygon fill=\"#F8F8F8\" points=\"210,67.5,222,79.5,210,91.5,198,79.5,210,67.5\" style=\"stroke: #383838; stroke-width: 1.5;\"/><polygon fill=\"#F8F8F8\" points=\"35,187.5,47,199.5,35,211.5,23,199.5,35,187.5\" style=\"stroke: #383838; stroke-width: 1.5;\"/><g id=\"E1.E4\"><a href=\"psysml:bb8ae358-9e9d-46e4-9973-23f4ed00e117\" target=\"_top\" title=\"psysml:bb8ae358-9e9d-46e4-9973-23f4ed00e117\" xlink:actuate=\"onRequest\" xlink:href=\"psysml:bb8ae358-9e9d-46e4-9973-23f4ed00e117\" xlink:show=\"new\" xlink:title=\"psysml:bb8ae358-9e9d-46e4-9973-23f4ed00e117\" xlink:type=\"simple\"><rect fill=\"#FFFFFF\" height=\"42.9375\" id=\"E4\" rx=\"10\" ry=\"10\" style=\"stroke: #383838; stroke-width: 1.5;\" width=\"60\" x=\"135\" y=\"298\"/><rect fill=\"#F8F8F8\" height=\"37.9375\" rx=\"10\" ry=\"10\" style=\"stroke: #F8F8F8; stroke-width: 1.5;\" width=\"60\" x=\"135\" y=\"298\"/><rect fill=\"#F8F8F8\" height=\"10\" style=\"stroke: #F8F8F8; stroke-width: 1.5;\" width=\"60\" x=\"135\" y=\"325.9375\"/><rect fill=\"none\" height=\"42.9375\" id=\"E4\" rx=\"10\" ry=\"10\" style=\"stroke: #383838; stroke-width: 1.5;\" width=\"60\" x=\"135\" y=\"298\"/><text fill=\"#000000\" font-family=\"sans-serif\" font-size=\"12\" font-style=\"italic\" lengthAdjust=\"spacingAndGlyphs\" textLength=\"53\" x=\"138.5\" y=\"314.1387\">«action»</text><text fill=\"#000000\" font-family=\"sans-serif\" font-size=\"12\" lengthAdjust=\"spacingAndGlyphs\" textLength=\"16\" x=\"157\" y=\"328.1074\">A1</text></a></g><g id=\"E1.E5\"><a href=\"psysml:e7f91728-bf49-43a2-b90b-9012c9afe2c4\" target=\"_top\" title=\"psysml:e7f91728-bf49-43a2-b90b-9012c9afe2c4\" xlink:actuate=\"onRequest\" xlink:href=\"psysml:e7f91728-bf49-43a2-b90b-9012c9afe2c4\" xlink:show=\"new\" xlink:title=\"psysml:e7f91728-bf49-43a2-b90b-9012c9afe2c4\" xlink:type=\"simple\"><rect fill=\"#FFFFFF\" height=\"42.9375\" id=\"E5\" rx=\"10\" ry=\"10\" style=\"stroke: #383838; stroke-width: 1.5;\" width=\"60\" x=\"135\" y=\"418\"/><rect fill=\"#F8F8F8\" height=\"37.9375\" rx=\"10\" ry=\"10\" style=\"stroke: #F8F8F8; stroke-width: 1.5;\" width=\"60\" x=\"135\" y=\"418\"/><rect fill=\"#F8F8F8\" height=\"10\" style=\"stroke: #F8F8F8; stroke-width: 1.5;\" width=\"60\" x=\"135\" y=\"445.9375\"/><rect fill=\"none\" height=\"42.9375\" id=\"E5\" rx=\"10\" ry=\"10\" style=\"stroke: #383838; stroke-width: 1.5;\" width=\"60\" x=\"135\" y=\"418\"/><text fill=\"#000000\" font-family=\"sans-serif\" font-size=\"12\" font-style=\"italic\" lengthAdjust=\"spacingAndGlyphs\" textLength=\"53\" x=\"138.5\" y=\"434.1387\">«action»</text><text fill=\"#000000\" font-family=\"sans-serif\" font-size=\"12\" lengthAdjust=\"spacingAndGlyphs\" textLength=\"16\" x=\"157\" y=\"448.1074\">A2</text></a></g><g id=\"E1.E6\"><a href=\"psysml:0d8578a4-a91e-4bc0-9576-e9210611ea53\" target=\"_top\" title=\"psysml:0d8578a4-a91e-4bc0-9576-e9210611ea53\" xlink:actuate=\"onRequest\" xlink:href=\"psysml:0d8578a4-a91e-4bc0-9576-e9210611ea53\" xlink:show=\"new\" xlink:title=\"psysml:0d8578a4-a91e-4bc0-9576-e9210611ea53\" xlink:type=\"simple\"><rect fill=\"#FFFFFF\" height=\"42.9375\" id=\"E6\" rx=\"10\" ry=\"10\" style=\"stroke: #383838; stroke-width: 1.5;\" width=\"60\" x=\"63\" y=\"58\"/><rect fill=\"#F8F8F8\" height=\"37.9375\" rx=\"10\" ry=\"10\" style=\"stroke: #F8F8F8; stroke-width: 1.5;\" width=\"60\" x=\"63\" y=\"58\"/><rect fill=\"#F8F8F8\" height=\"10\" style=\"stroke: #F8F8F8; stroke-width: 1.5;\" width=\"60\" x=\"63\" y=\"85.9375\"/><rect fill=\"none\" height=\"42.9375\" id=\"E6\" rx=\"10\" ry=\"10\" style=\"stroke: #383838; stroke-width: 1.5;\" width=\"60\" x=\"63\" y=\"58\"/><text fill=\"#000000\" font-family=\"sans-serif\" font-size=\"12\" font-style=\"italic\" lengthAdjust=\"spacingAndGlyphs\" textLength=\"53\" x=\"66.5\" y=\"74.1387\">«action»</text><text fill=\"#000000\" font-family=\"sans-serif\" font-size=\"12\" lengthAdjust=\"spacingAndGlyphs\" textLength=\"16\" x=\"85\" y=\"88.1074\">A3</text></a></g><g id=\"E1.E7\"><a href=\"psysml:0d8578a4-a91e-4bc0-9576-e9210611ea53\" target=\"_top\" title=\"psysml:0d8578a4-a91e-4bc0-9576-e9210611ea53\" xlink:actuate=\"onRequest\" xlink:href=\"psysml:0d8578a4-a91e-4bc0-9576-e9210611ea53\" xlink:show=\"new\" xlink:title=\"psysml:0d8578a4-a91e-4bc0-9576-e9210611ea53\" xlink:type=\"simple\"><rect fill=\"#FFFFFF\" height=\"42.9375\" id=\"E7\" rx=\"10\" ry=\"10\" style=\"stroke: #383838; stroke-width: 1.5;\" width=\"60\" x=\"246\" y=\"178\"/><rect fill=\"#F8F8F8\" height=\"37.9375\" rx=\"10\" ry=\"10\" style=\"stroke: #F8F8F8; stroke-width: 1.5;\" width=\"60\" x=\"246\" y=\"178\"/><rect fill=\"#F8F8F8\" height=\"10\" style=\"stroke: #F8F8F8; stroke-width: 1.5;\" width=\"60\" x=\"246\" y=\"205.9375\"/><rect fill=\"none\" height=\"42.9375\" id=\"E7\" rx=\"10\" ry=\"10\" style=\"stroke: #383838; stroke-width: 1.5;\" width=\"60\" x=\"246\" y=\"178\"/><text fill=\"#000000\" font-family=\"sans-serif\" font-size=\"12\" font-style=\"italic\" lengthAdjust=\"spacingAndGlyphs\" textLength=\"53\" x=\"249.5\" y=\"194.1387\">«action»</text><text fill=\"#000000\" font-family=\"sans-serif\" font-size=\"12\" lengthAdjust=\"spacingAndGlyphs\" textLength=\"16\" x=\"268\" y=\"208.1074\">A3</text></a></g><!--MD5=[4d03bb2d0377dc85ccfab60ff574652b]\n",
       "link E2 to E4--><a href=\"psysml:8074e684-9dcd-4869-b14d-8570f637bde9\" target=\"_top\" title=\"psysml:8074e684-9dcd-4869-b14d-8570f637bde9\" xlink:actuate=\"onRequest\" xlink:href=\"psysml:8074e684-9dcd-4869-b14d-8570f637bde9\" xlink:show=\"new\" xlink:title=\"psysml:8074e684-9dcd-4869-b14d-8570f637bde9\" xlink:type=\"simple\"><path d=\"M206,87.5 C206,129.23 206,320 206,320 C206,320 200.23,320 200.23,320 \" fill=\"none\" id=\"E2-&gt;E4\" style=\"stroke: #383838; stroke-width: 1.0;\"/><polygon fill=\"#383838\" points=\"195.23,320,204.23,324,200.23,320,204.23,316,195.23,320\" style=\"stroke: #383838; stroke-width: 1.0;\"/><text fill=\"#000000\" font-family=\"sans-serif\" font-size=\"13\" lengthAdjust=\"spacingAndGlyphs\" textLength=\"55\" x=\"118\" y=\"204.0669\">[x == 1]</text><text fill=\"#000000\" font-family=\"sans-serif\" font-size=\"13\" lengthAdjust=\"spacingAndGlyphs\" textLength=\"7\" x=\"203.0301\" y=\"315.4707\">*</text></a><!--MD5=[dcad52bbbca2fe8adc741ce38b45dc12]\n",
       "link E2 to E5--><a href=\"psysml:3f3ee8aa-e9f7-416c-965c-8aff211aef79\" target=\"_top\" title=\"psysml:3f3ee8aa-e9f7-416c-965c-8aff211aef79\" xlink:actuate=\"onRequest\" xlink:href=\"psysml:3f3ee8aa-e9f7-416c-965c-8aff211aef79\" xlink:show=\"new\" xlink:title=\"psysml:3f3ee8aa-e9f7-416c-965c-8aff211aef79\" xlink:type=\"simple\"><path d=\"M210,91.91 C210,155.3 210,440 210,440 C210,440 200.02,440 200.02,440 \" fill=\"none\" id=\"E2-&gt;E5\" style=\"stroke: #383838; stroke-width: 1.0;\"/><polygon fill=\"#383838\" points=\"195.02,440,204.02,444,200.02,440,204.02,436,195.02,440\" style=\"stroke: #383838; stroke-width: 1.0;\"/><text fill=\"#000000\" font-family=\"sans-serif\" font-size=\"13\" lengthAdjust=\"spacingAndGlyphs\" textLength=\"44\" x=\"221\" y=\"264.0669\">[x &gt; 1]</text><text fill=\"#000000\" font-family=\"sans-serif\" font-size=\"13\" lengthAdjust=\"spacingAndGlyphs\" textLength=\"7\" x=\"203.1905\" y=\"435.3844\">*</text></a><!--MD5=[e3d2a08a9c9236652057e8ed0cbc9b62]\n",
       "link E2 to E7--><a href=\"psysml:5268f6a4-a59c-47f8-920f-30c5900c34c3\" target=\"_top\" title=\"psysml:5268f6a4-a59c-47f8-920f-30c5900c34c3\" xlink:actuate=\"onRequest\" xlink:href=\"psysml:5268f6a4-a59c-47f8-920f-30c5900c34c3\" xlink:show=\"new\" xlink:title=\"psysml:5268f6a4-a59c-47f8-920f-30c5900c34c3\" xlink:type=\"simple\"><path d=\"M218,83.9 C218,103.52 218,182 218,182 C218,182 240.98,182 240.98,182 \" fill=\"none\" id=\"E2-&gt;E7\" style=\"stroke: #383838; stroke-width: 1.0;\"/><polygon fill=\"#383838\" points=\"245.98,182,236.98,178,240.98,182,236.98,186,245.98,182\" style=\"stroke: #383838; stroke-width: 1.0;\"/><text fill=\"#000000\" font-family=\"sans-serif\" font-size=\"13\" lengthAdjust=\"spacingAndGlyphs\" textLength=\"7\" x=\"230.8095\" y=\"172.9969\">*</text></a><!--MD5=[583832df87f4419a098336a29a52fa00]\n",
       "link E7 to E2--><a href=\"psysml:1fcd52fd-d040-4c7e-90de-1e4181f9ba4a\" target=\"_top\" title=\"psysml:1fcd52fd-d040-4c7e-90de-1e4181f9ba4a\" xlink:actuate=\"onRequest\" xlink:href=\"psysml:1fcd52fd-d040-4c7e-90de-1e4181f9ba4a\" xlink:show=\"new\" xlink:title=\"psysml:1fcd52fd-d040-4c7e-90de-1e4181f9ba4a\" xlink:type=\"simple\"><path d=\"M245.73,185 C229.99,185 214,185 214,185 C214,185 214,92.78 214,92.78 \" fill=\"none\" id=\"E7-&gt;E2\" style=\"stroke: #383838; stroke-width: 1.0;\"/><polygon fill=\"#383838\" points=\"214,87.78,210,96.78,214,92.78,218,96.78,214,87.78\" style=\"stroke: #383838; stroke-width: 1.0;\"/><text fill=\"#000000\" font-family=\"sans-serif\" font-size=\"13\" lengthAdjust=\"spacingAndGlyphs\" textLength=\"44\" x=\"260\" y=\"144.0669\">[x &gt; 0]</text><text fill=\"#000000\" font-family=\"sans-serif\" font-size=\"13\" lengthAdjust=\"spacingAndGlyphs\" textLength=\"7\" x=\"207.3688\" y=\"111.5336\">*</text></a><!--MD5=[2720a5a1f2c3fca2055b230370638851]\n",
       "link E2 to E3--><a href=\"psysml:c0d6c8f2-adfa-4de5-8b53-fd445de20c7a\" target=\"_top\" title=\"psysml:c0d6c8f2-adfa-4de5-8b53-fd445de20c7a\" xlink:actuate=\"onRequest\" xlink:href=\"psysml:c0d6c8f2-adfa-4de5-8b53-fd445de20c7a\" xlink:show=\"new\" xlink:title=\"psysml:c0d6c8f2-adfa-4de5-8b53-fd445de20c7a\" xlink:type=\"simple\"><path d=\"M202,83.51 C202,104.42 202,200 202,200 C202,200 51.74,200 51.74,200 \" fill=\"none\" id=\"E2-&gt;E3\" style=\"stroke: #383838; stroke-width: 1.0;\"/><polygon fill=\"#383838\" points=\"46.74,200,55.74,204,51.74,200,55.74,196,46.74,200\" style=\"stroke: #383838; stroke-width: 1.0;\"/><text fill=\"#000000\" font-family=\"sans-serif\" font-size=\"13\" lengthAdjust=\"spacingAndGlyphs\" textLength=\"7\" x=\"54.9315\" y=\"193.3401\">*</text></a><!--MD5=[af87c684e3b0d8be13c1a698a818ef1e]\n",
       "link E3 to E4--><a href=\"psysml:647fb379-8896-403f-81c0-e54862ace948\" target=\"_top\" title=\"psysml:647fb379-8896-403f-81c0-e54862ace948\" xlink:actuate=\"onRequest\" xlink:href=\"psysml:647fb379-8896-403f-81c0-e54862ace948\" xlink:show=\"new\" xlink:title=\"psysml:647fb379-8896-403f-81c0-e54862ace948\" xlink:type=\"simple\"><path d=\"M39,207.78 C39,235.01 39,320 39,320 C39,320 129.82,320 129.82,320 \" fill=\"none\" id=\"E3-&gt;E4\" style=\"stroke: #383838; stroke-width: 1.0;\"/><polygon fill=\"#383838\" points=\"134.82,320,125.82,316,129.82,320,125.82,324,134.82,320\" style=\"stroke: #383838; stroke-width: 1.0;\"/><text fill=\"#000000\" font-family=\"sans-serif\" font-size=\"13\" lengthAdjust=\"spacingAndGlyphs\" textLength=\"36\" x=\"88\" y=\"264.0669\">[true]</text><text fill=\"#000000\" font-family=\"sans-serif\" font-size=\"13\" lengthAdjust=\"spacingAndGlyphs\" textLength=\"7\" x=\"120.0315\" y=\"315.4707\">*</text></a><!--MD5=[0188b64bb0ae78505a997a81836e11e9]\n",
       "link E3 to E5--><a href=\"psysml:1317e145-771b-48e4-a88c-08ae6f2caba6\" target=\"_top\" title=\"psysml:1317e145-771b-48e4-a88c-08ae6f2caba6\" xlink:actuate=\"onRequest\" xlink:href=\"psysml:1317e145-771b-48e4-a88c-08ae6f2caba6\" xlink:show=\"new\" xlink:title=\"psysml:1317e145-771b-48e4-a88c-08ae6f2caba6\" xlink:type=\"simple\"><path d=\"M31,207.5 C31,249.23 31,440 31,440 C31,440 129.93,440 129.93,440 \" fill=\"none\" id=\"E3-&gt;E5\" style=\"stroke: #383838; stroke-width: 1.0;\"/><polygon fill=\"#383838\" points=\"134.93,440,125.93,436,129.93,440,125.93,444,134.93,440\" style=\"stroke: #383838; stroke-width: 1.0;\"/><text fill=\"#000000\" font-family=\"sans-serif\" font-size=\"13\" lengthAdjust=\"spacingAndGlyphs\" textLength=\"40\" x=\"59\" y=\"324.0669\">[false]</text><text fill=\"#000000\" font-family=\"sans-serif\" font-size=\"13\" lengthAdjust=\"spacingAndGlyphs\" textLength=\"7\" x=\"120.1669\" y=\"435.4707\">*</text></a><!--MD5=[1b7591eae5389033d8d09a9d6721a717]\n",
       "link E4 to E5--><a href=\"psysml:23f0aa3a-74d1-4632-9e57-f97d17e19ec4\" target=\"_top\" title=\"psysml:23f0aa3a-74d1-4632-9e57-f97d17e19ec4\" xlink:actuate=\"onRequest\" xlink:href=\"psysml:23f0aa3a-74d1-4632-9e57-f97d17e19ec4\" xlink:show=\"new\" xlink:title=\"psysml:23f0aa3a-74d1-4632-9e57-f97d17e19ec4\" xlink:type=\"simple\"><path d=\"M165,341.23 C165,341.23 165,412.93 165,412.93 \" fill=\"none\" id=\"E4-&gt;E5\" style=\"stroke: #383838; stroke-width: 1.0;\"/><polygon fill=\"#383838\" points=\"165,417.93,169,408.93,165,412.93,161,408.93,165,417.93\" style=\"stroke: #383838; stroke-width: 1.0;\"/><text fill=\"#000000\" font-family=\"sans-serif\" font-size=\"13\" lengthAdjust=\"spacingAndGlyphs\" textLength=\"55\" x=\"166\" y=\"384.0669\">[x == 0]</text><text fill=\"#000000\" font-family=\"sans-serif\" font-size=\"13\" lengthAdjust=\"spacingAndGlyphs\" textLength=\"7\" x=\"157.0156\" y=\"406.8484\">*</text></a><!--MD5=[46a98e92bd8072ec434b95145b444a28]\n",
       "@startuml\r\n",
       "skinparam linetype ortho\r\n",
       "skinparam monochrome true\r\n",
       "skinparam classbackgroundcolor white\r\n",
       "skinparam shadowing false\r\n",
       "skinparam wrapWidth 300\r\n",
       "hide circle\r\n",
       "\r\n",
       "rec def \"DecisionTest\" as E1  <<(T,blue) action  def>> [[psysml:62ac371c-e17a-420d-a580-1aab63005ed6 ]] {\r\n",
       "choice \"test x\" as E2  [[psysml:2e150d19-c5c5-4276-9136-9fe31d212434 ]] \r\n",
       "choice \"<s>noname</s>\" as E3  [[psysml:cc5b619c-f329-4ed7-9a64-7943d6ed9569 ]] \r\n",
       "rec usage \"A1\" as E4  <<(T,blue) action>> [[psysml:bb8ae358-9e9d-46e4-9973-23f4ed00e117 ]] {\r\n",
       "}\r\n",
       "\r\n",
       "rec usage \"A2\" as E5  <<(T,blue) action>> [[psysml:e7f91728-bf49-43a2-b90b-9012c9afe2c4 ]] {\r\n",
       "}\r\n",
       "\r\n",
       "rec usage \"A3\" as E6  <<(T,blue) action>> [[psysml:0d8578a4-a91e-4bc0-9576-e9210611ea53 ]] {\r\n",
       "}\r\n",
       "\r\n",
       "rec usage \"A3\" as E7  <<(T,blue) action>> [[psysml:0d8578a4-a91e-4bc0-9576-e9210611ea53 ]] {\r\n",
       "}\r\n",
       "\r\n",
       "}\r\n",
       "\r\n",
       "E2  - -> \"*\"E4 [[psysml:8074e684-9dcd-4869-b14d-8570f637bde9 ]] : [x == 1]\r\n",
       "E2  - -> \"*\"E5 [[psysml:3f3ee8aa-e9f7-416c-965c-8aff211aef79 ]] : [x > 1]\r\n",
       "E2  - -> \"*\"E7 [[psysml:5268f6a4-a59c-47f8-920f-30c5900c34c3 ]] \r\n",
       "E2 - -> \"*\"E3 [[psysml:c0d6c8f2-adfa-4de5-8b53-fd445de20c7a ]] \r\n",
       "E3  - -> \"*\"E4 [[psysml:647fb379-8896-403f-81c0-e54862ace948 ]] : [true]\r\n",
       "E3  - -> \"*\"E5 [[psysml:1317e145-771b-48e4-a88c-08ae6f2caba6 ]] : [false]\r\n",
       "E4  - -> \"*\"E5 [[psysml:23f0aa3a-74d1-4632-9e57-f97d17e19ec4 ]] : [x == 0]\r\n",
       "E7  - -> \"*\"E2 [[psysml:1fcd52fd-d040-4c7e-90de-1e4181f9ba4a ]] : [x > 0]\r\n",
       "@enduml\r\n",
       "\n",
       "PlantUML version 1.2020.13(Sat Jun 13 12:26:38 UTC 2020)\n",
       "(EPL source distribution)\n",
       "Java Runtime: OpenJDK Runtime Environment\n",
       "JVM: OpenJDK 64-Bit Server VM\n",
       "Default Encoding: UTF-8\n",
       "Language: en\n",
       "Country: null\n",
       "--></g></svg>"
      ]
     },
     "execution_count": 57,
     "metadata": {},
     "output_type": "execute_result"
    }
   ],
   "source": [
    "%viz --style=\"ORTHOLINE\" --view=\"MIXED\" \"DecisionTest\""
   ]
  }
 ],
 "metadata": {
  "kernelspec": {
   "display_name": "SysML",
   "language": "sysml",
   "name": "sysml"
  },
  "language_info": {
   "codemirror_mode": "sysml",
   "file_extension": ".sysml",
   "mimetype": "text/x-sysml",
   "name": "SysML",
   "pygments_lexer": "java",
   "version": "1.0.0"
  }
 },
 "nbformat": 4,
 "nbformat_minor": 5
}
