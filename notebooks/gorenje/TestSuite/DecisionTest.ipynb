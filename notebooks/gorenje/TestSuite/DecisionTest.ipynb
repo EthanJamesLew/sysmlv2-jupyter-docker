{
 "cells": [
  {
   "cell_type": "markdown",
   "id": "5046ccc1",
   "metadata": {},
   "source": [
    "# SysML v2 Test Suite\n",
    "\n",
    "This can notebook can be cleared using menu `Edit --> Clear All Outputs` and then all cells can be\n",
    "run using menu `Run --> Run All Cells`.\n",
    "\n",
    "**WARNING**: This file is generated, all modifications here will be ignored.\n"
   ]
  },
  {
   "cell_type": "markdown",
   "id": "d89beae5",
   "metadata": {},
   "source": [
    "## File: ../../sysml/src/examples/Simple Tests/DecisionTest.sysml"
   ]
  },
  {
   "cell_type": "code",
   "execution_count": 1,
   "id": "6bf9f4f7",
   "metadata": {
    "execution": {
     "iopub.execute_input": "2021-06-30T09:20:23.890226Z",
     "iopub.status.busy": "2021-06-30T09:20:23.889806Z",
     "iopub.status.idle": "2021-06-30T09:20:25.651687Z",
     "shell.execute_reply": "2021-06-30T09:20:25.650499Z"
    }
   },
   "outputs": [
    {
     "data": {
      "text/plain": [
       "ActionDefinition DecisionTest (34b940ca-fb1b-4179-939b-b0d3ea513993)\n"
      ]
     },
     "execution_count": 1,
     "metadata": {},
     "output_type": "execute_result"
    }
   ],
   "source": [
    "action def DecisionTest {\n",
    "\tattribute x = 1;\n",
    "\t\n",
    "\tdecide 'test x';\n",
    "\tif x == 1 then A1; \n",
    "\tif x > 1 then A2;\n",
    "\telse A3; \n",
    "\t\n",
    "\tthen decide; \n",
    "\tif true then A1;\n",
    "\tif false then A2;\n",
    "\t\n",
    "\taction A1;\n",
    "\taction A2;\n",
    "\taction A3;\n",
    "\t\n",
    "\tsuccession S first A1 \n",
    "\t\tif x == 0 then A2;\n",
    "\t\t\n",
    "\tfirst A3;\n",
    "\t\tif x > 0 then 'test x';\n",
    "}"
   ]
  },
  {
   "cell_type": "code",
   "execution_count": 2,
   "id": "96215c9d",
   "metadata": {
    "execution": {
     "iopub.execute_input": "2021-06-30T09:20:25.704101Z",
     "iopub.status.busy": "2021-06-30T09:20:25.703243Z",
     "iopub.status.idle": "2021-06-30T09:20:26.573321Z",
     "shell.execute_reply": "2021-06-30T09:20:26.572905Z"
    }
   },
   "outputs": [
    {
     "data": {
      "image/svg+xml": [
       "<?xml version=\"1.0\" encoding=\"UTF-8\" standalone=\"no\"?><svg xmlns=\"http://www.w3.org/2000/svg\" xmlns:xlink=\"http://www.w3.org/1999/xlink\" contentScriptType=\"application/ecmascript\" contentStyleType=\"text/css\" height=\"488px\" preserveAspectRatio=\"none\" style=\"width:333px;height:488px;\" version=\"1.1\" viewBox=\"0 0 333 488\" width=\"333px\" zoomAndPan=\"magnify\"><defs/><g><!--MD5=[fbc87193dbaf4d95561dea2c320d4a47]\n",
       "cluster E1--><a href=\"psysml:068a4463-a96d-4165-a2bc-cadf70a9bc09\" target=\"_top\" title=\"psysml:068a4463-a96d-4165-a2bc-cadf70a9bc09\" xlink:actuate=\"onRequest\" xlink:href=\"psysml:068a4463-a96d-4165-a2bc-cadf70a9bc09\" xlink:show=\"new\" xlink:title=\"psysml:068a4463-a96d-4165-a2bc-cadf70a9bc09\" xlink:type=\"simple\"><rect fill=\"#FFFFFF\" height=\"470\" id=\"E1\" style=\"stroke: #383838; stroke-width: 1.5;\" width=\"315\" x=\"7\" y=\"7\"/><rect fill=\"#F8F8F8\" height=\"37.9375\" style=\"stroke: #383838; stroke-width: 1.5;\" width=\"315\" x=\"7\" y=\"7\"/><text fill=\"#000000\" font-family=\"sans-serif\" font-size=\"12\" font-style=\"italic\" lengthAdjust=\"spacingAndGlyphs\" textLength=\"77\" x=\"126\" y=\"23.1387\">«action def»</text><text fill=\"#000000\" font-family=\"sans-serif\" font-size=\"12\" lengthAdjust=\"spacingAndGlyphs\" textLength=\"80\" x=\"124.5\" y=\"37.1074\">DecisionTest</text></a><polygon fill=\"#F8F8F8\" points=\"210,67.5,222,79.5,210,91.5,198,79.5,210,67.5\" style=\"stroke: #383838; stroke-width: 1.5;\"/><polygon fill=\"#F8F8F8\" points=\"35,187.5,47,199.5,35,211.5,23,199.5,35,187.5\" style=\"stroke: #383838; stroke-width: 1.5;\"/><g id=\"E1.E4\"><a href=\"psysml:86b53981-b1ee-4c30-93d6-edfc048c3f3e\" target=\"_top\" title=\"psysml:86b53981-b1ee-4c30-93d6-edfc048c3f3e\" xlink:actuate=\"onRequest\" xlink:href=\"psysml:86b53981-b1ee-4c30-93d6-edfc048c3f3e\" xlink:show=\"new\" xlink:title=\"psysml:86b53981-b1ee-4c30-93d6-edfc048c3f3e\" xlink:type=\"simple\"><rect fill=\"#FFFFFF\" height=\"42.9375\" id=\"E4\" rx=\"10\" ry=\"10\" style=\"stroke: #383838; stroke-width: 1.5;\" width=\"60\" x=\"135\" y=\"298\"/><rect fill=\"#F8F8F8\" height=\"37.9375\" rx=\"10\" ry=\"10\" style=\"stroke: #F8F8F8; stroke-width: 1.5;\" width=\"60\" x=\"135\" y=\"298\"/><rect fill=\"#F8F8F8\" height=\"10\" style=\"stroke: #F8F8F8; stroke-width: 1.5;\" width=\"60\" x=\"135\" y=\"325.9375\"/><rect fill=\"none\" height=\"42.9375\" id=\"E4\" rx=\"10\" ry=\"10\" style=\"stroke: #383838; stroke-width: 1.5;\" width=\"60\" x=\"135\" y=\"298\"/><text fill=\"#000000\" font-family=\"sans-serif\" font-size=\"12\" font-style=\"italic\" lengthAdjust=\"spacingAndGlyphs\" textLength=\"53\" x=\"138.5\" y=\"314.1387\">«action»</text><text fill=\"#000000\" font-family=\"sans-serif\" font-size=\"12\" lengthAdjust=\"spacingAndGlyphs\" textLength=\"16\" x=\"157\" y=\"328.1074\">A1</text></a></g><g id=\"E1.E5\"><a href=\"psysml:38b4e12b-2856-48b1-8683-970a7e146d76\" target=\"_top\" title=\"psysml:38b4e12b-2856-48b1-8683-970a7e146d76\" xlink:actuate=\"onRequest\" xlink:href=\"psysml:38b4e12b-2856-48b1-8683-970a7e146d76\" xlink:show=\"new\" xlink:title=\"psysml:38b4e12b-2856-48b1-8683-970a7e146d76\" xlink:type=\"simple\"><rect fill=\"#FFFFFF\" height=\"42.9375\" id=\"E5\" rx=\"10\" ry=\"10\" style=\"stroke: #383838; stroke-width: 1.5;\" width=\"60\" x=\"135\" y=\"418\"/><rect fill=\"#F8F8F8\" height=\"37.9375\" rx=\"10\" ry=\"10\" style=\"stroke: #F8F8F8; stroke-width: 1.5;\" width=\"60\" x=\"135\" y=\"418\"/><rect fill=\"#F8F8F8\" height=\"10\" style=\"stroke: #F8F8F8; stroke-width: 1.5;\" width=\"60\" x=\"135\" y=\"445.9375\"/><rect fill=\"none\" height=\"42.9375\" id=\"E5\" rx=\"10\" ry=\"10\" style=\"stroke: #383838; stroke-width: 1.5;\" width=\"60\" x=\"135\" y=\"418\"/><text fill=\"#000000\" font-family=\"sans-serif\" font-size=\"12\" font-style=\"italic\" lengthAdjust=\"spacingAndGlyphs\" textLength=\"53\" x=\"138.5\" y=\"434.1387\">«action»</text><text fill=\"#000000\" font-family=\"sans-serif\" font-size=\"12\" lengthAdjust=\"spacingAndGlyphs\" textLength=\"16\" x=\"157\" y=\"448.1074\">A2</text></a></g><g id=\"E1.E6\"><a href=\"psysml:3ceea1c4-b769-4e45-b22d-b9b14232dc11\" target=\"_top\" title=\"psysml:3ceea1c4-b769-4e45-b22d-b9b14232dc11\" xlink:actuate=\"onRequest\" xlink:href=\"psysml:3ceea1c4-b769-4e45-b22d-b9b14232dc11\" xlink:show=\"new\" xlink:title=\"psysml:3ceea1c4-b769-4e45-b22d-b9b14232dc11\" xlink:type=\"simple\"><rect fill=\"#FFFFFF\" height=\"42.9375\" id=\"E6\" rx=\"10\" ry=\"10\" style=\"stroke: #383838; stroke-width: 1.5;\" width=\"60\" x=\"63\" y=\"58\"/><rect fill=\"#F8F8F8\" height=\"37.9375\" rx=\"10\" ry=\"10\" style=\"stroke: #F8F8F8; stroke-width: 1.5;\" width=\"60\" x=\"63\" y=\"58\"/><rect fill=\"#F8F8F8\" height=\"10\" style=\"stroke: #F8F8F8; stroke-width: 1.5;\" width=\"60\" x=\"63\" y=\"85.9375\"/><rect fill=\"none\" height=\"42.9375\" id=\"E6\" rx=\"10\" ry=\"10\" style=\"stroke: #383838; stroke-width: 1.5;\" width=\"60\" x=\"63\" y=\"58\"/><text fill=\"#000000\" font-family=\"sans-serif\" font-size=\"12\" font-style=\"italic\" lengthAdjust=\"spacingAndGlyphs\" textLength=\"53\" x=\"66.5\" y=\"74.1387\">«action»</text><text fill=\"#000000\" font-family=\"sans-serif\" font-size=\"12\" lengthAdjust=\"spacingAndGlyphs\" textLength=\"16\" x=\"85\" y=\"88.1074\">A3</text></a></g><g id=\"E1.E7\"><a href=\"psysml:3ceea1c4-b769-4e45-b22d-b9b14232dc11\" target=\"_top\" title=\"psysml:3ceea1c4-b769-4e45-b22d-b9b14232dc11\" xlink:actuate=\"onRequest\" xlink:href=\"psysml:3ceea1c4-b769-4e45-b22d-b9b14232dc11\" xlink:show=\"new\" xlink:title=\"psysml:3ceea1c4-b769-4e45-b22d-b9b14232dc11\" xlink:type=\"simple\"><rect fill=\"#FFFFFF\" height=\"42.9375\" id=\"E7\" rx=\"10\" ry=\"10\" style=\"stroke: #383838; stroke-width: 1.5;\" width=\"60\" x=\"246\" y=\"178\"/><rect fill=\"#F8F8F8\" height=\"37.9375\" rx=\"10\" ry=\"10\" style=\"stroke: #F8F8F8; stroke-width: 1.5;\" width=\"60\" x=\"246\" y=\"178\"/><rect fill=\"#F8F8F8\" height=\"10\" style=\"stroke: #F8F8F8; stroke-width: 1.5;\" width=\"60\" x=\"246\" y=\"205.9375\"/><rect fill=\"none\" height=\"42.9375\" id=\"E7\" rx=\"10\" ry=\"10\" style=\"stroke: #383838; stroke-width: 1.5;\" width=\"60\" x=\"246\" y=\"178\"/><text fill=\"#000000\" font-family=\"sans-serif\" font-size=\"12\" font-style=\"italic\" lengthAdjust=\"spacingAndGlyphs\" textLength=\"53\" x=\"249.5\" y=\"194.1387\">«action»</text><text fill=\"#000000\" font-family=\"sans-serif\" font-size=\"12\" lengthAdjust=\"spacingAndGlyphs\" textLength=\"16\" x=\"268\" y=\"208.1074\">A3</text></a></g><!--MD5=[4d03bb2d0377dc85ccfab60ff574652b]\n",
       "link E2 to E4--><a href=\"psysml:5839aeb0-dd7d-4257-be26-6d697b84d54b\" target=\"_top\" title=\"psysml:5839aeb0-dd7d-4257-be26-6d697b84d54b\" xlink:actuate=\"onRequest\" xlink:href=\"psysml:5839aeb0-dd7d-4257-be26-6d697b84d54b\" xlink:show=\"new\" xlink:title=\"psysml:5839aeb0-dd7d-4257-be26-6d697b84d54b\" xlink:type=\"simple\"><path d=\"M204.45,86 C190.88,99.89 156.22,138.13 144,178 C132.04,217.01 144.31,264.27 154.48,292.83 \" fill=\"none\" id=\"E2-&gt;E4\" style=\"stroke: #383838; stroke-width: 1.0;\"/><polygon fill=\"#383838\" points=\"156.22,297.6,156.8939,287.7742,154.5067,292.9027,149.3782,290.5155,156.22,297.6\" style=\"stroke: #383838; stroke-width: 1.0;\"/><text fill=\"#000000\" font-family=\"sans-serif\" font-size=\"13\" lengthAdjust=\"spacingAndGlyphs\" textLength=\"55\" x=\"145\" y=\"204.0669\">[x == 1]</text></a><!--MD5=[dcad52bbbca2fe8adc741ce38b45dc12]\n",
       "link E2 to E5--><a href=\"psysml:6472265e-4329-42f9-a73f-b0fdd653d81d\" target=\"_top\" title=\"psysml:6472265e-4329-42f9-a73f-b0fdd653d81d\" xlink:actuate=\"onRequest\" xlink:href=\"psysml:6472265e-4329-42f9-a73f-b0fdd653d81d\" xlink:show=\"new\" xlink:title=\"psysml:6472265e-4329-42f9-a73f-b0fdd653d81d\" xlink:type=\"simple\"><path d=\"M210.67,90.83 C214.08,143.62 229.24,381.12 226,388 C220.27,400.19 209.98,410.45 199.48,418.47 \" fill=\"none\" id=\"E2-&gt;E5\" style=\"stroke: #383838; stroke-width: 1.0;\"/><polygon fill=\"#383838\" points=\"195.29,421.54,204.9073,419.4168,199.3138,418.5721,200.1586,412.9786,195.29,421.54\" style=\"stroke: #383838; stroke-width: 1.0;\"/><text fill=\"#000000\" font-family=\"sans-serif\" font-size=\"13\" lengthAdjust=\"spacingAndGlyphs\" textLength=\"44\" x=\"222\" y=\"264.0669\">[x &gt; 1]</text></a><!--MD5=[e3d2a08a9c9236652057e8ed0cbc9b62]\n",
       "link E2 to E7--><a href=\"psysml:3c10905a-0cf4-4572-9b68-27220c544656\" target=\"_top\" title=\"psysml:3c10905a-0cf4-4572-9b68-27220c544656\" xlink:actuate=\"onRequest\" xlink:href=\"psysml:3c10905a-0cf4-4572-9b68-27220c544656\" xlink:show=\"new\" xlink:title=\"psysml:3c10905a-0cf4-4572-9b68-27220c544656\" xlink:type=\"simple\"><path d=\"M210.1,91.71 C210.67,105.71 213.16,129.99 223,148 C228.29,157.68 236.08,166.6 244.08,174.17 \" fill=\"none\" id=\"E2-&gt;E7\" style=\"stroke: #383838; stroke-width: 1.0;\"/><polygon fill=\"#383838\" points=\"248.01,177.77,244.069,168.744,244.3207,174.3953,238.6694,174.6469,248.01,177.77\" style=\"stroke: #383838; stroke-width: 1.0;\"/></a><!--MD5=[583832df87f4419a098336a29a52fa00]\n",
       "link E7 to E2--><a href=\"psysml:2ecae6e1-cb24-4407-809b-df9594bdb8fa\" target=\"_top\" title=\"psysml:2ecae6e1-cb24-4407-809b-df9594bdb8fa\" xlink:actuate=\"onRequest\" xlink:href=\"psysml:2ecae6e1-cb24-4407-809b-df9594bdb8fa\" xlink:show=\"new\" xlink:title=\"psysml:2ecae6e1-cb24-4407-809b-df9594bdb8fa\" xlink:type=\"simple\"><path d=\"M264.3,177.59 C250.41,152.74 227.7,112.15 216.57,92.25 \" fill=\"none\" id=\"E7-&gt;E2\" style=\"stroke: #383838; stroke-width: 1.0;\"/><polygon fill=\"#383838\" points=\"214.13,87.88,215.0286,97.6878,216.5691,92.2447,222.0122,93.7852,214.13,87.88\" style=\"stroke: #383838; stroke-width: 1.0;\"/><text fill=\"#000000\" font-family=\"sans-serif\" font-size=\"13\" lengthAdjust=\"spacingAndGlyphs\" textLength=\"44\" x=\"247\" y=\"144.0669\">[x &gt; 0]</text></a><!--MD5=[2720a5a1f2c3fca2055b230370638851]\n",
       "link E2 to E3--><a href=\"psysml:4534ef33-8eda-405a-b2f5-6c95fd446375\" target=\"_top\" title=\"psysml:4534ef33-8eda-405a-b2f5-6c95fd446375\" xlink:actuate=\"onRequest\" xlink:href=\"psysml:4534ef33-8eda-405a-b2f5-6c95fd446375\" xlink:show=\"new\" xlink:title=\"psysml:4534ef33-8eda-405a-b2f5-6c95fd446375\" xlink:type=\"simple\"><path d=\"M201.9,83.58 C184.06,90.55 140.39,108.7 108,131 C82.49,148.57 56.88,174.67 43.84,188.71 \" fill=\"none\" id=\"E2-&gt;E3\" style=\"stroke: #383838; stroke-width: 1.0;\"/><polygon fill=\"#383838\" points=\"40.21,192.66,49.2443,188.738,43.5925,188.9778,43.3527,183.326,40.21,192.66\" style=\"stroke: #383838; stroke-width: 1.0;\"/></a><!--MD5=[af87c684e3b0d8be13c1a698a818ef1e]\n",
       "link E3 to E4--><a href=\"psysml:4cb33783-cb85-4624-8a6d-789ab5e27309\" target=\"_top\" title=\"psysml:4cb33783-cb85-4624-8a6d-789ab5e27309\" xlink:actuate=\"onRequest\" xlink:href=\"psysml:4cb33783-cb85-4624-8a6d-789ab5e27309\" xlink:show=\"new\" xlink:title=\"psysml:4cb33783-cb85-4624-8a6d-789ab5e27309\" xlink:type=\"simple\"><path d=\"M39.08,207.91 C46.63,221.15 63.87,249.24 84,268 C97.73,280.8 115.17,292.16 130.35,300.85 \" fill=\"none\" id=\"E3-&gt;E4\" style=\"stroke: #383838; stroke-width: 1.0;\"/><polygon fill=\"#383838\" points=\"134.98,303.46,129.0858,295.5696,130.6187,301.0148,125.1735,302.5477,134.98,303.46\" style=\"stroke: #383838; stroke-width: 1.0;\"/><text fill=\"#000000\" font-family=\"sans-serif\" font-size=\"13\" lengthAdjust=\"spacingAndGlyphs\" textLength=\"36\" x=\"85\" y=\"264.0669\">[true]</text></a><!--MD5=[0188b64bb0ae78505a997a81836e11e9]\n",
       "link E3 to E5--><a href=\"psysml:7566f218-2e4c-4b1d-8134-f6de9f4cb12f\" target=\"_top\" title=\"psysml:7566f218-2e4c-4b1d-8134-f6de9f4cb12f\" xlink:actuate=\"onRequest\" xlink:href=\"psysml:7566f218-2e4c-4b1d-8134-f6de9f4cb12f\" xlink:show=\"new\" xlink:title=\"psysml:7566f218-2e4c-4b1d-8134-f6de9f4cb12f\" xlink:type=\"simple\"><path d=\"M36.3,210.29 C39.76,234.03 50.73,296.03 76,341 C91.89,369.29 117.42,396.1 137.07,414.43 \" fill=\"none\" id=\"E3-&gt;E5\" style=\"stroke: #383838; stroke-width: 1.0;\"/><polygon fill=\"#383838\" points=\"140.92,417.98,137.0155,408.9382,137.2443,414.5904,131.5921,414.8192,140.92,417.98\" style=\"stroke: #383838; stroke-width: 1.0;\"/><text fill=\"#000000\" font-family=\"sans-serif\" font-size=\"13\" lengthAdjust=\"spacingAndGlyphs\" textLength=\"40\" x=\"77\" y=\"324.0669\">[false]</text></a><!--MD5=[1b7591eae5389033d8d09a9d6721a717]\n",
       "link E4 to E5--><a href=\"psysml:2ec4d8de-ba31-4f08-a58c-ce574f556666\" target=\"_top\" title=\"psysml:2ec4d8de-ba31-4f08-a58c-ce574f556666\" xlink:actuate=\"onRequest\" xlink:href=\"psysml:2ec4d8de-ba31-4f08-a58c-ce574f556666\" xlink:show=\"new\" xlink:title=\"psysml:2ec4d8de-ba31-4f08-a58c-ce574f556666\" xlink:type=\"simple\"><path d=\"M165,341.05 C165,360.9 165,391.02 165,412.52 \" fill=\"none\" id=\"E4-&gt;E5\" style=\"stroke: #383838; stroke-width: 1.0;\"/><polygon fill=\"#383838\" points=\"165,417.79,169,408.79,165,412.79,161,408.79,165,417.79\" style=\"stroke: #383838; stroke-width: 1.0;\"/><text fill=\"#000000\" font-family=\"sans-serif\" font-size=\"13\" lengthAdjust=\"spacingAndGlyphs\" textLength=\"55\" x=\"166\" y=\"384.0669\">[x == 0]</text></a><!--MD5=[10623ba52a65cb3182a063def6a40177]\n",
       "@startuml\r\n",
       " skinparam monochrome true\r\n",
       "skinparam classbackgroundcolor white\r\n",
       "skinparam shadowing false\r\n",
       "skinparam wrapWidth 300\r\n",
       "hide circle\r\n",
       "\r\n",
       "rec def \"DecisionTest\" as E1  <<(T,blue) action def>> [[psysml:068a4463-a96d-4165-a2bc-cadf70a9bc09 ]] {\r\n",
       "choice \"test x\" as E2  [[psysml:44ee9e06-5fd9-46bf-b0f8-00dd693073b7 ]] \r\n",
       "choice \"noname\" as E3  [[psysml:eeb68ac4-2ad3-4e0c-9c18-140c63d1edba ]] \r\n",
       "rec usage \"A1\" as E4  <<(T,blue) action>> [[psysml:86b53981-b1ee-4c30-93d6-edfc048c3f3e ]] {\r\n",
       "}\r\n",
       "\r\n",
       "rec usage \"A2\" as E5  <<(T,blue) action>> [[psysml:38b4e12b-2856-48b1-8683-970a7e146d76 ]] {\r\n",
       "}\r\n",
       "\r\n",
       "rec usage \"A3\" as E6  <<(T,blue) action>> [[psysml:3ceea1c4-b769-4e45-b22d-b9b14232dc11 ]] {\r\n",
       "}\r\n",
       "\r\n",
       "rec usage \"A3\" as E7  <<(T,blue) action>> [[psysml:3ceea1c4-b769-4e45-b22d-b9b14232dc11 ]] {\r\n",
       "}\r\n",
       "\r\n",
       "}\r\n",
       "\r\n",
       "E2  - -> E4 [[psysml:5839aeb0-dd7d-4257-be26-6d697b84d54b ]] : [x == 1]\r\n",
       "E2  - -> E5 [[psysml:6472265e-4329-42f9-a73f-b0fdd653d81d ]] : [x > 1]\r\n",
       "E2  - -> E7 [[psysml:3c10905a-0cf4-4572-9b68-27220c544656 ]] \r\n",
       "E2 - -> E3 [[psysml:4534ef33-8eda-405a-b2f5-6c95fd446375 ]] \r\n",
       "E3  - -> E4 [[psysml:4cb33783-cb85-4624-8a6d-789ab5e27309 ]] : [true]\r\n",
       "E3  - -> E5 [[psysml:7566f218-2e4c-4b1d-8134-f6de9f4cb12f ]] : [false]\r\n",
       "E4  - -> E5 [[psysml:2ec4d8de-ba31-4f08-a58c-ce574f556666 ]] : [x == 0]\r\n",
       "E7  - -> E2 [[psysml:2ecae6e1-cb24-4407-809b-df9594bdb8fa ]] : [x > 0]\r\n",
       "@enduml\r\n",
       "\n",
       "PlantUML version 1.2020.13(Sat Jun 13 12:26:38 UTC 2020)\n",
       "(EPL source distribution)\n",
       "Java Runtime: OpenJDK Runtime Environment\n",
       "JVM: OpenJDK 64-Bit Server VM\n",
       "Default Encoding: UTF-8\n",
       "Language: en\n",
       "Country: null\n",
       "--></g></svg>"
      ]
     },
     "execution_count": 2,
     "metadata": {},
     "output_type": "execute_result"
    }
   ],
   "source": [
    "%viz --style=\"COMPTREE\" --view=\"Default\" \"DecisionTest\""
   ]
  },
  {
   "cell_type": "code",
   "execution_count": 3,
   "id": "e1b05d7d",
   "metadata": {
    "execution": {
     "iopub.execute_input": "2021-06-30T09:20:26.626669Z",
     "iopub.status.busy": "2021-06-30T09:20:26.625400Z",
     "iopub.status.idle": "2021-06-30T09:20:26.853035Z",
     "shell.execute_reply": "2021-06-30T09:20:26.850732Z"
    }
   },
   "outputs": [
    {
     "data": {
      "image/svg+xml": [
       "<?xml version=\"1.0\" encoding=\"UTF-8\" standalone=\"no\"?><svg xmlns=\"http://www.w3.org/2000/svg\" xmlns:xlink=\"http://www.w3.org/1999/xlink\" contentScriptType=\"application/ecmascript\" contentStyleType=\"text/css\" height=\"228px\" preserveAspectRatio=\"none\" style=\"width:525px;height:228px;\" version=\"1.1\" viewBox=\"0 0 525 228\" width=\"525px\" zoomAndPan=\"magnify\"><defs/><g><!--MD5=[43c9051892ef23e1a46a86907403d788]\n",
       "class E1--><a href=\"psysml:068a4463-a96d-4165-a2bc-cadf70a9bc09\" target=\"_top\" title=\"psysml:068a4463-a96d-4165-a2bc-cadf70a9bc09\" xlink:actuate=\"onRequest\" xlink:href=\"psysml:068a4463-a96d-4165-a2bc-cadf70a9bc09\" xlink:show=\"new\" xlink:title=\"psysml:068a4463-a96d-4165-a2bc-cadf70a9bc09\" xlink:type=\"simple\"><rect fill=\"#FFFFFF\" height=\"105.1563\" id=\"E1\" style=\"stroke: #383838; stroke-width: 1.5;\" width=\"86\" x=\"308.5\" y=\"7\"/><text fill=\"#000000\" font-family=\"sans-serif\" font-size=\"12\" font-style=\"italic\" lengthAdjust=\"spacingAndGlyphs\" textLength=\"77\" x=\"313\" y=\"23.1387\">«action def»</text><text fill=\"#000000\" font-family=\"sans-serif\" font-size=\"12\" lengthAdjust=\"spacingAndGlyphs\" textLength=\"80\" x=\"311.5\" y=\"37.1074\">DecisionTest</text><line style=\"stroke: #383838; stroke-width: 1.5;\" x1=\"309.5\" x2=\"393.5\" y1=\"44.9375\" y2=\"44.9375\"/><text fill=\"#000000\" font-family=\"sans-serif\" font-size=\"11\" lengthAdjust=\"spacingAndGlyphs\" textLength=\"26\" x=\"314.5\" y=\"75.9526\">x=1;</text><line style=\"stroke: #383838; stroke-width: 1.0;\" x1=\"309.5\" x2=\"324\" y1=\"59.3398\" y2=\"59.3398\"/><text fill=\"#000000\" font-family=\"sans-serif\" font-size=\"11\" lengthAdjust=\"spacingAndGlyphs\" textLength=\"55\" x=\"324\" y=\"62.6479\">attributes</text><line style=\"stroke: #383838; stroke-width: 1.0;\" x1=\"379\" x2=\"393.5\" y1=\"59.3398\" y2=\"59.3398\"/><text fill=\"#000000\" font-family=\"sans-serif\" font-size=\"11\" lengthAdjust=\"spacingAndGlyphs\" textLength=\"8\" x=\"314.5\" y=\"105.562\">S</text><line style=\"stroke: #383838; stroke-width: 1.0;\" x1=\"309.5\" x2=\"321\" y1=\"88.9492\" y2=\"88.9492\"/><text fill=\"#000000\" font-family=\"sans-serif\" font-size=\"11\" lengthAdjust=\"spacingAndGlyphs\" textLength=\"61\" x=\"321\" y=\"92.2573\">transitions</text><line style=\"stroke: #383838; stroke-width: 1.0;\" x1=\"382\" x2=\"393.5\" y1=\"88.9492\" y2=\"88.9492\"/></a><!--MD5=[b4997ac47864f28c2f74865a473b2911]\n",
       "class E2--><a href=\"psysml:44ee9e06-5fd9-46bf-b0f8-00dd693073b7\" target=\"_top\" title=\"psysml:44ee9e06-5fd9-46bf-b0f8-00dd693073b7\" xlink:actuate=\"onRequest\" xlink:href=\"psysml:44ee9e06-5fd9-46bf-b0f8-00dd693073b7\" xlink:show=\"new\" xlink:title=\"psysml:44ee9e06-5fd9-46bf-b0f8-00dd693073b7\" xlink:type=\"simple\"><rect fill=\"#FFFFFF\" height=\"45.9375\" id=\"E2\" rx=\"10\" ry=\"10\" style=\"stroke: #383838; stroke-width: 1.5;\" width=\"101\" x=\"7\" y=\"172\"/><text fill=\"#000000\" font-family=\"sans-serif\" font-size=\"12\" font-style=\"italic\" lengthAdjust=\"spacingAndGlyphs\" textLength=\"99\" x=\"8\" y=\"188.1387\">«decisionNode»</text><text fill=\"#000000\" font-family=\"sans-serif\" font-size=\"12\" lengthAdjust=\"spacingAndGlyphs\" textLength=\"35\" x=\"40\" y=\"202.1074\">test x</text><line style=\"stroke: #383838; stroke-width: 1.5;\" x1=\"8\" x2=\"107\" y1=\"209.9375\" y2=\"209.9375\"/></a><!--MD5=[09b614a08d8cba4a07c9adeb5e0fee81]\n",
       "class E3--><a href=\"psysml:eeb68ac4-2ad3-4e0c-9c18-140c63d1edba\" target=\"_top\" title=\"psysml:eeb68ac4-2ad3-4e0c-9c18-140c63d1edba\" xlink:actuate=\"onRequest\" xlink:href=\"psysml:eeb68ac4-2ad3-4e0c-9c18-140c63d1edba\" xlink:show=\"new\" xlink:title=\"psysml:eeb68ac4-2ad3-4e0c-9c18-140c63d1edba\" xlink:type=\"simple\"><rect fill=\"#FFFFFF\" height=\"45.9375\" id=\"E3\" rx=\"10\" ry=\"10\" style=\"stroke: #383838; stroke-width: 1.5;\" width=\"101\" x=\"143\" y=\"172\"/><text fill=\"#000000\" font-family=\"sans-serif\" font-size=\"12\" font-style=\"italic\" lengthAdjust=\"spacingAndGlyphs\" textLength=\"99\" x=\"144\" y=\"188.1387\">«decisionNode»</text><text fill=\"#000000\" font-family=\"sans-serif\" font-size=\"12\" lengthAdjust=\"spacingAndGlyphs\" text-decoration=\"line-through\" textLength=\"51\" x=\"168\" y=\"202.1074\">noname</text><line style=\"stroke: #383838; stroke-width: 1.5;\" x1=\"144\" x2=\"243\" y1=\"209.9375\" y2=\"209.9375\"/></a><!--MD5=[ebbe1d658d1005bcc118a6aa81145e00]\n",
       "class E4--><a href=\"psysml:86b53981-b1ee-4c30-93d6-edfc048c3f3e\" target=\"_top\" title=\"psysml:86b53981-b1ee-4c30-93d6-edfc048c3f3e\" xlink:actuate=\"onRequest\" xlink:href=\"psysml:86b53981-b1ee-4c30-93d6-edfc048c3f3e\" xlink:show=\"new\" xlink:title=\"psysml:86b53981-b1ee-4c30-93d6-edfc048c3f3e\" xlink:type=\"simple\"><rect fill=\"#FFFFFF\" height=\"45.9375\" id=\"E4\" rx=\"10\" ry=\"10\" style=\"stroke: #383838; stroke-width: 1.5;\" width=\"55\" x=\"279\" y=\"172\"/><text fill=\"#000000\" font-family=\"sans-serif\" font-size=\"12\" font-style=\"italic\" lengthAdjust=\"spacingAndGlyphs\" textLength=\"53\" x=\"280\" y=\"188.1387\">«action»</text><text fill=\"#000000\" font-family=\"sans-serif\" font-size=\"12\" lengthAdjust=\"spacingAndGlyphs\" textLength=\"16\" x=\"298.5\" y=\"202.1074\">A1</text><line style=\"stroke: #383838; stroke-width: 1.5;\" x1=\"280\" x2=\"333\" y1=\"209.9375\" y2=\"209.9375\"/></a><!--MD5=[270fce915f116d4de14055a7c1d9a0f3]\n",
       "class E5--><a href=\"psysml:38b4e12b-2856-48b1-8683-970a7e146d76\" target=\"_top\" title=\"psysml:38b4e12b-2856-48b1-8683-970a7e146d76\" xlink:actuate=\"onRequest\" xlink:href=\"psysml:38b4e12b-2856-48b1-8683-970a7e146d76\" xlink:show=\"new\" xlink:title=\"psysml:38b4e12b-2856-48b1-8683-970a7e146d76\" xlink:type=\"simple\"><rect fill=\"#FFFFFF\" height=\"45.9375\" id=\"E5\" rx=\"10\" ry=\"10\" style=\"stroke: #383838; stroke-width: 1.5;\" width=\"55\" x=\"369\" y=\"172\"/><text fill=\"#000000\" font-family=\"sans-serif\" font-size=\"12\" font-style=\"italic\" lengthAdjust=\"spacingAndGlyphs\" textLength=\"53\" x=\"370\" y=\"188.1387\">«action»</text><text fill=\"#000000\" font-family=\"sans-serif\" font-size=\"12\" lengthAdjust=\"spacingAndGlyphs\" textLength=\"16\" x=\"388.5\" y=\"202.1074\">A2</text><line style=\"stroke: #383838; stroke-width: 1.5;\" x1=\"370\" x2=\"423\" y1=\"209.9375\" y2=\"209.9375\"/></a><!--MD5=[60a26617385b1d2d0262a64233df1f8d]\n",
       "class E6--><a href=\"psysml:3ceea1c4-b769-4e45-b22d-b9b14232dc11\" target=\"_top\" title=\"psysml:3ceea1c4-b769-4e45-b22d-b9b14232dc11\" xlink:actuate=\"onRequest\" xlink:href=\"psysml:3ceea1c4-b769-4e45-b22d-b9b14232dc11\" xlink:show=\"new\" xlink:title=\"psysml:3ceea1c4-b769-4e45-b22d-b9b14232dc11\" xlink:type=\"simple\"><rect fill=\"#FFFFFF\" height=\"45.9375\" id=\"E6\" rx=\"10\" ry=\"10\" style=\"stroke: #383838; stroke-width: 1.5;\" width=\"55\" x=\"459\" y=\"172\"/><text fill=\"#000000\" font-family=\"sans-serif\" font-size=\"12\" font-style=\"italic\" lengthAdjust=\"spacingAndGlyphs\" textLength=\"53\" x=\"460\" y=\"188.1387\">«action»</text><text fill=\"#000000\" font-family=\"sans-serif\" font-size=\"12\" lengthAdjust=\"spacingAndGlyphs\" textLength=\"16\" x=\"478.5\" y=\"202.1074\">A3</text><line style=\"stroke: #383838; stroke-width: 1.5;\" x1=\"460\" x2=\"513\" y1=\"209.9375\" y2=\"209.9375\"/></a><!--MD5=[a523cb2a0b79ecf9065ad8783f96c320]\n",
       "reverse link E1 to E2--><a href=\"psysml:3f40863b-0a66-456a-a380-cfd414bf0804\" target=\"_top\" title=\"psysml:3f40863b-0a66-456a-a380-cfd414bf0804\" xlink:actuate=\"onRequest\" xlink:href=\"psysml:3f40863b-0a66-456a-a380-cfd414bf0804\" xlink:show=\"new\" xlink:title=\"psysml:3f40863b-0a66-456a-a380-cfd414bf0804\" xlink:type=\"simple\"><path d=\"M296.52,85.46 C241.75,110.33 158.47,148.15 106.07,171.95 \" fill=\"none\" id=\"E1&lt;-E2\" style=\"stroke: #383838; stroke-width: 1.0;\"/><polygon fill=\"#383838\" points=\"308.44,80.06,301.323,78.8988,297.5138,85.0217,304.6308,86.1829,308.44,80.06\" style=\"stroke: #383838; stroke-width: 1.0;\"/></a><!--MD5=[5d7b3810b1dd9b5164bea1151b29b665]\n",
       "reverse link E1 to E3--><a href=\"psysml:e2578a6b-d48b-4dd6-b58c-18f093f1f29f\" target=\"_top\" title=\"psysml:e2578a6b-d48b-4dd6-b58c-18f093f1f29f\" xlink:actuate=\"onRequest\" xlink:href=\"psysml:e2578a6b-d48b-4dd6-b58c-18f093f1f29f\" xlink:show=\"new\" xlink:title=\"psysml:e2578a6b-d48b-4dd6-b58c-18f093f1f29f\" xlink:type=\"simple\"><path d=\"M298.08,105.64 C271.7,127.93 241.06,153.82 219.79,171.79 \" fill=\"none\" id=\"E1&lt;-E3\" style=\"stroke: #383838; stroke-width: 1.0;\"/><polygon fill=\"#383838\" points=\"308.33,96.98,301.1646,97.7906,299.1569,104.7165,306.3223,103.906,308.33,96.98\" style=\"stroke: #383838; stroke-width: 1.0;\"/></a><!--MD5=[f2c5c03aa1e8c0ba21c10a05e6444b8e]\n",
       "reverse link E1 to E4--><a href=\"psysml:7583b8d6-81fb-44fd-88ce-ec05d2d7f8f3\" target=\"_top\" title=\"psysml:7583b8d6-81fb-44fd-88ce-ec05d2d7f8f3\" xlink:actuate=\"onRequest\" xlink:href=\"psysml:7583b8d6-81fb-44fd-88ce-ec05d2d7f8f3\" xlink:show=\"new\" xlink:title=\"psysml:7583b8d6-81fb-44fd-88ce-ec05d2d7f8f3\" xlink:type=\"simple\"><path d=\"M329.79,124.91 C324.1,141.78 318.35,158.85 313.98,171.8 \" fill=\"none\" id=\"E1&lt;-E4\" style=\"stroke: #383838; stroke-width: 1.0;\"/><polygon fill=\"#383838\" points=\"334.1,112.11,328.391,116.5154,330.2618,123.4796,335.9708,119.0742,334.1,112.11\" style=\"stroke: #383838; stroke-width: 1.0;\"/></a><!--MD5=[33238bef88d6431a141d8bc8fb12bca0]\n",
       "reverse link E1 to E5--><a href=\"psysml:1b62ef88-94e5-4ba0-8e17-6cec1f6133af\" target=\"_top\" title=\"psysml:1b62ef88-94e5-4ba0-8e17-6cec1f6133af\" xlink:actuate=\"onRequest\" xlink:href=\"psysml:1b62ef88-94e5-4ba0-8e17-6cec1f6133af\" xlink:show=\"new\" xlink:title=\"psysml:1b62ef88-94e5-4ba0-8e17-6cec1f6133af\" xlink:type=\"simple\"><path d=\"M373.21,124.91 C378.9,141.78 384.65,158.85 389.02,171.8 \" fill=\"none\" id=\"E1&lt;-E5\" style=\"stroke: #383838; stroke-width: 1.0;\"/><polygon fill=\"#383838\" points=\"368.9,112.11,367.0292,119.0742,372.7382,123.4796,374.609,116.5154,368.9,112.11\" style=\"stroke: #383838; stroke-width: 1.0;\"/></a><!--MD5=[aca2ef284c2b1b90e17e73bf3f292c07]\n",
       "reverse link E1 to E6--><a href=\"psysml:6d478a35-76b8-45be-be82-2204dec34e47\" target=\"_top\" title=\"psysml:6d478a35-76b8-45be-be82-2204dec34e47\" xlink:actuate=\"onRequest\" xlink:href=\"psysml:6d478a35-76b8-45be-be82-2204dec34e47\" xlink:show=\"new\" xlink:title=\"psysml:6d478a35-76b8-45be-be82-2204dec34e47\" xlink:type=\"simple\"><path d=\"M400.61,121.64 C420.11,141.2 441.74,161.41 458.63,175.48 \" fill=\"none\" id=\"E1&lt;-E6\" style=\"stroke: #383838; stroke-width: 1.0;\"/><polygon fill=\"#383838\" points=\"391.24,112.11,392.5992,119.1919,399.659,120.661,398.2999,113.5792,391.24,112.11\" style=\"stroke: #383838; stroke-width: 1.0;\"/></a><!--MD5=[aca2ef284c2b1b90e17e73bf3f292c07]\n",
       "reverse link E1 to E6--><a href=\"psysml:637c00ed-dc37-460b-98af-77d0acff244f\" target=\"_top\" title=\"psysml:637c00ed-dc37-460b-98af-77d0acff244f\" xlink:actuate=\"onRequest\" xlink:href=\"psysml:637c00ed-dc37-460b-98af-77d0acff244f\" xlink:show=\"new\" xlink:title=\"psysml:637c00ed-dc37-460b-98af-77d0acff244f\" xlink:type=\"simple\"><path d=\"M404.71,100.75 C430.05,124 458.02,152.36 474.29,171.66 \" fill=\"none\" id=\"E1&lt;-E6-1\" style=\"stroke: #383838; stroke-width: 1.0;\"/><polygon fill=\"#FFFFFF\" points=\"394.79,91.8,396.5648,98.7893,403.699,99.8392,401.9243,92.8499,394.79,91.8\" style=\"stroke: #383838; stroke-width: 1.0;\"/></a><!--MD5=[44bf8e48e6ed5a414c084266d097c74e]\n",
       "@startuml\r\n",
       " skinparam monochrome true\r\n",
       "skinparam classbackgroundcolor white\r\n",
       "skinparam shadowing false\r\n",
       "skinparam wrapWidth 300\r\n",
       "hide circle\r\n",
       "\r\n",
       "comp def \"DecisionTest\" as E1  <<(T,blue) action def>> [[psysml:068a4463-a96d-4165-a2bc-cadf70a9bc09 ]] {\r\n",
       "- - attributes - -\r\n",
       "x=1; \r\n",
       "- - transitions - -\r\n",
       "S\r\n",
       "}\r\n",
       "comp usage \"test x\" as E2  <<(T,blue) decisionNode>> [[psysml:44ee9e06-5fd9-46bf-b0f8-00dd693073b7 ]] {\r\n",
       "}\r\n",
       "comp usage \"<s>noname</s>\" as E3  <<(T,blue) decisionNode>> [[psysml:eeb68ac4-2ad3-4e0c-9c18-140c63d1edba ]] {\r\n",
       "}\r\n",
       "comp usage \"A1\" as E4  <<(T,blue) action>> [[psysml:86b53981-b1ee-4c30-93d6-edfc048c3f3e ]] {\r\n",
       "}\r\n",
       "comp usage \"A2\" as E5  <<(T,blue) action>> [[psysml:38b4e12b-2856-48b1-8683-970a7e146d76 ]] {\r\n",
       "}\r\n",
       "comp usage \"A3\" as E6  <<(T,blue) action>> [[psysml:3ceea1c4-b769-4e45-b22d-b9b14232dc11 ]] {\r\n",
       "}\r\n",
       "E1 *- - E2 [[psysml:3f40863b-0a66-456a-a380-cfd414bf0804 ]] \r\n",
       "E1 *- - E3 [[psysml:e2578a6b-d48b-4dd6-b58c-18f093f1f29f ]] \r\n",
       "E1 *- - E4 [[psysml:7583b8d6-81fb-44fd-88ce-ec05d2d7f8f3 ]] \r\n",
       "E1 *- - E5 [[psysml:1b62ef88-94e5-4ba0-8e17-6cec1f6133af ]] \r\n",
       "E1 *- - E6 [[psysml:6d478a35-76b8-45be-be82-2204dec34e47 ]] \r\n",
       "E1 o- - E6 [[psysml:637c00ed-dc37-460b-98af-77d0acff244f ]] \r\n",
       "@enduml\r\n",
       "\n",
       "PlantUML version 1.2020.13(Sat Jun 13 12:26:38 UTC 2020)\n",
       "(EPL source distribution)\n",
       "Java Runtime: OpenJDK Runtime Environment\n",
       "JVM: OpenJDK 64-Bit Server VM\n",
       "Default Encoding: UTF-8\n",
       "Language: en\n",
       "Country: null\n",
       "--></g></svg>"
      ]
     },
     "execution_count": 3,
     "metadata": {},
     "output_type": "execute_result"
    }
   ],
   "source": [
    "%viz --style=\"COMPTREE\" --view=\"Tree\" \"DecisionTest\""
   ]
  },
  {
   "cell_type": "code",
   "execution_count": 4,
   "id": "17a77ad1",
   "metadata": {
    "execution": {
     "iopub.execute_input": "2021-06-30T09:20:26.905173Z",
     "iopub.status.busy": "2021-06-30T09:20:26.904690Z",
     "iopub.status.idle": "2021-06-30T09:20:26.922980Z",
     "shell.execute_reply": "2021-06-30T09:20:26.922177Z"
    }
   },
   "outputs": [
    {
     "data": {
      "image/svg+xml": [
       "<?xml version=\"1.0\" encoding=\"UTF-8\" standalone=\"no\"?><svg xmlns=\"http://www.w3.org/2000/svg\" xmlns:xlink=\"http://www.w3.org/1999/xlink\" contentScriptType=\"application/ecmascript\" contentStyleType=\"text/css\" height=\"12px\" preserveAspectRatio=\"none\" style=\"width:12px;height:12px;\" version=\"1.1\" viewBox=\"0 0 12 12\" width=\"12px\" zoomAndPan=\"magnify\"><defs/><g><!--MD5=[f19188ef49e11757b5c46753f95d9edc]\n",
       "@startuml\r\n",
       " skinparam monochrome true\r\n",
       "skinparam classbackgroundcolor white\r\n",
       "skinparam shadowing false\r\n",
       "skinparam wrapWidth 300\r\n",
       "hide circle\r\n",
       "\r\n",
       "@enduml\r\n",
       "\n",
       "PlantUML version 1.2020.13(Sat Jun 13 12:26:38 UTC 2020)\n",
       "(EPL source distribution)\n",
       "Java Runtime: OpenJDK Runtime Environment\n",
       "JVM: OpenJDK 64-Bit Server VM\n",
       "Default Encoding: UTF-8\n",
       "Language: en\n",
       "Country: null\n",
       "--></g></svg>"
      ]
     },
     "execution_count": 4,
     "metadata": {},
     "output_type": "execute_result"
    }
   ],
   "source": [
    "%viz --style=\"COMPTREE\" --view=\"State\" \"DecisionTest\""
   ]
  },
  {
   "cell_type": "code",
   "execution_count": 5,
   "id": "d51238dd",
   "metadata": {
    "execution": {
     "iopub.execute_input": "2021-06-30T09:20:26.980055Z",
     "iopub.status.busy": "2021-06-30T09:20:26.978787Z",
     "iopub.status.idle": "2021-06-30T09:20:27.057348Z",
     "shell.execute_reply": "2021-06-30T09:20:27.054018Z"
    }
   },
   "outputs": [
    {
     "data": {
      "image/svg+xml": [
       "<?xml version=\"1.0\" encoding=\"UTF-8\" standalone=\"no\"?><svg xmlns=\"http://www.w3.org/2000/svg\" xmlns:xlink=\"http://www.w3.org/1999/xlink\" contentScriptType=\"application/ecmascript\" contentStyleType=\"text/css\" height=\"356px\" preserveAspectRatio=\"none\" style=\"width:333px;height:356px;\" version=\"1.1\" viewBox=\"0 0 333 356\" width=\"333px\" zoomAndPan=\"magnify\"><defs/><g><!--MD5=[fbc87193dbaf4d95561dea2c320d4a47]\n",
       "cluster E1--><a href=\"psysml:068a4463-a96d-4165-a2bc-cadf70a9bc09\" target=\"_top\" title=\"psysml:068a4463-a96d-4165-a2bc-cadf70a9bc09\" xlink:actuate=\"onRequest\" xlink:href=\"psysml:068a4463-a96d-4165-a2bc-cadf70a9bc09\" xlink:show=\"new\" xlink:title=\"psysml:068a4463-a96d-4165-a2bc-cadf70a9bc09\" xlink:type=\"simple\"><rect fill=\"#FFFFFF\" height=\"338\" id=\"E1\" style=\"stroke: #383838; stroke-width: 1.5;\" width=\"315\" x=\"7\" y=\"7\"/><rect fill=\"#F8F8F8\" height=\"37.9375\" style=\"stroke: #383838; stroke-width: 1.5;\" width=\"315\" x=\"7\" y=\"7\"/><text fill=\"#000000\" font-family=\"sans-serif\" font-size=\"12\" font-style=\"italic\" lengthAdjust=\"spacingAndGlyphs\" textLength=\"77\" x=\"126\" y=\"23.1387\">«action def»</text><text fill=\"#000000\" font-family=\"sans-serif\" font-size=\"12\" lengthAdjust=\"spacingAndGlyphs\" textLength=\"80\" x=\"124.5\" y=\"37.1074\">DecisionTest</text></a><polygon fill=\"#F8F8F8\" points=\"210,67.5,222,79.5,210,91.5,198,79.5,210,67.5\" style=\"stroke: #383838; stroke-width: 1.5;\"/><polygon fill=\"#F8F8F8\" points=\"35,143.5,47,155.5,35,167.5,23,155.5,35,143.5\" style=\"stroke: #383838; stroke-width: 1.5;\"/><g id=\"E1.E4\"><a href=\"psysml:86b53981-b1ee-4c30-93d6-edfc048c3f3e\" target=\"_top\" title=\"psysml:86b53981-b1ee-4c30-93d6-edfc048c3f3e\" xlink:actuate=\"onRequest\" xlink:href=\"psysml:86b53981-b1ee-4c30-93d6-edfc048c3f3e\" xlink:show=\"new\" xlink:title=\"psysml:86b53981-b1ee-4c30-93d6-edfc048c3f3e\" xlink:type=\"simple\"><rect fill=\"#FFFFFF\" height=\"42.9375\" id=\"E4\" rx=\"10\" ry=\"10\" style=\"stroke: #383838; stroke-width: 1.5;\" width=\"60\" x=\"135\" y=\"210\"/><rect fill=\"#F8F8F8\" height=\"37.9375\" rx=\"10\" ry=\"10\" style=\"stroke: #F8F8F8; stroke-width: 1.5;\" width=\"60\" x=\"135\" y=\"210\"/><rect fill=\"#F8F8F8\" height=\"10\" style=\"stroke: #F8F8F8; stroke-width: 1.5;\" width=\"60\" x=\"135\" y=\"237.9375\"/><rect fill=\"none\" height=\"42.9375\" id=\"E4\" rx=\"10\" ry=\"10\" style=\"stroke: #383838; stroke-width: 1.5;\" width=\"60\" x=\"135\" y=\"210\"/><text fill=\"#000000\" font-family=\"sans-serif\" font-size=\"12\" font-style=\"italic\" lengthAdjust=\"spacingAndGlyphs\" textLength=\"53\" x=\"138.5\" y=\"226.1387\">«action»</text><text fill=\"#000000\" font-family=\"sans-serif\" font-size=\"12\" lengthAdjust=\"spacingAndGlyphs\" textLength=\"16\" x=\"157\" y=\"240.1074\">A1</text></a></g><g id=\"E1.E5\"><a href=\"psysml:38b4e12b-2856-48b1-8683-970a7e146d76\" target=\"_top\" title=\"psysml:38b4e12b-2856-48b1-8683-970a7e146d76\" xlink:actuate=\"onRequest\" xlink:href=\"psysml:38b4e12b-2856-48b1-8683-970a7e146d76\" xlink:show=\"new\" xlink:title=\"psysml:38b4e12b-2856-48b1-8683-970a7e146d76\" xlink:type=\"simple\"><rect fill=\"#FFFFFF\" height=\"42.9375\" id=\"E5\" rx=\"10\" ry=\"10\" style=\"stroke: #383838; stroke-width: 1.5;\" width=\"60\" x=\"135\" y=\"286\"/><rect fill=\"#F8F8F8\" height=\"37.9375\" rx=\"10\" ry=\"10\" style=\"stroke: #F8F8F8; stroke-width: 1.5;\" width=\"60\" x=\"135\" y=\"286\"/><rect fill=\"#F8F8F8\" height=\"10\" style=\"stroke: #F8F8F8; stroke-width: 1.5;\" width=\"60\" x=\"135\" y=\"313.9375\"/><rect fill=\"none\" height=\"42.9375\" id=\"E5\" rx=\"10\" ry=\"10\" style=\"stroke: #383838; stroke-width: 1.5;\" width=\"60\" x=\"135\" y=\"286\"/><text fill=\"#000000\" font-family=\"sans-serif\" font-size=\"12\" font-style=\"italic\" lengthAdjust=\"spacingAndGlyphs\" textLength=\"53\" x=\"138.5\" y=\"302.1387\">«action»</text><text fill=\"#000000\" font-family=\"sans-serif\" font-size=\"12\" lengthAdjust=\"spacingAndGlyphs\" textLength=\"16\" x=\"157\" y=\"316.1074\">A2</text></a></g><g id=\"E1.E6\"><a href=\"psysml:3ceea1c4-b769-4e45-b22d-b9b14232dc11\" target=\"_top\" title=\"psysml:3ceea1c4-b769-4e45-b22d-b9b14232dc11\" xlink:actuate=\"onRequest\" xlink:href=\"psysml:3ceea1c4-b769-4e45-b22d-b9b14232dc11\" xlink:show=\"new\" xlink:title=\"psysml:3ceea1c4-b769-4e45-b22d-b9b14232dc11\" xlink:type=\"simple\"><rect fill=\"#FFFFFF\" height=\"42.9375\" id=\"E6\" rx=\"10\" ry=\"10\" style=\"stroke: #383838; stroke-width: 1.5;\" width=\"60\" x=\"63\" y=\"58\"/><rect fill=\"#F8F8F8\" height=\"37.9375\" rx=\"10\" ry=\"10\" style=\"stroke: #F8F8F8; stroke-width: 1.5;\" width=\"60\" x=\"63\" y=\"58\"/><rect fill=\"#F8F8F8\" height=\"10\" style=\"stroke: #F8F8F8; stroke-width: 1.5;\" width=\"60\" x=\"63\" y=\"85.9375\"/><rect fill=\"none\" height=\"42.9375\" id=\"E6\" rx=\"10\" ry=\"10\" style=\"stroke: #383838; stroke-width: 1.5;\" width=\"60\" x=\"63\" y=\"58\"/><text fill=\"#000000\" font-family=\"sans-serif\" font-size=\"12\" font-style=\"italic\" lengthAdjust=\"spacingAndGlyphs\" textLength=\"53\" x=\"66.5\" y=\"74.1387\">«action»</text><text fill=\"#000000\" font-family=\"sans-serif\" font-size=\"12\" lengthAdjust=\"spacingAndGlyphs\" textLength=\"16\" x=\"85\" y=\"88.1074\">A3</text></a></g><g id=\"E1.E7\"><a href=\"psysml:3ceea1c4-b769-4e45-b22d-b9b14232dc11\" target=\"_top\" title=\"psysml:3ceea1c4-b769-4e45-b22d-b9b14232dc11\" xlink:actuate=\"onRequest\" xlink:href=\"psysml:3ceea1c4-b769-4e45-b22d-b9b14232dc11\" xlink:show=\"new\" xlink:title=\"psysml:3ceea1c4-b769-4e45-b22d-b9b14232dc11\" xlink:type=\"simple\"><rect fill=\"#FFFFFF\" height=\"42.9375\" id=\"E7\" rx=\"10\" ry=\"10\" style=\"stroke: #383838; stroke-width: 1.5;\" width=\"60\" x=\"246\" y=\"134\"/><rect fill=\"#F8F8F8\" height=\"37.9375\" rx=\"10\" ry=\"10\" style=\"stroke: #F8F8F8; stroke-width: 1.5;\" width=\"60\" x=\"246\" y=\"134\"/><rect fill=\"#F8F8F8\" height=\"10\" style=\"stroke: #F8F8F8; stroke-width: 1.5;\" width=\"60\" x=\"246\" y=\"161.9375\"/><rect fill=\"none\" height=\"42.9375\" id=\"E7\" rx=\"10\" ry=\"10\" style=\"stroke: #383838; stroke-width: 1.5;\" width=\"60\" x=\"246\" y=\"134\"/><text fill=\"#000000\" font-family=\"sans-serif\" font-size=\"12\" font-style=\"italic\" lengthAdjust=\"spacingAndGlyphs\" textLength=\"53\" x=\"249.5\" y=\"150.1387\">«action»</text><text fill=\"#000000\" font-family=\"sans-serif\" font-size=\"12\" lengthAdjust=\"spacingAndGlyphs\" textLength=\"16\" x=\"268\" y=\"164.1074\">A3</text></a></g><!--MD5=[4d03bb2d0377dc85ccfab60ff574652b]\n",
       "link E2 to E4--><a href=\"psysml:5839aeb0-dd7d-4257-be26-6d697b84d54b\" target=\"_top\" title=\"psysml:5839aeb0-dd7d-4257-be26-6d697b84d54b\" xlink:actuate=\"onRequest\" xlink:href=\"psysml:5839aeb0-dd7d-4257-be26-6d697b84d54b\" xlink:show=\"new\" xlink:title=\"psysml:5839aeb0-dd7d-4257-be26-6d697b84d54b\" xlink:type=\"simple\"><path d=\"M201.97,84.07 C187.22,91.12 156.19,108.44 144,134 C133.21,156.64 141.61,184.91 150.79,204.99 \" fill=\"none\" id=\"E2-&gt;E4\" style=\"stroke: #383838; stroke-width: 1.0;\"/><polygon fill=\"#383838\" points=\"153,209.65,152.7662,199.8039,150.8614,205.1304,145.5349,203.2257,153,209.65\" style=\"stroke: #383838; stroke-width: 1.0;\"/><text fill=\"#000000\" font-family=\"sans-serif\" font-size=\"13\" lengthAdjust=\"spacingAndGlyphs\" textLength=\"55\" x=\"145\" y=\"160.0669\">[x == 1]</text></a><!--MD5=[dcad52bbbca2fe8adc741ce38b45dc12]\n",
       "link E2 to E5--><a href=\"psysml:6472265e-4329-42f9-a73f-b0fdd653d81d\" target=\"_top\" title=\"psysml:6472265e-4329-42f9-a73f-b0fdd653d81d\" xlink:actuate=\"onRequest\" xlink:href=\"psysml:6472265e-4329-42f9-a73f-b0fdd653d81d\" xlink:show=\"new\" xlink:title=\"psysml:6472265e-4329-42f9-a73f-b0fdd653d81d\" xlink:type=\"simple\"><path d=\"M211.03,90.77 C214.33,123.83 224.51,227.37 226,261 C226.33,268.55 230.06,271.63 226,278 C220.01,287.41 210.02,293.76 199.83,298.03 \" fill=\"none\" id=\"E2-&gt;E5\" style=\"stroke: #383838; stroke-width: 1.0;\"/><polygon fill=\"#383838\" points=\"195.15,299.85,204.9881,300.3102,199.8089,298.035,202.0841,292.8559,195.15,299.85\" style=\"stroke: #383838; stroke-width: 1.0;\"/><text fill=\"#000000\" font-family=\"sans-serif\" font-size=\"13\" lengthAdjust=\"spacingAndGlyphs\" textLength=\"44\" x=\"222\" y=\"198.0669\">[x &gt; 1]</text></a><!--MD5=[e3d2a08a9c9236652057e8ed0cbc9b62]\n",
       "link E2 to E7--><a href=\"psysml:3c10905a-0cf4-4572-9b68-27220c544656\" target=\"_top\" title=\"psysml:3c10905a-0cf4-4572-9b68-27220c544656\" xlink:actuate=\"onRequest\" xlink:href=\"psysml:3c10905a-0cf4-4572-9b68-27220c544656\" xlink:show=\"new\" xlink:title=\"psysml:3c10905a-0cf4-4572-9b68-27220c544656\" xlink:type=\"simple\"><path d=\"M210.68,90.95 C211.82,100.93 214.86,115.89 223,126 C227.84,132.02 234.31,136.94 241.06,140.89 \" fill=\"none\" id=\"E2-&gt;E7\" style=\"stroke: #383838; stroke-width: 1.0;\"/><polygon fill=\"#383838\" points=\"245.76,143.47,239.7851,135.6406,241.3738,141.0697,235.9446,142.6585,245.76,143.47\" style=\"stroke: #383838; stroke-width: 1.0;\"/></a><!--MD5=[583832df87f4419a098336a29a52fa00]\n",
       "link E7 to E2--><a href=\"psysml:2ecae6e1-cb24-4407-809b-df9594bdb8fa\" target=\"_top\" title=\"psysml:2ecae6e1-cb24-4407-809b-df9594bdb8fa\" xlink:actuate=\"onRequest\" xlink:href=\"psysml:2ecae6e1-cb24-4407-809b-df9594bdb8fa\" xlink:show=\"new\" xlink:title=\"psysml:2ecae6e1-cb24-4407-809b-df9594bdb8fa\" xlink:type=\"simple\"><path d=\"M257.61,133.88 C245.02,119.76 228.86,101.65 218.98,90.57 \" fill=\"none\" id=\"E7-&gt;E2\" style=\"stroke: #383838; stroke-width: 1.0;\"/><polygon fill=\"#383838\" points=\"215.4,86.56,218.3919,95.9434,218.7227,90.2963,224.3699,90.6271,215.4,86.56\" style=\"stroke: #383838; stroke-width: 1.0;\"/><text fill=\"#000000\" font-family=\"sans-serif\" font-size=\"13\" lengthAdjust=\"spacingAndGlyphs\" textLength=\"44\" x=\"249\" y=\"122.0669\">[x &gt; 0]</text></a><!--MD5=[2720a5a1f2c3fca2055b230370638851]\n",
       "link E2 to E3--><a href=\"psysml:4534ef33-8eda-405a-b2f5-6c95fd446375\" target=\"_top\" title=\"psysml:4534ef33-8eda-405a-b2f5-6c95fd446375\" xlink:actuate=\"onRequest\" xlink:href=\"psysml:4534ef33-8eda-405a-b2f5-6c95fd446375\" xlink:show=\"new\" xlink:title=\"psysml:4534ef33-8eda-405a-b2f5-6c95fd446375\" xlink:type=\"simple\"><path d=\"M201.54,83.16 C188.57,87.22 162.96,95.08 141,101 C126.43,104.93 121.91,103.16 108,109 C84.25,118.97 59.36,136.17 45.65,146.32 \" fill=\"none\" id=\"E2-&gt;E3\" style=\"stroke: #383838; stroke-width: 1.0;\"/><polygon fill=\"#383838\" points=\"41.45,149.47,51.05,147.27,45.45,146.47,46.25,140.87,41.45,149.47\" style=\"stroke: #383838; stroke-width: 1.0;\"/></a><!--MD5=[af87c684e3b0d8be13c1a698a818ef1e]\n",
       "link E3 to E4--><a href=\"psysml:4cb33783-cb85-4624-8a6d-789ab5e27309\" target=\"_top\" title=\"psysml:4cb33783-cb85-4624-8a6d-789ab5e27309\" xlink:actuate=\"onRequest\" xlink:href=\"psysml:4cb33783-cb85-4624-8a6d-789ab5e27309\" xlink:show=\"new\" xlink:title=\"psysml:4cb33783-cb85-4624-8a6d-789ab5e27309\" xlink:type=\"simple\"><path d=\"M40.09,162.69 C48.35,172.37 65.62,191.11 84,202 C93.67,207.73 97.38,206.32 108,210 C115.1,212.46 122.69,215.15 129.93,217.74 \" fill=\"none\" id=\"E3-&gt;E4\" style=\"stroke: #383838; stroke-width: 1.0;\"/><polygon fill=\"#383838\" points=\"134.87,219.52,127.7488,212.7164,130.1636,217.832,125.048,220.2467,134.87,219.52\" style=\"stroke: #383838; stroke-width: 1.0;\"/><text fill=\"#000000\" font-family=\"sans-serif\" font-size=\"13\" lengthAdjust=\"spacingAndGlyphs\" textLength=\"36\" x=\"85\" y=\"198.0669\">[true]</text></a><!--MD5=[0188b64bb0ae78505a997a81836e11e9]\n",
       "link E3 to E5--><a href=\"psysml:7566f218-2e4c-4b1d-8134-f6de9f4cb12f\" target=\"_top\" title=\"psysml:7566f218-2e4c-4b1d-8134-f6de9f4cb12f\" xlink:actuate=\"onRequest\" xlink:href=\"psysml:7566f218-2e4c-4b1d-8134-f6de9f4cb12f\" xlink:show=\"new\" xlink:title=\"psysml:7566f218-2e4c-4b1d-8134-f6de9f4cb12f\" xlink:type=\"simple\"><path d=\"M36.91,165.76 C41.11,184.24 52.71,226.21 76,253 C90.72,269.93 112.16,283.05 130.31,292.05 \" fill=\"none\" id=\"E3-&gt;E5\" style=\"stroke: #383838; stroke-width: 1.0;\"/><polygon fill=\"#383838\" points=\"134.85,294.25,128.4921,286.7283,130.3496,292.0714,125.0064,293.9289,134.85,294.25\" style=\"stroke: #383838; stroke-width: 1.0;\"/><text fill=\"#000000\" font-family=\"sans-serif\" font-size=\"13\" lengthAdjust=\"spacingAndGlyphs\" textLength=\"40\" x=\"77\" y=\"236.0669\">[false]</text></a><!--MD5=[1b7591eae5389033d8d09a9d6721a717]\n",
       "link E4 to E5--><a href=\"psysml:2ec4d8de-ba31-4f08-a58c-ce574f556666\" target=\"_top\" title=\"psysml:2ec4d8de-ba31-4f08-a58c-ce574f556666\" xlink:actuate=\"onRequest\" xlink:href=\"psysml:2ec4d8de-ba31-4f08-a58c-ce574f556666\" xlink:show=\"new\" xlink:title=\"psysml:2ec4d8de-ba31-4f08-a58c-ce574f556666\" xlink:type=\"simple\"><path d=\"M165,253.11 C165,261.69 165,271.75 165,280.8 \" fill=\"none\" id=\"E4-&gt;E5\" style=\"stroke: #383838; stroke-width: 1.0;\"/><polygon fill=\"#383838\" points=\"165,286,169,277,165,281,161,277,165,286\" style=\"stroke: #383838; stroke-width: 1.0;\"/><text fill=\"#000000\" font-family=\"sans-serif\" font-size=\"13\" lengthAdjust=\"spacingAndGlyphs\" textLength=\"55\" x=\"166\" y=\"274.0669\">[x == 0]</text></a><!--MD5=[e446e573ff06c3740e83d3fff2a8db4a]\n",
       "@startuml\r\n",
       "skinparam ranksep 10\r\n",
       "skinparam rectangle {\r\n",
       " backgroundColor<<block>> LightGreen\r\n",
       "}\r\n",
       " skinparam monochrome true\r\n",
       "skinparam classbackgroundcolor white\r\n",
       "skinparam shadowing false\r\n",
       "skinparam wrapWidth 300\r\n",
       "hide circle\r\n",
       "\r\n",
       "rec def \"DecisionTest\" as E1  <<(T,blue) action def>> [[psysml:068a4463-a96d-4165-a2bc-cadf70a9bc09 ]] {\r\n",
       "choice \"test x\" as E2  [[psysml:44ee9e06-5fd9-46bf-b0f8-00dd693073b7 ]] \r\n",
       "choice \"noname\" as E3  [[psysml:eeb68ac4-2ad3-4e0c-9c18-140c63d1edba ]] \r\n",
       "rec usage \"A1\" as E4  <<(T,blue) action>> [[psysml:86b53981-b1ee-4c30-93d6-edfc048c3f3e ]] {\r\n",
       "}\r\n",
       "\r\n",
       "rec usage \"A2\" as E5  <<(T,blue) action>> [[psysml:38b4e12b-2856-48b1-8683-970a7e146d76 ]] {\r\n",
       "}\r\n",
       "\r\n",
       "rec usage \"A3\" as E6  <<(T,blue) action>> [[psysml:3ceea1c4-b769-4e45-b22d-b9b14232dc11 ]] {\r\n",
       "}\r\n",
       "\r\n",
       "rec usage \"A3\" as E7  <<(T,blue) action>> [[psysml:3ceea1c4-b769-4e45-b22d-b9b14232dc11 ]] {\r\n",
       "}\r\n",
       "\r\n",
       "}\r\n",
       "\r\n",
       "E2  - -> E4 [[psysml:5839aeb0-dd7d-4257-be26-6d697b84d54b ]] : [x == 1]\r\n",
       "E2  - -> E5 [[psysml:6472265e-4329-42f9-a73f-b0fdd653d81d ]] : [x > 1]\r\n",
       "E2  - -> E7 [[psysml:3c10905a-0cf4-4572-9b68-27220c544656 ]] \r\n",
       "E2 - -> E3 [[psysml:4534ef33-8eda-405a-b2f5-6c95fd446375 ]] \r\n",
       "E3  - -> E4 [[psysml:4cb33783-cb85-4624-8a6d-789ab5e27309 ]] : [true]\r\n",
       "E3  - -> E5 [[psysml:7566f218-2e4c-4b1d-8134-f6de9f4cb12f ]] : [false]\r\n",
       "E4  - -> E5 [[psysml:2ec4d8de-ba31-4f08-a58c-ce574f556666 ]] : [x == 0]\r\n",
       "E7  - -> E2 [[psysml:2ecae6e1-cb24-4407-809b-df9594bdb8fa ]] : [x > 0]\r\n",
       "@enduml\r\n",
       "\n",
       "PlantUML version 1.2020.13(Sat Jun 13 12:26:38 UTC 2020)\n",
       "(EPL source distribution)\n",
       "Java Runtime: OpenJDK Runtime Environment\n",
       "JVM: OpenJDK 64-Bit Server VM\n",
       "Default Encoding: UTF-8\n",
       "Language: en\n",
       "Country: null\n",
       "--></g></svg>"
      ]
     },
     "execution_count": 5,
     "metadata": {},
     "output_type": "execute_result"
    }
   ],
   "source": [
    "%viz --style=\"COMPTREE\" --view=\"Interconnection\" \"DecisionTest\""
   ]
  },
  {
   "cell_type": "code",
   "execution_count": 6,
   "id": "81436747",
   "metadata": {
    "execution": {
     "iopub.execute_input": "2021-06-30T09:20:27.109464Z",
     "iopub.status.busy": "2021-06-30T09:20:27.108858Z",
     "iopub.status.idle": "2021-06-30T09:20:27.177506Z",
     "shell.execute_reply": "2021-06-30T09:20:27.176524Z"
    }
   },
   "outputs": [
    {
     "data": {
      "image/svg+xml": [
       "<?xml version=\"1.0\" encoding=\"UTF-8\" standalone=\"no\"?><svg xmlns=\"http://www.w3.org/2000/svg\" xmlns:xlink=\"http://www.w3.org/1999/xlink\" contentScriptType=\"application/ecmascript\" contentStyleType=\"text/css\" height=\"356px\" preserveAspectRatio=\"none\" style=\"width:333px;height:356px;\" version=\"1.1\" viewBox=\"0 0 333 356\" width=\"333px\" zoomAndPan=\"magnify\"><defs/><g><!--MD5=[fbc87193dbaf4d95561dea2c320d4a47]\n",
       "cluster E1--><a href=\"psysml:068a4463-a96d-4165-a2bc-cadf70a9bc09\" target=\"_top\" title=\"psysml:068a4463-a96d-4165-a2bc-cadf70a9bc09\" xlink:actuate=\"onRequest\" xlink:href=\"psysml:068a4463-a96d-4165-a2bc-cadf70a9bc09\" xlink:show=\"new\" xlink:title=\"psysml:068a4463-a96d-4165-a2bc-cadf70a9bc09\" xlink:type=\"simple\"><rect fill=\"#FFFFFF\" height=\"338\" id=\"E1\" style=\"stroke: #383838; stroke-width: 1.5;\" width=\"315\" x=\"7\" y=\"7\"/><rect fill=\"#F8F8F8\" height=\"37.9375\" style=\"stroke: #383838; stroke-width: 1.5;\" width=\"315\" x=\"7\" y=\"7\"/><text fill=\"#000000\" font-family=\"sans-serif\" font-size=\"12\" font-style=\"italic\" lengthAdjust=\"spacingAndGlyphs\" textLength=\"77\" x=\"126\" y=\"23.1387\">«action def»</text><text fill=\"#000000\" font-family=\"sans-serif\" font-size=\"12\" lengthAdjust=\"spacingAndGlyphs\" textLength=\"80\" x=\"124.5\" y=\"37.1074\">DecisionTest</text></a><polygon fill=\"#F8F8F8\" points=\"210,67.5,222,79.5,210,91.5,198,79.5,210,67.5\" style=\"stroke: #383838; stroke-width: 1.5;\"/><polygon fill=\"#F8F8F8\" points=\"35,143.5,47,155.5,35,167.5,23,155.5,35,143.5\" style=\"stroke: #383838; stroke-width: 1.5;\"/><g id=\"E1.E4\"><a href=\"psysml:86b53981-b1ee-4c30-93d6-edfc048c3f3e\" target=\"_top\" title=\"psysml:86b53981-b1ee-4c30-93d6-edfc048c3f3e\" xlink:actuate=\"onRequest\" xlink:href=\"psysml:86b53981-b1ee-4c30-93d6-edfc048c3f3e\" xlink:show=\"new\" xlink:title=\"psysml:86b53981-b1ee-4c30-93d6-edfc048c3f3e\" xlink:type=\"simple\"><rect fill=\"#FFFFFF\" height=\"42.9375\" id=\"E4\" rx=\"10\" ry=\"10\" style=\"stroke: #383838; stroke-width: 1.5;\" width=\"60\" x=\"135\" y=\"210\"/><rect fill=\"#F8F8F8\" height=\"37.9375\" rx=\"10\" ry=\"10\" style=\"stroke: #F8F8F8; stroke-width: 1.5;\" width=\"60\" x=\"135\" y=\"210\"/><rect fill=\"#F8F8F8\" height=\"10\" style=\"stroke: #F8F8F8; stroke-width: 1.5;\" width=\"60\" x=\"135\" y=\"237.9375\"/><rect fill=\"none\" height=\"42.9375\" id=\"E4\" rx=\"10\" ry=\"10\" style=\"stroke: #383838; stroke-width: 1.5;\" width=\"60\" x=\"135\" y=\"210\"/><text fill=\"#000000\" font-family=\"sans-serif\" font-size=\"12\" font-style=\"italic\" lengthAdjust=\"spacingAndGlyphs\" textLength=\"53\" x=\"138.5\" y=\"226.1387\">«action»</text><text fill=\"#000000\" font-family=\"sans-serif\" font-size=\"12\" lengthAdjust=\"spacingAndGlyphs\" textLength=\"16\" x=\"157\" y=\"240.1074\">A1</text></a></g><g id=\"E1.E5\"><a href=\"psysml:38b4e12b-2856-48b1-8683-970a7e146d76\" target=\"_top\" title=\"psysml:38b4e12b-2856-48b1-8683-970a7e146d76\" xlink:actuate=\"onRequest\" xlink:href=\"psysml:38b4e12b-2856-48b1-8683-970a7e146d76\" xlink:show=\"new\" xlink:title=\"psysml:38b4e12b-2856-48b1-8683-970a7e146d76\" xlink:type=\"simple\"><rect fill=\"#FFFFFF\" height=\"42.9375\" id=\"E5\" rx=\"10\" ry=\"10\" style=\"stroke: #383838; stroke-width: 1.5;\" width=\"60\" x=\"135\" y=\"286\"/><rect fill=\"#F8F8F8\" height=\"37.9375\" rx=\"10\" ry=\"10\" style=\"stroke: #F8F8F8; stroke-width: 1.5;\" width=\"60\" x=\"135\" y=\"286\"/><rect fill=\"#F8F8F8\" height=\"10\" style=\"stroke: #F8F8F8; stroke-width: 1.5;\" width=\"60\" x=\"135\" y=\"313.9375\"/><rect fill=\"none\" height=\"42.9375\" id=\"E5\" rx=\"10\" ry=\"10\" style=\"stroke: #383838; stroke-width: 1.5;\" width=\"60\" x=\"135\" y=\"286\"/><text fill=\"#000000\" font-family=\"sans-serif\" font-size=\"12\" font-style=\"italic\" lengthAdjust=\"spacingAndGlyphs\" textLength=\"53\" x=\"138.5\" y=\"302.1387\">«action»</text><text fill=\"#000000\" font-family=\"sans-serif\" font-size=\"12\" lengthAdjust=\"spacingAndGlyphs\" textLength=\"16\" x=\"157\" y=\"316.1074\">A2</text></a></g><g id=\"E1.E6\"><a href=\"psysml:3ceea1c4-b769-4e45-b22d-b9b14232dc11\" target=\"_top\" title=\"psysml:3ceea1c4-b769-4e45-b22d-b9b14232dc11\" xlink:actuate=\"onRequest\" xlink:href=\"psysml:3ceea1c4-b769-4e45-b22d-b9b14232dc11\" xlink:show=\"new\" xlink:title=\"psysml:3ceea1c4-b769-4e45-b22d-b9b14232dc11\" xlink:type=\"simple\"><rect fill=\"#FFFFFF\" height=\"42.9375\" id=\"E6\" rx=\"10\" ry=\"10\" style=\"stroke: #383838; stroke-width: 1.5;\" width=\"60\" x=\"63\" y=\"58\"/><rect fill=\"#F8F8F8\" height=\"37.9375\" rx=\"10\" ry=\"10\" style=\"stroke: #F8F8F8; stroke-width: 1.5;\" width=\"60\" x=\"63\" y=\"58\"/><rect fill=\"#F8F8F8\" height=\"10\" style=\"stroke: #F8F8F8; stroke-width: 1.5;\" width=\"60\" x=\"63\" y=\"85.9375\"/><rect fill=\"none\" height=\"42.9375\" id=\"E6\" rx=\"10\" ry=\"10\" style=\"stroke: #383838; stroke-width: 1.5;\" width=\"60\" x=\"63\" y=\"58\"/><text fill=\"#000000\" font-family=\"sans-serif\" font-size=\"12\" font-style=\"italic\" lengthAdjust=\"spacingAndGlyphs\" textLength=\"53\" x=\"66.5\" y=\"74.1387\">«action»</text><text fill=\"#000000\" font-family=\"sans-serif\" font-size=\"12\" lengthAdjust=\"spacingAndGlyphs\" textLength=\"16\" x=\"85\" y=\"88.1074\">A3</text></a></g><g id=\"E1.E7\"><a href=\"psysml:3ceea1c4-b769-4e45-b22d-b9b14232dc11\" target=\"_top\" title=\"psysml:3ceea1c4-b769-4e45-b22d-b9b14232dc11\" xlink:actuate=\"onRequest\" xlink:href=\"psysml:3ceea1c4-b769-4e45-b22d-b9b14232dc11\" xlink:show=\"new\" xlink:title=\"psysml:3ceea1c4-b769-4e45-b22d-b9b14232dc11\" xlink:type=\"simple\"><rect fill=\"#FFFFFF\" height=\"42.9375\" id=\"E7\" rx=\"10\" ry=\"10\" style=\"stroke: #383838; stroke-width: 1.5;\" width=\"60\" x=\"246\" y=\"134\"/><rect fill=\"#F8F8F8\" height=\"37.9375\" rx=\"10\" ry=\"10\" style=\"stroke: #F8F8F8; stroke-width: 1.5;\" width=\"60\" x=\"246\" y=\"134\"/><rect fill=\"#F8F8F8\" height=\"10\" style=\"stroke: #F8F8F8; stroke-width: 1.5;\" width=\"60\" x=\"246\" y=\"161.9375\"/><rect fill=\"none\" height=\"42.9375\" id=\"E7\" rx=\"10\" ry=\"10\" style=\"stroke: #383838; stroke-width: 1.5;\" width=\"60\" x=\"246\" y=\"134\"/><text fill=\"#000000\" font-family=\"sans-serif\" font-size=\"12\" font-style=\"italic\" lengthAdjust=\"spacingAndGlyphs\" textLength=\"53\" x=\"249.5\" y=\"150.1387\">«action»</text><text fill=\"#000000\" font-family=\"sans-serif\" font-size=\"12\" lengthAdjust=\"spacingAndGlyphs\" textLength=\"16\" x=\"268\" y=\"164.1074\">A3</text></a></g><!--MD5=[4d03bb2d0377dc85ccfab60ff574652b]\n",
       "link E2 to E4--><a href=\"psysml:5839aeb0-dd7d-4257-be26-6d697b84d54b\" target=\"_top\" title=\"psysml:5839aeb0-dd7d-4257-be26-6d697b84d54b\" xlink:actuate=\"onRequest\" xlink:href=\"psysml:5839aeb0-dd7d-4257-be26-6d697b84d54b\" xlink:show=\"new\" xlink:title=\"psysml:5839aeb0-dd7d-4257-be26-6d697b84d54b\" xlink:type=\"simple\"><path d=\"M201.97,84.07 C187.22,91.12 156.19,108.44 144,134 C133.21,156.64 141.61,184.91 150.79,204.99 \" fill=\"none\" id=\"E2-&gt;E4\" style=\"stroke: #383838; stroke-width: 1.0; stroke-dasharray: 7.0,7.0;\"/><polygon fill=\"#383838\" points=\"153,209.65,152.7662,199.8039,150.8614,205.1304,145.5349,203.2257,153,209.65\" style=\"stroke: #383838; stroke-width: 1.0;\"/><text fill=\"#000000\" font-family=\"sans-serif\" font-size=\"13\" lengthAdjust=\"spacingAndGlyphs\" textLength=\"55\" x=\"145\" y=\"160.0669\">[x == 1]</text></a><!--MD5=[dcad52bbbca2fe8adc741ce38b45dc12]\n",
       "link E2 to E5--><a href=\"psysml:6472265e-4329-42f9-a73f-b0fdd653d81d\" target=\"_top\" title=\"psysml:6472265e-4329-42f9-a73f-b0fdd653d81d\" xlink:actuate=\"onRequest\" xlink:href=\"psysml:6472265e-4329-42f9-a73f-b0fdd653d81d\" xlink:show=\"new\" xlink:title=\"psysml:6472265e-4329-42f9-a73f-b0fdd653d81d\" xlink:type=\"simple\"><path d=\"M211.03,90.77 C214.33,123.83 224.51,227.37 226,261 C226.33,268.55 230.06,271.63 226,278 C220.01,287.41 210.02,293.76 199.83,298.03 \" fill=\"none\" id=\"E2-&gt;E5\" style=\"stroke: #383838; stroke-width: 1.0; stroke-dasharray: 7.0,7.0;\"/><polygon fill=\"#383838\" points=\"195.15,299.85,204.9881,300.3102,199.8089,298.035,202.0841,292.8559,195.15,299.85\" style=\"stroke: #383838; stroke-width: 1.0;\"/><text fill=\"#000000\" font-family=\"sans-serif\" font-size=\"13\" lengthAdjust=\"spacingAndGlyphs\" textLength=\"44\" x=\"222\" y=\"198.0669\">[x &gt; 1]</text></a><!--MD5=[e3d2a08a9c9236652057e8ed0cbc9b62]\n",
       "link E2 to E7--><a href=\"psysml:3c10905a-0cf4-4572-9b68-27220c544656\" target=\"_top\" title=\"psysml:3c10905a-0cf4-4572-9b68-27220c544656\" xlink:actuate=\"onRequest\" xlink:href=\"psysml:3c10905a-0cf4-4572-9b68-27220c544656\" xlink:show=\"new\" xlink:title=\"psysml:3c10905a-0cf4-4572-9b68-27220c544656\" xlink:type=\"simple\"><path d=\"M210.68,90.95 C211.82,100.93 214.86,115.89 223,126 C227.84,132.02 234.31,136.94 241.06,140.89 \" fill=\"none\" id=\"E2-&gt;E7\" style=\"stroke: #383838; stroke-width: 1.0; stroke-dasharray: 7.0,7.0;\"/><polygon fill=\"#383838\" points=\"245.76,143.47,239.7851,135.6406,241.3738,141.0697,235.9446,142.6585,245.76,143.47\" style=\"stroke: #383838; stroke-width: 1.0;\"/></a><!--MD5=[583832df87f4419a098336a29a52fa00]\n",
       "link E7 to E2--><a href=\"psysml:2ecae6e1-cb24-4407-809b-df9594bdb8fa\" target=\"_top\" title=\"psysml:2ecae6e1-cb24-4407-809b-df9594bdb8fa\" xlink:actuate=\"onRequest\" xlink:href=\"psysml:2ecae6e1-cb24-4407-809b-df9594bdb8fa\" xlink:show=\"new\" xlink:title=\"psysml:2ecae6e1-cb24-4407-809b-df9594bdb8fa\" xlink:type=\"simple\"><path d=\"M257.61,133.88 C245.02,119.76 228.86,101.65 218.98,90.57 \" fill=\"none\" id=\"E7-&gt;E2\" style=\"stroke: #383838; stroke-width: 1.0; stroke-dasharray: 7.0,7.0;\"/><polygon fill=\"#383838\" points=\"215.4,86.56,218.3919,95.9434,218.7227,90.2963,224.3699,90.6271,215.4,86.56\" style=\"stroke: #383838; stroke-width: 1.0;\"/><text fill=\"#000000\" font-family=\"sans-serif\" font-size=\"13\" lengthAdjust=\"spacingAndGlyphs\" textLength=\"44\" x=\"249\" y=\"122.0669\">[x &gt; 0]</text></a><!--MD5=[2720a5a1f2c3fca2055b230370638851]\n",
       "link E2 to E3--><a href=\"psysml:4534ef33-8eda-405a-b2f5-6c95fd446375\" target=\"_top\" title=\"psysml:4534ef33-8eda-405a-b2f5-6c95fd446375\" xlink:actuate=\"onRequest\" xlink:href=\"psysml:4534ef33-8eda-405a-b2f5-6c95fd446375\" xlink:show=\"new\" xlink:title=\"psysml:4534ef33-8eda-405a-b2f5-6c95fd446375\" xlink:type=\"simple\"><path d=\"M201.54,83.16 C188.57,87.22 162.96,95.08 141,101 C126.43,104.93 121.91,103.16 108,109 C84.25,118.97 59.36,136.17 45.65,146.32 \" fill=\"none\" id=\"E2-&gt;E3\" style=\"stroke: #383838; stroke-width: 1.0; stroke-dasharray: 7.0,7.0;\"/><polygon fill=\"#383838\" points=\"41.45,149.47,51.05,147.27,45.45,146.47,46.25,140.87,41.45,149.47\" style=\"stroke: #383838; stroke-width: 1.0;\"/></a><!--MD5=[af87c684e3b0d8be13c1a698a818ef1e]\n",
       "link E3 to E4--><a href=\"psysml:4cb33783-cb85-4624-8a6d-789ab5e27309\" target=\"_top\" title=\"psysml:4cb33783-cb85-4624-8a6d-789ab5e27309\" xlink:actuate=\"onRequest\" xlink:href=\"psysml:4cb33783-cb85-4624-8a6d-789ab5e27309\" xlink:show=\"new\" xlink:title=\"psysml:4cb33783-cb85-4624-8a6d-789ab5e27309\" xlink:type=\"simple\"><path d=\"M40.09,162.69 C48.35,172.37 65.62,191.11 84,202 C93.67,207.73 97.38,206.32 108,210 C115.1,212.46 122.69,215.15 129.93,217.74 \" fill=\"none\" id=\"E3-&gt;E4\" style=\"stroke: #383838; stroke-width: 1.0; stroke-dasharray: 7.0,7.0;\"/><polygon fill=\"#383838\" points=\"134.87,219.52,127.7488,212.7164,130.1636,217.832,125.048,220.2467,134.87,219.52\" style=\"stroke: #383838; stroke-width: 1.0;\"/><text fill=\"#000000\" font-family=\"sans-serif\" font-size=\"13\" lengthAdjust=\"spacingAndGlyphs\" textLength=\"36\" x=\"85\" y=\"198.0669\">[true]</text></a><!--MD5=[0188b64bb0ae78505a997a81836e11e9]\n",
       "link E3 to E5--><a href=\"psysml:7566f218-2e4c-4b1d-8134-f6de9f4cb12f\" target=\"_top\" title=\"psysml:7566f218-2e4c-4b1d-8134-f6de9f4cb12f\" xlink:actuate=\"onRequest\" xlink:href=\"psysml:7566f218-2e4c-4b1d-8134-f6de9f4cb12f\" xlink:show=\"new\" xlink:title=\"psysml:7566f218-2e4c-4b1d-8134-f6de9f4cb12f\" xlink:type=\"simple\"><path d=\"M36.91,165.76 C41.11,184.24 52.71,226.21 76,253 C90.72,269.93 112.16,283.05 130.31,292.05 \" fill=\"none\" id=\"E3-&gt;E5\" style=\"stroke: #383838; stroke-width: 1.0; stroke-dasharray: 7.0,7.0;\"/><polygon fill=\"#383838\" points=\"134.85,294.25,128.4921,286.7283,130.3496,292.0714,125.0064,293.9289,134.85,294.25\" style=\"stroke: #383838; stroke-width: 1.0;\"/><text fill=\"#000000\" font-family=\"sans-serif\" font-size=\"13\" lengthAdjust=\"spacingAndGlyphs\" textLength=\"40\" x=\"77\" y=\"236.0669\">[false]</text></a><!--MD5=[1b7591eae5389033d8d09a9d6721a717]\n",
       "link E4 to E5--><a href=\"psysml:2ec4d8de-ba31-4f08-a58c-ce574f556666\" target=\"_top\" title=\"psysml:2ec4d8de-ba31-4f08-a58c-ce574f556666\" xlink:actuate=\"onRequest\" xlink:href=\"psysml:2ec4d8de-ba31-4f08-a58c-ce574f556666\" xlink:show=\"new\" xlink:title=\"psysml:2ec4d8de-ba31-4f08-a58c-ce574f556666\" xlink:type=\"simple\"><path d=\"M165,253.11 C165,261.69 165,271.75 165,280.8 \" fill=\"none\" id=\"E4-&gt;E5\" style=\"stroke: #383838; stroke-width: 1.0; stroke-dasharray: 7.0,7.0;\"/><polygon fill=\"#383838\" points=\"165,286,169,277,165,281,161,277,165,286\" style=\"stroke: #383838; stroke-width: 1.0;\"/><text fill=\"#000000\" font-family=\"sans-serif\" font-size=\"13\" lengthAdjust=\"spacingAndGlyphs\" textLength=\"55\" x=\"166\" y=\"274.0669\">[x == 0]</text></a><!--MD5=[88cc3f497a05b783edf362a4a5e0b8e5]\n",
       "@startuml\r\n",
       "skinparam ranksep 8\r\n",
       " skinparam monochrome true\r\n",
       "skinparam classbackgroundcolor white\r\n",
       "skinparam shadowing false\r\n",
       "skinparam wrapWidth 300\r\n",
       "hide circle\r\n",
       "\r\n",
       "rec def \"DecisionTest\" as E1  <<(T,blue) action def>> [[psysml:068a4463-a96d-4165-a2bc-cadf70a9bc09 ]] {\r\n",
       "choice \"test x\" as E2  [[psysml:44ee9e06-5fd9-46bf-b0f8-00dd693073b7 ]] \r\n",
       "choice \"noname\" as E3  [[psysml:eeb68ac4-2ad3-4e0c-9c18-140c63d1edba ]] \r\n",
       "rec usage \"A1\" as E4  <<(T,blue) action>> [[psysml:86b53981-b1ee-4c30-93d6-edfc048c3f3e ]] {\r\n",
       "}\r\n",
       "\r\n",
       "rec usage \"A2\" as E5  <<(T,blue) action>> [[psysml:38b4e12b-2856-48b1-8683-970a7e146d76 ]] {\r\n",
       "}\r\n",
       "\r\n",
       "rec usage \"A3\" as E6  <<(T,blue) action>> [[psysml:3ceea1c4-b769-4e45-b22d-b9b14232dc11 ]] {\r\n",
       "}\r\n",
       "\r\n",
       "rec usage \"A3\" as E7  <<(T,blue) action>> [[psysml:3ceea1c4-b769-4e45-b22d-b9b14232dc11 ]] {\r\n",
       "}\r\n",
       "\r\n",
       "}\r\n",
       "\r\n",
       "E2 ..> E4 [[psysml:5839aeb0-dd7d-4257-be26-6d697b84d54b ]] : [x == 1]\r\n",
       "E2 ..> E5 [[psysml:6472265e-4329-42f9-a73f-b0fdd653d81d ]] : [x > 1]\r\n",
       "E2 ..> E7 [[psysml:3c10905a-0cf4-4572-9b68-27220c544656 ]] \r\n",
       "E2 ..> E3 [[psysml:4534ef33-8eda-405a-b2f5-6c95fd446375 ]] \r\n",
       "E3 ..> E4 [[psysml:4cb33783-cb85-4624-8a6d-789ab5e27309 ]] : [true]\r\n",
       "E3 ..> E5 [[psysml:7566f218-2e4c-4b1d-8134-f6de9f4cb12f ]] : [false]\r\n",
       "E4 ..> E5 [[psysml:2ec4d8de-ba31-4f08-a58c-ce574f556666 ]] : [x == 0]\r\n",
       "E7 ..> E2 [[psysml:2ecae6e1-cb24-4407-809b-df9594bdb8fa ]] : [x > 0]\r\n",
       "@enduml\r\n",
       "\n",
       "PlantUML version 1.2020.13(Sat Jun 13 12:26:38 UTC 2020)\n",
       "(EPL source distribution)\n",
       "Java Runtime: OpenJDK Runtime Environment\n",
       "JVM: OpenJDK 64-Bit Server VM\n",
       "Default Encoding: UTF-8\n",
       "Language: en\n",
       "Country: null\n",
       "--></g></svg>"
      ]
     },
     "execution_count": 6,
     "metadata": {},
     "output_type": "execute_result"
    }
   ],
   "source": [
    "%viz --style=\"COMPTREE\" --view=\"Action\" \"DecisionTest\""
   ]
  },
  {
   "cell_type": "code",
   "execution_count": 7,
   "id": "1d22405b",
   "metadata": {
    "execution": {
     "iopub.execute_input": "2021-06-30T09:20:27.229237Z",
     "iopub.status.busy": "2021-06-30T09:20:27.228537Z",
     "iopub.status.idle": "2021-06-30T09:20:27.353568Z",
     "shell.execute_reply": "2021-06-30T09:20:27.352387Z"
    }
   },
   "outputs": [
    {
     "data": {
      "image/svg+xml": [
       "<?xml version=\"1.0\" encoding=\"UTF-8\" standalone=\"no\"?><svg xmlns=\"http://www.w3.org/2000/svg\" xmlns:xlink=\"http://www.w3.org/1999/xlink\" contentScriptType=\"application/ecmascript\" contentStyleType=\"text/css\" height=\"228px\" preserveAspectRatio=\"none\" style=\"width:525px;height:228px;\" version=\"1.1\" viewBox=\"0 0 525 228\" width=\"525px\" zoomAndPan=\"magnify\"><defs/><g><!--MD5=[43c9051892ef23e1a46a86907403d788]\n",
       "class E1--><a href=\"psysml:068a4463-a96d-4165-a2bc-cadf70a9bc09\" target=\"_top\" title=\"psysml:068a4463-a96d-4165-a2bc-cadf70a9bc09\" xlink:actuate=\"onRequest\" xlink:href=\"psysml:068a4463-a96d-4165-a2bc-cadf70a9bc09\" xlink:show=\"new\" xlink:title=\"psysml:068a4463-a96d-4165-a2bc-cadf70a9bc09\" xlink:type=\"simple\"><rect fill=\"#FFFFFF\" height=\"105.1563\" id=\"E1\" style=\"stroke: #383838; stroke-width: 1.5;\" width=\"86\" x=\"308.5\" y=\"7\"/><text fill=\"#000000\" font-family=\"sans-serif\" font-size=\"12\" font-style=\"italic\" lengthAdjust=\"spacingAndGlyphs\" textLength=\"77\" x=\"313\" y=\"23.1387\">«action def»</text><text fill=\"#000000\" font-family=\"sans-serif\" font-size=\"12\" lengthAdjust=\"spacingAndGlyphs\" textLength=\"80\" x=\"311.5\" y=\"37.1074\">DecisionTest</text><line style=\"stroke: #383838; stroke-width: 1.5;\" x1=\"309.5\" x2=\"393.5\" y1=\"44.9375\" y2=\"44.9375\"/><text fill=\"#000000\" font-family=\"sans-serif\" font-size=\"11\" lengthAdjust=\"spacingAndGlyphs\" textLength=\"26\" x=\"314.5\" y=\"75.9526\">x=1;</text><line style=\"stroke: #383838; stroke-width: 1.0;\" x1=\"309.5\" x2=\"324\" y1=\"59.3398\" y2=\"59.3398\"/><text fill=\"#000000\" font-family=\"sans-serif\" font-size=\"11\" lengthAdjust=\"spacingAndGlyphs\" textLength=\"55\" x=\"324\" y=\"62.6479\">attributes</text><line style=\"stroke: #383838; stroke-width: 1.0;\" x1=\"379\" x2=\"393.5\" y1=\"59.3398\" y2=\"59.3398\"/><text fill=\"#000000\" font-family=\"sans-serif\" font-size=\"11\" lengthAdjust=\"spacingAndGlyphs\" textLength=\"8\" x=\"314.5\" y=\"105.562\">S</text><line style=\"stroke: #383838; stroke-width: 1.0;\" x1=\"309.5\" x2=\"321\" y1=\"88.9492\" y2=\"88.9492\"/><text fill=\"#000000\" font-family=\"sans-serif\" font-size=\"11\" lengthAdjust=\"spacingAndGlyphs\" textLength=\"61\" x=\"321\" y=\"92.2573\">transitions</text><line style=\"stroke: #383838; stroke-width: 1.0;\" x1=\"382\" x2=\"393.5\" y1=\"88.9492\" y2=\"88.9492\"/></a><!--MD5=[b4997ac47864f28c2f74865a473b2911]\n",
       "class E2--><a href=\"psysml:44ee9e06-5fd9-46bf-b0f8-00dd693073b7\" target=\"_top\" title=\"psysml:44ee9e06-5fd9-46bf-b0f8-00dd693073b7\" xlink:actuate=\"onRequest\" xlink:href=\"psysml:44ee9e06-5fd9-46bf-b0f8-00dd693073b7\" xlink:show=\"new\" xlink:title=\"psysml:44ee9e06-5fd9-46bf-b0f8-00dd693073b7\" xlink:type=\"simple\"><rect fill=\"#FFFFFF\" height=\"45.9375\" id=\"E2\" rx=\"10\" ry=\"10\" style=\"stroke: #383838; stroke-width: 1.5;\" width=\"101\" x=\"7\" y=\"172\"/><text fill=\"#000000\" font-family=\"sans-serif\" font-size=\"12\" font-style=\"italic\" lengthAdjust=\"spacingAndGlyphs\" textLength=\"99\" x=\"8\" y=\"188.1387\">«decisionNode»</text><text fill=\"#000000\" font-family=\"sans-serif\" font-size=\"12\" lengthAdjust=\"spacingAndGlyphs\" textLength=\"35\" x=\"40\" y=\"202.1074\">test x</text><line style=\"stroke: #383838; stroke-width: 1.5;\" x1=\"8\" x2=\"107\" y1=\"209.9375\" y2=\"209.9375\"/></a><!--MD5=[09b614a08d8cba4a07c9adeb5e0fee81]\n",
       "class E3--><a href=\"psysml:eeb68ac4-2ad3-4e0c-9c18-140c63d1edba\" target=\"_top\" title=\"psysml:eeb68ac4-2ad3-4e0c-9c18-140c63d1edba\" xlink:actuate=\"onRequest\" xlink:href=\"psysml:eeb68ac4-2ad3-4e0c-9c18-140c63d1edba\" xlink:show=\"new\" xlink:title=\"psysml:eeb68ac4-2ad3-4e0c-9c18-140c63d1edba\" xlink:type=\"simple\"><rect fill=\"#FFFFFF\" height=\"45.9375\" id=\"E3\" rx=\"10\" ry=\"10\" style=\"stroke: #383838; stroke-width: 1.5;\" width=\"101\" x=\"143\" y=\"172\"/><text fill=\"#000000\" font-family=\"sans-serif\" font-size=\"12\" font-style=\"italic\" lengthAdjust=\"spacingAndGlyphs\" textLength=\"99\" x=\"144\" y=\"188.1387\">«decisionNode»</text><text fill=\"#000000\" font-family=\"sans-serif\" font-size=\"12\" lengthAdjust=\"spacingAndGlyphs\" text-decoration=\"line-through\" textLength=\"51\" x=\"168\" y=\"202.1074\">noname</text><line style=\"stroke: #383838; stroke-width: 1.5;\" x1=\"144\" x2=\"243\" y1=\"209.9375\" y2=\"209.9375\"/></a><!--MD5=[ebbe1d658d1005bcc118a6aa81145e00]\n",
       "class E4--><a href=\"psysml:86b53981-b1ee-4c30-93d6-edfc048c3f3e\" target=\"_top\" title=\"psysml:86b53981-b1ee-4c30-93d6-edfc048c3f3e\" xlink:actuate=\"onRequest\" xlink:href=\"psysml:86b53981-b1ee-4c30-93d6-edfc048c3f3e\" xlink:show=\"new\" xlink:title=\"psysml:86b53981-b1ee-4c30-93d6-edfc048c3f3e\" xlink:type=\"simple\"><rect fill=\"#FFFFFF\" height=\"45.9375\" id=\"E4\" rx=\"10\" ry=\"10\" style=\"stroke: #383838; stroke-width: 1.5;\" width=\"55\" x=\"279\" y=\"172\"/><text fill=\"#000000\" font-family=\"sans-serif\" font-size=\"12\" font-style=\"italic\" lengthAdjust=\"spacingAndGlyphs\" textLength=\"53\" x=\"280\" y=\"188.1387\">«action»</text><text fill=\"#000000\" font-family=\"sans-serif\" font-size=\"12\" lengthAdjust=\"spacingAndGlyphs\" textLength=\"16\" x=\"298.5\" y=\"202.1074\">A1</text><line style=\"stroke: #383838; stroke-width: 1.5;\" x1=\"280\" x2=\"333\" y1=\"209.9375\" y2=\"209.9375\"/></a><!--MD5=[270fce915f116d4de14055a7c1d9a0f3]\n",
       "class E5--><a href=\"psysml:38b4e12b-2856-48b1-8683-970a7e146d76\" target=\"_top\" title=\"psysml:38b4e12b-2856-48b1-8683-970a7e146d76\" xlink:actuate=\"onRequest\" xlink:href=\"psysml:38b4e12b-2856-48b1-8683-970a7e146d76\" xlink:show=\"new\" xlink:title=\"psysml:38b4e12b-2856-48b1-8683-970a7e146d76\" xlink:type=\"simple\"><rect fill=\"#FFFFFF\" height=\"45.9375\" id=\"E5\" rx=\"10\" ry=\"10\" style=\"stroke: #383838; stroke-width: 1.5;\" width=\"55\" x=\"369\" y=\"172\"/><text fill=\"#000000\" font-family=\"sans-serif\" font-size=\"12\" font-style=\"italic\" lengthAdjust=\"spacingAndGlyphs\" textLength=\"53\" x=\"370\" y=\"188.1387\">«action»</text><text fill=\"#000000\" font-family=\"sans-serif\" font-size=\"12\" lengthAdjust=\"spacingAndGlyphs\" textLength=\"16\" x=\"388.5\" y=\"202.1074\">A2</text><line style=\"stroke: #383838; stroke-width: 1.5;\" x1=\"370\" x2=\"423\" y1=\"209.9375\" y2=\"209.9375\"/></a><!--MD5=[60a26617385b1d2d0262a64233df1f8d]\n",
       "class E6--><a href=\"psysml:3ceea1c4-b769-4e45-b22d-b9b14232dc11\" target=\"_top\" title=\"psysml:3ceea1c4-b769-4e45-b22d-b9b14232dc11\" xlink:actuate=\"onRequest\" xlink:href=\"psysml:3ceea1c4-b769-4e45-b22d-b9b14232dc11\" xlink:show=\"new\" xlink:title=\"psysml:3ceea1c4-b769-4e45-b22d-b9b14232dc11\" xlink:type=\"simple\"><rect fill=\"#FFFFFF\" height=\"45.9375\" id=\"E6\" rx=\"10\" ry=\"10\" style=\"stroke: #383838; stroke-width: 1.5;\" width=\"55\" x=\"459\" y=\"172\"/><text fill=\"#000000\" font-family=\"sans-serif\" font-size=\"12\" font-style=\"italic\" lengthAdjust=\"spacingAndGlyphs\" textLength=\"53\" x=\"460\" y=\"188.1387\">«action»</text><text fill=\"#000000\" font-family=\"sans-serif\" font-size=\"12\" lengthAdjust=\"spacingAndGlyphs\" textLength=\"16\" x=\"478.5\" y=\"202.1074\">A3</text><line style=\"stroke: #383838; stroke-width: 1.5;\" x1=\"460\" x2=\"513\" y1=\"209.9375\" y2=\"209.9375\"/></a><!--MD5=[a523cb2a0b79ecf9065ad8783f96c320]\n",
       "reverse link E1 to E2--><a href=\"psysml:3f40863b-0a66-456a-a380-cfd414bf0804\" target=\"_top\" title=\"psysml:3f40863b-0a66-456a-a380-cfd414bf0804\" xlink:actuate=\"onRequest\" xlink:href=\"psysml:3f40863b-0a66-456a-a380-cfd414bf0804\" xlink:show=\"new\" xlink:title=\"psysml:3f40863b-0a66-456a-a380-cfd414bf0804\" xlink:type=\"simple\"><path d=\"M296.52,85.46 C241.75,110.33 158.47,148.15 106.07,171.95 \" fill=\"none\" id=\"E1&lt;-E2\" style=\"stroke: #383838; stroke-width: 1.0;\"/><polygon fill=\"#383838\" points=\"308.44,80.06,301.323,78.8988,297.5138,85.0217,304.6308,86.1829,308.44,80.06\" style=\"stroke: #383838; stroke-width: 1.0;\"/></a><!--MD5=[5d7b3810b1dd9b5164bea1151b29b665]\n",
       "reverse link E1 to E3--><a href=\"psysml:e2578a6b-d48b-4dd6-b58c-18f093f1f29f\" target=\"_top\" title=\"psysml:e2578a6b-d48b-4dd6-b58c-18f093f1f29f\" xlink:actuate=\"onRequest\" xlink:href=\"psysml:e2578a6b-d48b-4dd6-b58c-18f093f1f29f\" xlink:show=\"new\" xlink:title=\"psysml:e2578a6b-d48b-4dd6-b58c-18f093f1f29f\" xlink:type=\"simple\"><path d=\"M298.08,105.64 C271.7,127.93 241.06,153.82 219.79,171.79 \" fill=\"none\" id=\"E1&lt;-E3\" style=\"stroke: #383838; stroke-width: 1.0;\"/><polygon fill=\"#383838\" points=\"308.33,96.98,301.1646,97.7906,299.1569,104.7165,306.3223,103.906,308.33,96.98\" style=\"stroke: #383838; stroke-width: 1.0;\"/></a><!--MD5=[f2c5c03aa1e8c0ba21c10a05e6444b8e]\n",
       "reverse link E1 to E4--><a href=\"psysml:7583b8d6-81fb-44fd-88ce-ec05d2d7f8f3\" target=\"_top\" title=\"psysml:7583b8d6-81fb-44fd-88ce-ec05d2d7f8f3\" xlink:actuate=\"onRequest\" xlink:href=\"psysml:7583b8d6-81fb-44fd-88ce-ec05d2d7f8f3\" xlink:show=\"new\" xlink:title=\"psysml:7583b8d6-81fb-44fd-88ce-ec05d2d7f8f3\" xlink:type=\"simple\"><path d=\"M329.79,124.91 C324.1,141.78 318.35,158.85 313.98,171.8 \" fill=\"none\" id=\"E1&lt;-E4\" style=\"stroke: #383838; stroke-width: 1.0;\"/><polygon fill=\"#383838\" points=\"334.1,112.11,328.391,116.5154,330.2618,123.4796,335.9708,119.0742,334.1,112.11\" style=\"stroke: #383838; stroke-width: 1.0;\"/></a><!--MD5=[33238bef88d6431a141d8bc8fb12bca0]\n",
       "reverse link E1 to E5--><a href=\"psysml:1b62ef88-94e5-4ba0-8e17-6cec1f6133af\" target=\"_top\" title=\"psysml:1b62ef88-94e5-4ba0-8e17-6cec1f6133af\" xlink:actuate=\"onRequest\" xlink:href=\"psysml:1b62ef88-94e5-4ba0-8e17-6cec1f6133af\" xlink:show=\"new\" xlink:title=\"psysml:1b62ef88-94e5-4ba0-8e17-6cec1f6133af\" xlink:type=\"simple\"><path d=\"M373.21,124.91 C378.9,141.78 384.65,158.85 389.02,171.8 \" fill=\"none\" id=\"E1&lt;-E5\" style=\"stroke: #383838; stroke-width: 1.0;\"/><polygon fill=\"#383838\" points=\"368.9,112.11,367.0292,119.0742,372.7382,123.4796,374.609,116.5154,368.9,112.11\" style=\"stroke: #383838; stroke-width: 1.0;\"/></a><!--MD5=[aca2ef284c2b1b90e17e73bf3f292c07]\n",
       "reverse link E1 to E6--><a href=\"psysml:6d478a35-76b8-45be-be82-2204dec34e47\" target=\"_top\" title=\"psysml:6d478a35-76b8-45be-be82-2204dec34e47\" xlink:actuate=\"onRequest\" xlink:href=\"psysml:6d478a35-76b8-45be-be82-2204dec34e47\" xlink:show=\"new\" xlink:title=\"psysml:6d478a35-76b8-45be-be82-2204dec34e47\" xlink:type=\"simple\"><path d=\"M400.61,121.64 C420.11,141.2 441.74,161.41 458.63,175.48 \" fill=\"none\" id=\"E1&lt;-E6\" style=\"stroke: #383838; stroke-width: 1.0;\"/><polygon fill=\"#383838\" points=\"391.24,112.11,392.5992,119.1919,399.659,120.661,398.2999,113.5792,391.24,112.11\" style=\"stroke: #383838; stroke-width: 1.0;\"/></a><!--MD5=[aca2ef284c2b1b90e17e73bf3f292c07]\n",
       "reverse link E1 to E6--><a href=\"psysml:637c00ed-dc37-460b-98af-77d0acff244f\" target=\"_top\" title=\"psysml:637c00ed-dc37-460b-98af-77d0acff244f\" xlink:actuate=\"onRequest\" xlink:href=\"psysml:637c00ed-dc37-460b-98af-77d0acff244f\" xlink:show=\"new\" xlink:title=\"psysml:637c00ed-dc37-460b-98af-77d0acff244f\" xlink:type=\"simple\"><path d=\"M404.71,100.75 C430.05,124 458.02,152.36 474.29,171.66 \" fill=\"none\" id=\"E1&lt;-E6-1\" style=\"stroke: #383838; stroke-width: 1.0;\"/><polygon fill=\"#FFFFFF\" points=\"394.79,91.8,396.5648,98.7893,403.699,99.8392,401.9243,92.8499,394.79,91.8\" style=\"stroke: #383838; stroke-width: 1.0;\"/></a><!--MD5=[44bf8e48e6ed5a414c084266d097c74e]\n",
       "@startuml\r\n",
       " skinparam monochrome true\r\n",
       "skinparam classbackgroundcolor white\r\n",
       "skinparam shadowing false\r\n",
       "skinparam wrapWidth 300\r\n",
       "hide circle\r\n",
       "\r\n",
       "comp def \"DecisionTest\" as E1  <<(T,blue) action def>> [[psysml:068a4463-a96d-4165-a2bc-cadf70a9bc09 ]] {\r\n",
       "- - attributes - -\r\n",
       "x=1; \r\n",
       "- - transitions - -\r\n",
       "S\r\n",
       "}\r\n",
       "comp usage \"test x\" as E2  <<(T,blue) decisionNode>> [[psysml:44ee9e06-5fd9-46bf-b0f8-00dd693073b7 ]] {\r\n",
       "}\r\n",
       "comp usage \"<s>noname</s>\" as E3  <<(T,blue) decisionNode>> [[psysml:eeb68ac4-2ad3-4e0c-9c18-140c63d1edba ]] {\r\n",
       "}\r\n",
       "comp usage \"A1\" as E4  <<(T,blue) action>> [[psysml:86b53981-b1ee-4c30-93d6-edfc048c3f3e ]] {\r\n",
       "}\r\n",
       "comp usage \"A2\" as E5  <<(T,blue) action>> [[psysml:38b4e12b-2856-48b1-8683-970a7e146d76 ]] {\r\n",
       "}\r\n",
       "comp usage \"A3\" as E6  <<(T,blue) action>> [[psysml:3ceea1c4-b769-4e45-b22d-b9b14232dc11 ]] {\r\n",
       "}\r\n",
       "E1 *- - E2 [[psysml:3f40863b-0a66-456a-a380-cfd414bf0804 ]] \r\n",
       "E1 *- - E3 [[psysml:e2578a6b-d48b-4dd6-b58c-18f093f1f29f ]] \r\n",
       "E1 *- - E4 [[psysml:7583b8d6-81fb-44fd-88ce-ec05d2d7f8f3 ]] \r\n",
       "E1 *- - E5 [[psysml:1b62ef88-94e5-4ba0-8e17-6cec1f6133af ]] \r\n",
       "E1 *- - E6 [[psysml:6d478a35-76b8-45be-be82-2204dec34e47 ]] \r\n",
       "E1 o- - E6 [[psysml:637c00ed-dc37-460b-98af-77d0acff244f ]] \r\n",
       "@enduml\r\n",
       "\n",
       "PlantUML version 1.2020.13(Sat Jun 13 12:26:38 UTC 2020)\n",
       "(EPL source distribution)\n",
       "Java Runtime: OpenJDK Runtime Environment\n",
       "JVM: OpenJDK 64-Bit Server VM\n",
       "Default Encoding: UTF-8\n",
       "Language: en\n",
       "Country: null\n",
       "--></g></svg>"
      ]
     },
     "execution_count": 7,
     "metadata": {},
     "output_type": "execute_result"
    }
   ],
   "source": [
    "%viz --style=\"COMPTREE\" --view=\"Sequence\" \"DecisionTest\""
   ]
  },
  {
   "cell_type": "code",
   "execution_count": 8,
   "id": "a32d25c9",
   "metadata": {
    "execution": {
     "iopub.execute_input": "2021-06-30T09:20:27.412650Z",
     "iopub.status.busy": "2021-06-30T09:20:27.411657Z",
     "iopub.status.idle": "2021-06-30T09:20:27.504809Z",
     "shell.execute_reply": "2021-06-30T09:20:27.503950Z"
    }
   },
   "outputs": [
    {
     "data": {
      "image/svg+xml": [
       "<?xml version=\"1.0\" encoding=\"UTF-8\" standalone=\"no\"?><svg xmlns=\"http://www.w3.org/2000/svg\" xmlns:xlink=\"http://www.w3.org/1999/xlink\" contentScriptType=\"application/ecmascript\" contentStyleType=\"text/css\" height=\"488px\" preserveAspectRatio=\"none\" style=\"width:333px;height:488px;\" version=\"1.1\" viewBox=\"0 0 333 488\" width=\"333px\" zoomAndPan=\"magnify\"><defs/><g><!--MD5=[fbc87193dbaf4d95561dea2c320d4a47]\n",
       "cluster E1--><a href=\"psysml:068a4463-a96d-4165-a2bc-cadf70a9bc09\" target=\"_top\" title=\"psysml:068a4463-a96d-4165-a2bc-cadf70a9bc09\" xlink:actuate=\"onRequest\" xlink:href=\"psysml:068a4463-a96d-4165-a2bc-cadf70a9bc09\" xlink:show=\"new\" xlink:title=\"psysml:068a4463-a96d-4165-a2bc-cadf70a9bc09\" xlink:type=\"simple\"><rect fill=\"#FFFFFF\" height=\"470\" id=\"E1\" style=\"stroke: #383838; stroke-width: 1.5;\" width=\"315\" x=\"7\" y=\"7\"/><rect fill=\"#F8F8F8\" height=\"37.9375\" style=\"stroke: #383838; stroke-width: 1.5;\" width=\"315\" x=\"7\" y=\"7\"/><text fill=\"#000000\" font-family=\"sans-serif\" font-size=\"12\" font-style=\"italic\" lengthAdjust=\"spacingAndGlyphs\" textLength=\"77\" x=\"126\" y=\"23.1387\">«action def»</text><text fill=\"#000000\" font-family=\"sans-serif\" font-size=\"12\" lengthAdjust=\"spacingAndGlyphs\" textLength=\"80\" x=\"124.5\" y=\"37.1074\">DecisionTest</text></a><polygon fill=\"#F8F8F8\" points=\"210,67.5,222,79.5,210,91.5,198,79.5,210,67.5\" style=\"stroke: #383838; stroke-width: 1.5;\"/><polygon fill=\"#F8F8F8\" points=\"35,187.5,47,199.5,35,211.5,23,199.5,35,187.5\" style=\"stroke: #383838; stroke-width: 1.5;\"/><g id=\"E1.E4\"><a href=\"psysml:86b53981-b1ee-4c30-93d6-edfc048c3f3e\" target=\"_top\" title=\"psysml:86b53981-b1ee-4c30-93d6-edfc048c3f3e\" xlink:actuate=\"onRequest\" xlink:href=\"psysml:86b53981-b1ee-4c30-93d6-edfc048c3f3e\" xlink:show=\"new\" xlink:title=\"psysml:86b53981-b1ee-4c30-93d6-edfc048c3f3e\" xlink:type=\"simple\"><rect fill=\"#FFFFFF\" height=\"42.9375\" id=\"E4\" rx=\"10\" ry=\"10\" style=\"stroke: #383838; stroke-width: 1.5;\" width=\"60\" x=\"135\" y=\"298\"/><rect fill=\"#F8F8F8\" height=\"37.9375\" rx=\"10\" ry=\"10\" style=\"stroke: #F8F8F8; stroke-width: 1.5;\" width=\"60\" x=\"135\" y=\"298\"/><rect fill=\"#F8F8F8\" height=\"10\" style=\"stroke: #F8F8F8; stroke-width: 1.5;\" width=\"60\" x=\"135\" y=\"325.9375\"/><rect fill=\"none\" height=\"42.9375\" id=\"E4\" rx=\"10\" ry=\"10\" style=\"stroke: #383838; stroke-width: 1.5;\" width=\"60\" x=\"135\" y=\"298\"/><text fill=\"#000000\" font-family=\"sans-serif\" font-size=\"12\" font-style=\"italic\" lengthAdjust=\"spacingAndGlyphs\" textLength=\"53\" x=\"138.5\" y=\"314.1387\">«action»</text><text fill=\"#000000\" font-family=\"sans-serif\" font-size=\"12\" lengthAdjust=\"spacingAndGlyphs\" textLength=\"16\" x=\"157\" y=\"328.1074\">A1</text></a></g><g id=\"E1.E5\"><a href=\"psysml:38b4e12b-2856-48b1-8683-970a7e146d76\" target=\"_top\" title=\"psysml:38b4e12b-2856-48b1-8683-970a7e146d76\" xlink:actuate=\"onRequest\" xlink:href=\"psysml:38b4e12b-2856-48b1-8683-970a7e146d76\" xlink:show=\"new\" xlink:title=\"psysml:38b4e12b-2856-48b1-8683-970a7e146d76\" xlink:type=\"simple\"><rect fill=\"#FFFFFF\" height=\"42.9375\" id=\"E5\" rx=\"10\" ry=\"10\" style=\"stroke: #383838; stroke-width: 1.5;\" width=\"60\" x=\"135\" y=\"418\"/><rect fill=\"#F8F8F8\" height=\"37.9375\" rx=\"10\" ry=\"10\" style=\"stroke: #F8F8F8; stroke-width: 1.5;\" width=\"60\" x=\"135\" y=\"418\"/><rect fill=\"#F8F8F8\" height=\"10\" style=\"stroke: #F8F8F8; stroke-width: 1.5;\" width=\"60\" x=\"135\" y=\"445.9375\"/><rect fill=\"none\" height=\"42.9375\" id=\"E5\" rx=\"10\" ry=\"10\" style=\"stroke: #383838; stroke-width: 1.5;\" width=\"60\" x=\"135\" y=\"418\"/><text fill=\"#000000\" font-family=\"sans-serif\" font-size=\"12\" font-style=\"italic\" lengthAdjust=\"spacingAndGlyphs\" textLength=\"53\" x=\"138.5\" y=\"434.1387\">«action»</text><text fill=\"#000000\" font-family=\"sans-serif\" font-size=\"12\" lengthAdjust=\"spacingAndGlyphs\" textLength=\"16\" x=\"157\" y=\"448.1074\">A2</text></a></g><g id=\"E1.E6\"><a href=\"psysml:3ceea1c4-b769-4e45-b22d-b9b14232dc11\" target=\"_top\" title=\"psysml:3ceea1c4-b769-4e45-b22d-b9b14232dc11\" xlink:actuate=\"onRequest\" xlink:href=\"psysml:3ceea1c4-b769-4e45-b22d-b9b14232dc11\" xlink:show=\"new\" xlink:title=\"psysml:3ceea1c4-b769-4e45-b22d-b9b14232dc11\" xlink:type=\"simple\"><rect fill=\"#FFFFFF\" height=\"42.9375\" id=\"E6\" rx=\"10\" ry=\"10\" style=\"stroke: #383838; stroke-width: 1.5;\" width=\"60\" x=\"63\" y=\"58\"/><rect fill=\"#F8F8F8\" height=\"37.9375\" rx=\"10\" ry=\"10\" style=\"stroke: #F8F8F8; stroke-width: 1.5;\" width=\"60\" x=\"63\" y=\"58\"/><rect fill=\"#F8F8F8\" height=\"10\" style=\"stroke: #F8F8F8; stroke-width: 1.5;\" width=\"60\" x=\"63\" y=\"85.9375\"/><rect fill=\"none\" height=\"42.9375\" id=\"E6\" rx=\"10\" ry=\"10\" style=\"stroke: #383838; stroke-width: 1.5;\" width=\"60\" x=\"63\" y=\"58\"/><text fill=\"#000000\" font-family=\"sans-serif\" font-size=\"12\" font-style=\"italic\" lengthAdjust=\"spacingAndGlyphs\" textLength=\"53\" x=\"66.5\" y=\"74.1387\">«action»</text><text fill=\"#000000\" font-family=\"sans-serif\" font-size=\"12\" lengthAdjust=\"spacingAndGlyphs\" textLength=\"16\" x=\"85\" y=\"88.1074\">A3</text></a></g><g id=\"E1.E7\"><a href=\"psysml:3ceea1c4-b769-4e45-b22d-b9b14232dc11\" target=\"_top\" title=\"psysml:3ceea1c4-b769-4e45-b22d-b9b14232dc11\" xlink:actuate=\"onRequest\" xlink:href=\"psysml:3ceea1c4-b769-4e45-b22d-b9b14232dc11\" xlink:show=\"new\" xlink:title=\"psysml:3ceea1c4-b769-4e45-b22d-b9b14232dc11\" xlink:type=\"simple\"><rect fill=\"#FFFFFF\" height=\"42.9375\" id=\"E7\" rx=\"10\" ry=\"10\" style=\"stroke: #383838; stroke-width: 1.5;\" width=\"60\" x=\"246\" y=\"178\"/><rect fill=\"#F8F8F8\" height=\"37.9375\" rx=\"10\" ry=\"10\" style=\"stroke: #F8F8F8; stroke-width: 1.5;\" width=\"60\" x=\"246\" y=\"178\"/><rect fill=\"#F8F8F8\" height=\"10\" style=\"stroke: #F8F8F8; stroke-width: 1.5;\" width=\"60\" x=\"246\" y=\"205.9375\"/><rect fill=\"none\" height=\"42.9375\" id=\"E7\" rx=\"10\" ry=\"10\" style=\"stroke: #383838; stroke-width: 1.5;\" width=\"60\" x=\"246\" y=\"178\"/><text fill=\"#000000\" font-family=\"sans-serif\" font-size=\"12\" font-style=\"italic\" lengthAdjust=\"spacingAndGlyphs\" textLength=\"53\" x=\"249.5\" y=\"194.1387\">«action»</text><text fill=\"#000000\" font-family=\"sans-serif\" font-size=\"12\" lengthAdjust=\"spacingAndGlyphs\" textLength=\"16\" x=\"268\" y=\"208.1074\">A3</text></a></g><!--MD5=[4d03bb2d0377dc85ccfab60ff574652b]\n",
       "link E2 to E4--><a href=\"psysml:5839aeb0-dd7d-4257-be26-6d697b84d54b\" target=\"_top\" title=\"psysml:5839aeb0-dd7d-4257-be26-6d697b84d54b\" xlink:actuate=\"onRequest\" xlink:href=\"psysml:5839aeb0-dd7d-4257-be26-6d697b84d54b\" xlink:show=\"new\" xlink:title=\"psysml:5839aeb0-dd7d-4257-be26-6d697b84d54b\" xlink:type=\"simple\"><path d=\"M204.45,86 C190.88,99.89 156.22,138.13 144,178 C132.04,217.01 144.31,264.27 154.48,292.83 \" fill=\"none\" id=\"E2-&gt;E4\" style=\"stroke: #383838; stroke-width: 1.0;\"/><polygon fill=\"#383838\" points=\"156.22,297.6,156.8939,287.7742,154.5067,292.9027,149.3782,290.5155,156.22,297.6\" style=\"stroke: #383838; stroke-width: 1.0;\"/><text fill=\"#000000\" font-family=\"sans-serif\" font-size=\"13\" lengthAdjust=\"spacingAndGlyphs\" textLength=\"55\" x=\"145\" y=\"204.0669\">[x == 1]</text></a><!--MD5=[dcad52bbbca2fe8adc741ce38b45dc12]\n",
       "link E2 to E5--><a href=\"psysml:6472265e-4329-42f9-a73f-b0fdd653d81d\" target=\"_top\" title=\"psysml:6472265e-4329-42f9-a73f-b0fdd653d81d\" xlink:actuate=\"onRequest\" xlink:href=\"psysml:6472265e-4329-42f9-a73f-b0fdd653d81d\" xlink:show=\"new\" xlink:title=\"psysml:6472265e-4329-42f9-a73f-b0fdd653d81d\" xlink:type=\"simple\"><path d=\"M210.67,90.83 C214.08,143.62 229.24,381.12 226,388 C220.27,400.19 209.98,410.45 199.48,418.47 \" fill=\"none\" id=\"E2-&gt;E5\" style=\"stroke: #383838; stroke-width: 1.0;\"/><polygon fill=\"#383838\" points=\"195.29,421.54,204.9073,419.4168,199.3138,418.5721,200.1586,412.9786,195.29,421.54\" style=\"stroke: #383838; stroke-width: 1.0;\"/><text fill=\"#000000\" font-family=\"sans-serif\" font-size=\"13\" lengthAdjust=\"spacingAndGlyphs\" textLength=\"44\" x=\"222\" y=\"264.0669\">[x &gt; 1]</text></a><!--MD5=[e3d2a08a9c9236652057e8ed0cbc9b62]\n",
       "link E2 to E7--><a href=\"psysml:3c10905a-0cf4-4572-9b68-27220c544656\" target=\"_top\" title=\"psysml:3c10905a-0cf4-4572-9b68-27220c544656\" xlink:actuate=\"onRequest\" xlink:href=\"psysml:3c10905a-0cf4-4572-9b68-27220c544656\" xlink:show=\"new\" xlink:title=\"psysml:3c10905a-0cf4-4572-9b68-27220c544656\" xlink:type=\"simple\"><path d=\"M210.1,91.71 C210.67,105.71 213.16,129.99 223,148 C228.29,157.68 236.08,166.6 244.08,174.17 \" fill=\"none\" id=\"E2-&gt;E7\" style=\"stroke: #383838; stroke-width: 1.0;\"/><polygon fill=\"#383838\" points=\"248.01,177.77,244.069,168.744,244.3207,174.3953,238.6694,174.6469,248.01,177.77\" style=\"stroke: #383838; stroke-width: 1.0;\"/></a><!--MD5=[583832df87f4419a098336a29a52fa00]\n",
       "link E7 to E2--><a href=\"psysml:2ecae6e1-cb24-4407-809b-df9594bdb8fa\" target=\"_top\" title=\"psysml:2ecae6e1-cb24-4407-809b-df9594bdb8fa\" xlink:actuate=\"onRequest\" xlink:href=\"psysml:2ecae6e1-cb24-4407-809b-df9594bdb8fa\" xlink:show=\"new\" xlink:title=\"psysml:2ecae6e1-cb24-4407-809b-df9594bdb8fa\" xlink:type=\"simple\"><path d=\"M264.3,177.59 C250.41,152.74 227.7,112.15 216.57,92.25 \" fill=\"none\" id=\"E7-&gt;E2\" style=\"stroke: #383838; stroke-width: 1.0;\"/><polygon fill=\"#383838\" points=\"214.13,87.88,215.0286,97.6878,216.5691,92.2447,222.0122,93.7852,214.13,87.88\" style=\"stroke: #383838; stroke-width: 1.0;\"/><text fill=\"#000000\" font-family=\"sans-serif\" font-size=\"13\" lengthAdjust=\"spacingAndGlyphs\" textLength=\"44\" x=\"247\" y=\"144.0669\">[x &gt; 0]</text></a><!--MD5=[2720a5a1f2c3fca2055b230370638851]\n",
       "link E2 to E3--><a href=\"psysml:4534ef33-8eda-405a-b2f5-6c95fd446375\" target=\"_top\" title=\"psysml:4534ef33-8eda-405a-b2f5-6c95fd446375\" xlink:actuate=\"onRequest\" xlink:href=\"psysml:4534ef33-8eda-405a-b2f5-6c95fd446375\" xlink:show=\"new\" xlink:title=\"psysml:4534ef33-8eda-405a-b2f5-6c95fd446375\" xlink:type=\"simple\"><path d=\"M201.9,83.58 C184.06,90.55 140.39,108.7 108,131 C82.49,148.57 56.88,174.67 43.84,188.71 \" fill=\"none\" id=\"E2-&gt;E3\" style=\"stroke: #383838; stroke-width: 1.0;\"/><polygon fill=\"#383838\" points=\"40.21,192.66,49.2443,188.738,43.5925,188.9778,43.3527,183.326,40.21,192.66\" style=\"stroke: #383838; stroke-width: 1.0;\"/></a><!--MD5=[af87c684e3b0d8be13c1a698a818ef1e]\n",
       "link E3 to E4--><a href=\"psysml:4cb33783-cb85-4624-8a6d-789ab5e27309\" target=\"_top\" title=\"psysml:4cb33783-cb85-4624-8a6d-789ab5e27309\" xlink:actuate=\"onRequest\" xlink:href=\"psysml:4cb33783-cb85-4624-8a6d-789ab5e27309\" xlink:show=\"new\" xlink:title=\"psysml:4cb33783-cb85-4624-8a6d-789ab5e27309\" xlink:type=\"simple\"><path d=\"M39.08,207.91 C46.63,221.15 63.87,249.24 84,268 C97.73,280.8 115.17,292.16 130.35,300.85 \" fill=\"none\" id=\"E3-&gt;E4\" style=\"stroke: #383838; stroke-width: 1.0;\"/><polygon fill=\"#383838\" points=\"134.98,303.46,129.0858,295.5696,130.6187,301.0148,125.1735,302.5477,134.98,303.46\" style=\"stroke: #383838; stroke-width: 1.0;\"/><text fill=\"#000000\" font-family=\"sans-serif\" font-size=\"13\" lengthAdjust=\"spacingAndGlyphs\" textLength=\"36\" x=\"85\" y=\"264.0669\">[true]</text></a><!--MD5=[0188b64bb0ae78505a997a81836e11e9]\n",
       "link E3 to E5--><a href=\"psysml:7566f218-2e4c-4b1d-8134-f6de9f4cb12f\" target=\"_top\" title=\"psysml:7566f218-2e4c-4b1d-8134-f6de9f4cb12f\" xlink:actuate=\"onRequest\" xlink:href=\"psysml:7566f218-2e4c-4b1d-8134-f6de9f4cb12f\" xlink:show=\"new\" xlink:title=\"psysml:7566f218-2e4c-4b1d-8134-f6de9f4cb12f\" xlink:type=\"simple\"><path d=\"M36.3,210.29 C39.76,234.03 50.73,296.03 76,341 C91.89,369.29 117.42,396.1 137.07,414.43 \" fill=\"none\" id=\"E3-&gt;E5\" style=\"stroke: #383838; stroke-width: 1.0;\"/><polygon fill=\"#383838\" points=\"140.92,417.98,137.0155,408.9382,137.2443,414.5904,131.5921,414.8192,140.92,417.98\" style=\"stroke: #383838; stroke-width: 1.0;\"/><text fill=\"#000000\" font-family=\"sans-serif\" font-size=\"13\" lengthAdjust=\"spacingAndGlyphs\" textLength=\"40\" x=\"77\" y=\"324.0669\">[false]</text></a><!--MD5=[1b7591eae5389033d8d09a9d6721a717]\n",
       "link E4 to E5--><a href=\"psysml:2ec4d8de-ba31-4f08-a58c-ce574f556666\" target=\"_top\" title=\"psysml:2ec4d8de-ba31-4f08-a58c-ce574f556666\" xlink:actuate=\"onRequest\" xlink:href=\"psysml:2ec4d8de-ba31-4f08-a58c-ce574f556666\" xlink:show=\"new\" xlink:title=\"psysml:2ec4d8de-ba31-4f08-a58c-ce574f556666\" xlink:type=\"simple\"><path d=\"M165,341.05 C165,360.9 165,391.02 165,412.52 \" fill=\"none\" id=\"E4-&gt;E5\" style=\"stroke: #383838; stroke-width: 1.0;\"/><polygon fill=\"#383838\" points=\"165,417.79,169,408.79,165,412.79,161,408.79,165,417.79\" style=\"stroke: #383838; stroke-width: 1.0;\"/><text fill=\"#000000\" font-family=\"sans-serif\" font-size=\"13\" lengthAdjust=\"spacingAndGlyphs\" textLength=\"55\" x=\"166\" y=\"384.0669\">[x == 0]</text></a><!--MD5=[10623ba52a65cb3182a063def6a40177]\n",
       "@startuml\r\n",
       " skinparam monochrome true\r\n",
       "skinparam classbackgroundcolor white\r\n",
       "skinparam shadowing false\r\n",
       "skinparam wrapWidth 300\r\n",
       "hide circle\r\n",
       "\r\n",
       "rec def \"DecisionTest\" as E1  <<(T,blue) action def>> [[psysml:068a4463-a96d-4165-a2bc-cadf70a9bc09 ]] {\r\n",
       "choice \"test x\" as E2  [[psysml:44ee9e06-5fd9-46bf-b0f8-00dd693073b7 ]] \r\n",
       "choice \"noname\" as E3  [[psysml:eeb68ac4-2ad3-4e0c-9c18-140c63d1edba ]] \r\n",
       "rec usage \"A1\" as E4  <<(T,blue) action>> [[psysml:86b53981-b1ee-4c30-93d6-edfc048c3f3e ]] {\r\n",
       "}\r\n",
       "\r\n",
       "rec usage \"A2\" as E5  <<(T,blue) action>> [[psysml:38b4e12b-2856-48b1-8683-970a7e146d76 ]] {\r\n",
       "}\r\n",
       "\r\n",
       "rec usage \"A3\" as E6  <<(T,blue) action>> [[psysml:3ceea1c4-b769-4e45-b22d-b9b14232dc11 ]] {\r\n",
       "}\r\n",
       "\r\n",
       "rec usage \"A3\" as E7  <<(T,blue) action>> [[psysml:3ceea1c4-b769-4e45-b22d-b9b14232dc11 ]] {\r\n",
       "}\r\n",
       "\r\n",
       "}\r\n",
       "\r\n",
       "E2  - -> E4 [[psysml:5839aeb0-dd7d-4257-be26-6d697b84d54b ]] : [x == 1]\r\n",
       "E2  - -> E5 [[psysml:6472265e-4329-42f9-a73f-b0fdd653d81d ]] : [x > 1]\r\n",
       "E2  - -> E7 [[psysml:3c10905a-0cf4-4572-9b68-27220c544656 ]] \r\n",
       "E2 - -> E3 [[psysml:4534ef33-8eda-405a-b2f5-6c95fd446375 ]] \r\n",
       "E3  - -> E4 [[psysml:4cb33783-cb85-4624-8a6d-789ab5e27309 ]] : [true]\r\n",
       "E3  - -> E5 [[psysml:7566f218-2e4c-4b1d-8134-f6de9f4cb12f ]] : [false]\r\n",
       "E4  - -> E5 [[psysml:2ec4d8de-ba31-4f08-a58c-ce574f556666 ]] : [x == 0]\r\n",
       "E7  - -> E2 [[psysml:2ecae6e1-cb24-4407-809b-df9594bdb8fa ]] : [x > 0]\r\n",
       "@enduml\r\n",
       "\n",
       "PlantUML version 1.2020.13(Sat Jun 13 12:26:38 UTC 2020)\n",
       "(EPL source distribution)\n",
       "Java Runtime: OpenJDK Runtime Environment\n",
       "JVM: OpenJDK 64-Bit Server VM\n",
       "Default Encoding: UTF-8\n",
       "Language: en\n",
       "Country: null\n",
       "--></g></svg>"
      ]
     },
     "execution_count": 8,
     "metadata": {},
     "output_type": "execute_result"
    }
   ],
   "source": [
    "%viz --style=\"COMPTREE\" --view=\"MIXED\" \"DecisionTest\""
   ]
  },
  {
   "cell_type": "code",
   "execution_count": 9,
   "id": "4c579958",
   "metadata": {
    "execution": {
     "iopub.execute_input": "2021-06-30T09:20:27.558702Z",
     "iopub.status.busy": "2021-06-30T09:20:27.557924Z",
     "iopub.status.idle": "2021-06-30T09:20:27.613848Z",
     "shell.execute_reply": "2021-06-30T09:20:27.613517Z"
    }
   },
   "outputs": [
    {
     "data": {
      "image/svg+xml": [
       "<?xml version=\"1.0\" encoding=\"UTF-8\" standalone=\"no\"?><svg xmlns=\"http://www.w3.org/2000/svg\" xmlns:xlink=\"http://www.w3.org/1999/xlink\" contentScriptType=\"application/ecmascript\" contentStyleType=\"text/css\" height=\"488px\" preserveAspectRatio=\"none\" style=\"width:333px;height:488px;\" version=\"1.1\" viewBox=\"0 0 333 488\" width=\"333px\" zoomAndPan=\"magnify\"><defs/><g><!--MD5=[fbc87193dbaf4d95561dea2c320d4a47]\n",
       "cluster E1--><a href=\"psysml:068a4463-a96d-4165-a2bc-cadf70a9bc09\" target=\"_top\" title=\"psysml:068a4463-a96d-4165-a2bc-cadf70a9bc09\" xlink:actuate=\"onRequest\" xlink:href=\"psysml:068a4463-a96d-4165-a2bc-cadf70a9bc09\" xlink:show=\"new\" xlink:title=\"psysml:068a4463-a96d-4165-a2bc-cadf70a9bc09\" xlink:type=\"simple\"><rect fill=\"#FFFFFF\" height=\"470\" id=\"E1\" style=\"stroke: #383838; stroke-width: 1.5;\" width=\"315\" x=\"7\" y=\"7\"/><rect fill=\"#F8F8F8\" height=\"37.9375\" style=\"stroke: #383838; stroke-width: 1.5;\" width=\"315\" x=\"7\" y=\"7\"/><text fill=\"#000000\" font-family=\"sans-serif\" font-size=\"12\" font-style=\"italic\" lengthAdjust=\"spacingAndGlyphs\" textLength=\"77\" x=\"126\" y=\"23.1387\">«action def»</text><text fill=\"#000000\" font-family=\"sans-serif\" font-size=\"12\" lengthAdjust=\"spacingAndGlyphs\" textLength=\"80\" x=\"124.5\" y=\"37.1074\">DecisionTest</text></a><polygon fill=\"#F8F8F8\" points=\"210,67.5,222,79.5,210,91.5,198,79.5,210,67.5\" style=\"stroke: #383838; stroke-width: 1.5;\"/><polygon fill=\"#F8F8F8\" points=\"35,187.5,47,199.5,35,211.5,23,199.5,35,187.5\" style=\"stroke: #383838; stroke-width: 1.5;\"/><g id=\"E1.E4\"><a href=\"psysml:86b53981-b1ee-4c30-93d6-edfc048c3f3e\" target=\"_top\" title=\"psysml:86b53981-b1ee-4c30-93d6-edfc048c3f3e\" xlink:actuate=\"onRequest\" xlink:href=\"psysml:86b53981-b1ee-4c30-93d6-edfc048c3f3e\" xlink:show=\"new\" xlink:title=\"psysml:86b53981-b1ee-4c30-93d6-edfc048c3f3e\" xlink:type=\"simple\"><rect fill=\"#FFFFFF\" height=\"42.9375\" id=\"E4\" rx=\"10\" ry=\"10\" style=\"stroke: #383838; stroke-width: 1.5;\" width=\"60\" x=\"135\" y=\"298\"/><rect fill=\"#F8F8F8\" height=\"37.9375\" rx=\"10\" ry=\"10\" style=\"stroke: #F8F8F8; stroke-width: 1.5;\" width=\"60\" x=\"135\" y=\"298\"/><rect fill=\"#F8F8F8\" height=\"10\" style=\"stroke: #F8F8F8; stroke-width: 1.5;\" width=\"60\" x=\"135\" y=\"325.9375\"/><rect fill=\"none\" height=\"42.9375\" id=\"E4\" rx=\"10\" ry=\"10\" style=\"stroke: #383838; stroke-width: 1.5;\" width=\"60\" x=\"135\" y=\"298\"/><text fill=\"#000000\" font-family=\"sans-serif\" font-size=\"12\" font-style=\"italic\" lengthAdjust=\"spacingAndGlyphs\" textLength=\"53\" x=\"138.5\" y=\"314.1387\">«action»</text><text fill=\"#000000\" font-family=\"sans-serif\" font-size=\"12\" lengthAdjust=\"spacingAndGlyphs\" textLength=\"16\" x=\"157\" y=\"328.1074\">A1</text></a></g><g id=\"E1.E5\"><a href=\"psysml:38b4e12b-2856-48b1-8683-970a7e146d76\" target=\"_top\" title=\"psysml:38b4e12b-2856-48b1-8683-970a7e146d76\" xlink:actuate=\"onRequest\" xlink:href=\"psysml:38b4e12b-2856-48b1-8683-970a7e146d76\" xlink:show=\"new\" xlink:title=\"psysml:38b4e12b-2856-48b1-8683-970a7e146d76\" xlink:type=\"simple\"><rect fill=\"#FFFFFF\" height=\"42.9375\" id=\"E5\" rx=\"10\" ry=\"10\" style=\"stroke: #383838; stroke-width: 1.5;\" width=\"60\" x=\"135\" y=\"418\"/><rect fill=\"#F8F8F8\" height=\"37.9375\" rx=\"10\" ry=\"10\" style=\"stroke: #F8F8F8; stroke-width: 1.5;\" width=\"60\" x=\"135\" y=\"418\"/><rect fill=\"#F8F8F8\" height=\"10\" style=\"stroke: #F8F8F8; stroke-width: 1.5;\" width=\"60\" x=\"135\" y=\"445.9375\"/><rect fill=\"none\" height=\"42.9375\" id=\"E5\" rx=\"10\" ry=\"10\" style=\"stroke: #383838; stroke-width: 1.5;\" width=\"60\" x=\"135\" y=\"418\"/><text fill=\"#000000\" font-family=\"sans-serif\" font-size=\"12\" font-style=\"italic\" lengthAdjust=\"spacingAndGlyphs\" textLength=\"53\" x=\"138.5\" y=\"434.1387\">«action»</text><text fill=\"#000000\" font-family=\"sans-serif\" font-size=\"12\" lengthAdjust=\"spacingAndGlyphs\" textLength=\"16\" x=\"157\" y=\"448.1074\">A2</text></a></g><g id=\"E1.E6\"><a href=\"psysml:3ceea1c4-b769-4e45-b22d-b9b14232dc11\" target=\"_top\" title=\"psysml:3ceea1c4-b769-4e45-b22d-b9b14232dc11\" xlink:actuate=\"onRequest\" xlink:href=\"psysml:3ceea1c4-b769-4e45-b22d-b9b14232dc11\" xlink:show=\"new\" xlink:title=\"psysml:3ceea1c4-b769-4e45-b22d-b9b14232dc11\" xlink:type=\"simple\"><rect fill=\"#FFFFFF\" height=\"42.9375\" id=\"E6\" rx=\"10\" ry=\"10\" style=\"stroke: #383838; stroke-width: 1.5;\" width=\"60\" x=\"63\" y=\"58\"/><rect fill=\"#F8F8F8\" height=\"37.9375\" rx=\"10\" ry=\"10\" style=\"stroke: #F8F8F8; stroke-width: 1.5;\" width=\"60\" x=\"63\" y=\"58\"/><rect fill=\"#F8F8F8\" height=\"10\" style=\"stroke: #F8F8F8; stroke-width: 1.5;\" width=\"60\" x=\"63\" y=\"85.9375\"/><rect fill=\"none\" height=\"42.9375\" id=\"E6\" rx=\"10\" ry=\"10\" style=\"stroke: #383838; stroke-width: 1.5;\" width=\"60\" x=\"63\" y=\"58\"/><text fill=\"#000000\" font-family=\"sans-serif\" font-size=\"12\" font-style=\"italic\" lengthAdjust=\"spacingAndGlyphs\" textLength=\"53\" x=\"66.5\" y=\"74.1387\">«action»</text><text fill=\"#000000\" font-family=\"sans-serif\" font-size=\"12\" lengthAdjust=\"spacingAndGlyphs\" textLength=\"16\" x=\"85\" y=\"88.1074\">A3</text></a></g><g id=\"E1.E7\"><a href=\"psysml:3ceea1c4-b769-4e45-b22d-b9b14232dc11\" target=\"_top\" title=\"psysml:3ceea1c4-b769-4e45-b22d-b9b14232dc11\" xlink:actuate=\"onRequest\" xlink:href=\"psysml:3ceea1c4-b769-4e45-b22d-b9b14232dc11\" xlink:show=\"new\" xlink:title=\"psysml:3ceea1c4-b769-4e45-b22d-b9b14232dc11\" xlink:type=\"simple\"><rect fill=\"#FFFFFF\" height=\"42.9375\" id=\"E7\" rx=\"10\" ry=\"10\" style=\"stroke: #383838; stroke-width: 1.5;\" width=\"60\" x=\"246\" y=\"178\"/><rect fill=\"#F8F8F8\" height=\"37.9375\" rx=\"10\" ry=\"10\" style=\"stroke: #F8F8F8; stroke-width: 1.5;\" width=\"60\" x=\"246\" y=\"178\"/><rect fill=\"#F8F8F8\" height=\"10\" style=\"stroke: #F8F8F8; stroke-width: 1.5;\" width=\"60\" x=\"246\" y=\"205.9375\"/><rect fill=\"none\" height=\"42.9375\" id=\"E7\" rx=\"10\" ry=\"10\" style=\"stroke: #383838; stroke-width: 1.5;\" width=\"60\" x=\"246\" y=\"178\"/><text fill=\"#000000\" font-family=\"sans-serif\" font-size=\"12\" font-style=\"italic\" lengthAdjust=\"spacingAndGlyphs\" textLength=\"53\" x=\"249.5\" y=\"194.1387\">«action»</text><text fill=\"#000000\" font-family=\"sans-serif\" font-size=\"12\" lengthAdjust=\"spacingAndGlyphs\" textLength=\"16\" x=\"268\" y=\"208.1074\">A3</text></a></g><!--MD5=[4d03bb2d0377dc85ccfab60ff574652b]\n",
       "link E2 to E4--><a href=\"psysml:5839aeb0-dd7d-4257-be26-6d697b84d54b\" target=\"_top\" title=\"psysml:5839aeb0-dd7d-4257-be26-6d697b84d54b\" xlink:actuate=\"onRequest\" xlink:href=\"psysml:5839aeb0-dd7d-4257-be26-6d697b84d54b\" xlink:show=\"new\" xlink:title=\"psysml:5839aeb0-dd7d-4257-be26-6d697b84d54b\" xlink:type=\"simple\"><path d=\"M205.46,87.2 C190.55,109.23 144,178 144,178 C144,178 144,221 144,221 C144,221 153.2,263.72 159.42,292.6 \" fill=\"none\" id=\"E2-&gt;E4\" style=\"stroke: #383838; stroke-width: 1.0;\"/><polygon fill=\"#383838\" points=\"160.55,297.82,162.5831,288.1833,159.5063,292.9302,154.7594,289.8533,160.55,297.82\" style=\"stroke: #383838; stroke-width: 1.0;\"/><text fill=\"#000000\" font-family=\"sans-serif\" font-size=\"13\" lengthAdjust=\"spacingAndGlyphs\" textLength=\"55\" x=\"145\" y=\"204.0669\">[x == 1]</text></a><!--MD5=[dcad52bbbca2fe8adc741ce38b45dc12]\n",
       "link E2 to E5--><a href=\"psysml:6472265e-4329-42f9-a73f-b0fdd653d81d\" target=\"_top\" title=\"psysml:6472265e-4329-42f9-a73f-b0fdd653d81d\" xlink:actuate=\"onRequest\" xlink:href=\"psysml:6472265e-4329-42f9-a73f-b0fdd653d81d\" xlink:show=\"new\" xlink:title=\"psysml:6472265e-4329-42f9-a73f-b0fdd653d81d\" xlink:type=\"simple\"><path d=\"M210.59,91.18 C213.48,143.59 226,371 226,371 C226,371 226,388 226,388 C226,388 209.6,401.58 193.8,414.65 \" fill=\"none\" id=\"E2-&gt;E5\" style=\"stroke: #383838; stroke-width: 1.0;\"/><polygon fill=\"#383838\" points=\"189.81,417.96,199.2964,415.3128,193.6651,414.776,194.202,409.1446,189.81,417.96\" style=\"stroke: #383838; stroke-width: 1.0;\"/><text fill=\"#000000\" font-family=\"sans-serif\" font-size=\"13\" lengthAdjust=\"spacingAndGlyphs\" textLength=\"44\" x=\"221\" y=\"264.0669\">[x &gt; 1]</text></a><!--MD5=[e3d2a08a9c9236652057e8ed0cbc9b62]\n",
       "link E2 to E7--><a href=\"psysml:3c10905a-0cf4-4572-9b68-27220c544656\" target=\"_top\" title=\"psysml:3c10905a-0cf4-4572-9b68-27220c544656\" xlink:actuate=\"onRequest\" xlink:href=\"psysml:3c10905a-0cf4-4572-9b68-27220c544656\" xlink:show=\"new\" xlink:title=\"psysml:3c10905a-0cf4-4572-9b68-27220c544656\" xlink:type=\"simple\"><path d=\"M211.81,89.89 C215.38,108.43 223,148 223,148 C223,148 237.01,161.35 250.63,174.32 \" fill=\"none\" id=\"E2-&gt;E7\" style=\"stroke: #383838; stroke-width: 1.0;\"/><polygon fill=\"#383838\" points=\"254.44,177.96,250.6644,168.8636,250.8129,174.5185,245.158,174.667,254.44,177.96\" style=\"stroke: #383838; stroke-width: 1.0;\"/></a><!--MD5=[583832df87f4419a098336a29a52fa00]\n",
       "link E7 to E2--><a href=\"psysml:2ecae6e1-cb24-4407-809b-df9594bdb8fa\" target=\"_top\" title=\"psysml:2ecae6e1-cb24-4407-809b-df9594bdb8fa\" xlink:actuate=\"onRequest\" xlink:href=\"psysml:2ecae6e1-cb24-4407-809b-df9594bdb8fa\" xlink:show=\"new\" xlink:title=\"psysml:2ecae6e1-cb24-4407-809b-df9594bdb8fa\" xlink:type=\"simple\"><path d=\"M264.3,177.59 C250.41,152.74 227.7,112.15 216.57,92.25 \" fill=\"none\" id=\"E7-&gt;E2\" style=\"stroke: #383838; stroke-width: 1.0;\"/><polygon fill=\"#383838\" points=\"214.13,87.88,215.0286,97.6878,216.5691,92.2447,222.0122,93.7852,214.13,87.88\" style=\"stroke: #383838; stroke-width: 1.0;\"/><text fill=\"#000000\" font-family=\"sans-serif\" font-size=\"13\" lengthAdjust=\"spacingAndGlyphs\" textLength=\"44\" x=\"247\" y=\"144.0669\">[x &gt; 0]</text></a><!--MD5=[2720a5a1f2c3fca2055b230370638851]\n",
       "link E2 to E3--><a href=\"psysml:4534ef33-8eda-405a-b2f5-6c95fd446375\" target=\"_top\" title=\"psysml:4534ef33-8eda-405a-b2f5-6c95fd446375\" xlink:actuate=\"onRequest\" xlink:href=\"psysml:4534ef33-8eda-405a-b2f5-6c95fd446375\" xlink:show=\"new\" xlink:title=\"psysml:4534ef33-8eda-405a-b2f5-6c95fd446375\" xlink:type=\"simple\"><path d=\"M202.33,84.3 C178.61,96.04 108,131 108,131 C108,131 64.37,171.35 44.57,189.65 \" fill=\"none\" id=\"E2-&gt;E3\" style=\"stroke: #383838; stroke-width: 1.0;\"/><polygon fill=\"#383838\" points=\"40.73,193.2,50.0512,190.0196,44.3985,189.8027,44.6155,184.15,40.73,193.2\" style=\"stroke: #383838; stroke-width: 1.0;\"/></a><!--MD5=[af87c684e3b0d8be13c1a698a818ef1e]\n",
       "link E3 to E4--><a href=\"psysml:4cb33783-cb85-4624-8a6d-789ab5e27309\" target=\"_top\" title=\"psysml:4cb33783-cb85-4624-8a6d-789ab5e27309\" xlink:actuate=\"onRequest\" xlink:href=\"psysml:4cb33783-cb85-4624-8a6d-789ab5e27309\" xlink:show=\"new\" xlink:title=\"psysml:4cb33783-cb85-4624-8a6d-789ab5e27309\" xlink:type=\"simple\"><path d=\"M39.7,206.97 C51.96,223.87 84,268 84,268 C84,268 108.44,283.24 130.47,296.97 \" fill=\"none\" id=\"E3-&gt;E4\" style=\"stroke: #383838; stroke-width: 1.0;\"/><polygon fill=\"#383838\" points=\"134.84,299.7,129.3157,291.5464,130.596,297.0564,125.0859,298.3368,134.84,299.7\" style=\"stroke: #383838; stroke-width: 1.0;\"/><text fill=\"#000000\" font-family=\"sans-serif\" font-size=\"13\" lengthAdjust=\"spacingAndGlyphs\" textLength=\"36\" x=\"85\" y=\"264.0669\">[true]</text></a><!--MD5=[0188b64bb0ae78505a997a81836e11e9]\n",
       "link E3 to E5--><a href=\"psysml:7566f218-2e4c-4b1d-8134-f6de9f4cb12f\" target=\"_top\" title=\"psysml:7566f218-2e4c-4b1d-8134-f6de9f4cb12f\" xlink:actuate=\"onRequest\" xlink:href=\"psysml:7566f218-2e4c-4b1d-8134-f6de9f4cb12f\" xlink:show=\"new\" xlink:title=\"psysml:7566f218-2e4c-4b1d-8134-f6de9f4cb12f\" xlink:type=\"simple\"><path d=\"M37.56,209.29 C46.54,240.05 76,341 76,341 C76,341 116.3,385.15 142.66,414.03 \" fill=\"none\" id=\"E3-&gt;E5\" style=\"stroke: #383838; stroke-width: 1.0;\"/><polygon fill=\"#383838\" points=\"146.13,417.82,143.0249,408.4734,142.7624,414.1242,137.1116,413.8616,146.13,417.82\" style=\"stroke: #383838; stroke-width: 1.0;\"/><text fill=\"#000000\" font-family=\"sans-serif\" font-size=\"13\" lengthAdjust=\"spacingAndGlyphs\" textLength=\"40\" x=\"77\" y=\"324.0669\">[false]</text></a><!--MD5=[1b7591eae5389033d8d09a9d6721a717]\n",
       "link E4 to E5--><a href=\"psysml:2ec4d8de-ba31-4f08-a58c-ce574f556666\" target=\"_top\" title=\"psysml:2ec4d8de-ba31-4f08-a58c-ce574f556666\" xlink:actuate=\"onRequest\" xlink:href=\"psysml:2ec4d8de-ba31-4f08-a58c-ce574f556666\" xlink:show=\"new\" xlink:title=\"psysml:2ec4d8de-ba31-4f08-a58c-ce574f556666\" xlink:type=\"simple\"><path d=\"M165,341.05 C165,360.9 165,391.02 165,412.52 \" fill=\"none\" id=\"E4-&gt;E5\" style=\"stroke: #383838; stroke-width: 1.0;\"/><polygon fill=\"#383838\" points=\"165,417.79,169,408.79,165,412.79,161,408.79,165,417.79\" style=\"stroke: #383838; stroke-width: 1.0;\"/><text fill=\"#000000\" font-family=\"sans-serif\" font-size=\"13\" lengthAdjust=\"spacingAndGlyphs\" textLength=\"55\" x=\"166\" y=\"384.0669\">[x == 0]</text></a><!--MD5=[8ec56afd17c2d5dd456e284470761e5e]\n",
       "@startuml\r\n",
       "skinparam linetype polyline\r\n",
       "skinparam monochrome true\r\n",
       "skinparam classbackgroundcolor white\r\n",
       "skinparam shadowing false\r\n",
       "skinparam wrapWidth 300\r\n",
       "hide circle\r\n",
       "\r\n",
       "rec def \"DecisionTest\" as E1  <<(T,blue) action def>> [[psysml:068a4463-a96d-4165-a2bc-cadf70a9bc09 ]] {\r\n",
       "choice \"test x\" as E2  [[psysml:44ee9e06-5fd9-46bf-b0f8-00dd693073b7 ]] \r\n",
       "choice \"noname\" as E3  [[psysml:eeb68ac4-2ad3-4e0c-9c18-140c63d1edba ]] \r\n",
       "rec usage \"A1\" as E4  <<(T,blue) action>> [[psysml:86b53981-b1ee-4c30-93d6-edfc048c3f3e ]] {\r\n",
       "}\r\n",
       "\r\n",
       "rec usage \"A2\" as E5  <<(T,blue) action>> [[psysml:38b4e12b-2856-48b1-8683-970a7e146d76 ]] {\r\n",
       "}\r\n",
       "\r\n",
       "rec usage \"A3\" as E6  <<(T,blue) action>> [[psysml:3ceea1c4-b769-4e45-b22d-b9b14232dc11 ]] {\r\n",
       "}\r\n",
       "\r\n",
       "rec usage \"A3\" as E7  <<(T,blue) action>> [[psysml:3ceea1c4-b769-4e45-b22d-b9b14232dc11 ]] {\r\n",
       "}\r\n",
       "\r\n",
       "}\r\n",
       "\r\n",
       "E2  - -> E4 [[psysml:5839aeb0-dd7d-4257-be26-6d697b84d54b ]] : [x == 1]\r\n",
       "E2  - -> E5 [[psysml:6472265e-4329-42f9-a73f-b0fdd653d81d ]] : [x > 1]\r\n",
       "E2  - -> E7 [[psysml:3c10905a-0cf4-4572-9b68-27220c544656 ]] \r\n",
       "E2 - -> E3 [[psysml:4534ef33-8eda-405a-b2f5-6c95fd446375 ]] \r\n",
       "E3  - -> E4 [[psysml:4cb33783-cb85-4624-8a6d-789ab5e27309 ]] : [true]\r\n",
       "E3  - -> E5 [[psysml:7566f218-2e4c-4b1d-8134-f6de9f4cb12f ]] : [false]\r\n",
       "E4  - -> E5 [[psysml:2ec4d8de-ba31-4f08-a58c-ce574f556666 ]] : [x == 0]\r\n",
       "E7  - -> E2 [[psysml:2ecae6e1-cb24-4407-809b-df9594bdb8fa ]] : [x > 0]\r\n",
       "@enduml\r\n",
       "\n",
       "PlantUML version 1.2020.13(Sat Jun 13 12:26:38 UTC 2020)\n",
       "(EPL source distribution)\n",
       "Java Runtime: OpenJDK Runtime Environment\n",
       "JVM: OpenJDK 64-Bit Server VM\n",
       "Default Encoding: UTF-8\n",
       "Language: en\n",
       "Country: null\n",
       "--></g></svg>"
      ]
     },
     "execution_count": 9,
     "metadata": {},
     "output_type": "execute_result"
    }
   ],
   "source": [
    "%viz --style=\"POLYLINE\" --view=\"Default\" \"DecisionTest\""
   ]
  },
  {
   "cell_type": "code",
   "execution_count": 10,
   "id": "4abdf9f0",
   "metadata": {
    "execution": {
     "iopub.execute_input": "2021-06-30T09:20:27.664807Z",
     "iopub.status.busy": "2021-06-30T09:20:27.663967Z",
     "iopub.status.idle": "2021-06-30T09:20:27.757278Z",
     "shell.execute_reply": "2021-06-30T09:20:27.756847Z"
    }
   },
   "outputs": [
    {
     "data": {
      "image/svg+xml": [
       "<?xml version=\"1.0\" encoding=\"UTF-8\" standalone=\"no\"?><svg xmlns=\"http://www.w3.org/2000/svg\" xmlns:xlink=\"http://www.w3.org/1999/xlink\" contentScriptType=\"application/ecmascript\" contentStyleType=\"text/css\" height=\"228px\" preserveAspectRatio=\"none\" style=\"width:525px;height:228px;\" version=\"1.1\" viewBox=\"0 0 525 228\" width=\"525px\" zoomAndPan=\"magnify\"><defs/><g><!--MD5=[43c9051892ef23e1a46a86907403d788]\n",
       "class E1--><a href=\"psysml:068a4463-a96d-4165-a2bc-cadf70a9bc09\" target=\"_top\" title=\"psysml:068a4463-a96d-4165-a2bc-cadf70a9bc09\" xlink:actuate=\"onRequest\" xlink:href=\"psysml:068a4463-a96d-4165-a2bc-cadf70a9bc09\" xlink:show=\"new\" xlink:title=\"psysml:068a4463-a96d-4165-a2bc-cadf70a9bc09\" xlink:type=\"simple\"><rect fill=\"#FFFFFF\" height=\"105.1563\" id=\"E1\" style=\"stroke: #383838; stroke-width: 1.5;\" width=\"86\" x=\"308.5\" y=\"7\"/><text fill=\"#000000\" font-family=\"sans-serif\" font-size=\"12\" font-style=\"italic\" lengthAdjust=\"spacingAndGlyphs\" textLength=\"77\" x=\"313\" y=\"23.1387\">«action def»</text><text fill=\"#000000\" font-family=\"sans-serif\" font-size=\"12\" lengthAdjust=\"spacingAndGlyphs\" textLength=\"80\" x=\"311.5\" y=\"37.1074\">DecisionTest</text><line style=\"stroke: #383838; stroke-width: 1.5;\" x1=\"309.5\" x2=\"393.5\" y1=\"44.9375\" y2=\"44.9375\"/><text fill=\"#000000\" font-family=\"sans-serif\" font-size=\"11\" lengthAdjust=\"spacingAndGlyphs\" textLength=\"26\" x=\"314.5\" y=\"75.9526\">x=1;</text><line style=\"stroke: #383838; stroke-width: 1.0;\" x1=\"309.5\" x2=\"324\" y1=\"59.3398\" y2=\"59.3398\"/><text fill=\"#000000\" font-family=\"sans-serif\" font-size=\"11\" lengthAdjust=\"spacingAndGlyphs\" textLength=\"55\" x=\"324\" y=\"62.6479\">attributes</text><line style=\"stroke: #383838; stroke-width: 1.0;\" x1=\"379\" x2=\"393.5\" y1=\"59.3398\" y2=\"59.3398\"/><text fill=\"#000000\" font-family=\"sans-serif\" font-size=\"11\" lengthAdjust=\"spacingAndGlyphs\" textLength=\"8\" x=\"314.5\" y=\"105.562\">S</text><line style=\"stroke: #383838; stroke-width: 1.0;\" x1=\"309.5\" x2=\"321\" y1=\"88.9492\" y2=\"88.9492\"/><text fill=\"#000000\" font-family=\"sans-serif\" font-size=\"11\" lengthAdjust=\"spacingAndGlyphs\" textLength=\"61\" x=\"321\" y=\"92.2573\">transitions</text><line style=\"stroke: #383838; stroke-width: 1.0;\" x1=\"382\" x2=\"393.5\" y1=\"88.9492\" y2=\"88.9492\"/></a><!--MD5=[b4997ac47864f28c2f74865a473b2911]\n",
       "class E2--><a href=\"psysml:44ee9e06-5fd9-46bf-b0f8-00dd693073b7\" target=\"_top\" title=\"psysml:44ee9e06-5fd9-46bf-b0f8-00dd693073b7\" xlink:actuate=\"onRequest\" xlink:href=\"psysml:44ee9e06-5fd9-46bf-b0f8-00dd693073b7\" xlink:show=\"new\" xlink:title=\"psysml:44ee9e06-5fd9-46bf-b0f8-00dd693073b7\" xlink:type=\"simple\"><rect fill=\"#FFFFFF\" height=\"45.9375\" id=\"E2\" rx=\"10\" ry=\"10\" style=\"stroke: #383838; stroke-width: 1.5;\" width=\"101\" x=\"7\" y=\"172\"/><text fill=\"#000000\" font-family=\"sans-serif\" font-size=\"12\" font-style=\"italic\" lengthAdjust=\"spacingAndGlyphs\" textLength=\"99\" x=\"8\" y=\"188.1387\">«decisionNode»</text><text fill=\"#000000\" font-family=\"sans-serif\" font-size=\"12\" lengthAdjust=\"spacingAndGlyphs\" textLength=\"35\" x=\"40\" y=\"202.1074\">test x</text><line style=\"stroke: #383838; stroke-width: 1.5;\" x1=\"8\" x2=\"107\" y1=\"209.9375\" y2=\"209.9375\"/></a><!--MD5=[09b614a08d8cba4a07c9adeb5e0fee81]\n",
       "class E3--><a href=\"psysml:eeb68ac4-2ad3-4e0c-9c18-140c63d1edba\" target=\"_top\" title=\"psysml:eeb68ac4-2ad3-4e0c-9c18-140c63d1edba\" xlink:actuate=\"onRequest\" xlink:href=\"psysml:eeb68ac4-2ad3-4e0c-9c18-140c63d1edba\" xlink:show=\"new\" xlink:title=\"psysml:eeb68ac4-2ad3-4e0c-9c18-140c63d1edba\" xlink:type=\"simple\"><rect fill=\"#FFFFFF\" height=\"45.9375\" id=\"E3\" rx=\"10\" ry=\"10\" style=\"stroke: #383838; stroke-width: 1.5;\" width=\"101\" x=\"143\" y=\"172\"/><text fill=\"#000000\" font-family=\"sans-serif\" font-size=\"12\" font-style=\"italic\" lengthAdjust=\"spacingAndGlyphs\" textLength=\"99\" x=\"144\" y=\"188.1387\">«decisionNode»</text><text fill=\"#000000\" font-family=\"sans-serif\" font-size=\"12\" lengthAdjust=\"spacingAndGlyphs\" text-decoration=\"line-through\" textLength=\"51\" x=\"168\" y=\"202.1074\">noname</text><line style=\"stroke: #383838; stroke-width: 1.5;\" x1=\"144\" x2=\"243\" y1=\"209.9375\" y2=\"209.9375\"/></a><!--MD5=[ebbe1d658d1005bcc118a6aa81145e00]\n",
       "class E4--><a href=\"psysml:86b53981-b1ee-4c30-93d6-edfc048c3f3e\" target=\"_top\" title=\"psysml:86b53981-b1ee-4c30-93d6-edfc048c3f3e\" xlink:actuate=\"onRequest\" xlink:href=\"psysml:86b53981-b1ee-4c30-93d6-edfc048c3f3e\" xlink:show=\"new\" xlink:title=\"psysml:86b53981-b1ee-4c30-93d6-edfc048c3f3e\" xlink:type=\"simple\"><rect fill=\"#FFFFFF\" height=\"45.9375\" id=\"E4\" rx=\"10\" ry=\"10\" style=\"stroke: #383838; stroke-width: 1.5;\" width=\"55\" x=\"279\" y=\"172\"/><text fill=\"#000000\" font-family=\"sans-serif\" font-size=\"12\" font-style=\"italic\" lengthAdjust=\"spacingAndGlyphs\" textLength=\"53\" x=\"280\" y=\"188.1387\">«action»</text><text fill=\"#000000\" font-family=\"sans-serif\" font-size=\"12\" lengthAdjust=\"spacingAndGlyphs\" textLength=\"16\" x=\"298.5\" y=\"202.1074\">A1</text><line style=\"stroke: #383838; stroke-width: 1.5;\" x1=\"280\" x2=\"333\" y1=\"209.9375\" y2=\"209.9375\"/></a><!--MD5=[270fce915f116d4de14055a7c1d9a0f3]\n",
       "class E5--><a href=\"psysml:38b4e12b-2856-48b1-8683-970a7e146d76\" target=\"_top\" title=\"psysml:38b4e12b-2856-48b1-8683-970a7e146d76\" xlink:actuate=\"onRequest\" xlink:href=\"psysml:38b4e12b-2856-48b1-8683-970a7e146d76\" xlink:show=\"new\" xlink:title=\"psysml:38b4e12b-2856-48b1-8683-970a7e146d76\" xlink:type=\"simple\"><rect fill=\"#FFFFFF\" height=\"45.9375\" id=\"E5\" rx=\"10\" ry=\"10\" style=\"stroke: #383838; stroke-width: 1.5;\" width=\"55\" x=\"369\" y=\"172\"/><text fill=\"#000000\" font-family=\"sans-serif\" font-size=\"12\" font-style=\"italic\" lengthAdjust=\"spacingAndGlyphs\" textLength=\"53\" x=\"370\" y=\"188.1387\">«action»</text><text fill=\"#000000\" font-family=\"sans-serif\" font-size=\"12\" lengthAdjust=\"spacingAndGlyphs\" textLength=\"16\" x=\"388.5\" y=\"202.1074\">A2</text><line style=\"stroke: #383838; stroke-width: 1.5;\" x1=\"370\" x2=\"423\" y1=\"209.9375\" y2=\"209.9375\"/></a><!--MD5=[60a26617385b1d2d0262a64233df1f8d]\n",
       "class E6--><a href=\"psysml:3ceea1c4-b769-4e45-b22d-b9b14232dc11\" target=\"_top\" title=\"psysml:3ceea1c4-b769-4e45-b22d-b9b14232dc11\" xlink:actuate=\"onRequest\" xlink:href=\"psysml:3ceea1c4-b769-4e45-b22d-b9b14232dc11\" xlink:show=\"new\" xlink:title=\"psysml:3ceea1c4-b769-4e45-b22d-b9b14232dc11\" xlink:type=\"simple\"><rect fill=\"#FFFFFF\" height=\"45.9375\" id=\"E6\" rx=\"10\" ry=\"10\" style=\"stroke: #383838; stroke-width: 1.5;\" width=\"55\" x=\"459\" y=\"172\"/><text fill=\"#000000\" font-family=\"sans-serif\" font-size=\"12\" font-style=\"italic\" lengthAdjust=\"spacingAndGlyphs\" textLength=\"53\" x=\"460\" y=\"188.1387\">«action»</text><text fill=\"#000000\" font-family=\"sans-serif\" font-size=\"12\" lengthAdjust=\"spacingAndGlyphs\" textLength=\"16\" x=\"478.5\" y=\"202.1074\">A3</text><line style=\"stroke: #383838; stroke-width: 1.5;\" x1=\"460\" x2=\"513\" y1=\"209.9375\" y2=\"209.9375\"/></a><!--MD5=[a523cb2a0b79ecf9065ad8783f96c320]\n",
       "reverse link E1 to E2--><a href=\"psysml:3f40863b-0a66-456a-a380-cfd414bf0804\" target=\"_top\" title=\"psysml:3f40863b-0a66-456a-a380-cfd414bf0804\" xlink:actuate=\"onRequest\" xlink:href=\"psysml:3f40863b-0a66-456a-a380-cfd414bf0804\" xlink:show=\"new\" xlink:title=\"psysml:3f40863b-0a66-456a-a380-cfd414bf0804\" xlink:type=\"simple\"><path d=\"M296.52,85.46 C241.75,110.33 158.47,148.15 106.07,171.95 \" fill=\"none\" id=\"E1&lt;-E2\" style=\"stroke: #383838; stroke-width: 1.0;\"/><polygon fill=\"#383838\" points=\"308.44,80.06,301.323,78.8988,297.5138,85.0217,304.6308,86.1829,308.44,80.06\" style=\"stroke: #383838; stroke-width: 1.0;\"/></a><!--MD5=[5d7b3810b1dd9b5164bea1151b29b665]\n",
       "reverse link E1 to E3--><a href=\"psysml:e2578a6b-d48b-4dd6-b58c-18f093f1f29f\" target=\"_top\" title=\"psysml:e2578a6b-d48b-4dd6-b58c-18f093f1f29f\" xlink:actuate=\"onRequest\" xlink:href=\"psysml:e2578a6b-d48b-4dd6-b58c-18f093f1f29f\" xlink:show=\"new\" xlink:title=\"psysml:e2578a6b-d48b-4dd6-b58c-18f093f1f29f\" xlink:type=\"simple\"><path d=\"M298.08,105.64 C271.7,127.93 241.06,153.82 219.79,171.79 \" fill=\"none\" id=\"E1&lt;-E3\" style=\"stroke: #383838; stroke-width: 1.0;\"/><polygon fill=\"#383838\" points=\"308.33,96.98,301.1646,97.7906,299.1569,104.7165,306.3223,103.906,308.33,96.98\" style=\"stroke: #383838; stroke-width: 1.0;\"/></a><!--MD5=[f2c5c03aa1e8c0ba21c10a05e6444b8e]\n",
       "reverse link E1 to E4--><a href=\"psysml:7583b8d6-81fb-44fd-88ce-ec05d2d7f8f3\" target=\"_top\" title=\"psysml:7583b8d6-81fb-44fd-88ce-ec05d2d7f8f3\" xlink:actuate=\"onRequest\" xlink:href=\"psysml:7583b8d6-81fb-44fd-88ce-ec05d2d7f8f3\" xlink:show=\"new\" xlink:title=\"psysml:7583b8d6-81fb-44fd-88ce-ec05d2d7f8f3\" xlink:type=\"simple\"><path d=\"M329.79,124.91 C324.1,141.78 318.35,158.85 313.98,171.8 \" fill=\"none\" id=\"E1&lt;-E4\" style=\"stroke: #383838; stroke-width: 1.0;\"/><polygon fill=\"#383838\" points=\"334.1,112.11,328.391,116.5154,330.2618,123.4796,335.9708,119.0742,334.1,112.11\" style=\"stroke: #383838; stroke-width: 1.0;\"/></a><!--MD5=[33238bef88d6431a141d8bc8fb12bca0]\n",
       "reverse link E1 to E5--><a href=\"psysml:1b62ef88-94e5-4ba0-8e17-6cec1f6133af\" target=\"_top\" title=\"psysml:1b62ef88-94e5-4ba0-8e17-6cec1f6133af\" xlink:actuate=\"onRequest\" xlink:href=\"psysml:1b62ef88-94e5-4ba0-8e17-6cec1f6133af\" xlink:show=\"new\" xlink:title=\"psysml:1b62ef88-94e5-4ba0-8e17-6cec1f6133af\" xlink:type=\"simple\"><path d=\"M373.21,124.91 C378.9,141.78 384.65,158.85 389.02,171.8 \" fill=\"none\" id=\"E1&lt;-E5\" style=\"stroke: #383838; stroke-width: 1.0;\"/><polygon fill=\"#383838\" points=\"368.9,112.11,367.0292,119.0742,372.7382,123.4796,374.609,116.5154,368.9,112.11\" style=\"stroke: #383838; stroke-width: 1.0;\"/></a><!--MD5=[aca2ef284c2b1b90e17e73bf3f292c07]\n",
       "reverse link E1 to E6--><a href=\"psysml:6d478a35-76b8-45be-be82-2204dec34e47\" target=\"_top\" title=\"psysml:6d478a35-76b8-45be-be82-2204dec34e47\" xlink:actuate=\"onRequest\" xlink:href=\"psysml:6d478a35-76b8-45be-be82-2204dec34e47\" xlink:show=\"new\" xlink:title=\"psysml:6d478a35-76b8-45be-be82-2204dec34e47\" xlink:type=\"simple\"><path d=\"M400.61,121.64 C420.11,141.2 441.74,161.41 458.63,175.48 \" fill=\"none\" id=\"E1&lt;-E6\" style=\"stroke: #383838; stroke-width: 1.0;\"/><polygon fill=\"#383838\" points=\"391.24,112.11,392.5992,119.1919,399.659,120.661,398.2999,113.5792,391.24,112.11\" style=\"stroke: #383838; stroke-width: 1.0;\"/></a><!--MD5=[aca2ef284c2b1b90e17e73bf3f292c07]\n",
       "reverse link E1 to E6--><a href=\"psysml:637c00ed-dc37-460b-98af-77d0acff244f\" target=\"_top\" title=\"psysml:637c00ed-dc37-460b-98af-77d0acff244f\" xlink:actuate=\"onRequest\" xlink:href=\"psysml:637c00ed-dc37-460b-98af-77d0acff244f\" xlink:show=\"new\" xlink:title=\"psysml:637c00ed-dc37-460b-98af-77d0acff244f\" xlink:type=\"simple\"><path d=\"M404.71,100.75 C430.05,124 458.02,152.36 474.29,171.66 \" fill=\"none\" id=\"E1&lt;-E6-1\" style=\"stroke: #383838; stroke-width: 1.0;\"/><polygon fill=\"#FFFFFF\" points=\"394.79,91.8,396.5648,98.7893,403.699,99.8392,401.9243,92.8499,394.79,91.8\" style=\"stroke: #383838; stroke-width: 1.0;\"/></a><!--MD5=[7aebe5f6786ef060abc03b7949a88c86]\n",
       "@startuml\r\n",
       "skinparam linetype polyline\r\n",
       "skinparam monochrome true\r\n",
       "skinparam classbackgroundcolor white\r\n",
       "skinparam shadowing false\r\n",
       "skinparam wrapWidth 300\r\n",
       "hide circle\r\n",
       "\r\n",
       "comp def \"DecisionTest\" as E1  <<(T,blue) action def>> [[psysml:068a4463-a96d-4165-a2bc-cadf70a9bc09 ]] {\r\n",
       "- - attributes - -\r\n",
       "x=1; \r\n",
       "- - transitions - -\r\n",
       "S\r\n",
       "}\r\n",
       "comp usage \"test x\" as E2  <<(T,blue) decisionNode>> [[psysml:44ee9e06-5fd9-46bf-b0f8-00dd693073b7 ]] {\r\n",
       "}\r\n",
       "comp usage \"<s>noname</s>\" as E3  <<(T,blue) decisionNode>> [[psysml:eeb68ac4-2ad3-4e0c-9c18-140c63d1edba ]] {\r\n",
       "}\r\n",
       "comp usage \"A1\" as E4  <<(T,blue) action>> [[psysml:86b53981-b1ee-4c30-93d6-edfc048c3f3e ]] {\r\n",
       "}\r\n",
       "comp usage \"A2\" as E5  <<(T,blue) action>> [[psysml:38b4e12b-2856-48b1-8683-970a7e146d76 ]] {\r\n",
       "}\r\n",
       "comp usage \"A3\" as E6  <<(T,blue) action>> [[psysml:3ceea1c4-b769-4e45-b22d-b9b14232dc11 ]] {\r\n",
       "}\r\n",
       "E1 *- - E2 [[psysml:3f40863b-0a66-456a-a380-cfd414bf0804 ]] \r\n",
       "E1 *- - E3 [[psysml:e2578a6b-d48b-4dd6-b58c-18f093f1f29f ]] \r\n",
       "E1 *- - E4 [[psysml:7583b8d6-81fb-44fd-88ce-ec05d2d7f8f3 ]] \r\n",
       "E1 *- - E5 [[psysml:1b62ef88-94e5-4ba0-8e17-6cec1f6133af ]] \r\n",
       "E1 *- - E6 [[psysml:6d478a35-76b8-45be-be82-2204dec34e47 ]] \r\n",
       "E1 o- - E6 [[psysml:637c00ed-dc37-460b-98af-77d0acff244f ]] \r\n",
       "@enduml\r\n",
       "\n",
       "PlantUML version 1.2020.13(Sat Jun 13 12:26:38 UTC 2020)\n",
       "(EPL source distribution)\n",
       "Java Runtime: OpenJDK Runtime Environment\n",
       "JVM: OpenJDK 64-Bit Server VM\n",
       "Default Encoding: UTF-8\n",
       "Language: en\n",
       "Country: null\n",
       "--></g></svg>"
      ]
     },
     "execution_count": 10,
     "metadata": {},
     "output_type": "execute_result"
    }
   ],
   "source": [
    "%viz --style=\"POLYLINE\" --view=\"Tree\" \"DecisionTest\""
   ]
  },
  {
   "cell_type": "code",
   "execution_count": 11,
   "id": "5d2766ba",
   "metadata": {
    "execution": {
     "iopub.execute_input": "2021-06-30T09:20:27.811093Z",
     "iopub.status.busy": "2021-06-30T09:20:27.810257Z",
     "iopub.status.idle": "2021-06-30T09:20:27.818072Z",
     "shell.execute_reply": "2021-06-30T09:20:27.817712Z"
    }
   },
   "outputs": [
    {
     "data": {
      "image/svg+xml": [
       "<?xml version=\"1.0\" encoding=\"UTF-8\" standalone=\"no\"?><svg xmlns=\"http://www.w3.org/2000/svg\" xmlns:xlink=\"http://www.w3.org/1999/xlink\" contentScriptType=\"application/ecmascript\" contentStyleType=\"text/css\" height=\"12px\" preserveAspectRatio=\"none\" style=\"width:12px;height:12px;\" version=\"1.1\" viewBox=\"0 0 12 12\" width=\"12px\" zoomAndPan=\"magnify\"><defs/><g><!--MD5=[896ac0e7a515d8dd7765a661cb4ee08b]\n",
       "@startuml\r\n",
       "skinparam linetype polyline\r\n",
       "skinparam monochrome true\r\n",
       "skinparam classbackgroundcolor white\r\n",
       "skinparam shadowing false\r\n",
       "skinparam wrapWidth 300\r\n",
       "hide circle\r\n",
       "\r\n",
       "@enduml\r\n",
       "\n",
       "PlantUML version 1.2020.13(Sat Jun 13 12:26:38 UTC 2020)\n",
       "(EPL source distribution)\n",
       "Java Runtime: OpenJDK Runtime Environment\n",
       "JVM: OpenJDK 64-Bit Server VM\n",
       "Default Encoding: UTF-8\n",
       "Language: en\n",
       "Country: null\n",
       "--></g></svg>"
      ]
     },
     "execution_count": 11,
     "metadata": {},
     "output_type": "execute_result"
    }
   ],
   "source": [
    "%viz --style=\"POLYLINE\" --view=\"State\" \"DecisionTest\""
   ]
  },
  {
   "cell_type": "code",
   "execution_count": 12,
   "id": "969a0ffc",
   "metadata": {
    "execution": {
     "iopub.execute_input": "2021-06-30T09:20:27.872579Z",
     "iopub.status.busy": "2021-06-30T09:20:27.872127Z",
     "iopub.status.idle": "2021-06-30T09:20:27.923558Z",
     "shell.execute_reply": "2021-06-30T09:20:27.923157Z"
    }
   },
   "outputs": [
    {
     "data": {
      "image/svg+xml": [
       "<?xml version=\"1.0\" encoding=\"UTF-8\" standalone=\"no\"?><svg xmlns=\"http://www.w3.org/2000/svg\" xmlns:xlink=\"http://www.w3.org/1999/xlink\" contentScriptType=\"application/ecmascript\" contentStyleType=\"text/css\" height=\"356px\" preserveAspectRatio=\"none\" style=\"width:333px;height:356px;\" version=\"1.1\" viewBox=\"0 0 333 356\" width=\"333px\" zoomAndPan=\"magnify\"><defs/><g><!--MD5=[fbc87193dbaf4d95561dea2c320d4a47]\n",
       "cluster E1--><a href=\"psysml:068a4463-a96d-4165-a2bc-cadf70a9bc09\" target=\"_top\" title=\"psysml:068a4463-a96d-4165-a2bc-cadf70a9bc09\" xlink:actuate=\"onRequest\" xlink:href=\"psysml:068a4463-a96d-4165-a2bc-cadf70a9bc09\" xlink:show=\"new\" xlink:title=\"psysml:068a4463-a96d-4165-a2bc-cadf70a9bc09\" xlink:type=\"simple\"><rect fill=\"#FFFFFF\" height=\"338\" id=\"E1\" style=\"stroke: #383838; stroke-width: 1.5;\" width=\"315\" x=\"7\" y=\"7\"/><rect fill=\"#F8F8F8\" height=\"37.9375\" style=\"stroke: #383838; stroke-width: 1.5;\" width=\"315\" x=\"7\" y=\"7\"/><text fill=\"#000000\" font-family=\"sans-serif\" font-size=\"12\" font-style=\"italic\" lengthAdjust=\"spacingAndGlyphs\" textLength=\"77\" x=\"126\" y=\"23.1387\">«action def»</text><text fill=\"#000000\" font-family=\"sans-serif\" font-size=\"12\" lengthAdjust=\"spacingAndGlyphs\" textLength=\"80\" x=\"124.5\" y=\"37.1074\">DecisionTest</text></a><polygon fill=\"#F8F8F8\" points=\"210,67.5,222,79.5,210,91.5,198,79.5,210,67.5\" style=\"stroke: #383838; stroke-width: 1.5;\"/><polygon fill=\"#F8F8F8\" points=\"35,143.5,47,155.5,35,167.5,23,155.5,35,143.5\" style=\"stroke: #383838; stroke-width: 1.5;\"/><g id=\"E1.E4\"><a href=\"psysml:86b53981-b1ee-4c30-93d6-edfc048c3f3e\" target=\"_top\" title=\"psysml:86b53981-b1ee-4c30-93d6-edfc048c3f3e\" xlink:actuate=\"onRequest\" xlink:href=\"psysml:86b53981-b1ee-4c30-93d6-edfc048c3f3e\" xlink:show=\"new\" xlink:title=\"psysml:86b53981-b1ee-4c30-93d6-edfc048c3f3e\" xlink:type=\"simple\"><rect fill=\"#FFFFFF\" height=\"42.9375\" id=\"E4\" rx=\"10\" ry=\"10\" style=\"stroke: #383838; stroke-width: 1.5;\" width=\"60\" x=\"135\" y=\"210\"/><rect fill=\"#F8F8F8\" height=\"37.9375\" rx=\"10\" ry=\"10\" style=\"stroke: #F8F8F8; stroke-width: 1.5;\" width=\"60\" x=\"135\" y=\"210\"/><rect fill=\"#F8F8F8\" height=\"10\" style=\"stroke: #F8F8F8; stroke-width: 1.5;\" width=\"60\" x=\"135\" y=\"237.9375\"/><rect fill=\"none\" height=\"42.9375\" id=\"E4\" rx=\"10\" ry=\"10\" style=\"stroke: #383838; stroke-width: 1.5;\" width=\"60\" x=\"135\" y=\"210\"/><text fill=\"#000000\" font-family=\"sans-serif\" font-size=\"12\" font-style=\"italic\" lengthAdjust=\"spacingAndGlyphs\" textLength=\"53\" x=\"138.5\" y=\"226.1387\">«action»</text><text fill=\"#000000\" font-family=\"sans-serif\" font-size=\"12\" lengthAdjust=\"spacingAndGlyphs\" textLength=\"16\" x=\"157\" y=\"240.1074\">A1</text></a></g><g id=\"E1.E5\"><a href=\"psysml:38b4e12b-2856-48b1-8683-970a7e146d76\" target=\"_top\" title=\"psysml:38b4e12b-2856-48b1-8683-970a7e146d76\" xlink:actuate=\"onRequest\" xlink:href=\"psysml:38b4e12b-2856-48b1-8683-970a7e146d76\" xlink:show=\"new\" xlink:title=\"psysml:38b4e12b-2856-48b1-8683-970a7e146d76\" xlink:type=\"simple\"><rect fill=\"#FFFFFF\" height=\"42.9375\" id=\"E5\" rx=\"10\" ry=\"10\" style=\"stroke: #383838; stroke-width: 1.5;\" width=\"60\" x=\"135\" y=\"286\"/><rect fill=\"#F8F8F8\" height=\"37.9375\" rx=\"10\" ry=\"10\" style=\"stroke: #F8F8F8; stroke-width: 1.5;\" width=\"60\" x=\"135\" y=\"286\"/><rect fill=\"#F8F8F8\" height=\"10\" style=\"stroke: #F8F8F8; stroke-width: 1.5;\" width=\"60\" x=\"135\" y=\"313.9375\"/><rect fill=\"none\" height=\"42.9375\" id=\"E5\" rx=\"10\" ry=\"10\" style=\"stroke: #383838; stroke-width: 1.5;\" width=\"60\" x=\"135\" y=\"286\"/><text fill=\"#000000\" font-family=\"sans-serif\" font-size=\"12\" font-style=\"italic\" lengthAdjust=\"spacingAndGlyphs\" textLength=\"53\" x=\"138.5\" y=\"302.1387\">«action»</text><text fill=\"#000000\" font-family=\"sans-serif\" font-size=\"12\" lengthAdjust=\"spacingAndGlyphs\" textLength=\"16\" x=\"157\" y=\"316.1074\">A2</text></a></g><g id=\"E1.E6\"><a href=\"psysml:3ceea1c4-b769-4e45-b22d-b9b14232dc11\" target=\"_top\" title=\"psysml:3ceea1c4-b769-4e45-b22d-b9b14232dc11\" xlink:actuate=\"onRequest\" xlink:href=\"psysml:3ceea1c4-b769-4e45-b22d-b9b14232dc11\" xlink:show=\"new\" xlink:title=\"psysml:3ceea1c4-b769-4e45-b22d-b9b14232dc11\" xlink:type=\"simple\"><rect fill=\"#FFFFFF\" height=\"42.9375\" id=\"E6\" rx=\"10\" ry=\"10\" style=\"stroke: #383838; stroke-width: 1.5;\" width=\"60\" x=\"63\" y=\"58\"/><rect fill=\"#F8F8F8\" height=\"37.9375\" rx=\"10\" ry=\"10\" style=\"stroke: #F8F8F8; stroke-width: 1.5;\" width=\"60\" x=\"63\" y=\"58\"/><rect fill=\"#F8F8F8\" height=\"10\" style=\"stroke: #F8F8F8; stroke-width: 1.5;\" width=\"60\" x=\"63\" y=\"85.9375\"/><rect fill=\"none\" height=\"42.9375\" id=\"E6\" rx=\"10\" ry=\"10\" style=\"stroke: #383838; stroke-width: 1.5;\" width=\"60\" x=\"63\" y=\"58\"/><text fill=\"#000000\" font-family=\"sans-serif\" font-size=\"12\" font-style=\"italic\" lengthAdjust=\"spacingAndGlyphs\" textLength=\"53\" x=\"66.5\" y=\"74.1387\">«action»</text><text fill=\"#000000\" font-family=\"sans-serif\" font-size=\"12\" lengthAdjust=\"spacingAndGlyphs\" textLength=\"16\" x=\"85\" y=\"88.1074\">A3</text></a></g><g id=\"E1.E7\"><a href=\"psysml:3ceea1c4-b769-4e45-b22d-b9b14232dc11\" target=\"_top\" title=\"psysml:3ceea1c4-b769-4e45-b22d-b9b14232dc11\" xlink:actuate=\"onRequest\" xlink:href=\"psysml:3ceea1c4-b769-4e45-b22d-b9b14232dc11\" xlink:show=\"new\" xlink:title=\"psysml:3ceea1c4-b769-4e45-b22d-b9b14232dc11\" xlink:type=\"simple\"><rect fill=\"#FFFFFF\" height=\"42.9375\" id=\"E7\" rx=\"10\" ry=\"10\" style=\"stroke: #383838; stroke-width: 1.5;\" width=\"60\" x=\"246\" y=\"134\"/><rect fill=\"#F8F8F8\" height=\"37.9375\" rx=\"10\" ry=\"10\" style=\"stroke: #F8F8F8; stroke-width: 1.5;\" width=\"60\" x=\"246\" y=\"134\"/><rect fill=\"#F8F8F8\" height=\"10\" style=\"stroke: #F8F8F8; stroke-width: 1.5;\" width=\"60\" x=\"246\" y=\"161.9375\"/><rect fill=\"none\" height=\"42.9375\" id=\"E7\" rx=\"10\" ry=\"10\" style=\"stroke: #383838; stroke-width: 1.5;\" width=\"60\" x=\"246\" y=\"134\"/><text fill=\"#000000\" font-family=\"sans-serif\" font-size=\"12\" font-style=\"italic\" lengthAdjust=\"spacingAndGlyphs\" textLength=\"53\" x=\"249.5\" y=\"150.1387\">«action»</text><text fill=\"#000000\" font-family=\"sans-serif\" font-size=\"12\" lengthAdjust=\"spacingAndGlyphs\" textLength=\"16\" x=\"268\" y=\"164.1074\">A3</text></a></g><!--MD5=[4d03bb2d0377dc85ccfab60ff574652b]\n",
       "link E2 to E4--><a href=\"psysml:5839aeb0-dd7d-4257-be26-6d697b84d54b\" target=\"_top\" title=\"psysml:5839aeb0-dd7d-4257-be26-6d697b84d54b\" xlink:actuate=\"onRequest\" xlink:href=\"psysml:5839aeb0-dd7d-4257-be26-6d697b84d54b\" xlink:show=\"new\" xlink:title=\"psysml:5839aeb0-dd7d-4257-be26-6d697b84d54b\" xlink:type=\"simple\"><path d=\"M203.91,85.44 C187.57,98.68 144,134 144,134 C144,134 144,177 144,177 C144,177 149.67,191.43 155.11,205.31 \" fill=\"none\" id=\"E2-&gt;E4\" style=\"stroke: #383838; stroke-width: 1.0;\"/><polygon fill=\"#383838\" points=\"156.94,209.97,157.374,200.1307,155.1126,205.3159,149.9274,203.0545,156.94,209.97\" style=\"stroke: #383838; stroke-width: 1.0;\"/><text fill=\"#000000\" font-family=\"sans-serif\" font-size=\"13\" lengthAdjust=\"spacingAndGlyphs\" textLength=\"55\" x=\"145\" y=\"160.0669\">[x == 1]</text></a><!--MD5=[dcad52bbbca2fe8adc741ce38b45dc12]\n",
       "link E2 to E5--><a href=\"psysml:6472265e-4329-42f9-a73f-b0fdd653d81d\" target=\"_top\" title=\"psysml:6472265e-4329-42f9-a73f-b0fdd653d81d\" xlink:actuate=\"onRequest\" xlink:href=\"psysml:6472265e-4329-42f9-a73f-b0fdd653d81d\" xlink:show=\"new\" xlink:title=\"psysml:6472265e-4329-42f9-a73f-b0fdd653d81d\" xlink:type=\"simple\"><path d=\"M210.91,90.72 C214.29,128.91 226,261 226,261 C226,261 226,278 226,278 C226,278 213.5,283.84 199.81,290.24 \" fill=\"none\" id=\"E2-&gt;E5\" style=\"stroke: #383838; stroke-width: 1.0;\"/><polygon fill=\"#383838\" points=\"195.14,292.42,204.9874,292.2489,199.6731,290.3103,201.6118,284.996,195.14,292.42\" style=\"stroke: #383838; stroke-width: 1.0;\"/><text fill=\"#000000\" font-family=\"sans-serif\" font-size=\"13\" lengthAdjust=\"spacingAndGlyphs\" textLength=\"44\" x=\"221\" y=\"198.0669\">[x &gt; 1]</text></a><!--MD5=[e3d2a08a9c9236652057e8ed0cbc9b62]\n",
       "link E2 to E7--><a href=\"psysml:3c10905a-0cf4-4572-9b68-27220c544656\" target=\"_top\" title=\"psysml:3c10905a-0cf4-4572-9b68-27220c544656\" xlink:actuate=\"onRequest\" xlink:href=\"psysml:3c10905a-0cf4-4572-9b68-27220c544656\" xlink:show=\"new\" xlink:title=\"psysml:3c10905a-0cf4-4572-9b68-27220c544656\" xlink:type=\"simple\"><path d=\"M212.51,89.27 C216.28,102.49 223,126 223,126 C223,126 231.18,130.4 241.12,135.74 \" fill=\"none\" id=\"E2-&gt;E7\" style=\"stroke: #383838; stroke-width: 1.0;\"/><polygon fill=\"#383838\" points=\"245.78,138.25,239.7446,130.467,241.3754,135.8838,235.9586,137.5145,245.78,138.25\" style=\"stroke: #383838; stroke-width: 1.0;\"/></a><!--MD5=[583832df87f4419a098336a29a52fa00]\n",
       "link E7 to E2--><a href=\"psysml:2ecae6e1-cb24-4407-809b-df9594bdb8fa\" target=\"_top\" title=\"psysml:2ecae6e1-cb24-4407-809b-df9594bdb8fa\" xlink:actuate=\"onRequest\" xlink:href=\"psysml:2ecae6e1-cb24-4407-809b-df9594bdb8fa\" xlink:show=\"new\" xlink:title=\"psysml:2ecae6e1-cb24-4407-809b-df9594bdb8fa\" xlink:type=\"simple\"><path d=\"M257.61,133.88 C245.02,119.76 228.86,101.65 218.98,90.57 \" fill=\"none\" id=\"E7-&gt;E2\" style=\"stroke: #383838; stroke-width: 1.0;\"/><polygon fill=\"#383838\" points=\"215.4,86.56,218.3919,95.9434,218.7227,90.2963,224.3699,90.6271,215.4,86.56\" style=\"stroke: #383838; stroke-width: 1.0;\"/><text fill=\"#000000\" font-family=\"sans-serif\" font-size=\"13\" lengthAdjust=\"spacingAndGlyphs\" textLength=\"44\" x=\"249\" y=\"122.0669\">[x &gt; 0]</text></a><!--MD5=[2720a5a1f2c3fca2055b230370638851]\n",
       "link E2 to E3--><a href=\"psysml:4534ef33-8eda-405a-b2f5-6c95fd446375\" target=\"_top\" title=\"psysml:4534ef33-8eda-405a-b2f5-6c95fd446375\" xlink:actuate=\"onRequest\" xlink:href=\"psysml:4534ef33-8eda-405a-b2f5-6c95fd446375\" xlink:show=\"new\" xlink:title=\"psysml:4534ef33-8eda-405a-b2f5-6c95fd446375\" xlink:type=\"simple\"><path d=\"M201.26,83.1 C182.69,88.61 141,101 141,101 C141,101 108,109 108,109 C108,109 66.75,134.71 46.26,147.48 \" fill=\"none\" id=\"E2-&gt;E3\" style=\"stroke: #383838; stroke-width: 1.0;\"/><polygon fill=\"#383838\" points=\"42,150.14,51.7541,148.7768,46.244,147.4964,47.5243,141.9864,42,150.14\" style=\"stroke: #383838; stroke-width: 1.0;\"/></a><!--MD5=[af87c684e3b0d8be13c1a698a818ef1e]\n",
       "link E3 to E4--><a href=\"psysml:4cb33783-cb85-4624-8a6d-789ab5e27309\" target=\"_top\" title=\"psysml:4cb33783-cb85-4624-8a6d-789ab5e27309\" xlink:actuate=\"onRequest\" xlink:href=\"psysml:4cb33783-cb85-4624-8a6d-789ab5e27309\" xlink:show=\"new\" xlink:title=\"psysml:4cb33783-cb85-4624-8a6d-789ab5e27309\" xlink:type=\"simple\"><path d=\"M41.01,162.08 C54.09,174.23 84,202 84,202 C84,202 108,210 108,210 C108,210 118.26,213.69 130.07,217.94 \" fill=\"none\" id=\"E3-&gt;E4\" style=\"stroke: #383838; stroke-width: 1.0;\"/><polygon fill=\"#383838\" points=\"134.83,219.65,127.7272,212.8273,130.1281,217.9493,125.0061,220.3503,134.83,219.65\" style=\"stroke: #383838; stroke-width: 1.0;\"/><text fill=\"#000000\" font-family=\"sans-serif\" font-size=\"13\" lengthAdjust=\"spacingAndGlyphs\" textLength=\"36\" x=\"85\" y=\"198.0669\">[true]</text></a><!--MD5=[0188b64bb0ae78505a997a81836e11e9]\n",
       "link E3 to E5--><a href=\"psysml:7566f218-2e4c-4b1d-8134-f6de9f4cb12f\" target=\"_top\" title=\"psysml:7566f218-2e4c-4b1d-8134-f6de9f4cb12f\" xlink:actuate=\"onRequest\" xlink:href=\"psysml:7566f218-2e4c-4b1d-8134-f6de9f4cb12f\" xlink:show=\"new\" xlink:title=\"psysml:7566f218-2e4c-4b1d-8134-f6de9f4cb12f\" xlink:type=\"simple\"><path d=\"M38.36,164.4 C48.15,187.44 76,253 76,253 C76,253 105.53,270.75 130.57,285.81 \" fill=\"none\" id=\"E3-&gt;E5\" style=\"stroke: #383838; stroke-width: 1.0;\"/><polygon fill=\"#383838\" points=\"134.87,288.39,129.2105,280.3296,130.5825,285.8175,125.0946,287.1895,134.87,288.39\" style=\"stroke: #383838; stroke-width: 1.0;\"/><text fill=\"#000000\" font-family=\"sans-serif\" font-size=\"13\" lengthAdjust=\"spacingAndGlyphs\" textLength=\"40\" x=\"77\" y=\"236.0669\">[false]</text></a><!--MD5=[1b7591eae5389033d8d09a9d6721a717]\n",
       "link E4 to E5--><a href=\"psysml:2ec4d8de-ba31-4f08-a58c-ce574f556666\" target=\"_top\" title=\"psysml:2ec4d8de-ba31-4f08-a58c-ce574f556666\" xlink:actuate=\"onRequest\" xlink:href=\"psysml:2ec4d8de-ba31-4f08-a58c-ce574f556666\" xlink:show=\"new\" xlink:title=\"psysml:2ec4d8de-ba31-4f08-a58c-ce574f556666\" xlink:type=\"simple\"><path d=\"M165,253.11 C165,261.69 165,271.75 165,280.8 \" fill=\"none\" id=\"E4-&gt;E5\" style=\"stroke: #383838; stroke-width: 1.0;\"/><polygon fill=\"#383838\" points=\"165,286,169,277,165,281,161,277,165,286\" style=\"stroke: #383838; stroke-width: 1.0;\"/><text fill=\"#000000\" font-family=\"sans-serif\" font-size=\"13\" lengthAdjust=\"spacingAndGlyphs\" textLength=\"55\" x=\"166\" y=\"274.0669\">[x == 0]</text></a><!--MD5=[695ba27f8f3ea05df159794b932228cd]\n",
       "@startuml\r\n",
       "skinparam ranksep 10\r\n",
       "skinparam rectangle {\r\n",
       " backgroundColor<<block>> LightGreen\r\n",
       "}\r\n",
       "skinparam linetype polyline\r\n",
       "skinparam monochrome true\r\n",
       "skinparam classbackgroundcolor white\r\n",
       "skinparam shadowing false\r\n",
       "skinparam wrapWidth 300\r\n",
       "hide circle\r\n",
       "\r\n",
       "rec def \"DecisionTest\" as E1  <<(T,blue) action def>> [[psysml:068a4463-a96d-4165-a2bc-cadf70a9bc09 ]] {\r\n",
       "choice \"test x\" as E2  [[psysml:44ee9e06-5fd9-46bf-b0f8-00dd693073b7 ]] \r\n",
       "choice \"noname\" as E3  [[psysml:eeb68ac4-2ad3-4e0c-9c18-140c63d1edba ]] \r\n",
       "rec usage \"A1\" as E4  <<(T,blue) action>> [[psysml:86b53981-b1ee-4c30-93d6-edfc048c3f3e ]] {\r\n",
       "}\r\n",
       "\r\n",
       "rec usage \"A2\" as E5  <<(T,blue) action>> [[psysml:38b4e12b-2856-48b1-8683-970a7e146d76 ]] {\r\n",
       "}\r\n",
       "\r\n",
       "rec usage \"A3\" as E6  <<(T,blue) action>> [[psysml:3ceea1c4-b769-4e45-b22d-b9b14232dc11 ]] {\r\n",
       "}\r\n",
       "\r\n",
       "rec usage \"A3\" as E7  <<(T,blue) action>> [[psysml:3ceea1c4-b769-4e45-b22d-b9b14232dc11 ]] {\r\n",
       "}\r\n",
       "\r\n",
       "}\r\n",
       "\r\n",
       "E2  - -> E4 [[psysml:5839aeb0-dd7d-4257-be26-6d697b84d54b ]] : [x == 1]\r\n",
       "E2  - -> E5 [[psysml:6472265e-4329-42f9-a73f-b0fdd653d81d ]] : [x > 1]\r\n",
       "E2  - -> E7 [[psysml:3c10905a-0cf4-4572-9b68-27220c544656 ]] \r\n",
       "E2 - -> E3 [[psysml:4534ef33-8eda-405a-b2f5-6c95fd446375 ]] \r\n",
       "E3  - -> E4 [[psysml:4cb33783-cb85-4624-8a6d-789ab5e27309 ]] : [true]\r\n",
       "E3  - -> E5 [[psysml:7566f218-2e4c-4b1d-8134-f6de9f4cb12f ]] : [false]\r\n",
       "E4  - -> E5 [[psysml:2ec4d8de-ba31-4f08-a58c-ce574f556666 ]] : [x == 0]\r\n",
       "E7  - -> E2 [[psysml:2ecae6e1-cb24-4407-809b-df9594bdb8fa ]] : [x > 0]\r\n",
       "@enduml\r\n",
       "\n",
       "PlantUML version 1.2020.13(Sat Jun 13 12:26:38 UTC 2020)\n",
       "(EPL source distribution)\n",
       "Java Runtime: OpenJDK Runtime Environment\n",
       "JVM: OpenJDK 64-Bit Server VM\n",
       "Default Encoding: UTF-8\n",
       "Language: en\n",
       "Country: null\n",
       "--></g></svg>"
      ]
     },
     "execution_count": 12,
     "metadata": {},
     "output_type": "execute_result"
    }
   ],
   "source": [
    "%viz --style=\"POLYLINE\" --view=\"Interconnection\" \"DecisionTest\""
   ]
  },
  {
   "cell_type": "code",
   "execution_count": 13,
   "id": "a5099db4",
   "metadata": {
    "execution": {
     "iopub.execute_input": "2021-06-30T09:20:27.978100Z",
     "iopub.status.busy": "2021-06-30T09:20:27.977256Z",
     "iopub.status.idle": "2021-06-30T09:20:28.035312Z",
     "shell.execute_reply": "2021-06-30T09:20:28.034840Z"
    }
   },
   "outputs": [
    {
     "data": {
      "image/svg+xml": [
       "<?xml version=\"1.0\" encoding=\"UTF-8\" standalone=\"no\"?><svg xmlns=\"http://www.w3.org/2000/svg\" xmlns:xlink=\"http://www.w3.org/1999/xlink\" contentScriptType=\"application/ecmascript\" contentStyleType=\"text/css\" height=\"356px\" preserveAspectRatio=\"none\" style=\"width:333px;height:356px;\" version=\"1.1\" viewBox=\"0 0 333 356\" width=\"333px\" zoomAndPan=\"magnify\"><defs/><g><!--MD5=[fbc87193dbaf4d95561dea2c320d4a47]\n",
       "cluster E1--><a href=\"psysml:068a4463-a96d-4165-a2bc-cadf70a9bc09\" target=\"_top\" title=\"psysml:068a4463-a96d-4165-a2bc-cadf70a9bc09\" xlink:actuate=\"onRequest\" xlink:href=\"psysml:068a4463-a96d-4165-a2bc-cadf70a9bc09\" xlink:show=\"new\" xlink:title=\"psysml:068a4463-a96d-4165-a2bc-cadf70a9bc09\" xlink:type=\"simple\"><rect fill=\"#FFFFFF\" height=\"338\" id=\"E1\" style=\"stroke: #383838; stroke-width: 1.5;\" width=\"315\" x=\"7\" y=\"7\"/><rect fill=\"#F8F8F8\" height=\"37.9375\" style=\"stroke: #383838; stroke-width: 1.5;\" width=\"315\" x=\"7\" y=\"7\"/><text fill=\"#000000\" font-family=\"sans-serif\" font-size=\"12\" font-style=\"italic\" lengthAdjust=\"spacingAndGlyphs\" textLength=\"77\" x=\"126\" y=\"23.1387\">«action def»</text><text fill=\"#000000\" font-family=\"sans-serif\" font-size=\"12\" lengthAdjust=\"spacingAndGlyphs\" textLength=\"80\" x=\"124.5\" y=\"37.1074\">DecisionTest</text></a><polygon fill=\"#F8F8F8\" points=\"210,67.5,222,79.5,210,91.5,198,79.5,210,67.5\" style=\"stroke: #383838; stroke-width: 1.5;\"/><polygon fill=\"#F8F8F8\" points=\"35,143.5,47,155.5,35,167.5,23,155.5,35,143.5\" style=\"stroke: #383838; stroke-width: 1.5;\"/><g id=\"E1.E4\"><a href=\"psysml:86b53981-b1ee-4c30-93d6-edfc048c3f3e\" target=\"_top\" title=\"psysml:86b53981-b1ee-4c30-93d6-edfc048c3f3e\" xlink:actuate=\"onRequest\" xlink:href=\"psysml:86b53981-b1ee-4c30-93d6-edfc048c3f3e\" xlink:show=\"new\" xlink:title=\"psysml:86b53981-b1ee-4c30-93d6-edfc048c3f3e\" xlink:type=\"simple\"><rect fill=\"#FFFFFF\" height=\"42.9375\" id=\"E4\" rx=\"10\" ry=\"10\" style=\"stroke: #383838; stroke-width: 1.5;\" width=\"60\" x=\"135\" y=\"210\"/><rect fill=\"#F8F8F8\" height=\"37.9375\" rx=\"10\" ry=\"10\" style=\"stroke: #F8F8F8; stroke-width: 1.5;\" width=\"60\" x=\"135\" y=\"210\"/><rect fill=\"#F8F8F8\" height=\"10\" style=\"stroke: #F8F8F8; stroke-width: 1.5;\" width=\"60\" x=\"135\" y=\"237.9375\"/><rect fill=\"none\" height=\"42.9375\" id=\"E4\" rx=\"10\" ry=\"10\" style=\"stroke: #383838; stroke-width: 1.5;\" width=\"60\" x=\"135\" y=\"210\"/><text fill=\"#000000\" font-family=\"sans-serif\" font-size=\"12\" font-style=\"italic\" lengthAdjust=\"spacingAndGlyphs\" textLength=\"53\" x=\"138.5\" y=\"226.1387\">«action»</text><text fill=\"#000000\" font-family=\"sans-serif\" font-size=\"12\" lengthAdjust=\"spacingAndGlyphs\" textLength=\"16\" x=\"157\" y=\"240.1074\">A1</text></a></g><g id=\"E1.E5\"><a href=\"psysml:38b4e12b-2856-48b1-8683-970a7e146d76\" target=\"_top\" title=\"psysml:38b4e12b-2856-48b1-8683-970a7e146d76\" xlink:actuate=\"onRequest\" xlink:href=\"psysml:38b4e12b-2856-48b1-8683-970a7e146d76\" xlink:show=\"new\" xlink:title=\"psysml:38b4e12b-2856-48b1-8683-970a7e146d76\" xlink:type=\"simple\"><rect fill=\"#FFFFFF\" height=\"42.9375\" id=\"E5\" rx=\"10\" ry=\"10\" style=\"stroke: #383838; stroke-width: 1.5;\" width=\"60\" x=\"135\" y=\"286\"/><rect fill=\"#F8F8F8\" height=\"37.9375\" rx=\"10\" ry=\"10\" style=\"stroke: #F8F8F8; stroke-width: 1.5;\" width=\"60\" x=\"135\" y=\"286\"/><rect fill=\"#F8F8F8\" height=\"10\" style=\"stroke: #F8F8F8; stroke-width: 1.5;\" width=\"60\" x=\"135\" y=\"313.9375\"/><rect fill=\"none\" height=\"42.9375\" id=\"E5\" rx=\"10\" ry=\"10\" style=\"stroke: #383838; stroke-width: 1.5;\" width=\"60\" x=\"135\" y=\"286\"/><text fill=\"#000000\" font-family=\"sans-serif\" font-size=\"12\" font-style=\"italic\" lengthAdjust=\"spacingAndGlyphs\" textLength=\"53\" x=\"138.5\" y=\"302.1387\">«action»</text><text fill=\"#000000\" font-family=\"sans-serif\" font-size=\"12\" lengthAdjust=\"spacingAndGlyphs\" textLength=\"16\" x=\"157\" y=\"316.1074\">A2</text></a></g><g id=\"E1.E6\"><a href=\"psysml:3ceea1c4-b769-4e45-b22d-b9b14232dc11\" target=\"_top\" title=\"psysml:3ceea1c4-b769-4e45-b22d-b9b14232dc11\" xlink:actuate=\"onRequest\" xlink:href=\"psysml:3ceea1c4-b769-4e45-b22d-b9b14232dc11\" xlink:show=\"new\" xlink:title=\"psysml:3ceea1c4-b769-4e45-b22d-b9b14232dc11\" xlink:type=\"simple\"><rect fill=\"#FFFFFF\" height=\"42.9375\" id=\"E6\" rx=\"10\" ry=\"10\" style=\"stroke: #383838; stroke-width: 1.5;\" width=\"60\" x=\"63\" y=\"58\"/><rect fill=\"#F8F8F8\" height=\"37.9375\" rx=\"10\" ry=\"10\" style=\"stroke: #F8F8F8; stroke-width: 1.5;\" width=\"60\" x=\"63\" y=\"58\"/><rect fill=\"#F8F8F8\" height=\"10\" style=\"stroke: #F8F8F8; stroke-width: 1.5;\" width=\"60\" x=\"63\" y=\"85.9375\"/><rect fill=\"none\" height=\"42.9375\" id=\"E6\" rx=\"10\" ry=\"10\" style=\"stroke: #383838; stroke-width: 1.5;\" width=\"60\" x=\"63\" y=\"58\"/><text fill=\"#000000\" font-family=\"sans-serif\" font-size=\"12\" font-style=\"italic\" lengthAdjust=\"spacingAndGlyphs\" textLength=\"53\" x=\"66.5\" y=\"74.1387\">«action»</text><text fill=\"#000000\" font-family=\"sans-serif\" font-size=\"12\" lengthAdjust=\"spacingAndGlyphs\" textLength=\"16\" x=\"85\" y=\"88.1074\">A3</text></a></g><g id=\"E1.E7\"><a href=\"psysml:3ceea1c4-b769-4e45-b22d-b9b14232dc11\" target=\"_top\" title=\"psysml:3ceea1c4-b769-4e45-b22d-b9b14232dc11\" xlink:actuate=\"onRequest\" xlink:href=\"psysml:3ceea1c4-b769-4e45-b22d-b9b14232dc11\" xlink:show=\"new\" xlink:title=\"psysml:3ceea1c4-b769-4e45-b22d-b9b14232dc11\" xlink:type=\"simple\"><rect fill=\"#FFFFFF\" height=\"42.9375\" id=\"E7\" rx=\"10\" ry=\"10\" style=\"stroke: #383838; stroke-width: 1.5;\" width=\"60\" x=\"246\" y=\"134\"/><rect fill=\"#F8F8F8\" height=\"37.9375\" rx=\"10\" ry=\"10\" style=\"stroke: #F8F8F8; stroke-width: 1.5;\" width=\"60\" x=\"246\" y=\"134\"/><rect fill=\"#F8F8F8\" height=\"10\" style=\"stroke: #F8F8F8; stroke-width: 1.5;\" width=\"60\" x=\"246\" y=\"161.9375\"/><rect fill=\"none\" height=\"42.9375\" id=\"E7\" rx=\"10\" ry=\"10\" style=\"stroke: #383838; stroke-width: 1.5;\" width=\"60\" x=\"246\" y=\"134\"/><text fill=\"#000000\" font-family=\"sans-serif\" font-size=\"12\" font-style=\"italic\" lengthAdjust=\"spacingAndGlyphs\" textLength=\"53\" x=\"249.5\" y=\"150.1387\">«action»</text><text fill=\"#000000\" font-family=\"sans-serif\" font-size=\"12\" lengthAdjust=\"spacingAndGlyphs\" textLength=\"16\" x=\"268\" y=\"164.1074\">A3</text></a></g><!--MD5=[4d03bb2d0377dc85ccfab60ff574652b]\n",
       "link E2 to E4--><a href=\"psysml:5839aeb0-dd7d-4257-be26-6d697b84d54b\" target=\"_top\" title=\"psysml:5839aeb0-dd7d-4257-be26-6d697b84d54b\" xlink:actuate=\"onRequest\" xlink:href=\"psysml:5839aeb0-dd7d-4257-be26-6d697b84d54b\" xlink:show=\"new\" xlink:title=\"psysml:5839aeb0-dd7d-4257-be26-6d697b84d54b\" xlink:type=\"simple\"><path d=\"M203.91,85.44 C187.57,98.68 144,134 144,134 C144,134 144,177 144,177 C144,177 149.67,191.43 155.11,205.31 \" fill=\"none\" id=\"E2-&gt;E4\" style=\"stroke: #383838; stroke-width: 1.0; stroke-dasharray: 7.0,7.0;\"/><polygon fill=\"#383838\" points=\"156.94,209.97,157.374,200.1307,155.1126,205.3159,149.9274,203.0545,156.94,209.97\" style=\"stroke: #383838; stroke-width: 1.0;\"/><text fill=\"#000000\" font-family=\"sans-serif\" font-size=\"13\" lengthAdjust=\"spacingAndGlyphs\" textLength=\"55\" x=\"145\" y=\"160.0669\">[x == 1]</text></a><!--MD5=[dcad52bbbca2fe8adc741ce38b45dc12]\n",
       "link E2 to E5--><a href=\"psysml:6472265e-4329-42f9-a73f-b0fdd653d81d\" target=\"_top\" title=\"psysml:6472265e-4329-42f9-a73f-b0fdd653d81d\" xlink:actuate=\"onRequest\" xlink:href=\"psysml:6472265e-4329-42f9-a73f-b0fdd653d81d\" xlink:show=\"new\" xlink:title=\"psysml:6472265e-4329-42f9-a73f-b0fdd653d81d\" xlink:type=\"simple\"><path d=\"M210.91,90.72 C214.29,128.91 226,261 226,261 C226,261 226,278 226,278 C226,278 213.5,283.84 199.81,290.24 \" fill=\"none\" id=\"E2-&gt;E5\" style=\"stroke: #383838; stroke-width: 1.0; stroke-dasharray: 7.0,7.0;\"/><polygon fill=\"#383838\" points=\"195.14,292.42,204.9874,292.2489,199.6731,290.3103,201.6118,284.996,195.14,292.42\" style=\"stroke: #383838; stroke-width: 1.0;\"/><text fill=\"#000000\" font-family=\"sans-serif\" font-size=\"13\" lengthAdjust=\"spacingAndGlyphs\" textLength=\"44\" x=\"221\" y=\"198.0669\">[x &gt; 1]</text></a><!--MD5=[e3d2a08a9c9236652057e8ed0cbc9b62]\n",
       "link E2 to E7--><a href=\"psysml:3c10905a-0cf4-4572-9b68-27220c544656\" target=\"_top\" title=\"psysml:3c10905a-0cf4-4572-9b68-27220c544656\" xlink:actuate=\"onRequest\" xlink:href=\"psysml:3c10905a-0cf4-4572-9b68-27220c544656\" xlink:show=\"new\" xlink:title=\"psysml:3c10905a-0cf4-4572-9b68-27220c544656\" xlink:type=\"simple\"><path d=\"M212.51,89.27 C216.28,102.49 223,126 223,126 C223,126 231.18,130.4 241.12,135.74 \" fill=\"none\" id=\"E2-&gt;E7\" style=\"stroke: #383838; stroke-width: 1.0; stroke-dasharray: 7.0,7.0;\"/><polygon fill=\"#383838\" points=\"245.78,138.25,239.7446,130.467,241.3754,135.8838,235.9586,137.5145,245.78,138.25\" style=\"stroke: #383838; stroke-width: 1.0;\"/></a><!--MD5=[583832df87f4419a098336a29a52fa00]\n",
       "link E7 to E2--><a href=\"psysml:2ecae6e1-cb24-4407-809b-df9594bdb8fa\" target=\"_top\" title=\"psysml:2ecae6e1-cb24-4407-809b-df9594bdb8fa\" xlink:actuate=\"onRequest\" xlink:href=\"psysml:2ecae6e1-cb24-4407-809b-df9594bdb8fa\" xlink:show=\"new\" xlink:title=\"psysml:2ecae6e1-cb24-4407-809b-df9594bdb8fa\" xlink:type=\"simple\"><path d=\"M257.61,133.88 C245.02,119.76 228.86,101.65 218.98,90.57 \" fill=\"none\" id=\"E7-&gt;E2\" style=\"stroke: #383838; stroke-width: 1.0; stroke-dasharray: 7.0,7.0;\"/><polygon fill=\"#383838\" points=\"215.4,86.56,218.3919,95.9434,218.7227,90.2963,224.3699,90.6271,215.4,86.56\" style=\"stroke: #383838; stroke-width: 1.0;\"/><text fill=\"#000000\" font-family=\"sans-serif\" font-size=\"13\" lengthAdjust=\"spacingAndGlyphs\" textLength=\"44\" x=\"249\" y=\"122.0669\">[x &gt; 0]</text></a><!--MD5=[2720a5a1f2c3fca2055b230370638851]\n",
       "link E2 to E3--><a href=\"psysml:4534ef33-8eda-405a-b2f5-6c95fd446375\" target=\"_top\" title=\"psysml:4534ef33-8eda-405a-b2f5-6c95fd446375\" xlink:actuate=\"onRequest\" xlink:href=\"psysml:4534ef33-8eda-405a-b2f5-6c95fd446375\" xlink:show=\"new\" xlink:title=\"psysml:4534ef33-8eda-405a-b2f5-6c95fd446375\" xlink:type=\"simple\"><path d=\"M201.26,83.1 C182.69,88.61 141,101 141,101 C141,101 108,109 108,109 C108,109 66.75,134.71 46.26,147.48 \" fill=\"none\" id=\"E2-&gt;E3\" style=\"stroke: #383838; stroke-width: 1.0; stroke-dasharray: 7.0,7.0;\"/><polygon fill=\"#383838\" points=\"42,150.14,51.7541,148.7768,46.244,147.4964,47.5243,141.9864,42,150.14\" style=\"stroke: #383838; stroke-width: 1.0;\"/></a><!--MD5=[af87c684e3b0d8be13c1a698a818ef1e]\n",
       "link E3 to E4--><a href=\"psysml:4cb33783-cb85-4624-8a6d-789ab5e27309\" target=\"_top\" title=\"psysml:4cb33783-cb85-4624-8a6d-789ab5e27309\" xlink:actuate=\"onRequest\" xlink:href=\"psysml:4cb33783-cb85-4624-8a6d-789ab5e27309\" xlink:show=\"new\" xlink:title=\"psysml:4cb33783-cb85-4624-8a6d-789ab5e27309\" xlink:type=\"simple\"><path d=\"M41.01,162.08 C54.09,174.23 84,202 84,202 C84,202 108,210 108,210 C108,210 118.26,213.69 130.07,217.94 \" fill=\"none\" id=\"E3-&gt;E4\" style=\"stroke: #383838; stroke-width: 1.0; stroke-dasharray: 7.0,7.0;\"/><polygon fill=\"#383838\" points=\"134.83,219.65,127.7272,212.8273,130.1281,217.9493,125.0061,220.3503,134.83,219.65\" style=\"stroke: #383838; stroke-width: 1.0;\"/><text fill=\"#000000\" font-family=\"sans-serif\" font-size=\"13\" lengthAdjust=\"spacingAndGlyphs\" textLength=\"36\" x=\"85\" y=\"198.0669\">[true]</text></a><!--MD5=[0188b64bb0ae78505a997a81836e11e9]\n",
       "link E3 to E5--><a href=\"psysml:7566f218-2e4c-4b1d-8134-f6de9f4cb12f\" target=\"_top\" title=\"psysml:7566f218-2e4c-4b1d-8134-f6de9f4cb12f\" xlink:actuate=\"onRequest\" xlink:href=\"psysml:7566f218-2e4c-4b1d-8134-f6de9f4cb12f\" xlink:show=\"new\" xlink:title=\"psysml:7566f218-2e4c-4b1d-8134-f6de9f4cb12f\" xlink:type=\"simple\"><path d=\"M38.36,164.4 C48.15,187.44 76,253 76,253 C76,253 105.53,270.75 130.57,285.81 \" fill=\"none\" id=\"E3-&gt;E5\" style=\"stroke: #383838; stroke-width: 1.0; stroke-dasharray: 7.0,7.0;\"/><polygon fill=\"#383838\" points=\"134.87,288.39,129.2105,280.3296,130.5825,285.8175,125.0946,287.1895,134.87,288.39\" style=\"stroke: #383838; stroke-width: 1.0;\"/><text fill=\"#000000\" font-family=\"sans-serif\" font-size=\"13\" lengthAdjust=\"spacingAndGlyphs\" textLength=\"40\" x=\"77\" y=\"236.0669\">[false]</text></a><!--MD5=[1b7591eae5389033d8d09a9d6721a717]\n",
       "link E4 to E5--><a href=\"psysml:2ec4d8de-ba31-4f08-a58c-ce574f556666\" target=\"_top\" title=\"psysml:2ec4d8de-ba31-4f08-a58c-ce574f556666\" xlink:actuate=\"onRequest\" xlink:href=\"psysml:2ec4d8de-ba31-4f08-a58c-ce574f556666\" xlink:show=\"new\" xlink:title=\"psysml:2ec4d8de-ba31-4f08-a58c-ce574f556666\" xlink:type=\"simple\"><path d=\"M165,253.11 C165,261.69 165,271.75 165,280.8 \" fill=\"none\" id=\"E4-&gt;E5\" style=\"stroke: #383838; stroke-width: 1.0; stroke-dasharray: 7.0,7.0;\"/><polygon fill=\"#383838\" points=\"165,286,169,277,165,281,161,277,165,286\" style=\"stroke: #383838; stroke-width: 1.0;\"/><text fill=\"#000000\" font-family=\"sans-serif\" font-size=\"13\" lengthAdjust=\"spacingAndGlyphs\" textLength=\"55\" x=\"166\" y=\"274.0669\">[x == 0]</text></a><!--MD5=[7ae11a61ad0bcfc948e0f492eac5f8c4]\n",
       "@startuml\r\n",
       "skinparam ranksep 8\r\n",
       "skinparam linetype polyline\r\n",
       "skinparam monochrome true\r\n",
       "skinparam classbackgroundcolor white\r\n",
       "skinparam shadowing false\r\n",
       "skinparam wrapWidth 300\r\n",
       "hide circle\r\n",
       "\r\n",
       "rec def \"DecisionTest\" as E1  <<(T,blue) action def>> [[psysml:068a4463-a96d-4165-a2bc-cadf70a9bc09 ]] {\r\n",
       "choice \"test x\" as E2  [[psysml:44ee9e06-5fd9-46bf-b0f8-00dd693073b7 ]] \r\n",
       "choice \"noname\" as E3  [[psysml:eeb68ac4-2ad3-4e0c-9c18-140c63d1edba ]] \r\n",
       "rec usage \"A1\" as E4  <<(T,blue) action>> [[psysml:86b53981-b1ee-4c30-93d6-edfc048c3f3e ]] {\r\n",
       "}\r\n",
       "\r\n",
       "rec usage \"A2\" as E5  <<(T,blue) action>> [[psysml:38b4e12b-2856-48b1-8683-970a7e146d76 ]] {\r\n",
       "}\r\n",
       "\r\n",
       "rec usage \"A3\" as E6  <<(T,blue) action>> [[psysml:3ceea1c4-b769-4e45-b22d-b9b14232dc11 ]] {\r\n",
       "}\r\n",
       "\r\n",
       "rec usage \"A3\" as E7  <<(T,blue) action>> [[psysml:3ceea1c4-b769-4e45-b22d-b9b14232dc11 ]] {\r\n",
       "}\r\n",
       "\r\n",
       "}\r\n",
       "\r\n",
       "E2 ..> E4 [[psysml:5839aeb0-dd7d-4257-be26-6d697b84d54b ]] : [x == 1]\r\n",
       "E2 ..> E5 [[psysml:6472265e-4329-42f9-a73f-b0fdd653d81d ]] : [x > 1]\r\n",
       "E2 ..> E7 [[psysml:3c10905a-0cf4-4572-9b68-27220c544656 ]] \r\n",
       "E2 ..> E3 [[psysml:4534ef33-8eda-405a-b2f5-6c95fd446375 ]] \r\n",
       "E3 ..> E4 [[psysml:4cb33783-cb85-4624-8a6d-789ab5e27309 ]] : [true]\r\n",
       "E3 ..> E5 [[psysml:7566f218-2e4c-4b1d-8134-f6de9f4cb12f ]] : [false]\r\n",
       "E4 ..> E5 [[psysml:2ec4d8de-ba31-4f08-a58c-ce574f556666 ]] : [x == 0]\r\n",
       "E7 ..> E2 [[psysml:2ecae6e1-cb24-4407-809b-df9594bdb8fa ]] : [x > 0]\r\n",
       "@enduml\r\n",
       "\n",
       "PlantUML version 1.2020.13(Sat Jun 13 12:26:38 UTC 2020)\n",
       "(EPL source distribution)\n",
       "Java Runtime: OpenJDK Runtime Environment\n",
       "JVM: OpenJDK 64-Bit Server VM\n",
       "Default Encoding: UTF-8\n",
       "Language: en\n",
       "Country: null\n",
       "--></g></svg>"
      ]
     },
     "execution_count": 13,
     "metadata": {},
     "output_type": "execute_result"
    }
   ],
   "source": [
    "%viz --style=\"POLYLINE\" --view=\"Action\" \"DecisionTest\""
   ]
  },
  {
   "cell_type": "code",
   "execution_count": 14,
   "id": "260974dd",
   "metadata": {
    "execution": {
     "iopub.execute_input": "2021-06-30T09:20:28.085397Z",
     "iopub.status.busy": "2021-06-30T09:20:28.084867Z",
     "iopub.status.idle": "2021-06-30T09:20:28.169692Z",
     "shell.execute_reply": "2021-06-30T09:20:28.170428Z"
    }
   },
   "outputs": [
    {
     "data": {
      "image/svg+xml": [
       "<?xml version=\"1.0\" encoding=\"UTF-8\" standalone=\"no\"?><svg xmlns=\"http://www.w3.org/2000/svg\" xmlns:xlink=\"http://www.w3.org/1999/xlink\" contentScriptType=\"application/ecmascript\" contentStyleType=\"text/css\" height=\"228px\" preserveAspectRatio=\"none\" style=\"width:525px;height:228px;\" version=\"1.1\" viewBox=\"0 0 525 228\" width=\"525px\" zoomAndPan=\"magnify\"><defs/><g><!--MD5=[43c9051892ef23e1a46a86907403d788]\n",
       "class E1--><a href=\"psysml:068a4463-a96d-4165-a2bc-cadf70a9bc09\" target=\"_top\" title=\"psysml:068a4463-a96d-4165-a2bc-cadf70a9bc09\" xlink:actuate=\"onRequest\" xlink:href=\"psysml:068a4463-a96d-4165-a2bc-cadf70a9bc09\" xlink:show=\"new\" xlink:title=\"psysml:068a4463-a96d-4165-a2bc-cadf70a9bc09\" xlink:type=\"simple\"><rect fill=\"#FFFFFF\" height=\"105.1563\" id=\"E1\" style=\"stroke: #383838; stroke-width: 1.5;\" width=\"86\" x=\"308.5\" y=\"7\"/><text fill=\"#000000\" font-family=\"sans-serif\" font-size=\"12\" font-style=\"italic\" lengthAdjust=\"spacingAndGlyphs\" textLength=\"77\" x=\"313\" y=\"23.1387\">«action def»</text><text fill=\"#000000\" font-family=\"sans-serif\" font-size=\"12\" lengthAdjust=\"spacingAndGlyphs\" textLength=\"80\" x=\"311.5\" y=\"37.1074\">DecisionTest</text><line style=\"stroke: #383838; stroke-width: 1.5;\" x1=\"309.5\" x2=\"393.5\" y1=\"44.9375\" y2=\"44.9375\"/><text fill=\"#000000\" font-family=\"sans-serif\" font-size=\"11\" lengthAdjust=\"spacingAndGlyphs\" textLength=\"26\" x=\"314.5\" y=\"75.9526\">x=1;</text><line style=\"stroke: #383838; stroke-width: 1.0;\" x1=\"309.5\" x2=\"324\" y1=\"59.3398\" y2=\"59.3398\"/><text fill=\"#000000\" font-family=\"sans-serif\" font-size=\"11\" lengthAdjust=\"spacingAndGlyphs\" textLength=\"55\" x=\"324\" y=\"62.6479\">attributes</text><line style=\"stroke: #383838; stroke-width: 1.0;\" x1=\"379\" x2=\"393.5\" y1=\"59.3398\" y2=\"59.3398\"/><text fill=\"#000000\" font-family=\"sans-serif\" font-size=\"11\" lengthAdjust=\"spacingAndGlyphs\" textLength=\"8\" x=\"314.5\" y=\"105.562\">S</text><line style=\"stroke: #383838; stroke-width: 1.0;\" x1=\"309.5\" x2=\"321\" y1=\"88.9492\" y2=\"88.9492\"/><text fill=\"#000000\" font-family=\"sans-serif\" font-size=\"11\" lengthAdjust=\"spacingAndGlyphs\" textLength=\"61\" x=\"321\" y=\"92.2573\">transitions</text><line style=\"stroke: #383838; stroke-width: 1.0;\" x1=\"382\" x2=\"393.5\" y1=\"88.9492\" y2=\"88.9492\"/></a><!--MD5=[b4997ac47864f28c2f74865a473b2911]\n",
       "class E2--><a href=\"psysml:44ee9e06-5fd9-46bf-b0f8-00dd693073b7\" target=\"_top\" title=\"psysml:44ee9e06-5fd9-46bf-b0f8-00dd693073b7\" xlink:actuate=\"onRequest\" xlink:href=\"psysml:44ee9e06-5fd9-46bf-b0f8-00dd693073b7\" xlink:show=\"new\" xlink:title=\"psysml:44ee9e06-5fd9-46bf-b0f8-00dd693073b7\" xlink:type=\"simple\"><rect fill=\"#FFFFFF\" height=\"45.9375\" id=\"E2\" rx=\"10\" ry=\"10\" style=\"stroke: #383838; stroke-width: 1.5;\" width=\"101\" x=\"7\" y=\"172\"/><text fill=\"#000000\" font-family=\"sans-serif\" font-size=\"12\" font-style=\"italic\" lengthAdjust=\"spacingAndGlyphs\" textLength=\"99\" x=\"8\" y=\"188.1387\">«decisionNode»</text><text fill=\"#000000\" font-family=\"sans-serif\" font-size=\"12\" lengthAdjust=\"spacingAndGlyphs\" textLength=\"35\" x=\"40\" y=\"202.1074\">test x</text><line style=\"stroke: #383838; stroke-width: 1.5;\" x1=\"8\" x2=\"107\" y1=\"209.9375\" y2=\"209.9375\"/></a><!--MD5=[09b614a08d8cba4a07c9adeb5e0fee81]\n",
       "class E3--><a href=\"psysml:eeb68ac4-2ad3-4e0c-9c18-140c63d1edba\" target=\"_top\" title=\"psysml:eeb68ac4-2ad3-4e0c-9c18-140c63d1edba\" xlink:actuate=\"onRequest\" xlink:href=\"psysml:eeb68ac4-2ad3-4e0c-9c18-140c63d1edba\" xlink:show=\"new\" xlink:title=\"psysml:eeb68ac4-2ad3-4e0c-9c18-140c63d1edba\" xlink:type=\"simple\"><rect fill=\"#FFFFFF\" height=\"45.9375\" id=\"E3\" rx=\"10\" ry=\"10\" style=\"stroke: #383838; stroke-width: 1.5;\" width=\"101\" x=\"143\" y=\"172\"/><text fill=\"#000000\" font-family=\"sans-serif\" font-size=\"12\" font-style=\"italic\" lengthAdjust=\"spacingAndGlyphs\" textLength=\"99\" x=\"144\" y=\"188.1387\">«decisionNode»</text><text fill=\"#000000\" font-family=\"sans-serif\" font-size=\"12\" lengthAdjust=\"spacingAndGlyphs\" text-decoration=\"line-through\" textLength=\"51\" x=\"168\" y=\"202.1074\">noname</text><line style=\"stroke: #383838; stroke-width: 1.5;\" x1=\"144\" x2=\"243\" y1=\"209.9375\" y2=\"209.9375\"/></a><!--MD5=[ebbe1d658d1005bcc118a6aa81145e00]\n",
       "class E4--><a href=\"psysml:86b53981-b1ee-4c30-93d6-edfc048c3f3e\" target=\"_top\" title=\"psysml:86b53981-b1ee-4c30-93d6-edfc048c3f3e\" xlink:actuate=\"onRequest\" xlink:href=\"psysml:86b53981-b1ee-4c30-93d6-edfc048c3f3e\" xlink:show=\"new\" xlink:title=\"psysml:86b53981-b1ee-4c30-93d6-edfc048c3f3e\" xlink:type=\"simple\"><rect fill=\"#FFFFFF\" height=\"45.9375\" id=\"E4\" rx=\"10\" ry=\"10\" style=\"stroke: #383838; stroke-width: 1.5;\" width=\"55\" x=\"279\" y=\"172\"/><text fill=\"#000000\" font-family=\"sans-serif\" font-size=\"12\" font-style=\"italic\" lengthAdjust=\"spacingAndGlyphs\" textLength=\"53\" x=\"280\" y=\"188.1387\">«action»</text><text fill=\"#000000\" font-family=\"sans-serif\" font-size=\"12\" lengthAdjust=\"spacingAndGlyphs\" textLength=\"16\" x=\"298.5\" y=\"202.1074\">A1</text><line style=\"stroke: #383838; stroke-width: 1.5;\" x1=\"280\" x2=\"333\" y1=\"209.9375\" y2=\"209.9375\"/></a><!--MD5=[270fce915f116d4de14055a7c1d9a0f3]\n",
       "class E5--><a href=\"psysml:38b4e12b-2856-48b1-8683-970a7e146d76\" target=\"_top\" title=\"psysml:38b4e12b-2856-48b1-8683-970a7e146d76\" xlink:actuate=\"onRequest\" xlink:href=\"psysml:38b4e12b-2856-48b1-8683-970a7e146d76\" xlink:show=\"new\" xlink:title=\"psysml:38b4e12b-2856-48b1-8683-970a7e146d76\" xlink:type=\"simple\"><rect fill=\"#FFFFFF\" height=\"45.9375\" id=\"E5\" rx=\"10\" ry=\"10\" style=\"stroke: #383838; stroke-width: 1.5;\" width=\"55\" x=\"369\" y=\"172\"/><text fill=\"#000000\" font-family=\"sans-serif\" font-size=\"12\" font-style=\"italic\" lengthAdjust=\"spacingAndGlyphs\" textLength=\"53\" x=\"370\" y=\"188.1387\">«action»</text><text fill=\"#000000\" font-family=\"sans-serif\" font-size=\"12\" lengthAdjust=\"spacingAndGlyphs\" textLength=\"16\" x=\"388.5\" y=\"202.1074\">A2</text><line style=\"stroke: #383838; stroke-width: 1.5;\" x1=\"370\" x2=\"423\" y1=\"209.9375\" y2=\"209.9375\"/></a><!--MD5=[60a26617385b1d2d0262a64233df1f8d]\n",
       "class E6--><a href=\"psysml:3ceea1c4-b769-4e45-b22d-b9b14232dc11\" target=\"_top\" title=\"psysml:3ceea1c4-b769-4e45-b22d-b9b14232dc11\" xlink:actuate=\"onRequest\" xlink:href=\"psysml:3ceea1c4-b769-4e45-b22d-b9b14232dc11\" xlink:show=\"new\" xlink:title=\"psysml:3ceea1c4-b769-4e45-b22d-b9b14232dc11\" xlink:type=\"simple\"><rect fill=\"#FFFFFF\" height=\"45.9375\" id=\"E6\" rx=\"10\" ry=\"10\" style=\"stroke: #383838; stroke-width: 1.5;\" width=\"55\" x=\"459\" y=\"172\"/><text fill=\"#000000\" font-family=\"sans-serif\" font-size=\"12\" font-style=\"italic\" lengthAdjust=\"spacingAndGlyphs\" textLength=\"53\" x=\"460\" y=\"188.1387\">«action»</text><text fill=\"#000000\" font-family=\"sans-serif\" font-size=\"12\" lengthAdjust=\"spacingAndGlyphs\" textLength=\"16\" x=\"478.5\" y=\"202.1074\">A3</text><line style=\"stroke: #383838; stroke-width: 1.5;\" x1=\"460\" x2=\"513\" y1=\"209.9375\" y2=\"209.9375\"/></a><!--MD5=[a523cb2a0b79ecf9065ad8783f96c320]\n",
       "reverse link E1 to E2--><a href=\"psysml:3f40863b-0a66-456a-a380-cfd414bf0804\" target=\"_top\" title=\"psysml:3f40863b-0a66-456a-a380-cfd414bf0804\" xlink:actuate=\"onRequest\" xlink:href=\"psysml:3f40863b-0a66-456a-a380-cfd414bf0804\" xlink:show=\"new\" xlink:title=\"psysml:3f40863b-0a66-456a-a380-cfd414bf0804\" xlink:type=\"simple\"><path d=\"M296.52,85.46 C241.75,110.33 158.47,148.15 106.07,171.95 \" fill=\"none\" id=\"E1&lt;-E2\" style=\"stroke: #383838; stroke-width: 1.0;\"/><polygon fill=\"#383838\" points=\"308.44,80.06,301.323,78.8988,297.5138,85.0217,304.6308,86.1829,308.44,80.06\" style=\"stroke: #383838; stroke-width: 1.0;\"/></a><!--MD5=[5d7b3810b1dd9b5164bea1151b29b665]\n",
       "reverse link E1 to E3--><a href=\"psysml:e2578a6b-d48b-4dd6-b58c-18f093f1f29f\" target=\"_top\" title=\"psysml:e2578a6b-d48b-4dd6-b58c-18f093f1f29f\" xlink:actuate=\"onRequest\" xlink:href=\"psysml:e2578a6b-d48b-4dd6-b58c-18f093f1f29f\" xlink:show=\"new\" xlink:title=\"psysml:e2578a6b-d48b-4dd6-b58c-18f093f1f29f\" xlink:type=\"simple\"><path d=\"M298.08,105.64 C271.7,127.93 241.06,153.82 219.79,171.79 \" fill=\"none\" id=\"E1&lt;-E3\" style=\"stroke: #383838; stroke-width: 1.0;\"/><polygon fill=\"#383838\" points=\"308.33,96.98,301.1646,97.7906,299.1569,104.7165,306.3223,103.906,308.33,96.98\" style=\"stroke: #383838; stroke-width: 1.0;\"/></a><!--MD5=[f2c5c03aa1e8c0ba21c10a05e6444b8e]\n",
       "reverse link E1 to E4--><a href=\"psysml:7583b8d6-81fb-44fd-88ce-ec05d2d7f8f3\" target=\"_top\" title=\"psysml:7583b8d6-81fb-44fd-88ce-ec05d2d7f8f3\" xlink:actuate=\"onRequest\" xlink:href=\"psysml:7583b8d6-81fb-44fd-88ce-ec05d2d7f8f3\" xlink:show=\"new\" xlink:title=\"psysml:7583b8d6-81fb-44fd-88ce-ec05d2d7f8f3\" xlink:type=\"simple\"><path d=\"M329.79,124.91 C324.1,141.78 318.35,158.85 313.98,171.8 \" fill=\"none\" id=\"E1&lt;-E4\" style=\"stroke: #383838; stroke-width: 1.0;\"/><polygon fill=\"#383838\" points=\"334.1,112.11,328.391,116.5154,330.2618,123.4796,335.9708,119.0742,334.1,112.11\" style=\"stroke: #383838; stroke-width: 1.0;\"/></a><!--MD5=[33238bef88d6431a141d8bc8fb12bca0]\n",
       "reverse link E1 to E5--><a href=\"psysml:1b62ef88-94e5-4ba0-8e17-6cec1f6133af\" target=\"_top\" title=\"psysml:1b62ef88-94e5-4ba0-8e17-6cec1f6133af\" xlink:actuate=\"onRequest\" xlink:href=\"psysml:1b62ef88-94e5-4ba0-8e17-6cec1f6133af\" xlink:show=\"new\" xlink:title=\"psysml:1b62ef88-94e5-4ba0-8e17-6cec1f6133af\" xlink:type=\"simple\"><path d=\"M373.21,124.91 C378.9,141.78 384.65,158.85 389.02,171.8 \" fill=\"none\" id=\"E1&lt;-E5\" style=\"stroke: #383838; stroke-width: 1.0;\"/><polygon fill=\"#383838\" points=\"368.9,112.11,367.0292,119.0742,372.7382,123.4796,374.609,116.5154,368.9,112.11\" style=\"stroke: #383838; stroke-width: 1.0;\"/></a><!--MD5=[aca2ef284c2b1b90e17e73bf3f292c07]\n",
       "reverse link E1 to E6--><a href=\"psysml:6d478a35-76b8-45be-be82-2204dec34e47\" target=\"_top\" title=\"psysml:6d478a35-76b8-45be-be82-2204dec34e47\" xlink:actuate=\"onRequest\" xlink:href=\"psysml:6d478a35-76b8-45be-be82-2204dec34e47\" xlink:show=\"new\" xlink:title=\"psysml:6d478a35-76b8-45be-be82-2204dec34e47\" xlink:type=\"simple\"><path d=\"M400.61,121.64 C420.11,141.2 441.74,161.41 458.63,175.48 \" fill=\"none\" id=\"E1&lt;-E6\" style=\"stroke: #383838; stroke-width: 1.0;\"/><polygon fill=\"#383838\" points=\"391.24,112.11,392.5992,119.1919,399.659,120.661,398.2999,113.5792,391.24,112.11\" style=\"stroke: #383838; stroke-width: 1.0;\"/></a><!--MD5=[aca2ef284c2b1b90e17e73bf3f292c07]\n",
       "reverse link E1 to E6--><a href=\"psysml:637c00ed-dc37-460b-98af-77d0acff244f\" target=\"_top\" title=\"psysml:637c00ed-dc37-460b-98af-77d0acff244f\" xlink:actuate=\"onRequest\" xlink:href=\"psysml:637c00ed-dc37-460b-98af-77d0acff244f\" xlink:show=\"new\" xlink:title=\"psysml:637c00ed-dc37-460b-98af-77d0acff244f\" xlink:type=\"simple\"><path d=\"M404.71,100.75 C430.05,124 458.02,152.36 474.29,171.66 \" fill=\"none\" id=\"E1&lt;-E6-1\" style=\"stroke: #383838; stroke-width: 1.0;\"/><polygon fill=\"#FFFFFF\" points=\"394.79,91.8,396.5648,98.7893,403.699,99.8392,401.9243,92.8499,394.79,91.8\" style=\"stroke: #383838; stroke-width: 1.0;\"/></a><!--MD5=[7aebe5f6786ef060abc03b7949a88c86]\n",
       "@startuml\r\n",
       "skinparam linetype polyline\r\n",
       "skinparam monochrome true\r\n",
       "skinparam classbackgroundcolor white\r\n",
       "skinparam shadowing false\r\n",
       "skinparam wrapWidth 300\r\n",
       "hide circle\r\n",
       "\r\n",
       "comp def \"DecisionTest\" as E1  <<(T,blue) action def>> [[psysml:068a4463-a96d-4165-a2bc-cadf70a9bc09 ]] {\r\n",
       "- - attributes - -\r\n",
       "x=1; \r\n",
       "- - transitions - -\r\n",
       "S\r\n",
       "}\r\n",
       "comp usage \"test x\" as E2  <<(T,blue) decisionNode>> [[psysml:44ee9e06-5fd9-46bf-b0f8-00dd693073b7 ]] {\r\n",
       "}\r\n",
       "comp usage \"<s>noname</s>\" as E3  <<(T,blue) decisionNode>> [[psysml:eeb68ac4-2ad3-4e0c-9c18-140c63d1edba ]] {\r\n",
       "}\r\n",
       "comp usage \"A1\" as E4  <<(T,blue) action>> [[psysml:86b53981-b1ee-4c30-93d6-edfc048c3f3e ]] {\r\n",
       "}\r\n",
       "comp usage \"A2\" as E5  <<(T,blue) action>> [[psysml:38b4e12b-2856-48b1-8683-970a7e146d76 ]] {\r\n",
       "}\r\n",
       "comp usage \"A3\" as E6  <<(T,blue) action>> [[psysml:3ceea1c4-b769-4e45-b22d-b9b14232dc11 ]] {\r\n",
       "}\r\n",
       "E1 *- - E2 [[psysml:3f40863b-0a66-456a-a380-cfd414bf0804 ]] \r\n",
       "E1 *- - E3 [[psysml:e2578a6b-d48b-4dd6-b58c-18f093f1f29f ]] \r\n",
       "E1 *- - E4 [[psysml:7583b8d6-81fb-44fd-88ce-ec05d2d7f8f3 ]] \r\n",
       "E1 *- - E5 [[psysml:1b62ef88-94e5-4ba0-8e17-6cec1f6133af ]] \r\n",
       "E1 *- - E6 [[psysml:6d478a35-76b8-45be-be82-2204dec34e47 ]] \r\n",
       "E1 o- - E6 [[psysml:637c00ed-dc37-460b-98af-77d0acff244f ]] \r\n",
       "@enduml\r\n",
       "\n",
       "PlantUML version 1.2020.13(Sat Jun 13 12:26:38 UTC 2020)\n",
       "(EPL source distribution)\n",
       "Java Runtime: OpenJDK Runtime Environment\n",
       "JVM: OpenJDK 64-Bit Server VM\n",
       "Default Encoding: UTF-8\n",
       "Language: en\n",
       "Country: null\n",
       "--></g></svg>"
      ]
     },
     "execution_count": 14,
     "metadata": {},
     "output_type": "execute_result"
    }
   ],
   "source": [
    "%viz --style=\"POLYLINE\" --view=\"Sequence\" \"DecisionTest\""
   ]
  },
  {
   "cell_type": "code",
   "execution_count": 15,
   "id": "ac3c09c3",
   "metadata": {
    "execution": {
     "iopub.execute_input": "2021-06-30T09:20:28.225624Z",
     "iopub.status.busy": "2021-06-30T09:20:28.224644Z",
     "iopub.status.idle": "2021-06-30T09:20:28.275073Z",
     "shell.execute_reply": "2021-06-30T09:20:28.274604Z"
    }
   },
   "outputs": [
    {
     "data": {
      "image/svg+xml": [
       "<?xml version=\"1.0\" encoding=\"UTF-8\" standalone=\"no\"?><svg xmlns=\"http://www.w3.org/2000/svg\" xmlns:xlink=\"http://www.w3.org/1999/xlink\" contentScriptType=\"application/ecmascript\" contentStyleType=\"text/css\" height=\"488px\" preserveAspectRatio=\"none\" style=\"width:333px;height:488px;\" version=\"1.1\" viewBox=\"0 0 333 488\" width=\"333px\" zoomAndPan=\"magnify\"><defs/><g><!--MD5=[fbc87193dbaf4d95561dea2c320d4a47]\n",
       "cluster E1--><a href=\"psysml:068a4463-a96d-4165-a2bc-cadf70a9bc09\" target=\"_top\" title=\"psysml:068a4463-a96d-4165-a2bc-cadf70a9bc09\" xlink:actuate=\"onRequest\" xlink:href=\"psysml:068a4463-a96d-4165-a2bc-cadf70a9bc09\" xlink:show=\"new\" xlink:title=\"psysml:068a4463-a96d-4165-a2bc-cadf70a9bc09\" xlink:type=\"simple\"><rect fill=\"#FFFFFF\" height=\"470\" id=\"E1\" style=\"stroke: #383838; stroke-width: 1.5;\" width=\"315\" x=\"7\" y=\"7\"/><rect fill=\"#F8F8F8\" height=\"37.9375\" style=\"stroke: #383838; stroke-width: 1.5;\" width=\"315\" x=\"7\" y=\"7\"/><text fill=\"#000000\" font-family=\"sans-serif\" font-size=\"12\" font-style=\"italic\" lengthAdjust=\"spacingAndGlyphs\" textLength=\"77\" x=\"126\" y=\"23.1387\">«action def»</text><text fill=\"#000000\" font-family=\"sans-serif\" font-size=\"12\" lengthAdjust=\"spacingAndGlyphs\" textLength=\"80\" x=\"124.5\" y=\"37.1074\">DecisionTest</text></a><polygon fill=\"#F8F8F8\" points=\"210,67.5,222,79.5,210,91.5,198,79.5,210,67.5\" style=\"stroke: #383838; stroke-width: 1.5;\"/><polygon fill=\"#F8F8F8\" points=\"35,187.5,47,199.5,35,211.5,23,199.5,35,187.5\" style=\"stroke: #383838; stroke-width: 1.5;\"/><g id=\"E1.E4\"><a href=\"psysml:86b53981-b1ee-4c30-93d6-edfc048c3f3e\" target=\"_top\" title=\"psysml:86b53981-b1ee-4c30-93d6-edfc048c3f3e\" xlink:actuate=\"onRequest\" xlink:href=\"psysml:86b53981-b1ee-4c30-93d6-edfc048c3f3e\" xlink:show=\"new\" xlink:title=\"psysml:86b53981-b1ee-4c30-93d6-edfc048c3f3e\" xlink:type=\"simple\"><rect fill=\"#FFFFFF\" height=\"42.9375\" id=\"E4\" rx=\"10\" ry=\"10\" style=\"stroke: #383838; stroke-width: 1.5;\" width=\"60\" x=\"135\" y=\"298\"/><rect fill=\"#F8F8F8\" height=\"37.9375\" rx=\"10\" ry=\"10\" style=\"stroke: #F8F8F8; stroke-width: 1.5;\" width=\"60\" x=\"135\" y=\"298\"/><rect fill=\"#F8F8F8\" height=\"10\" style=\"stroke: #F8F8F8; stroke-width: 1.5;\" width=\"60\" x=\"135\" y=\"325.9375\"/><rect fill=\"none\" height=\"42.9375\" id=\"E4\" rx=\"10\" ry=\"10\" style=\"stroke: #383838; stroke-width: 1.5;\" width=\"60\" x=\"135\" y=\"298\"/><text fill=\"#000000\" font-family=\"sans-serif\" font-size=\"12\" font-style=\"italic\" lengthAdjust=\"spacingAndGlyphs\" textLength=\"53\" x=\"138.5\" y=\"314.1387\">«action»</text><text fill=\"#000000\" font-family=\"sans-serif\" font-size=\"12\" lengthAdjust=\"spacingAndGlyphs\" textLength=\"16\" x=\"157\" y=\"328.1074\">A1</text></a></g><g id=\"E1.E5\"><a href=\"psysml:38b4e12b-2856-48b1-8683-970a7e146d76\" target=\"_top\" title=\"psysml:38b4e12b-2856-48b1-8683-970a7e146d76\" xlink:actuate=\"onRequest\" xlink:href=\"psysml:38b4e12b-2856-48b1-8683-970a7e146d76\" xlink:show=\"new\" xlink:title=\"psysml:38b4e12b-2856-48b1-8683-970a7e146d76\" xlink:type=\"simple\"><rect fill=\"#FFFFFF\" height=\"42.9375\" id=\"E5\" rx=\"10\" ry=\"10\" style=\"stroke: #383838; stroke-width: 1.5;\" width=\"60\" x=\"135\" y=\"418\"/><rect fill=\"#F8F8F8\" height=\"37.9375\" rx=\"10\" ry=\"10\" style=\"stroke: #F8F8F8; stroke-width: 1.5;\" width=\"60\" x=\"135\" y=\"418\"/><rect fill=\"#F8F8F8\" height=\"10\" style=\"stroke: #F8F8F8; stroke-width: 1.5;\" width=\"60\" x=\"135\" y=\"445.9375\"/><rect fill=\"none\" height=\"42.9375\" id=\"E5\" rx=\"10\" ry=\"10\" style=\"stroke: #383838; stroke-width: 1.5;\" width=\"60\" x=\"135\" y=\"418\"/><text fill=\"#000000\" font-family=\"sans-serif\" font-size=\"12\" font-style=\"italic\" lengthAdjust=\"spacingAndGlyphs\" textLength=\"53\" x=\"138.5\" y=\"434.1387\">«action»</text><text fill=\"#000000\" font-family=\"sans-serif\" font-size=\"12\" lengthAdjust=\"spacingAndGlyphs\" textLength=\"16\" x=\"157\" y=\"448.1074\">A2</text></a></g><g id=\"E1.E6\"><a href=\"psysml:3ceea1c4-b769-4e45-b22d-b9b14232dc11\" target=\"_top\" title=\"psysml:3ceea1c4-b769-4e45-b22d-b9b14232dc11\" xlink:actuate=\"onRequest\" xlink:href=\"psysml:3ceea1c4-b769-4e45-b22d-b9b14232dc11\" xlink:show=\"new\" xlink:title=\"psysml:3ceea1c4-b769-4e45-b22d-b9b14232dc11\" xlink:type=\"simple\"><rect fill=\"#FFFFFF\" height=\"42.9375\" id=\"E6\" rx=\"10\" ry=\"10\" style=\"stroke: #383838; stroke-width: 1.5;\" width=\"60\" x=\"63\" y=\"58\"/><rect fill=\"#F8F8F8\" height=\"37.9375\" rx=\"10\" ry=\"10\" style=\"stroke: #F8F8F8; stroke-width: 1.5;\" width=\"60\" x=\"63\" y=\"58\"/><rect fill=\"#F8F8F8\" height=\"10\" style=\"stroke: #F8F8F8; stroke-width: 1.5;\" width=\"60\" x=\"63\" y=\"85.9375\"/><rect fill=\"none\" height=\"42.9375\" id=\"E6\" rx=\"10\" ry=\"10\" style=\"stroke: #383838; stroke-width: 1.5;\" width=\"60\" x=\"63\" y=\"58\"/><text fill=\"#000000\" font-family=\"sans-serif\" font-size=\"12\" font-style=\"italic\" lengthAdjust=\"spacingAndGlyphs\" textLength=\"53\" x=\"66.5\" y=\"74.1387\">«action»</text><text fill=\"#000000\" font-family=\"sans-serif\" font-size=\"12\" lengthAdjust=\"spacingAndGlyphs\" textLength=\"16\" x=\"85\" y=\"88.1074\">A3</text></a></g><g id=\"E1.E7\"><a href=\"psysml:3ceea1c4-b769-4e45-b22d-b9b14232dc11\" target=\"_top\" title=\"psysml:3ceea1c4-b769-4e45-b22d-b9b14232dc11\" xlink:actuate=\"onRequest\" xlink:href=\"psysml:3ceea1c4-b769-4e45-b22d-b9b14232dc11\" xlink:show=\"new\" xlink:title=\"psysml:3ceea1c4-b769-4e45-b22d-b9b14232dc11\" xlink:type=\"simple\"><rect fill=\"#FFFFFF\" height=\"42.9375\" id=\"E7\" rx=\"10\" ry=\"10\" style=\"stroke: #383838; stroke-width: 1.5;\" width=\"60\" x=\"246\" y=\"178\"/><rect fill=\"#F8F8F8\" height=\"37.9375\" rx=\"10\" ry=\"10\" style=\"stroke: #F8F8F8; stroke-width: 1.5;\" width=\"60\" x=\"246\" y=\"178\"/><rect fill=\"#F8F8F8\" height=\"10\" style=\"stroke: #F8F8F8; stroke-width: 1.5;\" width=\"60\" x=\"246\" y=\"205.9375\"/><rect fill=\"none\" height=\"42.9375\" id=\"E7\" rx=\"10\" ry=\"10\" style=\"stroke: #383838; stroke-width: 1.5;\" width=\"60\" x=\"246\" y=\"178\"/><text fill=\"#000000\" font-family=\"sans-serif\" font-size=\"12\" font-style=\"italic\" lengthAdjust=\"spacingAndGlyphs\" textLength=\"53\" x=\"249.5\" y=\"194.1387\">«action»</text><text fill=\"#000000\" font-family=\"sans-serif\" font-size=\"12\" lengthAdjust=\"spacingAndGlyphs\" textLength=\"16\" x=\"268\" y=\"208.1074\">A3</text></a></g><!--MD5=[4d03bb2d0377dc85ccfab60ff574652b]\n",
       "link E2 to E4--><a href=\"psysml:5839aeb0-dd7d-4257-be26-6d697b84d54b\" target=\"_top\" title=\"psysml:5839aeb0-dd7d-4257-be26-6d697b84d54b\" xlink:actuate=\"onRequest\" xlink:href=\"psysml:5839aeb0-dd7d-4257-be26-6d697b84d54b\" xlink:show=\"new\" xlink:title=\"psysml:5839aeb0-dd7d-4257-be26-6d697b84d54b\" xlink:type=\"simple\"><path d=\"M205.46,87.2 C190.55,109.23 144,178 144,178 C144,178 144,221 144,221 C144,221 153.2,263.72 159.42,292.6 \" fill=\"none\" id=\"E2-&gt;E4\" style=\"stroke: #383838; stroke-width: 1.0;\"/><polygon fill=\"#383838\" points=\"160.55,297.82,162.5831,288.1833,159.5063,292.9302,154.7594,289.8533,160.55,297.82\" style=\"stroke: #383838; stroke-width: 1.0;\"/><text fill=\"#000000\" font-family=\"sans-serif\" font-size=\"13\" lengthAdjust=\"spacingAndGlyphs\" textLength=\"55\" x=\"145\" y=\"204.0669\">[x == 1]</text></a><!--MD5=[dcad52bbbca2fe8adc741ce38b45dc12]\n",
       "link E2 to E5--><a href=\"psysml:6472265e-4329-42f9-a73f-b0fdd653d81d\" target=\"_top\" title=\"psysml:6472265e-4329-42f9-a73f-b0fdd653d81d\" xlink:actuate=\"onRequest\" xlink:href=\"psysml:6472265e-4329-42f9-a73f-b0fdd653d81d\" xlink:show=\"new\" xlink:title=\"psysml:6472265e-4329-42f9-a73f-b0fdd653d81d\" xlink:type=\"simple\"><path d=\"M210.59,91.18 C213.48,143.59 226,371 226,371 C226,371 226,388 226,388 C226,388 209.6,401.58 193.8,414.65 \" fill=\"none\" id=\"E2-&gt;E5\" style=\"stroke: #383838; stroke-width: 1.0;\"/><polygon fill=\"#383838\" points=\"189.81,417.96,199.2964,415.3128,193.6651,414.776,194.202,409.1446,189.81,417.96\" style=\"stroke: #383838; stroke-width: 1.0;\"/><text fill=\"#000000\" font-family=\"sans-serif\" font-size=\"13\" lengthAdjust=\"spacingAndGlyphs\" textLength=\"44\" x=\"221\" y=\"264.0669\">[x &gt; 1]</text></a><!--MD5=[e3d2a08a9c9236652057e8ed0cbc9b62]\n",
       "link E2 to E7--><a href=\"psysml:3c10905a-0cf4-4572-9b68-27220c544656\" target=\"_top\" title=\"psysml:3c10905a-0cf4-4572-9b68-27220c544656\" xlink:actuate=\"onRequest\" xlink:href=\"psysml:3c10905a-0cf4-4572-9b68-27220c544656\" xlink:show=\"new\" xlink:title=\"psysml:3c10905a-0cf4-4572-9b68-27220c544656\" xlink:type=\"simple\"><path d=\"M211.81,89.89 C215.38,108.43 223,148 223,148 C223,148 237.01,161.35 250.63,174.32 \" fill=\"none\" id=\"E2-&gt;E7\" style=\"stroke: #383838; stroke-width: 1.0;\"/><polygon fill=\"#383838\" points=\"254.44,177.96,250.6644,168.8636,250.8129,174.5185,245.158,174.667,254.44,177.96\" style=\"stroke: #383838; stroke-width: 1.0;\"/></a><!--MD5=[583832df87f4419a098336a29a52fa00]\n",
       "link E7 to E2--><a href=\"psysml:2ecae6e1-cb24-4407-809b-df9594bdb8fa\" target=\"_top\" title=\"psysml:2ecae6e1-cb24-4407-809b-df9594bdb8fa\" xlink:actuate=\"onRequest\" xlink:href=\"psysml:2ecae6e1-cb24-4407-809b-df9594bdb8fa\" xlink:show=\"new\" xlink:title=\"psysml:2ecae6e1-cb24-4407-809b-df9594bdb8fa\" xlink:type=\"simple\"><path d=\"M264.3,177.59 C250.41,152.74 227.7,112.15 216.57,92.25 \" fill=\"none\" id=\"E7-&gt;E2\" style=\"stroke: #383838; stroke-width: 1.0;\"/><polygon fill=\"#383838\" points=\"214.13,87.88,215.0286,97.6878,216.5691,92.2447,222.0122,93.7852,214.13,87.88\" style=\"stroke: #383838; stroke-width: 1.0;\"/><text fill=\"#000000\" font-family=\"sans-serif\" font-size=\"13\" lengthAdjust=\"spacingAndGlyphs\" textLength=\"44\" x=\"247\" y=\"144.0669\">[x &gt; 0]</text></a><!--MD5=[2720a5a1f2c3fca2055b230370638851]\n",
       "link E2 to E3--><a href=\"psysml:4534ef33-8eda-405a-b2f5-6c95fd446375\" target=\"_top\" title=\"psysml:4534ef33-8eda-405a-b2f5-6c95fd446375\" xlink:actuate=\"onRequest\" xlink:href=\"psysml:4534ef33-8eda-405a-b2f5-6c95fd446375\" xlink:show=\"new\" xlink:title=\"psysml:4534ef33-8eda-405a-b2f5-6c95fd446375\" xlink:type=\"simple\"><path d=\"M202.33,84.3 C178.61,96.04 108,131 108,131 C108,131 64.37,171.35 44.57,189.65 \" fill=\"none\" id=\"E2-&gt;E3\" style=\"stroke: #383838; stroke-width: 1.0;\"/><polygon fill=\"#383838\" points=\"40.73,193.2,50.0512,190.0196,44.3985,189.8027,44.6155,184.15,40.73,193.2\" style=\"stroke: #383838; stroke-width: 1.0;\"/></a><!--MD5=[af87c684e3b0d8be13c1a698a818ef1e]\n",
       "link E3 to E4--><a href=\"psysml:4cb33783-cb85-4624-8a6d-789ab5e27309\" target=\"_top\" title=\"psysml:4cb33783-cb85-4624-8a6d-789ab5e27309\" xlink:actuate=\"onRequest\" xlink:href=\"psysml:4cb33783-cb85-4624-8a6d-789ab5e27309\" xlink:show=\"new\" xlink:title=\"psysml:4cb33783-cb85-4624-8a6d-789ab5e27309\" xlink:type=\"simple\"><path d=\"M39.7,206.97 C51.96,223.87 84,268 84,268 C84,268 108.44,283.24 130.47,296.97 \" fill=\"none\" id=\"E3-&gt;E4\" style=\"stroke: #383838; stroke-width: 1.0;\"/><polygon fill=\"#383838\" points=\"134.84,299.7,129.3157,291.5464,130.596,297.0564,125.0859,298.3368,134.84,299.7\" style=\"stroke: #383838; stroke-width: 1.0;\"/><text fill=\"#000000\" font-family=\"sans-serif\" font-size=\"13\" lengthAdjust=\"spacingAndGlyphs\" textLength=\"36\" x=\"85\" y=\"264.0669\">[true]</text></a><!--MD5=[0188b64bb0ae78505a997a81836e11e9]\n",
       "link E3 to E5--><a href=\"psysml:7566f218-2e4c-4b1d-8134-f6de9f4cb12f\" target=\"_top\" title=\"psysml:7566f218-2e4c-4b1d-8134-f6de9f4cb12f\" xlink:actuate=\"onRequest\" xlink:href=\"psysml:7566f218-2e4c-4b1d-8134-f6de9f4cb12f\" xlink:show=\"new\" xlink:title=\"psysml:7566f218-2e4c-4b1d-8134-f6de9f4cb12f\" xlink:type=\"simple\"><path d=\"M37.56,209.29 C46.54,240.05 76,341 76,341 C76,341 116.3,385.15 142.66,414.03 \" fill=\"none\" id=\"E3-&gt;E5\" style=\"stroke: #383838; stroke-width: 1.0;\"/><polygon fill=\"#383838\" points=\"146.13,417.82,143.0249,408.4734,142.7624,414.1242,137.1116,413.8616,146.13,417.82\" style=\"stroke: #383838; stroke-width: 1.0;\"/><text fill=\"#000000\" font-family=\"sans-serif\" font-size=\"13\" lengthAdjust=\"spacingAndGlyphs\" textLength=\"40\" x=\"77\" y=\"324.0669\">[false]</text></a><!--MD5=[1b7591eae5389033d8d09a9d6721a717]\n",
       "link E4 to E5--><a href=\"psysml:2ec4d8de-ba31-4f08-a58c-ce574f556666\" target=\"_top\" title=\"psysml:2ec4d8de-ba31-4f08-a58c-ce574f556666\" xlink:actuate=\"onRequest\" xlink:href=\"psysml:2ec4d8de-ba31-4f08-a58c-ce574f556666\" xlink:show=\"new\" xlink:title=\"psysml:2ec4d8de-ba31-4f08-a58c-ce574f556666\" xlink:type=\"simple\"><path d=\"M165,341.05 C165,360.9 165,391.02 165,412.52 \" fill=\"none\" id=\"E4-&gt;E5\" style=\"stroke: #383838; stroke-width: 1.0;\"/><polygon fill=\"#383838\" points=\"165,417.79,169,408.79,165,412.79,161,408.79,165,417.79\" style=\"stroke: #383838; stroke-width: 1.0;\"/><text fill=\"#000000\" font-family=\"sans-serif\" font-size=\"13\" lengthAdjust=\"spacingAndGlyphs\" textLength=\"55\" x=\"166\" y=\"384.0669\">[x == 0]</text></a><!--MD5=[8ec56afd17c2d5dd456e284470761e5e]\n",
       "@startuml\r\n",
       "skinparam linetype polyline\r\n",
       "skinparam monochrome true\r\n",
       "skinparam classbackgroundcolor white\r\n",
       "skinparam shadowing false\r\n",
       "skinparam wrapWidth 300\r\n",
       "hide circle\r\n",
       "\r\n",
       "rec def \"DecisionTest\" as E1  <<(T,blue) action def>> [[psysml:068a4463-a96d-4165-a2bc-cadf70a9bc09 ]] {\r\n",
       "choice \"test x\" as E2  [[psysml:44ee9e06-5fd9-46bf-b0f8-00dd693073b7 ]] \r\n",
       "choice \"noname\" as E3  [[psysml:eeb68ac4-2ad3-4e0c-9c18-140c63d1edba ]] \r\n",
       "rec usage \"A1\" as E4  <<(T,blue) action>> [[psysml:86b53981-b1ee-4c30-93d6-edfc048c3f3e ]] {\r\n",
       "}\r\n",
       "\r\n",
       "rec usage \"A2\" as E5  <<(T,blue) action>> [[psysml:38b4e12b-2856-48b1-8683-970a7e146d76 ]] {\r\n",
       "}\r\n",
       "\r\n",
       "rec usage \"A3\" as E6  <<(T,blue) action>> [[psysml:3ceea1c4-b769-4e45-b22d-b9b14232dc11 ]] {\r\n",
       "}\r\n",
       "\r\n",
       "rec usage \"A3\" as E7  <<(T,blue) action>> [[psysml:3ceea1c4-b769-4e45-b22d-b9b14232dc11 ]] {\r\n",
       "}\r\n",
       "\r\n",
       "}\r\n",
       "\r\n",
       "E2  - -> E4 [[psysml:5839aeb0-dd7d-4257-be26-6d697b84d54b ]] : [x == 1]\r\n",
       "E2  - -> E5 [[psysml:6472265e-4329-42f9-a73f-b0fdd653d81d ]] : [x > 1]\r\n",
       "E2  - -> E7 [[psysml:3c10905a-0cf4-4572-9b68-27220c544656 ]] \r\n",
       "E2 - -> E3 [[psysml:4534ef33-8eda-405a-b2f5-6c95fd446375 ]] \r\n",
       "E3  - -> E4 [[psysml:4cb33783-cb85-4624-8a6d-789ab5e27309 ]] : [true]\r\n",
       "E3  - -> E5 [[psysml:7566f218-2e4c-4b1d-8134-f6de9f4cb12f ]] : [false]\r\n",
       "E4  - -> E5 [[psysml:2ec4d8de-ba31-4f08-a58c-ce574f556666 ]] : [x == 0]\r\n",
       "E7  - -> E2 [[psysml:2ecae6e1-cb24-4407-809b-df9594bdb8fa ]] : [x > 0]\r\n",
       "@enduml\r\n",
       "\n",
       "PlantUML version 1.2020.13(Sat Jun 13 12:26:38 UTC 2020)\n",
       "(EPL source distribution)\n",
       "Java Runtime: OpenJDK Runtime Environment\n",
       "JVM: OpenJDK 64-Bit Server VM\n",
       "Default Encoding: UTF-8\n",
       "Language: en\n",
       "Country: null\n",
       "--></g></svg>"
      ]
     },
     "execution_count": 15,
     "metadata": {},
     "output_type": "execute_result"
    }
   ],
   "source": [
    "%viz --style=\"POLYLINE\" --view=\"MIXED\" \"DecisionTest\""
   ]
  },
  {
   "cell_type": "code",
   "execution_count": 16,
   "id": "d160ea98",
   "metadata": {
    "execution": {
     "iopub.execute_input": "2021-06-30T09:20:28.327583Z",
     "iopub.status.busy": "2021-06-30T09:20:28.325471Z",
     "iopub.status.idle": "2021-06-30T09:20:28.379997Z",
     "shell.execute_reply": "2021-06-30T09:20:28.378006Z"
    }
   },
   "outputs": [
    {
     "data": {
      "image/svg+xml": [
       "<?xml version=\"1.0\" encoding=\"UTF-8\" standalone=\"no\"?><svg xmlns=\"http://www.w3.org/2000/svg\" xmlns:xlink=\"http://www.w3.org/1999/xlink\" contentScriptType=\"application/ecmascript\" contentStyleType=\"text/css\" height=\"312px\" preserveAspectRatio=\"none\" style=\"width:619px;height:312px;\" version=\"1.1\" viewBox=\"0 0 619 312\" width=\"619px\" zoomAndPan=\"magnify\"><defs/><g><!--MD5=[fbc87193dbaf4d95561dea2c320d4a47]\n",
       "cluster E1--><a href=\"psysml:068a4463-a96d-4165-a2bc-cadf70a9bc09\" target=\"_top\" title=\"psysml:068a4463-a96d-4165-a2bc-cadf70a9bc09\" xlink:actuate=\"onRequest\" xlink:href=\"psysml:068a4463-a96d-4165-a2bc-cadf70a9bc09\" xlink:show=\"new\" xlink:title=\"psysml:068a4463-a96d-4165-a2bc-cadf70a9bc09\" xlink:type=\"simple\"><rect fill=\"#FFFFFF\" height=\"294\" id=\"E1\" style=\"stroke: #383838; stroke-width: 1.5;\" width=\"601\" x=\"7\" y=\"7\"/><rect fill=\"#F8F8F8\" height=\"37.9375\" style=\"stroke: #383838; stroke-width: 1.5;\" width=\"601\" x=\"7\" y=\"7\"/><text fill=\"#000000\" font-family=\"sans-serif\" font-size=\"12\" font-style=\"italic\" lengthAdjust=\"spacingAndGlyphs\" textLength=\"77\" x=\"269\" y=\"23.1387\">«action def»</text><text fill=\"#000000\" font-family=\"sans-serif\" font-size=\"12\" lengthAdjust=\"spacingAndGlyphs\" textLength=\"80\" x=\"267.5\" y=\"37.1074\">DecisionTest</text></a><polygon fill=\"#F8F8F8\" points=\"53,126,65,138,53,150,41,138,53,126\" style=\"stroke: #383838; stroke-width: 1.5;\"/><polygon fill=\"#F8F8F8\" points=\"219,261,231,273,219,285,207,273,219,261\" style=\"stroke: #383838; stroke-width: 1.5;\"/><g id=\"E1.E4\"><a href=\"psysml:86b53981-b1ee-4c30-93d6-edfc048c3f3e\" target=\"_top\" title=\"psysml:86b53981-b1ee-4c30-93d6-edfc048c3f3e\" xlink:actuate=\"onRequest\" xlink:href=\"psysml:86b53981-b1ee-4c30-93d6-edfc048c3f3e\" xlink:show=\"new\" xlink:title=\"psysml:86b53981-b1ee-4c30-93d6-edfc048c3f3e\" xlink:type=\"simple\"><rect fill=\"#FFFFFF\" height=\"42.9375\" id=\"E4\" rx=\"10\" ry=\"10\" style=\"stroke: #383838; stroke-width: 1.5;\" width=\"60\" x=\"355\" y=\"154.5\"/><rect fill=\"#F8F8F8\" height=\"37.9375\" rx=\"10\" ry=\"10\" style=\"stroke: #F8F8F8; stroke-width: 1.5;\" width=\"60\" x=\"355\" y=\"154.5\"/><rect fill=\"#F8F8F8\" height=\"10\" style=\"stroke: #F8F8F8; stroke-width: 1.5;\" width=\"60\" x=\"355\" y=\"182.4375\"/><rect fill=\"none\" height=\"42.9375\" id=\"E4\" rx=\"10\" ry=\"10\" style=\"stroke: #383838; stroke-width: 1.5;\" width=\"60\" x=\"355\" y=\"154.5\"/><text fill=\"#000000\" font-family=\"sans-serif\" font-size=\"12\" font-style=\"italic\" lengthAdjust=\"spacingAndGlyphs\" textLength=\"53\" x=\"358.5\" y=\"170.6387\">«action»</text><text fill=\"#000000\" font-family=\"sans-serif\" font-size=\"12\" lengthAdjust=\"spacingAndGlyphs\" textLength=\"16\" x=\"377\" y=\"184.6074\">A1</text></a></g><g id=\"E1.E5\"><a href=\"psysml:38b4e12b-2856-48b1-8683-970a7e146d76\" target=\"_top\" title=\"psysml:38b4e12b-2856-48b1-8683-970a7e146d76\" xlink:actuate=\"onRequest\" xlink:href=\"psysml:38b4e12b-2856-48b1-8683-970a7e146d76\" xlink:show=\"new\" xlink:title=\"psysml:38b4e12b-2856-48b1-8683-970a7e146d76\" xlink:type=\"simple\"><rect fill=\"#FFFFFF\" height=\"42.9375\" id=\"E5\" rx=\"10\" ry=\"10\" style=\"stroke: #383838; stroke-width: 1.5;\" width=\"60\" x=\"532\" y=\"154.5\"/><rect fill=\"#F8F8F8\" height=\"37.9375\" rx=\"10\" ry=\"10\" style=\"stroke: #F8F8F8; stroke-width: 1.5;\" width=\"60\" x=\"532\" y=\"154.5\"/><rect fill=\"#F8F8F8\" height=\"10\" style=\"stroke: #F8F8F8; stroke-width: 1.5;\" width=\"60\" x=\"532\" y=\"182.4375\"/><rect fill=\"none\" height=\"42.9375\" id=\"E5\" rx=\"10\" ry=\"10\" style=\"stroke: #383838; stroke-width: 1.5;\" width=\"60\" x=\"532\" y=\"154.5\"/><text fill=\"#000000\" font-family=\"sans-serif\" font-size=\"12\" font-style=\"italic\" lengthAdjust=\"spacingAndGlyphs\" textLength=\"53\" x=\"535.5\" y=\"170.6387\">«action»</text><text fill=\"#000000\" font-family=\"sans-serif\" font-size=\"12\" lengthAdjust=\"spacingAndGlyphs\" textLength=\"16\" x=\"554\" y=\"184.6074\">A2</text></a></g><g id=\"E1.E6\"><a href=\"psysml:3ceea1c4-b769-4e45-b22d-b9b14232dc11\" target=\"_top\" title=\"psysml:3ceea1c4-b769-4e45-b22d-b9b14232dc11\" xlink:actuate=\"onRequest\" xlink:href=\"psysml:3ceea1c4-b769-4e45-b22d-b9b14232dc11\" xlink:show=\"new\" xlink:title=\"psysml:3ceea1c4-b769-4e45-b22d-b9b14232dc11\" xlink:type=\"simple\"><rect fill=\"#FFFFFF\" height=\"42.9375\" id=\"E6\" rx=\"10\" ry=\"10\" style=\"stroke: #383838; stroke-width: 1.5;\" width=\"60\" x=\"23\" y=\"213.5\"/><rect fill=\"#F8F8F8\" height=\"37.9375\" rx=\"10\" ry=\"10\" style=\"stroke: #F8F8F8; stroke-width: 1.5;\" width=\"60\" x=\"23\" y=\"213.5\"/><rect fill=\"#F8F8F8\" height=\"10\" style=\"stroke: #F8F8F8; stroke-width: 1.5;\" width=\"60\" x=\"23\" y=\"241.4375\"/><rect fill=\"none\" height=\"42.9375\" id=\"E6\" rx=\"10\" ry=\"10\" style=\"stroke: #383838; stroke-width: 1.5;\" width=\"60\" x=\"23\" y=\"213.5\"/><text fill=\"#000000\" font-family=\"sans-serif\" font-size=\"12\" font-style=\"italic\" lengthAdjust=\"spacingAndGlyphs\" textLength=\"53\" x=\"26.5\" y=\"229.6387\">«action»</text><text fill=\"#000000\" font-family=\"sans-serif\" font-size=\"12\" lengthAdjust=\"spacingAndGlyphs\" textLength=\"16\" x=\"45\" y=\"243.6074\">A3</text></a></g><g id=\"E1.E7\"><a href=\"psysml:3ceea1c4-b769-4e45-b22d-b9b14232dc11\" target=\"_top\" title=\"psysml:3ceea1c4-b769-4e45-b22d-b9b14232dc11\" xlink:actuate=\"onRequest\" xlink:href=\"psysml:3ceea1c4-b769-4e45-b22d-b9b14232dc11\" xlink:show=\"new\" xlink:title=\"psysml:3ceea1c4-b769-4e45-b22d-b9b14232dc11\" xlink:type=\"simple\"><rect fill=\"#FFFFFF\" height=\"42.9375\" id=\"E7\" rx=\"10\" ry=\"10\" style=\"stroke: #383838; stroke-width: 1.5;\" width=\"60\" x=\"189\" y=\"58.5\"/><rect fill=\"#F8F8F8\" height=\"37.9375\" rx=\"10\" ry=\"10\" style=\"stroke: #F8F8F8; stroke-width: 1.5;\" width=\"60\" x=\"189\" y=\"58.5\"/><rect fill=\"#F8F8F8\" height=\"10\" style=\"stroke: #F8F8F8; stroke-width: 1.5;\" width=\"60\" x=\"189\" y=\"86.4375\"/><rect fill=\"none\" height=\"42.9375\" id=\"E7\" rx=\"10\" ry=\"10\" style=\"stroke: #383838; stroke-width: 1.5;\" width=\"60\" x=\"189\" y=\"58.5\"/><text fill=\"#000000\" font-family=\"sans-serif\" font-size=\"12\" font-style=\"italic\" lengthAdjust=\"spacingAndGlyphs\" textLength=\"53\" x=\"192.5\" y=\"74.6387\">«action»</text><text fill=\"#000000\" font-family=\"sans-serif\" font-size=\"12\" lengthAdjust=\"spacingAndGlyphs\" textLength=\"16\" x=\"211\" y=\"88.6074\">A3</text></a></g><!--MD5=[4d03bb2d0377dc85ccfab60ff574652b]\n",
       "link E2 to E4--><a href=\"psysml:5839aeb0-dd7d-4257-be26-6d697b84d54b\" target=\"_top\" title=\"psysml:5839aeb0-dd7d-4257-be26-6d697b84d54b\" xlink:actuate=\"onRequest\" xlink:href=\"psysml:5839aeb0-dd7d-4257-be26-6d697b84d54b\" xlink:show=\"new\" xlink:title=\"psysml:5839aeb0-dd7d-4257-be26-6d697b84d54b\" xlink:type=\"simple\"><path d=\"M63.11,140.12 C84.79,145.1 141.22,157.56 189,164 C228.76,169.36 238.96,168.49 279,171 C302.51,172.47 329,173.73 349.49,174.62 \" fill=\"none\" id=\"E2-&gt;E4\" style=\"stroke: #383838; stroke-width: 1.0;\"/><polygon fill=\"#383838\" points=\"354.57,174.84,345.7495,170.4583,349.5746,174.6259,345.407,178.451,354.57,174.84\" style=\"stroke: #383838; stroke-width: 1.0;\"/><text fill=\"#000000\" font-family=\"sans-serif\" font-size=\"13\" lengthAdjust=\"spacingAndGlyphs\" textLength=\"55\" x=\"191.5\" y=\"160.0669\">[x == 1]</text></a><!--MD5=[dcad52bbbca2fe8adc741ce38b45dc12]\n",
       "link E2 to E5--><a href=\"psysml:6472265e-4329-42f9-a73f-b0fdd653d81d\" target=\"_top\" title=\"psysml:6472265e-4329-42f9-a73f-b0fdd653d81d\" xlink:actuate=\"onRequest\" xlink:href=\"psysml:6472265e-4329-42f9-a73f-b0fdd653d81d\" xlink:show=\"new\" xlink:title=\"psysml:6472265e-4329-42f9-a73f-b0fdd653d81d\" xlink:type=\"simple\"><path d=\"M64.36,137.35 C107.45,134.77 276.62,125.94 415,137 C454.04,140.12 464.36,140.17 502,151 C510.23,153.37 518.85,156.58 526.88,159.9 \" fill=\"none\" id=\"E2-&gt;E5\" style=\"stroke: #383838; stroke-width: 1.0;\"/><polygon fill=\"#383838\" points=\"531.79,161.98,525.0555,154.7935,527.184,160.0346,521.9428,162.1631,531.79,161.98\" style=\"stroke: #383838; stroke-width: 1.0;\"/><text fill=\"#000000\" font-family=\"sans-serif\" font-size=\"13\" lengthAdjust=\"spacingAndGlyphs\" textLength=\"44\" x=\"280\" y=\"128.0669\">[x &gt; 1]</text></a><!--MD5=[e3d2a08a9c9236652057e8ed0cbc9b62]\n",
       "link E2 to E7--><a href=\"psysml:3c10905a-0cf4-4572-9b68-27220c544656\" target=\"_top\" title=\"psysml:3c10905a-0cf4-4572-9b68-27220c544656\" xlink:actuate=\"onRequest\" xlink:href=\"psysml:3c10905a-0cf4-4572-9b68-27220c544656\" xlink:show=\"new\" xlink:title=\"psysml:3c10905a-0cf4-4572-9b68-27220c544656\" xlink:type=\"simple\"><path d=\"M64.07,136.95 C86.88,134.47 141.79,127.95 159,121 C169.04,116.94 179.05,110.93 187.9,104.74 \" fill=\"none\" id=\"E2-&gt;E7\" style=\"stroke: #383838; stroke-width: 1.0;\"/><polygon fill=\"#383838\" points=\"192.15,101.7,182.5021,103.6794,188.0823,104.6075,187.1542,110.1877,192.15,101.7\" style=\"stroke: #383838; stroke-width: 1.0;\"/></a><!--MD5=[583832df87f4419a098336a29a52fa00]\n",
       "link E7 to E2--><a href=\"psysml:2ecae6e1-cb24-4407-809b-df9594bdb8fa\" target=\"_top\" title=\"psysml:2ecae6e1-cb24-4407-809b-df9594bdb8fa\" xlink:actuate=\"onRequest\" xlink:href=\"psysml:2ecae6e1-cb24-4407-809b-df9594bdb8fa\" xlink:show=\"new\" xlink:title=\"psysml:2ecae6e1-cb24-4407-809b-df9594bdb8fa\" xlink:type=\"simple\"><path d=\"M188.96,90.27 C153.05,102.97 93.45,124.05 67.16,133.35 \" fill=\"none\" id=\"E7-&gt;E2\" style=\"stroke: #383838; stroke-width: 1.0;\"/><polygon fill=\"#383838\" points=\"62.36,135.04,72.1793,135.8026,67.0726,133.3692,69.506,128.2625,62.36,135.04\" style=\"stroke: #383838; stroke-width: 1.0;\"/><text fill=\"#000000\" font-family=\"sans-serif\" font-size=\"13\" lengthAdjust=\"spacingAndGlyphs\" textLength=\"44\" x=\"114\" y=\"99.0669\">[x &gt; 0]</text></a><!--MD5=[2720a5a1f2c3fca2055b230370638851]\n",
       "link E2 to E3--><a href=\"psysml:4534ef33-8eda-405a-b2f5-6c95fd446375\" target=\"_top\" title=\"psysml:4534ef33-8eda-405a-b2f5-6c95fd446375\" xlink:actuate=\"onRequest\" xlink:href=\"psysml:4534ef33-8eda-405a-b2f5-6c95fd446375\" xlink:show=\"new\" xlink:title=\"psysml:4534ef33-8eda-405a-b2f5-6c95fd446375\" xlink:type=\"simple\"><path d=\"M59.16,144.21 C68.98,155.84 91.34,181.43 113,200 C144.83,227.3 186.84,254.05 206.69,266.2 \" fill=\"none\" id=\"E2-&gt;E3\" style=\"stroke: #383838; stroke-width: 1.0;\"/><polygon fill=\"#383838\" points=\"211.02,268.84,205.412,260.7437,206.749,266.2403,201.2524,267.5773,211.02,268.84\" style=\"stroke: #383838; stroke-width: 1.0;\"/></a><!--MD5=[af87c684e3b0d8be13c1a698a818ef1e]\n",
       "link E3 to E4--><a href=\"psysml:4cb33783-cb85-4624-8a6d-789ab5e27309\" target=\"_top\" title=\"psysml:4cb33783-cb85-4624-8a6d-789ab5e27309\" xlink:actuate=\"onRequest\" xlink:href=\"psysml:4cb33783-cb85-4624-8a6d-789ab5e27309\" xlink:show=\"new\" xlink:title=\"psysml:4cb33783-cb85-4624-8a6d-789ab5e27309\" xlink:type=\"simple\"><path d=\"M227.5,269.12 C244.88,260.07 289.19,236.68 325,215 C333.33,209.96 342.16,204.29 350.39,198.88 \" fill=\"none\" id=\"E3-&gt;E4\" style=\"stroke: #383838; stroke-width: 1.0;\"/><polygon fill=\"#383838\" points=\"354.88,195.91,345.1688,197.551,350.7132,198.6736,349.5905,204.2179,354.88,195.91\" style=\"stroke: #383838; stroke-width: 1.0;\"/><text fill=\"#000000\" font-family=\"sans-serif\" font-size=\"13\" lengthAdjust=\"spacingAndGlyphs\" textLength=\"36\" x=\"284\" y=\"211.0669\">[true]</text></a><!--MD5=[0188b64bb0ae78505a997a81836e11e9]\n",
       "link E3 to E5--><a href=\"psysml:7566f218-2e4c-4b1d-8134-f6de9f4cb12f\" target=\"_top\" title=\"psysml:7566f218-2e4c-4b1d-8134-f6de9f4cb12f\" xlink:actuate=\"onRequest\" xlink:href=\"psysml:7566f218-2e4c-4b1d-8134-f6de9f4cb12f\" xlink:show=\"new\" xlink:title=\"psysml:7566f218-2e4c-4b1d-8134-f6de9f4cb12f\" xlink:type=\"simple\"><path d=\"M229.88,271.49 C258.74,266.97 345.32,252.55 415,232 C454.14,220.46 497.65,203.17 526.9,190.85 \" fill=\"none\" id=\"E3-&gt;E5\" style=\"stroke: #383838; stroke-width: 1.0;\"/><polygon fill=\"#383838\" points=\"531.83,188.77,521.9831,188.576,527.2218,190.7103,525.0875,195.9491,531.83,188.77\" style=\"stroke: #383838; stroke-width: 1.0;\"/><text fill=\"#000000\" font-family=\"sans-serif\" font-size=\"13\" lengthAdjust=\"spacingAndGlyphs\" textLength=\"40\" x=\"365\" y=\"228.0669\">[false]</text></a><!--MD5=[1b7591eae5389033d8d09a9d6721a717]\n",
       "link E4 to E5--><a href=\"psysml:2ec4d8de-ba31-4f08-a58c-ce574f556666\" target=\"_top\" title=\"psysml:2ec4d8de-ba31-4f08-a58c-ce574f556666\" xlink:actuate=\"onRequest\" xlink:href=\"psysml:2ec4d8de-ba31-4f08-a58c-ce574f556666\" xlink:show=\"new\" xlink:title=\"psysml:2ec4d8de-ba31-4f08-a58c-ce574f556666\" xlink:type=\"simple\"><path d=\"M415.29,176 C446.05,176 494.36,176 526.83,176 \" fill=\"none\" id=\"E4-&gt;E5\" style=\"stroke: #383838; stroke-width: 1.0;\"/><polygon fill=\"#383838\" points=\"531.91,176,522.91,172,526.91,176,522.91,180,531.91,176\" style=\"stroke: #383838; stroke-width: 1.0;\"/><text fill=\"#000000\" font-family=\"sans-serif\" font-size=\"13\" lengthAdjust=\"spacingAndGlyphs\" textLength=\"55\" x=\"446\" y=\"172.0669\">[x == 0]</text></a><!--MD5=[c5bfc80e47f6c8a511f718b0f9cff41d]\n",
       "@startuml\r\n",
       "left to right direction\r\n",
       "skinparam monochrome true\r\n",
       "skinparam classbackgroundcolor white\r\n",
       "skinparam shadowing false\r\n",
       "skinparam wrapWidth 300\r\n",
       "hide circle\r\n",
       "\r\n",
       "rec def \"DecisionTest\" as E1  <<(T,blue) action def>> [[psysml:068a4463-a96d-4165-a2bc-cadf70a9bc09 ]] {\r\n",
       "choice \"test x\" as E2  [[psysml:44ee9e06-5fd9-46bf-b0f8-00dd693073b7 ]] \r\n",
       "choice \"noname\" as E3  [[psysml:eeb68ac4-2ad3-4e0c-9c18-140c63d1edba ]] \r\n",
       "rec usage \"A1\" as E4  <<(T,blue) action>> [[psysml:86b53981-b1ee-4c30-93d6-edfc048c3f3e ]] {\r\n",
       "}\r\n",
       "\r\n",
       "rec usage \"A2\" as E5  <<(T,blue) action>> [[psysml:38b4e12b-2856-48b1-8683-970a7e146d76 ]] {\r\n",
       "}\r\n",
       "\r\n",
       "rec usage \"A3\" as E6  <<(T,blue) action>> [[psysml:3ceea1c4-b769-4e45-b22d-b9b14232dc11 ]] {\r\n",
       "}\r\n",
       "\r\n",
       "rec usage \"A3\" as E7  <<(T,blue) action>> [[psysml:3ceea1c4-b769-4e45-b22d-b9b14232dc11 ]] {\r\n",
       "}\r\n",
       "\r\n",
       "}\r\n",
       "\r\n",
       "E2  - -> E4 [[psysml:5839aeb0-dd7d-4257-be26-6d697b84d54b ]] : [x == 1]\r\n",
       "E2  - -> E5 [[psysml:6472265e-4329-42f9-a73f-b0fdd653d81d ]] : [x > 1]\r\n",
       "E2  - -> E7 [[psysml:3c10905a-0cf4-4572-9b68-27220c544656 ]] \r\n",
       "E2 - -> E3 [[psysml:4534ef33-8eda-405a-b2f5-6c95fd446375 ]] \r\n",
       "E3  - -> E4 [[psysml:4cb33783-cb85-4624-8a6d-789ab5e27309 ]] : [true]\r\n",
       "E3  - -> E5 [[psysml:7566f218-2e4c-4b1d-8134-f6de9f4cb12f ]] : [false]\r\n",
       "E4  - -> E5 [[psysml:2ec4d8de-ba31-4f08-a58c-ce574f556666 ]] : [x == 0]\r\n",
       "E7  - -> E2 [[psysml:2ecae6e1-cb24-4407-809b-df9594bdb8fa ]] : [x > 0]\r\n",
       "@enduml\r\n",
       "\n",
       "PlantUML version 1.2020.13(Sat Jun 13 12:26:38 UTC 2020)\n",
       "(EPL source distribution)\n",
       "Java Runtime: OpenJDK Runtime Environment\n",
       "JVM: OpenJDK 64-Bit Server VM\n",
       "Default Encoding: UTF-8\n",
       "Language: en\n",
       "Country: null\n",
       "--></g></svg>"
      ]
     },
     "execution_count": 16,
     "metadata": {},
     "output_type": "execute_result"
    }
   ],
   "source": [
    "%viz --style=\"LR\" --view=\"Default\" \"DecisionTest\""
   ]
  },
  {
   "cell_type": "code",
   "execution_count": 17,
   "id": "8552edf8",
   "metadata": {
    "execution": {
     "iopub.execute_input": "2021-06-30T09:20:28.431462Z",
     "iopub.status.busy": "2021-06-30T09:20:28.430929Z",
     "iopub.status.idle": "2021-06-30T09:20:28.515509Z",
     "shell.execute_reply": "2021-06-30T09:20:28.514965Z"
    }
   },
   "outputs": [
    {
     "data": {
      "image/svg+xml": [
       "<?xml version=\"1.0\" encoding=\"UTF-8\" standalone=\"no\"?><svg xmlns=\"http://www.w3.org/2000/svg\" xmlns:xlink=\"http://www.w3.org/1999/xlink\" contentScriptType=\"application/ecmascript\" contentStyleType=\"text/css\" height=\"387px\" preserveAspectRatio=\"none\" style=\"width:265px;height:387px;\" version=\"1.1\" viewBox=\"0 0 265 387\" width=\"265px\" zoomAndPan=\"magnify\"><defs/><g><!--MD5=[43c9051892ef23e1a46a86907403d788]\n",
       "class E1--><a href=\"psysml:068a4463-a96d-4165-a2bc-cadf70a9bc09\" target=\"_top\" title=\"psysml:068a4463-a96d-4165-a2bc-cadf70a9bc09\" xlink:actuate=\"onRequest\" xlink:href=\"psysml:068a4463-a96d-4165-a2bc-cadf70a9bc09\" xlink:show=\"new\" xlink:title=\"psysml:068a4463-a96d-4165-a2bc-cadf70a9bc09\" xlink:type=\"simple\"><rect fill=\"#FFFFFF\" height=\"105.1563\" id=\"E1\" style=\"stroke: #383838; stroke-width: 1.5;\" width=\"86\" x=\"7\" y=\"180.5\"/><text fill=\"#000000\" font-family=\"sans-serif\" font-size=\"12\" font-style=\"italic\" lengthAdjust=\"spacingAndGlyphs\" textLength=\"77\" x=\"11.5\" y=\"196.6387\">«action def»</text><text fill=\"#000000\" font-family=\"sans-serif\" font-size=\"12\" lengthAdjust=\"spacingAndGlyphs\" textLength=\"80\" x=\"10\" y=\"210.6074\">DecisionTest</text><line style=\"stroke: #383838; stroke-width: 1.5;\" x1=\"8\" x2=\"92\" y1=\"218.4375\" y2=\"218.4375\"/><text fill=\"#000000\" font-family=\"sans-serif\" font-size=\"11\" lengthAdjust=\"spacingAndGlyphs\" textLength=\"26\" x=\"13\" y=\"249.4526\">x=1;</text><line style=\"stroke: #383838; stroke-width: 1.0;\" x1=\"8\" x2=\"22.5\" y1=\"232.8398\" y2=\"232.8398\"/><text fill=\"#000000\" font-family=\"sans-serif\" font-size=\"11\" lengthAdjust=\"spacingAndGlyphs\" textLength=\"55\" x=\"22.5\" y=\"236.1479\">attributes</text><line style=\"stroke: #383838; stroke-width: 1.0;\" x1=\"77.5\" x2=\"92\" y1=\"232.8398\" y2=\"232.8398\"/><text fill=\"#000000\" font-family=\"sans-serif\" font-size=\"11\" lengthAdjust=\"spacingAndGlyphs\" textLength=\"8\" x=\"13\" y=\"279.062\">S</text><line style=\"stroke: #383838; stroke-width: 1.0;\" x1=\"8\" x2=\"19.5\" y1=\"262.4492\" y2=\"262.4492\"/><text fill=\"#000000\" font-family=\"sans-serif\" font-size=\"11\" lengthAdjust=\"spacingAndGlyphs\" textLength=\"61\" x=\"19.5\" y=\"265.7573\">transitions</text><line style=\"stroke: #383838; stroke-width: 1.0;\" x1=\"80.5\" x2=\"92\" y1=\"262.4492\" y2=\"262.4492\"/></a><!--MD5=[b4997ac47864f28c2f74865a473b2911]\n",
       "class E2--><a href=\"psysml:44ee9e06-5fd9-46bf-b0f8-00dd693073b7\" target=\"_top\" title=\"psysml:44ee9e06-5fd9-46bf-b0f8-00dd693073b7\" xlink:actuate=\"onRequest\" xlink:href=\"psysml:44ee9e06-5fd9-46bf-b0f8-00dd693073b7\" xlink:show=\"new\" xlink:title=\"psysml:44ee9e06-5fd9-46bf-b0f8-00dd693073b7\" xlink:type=\"simple\"><rect fill=\"#FFFFFF\" height=\"45.9375\" id=\"E2\" rx=\"10\" ry=\"10\" style=\"stroke: #383838; stroke-width: 1.5;\" width=\"101\" x=\"153\" y=\"7\"/><text fill=\"#000000\" font-family=\"sans-serif\" font-size=\"12\" font-style=\"italic\" lengthAdjust=\"spacingAndGlyphs\" textLength=\"99\" x=\"154\" y=\"23.1387\">«decisionNode»</text><text fill=\"#000000\" font-family=\"sans-serif\" font-size=\"12\" lengthAdjust=\"spacingAndGlyphs\" textLength=\"35\" x=\"186\" y=\"37.1074\">test x</text><line style=\"stroke: #383838; stroke-width: 1.5;\" x1=\"154\" x2=\"253\" y1=\"44.9375\" y2=\"44.9375\"/></a><!--MD5=[09b614a08d8cba4a07c9adeb5e0fee81]\n",
       "class E3--><a href=\"psysml:eeb68ac4-2ad3-4e0c-9c18-140c63d1edba\" target=\"_top\" title=\"psysml:eeb68ac4-2ad3-4e0c-9c18-140c63d1edba\" xlink:actuate=\"onRequest\" xlink:href=\"psysml:eeb68ac4-2ad3-4e0c-9c18-140c63d1edba\" xlink:show=\"new\" xlink:title=\"psysml:eeb68ac4-2ad3-4e0c-9c18-140c63d1edba\" xlink:type=\"simple\"><rect fill=\"#FFFFFF\" height=\"45.9375\" id=\"E3\" rx=\"10\" ry=\"10\" style=\"stroke: #383838; stroke-width: 1.5;\" width=\"101\" x=\"153\" y=\"88\"/><text fill=\"#000000\" font-family=\"sans-serif\" font-size=\"12\" font-style=\"italic\" lengthAdjust=\"spacingAndGlyphs\" textLength=\"99\" x=\"154\" y=\"104.1387\">«decisionNode»</text><text fill=\"#000000\" font-family=\"sans-serif\" font-size=\"12\" lengthAdjust=\"spacingAndGlyphs\" text-decoration=\"line-through\" textLength=\"51\" x=\"178\" y=\"118.1074\">noname</text><line style=\"stroke: #383838; stroke-width: 1.5;\" x1=\"154\" x2=\"253\" y1=\"125.9375\" y2=\"125.9375\"/></a><!--MD5=[ebbe1d658d1005bcc118a6aa81145e00]\n",
       "class E4--><a href=\"psysml:86b53981-b1ee-4c30-93d6-edfc048c3f3e\" target=\"_top\" title=\"psysml:86b53981-b1ee-4c30-93d6-edfc048c3f3e\" xlink:actuate=\"onRequest\" xlink:href=\"psysml:86b53981-b1ee-4c30-93d6-edfc048c3f3e\" xlink:show=\"new\" xlink:title=\"psysml:86b53981-b1ee-4c30-93d6-edfc048c3f3e\" xlink:type=\"simple\"><rect fill=\"#FFFFFF\" height=\"45.9375\" id=\"E4\" rx=\"10\" ry=\"10\" style=\"stroke: #383838; stroke-width: 1.5;\" width=\"55\" x=\"176\" y=\"169\"/><text fill=\"#000000\" font-family=\"sans-serif\" font-size=\"12\" font-style=\"italic\" lengthAdjust=\"spacingAndGlyphs\" textLength=\"53\" x=\"177\" y=\"185.1387\">«action»</text><text fill=\"#000000\" font-family=\"sans-serif\" font-size=\"12\" lengthAdjust=\"spacingAndGlyphs\" textLength=\"16\" x=\"195.5\" y=\"199.1074\">A1</text><line style=\"stroke: #383838; stroke-width: 1.5;\" x1=\"177\" x2=\"230\" y1=\"206.9375\" y2=\"206.9375\"/></a><!--MD5=[270fce915f116d4de14055a7c1d9a0f3]\n",
       "class E5--><a href=\"psysml:38b4e12b-2856-48b1-8683-970a7e146d76\" target=\"_top\" title=\"psysml:38b4e12b-2856-48b1-8683-970a7e146d76\" xlink:actuate=\"onRequest\" xlink:href=\"psysml:38b4e12b-2856-48b1-8683-970a7e146d76\" xlink:show=\"new\" xlink:title=\"psysml:38b4e12b-2856-48b1-8683-970a7e146d76\" xlink:type=\"simple\"><rect fill=\"#FFFFFF\" height=\"45.9375\" id=\"E5\" rx=\"10\" ry=\"10\" style=\"stroke: #383838; stroke-width: 1.5;\" width=\"55\" x=\"176\" y=\"250\"/><text fill=\"#000000\" font-family=\"sans-serif\" font-size=\"12\" font-style=\"italic\" lengthAdjust=\"spacingAndGlyphs\" textLength=\"53\" x=\"177\" y=\"266.1387\">«action»</text><text fill=\"#000000\" font-family=\"sans-serif\" font-size=\"12\" lengthAdjust=\"spacingAndGlyphs\" textLength=\"16\" x=\"195.5\" y=\"280.1074\">A2</text><line style=\"stroke: #383838; stroke-width: 1.5;\" x1=\"177\" x2=\"230\" y1=\"287.9375\" y2=\"287.9375\"/></a><!--MD5=[60a26617385b1d2d0262a64233df1f8d]\n",
       "class E6--><a href=\"psysml:3ceea1c4-b769-4e45-b22d-b9b14232dc11\" target=\"_top\" title=\"psysml:3ceea1c4-b769-4e45-b22d-b9b14232dc11\" xlink:actuate=\"onRequest\" xlink:href=\"psysml:3ceea1c4-b769-4e45-b22d-b9b14232dc11\" xlink:show=\"new\" xlink:title=\"psysml:3ceea1c4-b769-4e45-b22d-b9b14232dc11\" xlink:type=\"simple\"><rect fill=\"#FFFFFF\" height=\"45.9375\" id=\"E6\" rx=\"10\" ry=\"10\" style=\"stroke: #383838; stroke-width: 1.5;\" width=\"55\" x=\"176\" y=\"331\"/><text fill=\"#000000\" font-family=\"sans-serif\" font-size=\"12\" font-style=\"italic\" lengthAdjust=\"spacingAndGlyphs\" textLength=\"53\" x=\"177\" y=\"347.1387\">«action»</text><text fill=\"#000000\" font-family=\"sans-serif\" font-size=\"12\" lengthAdjust=\"spacingAndGlyphs\" textLength=\"16\" x=\"195.5\" y=\"361.1074\">A3</text><line style=\"stroke: #383838; stroke-width: 1.5;\" x1=\"177\" x2=\"230\" y1=\"368.9375\" y2=\"368.9375\"/></a><!--MD5=[a523cb2a0b79ecf9065ad8783f96c320]\n",
       "reverse link E1 to E2--><a href=\"psysml:3f40863b-0a66-456a-a380-cfd414bf0804\" target=\"_top\" title=\"psysml:3f40863b-0a66-456a-a380-cfd414bf0804\" xlink:actuate=\"onRequest\" xlink:href=\"psysml:3f40863b-0a66-456a-a380-cfd414bf0804\" xlink:show=\"new\" xlink:title=\"psysml:3f40863b-0a66-456a-a380-cfd414bf0804\" xlink:type=\"simple\"><path d=\"M84.61,168.67 C102.65,137.21 126.59,99.8 153,70 C158.28,64.05 164.5,58.28 170.72,53.06 \" fill=\"none\" id=\"E1&lt;-E2\" style=\"stroke: #383838; stroke-width: 1.0;\"/><polygon fill=\"#383838\" points=\"77.99,180.41,84.4226,177.1508,83.8882,169.9596,77.4556,173.2187,77.99,180.41\" style=\"stroke: #383838; stroke-width: 1.0;\"/></a><!--MD5=[5d7b3810b1dd9b5164bea1151b29b665]\n",
       "reverse link E1 to E3--><a href=\"psysml:e2578a6b-d48b-4dd6-b58c-18f093f1f29f\" target=\"_top\" title=\"psysml:e2578a6b-d48b-4dd6-b58c-18f093f1f29f\" xlink:actuate=\"onRequest\" xlink:href=\"psysml:e2578a6b-d48b-4dd6-b58c-18f093f1f29f\" xlink:show=\"new\" xlink:title=\"psysml:e2578a6b-d48b-4dd6-b58c-18f093f1f29f\" xlink:type=\"simple\"><path d=\"M103.44,190.77 C127.09,171.73 154.09,149.98 173.93,134.01 \" fill=\"none\" id=\"E1&lt;-E3\" style=\"stroke: #383838; stroke-width: 1.0;\"/><polygon fill=\"#383838\" points=\"93.2,199.02,100.3819,198.3719,102.5459,191.4932,95.364,192.1413,93.2,199.02\" style=\"stroke: #383838; stroke-width: 1.0;\"/></a><!--MD5=[f2c5c03aa1e8c0ba21c10a05e6444b8e]\n",
       "reverse link E1 to E4--><a href=\"psysml:7583b8d6-81fb-44fd-88ce-ec05d2d7f8f3\" target=\"_top\" title=\"psysml:7583b8d6-81fb-44fd-88ce-ec05d2d7f8f3\" xlink:actuate=\"onRequest\" xlink:href=\"psysml:7583b8d6-81fb-44fd-88ce-ec05d2d7f8f3\" xlink:show=\"new\" xlink:title=\"psysml:7583b8d6-81fb-44fd-88ce-ec05d2d7f8f3\" xlink:type=\"simple\"><path d=\"M106.03,218.11 C129.79,211.68 156.49,204.45 175.77,199.23 \" fill=\"none\" id=\"E1&lt;-E4\" style=\"stroke: #383838; stroke-width: 1.0;\"/><polygon fill=\"#383838\" points=\"93.2,221.58,100.0369,223.8729,104.7829,218.4438,97.9461,216.1509,93.2,221.58\" style=\"stroke: #383838; stroke-width: 1.0;\"/></a><!--MD5=[33238bef88d6431a141d8bc8fb12bca0]\n",
       "reverse link E1 to E5--><a href=\"psysml:1b62ef88-94e5-4ba0-8e17-6cec1f6133af\" target=\"_top\" title=\"psysml:1b62ef88-94e5-4ba0-8e17-6cec1f6133af\" xlink:actuate=\"onRequest\" xlink:href=\"psysml:1b62ef88-94e5-4ba0-8e17-6cec1f6133af\" xlink:show=\"new\" xlink:title=\"psysml:1b62ef88-94e5-4ba0-8e17-6cec1f6133af\" xlink:type=\"simple\"><path d=\"M106.03,247.53 C129.79,253.8 156.49,260.85 175.77,265.94 \" fill=\"none\" id=\"E1&lt;-E5\" style=\"stroke: #383838; stroke-width: 1.0;\"/><polygon fill=\"#383838\" points=\"93.2,244.14,97.9821,249.5374,104.8035,247.1991,100.0215,241.8017,93.2,244.14\" style=\"stroke: #383838; stroke-width: 1.0;\"/></a><!--MD5=[aca2ef284c2b1b90e17e73bf3f292c07]\n",
       "reverse link E1 to E6--><a href=\"psysml:6d478a35-76b8-45be-be82-2204dec34e47\" target=\"_top\" title=\"psysml:6d478a35-76b8-45be-be82-2204dec34e47\" xlink:actuate=\"onRequest\" xlink:href=\"psysml:6d478a35-76b8-45be-be82-2204dec34e47\" xlink:show=\"new\" xlink:title=\"psysml:6d478a35-76b8-45be-be82-2204dec34e47\" xlink:type=\"simple\"><path d=\"M103.08,286.77 C127.55,307.53 155.68,329.28 175.77,342.64 \" fill=\"none\" id=\"E1&lt;-E6\" style=\"stroke: #383838; stroke-width: 1.0;\"/><polygon fill=\"#383838\" points=\"93.2,278.27,95.1433,285.2143,102.3008,286.0914,100.3576,279.1471,93.2,278.27\" style=\"stroke: #383838; stroke-width: 1.0;\"/></a><!--MD5=[aca2ef284c2b1b90e17e73bf3f292c07]\n",
       "reverse link E1 to E6--><a href=\"psysml:637c00ed-dc37-460b-98af-77d0acff244f\" target=\"_top\" title=\"psysml:637c00ed-dc37-460b-98af-77d0acff244f\" xlink:actuate=\"onRequest\" xlink:href=\"psysml:637c00ed-dc37-460b-98af-77d0acff244f\" xlink:show=\"new\" xlink:title=\"psysml:637c00ed-dc37-460b-98af-77d0acff244f\" xlink:type=\"simple\"><path d=\"M103.74,262.19 C131.94,283.28 164.84,310.83 184.65,330.66 \" fill=\"none\" id=\"E1&lt;-E6-1\" style=\"stroke: #383838; stroke-width: 1.0;\"/><polygon fill=\"#FFFFFF\" points=\"93.2,254.46,95.6746,261.2332,102.8785,261.5541,100.404,254.7809,93.2,254.46\" style=\"stroke: #383838; stroke-width: 1.0;\"/></a><!--MD5=[d2e41834bbd956a4dedc89028a992a58]\n",
       "@startuml\r\n",
       "left to right direction\r\n",
       "skinparam monochrome true\r\n",
       "skinparam classbackgroundcolor white\r\n",
       "skinparam shadowing false\r\n",
       "skinparam wrapWidth 300\r\n",
       "hide circle\r\n",
       "\r\n",
       "comp def \"DecisionTest\" as E1  <<(T,blue) action def>> [[psysml:068a4463-a96d-4165-a2bc-cadf70a9bc09 ]] {\r\n",
       "- - attributes - -\r\n",
       "x=1; \r\n",
       "- - transitions - -\r\n",
       "S\r\n",
       "}\r\n",
       "comp usage \"test x\" as E2  <<(T,blue) decisionNode>> [[psysml:44ee9e06-5fd9-46bf-b0f8-00dd693073b7 ]] {\r\n",
       "}\r\n",
       "comp usage \"<s>noname</s>\" as E3  <<(T,blue) decisionNode>> [[psysml:eeb68ac4-2ad3-4e0c-9c18-140c63d1edba ]] {\r\n",
       "}\r\n",
       "comp usage \"A1\" as E4  <<(T,blue) action>> [[psysml:86b53981-b1ee-4c30-93d6-edfc048c3f3e ]] {\r\n",
       "}\r\n",
       "comp usage \"A2\" as E5  <<(T,blue) action>> [[psysml:38b4e12b-2856-48b1-8683-970a7e146d76 ]] {\r\n",
       "}\r\n",
       "comp usage \"A3\" as E6  <<(T,blue) action>> [[psysml:3ceea1c4-b769-4e45-b22d-b9b14232dc11 ]] {\r\n",
       "}\r\n",
       "E1 *- - E2 [[psysml:3f40863b-0a66-456a-a380-cfd414bf0804 ]] \r\n",
       "E1 *- - E3 [[psysml:e2578a6b-d48b-4dd6-b58c-18f093f1f29f ]] \r\n",
       "E1 *- - E4 [[psysml:7583b8d6-81fb-44fd-88ce-ec05d2d7f8f3 ]] \r\n",
       "E1 *- - E5 [[psysml:1b62ef88-94e5-4ba0-8e17-6cec1f6133af ]] \r\n",
       "E1 *- - E6 [[psysml:6d478a35-76b8-45be-be82-2204dec34e47 ]] \r\n",
       "E1 o- - E6 [[psysml:637c00ed-dc37-460b-98af-77d0acff244f ]] \r\n",
       "@enduml\r\n",
       "\n",
       "PlantUML version 1.2020.13(Sat Jun 13 12:26:38 UTC 2020)\n",
       "(EPL source distribution)\n",
       "Java Runtime: OpenJDK Runtime Environment\n",
       "JVM: OpenJDK 64-Bit Server VM\n",
       "Default Encoding: UTF-8\n",
       "Language: en\n",
       "Country: null\n",
       "--></g></svg>"
      ]
     },
     "execution_count": 17,
     "metadata": {},
     "output_type": "execute_result"
    }
   ],
   "source": [
    "%viz --style=\"LR\" --view=\"Tree\" \"DecisionTest\""
   ]
  },
  {
   "cell_type": "code",
   "execution_count": 18,
   "id": "0baec748",
   "metadata": {
    "execution": {
     "iopub.execute_input": "2021-06-30T09:20:28.566741Z",
     "iopub.status.busy": "2021-06-30T09:20:28.566204Z",
     "iopub.status.idle": "2021-06-30T09:20:28.572149Z",
     "shell.execute_reply": "2021-06-30T09:20:28.571767Z"
    }
   },
   "outputs": [
    {
     "data": {
      "image/svg+xml": [
       "<?xml version=\"1.0\" encoding=\"UTF-8\" standalone=\"no\"?><svg xmlns=\"http://www.w3.org/2000/svg\" xmlns:xlink=\"http://www.w3.org/1999/xlink\" contentScriptType=\"application/ecmascript\" contentStyleType=\"text/css\" height=\"12px\" preserveAspectRatio=\"none\" style=\"width:12px;height:12px;\" version=\"1.1\" viewBox=\"0 0 12 12\" width=\"12px\" zoomAndPan=\"magnify\"><defs/><g><!--MD5=[19d285c9d72a204eba4e2cd117d745e8]\n",
       "@startuml\r\n",
       "left to right direction\r\n",
       "skinparam monochrome true\r\n",
       "skinparam classbackgroundcolor white\r\n",
       "skinparam shadowing false\r\n",
       "skinparam wrapWidth 300\r\n",
       "hide circle\r\n",
       "\r\n",
       "@enduml\r\n",
       "\n",
       "PlantUML version 1.2020.13(Sat Jun 13 12:26:38 UTC 2020)\n",
       "(EPL source distribution)\n",
       "Java Runtime: OpenJDK Runtime Environment\n",
       "JVM: OpenJDK 64-Bit Server VM\n",
       "Default Encoding: UTF-8\n",
       "Language: en\n",
       "Country: null\n",
       "--></g></svg>"
      ]
     },
     "execution_count": 18,
     "metadata": {},
     "output_type": "execute_result"
    }
   ],
   "source": [
    "%viz --style=\"LR\" --view=\"State\" \"DecisionTest\""
   ]
  },
  {
   "cell_type": "code",
   "execution_count": 19,
   "id": "fb5cf5f3",
   "metadata": {
    "execution": {
     "iopub.execute_input": "2021-06-30T09:20:28.623723Z",
     "iopub.status.busy": "2021-06-30T09:20:28.623192Z",
     "iopub.status.idle": "2021-06-30T09:20:28.674198Z",
     "shell.execute_reply": "2021-06-30T09:20:28.673740Z"
    }
   },
   "outputs": [
    {
     "data": {
      "image/svg+xml": [
       "<?xml version=\"1.0\" encoding=\"UTF-8\" standalone=\"no\"?><svg xmlns=\"http://www.w3.org/2000/svg\" xmlns:xlink=\"http://www.w3.org/1999/xlink\" contentScriptType=\"application/ecmascript\" contentStyleType=\"text/css\" height=\"312px\" preserveAspectRatio=\"none\" style=\"width:487px;height:312px;\" version=\"1.1\" viewBox=\"0 0 487 312\" width=\"487px\" zoomAndPan=\"magnify\"><defs/><g><!--MD5=[fbc87193dbaf4d95561dea2c320d4a47]\n",
       "cluster E1--><a href=\"psysml:068a4463-a96d-4165-a2bc-cadf70a9bc09\" target=\"_top\" title=\"psysml:068a4463-a96d-4165-a2bc-cadf70a9bc09\" xlink:actuate=\"onRequest\" xlink:href=\"psysml:068a4463-a96d-4165-a2bc-cadf70a9bc09\" xlink:show=\"new\" xlink:title=\"psysml:068a4463-a96d-4165-a2bc-cadf70a9bc09\" xlink:type=\"simple\"><rect fill=\"#FFFFFF\" height=\"294\" id=\"E1\" style=\"stroke: #383838; stroke-width: 1.5;\" width=\"469\" x=\"7\" y=\"7\"/><rect fill=\"#F8F8F8\" height=\"37.9375\" style=\"stroke: #383838; stroke-width: 1.5;\" width=\"469\" x=\"7\" y=\"7\"/><text fill=\"#000000\" font-family=\"sans-serif\" font-size=\"12\" font-style=\"italic\" lengthAdjust=\"spacingAndGlyphs\" textLength=\"77\" x=\"203\" y=\"23.1387\">«action def»</text><text fill=\"#000000\" font-family=\"sans-serif\" font-size=\"12\" lengthAdjust=\"spacingAndGlyphs\" textLength=\"80\" x=\"201.5\" y=\"37.1074\">DecisionTest</text></a><polygon fill=\"#F8F8F8\" points=\"53,126,65,138,53,150,41,138,53,126\" style=\"stroke: #383838; stroke-width: 1.5;\"/><polygon fill=\"#F8F8F8\" points=\"175,261,187,273,175,285,163,273,175,261\" style=\"stroke: #383838; stroke-width: 1.5;\"/><g id=\"E1.E4\"><a href=\"psysml:86b53981-b1ee-4c30-93d6-edfc048c3f3e\" target=\"_top\" title=\"psysml:86b53981-b1ee-4c30-93d6-edfc048c3f3e\" xlink:actuate=\"onRequest\" xlink:href=\"psysml:86b53981-b1ee-4c30-93d6-edfc048c3f3e\" xlink:show=\"new\" xlink:title=\"psysml:86b53981-b1ee-4c30-93d6-edfc048c3f3e\" xlink:type=\"simple\"><rect fill=\"#FFFFFF\" height=\"42.9375\" id=\"E4\" rx=\"10\" ry=\"10\" style=\"stroke: #383838; stroke-width: 1.5;\" width=\"60\" x=\"267\" y=\"154.5\"/><rect fill=\"#F8F8F8\" height=\"37.9375\" rx=\"10\" ry=\"10\" style=\"stroke: #F8F8F8; stroke-width: 1.5;\" width=\"60\" x=\"267\" y=\"154.5\"/><rect fill=\"#F8F8F8\" height=\"10\" style=\"stroke: #F8F8F8; stroke-width: 1.5;\" width=\"60\" x=\"267\" y=\"182.4375\"/><rect fill=\"none\" height=\"42.9375\" id=\"E4\" rx=\"10\" ry=\"10\" style=\"stroke: #383838; stroke-width: 1.5;\" width=\"60\" x=\"267\" y=\"154.5\"/><text fill=\"#000000\" font-family=\"sans-serif\" font-size=\"12\" font-style=\"italic\" lengthAdjust=\"spacingAndGlyphs\" textLength=\"53\" x=\"270.5\" y=\"170.6387\">«action»</text><text fill=\"#000000\" font-family=\"sans-serif\" font-size=\"12\" lengthAdjust=\"spacingAndGlyphs\" textLength=\"16\" x=\"289\" y=\"184.6074\">A1</text></a></g><g id=\"E1.E5\"><a href=\"psysml:38b4e12b-2856-48b1-8683-970a7e146d76\" target=\"_top\" title=\"psysml:38b4e12b-2856-48b1-8683-970a7e146d76\" xlink:actuate=\"onRequest\" xlink:href=\"psysml:38b4e12b-2856-48b1-8683-970a7e146d76\" xlink:show=\"new\" xlink:title=\"psysml:38b4e12b-2856-48b1-8683-970a7e146d76\" xlink:type=\"simple\"><rect fill=\"#FFFFFF\" height=\"42.9375\" id=\"E5\" rx=\"10\" ry=\"10\" style=\"stroke: #383838; stroke-width: 1.5;\" width=\"60\" x=\"400\" y=\"154.5\"/><rect fill=\"#F8F8F8\" height=\"37.9375\" rx=\"10\" ry=\"10\" style=\"stroke: #F8F8F8; stroke-width: 1.5;\" width=\"60\" x=\"400\" y=\"154.5\"/><rect fill=\"#F8F8F8\" height=\"10\" style=\"stroke: #F8F8F8; stroke-width: 1.5;\" width=\"60\" x=\"400\" y=\"182.4375\"/><rect fill=\"none\" height=\"42.9375\" id=\"E5\" rx=\"10\" ry=\"10\" style=\"stroke: #383838; stroke-width: 1.5;\" width=\"60\" x=\"400\" y=\"154.5\"/><text fill=\"#000000\" font-family=\"sans-serif\" font-size=\"12\" font-style=\"italic\" lengthAdjust=\"spacingAndGlyphs\" textLength=\"53\" x=\"403.5\" y=\"170.6387\">«action»</text><text fill=\"#000000\" font-family=\"sans-serif\" font-size=\"12\" lengthAdjust=\"spacingAndGlyphs\" textLength=\"16\" x=\"422\" y=\"184.6074\">A2</text></a></g><g id=\"E1.E6\"><a href=\"psysml:3ceea1c4-b769-4e45-b22d-b9b14232dc11\" target=\"_top\" title=\"psysml:3ceea1c4-b769-4e45-b22d-b9b14232dc11\" xlink:actuate=\"onRequest\" xlink:href=\"psysml:3ceea1c4-b769-4e45-b22d-b9b14232dc11\" xlink:show=\"new\" xlink:title=\"psysml:3ceea1c4-b769-4e45-b22d-b9b14232dc11\" xlink:type=\"simple\"><rect fill=\"#FFFFFF\" height=\"42.9375\" id=\"E6\" rx=\"10\" ry=\"10\" style=\"stroke: #383838; stroke-width: 1.5;\" width=\"60\" x=\"23\" y=\"213.5\"/><rect fill=\"#F8F8F8\" height=\"37.9375\" rx=\"10\" ry=\"10\" style=\"stroke: #F8F8F8; stroke-width: 1.5;\" width=\"60\" x=\"23\" y=\"213.5\"/><rect fill=\"#F8F8F8\" height=\"10\" style=\"stroke: #F8F8F8; stroke-width: 1.5;\" width=\"60\" x=\"23\" y=\"241.4375\"/><rect fill=\"none\" height=\"42.9375\" id=\"E6\" rx=\"10\" ry=\"10\" style=\"stroke: #383838; stroke-width: 1.5;\" width=\"60\" x=\"23\" y=\"213.5\"/><text fill=\"#000000\" font-family=\"sans-serif\" font-size=\"12\" font-style=\"italic\" lengthAdjust=\"spacingAndGlyphs\" textLength=\"53\" x=\"26.5\" y=\"229.6387\">«action»</text><text fill=\"#000000\" font-family=\"sans-serif\" font-size=\"12\" lengthAdjust=\"spacingAndGlyphs\" textLength=\"16\" x=\"45\" y=\"243.6074\">A3</text></a></g><g id=\"E1.E7\"><a href=\"psysml:3ceea1c4-b769-4e45-b22d-b9b14232dc11\" target=\"_top\" title=\"psysml:3ceea1c4-b769-4e45-b22d-b9b14232dc11\" xlink:actuate=\"onRequest\" xlink:href=\"psysml:3ceea1c4-b769-4e45-b22d-b9b14232dc11\" xlink:show=\"new\" xlink:title=\"psysml:3ceea1c4-b769-4e45-b22d-b9b14232dc11\" xlink:type=\"simple\"><rect fill=\"#FFFFFF\" height=\"42.9375\" id=\"E7\" rx=\"10\" ry=\"10\" style=\"stroke: #383838; stroke-width: 1.5;\" width=\"60\" x=\"145\" y=\"58.5\"/><rect fill=\"#F8F8F8\" height=\"37.9375\" rx=\"10\" ry=\"10\" style=\"stroke: #F8F8F8; stroke-width: 1.5;\" width=\"60\" x=\"145\" y=\"58.5\"/><rect fill=\"#F8F8F8\" height=\"10\" style=\"stroke: #F8F8F8; stroke-width: 1.5;\" width=\"60\" x=\"145\" y=\"86.4375\"/><rect fill=\"none\" height=\"42.9375\" id=\"E7\" rx=\"10\" ry=\"10\" style=\"stroke: #383838; stroke-width: 1.5;\" width=\"60\" x=\"145\" y=\"58.5\"/><text fill=\"#000000\" font-family=\"sans-serif\" font-size=\"12\" font-style=\"italic\" lengthAdjust=\"spacingAndGlyphs\" textLength=\"53\" x=\"148.5\" y=\"74.6387\">«action»</text><text fill=\"#000000\" font-family=\"sans-serif\" font-size=\"12\" lengthAdjust=\"spacingAndGlyphs\" textLength=\"16\" x=\"167\" y=\"88.6074\">A3</text></a></g><!--MD5=[4d03bb2d0377dc85ccfab60ff574652b]\n",
       "link E2 to E4--><a href=\"psysml:5839aeb0-dd7d-4257-be26-6d697b84d54b\" target=\"_top\" title=\"psysml:5839aeb0-dd7d-4257-be26-6d697b84d54b\" xlink:actuate=\"onRequest\" xlink:href=\"psysml:5839aeb0-dd7d-4257-be26-6d697b84d54b\" xlink:show=\"new\" xlink:title=\"psysml:5839aeb0-dd7d-4257-be26-6d697b84d54b\" xlink:type=\"simple\"><path d=\"M62.41,140.94 C78.32,146.39 114.02,158.03 145,164 C174.83,169.75 182.72,168.53 213,171 C228.89,172.3 246.52,173.4 261.42,174.25 \" fill=\"none\" id=\"E2-&gt;E4\" style=\"stroke: #383838; stroke-width: 1.0;\"/><polygon fill=\"#383838\" points=\"266.79,174.54,258.0208,170.0567,261.7974,174.2682,257.5859,178.0448,266.79,174.54\" style=\"stroke: #383838; stroke-width: 1.0;\"/><text fill=\"#000000\" font-family=\"sans-serif\" font-size=\"13\" lengthAdjust=\"spacingAndGlyphs\" textLength=\"55\" x=\"147.5\" y=\"160.0669\">[x == 1]</text></a><!--MD5=[dcad52bbbca2fe8adc741ce38b45dc12]\n",
       "link E2 to E5--><a href=\"psysml:6472265e-4329-42f9-a73f-b0fdd653d81d\" target=\"_top\" title=\"psysml:6472265e-4329-42f9-a73f-b0fdd653d81d\" xlink:actuate=\"onRequest\" xlink:href=\"psysml:6472265e-4329-42f9-a73f-b0fdd653d81d\" xlink:show=\"new\" xlink:title=\"psysml:6472265e-4329-42f9-a73f-b0fdd653d81d\" xlink:type=\"simple\"><path d=\"M64.69,137.65 C108.56,136.25 274.8,131.44 327,137 C356.39,140.13 364.82,139.41 392,151 C392.96,151.41 393.93,151.85 394.89,152.31 \" fill=\"none\" id=\"E2-&gt;E5\" style=\"stroke: #383838; stroke-width: 1.0;\"/><polygon fill=\"#383838\" points=\"399.68,154.77,393.5069,147.0958,395.2339,152.4826,389.8471,154.2096,399.68,154.77\" style=\"stroke: #383838; stroke-width: 1.0;\"/><text fill=\"#000000\" font-family=\"sans-serif\" font-size=\"13\" lengthAdjust=\"spacingAndGlyphs\" textLength=\"44\" x=\"214\" y=\"131.0669\">[x &gt; 1]</text></a><!--MD5=[e3d2a08a9c9236652057e8ed0cbc9b62]\n",
       "link E2 to E7--><a href=\"psysml:3c10905a-0cf4-4572-9b68-27220c544656\" target=\"_top\" title=\"psysml:3c10905a-0cf4-4572-9b68-27220c544656\" xlink:actuate=\"onRequest\" xlink:href=\"psysml:3c10905a-0cf4-4572-9b68-27220c544656\" xlink:show=\"new\" xlink:title=\"psysml:3c10905a-0cf4-4572-9b68-27220c544656\" xlink:type=\"simple\"><path d=\"M63.4,136.24 C84.45,132.27 133.79,122.83 137,121 C143.76,117.13 149.96,111.59 155.27,105.83 \" fill=\"none\" id=\"E2-&gt;E7\" style=\"stroke: #383838; stroke-width: 1.0;\"/><polygon fill=\"#383838\" points=\"158.8,101.82,149.8466,105.9232,155.4924,105.5696,155.8459,111.2154,158.8,101.82\" style=\"stroke: #383838; stroke-width: 1.0;\"/></a><!--MD5=[583832df87f4419a098336a29a52fa00]\n",
       "link E7 to E2--><a href=\"psysml:2ecae6e1-cb24-4407-809b-df9594bdb8fa\" target=\"_top\" title=\"psysml:2ecae6e1-cb24-4407-809b-df9594bdb8fa\" xlink:actuate=\"onRequest\" xlink:href=\"psysml:2ecae6e1-cb24-4407-809b-df9594bdb8fa\" xlink:show=\"new\" xlink:title=\"psysml:2ecae6e1-cb24-4407-809b-df9594bdb8fa\" xlink:type=\"simple\"><path d=\"M144.81,94.11 C119.63,106.28 84.51,123.25 66.2,132.1 \" fill=\"none\" id=\"E7-&gt;E2\" style=\"stroke: #383838; stroke-width: 1.0;\"/><polygon fill=\"#383838\" points=\"61.51,134.37,71.354,134.0612,66.0131,132.1971,67.8773,126.8562,61.51,134.37\" style=\"stroke: #383838; stroke-width: 1.0;\"/><text fill=\"#000000\" font-family=\"sans-serif\" font-size=\"13\" lengthAdjust=\"spacingAndGlyphs\" textLength=\"44\" x=\"92\" y=\"95.0669\">[x &gt; 0]</text></a><!--MD5=[2720a5a1f2c3fca2055b230370638851]\n",
       "link E2 to E3--><a href=\"psysml:4534ef33-8eda-405a-b2f5-6c95fd446375\" target=\"_top\" title=\"psysml:4534ef33-8eda-405a-b2f5-6c95fd446375\" xlink:actuate=\"onRequest\" xlink:href=\"psysml:4534ef33-8eda-405a-b2f5-6c95fd446375\" xlink:show=\"new\" xlink:title=\"psysml:4534ef33-8eda-405a-b2f5-6c95fd446375\" xlink:type=\"simple\"><path d=\"M57.63,145.75 C63.59,158 76.25,182.27 91,200 C113.43,226.97 146.15,252.65 163.03,265.13 \" fill=\"none\" id=\"E2-&gt;E3\" style=\"stroke: #383838; stroke-width: 1.0;\"/><polygon fill=\"#383838\" points=\"167.35,268.28,162.442,259.7412,163.3125,265.3306,157.723,266.2011,167.35,268.28\" style=\"stroke: #383838; stroke-width: 1.0;\"/></a><!--MD5=[af87c684e3b0d8be13c1a698a818ef1e]\n",
       "link E3 to E4--><a href=\"psysml:4cb33783-cb85-4624-8a6d-789ab5e27309\" target=\"_top\" title=\"psysml:4cb33783-cb85-4624-8a6d-789ab5e27309\" xlink:actuate=\"onRequest\" xlink:href=\"psysml:4cb33783-cb85-4624-8a6d-789ab5e27309\" xlink:show=\"new\" xlink:title=\"psysml:4cb33783-cb85-4624-8a6d-789ab5e27309\" xlink:type=\"simple\"><path d=\"M183.24,268.64 C198.11,259.54 232.89,237.48 259,215 C263.75,210.91 268.56,206.28 273.06,201.67 \" fill=\"none\" id=\"E3-&gt;E4\" style=\"stroke: #383838; stroke-width: 1.0;\"/><polygon fill=\"#383838\" points=\"276.77,197.83,267.6434,201.5321,273.2993,201.4292,273.4022,207.0851,276.77,197.83\" style=\"stroke: #383838; stroke-width: 1.0;\"/><text fill=\"#000000\" font-family=\"sans-serif\" font-size=\"13\" lengthAdjust=\"spacingAndGlyphs\" textLength=\"36\" x=\"218\" y=\"211.0669\">[true]</text></a><!--MD5=[0188b64bb0ae78505a997a81836e11e9]\n",
       "link E3 to E5--><a href=\"psysml:7566f218-2e4c-4b1d-8134-f6de9f4cb12f\" target=\"_top\" title=\"psysml:7566f218-2e4c-4b1d-8134-f6de9f4cb12f\" xlink:actuate=\"onRequest\" xlink:href=\"psysml:7566f218-2e4c-4b1d-8134-f6de9f4cb12f\" xlink:show=\"new\" xlink:title=\"psysml:7566f218-2e4c-4b1d-8134-f6de9f4cb12f\" xlink:type=\"simple\"><path d=\"M185.44,271.25 C209.6,266.6 275.36,252.84 327,232 C350.69,222.44 375.86,208.66 395.27,197.17 \" fill=\"none\" id=\"E3-&gt;E5\" style=\"stroke: #383838; stroke-width: 1.0;\"/><polygon fill=\"#383838\" points=\"399.57,194.6,389.7917,195.7765,395.2762,197.1619,393.8908,202.6465,399.57,194.6\" style=\"stroke: #383838; stroke-width: 1.0;\"/><text fill=\"#000000\" font-family=\"sans-serif\" font-size=\"13\" lengthAdjust=\"spacingAndGlyphs\" textLength=\"40\" x=\"277\" y=\"228.0669\">[false]</text></a><!--MD5=[1b7591eae5389033d8d09a9d6721a717]\n",
       "link E4 to E5--><a href=\"psysml:2ec4d8de-ba31-4f08-a58c-ce574f556666\" target=\"_top\" title=\"psysml:2ec4d8de-ba31-4f08-a58c-ce574f556666\" xlink:actuate=\"onRequest\" xlink:href=\"psysml:2ec4d8de-ba31-4f08-a58c-ce574f556666\" xlink:show=\"new\" xlink:title=\"psysml:2ec4d8de-ba31-4f08-a58c-ce574f556666\" xlink:type=\"simple\"><path d=\"M327.07,176 C346.95,176 373.38,176 394.35,176 \" fill=\"none\" id=\"E4-&gt;E5\" style=\"stroke: #383838; stroke-width: 1.0;\"/><polygon fill=\"#383838\" points=\"399.56,176,390.56,172,394.56,176,390.56,180,399.56,176\" style=\"stroke: #383838; stroke-width: 1.0;\"/><text fill=\"#000000\" font-family=\"sans-serif\" font-size=\"13\" lengthAdjust=\"spacingAndGlyphs\" textLength=\"55\" x=\"336\" y=\"172.0669\">[x == 0]</text></a><!--MD5=[11e73e00f2290bc144b7cb082157488c]\n",
       "@startuml\r\n",
       "skinparam ranksep 10\r\n",
       "skinparam rectangle {\r\n",
       " backgroundColor<<block>> LightGreen\r\n",
       "}\r\n",
       "left to right direction\r\n",
       "skinparam monochrome true\r\n",
       "skinparam classbackgroundcolor white\r\n",
       "skinparam shadowing false\r\n",
       "skinparam wrapWidth 300\r\n",
       "hide circle\r\n",
       "\r\n",
       "rec def \"DecisionTest\" as E1  <<(T,blue) action def>> [[psysml:068a4463-a96d-4165-a2bc-cadf70a9bc09 ]] {\r\n",
       "choice \"test x\" as E2  [[psysml:44ee9e06-5fd9-46bf-b0f8-00dd693073b7 ]] \r\n",
       "choice \"noname\" as E3  [[psysml:eeb68ac4-2ad3-4e0c-9c18-140c63d1edba ]] \r\n",
       "rec usage \"A1\" as E4  <<(T,blue) action>> [[psysml:86b53981-b1ee-4c30-93d6-edfc048c3f3e ]] {\r\n",
       "}\r\n",
       "\r\n",
       "rec usage \"A2\" as E5  <<(T,blue) action>> [[psysml:38b4e12b-2856-48b1-8683-970a7e146d76 ]] {\r\n",
       "}\r\n",
       "\r\n",
       "rec usage \"A3\" as E6  <<(T,blue) action>> [[psysml:3ceea1c4-b769-4e45-b22d-b9b14232dc11 ]] {\r\n",
       "}\r\n",
       "\r\n",
       "rec usage \"A3\" as E7  <<(T,blue) action>> [[psysml:3ceea1c4-b769-4e45-b22d-b9b14232dc11 ]] {\r\n",
       "}\r\n",
       "\r\n",
       "}\r\n",
       "\r\n",
       "E2  - -> E4 [[psysml:5839aeb0-dd7d-4257-be26-6d697b84d54b ]] : [x == 1]\r\n",
       "E2  - -> E5 [[psysml:6472265e-4329-42f9-a73f-b0fdd653d81d ]] : [x > 1]\r\n",
       "E2  - -> E7 [[psysml:3c10905a-0cf4-4572-9b68-27220c544656 ]] \r\n",
       "E2 - -> E3 [[psysml:4534ef33-8eda-405a-b2f5-6c95fd446375 ]] \r\n",
       "E3  - -> E4 [[psysml:4cb33783-cb85-4624-8a6d-789ab5e27309 ]] : [true]\r\n",
       "E3  - -> E5 [[psysml:7566f218-2e4c-4b1d-8134-f6de9f4cb12f ]] : [false]\r\n",
       "E4  - -> E5 [[psysml:2ec4d8de-ba31-4f08-a58c-ce574f556666 ]] : [x == 0]\r\n",
       "E7  - -> E2 [[psysml:2ecae6e1-cb24-4407-809b-df9594bdb8fa ]] : [x > 0]\r\n",
       "@enduml\r\n",
       "\n",
       "PlantUML version 1.2020.13(Sat Jun 13 12:26:38 UTC 2020)\n",
       "(EPL source distribution)\n",
       "Java Runtime: OpenJDK Runtime Environment\n",
       "JVM: OpenJDK 64-Bit Server VM\n",
       "Default Encoding: UTF-8\n",
       "Language: en\n",
       "Country: null\n",
       "--></g></svg>"
      ]
     },
     "execution_count": 19,
     "metadata": {},
     "output_type": "execute_result"
    }
   ],
   "source": [
    "%viz --style=\"LR\" --view=\"Interconnection\" \"DecisionTest\""
   ]
  },
  {
   "cell_type": "code",
   "execution_count": 20,
   "id": "58e55861",
   "metadata": {
    "execution": {
     "iopub.execute_input": "2021-06-30T09:20:28.723672Z",
     "iopub.status.busy": "2021-06-30T09:20:28.723200Z",
     "iopub.status.idle": "2021-06-30T09:20:28.768167Z",
     "shell.execute_reply": "2021-06-30T09:20:28.766107Z"
    }
   },
   "outputs": [
    {
     "data": {
      "image/svg+xml": [
       "<?xml version=\"1.0\" encoding=\"UTF-8\" standalone=\"no\"?><svg xmlns=\"http://www.w3.org/2000/svg\" xmlns:xlink=\"http://www.w3.org/1999/xlink\" contentScriptType=\"application/ecmascript\" contentStyleType=\"text/css\" height=\"312px\" preserveAspectRatio=\"none\" style=\"width:487px;height:312px;\" version=\"1.1\" viewBox=\"0 0 487 312\" width=\"487px\" zoomAndPan=\"magnify\"><defs/><g><!--MD5=[fbc87193dbaf4d95561dea2c320d4a47]\n",
       "cluster E1--><a href=\"psysml:068a4463-a96d-4165-a2bc-cadf70a9bc09\" target=\"_top\" title=\"psysml:068a4463-a96d-4165-a2bc-cadf70a9bc09\" xlink:actuate=\"onRequest\" xlink:href=\"psysml:068a4463-a96d-4165-a2bc-cadf70a9bc09\" xlink:show=\"new\" xlink:title=\"psysml:068a4463-a96d-4165-a2bc-cadf70a9bc09\" xlink:type=\"simple\"><rect fill=\"#FFFFFF\" height=\"294\" id=\"E1\" style=\"stroke: #383838; stroke-width: 1.5;\" width=\"469\" x=\"7\" y=\"7\"/><rect fill=\"#F8F8F8\" height=\"37.9375\" style=\"stroke: #383838; stroke-width: 1.5;\" width=\"469\" x=\"7\" y=\"7\"/><text fill=\"#000000\" font-family=\"sans-serif\" font-size=\"12\" font-style=\"italic\" lengthAdjust=\"spacingAndGlyphs\" textLength=\"77\" x=\"203\" y=\"23.1387\">«action def»</text><text fill=\"#000000\" font-family=\"sans-serif\" font-size=\"12\" lengthAdjust=\"spacingAndGlyphs\" textLength=\"80\" x=\"201.5\" y=\"37.1074\">DecisionTest</text></a><polygon fill=\"#F8F8F8\" points=\"53,126,65,138,53,150,41,138,53,126\" style=\"stroke: #383838; stroke-width: 1.5;\"/><polygon fill=\"#F8F8F8\" points=\"175,261,187,273,175,285,163,273,175,261\" style=\"stroke: #383838; stroke-width: 1.5;\"/><g id=\"E1.E4\"><a href=\"psysml:86b53981-b1ee-4c30-93d6-edfc048c3f3e\" target=\"_top\" title=\"psysml:86b53981-b1ee-4c30-93d6-edfc048c3f3e\" xlink:actuate=\"onRequest\" xlink:href=\"psysml:86b53981-b1ee-4c30-93d6-edfc048c3f3e\" xlink:show=\"new\" xlink:title=\"psysml:86b53981-b1ee-4c30-93d6-edfc048c3f3e\" xlink:type=\"simple\"><rect fill=\"#FFFFFF\" height=\"42.9375\" id=\"E4\" rx=\"10\" ry=\"10\" style=\"stroke: #383838; stroke-width: 1.5;\" width=\"60\" x=\"267\" y=\"154.5\"/><rect fill=\"#F8F8F8\" height=\"37.9375\" rx=\"10\" ry=\"10\" style=\"stroke: #F8F8F8; stroke-width: 1.5;\" width=\"60\" x=\"267\" y=\"154.5\"/><rect fill=\"#F8F8F8\" height=\"10\" style=\"stroke: #F8F8F8; stroke-width: 1.5;\" width=\"60\" x=\"267\" y=\"182.4375\"/><rect fill=\"none\" height=\"42.9375\" id=\"E4\" rx=\"10\" ry=\"10\" style=\"stroke: #383838; stroke-width: 1.5;\" width=\"60\" x=\"267\" y=\"154.5\"/><text fill=\"#000000\" font-family=\"sans-serif\" font-size=\"12\" font-style=\"italic\" lengthAdjust=\"spacingAndGlyphs\" textLength=\"53\" x=\"270.5\" y=\"170.6387\">«action»</text><text fill=\"#000000\" font-family=\"sans-serif\" font-size=\"12\" lengthAdjust=\"spacingAndGlyphs\" textLength=\"16\" x=\"289\" y=\"184.6074\">A1</text></a></g><g id=\"E1.E5\"><a href=\"psysml:38b4e12b-2856-48b1-8683-970a7e146d76\" target=\"_top\" title=\"psysml:38b4e12b-2856-48b1-8683-970a7e146d76\" xlink:actuate=\"onRequest\" xlink:href=\"psysml:38b4e12b-2856-48b1-8683-970a7e146d76\" xlink:show=\"new\" xlink:title=\"psysml:38b4e12b-2856-48b1-8683-970a7e146d76\" xlink:type=\"simple\"><rect fill=\"#FFFFFF\" height=\"42.9375\" id=\"E5\" rx=\"10\" ry=\"10\" style=\"stroke: #383838; stroke-width: 1.5;\" width=\"60\" x=\"400\" y=\"154.5\"/><rect fill=\"#F8F8F8\" height=\"37.9375\" rx=\"10\" ry=\"10\" style=\"stroke: #F8F8F8; stroke-width: 1.5;\" width=\"60\" x=\"400\" y=\"154.5\"/><rect fill=\"#F8F8F8\" height=\"10\" style=\"stroke: #F8F8F8; stroke-width: 1.5;\" width=\"60\" x=\"400\" y=\"182.4375\"/><rect fill=\"none\" height=\"42.9375\" id=\"E5\" rx=\"10\" ry=\"10\" style=\"stroke: #383838; stroke-width: 1.5;\" width=\"60\" x=\"400\" y=\"154.5\"/><text fill=\"#000000\" font-family=\"sans-serif\" font-size=\"12\" font-style=\"italic\" lengthAdjust=\"spacingAndGlyphs\" textLength=\"53\" x=\"403.5\" y=\"170.6387\">«action»</text><text fill=\"#000000\" font-family=\"sans-serif\" font-size=\"12\" lengthAdjust=\"spacingAndGlyphs\" textLength=\"16\" x=\"422\" y=\"184.6074\">A2</text></a></g><g id=\"E1.E6\"><a href=\"psysml:3ceea1c4-b769-4e45-b22d-b9b14232dc11\" target=\"_top\" title=\"psysml:3ceea1c4-b769-4e45-b22d-b9b14232dc11\" xlink:actuate=\"onRequest\" xlink:href=\"psysml:3ceea1c4-b769-4e45-b22d-b9b14232dc11\" xlink:show=\"new\" xlink:title=\"psysml:3ceea1c4-b769-4e45-b22d-b9b14232dc11\" xlink:type=\"simple\"><rect fill=\"#FFFFFF\" height=\"42.9375\" id=\"E6\" rx=\"10\" ry=\"10\" style=\"stroke: #383838; stroke-width: 1.5;\" width=\"60\" x=\"23\" y=\"213.5\"/><rect fill=\"#F8F8F8\" height=\"37.9375\" rx=\"10\" ry=\"10\" style=\"stroke: #F8F8F8; stroke-width: 1.5;\" width=\"60\" x=\"23\" y=\"213.5\"/><rect fill=\"#F8F8F8\" height=\"10\" style=\"stroke: #F8F8F8; stroke-width: 1.5;\" width=\"60\" x=\"23\" y=\"241.4375\"/><rect fill=\"none\" height=\"42.9375\" id=\"E6\" rx=\"10\" ry=\"10\" style=\"stroke: #383838; stroke-width: 1.5;\" width=\"60\" x=\"23\" y=\"213.5\"/><text fill=\"#000000\" font-family=\"sans-serif\" font-size=\"12\" font-style=\"italic\" lengthAdjust=\"spacingAndGlyphs\" textLength=\"53\" x=\"26.5\" y=\"229.6387\">«action»</text><text fill=\"#000000\" font-family=\"sans-serif\" font-size=\"12\" lengthAdjust=\"spacingAndGlyphs\" textLength=\"16\" x=\"45\" y=\"243.6074\">A3</text></a></g><g id=\"E1.E7\"><a href=\"psysml:3ceea1c4-b769-4e45-b22d-b9b14232dc11\" target=\"_top\" title=\"psysml:3ceea1c4-b769-4e45-b22d-b9b14232dc11\" xlink:actuate=\"onRequest\" xlink:href=\"psysml:3ceea1c4-b769-4e45-b22d-b9b14232dc11\" xlink:show=\"new\" xlink:title=\"psysml:3ceea1c4-b769-4e45-b22d-b9b14232dc11\" xlink:type=\"simple\"><rect fill=\"#FFFFFF\" height=\"42.9375\" id=\"E7\" rx=\"10\" ry=\"10\" style=\"stroke: #383838; stroke-width: 1.5;\" width=\"60\" x=\"145\" y=\"58.5\"/><rect fill=\"#F8F8F8\" height=\"37.9375\" rx=\"10\" ry=\"10\" style=\"stroke: #F8F8F8; stroke-width: 1.5;\" width=\"60\" x=\"145\" y=\"58.5\"/><rect fill=\"#F8F8F8\" height=\"10\" style=\"stroke: #F8F8F8; stroke-width: 1.5;\" width=\"60\" x=\"145\" y=\"86.4375\"/><rect fill=\"none\" height=\"42.9375\" id=\"E7\" rx=\"10\" ry=\"10\" style=\"stroke: #383838; stroke-width: 1.5;\" width=\"60\" x=\"145\" y=\"58.5\"/><text fill=\"#000000\" font-family=\"sans-serif\" font-size=\"12\" font-style=\"italic\" lengthAdjust=\"spacingAndGlyphs\" textLength=\"53\" x=\"148.5\" y=\"74.6387\">«action»</text><text fill=\"#000000\" font-family=\"sans-serif\" font-size=\"12\" lengthAdjust=\"spacingAndGlyphs\" textLength=\"16\" x=\"167\" y=\"88.6074\">A3</text></a></g><!--MD5=[4d03bb2d0377dc85ccfab60ff574652b]\n",
       "link E2 to E4--><a href=\"psysml:5839aeb0-dd7d-4257-be26-6d697b84d54b\" target=\"_top\" title=\"psysml:5839aeb0-dd7d-4257-be26-6d697b84d54b\" xlink:actuate=\"onRequest\" xlink:href=\"psysml:5839aeb0-dd7d-4257-be26-6d697b84d54b\" xlink:show=\"new\" xlink:title=\"psysml:5839aeb0-dd7d-4257-be26-6d697b84d54b\" xlink:type=\"simple\"><path d=\"M62.41,140.94 C78.32,146.39 114.02,158.03 145,164 C174.83,169.75 182.72,168.53 213,171 C228.89,172.3 246.52,173.4 261.42,174.25 \" fill=\"none\" id=\"E2-&gt;E4\" style=\"stroke: #383838; stroke-width: 1.0; stroke-dasharray: 7.0,7.0;\"/><polygon fill=\"#383838\" points=\"266.79,174.54,258.0208,170.0567,261.7974,174.2682,257.5859,178.0448,266.79,174.54\" style=\"stroke: #383838; stroke-width: 1.0;\"/><text fill=\"#000000\" font-family=\"sans-serif\" font-size=\"13\" lengthAdjust=\"spacingAndGlyphs\" textLength=\"55\" x=\"147.5\" y=\"160.0669\">[x == 1]</text></a><!--MD5=[dcad52bbbca2fe8adc741ce38b45dc12]\n",
       "link E2 to E5--><a href=\"psysml:6472265e-4329-42f9-a73f-b0fdd653d81d\" target=\"_top\" title=\"psysml:6472265e-4329-42f9-a73f-b0fdd653d81d\" xlink:actuate=\"onRequest\" xlink:href=\"psysml:6472265e-4329-42f9-a73f-b0fdd653d81d\" xlink:show=\"new\" xlink:title=\"psysml:6472265e-4329-42f9-a73f-b0fdd653d81d\" xlink:type=\"simple\"><path d=\"M64.69,137.65 C108.56,136.25 274.8,131.44 327,137 C356.39,140.13 364.82,139.41 392,151 C392.96,151.41 393.93,151.85 394.89,152.31 \" fill=\"none\" id=\"E2-&gt;E5\" style=\"stroke: #383838; stroke-width: 1.0; stroke-dasharray: 7.0,7.0;\"/><polygon fill=\"#383838\" points=\"399.68,154.77,393.5069,147.0958,395.2339,152.4826,389.8471,154.2096,399.68,154.77\" style=\"stroke: #383838; stroke-width: 1.0;\"/><text fill=\"#000000\" font-family=\"sans-serif\" font-size=\"13\" lengthAdjust=\"spacingAndGlyphs\" textLength=\"44\" x=\"214\" y=\"131.0669\">[x &gt; 1]</text></a><!--MD5=[e3d2a08a9c9236652057e8ed0cbc9b62]\n",
       "link E2 to E7--><a href=\"psysml:3c10905a-0cf4-4572-9b68-27220c544656\" target=\"_top\" title=\"psysml:3c10905a-0cf4-4572-9b68-27220c544656\" xlink:actuate=\"onRequest\" xlink:href=\"psysml:3c10905a-0cf4-4572-9b68-27220c544656\" xlink:show=\"new\" xlink:title=\"psysml:3c10905a-0cf4-4572-9b68-27220c544656\" xlink:type=\"simple\"><path d=\"M63.4,136.24 C84.45,132.27 133.79,122.83 137,121 C143.76,117.13 149.96,111.59 155.27,105.83 \" fill=\"none\" id=\"E2-&gt;E7\" style=\"stroke: #383838; stroke-width: 1.0; stroke-dasharray: 7.0,7.0;\"/><polygon fill=\"#383838\" points=\"158.8,101.82,149.8466,105.9232,155.4924,105.5696,155.8459,111.2154,158.8,101.82\" style=\"stroke: #383838; stroke-width: 1.0;\"/></a><!--MD5=[583832df87f4419a098336a29a52fa00]\n",
       "link E7 to E2--><a href=\"psysml:2ecae6e1-cb24-4407-809b-df9594bdb8fa\" target=\"_top\" title=\"psysml:2ecae6e1-cb24-4407-809b-df9594bdb8fa\" xlink:actuate=\"onRequest\" xlink:href=\"psysml:2ecae6e1-cb24-4407-809b-df9594bdb8fa\" xlink:show=\"new\" xlink:title=\"psysml:2ecae6e1-cb24-4407-809b-df9594bdb8fa\" xlink:type=\"simple\"><path d=\"M144.81,94.11 C119.63,106.28 84.51,123.25 66.2,132.1 \" fill=\"none\" id=\"E7-&gt;E2\" style=\"stroke: #383838; stroke-width: 1.0; stroke-dasharray: 7.0,7.0;\"/><polygon fill=\"#383838\" points=\"61.51,134.37,71.354,134.0612,66.0131,132.1971,67.8773,126.8562,61.51,134.37\" style=\"stroke: #383838; stroke-width: 1.0;\"/><text fill=\"#000000\" font-family=\"sans-serif\" font-size=\"13\" lengthAdjust=\"spacingAndGlyphs\" textLength=\"44\" x=\"92\" y=\"95.0669\">[x &gt; 0]</text></a><!--MD5=[2720a5a1f2c3fca2055b230370638851]\n",
       "link E2 to E3--><a href=\"psysml:4534ef33-8eda-405a-b2f5-6c95fd446375\" target=\"_top\" title=\"psysml:4534ef33-8eda-405a-b2f5-6c95fd446375\" xlink:actuate=\"onRequest\" xlink:href=\"psysml:4534ef33-8eda-405a-b2f5-6c95fd446375\" xlink:show=\"new\" xlink:title=\"psysml:4534ef33-8eda-405a-b2f5-6c95fd446375\" xlink:type=\"simple\"><path d=\"M57.63,145.75 C63.59,158 76.25,182.27 91,200 C113.43,226.97 146.15,252.65 163.03,265.13 \" fill=\"none\" id=\"E2-&gt;E3\" style=\"stroke: #383838; stroke-width: 1.0; stroke-dasharray: 7.0,7.0;\"/><polygon fill=\"#383838\" points=\"167.35,268.28,162.442,259.7412,163.3125,265.3306,157.723,266.2011,167.35,268.28\" style=\"stroke: #383838; stroke-width: 1.0;\"/></a><!--MD5=[af87c684e3b0d8be13c1a698a818ef1e]\n",
       "link E3 to E4--><a href=\"psysml:4cb33783-cb85-4624-8a6d-789ab5e27309\" target=\"_top\" title=\"psysml:4cb33783-cb85-4624-8a6d-789ab5e27309\" xlink:actuate=\"onRequest\" xlink:href=\"psysml:4cb33783-cb85-4624-8a6d-789ab5e27309\" xlink:show=\"new\" xlink:title=\"psysml:4cb33783-cb85-4624-8a6d-789ab5e27309\" xlink:type=\"simple\"><path d=\"M183.24,268.64 C198.11,259.54 232.89,237.48 259,215 C263.75,210.91 268.56,206.28 273.06,201.67 \" fill=\"none\" id=\"E3-&gt;E4\" style=\"stroke: #383838; stroke-width: 1.0; stroke-dasharray: 7.0,7.0;\"/><polygon fill=\"#383838\" points=\"276.77,197.83,267.6434,201.5321,273.2993,201.4292,273.4022,207.0851,276.77,197.83\" style=\"stroke: #383838; stroke-width: 1.0;\"/><text fill=\"#000000\" font-family=\"sans-serif\" font-size=\"13\" lengthAdjust=\"spacingAndGlyphs\" textLength=\"36\" x=\"218\" y=\"211.0669\">[true]</text></a><!--MD5=[0188b64bb0ae78505a997a81836e11e9]\n",
       "link E3 to E5--><a href=\"psysml:7566f218-2e4c-4b1d-8134-f6de9f4cb12f\" target=\"_top\" title=\"psysml:7566f218-2e4c-4b1d-8134-f6de9f4cb12f\" xlink:actuate=\"onRequest\" xlink:href=\"psysml:7566f218-2e4c-4b1d-8134-f6de9f4cb12f\" xlink:show=\"new\" xlink:title=\"psysml:7566f218-2e4c-4b1d-8134-f6de9f4cb12f\" xlink:type=\"simple\"><path d=\"M185.44,271.25 C209.6,266.6 275.36,252.84 327,232 C350.69,222.44 375.86,208.66 395.27,197.17 \" fill=\"none\" id=\"E3-&gt;E5\" style=\"stroke: #383838; stroke-width: 1.0; stroke-dasharray: 7.0,7.0;\"/><polygon fill=\"#383838\" points=\"399.57,194.6,389.7917,195.7765,395.2762,197.1619,393.8908,202.6465,399.57,194.6\" style=\"stroke: #383838; stroke-width: 1.0;\"/><text fill=\"#000000\" font-family=\"sans-serif\" font-size=\"13\" lengthAdjust=\"spacingAndGlyphs\" textLength=\"40\" x=\"277\" y=\"228.0669\">[false]</text></a><!--MD5=[1b7591eae5389033d8d09a9d6721a717]\n",
       "link E4 to E5--><a href=\"psysml:2ec4d8de-ba31-4f08-a58c-ce574f556666\" target=\"_top\" title=\"psysml:2ec4d8de-ba31-4f08-a58c-ce574f556666\" xlink:actuate=\"onRequest\" xlink:href=\"psysml:2ec4d8de-ba31-4f08-a58c-ce574f556666\" xlink:show=\"new\" xlink:title=\"psysml:2ec4d8de-ba31-4f08-a58c-ce574f556666\" xlink:type=\"simple\"><path d=\"M327.07,176 C346.95,176 373.38,176 394.35,176 \" fill=\"none\" id=\"E4-&gt;E5\" style=\"stroke: #383838; stroke-width: 1.0; stroke-dasharray: 7.0,7.0;\"/><polygon fill=\"#383838\" points=\"399.56,176,390.56,172,394.56,176,390.56,180,399.56,176\" style=\"stroke: #383838; stroke-width: 1.0;\"/><text fill=\"#000000\" font-family=\"sans-serif\" font-size=\"13\" lengthAdjust=\"spacingAndGlyphs\" textLength=\"55\" x=\"336\" y=\"172.0669\">[x == 0]</text></a><!--MD5=[ab6ed2347ea3be61357a48935e85c8ca]\n",
       "@startuml\r\n",
       "skinparam ranksep 8\r\n",
       "left to right direction\r\n",
       "skinparam monochrome true\r\n",
       "skinparam classbackgroundcolor white\r\n",
       "skinparam shadowing false\r\n",
       "skinparam wrapWidth 300\r\n",
       "hide circle\r\n",
       "\r\n",
       "rec def \"DecisionTest\" as E1  <<(T,blue) action def>> [[psysml:068a4463-a96d-4165-a2bc-cadf70a9bc09 ]] {\r\n",
       "choice \"test x\" as E2  [[psysml:44ee9e06-5fd9-46bf-b0f8-00dd693073b7 ]] \r\n",
       "choice \"noname\" as E3  [[psysml:eeb68ac4-2ad3-4e0c-9c18-140c63d1edba ]] \r\n",
       "rec usage \"A1\" as E4  <<(T,blue) action>> [[psysml:86b53981-b1ee-4c30-93d6-edfc048c3f3e ]] {\r\n",
       "}\r\n",
       "\r\n",
       "rec usage \"A2\" as E5  <<(T,blue) action>> [[psysml:38b4e12b-2856-48b1-8683-970a7e146d76 ]] {\r\n",
       "}\r\n",
       "\r\n",
       "rec usage \"A3\" as E6  <<(T,blue) action>> [[psysml:3ceea1c4-b769-4e45-b22d-b9b14232dc11 ]] {\r\n",
       "}\r\n",
       "\r\n",
       "rec usage \"A3\" as E7  <<(T,blue) action>> [[psysml:3ceea1c4-b769-4e45-b22d-b9b14232dc11 ]] {\r\n",
       "}\r\n",
       "\r\n",
       "}\r\n",
       "\r\n",
       "E2 ..> E4 [[psysml:5839aeb0-dd7d-4257-be26-6d697b84d54b ]] : [x == 1]\r\n",
       "E2 ..> E5 [[psysml:6472265e-4329-42f9-a73f-b0fdd653d81d ]] : [x > 1]\r\n",
       "E2 ..> E7 [[psysml:3c10905a-0cf4-4572-9b68-27220c544656 ]] \r\n",
       "E2 ..> E3 [[psysml:4534ef33-8eda-405a-b2f5-6c95fd446375 ]] \r\n",
       "E3 ..> E4 [[psysml:4cb33783-cb85-4624-8a6d-789ab5e27309 ]] : [true]\r\n",
       "E3 ..> E5 [[psysml:7566f218-2e4c-4b1d-8134-f6de9f4cb12f ]] : [false]\r\n",
       "E4 ..> E5 [[psysml:2ec4d8de-ba31-4f08-a58c-ce574f556666 ]] : [x == 0]\r\n",
       "E7 ..> E2 [[psysml:2ecae6e1-cb24-4407-809b-df9594bdb8fa ]] : [x > 0]\r\n",
       "@enduml\r\n",
       "\n",
       "PlantUML version 1.2020.13(Sat Jun 13 12:26:38 UTC 2020)\n",
       "(EPL source distribution)\n",
       "Java Runtime: OpenJDK Runtime Environment\n",
       "JVM: OpenJDK 64-Bit Server VM\n",
       "Default Encoding: UTF-8\n",
       "Language: en\n",
       "Country: null\n",
       "--></g></svg>"
      ]
     },
     "execution_count": 20,
     "metadata": {},
     "output_type": "execute_result"
    }
   ],
   "source": [
    "%viz --style=\"LR\" --view=\"Action\" \"DecisionTest\""
   ]
  },
  {
   "cell_type": "code",
   "execution_count": 21,
   "id": "98488072",
   "metadata": {
    "execution": {
     "iopub.execute_input": "2021-06-30T09:20:28.817579Z",
     "iopub.status.busy": "2021-06-30T09:20:28.817139Z",
     "iopub.status.idle": "2021-06-30T09:20:28.895252Z",
     "shell.execute_reply": "2021-06-30T09:20:28.893084Z"
    }
   },
   "outputs": [
    {
     "data": {
      "image/svg+xml": [
       "<?xml version=\"1.0\" encoding=\"UTF-8\" standalone=\"no\"?><svg xmlns=\"http://www.w3.org/2000/svg\" xmlns:xlink=\"http://www.w3.org/1999/xlink\" contentScriptType=\"application/ecmascript\" contentStyleType=\"text/css\" height=\"387px\" preserveAspectRatio=\"none\" style=\"width:265px;height:387px;\" version=\"1.1\" viewBox=\"0 0 265 387\" width=\"265px\" zoomAndPan=\"magnify\"><defs/><g><!--MD5=[43c9051892ef23e1a46a86907403d788]\n",
       "class E1--><a href=\"psysml:068a4463-a96d-4165-a2bc-cadf70a9bc09\" target=\"_top\" title=\"psysml:068a4463-a96d-4165-a2bc-cadf70a9bc09\" xlink:actuate=\"onRequest\" xlink:href=\"psysml:068a4463-a96d-4165-a2bc-cadf70a9bc09\" xlink:show=\"new\" xlink:title=\"psysml:068a4463-a96d-4165-a2bc-cadf70a9bc09\" xlink:type=\"simple\"><rect fill=\"#FFFFFF\" height=\"105.1563\" id=\"E1\" style=\"stroke: #383838; stroke-width: 1.5;\" width=\"86\" x=\"7\" y=\"180.5\"/><text fill=\"#000000\" font-family=\"sans-serif\" font-size=\"12\" font-style=\"italic\" lengthAdjust=\"spacingAndGlyphs\" textLength=\"77\" x=\"11.5\" y=\"196.6387\">«action def»</text><text fill=\"#000000\" font-family=\"sans-serif\" font-size=\"12\" lengthAdjust=\"spacingAndGlyphs\" textLength=\"80\" x=\"10\" y=\"210.6074\">DecisionTest</text><line style=\"stroke: #383838; stroke-width: 1.5;\" x1=\"8\" x2=\"92\" y1=\"218.4375\" y2=\"218.4375\"/><text fill=\"#000000\" font-family=\"sans-serif\" font-size=\"11\" lengthAdjust=\"spacingAndGlyphs\" textLength=\"26\" x=\"13\" y=\"249.4526\">x=1;</text><line style=\"stroke: #383838; stroke-width: 1.0;\" x1=\"8\" x2=\"22.5\" y1=\"232.8398\" y2=\"232.8398\"/><text fill=\"#000000\" font-family=\"sans-serif\" font-size=\"11\" lengthAdjust=\"spacingAndGlyphs\" textLength=\"55\" x=\"22.5\" y=\"236.1479\">attributes</text><line style=\"stroke: #383838; stroke-width: 1.0;\" x1=\"77.5\" x2=\"92\" y1=\"232.8398\" y2=\"232.8398\"/><text fill=\"#000000\" font-family=\"sans-serif\" font-size=\"11\" lengthAdjust=\"spacingAndGlyphs\" textLength=\"8\" x=\"13\" y=\"279.062\">S</text><line style=\"stroke: #383838; stroke-width: 1.0;\" x1=\"8\" x2=\"19.5\" y1=\"262.4492\" y2=\"262.4492\"/><text fill=\"#000000\" font-family=\"sans-serif\" font-size=\"11\" lengthAdjust=\"spacingAndGlyphs\" textLength=\"61\" x=\"19.5\" y=\"265.7573\">transitions</text><line style=\"stroke: #383838; stroke-width: 1.0;\" x1=\"80.5\" x2=\"92\" y1=\"262.4492\" y2=\"262.4492\"/></a><!--MD5=[b4997ac47864f28c2f74865a473b2911]\n",
       "class E2--><a href=\"psysml:44ee9e06-5fd9-46bf-b0f8-00dd693073b7\" target=\"_top\" title=\"psysml:44ee9e06-5fd9-46bf-b0f8-00dd693073b7\" xlink:actuate=\"onRequest\" xlink:href=\"psysml:44ee9e06-5fd9-46bf-b0f8-00dd693073b7\" xlink:show=\"new\" xlink:title=\"psysml:44ee9e06-5fd9-46bf-b0f8-00dd693073b7\" xlink:type=\"simple\"><rect fill=\"#FFFFFF\" height=\"45.9375\" id=\"E2\" rx=\"10\" ry=\"10\" style=\"stroke: #383838; stroke-width: 1.5;\" width=\"101\" x=\"153\" y=\"7\"/><text fill=\"#000000\" font-family=\"sans-serif\" font-size=\"12\" font-style=\"italic\" lengthAdjust=\"spacingAndGlyphs\" textLength=\"99\" x=\"154\" y=\"23.1387\">«decisionNode»</text><text fill=\"#000000\" font-family=\"sans-serif\" font-size=\"12\" lengthAdjust=\"spacingAndGlyphs\" textLength=\"35\" x=\"186\" y=\"37.1074\">test x</text><line style=\"stroke: #383838; stroke-width: 1.5;\" x1=\"154\" x2=\"253\" y1=\"44.9375\" y2=\"44.9375\"/></a><!--MD5=[09b614a08d8cba4a07c9adeb5e0fee81]\n",
       "class E3--><a href=\"psysml:eeb68ac4-2ad3-4e0c-9c18-140c63d1edba\" target=\"_top\" title=\"psysml:eeb68ac4-2ad3-4e0c-9c18-140c63d1edba\" xlink:actuate=\"onRequest\" xlink:href=\"psysml:eeb68ac4-2ad3-4e0c-9c18-140c63d1edba\" xlink:show=\"new\" xlink:title=\"psysml:eeb68ac4-2ad3-4e0c-9c18-140c63d1edba\" xlink:type=\"simple\"><rect fill=\"#FFFFFF\" height=\"45.9375\" id=\"E3\" rx=\"10\" ry=\"10\" style=\"stroke: #383838; stroke-width: 1.5;\" width=\"101\" x=\"153\" y=\"88\"/><text fill=\"#000000\" font-family=\"sans-serif\" font-size=\"12\" font-style=\"italic\" lengthAdjust=\"spacingAndGlyphs\" textLength=\"99\" x=\"154\" y=\"104.1387\">«decisionNode»</text><text fill=\"#000000\" font-family=\"sans-serif\" font-size=\"12\" lengthAdjust=\"spacingAndGlyphs\" text-decoration=\"line-through\" textLength=\"51\" x=\"178\" y=\"118.1074\">noname</text><line style=\"stroke: #383838; stroke-width: 1.5;\" x1=\"154\" x2=\"253\" y1=\"125.9375\" y2=\"125.9375\"/></a><!--MD5=[ebbe1d658d1005bcc118a6aa81145e00]\n",
       "class E4--><a href=\"psysml:86b53981-b1ee-4c30-93d6-edfc048c3f3e\" target=\"_top\" title=\"psysml:86b53981-b1ee-4c30-93d6-edfc048c3f3e\" xlink:actuate=\"onRequest\" xlink:href=\"psysml:86b53981-b1ee-4c30-93d6-edfc048c3f3e\" xlink:show=\"new\" xlink:title=\"psysml:86b53981-b1ee-4c30-93d6-edfc048c3f3e\" xlink:type=\"simple\"><rect fill=\"#FFFFFF\" height=\"45.9375\" id=\"E4\" rx=\"10\" ry=\"10\" style=\"stroke: #383838; stroke-width: 1.5;\" width=\"55\" x=\"176\" y=\"169\"/><text fill=\"#000000\" font-family=\"sans-serif\" font-size=\"12\" font-style=\"italic\" lengthAdjust=\"spacingAndGlyphs\" textLength=\"53\" x=\"177\" y=\"185.1387\">«action»</text><text fill=\"#000000\" font-family=\"sans-serif\" font-size=\"12\" lengthAdjust=\"spacingAndGlyphs\" textLength=\"16\" x=\"195.5\" y=\"199.1074\">A1</text><line style=\"stroke: #383838; stroke-width: 1.5;\" x1=\"177\" x2=\"230\" y1=\"206.9375\" y2=\"206.9375\"/></a><!--MD5=[270fce915f116d4de14055a7c1d9a0f3]\n",
       "class E5--><a href=\"psysml:38b4e12b-2856-48b1-8683-970a7e146d76\" target=\"_top\" title=\"psysml:38b4e12b-2856-48b1-8683-970a7e146d76\" xlink:actuate=\"onRequest\" xlink:href=\"psysml:38b4e12b-2856-48b1-8683-970a7e146d76\" xlink:show=\"new\" xlink:title=\"psysml:38b4e12b-2856-48b1-8683-970a7e146d76\" xlink:type=\"simple\"><rect fill=\"#FFFFFF\" height=\"45.9375\" id=\"E5\" rx=\"10\" ry=\"10\" style=\"stroke: #383838; stroke-width: 1.5;\" width=\"55\" x=\"176\" y=\"250\"/><text fill=\"#000000\" font-family=\"sans-serif\" font-size=\"12\" font-style=\"italic\" lengthAdjust=\"spacingAndGlyphs\" textLength=\"53\" x=\"177\" y=\"266.1387\">«action»</text><text fill=\"#000000\" font-family=\"sans-serif\" font-size=\"12\" lengthAdjust=\"spacingAndGlyphs\" textLength=\"16\" x=\"195.5\" y=\"280.1074\">A2</text><line style=\"stroke: #383838; stroke-width: 1.5;\" x1=\"177\" x2=\"230\" y1=\"287.9375\" y2=\"287.9375\"/></a><!--MD5=[60a26617385b1d2d0262a64233df1f8d]\n",
       "class E6--><a href=\"psysml:3ceea1c4-b769-4e45-b22d-b9b14232dc11\" target=\"_top\" title=\"psysml:3ceea1c4-b769-4e45-b22d-b9b14232dc11\" xlink:actuate=\"onRequest\" xlink:href=\"psysml:3ceea1c4-b769-4e45-b22d-b9b14232dc11\" xlink:show=\"new\" xlink:title=\"psysml:3ceea1c4-b769-4e45-b22d-b9b14232dc11\" xlink:type=\"simple\"><rect fill=\"#FFFFFF\" height=\"45.9375\" id=\"E6\" rx=\"10\" ry=\"10\" style=\"stroke: #383838; stroke-width: 1.5;\" width=\"55\" x=\"176\" y=\"331\"/><text fill=\"#000000\" font-family=\"sans-serif\" font-size=\"12\" font-style=\"italic\" lengthAdjust=\"spacingAndGlyphs\" textLength=\"53\" x=\"177\" y=\"347.1387\">«action»</text><text fill=\"#000000\" font-family=\"sans-serif\" font-size=\"12\" lengthAdjust=\"spacingAndGlyphs\" textLength=\"16\" x=\"195.5\" y=\"361.1074\">A3</text><line style=\"stroke: #383838; stroke-width: 1.5;\" x1=\"177\" x2=\"230\" y1=\"368.9375\" y2=\"368.9375\"/></a><!--MD5=[a523cb2a0b79ecf9065ad8783f96c320]\n",
       "reverse link E1 to E2--><a href=\"psysml:3f40863b-0a66-456a-a380-cfd414bf0804\" target=\"_top\" title=\"psysml:3f40863b-0a66-456a-a380-cfd414bf0804\" xlink:actuate=\"onRequest\" xlink:href=\"psysml:3f40863b-0a66-456a-a380-cfd414bf0804\" xlink:show=\"new\" xlink:title=\"psysml:3f40863b-0a66-456a-a380-cfd414bf0804\" xlink:type=\"simple\"><path d=\"M84.61,168.67 C102.65,137.21 126.59,99.8 153,70 C158.28,64.05 164.5,58.28 170.72,53.06 \" fill=\"none\" id=\"E1&lt;-E2\" style=\"stroke: #383838; stroke-width: 1.0;\"/><polygon fill=\"#383838\" points=\"77.99,180.41,84.4226,177.1508,83.8882,169.9596,77.4556,173.2187,77.99,180.41\" style=\"stroke: #383838; stroke-width: 1.0;\"/></a><!--MD5=[5d7b3810b1dd9b5164bea1151b29b665]\n",
       "reverse link E1 to E3--><a href=\"psysml:e2578a6b-d48b-4dd6-b58c-18f093f1f29f\" target=\"_top\" title=\"psysml:e2578a6b-d48b-4dd6-b58c-18f093f1f29f\" xlink:actuate=\"onRequest\" xlink:href=\"psysml:e2578a6b-d48b-4dd6-b58c-18f093f1f29f\" xlink:show=\"new\" xlink:title=\"psysml:e2578a6b-d48b-4dd6-b58c-18f093f1f29f\" xlink:type=\"simple\"><path d=\"M103.44,190.77 C127.09,171.73 154.09,149.98 173.93,134.01 \" fill=\"none\" id=\"E1&lt;-E3\" style=\"stroke: #383838; stroke-width: 1.0;\"/><polygon fill=\"#383838\" points=\"93.2,199.02,100.3819,198.3719,102.5459,191.4932,95.364,192.1413,93.2,199.02\" style=\"stroke: #383838; stroke-width: 1.0;\"/></a><!--MD5=[f2c5c03aa1e8c0ba21c10a05e6444b8e]\n",
       "reverse link E1 to E4--><a href=\"psysml:7583b8d6-81fb-44fd-88ce-ec05d2d7f8f3\" target=\"_top\" title=\"psysml:7583b8d6-81fb-44fd-88ce-ec05d2d7f8f3\" xlink:actuate=\"onRequest\" xlink:href=\"psysml:7583b8d6-81fb-44fd-88ce-ec05d2d7f8f3\" xlink:show=\"new\" xlink:title=\"psysml:7583b8d6-81fb-44fd-88ce-ec05d2d7f8f3\" xlink:type=\"simple\"><path d=\"M106.03,218.11 C129.79,211.68 156.49,204.45 175.77,199.23 \" fill=\"none\" id=\"E1&lt;-E4\" style=\"stroke: #383838; stroke-width: 1.0;\"/><polygon fill=\"#383838\" points=\"93.2,221.58,100.0369,223.8729,104.7829,218.4438,97.9461,216.1509,93.2,221.58\" style=\"stroke: #383838; stroke-width: 1.0;\"/></a><!--MD5=[33238bef88d6431a141d8bc8fb12bca0]\n",
       "reverse link E1 to E5--><a href=\"psysml:1b62ef88-94e5-4ba0-8e17-6cec1f6133af\" target=\"_top\" title=\"psysml:1b62ef88-94e5-4ba0-8e17-6cec1f6133af\" xlink:actuate=\"onRequest\" xlink:href=\"psysml:1b62ef88-94e5-4ba0-8e17-6cec1f6133af\" xlink:show=\"new\" xlink:title=\"psysml:1b62ef88-94e5-4ba0-8e17-6cec1f6133af\" xlink:type=\"simple\"><path d=\"M106.03,247.53 C129.79,253.8 156.49,260.85 175.77,265.94 \" fill=\"none\" id=\"E1&lt;-E5\" style=\"stroke: #383838; stroke-width: 1.0;\"/><polygon fill=\"#383838\" points=\"93.2,244.14,97.9821,249.5374,104.8035,247.1991,100.0215,241.8017,93.2,244.14\" style=\"stroke: #383838; stroke-width: 1.0;\"/></a><!--MD5=[aca2ef284c2b1b90e17e73bf3f292c07]\n",
       "reverse link E1 to E6--><a href=\"psysml:6d478a35-76b8-45be-be82-2204dec34e47\" target=\"_top\" title=\"psysml:6d478a35-76b8-45be-be82-2204dec34e47\" xlink:actuate=\"onRequest\" xlink:href=\"psysml:6d478a35-76b8-45be-be82-2204dec34e47\" xlink:show=\"new\" xlink:title=\"psysml:6d478a35-76b8-45be-be82-2204dec34e47\" xlink:type=\"simple\"><path d=\"M103.08,286.77 C127.55,307.53 155.68,329.28 175.77,342.64 \" fill=\"none\" id=\"E1&lt;-E6\" style=\"stroke: #383838; stroke-width: 1.0;\"/><polygon fill=\"#383838\" points=\"93.2,278.27,95.1433,285.2143,102.3008,286.0914,100.3576,279.1471,93.2,278.27\" style=\"stroke: #383838; stroke-width: 1.0;\"/></a><!--MD5=[aca2ef284c2b1b90e17e73bf3f292c07]\n",
       "reverse link E1 to E6--><a href=\"psysml:637c00ed-dc37-460b-98af-77d0acff244f\" target=\"_top\" title=\"psysml:637c00ed-dc37-460b-98af-77d0acff244f\" xlink:actuate=\"onRequest\" xlink:href=\"psysml:637c00ed-dc37-460b-98af-77d0acff244f\" xlink:show=\"new\" xlink:title=\"psysml:637c00ed-dc37-460b-98af-77d0acff244f\" xlink:type=\"simple\"><path d=\"M103.74,262.19 C131.94,283.28 164.84,310.83 184.65,330.66 \" fill=\"none\" id=\"E1&lt;-E6-1\" style=\"stroke: #383838; stroke-width: 1.0;\"/><polygon fill=\"#FFFFFF\" points=\"93.2,254.46,95.6746,261.2332,102.8785,261.5541,100.404,254.7809,93.2,254.46\" style=\"stroke: #383838; stroke-width: 1.0;\"/></a><!--MD5=[d2e41834bbd956a4dedc89028a992a58]\n",
       "@startuml\r\n",
       "left to right direction\r\n",
       "skinparam monochrome true\r\n",
       "skinparam classbackgroundcolor white\r\n",
       "skinparam shadowing false\r\n",
       "skinparam wrapWidth 300\r\n",
       "hide circle\r\n",
       "\r\n",
       "comp def \"DecisionTest\" as E1  <<(T,blue) action def>> [[psysml:068a4463-a96d-4165-a2bc-cadf70a9bc09 ]] {\r\n",
       "- - attributes - -\r\n",
       "x=1; \r\n",
       "- - transitions - -\r\n",
       "S\r\n",
       "}\r\n",
       "comp usage \"test x\" as E2  <<(T,blue) decisionNode>> [[psysml:44ee9e06-5fd9-46bf-b0f8-00dd693073b7 ]] {\r\n",
       "}\r\n",
       "comp usage \"<s>noname</s>\" as E3  <<(T,blue) decisionNode>> [[psysml:eeb68ac4-2ad3-4e0c-9c18-140c63d1edba ]] {\r\n",
       "}\r\n",
       "comp usage \"A1\" as E4  <<(T,blue) action>> [[psysml:86b53981-b1ee-4c30-93d6-edfc048c3f3e ]] {\r\n",
       "}\r\n",
       "comp usage \"A2\" as E5  <<(T,blue) action>> [[psysml:38b4e12b-2856-48b1-8683-970a7e146d76 ]] {\r\n",
       "}\r\n",
       "comp usage \"A3\" as E6  <<(T,blue) action>> [[psysml:3ceea1c4-b769-4e45-b22d-b9b14232dc11 ]] {\r\n",
       "}\r\n",
       "E1 *- - E2 [[psysml:3f40863b-0a66-456a-a380-cfd414bf0804 ]] \r\n",
       "E1 *- - E3 [[psysml:e2578a6b-d48b-4dd6-b58c-18f093f1f29f ]] \r\n",
       "E1 *- - E4 [[psysml:7583b8d6-81fb-44fd-88ce-ec05d2d7f8f3 ]] \r\n",
       "E1 *- - E5 [[psysml:1b62ef88-94e5-4ba0-8e17-6cec1f6133af ]] \r\n",
       "E1 *- - E6 [[psysml:6d478a35-76b8-45be-be82-2204dec34e47 ]] \r\n",
       "E1 o- - E6 [[psysml:637c00ed-dc37-460b-98af-77d0acff244f ]] \r\n",
       "@enduml\r\n",
       "\n",
       "PlantUML version 1.2020.13(Sat Jun 13 12:26:38 UTC 2020)\n",
       "(EPL source distribution)\n",
       "Java Runtime: OpenJDK Runtime Environment\n",
       "JVM: OpenJDK 64-Bit Server VM\n",
       "Default Encoding: UTF-8\n",
       "Language: en\n",
       "Country: null\n",
       "--></g></svg>"
      ]
     },
     "execution_count": 21,
     "metadata": {},
     "output_type": "execute_result"
    }
   ],
   "source": [
    "%viz --style=\"LR\" --view=\"Sequence\" \"DecisionTest\""
   ]
  },
  {
   "cell_type": "code",
   "execution_count": 22,
   "id": "2aa36f8b",
   "metadata": {
    "execution": {
     "iopub.execute_input": "2021-06-30T09:20:28.956397Z",
     "iopub.status.busy": "2021-06-30T09:20:28.951817Z",
     "iopub.status.idle": "2021-06-30T09:20:28.999744Z",
     "shell.execute_reply": "2021-06-30T09:20:28.998090Z"
    }
   },
   "outputs": [
    {
     "data": {
      "image/svg+xml": [
       "<?xml version=\"1.0\" encoding=\"UTF-8\" standalone=\"no\"?><svg xmlns=\"http://www.w3.org/2000/svg\" xmlns:xlink=\"http://www.w3.org/1999/xlink\" contentScriptType=\"application/ecmascript\" contentStyleType=\"text/css\" height=\"312px\" preserveAspectRatio=\"none\" style=\"width:619px;height:312px;\" version=\"1.1\" viewBox=\"0 0 619 312\" width=\"619px\" zoomAndPan=\"magnify\"><defs/><g><!--MD5=[fbc87193dbaf4d95561dea2c320d4a47]\n",
       "cluster E1--><a href=\"psysml:068a4463-a96d-4165-a2bc-cadf70a9bc09\" target=\"_top\" title=\"psysml:068a4463-a96d-4165-a2bc-cadf70a9bc09\" xlink:actuate=\"onRequest\" xlink:href=\"psysml:068a4463-a96d-4165-a2bc-cadf70a9bc09\" xlink:show=\"new\" xlink:title=\"psysml:068a4463-a96d-4165-a2bc-cadf70a9bc09\" xlink:type=\"simple\"><rect fill=\"#FFFFFF\" height=\"294\" id=\"E1\" style=\"stroke: #383838; stroke-width: 1.5;\" width=\"601\" x=\"7\" y=\"7\"/><rect fill=\"#F8F8F8\" height=\"37.9375\" style=\"stroke: #383838; stroke-width: 1.5;\" width=\"601\" x=\"7\" y=\"7\"/><text fill=\"#000000\" font-family=\"sans-serif\" font-size=\"12\" font-style=\"italic\" lengthAdjust=\"spacingAndGlyphs\" textLength=\"77\" x=\"269\" y=\"23.1387\">«action def»</text><text fill=\"#000000\" font-family=\"sans-serif\" font-size=\"12\" lengthAdjust=\"spacingAndGlyphs\" textLength=\"80\" x=\"267.5\" y=\"37.1074\">DecisionTest</text></a><polygon fill=\"#F8F8F8\" points=\"53,126,65,138,53,150,41,138,53,126\" style=\"stroke: #383838; stroke-width: 1.5;\"/><polygon fill=\"#F8F8F8\" points=\"219,261,231,273,219,285,207,273,219,261\" style=\"stroke: #383838; stroke-width: 1.5;\"/><g id=\"E1.E4\"><a href=\"psysml:86b53981-b1ee-4c30-93d6-edfc048c3f3e\" target=\"_top\" title=\"psysml:86b53981-b1ee-4c30-93d6-edfc048c3f3e\" xlink:actuate=\"onRequest\" xlink:href=\"psysml:86b53981-b1ee-4c30-93d6-edfc048c3f3e\" xlink:show=\"new\" xlink:title=\"psysml:86b53981-b1ee-4c30-93d6-edfc048c3f3e\" xlink:type=\"simple\"><rect fill=\"#FFFFFF\" height=\"42.9375\" id=\"E4\" rx=\"10\" ry=\"10\" style=\"stroke: #383838; stroke-width: 1.5;\" width=\"60\" x=\"355\" y=\"154.5\"/><rect fill=\"#F8F8F8\" height=\"37.9375\" rx=\"10\" ry=\"10\" style=\"stroke: #F8F8F8; stroke-width: 1.5;\" width=\"60\" x=\"355\" y=\"154.5\"/><rect fill=\"#F8F8F8\" height=\"10\" style=\"stroke: #F8F8F8; stroke-width: 1.5;\" width=\"60\" x=\"355\" y=\"182.4375\"/><rect fill=\"none\" height=\"42.9375\" id=\"E4\" rx=\"10\" ry=\"10\" style=\"stroke: #383838; stroke-width: 1.5;\" width=\"60\" x=\"355\" y=\"154.5\"/><text fill=\"#000000\" font-family=\"sans-serif\" font-size=\"12\" font-style=\"italic\" lengthAdjust=\"spacingAndGlyphs\" textLength=\"53\" x=\"358.5\" y=\"170.6387\">«action»</text><text fill=\"#000000\" font-family=\"sans-serif\" font-size=\"12\" lengthAdjust=\"spacingAndGlyphs\" textLength=\"16\" x=\"377\" y=\"184.6074\">A1</text></a></g><g id=\"E1.E5\"><a href=\"psysml:38b4e12b-2856-48b1-8683-970a7e146d76\" target=\"_top\" title=\"psysml:38b4e12b-2856-48b1-8683-970a7e146d76\" xlink:actuate=\"onRequest\" xlink:href=\"psysml:38b4e12b-2856-48b1-8683-970a7e146d76\" xlink:show=\"new\" xlink:title=\"psysml:38b4e12b-2856-48b1-8683-970a7e146d76\" xlink:type=\"simple\"><rect fill=\"#FFFFFF\" height=\"42.9375\" id=\"E5\" rx=\"10\" ry=\"10\" style=\"stroke: #383838; stroke-width: 1.5;\" width=\"60\" x=\"532\" y=\"154.5\"/><rect fill=\"#F8F8F8\" height=\"37.9375\" rx=\"10\" ry=\"10\" style=\"stroke: #F8F8F8; stroke-width: 1.5;\" width=\"60\" x=\"532\" y=\"154.5\"/><rect fill=\"#F8F8F8\" height=\"10\" style=\"stroke: #F8F8F8; stroke-width: 1.5;\" width=\"60\" x=\"532\" y=\"182.4375\"/><rect fill=\"none\" height=\"42.9375\" id=\"E5\" rx=\"10\" ry=\"10\" style=\"stroke: #383838; stroke-width: 1.5;\" width=\"60\" x=\"532\" y=\"154.5\"/><text fill=\"#000000\" font-family=\"sans-serif\" font-size=\"12\" font-style=\"italic\" lengthAdjust=\"spacingAndGlyphs\" textLength=\"53\" x=\"535.5\" y=\"170.6387\">«action»</text><text fill=\"#000000\" font-family=\"sans-serif\" font-size=\"12\" lengthAdjust=\"spacingAndGlyphs\" textLength=\"16\" x=\"554\" y=\"184.6074\">A2</text></a></g><g id=\"E1.E6\"><a href=\"psysml:3ceea1c4-b769-4e45-b22d-b9b14232dc11\" target=\"_top\" title=\"psysml:3ceea1c4-b769-4e45-b22d-b9b14232dc11\" xlink:actuate=\"onRequest\" xlink:href=\"psysml:3ceea1c4-b769-4e45-b22d-b9b14232dc11\" xlink:show=\"new\" xlink:title=\"psysml:3ceea1c4-b769-4e45-b22d-b9b14232dc11\" xlink:type=\"simple\"><rect fill=\"#FFFFFF\" height=\"42.9375\" id=\"E6\" rx=\"10\" ry=\"10\" style=\"stroke: #383838; stroke-width: 1.5;\" width=\"60\" x=\"23\" y=\"213.5\"/><rect fill=\"#F8F8F8\" height=\"37.9375\" rx=\"10\" ry=\"10\" style=\"stroke: #F8F8F8; stroke-width: 1.5;\" width=\"60\" x=\"23\" y=\"213.5\"/><rect fill=\"#F8F8F8\" height=\"10\" style=\"stroke: #F8F8F8; stroke-width: 1.5;\" width=\"60\" x=\"23\" y=\"241.4375\"/><rect fill=\"none\" height=\"42.9375\" id=\"E6\" rx=\"10\" ry=\"10\" style=\"stroke: #383838; stroke-width: 1.5;\" width=\"60\" x=\"23\" y=\"213.5\"/><text fill=\"#000000\" font-family=\"sans-serif\" font-size=\"12\" font-style=\"italic\" lengthAdjust=\"spacingAndGlyphs\" textLength=\"53\" x=\"26.5\" y=\"229.6387\">«action»</text><text fill=\"#000000\" font-family=\"sans-serif\" font-size=\"12\" lengthAdjust=\"spacingAndGlyphs\" textLength=\"16\" x=\"45\" y=\"243.6074\">A3</text></a></g><g id=\"E1.E7\"><a href=\"psysml:3ceea1c4-b769-4e45-b22d-b9b14232dc11\" target=\"_top\" title=\"psysml:3ceea1c4-b769-4e45-b22d-b9b14232dc11\" xlink:actuate=\"onRequest\" xlink:href=\"psysml:3ceea1c4-b769-4e45-b22d-b9b14232dc11\" xlink:show=\"new\" xlink:title=\"psysml:3ceea1c4-b769-4e45-b22d-b9b14232dc11\" xlink:type=\"simple\"><rect fill=\"#FFFFFF\" height=\"42.9375\" id=\"E7\" rx=\"10\" ry=\"10\" style=\"stroke: #383838; stroke-width: 1.5;\" width=\"60\" x=\"189\" y=\"58.5\"/><rect fill=\"#F8F8F8\" height=\"37.9375\" rx=\"10\" ry=\"10\" style=\"stroke: #F8F8F8; stroke-width: 1.5;\" width=\"60\" x=\"189\" y=\"58.5\"/><rect fill=\"#F8F8F8\" height=\"10\" style=\"stroke: #F8F8F8; stroke-width: 1.5;\" width=\"60\" x=\"189\" y=\"86.4375\"/><rect fill=\"none\" height=\"42.9375\" id=\"E7\" rx=\"10\" ry=\"10\" style=\"stroke: #383838; stroke-width: 1.5;\" width=\"60\" x=\"189\" y=\"58.5\"/><text fill=\"#000000\" font-family=\"sans-serif\" font-size=\"12\" font-style=\"italic\" lengthAdjust=\"spacingAndGlyphs\" textLength=\"53\" x=\"192.5\" y=\"74.6387\">«action»</text><text fill=\"#000000\" font-family=\"sans-serif\" font-size=\"12\" lengthAdjust=\"spacingAndGlyphs\" textLength=\"16\" x=\"211\" y=\"88.6074\">A3</text></a></g><!--MD5=[4d03bb2d0377dc85ccfab60ff574652b]\n",
       "link E2 to E4--><a href=\"psysml:5839aeb0-dd7d-4257-be26-6d697b84d54b\" target=\"_top\" title=\"psysml:5839aeb0-dd7d-4257-be26-6d697b84d54b\" xlink:actuate=\"onRequest\" xlink:href=\"psysml:5839aeb0-dd7d-4257-be26-6d697b84d54b\" xlink:show=\"new\" xlink:title=\"psysml:5839aeb0-dd7d-4257-be26-6d697b84d54b\" xlink:type=\"simple\"><path d=\"M63.11,140.12 C84.79,145.1 141.22,157.56 189,164 C228.76,169.36 238.96,168.49 279,171 C302.51,172.47 329,173.73 349.49,174.62 \" fill=\"none\" id=\"E2-&gt;E4\" style=\"stroke: #383838; stroke-width: 1.0;\"/><polygon fill=\"#383838\" points=\"354.57,174.84,345.7495,170.4583,349.5746,174.6259,345.407,178.451,354.57,174.84\" style=\"stroke: #383838; stroke-width: 1.0;\"/><text fill=\"#000000\" font-family=\"sans-serif\" font-size=\"13\" lengthAdjust=\"spacingAndGlyphs\" textLength=\"55\" x=\"191.5\" y=\"160.0669\">[x == 1]</text></a><!--MD5=[dcad52bbbca2fe8adc741ce38b45dc12]\n",
       "link E2 to E5--><a href=\"psysml:6472265e-4329-42f9-a73f-b0fdd653d81d\" target=\"_top\" title=\"psysml:6472265e-4329-42f9-a73f-b0fdd653d81d\" xlink:actuate=\"onRequest\" xlink:href=\"psysml:6472265e-4329-42f9-a73f-b0fdd653d81d\" xlink:show=\"new\" xlink:title=\"psysml:6472265e-4329-42f9-a73f-b0fdd653d81d\" xlink:type=\"simple\"><path d=\"M64.36,137.35 C107.45,134.77 276.62,125.94 415,137 C454.04,140.12 464.36,140.17 502,151 C510.23,153.37 518.85,156.58 526.88,159.9 \" fill=\"none\" id=\"E2-&gt;E5\" style=\"stroke: #383838; stroke-width: 1.0;\"/><polygon fill=\"#383838\" points=\"531.79,161.98,525.0555,154.7935,527.184,160.0346,521.9428,162.1631,531.79,161.98\" style=\"stroke: #383838; stroke-width: 1.0;\"/><text fill=\"#000000\" font-family=\"sans-serif\" font-size=\"13\" lengthAdjust=\"spacingAndGlyphs\" textLength=\"44\" x=\"280\" y=\"128.0669\">[x &gt; 1]</text></a><!--MD5=[e3d2a08a9c9236652057e8ed0cbc9b62]\n",
       "link E2 to E7--><a href=\"psysml:3c10905a-0cf4-4572-9b68-27220c544656\" target=\"_top\" title=\"psysml:3c10905a-0cf4-4572-9b68-27220c544656\" xlink:actuate=\"onRequest\" xlink:href=\"psysml:3c10905a-0cf4-4572-9b68-27220c544656\" xlink:show=\"new\" xlink:title=\"psysml:3c10905a-0cf4-4572-9b68-27220c544656\" xlink:type=\"simple\"><path d=\"M64.07,136.95 C86.88,134.47 141.79,127.95 159,121 C169.04,116.94 179.05,110.93 187.9,104.74 \" fill=\"none\" id=\"E2-&gt;E7\" style=\"stroke: #383838; stroke-width: 1.0;\"/><polygon fill=\"#383838\" points=\"192.15,101.7,182.5021,103.6794,188.0823,104.6075,187.1542,110.1877,192.15,101.7\" style=\"stroke: #383838; stroke-width: 1.0;\"/></a><!--MD5=[583832df87f4419a098336a29a52fa00]\n",
       "link E7 to E2--><a href=\"psysml:2ecae6e1-cb24-4407-809b-df9594bdb8fa\" target=\"_top\" title=\"psysml:2ecae6e1-cb24-4407-809b-df9594bdb8fa\" xlink:actuate=\"onRequest\" xlink:href=\"psysml:2ecae6e1-cb24-4407-809b-df9594bdb8fa\" xlink:show=\"new\" xlink:title=\"psysml:2ecae6e1-cb24-4407-809b-df9594bdb8fa\" xlink:type=\"simple\"><path d=\"M188.96,90.27 C153.05,102.97 93.45,124.05 67.16,133.35 \" fill=\"none\" id=\"E7-&gt;E2\" style=\"stroke: #383838; stroke-width: 1.0;\"/><polygon fill=\"#383838\" points=\"62.36,135.04,72.1793,135.8026,67.0726,133.3692,69.506,128.2625,62.36,135.04\" style=\"stroke: #383838; stroke-width: 1.0;\"/><text fill=\"#000000\" font-family=\"sans-serif\" font-size=\"13\" lengthAdjust=\"spacingAndGlyphs\" textLength=\"44\" x=\"114\" y=\"99.0669\">[x &gt; 0]</text></a><!--MD5=[2720a5a1f2c3fca2055b230370638851]\n",
       "link E2 to E3--><a href=\"psysml:4534ef33-8eda-405a-b2f5-6c95fd446375\" target=\"_top\" title=\"psysml:4534ef33-8eda-405a-b2f5-6c95fd446375\" xlink:actuate=\"onRequest\" xlink:href=\"psysml:4534ef33-8eda-405a-b2f5-6c95fd446375\" xlink:show=\"new\" xlink:title=\"psysml:4534ef33-8eda-405a-b2f5-6c95fd446375\" xlink:type=\"simple\"><path d=\"M59.16,144.21 C68.98,155.84 91.34,181.43 113,200 C144.83,227.3 186.84,254.05 206.69,266.2 \" fill=\"none\" id=\"E2-&gt;E3\" style=\"stroke: #383838; stroke-width: 1.0;\"/><polygon fill=\"#383838\" points=\"211.02,268.84,205.412,260.7437,206.749,266.2403,201.2524,267.5773,211.02,268.84\" style=\"stroke: #383838; stroke-width: 1.0;\"/></a><!--MD5=[af87c684e3b0d8be13c1a698a818ef1e]\n",
       "link E3 to E4--><a href=\"psysml:4cb33783-cb85-4624-8a6d-789ab5e27309\" target=\"_top\" title=\"psysml:4cb33783-cb85-4624-8a6d-789ab5e27309\" xlink:actuate=\"onRequest\" xlink:href=\"psysml:4cb33783-cb85-4624-8a6d-789ab5e27309\" xlink:show=\"new\" xlink:title=\"psysml:4cb33783-cb85-4624-8a6d-789ab5e27309\" xlink:type=\"simple\"><path d=\"M227.5,269.12 C244.88,260.07 289.19,236.68 325,215 C333.33,209.96 342.16,204.29 350.39,198.88 \" fill=\"none\" id=\"E3-&gt;E4\" style=\"stroke: #383838; stroke-width: 1.0;\"/><polygon fill=\"#383838\" points=\"354.88,195.91,345.1688,197.551,350.7132,198.6736,349.5905,204.2179,354.88,195.91\" style=\"stroke: #383838; stroke-width: 1.0;\"/><text fill=\"#000000\" font-family=\"sans-serif\" font-size=\"13\" lengthAdjust=\"spacingAndGlyphs\" textLength=\"36\" x=\"284\" y=\"211.0669\">[true]</text></a><!--MD5=[0188b64bb0ae78505a997a81836e11e9]\n",
       "link E3 to E5--><a href=\"psysml:7566f218-2e4c-4b1d-8134-f6de9f4cb12f\" target=\"_top\" title=\"psysml:7566f218-2e4c-4b1d-8134-f6de9f4cb12f\" xlink:actuate=\"onRequest\" xlink:href=\"psysml:7566f218-2e4c-4b1d-8134-f6de9f4cb12f\" xlink:show=\"new\" xlink:title=\"psysml:7566f218-2e4c-4b1d-8134-f6de9f4cb12f\" xlink:type=\"simple\"><path d=\"M229.88,271.49 C258.74,266.97 345.32,252.55 415,232 C454.14,220.46 497.65,203.17 526.9,190.85 \" fill=\"none\" id=\"E3-&gt;E5\" style=\"stroke: #383838; stroke-width: 1.0;\"/><polygon fill=\"#383838\" points=\"531.83,188.77,521.9831,188.576,527.2218,190.7103,525.0875,195.9491,531.83,188.77\" style=\"stroke: #383838; stroke-width: 1.0;\"/><text fill=\"#000000\" font-family=\"sans-serif\" font-size=\"13\" lengthAdjust=\"spacingAndGlyphs\" textLength=\"40\" x=\"365\" y=\"228.0669\">[false]</text></a><!--MD5=[1b7591eae5389033d8d09a9d6721a717]\n",
       "link E4 to E5--><a href=\"psysml:2ec4d8de-ba31-4f08-a58c-ce574f556666\" target=\"_top\" title=\"psysml:2ec4d8de-ba31-4f08-a58c-ce574f556666\" xlink:actuate=\"onRequest\" xlink:href=\"psysml:2ec4d8de-ba31-4f08-a58c-ce574f556666\" xlink:show=\"new\" xlink:title=\"psysml:2ec4d8de-ba31-4f08-a58c-ce574f556666\" xlink:type=\"simple\"><path d=\"M415.29,176 C446.05,176 494.36,176 526.83,176 \" fill=\"none\" id=\"E4-&gt;E5\" style=\"stroke: #383838; stroke-width: 1.0;\"/><polygon fill=\"#383838\" points=\"531.91,176,522.91,172,526.91,176,522.91,180,531.91,176\" style=\"stroke: #383838; stroke-width: 1.0;\"/><text fill=\"#000000\" font-family=\"sans-serif\" font-size=\"13\" lengthAdjust=\"spacingAndGlyphs\" textLength=\"55\" x=\"446\" y=\"172.0669\">[x == 0]</text></a><!--MD5=[c5bfc80e47f6c8a511f718b0f9cff41d]\n",
       "@startuml\r\n",
       "left to right direction\r\n",
       "skinparam monochrome true\r\n",
       "skinparam classbackgroundcolor white\r\n",
       "skinparam shadowing false\r\n",
       "skinparam wrapWidth 300\r\n",
       "hide circle\r\n",
       "\r\n",
       "rec def \"DecisionTest\" as E1  <<(T,blue) action def>> [[psysml:068a4463-a96d-4165-a2bc-cadf70a9bc09 ]] {\r\n",
       "choice \"test x\" as E2  [[psysml:44ee9e06-5fd9-46bf-b0f8-00dd693073b7 ]] \r\n",
       "choice \"noname\" as E3  [[psysml:eeb68ac4-2ad3-4e0c-9c18-140c63d1edba ]] \r\n",
       "rec usage \"A1\" as E4  <<(T,blue) action>> [[psysml:86b53981-b1ee-4c30-93d6-edfc048c3f3e ]] {\r\n",
       "}\r\n",
       "\r\n",
       "rec usage \"A2\" as E5  <<(T,blue) action>> [[psysml:38b4e12b-2856-48b1-8683-970a7e146d76 ]] {\r\n",
       "}\r\n",
       "\r\n",
       "rec usage \"A3\" as E6  <<(T,blue) action>> [[psysml:3ceea1c4-b769-4e45-b22d-b9b14232dc11 ]] {\r\n",
       "}\r\n",
       "\r\n",
       "rec usage \"A3\" as E7  <<(T,blue) action>> [[psysml:3ceea1c4-b769-4e45-b22d-b9b14232dc11 ]] {\r\n",
       "}\r\n",
       "\r\n",
       "}\r\n",
       "\r\n",
       "E2  - -> E4 [[psysml:5839aeb0-dd7d-4257-be26-6d697b84d54b ]] : [x == 1]\r\n",
       "E2  - -> E5 [[psysml:6472265e-4329-42f9-a73f-b0fdd653d81d ]] : [x > 1]\r\n",
       "E2  - -> E7 [[psysml:3c10905a-0cf4-4572-9b68-27220c544656 ]] \r\n",
       "E2 - -> E3 [[psysml:4534ef33-8eda-405a-b2f5-6c95fd446375 ]] \r\n",
       "E3  - -> E4 [[psysml:4cb33783-cb85-4624-8a6d-789ab5e27309 ]] : [true]\r\n",
       "E3  - -> E5 [[psysml:7566f218-2e4c-4b1d-8134-f6de9f4cb12f ]] : [false]\r\n",
       "E4  - -> E5 [[psysml:2ec4d8de-ba31-4f08-a58c-ce574f556666 ]] : [x == 0]\r\n",
       "E7  - -> E2 [[psysml:2ecae6e1-cb24-4407-809b-df9594bdb8fa ]] : [x > 0]\r\n",
       "@enduml\r\n",
       "\n",
       "PlantUML version 1.2020.13(Sat Jun 13 12:26:38 UTC 2020)\n",
       "(EPL source distribution)\n",
       "Java Runtime: OpenJDK Runtime Environment\n",
       "JVM: OpenJDK 64-Bit Server VM\n",
       "Default Encoding: UTF-8\n",
       "Language: en\n",
       "Country: null\n",
       "--></g></svg>"
      ]
     },
     "execution_count": 22,
     "metadata": {},
     "output_type": "execute_result"
    }
   ],
   "source": [
    "%viz --style=\"LR\" --view=\"MIXED\" \"DecisionTest\""
   ]
  },
  {
   "cell_type": "code",
   "execution_count": 23,
   "id": "94afea1f",
   "metadata": {
    "execution": {
     "iopub.execute_input": "2021-06-30T09:20:29.050082Z",
     "iopub.status.busy": "2021-06-30T09:20:29.049550Z",
     "iopub.status.idle": "2021-06-30T09:20:29.092776Z",
     "shell.execute_reply": "2021-06-30T09:20:29.092395Z"
    }
   },
   "outputs": [
    {
     "data": {
      "image/svg+xml": [
       "<?xml version=\"1.0\" encoding=\"UTF-8\" standalone=\"no\"?><svg xmlns=\"http://www.w3.org/2000/svg\" xmlns:xlink=\"http://www.w3.org/1999/xlink\" contentScriptType=\"application/ecmascript\" contentStyleType=\"text/css\" height=\"496px\" preserveAspectRatio=\"none\" style=\"width:341px;height:496px;\" version=\"1.1\" viewBox=\"0 0 341 496\" width=\"341px\" zoomAndPan=\"magnify\"><defs><filter height=\"300%\" id=\"f1u6ereqj957p4\" width=\"300%\" x=\"-1\" y=\"-1\"><feGaussianBlur result=\"blurOut\" stdDeviation=\"2.0\"/><feColorMatrix in=\"blurOut\" result=\"blurOut2\" type=\"matrix\" values=\"0 0 0 0 0 0 0 0 0 0 0 0 0 0 0 0 0 0 .4 0\"/><feOffset dx=\"4.0\" dy=\"4.0\" in=\"blurOut2\" result=\"blurOut3\"/><feBlend in=\"SourceGraphic\" in2=\"blurOut3\" mode=\"normal\"/></filter></defs><g><!--MD5=[fbc87193dbaf4d95561dea2c320d4a47]\n",
       "cluster E1--><a href=\"psysml:068a4463-a96d-4165-a2bc-cadf70a9bc09\" target=\"_top\" title=\"psysml:068a4463-a96d-4165-a2bc-cadf70a9bc09\" xlink:actuate=\"onRequest\" xlink:href=\"psysml:068a4463-a96d-4165-a2bc-cadf70a9bc09\" xlink:show=\"new\" xlink:title=\"psysml:068a4463-a96d-4165-a2bc-cadf70a9bc09\" xlink:type=\"simple\"><rect fill=\"#FFFFFF\" filter=\"url(#f1u6ereqj957p4)\" height=\"470\" id=\"E1\" style=\"stroke: #A80036; stroke-width: 1.5;\" width=\"315\" x=\"7\" y=\"7\"/><rect fill=\"#FEFECE\" height=\"37.9375\" style=\"stroke: #A80036; stroke-width: 1.5;\" width=\"315\" x=\"7\" y=\"7\"/><text fill=\"#000000\" font-family=\"sans-serif\" font-size=\"12\" font-style=\"italic\" lengthAdjust=\"spacingAndGlyphs\" textLength=\"77\" x=\"126\" y=\"23.1387\">«action def»</text><text fill=\"#000000\" font-family=\"sans-serif\" font-size=\"12\" lengthAdjust=\"spacingAndGlyphs\" textLength=\"80\" x=\"124.5\" y=\"37.1074\">DecisionTest</text></a><polygon fill=\"#FEFECE\" filter=\"url(#f1u6ereqj957p4)\" points=\"210,67.5,222,79.5,210,91.5,198,79.5,210,67.5\" style=\"stroke: #A80036; stroke-width: 1.5;\"/><polygon fill=\"#FEFECE\" filter=\"url(#f1u6ereqj957p4)\" points=\"35,187.5,47,199.5,35,211.5,23,199.5,35,187.5\" style=\"stroke: #A80036; stroke-width: 1.5;\"/><g id=\"E1.E4\"><a href=\"psysml:86b53981-b1ee-4c30-93d6-edfc048c3f3e\" target=\"_top\" title=\"psysml:86b53981-b1ee-4c30-93d6-edfc048c3f3e\" xlink:actuate=\"onRequest\" xlink:href=\"psysml:86b53981-b1ee-4c30-93d6-edfc048c3f3e\" xlink:show=\"new\" xlink:title=\"psysml:86b53981-b1ee-4c30-93d6-edfc048c3f3e\" xlink:type=\"simple\"><rect fill=\"#FEFECE\" filter=\"url(#f1u6ereqj957p4)\" height=\"42.9375\" id=\"E4\" rx=\"10\" ry=\"10\" style=\"stroke: #A80036; stroke-width: 1.5;\" width=\"60\" x=\"135\" y=\"298\"/><text fill=\"#000000\" font-family=\"sans-serif\" font-size=\"12\" font-style=\"italic\" lengthAdjust=\"spacingAndGlyphs\" textLength=\"53\" x=\"138.5\" y=\"314.1387\">«action»</text><text fill=\"#000000\" font-family=\"sans-serif\" font-size=\"12\" lengthAdjust=\"spacingAndGlyphs\" textLength=\"16\" x=\"157\" y=\"328.1074\">A1</text></a></g><g id=\"E1.E5\"><a href=\"psysml:38b4e12b-2856-48b1-8683-970a7e146d76\" target=\"_top\" title=\"psysml:38b4e12b-2856-48b1-8683-970a7e146d76\" xlink:actuate=\"onRequest\" xlink:href=\"psysml:38b4e12b-2856-48b1-8683-970a7e146d76\" xlink:show=\"new\" xlink:title=\"psysml:38b4e12b-2856-48b1-8683-970a7e146d76\" xlink:type=\"simple\"><rect fill=\"#FEFECE\" filter=\"url(#f1u6ereqj957p4)\" height=\"42.9375\" id=\"E5\" rx=\"10\" ry=\"10\" style=\"stroke: #A80036; stroke-width: 1.5;\" width=\"60\" x=\"135\" y=\"418\"/><text fill=\"#000000\" font-family=\"sans-serif\" font-size=\"12\" font-style=\"italic\" lengthAdjust=\"spacingAndGlyphs\" textLength=\"53\" x=\"138.5\" y=\"434.1387\">«action»</text><text fill=\"#000000\" font-family=\"sans-serif\" font-size=\"12\" lengthAdjust=\"spacingAndGlyphs\" textLength=\"16\" x=\"157\" y=\"448.1074\">A2</text></a></g><g id=\"E1.E6\"><a href=\"psysml:3ceea1c4-b769-4e45-b22d-b9b14232dc11\" target=\"_top\" title=\"psysml:3ceea1c4-b769-4e45-b22d-b9b14232dc11\" xlink:actuate=\"onRequest\" xlink:href=\"psysml:3ceea1c4-b769-4e45-b22d-b9b14232dc11\" xlink:show=\"new\" xlink:title=\"psysml:3ceea1c4-b769-4e45-b22d-b9b14232dc11\" xlink:type=\"simple\"><rect fill=\"#FEFECE\" filter=\"url(#f1u6ereqj957p4)\" height=\"42.9375\" id=\"E6\" rx=\"10\" ry=\"10\" style=\"stroke: #A80036; stroke-width: 1.5;\" width=\"60\" x=\"63\" y=\"58\"/><text fill=\"#000000\" font-family=\"sans-serif\" font-size=\"12\" font-style=\"italic\" lengthAdjust=\"spacingAndGlyphs\" textLength=\"53\" x=\"66.5\" y=\"74.1387\">«action»</text><text fill=\"#000000\" font-family=\"sans-serif\" font-size=\"12\" lengthAdjust=\"spacingAndGlyphs\" textLength=\"16\" x=\"85\" y=\"88.1074\">A3</text></a></g><g id=\"E1.E7\"><a href=\"psysml:3ceea1c4-b769-4e45-b22d-b9b14232dc11\" target=\"_top\" title=\"psysml:3ceea1c4-b769-4e45-b22d-b9b14232dc11\" xlink:actuate=\"onRequest\" xlink:href=\"psysml:3ceea1c4-b769-4e45-b22d-b9b14232dc11\" xlink:show=\"new\" xlink:title=\"psysml:3ceea1c4-b769-4e45-b22d-b9b14232dc11\" xlink:type=\"simple\"><rect fill=\"#FEFECE\" filter=\"url(#f1u6ereqj957p4)\" height=\"42.9375\" id=\"E7\" rx=\"10\" ry=\"10\" style=\"stroke: #A80036; stroke-width: 1.5;\" width=\"60\" x=\"246\" y=\"178\"/><text fill=\"#000000\" font-family=\"sans-serif\" font-size=\"12\" font-style=\"italic\" lengthAdjust=\"spacingAndGlyphs\" textLength=\"53\" x=\"249.5\" y=\"194.1387\">«action»</text><text fill=\"#000000\" font-family=\"sans-serif\" font-size=\"12\" lengthAdjust=\"spacingAndGlyphs\" textLength=\"16\" x=\"268\" y=\"208.1074\">A3</text></a></g><!--MD5=[4d03bb2d0377dc85ccfab60ff574652b]\n",
       "link E2 to E4--><a href=\"psysml:5839aeb0-dd7d-4257-be26-6d697b84d54b\" target=\"_top\" title=\"psysml:5839aeb0-dd7d-4257-be26-6d697b84d54b\" xlink:actuate=\"onRequest\" xlink:href=\"psysml:5839aeb0-dd7d-4257-be26-6d697b84d54b\" xlink:show=\"new\" xlink:title=\"psysml:5839aeb0-dd7d-4257-be26-6d697b84d54b\" xlink:type=\"simple\"><path d=\"M204.45,86 C190.88,99.89 156.22,138.13 144,178 C132.04,217.01 144.31,264.27 154.48,292.83 \" fill=\"none\" id=\"E2-&gt;E4\" style=\"stroke: #A80036; stroke-width: 1.0;\"/><polygon fill=\"#A80036\" points=\"156.22,297.6,156.8939,287.7742,154.5067,292.9027,149.3782,290.5155,156.22,297.6\" style=\"stroke: #A80036; stroke-width: 1.0;\"/><text fill=\"#000000\" font-family=\"sans-serif\" font-size=\"13\" lengthAdjust=\"spacingAndGlyphs\" textLength=\"55\" x=\"145\" y=\"204.0669\">[x == 1]</text></a><!--MD5=[dcad52bbbca2fe8adc741ce38b45dc12]\n",
       "link E2 to E5--><a href=\"psysml:6472265e-4329-42f9-a73f-b0fdd653d81d\" target=\"_top\" title=\"psysml:6472265e-4329-42f9-a73f-b0fdd653d81d\" xlink:actuate=\"onRequest\" xlink:href=\"psysml:6472265e-4329-42f9-a73f-b0fdd653d81d\" xlink:show=\"new\" xlink:title=\"psysml:6472265e-4329-42f9-a73f-b0fdd653d81d\" xlink:type=\"simple\"><path d=\"M210.67,90.83 C214.08,143.62 229.24,381.12 226,388 C220.27,400.19 209.98,410.45 199.48,418.47 \" fill=\"none\" id=\"E2-&gt;E5\" style=\"stroke: #A80036; stroke-width: 1.0;\"/><polygon fill=\"#A80036\" points=\"195.29,421.54,204.9073,419.4168,199.3138,418.5721,200.1586,412.9786,195.29,421.54\" style=\"stroke: #A80036; stroke-width: 1.0;\"/><text fill=\"#000000\" font-family=\"sans-serif\" font-size=\"13\" lengthAdjust=\"spacingAndGlyphs\" textLength=\"44\" x=\"222\" y=\"264.0669\">[x &gt; 1]</text></a><!--MD5=[e3d2a08a9c9236652057e8ed0cbc9b62]\n",
       "link E2 to E7--><a href=\"psysml:3c10905a-0cf4-4572-9b68-27220c544656\" target=\"_top\" title=\"psysml:3c10905a-0cf4-4572-9b68-27220c544656\" xlink:actuate=\"onRequest\" xlink:href=\"psysml:3c10905a-0cf4-4572-9b68-27220c544656\" xlink:show=\"new\" xlink:title=\"psysml:3c10905a-0cf4-4572-9b68-27220c544656\" xlink:type=\"simple\"><path d=\"M210.1,91.71 C210.67,105.71 213.16,129.99 223,148 C228.29,157.68 236.08,166.6 244.08,174.17 \" fill=\"none\" id=\"E2-&gt;E7\" style=\"stroke: #A80036; stroke-width: 1.0;\"/><polygon fill=\"#A80036\" points=\"248.01,177.77,244.069,168.744,244.3207,174.3953,238.6694,174.6469,248.01,177.77\" style=\"stroke: #A80036; stroke-width: 1.0;\"/></a><!--MD5=[583832df87f4419a098336a29a52fa00]\n",
       "link E7 to E2--><a href=\"psysml:2ecae6e1-cb24-4407-809b-df9594bdb8fa\" target=\"_top\" title=\"psysml:2ecae6e1-cb24-4407-809b-df9594bdb8fa\" xlink:actuate=\"onRequest\" xlink:href=\"psysml:2ecae6e1-cb24-4407-809b-df9594bdb8fa\" xlink:show=\"new\" xlink:title=\"psysml:2ecae6e1-cb24-4407-809b-df9594bdb8fa\" xlink:type=\"simple\"><path d=\"M264.3,177.59 C250.41,152.74 227.7,112.15 216.57,92.25 \" fill=\"none\" id=\"E7-&gt;E2\" style=\"stroke: #A80036; stroke-width: 1.0;\"/><polygon fill=\"#A80036\" points=\"214.13,87.88,215.0286,97.6878,216.5691,92.2447,222.0122,93.7852,214.13,87.88\" style=\"stroke: #A80036; stroke-width: 1.0;\"/><text fill=\"#000000\" font-family=\"sans-serif\" font-size=\"13\" lengthAdjust=\"spacingAndGlyphs\" textLength=\"44\" x=\"247\" y=\"144.0669\">[x &gt; 0]</text></a><!--MD5=[2720a5a1f2c3fca2055b230370638851]\n",
       "link E2 to E3--><a href=\"psysml:4534ef33-8eda-405a-b2f5-6c95fd446375\" target=\"_top\" title=\"psysml:4534ef33-8eda-405a-b2f5-6c95fd446375\" xlink:actuate=\"onRequest\" xlink:href=\"psysml:4534ef33-8eda-405a-b2f5-6c95fd446375\" xlink:show=\"new\" xlink:title=\"psysml:4534ef33-8eda-405a-b2f5-6c95fd446375\" xlink:type=\"simple\"><path d=\"M201.9,83.58 C184.06,90.55 140.39,108.7 108,131 C82.49,148.57 56.88,174.67 43.84,188.71 \" fill=\"none\" id=\"E2-&gt;E3\" style=\"stroke: #A80036; stroke-width: 1.0;\"/><polygon fill=\"#A80036\" points=\"40.21,192.66,49.2443,188.738,43.5925,188.9778,43.3527,183.326,40.21,192.66\" style=\"stroke: #A80036; stroke-width: 1.0;\"/></a><!--MD5=[af87c684e3b0d8be13c1a698a818ef1e]\n",
       "link E3 to E4--><a href=\"psysml:4cb33783-cb85-4624-8a6d-789ab5e27309\" target=\"_top\" title=\"psysml:4cb33783-cb85-4624-8a6d-789ab5e27309\" xlink:actuate=\"onRequest\" xlink:href=\"psysml:4cb33783-cb85-4624-8a6d-789ab5e27309\" xlink:show=\"new\" xlink:title=\"psysml:4cb33783-cb85-4624-8a6d-789ab5e27309\" xlink:type=\"simple\"><path d=\"M39.08,207.91 C46.63,221.15 63.87,249.24 84,268 C97.73,280.8 115.17,292.16 130.35,300.85 \" fill=\"none\" id=\"E3-&gt;E4\" style=\"stroke: #A80036; stroke-width: 1.0;\"/><polygon fill=\"#A80036\" points=\"134.98,303.46,129.0858,295.5696,130.6187,301.0148,125.1735,302.5477,134.98,303.46\" style=\"stroke: #A80036; stroke-width: 1.0;\"/><text fill=\"#000000\" font-family=\"sans-serif\" font-size=\"13\" lengthAdjust=\"spacingAndGlyphs\" textLength=\"36\" x=\"85\" y=\"264.0669\">[true]</text></a><!--MD5=[0188b64bb0ae78505a997a81836e11e9]\n",
       "link E3 to E5--><a href=\"psysml:7566f218-2e4c-4b1d-8134-f6de9f4cb12f\" target=\"_top\" title=\"psysml:7566f218-2e4c-4b1d-8134-f6de9f4cb12f\" xlink:actuate=\"onRequest\" xlink:href=\"psysml:7566f218-2e4c-4b1d-8134-f6de9f4cb12f\" xlink:show=\"new\" xlink:title=\"psysml:7566f218-2e4c-4b1d-8134-f6de9f4cb12f\" xlink:type=\"simple\"><path d=\"M36.3,210.29 C39.76,234.03 50.73,296.03 76,341 C91.89,369.29 117.42,396.1 137.07,414.43 \" fill=\"none\" id=\"E3-&gt;E5\" style=\"stroke: #A80036; stroke-width: 1.0;\"/><polygon fill=\"#A80036\" points=\"140.92,417.98,137.0155,408.9382,137.2443,414.5904,131.5921,414.8192,140.92,417.98\" style=\"stroke: #A80036; stroke-width: 1.0;\"/><text fill=\"#000000\" font-family=\"sans-serif\" font-size=\"13\" lengthAdjust=\"spacingAndGlyphs\" textLength=\"40\" x=\"77\" y=\"324.0669\">[false]</text></a><!--MD5=[1b7591eae5389033d8d09a9d6721a717]\n",
       "link E4 to E5--><a href=\"psysml:2ec4d8de-ba31-4f08-a58c-ce574f556666\" target=\"_top\" title=\"psysml:2ec4d8de-ba31-4f08-a58c-ce574f556666\" xlink:actuate=\"onRequest\" xlink:href=\"psysml:2ec4d8de-ba31-4f08-a58c-ce574f556666\" xlink:show=\"new\" xlink:title=\"psysml:2ec4d8de-ba31-4f08-a58c-ce574f556666\" xlink:type=\"simple\"><path d=\"M165,341.05 C165,360.9 165,391.02 165,412.52 \" fill=\"none\" id=\"E4-&gt;E5\" style=\"stroke: #A80036; stroke-width: 1.0;\"/><polygon fill=\"#A80036\" points=\"165,417.79,169,408.79,165,412.79,161,408.79,165,417.79\" style=\"stroke: #A80036; stroke-width: 1.0;\"/><text fill=\"#000000\" font-family=\"sans-serif\" font-size=\"13\" lengthAdjust=\"spacingAndGlyphs\" textLength=\"55\" x=\"166\" y=\"384.0669\">[x == 0]</text></a><!--MD5=[8edddc77450442f9a1f30f3df8977c49]\n",
       "@startuml\r\n",
       "skinparam wrapWidth 300\r\n",
       "hide circle\r\n",
       "\r\n",
       "rec def \"DecisionTest\" as E1  <<(T,blue) action def>> [[psysml:068a4463-a96d-4165-a2bc-cadf70a9bc09 ]] {\r\n",
       "choice \"test x\" as E2  [[psysml:44ee9e06-5fd9-46bf-b0f8-00dd693073b7 ]] \r\n",
       "choice \"noname\" as E3  [[psysml:eeb68ac4-2ad3-4e0c-9c18-140c63d1edba ]] \r\n",
       "rec usage \"A1\" as E4  <<(T,blue) action>> [[psysml:86b53981-b1ee-4c30-93d6-edfc048c3f3e ]] {\r\n",
       "}\r\n",
       "\r\n",
       "rec usage \"A2\" as E5  <<(T,blue) action>> [[psysml:38b4e12b-2856-48b1-8683-970a7e146d76 ]] {\r\n",
       "}\r\n",
       "\r\n",
       "rec usage \"A3\" as E6  <<(T,blue) action>> [[psysml:3ceea1c4-b769-4e45-b22d-b9b14232dc11 ]] {\r\n",
       "}\r\n",
       "\r\n",
       "rec usage \"A3\" as E7  <<(T,blue) action>> [[psysml:3ceea1c4-b769-4e45-b22d-b9b14232dc11 ]] {\r\n",
       "}\r\n",
       "\r\n",
       "}\r\n",
       "\r\n",
       "E2  - -> E4 [[psysml:5839aeb0-dd7d-4257-be26-6d697b84d54b ]] : [x == 1]\r\n",
       "E2  - -> E5 [[psysml:6472265e-4329-42f9-a73f-b0fdd653d81d ]] : [x > 1]\r\n",
       "E2  - -> E7 [[psysml:3c10905a-0cf4-4572-9b68-27220c544656 ]] \r\n",
       "E2 - -> E3 [[psysml:4534ef33-8eda-405a-b2f5-6c95fd446375 ]] \r\n",
       "E3  - -> E4 [[psysml:4cb33783-cb85-4624-8a6d-789ab5e27309 ]] : [true]\r\n",
       "E3  - -> E5 [[psysml:7566f218-2e4c-4b1d-8134-f6de9f4cb12f ]] : [false]\r\n",
       "E4  - -> E5 [[psysml:2ec4d8de-ba31-4f08-a58c-ce574f556666 ]] : [x == 0]\r\n",
       "E7  - -> E2 [[psysml:2ecae6e1-cb24-4407-809b-df9594bdb8fa ]] : [x > 0]\r\n",
       "@enduml\r\n",
       "\n",
       "PlantUML version 1.2020.13(Sat Jun 13 12:26:38 UTC 2020)\n",
       "(EPL source distribution)\n",
       "Java Runtime: OpenJDK Runtime Environment\n",
       "JVM: OpenJDK 64-Bit Server VM\n",
       "Default Encoding: UTF-8\n",
       "Language: en\n",
       "Country: null\n",
       "--></g></svg>"
      ]
     },
     "execution_count": 23,
     "metadata": {},
     "output_type": "execute_result"
    }
   ],
   "source": [
    "%viz --style=\"STDCOLOR\" --view=\"Default\" \"DecisionTest\""
   ]
  },
  {
   "cell_type": "code",
   "execution_count": 24,
   "id": "ac807867",
   "metadata": {
    "execution": {
     "iopub.execute_input": "2021-06-30T09:20:29.145394Z",
     "iopub.status.busy": "2021-06-30T09:20:29.144270Z",
     "iopub.status.idle": "2021-06-30T09:20:29.218534Z",
     "shell.execute_reply": "2021-06-30T09:20:29.216152Z"
    }
   },
   "outputs": [
    {
     "data": {
      "image/svg+xml": [
       "<?xml version=\"1.0\" encoding=\"UTF-8\" standalone=\"no\"?><svg xmlns=\"http://www.w3.org/2000/svg\" xmlns:xlink=\"http://www.w3.org/1999/xlink\" contentScriptType=\"application/ecmascript\" contentStyleType=\"text/css\" height=\"219px\" preserveAspectRatio=\"none\" style=\"width:533px;height:219px;\" version=\"1.1\" viewBox=\"0 0 533 219\" width=\"533px\" zoomAndPan=\"magnify\"><defs><filter height=\"300%\" id=\"f1u8drp1fkd3ls\" width=\"300%\" x=\"-1\" y=\"-1\"><feGaussianBlur result=\"blurOut\" stdDeviation=\"2.0\"/><feColorMatrix in=\"blurOut\" result=\"blurOut2\" type=\"matrix\" values=\"0 0 0 0 0 0 0 0 0 0 0 0 0 0 0 0 0 0 .4 0\"/><feOffset dx=\"4.0\" dy=\"4.0\" in=\"blurOut2\" result=\"blurOut3\"/><feBlend in=\"SourceGraphic\" in2=\"blurOut3\" mode=\"normal\"/></filter></defs><g><!--MD5=[43c9051892ef23e1a46a86907403d788]\n",
       "class E1--><a href=\"psysml:068a4463-a96d-4165-a2bc-cadf70a9bc09\" target=\"_top\" title=\"psysml:068a4463-a96d-4165-a2bc-cadf70a9bc09\" xlink:actuate=\"onRequest\" xlink:href=\"psysml:068a4463-a96d-4165-a2bc-cadf70a9bc09\" xlink:show=\"new\" xlink:title=\"psysml:068a4463-a96d-4165-a2bc-cadf70a9bc09\" xlink:type=\"simple\"><rect fill=\"#FEFECE\" filter=\"url(#f1u8drp1fkd3ls)\" height=\"88.3516\" id=\"E1\" style=\"stroke: #A80036; stroke-width: 1.5;\" width=\"86\" x=\"308.5\" y=\"7\"/><text fill=\"#000000\" font-family=\"sans-serif\" font-size=\"12\" font-style=\"italic\" lengthAdjust=\"spacingAndGlyphs\" textLength=\"77\" x=\"313\" y=\"23.1387\">«action def»</text><text fill=\"#000000\" font-family=\"sans-serif\" font-size=\"12\" lengthAdjust=\"spacingAndGlyphs\" textLength=\"80\" x=\"311.5\" y=\"37.1074\">DecisionTest</text><line style=\"stroke: #A80036; stroke-width: 1.5;\" x1=\"309.5\" x2=\"393.5\" y1=\"44.9375\" y2=\"44.9375\"/><text fill=\"#000000\" font-family=\"sans-serif\" font-size=\"11\" lengthAdjust=\"spacingAndGlyphs\" textLength=\"26\" x=\"314.5\" y=\"59.1479\">x=1;</text><text fill=\"#000000\" font-family=\"sans-serif\" font-size=\"11\" lengthAdjust=\"spacingAndGlyphs\" textLength=\"8\" x=\"314.5\" y=\"88.7573\">S</text><line style=\"stroke: #A80036; stroke-width: 1.0;\" x1=\"309.5\" x2=\"321\" y1=\"72.1445\" y2=\"72.1445\"/><text fill=\"#000000\" font-family=\"sans-serif\" font-size=\"11\" lengthAdjust=\"spacingAndGlyphs\" textLength=\"61\" x=\"321\" y=\"75.4526\">transitions</text><line style=\"stroke: #A80036; stroke-width: 1.0;\" x1=\"382\" x2=\"393.5\" y1=\"72.1445\" y2=\"72.1445\"/></a><!--MD5=[b4997ac47864f28c2f74865a473b2911]\n",
       "class E2--><a href=\"psysml:44ee9e06-5fd9-46bf-b0f8-00dd693073b7\" target=\"_top\" title=\"psysml:44ee9e06-5fd9-46bf-b0f8-00dd693073b7\" xlink:actuate=\"onRequest\" xlink:href=\"psysml:44ee9e06-5fd9-46bf-b0f8-00dd693073b7\" xlink:show=\"new\" xlink:title=\"psysml:44ee9e06-5fd9-46bf-b0f8-00dd693073b7\" xlink:type=\"simple\"><rect fill=\"#FEFECE\" filter=\"url(#f1u8drp1fkd3ls)\" height=\"45.9375\" id=\"E2\" rx=\"10\" ry=\"10\" style=\"stroke: #A80036; stroke-width: 1.5;\" width=\"101\" x=\"7\" y=\"155\"/><text fill=\"#000000\" font-family=\"sans-serif\" font-size=\"12\" font-style=\"italic\" lengthAdjust=\"spacingAndGlyphs\" textLength=\"99\" x=\"8\" y=\"171.1387\">«decisionNode»</text><text fill=\"#000000\" font-family=\"sans-serif\" font-size=\"12\" lengthAdjust=\"spacingAndGlyphs\" textLength=\"35\" x=\"40\" y=\"185.1074\">test x</text><line style=\"stroke: #A80036; stroke-width: 1.5;\" x1=\"8\" x2=\"107\" y1=\"192.9375\" y2=\"192.9375\"/></a><!--MD5=[09b614a08d8cba4a07c9adeb5e0fee81]\n",
       "class E3--><a href=\"psysml:eeb68ac4-2ad3-4e0c-9c18-140c63d1edba\" target=\"_top\" title=\"psysml:eeb68ac4-2ad3-4e0c-9c18-140c63d1edba\" xlink:actuate=\"onRequest\" xlink:href=\"psysml:eeb68ac4-2ad3-4e0c-9c18-140c63d1edba\" xlink:show=\"new\" xlink:title=\"psysml:eeb68ac4-2ad3-4e0c-9c18-140c63d1edba\" xlink:type=\"simple\"><rect fill=\"#FEFECE\" filter=\"url(#f1u8drp1fkd3ls)\" height=\"45.9375\" id=\"E3\" rx=\"10\" ry=\"10\" style=\"stroke: #A80036; stroke-width: 1.5;\" width=\"101\" x=\"143\" y=\"155\"/><text fill=\"#000000\" font-family=\"sans-serif\" font-size=\"12\" font-style=\"italic\" lengthAdjust=\"spacingAndGlyphs\" textLength=\"99\" x=\"144\" y=\"171.1387\">«decisionNode»</text><text fill=\"#000000\" font-family=\"sans-serif\" font-size=\"12\" lengthAdjust=\"spacingAndGlyphs\" text-decoration=\"line-through\" textLength=\"51\" x=\"168\" y=\"185.1074\">noname</text><line style=\"stroke: #A80036; stroke-width: 1.5;\" x1=\"144\" x2=\"243\" y1=\"192.9375\" y2=\"192.9375\"/></a><!--MD5=[ebbe1d658d1005bcc118a6aa81145e00]\n",
       "class E4--><a href=\"psysml:86b53981-b1ee-4c30-93d6-edfc048c3f3e\" target=\"_top\" title=\"psysml:86b53981-b1ee-4c30-93d6-edfc048c3f3e\" xlink:actuate=\"onRequest\" xlink:href=\"psysml:86b53981-b1ee-4c30-93d6-edfc048c3f3e\" xlink:show=\"new\" xlink:title=\"psysml:86b53981-b1ee-4c30-93d6-edfc048c3f3e\" xlink:type=\"simple\"><rect fill=\"#FEFECE\" filter=\"url(#f1u8drp1fkd3ls)\" height=\"45.9375\" id=\"E4\" rx=\"10\" ry=\"10\" style=\"stroke: #A80036; stroke-width: 1.5;\" width=\"55\" x=\"279\" y=\"155\"/><text fill=\"#000000\" font-family=\"sans-serif\" font-size=\"12\" font-style=\"italic\" lengthAdjust=\"spacingAndGlyphs\" textLength=\"53\" x=\"280\" y=\"171.1387\">«action»</text><text fill=\"#000000\" font-family=\"sans-serif\" font-size=\"12\" lengthAdjust=\"spacingAndGlyphs\" textLength=\"16\" x=\"298.5\" y=\"185.1074\">A1</text><line style=\"stroke: #A80036; stroke-width: 1.5;\" x1=\"280\" x2=\"333\" y1=\"192.9375\" y2=\"192.9375\"/></a><!--MD5=[270fce915f116d4de14055a7c1d9a0f3]\n",
       "class E5--><a href=\"psysml:38b4e12b-2856-48b1-8683-970a7e146d76\" target=\"_top\" title=\"psysml:38b4e12b-2856-48b1-8683-970a7e146d76\" xlink:actuate=\"onRequest\" xlink:href=\"psysml:38b4e12b-2856-48b1-8683-970a7e146d76\" xlink:show=\"new\" xlink:title=\"psysml:38b4e12b-2856-48b1-8683-970a7e146d76\" xlink:type=\"simple\"><rect fill=\"#FEFECE\" filter=\"url(#f1u8drp1fkd3ls)\" height=\"45.9375\" id=\"E5\" rx=\"10\" ry=\"10\" style=\"stroke: #A80036; stroke-width: 1.5;\" width=\"55\" x=\"369\" y=\"155\"/><text fill=\"#000000\" font-family=\"sans-serif\" font-size=\"12\" font-style=\"italic\" lengthAdjust=\"spacingAndGlyphs\" textLength=\"53\" x=\"370\" y=\"171.1387\">«action»</text><text fill=\"#000000\" font-family=\"sans-serif\" font-size=\"12\" lengthAdjust=\"spacingAndGlyphs\" textLength=\"16\" x=\"388.5\" y=\"185.1074\">A2</text><line style=\"stroke: #A80036; stroke-width: 1.5;\" x1=\"370\" x2=\"423\" y1=\"192.9375\" y2=\"192.9375\"/></a><!--MD5=[60a26617385b1d2d0262a64233df1f8d]\n",
       "class E6--><a href=\"psysml:3ceea1c4-b769-4e45-b22d-b9b14232dc11\" target=\"_top\" title=\"psysml:3ceea1c4-b769-4e45-b22d-b9b14232dc11\" xlink:actuate=\"onRequest\" xlink:href=\"psysml:3ceea1c4-b769-4e45-b22d-b9b14232dc11\" xlink:show=\"new\" xlink:title=\"psysml:3ceea1c4-b769-4e45-b22d-b9b14232dc11\" xlink:type=\"simple\"><rect fill=\"#FEFECE\" filter=\"url(#f1u8drp1fkd3ls)\" height=\"45.9375\" id=\"E6\" rx=\"10\" ry=\"10\" style=\"stroke: #A80036; stroke-width: 1.5;\" width=\"55\" x=\"459\" y=\"155\"/><text fill=\"#000000\" font-family=\"sans-serif\" font-size=\"12\" font-style=\"italic\" lengthAdjust=\"spacingAndGlyphs\" textLength=\"53\" x=\"460\" y=\"171.1387\">«action»</text><text fill=\"#000000\" font-family=\"sans-serif\" font-size=\"12\" lengthAdjust=\"spacingAndGlyphs\" textLength=\"16\" x=\"478.5\" y=\"185.1074\">A3</text><line style=\"stroke: #A80036; stroke-width: 1.5;\" x1=\"460\" x2=\"513\" y1=\"192.9375\" y2=\"192.9375\"/></a><!--MD5=[a523cb2a0b79ecf9065ad8783f96c320]\n",
       "reverse link E1 to E2--><a href=\"psysml:3f40863b-0a66-456a-a380-cfd414bf0804\" target=\"_top\" title=\"psysml:3f40863b-0a66-456a-a380-cfd414bf0804\" xlink:actuate=\"onRequest\" xlink:href=\"psysml:3f40863b-0a66-456a-a380-cfd414bf0804\" xlink:show=\"new\" xlink:title=\"psysml:3f40863b-0a66-456a-a380-cfd414bf0804\" xlink:type=\"simple\"><path d=\"M296.33,75.46 C242.25,98.45 160.52,133.2 108.08,155.49 \" fill=\"none\" id=\"E1&lt;-E2\" style=\"stroke: #A80036; stroke-width: 1.0;\"/><polygon fill=\"#A80036\" points=\"308.44,70.31,301.3531,68.9775,297.3973,75.0068,304.4843,76.3393,308.44,70.31\" style=\"stroke: #A80036; stroke-width: 1.0;\"/></a><!--MD5=[5d7b3810b1dd9b5164bea1151b29b665]\n",
       "reverse link E1 to E3--><a href=\"psysml:e2578a6b-d48b-4dd6-b58c-18f093f1f29f\" target=\"_top\" title=\"psysml:e2578a6b-d48b-4dd6-b58c-18f093f1f29f\" xlink:actuate=\"onRequest\" xlink:href=\"psysml:e2578a6b-d48b-4dd6-b58c-18f093f1f29f\" xlink:show=\"new\" xlink:title=\"psysml:e2578a6b-d48b-4dd6-b58c-18f093f1f29f\" xlink:type=\"simple\"><path d=\"M298.01,94.32 C272.42,114.56 242.83,137.98 221.68,154.71 \" fill=\"none\" id=\"E1&lt;-E3\" style=\"stroke: #A80036; stroke-width: 1.0;\"/><polygon fill=\"#A80036\" points=\"308.33,86.16,301.1423,86.7403,298.9134,93.5983,306.1011,93.018,308.33,86.16\" style=\"stroke: #A80036; stroke-width: 1.0;\"/></a><!--MD5=[f2c5c03aa1e8c0ba21c10a05e6444b8e]\n",
       "reverse link E1 to E4--><a href=\"psysml:7583b8d6-81fb-44fd-88ce-ec05d2d7f8f3\" target=\"_top\" title=\"psysml:7583b8d6-81fb-44fd-88ce-ec05d2d7f8f3\" xlink:actuate=\"onRequest\" xlink:href=\"psysml:7583b8d6-81fb-44fd-88ce-ec05d2d7f8f3\" xlink:show=\"new\" xlink:title=\"psysml:7583b8d6-81fb-44fd-88ce-ec05d2d7f8f3\" xlink:type=\"simple\"><path d=\"M331.48,107.62 C325.45,124.37 319.17,141.79 314.42,154.99 \" fill=\"none\" id=\"E1&lt;-E4\" style=\"stroke: #A80036; stroke-width: 1.0;\"/><polygon fill=\"#A80036\" points=\"336.01,95.02,330.2148,99.3114,331.9472,106.3113,337.7424,102.0199,336.01,95.02\" style=\"stroke: #A80036; stroke-width: 1.0;\"/></a><!--MD5=[33238bef88d6431a141d8bc8fb12bca0]\n",
       "reverse link E1 to E5--><a href=\"psysml:1b62ef88-94e5-4ba0-8e17-6cec1f6133af\" target=\"_top\" title=\"psysml:1b62ef88-94e5-4ba0-8e17-6cec1f6133af\" xlink:actuate=\"onRequest\" xlink:href=\"psysml:1b62ef88-94e5-4ba0-8e17-6cec1f6133af\" xlink:show=\"new\" xlink:title=\"psysml:1b62ef88-94e5-4ba0-8e17-6cec1f6133af\" xlink:type=\"simple\"><path d=\"M371.52,107.62 C377.55,124.37 383.83,141.79 388.58,154.99 \" fill=\"none\" id=\"E1&lt;-E5\" style=\"stroke: #A80036; stroke-width: 1.0;\"/><polygon fill=\"#A80036\" points=\"366.99,95.02,365.2576,102.0199,371.0528,106.3113,372.7852,99.3114,366.99,95.02\" style=\"stroke: #A80036; stroke-width: 1.0;\"/></a><!--MD5=[aca2ef284c2b1b90e17e73bf3f292c07]\n",
       "reverse link E1 to E6--><a href=\"psysml:6d478a35-76b8-45be-be82-2204dec34e47\" target=\"_top\" title=\"psysml:6d478a35-76b8-45be-be82-2204dec34e47\" xlink:actuate=\"onRequest\" xlink:href=\"psysml:6d478a35-76b8-45be-be82-2204dec34e47\" xlink:show=\"new\" xlink:title=\"psysml:6d478a35-76b8-45be-be82-2204dec34e47\" xlink:type=\"simple\"><path d=\"M395.37,104.28 C416.15,124.08 440.2,145.28 458.62,159.65 \" fill=\"none\" id=\"E1&lt;-E6\" style=\"stroke: #A80036; stroke-width: 1.0;\"/><polygon fill=\"#A80036\" points=\"385.78,95.02,387.315,102.0658,394.4092,103.3589,392.8742,96.3131,385.78,95.02\" style=\"stroke: #A80036; stroke-width: 1.0;\"/></a><!--MD5=[aca2ef284c2b1b90e17e73bf3f292c07]\n",
       "reverse link E1 to E6--><a href=\"psysml:637c00ed-dc37-460b-98af-77d0acff244f\" target=\"_top\" title=\"psysml:637c00ed-dc37-460b-98af-77d0acff244f\" xlink:actuate=\"onRequest\" xlink:href=\"psysml:637c00ed-dc37-460b-98af-77d0acff244f\" xlink:show=\"new\" xlink:title=\"psysml:637c00ed-dc37-460b-98af-77d0acff244f\" xlink:type=\"simple\"><path d=\"M404.85,89.81 C429.61,111.09 456.86,136.91 473.23,154.91 \" fill=\"none\" id=\"E1&lt;-E6-1\" style=\"stroke: #A80036; stroke-width: 1.0;\"/><polygon fill=\"#FFFFFF\" points=\"394.79,81.31,396.787,88.2391,403.9511,89.0607,401.9541,82.1316,394.79,81.31\" style=\"stroke: #A80036; stroke-width: 1.0;\"/></a><!--MD5=[0965d8bc0ff9119b87533f75aa8d2e69]\n",
       "@startuml\r\n",
       "skinparam wrapWidth 300\r\n",
       "hide circle\r\n",
       "\r\n",
       "comp def \"DecisionTest\" as E1  <<(T,blue) action def>> [[psysml:068a4463-a96d-4165-a2bc-cadf70a9bc09 ]] {\r\n",
       "x=1; \r\n",
       "- - transitions - -\r\n",
       "S\r\n",
       "}\r\n",
       "comp usage \"test x\" as E2  <<(T,blue) decisionNode>> [[psysml:44ee9e06-5fd9-46bf-b0f8-00dd693073b7 ]] {\r\n",
       "}\r\n",
       "comp usage \"<s>noname</s>\" as E3  <<(T,blue) decisionNode>> [[psysml:eeb68ac4-2ad3-4e0c-9c18-140c63d1edba ]] {\r\n",
       "}\r\n",
       "comp usage \"A1\" as E4  <<(T,blue) action>> [[psysml:86b53981-b1ee-4c30-93d6-edfc048c3f3e ]] {\r\n",
       "}\r\n",
       "comp usage \"A2\" as E5  <<(T,blue) action>> [[psysml:38b4e12b-2856-48b1-8683-970a7e146d76 ]] {\r\n",
       "}\r\n",
       "comp usage \"A3\" as E6  <<(T,blue) action>> [[psysml:3ceea1c4-b769-4e45-b22d-b9b14232dc11 ]] {\r\n",
       "}\r\n",
       "E1 *- - E2 [[psysml:3f40863b-0a66-456a-a380-cfd414bf0804 ]] \r\n",
       "E1 *- - E3 [[psysml:e2578a6b-d48b-4dd6-b58c-18f093f1f29f ]] \r\n",
       "E1 *- - E4 [[psysml:7583b8d6-81fb-44fd-88ce-ec05d2d7f8f3 ]] \r\n",
       "E1 *- - E5 [[psysml:1b62ef88-94e5-4ba0-8e17-6cec1f6133af ]] \r\n",
       "E1 *- - E6 [[psysml:6d478a35-76b8-45be-be82-2204dec34e47 ]] \r\n",
       "E1 o- - E6 [[psysml:637c00ed-dc37-460b-98af-77d0acff244f ]] \r\n",
       "@enduml\r\n",
       "\n",
       "PlantUML version 1.2020.13(Sat Jun 13 12:26:38 UTC 2020)\n",
       "(EPL source distribution)\n",
       "Java Runtime: OpenJDK Runtime Environment\n",
       "JVM: OpenJDK 64-Bit Server VM\n",
       "Default Encoding: UTF-8\n",
       "Language: en\n",
       "Country: null\n",
       "--></g></svg>"
      ]
     },
     "execution_count": 24,
     "metadata": {},
     "output_type": "execute_result"
    }
   ],
   "source": [
    "%viz --style=\"STDCOLOR\" --view=\"Tree\" \"DecisionTest\""
   ]
  },
  {
   "cell_type": "code",
   "execution_count": 25,
   "id": "cedf0d0d",
   "metadata": {
    "execution": {
     "iopub.execute_input": "2021-06-30T09:20:29.267916Z",
     "iopub.status.busy": "2021-06-30T09:20:29.267435Z",
     "iopub.status.idle": "2021-06-30T09:20:29.272520Z",
     "shell.execute_reply": "2021-06-30T09:20:29.272122Z"
    }
   },
   "outputs": [
    {
     "data": {
      "image/svg+xml": [
       "<?xml version=\"1.0\" encoding=\"UTF-8\" standalone=\"no\"?><svg xmlns=\"http://www.w3.org/2000/svg\" xmlns:xlink=\"http://www.w3.org/1999/xlink\" contentScriptType=\"application/ecmascript\" contentStyleType=\"text/css\" height=\"12px\" preserveAspectRatio=\"none\" style=\"width:12px;height:12px;\" version=\"1.1\" viewBox=\"0 0 12 12\" width=\"12px\" zoomAndPan=\"magnify\"><defs/><g><!--MD5=[aeeef50f102b80d730deb6443d14f702]\n",
       "@startuml\r\n",
       "skinparam wrapWidth 300\r\n",
       "hide circle\r\n",
       "\r\n",
       "@enduml\r\n",
       "\n",
       "PlantUML version 1.2020.13(Sat Jun 13 12:26:38 UTC 2020)\n",
       "(EPL source distribution)\n",
       "Java Runtime: OpenJDK Runtime Environment\n",
       "JVM: OpenJDK 64-Bit Server VM\n",
       "Default Encoding: UTF-8\n",
       "Language: en\n",
       "Country: null\n",
       "--></g></svg>"
      ]
     },
     "execution_count": 25,
     "metadata": {},
     "output_type": "execute_result"
    }
   ],
   "source": [
    "%viz --style=\"STDCOLOR\" --view=\"State\" \"DecisionTest\""
   ]
  },
  {
   "cell_type": "code",
   "execution_count": 26,
   "id": "8069337c",
   "metadata": {
    "execution": {
     "iopub.execute_input": "2021-06-30T09:20:29.325319Z",
     "iopub.status.busy": "2021-06-30T09:20:29.324767Z",
     "iopub.status.idle": "2021-06-30T09:20:29.363010Z",
     "shell.execute_reply": "2021-06-30T09:20:29.361448Z"
    }
   },
   "outputs": [
    {
     "data": {
      "image/svg+xml": [
       "<?xml version=\"1.0\" encoding=\"UTF-8\" standalone=\"no\"?><svg xmlns=\"http://www.w3.org/2000/svg\" xmlns:xlink=\"http://www.w3.org/1999/xlink\" contentScriptType=\"application/ecmascript\" contentStyleType=\"text/css\" height=\"364px\" preserveAspectRatio=\"none\" style=\"width:341px;height:364px;\" version=\"1.1\" viewBox=\"0 0 341 364\" width=\"341px\" zoomAndPan=\"magnify\"><defs><filter height=\"300%\" id=\"f8w2mlcz7kjfh\" width=\"300%\" x=\"-1\" y=\"-1\"><feGaussianBlur result=\"blurOut\" stdDeviation=\"2.0\"/><feColorMatrix in=\"blurOut\" result=\"blurOut2\" type=\"matrix\" values=\"0 0 0 0 0 0 0 0 0 0 0 0 0 0 0 0 0 0 .4 0\"/><feOffset dx=\"4.0\" dy=\"4.0\" in=\"blurOut2\" result=\"blurOut3\"/><feBlend in=\"SourceGraphic\" in2=\"blurOut3\" mode=\"normal\"/></filter></defs><g><!--MD5=[fbc87193dbaf4d95561dea2c320d4a47]\n",
       "cluster E1--><a href=\"psysml:068a4463-a96d-4165-a2bc-cadf70a9bc09\" target=\"_top\" title=\"psysml:068a4463-a96d-4165-a2bc-cadf70a9bc09\" xlink:actuate=\"onRequest\" xlink:href=\"psysml:068a4463-a96d-4165-a2bc-cadf70a9bc09\" xlink:show=\"new\" xlink:title=\"psysml:068a4463-a96d-4165-a2bc-cadf70a9bc09\" xlink:type=\"simple\"><rect fill=\"#FFFFFF\" filter=\"url(#f8w2mlcz7kjfh)\" height=\"338\" id=\"E1\" style=\"stroke: #A80036; stroke-width: 1.5;\" width=\"315\" x=\"7\" y=\"7\"/><rect fill=\"#FEFECE\" height=\"37.9375\" style=\"stroke: #A80036; stroke-width: 1.5;\" width=\"315\" x=\"7\" y=\"7\"/><text fill=\"#000000\" font-family=\"sans-serif\" font-size=\"12\" font-style=\"italic\" lengthAdjust=\"spacingAndGlyphs\" textLength=\"77\" x=\"126\" y=\"23.1387\">«action def»</text><text fill=\"#000000\" font-family=\"sans-serif\" font-size=\"12\" lengthAdjust=\"spacingAndGlyphs\" textLength=\"80\" x=\"124.5\" y=\"37.1074\">DecisionTest</text></a><polygon fill=\"#FEFECE\" filter=\"url(#f8w2mlcz7kjfh)\" points=\"210,67.5,222,79.5,210,91.5,198,79.5,210,67.5\" style=\"stroke: #A80036; stroke-width: 1.5;\"/><polygon fill=\"#FEFECE\" filter=\"url(#f8w2mlcz7kjfh)\" points=\"35,143.5,47,155.5,35,167.5,23,155.5,35,143.5\" style=\"stroke: #A80036; stroke-width: 1.5;\"/><g id=\"E1.E4\"><a href=\"psysml:86b53981-b1ee-4c30-93d6-edfc048c3f3e\" target=\"_top\" title=\"psysml:86b53981-b1ee-4c30-93d6-edfc048c3f3e\" xlink:actuate=\"onRequest\" xlink:href=\"psysml:86b53981-b1ee-4c30-93d6-edfc048c3f3e\" xlink:show=\"new\" xlink:title=\"psysml:86b53981-b1ee-4c30-93d6-edfc048c3f3e\" xlink:type=\"simple\"><rect fill=\"#FEFECE\" filter=\"url(#f8w2mlcz7kjfh)\" height=\"42.9375\" id=\"E4\" rx=\"10\" ry=\"10\" style=\"stroke: #A80036; stroke-width: 1.5;\" width=\"60\" x=\"135\" y=\"210\"/><text fill=\"#000000\" font-family=\"sans-serif\" font-size=\"12\" font-style=\"italic\" lengthAdjust=\"spacingAndGlyphs\" textLength=\"53\" x=\"138.5\" y=\"226.1387\">«action»</text><text fill=\"#000000\" font-family=\"sans-serif\" font-size=\"12\" lengthAdjust=\"spacingAndGlyphs\" textLength=\"16\" x=\"157\" y=\"240.1074\">A1</text></a></g><g id=\"E1.E5\"><a href=\"psysml:38b4e12b-2856-48b1-8683-970a7e146d76\" target=\"_top\" title=\"psysml:38b4e12b-2856-48b1-8683-970a7e146d76\" xlink:actuate=\"onRequest\" xlink:href=\"psysml:38b4e12b-2856-48b1-8683-970a7e146d76\" xlink:show=\"new\" xlink:title=\"psysml:38b4e12b-2856-48b1-8683-970a7e146d76\" xlink:type=\"simple\"><rect fill=\"#FEFECE\" filter=\"url(#f8w2mlcz7kjfh)\" height=\"42.9375\" id=\"E5\" rx=\"10\" ry=\"10\" style=\"stroke: #A80036; stroke-width: 1.5;\" width=\"60\" x=\"135\" y=\"286\"/><text fill=\"#000000\" font-family=\"sans-serif\" font-size=\"12\" font-style=\"italic\" lengthAdjust=\"spacingAndGlyphs\" textLength=\"53\" x=\"138.5\" y=\"302.1387\">«action»</text><text fill=\"#000000\" font-family=\"sans-serif\" font-size=\"12\" lengthAdjust=\"spacingAndGlyphs\" textLength=\"16\" x=\"157\" y=\"316.1074\">A2</text></a></g><g id=\"E1.E6\"><a href=\"psysml:3ceea1c4-b769-4e45-b22d-b9b14232dc11\" target=\"_top\" title=\"psysml:3ceea1c4-b769-4e45-b22d-b9b14232dc11\" xlink:actuate=\"onRequest\" xlink:href=\"psysml:3ceea1c4-b769-4e45-b22d-b9b14232dc11\" xlink:show=\"new\" xlink:title=\"psysml:3ceea1c4-b769-4e45-b22d-b9b14232dc11\" xlink:type=\"simple\"><rect fill=\"#FEFECE\" filter=\"url(#f8w2mlcz7kjfh)\" height=\"42.9375\" id=\"E6\" rx=\"10\" ry=\"10\" style=\"stroke: #A80036; stroke-width: 1.5;\" width=\"60\" x=\"63\" y=\"58\"/><text fill=\"#000000\" font-family=\"sans-serif\" font-size=\"12\" font-style=\"italic\" lengthAdjust=\"spacingAndGlyphs\" textLength=\"53\" x=\"66.5\" y=\"74.1387\">«action»</text><text fill=\"#000000\" font-family=\"sans-serif\" font-size=\"12\" lengthAdjust=\"spacingAndGlyphs\" textLength=\"16\" x=\"85\" y=\"88.1074\">A3</text></a></g><g id=\"E1.E7\"><a href=\"psysml:3ceea1c4-b769-4e45-b22d-b9b14232dc11\" target=\"_top\" title=\"psysml:3ceea1c4-b769-4e45-b22d-b9b14232dc11\" xlink:actuate=\"onRequest\" xlink:href=\"psysml:3ceea1c4-b769-4e45-b22d-b9b14232dc11\" xlink:show=\"new\" xlink:title=\"psysml:3ceea1c4-b769-4e45-b22d-b9b14232dc11\" xlink:type=\"simple\"><rect fill=\"#FEFECE\" filter=\"url(#f8w2mlcz7kjfh)\" height=\"42.9375\" id=\"E7\" rx=\"10\" ry=\"10\" style=\"stroke: #A80036; stroke-width: 1.5;\" width=\"60\" x=\"246\" y=\"134\"/><text fill=\"#000000\" font-family=\"sans-serif\" font-size=\"12\" font-style=\"italic\" lengthAdjust=\"spacingAndGlyphs\" textLength=\"53\" x=\"249.5\" y=\"150.1387\">«action»</text><text fill=\"#000000\" font-family=\"sans-serif\" font-size=\"12\" lengthAdjust=\"spacingAndGlyphs\" textLength=\"16\" x=\"268\" y=\"164.1074\">A3</text></a></g><!--MD5=[4d03bb2d0377dc85ccfab60ff574652b]\n",
       "link E2 to E4--><a href=\"psysml:5839aeb0-dd7d-4257-be26-6d697b84d54b\" target=\"_top\" title=\"psysml:5839aeb0-dd7d-4257-be26-6d697b84d54b\" xlink:actuate=\"onRequest\" xlink:href=\"psysml:5839aeb0-dd7d-4257-be26-6d697b84d54b\" xlink:show=\"new\" xlink:title=\"psysml:5839aeb0-dd7d-4257-be26-6d697b84d54b\" xlink:type=\"simple\"><path d=\"M201.97,84.07 C187.22,91.12 156.19,108.44 144,134 C133.21,156.64 141.61,184.91 150.79,204.99 \" fill=\"none\" id=\"E2-&gt;E4\" style=\"stroke: #A80036; stroke-width: 1.0;\"/><polygon fill=\"#A80036\" points=\"153,209.65,152.7662,199.8039,150.8614,205.1304,145.5349,203.2257,153,209.65\" style=\"stroke: #A80036; stroke-width: 1.0;\"/><text fill=\"#000000\" font-family=\"sans-serif\" font-size=\"13\" lengthAdjust=\"spacingAndGlyphs\" textLength=\"55\" x=\"145\" y=\"160.0669\">[x == 1]</text></a><!--MD5=[dcad52bbbca2fe8adc741ce38b45dc12]\n",
       "link E2 to E5--><a href=\"psysml:6472265e-4329-42f9-a73f-b0fdd653d81d\" target=\"_top\" title=\"psysml:6472265e-4329-42f9-a73f-b0fdd653d81d\" xlink:actuate=\"onRequest\" xlink:href=\"psysml:6472265e-4329-42f9-a73f-b0fdd653d81d\" xlink:show=\"new\" xlink:title=\"psysml:6472265e-4329-42f9-a73f-b0fdd653d81d\" xlink:type=\"simple\"><path d=\"M211.03,90.77 C214.33,123.83 224.51,227.37 226,261 C226.33,268.55 230.06,271.63 226,278 C220.01,287.41 210.02,293.76 199.83,298.03 \" fill=\"none\" id=\"E2-&gt;E5\" style=\"stroke: #A80036; stroke-width: 1.0;\"/><polygon fill=\"#A80036\" points=\"195.15,299.85,204.9881,300.3102,199.8089,298.035,202.0841,292.8559,195.15,299.85\" style=\"stroke: #A80036; stroke-width: 1.0;\"/><text fill=\"#000000\" font-family=\"sans-serif\" font-size=\"13\" lengthAdjust=\"spacingAndGlyphs\" textLength=\"44\" x=\"222\" y=\"198.0669\">[x &gt; 1]</text></a><!--MD5=[e3d2a08a9c9236652057e8ed0cbc9b62]\n",
       "link E2 to E7--><a href=\"psysml:3c10905a-0cf4-4572-9b68-27220c544656\" target=\"_top\" title=\"psysml:3c10905a-0cf4-4572-9b68-27220c544656\" xlink:actuate=\"onRequest\" xlink:href=\"psysml:3c10905a-0cf4-4572-9b68-27220c544656\" xlink:show=\"new\" xlink:title=\"psysml:3c10905a-0cf4-4572-9b68-27220c544656\" xlink:type=\"simple\"><path d=\"M210.68,90.95 C211.82,100.93 214.86,115.89 223,126 C227.84,132.02 234.31,136.94 241.06,140.89 \" fill=\"none\" id=\"E2-&gt;E7\" style=\"stroke: #A80036; stroke-width: 1.0;\"/><polygon fill=\"#A80036\" points=\"245.76,143.47,239.7851,135.6406,241.3738,141.0697,235.9446,142.6585,245.76,143.47\" style=\"stroke: #A80036; stroke-width: 1.0;\"/></a><!--MD5=[583832df87f4419a098336a29a52fa00]\n",
       "link E7 to E2--><a href=\"psysml:2ecae6e1-cb24-4407-809b-df9594bdb8fa\" target=\"_top\" title=\"psysml:2ecae6e1-cb24-4407-809b-df9594bdb8fa\" xlink:actuate=\"onRequest\" xlink:href=\"psysml:2ecae6e1-cb24-4407-809b-df9594bdb8fa\" xlink:show=\"new\" xlink:title=\"psysml:2ecae6e1-cb24-4407-809b-df9594bdb8fa\" xlink:type=\"simple\"><path d=\"M257.61,133.88 C245.02,119.76 228.86,101.65 218.98,90.57 \" fill=\"none\" id=\"E7-&gt;E2\" style=\"stroke: #A80036; stroke-width: 1.0;\"/><polygon fill=\"#A80036\" points=\"215.4,86.56,218.3919,95.9434,218.7227,90.2963,224.3699,90.6271,215.4,86.56\" style=\"stroke: #A80036; stroke-width: 1.0;\"/><text fill=\"#000000\" font-family=\"sans-serif\" font-size=\"13\" lengthAdjust=\"spacingAndGlyphs\" textLength=\"44\" x=\"249\" y=\"122.0669\">[x &gt; 0]</text></a><!--MD5=[2720a5a1f2c3fca2055b230370638851]\n",
       "link E2 to E3--><a href=\"psysml:4534ef33-8eda-405a-b2f5-6c95fd446375\" target=\"_top\" title=\"psysml:4534ef33-8eda-405a-b2f5-6c95fd446375\" xlink:actuate=\"onRequest\" xlink:href=\"psysml:4534ef33-8eda-405a-b2f5-6c95fd446375\" xlink:show=\"new\" xlink:title=\"psysml:4534ef33-8eda-405a-b2f5-6c95fd446375\" xlink:type=\"simple\"><path d=\"M201.54,83.16 C188.57,87.22 162.96,95.08 141,101 C126.43,104.93 121.91,103.16 108,109 C84.25,118.97 59.36,136.17 45.65,146.32 \" fill=\"none\" id=\"E2-&gt;E3\" style=\"stroke: #A80036; stroke-width: 1.0;\"/><polygon fill=\"#A80036\" points=\"41.45,149.47,51.05,147.27,45.45,146.47,46.25,140.87,41.45,149.47\" style=\"stroke: #A80036; stroke-width: 1.0;\"/></a><!--MD5=[af87c684e3b0d8be13c1a698a818ef1e]\n",
       "link E3 to E4--><a href=\"psysml:4cb33783-cb85-4624-8a6d-789ab5e27309\" target=\"_top\" title=\"psysml:4cb33783-cb85-4624-8a6d-789ab5e27309\" xlink:actuate=\"onRequest\" xlink:href=\"psysml:4cb33783-cb85-4624-8a6d-789ab5e27309\" xlink:show=\"new\" xlink:title=\"psysml:4cb33783-cb85-4624-8a6d-789ab5e27309\" xlink:type=\"simple\"><path d=\"M40.09,162.69 C48.35,172.37 65.62,191.11 84,202 C93.67,207.73 97.38,206.32 108,210 C115.1,212.46 122.69,215.15 129.93,217.74 \" fill=\"none\" id=\"E3-&gt;E4\" style=\"stroke: #A80036; stroke-width: 1.0;\"/><polygon fill=\"#A80036\" points=\"134.87,219.52,127.7488,212.7164,130.1636,217.832,125.048,220.2467,134.87,219.52\" style=\"stroke: #A80036; stroke-width: 1.0;\"/><text fill=\"#000000\" font-family=\"sans-serif\" font-size=\"13\" lengthAdjust=\"spacingAndGlyphs\" textLength=\"36\" x=\"85\" y=\"198.0669\">[true]</text></a><!--MD5=[0188b64bb0ae78505a997a81836e11e9]\n",
       "link E3 to E5--><a href=\"psysml:7566f218-2e4c-4b1d-8134-f6de9f4cb12f\" target=\"_top\" title=\"psysml:7566f218-2e4c-4b1d-8134-f6de9f4cb12f\" xlink:actuate=\"onRequest\" xlink:href=\"psysml:7566f218-2e4c-4b1d-8134-f6de9f4cb12f\" xlink:show=\"new\" xlink:title=\"psysml:7566f218-2e4c-4b1d-8134-f6de9f4cb12f\" xlink:type=\"simple\"><path d=\"M36.91,165.76 C41.11,184.24 52.71,226.21 76,253 C90.72,269.93 112.16,283.05 130.31,292.05 \" fill=\"none\" id=\"E3-&gt;E5\" style=\"stroke: #A80036; stroke-width: 1.0;\"/><polygon fill=\"#A80036\" points=\"134.85,294.25,128.4921,286.7283,130.3496,292.0714,125.0064,293.9289,134.85,294.25\" style=\"stroke: #A80036; stroke-width: 1.0;\"/><text fill=\"#000000\" font-family=\"sans-serif\" font-size=\"13\" lengthAdjust=\"spacingAndGlyphs\" textLength=\"40\" x=\"77\" y=\"236.0669\">[false]</text></a><!--MD5=[1b7591eae5389033d8d09a9d6721a717]\n",
       "link E4 to E5--><a href=\"psysml:2ec4d8de-ba31-4f08-a58c-ce574f556666\" target=\"_top\" title=\"psysml:2ec4d8de-ba31-4f08-a58c-ce574f556666\" xlink:actuate=\"onRequest\" xlink:href=\"psysml:2ec4d8de-ba31-4f08-a58c-ce574f556666\" xlink:show=\"new\" xlink:title=\"psysml:2ec4d8de-ba31-4f08-a58c-ce574f556666\" xlink:type=\"simple\"><path d=\"M165,253.11 C165,261.69 165,271.75 165,280.8 \" fill=\"none\" id=\"E4-&gt;E5\" style=\"stroke: #A80036; stroke-width: 1.0;\"/><polygon fill=\"#A80036\" points=\"165,286,169,277,165,281,161,277,165,286\" style=\"stroke: #A80036; stroke-width: 1.0;\"/><text fill=\"#000000\" font-family=\"sans-serif\" font-size=\"13\" lengthAdjust=\"spacingAndGlyphs\" textLength=\"55\" x=\"166\" y=\"274.0669\">[x == 0]</text></a><!--MD5=[ec6d4b250fb5c3a8e3886f8ee91069a6]\n",
       "@startuml\r\n",
       "skinparam ranksep 10\r\n",
       "skinparam rectangle {\r\n",
       " backgroundColor<<block>> LightGreen\r\n",
       "}\r\n",
       "skinparam wrapWidth 300\r\n",
       "hide circle\r\n",
       "\r\n",
       "rec def \"DecisionTest\" as E1  <<(T,blue) action def>> [[psysml:068a4463-a96d-4165-a2bc-cadf70a9bc09 ]] {\r\n",
       "choice \"test x\" as E2  [[psysml:44ee9e06-5fd9-46bf-b0f8-00dd693073b7 ]] \r\n",
       "choice \"noname\" as E3  [[psysml:eeb68ac4-2ad3-4e0c-9c18-140c63d1edba ]] \r\n",
       "rec usage \"A1\" as E4  <<(T,blue) action>> [[psysml:86b53981-b1ee-4c30-93d6-edfc048c3f3e ]] {\r\n",
       "}\r\n",
       "\r\n",
       "rec usage \"A2\" as E5  <<(T,blue) action>> [[psysml:38b4e12b-2856-48b1-8683-970a7e146d76 ]] {\r\n",
       "}\r\n",
       "\r\n",
       "rec usage \"A3\" as E6  <<(T,blue) action>> [[psysml:3ceea1c4-b769-4e45-b22d-b9b14232dc11 ]] {\r\n",
       "}\r\n",
       "\r\n",
       "rec usage \"A3\" as E7  <<(T,blue) action>> [[psysml:3ceea1c4-b769-4e45-b22d-b9b14232dc11 ]] {\r\n",
       "}\r\n",
       "\r\n",
       "}\r\n",
       "\r\n",
       "E2  - -> E4 [[psysml:5839aeb0-dd7d-4257-be26-6d697b84d54b ]] : [x == 1]\r\n",
       "E2  - -> E5 [[psysml:6472265e-4329-42f9-a73f-b0fdd653d81d ]] : [x > 1]\r\n",
       "E2  - -> E7 [[psysml:3c10905a-0cf4-4572-9b68-27220c544656 ]] \r\n",
       "E2 - -> E3 [[psysml:4534ef33-8eda-405a-b2f5-6c95fd446375 ]] \r\n",
       "E3  - -> E4 [[psysml:4cb33783-cb85-4624-8a6d-789ab5e27309 ]] : [true]\r\n",
       "E3  - -> E5 [[psysml:7566f218-2e4c-4b1d-8134-f6de9f4cb12f ]] : [false]\r\n",
       "E4  - -> E5 [[psysml:2ec4d8de-ba31-4f08-a58c-ce574f556666 ]] : [x == 0]\r\n",
       "E7  - -> E2 [[psysml:2ecae6e1-cb24-4407-809b-df9594bdb8fa ]] : [x > 0]\r\n",
       "@enduml\r\n",
       "\n",
       "PlantUML version 1.2020.13(Sat Jun 13 12:26:38 UTC 2020)\n",
       "(EPL source distribution)\n",
       "Java Runtime: OpenJDK Runtime Environment\n",
       "JVM: OpenJDK 64-Bit Server VM\n",
       "Default Encoding: UTF-8\n",
       "Language: en\n",
       "Country: null\n",
       "--></g></svg>"
      ]
     },
     "execution_count": 26,
     "metadata": {},
     "output_type": "execute_result"
    }
   ],
   "source": [
    "%viz --style=\"STDCOLOR\" --view=\"Interconnection\" \"DecisionTest\""
   ]
  },
  {
   "cell_type": "code",
   "execution_count": 27,
   "id": "45d93ce4",
   "metadata": {
    "execution": {
     "iopub.execute_input": "2021-06-30T09:20:29.415253Z",
     "iopub.status.busy": "2021-06-30T09:20:29.414406Z",
     "iopub.status.idle": "2021-06-30T09:20:29.460804Z",
     "shell.execute_reply": "2021-06-30T09:20:29.459189Z"
    }
   },
   "outputs": [
    {
     "data": {
      "image/svg+xml": [
       "<?xml version=\"1.0\" encoding=\"UTF-8\" standalone=\"no\"?><svg xmlns=\"http://www.w3.org/2000/svg\" xmlns:xlink=\"http://www.w3.org/1999/xlink\" contentScriptType=\"application/ecmascript\" contentStyleType=\"text/css\" height=\"364px\" preserveAspectRatio=\"none\" style=\"width:341px;height:364px;\" version=\"1.1\" viewBox=\"0 0 341 364\" width=\"341px\" zoomAndPan=\"magnify\"><defs><filter height=\"300%\" id=\"f154xbjxkesppn\" width=\"300%\" x=\"-1\" y=\"-1\"><feGaussianBlur result=\"blurOut\" stdDeviation=\"2.0\"/><feColorMatrix in=\"blurOut\" result=\"blurOut2\" type=\"matrix\" values=\"0 0 0 0 0 0 0 0 0 0 0 0 0 0 0 0 0 0 .4 0\"/><feOffset dx=\"4.0\" dy=\"4.0\" in=\"blurOut2\" result=\"blurOut3\"/><feBlend in=\"SourceGraphic\" in2=\"blurOut3\" mode=\"normal\"/></filter></defs><g><!--MD5=[fbc87193dbaf4d95561dea2c320d4a47]\n",
       "cluster E1--><a href=\"psysml:068a4463-a96d-4165-a2bc-cadf70a9bc09\" target=\"_top\" title=\"psysml:068a4463-a96d-4165-a2bc-cadf70a9bc09\" xlink:actuate=\"onRequest\" xlink:href=\"psysml:068a4463-a96d-4165-a2bc-cadf70a9bc09\" xlink:show=\"new\" xlink:title=\"psysml:068a4463-a96d-4165-a2bc-cadf70a9bc09\" xlink:type=\"simple\"><rect fill=\"#FFFFFF\" filter=\"url(#f154xbjxkesppn)\" height=\"338\" id=\"E1\" style=\"stroke: #A80036; stroke-width: 1.5;\" width=\"315\" x=\"7\" y=\"7\"/><rect fill=\"#FEFECE\" height=\"37.9375\" style=\"stroke: #A80036; stroke-width: 1.5;\" width=\"315\" x=\"7\" y=\"7\"/><text fill=\"#000000\" font-family=\"sans-serif\" font-size=\"12\" font-style=\"italic\" lengthAdjust=\"spacingAndGlyphs\" textLength=\"77\" x=\"126\" y=\"23.1387\">«action def»</text><text fill=\"#000000\" font-family=\"sans-serif\" font-size=\"12\" lengthAdjust=\"spacingAndGlyphs\" textLength=\"80\" x=\"124.5\" y=\"37.1074\">DecisionTest</text></a><polygon fill=\"#FEFECE\" filter=\"url(#f154xbjxkesppn)\" points=\"210,67.5,222,79.5,210,91.5,198,79.5,210,67.5\" style=\"stroke: #A80036; stroke-width: 1.5;\"/><polygon fill=\"#FEFECE\" filter=\"url(#f154xbjxkesppn)\" points=\"35,143.5,47,155.5,35,167.5,23,155.5,35,143.5\" style=\"stroke: #A80036; stroke-width: 1.5;\"/><g id=\"E1.E4\"><a href=\"psysml:86b53981-b1ee-4c30-93d6-edfc048c3f3e\" target=\"_top\" title=\"psysml:86b53981-b1ee-4c30-93d6-edfc048c3f3e\" xlink:actuate=\"onRequest\" xlink:href=\"psysml:86b53981-b1ee-4c30-93d6-edfc048c3f3e\" xlink:show=\"new\" xlink:title=\"psysml:86b53981-b1ee-4c30-93d6-edfc048c3f3e\" xlink:type=\"simple\"><rect fill=\"#FEFECE\" filter=\"url(#f154xbjxkesppn)\" height=\"42.9375\" id=\"E4\" rx=\"10\" ry=\"10\" style=\"stroke: #A80036; stroke-width: 1.5;\" width=\"60\" x=\"135\" y=\"210\"/><text fill=\"#000000\" font-family=\"sans-serif\" font-size=\"12\" font-style=\"italic\" lengthAdjust=\"spacingAndGlyphs\" textLength=\"53\" x=\"138.5\" y=\"226.1387\">«action»</text><text fill=\"#000000\" font-family=\"sans-serif\" font-size=\"12\" lengthAdjust=\"spacingAndGlyphs\" textLength=\"16\" x=\"157\" y=\"240.1074\">A1</text></a></g><g id=\"E1.E5\"><a href=\"psysml:38b4e12b-2856-48b1-8683-970a7e146d76\" target=\"_top\" title=\"psysml:38b4e12b-2856-48b1-8683-970a7e146d76\" xlink:actuate=\"onRequest\" xlink:href=\"psysml:38b4e12b-2856-48b1-8683-970a7e146d76\" xlink:show=\"new\" xlink:title=\"psysml:38b4e12b-2856-48b1-8683-970a7e146d76\" xlink:type=\"simple\"><rect fill=\"#FEFECE\" filter=\"url(#f154xbjxkesppn)\" height=\"42.9375\" id=\"E5\" rx=\"10\" ry=\"10\" style=\"stroke: #A80036; stroke-width: 1.5;\" width=\"60\" x=\"135\" y=\"286\"/><text fill=\"#000000\" font-family=\"sans-serif\" font-size=\"12\" font-style=\"italic\" lengthAdjust=\"spacingAndGlyphs\" textLength=\"53\" x=\"138.5\" y=\"302.1387\">«action»</text><text fill=\"#000000\" font-family=\"sans-serif\" font-size=\"12\" lengthAdjust=\"spacingAndGlyphs\" textLength=\"16\" x=\"157\" y=\"316.1074\">A2</text></a></g><g id=\"E1.E6\"><a href=\"psysml:3ceea1c4-b769-4e45-b22d-b9b14232dc11\" target=\"_top\" title=\"psysml:3ceea1c4-b769-4e45-b22d-b9b14232dc11\" xlink:actuate=\"onRequest\" xlink:href=\"psysml:3ceea1c4-b769-4e45-b22d-b9b14232dc11\" xlink:show=\"new\" xlink:title=\"psysml:3ceea1c4-b769-4e45-b22d-b9b14232dc11\" xlink:type=\"simple\"><rect fill=\"#FEFECE\" filter=\"url(#f154xbjxkesppn)\" height=\"42.9375\" id=\"E6\" rx=\"10\" ry=\"10\" style=\"stroke: #A80036; stroke-width: 1.5;\" width=\"60\" x=\"63\" y=\"58\"/><text fill=\"#000000\" font-family=\"sans-serif\" font-size=\"12\" font-style=\"italic\" lengthAdjust=\"spacingAndGlyphs\" textLength=\"53\" x=\"66.5\" y=\"74.1387\">«action»</text><text fill=\"#000000\" font-family=\"sans-serif\" font-size=\"12\" lengthAdjust=\"spacingAndGlyphs\" textLength=\"16\" x=\"85\" y=\"88.1074\">A3</text></a></g><g id=\"E1.E7\"><a href=\"psysml:3ceea1c4-b769-4e45-b22d-b9b14232dc11\" target=\"_top\" title=\"psysml:3ceea1c4-b769-4e45-b22d-b9b14232dc11\" xlink:actuate=\"onRequest\" xlink:href=\"psysml:3ceea1c4-b769-4e45-b22d-b9b14232dc11\" xlink:show=\"new\" xlink:title=\"psysml:3ceea1c4-b769-4e45-b22d-b9b14232dc11\" xlink:type=\"simple\"><rect fill=\"#FEFECE\" filter=\"url(#f154xbjxkesppn)\" height=\"42.9375\" id=\"E7\" rx=\"10\" ry=\"10\" style=\"stroke: #A80036; stroke-width: 1.5;\" width=\"60\" x=\"246\" y=\"134\"/><text fill=\"#000000\" font-family=\"sans-serif\" font-size=\"12\" font-style=\"italic\" lengthAdjust=\"spacingAndGlyphs\" textLength=\"53\" x=\"249.5\" y=\"150.1387\">«action»</text><text fill=\"#000000\" font-family=\"sans-serif\" font-size=\"12\" lengthAdjust=\"spacingAndGlyphs\" textLength=\"16\" x=\"268\" y=\"164.1074\">A3</text></a></g><!--MD5=[4d03bb2d0377dc85ccfab60ff574652b]\n",
       "link E2 to E4--><a href=\"psysml:5839aeb0-dd7d-4257-be26-6d697b84d54b\" target=\"_top\" title=\"psysml:5839aeb0-dd7d-4257-be26-6d697b84d54b\" xlink:actuate=\"onRequest\" xlink:href=\"psysml:5839aeb0-dd7d-4257-be26-6d697b84d54b\" xlink:show=\"new\" xlink:title=\"psysml:5839aeb0-dd7d-4257-be26-6d697b84d54b\" xlink:type=\"simple\"><path d=\"M201.97,84.07 C187.22,91.12 156.19,108.44 144,134 C133.21,156.64 141.61,184.91 150.79,204.99 \" fill=\"none\" id=\"E2-&gt;E4\" style=\"stroke: #A80036; stroke-width: 1.0; stroke-dasharray: 7.0,7.0;\"/><polygon fill=\"#A80036\" points=\"153,209.65,152.7662,199.8039,150.8614,205.1304,145.5349,203.2257,153,209.65\" style=\"stroke: #A80036; stroke-width: 1.0;\"/><text fill=\"#000000\" font-family=\"sans-serif\" font-size=\"13\" lengthAdjust=\"spacingAndGlyphs\" textLength=\"55\" x=\"145\" y=\"160.0669\">[x == 1]</text></a><!--MD5=[dcad52bbbca2fe8adc741ce38b45dc12]\n",
       "link E2 to E5--><a href=\"psysml:6472265e-4329-42f9-a73f-b0fdd653d81d\" target=\"_top\" title=\"psysml:6472265e-4329-42f9-a73f-b0fdd653d81d\" xlink:actuate=\"onRequest\" xlink:href=\"psysml:6472265e-4329-42f9-a73f-b0fdd653d81d\" xlink:show=\"new\" xlink:title=\"psysml:6472265e-4329-42f9-a73f-b0fdd653d81d\" xlink:type=\"simple\"><path d=\"M211.03,90.77 C214.33,123.83 224.51,227.37 226,261 C226.33,268.55 230.06,271.63 226,278 C220.01,287.41 210.02,293.76 199.83,298.03 \" fill=\"none\" id=\"E2-&gt;E5\" style=\"stroke: #A80036; stroke-width: 1.0; stroke-dasharray: 7.0,7.0;\"/><polygon fill=\"#A80036\" points=\"195.15,299.85,204.9881,300.3102,199.8089,298.035,202.0841,292.8559,195.15,299.85\" style=\"stroke: #A80036; stroke-width: 1.0;\"/><text fill=\"#000000\" font-family=\"sans-serif\" font-size=\"13\" lengthAdjust=\"spacingAndGlyphs\" textLength=\"44\" x=\"222\" y=\"198.0669\">[x &gt; 1]</text></a><!--MD5=[e3d2a08a9c9236652057e8ed0cbc9b62]\n",
       "link E2 to E7--><a href=\"psysml:3c10905a-0cf4-4572-9b68-27220c544656\" target=\"_top\" title=\"psysml:3c10905a-0cf4-4572-9b68-27220c544656\" xlink:actuate=\"onRequest\" xlink:href=\"psysml:3c10905a-0cf4-4572-9b68-27220c544656\" xlink:show=\"new\" xlink:title=\"psysml:3c10905a-0cf4-4572-9b68-27220c544656\" xlink:type=\"simple\"><path d=\"M210.68,90.95 C211.82,100.93 214.86,115.89 223,126 C227.84,132.02 234.31,136.94 241.06,140.89 \" fill=\"none\" id=\"E2-&gt;E7\" style=\"stroke: #A80036; stroke-width: 1.0; stroke-dasharray: 7.0,7.0;\"/><polygon fill=\"#A80036\" points=\"245.76,143.47,239.7851,135.6406,241.3738,141.0697,235.9446,142.6585,245.76,143.47\" style=\"stroke: #A80036; stroke-width: 1.0;\"/></a><!--MD5=[583832df87f4419a098336a29a52fa00]\n",
       "link E7 to E2--><a href=\"psysml:2ecae6e1-cb24-4407-809b-df9594bdb8fa\" target=\"_top\" title=\"psysml:2ecae6e1-cb24-4407-809b-df9594bdb8fa\" xlink:actuate=\"onRequest\" xlink:href=\"psysml:2ecae6e1-cb24-4407-809b-df9594bdb8fa\" xlink:show=\"new\" xlink:title=\"psysml:2ecae6e1-cb24-4407-809b-df9594bdb8fa\" xlink:type=\"simple\"><path d=\"M257.61,133.88 C245.02,119.76 228.86,101.65 218.98,90.57 \" fill=\"none\" id=\"E7-&gt;E2\" style=\"stroke: #A80036; stroke-width: 1.0; stroke-dasharray: 7.0,7.0;\"/><polygon fill=\"#A80036\" points=\"215.4,86.56,218.3919,95.9434,218.7227,90.2963,224.3699,90.6271,215.4,86.56\" style=\"stroke: #A80036; stroke-width: 1.0;\"/><text fill=\"#000000\" font-family=\"sans-serif\" font-size=\"13\" lengthAdjust=\"spacingAndGlyphs\" textLength=\"44\" x=\"249\" y=\"122.0669\">[x &gt; 0]</text></a><!--MD5=[2720a5a1f2c3fca2055b230370638851]\n",
       "link E2 to E3--><a href=\"psysml:4534ef33-8eda-405a-b2f5-6c95fd446375\" target=\"_top\" title=\"psysml:4534ef33-8eda-405a-b2f5-6c95fd446375\" xlink:actuate=\"onRequest\" xlink:href=\"psysml:4534ef33-8eda-405a-b2f5-6c95fd446375\" xlink:show=\"new\" xlink:title=\"psysml:4534ef33-8eda-405a-b2f5-6c95fd446375\" xlink:type=\"simple\"><path d=\"M201.54,83.16 C188.57,87.22 162.96,95.08 141,101 C126.43,104.93 121.91,103.16 108,109 C84.25,118.97 59.36,136.17 45.65,146.32 \" fill=\"none\" id=\"E2-&gt;E3\" style=\"stroke: #A80036; stroke-width: 1.0; stroke-dasharray: 7.0,7.0;\"/><polygon fill=\"#A80036\" points=\"41.45,149.47,51.05,147.27,45.45,146.47,46.25,140.87,41.45,149.47\" style=\"stroke: #A80036; stroke-width: 1.0;\"/></a><!--MD5=[af87c684e3b0d8be13c1a698a818ef1e]\n",
       "link E3 to E4--><a href=\"psysml:4cb33783-cb85-4624-8a6d-789ab5e27309\" target=\"_top\" title=\"psysml:4cb33783-cb85-4624-8a6d-789ab5e27309\" xlink:actuate=\"onRequest\" xlink:href=\"psysml:4cb33783-cb85-4624-8a6d-789ab5e27309\" xlink:show=\"new\" xlink:title=\"psysml:4cb33783-cb85-4624-8a6d-789ab5e27309\" xlink:type=\"simple\"><path d=\"M40.09,162.69 C48.35,172.37 65.62,191.11 84,202 C93.67,207.73 97.38,206.32 108,210 C115.1,212.46 122.69,215.15 129.93,217.74 \" fill=\"none\" id=\"E3-&gt;E4\" style=\"stroke: #A80036; stroke-width: 1.0; stroke-dasharray: 7.0,7.0;\"/><polygon fill=\"#A80036\" points=\"134.87,219.52,127.7488,212.7164,130.1636,217.832,125.048,220.2467,134.87,219.52\" style=\"stroke: #A80036; stroke-width: 1.0;\"/><text fill=\"#000000\" font-family=\"sans-serif\" font-size=\"13\" lengthAdjust=\"spacingAndGlyphs\" textLength=\"36\" x=\"85\" y=\"198.0669\">[true]</text></a><!--MD5=[0188b64bb0ae78505a997a81836e11e9]\n",
       "link E3 to E5--><a href=\"psysml:7566f218-2e4c-4b1d-8134-f6de9f4cb12f\" target=\"_top\" title=\"psysml:7566f218-2e4c-4b1d-8134-f6de9f4cb12f\" xlink:actuate=\"onRequest\" xlink:href=\"psysml:7566f218-2e4c-4b1d-8134-f6de9f4cb12f\" xlink:show=\"new\" xlink:title=\"psysml:7566f218-2e4c-4b1d-8134-f6de9f4cb12f\" xlink:type=\"simple\"><path d=\"M36.91,165.76 C41.11,184.24 52.71,226.21 76,253 C90.72,269.93 112.16,283.05 130.31,292.05 \" fill=\"none\" id=\"E3-&gt;E5\" style=\"stroke: #A80036; stroke-width: 1.0; stroke-dasharray: 7.0,7.0;\"/><polygon fill=\"#A80036\" points=\"134.85,294.25,128.4921,286.7283,130.3496,292.0714,125.0064,293.9289,134.85,294.25\" style=\"stroke: #A80036; stroke-width: 1.0;\"/><text fill=\"#000000\" font-family=\"sans-serif\" font-size=\"13\" lengthAdjust=\"spacingAndGlyphs\" textLength=\"40\" x=\"77\" y=\"236.0669\">[false]</text></a><!--MD5=[1b7591eae5389033d8d09a9d6721a717]\n",
       "link E4 to E5--><a href=\"psysml:2ec4d8de-ba31-4f08-a58c-ce574f556666\" target=\"_top\" title=\"psysml:2ec4d8de-ba31-4f08-a58c-ce574f556666\" xlink:actuate=\"onRequest\" xlink:href=\"psysml:2ec4d8de-ba31-4f08-a58c-ce574f556666\" xlink:show=\"new\" xlink:title=\"psysml:2ec4d8de-ba31-4f08-a58c-ce574f556666\" xlink:type=\"simple\"><path d=\"M165,253.11 C165,261.69 165,271.75 165,280.8 \" fill=\"none\" id=\"E4-&gt;E5\" style=\"stroke: #A80036; stroke-width: 1.0; stroke-dasharray: 7.0,7.0;\"/><polygon fill=\"#A80036\" points=\"165,286,169,277,165,281,161,277,165,286\" style=\"stroke: #A80036; stroke-width: 1.0;\"/><text fill=\"#000000\" font-family=\"sans-serif\" font-size=\"13\" lengthAdjust=\"spacingAndGlyphs\" textLength=\"55\" x=\"166\" y=\"274.0669\">[x == 0]</text></a><!--MD5=[2b4a8b50bc488a2fd01d942dca96a3f0]\n",
       "@startuml\r\n",
       "skinparam ranksep 8\r\n",
       "skinparam wrapWidth 300\r\n",
       "hide circle\r\n",
       "\r\n",
       "rec def \"DecisionTest\" as E1  <<(T,blue) action def>> [[psysml:068a4463-a96d-4165-a2bc-cadf70a9bc09 ]] {\r\n",
       "choice \"test x\" as E2  [[psysml:44ee9e06-5fd9-46bf-b0f8-00dd693073b7 ]] \r\n",
       "choice \"noname\" as E3  [[psysml:eeb68ac4-2ad3-4e0c-9c18-140c63d1edba ]] \r\n",
       "rec usage \"A1\" as E4  <<(T,blue) action>> [[psysml:86b53981-b1ee-4c30-93d6-edfc048c3f3e ]] {\r\n",
       "}\r\n",
       "\r\n",
       "rec usage \"A2\" as E5  <<(T,blue) action>> [[psysml:38b4e12b-2856-48b1-8683-970a7e146d76 ]] {\r\n",
       "}\r\n",
       "\r\n",
       "rec usage \"A3\" as E6  <<(T,blue) action>> [[psysml:3ceea1c4-b769-4e45-b22d-b9b14232dc11 ]] {\r\n",
       "}\r\n",
       "\r\n",
       "rec usage \"A3\" as E7  <<(T,blue) action>> [[psysml:3ceea1c4-b769-4e45-b22d-b9b14232dc11 ]] {\r\n",
       "}\r\n",
       "\r\n",
       "}\r\n",
       "\r\n",
       "E2 ..> E4 [[psysml:5839aeb0-dd7d-4257-be26-6d697b84d54b ]] : [x == 1]\r\n",
       "E2 ..> E5 [[psysml:6472265e-4329-42f9-a73f-b0fdd653d81d ]] : [x > 1]\r\n",
       "E2 ..> E7 [[psysml:3c10905a-0cf4-4572-9b68-27220c544656 ]] \r\n",
       "E2 ..> E3 [[psysml:4534ef33-8eda-405a-b2f5-6c95fd446375 ]] \r\n",
       "E3 ..> E4 [[psysml:4cb33783-cb85-4624-8a6d-789ab5e27309 ]] : [true]\r\n",
       "E3 ..> E5 [[psysml:7566f218-2e4c-4b1d-8134-f6de9f4cb12f ]] : [false]\r\n",
       "E4 ..> E5 [[psysml:2ec4d8de-ba31-4f08-a58c-ce574f556666 ]] : [x == 0]\r\n",
       "E7 ..> E2 [[psysml:2ecae6e1-cb24-4407-809b-df9594bdb8fa ]] : [x > 0]\r\n",
       "@enduml\r\n",
       "\n",
       "PlantUML version 1.2020.13(Sat Jun 13 12:26:38 UTC 2020)\n",
       "(EPL source distribution)\n",
       "Java Runtime: OpenJDK Runtime Environment\n",
       "JVM: OpenJDK 64-Bit Server VM\n",
       "Default Encoding: UTF-8\n",
       "Language: en\n",
       "Country: null\n",
       "--></g></svg>"
      ]
     },
     "execution_count": 27,
     "metadata": {},
     "output_type": "execute_result"
    }
   ],
   "source": [
    "%viz --style=\"STDCOLOR\" --view=\"Action\" \"DecisionTest\""
   ]
  },
  {
   "cell_type": "code",
   "execution_count": 28,
   "id": "381751da",
   "metadata": {
    "execution": {
     "iopub.execute_input": "2021-06-30T09:20:29.511230Z",
     "iopub.status.busy": "2021-06-30T09:20:29.510491Z",
     "iopub.status.idle": "2021-06-30T09:20:29.566832Z",
     "shell.execute_reply": "2021-06-30T09:20:29.564499Z"
    }
   },
   "outputs": [
    {
     "data": {
      "image/svg+xml": [
       "<?xml version=\"1.0\" encoding=\"UTF-8\" standalone=\"no\"?><svg xmlns=\"http://www.w3.org/2000/svg\" xmlns:xlink=\"http://www.w3.org/1999/xlink\" contentScriptType=\"application/ecmascript\" contentStyleType=\"text/css\" height=\"219px\" preserveAspectRatio=\"none\" style=\"width:533px;height:219px;\" version=\"1.1\" viewBox=\"0 0 533 219\" width=\"533px\" zoomAndPan=\"magnify\"><defs><filter height=\"300%\" id=\"f1u8drp1fkd3ls\" width=\"300%\" x=\"-1\" y=\"-1\"><feGaussianBlur result=\"blurOut\" stdDeviation=\"2.0\"/><feColorMatrix in=\"blurOut\" result=\"blurOut2\" type=\"matrix\" values=\"0 0 0 0 0 0 0 0 0 0 0 0 0 0 0 0 0 0 .4 0\"/><feOffset dx=\"4.0\" dy=\"4.0\" in=\"blurOut2\" result=\"blurOut3\"/><feBlend in=\"SourceGraphic\" in2=\"blurOut3\" mode=\"normal\"/></filter></defs><g><!--MD5=[43c9051892ef23e1a46a86907403d788]\n",
       "class E1--><a href=\"psysml:068a4463-a96d-4165-a2bc-cadf70a9bc09\" target=\"_top\" title=\"psysml:068a4463-a96d-4165-a2bc-cadf70a9bc09\" xlink:actuate=\"onRequest\" xlink:href=\"psysml:068a4463-a96d-4165-a2bc-cadf70a9bc09\" xlink:show=\"new\" xlink:title=\"psysml:068a4463-a96d-4165-a2bc-cadf70a9bc09\" xlink:type=\"simple\"><rect fill=\"#FEFECE\" filter=\"url(#f1u8drp1fkd3ls)\" height=\"88.3516\" id=\"E1\" style=\"stroke: #A80036; stroke-width: 1.5;\" width=\"86\" x=\"308.5\" y=\"7\"/><text fill=\"#000000\" font-family=\"sans-serif\" font-size=\"12\" font-style=\"italic\" lengthAdjust=\"spacingAndGlyphs\" textLength=\"77\" x=\"313\" y=\"23.1387\">«action def»</text><text fill=\"#000000\" font-family=\"sans-serif\" font-size=\"12\" lengthAdjust=\"spacingAndGlyphs\" textLength=\"80\" x=\"311.5\" y=\"37.1074\">DecisionTest</text><line style=\"stroke: #A80036; stroke-width: 1.5;\" x1=\"309.5\" x2=\"393.5\" y1=\"44.9375\" y2=\"44.9375\"/><text fill=\"#000000\" font-family=\"sans-serif\" font-size=\"11\" lengthAdjust=\"spacingAndGlyphs\" textLength=\"26\" x=\"314.5\" y=\"59.1479\">x=1;</text><text fill=\"#000000\" font-family=\"sans-serif\" font-size=\"11\" lengthAdjust=\"spacingAndGlyphs\" textLength=\"8\" x=\"314.5\" y=\"88.7573\">S</text><line style=\"stroke: #A80036; stroke-width: 1.0;\" x1=\"309.5\" x2=\"321\" y1=\"72.1445\" y2=\"72.1445\"/><text fill=\"#000000\" font-family=\"sans-serif\" font-size=\"11\" lengthAdjust=\"spacingAndGlyphs\" textLength=\"61\" x=\"321\" y=\"75.4526\">transitions</text><line style=\"stroke: #A80036; stroke-width: 1.0;\" x1=\"382\" x2=\"393.5\" y1=\"72.1445\" y2=\"72.1445\"/></a><!--MD5=[b4997ac47864f28c2f74865a473b2911]\n",
       "class E2--><a href=\"psysml:44ee9e06-5fd9-46bf-b0f8-00dd693073b7\" target=\"_top\" title=\"psysml:44ee9e06-5fd9-46bf-b0f8-00dd693073b7\" xlink:actuate=\"onRequest\" xlink:href=\"psysml:44ee9e06-5fd9-46bf-b0f8-00dd693073b7\" xlink:show=\"new\" xlink:title=\"psysml:44ee9e06-5fd9-46bf-b0f8-00dd693073b7\" xlink:type=\"simple\"><rect fill=\"#FEFECE\" filter=\"url(#f1u8drp1fkd3ls)\" height=\"45.9375\" id=\"E2\" rx=\"10\" ry=\"10\" style=\"stroke: #A80036; stroke-width: 1.5;\" width=\"101\" x=\"7\" y=\"155\"/><text fill=\"#000000\" font-family=\"sans-serif\" font-size=\"12\" font-style=\"italic\" lengthAdjust=\"spacingAndGlyphs\" textLength=\"99\" x=\"8\" y=\"171.1387\">«decisionNode»</text><text fill=\"#000000\" font-family=\"sans-serif\" font-size=\"12\" lengthAdjust=\"spacingAndGlyphs\" textLength=\"35\" x=\"40\" y=\"185.1074\">test x</text><line style=\"stroke: #A80036; stroke-width: 1.5;\" x1=\"8\" x2=\"107\" y1=\"192.9375\" y2=\"192.9375\"/></a><!--MD5=[09b614a08d8cba4a07c9adeb5e0fee81]\n",
       "class E3--><a href=\"psysml:eeb68ac4-2ad3-4e0c-9c18-140c63d1edba\" target=\"_top\" title=\"psysml:eeb68ac4-2ad3-4e0c-9c18-140c63d1edba\" xlink:actuate=\"onRequest\" xlink:href=\"psysml:eeb68ac4-2ad3-4e0c-9c18-140c63d1edba\" xlink:show=\"new\" xlink:title=\"psysml:eeb68ac4-2ad3-4e0c-9c18-140c63d1edba\" xlink:type=\"simple\"><rect fill=\"#FEFECE\" filter=\"url(#f1u8drp1fkd3ls)\" height=\"45.9375\" id=\"E3\" rx=\"10\" ry=\"10\" style=\"stroke: #A80036; stroke-width: 1.5;\" width=\"101\" x=\"143\" y=\"155\"/><text fill=\"#000000\" font-family=\"sans-serif\" font-size=\"12\" font-style=\"italic\" lengthAdjust=\"spacingAndGlyphs\" textLength=\"99\" x=\"144\" y=\"171.1387\">«decisionNode»</text><text fill=\"#000000\" font-family=\"sans-serif\" font-size=\"12\" lengthAdjust=\"spacingAndGlyphs\" text-decoration=\"line-through\" textLength=\"51\" x=\"168\" y=\"185.1074\">noname</text><line style=\"stroke: #A80036; stroke-width: 1.5;\" x1=\"144\" x2=\"243\" y1=\"192.9375\" y2=\"192.9375\"/></a><!--MD5=[ebbe1d658d1005bcc118a6aa81145e00]\n",
       "class E4--><a href=\"psysml:86b53981-b1ee-4c30-93d6-edfc048c3f3e\" target=\"_top\" title=\"psysml:86b53981-b1ee-4c30-93d6-edfc048c3f3e\" xlink:actuate=\"onRequest\" xlink:href=\"psysml:86b53981-b1ee-4c30-93d6-edfc048c3f3e\" xlink:show=\"new\" xlink:title=\"psysml:86b53981-b1ee-4c30-93d6-edfc048c3f3e\" xlink:type=\"simple\"><rect fill=\"#FEFECE\" filter=\"url(#f1u8drp1fkd3ls)\" height=\"45.9375\" id=\"E4\" rx=\"10\" ry=\"10\" style=\"stroke: #A80036; stroke-width: 1.5;\" width=\"55\" x=\"279\" y=\"155\"/><text fill=\"#000000\" font-family=\"sans-serif\" font-size=\"12\" font-style=\"italic\" lengthAdjust=\"spacingAndGlyphs\" textLength=\"53\" x=\"280\" y=\"171.1387\">«action»</text><text fill=\"#000000\" font-family=\"sans-serif\" font-size=\"12\" lengthAdjust=\"spacingAndGlyphs\" textLength=\"16\" x=\"298.5\" y=\"185.1074\">A1</text><line style=\"stroke: #A80036; stroke-width: 1.5;\" x1=\"280\" x2=\"333\" y1=\"192.9375\" y2=\"192.9375\"/></a><!--MD5=[270fce915f116d4de14055a7c1d9a0f3]\n",
       "class E5--><a href=\"psysml:38b4e12b-2856-48b1-8683-970a7e146d76\" target=\"_top\" title=\"psysml:38b4e12b-2856-48b1-8683-970a7e146d76\" xlink:actuate=\"onRequest\" xlink:href=\"psysml:38b4e12b-2856-48b1-8683-970a7e146d76\" xlink:show=\"new\" xlink:title=\"psysml:38b4e12b-2856-48b1-8683-970a7e146d76\" xlink:type=\"simple\"><rect fill=\"#FEFECE\" filter=\"url(#f1u8drp1fkd3ls)\" height=\"45.9375\" id=\"E5\" rx=\"10\" ry=\"10\" style=\"stroke: #A80036; stroke-width: 1.5;\" width=\"55\" x=\"369\" y=\"155\"/><text fill=\"#000000\" font-family=\"sans-serif\" font-size=\"12\" font-style=\"italic\" lengthAdjust=\"spacingAndGlyphs\" textLength=\"53\" x=\"370\" y=\"171.1387\">«action»</text><text fill=\"#000000\" font-family=\"sans-serif\" font-size=\"12\" lengthAdjust=\"spacingAndGlyphs\" textLength=\"16\" x=\"388.5\" y=\"185.1074\">A2</text><line style=\"stroke: #A80036; stroke-width: 1.5;\" x1=\"370\" x2=\"423\" y1=\"192.9375\" y2=\"192.9375\"/></a><!--MD5=[60a26617385b1d2d0262a64233df1f8d]\n",
       "class E6--><a href=\"psysml:3ceea1c4-b769-4e45-b22d-b9b14232dc11\" target=\"_top\" title=\"psysml:3ceea1c4-b769-4e45-b22d-b9b14232dc11\" xlink:actuate=\"onRequest\" xlink:href=\"psysml:3ceea1c4-b769-4e45-b22d-b9b14232dc11\" xlink:show=\"new\" xlink:title=\"psysml:3ceea1c4-b769-4e45-b22d-b9b14232dc11\" xlink:type=\"simple\"><rect fill=\"#FEFECE\" filter=\"url(#f1u8drp1fkd3ls)\" height=\"45.9375\" id=\"E6\" rx=\"10\" ry=\"10\" style=\"stroke: #A80036; stroke-width: 1.5;\" width=\"55\" x=\"459\" y=\"155\"/><text fill=\"#000000\" font-family=\"sans-serif\" font-size=\"12\" font-style=\"italic\" lengthAdjust=\"spacingAndGlyphs\" textLength=\"53\" x=\"460\" y=\"171.1387\">«action»</text><text fill=\"#000000\" font-family=\"sans-serif\" font-size=\"12\" lengthAdjust=\"spacingAndGlyphs\" textLength=\"16\" x=\"478.5\" y=\"185.1074\">A3</text><line style=\"stroke: #A80036; stroke-width: 1.5;\" x1=\"460\" x2=\"513\" y1=\"192.9375\" y2=\"192.9375\"/></a><!--MD5=[a523cb2a0b79ecf9065ad8783f96c320]\n",
       "reverse link E1 to E2--><a href=\"psysml:3f40863b-0a66-456a-a380-cfd414bf0804\" target=\"_top\" title=\"psysml:3f40863b-0a66-456a-a380-cfd414bf0804\" xlink:actuate=\"onRequest\" xlink:href=\"psysml:3f40863b-0a66-456a-a380-cfd414bf0804\" xlink:show=\"new\" xlink:title=\"psysml:3f40863b-0a66-456a-a380-cfd414bf0804\" xlink:type=\"simple\"><path d=\"M296.33,75.46 C242.25,98.45 160.52,133.2 108.08,155.49 \" fill=\"none\" id=\"E1&lt;-E2\" style=\"stroke: #A80036; stroke-width: 1.0;\"/><polygon fill=\"#A80036\" points=\"308.44,70.31,301.3531,68.9775,297.3973,75.0068,304.4843,76.3393,308.44,70.31\" style=\"stroke: #A80036; stroke-width: 1.0;\"/></a><!--MD5=[5d7b3810b1dd9b5164bea1151b29b665]\n",
       "reverse link E1 to E3--><a href=\"psysml:e2578a6b-d48b-4dd6-b58c-18f093f1f29f\" target=\"_top\" title=\"psysml:e2578a6b-d48b-4dd6-b58c-18f093f1f29f\" xlink:actuate=\"onRequest\" xlink:href=\"psysml:e2578a6b-d48b-4dd6-b58c-18f093f1f29f\" xlink:show=\"new\" xlink:title=\"psysml:e2578a6b-d48b-4dd6-b58c-18f093f1f29f\" xlink:type=\"simple\"><path d=\"M298.01,94.32 C272.42,114.56 242.83,137.98 221.68,154.71 \" fill=\"none\" id=\"E1&lt;-E3\" style=\"stroke: #A80036; stroke-width: 1.0;\"/><polygon fill=\"#A80036\" points=\"308.33,86.16,301.1423,86.7403,298.9134,93.5983,306.1011,93.018,308.33,86.16\" style=\"stroke: #A80036; stroke-width: 1.0;\"/></a><!--MD5=[f2c5c03aa1e8c0ba21c10a05e6444b8e]\n",
       "reverse link E1 to E4--><a href=\"psysml:7583b8d6-81fb-44fd-88ce-ec05d2d7f8f3\" target=\"_top\" title=\"psysml:7583b8d6-81fb-44fd-88ce-ec05d2d7f8f3\" xlink:actuate=\"onRequest\" xlink:href=\"psysml:7583b8d6-81fb-44fd-88ce-ec05d2d7f8f3\" xlink:show=\"new\" xlink:title=\"psysml:7583b8d6-81fb-44fd-88ce-ec05d2d7f8f3\" xlink:type=\"simple\"><path d=\"M331.48,107.62 C325.45,124.37 319.17,141.79 314.42,154.99 \" fill=\"none\" id=\"E1&lt;-E4\" style=\"stroke: #A80036; stroke-width: 1.0;\"/><polygon fill=\"#A80036\" points=\"336.01,95.02,330.2148,99.3114,331.9472,106.3113,337.7424,102.0199,336.01,95.02\" style=\"stroke: #A80036; stroke-width: 1.0;\"/></a><!--MD5=[33238bef88d6431a141d8bc8fb12bca0]\n",
       "reverse link E1 to E5--><a href=\"psysml:1b62ef88-94e5-4ba0-8e17-6cec1f6133af\" target=\"_top\" title=\"psysml:1b62ef88-94e5-4ba0-8e17-6cec1f6133af\" xlink:actuate=\"onRequest\" xlink:href=\"psysml:1b62ef88-94e5-4ba0-8e17-6cec1f6133af\" xlink:show=\"new\" xlink:title=\"psysml:1b62ef88-94e5-4ba0-8e17-6cec1f6133af\" xlink:type=\"simple\"><path d=\"M371.52,107.62 C377.55,124.37 383.83,141.79 388.58,154.99 \" fill=\"none\" id=\"E1&lt;-E5\" style=\"stroke: #A80036; stroke-width: 1.0;\"/><polygon fill=\"#A80036\" points=\"366.99,95.02,365.2576,102.0199,371.0528,106.3113,372.7852,99.3114,366.99,95.02\" style=\"stroke: #A80036; stroke-width: 1.0;\"/></a><!--MD5=[aca2ef284c2b1b90e17e73bf3f292c07]\n",
       "reverse link E1 to E6--><a href=\"psysml:6d478a35-76b8-45be-be82-2204dec34e47\" target=\"_top\" title=\"psysml:6d478a35-76b8-45be-be82-2204dec34e47\" xlink:actuate=\"onRequest\" xlink:href=\"psysml:6d478a35-76b8-45be-be82-2204dec34e47\" xlink:show=\"new\" xlink:title=\"psysml:6d478a35-76b8-45be-be82-2204dec34e47\" xlink:type=\"simple\"><path d=\"M395.37,104.28 C416.15,124.08 440.2,145.28 458.62,159.65 \" fill=\"none\" id=\"E1&lt;-E6\" style=\"stroke: #A80036; stroke-width: 1.0;\"/><polygon fill=\"#A80036\" points=\"385.78,95.02,387.315,102.0658,394.4092,103.3589,392.8742,96.3131,385.78,95.02\" style=\"stroke: #A80036; stroke-width: 1.0;\"/></a><!--MD5=[aca2ef284c2b1b90e17e73bf3f292c07]\n",
       "reverse link E1 to E6--><a href=\"psysml:637c00ed-dc37-460b-98af-77d0acff244f\" target=\"_top\" title=\"psysml:637c00ed-dc37-460b-98af-77d0acff244f\" xlink:actuate=\"onRequest\" xlink:href=\"psysml:637c00ed-dc37-460b-98af-77d0acff244f\" xlink:show=\"new\" xlink:title=\"psysml:637c00ed-dc37-460b-98af-77d0acff244f\" xlink:type=\"simple\"><path d=\"M404.85,89.81 C429.61,111.09 456.86,136.91 473.23,154.91 \" fill=\"none\" id=\"E1&lt;-E6-1\" style=\"stroke: #A80036; stroke-width: 1.0;\"/><polygon fill=\"#FFFFFF\" points=\"394.79,81.31,396.787,88.2391,403.9511,89.0607,401.9541,82.1316,394.79,81.31\" style=\"stroke: #A80036; stroke-width: 1.0;\"/></a><!--MD5=[0965d8bc0ff9119b87533f75aa8d2e69]\n",
       "@startuml\r\n",
       "skinparam wrapWidth 300\r\n",
       "hide circle\r\n",
       "\r\n",
       "comp def \"DecisionTest\" as E1  <<(T,blue) action def>> [[psysml:068a4463-a96d-4165-a2bc-cadf70a9bc09 ]] {\r\n",
       "x=1; \r\n",
       "- - transitions - -\r\n",
       "S\r\n",
       "}\r\n",
       "comp usage \"test x\" as E2  <<(T,blue) decisionNode>> [[psysml:44ee9e06-5fd9-46bf-b0f8-00dd693073b7 ]] {\r\n",
       "}\r\n",
       "comp usage \"<s>noname</s>\" as E3  <<(T,blue) decisionNode>> [[psysml:eeb68ac4-2ad3-4e0c-9c18-140c63d1edba ]] {\r\n",
       "}\r\n",
       "comp usage \"A1\" as E4  <<(T,blue) action>> [[psysml:86b53981-b1ee-4c30-93d6-edfc048c3f3e ]] {\r\n",
       "}\r\n",
       "comp usage \"A2\" as E5  <<(T,blue) action>> [[psysml:38b4e12b-2856-48b1-8683-970a7e146d76 ]] {\r\n",
       "}\r\n",
       "comp usage \"A3\" as E6  <<(T,blue) action>> [[psysml:3ceea1c4-b769-4e45-b22d-b9b14232dc11 ]] {\r\n",
       "}\r\n",
       "E1 *- - E2 [[psysml:3f40863b-0a66-456a-a380-cfd414bf0804 ]] \r\n",
       "E1 *- - E3 [[psysml:e2578a6b-d48b-4dd6-b58c-18f093f1f29f ]] \r\n",
       "E1 *- - E4 [[psysml:7583b8d6-81fb-44fd-88ce-ec05d2d7f8f3 ]] \r\n",
       "E1 *- - E5 [[psysml:1b62ef88-94e5-4ba0-8e17-6cec1f6133af ]] \r\n",
       "E1 *- - E6 [[psysml:6d478a35-76b8-45be-be82-2204dec34e47 ]] \r\n",
       "E1 o- - E6 [[psysml:637c00ed-dc37-460b-98af-77d0acff244f ]] \r\n",
       "@enduml\r\n",
       "\n",
       "PlantUML version 1.2020.13(Sat Jun 13 12:26:38 UTC 2020)\n",
       "(EPL source distribution)\n",
       "Java Runtime: OpenJDK Runtime Environment\n",
       "JVM: OpenJDK 64-Bit Server VM\n",
       "Default Encoding: UTF-8\n",
       "Language: en\n",
       "Country: null\n",
       "--></g></svg>"
      ]
     },
     "execution_count": 28,
     "metadata": {},
     "output_type": "execute_result"
    }
   ],
   "source": [
    "%viz --style=\"STDCOLOR\" --view=\"Sequence\" \"DecisionTest\""
   ]
  },
  {
   "cell_type": "code",
   "execution_count": 29,
   "id": "5e36d66c",
   "metadata": {
    "execution": {
     "iopub.execute_input": "2021-06-30T09:20:29.635330Z",
     "iopub.status.busy": "2021-06-30T09:20:29.634427Z",
     "iopub.status.idle": "2021-06-30T09:20:29.673117Z",
     "shell.execute_reply": "2021-06-30T09:20:29.671510Z"
    }
   },
   "outputs": [
    {
     "data": {
      "image/svg+xml": [
       "<?xml version=\"1.0\" encoding=\"UTF-8\" standalone=\"no\"?><svg xmlns=\"http://www.w3.org/2000/svg\" xmlns:xlink=\"http://www.w3.org/1999/xlink\" contentScriptType=\"application/ecmascript\" contentStyleType=\"text/css\" height=\"496px\" preserveAspectRatio=\"none\" style=\"width:341px;height:496px;\" version=\"1.1\" viewBox=\"0 0 341 496\" width=\"341px\" zoomAndPan=\"magnify\"><defs><filter height=\"300%\" id=\"f1u6ereqj957p4\" width=\"300%\" x=\"-1\" y=\"-1\"><feGaussianBlur result=\"blurOut\" stdDeviation=\"2.0\"/><feColorMatrix in=\"blurOut\" result=\"blurOut2\" type=\"matrix\" values=\"0 0 0 0 0 0 0 0 0 0 0 0 0 0 0 0 0 0 .4 0\"/><feOffset dx=\"4.0\" dy=\"4.0\" in=\"blurOut2\" result=\"blurOut3\"/><feBlend in=\"SourceGraphic\" in2=\"blurOut3\" mode=\"normal\"/></filter></defs><g><!--MD5=[fbc87193dbaf4d95561dea2c320d4a47]\n",
       "cluster E1--><a href=\"psysml:068a4463-a96d-4165-a2bc-cadf70a9bc09\" target=\"_top\" title=\"psysml:068a4463-a96d-4165-a2bc-cadf70a9bc09\" xlink:actuate=\"onRequest\" xlink:href=\"psysml:068a4463-a96d-4165-a2bc-cadf70a9bc09\" xlink:show=\"new\" xlink:title=\"psysml:068a4463-a96d-4165-a2bc-cadf70a9bc09\" xlink:type=\"simple\"><rect fill=\"#FFFFFF\" filter=\"url(#f1u6ereqj957p4)\" height=\"470\" id=\"E1\" style=\"stroke: #A80036; stroke-width: 1.5;\" width=\"315\" x=\"7\" y=\"7\"/><rect fill=\"#FEFECE\" height=\"37.9375\" style=\"stroke: #A80036; stroke-width: 1.5;\" width=\"315\" x=\"7\" y=\"7\"/><text fill=\"#000000\" font-family=\"sans-serif\" font-size=\"12\" font-style=\"italic\" lengthAdjust=\"spacingAndGlyphs\" textLength=\"77\" x=\"126\" y=\"23.1387\">«action def»</text><text fill=\"#000000\" font-family=\"sans-serif\" font-size=\"12\" lengthAdjust=\"spacingAndGlyphs\" textLength=\"80\" x=\"124.5\" y=\"37.1074\">DecisionTest</text></a><polygon fill=\"#FEFECE\" filter=\"url(#f1u6ereqj957p4)\" points=\"210,67.5,222,79.5,210,91.5,198,79.5,210,67.5\" style=\"stroke: #A80036; stroke-width: 1.5;\"/><polygon fill=\"#FEFECE\" filter=\"url(#f1u6ereqj957p4)\" points=\"35,187.5,47,199.5,35,211.5,23,199.5,35,187.5\" style=\"stroke: #A80036; stroke-width: 1.5;\"/><g id=\"E1.E4\"><a href=\"psysml:86b53981-b1ee-4c30-93d6-edfc048c3f3e\" target=\"_top\" title=\"psysml:86b53981-b1ee-4c30-93d6-edfc048c3f3e\" xlink:actuate=\"onRequest\" xlink:href=\"psysml:86b53981-b1ee-4c30-93d6-edfc048c3f3e\" xlink:show=\"new\" xlink:title=\"psysml:86b53981-b1ee-4c30-93d6-edfc048c3f3e\" xlink:type=\"simple\"><rect fill=\"#FEFECE\" filter=\"url(#f1u6ereqj957p4)\" height=\"42.9375\" id=\"E4\" rx=\"10\" ry=\"10\" style=\"stroke: #A80036; stroke-width: 1.5;\" width=\"60\" x=\"135\" y=\"298\"/><text fill=\"#000000\" font-family=\"sans-serif\" font-size=\"12\" font-style=\"italic\" lengthAdjust=\"spacingAndGlyphs\" textLength=\"53\" x=\"138.5\" y=\"314.1387\">«action»</text><text fill=\"#000000\" font-family=\"sans-serif\" font-size=\"12\" lengthAdjust=\"spacingAndGlyphs\" textLength=\"16\" x=\"157\" y=\"328.1074\">A1</text></a></g><g id=\"E1.E5\"><a href=\"psysml:38b4e12b-2856-48b1-8683-970a7e146d76\" target=\"_top\" title=\"psysml:38b4e12b-2856-48b1-8683-970a7e146d76\" xlink:actuate=\"onRequest\" xlink:href=\"psysml:38b4e12b-2856-48b1-8683-970a7e146d76\" xlink:show=\"new\" xlink:title=\"psysml:38b4e12b-2856-48b1-8683-970a7e146d76\" xlink:type=\"simple\"><rect fill=\"#FEFECE\" filter=\"url(#f1u6ereqj957p4)\" height=\"42.9375\" id=\"E5\" rx=\"10\" ry=\"10\" style=\"stroke: #A80036; stroke-width: 1.5;\" width=\"60\" x=\"135\" y=\"418\"/><text fill=\"#000000\" font-family=\"sans-serif\" font-size=\"12\" font-style=\"italic\" lengthAdjust=\"spacingAndGlyphs\" textLength=\"53\" x=\"138.5\" y=\"434.1387\">«action»</text><text fill=\"#000000\" font-family=\"sans-serif\" font-size=\"12\" lengthAdjust=\"spacingAndGlyphs\" textLength=\"16\" x=\"157\" y=\"448.1074\">A2</text></a></g><g id=\"E1.E6\"><a href=\"psysml:3ceea1c4-b769-4e45-b22d-b9b14232dc11\" target=\"_top\" title=\"psysml:3ceea1c4-b769-4e45-b22d-b9b14232dc11\" xlink:actuate=\"onRequest\" xlink:href=\"psysml:3ceea1c4-b769-4e45-b22d-b9b14232dc11\" xlink:show=\"new\" xlink:title=\"psysml:3ceea1c4-b769-4e45-b22d-b9b14232dc11\" xlink:type=\"simple\"><rect fill=\"#FEFECE\" filter=\"url(#f1u6ereqj957p4)\" height=\"42.9375\" id=\"E6\" rx=\"10\" ry=\"10\" style=\"stroke: #A80036; stroke-width: 1.5;\" width=\"60\" x=\"63\" y=\"58\"/><text fill=\"#000000\" font-family=\"sans-serif\" font-size=\"12\" font-style=\"italic\" lengthAdjust=\"spacingAndGlyphs\" textLength=\"53\" x=\"66.5\" y=\"74.1387\">«action»</text><text fill=\"#000000\" font-family=\"sans-serif\" font-size=\"12\" lengthAdjust=\"spacingAndGlyphs\" textLength=\"16\" x=\"85\" y=\"88.1074\">A3</text></a></g><g id=\"E1.E7\"><a href=\"psysml:3ceea1c4-b769-4e45-b22d-b9b14232dc11\" target=\"_top\" title=\"psysml:3ceea1c4-b769-4e45-b22d-b9b14232dc11\" xlink:actuate=\"onRequest\" xlink:href=\"psysml:3ceea1c4-b769-4e45-b22d-b9b14232dc11\" xlink:show=\"new\" xlink:title=\"psysml:3ceea1c4-b769-4e45-b22d-b9b14232dc11\" xlink:type=\"simple\"><rect fill=\"#FEFECE\" filter=\"url(#f1u6ereqj957p4)\" height=\"42.9375\" id=\"E7\" rx=\"10\" ry=\"10\" style=\"stroke: #A80036; stroke-width: 1.5;\" width=\"60\" x=\"246\" y=\"178\"/><text fill=\"#000000\" font-family=\"sans-serif\" font-size=\"12\" font-style=\"italic\" lengthAdjust=\"spacingAndGlyphs\" textLength=\"53\" x=\"249.5\" y=\"194.1387\">«action»</text><text fill=\"#000000\" font-family=\"sans-serif\" font-size=\"12\" lengthAdjust=\"spacingAndGlyphs\" textLength=\"16\" x=\"268\" y=\"208.1074\">A3</text></a></g><!--MD5=[4d03bb2d0377dc85ccfab60ff574652b]\n",
       "link E2 to E4--><a href=\"psysml:5839aeb0-dd7d-4257-be26-6d697b84d54b\" target=\"_top\" title=\"psysml:5839aeb0-dd7d-4257-be26-6d697b84d54b\" xlink:actuate=\"onRequest\" xlink:href=\"psysml:5839aeb0-dd7d-4257-be26-6d697b84d54b\" xlink:show=\"new\" xlink:title=\"psysml:5839aeb0-dd7d-4257-be26-6d697b84d54b\" xlink:type=\"simple\"><path d=\"M204.45,86 C190.88,99.89 156.22,138.13 144,178 C132.04,217.01 144.31,264.27 154.48,292.83 \" fill=\"none\" id=\"E2-&gt;E4\" style=\"stroke: #A80036; stroke-width: 1.0;\"/><polygon fill=\"#A80036\" points=\"156.22,297.6,156.8939,287.7742,154.5067,292.9027,149.3782,290.5155,156.22,297.6\" style=\"stroke: #A80036; stroke-width: 1.0;\"/><text fill=\"#000000\" font-family=\"sans-serif\" font-size=\"13\" lengthAdjust=\"spacingAndGlyphs\" textLength=\"55\" x=\"145\" y=\"204.0669\">[x == 1]</text></a><!--MD5=[dcad52bbbca2fe8adc741ce38b45dc12]\n",
       "link E2 to E5--><a href=\"psysml:6472265e-4329-42f9-a73f-b0fdd653d81d\" target=\"_top\" title=\"psysml:6472265e-4329-42f9-a73f-b0fdd653d81d\" xlink:actuate=\"onRequest\" xlink:href=\"psysml:6472265e-4329-42f9-a73f-b0fdd653d81d\" xlink:show=\"new\" xlink:title=\"psysml:6472265e-4329-42f9-a73f-b0fdd653d81d\" xlink:type=\"simple\"><path d=\"M210.67,90.83 C214.08,143.62 229.24,381.12 226,388 C220.27,400.19 209.98,410.45 199.48,418.47 \" fill=\"none\" id=\"E2-&gt;E5\" style=\"stroke: #A80036; stroke-width: 1.0;\"/><polygon fill=\"#A80036\" points=\"195.29,421.54,204.9073,419.4168,199.3138,418.5721,200.1586,412.9786,195.29,421.54\" style=\"stroke: #A80036; stroke-width: 1.0;\"/><text fill=\"#000000\" font-family=\"sans-serif\" font-size=\"13\" lengthAdjust=\"spacingAndGlyphs\" textLength=\"44\" x=\"222\" y=\"264.0669\">[x &gt; 1]</text></a><!--MD5=[e3d2a08a9c9236652057e8ed0cbc9b62]\n",
       "link E2 to E7--><a href=\"psysml:3c10905a-0cf4-4572-9b68-27220c544656\" target=\"_top\" title=\"psysml:3c10905a-0cf4-4572-9b68-27220c544656\" xlink:actuate=\"onRequest\" xlink:href=\"psysml:3c10905a-0cf4-4572-9b68-27220c544656\" xlink:show=\"new\" xlink:title=\"psysml:3c10905a-0cf4-4572-9b68-27220c544656\" xlink:type=\"simple\"><path d=\"M210.1,91.71 C210.67,105.71 213.16,129.99 223,148 C228.29,157.68 236.08,166.6 244.08,174.17 \" fill=\"none\" id=\"E2-&gt;E7\" style=\"stroke: #A80036; stroke-width: 1.0;\"/><polygon fill=\"#A80036\" points=\"248.01,177.77,244.069,168.744,244.3207,174.3953,238.6694,174.6469,248.01,177.77\" style=\"stroke: #A80036; stroke-width: 1.0;\"/></a><!--MD5=[583832df87f4419a098336a29a52fa00]\n",
       "link E7 to E2--><a href=\"psysml:2ecae6e1-cb24-4407-809b-df9594bdb8fa\" target=\"_top\" title=\"psysml:2ecae6e1-cb24-4407-809b-df9594bdb8fa\" xlink:actuate=\"onRequest\" xlink:href=\"psysml:2ecae6e1-cb24-4407-809b-df9594bdb8fa\" xlink:show=\"new\" xlink:title=\"psysml:2ecae6e1-cb24-4407-809b-df9594bdb8fa\" xlink:type=\"simple\"><path d=\"M264.3,177.59 C250.41,152.74 227.7,112.15 216.57,92.25 \" fill=\"none\" id=\"E7-&gt;E2\" style=\"stroke: #A80036; stroke-width: 1.0;\"/><polygon fill=\"#A80036\" points=\"214.13,87.88,215.0286,97.6878,216.5691,92.2447,222.0122,93.7852,214.13,87.88\" style=\"stroke: #A80036; stroke-width: 1.0;\"/><text fill=\"#000000\" font-family=\"sans-serif\" font-size=\"13\" lengthAdjust=\"spacingAndGlyphs\" textLength=\"44\" x=\"247\" y=\"144.0669\">[x &gt; 0]</text></a><!--MD5=[2720a5a1f2c3fca2055b230370638851]\n",
       "link E2 to E3--><a href=\"psysml:4534ef33-8eda-405a-b2f5-6c95fd446375\" target=\"_top\" title=\"psysml:4534ef33-8eda-405a-b2f5-6c95fd446375\" xlink:actuate=\"onRequest\" xlink:href=\"psysml:4534ef33-8eda-405a-b2f5-6c95fd446375\" xlink:show=\"new\" xlink:title=\"psysml:4534ef33-8eda-405a-b2f5-6c95fd446375\" xlink:type=\"simple\"><path d=\"M201.9,83.58 C184.06,90.55 140.39,108.7 108,131 C82.49,148.57 56.88,174.67 43.84,188.71 \" fill=\"none\" id=\"E2-&gt;E3\" style=\"stroke: #A80036; stroke-width: 1.0;\"/><polygon fill=\"#A80036\" points=\"40.21,192.66,49.2443,188.738,43.5925,188.9778,43.3527,183.326,40.21,192.66\" style=\"stroke: #A80036; stroke-width: 1.0;\"/></a><!--MD5=[af87c684e3b0d8be13c1a698a818ef1e]\n",
       "link E3 to E4--><a href=\"psysml:4cb33783-cb85-4624-8a6d-789ab5e27309\" target=\"_top\" title=\"psysml:4cb33783-cb85-4624-8a6d-789ab5e27309\" xlink:actuate=\"onRequest\" xlink:href=\"psysml:4cb33783-cb85-4624-8a6d-789ab5e27309\" xlink:show=\"new\" xlink:title=\"psysml:4cb33783-cb85-4624-8a6d-789ab5e27309\" xlink:type=\"simple\"><path d=\"M39.08,207.91 C46.63,221.15 63.87,249.24 84,268 C97.73,280.8 115.17,292.16 130.35,300.85 \" fill=\"none\" id=\"E3-&gt;E4\" style=\"stroke: #A80036; stroke-width: 1.0;\"/><polygon fill=\"#A80036\" points=\"134.98,303.46,129.0858,295.5696,130.6187,301.0148,125.1735,302.5477,134.98,303.46\" style=\"stroke: #A80036; stroke-width: 1.0;\"/><text fill=\"#000000\" font-family=\"sans-serif\" font-size=\"13\" lengthAdjust=\"spacingAndGlyphs\" textLength=\"36\" x=\"85\" y=\"264.0669\">[true]</text></a><!--MD5=[0188b64bb0ae78505a997a81836e11e9]\n",
       "link E3 to E5--><a href=\"psysml:7566f218-2e4c-4b1d-8134-f6de9f4cb12f\" target=\"_top\" title=\"psysml:7566f218-2e4c-4b1d-8134-f6de9f4cb12f\" xlink:actuate=\"onRequest\" xlink:href=\"psysml:7566f218-2e4c-4b1d-8134-f6de9f4cb12f\" xlink:show=\"new\" xlink:title=\"psysml:7566f218-2e4c-4b1d-8134-f6de9f4cb12f\" xlink:type=\"simple\"><path d=\"M36.3,210.29 C39.76,234.03 50.73,296.03 76,341 C91.89,369.29 117.42,396.1 137.07,414.43 \" fill=\"none\" id=\"E3-&gt;E5\" style=\"stroke: #A80036; stroke-width: 1.0;\"/><polygon fill=\"#A80036\" points=\"140.92,417.98,137.0155,408.9382,137.2443,414.5904,131.5921,414.8192,140.92,417.98\" style=\"stroke: #A80036; stroke-width: 1.0;\"/><text fill=\"#000000\" font-family=\"sans-serif\" font-size=\"13\" lengthAdjust=\"spacingAndGlyphs\" textLength=\"40\" x=\"77\" y=\"324.0669\">[false]</text></a><!--MD5=[1b7591eae5389033d8d09a9d6721a717]\n",
       "link E4 to E5--><a href=\"psysml:2ec4d8de-ba31-4f08-a58c-ce574f556666\" target=\"_top\" title=\"psysml:2ec4d8de-ba31-4f08-a58c-ce574f556666\" xlink:actuate=\"onRequest\" xlink:href=\"psysml:2ec4d8de-ba31-4f08-a58c-ce574f556666\" xlink:show=\"new\" xlink:title=\"psysml:2ec4d8de-ba31-4f08-a58c-ce574f556666\" xlink:type=\"simple\"><path d=\"M165,341.05 C165,360.9 165,391.02 165,412.52 \" fill=\"none\" id=\"E4-&gt;E5\" style=\"stroke: #A80036; stroke-width: 1.0;\"/><polygon fill=\"#A80036\" points=\"165,417.79,169,408.79,165,412.79,161,408.79,165,417.79\" style=\"stroke: #A80036; stroke-width: 1.0;\"/><text fill=\"#000000\" font-family=\"sans-serif\" font-size=\"13\" lengthAdjust=\"spacingAndGlyphs\" textLength=\"55\" x=\"166\" y=\"384.0669\">[x == 0]</text></a><!--MD5=[8edddc77450442f9a1f30f3df8977c49]\n",
       "@startuml\r\n",
       "skinparam wrapWidth 300\r\n",
       "hide circle\r\n",
       "\r\n",
       "rec def \"DecisionTest\" as E1  <<(T,blue) action def>> [[psysml:068a4463-a96d-4165-a2bc-cadf70a9bc09 ]] {\r\n",
       "choice \"test x\" as E2  [[psysml:44ee9e06-5fd9-46bf-b0f8-00dd693073b7 ]] \r\n",
       "choice \"noname\" as E3  [[psysml:eeb68ac4-2ad3-4e0c-9c18-140c63d1edba ]] \r\n",
       "rec usage \"A1\" as E4  <<(T,blue) action>> [[psysml:86b53981-b1ee-4c30-93d6-edfc048c3f3e ]] {\r\n",
       "}\r\n",
       "\r\n",
       "rec usage \"A2\" as E5  <<(T,blue) action>> [[psysml:38b4e12b-2856-48b1-8683-970a7e146d76 ]] {\r\n",
       "}\r\n",
       "\r\n",
       "rec usage \"A3\" as E6  <<(T,blue) action>> [[psysml:3ceea1c4-b769-4e45-b22d-b9b14232dc11 ]] {\r\n",
       "}\r\n",
       "\r\n",
       "rec usage \"A3\" as E7  <<(T,blue) action>> [[psysml:3ceea1c4-b769-4e45-b22d-b9b14232dc11 ]] {\r\n",
       "}\r\n",
       "\r\n",
       "}\r\n",
       "\r\n",
       "E2  - -> E4 [[psysml:5839aeb0-dd7d-4257-be26-6d697b84d54b ]] : [x == 1]\r\n",
       "E2  - -> E5 [[psysml:6472265e-4329-42f9-a73f-b0fdd653d81d ]] : [x > 1]\r\n",
       "E2  - -> E7 [[psysml:3c10905a-0cf4-4572-9b68-27220c544656 ]] \r\n",
       "E2 - -> E3 [[psysml:4534ef33-8eda-405a-b2f5-6c95fd446375 ]] \r\n",
       "E3  - -> E4 [[psysml:4cb33783-cb85-4624-8a6d-789ab5e27309 ]] : [true]\r\n",
       "E3  - -> E5 [[psysml:7566f218-2e4c-4b1d-8134-f6de9f4cb12f ]] : [false]\r\n",
       "E4  - -> E5 [[psysml:2ec4d8de-ba31-4f08-a58c-ce574f556666 ]] : [x == 0]\r\n",
       "E7  - -> E2 [[psysml:2ecae6e1-cb24-4407-809b-df9594bdb8fa ]] : [x > 0]\r\n",
       "@enduml\r\n",
       "\n",
       "PlantUML version 1.2020.13(Sat Jun 13 12:26:38 UTC 2020)\n",
       "(EPL source distribution)\n",
       "Java Runtime: OpenJDK Runtime Environment\n",
       "JVM: OpenJDK 64-Bit Server VM\n",
       "Default Encoding: UTF-8\n",
       "Language: en\n",
       "Country: null\n",
       "--></g></svg>"
      ]
     },
     "execution_count": 29,
     "metadata": {},
     "output_type": "execute_result"
    }
   ],
   "source": [
    "%viz --style=\"STDCOLOR\" --view=\"MIXED\" \"DecisionTest\""
   ]
  },
  {
   "cell_type": "code",
   "execution_count": 30,
   "id": "10ccaa81",
   "metadata": {
    "execution": {
     "iopub.execute_input": "2021-06-30T09:20:29.724184Z",
     "iopub.status.busy": "2021-06-30T09:20:29.723466Z",
     "iopub.status.idle": "2021-06-30T09:20:29.798026Z",
     "shell.execute_reply": "2021-06-30T09:20:29.795905Z"
    }
   },
   "outputs": [
    {
     "data": {
      "image/svg+xml": [
       "<?xml version=\"1.0\" encoding=\"UTF-8\" standalone=\"no\"?><svg xmlns=\"http://www.w3.org/2000/svg\" xmlns:xlink=\"http://www.w3.org/1999/xlink\" contentScriptType=\"application/ecmascript\" contentStyleType=\"text/css\" height=\"496px\" preserveAspectRatio=\"none\" style=\"width:367px;height:496px;\" version=\"1.1\" viewBox=\"0 0 367 496\" width=\"367px\" zoomAndPan=\"magnify\"><defs><filter height=\"300%\" id=\"fvuugk65ojx77\" width=\"300%\" x=\"-1\" y=\"-1\"><feGaussianBlur result=\"blurOut\" stdDeviation=\"2.0\"/><feColorMatrix in=\"blurOut\" result=\"blurOut2\" type=\"matrix\" values=\"0 0 0 0 0 0 0 0 0 0 0 0 0 0 0 0 0 0 .4 0\"/><feOffset dx=\"4.0\" dy=\"4.0\" in=\"blurOut2\" result=\"blurOut3\"/><feBlend in=\"SourceGraphic\" in2=\"blurOut3\" mode=\"normal\"/></filter></defs><g><!--MD5=[fbc87193dbaf4d95561dea2c320d4a47]\n",
       "cluster E1--><a href=\"psysml:068a4463-a96d-4165-a2bc-cadf70a9bc09\" target=\"_top\" title=\"psysml:068a4463-a96d-4165-a2bc-cadf70a9bc09\" xlink:actuate=\"onRequest\" xlink:href=\"psysml:068a4463-a96d-4165-a2bc-cadf70a9bc09\" xlink:show=\"new\" xlink:title=\"psysml:068a4463-a96d-4165-a2bc-cadf70a9bc09\" xlink:type=\"simple\"><rect fill=\"#FFFFFF\" filter=\"url(#fvuugk65ojx77)\" height=\"470\" id=\"E1\" style=\"stroke: #A80036; stroke-width: 1.5;\" width=\"341\" x=\"7\" y=\"7\"/><rect fill=\"#FEFECE\" height=\"37.9375\" style=\"stroke: #A80036; stroke-width: 1.5;\" width=\"341\" x=\"7\" y=\"7\"/><text fill=\"#000000\" font-family=\"sans-serif\" font-size=\"12\" font-style=\"italic\" lengthAdjust=\"spacingAndGlyphs\" textLength=\"77\" x=\"139\" y=\"23.1387\">«action def»</text><text fill=\"#000000\" font-family=\"sans-serif\" font-size=\"12\" lengthAdjust=\"spacingAndGlyphs\" textLength=\"80\" x=\"137.5\" y=\"37.1074\">DecisionTest</text></a><polygon fill=\"#FEFECE\" filter=\"url(#fvuugk65ojx77)\" points=\"210,67.5,222,79.5,210,91.5,198,79.5,210,67.5\" style=\"stroke: #A80036; stroke-width: 1.5;\"/><polygon fill=\"#FEFECE\" filter=\"url(#fvuugk65ojx77)\" points=\"35,187.5,47,199.5,35,211.5,23,199.5,35,187.5\" style=\"stroke: #A80036; stroke-width: 1.5;\"/><g id=\"E1.E4\"><a href=\"psysml:86b53981-b1ee-4c30-93d6-edfc048c3f3e\" target=\"_top\" title=\"psysml:86b53981-b1ee-4c30-93d6-edfc048c3f3e\" xlink:actuate=\"onRequest\" xlink:href=\"psysml:86b53981-b1ee-4c30-93d6-edfc048c3f3e\" xlink:show=\"new\" xlink:title=\"psysml:86b53981-b1ee-4c30-93d6-edfc048c3f3e\" xlink:type=\"simple\"><rect fill=\"#FEFECE\" filter=\"url(#fvuugk65ojx77)\" height=\"42.9375\" id=\"E4\" rx=\"10\" ry=\"10\" style=\"stroke: #A80036; stroke-width: 1.5;\" width=\"86\" x=\"135\" y=\"298\"/><ellipse cx=\"152.25\" cy=\"316.9688\" fill=\"#FFA500\" rx=\"11\" ry=\"11\" style=\"stroke: #A80036; stroke-width: 1.0;\"/><path d=\"M148.125,318.8906 L148.125,311.0781 L150.5781,311.0781 L150.5781,319.5156 Q150.5781,320.4375 151.0469,320.9688 Q151.5313,321.5 152.3594,321.5 Q153.2031,321.5 153.6719,320.9688 Q154.1406,320.4375 154.1406,319.5156 L154.1406,311.0781 L156.5938,311.0781 L156.5938,318.8906 Q156.5938,321.4219 155.5938,322.5625 Q154.5938,323.7031 152.3594,323.7031 Q150.1406,323.7031 149.125,322.5625 Q148.125,321.4219 148.125,318.8906 Z \"/><text fill=\"#000000\" font-family=\"sans-serif\" font-size=\"12\" font-style=\"italic\" lengthAdjust=\"spacingAndGlyphs\" textLength=\"53\" x=\"164.75\" y=\"314.1387\">«action»</text><text fill=\"#000000\" font-family=\"sans-serif\" font-size=\"12\" lengthAdjust=\"spacingAndGlyphs\" textLength=\"16\" x=\"183.25\" y=\"328.1074\">A1</text></a></g><g id=\"E1.E5\"><a href=\"psysml:38b4e12b-2856-48b1-8683-970a7e146d76\" target=\"_top\" title=\"psysml:38b4e12b-2856-48b1-8683-970a7e146d76\" xlink:actuate=\"onRequest\" xlink:href=\"psysml:38b4e12b-2856-48b1-8683-970a7e146d76\" xlink:show=\"new\" xlink:title=\"psysml:38b4e12b-2856-48b1-8683-970a7e146d76\" xlink:type=\"simple\"><rect fill=\"#FEFECE\" filter=\"url(#fvuugk65ojx77)\" height=\"42.9375\" id=\"E5\" rx=\"10\" ry=\"10\" style=\"stroke: #A80036; stroke-width: 1.5;\" width=\"86\" x=\"135\" y=\"418\"/><ellipse cx=\"152.25\" cy=\"436.9688\" fill=\"#FFA500\" rx=\"11\" ry=\"11\" style=\"stroke: #A80036; stroke-width: 1.0;\"/><path d=\"M148.125,438.8906 L148.125,431.0781 L150.5781,431.0781 L150.5781,439.5156 Q150.5781,440.4375 151.0469,440.9688 Q151.5313,441.5 152.3594,441.5 Q153.2031,441.5 153.6719,440.9688 Q154.1406,440.4375 154.1406,439.5156 L154.1406,431.0781 L156.5938,431.0781 L156.5938,438.8906 Q156.5938,441.4219 155.5938,442.5625 Q154.5938,443.7031 152.3594,443.7031 Q150.1406,443.7031 149.125,442.5625 Q148.125,441.4219 148.125,438.8906 Z \"/><text fill=\"#000000\" font-family=\"sans-serif\" font-size=\"12\" font-style=\"italic\" lengthAdjust=\"spacingAndGlyphs\" textLength=\"53\" x=\"164.75\" y=\"434.1387\">«action»</text><text fill=\"#000000\" font-family=\"sans-serif\" font-size=\"12\" lengthAdjust=\"spacingAndGlyphs\" textLength=\"16\" x=\"183.25\" y=\"448.1074\">A2</text></a></g><g id=\"E1.E6\"><a href=\"psysml:3ceea1c4-b769-4e45-b22d-b9b14232dc11\" target=\"_top\" title=\"psysml:3ceea1c4-b769-4e45-b22d-b9b14232dc11\" xlink:actuate=\"onRequest\" xlink:href=\"psysml:3ceea1c4-b769-4e45-b22d-b9b14232dc11\" xlink:show=\"new\" xlink:title=\"psysml:3ceea1c4-b769-4e45-b22d-b9b14232dc11\" xlink:type=\"simple\"><rect fill=\"#FEFECE\" filter=\"url(#fvuugk65ojx77)\" height=\"42.9375\" id=\"E6\" rx=\"10\" ry=\"10\" style=\"stroke: #A80036; stroke-width: 1.5;\" width=\"86\" x=\"50\" y=\"58\"/><ellipse cx=\"67.25\" cy=\"76.9688\" fill=\"#FFA500\" rx=\"11\" ry=\"11\" style=\"stroke: #A80036; stroke-width: 1.0;\"/><path d=\"M63.125,78.8906 L63.125,71.0781 L65.5781,71.0781 L65.5781,79.5156 Q65.5781,80.4375 66.0469,80.9688 Q66.5313,81.5 67.3594,81.5 Q68.2031,81.5 68.6719,80.9688 Q69.1406,80.4375 69.1406,79.5156 L69.1406,71.0781 L71.5938,71.0781 L71.5938,78.8906 Q71.5938,81.4219 70.5938,82.5625 Q69.5938,83.7031 67.3594,83.7031 Q65.1406,83.7031 64.125,82.5625 Q63.125,81.4219 63.125,78.8906 Z \"/><text fill=\"#000000\" font-family=\"sans-serif\" font-size=\"12\" font-style=\"italic\" lengthAdjust=\"spacingAndGlyphs\" textLength=\"53\" x=\"79.75\" y=\"74.1387\">«action»</text><text fill=\"#000000\" font-family=\"sans-serif\" font-size=\"12\" lengthAdjust=\"spacingAndGlyphs\" textLength=\"16\" x=\"98.25\" y=\"88.1074\">A3</text></a></g><g id=\"E1.E7\"><a href=\"psysml:3ceea1c4-b769-4e45-b22d-b9b14232dc11\" target=\"_top\" title=\"psysml:3ceea1c4-b769-4e45-b22d-b9b14232dc11\" xlink:actuate=\"onRequest\" xlink:href=\"psysml:3ceea1c4-b769-4e45-b22d-b9b14232dc11\" xlink:show=\"new\" xlink:title=\"psysml:3ceea1c4-b769-4e45-b22d-b9b14232dc11\" xlink:type=\"simple\"><rect fill=\"#FEFECE\" filter=\"url(#fvuugk65ojx77)\" height=\"42.9375\" id=\"E7\" rx=\"10\" ry=\"10\" style=\"stroke: #A80036; stroke-width: 1.5;\" width=\"86\" x=\"246\" y=\"178\"/><ellipse cx=\"263.25\" cy=\"196.9688\" fill=\"#FFA500\" rx=\"11\" ry=\"11\" style=\"stroke: #A80036; stroke-width: 1.0;\"/><path d=\"M259.125,198.8906 L259.125,191.0781 L261.5781,191.0781 L261.5781,199.5156 Q261.5781,200.4375 262.0469,200.9688 Q262.5313,201.5 263.3594,201.5 Q264.2031,201.5 264.6719,200.9688 Q265.1406,200.4375 265.1406,199.5156 L265.1406,191.0781 L267.5938,191.0781 L267.5938,198.8906 Q267.5938,201.4219 266.5938,202.5625 Q265.5938,203.7031 263.3594,203.7031 Q261.1406,203.7031 260.125,202.5625 Q259.125,201.4219 259.125,198.8906 Z \"/><text fill=\"#000000\" font-family=\"sans-serif\" font-size=\"12\" font-style=\"italic\" lengthAdjust=\"spacingAndGlyphs\" textLength=\"53\" x=\"275.75\" y=\"194.1387\">«action»</text><text fill=\"#000000\" font-family=\"sans-serif\" font-size=\"12\" lengthAdjust=\"spacingAndGlyphs\" textLength=\"16\" x=\"294.25\" y=\"208.1074\">A3</text></a></g><!--MD5=[4d03bb2d0377dc85ccfab60ff574652b]\n",
       "link E2 to E4--><a href=\"psysml:5839aeb0-dd7d-4257-be26-6d697b84d54b\" target=\"_top\" title=\"psysml:5839aeb0-dd7d-4257-be26-6d697b84d54b\" xlink:actuate=\"onRequest\" xlink:href=\"psysml:5839aeb0-dd7d-4257-be26-6d697b84d54b\" xlink:show=\"new\" xlink:title=\"psysml:5839aeb0-dd7d-4257-be26-6d697b84d54b\" xlink:type=\"simple\"><path d=\"M204.45,86 C190.88,99.89 156.22,138.13 144,178 C131.83,217.69 149.59,264.76 163.67,293.09 \" fill=\"none\" id=\"E2-&gt;E4\" style=\"stroke: #A80036; stroke-width: 1.0;\"/><polygon fill=\"#A80036\" points=\"166.08,297.81,165.5574,287.975,163.8097,293.3551,158.4296,291.6074,166.08,297.81\" style=\"stroke: #A80036; stroke-width: 1.0;\"/><text fill=\"#000000\" font-family=\"sans-serif\" font-size=\"13\" lengthAdjust=\"spacingAndGlyphs\" textLength=\"55\" x=\"145\" y=\"204.0669\">[x == 1]</text></a><!--MD5=[dcad52bbbca2fe8adc741ce38b45dc12]\n",
       "link E2 to E5--><a href=\"psysml:6472265e-4329-42f9-a73f-b0fdd653d81d\" target=\"_top\" title=\"psysml:6472265e-4329-42f9-a73f-b0fdd653d81d\" xlink:actuate=\"onRequest\" xlink:href=\"psysml:6472265e-4329-42f9-a73f-b0fdd653d81d\" xlink:show=\"new\" xlink:title=\"psysml:6472265e-4329-42f9-a73f-b0fdd653d81d\" xlink:type=\"simple\"><path d=\"M211.32,90.39 C216.99,132.87 238.97,297.67 239,298 C242.74,337.86 260.6,352.04 243,388 C237.83,398.56 229.28,407.54 220.04,414.88 \" fill=\"none\" id=\"E2-&gt;E5\" style=\"stroke: #A80036; stroke-width: 1.0;\"/><polygon fill=\"#A80036\" points=\"216.05,417.92,225.6321,415.6432,220.0258,414.8881,220.781,409.2818,216.05,417.92\" style=\"stroke: #A80036; stroke-width: 1.0;\"/><text fill=\"#000000\" font-family=\"sans-serif\" font-size=\"13\" lengthAdjust=\"spacingAndGlyphs\" textLength=\"44\" x=\"235\" y=\"264.0669\">[x &gt; 1]</text></a><!--MD5=[e3d2a08a9c9236652057e8ed0cbc9b62]\n",
       "link E2 to E7--><a href=\"psysml:3c10905a-0cf4-4572-9b68-27220c544656\" target=\"_top\" title=\"psysml:3c10905a-0cf4-4572-9b68-27220c544656\" xlink:actuate=\"onRequest\" xlink:href=\"psysml:3c10905a-0cf4-4572-9b68-27220c544656\" xlink:show=\"new\" xlink:title=\"psysml:3c10905a-0cf4-4572-9b68-27220c544656\" xlink:type=\"simple\"><path d=\"M212.2,89.84 C215.69,103.47 223.45,129.2 236,148 C242.31,157.45 250.67,166.45 258.88,174.18 \" fill=\"none\" id=\"E2-&gt;E7\" style=\"stroke: #A80036; stroke-width: 1.0;\"/><polygon fill=\"#A80036\" points=\"262.9,177.86,258.978,168.8257,259.2178,174.4775,253.566,174.7173,262.9,177.86\" style=\"stroke: #A80036; stroke-width: 1.0;\"/></a><!--MD5=[583832df87f4419a098336a29a52fa00]\n",
       "link E7 to E2--><a href=\"psysml:2ecae6e1-cb24-4407-809b-df9594bdb8fa\" target=\"_top\" title=\"psysml:2ecae6e1-cb24-4407-809b-df9594bdb8fa\" xlink:actuate=\"onRequest\" xlink:href=\"psysml:2ecae6e1-cb24-4407-809b-df9594bdb8fa\" xlink:show=\"new\" xlink:title=\"psysml:2ecae6e1-cb24-4407-809b-df9594bdb8fa\" xlink:type=\"simple\"><path d=\"M275.08,177.71 C258.3,152.65 230.72,111.44 217.51,91.71 \" fill=\"none\" id=\"E7-&gt;E2\" style=\"stroke: #A80036; stroke-width: 1.0;\"/><polygon fill=\"#A80036\" points=\"214.47,87.18,216.1572,96.8833,217.2534,91.3337,222.803,92.4299,214.47,87.18\" style=\"stroke: #A80036; stroke-width: 1.0;\"/><text fill=\"#000000\" font-family=\"sans-serif\" font-size=\"13\" lengthAdjust=\"spacingAndGlyphs\" textLength=\"44\" x=\"255\" y=\"144.0669\">[x &gt; 0]</text></a><!--MD5=[2720a5a1f2c3fca2055b230370638851]\n",
       "link E2 to E3--><a href=\"psysml:4534ef33-8eda-405a-b2f5-6c95fd446375\" target=\"_top\" title=\"psysml:4534ef33-8eda-405a-b2f5-6c95fd446375\" xlink:actuate=\"onRequest\" xlink:href=\"psysml:4534ef33-8eda-405a-b2f5-6c95fd446375\" xlink:show=\"new\" xlink:title=\"psysml:4534ef33-8eda-405a-b2f5-6c95fd446375\" xlink:type=\"simple\"><path d=\"M201.9,83.58 C184.06,90.55 140.39,108.7 108,131 C82.49,148.57 56.88,174.67 43.84,188.71 \" fill=\"none\" id=\"E2-&gt;E3\" style=\"stroke: #A80036; stroke-width: 1.0;\"/><polygon fill=\"#A80036\" points=\"40.21,192.66,49.2443,188.738,43.5925,188.9778,43.3527,183.326,40.21,192.66\" style=\"stroke: #A80036; stroke-width: 1.0;\"/></a><!--MD5=[af87c684e3b0d8be13c1a698a818ef1e]\n",
       "link E3 to E4--><a href=\"psysml:4cb33783-cb85-4624-8a6d-789ab5e27309\" target=\"_top\" title=\"psysml:4cb33783-cb85-4624-8a6d-789ab5e27309\" xlink:actuate=\"onRequest\" xlink:href=\"psysml:4cb33783-cb85-4624-8a6d-789ab5e27309\" xlink:show=\"new\" xlink:title=\"psysml:4cb33783-cb85-4624-8a6d-789ab5e27309\" xlink:type=\"simple\"><path d=\"M38.96,208.04 C46.32,221.49 63.28,249.9 84,268 C97.53,279.82 114.3,289.93 129.91,297.93 \" fill=\"none\" id=\"E3-&gt;E4\" style=\"stroke: #A80036; stroke-width: 1.0;\"/><polygon fill=\"#A80036\" points=\"134.71,300.34,128.4587,292.7294,130.2407,298.0982,124.8719,299.8802,134.71,300.34\" style=\"stroke: #A80036; stroke-width: 1.0;\"/><text fill=\"#000000\" font-family=\"sans-serif\" font-size=\"13\" lengthAdjust=\"spacingAndGlyphs\" textLength=\"36\" x=\"85\" y=\"264.0669\">[true]</text></a><!--MD5=[0188b64bb0ae78505a997a81836e11e9]\n",
       "link E3 to E5--><a href=\"psysml:7566f218-2e4c-4b1d-8134-f6de9f4cb12f\" target=\"_top\" title=\"psysml:7566f218-2e4c-4b1d-8134-f6de9f4cb12f\" xlink:actuate=\"onRequest\" xlink:href=\"psysml:7566f218-2e4c-4b1d-8134-f6de9f4cb12f\" xlink:show=\"new\" xlink:title=\"psysml:7566f218-2e4c-4b1d-8134-f6de9f4cb12f\" xlink:type=\"simple\"><path d=\"M36.1,210.4 C39.13,234.4 49.22,296.92 76,341 C93.84,370.37 122.75,396.82 145.25,414.74 \" fill=\"none\" id=\"E3-&gt;E5\" style=\"stroke: #A80036; stroke-width: 1.0;\"/><polygon fill=\"#A80036\" points=\"149.37,417.99,144.7826,409.2748,145.4449,414.8927,139.8269,415.555,149.37,417.99\" style=\"stroke: #A80036; stroke-width: 1.0;\"/><text fill=\"#000000\" font-family=\"sans-serif\" font-size=\"13\" lengthAdjust=\"spacingAndGlyphs\" textLength=\"40\" x=\"77\" y=\"324.0669\">[false]</text></a><!--MD5=[1b7591eae5389033d8d09a9d6721a717]\n",
       "link E4 to E5--><a href=\"psysml:2ec4d8de-ba31-4f08-a58c-ce574f556666\" target=\"_top\" title=\"psysml:2ec4d8de-ba31-4f08-a58c-ce574f556666\" xlink:actuate=\"onRequest\" xlink:href=\"psysml:2ec4d8de-ba31-4f08-a58c-ce574f556666\" xlink:show=\"new\" xlink:title=\"psysml:2ec4d8de-ba31-4f08-a58c-ce574f556666\" xlink:type=\"simple\"><path d=\"M178,341.05 C178,360.9 178,391.02 178,412.52 \" fill=\"none\" id=\"E4-&gt;E5\" style=\"stroke: #A80036; stroke-width: 1.0;\"/><polygon fill=\"#A80036\" points=\"178,417.79,182,408.79,178,412.79,174,408.79,178,417.79\" style=\"stroke: #A80036; stroke-width: 1.0;\"/><text fill=\"#000000\" font-family=\"sans-serif\" font-size=\"13\" lengthAdjust=\"spacingAndGlyphs\" textLength=\"55\" x=\"179\" y=\"384.0669\">[x == 0]</text></a><!--MD5=[f9cb9b33e290ee274c36ef3dd80414fa]\n",
       "@startuml\r\n",
       " \r\n",
       "rec def \"DecisionTest\" as E1 << <<(B,lemonchiffon) action def>> [[psysml:068a4463-a96d-4165-a2bc-cadf70a9bc09 ]] {\r\n",
       "choice \"test x\" as E2  [[psysml:44ee9e06-5fd9-46bf-b0f8-00dd693073b7 ]] \r\n",
       "choice \"noname\" as E3  [[psysml:eeb68ac4-2ad3-4e0c-9c18-140c63d1edba ]] \r\n",
       "rec usage \"A1\" as E4 << <<(U,orange) action>> [[psysml:86b53981-b1ee-4c30-93d6-edfc048c3f3e ]] {\r\n",
       "}\r\n",
       "\r\n",
       "rec usage \"A2\" as E5 << <<(U,orange) action>> [[psysml:38b4e12b-2856-48b1-8683-970a7e146d76 ]] {\r\n",
       "}\r\n",
       "\r\n",
       "rec usage \"A3\" as E6 << <<(U,orange) action>> [[psysml:3ceea1c4-b769-4e45-b22d-b9b14232dc11 ]] {\r\n",
       "}\r\n",
       "\r\n",
       "rec usage \"A3\" as E7 << <<(U,orange) action>> [[psysml:3ceea1c4-b769-4e45-b22d-b9b14232dc11 ]] {\r\n",
       "}\r\n",
       "\r\n",
       "}\r\n",
       "\r\n",
       "E2  - -> E4 [[psysml:5839aeb0-dd7d-4257-be26-6d697b84d54b ]] : [x == 1]\r\n",
       "E2  - -> E5 [[psysml:6472265e-4329-42f9-a73f-b0fdd653d81d ]] : [x > 1]\r\n",
       "E2  - -> E7 [[psysml:3c10905a-0cf4-4572-9b68-27220c544656 ]] \r\n",
       "E2 - -> E3 [[psysml:4534ef33-8eda-405a-b2f5-6c95fd446375 ]] \r\n",
       "E3  - -> E4 [[psysml:4cb33783-cb85-4624-8a6d-789ab5e27309 ]] : [true]\r\n",
       "E3  - -> E5 [[psysml:7566f218-2e4c-4b1d-8134-f6de9f4cb12f ]] : [false]\r\n",
       "E4  - -> E5 [[psysml:2ec4d8de-ba31-4f08-a58c-ce574f556666 ]] : [x == 0]\r\n",
       "E7  - -> E2 [[psysml:2ecae6e1-cb24-4407-809b-df9594bdb8fa ]] : [x > 0]\r\n",
       "@enduml\r\n",
       "\n",
       "PlantUML version 1.2020.13(Sat Jun 13 12:26:38 UTC 2020)\n",
       "(EPL source distribution)\n",
       "Java Runtime: OpenJDK Runtime Environment\n",
       "JVM: OpenJDK 64-Bit Server VM\n",
       "Default Encoding: UTF-8\n",
       "Language: en\n",
       "Country: null\n",
       "--></g></svg>"
      ]
     },
     "execution_count": 30,
     "metadata": {},
     "output_type": "execute_result"
    }
   ],
   "source": [
    "%viz --style=\"PLANTUML\" --view=\"Default\" \"DecisionTest\""
   ]
  },
  {
   "cell_type": "code",
   "execution_count": 31,
   "id": "b40e6ed5",
   "metadata": {
    "execution": {
     "iopub.execute_input": "2021-06-30T09:20:29.850849Z",
     "iopub.status.busy": "2021-06-30T09:20:29.849042Z",
     "iopub.status.idle": "2021-06-30T09:20:29.926451Z",
     "shell.execute_reply": "2021-06-30T09:20:29.925927Z"
    }
   },
   "outputs": [
    {
     "data": {
      "image/svg+xml": [
       "<?xml version=\"1.0\" encoding=\"UTF-8\" standalone=\"no\"?><svg xmlns=\"http://www.w3.org/2000/svg\" xmlns:xlink=\"http://www.w3.org/1999/xlink\" contentScriptType=\"application/ecmascript\" contentStyleType=\"text/css\" height=\"219px\" preserveAspectRatio=\"none\" style=\"width:663px;height:219px;\" version=\"1.1\" viewBox=\"0 0 663 219\" width=\"663px\" zoomAndPan=\"magnify\"><defs><filter height=\"300%\" id=\"faybtni1cfxfi\" width=\"300%\" x=\"-1\" y=\"-1\"><feGaussianBlur result=\"blurOut\" stdDeviation=\"2.0\"/><feColorMatrix in=\"blurOut\" result=\"blurOut2\" type=\"matrix\" values=\"0 0 0 0 0 0 0 0 0 0 0 0 0 0 0 0 0 0 .4 0\"/><feOffset dx=\"4.0\" dy=\"4.0\" in=\"blurOut2\" result=\"blurOut3\"/><feBlend in=\"SourceGraphic\" in2=\"blurOut3\" mode=\"normal\"/></filter></defs><g><!--MD5=[43c9051892ef23e1a46a86907403d788]\n",
       "class E1--><a href=\"psysml:068a4463-a96d-4165-a2bc-cadf70a9bc09\" target=\"_top\" title=\"psysml:068a4463-a96d-4165-a2bc-cadf70a9bc09\" xlink:actuate=\"onRequest\" xlink:href=\"psysml:068a4463-a96d-4165-a2bc-cadf70a9bc09\" xlink:show=\"new\" xlink:title=\"psysml:068a4463-a96d-4165-a2bc-cadf70a9bc09\" xlink:type=\"simple\"><rect fill=\"#FEFECE\" filter=\"url(#faybtni1cfxfi)\" height=\"88.3516\" id=\"E1\" style=\"stroke: #A80036; stroke-width: 1.5;\" width=\"112\" x=\"373.5\" y=\"7\"/><ellipse cx=\"388.5\" cy=\"25.9688\" fill=\"#FFFACD\" rx=\"11\" ry=\"11\" style=\"stroke: #A80036; stroke-width: 1.0;\"/><path d=\"M387.4063,26.3438 L387.4063,30.0156 L389.0313,30.0156 Q390.2031,30.0156 390.6719,29.625 Q391.1406,29.2188 391.1406,28.2188 Q391.1406,27.2188 390.6406,26.7813 Q390.1563,26.3438 389.0313,26.3438 L387.4063,26.3438 Z M387.4063,21.5156 L387.4063,24.3906 L389.0313,24.3906 Q389.9531,24.3906 390.3438,24.0625 Q390.75,23.7188 390.75,22.9688 Q390.75,22.2031 390.3438,21.8594 Q389.9375,21.5156 389.0313,21.5156 L387.4063,21.5156 Z M385.0313,19.5625 L389.0313,19.5625 Q391.0938,19.5625 392.1406,20.3438 Q393.1875,21.125 393.1875,22.6875 Q393.1875,23.8906 392.5625,24.5625 Q391.9531,25.2344 390.7656,25.3438 Q392.1875,25.4844 392.9063,26.2969 Q393.625,27.1094 393.625,28.5625 Q393.625,30.3594 392.5469,31.1719 Q391.4688,31.9688 389.0313,31.9688 L385.0313,31.9688 L385.0313,19.5625 Z \"/><text fill=\"#000000\" font-family=\"sans-serif\" font-size=\"12\" font-style=\"italic\" lengthAdjust=\"spacingAndGlyphs\" textLength=\"77\" x=\"404\" y=\"23.1387\">«action def»</text><text fill=\"#000000\" font-family=\"sans-serif\" font-size=\"12\" lengthAdjust=\"spacingAndGlyphs\" textLength=\"80\" x=\"402.5\" y=\"37.1074\">DecisionTest</text><line style=\"stroke: #A80036; stroke-width: 1.5;\" x1=\"374.5\" x2=\"484.5\" y1=\"44.9375\" y2=\"44.9375\"/><text fill=\"#000000\" font-family=\"sans-serif\" font-size=\"11\" lengthAdjust=\"spacingAndGlyphs\" textLength=\"26\" x=\"379.5\" y=\"59.1479\">x=1;</text><text fill=\"#000000\" font-family=\"sans-serif\" font-size=\"11\" lengthAdjust=\"spacingAndGlyphs\" textLength=\"8\" x=\"379.5\" y=\"88.7573\">S</text><line style=\"stroke: #A80036; stroke-width: 1.0;\" x1=\"374.5\" x2=\"399\" y1=\"72.1445\" y2=\"72.1445\"/><text fill=\"#000000\" font-family=\"sans-serif\" font-size=\"11\" lengthAdjust=\"spacingAndGlyphs\" textLength=\"61\" x=\"399\" y=\"75.4526\">transitions</text><line style=\"stroke: #A80036; stroke-width: 1.0;\" x1=\"460\" x2=\"484.5\" y1=\"72.1445\" y2=\"72.1445\"/></a><!--MD5=[b4997ac47864f28c2f74865a473b2911]\n",
       "class E2--><a href=\"psysml:44ee9e06-5fd9-46bf-b0f8-00dd693073b7\" target=\"_top\" title=\"psysml:44ee9e06-5fd9-46bf-b0f8-00dd693073b7\" xlink:actuate=\"onRequest\" xlink:href=\"psysml:44ee9e06-5fd9-46bf-b0f8-00dd693073b7\" xlink:show=\"new\" xlink:title=\"psysml:44ee9e06-5fd9-46bf-b0f8-00dd693073b7\" xlink:type=\"simple\"><rect fill=\"#FEFECE\" filter=\"url(#faybtni1cfxfi)\" height=\"45.9375\" id=\"E2\" rx=\"10\" ry=\"10\" style=\"stroke: #A80036; stroke-width: 1.5;\" width=\"127\" x=\"7\" y=\"155\"/><ellipse cx=\"22\" cy=\"173.9688\" fill=\"#FFA500\" rx=\"11\" ry=\"11\" style=\"stroke: #A80036; stroke-width: 1.0;\"/><path d=\"M17.875,175.8906 L17.875,168.0781 L20.3281,168.0781 L20.3281,176.5156 Q20.3281,177.4375 20.7969,177.9688 Q21.2813,178.5 22.1094,178.5 Q22.9531,178.5 23.4219,177.9688 Q23.8906,177.4375 23.8906,176.5156 L23.8906,168.0781 L26.3438,168.0781 L26.3438,175.8906 Q26.3438,178.4219 25.3438,179.5625 Q24.3438,180.7031 22.1094,180.7031 Q19.8906,180.7031 18.875,179.5625 Q17.875,178.4219 17.875,175.8906 Z \"/><text fill=\"#000000\" font-family=\"sans-serif\" font-size=\"12\" font-style=\"italic\" lengthAdjust=\"spacingAndGlyphs\" textLength=\"99\" x=\"34\" y=\"171.1387\">«decisionNode»</text><text fill=\"#000000\" font-family=\"sans-serif\" font-size=\"12\" lengthAdjust=\"spacingAndGlyphs\" textLength=\"35\" x=\"66\" y=\"185.1074\">test x</text><line style=\"stroke: #A80036; stroke-width: 1.5;\" x1=\"8\" x2=\"133\" y1=\"192.9375\" y2=\"192.9375\"/></a><!--MD5=[09b614a08d8cba4a07c9adeb5e0fee81]\n",
       "class E3--><a href=\"psysml:eeb68ac4-2ad3-4e0c-9c18-140c63d1edba\" target=\"_top\" title=\"psysml:eeb68ac4-2ad3-4e0c-9c18-140c63d1edba\" xlink:actuate=\"onRequest\" xlink:href=\"psysml:eeb68ac4-2ad3-4e0c-9c18-140c63d1edba\" xlink:show=\"new\" xlink:title=\"psysml:eeb68ac4-2ad3-4e0c-9c18-140c63d1edba\" xlink:type=\"simple\"><rect fill=\"#FEFECE\" filter=\"url(#faybtni1cfxfi)\" height=\"45.9375\" id=\"E3\" rx=\"10\" ry=\"10\" style=\"stroke: #A80036; stroke-width: 1.5;\" width=\"127\" x=\"169\" y=\"155\"/><ellipse cx=\"184\" cy=\"173.9688\" fill=\"#FFA500\" rx=\"11\" ry=\"11\" style=\"stroke: #A80036; stroke-width: 1.0;\"/><path d=\"M179.875,175.8906 L179.875,168.0781 L182.3281,168.0781 L182.3281,176.5156 Q182.3281,177.4375 182.7969,177.9688 Q183.2813,178.5 184.1094,178.5 Q184.9531,178.5 185.4219,177.9688 Q185.8906,177.4375 185.8906,176.5156 L185.8906,168.0781 L188.3438,168.0781 L188.3438,175.8906 Q188.3438,178.4219 187.3438,179.5625 Q186.3438,180.7031 184.1094,180.7031 Q181.8906,180.7031 180.875,179.5625 Q179.875,178.4219 179.875,175.8906 Z \"/><text fill=\"#000000\" font-family=\"sans-serif\" font-size=\"12\" font-style=\"italic\" lengthAdjust=\"spacingAndGlyphs\" textLength=\"99\" x=\"196\" y=\"171.1387\">«decisionNode»</text><text fill=\"#000000\" font-family=\"sans-serif\" font-size=\"12\" lengthAdjust=\"spacingAndGlyphs\" text-decoration=\"line-through\" textLength=\"51\" x=\"220\" y=\"185.1074\">noname</text><line style=\"stroke: #A80036; stroke-width: 1.5;\" x1=\"170\" x2=\"295\" y1=\"192.9375\" y2=\"192.9375\"/></a><!--MD5=[ebbe1d658d1005bcc118a6aa81145e00]\n",
       "class E4--><a href=\"psysml:86b53981-b1ee-4c30-93d6-edfc048c3f3e\" target=\"_top\" title=\"psysml:86b53981-b1ee-4c30-93d6-edfc048c3f3e\" xlink:actuate=\"onRequest\" xlink:href=\"psysml:86b53981-b1ee-4c30-93d6-edfc048c3f3e\" xlink:show=\"new\" xlink:title=\"psysml:86b53981-b1ee-4c30-93d6-edfc048c3f3e\" xlink:type=\"simple\"><rect fill=\"#FEFECE\" filter=\"url(#faybtni1cfxfi)\" height=\"45.9375\" id=\"E4\" rx=\"10\" ry=\"10\" style=\"stroke: #A80036; stroke-width: 1.5;\" width=\"81\" x=\"331\" y=\"155\"/><ellipse cx=\"346\" cy=\"173.9688\" fill=\"#FFA500\" rx=\"11\" ry=\"11\" style=\"stroke: #A80036; stroke-width: 1.0;\"/><path d=\"M341.875,175.8906 L341.875,168.0781 L344.3281,168.0781 L344.3281,176.5156 Q344.3281,177.4375 344.7969,177.9688 Q345.2813,178.5 346.1094,178.5 Q346.9531,178.5 347.4219,177.9688 Q347.8906,177.4375 347.8906,176.5156 L347.8906,168.0781 L350.3438,168.0781 L350.3438,175.8906 Q350.3438,178.4219 349.3438,179.5625 Q348.3438,180.7031 346.1094,180.7031 Q343.8906,180.7031 342.875,179.5625 Q341.875,178.4219 341.875,175.8906 Z \"/><text fill=\"#000000\" font-family=\"sans-serif\" font-size=\"12\" font-style=\"italic\" lengthAdjust=\"spacingAndGlyphs\" textLength=\"53\" x=\"358\" y=\"171.1387\">«action»</text><text fill=\"#000000\" font-family=\"sans-serif\" font-size=\"12\" lengthAdjust=\"spacingAndGlyphs\" textLength=\"16\" x=\"376.5\" y=\"185.1074\">A1</text><line style=\"stroke: #A80036; stroke-width: 1.5;\" x1=\"332\" x2=\"411\" y1=\"192.9375\" y2=\"192.9375\"/></a><!--MD5=[270fce915f116d4de14055a7c1d9a0f3]\n",
       "class E5--><a href=\"psysml:38b4e12b-2856-48b1-8683-970a7e146d76\" target=\"_top\" title=\"psysml:38b4e12b-2856-48b1-8683-970a7e146d76\" xlink:actuate=\"onRequest\" xlink:href=\"psysml:38b4e12b-2856-48b1-8683-970a7e146d76\" xlink:show=\"new\" xlink:title=\"psysml:38b4e12b-2856-48b1-8683-970a7e146d76\" xlink:type=\"simple\"><rect fill=\"#FEFECE\" filter=\"url(#faybtni1cfxfi)\" height=\"45.9375\" id=\"E5\" rx=\"10\" ry=\"10\" style=\"stroke: #A80036; stroke-width: 1.5;\" width=\"81\" x=\"447\" y=\"155\"/><ellipse cx=\"462\" cy=\"173.9688\" fill=\"#FFA500\" rx=\"11\" ry=\"11\" style=\"stroke: #A80036; stroke-width: 1.0;\"/><path d=\"M457.875,175.8906 L457.875,168.0781 L460.3281,168.0781 L460.3281,176.5156 Q460.3281,177.4375 460.7969,177.9688 Q461.2813,178.5 462.1094,178.5 Q462.9531,178.5 463.4219,177.9688 Q463.8906,177.4375 463.8906,176.5156 L463.8906,168.0781 L466.3438,168.0781 L466.3438,175.8906 Q466.3438,178.4219 465.3438,179.5625 Q464.3438,180.7031 462.1094,180.7031 Q459.8906,180.7031 458.875,179.5625 Q457.875,178.4219 457.875,175.8906 Z \"/><text fill=\"#000000\" font-family=\"sans-serif\" font-size=\"12\" font-style=\"italic\" lengthAdjust=\"spacingAndGlyphs\" textLength=\"53\" x=\"474\" y=\"171.1387\">«action»</text><text fill=\"#000000\" font-family=\"sans-serif\" font-size=\"12\" lengthAdjust=\"spacingAndGlyphs\" textLength=\"16\" x=\"492.5\" y=\"185.1074\">A2</text><line style=\"stroke: #A80036; stroke-width: 1.5;\" x1=\"448\" x2=\"527\" y1=\"192.9375\" y2=\"192.9375\"/></a><!--MD5=[60a26617385b1d2d0262a64233df1f8d]\n",
       "class E6--><a href=\"psysml:3ceea1c4-b769-4e45-b22d-b9b14232dc11\" target=\"_top\" title=\"psysml:3ceea1c4-b769-4e45-b22d-b9b14232dc11\" xlink:actuate=\"onRequest\" xlink:href=\"psysml:3ceea1c4-b769-4e45-b22d-b9b14232dc11\" xlink:show=\"new\" xlink:title=\"psysml:3ceea1c4-b769-4e45-b22d-b9b14232dc11\" xlink:type=\"simple\"><rect fill=\"#FEFECE\" filter=\"url(#faybtni1cfxfi)\" height=\"45.9375\" id=\"E6\" rx=\"10\" ry=\"10\" style=\"stroke: #A80036; stroke-width: 1.5;\" width=\"81\" x=\"563\" y=\"155\"/><ellipse cx=\"578\" cy=\"173.9688\" fill=\"#FFA500\" rx=\"11\" ry=\"11\" style=\"stroke: #A80036; stroke-width: 1.0;\"/><path d=\"M573.875,175.8906 L573.875,168.0781 L576.3281,168.0781 L576.3281,176.5156 Q576.3281,177.4375 576.7969,177.9688 Q577.2813,178.5 578.1094,178.5 Q578.9531,178.5 579.4219,177.9688 Q579.8906,177.4375 579.8906,176.5156 L579.8906,168.0781 L582.3438,168.0781 L582.3438,175.8906 Q582.3438,178.4219 581.3438,179.5625 Q580.3438,180.7031 578.1094,180.7031 Q575.8906,180.7031 574.875,179.5625 Q573.875,178.4219 573.875,175.8906 Z \"/><text fill=\"#000000\" font-family=\"sans-serif\" font-size=\"12\" font-style=\"italic\" lengthAdjust=\"spacingAndGlyphs\" textLength=\"53\" x=\"590\" y=\"171.1387\">«action»</text><text fill=\"#000000\" font-family=\"sans-serif\" font-size=\"12\" lengthAdjust=\"spacingAndGlyphs\" textLength=\"16\" x=\"608.5\" y=\"185.1074\">A3</text><line style=\"stroke: #A80036; stroke-width: 1.5;\" x1=\"564\" x2=\"643\" y1=\"192.9375\" y2=\"192.9375\"/></a><!--MD5=[a523cb2a0b79ecf9065ad8783f96c320]\n",
       "reverse link E1 to E2--><a href=\"psysml:3f40863b-0a66-456a-a380-cfd414bf0804\" target=\"_top\" title=\"psysml:3f40863b-0a66-456a-a380-cfd414bf0804\" xlink:actuate=\"onRequest\" xlink:href=\"psysml:3f40863b-0a66-456a-a380-cfd414bf0804\" xlink:show=\"new\" xlink:title=\"psysml:3f40863b-0a66-456a-a380-cfd414bf0804\" xlink:type=\"simple\"><path d=\"M360.75,75.94 C295.23,98.75 197.39,132.82 133.75,154.98 \" fill=\"none\" id=\"E1&lt;-E2\" style=\"stroke: #A80036; stroke-width: 1.0;\"/><polygon fill=\"#A80036\" points=\"373.41,71.53,366.4267,69.732,362.081,75.4866,369.0644,77.2846,373.41,71.53\" style=\"stroke: #A80036; stroke-width: 1.0;\"/></a><!--MD5=[5d7b3810b1dd9b5164bea1151b29b665]\n",
       "reverse link E1 to E3--><a href=\"psysml:e2578a6b-d48b-4dd6-b58c-18f093f1f29f\" target=\"_top\" title=\"psysml:e2578a6b-d48b-4dd6-b58c-18f093f1f29f\" xlink:actuate=\"onRequest\" xlink:href=\"psysml:e2578a6b-d48b-4dd6-b58c-18f093f1f29f\" xlink:show=\"new\" xlink:title=\"psysml:e2578a6b-d48b-4dd6-b58c-18f093f1f29f\" xlink:type=\"simple\"><path d=\"M362.26,94.66 C330.38,114.89 293.62,138.22 267.38,154.87 \" fill=\"none\" id=\"E1&lt;-E3\" style=\"stroke: #A80036; stroke-width: 1.0;\"/><polygon fill=\"#A80036\" points=\"373.31,87.65,366.1008,87.4851,363.1758,94.0763,370.385,94.2412,373.31,87.65\" style=\"stroke: #A80036; stroke-width: 1.0;\"/></a><!--MD5=[f2c5c03aa1e8c0ba21c10a05e6444b8e]\n",
       "reverse link E1 to E4--><a href=\"psysml:7583b8d6-81fb-44fd-88ce-ec05d2d7f8f3\" target=\"_top\" title=\"psysml:7583b8d6-81fb-44fd-88ce-ec05d2d7f8f3\" xlink:actuate=\"onRequest\" xlink:href=\"psysml:7583b8d6-81fb-44fd-88ce-ec05d2d7f8f3\" xlink:show=\"new\" xlink:title=\"psysml:7583b8d6-81fb-44fd-88ce-ec05d2d7f8f3\" xlink:type=\"simple\"><path d=\"M403.92,107.13 C396.08,124.03 387.9,141.66 381.71,154.99 \" fill=\"none\" id=\"E1&lt;-E4\" style=\"stroke: #A80036; stroke-width: 1.0;\"/><polygon fill=\"#A80036\" points=\"409.54,95.02,403.3872,98.7807,404.4921,105.9066,410.6449,102.1459,409.54,95.02\" style=\"stroke: #A80036; stroke-width: 1.0;\"/></a><!--MD5=[33238bef88d6431a141d8bc8fb12bca0]\n",
       "reverse link E1 to E5--><a href=\"psysml:1b62ef88-94e5-4ba0-8e17-6cec1f6133af\" target=\"_top\" title=\"psysml:1b62ef88-94e5-4ba0-8e17-6cec1f6133af\" xlink:actuate=\"onRequest\" xlink:href=\"psysml:1b62ef88-94e5-4ba0-8e17-6cec1f6133af\" xlink:show=\"new\" xlink:title=\"psysml:1b62ef88-94e5-4ba0-8e17-6cec1f6133af\" xlink:type=\"simple\"><path d=\"M455.08,107.13 C462.92,124.03 471.1,141.66 477.29,154.99 \" fill=\"none\" id=\"E1&lt;-E5\" style=\"stroke: #A80036; stroke-width: 1.0;\"/><polygon fill=\"#A80036\" points=\"449.46,95.02,448.3551,102.1459,454.5079,105.9066,455.6128,98.7807,449.46,95.02\" style=\"stroke: #A80036; stroke-width: 1.0;\"/></a><!--MD5=[aca2ef284c2b1b90e17e73bf3f292c07]\n",
       "reverse link E1 to E6--><a href=\"psysml:6d478a35-76b8-45be-be82-2204dec34e47\" target=\"_top\" title=\"psysml:6d478a35-76b8-45be-be82-2204dec34e47\" xlink:actuate=\"onRequest\" xlink:href=\"psysml:6d478a35-76b8-45be-be82-2204dec34e47\" xlink:show=\"new\" xlink:title=\"psysml:6d478a35-76b8-45be-be82-2204dec34e47\" xlink:type=\"simple\"><path d=\"M487.88,102.96 C512.5,121.09 540.46,140.56 562.87,154.99 \" fill=\"none\" id=\"E1&lt;-E6\" style=\"stroke: #A80036; stroke-width: 1.0;\"/><polygon fill=\"#A80036\" points=\"477.2,95.02,479.6313,101.8089,486.8331,102.1756,484.4018,95.3868,477.2,95.02\" style=\"stroke: #A80036; stroke-width: 1.0;\"/></a><!--MD5=[aca2ef284c2b1b90e17e73bf3f292c07]\n",
       "reverse link E1 to E6--><a href=\"psysml:637c00ed-dc37-460b-98af-77d0acff244f\" target=\"_top\" title=\"psysml:637c00ed-dc37-460b-98af-77d0acff244f\" xlink:actuate=\"onRequest\" xlink:href=\"psysml:637c00ed-dc37-460b-98af-77d0acff244f\" xlink:show=\"new\" xlink:title=\"psysml:637c00ed-dc37-460b-98af-77d0acff244f\" xlink:type=\"simple\"><path d=\"M496.92,91.35 C527.59,112.22 561.55,137.1 583.02,154.65 \" fill=\"none\" id=\"E1&lt;-E6-1\" style=\"stroke: #A80036; stroke-width: 1.0;\"/><polygon fill=\"#FFFFFF\" points=\"485.8,83.87,488.5451,90.5382,495.7561,90.5689,493.011,83.9008,485.8,83.87\" style=\"stroke: #A80036; stroke-width: 1.0;\"/></a><!--MD5=[52d4fd5c294b945703b49fae6146988a]\n",
       "@startuml\r\n",
       " \r\n",
       "comp def \"DecisionTest\" as E1 << <<(B,lemonchiffon) action def>> [[psysml:068a4463-a96d-4165-a2bc-cadf70a9bc09 ]] {\r\n",
       "x=1; \r\n",
       "- - transitions - -\r\n",
       "S\r\n",
       "}\r\n",
       "comp usage \"test x\" as E2 << <<(U,orange) decisionNode>> [[psysml:44ee9e06-5fd9-46bf-b0f8-00dd693073b7 ]] {\r\n",
       "}\r\n",
       "comp usage \"<s>noname</s>\" as E3 << <<(U,orange) decisionNode>> [[psysml:eeb68ac4-2ad3-4e0c-9c18-140c63d1edba ]] {\r\n",
       "}\r\n",
       "comp usage \"A1\" as E4 << <<(U,orange) action>> [[psysml:86b53981-b1ee-4c30-93d6-edfc048c3f3e ]] {\r\n",
       "}\r\n",
       "comp usage \"A2\" as E5 << <<(U,orange) action>> [[psysml:38b4e12b-2856-48b1-8683-970a7e146d76 ]] {\r\n",
       "}\r\n",
       "comp usage \"A3\" as E6 << <<(U,orange) action>> [[psysml:3ceea1c4-b769-4e45-b22d-b9b14232dc11 ]] {\r\n",
       "}\r\n",
       "E1 *- - E2 [[psysml:3f40863b-0a66-456a-a380-cfd414bf0804 ]] \r\n",
       "E1 *- - E3 [[psysml:e2578a6b-d48b-4dd6-b58c-18f093f1f29f ]] \r\n",
       "E1 *- - E4 [[psysml:7583b8d6-81fb-44fd-88ce-ec05d2d7f8f3 ]] \r\n",
       "E1 *- - E5 [[psysml:1b62ef88-94e5-4ba0-8e17-6cec1f6133af ]] \r\n",
       "E1 *- - E6 [[psysml:6d478a35-76b8-45be-be82-2204dec34e47 ]] \r\n",
       "E1 o- - E6 [[psysml:637c00ed-dc37-460b-98af-77d0acff244f ]] \r\n",
       "@enduml\r\n",
       "\n",
       "PlantUML version 1.2020.13(Sat Jun 13 12:26:38 UTC 2020)\n",
       "(EPL source distribution)\n",
       "Java Runtime: OpenJDK Runtime Environment\n",
       "JVM: OpenJDK 64-Bit Server VM\n",
       "Default Encoding: UTF-8\n",
       "Language: en\n",
       "Country: null\n",
       "--></g></svg>"
      ]
     },
     "execution_count": 31,
     "metadata": {},
     "output_type": "execute_result"
    }
   ],
   "source": [
    "%viz --style=\"PLANTUML\" --view=\"Tree\" \"DecisionTest\""
   ]
  },
  {
   "cell_type": "code",
   "execution_count": 32,
   "id": "e0ec1b34",
   "metadata": {
    "execution": {
     "iopub.execute_input": "2021-06-30T09:20:29.978477Z",
     "iopub.status.busy": "2021-06-30T09:20:29.977804Z",
     "iopub.status.idle": "2021-06-30T09:20:30.095178Z",
     "shell.execute_reply": "2021-06-30T09:20:30.092443Z"
    }
   },
   "outputs": [
    {
     "data": {
      "image/svg+xml": [
       "<?xml version=\"1.0\" encoding=\"UTF-8\" standalone=\"no\"?><svg xmlns=\"http://www.w3.org/2000/svg\" xmlns:xlink=\"http://www.w3.org/1999/xlink\" contentScriptType=\"application/ecmascript\" contentStyleType=\"text/css\" height=\"303px\" preserveAspectRatio=\"none\" style=\"width:603px;height:303px;background:#000000;\" version=\"1.1\" viewBox=\"0 0 603 303\" width=\"603px\" zoomAndPan=\"magnify\"><defs/><g><rect fill=\"#080D0E\" height=\"1\" style=\"stroke: #080D0E; stroke-width: 1.0;\" width=\"1\" x=\"0\" y=\"0\"/><rect fill=\"#FFFFFF\" height=\"205.5625\" style=\"stroke: #FFFFFF; stroke-width: 1.0;\" width=\"602\" x=\"0\" y=\"0\"/><text fill=\"#000000\" font-family=\"sans-serif\" font-size=\"12\" font-weight=\"bold\" lengthAdjust=\"spacingAndGlyphs\" textLength=\"159\" x=\"5\" y=\"16.1387\">Welcome to PlantUML!</text><text fill=\"#000000\" font-family=\"sans-serif\" font-size=\"12\" lengthAdjust=\"spacingAndGlyphs\" textLength=\"0\" x=\"9\" y=\"30.1074\"/><text fill=\"#000000\" font-family=\"sans-serif\" font-size=\"12\" lengthAdjust=\"spacingAndGlyphs\" textLength=\"293\" x=\"5\" y=\"44.0762\">If you use this software, you accept its license.</text><text fill=\"#000000\" font-family=\"sans-serif\" font-size=\"12\" lengthAdjust=\"spacingAndGlyphs\" textLength=\"107\" x=\"5\" y=\"58.0449\">(details by typing</text><text fill=\"#000000\" font-family=\"monospace\" font-size=\"12\" lengthAdjust=\"spacingAndGlyphs\" textLength=\"49\" x=\"116\" y=\"58.0449\">license</text><text fill=\"#000000\" font-family=\"sans-serif\" font-size=\"12\" lengthAdjust=\"spacingAndGlyphs\" textLength=\"56\" x=\"169\" y=\"58.0449\">keyword)</text><text fill=\"#000000\" font-family=\"sans-serif\" font-size=\"12\" lengthAdjust=\"spacingAndGlyphs\" textLength=\"0\" x=\"9\" y=\"72.0137\"/><text fill=\"#000000\" font-family=\"sans-serif\" font-size=\"12\" lengthAdjust=\"spacingAndGlyphs\" textLength=\"283\" x=\"5\" y=\"85.9824\">You can start with a simple UML Diagram like:</text><text fill=\"#000000\" font-family=\"sans-serif\" font-size=\"12\" lengthAdjust=\"spacingAndGlyphs\" textLength=\"0\" x=\"9\" y=\"99.9512\"/><text fill=\"#000000\" font-family=\"monospace\" font-size=\"12\" lengthAdjust=\"spacingAndGlyphs\" textLength=\"119\" x=\"5\" y=\"113.9199\">Bob-&gt;Alice: Hello</text><text fill=\"#000000\" font-family=\"sans-serif\" font-size=\"12\" lengthAdjust=\"spacingAndGlyphs\" textLength=\"0\" x=\"9\" y=\"127.8887\"/><text fill=\"#000000\" font-family=\"sans-serif\" font-size=\"12\" lengthAdjust=\"spacingAndGlyphs\" textLength=\"14\" x=\"5\" y=\"141.8574\">Or</text><text fill=\"#000000\" font-family=\"sans-serif\" font-size=\"12\" lengthAdjust=\"spacingAndGlyphs\" textLength=\"0\" x=\"9\" y=\"155.8262\"/><text fill=\"#000000\" font-family=\"monospace\" font-size=\"12\" lengthAdjust=\"spacingAndGlyphs\" textLength=\"91\" x=\"5\" y=\"169.7949\">class Example</text><text fill=\"#000000\" font-family=\"sans-serif\" font-size=\"12\" lengthAdjust=\"spacingAndGlyphs\" textLength=\"0\" x=\"9\" y=\"183.7637\"/><text fill=\"#000000\" font-family=\"sans-serif\" font-size=\"12\" lengthAdjust=\"spacingAndGlyphs\" textLength=\"349\" x=\"5\" y=\"197.7324\">You will find more information about PlantUML syntax on</text><text fill=\"#000000\" font-family=\"sans-serif\" font-size=\"12\" lengthAdjust=\"spacingAndGlyphs\" text-decoration=\"underline\" textLength=\"129\" x=\"358\" y=\"197.7324\">https://plantuml.com</text><image height=\"71\" width=\"80\" x=\"516\" xlink:href=\"data:image/png;base64,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\" y=\"6\"/><rect fill=\"#000000\" height=\"96.4844\" style=\"stroke: #000000; stroke-width: 1.0;\" width=\"602\" x=\"0\" y=\"205.5625\"/><rect fill=\"#33FF02\" height=\"21.2969\" style=\"stroke: #33FF02; stroke-width: 1.0;\" width=\"170\" x=\"5\" y=\"210.5625\"/><text fill=\"#000000\" font-family=\"sans-serif\" font-size=\"14\" font-weight=\"bold\" lengthAdjust=\"spacingAndGlyphs\" textLength=\"168\" x=\"6\" y=\"225.5625\">[From string (line 2) ]</text><text fill=\"#33FF02\" font-family=\"sans-serif\" font-size=\"14\" font-weight=\"bold\" lengthAdjust=\"spacingAndGlyphs\" textLength=\"0\" x=\"10\" y=\"245.8594\"/><text fill=\"#33FF02\" font-family=\"sans-serif\" font-size=\"14\" font-weight=\"bold\" lengthAdjust=\"spacingAndGlyphs\" textLength=\"79\" x=\"5\" y=\"262.1563\">@startuml</text><text fill=\"#33FF02\" font-family=\"sans-serif\" font-size=\"14\" font-weight=\"bold\" lengthAdjust=\"spacingAndGlyphs\" textLength=\"0\" x=\"10\" y=\"278.4531\"/><text fill=\"#FF0000\" font-family=\"sans-serif\" font-size=\"14\" font-weight=\"bold\" lengthAdjust=\"spacingAndGlyphs\" textLength=\"142\" x=\"10\" y=\"294.75\">Empty description</text><!--MD5=[f59edd8218d337f74d0c332fc6737304]\n",
       "@startuml\r\n",
       " \r\n",
       "@enduml\r\n",
       "\n",
       "PlantUML version 1.2020.13(Sat Jun 13 12:26:38 UTC 2020)\n",
       "(EPL source distribution)\n",
       "Java Runtime: OpenJDK Runtime Environment\n",
       "JVM: OpenJDK 64-Bit Server VM\n",
       "Default Encoding: UTF-8\n",
       "Language: en\n",
       "Country: null\n",
       "--></g></svg>"
      ]
     },
     "execution_count": 32,
     "metadata": {},
     "output_type": "execute_result"
    }
   ],
   "source": [
    "%viz --style=\"PLANTUML\" --view=\"State\" \"DecisionTest\""
   ]
  },
  {
   "cell_type": "code",
   "execution_count": 33,
   "id": "7ee1f9f6",
   "metadata": {
    "execution": {
     "iopub.execute_input": "2021-06-30T09:20:30.144131Z",
     "iopub.status.busy": "2021-06-30T09:20:30.143169Z",
     "iopub.status.idle": "2021-06-30T09:20:30.207473Z",
     "shell.execute_reply": "2021-06-30T09:20:30.205488Z"
    }
   },
   "outputs": [
    {
     "data": {
      "image/svg+xml": [
       "<?xml version=\"1.0\" encoding=\"UTF-8\" standalone=\"no\"?><svg xmlns=\"http://www.w3.org/2000/svg\" xmlns:xlink=\"http://www.w3.org/1999/xlink\" contentScriptType=\"application/ecmascript\" contentStyleType=\"text/css\" height=\"364px\" preserveAspectRatio=\"none\" style=\"width:367px;height:364px;\" version=\"1.1\" viewBox=\"0 0 367 364\" width=\"367px\" zoomAndPan=\"magnify\"><defs><filter height=\"300%\" id=\"fnwaerklogx42\" width=\"300%\" x=\"-1\" y=\"-1\"><feGaussianBlur result=\"blurOut\" stdDeviation=\"2.0\"/><feColorMatrix in=\"blurOut\" result=\"blurOut2\" type=\"matrix\" values=\"0 0 0 0 0 0 0 0 0 0 0 0 0 0 0 0 0 0 .4 0\"/><feOffset dx=\"4.0\" dy=\"4.0\" in=\"blurOut2\" result=\"blurOut3\"/><feBlend in=\"SourceGraphic\" in2=\"blurOut3\" mode=\"normal\"/></filter></defs><g><!--MD5=[fbc87193dbaf4d95561dea2c320d4a47]\n",
       "cluster E1--><a href=\"psysml:068a4463-a96d-4165-a2bc-cadf70a9bc09\" target=\"_top\" title=\"psysml:068a4463-a96d-4165-a2bc-cadf70a9bc09\" xlink:actuate=\"onRequest\" xlink:href=\"psysml:068a4463-a96d-4165-a2bc-cadf70a9bc09\" xlink:show=\"new\" xlink:title=\"psysml:068a4463-a96d-4165-a2bc-cadf70a9bc09\" xlink:type=\"simple\"><rect fill=\"#FFFFFF\" filter=\"url(#fnwaerklogx42)\" height=\"338\" id=\"E1\" style=\"stroke: #A80036; stroke-width: 1.5;\" width=\"341\" x=\"7\" y=\"7\"/><rect fill=\"#FEFECE\" height=\"37.9375\" style=\"stroke: #A80036; stroke-width: 1.5;\" width=\"341\" x=\"7\" y=\"7\"/><text fill=\"#000000\" font-family=\"sans-serif\" font-size=\"12\" font-style=\"italic\" lengthAdjust=\"spacingAndGlyphs\" textLength=\"77\" x=\"139\" y=\"23.1387\">«action def»</text><text fill=\"#000000\" font-family=\"sans-serif\" font-size=\"12\" lengthAdjust=\"spacingAndGlyphs\" textLength=\"80\" x=\"137.5\" y=\"37.1074\">DecisionTest</text></a><polygon fill=\"#FEFECE\" filter=\"url(#fnwaerklogx42)\" points=\"210,67.5,222,79.5,210,91.5,198,79.5,210,67.5\" style=\"stroke: #A80036; stroke-width: 1.5;\"/><polygon fill=\"#FEFECE\" filter=\"url(#fnwaerklogx42)\" points=\"35,143.5,47,155.5,35,167.5,23,155.5,35,143.5\" style=\"stroke: #A80036; stroke-width: 1.5;\"/><g id=\"E1.E4\"><a href=\"psysml:86b53981-b1ee-4c30-93d6-edfc048c3f3e\" target=\"_top\" title=\"psysml:86b53981-b1ee-4c30-93d6-edfc048c3f3e\" xlink:actuate=\"onRequest\" xlink:href=\"psysml:86b53981-b1ee-4c30-93d6-edfc048c3f3e\" xlink:show=\"new\" xlink:title=\"psysml:86b53981-b1ee-4c30-93d6-edfc048c3f3e\" xlink:type=\"simple\"><rect fill=\"#FEFECE\" filter=\"url(#fnwaerklogx42)\" height=\"42.9375\" id=\"E4\" rx=\"10\" ry=\"10\" style=\"stroke: #A80036; stroke-width: 1.5;\" width=\"86\" x=\"135\" y=\"210\"/><ellipse cx=\"152.25\" cy=\"228.9688\" fill=\"#FFA500\" rx=\"11\" ry=\"11\" style=\"stroke: #A80036; stroke-width: 1.0;\"/><path d=\"M148.125,230.8906 L148.125,223.0781 L150.5781,223.0781 L150.5781,231.5156 Q150.5781,232.4375 151.0469,232.9688 Q151.5313,233.5 152.3594,233.5 Q153.2031,233.5 153.6719,232.9688 Q154.1406,232.4375 154.1406,231.5156 L154.1406,223.0781 L156.5938,223.0781 L156.5938,230.8906 Q156.5938,233.4219 155.5938,234.5625 Q154.5938,235.7031 152.3594,235.7031 Q150.1406,235.7031 149.125,234.5625 Q148.125,233.4219 148.125,230.8906 Z \"/><text fill=\"#000000\" font-family=\"sans-serif\" font-size=\"12\" font-style=\"italic\" lengthAdjust=\"spacingAndGlyphs\" textLength=\"53\" x=\"164.75\" y=\"226.1387\">«action»</text><text fill=\"#000000\" font-family=\"sans-serif\" font-size=\"12\" lengthAdjust=\"spacingAndGlyphs\" textLength=\"16\" x=\"183.25\" y=\"240.1074\">A1</text></a></g><g id=\"E1.E5\"><a href=\"psysml:38b4e12b-2856-48b1-8683-970a7e146d76\" target=\"_top\" title=\"psysml:38b4e12b-2856-48b1-8683-970a7e146d76\" xlink:actuate=\"onRequest\" xlink:href=\"psysml:38b4e12b-2856-48b1-8683-970a7e146d76\" xlink:show=\"new\" xlink:title=\"psysml:38b4e12b-2856-48b1-8683-970a7e146d76\" xlink:type=\"simple\"><rect fill=\"#FEFECE\" filter=\"url(#fnwaerklogx42)\" height=\"42.9375\" id=\"E5\" rx=\"10\" ry=\"10\" style=\"stroke: #A80036; stroke-width: 1.5;\" width=\"86\" x=\"135\" y=\"286\"/><ellipse cx=\"152.25\" cy=\"304.9688\" fill=\"#FFA500\" rx=\"11\" ry=\"11\" style=\"stroke: #A80036; stroke-width: 1.0;\"/><path d=\"M148.125,306.8906 L148.125,299.0781 L150.5781,299.0781 L150.5781,307.5156 Q150.5781,308.4375 151.0469,308.9688 Q151.5313,309.5 152.3594,309.5 Q153.2031,309.5 153.6719,308.9688 Q154.1406,308.4375 154.1406,307.5156 L154.1406,299.0781 L156.5938,299.0781 L156.5938,306.8906 Q156.5938,309.4219 155.5938,310.5625 Q154.5938,311.7031 152.3594,311.7031 Q150.1406,311.7031 149.125,310.5625 Q148.125,309.4219 148.125,306.8906 Z \"/><text fill=\"#000000\" font-family=\"sans-serif\" font-size=\"12\" font-style=\"italic\" lengthAdjust=\"spacingAndGlyphs\" textLength=\"53\" x=\"164.75\" y=\"302.1387\">«action»</text><text fill=\"#000000\" font-family=\"sans-serif\" font-size=\"12\" lengthAdjust=\"spacingAndGlyphs\" textLength=\"16\" x=\"183.25\" y=\"316.1074\">A2</text></a></g><g id=\"E1.E6\"><a href=\"psysml:3ceea1c4-b769-4e45-b22d-b9b14232dc11\" target=\"_top\" title=\"psysml:3ceea1c4-b769-4e45-b22d-b9b14232dc11\" xlink:actuate=\"onRequest\" xlink:href=\"psysml:3ceea1c4-b769-4e45-b22d-b9b14232dc11\" xlink:show=\"new\" xlink:title=\"psysml:3ceea1c4-b769-4e45-b22d-b9b14232dc11\" xlink:type=\"simple\"><rect fill=\"#FEFECE\" filter=\"url(#fnwaerklogx42)\" height=\"42.9375\" id=\"E6\" rx=\"10\" ry=\"10\" style=\"stroke: #A80036; stroke-width: 1.5;\" width=\"86\" x=\"50\" y=\"58\"/><ellipse cx=\"67.25\" cy=\"76.9688\" fill=\"#FFA500\" rx=\"11\" ry=\"11\" style=\"stroke: #A80036; stroke-width: 1.0;\"/><path d=\"M63.125,78.8906 L63.125,71.0781 L65.5781,71.0781 L65.5781,79.5156 Q65.5781,80.4375 66.0469,80.9688 Q66.5313,81.5 67.3594,81.5 Q68.2031,81.5 68.6719,80.9688 Q69.1406,80.4375 69.1406,79.5156 L69.1406,71.0781 L71.5938,71.0781 L71.5938,78.8906 Q71.5938,81.4219 70.5938,82.5625 Q69.5938,83.7031 67.3594,83.7031 Q65.1406,83.7031 64.125,82.5625 Q63.125,81.4219 63.125,78.8906 Z \"/><text fill=\"#000000\" font-family=\"sans-serif\" font-size=\"12\" font-style=\"italic\" lengthAdjust=\"spacingAndGlyphs\" textLength=\"53\" x=\"79.75\" y=\"74.1387\">«action»</text><text fill=\"#000000\" font-family=\"sans-serif\" font-size=\"12\" lengthAdjust=\"spacingAndGlyphs\" textLength=\"16\" x=\"98.25\" y=\"88.1074\">A3</text></a></g><g id=\"E1.E7\"><a href=\"psysml:3ceea1c4-b769-4e45-b22d-b9b14232dc11\" target=\"_top\" title=\"psysml:3ceea1c4-b769-4e45-b22d-b9b14232dc11\" xlink:actuate=\"onRequest\" xlink:href=\"psysml:3ceea1c4-b769-4e45-b22d-b9b14232dc11\" xlink:show=\"new\" xlink:title=\"psysml:3ceea1c4-b769-4e45-b22d-b9b14232dc11\" xlink:type=\"simple\"><rect fill=\"#FEFECE\" filter=\"url(#fnwaerklogx42)\" height=\"42.9375\" id=\"E7\" rx=\"10\" ry=\"10\" style=\"stroke: #A80036; stroke-width: 1.5;\" width=\"86\" x=\"246\" y=\"134\"/><ellipse cx=\"263.25\" cy=\"152.9688\" fill=\"#FFA500\" rx=\"11\" ry=\"11\" style=\"stroke: #A80036; stroke-width: 1.0;\"/><path d=\"M259.125,154.8906 L259.125,147.0781 L261.5781,147.0781 L261.5781,155.5156 Q261.5781,156.4375 262.0469,156.9688 Q262.5313,157.5 263.3594,157.5 Q264.2031,157.5 264.6719,156.9688 Q265.1406,156.4375 265.1406,155.5156 L265.1406,147.0781 L267.5938,147.0781 L267.5938,154.8906 Q267.5938,157.4219 266.5938,158.5625 Q265.5938,159.7031 263.3594,159.7031 Q261.1406,159.7031 260.125,158.5625 Q259.125,157.4219 259.125,154.8906 Z \"/><text fill=\"#000000\" font-family=\"sans-serif\" font-size=\"12\" font-style=\"italic\" lengthAdjust=\"spacingAndGlyphs\" textLength=\"53\" x=\"275.75\" y=\"150.1387\">«action»</text><text fill=\"#000000\" font-family=\"sans-serif\" font-size=\"12\" lengthAdjust=\"spacingAndGlyphs\" textLength=\"16\" x=\"294.25\" y=\"164.1074\">A3</text></a></g><!--MD5=[4d03bb2d0377dc85ccfab60ff574652b]\n",
       "link E2 to E4--><a href=\"psysml:5839aeb0-dd7d-4257-be26-6d697b84d54b\" target=\"_top\" title=\"psysml:5839aeb0-dd7d-4257-be26-6d697b84d54b\" xlink:actuate=\"onRequest\" xlink:href=\"psysml:5839aeb0-dd7d-4257-be26-6d697b84d54b\" xlink:show=\"new\" xlink:title=\"psysml:5839aeb0-dd7d-4257-be26-6d697b84d54b\" xlink:type=\"simple\"><path d=\"M201.97,84.07 C187.22,91.12 156.19,108.44 144,134 C135.78,151.25 138.66,158.65 144,177 C146.9,186.99 152.3,196.89 157.95,205.41 \" fill=\"none\" id=\"E2-&gt;E4\" style=\"stroke: #A80036; stroke-width: 1.0;\"/><polygon fill=\"#A80036\" points=\"161.1,209.99,159.2903,200.3088,158.2643,205.8719,152.7013,204.8459,161.1,209.99\" style=\"stroke: #A80036; stroke-width: 1.0;\"/><text fill=\"#000000\" font-family=\"sans-serif\" font-size=\"13\" lengthAdjust=\"spacingAndGlyphs\" textLength=\"55\" x=\"145\" y=\"160.0669\">[x == 1]</text></a><!--MD5=[dcad52bbbca2fe8adc741ce38b45dc12]\n",
       "link E2 to E5--><a href=\"psysml:6472265e-4329-42f9-a73f-b0fdd653d81d\" target=\"_top\" title=\"psysml:6472265e-4329-42f9-a73f-b0fdd653d81d\" xlink:actuate=\"onRequest\" xlink:href=\"psysml:6472265e-4329-42f9-a73f-b0fdd653d81d\" xlink:show=\"new\" xlink:title=\"psysml:6472265e-4329-42f9-a73f-b0fdd653d81d\" xlink:type=\"simple\"><path d=\"M210.68,91.05 C211.4,100.32 212.73,114.14 215,126 C219.41,149.09 222.48,154.42 229,177 C233.25,191.72 236.16,194.94 239,210 C243.21,232.34 242.11,238.28 243,261 C243.3,268.55 247.13,271.68 243,278 C238.78,284.45 232.75,289.45 226.03,293.33 \" fill=\"none\" id=\"E2-&gt;E5\" style=\"stroke: #A80036; stroke-width: 1.0;\"/><polygon fill=\"#A80036\" points=\"221.28,295.83,231.1075,295.1819,225.7055,293.503,227.3844,288.101,221.28,295.83\" style=\"stroke: #A80036; stroke-width: 1.0;\"/><text fill=\"#000000\" font-family=\"sans-serif\" font-size=\"13\" lengthAdjust=\"spacingAndGlyphs\" textLength=\"44\" x=\"238\" y=\"198.0669\">[x &gt; 1]</text></a><!--MD5=[e3d2a08a9c9236652057e8ed0cbc9b62]\n",
       "link E2 to E7--><a href=\"psysml:3c10905a-0cf4-4572-9b68-27220c544656\" target=\"_top\" title=\"psysml:3c10905a-0cf4-4572-9b68-27220c544656\" xlink:actuate=\"onRequest\" xlink:href=\"psysml:3c10905a-0cf4-4572-9b68-27220c544656\" xlink:show=\"new\" xlink:title=\"psysml:3c10905a-0cf4-4572-9b68-27220c544656\" xlink:type=\"simple\"><path d=\"M213.08,88.8 C217.09,98.68 224.92,115.21 236,126 C237.78,127.73 239.68,129.39 241.67,130.97 \" fill=\"none\" id=\"E2-&gt;E7\" style=\"stroke: #A80036; stroke-width: 1.0;\"/><polygon fill=\"#A80036\" points=\"245.87,134.1,241.0503,125.511,241.8631,131.1092,236.265,131.922,245.87,134.1\" style=\"stroke: #A80036; stroke-width: 1.0;\"/></a><!--MD5=[583832df87f4419a098336a29a52fa00]\n",
       "link E7 to E2--><a href=\"psysml:2ecae6e1-cb24-4407-809b-df9594bdb8fa\" target=\"_top\" title=\"psysml:2ecae6e1-cb24-4407-809b-df9594bdb8fa\" xlink:actuate=\"onRequest\" xlink:href=\"psysml:2ecae6e1-cb24-4407-809b-df9594bdb8fa\" xlink:show=\"new\" xlink:title=\"psysml:2ecae6e1-cb24-4407-809b-df9594bdb8fa\" xlink:type=\"simple\"><path d=\"M266.81,133.71 C251.24,119.13 231.21,100.37 219.57,89.46 \" fill=\"none\" id=\"E7-&gt;E2\" style=\"stroke: #A80036; stroke-width: 1.0;\"/><polygon fill=\"#A80036\" points=\"215.68,85.82,219.5101,94.8936,219.3277,89.2397,224.9816,89.0573,215.68,85.82\" style=\"stroke: #A80036; stroke-width: 1.0;\"/><text fill=\"#000000\" font-family=\"sans-serif\" font-size=\"13\" lengthAdjust=\"spacingAndGlyphs\" textLength=\"44\" x=\"257\" y=\"122.0669\">[x &gt; 0]</text></a><!--MD5=[2720a5a1f2c3fca2055b230370638851]\n",
       "link E2 to E3--><a href=\"psysml:4534ef33-8eda-405a-b2f5-6c95fd446375\" target=\"_top\" title=\"psysml:4534ef33-8eda-405a-b2f5-6c95fd446375\" xlink:actuate=\"onRequest\" xlink:href=\"psysml:4534ef33-8eda-405a-b2f5-6c95fd446375\" xlink:show=\"new\" xlink:title=\"psysml:4534ef33-8eda-405a-b2f5-6c95fd446375\" xlink:type=\"simple\"><path d=\"M202.17,83.87 C191.47,88.37 171.6,96.29 154,101 C133.95,106.37 127.39,101.6 108,109 C83.93,118.19 59.16,135.65 45.55,146.07 \" fill=\"none\" id=\"E2-&gt;E3\" style=\"stroke: #A80036; stroke-width: 1.0;\"/><polygon fill=\"#A80036\" points=\"41.38,149.31,50.9381,146.9348,45.3245,146.2373,46.0219,140.6236,41.38,149.31\" style=\"stroke: #A80036; stroke-width: 1.0;\"/></a><!--MD5=[af87c684e3b0d8be13c1a698a818ef1e]\n",
       "link E3 to E4--><a href=\"psysml:4cb33783-cb85-4624-8a6d-789ab5e27309\" target=\"_top\" title=\"psysml:4cb33783-cb85-4624-8a6d-789ab5e27309\" xlink:actuate=\"onRequest\" xlink:href=\"psysml:4cb33783-cb85-4624-8a6d-789ab5e27309\" xlink:show=\"new\" xlink:title=\"psysml:4cb33783-cb85-4624-8a6d-789ab5e27309\" xlink:type=\"simple\"><path d=\"M40.05,162.75 C48.27,172.51 65.48,191.36 84,202 C86.27,203.3 107.96,209.91 129.94,216.43 \" fill=\"none\" id=\"E3-&gt;E4\" style=\"stroke: #A80036; stroke-width: 1.0;\"/><polygon fill=\"#A80036\" points=\"134.92,217.9,127.4226,211.5133,130.125,216.483,125.1554,219.1853,134.92,217.9\" style=\"stroke: #A80036; stroke-width: 1.0;\"/><text fill=\"#000000\" font-family=\"sans-serif\" font-size=\"13\" lengthAdjust=\"spacingAndGlyphs\" textLength=\"36\" x=\"85\" y=\"198.0669\">[true]</text></a><!--MD5=[0188b64bb0ae78505a997a81836e11e9]\n",
       "link E3 to E5--><a href=\"psysml:7566f218-2e4c-4b1d-8134-f6de9f4cb12f\" target=\"_top\" title=\"psysml:7566f218-2e4c-4b1d-8134-f6de9f4cb12f\" xlink:actuate=\"onRequest\" xlink:href=\"psysml:7566f218-2e4c-4b1d-8134-f6de9f4cb12f\" xlink:show=\"new\" xlink:title=\"psysml:7566f218-2e4c-4b1d-8134-f6de9f4cb12f\" xlink:type=\"simple\"><path d=\"M36.78,165.88 C40.75,184.57 51.94,226.9 76,253 C90.74,268.99 111.37,281.06 130.23,289.64 \" fill=\"none\" id=\"E3-&gt;E5\" style=\"stroke: #A80036; stroke-width: 1.0;\"/><polygon fill=\"#A80036\" points=\"134.98,291.75,128.376,284.4433,130.4098,289.722,125.1311,291.7557,134.98,291.75\" style=\"stroke: #A80036; stroke-width: 1.0;\"/><text fill=\"#000000\" font-family=\"sans-serif\" font-size=\"13\" lengthAdjust=\"spacingAndGlyphs\" textLength=\"40\" x=\"77\" y=\"236.0669\">[false]</text></a><!--MD5=[1b7591eae5389033d8d09a9d6721a717]\n",
       "link E4 to E5--><a href=\"psysml:2ec4d8de-ba31-4f08-a58c-ce574f556666\" target=\"_top\" title=\"psysml:2ec4d8de-ba31-4f08-a58c-ce574f556666\" xlink:actuate=\"onRequest\" xlink:href=\"psysml:2ec4d8de-ba31-4f08-a58c-ce574f556666\" xlink:show=\"new\" xlink:title=\"psysml:2ec4d8de-ba31-4f08-a58c-ce574f556666\" xlink:type=\"simple\"><path d=\"M178,253.11 C178,261.69 178,271.75 178,280.8 \" fill=\"none\" id=\"E4-&gt;E5\" style=\"stroke: #A80036; stroke-width: 1.0;\"/><polygon fill=\"#A80036\" points=\"178,286,182,277,178,281,174,277,178,286\" style=\"stroke: #A80036; stroke-width: 1.0;\"/><text fill=\"#000000\" font-family=\"sans-serif\" font-size=\"13\" lengthAdjust=\"spacingAndGlyphs\" textLength=\"55\" x=\"179\" y=\"274.0669\">[x == 0]</text></a><!--MD5=[691df7dd44a6f2974d3d86552c7c2835]\n",
       "@startuml\r\n",
       "skinparam ranksep 10\r\n",
       "skinparam rectangle {\r\n",
       " backgroundColor<<block>> LightGreen\r\n",
       "}\r\n",
       " \r\n",
       "rec def \"DecisionTest\" as E1 << <<(B,lemonchiffon) action def>> [[psysml:068a4463-a96d-4165-a2bc-cadf70a9bc09 ]] {\r\n",
       "choice \"test x\" as E2  [[psysml:44ee9e06-5fd9-46bf-b0f8-00dd693073b7 ]] \r\n",
       "choice \"noname\" as E3  [[psysml:eeb68ac4-2ad3-4e0c-9c18-140c63d1edba ]] \r\n",
       "rec usage \"A1\" as E4 << <<(U,orange) action>> [[psysml:86b53981-b1ee-4c30-93d6-edfc048c3f3e ]] {\r\n",
       "}\r\n",
       "\r\n",
       "rec usage \"A2\" as E5 << <<(U,orange) action>> [[psysml:38b4e12b-2856-48b1-8683-970a7e146d76 ]] {\r\n",
       "}\r\n",
       "\r\n",
       "rec usage \"A3\" as E6 << <<(U,orange) action>> [[psysml:3ceea1c4-b769-4e45-b22d-b9b14232dc11 ]] {\r\n",
       "}\r\n",
       "\r\n",
       "rec usage \"A3\" as E7 << <<(U,orange) action>> [[psysml:3ceea1c4-b769-4e45-b22d-b9b14232dc11 ]] {\r\n",
       "}\r\n",
       "\r\n",
       "}\r\n",
       "\r\n",
       "E2  - -> E4 [[psysml:5839aeb0-dd7d-4257-be26-6d697b84d54b ]] : [x == 1]\r\n",
       "E2  - -> E5 [[psysml:6472265e-4329-42f9-a73f-b0fdd653d81d ]] : [x > 1]\r\n",
       "E2  - -> E7 [[psysml:3c10905a-0cf4-4572-9b68-27220c544656 ]] \r\n",
       "E2 - -> E3 [[psysml:4534ef33-8eda-405a-b2f5-6c95fd446375 ]] \r\n",
       "E3  - -> E4 [[psysml:4cb33783-cb85-4624-8a6d-789ab5e27309 ]] : [true]\r\n",
       "E3  - -> E5 [[psysml:7566f218-2e4c-4b1d-8134-f6de9f4cb12f ]] : [false]\r\n",
       "E4  - -> E5 [[psysml:2ec4d8de-ba31-4f08-a58c-ce574f556666 ]] : [x == 0]\r\n",
       "E7  - -> E2 [[psysml:2ecae6e1-cb24-4407-809b-df9594bdb8fa ]] : [x > 0]\r\n",
       "@enduml\r\n",
       "\n",
       "PlantUML version 1.2020.13(Sat Jun 13 12:26:38 UTC 2020)\n",
       "(EPL source distribution)\n",
       "Java Runtime: OpenJDK Runtime Environment\n",
       "JVM: OpenJDK 64-Bit Server VM\n",
       "Default Encoding: UTF-8\n",
       "Language: en\n",
       "Country: null\n",
       "--></g></svg>"
      ]
     },
     "execution_count": 33,
     "metadata": {},
     "output_type": "execute_result"
    }
   ],
   "source": [
    "%viz --style=\"PLANTUML\" --view=\"Interconnection\" \"DecisionTest\""
   ]
  },
  {
   "cell_type": "code",
   "execution_count": 34,
   "id": "1c62e944",
   "metadata": {
    "execution": {
     "iopub.execute_input": "2021-06-30T09:20:30.257533Z",
     "iopub.status.busy": "2021-06-30T09:20:30.256844Z",
     "iopub.status.idle": "2021-06-30T09:20:30.313367Z",
     "shell.execute_reply": "2021-06-30T09:20:30.312665Z"
    }
   },
   "outputs": [
    {
     "data": {
      "image/svg+xml": [
       "<?xml version=\"1.0\" encoding=\"UTF-8\" standalone=\"no\"?><svg xmlns=\"http://www.w3.org/2000/svg\" xmlns:xlink=\"http://www.w3.org/1999/xlink\" contentScriptType=\"application/ecmascript\" contentStyleType=\"text/css\" height=\"364px\" preserveAspectRatio=\"none\" style=\"width:367px;height:364px;\" version=\"1.1\" viewBox=\"0 0 367 364\" width=\"367px\" zoomAndPan=\"magnify\"><defs><filter height=\"300%\" id=\"fyckh4vccf9q4\" width=\"300%\" x=\"-1\" y=\"-1\"><feGaussianBlur result=\"blurOut\" stdDeviation=\"2.0\"/><feColorMatrix in=\"blurOut\" result=\"blurOut2\" type=\"matrix\" values=\"0 0 0 0 0 0 0 0 0 0 0 0 0 0 0 0 0 0 .4 0\"/><feOffset dx=\"4.0\" dy=\"4.0\" in=\"blurOut2\" result=\"blurOut3\"/><feBlend in=\"SourceGraphic\" in2=\"blurOut3\" mode=\"normal\"/></filter></defs><g><!--MD5=[fbc87193dbaf4d95561dea2c320d4a47]\n",
       "cluster E1--><a href=\"psysml:068a4463-a96d-4165-a2bc-cadf70a9bc09\" target=\"_top\" title=\"psysml:068a4463-a96d-4165-a2bc-cadf70a9bc09\" xlink:actuate=\"onRequest\" xlink:href=\"psysml:068a4463-a96d-4165-a2bc-cadf70a9bc09\" xlink:show=\"new\" xlink:title=\"psysml:068a4463-a96d-4165-a2bc-cadf70a9bc09\" xlink:type=\"simple\"><rect fill=\"#FFFFFF\" filter=\"url(#fyckh4vccf9q4)\" height=\"338\" id=\"E1\" style=\"stroke: #A80036; stroke-width: 1.5;\" width=\"341\" x=\"7\" y=\"7\"/><rect fill=\"#FEFECE\" height=\"37.9375\" style=\"stroke: #A80036; stroke-width: 1.5;\" width=\"341\" x=\"7\" y=\"7\"/><text fill=\"#000000\" font-family=\"sans-serif\" font-size=\"12\" font-style=\"italic\" lengthAdjust=\"spacingAndGlyphs\" textLength=\"77\" x=\"139\" y=\"23.1387\">«action def»</text><text fill=\"#000000\" font-family=\"sans-serif\" font-size=\"12\" lengthAdjust=\"spacingAndGlyphs\" textLength=\"80\" x=\"137.5\" y=\"37.1074\">DecisionTest</text></a><polygon fill=\"#FEFECE\" filter=\"url(#fyckh4vccf9q4)\" points=\"210,67.5,222,79.5,210,91.5,198,79.5,210,67.5\" style=\"stroke: #A80036; stroke-width: 1.5;\"/><polygon fill=\"#FEFECE\" filter=\"url(#fyckh4vccf9q4)\" points=\"35,143.5,47,155.5,35,167.5,23,155.5,35,143.5\" style=\"stroke: #A80036; stroke-width: 1.5;\"/><g id=\"E1.E4\"><a href=\"psysml:86b53981-b1ee-4c30-93d6-edfc048c3f3e\" target=\"_top\" title=\"psysml:86b53981-b1ee-4c30-93d6-edfc048c3f3e\" xlink:actuate=\"onRequest\" xlink:href=\"psysml:86b53981-b1ee-4c30-93d6-edfc048c3f3e\" xlink:show=\"new\" xlink:title=\"psysml:86b53981-b1ee-4c30-93d6-edfc048c3f3e\" xlink:type=\"simple\"><rect fill=\"#FEFECE\" filter=\"url(#fyckh4vccf9q4)\" height=\"42.9375\" id=\"E4\" rx=\"10\" ry=\"10\" style=\"stroke: #A80036; stroke-width: 1.5;\" width=\"86\" x=\"135\" y=\"210\"/><ellipse cx=\"152.25\" cy=\"228.9688\" fill=\"#FFA500\" rx=\"11\" ry=\"11\" style=\"stroke: #A80036; stroke-width: 1.0;\"/><path d=\"M148.125,230.8906 L148.125,223.0781 L150.5781,223.0781 L150.5781,231.5156 Q150.5781,232.4375 151.0469,232.9688 Q151.5313,233.5 152.3594,233.5 Q153.2031,233.5 153.6719,232.9688 Q154.1406,232.4375 154.1406,231.5156 L154.1406,223.0781 L156.5938,223.0781 L156.5938,230.8906 Q156.5938,233.4219 155.5938,234.5625 Q154.5938,235.7031 152.3594,235.7031 Q150.1406,235.7031 149.125,234.5625 Q148.125,233.4219 148.125,230.8906 Z \"/><text fill=\"#000000\" font-family=\"sans-serif\" font-size=\"12\" font-style=\"italic\" lengthAdjust=\"spacingAndGlyphs\" textLength=\"53\" x=\"164.75\" y=\"226.1387\">«action»</text><text fill=\"#000000\" font-family=\"sans-serif\" font-size=\"12\" lengthAdjust=\"spacingAndGlyphs\" textLength=\"16\" x=\"183.25\" y=\"240.1074\">A1</text></a></g><g id=\"E1.E5\"><a href=\"psysml:38b4e12b-2856-48b1-8683-970a7e146d76\" target=\"_top\" title=\"psysml:38b4e12b-2856-48b1-8683-970a7e146d76\" xlink:actuate=\"onRequest\" xlink:href=\"psysml:38b4e12b-2856-48b1-8683-970a7e146d76\" xlink:show=\"new\" xlink:title=\"psysml:38b4e12b-2856-48b1-8683-970a7e146d76\" xlink:type=\"simple\"><rect fill=\"#FEFECE\" filter=\"url(#fyckh4vccf9q4)\" height=\"42.9375\" id=\"E5\" rx=\"10\" ry=\"10\" style=\"stroke: #A80036; stroke-width: 1.5;\" width=\"86\" x=\"135\" y=\"286\"/><ellipse cx=\"152.25\" cy=\"304.9688\" fill=\"#FFA500\" rx=\"11\" ry=\"11\" style=\"stroke: #A80036; stroke-width: 1.0;\"/><path d=\"M148.125,306.8906 L148.125,299.0781 L150.5781,299.0781 L150.5781,307.5156 Q150.5781,308.4375 151.0469,308.9688 Q151.5313,309.5 152.3594,309.5 Q153.2031,309.5 153.6719,308.9688 Q154.1406,308.4375 154.1406,307.5156 L154.1406,299.0781 L156.5938,299.0781 L156.5938,306.8906 Q156.5938,309.4219 155.5938,310.5625 Q154.5938,311.7031 152.3594,311.7031 Q150.1406,311.7031 149.125,310.5625 Q148.125,309.4219 148.125,306.8906 Z \"/><text fill=\"#000000\" font-family=\"sans-serif\" font-size=\"12\" font-style=\"italic\" lengthAdjust=\"spacingAndGlyphs\" textLength=\"53\" x=\"164.75\" y=\"302.1387\">«action»</text><text fill=\"#000000\" font-family=\"sans-serif\" font-size=\"12\" lengthAdjust=\"spacingAndGlyphs\" textLength=\"16\" x=\"183.25\" y=\"316.1074\">A2</text></a></g><g id=\"E1.E6\"><a href=\"psysml:3ceea1c4-b769-4e45-b22d-b9b14232dc11\" target=\"_top\" title=\"psysml:3ceea1c4-b769-4e45-b22d-b9b14232dc11\" xlink:actuate=\"onRequest\" xlink:href=\"psysml:3ceea1c4-b769-4e45-b22d-b9b14232dc11\" xlink:show=\"new\" xlink:title=\"psysml:3ceea1c4-b769-4e45-b22d-b9b14232dc11\" xlink:type=\"simple\"><rect fill=\"#FEFECE\" filter=\"url(#fyckh4vccf9q4)\" height=\"42.9375\" id=\"E6\" rx=\"10\" ry=\"10\" style=\"stroke: #A80036; stroke-width: 1.5;\" width=\"86\" x=\"50\" y=\"58\"/><ellipse cx=\"67.25\" cy=\"76.9688\" fill=\"#FFA500\" rx=\"11\" ry=\"11\" style=\"stroke: #A80036; stroke-width: 1.0;\"/><path d=\"M63.125,78.8906 L63.125,71.0781 L65.5781,71.0781 L65.5781,79.5156 Q65.5781,80.4375 66.0469,80.9688 Q66.5313,81.5 67.3594,81.5 Q68.2031,81.5 68.6719,80.9688 Q69.1406,80.4375 69.1406,79.5156 L69.1406,71.0781 L71.5938,71.0781 L71.5938,78.8906 Q71.5938,81.4219 70.5938,82.5625 Q69.5938,83.7031 67.3594,83.7031 Q65.1406,83.7031 64.125,82.5625 Q63.125,81.4219 63.125,78.8906 Z \"/><text fill=\"#000000\" font-family=\"sans-serif\" font-size=\"12\" font-style=\"italic\" lengthAdjust=\"spacingAndGlyphs\" textLength=\"53\" x=\"79.75\" y=\"74.1387\">«action»</text><text fill=\"#000000\" font-family=\"sans-serif\" font-size=\"12\" lengthAdjust=\"spacingAndGlyphs\" textLength=\"16\" x=\"98.25\" y=\"88.1074\">A3</text></a></g><g id=\"E1.E7\"><a href=\"psysml:3ceea1c4-b769-4e45-b22d-b9b14232dc11\" target=\"_top\" title=\"psysml:3ceea1c4-b769-4e45-b22d-b9b14232dc11\" xlink:actuate=\"onRequest\" xlink:href=\"psysml:3ceea1c4-b769-4e45-b22d-b9b14232dc11\" xlink:show=\"new\" xlink:title=\"psysml:3ceea1c4-b769-4e45-b22d-b9b14232dc11\" xlink:type=\"simple\"><rect fill=\"#FEFECE\" filter=\"url(#fyckh4vccf9q4)\" height=\"42.9375\" id=\"E7\" rx=\"10\" ry=\"10\" style=\"stroke: #A80036; stroke-width: 1.5;\" width=\"86\" x=\"246\" y=\"134\"/><ellipse cx=\"263.25\" cy=\"152.9688\" fill=\"#FFA500\" rx=\"11\" ry=\"11\" style=\"stroke: #A80036; stroke-width: 1.0;\"/><path d=\"M259.125,154.8906 L259.125,147.0781 L261.5781,147.0781 L261.5781,155.5156 Q261.5781,156.4375 262.0469,156.9688 Q262.5313,157.5 263.3594,157.5 Q264.2031,157.5 264.6719,156.9688 Q265.1406,156.4375 265.1406,155.5156 L265.1406,147.0781 L267.5938,147.0781 L267.5938,154.8906 Q267.5938,157.4219 266.5938,158.5625 Q265.5938,159.7031 263.3594,159.7031 Q261.1406,159.7031 260.125,158.5625 Q259.125,157.4219 259.125,154.8906 Z \"/><text fill=\"#000000\" font-family=\"sans-serif\" font-size=\"12\" font-style=\"italic\" lengthAdjust=\"spacingAndGlyphs\" textLength=\"53\" x=\"275.75\" y=\"150.1387\">«action»</text><text fill=\"#000000\" font-family=\"sans-serif\" font-size=\"12\" lengthAdjust=\"spacingAndGlyphs\" textLength=\"16\" x=\"294.25\" y=\"164.1074\">A3</text></a></g><!--MD5=[4d03bb2d0377dc85ccfab60ff574652b]\n",
       "link E2 to E4--><a href=\"psysml:5839aeb0-dd7d-4257-be26-6d697b84d54b\" target=\"_top\" title=\"psysml:5839aeb0-dd7d-4257-be26-6d697b84d54b\" xlink:actuate=\"onRequest\" xlink:href=\"psysml:5839aeb0-dd7d-4257-be26-6d697b84d54b\" xlink:show=\"new\" xlink:title=\"psysml:5839aeb0-dd7d-4257-be26-6d697b84d54b\" xlink:type=\"simple\"><path d=\"M201.97,84.07 C187.22,91.12 156.19,108.44 144,134 C135.78,151.25 138.66,158.65 144,177 C146.9,186.99 152.3,196.89 157.95,205.41 \" fill=\"none\" id=\"E2-&gt;E4\" style=\"stroke: #A80036; stroke-width: 1.0; stroke-dasharray: 7.0,7.0;\"/><polygon fill=\"#A80036\" points=\"161.1,209.99,159.2903,200.3088,158.2643,205.8719,152.7013,204.8459,161.1,209.99\" style=\"stroke: #A80036; stroke-width: 1.0;\"/><text fill=\"#000000\" font-family=\"sans-serif\" font-size=\"13\" lengthAdjust=\"spacingAndGlyphs\" textLength=\"55\" x=\"145\" y=\"160.0669\">[x == 1]</text></a><!--MD5=[dcad52bbbca2fe8adc741ce38b45dc12]\n",
       "link E2 to E5--><a href=\"psysml:6472265e-4329-42f9-a73f-b0fdd653d81d\" target=\"_top\" title=\"psysml:6472265e-4329-42f9-a73f-b0fdd653d81d\" xlink:actuate=\"onRequest\" xlink:href=\"psysml:6472265e-4329-42f9-a73f-b0fdd653d81d\" xlink:show=\"new\" xlink:title=\"psysml:6472265e-4329-42f9-a73f-b0fdd653d81d\" xlink:type=\"simple\"><path d=\"M210.68,91.05 C211.4,100.32 212.73,114.14 215,126 C219.41,149.09 222.48,154.42 229,177 C233.25,191.72 236.16,194.94 239,210 C243.21,232.34 242.11,238.28 243,261 C243.3,268.55 247.13,271.68 243,278 C238.78,284.45 232.75,289.45 226.03,293.33 \" fill=\"none\" id=\"E2-&gt;E5\" style=\"stroke: #A80036; stroke-width: 1.0; stroke-dasharray: 7.0,7.0;\"/><polygon fill=\"#A80036\" points=\"221.28,295.83,231.1075,295.1819,225.7055,293.503,227.3844,288.101,221.28,295.83\" style=\"stroke: #A80036; stroke-width: 1.0;\"/><text fill=\"#000000\" font-family=\"sans-serif\" font-size=\"13\" lengthAdjust=\"spacingAndGlyphs\" textLength=\"44\" x=\"238\" y=\"198.0669\">[x &gt; 1]</text></a><!--MD5=[e3d2a08a9c9236652057e8ed0cbc9b62]\n",
       "link E2 to E7--><a href=\"psysml:3c10905a-0cf4-4572-9b68-27220c544656\" target=\"_top\" title=\"psysml:3c10905a-0cf4-4572-9b68-27220c544656\" xlink:actuate=\"onRequest\" xlink:href=\"psysml:3c10905a-0cf4-4572-9b68-27220c544656\" xlink:show=\"new\" xlink:title=\"psysml:3c10905a-0cf4-4572-9b68-27220c544656\" xlink:type=\"simple\"><path d=\"M213.08,88.8 C217.09,98.68 224.92,115.21 236,126 C237.78,127.73 239.68,129.39 241.67,130.97 \" fill=\"none\" id=\"E2-&gt;E7\" style=\"stroke: #A80036; stroke-width: 1.0; stroke-dasharray: 7.0,7.0;\"/><polygon fill=\"#A80036\" points=\"245.87,134.1,241.0503,125.511,241.8631,131.1092,236.265,131.922,245.87,134.1\" style=\"stroke: #A80036; stroke-width: 1.0;\"/></a><!--MD5=[583832df87f4419a098336a29a52fa00]\n",
       "link E7 to E2--><a href=\"psysml:2ecae6e1-cb24-4407-809b-df9594bdb8fa\" target=\"_top\" title=\"psysml:2ecae6e1-cb24-4407-809b-df9594bdb8fa\" xlink:actuate=\"onRequest\" xlink:href=\"psysml:2ecae6e1-cb24-4407-809b-df9594bdb8fa\" xlink:show=\"new\" xlink:title=\"psysml:2ecae6e1-cb24-4407-809b-df9594bdb8fa\" xlink:type=\"simple\"><path d=\"M266.81,133.71 C251.24,119.13 231.21,100.37 219.57,89.46 \" fill=\"none\" id=\"E7-&gt;E2\" style=\"stroke: #A80036; stroke-width: 1.0; stroke-dasharray: 7.0,7.0;\"/><polygon fill=\"#A80036\" points=\"215.68,85.82,219.5101,94.8936,219.3277,89.2397,224.9816,89.0573,215.68,85.82\" style=\"stroke: #A80036; stroke-width: 1.0;\"/><text fill=\"#000000\" font-family=\"sans-serif\" font-size=\"13\" lengthAdjust=\"spacingAndGlyphs\" textLength=\"44\" x=\"257\" y=\"122.0669\">[x &gt; 0]</text></a><!--MD5=[2720a5a1f2c3fca2055b230370638851]\n",
       "link E2 to E3--><a href=\"psysml:4534ef33-8eda-405a-b2f5-6c95fd446375\" target=\"_top\" title=\"psysml:4534ef33-8eda-405a-b2f5-6c95fd446375\" xlink:actuate=\"onRequest\" xlink:href=\"psysml:4534ef33-8eda-405a-b2f5-6c95fd446375\" xlink:show=\"new\" xlink:title=\"psysml:4534ef33-8eda-405a-b2f5-6c95fd446375\" xlink:type=\"simple\"><path d=\"M202.17,83.87 C191.47,88.37 171.6,96.29 154,101 C133.95,106.37 127.39,101.6 108,109 C83.93,118.19 59.16,135.65 45.55,146.07 \" fill=\"none\" id=\"E2-&gt;E3\" style=\"stroke: #A80036; stroke-width: 1.0; stroke-dasharray: 7.0,7.0;\"/><polygon fill=\"#A80036\" points=\"41.38,149.31,50.9381,146.9348,45.3245,146.2373,46.0219,140.6236,41.38,149.31\" style=\"stroke: #A80036; stroke-width: 1.0;\"/></a><!--MD5=[af87c684e3b0d8be13c1a698a818ef1e]\n",
       "link E3 to E4--><a href=\"psysml:4cb33783-cb85-4624-8a6d-789ab5e27309\" target=\"_top\" title=\"psysml:4cb33783-cb85-4624-8a6d-789ab5e27309\" xlink:actuate=\"onRequest\" xlink:href=\"psysml:4cb33783-cb85-4624-8a6d-789ab5e27309\" xlink:show=\"new\" xlink:title=\"psysml:4cb33783-cb85-4624-8a6d-789ab5e27309\" xlink:type=\"simple\"><path d=\"M40.05,162.75 C48.27,172.51 65.48,191.36 84,202 C86.27,203.3 107.96,209.91 129.94,216.43 \" fill=\"none\" id=\"E3-&gt;E4\" style=\"stroke: #A80036; stroke-width: 1.0; stroke-dasharray: 7.0,7.0;\"/><polygon fill=\"#A80036\" points=\"134.92,217.9,127.4226,211.5133,130.125,216.483,125.1554,219.1853,134.92,217.9\" style=\"stroke: #A80036; stroke-width: 1.0;\"/><text fill=\"#000000\" font-family=\"sans-serif\" font-size=\"13\" lengthAdjust=\"spacingAndGlyphs\" textLength=\"36\" x=\"85\" y=\"198.0669\">[true]</text></a><!--MD5=[0188b64bb0ae78505a997a81836e11e9]\n",
       "link E3 to E5--><a href=\"psysml:7566f218-2e4c-4b1d-8134-f6de9f4cb12f\" target=\"_top\" title=\"psysml:7566f218-2e4c-4b1d-8134-f6de9f4cb12f\" xlink:actuate=\"onRequest\" xlink:href=\"psysml:7566f218-2e4c-4b1d-8134-f6de9f4cb12f\" xlink:show=\"new\" xlink:title=\"psysml:7566f218-2e4c-4b1d-8134-f6de9f4cb12f\" xlink:type=\"simple\"><path d=\"M36.78,165.88 C40.75,184.57 51.94,226.9 76,253 C90.74,268.99 111.37,281.06 130.23,289.64 \" fill=\"none\" id=\"E3-&gt;E5\" style=\"stroke: #A80036; stroke-width: 1.0; stroke-dasharray: 7.0,7.0;\"/><polygon fill=\"#A80036\" points=\"134.98,291.75,128.376,284.4433,130.4098,289.722,125.1311,291.7557,134.98,291.75\" style=\"stroke: #A80036; stroke-width: 1.0;\"/><text fill=\"#000000\" font-family=\"sans-serif\" font-size=\"13\" lengthAdjust=\"spacingAndGlyphs\" textLength=\"40\" x=\"77\" y=\"236.0669\">[false]</text></a><!--MD5=[1b7591eae5389033d8d09a9d6721a717]\n",
       "link E4 to E5--><a href=\"psysml:2ec4d8de-ba31-4f08-a58c-ce574f556666\" target=\"_top\" title=\"psysml:2ec4d8de-ba31-4f08-a58c-ce574f556666\" xlink:actuate=\"onRequest\" xlink:href=\"psysml:2ec4d8de-ba31-4f08-a58c-ce574f556666\" xlink:show=\"new\" xlink:title=\"psysml:2ec4d8de-ba31-4f08-a58c-ce574f556666\" xlink:type=\"simple\"><path d=\"M178,253.11 C178,261.69 178,271.75 178,280.8 \" fill=\"none\" id=\"E4-&gt;E5\" style=\"stroke: #A80036; stroke-width: 1.0; stroke-dasharray: 7.0,7.0;\"/><polygon fill=\"#A80036\" points=\"178,286,182,277,178,281,174,277,178,286\" style=\"stroke: #A80036; stroke-width: 1.0;\"/><text fill=\"#000000\" font-family=\"sans-serif\" font-size=\"13\" lengthAdjust=\"spacingAndGlyphs\" textLength=\"55\" x=\"179\" y=\"274.0669\">[x == 0]</text></a><!--MD5=[5b048c6708791aa406081017fb6e802f]\n",
       "@startuml\r\n",
       "skinparam ranksep 8\r\n",
       " \r\n",
       "rec def \"DecisionTest\" as E1 << <<(B,lemonchiffon) action def>> [[psysml:068a4463-a96d-4165-a2bc-cadf70a9bc09 ]] {\r\n",
       "choice \"test x\" as E2  [[psysml:44ee9e06-5fd9-46bf-b0f8-00dd693073b7 ]] \r\n",
       "choice \"noname\" as E3  [[psysml:eeb68ac4-2ad3-4e0c-9c18-140c63d1edba ]] \r\n",
       "rec usage \"A1\" as E4 << <<(U,orange) action>> [[psysml:86b53981-b1ee-4c30-93d6-edfc048c3f3e ]] {\r\n",
       "}\r\n",
       "\r\n",
       "rec usage \"A2\" as E5 << <<(U,orange) action>> [[psysml:38b4e12b-2856-48b1-8683-970a7e146d76 ]] {\r\n",
       "}\r\n",
       "\r\n",
       "rec usage \"A3\" as E6 << <<(U,orange) action>> [[psysml:3ceea1c4-b769-4e45-b22d-b9b14232dc11 ]] {\r\n",
       "}\r\n",
       "\r\n",
       "rec usage \"A3\" as E7 << <<(U,orange) action>> [[psysml:3ceea1c4-b769-4e45-b22d-b9b14232dc11 ]] {\r\n",
       "}\r\n",
       "\r\n",
       "}\r\n",
       "\r\n",
       "E2 ..> E4 [[psysml:5839aeb0-dd7d-4257-be26-6d697b84d54b ]] : [x == 1]\r\n",
       "E2 ..> E5 [[psysml:6472265e-4329-42f9-a73f-b0fdd653d81d ]] : [x > 1]\r\n",
       "E2 ..> E7 [[psysml:3c10905a-0cf4-4572-9b68-27220c544656 ]] \r\n",
       "E2 ..> E3 [[psysml:4534ef33-8eda-405a-b2f5-6c95fd446375 ]] \r\n",
       "E3 ..> E4 [[psysml:4cb33783-cb85-4624-8a6d-789ab5e27309 ]] : [true]\r\n",
       "E3 ..> E5 [[psysml:7566f218-2e4c-4b1d-8134-f6de9f4cb12f ]] : [false]\r\n",
       "E4 ..> E5 [[psysml:2ec4d8de-ba31-4f08-a58c-ce574f556666 ]] : [x == 0]\r\n",
       "E7 ..> E2 [[psysml:2ecae6e1-cb24-4407-809b-df9594bdb8fa ]] : [x > 0]\r\n",
       "@enduml\r\n",
       "\n",
       "PlantUML version 1.2020.13(Sat Jun 13 12:26:38 UTC 2020)\n",
       "(EPL source distribution)\n",
       "Java Runtime: OpenJDK Runtime Environment\n",
       "JVM: OpenJDK 64-Bit Server VM\n",
       "Default Encoding: UTF-8\n",
       "Language: en\n",
       "Country: null\n",
       "--></g></svg>"
      ]
     },
     "execution_count": 34,
     "metadata": {},
     "output_type": "execute_result"
    }
   ],
   "source": [
    "%viz --style=\"PLANTUML\" --view=\"Action\" \"DecisionTest\""
   ]
  },
  {
   "cell_type": "code",
   "execution_count": 35,
   "id": "d7690c78",
   "metadata": {
    "execution": {
     "iopub.execute_input": "2021-06-30T09:20:30.363309Z",
     "iopub.status.busy": "2021-06-30T09:20:30.362649Z",
     "iopub.status.idle": "2021-06-30T09:20:30.422372Z",
     "shell.execute_reply": "2021-06-30T09:20:30.420910Z"
    }
   },
   "outputs": [
    {
     "data": {
      "image/svg+xml": [
       "<?xml version=\"1.0\" encoding=\"UTF-8\" standalone=\"no\"?><svg xmlns=\"http://www.w3.org/2000/svg\" xmlns:xlink=\"http://www.w3.org/1999/xlink\" contentScriptType=\"application/ecmascript\" contentStyleType=\"text/css\" height=\"219px\" preserveAspectRatio=\"none\" style=\"width:663px;height:219px;\" version=\"1.1\" viewBox=\"0 0 663 219\" width=\"663px\" zoomAndPan=\"magnify\"><defs><filter height=\"300%\" id=\"faybtni1cfxfi\" width=\"300%\" x=\"-1\" y=\"-1\"><feGaussianBlur result=\"blurOut\" stdDeviation=\"2.0\"/><feColorMatrix in=\"blurOut\" result=\"blurOut2\" type=\"matrix\" values=\"0 0 0 0 0 0 0 0 0 0 0 0 0 0 0 0 0 0 .4 0\"/><feOffset dx=\"4.0\" dy=\"4.0\" in=\"blurOut2\" result=\"blurOut3\"/><feBlend in=\"SourceGraphic\" in2=\"blurOut3\" mode=\"normal\"/></filter></defs><g><!--MD5=[43c9051892ef23e1a46a86907403d788]\n",
       "class E1--><a href=\"psysml:068a4463-a96d-4165-a2bc-cadf70a9bc09\" target=\"_top\" title=\"psysml:068a4463-a96d-4165-a2bc-cadf70a9bc09\" xlink:actuate=\"onRequest\" xlink:href=\"psysml:068a4463-a96d-4165-a2bc-cadf70a9bc09\" xlink:show=\"new\" xlink:title=\"psysml:068a4463-a96d-4165-a2bc-cadf70a9bc09\" xlink:type=\"simple\"><rect fill=\"#FEFECE\" filter=\"url(#faybtni1cfxfi)\" height=\"88.3516\" id=\"E1\" style=\"stroke: #A80036; stroke-width: 1.5;\" width=\"112\" x=\"373.5\" y=\"7\"/><ellipse cx=\"388.5\" cy=\"25.9688\" fill=\"#FFFACD\" rx=\"11\" ry=\"11\" style=\"stroke: #A80036; stroke-width: 1.0;\"/><path d=\"M387.4063,26.3438 L387.4063,30.0156 L389.0313,30.0156 Q390.2031,30.0156 390.6719,29.625 Q391.1406,29.2188 391.1406,28.2188 Q391.1406,27.2188 390.6406,26.7813 Q390.1563,26.3438 389.0313,26.3438 L387.4063,26.3438 Z M387.4063,21.5156 L387.4063,24.3906 L389.0313,24.3906 Q389.9531,24.3906 390.3438,24.0625 Q390.75,23.7188 390.75,22.9688 Q390.75,22.2031 390.3438,21.8594 Q389.9375,21.5156 389.0313,21.5156 L387.4063,21.5156 Z M385.0313,19.5625 L389.0313,19.5625 Q391.0938,19.5625 392.1406,20.3438 Q393.1875,21.125 393.1875,22.6875 Q393.1875,23.8906 392.5625,24.5625 Q391.9531,25.2344 390.7656,25.3438 Q392.1875,25.4844 392.9063,26.2969 Q393.625,27.1094 393.625,28.5625 Q393.625,30.3594 392.5469,31.1719 Q391.4688,31.9688 389.0313,31.9688 L385.0313,31.9688 L385.0313,19.5625 Z \"/><text fill=\"#000000\" font-family=\"sans-serif\" font-size=\"12\" font-style=\"italic\" lengthAdjust=\"spacingAndGlyphs\" textLength=\"77\" x=\"404\" y=\"23.1387\">«action def»</text><text fill=\"#000000\" font-family=\"sans-serif\" font-size=\"12\" lengthAdjust=\"spacingAndGlyphs\" textLength=\"80\" x=\"402.5\" y=\"37.1074\">DecisionTest</text><line style=\"stroke: #A80036; stroke-width: 1.5;\" x1=\"374.5\" x2=\"484.5\" y1=\"44.9375\" y2=\"44.9375\"/><text fill=\"#000000\" font-family=\"sans-serif\" font-size=\"11\" lengthAdjust=\"spacingAndGlyphs\" textLength=\"26\" x=\"379.5\" y=\"59.1479\">x=1;</text><text fill=\"#000000\" font-family=\"sans-serif\" font-size=\"11\" lengthAdjust=\"spacingAndGlyphs\" textLength=\"8\" x=\"379.5\" y=\"88.7573\">S</text><line style=\"stroke: #A80036; stroke-width: 1.0;\" x1=\"374.5\" x2=\"399\" y1=\"72.1445\" y2=\"72.1445\"/><text fill=\"#000000\" font-family=\"sans-serif\" font-size=\"11\" lengthAdjust=\"spacingAndGlyphs\" textLength=\"61\" x=\"399\" y=\"75.4526\">transitions</text><line style=\"stroke: #A80036; stroke-width: 1.0;\" x1=\"460\" x2=\"484.5\" y1=\"72.1445\" y2=\"72.1445\"/></a><!--MD5=[b4997ac47864f28c2f74865a473b2911]\n",
       "class E2--><a href=\"psysml:44ee9e06-5fd9-46bf-b0f8-00dd693073b7\" target=\"_top\" title=\"psysml:44ee9e06-5fd9-46bf-b0f8-00dd693073b7\" xlink:actuate=\"onRequest\" xlink:href=\"psysml:44ee9e06-5fd9-46bf-b0f8-00dd693073b7\" xlink:show=\"new\" xlink:title=\"psysml:44ee9e06-5fd9-46bf-b0f8-00dd693073b7\" xlink:type=\"simple\"><rect fill=\"#FEFECE\" filter=\"url(#faybtni1cfxfi)\" height=\"45.9375\" id=\"E2\" rx=\"10\" ry=\"10\" style=\"stroke: #A80036; stroke-width: 1.5;\" width=\"127\" x=\"7\" y=\"155\"/><ellipse cx=\"22\" cy=\"173.9688\" fill=\"#FFA500\" rx=\"11\" ry=\"11\" style=\"stroke: #A80036; stroke-width: 1.0;\"/><path d=\"M17.875,175.8906 L17.875,168.0781 L20.3281,168.0781 L20.3281,176.5156 Q20.3281,177.4375 20.7969,177.9688 Q21.2813,178.5 22.1094,178.5 Q22.9531,178.5 23.4219,177.9688 Q23.8906,177.4375 23.8906,176.5156 L23.8906,168.0781 L26.3438,168.0781 L26.3438,175.8906 Q26.3438,178.4219 25.3438,179.5625 Q24.3438,180.7031 22.1094,180.7031 Q19.8906,180.7031 18.875,179.5625 Q17.875,178.4219 17.875,175.8906 Z \"/><text fill=\"#000000\" font-family=\"sans-serif\" font-size=\"12\" font-style=\"italic\" lengthAdjust=\"spacingAndGlyphs\" textLength=\"99\" x=\"34\" y=\"171.1387\">«decisionNode»</text><text fill=\"#000000\" font-family=\"sans-serif\" font-size=\"12\" lengthAdjust=\"spacingAndGlyphs\" textLength=\"35\" x=\"66\" y=\"185.1074\">test x</text><line style=\"stroke: #A80036; stroke-width: 1.5;\" x1=\"8\" x2=\"133\" y1=\"192.9375\" y2=\"192.9375\"/></a><!--MD5=[09b614a08d8cba4a07c9adeb5e0fee81]\n",
       "class E3--><a href=\"psysml:eeb68ac4-2ad3-4e0c-9c18-140c63d1edba\" target=\"_top\" title=\"psysml:eeb68ac4-2ad3-4e0c-9c18-140c63d1edba\" xlink:actuate=\"onRequest\" xlink:href=\"psysml:eeb68ac4-2ad3-4e0c-9c18-140c63d1edba\" xlink:show=\"new\" xlink:title=\"psysml:eeb68ac4-2ad3-4e0c-9c18-140c63d1edba\" xlink:type=\"simple\"><rect fill=\"#FEFECE\" filter=\"url(#faybtni1cfxfi)\" height=\"45.9375\" id=\"E3\" rx=\"10\" ry=\"10\" style=\"stroke: #A80036; stroke-width: 1.5;\" width=\"127\" x=\"169\" y=\"155\"/><ellipse cx=\"184\" cy=\"173.9688\" fill=\"#FFA500\" rx=\"11\" ry=\"11\" style=\"stroke: #A80036; stroke-width: 1.0;\"/><path d=\"M179.875,175.8906 L179.875,168.0781 L182.3281,168.0781 L182.3281,176.5156 Q182.3281,177.4375 182.7969,177.9688 Q183.2813,178.5 184.1094,178.5 Q184.9531,178.5 185.4219,177.9688 Q185.8906,177.4375 185.8906,176.5156 L185.8906,168.0781 L188.3438,168.0781 L188.3438,175.8906 Q188.3438,178.4219 187.3438,179.5625 Q186.3438,180.7031 184.1094,180.7031 Q181.8906,180.7031 180.875,179.5625 Q179.875,178.4219 179.875,175.8906 Z \"/><text fill=\"#000000\" font-family=\"sans-serif\" font-size=\"12\" font-style=\"italic\" lengthAdjust=\"spacingAndGlyphs\" textLength=\"99\" x=\"196\" y=\"171.1387\">«decisionNode»</text><text fill=\"#000000\" font-family=\"sans-serif\" font-size=\"12\" lengthAdjust=\"spacingAndGlyphs\" text-decoration=\"line-through\" textLength=\"51\" x=\"220\" y=\"185.1074\">noname</text><line style=\"stroke: #A80036; stroke-width: 1.5;\" x1=\"170\" x2=\"295\" y1=\"192.9375\" y2=\"192.9375\"/></a><!--MD5=[ebbe1d658d1005bcc118a6aa81145e00]\n",
       "class E4--><a href=\"psysml:86b53981-b1ee-4c30-93d6-edfc048c3f3e\" target=\"_top\" title=\"psysml:86b53981-b1ee-4c30-93d6-edfc048c3f3e\" xlink:actuate=\"onRequest\" xlink:href=\"psysml:86b53981-b1ee-4c30-93d6-edfc048c3f3e\" xlink:show=\"new\" xlink:title=\"psysml:86b53981-b1ee-4c30-93d6-edfc048c3f3e\" xlink:type=\"simple\"><rect fill=\"#FEFECE\" filter=\"url(#faybtni1cfxfi)\" height=\"45.9375\" id=\"E4\" rx=\"10\" ry=\"10\" style=\"stroke: #A80036; stroke-width: 1.5;\" width=\"81\" x=\"331\" y=\"155\"/><ellipse cx=\"346\" cy=\"173.9688\" fill=\"#FFA500\" rx=\"11\" ry=\"11\" style=\"stroke: #A80036; stroke-width: 1.0;\"/><path d=\"M341.875,175.8906 L341.875,168.0781 L344.3281,168.0781 L344.3281,176.5156 Q344.3281,177.4375 344.7969,177.9688 Q345.2813,178.5 346.1094,178.5 Q346.9531,178.5 347.4219,177.9688 Q347.8906,177.4375 347.8906,176.5156 L347.8906,168.0781 L350.3438,168.0781 L350.3438,175.8906 Q350.3438,178.4219 349.3438,179.5625 Q348.3438,180.7031 346.1094,180.7031 Q343.8906,180.7031 342.875,179.5625 Q341.875,178.4219 341.875,175.8906 Z \"/><text fill=\"#000000\" font-family=\"sans-serif\" font-size=\"12\" font-style=\"italic\" lengthAdjust=\"spacingAndGlyphs\" textLength=\"53\" x=\"358\" y=\"171.1387\">«action»</text><text fill=\"#000000\" font-family=\"sans-serif\" font-size=\"12\" lengthAdjust=\"spacingAndGlyphs\" textLength=\"16\" x=\"376.5\" y=\"185.1074\">A1</text><line style=\"stroke: #A80036; stroke-width: 1.5;\" x1=\"332\" x2=\"411\" y1=\"192.9375\" y2=\"192.9375\"/></a><!--MD5=[270fce915f116d4de14055a7c1d9a0f3]\n",
       "class E5--><a href=\"psysml:38b4e12b-2856-48b1-8683-970a7e146d76\" target=\"_top\" title=\"psysml:38b4e12b-2856-48b1-8683-970a7e146d76\" xlink:actuate=\"onRequest\" xlink:href=\"psysml:38b4e12b-2856-48b1-8683-970a7e146d76\" xlink:show=\"new\" xlink:title=\"psysml:38b4e12b-2856-48b1-8683-970a7e146d76\" xlink:type=\"simple\"><rect fill=\"#FEFECE\" filter=\"url(#faybtni1cfxfi)\" height=\"45.9375\" id=\"E5\" rx=\"10\" ry=\"10\" style=\"stroke: #A80036; stroke-width: 1.5;\" width=\"81\" x=\"447\" y=\"155\"/><ellipse cx=\"462\" cy=\"173.9688\" fill=\"#FFA500\" rx=\"11\" ry=\"11\" style=\"stroke: #A80036; stroke-width: 1.0;\"/><path d=\"M457.875,175.8906 L457.875,168.0781 L460.3281,168.0781 L460.3281,176.5156 Q460.3281,177.4375 460.7969,177.9688 Q461.2813,178.5 462.1094,178.5 Q462.9531,178.5 463.4219,177.9688 Q463.8906,177.4375 463.8906,176.5156 L463.8906,168.0781 L466.3438,168.0781 L466.3438,175.8906 Q466.3438,178.4219 465.3438,179.5625 Q464.3438,180.7031 462.1094,180.7031 Q459.8906,180.7031 458.875,179.5625 Q457.875,178.4219 457.875,175.8906 Z \"/><text fill=\"#000000\" font-family=\"sans-serif\" font-size=\"12\" font-style=\"italic\" lengthAdjust=\"spacingAndGlyphs\" textLength=\"53\" x=\"474\" y=\"171.1387\">«action»</text><text fill=\"#000000\" font-family=\"sans-serif\" font-size=\"12\" lengthAdjust=\"spacingAndGlyphs\" textLength=\"16\" x=\"492.5\" y=\"185.1074\">A2</text><line style=\"stroke: #A80036; stroke-width: 1.5;\" x1=\"448\" x2=\"527\" y1=\"192.9375\" y2=\"192.9375\"/></a><!--MD5=[60a26617385b1d2d0262a64233df1f8d]\n",
       "class E6--><a href=\"psysml:3ceea1c4-b769-4e45-b22d-b9b14232dc11\" target=\"_top\" title=\"psysml:3ceea1c4-b769-4e45-b22d-b9b14232dc11\" xlink:actuate=\"onRequest\" xlink:href=\"psysml:3ceea1c4-b769-4e45-b22d-b9b14232dc11\" xlink:show=\"new\" xlink:title=\"psysml:3ceea1c4-b769-4e45-b22d-b9b14232dc11\" xlink:type=\"simple\"><rect fill=\"#FEFECE\" filter=\"url(#faybtni1cfxfi)\" height=\"45.9375\" id=\"E6\" rx=\"10\" ry=\"10\" style=\"stroke: #A80036; stroke-width: 1.5;\" width=\"81\" x=\"563\" y=\"155\"/><ellipse cx=\"578\" cy=\"173.9688\" fill=\"#FFA500\" rx=\"11\" ry=\"11\" style=\"stroke: #A80036; stroke-width: 1.0;\"/><path d=\"M573.875,175.8906 L573.875,168.0781 L576.3281,168.0781 L576.3281,176.5156 Q576.3281,177.4375 576.7969,177.9688 Q577.2813,178.5 578.1094,178.5 Q578.9531,178.5 579.4219,177.9688 Q579.8906,177.4375 579.8906,176.5156 L579.8906,168.0781 L582.3438,168.0781 L582.3438,175.8906 Q582.3438,178.4219 581.3438,179.5625 Q580.3438,180.7031 578.1094,180.7031 Q575.8906,180.7031 574.875,179.5625 Q573.875,178.4219 573.875,175.8906 Z \"/><text fill=\"#000000\" font-family=\"sans-serif\" font-size=\"12\" font-style=\"italic\" lengthAdjust=\"spacingAndGlyphs\" textLength=\"53\" x=\"590\" y=\"171.1387\">«action»</text><text fill=\"#000000\" font-family=\"sans-serif\" font-size=\"12\" lengthAdjust=\"spacingAndGlyphs\" textLength=\"16\" x=\"608.5\" y=\"185.1074\">A3</text><line style=\"stroke: #A80036; stroke-width: 1.5;\" x1=\"564\" x2=\"643\" y1=\"192.9375\" y2=\"192.9375\"/></a><!--MD5=[a523cb2a0b79ecf9065ad8783f96c320]\n",
       "reverse link E1 to E2--><a href=\"psysml:3f40863b-0a66-456a-a380-cfd414bf0804\" target=\"_top\" title=\"psysml:3f40863b-0a66-456a-a380-cfd414bf0804\" xlink:actuate=\"onRequest\" xlink:href=\"psysml:3f40863b-0a66-456a-a380-cfd414bf0804\" xlink:show=\"new\" xlink:title=\"psysml:3f40863b-0a66-456a-a380-cfd414bf0804\" xlink:type=\"simple\"><path d=\"M360.75,75.94 C295.23,98.75 197.39,132.82 133.75,154.98 \" fill=\"none\" id=\"E1&lt;-E2\" style=\"stroke: #A80036; stroke-width: 1.0;\"/><polygon fill=\"#A80036\" points=\"373.41,71.53,366.4267,69.732,362.081,75.4866,369.0644,77.2846,373.41,71.53\" style=\"stroke: #A80036; stroke-width: 1.0;\"/></a><!--MD5=[5d7b3810b1dd9b5164bea1151b29b665]\n",
       "reverse link E1 to E3--><a href=\"psysml:e2578a6b-d48b-4dd6-b58c-18f093f1f29f\" target=\"_top\" title=\"psysml:e2578a6b-d48b-4dd6-b58c-18f093f1f29f\" xlink:actuate=\"onRequest\" xlink:href=\"psysml:e2578a6b-d48b-4dd6-b58c-18f093f1f29f\" xlink:show=\"new\" xlink:title=\"psysml:e2578a6b-d48b-4dd6-b58c-18f093f1f29f\" xlink:type=\"simple\"><path d=\"M362.26,94.66 C330.38,114.89 293.62,138.22 267.38,154.87 \" fill=\"none\" id=\"E1&lt;-E3\" style=\"stroke: #A80036; stroke-width: 1.0;\"/><polygon fill=\"#A80036\" points=\"373.31,87.65,366.1008,87.4851,363.1758,94.0763,370.385,94.2412,373.31,87.65\" style=\"stroke: #A80036; stroke-width: 1.0;\"/></a><!--MD5=[f2c5c03aa1e8c0ba21c10a05e6444b8e]\n",
       "reverse link E1 to E4--><a href=\"psysml:7583b8d6-81fb-44fd-88ce-ec05d2d7f8f3\" target=\"_top\" title=\"psysml:7583b8d6-81fb-44fd-88ce-ec05d2d7f8f3\" xlink:actuate=\"onRequest\" xlink:href=\"psysml:7583b8d6-81fb-44fd-88ce-ec05d2d7f8f3\" xlink:show=\"new\" xlink:title=\"psysml:7583b8d6-81fb-44fd-88ce-ec05d2d7f8f3\" xlink:type=\"simple\"><path d=\"M403.92,107.13 C396.08,124.03 387.9,141.66 381.71,154.99 \" fill=\"none\" id=\"E1&lt;-E4\" style=\"stroke: #A80036; stroke-width: 1.0;\"/><polygon fill=\"#A80036\" points=\"409.54,95.02,403.3872,98.7807,404.4921,105.9066,410.6449,102.1459,409.54,95.02\" style=\"stroke: #A80036; stroke-width: 1.0;\"/></a><!--MD5=[33238bef88d6431a141d8bc8fb12bca0]\n",
       "reverse link E1 to E5--><a href=\"psysml:1b62ef88-94e5-4ba0-8e17-6cec1f6133af\" target=\"_top\" title=\"psysml:1b62ef88-94e5-4ba0-8e17-6cec1f6133af\" xlink:actuate=\"onRequest\" xlink:href=\"psysml:1b62ef88-94e5-4ba0-8e17-6cec1f6133af\" xlink:show=\"new\" xlink:title=\"psysml:1b62ef88-94e5-4ba0-8e17-6cec1f6133af\" xlink:type=\"simple\"><path d=\"M455.08,107.13 C462.92,124.03 471.1,141.66 477.29,154.99 \" fill=\"none\" id=\"E1&lt;-E5\" style=\"stroke: #A80036; stroke-width: 1.0;\"/><polygon fill=\"#A80036\" points=\"449.46,95.02,448.3551,102.1459,454.5079,105.9066,455.6128,98.7807,449.46,95.02\" style=\"stroke: #A80036; stroke-width: 1.0;\"/></a><!--MD5=[aca2ef284c2b1b90e17e73bf3f292c07]\n",
       "reverse link E1 to E6--><a href=\"psysml:6d478a35-76b8-45be-be82-2204dec34e47\" target=\"_top\" title=\"psysml:6d478a35-76b8-45be-be82-2204dec34e47\" xlink:actuate=\"onRequest\" xlink:href=\"psysml:6d478a35-76b8-45be-be82-2204dec34e47\" xlink:show=\"new\" xlink:title=\"psysml:6d478a35-76b8-45be-be82-2204dec34e47\" xlink:type=\"simple\"><path d=\"M487.88,102.96 C512.5,121.09 540.46,140.56 562.87,154.99 \" fill=\"none\" id=\"E1&lt;-E6\" style=\"stroke: #A80036; stroke-width: 1.0;\"/><polygon fill=\"#A80036\" points=\"477.2,95.02,479.6313,101.8089,486.8331,102.1756,484.4018,95.3868,477.2,95.02\" style=\"stroke: #A80036; stroke-width: 1.0;\"/></a><!--MD5=[aca2ef284c2b1b90e17e73bf3f292c07]\n",
       "reverse link E1 to E6--><a href=\"psysml:637c00ed-dc37-460b-98af-77d0acff244f\" target=\"_top\" title=\"psysml:637c00ed-dc37-460b-98af-77d0acff244f\" xlink:actuate=\"onRequest\" xlink:href=\"psysml:637c00ed-dc37-460b-98af-77d0acff244f\" xlink:show=\"new\" xlink:title=\"psysml:637c00ed-dc37-460b-98af-77d0acff244f\" xlink:type=\"simple\"><path d=\"M496.92,91.35 C527.59,112.22 561.55,137.1 583.02,154.65 \" fill=\"none\" id=\"E1&lt;-E6-1\" style=\"stroke: #A80036; stroke-width: 1.0;\"/><polygon fill=\"#FFFFFF\" points=\"485.8,83.87,488.5451,90.5382,495.7561,90.5689,493.011,83.9008,485.8,83.87\" style=\"stroke: #A80036; stroke-width: 1.0;\"/></a><!--MD5=[52d4fd5c294b945703b49fae6146988a]\n",
       "@startuml\r\n",
       " \r\n",
       "comp def \"DecisionTest\" as E1 << <<(B,lemonchiffon) action def>> [[psysml:068a4463-a96d-4165-a2bc-cadf70a9bc09 ]] {\r\n",
       "x=1; \r\n",
       "- - transitions - -\r\n",
       "S\r\n",
       "}\r\n",
       "comp usage \"test x\" as E2 << <<(U,orange) decisionNode>> [[psysml:44ee9e06-5fd9-46bf-b0f8-00dd693073b7 ]] {\r\n",
       "}\r\n",
       "comp usage \"<s>noname</s>\" as E3 << <<(U,orange) decisionNode>> [[psysml:eeb68ac4-2ad3-4e0c-9c18-140c63d1edba ]] {\r\n",
       "}\r\n",
       "comp usage \"A1\" as E4 << <<(U,orange) action>> [[psysml:86b53981-b1ee-4c30-93d6-edfc048c3f3e ]] {\r\n",
       "}\r\n",
       "comp usage \"A2\" as E5 << <<(U,orange) action>> [[psysml:38b4e12b-2856-48b1-8683-970a7e146d76 ]] {\r\n",
       "}\r\n",
       "comp usage \"A3\" as E6 << <<(U,orange) action>> [[psysml:3ceea1c4-b769-4e45-b22d-b9b14232dc11 ]] {\r\n",
       "}\r\n",
       "E1 *- - E2 [[psysml:3f40863b-0a66-456a-a380-cfd414bf0804 ]] \r\n",
       "E1 *- - E3 [[psysml:e2578a6b-d48b-4dd6-b58c-18f093f1f29f ]] \r\n",
       "E1 *- - E4 [[psysml:7583b8d6-81fb-44fd-88ce-ec05d2d7f8f3 ]] \r\n",
       "E1 *- - E5 [[psysml:1b62ef88-94e5-4ba0-8e17-6cec1f6133af ]] \r\n",
       "E1 *- - E6 [[psysml:6d478a35-76b8-45be-be82-2204dec34e47 ]] \r\n",
       "E1 o- - E6 [[psysml:637c00ed-dc37-460b-98af-77d0acff244f ]] \r\n",
       "@enduml\r\n",
       "\n",
       "PlantUML version 1.2020.13(Sat Jun 13 12:26:38 UTC 2020)\n",
       "(EPL source distribution)\n",
       "Java Runtime: OpenJDK Runtime Environment\n",
       "JVM: OpenJDK 64-Bit Server VM\n",
       "Default Encoding: UTF-8\n",
       "Language: en\n",
       "Country: null\n",
       "--></g></svg>"
      ]
     },
     "execution_count": 35,
     "metadata": {},
     "output_type": "execute_result"
    }
   ],
   "source": [
    "%viz --style=\"PLANTUML\" --view=\"Sequence\" \"DecisionTest\""
   ]
  },
  {
   "cell_type": "code",
   "execution_count": 36,
   "id": "7b404ee0",
   "metadata": {
    "execution": {
     "iopub.execute_input": "2021-06-30T09:20:30.473596Z",
     "iopub.status.busy": "2021-06-30T09:20:30.473125Z",
     "iopub.status.idle": "2021-06-30T09:20:30.516067Z",
     "shell.execute_reply": "2021-06-30T09:20:30.516551Z"
    }
   },
   "outputs": [
    {
     "data": {
      "image/svg+xml": [
       "<?xml version=\"1.0\" encoding=\"UTF-8\" standalone=\"no\"?><svg xmlns=\"http://www.w3.org/2000/svg\" xmlns:xlink=\"http://www.w3.org/1999/xlink\" contentScriptType=\"application/ecmascript\" contentStyleType=\"text/css\" height=\"496px\" preserveAspectRatio=\"none\" style=\"width:367px;height:496px;\" version=\"1.1\" viewBox=\"0 0 367 496\" width=\"367px\" zoomAndPan=\"magnify\"><defs><filter height=\"300%\" id=\"fvuugk65ojx77\" width=\"300%\" x=\"-1\" y=\"-1\"><feGaussianBlur result=\"blurOut\" stdDeviation=\"2.0\"/><feColorMatrix in=\"blurOut\" result=\"blurOut2\" type=\"matrix\" values=\"0 0 0 0 0 0 0 0 0 0 0 0 0 0 0 0 0 0 .4 0\"/><feOffset dx=\"4.0\" dy=\"4.0\" in=\"blurOut2\" result=\"blurOut3\"/><feBlend in=\"SourceGraphic\" in2=\"blurOut3\" mode=\"normal\"/></filter></defs><g><!--MD5=[fbc87193dbaf4d95561dea2c320d4a47]\n",
       "cluster E1--><a href=\"psysml:068a4463-a96d-4165-a2bc-cadf70a9bc09\" target=\"_top\" title=\"psysml:068a4463-a96d-4165-a2bc-cadf70a9bc09\" xlink:actuate=\"onRequest\" xlink:href=\"psysml:068a4463-a96d-4165-a2bc-cadf70a9bc09\" xlink:show=\"new\" xlink:title=\"psysml:068a4463-a96d-4165-a2bc-cadf70a9bc09\" xlink:type=\"simple\"><rect fill=\"#FFFFFF\" filter=\"url(#fvuugk65ojx77)\" height=\"470\" id=\"E1\" style=\"stroke: #A80036; stroke-width: 1.5;\" width=\"341\" x=\"7\" y=\"7\"/><rect fill=\"#FEFECE\" height=\"37.9375\" style=\"stroke: #A80036; stroke-width: 1.5;\" width=\"341\" x=\"7\" y=\"7\"/><text fill=\"#000000\" font-family=\"sans-serif\" font-size=\"12\" font-style=\"italic\" lengthAdjust=\"spacingAndGlyphs\" textLength=\"77\" x=\"139\" y=\"23.1387\">«action def»</text><text fill=\"#000000\" font-family=\"sans-serif\" font-size=\"12\" lengthAdjust=\"spacingAndGlyphs\" textLength=\"80\" x=\"137.5\" y=\"37.1074\">DecisionTest</text></a><polygon fill=\"#FEFECE\" filter=\"url(#fvuugk65ojx77)\" points=\"210,67.5,222,79.5,210,91.5,198,79.5,210,67.5\" style=\"stroke: #A80036; stroke-width: 1.5;\"/><polygon fill=\"#FEFECE\" filter=\"url(#fvuugk65ojx77)\" points=\"35,187.5,47,199.5,35,211.5,23,199.5,35,187.5\" style=\"stroke: #A80036; stroke-width: 1.5;\"/><g id=\"E1.E4\"><a href=\"psysml:86b53981-b1ee-4c30-93d6-edfc048c3f3e\" target=\"_top\" title=\"psysml:86b53981-b1ee-4c30-93d6-edfc048c3f3e\" xlink:actuate=\"onRequest\" xlink:href=\"psysml:86b53981-b1ee-4c30-93d6-edfc048c3f3e\" xlink:show=\"new\" xlink:title=\"psysml:86b53981-b1ee-4c30-93d6-edfc048c3f3e\" xlink:type=\"simple\"><rect fill=\"#FEFECE\" filter=\"url(#fvuugk65ojx77)\" height=\"42.9375\" id=\"E4\" rx=\"10\" ry=\"10\" style=\"stroke: #A80036; stroke-width: 1.5;\" width=\"86\" x=\"135\" y=\"298\"/><ellipse cx=\"152.25\" cy=\"316.9688\" fill=\"#FFA500\" rx=\"11\" ry=\"11\" style=\"stroke: #A80036; stroke-width: 1.0;\"/><path d=\"M148.125,318.8906 L148.125,311.0781 L150.5781,311.0781 L150.5781,319.5156 Q150.5781,320.4375 151.0469,320.9688 Q151.5313,321.5 152.3594,321.5 Q153.2031,321.5 153.6719,320.9688 Q154.1406,320.4375 154.1406,319.5156 L154.1406,311.0781 L156.5938,311.0781 L156.5938,318.8906 Q156.5938,321.4219 155.5938,322.5625 Q154.5938,323.7031 152.3594,323.7031 Q150.1406,323.7031 149.125,322.5625 Q148.125,321.4219 148.125,318.8906 Z \"/><text fill=\"#000000\" font-family=\"sans-serif\" font-size=\"12\" font-style=\"italic\" lengthAdjust=\"spacingAndGlyphs\" textLength=\"53\" x=\"164.75\" y=\"314.1387\">«action»</text><text fill=\"#000000\" font-family=\"sans-serif\" font-size=\"12\" lengthAdjust=\"spacingAndGlyphs\" textLength=\"16\" x=\"183.25\" y=\"328.1074\">A1</text></a></g><g id=\"E1.E5\"><a href=\"psysml:38b4e12b-2856-48b1-8683-970a7e146d76\" target=\"_top\" title=\"psysml:38b4e12b-2856-48b1-8683-970a7e146d76\" xlink:actuate=\"onRequest\" xlink:href=\"psysml:38b4e12b-2856-48b1-8683-970a7e146d76\" xlink:show=\"new\" xlink:title=\"psysml:38b4e12b-2856-48b1-8683-970a7e146d76\" xlink:type=\"simple\"><rect fill=\"#FEFECE\" filter=\"url(#fvuugk65ojx77)\" height=\"42.9375\" id=\"E5\" rx=\"10\" ry=\"10\" style=\"stroke: #A80036; stroke-width: 1.5;\" width=\"86\" x=\"135\" y=\"418\"/><ellipse cx=\"152.25\" cy=\"436.9688\" fill=\"#FFA500\" rx=\"11\" ry=\"11\" style=\"stroke: #A80036; stroke-width: 1.0;\"/><path d=\"M148.125,438.8906 L148.125,431.0781 L150.5781,431.0781 L150.5781,439.5156 Q150.5781,440.4375 151.0469,440.9688 Q151.5313,441.5 152.3594,441.5 Q153.2031,441.5 153.6719,440.9688 Q154.1406,440.4375 154.1406,439.5156 L154.1406,431.0781 L156.5938,431.0781 L156.5938,438.8906 Q156.5938,441.4219 155.5938,442.5625 Q154.5938,443.7031 152.3594,443.7031 Q150.1406,443.7031 149.125,442.5625 Q148.125,441.4219 148.125,438.8906 Z \"/><text fill=\"#000000\" font-family=\"sans-serif\" font-size=\"12\" font-style=\"italic\" lengthAdjust=\"spacingAndGlyphs\" textLength=\"53\" x=\"164.75\" y=\"434.1387\">«action»</text><text fill=\"#000000\" font-family=\"sans-serif\" font-size=\"12\" lengthAdjust=\"spacingAndGlyphs\" textLength=\"16\" x=\"183.25\" y=\"448.1074\">A2</text></a></g><g id=\"E1.E6\"><a href=\"psysml:3ceea1c4-b769-4e45-b22d-b9b14232dc11\" target=\"_top\" title=\"psysml:3ceea1c4-b769-4e45-b22d-b9b14232dc11\" xlink:actuate=\"onRequest\" xlink:href=\"psysml:3ceea1c4-b769-4e45-b22d-b9b14232dc11\" xlink:show=\"new\" xlink:title=\"psysml:3ceea1c4-b769-4e45-b22d-b9b14232dc11\" xlink:type=\"simple\"><rect fill=\"#FEFECE\" filter=\"url(#fvuugk65ojx77)\" height=\"42.9375\" id=\"E6\" rx=\"10\" ry=\"10\" style=\"stroke: #A80036; stroke-width: 1.5;\" width=\"86\" x=\"50\" y=\"58\"/><ellipse cx=\"67.25\" cy=\"76.9688\" fill=\"#FFA500\" rx=\"11\" ry=\"11\" style=\"stroke: #A80036; stroke-width: 1.0;\"/><path d=\"M63.125,78.8906 L63.125,71.0781 L65.5781,71.0781 L65.5781,79.5156 Q65.5781,80.4375 66.0469,80.9688 Q66.5313,81.5 67.3594,81.5 Q68.2031,81.5 68.6719,80.9688 Q69.1406,80.4375 69.1406,79.5156 L69.1406,71.0781 L71.5938,71.0781 L71.5938,78.8906 Q71.5938,81.4219 70.5938,82.5625 Q69.5938,83.7031 67.3594,83.7031 Q65.1406,83.7031 64.125,82.5625 Q63.125,81.4219 63.125,78.8906 Z \"/><text fill=\"#000000\" font-family=\"sans-serif\" font-size=\"12\" font-style=\"italic\" lengthAdjust=\"spacingAndGlyphs\" textLength=\"53\" x=\"79.75\" y=\"74.1387\">«action»</text><text fill=\"#000000\" font-family=\"sans-serif\" font-size=\"12\" lengthAdjust=\"spacingAndGlyphs\" textLength=\"16\" x=\"98.25\" y=\"88.1074\">A3</text></a></g><g id=\"E1.E7\"><a href=\"psysml:3ceea1c4-b769-4e45-b22d-b9b14232dc11\" target=\"_top\" title=\"psysml:3ceea1c4-b769-4e45-b22d-b9b14232dc11\" xlink:actuate=\"onRequest\" xlink:href=\"psysml:3ceea1c4-b769-4e45-b22d-b9b14232dc11\" xlink:show=\"new\" xlink:title=\"psysml:3ceea1c4-b769-4e45-b22d-b9b14232dc11\" xlink:type=\"simple\"><rect fill=\"#FEFECE\" filter=\"url(#fvuugk65ojx77)\" height=\"42.9375\" id=\"E7\" rx=\"10\" ry=\"10\" style=\"stroke: #A80036; stroke-width: 1.5;\" width=\"86\" x=\"246\" y=\"178\"/><ellipse cx=\"263.25\" cy=\"196.9688\" fill=\"#FFA500\" rx=\"11\" ry=\"11\" style=\"stroke: #A80036; stroke-width: 1.0;\"/><path d=\"M259.125,198.8906 L259.125,191.0781 L261.5781,191.0781 L261.5781,199.5156 Q261.5781,200.4375 262.0469,200.9688 Q262.5313,201.5 263.3594,201.5 Q264.2031,201.5 264.6719,200.9688 Q265.1406,200.4375 265.1406,199.5156 L265.1406,191.0781 L267.5938,191.0781 L267.5938,198.8906 Q267.5938,201.4219 266.5938,202.5625 Q265.5938,203.7031 263.3594,203.7031 Q261.1406,203.7031 260.125,202.5625 Q259.125,201.4219 259.125,198.8906 Z \"/><text fill=\"#000000\" font-family=\"sans-serif\" font-size=\"12\" font-style=\"italic\" lengthAdjust=\"spacingAndGlyphs\" textLength=\"53\" x=\"275.75\" y=\"194.1387\">«action»</text><text fill=\"#000000\" font-family=\"sans-serif\" font-size=\"12\" lengthAdjust=\"spacingAndGlyphs\" textLength=\"16\" x=\"294.25\" y=\"208.1074\">A3</text></a></g><!--MD5=[4d03bb2d0377dc85ccfab60ff574652b]\n",
       "link E2 to E4--><a href=\"psysml:5839aeb0-dd7d-4257-be26-6d697b84d54b\" target=\"_top\" title=\"psysml:5839aeb0-dd7d-4257-be26-6d697b84d54b\" xlink:actuate=\"onRequest\" xlink:href=\"psysml:5839aeb0-dd7d-4257-be26-6d697b84d54b\" xlink:show=\"new\" xlink:title=\"psysml:5839aeb0-dd7d-4257-be26-6d697b84d54b\" xlink:type=\"simple\"><path d=\"M204.45,86 C190.88,99.89 156.22,138.13 144,178 C131.83,217.69 149.59,264.76 163.67,293.09 \" fill=\"none\" id=\"E2-&gt;E4\" style=\"stroke: #A80036; stroke-width: 1.0;\"/><polygon fill=\"#A80036\" points=\"166.08,297.81,165.5574,287.975,163.8097,293.3551,158.4296,291.6074,166.08,297.81\" style=\"stroke: #A80036; stroke-width: 1.0;\"/><text fill=\"#000000\" font-family=\"sans-serif\" font-size=\"13\" lengthAdjust=\"spacingAndGlyphs\" textLength=\"55\" x=\"145\" y=\"204.0669\">[x == 1]</text></a><!--MD5=[dcad52bbbca2fe8adc741ce38b45dc12]\n",
       "link E2 to E5--><a href=\"psysml:6472265e-4329-42f9-a73f-b0fdd653d81d\" target=\"_top\" title=\"psysml:6472265e-4329-42f9-a73f-b0fdd653d81d\" xlink:actuate=\"onRequest\" xlink:href=\"psysml:6472265e-4329-42f9-a73f-b0fdd653d81d\" xlink:show=\"new\" xlink:title=\"psysml:6472265e-4329-42f9-a73f-b0fdd653d81d\" xlink:type=\"simple\"><path d=\"M211.32,90.39 C216.99,132.87 238.97,297.67 239,298 C242.74,337.86 260.6,352.04 243,388 C237.83,398.56 229.28,407.54 220.04,414.88 \" fill=\"none\" id=\"E2-&gt;E5\" style=\"stroke: #A80036; stroke-width: 1.0;\"/><polygon fill=\"#A80036\" points=\"216.05,417.92,225.6321,415.6432,220.0258,414.8881,220.781,409.2818,216.05,417.92\" style=\"stroke: #A80036; stroke-width: 1.0;\"/><text fill=\"#000000\" font-family=\"sans-serif\" font-size=\"13\" lengthAdjust=\"spacingAndGlyphs\" textLength=\"44\" x=\"235\" y=\"264.0669\">[x &gt; 1]</text></a><!--MD5=[e3d2a08a9c9236652057e8ed0cbc9b62]\n",
       "link E2 to E7--><a href=\"psysml:3c10905a-0cf4-4572-9b68-27220c544656\" target=\"_top\" title=\"psysml:3c10905a-0cf4-4572-9b68-27220c544656\" xlink:actuate=\"onRequest\" xlink:href=\"psysml:3c10905a-0cf4-4572-9b68-27220c544656\" xlink:show=\"new\" xlink:title=\"psysml:3c10905a-0cf4-4572-9b68-27220c544656\" xlink:type=\"simple\"><path d=\"M212.2,89.84 C215.69,103.47 223.45,129.2 236,148 C242.31,157.45 250.67,166.45 258.88,174.18 \" fill=\"none\" id=\"E2-&gt;E7\" style=\"stroke: #A80036; stroke-width: 1.0;\"/><polygon fill=\"#A80036\" points=\"262.9,177.86,258.978,168.8257,259.2178,174.4775,253.566,174.7173,262.9,177.86\" style=\"stroke: #A80036; stroke-width: 1.0;\"/></a><!--MD5=[583832df87f4419a098336a29a52fa00]\n",
       "link E7 to E2--><a href=\"psysml:2ecae6e1-cb24-4407-809b-df9594bdb8fa\" target=\"_top\" title=\"psysml:2ecae6e1-cb24-4407-809b-df9594bdb8fa\" xlink:actuate=\"onRequest\" xlink:href=\"psysml:2ecae6e1-cb24-4407-809b-df9594bdb8fa\" xlink:show=\"new\" xlink:title=\"psysml:2ecae6e1-cb24-4407-809b-df9594bdb8fa\" xlink:type=\"simple\"><path d=\"M275.08,177.71 C258.3,152.65 230.72,111.44 217.51,91.71 \" fill=\"none\" id=\"E7-&gt;E2\" style=\"stroke: #A80036; stroke-width: 1.0;\"/><polygon fill=\"#A80036\" points=\"214.47,87.18,216.1572,96.8833,217.2534,91.3337,222.803,92.4299,214.47,87.18\" style=\"stroke: #A80036; stroke-width: 1.0;\"/><text fill=\"#000000\" font-family=\"sans-serif\" font-size=\"13\" lengthAdjust=\"spacingAndGlyphs\" textLength=\"44\" x=\"255\" y=\"144.0669\">[x &gt; 0]</text></a><!--MD5=[2720a5a1f2c3fca2055b230370638851]\n",
       "link E2 to E3--><a href=\"psysml:4534ef33-8eda-405a-b2f5-6c95fd446375\" target=\"_top\" title=\"psysml:4534ef33-8eda-405a-b2f5-6c95fd446375\" xlink:actuate=\"onRequest\" xlink:href=\"psysml:4534ef33-8eda-405a-b2f5-6c95fd446375\" xlink:show=\"new\" xlink:title=\"psysml:4534ef33-8eda-405a-b2f5-6c95fd446375\" xlink:type=\"simple\"><path d=\"M201.9,83.58 C184.06,90.55 140.39,108.7 108,131 C82.49,148.57 56.88,174.67 43.84,188.71 \" fill=\"none\" id=\"E2-&gt;E3\" style=\"stroke: #A80036; stroke-width: 1.0;\"/><polygon fill=\"#A80036\" points=\"40.21,192.66,49.2443,188.738,43.5925,188.9778,43.3527,183.326,40.21,192.66\" style=\"stroke: #A80036; stroke-width: 1.0;\"/></a><!--MD5=[af87c684e3b0d8be13c1a698a818ef1e]\n",
       "link E3 to E4--><a href=\"psysml:4cb33783-cb85-4624-8a6d-789ab5e27309\" target=\"_top\" title=\"psysml:4cb33783-cb85-4624-8a6d-789ab5e27309\" xlink:actuate=\"onRequest\" xlink:href=\"psysml:4cb33783-cb85-4624-8a6d-789ab5e27309\" xlink:show=\"new\" xlink:title=\"psysml:4cb33783-cb85-4624-8a6d-789ab5e27309\" xlink:type=\"simple\"><path d=\"M38.96,208.04 C46.32,221.49 63.28,249.9 84,268 C97.53,279.82 114.3,289.93 129.91,297.93 \" fill=\"none\" id=\"E3-&gt;E4\" style=\"stroke: #A80036; stroke-width: 1.0;\"/><polygon fill=\"#A80036\" points=\"134.71,300.34,128.4587,292.7294,130.2407,298.0982,124.8719,299.8802,134.71,300.34\" style=\"stroke: #A80036; stroke-width: 1.0;\"/><text fill=\"#000000\" font-family=\"sans-serif\" font-size=\"13\" lengthAdjust=\"spacingAndGlyphs\" textLength=\"36\" x=\"85\" y=\"264.0669\">[true]</text></a><!--MD5=[0188b64bb0ae78505a997a81836e11e9]\n",
       "link E3 to E5--><a href=\"psysml:7566f218-2e4c-4b1d-8134-f6de9f4cb12f\" target=\"_top\" title=\"psysml:7566f218-2e4c-4b1d-8134-f6de9f4cb12f\" xlink:actuate=\"onRequest\" xlink:href=\"psysml:7566f218-2e4c-4b1d-8134-f6de9f4cb12f\" xlink:show=\"new\" xlink:title=\"psysml:7566f218-2e4c-4b1d-8134-f6de9f4cb12f\" xlink:type=\"simple\"><path d=\"M36.1,210.4 C39.13,234.4 49.22,296.92 76,341 C93.84,370.37 122.75,396.82 145.25,414.74 \" fill=\"none\" id=\"E3-&gt;E5\" style=\"stroke: #A80036; stroke-width: 1.0;\"/><polygon fill=\"#A80036\" points=\"149.37,417.99,144.7826,409.2748,145.4449,414.8927,139.8269,415.555,149.37,417.99\" style=\"stroke: #A80036; stroke-width: 1.0;\"/><text fill=\"#000000\" font-family=\"sans-serif\" font-size=\"13\" lengthAdjust=\"spacingAndGlyphs\" textLength=\"40\" x=\"77\" y=\"324.0669\">[false]</text></a><!--MD5=[1b7591eae5389033d8d09a9d6721a717]\n",
       "link E4 to E5--><a href=\"psysml:2ec4d8de-ba31-4f08-a58c-ce574f556666\" target=\"_top\" title=\"psysml:2ec4d8de-ba31-4f08-a58c-ce574f556666\" xlink:actuate=\"onRequest\" xlink:href=\"psysml:2ec4d8de-ba31-4f08-a58c-ce574f556666\" xlink:show=\"new\" xlink:title=\"psysml:2ec4d8de-ba31-4f08-a58c-ce574f556666\" xlink:type=\"simple\"><path d=\"M178,341.05 C178,360.9 178,391.02 178,412.52 \" fill=\"none\" id=\"E4-&gt;E5\" style=\"stroke: #A80036; stroke-width: 1.0;\"/><polygon fill=\"#A80036\" points=\"178,417.79,182,408.79,178,412.79,174,408.79,178,417.79\" style=\"stroke: #A80036; stroke-width: 1.0;\"/><text fill=\"#000000\" font-family=\"sans-serif\" font-size=\"13\" lengthAdjust=\"spacingAndGlyphs\" textLength=\"55\" x=\"179\" y=\"384.0669\">[x == 0]</text></a><!--MD5=[f9cb9b33e290ee274c36ef3dd80414fa]\n",
       "@startuml\r\n",
       " \r\n",
       "rec def \"DecisionTest\" as E1 << <<(B,lemonchiffon) action def>> [[psysml:068a4463-a96d-4165-a2bc-cadf70a9bc09 ]] {\r\n",
       "choice \"test x\" as E2  [[psysml:44ee9e06-5fd9-46bf-b0f8-00dd693073b7 ]] \r\n",
       "choice \"noname\" as E3  [[psysml:eeb68ac4-2ad3-4e0c-9c18-140c63d1edba ]] \r\n",
       "rec usage \"A1\" as E4 << <<(U,orange) action>> [[psysml:86b53981-b1ee-4c30-93d6-edfc048c3f3e ]] {\r\n",
       "}\r\n",
       "\r\n",
       "rec usage \"A2\" as E5 << <<(U,orange) action>> [[psysml:38b4e12b-2856-48b1-8683-970a7e146d76 ]] {\r\n",
       "}\r\n",
       "\r\n",
       "rec usage \"A3\" as E6 << <<(U,orange) action>> [[psysml:3ceea1c4-b769-4e45-b22d-b9b14232dc11 ]] {\r\n",
       "}\r\n",
       "\r\n",
       "rec usage \"A3\" as E7 << <<(U,orange) action>> [[psysml:3ceea1c4-b769-4e45-b22d-b9b14232dc11 ]] {\r\n",
       "}\r\n",
       "\r\n",
       "}\r\n",
       "\r\n",
       "E2  - -> E4 [[psysml:5839aeb0-dd7d-4257-be26-6d697b84d54b ]] : [x == 1]\r\n",
       "E2  - -> E5 [[psysml:6472265e-4329-42f9-a73f-b0fdd653d81d ]] : [x > 1]\r\n",
       "E2  - -> E7 [[psysml:3c10905a-0cf4-4572-9b68-27220c544656 ]] \r\n",
       "E2 - -> E3 [[psysml:4534ef33-8eda-405a-b2f5-6c95fd446375 ]] \r\n",
       "E3  - -> E4 [[psysml:4cb33783-cb85-4624-8a6d-789ab5e27309 ]] : [true]\r\n",
       "E3  - -> E5 [[psysml:7566f218-2e4c-4b1d-8134-f6de9f4cb12f ]] : [false]\r\n",
       "E4  - -> E5 [[psysml:2ec4d8de-ba31-4f08-a58c-ce574f556666 ]] : [x == 0]\r\n",
       "E7  - -> E2 [[psysml:2ecae6e1-cb24-4407-809b-df9594bdb8fa ]] : [x > 0]\r\n",
       "@enduml\r\n",
       "\n",
       "PlantUML version 1.2020.13(Sat Jun 13 12:26:38 UTC 2020)\n",
       "(EPL source distribution)\n",
       "Java Runtime: OpenJDK Runtime Environment\n",
       "JVM: OpenJDK 64-Bit Server VM\n",
       "Default Encoding: UTF-8\n",
       "Language: en\n",
       "Country: null\n",
       "--></g></svg>"
      ]
     },
     "execution_count": 36,
     "metadata": {},
     "output_type": "execute_result"
    }
   ],
   "source": [
    "%viz --style=\"PLANTUML\" --view=\"MIXED\" \"DecisionTest\""
   ]
  },
  {
   "cell_type": "code",
   "execution_count": 37,
   "id": "c4addb9b",
   "metadata": {
    "execution": {
     "iopub.execute_input": "2021-06-30T09:20:30.567076Z",
     "iopub.status.busy": "2021-06-30T09:20:30.566160Z",
     "iopub.status.idle": "2021-06-30T09:20:30.614519Z",
     "shell.execute_reply": "2021-06-30T09:20:30.612571Z"
    }
   },
   "outputs": [
    {
     "data": {
      "image/svg+xml": [
       "<?xml version=\"1.0\" encoding=\"UTF-8\" standalone=\"no\"?><svg xmlns=\"http://www.w3.org/2000/svg\" xmlns:xlink=\"http://www.w3.org/1999/xlink\" contentScriptType=\"application/ecmascript\" contentStyleType=\"text/css\" height=\"488px\" preserveAspectRatio=\"none\" style=\"width:333px;height:488px;\" version=\"1.1\" viewBox=\"0 0 333 488\" width=\"333px\" zoomAndPan=\"magnify\"><defs/><g><!--MD5=[fbc87193dbaf4d95561dea2c320d4a47]\n",
       "cluster E1--><a href=\"psysml:068a4463-a96d-4165-a2bc-cadf70a9bc09\" target=\"_top\" title=\"psysml:068a4463-a96d-4165-a2bc-cadf70a9bc09\" xlink:actuate=\"onRequest\" xlink:href=\"psysml:068a4463-a96d-4165-a2bc-cadf70a9bc09\" xlink:show=\"new\" xlink:title=\"psysml:068a4463-a96d-4165-a2bc-cadf70a9bc09\" xlink:type=\"simple\"><rect fill=\"#FFFFFF\" height=\"470\" id=\"E1\" style=\"stroke: #383838; stroke-width: 1.5;\" width=\"315\" x=\"7\" y=\"7\"/><rect fill=\"#F8F8F8\" height=\"37.9375\" style=\"stroke: #383838; stroke-width: 1.5;\" width=\"315\" x=\"7\" y=\"7\"/><text fill=\"#000000\" font-family=\"sans-serif\" font-size=\"12\" font-style=\"italic\" lengthAdjust=\"spacingAndGlyphs\" textLength=\"77\" x=\"126\" y=\"23.1387\">«action def»</text><text fill=\"#000000\" font-family=\"sans-serif\" font-size=\"12\" lengthAdjust=\"spacingAndGlyphs\" textLength=\"80\" x=\"124.5\" y=\"37.1074\">DecisionTest</text></a><polygon fill=\"#F8F8F8\" points=\"210,67.5,222,79.5,210,91.5,198,79.5,210,67.5\" style=\"stroke: #383838; stroke-width: 1.5;\"/><polygon fill=\"#F8F8F8\" points=\"35,187.5,47,199.5,35,211.5,23,199.5,35,187.5\" style=\"stroke: #383838; stroke-width: 1.5;\"/><g id=\"E1.E4\"><a href=\"psysml:86b53981-b1ee-4c30-93d6-edfc048c3f3e\" target=\"_top\" title=\"psysml:86b53981-b1ee-4c30-93d6-edfc048c3f3e\" xlink:actuate=\"onRequest\" xlink:href=\"psysml:86b53981-b1ee-4c30-93d6-edfc048c3f3e\" xlink:show=\"new\" xlink:title=\"psysml:86b53981-b1ee-4c30-93d6-edfc048c3f3e\" xlink:type=\"simple\"><rect fill=\"#FFFFFF\" height=\"42.9375\" id=\"E4\" rx=\"10\" ry=\"10\" style=\"stroke: #383838; stroke-width: 1.5;\" width=\"60\" x=\"135\" y=\"298\"/><rect fill=\"#F8F8F8\" height=\"37.9375\" rx=\"10\" ry=\"10\" style=\"stroke: #F8F8F8; stroke-width: 1.5;\" width=\"60\" x=\"135\" y=\"298\"/><rect fill=\"#F8F8F8\" height=\"10\" style=\"stroke: #F8F8F8; stroke-width: 1.5;\" width=\"60\" x=\"135\" y=\"325.9375\"/><rect fill=\"none\" height=\"42.9375\" id=\"E4\" rx=\"10\" ry=\"10\" style=\"stroke: #383838; stroke-width: 1.5;\" width=\"60\" x=\"135\" y=\"298\"/><text fill=\"#000000\" font-family=\"sans-serif\" font-size=\"12\" font-style=\"italic\" lengthAdjust=\"spacingAndGlyphs\" textLength=\"53\" x=\"138.5\" y=\"314.1387\">«action»</text><text fill=\"#000000\" font-family=\"sans-serif\" font-size=\"12\" lengthAdjust=\"spacingAndGlyphs\" textLength=\"16\" x=\"157\" y=\"328.1074\">A1</text></a></g><g id=\"E1.E5\"><a href=\"psysml:38b4e12b-2856-48b1-8683-970a7e146d76\" target=\"_top\" title=\"psysml:38b4e12b-2856-48b1-8683-970a7e146d76\" xlink:actuate=\"onRequest\" xlink:href=\"psysml:38b4e12b-2856-48b1-8683-970a7e146d76\" xlink:show=\"new\" xlink:title=\"psysml:38b4e12b-2856-48b1-8683-970a7e146d76\" xlink:type=\"simple\"><rect fill=\"#FFFFFF\" height=\"42.9375\" id=\"E5\" rx=\"10\" ry=\"10\" style=\"stroke: #383838; stroke-width: 1.5;\" width=\"60\" x=\"135\" y=\"418\"/><rect fill=\"#F8F8F8\" height=\"37.9375\" rx=\"10\" ry=\"10\" style=\"stroke: #F8F8F8; stroke-width: 1.5;\" width=\"60\" x=\"135\" y=\"418\"/><rect fill=\"#F8F8F8\" height=\"10\" style=\"stroke: #F8F8F8; stroke-width: 1.5;\" width=\"60\" x=\"135\" y=\"445.9375\"/><rect fill=\"none\" height=\"42.9375\" id=\"E5\" rx=\"10\" ry=\"10\" style=\"stroke: #383838; stroke-width: 1.5;\" width=\"60\" x=\"135\" y=\"418\"/><text fill=\"#000000\" font-family=\"sans-serif\" font-size=\"12\" font-style=\"italic\" lengthAdjust=\"spacingAndGlyphs\" textLength=\"53\" x=\"138.5\" y=\"434.1387\">«action»</text><text fill=\"#000000\" font-family=\"sans-serif\" font-size=\"12\" lengthAdjust=\"spacingAndGlyphs\" textLength=\"16\" x=\"157\" y=\"448.1074\">A2</text></a></g><g id=\"E1.E6\"><a href=\"psysml:3ceea1c4-b769-4e45-b22d-b9b14232dc11\" target=\"_top\" title=\"psysml:3ceea1c4-b769-4e45-b22d-b9b14232dc11\" xlink:actuate=\"onRequest\" xlink:href=\"psysml:3ceea1c4-b769-4e45-b22d-b9b14232dc11\" xlink:show=\"new\" xlink:title=\"psysml:3ceea1c4-b769-4e45-b22d-b9b14232dc11\" xlink:type=\"simple\"><rect fill=\"#FFFFFF\" height=\"42.9375\" id=\"E6\" rx=\"10\" ry=\"10\" style=\"stroke: #383838; stroke-width: 1.5;\" width=\"60\" x=\"63\" y=\"58\"/><rect fill=\"#F8F8F8\" height=\"37.9375\" rx=\"10\" ry=\"10\" style=\"stroke: #F8F8F8; stroke-width: 1.5;\" width=\"60\" x=\"63\" y=\"58\"/><rect fill=\"#F8F8F8\" height=\"10\" style=\"stroke: #F8F8F8; stroke-width: 1.5;\" width=\"60\" x=\"63\" y=\"85.9375\"/><rect fill=\"none\" height=\"42.9375\" id=\"E6\" rx=\"10\" ry=\"10\" style=\"stroke: #383838; stroke-width: 1.5;\" width=\"60\" x=\"63\" y=\"58\"/><text fill=\"#000000\" font-family=\"sans-serif\" font-size=\"12\" font-style=\"italic\" lengthAdjust=\"spacingAndGlyphs\" textLength=\"53\" x=\"66.5\" y=\"74.1387\">«action»</text><text fill=\"#000000\" font-family=\"sans-serif\" font-size=\"12\" lengthAdjust=\"spacingAndGlyphs\" textLength=\"16\" x=\"85\" y=\"88.1074\">A3</text></a></g><g id=\"E1.E7\"><a href=\"psysml:3ceea1c4-b769-4e45-b22d-b9b14232dc11\" target=\"_top\" title=\"psysml:3ceea1c4-b769-4e45-b22d-b9b14232dc11\" xlink:actuate=\"onRequest\" xlink:href=\"psysml:3ceea1c4-b769-4e45-b22d-b9b14232dc11\" xlink:show=\"new\" xlink:title=\"psysml:3ceea1c4-b769-4e45-b22d-b9b14232dc11\" xlink:type=\"simple\"><rect fill=\"#FFFFFF\" height=\"42.9375\" id=\"E7\" rx=\"10\" ry=\"10\" style=\"stroke: #383838; stroke-width: 1.5;\" width=\"60\" x=\"246\" y=\"178\"/><rect fill=\"#F8F8F8\" height=\"37.9375\" rx=\"10\" ry=\"10\" style=\"stroke: #F8F8F8; stroke-width: 1.5;\" width=\"60\" x=\"246\" y=\"178\"/><rect fill=\"#F8F8F8\" height=\"10\" style=\"stroke: #F8F8F8; stroke-width: 1.5;\" width=\"60\" x=\"246\" y=\"205.9375\"/><rect fill=\"none\" height=\"42.9375\" id=\"E7\" rx=\"10\" ry=\"10\" style=\"stroke: #383838; stroke-width: 1.5;\" width=\"60\" x=\"246\" y=\"178\"/><text fill=\"#000000\" font-family=\"sans-serif\" font-size=\"12\" font-style=\"italic\" lengthAdjust=\"spacingAndGlyphs\" textLength=\"53\" x=\"249.5\" y=\"194.1387\">«action»</text><text fill=\"#000000\" font-family=\"sans-serif\" font-size=\"12\" lengthAdjust=\"spacingAndGlyphs\" textLength=\"16\" x=\"268\" y=\"208.1074\">A3</text></a></g><!--MD5=[4d03bb2d0377dc85ccfab60ff574652b]\n",
       "link E2 to E4--><a href=\"psysml:5839aeb0-dd7d-4257-be26-6d697b84d54b\" target=\"_top\" title=\"psysml:5839aeb0-dd7d-4257-be26-6d697b84d54b\" xlink:actuate=\"onRequest\" xlink:href=\"psysml:5839aeb0-dd7d-4257-be26-6d697b84d54b\" xlink:show=\"new\" xlink:title=\"psysml:5839aeb0-dd7d-4257-be26-6d697b84d54b\" xlink:type=\"simple\"><path d=\"M204.45,86 C190.88,99.89 156.22,138.13 144,178 C132.04,217.01 144.31,264.27 154.48,292.83 \" fill=\"none\" id=\"E2-&gt;E4\" style=\"stroke: #383838; stroke-width: 1.0;\"/><polygon fill=\"#383838\" points=\"156.22,297.6,156.8939,287.7742,154.5067,292.9027,149.3782,290.5155,156.22,297.6\" style=\"stroke: #383838; stroke-width: 1.0;\"/><text fill=\"#000000\" font-family=\"sans-serif\" font-size=\"13\" lengthAdjust=\"spacingAndGlyphs\" textLength=\"55\" x=\"145\" y=\"204.0669\">[x == 1]</text></a><!--MD5=[dcad52bbbca2fe8adc741ce38b45dc12]\n",
       "link E2 to E5--><a href=\"psysml:6472265e-4329-42f9-a73f-b0fdd653d81d\" target=\"_top\" title=\"psysml:6472265e-4329-42f9-a73f-b0fdd653d81d\" xlink:actuate=\"onRequest\" xlink:href=\"psysml:6472265e-4329-42f9-a73f-b0fdd653d81d\" xlink:show=\"new\" xlink:title=\"psysml:6472265e-4329-42f9-a73f-b0fdd653d81d\" xlink:type=\"simple\"><path d=\"M210.67,90.83 C214.08,143.62 229.24,381.12 226,388 C220.27,400.19 209.98,410.45 199.48,418.47 \" fill=\"none\" id=\"E2-&gt;E5\" style=\"stroke: #383838; stroke-width: 1.0;\"/><polygon fill=\"#383838\" points=\"195.29,421.54,204.9073,419.4168,199.3138,418.5721,200.1586,412.9786,195.29,421.54\" style=\"stroke: #383838; stroke-width: 1.0;\"/><text fill=\"#000000\" font-family=\"sans-serif\" font-size=\"13\" lengthAdjust=\"spacingAndGlyphs\" textLength=\"44\" x=\"222\" y=\"264.0669\">[x &gt; 1]</text></a><!--MD5=[e3d2a08a9c9236652057e8ed0cbc9b62]\n",
       "link E2 to E7--><a href=\"psysml:3c10905a-0cf4-4572-9b68-27220c544656\" target=\"_top\" title=\"psysml:3c10905a-0cf4-4572-9b68-27220c544656\" xlink:actuate=\"onRequest\" xlink:href=\"psysml:3c10905a-0cf4-4572-9b68-27220c544656\" xlink:show=\"new\" xlink:title=\"psysml:3c10905a-0cf4-4572-9b68-27220c544656\" xlink:type=\"simple\"><path d=\"M210.1,91.71 C210.67,105.71 213.16,129.99 223,148 C228.29,157.68 236.08,166.6 244.08,174.17 \" fill=\"none\" id=\"E2-&gt;E7\" style=\"stroke: #383838; stroke-width: 1.0;\"/><polygon fill=\"#383838\" points=\"248.01,177.77,244.069,168.744,244.3207,174.3953,238.6694,174.6469,248.01,177.77\" style=\"stroke: #383838; stroke-width: 1.0;\"/></a><!--MD5=[583832df87f4419a098336a29a52fa00]\n",
       "link E7 to E2--><a href=\"psysml:2ecae6e1-cb24-4407-809b-df9594bdb8fa\" target=\"_top\" title=\"psysml:2ecae6e1-cb24-4407-809b-df9594bdb8fa\" xlink:actuate=\"onRequest\" xlink:href=\"psysml:2ecae6e1-cb24-4407-809b-df9594bdb8fa\" xlink:show=\"new\" xlink:title=\"psysml:2ecae6e1-cb24-4407-809b-df9594bdb8fa\" xlink:type=\"simple\"><path d=\"M264.3,177.59 C250.41,152.74 227.7,112.15 216.57,92.25 \" fill=\"none\" id=\"E7-&gt;E2\" style=\"stroke: #383838; stroke-width: 1.0;\"/><polygon fill=\"#383838\" points=\"214.13,87.88,215.0286,97.6878,216.5691,92.2447,222.0122,93.7852,214.13,87.88\" style=\"stroke: #383838; stroke-width: 1.0;\"/><text fill=\"#000000\" font-family=\"sans-serif\" font-size=\"13\" lengthAdjust=\"spacingAndGlyphs\" textLength=\"44\" x=\"247\" y=\"144.0669\">[x &gt; 0]</text></a><!--MD5=[2720a5a1f2c3fca2055b230370638851]\n",
       "link E2 to E3--><a href=\"psysml:4534ef33-8eda-405a-b2f5-6c95fd446375\" target=\"_top\" title=\"psysml:4534ef33-8eda-405a-b2f5-6c95fd446375\" xlink:actuate=\"onRequest\" xlink:href=\"psysml:4534ef33-8eda-405a-b2f5-6c95fd446375\" xlink:show=\"new\" xlink:title=\"psysml:4534ef33-8eda-405a-b2f5-6c95fd446375\" xlink:type=\"simple\"><path d=\"M201.9,83.58 C184.06,90.55 140.39,108.7 108,131 C82.49,148.57 56.88,174.67 43.84,188.71 \" fill=\"none\" id=\"E2-&gt;E3\" style=\"stroke: #383838; stroke-width: 1.0;\"/><polygon fill=\"#383838\" points=\"40.21,192.66,49.2443,188.738,43.5925,188.9778,43.3527,183.326,40.21,192.66\" style=\"stroke: #383838; stroke-width: 1.0;\"/></a><!--MD5=[af87c684e3b0d8be13c1a698a818ef1e]\n",
       "link E3 to E4--><a href=\"psysml:4cb33783-cb85-4624-8a6d-789ab5e27309\" target=\"_top\" title=\"psysml:4cb33783-cb85-4624-8a6d-789ab5e27309\" xlink:actuate=\"onRequest\" xlink:href=\"psysml:4cb33783-cb85-4624-8a6d-789ab5e27309\" xlink:show=\"new\" xlink:title=\"psysml:4cb33783-cb85-4624-8a6d-789ab5e27309\" xlink:type=\"simple\"><path d=\"M39.08,207.91 C46.63,221.15 63.87,249.24 84,268 C97.73,280.8 115.17,292.16 130.35,300.85 \" fill=\"none\" id=\"E3-&gt;E4\" style=\"stroke: #383838; stroke-width: 1.0;\"/><polygon fill=\"#383838\" points=\"134.98,303.46,129.0858,295.5696,130.6187,301.0148,125.1735,302.5477,134.98,303.46\" style=\"stroke: #383838; stroke-width: 1.0;\"/><text fill=\"#000000\" font-family=\"sans-serif\" font-size=\"13\" lengthAdjust=\"spacingAndGlyphs\" textLength=\"36\" x=\"85\" y=\"264.0669\">[true]</text></a><!--MD5=[0188b64bb0ae78505a997a81836e11e9]\n",
       "link E3 to E5--><a href=\"psysml:7566f218-2e4c-4b1d-8134-f6de9f4cb12f\" target=\"_top\" title=\"psysml:7566f218-2e4c-4b1d-8134-f6de9f4cb12f\" xlink:actuate=\"onRequest\" xlink:href=\"psysml:7566f218-2e4c-4b1d-8134-f6de9f4cb12f\" xlink:show=\"new\" xlink:title=\"psysml:7566f218-2e4c-4b1d-8134-f6de9f4cb12f\" xlink:type=\"simple\"><path d=\"M36.3,210.29 C39.76,234.03 50.73,296.03 76,341 C91.89,369.29 117.42,396.1 137.07,414.43 \" fill=\"none\" id=\"E3-&gt;E5\" style=\"stroke: #383838; stroke-width: 1.0;\"/><polygon fill=\"#383838\" points=\"140.92,417.98,137.0155,408.9382,137.2443,414.5904,131.5921,414.8192,140.92,417.98\" style=\"stroke: #383838; stroke-width: 1.0;\"/><text fill=\"#000000\" font-family=\"sans-serif\" font-size=\"13\" lengthAdjust=\"spacingAndGlyphs\" textLength=\"40\" x=\"77\" y=\"324.0669\">[false]</text></a><!--MD5=[1b7591eae5389033d8d09a9d6721a717]\n",
       "link E4 to E5--><a href=\"psysml:2ec4d8de-ba31-4f08-a58c-ce574f556666\" target=\"_top\" title=\"psysml:2ec4d8de-ba31-4f08-a58c-ce574f556666\" xlink:actuate=\"onRequest\" xlink:href=\"psysml:2ec4d8de-ba31-4f08-a58c-ce574f556666\" xlink:show=\"new\" xlink:title=\"psysml:2ec4d8de-ba31-4f08-a58c-ce574f556666\" xlink:type=\"simple\"><path d=\"M165,341.05 C165,360.9 165,391.02 165,412.52 \" fill=\"none\" id=\"E4-&gt;E5\" style=\"stroke: #383838; stroke-width: 1.0;\"/><polygon fill=\"#383838\" points=\"165,417.79,169,408.79,165,412.79,161,408.79,165,417.79\" style=\"stroke: #383838; stroke-width: 1.0;\"/><text fill=\"#000000\" font-family=\"sans-serif\" font-size=\"13\" lengthAdjust=\"spacingAndGlyphs\" textLength=\"55\" x=\"166\" y=\"384.0669\">[x == 0]</text></a><!--MD5=[0f0e65362063404270d986a401748f8d]\n",
       "@startuml\r\n",
       "skinparam monochrome true\r\n",
       "skinparam classbackgroundcolor white\r\n",
       "skinparam shadowing false\r\n",
       "skinparam wrapWidth 300\r\n",
       "hide circle\r\n",
       "\r\n",
       "rec def \"DecisionTest\" as E1  <<(T,blue) action def>> [[psysml:068a4463-a96d-4165-a2bc-cadf70a9bc09 ]] {\r\n",
       "choice \"test x\" as E2  [[psysml:44ee9e06-5fd9-46bf-b0f8-00dd693073b7 ]] \r\n",
       "choice \"noname\" as E3  [[psysml:eeb68ac4-2ad3-4e0c-9c18-140c63d1edba ]] \r\n",
       "rec usage \"A1\" as E4  <<(T,blue) action>> [[psysml:86b53981-b1ee-4c30-93d6-edfc048c3f3e ]] {\r\n",
       "}\r\n",
       "\r\n",
       "rec usage \"A2\" as E5  <<(T,blue) action>> [[psysml:38b4e12b-2856-48b1-8683-970a7e146d76 ]] {\r\n",
       "}\r\n",
       "\r\n",
       "rec usage \"A3\" as E6  <<(T,blue) action>> [[psysml:3ceea1c4-b769-4e45-b22d-b9b14232dc11 ]] {\r\n",
       "}\r\n",
       "\r\n",
       "rec usage \"A3\" as E7  <<(T,blue) action>> [[psysml:3ceea1c4-b769-4e45-b22d-b9b14232dc11 ]] {\r\n",
       "}\r\n",
       "\r\n",
       "}\r\n",
       "\r\n",
       "E2  - -> E4 [[psysml:5839aeb0-dd7d-4257-be26-6d697b84d54b ]] : [x == 1]\r\n",
       "E2  - -> E5 [[psysml:6472265e-4329-42f9-a73f-b0fdd653d81d ]] : [x > 1]\r\n",
       "E2  - -> E7 [[psysml:3c10905a-0cf4-4572-9b68-27220c544656 ]] \r\n",
       "E2 - -> E3 [[psysml:4534ef33-8eda-405a-b2f5-6c95fd446375 ]] \r\n",
       "E3  - -> E4 [[psysml:4cb33783-cb85-4624-8a6d-789ab5e27309 ]] : [true]\r\n",
       "E3  - -> E5 [[psysml:7566f218-2e4c-4b1d-8134-f6de9f4cb12f ]] : [false]\r\n",
       "E4  - -> E5 [[psysml:2ec4d8de-ba31-4f08-a58c-ce574f556666 ]] : [x == 0]\r\n",
       "E7  - -> E2 [[psysml:2ecae6e1-cb24-4407-809b-df9594bdb8fa ]] : [x > 0]\r\n",
       "@enduml\r\n",
       "\n",
       "PlantUML version 1.2020.13(Sat Jun 13 12:26:38 UTC 2020)\n",
       "(EPL source distribution)\n",
       "Java Runtime: OpenJDK Runtime Environment\n",
       "JVM: OpenJDK 64-Bit Server VM\n",
       "Default Encoding: UTF-8\n",
       "Language: en\n",
       "Country: null\n",
       "--></g></svg>"
      ]
     },
     "execution_count": 37,
     "metadata": {},
     "output_type": "execute_result"
    }
   ],
   "source": [
    "%viz --style=\"DEFAULT\" --view=\"Default\" \"DecisionTest\""
   ]
  },
  {
   "cell_type": "code",
   "execution_count": 38,
   "id": "d99bfc1a",
   "metadata": {
    "execution": {
     "iopub.execute_input": "2021-06-30T09:20:30.665456Z",
     "iopub.status.busy": "2021-06-30T09:20:30.665026Z",
     "iopub.status.idle": "2021-06-30T09:20:30.737842Z",
     "shell.execute_reply": "2021-06-30T09:20:30.737357Z"
    }
   },
   "outputs": [
    {
     "data": {
      "image/svg+xml": [
       "<?xml version=\"1.0\" encoding=\"UTF-8\" standalone=\"no\"?><svg xmlns=\"http://www.w3.org/2000/svg\" xmlns:xlink=\"http://www.w3.org/1999/xlink\" contentScriptType=\"application/ecmascript\" contentStyleType=\"text/css\" height=\"228px\" preserveAspectRatio=\"none\" style=\"width:525px;height:228px;\" version=\"1.1\" viewBox=\"0 0 525 228\" width=\"525px\" zoomAndPan=\"magnify\"><defs/><g><!--MD5=[43c9051892ef23e1a46a86907403d788]\n",
       "class E1--><a href=\"psysml:068a4463-a96d-4165-a2bc-cadf70a9bc09\" target=\"_top\" title=\"psysml:068a4463-a96d-4165-a2bc-cadf70a9bc09\" xlink:actuate=\"onRequest\" xlink:href=\"psysml:068a4463-a96d-4165-a2bc-cadf70a9bc09\" xlink:show=\"new\" xlink:title=\"psysml:068a4463-a96d-4165-a2bc-cadf70a9bc09\" xlink:type=\"simple\"><rect fill=\"#FFFFFF\" height=\"105.1563\" id=\"E1\" style=\"stroke: #383838; stroke-width: 1.5;\" width=\"86\" x=\"308.5\" y=\"7\"/><text fill=\"#000000\" font-family=\"sans-serif\" font-size=\"12\" font-style=\"italic\" lengthAdjust=\"spacingAndGlyphs\" textLength=\"77\" x=\"313\" y=\"23.1387\">«action def»</text><text fill=\"#000000\" font-family=\"sans-serif\" font-size=\"12\" lengthAdjust=\"spacingAndGlyphs\" textLength=\"80\" x=\"311.5\" y=\"37.1074\">DecisionTest</text><line style=\"stroke: #383838; stroke-width: 1.5;\" x1=\"309.5\" x2=\"393.5\" y1=\"44.9375\" y2=\"44.9375\"/><text fill=\"#000000\" font-family=\"sans-serif\" font-size=\"11\" lengthAdjust=\"spacingAndGlyphs\" textLength=\"26\" x=\"314.5\" y=\"75.9526\">x=1;</text><line style=\"stroke: #383838; stroke-width: 1.0;\" x1=\"309.5\" x2=\"324\" y1=\"59.3398\" y2=\"59.3398\"/><text fill=\"#000000\" font-family=\"sans-serif\" font-size=\"11\" lengthAdjust=\"spacingAndGlyphs\" textLength=\"55\" x=\"324\" y=\"62.6479\">attributes</text><line style=\"stroke: #383838; stroke-width: 1.0;\" x1=\"379\" x2=\"393.5\" y1=\"59.3398\" y2=\"59.3398\"/><text fill=\"#000000\" font-family=\"sans-serif\" font-size=\"11\" lengthAdjust=\"spacingAndGlyphs\" textLength=\"8\" x=\"314.5\" y=\"105.562\">S</text><line style=\"stroke: #383838; stroke-width: 1.0;\" x1=\"309.5\" x2=\"321\" y1=\"88.9492\" y2=\"88.9492\"/><text fill=\"#000000\" font-family=\"sans-serif\" font-size=\"11\" lengthAdjust=\"spacingAndGlyphs\" textLength=\"61\" x=\"321\" y=\"92.2573\">transitions</text><line style=\"stroke: #383838; stroke-width: 1.0;\" x1=\"382\" x2=\"393.5\" y1=\"88.9492\" y2=\"88.9492\"/></a><!--MD5=[b4997ac47864f28c2f74865a473b2911]\n",
       "class E2--><a href=\"psysml:44ee9e06-5fd9-46bf-b0f8-00dd693073b7\" target=\"_top\" title=\"psysml:44ee9e06-5fd9-46bf-b0f8-00dd693073b7\" xlink:actuate=\"onRequest\" xlink:href=\"psysml:44ee9e06-5fd9-46bf-b0f8-00dd693073b7\" xlink:show=\"new\" xlink:title=\"psysml:44ee9e06-5fd9-46bf-b0f8-00dd693073b7\" xlink:type=\"simple\"><rect fill=\"#FFFFFF\" height=\"45.9375\" id=\"E2\" rx=\"10\" ry=\"10\" style=\"stroke: #383838; stroke-width: 1.5;\" width=\"101\" x=\"7\" y=\"172\"/><text fill=\"#000000\" font-family=\"sans-serif\" font-size=\"12\" font-style=\"italic\" lengthAdjust=\"spacingAndGlyphs\" textLength=\"99\" x=\"8\" y=\"188.1387\">«decisionNode»</text><text fill=\"#000000\" font-family=\"sans-serif\" font-size=\"12\" lengthAdjust=\"spacingAndGlyphs\" textLength=\"35\" x=\"40\" y=\"202.1074\">test x</text><line style=\"stroke: #383838; stroke-width: 1.5;\" x1=\"8\" x2=\"107\" y1=\"209.9375\" y2=\"209.9375\"/></a><!--MD5=[09b614a08d8cba4a07c9adeb5e0fee81]\n",
       "class E3--><a href=\"psysml:eeb68ac4-2ad3-4e0c-9c18-140c63d1edba\" target=\"_top\" title=\"psysml:eeb68ac4-2ad3-4e0c-9c18-140c63d1edba\" xlink:actuate=\"onRequest\" xlink:href=\"psysml:eeb68ac4-2ad3-4e0c-9c18-140c63d1edba\" xlink:show=\"new\" xlink:title=\"psysml:eeb68ac4-2ad3-4e0c-9c18-140c63d1edba\" xlink:type=\"simple\"><rect fill=\"#FFFFFF\" height=\"45.9375\" id=\"E3\" rx=\"10\" ry=\"10\" style=\"stroke: #383838; stroke-width: 1.5;\" width=\"101\" x=\"143\" y=\"172\"/><text fill=\"#000000\" font-family=\"sans-serif\" font-size=\"12\" font-style=\"italic\" lengthAdjust=\"spacingAndGlyphs\" textLength=\"99\" x=\"144\" y=\"188.1387\">«decisionNode»</text><text fill=\"#000000\" font-family=\"sans-serif\" font-size=\"12\" lengthAdjust=\"spacingAndGlyphs\" text-decoration=\"line-through\" textLength=\"51\" x=\"168\" y=\"202.1074\">noname</text><line style=\"stroke: #383838; stroke-width: 1.5;\" x1=\"144\" x2=\"243\" y1=\"209.9375\" y2=\"209.9375\"/></a><!--MD5=[ebbe1d658d1005bcc118a6aa81145e00]\n",
       "class E4--><a href=\"psysml:86b53981-b1ee-4c30-93d6-edfc048c3f3e\" target=\"_top\" title=\"psysml:86b53981-b1ee-4c30-93d6-edfc048c3f3e\" xlink:actuate=\"onRequest\" xlink:href=\"psysml:86b53981-b1ee-4c30-93d6-edfc048c3f3e\" xlink:show=\"new\" xlink:title=\"psysml:86b53981-b1ee-4c30-93d6-edfc048c3f3e\" xlink:type=\"simple\"><rect fill=\"#FFFFFF\" height=\"45.9375\" id=\"E4\" rx=\"10\" ry=\"10\" style=\"stroke: #383838; stroke-width: 1.5;\" width=\"55\" x=\"279\" y=\"172\"/><text fill=\"#000000\" font-family=\"sans-serif\" font-size=\"12\" font-style=\"italic\" lengthAdjust=\"spacingAndGlyphs\" textLength=\"53\" x=\"280\" y=\"188.1387\">«action»</text><text fill=\"#000000\" font-family=\"sans-serif\" font-size=\"12\" lengthAdjust=\"spacingAndGlyphs\" textLength=\"16\" x=\"298.5\" y=\"202.1074\">A1</text><line style=\"stroke: #383838; stroke-width: 1.5;\" x1=\"280\" x2=\"333\" y1=\"209.9375\" y2=\"209.9375\"/></a><!--MD5=[270fce915f116d4de14055a7c1d9a0f3]\n",
       "class E5--><a href=\"psysml:38b4e12b-2856-48b1-8683-970a7e146d76\" target=\"_top\" title=\"psysml:38b4e12b-2856-48b1-8683-970a7e146d76\" xlink:actuate=\"onRequest\" xlink:href=\"psysml:38b4e12b-2856-48b1-8683-970a7e146d76\" xlink:show=\"new\" xlink:title=\"psysml:38b4e12b-2856-48b1-8683-970a7e146d76\" xlink:type=\"simple\"><rect fill=\"#FFFFFF\" height=\"45.9375\" id=\"E5\" rx=\"10\" ry=\"10\" style=\"stroke: #383838; stroke-width: 1.5;\" width=\"55\" x=\"369\" y=\"172\"/><text fill=\"#000000\" font-family=\"sans-serif\" font-size=\"12\" font-style=\"italic\" lengthAdjust=\"spacingAndGlyphs\" textLength=\"53\" x=\"370\" y=\"188.1387\">«action»</text><text fill=\"#000000\" font-family=\"sans-serif\" font-size=\"12\" lengthAdjust=\"spacingAndGlyphs\" textLength=\"16\" x=\"388.5\" y=\"202.1074\">A2</text><line style=\"stroke: #383838; stroke-width: 1.5;\" x1=\"370\" x2=\"423\" y1=\"209.9375\" y2=\"209.9375\"/></a><!--MD5=[60a26617385b1d2d0262a64233df1f8d]\n",
       "class E6--><a href=\"psysml:3ceea1c4-b769-4e45-b22d-b9b14232dc11\" target=\"_top\" title=\"psysml:3ceea1c4-b769-4e45-b22d-b9b14232dc11\" xlink:actuate=\"onRequest\" xlink:href=\"psysml:3ceea1c4-b769-4e45-b22d-b9b14232dc11\" xlink:show=\"new\" xlink:title=\"psysml:3ceea1c4-b769-4e45-b22d-b9b14232dc11\" xlink:type=\"simple\"><rect fill=\"#FFFFFF\" height=\"45.9375\" id=\"E6\" rx=\"10\" ry=\"10\" style=\"stroke: #383838; stroke-width: 1.5;\" width=\"55\" x=\"459\" y=\"172\"/><text fill=\"#000000\" font-family=\"sans-serif\" font-size=\"12\" font-style=\"italic\" lengthAdjust=\"spacingAndGlyphs\" textLength=\"53\" x=\"460\" y=\"188.1387\">«action»</text><text fill=\"#000000\" font-family=\"sans-serif\" font-size=\"12\" lengthAdjust=\"spacingAndGlyphs\" textLength=\"16\" x=\"478.5\" y=\"202.1074\">A3</text><line style=\"stroke: #383838; stroke-width: 1.5;\" x1=\"460\" x2=\"513\" y1=\"209.9375\" y2=\"209.9375\"/></a><!--MD5=[a523cb2a0b79ecf9065ad8783f96c320]\n",
       "reverse link E1 to E2--><a href=\"psysml:3f40863b-0a66-456a-a380-cfd414bf0804\" target=\"_top\" title=\"psysml:3f40863b-0a66-456a-a380-cfd414bf0804\" xlink:actuate=\"onRequest\" xlink:href=\"psysml:3f40863b-0a66-456a-a380-cfd414bf0804\" xlink:show=\"new\" xlink:title=\"psysml:3f40863b-0a66-456a-a380-cfd414bf0804\" xlink:type=\"simple\"><path d=\"M296.52,85.46 C241.75,110.33 158.47,148.15 106.07,171.95 \" fill=\"none\" id=\"E1&lt;-E2\" style=\"stroke: #383838; stroke-width: 1.0;\"/><polygon fill=\"#383838\" points=\"308.44,80.06,301.323,78.8988,297.5138,85.0217,304.6308,86.1829,308.44,80.06\" style=\"stroke: #383838; stroke-width: 1.0;\"/></a><!--MD5=[5d7b3810b1dd9b5164bea1151b29b665]\n",
       "reverse link E1 to E3--><a href=\"psysml:e2578a6b-d48b-4dd6-b58c-18f093f1f29f\" target=\"_top\" title=\"psysml:e2578a6b-d48b-4dd6-b58c-18f093f1f29f\" xlink:actuate=\"onRequest\" xlink:href=\"psysml:e2578a6b-d48b-4dd6-b58c-18f093f1f29f\" xlink:show=\"new\" xlink:title=\"psysml:e2578a6b-d48b-4dd6-b58c-18f093f1f29f\" xlink:type=\"simple\"><path d=\"M298.08,105.64 C271.7,127.93 241.06,153.82 219.79,171.79 \" fill=\"none\" id=\"E1&lt;-E3\" style=\"stroke: #383838; stroke-width: 1.0;\"/><polygon fill=\"#383838\" points=\"308.33,96.98,301.1646,97.7906,299.1569,104.7165,306.3223,103.906,308.33,96.98\" style=\"stroke: #383838; stroke-width: 1.0;\"/></a><!--MD5=[f2c5c03aa1e8c0ba21c10a05e6444b8e]\n",
       "reverse link E1 to E4--><a href=\"psysml:7583b8d6-81fb-44fd-88ce-ec05d2d7f8f3\" target=\"_top\" title=\"psysml:7583b8d6-81fb-44fd-88ce-ec05d2d7f8f3\" xlink:actuate=\"onRequest\" xlink:href=\"psysml:7583b8d6-81fb-44fd-88ce-ec05d2d7f8f3\" xlink:show=\"new\" xlink:title=\"psysml:7583b8d6-81fb-44fd-88ce-ec05d2d7f8f3\" xlink:type=\"simple\"><path d=\"M329.79,124.91 C324.1,141.78 318.35,158.85 313.98,171.8 \" fill=\"none\" id=\"E1&lt;-E4\" style=\"stroke: #383838; stroke-width: 1.0;\"/><polygon fill=\"#383838\" points=\"334.1,112.11,328.391,116.5154,330.2618,123.4796,335.9708,119.0742,334.1,112.11\" style=\"stroke: #383838; stroke-width: 1.0;\"/></a><!--MD5=[33238bef88d6431a141d8bc8fb12bca0]\n",
       "reverse link E1 to E5--><a href=\"psysml:1b62ef88-94e5-4ba0-8e17-6cec1f6133af\" target=\"_top\" title=\"psysml:1b62ef88-94e5-4ba0-8e17-6cec1f6133af\" xlink:actuate=\"onRequest\" xlink:href=\"psysml:1b62ef88-94e5-4ba0-8e17-6cec1f6133af\" xlink:show=\"new\" xlink:title=\"psysml:1b62ef88-94e5-4ba0-8e17-6cec1f6133af\" xlink:type=\"simple\"><path d=\"M373.21,124.91 C378.9,141.78 384.65,158.85 389.02,171.8 \" fill=\"none\" id=\"E1&lt;-E5\" style=\"stroke: #383838; stroke-width: 1.0;\"/><polygon fill=\"#383838\" points=\"368.9,112.11,367.0292,119.0742,372.7382,123.4796,374.609,116.5154,368.9,112.11\" style=\"stroke: #383838; stroke-width: 1.0;\"/></a><!--MD5=[aca2ef284c2b1b90e17e73bf3f292c07]\n",
       "reverse link E1 to E6--><a href=\"psysml:6d478a35-76b8-45be-be82-2204dec34e47\" target=\"_top\" title=\"psysml:6d478a35-76b8-45be-be82-2204dec34e47\" xlink:actuate=\"onRequest\" xlink:href=\"psysml:6d478a35-76b8-45be-be82-2204dec34e47\" xlink:show=\"new\" xlink:title=\"psysml:6d478a35-76b8-45be-be82-2204dec34e47\" xlink:type=\"simple\"><path d=\"M400.61,121.64 C420.11,141.2 441.74,161.41 458.63,175.48 \" fill=\"none\" id=\"E1&lt;-E6\" style=\"stroke: #383838; stroke-width: 1.0;\"/><polygon fill=\"#383838\" points=\"391.24,112.11,392.5992,119.1919,399.659,120.661,398.2999,113.5792,391.24,112.11\" style=\"stroke: #383838; stroke-width: 1.0;\"/></a><!--MD5=[aca2ef284c2b1b90e17e73bf3f292c07]\n",
       "reverse link E1 to E6--><a href=\"psysml:637c00ed-dc37-460b-98af-77d0acff244f\" target=\"_top\" title=\"psysml:637c00ed-dc37-460b-98af-77d0acff244f\" xlink:actuate=\"onRequest\" xlink:href=\"psysml:637c00ed-dc37-460b-98af-77d0acff244f\" xlink:show=\"new\" xlink:title=\"psysml:637c00ed-dc37-460b-98af-77d0acff244f\" xlink:type=\"simple\"><path d=\"M404.71,100.75 C430.05,124 458.02,152.36 474.29,171.66 \" fill=\"none\" id=\"E1&lt;-E6-1\" style=\"stroke: #383838; stroke-width: 1.0;\"/><polygon fill=\"#FFFFFF\" points=\"394.79,91.8,396.5648,98.7893,403.699,99.8392,401.9243,92.8499,394.79,91.8\" style=\"stroke: #383838; stroke-width: 1.0;\"/></a><!--MD5=[774916e699119fef7ca845c2d5d03dd9]\n",
       "@startuml\r\n",
       "skinparam monochrome true\r\n",
       "skinparam classbackgroundcolor white\r\n",
       "skinparam shadowing false\r\n",
       "skinparam wrapWidth 300\r\n",
       "hide circle\r\n",
       "\r\n",
       "comp def \"DecisionTest\" as E1  <<(T,blue) action def>> [[psysml:068a4463-a96d-4165-a2bc-cadf70a9bc09 ]] {\r\n",
       "- - attributes - -\r\n",
       "x=1; \r\n",
       "- - transitions - -\r\n",
       "S\r\n",
       "}\r\n",
       "comp usage \"test x\" as E2  <<(T,blue) decisionNode>> [[psysml:44ee9e06-5fd9-46bf-b0f8-00dd693073b7 ]] {\r\n",
       "}\r\n",
       "comp usage \"<s>noname</s>\" as E3  <<(T,blue) decisionNode>> [[psysml:eeb68ac4-2ad3-4e0c-9c18-140c63d1edba ]] {\r\n",
       "}\r\n",
       "comp usage \"A1\" as E4  <<(T,blue) action>> [[psysml:86b53981-b1ee-4c30-93d6-edfc048c3f3e ]] {\r\n",
       "}\r\n",
       "comp usage \"A2\" as E5  <<(T,blue) action>> [[psysml:38b4e12b-2856-48b1-8683-970a7e146d76 ]] {\r\n",
       "}\r\n",
       "comp usage \"A3\" as E6  <<(T,blue) action>> [[psysml:3ceea1c4-b769-4e45-b22d-b9b14232dc11 ]] {\r\n",
       "}\r\n",
       "E1 *- - E2 [[psysml:3f40863b-0a66-456a-a380-cfd414bf0804 ]] \r\n",
       "E1 *- - E3 [[psysml:e2578a6b-d48b-4dd6-b58c-18f093f1f29f ]] \r\n",
       "E1 *- - E4 [[psysml:7583b8d6-81fb-44fd-88ce-ec05d2d7f8f3 ]] \r\n",
       "E1 *- - E5 [[psysml:1b62ef88-94e5-4ba0-8e17-6cec1f6133af ]] \r\n",
       "E1 *- - E6 [[psysml:6d478a35-76b8-45be-be82-2204dec34e47 ]] \r\n",
       "E1 o- - E6 [[psysml:637c00ed-dc37-460b-98af-77d0acff244f ]] \r\n",
       "@enduml\r\n",
       "\n",
       "PlantUML version 1.2020.13(Sat Jun 13 12:26:38 UTC 2020)\n",
       "(EPL source distribution)\n",
       "Java Runtime: OpenJDK Runtime Environment\n",
       "JVM: OpenJDK 64-Bit Server VM\n",
       "Default Encoding: UTF-8\n",
       "Language: en\n",
       "Country: null\n",
       "--></g></svg>"
      ]
     },
     "execution_count": 38,
     "metadata": {},
     "output_type": "execute_result"
    }
   ],
   "source": [
    "%viz --style=\"DEFAULT\" --view=\"Tree\" \"DecisionTest\""
   ]
  },
  {
   "cell_type": "code",
   "execution_count": 39,
   "id": "c0b4ba78",
   "metadata": {
    "execution": {
     "iopub.execute_input": "2021-06-30T09:20:30.788552Z",
     "iopub.status.busy": "2021-06-30T09:20:30.788045Z",
     "iopub.status.idle": "2021-06-30T09:20:30.797483Z",
     "shell.execute_reply": "2021-06-30T09:20:30.797102Z"
    }
   },
   "outputs": [
    {
     "data": {
      "image/svg+xml": [
       "<?xml version=\"1.0\" encoding=\"UTF-8\" standalone=\"no\"?><svg xmlns=\"http://www.w3.org/2000/svg\" xmlns:xlink=\"http://www.w3.org/1999/xlink\" contentScriptType=\"application/ecmascript\" contentStyleType=\"text/css\" height=\"12px\" preserveAspectRatio=\"none\" style=\"width:12px;height:12px;\" version=\"1.1\" viewBox=\"0 0 12 12\" width=\"12px\" zoomAndPan=\"magnify\"><defs/><g><!--MD5=[c5f280e076d0d61ccf4b0f27871bda1d]\n",
       "@startuml\r\n",
       "skinparam monochrome true\r\n",
       "skinparam classbackgroundcolor white\r\n",
       "skinparam shadowing false\r\n",
       "skinparam wrapWidth 300\r\n",
       "hide circle\r\n",
       "\r\n",
       "@enduml\r\n",
       "\n",
       "PlantUML version 1.2020.13(Sat Jun 13 12:26:38 UTC 2020)\n",
       "(EPL source distribution)\n",
       "Java Runtime: OpenJDK Runtime Environment\n",
       "JVM: OpenJDK 64-Bit Server VM\n",
       "Default Encoding: UTF-8\n",
       "Language: en\n",
       "Country: null\n",
       "--></g></svg>"
      ]
     },
     "execution_count": 39,
     "metadata": {},
     "output_type": "execute_result"
    }
   ],
   "source": [
    "%viz --style=\"DEFAULT\" --view=\"State\" \"DecisionTest\""
   ]
  },
  {
   "cell_type": "code",
   "execution_count": 40,
   "id": "18d894c3",
   "metadata": {
    "execution": {
     "iopub.execute_input": "2021-06-30T09:20:30.849405Z",
     "iopub.status.busy": "2021-06-30T09:20:30.848703Z",
     "iopub.status.idle": "2021-06-30T09:20:30.891240Z",
     "shell.execute_reply": "2021-06-30T09:20:30.889541Z"
    }
   },
   "outputs": [
    {
     "data": {
      "image/svg+xml": [
       "<?xml version=\"1.0\" encoding=\"UTF-8\" standalone=\"no\"?><svg xmlns=\"http://www.w3.org/2000/svg\" xmlns:xlink=\"http://www.w3.org/1999/xlink\" contentScriptType=\"application/ecmascript\" contentStyleType=\"text/css\" height=\"356px\" preserveAspectRatio=\"none\" style=\"width:333px;height:356px;\" version=\"1.1\" viewBox=\"0 0 333 356\" width=\"333px\" zoomAndPan=\"magnify\"><defs/><g><!--MD5=[fbc87193dbaf4d95561dea2c320d4a47]\n",
       "cluster E1--><a href=\"psysml:068a4463-a96d-4165-a2bc-cadf70a9bc09\" target=\"_top\" title=\"psysml:068a4463-a96d-4165-a2bc-cadf70a9bc09\" xlink:actuate=\"onRequest\" xlink:href=\"psysml:068a4463-a96d-4165-a2bc-cadf70a9bc09\" xlink:show=\"new\" xlink:title=\"psysml:068a4463-a96d-4165-a2bc-cadf70a9bc09\" xlink:type=\"simple\"><rect fill=\"#FFFFFF\" height=\"338\" id=\"E1\" style=\"stroke: #383838; stroke-width: 1.5;\" width=\"315\" x=\"7\" y=\"7\"/><rect fill=\"#F8F8F8\" height=\"37.9375\" style=\"stroke: #383838; stroke-width: 1.5;\" width=\"315\" x=\"7\" y=\"7\"/><text fill=\"#000000\" font-family=\"sans-serif\" font-size=\"12\" font-style=\"italic\" lengthAdjust=\"spacingAndGlyphs\" textLength=\"77\" x=\"126\" y=\"23.1387\">«action def»</text><text fill=\"#000000\" font-family=\"sans-serif\" font-size=\"12\" lengthAdjust=\"spacingAndGlyphs\" textLength=\"80\" x=\"124.5\" y=\"37.1074\">DecisionTest</text></a><polygon fill=\"#F8F8F8\" points=\"210,67.5,222,79.5,210,91.5,198,79.5,210,67.5\" style=\"stroke: #383838; stroke-width: 1.5;\"/><polygon fill=\"#F8F8F8\" points=\"35,143.5,47,155.5,35,167.5,23,155.5,35,143.5\" style=\"stroke: #383838; stroke-width: 1.5;\"/><g id=\"E1.E4\"><a href=\"psysml:86b53981-b1ee-4c30-93d6-edfc048c3f3e\" target=\"_top\" title=\"psysml:86b53981-b1ee-4c30-93d6-edfc048c3f3e\" xlink:actuate=\"onRequest\" xlink:href=\"psysml:86b53981-b1ee-4c30-93d6-edfc048c3f3e\" xlink:show=\"new\" xlink:title=\"psysml:86b53981-b1ee-4c30-93d6-edfc048c3f3e\" xlink:type=\"simple\"><rect fill=\"#FFFFFF\" height=\"42.9375\" id=\"E4\" rx=\"10\" ry=\"10\" style=\"stroke: #383838; stroke-width: 1.5;\" width=\"60\" x=\"135\" y=\"210\"/><rect fill=\"#F8F8F8\" height=\"37.9375\" rx=\"10\" ry=\"10\" style=\"stroke: #F8F8F8; stroke-width: 1.5;\" width=\"60\" x=\"135\" y=\"210\"/><rect fill=\"#F8F8F8\" height=\"10\" style=\"stroke: #F8F8F8; stroke-width: 1.5;\" width=\"60\" x=\"135\" y=\"237.9375\"/><rect fill=\"none\" height=\"42.9375\" id=\"E4\" rx=\"10\" ry=\"10\" style=\"stroke: #383838; stroke-width: 1.5;\" width=\"60\" x=\"135\" y=\"210\"/><text fill=\"#000000\" font-family=\"sans-serif\" font-size=\"12\" font-style=\"italic\" lengthAdjust=\"spacingAndGlyphs\" textLength=\"53\" x=\"138.5\" y=\"226.1387\">«action»</text><text fill=\"#000000\" font-family=\"sans-serif\" font-size=\"12\" lengthAdjust=\"spacingAndGlyphs\" textLength=\"16\" x=\"157\" y=\"240.1074\">A1</text></a></g><g id=\"E1.E5\"><a href=\"psysml:38b4e12b-2856-48b1-8683-970a7e146d76\" target=\"_top\" title=\"psysml:38b4e12b-2856-48b1-8683-970a7e146d76\" xlink:actuate=\"onRequest\" xlink:href=\"psysml:38b4e12b-2856-48b1-8683-970a7e146d76\" xlink:show=\"new\" xlink:title=\"psysml:38b4e12b-2856-48b1-8683-970a7e146d76\" xlink:type=\"simple\"><rect fill=\"#FFFFFF\" height=\"42.9375\" id=\"E5\" rx=\"10\" ry=\"10\" style=\"stroke: #383838; stroke-width: 1.5;\" width=\"60\" x=\"135\" y=\"286\"/><rect fill=\"#F8F8F8\" height=\"37.9375\" rx=\"10\" ry=\"10\" style=\"stroke: #F8F8F8; stroke-width: 1.5;\" width=\"60\" x=\"135\" y=\"286\"/><rect fill=\"#F8F8F8\" height=\"10\" style=\"stroke: #F8F8F8; stroke-width: 1.5;\" width=\"60\" x=\"135\" y=\"313.9375\"/><rect fill=\"none\" height=\"42.9375\" id=\"E5\" rx=\"10\" ry=\"10\" style=\"stroke: #383838; stroke-width: 1.5;\" width=\"60\" x=\"135\" y=\"286\"/><text fill=\"#000000\" font-family=\"sans-serif\" font-size=\"12\" font-style=\"italic\" lengthAdjust=\"spacingAndGlyphs\" textLength=\"53\" x=\"138.5\" y=\"302.1387\">«action»</text><text fill=\"#000000\" font-family=\"sans-serif\" font-size=\"12\" lengthAdjust=\"spacingAndGlyphs\" textLength=\"16\" x=\"157\" y=\"316.1074\">A2</text></a></g><g id=\"E1.E6\"><a href=\"psysml:3ceea1c4-b769-4e45-b22d-b9b14232dc11\" target=\"_top\" title=\"psysml:3ceea1c4-b769-4e45-b22d-b9b14232dc11\" xlink:actuate=\"onRequest\" xlink:href=\"psysml:3ceea1c4-b769-4e45-b22d-b9b14232dc11\" xlink:show=\"new\" xlink:title=\"psysml:3ceea1c4-b769-4e45-b22d-b9b14232dc11\" xlink:type=\"simple\"><rect fill=\"#FFFFFF\" height=\"42.9375\" id=\"E6\" rx=\"10\" ry=\"10\" style=\"stroke: #383838; stroke-width: 1.5;\" width=\"60\" x=\"63\" y=\"58\"/><rect fill=\"#F8F8F8\" height=\"37.9375\" rx=\"10\" ry=\"10\" style=\"stroke: #F8F8F8; stroke-width: 1.5;\" width=\"60\" x=\"63\" y=\"58\"/><rect fill=\"#F8F8F8\" height=\"10\" style=\"stroke: #F8F8F8; stroke-width: 1.5;\" width=\"60\" x=\"63\" y=\"85.9375\"/><rect fill=\"none\" height=\"42.9375\" id=\"E6\" rx=\"10\" ry=\"10\" style=\"stroke: #383838; stroke-width: 1.5;\" width=\"60\" x=\"63\" y=\"58\"/><text fill=\"#000000\" font-family=\"sans-serif\" font-size=\"12\" font-style=\"italic\" lengthAdjust=\"spacingAndGlyphs\" textLength=\"53\" x=\"66.5\" y=\"74.1387\">«action»</text><text fill=\"#000000\" font-family=\"sans-serif\" font-size=\"12\" lengthAdjust=\"spacingAndGlyphs\" textLength=\"16\" x=\"85\" y=\"88.1074\">A3</text></a></g><g id=\"E1.E7\"><a href=\"psysml:3ceea1c4-b769-4e45-b22d-b9b14232dc11\" target=\"_top\" title=\"psysml:3ceea1c4-b769-4e45-b22d-b9b14232dc11\" xlink:actuate=\"onRequest\" xlink:href=\"psysml:3ceea1c4-b769-4e45-b22d-b9b14232dc11\" xlink:show=\"new\" xlink:title=\"psysml:3ceea1c4-b769-4e45-b22d-b9b14232dc11\" xlink:type=\"simple\"><rect fill=\"#FFFFFF\" height=\"42.9375\" id=\"E7\" rx=\"10\" ry=\"10\" style=\"stroke: #383838; stroke-width: 1.5;\" width=\"60\" x=\"246\" y=\"134\"/><rect fill=\"#F8F8F8\" height=\"37.9375\" rx=\"10\" ry=\"10\" style=\"stroke: #F8F8F8; stroke-width: 1.5;\" width=\"60\" x=\"246\" y=\"134\"/><rect fill=\"#F8F8F8\" height=\"10\" style=\"stroke: #F8F8F8; stroke-width: 1.5;\" width=\"60\" x=\"246\" y=\"161.9375\"/><rect fill=\"none\" height=\"42.9375\" id=\"E7\" rx=\"10\" ry=\"10\" style=\"stroke: #383838; stroke-width: 1.5;\" width=\"60\" x=\"246\" y=\"134\"/><text fill=\"#000000\" font-family=\"sans-serif\" font-size=\"12\" font-style=\"italic\" lengthAdjust=\"spacingAndGlyphs\" textLength=\"53\" x=\"249.5\" y=\"150.1387\">«action»</text><text fill=\"#000000\" font-family=\"sans-serif\" font-size=\"12\" lengthAdjust=\"spacingAndGlyphs\" textLength=\"16\" x=\"268\" y=\"164.1074\">A3</text></a></g><!--MD5=[4d03bb2d0377dc85ccfab60ff574652b]\n",
       "link E2 to E4--><a href=\"psysml:5839aeb0-dd7d-4257-be26-6d697b84d54b\" target=\"_top\" title=\"psysml:5839aeb0-dd7d-4257-be26-6d697b84d54b\" xlink:actuate=\"onRequest\" xlink:href=\"psysml:5839aeb0-dd7d-4257-be26-6d697b84d54b\" xlink:show=\"new\" xlink:title=\"psysml:5839aeb0-dd7d-4257-be26-6d697b84d54b\" xlink:type=\"simple\"><path d=\"M201.97,84.07 C187.22,91.12 156.19,108.44 144,134 C133.21,156.64 141.61,184.91 150.79,204.99 \" fill=\"none\" id=\"E2-&gt;E4\" style=\"stroke: #383838; stroke-width: 1.0;\"/><polygon fill=\"#383838\" points=\"153,209.65,152.7662,199.8039,150.8614,205.1304,145.5349,203.2257,153,209.65\" style=\"stroke: #383838; stroke-width: 1.0;\"/><text fill=\"#000000\" font-family=\"sans-serif\" font-size=\"13\" lengthAdjust=\"spacingAndGlyphs\" textLength=\"55\" x=\"145\" y=\"160.0669\">[x == 1]</text></a><!--MD5=[dcad52bbbca2fe8adc741ce38b45dc12]\n",
       "link E2 to E5--><a href=\"psysml:6472265e-4329-42f9-a73f-b0fdd653d81d\" target=\"_top\" title=\"psysml:6472265e-4329-42f9-a73f-b0fdd653d81d\" xlink:actuate=\"onRequest\" xlink:href=\"psysml:6472265e-4329-42f9-a73f-b0fdd653d81d\" xlink:show=\"new\" xlink:title=\"psysml:6472265e-4329-42f9-a73f-b0fdd653d81d\" xlink:type=\"simple\"><path d=\"M211.03,90.77 C214.33,123.83 224.51,227.37 226,261 C226.33,268.55 230.06,271.63 226,278 C220.01,287.41 210.02,293.76 199.83,298.03 \" fill=\"none\" id=\"E2-&gt;E5\" style=\"stroke: #383838; stroke-width: 1.0;\"/><polygon fill=\"#383838\" points=\"195.15,299.85,204.9881,300.3102,199.8089,298.035,202.0841,292.8559,195.15,299.85\" style=\"stroke: #383838; stroke-width: 1.0;\"/><text fill=\"#000000\" font-family=\"sans-serif\" font-size=\"13\" lengthAdjust=\"spacingAndGlyphs\" textLength=\"44\" x=\"222\" y=\"198.0669\">[x &gt; 1]</text></a><!--MD5=[e3d2a08a9c9236652057e8ed0cbc9b62]\n",
       "link E2 to E7--><a href=\"psysml:3c10905a-0cf4-4572-9b68-27220c544656\" target=\"_top\" title=\"psysml:3c10905a-0cf4-4572-9b68-27220c544656\" xlink:actuate=\"onRequest\" xlink:href=\"psysml:3c10905a-0cf4-4572-9b68-27220c544656\" xlink:show=\"new\" xlink:title=\"psysml:3c10905a-0cf4-4572-9b68-27220c544656\" xlink:type=\"simple\"><path d=\"M210.68,90.95 C211.82,100.93 214.86,115.89 223,126 C227.84,132.02 234.31,136.94 241.06,140.89 \" fill=\"none\" id=\"E2-&gt;E7\" style=\"stroke: #383838; stroke-width: 1.0;\"/><polygon fill=\"#383838\" points=\"245.76,143.47,239.7851,135.6406,241.3738,141.0697,235.9446,142.6585,245.76,143.47\" style=\"stroke: #383838; stroke-width: 1.0;\"/></a><!--MD5=[583832df87f4419a098336a29a52fa00]\n",
       "link E7 to E2--><a href=\"psysml:2ecae6e1-cb24-4407-809b-df9594bdb8fa\" target=\"_top\" title=\"psysml:2ecae6e1-cb24-4407-809b-df9594bdb8fa\" xlink:actuate=\"onRequest\" xlink:href=\"psysml:2ecae6e1-cb24-4407-809b-df9594bdb8fa\" xlink:show=\"new\" xlink:title=\"psysml:2ecae6e1-cb24-4407-809b-df9594bdb8fa\" xlink:type=\"simple\"><path d=\"M257.61,133.88 C245.02,119.76 228.86,101.65 218.98,90.57 \" fill=\"none\" id=\"E7-&gt;E2\" style=\"stroke: #383838; stroke-width: 1.0;\"/><polygon fill=\"#383838\" points=\"215.4,86.56,218.3919,95.9434,218.7227,90.2963,224.3699,90.6271,215.4,86.56\" style=\"stroke: #383838; stroke-width: 1.0;\"/><text fill=\"#000000\" font-family=\"sans-serif\" font-size=\"13\" lengthAdjust=\"spacingAndGlyphs\" textLength=\"44\" x=\"249\" y=\"122.0669\">[x &gt; 0]</text></a><!--MD5=[2720a5a1f2c3fca2055b230370638851]\n",
       "link E2 to E3--><a href=\"psysml:4534ef33-8eda-405a-b2f5-6c95fd446375\" target=\"_top\" title=\"psysml:4534ef33-8eda-405a-b2f5-6c95fd446375\" xlink:actuate=\"onRequest\" xlink:href=\"psysml:4534ef33-8eda-405a-b2f5-6c95fd446375\" xlink:show=\"new\" xlink:title=\"psysml:4534ef33-8eda-405a-b2f5-6c95fd446375\" xlink:type=\"simple\"><path d=\"M201.54,83.16 C188.57,87.22 162.96,95.08 141,101 C126.43,104.93 121.91,103.16 108,109 C84.25,118.97 59.36,136.17 45.65,146.32 \" fill=\"none\" id=\"E2-&gt;E3\" style=\"stroke: #383838; stroke-width: 1.0;\"/><polygon fill=\"#383838\" points=\"41.45,149.47,51.05,147.27,45.45,146.47,46.25,140.87,41.45,149.47\" style=\"stroke: #383838; stroke-width: 1.0;\"/></a><!--MD5=[af87c684e3b0d8be13c1a698a818ef1e]\n",
       "link E3 to E4--><a href=\"psysml:4cb33783-cb85-4624-8a6d-789ab5e27309\" target=\"_top\" title=\"psysml:4cb33783-cb85-4624-8a6d-789ab5e27309\" xlink:actuate=\"onRequest\" xlink:href=\"psysml:4cb33783-cb85-4624-8a6d-789ab5e27309\" xlink:show=\"new\" xlink:title=\"psysml:4cb33783-cb85-4624-8a6d-789ab5e27309\" xlink:type=\"simple\"><path d=\"M40.09,162.69 C48.35,172.37 65.62,191.11 84,202 C93.67,207.73 97.38,206.32 108,210 C115.1,212.46 122.69,215.15 129.93,217.74 \" fill=\"none\" id=\"E3-&gt;E4\" style=\"stroke: #383838; stroke-width: 1.0;\"/><polygon fill=\"#383838\" points=\"134.87,219.52,127.7488,212.7164,130.1636,217.832,125.048,220.2467,134.87,219.52\" style=\"stroke: #383838; stroke-width: 1.0;\"/><text fill=\"#000000\" font-family=\"sans-serif\" font-size=\"13\" lengthAdjust=\"spacingAndGlyphs\" textLength=\"36\" x=\"85\" y=\"198.0669\">[true]</text></a><!--MD5=[0188b64bb0ae78505a997a81836e11e9]\n",
       "link E3 to E5--><a href=\"psysml:7566f218-2e4c-4b1d-8134-f6de9f4cb12f\" target=\"_top\" title=\"psysml:7566f218-2e4c-4b1d-8134-f6de9f4cb12f\" xlink:actuate=\"onRequest\" xlink:href=\"psysml:7566f218-2e4c-4b1d-8134-f6de9f4cb12f\" xlink:show=\"new\" xlink:title=\"psysml:7566f218-2e4c-4b1d-8134-f6de9f4cb12f\" xlink:type=\"simple\"><path d=\"M36.91,165.76 C41.11,184.24 52.71,226.21 76,253 C90.72,269.93 112.16,283.05 130.31,292.05 \" fill=\"none\" id=\"E3-&gt;E5\" style=\"stroke: #383838; stroke-width: 1.0;\"/><polygon fill=\"#383838\" points=\"134.85,294.25,128.4921,286.7283,130.3496,292.0714,125.0064,293.9289,134.85,294.25\" style=\"stroke: #383838; stroke-width: 1.0;\"/><text fill=\"#000000\" font-family=\"sans-serif\" font-size=\"13\" lengthAdjust=\"spacingAndGlyphs\" textLength=\"40\" x=\"77\" y=\"236.0669\">[false]</text></a><!--MD5=[1b7591eae5389033d8d09a9d6721a717]\n",
       "link E4 to E5--><a href=\"psysml:2ec4d8de-ba31-4f08-a58c-ce574f556666\" target=\"_top\" title=\"psysml:2ec4d8de-ba31-4f08-a58c-ce574f556666\" xlink:actuate=\"onRequest\" xlink:href=\"psysml:2ec4d8de-ba31-4f08-a58c-ce574f556666\" xlink:show=\"new\" xlink:title=\"psysml:2ec4d8de-ba31-4f08-a58c-ce574f556666\" xlink:type=\"simple\"><path d=\"M165,253.11 C165,261.69 165,271.75 165,280.8 \" fill=\"none\" id=\"E4-&gt;E5\" style=\"stroke: #383838; stroke-width: 1.0;\"/><polygon fill=\"#383838\" points=\"165,286,169,277,165,281,161,277,165,286\" style=\"stroke: #383838; stroke-width: 1.0;\"/><text fill=\"#000000\" font-family=\"sans-serif\" font-size=\"13\" lengthAdjust=\"spacingAndGlyphs\" textLength=\"55\" x=\"166\" y=\"274.0669\">[x == 0]</text></a><!--MD5=[fe9b65a555909c5adf48bcf55596ca58]\n",
       "@startuml\r\n",
       "skinparam ranksep 10\r\n",
       "skinparam rectangle {\r\n",
       " backgroundColor<<block>> LightGreen\r\n",
       "}\r\n",
       "skinparam monochrome true\r\n",
       "skinparam classbackgroundcolor white\r\n",
       "skinparam shadowing false\r\n",
       "skinparam wrapWidth 300\r\n",
       "hide circle\r\n",
       "\r\n",
       "rec def \"DecisionTest\" as E1  <<(T,blue) action def>> [[psysml:068a4463-a96d-4165-a2bc-cadf70a9bc09 ]] {\r\n",
       "choice \"test x\" as E2  [[psysml:44ee9e06-5fd9-46bf-b0f8-00dd693073b7 ]] \r\n",
       "choice \"noname\" as E3  [[psysml:eeb68ac4-2ad3-4e0c-9c18-140c63d1edba ]] \r\n",
       "rec usage \"A1\" as E4  <<(T,blue) action>> [[psysml:86b53981-b1ee-4c30-93d6-edfc048c3f3e ]] {\r\n",
       "}\r\n",
       "\r\n",
       "rec usage \"A2\" as E5  <<(T,blue) action>> [[psysml:38b4e12b-2856-48b1-8683-970a7e146d76 ]] {\r\n",
       "}\r\n",
       "\r\n",
       "rec usage \"A3\" as E6  <<(T,blue) action>> [[psysml:3ceea1c4-b769-4e45-b22d-b9b14232dc11 ]] {\r\n",
       "}\r\n",
       "\r\n",
       "rec usage \"A3\" as E7  <<(T,blue) action>> [[psysml:3ceea1c4-b769-4e45-b22d-b9b14232dc11 ]] {\r\n",
       "}\r\n",
       "\r\n",
       "}\r\n",
       "\r\n",
       "E2  - -> E4 [[psysml:5839aeb0-dd7d-4257-be26-6d697b84d54b ]] : [x == 1]\r\n",
       "E2  - -> E5 [[psysml:6472265e-4329-42f9-a73f-b0fdd653d81d ]] : [x > 1]\r\n",
       "E2  - -> E7 [[psysml:3c10905a-0cf4-4572-9b68-27220c544656 ]] \r\n",
       "E2 - -> E3 [[psysml:4534ef33-8eda-405a-b2f5-6c95fd446375 ]] \r\n",
       "E3  - -> E4 [[psysml:4cb33783-cb85-4624-8a6d-789ab5e27309 ]] : [true]\r\n",
       "E3  - -> E5 [[psysml:7566f218-2e4c-4b1d-8134-f6de9f4cb12f ]] : [false]\r\n",
       "E4  - -> E5 [[psysml:2ec4d8de-ba31-4f08-a58c-ce574f556666 ]] : [x == 0]\r\n",
       "E7  - -> E2 [[psysml:2ecae6e1-cb24-4407-809b-df9594bdb8fa ]] : [x > 0]\r\n",
       "@enduml\r\n",
       "\n",
       "PlantUML version 1.2020.13(Sat Jun 13 12:26:38 UTC 2020)\n",
       "(EPL source distribution)\n",
       "Java Runtime: OpenJDK Runtime Environment\n",
       "JVM: OpenJDK 64-Bit Server VM\n",
       "Default Encoding: UTF-8\n",
       "Language: en\n",
       "Country: null\n",
       "--></g></svg>"
      ]
     },
     "execution_count": 40,
     "metadata": {},
     "output_type": "execute_result"
    }
   ],
   "source": [
    "%viz --style=\"DEFAULT\" --view=\"Interconnection\" \"DecisionTest\""
   ]
  },
  {
   "cell_type": "code",
   "execution_count": 41,
   "id": "eb67ee15",
   "metadata": {
    "execution": {
     "iopub.execute_input": "2021-06-30T09:20:30.942408Z",
     "iopub.status.busy": "2021-06-30T09:20:30.941547Z",
     "iopub.status.idle": "2021-06-30T09:20:31.014161Z",
     "shell.execute_reply": "2021-06-30T09:20:31.014786Z"
    }
   },
   "outputs": [
    {
     "data": {
      "image/svg+xml": [
       "<?xml version=\"1.0\" encoding=\"UTF-8\" standalone=\"no\"?><svg xmlns=\"http://www.w3.org/2000/svg\" xmlns:xlink=\"http://www.w3.org/1999/xlink\" contentScriptType=\"application/ecmascript\" contentStyleType=\"text/css\" height=\"356px\" preserveAspectRatio=\"none\" style=\"width:333px;height:356px;\" version=\"1.1\" viewBox=\"0 0 333 356\" width=\"333px\" zoomAndPan=\"magnify\"><defs/><g><!--MD5=[fbc87193dbaf4d95561dea2c320d4a47]\n",
       "cluster E1--><a href=\"psysml:068a4463-a96d-4165-a2bc-cadf70a9bc09\" target=\"_top\" title=\"psysml:068a4463-a96d-4165-a2bc-cadf70a9bc09\" xlink:actuate=\"onRequest\" xlink:href=\"psysml:068a4463-a96d-4165-a2bc-cadf70a9bc09\" xlink:show=\"new\" xlink:title=\"psysml:068a4463-a96d-4165-a2bc-cadf70a9bc09\" xlink:type=\"simple\"><rect fill=\"#FFFFFF\" height=\"338\" id=\"E1\" style=\"stroke: #383838; stroke-width: 1.5;\" width=\"315\" x=\"7\" y=\"7\"/><rect fill=\"#F8F8F8\" height=\"37.9375\" style=\"stroke: #383838; stroke-width: 1.5;\" width=\"315\" x=\"7\" y=\"7\"/><text fill=\"#000000\" font-family=\"sans-serif\" font-size=\"12\" font-style=\"italic\" lengthAdjust=\"spacingAndGlyphs\" textLength=\"77\" x=\"126\" y=\"23.1387\">«action def»</text><text fill=\"#000000\" font-family=\"sans-serif\" font-size=\"12\" lengthAdjust=\"spacingAndGlyphs\" textLength=\"80\" x=\"124.5\" y=\"37.1074\">DecisionTest</text></a><polygon fill=\"#F8F8F8\" points=\"210,67.5,222,79.5,210,91.5,198,79.5,210,67.5\" style=\"stroke: #383838; stroke-width: 1.5;\"/><polygon fill=\"#F8F8F8\" points=\"35,143.5,47,155.5,35,167.5,23,155.5,35,143.5\" style=\"stroke: #383838; stroke-width: 1.5;\"/><g id=\"E1.E4\"><a href=\"psysml:86b53981-b1ee-4c30-93d6-edfc048c3f3e\" target=\"_top\" title=\"psysml:86b53981-b1ee-4c30-93d6-edfc048c3f3e\" xlink:actuate=\"onRequest\" xlink:href=\"psysml:86b53981-b1ee-4c30-93d6-edfc048c3f3e\" xlink:show=\"new\" xlink:title=\"psysml:86b53981-b1ee-4c30-93d6-edfc048c3f3e\" xlink:type=\"simple\"><rect fill=\"#FFFFFF\" height=\"42.9375\" id=\"E4\" rx=\"10\" ry=\"10\" style=\"stroke: #383838; stroke-width: 1.5;\" width=\"60\" x=\"135\" y=\"210\"/><rect fill=\"#F8F8F8\" height=\"37.9375\" rx=\"10\" ry=\"10\" style=\"stroke: #F8F8F8; stroke-width: 1.5;\" width=\"60\" x=\"135\" y=\"210\"/><rect fill=\"#F8F8F8\" height=\"10\" style=\"stroke: #F8F8F8; stroke-width: 1.5;\" width=\"60\" x=\"135\" y=\"237.9375\"/><rect fill=\"none\" height=\"42.9375\" id=\"E4\" rx=\"10\" ry=\"10\" style=\"stroke: #383838; stroke-width: 1.5;\" width=\"60\" x=\"135\" y=\"210\"/><text fill=\"#000000\" font-family=\"sans-serif\" font-size=\"12\" font-style=\"italic\" lengthAdjust=\"spacingAndGlyphs\" textLength=\"53\" x=\"138.5\" y=\"226.1387\">«action»</text><text fill=\"#000000\" font-family=\"sans-serif\" font-size=\"12\" lengthAdjust=\"spacingAndGlyphs\" textLength=\"16\" x=\"157\" y=\"240.1074\">A1</text></a></g><g id=\"E1.E5\"><a href=\"psysml:38b4e12b-2856-48b1-8683-970a7e146d76\" target=\"_top\" title=\"psysml:38b4e12b-2856-48b1-8683-970a7e146d76\" xlink:actuate=\"onRequest\" xlink:href=\"psysml:38b4e12b-2856-48b1-8683-970a7e146d76\" xlink:show=\"new\" xlink:title=\"psysml:38b4e12b-2856-48b1-8683-970a7e146d76\" xlink:type=\"simple\"><rect fill=\"#FFFFFF\" height=\"42.9375\" id=\"E5\" rx=\"10\" ry=\"10\" style=\"stroke: #383838; stroke-width: 1.5;\" width=\"60\" x=\"135\" y=\"286\"/><rect fill=\"#F8F8F8\" height=\"37.9375\" rx=\"10\" ry=\"10\" style=\"stroke: #F8F8F8; stroke-width: 1.5;\" width=\"60\" x=\"135\" y=\"286\"/><rect fill=\"#F8F8F8\" height=\"10\" style=\"stroke: #F8F8F8; stroke-width: 1.5;\" width=\"60\" x=\"135\" y=\"313.9375\"/><rect fill=\"none\" height=\"42.9375\" id=\"E5\" rx=\"10\" ry=\"10\" style=\"stroke: #383838; stroke-width: 1.5;\" width=\"60\" x=\"135\" y=\"286\"/><text fill=\"#000000\" font-family=\"sans-serif\" font-size=\"12\" font-style=\"italic\" lengthAdjust=\"spacingAndGlyphs\" textLength=\"53\" x=\"138.5\" y=\"302.1387\">«action»</text><text fill=\"#000000\" font-family=\"sans-serif\" font-size=\"12\" lengthAdjust=\"spacingAndGlyphs\" textLength=\"16\" x=\"157\" y=\"316.1074\">A2</text></a></g><g id=\"E1.E6\"><a href=\"psysml:3ceea1c4-b769-4e45-b22d-b9b14232dc11\" target=\"_top\" title=\"psysml:3ceea1c4-b769-4e45-b22d-b9b14232dc11\" xlink:actuate=\"onRequest\" xlink:href=\"psysml:3ceea1c4-b769-4e45-b22d-b9b14232dc11\" xlink:show=\"new\" xlink:title=\"psysml:3ceea1c4-b769-4e45-b22d-b9b14232dc11\" xlink:type=\"simple\"><rect fill=\"#FFFFFF\" height=\"42.9375\" id=\"E6\" rx=\"10\" ry=\"10\" style=\"stroke: #383838; stroke-width: 1.5;\" width=\"60\" x=\"63\" y=\"58\"/><rect fill=\"#F8F8F8\" height=\"37.9375\" rx=\"10\" ry=\"10\" style=\"stroke: #F8F8F8; stroke-width: 1.5;\" width=\"60\" x=\"63\" y=\"58\"/><rect fill=\"#F8F8F8\" height=\"10\" style=\"stroke: #F8F8F8; stroke-width: 1.5;\" width=\"60\" x=\"63\" y=\"85.9375\"/><rect fill=\"none\" height=\"42.9375\" id=\"E6\" rx=\"10\" ry=\"10\" style=\"stroke: #383838; stroke-width: 1.5;\" width=\"60\" x=\"63\" y=\"58\"/><text fill=\"#000000\" font-family=\"sans-serif\" font-size=\"12\" font-style=\"italic\" lengthAdjust=\"spacingAndGlyphs\" textLength=\"53\" x=\"66.5\" y=\"74.1387\">«action»</text><text fill=\"#000000\" font-family=\"sans-serif\" font-size=\"12\" lengthAdjust=\"spacingAndGlyphs\" textLength=\"16\" x=\"85\" y=\"88.1074\">A3</text></a></g><g id=\"E1.E7\"><a href=\"psysml:3ceea1c4-b769-4e45-b22d-b9b14232dc11\" target=\"_top\" title=\"psysml:3ceea1c4-b769-4e45-b22d-b9b14232dc11\" xlink:actuate=\"onRequest\" xlink:href=\"psysml:3ceea1c4-b769-4e45-b22d-b9b14232dc11\" xlink:show=\"new\" xlink:title=\"psysml:3ceea1c4-b769-4e45-b22d-b9b14232dc11\" xlink:type=\"simple\"><rect fill=\"#FFFFFF\" height=\"42.9375\" id=\"E7\" rx=\"10\" ry=\"10\" style=\"stroke: #383838; stroke-width: 1.5;\" width=\"60\" x=\"246\" y=\"134\"/><rect fill=\"#F8F8F8\" height=\"37.9375\" rx=\"10\" ry=\"10\" style=\"stroke: #F8F8F8; stroke-width: 1.5;\" width=\"60\" x=\"246\" y=\"134\"/><rect fill=\"#F8F8F8\" height=\"10\" style=\"stroke: #F8F8F8; stroke-width: 1.5;\" width=\"60\" x=\"246\" y=\"161.9375\"/><rect fill=\"none\" height=\"42.9375\" id=\"E7\" rx=\"10\" ry=\"10\" style=\"stroke: #383838; stroke-width: 1.5;\" width=\"60\" x=\"246\" y=\"134\"/><text fill=\"#000000\" font-family=\"sans-serif\" font-size=\"12\" font-style=\"italic\" lengthAdjust=\"spacingAndGlyphs\" textLength=\"53\" x=\"249.5\" y=\"150.1387\">«action»</text><text fill=\"#000000\" font-family=\"sans-serif\" font-size=\"12\" lengthAdjust=\"spacingAndGlyphs\" textLength=\"16\" x=\"268\" y=\"164.1074\">A3</text></a></g><!--MD5=[4d03bb2d0377dc85ccfab60ff574652b]\n",
       "link E2 to E4--><a href=\"psysml:5839aeb0-dd7d-4257-be26-6d697b84d54b\" target=\"_top\" title=\"psysml:5839aeb0-dd7d-4257-be26-6d697b84d54b\" xlink:actuate=\"onRequest\" xlink:href=\"psysml:5839aeb0-dd7d-4257-be26-6d697b84d54b\" xlink:show=\"new\" xlink:title=\"psysml:5839aeb0-dd7d-4257-be26-6d697b84d54b\" xlink:type=\"simple\"><path d=\"M201.97,84.07 C187.22,91.12 156.19,108.44 144,134 C133.21,156.64 141.61,184.91 150.79,204.99 \" fill=\"none\" id=\"E2-&gt;E4\" style=\"stroke: #383838; stroke-width: 1.0; stroke-dasharray: 7.0,7.0;\"/><polygon fill=\"#383838\" points=\"153,209.65,152.7662,199.8039,150.8614,205.1304,145.5349,203.2257,153,209.65\" style=\"stroke: #383838; stroke-width: 1.0;\"/><text fill=\"#000000\" font-family=\"sans-serif\" font-size=\"13\" lengthAdjust=\"spacingAndGlyphs\" textLength=\"55\" x=\"145\" y=\"160.0669\">[x == 1]</text></a><!--MD5=[dcad52bbbca2fe8adc741ce38b45dc12]\n",
       "link E2 to E5--><a href=\"psysml:6472265e-4329-42f9-a73f-b0fdd653d81d\" target=\"_top\" title=\"psysml:6472265e-4329-42f9-a73f-b0fdd653d81d\" xlink:actuate=\"onRequest\" xlink:href=\"psysml:6472265e-4329-42f9-a73f-b0fdd653d81d\" xlink:show=\"new\" xlink:title=\"psysml:6472265e-4329-42f9-a73f-b0fdd653d81d\" xlink:type=\"simple\"><path d=\"M211.03,90.77 C214.33,123.83 224.51,227.37 226,261 C226.33,268.55 230.06,271.63 226,278 C220.01,287.41 210.02,293.76 199.83,298.03 \" fill=\"none\" id=\"E2-&gt;E5\" style=\"stroke: #383838; stroke-width: 1.0; stroke-dasharray: 7.0,7.0;\"/><polygon fill=\"#383838\" points=\"195.15,299.85,204.9881,300.3102,199.8089,298.035,202.0841,292.8559,195.15,299.85\" style=\"stroke: #383838; stroke-width: 1.0;\"/><text fill=\"#000000\" font-family=\"sans-serif\" font-size=\"13\" lengthAdjust=\"spacingAndGlyphs\" textLength=\"44\" x=\"222\" y=\"198.0669\">[x &gt; 1]</text></a><!--MD5=[e3d2a08a9c9236652057e8ed0cbc9b62]\n",
       "link E2 to E7--><a href=\"psysml:3c10905a-0cf4-4572-9b68-27220c544656\" target=\"_top\" title=\"psysml:3c10905a-0cf4-4572-9b68-27220c544656\" xlink:actuate=\"onRequest\" xlink:href=\"psysml:3c10905a-0cf4-4572-9b68-27220c544656\" xlink:show=\"new\" xlink:title=\"psysml:3c10905a-0cf4-4572-9b68-27220c544656\" xlink:type=\"simple\"><path d=\"M210.68,90.95 C211.82,100.93 214.86,115.89 223,126 C227.84,132.02 234.31,136.94 241.06,140.89 \" fill=\"none\" id=\"E2-&gt;E7\" style=\"stroke: #383838; stroke-width: 1.0; stroke-dasharray: 7.0,7.0;\"/><polygon fill=\"#383838\" points=\"245.76,143.47,239.7851,135.6406,241.3738,141.0697,235.9446,142.6585,245.76,143.47\" style=\"stroke: #383838; stroke-width: 1.0;\"/></a><!--MD5=[583832df87f4419a098336a29a52fa00]\n",
       "link E7 to E2--><a href=\"psysml:2ecae6e1-cb24-4407-809b-df9594bdb8fa\" target=\"_top\" title=\"psysml:2ecae6e1-cb24-4407-809b-df9594bdb8fa\" xlink:actuate=\"onRequest\" xlink:href=\"psysml:2ecae6e1-cb24-4407-809b-df9594bdb8fa\" xlink:show=\"new\" xlink:title=\"psysml:2ecae6e1-cb24-4407-809b-df9594bdb8fa\" xlink:type=\"simple\"><path d=\"M257.61,133.88 C245.02,119.76 228.86,101.65 218.98,90.57 \" fill=\"none\" id=\"E7-&gt;E2\" style=\"stroke: #383838; stroke-width: 1.0; stroke-dasharray: 7.0,7.0;\"/><polygon fill=\"#383838\" points=\"215.4,86.56,218.3919,95.9434,218.7227,90.2963,224.3699,90.6271,215.4,86.56\" style=\"stroke: #383838; stroke-width: 1.0;\"/><text fill=\"#000000\" font-family=\"sans-serif\" font-size=\"13\" lengthAdjust=\"spacingAndGlyphs\" textLength=\"44\" x=\"249\" y=\"122.0669\">[x &gt; 0]</text></a><!--MD5=[2720a5a1f2c3fca2055b230370638851]\n",
       "link E2 to E3--><a href=\"psysml:4534ef33-8eda-405a-b2f5-6c95fd446375\" target=\"_top\" title=\"psysml:4534ef33-8eda-405a-b2f5-6c95fd446375\" xlink:actuate=\"onRequest\" xlink:href=\"psysml:4534ef33-8eda-405a-b2f5-6c95fd446375\" xlink:show=\"new\" xlink:title=\"psysml:4534ef33-8eda-405a-b2f5-6c95fd446375\" xlink:type=\"simple\"><path d=\"M201.54,83.16 C188.57,87.22 162.96,95.08 141,101 C126.43,104.93 121.91,103.16 108,109 C84.25,118.97 59.36,136.17 45.65,146.32 \" fill=\"none\" id=\"E2-&gt;E3\" style=\"stroke: #383838; stroke-width: 1.0; stroke-dasharray: 7.0,7.0;\"/><polygon fill=\"#383838\" points=\"41.45,149.47,51.05,147.27,45.45,146.47,46.25,140.87,41.45,149.47\" style=\"stroke: #383838; stroke-width: 1.0;\"/></a><!--MD5=[af87c684e3b0d8be13c1a698a818ef1e]\n",
       "link E3 to E4--><a href=\"psysml:4cb33783-cb85-4624-8a6d-789ab5e27309\" target=\"_top\" title=\"psysml:4cb33783-cb85-4624-8a6d-789ab5e27309\" xlink:actuate=\"onRequest\" xlink:href=\"psysml:4cb33783-cb85-4624-8a6d-789ab5e27309\" xlink:show=\"new\" xlink:title=\"psysml:4cb33783-cb85-4624-8a6d-789ab5e27309\" xlink:type=\"simple\"><path d=\"M40.09,162.69 C48.35,172.37 65.62,191.11 84,202 C93.67,207.73 97.38,206.32 108,210 C115.1,212.46 122.69,215.15 129.93,217.74 \" fill=\"none\" id=\"E3-&gt;E4\" style=\"stroke: #383838; stroke-width: 1.0; stroke-dasharray: 7.0,7.0;\"/><polygon fill=\"#383838\" points=\"134.87,219.52,127.7488,212.7164,130.1636,217.832,125.048,220.2467,134.87,219.52\" style=\"stroke: #383838; stroke-width: 1.0;\"/><text fill=\"#000000\" font-family=\"sans-serif\" font-size=\"13\" lengthAdjust=\"spacingAndGlyphs\" textLength=\"36\" x=\"85\" y=\"198.0669\">[true]</text></a><!--MD5=[0188b64bb0ae78505a997a81836e11e9]\n",
       "link E3 to E5--><a href=\"psysml:7566f218-2e4c-4b1d-8134-f6de9f4cb12f\" target=\"_top\" title=\"psysml:7566f218-2e4c-4b1d-8134-f6de9f4cb12f\" xlink:actuate=\"onRequest\" xlink:href=\"psysml:7566f218-2e4c-4b1d-8134-f6de9f4cb12f\" xlink:show=\"new\" xlink:title=\"psysml:7566f218-2e4c-4b1d-8134-f6de9f4cb12f\" xlink:type=\"simple\"><path d=\"M36.91,165.76 C41.11,184.24 52.71,226.21 76,253 C90.72,269.93 112.16,283.05 130.31,292.05 \" fill=\"none\" id=\"E3-&gt;E5\" style=\"stroke: #383838; stroke-width: 1.0; stroke-dasharray: 7.0,7.0;\"/><polygon fill=\"#383838\" points=\"134.85,294.25,128.4921,286.7283,130.3496,292.0714,125.0064,293.9289,134.85,294.25\" style=\"stroke: #383838; stroke-width: 1.0;\"/><text fill=\"#000000\" font-family=\"sans-serif\" font-size=\"13\" lengthAdjust=\"spacingAndGlyphs\" textLength=\"40\" x=\"77\" y=\"236.0669\">[false]</text></a><!--MD5=[1b7591eae5389033d8d09a9d6721a717]\n",
       "link E4 to E5--><a href=\"psysml:2ec4d8de-ba31-4f08-a58c-ce574f556666\" target=\"_top\" title=\"psysml:2ec4d8de-ba31-4f08-a58c-ce574f556666\" xlink:actuate=\"onRequest\" xlink:href=\"psysml:2ec4d8de-ba31-4f08-a58c-ce574f556666\" xlink:show=\"new\" xlink:title=\"psysml:2ec4d8de-ba31-4f08-a58c-ce574f556666\" xlink:type=\"simple\"><path d=\"M165,253.11 C165,261.69 165,271.75 165,280.8 \" fill=\"none\" id=\"E4-&gt;E5\" style=\"stroke: #383838; stroke-width: 1.0; stroke-dasharray: 7.0,7.0;\"/><polygon fill=\"#383838\" points=\"165,286,169,277,165,281,161,277,165,286\" style=\"stroke: #383838; stroke-width: 1.0;\"/><text fill=\"#000000\" font-family=\"sans-serif\" font-size=\"13\" lengthAdjust=\"spacingAndGlyphs\" textLength=\"55\" x=\"166\" y=\"274.0669\">[x == 0]</text></a><!--MD5=[828d1dddaeb14a10cba3ea4e44408b48]\n",
       "@startuml\r\n",
       "skinparam ranksep 8\r\n",
       "skinparam monochrome true\r\n",
       "skinparam classbackgroundcolor white\r\n",
       "skinparam shadowing false\r\n",
       "skinparam wrapWidth 300\r\n",
       "hide circle\r\n",
       "\r\n",
       "rec def \"DecisionTest\" as E1  <<(T,blue) action def>> [[psysml:068a4463-a96d-4165-a2bc-cadf70a9bc09 ]] {\r\n",
       "choice \"test x\" as E2  [[psysml:44ee9e06-5fd9-46bf-b0f8-00dd693073b7 ]] \r\n",
       "choice \"noname\" as E3  [[psysml:eeb68ac4-2ad3-4e0c-9c18-140c63d1edba ]] \r\n",
       "rec usage \"A1\" as E4  <<(T,blue) action>> [[psysml:86b53981-b1ee-4c30-93d6-edfc048c3f3e ]] {\r\n",
       "}\r\n",
       "\r\n",
       "rec usage \"A2\" as E5  <<(T,blue) action>> [[psysml:38b4e12b-2856-48b1-8683-970a7e146d76 ]] {\r\n",
       "}\r\n",
       "\r\n",
       "rec usage \"A3\" as E6  <<(T,blue) action>> [[psysml:3ceea1c4-b769-4e45-b22d-b9b14232dc11 ]] {\r\n",
       "}\r\n",
       "\r\n",
       "rec usage \"A3\" as E7  <<(T,blue) action>> [[psysml:3ceea1c4-b769-4e45-b22d-b9b14232dc11 ]] {\r\n",
       "}\r\n",
       "\r\n",
       "}\r\n",
       "\r\n",
       "E2 ..> E4 [[psysml:5839aeb0-dd7d-4257-be26-6d697b84d54b ]] : [x == 1]\r\n",
       "E2 ..> E5 [[psysml:6472265e-4329-42f9-a73f-b0fdd653d81d ]] : [x > 1]\r\n",
       "E2 ..> E7 [[psysml:3c10905a-0cf4-4572-9b68-27220c544656 ]] \r\n",
       "E2 ..> E3 [[psysml:4534ef33-8eda-405a-b2f5-6c95fd446375 ]] \r\n",
       "E3 ..> E4 [[psysml:4cb33783-cb85-4624-8a6d-789ab5e27309 ]] : [true]\r\n",
       "E3 ..> E5 [[psysml:7566f218-2e4c-4b1d-8134-f6de9f4cb12f ]] : [false]\r\n",
       "E4 ..> E5 [[psysml:2ec4d8de-ba31-4f08-a58c-ce574f556666 ]] : [x == 0]\r\n",
       "E7 ..> E2 [[psysml:2ecae6e1-cb24-4407-809b-df9594bdb8fa ]] : [x > 0]\r\n",
       "@enduml\r\n",
       "\n",
       "PlantUML version 1.2020.13(Sat Jun 13 12:26:38 UTC 2020)\n",
       "(EPL source distribution)\n",
       "Java Runtime: OpenJDK Runtime Environment\n",
       "JVM: OpenJDK 64-Bit Server VM\n",
       "Default Encoding: UTF-8\n",
       "Language: en\n",
       "Country: null\n",
       "--></g></svg>"
      ]
     },
     "execution_count": 41,
     "metadata": {},
     "output_type": "execute_result"
    }
   ],
   "source": [
    "%viz --style=\"DEFAULT\" --view=\"Action\" \"DecisionTest\""
   ]
  },
  {
   "cell_type": "code",
   "execution_count": 42,
   "id": "aa4343dc",
   "metadata": {
    "execution": {
     "iopub.execute_input": "2021-06-30T09:20:31.062880Z",
     "iopub.status.busy": "2021-06-30T09:20:31.062417Z",
     "iopub.status.idle": "2021-06-30T09:20:31.153156Z",
     "shell.execute_reply": "2021-06-30T09:20:31.150990Z"
    }
   },
   "outputs": [
    {
     "data": {
      "image/svg+xml": [
       "<?xml version=\"1.0\" encoding=\"UTF-8\" standalone=\"no\"?><svg xmlns=\"http://www.w3.org/2000/svg\" xmlns:xlink=\"http://www.w3.org/1999/xlink\" contentScriptType=\"application/ecmascript\" contentStyleType=\"text/css\" height=\"228px\" preserveAspectRatio=\"none\" style=\"width:525px;height:228px;\" version=\"1.1\" viewBox=\"0 0 525 228\" width=\"525px\" zoomAndPan=\"magnify\"><defs/><g><!--MD5=[43c9051892ef23e1a46a86907403d788]\n",
       "class E1--><a href=\"psysml:068a4463-a96d-4165-a2bc-cadf70a9bc09\" target=\"_top\" title=\"psysml:068a4463-a96d-4165-a2bc-cadf70a9bc09\" xlink:actuate=\"onRequest\" xlink:href=\"psysml:068a4463-a96d-4165-a2bc-cadf70a9bc09\" xlink:show=\"new\" xlink:title=\"psysml:068a4463-a96d-4165-a2bc-cadf70a9bc09\" xlink:type=\"simple\"><rect fill=\"#FFFFFF\" height=\"105.1563\" id=\"E1\" style=\"stroke: #383838; stroke-width: 1.5;\" width=\"86\" x=\"308.5\" y=\"7\"/><text fill=\"#000000\" font-family=\"sans-serif\" font-size=\"12\" font-style=\"italic\" lengthAdjust=\"spacingAndGlyphs\" textLength=\"77\" x=\"313\" y=\"23.1387\">«action def»</text><text fill=\"#000000\" font-family=\"sans-serif\" font-size=\"12\" lengthAdjust=\"spacingAndGlyphs\" textLength=\"80\" x=\"311.5\" y=\"37.1074\">DecisionTest</text><line style=\"stroke: #383838; stroke-width: 1.5;\" x1=\"309.5\" x2=\"393.5\" y1=\"44.9375\" y2=\"44.9375\"/><text fill=\"#000000\" font-family=\"sans-serif\" font-size=\"11\" lengthAdjust=\"spacingAndGlyphs\" textLength=\"26\" x=\"314.5\" y=\"75.9526\">x=1;</text><line style=\"stroke: #383838; stroke-width: 1.0;\" x1=\"309.5\" x2=\"324\" y1=\"59.3398\" y2=\"59.3398\"/><text fill=\"#000000\" font-family=\"sans-serif\" font-size=\"11\" lengthAdjust=\"spacingAndGlyphs\" textLength=\"55\" x=\"324\" y=\"62.6479\">attributes</text><line style=\"stroke: #383838; stroke-width: 1.0;\" x1=\"379\" x2=\"393.5\" y1=\"59.3398\" y2=\"59.3398\"/><text fill=\"#000000\" font-family=\"sans-serif\" font-size=\"11\" lengthAdjust=\"spacingAndGlyphs\" textLength=\"8\" x=\"314.5\" y=\"105.562\">S</text><line style=\"stroke: #383838; stroke-width: 1.0;\" x1=\"309.5\" x2=\"321\" y1=\"88.9492\" y2=\"88.9492\"/><text fill=\"#000000\" font-family=\"sans-serif\" font-size=\"11\" lengthAdjust=\"spacingAndGlyphs\" textLength=\"61\" x=\"321\" y=\"92.2573\">transitions</text><line style=\"stroke: #383838; stroke-width: 1.0;\" x1=\"382\" x2=\"393.5\" y1=\"88.9492\" y2=\"88.9492\"/></a><!--MD5=[b4997ac47864f28c2f74865a473b2911]\n",
       "class E2--><a href=\"psysml:44ee9e06-5fd9-46bf-b0f8-00dd693073b7\" target=\"_top\" title=\"psysml:44ee9e06-5fd9-46bf-b0f8-00dd693073b7\" xlink:actuate=\"onRequest\" xlink:href=\"psysml:44ee9e06-5fd9-46bf-b0f8-00dd693073b7\" xlink:show=\"new\" xlink:title=\"psysml:44ee9e06-5fd9-46bf-b0f8-00dd693073b7\" xlink:type=\"simple\"><rect fill=\"#FFFFFF\" height=\"45.9375\" id=\"E2\" rx=\"10\" ry=\"10\" style=\"stroke: #383838; stroke-width: 1.5;\" width=\"101\" x=\"7\" y=\"172\"/><text fill=\"#000000\" font-family=\"sans-serif\" font-size=\"12\" font-style=\"italic\" lengthAdjust=\"spacingAndGlyphs\" textLength=\"99\" x=\"8\" y=\"188.1387\">«decisionNode»</text><text fill=\"#000000\" font-family=\"sans-serif\" font-size=\"12\" lengthAdjust=\"spacingAndGlyphs\" textLength=\"35\" x=\"40\" y=\"202.1074\">test x</text><line style=\"stroke: #383838; stroke-width: 1.5;\" x1=\"8\" x2=\"107\" y1=\"209.9375\" y2=\"209.9375\"/></a><!--MD5=[09b614a08d8cba4a07c9adeb5e0fee81]\n",
       "class E3--><a href=\"psysml:eeb68ac4-2ad3-4e0c-9c18-140c63d1edba\" target=\"_top\" title=\"psysml:eeb68ac4-2ad3-4e0c-9c18-140c63d1edba\" xlink:actuate=\"onRequest\" xlink:href=\"psysml:eeb68ac4-2ad3-4e0c-9c18-140c63d1edba\" xlink:show=\"new\" xlink:title=\"psysml:eeb68ac4-2ad3-4e0c-9c18-140c63d1edba\" xlink:type=\"simple\"><rect fill=\"#FFFFFF\" height=\"45.9375\" id=\"E3\" rx=\"10\" ry=\"10\" style=\"stroke: #383838; stroke-width: 1.5;\" width=\"101\" x=\"143\" y=\"172\"/><text fill=\"#000000\" font-family=\"sans-serif\" font-size=\"12\" font-style=\"italic\" lengthAdjust=\"spacingAndGlyphs\" textLength=\"99\" x=\"144\" y=\"188.1387\">«decisionNode»</text><text fill=\"#000000\" font-family=\"sans-serif\" font-size=\"12\" lengthAdjust=\"spacingAndGlyphs\" text-decoration=\"line-through\" textLength=\"51\" x=\"168\" y=\"202.1074\">noname</text><line style=\"stroke: #383838; stroke-width: 1.5;\" x1=\"144\" x2=\"243\" y1=\"209.9375\" y2=\"209.9375\"/></a><!--MD5=[ebbe1d658d1005bcc118a6aa81145e00]\n",
       "class E4--><a href=\"psysml:86b53981-b1ee-4c30-93d6-edfc048c3f3e\" target=\"_top\" title=\"psysml:86b53981-b1ee-4c30-93d6-edfc048c3f3e\" xlink:actuate=\"onRequest\" xlink:href=\"psysml:86b53981-b1ee-4c30-93d6-edfc048c3f3e\" xlink:show=\"new\" xlink:title=\"psysml:86b53981-b1ee-4c30-93d6-edfc048c3f3e\" xlink:type=\"simple\"><rect fill=\"#FFFFFF\" height=\"45.9375\" id=\"E4\" rx=\"10\" ry=\"10\" style=\"stroke: #383838; stroke-width: 1.5;\" width=\"55\" x=\"279\" y=\"172\"/><text fill=\"#000000\" font-family=\"sans-serif\" font-size=\"12\" font-style=\"italic\" lengthAdjust=\"spacingAndGlyphs\" textLength=\"53\" x=\"280\" y=\"188.1387\">«action»</text><text fill=\"#000000\" font-family=\"sans-serif\" font-size=\"12\" lengthAdjust=\"spacingAndGlyphs\" textLength=\"16\" x=\"298.5\" y=\"202.1074\">A1</text><line style=\"stroke: #383838; stroke-width: 1.5;\" x1=\"280\" x2=\"333\" y1=\"209.9375\" y2=\"209.9375\"/></a><!--MD5=[270fce915f116d4de14055a7c1d9a0f3]\n",
       "class E5--><a href=\"psysml:38b4e12b-2856-48b1-8683-970a7e146d76\" target=\"_top\" title=\"psysml:38b4e12b-2856-48b1-8683-970a7e146d76\" xlink:actuate=\"onRequest\" xlink:href=\"psysml:38b4e12b-2856-48b1-8683-970a7e146d76\" xlink:show=\"new\" xlink:title=\"psysml:38b4e12b-2856-48b1-8683-970a7e146d76\" xlink:type=\"simple\"><rect fill=\"#FFFFFF\" height=\"45.9375\" id=\"E5\" rx=\"10\" ry=\"10\" style=\"stroke: #383838; stroke-width: 1.5;\" width=\"55\" x=\"369\" y=\"172\"/><text fill=\"#000000\" font-family=\"sans-serif\" font-size=\"12\" font-style=\"italic\" lengthAdjust=\"spacingAndGlyphs\" textLength=\"53\" x=\"370\" y=\"188.1387\">«action»</text><text fill=\"#000000\" font-family=\"sans-serif\" font-size=\"12\" lengthAdjust=\"spacingAndGlyphs\" textLength=\"16\" x=\"388.5\" y=\"202.1074\">A2</text><line style=\"stroke: #383838; stroke-width: 1.5;\" x1=\"370\" x2=\"423\" y1=\"209.9375\" y2=\"209.9375\"/></a><!--MD5=[60a26617385b1d2d0262a64233df1f8d]\n",
       "class E6--><a href=\"psysml:3ceea1c4-b769-4e45-b22d-b9b14232dc11\" target=\"_top\" title=\"psysml:3ceea1c4-b769-4e45-b22d-b9b14232dc11\" xlink:actuate=\"onRequest\" xlink:href=\"psysml:3ceea1c4-b769-4e45-b22d-b9b14232dc11\" xlink:show=\"new\" xlink:title=\"psysml:3ceea1c4-b769-4e45-b22d-b9b14232dc11\" xlink:type=\"simple\"><rect fill=\"#FFFFFF\" height=\"45.9375\" id=\"E6\" rx=\"10\" ry=\"10\" style=\"stroke: #383838; stroke-width: 1.5;\" width=\"55\" x=\"459\" y=\"172\"/><text fill=\"#000000\" font-family=\"sans-serif\" font-size=\"12\" font-style=\"italic\" lengthAdjust=\"spacingAndGlyphs\" textLength=\"53\" x=\"460\" y=\"188.1387\">«action»</text><text fill=\"#000000\" font-family=\"sans-serif\" font-size=\"12\" lengthAdjust=\"spacingAndGlyphs\" textLength=\"16\" x=\"478.5\" y=\"202.1074\">A3</text><line style=\"stroke: #383838; stroke-width: 1.5;\" x1=\"460\" x2=\"513\" y1=\"209.9375\" y2=\"209.9375\"/></a><!--MD5=[a523cb2a0b79ecf9065ad8783f96c320]\n",
       "reverse link E1 to E2--><a href=\"psysml:3f40863b-0a66-456a-a380-cfd414bf0804\" target=\"_top\" title=\"psysml:3f40863b-0a66-456a-a380-cfd414bf0804\" xlink:actuate=\"onRequest\" xlink:href=\"psysml:3f40863b-0a66-456a-a380-cfd414bf0804\" xlink:show=\"new\" xlink:title=\"psysml:3f40863b-0a66-456a-a380-cfd414bf0804\" xlink:type=\"simple\"><path d=\"M296.52,85.46 C241.75,110.33 158.47,148.15 106.07,171.95 \" fill=\"none\" id=\"E1&lt;-E2\" style=\"stroke: #383838; stroke-width: 1.0;\"/><polygon fill=\"#383838\" points=\"308.44,80.06,301.323,78.8988,297.5138,85.0217,304.6308,86.1829,308.44,80.06\" style=\"stroke: #383838; stroke-width: 1.0;\"/></a><!--MD5=[5d7b3810b1dd9b5164bea1151b29b665]\n",
       "reverse link E1 to E3--><a href=\"psysml:e2578a6b-d48b-4dd6-b58c-18f093f1f29f\" target=\"_top\" title=\"psysml:e2578a6b-d48b-4dd6-b58c-18f093f1f29f\" xlink:actuate=\"onRequest\" xlink:href=\"psysml:e2578a6b-d48b-4dd6-b58c-18f093f1f29f\" xlink:show=\"new\" xlink:title=\"psysml:e2578a6b-d48b-4dd6-b58c-18f093f1f29f\" xlink:type=\"simple\"><path d=\"M298.08,105.64 C271.7,127.93 241.06,153.82 219.79,171.79 \" fill=\"none\" id=\"E1&lt;-E3\" style=\"stroke: #383838; stroke-width: 1.0;\"/><polygon fill=\"#383838\" points=\"308.33,96.98,301.1646,97.7906,299.1569,104.7165,306.3223,103.906,308.33,96.98\" style=\"stroke: #383838; stroke-width: 1.0;\"/></a><!--MD5=[f2c5c03aa1e8c0ba21c10a05e6444b8e]\n",
       "reverse link E1 to E4--><a href=\"psysml:7583b8d6-81fb-44fd-88ce-ec05d2d7f8f3\" target=\"_top\" title=\"psysml:7583b8d6-81fb-44fd-88ce-ec05d2d7f8f3\" xlink:actuate=\"onRequest\" xlink:href=\"psysml:7583b8d6-81fb-44fd-88ce-ec05d2d7f8f3\" xlink:show=\"new\" xlink:title=\"psysml:7583b8d6-81fb-44fd-88ce-ec05d2d7f8f3\" xlink:type=\"simple\"><path d=\"M329.79,124.91 C324.1,141.78 318.35,158.85 313.98,171.8 \" fill=\"none\" id=\"E1&lt;-E4\" style=\"stroke: #383838; stroke-width: 1.0;\"/><polygon fill=\"#383838\" points=\"334.1,112.11,328.391,116.5154,330.2618,123.4796,335.9708,119.0742,334.1,112.11\" style=\"stroke: #383838; stroke-width: 1.0;\"/></a><!--MD5=[33238bef88d6431a141d8bc8fb12bca0]\n",
       "reverse link E1 to E5--><a href=\"psysml:1b62ef88-94e5-4ba0-8e17-6cec1f6133af\" target=\"_top\" title=\"psysml:1b62ef88-94e5-4ba0-8e17-6cec1f6133af\" xlink:actuate=\"onRequest\" xlink:href=\"psysml:1b62ef88-94e5-4ba0-8e17-6cec1f6133af\" xlink:show=\"new\" xlink:title=\"psysml:1b62ef88-94e5-4ba0-8e17-6cec1f6133af\" xlink:type=\"simple\"><path d=\"M373.21,124.91 C378.9,141.78 384.65,158.85 389.02,171.8 \" fill=\"none\" id=\"E1&lt;-E5\" style=\"stroke: #383838; stroke-width: 1.0;\"/><polygon fill=\"#383838\" points=\"368.9,112.11,367.0292,119.0742,372.7382,123.4796,374.609,116.5154,368.9,112.11\" style=\"stroke: #383838; stroke-width: 1.0;\"/></a><!--MD5=[aca2ef284c2b1b90e17e73bf3f292c07]\n",
       "reverse link E1 to E6--><a href=\"psysml:6d478a35-76b8-45be-be82-2204dec34e47\" target=\"_top\" title=\"psysml:6d478a35-76b8-45be-be82-2204dec34e47\" xlink:actuate=\"onRequest\" xlink:href=\"psysml:6d478a35-76b8-45be-be82-2204dec34e47\" xlink:show=\"new\" xlink:title=\"psysml:6d478a35-76b8-45be-be82-2204dec34e47\" xlink:type=\"simple\"><path d=\"M400.61,121.64 C420.11,141.2 441.74,161.41 458.63,175.48 \" fill=\"none\" id=\"E1&lt;-E6\" style=\"stroke: #383838; stroke-width: 1.0;\"/><polygon fill=\"#383838\" points=\"391.24,112.11,392.5992,119.1919,399.659,120.661,398.2999,113.5792,391.24,112.11\" style=\"stroke: #383838; stroke-width: 1.0;\"/></a><!--MD5=[aca2ef284c2b1b90e17e73bf3f292c07]\n",
       "reverse link E1 to E6--><a href=\"psysml:637c00ed-dc37-460b-98af-77d0acff244f\" target=\"_top\" title=\"psysml:637c00ed-dc37-460b-98af-77d0acff244f\" xlink:actuate=\"onRequest\" xlink:href=\"psysml:637c00ed-dc37-460b-98af-77d0acff244f\" xlink:show=\"new\" xlink:title=\"psysml:637c00ed-dc37-460b-98af-77d0acff244f\" xlink:type=\"simple\"><path d=\"M404.71,100.75 C430.05,124 458.02,152.36 474.29,171.66 \" fill=\"none\" id=\"E1&lt;-E6-1\" style=\"stroke: #383838; stroke-width: 1.0;\"/><polygon fill=\"#FFFFFF\" points=\"394.79,91.8,396.5648,98.7893,403.699,99.8392,401.9243,92.8499,394.79,91.8\" style=\"stroke: #383838; stroke-width: 1.0;\"/></a><!--MD5=[774916e699119fef7ca845c2d5d03dd9]\n",
       "@startuml\r\n",
       "skinparam monochrome true\r\n",
       "skinparam classbackgroundcolor white\r\n",
       "skinparam shadowing false\r\n",
       "skinparam wrapWidth 300\r\n",
       "hide circle\r\n",
       "\r\n",
       "comp def \"DecisionTest\" as E1  <<(T,blue) action def>> [[psysml:068a4463-a96d-4165-a2bc-cadf70a9bc09 ]] {\r\n",
       "- - attributes - -\r\n",
       "x=1; \r\n",
       "- - transitions - -\r\n",
       "S\r\n",
       "}\r\n",
       "comp usage \"test x\" as E2  <<(T,blue) decisionNode>> [[psysml:44ee9e06-5fd9-46bf-b0f8-00dd693073b7 ]] {\r\n",
       "}\r\n",
       "comp usage \"<s>noname</s>\" as E3  <<(T,blue) decisionNode>> [[psysml:eeb68ac4-2ad3-4e0c-9c18-140c63d1edba ]] {\r\n",
       "}\r\n",
       "comp usage \"A1\" as E4  <<(T,blue) action>> [[psysml:86b53981-b1ee-4c30-93d6-edfc048c3f3e ]] {\r\n",
       "}\r\n",
       "comp usage \"A2\" as E5  <<(T,blue) action>> [[psysml:38b4e12b-2856-48b1-8683-970a7e146d76 ]] {\r\n",
       "}\r\n",
       "comp usage \"A3\" as E6  <<(T,blue) action>> [[psysml:3ceea1c4-b769-4e45-b22d-b9b14232dc11 ]] {\r\n",
       "}\r\n",
       "E1 *- - E2 [[psysml:3f40863b-0a66-456a-a380-cfd414bf0804 ]] \r\n",
       "E1 *- - E3 [[psysml:e2578a6b-d48b-4dd6-b58c-18f093f1f29f ]] \r\n",
       "E1 *- - E4 [[psysml:7583b8d6-81fb-44fd-88ce-ec05d2d7f8f3 ]] \r\n",
       "E1 *- - E5 [[psysml:1b62ef88-94e5-4ba0-8e17-6cec1f6133af ]] \r\n",
       "E1 *- - E6 [[psysml:6d478a35-76b8-45be-be82-2204dec34e47 ]] \r\n",
       "E1 o- - E6 [[psysml:637c00ed-dc37-460b-98af-77d0acff244f ]] \r\n",
       "@enduml\r\n",
       "\n",
       "PlantUML version 1.2020.13(Sat Jun 13 12:26:38 UTC 2020)\n",
       "(EPL source distribution)\n",
       "Java Runtime: OpenJDK Runtime Environment\n",
       "JVM: OpenJDK 64-Bit Server VM\n",
       "Default Encoding: UTF-8\n",
       "Language: en\n",
       "Country: null\n",
       "--></g></svg>"
      ]
     },
     "execution_count": 42,
     "metadata": {},
     "output_type": "execute_result"
    }
   ],
   "source": [
    "%viz --style=\"DEFAULT\" --view=\"Sequence\" \"DecisionTest\""
   ]
  },
  {
   "cell_type": "code",
   "execution_count": 43,
   "id": "4297144f",
   "metadata": {
    "execution": {
     "iopub.execute_input": "2021-06-30T09:20:31.203241Z",
     "iopub.status.busy": "2021-06-30T09:20:31.202619Z",
     "iopub.status.idle": "2021-06-30T09:20:31.262935Z",
     "shell.execute_reply": "2021-06-30T09:20:31.260250Z"
    }
   },
   "outputs": [
    {
     "data": {
      "image/svg+xml": [
       "<?xml version=\"1.0\" encoding=\"UTF-8\" standalone=\"no\"?><svg xmlns=\"http://www.w3.org/2000/svg\" xmlns:xlink=\"http://www.w3.org/1999/xlink\" contentScriptType=\"application/ecmascript\" contentStyleType=\"text/css\" height=\"488px\" preserveAspectRatio=\"none\" style=\"width:333px;height:488px;\" version=\"1.1\" viewBox=\"0 0 333 488\" width=\"333px\" zoomAndPan=\"magnify\"><defs/><g><!--MD5=[fbc87193dbaf4d95561dea2c320d4a47]\n",
       "cluster E1--><a href=\"psysml:068a4463-a96d-4165-a2bc-cadf70a9bc09\" target=\"_top\" title=\"psysml:068a4463-a96d-4165-a2bc-cadf70a9bc09\" xlink:actuate=\"onRequest\" xlink:href=\"psysml:068a4463-a96d-4165-a2bc-cadf70a9bc09\" xlink:show=\"new\" xlink:title=\"psysml:068a4463-a96d-4165-a2bc-cadf70a9bc09\" xlink:type=\"simple\"><rect fill=\"#FFFFFF\" height=\"470\" id=\"E1\" style=\"stroke: #383838; stroke-width: 1.5;\" width=\"315\" x=\"7\" y=\"7\"/><rect fill=\"#F8F8F8\" height=\"37.9375\" style=\"stroke: #383838; stroke-width: 1.5;\" width=\"315\" x=\"7\" y=\"7\"/><text fill=\"#000000\" font-family=\"sans-serif\" font-size=\"12\" font-style=\"italic\" lengthAdjust=\"spacingAndGlyphs\" textLength=\"77\" x=\"126\" y=\"23.1387\">«action def»</text><text fill=\"#000000\" font-family=\"sans-serif\" font-size=\"12\" lengthAdjust=\"spacingAndGlyphs\" textLength=\"80\" x=\"124.5\" y=\"37.1074\">DecisionTest</text></a><polygon fill=\"#F8F8F8\" points=\"210,67.5,222,79.5,210,91.5,198,79.5,210,67.5\" style=\"stroke: #383838; stroke-width: 1.5;\"/><polygon fill=\"#F8F8F8\" points=\"35,187.5,47,199.5,35,211.5,23,199.5,35,187.5\" style=\"stroke: #383838; stroke-width: 1.5;\"/><g id=\"E1.E4\"><a href=\"psysml:86b53981-b1ee-4c30-93d6-edfc048c3f3e\" target=\"_top\" title=\"psysml:86b53981-b1ee-4c30-93d6-edfc048c3f3e\" xlink:actuate=\"onRequest\" xlink:href=\"psysml:86b53981-b1ee-4c30-93d6-edfc048c3f3e\" xlink:show=\"new\" xlink:title=\"psysml:86b53981-b1ee-4c30-93d6-edfc048c3f3e\" xlink:type=\"simple\"><rect fill=\"#FFFFFF\" height=\"42.9375\" id=\"E4\" rx=\"10\" ry=\"10\" style=\"stroke: #383838; stroke-width: 1.5;\" width=\"60\" x=\"135\" y=\"298\"/><rect fill=\"#F8F8F8\" height=\"37.9375\" rx=\"10\" ry=\"10\" style=\"stroke: #F8F8F8; stroke-width: 1.5;\" width=\"60\" x=\"135\" y=\"298\"/><rect fill=\"#F8F8F8\" height=\"10\" style=\"stroke: #F8F8F8; stroke-width: 1.5;\" width=\"60\" x=\"135\" y=\"325.9375\"/><rect fill=\"none\" height=\"42.9375\" id=\"E4\" rx=\"10\" ry=\"10\" style=\"stroke: #383838; stroke-width: 1.5;\" width=\"60\" x=\"135\" y=\"298\"/><text fill=\"#000000\" font-family=\"sans-serif\" font-size=\"12\" font-style=\"italic\" lengthAdjust=\"spacingAndGlyphs\" textLength=\"53\" x=\"138.5\" y=\"314.1387\">«action»</text><text fill=\"#000000\" font-family=\"sans-serif\" font-size=\"12\" lengthAdjust=\"spacingAndGlyphs\" textLength=\"16\" x=\"157\" y=\"328.1074\">A1</text></a></g><g id=\"E1.E5\"><a href=\"psysml:38b4e12b-2856-48b1-8683-970a7e146d76\" target=\"_top\" title=\"psysml:38b4e12b-2856-48b1-8683-970a7e146d76\" xlink:actuate=\"onRequest\" xlink:href=\"psysml:38b4e12b-2856-48b1-8683-970a7e146d76\" xlink:show=\"new\" xlink:title=\"psysml:38b4e12b-2856-48b1-8683-970a7e146d76\" xlink:type=\"simple\"><rect fill=\"#FFFFFF\" height=\"42.9375\" id=\"E5\" rx=\"10\" ry=\"10\" style=\"stroke: #383838; stroke-width: 1.5;\" width=\"60\" x=\"135\" y=\"418\"/><rect fill=\"#F8F8F8\" height=\"37.9375\" rx=\"10\" ry=\"10\" style=\"stroke: #F8F8F8; stroke-width: 1.5;\" width=\"60\" x=\"135\" y=\"418\"/><rect fill=\"#F8F8F8\" height=\"10\" style=\"stroke: #F8F8F8; stroke-width: 1.5;\" width=\"60\" x=\"135\" y=\"445.9375\"/><rect fill=\"none\" height=\"42.9375\" id=\"E5\" rx=\"10\" ry=\"10\" style=\"stroke: #383838; stroke-width: 1.5;\" width=\"60\" x=\"135\" y=\"418\"/><text fill=\"#000000\" font-family=\"sans-serif\" font-size=\"12\" font-style=\"italic\" lengthAdjust=\"spacingAndGlyphs\" textLength=\"53\" x=\"138.5\" y=\"434.1387\">«action»</text><text fill=\"#000000\" font-family=\"sans-serif\" font-size=\"12\" lengthAdjust=\"spacingAndGlyphs\" textLength=\"16\" x=\"157\" y=\"448.1074\">A2</text></a></g><g id=\"E1.E6\"><a href=\"psysml:3ceea1c4-b769-4e45-b22d-b9b14232dc11\" target=\"_top\" title=\"psysml:3ceea1c4-b769-4e45-b22d-b9b14232dc11\" xlink:actuate=\"onRequest\" xlink:href=\"psysml:3ceea1c4-b769-4e45-b22d-b9b14232dc11\" xlink:show=\"new\" xlink:title=\"psysml:3ceea1c4-b769-4e45-b22d-b9b14232dc11\" xlink:type=\"simple\"><rect fill=\"#FFFFFF\" height=\"42.9375\" id=\"E6\" rx=\"10\" ry=\"10\" style=\"stroke: #383838; stroke-width: 1.5;\" width=\"60\" x=\"63\" y=\"58\"/><rect fill=\"#F8F8F8\" height=\"37.9375\" rx=\"10\" ry=\"10\" style=\"stroke: #F8F8F8; stroke-width: 1.5;\" width=\"60\" x=\"63\" y=\"58\"/><rect fill=\"#F8F8F8\" height=\"10\" style=\"stroke: #F8F8F8; stroke-width: 1.5;\" width=\"60\" x=\"63\" y=\"85.9375\"/><rect fill=\"none\" height=\"42.9375\" id=\"E6\" rx=\"10\" ry=\"10\" style=\"stroke: #383838; stroke-width: 1.5;\" width=\"60\" x=\"63\" y=\"58\"/><text fill=\"#000000\" font-family=\"sans-serif\" font-size=\"12\" font-style=\"italic\" lengthAdjust=\"spacingAndGlyphs\" textLength=\"53\" x=\"66.5\" y=\"74.1387\">«action»</text><text fill=\"#000000\" font-family=\"sans-serif\" font-size=\"12\" lengthAdjust=\"spacingAndGlyphs\" textLength=\"16\" x=\"85\" y=\"88.1074\">A3</text></a></g><g id=\"E1.E7\"><a href=\"psysml:3ceea1c4-b769-4e45-b22d-b9b14232dc11\" target=\"_top\" title=\"psysml:3ceea1c4-b769-4e45-b22d-b9b14232dc11\" xlink:actuate=\"onRequest\" xlink:href=\"psysml:3ceea1c4-b769-4e45-b22d-b9b14232dc11\" xlink:show=\"new\" xlink:title=\"psysml:3ceea1c4-b769-4e45-b22d-b9b14232dc11\" xlink:type=\"simple\"><rect fill=\"#FFFFFF\" height=\"42.9375\" id=\"E7\" rx=\"10\" ry=\"10\" style=\"stroke: #383838; stroke-width: 1.5;\" width=\"60\" x=\"246\" y=\"178\"/><rect fill=\"#F8F8F8\" height=\"37.9375\" rx=\"10\" ry=\"10\" style=\"stroke: #F8F8F8; stroke-width: 1.5;\" width=\"60\" x=\"246\" y=\"178\"/><rect fill=\"#F8F8F8\" height=\"10\" style=\"stroke: #F8F8F8; stroke-width: 1.5;\" width=\"60\" x=\"246\" y=\"205.9375\"/><rect fill=\"none\" height=\"42.9375\" id=\"E7\" rx=\"10\" ry=\"10\" style=\"stroke: #383838; stroke-width: 1.5;\" width=\"60\" x=\"246\" y=\"178\"/><text fill=\"#000000\" font-family=\"sans-serif\" font-size=\"12\" font-style=\"italic\" lengthAdjust=\"spacingAndGlyphs\" textLength=\"53\" x=\"249.5\" y=\"194.1387\">«action»</text><text fill=\"#000000\" font-family=\"sans-serif\" font-size=\"12\" lengthAdjust=\"spacingAndGlyphs\" textLength=\"16\" x=\"268\" y=\"208.1074\">A3</text></a></g><!--MD5=[4d03bb2d0377dc85ccfab60ff574652b]\n",
       "link E2 to E4--><a href=\"psysml:5839aeb0-dd7d-4257-be26-6d697b84d54b\" target=\"_top\" title=\"psysml:5839aeb0-dd7d-4257-be26-6d697b84d54b\" xlink:actuate=\"onRequest\" xlink:href=\"psysml:5839aeb0-dd7d-4257-be26-6d697b84d54b\" xlink:show=\"new\" xlink:title=\"psysml:5839aeb0-dd7d-4257-be26-6d697b84d54b\" xlink:type=\"simple\"><path d=\"M204.45,86 C190.88,99.89 156.22,138.13 144,178 C132.04,217.01 144.31,264.27 154.48,292.83 \" fill=\"none\" id=\"E2-&gt;E4\" style=\"stroke: #383838; stroke-width: 1.0;\"/><polygon fill=\"#383838\" points=\"156.22,297.6,156.8939,287.7742,154.5067,292.9027,149.3782,290.5155,156.22,297.6\" style=\"stroke: #383838; stroke-width: 1.0;\"/><text fill=\"#000000\" font-family=\"sans-serif\" font-size=\"13\" lengthAdjust=\"spacingAndGlyphs\" textLength=\"55\" x=\"145\" y=\"204.0669\">[x == 1]</text></a><!--MD5=[dcad52bbbca2fe8adc741ce38b45dc12]\n",
       "link E2 to E5--><a href=\"psysml:6472265e-4329-42f9-a73f-b0fdd653d81d\" target=\"_top\" title=\"psysml:6472265e-4329-42f9-a73f-b0fdd653d81d\" xlink:actuate=\"onRequest\" xlink:href=\"psysml:6472265e-4329-42f9-a73f-b0fdd653d81d\" xlink:show=\"new\" xlink:title=\"psysml:6472265e-4329-42f9-a73f-b0fdd653d81d\" xlink:type=\"simple\"><path d=\"M210.67,90.83 C214.08,143.62 229.24,381.12 226,388 C220.27,400.19 209.98,410.45 199.48,418.47 \" fill=\"none\" id=\"E2-&gt;E5\" style=\"stroke: #383838; stroke-width: 1.0;\"/><polygon fill=\"#383838\" points=\"195.29,421.54,204.9073,419.4168,199.3138,418.5721,200.1586,412.9786,195.29,421.54\" style=\"stroke: #383838; stroke-width: 1.0;\"/><text fill=\"#000000\" font-family=\"sans-serif\" font-size=\"13\" lengthAdjust=\"spacingAndGlyphs\" textLength=\"44\" x=\"222\" y=\"264.0669\">[x &gt; 1]</text></a><!--MD5=[e3d2a08a9c9236652057e8ed0cbc9b62]\n",
       "link E2 to E7--><a href=\"psysml:3c10905a-0cf4-4572-9b68-27220c544656\" target=\"_top\" title=\"psysml:3c10905a-0cf4-4572-9b68-27220c544656\" xlink:actuate=\"onRequest\" xlink:href=\"psysml:3c10905a-0cf4-4572-9b68-27220c544656\" xlink:show=\"new\" xlink:title=\"psysml:3c10905a-0cf4-4572-9b68-27220c544656\" xlink:type=\"simple\"><path d=\"M210.1,91.71 C210.67,105.71 213.16,129.99 223,148 C228.29,157.68 236.08,166.6 244.08,174.17 \" fill=\"none\" id=\"E2-&gt;E7\" style=\"stroke: #383838; stroke-width: 1.0;\"/><polygon fill=\"#383838\" points=\"248.01,177.77,244.069,168.744,244.3207,174.3953,238.6694,174.6469,248.01,177.77\" style=\"stroke: #383838; stroke-width: 1.0;\"/></a><!--MD5=[583832df87f4419a098336a29a52fa00]\n",
       "link E7 to E2--><a href=\"psysml:2ecae6e1-cb24-4407-809b-df9594bdb8fa\" target=\"_top\" title=\"psysml:2ecae6e1-cb24-4407-809b-df9594bdb8fa\" xlink:actuate=\"onRequest\" xlink:href=\"psysml:2ecae6e1-cb24-4407-809b-df9594bdb8fa\" xlink:show=\"new\" xlink:title=\"psysml:2ecae6e1-cb24-4407-809b-df9594bdb8fa\" xlink:type=\"simple\"><path d=\"M264.3,177.59 C250.41,152.74 227.7,112.15 216.57,92.25 \" fill=\"none\" id=\"E7-&gt;E2\" style=\"stroke: #383838; stroke-width: 1.0;\"/><polygon fill=\"#383838\" points=\"214.13,87.88,215.0286,97.6878,216.5691,92.2447,222.0122,93.7852,214.13,87.88\" style=\"stroke: #383838; stroke-width: 1.0;\"/><text fill=\"#000000\" font-family=\"sans-serif\" font-size=\"13\" lengthAdjust=\"spacingAndGlyphs\" textLength=\"44\" x=\"247\" y=\"144.0669\">[x &gt; 0]</text></a><!--MD5=[2720a5a1f2c3fca2055b230370638851]\n",
       "link E2 to E3--><a href=\"psysml:4534ef33-8eda-405a-b2f5-6c95fd446375\" target=\"_top\" title=\"psysml:4534ef33-8eda-405a-b2f5-6c95fd446375\" xlink:actuate=\"onRequest\" xlink:href=\"psysml:4534ef33-8eda-405a-b2f5-6c95fd446375\" xlink:show=\"new\" xlink:title=\"psysml:4534ef33-8eda-405a-b2f5-6c95fd446375\" xlink:type=\"simple\"><path d=\"M201.9,83.58 C184.06,90.55 140.39,108.7 108,131 C82.49,148.57 56.88,174.67 43.84,188.71 \" fill=\"none\" id=\"E2-&gt;E3\" style=\"stroke: #383838; stroke-width: 1.0;\"/><polygon fill=\"#383838\" points=\"40.21,192.66,49.2443,188.738,43.5925,188.9778,43.3527,183.326,40.21,192.66\" style=\"stroke: #383838; stroke-width: 1.0;\"/></a><!--MD5=[af87c684e3b0d8be13c1a698a818ef1e]\n",
       "link E3 to E4--><a href=\"psysml:4cb33783-cb85-4624-8a6d-789ab5e27309\" target=\"_top\" title=\"psysml:4cb33783-cb85-4624-8a6d-789ab5e27309\" xlink:actuate=\"onRequest\" xlink:href=\"psysml:4cb33783-cb85-4624-8a6d-789ab5e27309\" xlink:show=\"new\" xlink:title=\"psysml:4cb33783-cb85-4624-8a6d-789ab5e27309\" xlink:type=\"simple\"><path d=\"M39.08,207.91 C46.63,221.15 63.87,249.24 84,268 C97.73,280.8 115.17,292.16 130.35,300.85 \" fill=\"none\" id=\"E3-&gt;E4\" style=\"stroke: #383838; stroke-width: 1.0;\"/><polygon fill=\"#383838\" points=\"134.98,303.46,129.0858,295.5696,130.6187,301.0148,125.1735,302.5477,134.98,303.46\" style=\"stroke: #383838; stroke-width: 1.0;\"/><text fill=\"#000000\" font-family=\"sans-serif\" font-size=\"13\" lengthAdjust=\"spacingAndGlyphs\" textLength=\"36\" x=\"85\" y=\"264.0669\">[true]</text></a><!--MD5=[0188b64bb0ae78505a997a81836e11e9]\n",
       "link E3 to E5--><a href=\"psysml:7566f218-2e4c-4b1d-8134-f6de9f4cb12f\" target=\"_top\" title=\"psysml:7566f218-2e4c-4b1d-8134-f6de9f4cb12f\" xlink:actuate=\"onRequest\" xlink:href=\"psysml:7566f218-2e4c-4b1d-8134-f6de9f4cb12f\" xlink:show=\"new\" xlink:title=\"psysml:7566f218-2e4c-4b1d-8134-f6de9f4cb12f\" xlink:type=\"simple\"><path d=\"M36.3,210.29 C39.76,234.03 50.73,296.03 76,341 C91.89,369.29 117.42,396.1 137.07,414.43 \" fill=\"none\" id=\"E3-&gt;E5\" style=\"stroke: #383838; stroke-width: 1.0;\"/><polygon fill=\"#383838\" points=\"140.92,417.98,137.0155,408.9382,137.2443,414.5904,131.5921,414.8192,140.92,417.98\" style=\"stroke: #383838; stroke-width: 1.0;\"/><text fill=\"#000000\" font-family=\"sans-serif\" font-size=\"13\" lengthAdjust=\"spacingAndGlyphs\" textLength=\"40\" x=\"77\" y=\"324.0669\">[false]</text></a><!--MD5=[1b7591eae5389033d8d09a9d6721a717]\n",
       "link E4 to E5--><a href=\"psysml:2ec4d8de-ba31-4f08-a58c-ce574f556666\" target=\"_top\" title=\"psysml:2ec4d8de-ba31-4f08-a58c-ce574f556666\" xlink:actuate=\"onRequest\" xlink:href=\"psysml:2ec4d8de-ba31-4f08-a58c-ce574f556666\" xlink:show=\"new\" xlink:title=\"psysml:2ec4d8de-ba31-4f08-a58c-ce574f556666\" xlink:type=\"simple\"><path d=\"M165,341.05 C165,360.9 165,391.02 165,412.52 \" fill=\"none\" id=\"E4-&gt;E5\" style=\"stroke: #383838; stroke-width: 1.0;\"/><polygon fill=\"#383838\" points=\"165,417.79,169,408.79,165,412.79,161,408.79,165,417.79\" style=\"stroke: #383838; stroke-width: 1.0;\"/><text fill=\"#000000\" font-family=\"sans-serif\" font-size=\"13\" lengthAdjust=\"spacingAndGlyphs\" textLength=\"55\" x=\"166\" y=\"384.0669\">[x == 0]</text></a><!--MD5=[0f0e65362063404270d986a401748f8d]\n",
       "@startuml\r\n",
       "skinparam monochrome true\r\n",
       "skinparam classbackgroundcolor white\r\n",
       "skinparam shadowing false\r\n",
       "skinparam wrapWidth 300\r\n",
       "hide circle\r\n",
       "\r\n",
       "rec def \"DecisionTest\" as E1  <<(T,blue) action def>> [[psysml:068a4463-a96d-4165-a2bc-cadf70a9bc09 ]] {\r\n",
       "choice \"test x\" as E2  [[psysml:44ee9e06-5fd9-46bf-b0f8-00dd693073b7 ]] \r\n",
       "choice \"noname\" as E3  [[psysml:eeb68ac4-2ad3-4e0c-9c18-140c63d1edba ]] \r\n",
       "rec usage \"A1\" as E4  <<(T,blue) action>> [[psysml:86b53981-b1ee-4c30-93d6-edfc048c3f3e ]] {\r\n",
       "}\r\n",
       "\r\n",
       "rec usage \"A2\" as E5  <<(T,blue) action>> [[psysml:38b4e12b-2856-48b1-8683-970a7e146d76 ]] {\r\n",
       "}\r\n",
       "\r\n",
       "rec usage \"A3\" as E6  <<(T,blue) action>> [[psysml:3ceea1c4-b769-4e45-b22d-b9b14232dc11 ]] {\r\n",
       "}\r\n",
       "\r\n",
       "rec usage \"A3\" as E7  <<(T,blue) action>> [[psysml:3ceea1c4-b769-4e45-b22d-b9b14232dc11 ]] {\r\n",
       "}\r\n",
       "\r\n",
       "}\r\n",
       "\r\n",
       "E2  - -> E4 [[psysml:5839aeb0-dd7d-4257-be26-6d697b84d54b ]] : [x == 1]\r\n",
       "E2  - -> E5 [[psysml:6472265e-4329-42f9-a73f-b0fdd653d81d ]] : [x > 1]\r\n",
       "E2  - -> E7 [[psysml:3c10905a-0cf4-4572-9b68-27220c544656 ]] \r\n",
       "E2 - -> E3 [[psysml:4534ef33-8eda-405a-b2f5-6c95fd446375 ]] \r\n",
       "E3  - -> E4 [[psysml:4cb33783-cb85-4624-8a6d-789ab5e27309 ]] : [true]\r\n",
       "E3  - -> E5 [[psysml:7566f218-2e4c-4b1d-8134-f6de9f4cb12f ]] : [false]\r\n",
       "E4  - -> E5 [[psysml:2ec4d8de-ba31-4f08-a58c-ce574f556666 ]] : [x == 0]\r\n",
       "E7  - -> E2 [[psysml:2ecae6e1-cb24-4407-809b-df9594bdb8fa ]] : [x > 0]\r\n",
       "@enduml\r\n",
       "\n",
       "PlantUML version 1.2020.13(Sat Jun 13 12:26:38 UTC 2020)\n",
       "(EPL source distribution)\n",
       "Java Runtime: OpenJDK Runtime Environment\n",
       "JVM: OpenJDK 64-Bit Server VM\n",
       "Default Encoding: UTF-8\n",
       "Language: en\n",
       "Country: null\n",
       "--></g></svg>"
      ]
     },
     "execution_count": 43,
     "metadata": {},
     "output_type": "execute_result"
    }
   ],
   "source": [
    "%viz --style=\"DEFAULT\" --view=\"MIXED\" \"DecisionTest\""
   ]
  },
  {
   "cell_type": "code",
   "execution_count": 44,
   "id": "232e5433",
   "metadata": {
    "execution": {
     "iopub.execute_input": "2021-06-30T09:20:31.307252Z",
     "iopub.status.busy": "2021-06-30T09:20:31.306553Z",
     "iopub.status.idle": "2021-06-30T09:20:31.350735Z",
     "shell.execute_reply": "2021-06-30T09:20:31.348988Z"
    }
   },
   "outputs": [
    {
     "data": {
      "image/svg+xml": [
       "<?xml version=\"1.0\" encoding=\"UTF-8\" standalone=\"no\"?><svg xmlns=\"http://www.w3.org/2000/svg\" xmlns:xlink=\"http://www.w3.org/1999/xlink\" contentScriptType=\"application/ecmascript\" contentStyleType=\"text/css\" height=\"488px\" preserveAspectRatio=\"none\" style=\"width:333px;height:488px;\" version=\"1.1\" viewBox=\"0 0 333 488\" width=\"333px\" zoomAndPan=\"magnify\"><defs/><g><!--MD5=[fbc87193dbaf4d95561dea2c320d4a47]\n",
       "cluster E1--><a href=\"psysml:068a4463-a96d-4165-a2bc-cadf70a9bc09\" target=\"_top\" title=\"psysml:068a4463-a96d-4165-a2bc-cadf70a9bc09\" xlink:actuate=\"onRequest\" xlink:href=\"psysml:068a4463-a96d-4165-a2bc-cadf70a9bc09\" xlink:show=\"new\" xlink:title=\"psysml:068a4463-a96d-4165-a2bc-cadf70a9bc09\" xlink:type=\"simple\"><rect fill=\"#FFFFFF\" height=\"470\" id=\"E1\" style=\"stroke: #383838; stroke-width: 1.5;\" width=\"315\" x=\"7\" y=\"7\"/><rect fill=\"#F8F8F8\" height=\"37.9375\" style=\"stroke: #383838; stroke-width: 1.5;\" width=\"315\" x=\"7\" y=\"7\"/><text fill=\"#000000\" font-family=\"sans-serif\" font-size=\"12\" font-style=\"italic\" lengthAdjust=\"spacingAndGlyphs\" textLength=\"77\" x=\"126\" y=\"23.1387\">«action def»</text><text fill=\"#000000\" font-family=\"sans-serif\" font-size=\"12\" lengthAdjust=\"spacingAndGlyphs\" textLength=\"80\" x=\"124.5\" y=\"37.1074\">DecisionTest</text></a><polygon fill=\"#F8F8F8\" points=\"210,67.5,222,79.5,210,91.5,198,79.5,210,67.5\" style=\"stroke: #383838; stroke-width: 1.5;\"/><polygon fill=\"#F8F8F8\" points=\"35,187.5,47,199.5,35,211.5,23,199.5,35,187.5\" style=\"stroke: #383838; stroke-width: 1.5;\"/><g id=\"E1.E4\"><a href=\"psysml:86b53981-b1ee-4c30-93d6-edfc048c3f3e\" target=\"_top\" title=\"psysml:86b53981-b1ee-4c30-93d6-edfc048c3f3e\" xlink:actuate=\"onRequest\" xlink:href=\"psysml:86b53981-b1ee-4c30-93d6-edfc048c3f3e\" xlink:show=\"new\" xlink:title=\"psysml:86b53981-b1ee-4c30-93d6-edfc048c3f3e\" xlink:type=\"simple\"><rect fill=\"#FFFFFF\" height=\"42.9375\" id=\"E4\" rx=\"10\" ry=\"10\" style=\"stroke: #383838; stroke-width: 1.5;\" width=\"60\" x=\"135\" y=\"298\"/><rect fill=\"#F8F8F8\" height=\"37.9375\" rx=\"10\" ry=\"10\" style=\"stroke: #F8F8F8; stroke-width: 1.5;\" width=\"60\" x=\"135\" y=\"298\"/><rect fill=\"#F8F8F8\" height=\"10\" style=\"stroke: #F8F8F8; stroke-width: 1.5;\" width=\"60\" x=\"135\" y=\"325.9375\"/><rect fill=\"none\" height=\"42.9375\" id=\"E4\" rx=\"10\" ry=\"10\" style=\"stroke: #383838; stroke-width: 1.5;\" width=\"60\" x=\"135\" y=\"298\"/><text fill=\"#000000\" font-family=\"sans-serif\" font-size=\"12\" font-style=\"italic\" lengthAdjust=\"spacingAndGlyphs\" textLength=\"53\" x=\"138.5\" y=\"314.1387\">«action»</text><text fill=\"#000000\" font-family=\"sans-serif\" font-size=\"12\" lengthAdjust=\"spacingAndGlyphs\" textLength=\"16\" x=\"157\" y=\"328.1074\">A1</text></a></g><g id=\"E1.E5\"><a href=\"psysml:38b4e12b-2856-48b1-8683-970a7e146d76\" target=\"_top\" title=\"psysml:38b4e12b-2856-48b1-8683-970a7e146d76\" xlink:actuate=\"onRequest\" xlink:href=\"psysml:38b4e12b-2856-48b1-8683-970a7e146d76\" xlink:show=\"new\" xlink:title=\"psysml:38b4e12b-2856-48b1-8683-970a7e146d76\" xlink:type=\"simple\"><rect fill=\"#FFFFFF\" height=\"42.9375\" id=\"E5\" rx=\"10\" ry=\"10\" style=\"stroke: #383838; stroke-width: 1.5;\" width=\"60\" x=\"135\" y=\"418\"/><rect fill=\"#F8F8F8\" height=\"37.9375\" rx=\"10\" ry=\"10\" style=\"stroke: #F8F8F8; stroke-width: 1.5;\" width=\"60\" x=\"135\" y=\"418\"/><rect fill=\"#F8F8F8\" height=\"10\" style=\"stroke: #F8F8F8; stroke-width: 1.5;\" width=\"60\" x=\"135\" y=\"445.9375\"/><rect fill=\"none\" height=\"42.9375\" id=\"E5\" rx=\"10\" ry=\"10\" style=\"stroke: #383838; stroke-width: 1.5;\" width=\"60\" x=\"135\" y=\"418\"/><text fill=\"#000000\" font-family=\"sans-serif\" font-size=\"12\" font-style=\"italic\" lengthAdjust=\"spacingAndGlyphs\" textLength=\"53\" x=\"138.5\" y=\"434.1387\">«action»</text><text fill=\"#000000\" font-family=\"sans-serif\" font-size=\"12\" lengthAdjust=\"spacingAndGlyphs\" textLength=\"16\" x=\"157\" y=\"448.1074\">A2</text></a></g><g id=\"E1.E6\"><a href=\"psysml:3ceea1c4-b769-4e45-b22d-b9b14232dc11\" target=\"_top\" title=\"psysml:3ceea1c4-b769-4e45-b22d-b9b14232dc11\" xlink:actuate=\"onRequest\" xlink:href=\"psysml:3ceea1c4-b769-4e45-b22d-b9b14232dc11\" xlink:show=\"new\" xlink:title=\"psysml:3ceea1c4-b769-4e45-b22d-b9b14232dc11\" xlink:type=\"simple\"><rect fill=\"#FFFFFF\" height=\"42.9375\" id=\"E6\" rx=\"10\" ry=\"10\" style=\"stroke: #383838; stroke-width: 1.5;\" width=\"60\" x=\"63\" y=\"58\"/><rect fill=\"#F8F8F8\" height=\"37.9375\" rx=\"10\" ry=\"10\" style=\"stroke: #F8F8F8; stroke-width: 1.5;\" width=\"60\" x=\"63\" y=\"58\"/><rect fill=\"#F8F8F8\" height=\"10\" style=\"stroke: #F8F8F8; stroke-width: 1.5;\" width=\"60\" x=\"63\" y=\"85.9375\"/><rect fill=\"none\" height=\"42.9375\" id=\"E6\" rx=\"10\" ry=\"10\" style=\"stroke: #383838; stroke-width: 1.5;\" width=\"60\" x=\"63\" y=\"58\"/><text fill=\"#000000\" font-family=\"sans-serif\" font-size=\"12\" font-style=\"italic\" lengthAdjust=\"spacingAndGlyphs\" textLength=\"53\" x=\"66.5\" y=\"74.1387\">«action»</text><text fill=\"#000000\" font-family=\"sans-serif\" font-size=\"12\" lengthAdjust=\"spacingAndGlyphs\" textLength=\"16\" x=\"85\" y=\"88.1074\">A3</text></a></g><g id=\"E1.E7\"><a href=\"psysml:3ceea1c4-b769-4e45-b22d-b9b14232dc11\" target=\"_top\" title=\"psysml:3ceea1c4-b769-4e45-b22d-b9b14232dc11\" xlink:actuate=\"onRequest\" xlink:href=\"psysml:3ceea1c4-b769-4e45-b22d-b9b14232dc11\" xlink:show=\"new\" xlink:title=\"psysml:3ceea1c4-b769-4e45-b22d-b9b14232dc11\" xlink:type=\"simple\"><rect fill=\"#FFFFFF\" height=\"42.9375\" id=\"E7\" rx=\"10\" ry=\"10\" style=\"stroke: #383838; stroke-width: 1.5;\" width=\"60\" x=\"246\" y=\"178\"/><rect fill=\"#F8F8F8\" height=\"37.9375\" rx=\"10\" ry=\"10\" style=\"stroke: #F8F8F8; stroke-width: 1.5;\" width=\"60\" x=\"246\" y=\"178\"/><rect fill=\"#F8F8F8\" height=\"10\" style=\"stroke: #F8F8F8; stroke-width: 1.5;\" width=\"60\" x=\"246\" y=\"205.9375\"/><rect fill=\"none\" height=\"42.9375\" id=\"E7\" rx=\"10\" ry=\"10\" style=\"stroke: #383838; stroke-width: 1.5;\" width=\"60\" x=\"246\" y=\"178\"/><text fill=\"#000000\" font-family=\"sans-serif\" font-size=\"12\" font-style=\"italic\" lengthAdjust=\"spacingAndGlyphs\" textLength=\"53\" x=\"249.5\" y=\"194.1387\">«action»</text><text fill=\"#000000\" font-family=\"sans-serif\" font-size=\"12\" lengthAdjust=\"spacingAndGlyphs\" textLength=\"16\" x=\"268\" y=\"208.1074\">A3</text></a></g><!--MD5=[4d03bb2d0377dc85ccfab60ff574652b]\n",
       "link E2 to E4--><a href=\"psysml:5839aeb0-dd7d-4257-be26-6d697b84d54b\" target=\"_top\" title=\"psysml:5839aeb0-dd7d-4257-be26-6d697b84d54b\" xlink:actuate=\"onRequest\" xlink:href=\"psysml:5839aeb0-dd7d-4257-be26-6d697b84d54b\" xlink:show=\"new\" xlink:title=\"psysml:5839aeb0-dd7d-4257-be26-6d697b84d54b\" xlink:type=\"simple\"><path d=\"M204.45,86 C190.88,99.89 156.22,138.13 144,178 C132.04,217.01 144.31,264.27 154.48,292.83 \" fill=\"none\" id=\"E2-&gt;E4\" style=\"stroke: #383838; stroke-width: 1.0;\"/><polygon fill=\"#383838\" points=\"156.22,297.6,156.8939,287.7742,154.5067,292.9027,149.3782,290.5155,156.22,297.6\" style=\"stroke: #383838; stroke-width: 1.0;\"/><text fill=\"#000000\" font-family=\"sans-serif\" font-size=\"13\" lengthAdjust=\"spacingAndGlyphs\" textLength=\"55\" x=\"145\" y=\"204.0669\">[x == 1]</text></a><!--MD5=[dcad52bbbca2fe8adc741ce38b45dc12]\n",
       "link E2 to E5--><a href=\"psysml:6472265e-4329-42f9-a73f-b0fdd653d81d\" target=\"_top\" title=\"psysml:6472265e-4329-42f9-a73f-b0fdd653d81d\" xlink:actuate=\"onRequest\" xlink:href=\"psysml:6472265e-4329-42f9-a73f-b0fdd653d81d\" xlink:show=\"new\" xlink:title=\"psysml:6472265e-4329-42f9-a73f-b0fdd653d81d\" xlink:type=\"simple\"><path d=\"M210.67,90.83 C214.08,143.62 229.24,381.12 226,388 C220.27,400.19 209.98,410.45 199.48,418.47 \" fill=\"none\" id=\"E2-&gt;E5\" style=\"stroke: #383838; stroke-width: 1.0;\"/><polygon fill=\"#383838\" points=\"195.29,421.54,204.9073,419.4168,199.3138,418.5721,200.1586,412.9786,195.29,421.54\" style=\"stroke: #383838; stroke-width: 1.0;\"/><text fill=\"#000000\" font-family=\"sans-serif\" font-size=\"13\" lengthAdjust=\"spacingAndGlyphs\" textLength=\"44\" x=\"222\" y=\"264.0669\">[x &gt; 1]</text></a><!--MD5=[e3d2a08a9c9236652057e8ed0cbc9b62]\n",
       "link E2 to E7--><a href=\"psysml:3c10905a-0cf4-4572-9b68-27220c544656\" target=\"_top\" title=\"psysml:3c10905a-0cf4-4572-9b68-27220c544656\" xlink:actuate=\"onRequest\" xlink:href=\"psysml:3c10905a-0cf4-4572-9b68-27220c544656\" xlink:show=\"new\" xlink:title=\"psysml:3c10905a-0cf4-4572-9b68-27220c544656\" xlink:type=\"simple\"><path d=\"M210.1,91.71 C210.67,105.71 213.16,129.99 223,148 C228.29,157.68 236.08,166.6 244.08,174.17 \" fill=\"none\" id=\"E2-&gt;E7\" style=\"stroke: #383838; stroke-width: 1.0;\"/><polygon fill=\"#383838\" points=\"248.01,177.77,244.069,168.744,244.3207,174.3953,238.6694,174.6469,248.01,177.77\" style=\"stroke: #383838; stroke-width: 1.0;\"/></a><!--MD5=[583832df87f4419a098336a29a52fa00]\n",
       "link E7 to E2--><a href=\"psysml:2ecae6e1-cb24-4407-809b-df9594bdb8fa\" target=\"_top\" title=\"psysml:2ecae6e1-cb24-4407-809b-df9594bdb8fa\" xlink:actuate=\"onRequest\" xlink:href=\"psysml:2ecae6e1-cb24-4407-809b-df9594bdb8fa\" xlink:show=\"new\" xlink:title=\"psysml:2ecae6e1-cb24-4407-809b-df9594bdb8fa\" xlink:type=\"simple\"><path d=\"M264.3,177.59 C250.41,152.74 227.7,112.15 216.57,92.25 \" fill=\"none\" id=\"E7-&gt;E2\" style=\"stroke: #383838; stroke-width: 1.0;\"/><polygon fill=\"#383838\" points=\"214.13,87.88,215.0286,97.6878,216.5691,92.2447,222.0122,93.7852,214.13,87.88\" style=\"stroke: #383838; stroke-width: 1.0;\"/><text fill=\"#000000\" font-family=\"sans-serif\" font-size=\"13\" lengthAdjust=\"spacingAndGlyphs\" textLength=\"44\" x=\"247\" y=\"144.0669\">[x &gt; 0]</text></a><!--MD5=[2720a5a1f2c3fca2055b230370638851]\n",
       "link E2 to E3--><a href=\"psysml:4534ef33-8eda-405a-b2f5-6c95fd446375\" target=\"_top\" title=\"psysml:4534ef33-8eda-405a-b2f5-6c95fd446375\" xlink:actuate=\"onRequest\" xlink:href=\"psysml:4534ef33-8eda-405a-b2f5-6c95fd446375\" xlink:show=\"new\" xlink:title=\"psysml:4534ef33-8eda-405a-b2f5-6c95fd446375\" xlink:type=\"simple\"><path d=\"M201.9,83.58 C184.06,90.55 140.39,108.7 108,131 C82.49,148.57 56.88,174.67 43.84,188.71 \" fill=\"none\" id=\"E2-&gt;E3\" style=\"stroke: #383838; stroke-width: 1.0;\"/><polygon fill=\"#383838\" points=\"40.21,192.66,49.2443,188.738,43.5925,188.9778,43.3527,183.326,40.21,192.66\" style=\"stroke: #383838; stroke-width: 1.0;\"/></a><!--MD5=[af87c684e3b0d8be13c1a698a818ef1e]\n",
       "link E3 to E4--><a href=\"psysml:4cb33783-cb85-4624-8a6d-789ab5e27309\" target=\"_top\" title=\"psysml:4cb33783-cb85-4624-8a6d-789ab5e27309\" xlink:actuate=\"onRequest\" xlink:href=\"psysml:4cb33783-cb85-4624-8a6d-789ab5e27309\" xlink:show=\"new\" xlink:title=\"psysml:4cb33783-cb85-4624-8a6d-789ab5e27309\" xlink:type=\"simple\"><path d=\"M39.08,207.91 C46.63,221.15 63.87,249.24 84,268 C97.73,280.8 115.17,292.16 130.35,300.85 \" fill=\"none\" id=\"E3-&gt;E4\" style=\"stroke: #383838; stroke-width: 1.0;\"/><polygon fill=\"#383838\" points=\"134.98,303.46,129.0858,295.5696,130.6187,301.0148,125.1735,302.5477,134.98,303.46\" style=\"stroke: #383838; stroke-width: 1.0;\"/><text fill=\"#000000\" font-family=\"sans-serif\" font-size=\"13\" lengthAdjust=\"spacingAndGlyphs\" textLength=\"36\" x=\"85\" y=\"264.0669\">[true]</text></a><!--MD5=[0188b64bb0ae78505a997a81836e11e9]\n",
       "link E3 to E5--><a href=\"psysml:7566f218-2e4c-4b1d-8134-f6de9f4cb12f\" target=\"_top\" title=\"psysml:7566f218-2e4c-4b1d-8134-f6de9f4cb12f\" xlink:actuate=\"onRequest\" xlink:href=\"psysml:7566f218-2e4c-4b1d-8134-f6de9f4cb12f\" xlink:show=\"new\" xlink:title=\"psysml:7566f218-2e4c-4b1d-8134-f6de9f4cb12f\" xlink:type=\"simple\"><path d=\"M36.3,210.29 C39.76,234.03 50.73,296.03 76,341 C91.89,369.29 117.42,396.1 137.07,414.43 \" fill=\"none\" id=\"E3-&gt;E5\" style=\"stroke: #383838; stroke-width: 1.0;\"/><polygon fill=\"#383838\" points=\"140.92,417.98,137.0155,408.9382,137.2443,414.5904,131.5921,414.8192,140.92,417.98\" style=\"stroke: #383838; stroke-width: 1.0;\"/><text fill=\"#000000\" font-family=\"sans-serif\" font-size=\"13\" lengthAdjust=\"spacingAndGlyphs\" textLength=\"40\" x=\"77\" y=\"324.0669\">[false]</text></a><!--MD5=[1b7591eae5389033d8d09a9d6721a717]\n",
       "link E4 to E5--><a href=\"psysml:2ec4d8de-ba31-4f08-a58c-ce574f556666\" target=\"_top\" title=\"psysml:2ec4d8de-ba31-4f08-a58c-ce574f556666\" xlink:actuate=\"onRequest\" xlink:href=\"psysml:2ec4d8de-ba31-4f08-a58c-ce574f556666\" xlink:show=\"new\" xlink:title=\"psysml:2ec4d8de-ba31-4f08-a58c-ce574f556666\" xlink:type=\"simple\"><path d=\"M165,341.05 C165,360.9 165,391.02 165,412.52 \" fill=\"none\" id=\"E4-&gt;E5\" style=\"stroke: #383838; stroke-width: 1.0;\"/><polygon fill=\"#383838\" points=\"165,417.79,169,408.79,165,412.79,161,408.79,165,417.79\" style=\"stroke: #383838; stroke-width: 1.0;\"/><text fill=\"#000000\" font-family=\"sans-serif\" font-size=\"13\" lengthAdjust=\"spacingAndGlyphs\" textLength=\"55\" x=\"166\" y=\"384.0669\">[x == 0]</text></a><!--MD5=[47e9e7f29c16787e41ad391239c00df4]\n",
       "@startuml\r\n",
       "top to bottom direction\r\n",
       "skinparam monochrome true\r\n",
       "skinparam classbackgroundcolor white\r\n",
       "skinparam shadowing false\r\n",
       "skinparam wrapWidth 300\r\n",
       "hide circle\r\n",
       "\r\n",
       "rec def \"DecisionTest\" as E1  <<(T,blue) action def>> [[psysml:068a4463-a96d-4165-a2bc-cadf70a9bc09 ]] {\r\n",
       "choice \"test x\" as E2  [[psysml:44ee9e06-5fd9-46bf-b0f8-00dd693073b7 ]] \r\n",
       "choice \"noname\" as E3  [[psysml:eeb68ac4-2ad3-4e0c-9c18-140c63d1edba ]] \r\n",
       "rec usage \"A1\" as E4  <<(T,blue) action>> [[psysml:86b53981-b1ee-4c30-93d6-edfc048c3f3e ]] {\r\n",
       "}\r\n",
       "\r\n",
       "rec usage \"A2\" as E5  <<(T,blue) action>> [[psysml:38b4e12b-2856-48b1-8683-970a7e146d76 ]] {\r\n",
       "}\r\n",
       "\r\n",
       "rec usage \"A3\" as E6  <<(T,blue) action>> [[psysml:3ceea1c4-b769-4e45-b22d-b9b14232dc11 ]] {\r\n",
       "}\r\n",
       "\r\n",
       "rec usage \"A3\" as E7  <<(T,blue) action>> [[psysml:3ceea1c4-b769-4e45-b22d-b9b14232dc11 ]] {\r\n",
       "}\r\n",
       "\r\n",
       "}\r\n",
       "\r\n",
       "E2  - -> E4 [[psysml:5839aeb0-dd7d-4257-be26-6d697b84d54b ]] : [x == 1]\r\n",
       "E2  - -> E5 [[psysml:6472265e-4329-42f9-a73f-b0fdd653d81d ]] : [x > 1]\r\n",
       "E2  - -> E7 [[psysml:3c10905a-0cf4-4572-9b68-27220c544656 ]] \r\n",
       "E2 - -> E3 [[psysml:4534ef33-8eda-405a-b2f5-6c95fd446375 ]] \r\n",
       "E3  - -> E4 [[psysml:4cb33783-cb85-4624-8a6d-789ab5e27309 ]] : [true]\r\n",
       "E3  - -> E5 [[psysml:7566f218-2e4c-4b1d-8134-f6de9f4cb12f ]] : [false]\r\n",
       "E4  - -> E5 [[psysml:2ec4d8de-ba31-4f08-a58c-ce574f556666 ]] : [x == 0]\r\n",
       "E7  - -> E2 [[psysml:2ecae6e1-cb24-4407-809b-df9594bdb8fa ]] : [x > 0]\r\n",
       "@enduml\r\n",
       "\n",
       "PlantUML version 1.2020.13(Sat Jun 13 12:26:38 UTC 2020)\n",
       "(EPL source distribution)\n",
       "Java Runtime: OpenJDK Runtime Environment\n",
       "JVM: OpenJDK 64-Bit Server VM\n",
       "Default Encoding: UTF-8\n",
       "Language: en\n",
       "Country: null\n",
       "--></g></svg>"
      ]
     },
     "execution_count": 44,
     "metadata": {},
     "output_type": "execute_result"
    }
   ],
   "source": [
    "%viz --style=\"TB\" --view=\"Default\" \"DecisionTest\""
   ]
  },
  {
   "cell_type": "code",
   "execution_count": 45,
   "id": "70b4d9c3",
   "metadata": {
    "execution": {
     "iopub.execute_input": "2021-06-30T09:20:31.402771Z",
     "iopub.status.busy": "2021-06-30T09:20:31.402127Z",
     "iopub.status.idle": "2021-06-30T09:20:31.461900Z",
     "shell.execute_reply": "2021-06-30T09:20:31.459893Z"
    }
   },
   "outputs": [
    {
     "data": {
      "image/svg+xml": [
       "<?xml version=\"1.0\" encoding=\"UTF-8\" standalone=\"no\"?><svg xmlns=\"http://www.w3.org/2000/svg\" xmlns:xlink=\"http://www.w3.org/1999/xlink\" contentScriptType=\"application/ecmascript\" contentStyleType=\"text/css\" height=\"228px\" preserveAspectRatio=\"none\" style=\"width:525px;height:228px;\" version=\"1.1\" viewBox=\"0 0 525 228\" width=\"525px\" zoomAndPan=\"magnify\"><defs/><g><!--MD5=[43c9051892ef23e1a46a86907403d788]\n",
       "class E1--><a href=\"psysml:068a4463-a96d-4165-a2bc-cadf70a9bc09\" target=\"_top\" title=\"psysml:068a4463-a96d-4165-a2bc-cadf70a9bc09\" xlink:actuate=\"onRequest\" xlink:href=\"psysml:068a4463-a96d-4165-a2bc-cadf70a9bc09\" xlink:show=\"new\" xlink:title=\"psysml:068a4463-a96d-4165-a2bc-cadf70a9bc09\" xlink:type=\"simple\"><rect fill=\"#FFFFFF\" height=\"105.1563\" id=\"E1\" style=\"stroke: #383838; stroke-width: 1.5;\" width=\"86\" x=\"308.5\" y=\"7\"/><text fill=\"#000000\" font-family=\"sans-serif\" font-size=\"12\" font-style=\"italic\" lengthAdjust=\"spacingAndGlyphs\" textLength=\"77\" x=\"313\" y=\"23.1387\">«action def»</text><text fill=\"#000000\" font-family=\"sans-serif\" font-size=\"12\" lengthAdjust=\"spacingAndGlyphs\" textLength=\"80\" x=\"311.5\" y=\"37.1074\">DecisionTest</text><line style=\"stroke: #383838; stroke-width: 1.5;\" x1=\"309.5\" x2=\"393.5\" y1=\"44.9375\" y2=\"44.9375\"/><text fill=\"#000000\" font-family=\"sans-serif\" font-size=\"11\" lengthAdjust=\"spacingAndGlyphs\" textLength=\"26\" x=\"314.5\" y=\"75.9526\">x=1;</text><line style=\"stroke: #383838; stroke-width: 1.0;\" x1=\"309.5\" x2=\"324\" y1=\"59.3398\" y2=\"59.3398\"/><text fill=\"#000000\" font-family=\"sans-serif\" font-size=\"11\" lengthAdjust=\"spacingAndGlyphs\" textLength=\"55\" x=\"324\" y=\"62.6479\">attributes</text><line style=\"stroke: #383838; stroke-width: 1.0;\" x1=\"379\" x2=\"393.5\" y1=\"59.3398\" y2=\"59.3398\"/><text fill=\"#000000\" font-family=\"sans-serif\" font-size=\"11\" lengthAdjust=\"spacingAndGlyphs\" textLength=\"8\" x=\"314.5\" y=\"105.562\">S</text><line style=\"stroke: #383838; stroke-width: 1.0;\" x1=\"309.5\" x2=\"321\" y1=\"88.9492\" y2=\"88.9492\"/><text fill=\"#000000\" font-family=\"sans-serif\" font-size=\"11\" lengthAdjust=\"spacingAndGlyphs\" textLength=\"61\" x=\"321\" y=\"92.2573\">transitions</text><line style=\"stroke: #383838; stroke-width: 1.0;\" x1=\"382\" x2=\"393.5\" y1=\"88.9492\" y2=\"88.9492\"/></a><!--MD5=[b4997ac47864f28c2f74865a473b2911]\n",
       "class E2--><a href=\"psysml:44ee9e06-5fd9-46bf-b0f8-00dd693073b7\" target=\"_top\" title=\"psysml:44ee9e06-5fd9-46bf-b0f8-00dd693073b7\" xlink:actuate=\"onRequest\" xlink:href=\"psysml:44ee9e06-5fd9-46bf-b0f8-00dd693073b7\" xlink:show=\"new\" xlink:title=\"psysml:44ee9e06-5fd9-46bf-b0f8-00dd693073b7\" xlink:type=\"simple\"><rect fill=\"#FFFFFF\" height=\"45.9375\" id=\"E2\" rx=\"10\" ry=\"10\" style=\"stroke: #383838; stroke-width: 1.5;\" width=\"101\" x=\"7\" y=\"172\"/><text fill=\"#000000\" font-family=\"sans-serif\" font-size=\"12\" font-style=\"italic\" lengthAdjust=\"spacingAndGlyphs\" textLength=\"99\" x=\"8\" y=\"188.1387\">«decisionNode»</text><text fill=\"#000000\" font-family=\"sans-serif\" font-size=\"12\" lengthAdjust=\"spacingAndGlyphs\" textLength=\"35\" x=\"40\" y=\"202.1074\">test x</text><line style=\"stroke: #383838; stroke-width: 1.5;\" x1=\"8\" x2=\"107\" y1=\"209.9375\" y2=\"209.9375\"/></a><!--MD5=[09b614a08d8cba4a07c9adeb5e0fee81]\n",
       "class E3--><a href=\"psysml:eeb68ac4-2ad3-4e0c-9c18-140c63d1edba\" target=\"_top\" title=\"psysml:eeb68ac4-2ad3-4e0c-9c18-140c63d1edba\" xlink:actuate=\"onRequest\" xlink:href=\"psysml:eeb68ac4-2ad3-4e0c-9c18-140c63d1edba\" xlink:show=\"new\" xlink:title=\"psysml:eeb68ac4-2ad3-4e0c-9c18-140c63d1edba\" xlink:type=\"simple\"><rect fill=\"#FFFFFF\" height=\"45.9375\" id=\"E3\" rx=\"10\" ry=\"10\" style=\"stroke: #383838; stroke-width: 1.5;\" width=\"101\" x=\"143\" y=\"172\"/><text fill=\"#000000\" font-family=\"sans-serif\" font-size=\"12\" font-style=\"italic\" lengthAdjust=\"spacingAndGlyphs\" textLength=\"99\" x=\"144\" y=\"188.1387\">«decisionNode»</text><text fill=\"#000000\" font-family=\"sans-serif\" font-size=\"12\" lengthAdjust=\"spacingAndGlyphs\" text-decoration=\"line-through\" textLength=\"51\" x=\"168\" y=\"202.1074\">noname</text><line style=\"stroke: #383838; stroke-width: 1.5;\" x1=\"144\" x2=\"243\" y1=\"209.9375\" y2=\"209.9375\"/></a><!--MD5=[ebbe1d658d1005bcc118a6aa81145e00]\n",
       "class E4--><a href=\"psysml:86b53981-b1ee-4c30-93d6-edfc048c3f3e\" target=\"_top\" title=\"psysml:86b53981-b1ee-4c30-93d6-edfc048c3f3e\" xlink:actuate=\"onRequest\" xlink:href=\"psysml:86b53981-b1ee-4c30-93d6-edfc048c3f3e\" xlink:show=\"new\" xlink:title=\"psysml:86b53981-b1ee-4c30-93d6-edfc048c3f3e\" xlink:type=\"simple\"><rect fill=\"#FFFFFF\" height=\"45.9375\" id=\"E4\" rx=\"10\" ry=\"10\" style=\"stroke: #383838; stroke-width: 1.5;\" width=\"55\" x=\"279\" y=\"172\"/><text fill=\"#000000\" font-family=\"sans-serif\" font-size=\"12\" font-style=\"italic\" lengthAdjust=\"spacingAndGlyphs\" textLength=\"53\" x=\"280\" y=\"188.1387\">«action»</text><text fill=\"#000000\" font-family=\"sans-serif\" font-size=\"12\" lengthAdjust=\"spacingAndGlyphs\" textLength=\"16\" x=\"298.5\" y=\"202.1074\">A1</text><line style=\"stroke: #383838; stroke-width: 1.5;\" x1=\"280\" x2=\"333\" y1=\"209.9375\" y2=\"209.9375\"/></a><!--MD5=[270fce915f116d4de14055a7c1d9a0f3]\n",
       "class E5--><a href=\"psysml:38b4e12b-2856-48b1-8683-970a7e146d76\" target=\"_top\" title=\"psysml:38b4e12b-2856-48b1-8683-970a7e146d76\" xlink:actuate=\"onRequest\" xlink:href=\"psysml:38b4e12b-2856-48b1-8683-970a7e146d76\" xlink:show=\"new\" xlink:title=\"psysml:38b4e12b-2856-48b1-8683-970a7e146d76\" xlink:type=\"simple\"><rect fill=\"#FFFFFF\" height=\"45.9375\" id=\"E5\" rx=\"10\" ry=\"10\" style=\"stroke: #383838; stroke-width: 1.5;\" width=\"55\" x=\"369\" y=\"172\"/><text fill=\"#000000\" font-family=\"sans-serif\" font-size=\"12\" font-style=\"italic\" lengthAdjust=\"spacingAndGlyphs\" textLength=\"53\" x=\"370\" y=\"188.1387\">«action»</text><text fill=\"#000000\" font-family=\"sans-serif\" font-size=\"12\" lengthAdjust=\"spacingAndGlyphs\" textLength=\"16\" x=\"388.5\" y=\"202.1074\">A2</text><line style=\"stroke: #383838; stroke-width: 1.5;\" x1=\"370\" x2=\"423\" y1=\"209.9375\" y2=\"209.9375\"/></a><!--MD5=[60a26617385b1d2d0262a64233df1f8d]\n",
       "class E6--><a href=\"psysml:3ceea1c4-b769-4e45-b22d-b9b14232dc11\" target=\"_top\" title=\"psysml:3ceea1c4-b769-4e45-b22d-b9b14232dc11\" xlink:actuate=\"onRequest\" xlink:href=\"psysml:3ceea1c4-b769-4e45-b22d-b9b14232dc11\" xlink:show=\"new\" xlink:title=\"psysml:3ceea1c4-b769-4e45-b22d-b9b14232dc11\" xlink:type=\"simple\"><rect fill=\"#FFFFFF\" height=\"45.9375\" id=\"E6\" rx=\"10\" ry=\"10\" style=\"stroke: #383838; stroke-width: 1.5;\" width=\"55\" x=\"459\" y=\"172\"/><text fill=\"#000000\" font-family=\"sans-serif\" font-size=\"12\" font-style=\"italic\" lengthAdjust=\"spacingAndGlyphs\" textLength=\"53\" x=\"460\" y=\"188.1387\">«action»</text><text fill=\"#000000\" font-family=\"sans-serif\" font-size=\"12\" lengthAdjust=\"spacingAndGlyphs\" textLength=\"16\" x=\"478.5\" y=\"202.1074\">A3</text><line style=\"stroke: #383838; stroke-width: 1.5;\" x1=\"460\" x2=\"513\" y1=\"209.9375\" y2=\"209.9375\"/></a><!--MD5=[a523cb2a0b79ecf9065ad8783f96c320]\n",
       "reverse link E1 to E2--><a href=\"psysml:3f40863b-0a66-456a-a380-cfd414bf0804\" target=\"_top\" title=\"psysml:3f40863b-0a66-456a-a380-cfd414bf0804\" xlink:actuate=\"onRequest\" xlink:href=\"psysml:3f40863b-0a66-456a-a380-cfd414bf0804\" xlink:show=\"new\" xlink:title=\"psysml:3f40863b-0a66-456a-a380-cfd414bf0804\" xlink:type=\"simple\"><path d=\"M296.52,85.46 C241.75,110.33 158.47,148.15 106.07,171.95 \" fill=\"none\" id=\"E1&lt;-E2\" style=\"stroke: #383838; stroke-width: 1.0;\"/><polygon fill=\"#383838\" points=\"308.44,80.06,301.323,78.8988,297.5138,85.0217,304.6308,86.1829,308.44,80.06\" style=\"stroke: #383838; stroke-width: 1.0;\"/></a><!--MD5=[5d7b3810b1dd9b5164bea1151b29b665]\n",
       "reverse link E1 to E3--><a href=\"psysml:e2578a6b-d48b-4dd6-b58c-18f093f1f29f\" target=\"_top\" title=\"psysml:e2578a6b-d48b-4dd6-b58c-18f093f1f29f\" xlink:actuate=\"onRequest\" xlink:href=\"psysml:e2578a6b-d48b-4dd6-b58c-18f093f1f29f\" xlink:show=\"new\" xlink:title=\"psysml:e2578a6b-d48b-4dd6-b58c-18f093f1f29f\" xlink:type=\"simple\"><path d=\"M298.08,105.64 C271.7,127.93 241.06,153.82 219.79,171.79 \" fill=\"none\" id=\"E1&lt;-E3\" style=\"stroke: #383838; stroke-width: 1.0;\"/><polygon fill=\"#383838\" points=\"308.33,96.98,301.1646,97.7906,299.1569,104.7165,306.3223,103.906,308.33,96.98\" style=\"stroke: #383838; stroke-width: 1.0;\"/></a><!--MD5=[f2c5c03aa1e8c0ba21c10a05e6444b8e]\n",
       "reverse link E1 to E4--><a href=\"psysml:7583b8d6-81fb-44fd-88ce-ec05d2d7f8f3\" target=\"_top\" title=\"psysml:7583b8d6-81fb-44fd-88ce-ec05d2d7f8f3\" xlink:actuate=\"onRequest\" xlink:href=\"psysml:7583b8d6-81fb-44fd-88ce-ec05d2d7f8f3\" xlink:show=\"new\" xlink:title=\"psysml:7583b8d6-81fb-44fd-88ce-ec05d2d7f8f3\" xlink:type=\"simple\"><path d=\"M329.79,124.91 C324.1,141.78 318.35,158.85 313.98,171.8 \" fill=\"none\" id=\"E1&lt;-E4\" style=\"stroke: #383838; stroke-width: 1.0;\"/><polygon fill=\"#383838\" points=\"334.1,112.11,328.391,116.5154,330.2618,123.4796,335.9708,119.0742,334.1,112.11\" style=\"stroke: #383838; stroke-width: 1.0;\"/></a><!--MD5=[33238bef88d6431a141d8bc8fb12bca0]\n",
       "reverse link E1 to E5--><a href=\"psysml:1b62ef88-94e5-4ba0-8e17-6cec1f6133af\" target=\"_top\" title=\"psysml:1b62ef88-94e5-4ba0-8e17-6cec1f6133af\" xlink:actuate=\"onRequest\" xlink:href=\"psysml:1b62ef88-94e5-4ba0-8e17-6cec1f6133af\" xlink:show=\"new\" xlink:title=\"psysml:1b62ef88-94e5-4ba0-8e17-6cec1f6133af\" xlink:type=\"simple\"><path d=\"M373.21,124.91 C378.9,141.78 384.65,158.85 389.02,171.8 \" fill=\"none\" id=\"E1&lt;-E5\" style=\"stroke: #383838; stroke-width: 1.0;\"/><polygon fill=\"#383838\" points=\"368.9,112.11,367.0292,119.0742,372.7382,123.4796,374.609,116.5154,368.9,112.11\" style=\"stroke: #383838; stroke-width: 1.0;\"/></a><!--MD5=[aca2ef284c2b1b90e17e73bf3f292c07]\n",
       "reverse link E1 to E6--><a href=\"psysml:6d478a35-76b8-45be-be82-2204dec34e47\" target=\"_top\" title=\"psysml:6d478a35-76b8-45be-be82-2204dec34e47\" xlink:actuate=\"onRequest\" xlink:href=\"psysml:6d478a35-76b8-45be-be82-2204dec34e47\" xlink:show=\"new\" xlink:title=\"psysml:6d478a35-76b8-45be-be82-2204dec34e47\" xlink:type=\"simple\"><path d=\"M400.61,121.64 C420.11,141.2 441.74,161.41 458.63,175.48 \" fill=\"none\" id=\"E1&lt;-E6\" style=\"stroke: #383838; stroke-width: 1.0;\"/><polygon fill=\"#383838\" points=\"391.24,112.11,392.5992,119.1919,399.659,120.661,398.2999,113.5792,391.24,112.11\" style=\"stroke: #383838; stroke-width: 1.0;\"/></a><!--MD5=[aca2ef284c2b1b90e17e73bf3f292c07]\n",
       "reverse link E1 to E6--><a href=\"psysml:637c00ed-dc37-460b-98af-77d0acff244f\" target=\"_top\" title=\"psysml:637c00ed-dc37-460b-98af-77d0acff244f\" xlink:actuate=\"onRequest\" xlink:href=\"psysml:637c00ed-dc37-460b-98af-77d0acff244f\" xlink:show=\"new\" xlink:title=\"psysml:637c00ed-dc37-460b-98af-77d0acff244f\" xlink:type=\"simple\"><path d=\"M404.71,100.75 C430.05,124 458.02,152.36 474.29,171.66 \" fill=\"none\" id=\"E1&lt;-E6-1\" style=\"stroke: #383838; stroke-width: 1.0;\"/><polygon fill=\"#FFFFFF\" points=\"394.79,91.8,396.5648,98.7893,403.699,99.8392,401.9243,92.8499,394.79,91.8\" style=\"stroke: #383838; stroke-width: 1.0;\"/></a><!--MD5=[01d03cb3f16e621661ece307d81f3fb6]\n",
       "@startuml\r\n",
       "top to bottom direction\r\n",
       "skinparam monochrome true\r\n",
       "skinparam classbackgroundcolor white\r\n",
       "skinparam shadowing false\r\n",
       "skinparam wrapWidth 300\r\n",
       "hide circle\r\n",
       "\r\n",
       "comp def \"DecisionTest\" as E1  <<(T,blue) action def>> [[psysml:068a4463-a96d-4165-a2bc-cadf70a9bc09 ]] {\r\n",
       "- - attributes - -\r\n",
       "x=1; \r\n",
       "- - transitions - -\r\n",
       "S\r\n",
       "}\r\n",
       "comp usage \"test x\" as E2  <<(T,blue) decisionNode>> [[psysml:44ee9e06-5fd9-46bf-b0f8-00dd693073b7 ]] {\r\n",
       "}\r\n",
       "comp usage \"<s>noname</s>\" as E3  <<(T,blue) decisionNode>> [[psysml:eeb68ac4-2ad3-4e0c-9c18-140c63d1edba ]] {\r\n",
       "}\r\n",
       "comp usage \"A1\" as E4  <<(T,blue) action>> [[psysml:86b53981-b1ee-4c30-93d6-edfc048c3f3e ]] {\r\n",
       "}\r\n",
       "comp usage \"A2\" as E5  <<(T,blue) action>> [[psysml:38b4e12b-2856-48b1-8683-970a7e146d76 ]] {\r\n",
       "}\r\n",
       "comp usage \"A3\" as E6  <<(T,blue) action>> [[psysml:3ceea1c4-b769-4e45-b22d-b9b14232dc11 ]] {\r\n",
       "}\r\n",
       "E1 *- - E2 [[psysml:3f40863b-0a66-456a-a380-cfd414bf0804 ]] \r\n",
       "E1 *- - E3 [[psysml:e2578a6b-d48b-4dd6-b58c-18f093f1f29f ]] \r\n",
       "E1 *- - E4 [[psysml:7583b8d6-81fb-44fd-88ce-ec05d2d7f8f3 ]] \r\n",
       "E1 *- - E5 [[psysml:1b62ef88-94e5-4ba0-8e17-6cec1f6133af ]] \r\n",
       "E1 *- - E6 [[psysml:6d478a35-76b8-45be-be82-2204dec34e47 ]] \r\n",
       "E1 o- - E6 [[psysml:637c00ed-dc37-460b-98af-77d0acff244f ]] \r\n",
       "@enduml\r\n",
       "\n",
       "PlantUML version 1.2020.13(Sat Jun 13 12:26:38 UTC 2020)\n",
       "(EPL source distribution)\n",
       "Java Runtime: OpenJDK Runtime Environment\n",
       "JVM: OpenJDK 64-Bit Server VM\n",
       "Default Encoding: UTF-8\n",
       "Language: en\n",
       "Country: null\n",
       "--></g></svg>"
      ]
     },
     "execution_count": 45,
     "metadata": {},
     "output_type": "execute_result"
    }
   ],
   "source": [
    "%viz --style=\"TB\" --view=\"Tree\" \"DecisionTest\""
   ]
  },
  {
   "cell_type": "code",
   "execution_count": 46,
   "id": "b2cbff78",
   "metadata": {
    "execution": {
     "iopub.execute_input": "2021-06-30T09:20:31.512239Z",
     "iopub.status.busy": "2021-06-30T09:20:31.511716Z",
     "iopub.status.idle": "2021-06-30T09:20:31.517396Z",
     "shell.execute_reply": "2021-06-30T09:20:31.517041Z"
    }
   },
   "outputs": [
    {
     "data": {
      "image/svg+xml": [
       "<?xml version=\"1.0\" encoding=\"UTF-8\" standalone=\"no\"?><svg xmlns=\"http://www.w3.org/2000/svg\" xmlns:xlink=\"http://www.w3.org/1999/xlink\" contentScriptType=\"application/ecmascript\" contentStyleType=\"text/css\" height=\"12px\" preserveAspectRatio=\"none\" style=\"width:12px;height:12px;\" version=\"1.1\" viewBox=\"0 0 12 12\" width=\"12px\" zoomAndPan=\"magnify\"><defs/><g><!--MD5=[f4ee21bc66e489b5061b7c3e9601fdef]\n",
       "@startuml\r\n",
       "top to bottom direction\r\n",
       "skinparam monochrome true\r\n",
       "skinparam classbackgroundcolor white\r\n",
       "skinparam shadowing false\r\n",
       "skinparam wrapWidth 300\r\n",
       "hide circle\r\n",
       "\r\n",
       "@enduml\r\n",
       "\n",
       "PlantUML version 1.2020.13(Sat Jun 13 12:26:38 UTC 2020)\n",
       "(EPL source distribution)\n",
       "Java Runtime: OpenJDK Runtime Environment\n",
       "JVM: OpenJDK 64-Bit Server VM\n",
       "Default Encoding: UTF-8\n",
       "Language: en\n",
       "Country: null\n",
       "--></g></svg>"
      ]
     },
     "execution_count": 46,
     "metadata": {},
     "output_type": "execute_result"
    }
   ],
   "source": [
    "%viz --style=\"TB\" --view=\"State\" \"DecisionTest\""
   ]
  },
  {
   "cell_type": "code",
   "execution_count": 47,
   "id": "6bce7b57",
   "metadata": {
    "execution": {
     "iopub.execute_input": "2021-06-30T09:20:31.568041Z",
     "iopub.status.busy": "2021-06-30T09:20:31.567561Z",
     "iopub.status.idle": "2021-06-30T09:20:31.608630Z",
     "shell.execute_reply": "2021-06-30T09:20:31.603950Z"
    }
   },
   "outputs": [
    {
     "data": {
      "image/svg+xml": [
       "<?xml version=\"1.0\" encoding=\"UTF-8\" standalone=\"no\"?><svg xmlns=\"http://www.w3.org/2000/svg\" xmlns:xlink=\"http://www.w3.org/1999/xlink\" contentScriptType=\"application/ecmascript\" contentStyleType=\"text/css\" height=\"356px\" preserveAspectRatio=\"none\" style=\"width:333px;height:356px;\" version=\"1.1\" viewBox=\"0 0 333 356\" width=\"333px\" zoomAndPan=\"magnify\"><defs/><g><!--MD5=[fbc87193dbaf4d95561dea2c320d4a47]\n",
       "cluster E1--><a href=\"psysml:068a4463-a96d-4165-a2bc-cadf70a9bc09\" target=\"_top\" title=\"psysml:068a4463-a96d-4165-a2bc-cadf70a9bc09\" xlink:actuate=\"onRequest\" xlink:href=\"psysml:068a4463-a96d-4165-a2bc-cadf70a9bc09\" xlink:show=\"new\" xlink:title=\"psysml:068a4463-a96d-4165-a2bc-cadf70a9bc09\" xlink:type=\"simple\"><rect fill=\"#FFFFFF\" height=\"338\" id=\"E1\" style=\"stroke: #383838; stroke-width: 1.5;\" width=\"315\" x=\"7\" y=\"7\"/><rect fill=\"#F8F8F8\" height=\"37.9375\" style=\"stroke: #383838; stroke-width: 1.5;\" width=\"315\" x=\"7\" y=\"7\"/><text fill=\"#000000\" font-family=\"sans-serif\" font-size=\"12\" font-style=\"italic\" lengthAdjust=\"spacingAndGlyphs\" textLength=\"77\" x=\"126\" y=\"23.1387\">«action def»</text><text fill=\"#000000\" font-family=\"sans-serif\" font-size=\"12\" lengthAdjust=\"spacingAndGlyphs\" textLength=\"80\" x=\"124.5\" y=\"37.1074\">DecisionTest</text></a><polygon fill=\"#F8F8F8\" points=\"210,67.5,222,79.5,210,91.5,198,79.5,210,67.5\" style=\"stroke: #383838; stroke-width: 1.5;\"/><polygon fill=\"#F8F8F8\" points=\"35,143.5,47,155.5,35,167.5,23,155.5,35,143.5\" style=\"stroke: #383838; stroke-width: 1.5;\"/><g id=\"E1.E4\"><a href=\"psysml:86b53981-b1ee-4c30-93d6-edfc048c3f3e\" target=\"_top\" title=\"psysml:86b53981-b1ee-4c30-93d6-edfc048c3f3e\" xlink:actuate=\"onRequest\" xlink:href=\"psysml:86b53981-b1ee-4c30-93d6-edfc048c3f3e\" xlink:show=\"new\" xlink:title=\"psysml:86b53981-b1ee-4c30-93d6-edfc048c3f3e\" xlink:type=\"simple\"><rect fill=\"#FFFFFF\" height=\"42.9375\" id=\"E4\" rx=\"10\" ry=\"10\" style=\"stroke: #383838; stroke-width: 1.5;\" width=\"60\" x=\"135\" y=\"210\"/><rect fill=\"#F8F8F8\" height=\"37.9375\" rx=\"10\" ry=\"10\" style=\"stroke: #F8F8F8; stroke-width: 1.5;\" width=\"60\" x=\"135\" y=\"210\"/><rect fill=\"#F8F8F8\" height=\"10\" style=\"stroke: #F8F8F8; stroke-width: 1.5;\" width=\"60\" x=\"135\" y=\"237.9375\"/><rect fill=\"none\" height=\"42.9375\" id=\"E4\" rx=\"10\" ry=\"10\" style=\"stroke: #383838; stroke-width: 1.5;\" width=\"60\" x=\"135\" y=\"210\"/><text fill=\"#000000\" font-family=\"sans-serif\" font-size=\"12\" font-style=\"italic\" lengthAdjust=\"spacingAndGlyphs\" textLength=\"53\" x=\"138.5\" y=\"226.1387\">«action»</text><text fill=\"#000000\" font-family=\"sans-serif\" font-size=\"12\" lengthAdjust=\"spacingAndGlyphs\" textLength=\"16\" x=\"157\" y=\"240.1074\">A1</text></a></g><g id=\"E1.E5\"><a href=\"psysml:38b4e12b-2856-48b1-8683-970a7e146d76\" target=\"_top\" title=\"psysml:38b4e12b-2856-48b1-8683-970a7e146d76\" xlink:actuate=\"onRequest\" xlink:href=\"psysml:38b4e12b-2856-48b1-8683-970a7e146d76\" xlink:show=\"new\" xlink:title=\"psysml:38b4e12b-2856-48b1-8683-970a7e146d76\" xlink:type=\"simple\"><rect fill=\"#FFFFFF\" height=\"42.9375\" id=\"E5\" rx=\"10\" ry=\"10\" style=\"stroke: #383838; stroke-width: 1.5;\" width=\"60\" x=\"135\" y=\"286\"/><rect fill=\"#F8F8F8\" height=\"37.9375\" rx=\"10\" ry=\"10\" style=\"stroke: #F8F8F8; stroke-width: 1.5;\" width=\"60\" x=\"135\" y=\"286\"/><rect fill=\"#F8F8F8\" height=\"10\" style=\"stroke: #F8F8F8; stroke-width: 1.5;\" width=\"60\" x=\"135\" y=\"313.9375\"/><rect fill=\"none\" height=\"42.9375\" id=\"E5\" rx=\"10\" ry=\"10\" style=\"stroke: #383838; stroke-width: 1.5;\" width=\"60\" x=\"135\" y=\"286\"/><text fill=\"#000000\" font-family=\"sans-serif\" font-size=\"12\" font-style=\"italic\" lengthAdjust=\"spacingAndGlyphs\" textLength=\"53\" x=\"138.5\" y=\"302.1387\">«action»</text><text fill=\"#000000\" font-family=\"sans-serif\" font-size=\"12\" lengthAdjust=\"spacingAndGlyphs\" textLength=\"16\" x=\"157\" y=\"316.1074\">A2</text></a></g><g id=\"E1.E6\"><a href=\"psysml:3ceea1c4-b769-4e45-b22d-b9b14232dc11\" target=\"_top\" title=\"psysml:3ceea1c4-b769-4e45-b22d-b9b14232dc11\" xlink:actuate=\"onRequest\" xlink:href=\"psysml:3ceea1c4-b769-4e45-b22d-b9b14232dc11\" xlink:show=\"new\" xlink:title=\"psysml:3ceea1c4-b769-4e45-b22d-b9b14232dc11\" xlink:type=\"simple\"><rect fill=\"#FFFFFF\" height=\"42.9375\" id=\"E6\" rx=\"10\" ry=\"10\" style=\"stroke: #383838; stroke-width: 1.5;\" width=\"60\" x=\"63\" y=\"58\"/><rect fill=\"#F8F8F8\" height=\"37.9375\" rx=\"10\" ry=\"10\" style=\"stroke: #F8F8F8; stroke-width: 1.5;\" width=\"60\" x=\"63\" y=\"58\"/><rect fill=\"#F8F8F8\" height=\"10\" style=\"stroke: #F8F8F8; stroke-width: 1.5;\" width=\"60\" x=\"63\" y=\"85.9375\"/><rect fill=\"none\" height=\"42.9375\" id=\"E6\" rx=\"10\" ry=\"10\" style=\"stroke: #383838; stroke-width: 1.5;\" width=\"60\" x=\"63\" y=\"58\"/><text fill=\"#000000\" font-family=\"sans-serif\" font-size=\"12\" font-style=\"italic\" lengthAdjust=\"spacingAndGlyphs\" textLength=\"53\" x=\"66.5\" y=\"74.1387\">«action»</text><text fill=\"#000000\" font-family=\"sans-serif\" font-size=\"12\" lengthAdjust=\"spacingAndGlyphs\" textLength=\"16\" x=\"85\" y=\"88.1074\">A3</text></a></g><g id=\"E1.E7\"><a href=\"psysml:3ceea1c4-b769-4e45-b22d-b9b14232dc11\" target=\"_top\" title=\"psysml:3ceea1c4-b769-4e45-b22d-b9b14232dc11\" xlink:actuate=\"onRequest\" xlink:href=\"psysml:3ceea1c4-b769-4e45-b22d-b9b14232dc11\" xlink:show=\"new\" xlink:title=\"psysml:3ceea1c4-b769-4e45-b22d-b9b14232dc11\" xlink:type=\"simple\"><rect fill=\"#FFFFFF\" height=\"42.9375\" id=\"E7\" rx=\"10\" ry=\"10\" style=\"stroke: #383838; stroke-width: 1.5;\" width=\"60\" x=\"246\" y=\"134\"/><rect fill=\"#F8F8F8\" height=\"37.9375\" rx=\"10\" ry=\"10\" style=\"stroke: #F8F8F8; stroke-width: 1.5;\" width=\"60\" x=\"246\" y=\"134\"/><rect fill=\"#F8F8F8\" height=\"10\" style=\"stroke: #F8F8F8; stroke-width: 1.5;\" width=\"60\" x=\"246\" y=\"161.9375\"/><rect fill=\"none\" height=\"42.9375\" id=\"E7\" rx=\"10\" ry=\"10\" style=\"stroke: #383838; stroke-width: 1.5;\" width=\"60\" x=\"246\" y=\"134\"/><text fill=\"#000000\" font-family=\"sans-serif\" font-size=\"12\" font-style=\"italic\" lengthAdjust=\"spacingAndGlyphs\" textLength=\"53\" x=\"249.5\" y=\"150.1387\">«action»</text><text fill=\"#000000\" font-family=\"sans-serif\" font-size=\"12\" lengthAdjust=\"spacingAndGlyphs\" textLength=\"16\" x=\"268\" y=\"164.1074\">A3</text></a></g><!--MD5=[4d03bb2d0377dc85ccfab60ff574652b]\n",
       "link E2 to E4--><a href=\"psysml:5839aeb0-dd7d-4257-be26-6d697b84d54b\" target=\"_top\" title=\"psysml:5839aeb0-dd7d-4257-be26-6d697b84d54b\" xlink:actuate=\"onRequest\" xlink:href=\"psysml:5839aeb0-dd7d-4257-be26-6d697b84d54b\" xlink:show=\"new\" xlink:title=\"psysml:5839aeb0-dd7d-4257-be26-6d697b84d54b\" xlink:type=\"simple\"><path d=\"M201.97,84.07 C187.22,91.12 156.19,108.44 144,134 C133.21,156.64 141.61,184.91 150.79,204.99 \" fill=\"none\" id=\"E2-&gt;E4\" style=\"stroke: #383838; stroke-width: 1.0;\"/><polygon fill=\"#383838\" points=\"153,209.65,152.7662,199.8039,150.8614,205.1304,145.5349,203.2257,153,209.65\" style=\"stroke: #383838; stroke-width: 1.0;\"/><text fill=\"#000000\" font-family=\"sans-serif\" font-size=\"13\" lengthAdjust=\"spacingAndGlyphs\" textLength=\"55\" x=\"145\" y=\"160.0669\">[x == 1]</text></a><!--MD5=[dcad52bbbca2fe8adc741ce38b45dc12]\n",
       "link E2 to E5--><a href=\"psysml:6472265e-4329-42f9-a73f-b0fdd653d81d\" target=\"_top\" title=\"psysml:6472265e-4329-42f9-a73f-b0fdd653d81d\" xlink:actuate=\"onRequest\" xlink:href=\"psysml:6472265e-4329-42f9-a73f-b0fdd653d81d\" xlink:show=\"new\" xlink:title=\"psysml:6472265e-4329-42f9-a73f-b0fdd653d81d\" xlink:type=\"simple\"><path d=\"M211.03,90.77 C214.33,123.83 224.51,227.37 226,261 C226.33,268.55 230.06,271.63 226,278 C220.01,287.41 210.02,293.76 199.83,298.03 \" fill=\"none\" id=\"E2-&gt;E5\" style=\"stroke: #383838; stroke-width: 1.0;\"/><polygon fill=\"#383838\" points=\"195.15,299.85,204.9881,300.3102,199.8089,298.035,202.0841,292.8559,195.15,299.85\" style=\"stroke: #383838; stroke-width: 1.0;\"/><text fill=\"#000000\" font-family=\"sans-serif\" font-size=\"13\" lengthAdjust=\"spacingAndGlyphs\" textLength=\"44\" x=\"222\" y=\"198.0669\">[x &gt; 1]</text></a><!--MD5=[e3d2a08a9c9236652057e8ed0cbc9b62]\n",
       "link E2 to E7--><a href=\"psysml:3c10905a-0cf4-4572-9b68-27220c544656\" target=\"_top\" title=\"psysml:3c10905a-0cf4-4572-9b68-27220c544656\" xlink:actuate=\"onRequest\" xlink:href=\"psysml:3c10905a-0cf4-4572-9b68-27220c544656\" xlink:show=\"new\" xlink:title=\"psysml:3c10905a-0cf4-4572-9b68-27220c544656\" xlink:type=\"simple\"><path d=\"M210.68,90.95 C211.82,100.93 214.86,115.89 223,126 C227.84,132.02 234.31,136.94 241.06,140.89 \" fill=\"none\" id=\"E2-&gt;E7\" style=\"stroke: #383838; stroke-width: 1.0;\"/><polygon fill=\"#383838\" points=\"245.76,143.47,239.7851,135.6406,241.3738,141.0697,235.9446,142.6585,245.76,143.47\" style=\"stroke: #383838; stroke-width: 1.0;\"/></a><!--MD5=[583832df87f4419a098336a29a52fa00]\n",
       "link E7 to E2--><a href=\"psysml:2ecae6e1-cb24-4407-809b-df9594bdb8fa\" target=\"_top\" title=\"psysml:2ecae6e1-cb24-4407-809b-df9594bdb8fa\" xlink:actuate=\"onRequest\" xlink:href=\"psysml:2ecae6e1-cb24-4407-809b-df9594bdb8fa\" xlink:show=\"new\" xlink:title=\"psysml:2ecae6e1-cb24-4407-809b-df9594bdb8fa\" xlink:type=\"simple\"><path d=\"M257.61,133.88 C245.02,119.76 228.86,101.65 218.98,90.57 \" fill=\"none\" id=\"E7-&gt;E2\" style=\"stroke: #383838; stroke-width: 1.0;\"/><polygon fill=\"#383838\" points=\"215.4,86.56,218.3919,95.9434,218.7227,90.2963,224.3699,90.6271,215.4,86.56\" style=\"stroke: #383838; stroke-width: 1.0;\"/><text fill=\"#000000\" font-family=\"sans-serif\" font-size=\"13\" lengthAdjust=\"spacingAndGlyphs\" textLength=\"44\" x=\"249\" y=\"122.0669\">[x &gt; 0]</text></a><!--MD5=[2720a5a1f2c3fca2055b230370638851]\n",
       "link E2 to E3--><a href=\"psysml:4534ef33-8eda-405a-b2f5-6c95fd446375\" target=\"_top\" title=\"psysml:4534ef33-8eda-405a-b2f5-6c95fd446375\" xlink:actuate=\"onRequest\" xlink:href=\"psysml:4534ef33-8eda-405a-b2f5-6c95fd446375\" xlink:show=\"new\" xlink:title=\"psysml:4534ef33-8eda-405a-b2f5-6c95fd446375\" xlink:type=\"simple\"><path d=\"M201.54,83.16 C188.57,87.22 162.96,95.08 141,101 C126.43,104.93 121.91,103.16 108,109 C84.25,118.97 59.36,136.17 45.65,146.32 \" fill=\"none\" id=\"E2-&gt;E3\" style=\"stroke: #383838; stroke-width: 1.0;\"/><polygon fill=\"#383838\" points=\"41.45,149.47,51.05,147.27,45.45,146.47,46.25,140.87,41.45,149.47\" style=\"stroke: #383838; stroke-width: 1.0;\"/></a><!--MD5=[af87c684e3b0d8be13c1a698a818ef1e]\n",
       "link E3 to E4--><a href=\"psysml:4cb33783-cb85-4624-8a6d-789ab5e27309\" target=\"_top\" title=\"psysml:4cb33783-cb85-4624-8a6d-789ab5e27309\" xlink:actuate=\"onRequest\" xlink:href=\"psysml:4cb33783-cb85-4624-8a6d-789ab5e27309\" xlink:show=\"new\" xlink:title=\"psysml:4cb33783-cb85-4624-8a6d-789ab5e27309\" xlink:type=\"simple\"><path d=\"M40.09,162.69 C48.35,172.37 65.62,191.11 84,202 C93.67,207.73 97.38,206.32 108,210 C115.1,212.46 122.69,215.15 129.93,217.74 \" fill=\"none\" id=\"E3-&gt;E4\" style=\"stroke: #383838; stroke-width: 1.0;\"/><polygon fill=\"#383838\" points=\"134.87,219.52,127.7488,212.7164,130.1636,217.832,125.048,220.2467,134.87,219.52\" style=\"stroke: #383838; stroke-width: 1.0;\"/><text fill=\"#000000\" font-family=\"sans-serif\" font-size=\"13\" lengthAdjust=\"spacingAndGlyphs\" textLength=\"36\" x=\"85\" y=\"198.0669\">[true]</text></a><!--MD5=[0188b64bb0ae78505a997a81836e11e9]\n",
       "link E3 to E5--><a href=\"psysml:7566f218-2e4c-4b1d-8134-f6de9f4cb12f\" target=\"_top\" title=\"psysml:7566f218-2e4c-4b1d-8134-f6de9f4cb12f\" xlink:actuate=\"onRequest\" xlink:href=\"psysml:7566f218-2e4c-4b1d-8134-f6de9f4cb12f\" xlink:show=\"new\" xlink:title=\"psysml:7566f218-2e4c-4b1d-8134-f6de9f4cb12f\" xlink:type=\"simple\"><path d=\"M36.91,165.76 C41.11,184.24 52.71,226.21 76,253 C90.72,269.93 112.16,283.05 130.31,292.05 \" fill=\"none\" id=\"E3-&gt;E5\" style=\"stroke: #383838; stroke-width: 1.0;\"/><polygon fill=\"#383838\" points=\"134.85,294.25,128.4921,286.7283,130.3496,292.0714,125.0064,293.9289,134.85,294.25\" style=\"stroke: #383838; stroke-width: 1.0;\"/><text fill=\"#000000\" font-family=\"sans-serif\" font-size=\"13\" lengthAdjust=\"spacingAndGlyphs\" textLength=\"40\" x=\"77\" y=\"236.0669\">[false]</text></a><!--MD5=[1b7591eae5389033d8d09a9d6721a717]\n",
       "link E4 to E5--><a href=\"psysml:2ec4d8de-ba31-4f08-a58c-ce574f556666\" target=\"_top\" title=\"psysml:2ec4d8de-ba31-4f08-a58c-ce574f556666\" xlink:actuate=\"onRequest\" xlink:href=\"psysml:2ec4d8de-ba31-4f08-a58c-ce574f556666\" xlink:show=\"new\" xlink:title=\"psysml:2ec4d8de-ba31-4f08-a58c-ce574f556666\" xlink:type=\"simple\"><path d=\"M165,253.11 C165,261.69 165,271.75 165,280.8 \" fill=\"none\" id=\"E4-&gt;E5\" style=\"stroke: #383838; stroke-width: 1.0;\"/><polygon fill=\"#383838\" points=\"165,286,169,277,165,281,161,277,165,286\" style=\"stroke: #383838; stroke-width: 1.0;\"/><text fill=\"#000000\" font-family=\"sans-serif\" font-size=\"13\" lengthAdjust=\"spacingAndGlyphs\" textLength=\"55\" x=\"166\" y=\"274.0669\">[x == 0]</text></a><!--MD5=[109a472c5a7868e84494e700b1d23b9f]\n",
       "@startuml\r\n",
       "skinparam ranksep 10\r\n",
       "skinparam rectangle {\r\n",
       " backgroundColor<<block>> LightGreen\r\n",
       "}\r\n",
       "top to bottom direction\r\n",
       "skinparam monochrome true\r\n",
       "skinparam classbackgroundcolor white\r\n",
       "skinparam shadowing false\r\n",
       "skinparam wrapWidth 300\r\n",
       "hide circle\r\n",
       "\r\n",
       "rec def \"DecisionTest\" as E1  <<(T,blue) action def>> [[psysml:068a4463-a96d-4165-a2bc-cadf70a9bc09 ]] {\r\n",
       "choice \"test x\" as E2  [[psysml:44ee9e06-5fd9-46bf-b0f8-00dd693073b7 ]] \r\n",
       "choice \"noname\" as E3  [[psysml:eeb68ac4-2ad3-4e0c-9c18-140c63d1edba ]] \r\n",
       "rec usage \"A1\" as E4  <<(T,blue) action>> [[psysml:86b53981-b1ee-4c30-93d6-edfc048c3f3e ]] {\r\n",
       "}\r\n",
       "\r\n",
       "rec usage \"A2\" as E5  <<(T,blue) action>> [[psysml:38b4e12b-2856-48b1-8683-970a7e146d76 ]] {\r\n",
       "}\r\n",
       "\r\n",
       "rec usage \"A3\" as E6  <<(T,blue) action>> [[psysml:3ceea1c4-b769-4e45-b22d-b9b14232dc11 ]] {\r\n",
       "}\r\n",
       "\r\n",
       "rec usage \"A3\" as E7  <<(T,blue) action>> [[psysml:3ceea1c4-b769-4e45-b22d-b9b14232dc11 ]] {\r\n",
       "}\r\n",
       "\r\n",
       "}\r\n",
       "\r\n",
       "E2  - -> E4 [[psysml:5839aeb0-dd7d-4257-be26-6d697b84d54b ]] : [x == 1]\r\n",
       "E2  - -> E5 [[psysml:6472265e-4329-42f9-a73f-b0fdd653d81d ]] : [x > 1]\r\n",
       "E2  - -> E7 [[psysml:3c10905a-0cf4-4572-9b68-27220c544656 ]] \r\n",
       "E2 - -> E3 [[psysml:4534ef33-8eda-405a-b2f5-6c95fd446375 ]] \r\n",
       "E3  - -> E4 [[psysml:4cb33783-cb85-4624-8a6d-789ab5e27309 ]] : [true]\r\n",
       "E3  - -> E5 [[psysml:7566f218-2e4c-4b1d-8134-f6de9f4cb12f ]] : [false]\r\n",
       "E4  - -> E5 [[psysml:2ec4d8de-ba31-4f08-a58c-ce574f556666 ]] : [x == 0]\r\n",
       "E7  - -> E2 [[psysml:2ecae6e1-cb24-4407-809b-df9594bdb8fa ]] : [x > 0]\r\n",
       "@enduml\r\n",
       "\n",
       "PlantUML version 1.2020.13(Sat Jun 13 12:26:38 UTC 2020)\n",
       "(EPL source distribution)\n",
       "Java Runtime: OpenJDK Runtime Environment\n",
       "JVM: OpenJDK 64-Bit Server VM\n",
       "Default Encoding: UTF-8\n",
       "Language: en\n",
       "Country: null\n",
       "--></g></svg>"
      ]
     },
     "execution_count": 47,
     "metadata": {},
     "output_type": "execute_result"
    }
   ],
   "source": [
    "%viz --style=\"TB\" --view=\"Interconnection\" \"DecisionTest\""
   ]
  },
  {
   "cell_type": "code",
   "execution_count": 48,
   "id": "2c95bce8",
   "metadata": {
    "execution": {
     "iopub.execute_input": "2021-06-30T09:20:31.658279Z",
     "iopub.status.busy": "2021-06-30T09:20:31.657120Z",
     "iopub.status.idle": "2021-06-30T09:20:31.699233Z",
     "shell.execute_reply": "2021-06-30T09:20:31.696911Z"
    }
   },
   "outputs": [
    {
     "data": {
      "image/svg+xml": [
       "<?xml version=\"1.0\" encoding=\"UTF-8\" standalone=\"no\"?><svg xmlns=\"http://www.w3.org/2000/svg\" xmlns:xlink=\"http://www.w3.org/1999/xlink\" contentScriptType=\"application/ecmascript\" contentStyleType=\"text/css\" height=\"356px\" preserveAspectRatio=\"none\" style=\"width:333px;height:356px;\" version=\"1.1\" viewBox=\"0 0 333 356\" width=\"333px\" zoomAndPan=\"magnify\"><defs/><g><!--MD5=[fbc87193dbaf4d95561dea2c320d4a47]\n",
       "cluster E1--><a href=\"psysml:068a4463-a96d-4165-a2bc-cadf70a9bc09\" target=\"_top\" title=\"psysml:068a4463-a96d-4165-a2bc-cadf70a9bc09\" xlink:actuate=\"onRequest\" xlink:href=\"psysml:068a4463-a96d-4165-a2bc-cadf70a9bc09\" xlink:show=\"new\" xlink:title=\"psysml:068a4463-a96d-4165-a2bc-cadf70a9bc09\" xlink:type=\"simple\"><rect fill=\"#FFFFFF\" height=\"338\" id=\"E1\" style=\"stroke: #383838; stroke-width: 1.5;\" width=\"315\" x=\"7\" y=\"7\"/><rect fill=\"#F8F8F8\" height=\"37.9375\" style=\"stroke: #383838; stroke-width: 1.5;\" width=\"315\" x=\"7\" y=\"7\"/><text fill=\"#000000\" font-family=\"sans-serif\" font-size=\"12\" font-style=\"italic\" lengthAdjust=\"spacingAndGlyphs\" textLength=\"77\" x=\"126\" y=\"23.1387\">«action def»</text><text fill=\"#000000\" font-family=\"sans-serif\" font-size=\"12\" lengthAdjust=\"spacingAndGlyphs\" textLength=\"80\" x=\"124.5\" y=\"37.1074\">DecisionTest</text></a><polygon fill=\"#F8F8F8\" points=\"210,67.5,222,79.5,210,91.5,198,79.5,210,67.5\" style=\"stroke: #383838; stroke-width: 1.5;\"/><polygon fill=\"#F8F8F8\" points=\"35,143.5,47,155.5,35,167.5,23,155.5,35,143.5\" style=\"stroke: #383838; stroke-width: 1.5;\"/><g id=\"E1.E4\"><a href=\"psysml:86b53981-b1ee-4c30-93d6-edfc048c3f3e\" target=\"_top\" title=\"psysml:86b53981-b1ee-4c30-93d6-edfc048c3f3e\" xlink:actuate=\"onRequest\" xlink:href=\"psysml:86b53981-b1ee-4c30-93d6-edfc048c3f3e\" xlink:show=\"new\" xlink:title=\"psysml:86b53981-b1ee-4c30-93d6-edfc048c3f3e\" xlink:type=\"simple\"><rect fill=\"#FFFFFF\" height=\"42.9375\" id=\"E4\" rx=\"10\" ry=\"10\" style=\"stroke: #383838; stroke-width: 1.5;\" width=\"60\" x=\"135\" y=\"210\"/><rect fill=\"#F8F8F8\" height=\"37.9375\" rx=\"10\" ry=\"10\" style=\"stroke: #F8F8F8; stroke-width: 1.5;\" width=\"60\" x=\"135\" y=\"210\"/><rect fill=\"#F8F8F8\" height=\"10\" style=\"stroke: #F8F8F8; stroke-width: 1.5;\" width=\"60\" x=\"135\" y=\"237.9375\"/><rect fill=\"none\" height=\"42.9375\" id=\"E4\" rx=\"10\" ry=\"10\" style=\"stroke: #383838; stroke-width: 1.5;\" width=\"60\" x=\"135\" y=\"210\"/><text fill=\"#000000\" font-family=\"sans-serif\" font-size=\"12\" font-style=\"italic\" lengthAdjust=\"spacingAndGlyphs\" textLength=\"53\" x=\"138.5\" y=\"226.1387\">«action»</text><text fill=\"#000000\" font-family=\"sans-serif\" font-size=\"12\" lengthAdjust=\"spacingAndGlyphs\" textLength=\"16\" x=\"157\" y=\"240.1074\">A1</text></a></g><g id=\"E1.E5\"><a href=\"psysml:38b4e12b-2856-48b1-8683-970a7e146d76\" target=\"_top\" title=\"psysml:38b4e12b-2856-48b1-8683-970a7e146d76\" xlink:actuate=\"onRequest\" xlink:href=\"psysml:38b4e12b-2856-48b1-8683-970a7e146d76\" xlink:show=\"new\" xlink:title=\"psysml:38b4e12b-2856-48b1-8683-970a7e146d76\" xlink:type=\"simple\"><rect fill=\"#FFFFFF\" height=\"42.9375\" id=\"E5\" rx=\"10\" ry=\"10\" style=\"stroke: #383838; stroke-width: 1.5;\" width=\"60\" x=\"135\" y=\"286\"/><rect fill=\"#F8F8F8\" height=\"37.9375\" rx=\"10\" ry=\"10\" style=\"stroke: #F8F8F8; stroke-width: 1.5;\" width=\"60\" x=\"135\" y=\"286\"/><rect fill=\"#F8F8F8\" height=\"10\" style=\"stroke: #F8F8F8; stroke-width: 1.5;\" width=\"60\" x=\"135\" y=\"313.9375\"/><rect fill=\"none\" height=\"42.9375\" id=\"E5\" rx=\"10\" ry=\"10\" style=\"stroke: #383838; stroke-width: 1.5;\" width=\"60\" x=\"135\" y=\"286\"/><text fill=\"#000000\" font-family=\"sans-serif\" font-size=\"12\" font-style=\"italic\" lengthAdjust=\"spacingAndGlyphs\" textLength=\"53\" x=\"138.5\" y=\"302.1387\">«action»</text><text fill=\"#000000\" font-family=\"sans-serif\" font-size=\"12\" lengthAdjust=\"spacingAndGlyphs\" textLength=\"16\" x=\"157\" y=\"316.1074\">A2</text></a></g><g id=\"E1.E6\"><a href=\"psysml:3ceea1c4-b769-4e45-b22d-b9b14232dc11\" target=\"_top\" title=\"psysml:3ceea1c4-b769-4e45-b22d-b9b14232dc11\" xlink:actuate=\"onRequest\" xlink:href=\"psysml:3ceea1c4-b769-4e45-b22d-b9b14232dc11\" xlink:show=\"new\" xlink:title=\"psysml:3ceea1c4-b769-4e45-b22d-b9b14232dc11\" xlink:type=\"simple\"><rect fill=\"#FFFFFF\" height=\"42.9375\" id=\"E6\" rx=\"10\" ry=\"10\" style=\"stroke: #383838; stroke-width: 1.5;\" width=\"60\" x=\"63\" y=\"58\"/><rect fill=\"#F8F8F8\" height=\"37.9375\" rx=\"10\" ry=\"10\" style=\"stroke: #F8F8F8; stroke-width: 1.5;\" width=\"60\" x=\"63\" y=\"58\"/><rect fill=\"#F8F8F8\" height=\"10\" style=\"stroke: #F8F8F8; stroke-width: 1.5;\" width=\"60\" x=\"63\" y=\"85.9375\"/><rect fill=\"none\" height=\"42.9375\" id=\"E6\" rx=\"10\" ry=\"10\" style=\"stroke: #383838; stroke-width: 1.5;\" width=\"60\" x=\"63\" y=\"58\"/><text fill=\"#000000\" font-family=\"sans-serif\" font-size=\"12\" font-style=\"italic\" lengthAdjust=\"spacingAndGlyphs\" textLength=\"53\" x=\"66.5\" y=\"74.1387\">«action»</text><text fill=\"#000000\" font-family=\"sans-serif\" font-size=\"12\" lengthAdjust=\"spacingAndGlyphs\" textLength=\"16\" x=\"85\" y=\"88.1074\">A3</text></a></g><g id=\"E1.E7\"><a href=\"psysml:3ceea1c4-b769-4e45-b22d-b9b14232dc11\" target=\"_top\" title=\"psysml:3ceea1c4-b769-4e45-b22d-b9b14232dc11\" xlink:actuate=\"onRequest\" xlink:href=\"psysml:3ceea1c4-b769-4e45-b22d-b9b14232dc11\" xlink:show=\"new\" xlink:title=\"psysml:3ceea1c4-b769-4e45-b22d-b9b14232dc11\" xlink:type=\"simple\"><rect fill=\"#FFFFFF\" height=\"42.9375\" id=\"E7\" rx=\"10\" ry=\"10\" style=\"stroke: #383838; stroke-width: 1.5;\" width=\"60\" x=\"246\" y=\"134\"/><rect fill=\"#F8F8F8\" height=\"37.9375\" rx=\"10\" ry=\"10\" style=\"stroke: #F8F8F8; stroke-width: 1.5;\" width=\"60\" x=\"246\" y=\"134\"/><rect fill=\"#F8F8F8\" height=\"10\" style=\"stroke: #F8F8F8; stroke-width: 1.5;\" width=\"60\" x=\"246\" y=\"161.9375\"/><rect fill=\"none\" height=\"42.9375\" id=\"E7\" rx=\"10\" ry=\"10\" style=\"stroke: #383838; stroke-width: 1.5;\" width=\"60\" x=\"246\" y=\"134\"/><text fill=\"#000000\" font-family=\"sans-serif\" font-size=\"12\" font-style=\"italic\" lengthAdjust=\"spacingAndGlyphs\" textLength=\"53\" x=\"249.5\" y=\"150.1387\">«action»</text><text fill=\"#000000\" font-family=\"sans-serif\" font-size=\"12\" lengthAdjust=\"spacingAndGlyphs\" textLength=\"16\" x=\"268\" y=\"164.1074\">A3</text></a></g><!--MD5=[4d03bb2d0377dc85ccfab60ff574652b]\n",
       "link E2 to E4--><a href=\"psysml:5839aeb0-dd7d-4257-be26-6d697b84d54b\" target=\"_top\" title=\"psysml:5839aeb0-dd7d-4257-be26-6d697b84d54b\" xlink:actuate=\"onRequest\" xlink:href=\"psysml:5839aeb0-dd7d-4257-be26-6d697b84d54b\" xlink:show=\"new\" xlink:title=\"psysml:5839aeb0-dd7d-4257-be26-6d697b84d54b\" xlink:type=\"simple\"><path d=\"M201.97,84.07 C187.22,91.12 156.19,108.44 144,134 C133.21,156.64 141.61,184.91 150.79,204.99 \" fill=\"none\" id=\"E2-&gt;E4\" style=\"stroke: #383838; stroke-width: 1.0; stroke-dasharray: 7.0,7.0;\"/><polygon fill=\"#383838\" points=\"153,209.65,152.7662,199.8039,150.8614,205.1304,145.5349,203.2257,153,209.65\" style=\"stroke: #383838; stroke-width: 1.0;\"/><text fill=\"#000000\" font-family=\"sans-serif\" font-size=\"13\" lengthAdjust=\"spacingAndGlyphs\" textLength=\"55\" x=\"145\" y=\"160.0669\">[x == 1]</text></a><!--MD5=[dcad52bbbca2fe8adc741ce38b45dc12]\n",
       "link E2 to E5--><a href=\"psysml:6472265e-4329-42f9-a73f-b0fdd653d81d\" target=\"_top\" title=\"psysml:6472265e-4329-42f9-a73f-b0fdd653d81d\" xlink:actuate=\"onRequest\" xlink:href=\"psysml:6472265e-4329-42f9-a73f-b0fdd653d81d\" xlink:show=\"new\" xlink:title=\"psysml:6472265e-4329-42f9-a73f-b0fdd653d81d\" xlink:type=\"simple\"><path d=\"M211.03,90.77 C214.33,123.83 224.51,227.37 226,261 C226.33,268.55 230.06,271.63 226,278 C220.01,287.41 210.02,293.76 199.83,298.03 \" fill=\"none\" id=\"E2-&gt;E5\" style=\"stroke: #383838; stroke-width: 1.0; stroke-dasharray: 7.0,7.0;\"/><polygon fill=\"#383838\" points=\"195.15,299.85,204.9881,300.3102,199.8089,298.035,202.0841,292.8559,195.15,299.85\" style=\"stroke: #383838; stroke-width: 1.0;\"/><text fill=\"#000000\" font-family=\"sans-serif\" font-size=\"13\" lengthAdjust=\"spacingAndGlyphs\" textLength=\"44\" x=\"222\" y=\"198.0669\">[x &gt; 1]</text></a><!--MD5=[e3d2a08a9c9236652057e8ed0cbc9b62]\n",
       "link E2 to E7--><a href=\"psysml:3c10905a-0cf4-4572-9b68-27220c544656\" target=\"_top\" title=\"psysml:3c10905a-0cf4-4572-9b68-27220c544656\" xlink:actuate=\"onRequest\" xlink:href=\"psysml:3c10905a-0cf4-4572-9b68-27220c544656\" xlink:show=\"new\" xlink:title=\"psysml:3c10905a-0cf4-4572-9b68-27220c544656\" xlink:type=\"simple\"><path d=\"M210.68,90.95 C211.82,100.93 214.86,115.89 223,126 C227.84,132.02 234.31,136.94 241.06,140.89 \" fill=\"none\" id=\"E2-&gt;E7\" style=\"stroke: #383838; stroke-width: 1.0; stroke-dasharray: 7.0,7.0;\"/><polygon fill=\"#383838\" points=\"245.76,143.47,239.7851,135.6406,241.3738,141.0697,235.9446,142.6585,245.76,143.47\" style=\"stroke: #383838; stroke-width: 1.0;\"/></a><!--MD5=[583832df87f4419a098336a29a52fa00]\n",
       "link E7 to E2--><a href=\"psysml:2ecae6e1-cb24-4407-809b-df9594bdb8fa\" target=\"_top\" title=\"psysml:2ecae6e1-cb24-4407-809b-df9594bdb8fa\" xlink:actuate=\"onRequest\" xlink:href=\"psysml:2ecae6e1-cb24-4407-809b-df9594bdb8fa\" xlink:show=\"new\" xlink:title=\"psysml:2ecae6e1-cb24-4407-809b-df9594bdb8fa\" xlink:type=\"simple\"><path d=\"M257.61,133.88 C245.02,119.76 228.86,101.65 218.98,90.57 \" fill=\"none\" id=\"E7-&gt;E2\" style=\"stroke: #383838; stroke-width: 1.0; stroke-dasharray: 7.0,7.0;\"/><polygon fill=\"#383838\" points=\"215.4,86.56,218.3919,95.9434,218.7227,90.2963,224.3699,90.6271,215.4,86.56\" style=\"stroke: #383838; stroke-width: 1.0;\"/><text fill=\"#000000\" font-family=\"sans-serif\" font-size=\"13\" lengthAdjust=\"spacingAndGlyphs\" textLength=\"44\" x=\"249\" y=\"122.0669\">[x &gt; 0]</text></a><!--MD5=[2720a5a1f2c3fca2055b230370638851]\n",
       "link E2 to E3--><a href=\"psysml:4534ef33-8eda-405a-b2f5-6c95fd446375\" target=\"_top\" title=\"psysml:4534ef33-8eda-405a-b2f5-6c95fd446375\" xlink:actuate=\"onRequest\" xlink:href=\"psysml:4534ef33-8eda-405a-b2f5-6c95fd446375\" xlink:show=\"new\" xlink:title=\"psysml:4534ef33-8eda-405a-b2f5-6c95fd446375\" xlink:type=\"simple\"><path d=\"M201.54,83.16 C188.57,87.22 162.96,95.08 141,101 C126.43,104.93 121.91,103.16 108,109 C84.25,118.97 59.36,136.17 45.65,146.32 \" fill=\"none\" id=\"E2-&gt;E3\" style=\"stroke: #383838; stroke-width: 1.0; stroke-dasharray: 7.0,7.0;\"/><polygon fill=\"#383838\" points=\"41.45,149.47,51.05,147.27,45.45,146.47,46.25,140.87,41.45,149.47\" style=\"stroke: #383838; stroke-width: 1.0;\"/></a><!--MD5=[af87c684e3b0d8be13c1a698a818ef1e]\n",
       "link E3 to E4--><a href=\"psysml:4cb33783-cb85-4624-8a6d-789ab5e27309\" target=\"_top\" title=\"psysml:4cb33783-cb85-4624-8a6d-789ab5e27309\" xlink:actuate=\"onRequest\" xlink:href=\"psysml:4cb33783-cb85-4624-8a6d-789ab5e27309\" xlink:show=\"new\" xlink:title=\"psysml:4cb33783-cb85-4624-8a6d-789ab5e27309\" xlink:type=\"simple\"><path d=\"M40.09,162.69 C48.35,172.37 65.62,191.11 84,202 C93.67,207.73 97.38,206.32 108,210 C115.1,212.46 122.69,215.15 129.93,217.74 \" fill=\"none\" id=\"E3-&gt;E4\" style=\"stroke: #383838; stroke-width: 1.0; stroke-dasharray: 7.0,7.0;\"/><polygon fill=\"#383838\" points=\"134.87,219.52,127.7488,212.7164,130.1636,217.832,125.048,220.2467,134.87,219.52\" style=\"stroke: #383838; stroke-width: 1.0;\"/><text fill=\"#000000\" font-family=\"sans-serif\" font-size=\"13\" lengthAdjust=\"spacingAndGlyphs\" textLength=\"36\" x=\"85\" y=\"198.0669\">[true]</text></a><!--MD5=[0188b64bb0ae78505a997a81836e11e9]\n",
       "link E3 to E5--><a href=\"psysml:7566f218-2e4c-4b1d-8134-f6de9f4cb12f\" target=\"_top\" title=\"psysml:7566f218-2e4c-4b1d-8134-f6de9f4cb12f\" xlink:actuate=\"onRequest\" xlink:href=\"psysml:7566f218-2e4c-4b1d-8134-f6de9f4cb12f\" xlink:show=\"new\" xlink:title=\"psysml:7566f218-2e4c-4b1d-8134-f6de9f4cb12f\" xlink:type=\"simple\"><path d=\"M36.91,165.76 C41.11,184.24 52.71,226.21 76,253 C90.72,269.93 112.16,283.05 130.31,292.05 \" fill=\"none\" id=\"E3-&gt;E5\" style=\"stroke: #383838; stroke-width: 1.0; stroke-dasharray: 7.0,7.0;\"/><polygon fill=\"#383838\" points=\"134.85,294.25,128.4921,286.7283,130.3496,292.0714,125.0064,293.9289,134.85,294.25\" style=\"stroke: #383838; stroke-width: 1.0;\"/><text fill=\"#000000\" font-family=\"sans-serif\" font-size=\"13\" lengthAdjust=\"spacingAndGlyphs\" textLength=\"40\" x=\"77\" y=\"236.0669\">[false]</text></a><!--MD5=[1b7591eae5389033d8d09a9d6721a717]\n",
       "link E4 to E5--><a href=\"psysml:2ec4d8de-ba31-4f08-a58c-ce574f556666\" target=\"_top\" title=\"psysml:2ec4d8de-ba31-4f08-a58c-ce574f556666\" xlink:actuate=\"onRequest\" xlink:href=\"psysml:2ec4d8de-ba31-4f08-a58c-ce574f556666\" xlink:show=\"new\" xlink:title=\"psysml:2ec4d8de-ba31-4f08-a58c-ce574f556666\" xlink:type=\"simple\"><path d=\"M165,253.11 C165,261.69 165,271.75 165,280.8 \" fill=\"none\" id=\"E4-&gt;E5\" style=\"stroke: #383838; stroke-width: 1.0; stroke-dasharray: 7.0,7.0;\"/><polygon fill=\"#383838\" points=\"165,286,169,277,165,281,161,277,165,286\" style=\"stroke: #383838; stroke-width: 1.0;\"/><text fill=\"#000000\" font-family=\"sans-serif\" font-size=\"13\" lengthAdjust=\"spacingAndGlyphs\" textLength=\"55\" x=\"166\" y=\"274.0669\">[x == 0]</text></a><!--MD5=[b8b3fe848c7174eb60b341507f9e946e]\n",
       "@startuml\r\n",
       "skinparam ranksep 8\r\n",
       "top to bottom direction\r\n",
       "skinparam monochrome true\r\n",
       "skinparam classbackgroundcolor white\r\n",
       "skinparam shadowing false\r\n",
       "skinparam wrapWidth 300\r\n",
       "hide circle\r\n",
       "\r\n",
       "rec def \"DecisionTest\" as E1  <<(T,blue) action def>> [[psysml:068a4463-a96d-4165-a2bc-cadf70a9bc09 ]] {\r\n",
       "choice \"test x\" as E2  [[psysml:44ee9e06-5fd9-46bf-b0f8-00dd693073b7 ]] \r\n",
       "choice \"noname\" as E3  [[psysml:eeb68ac4-2ad3-4e0c-9c18-140c63d1edba ]] \r\n",
       "rec usage \"A1\" as E4  <<(T,blue) action>> [[psysml:86b53981-b1ee-4c30-93d6-edfc048c3f3e ]] {\r\n",
       "}\r\n",
       "\r\n",
       "rec usage \"A2\" as E5  <<(T,blue) action>> [[psysml:38b4e12b-2856-48b1-8683-970a7e146d76 ]] {\r\n",
       "}\r\n",
       "\r\n",
       "rec usage \"A3\" as E6  <<(T,blue) action>> [[psysml:3ceea1c4-b769-4e45-b22d-b9b14232dc11 ]] {\r\n",
       "}\r\n",
       "\r\n",
       "rec usage \"A3\" as E7  <<(T,blue) action>> [[psysml:3ceea1c4-b769-4e45-b22d-b9b14232dc11 ]] {\r\n",
       "}\r\n",
       "\r\n",
       "}\r\n",
       "\r\n",
       "E2 ..> E4 [[psysml:5839aeb0-dd7d-4257-be26-6d697b84d54b ]] : [x == 1]\r\n",
       "E2 ..> E5 [[psysml:6472265e-4329-42f9-a73f-b0fdd653d81d ]] : [x > 1]\r\n",
       "E2 ..> E7 [[psysml:3c10905a-0cf4-4572-9b68-27220c544656 ]] \r\n",
       "E2 ..> E3 [[psysml:4534ef33-8eda-405a-b2f5-6c95fd446375 ]] \r\n",
       "E3 ..> E4 [[psysml:4cb33783-cb85-4624-8a6d-789ab5e27309 ]] : [true]\r\n",
       "E3 ..> E5 [[psysml:7566f218-2e4c-4b1d-8134-f6de9f4cb12f ]] : [false]\r\n",
       "E4 ..> E5 [[psysml:2ec4d8de-ba31-4f08-a58c-ce574f556666 ]] : [x == 0]\r\n",
       "E7 ..> E2 [[psysml:2ecae6e1-cb24-4407-809b-df9594bdb8fa ]] : [x > 0]\r\n",
       "@enduml\r\n",
       "\n",
       "PlantUML version 1.2020.13(Sat Jun 13 12:26:38 UTC 2020)\n",
       "(EPL source distribution)\n",
       "Java Runtime: OpenJDK Runtime Environment\n",
       "JVM: OpenJDK 64-Bit Server VM\n",
       "Default Encoding: UTF-8\n",
       "Language: en\n",
       "Country: null\n",
       "--></g></svg>"
      ]
     },
     "execution_count": 48,
     "metadata": {},
     "output_type": "execute_result"
    }
   ],
   "source": [
    "%viz --style=\"TB\" --view=\"Action\" \"DecisionTest\""
   ]
  },
  {
   "cell_type": "code",
   "execution_count": 49,
   "id": "e3119f7d",
   "metadata": {
    "execution": {
     "iopub.execute_input": "2021-06-30T09:20:31.748337Z",
     "iopub.status.busy": "2021-06-30T09:20:31.747772Z",
     "iopub.status.idle": "2021-06-30T09:20:31.813317Z",
     "shell.execute_reply": "2021-06-30T09:20:31.811624Z"
    }
   },
   "outputs": [
    {
     "data": {
      "image/svg+xml": [
       "<?xml version=\"1.0\" encoding=\"UTF-8\" standalone=\"no\"?><svg xmlns=\"http://www.w3.org/2000/svg\" xmlns:xlink=\"http://www.w3.org/1999/xlink\" contentScriptType=\"application/ecmascript\" contentStyleType=\"text/css\" height=\"228px\" preserveAspectRatio=\"none\" style=\"width:525px;height:228px;\" version=\"1.1\" viewBox=\"0 0 525 228\" width=\"525px\" zoomAndPan=\"magnify\"><defs/><g><!--MD5=[43c9051892ef23e1a46a86907403d788]\n",
       "class E1--><a href=\"psysml:068a4463-a96d-4165-a2bc-cadf70a9bc09\" target=\"_top\" title=\"psysml:068a4463-a96d-4165-a2bc-cadf70a9bc09\" xlink:actuate=\"onRequest\" xlink:href=\"psysml:068a4463-a96d-4165-a2bc-cadf70a9bc09\" xlink:show=\"new\" xlink:title=\"psysml:068a4463-a96d-4165-a2bc-cadf70a9bc09\" xlink:type=\"simple\"><rect fill=\"#FFFFFF\" height=\"105.1563\" id=\"E1\" style=\"stroke: #383838; stroke-width: 1.5;\" width=\"86\" x=\"308.5\" y=\"7\"/><text fill=\"#000000\" font-family=\"sans-serif\" font-size=\"12\" font-style=\"italic\" lengthAdjust=\"spacingAndGlyphs\" textLength=\"77\" x=\"313\" y=\"23.1387\">«action def»</text><text fill=\"#000000\" font-family=\"sans-serif\" font-size=\"12\" lengthAdjust=\"spacingAndGlyphs\" textLength=\"80\" x=\"311.5\" y=\"37.1074\">DecisionTest</text><line style=\"stroke: #383838; stroke-width: 1.5;\" x1=\"309.5\" x2=\"393.5\" y1=\"44.9375\" y2=\"44.9375\"/><text fill=\"#000000\" font-family=\"sans-serif\" font-size=\"11\" lengthAdjust=\"spacingAndGlyphs\" textLength=\"26\" x=\"314.5\" y=\"75.9526\">x=1;</text><line style=\"stroke: #383838; stroke-width: 1.0;\" x1=\"309.5\" x2=\"324\" y1=\"59.3398\" y2=\"59.3398\"/><text fill=\"#000000\" font-family=\"sans-serif\" font-size=\"11\" lengthAdjust=\"spacingAndGlyphs\" textLength=\"55\" x=\"324\" y=\"62.6479\">attributes</text><line style=\"stroke: #383838; stroke-width: 1.0;\" x1=\"379\" x2=\"393.5\" y1=\"59.3398\" y2=\"59.3398\"/><text fill=\"#000000\" font-family=\"sans-serif\" font-size=\"11\" lengthAdjust=\"spacingAndGlyphs\" textLength=\"8\" x=\"314.5\" y=\"105.562\">S</text><line style=\"stroke: #383838; stroke-width: 1.0;\" x1=\"309.5\" x2=\"321\" y1=\"88.9492\" y2=\"88.9492\"/><text fill=\"#000000\" font-family=\"sans-serif\" font-size=\"11\" lengthAdjust=\"spacingAndGlyphs\" textLength=\"61\" x=\"321\" y=\"92.2573\">transitions</text><line style=\"stroke: #383838; stroke-width: 1.0;\" x1=\"382\" x2=\"393.5\" y1=\"88.9492\" y2=\"88.9492\"/></a><!--MD5=[b4997ac47864f28c2f74865a473b2911]\n",
       "class E2--><a href=\"psysml:44ee9e06-5fd9-46bf-b0f8-00dd693073b7\" target=\"_top\" title=\"psysml:44ee9e06-5fd9-46bf-b0f8-00dd693073b7\" xlink:actuate=\"onRequest\" xlink:href=\"psysml:44ee9e06-5fd9-46bf-b0f8-00dd693073b7\" xlink:show=\"new\" xlink:title=\"psysml:44ee9e06-5fd9-46bf-b0f8-00dd693073b7\" xlink:type=\"simple\"><rect fill=\"#FFFFFF\" height=\"45.9375\" id=\"E2\" rx=\"10\" ry=\"10\" style=\"stroke: #383838; stroke-width: 1.5;\" width=\"101\" x=\"7\" y=\"172\"/><text fill=\"#000000\" font-family=\"sans-serif\" font-size=\"12\" font-style=\"italic\" lengthAdjust=\"spacingAndGlyphs\" textLength=\"99\" x=\"8\" y=\"188.1387\">«decisionNode»</text><text fill=\"#000000\" font-family=\"sans-serif\" font-size=\"12\" lengthAdjust=\"spacingAndGlyphs\" textLength=\"35\" x=\"40\" y=\"202.1074\">test x</text><line style=\"stroke: #383838; stroke-width: 1.5;\" x1=\"8\" x2=\"107\" y1=\"209.9375\" y2=\"209.9375\"/></a><!--MD5=[09b614a08d8cba4a07c9adeb5e0fee81]\n",
       "class E3--><a href=\"psysml:eeb68ac4-2ad3-4e0c-9c18-140c63d1edba\" target=\"_top\" title=\"psysml:eeb68ac4-2ad3-4e0c-9c18-140c63d1edba\" xlink:actuate=\"onRequest\" xlink:href=\"psysml:eeb68ac4-2ad3-4e0c-9c18-140c63d1edba\" xlink:show=\"new\" xlink:title=\"psysml:eeb68ac4-2ad3-4e0c-9c18-140c63d1edba\" xlink:type=\"simple\"><rect fill=\"#FFFFFF\" height=\"45.9375\" id=\"E3\" rx=\"10\" ry=\"10\" style=\"stroke: #383838; stroke-width: 1.5;\" width=\"101\" x=\"143\" y=\"172\"/><text fill=\"#000000\" font-family=\"sans-serif\" font-size=\"12\" font-style=\"italic\" lengthAdjust=\"spacingAndGlyphs\" textLength=\"99\" x=\"144\" y=\"188.1387\">«decisionNode»</text><text fill=\"#000000\" font-family=\"sans-serif\" font-size=\"12\" lengthAdjust=\"spacingAndGlyphs\" text-decoration=\"line-through\" textLength=\"51\" x=\"168\" y=\"202.1074\">noname</text><line style=\"stroke: #383838; stroke-width: 1.5;\" x1=\"144\" x2=\"243\" y1=\"209.9375\" y2=\"209.9375\"/></a><!--MD5=[ebbe1d658d1005bcc118a6aa81145e00]\n",
       "class E4--><a href=\"psysml:86b53981-b1ee-4c30-93d6-edfc048c3f3e\" target=\"_top\" title=\"psysml:86b53981-b1ee-4c30-93d6-edfc048c3f3e\" xlink:actuate=\"onRequest\" xlink:href=\"psysml:86b53981-b1ee-4c30-93d6-edfc048c3f3e\" xlink:show=\"new\" xlink:title=\"psysml:86b53981-b1ee-4c30-93d6-edfc048c3f3e\" xlink:type=\"simple\"><rect fill=\"#FFFFFF\" height=\"45.9375\" id=\"E4\" rx=\"10\" ry=\"10\" style=\"stroke: #383838; stroke-width: 1.5;\" width=\"55\" x=\"279\" y=\"172\"/><text fill=\"#000000\" font-family=\"sans-serif\" font-size=\"12\" font-style=\"italic\" lengthAdjust=\"spacingAndGlyphs\" textLength=\"53\" x=\"280\" y=\"188.1387\">«action»</text><text fill=\"#000000\" font-family=\"sans-serif\" font-size=\"12\" lengthAdjust=\"spacingAndGlyphs\" textLength=\"16\" x=\"298.5\" y=\"202.1074\">A1</text><line style=\"stroke: #383838; stroke-width: 1.5;\" x1=\"280\" x2=\"333\" y1=\"209.9375\" y2=\"209.9375\"/></a><!--MD5=[270fce915f116d4de14055a7c1d9a0f3]\n",
       "class E5--><a href=\"psysml:38b4e12b-2856-48b1-8683-970a7e146d76\" target=\"_top\" title=\"psysml:38b4e12b-2856-48b1-8683-970a7e146d76\" xlink:actuate=\"onRequest\" xlink:href=\"psysml:38b4e12b-2856-48b1-8683-970a7e146d76\" xlink:show=\"new\" xlink:title=\"psysml:38b4e12b-2856-48b1-8683-970a7e146d76\" xlink:type=\"simple\"><rect fill=\"#FFFFFF\" height=\"45.9375\" id=\"E5\" rx=\"10\" ry=\"10\" style=\"stroke: #383838; stroke-width: 1.5;\" width=\"55\" x=\"369\" y=\"172\"/><text fill=\"#000000\" font-family=\"sans-serif\" font-size=\"12\" font-style=\"italic\" lengthAdjust=\"spacingAndGlyphs\" textLength=\"53\" x=\"370\" y=\"188.1387\">«action»</text><text fill=\"#000000\" font-family=\"sans-serif\" font-size=\"12\" lengthAdjust=\"spacingAndGlyphs\" textLength=\"16\" x=\"388.5\" y=\"202.1074\">A2</text><line style=\"stroke: #383838; stroke-width: 1.5;\" x1=\"370\" x2=\"423\" y1=\"209.9375\" y2=\"209.9375\"/></a><!--MD5=[60a26617385b1d2d0262a64233df1f8d]\n",
       "class E6--><a href=\"psysml:3ceea1c4-b769-4e45-b22d-b9b14232dc11\" target=\"_top\" title=\"psysml:3ceea1c4-b769-4e45-b22d-b9b14232dc11\" xlink:actuate=\"onRequest\" xlink:href=\"psysml:3ceea1c4-b769-4e45-b22d-b9b14232dc11\" xlink:show=\"new\" xlink:title=\"psysml:3ceea1c4-b769-4e45-b22d-b9b14232dc11\" xlink:type=\"simple\"><rect fill=\"#FFFFFF\" height=\"45.9375\" id=\"E6\" rx=\"10\" ry=\"10\" style=\"stroke: #383838; stroke-width: 1.5;\" width=\"55\" x=\"459\" y=\"172\"/><text fill=\"#000000\" font-family=\"sans-serif\" font-size=\"12\" font-style=\"italic\" lengthAdjust=\"spacingAndGlyphs\" textLength=\"53\" x=\"460\" y=\"188.1387\">«action»</text><text fill=\"#000000\" font-family=\"sans-serif\" font-size=\"12\" lengthAdjust=\"spacingAndGlyphs\" textLength=\"16\" x=\"478.5\" y=\"202.1074\">A3</text><line style=\"stroke: #383838; stroke-width: 1.5;\" x1=\"460\" x2=\"513\" y1=\"209.9375\" y2=\"209.9375\"/></a><!--MD5=[a523cb2a0b79ecf9065ad8783f96c320]\n",
       "reverse link E1 to E2--><a href=\"psysml:3f40863b-0a66-456a-a380-cfd414bf0804\" target=\"_top\" title=\"psysml:3f40863b-0a66-456a-a380-cfd414bf0804\" xlink:actuate=\"onRequest\" xlink:href=\"psysml:3f40863b-0a66-456a-a380-cfd414bf0804\" xlink:show=\"new\" xlink:title=\"psysml:3f40863b-0a66-456a-a380-cfd414bf0804\" xlink:type=\"simple\"><path d=\"M296.52,85.46 C241.75,110.33 158.47,148.15 106.07,171.95 \" fill=\"none\" id=\"E1&lt;-E2\" style=\"stroke: #383838; stroke-width: 1.0;\"/><polygon fill=\"#383838\" points=\"308.44,80.06,301.323,78.8988,297.5138,85.0217,304.6308,86.1829,308.44,80.06\" style=\"stroke: #383838; stroke-width: 1.0;\"/></a><!--MD5=[5d7b3810b1dd9b5164bea1151b29b665]\n",
       "reverse link E1 to E3--><a href=\"psysml:e2578a6b-d48b-4dd6-b58c-18f093f1f29f\" target=\"_top\" title=\"psysml:e2578a6b-d48b-4dd6-b58c-18f093f1f29f\" xlink:actuate=\"onRequest\" xlink:href=\"psysml:e2578a6b-d48b-4dd6-b58c-18f093f1f29f\" xlink:show=\"new\" xlink:title=\"psysml:e2578a6b-d48b-4dd6-b58c-18f093f1f29f\" xlink:type=\"simple\"><path d=\"M298.08,105.64 C271.7,127.93 241.06,153.82 219.79,171.79 \" fill=\"none\" id=\"E1&lt;-E3\" style=\"stroke: #383838; stroke-width: 1.0;\"/><polygon fill=\"#383838\" points=\"308.33,96.98,301.1646,97.7906,299.1569,104.7165,306.3223,103.906,308.33,96.98\" style=\"stroke: #383838; stroke-width: 1.0;\"/></a><!--MD5=[f2c5c03aa1e8c0ba21c10a05e6444b8e]\n",
       "reverse link E1 to E4--><a href=\"psysml:7583b8d6-81fb-44fd-88ce-ec05d2d7f8f3\" target=\"_top\" title=\"psysml:7583b8d6-81fb-44fd-88ce-ec05d2d7f8f3\" xlink:actuate=\"onRequest\" xlink:href=\"psysml:7583b8d6-81fb-44fd-88ce-ec05d2d7f8f3\" xlink:show=\"new\" xlink:title=\"psysml:7583b8d6-81fb-44fd-88ce-ec05d2d7f8f3\" xlink:type=\"simple\"><path d=\"M329.79,124.91 C324.1,141.78 318.35,158.85 313.98,171.8 \" fill=\"none\" id=\"E1&lt;-E4\" style=\"stroke: #383838; stroke-width: 1.0;\"/><polygon fill=\"#383838\" points=\"334.1,112.11,328.391,116.5154,330.2618,123.4796,335.9708,119.0742,334.1,112.11\" style=\"stroke: #383838; stroke-width: 1.0;\"/></a><!--MD5=[33238bef88d6431a141d8bc8fb12bca0]\n",
       "reverse link E1 to E5--><a href=\"psysml:1b62ef88-94e5-4ba0-8e17-6cec1f6133af\" target=\"_top\" title=\"psysml:1b62ef88-94e5-4ba0-8e17-6cec1f6133af\" xlink:actuate=\"onRequest\" xlink:href=\"psysml:1b62ef88-94e5-4ba0-8e17-6cec1f6133af\" xlink:show=\"new\" xlink:title=\"psysml:1b62ef88-94e5-4ba0-8e17-6cec1f6133af\" xlink:type=\"simple\"><path d=\"M373.21,124.91 C378.9,141.78 384.65,158.85 389.02,171.8 \" fill=\"none\" id=\"E1&lt;-E5\" style=\"stroke: #383838; stroke-width: 1.0;\"/><polygon fill=\"#383838\" points=\"368.9,112.11,367.0292,119.0742,372.7382,123.4796,374.609,116.5154,368.9,112.11\" style=\"stroke: #383838; stroke-width: 1.0;\"/></a><!--MD5=[aca2ef284c2b1b90e17e73bf3f292c07]\n",
       "reverse link E1 to E6--><a href=\"psysml:6d478a35-76b8-45be-be82-2204dec34e47\" target=\"_top\" title=\"psysml:6d478a35-76b8-45be-be82-2204dec34e47\" xlink:actuate=\"onRequest\" xlink:href=\"psysml:6d478a35-76b8-45be-be82-2204dec34e47\" xlink:show=\"new\" xlink:title=\"psysml:6d478a35-76b8-45be-be82-2204dec34e47\" xlink:type=\"simple\"><path d=\"M400.61,121.64 C420.11,141.2 441.74,161.41 458.63,175.48 \" fill=\"none\" id=\"E1&lt;-E6\" style=\"stroke: #383838; stroke-width: 1.0;\"/><polygon fill=\"#383838\" points=\"391.24,112.11,392.5992,119.1919,399.659,120.661,398.2999,113.5792,391.24,112.11\" style=\"stroke: #383838; stroke-width: 1.0;\"/></a><!--MD5=[aca2ef284c2b1b90e17e73bf3f292c07]\n",
       "reverse link E1 to E6--><a href=\"psysml:637c00ed-dc37-460b-98af-77d0acff244f\" target=\"_top\" title=\"psysml:637c00ed-dc37-460b-98af-77d0acff244f\" xlink:actuate=\"onRequest\" xlink:href=\"psysml:637c00ed-dc37-460b-98af-77d0acff244f\" xlink:show=\"new\" xlink:title=\"psysml:637c00ed-dc37-460b-98af-77d0acff244f\" xlink:type=\"simple\"><path d=\"M404.71,100.75 C430.05,124 458.02,152.36 474.29,171.66 \" fill=\"none\" id=\"E1&lt;-E6-1\" style=\"stroke: #383838; stroke-width: 1.0;\"/><polygon fill=\"#FFFFFF\" points=\"394.79,91.8,396.5648,98.7893,403.699,99.8392,401.9243,92.8499,394.79,91.8\" style=\"stroke: #383838; stroke-width: 1.0;\"/></a><!--MD5=[01d03cb3f16e621661ece307d81f3fb6]\n",
       "@startuml\r\n",
       "top to bottom direction\r\n",
       "skinparam monochrome true\r\n",
       "skinparam classbackgroundcolor white\r\n",
       "skinparam shadowing false\r\n",
       "skinparam wrapWidth 300\r\n",
       "hide circle\r\n",
       "\r\n",
       "comp def \"DecisionTest\" as E1  <<(T,blue) action def>> [[psysml:068a4463-a96d-4165-a2bc-cadf70a9bc09 ]] {\r\n",
       "- - attributes - -\r\n",
       "x=1; \r\n",
       "- - transitions - -\r\n",
       "S\r\n",
       "}\r\n",
       "comp usage \"test x\" as E2  <<(T,blue) decisionNode>> [[psysml:44ee9e06-5fd9-46bf-b0f8-00dd693073b7 ]] {\r\n",
       "}\r\n",
       "comp usage \"<s>noname</s>\" as E3  <<(T,blue) decisionNode>> [[psysml:eeb68ac4-2ad3-4e0c-9c18-140c63d1edba ]] {\r\n",
       "}\r\n",
       "comp usage \"A1\" as E4  <<(T,blue) action>> [[psysml:86b53981-b1ee-4c30-93d6-edfc048c3f3e ]] {\r\n",
       "}\r\n",
       "comp usage \"A2\" as E5  <<(T,blue) action>> [[psysml:38b4e12b-2856-48b1-8683-970a7e146d76 ]] {\r\n",
       "}\r\n",
       "comp usage \"A3\" as E6  <<(T,blue) action>> [[psysml:3ceea1c4-b769-4e45-b22d-b9b14232dc11 ]] {\r\n",
       "}\r\n",
       "E1 *- - E2 [[psysml:3f40863b-0a66-456a-a380-cfd414bf0804 ]] \r\n",
       "E1 *- - E3 [[psysml:e2578a6b-d48b-4dd6-b58c-18f093f1f29f ]] \r\n",
       "E1 *- - E4 [[psysml:7583b8d6-81fb-44fd-88ce-ec05d2d7f8f3 ]] \r\n",
       "E1 *- - E5 [[psysml:1b62ef88-94e5-4ba0-8e17-6cec1f6133af ]] \r\n",
       "E1 *- - E6 [[psysml:6d478a35-76b8-45be-be82-2204dec34e47 ]] \r\n",
       "E1 o- - E6 [[psysml:637c00ed-dc37-460b-98af-77d0acff244f ]] \r\n",
       "@enduml\r\n",
       "\n",
       "PlantUML version 1.2020.13(Sat Jun 13 12:26:38 UTC 2020)\n",
       "(EPL source distribution)\n",
       "Java Runtime: OpenJDK Runtime Environment\n",
       "JVM: OpenJDK 64-Bit Server VM\n",
       "Default Encoding: UTF-8\n",
       "Language: en\n",
       "Country: null\n",
       "--></g></svg>"
      ]
     },
     "execution_count": 49,
     "metadata": {},
     "output_type": "execute_result"
    }
   ],
   "source": [
    "%viz --style=\"TB\" --view=\"Sequence\" \"DecisionTest\""
   ]
  },
  {
   "cell_type": "code",
   "execution_count": 50,
   "id": "b174eeff",
   "metadata": {
    "execution": {
     "iopub.execute_input": "2021-06-30T09:20:31.863056Z",
     "iopub.status.busy": "2021-06-30T09:20:31.862590Z",
     "iopub.status.idle": "2021-06-30T09:20:31.900352Z",
     "shell.execute_reply": "2021-06-30T09:20:31.898566Z"
    }
   },
   "outputs": [
    {
     "data": {
      "image/svg+xml": [
       "<?xml version=\"1.0\" encoding=\"UTF-8\" standalone=\"no\"?><svg xmlns=\"http://www.w3.org/2000/svg\" xmlns:xlink=\"http://www.w3.org/1999/xlink\" contentScriptType=\"application/ecmascript\" contentStyleType=\"text/css\" height=\"488px\" preserveAspectRatio=\"none\" style=\"width:333px;height:488px;\" version=\"1.1\" viewBox=\"0 0 333 488\" width=\"333px\" zoomAndPan=\"magnify\"><defs/><g><!--MD5=[fbc87193dbaf4d95561dea2c320d4a47]\n",
       "cluster E1--><a href=\"psysml:068a4463-a96d-4165-a2bc-cadf70a9bc09\" target=\"_top\" title=\"psysml:068a4463-a96d-4165-a2bc-cadf70a9bc09\" xlink:actuate=\"onRequest\" xlink:href=\"psysml:068a4463-a96d-4165-a2bc-cadf70a9bc09\" xlink:show=\"new\" xlink:title=\"psysml:068a4463-a96d-4165-a2bc-cadf70a9bc09\" xlink:type=\"simple\"><rect fill=\"#FFFFFF\" height=\"470\" id=\"E1\" style=\"stroke: #383838; stroke-width: 1.5;\" width=\"315\" x=\"7\" y=\"7\"/><rect fill=\"#F8F8F8\" height=\"37.9375\" style=\"stroke: #383838; stroke-width: 1.5;\" width=\"315\" x=\"7\" y=\"7\"/><text fill=\"#000000\" font-family=\"sans-serif\" font-size=\"12\" font-style=\"italic\" lengthAdjust=\"spacingAndGlyphs\" textLength=\"77\" x=\"126\" y=\"23.1387\">«action def»</text><text fill=\"#000000\" font-family=\"sans-serif\" font-size=\"12\" lengthAdjust=\"spacingAndGlyphs\" textLength=\"80\" x=\"124.5\" y=\"37.1074\">DecisionTest</text></a><polygon fill=\"#F8F8F8\" points=\"210,67.5,222,79.5,210,91.5,198,79.5,210,67.5\" style=\"stroke: #383838; stroke-width: 1.5;\"/><polygon fill=\"#F8F8F8\" points=\"35,187.5,47,199.5,35,211.5,23,199.5,35,187.5\" style=\"stroke: #383838; stroke-width: 1.5;\"/><g id=\"E1.E4\"><a href=\"psysml:86b53981-b1ee-4c30-93d6-edfc048c3f3e\" target=\"_top\" title=\"psysml:86b53981-b1ee-4c30-93d6-edfc048c3f3e\" xlink:actuate=\"onRequest\" xlink:href=\"psysml:86b53981-b1ee-4c30-93d6-edfc048c3f3e\" xlink:show=\"new\" xlink:title=\"psysml:86b53981-b1ee-4c30-93d6-edfc048c3f3e\" xlink:type=\"simple\"><rect fill=\"#FFFFFF\" height=\"42.9375\" id=\"E4\" rx=\"10\" ry=\"10\" style=\"stroke: #383838; stroke-width: 1.5;\" width=\"60\" x=\"135\" y=\"298\"/><rect fill=\"#F8F8F8\" height=\"37.9375\" rx=\"10\" ry=\"10\" style=\"stroke: #F8F8F8; stroke-width: 1.5;\" width=\"60\" x=\"135\" y=\"298\"/><rect fill=\"#F8F8F8\" height=\"10\" style=\"stroke: #F8F8F8; stroke-width: 1.5;\" width=\"60\" x=\"135\" y=\"325.9375\"/><rect fill=\"none\" height=\"42.9375\" id=\"E4\" rx=\"10\" ry=\"10\" style=\"stroke: #383838; stroke-width: 1.5;\" width=\"60\" x=\"135\" y=\"298\"/><text fill=\"#000000\" font-family=\"sans-serif\" font-size=\"12\" font-style=\"italic\" lengthAdjust=\"spacingAndGlyphs\" textLength=\"53\" x=\"138.5\" y=\"314.1387\">«action»</text><text fill=\"#000000\" font-family=\"sans-serif\" font-size=\"12\" lengthAdjust=\"spacingAndGlyphs\" textLength=\"16\" x=\"157\" y=\"328.1074\">A1</text></a></g><g id=\"E1.E5\"><a href=\"psysml:38b4e12b-2856-48b1-8683-970a7e146d76\" target=\"_top\" title=\"psysml:38b4e12b-2856-48b1-8683-970a7e146d76\" xlink:actuate=\"onRequest\" xlink:href=\"psysml:38b4e12b-2856-48b1-8683-970a7e146d76\" xlink:show=\"new\" xlink:title=\"psysml:38b4e12b-2856-48b1-8683-970a7e146d76\" xlink:type=\"simple\"><rect fill=\"#FFFFFF\" height=\"42.9375\" id=\"E5\" rx=\"10\" ry=\"10\" style=\"stroke: #383838; stroke-width: 1.5;\" width=\"60\" x=\"135\" y=\"418\"/><rect fill=\"#F8F8F8\" height=\"37.9375\" rx=\"10\" ry=\"10\" style=\"stroke: #F8F8F8; stroke-width: 1.5;\" width=\"60\" x=\"135\" y=\"418\"/><rect fill=\"#F8F8F8\" height=\"10\" style=\"stroke: #F8F8F8; stroke-width: 1.5;\" width=\"60\" x=\"135\" y=\"445.9375\"/><rect fill=\"none\" height=\"42.9375\" id=\"E5\" rx=\"10\" ry=\"10\" style=\"stroke: #383838; stroke-width: 1.5;\" width=\"60\" x=\"135\" y=\"418\"/><text fill=\"#000000\" font-family=\"sans-serif\" font-size=\"12\" font-style=\"italic\" lengthAdjust=\"spacingAndGlyphs\" textLength=\"53\" x=\"138.5\" y=\"434.1387\">«action»</text><text fill=\"#000000\" font-family=\"sans-serif\" font-size=\"12\" lengthAdjust=\"spacingAndGlyphs\" textLength=\"16\" x=\"157\" y=\"448.1074\">A2</text></a></g><g id=\"E1.E6\"><a href=\"psysml:3ceea1c4-b769-4e45-b22d-b9b14232dc11\" target=\"_top\" title=\"psysml:3ceea1c4-b769-4e45-b22d-b9b14232dc11\" xlink:actuate=\"onRequest\" xlink:href=\"psysml:3ceea1c4-b769-4e45-b22d-b9b14232dc11\" xlink:show=\"new\" xlink:title=\"psysml:3ceea1c4-b769-4e45-b22d-b9b14232dc11\" xlink:type=\"simple\"><rect fill=\"#FFFFFF\" height=\"42.9375\" id=\"E6\" rx=\"10\" ry=\"10\" style=\"stroke: #383838; stroke-width: 1.5;\" width=\"60\" x=\"63\" y=\"58\"/><rect fill=\"#F8F8F8\" height=\"37.9375\" rx=\"10\" ry=\"10\" style=\"stroke: #F8F8F8; stroke-width: 1.5;\" width=\"60\" x=\"63\" y=\"58\"/><rect fill=\"#F8F8F8\" height=\"10\" style=\"stroke: #F8F8F8; stroke-width: 1.5;\" width=\"60\" x=\"63\" y=\"85.9375\"/><rect fill=\"none\" height=\"42.9375\" id=\"E6\" rx=\"10\" ry=\"10\" style=\"stroke: #383838; stroke-width: 1.5;\" width=\"60\" x=\"63\" y=\"58\"/><text fill=\"#000000\" font-family=\"sans-serif\" font-size=\"12\" font-style=\"italic\" lengthAdjust=\"spacingAndGlyphs\" textLength=\"53\" x=\"66.5\" y=\"74.1387\">«action»</text><text fill=\"#000000\" font-family=\"sans-serif\" font-size=\"12\" lengthAdjust=\"spacingAndGlyphs\" textLength=\"16\" x=\"85\" y=\"88.1074\">A3</text></a></g><g id=\"E1.E7\"><a href=\"psysml:3ceea1c4-b769-4e45-b22d-b9b14232dc11\" target=\"_top\" title=\"psysml:3ceea1c4-b769-4e45-b22d-b9b14232dc11\" xlink:actuate=\"onRequest\" xlink:href=\"psysml:3ceea1c4-b769-4e45-b22d-b9b14232dc11\" xlink:show=\"new\" xlink:title=\"psysml:3ceea1c4-b769-4e45-b22d-b9b14232dc11\" xlink:type=\"simple\"><rect fill=\"#FFFFFF\" height=\"42.9375\" id=\"E7\" rx=\"10\" ry=\"10\" style=\"stroke: #383838; stroke-width: 1.5;\" width=\"60\" x=\"246\" y=\"178\"/><rect fill=\"#F8F8F8\" height=\"37.9375\" rx=\"10\" ry=\"10\" style=\"stroke: #F8F8F8; stroke-width: 1.5;\" width=\"60\" x=\"246\" y=\"178\"/><rect fill=\"#F8F8F8\" height=\"10\" style=\"stroke: #F8F8F8; stroke-width: 1.5;\" width=\"60\" x=\"246\" y=\"205.9375\"/><rect fill=\"none\" height=\"42.9375\" id=\"E7\" rx=\"10\" ry=\"10\" style=\"stroke: #383838; stroke-width: 1.5;\" width=\"60\" x=\"246\" y=\"178\"/><text fill=\"#000000\" font-family=\"sans-serif\" font-size=\"12\" font-style=\"italic\" lengthAdjust=\"spacingAndGlyphs\" textLength=\"53\" x=\"249.5\" y=\"194.1387\">«action»</text><text fill=\"#000000\" font-family=\"sans-serif\" font-size=\"12\" lengthAdjust=\"spacingAndGlyphs\" textLength=\"16\" x=\"268\" y=\"208.1074\">A3</text></a></g><!--MD5=[4d03bb2d0377dc85ccfab60ff574652b]\n",
       "link E2 to E4--><a href=\"psysml:5839aeb0-dd7d-4257-be26-6d697b84d54b\" target=\"_top\" title=\"psysml:5839aeb0-dd7d-4257-be26-6d697b84d54b\" xlink:actuate=\"onRequest\" xlink:href=\"psysml:5839aeb0-dd7d-4257-be26-6d697b84d54b\" xlink:show=\"new\" xlink:title=\"psysml:5839aeb0-dd7d-4257-be26-6d697b84d54b\" xlink:type=\"simple\"><path d=\"M204.45,86 C190.88,99.89 156.22,138.13 144,178 C132.04,217.01 144.31,264.27 154.48,292.83 \" fill=\"none\" id=\"E2-&gt;E4\" style=\"stroke: #383838; stroke-width: 1.0;\"/><polygon fill=\"#383838\" points=\"156.22,297.6,156.8939,287.7742,154.5067,292.9027,149.3782,290.5155,156.22,297.6\" style=\"stroke: #383838; stroke-width: 1.0;\"/><text fill=\"#000000\" font-family=\"sans-serif\" font-size=\"13\" lengthAdjust=\"spacingAndGlyphs\" textLength=\"55\" x=\"145\" y=\"204.0669\">[x == 1]</text></a><!--MD5=[dcad52bbbca2fe8adc741ce38b45dc12]\n",
       "link E2 to E5--><a href=\"psysml:6472265e-4329-42f9-a73f-b0fdd653d81d\" target=\"_top\" title=\"psysml:6472265e-4329-42f9-a73f-b0fdd653d81d\" xlink:actuate=\"onRequest\" xlink:href=\"psysml:6472265e-4329-42f9-a73f-b0fdd653d81d\" xlink:show=\"new\" xlink:title=\"psysml:6472265e-4329-42f9-a73f-b0fdd653d81d\" xlink:type=\"simple\"><path d=\"M210.67,90.83 C214.08,143.62 229.24,381.12 226,388 C220.27,400.19 209.98,410.45 199.48,418.47 \" fill=\"none\" id=\"E2-&gt;E5\" style=\"stroke: #383838; stroke-width: 1.0;\"/><polygon fill=\"#383838\" points=\"195.29,421.54,204.9073,419.4168,199.3138,418.5721,200.1586,412.9786,195.29,421.54\" style=\"stroke: #383838; stroke-width: 1.0;\"/><text fill=\"#000000\" font-family=\"sans-serif\" font-size=\"13\" lengthAdjust=\"spacingAndGlyphs\" textLength=\"44\" x=\"222\" y=\"264.0669\">[x &gt; 1]</text></a><!--MD5=[e3d2a08a9c9236652057e8ed0cbc9b62]\n",
       "link E2 to E7--><a href=\"psysml:3c10905a-0cf4-4572-9b68-27220c544656\" target=\"_top\" title=\"psysml:3c10905a-0cf4-4572-9b68-27220c544656\" xlink:actuate=\"onRequest\" xlink:href=\"psysml:3c10905a-0cf4-4572-9b68-27220c544656\" xlink:show=\"new\" xlink:title=\"psysml:3c10905a-0cf4-4572-9b68-27220c544656\" xlink:type=\"simple\"><path d=\"M210.1,91.71 C210.67,105.71 213.16,129.99 223,148 C228.29,157.68 236.08,166.6 244.08,174.17 \" fill=\"none\" id=\"E2-&gt;E7\" style=\"stroke: #383838; stroke-width: 1.0;\"/><polygon fill=\"#383838\" points=\"248.01,177.77,244.069,168.744,244.3207,174.3953,238.6694,174.6469,248.01,177.77\" style=\"stroke: #383838; stroke-width: 1.0;\"/></a><!--MD5=[583832df87f4419a098336a29a52fa00]\n",
       "link E7 to E2--><a href=\"psysml:2ecae6e1-cb24-4407-809b-df9594bdb8fa\" target=\"_top\" title=\"psysml:2ecae6e1-cb24-4407-809b-df9594bdb8fa\" xlink:actuate=\"onRequest\" xlink:href=\"psysml:2ecae6e1-cb24-4407-809b-df9594bdb8fa\" xlink:show=\"new\" xlink:title=\"psysml:2ecae6e1-cb24-4407-809b-df9594bdb8fa\" xlink:type=\"simple\"><path d=\"M264.3,177.59 C250.41,152.74 227.7,112.15 216.57,92.25 \" fill=\"none\" id=\"E7-&gt;E2\" style=\"stroke: #383838; stroke-width: 1.0;\"/><polygon fill=\"#383838\" points=\"214.13,87.88,215.0286,97.6878,216.5691,92.2447,222.0122,93.7852,214.13,87.88\" style=\"stroke: #383838; stroke-width: 1.0;\"/><text fill=\"#000000\" font-family=\"sans-serif\" font-size=\"13\" lengthAdjust=\"spacingAndGlyphs\" textLength=\"44\" x=\"247\" y=\"144.0669\">[x &gt; 0]</text></a><!--MD5=[2720a5a1f2c3fca2055b230370638851]\n",
       "link E2 to E3--><a href=\"psysml:4534ef33-8eda-405a-b2f5-6c95fd446375\" target=\"_top\" title=\"psysml:4534ef33-8eda-405a-b2f5-6c95fd446375\" xlink:actuate=\"onRequest\" xlink:href=\"psysml:4534ef33-8eda-405a-b2f5-6c95fd446375\" xlink:show=\"new\" xlink:title=\"psysml:4534ef33-8eda-405a-b2f5-6c95fd446375\" xlink:type=\"simple\"><path d=\"M201.9,83.58 C184.06,90.55 140.39,108.7 108,131 C82.49,148.57 56.88,174.67 43.84,188.71 \" fill=\"none\" id=\"E2-&gt;E3\" style=\"stroke: #383838; stroke-width: 1.0;\"/><polygon fill=\"#383838\" points=\"40.21,192.66,49.2443,188.738,43.5925,188.9778,43.3527,183.326,40.21,192.66\" style=\"stroke: #383838; stroke-width: 1.0;\"/></a><!--MD5=[af87c684e3b0d8be13c1a698a818ef1e]\n",
       "link E3 to E4--><a href=\"psysml:4cb33783-cb85-4624-8a6d-789ab5e27309\" target=\"_top\" title=\"psysml:4cb33783-cb85-4624-8a6d-789ab5e27309\" xlink:actuate=\"onRequest\" xlink:href=\"psysml:4cb33783-cb85-4624-8a6d-789ab5e27309\" xlink:show=\"new\" xlink:title=\"psysml:4cb33783-cb85-4624-8a6d-789ab5e27309\" xlink:type=\"simple\"><path d=\"M39.08,207.91 C46.63,221.15 63.87,249.24 84,268 C97.73,280.8 115.17,292.16 130.35,300.85 \" fill=\"none\" id=\"E3-&gt;E4\" style=\"stroke: #383838; stroke-width: 1.0;\"/><polygon fill=\"#383838\" points=\"134.98,303.46,129.0858,295.5696,130.6187,301.0148,125.1735,302.5477,134.98,303.46\" style=\"stroke: #383838; stroke-width: 1.0;\"/><text fill=\"#000000\" font-family=\"sans-serif\" font-size=\"13\" lengthAdjust=\"spacingAndGlyphs\" textLength=\"36\" x=\"85\" y=\"264.0669\">[true]</text></a><!--MD5=[0188b64bb0ae78505a997a81836e11e9]\n",
       "link E3 to E5--><a href=\"psysml:7566f218-2e4c-4b1d-8134-f6de9f4cb12f\" target=\"_top\" title=\"psysml:7566f218-2e4c-4b1d-8134-f6de9f4cb12f\" xlink:actuate=\"onRequest\" xlink:href=\"psysml:7566f218-2e4c-4b1d-8134-f6de9f4cb12f\" xlink:show=\"new\" xlink:title=\"psysml:7566f218-2e4c-4b1d-8134-f6de9f4cb12f\" xlink:type=\"simple\"><path d=\"M36.3,210.29 C39.76,234.03 50.73,296.03 76,341 C91.89,369.29 117.42,396.1 137.07,414.43 \" fill=\"none\" id=\"E3-&gt;E5\" style=\"stroke: #383838; stroke-width: 1.0;\"/><polygon fill=\"#383838\" points=\"140.92,417.98,137.0155,408.9382,137.2443,414.5904,131.5921,414.8192,140.92,417.98\" style=\"stroke: #383838; stroke-width: 1.0;\"/><text fill=\"#000000\" font-family=\"sans-serif\" font-size=\"13\" lengthAdjust=\"spacingAndGlyphs\" textLength=\"40\" x=\"77\" y=\"324.0669\">[false]</text></a><!--MD5=[1b7591eae5389033d8d09a9d6721a717]\n",
       "link E4 to E5--><a href=\"psysml:2ec4d8de-ba31-4f08-a58c-ce574f556666\" target=\"_top\" title=\"psysml:2ec4d8de-ba31-4f08-a58c-ce574f556666\" xlink:actuate=\"onRequest\" xlink:href=\"psysml:2ec4d8de-ba31-4f08-a58c-ce574f556666\" xlink:show=\"new\" xlink:title=\"psysml:2ec4d8de-ba31-4f08-a58c-ce574f556666\" xlink:type=\"simple\"><path d=\"M165,341.05 C165,360.9 165,391.02 165,412.52 \" fill=\"none\" id=\"E4-&gt;E5\" style=\"stroke: #383838; stroke-width: 1.0;\"/><polygon fill=\"#383838\" points=\"165,417.79,169,408.79,165,412.79,161,408.79,165,417.79\" style=\"stroke: #383838; stroke-width: 1.0;\"/><text fill=\"#000000\" font-family=\"sans-serif\" font-size=\"13\" lengthAdjust=\"spacingAndGlyphs\" textLength=\"55\" x=\"166\" y=\"384.0669\">[x == 0]</text></a><!--MD5=[47e9e7f29c16787e41ad391239c00df4]\n",
       "@startuml\r\n",
       "top to bottom direction\r\n",
       "skinparam monochrome true\r\n",
       "skinparam classbackgroundcolor white\r\n",
       "skinparam shadowing false\r\n",
       "skinparam wrapWidth 300\r\n",
       "hide circle\r\n",
       "\r\n",
       "rec def \"DecisionTest\" as E1  <<(T,blue) action def>> [[psysml:068a4463-a96d-4165-a2bc-cadf70a9bc09 ]] {\r\n",
       "choice \"test x\" as E2  [[psysml:44ee9e06-5fd9-46bf-b0f8-00dd693073b7 ]] \r\n",
       "choice \"noname\" as E3  [[psysml:eeb68ac4-2ad3-4e0c-9c18-140c63d1edba ]] \r\n",
       "rec usage \"A1\" as E4  <<(T,blue) action>> [[psysml:86b53981-b1ee-4c30-93d6-edfc048c3f3e ]] {\r\n",
       "}\r\n",
       "\r\n",
       "rec usage \"A2\" as E5  <<(T,blue) action>> [[psysml:38b4e12b-2856-48b1-8683-970a7e146d76 ]] {\r\n",
       "}\r\n",
       "\r\n",
       "rec usage \"A3\" as E6  <<(T,blue) action>> [[psysml:3ceea1c4-b769-4e45-b22d-b9b14232dc11 ]] {\r\n",
       "}\r\n",
       "\r\n",
       "rec usage \"A3\" as E7  <<(T,blue) action>> [[psysml:3ceea1c4-b769-4e45-b22d-b9b14232dc11 ]] {\r\n",
       "}\r\n",
       "\r\n",
       "}\r\n",
       "\r\n",
       "E2  - -> E4 [[psysml:5839aeb0-dd7d-4257-be26-6d697b84d54b ]] : [x == 1]\r\n",
       "E2  - -> E5 [[psysml:6472265e-4329-42f9-a73f-b0fdd653d81d ]] : [x > 1]\r\n",
       "E2  - -> E7 [[psysml:3c10905a-0cf4-4572-9b68-27220c544656 ]] \r\n",
       "E2 - -> E3 [[psysml:4534ef33-8eda-405a-b2f5-6c95fd446375 ]] \r\n",
       "E3  - -> E4 [[psysml:4cb33783-cb85-4624-8a6d-789ab5e27309 ]] : [true]\r\n",
       "E3  - -> E5 [[psysml:7566f218-2e4c-4b1d-8134-f6de9f4cb12f ]] : [false]\r\n",
       "E4  - -> E5 [[psysml:2ec4d8de-ba31-4f08-a58c-ce574f556666 ]] : [x == 0]\r\n",
       "E7  - -> E2 [[psysml:2ecae6e1-cb24-4407-809b-df9594bdb8fa ]] : [x > 0]\r\n",
       "@enduml\r\n",
       "\n",
       "PlantUML version 1.2020.13(Sat Jun 13 12:26:38 UTC 2020)\n",
       "(EPL source distribution)\n",
       "Java Runtime: OpenJDK Runtime Environment\n",
       "JVM: OpenJDK 64-Bit Server VM\n",
       "Default Encoding: UTF-8\n",
       "Language: en\n",
       "Country: null\n",
       "--></g></svg>"
      ]
     },
     "execution_count": 50,
     "metadata": {},
     "output_type": "execute_result"
    }
   ],
   "source": [
    "%viz --style=\"TB\" --view=\"MIXED\" \"DecisionTest\""
   ]
  },
  {
   "cell_type": "code",
   "execution_count": 51,
   "id": "2fec6c52",
   "metadata": {
    "execution": {
     "iopub.execute_input": "2021-06-30T09:20:31.952025Z",
     "iopub.status.busy": "2021-06-30T09:20:31.950756Z",
     "iopub.status.idle": "2021-06-30T09:20:31.989157Z",
     "shell.execute_reply": "2021-06-30T09:20:31.987813Z"
    }
   },
   "outputs": [
    {
     "data": {
      "image/svg+xml": [
       "<?xml version=\"1.0\" encoding=\"UTF-8\" standalone=\"no\"?><svg xmlns=\"http://www.w3.org/2000/svg\" xmlns:xlink=\"http://www.w3.org/1999/xlink\" contentScriptType=\"application/ecmascript\" contentStyleType=\"text/css\" height=\"488px\" preserveAspectRatio=\"none\" style=\"width:333px;height:488px;\" version=\"1.1\" viewBox=\"0 0 333 488\" width=\"333px\" zoomAndPan=\"magnify\"><defs/><g><!--MD5=[fbc87193dbaf4d95561dea2c320d4a47]\n",
       "cluster E1--><a href=\"psysml:068a4463-a96d-4165-a2bc-cadf70a9bc09\" target=\"_top\" title=\"psysml:068a4463-a96d-4165-a2bc-cadf70a9bc09\" xlink:actuate=\"onRequest\" xlink:href=\"psysml:068a4463-a96d-4165-a2bc-cadf70a9bc09\" xlink:show=\"new\" xlink:title=\"psysml:068a4463-a96d-4165-a2bc-cadf70a9bc09\" xlink:type=\"simple\"><rect fill=\"#FFFFFF\" height=\"470\" id=\"E1\" style=\"stroke: #383838; stroke-width: 1.5;\" width=\"315\" x=\"7\" y=\"7\"/><rect fill=\"#F8F8F8\" height=\"37.9375\" style=\"stroke: #383838; stroke-width: 1.5;\" width=\"315\" x=\"7\" y=\"7\"/><text fill=\"#000000\" font-family=\"sans-serif\" font-size=\"12\" font-style=\"italic\" lengthAdjust=\"spacingAndGlyphs\" textLength=\"77\" x=\"126\" y=\"23.1387\">«action def»</text><text fill=\"#000000\" font-family=\"sans-serif\" font-size=\"12\" lengthAdjust=\"spacingAndGlyphs\" textLength=\"80\" x=\"124.5\" y=\"37.1074\">DecisionTest</text></a><polygon fill=\"#F8F8F8\" points=\"210,67.5,222,79.5,210,91.5,198,79.5,210,67.5\" style=\"stroke: #383838; stroke-width: 1.5;\"/><polygon fill=\"#F8F8F8\" points=\"35,187.5,47,199.5,35,211.5,23,199.5,35,187.5\" style=\"stroke: #383838; stroke-width: 1.5;\"/><g id=\"E1.E4\"><a href=\"psysml:86b53981-b1ee-4c30-93d6-edfc048c3f3e\" target=\"_top\" title=\"psysml:86b53981-b1ee-4c30-93d6-edfc048c3f3e\" xlink:actuate=\"onRequest\" xlink:href=\"psysml:86b53981-b1ee-4c30-93d6-edfc048c3f3e\" xlink:show=\"new\" xlink:title=\"psysml:86b53981-b1ee-4c30-93d6-edfc048c3f3e\" xlink:type=\"simple\"><rect fill=\"#FFFFFF\" height=\"42.9375\" id=\"E4\" rx=\"10\" ry=\"10\" style=\"stroke: #383838; stroke-width: 1.5;\" width=\"60\" x=\"135\" y=\"298\"/><rect fill=\"#F8F8F8\" height=\"37.9375\" rx=\"10\" ry=\"10\" style=\"stroke: #F8F8F8; stroke-width: 1.5;\" width=\"60\" x=\"135\" y=\"298\"/><rect fill=\"#F8F8F8\" height=\"10\" style=\"stroke: #F8F8F8; stroke-width: 1.5;\" width=\"60\" x=\"135\" y=\"325.9375\"/><rect fill=\"none\" height=\"42.9375\" id=\"E4\" rx=\"10\" ry=\"10\" style=\"stroke: #383838; stroke-width: 1.5;\" width=\"60\" x=\"135\" y=\"298\"/><text fill=\"#000000\" font-family=\"sans-serif\" font-size=\"12\" font-style=\"italic\" lengthAdjust=\"spacingAndGlyphs\" textLength=\"53\" x=\"138.5\" y=\"314.1387\">«action»</text><text fill=\"#000000\" font-family=\"sans-serif\" font-size=\"12\" lengthAdjust=\"spacingAndGlyphs\" textLength=\"16\" x=\"157\" y=\"328.1074\">A1</text></a></g><g id=\"E1.E5\"><a href=\"psysml:38b4e12b-2856-48b1-8683-970a7e146d76\" target=\"_top\" title=\"psysml:38b4e12b-2856-48b1-8683-970a7e146d76\" xlink:actuate=\"onRequest\" xlink:href=\"psysml:38b4e12b-2856-48b1-8683-970a7e146d76\" xlink:show=\"new\" xlink:title=\"psysml:38b4e12b-2856-48b1-8683-970a7e146d76\" xlink:type=\"simple\"><rect fill=\"#FFFFFF\" height=\"42.9375\" id=\"E5\" rx=\"10\" ry=\"10\" style=\"stroke: #383838; stroke-width: 1.5;\" width=\"60\" x=\"135\" y=\"418\"/><rect fill=\"#F8F8F8\" height=\"37.9375\" rx=\"10\" ry=\"10\" style=\"stroke: #F8F8F8; stroke-width: 1.5;\" width=\"60\" x=\"135\" y=\"418\"/><rect fill=\"#F8F8F8\" height=\"10\" style=\"stroke: #F8F8F8; stroke-width: 1.5;\" width=\"60\" x=\"135\" y=\"445.9375\"/><rect fill=\"none\" height=\"42.9375\" id=\"E5\" rx=\"10\" ry=\"10\" style=\"stroke: #383838; stroke-width: 1.5;\" width=\"60\" x=\"135\" y=\"418\"/><text fill=\"#000000\" font-family=\"sans-serif\" font-size=\"12\" font-style=\"italic\" lengthAdjust=\"spacingAndGlyphs\" textLength=\"53\" x=\"138.5\" y=\"434.1387\">«action»</text><text fill=\"#000000\" font-family=\"sans-serif\" font-size=\"12\" lengthAdjust=\"spacingAndGlyphs\" textLength=\"16\" x=\"157\" y=\"448.1074\">A2</text></a></g><g id=\"E1.E6\"><a href=\"psysml:3ceea1c4-b769-4e45-b22d-b9b14232dc11\" target=\"_top\" title=\"psysml:3ceea1c4-b769-4e45-b22d-b9b14232dc11\" xlink:actuate=\"onRequest\" xlink:href=\"psysml:3ceea1c4-b769-4e45-b22d-b9b14232dc11\" xlink:show=\"new\" xlink:title=\"psysml:3ceea1c4-b769-4e45-b22d-b9b14232dc11\" xlink:type=\"simple\"><rect fill=\"#FFFFFF\" height=\"42.9375\" id=\"E6\" rx=\"10\" ry=\"10\" style=\"stroke: #383838; stroke-width: 1.5;\" width=\"60\" x=\"63\" y=\"58\"/><rect fill=\"#F8F8F8\" height=\"37.9375\" rx=\"10\" ry=\"10\" style=\"stroke: #F8F8F8; stroke-width: 1.5;\" width=\"60\" x=\"63\" y=\"58\"/><rect fill=\"#F8F8F8\" height=\"10\" style=\"stroke: #F8F8F8; stroke-width: 1.5;\" width=\"60\" x=\"63\" y=\"85.9375\"/><rect fill=\"none\" height=\"42.9375\" id=\"E6\" rx=\"10\" ry=\"10\" style=\"stroke: #383838; stroke-width: 1.5;\" width=\"60\" x=\"63\" y=\"58\"/><text fill=\"#000000\" font-family=\"sans-serif\" font-size=\"12\" font-style=\"italic\" lengthAdjust=\"spacingAndGlyphs\" textLength=\"53\" x=\"66.5\" y=\"74.1387\">«action»</text><text fill=\"#000000\" font-family=\"sans-serif\" font-size=\"12\" lengthAdjust=\"spacingAndGlyphs\" textLength=\"16\" x=\"85\" y=\"88.1074\">A3</text></a></g><g id=\"E1.E7\"><a href=\"psysml:3ceea1c4-b769-4e45-b22d-b9b14232dc11\" target=\"_top\" title=\"psysml:3ceea1c4-b769-4e45-b22d-b9b14232dc11\" xlink:actuate=\"onRequest\" xlink:href=\"psysml:3ceea1c4-b769-4e45-b22d-b9b14232dc11\" xlink:show=\"new\" xlink:title=\"psysml:3ceea1c4-b769-4e45-b22d-b9b14232dc11\" xlink:type=\"simple\"><rect fill=\"#FFFFFF\" height=\"42.9375\" id=\"E7\" rx=\"10\" ry=\"10\" style=\"stroke: #383838; stroke-width: 1.5;\" width=\"60\" x=\"246\" y=\"178\"/><rect fill=\"#F8F8F8\" height=\"37.9375\" rx=\"10\" ry=\"10\" style=\"stroke: #F8F8F8; stroke-width: 1.5;\" width=\"60\" x=\"246\" y=\"178\"/><rect fill=\"#F8F8F8\" height=\"10\" style=\"stroke: #F8F8F8; stroke-width: 1.5;\" width=\"60\" x=\"246\" y=\"205.9375\"/><rect fill=\"none\" height=\"42.9375\" id=\"E7\" rx=\"10\" ry=\"10\" style=\"stroke: #383838; stroke-width: 1.5;\" width=\"60\" x=\"246\" y=\"178\"/><text fill=\"#000000\" font-family=\"sans-serif\" font-size=\"12\" font-style=\"italic\" lengthAdjust=\"spacingAndGlyphs\" textLength=\"53\" x=\"249.5\" y=\"194.1387\">«action»</text><text fill=\"#000000\" font-family=\"sans-serif\" font-size=\"12\" lengthAdjust=\"spacingAndGlyphs\" textLength=\"16\" x=\"268\" y=\"208.1074\">A3</text></a></g><!--MD5=[4d03bb2d0377dc85ccfab60ff574652b]\n",
       "link E2 to E4--><a href=\"psysml:5839aeb0-dd7d-4257-be26-6d697b84d54b\" target=\"_top\" title=\"psysml:5839aeb0-dd7d-4257-be26-6d697b84d54b\" xlink:actuate=\"onRequest\" xlink:href=\"psysml:5839aeb0-dd7d-4257-be26-6d697b84d54b\" xlink:show=\"new\" xlink:title=\"psysml:5839aeb0-dd7d-4257-be26-6d697b84d54b\" xlink:type=\"simple\"><path d=\"M206,87.5 C206,129.23 206,320 206,320 C206,320 200.23,320 200.23,320 \" fill=\"none\" id=\"E2-&gt;E4\" style=\"stroke: #383838; stroke-width: 1.0;\"/><polygon fill=\"#383838\" points=\"195.23,320,204.23,324,200.23,320,204.23,316,195.23,320\" style=\"stroke: #383838; stroke-width: 1.0;\"/><text fill=\"#000000\" font-family=\"sans-serif\" font-size=\"13\" lengthAdjust=\"spacingAndGlyphs\" textLength=\"55\" x=\"118\" y=\"204.0669\">[x == 1]</text></a><!--MD5=[dcad52bbbca2fe8adc741ce38b45dc12]\n",
       "link E2 to E5--><a href=\"psysml:6472265e-4329-42f9-a73f-b0fdd653d81d\" target=\"_top\" title=\"psysml:6472265e-4329-42f9-a73f-b0fdd653d81d\" xlink:actuate=\"onRequest\" xlink:href=\"psysml:6472265e-4329-42f9-a73f-b0fdd653d81d\" xlink:show=\"new\" xlink:title=\"psysml:6472265e-4329-42f9-a73f-b0fdd653d81d\" xlink:type=\"simple\"><path d=\"M210,91.91 C210,155.3 210,440 210,440 C210,440 200.02,440 200.02,440 \" fill=\"none\" id=\"E2-&gt;E5\" style=\"stroke: #383838; stroke-width: 1.0;\"/><polygon fill=\"#383838\" points=\"195.02,440,204.02,444,200.02,440,204.02,436,195.02,440\" style=\"stroke: #383838; stroke-width: 1.0;\"/><text fill=\"#000000\" font-family=\"sans-serif\" font-size=\"13\" lengthAdjust=\"spacingAndGlyphs\" textLength=\"44\" x=\"221\" y=\"264.0669\">[x &gt; 1]</text></a><!--MD5=[e3d2a08a9c9236652057e8ed0cbc9b62]\n",
       "link E2 to E7--><a href=\"psysml:3c10905a-0cf4-4572-9b68-27220c544656\" target=\"_top\" title=\"psysml:3c10905a-0cf4-4572-9b68-27220c544656\" xlink:actuate=\"onRequest\" xlink:href=\"psysml:3c10905a-0cf4-4572-9b68-27220c544656\" xlink:show=\"new\" xlink:title=\"psysml:3c10905a-0cf4-4572-9b68-27220c544656\" xlink:type=\"simple\"><path d=\"M218,83.9 C218,103.52 218,182 218,182 C218,182 240.98,182 240.98,182 \" fill=\"none\" id=\"E2-&gt;E7\" style=\"stroke: #383838; stroke-width: 1.0;\"/><polygon fill=\"#383838\" points=\"245.98,182,236.98,178,240.98,182,236.98,186,245.98,182\" style=\"stroke: #383838; stroke-width: 1.0;\"/></a><!--MD5=[583832df87f4419a098336a29a52fa00]\n",
       "link E7 to E2--><a href=\"psysml:2ecae6e1-cb24-4407-809b-df9594bdb8fa\" target=\"_top\" title=\"psysml:2ecae6e1-cb24-4407-809b-df9594bdb8fa\" xlink:actuate=\"onRequest\" xlink:href=\"psysml:2ecae6e1-cb24-4407-809b-df9594bdb8fa\" xlink:show=\"new\" xlink:title=\"psysml:2ecae6e1-cb24-4407-809b-df9594bdb8fa\" xlink:type=\"simple\"><path d=\"M245.73,185 C229.99,185 214,185 214,185 C214,185 214,92.78 214,92.78 \" fill=\"none\" id=\"E7-&gt;E2\" style=\"stroke: #383838; stroke-width: 1.0;\"/><polygon fill=\"#383838\" points=\"214,87.78,210,96.78,214,92.78,218,96.78,214,87.78\" style=\"stroke: #383838; stroke-width: 1.0;\"/><text fill=\"#000000\" font-family=\"sans-serif\" font-size=\"13\" lengthAdjust=\"spacingAndGlyphs\" textLength=\"44\" x=\"260\" y=\"144.0669\">[x &gt; 0]</text></a><!--MD5=[2720a5a1f2c3fca2055b230370638851]\n",
       "link E2 to E3--><a href=\"psysml:4534ef33-8eda-405a-b2f5-6c95fd446375\" target=\"_top\" title=\"psysml:4534ef33-8eda-405a-b2f5-6c95fd446375\" xlink:actuate=\"onRequest\" xlink:href=\"psysml:4534ef33-8eda-405a-b2f5-6c95fd446375\" xlink:show=\"new\" xlink:title=\"psysml:4534ef33-8eda-405a-b2f5-6c95fd446375\" xlink:type=\"simple\"><path d=\"M202,83.51 C202,104.42 202,200 202,200 C202,200 51.74,200 51.74,200 \" fill=\"none\" id=\"E2-&gt;E3\" style=\"stroke: #383838; stroke-width: 1.0;\"/><polygon fill=\"#383838\" points=\"46.74,200,55.74,204,51.74,200,55.74,196,46.74,200\" style=\"stroke: #383838; stroke-width: 1.0;\"/></a><!--MD5=[af87c684e3b0d8be13c1a698a818ef1e]\n",
       "link E3 to E4--><a href=\"psysml:4cb33783-cb85-4624-8a6d-789ab5e27309\" target=\"_top\" title=\"psysml:4cb33783-cb85-4624-8a6d-789ab5e27309\" xlink:actuate=\"onRequest\" xlink:href=\"psysml:4cb33783-cb85-4624-8a6d-789ab5e27309\" xlink:show=\"new\" xlink:title=\"psysml:4cb33783-cb85-4624-8a6d-789ab5e27309\" xlink:type=\"simple\"><path d=\"M39,207.78 C39,235.01 39,320 39,320 C39,320 129.82,320 129.82,320 \" fill=\"none\" id=\"E3-&gt;E4\" style=\"stroke: #383838; stroke-width: 1.0;\"/><polygon fill=\"#383838\" points=\"134.82,320,125.82,316,129.82,320,125.82,324,134.82,320\" style=\"stroke: #383838; stroke-width: 1.0;\"/><text fill=\"#000000\" font-family=\"sans-serif\" font-size=\"13\" lengthAdjust=\"spacingAndGlyphs\" textLength=\"36\" x=\"88\" y=\"264.0669\">[true]</text></a><!--MD5=[0188b64bb0ae78505a997a81836e11e9]\n",
       "link E3 to E5--><a href=\"psysml:7566f218-2e4c-4b1d-8134-f6de9f4cb12f\" target=\"_top\" title=\"psysml:7566f218-2e4c-4b1d-8134-f6de9f4cb12f\" xlink:actuate=\"onRequest\" xlink:href=\"psysml:7566f218-2e4c-4b1d-8134-f6de9f4cb12f\" xlink:show=\"new\" xlink:title=\"psysml:7566f218-2e4c-4b1d-8134-f6de9f4cb12f\" xlink:type=\"simple\"><path d=\"M31,207.5 C31,249.23 31,440 31,440 C31,440 129.93,440 129.93,440 \" fill=\"none\" id=\"E3-&gt;E5\" style=\"stroke: #383838; stroke-width: 1.0;\"/><polygon fill=\"#383838\" points=\"134.93,440,125.93,436,129.93,440,125.93,444,134.93,440\" style=\"stroke: #383838; stroke-width: 1.0;\"/><text fill=\"#000000\" font-family=\"sans-serif\" font-size=\"13\" lengthAdjust=\"spacingAndGlyphs\" textLength=\"40\" x=\"59\" y=\"324.0669\">[false]</text></a><!--MD5=[1b7591eae5389033d8d09a9d6721a717]\n",
       "link E4 to E5--><a href=\"psysml:2ec4d8de-ba31-4f08-a58c-ce574f556666\" target=\"_top\" title=\"psysml:2ec4d8de-ba31-4f08-a58c-ce574f556666\" xlink:actuate=\"onRequest\" xlink:href=\"psysml:2ec4d8de-ba31-4f08-a58c-ce574f556666\" xlink:show=\"new\" xlink:title=\"psysml:2ec4d8de-ba31-4f08-a58c-ce574f556666\" xlink:type=\"simple\"><path d=\"M165,341.23 C165,341.23 165,412.93 165,412.93 \" fill=\"none\" id=\"E4-&gt;E5\" style=\"stroke: #383838; stroke-width: 1.0;\"/><polygon fill=\"#383838\" points=\"165,417.93,169,408.93,165,412.93,161,408.93,165,417.93\" style=\"stroke: #383838; stroke-width: 1.0;\"/><text fill=\"#000000\" font-family=\"sans-serif\" font-size=\"13\" lengthAdjust=\"spacingAndGlyphs\" textLength=\"55\" x=\"166\" y=\"384.0669\">[x == 0]</text></a><!--MD5=[f122d1cb90c6036f599e63d0e0aad918]\n",
       "@startuml\r\n",
       "skinparam linetype ortho\r\n",
       "skinparam monochrome true\r\n",
       "skinparam classbackgroundcolor white\r\n",
       "skinparam shadowing false\r\n",
       "skinparam wrapWidth 300\r\n",
       "hide circle\r\n",
       "\r\n",
       "rec def \"DecisionTest\" as E1  <<(T,blue) action def>> [[psysml:068a4463-a96d-4165-a2bc-cadf70a9bc09 ]] {\r\n",
       "choice \"test x\" as E2  [[psysml:44ee9e06-5fd9-46bf-b0f8-00dd693073b7 ]] \r\n",
       "choice \"noname\" as E3  [[psysml:eeb68ac4-2ad3-4e0c-9c18-140c63d1edba ]] \r\n",
       "rec usage \"A1\" as E4  <<(T,blue) action>> [[psysml:86b53981-b1ee-4c30-93d6-edfc048c3f3e ]] {\r\n",
       "}\r\n",
       "\r\n",
       "rec usage \"A2\" as E5  <<(T,blue) action>> [[psysml:38b4e12b-2856-48b1-8683-970a7e146d76 ]] {\r\n",
       "}\r\n",
       "\r\n",
       "rec usage \"A3\" as E6  <<(T,blue) action>> [[psysml:3ceea1c4-b769-4e45-b22d-b9b14232dc11 ]] {\r\n",
       "}\r\n",
       "\r\n",
       "rec usage \"A3\" as E7  <<(T,blue) action>> [[psysml:3ceea1c4-b769-4e45-b22d-b9b14232dc11 ]] {\r\n",
       "}\r\n",
       "\r\n",
       "}\r\n",
       "\r\n",
       "E2  - -> E4 [[psysml:5839aeb0-dd7d-4257-be26-6d697b84d54b ]] : [x == 1]\r\n",
       "E2  - -> E5 [[psysml:6472265e-4329-42f9-a73f-b0fdd653d81d ]] : [x > 1]\r\n",
       "E2  - -> E7 [[psysml:3c10905a-0cf4-4572-9b68-27220c544656 ]] \r\n",
       "E2 - -> E3 [[psysml:4534ef33-8eda-405a-b2f5-6c95fd446375 ]] \r\n",
       "E3  - -> E4 [[psysml:4cb33783-cb85-4624-8a6d-789ab5e27309 ]] : [true]\r\n",
       "E3  - -> E5 [[psysml:7566f218-2e4c-4b1d-8134-f6de9f4cb12f ]] : [false]\r\n",
       "E4  - -> E5 [[psysml:2ec4d8de-ba31-4f08-a58c-ce574f556666 ]] : [x == 0]\r\n",
       "E7  - -> E2 [[psysml:2ecae6e1-cb24-4407-809b-df9594bdb8fa ]] : [x > 0]\r\n",
       "@enduml\r\n",
       "\n",
       "PlantUML version 1.2020.13(Sat Jun 13 12:26:38 UTC 2020)\n",
       "(EPL source distribution)\n",
       "Java Runtime: OpenJDK Runtime Environment\n",
       "JVM: OpenJDK 64-Bit Server VM\n",
       "Default Encoding: UTF-8\n",
       "Language: en\n",
       "Country: null\n",
       "--></g></svg>"
      ]
     },
     "execution_count": 51,
     "metadata": {},
     "output_type": "execute_result"
    }
   ],
   "source": [
    "%viz --style=\"ORTHOLINE\" --view=\"Default\" \"DecisionTest\""
   ]
  },
  {
   "cell_type": "code",
   "execution_count": 52,
   "id": "d644bf5d",
   "metadata": {
    "execution": {
     "iopub.execute_input": "2021-06-30T09:20:32.040164Z",
     "iopub.status.busy": "2021-06-30T09:20:32.039399Z",
     "iopub.status.idle": "2021-06-30T09:20:32.095867Z",
     "shell.execute_reply": "2021-06-30T09:20:32.094050Z"
    }
   },
   "outputs": [
    {
     "data": {
      "image/svg+xml": [
       "<?xml version=\"1.0\" encoding=\"UTF-8\" standalone=\"no\"?><svg xmlns=\"http://www.w3.org/2000/svg\" xmlns:xlink=\"http://www.w3.org/1999/xlink\" contentScriptType=\"application/ecmascript\" contentStyleType=\"text/css\" height=\"228px\" preserveAspectRatio=\"none\" style=\"width:525px;height:228px;\" version=\"1.1\" viewBox=\"0 0 525 228\" width=\"525px\" zoomAndPan=\"magnify\"><defs/><g><!--MD5=[43c9051892ef23e1a46a86907403d788]\n",
       "class E1--><a href=\"psysml:068a4463-a96d-4165-a2bc-cadf70a9bc09\" target=\"_top\" title=\"psysml:068a4463-a96d-4165-a2bc-cadf70a9bc09\" xlink:actuate=\"onRequest\" xlink:href=\"psysml:068a4463-a96d-4165-a2bc-cadf70a9bc09\" xlink:show=\"new\" xlink:title=\"psysml:068a4463-a96d-4165-a2bc-cadf70a9bc09\" xlink:type=\"simple\"><rect fill=\"#FFFFFF\" height=\"105.1563\" id=\"E1\" style=\"stroke: #383838; stroke-width: 1.5;\" width=\"86\" x=\"308.5\" y=\"7\"/><text fill=\"#000000\" font-family=\"sans-serif\" font-size=\"12\" font-style=\"italic\" lengthAdjust=\"spacingAndGlyphs\" textLength=\"77\" x=\"313\" y=\"23.1387\">«action def»</text><text fill=\"#000000\" font-family=\"sans-serif\" font-size=\"12\" lengthAdjust=\"spacingAndGlyphs\" textLength=\"80\" x=\"311.5\" y=\"37.1074\">DecisionTest</text><line style=\"stroke: #383838; stroke-width: 1.5;\" x1=\"309.5\" x2=\"393.5\" y1=\"44.9375\" y2=\"44.9375\"/><text fill=\"#000000\" font-family=\"sans-serif\" font-size=\"11\" lengthAdjust=\"spacingAndGlyphs\" textLength=\"26\" x=\"314.5\" y=\"75.9526\">x=1;</text><line style=\"stroke: #383838; stroke-width: 1.0;\" x1=\"309.5\" x2=\"324\" y1=\"59.3398\" y2=\"59.3398\"/><text fill=\"#000000\" font-family=\"sans-serif\" font-size=\"11\" lengthAdjust=\"spacingAndGlyphs\" textLength=\"55\" x=\"324\" y=\"62.6479\">attributes</text><line style=\"stroke: #383838; stroke-width: 1.0;\" x1=\"379\" x2=\"393.5\" y1=\"59.3398\" y2=\"59.3398\"/><text fill=\"#000000\" font-family=\"sans-serif\" font-size=\"11\" lengthAdjust=\"spacingAndGlyphs\" textLength=\"8\" x=\"314.5\" y=\"105.562\">S</text><line style=\"stroke: #383838; stroke-width: 1.0;\" x1=\"309.5\" x2=\"321\" y1=\"88.9492\" y2=\"88.9492\"/><text fill=\"#000000\" font-family=\"sans-serif\" font-size=\"11\" lengthAdjust=\"spacingAndGlyphs\" textLength=\"61\" x=\"321\" y=\"92.2573\">transitions</text><line style=\"stroke: #383838; stroke-width: 1.0;\" x1=\"382\" x2=\"393.5\" y1=\"88.9492\" y2=\"88.9492\"/></a><!--MD5=[b4997ac47864f28c2f74865a473b2911]\n",
       "class E2--><a href=\"psysml:44ee9e06-5fd9-46bf-b0f8-00dd693073b7\" target=\"_top\" title=\"psysml:44ee9e06-5fd9-46bf-b0f8-00dd693073b7\" xlink:actuate=\"onRequest\" xlink:href=\"psysml:44ee9e06-5fd9-46bf-b0f8-00dd693073b7\" xlink:show=\"new\" xlink:title=\"psysml:44ee9e06-5fd9-46bf-b0f8-00dd693073b7\" xlink:type=\"simple\"><rect fill=\"#FFFFFF\" height=\"45.9375\" id=\"E2\" rx=\"10\" ry=\"10\" style=\"stroke: #383838; stroke-width: 1.5;\" width=\"101\" x=\"7\" y=\"172\"/><text fill=\"#000000\" font-family=\"sans-serif\" font-size=\"12\" font-style=\"italic\" lengthAdjust=\"spacingAndGlyphs\" textLength=\"99\" x=\"8\" y=\"188.1387\">«decisionNode»</text><text fill=\"#000000\" font-family=\"sans-serif\" font-size=\"12\" lengthAdjust=\"spacingAndGlyphs\" textLength=\"35\" x=\"40\" y=\"202.1074\">test x</text><line style=\"stroke: #383838; stroke-width: 1.5;\" x1=\"8\" x2=\"107\" y1=\"209.9375\" y2=\"209.9375\"/></a><!--MD5=[09b614a08d8cba4a07c9adeb5e0fee81]\n",
       "class E3--><a href=\"psysml:eeb68ac4-2ad3-4e0c-9c18-140c63d1edba\" target=\"_top\" title=\"psysml:eeb68ac4-2ad3-4e0c-9c18-140c63d1edba\" xlink:actuate=\"onRequest\" xlink:href=\"psysml:eeb68ac4-2ad3-4e0c-9c18-140c63d1edba\" xlink:show=\"new\" xlink:title=\"psysml:eeb68ac4-2ad3-4e0c-9c18-140c63d1edba\" xlink:type=\"simple\"><rect fill=\"#FFFFFF\" height=\"45.9375\" id=\"E3\" rx=\"10\" ry=\"10\" style=\"stroke: #383838; stroke-width: 1.5;\" width=\"101\" x=\"143\" y=\"172\"/><text fill=\"#000000\" font-family=\"sans-serif\" font-size=\"12\" font-style=\"italic\" lengthAdjust=\"spacingAndGlyphs\" textLength=\"99\" x=\"144\" y=\"188.1387\">«decisionNode»</text><text fill=\"#000000\" font-family=\"sans-serif\" font-size=\"12\" lengthAdjust=\"spacingAndGlyphs\" text-decoration=\"line-through\" textLength=\"51\" x=\"168\" y=\"202.1074\">noname</text><line style=\"stroke: #383838; stroke-width: 1.5;\" x1=\"144\" x2=\"243\" y1=\"209.9375\" y2=\"209.9375\"/></a><!--MD5=[ebbe1d658d1005bcc118a6aa81145e00]\n",
       "class E4--><a href=\"psysml:86b53981-b1ee-4c30-93d6-edfc048c3f3e\" target=\"_top\" title=\"psysml:86b53981-b1ee-4c30-93d6-edfc048c3f3e\" xlink:actuate=\"onRequest\" xlink:href=\"psysml:86b53981-b1ee-4c30-93d6-edfc048c3f3e\" xlink:show=\"new\" xlink:title=\"psysml:86b53981-b1ee-4c30-93d6-edfc048c3f3e\" xlink:type=\"simple\"><rect fill=\"#FFFFFF\" height=\"45.9375\" id=\"E4\" rx=\"10\" ry=\"10\" style=\"stroke: #383838; stroke-width: 1.5;\" width=\"55\" x=\"279\" y=\"172\"/><text fill=\"#000000\" font-family=\"sans-serif\" font-size=\"12\" font-style=\"italic\" lengthAdjust=\"spacingAndGlyphs\" textLength=\"53\" x=\"280\" y=\"188.1387\">«action»</text><text fill=\"#000000\" font-family=\"sans-serif\" font-size=\"12\" lengthAdjust=\"spacingAndGlyphs\" textLength=\"16\" x=\"298.5\" y=\"202.1074\">A1</text><line style=\"stroke: #383838; stroke-width: 1.5;\" x1=\"280\" x2=\"333\" y1=\"209.9375\" y2=\"209.9375\"/></a><!--MD5=[270fce915f116d4de14055a7c1d9a0f3]\n",
       "class E5--><a href=\"psysml:38b4e12b-2856-48b1-8683-970a7e146d76\" target=\"_top\" title=\"psysml:38b4e12b-2856-48b1-8683-970a7e146d76\" xlink:actuate=\"onRequest\" xlink:href=\"psysml:38b4e12b-2856-48b1-8683-970a7e146d76\" xlink:show=\"new\" xlink:title=\"psysml:38b4e12b-2856-48b1-8683-970a7e146d76\" xlink:type=\"simple\"><rect fill=\"#FFFFFF\" height=\"45.9375\" id=\"E5\" rx=\"10\" ry=\"10\" style=\"stroke: #383838; stroke-width: 1.5;\" width=\"55\" x=\"369\" y=\"172\"/><text fill=\"#000000\" font-family=\"sans-serif\" font-size=\"12\" font-style=\"italic\" lengthAdjust=\"spacingAndGlyphs\" textLength=\"53\" x=\"370\" y=\"188.1387\">«action»</text><text fill=\"#000000\" font-family=\"sans-serif\" font-size=\"12\" lengthAdjust=\"spacingAndGlyphs\" textLength=\"16\" x=\"388.5\" y=\"202.1074\">A2</text><line style=\"stroke: #383838; stroke-width: 1.5;\" x1=\"370\" x2=\"423\" y1=\"209.9375\" y2=\"209.9375\"/></a><!--MD5=[60a26617385b1d2d0262a64233df1f8d]\n",
       "class E6--><a href=\"psysml:3ceea1c4-b769-4e45-b22d-b9b14232dc11\" target=\"_top\" title=\"psysml:3ceea1c4-b769-4e45-b22d-b9b14232dc11\" xlink:actuate=\"onRequest\" xlink:href=\"psysml:3ceea1c4-b769-4e45-b22d-b9b14232dc11\" xlink:show=\"new\" xlink:title=\"psysml:3ceea1c4-b769-4e45-b22d-b9b14232dc11\" xlink:type=\"simple\"><rect fill=\"#FFFFFF\" height=\"45.9375\" id=\"E6\" rx=\"10\" ry=\"10\" style=\"stroke: #383838; stroke-width: 1.5;\" width=\"55\" x=\"459\" y=\"172\"/><text fill=\"#000000\" font-family=\"sans-serif\" font-size=\"12\" font-style=\"italic\" lengthAdjust=\"spacingAndGlyphs\" textLength=\"53\" x=\"460\" y=\"188.1387\">«action»</text><text fill=\"#000000\" font-family=\"sans-serif\" font-size=\"12\" lengthAdjust=\"spacingAndGlyphs\" textLength=\"16\" x=\"478.5\" y=\"202.1074\">A3</text><line style=\"stroke: #383838; stroke-width: 1.5;\" x1=\"460\" x2=\"513\" y1=\"209.9375\" y2=\"209.9375\"/></a><!--MD5=[a523cb2a0b79ecf9065ad8783f96c320]\n",
       "reverse link E1 to E2--><a href=\"psysml:3f40863b-0a66-456a-a380-cfd414bf0804\" target=\"_top\" title=\"psysml:3f40863b-0a66-456a-a380-cfd414bf0804\" xlink:actuate=\"onRequest\" xlink:href=\"psysml:3f40863b-0a66-456a-a380-cfd414bf0804\" xlink:show=\"new\" xlink:title=\"psysml:3f40863b-0a66-456a-a380-cfd414bf0804\" xlink:type=\"simple\"><path d=\"M295.44,42 C295.44,42 57.5,42 57.5,42 C57.5,42 57.5,128.96 57.5,171.76 \" fill=\"none\" id=\"E1&lt;-E2\" style=\"stroke: #383838; stroke-width: 1.0;\"/><polygon fill=\"#383838\" points=\"308.44,42,302.4444,37.9934,296.44,41.9868,302.4356,45.9934,308.44,42\" style=\"stroke: #383838; stroke-width: 1.0;\"/></a><!--MD5=[5d7b3810b1dd9b5164bea1151b29b665]\n",
       "reverse link E1 to E3--><a href=\"psysml:e2578a6b-d48b-4dd6-b58c-18f093f1f29f\" target=\"_top\" title=\"psysml:e2578a6b-d48b-4dd6-b58c-18f093f1f29f\" xlink:actuate=\"onRequest\" xlink:href=\"psysml:e2578a6b-d48b-4dd6-b58c-18f093f1f29f\" xlink:show=\"new\" xlink:title=\"psysml:e2578a6b-d48b-4dd6-b58c-18f093f1f29f\" xlink:type=\"simple\"><path d=\"M295.33,77 C295.33,77 193.5,77 193.5,77 C193.5,77 193.5,137.63 193.5,171.97 \" fill=\"none\" id=\"E1&lt;-E3\" style=\"stroke: #383838; stroke-width: 1.0;\"/><polygon fill=\"#383838\" points=\"308.33,77,302.33,73,296.33,77,302.33,81,308.33,77\" style=\"stroke: #383838; stroke-width: 1.0;\"/></a><!--MD5=[f2c5c03aa1e8c0ba21c10a05e6444b8e]\n",
       "reverse link E1 to E4--><a href=\"psysml:7583b8d6-81fb-44fd-88ce-ec05d2d7f8f3\" target=\"_top\" title=\"psysml:7583b8d6-81fb-44fd-88ce-ec05d2d7f8f3\" xlink:actuate=\"onRequest\" xlink:href=\"psysml:7583b8d6-81fb-44fd-88ce-ec05d2d7f8f3\" xlink:show=\"new\" xlink:title=\"psysml:7583b8d6-81fb-44fd-88ce-ec05d2d7f8f3\" xlink:type=\"simple\"><path d=\"M321.25,125.28 C321.25,125.28 321.25,171.9 321.25,171.9 \" fill=\"none\" id=\"E1&lt;-E4\" style=\"stroke: #383838; stroke-width: 1.0;\"/><polygon fill=\"#383838\" points=\"321.25,112.28,317.25,118.28,321.25,124.28,325.25,118.28,321.25,112.28\" style=\"stroke: #383838; stroke-width: 1.0;\"/></a><!--MD5=[33238bef88d6431a141d8bc8fb12bca0]\n",
       "reverse link E1 to E5--><a href=\"psysml:1b62ef88-94e5-4ba0-8e17-6cec1f6133af\" target=\"_top\" title=\"psysml:1b62ef88-94e5-4ba0-8e17-6cec1f6133af\" xlink:actuate=\"onRequest\" xlink:href=\"psysml:1b62ef88-94e5-4ba0-8e17-6cec1f6133af\" xlink:show=\"new\" xlink:title=\"psysml:1b62ef88-94e5-4ba0-8e17-6cec1f6133af\" xlink:type=\"simple\"><path d=\"M381.75,125.28 C381.75,125.28 381.75,171.9 381.75,171.9 \" fill=\"none\" id=\"E1&lt;-E5\" style=\"stroke: #383838; stroke-width: 1.0;\"/><polygon fill=\"#383838\" points=\"381.75,112.28,377.75,118.28,381.75,124.28,385.75,118.28,381.75,112.28\" style=\"stroke: #383838; stroke-width: 1.0;\"/></a><!--MD5=[aca2ef284c2b1b90e17e73bf3f292c07]\n",
       "reverse link E1 to E6--><a href=\"psysml:6d478a35-76b8-45be-be82-2204dec34e47\" target=\"_top\" title=\"psysml:6d478a35-76b8-45be-be82-2204dec34e47\" xlink:actuate=\"onRequest\" xlink:href=\"psysml:6d478a35-76b8-45be-be82-2204dec34e47\" xlink:show=\"new\" xlink:title=\"psysml:6d478a35-76b8-45be-be82-2204dec34e47\" xlink:type=\"simple\"><path d=\"M407.75,42 C407.75,42 495.67,42 495.67,42 C495.67,42 495.67,128.96 495.67,171.76 \" fill=\"none\" id=\"E1&lt;-E6\" style=\"stroke: #383838; stroke-width: 1.0;\"/><polygon fill=\"#383838\" points=\"394.75,42,400.75,46,406.75,42,400.75,38,394.75,42\" style=\"stroke: #383838; stroke-width: 1.0;\"/></a><!--MD5=[aca2ef284c2b1b90e17e73bf3f292c07]\n",
       "reverse link E1 to E6--><a href=\"psysml:637c00ed-dc37-460b-98af-77d0acff244f\" target=\"_top\" title=\"psysml:637c00ed-dc37-460b-98af-77d0acff244f\" xlink:actuate=\"onRequest\" xlink:href=\"psysml:637c00ed-dc37-460b-98af-77d0acff244f\" xlink:show=\"new\" xlink:title=\"psysml:637c00ed-dc37-460b-98af-77d0acff244f\" xlink:type=\"simple\"><path d=\"M407.8,77 C407.8,77 477.33,77 477.33,77 C477.33,77 477.33,137.63 477.33,171.97 \" fill=\"none\" id=\"E1&lt;-E6-1\" style=\"stroke: #383838; stroke-width: 1.0;\"/><polygon fill=\"#FFFFFF\" points=\"394.8,77,400.8,81,406.8,77,400.8,73,394.8,77\" style=\"stroke: #383838; stroke-width: 1.0;\"/></a><!--MD5=[63808a3827ea561f911fe08625de9e1d]\n",
       "@startuml\r\n",
       "skinparam linetype ortho\r\n",
       "skinparam monochrome true\r\n",
       "skinparam classbackgroundcolor white\r\n",
       "skinparam shadowing false\r\n",
       "skinparam wrapWidth 300\r\n",
       "hide circle\r\n",
       "\r\n",
       "comp def \"DecisionTest\" as E1  <<(T,blue) action def>> [[psysml:068a4463-a96d-4165-a2bc-cadf70a9bc09 ]] {\r\n",
       "- - attributes - -\r\n",
       "x=1; \r\n",
       "- - transitions - -\r\n",
       "S\r\n",
       "}\r\n",
       "comp usage \"test x\" as E2  <<(T,blue) decisionNode>> [[psysml:44ee9e06-5fd9-46bf-b0f8-00dd693073b7 ]] {\r\n",
       "}\r\n",
       "comp usage \"<s>noname</s>\" as E3  <<(T,blue) decisionNode>> [[psysml:eeb68ac4-2ad3-4e0c-9c18-140c63d1edba ]] {\r\n",
       "}\r\n",
       "comp usage \"A1\" as E4  <<(T,blue) action>> [[psysml:86b53981-b1ee-4c30-93d6-edfc048c3f3e ]] {\r\n",
       "}\r\n",
       "comp usage \"A2\" as E5  <<(T,blue) action>> [[psysml:38b4e12b-2856-48b1-8683-970a7e146d76 ]] {\r\n",
       "}\r\n",
       "comp usage \"A3\" as E6  <<(T,blue) action>> [[psysml:3ceea1c4-b769-4e45-b22d-b9b14232dc11 ]] {\r\n",
       "}\r\n",
       "E1 *- - E2 [[psysml:3f40863b-0a66-456a-a380-cfd414bf0804 ]] \r\n",
       "E1 *- - E3 [[psysml:e2578a6b-d48b-4dd6-b58c-18f093f1f29f ]] \r\n",
       "E1 *- - E4 [[psysml:7583b8d6-81fb-44fd-88ce-ec05d2d7f8f3 ]] \r\n",
       "E1 *- - E5 [[psysml:1b62ef88-94e5-4ba0-8e17-6cec1f6133af ]] \r\n",
       "E1 *- - E6 [[psysml:6d478a35-76b8-45be-be82-2204dec34e47 ]] \r\n",
       "E1 o- - E6 [[psysml:637c00ed-dc37-460b-98af-77d0acff244f ]] \r\n",
       "@enduml\r\n",
       "\n",
       "PlantUML version 1.2020.13(Sat Jun 13 12:26:38 UTC 2020)\n",
       "(EPL source distribution)\n",
       "Java Runtime: OpenJDK Runtime Environment\n",
       "JVM: OpenJDK 64-Bit Server VM\n",
       "Default Encoding: UTF-8\n",
       "Language: en\n",
       "Country: null\n",
       "--></g></svg>"
      ]
     },
     "execution_count": 52,
     "metadata": {},
     "output_type": "execute_result"
    }
   ],
   "source": [
    "%viz --style=\"ORTHOLINE\" --view=\"Tree\" \"DecisionTest\""
   ]
  },
  {
   "cell_type": "code",
   "execution_count": 53,
   "id": "e7bdab74",
   "metadata": {
    "execution": {
     "iopub.execute_input": "2021-06-30T09:20:32.147707Z",
     "iopub.status.busy": "2021-06-30T09:20:32.147132Z",
     "iopub.status.idle": "2021-06-30T09:20:32.152552Z",
     "shell.execute_reply": "2021-06-30T09:20:32.152233Z"
    }
   },
   "outputs": [
    {
     "data": {
      "image/svg+xml": [
       "<?xml version=\"1.0\" encoding=\"UTF-8\" standalone=\"no\"?><svg xmlns=\"http://www.w3.org/2000/svg\" xmlns:xlink=\"http://www.w3.org/1999/xlink\" contentScriptType=\"application/ecmascript\" contentStyleType=\"text/css\" height=\"12px\" preserveAspectRatio=\"none\" style=\"width:12px;height:12px;\" version=\"1.1\" viewBox=\"0 0 12 12\" width=\"12px\" zoomAndPan=\"magnify\"><defs/><g><!--MD5=[97d6f38768b311333d388e66b2b27985]\n",
       "@startuml\r\n",
       "skinparam linetype ortho\r\n",
       "skinparam monochrome true\r\n",
       "skinparam classbackgroundcolor white\r\n",
       "skinparam shadowing false\r\n",
       "skinparam wrapWidth 300\r\n",
       "hide circle\r\n",
       "\r\n",
       "@enduml\r\n",
       "\n",
       "PlantUML version 1.2020.13(Sat Jun 13 12:26:38 UTC 2020)\n",
       "(EPL source distribution)\n",
       "Java Runtime: OpenJDK Runtime Environment\n",
       "JVM: OpenJDK 64-Bit Server VM\n",
       "Default Encoding: UTF-8\n",
       "Language: en\n",
       "Country: null\n",
       "--></g></svg>"
      ]
     },
     "execution_count": 53,
     "metadata": {},
     "output_type": "execute_result"
    }
   ],
   "source": [
    "%viz --style=\"ORTHOLINE\" --view=\"State\" \"DecisionTest\""
   ]
  },
  {
   "cell_type": "code",
   "execution_count": 54,
   "id": "a72beb9b",
   "metadata": {
    "execution": {
     "iopub.execute_input": "2021-06-30T09:20:32.204068Z",
     "iopub.status.busy": "2021-06-30T09:20:32.203371Z",
     "iopub.status.idle": "2021-06-30T09:20:32.246060Z",
     "shell.execute_reply": "2021-06-30T09:20:32.245615Z"
    }
   },
   "outputs": [
    {
     "data": {
      "image/svg+xml": [
       "<?xml version=\"1.0\" encoding=\"UTF-8\" standalone=\"no\"?><svg xmlns=\"http://www.w3.org/2000/svg\" xmlns:xlink=\"http://www.w3.org/1999/xlink\" contentScriptType=\"application/ecmascript\" contentStyleType=\"text/css\" height=\"356px\" preserveAspectRatio=\"none\" style=\"width:333px;height:356px;\" version=\"1.1\" viewBox=\"0 0 333 356\" width=\"333px\" zoomAndPan=\"magnify\"><defs/><g><!--MD5=[fbc87193dbaf4d95561dea2c320d4a47]\n",
       "cluster E1--><a href=\"psysml:068a4463-a96d-4165-a2bc-cadf70a9bc09\" target=\"_top\" title=\"psysml:068a4463-a96d-4165-a2bc-cadf70a9bc09\" xlink:actuate=\"onRequest\" xlink:href=\"psysml:068a4463-a96d-4165-a2bc-cadf70a9bc09\" xlink:show=\"new\" xlink:title=\"psysml:068a4463-a96d-4165-a2bc-cadf70a9bc09\" xlink:type=\"simple\"><rect fill=\"#FFFFFF\" height=\"338\" id=\"E1\" style=\"stroke: #383838; stroke-width: 1.5;\" width=\"315\" x=\"7\" y=\"7\"/><rect fill=\"#F8F8F8\" height=\"37.9375\" style=\"stroke: #383838; stroke-width: 1.5;\" width=\"315\" x=\"7\" y=\"7\"/><text fill=\"#000000\" font-family=\"sans-serif\" font-size=\"12\" font-style=\"italic\" lengthAdjust=\"spacingAndGlyphs\" textLength=\"77\" x=\"126\" y=\"23.1387\">«action def»</text><text fill=\"#000000\" font-family=\"sans-serif\" font-size=\"12\" lengthAdjust=\"spacingAndGlyphs\" textLength=\"80\" x=\"124.5\" y=\"37.1074\">DecisionTest</text></a><polygon fill=\"#F8F8F8\" points=\"210,67.5,222,79.5,210,91.5,198,79.5,210,67.5\" style=\"stroke: #383838; stroke-width: 1.5;\"/><polygon fill=\"#F8F8F8\" points=\"35,143.5,47,155.5,35,167.5,23,155.5,35,143.5\" style=\"stroke: #383838; stroke-width: 1.5;\"/><g id=\"E1.E4\"><a href=\"psysml:86b53981-b1ee-4c30-93d6-edfc048c3f3e\" target=\"_top\" title=\"psysml:86b53981-b1ee-4c30-93d6-edfc048c3f3e\" xlink:actuate=\"onRequest\" xlink:href=\"psysml:86b53981-b1ee-4c30-93d6-edfc048c3f3e\" xlink:show=\"new\" xlink:title=\"psysml:86b53981-b1ee-4c30-93d6-edfc048c3f3e\" xlink:type=\"simple\"><rect fill=\"#FFFFFF\" height=\"42.9375\" id=\"E4\" rx=\"10\" ry=\"10\" style=\"stroke: #383838; stroke-width: 1.5;\" width=\"60\" x=\"135\" y=\"210\"/><rect fill=\"#F8F8F8\" height=\"37.9375\" rx=\"10\" ry=\"10\" style=\"stroke: #F8F8F8; stroke-width: 1.5;\" width=\"60\" x=\"135\" y=\"210\"/><rect fill=\"#F8F8F8\" height=\"10\" style=\"stroke: #F8F8F8; stroke-width: 1.5;\" width=\"60\" x=\"135\" y=\"237.9375\"/><rect fill=\"none\" height=\"42.9375\" id=\"E4\" rx=\"10\" ry=\"10\" style=\"stroke: #383838; stroke-width: 1.5;\" width=\"60\" x=\"135\" y=\"210\"/><text fill=\"#000000\" font-family=\"sans-serif\" font-size=\"12\" font-style=\"italic\" lengthAdjust=\"spacingAndGlyphs\" textLength=\"53\" x=\"138.5\" y=\"226.1387\">«action»</text><text fill=\"#000000\" font-family=\"sans-serif\" font-size=\"12\" lengthAdjust=\"spacingAndGlyphs\" textLength=\"16\" x=\"157\" y=\"240.1074\">A1</text></a></g><g id=\"E1.E5\"><a href=\"psysml:38b4e12b-2856-48b1-8683-970a7e146d76\" target=\"_top\" title=\"psysml:38b4e12b-2856-48b1-8683-970a7e146d76\" xlink:actuate=\"onRequest\" xlink:href=\"psysml:38b4e12b-2856-48b1-8683-970a7e146d76\" xlink:show=\"new\" xlink:title=\"psysml:38b4e12b-2856-48b1-8683-970a7e146d76\" xlink:type=\"simple\"><rect fill=\"#FFFFFF\" height=\"42.9375\" id=\"E5\" rx=\"10\" ry=\"10\" style=\"stroke: #383838; stroke-width: 1.5;\" width=\"60\" x=\"135\" y=\"286\"/><rect fill=\"#F8F8F8\" height=\"37.9375\" rx=\"10\" ry=\"10\" style=\"stroke: #F8F8F8; stroke-width: 1.5;\" width=\"60\" x=\"135\" y=\"286\"/><rect fill=\"#F8F8F8\" height=\"10\" style=\"stroke: #F8F8F8; stroke-width: 1.5;\" width=\"60\" x=\"135\" y=\"313.9375\"/><rect fill=\"none\" height=\"42.9375\" id=\"E5\" rx=\"10\" ry=\"10\" style=\"stroke: #383838; stroke-width: 1.5;\" width=\"60\" x=\"135\" y=\"286\"/><text fill=\"#000000\" font-family=\"sans-serif\" font-size=\"12\" font-style=\"italic\" lengthAdjust=\"spacingAndGlyphs\" textLength=\"53\" x=\"138.5\" y=\"302.1387\">«action»</text><text fill=\"#000000\" font-family=\"sans-serif\" font-size=\"12\" lengthAdjust=\"spacingAndGlyphs\" textLength=\"16\" x=\"157\" y=\"316.1074\">A2</text></a></g><g id=\"E1.E6\"><a href=\"psysml:3ceea1c4-b769-4e45-b22d-b9b14232dc11\" target=\"_top\" title=\"psysml:3ceea1c4-b769-4e45-b22d-b9b14232dc11\" xlink:actuate=\"onRequest\" xlink:href=\"psysml:3ceea1c4-b769-4e45-b22d-b9b14232dc11\" xlink:show=\"new\" xlink:title=\"psysml:3ceea1c4-b769-4e45-b22d-b9b14232dc11\" xlink:type=\"simple\"><rect fill=\"#FFFFFF\" height=\"42.9375\" id=\"E6\" rx=\"10\" ry=\"10\" style=\"stroke: #383838; stroke-width: 1.5;\" width=\"60\" x=\"63\" y=\"58\"/><rect fill=\"#F8F8F8\" height=\"37.9375\" rx=\"10\" ry=\"10\" style=\"stroke: #F8F8F8; stroke-width: 1.5;\" width=\"60\" x=\"63\" y=\"58\"/><rect fill=\"#F8F8F8\" height=\"10\" style=\"stroke: #F8F8F8; stroke-width: 1.5;\" width=\"60\" x=\"63\" y=\"85.9375\"/><rect fill=\"none\" height=\"42.9375\" id=\"E6\" rx=\"10\" ry=\"10\" style=\"stroke: #383838; stroke-width: 1.5;\" width=\"60\" x=\"63\" y=\"58\"/><text fill=\"#000000\" font-family=\"sans-serif\" font-size=\"12\" font-style=\"italic\" lengthAdjust=\"spacingAndGlyphs\" textLength=\"53\" x=\"66.5\" y=\"74.1387\">«action»</text><text fill=\"#000000\" font-family=\"sans-serif\" font-size=\"12\" lengthAdjust=\"spacingAndGlyphs\" textLength=\"16\" x=\"85\" y=\"88.1074\">A3</text></a></g><g id=\"E1.E7\"><a href=\"psysml:3ceea1c4-b769-4e45-b22d-b9b14232dc11\" target=\"_top\" title=\"psysml:3ceea1c4-b769-4e45-b22d-b9b14232dc11\" xlink:actuate=\"onRequest\" xlink:href=\"psysml:3ceea1c4-b769-4e45-b22d-b9b14232dc11\" xlink:show=\"new\" xlink:title=\"psysml:3ceea1c4-b769-4e45-b22d-b9b14232dc11\" xlink:type=\"simple\"><rect fill=\"#FFFFFF\" height=\"42.9375\" id=\"E7\" rx=\"10\" ry=\"10\" style=\"stroke: #383838; stroke-width: 1.5;\" width=\"60\" x=\"246\" y=\"134\"/><rect fill=\"#F8F8F8\" height=\"37.9375\" rx=\"10\" ry=\"10\" style=\"stroke: #F8F8F8; stroke-width: 1.5;\" width=\"60\" x=\"246\" y=\"134\"/><rect fill=\"#F8F8F8\" height=\"10\" style=\"stroke: #F8F8F8; stroke-width: 1.5;\" width=\"60\" x=\"246\" y=\"161.9375\"/><rect fill=\"none\" height=\"42.9375\" id=\"E7\" rx=\"10\" ry=\"10\" style=\"stroke: #383838; stroke-width: 1.5;\" width=\"60\" x=\"246\" y=\"134\"/><text fill=\"#000000\" font-family=\"sans-serif\" font-size=\"12\" font-style=\"italic\" lengthAdjust=\"spacingAndGlyphs\" textLength=\"53\" x=\"249.5\" y=\"150.1387\">«action»</text><text fill=\"#000000\" font-family=\"sans-serif\" font-size=\"12\" lengthAdjust=\"spacingAndGlyphs\" textLength=\"16\" x=\"268\" y=\"164.1074\">A3</text></a></g><!--MD5=[4d03bb2d0377dc85ccfab60ff574652b]\n",
       "link E2 to E4--><a href=\"psysml:5839aeb0-dd7d-4257-be26-6d697b84d54b\" target=\"_top\" title=\"psysml:5839aeb0-dd7d-4257-be26-6d697b84d54b\" xlink:actuate=\"onRequest\" xlink:href=\"psysml:5839aeb0-dd7d-4257-be26-6d697b84d54b\" xlink:show=\"new\" xlink:title=\"psysml:5839aeb0-dd7d-4257-be26-6d697b84d54b\" xlink:type=\"simple\"><path d=\"M206,87.7 C206,119.37 206,232 206,232 C206,232 200.23,232 200.23,232 \" fill=\"none\" id=\"E2-&gt;E4\" style=\"stroke: #383838; stroke-width: 1.0;\"/><polygon fill=\"#383838\" points=\"195.23,232,204.23,236,200.23,232,204.23,228,195.23,232\" style=\"stroke: #383838; stroke-width: 1.0;\"/><text fill=\"#000000\" font-family=\"sans-serif\" font-size=\"13\" lengthAdjust=\"spacingAndGlyphs\" textLength=\"55\" x=\"118\" y=\"160.0669\">[x == 1]</text></a><!--MD5=[dcad52bbbca2fe8adc741ce38b45dc12]\n",
       "link E2 to E5--><a href=\"psysml:6472265e-4329-42f9-a73f-b0fdd653d81d\" target=\"_top\" title=\"psysml:6472265e-4329-42f9-a73f-b0fdd653d81d\" xlink:actuate=\"onRequest\" xlink:href=\"psysml:6472265e-4329-42f9-a73f-b0fdd653d81d\" xlink:show=\"new\" xlink:title=\"psysml:6472265e-4329-42f9-a73f-b0fdd653d81d\" xlink:type=\"simple\"><path d=\"M210,91.79 C210,139.25 210,308 210,308 C210,308 200.02,308 200.02,308 \" fill=\"none\" id=\"E2-&gt;E5\" style=\"stroke: #383838; stroke-width: 1.0;\"/><polygon fill=\"#383838\" points=\"195.02,308,204.02,312,200.02,308,204.02,304,195.02,308\" style=\"stroke: #383838; stroke-width: 1.0;\"/><text fill=\"#000000\" font-family=\"sans-serif\" font-size=\"13\" lengthAdjust=\"spacingAndGlyphs\" textLength=\"44\" x=\"221\" y=\"198.0669\">[x &gt; 1]</text></a><!--MD5=[e3d2a08a9c9236652057e8ed0cbc9b62]\n",
       "link E2 to E7--><a href=\"psysml:3c10905a-0cf4-4572-9b68-27220c544656\" target=\"_top\" title=\"psysml:3c10905a-0cf4-4572-9b68-27220c544656\" xlink:actuate=\"onRequest\" xlink:href=\"psysml:3c10905a-0cf4-4572-9b68-27220c544656\" xlink:show=\"new\" xlink:title=\"psysml:3c10905a-0cf4-4572-9b68-27220c544656\" xlink:type=\"simple\"><path d=\"M218,83.71 C218,97.12 218,138 218,138 C218,138 240.98,138 240.98,138 \" fill=\"none\" id=\"E2-&gt;E7\" style=\"stroke: #383838; stroke-width: 1.0;\"/><polygon fill=\"#383838\" points=\"245.98,138,236.98,134,240.98,138,236.98,142,245.98,138\" style=\"stroke: #383838; stroke-width: 1.0;\"/></a><!--MD5=[583832df87f4419a098336a29a52fa00]\n",
       "link E7 to E2--><a href=\"psysml:2ecae6e1-cb24-4407-809b-df9594bdb8fa\" target=\"_top\" title=\"psysml:2ecae6e1-cb24-4407-809b-df9594bdb8fa\" xlink:actuate=\"onRequest\" xlink:href=\"psysml:2ecae6e1-cb24-4407-809b-df9594bdb8fa\" xlink:show=\"new\" xlink:title=\"psysml:2ecae6e1-cb24-4407-809b-df9594bdb8fa\" xlink:type=\"simple\"><path d=\"M245.73,141 C229.99,141 214,141 214,141 C214,141 214,92.54 214,92.54 \" fill=\"none\" id=\"E7-&gt;E2\" style=\"stroke: #383838; stroke-width: 1.0;\"/><polygon fill=\"#383838\" points=\"214,87.54,210,96.54,214,92.54,218,96.54,214,87.54\" style=\"stroke: #383838; stroke-width: 1.0;\"/><text fill=\"#000000\" font-family=\"sans-serif\" font-size=\"13\" lengthAdjust=\"spacingAndGlyphs\" textLength=\"44\" x=\"260\" y=\"122.0669\">[x &gt; 0]</text></a><!--MD5=[2720a5a1f2c3fca2055b230370638851]\n",
       "link E2 to E3--><a href=\"psysml:4534ef33-8eda-405a-b2f5-6c95fd446375\" target=\"_top\" title=\"psysml:4534ef33-8eda-405a-b2f5-6c95fd446375\" xlink:actuate=\"onRequest\" xlink:href=\"psysml:4534ef33-8eda-405a-b2f5-6c95fd446375\" xlink:show=\"new\" xlink:title=\"psysml:4534ef33-8eda-405a-b2f5-6c95fd446375\" xlink:type=\"simple\"><path d=\"M202,83.61 C202,99.5 202,156 202,156 C202,156 51.74,156 51.74,156 \" fill=\"none\" id=\"E2-&gt;E3\" style=\"stroke: #383838; stroke-width: 1.0;\"/><polygon fill=\"#383838\" points=\"46.74,156,55.74,160,51.74,156,55.74,152,46.74,156\" style=\"stroke: #383838; stroke-width: 1.0;\"/></a><!--MD5=[af87c684e3b0d8be13c1a698a818ef1e]\n",
       "link E3 to E4--><a href=\"psysml:4cb33783-cb85-4624-8a6d-789ab5e27309\" target=\"_top\" title=\"psysml:4cb33783-cb85-4624-8a6d-789ab5e27309\" xlink:actuate=\"onRequest\" xlink:href=\"psysml:4cb33783-cb85-4624-8a6d-789ab5e27309\" xlink:show=\"new\" xlink:title=\"psysml:4cb33783-cb85-4624-8a6d-789ab5e27309\" xlink:type=\"simple\"><path d=\"M39,163.69 C39,183.42 39,232 39,232 C39,232 129.82,232 129.82,232 \" fill=\"none\" id=\"E3-&gt;E4\" style=\"stroke: #383838; stroke-width: 1.0;\"/><polygon fill=\"#383838\" points=\"134.82,232,125.82,228,129.82,232,125.82,236,134.82,232\" style=\"stroke: #383838; stroke-width: 1.0;\"/><text fill=\"#000000\" font-family=\"sans-serif\" font-size=\"13\" lengthAdjust=\"spacingAndGlyphs\" textLength=\"36\" x=\"88\" y=\"198.0669\">[true]</text></a><!--MD5=[0188b64bb0ae78505a997a81836e11e9]\n",
       "link E3 to E5--><a href=\"psysml:7566f218-2e4c-4b1d-8134-f6de9f4cb12f\" target=\"_top\" title=\"psysml:7566f218-2e4c-4b1d-8134-f6de9f4cb12f\" xlink:actuate=\"onRequest\" xlink:href=\"psysml:7566f218-2e4c-4b1d-8134-f6de9f4cb12f\" xlink:show=\"new\" xlink:title=\"psysml:7566f218-2e4c-4b1d-8134-f6de9f4cb12f\" xlink:type=\"simple\"><path d=\"M31,163.7 C31,195.37 31,308 31,308 C31,308 129.93,308 129.93,308 \" fill=\"none\" id=\"E3-&gt;E5\" style=\"stroke: #383838; stroke-width: 1.0;\"/><polygon fill=\"#383838\" points=\"134.93,308,125.93,304,129.93,308,125.93,312,134.93,308\" style=\"stroke: #383838; stroke-width: 1.0;\"/><text fill=\"#000000\" font-family=\"sans-serif\" font-size=\"13\" lengthAdjust=\"spacingAndGlyphs\" textLength=\"40\" x=\"59\" y=\"236.0669\">[false]</text></a><!--MD5=[1b7591eae5389033d8d09a9d6721a717]\n",
       "link E4 to E5--><a href=\"psysml:2ec4d8de-ba31-4f08-a58c-ce574f556666\" target=\"_top\" title=\"psysml:2ec4d8de-ba31-4f08-a58c-ce574f556666\" xlink:actuate=\"onRequest\" xlink:href=\"psysml:2ec4d8de-ba31-4f08-a58c-ce574f556666\" xlink:show=\"new\" xlink:title=\"psysml:2ec4d8de-ba31-4f08-a58c-ce574f556666\" xlink:type=\"simple\"><path d=\"M165,253.08 C165,253.08 165,280.87 165,280.87 \" fill=\"none\" id=\"E4-&gt;E5\" style=\"stroke: #383838; stroke-width: 1.0;\"/><polygon fill=\"#383838\" points=\"165,285.87,169,276.87,165,280.87,161,276.87,165,285.87\" style=\"stroke: #383838; stroke-width: 1.0;\"/><text fill=\"#000000\" font-family=\"sans-serif\" font-size=\"13\" lengthAdjust=\"spacingAndGlyphs\" textLength=\"55\" x=\"166\" y=\"274.0669\">[x == 0]</text></a><!--MD5=[7072f6ce535003f83d8e1dacae0886ad]\n",
       "@startuml\r\n",
       "skinparam ranksep 10\r\n",
       "skinparam rectangle {\r\n",
       " backgroundColor<<block>> LightGreen\r\n",
       "}\r\n",
       "skinparam linetype ortho\r\n",
       "skinparam monochrome true\r\n",
       "skinparam classbackgroundcolor white\r\n",
       "skinparam shadowing false\r\n",
       "skinparam wrapWidth 300\r\n",
       "hide circle\r\n",
       "\r\n",
       "rec def \"DecisionTest\" as E1  <<(T,blue) action def>> [[psysml:068a4463-a96d-4165-a2bc-cadf70a9bc09 ]] {\r\n",
       "choice \"test x\" as E2  [[psysml:44ee9e06-5fd9-46bf-b0f8-00dd693073b7 ]] \r\n",
       "choice \"noname\" as E3  [[psysml:eeb68ac4-2ad3-4e0c-9c18-140c63d1edba ]] \r\n",
       "rec usage \"A1\" as E4  <<(T,blue) action>> [[psysml:86b53981-b1ee-4c30-93d6-edfc048c3f3e ]] {\r\n",
       "}\r\n",
       "\r\n",
       "rec usage \"A2\" as E5  <<(T,blue) action>> [[psysml:38b4e12b-2856-48b1-8683-970a7e146d76 ]] {\r\n",
       "}\r\n",
       "\r\n",
       "rec usage \"A3\" as E6  <<(T,blue) action>> [[psysml:3ceea1c4-b769-4e45-b22d-b9b14232dc11 ]] {\r\n",
       "}\r\n",
       "\r\n",
       "rec usage \"A3\" as E7  <<(T,blue) action>> [[psysml:3ceea1c4-b769-4e45-b22d-b9b14232dc11 ]] {\r\n",
       "}\r\n",
       "\r\n",
       "}\r\n",
       "\r\n",
       "E2  - -> E4 [[psysml:5839aeb0-dd7d-4257-be26-6d697b84d54b ]] : [x == 1]\r\n",
       "E2  - -> E5 [[psysml:6472265e-4329-42f9-a73f-b0fdd653d81d ]] : [x > 1]\r\n",
       "E2  - -> E7 [[psysml:3c10905a-0cf4-4572-9b68-27220c544656 ]] \r\n",
       "E2 - -> E3 [[psysml:4534ef33-8eda-405a-b2f5-6c95fd446375 ]] \r\n",
       "E3  - -> E4 [[psysml:4cb33783-cb85-4624-8a6d-789ab5e27309 ]] : [true]\r\n",
       "E3  - -> E5 [[psysml:7566f218-2e4c-4b1d-8134-f6de9f4cb12f ]] : [false]\r\n",
       "E4  - -> E5 [[psysml:2ec4d8de-ba31-4f08-a58c-ce574f556666 ]] : [x == 0]\r\n",
       "E7  - -> E2 [[psysml:2ecae6e1-cb24-4407-809b-df9594bdb8fa ]] : [x > 0]\r\n",
       "@enduml\r\n",
       "\n",
       "PlantUML version 1.2020.13(Sat Jun 13 12:26:38 UTC 2020)\n",
       "(EPL source distribution)\n",
       "Java Runtime: OpenJDK Runtime Environment\n",
       "JVM: OpenJDK 64-Bit Server VM\n",
       "Default Encoding: UTF-8\n",
       "Language: en\n",
       "Country: null\n",
       "--></g></svg>"
      ]
     },
     "execution_count": 54,
     "metadata": {},
     "output_type": "execute_result"
    }
   ],
   "source": [
    "%viz --style=\"ORTHOLINE\" --view=\"Interconnection\" \"DecisionTest\""
   ]
  },
  {
   "cell_type": "code",
   "execution_count": 55,
   "id": "9c3a0984",
   "metadata": {
    "execution": {
     "iopub.execute_input": "2021-06-30T09:20:32.299967Z",
     "iopub.status.busy": "2021-06-30T09:20:32.299219Z",
     "iopub.status.idle": "2021-06-30T09:20:32.335322Z",
     "shell.execute_reply": "2021-06-30T09:20:32.333661Z"
    }
   },
   "outputs": [
    {
     "data": {
      "image/svg+xml": [
       "<?xml version=\"1.0\" encoding=\"UTF-8\" standalone=\"no\"?><svg xmlns=\"http://www.w3.org/2000/svg\" xmlns:xlink=\"http://www.w3.org/1999/xlink\" contentScriptType=\"application/ecmascript\" contentStyleType=\"text/css\" height=\"356px\" preserveAspectRatio=\"none\" style=\"width:333px;height:356px;\" version=\"1.1\" viewBox=\"0 0 333 356\" width=\"333px\" zoomAndPan=\"magnify\"><defs/><g><!--MD5=[fbc87193dbaf4d95561dea2c320d4a47]\n",
       "cluster E1--><a href=\"psysml:068a4463-a96d-4165-a2bc-cadf70a9bc09\" target=\"_top\" title=\"psysml:068a4463-a96d-4165-a2bc-cadf70a9bc09\" xlink:actuate=\"onRequest\" xlink:href=\"psysml:068a4463-a96d-4165-a2bc-cadf70a9bc09\" xlink:show=\"new\" xlink:title=\"psysml:068a4463-a96d-4165-a2bc-cadf70a9bc09\" xlink:type=\"simple\"><rect fill=\"#FFFFFF\" height=\"338\" id=\"E1\" style=\"stroke: #383838; stroke-width: 1.5;\" width=\"315\" x=\"7\" y=\"7\"/><rect fill=\"#F8F8F8\" height=\"37.9375\" style=\"stroke: #383838; stroke-width: 1.5;\" width=\"315\" x=\"7\" y=\"7\"/><text fill=\"#000000\" font-family=\"sans-serif\" font-size=\"12\" font-style=\"italic\" lengthAdjust=\"spacingAndGlyphs\" textLength=\"77\" x=\"126\" y=\"23.1387\">«action def»</text><text fill=\"#000000\" font-family=\"sans-serif\" font-size=\"12\" lengthAdjust=\"spacingAndGlyphs\" textLength=\"80\" x=\"124.5\" y=\"37.1074\">DecisionTest</text></a><polygon fill=\"#F8F8F8\" points=\"210,67.5,222,79.5,210,91.5,198,79.5,210,67.5\" style=\"stroke: #383838; stroke-width: 1.5;\"/><polygon fill=\"#F8F8F8\" points=\"35,143.5,47,155.5,35,167.5,23,155.5,35,143.5\" style=\"stroke: #383838; stroke-width: 1.5;\"/><g id=\"E1.E4\"><a href=\"psysml:86b53981-b1ee-4c30-93d6-edfc048c3f3e\" target=\"_top\" title=\"psysml:86b53981-b1ee-4c30-93d6-edfc048c3f3e\" xlink:actuate=\"onRequest\" xlink:href=\"psysml:86b53981-b1ee-4c30-93d6-edfc048c3f3e\" xlink:show=\"new\" xlink:title=\"psysml:86b53981-b1ee-4c30-93d6-edfc048c3f3e\" xlink:type=\"simple\"><rect fill=\"#FFFFFF\" height=\"42.9375\" id=\"E4\" rx=\"10\" ry=\"10\" style=\"stroke: #383838; stroke-width: 1.5;\" width=\"60\" x=\"135\" y=\"210\"/><rect fill=\"#F8F8F8\" height=\"37.9375\" rx=\"10\" ry=\"10\" style=\"stroke: #F8F8F8; stroke-width: 1.5;\" width=\"60\" x=\"135\" y=\"210\"/><rect fill=\"#F8F8F8\" height=\"10\" style=\"stroke: #F8F8F8; stroke-width: 1.5;\" width=\"60\" x=\"135\" y=\"237.9375\"/><rect fill=\"none\" height=\"42.9375\" id=\"E4\" rx=\"10\" ry=\"10\" style=\"stroke: #383838; stroke-width: 1.5;\" width=\"60\" x=\"135\" y=\"210\"/><text fill=\"#000000\" font-family=\"sans-serif\" font-size=\"12\" font-style=\"italic\" lengthAdjust=\"spacingAndGlyphs\" textLength=\"53\" x=\"138.5\" y=\"226.1387\">«action»</text><text fill=\"#000000\" font-family=\"sans-serif\" font-size=\"12\" lengthAdjust=\"spacingAndGlyphs\" textLength=\"16\" x=\"157\" y=\"240.1074\">A1</text></a></g><g id=\"E1.E5\"><a href=\"psysml:38b4e12b-2856-48b1-8683-970a7e146d76\" target=\"_top\" title=\"psysml:38b4e12b-2856-48b1-8683-970a7e146d76\" xlink:actuate=\"onRequest\" xlink:href=\"psysml:38b4e12b-2856-48b1-8683-970a7e146d76\" xlink:show=\"new\" xlink:title=\"psysml:38b4e12b-2856-48b1-8683-970a7e146d76\" xlink:type=\"simple\"><rect fill=\"#FFFFFF\" height=\"42.9375\" id=\"E5\" rx=\"10\" ry=\"10\" style=\"stroke: #383838; stroke-width: 1.5;\" width=\"60\" x=\"135\" y=\"286\"/><rect fill=\"#F8F8F8\" height=\"37.9375\" rx=\"10\" ry=\"10\" style=\"stroke: #F8F8F8; stroke-width: 1.5;\" width=\"60\" x=\"135\" y=\"286\"/><rect fill=\"#F8F8F8\" height=\"10\" style=\"stroke: #F8F8F8; stroke-width: 1.5;\" width=\"60\" x=\"135\" y=\"313.9375\"/><rect fill=\"none\" height=\"42.9375\" id=\"E5\" rx=\"10\" ry=\"10\" style=\"stroke: #383838; stroke-width: 1.5;\" width=\"60\" x=\"135\" y=\"286\"/><text fill=\"#000000\" font-family=\"sans-serif\" font-size=\"12\" font-style=\"italic\" lengthAdjust=\"spacingAndGlyphs\" textLength=\"53\" x=\"138.5\" y=\"302.1387\">«action»</text><text fill=\"#000000\" font-family=\"sans-serif\" font-size=\"12\" lengthAdjust=\"spacingAndGlyphs\" textLength=\"16\" x=\"157\" y=\"316.1074\">A2</text></a></g><g id=\"E1.E6\"><a href=\"psysml:3ceea1c4-b769-4e45-b22d-b9b14232dc11\" target=\"_top\" title=\"psysml:3ceea1c4-b769-4e45-b22d-b9b14232dc11\" xlink:actuate=\"onRequest\" xlink:href=\"psysml:3ceea1c4-b769-4e45-b22d-b9b14232dc11\" xlink:show=\"new\" xlink:title=\"psysml:3ceea1c4-b769-4e45-b22d-b9b14232dc11\" xlink:type=\"simple\"><rect fill=\"#FFFFFF\" height=\"42.9375\" id=\"E6\" rx=\"10\" ry=\"10\" style=\"stroke: #383838; stroke-width: 1.5;\" width=\"60\" x=\"63\" y=\"58\"/><rect fill=\"#F8F8F8\" height=\"37.9375\" rx=\"10\" ry=\"10\" style=\"stroke: #F8F8F8; stroke-width: 1.5;\" width=\"60\" x=\"63\" y=\"58\"/><rect fill=\"#F8F8F8\" height=\"10\" style=\"stroke: #F8F8F8; stroke-width: 1.5;\" width=\"60\" x=\"63\" y=\"85.9375\"/><rect fill=\"none\" height=\"42.9375\" id=\"E6\" rx=\"10\" ry=\"10\" style=\"stroke: #383838; stroke-width: 1.5;\" width=\"60\" x=\"63\" y=\"58\"/><text fill=\"#000000\" font-family=\"sans-serif\" font-size=\"12\" font-style=\"italic\" lengthAdjust=\"spacingAndGlyphs\" textLength=\"53\" x=\"66.5\" y=\"74.1387\">«action»</text><text fill=\"#000000\" font-family=\"sans-serif\" font-size=\"12\" lengthAdjust=\"spacingAndGlyphs\" textLength=\"16\" x=\"85\" y=\"88.1074\">A3</text></a></g><g id=\"E1.E7\"><a href=\"psysml:3ceea1c4-b769-4e45-b22d-b9b14232dc11\" target=\"_top\" title=\"psysml:3ceea1c4-b769-4e45-b22d-b9b14232dc11\" xlink:actuate=\"onRequest\" xlink:href=\"psysml:3ceea1c4-b769-4e45-b22d-b9b14232dc11\" xlink:show=\"new\" xlink:title=\"psysml:3ceea1c4-b769-4e45-b22d-b9b14232dc11\" xlink:type=\"simple\"><rect fill=\"#FFFFFF\" height=\"42.9375\" id=\"E7\" rx=\"10\" ry=\"10\" style=\"stroke: #383838; stroke-width: 1.5;\" width=\"60\" x=\"246\" y=\"134\"/><rect fill=\"#F8F8F8\" height=\"37.9375\" rx=\"10\" ry=\"10\" style=\"stroke: #F8F8F8; stroke-width: 1.5;\" width=\"60\" x=\"246\" y=\"134\"/><rect fill=\"#F8F8F8\" height=\"10\" style=\"stroke: #F8F8F8; stroke-width: 1.5;\" width=\"60\" x=\"246\" y=\"161.9375\"/><rect fill=\"none\" height=\"42.9375\" id=\"E7\" rx=\"10\" ry=\"10\" style=\"stroke: #383838; stroke-width: 1.5;\" width=\"60\" x=\"246\" y=\"134\"/><text fill=\"#000000\" font-family=\"sans-serif\" font-size=\"12\" font-style=\"italic\" lengthAdjust=\"spacingAndGlyphs\" textLength=\"53\" x=\"249.5\" y=\"150.1387\">«action»</text><text fill=\"#000000\" font-family=\"sans-serif\" font-size=\"12\" lengthAdjust=\"spacingAndGlyphs\" textLength=\"16\" x=\"268\" y=\"164.1074\">A3</text></a></g><!--MD5=[4d03bb2d0377dc85ccfab60ff574652b]\n",
       "link E2 to E4--><a href=\"psysml:5839aeb0-dd7d-4257-be26-6d697b84d54b\" target=\"_top\" title=\"psysml:5839aeb0-dd7d-4257-be26-6d697b84d54b\" xlink:actuate=\"onRequest\" xlink:href=\"psysml:5839aeb0-dd7d-4257-be26-6d697b84d54b\" xlink:show=\"new\" xlink:title=\"psysml:5839aeb0-dd7d-4257-be26-6d697b84d54b\" xlink:type=\"simple\"><path d=\"M206,87.7 C206,119.37 206,232 206,232 C206,232 200.23,232 200.23,232 \" fill=\"none\" id=\"E2-&gt;E4\" style=\"stroke: #383838; stroke-width: 1.0; stroke-dasharray: 7.0,7.0;\"/><polygon fill=\"#383838\" points=\"195.23,232,204.23,236,200.23,232,204.23,228,195.23,232\" style=\"stroke: #383838; stroke-width: 1.0;\"/><text fill=\"#000000\" font-family=\"sans-serif\" font-size=\"13\" lengthAdjust=\"spacingAndGlyphs\" textLength=\"55\" x=\"118\" y=\"160.0669\">[x == 1]</text></a><!--MD5=[dcad52bbbca2fe8adc741ce38b45dc12]\n",
       "link E2 to E5--><a href=\"psysml:6472265e-4329-42f9-a73f-b0fdd653d81d\" target=\"_top\" title=\"psysml:6472265e-4329-42f9-a73f-b0fdd653d81d\" xlink:actuate=\"onRequest\" xlink:href=\"psysml:6472265e-4329-42f9-a73f-b0fdd653d81d\" xlink:show=\"new\" xlink:title=\"psysml:6472265e-4329-42f9-a73f-b0fdd653d81d\" xlink:type=\"simple\"><path d=\"M210,91.79 C210,139.25 210,308 210,308 C210,308 200.02,308 200.02,308 \" fill=\"none\" id=\"E2-&gt;E5\" style=\"stroke: #383838; stroke-width: 1.0; stroke-dasharray: 7.0,7.0;\"/><polygon fill=\"#383838\" points=\"195.02,308,204.02,312,200.02,308,204.02,304,195.02,308\" style=\"stroke: #383838; stroke-width: 1.0;\"/><text fill=\"#000000\" font-family=\"sans-serif\" font-size=\"13\" lengthAdjust=\"spacingAndGlyphs\" textLength=\"44\" x=\"221\" y=\"198.0669\">[x &gt; 1]</text></a><!--MD5=[e3d2a08a9c9236652057e8ed0cbc9b62]\n",
       "link E2 to E7--><a href=\"psysml:3c10905a-0cf4-4572-9b68-27220c544656\" target=\"_top\" title=\"psysml:3c10905a-0cf4-4572-9b68-27220c544656\" xlink:actuate=\"onRequest\" xlink:href=\"psysml:3c10905a-0cf4-4572-9b68-27220c544656\" xlink:show=\"new\" xlink:title=\"psysml:3c10905a-0cf4-4572-9b68-27220c544656\" xlink:type=\"simple\"><path d=\"M218,83.71 C218,97.12 218,138 218,138 C218,138 240.98,138 240.98,138 \" fill=\"none\" id=\"E2-&gt;E7\" style=\"stroke: #383838; stroke-width: 1.0; stroke-dasharray: 7.0,7.0;\"/><polygon fill=\"#383838\" points=\"245.98,138,236.98,134,240.98,138,236.98,142,245.98,138\" style=\"stroke: #383838; stroke-width: 1.0;\"/></a><!--MD5=[583832df87f4419a098336a29a52fa00]\n",
       "link E7 to E2--><a href=\"psysml:2ecae6e1-cb24-4407-809b-df9594bdb8fa\" target=\"_top\" title=\"psysml:2ecae6e1-cb24-4407-809b-df9594bdb8fa\" xlink:actuate=\"onRequest\" xlink:href=\"psysml:2ecae6e1-cb24-4407-809b-df9594bdb8fa\" xlink:show=\"new\" xlink:title=\"psysml:2ecae6e1-cb24-4407-809b-df9594bdb8fa\" xlink:type=\"simple\"><path d=\"M245.73,141 C229.99,141 214,141 214,141 C214,141 214,92.54 214,92.54 \" fill=\"none\" id=\"E7-&gt;E2\" style=\"stroke: #383838; stroke-width: 1.0; stroke-dasharray: 7.0,7.0;\"/><polygon fill=\"#383838\" points=\"214,87.54,210,96.54,214,92.54,218,96.54,214,87.54\" style=\"stroke: #383838; stroke-width: 1.0;\"/><text fill=\"#000000\" font-family=\"sans-serif\" font-size=\"13\" lengthAdjust=\"spacingAndGlyphs\" textLength=\"44\" x=\"260\" y=\"122.0669\">[x &gt; 0]</text></a><!--MD5=[2720a5a1f2c3fca2055b230370638851]\n",
       "link E2 to E3--><a href=\"psysml:4534ef33-8eda-405a-b2f5-6c95fd446375\" target=\"_top\" title=\"psysml:4534ef33-8eda-405a-b2f5-6c95fd446375\" xlink:actuate=\"onRequest\" xlink:href=\"psysml:4534ef33-8eda-405a-b2f5-6c95fd446375\" xlink:show=\"new\" xlink:title=\"psysml:4534ef33-8eda-405a-b2f5-6c95fd446375\" xlink:type=\"simple\"><path d=\"M202,83.61 C202,99.5 202,156 202,156 C202,156 51.74,156 51.74,156 \" fill=\"none\" id=\"E2-&gt;E3\" style=\"stroke: #383838; stroke-width: 1.0; stroke-dasharray: 7.0,7.0;\"/><polygon fill=\"#383838\" points=\"46.74,156,55.74,160,51.74,156,55.74,152,46.74,156\" style=\"stroke: #383838; stroke-width: 1.0;\"/></a><!--MD5=[af87c684e3b0d8be13c1a698a818ef1e]\n",
       "link E3 to E4--><a href=\"psysml:4cb33783-cb85-4624-8a6d-789ab5e27309\" target=\"_top\" title=\"psysml:4cb33783-cb85-4624-8a6d-789ab5e27309\" xlink:actuate=\"onRequest\" xlink:href=\"psysml:4cb33783-cb85-4624-8a6d-789ab5e27309\" xlink:show=\"new\" xlink:title=\"psysml:4cb33783-cb85-4624-8a6d-789ab5e27309\" xlink:type=\"simple\"><path d=\"M39,163.69 C39,183.42 39,232 39,232 C39,232 129.82,232 129.82,232 \" fill=\"none\" id=\"E3-&gt;E4\" style=\"stroke: #383838; stroke-width: 1.0; stroke-dasharray: 7.0,7.0;\"/><polygon fill=\"#383838\" points=\"134.82,232,125.82,228,129.82,232,125.82,236,134.82,232\" style=\"stroke: #383838; stroke-width: 1.0;\"/><text fill=\"#000000\" font-family=\"sans-serif\" font-size=\"13\" lengthAdjust=\"spacingAndGlyphs\" textLength=\"36\" x=\"88\" y=\"198.0669\">[true]</text></a><!--MD5=[0188b64bb0ae78505a997a81836e11e9]\n",
       "link E3 to E5--><a href=\"psysml:7566f218-2e4c-4b1d-8134-f6de9f4cb12f\" target=\"_top\" title=\"psysml:7566f218-2e4c-4b1d-8134-f6de9f4cb12f\" xlink:actuate=\"onRequest\" xlink:href=\"psysml:7566f218-2e4c-4b1d-8134-f6de9f4cb12f\" xlink:show=\"new\" xlink:title=\"psysml:7566f218-2e4c-4b1d-8134-f6de9f4cb12f\" xlink:type=\"simple\"><path d=\"M31,163.7 C31,195.37 31,308 31,308 C31,308 129.93,308 129.93,308 \" fill=\"none\" id=\"E3-&gt;E5\" style=\"stroke: #383838; stroke-width: 1.0; stroke-dasharray: 7.0,7.0;\"/><polygon fill=\"#383838\" points=\"134.93,308,125.93,304,129.93,308,125.93,312,134.93,308\" style=\"stroke: #383838; stroke-width: 1.0;\"/><text fill=\"#000000\" font-family=\"sans-serif\" font-size=\"13\" lengthAdjust=\"spacingAndGlyphs\" textLength=\"40\" x=\"59\" y=\"236.0669\">[false]</text></a><!--MD5=[1b7591eae5389033d8d09a9d6721a717]\n",
       "link E4 to E5--><a href=\"psysml:2ec4d8de-ba31-4f08-a58c-ce574f556666\" target=\"_top\" title=\"psysml:2ec4d8de-ba31-4f08-a58c-ce574f556666\" xlink:actuate=\"onRequest\" xlink:href=\"psysml:2ec4d8de-ba31-4f08-a58c-ce574f556666\" xlink:show=\"new\" xlink:title=\"psysml:2ec4d8de-ba31-4f08-a58c-ce574f556666\" xlink:type=\"simple\"><path d=\"M165,253.08 C165,253.08 165,280.87 165,280.87 \" fill=\"none\" id=\"E4-&gt;E5\" style=\"stroke: #383838; stroke-width: 1.0; stroke-dasharray: 7.0,7.0;\"/><polygon fill=\"#383838\" points=\"165,285.87,169,276.87,165,280.87,161,276.87,165,285.87\" style=\"stroke: #383838; stroke-width: 1.0;\"/><text fill=\"#000000\" font-family=\"sans-serif\" font-size=\"13\" lengthAdjust=\"spacingAndGlyphs\" textLength=\"55\" x=\"166\" y=\"274.0669\">[x == 0]</text></a><!--MD5=[54121e42ed4a2baae6fab2d1fe017cd6]\n",
       "@startuml\r\n",
       "skinparam ranksep 8\r\n",
       "skinparam linetype ortho\r\n",
       "skinparam monochrome true\r\n",
       "skinparam classbackgroundcolor white\r\n",
       "skinparam shadowing false\r\n",
       "skinparam wrapWidth 300\r\n",
       "hide circle\r\n",
       "\r\n",
       "rec def \"DecisionTest\" as E1  <<(T,blue) action def>> [[psysml:068a4463-a96d-4165-a2bc-cadf70a9bc09 ]] {\r\n",
       "choice \"test x\" as E2  [[psysml:44ee9e06-5fd9-46bf-b0f8-00dd693073b7 ]] \r\n",
       "choice \"noname\" as E3  [[psysml:eeb68ac4-2ad3-4e0c-9c18-140c63d1edba ]] \r\n",
       "rec usage \"A1\" as E4  <<(T,blue) action>> [[psysml:86b53981-b1ee-4c30-93d6-edfc048c3f3e ]] {\r\n",
       "}\r\n",
       "\r\n",
       "rec usage \"A2\" as E5  <<(T,blue) action>> [[psysml:38b4e12b-2856-48b1-8683-970a7e146d76 ]] {\r\n",
       "}\r\n",
       "\r\n",
       "rec usage \"A3\" as E6  <<(T,blue) action>> [[psysml:3ceea1c4-b769-4e45-b22d-b9b14232dc11 ]] {\r\n",
       "}\r\n",
       "\r\n",
       "rec usage \"A3\" as E7  <<(T,blue) action>> [[psysml:3ceea1c4-b769-4e45-b22d-b9b14232dc11 ]] {\r\n",
       "}\r\n",
       "\r\n",
       "}\r\n",
       "\r\n",
       "E2 ..> E4 [[psysml:5839aeb0-dd7d-4257-be26-6d697b84d54b ]] : [x == 1]\r\n",
       "E2 ..> E5 [[psysml:6472265e-4329-42f9-a73f-b0fdd653d81d ]] : [x > 1]\r\n",
       "E2 ..> E7 [[psysml:3c10905a-0cf4-4572-9b68-27220c544656 ]] \r\n",
       "E2 ..> E3 [[psysml:4534ef33-8eda-405a-b2f5-6c95fd446375 ]] \r\n",
       "E3 ..> E4 [[psysml:4cb33783-cb85-4624-8a6d-789ab5e27309 ]] : [true]\r\n",
       "E3 ..> E5 [[psysml:7566f218-2e4c-4b1d-8134-f6de9f4cb12f ]] : [false]\r\n",
       "E4 ..> E5 [[psysml:2ec4d8de-ba31-4f08-a58c-ce574f556666 ]] : [x == 0]\r\n",
       "E7 ..> E2 [[psysml:2ecae6e1-cb24-4407-809b-df9594bdb8fa ]] : [x > 0]\r\n",
       "@enduml\r\n",
       "\n",
       "PlantUML version 1.2020.13(Sat Jun 13 12:26:38 UTC 2020)\n",
       "(EPL source distribution)\n",
       "Java Runtime: OpenJDK Runtime Environment\n",
       "JVM: OpenJDK 64-Bit Server VM\n",
       "Default Encoding: UTF-8\n",
       "Language: en\n",
       "Country: null\n",
       "--></g></svg>"
      ]
     },
     "execution_count": 55,
     "metadata": {},
     "output_type": "execute_result"
    }
   ],
   "source": [
    "%viz --style=\"ORTHOLINE\" --view=\"Action\" \"DecisionTest\""
   ]
  },
  {
   "cell_type": "code",
   "execution_count": 56,
   "id": "7abb56e3",
   "metadata": {
    "execution": {
     "iopub.execute_input": "2021-06-30T09:20:32.385391Z",
     "iopub.status.busy": "2021-06-30T09:20:32.384865Z",
     "iopub.status.idle": "2021-06-30T09:20:32.461586Z",
     "shell.execute_reply": "2021-06-30T09:20:32.461184Z"
    }
   },
   "outputs": [
    {
     "data": {
      "image/svg+xml": [
       "<?xml version=\"1.0\" encoding=\"UTF-8\" standalone=\"no\"?><svg xmlns=\"http://www.w3.org/2000/svg\" xmlns:xlink=\"http://www.w3.org/1999/xlink\" contentScriptType=\"application/ecmascript\" contentStyleType=\"text/css\" height=\"228px\" preserveAspectRatio=\"none\" style=\"width:525px;height:228px;\" version=\"1.1\" viewBox=\"0 0 525 228\" width=\"525px\" zoomAndPan=\"magnify\"><defs/><g><!--MD5=[43c9051892ef23e1a46a86907403d788]\n",
       "class E1--><a href=\"psysml:068a4463-a96d-4165-a2bc-cadf70a9bc09\" target=\"_top\" title=\"psysml:068a4463-a96d-4165-a2bc-cadf70a9bc09\" xlink:actuate=\"onRequest\" xlink:href=\"psysml:068a4463-a96d-4165-a2bc-cadf70a9bc09\" xlink:show=\"new\" xlink:title=\"psysml:068a4463-a96d-4165-a2bc-cadf70a9bc09\" xlink:type=\"simple\"><rect fill=\"#FFFFFF\" height=\"105.1563\" id=\"E1\" style=\"stroke: #383838; stroke-width: 1.5;\" width=\"86\" x=\"308.5\" y=\"7\"/><text fill=\"#000000\" font-family=\"sans-serif\" font-size=\"12\" font-style=\"italic\" lengthAdjust=\"spacingAndGlyphs\" textLength=\"77\" x=\"313\" y=\"23.1387\">«action def»</text><text fill=\"#000000\" font-family=\"sans-serif\" font-size=\"12\" lengthAdjust=\"spacingAndGlyphs\" textLength=\"80\" x=\"311.5\" y=\"37.1074\">DecisionTest</text><line style=\"stroke: #383838; stroke-width: 1.5;\" x1=\"309.5\" x2=\"393.5\" y1=\"44.9375\" y2=\"44.9375\"/><text fill=\"#000000\" font-family=\"sans-serif\" font-size=\"11\" lengthAdjust=\"spacingAndGlyphs\" textLength=\"26\" x=\"314.5\" y=\"75.9526\">x=1;</text><line style=\"stroke: #383838; stroke-width: 1.0;\" x1=\"309.5\" x2=\"324\" y1=\"59.3398\" y2=\"59.3398\"/><text fill=\"#000000\" font-family=\"sans-serif\" font-size=\"11\" lengthAdjust=\"spacingAndGlyphs\" textLength=\"55\" x=\"324\" y=\"62.6479\">attributes</text><line style=\"stroke: #383838; stroke-width: 1.0;\" x1=\"379\" x2=\"393.5\" y1=\"59.3398\" y2=\"59.3398\"/><text fill=\"#000000\" font-family=\"sans-serif\" font-size=\"11\" lengthAdjust=\"spacingAndGlyphs\" textLength=\"8\" x=\"314.5\" y=\"105.562\">S</text><line style=\"stroke: #383838; stroke-width: 1.0;\" x1=\"309.5\" x2=\"321\" y1=\"88.9492\" y2=\"88.9492\"/><text fill=\"#000000\" font-family=\"sans-serif\" font-size=\"11\" lengthAdjust=\"spacingAndGlyphs\" textLength=\"61\" x=\"321\" y=\"92.2573\">transitions</text><line style=\"stroke: #383838; stroke-width: 1.0;\" x1=\"382\" x2=\"393.5\" y1=\"88.9492\" y2=\"88.9492\"/></a><!--MD5=[b4997ac47864f28c2f74865a473b2911]\n",
       "class E2--><a href=\"psysml:44ee9e06-5fd9-46bf-b0f8-00dd693073b7\" target=\"_top\" title=\"psysml:44ee9e06-5fd9-46bf-b0f8-00dd693073b7\" xlink:actuate=\"onRequest\" xlink:href=\"psysml:44ee9e06-5fd9-46bf-b0f8-00dd693073b7\" xlink:show=\"new\" xlink:title=\"psysml:44ee9e06-5fd9-46bf-b0f8-00dd693073b7\" xlink:type=\"simple\"><rect fill=\"#FFFFFF\" height=\"45.9375\" id=\"E2\" rx=\"10\" ry=\"10\" style=\"stroke: #383838; stroke-width: 1.5;\" width=\"101\" x=\"7\" y=\"172\"/><text fill=\"#000000\" font-family=\"sans-serif\" font-size=\"12\" font-style=\"italic\" lengthAdjust=\"spacingAndGlyphs\" textLength=\"99\" x=\"8\" y=\"188.1387\">«decisionNode»</text><text fill=\"#000000\" font-family=\"sans-serif\" font-size=\"12\" lengthAdjust=\"spacingAndGlyphs\" textLength=\"35\" x=\"40\" y=\"202.1074\">test x</text><line style=\"stroke: #383838; stroke-width: 1.5;\" x1=\"8\" x2=\"107\" y1=\"209.9375\" y2=\"209.9375\"/></a><!--MD5=[09b614a08d8cba4a07c9adeb5e0fee81]\n",
       "class E3--><a href=\"psysml:eeb68ac4-2ad3-4e0c-9c18-140c63d1edba\" target=\"_top\" title=\"psysml:eeb68ac4-2ad3-4e0c-9c18-140c63d1edba\" xlink:actuate=\"onRequest\" xlink:href=\"psysml:eeb68ac4-2ad3-4e0c-9c18-140c63d1edba\" xlink:show=\"new\" xlink:title=\"psysml:eeb68ac4-2ad3-4e0c-9c18-140c63d1edba\" xlink:type=\"simple\"><rect fill=\"#FFFFFF\" height=\"45.9375\" id=\"E3\" rx=\"10\" ry=\"10\" style=\"stroke: #383838; stroke-width: 1.5;\" width=\"101\" x=\"143\" y=\"172\"/><text fill=\"#000000\" font-family=\"sans-serif\" font-size=\"12\" font-style=\"italic\" lengthAdjust=\"spacingAndGlyphs\" textLength=\"99\" x=\"144\" y=\"188.1387\">«decisionNode»</text><text fill=\"#000000\" font-family=\"sans-serif\" font-size=\"12\" lengthAdjust=\"spacingAndGlyphs\" text-decoration=\"line-through\" textLength=\"51\" x=\"168\" y=\"202.1074\">noname</text><line style=\"stroke: #383838; stroke-width: 1.5;\" x1=\"144\" x2=\"243\" y1=\"209.9375\" y2=\"209.9375\"/></a><!--MD5=[ebbe1d658d1005bcc118a6aa81145e00]\n",
       "class E4--><a href=\"psysml:86b53981-b1ee-4c30-93d6-edfc048c3f3e\" target=\"_top\" title=\"psysml:86b53981-b1ee-4c30-93d6-edfc048c3f3e\" xlink:actuate=\"onRequest\" xlink:href=\"psysml:86b53981-b1ee-4c30-93d6-edfc048c3f3e\" xlink:show=\"new\" xlink:title=\"psysml:86b53981-b1ee-4c30-93d6-edfc048c3f3e\" xlink:type=\"simple\"><rect fill=\"#FFFFFF\" height=\"45.9375\" id=\"E4\" rx=\"10\" ry=\"10\" style=\"stroke: #383838; stroke-width: 1.5;\" width=\"55\" x=\"279\" y=\"172\"/><text fill=\"#000000\" font-family=\"sans-serif\" font-size=\"12\" font-style=\"italic\" lengthAdjust=\"spacingAndGlyphs\" textLength=\"53\" x=\"280\" y=\"188.1387\">«action»</text><text fill=\"#000000\" font-family=\"sans-serif\" font-size=\"12\" lengthAdjust=\"spacingAndGlyphs\" textLength=\"16\" x=\"298.5\" y=\"202.1074\">A1</text><line style=\"stroke: #383838; stroke-width: 1.5;\" x1=\"280\" x2=\"333\" y1=\"209.9375\" y2=\"209.9375\"/></a><!--MD5=[270fce915f116d4de14055a7c1d9a0f3]\n",
       "class E5--><a href=\"psysml:38b4e12b-2856-48b1-8683-970a7e146d76\" target=\"_top\" title=\"psysml:38b4e12b-2856-48b1-8683-970a7e146d76\" xlink:actuate=\"onRequest\" xlink:href=\"psysml:38b4e12b-2856-48b1-8683-970a7e146d76\" xlink:show=\"new\" xlink:title=\"psysml:38b4e12b-2856-48b1-8683-970a7e146d76\" xlink:type=\"simple\"><rect fill=\"#FFFFFF\" height=\"45.9375\" id=\"E5\" rx=\"10\" ry=\"10\" style=\"stroke: #383838; stroke-width: 1.5;\" width=\"55\" x=\"369\" y=\"172\"/><text fill=\"#000000\" font-family=\"sans-serif\" font-size=\"12\" font-style=\"italic\" lengthAdjust=\"spacingAndGlyphs\" textLength=\"53\" x=\"370\" y=\"188.1387\">«action»</text><text fill=\"#000000\" font-family=\"sans-serif\" font-size=\"12\" lengthAdjust=\"spacingAndGlyphs\" textLength=\"16\" x=\"388.5\" y=\"202.1074\">A2</text><line style=\"stroke: #383838; stroke-width: 1.5;\" x1=\"370\" x2=\"423\" y1=\"209.9375\" y2=\"209.9375\"/></a><!--MD5=[60a26617385b1d2d0262a64233df1f8d]\n",
       "class E6--><a href=\"psysml:3ceea1c4-b769-4e45-b22d-b9b14232dc11\" target=\"_top\" title=\"psysml:3ceea1c4-b769-4e45-b22d-b9b14232dc11\" xlink:actuate=\"onRequest\" xlink:href=\"psysml:3ceea1c4-b769-4e45-b22d-b9b14232dc11\" xlink:show=\"new\" xlink:title=\"psysml:3ceea1c4-b769-4e45-b22d-b9b14232dc11\" xlink:type=\"simple\"><rect fill=\"#FFFFFF\" height=\"45.9375\" id=\"E6\" rx=\"10\" ry=\"10\" style=\"stroke: #383838; stroke-width: 1.5;\" width=\"55\" x=\"459\" y=\"172\"/><text fill=\"#000000\" font-family=\"sans-serif\" font-size=\"12\" font-style=\"italic\" lengthAdjust=\"spacingAndGlyphs\" textLength=\"53\" x=\"460\" y=\"188.1387\">«action»</text><text fill=\"#000000\" font-family=\"sans-serif\" font-size=\"12\" lengthAdjust=\"spacingAndGlyphs\" textLength=\"16\" x=\"478.5\" y=\"202.1074\">A3</text><line style=\"stroke: #383838; stroke-width: 1.5;\" x1=\"460\" x2=\"513\" y1=\"209.9375\" y2=\"209.9375\"/></a><!--MD5=[a523cb2a0b79ecf9065ad8783f96c320]\n",
       "reverse link E1 to E2--><a href=\"psysml:3f40863b-0a66-456a-a380-cfd414bf0804\" target=\"_top\" title=\"psysml:3f40863b-0a66-456a-a380-cfd414bf0804\" xlink:actuate=\"onRequest\" xlink:href=\"psysml:3f40863b-0a66-456a-a380-cfd414bf0804\" xlink:show=\"new\" xlink:title=\"psysml:3f40863b-0a66-456a-a380-cfd414bf0804\" xlink:type=\"simple\"><path d=\"M295.44,42 C295.44,42 57.5,42 57.5,42 C57.5,42 57.5,128.96 57.5,171.76 \" fill=\"none\" id=\"E1&lt;-E2\" style=\"stroke: #383838; stroke-width: 1.0;\"/><polygon fill=\"#383838\" points=\"308.44,42,302.4444,37.9934,296.44,41.9868,302.4356,45.9934,308.44,42\" style=\"stroke: #383838; stroke-width: 1.0;\"/></a><!--MD5=[5d7b3810b1dd9b5164bea1151b29b665]\n",
       "reverse link E1 to E3--><a href=\"psysml:e2578a6b-d48b-4dd6-b58c-18f093f1f29f\" target=\"_top\" title=\"psysml:e2578a6b-d48b-4dd6-b58c-18f093f1f29f\" xlink:actuate=\"onRequest\" xlink:href=\"psysml:e2578a6b-d48b-4dd6-b58c-18f093f1f29f\" xlink:show=\"new\" xlink:title=\"psysml:e2578a6b-d48b-4dd6-b58c-18f093f1f29f\" xlink:type=\"simple\"><path d=\"M295.33,77 C295.33,77 193.5,77 193.5,77 C193.5,77 193.5,137.63 193.5,171.97 \" fill=\"none\" id=\"E1&lt;-E3\" style=\"stroke: #383838; stroke-width: 1.0;\"/><polygon fill=\"#383838\" points=\"308.33,77,302.33,73,296.33,77,302.33,81,308.33,77\" style=\"stroke: #383838; stroke-width: 1.0;\"/></a><!--MD5=[f2c5c03aa1e8c0ba21c10a05e6444b8e]\n",
       "reverse link E1 to E4--><a href=\"psysml:7583b8d6-81fb-44fd-88ce-ec05d2d7f8f3\" target=\"_top\" title=\"psysml:7583b8d6-81fb-44fd-88ce-ec05d2d7f8f3\" xlink:actuate=\"onRequest\" xlink:href=\"psysml:7583b8d6-81fb-44fd-88ce-ec05d2d7f8f3\" xlink:show=\"new\" xlink:title=\"psysml:7583b8d6-81fb-44fd-88ce-ec05d2d7f8f3\" xlink:type=\"simple\"><path d=\"M321.25,125.28 C321.25,125.28 321.25,171.9 321.25,171.9 \" fill=\"none\" id=\"E1&lt;-E4\" style=\"stroke: #383838; stroke-width: 1.0;\"/><polygon fill=\"#383838\" points=\"321.25,112.28,317.25,118.28,321.25,124.28,325.25,118.28,321.25,112.28\" style=\"stroke: #383838; stroke-width: 1.0;\"/></a><!--MD5=[33238bef88d6431a141d8bc8fb12bca0]\n",
       "reverse link E1 to E5--><a href=\"psysml:1b62ef88-94e5-4ba0-8e17-6cec1f6133af\" target=\"_top\" title=\"psysml:1b62ef88-94e5-4ba0-8e17-6cec1f6133af\" xlink:actuate=\"onRequest\" xlink:href=\"psysml:1b62ef88-94e5-4ba0-8e17-6cec1f6133af\" xlink:show=\"new\" xlink:title=\"psysml:1b62ef88-94e5-4ba0-8e17-6cec1f6133af\" xlink:type=\"simple\"><path d=\"M381.75,125.28 C381.75,125.28 381.75,171.9 381.75,171.9 \" fill=\"none\" id=\"E1&lt;-E5\" style=\"stroke: #383838; stroke-width: 1.0;\"/><polygon fill=\"#383838\" points=\"381.75,112.28,377.75,118.28,381.75,124.28,385.75,118.28,381.75,112.28\" style=\"stroke: #383838; stroke-width: 1.0;\"/></a><!--MD5=[aca2ef284c2b1b90e17e73bf3f292c07]\n",
       "reverse link E1 to E6--><a href=\"psysml:6d478a35-76b8-45be-be82-2204dec34e47\" target=\"_top\" title=\"psysml:6d478a35-76b8-45be-be82-2204dec34e47\" xlink:actuate=\"onRequest\" xlink:href=\"psysml:6d478a35-76b8-45be-be82-2204dec34e47\" xlink:show=\"new\" xlink:title=\"psysml:6d478a35-76b8-45be-be82-2204dec34e47\" xlink:type=\"simple\"><path d=\"M407.75,42 C407.75,42 495.67,42 495.67,42 C495.67,42 495.67,128.96 495.67,171.76 \" fill=\"none\" id=\"E1&lt;-E6\" style=\"stroke: #383838; stroke-width: 1.0;\"/><polygon fill=\"#383838\" points=\"394.75,42,400.75,46,406.75,42,400.75,38,394.75,42\" style=\"stroke: #383838; stroke-width: 1.0;\"/></a><!--MD5=[aca2ef284c2b1b90e17e73bf3f292c07]\n",
       "reverse link E1 to E6--><a href=\"psysml:637c00ed-dc37-460b-98af-77d0acff244f\" target=\"_top\" title=\"psysml:637c00ed-dc37-460b-98af-77d0acff244f\" xlink:actuate=\"onRequest\" xlink:href=\"psysml:637c00ed-dc37-460b-98af-77d0acff244f\" xlink:show=\"new\" xlink:title=\"psysml:637c00ed-dc37-460b-98af-77d0acff244f\" xlink:type=\"simple\"><path d=\"M407.8,77 C407.8,77 477.33,77 477.33,77 C477.33,77 477.33,137.63 477.33,171.97 \" fill=\"none\" id=\"E1&lt;-E6-1\" style=\"stroke: #383838; stroke-width: 1.0;\"/><polygon fill=\"#FFFFFF\" points=\"394.8,77,400.8,81,406.8,77,400.8,73,394.8,77\" style=\"stroke: #383838; stroke-width: 1.0;\"/></a><!--MD5=[63808a3827ea561f911fe08625de9e1d]\n",
       "@startuml\r\n",
       "skinparam linetype ortho\r\n",
       "skinparam monochrome true\r\n",
       "skinparam classbackgroundcolor white\r\n",
       "skinparam shadowing false\r\n",
       "skinparam wrapWidth 300\r\n",
       "hide circle\r\n",
       "\r\n",
       "comp def \"DecisionTest\" as E1  <<(T,blue) action def>> [[psysml:068a4463-a96d-4165-a2bc-cadf70a9bc09 ]] {\r\n",
       "- - attributes - -\r\n",
       "x=1; \r\n",
       "- - transitions - -\r\n",
       "S\r\n",
       "}\r\n",
       "comp usage \"test x\" as E2  <<(T,blue) decisionNode>> [[psysml:44ee9e06-5fd9-46bf-b0f8-00dd693073b7 ]] {\r\n",
       "}\r\n",
       "comp usage \"<s>noname</s>\" as E3  <<(T,blue) decisionNode>> [[psysml:eeb68ac4-2ad3-4e0c-9c18-140c63d1edba ]] {\r\n",
       "}\r\n",
       "comp usage \"A1\" as E4  <<(T,blue) action>> [[psysml:86b53981-b1ee-4c30-93d6-edfc048c3f3e ]] {\r\n",
       "}\r\n",
       "comp usage \"A2\" as E5  <<(T,blue) action>> [[psysml:38b4e12b-2856-48b1-8683-970a7e146d76 ]] {\r\n",
       "}\r\n",
       "comp usage \"A3\" as E6  <<(T,blue) action>> [[psysml:3ceea1c4-b769-4e45-b22d-b9b14232dc11 ]] {\r\n",
       "}\r\n",
       "E1 *- - E2 [[psysml:3f40863b-0a66-456a-a380-cfd414bf0804 ]] \r\n",
       "E1 *- - E3 [[psysml:e2578a6b-d48b-4dd6-b58c-18f093f1f29f ]] \r\n",
       "E1 *- - E4 [[psysml:7583b8d6-81fb-44fd-88ce-ec05d2d7f8f3 ]] \r\n",
       "E1 *- - E5 [[psysml:1b62ef88-94e5-4ba0-8e17-6cec1f6133af ]] \r\n",
       "E1 *- - E6 [[psysml:6d478a35-76b8-45be-be82-2204dec34e47 ]] \r\n",
       "E1 o- - E6 [[psysml:637c00ed-dc37-460b-98af-77d0acff244f ]] \r\n",
       "@enduml\r\n",
       "\n",
       "PlantUML version 1.2020.13(Sat Jun 13 12:26:38 UTC 2020)\n",
       "(EPL source distribution)\n",
       "Java Runtime: OpenJDK Runtime Environment\n",
       "JVM: OpenJDK 64-Bit Server VM\n",
       "Default Encoding: UTF-8\n",
       "Language: en\n",
       "Country: null\n",
       "--></g></svg>"
      ]
     },
     "execution_count": 56,
     "metadata": {},
     "output_type": "execute_result"
    }
   ],
   "source": [
    "%viz --style=\"ORTHOLINE\" --view=\"Sequence\" \"DecisionTest\""
   ]
  },
  {
   "cell_type": "code",
   "execution_count": 57,
   "id": "9cfeebaa",
   "metadata": {
    "execution": {
     "iopub.execute_input": "2021-06-30T09:20:32.511778Z",
     "iopub.status.busy": "2021-06-30T09:20:32.510570Z",
     "iopub.status.idle": "2021-06-30T09:20:32.556710Z",
     "shell.execute_reply": "2021-06-30T09:20:32.553719Z"
    }
   },
   "outputs": [
    {
     "data": {
      "image/svg+xml": [
       "<?xml version=\"1.0\" encoding=\"UTF-8\" standalone=\"no\"?><svg xmlns=\"http://www.w3.org/2000/svg\" xmlns:xlink=\"http://www.w3.org/1999/xlink\" contentScriptType=\"application/ecmascript\" contentStyleType=\"text/css\" height=\"488px\" preserveAspectRatio=\"none\" style=\"width:333px;height:488px;\" version=\"1.1\" viewBox=\"0 0 333 488\" width=\"333px\" zoomAndPan=\"magnify\"><defs/><g><!--MD5=[fbc87193dbaf4d95561dea2c320d4a47]\n",
       "cluster E1--><a href=\"psysml:068a4463-a96d-4165-a2bc-cadf70a9bc09\" target=\"_top\" title=\"psysml:068a4463-a96d-4165-a2bc-cadf70a9bc09\" xlink:actuate=\"onRequest\" xlink:href=\"psysml:068a4463-a96d-4165-a2bc-cadf70a9bc09\" xlink:show=\"new\" xlink:title=\"psysml:068a4463-a96d-4165-a2bc-cadf70a9bc09\" xlink:type=\"simple\"><rect fill=\"#FFFFFF\" height=\"470\" id=\"E1\" style=\"stroke: #383838; stroke-width: 1.5;\" width=\"315\" x=\"7\" y=\"7\"/><rect fill=\"#F8F8F8\" height=\"37.9375\" style=\"stroke: #383838; stroke-width: 1.5;\" width=\"315\" x=\"7\" y=\"7\"/><text fill=\"#000000\" font-family=\"sans-serif\" font-size=\"12\" font-style=\"italic\" lengthAdjust=\"spacingAndGlyphs\" textLength=\"77\" x=\"126\" y=\"23.1387\">«action def»</text><text fill=\"#000000\" font-family=\"sans-serif\" font-size=\"12\" lengthAdjust=\"spacingAndGlyphs\" textLength=\"80\" x=\"124.5\" y=\"37.1074\">DecisionTest</text></a><polygon fill=\"#F8F8F8\" points=\"210,67.5,222,79.5,210,91.5,198,79.5,210,67.5\" style=\"stroke: #383838; stroke-width: 1.5;\"/><polygon fill=\"#F8F8F8\" points=\"35,187.5,47,199.5,35,211.5,23,199.5,35,187.5\" style=\"stroke: #383838; stroke-width: 1.5;\"/><g id=\"E1.E4\"><a href=\"psysml:86b53981-b1ee-4c30-93d6-edfc048c3f3e\" target=\"_top\" title=\"psysml:86b53981-b1ee-4c30-93d6-edfc048c3f3e\" xlink:actuate=\"onRequest\" xlink:href=\"psysml:86b53981-b1ee-4c30-93d6-edfc048c3f3e\" xlink:show=\"new\" xlink:title=\"psysml:86b53981-b1ee-4c30-93d6-edfc048c3f3e\" xlink:type=\"simple\"><rect fill=\"#FFFFFF\" height=\"42.9375\" id=\"E4\" rx=\"10\" ry=\"10\" style=\"stroke: #383838; stroke-width: 1.5;\" width=\"60\" x=\"135\" y=\"298\"/><rect fill=\"#F8F8F8\" height=\"37.9375\" rx=\"10\" ry=\"10\" style=\"stroke: #F8F8F8; stroke-width: 1.5;\" width=\"60\" x=\"135\" y=\"298\"/><rect fill=\"#F8F8F8\" height=\"10\" style=\"stroke: #F8F8F8; stroke-width: 1.5;\" width=\"60\" x=\"135\" y=\"325.9375\"/><rect fill=\"none\" height=\"42.9375\" id=\"E4\" rx=\"10\" ry=\"10\" style=\"stroke: #383838; stroke-width: 1.5;\" width=\"60\" x=\"135\" y=\"298\"/><text fill=\"#000000\" font-family=\"sans-serif\" font-size=\"12\" font-style=\"italic\" lengthAdjust=\"spacingAndGlyphs\" textLength=\"53\" x=\"138.5\" y=\"314.1387\">«action»</text><text fill=\"#000000\" font-family=\"sans-serif\" font-size=\"12\" lengthAdjust=\"spacingAndGlyphs\" textLength=\"16\" x=\"157\" y=\"328.1074\">A1</text></a></g><g id=\"E1.E5\"><a href=\"psysml:38b4e12b-2856-48b1-8683-970a7e146d76\" target=\"_top\" title=\"psysml:38b4e12b-2856-48b1-8683-970a7e146d76\" xlink:actuate=\"onRequest\" xlink:href=\"psysml:38b4e12b-2856-48b1-8683-970a7e146d76\" xlink:show=\"new\" xlink:title=\"psysml:38b4e12b-2856-48b1-8683-970a7e146d76\" xlink:type=\"simple\"><rect fill=\"#FFFFFF\" height=\"42.9375\" id=\"E5\" rx=\"10\" ry=\"10\" style=\"stroke: #383838; stroke-width: 1.5;\" width=\"60\" x=\"135\" y=\"418\"/><rect fill=\"#F8F8F8\" height=\"37.9375\" rx=\"10\" ry=\"10\" style=\"stroke: #F8F8F8; stroke-width: 1.5;\" width=\"60\" x=\"135\" y=\"418\"/><rect fill=\"#F8F8F8\" height=\"10\" style=\"stroke: #F8F8F8; stroke-width: 1.5;\" width=\"60\" x=\"135\" y=\"445.9375\"/><rect fill=\"none\" height=\"42.9375\" id=\"E5\" rx=\"10\" ry=\"10\" style=\"stroke: #383838; stroke-width: 1.5;\" width=\"60\" x=\"135\" y=\"418\"/><text fill=\"#000000\" font-family=\"sans-serif\" font-size=\"12\" font-style=\"italic\" lengthAdjust=\"spacingAndGlyphs\" textLength=\"53\" x=\"138.5\" y=\"434.1387\">«action»</text><text fill=\"#000000\" font-family=\"sans-serif\" font-size=\"12\" lengthAdjust=\"spacingAndGlyphs\" textLength=\"16\" x=\"157\" y=\"448.1074\">A2</text></a></g><g id=\"E1.E6\"><a href=\"psysml:3ceea1c4-b769-4e45-b22d-b9b14232dc11\" target=\"_top\" title=\"psysml:3ceea1c4-b769-4e45-b22d-b9b14232dc11\" xlink:actuate=\"onRequest\" xlink:href=\"psysml:3ceea1c4-b769-4e45-b22d-b9b14232dc11\" xlink:show=\"new\" xlink:title=\"psysml:3ceea1c4-b769-4e45-b22d-b9b14232dc11\" xlink:type=\"simple\"><rect fill=\"#FFFFFF\" height=\"42.9375\" id=\"E6\" rx=\"10\" ry=\"10\" style=\"stroke: #383838; stroke-width: 1.5;\" width=\"60\" x=\"63\" y=\"58\"/><rect fill=\"#F8F8F8\" height=\"37.9375\" rx=\"10\" ry=\"10\" style=\"stroke: #F8F8F8; stroke-width: 1.5;\" width=\"60\" x=\"63\" y=\"58\"/><rect fill=\"#F8F8F8\" height=\"10\" style=\"stroke: #F8F8F8; stroke-width: 1.5;\" width=\"60\" x=\"63\" y=\"85.9375\"/><rect fill=\"none\" height=\"42.9375\" id=\"E6\" rx=\"10\" ry=\"10\" style=\"stroke: #383838; stroke-width: 1.5;\" width=\"60\" x=\"63\" y=\"58\"/><text fill=\"#000000\" font-family=\"sans-serif\" font-size=\"12\" font-style=\"italic\" lengthAdjust=\"spacingAndGlyphs\" textLength=\"53\" x=\"66.5\" y=\"74.1387\">«action»</text><text fill=\"#000000\" font-family=\"sans-serif\" font-size=\"12\" lengthAdjust=\"spacingAndGlyphs\" textLength=\"16\" x=\"85\" y=\"88.1074\">A3</text></a></g><g id=\"E1.E7\"><a href=\"psysml:3ceea1c4-b769-4e45-b22d-b9b14232dc11\" target=\"_top\" title=\"psysml:3ceea1c4-b769-4e45-b22d-b9b14232dc11\" xlink:actuate=\"onRequest\" xlink:href=\"psysml:3ceea1c4-b769-4e45-b22d-b9b14232dc11\" xlink:show=\"new\" xlink:title=\"psysml:3ceea1c4-b769-4e45-b22d-b9b14232dc11\" xlink:type=\"simple\"><rect fill=\"#FFFFFF\" height=\"42.9375\" id=\"E7\" rx=\"10\" ry=\"10\" style=\"stroke: #383838; stroke-width: 1.5;\" width=\"60\" x=\"246\" y=\"178\"/><rect fill=\"#F8F8F8\" height=\"37.9375\" rx=\"10\" ry=\"10\" style=\"stroke: #F8F8F8; stroke-width: 1.5;\" width=\"60\" x=\"246\" y=\"178\"/><rect fill=\"#F8F8F8\" height=\"10\" style=\"stroke: #F8F8F8; stroke-width: 1.5;\" width=\"60\" x=\"246\" y=\"205.9375\"/><rect fill=\"none\" height=\"42.9375\" id=\"E7\" rx=\"10\" ry=\"10\" style=\"stroke: #383838; stroke-width: 1.5;\" width=\"60\" x=\"246\" y=\"178\"/><text fill=\"#000000\" font-family=\"sans-serif\" font-size=\"12\" font-style=\"italic\" lengthAdjust=\"spacingAndGlyphs\" textLength=\"53\" x=\"249.5\" y=\"194.1387\">«action»</text><text fill=\"#000000\" font-family=\"sans-serif\" font-size=\"12\" lengthAdjust=\"spacingAndGlyphs\" textLength=\"16\" x=\"268\" y=\"208.1074\">A3</text></a></g><!--MD5=[4d03bb2d0377dc85ccfab60ff574652b]\n",
       "link E2 to E4--><a href=\"psysml:5839aeb0-dd7d-4257-be26-6d697b84d54b\" target=\"_top\" title=\"psysml:5839aeb0-dd7d-4257-be26-6d697b84d54b\" xlink:actuate=\"onRequest\" xlink:href=\"psysml:5839aeb0-dd7d-4257-be26-6d697b84d54b\" xlink:show=\"new\" xlink:title=\"psysml:5839aeb0-dd7d-4257-be26-6d697b84d54b\" xlink:type=\"simple\"><path d=\"M206,87.5 C206,129.23 206,320 206,320 C206,320 200.23,320 200.23,320 \" fill=\"none\" id=\"E2-&gt;E4\" style=\"stroke: #383838; stroke-width: 1.0;\"/><polygon fill=\"#383838\" points=\"195.23,320,204.23,324,200.23,320,204.23,316,195.23,320\" style=\"stroke: #383838; stroke-width: 1.0;\"/><text fill=\"#000000\" font-family=\"sans-serif\" font-size=\"13\" lengthAdjust=\"spacingAndGlyphs\" textLength=\"55\" x=\"118\" y=\"204.0669\">[x == 1]</text></a><!--MD5=[dcad52bbbca2fe8adc741ce38b45dc12]\n",
       "link E2 to E5--><a href=\"psysml:6472265e-4329-42f9-a73f-b0fdd653d81d\" target=\"_top\" title=\"psysml:6472265e-4329-42f9-a73f-b0fdd653d81d\" xlink:actuate=\"onRequest\" xlink:href=\"psysml:6472265e-4329-42f9-a73f-b0fdd653d81d\" xlink:show=\"new\" xlink:title=\"psysml:6472265e-4329-42f9-a73f-b0fdd653d81d\" xlink:type=\"simple\"><path d=\"M210,91.91 C210,155.3 210,440 210,440 C210,440 200.02,440 200.02,440 \" fill=\"none\" id=\"E2-&gt;E5\" style=\"stroke: #383838; stroke-width: 1.0;\"/><polygon fill=\"#383838\" points=\"195.02,440,204.02,444,200.02,440,204.02,436,195.02,440\" style=\"stroke: #383838; stroke-width: 1.0;\"/><text fill=\"#000000\" font-family=\"sans-serif\" font-size=\"13\" lengthAdjust=\"spacingAndGlyphs\" textLength=\"44\" x=\"221\" y=\"264.0669\">[x &gt; 1]</text></a><!--MD5=[e3d2a08a9c9236652057e8ed0cbc9b62]\n",
       "link E2 to E7--><a href=\"psysml:3c10905a-0cf4-4572-9b68-27220c544656\" target=\"_top\" title=\"psysml:3c10905a-0cf4-4572-9b68-27220c544656\" xlink:actuate=\"onRequest\" xlink:href=\"psysml:3c10905a-0cf4-4572-9b68-27220c544656\" xlink:show=\"new\" xlink:title=\"psysml:3c10905a-0cf4-4572-9b68-27220c544656\" xlink:type=\"simple\"><path d=\"M218,83.9 C218,103.52 218,182 218,182 C218,182 240.98,182 240.98,182 \" fill=\"none\" id=\"E2-&gt;E7\" style=\"stroke: #383838; stroke-width: 1.0;\"/><polygon fill=\"#383838\" points=\"245.98,182,236.98,178,240.98,182,236.98,186,245.98,182\" style=\"stroke: #383838; stroke-width: 1.0;\"/></a><!--MD5=[583832df87f4419a098336a29a52fa00]\n",
       "link E7 to E2--><a href=\"psysml:2ecae6e1-cb24-4407-809b-df9594bdb8fa\" target=\"_top\" title=\"psysml:2ecae6e1-cb24-4407-809b-df9594bdb8fa\" xlink:actuate=\"onRequest\" xlink:href=\"psysml:2ecae6e1-cb24-4407-809b-df9594bdb8fa\" xlink:show=\"new\" xlink:title=\"psysml:2ecae6e1-cb24-4407-809b-df9594bdb8fa\" xlink:type=\"simple\"><path d=\"M245.73,185 C229.99,185 214,185 214,185 C214,185 214,92.78 214,92.78 \" fill=\"none\" id=\"E7-&gt;E2\" style=\"stroke: #383838; stroke-width: 1.0;\"/><polygon fill=\"#383838\" points=\"214,87.78,210,96.78,214,92.78,218,96.78,214,87.78\" style=\"stroke: #383838; stroke-width: 1.0;\"/><text fill=\"#000000\" font-family=\"sans-serif\" font-size=\"13\" lengthAdjust=\"spacingAndGlyphs\" textLength=\"44\" x=\"260\" y=\"144.0669\">[x &gt; 0]</text></a><!--MD5=[2720a5a1f2c3fca2055b230370638851]\n",
       "link E2 to E3--><a href=\"psysml:4534ef33-8eda-405a-b2f5-6c95fd446375\" target=\"_top\" title=\"psysml:4534ef33-8eda-405a-b2f5-6c95fd446375\" xlink:actuate=\"onRequest\" xlink:href=\"psysml:4534ef33-8eda-405a-b2f5-6c95fd446375\" xlink:show=\"new\" xlink:title=\"psysml:4534ef33-8eda-405a-b2f5-6c95fd446375\" xlink:type=\"simple\"><path d=\"M202,83.51 C202,104.42 202,200 202,200 C202,200 51.74,200 51.74,200 \" fill=\"none\" id=\"E2-&gt;E3\" style=\"stroke: #383838; stroke-width: 1.0;\"/><polygon fill=\"#383838\" points=\"46.74,200,55.74,204,51.74,200,55.74,196,46.74,200\" style=\"stroke: #383838; stroke-width: 1.0;\"/></a><!--MD5=[af87c684e3b0d8be13c1a698a818ef1e]\n",
       "link E3 to E4--><a href=\"psysml:4cb33783-cb85-4624-8a6d-789ab5e27309\" target=\"_top\" title=\"psysml:4cb33783-cb85-4624-8a6d-789ab5e27309\" xlink:actuate=\"onRequest\" xlink:href=\"psysml:4cb33783-cb85-4624-8a6d-789ab5e27309\" xlink:show=\"new\" xlink:title=\"psysml:4cb33783-cb85-4624-8a6d-789ab5e27309\" xlink:type=\"simple\"><path d=\"M39,207.78 C39,235.01 39,320 39,320 C39,320 129.82,320 129.82,320 \" fill=\"none\" id=\"E3-&gt;E4\" style=\"stroke: #383838; stroke-width: 1.0;\"/><polygon fill=\"#383838\" points=\"134.82,320,125.82,316,129.82,320,125.82,324,134.82,320\" style=\"stroke: #383838; stroke-width: 1.0;\"/><text fill=\"#000000\" font-family=\"sans-serif\" font-size=\"13\" lengthAdjust=\"spacingAndGlyphs\" textLength=\"36\" x=\"88\" y=\"264.0669\">[true]</text></a><!--MD5=[0188b64bb0ae78505a997a81836e11e9]\n",
       "link E3 to E5--><a href=\"psysml:7566f218-2e4c-4b1d-8134-f6de9f4cb12f\" target=\"_top\" title=\"psysml:7566f218-2e4c-4b1d-8134-f6de9f4cb12f\" xlink:actuate=\"onRequest\" xlink:href=\"psysml:7566f218-2e4c-4b1d-8134-f6de9f4cb12f\" xlink:show=\"new\" xlink:title=\"psysml:7566f218-2e4c-4b1d-8134-f6de9f4cb12f\" xlink:type=\"simple\"><path d=\"M31,207.5 C31,249.23 31,440 31,440 C31,440 129.93,440 129.93,440 \" fill=\"none\" id=\"E3-&gt;E5\" style=\"stroke: #383838; stroke-width: 1.0;\"/><polygon fill=\"#383838\" points=\"134.93,440,125.93,436,129.93,440,125.93,444,134.93,440\" style=\"stroke: #383838; stroke-width: 1.0;\"/><text fill=\"#000000\" font-family=\"sans-serif\" font-size=\"13\" lengthAdjust=\"spacingAndGlyphs\" textLength=\"40\" x=\"59\" y=\"324.0669\">[false]</text></a><!--MD5=[1b7591eae5389033d8d09a9d6721a717]\n",
       "link E4 to E5--><a href=\"psysml:2ec4d8de-ba31-4f08-a58c-ce574f556666\" target=\"_top\" title=\"psysml:2ec4d8de-ba31-4f08-a58c-ce574f556666\" xlink:actuate=\"onRequest\" xlink:href=\"psysml:2ec4d8de-ba31-4f08-a58c-ce574f556666\" xlink:show=\"new\" xlink:title=\"psysml:2ec4d8de-ba31-4f08-a58c-ce574f556666\" xlink:type=\"simple\"><path d=\"M165,341.23 C165,341.23 165,412.93 165,412.93 \" fill=\"none\" id=\"E4-&gt;E5\" style=\"stroke: #383838; stroke-width: 1.0;\"/><polygon fill=\"#383838\" points=\"165,417.93,169,408.93,165,412.93,161,408.93,165,417.93\" style=\"stroke: #383838; stroke-width: 1.0;\"/><text fill=\"#000000\" font-family=\"sans-serif\" font-size=\"13\" lengthAdjust=\"spacingAndGlyphs\" textLength=\"55\" x=\"166\" y=\"384.0669\">[x == 0]</text></a><!--MD5=[f122d1cb90c6036f599e63d0e0aad918]\n",
       "@startuml\r\n",
       "skinparam linetype ortho\r\n",
       "skinparam monochrome true\r\n",
       "skinparam classbackgroundcolor white\r\n",
       "skinparam shadowing false\r\n",
       "skinparam wrapWidth 300\r\n",
       "hide circle\r\n",
       "\r\n",
       "rec def \"DecisionTest\" as E1  <<(T,blue) action def>> [[psysml:068a4463-a96d-4165-a2bc-cadf70a9bc09 ]] {\r\n",
       "choice \"test x\" as E2  [[psysml:44ee9e06-5fd9-46bf-b0f8-00dd693073b7 ]] \r\n",
       "choice \"noname\" as E3  [[psysml:eeb68ac4-2ad3-4e0c-9c18-140c63d1edba ]] \r\n",
       "rec usage \"A1\" as E4  <<(T,blue) action>> [[psysml:86b53981-b1ee-4c30-93d6-edfc048c3f3e ]] {\r\n",
       "}\r\n",
       "\r\n",
       "rec usage \"A2\" as E5  <<(T,blue) action>> [[psysml:38b4e12b-2856-48b1-8683-970a7e146d76 ]] {\r\n",
       "}\r\n",
       "\r\n",
       "rec usage \"A3\" as E6  <<(T,blue) action>> [[psysml:3ceea1c4-b769-4e45-b22d-b9b14232dc11 ]] {\r\n",
       "}\r\n",
       "\r\n",
       "rec usage \"A3\" as E7  <<(T,blue) action>> [[psysml:3ceea1c4-b769-4e45-b22d-b9b14232dc11 ]] {\r\n",
       "}\r\n",
       "\r\n",
       "}\r\n",
       "\r\n",
       "E2  - -> E4 [[psysml:5839aeb0-dd7d-4257-be26-6d697b84d54b ]] : [x == 1]\r\n",
       "E2  - -> E5 [[psysml:6472265e-4329-42f9-a73f-b0fdd653d81d ]] : [x > 1]\r\n",
       "E2  - -> E7 [[psysml:3c10905a-0cf4-4572-9b68-27220c544656 ]] \r\n",
       "E2 - -> E3 [[psysml:4534ef33-8eda-405a-b2f5-6c95fd446375 ]] \r\n",
       "E3  - -> E4 [[psysml:4cb33783-cb85-4624-8a6d-789ab5e27309 ]] : [true]\r\n",
       "E3  - -> E5 [[psysml:7566f218-2e4c-4b1d-8134-f6de9f4cb12f ]] : [false]\r\n",
       "E4  - -> E5 [[psysml:2ec4d8de-ba31-4f08-a58c-ce574f556666 ]] : [x == 0]\r\n",
       "E7  - -> E2 [[psysml:2ecae6e1-cb24-4407-809b-df9594bdb8fa ]] : [x > 0]\r\n",
       "@enduml\r\n",
       "\n",
       "PlantUML version 1.2020.13(Sat Jun 13 12:26:38 UTC 2020)\n",
       "(EPL source distribution)\n",
       "Java Runtime: OpenJDK Runtime Environment\n",
       "JVM: OpenJDK 64-Bit Server VM\n",
       "Default Encoding: UTF-8\n",
       "Language: en\n",
       "Country: null\n",
       "--></g></svg>"
      ]
     },
     "execution_count": 57,
     "metadata": {},
     "output_type": "execute_result"
    }
   ],
   "source": [
    "%viz --style=\"ORTHOLINE\" --view=\"MIXED\" \"DecisionTest\""
   ]
  }
 ],
 "metadata": {
  "kernelspec": {
   "display_name": "SysML",
   "language": "sysml",
   "name": "sysml"
  },
  "language_info": {
   "codemirror_mode": "sysml",
   "file_extension": ".sysml",
   "mimetype": "text/x-sysml",
   "name": "SysML",
   "pygments_lexer": "java",
   "version": "1.0.0"
  }
 },
 "nbformat": 4,
 "nbformat_minor": 5
}
