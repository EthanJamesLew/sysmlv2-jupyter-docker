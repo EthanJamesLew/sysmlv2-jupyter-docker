{
 "cells": [
  {
   "cell_type": "markdown",
   "id": "d34f9d8b",
   "metadata": {},
   "source": [
    "# SysML v2 Test Suite\n",
    "\n",
    "This can notebook can be cleared using menu `Edit --> Clear All Outputs` and then all cells can be\n",
    "run using menu `Run --> Run All Cells`.\n",
    "\n",
    "**WARNING**: This file is generated, all modifications here will be ignored.\n"
   ]
  },
  {
   "cell_type": "markdown",
   "id": "1b97c23d",
   "metadata": {},
   "source": [
    "## File: ../../sysml/src/examples/Simple Tests/DecisionTest.sysml"
   ]
  },
  {
   "cell_type": "code",
   "execution_count": 1,
   "id": "8bb33a03",
   "metadata": {
    "execution": {
     "iopub.execute_input": "2021-05-27T06:09:49.321034Z",
     "iopub.status.busy": "2021-05-27T06:09:49.319757Z",
     "iopub.status.idle": "2021-05-27T06:09:50.181510Z",
     "shell.execute_reply": "2021-05-27T06:09:50.180803Z"
    }
   },
   "outputs": [
    {
     "data": {
      "text/plain": [
       "ActionDefinition DecisionTest (6b266afa-f8cb-4494-a281-5cddaddd9cda)\n"
      ]
     },
     "execution_count": 1,
     "metadata": {},
     "output_type": "execute_result"
    }
   ],
   "source": [
    "action def DecisionTest {\n",
    "\tattribute x = 1;\n",
    "\t\n",
    "\tdecide 'test x';\n",
    "\tif x == 1 then A1; \n",
    "\tif x > 1 then A2;\n",
    "\telse A3; \n",
    "\t\n",
    "\tthen decide; \n",
    "\tif true then A1;\n",
    "\tif false then A2;\n",
    "\t\n",
    "\taction A1;\n",
    "\taction A2;\n",
    "\taction A3;\n",
    "\t\n",
    "\tsuccession S first A1 \n",
    "\t\tif x == 0 then A2;\n",
    "\t\t\n",
    "\tfirst A3;\n",
    "\t\tif x > 0 then 'test x';\n",
    "}"
   ]
  },
  {
   "cell_type": "code",
   "execution_count": 2,
   "id": "c8e9570c",
   "metadata": {
    "execution": {
     "iopub.execute_input": "2021-05-27T06:09:50.236835Z",
     "iopub.status.busy": "2021-05-27T06:09:50.235496Z",
     "iopub.status.idle": "2021-05-27T06:09:50.789753Z",
     "shell.execute_reply": "2021-05-27T06:09:50.789387Z"
    }
   },
   "outputs": [
    {
     "data": {
      "image/svg+xml": [
       "<?xml version=\"1.0\" encoding=\"UTF-8\" standalone=\"no\"?><svg xmlns=\"http://www.w3.org/2000/svg\" xmlns:xlink=\"http://www.w3.org/1999/xlink\" contentScriptType=\"application/ecmascript\" contentStyleType=\"text/css\" height=\"574px\" preserveAspectRatio=\"none\" style=\"width:333px;height:574px;\" version=\"1.1\" viewBox=\"0 0 333 574\" width=\"333px\" zoomAndPan=\"magnify\"><defs/><g><!--MD5=[fbc87193dbaf4d95561dea2c320d4a47]\n",
       "cluster E1--><a href=\"psysml:3be07126-877a-4309-8447-1e285ef81f95\" target=\"_top\" title=\"psysml:3be07126-877a-4309-8447-1e285ef81f95\" xlink:actuate=\"onRequest\" xlink:href=\"psysml:3be07126-877a-4309-8447-1e285ef81f95\" xlink:show=\"new\" xlink:title=\"psysml:3be07126-877a-4309-8447-1e285ef81f95\" xlink:type=\"simple\"><rect fill=\"#FFFFFF\" height=\"534.72\" id=\"E1\" style=\"stroke: #383838; stroke-width: 1.5;\" width=\"315\" x=\"7\" y=\"7\"/><rect fill=\"#F8F8F8\" height=\"37.9375\" style=\"stroke: #383838; stroke-width: 1.5;\" width=\"315\" x=\"7\" y=\"7\"/><text fill=\"#000000\" font-family=\"sans-serif\" font-size=\"12\" font-style=\"italic\" lengthAdjust=\"spacingAndGlyphs\" textLength=\"77\" x=\"126\" y=\"23.1387\">«action def»</text><text fill=\"#000000\" font-family=\"sans-serif\" font-size=\"12\" lengthAdjust=\"spacingAndGlyphs\" textLength=\"80\" x=\"124.5\" y=\"37.1074\">DecisionTest</text></a><text fill=\"#000000\" font-family=\"sans-serif\" font-size=\"14\" lengthAdjust=\"spacingAndGlyphs\" textLength=\"48\" x=\"140\" y=\"560.7151\">$result</text><rect fill=\"#383838\" height=\"12\" style=\"stroke: #F8F8F8; stroke-width: 1.5;\" width=\"12\" x=\"158\" y=\"535.72\"/><polygon fill=\"#F8F8F8\" points=\"141,28.5,153,40.5,141,52.5,129,40.5,141,28.5\" style=\"stroke: #383838; stroke-width: 1.5;\"/><polygon fill=\"#F8F8F8\" points=\"35,170.5,47,182.5,35,194.5,23,182.5,35,170.5\" style=\"stroke: #383838; stroke-width: 1.5;\"/><g id=\"E1.E5\"><a href=\"psysml:0f40ea9b-adac-4a33-8b1a-34d15e55e3d2\" target=\"_top\" title=\"psysml:0f40ea9b-adac-4a33-8b1a-34d15e55e3d2\" xlink:actuate=\"onRequest\" xlink:href=\"psysml:0f40ea9b-adac-4a33-8b1a-34d15e55e3d2\" xlink:show=\"new\" xlink:title=\"psysml:0f40ea9b-adac-4a33-8b1a-34d15e55e3d2\" xlink:type=\"simple\"><rect fill=\"#FFFFFF\" height=\"42.9375\" id=\"E5\" rx=\"10\" ry=\"10\" style=\"stroke: #383838; stroke-width: 1.5;\" width=\"60\" x=\"135\" y=\"281\"/><rect fill=\"#F8F8F8\" height=\"37.9375\" rx=\"10\" ry=\"10\" style=\"stroke: #F8F8F8; stroke-width: 1.5;\" width=\"60\" x=\"135\" y=\"281\"/><rect fill=\"#F8F8F8\" height=\"10\" style=\"stroke: #F8F8F8; stroke-width: 1.5;\" width=\"60\" x=\"135\" y=\"308.9375\"/><rect fill=\"none\" height=\"42.9375\" id=\"E5\" rx=\"10\" ry=\"10\" style=\"stroke: #383838; stroke-width: 1.5;\" width=\"60\" x=\"135\" y=\"281\"/><text fill=\"#000000\" font-family=\"sans-serif\" font-size=\"12\" font-style=\"italic\" lengthAdjust=\"spacingAndGlyphs\" textLength=\"53\" x=\"138.5\" y=\"297.1387\">«action»</text><text fill=\"#000000\" font-family=\"sans-serif\" font-size=\"12\" lengthAdjust=\"spacingAndGlyphs\" textLength=\"16\" x=\"157\" y=\"311.1074\">A1</text></a></g><g id=\"E1.E6\"><a href=\"psysml:128661ee-6ef6-488f-adc9-4acba814b00a\" target=\"_top\" title=\"psysml:128661ee-6ef6-488f-adc9-4acba814b00a\" xlink:actuate=\"onRequest\" xlink:href=\"psysml:128661ee-6ef6-488f-adc9-4acba814b00a\" xlink:show=\"new\" xlink:title=\"psysml:128661ee-6ef6-488f-adc9-4acba814b00a\" xlink:type=\"simple\"><rect fill=\"#FFFFFF\" height=\"42.9375\" id=\"E6\" rx=\"10\" ry=\"10\" style=\"stroke: #383838; stroke-width: 1.5;\" width=\"60\" x=\"135\" y=\"401\"/><rect fill=\"#F8F8F8\" height=\"37.9375\" rx=\"10\" ry=\"10\" style=\"stroke: #F8F8F8; stroke-width: 1.5;\" width=\"60\" x=\"135\" y=\"401\"/><rect fill=\"#F8F8F8\" height=\"10\" style=\"stroke: #F8F8F8; stroke-width: 1.5;\" width=\"60\" x=\"135\" y=\"428.9375\"/><rect fill=\"none\" height=\"42.9375\" id=\"E6\" rx=\"10\" ry=\"10\" style=\"stroke: #383838; stroke-width: 1.5;\" width=\"60\" x=\"135\" y=\"401\"/><text fill=\"#000000\" font-family=\"sans-serif\" font-size=\"12\" font-style=\"italic\" lengthAdjust=\"spacingAndGlyphs\" textLength=\"53\" x=\"138.5\" y=\"417.1387\">«action»</text><text fill=\"#000000\" font-family=\"sans-serif\" font-size=\"12\" lengthAdjust=\"spacingAndGlyphs\" textLength=\"16\" x=\"157\" y=\"431.1074\">A2</text></a></g><g id=\"E1.E7\"><a href=\"psysml:7b9f6d16-7e81-4d0a-aec9-34a5599243af\" target=\"_top\" title=\"psysml:7b9f6d16-7e81-4d0a-aec9-34a5599243af\" xlink:actuate=\"onRequest\" xlink:href=\"psysml:7b9f6d16-7e81-4d0a-aec9-34a5599243af\" xlink:show=\"new\" xlink:title=\"psysml:7b9f6d16-7e81-4d0a-aec9-34a5599243af\" xlink:type=\"simple\"><rect fill=\"#FFFFFF\" height=\"42.9375\" id=\"E7\" rx=\"10\" ry=\"10\" style=\"stroke: #383838; stroke-width: 1.5;\" width=\"60\" x=\"46\" y=\"88\"/><rect fill=\"#F8F8F8\" height=\"37.9375\" rx=\"10\" ry=\"10\" style=\"stroke: #F8F8F8; stroke-width: 1.5;\" width=\"60\" x=\"46\" y=\"88\"/><rect fill=\"#F8F8F8\" height=\"10\" style=\"stroke: #F8F8F8; stroke-width: 1.5;\" width=\"60\" x=\"46\" y=\"115.9375\"/><rect fill=\"none\" height=\"42.9375\" id=\"E7\" rx=\"10\" ry=\"10\" style=\"stroke: #383838; stroke-width: 1.5;\" width=\"60\" x=\"46\" y=\"88\"/><text fill=\"#000000\" font-family=\"sans-serif\" font-size=\"12\" font-style=\"italic\" lengthAdjust=\"spacingAndGlyphs\" textLength=\"53\" x=\"49.5\" y=\"104.1387\">«action»</text><text fill=\"#000000\" font-family=\"sans-serif\" font-size=\"12\" lengthAdjust=\"spacingAndGlyphs\" textLength=\"16\" x=\"68\" y=\"118.1074\">A3</text></a></g><g id=\"E1.E8\"><a href=\"psysml:7b9f6d16-7e81-4d0a-aec9-34a5599243af\" target=\"_top\" title=\"psysml:7b9f6d16-7e81-4d0a-aec9-34a5599243af\" xlink:actuate=\"onRequest\" xlink:href=\"psysml:7b9f6d16-7e81-4d0a-aec9-34a5599243af\" xlink:show=\"new\" xlink:title=\"psysml:7b9f6d16-7e81-4d0a-aec9-34a5599243af\" xlink:type=\"simple\"><rect fill=\"#FFFFFF\" height=\"42.9375\" id=\"E8\" rx=\"10\" ry=\"10\" style=\"stroke: #383838; stroke-width: 1.5;\" width=\"60\" x=\"246\" y=\"161\"/><rect fill=\"#F8F8F8\" height=\"37.9375\" rx=\"10\" ry=\"10\" style=\"stroke: #F8F8F8; stroke-width: 1.5;\" width=\"60\" x=\"246\" y=\"161\"/><rect fill=\"#F8F8F8\" height=\"10\" style=\"stroke: #F8F8F8; stroke-width: 1.5;\" width=\"60\" x=\"246\" y=\"188.9375\"/><rect fill=\"none\" height=\"42.9375\" id=\"E8\" rx=\"10\" ry=\"10\" style=\"stroke: #383838; stroke-width: 1.5;\" width=\"60\" x=\"246\" y=\"161\"/><text fill=\"#000000\" font-family=\"sans-serif\" font-size=\"12\" font-style=\"italic\" lengthAdjust=\"spacingAndGlyphs\" textLength=\"53\" x=\"249.5\" y=\"177.1387\">«action»</text><text fill=\"#000000\" font-family=\"sans-serif\" font-size=\"12\" lengthAdjust=\"spacingAndGlyphs\" textLength=\"16\" x=\"268\" y=\"191.1074\">A3</text></a></g><!--MD5=[0188b64bb0ae78505a997a81836e11e9]\n",
       "link E3 to E5--><a href=\"psysml:7286f462-e52e-4ebc-bfea-7701f26f76d2\" target=\"_top\" title=\"psysml:7286f462-e52e-4ebc-bfea-7701f26f76d2\" xlink:actuate=\"onRequest\" xlink:href=\"psysml:7286f462-e52e-4ebc-bfea-7701f26f76d2\" xlink:show=\"new\" xlink:title=\"psysml:7286f462-e52e-4ebc-bfea-7701f26f76d2\" xlink:type=\"simple\"><path d=\"M140.49,52.19 C139.39,78.26 137.41,147.1 144,204 C146.84,228.53 153.03,255.98 157.96,275.49 \" fill=\"none\" id=\"E3-&gt;E5\" style=\"stroke: #383838; stroke-width: 1.0;\"/><polygon fill=\"#383838\" points=\"159.31,280.77,160.9741,271.0627,158.0805,275.9235,153.2197,273.0299,159.31,280.77\" style=\"stroke: #383838; stroke-width: 1.0;\"/><text fill=\"#000000\" font-family=\"sans-serif\" font-size=\"13\" lengthAdjust=\"spacingAndGlyphs\" textLength=\"55\" x=\"145\" y=\"187.0669\">[x == 1]</text></a><!--MD5=[ec9844e0c75763426927cad3229d1081]\n",
       "link E3 to E6--><a href=\"psysml:e748a59f-80ec-4a6b-adc3-e898091fbade\" target=\"_top\" title=\"psysml:e748a59f-80ec-4a6b-adc3-e898091fbade\" xlink:actuate=\"onRequest\" xlink:href=\"psysml:e748a59f-80ec-4a6b-adc3-e898091fbade\" xlink:show=\"new\" xlink:title=\"psysml:e748a59f-80ec-4a6b-adc3-e898091fbade\" xlink:type=\"simple\"><path d=\"M145.73,48.09 C157.96,65.53 190.67,114.68 205,161 C230.5,243.43 221.33,267.84 226,354 C226.41,361.54 229.22,364.16 226,371 C220.27,383.19 209.98,393.45 199.48,401.47 \" fill=\"none\" id=\"E3-&gt;E6\" style=\"stroke: #383838; stroke-width: 1.0;\"/><polygon fill=\"#383838\" points=\"195.29,404.54,204.9073,402.4168,199.3138,401.5721,200.1586,395.9786,195.29,404.54\" style=\"stroke: #383838; stroke-width: 1.0;\"/><text fill=\"#000000\" font-family=\"sans-serif\" font-size=\"13\" lengthAdjust=\"spacingAndGlyphs\" textLength=\"44\" x=\"223\" y=\"247.0669\">[x &gt; 1]</text></a><!--MD5=[ca5a752d6098d8a44b3f88316e7452d1]\n",
       "link E3 to E8--><a href=\"psysml:c4aa7bb1-7be8-4d3d-94c8-0c3feb0dde03\" target=\"_top\" title=\"psysml:c4aa7bb1-7be8-4d3d-94c8-0c3feb0dde03\" xlink:actuate=\"onRequest\" xlink:href=\"psysml:c4aa7bb1-7be8-4d3d-94c8-0c3feb0dde03\" xlink:show=\"new\" xlink:title=\"psysml:c4aa7bb1-7be8-4d3d-94c8-0c3feb0dde03\" xlink:type=\"simple\"><path d=\"M147.97,45.53 C163.29,54.53 199.17,76.37 207,88 C217.96,104.27 206.82,114.23 217,131 C223.37,141.49 232.66,150.9 242,158.68 \" fill=\"none\" id=\"E3-&gt;E8\" style=\"stroke: #383838; stroke-width: 1.0;\"/><polygon fill=\"#383838\" points=\"246,161.91,241.5179,153.1401,242.1124,158.7657,236.4869,159.3602,246,161.91\" style=\"stroke: #383838; stroke-width: 1.0;\"/></a><!--MD5=[95fa686b5a16158bcdbcaeead89f639b]\n",
       "link E8 to E3--><a href=\"psysml:313c2626-617f-4a85-9d7c-c31cb61d9b9e\" target=\"_top\" title=\"psysml:313c2626-617f-4a85-9d7c-c31cb61d9b9e\" xlink:actuate=\"onRequest\" xlink:href=\"psysml:313c2626-617f-4a85-9d7c-c31cb61d9b9e\" xlink:show=\"new\" xlink:title=\"psysml:313c2626-617f-4a85-9d7c-c31cb61d9b9e\" xlink:type=\"simple\"><path d=\"M263.71,160.86 C249.28,137.02 225.81,99.6 214,88 C204.2,78.38 171.17,58.79 153.08,48.37 \" fill=\"none\" id=\"E8-&gt;E3\" style=\"stroke: #383838; stroke-width: 1.0;\"/><polygon fill=\"#383838\" points=\"148.41,45.69,154.234,53.6323,152.7495,48.1738,158.208,46.6892,148.41,45.69\" style=\"stroke: #383838; stroke-width: 1.0;\"/><text fill=\"#000000\" font-family=\"sans-serif\" font-size=\"13\" lengthAdjust=\"spacingAndGlyphs\" textLength=\"44\" x=\"244\" y=\"114.0669\">[x &gt; 0]</text></a><!--MD5=[af87c684e3b0d8be13c1a698a818ef1e]\n",
       "link E3 to E4--><a href=\"psysml:9e59e0cd-e7d6-48f9-8abd-2b6da2cb7bd3\" target=\"_top\" title=\"psysml:9e59e0cd-e7d6-48f9-8abd-2b6da2cb7bd3\" xlink:actuate=\"onRequest\" xlink:href=\"psysml:9e59e0cd-e7d6-48f9-8abd-2b6da2cb7bd3\" xlink:show=\"new\" xlink:title=\"psysml:9e59e0cd-e7d6-48f9-8abd-2b6da2cb7bd3\" xlink:type=\"simple\"><path d=\"M131.03,42.86 C110.41,46.26 63.22,57.19 42,88 C25.54,111.89 28.61,147.84 31.99,167.47 \" fill=\"none\" id=\"E3-&gt;E4\" style=\"stroke: #383838; stroke-width: 1.0;\"/><polygon fill=\"#383838\" points=\"32.94,172.56,35.2263,162.9802,32.0255,167.6443,27.3613,164.4435,32.94,172.56\" style=\"stroke: #383838; stroke-width: 1.0;\"/></a><!--MD5=[1b7591eae5389033d8d09a9d6721a717]\n",
       "link E4 to E5--><a href=\"psysml:7b0b5bc6-fd2d-464d-92f4-1e71099b6f78\" target=\"_top\" title=\"psysml:7b0b5bc6-fd2d-464d-92f4-1e71099b6f78\" xlink:actuate=\"onRequest\" xlink:href=\"psysml:7b0b5bc6-fd2d-464d-92f4-1e71099b6f78\" xlink:show=\"new\" xlink:title=\"psysml:7b0b5bc6-fd2d-464d-92f4-1e71099b6f78\" xlink:type=\"simple\"><path d=\"M39.08,190.91 C46.63,204.15 63.87,232.24 84,251 C97.73,263.8 115.17,275.16 130.35,283.85 \" fill=\"none\" id=\"E4-&gt;E5\" style=\"stroke: #383838; stroke-width: 1.0;\"/><polygon fill=\"#383838\" points=\"134.98,286.46,129.0858,278.5696,130.6187,284.0148,125.1735,285.5477,134.98,286.46\" style=\"stroke: #383838; stroke-width: 1.0;\"/><text fill=\"#000000\" font-family=\"sans-serif\" font-size=\"13\" lengthAdjust=\"spacingAndGlyphs\" textLength=\"36\" x=\"85\" y=\"247.0669\">[true]</text></a><!--MD5=[79568f1e445c3877b6a54524624ccc7d]\n",
       "link E4 to E6--><a href=\"psysml:2cb1b039-bbb8-4621-9b87-8355478bfab0\" target=\"_top\" title=\"psysml:2cb1b039-bbb8-4621-9b87-8355478bfab0\" xlink:actuate=\"onRequest\" xlink:href=\"psysml:2cb1b039-bbb8-4621-9b87-8355478bfab0\" xlink:show=\"new\" xlink:title=\"psysml:2cb1b039-bbb8-4621-9b87-8355478bfab0\" xlink:type=\"simple\"><path d=\"M36.3,193.29 C39.76,217.03 50.73,279.03 76,324 C91.89,352.29 117.42,379.1 137.07,397.43 \" fill=\"none\" id=\"E4-&gt;E6\" style=\"stroke: #383838; stroke-width: 1.0;\"/><polygon fill=\"#383838\" points=\"140.92,400.98,137.0155,391.9382,137.2443,397.5904,131.5921,397.8192,140.92,400.98\" style=\"stroke: #383838; stroke-width: 1.0;\"/><text fill=\"#000000\" font-family=\"sans-serif\" font-size=\"13\" lengthAdjust=\"spacingAndGlyphs\" textLength=\"40\" x=\"77\" y=\"307.0669\">[false]</text></a><!--MD5=[9120cf2e5df3bff93db8f754bbbc09b4]\n",
       "link E5 to E6--><a href=\"psysml:b49ece63-4bda-4eac-a48b-66e19b9bdab7\" target=\"_top\" title=\"psysml:b49ece63-4bda-4eac-a48b-66e19b9bdab7\" xlink:actuate=\"onRequest\" xlink:href=\"psysml:b49ece63-4bda-4eac-a48b-66e19b9bdab7\" xlink:show=\"new\" xlink:title=\"psysml:b49ece63-4bda-4eac-a48b-66e19b9bdab7\" xlink:type=\"simple\"><path d=\"M165,324.05 C165,343.9 165,374.02 165,395.52 \" fill=\"none\" id=\"E5-&gt;E6\" style=\"stroke: #383838; stroke-width: 1.0;\"/><polygon fill=\"#383838\" points=\"165,400.79,169,391.79,165,395.79,161,391.79,165,400.79\" style=\"stroke: #383838; stroke-width: 1.0;\"/><text fill=\"#000000\" font-family=\"sans-serif\" font-size=\"13\" lengthAdjust=\"spacingAndGlyphs\" textLength=\"55\" x=\"166\" y=\"367.0669\">[x == 0]</text></a><!--MD5=[d129d53bb7d664601221fe6e0f9aa971]\n",
       "@startuml\r\n",
       " skinparam monochrome true\r\n",
       "skinparam classbackgroundcolor white\r\n",
       "skinparam shadowing false\r\n",
       "skinparam wrapWidth 300\r\n",
       "hide circle\r\n",
       "\r\n",
       "rec def \"DecisionTest\" as E1  <<(T,blue)action def>> [[psysml:3be07126-877a-4309-8447-1e285ef81f95 ]] {\r\n",
       "portout \"$result\" as E2  [[psysml:9348992a-eef4-478a-99a3-8679640e907b ]] \r\n",
       "choice \"test x\" as E3  [[psysml:68020b6f-ffe7-4b5f-b810-1edcbdd08af0 ]] \r\n",
       "choice \"noname\" as E4  [[psysml:c53ed86d-7fd9-4daa-81a5-a3aaa8a48fdd ]] \r\n",
       "rec usage \"A1\" as E5  <<(T,blue)action>> [[psysml:0f40ea9b-adac-4a33-8b1a-34d15e55e3d2 ]] {\r\n",
       "}\r\n",
       "\r\n",
       "rec usage \"A2\" as E6  <<(T,blue)action>> [[psysml:128661ee-6ef6-488f-adc9-4acba814b00a ]] {\r\n",
       "}\r\n",
       "\r\n",
       "rec usage \"A3\" as E7  <<(T,blue)action>> [[psysml:7b9f6d16-7e81-4d0a-aec9-34a5599243af ]] {\r\n",
       "}\r\n",
       "\r\n",
       "rec usage \"A3\" as E8  <<(T,blue)action>> [[psysml:7b9f6d16-7e81-4d0a-aec9-34a5599243af ]] {\r\n",
       "}\r\n",
       "\r\n",
       "}\r\n",
       "\r\n",
       "E3  - -> E5 [[psysml:7286f462-e52e-4ebc-bfea-7701f26f76d2 ]] : [x == 1]\r\n",
       "E3  - -> E6 [[psysml:e748a59f-80ec-4a6b-adc3-e898091fbade ]] : [x > 1]\r\n",
       "E3  - -> E8 [[psysml:c4aa7bb1-7be8-4d3d-94c8-0c3feb0dde03 ]] \r\n",
       "E3 - -> E4 [[psysml:9e59e0cd-e7d6-48f9-8abd-2b6da2cb7bd3 ]] \r\n",
       "E4  - -> E5 [[psysml:7b0b5bc6-fd2d-464d-92f4-1e71099b6f78 ]] : [true]\r\n",
       "E4  - -> E6 [[psysml:2cb1b039-bbb8-4621-9b87-8355478bfab0 ]] : [false]\r\n",
       "E5  - -> E6 [[psysml:b49ece63-4bda-4eac-a48b-66e19b9bdab7 ]] : [x == 0]\r\n",
       "E8  - -> E3 [[psysml:313c2626-617f-4a85-9d7c-c31cb61d9b9e ]] : [x > 0]\r\n",
       "@enduml\r\n",
       "\n",
       "PlantUML version 1.2020.13(Sat Jun 13 12:26:38 UTC 2020)\n",
       "(EPL source distribution)\n",
       "Java Runtime: OpenJDK Runtime Environment\n",
       "JVM: OpenJDK 64-Bit Server VM\n",
       "Default Encoding: UTF-8\n",
       "Language: en\n",
       "Country: null\n",
       "--></g></svg>"
      ]
     },
     "execution_count": 2,
     "metadata": {},
     "output_type": "execute_result"
    }
   ],
   "source": [
    "%viz --style=\"COMPTREE\" --view=\"Default\" \"DecisionTest\""
   ]
  },
  {
   "cell_type": "code",
   "execution_count": 3,
   "id": "af6c31df",
   "metadata": {
    "execution": {
     "iopub.execute_input": "2021-05-27T06:09:50.845522Z",
     "iopub.status.busy": "2021-05-27T06:09:50.845088Z",
     "iopub.status.idle": "2021-05-27T06:09:51.013732Z",
     "shell.execute_reply": "2021-05-27T06:09:51.012765Z"
    }
   },
   "outputs": [
    {
     "data": {
      "image/svg+xml": [
       "<?xml version=\"1.0\" encoding=\"UTF-8\" standalone=\"no\"?><svg xmlns=\"http://www.w3.org/2000/svg\" xmlns:xlink=\"http://www.w3.org/1999/xlink\" contentScriptType=\"application/ecmascript\" contentStyleType=\"text/css\" height=\"207px\" preserveAspectRatio=\"none\" style=\"width:109px;height:207px;\" version=\"1.1\" viewBox=\"0 0 109 207\" width=\"109px\" zoomAndPan=\"magnify\"><defs/><g><!--MD5=[43c9051892ef23e1a46a86907403d788]\n",
       "class E1--><a href=\"psysml:3be07126-877a-4309-8447-1e285ef81f95\" target=\"_top\" title=\"psysml:3be07126-877a-4309-8447-1e285ef81f95\" xlink:actuate=\"onRequest\" xlink:href=\"psysml:3be07126-877a-4309-8447-1e285ef81f95\" xlink:show=\"new\" xlink:title=\"psysml:3be07126-877a-4309-8447-1e285ef81f95\" xlink:type=\"simple\"><rect fill=\"#FFFFFF\" height=\"189.9844\" id=\"E1\" style=\"stroke: #383838; stroke-width: 1.5;\" width=\"91\" x=\"7\" y=\"7\"/><text fill=\"#000000\" font-family=\"sans-serif\" font-size=\"12\" font-style=\"italic\" lengthAdjust=\"spacingAndGlyphs\" textLength=\"77\" x=\"14\" y=\"23.1387\">«action def»</text><text fill=\"#000000\" font-family=\"sans-serif\" font-size=\"12\" lengthAdjust=\"spacingAndGlyphs\" textLength=\"80\" x=\"12.5\" y=\"37.1074\">DecisionTest</text><line style=\"stroke: #383838; stroke-width: 1.5;\" x1=\"8\" x2=\"97\" y1=\"44.9375\" y2=\"44.9375\"/><text fill=\"#000000\" font-family=\"sans-serif\" font-size=\"11\" lengthAdjust=\"spacingAndGlyphs\" textLength=\"26\" x=\"13\" y=\"75.9526\">x=1;</text><line style=\"stroke: #383838; stroke-width: 1.0;\" x1=\"8\" x2=\"25\" y1=\"59.3398\" y2=\"59.3398\"/><text fill=\"#000000\" font-family=\"sans-serif\" font-size=\"11\" lengthAdjust=\"spacingAndGlyphs\" textLength=\"55\" x=\"25\" y=\"62.6479\">attributes</text><line style=\"stroke: #383838; stroke-width: 1.0;\" x1=\"80\" x2=\"97\" y1=\"59.3398\" y2=\"59.3398\"/><text fill=\"#000000\" font-family=\"sans-serif\" font-size=\"11\" lengthAdjust=\"spacingAndGlyphs\" textLength=\"14\" x=\"13\" y=\"105.562\">A1</text><text fill=\"#000000\" font-family=\"sans-serif\" font-size=\"11\" lengthAdjust=\"spacingAndGlyphs\" textLength=\"14\" x=\"13\" y=\"118.3667\">A2</text><text fill=\"#000000\" font-family=\"sans-serif\" font-size=\"11\" lengthAdjust=\"spacingAndGlyphs\" textLength=\"14\" x=\"13\" y=\"131.1714\">A3</text><line style=\"stroke: #383838; stroke-width: 1.0;\" x1=\"8\" x2=\"32\" y1=\"88.9492\" y2=\"88.9492\"/><text fill=\"#000000\" font-family=\"sans-serif\" font-size=\"11\" lengthAdjust=\"spacingAndGlyphs\" textLength=\"41\" x=\"32\" y=\"92.2573\">actions</text><line style=\"stroke: #383838; stroke-width: 1.0;\" x1=\"73\" x2=\"97\" y1=\"88.9492\" y2=\"88.9492\"/><text fill=\"#000000\" font-family=\"sans-serif\" font-size=\"11\" lengthAdjust=\"spacingAndGlyphs\" textLength=\"32\" x=\"13\" y=\"160.7808\">test x</text><line style=\"stroke: #383838; stroke-width: 1.0;\" x1=\"8\" x2=\"11\" y1=\"144.168\" y2=\"144.168\"/><text fill=\"#000000\" font-family=\"sans-serif\" font-size=\"11\" lengthAdjust=\"spacingAndGlyphs\" textLength=\"83\" x=\"11\" y=\"147.4761\">decisionNodes</text><line style=\"stroke: #383838; stroke-width: 1.0;\" x1=\"94\" x2=\"97\" y1=\"144.168\" y2=\"144.168\"/><text fill=\"#000000\" font-family=\"sans-serif\" font-size=\"11\" lengthAdjust=\"spacingAndGlyphs\" textLength=\"8\" x=\"13\" y=\"190.3901\">S</text><line style=\"stroke: #383838; stroke-width: 1.0;\" x1=\"8\" x2=\"22\" y1=\"173.7773\" y2=\"173.7773\"/><text fill=\"#000000\" font-family=\"sans-serif\" font-size=\"11\" lengthAdjust=\"spacingAndGlyphs\" textLength=\"61\" x=\"22\" y=\"177.0854\">transitions</text><line style=\"stroke: #383838; stroke-width: 1.0;\" x1=\"83\" x2=\"97\" y1=\"173.7773\" y2=\"173.7773\"/></a><!--MD5=[0276dd8630baece2a314ae97edc31399]\n",
       "@startuml\r\n",
       " skinparam monochrome true\r\n",
       "skinparam classbackgroundcolor white\r\n",
       "skinparam shadowing false\r\n",
       "skinparam wrapWidth 300\r\n",
       "hide circle\r\n",
       "\r\n",
       "comp def \"DecisionTest\" as E1  <<(T,blue)action def>> [[psysml:3be07126-877a-4309-8447-1e285ef81f95 ]] {\r\n",
       "- - attributes - -\r\n",
       "x=1; \r\n",
       "- - actions - -\r\n",
       "A1\r\n",
       "A2\r\n",
       "A3\r\n",
       "- - decisionNodes - -\r\n",
       "test x\r\n",
       "- - transitions - -\r\n",
       "S\r\n",
       "}\r\n",
       "@enduml\r\n",
       "\n",
       "PlantUML version 1.2020.13(Sat Jun 13 12:26:38 UTC 2020)\n",
       "(EPL source distribution)\n",
       "Java Runtime: OpenJDK Runtime Environment\n",
       "JVM: OpenJDK 64-Bit Server VM\n",
       "Default Encoding: UTF-8\n",
       "Language: en\n",
       "Country: null\n",
       "--></g></svg>"
      ]
     },
     "execution_count": 3,
     "metadata": {},
     "output_type": "execute_result"
    }
   ],
   "source": [
    "%viz --style=\"COMPTREE\" --view=\"Tree\" \"DecisionTest\""
   ]
  },
  {
   "cell_type": "code",
   "execution_count": 4,
   "id": "9c5169bd",
   "metadata": {
    "execution": {
     "iopub.execute_input": "2021-05-27T06:09:51.065582Z",
     "iopub.status.busy": "2021-05-27T06:09:51.064786Z",
     "iopub.status.idle": "2021-05-27T06:09:51.074196Z",
     "shell.execute_reply": "2021-05-27T06:09:51.073348Z"
    }
   },
   "outputs": [
    {
     "data": {
      "image/svg+xml": [
       "<?xml version=\"1.0\" encoding=\"UTF-8\" standalone=\"no\"?><svg xmlns=\"http://www.w3.org/2000/svg\" xmlns:xlink=\"http://www.w3.org/1999/xlink\" contentScriptType=\"application/ecmascript\" contentStyleType=\"text/css\" height=\"12px\" preserveAspectRatio=\"none\" style=\"width:12px;height:12px;\" version=\"1.1\" viewBox=\"0 0 12 12\" width=\"12px\" zoomAndPan=\"magnify\"><defs/><g><!--MD5=[f19188ef49e11757b5c46753f95d9edc]\n",
       "@startuml\r\n",
       " skinparam monochrome true\r\n",
       "skinparam classbackgroundcolor white\r\n",
       "skinparam shadowing false\r\n",
       "skinparam wrapWidth 300\r\n",
       "hide circle\r\n",
       "\r\n",
       "@enduml\r\n",
       "\n",
       "PlantUML version 1.2020.13(Sat Jun 13 12:26:38 UTC 2020)\n",
       "(EPL source distribution)\n",
       "Java Runtime: OpenJDK Runtime Environment\n",
       "JVM: OpenJDK 64-Bit Server VM\n",
       "Default Encoding: UTF-8\n",
       "Language: en\n",
       "Country: null\n",
       "--></g></svg>"
      ]
     },
     "execution_count": 4,
     "metadata": {},
     "output_type": "execute_result"
    }
   ],
   "source": [
    "%viz --style=\"COMPTREE\" --view=\"State\" \"DecisionTest\""
   ]
  },
  {
   "cell_type": "code",
   "execution_count": 5,
   "id": "eda5f160",
   "metadata": {
    "execution": {
     "iopub.execute_input": "2021-05-27T06:09:51.128543Z",
     "iopub.status.busy": "2021-05-27T06:09:51.127476Z",
     "iopub.status.idle": "2021-05-27T06:09:51.218964Z",
     "shell.execute_reply": "2021-05-27T06:09:51.196617Z"
    }
   },
   "outputs": [
    {
     "data": {
      "image/svg+xml": [
       "<?xml version=\"1.0\" encoding=\"UTF-8\" standalone=\"no\"?><svg xmlns=\"http://www.w3.org/2000/svg\" xmlns:xlink=\"http://www.w3.org/1999/xlink\" contentScriptType=\"application/ecmascript\" contentStyleType=\"text/css\" height=\"384px\" preserveAspectRatio=\"none\" style=\"width:333px;height:384px;\" version=\"1.1\" viewBox=\"0 0 333 384\" width=\"333px\" zoomAndPan=\"magnify\"><defs/><g><!--MD5=[fbc87193dbaf4d95561dea2c320d4a47]\n",
       "cluster E1--><a href=\"psysml:3be07126-877a-4309-8447-1e285ef81f95\" target=\"_top\" title=\"psysml:3be07126-877a-4309-8447-1e285ef81f95\" xlink:actuate=\"onRequest\" xlink:href=\"psysml:3be07126-877a-4309-8447-1e285ef81f95\" xlink:show=\"new\" xlink:title=\"psysml:3be07126-877a-4309-8447-1e285ef81f95\" xlink:type=\"simple\"><rect fill=\"#FFFFFF\" height=\"344.72\" id=\"E1\" style=\"stroke: #383838; stroke-width: 1.5;\" width=\"315\" x=\"7\" y=\"7\"/><rect fill=\"#F8F8F8\" height=\"37.9375\" style=\"stroke: #383838; stroke-width: 1.5;\" width=\"315\" x=\"7\" y=\"7\"/><text fill=\"#000000\" font-family=\"sans-serif\" font-size=\"12\" font-style=\"italic\" lengthAdjust=\"spacingAndGlyphs\" textLength=\"77\" x=\"126\" y=\"23.1387\">«action def»</text><text fill=\"#000000\" font-family=\"sans-serif\" font-size=\"12\" lengthAdjust=\"spacingAndGlyphs\" textLength=\"80\" x=\"124.5\" y=\"37.1074\">DecisionTest</text></a><text fill=\"#000000\" font-family=\"sans-serif\" font-size=\"14\" lengthAdjust=\"spacingAndGlyphs\" textLength=\"48\" x=\"140\" y=\"370.7151\">$result</text><rect fill=\"#383838\" height=\"12\" style=\"stroke: #F8F8F8; stroke-width: 1.5;\" width=\"12\" x=\"158\" y=\"345.72\"/><polygon fill=\"#F8F8F8\" points=\"141,28.5,153,40.5,141,52.5,129,40.5,141,28.5\" style=\"stroke: #383838; stroke-width: 1.5;\"/><polygon fill=\"#F8F8F8\" points=\"35,126.5,47,138.5,35,150.5,23,138.5,35,126.5\" style=\"stroke: #383838; stroke-width: 1.5;\"/><g id=\"E1.E5\"><a href=\"psysml:0f40ea9b-adac-4a33-8b1a-34d15e55e3d2\" target=\"_top\" title=\"psysml:0f40ea9b-adac-4a33-8b1a-34d15e55e3d2\" xlink:actuate=\"onRequest\" xlink:href=\"psysml:0f40ea9b-adac-4a33-8b1a-34d15e55e3d2\" xlink:show=\"new\" xlink:title=\"psysml:0f40ea9b-adac-4a33-8b1a-34d15e55e3d2\" xlink:type=\"simple\"><rect fill=\"#FFFFFF\" height=\"42.9375\" id=\"E5\" rx=\"10\" ry=\"10\" style=\"stroke: #383838; stroke-width: 1.5;\" width=\"60\" x=\"135\" y=\"193\"/><rect fill=\"#F8F8F8\" height=\"37.9375\" rx=\"10\" ry=\"10\" style=\"stroke: #F8F8F8; stroke-width: 1.5;\" width=\"60\" x=\"135\" y=\"193\"/><rect fill=\"#F8F8F8\" height=\"10\" style=\"stroke: #F8F8F8; stroke-width: 1.5;\" width=\"60\" x=\"135\" y=\"220.9375\"/><rect fill=\"none\" height=\"42.9375\" id=\"E5\" rx=\"10\" ry=\"10\" style=\"stroke: #383838; stroke-width: 1.5;\" width=\"60\" x=\"135\" y=\"193\"/><text fill=\"#000000\" font-family=\"sans-serif\" font-size=\"12\" font-style=\"italic\" lengthAdjust=\"spacingAndGlyphs\" textLength=\"53\" x=\"138.5\" y=\"209.1387\">«action»</text><text fill=\"#000000\" font-family=\"sans-serif\" font-size=\"12\" lengthAdjust=\"spacingAndGlyphs\" textLength=\"16\" x=\"157\" y=\"223.1074\">A1</text></a></g><g id=\"E1.E6\"><a href=\"psysml:128661ee-6ef6-488f-adc9-4acba814b00a\" target=\"_top\" title=\"psysml:128661ee-6ef6-488f-adc9-4acba814b00a\" xlink:actuate=\"onRequest\" xlink:href=\"psysml:128661ee-6ef6-488f-adc9-4acba814b00a\" xlink:show=\"new\" xlink:title=\"psysml:128661ee-6ef6-488f-adc9-4acba814b00a\" xlink:type=\"simple\"><rect fill=\"#FFFFFF\" height=\"42.9375\" id=\"E6\" rx=\"10\" ry=\"10\" style=\"stroke: #383838; stroke-width: 1.5;\" width=\"60\" x=\"135\" y=\"269\"/><rect fill=\"#F8F8F8\" height=\"37.9375\" rx=\"10\" ry=\"10\" style=\"stroke: #F8F8F8; stroke-width: 1.5;\" width=\"60\" x=\"135\" y=\"269\"/><rect fill=\"#F8F8F8\" height=\"10\" style=\"stroke: #F8F8F8; stroke-width: 1.5;\" width=\"60\" x=\"135\" y=\"296.9375\"/><rect fill=\"none\" height=\"42.9375\" id=\"E6\" rx=\"10\" ry=\"10\" style=\"stroke: #383838; stroke-width: 1.5;\" width=\"60\" x=\"135\" y=\"269\"/><text fill=\"#000000\" font-family=\"sans-serif\" font-size=\"12\" font-style=\"italic\" lengthAdjust=\"spacingAndGlyphs\" textLength=\"53\" x=\"138.5\" y=\"285.1387\">«action»</text><text fill=\"#000000\" font-family=\"sans-serif\" font-size=\"12\" lengthAdjust=\"spacingAndGlyphs\" textLength=\"16\" x=\"157\" y=\"299.1074\">A2</text></a></g><g id=\"E1.E7\"><a href=\"psysml:7b9f6d16-7e81-4d0a-aec9-34a5599243af\" target=\"_top\" title=\"psysml:7b9f6d16-7e81-4d0a-aec9-34a5599243af\" xlink:actuate=\"onRequest\" xlink:href=\"psysml:7b9f6d16-7e81-4d0a-aec9-34a5599243af\" xlink:show=\"new\" xlink:title=\"psysml:7b9f6d16-7e81-4d0a-aec9-34a5599243af\" xlink:type=\"simple\"><rect fill=\"#FFFFFF\" height=\"42.9375\" id=\"E7\" rx=\"10\" ry=\"10\" style=\"stroke: #383838; stroke-width: 1.5;\" width=\"60\" x=\"46\" y=\"66\"/><rect fill=\"#F8F8F8\" height=\"37.9375\" rx=\"10\" ry=\"10\" style=\"stroke: #F8F8F8; stroke-width: 1.5;\" width=\"60\" x=\"46\" y=\"66\"/><rect fill=\"#F8F8F8\" height=\"10\" style=\"stroke: #F8F8F8; stroke-width: 1.5;\" width=\"60\" x=\"46\" y=\"93.9375\"/><rect fill=\"none\" height=\"42.9375\" id=\"E7\" rx=\"10\" ry=\"10\" style=\"stroke: #383838; stroke-width: 1.5;\" width=\"60\" x=\"46\" y=\"66\"/><text fill=\"#000000\" font-family=\"sans-serif\" font-size=\"12\" font-style=\"italic\" lengthAdjust=\"spacingAndGlyphs\" textLength=\"53\" x=\"49.5\" y=\"82.1387\">«action»</text><text fill=\"#000000\" font-family=\"sans-serif\" font-size=\"12\" lengthAdjust=\"spacingAndGlyphs\" textLength=\"16\" x=\"68\" y=\"96.1074\">A3</text></a></g><g id=\"E1.E8\"><a href=\"psysml:7b9f6d16-7e81-4d0a-aec9-34a5599243af\" target=\"_top\" title=\"psysml:7b9f6d16-7e81-4d0a-aec9-34a5599243af\" xlink:actuate=\"onRequest\" xlink:href=\"psysml:7b9f6d16-7e81-4d0a-aec9-34a5599243af\" xlink:show=\"new\" xlink:title=\"psysml:7b9f6d16-7e81-4d0a-aec9-34a5599243af\" xlink:type=\"simple\"><rect fill=\"#FFFFFF\" height=\"42.9375\" id=\"E8\" rx=\"10\" ry=\"10\" style=\"stroke: #383838; stroke-width: 1.5;\" width=\"60\" x=\"246\" y=\"117\"/><rect fill=\"#F8F8F8\" height=\"37.9375\" rx=\"10\" ry=\"10\" style=\"stroke: #F8F8F8; stroke-width: 1.5;\" width=\"60\" x=\"246\" y=\"117\"/><rect fill=\"#F8F8F8\" height=\"10\" style=\"stroke: #F8F8F8; stroke-width: 1.5;\" width=\"60\" x=\"246\" y=\"144.9375\"/><rect fill=\"none\" height=\"42.9375\" id=\"E8\" rx=\"10\" ry=\"10\" style=\"stroke: #383838; stroke-width: 1.5;\" width=\"60\" x=\"246\" y=\"117\"/><text fill=\"#000000\" font-family=\"sans-serif\" font-size=\"12\" font-style=\"italic\" lengthAdjust=\"spacingAndGlyphs\" textLength=\"53\" x=\"249.5\" y=\"133.1387\">«action»</text><text fill=\"#000000\" font-family=\"sans-serif\" font-size=\"12\" lengthAdjust=\"spacingAndGlyphs\" textLength=\"16\" x=\"268\" y=\"147.1074\">A3</text></a></g><!--MD5=[0188b64bb0ae78505a997a81836e11e9]\n",
       "link E3 to E5--><a href=\"psysml:7286f462-e52e-4ebc-bfea-7701f26f76d2\" target=\"_top\" title=\"psysml:7286f462-e52e-4ebc-bfea-7701f26f76d2\" xlink:actuate=\"onRequest\" xlink:href=\"psysml:7286f462-e52e-4ebc-bfea-7701f26f76d2\" xlink:show=\"new\" xlink:title=\"psysml:7286f462-e52e-4ebc-bfea-7701f26f76d2\" xlink:type=\"simple\"><path d=\"M140.07,51.78 C138.47,72.5 136.04,120.67 144,160 C145.92,169.49 149.4,179.47 152.99,188.21 \" fill=\"none\" id=\"E3-&gt;E5\" style=\"stroke: #383838; stroke-width: 1.0;\"/><polygon fill=\"#383838\" points=\"154.98,192.92,155.1631,183.0728,153.0346,188.314,147.7935,186.1855,154.98,192.92\" style=\"stroke: #383838; stroke-width: 1.0;\"/><text fill=\"#000000\" font-family=\"sans-serif\" font-size=\"13\" lengthAdjust=\"spacingAndGlyphs\" textLength=\"55\" x=\"145\" y=\"143.0669\">[x == 1]</text></a><!--MD5=[ec9844e0c75763426927cad3229d1081]\n",
       "link E3 to E6--><a href=\"psysml:e748a59f-80ec-4a6b-adc3-e898091fbade\" target=\"_top\" title=\"psysml:e748a59f-80ec-4a6b-adc3-e898091fbade\" xlink:actuate=\"onRequest\" xlink:href=\"psysml:e748a59f-80ec-4a6b-adc3-e898091fbade\" xlink:show=\"new\" xlink:title=\"psysml:e748a59f-80ec-4a6b-adc3-e898091fbade\" xlink:type=\"simple\"><path d=\"M147.17,46.62 C160.24,57.84 190.71,86.12 205,117 C229.03,168.92 221.32,186.98 226,244 C226.62,251.53 230.06,254.63 226,261 C220.01,270.41 210.02,276.76 199.83,281.03 \" fill=\"none\" id=\"E3-&gt;E6\" style=\"stroke: #383838; stroke-width: 1.0;\"/><polygon fill=\"#383838\" points=\"195.15,282.85,204.9881,283.3102,199.8089,281.035,202.0841,275.8559,195.15,282.85\" style=\"stroke: #383838; stroke-width: 1.0;\"/><text fill=\"#000000\" font-family=\"sans-serif\" font-size=\"13\" lengthAdjust=\"spacingAndGlyphs\" textLength=\"44\" x=\"224\" y=\"181.0669\">[x &gt; 1]</text></a><!--MD5=[ca5a752d6098d8a44b3f88316e7452d1]\n",
       "link E3 to E8--><a href=\"psysml:c4aa7bb1-7be8-4d3d-94c8-0c3feb0dde03\" target=\"_top\" title=\"psysml:c4aa7bb1-7be8-4d3d-94c8-0c3feb0dde03\" xlink:actuate=\"onRequest\" xlink:href=\"psysml:c4aa7bb1-7be8-4d3d-94c8-0c3feb0dde03\" xlink:show=\"new\" xlink:title=\"psysml:c4aa7bb1-7be8-4d3d-94c8-0c3feb0dde03\" xlink:type=\"simple\"><path d=\"M147.65,45.88 C153.56,49.59 162.55,54.81 171,58 C186.34,63.79 195.35,54.47 207,66 C220.94,79.81 204.74,93.68 217,109 C223.18,116.72 231.96,122.48 240.86,126.73 \" fill=\"none\" id=\"E3-&gt;E8\" style=\"stroke: #383838; stroke-width: 1.0;\"/><polygon fill=\"#383838\" points=\"245.81,128.93,239.2251,121.6061,241.2451,126.89,235.9612,128.91,245.81,128.93\" style=\"stroke: #383838; stroke-width: 1.0;\"/></a><!--MD5=[95fa686b5a16158bcdbcaeead89f639b]\n",
       "link E8 to E3--><a href=\"psysml:313c2626-617f-4a85-9d7c-c31cb61d9b9e\" target=\"_top\" title=\"psysml:313c2626-617f-4a85-9d7c-c31cb61d9b9e\" xlink:actuate=\"onRequest\" xlink:href=\"psysml:313c2626-617f-4a85-9d7c-c31cb61d9b9e\" xlink:show=\"new\" xlink:title=\"psysml:313c2626-617f-4a85-9d7c-c31cb61d9b9e\" xlink:type=\"simple\"><path d=\"M253.3,116.74 C250.77,114.19 248.29,111.58 246,109 C230.2,91.18 234.22,78.6 214,66 C197.5,55.72 189.3,64.54 171,58 C164.35,55.62 157.42,51.9 151.89,48.59 \" fill=\"none\" id=\"E8-&gt;E3\" style=\"stroke: #383838; stroke-width: 1.0;\"/><polygon fill=\"#383838\" points=\"147.62,45.95,153.1764,54.0818,151.8744,48.5769,157.3793,47.2748,147.62,45.95\" style=\"stroke: #383838; stroke-width: 1.0;\"/><text fill=\"#000000\" font-family=\"sans-serif\" font-size=\"13\" lengthAdjust=\"spacingAndGlyphs\" textLength=\"44\" x=\"247\" y=\"92.0669\">[x &gt; 0]</text></a><!--MD5=[af87c684e3b0d8be13c1a698a818ef1e]\n",
       "link E3 to E4--><a href=\"psysml:9e59e0cd-e7d6-48f9-8abd-2b6da2cb7bd3\" target=\"_top\" title=\"psysml:9e59e0cd-e7d6-48f9-8abd-2b6da2cb7bd3\" xlink:actuate=\"onRequest\" xlink:href=\"psysml:9e59e0cd-e7d6-48f9-8abd-2b6da2cb7bd3\" xlink:show=\"new\" xlink:title=\"psysml:9e59e0cd-e7d6-48f9-8abd-2b6da2cb7bd3\" xlink:type=\"simple\"><path d=\"M130.87,42.54 C108.03,45.11 53.64,52.54 42,66 C28.37,81.77 29.55,107.42 32.02,123.33 \" fill=\"none\" id=\"E3-&gt;E4\" style=\"stroke: #383838; stroke-width: 1.0;\"/><polygon fill=\"#383838\" points=\"32.88,128.32,35.3057,118.7745,32.0372,123.3915,27.4201,120.1231,32.88,128.32\" style=\"stroke: #383838; stroke-width: 1.0;\"/></a><!--MD5=[1b7591eae5389033d8d09a9d6721a717]\n",
       "link E4 to E5--><a href=\"psysml:7b0b5bc6-fd2d-464d-92f4-1e71099b6f78\" target=\"_top\" title=\"psysml:7b0b5bc6-fd2d-464d-92f4-1e71099b6f78\" xlink:actuate=\"onRequest\" xlink:href=\"psysml:7b0b5bc6-fd2d-464d-92f4-1e71099b6f78\" xlink:show=\"new\" xlink:title=\"psysml:7b0b5bc6-fd2d-464d-92f4-1e71099b6f78\" xlink:type=\"simple\"><path d=\"M40.09,145.69 C48.35,155.37 65.62,174.11 84,185 C93.67,190.73 97.38,189.32 108,193 C115.1,195.46 122.69,198.15 129.93,200.74 \" fill=\"none\" id=\"E4-&gt;E5\" style=\"stroke: #383838; stroke-width: 1.0;\"/><polygon fill=\"#383838\" points=\"134.87,202.52,127.7488,195.7164,130.1636,200.832,125.048,203.2467,134.87,202.52\" style=\"stroke: #383838; stroke-width: 1.0;\"/><text fill=\"#000000\" font-family=\"sans-serif\" font-size=\"13\" lengthAdjust=\"spacingAndGlyphs\" textLength=\"36\" x=\"85\" y=\"181.0669\">[true]</text></a><!--MD5=[79568f1e445c3877b6a54524624ccc7d]\n",
       "link E4 to E6--><a href=\"psysml:2cb1b039-bbb8-4621-9b87-8355478bfab0\" target=\"_top\" title=\"psysml:2cb1b039-bbb8-4621-9b87-8355478bfab0\" xlink:actuate=\"onRequest\" xlink:href=\"psysml:2cb1b039-bbb8-4621-9b87-8355478bfab0\" xlink:show=\"new\" xlink:title=\"psysml:2cb1b039-bbb8-4621-9b87-8355478bfab0\" xlink:type=\"simple\"><path d=\"M36.89,148.77 C41.08,167.27 52.64,209.28 76,236 C90.77,252.89 112.21,266 130.35,275.02 \" fill=\"none\" id=\"E4-&gt;E6\" style=\"stroke: #383838; stroke-width: 1.0;\"/><polygon fill=\"#383838\" points=\"134.88,277.22,128.532,269.6898,130.3825,275.0355,125.0368,276.8859,134.88,277.22\" style=\"stroke: #383838; stroke-width: 1.0;\"/><text fill=\"#000000\" font-family=\"sans-serif\" font-size=\"13\" lengthAdjust=\"spacingAndGlyphs\" textLength=\"40\" x=\"77\" y=\"219.0669\">[false]</text></a><!--MD5=[9120cf2e5df3bff93db8f754bbbc09b4]\n",
       "link E5 to E6--><a href=\"psysml:b49ece63-4bda-4eac-a48b-66e19b9bdab7\" target=\"_top\" title=\"psysml:b49ece63-4bda-4eac-a48b-66e19b9bdab7\" xlink:actuate=\"onRequest\" xlink:href=\"psysml:b49ece63-4bda-4eac-a48b-66e19b9bdab7\" xlink:show=\"new\" xlink:title=\"psysml:b49ece63-4bda-4eac-a48b-66e19b9bdab7\" xlink:type=\"simple\"><path d=\"M165,236.11 C165,244.69 165,254.75 165,263.8 \" fill=\"none\" id=\"E5-&gt;E6\" style=\"stroke: #383838; stroke-width: 1.0;\"/><polygon fill=\"#383838\" points=\"165,269,169,260,165,264,161,260,165,269\" style=\"stroke: #383838; stroke-width: 1.0;\"/><text fill=\"#000000\" font-family=\"sans-serif\" font-size=\"13\" lengthAdjust=\"spacingAndGlyphs\" textLength=\"55\" x=\"166\" y=\"257.0669\">[x == 0]</text></a><!--MD5=[66fb3968d54101676787c5b0b04813cd]\n",
       "@startuml\r\n",
       "skinparam ranksep 10\r\n",
       "skinparam rectangle {\r\n",
       " backgroundColor<<block>> LightGreen\r\n",
       "}\r\n",
       " skinparam monochrome true\r\n",
       "skinparam classbackgroundcolor white\r\n",
       "skinparam shadowing false\r\n",
       "skinparam wrapWidth 300\r\n",
       "hide circle\r\n",
       "\r\n",
       "rec def \"DecisionTest\" as E1  <<(T,blue)action def>> [[psysml:3be07126-877a-4309-8447-1e285ef81f95 ]] {\r\n",
       "portout \"$result\" as E2  [[psysml:9348992a-eef4-478a-99a3-8679640e907b ]] \r\n",
       "choice \"test x\" as E3  [[psysml:68020b6f-ffe7-4b5f-b810-1edcbdd08af0 ]] \r\n",
       "choice \"noname\" as E4  [[psysml:c53ed86d-7fd9-4daa-81a5-a3aaa8a48fdd ]] \r\n",
       "rec usage \"A1\" as E5  <<(T,blue)action>> [[psysml:0f40ea9b-adac-4a33-8b1a-34d15e55e3d2 ]] {\r\n",
       "}\r\n",
       "\r\n",
       "rec usage \"A2\" as E6  <<(T,blue)action>> [[psysml:128661ee-6ef6-488f-adc9-4acba814b00a ]] {\r\n",
       "}\r\n",
       "\r\n",
       "rec usage \"A3\" as E7  <<(T,blue)action>> [[psysml:7b9f6d16-7e81-4d0a-aec9-34a5599243af ]] {\r\n",
       "}\r\n",
       "\r\n",
       "rec usage \"A3\" as E8  <<(T,blue)action>> [[psysml:7b9f6d16-7e81-4d0a-aec9-34a5599243af ]] {\r\n",
       "}\r\n",
       "\r\n",
       "}\r\n",
       "\r\n",
       "E3  - -> E5 [[psysml:7286f462-e52e-4ebc-bfea-7701f26f76d2 ]] : [x == 1]\r\n",
       "E3  - -> E6 [[psysml:e748a59f-80ec-4a6b-adc3-e898091fbade ]] : [x > 1]\r\n",
       "E3  - -> E8 [[psysml:c4aa7bb1-7be8-4d3d-94c8-0c3feb0dde03 ]] \r\n",
       "E3 - -> E4 [[psysml:9e59e0cd-e7d6-48f9-8abd-2b6da2cb7bd3 ]] \r\n",
       "E4  - -> E5 [[psysml:7b0b5bc6-fd2d-464d-92f4-1e71099b6f78 ]] : [true]\r\n",
       "E4  - -> E6 [[psysml:2cb1b039-bbb8-4621-9b87-8355478bfab0 ]] : [false]\r\n",
       "E5  - -> E6 [[psysml:b49ece63-4bda-4eac-a48b-66e19b9bdab7 ]] : [x == 0]\r\n",
       "E8  - -> E3 [[psysml:313c2626-617f-4a85-9d7c-c31cb61d9b9e ]] : [x > 0]\r\n",
       "@enduml\r\n",
       "\n",
       "PlantUML version 1.2020.13(Sat Jun 13 12:26:38 UTC 2020)\n",
       "(EPL source distribution)\n",
       "Java Runtime: OpenJDK Runtime Environment\n",
       "JVM: OpenJDK 64-Bit Server VM\n",
       "Default Encoding: UTF-8\n",
       "Language: en\n",
       "Country: null\n",
       "--></g></svg>"
      ]
     },
     "execution_count": 5,
     "metadata": {},
     "output_type": "execute_result"
    }
   ],
   "source": [
    "%viz --style=\"COMPTREE\" --view=\"Interconnection\" \"DecisionTest\""
   ]
  },
  {
   "cell_type": "code",
   "execution_count": 6,
   "id": "38d7dd1b",
   "metadata": {
    "execution": {
     "iopub.execute_input": "2021-05-27T06:09:51.251300Z",
     "iopub.status.busy": "2021-05-27T06:09:51.250479Z",
     "iopub.status.idle": "2021-05-27T06:09:51.345781Z",
     "shell.execute_reply": "2021-05-27T06:09:51.345446Z"
    }
   },
   "outputs": [
    {
     "data": {
      "image/svg+xml": [
       "<?xml version=\"1.0\" encoding=\"UTF-8\" standalone=\"no\"?><svg xmlns=\"http://www.w3.org/2000/svg\" xmlns:xlink=\"http://www.w3.org/1999/xlink\" contentScriptType=\"application/ecmascript\" contentStyleType=\"text/css\" height=\"384px\" preserveAspectRatio=\"none\" style=\"width:333px;height:384px;\" version=\"1.1\" viewBox=\"0 0 333 384\" width=\"333px\" zoomAndPan=\"magnify\"><defs/><g><!--MD5=[fbc87193dbaf4d95561dea2c320d4a47]\n",
       "cluster E1--><a href=\"psysml:3be07126-877a-4309-8447-1e285ef81f95\" target=\"_top\" title=\"psysml:3be07126-877a-4309-8447-1e285ef81f95\" xlink:actuate=\"onRequest\" xlink:href=\"psysml:3be07126-877a-4309-8447-1e285ef81f95\" xlink:show=\"new\" xlink:title=\"psysml:3be07126-877a-4309-8447-1e285ef81f95\" xlink:type=\"simple\"><rect fill=\"#FFFFFF\" height=\"344.72\" id=\"E1\" style=\"stroke: #383838; stroke-width: 1.5;\" width=\"315\" x=\"7\" y=\"7\"/><rect fill=\"#F8F8F8\" height=\"37.9375\" style=\"stroke: #383838; stroke-width: 1.5;\" width=\"315\" x=\"7\" y=\"7\"/><text fill=\"#000000\" font-family=\"sans-serif\" font-size=\"12\" font-style=\"italic\" lengthAdjust=\"spacingAndGlyphs\" textLength=\"77\" x=\"126\" y=\"23.1387\">«action def»</text><text fill=\"#000000\" font-family=\"sans-serif\" font-size=\"12\" lengthAdjust=\"spacingAndGlyphs\" textLength=\"80\" x=\"124.5\" y=\"37.1074\">DecisionTest</text></a><text fill=\"#000000\" font-family=\"sans-serif\" font-size=\"14\" lengthAdjust=\"spacingAndGlyphs\" textLength=\"48\" x=\"140\" y=\"370.7151\">$result</text><rect fill=\"#383838\" height=\"12\" style=\"stroke: #F8F8F8; stroke-width: 1.5;\" width=\"12\" x=\"158\" y=\"345.72\"/><polygon fill=\"#F8F8F8\" points=\"141,28.5,153,40.5,141,52.5,129,40.5,141,28.5\" style=\"stroke: #383838; stroke-width: 1.5;\"/><polygon fill=\"#F8F8F8\" points=\"35,126.5,47,138.5,35,150.5,23,138.5,35,126.5\" style=\"stroke: #383838; stroke-width: 1.5;\"/><g id=\"E1.E5\"><a href=\"psysml:0f40ea9b-adac-4a33-8b1a-34d15e55e3d2\" target=\"_top\" title=\"psysml:0f40ea9b-adac-4a33-8b1a-34d15e55e3d2\" xlink:actuate=\"onRequest\" xlink:href=\"psysml:0f40ea9b-adac-4a33-8b1a-34d15e55e3d2\" xlink:show=\"new\" xlink:title=\"psysml:0f40ea9b-adac-4a33-8b1a-34d15e55e3d2\" xlink:type=\"simple\"><rect fill=\"#FFFFFF\" height=\"42.9375\" id=\"E5\" rx=\"10\" ry=\"10\" style=\"stroke: #383838; stroke-width: 1.5;\" width=\"60\" x=\"135\" y=\"193\"/><rect fill=\"#F8F8F8\" height=\"37.9375\" rx=\"10\" ry=\"10\" style=\"stroke: #F8F8F8; stroke-width: 1.5;\" width=\"60\" x=\"135\" y=\"193\"/><rect fill=\"#F8F8F8\" height=\"10\" style=\"stroke: #F8F8F8; stroke-width: 1.5;\" width=\"60\" x=\"135\" y=\"220.9375\"/><rect fill=\"none\" height=\"42.9375\" id=\"E5\" rx=\"10\" ry=\"10\" style=\"stroke: #383838; stroke-width: 1.5;\" width=\"60\" x=\"135\" y=\"193\"/><text fill=\"#000000\" font-family=\"sans-serif\" font-size=\"12\" font-style=\"italic\" lengthAdjust=\"spacingAndGlyphs\" textLength=\"53\" x=\"138.5\" y=\"209.1387\">«action»</text><text fill=\"#000000\" font-family=\"sans-serif\" font-size=\"12\" lengthAdjust=\"spacingAndGlyphs\" textLength=\"16\" x=\"157\" y=\"223.1074\">A1</text></a></g><g id=\"E1.E6\"><a href=\"psysml:128661ee-6ef6-488f-adc9-4acba814b00a\" target=\"_top\" title=\"psysml:128661ee-6ef6-488f-adc9-4acba814b00a\" xlink:actuate=\"onRequest\" xlink:href=\"psysml:128661ee-6ef6-488f-adc9-4acba814b00a\" xlink:show=\"new\" xlink:title=\"psysml:128661ee-6ef6-488f-adc9-4acba814b00a\" xlink:type=\"simple\"><rect fill=\"#FFFFFF\" height=\"42.9375\" id=\"E6\" rx=\"10\" ry=\"10\" style=\"stroke: #383838; stroke-width: 1.5;\" width=\"60\" x=\"135\" y=\"269\"/><rect fill=\"#F8F8F8\" height=\"37.9375\" rx=\"10\" ry=\"10\" style=\"stroke: #F8F8F8; stroke-width: 1.5;\" width=\"60\" x=\"135\" y=\"269\"/><rect fill=\"#F8F8F8\" height=\"10\" style=\"stroke: #F8F8F8; stroke-width: 1.5;\" width=\"60\" x=\"135\" y=\"296.9375\"/><rect fill=\"none\" height=\"42.9375\" id=\"E6\" rx=\"10\" ry=\"10\" style=\"stroke: #383838; stroke-width: 1.5;\" width=\"60\" x=\"135\" y=\"269\"/><text fill=\"#000000\" font-family=\"sans-serif\" font-size=\"12\" font-style=\"italic\" lengthAdjust=\"spacingAndGlyphs\" textLength=\"53\" x=\"138.5\" y=\"285.1387\">«action»</text><text fill=\"#000000\" font-family=\"sans-serif\" font-size=\"12\" lengthAdjust=\"spacingAndGlyphs\" textLength=\"16\" x=\"157\" y=\"299.1074\">A2</text></a></g><g id=\"E1.E7\"><a href=\"psysml:7b9f6d16-7e81-4d0a-aec9-34a5599243af\" target=\"_top\" title=\"psysml:7b9f6d16-7e81-4d0a-aec9-34a5599243af\" xlink:actuate=\"onRequest\" xlink:href=\"psysml:7b9f6d16-7e81-4d0a-aec9-34a5599243af\" xlink:show=\"new\" xlink:title=\"psysml:7b9f6d16-7e81-4d0a-aec9-34a5599243af\" xlink:type=\"simple\"><rect fill=\"#FFFFFF\" height=\"42.9375\" id=\"E7\" rx=\"10\" ry=\"10\" style=\"stroke: #383838; stroke-width: 1.5;\" width=\"60\" x=\"46\" y=\"66\"/><rect fill=\"#F8F8F8\" height=\"37.9375\" rx=\"10\" ry=\"10\" style=\"stroke: #F8F8F8; stroke-width: 1.5;\" width=\"60\" x=\"46\" y=\"66\"/><rect fill=\"#F8F8F8\" height=\"10\" style=\"stroke: #F8F8F8; stroke-width: 1.5;\" width=\"60\" x=\"46\" y=\"93.9375\"/><rect fill=\"none\" height=\"42.9375\" id=\"E7\" rx=\"10\" ry=\"10\" style=\"stroke: #383838; stroke-width: 1.5;\" width=\"60\" x=\"46\" y=\"66\"/><text fill=\"#000000\" font-family=\"sans-serif\" font-size=\"12\" font-style=\"italic\" lengthAdjust=\"spacingAndGlyphs\" textLength=\"53\" x=\"49.5\" y=\"82.1387\">«action»</text><text fill=\"#000000\" font-family=\"sans-serif\" font-size=\"12\" lengthAdjust=\"spacingAndGlyphs\" textLength=\"16\" x=\"68\" y=\"96.1074\">A3</text></a></g><g id=\"E1.E8\"><a href=\"psysml:7b9f6d16-7e81-4d0a-aec9-34a5599243af\" target=\"_top\" title=\"psysml:7b9f6d16-7e81-4d0a-aec9-34a5599243af\" xlink:actuate=\"onRequest\" xlink:href=\"psysml:7b9f6d16-7e81-4d0a-aec9-34a5599243af\" xlink:show=\"new\" xlink:title=\"psysml:7b9f6d16-7e81-4d0a-aec9-34a5599243af\" xlink:type=\"simple\"><rect fill=\"#FFFFFF\" height=\"42.9375\" id=\"E8\" rx=\"10\" ry=\"10\" style=\"stroke: #383838; stroke-width: 1.5;\" width=\"60\" x=\"246\" y=\"117\"/><rect fill=\"#F8F8F8\" height=\"37.9375\" rx=\"10\" ry=\"10\" style=\"stroke: #F8F8F8; stroke-width: 1.5;\" width=\"60\" x=\"246\" y=\"117\"/><rect fill=\"#F8F8F8\" height=\"10\" style=\"stroke: #F8F8F8; stroke-width: 1.5;\" width=\"60\" x=\"246\" y=\"144.9375\"/><rect fill=\"none\" height=\"42.9375\" id=\"E8\" rx=\"10\" ry=\"10\" style=\"stroke: #383838; stroke-width: 1.5;\" width=\"60\" x=\"246\" y=\"117\"/><text fill=\"#000000\" font-family=\"sans-serif\" font-size=\"12\" font-style=\"italic\" lengthAdjust=\"spacingAndGlyphs\" textLength=\"53\" x=\"249.5\" y=\"133.1387\">«action»</text><text fill=\"#000000\" font-family=\"sans-serif\" font-size=\"12\" lengthAdjust=\"spacingAndGlyphs\" textLength=\"16\" x=\"268\" y=\"147.1074\">A3</text></a></g><!--MD5=[0188b64bb0ae78505a997a81836e11e9]\n",
       "link E3 to E5--><a href=\"psysml:7286f462-e52e-4ebc-bfea-7701f26f76d2\" target=\"_top\" title=\"psysml:7286f462-e52e-4ebc-bfea-7701f26f76d2\" xlink:actuate=\"onRequest\" xlink:href=\"psysml:7286f462-e52e-4ebc-bfea-7701f26f76d2\" xlink:show=\"new\" xlink:title=\"psysml:7286f462-e52e-4ebc-bfea-7701f26f76d2\" xlink:type=\"simple\"><path d=\"M140.07,51.78 C138.47,72.5 136.04,120.67 144,160 C145.92,169.49 149.4,179.47 152.99,188.21 \" fill=\"none\" id=\"E3-&gt;E5\" style=\"stroke: #383838; stroke-width: 1.0; stroke-dasharray: 7.0,7.0;\"/><polygon fill=\"#383838\" points=\"154.98,192.92,155.1631,183.0728,153.0346,188.314,147.7935,186.1855,154.98,192.92\" style=\"stroke: #383838; stroke-width: 1.0;\"/><text fill=\"#000000\" font-family=\"sans-serif\" font-size=\"13\" lengthAdjust=\"spacingAndGlyphs\" textLength=\"55\" x=\"145\" y=\"143.0669\">[x == 1]</text></a><!--MD5=[ec9844e0c75763426927cad3229d1081]\n",
       "link E3 to E6--><a href=\"psysml:e748a59f-80ec-4a6b-adc3-e898091fbade\" target=\"_top\" title=\"psysml:e748a59f-80ec-4a6b-adc3-e898091fbade\" xlink:actuate=\"onRequest\" xlink:href=\"psysml:e748a59f-80ec-4a6b-adc3-e898091fbade\" xlink:show=\"new\" xlink:title=\"psysml:e748a59f-80ec-4a6b-adc3-e898091fbade\" xlink:type=\"simple\"><path d=\"M147.17,46.62 C160.24,57.84 190.71,86.12 205,117 C229.03,168.92 221.32,186.98 226,244 C226.62,251.53 230.06,254.63 226,261 C220.01,270.41 210.02,276.76 199.83,281.03 \" fill=\"none\" id=\"E3-&gt;E6\" style=\"stroke: #383838; stroke-width: 1.0; stroke-dasharray: 7.0,7.0;\"/><polygon fill=\"#383838\" points=\"195.15,282.85,204.9881,283.3102,199.8089,281.035,202.0841,275.8559,195.15,282.85\" style=\"stroke: #383838; stroke-width: 1.0;\"/><text fill=\"#000000\" font-family=\"sans-serif\" font-size=\"13\" lengthAdjust=\"spacingAndGlyphs\" textLength=\"44\" x=\"224\" y=\"181.0669\">[x &gt; 1]</text></a><!--MD5=[ca5a752d6098d8a44b3f88316e7452d1]\n",
       "link E3 to E8--><a href=\"psysml:c4aa7bb1-7be8-4d3d-94c8-0c3feb0dde03\" target=\"_top\" title=\"psysml:c4aa7bb1-7be8-4d3d-94c8-0c3feb0dde03\" xlink:actuate=\"onRequest\" xlink:href=\"psysml:c4aa7bb1-7be8-4d3d-94c8-0c3feb0dde03\" xlink:show=\"new\" xlink:title=\"psysml:c4aa7bb1-7be8-4d3d-94c8-0c3feb0dde03\" xlink:type=\"simple\"><path d=\"M147.65,45.88 C153.56,49.59 162.55,54.81 171,58 C186.34,63.79 195.35,54.47 207,66 C220.94,79.81 204.74,93.68 217,109 C223.18,116.72 231.96,122.48 240.86,126.73 \" fill=\"none\" id=\"E3-&gt;E8\" style=\"stroke: #383838; stroke-width: 1.0; stroke-dasharray: 7.0,7.0;\"/><polygon fill=\"#383838\" points=\"245.81,128.93,239.2251,121.6061,241.2451,126.89,235.9612,128.91,245.81,128.93\" style=\"stroke: #383838; stroke-width: 1.0;\"/></a><!--MD5=[95fa686b5a16158bcdbcaeead89f639b]\n",
       "link E8 to E3--><a href=\"psysml:313c2626-617f-4a85-9d7c-c31cb61d9b9e\" target=\"_top\" title=\"psysml:313c2626-617f-4a85-9d7c-c31cb61d9b9e\" xlink:actuate=\"onRequest\" xlink:href=\"psysml:313c2626-617f-4a85-9d7c-c31cb61d9b9e\" xlink:show=\"new\" xlink:title=\"psysml:313c2626-617f-4a85-9d7c-c31cb61d9b9e\" xlink:type=\"simple\"><path d=\"M253.3,116.74 C250.77,114.19 248.29,111.58 246,109 C230.2,91.18 234.22,78.6 214,66 C197.5,55.72 189.3,64.54 171,58 C164.35,55.62 157.42,51.9 151.89,48.59 \" fill=\"none\" id=\"E8-&gt;E3\" style=\"stroke: #383838; stroke-width: 1.0; stroke-dasharray: 7.0,7.0;\"/><polygon fill=\"#383838\" points=\"147.62,45.95,153.1764,54.0818,151.8744,48.5769,157.3793,47.2748,147.62,45.95\" style=\"stroke: #383838; stroke-width: 1.0;\"/><text fill=\"#000000\" font-family=\"sans-serif\" font-size=\"13\" lengthAdjust=\"spacingAndGlyphs\" textLength=\"44\" x=\"247\" y=\"92.0669\">[x &gt; 0]</text></a><!--MD5=[af87c684e3b0d8be13c1a698a818ef1e]\n",
       "link E3 to E4--><a href=\"psysml:9e59e0cd-e7d6-48f9-8abd-2b6da2cb7bd3\" target=\"_top\" title=\"psysml:9e59e0cd-e7d6-48f9-8abd-2b6da2cb7bd3\" xlink:actuate=\"onRequest\" xlink:href=\"psysml:9e59e0cd-e7d6-48f9-8abd-2b6da2cb7bd3\" xlink:show=\"new\" xlink:title=\"psysml:9e59e0cd-e7d6-48f9-8abd-2b6da2cb7bd3\" xlink:type=\"simple\"><path d=\"M130.87,42.54 C108.03,45.11 53.64,52.54 42,66 C28.37,81.77 29.55,107.42 32.02,123.33 \" fill=\"none\" id=\"E3-&gt;E4\" style=\"stroke: #383838; stroke-width: 1.0; stroke-dasharray: 7.0,7.0;\"/><polygon fill=\"#383838\" points=\"32.88,128.32,35.3057,118.7745,32.0372,123.3915,27.4201,120.1231,32.88,128.32\" style=\"stroke: #383838; stroke-width: 1.0;\"/></a><!--MD5=[1b7591eae5389033d8d09a9d6721a717]\n",
       "link E4 to E5--><a href=\"psysml:7b0b5bc6-fd2d-464d-92f4-1e71099b6f78\" target=\"_top\" title=\"psysml:7b0b5bc6-fd2d-464d-92f4-1e71099b6f78\" xlink:actuate=\"onRequest\" xlink:href=\"psysml:7b0b5bc6-fd2d-464d-92f4-1e71099b6f78\" xlink:show=\"new\" xlink:title=\"psysml:7b0b5bc6-fd2d-464d-92f4-1e71099b6f78\" xlink:type=\"simple\"><path d=\"M40.09,145.69 C48.35,155.37 65.62,174.11 84,185 C93.67,190.73 97.38,189.32 108,193 C115.1,195.46 122.69,198.15 129.93,200.74 \" fill=\"none\" id=\"E4-&gt;E5\" style=\"stroke: #383838; stroke-width: 1.0; stroke-dasharray: 7.0,7.0;\"/><polygon fill=\"#383838\" points=\"134.87,202.52,127.7488,195.7164,130.1636,200.832,125.048,203.2467,134.87,202.52\" style=\"stroke: #383838; stroke-width: 1.0;\"/><text fill=\"#000000\" font-family=\"sans-serif\" font-size=\"13\" lengthAdjust=\"spacingAndGlyphs\" textLength=\"36\" x=\"85\" y=\"181.0669\">[true]</text></a><!--MD5=[79568f1e445c3877b6a54524624ccc7d]\n",
       "link E4 to E6--><a href=\"psysml:2cb1b039-bbb8-4621-9b87-8355478bfab0\" target=\"_top\" title=\"psysml:2cb1b039-bbb8-4621-9b87-8355478bfab0\" xlink:actuate=\"onRequest\" xlink:href=\"psysml:2cb1b039-bbb8-4621-9b87-8355478bfab0\" xlink:show=\"new\" xlink:title=\"psysml:2cb1b039-bbb8-4621-9b87-8355478bfab0\" xlink:type=\"simple\"><path d=\"M36.89,148.77 C41.08,167.27 52.64,209.28 76,236 C90.77,252.89 112.21,266 130.35,275.02 \" fill=\"none\" id=\"E4-&gt;E6\" style=\"stroke: #383838; stroke-width: 1.0; stroke-dasharray: 7.0,7.0;\"/><polygon fill=\"#383838\" points=\"134.88,277.22,128.532,269.6898,130.3825,275.0355,125.0368,276.8859,134.88,277.22\" style=\"stroke: #383838; stroke-width: 1.0;\"/><text fill=\"#000000\" font-family=\"sans-serif\" font-size=\"13\" lengthAdjust=\"spacingAndGlyphs\" textLength=\"40\" x=\"77\" y=\"219.0669\">[false]</text></a><!--MD5=[9120cf2e5df3bff93db8f754bbbc09b4]\n",
       "link E5 to E6--><a href=\"psysml:b49ece63-4bda-4eac-a48b-66e19b9bdab7\" target=\"_top\" title=\"psysml:b49ece63-4bda-4eac-a48b-66e19b9bdab7\" xlink:actuate=\"onRequest\" xlink:href=\"psysml:b49ece63-4bda-4eac-a48b-66e19b9bdab7\" xlink:show=\"new\" xlink:title=\"psysml:b49ece63-4bda-4eac-a48b-66e19b9bdab7\" xlink:type=\"simple\"><path d=\"M165,236.11 C165,244.69 165,254.75 165,263.8 \" fill=\"none\" id=\"E5-&gt;E6\" style=\"stroke: #383838; stroke-width: 1.0; stroke-dasharray: 7.0,7.0;\"/><polygon fill=\"#383838\" points=\"165,269,169,260,165,264,161,260,165,269\" style=\"stroke: #383838; stroke-width: 1.0;\"/><text fill=\"#000000\" font-family=\"sans-serif\" font-size=\"13\" lengthAdjust=\"spacingAndGlyphs\" textLength=\"55\" x=\"166\" y=\"257.0669\">[x == 0]</text></a><!--MD5=[ba7112a73a1b39046623d6fd43ac80ea]\n",
       "@startuml\r\n",
       "skinparam ranksep 8\r\n",
       " skinparam monochrome true\r\n",
       "skinparam classbackgroundcolor white\r\n",
       "skinparam shadowing false\r\n",
       "skinparam wrapWidth 300\r\n",
       "hide circle\r\n",
       "\r\n",
       "rec def \"DecisionTest\" as E1  <<(T,blue)action def>> [[psysml:3be07126-877a-4309-8447-1e285ef81f95 ]] {\r\n",
       "portout \"$result\" as E2  [[psysml:9348992a-eef4-478a-99a3-8679640e907b ]] \r\n",
       "choice \"test x\" as E3  [[psysml:68020b6f-ffe7-4b5f-b810-1edcbdd08af0 ]] \r\n",
       "choice \"noname\" as E4  [[psysml:c53ed86d-7fd9-4daa-81a5-a3aaa8a48fdd ]] \r\n",
       "rec usage \"A1\" as E5  <<(T,blue)action>> [[psysml:0f40ea9b-adac-4a33-8b1a-34d15e55e3d2 ]] {\r\n",
       "}\r\n",
       "\r\n",
       "rec usage \"A2\" as E6  <<(T,blue)action>> [[psysml:128661ee-6ef6-488f-adc9-4acba814b00a ]] {\r\n",
       "}\r\n",
       "\r\n",
       "rec usage \"A3\" as E7  <<(T,blue)action>> [[psysml:7b9f6d16-7e81-4d0a-aec9-34a5599243af ]] {\r\n",
       "}\r\n",
       "\r\n",
       "rec usage \"A3\" as E8  <<(T,blue)action>> [[psysml:7b9f6d16-7e81-4d0a-aec9-34a5599243af ]] {\r\n",
       "}\r\n",
       "\r\n",
       "}\r\n",
       "\r\n",
       "E3 ..> E5 [[psysml:7286f462-e52e-4ebc-bfea-7701f26f76d2 ]] : [x == 1]\r\n",
       "E3 ..> E6 [[psysml:e748a59f-80ec-4a6b-adc3-e898091fbade ]] : [x > 1]\r\n",
       "E3 ..> E8 [[psysml:c4aa7bb1-7be8-4d3d-94c8-0c3feb0dde03 ]] \r\n",
       "E3 ..> E4 [[psysml:9e59e0cd-e7d6-48f9-8abd-2b6da2cb7bd3 ]] \r\n",
       "E4 ..> E5 [[psysml:7b0b5bc6-fd2d-464d-92f4-1e71099b6f78 ]] : [true]\r\n",
       "E4 ..> E6 [[psysml:2cb1b039-bbb8-4621-9b87-8355478bfab0 ]] : [false]\r\n",
       "E5 ..> E6 [[psysml:b49ece63-4bda-4eac-a48b-66e19b9bdab7 ]] : [x == 0]\r\n",
       "E8 ..> E3 [[psysml:313c2626-617f-4a85-9d7c-c31cb61d9b9e ]] : [x > 0]\r\n",
       "@enduml\r\n",
       "\n",
       "PlantUML version 1.2020.13(Sat Jun 13 12:26:38 UTC 2020)\n",
       "(EPL source distribution)\n",
       "Java Runtime: OpenJDK Runtime Environment\n",
       "JVM: OpenJDK 64-Bit Server VM\n",
       "Default Encoding: UTF-8\n",
       "Language: en\n",
       "Country: null\n",
       "--></g></svg>"
      ]
     },
     "execution_count": 6,
     "metadata": {},
     "output_type": "execute_result"
    }
   ],
   "source": [
    "%viz --style=\"COMPTREE\" --view=\"Action\" \"DecisionTest\""
   ]
  },
  {
   "cell_type": "code",
   "execution_count": 7,
   "id": "a9598a46",
   "metadata": {
    "execution": {
     "iopub.execute_input": "2021-05-27T06:09:51.397747Z",
     "iopub.status.busy": "2021-05-27T06:09:51.397117Z",
     "iopub.status.idle": "2021-05-27T06:09:51.511160Z",
     "shell.execute_reply": "2021-05-27T06:09:51.502164Z"
    }
   },
   "outputs": [
    {
     "data": {
      "image/svg+xml": [
       "<?xml version=\"1.0\" encoding=\"UTF-8\" standalone=\"no\"?><svg xmlns=\"http://www.w3.org/2000/svg\" xmlns:xlink=\"http://www.w3.org/1999/xlink\" contentScriptType=\"application/ecmascript\" contentStyleType=\"text/css\" height=\"207px\" preserveAspectRatio=\"none\" style=\"width:109px;height:207px;\" version=\"1.1\" viewBox=\"0 0 109 207\" width=\"109px\" zoomAndPan=\"magnify\"><defs/><g><!--MD5=[43c9051892ef23e1a46a86907403d788]\n",
       "class E1--><a href=\"psysml:3be07126-877a-4309-8447-1e285ef81f95\" target=\"_top\" title=\"psysml:3be07126-877a-4309-8447-1e285ef81f95\" xlink:actuate=\"onRequest\" xlink:href=\"psysml:3be07126-877a-4309-8447-1e285ef81f95\" xlink:show=\"new\" xlink:title=\"psysml:3be07126-877a-4309-8447-1e285ef81f95\" xlink:type=\"simple\"><rect fill=\"#FFFFFF\" height=\"189.9844\" id=\"E1\" style=\"stroke: #383838; stroke-width: 1.5;\" width=\"91\" x=\"7\" y=\"7\"/><text fill=\"#000000\" font-family=\"sans-serif\" font-size=\"12\" font-style=\"italic\" lengthAdjust=\"spacingAndGlyphs\" textLength=\"77\" x=\"14\" y=\"23.1387\">«action def»</text><text fill=\"#000000\" font-family=\"sans-serif\" font-size=\"12\" lengthAdjust=\"spacingAndGlyphs\" textLength=\"80\" x=\"12.5\" y=\"37.1074\">DecisionTest</text><line style=\"stroke: #383838; stroke-width: 1.5;\" x1=\"8\" x2=\"97\" y1=\"44.9375\" y2=\"44.9375\"/><text fill=\"#000000\" font-family=\"sans-serif\" font-size=\"11\" lengthAdjust=\"spacingAndGlyphs\" textLength=\"26\" x=\"13\" y=\"75.9526\">x=1;</text><line style=\"stroke: #383838; stroke-width: 1.0;\" x1=\"8\" x2=\"25\" y1=\"59.3398\" y2=\"59.3398\"/><text fill=\"#000000\" font-family=\"sans-serif\" font-size=\"11\" lengthAdjust=\"spacingAndGlyphs\" textLength=\"55\" x=\"25\" y=\"62.6479\">attributes</text><line style=\"stroke: #383838; stroke-width: 1.0;\" x1=\"80\" x2=\"97\" y1=\"59.3398\" y2=\"59.3398\"/><text fill=\"#000000\" font-family=\"sans-serif\" font-size=\"11\" lengthAdjust=\"spacingAndGlyphs\" textLength=\"14\" x=\"13\" y=\"105.562\">A1</text><text fill=\"#000000\" font-family=\"sans-serif\" font-size=\"11\" lengthAdjust=\"spacingAndGlyphs\" textLength=\"14\" x=\"13\" y=\"118.3667\">A2</text><text fill=\"#000000\" font-family=\"sans-serif\" font-size=\"11\" lengthAdjust=\"spacingAndGlyphs\" textLength=\"14\" x=\"13\" y=\"131.1714\">A3</text><line style=\"stroke: #383838; stroke-width: 1.0;\" x1=\"8\" x2=\"32\" y1=\"88.9492\" y2=\"88.9492\"/><text fill=\"#000000\" font-family=\"sans-serif\" font-size=\"11\" lengthAdjust=\"spacingAndGlyphs\" textLength=\"41\" x=\"32\" y=\"92.2573\">actions</text><line style=\"stroke: #383838; stroke-width: 1.0;\" x1=\"73\" x2=\"97\" y1=\"88.9492\" y2=\"88.9492\"/><text fill=\"#000000\" font-family=\"sans-serif\" font-size=\"11\" lengthAdjust=\"spacingAndGlyphs\" textLength=\"32\" x=\"13\" y=\"160.7808\">test x</text><line style=\"stroke: #383838; stroke-width: 1.0;\" x1=\"8\" x2=\"11\" y1=\"144.168\" y2=\"144.168\"/><text fill=\"#000000\" font-family=\"sans-serif\" font-size=\"11\" lengthAdjust=\"spacingAndGlyphs\" textLength=\"83\" x=\"11\" y=\"147.4761\">decisionNodes</text><line style=\"stroke: #383838; stroke-width: 1.0;\" x1=\"94\" x2=\"97\" y1=\"144.168\" y2=\"144.168\"/><text fill=\"#000000\" font-family=\"sans-serif\" font-size=\"11\" lengthAdjust=\"spacingAndGlyphs\" textLength=\"8\" x=\"13\" y=\"190.3901\">S</text><line style=\"stroke: #383838; stroke-width: 1.0;\" x1=\"8\" x2=\"22\" y1=\"173.7773\" y2=\"173.7773\"/><text fill=\"#000000\" font-family=\"sans-serif\" font-size=\"11\" lengthAdjust=\"spacingAndGlyphs\" textLength=\"61\" x=\"22\" y=\"177.0854\">transitions</text><line style=\"stroke: #383838; stroke-width: 1.0;\" x1=\"83\" x2=\"97\" y1=\"173.7773\" y2=\"173.7773\"/></a><!--MD5=[0276dd8630baece2a314ae97edc31399]\n",
       "@startuml\r\n",
       " skinparam monochrome true\r\n",
       "skinparam classbackgroundcolor white\r\n",
       "skinparam shadowing false\r\n",
       "skinparam wrapWidth 300\r\n",
       "hide circle\r\n",
       "\r\n",
       "comp def \"DecisionTest\" as E1  <<(T,blue)action def>> [[psysml:3be07126-877a-4309-8447-1e285ef81f95 ]] {\r\n",
       "- - attributes - -\r\n",
       "x=1; \r\n",
       "- - actions - -\r\n",
       "A1\r\n",
       "A2\r\n",
       "A3\r\n",
       "- - decisionNodes - -\r\n",
       "test x\r\n",
       "- - transitions - -\r\n",
       "S\r\n",
       "}\r\n",
       "@enduml\r\n",
       "\n",
       "PlantUML version 1.2020.13(Sat Jun 13 12:26:38 UTC 2020)\n",
       "(EPL source distribution)\n",
       "Java Runtime: OpenJDK Runtime Environment\n",
       "JVM: OpenJDK 64-Bit Server VM\n",
       "Default Encoding: UTF-8\n",
       "Language: en\n",
       "Country: null\n",
       "--></g></svg>"
      ]
     },
     "execution_count": 7,
     "metadata": {},
     "output_type": "execute_result"
    }
   ],
   "source": [
    "%viz --style=\"COMPTREE\" --view=\"Sequence\" \"DecisionTest\""
   ]
  },
  {
   "cell_type": "code",
   "execution_count": 8,
   "id": "f5218f2e",
   "metadata": {
    "execution": {
     "iopub.execute_input": "2021-05-27T06:09:51.567039Z",
     "iopub.status.busy": "2021-05-27T06:09:51.565322Z",
     "iopub.status.idle": "2021-05-27T06:09:51.621104Z",
     "shell.execute_reply": "2021-05-27T06:09:51.620763Z"
    }
   },
   "outputs": [
    {
     "data": {
      "image/svg+xml": [
       "<?xml version=\"1.0\" encoding=\"UTF-8\" standalone=\"no\"?><svg xmlns=\"http://www.w3.org/2000/svg\" xmlns:xlink=\"http://www.w3.org/1999/xlink\" contentScriptType=\"application/ecmascript\" contentStyleType=\"text/css\" height=\"574px\" preserveAspectRatio=\"none\" style=\"width:333px;height:574px;\" version=\"1.1\" viewBox=\"0 0 333 574\" width=\"333px\" zoomAndPan=\"magnify\"><defs/><g><!--MD5=[fbc87193dbaf4d95561dea2c320d4a47]\n",
       "cluster E1--><a href=\"psysml:3be07126-877a-4309-8447-1e285ef81f95\" target=\"_top\" title=\"psysml:3be07126-877a-4309-8447-1e285ef81f95\" xlink:actuate=\"onRequest\" xlink:href=\"psysml:3be07126-877a-4309-8447-1e285ef81f95\" xlink:show=\"new\" xlink:title=\"psysml:3be07126-877a-4309-8447-1e285ef81f95\" xlink:type=\"simple\"><rect fill=\"#FFFFFF\" height=\"534.72\" id=\"E1\" style=\"stroke: #383838; stroke-width: 1.5;\" width=\"315\" x=\"7\" y=\"7\"/><rect fill=\"#F8F8F8\" height=\"37.9375\" style=\"stroke: #383838; stroke-width: 1.5;\" width=\"315\" x=\"7\" y=\"7\"/><text fill=\"#000000\" font-family=\"sans-serif\" font-size=\"12\" font-style=\"italic\" lengthAdjust=\"spacingAndGlyphs\" textLength=\"77\" x=\"126\" y=\"23.1387\">«action def»</text><text fill=\"#000000\" font-family=\"sans-serif\" font-size=\"12\" lengthAdjust=\"spacingAndGlyphs\" textLength=\"80\" x=\"124.5\" y=\"37.1074\">DecisionTest</text></a><text fill=\"#000000\" font-family=\"sans-serif\" font-size=\"14\" lengthAdjust=\"spacingAndGlyphs\" textLength=\"48\" x=\"140\" y=\"560.7151\">$result</text><rect fill=\"#383838\" height=\"12\" style=\"stroke: #F8F8F8; stroke-width: 1.5;\" width=\"12\" x=\"158\" y=\"535.72\"/><polygon fill=\"#F8F8F8\" points=\"141,28.5,153,40.5,141,52.5,129,40.5,141,28.5\" style=\"stroke: #383838; stroke-width: 1.5;\"/><polygon fill=\"#F8F8F8\" points=\"35,170.5,47,182.5,35,194.5,23,182.5,35,170.5\" style=\"stroke: #383838; stroke-width: 1.5;\"/><g id=\"E1.E5\"><a href=\"psysml:0f40ea9b-adac-4a33-8b1a-34d15e55e3d2\" target=\"_top\" title=\"psysml:0f40ea9b-adac-4a33-8b1a-34d15e55e3d2\" xlink:actuate=\"onRequest\" xlink:href=\"psysml:0f40ea9b-adac-4a33-8b1a-34d15e55e3d2\" xlink:show=\"new\" xlink:title=\"psysml:0f40ea9b-adac-4a33-8b1a-34d15e55e3d2\" xlink:type=\"simple\"><rect fill=\"#FFFFFF\" height=\"42.9375\" id=\"E5\" rx=\"10\" ry=\"10\" style=\"stroke: #383838; stroke-width: 1.5;\" width=\"60\" x=\"135\" y=\"281\"/><rect fill=\"#F8F8F8\" height=\"37.9375\" rx=\"10\" ry=\"10\" style=\"stroke: #F8F8F8; stroke-width: 1.5;\" width=\"60\" x=\"135\" y=\"281\"/><rect fill=\"#F8F8F8\" height=\"10\" style=\"stroke: #F8F8F8; stroke-width: 1.5;\" width=\"60\" x=\"135\" y=\"308.9375\"/><rect fill=\"none\" height=\"42.9375\" id=\"E5\" rx=\"10\" ry=\"10\" style=\"stroke: #383838; stroke-width: 1.5;\" width=\"60\" x=\"135\" y=\"281\"/><text fill=\"#000000\" font-family=\"sans-serif\" font-size=\"12\" font-style=\"italic\" lengthAdjust=\"spacingAndGlyphs\" textLength=\"53\" x=\"138.5\" y=\"297.1387\">«action»</text><text fill=\"#000000\" font-family=\"sans-serif\" font-size=\"12\" lengthAdjust=\"spacingAndGlyphs\" textLength=\"16\" x=\"157\" y=\"311.1074\">A1</text></a></g><g id=\"E1.E6\"><a href=\"psysml:128661ee-6ef6-488f-adc9-4acba814b00a\" target=\"_top\" title=\"psysml:128661ee-6ef6-488f-adc9-4acba814b00a\" xlink:actuate=\"onRequest\" xlink:href=\"psysml:128661ee-6ef6-488f-adc9-4acba814b00a\" xlink:show=\"new\" xlink:title=\"psysml:128661ee-6ef6-488f-adc9-4acba814b00a\" xlink:type=\"simple\"><rect fill=\"#FFFFFF\" height=\"42.9375\" id=\"E6\" rx=\"10\" ry=\"10\" style=\"stroke: #383838; stroke-width: 1.5;\" width=\"60\" x=\"135\" y=\"401\"/><rect fill=\"#F8F8F8\" height=\"37.9375\" rx=\"10\" ry=\"10\" style=\"stroke: #F8F8F8; stroke-width: 1.5;\" width=\"60\" x=\"135\" y=\"401\"/><rect fill=\"#F8F8F8\" height=\"10\" style=\"stroke: #F8F8F8; stroke-width: 1.5;\" width=\"60\" x=\"135\" y=\"428.9375\"/><rect fill=\"none\" height=\"42.9375\" id=\"E6\" rx=\"10\" ry=\"10\" style=\"stroke: #383838; stroke-width: 1.5;\" width=\"60\" x=\"135\" y=\"401\"/><text fill=\"#000000\" font-family=\"sans-serif\" font-size=\"12\" font-style=\"italic\" lengthAdjust=\"spacingAndGlyphs\" textLength=\"53\" x=\"138.5\" y=\"417.1387\">«action»</text><text fill=\"#000000\" font-family=\"sans-serif\" font-size=\"12\" lengthAdjust=\"spacingAndGlyphs\" textLength=\"16\" x=\"157\" y=\"431.1074\">A2</text></a></g><g id=\"E1.E7\"><a href=\"psysml:7b9f6d16-7e81-4d0a-aec9-34a5599243af\" target=\"_top\" title=\"psysml:7b9f6d16-7e81-4d0a-aec9-34a5599243af\" xlink:actuate=\"onRequest\" xlink:href=\"psysml:7b9f6d16-7e81-4d0a-aec9-34a5599243af\" xlink:show=\"new\" xlink:title=\"psysml:7b9f6d16-7e81-4d0a-aec9-34a5599243af\" xlink:type=\"simple\"><rect fill=\"#FFFFFF\" height=\"42.9375\" id=\"E7\" rx=\"10\" ry=\"10\" style=\"stroke: #383838; stroke-width: 1.5;\" width=\"60\" x=\"46\" y=\"88\"/><rect fill=\"#F8F8F8\" height=\"37.9375\" rx=\"10\" ry=\"10\" style=\"stroke: #F8F8F8; stroke-width: 1.5;\" width=\"60\" x=\"46\" y=\"88\"/><rect fill=\"#F8F8F8\" height=\"10\" style=\"stroke: #F8F8F8; stroke-width: 1.5;\" width=\"60\" x=\"46\" y=\"115.9375\"/><rect fill=\"none\" height=\"42.9375\" id=\"E7\" rx=\"10\" ry=\"10\" style=\"stroke: #383838; stroke-width: 1.5;\" width=\"60\" x=\"46\" y=\"88\"/><text fill=\"#000000\" font-family=\"sans-serif\" font-size=\"12\" font-style=\"italic\" lengthAdjust=\"spacingAndGlyphs\" textLength=\"53\" x=\"49.5\" y=\"104.1387\">«action»</text><text fill=\"#000000\" font-family=\"sans-serif\" font-size=\"12\" lengthAdjust=\"spacingAndGlyphs\" textLength=\"16\" x=\"68\" y=\"118.1074\">A3</text></a></g><g id=\"E1.E8\"><a href=\"psysml:7b9f6d16-7e81-4d0a-aec9-34a5599243af\" target=\"_top\" title=\"psysml:7b9f6d16-7e81-4d0a-aec9-34a5599243af\" xlink:actuate=\"onRequest\" xlink:href=\"psysml:7b9f6d16-7e81-4d0a-aec9-34a5599243af\" xlink:show=\"new\" xlink:title=\"psysml:7b9f6d16-7e81-4d0a-aec9-34a5599243af\" xlink:type=\"simple\"><rect fill=\"#FFFFFF\" height=\"42.9375\" id=\"E8\" rx=\"10\" ry=\"10\" style=\"stroke: #383838; stroke-width: 1.5;\" width=\"60\" x=\"246\" y=\"161\"/><rect fill=\"#F8F8F8\" height=\"37.9375\" rx=\"10\" ry=\"10\" style=\"stroke: #F8F8F8; stroke-width: 1.5;\" width=\"60\" x=\"246\" y=\"161\"/><rect fill=\"#F8F8F8\" height=\"10\" style=\"stroke: #F8F8F8; stroke-width: 1.5;\" width=\"60\" x=\"246\" y=\"188.9375\"/><rect fill=\"none\" height=\"42.9375\" id=\"E8\" rx=\"10\" ry=\"10\" style=\"stroke: #383838; stroke-width: 1.5;\" width=\"60\" x=\"246\" y=\"161\"/><text fill=\"#000000\" font-family=\"sans-serif\" font-size=\"12\" font-style=\"italic\" lengthAdjust=\"spacingAndGlyphs\" textLength=\"53\" x=\"249.5\" y=\"177.1387\">«action»</text><text fill=\"#000000\" font-family=\"sans-serif\" font-size=\"12\" lengthAdjust=\"spacingAndGlyphs\" textLength=\"16\" x=\"268\" y=\"191.1074\">A3</text></a></g><!--MD5=[0188b64bb0ae78505a997a81836e11e9]\n",
       "link E3 to E5--><a href=\"psysml:7286f462-e52e-4ebc-bfea-7701f26f76d2\" target=\"_top\" title=\"psysml:7286f462-e52e-4ebc-bfea-7701f26f76d2\" xlink:actuate=\"onRequest\" xlink:href=\"psysml:7286f462-e52e-4ebc-bfea-7701f26f76d2\" xlink:show=\"new\" xlink:title=\"psysml:7286f462-e52e-4ebc-bfea-7701f26f76d2\" xlink:type=\"simple\"><path d=\"M140.49,52.19 C139.39,78.26 137.41,147.1 144,204 C146.84,228.53 153.03,255.98 157.96,275.49 \" fill=\"none\" id=\"E3-&gt;E5\" style=\"stroke: #383838; stroke-width: 1.0;\"/><polygon fill=\"#383838\" points=\"159.31,280.77,160.9741,271.0627,158.0805,275.9235,153.2197,273.0299,159.31,280.77\" style=\"stroke: #383838; stroke-width: 1.0;\"/><text fill=\"#000000\" font-family=\"sans-serif\" font-size=\"13\" lengthAdjust=\"spacingAndGlyphs\" textLength=\"55\" x=\"145\" y=\"187.0669\">[x == 1]</text></a><!--MD5=[ec9844e0c75763426927cad3229d1081]\n",
       "link E3 to E6--><a href=\"psysml:e748a59f-80ec-4a6b-adc3-e898091fbade\" target=\"_top\" title=\"psysml:e748a59f-80ec-4a6b-adc3-e898091fbade\" xlink:actuate=\"onRequest\" xlink:href=\"psysml:e748a59f-80ec-4a6b-adc3-e898091fbade\" xlink:show=\"new\" xlink:title=\"psysml:e748a59f-80ec-4a6b-adc3-e898091fbade\" xlink:type=\"simple\"><path d=\"M145.73,48.09 C157.96,65.53 190.67,114.68 205,161 C230.5,243.43 221.33,267.84 226,354 C226.41,361.54 229.22,364.16 226,371 C220.27,383.19 209.98,393.45 199.48,401.47 \" fill=\"none\" id=\"E3-&gt;E6\" style=\"stroke: #383838; stroke-width: 1.0;\"/><polygon fill=\"#383838\" points=\"195.29,404.54,204.9073,402.4168,199.3138,401.5721,200.1586,395.9786,195.29,404.54\" style=\"stroke: #383838; stroke-width: 1.0;\"/><text fill=\"#000000\" font-family=\"sans-serif\" font-size=\"13\" lengthAdjust=\"spacingAndGlyphs\" textLength=\"44\" x=\"223\" y=\"247.0669\">[x &gt; 1]</text></a><!--MD5=[ca5a752d6098d8a44b3f88316e7452d1]\n",
       "link E3 to E8--><a href=\"psysml:c4aa7bb1-7be8-4d3d-94c8-0c3feb0dde03\" target=\"_top\" title=\"psysml:c4aa7bb1-7be8-4d3d-94c8-0c3feb0dde03\" xlink:actuate=\"onRequest\" xlink:href=\"psysml:c4aa7bb1-7be8-4d3d-94c8-0c3feb0dde03\" xlink:show=\"new\" xlink:title=\"psysml:c4aa7bb1-7be8-4d3d-94c8-0c3feb0dde03\" xlink:type=\"simple\"><path d=\"M147.97,45.53 C163.29,54.53 199.17,76.37 207,88 C217.96,104.27 206.82,114.23 217,131 C223.37,141.49 232.66,150.9 242,158.68 \" fill=\"none\" id=\"E3-&gt;E8\" style=\"stroke: #383838; stroke-width: 1.0;\"/><polygon fill=\"#383838\" points=\"246,161.91,241.5179,153.1401,242.1124,158.7657,236.4869,159.3602,246,161.91\" style=\"stroke: #383838; stroke-width: 1.0;\"/></a><!--MD5=[95fa686b5a16158bcdbcaeead89f639b]\n",
       "link E8 to E3--><a href=\"psysml:313c2626-617f-4a85-9d7c-c31cb61d9b9e\" target=\"_top\" title=\"psysml:313c2626-617f-4a85-9d7c-c31cb61d9b9e\" xlink:actuate=\"onRequest\" xlink:href=\"psysml:313c2626-617f-4a85-9d7c-c31cb61d9b9e\" xlink:show=\"new\" xlink:title=\"psysml:313c2626-617f-4a85-9d7c-c31cb61d9b9e\" xlink:type=\"simple\"><path d=\"M263.71,160.86 C249.28,137.02 225.81,99.6 214,88 C204.2,78.38 171.17,58.79 153.08,48.37 \" fill=\"none\" id=\"E8-&gt;E3\" style=\"stroke: #383838; stroke-width: 1.0;\"/><polygon fill=\"#383838\" points=\"148.41,45.69,154.234,53.6323,152.7495,48.1738,158.208,46.6892,148.41,45.69\" style=\"stroke: #383838; stroke-width: 1.0;\"/><text fill=\"#000000\" font-family=\"sans-serif\" font-size=\"13\" lengthAdjust=\"spacingAndGlyphs\" textLength=\"44\" x=\"244\" y=\"114.0669\">[x &gt; 0]</text></a><!--MD5=[af87c684e3b0d8be13c1a698a818ef1e]\n",
       "link E3 to E4--><a href=\"psysml:9e59e0cd-e7d6-48f9-8abd-2b6da2cb7bd3\" target=\"_top\" title=\"psysml:9e59e0cd-e7d6-48f9-8abd-2b6da2cb7bd3\" xlink:actuate=\"onRequest\" xlink:href=\"psysml:9e59e0cd-e7d6-48f9-8abd-2b6da2cb7bd3\" xlink:show=\"new\" xlink:title=\"psysml:9e59e0cd-e7d6-48f9-8abd-2b6da2cb7bd3\" xlink:type=\"simple\"><path d=\"M131.03,42.86 C110.41,46.26 63.22,57.19 42,88 C25.54,111.89 28.61,147.84 31.99,167.47 \" fill=\"none\" id=\"E3-&gt;E4\" style=\"stroke: #383838; stroke-width: 1.0;\"/><polygon fill=\"#383838\" points=\"32.94,172.56,35.2263,162.9802,32.0255,167.6443,27.3613,164.4435,32.94,172.56\" style=\"stroke: #383838; stroke-width: 1.0;\"/></a><!--MD5=[1b7591eae5389033d8d09a9d6721a717]\n",
       "link E4 to E5--><a href=\"psysml:7b0b5bc6-fd2d-464d-92f4-1e71099b6f78\" target=\"_top\" title=\"psysml:7b0b5bc6-fd2d-464d-92f4-1e71099b6f78\" xlink:actuate=\"onRequest\" xlink:href=\"psysml:7b0b5bc6-fd2d-464d-92f4-1e71099b6f78\" xlink:show=\"new\" xlink:title=\"psysml:7b0b5bc6-fd2d-464d-92f4-1e71099b6f78\" xlink:type=\"simple\"><path d=\"M39.08,190.91 C46.63,204.15 63.87,232.24 84,251 C97.73,263.8 115.17,275.16 130.35,283.85 \" fill=\"none\" id=\"E4-&gt;E5\" style=\"stroke: #383838; stroke-width: 1.0;\"/><polygon fill=\"#383838\" points=\"134.98,286.46,129.0858,278.5696,130.6187,284.0148,125.1735,285.5477,134.98,286.46\" style=\"stroke: #383838; stroke-width: 1.0;\"/><text fill=\"#000000\" font-family=\"sans-serif\" font-size=\"13\" lengthAdjust=\"spacingAndGlyphs\" textLength=\"36\" x=\"85\" y=\"247.0669\">[true]</text></a><!--MD5=[79568f1e445c3877b6a54524624ccc7d]\n",
       "link E4 to E6--><a href=\"psysml:2cb1b039-bbb8-4621-9b87-8355478bfab0\" target=\"_top\" title=\"psysml:2cb1b039-bbb8-4621-9b87-8355478bfab0\" xlink:actuate=\"onRequest\" xlink:href=\"psysml:2cb1b039-bbb8-4621-9b87-8355478bfab0\" xlink:show=\"new\" xlink:title=\"psysml:2cb1b039-bbb8-4621-9b87-8355478bfab0\" xlink:type=\"simple\"><path d=\"M36.3,193.29 C39.76,217.03 50.73,279.03 76,324 C91.89,352.29 117.42,379.1 137.07,397.43 \" fill=\"none\" id=\"E4-&gt;E6\" style=\"stroke: #383838; stroke-width: 1.0;\"/><polygon fill=\"#383838\" points=\"140.92,400.98,137.0155,391.9382,137.2443,397.5904,131.5921,397.8192,140.92,400.98\" style=\"stroke: #383838; stroke-width: 1.0;\"/><text fill=\"#000000\" font-family=\"sans-serif\" font-size=\"13\" lengthAdjust=\"spacingAndGlyphs\" textLength=\"40\" x=\"77\" y=\"307.0669\">[false]</text></a><!--MD5=[9120cf2e5df3bff93db8f754bbbc09b4]\n",
       "link E5 to E6--><a href=\"psysml:b49ece63-4bda-4eac-a48b-66e19b9bdab7\" target=\"_top\" title=\"psysml:b49ece63-4bda-4eac-a48b-66e19b9bdab7\" xlink:actuate=\"onRequest\" xlink:href=\"psysml:b49ece63-4bda-4eac-a48b-66e19b9bdab7\" xlink:show=\"new\" xlink:title=\"psysml:b49ece63-4bda-4eac-a48b-66e19b9bdab7\" xlink:type=\"simple\"><path d=\"M165,324.05 C165,343.9 165,374.02 165,395.52 \" fill=\"none\" id=\"E5-&gt;E6\" style=\"stroke: #383838; stroke-width: 1.0;\"/><polygon fill=\"#383838\" points=\"165,400.79,169,391.79,165,395.79,161,391.79,165,400.79\" style=\"stroke: #383838; stroke-width: 1.0;\"/><text fill=\"#000000\" font-family=\"sans-serif\" font-size=\"13\" lengthAdjust=\"spacingAndGlyphs\" textLength=\"55\" x=\"166\" y=\"367.0669\">[x == 0]</text></a><!--MD5=[d129d53bb7d664601221fe6e0f9aa971]\n",
       "@startuml\r\n",
       " skinparam monochrome true\r\n",
       "skinparam classbackgroundcolor white\r\n",
       "skinparam shadowing false\r\n",
       "skinparam wrapWidth 300\r\n",
       "hide circle\r\n",
       "\r\n",
       "rec def \"DecisionTest\" as E1  <<(T,blue)action def>> [[psysml:3be07126-877a-4309-8447-1e285ef81f95 ]] {\r\n",
       "portout \"$result\" as E2  [[psysml:9348992a-eef4-478a-99a3-8679640e907b ]] \r\n",
       "choice \"test x\" as E3  [[psysml:68020b6f-ffe7-4b5f-b810-1edcbdd08af0 ]] \r\n",
       "choice \"noname\" as E4  [[psysml:c53ed86d-7fd9-4daa-81a5-a3aaa8a48fdd ]] \r\n",
       "rec usage \"A1\" as E5  <<(T,blue)action>> [[psysml:0f40ea9b-adac-4a33-8b1a-34d15e55e3d2 ]] {\r\n",
       "}\r\n",
       "\r\n",
       "rec usage \"A2\" as E6  <<(T,blue)action>> [[psysml:128661ee-6ef6-488f-adc9-4acba814b00a ]] {\r\n",
       "}\r\n",
       "\r\n",
       "rec usage \"A3\" as E7  <<(T,blue)action>> [[psysml:7b9f6d16-7e81-4d0a-aec9-34a5599243af ]] {\r\n",
       "}\r\n",
       "\r\n",
       "rec usage \"A3\" as E8  <<(T,blue)action>> [[psysml:7b9f6d16-7e81-4d0a-aec9-34a5599243af ]] {\r\n",
       "}\r\n",
       "\r\n",
       "}\r\n",
       "\r\n",
       "E3  - -> E5 [[psysml:7286f462-e52e-4ebc-bfea-7701f26f76d2 ]] : [x == 1]\r\n",
       "E3  - -> E6 [[psysml:e748a59f-80ec-4a6b-adc3-e898091fbade ]] : [x > 1]\r\n",
       "E3  - -> E8 [[psysml:c4aa7bb1-7be8-4d3d-94c8-0c3feb0dde03 ]] \r\n",
       "E3 - -> E4 [[psysml:9e59e0cd-e7d6-48f9-8abd-2b6da2cb7bd3 ]] \r\n",
       "E4  - -> E5 [[psysml:7b0b5bc6-fd2d-464d-92f4-1e71099b6f78 ]] : [true]\r\n",
       "E4  - -> E6 [[psysml:2cb1b039-bbb8-4621-9b87-8355478bfab0 ]] : [false]\r\n",
       "E5  - -> E6 [[psysml:b49ece63-4bda-4eac-a48b-66e19b9bdab7 ]] : [x == 0]\r\n",
       "E8  - -> E3 [[psysml:313c2626-617f-4a85-9d7c-c31cb61d9b9e ]] : [x > 0]\r\n",
       "@enduml\r\n",
       "\n",
       "PlantUML version 1.2020.13(Sat Jun 13 12:26:38 UTC 2020)\n",
       "(EPL source distribution)\n",
       "Java Runtime: OpenJDK Runtime Environment\n",
       "JVM: OpenJDK 64-Bit Server VM\n",
       "Default Encoding: UTF-8\n",
       "Language: en\n",
       "Country: null\n",
       "--></g></svg>"
      ]
     },
     "execution_count": 8,
     "metadata": {},
     "output_type": "execute_result"
    }
   ],
   "source": [
    "%viz --style=\"COMPTREE\" --view=\"MIXED\" \"DecisionTest\""
   ]
  },
  {
   "cell_type": "code",
   "execution_count": 9,
   "id": "0b9e87a0",
   "metadata": {
    "execution": {
     "iopub.execute_input": "2021-05-27T06:09:51.675108Z",
     "iopub.status.busy": "2021-05-27T06:09:51.674371Z",
     "iopub.status.idle": "2021-05-27T06:09:51.726660Z",
     "shell.execute_reply": "2021-05-27T06:09:51.725925Z"
    }
   },
   "outputs": [
    {
     "data": {
      "image/svg+xml": [
       "<?xml version=\"1.0\" encoding=\"UTF-8\" standalone=\"no\"?><svg xmlns=\"http://www.w3.org/2000/svg\" xmlns:xlink=\"http://www.w3.org/1999/xlink\" contentScriptType=\"application/ecmascript\" contentStyleType=\"text/css\" height=\"574px\" preserveAspectRatio=\"none\" style=\"width:333px;height:574px;\" version=\"1.1\" viewBox=\"0 0 333 574\" width=\"333px\" zoomAndPan=\"magnify\"><defs/><g><!--MD5=[fbc87193dbaf4d95561dea2c320d4a47]\n",
       "cluster E1--><a href=\"psysml:3be07126-877a-4309-8447-1e285ef81f95\" target=\"_top\" title=\"psysml:3be07126-877a-4309-8447-1e285ef81f95\" xlink:actuate=\"onRequest\" xlink:href=\"psysml:3be07126-877a-4309-8447-1e285ef81f95\" xlink:show=\"new\" xlink:title=\"psysml:3be07126-877a-4309-8447-1e285ef81f95\" xlink:type=\"simple\"><rect fill=\"#FFFFFF\" height=\"534.72\" id=\"E1\" style=\"stroke: #383838; stroke-width: 1.5;\" width=\"315\" x=\"7\" y=\"7\"/><rect fill=\"#F8F8F8\" height=\"37.9375\" style=\"stroke: #383838; stroke-width: 1.5;\" width=\"315\" x=\"7\" y=\"7\"/><text fill=\"#000000\" font-family=\"sans-serif\" font-size=\"12\" font-style=\"italic\" lengthAdjust=\"spacingAndGlyphs\" textLength=\"77\" x=\"126\" y=\"23.1387\">«action def»</text><text fill=\"#000000\" font-family=\"sans-serif\" font-size=\"12\" lengthAdjust=\"spacingAndGlyphs\" textLength=\"80\" x=\"124.5\" y=\"37.1074\">DecisionTest</text></a><text fill=\"#000000\" font-family=\"sans-serif\" font-size=\"14\" lengthAdjust=\"spacingAndGlyphs\" textLength=\"48\" x=\"140\" y=\"560.7151\">$result</text><rect fill=\"#383838\" height=\"12\" style=\"stroke: #F8F8F8; stroke-width: 1.5;\" width=\"12\" x=\"158\" y=\"535.72\"/><polygon fill=\"#F8F8F8\" points=\"141,28.5,153,40.5,141,52.5,129,40.5,141,28.5\" style=\"stroke: #383838; stroke-width: 1.5;\"/><polygon fill=\"#F8F8F8\" points=\"35,170.5,47,182.5,35,194.5,23,182.5,35,170.5\" style=\"stroke: #383838; stroke-width: 1.5;\"/><g id=\"E1.E5\"><a href=\"psysml:0f40ea9b-adac-4a33-8b1a-34d15e55e3d2\" target=\"_top\" title=\"psysml:0f40ea9b-adac-4a33-8b1a-34d15e55e3d2\" xlink:actuate=\"onRequest\" xlink:href=\"psysml:0f40ea9b-adac-4a33-8b1a-34d15e55e3d2\" xlink:show=\"new\" xlink:title=\"psysml:0f40ea9b-adac-4a33-8b1a-34d15e55e3d2\" xlink:type=\"simple\"><rect fill=\"#FFFFFF\" height=\"42.9375\" id=\"E5\" rx=\"10\" ry=\"10\" style=\"stroke: #383838; stroke-width: 1.5;\" width=\"60\" x=\"135\" y=\"281\"/><rect fill=\"#F8F8F8\" height=\"37.9375\" rx=\"10\" ry=\"10\" style=\"stroke: #F8F8F8; stroke-width: 1.5;\" width=\"60\" x=\"135\" y=\"281\"/><rect fill=\"#F8F8F8\" height=\"10\" style=\"stroke: #F8F8F8; stroke-width: 1.5;\" width=\"60\" x=\"135\" y=\"308.9375\"/><rect fill=\"none\" height=\"42.9375\" id=\"E5\" rx=\"10\" ry=\"10\" style=\"stroke: #383838; stroke-width: 1.5;\" width=\"60\" x=\"135\" y=\"281\"/><text fill=\"#000000\" font-family=\"sans-serif\" font-size=\"12\" font-style=\"italic\" lengthAdjust=\"spacingAndGlyphs\" textLength=\"53\" x=\"138.5\" y=\"297.1387\">«action»</text><text fill=\"#000000\" font-family=\"sans-serif\" font-size=\"12\" lengthAdjust=\"spacingAndGlyphs\" textLength=\"16\" x=\"157\" y=\"311.1074\">A1</text></a></g><g id=\"E1.E6\"><a href=\"psysml:128661ee-6ef6-488f-adc9-4acba814b00a\" target=\"_top\" title=\"psysml:128661ee-6ef6-488f-adc9-4acba814b00a\" xlink:actuate=\"onRequest\" xlink:href=\"psysml:128661ee-6ef6-488f-adc9-4acba814b00a\" xlink:show=\"new\" xlink:title=\"psysml:128661ee-6ef6-488f-adc9-4acba814b00a\" xlink:type=\"simple\"><rect fill=\"#FFFFFF\" height=\"42.9375\" id=\"E6\" rx=\"10\" ry=\"10\" style=\"stroke: #383838; stroke-width: 1.5;\" width=\"60\" x=\"135\" y=\"401\"/><rect fill=\"#F8F8F8\" height=\"37.9375\" rx=\"10\" ry=\"10\" style=\"stroke: #F8F8F8; stroke-width: 1.5;\" width=\"60\" x=\"135\" y=\"401\"/><rect fill=\"#F8F8F8\" height=\"10\" style=\"stroke: #F8F8F8; stroke-width: 1.5;\" width=\"60\" x=\"135\" y=\"428.9375\"/><rect fill=\"none\" height=\"42.9375\" id=\"E6\" rx=\"10\" ry=\"10\" style=\"stroke: #383838; stroke-width: 1.5;\" width=\"60\" x=\"135\" y=\"401\"/><text fill=\"#000000\" font-family=\"sans-serif\" font-size=\"12\" font-style=\"italic\" lengthAdjust=\"spacingAndGlyphs\" textLength=\"53\" x=\"138.5\" y=\"417.1387\">«action»</text><text fill=\"#000000\" font-family=\"sans-serif\" font-size=\"12\" lengthAdjust=\"spacingAndGlyphs\" textLength=\"16\" x=\"157\" y=\"431.1074\">A2</text></a></g><g id=\"E1.E7\"><a href=\"psysml:7b9f6d16-7e81-4d0a-aec9-34a5599243af\" target=\"_top\" title=\"psysml:7b9f6d16-7e81-4d0a-aec9-34a5599243af\" xlink:actuate=\"onRequest\" xlink:href=\"psysml:7b9f6d16-7e81-4d0a-aec9-34a5599243af\" xlink:show=\"new\" xlink:title=\"psysml:7b9f6d16-7e81-4d0a-aec9-34a5599243af\" xlink:type=\"simple\"><rect fill=\"#FFFFFF\" height=\"42.9375\" id=\"E7\" rx=\"10\" ry=\"10\" style=\"stroke: #383838; stroke-width: 1.5;\" width=\"60\" x=\"46\" y=\"88\"/><rect fill=\"#F8F8F8\" height=\"37.9375\" rx=\"10\" ry=\"10\" style=\"stroke: #F8F8F8; stroke-width: 1.5;\" width=\"60\" x=\"46\" y=\"88\"/><rect fill=\"#F8F8F8\" height=\"10\" style=\"stroke: #F8F8F8; stroke-width: 1.5;\" width=\"60\" x=\"46\" y=\"115.9375\"/><rect fill=\"none\" height=\"42.9375\" id=\"E7\" rx=\"10\" ry=\"10\" style=\"stroke: #383838; stroke-width: 1.5;\" width=\"60\" x=\"46\" y=\"88\"/><text fill=\"#000000\" font-family=\"sans-serif\" font-size=\"12\" font-style=\"italic\" lengthAdjust=\"spacingAndGlyphs\" textLength=\"53\" x=\"49.5\" y=\"104.1387\">«action»</text><text fill=\"#000000\" font-family=\"sans-serif\" font-size=\"12\" lengthAdjust=\"spacingAndGlyphs\" textLength=\"16\" x=\"68\" y=\"118.1074\">A3</text></a></g><g id=\"E1.E8\"><a href=\"psysml:7b9f6d16-7e81-4d0a-aec9-34a5599243af\" target=\"_top\" title=\"psysml:7b9f6d16-7e81-4d0a-aec9-34a5599243af\" xlink:actuate=\"onRequest\" xlink:href=\"psysml:7b9f6d16-7e81-4d0a-aec9-34a5599243af\" xlink:show=\"new\" xlink:title=\"psysml:7b9f6d16-7e81-4d0a-aec9-34a5599243af\" xlink:type=\"simple\"><rect fill=\"#FFFFFF\" height=\"42.9375\" id=\"E8\" rx=\"10\" ry=\"10\" style=\"stroke: #383838; stroke-width: 1.5;\" width=\"60\" x=\"246\" y=\"161\"/><rect fill=\"#F8F8F8\" height=\"37.9375\" rx=\"10\" ry=\"10\" style=\"stroke: #F8F8F8; stroke-width: 1.5;\" width=\"60\" x=\"246\" y=\"161\"/><rect fill=\"#F8F8F8\" height=\"10\" style=\"stroke: #F8F8F8; stroke-width: 1.5;\" width=\"60\" x=\"246\" y=\"188.9375\"/><rect fill=\"none\" height=\"42.9375\" id=\"E8\" rx=\"10\" ry=\"10\" style=\"stroke: #383838; stroke-width: 1.5;\" width=\"60\" x=\"246\" y=\"161\"/><text fill=\"#000000\" font-family=\"sans-serif\" font-size=\"12\" font-style=\"italic\" lengthAdjust=\"spacingAndGlyphs\" textLength=\"53\" x=\"249.5\" y=\"177.1387\">«action»</text><text fill=\"#000000\" font-family=\"sans-serif\" font-size=\"12\" lengthAdjust=\"spacingAndGlyphs\" textLength=\"16\" x=\"268\" y=\"191.1074\">A3</text></a></g><!--MD5=[0188b64bb0ae78505a997a81836e11e9]\n",
       "link E3 to E5--><a href=\"psysml:7286f462-e52e-4ebc-bfea-7701f26f76d2\" target=\"_top\" title=\"psysml:7286f462-e52e-4ebc-bfea-7701f26f76d2\" xlink:actuate=\"onRequest\" xlink:href=\"psysml:7286f462-e52e-4ebc-bfea-7701f26f76d2\" xlink:show=\"new\" xlink:title=\"psysml:7286f462-e52e-4ebc-bfea-7701f26f76d2\" xlink:type=\"simple\"><path d=\"M141.2,52.41 C141.87,88.85 144,204 144,204 C144,204 153.2,246.72 159.42,275.6 \" fill=\"none\" id=\"E3-&gt;E5\" style=\"stroke: #383838; stroke-width: 1.0;\"/><polygon fill=\"#383838\" points=\"160.55,280.82,162.5831,271.1833,159.5063,275.9302,154.7594,272.8533,160.55,280.82\" style=\"stroke: #383838; stroke-width: 1.0;\"/><text fill=\"#000000\" font-family=\"sans-serif\" font-size=\"13\" lengthAdjust=\"spacingAndGlyphs\" textLength=\"55\" x=\"145\" y=\"187.0669\">[x == 1]</text></a><!--MD5=[ec9844e0c75763426927cad3229d1081]\n",
       "link E3 to E6--><a href=\"psysml:e748a59f-80ec-4a6b-adc3-e898091fbade\" target=\"_top\" title=\"psysml:e748a59f-80ec-4a6b-adc3-e898091fbade\" xlink:actuate=\"onRequest\" xlink:href=\"psysml:e748a59f-80ec-4a6b-adc3-e898091fbade\" xlink:show=\"new\" xlink:title=\"psysml:e748a59f-80ec-4a6b-adc3-e898091fbade\" xlink:type=\"simple\"><path d=\"M145,48.98 C159.01,75.14 205,161 205,161 C205,161 226,354 226,354 C226,354 226,371 226,371 C226,371 209.6,384.58 193.8,397.65 \" fill=\"none\" id=\"E3-&gt;E6\" style=\"stroke: #383838; stroke-width: 1.0;\"/><polygon fill=\"#383838\" points=\"189.81,400.96,199.2964,398.3128,193.6651,397.776,194.202,392.1446,189.81,400.96\" style=\"stroke: #383838; stroke-width: 1.0;\"/><text fill=\"#000000\" font-family=\"sans-serif\" font-size=\"13\" lengthAdjust=\"spacingAndGlyphs\" textLength=\"44\" x=\"215\" y=\"247.0669\">[x &gt; 1]</text></a><!--MD5=[ca5a752d6098d8a44b3f88316e7452d1]\n",
       "link E3 to E8--><a href=\"psysml:c4aa7bb1-7be8-4d3d-94c8-0c3feb0dde03\" target=\"_top\" title=\"psysml:c4aa7bb1-7be8-4d3d-94c8-0c3feb0dde03\" xlink:actuate=\"onRequest\" xlink:href=\"psysml:c4aa7bb1-7be8-4d3d-94c8-0c3feb0dde03\" xlink:show=\"new\" xlink:title=\"psysml:c4aa7bb1-7be8-4d3d-94c8-0c3feb0dde03\" xlink:type=\"simple\"><path d=\"M147.57,46.13 C164.26,57.89 207,88 207,88 C207,88 217,131 217,131 C217,131 232.87,144.58 248.14,157.65 \" fill=\"none\" id=\"E3-&gt;E8\" style=\"stroke: #383838; stroke-width: 1.0;\"/><polygon fill=\"#383838\" points=\"252,160.96,247.7506,152.0751,248.1967,157.7143,242.5574,158.1604,252,160.96\" style=\"stroke: #383838; stroke-width: 1.0;\"/></a><!--MD5=[95fa686b5a16158bcdbcaeead89f639b]\n",
       "link E8 to E3--><a href=\"psysml:313c2626-617f-4a85-9d7c-c31cb61d9b9e\" target=\"_top\" title=\"psysml:313c2626-617f-4a85-9d7c-c31cb61d9b9e\" xlink:actuate=\"onRequest\" xlink:href=\"psysml:313c2626-617f-4a85-9d7c-c31cb61d9b9e\" xlink:show=\"new\" xlink:title=\"psysml:313c2626-617f-4a85-9d7c-c31cb61d9b9e\" xlink:type=\"simple\"><path d=\"M262.24,160.75 C243.97,133.2 214,88 214,88 C214,88 172.35,61.47 151.97,48.49 \" fill=\"none\" id=\"E8-&gt;E3\" style=\"stroke: #383838; stroke-width: 1.0;\"/><polygon fill=\"#383838\" points=\"147.74,45.79,153.1801,54.0001,151.9565,48.4772,157.4795,47.2536,147.74,45.79\" style=\"stroke: #383838; stroke-width: 1.0;\"/><text fill=\"#000000\" font-family=\"sans-serif\" font-size=\"13\" lengthAdjust=\"spacingAndGlyphs\" textLength=\"44\" x=\"242\" y=\"114.0669\">[x &gt; 0]</text></a><!--MD5=[af87c684e3b0d8be13c1a698a818ef1e]\n",
       "link E3 to E4--><a href=\"psysml:9e59e0cd-e7d6-48f9-8abd-2b6da2cb7bd3\" target=\"_top\" title=\"psysml:9e59e0cd-e7d6-48f9-8abd-2b6da2cb7bd3\" xlink:actuate=\"onRequest\" xlink:href=\"psysml:9e59e0cd-e7d6-48f9-8abd-2b6da2cb7bd3\" xlink:show=\"new\" xlink:title=\"psysml:9e59e0cd-e7d6-48f9-8abd-2b6da2cb7bd3\" xlink:type=\"simple\"><path d=\"M133.23,45.15 C109.89,56.11 42,88 42,88 C42,88 38.16,139.24 36.17,165.86 \" fill=\"none\" id=\"E3-&gt;E4\" style=\"stroke: #383838; stroke-width: 1.0;\"/><polygon fill=\"#383838\" points=\"35.78,171.14,40.4376,162.462,36.1515,166.1538,32.4597,161.8677,35.78,171.14\" style=\"stroke: #383838; stroke-width: 1.0;\"/></a><!--MD5=[1b7591eae5389033d8d09a9d6721a717]\n",
       "link E4 to E5--><a href=\"psysml:7b0b5bc6-fd2d-464d-92f4-1e71099b6f78\" target=\"_top\" title=\"psysml:7b0b5bc6-fd2d-464d-92f4-1e71099b6f78\" xlink:actuate=\"onRequest\" xlink:href=\"psysml:7b0b5bc6-fd2d-464d-92f4-1e71099b6f78\" xlink:show=\"new\" xlink:title=\"psysml:7b0b5bc6-fd2d-464d-92f4-1e71099b6f78\" xlink:type=\"simple\"><path d=\"M39.7,189.97 C51.96,206.87 84,251 84,251 C84,251 108.44,266.24 130.47,279.97 \" fill=\"none\" id=\"E4-&gt;E5\" style=\"stroke: #383838; stroke-width: 1.0;\"/><polygon fill=\"#383838\" points=\"134.84,282.7,129.3157,274.5464,130.596,280.0564,125.0859,281.3368,134.84,282.7\" style=\"stroke: #383838; stroke-width: 1.0;\"/><text fill=\"#000000\" font-family=\"sans-serif\" font-size=\"13\" lengthAdjust=\"spacingAndGlyphs\" textLength=\"36\" x=\"85\" y=\"247.0669\">[true]</text></a><!--MD5=[79568f1e445c3877b6a54524624ccc7d]\n",
       "link E4 to E6--><a href=\"psysml:2cb1b039-bbb8-4621-9b87-8355478bfab0\" target=\"_top\" title=\"psysml:2cb1b039-bbb8-4621-9b87-8355478bfab0\" xlink:actuate=\"onRequest\" xlink:href=\"psysml:2cb1b039-bbb8-4621-9b87-8355478bfab0\" xlink:show=\"new\" xlink:title=\"psysml:2cb1b039-bbb8-4621-9b87-8355478bfab0\" xlink:type=\"simple\"><path d=\"M37.56,192.29 C46.54,223.05 76,324 76,324 C76,324 116.3,368.15 142.66,397.03 \" fill=\"none\" id=\"E4-&gt;E6\" style=\"stroke: #383838; stroke-width: 1.0;\"/><polygon fill=\"#383838\" points=\"146.13,400.82,143.0249,391.4734,142.7624,397.1242,137.1116,396.8616,146.13,400.82\" style=\"stroke: #383838; stroke-width: 1.0;\"/><text fill=\"#000000\" font-family=\"sans-serif\" font-size=\"13\" lengthAdjust=\"spacingAndGlyphs\" textLength=\"40\" x=\"77\" y=\"307.0669\">[false]</text></a><!--MD5=[9120cf2e5df3bff93db8f754bbbc09b4]\n",
       "link E5 to E6--><a href=\"psysml:b49ece63-4bda-4eac-a48b-66e19b9bdab7\" target=\"_top\" title=\"psysml:b49ece63-4bda-4eac-a48b-66e19b9bdab7\" xlink:actuate=\"onRequest\" xlink:href=\"psysml:b49ece63-4bda-4eac-a48b-66e19b9bdab7\" xlink:show=\"new\" xlink:title=\"psysml:b49ece63-4bda-4eac-a48b-66e19b9bdab7\" xlink:type=\"simple\"><path d=\"M165,324.05 C165,343.9 165,374.02 165,395.52 \" fill=\"none\" id=\"E5-&gt;E6\" style=\"stroke: #383838; stroke-width: 1.0;\"/><polygon fill=\"#383838\" points=\"165,400.79,169,391.79,165,395.79,161,391.79,165,400.79\" style=\"stroke: #383838; stroke-width: 1.0;\"/><text fill=\"#000000\" font-family=\"sans-serif\" font-size=\"13\" lengthAdjust=\"spacingAndGlyphs\" textLength=\"55\" x=\"166\" y=\"367.0669\">[x == 0]</text></a><!--MD5=[28cfe910bb8442f389f1abcc392caef7]\n",
       "@startuml\r\n",
       "skinparam linetype polyline\r\n",
       "skinparam monochrome true\r\n",
       "skinparam classbackgroundcolor white\r\n",
       "skinparam shadowing false\r\n",
       "skinparam wrapWidth 300\r\n",
       "hide circle\r\n",
       "\r\n",
       "rec def \"DecisionTest\" as E1  <<(T,blue)action def>> [[psysml:3be07126-877a-4309-8447-1e285ef81f95 ]] {\r\n",
       "portout \"$result\" as E2  [[psysml:9348992a-eef4-478a-99a3-8679640e907b ]] \r\n",
       "choice \"test x\" as E3  [[psysml:68020b6f-ffe7-4b5f-b810-1edcbdd08af0 ]] \r\n",
       "choice \"noname\" as E4  [[psysml:c53ed86d-7fd9-4daa-81a5-a3aaa8a48fdd ]] \r\n",
       "rec usage \"A1\" as E5  <<(T,blue)action>> [[psysml:0f40ea9b-adac-4a33-8b1a-34d15e55e3d2 ]] {\r\n",
       "}\r\n",
       "\r\n",
       "rec usage \"A2\" as E6  <<(T,blue)action>> [[psysml:128661ee-6ef6-488f-adc9-4acba814b00a ]] {\r\n",
       "}\r\n",
       "\r\n",
       "rec usage \"A3\" as E7  <<(T,blue)action>> [[psysml:7b9f6d16-7e81-4d0a-aec9-34a5599243af ]] {\r\n",
       "}\r\n",
       "\r\n",
       "rec usage \"A3\" as E8  <<(T,blue)action>> [[psysml:7b9f6d16-7e81-4d0a-aec9-34a5599243af ]] {\r\n",
       "}\r\n",
       "\r\n",
       "}\r\n",
       "\r\n",
       "E3  - -> E5 [[psysml:7286f462-e52e-4ebc-bfea-7701f26f76d2 ]] : [x == 1]\r\n",
       "E3  - -> E6 [[psysml:e748a59f-80ec-4a6b-adc3-e898091fbade ]] : [x > 1]\r\n",
       "E3  - -> E8 [[psysml:c4aa7bb1-7be8-4d3d-94c8-0c3feb0dde03 ]] \r\n",
       "E3 - -> E4 [[psysml:9e59e0cd-e7d6-48f9-8abd-2b6da2cb7bd3 ]] \r\n",
       "E4  - -> E5 [[psysml:7b0b5bc6-fd2d-464d-92f4-1e71099b6f78 ]] : [true]\r\n",
       "E4  - -> E6 [[psysml:2cb1b039-bbb8-4621-9b87-8355478bfab0 ]] : [false]\r\n",
       "E5  - -> E6 [[psysml:b49ece63-4bda-4eac-a48b-66e19b9bdab7 ]] : [x == 0]\r\n",
       "E8  - -> E3 [[psysml:313c2626-617f-4a85-9d7c-c31cb61d9b9e ]] : [x > 0]\r\n",
       "@enduml\r\n",
       "\n",
       "PlantUML version 1.2020.13(Sat Jun 13 12:26:38 UTC 2020)\n",
       "(EPL source distribution)\n",
       "Java Runtime: OpenJDK Runtime Environment\n",
       "JVM: OpenJDK 64-Bit Server VM\n",
       "Default Encoding: UTF-8\n",
       "Language: en\n",
       "Country: null\n",
       "--></g></svg>"
      ]
     },
     "execution_count": 9,
     "metadata": {},
     "output_type": "execute_result"
    }
   ],
   "source": [
    "%viz --style=\"POLYLINE\" --view=\"Default\" \"DecisionTest\""
   ]
  },
  {
   "cell_type": "code",
   "execution_count": 10,
   "id": "2d56c27d",
   "metadata": {
    "execution": {
     "iopub.execute_input": "2021-05-27T06:09:51.781933Z",
     "iopub.status.busy": "2021-05-27T06:09:51.780322Z",
     "iopub.status.idle": "2021-05-27T06:09:51.875791Z",
     "shell.execute_reply": "2021-05-27T06:09:51.875322Z"
    }
   },
   "outputs": [
    {
     "data": {
      "image/svg+xml": [
       "<?xml version=\"1.0\" encoding=\"UTF-8\" standalone=\"no\"?><svg xmlns=\"http://www.w3.org/2000/svg\" xmlns:xlink=\"http://www.w3.org/1999/xlink\" contentScriptType=\"application/ecmascript\" contentStyleType=\"text/css\" height=\"207px\" preserveAspectRatio=\"none\" style=\"width:109px;height:207px;\" version=\"1.1\" viewBox=\"0 0 109 207\" width=\"109px\" zoomAndPan=\"magnify\"><defs/><g><!--MD5=[43c9051892ef23e1a46a86907403d788]\n",
       "class E1--><a href=\"psysml:3be07126-877a-4309-8447-1e285ef81f95\" target=\"_top\" title=\"psysml:3be07126-877a-4309-8447-1e285ef81f95\" xlink:actuate=\"onRequest\" xlink:href=\"psysml:3be07126-877a-4309-8447-1e285ef81f95\" xlink:show=\"new\" xlink:title=\"psysml:3be07126-877a-4309-8447-1e285ef81f95\" xlink:type=\"simple\"><rect fill=\"#FFFFFF\" height=\"189.9844\" id=\"E1\" style=\"stroke: #383838; stroke-width: 1.5;\" width=\"91\" x=\"7\" y=\"7\"/><text fill=\"#000000\" font-family=\"sans-serif\" font-size=\"12\" font-style=\"italic\" lengthAdjust=\"spacingAndGlyphs\" textLength=\"77\" x=\"14\" y=\"23.1387\">«action def»</text><text fill=\"#000000\" font-family=\"sans-serif\" font-size=\"12\" lengthAdjust=\"spacingAndGlyphs\" textLength=\"80\" x=\"12.5\" y=\"37.1074\">DecisionTest</text><line style=\"stroke: #383838; stroke-width: 1.5;\" x1=\"8\" x2=\"97\" y1=\"44.9375\" y2=\"44.9375\"/><text fill=\"#000000\" font-family=\"sans-serif\" font-size=\"11\" lengthAdjust=\"spacingAndGlyphs\" textLength=\"26\" x=\"13\" y=\"75.9526\">x=1;</text><line style=\"stroke: #383838; stroke-width: 1.0;\" x1=\"8\" x2=\"25\" y1=\"59.3398\" y2=\"59.3398\"/><text fill=\"#000000\" font-family=\"sans-serif\" font-size=\"11\" lengthAdjust=\"spacingAndGlyphs\" textLength=\"55\" x=\"25\" y=\"62.6479\">attributes</text><line style=\"stroke: #383838; stroke-width: 1.0;\" x1=\"80\" x2=\"97\" y1=\"59.3398\" y2=\"59.3398\"/><text fill=\"#000000\" font-family=\"sans-serif\" font-size=\"11\" lengthAdjust=\"spacingAndGlyphs\" textLength=\"14\" x=\"13\" y=\"105.562\">A1</text><text fill=\"#000000\" font-family=\"sans-serif\" font-size=\"11\" lengthAdjust=\"spacingAndGlyphs\" textLength=\"14\" x=\"13\" y=\"118.3667\">A2</text><text fill=\"#000000\" font-family=\"sans-serif\" font-size=\"11\" lengthAdjust=\"spacingAndGlyphs\" textLength=\"14\" x=\"13\" y=\"131.1714\">A3</text><line style=\"stroke: #383838; stroke-width: 1.0;\" x1=\"8\" x2=\"32\" y1=\"88.9492\" y2=\"88.9492\"/><text fill=\"#000000\" font-family=\"sans-serif\" font-size=\"11\" lengthAdjust=\"spacingAndGlyphs\" textLength=\"41\" x=\"32\" y=\"92.2573\">actions</text><line style=\"stroke: #383838; stroke-width: 1.0;\" x1=\"73\" x2=\"97\" y1=\"88.9492\" y2=\"88.9492\"/><text fill=\"#000000\" font-family=\"sans-serif\" font-size=\"11\" lengthAdjust=\"spacingAndGlyphs\" textLength=\"32\" x=\"13\" y=\"160.7808\">test x</text><line style=\"stroke: #383838; stroke-width: 1.0;\" x1=\"8\" x2=\"11\" y1=\"144.168\" y2=\"144.168\"/><text fill=\"#000000\" font-family=\"sans-serif\" font-size=\"11\" lengthAdjust=\"spacingAndGlyphs\" textLength=\"83\" x=\"11\" y=\"147.4761\">decisionNodes</text><line style=\"stroke: #383838; stroke-width: 1.0;\" x1=\"94\" x2=\"97\" y1=\"144.168\" y2=\"144.168\"/><text fill=\"#000000\" font-family=\"sans-serif\" font-size=\"11\" lengthAdjust=\"spacingAndGlyphs\" textLength=\"8\" x=\"13\" y=\"190.3901\">S</text><line style=\"stroke: #383838; stroke-width: 1.0;\" x1=\"8\" x2=\"22\" y1=\"173.7773\" y2=\"173.7773\"/><text fill=\"#000000\" font-family=\"sans-serif\" font-size=\"11\" lengthAdjust=\"spacingAndGlyphs\" textLength=\"61\" x=\"22\" y=\"177.0854\">transitions</text><line style=\"stroke: #383838; stroke-width: 1.0;\" x1=\"83\" x2=\"97\" y1=\"173.7773\" y2=\"173.7773\"/></a><!--MD5=[64629bcd9266942184bbe92c9fd6544c]\n",
       "@startuml\r\n",
       "skinparam linetype polyline\r\n",
       "skinparam monochrome true\r\n",
       "skinparam classbackgroundcolor white\r\n",
       "skinparam shadowing false\r\n",
       "skinparam wrapWidth 300\r\n",
       "hide circle\r\n",
       "\r\n",
       "comp def \"DecisionTest\" as E1  <<(T,blue)action def>> [[psysml:3be07126-877a-4309-8447-1e285ef81f95 ]] {\r\n",
       "- - attributes - -\r\n",
       "x=1; \r\n",
       "- - actions - -\r\n",
       "A1\r\n",
       "A2\r\n",
       "A3\r\n",
       "- - decisionNodes - -\r\n",
       "test x\r\n",
       "- - transitions - -\r\n",
       "S\r\n",
       "}\r\n",
       "@enduml\r\n",
       "\n",
       "PlantUML version 1.2020.13(Sat Jun 13 12:26:38 UTC 2020)\n",
       "(EPL source distribution)\n",
       "Java Runtime: OpenJDK Runtime Environment\n",
       "JVM: OpenJDK 64-Bit Server VM\n",
       "Default Encoding: UTF-8\n",
       "Language: en\n",
       "Country: null\n",
       "--></g></svg>"
      ]
     },
     "execution_count": 10,
     "metadata": {},
     "output_type": "execute_result"
    }
   ],
   "source": [
    "%viz --style=\"POLYLINE\" --view=\"Tree\" \"DecisionTest\""
   ]
  },
  {
   "cell_type": "code",
   "execution_count": 11,
   "id": "ac1b1280",
   "metadata": {
    "execution": {
     "iopub.execute_input": "2021-05-27T06:09:51.926918Z",
     "iopub.status.busy": "2021-05-27T06:09:51.926311Z",
     "iopub.status.idle": "2021-05-27T06:09:51.933646Z",
     "shell.execute_reply": "2021-05-27T06:09:51.932942Z"
    }
   },
   "outputs": [
    {
     "data": {
      "image/svg+xml": [
       "<?xml version=\"1.0\" encoding=\"UTF-8\" standalone=\"no\"?><svg xmlns=\"http://www.w3.org/2000/svg\" xmlns:xlink=\"http://www.w3.org/1999/xlink\" contentScriptType=\"application/ecmascript\" contentStyleType=\"text/css\" height=\"12px\" preserveAspectRatio=\"none\" style=\"width:12px;height:12px;\" version=\"1.1\" viewBox=\"0 0 12 12\" width=\"12px\" zoomAndPan=\"magnify\"><defs/><g><!--MD5=[896ac0e7a515d8dd7765a661cb4ee08b]\n",
       "@startuml\r\n",
       "skinparam linetype polyline\r\n",
       "skinparam monochrome true\r\n",
       "skinparam classbackgroundcolor white\r\n",
       "skinparam shadowing false\r\n",
       "skinparam wrapWidth 300\r\n",
       "hide circle\r\n",
       "\r\n",
       "@enduml\r\n",
       "\n",
       "PlantUML version 1.2020.13(Sat Jun 13 12:26:38 UTC 2020)\n",
       "(EPL source distribution)\n",
       "Java Runtime: OpenJDK Runtime Environment\n",
       "JVM: OpenJDK 64-Bit Server VM\n",
       "Default Encoding: UTF-8\n",
       "Language: en\n",
       "Country: null\n",
       "--></g></svg>"
      ]
     },
     "execution_count": 11,
     "metadata": {},
     "output_type": "execute_result"
    }
   ],
   "source": [
    "%viz --style=\"POLYLINE\" --view=\"State\" \"DecisionTest\""
   ]
  },
  {
   "cell_type": "code",
   "execution_count": 12,
   "id": "e8453553",
   "metadata": {
    "execution": {
     "iopub.execute_input": "2021-05-27T06:09:51.985272Z",
     "iopub.status.busy": "2021-05-27T06:09:51.984926Z",
     "iopub.status.idle": "2021-05-27T06:09:52.026377Z",
     "shell.execute_reply": "2021-05-27T06:09:52.024807Z"
    }
   },
   "outputs": [
    {
     "data": {
      "image/svg+xml": [
       "<?xml version=\"1.0\" encoding=\"UTF-8\" standalone=\"no\"?><svg xmlns=\"http://www.w3.org/2000/svg\" xmlns:xlink=\"http://www.w3.org/1999/xlink\" contentScriptType=\"application/ecmascript\" contentStyleType=\"text/css\" height=\"384px\" preserveAspectRatio=\"none\" style=\"width:333px;height:384px;\" version=\"1.1\" viewBox=\"0 0 333 384\" width=\"333px\" zoomAndPan=\"magnify\"><defs/><g><!--MD5=[fbc87193dbaf4d95561dea2c320d4a47]\n",
       "cluster E1--><a href=\"psysml:3be07126-877a-4309-8447-1e285ef81f95\" target=\"_top\" title=\"psysml:3be07126-877a-4309-8447-1e285ef81f95\" xlink:actuate=\"onRequest\" xlink:href=\"psysml:3be07126-877a-4309-8447-1e285ef81f95\" xlink:show=\"new\" xlink:title=\"psysml:3be07126-877a-4309-8447-1e285ef81f95\" xlink:type=\"simple\"><rect fill=\"#FFFFFF\" height=\"344.72\" id=\"E1\" style=\"stroke: #383838; stroke-width: 1.5;\" width=\"315\" x=\"7\" y=\"7\"/><rect fill=\"#F8F8F8\" height=\"37.9375\" style=\"stroke: #383838; stroke-width: 1.5;\" width=\"315\" x=\"7\" y=\"7\"/><text fill=\"#000000\" font-family=\"sans-serif\" font-size=\"12\" font-style=\"italic\" lengthAdjust=\"spacingAndGlyphs\" textLength=\"77\" x=\"126\" y=\"23.1387\">«action def»</text><text fill=\"#000000\" font-family=\"sans-serif\" font-size=\"12\" lengthAdjust=\"spacingAndGlyphs\" textLength=\"80\" x=\"124.5\" y=\"37.1074\">DecisionTest</text></a><text fill=\"#000000\" font-family=\"sans-serif\" font-size=\"14\" lengthAdjust=\"spacingAndGlyphs\" textLength=\"48\" x=\"140\" y=\"370.7151\">$result</text><rect fill=\"#383838\" height=\"12\" style=\"stroke: #F8F8F8; stroke-width: 1.5;\" width=\"12\" x=\"158\" y=\"345.72\"/><polygon fill=\"#F8F8F8\" points=\"141,28.5,153,40.5,141,52.5,129,40.5,141,28.5\" style=\"stroke: #383838; stroke-width: 1.5;\"/><polygon fill=\"#F8F8F8\" points=\"35,126.5,47,138.5,35,150.5,23,138.5,35,126.5\" style=\"stroke: #383838; stroke-width: 1.5;\"/><g id=\"E1.E5\"><a href=\"psysml:0f40ea9b-adac-4a33-8b1a-34d15e55e3d2\" target=\"_top\" title=\"psysml:0f40ea9b-adac-4a33-8b1a-34d15e55e3d2\" xlink:actuate=\"onRequest\" xlink:href=\"psysml:0f40ea9b-adac-4a33-8b1a-34d15e55e3d2\" xlink:show=\"new\" xlink:title=\"psysml:0f40ea9b-adac-4a33-8b1a-34d15e55e3d2\" xlink:type=\"simple\"><rect fill=\"#FFFFFF\" height=\"42.9375\" id=\"E5\" rx=\"10\" ry=\"10\" style=\"stroke: #383838; stroke-width: 1.5;\" width=\"60\" x=\"135\" y=\"193\"/><rect fill=\"#F8F8F8\" height=\"37.9375\" rx=\"10\" ry=\"10\" style=\"stroke: #F8F8F8; stroke-width: 1.5;\" width=\"60\" x=\"135\" y=\"193\"/><rect fill=\"#F8F8F8\" height=\"10\" style=\"stroke: #F8F8F8; stroke-width: 1.5;\" width=\"60\" x=\"135\" y=\"220.9375\"/><rect fill=\"none\" height=\"42.9375\" id=\"E5\" rx=\"10\" ry=\"10\" style=\"stroke: #383838; stroke-width: 1.5;\" width=\"60\" x=\"135\" y=\"193\"/><text fill=\"#000000\" font-family=\"sans-serif\" font-size=\"12\" font-style=\"italic\" lengthAdjust=\"spacingAndGlyphs\" textLength=\"53\" x=\"138.5\" y=\"209.1387\">«action»</text><text fill=\"#000000\" font-family=\"sans-serif\" font-size=\"12\" lengthAdjust=\"spacingAndGlyphs\" textLength=\"16\" x=\"157\" y=\"223.1074\">A1</text></a></g><g id=\"E1.E6\"><a href=\"psysml:128661ee-6ef6-488f-adc9-4acba814b00a\" target=\"_top\" title=\"psysml:128661ee-6ef6-488f-adc9-4acba814b00a\" xlink:actuate=\"onRequest\" xlink:href=\"psysml:128661ee-6ef6-488f-adc9-4acba814b00a\" xlink:show=\"new\" xlink:title=\"psysml:128661ee-6ef6-488f-adc9-4acba814b00a\" xlink:type=\"simple\"><rect fill=\"#FFFFFF\" height=\"42.9375\" id=\"E6\" rx=\"10\" ry=\"10\" style=\"stroke: #383838; stroke-width: 1.5;\" width=\"60\" x=\"135\" y=\"269\"/><rect fill=\"#F8F8F8\" height=\"37.9375\" rx=\"10\" ry=\"10\" style=\"stroke: #F8F8F8; stroke-width: 1.5;\" width=\"60\" x=\"135\" y=\"269\"/><rect fill=\"#F8F8F8\" height=\"10\" style=\"stroke: #F8F8F8; stroke-width: 1.5;\" width=\"60\" x=\"135\" y=\"296.9375\"/><rect fill=\"none\" height=\"42.9375\" id=\"E6\" rx=\"10\" ry=\"10\" style=\"stroke: #383838; stroke-width: 1.5;\" width=\"60\" x=\"135\" y=\"269\"/><text fill=\"#000000\" font-family=\"sans-serif\" font-size=\"12\" font-style=\"italic\" lengthAdjust=\"spacingAndGlyphs\" textLength=\"53\" x=\"138.5\" y=\"285.1387\">«action»</text><text fill=\"#000000\" font-family=\"sans-serif\" font-size=\"12\" lengthAdjust=\"spacingAndGlyphs\" textLength=\"16\" x=\"157\" y=\"299.1074\">A2</text></a></g><g id=\"E1.E7\"><a href=\"psysml:7b9f6d16-7e81-4d0a-aec9-34a5599243af\" target=\"_top\" title=\"psysml:7b9f6d16-7e81-4d0a-aec9-34a5599243af\" xlink:actuate=\"onRequest\" xlink:href=\"psysml:7b9f6d16-7e81-4d0a-aec9-34a5599243af\" xlink:show=\"new\" xlink:title=\"psysml:7b9f6d16-7e81-4d0a-aec9-34a5599243af\" xlink:type=\"simple\"><rect fill=\"#FFFFFF\" height=\"42.9375\" id=\"E7\" rx=\"10\" ry=\"10\" style=\"stroke: #383838; stroke-width: 1.5;\" width=\"60\" x=\"46\" y=\"66\"/><rect fill=\"#F8F8F8\" height=\"37.9375\" rx=\"10\" ry=\"10\" style=\"stroke: #F8F8F8; stroke-width: 1.5;\" width=\"60\" x=\"46\" y=\"66\"/><rect fill=\"#F8F8F8\" height=\"10\" style=\"stroke: #F8F8F8; stroke-width: 1.5;\" width=\"60\" x=\"46\" y=\"93.9375\"/><rect fill=\"none\" height=\"42.9375\" id=\"E7\" rx=\"10\" ry=\"10\" style=\"stroke: #383838; stroke-width: 1.5;\" width=\"60\" x=\"46\" y=\"66\"/><text fill=\"#000000\" font-family=\"sans-serif\" font-size=\"12\" font-style=\"italic\" lengthAdjust=\"spacingAndGlyphs\" textLength=\"53\" x=\"49.5\" y=\"82.1387\">«action»</text><text fill=\"#000000\" font-family=\"sans-serif\" font-size=\"12\" lengthAdjust=\"spacingAndGlyphs\" textLength=\"16\" x=\"68\" y=\"96.1074\">A3</text></a></g><g id=\"E1.E8\"><a href=\"psysml:7b9f6d16-7e81-4d0a-aec9-34a5599243af\" target=\"_top\" title=\"psysml:7b9f6d16-7e81-4d0a-aec9-34a5599243af\" xlink:actuate=\"onRequest\" xlink:href=\"psysml:7b9f6d16-7e81-4d0a-aec9-34a5599243af\" xlink:show=\"new\" xlink:title=\"psysml:7b9f6d16-7e81-4d0a-aec9-34a5599243af\" xlink:type=\"simple\"><rect fill=\"#FFFFFF\" height=\"42.9375\" id=\"E8\" rx=\"10\" ry=\"10\" style=\"stroke: #383838; stroke-width: 1.5;\" width=\"60\" x=\"246\" y=\"117\"/><rect fill=\"#F8F8F8\" height=\"37.9375\" rx=\"10\" ry=\"10\" style=\"stroke: #F8F8F8; stroke-width: 1.5;\" width=\"60\" x=\"246\" y=\"117\"/><rect fill=\"#F8F8F8\" height=\"10\" style=\"stroke: #F8F8F8; stroke-width: 1.5;\" width=\"60\" x=\"246\" y=\"144.9375\"/><rect fill=\"none\" height=\"42.9375\" id=\"E8\" rx=\"10\" ry=\"10\" style=\"stroke: #383838; stroke-width: 1.5;\" width=\"60\" x=\"246\" y=\"117\"/><text fill=\"#000000\" font-family=\"sans-serif\" font-size=\"12\" font-style=\"italic\" lengthAdjust=\"spacingAndGlyphs\" textLength=\"53\" x=\"249.5\" y=\"133.1387\">«action»</text><text fill=\"#000000\" font-family=\"sans-serif\" font-size=\"12\" lengthAdjust=\"spacingAndGlyphs\" textLength=\"16\" x=\"268\" y=\"147.1074\">A3</text></a></g><!--MD5=[0188b64bb0ae78505a997a81836e11e9]\n",
       "link E3 to E5--><a href=\"psysml:7286f462-e52e-4ebc-bfea-7701f26f76d2\" target=\"_top\" title=\"psysml:7286f462-e52e-4ebc-bfea-7701f26f76d2\" xlink:actuate=\"onRequest\" xlink:href=\"psysml:7286f462-e52e-4ebc-bfea-7701f26f76d2\" xlink:show=\"new\" xlink:title=\"psysml:7286f462-e52e-4ebc-bfea-7701f26f76d2\" xlink:type=\"simple\"><path d=\"M141.28,52.44 C142.02,81.77 144,160 144,160 C144,160 149.67,174.43 155.11,188.31 \" fill=\"none\" id=\"E3-&gt;E5\" style=\"stroke: #383838; stroke-width: 1.0;\"/><polygon fill=\"#383838\" points=\"156.94,192.97,157.374,183.1307,155.1126,188.3159,149.9274,186.0545,156.94,192.97\" style=\"stroke: #383838; stroke-width: 1.0;\"/><text fill=\"#000000\" font-family=\"sans-serif\" font-size=\"13\" lengthAdjust=\"spacingAndGlyphs\" textLength=\"55\" x=\"145\" y=\"143.0669\">[x == 1]</text></a><!--MD5=[ec9844e0c75763426927cad3229d1081]\n",
       "link E3 to E6--><a href=\"psysml:e748a59f-80ec-4a6b-adc3-e898091fbade\" target=\"_top\" title=\"psysml:e748a59f-80ec-4a6b-adc3-e898091fbade\" xlink:actuate=\"onRequest\" xlink:href=\"psysml:e748a59f-80ec-4a6b-adc3-e898091fbade\" xlink:show=\"new\" xlink:title=\"psysml:e748a59f-80ec-4a6b-adc3-e898091fbade\" xlink:type=\"simple\"><path d=\"M146.24,47.68 C161.52,65.71 205,117 205,117 C205,117 226,244 226,244 C226,244 226,261 226,261 C226,261 213.5,266.84 199.81,273.24 \" fill=\"none\" id=\"E3-&gt;E6\" style=\"stroke: #383838; stroke-width: 1.0;\"/><polygon fill=\"#383838\" points=\"195.14,275.42,204.9874,275.2489,199.6731,273.3103,201.6118,267.996,195.14,275.42\" style=\"stroke: #383838; stroke-width: 1.0;\"/><text fill=\"#000000\" font-family=\"sans-serif\" font-size=\"13\" lengthAdjust=\"spacingAndGlyphs\" textLength=\"44\" x=\"217\" y=\"181.0669\">[x &gt; 1]</text></a><!--MD5=[ca5a752d6098d8a44b3f88316e7452d1]\n",
       "link E3 to E8--><a href=\"psysml:c4aa7bb1-7be8-4d3d-94c8-0c3feb0dde03\" target=\"_top\" title=\"psysml:c4aa7bb1-7be8-4d3d-94c8-0c3feb0dde03\" xlink:actuate=\"onRequest\" xlink:href=\"psysml:c4aa7bb1-7be8-4d3d-94c8-0c3feb0dde03\" xlink:show=\"new\" xlink:title=\"psysml:c4aa7bb1-7be8-4d3d-94c8-0c3feb0dde03\" xlink:type=\"simple\"><path d=\"M148.26,45.49 C157.14,50.38 171,58 171,58 C171,58 207,66 207,66 C207,66 217,109 217,109 C217,109 228.34,114.48 241.07,120.63 \" fill=\"none\" id=\"E3-&gt;E8\" style=\"stroke: #383838; stroke-width: 1.0;\"/><polygon fill=\"#383838\" points=\"245.81,122.92,239.4427,115.4062,241.3069,120.7471,235.966,122.6112,245.81,122.92\" style=\"stroke: #383838; stroke-width: 1.0;\"/></a><!--MD5=[95fa686b5a16158bcdbcaeead89f639b]\n",
       "link E8 to E3--><a href=\"psysml:313c2626-617f-4a85-9d7c-c31cb61d9b9e\" target=\"_top\" title=\"psysml:313c2626-617f-4a85-9d7c-c31cb61d9b9e\" xlink:actuate=\"onRequest\" xlink:href=\"psysml:313c2626-617f-4a85-9d7c-c31cb61d9b9e\" xlink:show=\"new\" xlink:title=\"psysml:313c2626-617f-4a85-9d7c-c31cb61d9b9e\" xlink:type=\"simple\"><path d=\"M254.2,116.79 C249.54,112.37 246,109 246,109 C246,109 214,66 214,66 C214,66 171,58 171,58 C171,58 161.13,52.57 152.72,47.94 \" fill=\"none\" id=\"E8-&gt;E3\" style=\"stroke: #383838; stroke-width: 1.0;\"/><polygon fill=\"#383838\" points=\"148.26,45.49,154.2153,53.3344,152.6402,47.9012,158.0733,46.3261,148.26,45.49\" style=\"stroke: #383838; stroke-width: 1.0;\"/><text fill=\"#000000\" font-family=\"sans-serif\" font-size=\"13\" lengthAdjust=\"spacingAndGlyphs\" textLength=\"44\" x=\"247\" y=\"92.0669\">[x &gt; 0]</text></a><!--MD5=[af87c684e3b0d8be13c1a698a818ef1e]\n",
       "link E3 to E4--><a href=\"psysml:9e59e0cd-e7d6-48f9-8abd-2b6da2cb7bd3\" target=\"_top\" title=\"psysml:9e59e0cd-e7d6-48f9-8abd-2b6da2cb7bd3\" xlink:actuate=\"onRequest\" xlink:href=\"psysml:9e59e0cd-e7d6-48f9-8abd-2b6da2cb7bd3\" xlink:show=\"new\" xlink:title=\"psysml:9e59e0cd-e7d6-48f9-8abd-2b6da2cb7bd3\" xlink:type=\"simple\"><path d=\"M131.86,43.76 C107.36,49.83 42,66 42,66 C42,66 38.55,101.26 36.49,122.25 \" fill=\"none\" id=\"E3-&gt;E4\" style=\"stroke: #383838; stroke-width: 1.0;\"/><polygon fill=\"#383838\" points=\"36,127.26,40.8562,118.6916,36.4862,122.2837,32.8941,117.9137,36,127.26\" style=\"stroke: #383838; stroke-width: 1.0;\"/></a><!--MD5=[1b7591eae5389033d8d09a9d6721a717]\n",
       "link E4 to E5--><a href=\"psysml:7b0b5bc6-fd2d-464d-92f4-1e71099b6f78\" target=\"_top\" title=\"psysml:7b0b5bc6-fd2d-464d-92f4-1e71099b6f78\" xlink:actuate=\"onRequest\" xlink:href=\"psysml:7b0b5bc6-fd2d-464d-92f4-1e71099b6f78\" xlink:show=\"new\" xlink:title=\"psysml:7b0b5bc6-fd2d-464d-92f4-1e71099b6f78\" xlink:type=\"simple\"><path d=\"M41.01,145.08 C54.09,157.23 84,185 84,185 C84,185 108,193 108,193 C108,193 118.26,196.69 130.07,200.94 \" fill=\"none\" id=\"E4-&gt;E5\" style=\"stroke: #383838; stroke-width: 1.0;\"/><polygon fill=\"#383838\" points=\"134.83,202.65,127.7272,195.8273,130.1281,200.9493,125.0061,203.3503,134.83,202.65\" style=\"stroke: #383838; stroke-width: 1.0;\"/><text fill=\"#000000\" font-family=\"sans-serif\" font-size=\"13\" lengthAdjust=\"spacingAndGlyphs\" textLength=\"36\" x=\"85\" y=\"181.0669\">[true]</text></a><!--MD5=[79568f1e445c3877b6a54524624ccc7d]\n",
       "link E4 to E6--><a href=\"psysml:2cb1b039-bbb8-4621-9b87-8355478bfab0\" target=\"_top\" title=\"psysml:2cb1b039-bbb8-4621-9b87-8355478bfab0\" xlink:actuate=\"onRequest\" xlink:href=\"psysml:2cb1b039-bbb8-4621-9b87-8355478bfab0\" xlink:show=\"new\" xlink:title=\"psysml:2cb1b039-bbb8-4621-9b87-8355478bfab0\" xlink:type=\"simple\"><path d=\"M38.36,147.4 C48.15,170.44 76,236 76,236 C76,236 105.53,253.75 130.57,268.81 \" fill=\"none\" id=\"E4-&gt;E6\" style=\"stroke: #383838; stroke-width: 1.0;\"/><polygon fill=\"#383838\" points=\"134.87,271.39,129.2105,263.3296,130.5825,268.8175,125.0946,270.1895,134.87,271.39\" style=\"stroke: #383838; stroke-width: 1.0;\"/><text fill=\"#000000\" font-family=\"sans-serif\" font-size=\"13\" lengthAdjust=\"spacingAndGlyphs\" textLength=\"40\" x=\"77\" y=\"219.0669\">[false]</text></a><!--MD5=[9120cf2e5df3bff93db8f754bbbc09b4]\n",
       "link E5 to E6--><a href=\"psysml:b49ece63-4bda-4eac-a48b-66e19b9bdab7\" target=\"_top\" title=\"psysml:b49ece63-4bda-4eac-a48b-66e19b9bdab7\" xlink:actuate=\"onRequest\" xlink:href=\"psysml:b49ece63-4bda-4eac-a48b-66e19b9bdab7\" xlink:show=\"new\" xlink:title=\"psysml:b49ece63-4bda-4eac-a48b-66e19b9bdab7\" xlink:type=\"simple\"><path d=\"M165,236.11 C165,244.69 165,254.75 165,263.8 \" fill=\"none\" id=\"E5-&gt;E6\" style=\"stroke: #383838; stroke-width: 1.0;\"/><polygon fill=\"#383838\" points=\"165,269,169,260,165,264,161,260,165,269\" style=\"stroke: #383838; stroke-width: 1.0;\"/><text fill=\"#000000\" font-family=\"sans-serif\" font-size=\"13\" lengthAdjust=\"spacingAndGlyphs\" textLength=\"55\" x=\"166\" y=\"257.0669\">[x == 0]</text></a><!--MD5=[cf3d89d6209d175c8770ff7bfa6c9f24]\n",
       "@startuml\r\n",
       "skinparam ranksep 10\r\n",
       "skinparam rectangle {\r\n",
       " backgroundColor<<block>> LightGreen\r\n",
       "}\r\n",
       "skinparam linetype polyline\r\n",
       "skinparam monochrome true\r\n",
       "skinparam classbackgroundcolor white\r\n",
       "skinparam shadowing false\r\n",
       "skinparam wrapWidth 300\r\n",
       "hide circle\r\n",
       "\r\n",
       "rec def \"DecisionTest\" as E1  <<(T,blue)action def>> [[psysml:3be07126-877a-4309-8447-1e285ef81f95 ]] {\r\n",
       "portout \"$result\" as E2  [[psysml:9348992a-eef4-478a-99a3-8679640e907b ]] \r\n",
       "choice \"test x\" as E3  [[psysml:68020b6f-ffe7-4b5f-b810-1edcbdd08af0 ]] \r\n",
       "choice \"noname\" as E4  [[psysml:c53ed86d-7fd9-4daa-81a5-a3aaa8a48fdd ]] \r\n",
       "rec usage \"A1\" as E5  <<(T,blue)action>> [[psysml:0f40ea9b-adac-4a33-8b1a-34d15e55e3d2 ]] {\r\n",
       "}\r\n",
       "\r\n",
       "rec usage \"A2\" as E6  <<(T,blue)action>> [[psysml:128661ee-6ef6-488f-adc9-4acba814b00a ]] {\r\n",
       "}\r\n",
       "\r\n",
       "rec usage \"A3\" as E7  <<(T,blue)action>> [[psysml:7b9f6d16-7e81-4d0a-aec9-34a5599243af ]] {\r\n",
       "}\r\n",
       "\r\n",
       "rec usage \"A3\" as E8  <<(T,blue)action>> [[psysml:7b9f6d16-7e81-4d0a-aec9-34a5599243af ]] {\r\n",
       "}\r\n",
       "\r\n",
       "}\r\n",
       "\r\n",
       "E3  - -> E5 [[psysml:7286f462-e52e-4ebc-bfea-7701f26f76d2 ]] : [x == 1]\r\n",
       "E3  - -> E6 [[psysml:e748a59f-80ec-4a6b-adc3-e898091fbade ]] : [x > 1]\r\n",
       "E3  - -> E8 [[psysml:c4aa7bb1-7be8-4d3d-94c8-0c3feb0dde03 ]] \r\n",
       "E3 - -> E4 [[psysml:9e59e0cd-e7d6-48f9-8abd-2b6da2cb7bd3 ]] \r\n",
       "E4  - -> E5 [[psysml:7b0b5bc6-fd2d-464d-92f4-1e71099b6f78 ]] : [true]\r\n",
       "E4  - -> E6 [[psysml:2cb1b039-bbb8-4621-9b87-8355478bfab0 ]] : [false]\r\n",
       "E5  - -> E6 [[psysml:b49ece63-4bda-4eac-a48b-66e19b9bdab7 ]] : [x == 0]\r\n",
       "E8  - -> E3 [[psysml:313c2626-617f-4a85-9d7c-c31cb61d9b9e ]] : [x > 0]\r\n",
       "@enduml\r\n",
       "\n",
       "PlantUML version 1.2020.13(Sat Jun 13 12:26:38 UTC 2020)\n",
       "(EPL source distribution)\n",
       "Java Runtime: OpenJDK Runtime Environment\n",
       "JVM: OpenJDK 64-Bit Server VM\n",
       "Default Encoding: UTF-8\n",
       "Language: en\n",
       "Country: null\n",
       "--></g></svg>"
      ]
     },
     "execution_count": 12,
     "metadata": {},
     "output_type": "execute_result"
    }
   ],
   "source": [
    "%viz --style=\"POLYLINE\" --view=\"Interconnection\" \"DecisionTest\""
   ]
  },
  {
   "cell_type": "code",
   "execution_count": 13,
   "id": "4836bf08",
   "metadata": {
    "execution": {
     "iopub.execute_input": "2021-05-27T06:09:52.078794Z",
     "iopub.status.busy": "2021-05-27T06:09:52.078161Z",
     "iopub.status.idle": "2021-05-27T06:09:52.122987Z",
     "shell.execute_reply": "2021-05-27T06:09:52.121569Z"
    }
   },
   "outputs": [
    {
     "data": {
      "image/svg+xml": [
       "<?xml version=\"1.0\" encoding=\"UTF-8\" standalone=\"no\"?><svg xmlns=\"http://www.w3.org/2000/svg\" xmlns:xlink=\"http://www.w3.org/1999/xlink\" contentScriptType=\"application/ecmascript\" contentStyleType=\"text/css\" height=\"384px\" preserveAspectRatio=\"none\" style=\"width:333px;height:384px;\" version=\"1.1\" viewBox=\"0 0 333 384\" width=\"333px\" zoomAndPan=\"magnify\"><defs/><g><!--MD5=[fbc87193dbaf4d95561dea2c320d4a47]\n",
       "cluster E1--><a href=\"psysml:3be07126-877a-4309-8447-1e285ef81f95\" target=\"_top\" title=\"psysml:3be07126-877a-4309-8447-1e285ef81f95\" xlink:actuate=\"onRequest\" xlink:href=\"psysml:3be07126-877a-4309-8447-1e285ef81f95\" xlink:show=\"new\" xlink:title=\"psysml:3be07126-877a-4309-8447-1e285ef81f95\" xlink:type=\"simple\"><rect fill=\"#FFFFFF\" height=\"344.72\" id=\"E1\" style=\"stroke: #383838; stroke-width: 1.5;\" width=\"315\" x=\"7\" y=\"7\"/><rect fill=\"#F8F8F8\" height=\"37.9375\" style=\"stroke: #383838; stroke-width: 1.5;\" width=\"315\" x=\"7\" y=\"7\"/><text fill=\"#000000\" font-family=\"sans-serif\" font-size=\"12\" font-style=\"italic\" lengthAdjust=\"spacingAndGlyphs\" textLength=\"77\" x=\"126\" y=\"23.1387\">«action def»</text><text fill=\"#000000\" font-family=\"sans-serif\" font-size=\"12\" lengthAdjust=\"spacingAndGlyphs\" textLength=\"80\" x=\"124.5\" y=\"37.1074\">DecisionTest</text></a><text fill=\"#000000\" font-family=\"sans-serif\" font-size=\"14\" lengthAdjust=\"spacingAndGlyphs\" textLength=\"48\" x=\"140\" y=\"370.7151\">$result</text><rect fill=\"#383838\" height=\"12\" style=\"stroke: #F8F8F8; stroke-width: 1.5;\" width=\"12\" x=\"158\" y=\"345.72\"/><polygon fill=\"#F8F8F8\" points=\"141,28.5,153,40.5,141,52.5,129,40.5,141,28.5\" style=\"stroke: #383838; stroke-width: 1.5;\"/><polygon fill=\"#F8F8F8\" points=\"35,126.5,47,138.5,35,150.5,23,138.5,35,126.5\" style=\"stroke: #383838; stroke-width: 1.5;\"/><g id=\"E1.E5\"><a href=\"psysml:0f40ea9b-adac-4a33-8b1a-34d15e55e3d2\" target=\"_top\" title=\"psysml:0f40ea9b-adac-4a33-8b1a-34d15e55e3d2\" xlink:actuate=\"onRequest\" xlink:href=\"psysml:0f40ea9b-adac-4a33-8b1a-34d15e55e3d2\" xlink:show=\"new\" xlink:title=\"psysml:0f40ea9b-adac-4a33-8b1a-34d15e55e3d2\" xlink:type=\"simple\"><rect fill=\"#FFFFFF\" height=\"42.9375\" id=\"E5\" rx=\"10\" ry=\"10\" style=\"stroke: #383838; stroke-width: 1.5;\" width=\"60\" x=\"135\" y=\"193\"/><rect fill=\"#F8F8F8\" height=\"37.9375\" rx=\"10\" ry=\"10\" style=\"stroke: #F8F8F8; stroke-width: 1.5;\" width=\"60\" x=\"135\" y=\"193\"/><rect fill=\"#F8F8F8\" height=\"10\" style=\"stroke: #F8F8F8; stroke-width: 1.5;\" width=\"60\" x=\"135\" y=\"220.9375\"/><rect fill=\"none\" height=\"42.9375\" id=\"E5\" rx=\"10\" ry=\"10\" style=\"stroke: #383838; stroke-width: 1.5;\" width=\"60\" x=\"135\" y=\"193\"/><text fill=\"#000000\" font-family=\"sans-serif\" font-size=\"12\" font-style=\"italic\" lengthAdjust=\"spacingAndGlyphs\" textLength=\"53\" x=\"138.5\" y=\"209.1387\">«action»</text><text fill=\"#000000\" font-family=\"sans-serif\" font-size=\"12\" lengthAdjust=\"spacingAndGlyphs\" textLength=\"16\" x=\"157\" y=\"223.1074\">A1</text></a></g><g id=\"E1.E6\"><a href=\"psysml:128661ee-6ef6-488f-adc9-4acba814b00a\" target=\"_top\" title=\"psysml:128661ee-6ef6-488f-adc9-4acba814b00a\" xlink:actuate=\"onRequest\" xlink:href=\"psysml:128661ee-6ef6-488f-adc9-4acba814b00a\" xlink:show=\"new\" xlink:title=\"psysml:128661ee-6ef6-488f-adc9-4acba814b00a\" xlink:type=\"simple\"><rect fill=\"#FFFFFF\" height=\"42.9375\" id=\"E6\" rx=\"10\" ry=\"10\" style=\"stroke: #383838; stroke-width: 1.5;\" width=\"60\" x=\"135\" y=\"269\"/><rect fill=\"#F8F8F8\" height=\"37.9375\" rx=\"10\" ry=\"10\" style=\"stroke: #F8F8F8; stroke-width: 1.5;\" width=\"60\" x=\"135\" y=\"269\"/><rect fill=\"#F8F8F8\" height=\"10\" style=\"stroke: #F8F8F8; stroke-width: 1.5;\" width=\"60\" x=\"135\" y=\"296.9375\"/><rect fill=\"none\" height=\"42.9375\" id=\"E6\" rx=\"10\" ry=\"10\" style=\"stroke: #383838; stroke-width: 1.5;\" width=\"60\" x=\"135\" y=\"269\"/><text fill=\"#000000\" font-family=\"sans-serif\" font-size=\"12\" font-style=\"italic\" lengthAdjust=\"spacingAndGlyphs\" textLength=\"53\" x=\"138.5\" y=\"285.1387\">«action»</text><text fill=\"#000000\" font-family=\"sans-serif\" font-size=\"12\" lengthAdjust=\"spacingAndGlyphs\" textLength=\"16\" x=\"157\" y=\"299.1074\">A2</text></a></g><g id=\"E1.E7\"><a href=\"psysml:7b9f6d16-7e81-4d0a-aec9-34a5599243af\" target=\"_top\" title=\"psysml:7b9f6d16-7e81-4d0a-aec9-34a5599243af\" xlink:actuate=\"onRequest\" xlink:href=\"psysml:7b9f6d16-7e81-4d0a-aec9-34a5599243af\" xlink:show=\"new\" xlink:title=\"psysml:7b9f6d16-7e81-4d0a-aec9-34a5599243af\" xlink:type=\"simple\"><rect fill=\"#FFFFFF\" height=\"42.9375\" id=\"E7\" rx=\"10\" ry=\"10\" style=\"stroke: #383838; stroke-width: 1.5;\" width=\"60\" x=\"46\" y=\"66\"/><rect fill=\"#F8F8F8\" height=\"37.9375\" rx=\"10\" ry=\"10\" style=\"stroke: #F8F8F8; stroke-width: 1.5;\" width=\"60\" x=\"46\" y=\"66\"/><rect fill=\"#F8F8F8\" height=\"10\" style=\"stroke: #F8F8F8; stroke-width: 1.5;\" width=\"60\" x=\"46\" y=\"93.9375\"/><rect fill=\"none\" height=\"42.9375\" id=\"E7\" rx=\"10\" ry=\"10\" style=\"stroke: #383838; stroke-width: 1.5;\" width=\"60\" x=\"46\" y=\"66\"/><text fill=\"#000000\" font-family=\"sans-serif\" font-size=\"12\" font-style=\"italic\" lengthAdjust=\"spacingAndGlyphs\" textLength=\"53\" x=\"49.5\" y=\"82.1387\">«action»</text><text fill=\"#000000\" font-family=\"sans-serif\" font-size=\"12\" lengthAdjust=\"spacingAndGlyphs\" textLength=\"16\" x=\"68\" y=\"96.1074\">A3</text></a></g><g id=\"E1.E8\"><a href=\"psysml:7b9f6d16-7e81-4d0a-aec9-34a5599243af\" target=\"_top\" title=\"psysml:7b9f6d16-7e81-4d0a-aec9-34a5599243af\" xlink:actuate=\"onRequest\" xlink:href=\"psysml:7b9f6d16-7e81-4d0a-aec9-34a5599243af\" xlink:show=\"new\" xlink:title=\"psysml:7b9f6d16-7e81-4d0a-aec9-34a5599243af\" xlink:type=\"simple\"><rect fill=\"#FFFFFF\" height=\"42.9375\" id=\"E8\" rx=\"10\" ry=\"10\" style=\"stroke: #383838; stroke-width: 1.5;\" width=\"60\" x=\"246\" y=\"117\"/><rect fill=\"#F8F8F8\" height=\"37.9375\" rx=\"10\" ry=\"10\" style=\"stroke: #F8F8F8; stroke-width: 1.5;\" width=\"60\" x=\"246\" y=\"117\"/><rect fill=\"#F8F8F8\" height=\"10\" style=\"stroke: #F8F8F8; stroke-width: 1.5;\" width=\"60\" x=\"246\" y=\"144.9375\"/><rect fill=\"none\" height=\"42.9375\" id=\"E8\" rx=\"10\" ry=\"10\" style=\"stroke: #383838; stroke-width: 1.5;\" width=\"60\" x=\"246\" y=\"117\"/><text fill=\"#000000\" font-family=\"sans-serif\" font-size=\"12\" font-style=\"italic\" lengthAdjust=\"spacingAndGlyphs\" textLength=\"53\" x=\"249.5\" y=\"133.1387\">«action»</text><text fill=\"#000000\" font-family=\"sans-serif\" font-size=\"12\" lengthAdjust=\"spacingAndGlyphs\" textLength=\"16\" x=\"268\" y=\"147.1074\">A3</text></a></g><!--MD5=[0188b64bb0ae78505a997a81836e11e9]\n",
       "link E3 to E5--><a href=\"psysml:7286f462-e52e-4ebc-bfea-7701f26f76d2\" target=\"_top\" title=\"psysml:7286f462-e52e-4ebc-bfea-7701f26f76d2\" xlink:actuate=\"onRequest\" xlink:href=\"psysml:7286f462-e52e-4ebc-bfea-7701f26f76d2\" xlink:show=\"new\" xlink:title=\"psysml:7286f462-e52e-4ebc-bfea-7701f26f76d2\" xlink:type=\"simple\"><path d=\"M141.28,52.44 C142.02,81.77 144,160 144,160 C144,160 149.67,174.43 155.11,188.31 \" fill=\"none\" id=\"E3-&gt;E5\" style=\"stroke: #383838; stroke-width: 1.0; stroke-dasharray: 7.0,7.0;\"/><polygon fill=\"#383838\" points=\"156.94,192.97,157.374,183.1307,155.1126,188.3159,149.9274,186.0545,156.94,192.97\" style=\"stroke: #383838; stroke-width: 1.0;\"/><text fill=\"#000000\" font-family=\"sans-serif\" font-size=\"13\" lengthAdjust=\"spacingAndGlyphs\" textLength=\"55\" x=\"145\" y=\"143.0669\">[x == 1]</text></a><!--MD5=[ec9844e0c75763426927cad3229d1081]\n",
       "link E3 to E6--><a href=\"psysml:e748a59f-80ec-4a6b-adc3-e898091fbade\" target=\"_top\" title=\"psysml:e748a59f-80ec-4a6b-adc3-e898091fbade\" xlink:actuate=\"onRequest\" xlink:href=\"psysml:e748a59f-80ec-4a6b-adc3-e898091fbade\" xlink:show=\"new\" xlink:title=\"psysml:e748a59f-80ec-4a6b-adc3-e898091fbade\" xlink:type=\"simple\"><path d=\"M146.24,47.68 C161.52,65.71 205,117 205,117 C205,117 226,244 226,244 C226,244 226,261 226,261 C226,261 213.5,266.84 199.81,273.24 \" fill=\"none\" id=\"E3-&gt;E6\" style=\"stroke: #383838; stroke-width: 1.0; stroke-dasharray: 7.0,7.0;\"/><polygon fill=\"#383838\" points=\"195.14,275.42,204.9874,275.2489,199.6731,273.3103,201.6118,267.996,195.14,275.42\" style=\"stroke: #383838; stroke-width: 1.0;\"/><text fill=\"#000000\" font-family=\"sans-serif\" font-size=\"13\" lengthAdjust=\"spacingAndGlyphs\" textLength=\"44\" x=\"217\" y=\"181.0669\">[x &gt; 1]</text></a><!--MD5=[ca5a752d6098d8a44b3f88316e7452d1]\n",
       "link E3 to E8--><a href=\"psysml:c4aa7bb1-7be8-4d3d-94c8-0c3feb0dde03\" target=\"_top\" title=\"psysml:c4aa7bb1-7be8-4d3d-94c8-0c3feb0dde03\" xlink:actuate=\"onRequest\" xlink:href=\"psysml:c4aa7bb1-7be8-4d3d-94c8-0c3feb0dde03\" xlink:show=\"new\" xlink:title=\"psysml:c4aa7bb1-7be8-4d3d-94c8-0c3feb0dde03\" xlink:type=\"simple\"><path d=\"M148.26,45.49 C157.14,50.38 171,58 171,58 C171,58 207,66 207,66 C207,66 217,109 217,109 C217,109 228.34,114.48 241.07,120.63 \" fill=\"none\" id=\"E3-&gt;E8\" style=\"stroke: #383838; stroke-width: 1.0; stroke-dasharray: 7.0,7.0;\"/><polygon fill=\"#383838\" points=\"245.81,122.92,239.4427,115.4062,241.3069,120.7471,235.966,122.6112,245.81,122.92\" style=\"stroke: #383838; stroke-width: 1.0;\"/></a><!--MD5=[95fa686b5a16158bcdbcaeead89f639b]\n",
       "link E8 to E3--><a href=\"psysml:313c2626-617f-4a85-9d7c-c31cb61d9b9e\" target=\"_top\" title=\"psysml:313c2626-617f-4a85-9d7c-c31cb61d9b9e\" xlink:actuate=\"onRequest\" xlink:href=\"psysml:313c2626-617f-4a85-9d7c-c31cb61d9b9e\" xlink:show=\"new\" xlink:title=\"psysml:313c2626-617f-4a85-9d7c-c31cb61d9b9e\" xlink:type=\"simple\"><path d=\"M254.2,116.79 C249.54,112.37 246,109 246,109 C246,109 214,66 214,66 C214,66 171,58 171,58 C171,58 161.13,52.57 152.72,47.94 \" fill=\"none\" id=\"E8-&gt;E3\" style=\"stroke: #383838; stroke-width: 1.0; stroke-dasharray: 7.0,7.0;\"/><polygon fill=\"#383838\" points=\"148.26,45.49,154.2153,53.3344,152.6402,47.9012,158.0733,46.3261,148.26,45.49\" style=\"stroke: #383838; stroke-width: 1.0;\"/><text fill=\"#000000\" font-family=\"sans-serif\" font-size=\"13\" lengthAdjust=\"spacingAndGlyphs\" textLength=\"44\" x=\"247\" y=\"92.0669\">[x &gt; 0]</text></a><!--MD5=[af87c684e3b0d8be13c1a698a818ef1e]\n",
       "link E3 to E4--><a href=\"psysml:9e59e0cd-e7d6-48f9-8abd-2b6da2cb7bd3\" target=\"_top\" title=\"psysml:9e59e0cd-e7d6-48f9-8abd-2b6da2cb7bd3\" xlink:actuate=\"onRequest\" xlink:href=\"psysml:9e59e0cd-e7d6-48f9-8abd-2b6da2cb7bd3\" xlink:show=\"new\" xlink:title=\"psysml:9e59e0cd-e7d6-48f9-8abd-2b6da2cb7bd3\" xlink:type=\"simple\"><path d=\"M131.86,43.76 C107.36,49.83 42,66 42,66 C42,66 38.55,101.26 36.49,122.25 \" fill=\"none\" id=\"E3-&gt;E4\" style=\"stroke: #383838; stroke-width: 1.0; stroke-dasharray: 7.0,7.0;\"/><polygon fill=\"#383838\" points=\"36,127.26,40.8562,118.6916,36.4862,122.2837,32.8941,117.9137,36,127.26\" style=\"stroke: #383838; stroke-width: 1.0;\"/></a><!--MD5=[1b7591eae5389033d8d09a9d6721a717]\n",
       "link E4 to E5--><a href=\"psysml:7b0b5bc6-fd2d-464d-92f4-1e71099b6f78\" target=\"_top\" title=\"psysml:7b0b5bc6-fd2d-464d-92f4-1e71099b6f78\" xlink:actuate=\"onRequest\" xlink:href=\"psysml:7b0b5bc6-fd2d-464d-92f4-1e71099b6f78\" xlink:show=\"new\" xlink:title=\"psysml:7b0b5bc6-fd2d-464d-92f4-1e71099b6f78\" xlink:type=\"simple\"><path d=\"M41.01,145.08 C54.09,157.23 84,185 84,185 C84,185 108,193 108,193 C108,193 118.26,196.69 130.07,200.94 \" fill=\"none\" id=\"E4-&gt;E5\" style=\"stroke: #383838; stroke-width: 1.0; stroke-dasharray: 7.0,7.0;\"/><polygon fill=\"#383838\" points=\"134.83,202.65,127.7272,195.8273,130.1281,200.9493,125.0061,203.3503,134.83,202.65\" style=\"stroke: #383838; stroke-width: 1.0;\"/><text fill=\"#000000\" font-family=\"sans-serif\" font-size=\"13\" lengthAdjust=\"spacingAndGlyphs\" textLength=\"36\" x=\"85\" y=\"181.0669\">[true]</text></a><!--MD5=[79568f1e445c3877b6a54524624ccc7d]\n",
       "link E4 to E6--><a href=\"psysml:2cb1b039-bbb8-4621-9b87-8355478bfab0\" target=\"_top\" title=\"psysml:2cb1b039-bbb8-4621-9b87-8355478bfab0\" xlink:actuate=\"onRequest\" xlink:href=\"psysml:2cb1b039-bbb8-4621-9b87-8355478bfab0\" xlink:show=\"new\" xlink:title=\"psysml:2cb1b039-bbb8-4621-9b87-8355478bfab0\" xlink:type=\"simple\"><path d=\"M38.36,147.4 C48.15,170.44 76,236 76,236 C76,236 105.53,253.75 130.57,268.81 \" fill=\"none\" id=\"E4-&gt;E6\" style=\"stroke: #383838; stroke-width: 1.0; stroke-dasharray: 7.0,7.0;\"/><polygon fill=\"#383838\" points=\"134.87,271.39,129.2105,263.3296,130.5825,268.8175,125.0946,270.1895,134.87,271.39\" style=\"stroke: #383838; stroke-width: 1.0;\"/><text fill=\"#000000\" font-family=\"sans-serif\" font-size=\"13\" lengthAdjust=\"spacingAndGlyphs\" textLength=\"40\" x=\"77\" y=\"219.0669\">[false]</text></a><!--MD5=[9120cf2e5df3bff93db8f754bbbc09b4]\n",
       "link E5 to E6--><a href=\"psysml:b49ece63-4bda-4eac-a48b-66e19b9bdab7\" target=\"_top\" title=\"psysml:b49ece63-4bda-4eac-a48b-66e19b9bdab7\" xlink:actuate=\"onRequest\" xlink:href=\"psysml:b49ece63-4bda-4eac-a48b-66e19b9bdab7\" xlink:show=\"new\" xlink:title=\"psysml:b49ece63-4bda-4eac-a48b-66e19b9bdab7\" xlink:type=\"simple\"><path d=\"M165,236.11 C165,244.69 165,254.75 165,263.8 \" fill=\"none\" id=\"E5-&gt;E6\" style=\"stroke: #383838; stroke-width: 1.0; stroke-dasharray: 7.0,7.0;\"/><polygon fill=\"#383838\" points=\"165,269,169,260,165,264,161,260,165,269\" style=\"stroke: #383838; stroke-width: 1.0;\"/><text fill=\"#000000\" font-family=\"sans-serif\" font-size=\"13\" lengthAdjust=\"spacingAndGlyphs\" textLength=\"55\" x=\"166\" y=\"257.0669\">[x == 0]</text></a><!--MD5=[1b56752aed6ba5601664024b6fc2b0e0]\n",
       "@startuml\r\n",
       "skinparam ranksep 8\r\n",
       "skinparam linetype polyline\r\n",
       "skinparam monochrome true\r\n",
       "skinparam classbackgroundcolor white\r\n",
       "skinparam shadowing false\r\n",
       "skinparam wrapWidth 300\r\n",
       "hide circle\r\n",
       "\r\n",
       "rec def \"DecisionTest\" as E1  <<(T,blue)action def>> [[psysml:3be07126-877a-4309-8447-1e285ef81f95 ]] {\r\n",
       "portout \"$result\" as E2  [[psysml:9348992a-eef4-478a-99a3-8679640e907b ]] \r\n",
       "choice \"test x\" as E3  [[psysml:68020b6f-ffe7-4b5f-b810-1edcbdd08af0 ]] \r\n",
       "choice \"noname\" as E4  [[psysml:c53ed86d-7fd9-4daa-81a5-a3aaa8a48fdd ]] \r\n",
       "rec usage \"A1\" as E5  <<(T,blue)action>> [[psysml:0f40ea9b-adac-4a33-8b1a-34d15e55e3d2 ]] {\r\n",
       "}\r\n",
       "\r\n",
       "rec usage \"A2\" as E6  <<(T,blue)action>> [[psysml:128661ee-6ef6-488f-adc9-4acba814b00a ]] {\r\n",
       "}\r\n",
       "\r\n",
       "rec usage \"A3\" as E7  <<(T,blue)action>> [[psysml:7b9f6d16-7e81-4d0a-aec9-34a5599243af ]] {\r\n",
       "}\r\n",
       "\r\n",
       "rec usage \"A3\" as E8  <<(T,blue)action>> [[psysml:7b9f6d16-7e81-4d0a-aec9-34a5599243af ]] {\r\n",
       "}\r\n",
       "\r\n",
       "}\r\n",
       "\r\n",
       "E3 ..> E5 [[psysml:7286f462-e52e-4ebc-bfea-7701f26f76d2 ]] : [x == 1]\r\n",
       "E3 ..> E6 [[psysml:e748a59f-80ec-4a6b-adc3-e898091fbade ]] : [x > 1]\r\n",
       "E3 ..> E8 [[psysml:c4aa7bb1-7be8-4d3d-94c8-0c3feb0dde03 ]] \r\n",
       "E3 ..> E4 [[psysml:9e59e0cd-e7d6-48f9-8abd-2b6da2cb7bd3 ]] \r\n",
       "E4 ..> E5 [[psysml:7b0b5bc6-fd2d-464d-92f4-1e71099b6f78 ]] : [true]\r\n",
       "E4 ..> E6 [[psysml:2cb1b039-bbb8-4621-9b87-8355478bfab0 ]] : [false]\r\n",
       "E5 ..> E6 [[psysml:b49ece63-4bda-4eac-a48b-66e19b9bdab7 ]] : [x == 0]\r\n",
       "E8 ..> E3 [[psysml:313c2626-617f-4a85-9d7c-c31cb61d9b9e ]] : [x > 0]\r\n",
       "@enduml\r\n",
       "\n",
       "PlantUML version 1.2020.13(Sat Jun 13 12:26:38 UTC 2020)\n",
       "(EPL source distribution)\n",
       "Java Runtime: OpenJDK Runtime Environment\n",
       "JVM: OpenJDK 64-Bit Server VM\n",
       "Default Encoding: UTF-8\n",
       "Language: en\n",
       "Country: null\n",
       "--></g></svg>"
      ]
     },
     "execution_count": 13,
     "metadata": {},
     "output_type": "execute_result"
    }
   ],
   "source": [
    "%viz --style=\"POLYLINE\" --view=\"Action\" \"DecisionTest\""
   ]
  },
  {
   "cell_type": "code",
   "execution_count": 14,
   "id": "5be26e58",
   "metadata": {
    "execution": {
     "iopub.execute_input": "2021-05-27T06:09:52.175274Z",
     "iopub.status.busy": "2021-05-27T06:09:52.174380Z",
     "iopub.status.idle": "2021-05-27T06:09:52.251190Z",
     "shell.execute_reply": "2021-05-27T06:09:52.250934Z"
    }
   },
   "outputs": [
    {
     "data": {
      "image/svg+xml": [
       "<?xml version=\"1.0\" encoding=\"UTF-8\" standalone=\"no\"?><svg xmlns=\"http://www.w3.org/2000/svg\" xmlns:xlink=\"http://www.w3.org/1999/xlink\" contentScriptType=\"application/ecmascript\" contentStyleType=\"text/css\" height=\"207px\" preserveAspectRatio=\"none\" style=\"width:109px;height:207px;\" version=\"1.1\" viewBox=\"0 0 109 207\" width=\"109px\" zoomAndPan=\"magnify\"><defs/><g><!--MD5=[43c9051892ef23e1a46a86907403d788]\n",
       "class E1--><a href=\"psysml:3be07126-877a-4309-8447-1e285ef81f95\" target=\"_top\" title=\"psysml:3be07126-877a-4309-8447-1e285ef81f95\" xlink:actuate=\"onRequest\" xlink:href=\"psysml:3be07126-877a-4309-8447-1e285ef81f95\" xlink:show=\"new\" xlink:title=\"psysml:3be07126-877a-4309-8447-1e285ef81f95\" xlink:type=\"simple\"><rect fill=\"#FFFFFF\" height=\"189.9844\" id=\"E1\" style=\"stroke: #383838; stroke-width: 1.5;\" width=\"91\" x=\"7\" y=\"7\"/><text fill=\"#000000\" font-family=\"sans-serif\" font-size=\"12\" font-style=\"italic\" lengthAdjust=\"spacingAndGlyphs\" textLength=\"77\" x=\"14\" y=\"23.1387\">«action def»</text><text fill=\"#000000\" font-family=\"sans-serif\" font-size=\"12\" lengthAdjust=\"spacingAndGlyphs\" textLength=\"80\" x=\"12.5\" y=\"37.1074\">DecisionTest</text><line style=\"stroke: #383838; stroke-width: 1.5;\" x1=\"8\" x2=\"97\" y1=\"44.9375\" y2=\"44.9375\"/><text fill=\"#000000\" font-family=\"sans-serif\" font-size=\"11\" lengthAdjust=\"spacingAndGlyphs\" textLength=\"26\" x=\"13\" y=\"75.9526\">x=1;</text><line style=\"stroke: #383838; stroke-width: 1.0;\" x1=\"8\" x2=\"25\" y1=\"59.3398\" y2=\"59.3398\"/><text fill=\"#000000\" font-family=\"sans-serif\" font-size=\"11\" lengthAdjust=\"spacingAndGlyphs\" textLength=\"55\" x=\"25\" y=\"62.6479\">attributes</text><line style=\"stroke: #383838; stroke-width: 1.0;\" x1=\"80\" x2=\"97\" y1=\"59.3398\" y2=\"59.3398\"/><text fill=\"#000000\" font-family=\"sans-serif\" font-size=\"11\" lengthAdjust=\"spacingAndGlyphs\" textLength=\"14\" x=\"13\" y=\"105.562\">A1</text><text fill=\"#000000\" font-family=\"sans-serif\" font-size=\"11\" lengthAdjust=\"spacingAndGlyphs\" textLength=\"14\" x=\"13\" y=\"118.3667\">A2</text><text fill=\"#000000\" font-family=\"sans-serif\" font-size=\"11\" lengthAdjust=\"spacingAndGlyphs\" textLength=\"14\" x=\"13\" y=\"131.1714\">A3</text><line style=\"stroke: #383838; stroke-width: 1.0;\" x1=\"8\" x2=\"32\" y1=\"88.9492\" y2=\"88.9492\"/><text fill=\"#000000\" font-family=\"sans-serif\" font-size=\"11\" lengthAdjust=\"spacingAndGlyphs\" textLength=\"41\" x=\"32\" y=\"92.2573\">actions</text><line style=\"stroke: #383838; stroke-width: 1.0;\" x1=\"73\" x2=\"97\" y1=\"88.9492\" y2=\"88.9492\"/><text fill=\"#000000\" font-family=\"sans-serif\" font-size=\"11\" lengthAdjust=\"spacingAndGlyphs\" textLength=\"32\" x=\"13\" y=\"160.7808\">test x</text><line style=\"stroke: #383838; stroke-width: 1.0;\" x1=\"8\" x2=\"11\" y1=\"144.168\" y2=\"144.168\"/><text fill=\"#000000\" font-family=\"sans-serif\" font-size=\"11\" lengthAdjust=\"spacingAndGlyphs\" textLength=\"83\" x=\"11\" y=\"147.4761\">decisionNodes</text><line style=\"stroke: #383838; stroke-width: 1.0;\" x1=\"94\" x2=\"97\" y1=\"144.168\" y2=\"144.168\"/><text fill=\"#000000\" font-family=\"sans-serif\" font-size=\"11\" lengthAdjust=\"spacingAndGlyphs\" textLength=\"8\" x=\"13\" y=\"190.3901\">S</text><line style=\"stroke: #383838; stroke-width: 1.0;\" x1=\"8\" x2=\"22\" y1=\"173.7773\" y2=\"173.7773\"/><text fill=\"#000000\" font-family=\"sans-serif\" font-size=\"11\" lengthAdjust=\"spacingAndGlyphs\" textLength=\"61\" x=\"22\" y=\"177.0854\">transitions</text><line style=\"stroke: #383838; stroke-width: 1.0;\" x1=\"83\" x2=\"97\" y1=\"173.7773\" y2=\"173.7773\"/></a><!--MD5=[64629bcd9266942184bbe92c9fd6544c]\n",
       "@startuml\r\n",
       "skinparam linetype polyline\r\n",
       "skinparam monochrome true\r\n",
       "skinparam classbackgroundcolor white\r\n",
       "skinparam shadowing false\r\n",
       "skinparam wrapWidth 300\r\n",
       "hide circle\r\n",
       "\r\n",
       "comp def \"DecisionTest\" as E1  <<(T,blue)action def>> [[psysml:3be07126-877a-4309-8447-1e285ef81f95 ]] {\r\n",
       "- - attributes - -\r\n",
       "x=1; \r\n",
       "- - actions - -\r\n",
       "A1\r\n",
       "A2\r\n",
       "A3\r\n",
       "- - decisionNodes - -\r\n",
       "test x\r\n",
       "- - transitions - -\r\n",
       "S\r\n",
       "}\r\n",
       "@enduml\r\n",
       "\n",
       "PlantUML version 1.2020.13(Sat Jun 13 12:26:38 UTC 2020)\n",
       "(EPL source distribution)\n",
       "Java Runtime: OpenJDK Runtime Environment\n",
       "JVM: OpenJDK 64-Bit Server VM\n",
       "Default Encoding: UTF-8\n",
       "Language: en\n",
       "Country: null\n",
       "--></g></svg>"
      ]
     },
     "execution_count": 14,
     "metadata": {},
     "output_type": "execute_result"
    }
   ],
   "source": [
    "%viz --style=\"POLYLINE\" --view=\"Sequence\" \"DecisionTest\""
   ]
  },
  {
   "cell_type": "code",
   "execution_count": 15,
   "id": "b6348a8d",
   "metadata": {
    "execution": {
     "iopub.execute_input": "2021-05-27T06:09:52.302703Z",
     "iopub.status.busy": "2021-05-27T06:09:52.301880Z",
     "iopub.status.idle": "2021-05-27T06:09:52.342915Z",
     "shell.execute_reply": "2021-05-27T06:09:52.341463Z"
    }
   },
   "outputs": [
    {
     "data": {
      "image/svg+xml": [
       "<?xml version=\"1.0\" encoding=\"UTF-8\" standalone=\"no\"?><svg xmlns=\"http://www.w3.org/2000/svg\" xmlns:xlink=\"http://www.w3.org/1999/xlink\" contentScriptType=\"application/ecmascript\" contentStyleType=\"text/css\" height=\"574px\" preserveAspectRatio=\"none\" style=\"width:333px;height:574px;\" version=\"1.1\" viewBox=\"0 0 333 574\" width=\"333px\" zoomAndPan=\"magnify\"><defs/><g><!--MD5=[fbc87193dbaf4d95561dea2c320d4a47]\n",
       "cluster E1--><a href=\"psysml:3be07126-877a-4309-8447-1e285ef81f95\" target=\"_top\" title=\"psysml:3be07126-877a-4309-8447-1e285ef81f95\" xlink:actuate=\"onRequest\" xlink:href=\"psysml:3be07126-877a-4309-8447-1e285ef81f95\" xlink:show=\"new\" xlink:title=\"psysml:3be07126-877a-4309-8447-1e285ef81f95\" xlink:type=\"simple\"><rect fill=\"#FFFFFF\" height=\"534.72\" id=\"E1\" style=\"stroke: #383838; stroke-width: 1.5;\" width=\"315\" x=\"7\" y=\"7\"/><rect fill=\"#F8F8F8\" height=\"37.9375\" style=\"stroke: #383838; stroke-width: 1.5;\" width=\"315\" x=\"7\" y=\"7\"/><text fill=\"#000000\" font-family=\"sans-serif\" font-size=\"12\" font-style=\"italic\" lengthAdjust=\"spacingAndGlyphs\" textLength=\"77\" x=\"126\" y=\"23.1387\">«action def»</text><text fill=\"#000000\" font-family=\"sans-serif\" font-size=\"12\" lengthAdjust=\"spacingAndGlyphs\" textLength=\"80\" x=\"124.5\" y=\"37.1074\">DecisionTest</text></a><text fill=\"#000000\" font-family=\"sans-serif\" font-size=\"14\" lengthAdjust=\"spacingAndGlyphs\" textLength=\"48\" x=\"140\" y=\"560.7151\">$result</text><rect fill=\"#383838\" height=\"12\" style=\"stroke: #F8F8F8; stroke-width: 1.5;\" width=\"12\" x=\"158\" y=\"535.72\"/><polygon fill=\"#F8F8F8\" points=\"141,28.5,153,40.5,141,52.5,129,40.5,141,28.5\" style=\"stroke: #383838; stroke-width: 1.5;\"/><polygon fill=\"#F8F8F8\" points=\"35,170.5,47,182.5,35,194.5,23,182.5,35,170.5\" style=\"stroke: #383838; stroke-width: 1.5;\"/><g id=\"E1.E5\"><a href=\"psysml:0f40ea9b-adac-4a33-8b1a-34d15e55e3d2\" target=\"_top\" title=\"psysml:0f40ea9b-adac-4a33-8b1a-34d15e55e3d2\" xlink:actuate=\"onRequest\" xlink:href=\"psysml:0f40ea9b-adac-4a33-8b1a-34d15e55e3d2\" xlink:show=\"new\" xlink:title=\"psysml:0f40ea9b-adac-4a33-8b1a-34d15e55e3d2\" xlink:type=\"simple\"><rect fill=\"#FFFFFF\" height=\"42.9375\" id=\"E5\" rx=\"10\" ry=\"10\" style=\"stroke: #383838; stroke-width: 1.5;\" width=\"60\" x=\"135\" y=\"281\"/><rect fill=\"#F8F8F8\" height=\"37.9375\" rx=\"10\" ry=\"10\" style=\"stroke: #F8F8F8; stroke-width: 1.5;\" width=\"60\" x=\"135\" y=\"281\"/><rect fill=\"#F8F8F8\" height=\"10\" style=\"stroke: #F8F8F8; stroke-width: 1.5;\" width=\"60\" x=\"135\" y=\"308.9375\"/><rect fill=\"none\" height=\"42.9375\" id=\"E5\" rx=\"10\" ry=\"10\" style=\"stroke: #383838; stroke-width: 1.5;\" width=\"60\" x=\"135\" y=\"281\"/><text fill=\"#000000\" font-family=\"sans-serif\" font-size=\"12\" font-style=\"italic\" lengthAdjust=\"spacingAndGlyphs\" textLength=\"53\" x=\"138.5\" y=\"297.1387\">«action»</text><text fill=\"#000000\" font-family=\"sans-serif\" font-size=\"12\" lengthAdjust=\"spacingAndGlyphs\" textLength=\"16\" x=\"157\" y=\"311.1074\">A1</text></a></g><g id=\"E1.E6\"><a href=\"psysml:128661ee-6ef6-488f-adc9-4acba814b00a\" target=\"_top\" title=\"psysml:128661ee-6ef6-488f-adc9-4acba814b00a\" xlink:actuate=\"onRequest\" xlink:href=\"psysml:128661ee-6ef6-488f-adc9-4acba814b00a\" xlink:show=\"new\" xlink:title=\"psysml:128661ee-6ef6-488f-adc9-4acba814b00a\" xlink:type=\"simple\"><rect fill=\"#FFFFFF\" height=\"42.9375\" id=\"E6\" rx=\"10\" ry=\"10\" style=\"stroke: #383838; stroke-width: 1.5;\" width=\"60\" x=\"135\" y=\"401\"/><rect fill=\"#F8F8F8\" height=\"37.9375\" rx=\"10\" ry=\"10\" style=\"stroke: #F8F8F8; stroke-width: 1.5;\" width=\"60\" x=\"135\" y=\"401\"/><rect fill=\"#F8F8F8\" height=\"10\" style=\"stroke: #F8F8F8; stroke-width: 1.5;\" width=\"60\" x=\"135\" y=\"428.9375\"/><rect fill=\"none\" height=\"42.9375\" id=\"E6\" rx=\"10\" ry=\"10\" style=\"stroke: #383838; stroke-width: 1.5;\" width=\"60\" x=\"135\" y=\"401\"/><text fill=\"#000000\" font-family=\"sans-serif\" font-size=\"12\" font-style=\"italic\" lengthAdjust=\"spacingAndGlyphs\" textLength=\"53\" x=\"138.5\" y=\"417.1387\">«action»</text><text fill=\"#000000\" font-family=\"sans-serif\" font-size=\"12\" lengthAdjust=\"spacingAndGlyphs\" textLength=\"16\" x=\"157\" y=\"431.1074\">A2</text></a></g><g id=\"E1.E7\"><a href=\"psysml:7b9f6d16-7e81-4d0a-aec9-34a5599243af\" target=\"_top\" title=\"psysml:7b9f6d16-7e81-4d0a-aec9-34a5599243af\" xlink:actuate=\"onRequest\" xlink:href=\"psysml:7b9f6d16-7e81-4d0a-aec9-34a5599243af\" xlink:show=\"new\" xlink:title=\"psysml:7b9f6d16-7e81-4d0a-aec9-34a5599243af\" xlink:type=\"simple\"><rect fill=\"#FFFFFF\" height=\"42.9375\" id=\"E7\" rx=\"10\" ry=\"10\" style=\"stroke: #383838; stroke-width: 1.5;\" width=\"60\" x=\"46\" y=\"88\"/><rect fill=\"#F8F8F8\" height=\"37.9375\" rx=\"10\" ry=\"10\" style=\"stroke: #F8F8F8; stroke-width: 1.5;\" width=\"60\" x=\"46\" y=\"88\"/><rect fill=\"#F8F8F8\" height=\"10\" style=\"stroke: #F8F8F8; stroke-width: 1.5;\" width=\"60\" x=\"46\" y=\"115.9375\"/><rect fill=\"none\" height=\"42.9375\" id=\"E7\" rx=\"10\" ry=\"10\" style=\"stroke: #383838; stroke-width: 1.5;\" width=\"60\" x=\"46\" y=\"88\"/><text fill=\"#000000\" font-family=\"sans-serif\" font-size=\"12\" font-style=\"italic\" lengthAdjust=\"spacingAndGlyphs\" textLength=\"53\" x=\"49.5\" y=\"104.1387\">«action»</text><text fill=\"#000000\" font-family=\"sans-serif\" font-size=\"12\" lengthAdjust=\"spacingAndGlyphs\" textLength=\"16\" x=\"68\" y=\"118.1074\">A3</text></a></g><g id=\"E1.E8\"><a href=\"psysml:7b9f6d16-7e81-4d0a-aec9-34a5599243af\" target=\"_top\" title=\"psysml:7b9f6d16-7e81-4d0a-aec9-34a5599243af\" xlink:actuate=\"onRequest\" xlink:href=\"psysml:7b9f6d16-7e81-4d0a-aec9-34a5599243af\" xlink:show=\"new\" xlink:title=\"psysml:7b9f6d16-7e81-4d0a-aec9-34a5599243af\" xlink:type=\"simple\"><rect fill=\"#FFFFFF\" height=\"42.9375\" id=\"E8\" rx=\"10\" ry=\"10\" style=\"stroke: #383838; stroke-width: 1.5;\" width=\"60\" x=\"246\" y=\"161\"/><rect fill=\"#F8F8F8\" height=\"37.9375\" rx=\"10\" ry=\"10\" style=\"stroke: #F8F8F8; stroke-width: 1.5;\" width=\"60\" x=\"246\" y=\"161\"/><rect fill=\"#F8F8F8\" height=\"10\" style=\"stroke: #F8F8F8; stroke-width: 1.5;\" width=\"60\" x=\"246\" y=\"188.9375\"/><rect fill=\"none\" height=\"42.9375\" id=\"E8\" rx=\"10\" ry=\"10\" style=\"stroke: #383838; stroke-width: 1.5;\" width=\"60\" x=\"246\" y=\"161\"/><text fill=\"#000000\" font-family=\"sans-serif\" font-size=\"12\" font-style=\"italic\" lengthAdjust=\"spacingAndGlyphs\" textLength=\"53\" x=\"249.5\" y=\"177.1387\">«action»</text><text fill=\"#000000\" font-family=\"sans-serif\" font-size=\"12\" lengthAdjust=\"spacingAndGlyphs\" textLength=\"16\" x=\"268\" y=\"191.1074\">A3</text></a></g><!--MD5=[0188b64bb0ae78505a997a81836e11e9]\n",
       "link E3 to E5--><a href=\"psysml:7286f462-e52e-4ebc-bfea-7701f26f76d2\" target=\"_top\" title=\"psysml:7286f462-e52e-4ebc-bfea-7701f26f76d2\" xlink:actuate=\"onRequest\" xlink:href=\"psysml:7286f462-e52e-4ebc-bfea-7701f26f76d2\" xlink:show=\"new\" xlink:title=\"psysml:7286f462-e52e-4ebc-bfea-7701f26f76d2\" xlink:type=\"simple\"><path d=\"M141.2,52.41 C141.87,88.85 144,204 144,204 C144,204 153.2,246.72 159.42,275.6 \" fill=\"none\" id=\"E3-&gt;E5\" style=\"stroke: #383838; stroke-width: 1.0;\"/><polygon fill=\"#383838\" points=\"160.55,280.82,162.5831,271.1833,159.5063,275.9302,154.7594,272.8533,160.55,280.82\" style=\"stroke: #383838; stroke-width: 1.0;\"/><text fill=\"#000000\" font-family=\"sans-serif\" font-size=\"13\" lengthAdjust=\"spacingAndGlyphs\" textLength=\"55\" x=\"145\" y=\"187.0669\">[x == 1]</text></a><!--MD5=[ec9844e0c75763426927cad3229d1081]\n",
       "link E3 to E6--><a href=\"psysml:e748a59f-80ec-4a6b-adc3-e898091fbade\" target=\"_top\" title=\"psysml:e748a59f-80ec-4a6b-adc3-e898091fbade\" xlink:actuate=\"onRequest\" xlink:href=\"psysml:e748a59f-80ec-4a6b-adc3-e898091fbade\" xlink:show=\"new\" xlink:title=\"psysml:e748a59f-80ec-4a6b-adc3-e898091fbade\" xlink:type=\"simple\"><path d=\"M145,48.98 C159.01,75.14 205,161 205,161 C205,161 226,354 226,354 C226,354 226,371 226,371 C226,371 209.6,384.58 193.8,397.65 \" fill=\"none\" id=\"E3-&gt;E6\" style=\"stroke: #383838; stroke-width: 1.0;\"/><polygon fill=\"#383838\" points=\"189.81,400.96,199.2964,398.3128,193.6651,397.776,194.202,392.1446,189.81,400.96\" style=\"stroke: #383838; stroke-width: 1.0;\"/><text fill=\"#000000\" font-family=\"sans-serif\" font-size=\"13\" lengthAdjust=\"spacingAndGlyphs\" textLength=\"44\" x=\"215\" y=\"247.0669\">[x &gt; 1]</text></a><!--MD5=[ca5a752d6098d8a44b3f88316e7452d1]\n",
       "link E3 to E8--><a href=\"psysml:c4aa7bb1-7be8-4d3d-94c8-0c3feb0dde03\" target=\"_top\" title=\"psysml:c4aa7bb1-7be8-4d3d-94c8-0c3feb0dde03\" xlink:actuate=\"onRequest\" xlink:href=\"psysml:c4aa7bb1-7be8-4d3d-94c8-0c3feb0dde03\" xlink:show=\"new\" xlink:title=\"psysml:c4aa7bb1-7be8-4d3d-94c8-0c3feb0dde03\" xlink:type=\"simple\"><path d=\"M147.57,46.13 C164.26,57.89 207,88 207,88 C207,88 217,131 217,131 C217,131 232.87,144.58 248.14,157.65 \" fill=\"none\" id=\"E3-&gt;E8\" style=\"stroke: #383838; stroke-width: 1.0;\"/><polygon fill=\"#383838\" points=\"252,160.96,247.7506,152.0751,248.1967,157.7143,242.5574,158.1604,252,160.96\" style=\"stroke: #383838; stroke-width: 1.0;\"/></a><!--MD5=[95fa686b5a16158bcdbcaeead89f639b]\n",
       "link E8 to E3--><a href=\"psysml:313c2626-617f-4a85-9d7c-c31cb61d9b9e\" target=\"_top\" title=\"psysml:313c2626-617f-4a85-9d7c-c31cb61d9b9e\" xlink:actuate=\"onRequest\" xlink:href=\"psysml:313c2626-617f-4a85-9d7c-c31cb61d9b9e\" xlink:show=\"new\" xlink:title=\"psysml:313c2626-617f-4a85-9d7c-c31cb61d9b9e\" xlink:type=\"simple\"><path d=\"M262.24,160.75 C243.97,133.2 214,88 214,88 C214,88 172.35,61.47 151.97,48.49 \" fill=\"none\" id=\"E8-&gt;E3\" style=\"stroke: #383838; stroke-width: 1.0;\"/><polygon fill=\"#383838\" points=\"147.74,45.79,153.1801,54.0001,151.9565,48.4772,157.4795,47.2536,147.74,45.79\" style=\"stroke: #383838; stroke-width: 1.0;\"/><text fill=\"#000000\" font-family=\"sans-serif\" font-size=\"13\" lengthAdjust=\"spacingAndGlyphs\" textLength=\"44\" x=\"242\" y=\"114.0669\">[x &gt; 0]</text></a><!--MD5=[af87c684e3b0d8be13c1a698a818ef1e]\n",
       "link E3 to E4--><a href=\"psysml:9e59e0cd-e7d6-48f9-8abd-2b6da2cb7bd3\" target=\"_top\" title=\"psysml:9e59e0cd-e7d6-48f9-8abd-2b6da2cb7bd3\" xlink:actuate=\"onRequest\" xlink:href=\"psysml:9e59e0cd-e7d6-48f9-8abd-2b6da2cb7bd3\" xlink:show=\"new\" xlink:title=\"psysml:9e59e0cd-e7d6-48f9-8abd-2b6da2cb7bd3\" xlink:type=\"simple\"><path d=\"M133.23,45.15 C109.89,56.11 42,88 42,88 C42,88 38.16,139.24 36.17,165.86 \" fill=\"none\" id=\"E3-&gt;E4\" style=\"stroke: #383838; stroke-width: 1.0;\"/><polygon fill=\"#383838\" points=\"35.78,171.14,40.4376,162.462,36.1515,166.1538,32.4597,161.8677,35.78,171.14\" style=\"stroke: #383838; stroke-width: 1.0;\"/></a><!--MD5=[1b7591eae5389033d8d09a9d6721a717]\n",
       "link E4 to E5--><a href=\"psysml:7b0b5bc6-fd2d-464d-92f4-1e71099b6f78\" target=\"_top\" title=\"psysml:7b0b5bc6-fd2d-464d-92f4-1e71099b6f78\" xlink:actuate=\"onRequest\" xlink:href=\"psysml:7b0b5bc6-fd2d-464d-92f4-1e71099b6f78\" xlink:show=\"new\" xlink:title=\"psysml:7b0b5bc6-fd2d-464d-92f4-1e71099b6f78\" xlink:type=\"simple\"><path d=\"M39.7,189.97 C51.96,206.87 84,251 84,251 C84,251 108.44,266.24 130.47,279.97 \" fill=\"none\" id=\"E4-&gt;E5\" style=\"stroke: #383838; stroke-width: 1.0;\"/><polygon fill=\"#383838\" points=\"134.84,282.7,129.3157,274.5464,130.596,280.0564,125.0859,281.3368,134.84,282.7\" style=\"stroke: #383838; stroke-width: 1.0;\"/><text fill=\"#000000\" font-family=\"sans-serif\" font-size=\"13\" lengthAdjust=\"spacingAndGlyphs\" textLength=\"36\" x=\"85\" y=\"247.0669\">[true]</text></a><!--MD5=[79568f1e445c3877b6a54524624ccc7d]\n",
       "link E4 to E6--><a href=\"psysml:2cb1b039-bbb8-4621-9b87-8355478bfab0\" target=\"_top\" title=\"psysml:2cb1b039-bbb8-4621-9b87-8355478bfab0\" xlink:actuate=\"onRequest\" xlink:href=\"psysml:2cb1b039-bbb8-4621-9b87-8355478bfab0\" xlink:show=\"new\" xlink:title=\"psysml:2cb1b039-bbb8-4621-9b87-8355478bfab0\" xlink:type=\"simple\"><path d=\"M37.56,192.29 C46.54,223.05 76,324 76,324 C76,324 116.3,368.15 142.66,397.03 \" fill=\"none\" id=\"E4-&gt;E6\" style=\"stroke: #383838; stroke-width: 1.0;\"/><polygon fill=\"#383838\" points=\"146.13,400.82,143.0249,391.4734,142.7624,397.1242,137.1116,396.8616,146.13,400.82\" style=\"stroke: #383838; stroke-width: 1.0;\"/><text fill=\"#000000\" font-family=\"sans-serif\" font-size=\"13\" lengthAdjust=\"spacingAndGlyphs\" textLength=\"40\" x=\"77\" y=\"307.0669\">[false]</text></a><!--MD5=[9120cf2e5df3bff93db8f754bbbc09b4]\n",
       "link E5 to E6--><a href=\"psysml:b49ece63-4bda-4eac-a48b-66e19b9bdab7\" target=\"_top\" title=\"psysml:b49ece63-4bda-4eac-a48b-66e19b9bdab7\" xlink:actuate=\"onRequest\" xlink:href=\"psysml:b49ece63-4bda-4eac-a48b-66e19b9bdab7\" xlink:show=\"new\" xlink:title=\"psysml:b49ece63-4bda-4eac-a48b-66e19b9bdab7\" xlink:type=\"simple\"><path d=\"M165,324.05 C165,343.9 165,374.02 165,395.52 \" fill=\"none\" id=\"E5-&gt;E6\" style=\"stroke: #383838; stroke-width: 1.0;\"/><polygon fill=\"#383838\" points=\"165,400.79,169,391.79,165,395.79,161,391.79,165,400.79\" style=\"stroke: #383838; stroke-width: 1.0;\"/><text fill=\"#000000\" font-family=\"sans-serif\" font-size=\"13\" lengthAdjust=\"spacingAndGlyphs\" textLength=\"55\" x=\"166\" y=\"367.0669\">[x == 0]</text></a><!--MD5=[28cfe910bb8442f389f1abcc392caef7]\n",
       "@startuml\r\n",
       "skinparam linetype polyline\r\n",
       "skinparam monochrome true\r\n",
       "skinparam classbackgroundcolor white\r\n",
       "skinparam shadowing false\r\n",
       "skinparam wrapWidth 300\r\n",
       "hide circle\r\n",
       "\r\n",
       "rec def \"DecisionTest\" as E1  <<(T,blue)action def>> [[psysml:3be07126-877a-4309-8447-1e285ef81f95 ]] {\r\n",
       "portout \"$result\" as E2  [[psysml:9348992a-eef4-478a-99a3-8679640e907b ]] \r\n",
       "choice \"test x\" as E3  [[psysml:68020b6f-ffe7-4b5f-b810-1edcbdd08af0 ]] \r\n",
       "choice \"noname\" as E4  [[psysml:c53ed86d-7fd9-4daa-81a5-a3aaa8a48fdd ]] \r\n",
       "rec usage \"A1\" as E5  <<(T,blue)action>> [[psysml:0f40ea9b-adac-4a33-8b1a-34d15e55e3d2 ]] {\r\n",
       "}\r\n",
       "\r\n",
       "rec usage \"A2\" as E6  <<(T,blue)action>> [[psysml:128661ee-6ef6-488f-adc9-4acba814b00a ]] {\r\n",
       "}\r\n",
       "\r\n",
       "rec usage \"A3\" as E7  <<(T,blue)action>> [[psysml:7b9f6d16-7e81-4d0a-aec9-34a5599243af ]] {\r\n",
       "}\r\n",
       "\r\n",
       "rec usage \"A3\" as E8  <<(T,blue)action>> [[psysml:7b9f6d16-7e81-4d0a-aec9-34a5599243af ]] {\r\n",
       "}\r\n",
       "\r\n",
       "}\r\n",
       "\r\n",
       "E3  - -> E5 [[psysml:7286f462-e52e-4ebc-bfea-7701f26f76d2 ]] : [x == 1]\r\n",
       "E3  - -> E6 [[psysml:e748a59f-80ec-4a6b-adc3-e898091fbade ]] : [x > 1]\r\n",
       "E3  - -> E8 [[psysml:c4aa7bb1-7be8-4d3d-94c8-0c3feb0dde03 ]] \r\n",
       "E3 - -> E4 [[psysml:9e59e0cd-e7d6-48f9-8abd-2b6da2cb7bd3 ]] \r\n",
       "E4  - -> E5 [[psysml:7b0b5bc6-fd2d-464d-92f4-1e71099b6f78 ]] : [true]\r\n",
       "E4  - -> E6 [[psysml:2cb1b039-bbb8-4621-9b87-8355478bfab0 ]] : [false]\r\n",
       "E5  - -> E6 [[psysml:b49ece63-4bda-4eac-a48b-66e19b9bdab7 ]] : [x == 0]\r\n",
       "E8  - -> E3 [[psysml:313c2626-617f-4a85-9d7c-c31cb61d9b9e ]] : [x > 0]\r\n",
       "@enduml\r\n",
       "\n",
       "PlantUML version 1.2020.13(Sat Jun 13 12:26:38 UTC 2020)\n",
       "(EPL source distribution)\n",
       "Java Runtime: OpenJDK Runtime Environment\n",
       "JVM: OpenJDK 64-Bit Server VM\n",
       "Default Encoding: UTF-8\n",
       "Language: en\n",
       "Country: null\n",
       "--></g></svg>"
      ]
     },
     "execution_count": 15,
     "metadata": {},
     "output_type": "execute_result"
    }
   ],
   "source": [
    "%viz --style=\"POLYLINE\" --view=\"MIXED\" \"DecisionTest\""
   ]
  },
  {
   "cell_type": "code",
   "execution_count": 16,
   "id": "b26a0989",
   "metadata": {
    "execution": {
     "iopub.execute_input": "2021-05-27T06:09:52.397168Z",
     "iopub.status.busy": "2021-05-27T06:09:52.395881Z",
     "iopub.status.idle": "2021-05-27T06:09:52.461704Z",
     "shell.execute_reply": "2021-05-27T06:09:52.459212Z"
    }
   },
   "outputs": [
    {
     "data": {
      "image/svg+xml": [
       "<?xml version=\"1.0\" encoding=\"UTF-8\" standalone=\"no\"?><svg xmlns=\"http://www.w3.org/2000/svg\" xmlns:xlink=\"http://www.w3.org/1999/xlink\" contentScriptType=\"application/ecmascript\" contentStyleType=\"text/css\" height=\"277px\" preserveAspectRatio=\"none\" style=\"width:797px;height:277px;\" version=\"1.1\" viewBox=\"0 0 797 277\" width=\"797px\" zoomAndPan=\"magnify\"><defs/><g><!--MD5=[fbc87193dbaf4d95561dea2c320d4a47]\n",
       "cluster E1--><a href=\"psysml:3be07126-877a-4309-8447-1e285ef81f95\" target=\"_top\" title=\"psysml:3be07126-877a-4309-8447-1e285ef81f95\" xlink:actuate=\"onRequest\" xlink:href=\"psysml:3be07126-877a-4309-8447-1e285ef81f95\" xlink:show=\"new\" xlink:title=\"psysml:3be07126-877a-4309-8447-1e285ef81f95\" xlink:type=\"simple\"><rect fill=\"#FFFFFF\" height=\"259\" id=\"E1\" style=\"stroke: #383838; stroke-width: 1.5;\" width=\"754.72\" x=\"7\" y=\"7\"/><rect fill=\"#F8F8F8\" height=\"37.9375\" style=\"stroke: #383838; stroke-width: 1.5;\" width=\"754.72\" x=\"7\" y=\"7\"/><text fill=\"#000000\" font-family=\"sans-serif\" font-size=\"12\" font-style=\"italic\" lengthAdjust=\"spacingAndGlyphs\" textLength=\"77\" x=\"345.86\" y=\"23.1387\">«action def»</text><text fill=\"#000000\" font-family=\"sans-serif\" font-size=\"12\" lengthAdjust=\"spacingAndGlyphs\" textLength=\"80\" x=\"344.36\" y=\"37.1074\">DecisionTest</text></a><text fill=\"#000000\" font-family=\"sans-serif\" font-size=\"14\" lengthAdjust=\"spacingAndGlyphs\" textLength=\"48\" x=\"737.72\" y=\"115.6982\">$result</text><rect fill=\"#383838\" height=\"12\" style=\"stroke: #F8F8F8; stroke-width: 1.5;\" width=\"12\" x=\"755.72\" y=\"131\"/><polygon fill=\"#F8F8F8\" points=\"82,94,94,106,82,118,70,106,82,94\" style=\"stroke: #383838; stroke-width: 1.5;\"/><polygon fill=\"#F8F8F8\" points=\"291,226,303,238,291,250,279,238,291,226\" style=\"stroke: #383838; stroke-width: 1.5;\"/><g id=\"E1.E5\"><a href=\"psysml:0f40ea9b-adac-4a33-8b1a-34d15e55e3d2\" target=\"_top\" title=\"psysml:0f40ea9b-adac-4a33-8b1a-34d15e55e3d2\" xlink:actuate=\"onRequest\" xlink:href=\"psysml:0f40ea9b-adac-4a33-8b1a-34d15e55e3d2\" xlink:show=\"new\" xlink:title=\"psysml:0f40ea9b-adac-4a33-8b1a-34d15e55e3d2\" xlink:type=\"simple\"><rect fill=\"#FFFFFF\" height=\"42.9375\" id=\"E5\" rx=\"10\" ry=\"10\" style=\"stroke: #383838; stroke-width: 1.5;\" width=\"60\" x=\"427\" y=\"119.5\"/><rect fill=\"#F8F8F8\" height=\"37.9375\" rx=\"10\" ry=\"10\" style=\"stroke: #F8F8F8; stroke-width: 1.5;\" width=\"60\" x=\"427\" y=\"119.5\"/><rect fill=\"#F8F8F8\" height=\"10\" style=\"stroke: #F8F8F8; stroke-width: 1.5;\" width=\"60\" x=\"427\" y=\"147.4375\"/><rect fill=\"none\" height=\"42.9375\" id=\"E5\" rx=\"10\" ry=\"10\" style=\"stroke: #383838; stroke-width: 1.5;\" width=\"60\" x=\"427\" y=\"119.5\"/><text fill=\"#000000\" font-family=\"sans-serif\" font-size=\"12\" font-style=\"italic\" lengthAdjust=\"spacingAndGlyphs\" textLength=\"53\" x=\"430.5\" y=\"135.6387\">«action»</text><text fill=\"#000000\" font-family=\"sans-serif\" font-size=\"12\" lengthAdjust=\"spacingAndGlyphs\" textLength=\"16\" x=\"449\" y=\"149.6074\">A1</text></a></g><g id=\"E1.E6\"><a href=\"psysml:128661ee-6ef6-488f-adc9-4acba814b00a\" target=\"_top\" title=\"psysml:128661ee-6ef6-488f-adc9-4acba814b00a\" xlink:actuate=\"onRequest\" xlink:href=\"psysml:128661ee-6ef6-488f-adc9-4acba814b00a\" xlink:show=\"new\" xlink:title=\"psysml:128661ee-6ef6-488f-adc9-4acba814b00a\" xlink:type=\"simple\"><rect fill=\"#FFFFFF\" height=\"42.9375\" id=\"E6\" rx=\"10\" ry=\"10\" style=\"stroke: #383838; stroke-width: 1.5;\" width=\"60\" x=\"604\" y=\"119.5\"/><rect fill=\"#F8F8F8\" height=\"37.9375\" rx=\"10\" ry=\"10\" style=\"stroke: #F8F8F8; stroke-width: 1.5;\" width=\"60\" x=\"604\" y=\"119.5\"/><rect fill=\"#F8F8F8\" height=\"10\" style=\"stroke: #F8F8F8; stroke-width: 1.5;\" width=\"60\" x=\"604\" y=\"147.4375\"/><rect fill=\"none\" height=\"42.9375\" id=\"E6\" rx=\"10\" ry=\"10\" style=\"stroke: #383838; stroke-width: 1.5;\" width=\"60\" x=\"604\" y=\"119.5\"/><text fill=\"#000000\" font-family=\"sans-serif\" font-size=\"12\" font-style=\"italic\" lengthAdjust=\"spacingAndGlyphs\" textLength=\"53\" x=\"607.5\" y=\"135.6387\">«action»</text><text fill=\"#000000\" font-family=\"sans-serif\" font-size=\"12\" lengthAdjust=\"spacingAndGlyphs\" textLength=\"16\" x=\"626\" y=\"149.6074\">A2</text></a></g><g id=\"E1.E7\"><a href=\"psysml:7b9f6d16-7e81-4d0a-aec9-34a5599243af\" target=\"_top\" title=\"psysml:7b9f6d16-7e81-4d0a-aec9-34a5599243af\" xlink:actuate=\"onRequest\" xlink:href=\"psysml:7b9f6d16-7e81-4d0a-aec9-34a5599243af\" xlink:show=\"new\" xlink:title=\"psysml:7b9f6d16-7e81-4d0a-aec9-34a5599243af\" xlink:type=\"simple\"><rect fill=\"#FFFFFF\" height=\"42.9375\" id=\"E7\" rx=\"10\" ry=\"10\" style=\"stroke: #383838; stroke-width: 1.5;\" width=\"60\" x=\"171\" y=\"175.5\"/><rect fill=\"#F8F8F8\" height=\"37.9375\" rx=\"10\" ry=\"10\" style=\"stroke: #F8F8F8; stroke-width: 1.5;\" width=\"60\" x=\"171\" y=\"175.5\"/><rect fill=\"#F8F8F8\" height=\"10\" style=\"stroke: #F8F8F8; stroke-width: 1.5;\" width=\"60\" x=\"171\" y=\"203.4375\"/><rect fill=\"none\" height=\"42.9375\" id=\"E7\" rx=\"10\" ry=\"10\" style=\"stroke: #383838; stroke-width: 1.5;\" width=\"60\" x=\"171\" y=\"175.5\"/><text fill=\"#000000\" font-family=\"sans-serif\" font-size=\"12\" font-style=\"italic\" lengthAdjust=\"spacingAndGlyphs\" textLength=\"53\" x=\"174.5\" y=\"191.6387\">«action»</text><text fill=\"#000000\" font-family=\"sans-serif\" font-size=\"12\" lengthAdjust=\"spacingAndGlyphs\" textLength=\"16\" x=\"193\" y=\"205.6074\">A3</text></a></g><g id=\"E1.E8\"><a href=\"psysml:7b9f6d16-7e81-4d0a-aec9-34a5599243af\" target=\"_top\" title=\"psysml:7b9f6d16-7e81-4d0a-aec9-34a5599243af\" xlink:actuate=\"onRequest\" xlink:href=\"psysml:7b9f6d16-7e81-4d0a-aec9-34a5599243af\" xlink:show=\"new\" xlink:title=\"psysml:7b9f6d16-7e81-4d0a-aec9-34a5599243af\" xlink:type=\"simple\"><rect fill=\"#FFFFFF\" height=\"42.9375\" id=\"E8\" rx=\"10\" ry=\"10\" style=\"stroke: #383838; stroke-width: 1.5;\" width=\"60\" x=\"261\" y=\"23.5\"/><rect fill=\"#F8F8F8\" height=\"37.9375\" rx=\"10\" ry=\"10\" style=\"stroke: #F8F8F8; stroke-width: 1.5;\" width=\"60\" x=\"261\" y=\"23.5\"/><rect fill=\"#F8F8F8\" height=\"10\" style=\"stroke: #F8F8F8; stroke-width: 1.5;\" width=\"60\" x=\"261\" y=\"51.4375\"/><rect fill=\"none\" height=\"42.9375\" id=\"E8\" rx=\"10\" ry=\"10\" style=\"stroke: #383838; stroke-width: 1.5;\" width=\"60\" x=\"261\" y=\"23.5\"/><text fill=\"#000000\" font-family=\"sans-serif\" font-size=\"12\" font-style=\"italic\" lengthAdjust=\"spacingAndGlyphs\" textLength=\"53\" x=\"264.5\" y=\"39.6387\">«action»</text><text fill=\"#000000\" font-family=\"sans-serif\" font-size=\"12\" lengthAdjust=\"spacingAndGlyphs\" textLength=\"16\" x=\"283\" y=\"53.6074\">A3</text></a></g><!--MD5=[0188b64bb0ae78505a997a81836e11e9]\n",
       "link E3 to E5--><a href=\"psysml:7286f462-e52e-4ebc-bfea-7701f26f76d2\" target=\"_top\" title=\"psysml:7286f462-e52e-4ebc-bfea-7701f26f76d2\" xlink:actuate=\"onRequest\" xlink:href=\"psysml:7286f462-e52e-4ebc-bfea-7701f26f76d2\" xlink:show=\"new\" xlink:title=\"psysml:7286f462-e52e-4ebc-bfea-7701f26f76d2\" xlink:type=\"simple\"><path d=\"M92.63,107.42 C119.32,111.32 196.53,122.33 261,129 C300.91,133.13 310.96,133.49 351,136 C374.51,137.47 401,138.73 421.49,139.62 \" fill=\"none\" id=\"E3-&gt;E5\" style=\"stroke: #383838; stroke-width: 1.0;\"/><polygon fill=\"#383838\" points=\"426.57,139.84,417.7495,135.4583,421.5746,139.6259,417.407,143.451,426.57,139.84\" style=\"stroke: #383838; stroke-width: 1.0;\"/><text fill=\"#000000\" font-family=\"sans-serif\" font-size=\"13\" lengthAdjust=\"spacingAndGlyphs\" textLength=\"55\" x=\"263.5\" y=\"125.0669\">[x == 1]</text></a><!--MD5=[ec9844e0c75763426927cad3229d1081]\n",
       "link E3 to E6--><a href=\"psysml:e748a59f-80ec-4a6b-adc3-e898091fbade\" target=\"_top\" title=\"psysml:e748a59f-80ec-4a6b-adc3-e898091fbade\" xlink:actuate=\"onRequest\" xlink:href=\"psysml:e748a59f-80ec-4a6b-adc3-e898091fbade\" xlink:show=\"new\" xlink:title=\"psysml:e748a59f-80ec-4a6b-adc3-e898091fbade\" xlink:type=\"simple\"><path d=\"M93.32,105.22 C139.39,101.88 330.73,89.51 487,102 C526.04,105.12 536.36,105.17 574,116 C582.23,118.37 590.85,121.58 598.88,124.9 \" fill=\"none\" id=\"E3-&gt;E6\" style=\"stroke: #383838; stroke-width: 1.0;\"/><polygon fill=\"#383838\" points=\"603.79,126.98,597.0555,119.7935,599.184,125.0346,593.9428,127.1631,603.79,126.98\" style=\"stroke: #383838; stroke-width: 1.0;\"/><text fill=\"#000000\" font-family=\"sans-serif\" font-size=\"13\" lengthAdjust=\"spacingAndGlyphs\" textLength=\"44\" x=\"352\" y=\"93.0669\">[x &gt; 1]</text></a><!--MD5=[ca5a752d6098d8a44b3f88316e7452d1]\n",
       "link E3 to E8--><a href=\"psysml:c4aa7bb1-7be8-4d3d-94c8-0c3feb0dde03\" target=\"_top\" title=\"psysml:c4aa7bb1-7be8-4d3d-94c8-0c3feb0dde03\" xlink:actuate=\"onRequest\" xlink:href=\"psysml:c4aa7bb1-7be8-4d3d-94c8-0c3feb0dde03\" xlink:show=\"new\" xlink:title=\"psysml:c4aa7bb1-7be8-4d3d-94c8-0c3feb0dde03\" xlink:type=\"simple\"><path d=\"M93.49,105.27 C125.14,103.04 218.3,96.1 231,91 C243.02,86.18 254.64,78.13 264.33,70.1 \" fill=\"none\" id=\"E3-&gt;E8\" style=\"stroke: #383838; stroke-width: 1.0;\"/><polygon fill=\"#383838\" points=\"268.36,66.67,258.9123,69.4521,264.5507,69.9087,264.0941,75.5471,268.36,66.67\" style=\"stroke: #383838; stroke-width: 1.0;\"/></a><!--MD5=[95fa686b5a16158bcdbcaeead89f639b]\n",
       "link E8 to E3--><a href=\"psysml:313c2626-617f-4a85-9d7c-c31cb61d9b9e\" target=\"_top\" title=\"psysml:313c2626-617f-4a85-9d7c-c31cb61d9b9e\" xlink:actuate=\"onRequest\" xlink:href=\"psysml:313c2626-617f-4a85-9d7c-c31cb61d9b9e\" xlink:show=\"new\" xlink:title=\"psysml:313c2626-617f-4a85-9d7c-c31cb61d9b9e\" xlink:type=\"simple\"><path d=\"M260.77,53.61 C215.33,67 129.54,92.28 96.47,102.03 \" fill=\"none\" id=\"E8-&gt;E3\" style=\"stroke: #383838; stroke-width: 1.0;\"/><polygon fill=\"#383838\" points=\"91.63,103.46,101.3936,104.7532,96.4261,102.0469,99.1325,97.0794,91.63,103.46\" style=\"stroke: #383838; stroke-width: 1.0;\"/><text fill=\"#000000\" font-family=\"sans-serif\" font-size=\"13\" lengthAdjust=\"spacingAndGlyphs\" textLength=\"44\" x=\"179\" y=\"60.0669\">[x &gt; 0]</text></a><!--MD5=[af87c684e3b0d8be13c1a698a818ef1e]\n",
       "link E3 to E4--><a href=\"psysml:9e59e0cd-e7d6-48f9-8abd-2b6da2cb7bd3\" target=\"_top\" title=\"psysml:9e59e0cd-e7d6-48f9-8abd-2b6da2cb7bd3\" xlink:actuate=\"onRequest\" xlink:href=\"psysml:9e59e0cd-e7d6-48f9-8abd-2b6da2cb7bd3\" xlink:show=\"new\" xlink:title=\"psysml:9e59e0cd-e7d6-48f9-8abd-2b6da2cb7bd3\" xlink:type=\"simple\"><path d=\"M86.04,114.02 C95.02,136.5 123.81,200.16 171,227 C204.39,245.99 251.73,243.27 275.38,240.3 \" fill=\"none\" id=\"E3-&gt;E4\" style=\"stroke: #383838; stroke-width: 1.0;\"/><polygon fill=\"#383838\" points=\"280.59,239.6,271.1346,236.8442,275.6352,240.2711,272.2083,244.7718,280.59,239.6\" style=\"stroke: #383838; stroke-width: 1.0;\"/></a><!--MD5=[1b7591eae5389033d8d09a9d6721a717]\n",
       "link E4 to E5--><a href=\"psysml:7b0b5bc6-fd2d-464d-92f4-1e71099b6f78\" target=\"_top\" title=\"psysml:7b0b5bc6-fd2d-464d-92f4-1e71099b6f78\" xlink:actuate=\"onRequest\" xlink:href=\"psysml:7b0b5bc6-fd2d-464d-92f4-1e71099b6f78\" xlink:show=\"new\" xlink:title=\"psysml:7b0b5bc6-fd2d-464d-92f4-1e71099b6f78\" xlink:type=\"simple\"><path d=\"M299.5,234.12 C316.88,225.07 361.19,201.68 397,180 C405.33,174.96 414.16,169.29 422.39,163.88 \" fill=\"none\" id=\"E4-&gt;E5\" style=\"stroke: #383838; stroke-width: 1.0;\"/><polygon fill=\"#383838\" points=\"426.88,160.91,417.1688,162.551,422.7132,163.6736,421.5905,169.2179,426.88,160.91\" style=\"stroke: #383838; stroke-width: 1.0;\"/><text fill=\"#000000\" font-family=\"sans-serif\" font-size=\"13\" lengthAdjust=\"spacingAndGlyphs\" textLength=\"36\" x=\"356\" y=\"176.0669\">[true]</text></a><!--MD5=[79568f1e445c3877b6a54524624ccc7d]\n",
       "link E4 to E6--><a href=\"psysml:2cb1b039-bbb8-4621-9b87-8355478bfab0\" target=\"_top\" title=\"psysml:2cb1b039-bbb8-4621-9b87-8355478bfab0\" xlink:actuate=\"onRequest\" xlink:href=\"psysml:2cb1b039-bbb8-4621-9b87-8355478bfab0\" xlink:show=\"new\" xlink:title=\"psysml:2cb1b039-bbb8-4621-9b87-8355478bfab0\" xlink:type=\"simple\"><path d=\"M301.88,236.49 C330.74,231.97 417.32,217.55 487,197 C526.14,185.46 569.65,168.17 598.9,155.85 \" fill=\"none\" id=\"E4-&gt;E6\" style=\"stroke: #383838; stroke-width: 1.0;\"/><polygon fill=\"#383838\" points=\"603.83,153.77,593.9831,153.576,599.2218,155.7103,597.0875,160.9491,603.83,153.77\" style=\"stroke: #383838; stroke-width: 1.0;\"/><text fill=\"#000000\" font-family=\"sans-serif\" font-size=\"13\" lengthAdjust=\"spacingAndGlyphs\" textLength=\"40\" x=\"437\" y=\"193.0669\">[false]</text></a><!--MD5=[9120cf2e5df3bff93db8f754bbbc09b4]\n",
       "link E5 to E6--><a href=\"psysml:b49ece63-4bda-4eac-a48b-66e19b9bdab7\" target=\"_top\" title=\"psysml:b49ece63-4bda-4eac-a48b-66e19b9bdab7\" xlink:actuate=\"onRequest\" xlink:href=\"psysml:b49ece63-4bda-4eac-a48b-66e19b9bdab7\" xlink:show=\"new\" xlink:title=\"psysml:b49ece63-4bda-4eac-a48b-66e19b9bdab7\" xlink:type=\"simple\"><path d=\"M487.29,141 C518.05,141 566.36,141 598.83,141 \" fill=\"none\" id=\"E5-&gt;E6\" style=\"stroke: #383838; stroke-width: 1.0;\"/><polygon fill=\"#383838\" points=\"603.91,141,594.91,137,598.91,141,594.91,145,603.91,141\" style=\"stroke: #383838; stroke-width: 1.0;\"/><text fill=\"#000000\" font-family=\"sans-serif\" font-size=\"13\" lengthAdjust=\"spacingAndGlyphs\" textLength=\"55\" x=\"518\" y=\"137.0669\">[x == 0]</text></a><!--MD5=[e4713045db444727e9f672e5742b8fba]\n",
       "@startuml\r\n",
       "left to right direction\r\n",
       "skinparam monochrome true\r\n",
       "skinparam classbackgroundcolor white\r\n",
       "skinparam shadowing false\r\n",
       "skinparam wrapWidth 300\r\n",
       "hide circle\r\n",
       "\r\n",
       "rec def \"DecisionTest\" as E1  <<(T,blue)action def>> [[psysml:3be07126-877a-4309-8447-1e285ef81f95 ]] {\r\n",
       "portout \"$result\" as E2  [[psysml:9348992a-eef4-478a-99a3-8679640e907b ]] \r\n",
       "choice \"test x\" as E3  [[psysml:68020b6f-ffe7-4b5f-b810-1edcbdd08af0 ]] \r\n",
       "choice \"noname\" as E4  [[psysml:c53ed86d-7fd9-4daa-81a5-a3aaa8a48fdd ]] \r\n",
       "rec usage \"A1\" as E5  <<(T,blue)action>> [[psysml:0f40ea9b-adac-4a33-8b1a-34d15e55e3d2 ]] {\r\n",
       "}\r\n",
       "\r\n",
       "rec usage \"A2\" as E6  <<(T,blue)action>> [[psysml:128661ee-6ef6-488f-adc9-4acba814b00a ]] {\r\n",
       "}\r\n",
       "\r\n",
       "rec usage \"A3\" as E7  <<(T,blue)action>> [[psysml:7b9f6d16-7e81-4d0a-aec9-34a5599243af ]] {\r\n",
       "}\r\n",
       "\r\n",
       "rec usage \"A3\" as E8  <<(T,blue)action>> [[psysml:7b9f6d16-7e81-4d0a-aec9-34a5599243af ]] {\r\n",
       "}\r\n",
       "\r\n",
       "}\r\n",
       "\r\n",
       "E3  - -> E5 [[psysml:7286f462-e52e-4ebc-bfea-7701f26f76d2 ]] : [x == 1]\r\n",
       "E3  - -> E6 [[psysml:e748a59f-80ec-4a6b-adc3-e898091fbade ]] : [x > 1]\r\n",
       "E3  - -> E8 [[psysml:c4aa7bb1-7be8-4d3d-94c8-0c3feb0dde03 ]] \r\n",
       "E3 - -> E4 [[psysml:9e59e0cd-e7d6-48f9-8abd-2b6da2cb7bd3 ]] \r\n",
       "E4  - -> E5 [[psysml:7b0b5bc6-fd2d-464d-92f4-1e71099b6f78 ]] : [true]\r\n",
       "E4  - -> E6 [[psysml:2cb1b039-bbb8-4621-9b87-8355478bfab0 ]] : [false]\r\n",
       "E5  - -> E6 [[psysml:b49ece63-4bda-4eac-a48b-66e19b9bdab7 ]] : [x == 0]\r\n",
       "E8  - -> E3 [[psysml:313c2626-617f-4a85-9d7c-c31cb61d9b9e ]] : [x > 0]\r\n",
       "@enduml\r\n",
       "\n",
       "PlantUML version 1.2020.13(Sat Jun 13 12:26:38 UTC 2020)\n",
       "(EPL source distribution)\n",
       "Java Runtime: OpenJDK Runtime Environment\n",
       "JVM: OpenJDK 64-Bit Server VM\n",
       "Default Encoding: UTF-8\n",
       "Language: en\n",
       "Country: null\n",
       "--></g></svg>"
      ]
     },
     "execution_count": 16,
     "metadata": {},
     "output_type": "execute_result"
    }
   ],
   "source": [
    "%viz --style=\"LR\" --view=\"Default\" \"DecisionTest\""
   ]
  },
  {
   "cell_type": "code",
   "execution_count": 17,
   "id": "773b8397",
   "metadata": {
    "execution": {
     "iopub.execute_input": "2021-05-27T06:09:52.513501Z",
     "iopub.status.busy": "2021-05-27T06:09:52.512333Z",
     "iopub.status.idle": "2021-05-27T06:09:52.586573Z",
     "shell.execute_reply": "2021-05-27T06:09:52.585841Z"
    }
   },
   "outputs": [
    {
     "data": {
      "image/svg+xml": [
       "<?xml version=\"1.0\" encoding=\"UTF-8\" standalone=\"no\"?><svg xmlns=\"http://www.w3.org/2000/svg\" xmlns:xlink=\"http://www.w3.org/1999/xlink\" contentScriptType=\"application/ecmascript\" contentStyleType=\"text/css\" height=\"207px\" preserveAspectRatio=\"none\" style=\"width:109px;height:207px;\" version=\"1.1\" viewBox=\"0 0 109 207\" width=\"109px\" zoomAndPan=\"magnify\"><defs/><g><!--MD5=[43c9051892ef23e1a46a86907403d788]\n",
       "class E1--><a href=\"psysml:3be07126-877a-4309-8447-1e285ef81f95\" target=\"_top\" title=\"psysml:3be07126-877a-4309-8447-1e285ef81f95\" xlink:actuate=\"onRequest\" xlink:href=\"psysml:3be07126-877a-4309-8447-1e285ef81f95\" xlink:show=\"new\" xlink:title=\"psysml:3be07126-877a-4309-8447-1e285ef81f95\" xlink:type=\"simple\"><rect fill=\"#FFFFFF\" height=\"189.9844\" id=\"E1\" style=\"stroke: #383838; stroke-width: 1.5;\" width=\"91\" x=\"7\" y=\"7\"/><text fill=\"#000000\" font-family=\"sans-serif\" font-size=\"12\" font-style=\"italic\" lengthAdjust=\"spacingAndGlyphs\" textLength=\"77\" x=\"14\" y=\"23.1387\">«action def»</text><text fill=\"#000000\" font-family=\"sans-serif\" font-size=\"12\" lengthAdjust=\"spacingAndGlyphs\" textLength=\"80\" x=\"12.5\" y=\"37.1074\">DecisionTest</text><line style=\"stroke: #383838; stroke-width: 1.5;\" x1=\"8\" x2=\"97\" y1=\"44.9375\" y2=\"44.9375\"/><text fill=\"#000000\" font-family=\"sans-serif\" font-size=\"11\" lengthAdjust=\"spacingAndGlyphs\" textLength=\"26\" x=\"13\" y=\"75.9526\">x=1;</text><line style=\"stroke: #383838; stroke-width: 1.0;\" x1=\"8\" x2=\"25\" y1=\"59.3398\" y2=\"59.3398\"/><text fill=\"#000000\" font-family=\"sans-serif\" font-size=\"11\" lengthAdjust=\"spacingAndGlyphs\" textLength=\"55\" x=\"25\" y=\"62.6479\">attributes</text><line style=\"stroke: #383838; stroke-width: 1.0;\" x1=\"80\" x2=\"97\" y1=\"59.3398\" y2=\"59.3398\"/><text fill=\"#000000\" font-family=\"sans-serif\" font-size=\"11\" lengthAdjust=\"spacingAndGlyphs\" textLength=\"14\" x=\"13\" y=\"105.562\">A1</text><text fill=\"#000000\" font-family=\"sans-serif\" font-size=\"11\" lengthAdjust=\"spacingAndGlyphs\" textLength=\"14\" x=\"13\" y=\"118.3667\">A2</text><text fill=\"#000000\" font-family=\"sans-serif\" font-size=\"11\" lengthAdjust=\"spacingAndGlyphs\" textLength=\"14\" x=\"13\" y=\"131.1714\">A3</text><line style=\"stroke: #383838; stroke-width: 1.0;\" x1=\"8\" x2=\"32\" y1=\"88.9492\" y2=\"88.9492\"/><text fill=\"#000000\" font-family=\"sans-serif\" font-size=\"11\" lengthAdjust=\"spacingAndGlyphs\" textLength=\"41\" x=\"32\" y=\"92.2573\">actions</text><line style=\"stroke: #383838; stroke-width: 1.0;\" x1=\"73\" x2=\"97\" y1=\"88.9492\" y2=\"88.9492\"/><text fill=\"#000000\" font-family=\"sans-serif\" font-size=\"11\" lengthAdjust=\"spacingAndGlyphs\" textLength=\"32\" x=\"13\" y=\"160.7808\">test x</text><line style=\"stroke: #383838; stroke-width: 1.0;\" x1=\"8\" x2=\"11\" y1=\"144.168\" y2=\"144.168\"/><text fill=\"#000000\" font-family=\"sans-serif\" font-size=\"11\" lengthAdjust=\"spacingAndGlyphs\" textLength=\"83\" x=\"11\" y=\"147.4761\">decisionNodes</text><line style=\"stroke: #383838; stroke-width: 1.0;\" x1=\"94\" x2=\"97\" y1=\"144.168\" y2=\"144.168\"/><text fill=\"#000000\" font-family=\"sans-serif\" font-size=\"11\" lengthAdjust=\"spacingAndGlyphs\" textLength=\"8\" x=\"13\" y=\"190.3901\">S</text><line style=\"stroke: #383838; stroke-width: 1.0;\" x1=\"8\" x2=\"22\" y1=\"173.7773\" y2=\"173.7773\"/><text fill=\"#000000\" font-family=\"sans-serif\" font-size=\"11\" lengthAdjust=\"spacingAndGlyphs\" textLength=\"61\" x=\"22\" y=\"177.0854\">transitions</text><line style=\"stroke: #383838; stroke-width: 1.0;\" x1=\"83\" x2=\"97\" y1=\"173.7773\" y2=\"173.7773\"/></a><!--MD5=[40acb2bfd9ab8835550a73108ca0d9ce]\n",
       "@startuml\r\n",
       "left to right direction\r\n",
       "skinparam monochrome true\r\n",
       "skinparam classbackgroundcolor white\r\n",
       "skinparam shadowing false\r\n",
       "skinparam wrapWidth 300\r\n",
       "hide circle\r\n",
       "\r\n",
       "comp def \"DecisionTest\" as E1  <<(T,blue)action def>> [[psysml:3be07126-877a-4309-8447-1e285ef81f95 ]] {\r\n",
       "- - attributes - -\r\n",
       "x=1; \r\n",
       "- - actions - -\r\n",
       "A1\r\n",
       "A2\r\n",
       "A3\r\n",
       "- - decisionNodes - -\r\n",
       "test x\r\n",
       "- - transitions - -\r\n",
       "S\r\n",
       "}\r\n",
       "@enduml\r\n",
       "\n",
       "PlantUML version 1.2020.13(Sat Jun 13 12:26:38 UTC 2020)\n",
       "(EPL source distribution)\n",
       "Java Runtime: OpenJDK Runtime Environment\n",
       "JVM: OpenJDK 64-Bit Server VM\n",
       "Default Encoding: UTF-8\n",
       "Language: en\n",
       "Country: null\n",
       "--></g></svg>"
      ]
     },
     "execution_count": 17,
     "metadata": {},
     "output_type": "execute_result"
    }
   ],
   "source": [
    "%viz --style=\"LR\" --view=\"Tree\" \"DecisionTest\""
   ]
  },
  {
   "cell_type": "code",
   "execution_count": 18,
   "id": "7235cfd4",
   "metadata": {
    "execution": {
     "iopub.execute_input": "2021-05-27T06:09:52.639473Z",
     "iopub.status.busy": "2021-05-27T06:09:52.638904Z",
     "iopub.status.idle": "2021-05-27T06:09:52.645612Z",
     "shell.execute_reply": "2021-05-27T06:09:52.645153Z"
    }
   },
   "outputs": [
    {
     "data": {
      "image/svg+xml": [
       "<?xml version=\"1.0\" encoding=\"UTF-8\" standalone=\"no\"?><svg xmlns=\"http://www.w3.org/2000/svg\" xmlns:xlink=\"http://www.w3.org/1999/xlink\" contentScriptType=\"application/ecmascript\" contentStyleType=\"text/css\" height=\"12px\" preserveAspectRatio=\"none\" style=\"width:12px;height:12px;\" version=\"1.1\" viewBox=\"0 0 12 12\" width=\"12px\" zoomAndPan=\"magnify\"><defs/><g><!--MD5=[19d285c9d72a204eba4e2cd117d745e8]\n",
       "@startuml\r\n",
       "left to right direction\r\n",
       "skinparam monochrome true\r\n",
       "skinparam classbackgroundcolor white\r\n",
       "skinparam shadowing false\r\n",
       "skinparam wrapWidth 300\r\n",
       "hide circle\r\n",
       "\r\n",
       "@enduml\r\n",
       "\n",
       "PlantUML version 1.2020.13(Sat Jun 13 12:26:38 UTC 2020)\n",
       "(EPL source distribution)\n",
       "Java Runtime: OpenJDK Runtime Environment\n",
       "JVM: OpenJDK 64-Bit Server VM\n",
       "Default Encoding: UTF-8\n",
       "Language: en\n",
       "Country: null\n",
       "--></g></svg>"
      ]
     },
     "execution_count": 18,
     "metadata": {},
     "output_type": "execute_result"
    }
   ],
   "source": [
    "%viz --style=\"LR\" --view=\"State\" \"DecisionTest\""
   ]
  },
  {
   "cell_type": "code",
   "execution_count": 19,
   "id": "a881ca4d",
   "metadata": {
    "execution": {
     "iopub.execute_input": "2021-05-27T06:09:52.697750Z",
     "iopub.status.busy": "2021-05-27T06:09:52.697206Z",
     "iopub.status.idle": "2021-05-27T06:09:52.734569Z",
     "shell.execute_reply": "2021-05-27T06:09:52.733218Z"
    }
   },
   "outputs": [
    {
     "data": {
      "image/svg+xml": [
       "<?xml version=\"1.0\" encoding=\"UTF-8\" standalone=\"no\"?><svg xmlns=\"http://www.w3.org/2000/svg\" xmlns:xlink=\"http://www.w3.org/1999/xlink\" contentScriptType=\"application/ecmascript\" contentStyleType=\"text/css\" height=\"277px\" preserveAspectRatio=\"none\" style=\"width:607px;height:277px;\" version=\"1.1\" viewBox=\"0 0 607 277\" width=\"607px\" zoomAndPan=\"magnify\"><defs/><g><!--MD5=[fbc87193dbaf4d95561dea2c320d4a47]\n",
       "cluster E1--><a href=\"psysml:3be07126-877a-4309-8447-1e285ef81f95\" target=\"_top\" title=\"psysml:3be07126-877a-4309-8447-1e285ef81f95\" xlink:actuate=\"onRequest\" xlink:href=\"psysml:3be07126-877a-4309-8447-1e285ef81f95\" xlink:show=\"new\" xlink:title=\"psysml:3be07126-877a-4309-8447-1e285ef81f95\" xlink:type=\"simple\"><rect fill=\"#FFFFFF\" height=\"259\" id=\"E1\" style=\"stroke: #383838; stroke-width: 1.5;\" width=\"564.72\" x=\"7\" y=\"7\"/><rect fill=\"#F8F8F8\" height=\"37.9375\" style=\"stroke: #383838; stroke-width: 1.5;\" width=\"564.72\" x=\"7\" y=\"7\"/><text fill=\"#000000\" font-family=\"sans-serif\" font-size=\"12\" font-style=\"italic\" lengthAdjust=\"spacingAndGlyphs\" textLength=\"77\" x=\"250.86\" y=\"23.1387\">«action def»</text><text fill=\"#000000\" font-family=\"sans-serif\" font-size=\"12\" lengthAdjust=\"spacingAndGlyphs\" textLength=\"80\" x=\"249.36\" y=\"37.1074\">DecisionTest</text></a><text fill=\"#000000\" font-family=\"sans-serif\" font-size=\"14\" lengthAdjust=\"spacingAndGlyphs\" textLength=\"48\" x=\"547.72\" y=\"115.6982\">$result</text><rect fill=\"#383838\" height=\"12\" style=\"stroke: #F8F8F8; stroke-width: 1.5;\" width=\"12\" x=\"565.72\" y=\"131\"/><polygon fill=\"#F8F8F8\" points=\"82,94,94,106,82,118,70,106,82,94\" style=\"stroke: #383838; stroke-width: 1.5;\"/><polygon fill=\"#F8F8F8\" points=\"247,226,259,238,247,250,235,238,247,226\" style=\"stroke: #383838; stroke-width: 1.5;\"/><g id=\"E1.E5\"><a href=\"psysml:0f40ea9b-adac-4a33-8b1a-34d15e55e3d2\" target=\"_top\" title=\"psysml:0f40ea9b-adac-4a33-8b1a-34d15e55e3d2\" xlink:actuate=\"onRequest\" xlink:href=\"psysml:0f40ea9b-adac-4a33-8b1a-34d15e55e3d2\" xlink:show=\"new\" xlink:title=\"psysml:0f40ea9b-adac-4a33-8b1a-34d15e55e3d2\" xlink:type=\"simple\"><rect fill=\"#FFFFFF\" height=\"42.9375\" id=\"E5\" rx=\"10\" ry=\"10\" style=\"stroke: #383838; stroke-width: 1.5;\" width=\"60\" x=\"339\" y=\"119.5\"/><rect fill=\"#F8F8F8\" height=\"37.9375\" rx=\"10\" ry=\"10\" style=\"stroke: #F8F8F8; stroke-width: 1.5;\" width=\"60\" x=\"339\" y=\"119.5\"/><rect fill=\"#F8F8F8\" height=\"10\" style=\"stroke: #F8F8F8; stroke-width: 1.5;\" width=\"60\" x=\"339\" y=\"147.4375\"/><rect fill=\"none\" height=\"42.9375\" id=\"E5\" rx=\"10\" ry=\"10\" style=\"stroke: #383838; stroke-width: 1.5;\" width=\"60\" x=\"339\" y=\"119.5\"/><text fill=\"#000000\" font-family=\"sans-serif\" font-size=\"12\" font-style=\"italic\" lengthAdjust=\"spacingAndGlyphs\" textLength=\"53\" x=\"342.5\" y=\"135.6387\">«action»</text><text fill=\"#000000\" font-family=\"sans-serif\" font-size=\"12\" lengthAdjust=\"spacingAndGlyphs\" textLength=\"16\" x=\"361\" y=\"149.6074\">A1</text></a></g><g id=\"E1.E6\"><a href=\"psysml:128661ee-6ef6-488f-adc9-4acba814b00a\" target=\"_top\" title=\"psysml:128661ee-6ef6-488f-adc9-4acba814b00a\" xlink:actuate=\"onRequest\" xlink:href=\"psysml:128661ee-6ef6-488f-adc9-4acba814b00a\" xlink:show=\"new\" xlink:title=\"psysml:128661ee-6ef6-488f-adc9-4acba814b00a\" xlink:type=\"simple\"><rect fill=\"#FFFFFF\" height=\"42.9375\" id=\"E6\" rx=\"10\" ry=\"10\" style=\"stroke: #383838; stroke-width: 1.5;\" width=\"60\" x=\"472\" y=\"119.5\"/><rect fill=\"#F8F8F8\" height=\"37.9375\" rx=\"10\" ry=\"10\" style=\"stroke: #F8F8F8; stroke-width: 1.5;\" width=\"60\" x=\"472\" y=\"119.5\"/><rect fill=\"#F8F8F8\" height=\"10\" style=\"stroke: #F8F8F8; stroke-width: 1.5;\" width=\"60\" x=\"472\" y=\"147.4375\"/><rect fill=\"none\" height=\"42.9375\" id=\"E6\" rx=\"10\" ry=\"10\" style=\"stroke: #383838; stroke-width: 1.5;\" width=\"60\" x=\"472\" y=\"119.5\"/><text fill=\"#000000\" font-family=\"sans-serif\" font-size=\"12\" font-style=\"italic\" lengthAdjust=\"spacingAndGlyphs\" textLength=\"53\" x=\"475.5\" y=\"135.6387\">«action»</text><text fill=\"#000000\" font-family=\"sans-serif\" font-size=\"12\" lengthAdjust=\"spacingAndGlyphs\" textLength=\"16\" x=\"494\" y=\"149.6074\">A2</text></a></g><g id=\"E1.E7\"><a href=\"psysml:7b9f6d16-7e81-4d0a-aec9-34a5599243af\" target=\"_top\" title=\"psysml:7b9f6d16-7e81-4d0a-aec9-34a5599243af\" xlink:actuate=\"onRequest\" xlink:href=\"psysml:7b9f6d16-7e81-4d0a-aec9-34a5599243af\" xlink:show=\"new\" xlink:title=\"psysml:7b9f6d16-7e81-4d0a-aec9-34a5599243af\" xlink:type=\"simple\"><rect fill=\"#FFFFFF\" height=\"42.9375\" id=\"E7\" rx=\"10\" ry=\"10\" style=\"stroke: #383838; stroke-width: 1.5;\" width=\"60\" x=\"149\" y=\"175.5\"/><rect fill=\"#F8F8F8\" height=\"37.9375\" rx=\"10\" ry=\"10\" style=\"stroke: #F8F8F8; stroke-width: 1.5;\" width=\"60\" x=\"149\" y=\"175.5\"/><rect fill=\"#F8F8F8\" height=\"10\" style=\"stroke: #F8F8F8; stroke-width: 1.5;\" width=\"60\" x=\"149\" y=\"203.4375\"/><rect fill=\"none\" height=\"42.9375\" id=\"E7\" rx=\"10\" ry=\"10\" style=\"stroke: #383838; stroke-width: 1.5;\" width=\"60\" x=\"149\" y=\"175.5\"/><text fill=\"#000000\" font-family=\"sans-serif\" font-size=\"12\" font-style=\"italic\" lengthAdjust=\"spacingAndGlyphs\" textLength=\"53\" x=\"152.5\" y=\"191.6387\">«action»</text><text fill=\"#000000\" font-family=\"sans-serif\" font-size=\"12\" lengthAdjust=\"spacingAndGlyphs\" textLength=\"16\" x=\"171\" y=\"205.6074\">A3</text></a></g><g id=\"E1.E8\"><a href=\"psysml:7b9f6d16-7e81-4d0a-aec9-34a5599243af\" target=\"_top\" title=\"psysml:7b9f6d16-7e81-4d0a-aec9-34a5599243af\" xlink:actuate=\"onRequest\" xlink:href=\"psysml:7b9f6d16-7e81-4d0a-aec9-34a5599243af\" xlink:show=\"new\" xlink:title=\"psysml:7b9f6d16-7e81-4d0a-aec9-34a5599243af\" xlink:type=\"simple\"><rect fill=\"#FFFFFF\" height=\"42.9375\" id=\"E8\" rx=\"10\" ry=\"10\" style=\"stroke: #383838; stroke-width: 1.5;\" width=\"60\" x=\"217\" y=\"23.5\"/><rect fill=\"#F8F8F8\" height=\"37.9375\" rx=\"10\" ry=\"10\" style=\"stroke: #F8F8F8; stroke-width: 1.5;\" width=\"60\" x=\"217\" y=\"23.5\"/><rect fill=\"#F8F8F8\" height=\"10\" style=\"stroke: #F8F8F8; stroke-width: 1.5;\" width=\"60\" x=\"217\" y=\"51.4375\"/><rect fill=\"none\" height=\"42.9375\" id=\"E8\" rx=\"10\" ry=\"10\" style=\"stroke: #383838; stroke-width: 1.5;\" width=\"60\" x=\"217\" y=\"23.5\"/><text fill=\"#000000\" font-family=\"sans-serif\" font-size=\"12\" font-style=\"italic\" lengthAdjust=\"spacingAndGlyphs\" textLength=\"53\" x=\"220.5\" y=\"39.6387\">«action»</text><text fill=\"#000000\" font-family=\"sans-serif\" font-size=\"12\" lengthAdjust=\"spacingAndGlyphs\" textLength=\"16\" x=\"239\" y=\"53.6074\">A3</text></a></g><!--MD5=[0188b64bb0ae78505a997a81836e11e9]\n",
       "link E3 to E5--><a href=\"psysml:7286f462-e52e-4ebc-bfea-7701f26f76d2\" target=\"_top\" title=\"psysml:7286f462-e52e-4ebc-bfea-7701f26f76d2\" xlink:actuate=\"onRequest\" xlink:href=\"psysml:7286f462-e52e-4ebc-bfea-7701f26f76d2\" xlink:show=\"new\" xlink:title=\"psysml:7286f462-e52e-4ebc-bfea-7701f26f76d2\" xlink:type=\"simple\"><path d=\"M92.39,107.84 C114.2,112.05 170,122.55 217,129 C247.1,133.13 254.72,133.53 285,136 C300.89,137.3 318.52,138.4 333.42,139.25 \" fill=\"none\" id=\"E3-&gt;E5\" style=\"stroke: #383838; stroke-width: 1.0;\"/><polygon fill=\"#383838\" points=\"338.79,139.54,330.0208,135.0567,333.7974,139.2682,329.5859,143.0448,338.79,139.54\" style=\"stroke: #383838; stroke-width: 1.0;\"/><text fill=\"#000000\" font-family=\"sans-serif\" font-size=\"13\" lengthAdjust=\"spacingAndGlyphs\" textLength=\"55\" x=\"219.5\" y=\"125.0669\">[x == 1]</text></a><!--MD5=[ec9844e0c75763426927cad3229d1081]\n",
       "link E3 to E6--><a href=\"psysml:e748a59f-80ec-4a6b-adc3-e898091fbade\" target=\"_top\" title=\"psysml:e748a59f-80ec-4a6b-adc3-e898091fbade\" xlink:actuate=\"onRequest\" xlink:href=\"psysml:e748a59f-80ec-4a6b-adc3-e898091fbade\" xlink:show=\"new\" xlink:title=\"psysml:e748a59f-80ec-4a6b-adc3-e898091fbade\" xlink:type=\"simple\"><path d=\"M93.71,105.52 C141.79,103.44 337.9,95.49 399,102 C428.39,105.13 436.82,104.41 464,116 C464.96,116.41 465.93,116.85 466.89,117.31 \" fill=\"none\" id=\"E3-&gt;E6\" style=\"stroke: #383838; stroke-width: 1.0;\"/><polygon fill=\"#383838\" points=\"471.68,119.77,465.5069,112.0958,467.2339,117.4826,461.8471,119.2096,471.68,119.77\" style=\"stroke: #383838; stroke-width: 1.0;\"/><text fill=\"#000000\" font-family=\"sans-serif\" font-size=\"13\" lengthAdjust=\"spacingAndGlyphs\" textLength=\"44\" x=\"286\" y=\"96.0669\">[x &gt; 1]</text></a><!--MD5=[ca5a752d6098d8a44b3f88316e7452d1]\n",
       "link E3 to E8--><a href=\"psysml:c4aa7bb1-7be8-4d3d-94c8-0c3feb0dde03\" target=\"_top\" title=\"psysml:c4aa7bb1-7be8-4d3d-94c8-0c3feb0dde03\" xlink:actuate=\"onRequest\" xlink:href=\"psysml:c4aa7bb1-7be8-4d3d-94c8-0c3feb0dde03\" xlink:show=\"new\" xlink:title=\"psysml:c4aa7bb1-7be8-4d3d-94c8-0c3feb0dde03\" xlink:type=\"simple\"><path d=\"M93.57,105.2 C122.06,102.98 198.98,96.55 209,91 C217.62,86.22 224.99,78.54 230.83,70.81 \" fill=\"none\" id=\"E3-&gt;E8\" style=\"stroke: #383838; stroke-width: 1.0;\"/><polygon fill=\"#383838\" points=\"233.91,66.53,225.4107,71.5061,230.993,70.5909,231.9081,76.1733,233.91,66.53\" style=\"stroke: #383838; stroke-width: 1.0;\"/></a><!--MD5=[95fa686b5a16158bcdbcaeead89f639b]\n",
       "link E8 to E3--><a href=\"psysml:313c2626-617f-4a85-9d7c-c31cb61d9b9e\" target=\"_top\" title=\"psysml:313c2626-617f-4a85-9d7c-c31cb61d9b9e\" xlink:actuate=\"onRequest\" xlink:href=\"psysml:313c2626-617f-4a85-9d7c-c31cb61d9b9e\" xlink:show=\"new\" xlink:title=\"psysml:313c2626-617f-4a85-9d7c-c31cb61d9b9e\" xlink:type=\"simple\"><path d=\"M216.62,58.8 C214.06,59.91 211.49,61 209,62 C168.64,78.27 119.69,94.35 96.47,101.76 \" fill=\"none\" id=\"E8-&gt;E3\" style=\"stroke: #383838; stroke-width: 1.0;\"/><polygon fill=\"#383838\" points=\"91.66,103.29,101.4493,104.3717,96.4244,101.7734,99.0227,96.7486,91.66,103.29\" style=\"stroke: #383838; stroke-width: 1.0;\"/><text fill=\"#000000\" font-family=\"sans-serif\" font-size=\"13\" lengthAdjust=\"spacingAndGlyphs\" textLength=\"44\" x=\"157\" y=\"58.0669\">[x &gt; 0]</text></a><!--MD5=[af87c684e3b0d8be13c1a698a818ef1e]\n",
       "link E3 to E4--><a href=\"psysml:9e59e0cd-e7d6-48f9-8abd-2b6da2cb7bd3\" target=\"_top\" title=\"psysml:9e59e0cd-e7d6-48f9-8abd-2b6da2cb7bd3\" xlink:actuate=\"onRequest\" xlink:href=\"psysml:9e59e0cd-e7d6-48f9-8abd-2b6da2cb7bd3\" xlink:show=\"new\" xlink:title=\"psysml:9e59e0cd-e7d6-48f9-8abd-2b6da2cb7bd3\" xlink:type=\"simple\"><path d=\"M84.97,115.23 C90.46,138.5 108.3,199.62 149,227 C174.04,243.85 211.18,242.58 231.47,240.25 \" fill=\"none\" id=\"E3-&gt;E4\" style=\"stroke: #383838; stroke-width: 1.0;\"/><polygon fill=\"#383838\" points=\"236.49,239.61,227.0583,236.7739,231.5297,240.239,228.0647,244.7104,236.49,239.61\" style=\"stroke: #383838; stroke-width: 1.0;\"/></a><!--MD5=[1b7591eae5389033d8d09a9d6721a717]\n",
       "link E4 to E5--><a href=\"psysml:7b0b5bc6-fd2d-464d-92f4-1e71099b6f78\" target=\"_top\" title=\"psysml:7b0b5bc6-fd2d-464d-92f4-1e71099b6f78\" xlink:actuate=\"onRequest\" xlink:href=\"psysml:7b0b5bc6-fd2d-464d-92f4-1e71099b6f78\" xlink:show=\"new\" xlink:title=\"psysml:7b0b5bc6-fd2d-464d-92f4-1e71099b6f78\" xlink:type=\"simple\"><path d=\"M255.24,233.64 C270.11,224.54 304.89,202.48 331,180 C335.75,175.91 340.56,171.28 345.06,166.67 \" fill=\"none\" id=\"E4-&gt;E5\" style=\"stroke: #383838; stroke-width: 1.0;\"/><polygon fill=\"#383838\" points=\"348.77,162.83,339.6434,166.5321,345.2993,166.4292,345.4022,172.0851,348.77,162.83\" style=\"stroke: #383838; stroke-width: 1.0;\"/><text fill=\"#000000\" font-family=\"sans-serif\" font-size=\"13\" lengthAdjust=\"spacingAndGlyphs\" textLength=\"36\" x=\"290\" y=\"176.0669\">[true]</text></a><!--MD5=[79568f1e445c3877b6a54524624ccc7d]\n",
       "link E4 to E6--><a href=\"psysml:2cb1b039-bbb8-4621-9b87-8355478bfab0\" target=\"_top\" title=\"psysml:2cb1b039-bbb8-4621-9b87-8355478bfab0\" xlink:actuate=\"onRequest\" xlink:href=\"psysml:2cb1b039-bbb8-4621-9b87-8355478bfab0\" xlink:show=\"new\" xlink:title=\"psysml:2cb1b039-bbb8-4621-9b87-8355478bfab0\" xlink:type=\"simple\"><path d=\"M257.44,236.25 C281.6,231.6 347.36,217.84 399,197 C422.69,187.44 447.86,173.66 467.27,162.17 \" fill=\"none\" id=\"E4-&gt;E6\" style=\"stroke: #383838; stroke-width: 1.0;\"/><polygon fill=\"#383838\" points=\"471.57,159.6,461.7917,160.7765,467.2762,162.1619,465.8908,167.6465,471.57,159.6\" style=\"stroke: #383838; stroke-width: 1.0;\"/><text fill=\"#000000\" font-family=\"sans-serif\" font-size=\"13\" lengthAdjust=\"spacingAndGlyphs\" textLength=\"40\" x=\"349\" y=\"193.0669\">[false]</text></a><!--MD5=[9120cf2e5df3bff93db8f754bbbc09b4]\n",
       "link E5 to E6--><a href=\"psysml:b49ece63-4bda-4eac-a48b-66e19b9bdab7\" target=\"_top\" title=\"psysml:b49ece63-4bda-4eac-a48b-66e19b9bdab7\" xlink:actuate=\"onRequest\" xlink:href=\"psysml:b49ece63-4bda-4eac-a48b-66e19b9bdab7\" xlink:show=\"new\" xlink:title=\"psysml:b49ece63-4bda-4eac-a48b-66e19b9bdab7\" xlink:type=\"simple\"><path d=\"M399.07,141 C418.95,141 445.38,141 466.35,141 \" fill=\"none\" id=\"E5-&gt;E6\" style=\"stroke: #383838; stroke-width: 1.0;\"/><polygon fill=\"#383838\" points=\"471.56,141,462.56,137,466.56,141,462.56,145,471.56,141\" style=\"stroke: #383838; stroke-width: 1.0;\"/><text fill=\"#000000\" font-family=\"sans-serif\" font-size=\"13\" lengthAdjust=\"spacingAndGlyphs\" textLength=\"55\" x=\"408\" y=\"137.0669\">[x == 0]</text></a><!--MD5=[86bc6dd626f08276348e99f0aaf06973]\n",
       "@startuml\r\n",
       "skinparam ranksep 10\r\n",
       "skinparam rectangle {\r\n",
       " backgroundColor<<block>> LightGreen\r\n",
       "}\r\n",
       "left to right direction\r\n",
       "skinparam monochrome true\r\n",
       "skinparam classbackgroundcolor white\r\n",
       "skinparam shadowing false\r\n",
       "skinparam wrapWidth 300\r\n",
       "hide circle\r\n",
       "\r\n",
       "rec def \"DecisionTest\" as E1  <<(T,blue)action def>> [[psysml:3be07126-877a-4309-8447-1e285ef81f95 ]] {\r\n",
       "portout \"$result\" as E2  [[psysml:9348992a-eef4-478a-99a3-8679640e907b ]] \r\n",
       "choice \"test x\" as E3  [[psysml:68020b6f-ffe7-4b5f-b810-1edcbdd08af0 ]] \r\n",
       "choice \"noname\" as E4  [[psysml:c53ed86d-7fd9-4daa-81a5-a3aaa8a48fdd ]] \r\n",
       "rec usage \"A1\" as E5  <<(T,blue)action>> [[psysml:0f40ea9b-adac-4a33-8b1a-34d15e55e3d2 ]] {\r\n",
       "}\r\n",
       "\r\n",
       "rec usage \"A2\" as E6  <<(T,blue)action>> [[psysml:128661ee-6ef6-488f-adc9-4acba814b00a ]] {\r\n",
       "}\r\n",
       "\r\n",
       "rec usage \"A3\" as E7  <<(T,blue)action>> [[psysml:7b9f6d16-7e81-4d0a-aec9-34a5599243af ]] {\r\n",
       "}\r\n",
       "\r\n",
       "rec usage \"A3\" as E8  <<(T,blue)action>> [[psysml:7b9f6d16-7e81-4d0a-aec9-34a5599243af ]] {\r\n",
       "}\r\n",
       "\r\n",
       "}\r\n",
       "\r\n",
       "E3  - -> E5 [[psysml:7286f462-e52e-4ebc-bfea-7701f26f76d2 ]] : [x == 1]\r\n",
       "E3  - -> E6 [[psysml:e748a59f-80ec-4a6b-adc3-e898091fbade ]] : [x > 1]\r\n",
       "E3  - -> E8 [[psysml:c4aa7bb1-7be8-4d3d-94c8-0c3feb0dde03 ]] \r\n",
       "E3 - -> E4 [[psysml:9e59e0cd-e7d6-48f9-8abd-2b6da2cb7bd3 ]] \r\n",
       "E4  - -> E5 [[psysml:7b0b5bc6-fd2d-464d-92f4-1e71099b6f78 ]] : [true]\r\n",
       "E4  - -> E6 [[psysml:2cb1b039-bbb8-4621-9b87-8355478bfab0 ]] : [false]\r\n",
       "E5  - -> E6 [[psysml:b49ece63-4bda-4eac-a48b-66e19b9bdab7 ]] : [x == 0]\r\n",
       "E8  - -> E3 [[psysml:313c2626-617f-4a85-9d7c-c31cb61d9b9e ]] : [x > 0]\r\n",
       "@enduml\r\n",
       "\n",
       "PlantUML version 1.2020.13(Sat Jun 13 12:26:38 UTC 2020)\n",
       "(EPL source distribution)\n",
       "Java Runtime: OpenJDK Runtime Environment\n",
       "JVM: OpenJDK 64-Bit Server VM\n",
       "Default Encoding: UTF-8\n",
       "Language: en\n",
       "Country: null\n",
       "--></g></svg>"
      ]
     },
     "execution_count": 19,
     "metadata": {},
     "output_type": "execute_result"
    }
   ],
   "source": [
    "%viz --style=\"LR\" --view=\"Interconnection\" \"DecisionTest\""
   ]
  },
  {
   "cell_type": "code",
   "execution_count": 20,
   "id": "22910bf9",
   "metadata": {
    "execution": {
     "iopub.execute_input": "2021-05-27T06:09:52.786615Z",
     "iopub.status.busy": "2021-05-27T06:09:52.785871Z",
     "iopub.status.idle": "2021-05-27T06:09:52.823652Z",
     "shell.execute_reply": "2021-05-27T06:09:52.822227Z"
    }
   },
   "outputs": [
    {
     "data": {
      "image/svg+xml": [
       "<?xml version=\"1.0\" encoding=\"UTF-8\" standalone=\"no\"?><svg xmlns=\"http://www.w3.org/2000/svg\" xmlns:xlink=\"http://www.w3.org/1999/xlink\" contentScriptType=\"application/ecmascript\" contentStyleType=\"text/css\" height=\"277px\" preserveAspectRatio=\"none\" style=\"width:607px;height:277px;\" version=\"1.1\" viewBox=\"0 0 607 277\" width=\"607px\" zoomAndPan=\"magnify\"><defs/><g><!--MD5=[fbc87193dbaf4d95561dea2c320d4a47]\n",
       "cluster E1--><a href=\"psysml:3be07126-877a-4309-8447-1e285ef81f95\" target=\"_top\" title=\"psysml:3be07126-877a-4309-8447-1e285ef81f95\" xlink:actuate=\"onRequest\" xlink:href=\"psysml:3be07126-877a-4309-8447-1e285ef81f95\" xlink:show=\"new\" xlink:title=\"psysml:3be07126-877a-4309-8447-1e285ef81f95\" xlink:type=\"simple\"><rect fill=\"#FFFFFF\" height=\"259\" id=\"E1\" style=\"stroke: #383838; stroke-width: 1.5;\" width=\"564.72\" x=\"7\" y=\"7\"/><rect fill=\"#F8F8F8\" height=\"37.9375\" style=\"stroke: #383838; stroke-width: 1.5;\" width=\"564.72\" x=\"7\" y=\"7\"/><text fill=\"#000000\" font-family=\"sans-serif\" font-size=\"12\" font-style=\"italic\" lengthAdjust=\"spacingAndGlyphs\" textLength=\"77\" x=\"250.86\" y=\"23.1387\">«action def»</text><text fill=\"#000000\" font-family=\"sans-serif\" font-size=\"12\" lengthAdjust=\"spacingAndGlyphs\" textLength=\"80\" x=\"249.36\" y=\"37.1074\">DecisionTest</text></a><text fill=\"#000000\" font-family=\"sans-serif\" font-size=\"14\" lengthAdjust=\"spacingAndGlyphs\" textLength=\"48\" x=\"547.72\" y=\"115.6982\">$result</text><rect fill=\"#383838\" height=\"12\" style=\"stroke: #F8F8F8; stroke-width: 1.5;\" width=\"12\" x=\"565.72\" y=\"131\"/><polygon fill=\"#F8F8F8\" points=\"82,94,94,106,82,118,70,106,82,94\" style=\"stroke: #383838; stroke-width: 1.5;\"/><polygon fill=\"#F8F8F8\" points=\"247,226,259,238,247,250,235,238,247,226\" style=\"stroke: #383838; stroke-width: 1.5;\"/><g id=\"E1.E5\"><a href=\"psysml:0f40ea9b-adac-4a33-8b1a-34d15e55e3d2\" target=\"_top\" title=\"psysml:0f40ea9b-adac-4a33-8b1a-34d15e55e3d2\" xlink:actuate=\"onRequest\" xlink:href=\"psysml:0f40ea9b-adac-4a33-8b1a-34d15e55e3d2\" xlink:show=\"new\" xlink:title=\"psysml:0f40ea9b-adac-4a33-8b1a-34d15e55e3d2\" xlink:type=\"simple\"><rect fill=\"#FFFFFF\" height=\"42.9375\" id=\"E5\" rx=\"10\" ry=\"10\" style=\"stroke: #383838; stroke-width: 1.5;\" width=\"60\" x=\"339\" y=\"119.5\"/><rect fill=\"#F8F8F8\" height=\"37.9375\" rx=\"10\" ry=\"10\" style=\"stroke: #F8F8F8; stroke-width: 1.5;\" width=\"60\" x=\"339\" y=\"119.5\"/><rect fill=\"#F8F8F8\" height=\"10\" style=\"stroke: #F8F8F8; stroke-width: 1.5;\" width=\"60\" x=\"339\" y=\"147.4375\"/><rect fill=\"none\" height=\"42.9375\" id=\"E5\" rx=\"10\" ry=\"10\" style=\"stroke: #383838; stroke-width: 1.5;\" width=\"60\" x=\"339\" y=\"119.5\"/><text fill=\"#000000\" font-family=\"sans-serif\" font-size=\"12\" font-style=\"italic\" lengthAdjust=\"spacingAndGlyphs\" textLength=\"53\" x=\"342.5\" y=\"135.6387\">«action»</text><text fill=\"#000000\" font-family=\"sans-serif\" font-size=\"12\" lengthAdjust=\"spacingAndGlyphs\" textLength=\"16\" x=\"361\" y=\"149.6074\">A1</text></a></g><g id=\"E1.E6\"><a href=\"psysml:128661ee-6ef6-488f-adc9-4acba814b00a\" target=\"_top\" title=\"psysml:128661ee-6ef6-488f-adc9-4acba814b00a\" xlink:actuate=\"onRequest\" xlink:href=\"psysml:128661ee-6ef6-488f-adc9-4acba814b00a\" xlink:show=\"new\" xlink:title=\"psysml:128661ee-6ef6-488f-adc9-4acba814b00a\" xlink:type=\"simple\"><rect fill=\"#FFFFFF\" height=\"42.9375\" id=\"E6\" rx=\"10\" ry=\"10\" style=\"stroke: #383838; stroke-width: 1.5;\" width=\"60\" x=\"472\" y=\"119.5\"/><rect fill=\"#F8F8F8\" height=\"37.9375\" rx=\"10\" ry=\"10\" style=\"stroke: #F8F8F8; stroke-width: 1.5;\" width=\"60\" x=\"472\" y=\"119.5\"/><rect fill=\"#F8F8F8\" height=\"10\" style=\"stroke: #F8F8F8; stroke-width: 1.5;\" width=\"60\" x=\"472\" y=\"147.4375\"/><rect fill=\"none\" height=\"42.9375\" id=\"E6\" rx=\"10\" ry=\"10\" style=\"stroke: #383838; stroke-width: 1.5;\" width=\"60\" x=\"472\" y=\"119.5\"/><text fill=\"#000000\" font-family=\"sans-serif\" font-size=\"12\" font-style=\"italic\" lengthAdjust=\"spacingAndGlyphs\" textLength=\"53\" x=\"475.5\" y=\"135.6387\">«action»</text><text fill=\"#000000\" font-family=\"sans-serif\" font-size=\"12\" lengthAdjust=\"spacingAndGlyphs\" textLength=\"16\" x=\"494\" y=\"149.6074\">A2</text></a></g><g id=\"E1.E7\"><a href=\"psysml:7b9f6d16-7e81-4d0a-aec9-34a5599243af\" target=\"_top\" title=\"psysml:7b9f6d16-7e81-4d0a-aec9-34a5599243af\" xlink:actuate=\"onRequest\" xlink:href=\"psysml:7b9f6d16-7e81-4d0a-aec9-34a5599243af\" xlink:show=\"new\" xlink:title=\"psysml:7b9f6d16-7e81-4d0a-aec9-34a5599243af\" xlink:type=\"simple\"><rect fill=\"#FFFFFF\" height=\"42.9375\" id=\"E7\" rx=\"10\" ry=\"10\" style=\"stroke: #383838; stroke-width: 1.5;\" width=\"60\" x=\"149\" y=\"175.5\"/><rect fill=\"#F8F8F8\" height=\"37.9375\" rx=\"10\" ry=\"10\" style=\"stroke: #F8F8F8; stroke-width: 1.5;\" width=\"60\" x=\"149\" y=\"175.5\"/><rect fill=\"#F8F8F8\" height=\"10\" style=\"stroke: #F8F8F8; stroke-width: 1.5;\" width=\"60\" x=\"149\" y=\"203.4375\"/><rect fill=\"none\" height=\"42.9375\" id=\"E7\" rx=\"10\" ry=\"10\" style=\"stroke: #383838; stroke-width: 1.5;\" width=\"60\" x=\"149\" y=\"175.5\"/><text fill=\"#000000\" font-family=\"sans-serif\" font-size=\"12\" font-style=\"italic\" lengthAdjust=\"spacingAndGlyphs\" textLength=\"53\" x=\"152.5\" y=\"191.6387\">«action»</text><text fill=\"#000000\" font-family=\"sans-serif\" font-size=\"12\" lengthAdjust=\"spacingAndGlyphs\" textLength=\"16\" x=\"171\" y=\"205.6074\">A3</text></a></g><g id=\"E1.E8\"><a href=\"psysml:7b9f6d16-7e81-4d0a-aec9-34a5599243af\" target=\"_top\" title=\"psysml:7b9f6d16-7e81-4d0a-aec9-34a5599243af\" xlink:actuate=\"onRequest\" xlink:href=\"psysml:7b9f6d16-7e81-4d0a-aec9-34a5599243af\" xlink:show=\"new\" xlink:title=\"psysml:7b9f6d16-7e81-4d0a-aec9-34a5599243af\" xlink:type=\"simple\"><rect fill=\"#FFFFFF\" height=\"42.9375\" id=\"E8\" rx=\"10\" ry=\"10\" style=\"stroke: #383838; stroke-width: 1.5;\" width=\"60\" x=\"217\" y=\"23.5\"/><rect fill=\"#F8F8F8\" height=\"37.9375\" rx=\"10\" ry=\"10\" style=\"stroke: #F8F8F8; stroke-width: 1.5;\" width=\"60\" x=\"217\" y=\"23.5\"/><rect fill=\"#F8F8F8\" height=\"10\" style=\"stroke: #F8F8F8; stroke-width: 1.5;\" width=\"60\" x=\"217\" y=\"51.4375\"/><rect fill=\"none\" height=\"42.9375\" id=\"E8\" rx=\"10\" ry=\"10\" style=\"stroke: #383838; stroke-width: 1.5;\" width=\"60\" x=\"217\" y=\"23.5\"/><text fill=\"#000000\" font-family=\"sans-serif\" font-size=\"12\" font-style=\"italic\" lengthAdjust=\"spacingAndGlyphs\" textLength=\"53\" x=\"220.5\" y=\"39.6387\">«action»</text><text fill=\"#000000\" font-family=\"sans-serif\" font-size=\"12\" lengthAdjust=\"spacingAndGlyphs\" textLength=\"16\" x=\"239\" y=\"53.6074\">A3</text></a></g><!--MD5=[0188b64bb0ae78505a997a81836e11e9]\n",
       "link E3 to E5--><a href=\"psysml:7286f462-e52e-4ebc-bfea-7701f26f76d2\" target=\"_top\" title=\"psysml:7286f462-e52e-4ebc-bfea-7701f26f76d2\" xlink:actuate=\"onRequest\" xlink:href=\"psysml:7286f462-e52e-4ebc-bfea-7701f26f76d2\" xlink:show=\"new\" xlink:title=\"psysml:7286f462-e52e-4ebc-bfea-7701f26f76d2\" xlink:type=\"simple\"><path d=\"M92.39,107.84 C114.2,112.05 170,122.55 217,129 C247.1,133.13 254.72,133.53 285,136 C300.89,137.3 318.52,138.4 333.42,139.25 \" fill=\"none\" id=\"E3-&gt;E5\" style=\"stroke: #383838; stroke-width: 1.0; stroke-dasharray: 7.0,7.0;\"/><polygon fill=\"#383838\" points=\"338.79,139.54,330.0208,135.0567,333.7974,139.2682,329.5859,143.0448,338.79,139.54\" style=\"stroke: #383838; stroke-width: 1.0;\"/><text fill=\"#000000\" font-family=\"sans-serif\" font-size=\"13\" lengthAdjust=\"spacingAndGlyphs\" textLength=\"55\" x=\"219.5\" y=\"125.0669\">[x == 1]</text></a><!--MD5=[ec9844e0c75763426927cad3229d1081]\n",
       "link E3 to E6--><a href=\"psysml:e748a59f-80ec-4a6b-adc3-e898091fbade\" target=\"_top\" title=\"psysml:e748a59f-80ec-4a6b-adc3-e898091fbade\" xlink:actuate=\"onRequest\" xlink:href=\"psysml:e748a59f-80ec-4a6b-adc3-e898091fbade\" xlink:show=\"new\" xlink:title=\"psysml:e748a59f-80ec-4a6b-adc3-e898091fbade\" xlink:type=\"simple\"><path d=\"M93.71,105.52 C141.79,103.44 337.9,95.49 399,102 C428.39,105.13 436.82,104.41 464,116 C464.96,116.41 465.93,116.85 466.89,117.31 \" fill=\"none\" id=\"E3-&gt;E6\" style=\"stroke: #383838; stroke-width: 1.0; stroke-dasharray: 7.0,7.0;\"/><polygon fill=\"#383838\" points=\"471.68,119.77,465.5069,112.0958,467.2339,117.4826,461.8471,119.2096,471.68,119.77\" style=\"stroke: #383838; stroke-width: 1.0;\"/><text fill=\"#000000\" font-family=\"sans-serif\" font-size=\"13\" lengthAdjust=\"spacingAndGlyphs\" textLength=\"44\" x=\"286\" y=\"96.0669\">[x &gt; 1]</text></a><!--MD5=[ca5a752d6098d8a44b3f88316e7452d1]\n",
       "link E3 to E8--><a href=\"psysml:c4aa7bb1-7be8-4d3d-94c8-0c3feb0dde03\" target=\"_top\" title=\"psysml:c4aa7bb1-7be8-4d3d-94c8-0c3feb0dde03\" xlink:actuate=\"onRequest\" xlink:href=\"psysml:c4aa7bb1-7be8-4d3d-94c8-0c3feb0dde03\" xlink:show=\"new\" xlink:title=\"psysml:c4aa7bb1-7be8-4d3d-94c8-0c3feb0dde03\" xlink:type=\"simple\"><path d=\"M93.57,105.2 C122.06,102.98 198.98,96.55 209,91 C217.62,86.22 224.99,78.54 230.83,70.81 \" fill=\"none\" id=\"E3-&gt;E8\" style=\"stroke: #383838; stroke-width: 1.0; stroke-dasharray: 7.0,7.0;\"/><polygon fill=\"#383838\" points=\"233.91,66.53,225.4107,71.5061,230.993,70.5909,231.9081,76.1733,233.91,66.53\" style=\"stroke: #383838; stroke-width: 1.0;\"/></a><!--MD5=[95fa686b5a16158bcdbcaeead89f639b]\n",
       "link E8 to E3--><a href=\"psysml:313c2626-617f-4a85-9d7c-c31cb61d9b9e\" target=\"_top\" title=\"psysml:313c2626-617f-4a85-9d7c-c31cb61d9b9e\" xlink:actuate=\"onRequest\" xlink:href=\"psysml:313c2626-617f-4a85-9d7c-c31cb61d9b9e\" xlink:show=\"new\" xlink:title=\"psysml:313c2626-617f-4a85-9d7c-c31cb61d9b9e\" xlink:type=\"simple\"><path d=\"M216.62,58.8 C214.06,59.91 211.49,61 209,62 C168.64,78.27 119.69,94.35 96.47,101.76 \" fill=\"none\" id=\"E8-&gt;E3\" style=\"stroke: #383838; stroke-width: 1.0; stroke-dasharray: 7.0,7.0;\"/><polygon fill=\"#383838\" points=\"91.66,103.29,101.4493,104.3717,96.4244,101.7734,99.0227,96.7486,91.66,103.29\" style=\"stroke: #383838; stroke-width: 1.0;\"/><text fill=\"#000000\" font-family=\"sans-serif\" font-size=\"13\" lengthAdjust=\"spacingAndGlyphs\" textLength=\"44\" x=\"157\" y=\"58.0669\">[x &gt; 0]</text></a><!--MD5=[af87c684e3b0d8be13c1a698a818ef1e]\n",
       "link E3 to E4--><a href=\"psysml:9e59e0cd-e7d6-48f9-8abd-2b6da2cb7bd3\" target=\"_top\" title=\"psysml:9e59e0cd-e7d6-48f9-8abd-2b6da2cb7bd3\" xlink:actuate=\"onRequest\" xlink:href=\"psysml:9e59e0cd-e7d6-48f9-8abd-2b6da2cb7bd3\" xlink:show=\"new\" xlink:title=\"psysml:9e59e0cd-e7d6-48f9-8abd-2b6da2cb7bd3\" xlink:type=\"simple\"><path d=\"M84.97,115.23 C90.46,138.5 108.3,199.62 149,227 C174.04,243.85 211.18,242.58 231.47,240.25 \" fill=\"none\" id=\"E3-&gt;E4\" style=\"stroke: #383838; stroke-width: 1.0; stroke-dasharray: 7.0,7.0;\"/><polygon fill=\"#383838\" points=\"236.49,239.61,227.0583,236.7739,231.5297,240.239,228.0647,244.7104,236.49,239.61\" style=\"stroke: #383838; stroke-width: 1.0;\"/></a><!--MD5=[1b7591eae5389033d8d09a9d6721a717]\n",
       "link E4 to E5--><a href=\"psysml:7b0b5bc6-fd2d-464d-92f4-1e71099b6f78\" target=\"_top\" title=\"psysml:7b0b5bc6-fd2d-464d-92f4-1e71099b6f78\" xlink:actuate=\"onRequest\" xlink:href=\"psysml:7b0b5bc6-fd2d-464d-92f4-1e71099b6f78\" xlink:show=\"new\" xlink:title=\"psysml:7b0b5bc6-fd2d-464d-92f4-1e71099b6f78\" xlink:type=\"simple\"><path d=\"M255.24,233.64 C270.11,224.54 304.89,202.48 331,180 C335.75,175.91 340.56,171.28 345.06,166.67 \" fill=\"none\" id=\"E4-&gt;E5\" style=\"stroke: #383838; stroke-width: 1.0; stroke-dasharray: 7.0,7.0;\"/><polygon fill=\"#383838\" points=\"348.77,162.83,339.6434,166.5321,345.2993,166.4292,345.4022,172.0851,348.77,162.83\" style=\"stroke: #383838; stroke-width: 1.0;\"/><text fill=\"#000000\" font-family=\"sans-serif\" font-size=\"13\" lengthAdjust=\"spacingAndGlyphs\" textLength=\"36\" x=\"290\" y=\"176.0669\">[true]</text></a><!--MD5=[79568f1e445c3877b6a54524624ccc7d]\n",
       "link E4 to E6--><a href=\"psysml:2cb1b039-bbb8-4621-9b87-8355478bfab0\" target=\"_top\" title=\"psysml:2cb1b039-bbb8-4621-9b87-8355478bfab0\" xlink:actuate=\"onRequest\" xlink:href=\"psysml:2cb1b039-bbb8-4621-9b87-8355478bfab0\" xlink:show=\"new\" xlink:title=\"psysml:2cb1b039-bbb8-4621-9b87-8355478bfab0\" xlink:type=\"simple\"><path d=\"M257.44,236.25 C281.6,231.6 347.36,217.84 399,197 C422.69,187.44 447.86,173.66 467.27,162.17 \" fill=\"none\" id=\"E4-&gt;E6\" style=\"stroke: #383838; stroke-width: 1.0; stroke-dasharray: 7.0,7.0;\"/><polygon fill=\"#383838\" points=\"471.57,159.6,461.7917,160.7765,467.2762,162.1619,465.8908,167.6465,471.57,159.6\" style=\"stroke: #383838; stroke-width: 1.0;\"/><text fill=\"#000000\" font-family=\"sans-serif\" font-size=\"13\" lengthAdjust=\"spacingAndGlyphs\" textLength=\"40\" x=\"349\" y=\"193.0669\">[false]</text></a><!--MD5=[9120cf2e5df3bff93db8f754bbbc09b4]\n",
       "link E5 to E6--><a href=\"psysml:b49ece63-4bda-4eac-a48b-66e19b9bdab7\" target=\"_top\" title=\"psysml:b49ece63-4bda-4eac-a48b-66e19b9bdab7\" xlink:actuate=\"onRequest\" xlink:href=\"psysml:b49ece63-4bda-4eac-a48b-66e19b9bdab7\" xlink:show=\"new\" xlink:title=\"psysml:b49ece63-4bda-4eac-a48b-66e19b9bdab7\" xlink:type=\"simple\"><path d=\"M399.07,141 C418.95,141 445.38,141 466.35,141 \" fill=\"none\" id=\"E5-&gt;E6\" style=\"stroke: #383838; stroke-width: 1.0; stroke-dasharray: 7.0,7.0;\"/><polygon fill=\"#383838\" points=\"471.56,141,462.56,137,466.56,141,462.56,145,471.56,141\" style=\"stroke: #383838; stroke-width: 1.0;\"/><text fill=\"#000000\" font-family=\"sans-serif\" font-size=\"13\" lengthAdjust=\"spacingAndGlyphs\" textLength=\"55\" x=\"408\" y=\"137.0669\">[x == 0]</text></a><!--MD5=[86d7a281dc9bbfb40d11ed20a01e6f69]\n",
       "@startuml\r\n",
       "skinparam ranksep 8\r\n",
       "left to right direction\r\n",
       "skinparam monochrome true\r\n",
       "skinparam classbackgroundcolor white\r\n",
       "skinparam shadowing false\r\n",
       "skinparam wrapWidth 300\r\n",
       "hide circle\r\n",
       "\r\n",
       "rec def \"DecisionTest\" as E1  <<(T,blue)action def>> [[psysml:3be07126-877a-4309-8447-1e285ef81f95 ]] {\r\n",
       "portout \"$result\" as E2  [[psysml:9348992a-eef4-478a-99a3-8679640e907b ]] \r\n",
       "choice \"test x\" as E3  [[psysml:68020b6f-ffe7-4b5f-b810-1edcbdd08af0 ]] \r\n",
       "choice \"noname\" as E4  [[psysml:c53ed86d-7fd9-4daa-81a5-a3aaa8a48fdd ]] \r\n",
       "rec usage \"A1\" as E5  <<(T,blue)action>> [[psysml:0f40ea9b-adac-4a33-8b1a-34d15e55e3d2 ]] {\r\n",
       "}\r\n",
       "\r\n",
       "rec usage \"A2\" as E6  <<(T,blue)action>> [[psysml:128661ee-6ef6-488f-adc9-4acba814b00a ]] {\r\n",
       "}\r\n",
       "\r\n",
       "rec usage \"A3\" as E7  <<(T,blue)action>> [[psysml:7b9f6d16-7e81-4d0a-aec9-34a5599243af ]] {\r\n",
       "}\r\n",
       "\r\n",
       "rec usage \"A3\" as E8  <<(T,blue)action>> [[psysml:7b9f6d16-7e81-4d0a-aec9-34a5599243af ]] {\r\n",
       "}\r\n",
       "\r\n",
       "}\r\n",
       "\r\n",
       "E3 ..> E5 [[psysml:7286f462-e52e-4ebc-bfea-7701f26f76d2 ]] : [x == 1]\r\n",
       "E3 ..> E6 [[psysml:e748a59f-80ec-4a6b-adc3-e898091fbade ]] : [x > 1]\r\n",
       "E3 ..> E8 [[psysml:c4aa7bb1-7be8-4d3d-94c8-0c3feb0dde03 ]] \r\n",
       "E3 ..> E4 [[psysml:9e59e0cd-e7d6-48f9-8abd-2b6da2cb7bd3 ]] \r\n",
       "E4 ..> E5 [[psysml:7b0b5bc6-fd2d-464d-92f4-1e71099b6f78 ]] : [true]\r\n",
       "E4 ..> E6 [[psysml:2cb1b039-bbb8-4621-9b87-8355478bfab0 ]] : [false]\r\n",
       "E5 ..> E6 [[psysml:b49ece63-4bda-4eac-a48b-66e19b9bdab7 ]] : [x == 0]\r\n",
       "E8 ..> E3 [[psysml:313c2626-617f-4a85-9d7c-c31cb61d9b9e ]] : [x > 0]\r\n",
       "@enduml\r\n",
       "\n",
       "PlantUML version 1.2020.13(Sat Jun 13 12:26:38 UTC 2020)\n",
       "(EPL source distribution)\n",
       "Java Runtime: OpenJDK Runtime Environment\n",
       "JVM: OpenJDK 64-Bit Server VM\n",
       "Default Encoding: UTF-8\n",
       "Language: en\n",
       "Country: null\n",
       "--></g></svg>"
      ]
     },
     "execution_count": 20,
     "metadata": {},
     "output_type": "execute_result"
    }
   ],
   "source": [
    "%viz --style=\"LR\" --view=\"Action\" \"DecisionTest\""
   ]
  },
  {
   "cell_type": "code",
   "execution_count": 21,
   "id": "20ef8929",
   "metadata": {
    "execution": {
     "iopub.execute_input": "2021-05-27T06:09:52.875347Z",
     "iopub.status.busy": "2021-05-27T06:09:52.874832Z",
     "iopub.status.idle": "2021-05-27T06:09:52.942642Z",
     "shell.execute_reply": "2021-05-27T06:09:52.942353Z"
    }
   },
   "outputs": [
    {
     "data": {
      "image/svg+xml": [
       "<?xml version=\"1.0\" encoding=\"UTF-8\" standalone=\"no\"?><svg xmlns=\"http://www.w3.org/2000/svg\" xmlns:xlink=\"http://www.w3.org/1999/xlink\" contentScriptType=\"application/ecmascript\" contentStyleType=\"text/css\" height=\"207px\" preserveAspectRatio=\"none\" style=\"width:109px;height:207px;\" version=\"1.1\" viewBox=\"0 0 109 207\" width=\"109px\" zoomAndPan=\"magnify\"><defs/><g><!--MD5=[43c9051892ef23e1a46a86907403d788]\n",
       "class E1--><a href=\"psysml:3be07126-877a-4309-8447-1e285ef81f95\" target=\"_top\" title=\"psysml:3be07126-877a-4309-8447-1e285ef81f95\" xlink:actuate=\"onRequest\" xlink:href=\"psysml:3be07126-877a-4309-8447-1e285ef81f95\" xlink:show=\"new\" xlink:title=\"psysml:3be07126-877a-4309-8447-1e285ef81f95\" xlink:type=\"simple\"><rect fill=\"#FFFFFF\" height=\"189.9844\" id=\"E1\" style=\"stroke: #383838; stroke-width: 1.5;\" width=\"91\" x=\"7\" y=\"7\"/><text fill=\"#000000\" font-family=\"sans-serif\" font-size=\"12\" font-style=\"italic\" lengthAdjust=\"spacingAndGlyphs\" textLength=\"77\" x=\"14\" y=\"23.1387\">«action def»</text><text fill=\"#000000\" font-family=\"sans-serif\" font-size=\"12\" lengthAdjust=\"spacingAndGlyphs\" textLength=\"80\" x=\"12.5\" y=\"37.1074\">DecisionTest</text><line style=\"stroke: #383838; stroke-width: 1.5;\" x1=\"8\" x2=\"97\" y1=\"44.9375\" y2=\"44.9375\"/><text fill=\"#000000\" font-family=\"sans-serif\" font-size=\"11\" lengthAdjust=\"spacingAndGlyphs\" textLength=\"26\" x=\"13\" y=\"75.9526\">x=1;</text><line style=\"stroke: #383838; stroke-width: 1.0;\" x1=\"8\" x2=\"25\" y1=\"59.3398\" y2=\"59.3398\"/><text fill=\"#000000\" font-family=\"sans-serif\" font-size=\"11\" lengthAdjust=\"spacingAndGlyphs\" textLength=\"55\" x=\"25\" y=\"62.6479\">attributes</text><line style=\"stroke: #383838; stroke-width: 1.0;\" x1=\"80\" x2=\"97\" y1=\"59.3398\" y2=\"59.3398\"/><text fill=\"#000000\" font-family=\"sans-serif\" font-size=\"11\" lengthAdjust=\"spacingAndGlyphs\" textLength=\"14\" x=\"13\" y=\"105.562\">A1</text><text fill=\"#000000\" font-family=\"sans-serif\" font-size=\"11\" lengthAdjust=\"spacingAndGlyphs\" textLength=\"14\" x=\"13\" y=\"118.3667\">A2</text><text fill=\"#000000\" font-family=\"sans-serif\" font-size=\"11\" lengthAdjust=\"spacingAndGlyphs\" textLength=\"14\" x=\"13\" y=\"131.1714\">A3</text><line style=\"stroke: #383838; stroke-width: 1.0;\" x1=\"8\" x2=\"32\" y1=\"88.9492\" y2=\"88.9492\"/><text fill=\"#000000\" font-family=\"sans-serif\" font-size=\"11\" lengthAdjust=\"spacingAndGlyphs\" textLength=\"41\" x=\"32\" y=\"92.2573\">actions</text><line style=\"stroke: #383838; stroke-width: 1.0;\" x1=\"73\" x2=\"97\" y1=\"88.9492\" y2=\"88.9492\"/><text fill=\"#000000\" font-family=\"sans-serif\" font-size=\"11\" lengthAdjust=\"spacingAndGlyphs\" textLength=\"32\" x=\"13\" y=\"160.7808\">test x</text><line style=\"stroke: #383838; stroke-width: 1.0;\" x1=\"8\" x2=\"11\" y1=\"144.168\" y2=\"144.168\"/><text fill=\"#000000\" font-family=\"sans-serif\" font-size=\"11\" lengthAdjust=\"spacingAndGlyphs\" textLength=\"83\" x=\"11\" y=\"147.4761\">decisionNodes</text><line style=\"stroke: #383838; stroke-width: 1.0;\" x1=\"94\" x2=\"97\" y1=\"144.168\" y2=\"144.168\"/><text fill=\"#000000\" font-family=\"sans-serif\" font-size=\"11\" lengthAdjust=\"spacingAndGlyphs\" textLength=\"8\" x=\"13\" y=\"190.3901\">S</text><line style=\"stroke: #383838; stroke-width: 1.0;\" x1=\"8\" x2=\"22\" y1=\"173.7773\" y2=\"173.7773\"/><text fill=\"#000000\" font-family=\"sans-serif\" font-size=\"11\" lengthAdjust=\"spacingAndGlyphs\" textLength=\"61\" x=\"22\" y=\"177.0854\">transitions</text><line style=\"stroke: #383838; stroke-width: 1.0;\" x1=\"83\" x2=\"97\" y1=\"173.7773\" y2=\"173.7773\"/></a><!--MD5=[40acb2bfd9ab8835550a73108ca0d9ce]\n",
       "@startuml\r\n",
       "left to right direction\r\n",
       "skinparam monochrome true\r\n",
       "skinparam classbackgroundcolor white\r\n",
       "skinparam shadowing false\r\n",
       "skinparam wrapWidth 300\r\n",
       "hide circle\r\n",
       "\r\n",
       "comp def \"DecisionTest\" as E1  <<(T,blue)action def>> [[psysml:3be07126-877a-4309-8447-1e285ef81f95 ]] {\r\n",
       "- - attributes - -\r\n",
       "x=1; \r\n",
       "- - actions - -\r\n",
       "A1\r\n",
       "A2\r\n",
       "A3\r\n",
       "- - decisionNodes - -\r\n",
       "test x\r\n",
       "- - transitions - -\r\n",
       "S\r\n",
       "}\r\n",
       "@enduml\r\n",
       "\n",
       "PlantUML version 1.2020.13(Sat Jun 13 12:26:38 UTC 2020)\n",
       "(EPL source distribution)\n",
       "Java Runtime: OpenJDK Runtime Environment\n",
       "JVM: OpenJDK 64-Bit Server VM\n",
       "Default Encoding: UTF-8\n",
       "Language: en\n",
       "Country: null\n",
       "--></g></svg>"
      ]
     },
     "execution_count": 21,
     "metadata": {},
     "output_type": "execute_result"
    }
   ],
   "source": [
    "%viz --style=\"LR\" --view=\"Sequence\" \"DecisionTest\""
   ]
  },
  {
   "cell_type": "code",
   "execution_count": 22,
   "id": "abdfbb41",
   "metadata": {
    "execution": {
     "iopub.execute_input": "2021-05-27T06:09:52.995326Z",
     "iopub.status.busy": "2021-05-27T06:09:52.994866Z",
     "iopub.status.idle": "2021-05-27T06:09:53.036835Z",
     "shell.execute_reply": "2021-05-27T06:09:53.035580Z"
    }
   },
   "outputs": [
    {
     "data": {
      "image/svg+xml": [
       "<?xml version=\"1.0\" encoding=\"UTF-8\" standalone=\"no\"?><svg xmlns=\"http://www.w3.org/2000/svg\" xmlns:xlink=\"http://www.w3.org/1999/xlink\" contentScriptType=\"application/ecmascript\" contentStyleType=\"text/css\" height=\"277px\" preserveAspectRatio=\"none\" style=\"width:797px;height:277px;\" version=\"1.1\" viewBox=\"0 0 797 277\" width=\"797px\" zoomAndPan=\"magnify\"><defs/><g><!--MD5=[fbc87193dbaf4d95561dea2c320d4a47]\n",
       "cluster E1--><a href=\"psysml:3be07126-877a-4309-8447-1e285ef81f95\" target=\"_top\" title=\"psysml:3be07126-877a-4309-8447-1e285ef81f95\" xlink:actuate=\"onRequest\" xlink:href=\"psysml:3be07126-877a-4309-8447-1e285ef81f95\" xlink:show=\"new\" xlink:title=\"psysml:3be07126-877a-4309-8447-1e285ef81f95\" xlink:type=\"simple\"><rect fill=\"#FFFFFF\" height=\"259\" id=\"E1\" style=\"stroke: #383838; stroke-width: 1.5;\" width=\"754.72\" x=\"7\" y=\"7\"/><rect fill=\"#F8F8F8\" height=\"37.9375\" style=\"stroke: #383838; stroke-width: 1.5;\" width=\"754.72\" x=\"7\" y=\"7\"/><text fill=\"#000000\" font-family=\"sans-serif\" font-size=\"12\" font-style=\"italic\" lengthAdjust=\"spacingAndGlyphs\" textLength=\"77\" x=\"345.86\" y=\"23.1387\">«action def»</text><text fill=\"#000000\" font-family=\"sans-serif\" font-size=\"12\" lengthAdjust=\"spacingAndGlyphs\" textLength=\"80\" x=\"344.36\" y=\"37.1074\">DecisionTest</text></a><text fill=\"#000000\" font-family=\"sans-serif\" font-size=\"14\" lengthAdjust=\"spacingAndGlyphs\" textLength=\"48\" x=\"737.72\" y=\"115.6982\">$result</text><rect fill=\"#383838\" height=\"12\" style=\"stroke: #F8F8F8; stroke-width: 1.5;\" width=\"12\" x=\"755.72\" y=\"131\"/><polygon fill=\"#F8F8F8\" points=\"82,94,94,106,82,118,70,106,82,94\" style=\"stroke: #383838; stroke-width: 1.5;\"/><polygon fill=\"#F8F8F8\" points=\"291,226,303,238,291,250,279,238,291,226\" style=\"stroke: #383838; stroke-width: 1.5;\"/><g id=\"E1.E5\"><a href=\"psysml:0f40ea9b-adac-4a33-8b1a-34d15e55e3d2\" target=\"_top\" title=\"psysml:0f40ea9b-adac-4a33-8b1a-34d15e55e3d2\" xlink:actuate=\"onRequest\" xlink:href=\"psysml:0f40ea9b-adac-4a33-8b1a-34d15e55e3d2\" xlink:show=\"new\" xlink:title=\"psysml:0f40ea9b-adac-4a33-8b1a-34d15e55e3d2\" xlink:type=\"simple\"><rect fill=\"#FFFFFF\" height=\"42.9375\" id=\"E5\" rx=\"10\" ry=\"10\" style=\"stroke: #383838; stroke-width: 1.5;\" width=\"60\" x=\"427\" y=\"119.5\"/><rect fill=\"#F8F8F8\" height=\"37.9375\" rx=\"10\" ry=\"10\" style=\"stroke: #F8F8F8; stroke-width: 1.5;\" width=\"60\" x=\"427\" y=\"119.5\"/><rect fill=\"#F8F8F8\" height=\"10\" style=\"stroke: #F8F8F8; stroke-width: 1.5;\" width=\"60\" x=\"427\" y=\"147.4375\"/><rect fill=\"none\" height=\"42.9375\" id=\"E5\" rx=\"10\" ry=\"10\" style=\"stroke: #383838; stroke-width: 1.5;\" width=\"60\" x=\"427\" y=\"119.5\"/><text fill=\"#000000\" font-family=\"sans-serif\" font-size=\"12\" font-style=\"italic\" lengthAdjust=\"spacingAndGlyphs\" textLength=\"53\" x=\"430.5\" y=\"135.6387\">«action»</text><text fill=\"#000000\" font-family=\"sans-serif\" font-size=\"12\" lengthAdjust=\"spacingAndGlyphs\" textLength=\"16\" x=\"449\" y=\"149.6074\">A1</text></a></g><g id=\"E1.E6\"><a href=\"psysml:128661ee-6ef6-488f-adc9-4acba814b00a\" target=\"_top\" title=\"psysml:128661ee-6ef6-488f-adc9-4acba814b00a\" xlink:actuate=\"onRequest\" xlink:href=\"psysml:128661ee-6ef6-488f-adc9-4acba814b00a\" xlink:show=\"new\" xlink:title=\"psysml:128661ee-6ef6-488f-adc9-4acba814b00a\" xlink:type=\"simple\"><rect fill=\"#FFFFFF\" height=\"42.9375\" id=\"E6\" rx=\"10\" ry=\"10\" style=\"stroke: #383838; stroke-width: 1.5;\" width=\"60\" x=\"604\" y=\"119.5\"/><rect fill=\"#F8F8F8\" height=\"37.9375\" rx=\"10\" ry=\"10\" style=\"stroke: #F8F8F8; stroke-width: 1.5;\" width=\"60\" x=\"604\" y=\"119.5\"/><rect fill=\"#F8F8F8\" height=\"10\" style=\"stroke: #F8F8F8; stroke-width: 1.5;\" width=\"60\" x=\"604\" y=\"147.4375\"/><rect fill=\"none\" height=\"42.9375\" id=\"E6\" rx=\"10\" ry=\"10\" style=\"stroke: #383838; stroke-width: 1.5;\" width=\"60\" x=\"604\" y=\"119.5\"/><text fill=\"#000000\" font-family=\"sans-serif\" font-size=\"12\" font-style=\"italic\" lengthAdjust=\"spacingAndGlyphs\" textLength=\"53\" x=\"607.5\" y=\"135.6387\">«action»</text><text fill=\"#000000\" font-family=\"sans-serif\" font-size=\"12\" lengthAdjust=\"spacingAndGlyphs\" textLength=\"16\" x=\"626\" y=\"149.6074\">A2</text></a></g><g id=\"E1.E7\"><a href=\"psysml:7b9f6d16-7e81-4d0a-aec9-34a5599243af\" target=\"_top\" title=\"psysml:7b9f6d16-7e81-4d0a-aec9-34a5599243af\" xlink:actuate=\"onRequest\" xlink:href=\"psysml:7b9f6d16-7e81-4d0a-aec9-34a5599243af\" xlink:show=\"new\" xlink:title=\"psysml:7b9f6d16-7e81-4d0a-aec9-34a5599243af\" xlink:type=\"simple\"><rect fill=\"#FFFFFF\" height=\"42.9375\" id=\"E7\" rx=\"10\" ry=\"10\" style=\"stroke: #383838; stroke-width: 1.5;\" width=\"60\" x=\"171\" y=\"175.5\"/><rect fill=\"#F8F8F8\" height=\"37.9375\" rx=\"10\" ry=\"10\" style=\"stroke: #F8F8F8; stroke-width: 1.5;\" width=\"60\" x=\"171\" y=\"175.5\"/><rect fill=\"#F8F8F8\" height=\"10\" style=\"stroke: #F8F8F8; stroke-width: 1.5;\" width=\"60\" x=\"171\" y=\"203.4375\"/><rect fill=\"none\" height=\"42.9375\" id=\"E7\" rx=\"10\" ry=\"10\" style=\"stroke: #383838; stroke-width: 1.5;\" width=\"60\" x=\"171\" y=\"175.5\"/><text fill=\"#000000\" font-family=\"sans-serif\" font-size=\"12\" font-style=\"italic\" lengthAdjust=\"spacingAndGlyphs\" textLength=\"53\" x=\"174.5\" y=\"191.6387\">«action»</text><text fill=\"#000000\" font-family=\"sans-serif\" font-size=\"12\" lengthAdjust=\"spacingAndGlyphs\" textLength=\"16\" x=\"193\" y=\"205.6074\">A3</text></a></g><g id=\"E1.E8\"><a href=\"psysml:7b9f6d16-7e81-4d0a-aec9-34a5599243af\" target=\"_top\" title=\"psysml:7b9f6d16-7e81-4d0a-aec9-34a5599243af\" xlink:actuate=\"onRequest\" xlink:href=\"psysml:7b9f6d16-7e81-4d0a-aec9-34a5599243af\" xlink:show=\"new\" xlink:title=\"psysml:7b9f6d16-7e81-4d0a-aec9-34a5599243af\" xlink:type=\"simple\"><rect fill=\"#FFFFFF\" height=\"42.9375\" id=\"E8\" rx=\"10\" ry=\"10\" style=\"stroke: #383838; stroke-width: 1.5;\" width=\"60\" x=\"261\" y=\"23.5\"/><rect fill=\"#F8F8F8\" height=\"37.9375\" rx=\"10\" ry=\"10\" style=\"stroke: #F8F8F8; stroke-width: 1.5;\" width=\"60\" x=\"261\" y=\"23.5\"/><rect fill=\"#F8F8F8\" height=\"10\" style=\"stroke: #F8F8F8; stroke-width: 1.5;\" width=\"60\" x=\"261\" y=\"51.4375\"/><rect fill=\"none\" height=\"42.9375\" id=\"E8\" rx=\"10\" ry=\"10\" style=\"stroke: #383838; stroke-width: 1.5;\" width=\"60\" x=\"261\" y=\"23.5\"/><text fill=\"#000000\" font-family=\"sans-serif\" font-size=\"12\" font-style=\"italic\" lengthAdjust=\"spacingAndGlyphs\" textLength=\"53\" x=\"264.5\" y=\"39.6387\">«action»</text><text fill=\"#000000\" font-family=\"sans-serif\" font-size=\"12\" lengthAdjust=\"spacingAndGlyphs\" textLength=\"16\" x=\"283\" y=\"53.6074\">A3</text></a></g><!--MD5=[0188b64bb0ae78505a997a81836e11e9]\n",
       "link E3 to E5--><a href=\"psysml:7286f462-e52e-4ebc-bfea-7701f26f76d2\" target=\"_top\" title=\"psysml:7286f462-e52e-4ebc-bfea-7701f26f76d2\" xlink:actuate=\"onRequest\" xlink:href=\"psysml:7286f462-e52e-4ebc-bfea-7701f26f76d2\" xlink:show=\"new\" xlink:title=\"psysml:7286f462-e52e-4ebc-bfea-7701f26f76d2\" xlink:type=\"simple\"><path d=\"M92.63,107.42 C119.32,111.32 196.53,122.33 261,129 C300.91,133.13 310.96,133.49 351,136 C374.51,137.47 401,138.73 421.49,139.62 \" fill=\"none\" id=\"E3-&gt;E5\" style=\"stroke: #383838; stroke-width: 1.0;\"/><polygon fill=\"#383838\" points=\"426.57,139.84,417.7495,135.4583,421.5746,139.6259,417.407,143.451,426.57,139.84\" style=\"stroke: #383838; stroke-width: 1.0;\"/><text fill=\"#000000\" font-family=\"sans-serif\" font-size=\"13\" lengthAdjust=\"spacingAndGlyphs\" textLength=\"55\" x=\"263.5\" y=\"125.0669\">[x == 1]</text></a><!--MD5=[ec9844e0c75763426927cad3229d1081]\n",
       "link E3 to E6--><a href=\"psysml:e748a59f-80ec-4a6b-adc3-e898091fbade\" target=\"_top\" title=\"psysml:e748a59f-80ec-4a6b-adc3-e898091fbade\" xlink:actuate=\"onRequest\" xlink:href=\"psysml:e748a59f-80ec-4a6b-adc3-e898091fbade\" xlink:show=\"new\" xlink:title=\"psysml:e748a59f-80ec-4a6b-adc3-e898091fbade\" xlink:type=\"simple\"><path d=\"M93.32,105.22 C139.39,101.88 330.73,89.51 487,102 C526.04,105.12 536.36,105.17 574,116 C582.23,118.37 590.85,121.58 598.88,124.9 \" fill=\"none\" id=\"E3-&gt;E6\" style=\"stroke: #383838; stroke-width: 1.0;\"/><polygon fill=\"#383838\" points=\"603.79,126.98,597.0555,119.7935,599.184,125.0346,593.9428,127.1631,603.79,126.98\" style=\"stroke: #383838; stroke-width: 1.0;\"/><text fill=\"#000000\" font-family=\"sans-serif\" font-size=\"13\" lengthAdjust=\"spacingAndGlyphs\" textLength=\"44\" x=\"352\" y=\"93.0669\">[x &gt; 1]</text></a><!--MD5=[ca5a752d6098d8a44b3f88316e7452d1]\n",
       "link E3 to E8--><a href=\"psysml:c4aa7bb1-7be8-4d3d-94c8-0c3feb0dde03\" target=\"_top\" title=\"psysml:c4aa7bb1-7be8-4d3d-94c8-0c3feb0dde03\" xlink:actuate=\"onRequest\" xlink:href=\"psysml:c4aa7bb1-7be8-4d3d-94c8-0c3feb0dde03\" xlink:show=\"new\" xlink:title=\"psysml:c4aa7bb1-7be8-4d3d-94c8-0c3feb0dde03\" xlink:type=\"simple\"><path d=\"M93.49,105.27 C125.14,103.04 218.3,96.1 231,91 C243.02,86.18 254.64,78.13 264.33,70.1 \" fill=\"none\" id=\"E3-&gt;E8\" style=\"stroke: #383838; stroke-width: 1.0;\"/><polygon fill=\"#383838\" points=\"268.36,66.67,258.9123,69.4521,264.5507,69.9087,264.0941,75.5471,268.36,66.67\" style=\"stroke: #383838; stroke-width: 1.0;\"/></a><!--MD5=[95fa686b5a16158bcdbcaeead89f639b]\n",
       "link E8 to E3--><a href=\"psysml:313c2626-617f-4a85-9d7c-c31cb61d9b9e\" target=\"_top\" title=\"psysml:313c2626-617f-4a85-9d7c-c31cb61d9b9e\" xlink:actuate=\"onRequest\" xlink:href=\"psysml:313c2626-617f-4a85-9d7c-c31cb61d9b9e\" xlink:show=\"new\" xlink:title=\"psysml:313c2626-617f-4a85-9d7c-c31cb61d9b9e\" xlink:type=\"simple\"><path d=\"M260.77,53.61 C215.33,67 129.54,92.28 96.47,102.03 \" fill=\"none\" id=\"E8-&gt;E3\" style=\"stroke: #383838; stroke-width: 1.0;\"/><polygon fill=\"#383838\" points=\"91.63,103.46,101.3936,104.7532,96.4261,102.0469,99.1325,97.0794,91.63,103.46\" style=\"stroke: #383838; stroke-width: 1.0;\"/><text fill=\"#000000\" font-family=\"sans-serif\" font-size=\"13\" lengthAdjust=\"spacingAndGlyphs\" textLength=\"44\" x=\"179\" y=\"60.0669\">[x &gt; 0]</text></a><!--MD5=[af87c684e3b0d8be13c1a698a818ef1e]\n",
       "link E3 to E4--><a href=\"psysml:9e59e0cd-e7d6-48f9-8abd-2b6da2cb7bd3\" target=\"_top\" title=\"psysml:9e59e0cd-e7d6-48f9-8abd-2b6da2cb7bd3\" xlink:actuate=\"onRequest\" xlink:href=\"psysml:9e59e0cd-e7d6-48f9-8abd-2b6da2cb7bd3\" xlink:show=\"new\" xlink:title=\"psysml:9e59e0cd-e7d6-48f9-8abd-2b6da2cb7bd3\" xlink:type=\"simple\"><path d=\"M86.04,114.02 C95.02,136.5 123.81,200.16 171,227 C204.39,245.99 251.73,243.27 275.38,240.3 \" fill=\"none\" id=\"E3-&gt;E4\" style=\"stroke: #383838; stroke-width: 1.0;\"/><polygon fill=\"#383838\" points=\"280.59,239.6,271.1346,236.8442,275.6352,240.2711,272.2083,244.7718,280.59,239.6\" style=\"stroke: #383838; stroke-width: 1.0;\"/></a><!--MD5=[1b7591eae5389033d8d09a9d6721a717]\n",
       "link E4 to E5--><a href=\"psysml:7b0b5bc6-fd2d-464d-92f4-1e71099b6f78\" target=\"_top\" title=\"psysml:7b0b5bc6-fd2d-464d-92f4-1e71099b6f78\" xlink:actuate=\"onRequest\" xlink:href=\"psysml:7b0b5bc6-fd2d-464d-92f4-1e71099b6f78\" xlink:show=\"new\" xlink:title=\"psysml:7b0b5bc6-fd2d-464d-92f4-1e71099b6f78\" xlink:type=\"simple\"><path d=\"M299.5,234.12 C316.88,225.07 361.19,201.68 397,180 C405.33,174.96 414.16,169.29 422.39,163.88 \" fill=\"none\" id=\"E4-&gt;E5\" style=\"stroke: #383838; stroke-width: 1.0;\"/><polygon fill=\"#383838\" points=\"426.88,160.91,417.1688,162.551,422.7132,163.6736,421.5905,169.2179,426.88,160.91\" style=\"stroke: #383838; stroke-width: 1.0;\"/><text fill=\"#000000\" font-family=\"sans-serif\" font-size=\"13\" lengthAdjust=\"spacingAndGlyphs\" textLength=\"36\" x=\"356\" y=\"176.0669\">[true]</text></a><!--MD5=[79568f1e445c3877b6a54524624ccc7d]\n",
       "link E4 to E6--><a href=\"psysml:2cb1b039-bbb8-4621-9b87-8355478bfab0\" target=\"_top\" title=\"psysml:2cb1b039-bbb8-4621-9b87-8355478bfab0\" xlink:actuate=\"onRequest\" xlink:href=\"psysml:2cb1b039-bbb8-4621-9b87-8355478bfab0\" xlink:show=\"new\" xlink:title=\"psysml:2cb1b039-bbb8-4621-9b87-8355478bfab0\" xlink:type=\"simple\"><path d=\"M301.88,236.49 C330.74,231.97 417.32,217.55 487,197 C526.14,185.46 569.65,168.17 598.9,155.85 \" fill=\"none\" id=\"E4-&gt;E6\" style=\"stroke: #383838; stroke-width: 1.0;\"/><polygon fill=\"#383838\" points=\"603.83,153.77,593.9831,153.576,599.2218,155.7103,597.0875,160.9491,603.83,153.77\" style=\"stroke: #383838; stroke-width: 1.0;\"/><text fill=\"#000000\" font-family=\"sans-serif\" font-size=\"13\" lengthAdjust=\"spacingAndGlyphs\" textLength=\"40\" x=\"437\" y=\"193.0669\">[false]</text></a><!--MD5=[9120cf2e5df3bff93db8f754bbbc09b4]\n",
       "link E5 to E6--><a href=\"psysml:b49ece63-4bda-4eac-a48b-66e19b9bdab7\" target=\"_top\" title=\"psysml:b49ece63-4bda-4eac-a48b-66e19b9bdab7\" xlink:actuate=\"onRequest\" xlink:href=\"psysml:b49ece63-4bda-4eac-a48b-66e19b9bdab7\" xlink:show=\"new\" xlink:title=\"psysml:b49ece63-4bda-4eac-a48b-66e19b9bdab7\" xlink:type=\"simple\"><path d=\"M487.29,141 C518.05,141 566.36,141 598.83,141 \" fill=\"none\" id=\"E5-&gt;E6\" style=\"stroke: #383838; stroke-width: 1.0;\"/><polygon fill=\"#383838\" points=\"603.91,141,594.91,137,598.91,141,594.91,145,603.91,141\" style=\"stroke: #383838; stroke-width: 1.0;\"/><text fill=\"#000000\" font-family=\"sans-serif\" font-size=\"13\" lengthAdjust=\"spacingAndGlyphs\" textLength=\"55\" x=\"518\" y=\"137.0669\">[x == 0]</text></a><!--MD5=[e4713045db444727e9f672e5742b8fba]\n",
       "@startuml\r\n",
       "left to right direction\r\n",
       "skinparam monochrome true\r\n",
       "skinparam classbackgroundcolor white\r\n",
       "skinparam shadowing false\r\n",
       "skinparam wrapWidth 300\r\n",
       "hide circle\r\n",
       "\r\n",
       "rec def \"DecisionTest\" as E1  <<(T,blue)action def>> [[psysml:3be07126-877a-4309-8447-1e285ef81f95 ]] {\r\n",
       "portout \"$result\" as E2  [[psysml:9348992a-eef4-478a-99a3-8679640e907b ]] \r\n",
       "choice \"test x\" as E3  [[psysml:68020b6f-ffe7-4b5f-b810-1edcbdd08af0 ]] \r\n",
       "choice \"noname\" as E4  [[psysml:c53ed86d-7fd9-4daa-81a5-a3aaa8a48fdd ]] \r\n",
       "rec usage \"A1\" as E5  <<(T,blue)action>> [[psysml:0f40ea9b-adac-4a33-8b1a-34d15e55e3d2 ]] {\r\n",
       "}\r\n",
       "\r\n",
       "rec usage \"A2\" as E6  <<(T,blue)action>> [[psysml:128661ee-6ef6-488f-adc9-4acba814b00a ]] {\r\n",
       "}\r\n",
       "\r\n",
       "rec usage \"A3\" as E7  <<(T,blue)action>> [[psysml:7b9f6d16-7e81-4d0a-aec9-34a5599243af ]] {\r\n",
       "}\r\n",
       "\r\n",
       "rec usage \"A3\" as E8  <<(T,blue)action>> [[psysml:7b9f6d16-7e81-4d0a-aec9-34a5599243af ]] {\r\n",
       "}\r\n",
       "\r\n",
       "}\r\n",
       "\r\n",
       "E3  - -> E5 [[psysml:7286f462-e52e-4ebc-bfea-7701f26f76d2 ]] : [x == 1]\r\n",
       "E3  - -> E6 [[psysml:e748a59f-80ec-4a6b-adc3-e898091fbade ]] : [x > 1]\r\n",
       "E3  - -> E8 [[psysml:c4aa7bb1-7be8-4d3d-94c8-0c3feb0dde03 ]] \r\n",
       "E3 - -> E4 [[psysml:9e59e0cd-e7d6-48f9-8abd-2b6da2cb7bd3 ]] \r\n",
       "E4  - -> E5 [[psysml:7b0b5bc6-fd2d-464d-92f4-1e71099b6f78 ]] : [true]\r\n",
       "E4  - -> E6 [[psysml:2cb1b039-bbb8-4621-9b87-8355478bfab0 ]] : [false]\r\n",
       "E5  - -> E6 [[psysml:b49ece63-4bda-4eac-a48b-66e19b9bdab7 ]] : [x == 0]\r\n",
       "E8  - -> E3 [[psysml:313c2626-617f-4a85-9d7c-c31cb61d9b9e ]] : [x > 0]\r\n",
       "@enduml\r\n",
       "\n",
       "PlantUML version 1.2020.13(Sat Jun 13 12:26:38 UTC 2020)\n",
       "(EPL source distribution)\n",
       "Java Runtime: OpenJDK Runtime Environment\n",
       "JVM: OpenJDK 64-Bit Server VM\n",
       "Default Encoding: UTF-8\n",
       "Language: en\n",
       "Country: null\n",
       "--></g></svg>"
      ]
     },
     "execution_count": 22,
     "metadata": {},
     "output_type": "execute_result"
    }
   ],
   "source": [
    "%viz --style=\"LR\" --view=\"MIXED\" \"DecisionTest\""
   ]
  },
  {
   "cell_type": "code",
   "execution_count": 23,
   "id": "c5735128",
   "metadata": {
    "execution": {
     "iopub.execute_input": "2021-05-27T06:09:53.086009Z",
     "iopub.status.busy": "2021-05-27T06:09:53.085632Z",
     "iopub.status.idle": "2021-05-27T06:09:53.120628Z",
     "shell.execute_reply": "2021-05-27T06:09:53.119343Z"
    }
   },
   "outputs": [
    {
     "data": {
      "image/svg+xml": [
       "<?xml version=\"1.0\" encoding=\"UTF-8\" standalone=\"no\"?><svg xmlns=\"http://www.w3.org/2000/svg\" xmlns:xlink=\"http://www.w3.org/1999/xlink\" contentScriptType=\"application/ecmascript\" contentStyleType=\"text/css\" height=\"574px\" preserveAspectRatio=\"none\" style=\"width:341px;height:574px;\" version=\"1.1\" viewBox=\"0 0 341 574\" width=\"341px\" zoomAndPan=\"magnify\"><defs><filter height=\"300%\" id=\"fh53asvii781t\" width=\"300%\" x=\"-1\" y=\"-1\"><feGaussianBlur result=\"blurOut\" stdDeviation=\"2.0\"/><feColorMatrix in=\"blurOut\" result=\"blurOut2\" type=\"matrix\" values=\"0 0 0 0 0 0 0 0 0 0 0 0 0 0 0 0 0 0 .4 0\"/><feOffset dx=\"4.0\" dy=\"4.0\" in=\"blurOut2\" result=\"blurOut3\"/><feBlend in=\"SourceGraphic\" in2=\"blurOut3\" mode=\"normal\"/></filter></defs><g><!--MD5=[fbc87193dbaf4d95561dea2c320d4a47]\n",
       "cluster E1--><a href=\"psysml:3be07126-877a-4309-8447-1e285ef81f95\" target=\"_top\" title=\"psysml:3be07126-877a-4309-8447-1e285ef81f95\" xlink:actuate=\"onRequest\" xlink:href=\"psysml:3be07126-877a-4309-8447-1e285ef81f95\" xlink:show=\"new\" xlink:title=\"psysml:3be07126-877a-4309-8447-1e285ef81f95\" xlink:type=\"simple\"><rect fill=\"#FFFFFF\" filter=\"url(#fh53asvii781t)\" height=\"534.72\" id=\"E1\" style=\"stroke: #A80036; stroke-width: 1.5;\" width=\"315\" x=\"7\" y=\"7\"/><rect fill=\"#FEFECE\" height=\"37.9375\" style=\"stroke: #A80036; stroke-width: 1.5;\" width=\"315\" x=\"7\" y=\"7\"/><text fill=\"#000000\" font-family=\"sans-serif\" font-size=\"12\" font-style=\"italic\" lengthAdjust=\"spacingAndGlyphs\" textLength=\"77\" x=\"126\" y=\"23.1387\">«action def»</text><text fill=\"#000000\" font-family=\"sans-serif\" font-size=\"12\" lengthAdjust=\"spacingAndGlyphs\" textLength=\"80\" x=\"124.5\" y=\"37.1074\">DecisionTest</text></a><text fill=\"#000000\" font-family=\"sans-serif\" font-size=\"14\" lengthAdjust=\"spacingAndGlyphs\" textLength=\"48\" x=\"140\" y=\"560.7151\">$result</text><rect fill=\"#A80036\" height=\"12\" style=\"stroke: #FEFECE; stroke-width: 1.5;\" width=\"12\" x=\"158\" y=\"535.72\"/><polygon fill=\"#FEFECE\" filter=\"url(#fh53asvii781t)\" points=\"141,28.5,153,40.5,141,52.5,129,40.5,141,28.5\" style=\"stroke: #A80036; stroke-width: 1.5;\"/><polygon fill=\"#FEFECE\" filter=\"url(#fh53asvii781t)\" points=\"35,170.5,47,182.5,35,194.5,23,182.5,35,170.5\" style=\"stroke: #A80036; stroke-width: 1.5;\"/><g id=\"E1.E5\"><a href=\"psysml:0f40ea9b-adac-4a33-8b1a-34d15e55e3d2\" target=\"_top\" title=\"psysml:0f40ea9b-adac-4a33-8b1a-34d15e55e3d2\" xlink:actuate=\"onRequest\" xlink:href=\"psysml:0f40ea9b-adac-4a33-8b1a-34d15e55e3d2\" xlink:show=\"new\" xlink:title=\"psysml:0f40ea9b-adac-4a33-8b1a-34d15e55e3d2\" xlink:type=\"simple\"><rect fill=\"#FEFECE\" filter=\"url(#fh53asvii781t)\" height=\"42.9375\" id=\"E5\" rx=\"10\" ry=\"10\" style=\"stroke: #A80036; stroke-width: 1.5;\" width=\"60\" x=\"135\" y=\"281\"/><text fill=\"#000000\" font-family=\"sans-serif\" font-size=\"12\" font-style=\"italic\" lengthAdjust=\"spacingAndGlyphs\" textLength=\"53\" x=\"138.5\" y=\"297.1387\">«action»</text><text fill=\"#000000\" font-family=\"sans-serif\" font-size=\"12\" lengthAdjust=\"spacingAndGlyphs\" textLength=\"16\" x=\"157\" y=\"311.1074\">A1</text></a></g><g id=\"E1.E6\"><a href=\"psysml:128661ee-6ef6-488f-adc9-4acba814b00a\" target=\"_top\" title=\"psysml:128661ee-6ef6-488f-adc9-4acba814b00a\" xlink:actuate=\"onRequest\" xlink:href=\"psysml:128661ee-6ef6-488f-adc9-4acba814b00a\" xlink:show=\"new\" xlink:title=\"psysml:128661ee-6ef6-488f-adc9-4acba814b00a\" xlink:type=\"simple\"><rect fill=\"#FEFECE\" filter=\"url(#fh53asvii781t)\" height=\"42.9375\" id=\"E6\" rx=\"10\" ry=\"10\" style=\"stroke: #A80036; stroke-width: 1.5;\" width=\"60\" x=\"135\" y=\"401\"/><text fill=\"#000000\" font-family=\"sans-serif\" font-size=\"12\" font-style=\"italic\" lengthAdjust=\"spacingAndGlyphs\" textLength=\"53\" x=\"138.5\" y=\"417.1387\">«action»</text><text fill=\"#000000\" font-family=\"sans-serif\" font-size=\"12\" lengthAdjust=\"spacingAndGlyphs\" textLength=\"16\" x=\"157\" y=\"431.1074\">A2</text></a></g><g id=\"E1.E7\"><a href=\"psysml:7b9f6d16-7e81-4d0a-aec9-34a5599243af\" target=\"_top\" title=\"psysml:7b9f6d16-7e81-4d0a-aec9-34a5599243af\" xlink:actuate=\"onRequest\" xlink:href=\"psysml:7b9f6d16-7e81-4d0a-aec9-34a5599243af\" xlink:show=\"new\" xlink:title=\"psysml:7b9f6d16-7e81-4d0a-aec9-34a5599243af\" xlink:type=\"simple\"><rect fill=\"#FEFECE\" filter=\"url(#fh53asvii781t)\" height=\"42.9375\" id=\"E7\" rx=\"10\" ry=\"10\" style=\"stroke: #A80036; stroke-width: 1.5;\" width=\"60\" x=\"46\" y=\"88\"/><text fill=\"#000000\" font-family=\"sans-serif\" font-size=\"12\" font-style=\"italic\" lengthAdjust=\"spacingAndGlyphs\" textLength=\"53\" x=\"49.5\" y=\"104.1387\">«action»</text><text fill=\"#000000\" font-family=\"sans-serif\" font-size=\"12\" lengthAdjust=\"spacingAndGlyphs\" textLength=\"16\" x=\"68\" y=\"118.1074\">A3</text></a></g><g id=\"E1.E8\"><a href=\"psysml:7b9f6d16-7e81-4d0a-aec9-34a5599243af\" target=\"_top\" title=\"psysml:7b9f6d16-7e81-4d0a-aec9-34a5599243af\" xlink:actuate=\"onRequest\" xlink:href=\"psysml:7b9f6d16-7e81-4d0a-aec9-34a5599243af\" xlink:show=\"new\" xlink:title=\"psysml:7b9f6d16-7e81-4d0a-aec9-34a5599243af\" xlink:type=\"simple\"><rect fill=\"#FEFECE\" filter=\"url(#fh53asvii781t)\" height=\"42.9375\" id=\"E8\" rx=\"10\" ry=\"10\" style=\"stroke: #A80036; stroke-width: 1.5;\" width=\"60\" x=\"246\" y=\"161\"/><text fill=\"#000000\" font-family=\"sans-serif\" font-size=\"12\" font-style=\"italic\" lengthAdjust=\"spacingAndGlyphs\" textLength=\"53\" x=\"249.5\" y=\"177.1387\">«action»</text><text fill=\"#000000\" font-family=\"sans-serif\" font-size=\"12\" lengthAdjust=\"spacingAndGlyphs\" textLength=\"16\" x=\"268\" y=\"191.1074\">A3</text></a></g><!--MD5=[0188b64bb0ae78505a997a81836e11e9]\n",
       "link E3 to E5--><a href=\"psysml:7286f462-e52e-4ebc-bfea-7701f26f76d2\" target=\"_top\" title=\"psysml:7286f462-e52e-4ebc-bfea-7701f26f76d2\" xlink:actuate=\"onRequest\" xlink:href=\"psysml:7286f462-e52e-4ebc-bfea-7701f26f76d2\" xlink:show=\"new\" xlink:title=\"psysml:7286f462-e52e-4ebc-bfea-7701f26f76d2\" xlink:type=\"simple\"><path d=\"M140.49,52.19 C139.39,78.26 137.41,147.1 144,204 C146.84,228.53 153.03,255.98 157.96,275.49 \" fill=\"none\" id=\"E3-&gt;E5\" style=\"stroke: #A80036; stroke-width: 1.0;\"/><polygon fill=\"#A80036\" points=\"159.31,280.77,160.9741,271.0627,158.0805,275.9235,153.2197,273.0299,159.31,280.77\" style=\"stroke: #A80036; stroke-width: 1.0;\"/><text fill=\"#000000\" font-family=\"sans-serif\" font-size=\"13\" lengthAdjust=\"spacingAndGlyphs\" textLength=\"55\" x=\"145\" y=\"187.0669\">[x == 1]</text></a><!--MD5=[ec9844e0c75763426927cad3229d1081]\n",
       "link E3 to E6--><a href=\"psysml:e748a59f-80ec-4a6b-adc3-e898091fbade\" target=\"_top\" title=\"psysml:e748a59f-80ec-4a6b-adc3-e898091fbade\" xlink:actuate=\"onRequest\" xlink:href=\"psysml:e748a59f-80ec-4a6b-adc3-e898091fbade\" xlink:show=\"new\" xlink:title=\"psysml:e748a59f-80ec-4a6b-adc3-e898091fbade\" xlink:type=\"simple\"><path d=\"M145.73,48.09 C157.96,65.53 190.67,114.68 205,161 C230.5,243.43 221.33,267.84 226,354 C226.41,361.54 229.22,364.16 226,371 C220.27,383.19 209.98,393.45 199.48,401.47 \" fill=\"none\" id=\"E3-&gt;E6\" style=\"stroke: #A80036; stroke-width: 1.0;\"/><polygon fill=\"#A80036\" points=\"195.29,404.54,204.9073,402.4168,199.3138,401.5721,200.1586,395.9786,195.29,404.54\" style=\"stroke: #A80036; stroke-width: 1.0;\"/><text fill=\"#000000\" font-family=\"sans-serif\" font-size=\"13\" lengthAdjust=\"spacingAndGlyphs\" textLength=\"44\" x=\"223\" y=\"247.0669\">[x &gt; 1]</text></a><!--MD5=[ca5a752d6098d8a44b3f88316e7452d1]\n",
       "link E3 to E8--><a href=\"psysml:c4aa7bb1-7be8-4d3d-94c8-0c3feb0dde03\" target=\"_top\" title=\"psysml:c4aa7bb1-7be8-4d3d-94c8-0c3feb0dde03\" xlink:actuate=\"onRequest\" xlink:href=\"psysml:c4aa7bb1-7be8-4d3d-94c8-0c3feb0dde03\" xlink:show=\"new\" xlink:title=\"psysml:c4aa7bb1-7be8-4d3d-94c8-0c3feb0dde03\" xlink:type=\"simple\"><path d=\"M147.97,45.53 C163.29,54.53 199.17,76.37 207,88 C217.96,104.27 206.82,114.23 217,131 C223.37,141.49 232.66,150.9 242,158.68 \" fill=\"none\" id=\"E3-&gt;E8\" style=\"stroke: #A80036; stroke-width: 1.0;\"/><polygon fill=\"#A80036\" points=\"246,161.91,241.5179,153.1401,242.1124,158.7657,236.4869,159.3602,246,161.91\" style=\"stroke: #A80036; stroke-width: 1.0;\"/></a><!--MD5=[95fa686b5a16158bcdbcaeead89f639b]\n",
       "link E8 to E3--><a href=\"psysml:313c2626-617f-4a85-9d7c-c31cb61d9b9e\" target=\"_top\" title=\"psysml:313c2626-617f-4a85-9d7c-c31cb61d9b9e\" xlink:actuate=\"onRequest\" xlink:href=\"psysml:313c2626-617f-4a85-9d7c-c31cb61d9b9e\" xlink:show=\"new\" xlink:title=\"psysml:313c2626-617f-4a85-9d7c-c31cb61d9b9e\" xlink:type=\"simple\"><path d=\"M263.71,160.86 C249.28,137.02 225.81,99.6 214,88 C204.2,78.38 171.17,58.79 153.08,48.37 \" fill=\"none\" id=\"E8-&gt;E3\" style=\"stroke: #A80036; stroke-width: 1.0;\"/><polygon fill=\"#A80036\" points=\"148.41,45.69,154.234,53.6323,152.7495,48.1738,158.208,46.6892,148.41,45.69\" style=\"stroke: #A80036; stroke-width: 1.0;\"/><text fill=\"#000000\" font-family=\"sans-serif\" font-size=\"13\" lengthAdjust=\"spacingAndGlyphs\" textLength=\"44\" x=\"244\" y=\"114.0669\">[x &gt; 0]</text></a><!--MD5=[af87c684e3b0d8be13c1a698a818ef1e]\n",
       "link E3 to E4--><a href=\"psysml:9e59e0cd-e7d6-48f9-8abd-2b6da2cb7bd3\" target=\"_top\" title=\"psysml:9e59e0cd-e7d6-48f9-8abd-2b6da2cb7bd3\" xlink:actuate=\"onRequest\" xlink:href=\"psysml:9e59e0cd-e7d6-48f9-8abd-2b6da2cb7bd3\" xlink:show=\"new\" xlink:title=\"psysml:9e59e0cd-e7d6-48f9-8abd-2b6da2cb7bd3\" xlink:type=\"simple\"><path d=\"M131.03,42.86 C110.41,46.26 63.22,57.19 42,88 C25.54,111.89 28.61,147.84 31.99,167.47 \" fill=\"none\" id=\"E3-&gt;E4\" style=\"stroke: #A80036; stroke-width: 1.0;\"/><polygon fill=\"#A80036\" points=\"32.94,172.56,35.2263,162.9802,32.0255,167.6443,27.3613,164.4435,32.94,172.56\" style=\"stroke: #A80036; stroke-width: 1.0;\"/></a><!--MD5=[1b7591eae5389033d8d09a9d6721a717]\n",
       "link E4 to E5--><a href=\"psysml:7b0b5bc6-fd2d-464d-92f4-1e71099b6f78\" target=\"_top\" title=\"psysml:7b0b5bc6-fd2d-464d-92f4-1e71099b6f78\" xlink:actuate=\"onRequest\" xlink:href=\"psysml:7b0b5bc6-fd2d-464d-92f4-1e71099b6f78\" xlink:show=\"new\" xlink:title=\"psysml:7b0b5bc6-fd2d-464d-92f4-1e71099b6f78\" xlink:type=\"simple\"><path d=\"M39.08,190.91 C46.63,204.15 63.87,232.24 84,251 C97.73,263.8 115.17,275.16 130.35,283.85 \" fill=\"none\" id=\"E4-&gt;E5\" style=\"stroke: #A80036; stroke-width: 1.0;\"/><polygon fill=\"#A80036\" points=\"134.98,286.46,129.0858,278.5696,130.6187,284.0148,125.1735,285.5477,134.98,286.46\" style=\"stroke: #A80036; stroke-width: 1.0;\"/><text fill=\"#000000\" font-family=\"sans-serif\" font-size=\"13\" lengthAdjust=\"spacingAndGlyphs\" textLength=\"36\" x=\"85\" y=\"247.0669\">[true]</text></a><!--MD5=[79568f1e445c3877b6a54524624ccc7d]\n",
       "link E4 to E6--><a href=\"psysml:2cb1b039-bbb8-4621-9b87-8355478bfab0\" target=\"_top\" title=\"psysml:2cb1b039-bbb8-4621-9b87-8355478bfab0\" xlink:actuate=\"onRequest\" xlink:href=\"psysml:2cb1b039-bbb8-4621-9b87-8355478bfab0\" xlink:show=\"new\" xlink:title=\"psysml:2cb1b039-bbb8-4621-9b87-8355478bfab0\" xlink:type=\"simple\"><path d=\"M36.3,193.29 C39.76,217.03 50.73,279.03 76,324 C91.89,352.29 117.42,379.1 137.07,397.43 \" fill=\"none\" id=\"E4-&gt;E6\" style=\"stroke: #A80036; stroke-width: 1.0;\"/><polygon fill=\"#A80036\" points=\"140.92,400.98,137.0155,391.9382,137.2443,397.5904,131.5921,397.8192,140.92,400.98\" style=\"stroke: #A80036; stroke-width: 1.0;\"/><text fill=\"#000000\" font-family=\"sans-serif\" font-size=\"13\" lengthAdjust=\"spacingAndGlyphs\" textLength=\"40\" x=\"77\" y=\"307.0669\">[false]</text></a><!--MD5=[9120cf2e5df3bff93db8f754bbbc09b4]\n",
       "link E5 to E6--><a href=\"psysml:b49ece63-4bda-4eac-a48b-66e19b9bdab7\" target=\"_top\" title=\"psysml:b49ece63-4bda-4eac-a48b-66e19b9bdab7\" xlink:actuate=\"onRequest\" xlink:href=\"psysml:b49ece63-4bda-4eac-a48b-66e19b9bdab7\" xlink:show=\"new\" xlink:title=\"psysml:b49ece63-4bda-4eac-a48b-66e19b9bdab7\" xlink:type=\"simple\"><path d=\"M165,324.05 C165,343.9 165,374.02 165,395.52 \" fill=\"none\" id=\"E5-&gt;E6\" style=\"stroke: #A80036; stroke-width: 1.0;\"/><polygon fill=\"#A80036\" points=\"165,400.79,169,391.79,165,395.79,161,391.79,165,400.79\" style=\"stroke: #A80036; stroke-width: 1.0;\"/><text fill=\"#000000\" font-family=\"sans-serif\" font-size=\"13\" lengthAdjust=\"spacingAndGlyphs\" textLength=\"55\" x=\"166\" y=\"367.0669\">[x == 0]</text></a><!--MD5=[62c15dc95b623ee8275fccf8b37f3a7e]\n",
       "@startuml\r\n",
       "skinparam wrapWidth 300\r\n",
       "hide circle\r\n",
       "\r\n",
       "rec def \"DecisionTest\" as E1  <<(T,blue)action def>> [[psysml:3be07126-877a-4309-8447-1e285ef81f95 ]] {\r\n",
       "portout \"$result\" as E2  [[psysml:9348992a-eef4-478a-99a3-8679640e907b ]] \r\n",
       "choice \"test x\" as E3  [[psysml:68020b6f-ffe7-4b5f-b810-1edcbdd08af0 ]] \r\n",
       "choice \"noname\" as E4  [[psysml:c53ed86d-7fd9-4daa-81a5-a3aaa8a48fdd ]] \r\n",
       "rec usage \"A1\" as E5  <<(T,blue)action>> [[psysml:0f40ea9b-adac-4a33-8b1a-34d15e55e3d2 ]] {\r\n",
       "}\r\n",
       "\r\n",
       "rec usage \"A2\" as E6  <<(T,blue)action>> [[psysml:128661ee-6ef6-488f-adc9-4acba814b00a ]] {\r\n",
       "}\r\n",
       "\r\n",
       "rec usage \"A3\" as E7  <<(T,blue)action>> [[psysml:7b9f6d16-7e81-4d0a-aec9-34a5599243af ]] {\r\n",
       "}\r\n",
       "\r\n",
       "rec usage \"A3\" as E8  <<(T,blue)action>> [[psysml:7b9f6d16-7e81-4d0a-aec9-34a5599243af ]] {\r\n",
       "}\r\n",
       "\r\n",
       "}\r\n",
       "\r\n",
       "E3  - -> E5 [[psysml:7286f462-e52e-4ebc-bfea-7701f26f76d2 ]] : [x == 1]\r\n",
       "E3  - -> E6 [[psysml:e748a59f-80ec-4a6b-adc3-e898091fbade ]] : [x > 1]\r\n",
       "E3  - -> E8 [[psysml:c4aa7bb1-7be8-4d3d-94c8-0c3feb0dde03 ]] \r\n",
       "E3 - -> E4 [[psysml:9e59e0cd-e7d6-48f9-8abd-2b6da2cb7bd3 ]] \r\n",
       "E4  - -> E5 [[psysml:7b0b5bc6-fd2d-464d-92f4-1e71099b6f78 ]] : [true]\r\n",
       "E4  - -> E6 [[psysml:2cb1b039-bbb8-4621-9b87-8355478bfab0 ]] : [false]\r\n",
       "E5  - -> E6 [[psysml:b49ece63-4bda-4eac-a48b-66e19b9bdab7 ]] : [x == 0]\r\n",
       "E8  - -> E3 [[psysml:313c2626-617f-4a85-9d7c-c31cb61d9b9e ]] : [x > 0]\r\n",
       "@enduml\r\n",
       "\n",
       "PlantUML version 1.2020.13(Sat Jun 13 12:26:38 UTC 2020)\n",
       "(EPL source distribution)\n",
       "Java Runtime: OpenJDK Runtime Environment\n",
       "JVM: OpenJDK 64-Bit Server VM\n",
       "Default Encoding: UTF-8\n",
       "Language: en\n",
       "Country: null\n",
       "--></g></svg>"
      ]
     },
     "execution_count": 23,
     "metadata": {},
     "output_type": "execute_result"
    }
   ],
   "source": [
    "%viz --style=\"STDCOLOR\" --view=\"Default\" \"DecisionTest\""
   ]
  },
  {
   "cell_type": "code",
   "execution_count": 24,
   "id": "aca30fdd",
   "metadata": {
    "execution": {
     "iopub.execute_input": "2021-05-27T06:09:53.171475Z",
     "iopub.status.busy": "2021-05-27T06:09:53.170954Z",
     "iopub.status.idle": "2021-05-27T06:09:53.228403Z",
     "shell.execute_reply": "2021-05-27T06:09:53.228040Z"
    }
   },
   "outputs": [
    {
     "data": {
      "image/svg+xml": [
       "<?xml version=\"1.0\" encoding=\"UTF-8\" standalone=\"no\"?><svg xmlns=\"http://www.w3.org/2000/svg\" xmlns:xlink=\"http://www.w3.org/1999/xlink\" contentScriptType=\"application/ecmascript\" contentStyleType=\"text/css\" height=\"199px\" preserveAspectRatio=\"none\" style=\"width:117px;height:199px;\" version=\"1.1\" viewBox=\"0 0 117 199\" width=\"117px\" zoomAndPan=\"magnify\"><defs><filter height=\"300%\" id=\"fy8ibvk8ufctz\" width=\"300%\" x=\"-1\" y=\"-1\"><feGaussianBlur result=\"blurOut\" stdDeviation=\"2.0\"/><feColorMatrix in=\"blurOut\" result=\"blurOut2\" type=\"matrix\" values=\"0 0 0 0 0 0 0 0 0 0 0 0 0 0 0 0 0 0 .4 0\"/><feOffset dx=\"4.0\" dy=\"4.0\" in=\"blurOut2\" result=\"blurOut3\"/><feBlend in=\"SourceGraphic\" in2=\"blurOut3\" mode=\"normal\"/></filter></defs><g><!--MD5=[43c9051892ef23e1a46a86907403d788]\n",
       "class E1--><a href=\"psysml:3be07126-877a-4309-8447-1e285ef81f95\" target=\"_top\" title=\"psysml:3be07126-877a-4309-8447-1e285ef81f95\" xlink:actuate=\"onRequest\" xlink:href=\"psysml:3be07126-877a-4309-8447-1e285ef81f95\" xlink:show=\"new\" xlink:title=\"psysml:3be07126-877a-4309-8447-1e285ef81f95\" xlink:type=\"simple\"><rect fill=\"#FEFECE\" filter=\"url(#fy8ibvk8ufctz)\" height=\"173.1797\" id=\"E1\" style=\"stroke: #A80036; stroke-width: 1.5;\" width=\"91\" x=\"7\" y=\"7\"/><text fill=\"#000000\" font-family=\"sans-serif\" font-size=\"12\" font-style=\"italic\" lengthAdjust=\"spacingAndGlyphs\" textLength=\"77\" x=\"14\" y=\"23.1387\">«action def»</text><text fill=\"#000000\" font-family=\"sans-serif\" font-size=\"12\" lengthAdjust=\"spacingAndGlyphs\" textLength=\"80\" x=\"12.5\" y=\"37.1074\">DecisionTest</text><line style=\"stroke: #A80036; stroke-width: 1.5;\" x1=\"8\" x2=\"97\" y1=\"44.9375\" y2=\"44.9375\"/><text fill=\"#000000\" font-family=\"sans-serif\" font-size=\"11\" lengthAdjust=\"spacingAndGlyphs\" textLength=\"26\" x=\"13\" y=\"59.1479\">x=1;</text><text fill=\"#000000\" font-family=\"sans-serif\" font-size=\"11\" lengthAdjust=\"spacingAndGlyphs\" textLength=\"14\" x=\"13\" y=\"88.7573\">A1</text><text fill=\"#000000\" font-family=\"sans-serif\" font-size=\"11\" lengthAdjust=\"spacingAndGlyphs\" textLength=\"14\" x=\"13\" y=\"101.562\">A2</text><text fill=\"#000000\" font-family=\"sans-serif\" font-size=\"11\" lengthAdjust=\"spacingAndGlyphs\" textLength=\"14\" x=\"13\" y=\"114.3667\">A3</text><line style=\"stroke: #A80036; stroke-width: 1.0;\" x1=\"8\" x2=\"32\" y1=\"72.1445\" y2=\"72.1445\"/><text fill=\"#000000\" font-family=\"sans-serif\" font-size=\"11\" lengthAdjust=\"spacingAndGlyphs\" textLength=\"41\" x=\"32\" y=\"75.4526\">actions</text><line style=\"stroke: #A80036; stroke-width: 1.0;\" x1=\"73\" x2=\"97\" y1=\"72.1445\" y2=\"72.1445\"/><text fill=\"#000000\" font-family=\"sans-serif\" font-size=\"11\" lengthAdjust=\"spacingAndGlyphs\" textLength=\"32\" x=\"13\" y=\"143.9761\">test x</text><line style=\"stroke: #A80036; stroke-width: 1.0;\" x1=\"8\" x2=\"11\" y1=\"127.3633\" y2=\"127.3633\"/><text fill=\"#000000\" font-family=\"sans-serif\" font-size=\"11\" lengthAdjust=\"spacingAndGlyphs\" textLength=\"83\" x=\"11\" y=\"130.6714\">decisionNodes</text><line style=\"stroke: #A80036; stroke-width: 1.0;\" x1=\"94\" x2=\"97\" y1=\"127.3633\" y2=\"127.3633\"/><text fill=\"#000000\" font-family=\"sans-serif\" font-size=\"11\" lengthAdjust=\"spacingAndGlyphs\" textLength=\"8\" x=\"13\" y=\"173.5854\">S</text><line style=\"stroke: #A80036; stroke-width: 1.0;\" x1=\"8\" x2=\"22\" y1=\"156.9727\" y2=\"156.9727\"/><text fill=\"#000000\" font-family=\"sans-serif\" font-size=\"11\" lengthAdjust=\"spacingAndGlyphs\" textLength=\"61\" x=\"22\" y=\"160.2808\">transitions</text><line style=\"stroke: #A80036; stroke-width: 1.0;\" x1=\"83\" x2=\"97\" y1=\"156.9727\" y2=\"156.9727\"/></a><!--MD5=[7a2200e0ddf2ab1ad00a89321bff4f24]\n",
       "@startuml\r\n",
       "skinparam wrapWidth 300\r\n",
       "hide circle\r\n",
       "\r\n",
       "comp def \"DecisionTest\" as E1  <<(T,blue)action def>> [[psysml:3be07126-877a-4309-8447-1e285ef81f95 ]] {\r\n",
       "x=1; \r\n",
       "- - actions - -\r\n",
       "A1\r\n",
       "A2\r\n",
       "A3\r\n",
       "- - decisionNodes - -\r\n",
       "test x\r\n",
       "- - transitions - -\r\n",
       "S\r\n",
       "}\r\n",
       "@enduml\r\n",
       "\n",
       "PlantUML version 1.2020.13(Sat Jun 13 12:26:38 UTC 2020)\n",
       "(EPL source distribution)\n",
       "Java Runtime: OpenJDK Runtime Environment\n",
       "JVM: OpenJDK 64-Bit Server VM\n",
       "Default Encoding: UTF-8\n",
       "Language: en\n",
       "Country: null\n",
       "--></g></svg>"
      ]
     },
     "execution_count": 24,
     "metadata": {},
     "output_type": "execute_result"
    }
   ],
   "source": [
    "%viz --style=\"STDCOLOR\" --view=\"Tree\" \"DecisionTest\""
   ]
  },
  {
   "cell_type": "code",
   "execution_count": 25,
   "id": "2f344958",
   "metadata": {
    "execution": {
     "iopub.execute_input": "2021-05-27T06:09:53.278828Z",
     "iopub.status.busy": "2021-05-27T06:09:53.278328Z",
     "iopub.status.idle": "2021-05-27T06:09:53.282936Z",
     "shell.execute_reply": "2021-05-27T06:09:53.282633Z"
    }
   },
   "outputs": [
    {
     "data": {
      "image/svg+xml": [
       "<?xml version=\"1.0\" encoding=\"UTF-8\" standalone=\"no\"?><svg xmlns=\"http://www.w3.org/2000/svg\" xmlns:xlink=\"http://www.w3.org/1999/xlink\" contentScriptType=\"application/ecmascript\" contentStyleType=\"text/css\" height=\"12px\" preserveAspectRatio=\"none\" style=\"width:12px;height:12px;\" version=\"1.1\" viewBox=\"0 0 12 12\" width=\"12px\" zoomAndPan=\"magnify\"><defs/><g><!--MD5=[aeeef50f102b80d730deb6443d14f702]\n",
       "@startuml\r\n",
       "skinparam wrapWidth 300\r\n",
       "hide circle\r\n",
       "\r\n",
       "@enduml\r\n",
       "\n",
       "PlantUML version 1.2020.13(Sat Jun 13 12:26:38 UTC 2020)\n",
       "(EPL source distribution)\n",
       "Java Runtime: OpenJDK Runtime Environment\n",
       "JVM: OpenJDK 64-Bit Server VM\n",
       "Default Encoding: UTF-8\n",
       "Language: en\n",
       "Country: null\n",
       "--></g></svg>"
      ]
     },
     "execution_count": 25,
     "metadata": {},
     "output_type": "execute_result"
    }
   ],
   "source": [
    "%viz --style=\"STDCOLOR\" --view=\"State\" \"DecisionTest\""
   ]
  },
  {
   "cell_type": "code",
   "execution_count": 26,
   "id": "a2824b7d",
   "metadata": {
    "execution": {
     "iopub.execute_input": "2021-05-27T06:09:53.337787Z",
     "iopub.status.busy": "2021-05-27T06:09:53.336940Z",
     "iopub.status.idle": "2021-05-27T06:09:53.373992Z",
     "shell.execute_reply": "2021-05-27T06:09:53.372736Z"
    }
   },
   "outputs": [
    {
     "data": {
      "image/svg+xml": [
       "<?xml version=\"1.0\" encoding=\"UTF-8\" standalone=\"no\"?><svg xmlns=\"http://www.w3.org/2000/svg\" xmlns:xlink=\"http://www.w3.org/1999/xlink\" contentScriptType=\"application/ecmascript\" contentStyleType=\"text/css\" height=\"384px\" preserveAspectRatio=\"none\" style=\"width:341px;height:384px;\" version=\"1.1\" viewBox=\"0 0 341 384\" width=\"341px\" zoomAndPan=\"magnify\"><defs><filter height=\"300%\" id=\"f1b4o8y4webpva\" width=\"300%\" x=\"-1\" y=\"-1\"><feGaussianBlur result=\"blurOut\" stdDeviation=\"2.0\"/><feColorMatrix in=\"blurOut\" result=\"blurOut2\" type=\"matrix\" values=\"0 0 0 0 0 0 0 0 0 0 0 0 0 0 0 0 0 0 .4 0\"/><feOffset dx=\"4.0\" dy=\"4.0\" in=\"blurOut2\" result=\"blurOut3\"/><feBlend in=\"SourceGraphic\" in2=\"blurOut3\" mode=\"normal\"/></filter></defs><g><!--MD5=[fbc87193dbaf4d95561dea2c320d4a47]\n",
       "cluster E1--><a href=\"psysml:3be07126-877a-4309-8447-1e285ef81f95\" target=\"_top\" title=\"psysml:3be07126-877a-4309-8447-1e285ef81f95\" xlink:actuate=\"onRequest\" xlink:href=\"psysml:3be07126-877a-4309-8447-1e285ef81f95\" xlink:show=\"new\" xlink:title=\"psysml:3be07126-877a-4309-8447-1e285ef81f95\" xlink:type=\"simple\"><rect fill=\"#FFFFFF\" filter=\"url(#f1b4o8y4webpva)\" height=\"344.72\" id=\"E1\" style=\"stroke: #A80036; stroke-width: 1.5;\" width=\"315\" x=\"7\" y=\"7\"/><rect fill=\"#FEFECE\" height=\"37.9375\" style=\"stroke: #A80036; stroke-width: 1.5;\" width=\"315\" x=\"7\" y=\"7\"/><text fill=\"#000000\" font-family=\"sans-serif\" font-size=\"12\" font-style=\"italic\" lengthAdjust=\"spacingAndGlyphs\" textLength=\"77\" x=\"126\" y=\"23.1387\">«action def»</text><text fill=\"#000000\" font-family=\"sans-serif\" font-size=\"12\" lengthAdjust=\"spacingAndGlyphs\" textLength=\"80\" x=\"124.5\" y=\"37.1074\">DecisionTest</text></a><text fill=\"#000000\" font-family=\"sans-serif\" font-size=\"14\" lengthAdjust=\"spacingAndGlyphs\" textLength=\"48\" x=\"140\" y=\"370.7151\">$result</text><rect fill=\"#A80036\" height=\"12\" style=\"stroke: #FEFECE; stroke-width: 1.5;\" width=\"12\" x=\"158\" y=\"345.72\"/><polygon fill=\"#FEFECE\" filter=\"url(#f1b4o8y4webpva)\" points=\"141,28.5,153,40.5,141,52.5,129,40.5,141,28.5\" style=\"stroke: #A80036; stroke-width: 1.5;\"/><polygon fill=\"#FEFECE\" filter=\"url(#f1b4o8y4webpva)\" points=\"35,126.5,47,138.5,35,150.5,23,138.5,35,126.5\" style=\"stroke: #A80036; stroke-width: 1.5;\"/><g id=\"E1.E5\"><a href=\"psysml:0f40ea9b-adac-4a33-8b1a-34d15e55e3d2\" target=\"_top\" title=\"psysml:0f40ea9b-adac-4a33-8b1a-34d15e55e3d2\" xlink:actuate=\"onRequest\" xlink:href=\"psysml:0f40ea9b-adac-4a33-8b1a-34d15e55e3d2\" xlink:show=\"new\" xlink:title=\"psysml:0f40ea9b-adac-4a33-8b1a-34d15e55e3d2\" xlink:type=\"simple\"><rect fill=\"#FEFECE\" filter=\"url(#f1b4o8y4webpva)\" height=\"42.9375\" id=\"E5\" rx=\"10\" ry=\"10\" style=\"stroke: #A80036; stroke-width: 1.5;\" width=\"60\" x=\"135\" y=\"193\"/><text fill=\"#000000\" font-family=\"sans-serif\" font-size=\"12\" font-style=\"italic\" lengthAdjust=\"spacingAndGlyphs\" textLength=\"53\" x=\"138.5\" y=\"209.1387\">«action»</text><text fill=\"#000000\" font-family=\"sans-serif\" font-size=\"12\" lengthAdjust=\"spacingAndGlyphs\" textLength=\"16\" x=\"157\" y=\"223.1074\">A1</text></a></g><g id=\"E1.E6\"><a href=\"psysml:128661ee-6ef6-488f-adc9-4acba814b00a\" target=\"_top\" title=\"psysml:128661ee-6ef6-488f-adc9-4acba814b00a\" xlink:actuate=\"onRequest\" xlink:href=\"psysml:128661ee-6ef6-488f-adc9-4acba814b00a\" xlink:show=\"new\" xlink:title=\"psysml:128661ee-6ef6-488f-adc9-4acba814b00a\" xlink:type=\"simple\"><rect fill=\"#FEFECE\" filter=\"url(#f1b4o8y4webpva)\" height=\"42.9375\" id=\"E6\" rx=\"10\" ry=\"10\" style=\"stroke: #A80036; stroke-width: 1.5;\" width=\"60\" x=\"135\" y=\"269\"/><text fill=\"#000000\" font-family=\"sans-serif\" font-size=\"12\" font-style=\"italic\" lengthAdjust=\"spacingAndGlyphs\" textLength=\"53\" x=\"138.5\" y=\"285.1387\">«action»</text><text fill=\"#000000\" font-family=\"sans-serif\" font-size=\"12\" lengthAdjust=\"spacingAndGlyphs\" textLength=\"16\" x=\"157\" y=\"299.1074\">A2</text></a></g><g id=\"E1.E7\"><a href=\"psysml:7b9f6d16-7e81-4d0a-aec9-34a5599243af\" target=\"_top\" title=\"psysml:7b9f6d16-7e81-4d0a-aec9-34a5599243af\" xlink:actuate=\"onRequest\" xlink:href=\"psysml:7b9f6d16-7e81-4d0a-aec9-34a5599243af\" xlink:show=\"new\" xlink:title=\"psysml:7b9f6d16-7e81-4d0a-aec9-34a5599243af\" xlink:type=\"simple\"><rect fill=\"#FEFECE\" filter=\"url(#f1b4o8y4webpva)\" height=\"42.9375\" id=\"E7\" rx=\"10\" ry=\"10\" style=\"stroke: #A80036; stroke-width: 1.5;\" width=\"60\" x=\"46\" y=\"66\"/><text fill=\"#000000\" font-family=\"sans-serif\" font-size=\"12\" font-style=\"italic\" lengthAdjust=\"spacingAndGlyphs\" textLength=\"53\" x=\"49.5\" y=\"82.1387\">«action»</text><text fill=\"#000000\" font-family=\"sans-serif\" font-size=\"12\" lengthAdjust=\"spacingAndGlyphs\" textLength=\"16\" x=\"68\" y=\"96.1074\">A3</text></a></g><g id=\"E1.E8\"><a href=\"psysml:7b9f6d16-7e81-4d0a-aec9-34a5599243af\" target=\"_top\" title=\"psysml:7b9f6d16-7e81-4d0a-aec9-34a5599243af\" xlink:actuate=\"onRequest\" xlink:href=\"psysml:7b9f6d16-7e81-4d0a-aec9-34a5599243af\" xlink:show=\"new\" xlink:title=\"psysml:7b9f6d16-7e81-4d0a-aec9-34a5599243af\" xlink:type=\"simple\"><rect fill=\"#FEFECE\" filter=\"url(#f1b4o8y4webpva)\" height=\"42.9375\" id=\"E8\" rx=\"10\" ry=\"10\" style=\"stroke: #A80036; stroke-width: 1.5;\" width=\"60\" x=\"246\" y=\"117\"/><text fill=\"#000000\" font-family=\"sans-serif\" font-size=\"12\" font-style=\"italic\" lengthAdjust=\"spacingAndGlyphs\" textLength=\"53\" x=\"249.5\" y=\"133.1387\">«action»</text><text fill=\"#000000\" font-family=\"sans-serif\" font-size=\"12\" lengthAdjust=\"spacingAndGlyphs\" textLength=\"16\" x=\"268\" y=\"147.1074\">A3</text></a></g><!--MD5=[0188b64bb0ae78505a997a81836e11e9]\n",
       "link E3 to E5--><a href=\"psysml:7286f462-e52e-4ebc-bfea-7701f26f76d2\" target=\"_top\" title=\"psysml:7286f462-e52e-4ebc-bfea-7701f26f76d2\" xlink:actuate=\"onRequest\" xlink:href=\"psysml:7286f462-e52e-4ebc-bfea-7701f26f76d2\" xlink:show=\"new\" xlink:title=\"psysml:7286f462-e52e-4ebc-bfea-7701f26f76d2\" xlink:type=\"simple\"><path d=\"M140.07,51.78 C138.47,72.5 136.04,120.67 144,160 C145.92,169.49 149.4,179.47 152.99,188.21 \" fill=\"none\" id=\"E3-&gt;E5\" style=\"stroke: #A80036; stroke-width: 1.0;\"/><polygon fill=\"#A80036\" points=\"154.98,192.92,155.1631,183.0728,153.0346,188.314,147.7935,186.1855,154.98,192.92\" style=\"stroke: #A80036; stroke-width: 1.0;\"/><text fill=\"#000000\" font-family=\"sans-serif\" font-size=\"13\" lengthAdjust=\"spacingAndGlyphs\" textLength=\"55\" x=\"145\" y=\"143.0669\">[x == 1]</text></a><!--MD5=[ec9844e0c75763426927cad3229d1081]\n",
       "link E3 to E6--><a href=\"psysml:e748a59f-80ec-4a6b-adc3-e898091fbade\" target=\"_top\" title=\"psysml:e748a59f-80ec-4a6b-adc3-e898091fbade\" xlink:actuate=\"onRequest\" xlink:href=\"psysml:e748a59f-80ec-4a6b-adc3-e898091fbade\" xlink:show=\"new\" xlink:title=\"psysml:e748a59f-80ec-4a6b-adc3-e898091fbade\" xlink:type=\"simple\"><path d=\"M147.17,46.62 C160.24,57.84 190.71,86.12 205,117 C229.03,168.92 221.32,186.98 226,244 C226.62,251.53 230.06,254.63 226,261 C220.01,270.41 210.02,276.76 199.83,281.03 \" fill=\"none\" id=\"E3-&gt;E6\" style=\"stroke: #A80036; stroke-width: 1.0;\"/><polygon fill=\"#A80036\" points=\"195.15,282.85,204.9881,283.3102,199.8089,281.035,202.0841,275.8559,195.15,282.85\" style=\"stroke: #A80036; stroke-width: 1.0;\"/><text fill=\"#000000\" font-family=\"sans-serif\" font-size=\"13\" lengthAdjust=\"spacingAndGlyphs\" textLength=\"44\" x=\"224\" y=\"181.0669\">[x &gt; 1]</text></a><!--MD5=[ca5a752d6098d8a44b3f88316e7452d1]\n",
       "link E3 to E8--><a href=\"psysml:c4aa7bb1-7be8-4d3d-94c8-0c3feb0dde03\" target=\"_top\" title=\"psysml:c4aa7bb1-7be8-4d3d-94c8-0c3feb0dde03\" xlink:actuate=\"onRequest\" xlink:href=\"psysml:c4aa7bb1-7be8-4d3d-94c8-0c3feb0dde03\" xlink:show=\"new\" xlink:title=\"psysml:c4aa7bb1-7be8-4d3d-94c8-0c3feb0dde03\" xlink:type=\"simple\"><path d=\"M147.65,45.88 C153.56,49.59 162.55,54.81 171,58 C186.34,63.79 195.35,54.47 207,66 C220.94,79.81 204.74,93.68 217,109 C223.18,116.72 231.96,122.48 240.86,126.73 \" fill=\"none\" id=\"E3-&gt;E8\" style=\"stroke: #A80036; stroke-width: 1.0;\"/><polygon fill=\"#A80036\" points=\"245.81,128.93,239.2251,121.6061,241.2451,126.89,235.9612,128.91,245.81,128.93\" style=\"stroke: #A80036; stroke-width: 1.0;\"/></a><!--MD5=[95fa686b5a16158bcdbcaeead89f639b]\n",
       "link E8 to E3--><a href=\"psysml:313c2626-617f-4a85-9d7c-c31cb61d9b9e\" target=\"_top\" title=\"psysml:313c2626-617f-4a85-9d7c-c31cb61d9b9e\" xlink:actuate=\"onRequest\" xlink:href=\"psysml:313c2626-617f-4a85-9d7c-c31cb61d9b9e\" xlink:show=\"new\" xlink:title=\"psysml:313c2626-617f-4a85-9d7c-c31cb61d9b9e\" xlink:type=\"simple\"><path d=\"M253.3,116.74 C250.77,114.19 248.29,111.58 246,109 C230.2,91.18 234.22,78.6 214,66 C197.5,55.72 189.3,64.54 171,58 C164.35,55.62 157.42,51.9 151.89,48.59 \" fill=\"none\" id=\"E8-&gt;E3\" style=\"stroke: #A80036; stroke-width: 1.0;\"/><polygon fill=\"#A80036\" points=\"147.62,45.95,153.1764,54.0818,151.8744,48.5769,157.3793,47.2748,147.62,45.95\" style=\"stroke: #A80036; stroke-width: 1.0;\"/><text fill=\"#000000\" font-family=\"sans-serif\" font-size=\"13\" lengthAdjust=\"spacingAndGlyphs\" textLength=\"44\" x=\"247\" y=\"92.0669\">[x &gt; 0]</text></a><!--MD5=[af87c684e3b0d8be13c1a698a818ef1e]\n",
       "link E3 to E4--><a href=\"psysml:9e59e0cd-e7d6-48f9-8abd-2b6da2cb7bd3\" target=\"_top\" title=\"psysml:9e59e0cd-e7d6-48f9-8abd-2b6da2cb7bd3\" xlink:actuate=\"onRequest\" xlink:href=\"psysml:9e59e0cd-e7d6-48f9-8abd-2b6da2cb7bd3\" xlink:show=\"new\" xlink:title=\"psysml:9e59e0cd-e7d6-48f9-8abd-2b6da2cb7bd3\" xlink:type=\"simple\"><path d=\"M130.87,42.54 C108.03,45.11 53.64,52.54 42,66 C28.37,81.77 29.55,107.42 32.02,123.33 \" fill=\"none\" id=\"E3-&gt;E4\" style=\"stroke: #A80036; stroke-width: 1.0;\"/><polygon fill=\"#A80036\" points=\"32.88,128.32,35.3057,118.7745,32.0372,123.3915,27.4201,120.1231,32.88,128.32\" style=\"stroke: #A80036; stroke-width: 1.0;\"/></a><!--MD5=[1b7591eae5389033d8d09a9d6721a717]\n",
       "link E4 to E5--><a href=\"psysml:7b0b5bc6-fd2d-464d-92f4-1e71099b6f78\" target=\"_top\" title=\"psysml:7b0b5bc6-fd2d-464d-92f4-1e71099b6f78\" xlink:actuate=\"onRequest\" xlink:href=\"psysml:7b0b5bc6-fd2d-464d-92f4-1e71099b6f78\" xlink:show=\"new\" xlink:title=\"psysml:7b0b5bc6-fd2d-464d-92f4-1e71099b6f78\" xlink:type=\"simple\"><path d=\"M40.09,145.69 C48.35,155.37 65.62,174.11 84,185 C93.67,190.73 97.38,189.32 108,193 C115.1,195.46 122.69,198.15 129.93,200.74 \" fill=\"none\" id=\"E4-&gt;E5\" style=\"stroke: #A80036; stroke-width: 1.0;\"/><polygon fill=\"#A80036\" points=\"134.87,202.52,127.7488,195.7164,130.1636,200.832,125.048,203.2467,134.87,202.52\" style=\"stroke: #A80036; stroke-width: 1.0;\"/><text fill=\"#000000\" font-family=\"sans-serif\" font-size=\"13\" lengthAdjust=\"spacingAndGlyphs\" textLength=\"36\" x=\"85\" y=\"181.0669\">[true]</text></a><!--MD5=[79568f1e445c3877b6a54524624ccc7d]\n",
       "link E4 to E6--><a href=\"psysml:2cb1b039-bbb8-4621-9b87-8355478bfab0\" target=\"_top\" title=\"psysml:2cb1b039-bbb8-4621-9b87-8355478bfab0\" xlink:actuate=\"onRequest\" xlink:href=\"psysml:2cb1b039-bbb8-4621-9b87-8355478bfab0\" xlink:show=\"new\" xlink:title=\"psysml:2cb1b039-bbb8-4621-9b87-8355478bfab0\" xlink:type=\"simple\"><path d=\"M36.89,148.77 C41.08,167.27 52.64,209.28 76,236 C90.77,252.89 112.21,266 130.35,275.02 \" fill=\"none\" id=\"E4-&gt;E6\" style=\"stroke: #A80036; stroke-width: 1.0;\"/><polygon fill=\"#A80036\" points=\"134.88,277.22,128.532,269.6898,130.3825,275.0355,125.0368,276.8859,134.88,277.22\" style=\"stroke: #A80036; stroke-width: 1.0;\"/><text fill=\"#000000\" font-family=\"sans-serif\" font-size=\"13\" lengthAdjust=\"spacingAndGlyphs\" textLength=\"40\" x=\"77\" y=\"219.0669\">[false]</text></a><!--MD5=[9120cf2e5df3bff93db8f754bbbc09b4]\n",
       "link E5 to E6--><a href=\"psysml:b49ece63-4bda-4eac-a48b-66e19b9bdab7\" target=\"_top\" title=\"psysml:b49ece63-4bda-4eac-a48b-66e19b9bdab7\" xlink:actuate=\"onRequest\" xlink:href=\"psysml:b49ece63-4bda-4eac-a48b-66e19b9bdab7\" xlink:show=\"new\" xlink:title=\"psysml:b49ece63-4bda-4eac-a48b-66e19b9bdab7\" xlink:type=\"simple\"><path d=\"M165,236.11 C165,244.69 165,254.75 165,263.8 \" fill=\"none\" id=\"E5-&gt;E6\" style=\"stroke: #A80036; stroke-width: 1.0;\"/><polygon fill=\"#A80036\" points=\"165,269,169,260,165,264,161,260,165,269\" style=\"stroke: #A80036; stroke-width: 1.0;\"/><text fill=\"#000000\" font-family=\"sans-serif\" font-size=\"13\" lengthAdjust=\"spacingAndGlyphs\" textLength=\"55\" x=\"166\" y=\"257.0669\">[x == 0]</text></a><!--MD5=[718bbc4a2d71e8c3551645c215608356]\n",
       "@startuml\r\n",
       "skinparam ranksep 10\r\n",
       "skinparam rectangle {\r\n",
       " backgroundColor<<block>> LightGreen\r\n",
       "}\r\n",
       "skinparam wrapWidth 300\r\n",
       "hide circle\r\n",
       "\r\n",
       "rec def \"DecisionTest\" as E1  <<(T,blue)action def>> [[psysml:3be07126-877a-4309-8447-1e285ef81f95 ]] {\r\n",
       "portout \"$result\" as E2  [[psysml:9348992a-eef4-478a-99a3-8679640e907b ]] \r\n",
       "choice \"test x\" as E3  [[psysml:68020b6f-ffe7-4b5f-b810-1edcbdd08af0 ]] \r\n",
       "choice \"noname\" as E4  [[psysml:c53ed86d-7fd9-4daa-81a5-a3aaa8a48fdd ]] \r\n",
       "rec usage \"A1\" as E5  <<(T,blue)action>> [[psysml:0f40ea9b-adac-4a33-8b1a-34d15e55e3d2 ]] {\r\n",
       "}\r\n",
       "\r\n",
       "rec usage \"A2\" as E6  <<(T,blue)action>> [[psysml:128661ee-6ef6-488f-adc9-4acba814b00a ]] {\r\n",
       "}\r\n",
       "\r\n",
       "rec usage \"A3\" as E7  <<(T,blue)action>> [[psysml:7b9f6d16-7e81-4d0a-aec9-34a5599243af ]] {\r\n",
       "}\r\n",
       "\r\n",
       "rec usage \"A3\" as E8  <<(T,blue)action>> [[psysml:7b9f6d16-7e81-4d0a-aec9-34a5599243af ]] {\r\n",
       "}\r\n",
       "\r\n",
       "}\r\n",
       "\r\n",
       "E3  - -> E5 [[psysml:7286f462-e52e-4ebc-bfea-7701f26f76d2 ]] : [x == 1]\r\n",
       "E3  - -> E6 [[psysml:e748a59f-80ec-4a6b-adc3-e898091fbade ]] : [x > 1]\r\n",
       "E3  - -> E8 [[psysml:c4aa7bb1-7be8-4d3d-94c8-0c3feb0dde03 ]] \r\n",
       "E3 - -> E4 [[psysml:9e59e0cd-e7d6-48f9-8abd-2b6da2cb7bd3 ]] \r\n",
       "E4  - -> E5 [[psysml:7b0b5bc6-fd2d-464d-92f4-1e71099b6f78 ]] : [true]\r\n",
       "E4  - -> E6 [[psysml:2cb1b039-bbb8-4621-9b87-8355478bfab0 ]] : [false]\r\n",
       "E5  - -> E6 [[psysml:b49ece63-4bda-4eac-a48b-66e19b9bdab7 ]] : [x == 0]\r\n",
       "E8  - -> E3 [[psysml:313c2626-617f-4a85-9d7c-c31cb61d9b9e ]] : [x > 0]\r\n",
       "@enduml\r\n",
       "\n",
       "PlantUML version 1.2020.13(Sat Jun 13 12:26:38 UTC 2020)\n",
       "(EPL source distribution)\n",
       "Java Runtime: OpenJDK Runtime Environment\n",
       "JVM: OpenJDK 64-Bit Server VM\n",
       "Default Encoding: UTF-8\n",
       "Language: en\n",
       "Country: null\n",
       "--></g></svg>"
      ]
     },
     "execution_count": 26,
     "metadata": {},
     "output_type": "execute_result"
    }
   ],
   "source": [
    "%viz --style=\"STDCOLOR\" --view=\"Interconnection\" \"DecisionTest\""
   ]
  },
  {
   "cell_type": "code",
   "execution_count": 27,
   "id": "af4ce6e1",
   "metadata": {
    "execution": {
     "iopub.execute_input": "2021-05-27T06:09:53.426698Z",
     "iopub.status.busy": "2021-05-27T06:09:53.425630Z",
     "iopub.status.idle": "2021-05-27T06:09:53.459781Z",
     "shell.execute_reply": "2021-05-27T06:09:53.458429Z"
    }
   },
   "outputs": [
    {
     "data": {
      "image/svg+xml": [
       "<?xml version=\"1.0\" encoding=\"UTF-8\" standalone=\"no\"?><svg xmlns=\"http://www.w3.org/2000/svg\" xmlns:xlink=\"http://www.w3.org/1999/xlink\" contentScriptType=\"application/ecmascript\" contentStyleType=\"text/css\" height=\"384px\" preserveAspectRatio=\"none\" style=\"width:341px;height:384px;\" version=\"1.1\" viewBox=\"0 0 341 384\" width=\"341px\" zoomAndPan=\"magnify\"><defs><filter height=\"300%\" id=\"f9r1dsu19vqoc\" width=\"300%\" x=\"-1\" y=\"-1\"><feGaussianBlur result=\"blurOut\" stdDeviation=\"2.0\"/><feColorMatrix in=\"blurOut\" result=\"blurOut2\" type=\"matrix\" values=\"0 0 0 0 0 0 0 0 0 0 0 0 0 0 0 0 0 0 .4 0\"/><feOffset dx=\"4.0\" dy=\"4.0\" in=\"blurOut2\" result=\"blurOut3\"/><feBlend in=\"SourceGraphic\" in2=\"blurOut3\" mode=\"normal\"/></filter></defs><g><!--MD5=[fbc87193dbaf4d95561dea2c320d4a47]\n",
       "cluster E1--><a href=\"psysml:3be07126-877a-4309-8447-1e285ef81f95\" target=\"_top\" title=\"psysml:3be07126-877a-4309-8447-1e285ef81f95\" xlink:actuate=\"onRequest\" xlink:href=\"psysml:3be07126-877a-4309-8447-1e285ef81f95\" xlink:show=\"new\" xlink:title=\"psysml:3be07126-877a-4309-8447-1e285ef81f95\" xlink:type=\"simple\"><rect fill=\"#FFFFFF\" filter=\"url(#f9r1dsu19vqoc)\" height=\"344.72\" id=\"E1\" style=\"stroke: #A80036; stroke-width: 1.5;\" width=\"315\" x=\"7\" y=\"7\"/><rect fill=\"#FEFECE\" height=\"37.9375\" style=\"stroke: #A80036; stroke-width: 1.5;\" width=\"315\" x=\"7\" y=\"7\"/><text fill=\"#000000\" font-family=\"sans-serif\" font-size=\"12\" font-style=\"italic\" lengthAdjust=\"spacingAndGlyphs\" textLength=\"77\" x=\"126\" y=\"23.1387\">«action def»</text><text fill=\"#000000\" font-family=\"sans-serif\" font-size=\"12\" lengthAdjust=\"spacingAndGlyphs\" textLength=\"80\" x=\"124.5\" y=\"37.1074\">DecisionTest</text></a><text fill=\"#000000\" font-family=\"sans-serif\" font-size=\"14\" lengthAdjust=\"spacingAndGlyphs\" textLength=\"48\" x=\"140\" y=\"370.7151\">$result</text><rect fill=\"#A80036\" height=\"12\" style=\"stroke: #FEFECE; stroke-width: 1.5;\" width=\"12\" x=\"158\" y=\"345.72\"/><polygon fill=\"#FEFECE\" filter=\"url(#f9r1dsu19vqoc)\" points=\"141,28.5,153,40.5,141,52.5,129,40.5,141,28.5\" style=\"stroke: #A80036; stroke-width: 1.5;\"/><polygon fill=\"#FEFECE\" filter=\"url(#f9r1dsu19vqoc)\" points=\"35,126.5,47,138.5,35,150.5,23,138.5,35,126.5\" style=\"stroke: #A80036; stroke-width: 1.5;\"/><g id=\"E1.E5\"><a href=\"psysml:0f40ea9b-adac-4a33-8b1a-34d15e55e3d2\" target=\"_top\" title=\"psysml:0f40ea9b-adac-4a33-8b1a-34d15e55e3d2\" xlink:actuate=\"onRequest\" xlink:href=\"psysml:0f40ea9b-adac-4a33-8b1a-34d15e55e3d2\" xlink:show=\"new\" xlink:title=\"psysml:0f40ea9b-adac-4a33-8b1a-34d15e55e3d2\" xlink:type=\"simple\"><rect fill=\"#FEFECE\" filter=\"url(#f9r1dsu19vqoc)\" height=\"42.9375\" id=\"E5\" rx=\"10\" ry=\"10\" style=\"stroke: #A80036; stroke-width: 1.5;\" width=\"60\" x=\"135\" y=\"193\"/><text fill=\"#000000\" font-family=\"sans-serif\" font-size=\"12\" font-style=\"italic\" lengthAdjust=\"spacingAndGlyphs\" textLength=\"53\" x=\"138.5\" y=\"209.1387\">«action»</text><text fill=\"#000000\" font-family=\"sans-serif\" font-size=\"12\" lengthAdjust=\"spacingAndGlyphs\" textLength=\"16\" x=\"157\" y=\"223.1074\">A1</text></a></g><g id=\"E1.E6\"><a href=\"psysml:128661ee-6ef6-488f-adc9-4acba814b00a\" target=\"_top\" title=\"psysml:128661ee-6ef6-488f-adc9-4acba814b00a\" xlink:actuate=\"onRequest\" xlink:href=\"psysml:128661ee-6ef6-488f-adc9-4acba814b00a\" xlink:show=\"new\" xlink:title=\"psysml:128661ee-6ef6-488f-adc9-4acba814b00a\" xlink:type=\"simple\"><rect fill=\"#FEFECE\" filter=\"url(#f9r1dsu19vqoc)\" height=\"42.9375\" id=\"E6\" rx=\"10\" ry=\"10\" style=\"stroke: #A80036; stroke-width: 1.5;\" width=\"60\" x=\"135\" y=\"269\"/><text fill=\"#000000\" font-family=\"sans-serif\" font-size=\"12\" font-style=\"italic\" lengthAdjust=\"spacingAndGlyphs\" textLength=\"53\" x=\"138.5\" y=\"285.1387\">«action»</text><text fill=\"#000000\" font-family=\"sans-serif\" font-size=\"12\" lengthAdjust=\"spacingAndGlyphs\" textLength=\"16\" x=\"157\" y=\"299.1074\">A2</text></a></g><g id=\"E1.E7\"><a href=\"psysml:7b9f6d16-7e81-4d0a-aec9-34a5599243af\" target=\"_top\" title=\"psysml:7b9f6d16-7e81-4d0a-aec9-34a5599243af\" xlink:actuate=\"onRequest\" xlink:href=\"psysml:7b9f6d16-7e81-4d0a-aec9-34a5599243af\" xlink:show=\"new\" xlink:title=\"psysml:7b9f6d16-7e81-4d0a-aec9-34a5599243af\" xlink:type=\"simple\"><rect fill=\"#FEFECE\" filter=\"url(#f9r1dsu19vqoc)\" height=\"42.9375\" id=\"E7\" rx=\"10\" ry=\"10\" style=\"stroke: #A80036; stroke-width: 1.5;\" width=\"60\" x=\"46\" y=\"66\"/><text fill=\"#000000\" font-family=\"sans-serif\" font-size=\"12\" font-style=\"italic\" lengthAdjust=\"spacingAndGlyphs\" textLength=\"53\" x=\"49.5\" y=\"82.1387\">«action»</text><text fill=\"#000000\" font-family=\"sans-serif\" font-size=\"12\" lengthAdjust=\"spacingAndGlyphs\" textLength=\"16\" x=\"68\" y=\"96.1074\">A3</text></a></g><g id=\"E1.E8\"><a href=\"psysml:7b9f6d16-7e81-4d0a-aec9-34a5599243af\" target=\"_top\" title=\"psysml:7b9f6d16-7e81-4d0a-aec9-34a5599243af\" xlink:actuate=\"onRequest\" xlink:href=\"psysml:7b9f6d16-7e81-4d0a-aec9-34a5599243af\" xlink:show=\"new\" xlink:title=\"psysml:7b9f6d16-7e81-4d0a-aec9-34a5599243af\" xlink:type=\"simple\"><rect fill=\"#FEFECE\" filter=\"url(#f9r1dsu19vqoc)\" height=\"42.9375\" id=\"E8\" rx=\"10\" ry=\"10\" style=\"stroke: #A80036; stroke-width: 1.5;\" width=\"60\" x=\"246\" y=\"117\"/><text fill=\"#000000\" font-family=\"sans-serif\" font-size=\"12\" font-style=\"italic\" lengthAdjust=\"spacingAndGlyphs\" textLength=\"53\" x=\"249.5\" y=\"133.1387\">«action»</text><text fill=\"#000000\" font-family=\"sans-serif\" font-size=\"12\" lengthAdjust=\"spacingAndGlyphs\" textLength=\"16\" x=\"268\" y=\"147.1074\">A3</text></a></g><!--MD5=[0188b64bb0ae78505a997a81836e11e9]\n",
       "link E3 to E5--><a href=\"psysml:7286f462-e52e-4ebc-bfea-7701f26f76d2\" target=\"_top\" title=\"psysml:7286f462-e52e-4ebc-bfea-7701f26f76d2\" xlink:actuate=\"onRequest\" xlink:href=\"psysml:7286f462-e52e-4ebc-bfea-7701f26f76d2\" xlink:show=\"new\" xlink:title=\"psysml:7286f462-e52e-4ebc-bfea-7701f26f76d2\" xlink:type=\"simple\"><path d=\"M140.07,51.78 C138.47,72.5 136.04,120.67 144,160 C145.92,169.49 149.4,179.47 152.99,188.21 \" fill=\"none\" id=\"E3-&gt;E5\" style=\"stroke: #A80036; stroke-width: 1.0; stroke-dasharray: 7.0,7.0;\"/><polygon fill=\"#A80036\" points=\"154.98,192.92,155.1631,183.0728,153.0346,188.314,147.7935,186.1855,154.98,192.92\" style=\"stroke: #A80036; stroke-width: 1.0;\"/><text fill=\"#000000\" font-family=\"sans-serif\" font-size=\"13\" lengthAdjust=\"spacingAndGlyphs\" textLength=\"55\" x=\"145\" y=\"143.0669\">[x == 1]</text></a><!--MD5=[ec9844e0c75763426927cad3229d1081]\n",
       "link E3 to E6--><a href=\"psysml:e748a59f-80ec-4a6b-adc3-e898091fbade\" target=\"_top\" title=\"psysml:e748a59f-80ec-4a6b-adc3-e898091fbade\" xlink:actuate=\"onRequest\" xlink:href=\"psysml:e748a59f-80ec-4a6b-adc3-e898091fbade\" xlink:show=\"new\" xlink:title=\"psysml:e748a59f-80ec-4a6b-adc3-e898091fbade\" xlink:type=\"simple\"><path d=\"M147.17,46.62 C160.24,57.84 190.71,86.12 205,117 C229.03,168.92 221.32,186.98 226,244 C226.62,251.53 230.06,254.63 226,261 C220.01,270.41 210.02,276.76 199.83,281.03 \" fill=\"none\" id=\"E3-&gt;E6\" style=\"stroke: #A80036; stroke-width: 1.0; stroke-dasharray: 7.0,7.0;\"/><polygon fill=\"#A80036\" points=\"195.15,282.85,204.9881,283.3102,199.8089,281.035,202.0841,275.8559,195.15,282.85\" style=\"stroke: #A80036; stroke-width: 1.0;\"/><text fill=\"#000000\" font-family=\"sans-serif\" font-size=\"13\" lengthAdjust=\"spacingAndGlyphs\" textLength=\"44\" x=\"224\" y=\"181.0669\">[x &gt; 1]</text></a><!--MD5=[ca5a752d6098d8a44b3f88316e7452d1]\n",
       "link E3 to E8--><a href=\"psysml:c4aa7bb1-7be8-4d3d-94c8-0c3feb0dde03\" target=\"_top\" title=\"psysml:c4aa7bb1-7be8-4d3d-94c8-0c3feb0dde03\" xlink:actuate=\"onRequest\" xlink:href=\"psysml:c4aa7bb1-7be8-4d3d-94c8-0c3feb0dde03\" xlink:show=\"new\" xlink:title=\"psysml:c4aa7bb1-7be8-4d3d-94c8-0c3feb0dde03\" xlink:type=\"simple\"><path d=\"M147.65,45.88 C153.56,49.59 162.55,54.81 171,58 C186.34,63.79 195.35,54.47 207,66 C220.94,79.81 204.74,93.68 217,109 C223.18,116.72 231.96,122.48 240.86,126.73 \" fill=\"none\" id=\"E3-&gt;E8\" style=\"stroke: #A80036; stroke-width: 1.0; stroke-dasharray: 7.0,7.0;\"/><polygon fill=\"#A80036\" points=\"245.81,128.93,239.2251,121.6061,241.2451,126.89,235.9612,128.91,245.81,128.93\" style=\"stroke: #A80036; stroke-width: 1.0;\"/></a><!--MD5=[95fa686b5a16158bcdbcaeead89f639b]\n",
       "link E8 to E3--><a href=\"psysml:313c2626-617f-4a85-9d7c-c31cb61d9b9e\" target=\"_top\" title=\"psysml:313c2626-617f-4a85-9d7c-c31cb61d9b9e\" xlink:actuate=\"onRequest\" xlink:href=\"psysml:313c2626-617f-4a85-9d7c-c31cb61d9b9e\" xlink:show=\"new\" xlink:title=\"psysml:313c2626-617f-4a85-9d7c-c31cb61d9b9e\" xlink:type=\"simple\"><path d=\"M253.3,116.74 C250.77,114.19 248.29,111.58 246,109 C230.2,91.18 234.22,78.6 214,66 C197.5,55.72 189.3,64.54 171,58 C164.35,55.62 157.42,51.9 151.89,48.59 \" fill=\"none\" id=\"E8-&gt;E3\" style=\"stroke: #A80036; stroke-width: 1.0; stroke-dasharray: 7.0,7.0;\"/><polygon fill=\"#A80036\" points=\"147.62,45.95,153.1764,54.0818,151.8744,48.5769,157.3793,47.2748,147.62,45.95\" style=\"stroke: #A80036; stroke-width: 1.0;\"/><text fill=\"#000000\" font-family=\"sans-serif\" font-size=\"13\" lengthAdjust=\"spacingAndGlyphs\" textLength=\"44\" x=\"247\" y=\"92.0669\">[x &gt; 0]</text></a><!--MD5=[af87c684e3b0d8be13c1a698a818ef1e]\n",
       "link E3 to E4--><a href=\"psysml:9e59e0cd-e7d6-48f9-8abd-2b6da2cb7bd3\" target=\"_top\" title=\"psysml:9e59e0cd-e7d6-48f9-8abd-2b6da2cb7bd3\" xlink:actuate=\"onRequest\" xlink:href=\"psysml:9e59e0cd-e7d6-48f9-8abd-2b6da2cb7bd3\" xlink:show=\"new\" xlink:title=\"psysml:9e59e0cd-e7d6-48f9-8abd-2b6da2cb7bd3\" xlink:type=\"simple\"><path d=\"M130.87,42.54 C108.03,45.11 53.64,52.54 42,66 C28.37,81.77 29.55,107.42 32.02,123.33 \" fill=\"none\" id=\"E3-&gt;E4\" style=\"stroke: #A80036; stroke-width: 1.0; stroke-dasharray: 7.0,7.0;\"/><polygon fill=\"#A80036\" points=\"32.88,128.32,35.3057,118.7745,32.0372,123.3915,27.4201,120.1231,32.88,128.32\" style=\"stroke: #A80036; stroke-width: 1.0;\"/></a><!--MD5=[1b7591eae5389033d8d09a9d6721a717]\n",
       "link E4 to E5--><a href=\"psysml:7b0b5bc6-fd2d-464d-92f4-1e71099b6f78\" target=\"_top\" title=\"psysml:7b0b5bc6-fd2d-464d-92f4-1e71099b6f78\" xlink:actuate=\"onRequest\" xlink:href=\"psysml:7b0b5bc6-fd2d-464d-92f4-1e71099b6f78\" xlink:show=\"new\" xlink:title=\"psysml:7b0b5bc6-fd2d-464d-92f4-1e71099b6f78\" xlink:type=\"simple\"><path d=\"M40.09,145.69 C48.35,155.37 65.62,174.11 84,185 C93.67,190.73 97.38,189.32 108,193 C115.1,195.46 122.69,198.15 129.93,200.74 \" fill=\"none\" id=\"E4-&gt;E5\" style=\"stroke: #A80036; stroke-width: 1.0; stroke-dasharray: 7.0,7.0;\"/><polygon fill=\"#A80036\" points=\"134.87,202.52,127.7488,195.7164,130.1636,200.832,125.048,203.2467,134.87,202.52\" style=\"stroke: #A80036; stroke-width: 1.0;\"/><text fill=\"#000000\" font-family=\"sans-serif\" font-size=\"13\" lengthAdjust=\"spacingAndGlyphs\" textLength=\"36\" x=\"85\" y=\"181.0669\">[true]</text></a><!--MD5=[79568f1e445c3877b6a54524624ccc7d]\n",
       "link E4 to E6--><a href=\"psysml:2cb1b039-bbb8-4621-9b87-8355478bfab0\" target=\"_top\" title=\"psysml:2cb1b039-bbb8-4621-9b87-8355478bfab0\" xlink:actuate=\"onRequest\" xlink:href=\"psysml:2cb1b039-bbb8-4621-9b87-8355478bfab0\" xlink:show=\"new\" xlink:title=\"psysml:2cb1b039-bbb8-4621-9b87-8355478bfab0\" xlink:type=\"simple\"><path d=\"M36.89,148.77 C41.08,167.27 52.64,209.28 76,236 C90.77,252.89 112.21,266 130.35,275.02 \" fill=\"none\" id=\"E4-&gt;E6\" style=\"stroke: #A80036; stroke-width: 1.0; stroke-dasharray: 7.0,7.0;\"/><polygon fill=\"#A80036\" points=\"134.88,277.22,128.532,269.6898,130.3825,275.0355,125.0368,276.8859,134.88,277.22\" style=\"stroke: #A80036; stroke-width: 1.0;\"/><text fill=\"#000000\" font-family=\"sans-serif\" font-size=\"13\" lengthAdjust=\"spacingAndGlyphs\" textLength=\"40\" x=\"77\" y=\"219.0669\">[false]</text></a><!--MD5=[9120cf2e5df3bff93db8f754bbbc09b4]\n",
       "link E5 to E6--><a href=\"psysml:b49ece63-4bda-4eac-a48b-66e19b9bdab7\" target=\"_top\" title=\"psysml:b49ece63-4bda-4eac-a48b-66e19b9bdab7\" xlink:actuate=\"onRequest\" xlink:href=\"psysml:b49ece63-4bda-4eac-a48b-66e19b9bdab7\" xlink:show=\"new\" xlink:title=\"psysml:b49ece63-4bda-4eac-a48b-66e19b9bdab7\" xlink:type=\"simple\"><path d=\"M165,236.11 C165,244.69 165,254.75 165,263.8 \" fill=\"none\" id=\"E5-&gt;E6\" style=\"stroke: #A80036; stroke-width: 1.0; stroke-dasharray: 7.0,7.0;\"/><polygon fill=\"#A80036\" points=\"165,269,169,260,165,264,161,260,165,269\" style=\"stroke: #A80036; stroke-width: 1.0;\"/><text fill=\"#000000\" font-family=\"sans-serif\" font-size=\"13\" lengthAdjust=\"spacingAndGlyphs\" textLength=\"55\" x=\"166\" y=\"257.0669\">[x == 0]</text></a><!--MD5=[2e82f113c18b11fde2930627042bcbf6]\n",
       "@startuml\r\n",
       "skinparam ranksep 8\r\n",
       "skinparam wrapWidth 300\r\n",
       "hide circle\r\n",
       "\r\n",
       "rec def \"DecisionTest\" as E1  <<(T,blue)action def>> [[psysml:3be07126-877a-4309-8447-1e285ef81f95 ]] {\r\n",
       "portout \"$result\" as E2  [[psysml:9348992a-eef4-478a-99a3-8679640e907b ]] \r\n",
       "choice \"test x\" as E3  [[psysml:68020b6f-ffe7-4b5f-b810-1edcbdd08af0 ]] \r\n",
       "choice \"noname\" as E4  [[psysml:c53ed86d-7fd9-4daa-81a5-a3aaa8a48fdd ]] \r\n",
       "rec usage \"A1\" as E5  <<(T,blue)action>> [[psysml:0f40ea9b-adac-4a33-8b1a-34d15e55e3d2 ]] {\r\n",
       "}\r\n",
       "\r\n",
       "rec usage \"A2\" as E6  <<(T,blue)action>> [[psysml:128661ee-6ef6-488f-adc9-4acba814b00a ]] {\r\n",
       "}\r\n",
       "\r\n",
       "rec usage \"A3\" as E7  <<(T,blue)action>> [[psysml:7b9f6d16-7e81-4d0a-aec9-34a5599243af ]] {\r\n",
       "}\r\n",
       "\r\n",
       "rec usage \"A3\" as E8  <<(T,blue)action>> [[psysml:7b9f6d16-7e81-4d0a-aec9-34a5599243af ]] {\r\n",
       "}\r\n",
       "\r\n",
       "}\r\n",
       "\r\n",
       "E3 ..> E5 [[psysml:7286f462-e52e-4ebc-bfea-7701f26f76d2 ]] : [x == 1]\r\n",
       "E3 ..> E6 [[psysml:e748a59f-80ec-4a6b-adc3-e898091fbade ]] : [x > 1]\r\n",
       "E3 ..> E8 [[psysml:c4aa7bb1-7be8-4d3d-94c8-0c3feb0dde03 ]] \r\n",
       "E3 ..> E4 [[psysml:9e59e0cd-e7d6-48f9-8abd-2b6da2cb7bd3 ]] \r\n",
       "E4 ..> E5 [[psysml:7b0b5bc6-fd2d-464d-92f4-1e71099b6f78 ]] : [true]\r\n",
       "E4 ..> E6 [[psysml:2cb1b039-bbb8-4621-9b87-8355478bfab0 ]] : [false]\r\n",
       "E5 ..> E6 [[psysml:b49ece63-4bda-4eac-a48b-66e19b9bdab7 ]] : [x == 0]\r\n",
       "E8 ..> E3 [[psysml:313c2626-617f-4a85-9d7c-c31cb61d9b9e ]] : [x > 0]\r\n",
       "@enduml\r\n",
       "\n",
       "PlantUML version 1.2020.13(Sat Jun 13 12:26:38 UTC 2020)\n",
       "(EPL source distribution)\n",
       "Java Runtime: OpenJDK Runtime Environment\n",
       "JVM: OpenJDK 64-Bit Server VM\n",
       "Default Encoding: UTF-8\n",
       "Language: en\n",
       "Country: null\n",
       "--></g></svg>"
      ]
     },
     "execution_count": 27,
     "metadata": {},
     "output_type": "execute_result"
    }
   ],
   "source": [
    "%viz --style=\"STDCOLOR\" --view=\"Action\" \"DecisionTest\""
   ]
  },
  {
   "cell_type": "code",
   "execution_count": 28,
   "id": "2d531fba",
   "metadata": {
    "execution": {
     "iopub.execute_input": "2021-05-27T06:09:53.512605Z",
     "iopub.status.busy": "2021-05-27T06:09:53.511707Z",
     "iopub.status.idle": "2021-05-27T06:09:53.575310Z",
     "shell.execute_reply": "2021-05-27T06:09:53.574852Z"
    }
   },
   "outputs": [
    {
     "data": {
      "image/svg+xml": [
       "<?xml version=\"1.0\" encoding=\"UTF-8\" standalone=\"no\"?><svg xmlns=\"http://www.w3.org/2000/svg\" xmlns:xlink=\"http://www.w3.org/1999/xlink\" contentScriptType=\"application/ecmascript\" contentStyleType=\"text/css\" height=\"199px\" preserveAspectRatio=\"none\" style=\"width:117px;height:199px;\" version=\"1.1\" viewBox=\"0 0 117 199\" width=\"117px\" zoomAndPan=\"magnify\"><defs><filter height=\"300%\" id=\"fy8ibvk8ufctz\" width=\"300%\" x=\"-1\" y=\"-1\"><feGaussianBlur result=\"blurOut\" stdDeviation=\"2.0\"/><feColorMatrix in=\"blurOut\" result=\"blurOut2\" type=\"matrix\" values=\"0 0 0 0 0 0 0 0 0 0 0 0 0 0 0 0 0 0 .4 0\"/><feOffset dx=\"4.0\" dy=\"4.0\" in=\"blurOut2\" result=\"blurOut3\"/><feBlend in=\"SourceGraphic\" in2=\"blurOut3\" mode=\"normal\"/></filter></defs><g><!--MD5=[43c9051892ef23e1a46a86907403d788]\n",
       "class E1--><a href=\"psysml:3be07126-877a-4309-8447-1e285ef81f95\" target=\"_top\" title=\"psysml:3be07126-877a-4309-8447-1e285ef81f95\" xlink:actuate=\"onRequest\" xlink:href=\"psysml:3be07126-877a-4309-8447-1e285ef81f95\" xlink:show=\"new\" xlink:title=\"psysml:3be07126-877a-4309-8447-1e285ef81f95\" xlink:type=\"simple\"><rect fill=\"#FEFECE\" filter=\"url(#fy8ibvk8ufctz)\" height=\"173.1797\" id=\"E1\" style=\"stroke: #A80036; stroke-width: 1.5;\" width=\"91\" x=\"7\" y=\"7\"/><text fill=\"#000000\" font-family=\"sans-serif\" font-size=\"12\" font-style=\"italic\" lengthAdjust=\"spacingAndGlyphs\" textLength=\"77\" x=\"14\" y=\"23.1387\">«action def»</text><text fill=\"#000000\" font-family=\"sans-serif\" font-size=\"12\" lengthAdjust=\"spacingAndGlyphs\" textLength=\"80\" x=\"12.5\" y=\"37.1074\">DecisionTest</text><line style=\"stroke: #A80036; stroke-width: 1.5;\" x1=\"8\" x2=\"97\" y1=\"44.9375\" y2=\"44.9375\"/><text fill=\"#000000\" font-family=\"sans-serif\" font-size=\"11\" lengthAdjust=\"spacingAndGlyphs\" textLength=\"26\" x=\"13\" y=\"59.1479\">x=1;</text><text fill=\"#000000\" font-family=\"sans-serif\" font-size=\"11\" lengthAdjust=\"spacingAndGlyphs\" textLength=\"14\" x=\"13\" y=\"88.7573\">A1</text><text fill=\"#000000\" font-family=\"sans-serif\" font-size=\"11\" lengthAdjust=\"spacingAndGlyphs\" textLength=\"14\" x=\"13\" y=\"101.562\">A2</text><text fill=\"#000000\" font-family=\"sans-serif\" font-size=\"11\" lengthAdjust=\"spacingAndGlyphs\" textLength=\"14\" x=\"13\" y=\"114.3667\">A3</text><line style=\"stroke: #A80036; stroke-width: 1.0;\" x1=\"8\" x2=\"32\" y1=\"72.1445\" y2=\"72.1445\"/><text fill=\"#000000\" font-family=\"sans-serif\" font-size=\"11\" lengthAdjust=\"spacingAndGlyphs\" textLength=\"41\" x=\"32\" y=\"75.4526\">actions</text><line style=\"stroke: #A80036; stroke-width: 1.0;\" x1=\"73\" x2=\"97\" y1=\"72.1445\" y2=\"72.1445\"/><text fill=\"#000000\" font-family=\"sans-serif\" font-size=\"11\" lengthAdjust=\"spacingAndGlyphs\" textLength=\"32\" x=\"13\" y=\"143.9761\">test x</text><line style=\"stroke: #A80036; stroke-width: 1.0;\" x1=\"8\" x2=\"11\" y1=\"127.3633\" y2=\"127.3633\"/><text fill=\"#000000\" font-family=\"sans-serif\" font-size=\"11\" lengthAdjust=\"spacingAndGlyphs\" textLength=\"83\" x=\"11\" y=\"130.6714\">decisionNodes</text><line style=\"stroke: #A80036; stroke-width: 1.0;\" x1=\"94\" x2=\"97\" y1=\"127.3633\" y2=\"127.3633\"/><text fill=\"#000000\" font-family=\"sans-serif\" font-size=\"11\" lengthAdjust=\"spacingAndGlyphs\" textLength=\"8\" x=\"13\" y=\"173.5854\">S</text><line style=\"stroke: #A80036; stroke-width: 1.0;\" x1=\"8\" x2=\"22\" y1=\"156.9727\" y2=\"156.9727\"/><text fill=\"#000000\" font-family=\"sans-serif\" font-size=\"11\" lengthAdjust=\"spacingAndGlyphs\" textLength=\"61\" x=\"22\" y=\"160.2808\">transitions</text><line style=\"stroke: #A80036; stroke-width: 1.0;\" x1=\"83\" x2=\"97\" y1=\"156.9727\" y2=\"156.9727\"/></a><!--MD5=[7a2200e0ddf2ab1ad00a89321bff4f24]\n",
       "@startuml\r\n",
       "skinparam wrapWidth 300\r\n",
       "hide circle\r\n",
       "\r\n",
       "comp def \"DecisionTest\" as E1  <<(T,blue)action def>> [[psysml:3be07126-877a-4309-8447-1e285ef81f95 ]] {\r\n",
       "x=1; \r\n",
       "- - actions - -\r\n",
       "A1\r\n",
       "A2\r\n",
       "A3\r\n",
       "- - decisionNodes - -\r\n",
       "test x\r\n",
       "- - transitions - -\r\n",
       "S\r\n",
       "}\r\n",
       "@enduml\r\n",
       "\n",
       "PlantUML version 1.2020.13(Sat Jun 13 12:26:38 UTC 2020)\n",
       "(EPL source distribution)\n",
       "Java Runtime: OpenJDK Runtime Environment\n",
       "JVM: OpenJDK 64-Bit Server VM\n",
       "Default Encoding: UTF-8\n",
       "Language: en\n",
       "Country: null\n",
       "--></g></svg>"
      ]
     },
     "execution_count": 28,
     "metadata": {},
     "output_type": "execute_result"
    }
   ],
   "source": [
    "%viz --style=\"STDCOLOR\" --view=\"Sequence\" \"DecisionTest\""
   ]
  },
  {
   "cell_type": "code",
   "execution_count": 29,
   "id": "a4aaed71",
   "metadata": {
    "execution": {
     "iopub.execute_input": "2021-05-27T06:09:53.630508Z",
     "iopub.status.busy": "2021-05-27T06:09:53.628855Z",
     "iopub.status.idle": "2021-05-27T06:09:53.684579Z",
     "shell.execute_reply": "2021-05-27T06:09:53.683194Z"
    }
   },
   "outputs": [
    {
     "data": {
      "image/svg+xml": [
       "<?xml version=\"1.0\" encoding=\"UTF-8\" standalone=\"no\"?><svg xmlns=\"http://www.w3.org/2000/svg\" xmlns:xlink=\"http://www.w3.org/1999/xlink\" contentScriptType=\"application/ecmascript\" contentStyleType=\"text/css\" height=\"574px\" preserveAspectRatio=\"none\" style=\"width:341px;height:574px;\" version=\"1.1\" viewBox=\"0 0 341 574\" width=\"341px\" zoomAndPan=\"magnify\"><defs><filter height=\"300%\" id=\"fh53asvii781t\" width=\"300%\" x=\"-1\" y=\"-1\"><feGaussianBlur result=\"blurOut\" stdDeviation=\"2.0\"/><feColorMatrix in=\"blurOut\" result=\"blurOut2\" type=\"matrix\" values=\"0 0 0 0 0 0 0 0 0 0 0 0 0 0 0 0 0 0 .4 0\"/><feOffset dx=\"4.0\" dy=\"4.0\" in=\"blurOut2\" result=\"blurOut3\"/><feBlend in=\"SourceGraphic\" in2=\"blurOut3\" mode=\"normal\"/></filter></defs><g><!--MD5=[fbc87193dbaf4d95561dea2c320d4a47]\n",
       "cluster E1--><a href=\"psysml:3be07126-877a-4309-8447-1e285ef81f95\" target=\"_top\" title=\"psysml:3be07126-877a-4309-8447-1e285ef81f95\" xlink:actuate=\"onRequest\" xlink:href=\"psysml:3be07126-877a-4309-8447-1e285ef81f95\" xlink:show=\"new\" xlink:title=\"psysml:3be07126-877a-4309-8447-1e285ef81f95\" xlink:type=\"simple\"><rect fill=\"#FFFFFF\" filter=\"url(#fh53asvii781t)\" height=\"534.72\" id=\"E1\" style=\"stroke: #A80036; stroke-width: 1.5;\" width=\"315\" x=\"7\" y=\"7\"/><rect fill=\"#FEFECE\" height=\"37.9375\" style=\"stroke: #A80036; stroke-width: 1.5;\" width=\"315\" x=\"7\" y=\"7\"/><text fill=\"#000000\" font-family=\"sans-serif\" font-size=\"12\" font-style=\"italic\" lengthAdjust=\"spacingAndGlyphs\" textLength=\"77\" x=\"126\" y=\"23.1387\">«action def»</text><text fill=\"#000000\" font-family=\"sans-serif\" font-size=\"12\" lengthAdjust=\"spacingAndGlyphs\" textLength=\"80\" x=\"124.5\" y=\"37.1074\">DecisionTest</text></a><text fill=\"#000000\" font-family=\"sans-serif\" font-size=\"14\" lengthAdjust=\"spacingAndGlyphs\" textLength=\"48\" x=\"140\" y=\"560.7151\">$result</text><rect fill=\"#A80036\" height=\"12\" style=\"stroke: #FEFECE; stroke-width: 1.5;\" width=\"12\" x=\"158\" y=\"535.72\"/><polygon fill=\"#FEFECE\" filter=\"url(#fh53asvii781t)\" points=\"141,28.5,153,40.5,141,52.5,129,40.5,141,28.5\" style=\"stroke: #A80036; stroke-width: 1.5;\"/><polygon fill=\"#FEFECE\" filter=\"url(#fh53asvii781t)\" points=\"35,170.5,47,182.5,35,194.5,23,182.5,35,170.5\" style=\"stroke: #A80036; stroke-width: 1.5;\"/><g id=\"E1.E5\"><a href=\"psysml:0f40ea9b-adac-4a33-8b1a-34d15e55e3d2\" target=\"_top\" title=\"psysml:0f40ea9b-adac-4a33-8b1a-34d15e55e3d2\" xlink:actuate=\"onRequest\" xlink:href=\"psysml:0f40ea9b-adac-4a33-8b1a-34d15e55e3d2\" xlink:show=\"new\" xlink:title=\"psysml:0f40ea9b-adac-4a33-8b1a-34d15e55e3d2\" xlink:type=\"simple\"><rect fill=\"#FEFECE\" filter=\"url(#fh53asvii781t)\" height=\"42.9375\" id=\"E5\" rx=\"10\" ry=\"10\" style=\"stroke: #A80036; stroke-width: 1.5;\" width=\"60\" x=\"135\" y=\"281\"/><text fill=\"#000000\" font-family=\"sans-serif\" font-size=\"12\" font-style=\"italic\" lengthAdjust=\"spacingAndGlyphs\" textLength=\"53\" x=\"138.5\" y=\"297.1387\">«action»</text><text fill=\"#000000\" font-family=\"sans-serif\" font-size=\"12\" lengthAdjust=\"spacingAndGlyphs\" textLength=\"16\" x=\"157\" y=\"311.1074\">A1</text></a></g><g id=\"E1.E6\"><a href=\"psysml:128661ee-6ef6-488f-adc9-4acba814b00a\" target=\"_top\" title=\"psysml:128661ee-6ef6-488f-adc9-4acba814b00a\" xlink:actuate=\"onRequest\" xlink:href=\"psysml:128661ee-6ef6-488f-adc9-4acba814b00a\" xlink:show=\"new\" xlink:title=\"psysml:128661ee-6ef6-488f-adc9-4acba814b00a\" xlink:type=\"simple\"><rect fill=\"#FEFECE\" filter=\"url(#fh53asvii781t)\" height=\"42.9375\" id=\"E6\" rx=\"10\" ry=\"10\" style=\"stroke: #A80036; stroke-width: 1.5;\" width=\"60\" x=\"135\" y=\"401\"/><text fill=\"#000000\" font-family=\"sans-serif\" font-size=\"12\" font-style=\"italic\" lengthAdjust=\"spacingAndGlyphs\" textLength=\"53\" x=\"138.5\" y=\"417.1387\">«action»</text><text fill=\"#000000\" font-family=\"sans-serif\" font-size=\"12\" lengthAdjust=\"spacingAndGlyphs\" textLength=\"16\" x=\"157\" y=\"431.1074\">A2</text></a></g><g id=\"E1.E7\"><a href=\"psysml:7b9f6d16-7e81-4d0a-aec9-34a5599243af\" target=\"_top\" title=\"psysml:7b9f6d16-7e81-4d0a-aec9-34a5599243af\" xlink:actuate=\"onRequest\" xlink:href=\"psysml:7b9f6d16-7e81-4d0a-aec9-34a5599243af\" xlink:show=\"new\" xlink:title=\"psysml:7b9f6d16-7e81-4d0a-aec9-34a5599243af\" xlink:type=\"simple\"><rect fill=\"#FEFECE\" filter=\"url(#fh53asvii781t)\" height=\"42.9375\" id=\"E7\" rx=\"10\" ry=\"10\" style=\"stroke: #A80036; stroke-width: 1.5;\" width=\"60\" x=\"46\" y=\"88\"/><text fill=\"#000000\" font-family=\"sans-serif\" font-size=\"12\" font-style=\"italic\" lengthAdjust=\"spacingAndGlyphs\" textLength=\"53\" x=\"49.5\" y=\"104.1387\">«action»</text><text fill=\"#000000\" font-family=\"sans-serif\" font-size=\"12\" lengthAdjust=\"spacingAndGlyphs\" textLength=\"16\" x=\"68\" y=\"118.1074\">A3</text></a></g><g id=\"E1.E8\"><a href=\"psysml:7b9f6d16-7e81-4d0a-aec9-34a5599243af\" target=\"_top\" title=\"psysml:7b9f6d16-7e81-4d0a-aec9-34a5599243af\" xlink:actuate=\"onRequest\" xlink:href=\"psysml:7b9f6d16-7e81-4d0a-aec9-34a5599243af\" xlink:show=\"new\" xlink:title=\"psysml:7b9f6d16-7e81-4d0a-aec9-34a5599243af\" xlink:type=\"simple\"><rect fill=\"#FEFECE\" filter=\"url(#fh53asvii781t)\" height=\"42.9375\" id=\"E8\" rx=\"10\" ry=\"10\" style=\"stroke: #A80036; stroke-width: 1.5;\" width=\"60\" x=\"246\" y=\"161\"/><text fill=\"#000000\" font-family=\"sans-serif\" font-size=\"12\" font-style=\"italic\" lengthAdjust=\"spacingAndGlyphs\" textLength=\"53\" x=\"249.5\" y=\"177.1387\">«action»</text><text fill=\"#000000\" font-family=\"sans-serif\" font-size=\"12\" lengthAdjust=\"spacingAndGlyphs\" textLength=\"16\" x=\"268\" y=\"191.1074\">A3</text></a></g><!--MD5=[0188b64bb0ae78505a997a81836e11e9]\n",
       "link E3 to E5--><a href=\"psysml:7286f462-e52e-4ebc-bfea-7701f26f76d2\" target=\"_top\" title=\"psysml:7286f462-e52e-4ebc-bfea-7701f26f76d2\" xlink:actuate=\"onRequest\" xlink:href=\"psysml:7286f462-e52e-4ebc-bfea-7701f26f76d2\" xlink:show=\"new\" xlink:title=\"psysml:7286f462-e52e-4ebc-bfea-7701f26f76d2\" xlink:type=\"simple\"><path d=\"M140.49,52.19 C139.39,78.26 137.41,147.1 144,204 C146.84,228.53 153.03,255.98 157.96,275.49 \" fill=\"none\" id=\"E3-&gt;E5\" style=\"stroke: #A80036; stroke-width: 1.0;\"/><polygon fill=\"#A80036\" points=\"159.31,280.77,160.9741,271.0627,158.0805,275.9235,153.2197,273.0299,159.31,280.77\" style=\"stroke: #A80036; stroke-width: 1.0;\"/><text fill=\"#000000\" font-family=\"sans-serif\" font-size=\"13\" lengthAdjust=\"spacingAndGlyphs\" textLength=\"55\" x=\"145\" y=\"187.0669\">[x == 1]</text></a><!--MD5=[ec9844e0c75763426927cad3229d1081]\n",
       "link E3 to E6--><a href=\"psysml:e748a59f-80ec-4a6b-adc3-e898091fbade\" target=\"_top\" title=\"psysml:e748a59f-80ec-4a6b-adc3-e898091fbade\" xlink:actuate=\"onRequest\" xlink:href=\"psysml:e748a59f-80ec-4a6b-adc3-e898091fbade\" xlink:show=\"new\" xlink:title=\"psysml:e748a59f-80ec-4a6b-adc3-e898091fbade\" xlink:type=\"simple\"><path d=\"M145.73,48.09 C157.96,65.53 190.67,114.68 205,161 C230.5,243.43 221.33,267.84 226,354 C226.41,361.54 229.22,364.16 226,371 C220.27,383.19 209.98,393.45 199.48,401.47 \" fill=\"none\" id=\"E3-&gt;E6\" style=\"stroke: #A80036; stroke-width: 1.0;\"/><polygon fill=\"#A80036\" points=\"195.29,404.54,204.9073,402.4168,199.3138,401.5721,200.1586,395.9786,195.29,404.54\" style=\"stroke: #A80036; stroke-width: 1.0;\"/><text fill=\"#000000\" font-family=\"sans-serif\" font-size=\"13\" lengthAdjust=\"spacingAndGlyphs\" textLength=\"44\" x=\"223\" y=\"247.0669\">[x &gt; 1]</text></a><!--MD5=[ca5a752d6098d8a44b3f88316e7452d1]\n",
       "link E3 to E8--><a href=\"psysml:c4aa7bb1-7be8-4d3d-94c8-0c3feb0dde03\" target=\"_top\" title=\"psysml:c4aa7bb1-7be8-4d3d-94c8-0c3feb0dde03\" xlink:actuate=\"onRequest\" xlink:href=\"psysml:c4aa7bb1-7be8-4d3d-94c8-0c3feb0dde03\" xlink:show=\"new\" xlink:title=\"psysml:c4aa7bb1-7be8-4d3d-94c8-0c3feb0dde03\" xlink:type=\"simple\"><path d=\"M147.97,45.53 C163.29,54.53 199.17,76.37 207,88 C217.96,104.27 206.82,114.23 217,131 C223.37,141.49 232.66,150.9 242,158.68 \" fill=\"none\" id=\"E3-&gt;E8\" style=\"stroke: #A80036; stroke-width: 1.0;\"/><polygon fill=\"#A80036\" points=\"246,161.91,241.5179,153.1401,242.1124,158.7657,236.4869,159.3602,246,161.91\" style=\"stroke: #A80036; stroke-width: 1.0;\"/></a><!--MD5=[95fa686b5a16158bcdbcaeead89f639b]\n",
       "link E8 to E3--><a href=\"psysml:313c2626-617f-4a85-9d7c-c31cb61d9b9e\" target=\"_top\" title=\"psysml:313c2626-617f-4a85-9d7c-c31cb61d9b9e\" xlink:actuate=\"onRequest\" xlink:href=\"psysml:313c2626-617f-4a85-9d7c-c31cb61d9b9e\" xlink:show=\"new\" xlink:title=\"psysml:313c2626-617f-4a85-9d7c-c31cb61d9b9e\" xlink:type=\"simple\"><path d=\"M263.71,160.86 C249.28,137.02 225.81,99.6 214,88 C204.2,78.38 171.17,58.79 153.08,48.37 \" fill=\"none\" id=\"E8-&gt;E3\" style=\"stroke: #A80036; stroke-width: 1.0;\"/><polygon fill=\"#A80036\" points=\"148.41,45.69,154.234,53.6323,152.7495,48.1738,158.208,46.6892,148.41,45.69\" style=\"stroke: #A80036; stroke-width: 1.0;\"/><text fill=\"#000000\" font-family=\"sans-serif\" font-size=\"13\" lengthAdjust=\"spacingAndGlyphs\" textLength=\"44\" x=\"244\" y=\"114.0669\">[x &gt; 0]</text></a><!--MD5=[af87c684e3b0d8be13c1a698a818ef1e]\n",
       "link E3 to E4--><a href=\"psysml:9e59e0cd-e7d6-48f9-8abd-2b6da2cb7bd3\" target=\"_top\" title=\"psysml:9e59e0cd-e7d6-48f9-8abd-2b6da2cb7bd3\" xlink:actuate=\"onRequest\" xlink:href=\"psysml:9e59e0cd-e7d6-48f9-8abd-2b6da2cb7bd3\" xlink:show=\"new\" xlink:title=\"psysml:9e59e0cd-e7d6-48f9-8abd-2b6da2cb7bd3\" xlink:type=\"simple\"><path d=\"M131.03,42.86 C110.41,46.26 63.22,57.19 42,88 C25.54,111.89 28.61,147.84 31.99,167.47 \" fill=\"none\" id=\"E3-&gt;E4\" style=\"stroke: #A80036; stroke-width: 1.0;\"/><polygon fill=\"#A80036\" points=\"32.94,172.56,35.2263,162.9802,32.0255,167.6443,27.3613,164.4435,32.94,172.56\" style=\"stroke: #A80036; stroke-width: 1.0;\"/></a><!--MD5=[1b7591eae5389033d8d09a9d6721a717]\n",
       "link E4 to E5--><a href=\"psysml:7b0b5bc6-fd2d-464d-92f4-1e71099b6f78\" target=\"_top\" title=\"psysml:7b0b5bc6-fd2d-464d-92f4-1e71099b6f78\" xlink:actuate=\"onRequest\" xlink:href=\"psysml:7b0b5bc6-fd2d-464d-92f4-1e71099b6f78\" xlink:show=\"new\" xlink:title=\"psysml:7b0b5bc6-fd2d-464d-92f4-1e71099b6f78\" xlink:type=\"simple\"><path d=\"M39.08,190.91 C46.63,204.15 63.87,232.24 84,251 C97.73,263.8 115.17,275.16 130.35,283.85 \" fill=\"none\" id=\"E4-&gt;E5\" style=\"stroke: #A80036; stroke-width: 1.0;\"/><polygon fill=\"#A80036\" points=\"134.98,286.46,129.0858,278.5696,130.6187,284.0148,125.1735,285.5477,134.98,286.46\" style=\"stroke: #A80036; stroke-width: 1.0;\"/><text fill=\"#000000\" font-family=\"sans-serif\" font-size=\"13\" lengthAdjust=\"spacingAndGlyphs\" textLength=\"36\" x=\"85\" y=\"247.0669\">[true]</text></a><!--MD5=[79568f1e445c3877b6a54524624ccc7d]\n",
       "link E4 to E6--><a href=\"psysml:2cb1b039-bbb8-4621-9b87-8355478bfab0\" target=\"_top\" title=\"psysml:2cb1b039-bbb8-4621-9b87-8355478bfab0\" xlink:actuate=\"onRequest\" xlink:href=\"psysml:2cb1b039-bbb8-4621-9b87-8355478bfab0\" xlink:show=\"new\" xlink:title=\"psysml:2cb1b039-bbb8-4621-9b87-8355478bfab0\" xlink:type=\"simple\"><path d=\"M36.3,193.29 C39.76,217.03 50.73,279.03 76,324 C91.89,352.29 117.42,379.1 137.07,397.43 \" fill=\"none\" id=\"E4-&gt;E6\" style=\"stroke: #A80036; stroke-width: 1.0;\"/><polygon fill=\"#A80036\" points=\"140.92,400.98,137.0155,391.9382,137.2443,397.5904,131.5921,397.8192,140.92,400.98\" style=\"stroke: #A80036; stroke-width: 1.0;\"/><text fill=\"#000000\" font-family=\"sans-serif\" font-size=\"13\" lengthAdjust=\"spacingAndGlyphs\" textLength=\"40\" x=\"77\" y=\"307.0669\">[false]</text></a><!--MD5=[9120cf2e5df3bff93db8f754bbbc09b4]\n",
       "link E5 to E6--><a href=\"psysml:b49ece63-4bda-4eac-a48b-66e19b9bdab7\" target=\"_top\" title=\"psysml:b49ece63-4bda-4eac-a48b-66e19b9bdab7\" xlink:actuate=\"onRequest\" xlink:href=\"psysml:b49ece63-4bda-4eac-a48b-66e19b9bdab7\" xlink:show=\"new\" xlink:title=\"psysml:b49ece63-4bda-4eac-a48b-66e19b9bdab7\" xlink:type=\"simple\"><path d=\"M165,324.05 C165,343.9 165,374.02 165,395.52 \" fill=\"none\" id=\"E5-&gt;E6\" style=\"stroke: #A80036; stroke-width: 1.0;\"/><polygon fill=\"#A80036\" points=\"165,400.79,169,391.79,165,395.79,161,391.79,165,400.79\" style=\"stroke: #A80036; stroke-width: 1.0;\"/><text fill=\"#000000\" font-family=\"sans-serif\" font-size=\"13\" lengthAdjust=\"spacingAndGlyphs\" textLength=\"55\" x=\"166\" y=\"367.0669\">[x == 0]</text></a><!--MD5=[62c15dc95b623ee8275fccf8b37f3a7e]\n",
       "@startuml\r\n",
       "skinparam wrapWidth 300\r\n",
       "hide circle\r\n",
       "\r\n",
       "rec def \"DecisionTest\" as E1  <<(T,blue)action def>> [[psysml:3be07126-877a-4309-8447-1e285ef81f95 ]] {\r\n",
       "portout \"$result\" as E2  [[psysml:9348992a-eef4-478a-99a3-8679640e907b ]] \r\n",
       "choice \"test x\" as E3  [[psysml:68020b6f-ffe7-4b5f-b810-1edcbdd08af0 ]] \r\n",
       "choice \"noname\" as E4  [[psysml:c53ed86d-7fd9-4daa-81a5-a3aaa8a48fdd ]] \r\n",
       "rec usage \"A1\" as E5  <<(T,blue)action>> [[psysml:0f40ea9b-adac-4a33-8b1a-34d15e55e3d2 ]] {\r\n",
       "}\r\n",
       "\r\n",
       "rec usage \"A2\" as E6  <<(T,blue)action>> [[psysml:128661ee-6ef6-488f-adc9-4acba814b00a ]] {\r\n",
       "}\r\n",
       "\r\n",
       "rec usage \"A3\" as E7  <<(T,blue)action>> [[psysml:7b9f6d16-7e81-4d0a-aec9-34a5599243af ]] {\r\n",
       "}\r\n",
       "\r\n",
       "rec usage \"A3\" as E8  <<(T,blue)action>> [[psysml:7b9f6d16-7e81-4d0a-aec9-34a5599243af ]] {\r\n",
       "}\r\n",
       "\r\n",
       "}\r\n",
       "\r\n",
       "E3  - -> E5 [[psysml:7286f462-e52e-4ebc-bfea-7701f26f76d2 ]] : [x == 1]\r\n",
       "E3  - -> E6 [[psysml:e748a59f-80ec-4a6b-adc3-e898091fbade ]] : [x > 1]\r\n",
       "E3  - -> E8 [[psysml:c4aa7bb1-7be8-4d3d-94c8-0c3feb0dde03 ]] \r\n",
       "E3 - -> E4 [[psysml:9e59e0cd-e7d6-48f9-8abd-2b6da2cb7bd3 ]] \r\n",
       "E4  - -> E5 [[psysml:7b0b5bc6-fd2d-464d-92f4-1e71099b6f78 ]] : [true]\r\n",
       "E4  - -> E6 [[psysml:2cb1b039-bbb8-4621-9b87-8355478bfab0 ]] : [false]\r\n",
       "E5  - -> E6 [[psysml:b49ece63-4bda-4eac-a48b-66e19b9bdab7 ]] : [x == 0]\r\n",
       "E8  - -> E3 [[psysml:313c2626-617f-4a85-9d7c-c31cb61d9b9e ]] : [x > 0]\r\n",
       "@enduml\r\n",
       "\n",
       "PlantUML version 1.2020.13(Sat Jun 13 12:26:38 UTC 2020)\n",
       "(EPL source distribution)\n",
       "Java Runtime: OpenJDK Runtime Environment\n",
       "JVM: OpenJDK 64-Bit Server VM\n",
       "Default Encoding: UTF-8\n",
       "Language: en\n",
       "Country: null\n",
       "--></g></svg>"
      ]
     },
     "execution_count": 29,
     "metadata": {},
     "output_type": "execute_result"
    }
   ],
   "source": [
    "%viz --style=\"STDCOLOR\" --view=\"MIXED\" \"DecisionTest\""
   ]
  },
  {
   "cell_type": "code",
   "execution_count": 30,
   "id": "8624742b",
   "metadata": {
    "execution": {
     "iopub.execute_input": "2021-05-27T06:09:53.734035Z",
     "iopub.status.busy": "2021-05-27T06:09:53.733713Z",
     "iopub.status.idle": "2021-05-27T06:09:53.790636Z",
     "shell.execute_reply": "2021-05-27T06:09:53.790245Z"
    }
   },
   "outputs": [
    {
     "data": {
      "image/svg+xml": [
       "<?xml version=\"1.0\" encoding=\"UTF-8\" standalone=\"no\"?><svg xmlns=\"http://www.w3.org/2000/svg\" xmlns:xlink=\"http://www.w3.org/1999/xlink\" contentScriptType=\"application/ecmascript\" contentStyleType=\"text/css\" height=\"574px\" preserveAspectRatio=\"none\" style=\"width:367px;height:574px;\" version=\"1.1\" viewBox=\"0 0 367 574\" width=\"367px\" zoomAndPan=\"magnify\"><defs><filter height=\"300%\" id=\"f18e5xolsbiag8\" width=\"300%\" x=\"-1\" y=\"-1\"><feGaussianBlur result=\"blurOut\" stdDeviation=\"2.0\"/><feColorMatrix in=\"blurOut\" result=\"blurOut2\" type=\"matrix\" values=\"0 0 0 0 0 0 0 0 0 0 0 0 0 0 0 0 0 0 .4 0\"/><feOffset dx=\"4.0\" dy=\"4.0\" in=\"blurOut2\" result=\"blurOut3\"/><feBlend in=\"SourceGraphic\" in2=\"blurOut3\" mode=\"normal\"/></filter></defs><g><!--MD5=[fbc87193dbaf4d95561dea2c320d4a47]\n",
       "cluster E1--><a href=\"psysml:3be07126-877a-4309-8447-1e285ef81f95\" target=\"_top\" title=\"psysml:3be07126-877a-4309-8447-1e285ef81f95\" xlink:actuate=\"onRequest\" xlink:href=\"psysml:3be07126-877a-4309-8447-1e285ef81f95\" xlink:show=\"new\" xlink:title=\"psysml:3be07126-877a-4309-8447-1e285ef81f95\" xlink:type=\"simple\"><rect fill=\"#FFFFFF\" filter=\"url(#f18e5xolsbiag8)\" height=\"534.72\" id=\"E1\" style=\"stroke: #A80036; stroke-width: 1.5;\" width=\"341\" x=\"7\" y=\"7\"/><rect fill=\"#FEFECE\" height=\"37.9375\" style=\"stroke: #A80036; stroke-width: 1.5;\" width=\"341\" x=\"7\" y=\"7\"/><text fill=\"#000000\" font-family=\"sans-serif\" font-size=\"12\" font-style=\"italic\" lengthAdjust=\"spacingAndGlyphs\" textLength=\"77\" x=\"139\" y=\"23.1387\">«action def»</text><text fill=\"#000000\" font-family=\"sans-serif\" font-size=\"12\" lengthAdjust=\"spacingAndGlyphs\" textLength=\"80\" x=\"137.5\" y=\"37.1074\">DecisionTest</text></a><text fill=\"#000000\" font-family=\"sans-serif\" font-size=\"14\" lengthAdjust=\"spacingAndGlyphs\" textLength=\"48\" x=\"153\" y=\"560.7151\">$result</text><rect fill=\"#A80036\" height=\"12\" style=\"stroke: #FEFECE; stroke-width: 1.5;\" width=\"12\" x=\"171\" y=\"535.72\"/><polygon fill=\"#FEFECE\" filter=\"url(#f18e5xolsbiag8)\" points=\"167,28.5,179,40.5,167,52.5,155,40.5,167,28.5\" style=\"stroke: #A80036; stroke-width: 1.5;\"/><polygon fill=\"#FEFECE\" filter=\"url(#f18e5xolsbiag8)\" points=\"35,170.5,47,182.5,35,194.5,23,182.5,35,170.5\" style=\"stroke: #A80036; stroke-width: 1.5;\"/><g id=\"E1.E5\"><a href=\"psysml:0f40ea9b-adac-4a33-8b1a-34d15e55e3d2\" target=\"_top\" title=\"psysml:0f40ea9b-adac-4a33-8b1a-34d15e55e3d2\" xlink:actuate=\"onRequest\" xlink:href=\"psysml:0f40ea9b-adac-4a33-8b1a-34d15e55e3d2\" xlink:show=\"new\" xlink:title=\"psysml:0f40ea9b-adac-4a33-8b1a-34d15e55e3d2\" xlink:type=\"simple\"><rect fill=\"#FEFECE\" filter=\"url(#f18e5xolsbiag8)\" height=\"42.9375\" id=\"E5\" rx=\"10\" ry=\"10\" style=\"stroke: #A80036; stroke-width: 1.5;\" width=\"86\" x=\"135\" y=\"281\"/><ellipse cx=\"152.25\" cy=\"299.9688\" fill=\"#FFA500\" rx=\"11\" ry=\"11\" style=\"stroke: #A80036; stroke-width: 1.0;\"/><path d=\"M148.125,301.8906 L148.125,294.0781 L150.5781,294.0781 L150.5781,302.5156 Q150.5781,303.4375 151.0469,303.9688 Q151.5313,304.5 152.3594,304.5 Q153.2031,304.5 153.6719,303.9688 Q154.1406,303.4375 154.1406,302.5156 L154.1406,294.0781 L156.5938,294.0781 L156.5938,301.8906 Q156.5938,304.4219 155.5938,305.5625 Q154.5938,306.7031 152.3594,306.7031 Q150.1406,306.7031 149.125,305.5625 Q148.125,304.4219 148.125,301.8906 Z \"/><text fill=\"#000000\" font-family=\"sans-serif\" font-size=\"12\" font-style=\"italic\" lengthAdjust=\"spacingAndGlyphs\" textLength=\"53\" x=\"164.75\" y=\"297.1387\">«action»</text><text fill=\"#000000\" font-family=\"sans-serif\" font-size=\"12\" lengthAdjust=\"spacingAndGlyphs\" textLength=\"16\" x=\"183.25\" y=\"311.1074\">A1</text></a></g><g id=\"E1.E6\"><a href=\"psysml:128661ee-6ef6-488f-adc9-4acba814b00a\" target=\"_top\" title=\"psysml:128661ee-6ef6-488f-adc9-4acba814b00a\" xlink:actuate=\"onRequest\" xlink:href=\"psysml:128661ee-6ef6-488f-adc9-4acba814b00a\" xlink:show=\"new\" xlink:title=\"psysml:128661ee-6ef6-488f-adc9-4acba814b00a\" xlink:type=\"simple\"><rect fill=\"#FEFECE\" filter=\"url(#f18e5xolsbiag8)\" height=\"42.9375\" id=\"E6\" rx=\"10\" ry=\"10\" style=\"stroke: #A80036; stroke-width: 1.5;\" width=\"86\" x=\"135\" y=\"401\"/><ellipse cx=\"152.25\" cy=\"419.9688\" fill=\"#FFA500\" rx=\"11\" ry=\"11\" style=\"stroke: #A80036; stroke-width: 1.0;\"/><path d=\"M148.125,421.8906 L148.125,414.0781 L150.5781,414.0781 L150.5781,422.5156 Q150.5781,423.4375 151.0469,423.9688 Q151.5313,424.5 152.3594,424.5 Q153.2031,424.5 153.6719,423.9688 Q154.1406,423.4375 154.1406,422.5156 L154.1406,414.0781 L156.5938,414.0781 L156.5938,421.8906 Q156.5938,424.4219 155.5938,425.5625 Q154.5938,426.7031 152.3594,426.7031 Q150.1406,426.7031 149.125,425.5625 Q148.125,424.4219 148.125,421.8906 Z \"/><text fill=\"#000000\" font-family=\"sans-serif\" font-size=\"12\" font-style=\"italic\" lengthAdjust=\"spacingAndGlyphs\" textLength=\"53\" x=\"164.75\" y=\"417.1387\">«action»</text><text fill=\"#000000\" font-family=\"sans-serif\" font-size=\"12\" lengthAdjust=\"spacingAndGlyphs\" textLength=\"16\" x=\"183.25\" y=\"431.1074\">A2</text></a></g><g id=\"E1.E7\"><a href=\"psysml:7b9f6d16-7e81-4d0a-aec9-34a5599243af\" target=\"_top\" title=\"psysml:7b9f6d16-7e81-4d0a-aec9-34a5599243af\" xlink:actuate=\"onRequest\" xlink:href=\"psysml:7b9f6d16-7e81-4d0a-aec9-34a5599243af\" xlink:show=\"new\" xlink:title=\"psysml:7b9f6d16-7e81-4d0a-aec9-34a5599243af\" xlink:type=\"simple\"><rect fill=\"#FEFECE\" filter=\"url(#f18e5xolsbiag8)\" height=\"42.9375\" id=\"E7\" rx=\"10\" ry=\"10\" style=\"stroke: #A80036; stroke-width: 1.5;\" width=\"86\" x=\"30\" y=\"88\"/><ellipse cx=\"47.25\" cy=\"106.9688\" fill=\"#FFA500\" rx=\"11\" ry=\"11\" style=\"stroke: #A80036; stroke-width: 1.0;\"/><path d=\"M43.125,108.8906 L43.125,101.0781 L45.5781,101.0781 L45.5781,109.5156 Q45.5781,110.4375 46.0469,110.9688 Q46.5313,111.5 47.3594,111.5 Q48.2031,111.5 48.6719,110.9688 Q49.1406,110.4375 49.1406,109.5156 L49.1406,101.0781 L51.5938,101.0781 L51.5938,108.8906 Q51.5938,111.4219 50.5938,112.5625 Q49.5938,113.7031 47.3594,113.7031 Q45.1406,113.7031 44.125,112.5625 Q43.125,111.4219 43.125,108.8906 Z \"/><text fill=\"#000000\" font-family=\"sans-serif\" font-size=\"12\" font-style=\"italic\" lengthAdjust=\"spacingAndGlyphs\" textLength=\"53\" x=\"59.75\" y=\"104.1387\">«action»</text><text fill=\"#000000\" font-family=\"sans-serif\" font-size=\"12\" lengthAdjust=\"spacingAndGlyphs\" textLength=\"16\" x=\"78.25\" y=\"118.1074\">A3</text></a></g><g id=\"E1.E8\"><a href=\"psysml:7b9f6d16-7e81-4d0a-aec9-34a5599243af\" target=\"_top\" title=\"psysml:7b9f6d16-7e81-4d0a-aec9-34a5599243af\" xlink:actuate=\"onRequest\" xlink:href=\"psysml:7b9f6d16-7e81-4d0a-aec9-34a5599243af\" xlink:show=\"new\" xlink:title=\"psysml:7b9f6d16-7e81-4d0a-aec9-34a5599243af\" xlink:type=\"simple\"><rect fill=\"#FEFECE\" filter=\"url(#f18e5xolsbiag8)\" height=\"42.9375\" id=\"E8\" rx=\"10\" ry=\"10\" style=\"stroke: #A80036; stroke-width: 1.5;\" width=\"86\" x=\"246\" y=\"161\"/><ellipse cx=\"263.25\" cy=\"179.9688\" fill=\"#FFA500\" rx=\"11\" ry=\"11\" style=\"stroke: #A80036; stroke-width: 1.0;\"/><path d=\"M259.125,181.8906 L259.125,174.0781 L261.5781,174.0781 L261.5781,182.5156 Q261.5781,183.4375 262.0469,183.9688 Q262.5313,184.5 263.3594,184.5 Q264.2031,184.5 264.6719,183.9688 Q265.1406,183.4375 265.1406,182.5156 L265.1406,174.0781 L267.5938,174.0781 L267.5938,181.8906 Q267.5938,184.4219 266.5938,185.5625 Q265.5938,186.7031 263.3594,186.7031 Q261.1406,186.7031 260.125,185.5625 Q259.125,184.4219 259.125,181.8906 Z \"/><text fill=\"#000000\" font-family=\"sans-serif\" font-size=\"12\" font-style=\"italic\" lengthAdjust=\"spacingAndGlyphs\" textLength=\"53\" x=\"275.75\" y=\"177.1387\">«action»</text><text fill=\"#000000\" font-family=\"sans-serif\" font-size=\"12\" lengthAdjust=\"spacingAndGlyphs\" textLength=\"16\" x=\"294.25\" y=\"191.1074\">A3</text></a></g><!--MD5=[0188b64bb0ae78505a997a81836e11e9]\n",
       "link E3 to E5--><a href=\"psysml:7286f462-e52e-4ebc-bfea-7701f26f76d2\" target=\"_top\" title=\"psysml:7286f462-e52e-4ebc-bfea-7701f26f76d2\" xlink:actuate=\"onRequest\" xlink:href=\"psysml:7286f462-e52e-4ebc-bfea-7701f26f76d2\" xlink:show=\"new\" xlink:title=\"psysml:7286f462-e52e-4ebc-bfea-7701f26f76d2\" xlink:type=\"simple\"><path d=\"M164.07,49.64 C155.89,73.45 134.01,145 144,204 C148.28,229.26 158.37,256.69 166.46,276.01 \" fill=\"none\" id=\"E3-&gt;E5\" style=\"stroke: #A80036; stroke-width: 1.0;\"/><polygon fill=\"#A80036\" points=\"168.47,280.74,168.6272,270.8924,166.5125,276.1391,161.2658,274.0244,168.47,280.74\" style=\"stroke: #A80036; stroke-width: 1.0;\"/><text fill=\"#000000\" font-family=\"sans-serif\" font-size=\"13\" lengthAdjust=\"spacingAndGlyphs\" textLength=\"55\" x=\"145\" y=\"187.0669\">[x == 1]</text></a><!--MD5=[ec9844e0c75763426927cad3229d1081]\n",
       "link E3 to E6--><a href=\"psysml:e748a59f-80ec-4a6b-adc3-e898091fbade\" target=\"_top\" title=\"psysml:e748a59f-80ec-4a6b-adc3-e898091fbade\" xlink:actuate=\"onRequest\" xlink:href=\"psysml:e748a59f-80ec-4a6b-adc3-e898091fbade\" xlink:show=\"new\" xlink:title=\"psysml:e748a59f-80ec-4a6b-adc3-e898091fbade\" xlink:type=\"simple\"><path d=\"M169.76,49.87 C176.16,69.33 192.4,119.09 205,161 C220.96,214.09 229.87,226.32 239,281 C244.35,313.05 242.11,321.52 243,354 C243.21,361.55 246.32,364.21 243,371 C237.83,381.56 229.28,390.54 220.04,397.88 \" fill=\"none\" id=\"E3-&gt;E6\" style=\"stroke: #A80036; stroke-width: 1.0;\"/><polygon fill=\"#A80036\" points=\"216.05,400.92,225.6321,398.6432,220.0258,397.8881,220.781,392.2818,216.05,400.92\" style=\"stroke: #A80036; stroke-width: 1.0;\"/><text fill=\"#000000\" font-family=\"sans-serif\" font-size=\"13\" lengthAdjust=\"spacingAndGlyphs\" textLength=\"44\" x=\"234\" y=\"247.0669\">[x &gt; 1]</text></a><!--MD5=[ca5a752d6098d8a44b3f88316e7452d1]\n",
       "link E3 to E8--><a href=\"psysml:c4aa7bb1-7be8-4d3d-94c8-0c3feb0dde03\" target=\"_top\" title=\"psysml:c4aa7bb1-7be8-4d3d-94c8-0c3feb0dde03\" xlink:actuate=\"onRequest\" xlink:href=\"psysml:c4aa7bb1-7be8-4d3d-94c8-0c3feb0dde03\" xlink:show=\"new\" xlink:title=\"psysml:c4aa7bb1-7be8-4d3d-94c8-0c3feb0dde03\" xlink:type=\"simple\"><path d=\"M173.65,46.41 C183.6,54.12 202.22,70.04 212,88 C221.39,105.23 211.3,114.55 222,131 C228.74,141.36 238.38,150.41 248.25,157.86 \" fill=\"none\" id=\"E3-&gt;E8\" style=\"stroke: #A80036; stroke-width: 1.0;\"/><polygon fill=\"#A80036\" points=\"252.48,160.96,247.5918,152.4099,248.4493,158.0013,242.8579,158.8589,252.48,160.96\" style=\"stroke: #A80036; stroke-width: 1.0;\"/></a><!--MD5=[95fa686b5a16158bcdbcaeead89f639b]\n",
       "link E8 to E3--><a href=\"psysml:313c2626-617f-4a85-9d7c-c31cb61d9b9e\" target=\"_top\" title=\"psysml:313c2626-617f-4a85-9d7c-c31cb61d9b9e\" xlink:actuate=\"onRequest\" xlink:href=\"psysml:313c2626-617f-4a85-9d7c-c31cb61d9b9e\" xlink:show=\"new\" xlink:title=\"psysml:313c2626-617f-4a85-9d7c-c31cb61d9b9e\" xlink:type=\"simple\"><path d=\"M273.44,160.88 C266.56,151.73 258.36,140.84 251,131 C236.73,111.93 235.07,105.58 219,88 C205.73,73.48 188.36,58.66 177.44,49.77 \" fill=\"none\" id=\"E8-&gt;E3\" style=\"stroke: #A80036; stroke-width: 1.0;\"/><polygon fill=\"#A80036\" points=\"173.46,46.56,177.9421,55.3299,177.3476,49.7043,182.9731,49.1098,173.46,46.56\" style=\"stroke: #A80036; stroke-width: 1.0;\"/><text fill=\"#000000\" font-family=\"sans-serif\" font-size=\"13\" lengthAdjust=\"spacingAndGlyphs\" textLength=\"44\" x=\"252\" y=\"114.0669\">[x &gt; 0]</text></a><!--MD5=[af87c684e3b0d8be13c1a698a818ef1e]\n",
       "link E3 to E4--><a href=\"psysml:9e59e0cd-e7d6-48f9-8abd-2b6da2cb7bd3\" target=\"_top\" title=\"psysml:9e59e0cd-e7d6-48f9-8abd-2b6da2cb7bd3\" xlink:actuate=\"onRequest\" xlink:href=\"psysml:9e59e0cd-e7d6-48f9-8abd-2b6da2cb7bd3\" xlink:show=\"new\" xlink:title=\"psysml:9e59e0cd-e7d6-48f9-8abd-2b6da2cb7bd3\" xlink:type=\"simple\"><path d=\"M155.55,41.29 C128.17,41.5 58.94,46.32 29,88 C11.65,112.15 22.14,149.49 29.56,168.87 \" fill=\"none\" id=\"E3-&gt;E4\" style=\"stroke: #A80036; stroke-width: 1.0;\"/><polygon fill=\"#A80036\" points=\"31.54,173.83,31.9114,163.9881,29.683,169.1876,24.4836,166.9593,31.54,173.83\" style=\"stroke: #A80036; stroke-width: 1.0;\"/></a><!--MD5=[1b7591eae5389033d8d09a9d6721a717]\n",
       "link E4 to E5--><a href=\"psysml:7b0b5bc6-fd2d-464d-92f4-1e71099b6f78\" target=\"_top\" title=\"psysml:7b0b5bc6-fd2d-464d-92f4-1e71099b6f78\" xlink:actuate=\"onRequest\" xlink:href=\"psysml:7b0b5bc6-fd2d-464d-92f4-1e71099b6f78\" xlink:show=\"new\" xlink:title=\"psysml:7b0b5bc6-fd2d-464d-92f4-1e71099b6f78\" xlink:type=\"simple\"><path d=\"M38.96,191.04 C46.32,204.49 63.28,232.9 84,251 C97.53,262.82 114.3,272.93 129.91,280.93 \" fill=\"none\" id=\"E4-&gt;E5\" style=\"stroke: #A80036; stroke-width: 1.0;\"/><polygon fill=\"#A80036\" points=\"134.71,283.34,128.4587,275.7294,130.2407,281.0982,124.8719,282.8802,134.71,283.34\" style=\"stroke: #A80036; stroke-width: 1.0;\"/><text fill=\"#000000\" font-family=\"sans-serif\" font-size=\"13\" lengthAdjust=\"spacingAndGlyphs\" textLength=\"36\" x=\"85\" y=\"247.0669\">[true]</text></a><!--MD5=[79568f1e445c3877b6a54524624ccc7d]\n",
       "link E4 to E6--><a href=\"psysml:2cb1b039-bbb8-4621-9b87-8355478bfab0\" target=\"_top\" title=\"psysml:2cb1b039-bbb8-4621-9b87-8355478bfab0\" xlink:actuate=\"onRequest\" xlink:href=\"psysml:2cb1b039-bbb8-4621-9b87-8355478bfab0\" xlink:show=\"new\" xlink:title=\"psysml:2cb1b039-bbb8-4621-9b87-8355478bfab0\" xlink:type=\"simple\"><path d=\"M36.1,193.4 C39.13,217.4 49.22,279.92 76,324 C93.84,353.37 122.75,379.82 145.25,397.74 \" fill=\"none\" id=\"E4-&gt;E6\" style=\"stroke: #A80036; stroke-width: 1.0;\"/><polygon fill=\"#A80036\" points=\"149.37,400.99,144.7826,392.2748,145.4449,397.8927,139.8269,398.555,149.37,400.99\" style=\"stroke: #A80036; stroke-width: 1.0;\"/><text fill=\"#000000\" font-family=\"sans-serif\" font-size=\"13\" lengthAdjust=\"spacingAndGlyphs\" textLength=\"40\" x=\"77\" y=\"307.0669\">[false]</text></a><!--MD5=[9120cf2e5df3bff93db8f754bbbc09b4]\n",
       "link E5 to E6--><a href=\"psysml:b49ece63-4bda-4eac-a48b-66e19b9bdab7\" target=\"_top\" title=\"psysml:b49ece63-4bda-4eac-a48b-66e19b9bdab7\" xlink:actuate=\"onRequest\" xlink:href=\"psysml:b49ece63-4bda-4eac-a48b-66e19b9bdab7\" xlink:show=\"new\" xlink:title=\"psysml:b49ece63-4bda-4eac-a48b-66e19b9bdab7\" xlink:type=\"simple\"><path d=\"M178,324.05 C178,343.9 178,374.02 178,395.52 \" fill=\"none\" id=\"E5-&gt;E6\" style=\"stroke: #A80036; stroke-width: 1.0;\"/><polygon fill=\"#A80036\" points=\"178,400.79,182,391.79,178,395.79,174,391.79,178,400.79\" style=\"stroke: #A80036; stroke-width: 1.0;\"/><text fill=\"#000000\" font-family=\"sans-serif\" font-size=\"13\" lengthAdjust=\"spacingAndGlyphs\" textLength=\"55\" x=\"179\" y=\"367.0669\">[x == 0]</text></a><!--MD5=[6f094def933d96970b2c3795eb139f09]\n",
       "@startuml\r\n",
       " \r\n",
       "rec def \"DecisionTest\" as E1  <<(D,brown)action def>> [[psysml:3be07126-877a-4309-8447-1e285ef81f95 ]] {\r\n",
       "portout \"$result\" as E2  [[psysml:9348992a-eef4-478a-99a3-8679640e907b ]] \r\n",
       "choice \"test x\" as E3  [[psysml:68020b6f-ffe7-4b5f-b810-1edcbdd08af0 ]] \r\n",
       "choice \"noname\" as E4  [[psysml:c53ed86d-7fd9-4daa-81a5-a3aaa8a48fdd ]] \r\n",
       "rec usage \"A1\" as E5  <<(U,orange)action>> [[psysml:0f40ea9b-adac-4a33-8b1a-34d15e55e3d2 ]] {\r\n",
       "}\r\n",
       "\r\n",
       "rec usage \"A2\" as E6  <<(U,orange)action>> [[psysml:128661ee-6ef6-488f-adc9-4acba814b00a ]] {\r\n",
       "}\r\n",
       "\r\n",
       "rec usage \"A3\" as E7  <<(U,orange)action>> [[psysml:7b9f6d16-7e81-4d0a-aec9-34a5599243af ]] {\r\n",
       "}\r\n",
       "\r\n",
       "rec usage \"A3\" as E8  <<(U,orange)action>> [[psysml:7b9f6d16-7e81-4d0a-aec9-34a5599243af ]] {\r\n",
       "}\r\n",
       "\r\n",
       "}\r\n",
       "\r\n",
       "E3  - -> E5 [[psysml:7286f462-e52e-4ebc-bfea-7701f26f76d2 ]] : [x == 1]\r\n",
       "E3  - -> E6 [[psysml:e748a59f-80ec-4a6b-adc3-e898091fbade ]] : [x > 1]\r\n",
       "E3  - -> E8 [[psysml:c4aa7bb1-7be8-4d3d-94c8-0c3feb0dde03 ]] \r\n",
       "E3 - -> E4 [[psysml:9e59e0cd-e7d6-48f9-8abd-2b6da2cb7bd3 ]] \r\n",
       "E4  - -> E5 [[psysml:7b0b5bc6-fd2d-464d-92f4-1e71099b6f78 ]] : [true]\r\n",
       "E4  - -> E6 [[psysml:2cb1b039-bbb8-4621-9b87-8355478bfab0 ]] : [false]\r\n",
       "E5  - -> E6 [[psysml:b49ece63-4bda-4eac-a48b-66e19b9bdab7 ]] : [x == 0]\r\n",
       "E8  - -> E3 [[psysml:313c2626-617f-4a85-9d7c-c31cb61d9b9e ]] : [x > 0]\r\n",
       "@enduml\r\n",
       "\n",
       "PlantUML version 1.2020.13(Sat Jun 13 12:26:38 UTC 2020)\n",
       "(EPL source distribution)\n",
       "Java Runtime: OpenJDK Runtime Environment\n",
       "JVM: OpenJDK 64-Bit Server VM\n",
       "Default Encoding: UTF-8\n",
       "Language: en\n",
       "Country: null\n",
       "--></g></svg>"
      ]
     },
     "execution_count": 30,
     "metadata": {},
     "output_type": "execute_result"
    }
   ],
   "source": [
    "%viz --style=\"PLANTUML\" --view=\"Default\" \"DecisionTest\""
   ]
  },
  {
   "cell_type": "code",
   "execution_count": 31,
   "id": "d6a902a3",
   "metadata": {
    "execution": {
     "iopub.execute_input": "2021-05-27T06:09:53.842789Z",
     "iopub.status.busy": "2021-05-27T06:09:53.842436Z",
     "iopub.status.idle": "2021-05-27T06:09:53.908947Z",
     "shell.execute_reply": "2021-05-27T06:09:53.908396Z"
    }
   },
   "outputs": [
    {
     "data": {
      "image/svg+xml": [
       "<?xml version=\"1.0\" encoding=\"UTF-8\" standalone=\"no\"?><svg xmlns=\"http://www.w3.org/2000/svg\" xmlns:xlink=\"http://www.w3.org/1999/xlink\" contentScriptType=\"application/ecmascript\" contentStyleType=\"text/css\" height=\"199px\" preserveAspectRatio=\"none\" style=\"width:138px;height:199px;\" version=\"1.1\" viewBox=\"0 0 138 199\" width=\"138px\" zoomAndPan=\"magnify\"><defs><filter height=\"300%\" id=\"f1omifvhje0mpw\" width=\"300%\" x=\"-1\" y=\"-1\"><feGaussianBlur result=\"blurOut\" stdDeviation=\"2.0\"/><feColorMatrix in=\"blurOut\" result=\"blurOut2\" type=\"matrix\" values=\"0 0 0 0 0 0 0 0 0 0 0 0 0 0 0 0 0 0 .4 0\"/><feOffset dx=\"4.0\" dy=\"4.0\" in=\"blurOut2\" result=\"blurOut3\"/><feBlend in=\"SourceGraphic\" in2=\"blurOut3\" mode=\"normal\"/></filter></defs><g><!--MD5=[43c9051892ef23e1a46a86907403d788]\n",
       "class E1--><a href=\"psysml:3be07126-877a-4309-8447-1e285ef81f95\" target=\"_top\" title=\"psysml:3be07126-877a-4309-8447-1e285ef81f95\" xlink:actuate=\"onRequest\" xlink:href=\"psysml:3be07126-877a-4309-8447-1e285ef81f95\" xlink:show=\"new\" xlink:title=\"psysml:3be07126-877a-4309-8447-1e285ef81f95\" xlink:type=\"simple\"><rect fill=\"#FEFECE\" filter=\"url(#f1omifvhje0mpw)\" height=\"173.1797\" id=\"E1\" style=\"stroke: #A80036; stroke-width: 1.5;\" width=\"112\" x=\"7\" y=\"7\"/><ellipse cx=\"22\" cy=\"25.9688\" fill=\"#A52A2A\" rx=\"11\" ry=\"11\" style=\"stroke: #A80036; stroke-width: 1.0;\"/><path d=\"M21.5938,21.7813 L21.5938,29.7656 L22.25,29.7656 Q23.6875,29.7656 24.2969,28.8594 Q24.9219,27.9375 24.9219,25.7656 Q24.9219,23.5938 24.2969,22.6875 Q23.6875,21.7813 22.25,21.7813 L21.5938,21.7813 Z M19.1406,19.5781 L21.7656,19.5781 Q24.7969,19.5781 26.125,21.0313 Q27.4688,22.4688 27.4688,25.7656 Q27.4688,29.0625 26.125,30.5156 Q24.7969,31.9688 21.7656,31.9688 L19.1406,31.9688 L19.1406,19.5781 Z \"/><text fill=\"#000000\" font-family=\"sans-serif\" font-size=\"12\" font-style=\"italic\" lengthAdjust=\"spacingAndGlyphs\" textLength=\"77\" x=\"37.5\" y=\"23.1387\">«action def»</text><text fill=\"#000000\" font-family=\"sans-serif\" font-size=\"12\" lengthAdjust=\"spacingAndGlyphs\" textLength=\"80\" x=\"36\" y=\"37.1074\">DecisionTest</text><line style=\"stroke: #A80036; stroke-width: 1.5;\" x1=\"8\" x2=\"118\" y1=\"44.9375\" y2=\"44.9375\"/><text fill=\"#000000\" font-family=\"sans-serif\" font-size=\"11\" lengthAdjust=\"spacingAndGlyphs\" textLength=\"26\" x=\"13\" y=\"59.1479\">x=1;</text><text fill=\"#000000\" font-family=\"sans-serif\" font-size=\"11\" lengthAdjust=\"spacingAndGlyphs\" textLength=\"14\" x=\"13\" y=\"88.7573\">A1</text><text fill=\"#000000\" font-family=\"sans-serif\" font-size=\"11\" lengthAdjust=\"spacingAndGlyphs\" textLength=\"14\" x=\"13\" y=\"101.562\">A2</text><text fill=\"#000000\" font-family=\"sans-serif\" font-size=\"11\" lengthAdjust=\"spacingAndGlyphs\" textLength=\"14\" x=\"13\" y=\"114.3667\">A3</text><line style=\"stroke: #A80036; stroke-width: 1.0;\" x1=\"8\" x2=\"42.5\" y1=\"72.1445\" y2=\"72.1445\"/><text fill=\"#000000\" font-family=\"sans-serif\" font-size=\"11\" lengthAdjust=\"spacingAndGlyphs\" textLength=\"41\" x=\"42.5\" y=\"75.4526\">actions</text><line style=\"stroke: #A80036; stroke-width: 1.0;\" x1=\"83.5\" x2=\"118\" y1=\"72.1445\" y2=\"72.1445\"/><text fill=\"#000000\" font-family=\"sans-serif\" font-size=\"11\" lengthAdjust=\"spacingAndGlyphs\" textLength=\"32\" x=\"13\" y=\"143.9761\">test x</text><line style=\"stroke: #A80036; stroke-width: 1.0;\" x1=\"8\" x2=\"21.5\" y1=\"127.3633\" y2=\"127.3633\"/><text fill=\"#000000\" font-family=\"sans-serif\" font-size=\"11\" lengthAdjust=\"spacingAndGlyphs\" textLength=\"83\" x=\"21.5\" y=\"130.6714\">decisionNodes</text><line style=\"stroke: #A80036; stroke-width: 1.0;\" x1=\"104.5\" x2=\"118\" y1=\"127.3633\" y2=\"127.3633\"/><text fill=\"#000000\" font-family=\"sans-serif\" font-size=\"11\" lengthAdjust=\"spacingAndGlyphs\" textLength=\"8\" x=\"13\" y=\"173.5854\">S</text><line style=\"stroke: #A80036; stroke-width: 1.0;\" x1=\"8\" x2=\"32.5\" y1=\"156.9727\" y2=\"156.9727\"/><text fill=\"#000000\" font-family=\"sans-serif\" font-size=\"11\" lengthAdjust=\"spacingAndGlyphs\" textLength=\"61\" x=\"32.5\" y=\"160.2808\">transitions</text><line style=\"stroke: #A80036; stroke-width: 1.0;\" x1=\"93.5\" x2=\"118\" y1=\"156.9727\" y2=\"156.9727\"/></a><!--MD5=[0ebbb01c6fd74d2a17a98ff23e1cf36b]\n",
       "@startuml\r\n",
       " \r\n",
       "comp def \"DecisionTest\" as E1  <<(D,brown)action def>> [[psysml:3be07126-877a-4309-8447-1e285ef81f95 ]] {\r\n",
       "x=1; \r\n",
       "- - actions - -\r\n",
       "A1\r\n",
       "A2\r\n",
       "A3\r\n",
       "- - decisionNodes - -\r\n",
       "test x\r\n",
       "- - transitions - -\r\n",
       "S\r\n",
       "}\r\n",
       "@enduml\r\n",
       "\n",
       "PlantUML version 1.2020.13(Sat Jun 13 12:26:38 UTC 2020)\n",
       "(EPL source distribution)\n",
       "Java Runtime: OpenJDK Runtime Environment\n",
       "JVM: OpenJDK 64-Bit Server VM\n",
       "Default Encoding: UTF-8\n",
       "Language: en\n",
       "Country: null\n",
       "--></g></svg>"
      ]
     },
     "execution_count": 31,
     "metadata": {},
     "output_type": "execute_result"
    }
   ],
   "source": [
    "%viz --style=\"PLANTUML\" --view=\"Tree\" \"DecisionTest\""
   ]
  },
  {
   "cell_type": "code",
   "execution_count": 32,
   "id": "905ee13b",
   "metadata": {
    "execution": {
     "iopub.execute_input": "2021-05-27T06:09:53.959964Z",
     "iopub.status.busy": "2021-05-27T06:09:53.959587Z",
     "iopub.status.idle": "2021-05-27T06:09:54.038611Z",
     "shell.execute_reply": "2021-05-27T06:09:54.036777Z"
    }
   },
   "outputs": [
    {
     "data": {
      "image/svg+xml": [
       "<?xml version=\"1.0\" encoding=\"UTF-8\" standalone=\"no\"?><svg xmlns=\"http://www.w3.org/2000/svg\" xmlns:xlink=\"http://www.w3.org/1999/xlink\" contentScriptType=\"application/ecmascript\" contentStyleType=\"text/css\" height=\"303px\" preserveAspectRatio=\"none\" style=\"width:603px;height:303px;background:#000000;\" version=\"1.1\" viewBox=\"0 0 603 303\" width=\"603px\" zoomAndPan=\"magnify\"><defs/><g><rect fill=\"#1E2307\" height=\"1\" style=\"stroke: #1E2307; stroke-width: 1.0;\" width=\"1\" x=\"0\" y=\"0\"/><rect fill=\"#FFFFFF\" height=\"205.5625\" style=\"stroke: #FFFFFF; stroke-width: 1.0;\" width=\"602\" x=\"0\" y=\"0\"/><text fill=\"#000000\" font-family=\"sans-serif\" font-size=\"12\" font-weight=\"bold\" lengthAdjust=\"spacingAndGlyphs\" textLength=\"159\" x=\"5\" y=\"16.1387\">Welcome to PlantUML!</text><text fill=\"#000000\" font-family=\"sans-serif\" font-size=\"12\" lengthAdjust=\"spacingAndGlyphs\" textLength=\"0\" x=\"9\" y=\"30.1074\"/><text fill=\"#000000\" font-family=\"sans-serif\" font-size=\"12\" lengthAdjust=\"spacingAndGlyphs\" textLength=\"293\" x=\"5\" y=\"44.0762\">If you use this software, you accept its license.</text><text fill=\"#000000\" font-family=\"sans-serif\" font-size=\"12\" lengthAdjust=\"spacingAndGlyphs\" textLength=\"107\" x=\"5\" y=\"58.0449\">(details by typing</text><text fill=\"#000000\" font-family=\"monospace\" font-size=\"12\" lengthAdjust=\"spacingAndGlyphs\" textLength=\"49\" x=\"116\" y=\"58.0449\">license</text><text fill=\"#000000\" font-family=\"sans-serif\" font-size=\"12\" lengthAdjust=\"spacingAndGlyphs\" textLength=\"56\" x=\"169\" y=\"58.0449\">keyword)</text><text fill=\"#000000\" font-family=\"sans-serif\" font-size=\"12\" lengthAdjust=\"spacingAndGlyphs\" textLength=\"0\" x=\"9\" y=\"72.0137\"/><text fill=\"#000000\" font-family=\"sans-serif\" font-size=\"12\" lengthAdjust=\"spacingAndGlyphs\" textLength=\"283\" x=\"5\" y=\"85.9824\">You can start with a simple UML Diagram like:</text><text fill=\"#000000\" font-family=\"sans-serif\" font-size=\"12\" lengthAdjust=\"spacingAndGlyphs\" textLength=\"0\" x=\"9\" y=\"99.9512\"/><text fill=\"#000000\" font-family=\"monospace\" font-size=\"12\" lengthAdjust=\"spacingAndGlyphs\" textLength=\"119\" x=\"5\" y=\"113.9199\">Bob-&gt;Alice: Hello</text><text fill=\"#000000\" font-family=\"sans-serif\" font-size=\"12\" lengthAdjust=\"spacingAndGlyphs\" textLength=\"0\" x=\"9\" y=\"127.8887\"/><text fill=\"#000000\" font-family=\"sans-serif\" font-size=\"12\" lengthAdjust=\"spacingAndGlyphs\" textLength=\"14\" x=\"5\" y=\"141.8574\">Or</text><text fill=\"#000000\" font-family=\"sans-serif\" font-size=\"12\" lengthAdjust=\"spacingAndGlyphs\" textLength=\"0\" x=\"9\" y=\"155.8262\"/><text fill=\"#000000\" font-family=\"monospace\" font-size=\"12\" lengthAdjust=\"spacingAndGlyphs\" textLength=\"91\" x=\"5\" y=\"169.7949\">class Example</text><text fill=\"#000000\" font-family=\"sans-serif\" font-size=\"12\" lengthAdjust=\"spacingAndGlyphs\" textLength=\"0\" x=\"9\" y=\"183.7637\"/><text fill=\"#000000\" font-family=\"sans-serif\" font-size=\"12\" lengthAdjust=\"spacingAndGlyphs\" textLength=\"349\" x=\"5\" y=\"197.7324\">You will find more information about PlantUML syntax on</text><text fill=\"#000000\" font-family=\"sans-serif\" font-size=\"12\" lengthAdjust=\"spacingAndGlyphs\" text-decoration=\"underline\" textLength=\"129\" x=\"358\" y=\"197.7324\">https://plantuml.com</text><image height=\"71\" width=\"80\" x=\"516\" xlink:href=\"data:image/png;base64,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\" y=\"6\"/><rect fill=\"#000000\" height=\"96.4844\" style=\"stroke: #000000; stroke-width: 1.0;\" width=\"602\" x=\"0\" y=\"205.5625\"/><rect fill=\"#33FF02\" height=\"21.2969\" style=\"stroke: #33FF02; stroke-width: 1.0;\" width=\"170\" x=\"5\" y=\"210.5625\"/><text fill=\"#000000\" font-family=\"sans-serif\" font-size=\"14\" font-weight=\"bold\" lengthAdjust=\"spacingAndGlyphs\" textLength=\"168\" x=\"6\" y=\"225.5625\">[From string (line 2) ]</text><text fill=\"#33FF02\" font-family=\"sans-serif\" font-size=\"14\" font-weight=\"bold\" lengthAdjust=\"spacingAndGlyphs\" textLength=\"0\" x=\"10\" y=\"245.8594\"/><text fill=\"#33FF02\" font-family=\"sans-serif\" font-size=\"14\" font-weight=\"bold\" lengthAdjust=\"spacingAndGlyphs\" textLength=\"79\" x=\"5\" y=\"262.1563\">@startuml</text><text fill=\"#33FF02\" font-family=\"sans-serif\" font-size=\"14\" font-weight=\"bold\" lengthAdjust=\"spacingAndGlyphs\" textLength=\"0\" x=\"10\" y=\"278.4531\"/><text fill=\"#FF0000\" font-family=\"sans-serif\" font-size=\"14\" font-weight=\"bold\" lengthAdjust=\"spacingAndGlyphs\" textLength=\"142\" x=\"10\" y=\"294.75\">Empty description</text><!--MD5=[f59edd8218d337f74d0c332fc6737304]\n",
       "@startuml\r\n",
       " \r\n",
       "@enduml\r\n",
       "\n",
       "PlantUML version 1.2020.13(Sat Jun 13 12:26:38 UTC 2020)\n",
       "(EPL source distribution)\n",
       "Java Runtime: OpenJDK Runtime Environment\n",
       "JVM: OpenJDK 64-Bit Server VM\n",
       "Default Encoding: UTF-8\n",
       "Language: en\n",
       "Country: null\n",
       "--></g></svg>"
      ]
     },
     "execution_count": 32,
     "metadata": {},
     "output_type": "execute_result"
    }
   ],
   "source": [
    "%viz --style=\"PLANTUML\" --view=\"State\" \"DecisionTest\""
   ]
  },
  {
   "cell_type": "code",
   "execution_count": 33,
   "id": "da845be5",
   "metadata": {
    "execution": {
     "iopub.execute_input": "2021-05-27T06:09:54.092554Z",
     "iopub.status.busy": "2021-05-27T06:09:54.091725Z",
     "iopub.status.idle": "2021-05-27T06:09:54.130050Z",
     "shell.execute_reply": "2021-05-27T06:09:54.128772Z"
    }
   },
   "outputs": [
    {
     "data": {
      "image/svg+xml": [
       "<?xml version=\"1.0\" encoding=\"UTF-8\" standalone=\"no\"?><svg xmlns=\"http://www.w3.org/2000/svg\" xmlns:xlink=\"http://www.w3.org/1999/xlink\" contentScriptType=\"application/ecmascript\" contentStyleType=\"text/css\" height=\"384px\" preserveAspectRatio=\"none\" style=\"width:367px;height:384px;\" version=\"1.1\" viewBox=\"0 0 367 384\" width=\"367px\" zoomAndPan=\"magnify\"><defs><filter height=\"300%\" id=\"fc8vtdtlzpjyl\" width=\"300%\" x=\"-1\" y=\"-1\"><feGaussianBlur result=\"blurOut\" stdDeviation=\"2.0\"/><feColorMatrix in=\"blurOut\" result=\"blurOut2\" type=\"matrix\" values=\"0 0 0 0 0 0 0 0 0 0 0 0 0 0 0 0 0 0 .4 0\"/><feOffset dx=\"4.0\" dy=\"4.0\" in=\"blurOut2\" result=\"blurOut3\"/><feBlend in=\"SourceGraphic\" in2=\"blurOut3\" mode=\"normal\"/></filter></defs><g><!--MD5=[fbc87193dbaf4d95561dea2c320d4a47]\n",
       "cluster E1--><a href=\"psysml:3be07126-877a-4309-8447-1e285ef81f95\" target=\"_top\" title=\"psysml:3be07126-877a-4309-8447-1e285ef81f95\" xlink:actuate=\"onRequest\" xlink:href=\"psysml:3be07126-877a-4309-8447-1e285ef81f95\" xlink:show=\"new\" xlink:title=\"psysml:3be07126-877a-4309-8447-1e285ef81f95\" xlink:type=\"simple\"><rect fill=\"#FFFFFF\" filter=\"url(#fc8vtdtlzpjyl)\" height=\"344.72\" id=\"E1\" style=\"stroke: #A80036; stroke-width: 1.5;\" width=\"341\" x=\"7\" y=\"7\"/><rect fill=\"#FEFECE\" height=\"37.9375\" style=\"stroke: #A80036; stroke-width: 1.5;\" width=\"341\" x=\"7\" y=\"7\"/><text fill=\"#000000\" font-family=\"sans-serif\" font-size=\"12\" font-style=\"italic\" lengthAdjust=\"spacingAndGlyphs\" textLength=\"77\" x=\"139\" y=\"23.1387\">«action def»</text><text fill=\"#000000\" font-family=\"sans-serif\" font-size=\"12\" lengthAdjust=\"spacingAndGlyphs\" textLength=\"80\" x=\"137.5\" y=\"37.1074\">DecisionTest</text></a><text fill=\"#000000\" font-family=\"sans-serif\" font-size=\"14\" lengthAdjust=\"spacingAndGlyphs\" textLength=\"48\" x=\"153\" y=\"370.7151\">$result</text><rect fill=\"#A80036\" height=\"12\" style=\"stroke: #FEFECE; stroke-width: 1.5;\" width=\"12\" x=\"171\" y=\"345.72\"/><polygon fill=\"#FEFECE\" filter=\"url(#fc8vtdtlzpjyl)\" points=\"167,28.5,179,40.5,167,52.5,155,40.5,167,28.5\" style=\"stroke: #A80036; stroke-width: 1.5;\"/><polygon fill=\"#FEFECE\" filter=\"url(#fc8vtdtlzpjyl)\" points=\"35,126.5,47,138.5,35,150.5,23,138.5,35,126.5\" style=\"stroke: #A80036; stroke-width: 1.5;\"/><g id=\"E1.E5\"><a href=\"psysml:0f40ea9b-adac-4a33-8b1a-34d15e55e3d2\" target=\"_top\" title=\"psysml:0f40ea9b-adac-4a33-8b1a-34d15e55e3d2\" xlink:actuate=\"onRequest\" xlink:href=\"psysml:0f40ea9b-adac-4a33-8b1a-34d15e55e3d2\" xlink:show=\"new\" xlink:title=\"psysml:0f40ea9b-adac-4a33-8b1a-34d15e55e3d2\" xlink:type=\"simple\"><rect fill=\"#FEFECE\" filter=\"url(#fc8vtdtlzpjyl)\" height=\"42.9375\" id=\"E5\" rx=\"10\" ry=\"10\" style=\"stroke: #A80036; stroke-width: 1.5;\" width=\"86\" x=\"135\" y=\"193\"/><ellipse cx=\"152.25\" cy=\"211.9688\" fill=\"#FFA500\" rx=\"11\" ry=\"11\" style=\"stroke: #A80036; stroke-width: 1.0;\"/><path d=\"M148.125,213.8906 L148.125,206.0781 L150.5781,206.0781 L150.5781,214.5156 Q150.5781,215.4375 151.0469,215.9688 Q151.5313,216.5 152.3594,216.5 Q153.2031,216.5 153.6719,215.9688 Q154.1406,215.4375 154.1406,214.5156 L154.1406,206.0781 L156.5938,206.0781 L156.5938,213.8906 Q156.5938,216.4219 155.5938,217.5625 Q154.5938,218.7031 152.3594,218.7031 Q150.1406,218.7031 149.125,217.5625 Q148.125,216.4219 148.125,213.8906 Z \"/><text fill=\"#000000\" font-family=\"sans-serif\" font-size=\"12\" font-style=\"italic\" lengthAdjust=\"spacingAndGlyphs\" textLength=\"53\" x=\"164.75\" y=\"209.1387\">«action»</text><text fill=\"#000000\" font-family=\"sans-serif\" font-size=\"12\" lengthAdjust=\"spacingAndGlyphs\" textLength=\"16\" x=\"183.25\" y=\"223.1074\">A1</text></a></g><g id=\"E1.E6\"><a href=\"psysml:128661ee-6ef6-488f-adc9-4acba814b00a\" target=\"_top\" title=\"psysml:128661ee-6ef6-488f-adc9-4acba814b00a\" xlink:actuate=\"onRequest\" xlink:href=\"psysml:128661ee-6ef6-488f-adc9-4acba814b00a\" xlink:show=\"new\" xlink:title=\"psysml:128661ee-6ef6-488f-adc9-4acba814b00a\" xlink:type=\"simple\"><rect fill=\"#FEFECE\" filter=\"url(#fc8vtdtlzpjyl)\" height=\"42.9375\" id=\"E6\" rx=\"10\" ry=\"10\" style=\"stroke: #A80036; stroke-width: 1.5;\" width=\"86\" x=\"135\" y=\"269\"/><ellipse cx=\"152.25\" cy=\"287.9688\" fill=\"#FFA500\" rx=\"11\" ry=\"11\" style=\"stroke: #A80036; stroke-width: 1.0;\"/><path d=\"M148.125,289.8906 L148.125,282.0781 L150.5781,282.0781 L150.5781,290.5156 Q150.5781,291.4375 151.0469,291.9688 Q151.5313,292.5 152.3594,292.5 Q153.2031,292.5 153.6719,291.9688 Q154.1406,291.4375 154.1406,290.5156 L154.1406,282.0781 L156.5938,282.0781 L156.5938,289.8906 Q156.5938,292.4219 155.5938,293.5625 Q154.5938,294.7031 152.3594,294.7031 Q150.1406,294.7031 149.125,293.5625 Q148.125,292.4219 148.125,289.8906 Z \"/><text fill=\"#000000\" font-family=\"sans-serif\" font-size=\"12\" font-style=\"italic\" lengthAdjust=\"spacingAndGlyphs\" textLength=\"53\" x=\"164.75\" y=\"285.1387\">«action»</text><text fill=\"#000000\" font-family=\"sans-serif\" font-size=\"12\" lengthAdjust=\"spacingAndGlyphs\" textLength=\"16\" x=\"183.25\" y=\"299.1074\">A2</text></a></g><g id=\"E1.E7\"><a href=\"psysml:7b9f6d16-7e81-4d0a-aec9-34a5599243af\" target=\"_top\" title=\"psysml:7b9f6d16-7e81-4d0a-aec9-34a5599243af\" xlink:actuate=\"onRequest\" xlink:href=\"psysml:7b9f6d16-7e81-4d0a-aec9-34a5599243af\" xlink:show=\"new\" xlink:title=\"psysml:7b9f6d16-7e81-4d0a-aec9-34a5599243af\" xlink:type=\"simple\"><rect fill=\"#FEFECE\" filter=\"url(#fc8vtdtlzpjyl)\" height=\"42.9375\" id=\"E7\" rx=\"10\" ry=\"10\" style=\"stroke: #A80036; stroke-width: 1.5;\" width=\"86\" x=\"30\" y=\"66\"/><ellipse cx=\"47.25\" cy=\"84.9688\" fill=\"#FFA500\" rx=\"11\" ry=\"11\" style=\"stroke: #A80036; stroke-width: 1.0;\"/><path d=\"M43.125,86.8906 L43.125,79.0781 L45.5781,79.0781 L45.5781,87.5156 Q45.5781,88.4375 46.0469,88.9688 Q46.5313,89.5 47.3594,89.5 Q48.2031,89.5 48.6719,88.9688 Q49.1406,88.4375 49.1406,87.5156 L49.1406,79.0781 L51.5938,79.0781 L51.5938,86.8906 Q51.5938,89.4219 50.5938,90.5625 Q49.5938,91.7031 47.3594,91.7031 Q45.1406,91.7031 44.125,90.5625 Q43.125,89.4219 43.125,86.8906 Z \"/><text fill=\"#000000\" font-family=\"sans-serif\" font-size=\"12\" font-style=\"italic\" lengthAdjust=\"spacingAndGlyphs\" textLength=\"53\" x=\"59.75\" y=\"82.1387\">«action»</text><text fill=\"#000000\" font-family=\"sans-serif\" font-size=\"12\" lengthAdjust=\"spacingAndGlyphs\" textLength=\"16\" x=\"78.25\" y=\"96.1074\">A3</text></a></g><g id=\"E1.E8\"><a href=\"psysml:7b9f6d16-7e81-4d0a-aec9-34a5599243af\" target=\"_top\" title=\"psysml:7b9f6d16-7e81-4d0a-aec9-34a5599243af\" xlink:actuate=\"onRequest\" xlink:href=\"psysml:7b9f6d16-7e81-4d0a-aec9-34a5599243af\" xlink:show=\"new\" xlink:title=\"psysml:7b9f6d16-7e81-4d0a-aec9-34a5599243af\" xlink:type=\"simple\"><rect fill=\"#FEFECE\" filter=\"url(#fc8vtdtlzpjyl)\" height=\"42.9375\" id=\"E8\" rx=\"10\" ry=\"10\" style=\"stroke: #A80036; stroke-width: 1.5;\" width=\"86\" x=\"246\" y=\"117\"/><ellipse cx=\"263.25\" cy=\"135.9688\" fill=\"#FFA500\" rx=\"11\" ry=\"11\" style=\"stroke: #A80036; stroke-width: 1.0;\"/><path d=\"M259.125,137.8906 L259.125,130.0781 L261.5781,130.0781 L261.5781,138.5156 Q261.5781,139.4375 262.0469,139.9688 Q262.5313,140.5 263.3594,140.5 Q264.2031,140.5 264.6719,139.9688 Q265.1406,139.4375 265.1406,138.5156 L265.1406,130.0781 L267.5938,130.0781 L267.5938,137.8906 Q267.5938,140.4219 266.5938,141.5625 Q265.5938,142.7031 263.3594,142.7031 Q261.1406,142.7031 260.125,141.5625 Q259.125,140.4219 259.125,137.8906 Z \"/><text fill=\"#000000\" font-family=\"sans-serif\" font-size=\"12\" font-style=\"italic\" lengthAdjust=\"spacingAndGlyphs\" textLength=\"53\" x=\"275.75\" y=\"133.1387\">«action»</text><text fill=\"#000000\" font-family=\"sans-serif\" font-size=\"12\" lengthAdjust=\"spacingAndGlyphs\" textLength=\"16\" x=\"294.25\" y=\"147.1074\">A3</text></a></g><!--MD5=[0188b64bb0ae78505a997a81836e11e9]\n",
       "link E3 to E5--><a href=\"psysml:7286f462-e52e-4ebc-bfea-7701f26f76d2\" target=\"_top\" title=\"psysml:7286f462-e52e-4ebc-bfea-7701f26f76d2\" xlink:actuate=\"onRequest\" xlink:href=\"psysml:7286f462-e52e-4ebc-bfea-7701f26f76d2\" xlink:show=\"new\" xlink:title=\"psysml:7286f462-e52e-4ebc-bfea-7701f26f76d2\" xlink:type=\"simple\"><path d=\"M163.2,48.82 C153.97,67.58 132,118.75 144,160 C146.9,169.99 152.3,179.89 157.95,188.41 \" fill=\"none\" id=\"E3-&gt;E5\" style=\"stroke: #A80036; stroke-width: 1.0;\"/><polygon fill=\"#A80036\" points=\"161.1,192.99,159.2903,183.3088,158.2643,188.8719,152.7013,187.8459,161.1,192.99\" style=\"stroke: #A80036; stroke-width: 1.0;\"/><text fill=\"#000000\" font-family=\"sans-serif\" font-size=\"13\" lengthAdjust=\"spacingAndGlyphs\" textLength=\"55\" x=\"145\" y=\"143.0669\">[x == 1]</text></a><!--MD5=[ec9844e0c75763426927cad3229d1081]\n",
       "link E3 to E6--><a href=\"psysml:e748a59f-80ec-4a6b-adc3-e898091fbade\" target=\"_top\" title=\"psysml:e748a59f-80ec-4a6b-adc3-e898091fbade\" xlink:actuate=\"onRequest\" xlink:href=\"psysml:e748a59f-80ec-4a6b-adc3-e898091fbade\" xlink:show=\"new\" xlink:title=\"psysml:e748a59f-80ec-4a6b-adc3-e898091fbade\" xlink:type=\"simple\"><path d=\"M170.89,48.95 C177.9,62.43 193.04,91.82 205,117 C220.88,150.42 229.86,157.14 239,193 C244.61,215.03 242.11,221.28 243,244 C243.3,251.55 247.13,254.68 243,261 C238.78,267.45 232.75,272.45 226.03,276.33 \" fill=\"none\" id=\"E3-&gt;E6\" style=\"stroke: #A80036; stroke-width: 1.0;\"/><polygon fill=\"#A80036\" points=\"221.28,278.83,231.1075,278.1819,225.7055,276.503,227.3844,271.101,221.28,278.83\" style=\"stroke: #A80036; stroke-width: 1.0;\"/><text fill=\"#000000\" font-family=\"sans-serif\" font-size=\"13\" lengthAdjust=\"spacingAndGlyphs\" textLength=\"44\" x=\"237\" y=\"181.0669\">[x &gt; 1]</text></a><!--MD5=[ca5a752d6098d8a44b3f88316e7452d1]\n",
       "link E3 to E8--><a href=\"psysml:c4aa7bb1-7be8-4d3d-94c8-0c3feb0dde03\" target=\"_top\" title=\"psysml:c4aa7bb1-7be8-4d3d-94c8-0c3feb0dde03\" xlink:actuate=\"onRequest\" xlink:href=\"psysml:c4aa7bb1-7be8-4d3d-94c8-0c3feb0dde03\" xlink:show=\"new\" xlink:title=\"psysml:c4aa7bb1-7be8-4d3d-94c8-0c3feb0dde03\" xlink:type=\"simple\"><path d=\"M174.38,45.6 C180.45,48.95 189.26,53.81 197,58 C203.64,61.6 207.4,60.01 212,66 C223.95,81.56 209.38,93.97 222,109 C227.18,115.17 233.94,120.04 241.17,123.87 \" fill=\"none\" id=\"E3-&gt;E8\" style=\"stroke: #A80036; stroke-width: 1.0;\"/><polygon fill=\"#A80036\" points=\"245.72,126.12,239.4203,118.5495,241.2365,123.9068,235.8791,125.7231,245.72,126.12\" style=\"stroke: #A80036; stroke-width: 1.0;\"/></a><!--MD5=[95fa686b5a16158bcdbcaeead89f639b]\n",
       "link E8 to E3--><a href=\"psysml:313c2626-617f-4a85-9d7c-c31cb61d9b9e\" target=\"_top\" title=\"psysml:313c2626-617f-4a85-9d7c-c31cb61d9b9e\" xlink:actuate=\"onRequest\" xlink:href=\"psysml:313c2626-617f-4a85-9d7c-c31cb61d9b9e\" xlink:show=\"new\" xlink:title=\"psysml:313c2626-617f-4a85-9d7c-c31cb61d9b9e\" xlink:type=\"simple\"><path d=\"M259.64,116.85 C256.62,114.33 253.68,111.69 251,109 C234.19,92.12 238.11,80.22 219,66 C210.65,59.79 206.48,62.3 197,58 C190.87,55.22 184.28,51.67 178.85,48.57 \" fill=\"none\" id=\"E8-&gt;E3\" style=\"stroke: #A80036; stroke-width: 1.0;\"/><polygon fill=\"#A80036\" points=\"174.24,45.89,180.0018,53.8776,178.5599,48.4076,184.0299,46.9657,174.24,45.89\" style=\"stroke: #A80036; stroke-width: 1.0;\"/><text fill=\"#000000\" font-family=\"sans-serif\" font-size=\"13\" lengthAdjust=\"spacingAndGlyphs\" textLength=\"44\" x=\"252\" y=\"92.0669\">[x &gt; 0]</text></a><!--MD5=[af87c684e3b0d8be13c1a698a818ef1e]\n",
       "link E3 to E4--><a href=\"psysml:9e59e0cd-e7d6-48f9-8abd-2b6da2cb7bd3\" target=\"_top\" title=\"psysml:9e59e0cd-e7d6-48f9-8abd-2b6da2cb7bd3\" xlink:actuate=\"onRequest\" xlink:href=\"psysml:9e59e0cd-e7d6-48f9-8abd-2b6da2cb7bd3\" xlink:show=\"new\" xlink:title=\"psysml:9e59e0cd-e7d6-48f9-8abd-2b6da2cb7bd3\" xlink:type=\"simple\"><path d=\"M155.98,41.72 C126.2,42.55 45.26,46.6 29,66 C15.2,82.47 22.72,109.21 29.1,124.9 \" fill=\"none\" id=\"E3-&gt;E4\" style=\"stroke: #A80036; stroke-width: 1.0;\"/><polygon fill=\"#A80036\" points=\"31.18,129.77,31.3113,119.922,29.2104,125.1743,23.9581,123.0734,31.18,129.77\" style=\"stroke: #A80036; stroke-width: 1.0;\"/></a><!--MD5=[1b7591eae5389033d8d09a9d6721a717]\n",
       "link E4 to E5--><a href=\"psysml:7b0b5bc6-fd2d-464d-92f4-1e71099b6f78\" target=\"_top\" title=\"psysml:7b0b5bc6-fd2d-464d-92f4-1e71099b6f78\" xlink:actuate=\"onRequest\" xlink:href=\"psysml:7b0b5bc6-fd2d-464d-92f4-1e71099b6f78\" xlink:show=\"new\" xlink:title=\"psysml:7b0b5bc6-fd2d-464d-92f4-1e71099b6f78\" xlink:type=\"simple\"><path d=\"M40.05,145.75 C48.27,155.51 65.48,174.36 84,185 C86.27,186.3 107.96,192.91 129.94,199.43 \" fill=\"none\" id=\"E4-&gt;E5\" style=\"stroke: #A80036; stroke-width: 1.0;\"/><polygon fill=\"#A80036\" points=\"134.92,200.9,127.4226,194.5133,130.125,199.483,125.1554,202.1853,134.92,200.9\" style=\"stroke: #A80036; stroke-width: 1.0;\"/><text fill=\"#000000\" font-family=\"sans-serif\" font-size=\"13\" lengthAdjust=\"spacingAndGlyphs\" textLength=\"36\" x=\"85\" y=\"181.0669\">[true]</text></a><!--MD5=[79568f1e445c3877b6a54524624ccc7d]\n",
       "link E4 to E6--><a href=\"psysml:2cb1b039-bbb8-4621-9b87-8355478bfab0\" target=\"_top\" title=\"psysml:2cb1b039-bbb8-4621-9b87-8355478bfab0\" xlink:actuate=\"onRequest\" xlink:href=\"psysml:2cb1b039-bbb8-4621-9b87-8355478bfab0\" xlink:show=\"new\" xlink:title=\"psysml:2cb1b039-bbb8-4621-9b87-8355478bfab0\" xlink:type=\"simple\"><path d=\"M36.76,148.89 C40.71,167.6 51.87,209.97 76,236 C90.72,251.89 111.25,263.91 130.03,272.49 \" fill=\"none\" id=\"E4-&gt;E6\" style=\"stroke: #A80036; stroke-width: 1.0;\"/><polygon fill=\"#A80036\" points=\"134.76,274.6,128.1751,267.2761,130.1951,272.56,124.9112,274.58,134.76,274.6\" style=\"stroke: #A80036; stroke-width: 1.0;\"/><text fill=\"#000000\" font-family=\"sans-serif\" font-size=\"13\" lengthAdjust=\"spacingAndGlyphs\" textLength=\"40\" x=\"77\" y=\"219.0669\">[false]</text></a><!--MD5=[9120cf2e5df3bff93db8f754bbbc09b4]\n",
       "link E5 to E6--><a href=\"psysml:b49ece63-4bda-4eac-a48b-66e19b9bdab7\" target=\"_top\" title=\"psysml:b49ece63-4bda-4eac-a48b-66e19b9bdab7\" xlink:actuate=\"onRequest\" xlink:href=\"psysml:b49ece63-4bda-4eac-a48b-66e19b9bdab7\" xlink:show=\"new\" xlink:title=\"psysml:b49ece63-4bda-4eac-a48b-66e19b9bdab7\" xlink:type=\"simple\"><path d=\"M178,236.11 C178,244.69 178,254.75 178,263.8 \" fill=\"none\" id=\"E5-&gt;E6\" style=\"stroke: #A80036; stroke-width: 1.0;\"/><polygon fill=\"#A80036\" points=\"178,269,182,260,178,264,174,260,178,269\" style=\"stroke: #A80036; stroke-width: 1.0;\"/><text fill=\"#000000\" font-family=\"sans-serif\" font-size=\"13\" lengthAdjust=\"spacingAndGlyphs\" textLength=\"55\" x=\"179\" y=\"257.0669\">[x == 0]</text></a><!--MD5=[2c6565e8ee3541e882633260bf6a6d6f]\n",
       "@startuml\r\n",
       "skinparam ranksep 10\r\n",
       "skinparam rectangle {\r\n",
       " backgroundColor<<block>> LightGreen\r\n",
       "}\r\n",
       " \r\n",
       "rec def \"DecisionTest\" as E1  <<(D,brown)action def>> [[psysml:3be07126-877a-4309-8447-1e285ef81f95 ]] {\r\n",
       "portout \"$result\" as E2  [[psysml:9348992a-eef4-478a-99a3-8679640e907b ]] \r\n",
       "choice \"test x\" as E3  [[psysml:68020b6f-ffe7-4b5f-b810-1edcbdd08af0 ]] \r\n",
       "choice \"noname\" as E4  [[psysml:c53ed86d-7fd9-4daa-81a5-a3aaa8a48fdd ]] \r\n",
       "rec usage \"A1\" as E5  <<(U,orange)action>> [[psysml:0f40ea9b-adac-4a33-8b1a-34d15e55e3d2 ]] {\r\n",
       "}\r\n",
       "\r\n",
       "rec usage \"A2\" as E6  <<(U,orange)action>> [[psysml:128661ee-6ef6-488f-adc9-4acba814b00a ]] {\r\n",
       "}\r\n",
       "\r\n",
       "rec usage \"A3\" as E7  <<(U,orange)action>> [[psysml:7b9f6d16-7e81-4d0a-aec9-34a5599243af ]] {\r\n",
       "}\r\n",
       "\r\n",
       "rec usage \"A3\" as E8  <<(U,orange)action>> [[psysml:7b9f6d16-7e81-4d0a-aec9-34a5599243af ]] {\r\n",
       "}\r\n",
       "\r\n",
       "}\r\n",
       "\r\n",
       "E3  - -> E5 [[psysml:7286f462-e52e-4ebc-bfea-7701f26f76d2 ]] : [x == 1]\r\n",
       "E3  - -> E6 [[psysml:e748a59f-80ec-4a6b-adc3-e898091fbade ]] : [x > 1]\r\n",
       "E3  - -> E8 [[psysml:c4aa7bb1-7be8-4d3d-94c8-0c3feb0dde03 ]] \r\n",
       "E3 - -> E4 [[psysml:9e59e0cd-e7d6-48f9-8abd-2b6da2cb7bd3 ]] \r\n",
       "E4  - -> E5 [[psysml:7b0b5bc6-fd2d-464d-92f4-1e71099b6f78 ]] : [true]\r\n",
       "E4  - -> E6 [[psysml:2cb1b039-bbb8-4621-9b87-8355478bfab0 ]] : [false]\r\n",
       "E5  - -> E6 [[psysml:b49ece63-4bda-4eac-a48b-66e19b9bdab7 ]] : [x == 0]\r\n",
       "E8  - -> E3 [[psysml:313c2626-617f-4a85-9d7c-c31cb61d9b9e ]] : [x > 0]\r\n",
       "@enduml\r\n",
       "\n",
       "PlantUML version 1.2020.13(Sat Jun 13 12:26:38 UTC 2020)\n",
       "(EPL source distribution)\n",
       "Java Runtime: OpenJDK Runtime Environment\n",
       "JVM: OpenJDK 64-Bit Server VM\n",
       "Default Encoding: UTF-8\n",
       "Language: en\n",
       "Country: null\n",
       "--></g></svg>"
      ]
     },
     "execution_count": 33,
     "metadata": {},
     "output_type": "execute_result"
    }
   ],
   "source": [
    "%viz --style=\"PLANTUML\" --view=\"Interconnection\" \"DecisionTest\""
   ]
  },
  {
   "cell_type": "code",
   "execution_count": 34,
   "id": "7a61c4ac",
   "metadata": {
    "execution": {
     "iopub.execute_input": "2021-05-27T06:09:54.181910Z",
     "iopub.status.busy": "2021-05-27T06:09:54.181390Z",
     "iopub.status.idle": "2021-05-27T06:09:54.217260Z",
     "shell.execute_reply": "2021-05-27T06:09:54.215965Z"
    }
   },
   "outputs": [
    {
     "data": {
      "image/svg+xml": [
       "<?xml version=\"1.0\" encoding=\"UTF-8\" standalone=\"no\"?><svg xmlns=\"http://www.w3.org/2000/svg\" xmlns:xlink=\"http://www.w3.org/1999/xlink\" contentScriptType=\"application/ecmascript\" contentStyleType=\"text/css\" height=\"384px\" preserveAspectRatio=\"none\" style=\"width:367px;height:384px;\" version=\"1.1\" viewBox=\"0 0 367 384\" width=\"367px\" zoomAndPan=\"magnify\"><defs><filter height=\"300%\" id=\"f1tdselvqkvdp1\" width=\"300%\" x=\"-1\" y=\"-1\"><feGaussianBlur result=\"blurOut\" stdDeviation=\"2.0\"/><feColorMatrix in=\"blurOut\" result=\"blurOut2\" type=\"matrix\" values=\"0 0 0 0 0 0 0 0 0 0 0 0 0 0 0 0 0 0 .4 0\"/><feOffset dx=\"4.0\" dy=\"4.0\" in=\"blurOut2\" result=\"blurOut3\"/><feBlend in=\"SourceGraphic\" in2=\"blurOut3\" mode=\"normal\"/></filter></defs><g><!--MD5=[fbc87193dbaf4d95561dea2c320d4a47]\n",
       "cluster E1--><a href=\"psysml:3be07126-877a-4309-8447-1e285ef81f95\" target=\"_top\" title=\"psysml:3be07126-877a-4309-8447-1e285ef81f95\" xlink:actuate=\"onRequest\" xlink:href=\"psysml:3be07126-877a-4309-8447-1e285ef81f95\" xlink:show=\"new\" xlink:title=\"psysml:3be07126-877a-4309-8447-1e285ef81f95\" xlink:type=\"simple\"><rect fill=\"#FFFFFF\" filter=\"url(#f1tdselvqkvdp1)\" height=\"344.72\" id=\"E1\" style=\"stroke: #A80036; stroke-width: 1.5;\" width=\"341\" x=\"7\" y=\"7\"/><rect fill=\"#FEFECE\" height=\"37.9375\" style=\"stroke: #A80036; stroke-width: 1.5;\" width=\"341\" x=\"7\" y=\"7\"/><text fill=\"#000000\" font-family=\"sans-serif\" font-size=\"12\" font-style=\"italic\" lengthAdjust=\"spacingAndGlyphs\" textLength=\"77\" x=\"139\" y=\"23.1387\">«action def»</text><text fill=\"#000000\" font-family=\"sans-serif\" font-size=\"12\" lengthAdjust=\"spacingAndGlyphs\" textLength=\"80\" x=\"137.5\" y=\"37.1074\">DecisionTest</text></a><text fill=\"#000000\" font-family=\"sans-serif\" font-size=\"14\" lengthAdjust=\"spacingAndGlyphs\" textLength=\"48\" x=\"153\" y=\"370.7151\">$result</text><rect fill=\"#A80036\" height=\"12\" style=\"stroke: #FEFECE; stroke-width: 1.5;\" width=\"12\" x=\"171\" y=\"345.72\"/><polygon fill=\"#FEFECE\" filter=\"url(#f1tdselvqkvdp1)\" points=\"167,28.5,179,40.5,167,52.5,155,40.5,167,28.5\" style=\"stroke: #A80036; stroke-width: 1.5;\"/><polygon fill=\"#FEFECE\" filter=\"url(#f1tdselvqkvdp1)\" points=\"35,126.5,47,138.5,35,150.5,23,138.5,35,126.5\" style=\"stroke: #A80036; stroke-width: 1.5;\"/><g id=\"E1.E5\"><a href=\"psysml:0f40ea9b-adac-4a33-8b1a-34d15e55e3d2\" target=\"_top\" title=\"psysml:0f40ea9b-adac-4a33-8b1a-34d15e55e3d2\" xlink:actuate=\"onRequest\" xlink:href=\"psysml:0f40ea9b-adac-4a33-8b1a-34d15e55e3d2\" xlink:show=\"new\" xlink:title=\"psysml:0f40ea9b-adac-4a33-8b1a-34d15e55e3d2\" xlink:type=\"simple\"><rect fill=\"#FEFECE\" filter=\"url(#f1tdselvqkvdp1)\" height=\"42.9375\" id=\"E5\" rx=\"10\" ry=\"10\" style=\"stroke: #A80036; stroke-width: 1.5;\" width=\"86\" x=\"135\" y=\"193\"/><ellipse cx=\"152.25\" cy=\"211.9688\" fill=\"#FFA500\" rx=\"11\" ry=\"11\" style=\"stroke: #A80036; stroke-width: 1.0;\"/><path d=\"M148.125,213.8906 L148.125,206.0781 L150.5781,206.0781 L150.5781,214.5156 Q150.5781,215.4375 151.0469,215.9688 Q151.5313,216.5 152.3594,216.5 Q153.2031,216.5 153.6719,215.9688 Q154.1406,215.4375 154.1406,214.5156 L154.1406,206.0781 L156.5938,206.0781 L156.5938,213.8906 Q156.5938,216.4219 155.5938,217.5625 Q154.5938,218.7031 152.3594,218.7031 Q150.1406,218.7031 149.125,217.5625 Q148.125,216.4219 148.125,213.8906 Z \"/><text fill=\"#000000\" font-family=\"sans-serif\" font-size=\"12\" font-style=\"italic\" lengthAdjust=\"spacingAndGlyphs\" textLength=\"53\" x=\"164.75\" y=\"209.1387\">«action»</text><text fill=\"#000000\" font-family=\"sans-serif\" font-size=\"12\" lengthAdjust=\"spacingAndGlyphs\" textLength=\"16\" x=\"183.25\" y=\"223.1074\">A1</text></a></g><g id=\"E1.E6\"><a href=\"psysml:128661ee-6ef6-488f-adc9-4acba814b00a\" target=\"_top\" title=\"psysml:128661ee-6ef6-488f-adc9-4acba814b00a\" xlink:actuate=\"onRequest\" xlink:href=\"psysml:128661ee-6ef6-488f-adc9-4acba814b00a\" xlink:show=\"new\" xlink:title=\"psysml:128661ee-6ef6-488f-adc9-4acba814b00a\" xlink:type=\"simple\"><rect fill=\"#FEFECE\" filter=\"url(#f1tdselvqkvdp1)\" height=\"42.9375\" id=\"E6\" rx=\"10\" ry=\"10\" style=\"stroke: #A80036; stroke-width: 1.5;\" width=\"86\" x=\"135\" y=\"269\"/><ellipse cx=\"152.25\" cy=\"287.9688\" fill=\"#FFA500\" rx=\"11\" ry=\"11\" style=\"stroke: #A80036; stroke-width: 1.0;\"/><path d=\"M148.125,289.8906 L148.125,282.0781 L150.5781,282.0781 L150.5781,290.5156 Q150.5781,291.4375 151.0469,291.9688 Q151.5313,292.5 152.3594,292.5 Q153.2031,292.5 153.6719,291.9688 Q154.1406,291.4375 154.1406,290.5156 L154.1406,282.0781 L156.5938,282.0781 L156.5938,289.8906 Q156.5938,292.4219 155.5938,293.5625 Q154.5938,294.7031 152.3594,294.7031 Q150.1406,294.7031 149.125,293.5625 Q148.125,292.4219 148.125,289.8906 Z \"/><text fill=\"#000000\" font-family=\"sans-serif\" font-size=\"12\" font-style=\"italic\" lengthAdjust=\"spacingAndGlyphs\" textLength=\"53\" x=\"164.75\" y=\"285.1387\">«action»</text><text fill=\"#000000\" font-family=\"sans-serif\" font-size=\"12\" lengthAdjust=\"spacingAndGlyphs\" textLength=\"16\" x=\"183.25\" y=\"299.1074\">A2</text></a></g><g id=\"E1.E7\"><a href=\"psysml:7b9f6d16-7e81-4d0a-aec9-34a5599243af\" target=\"_top\" title=\"psysml:7b9f6d16-7e81-4d0a-aec9-34a5599243af\" xlink:actuate=\"onRequest\" xlink:href=\"psysml:7b9f6d16-7e81-4d0a-aec9-34a5599243af\" xlink:show=\"new\" xlink:title=\"psysml:7b9f6d16-7e81-4d0a-aec9-34a5599243af\" xlink:type=\"simple\"><rect fill=\"#FEFECE\" filter=\"url(#f1tdselvqkvdp1)\" height=\"42.9375\" id=\"E7\" rx=\"10\" ry=\"10\" style=\"stroke: #A80036; stroke-width: 1.5;\" width=\"86\" x=\"30\" y=\"66\"/><ellipse cx=\"47.25\" cy=\"84.9688\" fill=\"#FFA500\" rx=\"11\" ry=\"11\" style=\"stroke: #A80036; stroke-width: 1.0;\"/><path d=\"M43.125,86.8906 L43.125,79.0781 L45.5781,79.0781 L45.5781,87.5156 Q45.5781,88.4375 46.0469,88.9688 Q46.5313,89.5 47.3594,89.5 Q48.2031,89.5 48.6719,88.9688 Q49.1406,88.4375 49.1406,87.5156 L49.1406,79.0781 L51.5938,79.0781 L51.5938,86.8906 Q51.5938,89.4219 50.5938,90.5625 Q49.5938,91.7031 47.3594,91.7031 Q45.1406,91.7031 44.125,90.5625 Q43.125,89.4219 43.125,86.8906 Z \"/><text fill=\"#000000\" font-family=\"sans-serif\" font-size=\"12\" font-style=\"italic\" lengthAdjust=\"spacingAndGlyphs\" textLength=\"53\" x=\"59.75\" y=\"82.1387\">«action»</text><text fill=\"#000000\" font-family=\"sans-serif\" font-size=\"12\" lengthAdjust=\"spacingAndGlyphs\" textLength=\"16\" x=\"78.25\" y=\"96.1074\">A3</text></a></g><g id=\"E1.E8\"><a href=\"psysml:7b9f6d16-7e81-4d0a-aec9-34a5599243af\" target=\"_top\" title=\"psysml:7b9f6d16-7e81-4d0a-aec9-34a5599243af\" xlink:actuate=\"onRequest\" xlink:href=\"psysml:7b9f6d16-7e81-4d0a-aec9-34a5599243af\" xlink:show=\"new\" xlink:title=\"psysml:7b9f6d16-7e81-4d0a-aec9-34a5599243af\" xlink:type=\"simple\"><rect fill=\"#FEFECE\" filter=\"url(#f1tdselvqkvdp1)\" height=\"42.9375\" id=\"E8\" rx=\"10\" ry=\"10\" style=\"stroke: #A80036; stroke-width: 1.5;\" width=\"86\" x=\"246\" y=\"117\"/><ellipse cx=\"263.25\" cy=\"135.9688\" fill=\"#FFA500\" rx=\"11\" ry=\"11\" style=\"stroke: #A80036; stroke-width: 1.0;\"/><path d=\"M259.125,137.8906 L259.125,130.0781 L261.5781,130.0781 L261.5781,138.5156 Q261.5781,139.4375 262.0469,139.9688 Q262.5313,140.5 263.3594,140.5 Q264.2031,140.5 264.6719,139.9688 Q265.1406,139.4375 265.1406,138.5156 L265.1406,130.0781 L267.5938,130.0781 L267.5938,137.8906 Q267.5938,140.4219 266.5938,141.5625 Q265.5938,142.7031 263.3594,142.7031 Q261.1406,142.7031 260.125,141.5625 Q259.125,140.4219 259.125,137.8906 Z \"/><text fill=\"#000000\" font-family=\"sans-serif\" font-size=\"12\" font-style=\"italic\" lengthAdjust=\"spacingAndGlyphs\" textLength=\"53\" x=\"275.75\" y=\"133.1387\">«action»</text><text fill=\"#000000\" font-family=\"sans-serif\" font-size=\"12\" lengthAdjust=\"spacingAndGlyphs\" textLength=\"16\" x=\"294.25\" y=\"147.1074\">A3</text></a></g><!--MD5=[0188b64bb0ae78505a997a81836e11e9]\n",
       "link E3 to E5--><a href=\"psysml:7286f462-e52e-4ebc-bfea-7701f26f76d2\" target=\"_top\" title=\"psysml:7286f462-e52e-4ebc-bfea-7701f26f76d2\" xlink:actuate=\"onRequest\" xlink:href=\"psysml:7286f462-e52e-4ebc-bfea-7701f26f76d2\" xlink:show=\"new\" xlink:title=\"psysml:7286f462-e52e-4ebc-bfea-7701f26f76d2\" xlink:type=\"simple\"><path d=\"M163.2,48.82 C153.97,67.58 132,118.75 144,160 C146.9,169.99 152.3,179.89 157.95,188.41 \" fill=\"none\" id=\"E3-&gt;E5\" style=\"stroke: #A80036; stroke-width: 1.0; stroke-dasharray: 7.0,7.0;\"/><polygon fill=\"#A80036\" points=\"161.1,192.99,159.2903,183.3088,158.2643,188.8719,152.7013,187.8459,161.1,192.99\" style=\"stroke: #A80036; stroke-width: 1.0;\"/><text fill=\"#000000\" font-family=\"sans-serif\" font-size=\"13\" lengthAdjust=\"spacingAndGlyphs\" textLength=\"55\" x=\"145\" y=\"143.0669\">[x == 1]</text></a><!--MD5=[ec9844e0c75763426927cad3229d1081]\n",
       "link E3 to E6--><a href=\"psysml:e748a59f-80ec-4a6b-adc3-e898091fbade\" target=\"_top\" title=\"psysml:e748a59f-80ec-4a6b-adc3-e898091fbade\" xlink:actuate=\"onRequest\" xlink:href=\"psysml:e748a59f-80ec-4a6b-adc3-e898091fbade\" xlink:show=\"new\" xlink:title=\"psysml:e748a59f-80ec-4a6b-adc3-e898091fbade\" xlink:type=\"simple\"><path d=\"M170.89,48.95 C177.9,62.43 193.04,91.82 205,117 C220.88,150.42 229.86,157.14 239,193 C244.61,215.03 242.11,221.28 243,244 C243.3,251.55 247.13,254.68 243,261 C238.78,267.45 232.75,272.45 226.03,276.33 \" fill=\"none\" id=\"E3-&gt;E6\" style=\"stroke: #A80036; stroke-width: 1.0; stroke-dasharray: 7.0,7.0;\"/><polygon fill=\"#A80036\" points=\"221.28,278.83,231.1075,278.1819,225.7055,276.503,227.3844,271.101,221.28,278.83\" style=\"stroke: #A80036; stroke-width: 1.0;\"/><text fill=\"#000000\" font-family=\"sans-serif\" font-size=\"13\" lengthAdjust=\"spacingAndGlyphs\" textLength=\"44\" x=\"237\" y=\"181.0669\">[x &gt; 1]</text></a><!--MD5=[ca5a752d6098d8a44b3f88316e7452d1]\n",
       "link E3 to E8--><a href=\"psysml:c4aa7bb1-7be8-4d3d-94c8-0c3feb0dde03\" target=\"_top\" title=\"psysml:c4aa7bb1-7be8-4d3d-94c8-0c3feb0dde03\" xlink:actuate=\"onRequest\" xlink:href=\"psysml:c4aa7bb1-7be8-4d3d-94c8-0c3feb0dde03\" xlink:show=\"new\" xlink:title=\"psysml:c4aa7bb1-7be8-4d3d-94c8-0c3feb0dde03\" xlink:type=\"simple\"><path d=\"M174.38,45.6 C180.45,48.95 189.26,53.81 197,58 C203.64,61.6 207.4,60.01 212,66 C223.95,81.56 209.38,93.97 222,109 C227.18,115.17 233.94,120.04 241.17,123.87 \" fill=\"none\" id=\"E3-&gt;E8\" style=\"stroke: #A80036; stroke-width: 1.0; stroke-dasharray: 7.0,7.0;\"/><polygon fill=\"#A80036\" points=\"245.72,126.12,239.4203,118.5495,241.2365,123.9068,235.8791,125.7231,245.72,126.12\" style=\"stroke: #A80036; stroke-width: 1.0;\"/></a><!--MD5=[95fa686b5a16158bcdbcaeead89f639b]\n",
       "link E8 to E3--><a href=\"psysml:313c2626-617f-4a85-9d7c-c31cb61d9b9e\" target=\"_top\" title=\"psysml:313c2626-617f-4a85-9d7c-c31cb61d9b9e\" xlink:actuate=\"onRequest\" xlink:href=\"psysml:313c2626-617f-4a85-9d7c-c31cb61d9b9e\" xlink:show=\"new\" xlink:title=\"psysml:313c2626-617f-4a85-9d7c-c31cb61d9b9e\" xlink:type=\"simple\"><path d=\"M259.64,116.85 C256.62,114.33 253.68,111.69 251,109 C234.19,92.12 238.11,80.22 219,66 C210.65,59.79 206.48,62.3 197,58 C190.87,55.22 184.28,51.67 178.85,48.57 \" fill=\"none\" id=\"E8-&gt;E3\" style=\"stroke: #A80036; stroke-width: 1.0; stroke-dasharray: 7.0,7.0;\"/><polygon fill=\"#A80036\" points=\"174.24,45.89,180.0018,53.8776,178.5599,48.4076,184.0299,46.9657,174.24,45.89\" style=\"stroke: #A80036; stroke-width: 1.0;\"/><text fill=\"#000000\" font-family=\"sans-serif\" font-size=\"13\" lengthAdjust=\"spacingAndGlyphs\" textLength=\"44\" x=\"252\" y=\"92.0669\">[x &gt; 0]</text></a><!--MD5=[af87c684e3b0d8be13c1a698a818ef1e]\n",
       "link E3 to E4--><a href=\"psysml:9e59e0cd-e7d6-48f9-8abd-2b6da2cb7bd3\" target=\"_top\" title=\"psysml:9e59e0cd-e7d6-48f9-8abd-2b6da2cb7bd3\" xlink:actuate=\"onRequest\" xlink:href=\"psysml:9e59e0cd-e7d6-48f9-8abd-2b6da2cb7bd3\" xlink:show=\"new\" xlink:title=\"psysml:9e59e0cd-e7d6-48f9-8abd-2b6da2cb7bd3\" xlink:type=\"simple\"><path d=\"M155.98,41.72 C126.2,42.55 45.26,46.6 29,66 C15.2,82.47 22.72,109.21 29.1,124.9 \" fill=\"none\" id=\"E3-&gt;E4\" style=\"stroke: #A80036; stroke-width: 1.0; stroke-dasharray: 7.0,7.0;\"/><polygon fill=\"#A80036\" points=\"31.18,129.77,31.3113,119.922,29.2104,125.1743,23.9581,123.0734,31.18,129.77\" style=\"stroke: #A80036; stroke-width: 1.0;\"/></a><!--MD5=[1b7591eae5389033d8d09a9d6721a717]\n",
       "link E4 to E5--><a href=\"psysml:7b0b5bc6-fd2d-464d-92f4-1e71099b6f78\" target=\"_top\" title=\"psysml:7b0b5bc6-fd2d-464d-92f4-1e71099b6f78\" xlink:actuate=\"onRequest\" xlink:href=\"psysml:7b0b5bc6-fd2d-464d-92f4-1e71099b6f78\" xlink:show=\"new\" xlink:title=\"psysml:7b0b5bc6-fd2d-464d-92f4-1e71099b6f78\" xlink:type=\"simple\"><path d=\"M40.05,145.75 C48.27,155.51 65.48,174.36 84,185 C86.27,186.3 107.96,192.91 129.94,199.43 \" fill=\"none\" id=\"E4-&gt;E5\" style=\"stroke: #A80036; stroke-width: 1.0; stroke-dasharray: 7.0,7.0;\"/><polygon fill=\"#A80036\" points=\"134.92,200.9,127.4226,194.5133,130.125,199.483,125.1554,202.1853,134.92,200.9\" style=\"stroke: #A80036; stroke-width: 1.0;\"/><text fill=\"#000000\" font-family=\"sans-serif\" font-size=\"13\" lengthAdjust=\"spacingAndGlyphs\" textLength=\"36\" x=\"85\" y=\"181.0669\">[true]</text></a><!--MD5=[79568f1e445c3877b6a54524624ccc7d]\n",
       "link E4 to E6--><a href=\"psysml:2cb1b039-bbb8-4621-9b87-8355478bfab0\" target=\"_top\" title=\"psysml:2cb1b039-bbb8-4621-9b87-8355478bfab0\" xlink:actuate=\"onRequest\" xlink:href=\"psysml:2cb1b039-bbb8-4621-9b87-8355478bfab0\" xlink:show=\"new\" xlink:title=\"psysml:2cb1b039-bbb8-4621-9b87-8355478bfab0\" xlink:type=\"simple\"><path d=\"M36.76,148.89 C40.71,167.6 51.87,209.97 76,236 C90.72,251.89 111.25,263.91 130.03,272.49 \" fill=\"none\" id=\"E4-&gt;E6\" style=\"stroke: #A80036; stroke-width: 1.0; stroke-dasharray: 7.0,7.0;\"/><polygon fill=\"#A80036\" points=\"134.76,274.6,128.1751,267.2761,130.1951,272.56,124.9112,274.58,134.76,274.6\" style=\"stroke: #A80036; stroke-width: 1.0;\"/><text fill=\"#000000\" font-family=\"sans-serif\" font-size=\"13\" lengthAdjust=\"spacingAndGlyphs\" textLength=\"40\" x=\"77\" y=\"219.0669\">[false]</text></a><!--MD5=[9120cf2e5df3bff93db8f754bbbc09b4]\n",
       "link E5 to E6--><a href=\"psysml:b49ece63-4bda-4eac-a48b-66e19b9bdab7\" target=\"_top\" title=\"psysml:b49ece63-4bda-4eac-a48b-66e19b9bdab7\" xlink:actuate=\"onRequest\" xlink:href=\"psysml:b49ece63-4bda-4eac-a48b-66e19b9bdab7\" xlink:show=\"new\" xlink:title=\"psysml:b49ece63-4bda-4eac-a48b-66e19b9bdab7\" xlink:type=\"simple\"><path d=\"M178,236.11 C178,244.69 178,254.75 178,263.8 \" fill=\"none\" id=\"E5-&gt;E6\" style=\"stroke: #A80036; stroke-width: 1.0; stroke-dasharray: 7.0,7.0;\"/><polygon fill=\"#A80036\" points=\"178,269,182,260,178,264,174,260,178,269\" style=\"stroke: #A80036; stroke-width: 1.0;\"/><text fill=\"#000000\" font-family=\"sans-serif\" font-size=\"13\" lengthAdjust=\"spacingAndGlyphs\" textLength=\"55\" x=\"179\" y=\"257.0669\">[x == 0]</text></a><!--MD5=[983d72e5128dc33b12628f1c2c4ca541]\n",
       "@startuml\r\n",
       "skinparam ranksep 8\r\n",
       " \r\n",
       "rec def \"DecisionTest\" as E1  <<(D,brown)action def>> [[psysml:3be07126-877a-4309-8447-1e285ef81f95 ]] {\r\n",
       "portout \"$result\" as E2  [[psysml:9348992a-eef4-478a-99a3-8679640e907b ]] \r\n",
       "choice \"test x\" as E3  [[psysml:68020b6f-ffe7-4b5f-b810-1edcbdd08af0 ]] \r\n",
       "choice \"noname\" as E4  [[psysml:c53ed86d-7fd9-4daa-81a5-a3aaa8a48fdd ]] \r\n",
       "rec usage \"A1\" as E5  <<(U,orange)action>> [[psysml:0f40ea9b-adac-4a33-8b1a-34d15e55e3d2 ]] {\r\n",
       "}\r\n",
       "\r\n",
       "rec usage \"A2\" as E6  <<(U,orange)action>> [[psysml:128661ee-6ef6-488f-adc9-4acba814b00a ]] {\r\n",
       "}\r\n",
       "\r\n",
       "rec usage \"A3\" as E7  <<(U,orange)action>> [[psysml:7b9f6d16-7e81-4d0a-aec9-34a5599243af ]] {\r\n",
       "}\r\n",
       "\r\n",
       "rec usage \"A3\" as E8  <<(U,orange)action>> [[psysml:7b9f6d16-7e81-4d0a-aec9-34a5599243af ]] {\r\n",
       "}\r\n",
       "\r\n",
       "}\r\n",
       "\r\n",
       "E3 ..> E5 [[psysml:7286f462-e52e-4ebc-bfea-7701f26f76d2 ]] : [x == 1]\r\n",
       "E3 ..> E6 [[psysml:e748a59f-80ec-4a6b-adc3-e898091fbade ]] : [x > 1]\r\n",
       "E3 ..> E8 [[psysml:c4aa7bb1-7be8-4d3d-94c8-0c3feb0dde03 ]] \r\n",
       "E3 ..> E4 [[psysml:9e59e0cd-e7d6-48f9-8abd-2b6da2cb7bd3 ]] \r\n",
       "E4 ..> E5 [[psysml:7b0b5bc6-fd2d-464d-92f4-1e71099b6f78 ]] : [true]\r\n",
       "E4 ..> E6 [[psysml:2cb1b039-bbb8-4621-9b87-8355478bfab0 ]] : [false]\r\n",
       "E5 ..> E6 [[psysml:b49ece63-4bda-4eac-a48b-66e19b9bdab7 ]] : [x == 0]\r\n",
       "E8 ..> E3 [[psysml:313c2626-617f-4a85-9d7c-c31cb61d9b9e ]] : [x > 0]\r\n",
       "@enduml\r\n",
       "\n",
       "PlantUML version 1.2020.13(Sat Jun 13 12:26:38 UTC 2020)\n",
       "(EPL source distribution)\n",
       "Java Runtime: OpenJDK Runtime Environment\n",
       "JVM: OpenJDK 64-Bit Server VM\n",
       "Default Encoding: UTF-8\n",
       "Language: en\n",
       "Country: null\n",
       "--></g></svg>"
      ]
     },
     "execution_count": 34,
     "metadata": {},
     "output_type": "execute_result"
    }
   ],
   "source": [
    "%viz --style=\"PLANTUML\" --view=\"Action\" \"DecisionTest\""
   ]
  },
  {
   "cell_type": "code",
   "execution_count": 35,
   "id": "c05c2b17",
   "metadata": {
    "execution": {
     "iopub.execute_input": "2021-05-27T06:09:54.270004Z",
     "iopub.status.busy": "2021-05-27T06:09:54.269250Z",
     "iopub.status.idle": "2021-05-27T06:09:54.328990Z",
     "shell.execute_reply": "2021-05-27T06:09:54.328198Z"
    }
   },
   "outputs": [
    {
     "data": {
      "image/svg+xml": [
       "<?xml version=\"1.0\" encoding=\"UTF-8\" standalone=\"no\"?><svg xmlns=\"http://www.w3.org/2000/svg\" xmlns:xlink=\"http://www.w3.org/1999/xlink\" contentScriptType=\"application/ecmascript\" contentStyleType=\"text/css\" height=\"199px\" preserveAspectRatio=\"none\" style=\"width:138px;height:199px;\" version=\"1.1\" viewBox=\"0 0 138 199\" width=\"138px\" zoomAndPan=\"magnify\"><defs><filter height=\"300%\" id=\"f1omifvhje0mpw\" width=\"300%\" x=\"-1\" y=\"-1\"><feGaussianBlur result=\"blurOut\" stdDeviation=\"2.0\"/><feColorMatrix in=\"blurOut\" result=\"blurOut2\" type=\"matrix\" values=\"0 0 0 0 0 0 0 0 0 0 0 0 0 0 0 0 0 0 .4 0\"/><feOffset dx=\"4.0\" dy=\"4.0\" in=\"blurOut2\" result=\"blurOut3\"/><feBlend in=\"SourceGraphic\" in2=\"blurOut3\" mode=\"normal\"/></filter></defs><g><!--MD5=[43c9051892ef23e1a46a86907403d788]\n",
       "class E1--><a href=\"psysml:3be07126-877a-4309-8447-1e285ef81f95\" target=\"_top\" title=\"psysml:3be07126-877a-4309-8447-1e285ef81f95\" xlink:actuate=\"onRequest\" xlink:href=\"psysml:3be07126-877a-4309-8447-1e285ef81f95\" xlink:show=\"new\" xlink:title=\"psysml:3be07126-877a-4309-8447-1e285ef81f95\" xlink:type=\"simple\"><rect fill=\"#FEFECE\" filter=\"url(#f1omifvhje0mpw)\" height=\"173.1797\" id=\"E1\" style=\"stroke: #A80036; stroke-width: 1.5;\" width=\"112\" x=\"7\" y=\"7\"/><ellipse cx=\"22\" cy=\"25.9688\" fill=\"#A52A2A\" rx=\"11\" ry=\"11\" style=\"stroke: #A80036; stroke-width: 1.0;\"/><path d=\"M21.5938,21.7813 L21.5938,29.7656 L22.25,29.7656 Q23.6875,29.7656 24.2969,28.8594 Q24.9219,27.9375 24.9219,25.7656 Q24.9219,23.5938 24.2969,22.6875 Q23.6875,21.7813 22.25,21.7813 L21.5938,21.7813 Z M19.1406,19.5781 L21.7656,19.5781 Q24.7969,19.5781 26.125,21.0313 Q27.4688,22.4688 27.4688,25.7656 Q27.4688,29.0625 26.125,30.5156 Q24.7969,31.9688 21.7656,31.9688 L19.1406,31.9688 L19.1406,19.5781 Z \"/><text fill=\"#000000\" font-family=\"sans-serif\" font-size=\"12\" font-style=\"italic\" lengthAdjust=\"spacingAndGlyphs\" textLength=\"77\" x=\"37.5\" y=\"23.1387\">«action def»</text><text fill=\"#000000\" font-family=\"sans-serif\" font-size=\"12\" lengthAdjust=\"spacingAndGlyphs\" textLength=\"80\" x=\"36\" y=\"37.1074\">DecisionTest</text><line style=\"stroke: #A80036; stroke-width: 1.5;\" x1=\"8\" x2=\"118\" y1=\"44.9375\" y2=\"44.9375\"/><text fill=\"#000000\" font-family=\"sans-serif\" font-size=\"11\" lengthAdjust=\"spacingAndGlyphs\" textLength=\"26\" x=\"13\" y=\"59.1479\">x=1;</text><text fill=\"#000000\" font-family=\"sans-serif\" font-size=\"11\" lengthAdjust=\"spacingAndGlyphs\" textLength=\"14\" x=\"13\" y=\"88.7573\">A1</text><text fill=\"#000000\" font-family=\"sans-serif\" font-size=\"11\" lengthAdjust=\"spacingAndGlyphs\" textLength=\"14\" x=\"13\" y=\"101.562\">A2</text><text fill=\"#000000\" font-family=\"sans-serif\" font-size=\"11\" lengthAdjust=\"spacingAndGlyphs\" textLength=\"14\" x=\"13\" y=\"114.3667\">A3</text><line style=\"stroke: #A80036; stroke-width: 1.0;\" x1=\"8\" x2=\"42.5\" y1=\"72.1445\" y2=\"72.1445\"/><text fill=\"#000000\" font-family=\"sans-serif\" font-size=\"11\" lengthAdjust=\"spacingAndGlyphs\" textLength=\"41\" x=\"42.5\" y=\"75.4526\">actions</text><line style=\"stroke: #A80036; stroke-width: 1.0;\" x1=\"83.5\" x2=\"118\" y1=\"72.1445\" y2=\"72.1445\"/><text fill=\"#000000\" font-family=\"sans-serif\" font-size=\"11\" lengthAdjust=\"spacingAndGlyphs\" textLength=\"32\" x=\"13\" y=\"143.9761\">test x</text><line style=\"stroke: #A80036; stroke-width: 1.0;\" x1=\"8\" x2=\"21.5\" y1=\"127.3633\" y2=\"127.3633\"/><text fill=\"#000000\" font-family=\"sans-serif\" font-size=\"11\" lengthAdjust=\"spacingAndGlyphs\" textLength=\"83\" x=\"21.5\" y=\"130.6714\">decisionNodes</text><line style=\"stroke: #A80036; stroke-width: 1.0;\" x1=\"104.5\" x2=\"118\" y1=\"127.3633\" y2=\"127.3633\"/><text fill=\"#000000\" font-family=\"sans-serif\" font-size=\"11\" lengthAdjust=\"spacingAndGlyphs\" textLength=\"8\" x=\"13\" y=\"173.5854\">S</text><line style=\"stroke: #A80036; stroke-width: 1.0;\" x1=\"8\" x2=\"32.5\" y1=\"156.9727\" y2=\"156.9727\"/><text fill=\"#000000\" font-family=\"sans-serif\" font-size=\"11\" lengthAdjust=\"spacingAndGlyphs\" textLength=\"61\" x=\"32.5\" y=\"160.2808\">transitions</text><line style=\"stroke: #A80036; stroke-width: 1.0;\" x1=\"93.5\" x2=\"118\" y1=\"156.9727\" y2=\"156.9727\"/></a><!--MD5=[0ebbb01c6fd74d2a17a98ff23e1cf36b]\n",
       "@startuml\r\n",
       " \r\n",
       "comp def \"DecisionTest\" as E1  <<(D,brown)action def>> [[psysml:3be07126-877a-4309-8447-1e285ef81f95 ]] {\r\n",
       "x=1; \r\n",
       "- - actions - -\r\n",
       "A1\r\n",
       "A2\r\n",
       "A3\r\n",
       "- - decisionNodes - -\r\n",
       "test x\r\n",
       "- - transitions - -\r\n",
       "S\r\n",
       "}\r\n",
       "@enduml\r\n",
       "\n",
       "PlantUML version 1.2020.13(Sat Jun 13 12:26:38 UTC 2020)\n",
       "(EPL source distribution)\n",
       "Java Runtime: OpenJDK Runtime Environment\n",
       "JVM: OpenJDK 64-Bit Server VM\n",
       "Default Encoding: UTF-8\n",
       "Language: en\n",
       "Country: null\n",
       "--></g></svg>"
      ]
     },
     "execution_count": 35,
     "metadata": {},
     "output_type": "execute_result"
    }
   ],
   "source": [
    "%viz --style=\"PLANTUML\" --view=\"Sequence\" \"DecisionTest\""
   ]
  },
  {
   "cell_type": "code",
   "execution_count": 36,
   "id": "1f9d8aec",
   "metadata": {
    "execution": {
     "iopub.execute_input": "2021-05-27T06:09:54.380641Z",
     "iopub.status.busy": "2021-05-27T06:09:54.379940Z",
     "iopub.status.idle": "2021-05-27T06:09:54.417589Z",
     "shell.execute_reply": "2021-05-27T06:09:54.415952Z"
    }
   },
   "outputs": [
    {
     "data": {
      "image/svg+xml": [
       "<?xml version=\"1.0\" encoding=\"UTF-8\" standalone=\"no\"?><svg xmlns=\"http://www.w3.org/2000/svg\" xmlns:xlink=\"http://www.w3.org/1999/xlink\" contentScriptType=\"application/ecmascript\" contentStyleType=\"text/css\" height=\"574px\" preserveAspectRatio=\"none\" style=\"width:367px;height:574px;\" version=\"1.1\" viewBox=\"0 0 367 574\" width=\"367px\" zoomAndPan=\"magnify\"><defs><filter height=\"300%\" id=\"f18e5xolsbiag8\" width=\"300%\" x=\"-1\" y=\"-1\"><feGaussianBlur result=\"blurOut\" stdDeviation=\"2.0\"/><feColorMatrix in=\"blurOut\" result=\"blurOut2\" type=\"matrix\" values=\"0 0 0 0 0 0 0 0 0 0 0 0 0 0 0 0 0 0 .4 0\"/><feOffset dx=\"4.0\" dy=\"4.0\" in=\"blurOut2\" result=\"blurOut3\"/><feBlend in=\"SourceGraphic\" in2=\"blurOut3\" mode=\"normal\"/></filter></defs><g><!--MD5=[fbc87193dbaf4d95561dea2c320d4a47]\n",
       "cluster E1--><a href=\"psysml:3be07126-877a-4309-8447-1e285ef81f95\" target=\"_top\" title=\"psysml:3be07126-877a-4309-8447-1e285ef81f95\" xlink:actuate=\"onRequest\" xlink:href=\"psysml:3be07126-877a-4309-8447-1e285ef81f95\" xlink:show=\"new\" xlink:title=\"psysml:3be07126-877a-4309-8447-1e285ef81f95\" xlink:type=\"simple\"><rect fill=\"#FFFFFF\" filter=\"url(#f18e5xolsbiag8)\" height=\"534.72\" id=\"E1\" style=\"stroke: #A80036; stroke-width: 1.5;\" width=\"341\" x=\"7\" y=\"7\"/><rect fill=\"#FEFECE\" height=\"37.9375\" style=\"stroke: #A80036; stroke-width: 1.5;\" width=\"341\" x=\"7\" y=\"7\"/><text fill=\"#000000\" font-family=\"sans-serif\" font-size=\"12\" font-style=\"italic\" lengthAdjust=\"spacingAndGlyphs\" textLength=\"77\" x=\"139\" y=\"23.1387\">«action def»</text><text fill=\"#000000\" font-family=\"sans-serif\" font-size=\"12\" lengthAdjust=\"spacingAndGlyphs\" textLength=\"80\" x=\"137.5\" y=\"37.1074\">DecisionTest</text></a><text fill=\"#000000\" font-family=\"sans-serif\" font-size=\"14\" lengthAdjust=\"spacingAndGlyphs\" textLength=\"48\" x=\"153\" y=\"560.7151\">$result</text><rect fill=\"#A80036\" height=\"12\" style=\"stroke: #FEFECE; stroke-width: 1.5;\" width=\"12\" x=\"171\" y=\"535.72\"/><polygon fill=\"#FEFECE\" filter=\"url(#f18e5xolsbiag8)\" points=\"167,28.5,179,40.5,167,52.5,155,40.5,167,28.5\" style=\"stroke: #A80036; stroke-width: 1.5;\"/><polygon fill=\"#FEFECE\" filter=\"url(#f18e5xolsbiag8)\" points=\"35,170.5,47,182.5,35,194.5,23,182.5,35,170.5\" style=\"stroke: #A80036; stroke-width: 1.5;\"/><g id=\"E1.E5\"><a href=\"psysml:0f40ea9b-adac-4a33-8b1a-34d15e55e3d2\" target=\"_top\" title=\"psysml:0f40ea9b-adac-4a33-8b1a-34d15e55e3d2\" xlink:actuate=\"onRequest\" xlink:href=\"psysml:0f40ea9b-adac-4a33-8b1a-34d15e55e3d2\" xlink:show=\"new\" xlink:title=\"psysml:0f40ea9b-adac-4a33-8b1a-34d15e55e3d2\" xlink:type=\"simple\"><rect fill=\"#FEFECE\" filter=\"url(#f18e5xolsbiag8)\" height=\"42.9375\" id=\"E5\" rx=\"10\" ry=\"10\" style=\"stroke: #A80036; stroke-width: 1.5;\" width=\"86\" x=\"135\" y=\"281\"/><ellipse cx=\"152.25\" cy=\"299.9688\" fill=\"#FFA500\" rx=\"11\" ry=\"11\" style=\"stroke: #A80036; stroke-width: 1.0;\"/><path d=\"M148.125,301.8906 L148.125,294.0781 L150.5781,294.0781 L150.5781,302.5156 Q150.5781,303.4375 151.0469,303.9688 Q151.5313,304.5 152.3594,304.5 Q153.2031,304.5 153.6719,303.9688 Q154.1406,303.4375 154.1406,302.5156 L154.1406,294.0781 L156.5938,294.0781 L156.5938,301.8906 Q156.5938,304.4219 155.5938,305.5625 Q154.5938,306.7031 152.3594,306.7031 Q150.1406,306.7031 149.125,305.5625 Q148.125,304.4219 148.125,301.8906 Z \"/><text fill=\"#000000\" font-family=\"sans-serif\" font-size=\"12\" font-style=\"italic\" lengthAdjust=\"spacingAndGlyphs\" textLength=\"53\" x=\"164.75\" y=\"297.1387\">«action»</text><text fill=\"#000000\" font-family=\"sans-serif\" font-size=\"12\" lengthAdjust=\"spacingAndGlyphs\" textLength=\"16\" x=\"183.25\" y=\"311.1074\">A1</text></a></g><g id=\"E1.E6\"><a href=\"psysml:128661ee-6ef6-488f-adc9-4acba814b00a\" target=\"_top\" title=\"psysml:128661ee-6ef6-488f-adc9-4acba814b00a\" xlink:actuate=\"onRequest\" xlink:href=\"psysml:128661ee-6ef6-488f-adc9-4acba814b00a\" xlink:show=\"new\" xlink:title=\"psysml:128661ee-6ef6-488f-adc9-4acba814b00a\" xlink:type=\"simple\"><rect fill=\"#FEFECE\" filter=\"url(#f18e5xolsbiag8)\" height=\"42.9375\" id=\"E6\" rx=\"10\" ry=\"10\" style=\"stroke: #A80036; stroke-width: 1.5;\" width=\"86\" x=\"135\" y=\"401\"/><ellipse cx=\"152.25\" cy=\"419.9688\" fill=\"#FFA500\" rx=\"11\" ry=\"11\" style=\"stroke: #A80036; stroke-width: 1.0;\"/><path d=\"M148.125,421.8906 L148.125,414.0781 L150.5781,414.0781 L150.5781,422.5156 Q150.5781,423.4375 151.0469,423.9688 Q151.5313,424.5 152.3594,424.5 Q153.2031,424.5 153.6719,423.9688 Q154.1406,423.4375 154.1406,422.5156 L154.1406,414.0781 L156.5938,414.0781 L156.5938,421.8906 Q156.5938,424.4219 155.5938,425.5625 Q154.5938,426.7031 152.3594,426.7031 Q150.1406,426.7031 149.125,425.5625 Q148.125,424.4219 148.125,421.8906 Z \"/><text fill=\"#000000\" font-family=\"sans-serif\" font-size=\"12\" font-style=\"italic\" lengthAdjust=\"spacingAndGlyphs\" textLength=\"53\" x=\"164.75\" y=\"417.1387\">«action»</text><text fill=\"#000000\" font-family=\"sans-serif\" font-size=\"12\" lengthAdjust=\"spacingAndGlyphs\" textLength=\"16\" x=\"183.25\" y=\"431.1074\">A2</text></a></g><g id=\"E1.E7\"><a href=\"psysml:7b9f6d16-7e81-4d0a-aec9-34a5599243af\" target=\"_top\" title=\"psysml:7b9f6d16-7e81-4d0a-aec9-34a5599243af\" xlink:actuate=\"onRequest\" xlink:href=\"psysml:7b9f6d16-7e81-4d0a-aec9-34a5599243af\" xlink:show=\"new\" xlink:title=\"psysml:7b9f6d16-7e81-4d0a-aec9-34a5599243af\" xlink:type=\"simple\"><rect fill=\"#FEFECE\" filter=\"url(#f18e5xolsbiag8)\" height=\"42.9375\" id=\"E7\" rx=\"10\" ry=\"10\" style=\"stroke: #A80036; stroke-width: 1.5;\" width=\"86\" x=\"30\" y=\"88\"/><ellipse cx=\"47.25\" cy=\"106.9688\" fill=\"#FFA500\" rx=\"11\" ry=\"11\" style=\"stroke: #A80036; stroke-width: 1.0;\"/><path d=\"M43.125,108.8906 L43.125,101.0781 L45.5781,101.0781 L45.5781,109.5156 Q45.5781,110.4375 46.0469,110.9688 Q46.5313,111.5 47.3594,111.5 Q48.2031,111.5 48.6719,110.9688 Q49.1406,110.4375 49.1406,109.5156 L49.1406,101.0781 L51.5938,101.0781 L51.5938,108.8906 Q51.5938,111.4219 50.5938,112.5625 Q49.5938,113.7031 47.3594,113.7031 Q45.1406,113.7031 44.125,112.5625 Q43.125,111.4219 43.125,108.8906 Z \"/><text fill=\"#000000\" font-family=\"sans-serif\" font-size=\"12\" font-style=\"italic\" lengthAdjust=\"spacingAndGlyphs\" textLength=\"53\" x=\"59.75\" y=\"104.1387\">«action»</text><text fill=\"#000000\" font-family=\"sans-serif\" font-size=\"12\" lengthAdjust=\"spacingAndGlyphs\" textLength=\"16\" x=\"78.25\" y=\"118.1074\">A3</text></a></g><g id=\"E1.E8\"><a href=\"psysml:7b9f6d16-7e81-4d0a-aec9-34a5599243af\" target=\"_top\" title=\"psysml:7b9f6d16-7e81-4d0a-aec9-34a5599243af\" xlink:actuate=\"onRequest\" xlink:href=\"psysml:7b9f6d16-7e81-4d0a-aec9-34a5599243af\" xlink:show=\"new\" xlink:title=\"psysml:7b9f6d16-7e81-4d0a-aec9-34a5599243af\" xlink:type=\"simple\"><rect fill=\"#FEFECE\" filter=\"url(#f18e5xolsbiag8)\" height=\"42.9375\" id=\"E8\" rx=\"10\" ry=\"10\" style=\"stroke: #A80036; stroke-width: 1.5;\" width=\"86\" x=\"246\" y=\"161\"/><ellipse cx=\"263.25\" cy=\"179.9688\" fill=\"#FFA500\" rx=\"11\" ry=\"11\" style=\"stroke: #A80036; stroke-width: 1.0;\"/><path d=\"M259.125,181.8906 L259.125,174.0781 L261.5781,174.0781 L261.5781,182.5156 Q261.5781,183.4375 262.0469,183.9688 Q262.5313,184.5 263.3594,184.5 Q264.2031,184.5 264.6719,183.9688 Q265.1406,183.4375 265.1406,182.5156 L265.1406,174.0781 L267.5938,174.0781 L267.5938,181.8906 Q267.5938,184.4219 266.5938,185.5625 Q265.5938,186.7031 263.3594,186.7031 Q261.1406,186.7031 260.125,185.5625 Q259.125,184.4219 259.125,181.8906 Z \"/><text fill=\"#000000\" font-family=\"sans-serif\" font-size=\"12\" font-style=\"italic\" lengthAdjust=\"spacingAndGlyphs\" textLength=\"53\" x=\"275.75\" y=\"177.1387\">«action»</text><text fill=\"#000000\" font-family=\"sans-serif\" font-size=\"12\" lengthAdjust=\"spacingAndGlyphs\" textLength=\"16\" x=\"294.25\" y=\"191.1074\">A3</text></a></g><!--MD5=[0188b64bb0ae78505a997a81836e11e9]\n",
       "link E3 to E5--><a href=\"psysml:7286f462-e52e-4ebc-bfea-7701f26f76d2\" target=\"_top\" title=\"psysml:7286f462-e52e-4ebc-bfea-7701f26f76d2\" xlink:actuate=\"onRequest\" xlink:href=\"psysml:7286f462-e52e-4ebc-bfea-7701f26f76d2\" xlink:show=\"new\" xlink:title=\"psysml:7286f462-e52e-4ebc-bfea-7701f26f76d2\" xlink:type=\"simple\"><path d=\"M164.07,49.64 C155.89,73.45 134.01,145 144,204 C148.28,229.26 158.37,256.69 166.46,276.01 \" fill=\"none\" id=\"E3-&gt;E5\" style=\"stroke: #A80036; stroke-width: 1.0;\"/><polygon fill=\"#A80036\" points=\"168.47,280.74,168.6272,270.8924,166.5125,276.1391,161.2658,274.0244,168.47,280.74\" style=\"stroke: #A80036; stroke-width: 1.0;\"/><text fill=\"#000000\" font-family=\"sans-serif\" font-size=\"13\" lengthAdjust=\"spacingAndGlyphs\" textLength=\"55\" x=\"145\" y=\"187.0669\">[x == 1]</text></a><!--MD5=[ec9844e0c75763426927cad3229d1081]\n",
       "link E3 to E6--><a href=\"psysml:e748a59f-80ec-4a6b-adc3-e898091fbade\" target=\"_top\" title=\"psysml:e748a59f-80ec-4a6b-adc3-e898091fbade\" xlink:actuate=\"onRequest\" xlink:href=\"psysml:e748a59f-80ec-4a6b-adc3-e898091fbade\" xlink:show=\"new\" xlink:title=\"psysml:e748a59f-80ec-4a6b-adc3-e898091fbade\" xlink:type=\"simple\"><path d=\"M169.76,49.87 C176.16,69.33 192.4,119.09 205,161 C220.96,214.09 229.87,226.32 239,281 C244.35,313.05 242.11,321.52 243,354 C243.21,361.55 246.32,364.21 243,371 C237.83,381.56 229.28,390.54 220.04,397.88 \" fill=\"none\" id=\"E3-&gt;E6\" style=\"stroke: #A80036; stroke-width: 1.0;\"/><polygon fill=\"#A80036\" points=\"216.05,400.92,225.6321,398.6432,220.0258,397.8881,220.781,392.2818,216.05,400.92\" style=\"stroke: #A80036; stroke-width: 1.0;\"/><text fill=\"#000000\" font-family=\"sans-serif\" font-size=\"13\" lengthAdjust=\"spacingAndGlyphs\" textLength=\"44\" x=\"234\" y=\"247.0669\">[x &gt; 1]</text></a><!--MD5=[ca5a752d6098d8a44b3f88316e7452d1]\n",
       "link E3 to E8--><a href=\"psysml:c4aa7bb1-7be8-4d3d-94c8-0c3feb0dde03\" target=\"_top\" title=\"psysml:c4aa7bb1-7be8-4d3d-94c8-0c3feb0dde03\" xlink:actuate=\"onRequest\" xlink:href=\"psysml:c4aa7bb1-7be8-4d3d-94c8-0c3feb0dde03\" xlink:show=\"new\" xlink:title=\"psysml:c4aa7bb1-7be8-4d3d-94c8-0c3feb0dde03\" xlink:type=\"simple\"><path d=\"M173.65,46.41 C183.6,54.12 202.22,70.04 212,88 C221.39,105.23 211.3,114.55 222,131 C228.74,141.36 238.38,150.41 248.25,157.86 \" fill=\"none\" id=\"E3-&gt;E8\" style=\"stroke: #A80036; stroke-width: 1.0;\"/><polygon fill=\"#A80036\" points=\"252.48,160.96,247.5918,152.4099,248.4493,158.0013,242.8579,158.8589,252.48,160.96\" style=\"stroke: #A80036; stroke-width: 1.0;\"/></a><!--MD5=[95fa686b5a16158bcdbcaeead89f639b]\n",
       "link E8 to E3--><a href=\"psysml:313c2626-617f-4a85-9d7c-c31cb61d9b9e\" target=\"_top\" title=\"psysml:313c2626-617f-4a85-9d7c-c31cb61d9b9e\" xlink:actuate=\"onRequest\" xlink:href=\"psysml:313c2626-617f-4a85-9d7c-c31cb61d9b9e\" xlink:show=\"new\" xlink:title=\"psysml:313c2626-617f-4a85-9d7c-c31cb61d9b9e\" xlink:type=\"simple\"><path d=\"M273.44,160.88 C266.56,151.73 258.36,140.84 251,131 C236.73,111.93 235.07,105.58 219,88 C205.73,73.48 188.36,58.66 177.44,49.77 \" fill=\"none\" id=\"E8-&gt;E3\" style=\"stroke: #A80036; stroke-width: 1.0;\"/><polygon fill=\"#A80036\" points=\"173.46,46.56,177.9421,55.3299,177.3476,49.7043,182.9731,49.1098,173.46,46.56\" style=\"stroke: #A80036; stroke-width: 1.0;\"/><text fill=\"#000000\" font-family=\"sans-serif\" font-size=\"13\" lengthAdjust=\"spacingAndGlyphs\" textLength=\"44\" x=\"252\" y=\"114.0669\">[x &gt; 0]</text></a><!--MD5=[af87c684e3b0d8be13c1a698a818ef1e]\n",
       "link E3 to E4--><a href=\"psysml:9e59e0cd-e7d6-48f9-8abd-2b6da2cb7bd3\" target=\"_top\" title=\"psysml:9e59e0cd-e7d6-48f9-8abd-2b6da2cb7bd3\" xlink:actuate=\"onRequest\" xlink:href=\"psysml:9e59e0cd-e7d6-48f9-8abd-2b6da2cb7bd3\" xlink:show=\"new\" xlink:title=\"psysml:9e59e0cd-e7d6-48f9-8abd-2b6da2cb7bd3\" xlink:type=\"simple\"><path d=\"M155.55,41.29 C128.17,41.5 58.94,46.32 29,88 C11.65,112.15 22.14,149.49 29.56,168.87 \" fill=\"none\" id=\"E3-&gt;E4\" style=\"stroke: #A80036; stroke-width: 1.0;\"/><polygon fill=\"#A80036\" points=\"31.54,173.83,31.9114,163.9881,29.683,169.1876,24.4836,166.9593,31.54,173.83\" style=\"stroke: #A80036; stroke-width: 1.0;\"/></a><!--MD5=[1b7591eae5389033d8d09a9d6721a717]\n",
       "link E4 to E5--><a href=\"psysml:7b0b5bc6-fd2d-464d-92f4-1e71099b6f78\" target=\"_top\" title=\"psysml:7b0b5bc6-fd2d-464d-92f4-1e71099b6f78\" xlink:actuate=\"onRequest\" xlink:href=\"psysml:7b0b5bc6-fd2d-464d-92f4-1e71099b6f78\" xlink:show=\"new\" xlink:title=\"psysml:7b0b5bc6-fd2d-464d-92f4-1e71099b6f78\" xlink:type=\"simple\"><path d=\"M38.96,191.04 C46.32,204.49 63.28,232.9 84,251 C97.53,262.82 114.3,272.93 129.91,280.93 \" fill=\"none\" id=\"E4-&gt;E5\" style=\"stroke: #A80036; stroke-width: 1.0;\"/><polygon fill=\"#A80036\" points=\"134.71,283.34,128.4587,275.7294,130.2407,281.0982,124.8719,282.8802,134.71,283.34\" style=\"stroke: #A80036; stroke-width: 1.0;\"/><text fill=\"#000000\" font-family=\"sans-serif\" font-size=\"13\" lengthAdjust=\"spacingAndGlyphs\" textLength=\"36\" x=\"85\" y=\"247.0669\">[true]</text></a><!--MD5=[79568f1e445c3877b6a54524624ccc7d]\n",
       "link E4 to E6--><a href=\"psysml:2cb1b039-bbb8-4621-9b87-8355478bfab0\" target=\"_top\" title=\"psysml:2cb1b039-bbb8-4621-9b87-8355478bfab0\" xlink:actuate=\"onRequest\" xlink:href=\"psysml:2cb1b039-bbb8-4621-9b87-8355478bfab0\" xlink:show=\"new\" xlink:title=\"psysml:2cb1b039-bbb8-4621-9b87-8355478bfab0\" xlink:type=\"simple\"><path d=\"M36.1,193.4 C39.13,217.4 49.22,279.92 76,324 C93.84,353.37 122.75,379.82 145.25,397.74 \" fill=\"none\" id=\"E4-&gt;E6\" style=\"stroke: #A80036; stroke-width: 1.0;\"/><polygon fill=\"#A80036\" points=\"149.37,400.99,144.7826,392.2748,145.4449,397.8927,139.8269,398.555,149.37,400.99\" style=\"stroke: #A80036; stroke-width: 1.0;\"/><text fill=\"#000000\" font-family=\"sans-serif\" font-size=\"13\" lengthAdjust=\"spacingAndGlyphs\" textLength=\"40\" x=\"77\" y=\"307.0669\">[false]</text></a><!--MD5=[9120cf2e5df3bff93db8f754bbbc09b4]\n",
       "link E5 to E6--><a href=\"psysml:b49ece63-4bda-4eac-a48b-66e19b9bdab7\" target=\"_top\" title=\"psysml:b49ece63-4bda-4eac-a48b-66e19b9bdab7\" xlink:actuate=\"onRequest\" xlink:href=\"psysml:b49ece63-4bda-4eac-a48b-66e19b9bdab7\" xlink:show=\"new\" xlink:title=\"psysml:b49ece63-4bda-4eac-a48b-66e19b9bdab7\" xlink:type=\"simple\"><path d=\"M178,324.05 C178,343.9 178,374.02 178,395.52 \" fill=\"none\" id=\"E5-&gt;E6\" style=\"stroke: #A80036; stroke-width: 1.0;\"/><polygon fill=\"#A80036\" points=\"178,400.79,182,391.79,178,395.79,174,391.79,178,400.79\" style=\"stroke: #A80036; stroke-width: 1.0;\"/><text fill=\"#000000\" font-family=\"sans-serif\" font-size=\"13\" lengthAdjust=\"spacingAndGlyphs\" textLength=\"55\" x=\"179\" y=\"367.0669\">[x == 0]</text></a><!--MD5=[6f094def933d96970b2c3795eb139f09]\n",
       "@startuml\r\n",
       " \r\n",
       "rec def \"DecisionTest\" as E1  <<(D,brown)action def>> [[psysml:3be07126-877a-4309-8447-1e285ef81f95 ]] {\r\n",
       "portout \"$result\" as E2  [[psysml:9348992a-eef4-478a-99a3-8679640e907b ]] \r\n",
       "choice \"test x\" as E3  [[psysml:68020b6f-ffe7-4b5f-b810-1edcbdd08af0 ]] \r\n",
       "choice \"noname\" as E4  [[psysml:c53ed86d-7fd9-4daa-81a5-a3aaa8a48fdd ]] \r\n",
       "rec usage \"A1\" as E5  <<(U,orange)action>> [[psysml:0f40ea9b-adac-4a33-8b1a-34d15e55e3d2 ]] {\r\n",
       "}\r\n",
       "\r\n",
       "rec usage \"A2\" as E6  <<(U,orange)action>> [[psysml:128661ee-6ef6-488f-adc9-4acba814b00a ]] {\r\n",
       "}\r\n",
       "\r\n",
       "rec usage \"A3\" as E7  <<(U,orange)action>> [[psysml:7b9f6d16-7e81-4d0a-aec9-34a5599243af ]] {\r\n",
       "}\r\n",
       "\r\n",
       "rec usage \"A3\" as E8  <<(U,orange)action>> [[psysml:7b9f6d16-7e81-4d0a-aec9-34a5599243af ]] {\r\n",
       "}\r\n",
       "\r\n",
       "}\r\n",
       "\r\n",
       "E3  - -> E5 [[psysml:7286f462-e52e-4ebc-bfea-7701f26f76d2 ]] : [x == 1]\r\n",
       "E3  - -> E6 [[psysml:e748a59f-80ec-4a6b-adc3-e898091fbade ]] : [x > 1]\r\n",
       "E3  - -> E8 [[psysml:c4aa7bb1-7be8-4d3d-94c8-0c3feb0dde03 ]] \r\n",
       "E3 - -> E4 [[psysml:9e59e0cd-e7d6-48f9-8abd-2b6da2cb7bd3 ]] \r\n",
       "E4  - -> E5 [[psysml:7b0b5bc6-fd2d-464d-92f4-1e71099b6f78 ]] : [true]\r\n",
       "E4  - -> E6 [[psysml:2cb1b039-bbb8-4621-9b87-8355478bfab0 ]] : [false]\r\n",
       "E5  - -> E6 [[psysml:b49ece63-4bda-4eac-a48b-66e19b9bdab7 ]] : [x == 0]\r\n",
       "E8  - -> E3 [[psysml:313c2626-617f-4a85-9d7c-c31cb61d9b9e ]] : [x > 0]\r\n",
       "@enduml\r\n",
       "\n",
       "PlantUML version 1.2020.13(Sat Jun 13 12:26:38 UTC 2020)\n",
       "(EPL source distribution)\n",
       "Java Runtime: OpenJDK Runtime Environment\n",
       "JVM: OpenJDK 64-Bit Server VM\n",
       "Default Encoding: UTF-8\n",
       "Language: en\n",
       "Country: null\n",
       "--></g></svg>"
      ]
     },
     "execution_count": 36,
     "metadata": {},
     "output_type": "execute_result"
    }
   ],
   "source": [
    "%viz --style=\"PLANTUML\" --view=\"MIXED\" \"DecisionTest\""
   ]
  },
  {
   "cell_type": "code",
   "execution_count": 37,
   "id": "c2c4998e",
   "metadata": {
    "execution": {
     "iopub.execute_input": "2021-05-27T06:09:54.470783Z",
     "iopub.status.busy": "2021-05-27T06:09:54.470269Z",
     "iopub.status.idle": "2021-05-27T06:09:54.508269Z",
     "shell.execute_reply": "2021-05-27T06:09:54.507043Z"
    }
   },
   "outputs": [
    {
     "data": {
      "image/svg+xml": [
       "<?xml version=\"1.0\" encoding=\"UTF-8\" standalone=\"no\"?><svg xmlns=\"http://www.w3.org/2000/svg\" xmlns:xlink=\"http://www.w3.org/1999/xlink\" contentScriptType=\"application/ecmascript\" contentStyleType=\"text/css\" height=\"574px\" preserveAspectRatio=\"none\" style=\"width:333px;height:574px;\" version=\"1.1\" viewBox=\"0 0 333 574\" width=\"333px\" zoomAndPan=\"magnify\"><defs/><g><!--MD5=[fbc87193dbaf4d95561dea2c320d4a47]\n",
       "cluster E1--><a href=\"psysml:3be07126-877a-4309-8447-1e285ef81f95\" target=\"_top\" title=\"psysml:3be07126-877a-4309-8447-1e285ef81f95\" xlink:actuate=\"onRequest\" xlink:href=\"psysml:3be07126-877a-4309-8447-1e285ef81f95\" xlink:show=\"new\" xlink:title=\"psysml:3be07126-877a-4309-8447-1e285ef81f95\" xlink:type=\"simple\"><rect fill=\"#FFFFFF\" height=\"534.72\" id=\"E1\" style=\"stroke: #383838; stroke-width: 1.5;\" width=\"315\" x=\"7\" y=\"7\"/><rect fill=\"#F8F8F8\" height=\"37.9375\" style=\"stroke: #383838; stroke-width: 1.5;\" width=\"315\" x=\"7\" y=\"7\"/><text fill=\"#000000\" font-family=\"sans-serif\" font-size=\"12\" font-style=\"italic\" lengthAdjust=\"spacingAndGlyphs\" textLength=\"77\" x=\"126\" y=\"23.1387\">«action def»</text><text fill=\"#000000\" font-family=\"sans-serif\" font-size=\"12\" lengthAdjust=\"spacingAndGlyphs\" textLength=\"80\" x=\"124.5\" y=\"37.1074\">DecisionTest</text></a><text fill=\"#000000\" font-family=\"sans-serif\" font-size=\"14\" lengthAdjust=\"spacingAndGlyphs\" textLength=\"48\" x=\"140\" y=\"560.7151\">$result</text><rect fill=\"#383838\" height=\"12\" style=\"stroke: #F8F8F8; stroke-width: 1.5;\" width=\"12\" x=\"158\" y=\"535.72\"/><polygon fill=\"#F8F8F8\" points=\"141,28.5,153,40.5,141,52.5,129,40.5,141,28.5\" style=\"stroke: #383838; stroke-width: 1.5;\"/><polygon fill=\"#F8F8F8\" points=\"35,170.5,47,182.5,35,194.5,23,182.5,35,170.5\" style=\"stroke: #383838; stroke-width: 1.5;\"/><g id=\"E1.E5\"><a href=\"psysml:0f40ea9b-adac-4a33-8b1a-34d15e55e3d2\" target=\"_top\" title=\"psysml:0f40ea9b-adac-4a33-8b1a-34d15e55e3d2\" xlink:actuate=\"onRequest\" xlink:href=\"psysml:0f40ea9b-adac-4a33-8b1a-34d15e55e3d2\" xlink:show=\"new\" xlink:title=\"psysml:0f40ea9b-adac-4a33-8b1a-34d15e55e3d2\" xlink:type=\"simple\"><rect fill=\"#FFFFFF\" height=\"42.9375\" id=\"E5\" rx=\"10\" ry=\"10\" style=\"stroke: #383838; stroke-width: 1.5;\" width=\"60\" x=\"135\" y=\"281\"/><rect fill=\"#F8F8F8\" height=\"37.9375\" rx=\"10\" ry=\"10\" style=\"stroke: #F8F8F8; stroke-width: 1.5;\" width=\"60\" x=\"135\" y=\"281\"/><rect fill=\"#F8F8F8\" height=\"10\" style=\"stroke: #F8F8F8; stroke-width: 1.5;\" width=\"60\" x=\"135\" y=\"308.9375\"/><rect fill=\"none\" height=\"42.9375\" id=\"E5\" rx=\"10\" ry=\"10\" style=\"stroke: #383838; stroke-width: 1.5;\" width=\"60\" x=\"135\" y=\"281\"/><text fill=\"#000000\" font-family=\"sans-serif\" font-size=\"12\" font-style=\"italic\" lengthAdjust=\"spacingAndGlyphs\" textLength=\"53\" x=\"138.5\" y=\"297.1387\">«action»</text><text fill=\"#000000\" font-family=\"sans-serif\" font-size=\"12\" lengthAdjust=\"spacingAndGlyphs\" textLength=\"16\" x=\"157\" y=\"311.1074\">A1</text></a></g><g id=\"E1.E6\"><a href=\"psysml:128661ee-6ef6-488f-adc9-4acba814b00a\" target=\"_top\" title=\"psysml:128661ee-6ef6-488f-adc9-4acba814b00a\" xlink:actuate=\"onRequest\" xlink:href=\"psysml:128661ee-6ef6-488f-adc9-4acba814b00a\" xlink:show=\"new\" xlink:title=\"psysml:128661ee-6ef6-488f-adc9-4acba814b00a\" xlink:type=\"simple\"><rect fill=\"#FFFFFF\" height=\"42.9375\" id=\"E6\" rx=\"10\" ry=\"10\" style=\"stroke: #383838; stroke-width: 1.5;\" width=\"60\" x=\"135\" y=\"401\"/><rect fill=\"#F8F8F8\" height=\"37.9375\" rx=\"10\" ry=\"10\" style=\"stroke: #F8F8F8; stroke-width: 1.5;\" width=\"60\" x=\"135\" y=\"401\"/><rect fill=\"#F8F8F8\" height=\"10\" style=\"stroke: #F8F8F8; stroke-width: 1.5;\" width=\"60\" x=\"135\" y=\"428.9375\"/><rect fill=\"none\" height=\"42.9375\" id=\"E6\" rx=\"10\" ry=\"10\" style=\"stroke: #383838; stroke-width: 1.5;\" width=\"60\" x=\"135\" y=\"401\"/><text fill=\"#000000\" font-family=\"sans-serif\" font-size=\"12\" font-style=\"italic\" lengthAdjust=\"spacingAndGlyphs\" textLength=\"53\" x=\"138.5\" y=\"417.1387\">«action»</text><text fill=\"#000000\" font-family=\"sans-serif\" font-size=\"12\" lengthAdjust=\"spacingAndGlyphs\" textLength=\"16\" x=\"157\" y=\"431.1074\">A2</text></a></g><g id=\"E1.E7\"><a href=\"psysml:7b9f6d16-7e81-4d0a-aec9-34a5599243af\" target=\"_top\" title=\"psysml:7b9f6d16-7e81-4d0a-aec9-34a5599243af\" xlink:actuate=\"onRequest\" xlink:href=\"psysml:7b9f6d16-7e81-4d0a-aec9-34a5599243af\" xlink:show=\"new\" xlink:title=\"psysml:7b9f6d16-7e81-4d0a-aec9-34a5599243af\" xlink:type=\"simple\"><rect fill=\"#FFFFFF\" height=\"42.9375\" id=\"E7\" rx=\"10\" ry=\"10\" style=\"stroke: #383838; stroke-width: 1.5;\" width=\"60\" x=\"46\" y=\"88\"/><rect fill=\"#F8F8F8\" height=\"37.9375\" rx=\"10\" ry=\"10\" style=\"stroke: #F8F8F8; stroke-width: 1.5;\" width=\"60\" x=\"46\" y=\"88\"/><rect fill=\"#F8F8F8\" height=\"10\" style=\"stroke: #F8F8F8; stroke-width: 1.5;\" width=\"60\" x=\"46\" y=\"115.9375\"/><rect fill=\"none\" height=\"42.9375\" id=\"E7\" rx=\"10\" ry=\"10\" style=\"stroke: #383838; stroke-width: 1.5;\" width=\"60\" x=\"46\" y=\"88\"/><text fill=\"#000000\" font-family=\"sans-serif\" font-size=\"12\" font-style=\"italic\" lengthAdjust=\"spacingAndGlyphs\" textLength=\"53\" x=\"49.5\" y=\"104.1387\">«action»</text><text fill=\"#000000\" font-family=\"sans-serif\" font-size=\"12\" lengthAdjust=\"spacingAndGlyphs\" textLength=\"16\" x=\"68\" y=\"118.1074\">A3</text></a></g><g id=\"E1.E8\"><a href=\"psysml:7b9f6d16-7e81-4d0a-aec9-34a5599243af\" target=\"_top\" title=\"psysml:7b9f6d16-7e81-4d0a-aec9-34a5599243af\" xlink:actuate=\"onRequest\" xlink:href=\"psysml:7b9f6d16-7e81-4d0a-aec9-34a5599243af\" xlink:show=\"new\" xlink:title=\"psysml:7b9f6d16-7e81-4d0a-aec9-34a5599243af\" xlink:type=\"simple\"><rect fill=\"#FFFFFF\" height=\"42.9375\" id=\"E8\" rx=\"10\" ry=\"10\" style=\"stroke: #383838; stroke-width: 1.5;\" width=\"60\" x=\"246\" y=\"161\"/><rect fill=\"#F8F8F8\" height=\"37.9375\" rx=\"10\" ry=\"10\" style=\"stroke: #F8F8F8; stroke-width: 1.5;\" width=\"60\" x=\"246\" y=\"161\"/><rect fill=\"#F8F8F8\" height=\"10\" style=\"stroke: #F8F8F8; stroke-width: 1.5;\" width=\"60\" x=\"246\" y=\"188.9375\"/><rect fill=\"none\" height=\"42.9375\" id=\"E8\" rx=\"10\" ry=\"10\" style=\"stroke: #383838; stroke-width: 1.5;\" width=\"60\" x=\"246\" y=\"161\"/><text fill=\"#000000\" font-family=\"sans-serif\" font-size=\"12\" font-style=\"italic\" lengthAdjust=\"spacingAndGlyphs\" textLength=\"53\" x=\"249.5\" y=\"177.1387\">«action»</text><text fill=\"#000000\" font-family=\"sans-serif\" font-size=\"12\" lengthAdjust=\"spacingAndGlyphs\" textLength=\"16\" x=\"268\" y=\"191.1074\">A3</text></a></g><!--MD5=[0188b64bb0ae78505a997a81836e11e9]\n",
       "link E3 to E5--><a href=\"psysml:7286f462-e52e-4ebc-bfea-7701f26f76d2\" target=\"_top\" title=\"psysml:7286f462-e52e-4ebc-bfea-7701f26f76d2\" xlink:actuate=\"onRequest\" xlink:href=\"psysml:7286f462-e52e-4ebc-bfea-7701f26f76d2\" xlink:show=\"new\" xlink:title=\"psysml:7286f462-e52e-4ebc-bfea-7701f26f76d2\" xlink:type=\"simple\"><path d=\"M140.49,52.19 C139.39,78.26 137.41,147.1 144,204 C146.84,228.53 153.03,255.98 157.96,275.49 \" fill=\"none\" id=\"E3-&gt;E5\" style=\"stroke: #383838; stroke-width: 1.0;\"/><polygon fill=\"#383838\" points=\"159.31,280.77,160.9741,271.0627,158.0805,275.9235,153.2197,273.0299,159.31,280.77\" style=\"stroke: #383838; stroke-width: 1.0;\"/><text fill=\"#000000\" font-family=\"sans-serif\" font-size=\"13\" lengthAdjust=\"spacingAndGlyphs\" textLength=\"55\" x=\"145\" y=\"187.0669\">[x == 1]</text></a><!--MD5=[ec9844e0c75763426927cad3229d1081]\n",
       "link E3 to E6--><a href=\"psysml:e748a59f-80ec-4a6b-adc3-e898091fbade\" target=\"_top\" title=\"psysml:e748a59f-80ec-4a6b-adc3-e898091fbade\" xlink:actuate=\"onRequest\" xlink:href=\"psysml:e748a59f-80ec-4a6b-adc3-e898091fbade\" xlink:show=\"new\" xlink:title=\"psysml:e748a59f-80ec-4a6b-adc3-e898091fbade\" xlink:type=\"simple\"><path d=\"M145.73,48.09 C157.96,65.53 190.67,114.68 205,161 C230.5,243.43 221.33,267.84 226,354 C226.41,361.54 229.22,364.16 226,371 C220.27,383.19 209.98,393.45 199.48,401.47 \" fill=\"none\" id=\"E3-&gt;E6\" style=\"stroke: #383838; stroke-width: 1.0;\"/><polygon fill=\"#383838\" points=\"195.29,404.54,204.9073,402.4168,199.3138,401.5721,200.1586,395.9786,195.29,404.54\" style=\"stroke: #383838; stroke-width: 1.0;\"/><text fill=\"#000000\" font-family=\"sans-serif\" font-size=\"13\" lengthAdjust=\"spacingAndGlyphs\" textLength=\"44\" x=\"223\" y=\"247.0669\">[x &gt; 1]</text></a><!--MD5=[ca5a752d6098d8a44b3f88316e7452d1]\n",
       "link E3 to E8--><a href=\"psysml:c4aa7bb1-7be8-4d3d-94c8-0c3feb0dde03\" target=\"_top\" title=\"psysml:c4aa7bb1-7be8-4d3d-94c8-0c3feb0dde03\" xlink:actuate=\"onRequest\" xlink:href=\"psysml:c4aa7bb1-7be8-4d3d-94c8-0c3feb0dde03\" xlink:show=\"new\" xlink:title=\"psysml:c4aa7bb1-7be8-4d3d-94c8-0c3feb0dde03\" xlink:type=\"simple\"><path d=\"M147.97,45.53 C163.29,54.53 199.17,76.37 207,88 C217.96,104.27 206.82,114.23 217,131 C223.37,141.49 232.66,150.9 242,158.68 \" fill=\"none\" id=\"E3-&gt;E8\" style=\"stroke: #383838; stroke-width: 1.0;\"/><polygon fill=\"#383838\" points=\"246,161.91,241.5179,153.1401,242.1124,158.7657,236.4869,159.3602,246,161.91\" style=\"stroke: #383838; stroke-width: 1.0;\"/></a><!--MD5=[95fa686b5a16158bcdbcaeead89f639b]\n",
       "link E8 to E3--><a href=\"psysml:313c2626-617f-4a85-9d7c-c31cb61d9b9e\" target=\"_top\" title=\"psysml:313c2626-617f-4a85-9d7c-c31cb61d9b9e\" xlink:actuate=\"onRequest\" xlink:href=\"psysml:313c2626-617f-4a85-9d7c-c31cb61d9b9e\" xlink:show=\"new\" xlink:title=\"psysml:313c2626-617f-4a85-9d7c-c31cb61d9b9e\" xlink:type=\"simple\"><path d=\"M263.71,160.86 C249.28,137.02 225.81,99.6 214,88 C204.2,78.38 171.17,58.79 153.08,48.37 \" fill=\"none\" id=\"E8-&gt;E3\" style=\"stroke: #383838; stroke-width: 1.0;\"/><polygon fill=\"#383838\" points=\"148.41,45.69,154.234,53.6323,152.7495,48.1738,158.208,46.6892,148.41,45.69\" style=\"stroke: #383838; stroke-width: 1.0;\"/><text fill=\"#000000\" font-family=\"sans-serif\" font-size=\"13\" lengthAdjust=\"spacingAndGlyphs\" textLength=\"44\" x=\"244\" y=\"114.0669\">[x &gt; 0]</text></a><!--MD5=[af87c684e3b0d8be13c1a698a818ef1e]\n",
       "link E3 to E4--><a href=\"psysml:9e59e0cd-e7d6-48f9-8abd-2b6da2cb7bd3\" target=\"_top\" title=\"psysml:9e59e0cd-e7d6-48f9-8abd-2b6da2cb7bd3\" xlink:actuate=\"onRequest\" xlink:href=\"psysml:9e59e0cd-e7d6-48f9-8abd-2b6da2cb7bd3\" xlink:show=\"new\" xlink:title=\"psysml:9e59e0cd-e7d6-48f9-8abd-2b6da2cb7bd3\" xlink:type=\"simple\"><path d=\"M131.03,42.86 C110.41,46.26 63.22,57.19 42,88 C25.54,111.89 28.61,147.84 31.99,167.47 \" fill=\"none\" id=\"E3-&gt;E4\" style=\"stroke: #383838; stroke-width: 1.0;\"/><polygon fill=\"#383838\" points=\"32.94,172.56,35.2263,162.9802,32.0255,167.6443,27.3613,164.4435,32.94,172.56\" style=\"stroke: #383838; stroke-width: 1.0;\"/></a><!--MD5=[1b7591eae5389033d8d09a9d6721a717]\n",
       "link E4 to E5--><a href=\"psysml:7b0b5bc6-fd2d-464d-92f4-1e71099b6f78\" target=\"_top\" title=\"psysml:7b0b5bc6-fd2d-464d-92f4-1e71099b6f78\" xlink:actuate=\"onRequest\" xlink:href=\"psysml:7b0b5bc6-fd2d-464d-92f4-1e71099b6f78\" xlink:show=\"new\" xlink:title=\"psysml:7b0b5bc6-fd2d-464d-92f4-1e71099b6f78\" xlink:type=\"simple\"><path d=\"M39.08,190.91 C46.63,204.15 63.87,232.24 84,251 C97.73,263.8 115.17,275.16 130.35,283.85 \" fill=\"none\" id=\"E4-&gt;E5\" style=\"stroke: #383838; stroke-width: 1.0;\"/><polygon fill=\"#383838\" points=\"134.98,286.46,129.0858,278.5696,130.6187,284.0148,125.1735,285.5477,134.98,286.46\" style=\"stroke: #383838; stroke-width: 1.0;\"/><text fill=\"#000000\" font-family=\"sans-serif\" font-size=\"13\" lengthAdjust=\"spacingAndGlyphs\" textLength=\"36\" x=\"85\" y=\"247.0669\">[true]</text></a><!--MD5=[79568f1e445c3877b6a54524624ccc7d]\n",
       "link E4 to E6--><a href=\"psysml:2cb1b039-bbb8-4621-9b87-8355478bfab0\" target=\"_top\" title=\"psysml:2cb1b039-bbb8-4621-9b87-8355478bfab0\" xlink:actuate=\"onRequest\" xlink:href=\"psysml:2cb1b039-bbb8-4621-9b87-8355478bfab0\" xlink:show=\"new\" xlink:title=\"psysml:2cb1b039-bbb8-4621-9b87-8355478bfab0\" xlink:type=\"simple\"><path d=\"M36.3,193.29 C39.76,217.03 50.73,279.03 76,324 C91.89,352.29 117.42,379.1 137.07,397.43 \" fill=\"none\" id=\"E4-&gt;E6\" style=\"stroke: #383838; stroke-width: 1.0;\"/><polygon fill=\"#383838\" points=\"140.92,400.98,137.0155,391.9382,137.2443,397.5904,131.5921,397.8192,140.92,400.98\" style=\"stroke: #383838; stroke-width: 1.0;\"/><text fill=\"#000000\" font-family=\"sans-serif\" font-size=\"13\" lengthAdjust=\"spacingAndGlyphs\" textLength=\"40\" x=\"77\" y=\"307.0669\">[false]</text></a><!--MD5=[9120cf2e5df3bff93db8f754bbbc09b4]\n",
       "link E5 to E6--><a href=\"psysml:b49ece63-4bda-4eac-a48b-66e19b9bdab7\" target=\"_top\" title=\"psysml:b49ece63-4bda-4eac-a48b-66e19b9bdab7\" xlink:actuate=\"onRequest\" xlink:href=\"psysml:b49ece63-4bda-4eac-a48b-66e19b9bdab7\" xlink:show=\"new\" xlink:title=\"psysml:b49ece63-4bda-4eac-a48b-66e19b9bdab7\" xlink:type=\"simple\"><path d=\"M165,324.05 C165,343.9 165,374.02 165,395.52 \" fill=\"none\" id=\"E5-&gt;E6\" style=\"stroke: #383838; stroke-width: 1.0;\"/><polygon fill=\"#383838\" points=\"165,400.79,169,391.79,165,395.79,161,391.79,165,400.79\" style=\"stroke: #383838; stroke-width: 1.0;\"/><text fill=\"#000000\" font-family=\"sans-serif\" font-size=\"13\" lengthAdjust=\"spacingAndGlyphs\" textLength=\"55\" x=\"166\" y=\"367.0669\">[x == 0]</text></a><!--MD5=[b63e1e1f8815f281b8fee16af844ec2f]\n",
       "@startuml\r\n",
       "skinparam monochrome true\r\n",
       "skinparam classbackgroundcolor white\r\n",
       "skinparam shadowing false\r\n",
       "skinparam wrapWidth 300\r\n",
       "hide circle\r\n",
       "\r\n",
       "rec def \"DecisionTest\" as E1  <<(T,blue)action def>> [[psysml:3be07126-877a-4309-8447-1e285ef81f95 ]] {\r\n",
       "portout \"$result\" as E2  [[psysml:9348992a-eef4-478a-99a3-8679640e907b ]] \r\n",
       "choice \"test x\" as E3  [[psysml:68020b6f-ffe7-4b5f-b810-1edcbdd08af0 ]] \r\n",
       "choice \"noname\" as E4  [[psysml:c53ed86d-7fd9-4daa-81a5-a3aaa8a48fdd ]] \r\n",
       "rec usage \"A1\" as E5  <<(T,blue)action>> [[psysml:0f40ea9b-adac-4a33-8b1a-34d15e55e3d2 ]] {\r\n",
       "}\r\n",
       "\r\n",
       "rec usage \"A2\" as E6  <<(T,blue)action>> [[psysml:128661ee-6ef6-488f-adc9-4acba814b00a ]] {\r\n",
       "}\r\n",
       "\r\n",
       "rec usage \"A3\" as E7  <<(T,blue)action>> [[psysml:7b9f6d16-7e81-4d0a-aec9-34a5599243af ]] {\r\n",
       "}\r\n",
       "\r\n",
       "rec usage \"A3\" as E8  <<(T,blue)action>> [[psysml:7b9f6d16-7e81-4d0a-aec9-34a5599243af ]] {\r\n",
       "}\r\n",
       "\r\n",
       "}\r\n",
       "\r\n",
       "E3  - -> E5 [[psysml:7286f462-e52e-4ebc-bfea-7701f26f76d2 ]] : [x == 1]\r\n",
       "E3  - -> E6 [[psysml:e748a59f-80ec-4a6b-adc3-e898091fbade ]] : [x > 1]\r\n",
       "E3  - -> E8 [[psysml:c4aa7bb1-7be8-4d3d-94c8-0c3feb0dde03 ]] \r\n",
       "E3 - -> E4 [[psysml:9e59e0cd-e7d6-48f9-8abd-2b6da2cb7bd3 ]] \r\n",
       "E4  - -> E5 [[psysml:7b0b5bc6-fd2d-464d-92f4-1e71099b6f78 ]] : [true]\r\n",
       "E4  - -> E6 [[psysml:2cb1b039-bbb8-4621-9b87-8355478bfab0 ]] : [false]\r\n",
       "E5  - -> E6 [[psysml:b49ece63-4bda-4eac-a48b-66e19b9bdab7 ]] : [x == 0]\r\n",
       "E8  - -> E3 [[psysml:313c2626-617f-4a85-9d7c-c31cb61d9b9e ]] : [x > 0]\r\n",
       "@enduml\r\n",
       "\n",
       "PlantUML version 1.2020.13(Sat Jun 13 12:26:38 UTC 2020)\n",
       "(EPL source distribution)\n",
       "Java Runtime: OpenJDK Runtime Environment\n",
       "JVM: OpenJDK 64-Bit Server VM\n",
       "Default Encoding: UTF-8\n",
       "Language: en\n",
       "Country: null\n",
       "--></g></svg>"
      ]
     },
     "execution_count": 37,
     "metadata": {},
     "output_type": "execute_result"
    }
   ],
   "source": [
    "%viz --style=\"DEFAULT\" --view=\"Default\" \"DecisionTest\""
   ]
  },
  {
   "cell_type": "code",
   "execution_count": 38,
   "id": "e2e519c8",
   "metadata": {
    "execution": {
     "iopub.execute_input": "2021-05-27T06:09:54.561443Z",
     "iopub.status.busy": "2021-05-27T06:09:54.560381Z",
     "iopub.status.idle": "2021-05-27T06:09:54.634206Z",
     "shell.execute_reply": "2021-05-27T06:09:54.633945Z"
    }
   },
   "outputs": [
    {
     "data": {
      "image/svg+xml": [
       "<?xml version=\"1.0\" encoding=\"UTF-8\" standalone=\"no\"?><svg xmlns=\"http://www.w3.org/2000/svg\" xmlns:xlink=\"http://www.w3.org/1999/xlink\" contentScriptType=\"application/ecmascript\" contentStyleType=\"text/css\" height=\"207px\" preserveAspectRatio=\"none\" style=\"width:109px;height:207px;\" version=\"1.1\" viewBox=\"0 0 109 207\" width=\"109px\" zoomAndPan=\"magnify\"><defs/><g><!--MD5=[43c9051892ef23e1a46a86907403d788]\n",
       "class E1--><a href=\"psysml:3be07126-877a-4309-8447-1e285ef81f95\" target=\"_top\" title=\"psysml:3be07126-877a-4309-8447-1e285ef81f95\" xlink:actuate=\"onRequest\" xlink:href=\"psysml:3be07126-877a-4309-8447-1e285ef81f95\" xlink:show=\"new\" xlink:title=\"psysml:3be07126-877a-4309-8447-1e285ef81f95\" xlink:type=\"simple\"><rect fill=\"#FFFFFF\" height=\"189.9844\" id=\"E1\" style=\"stroke: #383838; stroke-width: 1.5;\" width=\"91\" x=\"7\" y=\"7\"/><text fill=\"#000000\" font-family=\"sans-serif\" font-size=\"12\" font-style=\"italic\" lengthAdjust=\"spacingAndGlyphs\" textLength=\"77\" x=\"14\" y=\"23.1387\">«action def»</text><text fill=\"#000000\" font-family=\"sans-serif\" font-size=\"12\" lengthAdjust=\"spacingAndGlyphs\" textLength=\"80\" x=\"12.5\" y=\"37.1074\">DecisionTest</text><line style=\"stroke: #383838; stroke-width: 1.5;\" x1=\"8\" x2=\"97\" y1=\"44.9375\" y2=\"44.9375\"/><text fill=\"#000000\" font-family=\"sans-serif\" font-size=\"11\" lengthAdjust=\"spacingAndGlyphs\" textLength=\"26\" x=\"13\" y=\"75.9526\">x=1;</text><line style=\"stroke: #383838; stroke-width: 1.0;\" x1=\"8\" x2=\"25\" y1=\"59.3398\" y2=\"59.3398\"/><text fill=\"#000000\" font-family=\"sans-serif\" font-size=\"11\" lengthAdjust=\"spacingAndGlyphs\" textLength=\"55\" x=\"25\" y=\"62.6479\">attributes</text><line style=\"stroke: #383838; stroke-width: 1.0;\" x1=\"80\" x2=\"97\" y1=\"59.3398\" y2=\"59.3398\"/><text fill=\"#000000\" font-family=\"sans-serif\" font-size=\"11\" lengthAdjust=\"spacingAndGlyphs\" textLength=\"14\" x=\"13\" y=\"105.562\">A1</text><text fill=\"#000000\" font-family=\"sans-serif\" font-size=\"11\" lengthAdjust=\"spacingAndGlyphs\" textLength=\"14\" x=\"13\" y=\"118.3667\">A2</text><text fill=\"#000000\" font-family=\"sans-serif\" font-size=\"11\" lengthAdjust=\"spacingAndGlyphs\" textLength=\"14\" x=\"13\" y=\"131.1714\">A3</text><line style=\"stroke: #383838; stroke-width: 1.0;\" x1=\"8\" x2=\"32\" y1=\"88.9492\" y2=\"88.9492\"/><text fill=\"#000000\" font-family=\"sans-serif\" font-size=\"11\" lengthAdjust=\"spacingAndGlyphs\" textLength=\"41\" x=\"32\" y=\"92.2573\">actions</text><line style=\"stroke: #383838; stroke-width: 1.0;\" x1=\"73\" x2=\"97\" y1=\"88.9492\" y2=\"88.9492\"/><text fill=\"#000000\" font-family=\"sans-serif\" font-size=\"11\" lengthAdjust=\"spacingAndGlyphs\" textLength=\"32\" x=\"13\" y=\"160.7808\">test x</text><line style=\"stroke: #383838; stroke-width: 1.0;\" x1=\"8\" x2=\"11\" y1=\"144.168\" y2=\"144.168\"/><text fill=\"#000000\" font-family=\"sans-serif\" font-size=\"11\" lengthAdjust=\"spacingAndGlyphs\" textLength=\"83\" x=\"11\" y=\"147.4761\">decisionNodes</text><line style=\"stroke: #383838; stroke-width: 1.0;\" x1=\"94\" x2=\"97\" y1=\"144.168\" y2=\"144.168\"/><text fill=\"#000000\" font-family=\"sans-serif\" font-size=\"11\" lengthAdjust=\"spacingAndGlyphs\" textLength=\"8\" x=\"13\" y=\"190.3901\">S</text><line style=\"stroke: #383838; stroke-width: 1.0;\" x1=\"8\" x2=\"22\" y1=\"173.7773\" y2=\"173.7773\"/><text fill=\"#000000\" font-family=\"sans-serif\" font-size=\"11\" lengthAdjust=\"spacingAndGlyphs\" textLength=\"61\" x=\"22\" y=\"177.0854\">transitions</text><line style=\"stroke: #383838; stroke-width: 1.0;\" x1=\"83\" x2=\"97\" y1=\"173.7773\" y2=\"173.7773\"/></a><!--MD5=[a94b64030cc7363d9ba1687b23b5f7d8]\n",
       "@startuml\r\n",
       "skinparam monochrome true\r\n",
       "skinparam classbackgroundcolor white\r\n",
       "skinparam shadowing false\r\n",
       "skinparam wrapWidth 300\r\n",
       "hide circle\r\n",
       "\r\n",
       "comp def \"DecisionTest\" as E1  <<(T,blue)action def>> [[psysml:3be07126-877a-4309-8447-1e285ef81f95 ]] {\r\n",
       "- - attributes - -\r\n",
       "x=1; \r\n",
       "- - actions - -\r\n",
       "A1\r\n",
       "A2\r\n",
       "A3\r\n",
       "- - decisionNodes - -\r\n",
       "test x\r\n",
       "- - transitions - -\r\n",
       "S\r\n",
       "}\r\n",
       "@enduml\r\n",
       "\n",
       "PlantUML version 1.2020.13(Sat Jun 13 12:26:38 UTC 2020)\n",
       "(EPL source distribution)\n",
       "Java Runtime: OpenJDK Runtime Environment\n",
       "JVM: OpenJDK 64-Bit Server VM\n",
       "Default Encoding: UTF-8\n",
       "Language: en\n",
       "Country: null\n",
       "--></g></svg>"
      ]
     },
     "execution_count": 38,
     "metadata": {},
     "output_type": "execute_result"
    }
   ],
   "source": [
    "%viz --style=\"DEFAULT\" --view=\"Tree\" \"DecisionTest\""
   ]
  },
  {
   "cell_type": "code",
   "execution_count": 39,
   "id": "25e1f2b8",
   "metadata": {
    "execution": {
     "iopub.execute_input": "2021-05-27T06:09:54.685442Z",
     "iopub.status.busy": "2021-05-27T06:09:54.684308Z",
     "iopub.status.idle": "2021-05-27T06:09:54.693113Z",
     "shell.execute_reply": "2021-05-27T06:09:54.692838Z"
    }
   },
   "outputs": [
    {
     "data": {
      "image/svg+xml": [
       "<?xml version=\"1.0\" encoding=\"UTF-8\" standalone=\"no\"?><svg xmlns=\"http://www.w3.org/2000/svg\" xmlns:xlink=\"http://www.w3.org/1999/xlink\" contentScriptType=\"application/ecmascript\" contentStyleType=\"text/css\" height=\"12px\" preserveAspectRatio=\"none\" style=\"width:12px;height:12px;\" version=\"1.1\" viewBox=\"0 0 12 12\" width=\"12px\" zoomAndPan=\"magnify\"><defs/><g><!--MD5=[c5f280e076d0d61ccf4b0f27871bda1d]\n",
       "@startuml\r\n",
       "skinparam monochrome true\r\n",
       "skinparam classbackgroundcolor white\r\n",
       "skinparam shadowing false\r\n",
       "skinparam wrapWidth 300\r\n",
       "hide circle\r\n",
       "\r\n",
       "@enduml\r\n",
       "\n",
       "PlantUML version 1.2020.13(Sat Jun 13 12:26:38 UTC 2020)\n",
       "(EPL source distribution)\n",
       "Java Runtime: OpenJDK Runtime Environment\n",
       "JVM: OpenJDK 64-Bit Server VM\n",
       "Default Encoding: UTF-8\n",
       "Language: en\n",
       "Country: null\n",
       "--></g></svg>"
      ]
     },
     "execution_count": 39,
     "metadata": {},
     "output_type": "execute_result"
    }
   ],
   "source": [
    "%viz --style=\"DEFAULT\" --view=\"State\" \"DecisionTest\""
   ]
  },
  {
   "cell_type": "code",
   "execution_count": 40,
   "id": "11bc3931",
   "metadata": {
    "execution": {
     "iopub.execute_input": "2021-05-27T06:09:54.744806Z",
     "iopub.status.busy": "2021-05-27T06:09:54.744394Z",
     "iopub.status.idle": "2021-05-27T06:09:54.781794Z",
     "shell.execute_reply": "2021-05-27T06:09:54.780567Z"
    }
   },
   "outputs": [
    {
     "data": {
      "image/svg+xml": [
       "<?xml version=\"1.0\" encoding=\"UTF-8\" standalone=\"no\"?><svg xmlns=\"http://www.w3.org/2000/svg\" xmlns:xlink=\"http://www.w3.org/1999/xlink\" contentScriptType=\"application/ecmascript\" contentStyleType=\"text/css\" height=\"384px\" preserveAspectRatio=\"none\" style=\"width:333px;height:384px;\" version=\"1.1\" viewBox=\"0 0 333 384\" width=\"333px\" zoomAndPan=\"magnify\"><defs/><g><!--MD5=[fbc87193dbaf4d95561dea2c320d4a47]\n",
       "cluster E1--><a href=\"psysml:3be07126-877a-4309-8447-1e285ef81f95\" target=\"_top\" title=\"psysml:3be07126-877a-4309-8447-1e285ef81f95\" xlink:actuate=\"onRequest\" xlink:href=\"psysml:3be07126-877a-4309-8447-1e285ef81f95\" xlink:show=\"new\" xlink:title=\"psysml:3be07126-877a-4309-8447-1e285ef81f95\" xlink:type=\"simple\"><rect fill=\"#FFFFFF\" height=\"344.72\" id=\"E1\" style=\"stroke: #383838; stroke-width: 1.5;\" width=\"315\" x=\"7\" y=\"7\"/><rect fill=\"#F8F8F8\" height=\"37.9375\" style=\"stroke: #383838; stroke-width: 1.5;\" width=\"315\" x=\"7\" y=\"7\"/><text fill=\"#000000\" font-family=\"sans-serif\" font-size=\"12\" font-style=\"italic\" lengthAdjust=\"spacingAndGlyphs\" textLength=\"77\" x=\"126\" y=\"23.1387\">«action def»</text><text fill=\"#000000\" font-family=\"sans-serif\" font-size=\"12\" lengthAdjust=\"spacingAndGlyphs\" textLength=\"80\" x=\"124.5\" y=\"37.1074\">DecisionTest</text></a><text fill=\"#000000\" font-family=\"sans-serif\" font-size=\"14\" lengthAdjust=\"spacingAndGlyphs\" textLength=\"48\" x=\"140\" y=\"370.7151\">$result</text><rect fill=\"#383838\" height=\"12\" style=\"stroke: #F8F8F8; stroke-width: 1.5;\" width=\"12\" x=\"158\" y=\"345.72\"/><polygon fill=\"#F8F8F8\" points=\"141,28.5,153,40.5,141,52.5,129,40.5,141,28.5\" style=\"stroke: #383838; stroke-width: 1.5;\"/><polygon fill=\"#F8F8F8\" points=\"35,126.5,47,138.5,35,150.5,23,138.5,35,126.5\" style=\"stroke: #383838; stroke-width: 1.5;\"/><g id=\"E1.E5\"><a href=\"psysml:0f40ea9b-adac-4a33-8b1a-34d15e55e3d2\" target=\"_top\" title=\"psysml:0f40ea9b-adac-4a33-8b1a-34d15e55e3d2\" xlink:actuate=\"onRequest\" xlink:href=\"psysml:0f40ea9b-adac-4a33-8b1a-34d15e55e3d2\" xlink:show=\"new\" xlink:title=\"psysml:0f40ea9b-adac-4a33-8b1a-34d15e55e3d2\" xlink:type=\"simple\"><rect fill=\"#FFFFFF\" height=\"42.9375\" id=\"E5\" rx=\"10\" ry=\"10\" style=\"stroke: #383838; stroke-width: 1.5;\" width=\"60\" x=\"135\" y=\"193\"/><rect fill=\"#F8F8F8\" height=\"37.9375\" rx=\"10\" ry=\"10\" style=\"stroke: #F8F8F8; stroke-width: 1.5;\" width=\"60\" x=\"135\" y=\"193\"/><rect fill=\"#F8F8F8\" height=\"10\" style=\"stroke: #F8F8F8; stroke-width: 1.5;\" width=\"60\" x=\"135\" y=\"220.9375\"/><rect fill=\"none\" height=\"42.9375\" id=\"E5\" rx=\"10\" ry=\"10\" style=\"stroke: #383838; stroke-width: 1.5;\" width=\"60\" x=\"135\" y=\"193\"/><text fill=\"#000000\" font-family=\"sans-serif\" font-size=\"12\" font-style=\"italic\" lengthAdjust=\"spacingAndGlyphs\" textLength=\"53\" x=\"138.5\" y=\"209.1387\">«action»</text><text fill=\"#000000\" font-family=\"sans-serif\" font-size=\"12\" lengthAdjust=\"spacingAndGlyphs\" textLength=\"16\" x=\"157\" y=\"223.1074\">A1</text></a></g><g id=\"E1.E6\"><a href=\"psysml:128661ee-6ef6-488f-adc9-4acba814b00a\" target=\"_top\" title=\"psysml:128661ee-6ef6-488f-adc9-4acba814b00a\" xlink:actuate=\"onRequest\" xlink:href=\"psysml:128661ee-6ef6-488f-adc9-4acba814b00a\" xlink:show=\"new\" xlink:title=\"psysml:128661ee-6ef6-488f-adc9-4acba814b00a\" xlink:type=\"simple\"><rect fill=\"#FFFFFF\" height=\"42.9375\" id=\"E6\" rx=\"10\" ry=\"10\" style=\"stroke: #383838; stroke-width: 1.5;\" width=\"60\" x=\"135\" y=\"269\"/><rect fill=\"#F8F8F8\" height=\"37.9375\" rx=\"10\" ry=\"10\" style=\"stroke: #F8F8F8; stroke-width: 1.5;\" width=\"60\" x=\"135\" y=\"269\"/><rect fill=\"#F8F8F8\" height=\"10\" style=\"stroke: #F8F8F8; stroke-width: 1.5;\" width=\"60\" x=\"135\" y=\"296.9375\"/><rect fill=\"none\" height=\"42.9375\" id=\"E6\" rx=\"10\" ry=\"10\" style=\"stroke: #383838; stroke-width: 1.5;\" width=\"60\" x=\"135\" y=\"269\"/><text fill=\"#000000\" font-family=\"sans-serif\" font-size=\"12\" font-style=\"italic\" lengthAdjust=\"spacingAndGlyphs\" textLength=\"53\" x=\"138.5\" y=\"285.1387\">«action»</text><text fill=\"#000000\" font-family=\"sans-serif\" font-size=\"12\" lengthAdjust=\"spacingAndGlyphs\" textLength=\"16\" x=\"157\" y=\"299.1074\">A2</text></a></g><g id=\"E1.E7\"><a href=\"psysml:7b9f6d16-7e81-4d0a-aec9-34a5599243af\" target=\"_top\" title=\"psysml:7b9f6d16-7e81-4d0a-aec9-34a5599243af\" xlink:actuate=\"onRequest\" xlink:href=\"psysml:7b9f6d16-7e81-4d0a-aec9-34a5599243af\" xlink:show=\"new\" xlink:title=\"psysml:7b9f6d16-7e81-4d0a-aec9-34a5599243af\" xlink:type=\"simple\"><rect fill=\"#FFFFFF\" height=\"42.9375\" id=\"E7\" rx=\"10\" ry=\"10\" style=\"stroke: #383838; stroke-width: 1.5;\" width=\"60\" x=\"46\" y=\"66\"/><rect fill=\"#F8F8F8\" height=\"37.9375\" rx=\"10\" ry=\"10\" style=\"stroke: #F8F8F8; stroke-width: 1.5;\" width=\"60\" x=\"46\" y=\"66\"/><rect fill=\"#F8F8F8\" height=\"10\" style=\"stroke: #F8F8F8; stroke-width: 1.5;\" width=\"60\" x=\"46\" y=\"93.9375\"/><rect fill=\"none\" height=\"42.9375\" id=\"E7\" rx=\"10\" ry=\"10\" style=\"stroke: #383838; stroke-width: 1.5;\" width=\"60\" x=\"46\" y=\"66\"/><text fill=\"#000000\" font-family=\"sans-serif\" font-size=\"12\" font-style=\"italic\" lengthAdjust=\"spacingAndGlyphs\" textLength=\"53\" x=\"49.5\" y=\"82.1387\">«action»</text><text fill=\"#000000\" font-family=\"sans-serif\" font-size=\"12\" lengthAdjust=\"spacingAndGlyphs\" textLength=\"16\" x=\"68\" y=\"96.1074\">A3</text></a></g><g id=\"E1.E8\"><a href=\"psysml:7b9f6d16-7e81-4d0a-aec9-34a5599243af\" target=\"_top\" title=\"psysml:7b9f6d16-7e81-4d0a-aec9-34a5599243af\" xlink:actuate=\"onRequest\" xlink:href=\"psysml:7b9f6d16-7e81-4d0a-aec9-34a5599243af\" xlink:show=\"new\" xlink:title=\"psysml:7b9f6d16-7e81-4d0a-aec9-34a5599243af\" xlink:type=\"simple\"><rect fill=\"#FFFFFF\" height=\"42.9375\" id=\"E8\" rx=\"10\" ry=\"10\" style=\"stroke: #383838; stroke-width: 1.5;\" width=\"60\" x=\"246\" y=\"117\"/><rect fill=\"#F8F8F8\" height=\"37.9375\" rx=\"10\" ry=\"10\" style=\"stroke: #F8F8F8; stroke-width: 1.5;\" width=\"60\" x=\"246\" y=\"117\"/><rect fill=\"#F8F8F8\" height=\"10\" style=\"stroke: #F8F8F8; stroke-width: 1.5;\" width=\"60\" x=\"246\" y=\"144.9375\"/><rect fill=\"none\" height=\"42.9375\" id=\"E8\" rx=\"10\" ry=\"10\" style=\"stroke: #383838; stroke-width: 1.5;\" width=\"60\" x=\"246\" y=\"117\"/><text fill=\"#000000\" font-family=\"sans-serif\" font-size=\"12\" font-style=\"italic\" lengthAdjust=\"spacingAndGlyphs\" textLength=\"53\" x=\"249.5\" y=\"133.1387\">«action»</text><text fill=\"#000000\" font-family=\"sans-serif\" font-size=\"12\" lengthAdjust=\"spacingAndGlyphs\" textLength=\"16\" x=\"268\" y=\"147.1074\">A3</text></a></g><!--MD5=[0188b64bb0ae78505a997a81836e11e9]\n",
       "link E3 to E5--><a href=\"psysml:7286f462-e52e-4ebc-bfea-7701f26f76d2\" target=\"_top\" title=\"psysml:7286f462-e52e-4ebc-bfea-7701f26f76d2\" xlink:actuate=\"onRequest\" xlink:href=\"psysml:7286f462-e52e-4ebc-bfea-7701f26f76d2\" xlink:show=\"new\" xlink:title=\"psysml:7286f462-e52e-4ebc-bfea-7701f26f76d2\" xlink:type=\"simple\"><path d=\"M140.07,51.78 C138.47,72.5 136.04,120.67 144,160 C145.92,169.49 149.4,179.47 152.99,188.21 \" fill=\"none\" id=\"E3-&gt;E5\" style=\"stroke: #383838; stroke-width: 1.0;\"/><polygon fill=\"#383838\" points=\"154.98,192.92,155.1631,183.0728,153.0346,188.314,147.7935,186.1855,154.98,192.92\" style=\"stroke: #383838; stroke-width: 1.0;\"/><text fill=\"#000000\" font-family=\"sans-serif\" font-size=\"13\" lengthAdjust=\"spacingAndGlyphs\" textLength=\"55\" x=\"145\" y=\"143.0669\">[x == 1]</text></a><!--MD5=[ec9844e0c75763426927cad3229d1081]\n",
       "link E3 to E6--><a href=\"psysml:e748a59f-80ec-4a6b-adc3-e898091fbade\" target=\"_top\" title=\"psysml:e748a59f-80ec-4a6b-adc3-e898091fbade\" xlink:actuate=\"onRequest\" xlink:href=\"psysml:e748a59f-80ec-4a6b-adc3-e898091fbade\" xlink:show=\"new\" xlink:title=\"psysml:e748a59f-80ec-4a6b-adc3-e898091fbade\" xlink:type=\"simple\"><path d=\"M147.17,46.62 C160.24,57.84 190.71,86.12 205,117 C229.03,168.92 221.32,186.98 226,244 C226.62,251.53 230.06,254.63 226,261 C220.01,270.41 210.02,276.76 199.83,281.03 \" fill=\"none\" id=\"E3-&gt;E6\" style=\"stroke: #383838; stroke-width: 1.0;\"/><polygon fill=\"#383838\" points=\"195.15,282.85,204.9881,283.3102,199.8089,281.035,202.0841,275.8559,195.15,282.85\" style=\"stroke: #383838; stroke-width: 1.0;\"/><text fill=\"#000000\" font-family=\"sans-serif\" font-size=\"13\" lengthAdjust=\"spacingAndGlyphs\" textLength=\"44\" x=\"224\" y=\"181.0669\">[x &gt; 1]</text></a><!--MD5=[ca5a752d6098d8a44b3f88316e7452d1]\n",
       "link E3 to E8--><a href=\"psysml:c4aa7bb1-7be8-4d3d-94c8-0c3feb0dde03\" target=\"_top\" title=\"psysml:c4aa7bb1-7be8-4d3d-94c8-0c3feb0dde03\" xlink:actuate=\"onRequest\" xlink:href=\"psysml:c4aa7bb1-7be8-4d3d-94c8-0c3feb0dde03\" xlink:show=\"new\" xlink:title=\"psysml:c4aa7bb1-7be8-4d3d-94c8-0c3feb0dde03\" xlink:type=\"simple\"><path d=\"M147.65,45.88 C153.56,49.59 162.55,54.81 171,58 C186.34,63.79 195.35,54.47 207,66 C220.94,79.81 204.74,93.68 217,109 C223.18,116.72 231.96,122.48 240.86,126.73 \" fill=\"none\" id=\"E3-&gt;E8\" style=\"stroke: #383838; stroke-width: 1.0;\"/><polygon fill=\"#383838\" points=\"245.81,128.93,239.2251,121.6061,241.2451,126.89,235.9612,128.91,245.81,128.93\" style=\"stroke: #383838; stroke-width: 1.0;\"/></a><!--MD5=[95fa686b5a16158bcdbcaeead89f639b]\n",
       "link E8 to E3--><a href=\"psysml:313c2626-617f-4a85-9d7c-c31cb61d9b9e\" target=\"_top\" title=\"psysml:313c2626-617f-4a85-9d7c-c31cb61d9b9e\" xlink:actuate=\"onRequest\" xlink:href=\"psysml:313c2626-617f-4a85-9d7c-c31cb61d9b9e\" xlink:show=\"new\" xlink:title=\"psysml:313c2626-617f-4a85-9d7c-c31cb61d9b9e\" xlink:type=\"simple\"><path d=\"M253.3,116.74 C250.77,114.19 248.29,111.58 246,109 C230.2,91.18 234.22,78.6 214,66 C197.5,55.72 189.3,64.54 171,58 C164.35,55.62 157.42,51.9 151.89,48.59 \" fill=\"none\" id=\"E8-&gt;E3\" style=\"stroke: #383838; stroke-width: 1.0;\"/><polygon fill=\"#383838\" points=\"147.62,45.95,153.1764,54.0818,151.8744,48.5769,157.3793,47.2748,147.62,45.95\" style=\"stroke: #383838; stroke-width: 1.0;\"/><text fill=\"#000000\" font-family=\"sans-serif\" font-size=\"13\" lengthAdjust=\"spacingAndGlyphs\" textLength=\"44\" x=\"247\" y=\"92.0669\">[x &gt; 0]</text></a><!--MD5=[af87c684e3b0d8be13c1a698a818ef1e]\n",
       "link E3 to E4--><a href=\"psysml:9e59e0cd-e7d6-48f9-8abd-2b6da2cb7bd3\" target=\"_top\" title=\"psysml:9e59e0cd-e7d6-48f9-8abd-2b6da2cb7bd3\" xlink:actuate=\"onRequest\" xlink:href=\"psysml:9e59e0cd-e7d6-48f9-8abd-2b6da2cb7bd3\" xlink:show=\"new\" xlink:title=\"psysml:9e59e0cd-e7d6-48f9-8abd-2b6da2cb7bd3\" xlink:type=\"simple\"><path d=\"M130.87,42.54 C108.03,45.11 53.64,52.54 42,66 C28.37,81.77 29.55,107.42 32.02,123.33 \" fill=\"none\" id=\"E3-&gt;E4\" style=\"stroke: #383838; stroke-width: 1.0;\"/><polygon fill=\"#383838\" points=\"32.88,128.32,35.3057,118.7745,32.0372,123.3915,27.4201,120.1231,32.88,128.32\" style=\"stroke: #383838; stroke-width: 1.0;\"/></a><!--MD5=[1b7591eae5389033d8d09a9d6721a717]\n",
       "link E4 to E5--><a href=\"psysml:7b0b5bc6-fd2d-464d-92f4-1e71099b6f78\" target=\"_top\" title=\"psysml:7b0b5bc6-fd2d-464d-92f4-1e71099b6f78\" xlink:actuate=\"onRequest\" xlink:href=\"psysml:7b0b5bc6-fd2d-464d-92f4-1e71099b6f78\" xlink:show=\"new\" xlink:title=\"psysml:7b0b5bc6-fd2d-464d-92f4-1e71099b6f78\" xlink:type=\"simple\"><path d=\"M40.09,145.69 C48.35,155.37 65.62,174.11 84,185 C93.67,190.73 97.38,189.32 108,193 C115.1,195.46 122.69,198.15 129.93,200.74 \" fill=\"none\" id=\"E4-&gt;E5\" style=\"stroke: #383838; stroke-width: 1.0;\"/><polygon fill=\"#383838\" points=\"134.87,202.52,127.7488,195.7164,130.1636,200.832,125.048,203.2467,134.87,202.52\" style=\"stroke: #383838; stroke-width: 1.0;\"/><text fill=\"#000000\" font-family=\"sans-serif\" font-size=\"13\" lengthAdjust=\"spacingAndGlyphs\" textLength=\"36\" x=\"85\" y=\"181.0669\">[true]</text></a><!--MD5=[79568f1e445c3877b6a54524624ccc7d]\n",
       "link E4 to E6--><a href=\"psysml:2cb1b039-bbb8-4621-9b87-8355478bfab0\" target=\"_top\" title=\"psysml:2cb1b039-bbb8-4621-9b87-8355478bfab0\" xlink:actuate=\"onRequest\" xlink:href=\"psysml:2cb1b039-bbb8-4621-9b87-8355478bfab0\" xlink:show=\"new\" xlink:title=\"psysml:2cb1b039-bbb8-4621-9b87-8355478bfab0\" xlink:type=\"simple\"><path d=\"M36.89,148.77 C41.08,167.27 52.64,209.28 76,236 C90.77,252.89 112.21,266 130.35,275.02 \" fill=\"none\" id=\"E4-&gt;E6\" style=\"stroke: #383838; stroke-width: 1.0;\"/><polygon fill=\"#383838\" points=\"134.88,277.22,128.532,269.6898,130.3825,275.0355,125.0368,276.8859,134.88,277.22\" style=\"stroke: #383838; stroke-width: 1.0;\"/><text fill=\"#000000\" font-family=\"sans-serif\" font-size=\"13\" lengthAdjust=\"spacingAndGlyphs\" textLength=\"40\" x=\"77\" y=\"219.0669\">[false]</text></a><!--MD5=[9120cf2e5df3bff93db8f754bbbc09b4]\n",
       "link E5 to E6--><a href=\"psysml:b49ece63-4bda-4eac-a48b-66e19b9bdab7\" target=\"_top\" title=\"psysml:b49ece63-4bda-4eac-a48b-66e19b9bdab7\" xlink:actuate=\"onRequest\" xlink:href=\"psysml:b49ece63-4bda-4eac-a48b-66e19b9bdab7\" xlink:show=\"new\" xlink:title=\"psysml:b49ece63-4bda-4eac-a48b-66e19b9bdab7\" xlink:type=\"simple\"><path d=\"M165,236.11 C165,244.69 165,254.75 165,263.8 \" fill=\"none\" id=\"E5-&gt;E6\" style=\"stroke: #383838; stroke-width: 1.0;\"/><polygon fill=\"#383838\" points=\"165,269,169,260,165,264,161,260,165,269\" style=\"stroke: #383838; stroke-width: 1.0;\"/><text fill=\"#000000\" font-family=\"sans-serif\" font-size=\"13\" lengthAdjust=\"spacingAndGlyphs\" textLength=\"55\" x=\"166\" y=\"257.0669\">[x == 0]</text></a><!--MD5=[88a61b401e049299a61cb76d2f3c5dc8]\n",
       "@startuml\r\n",
       "skinparam ranksep 10\r\n",
       "skinparam rectangle {\r\n",
       " backgroundColor<<block>> LightGreen\r\n",
       "}\r\n",
       "skinparam monochrome true\r\n",
       "skinparam classbackgroundcolor white\r\n",
       "skinparam shadowing false\r\n",
       "skinparam wrapWidth 300\r\n",
       "hide circle\r\n",
       "\r\n",
       "rec def \"DecisionTest\" as E1  <<(T,blue)action def>> [[psysml:3be07126-877a-4309-8447-1e285ef81f95 ]] {\r\n",
       "portout \"$result\" as E2  [[psysml:9348992a-eef4-478a-99a3-8679640e907b ]] \r\n",
       "choice \"test x\" as E3  [[psysml:68020b6f-ffe7-4b5f-b810-1edcbdd08af0 ]] \r\n",
       "choice \"noname\" as E4  [[psysml:c53ed86d-7fd9-4daa-81a5-a3aaa8a48fdd ]] \r\n",
       "rec usage \"A1\" as E5  <<(T,blue)action>> [[psysml:0f40ea9b-adac-4a33-8b1a-34d15e55e3d2 ]] {\r\n",
       "}\r\n",
       "\r\n",
       "rec usage \"A2\" as E6  <<(T,blue)action>> [[psysml:128661ee-6ef6-488f-adc9-4acba814b00a ]] {\r\n",
       "}\r\n",
       "\r\n",
       "rec usage \"A3\" as E7  <<(T,blue)action>> [[psysml:7b9f6d16-7e81-4d0a-aec9-34a5599243af ]] {\r\n",
       "}\r\n",
       "\r\n",
       "rec usage \"A3\" as E8  <<(T,blue)action>> [[psysml:7b9f6d16-7e81-4d0a-aec9-34a5599243af ]] {\r\n",
       "}\r\n",
       "\r\n",
       "}\r\n",
       "\r\n",
       "E3  - -> E5 [[psysml:7286f462-e52e-4ebc-bfea-7701f26f76d2 ]] : [x == 1]\r\n",
       "E3  - -> E6 [[psysml:e748a59f-80ec-4a6b-adc3-e898091fbade ]] : [x > 1]\r\n",
       "E3  - -> E8 [[psysml:c4aa7bb1-7be8-4d3d-94c8-0c3feb0dde03 ]] \r\n",
       "E3 - -> E4 [[psysml:9e59e0cd-e7d6-48f9-8abd-2b6da2cb7bd3 ]] \r\n",
       "E4  - -> E5 [[psysml:7b0b5bc6-fd2d-464d-92f4-1e71099b6f78 ]] : [true]\r\n",
       "E4  - -> E6 [[psysml:2cb1b039-bbb8-4621-9b87-8355478bfab0 ]] : [false]\r\n",
       "E5  - -> E6 [[psysml:b49ece63-4bda-4eac-a48b-66e19b9bdab7 ]] : [x == 0]\r\n",
       "E8  - -> E3 [[psysml:313c2626-617f-4a85-9d7c-c31cb61d9b9e ]] : [x > 0]\r\n",
       "@enduml\r\n",
       "\n",
       "PlantUML version 1.2020.13(Sat Jun 13 12:26:38 UTC 2020)\n",
       "(EPL source distribution)\n",
       "Java Runtime: OpenJDK Runtime Environment\n",
       "JVM: OpenJDK 64-Bit Server VM\n",
       "Default Encoding: UTF-8\n",
       "Language: en\n",
       "Country: null\n",
       "--></g></svg>"
      ]
     },
     "execution_count": 40,
     "metadata": {},
     "output_type": "execute_result"
    }
   ],
   "source": [
    "%viz --style=\"DEFAULT\" --view=\"Interconnection\" \"DecisionTest\""
   ]
  },
  {
   "cell_type": "code",
   "execution_count": 41,
   "id": "54a59318",
   "metadata": {
    "execution": {
     "iopub.execute_input": "2021-05-27T06:09:54.832041Z",
     "iopub.status.busy": "2021-05-27T06:09:54.831673Z",
     "iopub.status.idle": "2021-05-27T06:09:54.862474Z",
     "shell.execute_reply": "2021-05-27T06:09:54.860870Z"
    }
   },
   "outputs": [
    {
     "data": {
      "image/svg+xml": [
       "<?xml version=\"1.0\" encoding=\"UTF-8\" standalone=\"no\"?><svg xmlns=\"http://www.w3.org/2000/svg\" xmlns:xlink=\"http://www.w3.org/1999/xlink\" contentScriptType=\"application/ecmascript\" contentStyleType=\"text/css\" height=\"384px\" preserveAspectRatio=\"none\" style=\"width:333px;height:384px;\" version=\"1.1\" viewBox=\"0 0 333 384\" width=\"333px\" zoomAndPan=\"magnify\"><defs/><g><!--MD5=[fbc87193dbaf4d95561dea2c320d4a47]\n",
       "cluster E1--><a href=\"psysml:3be07126-877a-4309-8447-1e285ef81f95\" target=\"_top\" title=\"psysml:3be07126-877a-4309-8447-1e285ef81f95\" xlink:actuate=\"onRequest\" xlink:href=\"psysml:3be07126-877a-4309-8447-1e285ef81f95\" xlink:show=\"new\" xlink:title=\"psysml:3be07126-877a-4309-8447-1e285ef81f95\" xlink:type=\"simple\"><rect fill=\"#FFFFFF\" height=\"344.72\" id=\"E1\" style=\"stroke: #383838; stroke-width: 1.5;\" width=\"315\" x=\"7\" y=\"7\"/><rect fill=\"#F8F8F8\" height=\"37.9375\" style=\"stroke: #383838; stroke-width: 1.5;\" width=\"315\" x=\"7\" y=\"7\"/><text fill=\"#000000\" font-family=\"sans-serif\" font-size=\"12\" font-style=\"italic\" lengthAdjust=\"spacingAndGlyphs\" textLength=\"77\" x=\"126\" y=\"23.1387\">«action def»</text><text fill=\"#000000\" font-family=\"sans-serif\" font-size=\"12\" lengthAdjust=\"spacingAndGlyphs\" textLength=\"80\" x=\"124.5\" y=\"37.1074\">DecisionTest</text></a><text fill=\"#000000\" font-family=\"sans-serif\" font-size=\"14\" lengthAdjust=\"spacingAndGlyphs\" textLength=\"48\" x=\"140\" y=\"370.7151\">$result</text><rect fill=\"#383838\" height=\"12\" style=\"stroke: #F8F8F8; stroke-width: 1.5;\" width=\"12\" x=\"158\" y=\"345.72\"/><polygon fill=\"#F8F8F8\" points=\"141,28.5,153,40.5,141,52.5,129,40.5,141,28.5\" style=\"stroke: #383838; stroke-width: 1.5;\"/><polygon fill=\"#F8F8F8\" points=\"35,126.5,47,138.5,35,150.5,23,138.5,35,126.5\" style=\"stroke: #383838; stroke-width: 1.5;\"/><g id=\"E1.E5\"><a href=\"psysml:0f40ea9b-adac-4a33-8b1a-34d15e55e3d2\" target=\"_top\" title=\"psysml:0f40ea9b-adac-4a33-8b1a-34d15e55e3d2\" xlink:actuate=\"onRequest\" xlink:href=\"psysml:0f40ea9b-adac-4a33-8b1a-34d15e55e3d2\" xlink:show=\"new\" xlink:title=\"psysml:0f40ea9b-adac-4a33-8b1a-34d15e55e3d2\" xlink:type=\"simple\"><rect fill=\"#FFFFFF\" height=\"42.9375\" id=\"E5\" rx=\"10\" ry=\"10\" style=\"stroke: #383838; stroke-width: 1.5;\" width=\"60\" x=\"135\" y=\"193\"/><rect fill=\"#F8F8F8\" height=\"37.9375\" rx=\"10\" ry=\"10\" style=\"stroke: #F8F8F8; stroke-width: 1.5;\" width=\"60\" x=\"135\" y=\"193\"/><rect fill=\"#F8F8F8\" height=\"10\" style=\"stroke: #F8F8F8; stroke-width: 1.5;\" width=\"60\" x=\"135\" y=\"220.9375\"/><rect fill=\"none\" height=\"42.9375\" id=\"E5\" rx=\"10\" ry=\"10\" style=\"stroke: #383838; stroke-width: 1.5;\" width=\"60\" x=\"135\" y=\"193\"/><text fill=\"#000000\" font-family=\"sans-serif\" font-size=\"12\" font-style=\"italic\" lengthAdjust=\"spacingAndGlyphs\" textLength=\"53\" x=\"138.5\" y=\"209.1387\">«action»</text><text fill=\"#000000\" font-family=\"sans-serif\" font-size=\"12\" lengthAdjust=\"spacingAndGlyphs\" textLength=\"16\" x=\"157\" y=\"223.1074\">A1</text></a></g><g id=\"E1.E6\"><a href=\"psysml:128661ee-6ef6-488f-adc9-4acba814b00a\" target=\"_top\" title=\"psysml:128661ee-6ef6-488f-adc9-4acba814b00a\" xlink:actuate=\"onRequest\" xlink:href=\"psysml:128661ee-6ef6-488f-adc9-4acba814b00a\" xlink:show=\"new\" xlink:title=\"psysml:128661ee-6ef6-488f-adc9-4acba814b00a\" xlink:type=\"simple\"><rect fill=\"#FFFFFF\" height=\"42.9375\" id=\"E6\" rx=\"10\" ry=\"10\" style=\"stroke: #383838; stroke-width: 1.5;\" width=\"60\" x=\"135\" y=\"269\"/><rect fill=\"#F8F8F8\" height=\"37.9375\" rx=\"10\" ry=\"10\" style=\"stroke: #F8F8F8; stroke-width: 1.5;\" width=\"60\" x=\"135\" y=\"269\"/><rect fill=\"#F8F8F8\" height=\"10\" style=\"stroke: #F8F8F8; stroke-width: 1.5;\" width=\"60\" x=\"135\" y=\"296.9375\"/><rect fill=\"none\" height=\"42.9375\" id=\"E6\" rx=\"10\" ry=\"10\" style=\"stroke: #383838; stroke-width: 1.5;\" width=\"60\" x=\"135\" y=\"269\"/><text fill=\"#000000\" font-family=\"sans-serif\" font-size=\"12\" font-style=\"italic\" lengthAdjust=\"spacingAndGlyphs\" textLength=\"53\" x=\"138.5\" y=\"285.1387\">«action»</text><text fill=\"#000000\" font-family=\"sans-serif\" font-size=\"12\" lengthAdjust=\"spacingAndGlyphs\" textLength=\"16\" x=\"157\" y=\"299.1074\">A2</text></a></g><g id=\"E1.E7\"><a href=\"psysml:7b9f6d16-7e81-4d0a-aec9-34a5599243af\" target=\"_top\" title=\"psysml:7b9f6d16-7e81-4d0a-aec9-34a5599243af\" xlink:actuate=\"onRequest\" xlink:href=\"psysml:7b9f6d16-7e81-4d0a-aec9-34a5599243af\" xlink:show=\"new\" xlink:title=\"psysml:7b9f6d16-7e81-4d0a-aec9-34a5599243af\" xlink:type=\"simple\"><rect fill=\"#FFFFFF\" height=\"42.9375\" id=\"E7\" rx=\"10\" ry=\"10\" style=\"stroke: #383838; stroke-width: 1.5;\" width=\"60\" x=\"46\" y=\"66\"/><rect fill=\"#F8F8F8\" height=\"37.9375\" rx=\"10\" ry=\"10\" style=\"stroke: #F8F8F8; stroke-width: 1.5;\" width=\"60\" x=\"46\" y=\"66\"/><rect fill=\"#F8F8F8\" height=\"10\" style=\"stroke: #F8F8F8; stroke-width: 1.5;\" width=\"60\" x=\"46\" y=\"93.9375\"/><rect fill=\"none\" height=\"42.9375\" id=\"E7\" rx=\"10\" ry=\"10\" style=\"stroke: #383838; stroke-width: 1.5;\" width=\"60\" x=\"46\" y=\"66\"/><text fill=\"#000000\" font-family=\"sans-serif\" font-size=\"12\" font-style=\"italic\" lengthAdjust=\"spacingAndGlyphs\" textLength=\"53\" x=\"49.5\" y=\"82.1387\">«action»</text><text fill=\"#000000\" font-family=\"sans-serif\" font-size=\"12\" lengthAdjust=\"spacingAndGlyphs\" textLength=\"16\" x=\"68\" y=\"96.1074\">A3</text></a></g><g id=\"E1.E8\"><a href=\"psysml:7b9f6d16-7e81-4d0a-aec9-34a5599243af\" target=\"_top\" title=\"psysml:7b9f6d16-7e81-4d0a-aec9-34a5599243af\" xlink:actuate=\"onRequest\" xlink:href=\"psysml:7b9f6d16-7e81-4d0a-aec9-34a5599243af\" xlink:show=\"new\" xlink:title=\"psysml:7b9f6d16-7e81-4d0a-aec9-34a5599243af\" xlink:type=\"simple\"><rect fill=\"#FFFFFF\" height=\"42.9375\" id=\"E8\" rx=\"10\" ry=\"10\" style=\"stroke: #383838; stroke-width: 1.5;\" width=\"60\" x=\"246\" y=\"117\"/><rect fill=\"#F8F8F8\" height=\"37.9375\" rx=\"10\" ry=\"10\" style=\"stroke: #F8F8F8; stroke-width: 1.5;\" width=\"60\" x=\"246\" y=\"117\"/><rect fill=\"#F8F8F8\" height=\"10\" style=\"stroke: #F8F8F8; stroke-width: 1.5;\" width=\"60\" x=\"246\" y=\"144.9375\"/><rect fill=\"none\" height=\"42.9375\" id=\"E8\" rx=\"10\" ry=\"10\" style=\"stroke: #383838; stroke-width: 1.5;\" width=\"60\" x=\"246\" y=\"117\"/><text fill=\"#000000\" font-family=\"sans-serif\" font-size=\"12\" font-style=\"italic\" lengthAdjust=\"spacingAndGlyphs\" textLength=\"53\" x=\"249.5\" y=\"133.1387\">«action»</text><text fill=\"#000000\" font-family=\"sans-serif\" font-size=\"12\" lengthAdjust=\"spacingAndGlyphs\" textLength=\"16\" x=\"268\" y=\"147.1074\">A3</text></a></g><!--MD5=[0188b64bb0ae78505a997a81836e11e9]\n",
       "link E3 to E5--><a href=\"psysml:7286f462-e52e-4ebc-bfea-7701f26f76d2\" target=\"_top\" title=\"psysml:7286f462-e52e-4ebc-bfea-7701f26f76d2\" xlink:actuate=\"onRequest\" xlink:href=\"psysml:7286f462-e52e-4ebc-bfea-7701f26f76d2\" xlink:show=\"new\" xlink:title=\"psysml:7286f462-e52e-4ebc-bfea-7701f26f76d2\" xlink:type=\"simple\"><path d=\"M140.07,51.78 C138.47,72.5 136.04,120.67 144,160 C145.92,169.49 149.4,179.47 152.99,188.21 \" fill=\"none\" id=\"E3-&gt;E5\" style=\"stroke: #383838; stroke-width: 1.0; stroke-dasharray: 7.0,7.0;\"/><polygon fill=\"#383838\" points=\"154.98,192.92,155.1631,183.0728,153.0346,188.314,147.7935,186.1855,154.98,192.92\" style=\"stroke: #383838; stroke-width: 1.0;\"/><text fill=\"#000000\" font-family=\"sans-serif\" font-size=\"13\" lengthAdjust=\"spacingAndGlyphs\" textLength=\"55\" x=\"145\" y=\"143.0669\">[x == 1]</text></a><!--MD5=[ec9844e0c75763426927cad3229d1081]\n",
       "link E3 to E6--><a href=\"psysml:e748a59f-80ec-4a6b-adc3-e898091fbade\" target=\"_top\" title=\"psysml:e748a59f-80ec-4a6b-adc3-e898091fbade\" xlink:actuate=\"onRequest\" xlink:href=\"psysml:e748a59f-80ec-4a6b-adc3-e898091fbade\" xlink:show=\"new\" xlink:title=\"psysml:e748a59f-80ec-4a6b-adc3-e898091fbade\" xlink:type=\"simple\"><path d=\"M147.17,46.62 C160.24,57.84 190.71,86.12 205,117 C229.03,168.92 221.32,186.98 226,244 C226.62,251.53 230.06,254.63 226,261 C220.01,270.41 210.02,276.76 199.83,281.03 \" fill=\"none\" id=\"E3-&gt;E6\" style=\"stroke: #383838; stroke-width: 1.0; stroke-dasharray: 7.0,7.0;\"/><polygon fill=\"#383838\" points=\"195.15,282.85,204.9881,283.3102,199.8089,281.035,202.0841,275.8559,195.15,282.85\" style=\"stroke: #383838; stroke-width: 1.0;\"/><text fill=\"#000000\" font-family=\"sans-serif\" font-size=\"13\" lengthAdjust=\"spacingAndGlyphs\" textLength=\"44\" x=\"224\" y=\"181.0669\">[x &gt; 1]</text></a><!--MD5=[ca5a752d6098d8a44b3f88316e7452d1]\n",
       "link E3 to E8--><a href=\"psysml:c4aa7bb1-7be8-4d3d-94c8-0c3feb0dde03\" target=\"_top\" title=\"psysml:c4aa7bb1-7be8-4d3d-94c8-0c3feb0dde03\" xlink:actuate=\"onRequest\" xlink:href=\"psysml:c4aa7bb1-7be8-4d3d-94c8-0c3feb0dde03\" xlink:show=\"new\" xlink:title=\"psysml:c4aa7bb1-7be8-4d3d-94c8-0c3feb0dde03\" xlink:type=\"simple\"><path d=\"M147.65,45.88 C153.56,49.59 162.55,54.81 171,58 C186.34,63.79 195.35,54.47 207,66 C220.94,79.81 204.74,93.68 217,109 C223.18,116.72 231.96,122.48 240.86,126.73 \" fill=\"none\" id=\"E3-&gt;E8\" style=\"stroke: #383838; stroke-width: 1.0; stroke-dasharray: 7.0,7.0;\"/><polygon fill=\"#383838\" points=\"245.81,128.93,239.2251,121.6061,241.2451,126.89,235.9612,128.91,245.81,128.93\" style=\"stroke: #383838; stroke-width: 1.0;\"/></a><!--MD5=[95fa686b5a16158bcdbcaeead89f639b]\n",
       "link E8 to E3--><a href=\"psysml:313c2626-617f-4a85-9d7c-c31cb61d9b9e\" target=\"_top\" title=\"psysml:313c2626-617f-4a85-9d7c-c31cb61d9b9e\" xlink:actuate=\"onRequest\" xlink:href=\"psysml:313c2626-617f-4a85-9d7c-c31cb61d9b9e\" xlink:show=\"new\" xlink:title=\"psysml:313c2626-617f-4a85-9d7c-c31cb61d9b9e\" xlink:type=\"simple\"><path d=\"M253.3,116.74 C250.77,114.19 248.29,111.58 246,109 C230.2,91.18 234.22,78.6 214,66 C197.5,55.72 189.3,64.54 171,58 C164.35,55.62 157.42,51.9 151.89,48.59 \" fill=\"none\" id=\"E8-&gt;E3\" style=\"stroke: #383838; stroke-width: 1.0; stroke-dasharray: 7.0,7.0;\"/><polygon fill=\"#383838\" points=\"147.62,45.95,153.1764,54.0818,151.8744,48.5769,157.3793,47.2748,147.62,45.95\" style=\"stroke: #383838; stroke-width: 1.0;\"/><text fill=\"#000000\" font-family=\"sans-serif\" font-size=\"13\" lengthAdjust=\"spacingAndGlyphs\" textLength=\"44\" x=\"247\" y=\"92.0669\">[x &gt; 0]</text></a><!--MD5=[af87c684e3b0d8be13c1a698a818ef1e]\n",
       "link E3 to E4--><a href=\"psysml:9e59e0cd-e7d6-48f9-8abd-2b6da2cb7bd3\" target=\"_top\" title=\"psysml:9e59e0cd-e7d6-48f9-8abd-2b6da2cb7bd3\" xlink:actuate=\"onRequest\" xlink:href=\"psysml:9e59e0cd-e7d6-48f9-8abd-2b6da2cb7bd3\" xlink:show=\"new\" xlink:title=\"psysml:9e59e0cd-e7d6-48f9-8abd-2b6da2cb7bd3\" xlink:type=\"simple\"><path d=\"M130.87,42.54 C108.03,45.11 53.64,52.54 42,66 C28.37,81.77 29.55,107.42 32.02,123.33 \" fill=\"none\" id=\"E3-&gt;E4\" style=\"stroke: #383838; stroke-width: 1.0; stroke-dasharray: 7.0,7.0;\"/><polygon fill=\"#383838\" points=\"32.88,128.32,35.3057,118.7745,32.0372,123.3915,27.4201,120.1231,32.88,128.32\" style=\"stroke: #383838; stroke-width: 1.0;\"/></a><!--MD5=[1b7591eae5389033d8d09a9d6721a717]\n",
       "link E4 to E5--><a href=\"psysml:7b0b5bc6-fd2d-464d-92f4-1e71099b6f78\" target=\"_top\" title=\"psysml:7b0b5bc6-fd2d-464d-92f4-1e71099b6f78\" xlink:actuate=\"onRequest\" xlink:href=\"psysml:7b0b5bc6-fd2d-464d-92f4-1e71099b6f78\" xlink:show=\"new\" xlink:title=\"psysml:7b0b5bc6-fd2d-464d-92f4-1e71099b6f78\" xlink:type=\"simple\"><path d=\"M40.09,145.69 C48.35,155.37 65.62,174.11 84,185 C93.67,190.73 97.38,189.32 108,193 C115.1,195.46 122.69,198.15 129.93,200.74 \" fill=\"none\" id=\"E4-&gt;E5\" style=\"stroke: #383838; stroke-width: 1.0; stroke-dasharray: 7.0,7.0;\"/><polygon fill=\"#383838\" points=\"134.87,202.52,127.7488,195.7164,130.1636,200.832,125.048,203.2467,134.87,202.52\" style=\"stroke: #383838; stroke-width: 1.0;\"/><text fill=\"#000000\" font-family=\"sans-serif\" font-size=\"13\" lengthAdjust=\"spacingAndGlyphs\" textLength=\"36\" x=\"85\" y=\"181.0669\">[true]</text></a><!--MD5=[79568f1e445c3877b6a54524624ccc7d]\n",
       "link E4 to E6--><a href=\"psysml:2cb1b039-bbb8-4621-9b87-8355478bfab0\" target=\"_top\" title=\"psysml:2cb1b039-bbb8-4621-9b87-8355478bfab0\" xlink:actuate=\"onRequest\" xlink:href=\"psysml:2cb1b039-bbb8-4621-9b87-8355478bfab0\" xlink:show=\"new\" xlink:title=\"psysml:2cb1b039-bbb8-4621-9b87-8355478bfab0\" xlink:type=\"simple\"><path d=\"M36.89,148.77 C41.08,167.27 52.64,209.28 76,236 C90.77,252.89 112.21,266 130.35,275.02 \" fill=\"none\" id=\"E4-&gt;E6\" style=\"stroke: #383838; stroke-width: 1.0; stroke-dasharray: 7.0,7.0;\"/><polygon fill=\"#383838\" points=\"134.88,277.22,128.532,269.6898,130.3825,275.0355,125.0368,276.8859,134.88,277.22\" style=\"stroke: #383838; stroke-width: 1.0;\"/><text fill=\"#000000\" font-family=\"sans-serif\" font-size=\"13\" lengthAdjust=\"spacingAndGlyphs\" textLength=\"40\" x=\"77\" y=\"219.0669\">[false]</text></a><!--MD5=[9120cf2e5df3bff93db8f754bbbc09b4]\n",
       "link E5 to E6--><a href=\"psysml:b49ece63-4bda-4eac-a48b-66e19b9bdab7\" target=\"_top\" title=\"psysml:b49ece63-4bda-4eac-a48b-66e19b9bdab7\" xlink:actuate=\"onRequest\" xlink:href=\"psysml:b49ece63-4bda-4eac-a48b-66e19b9bdab7\" xlink:show=\"new\" xlink:title=\"psysml:b49ece63-4bda-4eac-a48b-66e19b9bdab7\" xlink:type=\"simple\"><path d=\"M165,236.11 C165,244.69 165,254.75 165,263.8 \" fill=\"none\" id=\"E5-&gt;E6\" style=\"stroke: #383838; stroke-width: 1.0; stroke-dasharray: 7.0,7.0;\"/><polygon fill=\"#383838\" points=\"165,269,169,260,165,264,161,260,165,269\" style=\"stroke: #383838; stroke-width: 1.0;\"/><text fill=\"#000000\" font-family=\"sans-serif\" font-size=\"13\" lengthAdjust=\"spacingAndGlyphs\" textLength=\"55\" x=\"166\" y=\"257.0669\">[x == 0]</text></a><!--MD5=[7679ecf0d082713dfbfd828d4649692d]\n",
       "@startuml\r\n",
       "skinparam ranksep 8\r\n",
       "skinparam monochrome true\r\n",
       "skinparam classbackgroundcolor white\r\n",
       "skinparam shadowing false\r\n",
       "skinparam wrapWidth 300\r\n",
       "hide circle\r\n",
       "\r\n",
       "rec def \"DecisionTest\" as E1  <<(T,blue)action def>> [[psysml:3be07126-877a-4309-8447-1e285ef81f95 ]] {\r\n",
       "portout \"$result\" as E2  [[psysml:9348992a-eef4-478a-99a3-8679640e907b ]] \r\n",
       "choice \"test x\" as E3  [[psysml:68020b6f-ffe7-4b5f-b810-1edcbdd08af0 ]] \r\n",
       "choice \"noname\" as E4  [[psysml:c53ed86d-7fd9-4daa-81a5-a3aaa8a48fdd ]] \r\n",
       "rec usage \"A1\" as E5  <<(T,blue)action>> [[psysml:0f40ea9b-adac-4a33-8b1a-34d15e55e3d2 ]] {\r\n",
       "}\r\n",
       "\r\n",
       "rec usage \"A2\" as E6  <<(T,blue)action>> [[psysml:128661ee-6ef6-488f-adc9-4acba814b00a ]] {\r\n",
       "}\r\n",
       "\r\n",
       "rec usage \"A3\" as E7  <<(T,blue)action>> [[psysml:7b9f6d16-7e81-4d0a-aec9-34a5599243af ]] {\r\n",
       "}\r\n",
       "\r\n",
       "rec usage \"A3\" as E8  <<(T,blue)action>> [[psysml:7b9f6d16-7e81-4d0a-aec9-34a5599243af ]] {\r\n",
       "}\r\n",
       "\r\n",
       "}\r\n",
       "\r\n",
       "E3 ..> E5 [[psysml:7286f462-e52e-4ebc-bfea-7701f26f76d2 ]] : [x == 1]\r\n",
       "E3 ..> E6 [[psysml:e748a59f-80ec-4a6b-adc3-e898091fbade ]] : [x > 1]\r\n",
       "E3 ..> E8 [[psysml:c4aa7bb1-7be8-4d3d-94c8-0c3feb0dde03 ]] \r\n",
       "E3 ..> E4 [[psysml:9e59e0cd-e7d6-48f9-8abd-2b6da2cb7bd3 ]] \r\n",
       "E4 ..> E5 [[psysml:7b0b5bc6-fd2d-464d-92f4-1e71099b6f78 ]] : [true]\r\n",
       "E4 ..> E6 [[psysml:2cb1b039-bbb8-4621-9b87-8355478bfab0 ]] : [false]\r\n",
       "E5 ..> E6 [[psysml:b49ece63-4bda-4eac-a48b-66e19b9bdab7 ]] : [x == 0]\r\n",
       "E8 ..> E3 [[psysml:313c2626-617f-4a85-9d7c-c31cb61d9b9e ]] : [x > 0]\r\n",
       "@enduml\r\n",
       "\n",
       "PlantUML version 1.2020.13(Sat Jun 13 12:26:38 UTC 2020)\n",
       "(EPL source distribution)\n",
       "Java Runtime: OpenJDK Runtime Environment\n",
       "JVM: OpenJDK 64-Bit Server VM\n",
       "Default Encoding: UTF-8\n",
       "Language: en\n",
       "Country: null\n",
       "--></g></svg>"
      ]
     },
     "execution_count": 41,
     "metadata": {},
     "output_type": "execute_result"
    }
   ],
   "source": [
    "%viz --style=\"DEFAULT\" --view=\"Action\" \"DecisionTest\""
   ]
  },
  {
   "cell_type": "code",
   "execution_count": 42,
   "id": "f664e0fe",
   "metadata": {
    "execution": {
     "iopub.execute_input": "2021-05-27T06:09:54.914635Z",
     "iopub.status.busy": "2021-05-27T06:09:54.913847Z",
     "iopub.status.idle": "2021-05-27T06:09:54.983094Z",
     "shell.execute_reply": "2021-05-27T06:09:54.982793Z"
    }
   },
   "outputs": [
    {
     "data": {
      "image/svg+xml": [
       "<?xml version=\"1.0\" encoding=\"UTF-8\" standalone=\"no\"?><svg xmlns=\"http://www.w3.org/2000/svg\" xmlns:xlink=\"http://www.w3.org/1999/xlink\" contentScriptType=\"application/ecmascript\" contentStyleType=\"text/css\" height=\"207px\" preserveAspectRatio=\"none\" style=\"width:109px;height:207px;\" version=\"1.1\" viewBox=\"0 0 109 207\" width=\"109px\" zoomAndPan=\"magnify\"><defs/><g><!--MD5=[43c9051892ef23e1a46a86907403d788]\n",
       "class E1--><a href=\"psysml:3be07126-877a-4309-8447-1e285ef81f95\" target=\"_top\" title=\"psysml:3be07126-877a-4309-8447-1e285ef81f95\" xlink:actuate=\"onRequest\" xlink:href=\"psysml:3be07126-877a-4309-8447-1e285ef81f95\" xlink:show=\"new\" xlink:title=\"psysml:3be07126-877a-4309-8447-1e285ef81f95\" xlink:type=\"simple\"><rect fill=\"#FFFFFF\" height=\"189.9844\" id=\"E1\" style=\"stroke: #383838; stroke-width: 1.5;\" width=\"91\" x=\"7\" y=\"7\"/><text fill=\"#000000\" font-family=\"sans-serif\" font-size=\"12\" font-style=\"italic\" lengthAdjust=\"spacingAndGlyphs\" textLength=\"77\" x=\"14\" y=\"23.1387\">«action def»</text><text fill=\"#000000\" font-family=\"sans-serif\" font-size=\"12\" lengthAdjust=\"spacingAndGlyphs\" textLength=\"80\" x=\"12.5\" y=\"37.1074\">DecisionTest</text><line style=\"stroke: #383838; stroke-width: 1.5;\" x1=\"8\" x2=\"97\" y1=\"44.9375\" y2=\"44.9375\"/><text fill=\"#000000\" font-family=\"sans-serif\" font-size=\"11\" lengthAdjust=\"spacingAndGlyphs\" textLength=\"26\" x=\"13\" y=\"75.9526\">x=1;</text><line style=\"stroke: #383838; stroke-width: 1.0;\" x1=\"8\" x2=\"25\" y1=\"59.3398\" y2=\"59.3398\"/><text fill=\"#000000\" font-family=\"sans-serif\" font-size=\"11\" lengthAdjust=\"spacingAndGlyphs\" textLength=\"55\" x=\"25\" y=\"62.6479\">attributes</text><line style=\"stroke: #383838; stroke-width: 1.0;\" x1=\"80\" x2=\"97\" y1=\"59.3398\" y2=\"59.3398\"/><text fill=\"#000000\" font-family=\"sans-serif\" font-size=\"11\" lengthAdjust=\"spacingAndGlyphs\" textLength=\"14\" x=\"13\" y=\"105.562\">A1</text><text fill=\"#000000\" font-family=\"sans-serif\" font-size=\"11\" lengthAdjust=\"spacingAndGlyphs\" textLength=\"14\" x=\"13\" y=\"118.3667\">A2</text><text fill=\"#000000\" font-family=\"sans-serif\" font-size=\"11\" lengthAdjust=\"spacingAndGlyphs\" textLength=\"14\" x=\"13\" y=\"131.1714\">A3</text><line style=\"stroke: #383838; stroke-width: 1.0;\" x1=\"8\" x2=\"32\" y1=\"88.9492\" y2=\"88.9492\"/><text fill=\"#000000\" font-family=\"sans-serif\" font-size=\"11\" lengthAdjust=\"spacingAndGlyphs\" textLength=\"41\" x=\"32\" y=\"92.2573\">actions</text><line style=\"stroke: #383838; stroke-width: 1.0;\" x1=\"73\" x2=\"97\" y1=\"88.9492\" y2=\"88.9492\"/><text fill=\"#000000\" font-family=\"sans-serif\" font-size=\"11\" lengthAdjust=\"spacingAndGlyphs\" textLength=\"32\" x=\"13\" y=\"160.7808\">test x</text><line style=\"stroke: #383838; stroke-width: 1.0;\" x1=\"8\" x2=\"11\" y1=\"144.168\" y2=\"144.168\"/><text fill=\"#000000\" font-family=\"sans-serif\" font-size=\"11\" lengthAdjust=\"spacingAndGlyphs\" textLength=\"83\" x=\"11\" y=\"147.4761\">decisionNodes</text><line style=\"stroke: #383838; stroke-width: 1.0;\" x1=\"94\" x2=\"97\" y1=\"144.168\" y2=\"144.168\"/><text fill=\"#000000\" font-family=\"sans-serif\" font-size=\"11\" lengthAdjust=\"spacingAndGlyphs\" textLength=\"8\" x=\"13\" y=\"190.3901\">S</text><line style=\"stroke: #383838; stroke-width: 1.0;\" x1=\"8\" x2=\"22\" y1=\"173.7773\" y2=\"173.7773\"/><text fill=\"#000000\" font-family=\"sans-serif\" font-size=\"11\" lengthAdjust=\"spacingAndGlyphs\" textLength=\"61\" x=\"22\" y=\"177.0854\">transitions</text><line style=\"stroke: #383838; stroke-width: 1.0;\" x1=\"83\" x2=\"97\" y1=\"173.7773\" y2=\"173.7773\"/></a><!--MD5=[a94b64030cc7363d9ba1687b23b5f7d8]\n",
       "@startuml\r\n",
       "skinparam monochrome true\r\n",
       "skinparam classbackgroundcolor white\r\n",
       "skinparam shadowing false\r\n",
       "skinparam wrapWidth 300\r\n",
       "hide circle\r\n",
       "\r\n",
       "comp def \"DecisionTest\" as E1  <<(T,blue)action def>> [[psysml:3be07126-877a-4309-8447-1e285ef81f95 ]] {\r\n",
       "- - attributes - -\r\n",
       "x=1; \r\n",
       "- - actions - -\r\n",
       "A1\r\n",
       "A2\r\n",
       "A3\r\n",
       "- - decisionNodes - -\r\n",
       "test x\r\n",
       "- - transitions - -\r\n",
       "S\r\n",
       "}\r\n",
       "@enduml\r\n",
       "\n",
       "PlantUML version 1.2020.13(Sat Jun 13 12:26:38 UTC 2020)\n",
       "(EPL source distribution)\n",
       "Java Runtime: OpenJDK Runtime Environment\n",
       "JVM: OpenJDK 64-Bit Server VM\n",
       "Default Encoding: UTF-8\n",
       "Language: en\n",
       "Country: null\n",
       "--></g></svg>"
      ]
     },
     "execution_count": 42,
     "metadata": {},
     "output_type": "execute_result"
    }
   ],
   "source": [
    "%viz --style=\"DEFAULT\" --view=\"Sequence\" \"DecisionTest\""
   ]
  },
  {
   "cell_type": "code",
   "execution_count": 43,
   "id": "ce7e3cc8",
   "metadata": {
    "execution": {
     "iopub.execute_input": "2021-05-27T06:09:55.034728Z",
     "iopub.status.busy": "2021-05-27T06:09:55.034009Z",
     "iopub.status.idle": "2021-05-27T06:09:55.067780Z",
     "shell.execute_reply": "2021-05-27T06:09:55.066512Z"
    }
   },
   "outputs": [
    {
     "data": {
      "image/svg+xml": [
       "<?xml version=\"1.0\" encoding=\"UTF-8\" standalone=\"no\"?><svg xmlns=\"http://www.w3.org/2000/svg\" xmlns:xlink=\"http://www.w3.org/1999/xlink\" contentScriptType=\"application/ecmascript\" contentStyleType=\"text/css\" height=\"574px\" preserveAspectRatio=\"none\" style=\"width:333px;height:574px;\" version=\"1.1\" viewBox=\"0 0 333 574\" width=\"333px\" zoomAndPan=\"magnify\"><defs/><g><!--MD5=[fbc87193dbaf4d95561dea2c320d4a47]\n",
       "cluster E1--><a href=\"psysml:3be07126-877a-4309-8447-1e285ef81f95\" target=\"_top\" title=\"psysml:3be07126-877a-4309-8447-1e285ef81f95\" xlink:actuate=\"onRequest\" xlink:href=\"psysml:3be07126-877a-4309-8447-1e285ef81f95\" xlink:show=\"new\" xlink:title=\"psysml:3be07126-877a-4309-8447-1e285ef81f95\" xlink:type=\"simple\"><rect fill=\"#FFFFFF\" height=\"534.72\" id=\"E1\" style=\"stroke: #383838; stroke-width: 1.5;\" width=\"315\" x=\"7\" y=\"7\"/><rect fill=\"#F8F8F8\" height=\"37.9375\" style=\"stroke: #383838; stroke-width: 1.5;\" width=\"315\" x=\"7\" y=\"7\"/><text fill=\"#000000\" font-family=\"sans-serif\" font-size=\"12\" font-style=\"italic\" lengthAdjust=\"spacingAndGlyphs\" textLength=\"77\" x=\"126\" y=\"23.1387\">«action def»</text><text fill=\"#000000\" font-family=\"sans-serif\" font-size=\"12\" lengthAdjust=\"spacingAndGlyphs\" textLength=\"80\" x=\"124.5\" y=\"37.1074\">DecisionTest</text></a><text fill=\"#000000\" font-family=\"sans-serif\" font-size=\"14\" lengthAdjust=\"spacingAndGlyphs\" textLength=\"48\" x=\"140\" y=\"560.7151\">$result</text><rect fill=\"#383838\" height=\"12\" style=\"stroke: #F8F8F8; stroke-width: 1.5;\" width=\"12\" x=\"158\" y=\"535.72\"/><polygon fill=\"#F8F8F8\" points=\"141,28.5,153,40.5,141,52.5,129,40.5,141,28.5\" style=\"stroke: #383838; stroke-width: 1.5;\"/><polygon fill=\"#F8F8F8\" points=\"35,170.5,47,182.5,35,194.5,23,182.5,35,170.5\" style=\"stroke: #383838; stroke-width: 1.5;\"/><g id=\"E1.E5\"><a href=\"psysml:0f40ea9b-adac-4a33-8b1a-34d15e55e3d2\" target=\"_top\" title=\"psysml:0f40ea9b-adac-4a33-8b1a-34d15e55e3d2\" xlink:actuate=\"onRequest\" xlink:href=\"psysml:0f40ea9b-adac-4a33-8b1a-34d15e55e3d2\" xlink:show=\"new\" xlink:title=\"psysml:0f40ea9b-adac-4a33-8b1a-34d15e55e3d2\" xlink:type=\"simple\"><rect fill=\"#FFFFFF\" height=\"42.9375\" id=\"E5\" rx=\"10\" ry=\"10\" style=\"stroke: #383838; stroke-width: 1.5;\" width=\"60\" x=\"135\" y=\"281\"/><rect fill=\"#F8F8F8\" height=\"37.9375\" rx=\"10\" ry=\"10\" style=\"stroke: #F8F8F8; stroke-width: 1.5;\" width=\"60\" x=\"135\" y=\"281\"/><rect fill=\"#F8F8F8\" height=\"10\" style=\"stroke: #F8F8F8; stroke-width: 1.5;\" width=\"60\" x=\"135\" y=\"308.9375\"/><rect fill=\"none\" height=\"42.9375\" id=\"E5\" rx=\"10\" ry=\"10\" style=\"stroke: #383838; stroke-width: 1.5;\" width=\"60\" x=\"135\" y=\"281\"/><text fill=\"#000000\" font-family=\"sans-serif\" font-size=\"12\" font-style=\"italic\" lengthAdjust=\"spacingAndGlyphs\" textLength=\"53\" x=\"138.5\" y=\"297.1387\">«action»</text><text fill=\"#000000\" font-family=\"sans-serif\" font-size=\"12\" lengthAdjust=\"spacingAndGlyphs\" textLength=\"16\" x=\"157\" y=\"311.1074\">A1</text></a></g><g id=\"E1.E6\"><a href=\"psysml:128661ee-6ef6-488f-adc9-4acba814b00a\" target=\"_top\" title=\"psysml:128661ee-6ef6-488f-adc9-4acba814b00a\" xlink:actuate=\"onRequest\" xlink:href=\"psysml:128661ee-6ef6-488f-adc9-4acba814b00a\" xlink:show=\"new\" xlink:title=\"psysml:128661ee-6ef6-488f-adc9-4acba814b00a\" xlink:type=\"simple\"><rect fill=\"#FFFFFF\" height=\"42.9375\" id=\"E6\" rx=\"10\" ry=\"10\" style=\"stroke: #383838; stroke-width: 1.5;\" width=\"60\" x=\"135\" y=\"401\"/><rect fill=\"#F8F8F8\" height=\"37.9375\" rx=\"10\" ry=\"10\" style=\"stroke: #F8F8F8; stroke-width: 1.5;\" width=\"60\" x=\"135\" y=\"401\"/><rect fill=\"#F8F8F8\" height=\"10\" style=\"stroke: #F8F8F8; stroke-width: 1.5;\" width=\"60\" x=\"135\" y=\"428.9375\"/><rect fill=\"none\" height=\"42.9375\" id=\"E6\" rx=\"10\" ry=\"10\" style=\"stroke: #383838; stroke-width: 1.5;\" width=\"60\" x=\"135\" y=\"401\"/><text fill=\"#000000\" font-family=\"sans-serif\" font-size=\"12\" font-style=\"italic\" lengthAdjust=\"spacingAndGlyphs\" textLength=\"53\" x=\"138.5\" y=\"417.1387\">«action»</text><text fill=\"#000000\" font-family=\"sans-serif\" font-size=\"12\" lengthAdjust=\"spacingAndGlyphs\" textLength=\"16\" x=\"157\" y=\"431.1074\">A2</text></a></g><g id=\"E1.E7\"><a href=\"psysml:7b9f6d16-7e81-4d0a-aec9-34a5599243af\" target=\"_top\" title=\"psysml:7b9f6d16-7e81-4d0a-aec9-34a5599243af\" xlink:actuate=\"onRequest\" xlink:href=\"psysml:7b9f6d16-7e81-4d0a-aec9-34a5599243af\" xlink:show=\"new\" xlink:title=\"psysml:7b9f6d16-7e81-4d0a-aec9-34a5599243af\" xlink:type=\"simple\"><rect fill=\"#FFFFFF\" height=\"42.9375\" id=\"E7\" rx=\"10\" ry=\"10\" style=\"stroke: #383838; stroke-width: 1.5;\" width=\"60\" x=\"46\" y=\"88\"/><rect fill=\"#F8F8F8\" height=\"37.9375\" rx=\"10\" ry=\"10\" style=\"stroke: #F8F8F8; stroke-width: 1.5;\" width=\"60\" x=\"46\" y=\"88\"/><rect fill=\"#F8F8F8\" height=\"10\" style=\"stroke: #F8F8F8; stroke-width: 1.5;\" width=\"60\" x=\"46\" y=\"115.9375\"/><rect fill=\"none\" height=\"42.9375\" id=\"E7\" rx=\"10\" ry=\"10\" style=\"stroke: #383838; stroke-width: 1.5;\" width=\"60\" x=\"46\" y=\"88\"/><text fill=\"#000000\" font-family=\"sans-serif\" font-size=\"12\" font-style=\"italic\" lengthAdjust=\"spacingAndGlyphs\" textLength=\"53\" x=\"49.5\" y=\"104.1387\">«action»</text><text fill=\"#000000\" font-family=\"sans-serif\" font-size=\"12\" lengthAdjust=\"spacingAndGlyphs\" textLength=\"16\" x=\"68\" y=\"118.1074\">A3</text></a></g><g id=\"E1.E8\"><a href=\"psysml:7b9f6d16-7e81-4d0a-aec9-34a5599243af\" target=\"_top\" title=\"psysml:7b9f6d16-7e81-4d0a-aec9-34a5599243af\" xlink:actuate=\"onRequest\" xlink:href=\"psysml:7b9f6d16-7e81-4d0a-aec9-34a5599243af\" xlink:show=\"new\" xlink:title=\"psysml:7b9f6d16-7e81-4d0a-aec9-34a5599243af\" xlink:type=\"simple\"><rect fill=\"#FFFFFF\" height=\"42.9375\" id=\"E8\" rx=\"10\" ry=\"10\" style=\"stroke: #383838; stroke-width: 1.5;\" width=\"60\" x=\"246\" y=\"161\"/><rect fill=\"#F8F8F8\" height=\"37.9375\" rx=\"10\" ry=\"10\" style=\"stroke: #F8F8F8; stroke-width: 1.5;\" width=\"60\" x=\"246\" y=\"161\"/><rect fill=\"#F8F8F8\" height=\"10\" style=\"stroke: #F8F8F8; stroke-width: 1.5;\" width=\"60\" x=\"246\" y=\"188.9375\"/><rect fill=\"none\" height=\"42.9375\" id=\"E8\" rx=\"10\" ry=\"10\" style=\"stroke: #383838; stroke-width: 1.5;\" width=\"60\" x=\"246\" y=\"161\"/><text fill=\"#000000\" font-family=\"sans-serif\" font-size=\"12\" font-style=\"italic\" lengthAdjust=\"spacingAndGlyphs\" textLength=\"53\" x=\"249.5\" y=\"177.1387\">«action»</text><text fill=\"#000000\" font-family=\"sans-serif\" font-size=\"12\" lengthAdjust=\"spacingAndGlyphs\" textLength=\"16\" x=\"268\" y=\"191.1074\">A3</text></a></g><!--MD5=[0188b64bb0ae78505a997a81836e11e9]\n",
       "link E3 to E5--><a href=\"psysml:7286f462-e52e-4ebc-bfea-7701f26f76d2\" target=\"_top\" title=\"psysml:7286f462-e52e-4ebc-bfea-7701f26f76d2\" xlink:actuate=\"onRequest\" xlink:href=\"psysml:7286f462-e52e-4ebc-bfea-7701f26f76d2\" xlink:show=\"new\" xlink:title=\"psysml:7286f462-e52e-4ebc-bfea-7701f26f76d2\" xlink:type=\"simple\"><path d=\"M140.49,52.19 C139.39,78.26 137.41,147.1 144,204 C146.84,228.53 153.03,255.98 157.96,275.49 \" fill=\"none\" id=\"E3-&gt;E5\" style=\"stroke: #383838; stroke-width: 1.0;\"/><polygon fill=\"#383838\" points=\"159.31,280.77,160.9741,271.0627,158.0805,275.9235,153.2197,273.0299,159.31,280.77\" style=\"stroke: #383838; stroke-width: 1.0;\"/><text fill=\"#000000\" font-family=\"sans-serif\" font-size=\"13\" lengthAdjust=\"spacingAndGlyphs\" textLength=\"55\" x=\"145\" y=\"187.0669\">[x == 1]</text></a><!--MD5=[ec9844e0c75763426927cad3229d1081]\n",
       "link E3 to E6--><a href=\"psysml:e748a59f-80ec-4a6b-adc3-e898091fbade\" target=\"_top\" title=\"psysml:e748a59f-80ec-4a6b-adc3-e898091fbade\" xlink:actuate=\"onRequest\" xlink:href=\"psysml:e748a59f-80ec-4a6b-adc3-e898091fbade\" xlink:show=\"new\" xlink:title=\"psysml:e748a59f-80ec-4a6b-adc3-e898091fbade\" xlink:type=\"simple\"><path d=\"M145.73,48.09 C157.96,65.53 190.67,114.68 205,161 C230.5,243.43 221.33,267.84 226,354 C226.41,361.54 229.22,364.16 226,371 C220.27,383.19 209.98,393.45 199.48,401.47 \" fill=\"none\" id=\"E3-&gt;E6\" style=\"stroke: #383838; stroke-width: 1.0;\"/><polygon fill=\"#383838\" points=\"195.29,404.54,204.9073,402.4168,199.3138,401.5721,200.1586,395.9786,195.29,404.54\" style=\"stroke: #383838; stroke-width: 1.0;\"/><text fill=\"#000000\" font-family=\"sans-serif\" font-size=\"13\" lengthAdjust=\"spacingAndGlyphs\" textLength=\"44\" x=\"223\" y=\"247.0669\">[x &gt; 1]</text></a><!--MD5=[ca5a752d6098d8a44b3f88316e7452d1]\n",
       "link E3 to E8--><a href=\"psysml:c4aa7bb1-7be8-4d3d-94c8-0c3feb0dde03\" target=\"_top\" title=\"psysml:c4aa7bb1-7be8-4d3d-94c8-0c3feb0dde03\" xlink:actuate=\"onRequest\" xlink:href=\"psysml:c4aa7bb1-7be8-4d3d-94c8-0c3feb0dde03\" xlink:show=\"new\" xlink:title=\"psysml:c4aa7bb1-7be8-4d3d-94c8-0c3feb0dde03\" xlink:type=\"simple\"><path d=\"M147.97,45.53 C163.29,54.53 199.17,76.37 207,88 C217.96,104.27 206.82,114.23 217,131 C223.37,141.49 232.66,150.9 242,158.68 \" fill=\"none\" id=\"E3-&gt;E8\" style=\"stroke: #383838; stroke-width: 1.0;\"/><polygon fill=\"#383838\" points=\"246,161.91,241.5179,153.1401,242.1124,158.7657,236.4869,159.3602,246,161.91\" style=\"stroke: #383838; stroke-width: 1.0;\"/></a><!--MD5=[95fa686b5a16158bcdbcaeead89f639b]\n",
       "link E8 to E3--><a href=\"psysml:313c2626-617f-4a85-9d7c-c31cb61d9b9e\" target=\"_top\" title=\"psysml:313c2626-617f-4a85-9d7c-c31cb61d9b9e\" xlink:actuate=\"onRequest\" xlink:href=\"psysml:313c2626-617f-4a85-9d7c-c31cb61d9b9e\" xlink:show=\"new\" xlink:title=\"psysml:313c2626-617f-4a85-9d7c-c31cb61d9b9e\" xlink:type=\"simple\"><path d=\"M263.71,160.86 C249.28,137.02 225.81,99.6 214,88 C204.2,78.38 171.17,58.79 153.08,48.37 \" fill=\"none\" id=\"E8-&gt;E3\" style=\"stroke: #383838; stroke-width: 1.0;\"/><polygon fill=\"#383838\" points=\"148.41,45.69,154.234,53.6323,152.7495,48.1738,158.208,46.6892,148.41,45.69\" style=\"stroke: #383838; stroke-width: 1.0;\"/><text fill=\"#000000\" font-family=\"sans-serif\" font-size=\"13\" lengthAdjust=\"spacingAndGlyphs\" textLength=\"44\" x=\"244\" y=\"114.0669\">[x &gt; 0]</text></a><!--MD5=[af87c684e3b0d8be13c1a698a818ef1e]\n",
       "link E3 to E4--><a href=\"psysml:9e59e0cd-e7d6-48f9-8abd-2b6da2cb7bd3\" target=\"_top\" title=\"psysml:9e59e0cd-e7d6-48f9-8abd-2b6da2cb7bd3\" xlink:actuate=\"onRequest\" xlink:href=\"psysml:9e59e0cd-e7d6-48f9-8abd-2b6da2cb7bd3\" xlink:show=\"new\" xlink:title=\"psysml:9e59e0cd-e7d6-48f9-8abd-2b6da2cb7bd3\" xlink:type=\"simple\"><path d=\"M131.03,42.86 C110.41,46.26 63.22,57.19 42,88 C25.54,111.89 28.61,147.84 31.99,167.47 \" fill=\"none\" id=\"E3-&gt;E4\" style=\"stroke: #383838; stroke-width: 1.0;\"/><polygon fill=\"#383838\" points=\"32.94,172.56,35.2263,162.9802,32.0255,167.6443,27.3613,164.4435,32.94,172.56\" style=\"stroke: #383838; stroke-width: 1.0;\"/></a><!--MD5=[1b7591eae5389033d8d09a9d6721a717]\n",
       "link E4 to E5--><a href=\"psysml:7b0b5bc6-fd2d-464d-92f4-1e71099b6f78\" target=\"_top\" title=\"psysml:7b0b5bc6-fd2d-464d-92f4-1e71099b6f78\" xlink:actuate=\"onRequest\" xlink:href=\"psysml:7b0b5bc6-fd2d-464d-92f4-1e71099b6f78\" xlink:show=\"new\" xlink:title=\"psysml:7b0b5bc6-fd2d-464d-92f4-1e71099b6f78\" xlink:type=\"simple\"><path d=\"M39.08,190.91 C46.63,204.15 63.87,232.24 84,251 C97.73,263.8 115.17,275.16 130.35,283.85 \" fill=\"none\" id=\"E4-&gt;E5\" style=\"stroke: #383838; stroke-width: 1.0;\"/><polygon fill=\"#383838\" points=\"134.98,286.46,129.0858,278.5696,130.6187,284.0148,125.1735,285.5477,134.98,286.46\" style=\"stroke: #383838; stroke-width: 1.0;\"/><text fill=\"#000000\" font-family=\"sans-serif\" font-size=\"13\" lengthAdjust=\"spacingAndGlyphs\" textLength=\"36\" x=\"85\" y=\"247.0669\">[true]</text></a><!--MD5=[79568f1e445c3877b6a54524624ccc7d]\n",
       "link E4 to E6--><a href=\"psysml:2cb1b039-bbb8-4621-9b87-8355478bfab0\" target=\"_top\" title=\"psysml:2cb1b039-bbb8-4621-9b87-8355478bfab0\" xlink:actuate=\"onRequest\" xlink:href=\"psysml:2cb1b039-bbb8-4621-9b87-8355478bfab0\" xlink:show=\"new\" xlink:title=\"psysml:2cb1b039-bbb8-4621-9b87-8355478bfab0\" xlink:type=\"simple\"><path d=\"M36.3,193.29 C39.76,217.03 50.73,279.03 76,324 C91.89,352.29 117.42,379.1 137.07,397.43 \" fill=\"none\" id=\"E4-&gt;E6\" style=\"stroke: #383838; stroke-width: 1.0;\"/><polygon fill=\"#383838\" points=\"140.92,400.98,137.0155,391.9382,137.2443,397.5904,131.5921,397.8192,140.92,400.98\" style=\"stroke: #383838; stroke-width: 1.0;\"/><text fill=\"#000000\" font-family=\"sans-serif\" font-size=\"13\" lengthAdjust=\"spacingAndGlyphs\" textLength=\"40\" x=\"77\" y=\"307.0669\">[false]</text></a><!--MD5=[9120cf2e5df3bff93db8f754bbbc09b4]\n",
       "link E5 to E6--><a href=\"psysml:b49ece63-4bda-4eac-a48b-66e19b9bdab7\" target=\"_top\" title=\"psysml:b49ece63-4bda-4eac-a48b-66e19b9bdab7\" xlink:actuate=\"onRequest\" xlink:href=\"psysml:b49ece63-4bda-4eac-a48b-66e19b9bdab7\" xlink:show=\"new\" xlink:title=\"psysml:b49ece63-4bda-4eac-a48b-66e19b9bdab7\" xlink:type=\"simple\"><path d=\"M165,324.05 C165,343.9 165,374.02 165,395.52 \" fill=\"none\" id=\"E5-&gt;E6\" style=\"stroke: #383838; stroke-width: 1.0;\"/><polygon fill=\"#383838\" points=\"165,400.79,169,391.79,165,395.79,161,391.79,165,400.79\" style=\"stroke: #383838; stroke-width: 1.0;\"/><text fill=\"#000000\" font-family=\"sans-serif\" font-size=\"13\" lengthAdjust=\"spacingAndGlyphs\" textLength=\"55\" x=\"166\" y=\"367.0669\">[x == 0]</text></a><!--MD5=[b63e1e1f8815f281b8fee16af844ec2f]\n",
       "@startuml\r\n",
       "skinparam monochrome true\r\n",
       "skinparam classbackgroundcolor white\r\n",
       "skinparam shadowing false\r\n",
       "skinparam wrapWidth 300\r\n",
       "hide circle\r\n",
       "\r\n",
       "rec def \"DecisionTest\" as E1  <<(T,blue)action def>> [[psysml:3be07126-877a-4309-8447-1e285ef81f95 ]] {\r\n",
       "portout \"$result\" as E2  [[psysml:9348992a-eef4-478a-99a3-8679640e907b ]] \r\n",
       "choice \"test x\" as E3  [[psysml:68020b6f-ffe7-4b5f-b810-1edcbdd08af0 ]] \r\n",
       "choice \"noname\" as E4  [[psysml:c53ed86d-7fd9-4daa-81a5-a3aaa8a48fdd ]] \r\n",
       "rec usage \"A1\" as E5  <<(T,blue)action>> [[psysml:0f40ea9b-adac-4a33-8b1a-34d15e55e3d2 ]] {\r\n",
       "}\r\n",
       "\r\n",
       "rec usage \"A2\" as E6  <<(T,blue)action>> [[psysml:128661ee-6ef6-488f-adc9-4acba814b00a ]] {\r\n",
       "}\r\n",
       "\r\n",
       "rec usage \"A3\" as E7  <<(T,blue)action>> [[psysml:7b9f6d16-7e81-4d0a-aec9-34a5599243af ]] {\r\n",
       "}\r\n",
       "\r\n",
       "rec usage \"A3\" as E8  <<(T,blue)action>> [[psysml:7b9f6d16-7e81-4d0a-aec9-34a5599243af ]] {\r\n",
       "}\r\n",
       "\r\n",
       "}\r\n",
       "\r\n",
       "E3  - -> E5 [[psysml:7286f462-e52e-4ebc-bfea-7701f26f76d2 ]] : [x == 1]\r\n",
       "E3  - -> E6 [[psysml:e748a59f-80ec-4a6b-adc3-e898091fbade ]] : [x > 1]\r\n",
       "E3  - -> E8 [[psysml:c4aa7bb1-7be8-4d3d-94c8-0c3feb0dde03 ]] \r\n",
       "E3 - -> E4 [[psysml:9e59e0cd-e7d6-48f9-8abd-2b6da2cb7bd3 ]] \r\n",
       "E4  - -> E5 [[psysml:7b0b5bc6-fd2d-464d-92f4-1e71099b6f78 ]] : [true]\r\n",
       "E4  - -> E6 [[psysml:2cb1b039-bbb8-4621-9b87-8355478bfab0 ]] : [false]\r\n",
       "E5  - -> E6 [[psysml:b49ece63-4bda-4eac-a48b-66e19b9bdab7 ]] : [x == 0]\r\n",
       "E8  - -> E3 [[psysml:313c2626-617f-4a85-9d7c-c31cb61d9b9e ]] : [x > 0]\r\n",
       "@enduml\r\n",
       "\n",
       "PlantUML version 1.2020.13(Sat Jun 13 12:26:38 UTC 2020)\n",
       "(EPL source distribution)\n",
       "Java Runtime: OpenJDK Runtime Environment\n",
       "JVM: OpenJDK 64-Bit Server VM\n",
       "Default Encoding: UTF-8\n",
       "Language: en\n",
       "Country: null\n",
       "--></g></svg>"
      ]
     },
     "execution_count": 43,
     "metadata": {},
     "output_type": "execute_result"
    }
   ],
   "source": [
    "%viz --style=\"DEFAULT\" --view=\"MIXED\" \"DecisionTest\""
   ]
  },
  {
   "cell_type": "code",
   "execution_count": 44,
   "id": "7746d15a",
   "metadata": {
    "execution": {
     "iopub.execute_input": "2021-05-27T06:09:55.118101Z",
     "iopub.status.busy": "2021-05-27T06:09:55.117738Z",
     "iopub.status.idle": "2021-05-27T06:09:55.148807Z",
     "shell.execute_reply": "2021-05-27T06:09:55.147393Z"
    }
   },
   "outputs": [
    {
     "data": {
      "image/svg+xml": [
       "<?xml version=\"1.0\" encoding=\"UTF-8\" standalone=\"no\"?><svg xmlns=\"http://www.w3.org/2000/svg\" xmlns:xlink=\"http://www.w3.org/1999/xlink\" contentScriptType=\"application/ecmascript\" contentStyleType=\"text/css\" height=\"574px\" preserveAspectRatio=\"none\" style=\"width:333px;height:574px;\" version=\"1.1\" viewBox=\"0 0 333 574\" width=\"333px\" zoomAndPan=\"magnify\"><defs/><g><!--MD5=[fbc87193dbaf4d95561dea2c320d4a47]\n",
       "cluster E1--><a href=\"psysml:3be07126-877a-4309-8447-1e285ef81f95\" target=\"_top\" title=\"psysml:3be07126-877a-4309-8447-1e285ef81f95\" xlink:actuate=\"onRequest\" xlink:href=\"psysml:3be07126-877a-4309-8447-1e285ef81f95\" xlink:show=\"new\" xlink:title=\"psysml:3be07126-877a-4309-8447-1e285ef81f95\" xlink:type=\"simple\"><rect fill=\"#FFFFFF\" height=\"534.72\" id=\"E1\" style=\"stroke: #383838; stroke-width: 1.5;\" width=\"315\" x=\"7\" y=\"7\"/><rect fill=\"#F8F8F8\" height=\"37.9375\" style=\"stroke: #383838; stroke-width: 1.5;\" width=\"315\" x=\"7\" y=\"7\"/><text fill=\"#000000\" font-family=\"sans-serif\" font-size=\"12\" font-style=\"italic\" lengthAdjust=\"spacingAndGlyphs\" textLength=\"77\" x=\"126\" y=\"23.1387\">«action def»</text><text fill=\"#000000\" font-family=\"sans-serif\" font-size=\"12\" lengthAdjust=\"spacingAndGlyphs\" textLength=\"80\" x=\"124.5\" y=\"37.1074\">DecisionTest</text></a><text fill=\"#000000\" font-family=\"sans-serif\" font-size=\"14\" lengthAdjust=\"spacingAndGlyphs\" textLength=\"48\" x=\"140\" y=\"560.7151\">$result</text><rect fill=\"#383838\" height=\"12\" style=\"stroke: #F8F8F8; stroke-width: 1.5;\" width=\"12\" x=\"158\" y=\"535.72\"/><polygon fill=\"#F8F8F8\" points=\"141,28.5,153,40.5,141,52.5,129,40.5,141,28.5\" style=\"stroke: #383838; stroke-width: 1.5;\"/><polygon fill=\"#F8F8F8\" points=\"35,170.5,47,182.5,35,194.5,23,182.5,35,170.5\" style=\"stroke: #383838; stroke-width: 1.5;\"/><g id=\"E1.E5\"><a href=\"psysml:0f40ea9b-adac-4a33-8b1a-34d15e55e3d2\" target=\"_top\" title=\"psysml:0f40ea9b-adac-4a33-8b1a-34d15e55e3d2\" xlink:actuate=\"onRequest\" xlink:href=\"psysml:0f40ea9b-adac-4a33-8b1a-34d15e55e3d2\" xlink:show=\"new\" xlink:title=\"psysml:0f40ea9b-adac-4a33-8b1a-34d15e55e3d2\" xlink:type=\"simple\"><rect fill=\"#FFFFFF\" height=\"42.9375\" id=\"E5\" rx=\"10\" ry=\"10\" style=\"stroke: #383838; stroke-width: 1.5;\" width=\"60\" x=\"135\" y=\"281\"/><rect fill=\"#F8F8F8\" height=\"37.9375\" rx=\"10\" ry=\"10\" style=\"stroke: #F8F8F8; stroke-width: 1.5;\" width=\"60\" x=\"135\" y=\"281\"/><rect fill=\"#F8F8F8\" height=\"10\" style=\"stroke: #F8F8F8; stroke-width: 1.5;\" width=\"60\" x=\"135\" y=\"308.9375\"/><rect fill=\"none\" height=\"42.9375\" id=\"E5\" rx=\"10\" ry=\"10\" style=\"stroke: #383838; stroke-width: 1.5;\" width=\"60\" x=\"135\" y=\"281\"/><text fill=\"#000000\" font-family=\"sans-serif\" font-size=\"12\" font-style=\"italic\" lengthAdjust=\"spacingAndGlyphs\" textLength=\"53\" x=\"138.5\" y=\"297.1387\">«action»</text><text fill=\"#000000\" font-family=\"sans-serif\" font-size=\"12\" lengthAdjust=\"spacingAndGlyphs\" textLength=\"16\" x=\"157\" y=\"311.1074\">A1</text></a></g><g id=\"E1.E6\"><a href=\"psysml:128661ee-6ef6-488f-adc9-4acba814b00a\" target=\"_top\" title=\"psysml:128661ee-6ef6-488f-adc9-4acba814b00a\" xlink:actuate=\"onRequest\" xlink:href=\"psysml:128661ee-6ef6-488f-adc9-4acba814b00a\" xlink:show=\"new\" xlink:title=\"psysml:128661ee-6ef6-488f-adc9-4acba814b00a\" xlink:type=\"simple\"><rect fill=\"#FFFFFF\" height=\"42.9375\" id=\"E6\" rx=\"10\" ry=\"10\" style=\"stroke: #383838; stroke-width: 1.5;\" width=\"60\" x=\"135\" y=\"401\"/><rect fill=\"#F8F8F8\" height=\"37.9375\" rx=\"10\" ry=\"10\" style=\"stroke: #F8F8F8; stroke-width: 1.5;\" width=\"60\" x=\"135\" y=\"401\"/><rect fill=\"#F8F8F8\" height=\"10\" style=\"stroke: #F8F8F8; stroke-width: 1.5;\" width=\"60\" x=\"135\" y=\"428.9375\"/><rect fill=\"none\" height=\"42.9375\" id=\"E6\" rx=\"10\" ry=\"10\" style=\"stroke: #383838; stroke-width: 1.5;\" width=\"60\" x=\"135\" y=\"401\"/><text fill=\"#000000\" font-family=\"sans-serif\" font-size=\"12\" font-style=\"italic\" lengthAdjust=\"spacingAndGlyphs\" textLength=\"53\" x=\"138.5\" y=\"417.1387\">«action»</text><text fill=\"#000000\" font-family=\"sans-serif\" font-size=\"12\" lengthAdjust=\"spacingAndGlyphs\" textLength=\"16\" x=\"157\" y=\"431.1074\">A2</text></a></g><g id=\"E1.E7\"><a href=\"psysml:7b9f6d16-7e81-4d0a-aec9-34a5599243af\" target=\"_top\" title=\"psysml:7b9f6d16-7e81-4d0a-aec9-34a5599243af\" xlink:actuate=\"onRequest\" xlink:href=\"psysml:7b9f6d16-7e81-4d0a-aec9-34a5599243af\" xlink:show=\"new\" xlink:title=\"psysml:7b9f6d16-7e81-4d0a-aec9-34a5599243af\" xlink:type=\"simple\"><rect fill=\"#FFFFFF\" height=\"42.9375\" id=\"E7\" rx=\"10\" ry=\"10\" style=\"stroke: #383838; stroke-width: 1.5;\" width=\"60\" x=\"46\" y=\"88\"/><rect fill=\"#F8F8F8\" height=\"37.9375\" rx=\"10\" ry=\"10\" style=\"stroke: #F8F8F8; stroke-width: 1.5;\" width=\"60\" x=\"46\" y=\"88\"/><rect fill=\"#F8F8F8\" height=\"10\" style=\"stroke: #F8F8F8; stroke-width: 1.5;\" width=\"60\" x=\"46\" y=\"115.9375\"/><rect fill=\"none\" height=\"42.9375\" id=\"E7\" rx=\"10\" ry=\"10\" style=\"stroke: #383838; stroke-width: 1.5;\" width=\"60\" x=\"46\" y=\"88\"/><text fill=\"#000000\" font-family=\"sans-serif\" font-size=\"12\" font-style=\"italic\" lengthAdjust=\"spacingAndGlyphs\" textLength=\"53\" x=\"49.5\" y=\"104.1387\">«action»</text><text fill=\"#000000\" font-family=\"sans-serif\" font-size=\"12\" lengthAdjust=\"spacingAndGlyphs\" textLength=\"16\" x=\"68\" y=\"118.1074\">A3</text></a></g><g id=\"E1.E8\"><a href=\"psysml:7b9f6d16-7e81-4d0a-aec9-34a5599243af\" target=\"_top\" title=\"psysml:7b9f6d16-7e81-4d0a-aec9-34a5599243af\" xlink:actuate=\"onRequest\" xlink:href=\"psysml:7b9f6d16-7e81-4d0a-aec9-34a5599243af\" xlink:show=\"new\" xlink:title=\"psysml:7b9f6d16-7e81-4d0a-aec9-34a5599243af\" xlink:type=\"simple\"><rect fill=\"#FFFFFF\" height=\"42.9375\" id=\"E8\" rx=\"10\" ry=\"10\" style=\"stroke: #383838; stroke-width: 1.5;\" width=\"60\" x=\"246\" y=\"161\"/><rect fill=\"#F8F8F8\" height=\"37.9375\" rx=\"10\" ry=\"10\" style=\"stroke: #F8F8F8; stroke-width: 1.5;\" width=\"60\" x=\"246\" y=\"161\"/><rect fill=\"#F8F8F8\" height=\"10\" style=\"stroke: #F8F8F8; stroke-width: 1.5;\" width=\"60\" x=\"246\" y=\"188.9375\"/><rect fill=\"none\" height=\"42.9375\" id=\"E8\" rx=\"10\" ry=\"10\" style=\"stroke: #383838; stroke-width: 1.5;\" width=\"60\" x=\"246\" y=\"161\"/><text fill=\"#000000\" font-family=\"sans-serif\" font-size=\"12\" font-style=\"italic\" lengthAdjust=\"spacingAndGlyphs\" textLength=\"53\" x=\"249.5\" y=\"177.1387\">«action»</text><text fill=\"#000000\" font-family=\"sans-serif\" font-size=\"12\" lengthAdjust=\"spacingAndGlyphs\" textLength=\"16\" x=\"268\" y=\"191.1074\">A3</text></a></g><!--MD5=[0188b64bb0ae78505a997a81836e11e9]\n",
       "link E3 to E5--><a href=\"psysml:7286f462-e52e-4ebc-bfea-7701f26f76d2\" target=\"_top\" title=\"psysml:7286f462-e52e-4ebc-bfea-7701f26f76d2\" xlink:actuate=\"onRequest\" xlink:href=\"psysml:7286f462-e52e-4ebc-bfea-7701f26f76d2\" xlink:show=\"new\" xlink:title=\"psysml:7286f462-e52e-4ebc-bfea-7701f26f76d2\" xlink:type=\"simple\"><path d=\"M140.49,52.19 C139.39,78.26 137.41,147.1 144,204 C146.84,228.53 153.03,255.98 157.96,275.49 \" fill=\"none\" id=\"E3-&gt;E5\" style=\"stroke: #383838; stroke-width: 1.0;\"/><polygon fill=\"#383838\" points=\"159.31,280.77,160.9741,271.0627,158.0805,275.9235,153.2197,273.0299,159.31,280.77\" style=\"stroke: #383838; stroke-width: 1.0;\"/><text fill=\"#000000\" font-family=\"sans-serif\" font-size=\"13\" lengthAdjust=\"spacingAndGlyphs\" textLength=\"55\" x=\"145\" y=\"187.0669\">[x == 1]</text></a><!--MD5=[ec9844e0c75763426927cad3229d1081]\n",
       "link E3 to E6--><a href=\"psysml:e748a59f-80ec-4a6b-adc3-e898091fbade\" target=\"_top\" title=\"psysml:e748a59f-80ec-4a6b-adc3-e898091fbade\" xlink:actuate=\"onRequest\" xlink:href=\"psysml:e748a59f-80ec-4a6b-adc3-e898091fbade\" xlink:show=\"new\" xlink:title=\"psysml:e748a59f-80ec-4a6b-adc3-e898091fbade\" xlink:type=\"simple\"><path d=\"M145.73,48.09 C157.96,65.53 190.67,114.68 205,161 C230.5,243.43 221.33,267.84 226,354 C226.41,361.54 229.22,364.16 226,371 C220.27,383.19 209.98,393.45 199.48,401.47 \" fill=\"none\" id=\"E3-&gt;E6\" style=\"stroke: #383838; stroke-width: 1.0;\"/><polygon fill=\"#383838\" points=\"195.29,404.54,204.9073,402.4168,199.3138,401.5721,200.1586,395.9786,195.29,404.54\" style=\"stroke: #383838; stroke-width: 1.0;\"/><text fill=\"#000000\" font-family=\"sans-serif\" font-size=\"13\" lengthAdjust=\"spacingAndGlyphs\" textLength=\"44\" x=\"223\" y=\"247.0669\">[x &gt; 1]</text></a><!--MD5=[ca5a752d6098d8a44b3f88316e7452d1]\n",
       "link E3 to E8--><a href=\"psysml:c4aa7bb1-7be8-4d3d-94c8-0c3feb0dde03\" target=\"_top\" title=\"psysml:c4aa7bb1-7be8-4d3d-94c8-0c3feb0dde03\" xlink:actuate=\"onRequest\" xlink:href=\"psysml:c4aa7bb1-7be8-4d3d-94c8-0c3feb0dde03\" xlink:show=\"new\" xlink:title=\"psysml:c4aa7bb1-7be8-4d3d-94c8-0c3feb0dde03\" xlink:type=\"simple\"><path d=\"M147.97,45.53 C163.29,54.53 199.17,76.37 207,88 C217.96,104.27 206.82,114.23 217,131 C223.37,141.49 232.66,150.9 242,158.68 \" fill=\"none\" id=\"E3-&gt;E8\" style=\"stroke: #383838; stroke-width: 1.0;\"/><polygon fill=\"#383838\" points=\"246,161.91,241.5179,153.1401,242.1124,158.7657,236.4869,159.3602,246,161.91\" style=\"stroke: #383838; stroke-width: 1.0;\"/></a><!--MD5=[95fa686b5a16158bcdbcaeead89f639b]\n",
       "link E8 to E3--><a href=\"psysml:313c2626-617f-4a85-9d7c-c31cb61d9b9e\" target=\"_top\" title=\"psysml:313c2626-617f-4a85-9d7c-c31cb61d9b9e\" xlink:actuate=\"onRequest\" xlink:href=\"psysml:313c2626-617f-4a85-9d7c-c31cb61d9b9e\" xlink:show=\"new\" xlink:title=\"psysml:313c2626-617f-4a85-9d7c-c31cb61d9b9e\" xlink:type=\"simple\"><path d=\"M263.71,160.86 C249.28,137.02 225.81,99.6 214,88 C204.2,78.38 171.17,58.79 153.08,48.37 \" fill=\"none\" id=\"E8-&gt;E3\" style=\"stroke: #383838; stroke-width: 1.0;\"/><polygon fill=\"#383838\" points=\"148.41,45.69,154.234,53.6323,152.7495,48.1738,158.208,46.6892,148.41,45.69\" style=\"stroke: #383838; stroke-width: 1.0;\"/><text fill=\"#000000\" font-family=\"sans-serif\" font-size=\"13\" lengthAdjust=\"spacingAndGlyphs\" textLength=\"44\" x=\"244\" y=\"114.0669\">[x &gt; 0]</text></a><!--MD5=[af87c684e3b0d8be13c1a698a818ef1e]\n",
       "link E3 to E4--><a href=\"psysml:9e59e0cd-e7d6-48f9-8abd-2b6da2cb7bd3\" target=\"_top\" title=\"psysml:9e59e0cd-e7d6-48f9-8abd-2b6da2cb7bd3\" xlink:actuate=\"onRequest\" xlink:href=\"psysml:9e59e0cd-e7d6-48f9-8abd-2b6da2cb7bd3\" xlink:show=\"new\" xlink:title=\"psysml:9e59e0cd-e7d6-48f9-8abd-2b6da2cb7bd3\" xlink:type=\"simple\"><path d=\"M131.03,42.86 C110.41,46.26 63.22,57.19 42,88 C25.54,111.89 28.61,147.84 31.99,167.47 \" fill=\"none\" id=\"E3-&gt;E4\" style=\"stroke: #383838; stroke-width: 1.0;\"/><polygon fill=\"#383838\" points=\"32.94,172.56,35.2263,162.9802,32.0255,167.6443,27.3613,164.4435,32.94,172.56\" style=\"stroke: #383838; stroke-width: 1.0;\"/></a><!--MD5=[1b7591eae5389033d8d09a9d6721a717]\n",
       "link E4 to E5--><a href=\"psysml:7b0b5bc6-fd2d-464d-92f4-1e71099b6f78\" target=\"_top\" title=\"psysml:7b0b5bc6-fd2d-464d-92f4-1e71099b6f78\" xlink:actuate=\"onRequest\" xlink:href=\"psysml:7b0b5bc6-fd2d-464d-92f4-1e71099b6f78\" xlink:show=\"new\" xlink:title=\"psysml:7b0b5bc6-fd2d-464d-92f4-1e71099b6f78\" xlink:type=\"simple\"><path d=\"M39.08,190.91 C46.63,204.15 63.87,232.24 84,251 C97.73,263.8 115.17,275.16 130.35,283.85 \" fill=\"none\" id=\"E4-&gt;E5\" style=\"stroke: #383838; stroke-width: 1.0;\"/><polygon fill=\"#383838\" points=\"134.98,286.46,129.0858,278.5696,130.6187,284.0148,125.1735,285.5477,134.98,286.46\" style=\"stroke: #383838; stroke-width: 1.0;\"/><text fill=\"#000000\" font-family=\"sans-serif\" font-size=\"13\" lengthAdjust=\"spacingAndGlyphs\" textLength=\"36\" x=\"85\" y=\"247.0669\">[true]</text></a><!--MD5=[79568f1e445c3877b6a54524624ccc7d]\n",
       "link E4 to E6--><a href=\"psysml:2cb1b039-bbb8-4621-9b87-8355478bfab0\" target=\"_top\" title=\"psysml:2cb1b039-bbb8-4621-9b87-8355478bfab0\" xlink:actuate=\"onRequest\" xlink:href=\"psysml:2cb1b039-bbb8-4621-9b87-8355478bfab0\" xlink:show=\"new\" xlink:title=\"psysml:2cb1b039-bbb8-4621-9b87-8355478bfab0\" xlink:type=\"simple\"><path d=\"M36.3,193.29 C39.76,217.03 50.73,279.03 76,324 C91.89,352.29 117.42,379.1 137.07,397.43 \" fill=\"none\" id=\"E4-&gt;E6\" style=\"stroke: #383838; stroke-width: 1.0;\"/><polygon fill=\"#383838\" points=\"140.92,400.98,137.0155,391.9382,137.2443,397.5904,131.5921,397.8192,140.92,400.98\" style=\"stroke: #383838; stroke-width: 1.0;\"/><text fill=\"#000000\" font-family=\"sans-serif\" font-size=\"13\" lengthAdjust=\"spacingAndGlyphs\" textLength=\"40\" x=\"77\" y=\"307.0669\">[false]</text></a><!--MD5=[9120cf2e5df3bff93db8f754bbbc09b4]\n",
       "link E5 to E6--><a href=\"psysml:b49ece63-4bda-4eac-a48b-66e19b9bdab7\" target=\"_top\" title=\"psysml:b49ece63-4bda-4eac-a48b-66e19b9bdab7\" xlink:actuate=\"onRequest\" xlink:href=\"psysml:b49ece63-4bda-4eac-a48b-66e19b9bdab7\" xlink:show=\"new\" xlink:title=\"psysml:b49ece63-4bda-4eac-a48b-66e19b9bdab7\" xlink:type=\"simple\"><path d=\"M165,324.05 C165,343.9 165,374.02 165,395.52 \" fill=\"none\" id=\"E5-&gt;E6\" style=\"stroke: #383838; stroke-width: 1.0;\"/><polygon fill=\"#383838\" points=\"165,400.79,169,391.79,165,395.79,161,391.79,165,400.79\" style=\"stroke: #383838; stroke-width: 1.0;\"/><text fill=\"#000000\" font-family=\"sans-serif\" font-size=\"13\" lengthAdjust=\"spacingAndGlyphs\" textLength=\"55\" x=\"166\" y=\"367.0669\">[x == 0]</text></a><!--MD5=[b5e1c15e98fb288b196b34ee17bc407c]\n",
       "@startuml\r\n",
       "top to bottom direction\r\n",
       "skinparam monochrome true\r\n",
       "skinparam classbackgroundcolor white\r\n",
       "skinparam shadowing false\r\n",
       "skinparam wrapWidth 300\r\n",
       "hide circle\r\n",
       "\r\n",
       "rec def \"DecisionTest\" as E1  <<(T,blue)action def>> [[psysml:3be07126-877a-4309-8447-1e285ef81f95 ]] {\r\n",
       "portout \"$result\" as E2  [[psysml:9348992a-eef4-478a-99a3-8679640e907b ]] \r\n",
       "choice \"test x\" as E3  [[psysml:68020b6f-ffe7-4b5f-b810-1edcbdd08af0 ]] \r\n",
       "choice \"noname\" as E4  [[psysml:c53ed86d-7fd9-4daa-81a5-a3aaa8a48fdd ]] \r\n",
       "rec usage \"A1\" as E5  <<(T,blue)action>> [[psysml:0f40ea9b-adac-4a33-8b1a-34d15e55e3d2 ]] {\r\n",
       "}\r\n",
       "\r\n",
       "rec usage \"A2\" as E6  <<(T,blue)action>> [[psysml:128661ee-6ef6-488f-adc9-4acba814b00a ]] {\r\n",
       "}\r\n",
       "\r\n",
       "rec usage \"A3\" as E7  <<(T,blue)action>> [[psysml:7b9f6d16-7e81-4d0a-aec9-34a5599243af ]] {\r\n",
       "}\r\n",
       "\r\n",
       "rec usage \"A3\" as E8  <<(T,blue)action>> [[psysml:7b9f6d16-7e81-4d0a-aec9-34a5599243af ]] {\r\n",
       "}\r\n",
       "\r\n",
       "}\r\n",
       "\r\n",
       "E3  - -> E5 [[psysml:7286f462-e52e-4ebc-bfea-7701f26f76d2 ]] : [x == 1]\r\n",
       "E3  - -> E6 [[psysml:e748a59f-80ec-4a6b-adc3-e898091fbade ]] : [x > 1]\r\n",
       "E3  - -> E8 [[psysml:c4aa7bb1-7be8-4d3d-94c8-0c3feb0dde03 ]] \r\n",
       "E3 - -> E4 [[psysml:9e59e0cd-e7d6-48f9-8abd-2b6da2cb7bd3 ]] \r\n",
       "E4  - -> E5 [[psysml:7b0b5bc6-fd2d-464d-92f4-1e71099b6f78 ]] : [true]\r\n",
       "E4  - -> E6 [[psysml:2cb1b039-bbb8-4621-9b87-8355478bfab0 ]] : [false]\r\n",
       "E5  - -> E6 [[psysml:b49ece63-4bda-4eac-a48b-66e19b9bdab7 ]] : [x == 0]\r\n",
       "E8  - -> E3 [[psysml:313c2626-617f-4a85-9d7c-c31cb61d9b9e ]] : [x > 0]\r\n",
       "@enduml\r\n",
       "\n",
       "PlantUML version 1.2020.13(Sat Jun 13 12:26:38 UTC 2020)\n",
       "(EPL source distribution)\n",
       "Java Runtime: OpenJDK Runtime Environment\n",
       "JVM: OpenJDK 64-Bit Server VM\n",
       "Default Encoding: UTF-8\n",
       "Language: en\n",
       "Country: null\n",
       "--></g></svg>"
      ]
     },
     "execution_count": 44,
     "metadata": {},
     "output_type": "execute_result"
    }
   ],
   "source": [
    "%viz --style=\"TB\" --view=\"Default\" \"DecisionTest\""
   ]
  },
  {
   "cell_type": "code",
   "execution_count": 45,
   "id": "18698659",
   "metadata": {
    "execution": {
     "iopub.execute_input": "2021-05-27T06:09:55.199398Z",
     "iopub.status.busy": "2021-05-27T06:09:55.198806Z",
     "iopub.status.idle": "2021-05-27T06:09:55.259444Z",
     "shell.execute_reply": "2021-05-27T06:09:55.259138Z"
    }
   },
   "outputs": [
    {
     "data": {
      "image/svg+xml": [
       "<?xml version=\"1.0\" encoding=\"UTF-8\" standalone=\"no\"?><svg xmlns=\"http://www.w3.org/2000/svg\" xmlns:xlink=\"http://www.w3.org/1999/xlink\" contentScriptType=\"application/ecmascript\" contentStyleType=\"text/css\" height=\"207px\" preserveAspectRatio=\"none\" style=\"width:109px;height:207px;\" version=\"1.1\" viewBox=\"0 0 109 207\" width=\"109px\" zoomAndPan=\"magnify\"><defs/><g><!--MD5=[43c9051892ef23e1a46a86907403d788]\n",
       "class E1--><a href=\"psysml:3be07126-877a-4309-8447-1e285ef81f95\" target=\"_top\" title=\"psysml:3be07126-877a-4309-8447-1e285ef81f95\" xlink:actuate=\"onRequest\" xlink:href=\"psysml:3be07126-877a-4309-8447-1e285ef81f95\" xlink:show=\"new\" xlink:title=\"psysml:3be07126-877a-4309-8447-1e285ef81f95\" xlink:type=\"simple\"><rect fill=\"#FFFFFF\" height=\"189.9844\" id=\"E1\" style=\"stroke: #383838; stroke-width: 1.5;\" width=\"91\" x=\"7\" y=\"7\"/><text fill=\"#000000\" font-family=\"sans-serif\" font-size=\"12\" font-style=\"italic\" lengthAdjust=\"spacingAndGlyphs\" textLength=\"77\" x=\"14\" y=\"23.1387\">«action def»</text><text fill=\"#000000\" font-family=\"sans-serif\" font-size=\"12\" lengthAdjust=\"spacingAndGlyphs\" textLength=\"80\" x=\"12.5\" y=\"37.1074\">DecisionTest</text><line style=\"stroke: #383838; stroke-width: 1.5;\" x1=\"8\" x2=\"97\" y1=\"44.9375\" y2=\"44.9375\"/><text fill=\"#000000\" font-family=\"sans-serif\" font-size=\"11\" lengthAdjust=\"spacingAndGlyphs\" textLength=\"26\" x=\"13\" y=\"75.9526\">x=1;</text><line style=\"stroke: #383838; stroke-width: 1.0;\" x1=\"8\" x2=\"25\" y1=\"59.3398\" y2=\"59.3398\"/><text fill=\"#000000\" font-family=\"sans-serif\" font-size=\"11\" lengthAdjust=\"spacingAndGlyphs\" textLength=\"55\" x=\"25\" y=\"62.6479\">attributes</text><line style=\"stroke: #383838; stroke-width: 1.0;\" x1=\"80\" x2=\"97\" y1=\"59.3398\" y2=\"59.3398\"/><text fill=\"#000000\" font-family=\"sans-serif\" font-size=\"11\" lengthAdjust=\"spacingAndGlyphs\" textLength=\"14\" x=\"13\" y=\"105.562\">A1</text><text fill=\"#000000\" font-family=\"sans-serif\" font-size=\"11\" lengthAdjust=\"spacingAndGlyphs\" textLength=\"14\" x=\"13\" y=\"118.3667\">A2</text><text fill=\"#000000\" font-family=\"sans-serif\" font-size=\"11\" lengthAdjust=\"spacingAndGlyphs\" textLength=\"14\" x=\"13\" y=\"131.1714\">A3</text><line style=\"stroke: #383838; stroke-width: 1.0;\" x1=\"8\" x2=\"32\" y1=\"88.9492\" y2=\"88.9492\"/><text fill=\"#000000\" font-family=\"sans-serif\" font-size=\"11\" lengthAdjust=\"spacingAndGlyphs\" textLength=\"41\" x=\"32\" y=\"92.2573\">actions</text><line style=\"stroke: #383838; stroke-width: 1.0;\" x1=\"73\" x2=\"97\" y1=\"88.9492\" y2=\"88.9492\"/><text fill=\"#000000\" font-family=\"sans-serif\" font-size=\"11\" lengthAdjust=\"spacingAndGlyphs\" textLength=\"32\" x=\"13\" y=\"160.7808\">test x</text><line style=\"stroke: #383838; stroke-width: 1.0;\" x1=\"8\" x2=\"11\" y1=\"144.168\" y2=\"144.168\"/><text fill=\"#000000\" font-family=\"sans-serif\" font-size=\"11\" lengthAdjust=\"spacingAndGlyphs\" textLength=\"83\" x=\"11\" y=\"147.4761\">decisionNodes</text><line style=\"stroke: #383838; stroke-width: 1.0;\" x1=\"94\" x2=\"97\" y1=\"144.168\" y2=\"144.168\"/><text fill=\"#000000\" font-family=\"sans-serif\" font-size=\"11\" lengthAdjust=\"spacingAndGlyphs\" textLength=\"8\" x=\"13\" y=\"190.3901\">S</text><line style=\"stroke: #383838; stroke-width: 1.0;\" x1=\"8\" x2=\"22\" y1=\"173.7773\" y2=\"173.7773\"/><text fill=\"#000000\" font-family=\"sans-serif\" font-size=\"11\" lengthAdjust=\"spacingAndGlyphs\" textLength=\"61\" x=\"22\" y=\"177.0854\">transitions</text><line style=\"stroke: #383838; stroke-width: 1.0;\" x1=\"83\" x2=\"97\" y1=\"173.7773\" y2=\"173.7773\"/></a><!--MD5=[40e2371b25a2ab3e09cad803166c3277]\n",
       "@startuml\r\n",
       "top to bottom direction\r\n",
       "skinparam monochrome true\r\n",
       "skinparam classbackgroundcolor white\r\n",
       "skinparam shadowing false\r\n",
       "skinparam wrapWidth 300\r\n",
       "hide circle\r\n",
       "\r\n",
       "comp def \"DecisionTest\" as E1  <<(T,blue)action def>> [[psysml:3be07126-877a-4309-8447-1e285ef81f95 ]] {\r\n",
       "- - attributes - -\r\n",
       "x=1; \r\n",
       "- - actions - -\r\n",
       "A1\r\n",
       "A2\r\n",
       "A3\r\n",
       "- - decisionNodes - -\r\n",
       "test x\r\n",
       "- - transitions - -\r\n",
       "S\r\n",
       "}\r\n",
       "@enduml\r\n",
       "\n",
       "PlantUML version 1.2020.13(Sat Jun 13 12:26:38 UTC 2020)\n",
       "(EPL source distribution)\n",
       "Java Runtime: OpenJDK Runtime Environment\n",
       "JVM: OpenJDK 64-Bit Server VM\n",
       "Default Encoding: UTF-8\n",
       "Language: en\n",
       "Country: null\n",
       "--></g></svg>"
      ]
     },
     "execution_count": 45,
     "metadata": {},
     "output_type": "execute_result"
    }
   ],
   "source": [
    "%viz --style=\"TB\" --view=\"Tree\" \"DecisionTest\""
   ]
  },
  {
   "cell_type": "code",
   "execution_count": 46,
   "id": "f66e13d8",
   "metadata": {
    "execution": {
     "iopub.execute_input": "2021-05-27T06:09:55.312246Z",
     "iopub.status.busy": "2021-05-27T06:09:55.311388Z",
     "iopub.status.idle": "2021-05-27T06:09:55.317197Z",
     "shell.execute_reply": "2021-05-27T06:09:55.316832Z"
    }
   },
   "outputs": [
    {
     "data": {
      "image/svg+xml": [
       "<?xml version=\"1.0\" encoding=\"UTF-8\" standalone=\"no\"?><svg xmlns=\"http://www.w3.org/2000/svg\" xmlns:xlink=\"http://www.w3.org/1999/xlink\" contentScriptType=\"application/ecmascript\" contentStyleType=\"text/css\" height=\"12px\" preserveAspectRatio=\"none\" style=\"width:12px;height:12px;\" version=\"1.1\" viewBox=\"0 0 12 12\" width=\"12px\" zoomAndPan=\"magnify\"><defs/><g><!--MD5=[f4ee21bc66e489b5061b7c3e9601fdef]\n",
       "@startuml\r\n",
       "top to bottom direction\r\n",
       "skinparam monochrome true\r\n",
       "skinparam classbackgroundcolor white\r\n",
       "skinparam shadowing false\r\n",
       "skinparam wrapWidth 300\r\n",
       "hide circle\r\n",
       "\r\n",
       "@enduml\r\n",
       "\n",
       "PlantUML version 1.2020.13(Sat Jun 13 12:26:38 UTC 2020)\n",
       "(EPL source distribution)\n",
       "Java Runtime: OpenJDK Runtime Environment\n",
       "JVM: OpenJDK 64-Bit Server VM\n",
       "Default Encoding: UTF-8\n",
       "Language: en\n",
       "Country: null\n",
       "--></g></svg>"
      ]
     },
     "execution_count": 46,
     "metadata": {},
     "output_type": "execute_result"
    }
   ],
   "source": [
    "%viz --style=\"TB\" --view=\"State\" \"DecisionTest\""
   ]
  },
  {
   "cell_type": "code",
   "execution_count": 47,
   "id": "c9185024",
   "metadata": {
    "execution": {
     "iopub.execute_input": "2021-05-27T06:09:55.370098Z",
     "iopub.status.busy": "2021-05-27T06:09:55.369312Z",
     "iopub.status.idle": "2021-05-27T06:09:55.409402Z",
     "shell.execute_reply": "2021-05-27T06:09:55.408083Z"
    }
   },
   "outputs": [
    {
     "data": {
      "image/svg+xml": [
       "<?xml version=\"1.0\" encoding=\"UTF-8\" standalone=\"no\"?><svg xmlns=\"http://www.w3.org/2000/svg\" xmlns:xlink=\"http://www.w3.org/1999/xlink\" contentScriptType=\"application/ecmascript\" contentStyleType=\"text/css\" height=\"384px\" preserveAspectRatio=\"none\" style=\"width:333px;height:384px;\" version=\"1.1\" viewBox=\"0 0 333 384\" width=\"333px\" zoomAndPan=\"magnify\"><defs/><g><!--MD5=[fbc87193dbaf4d95561dea2c320d4a47]\n",
       "cluster E1--><a href=\"psysml:3be07126-877a-4309-8447-1e285ef81f95\" target=\"_top\" title=\"psysml:3be07126-877a-4309-8447-1e285ef81f95\" xlink:actuate=\"onRequest\" xlink:href=\"psysml:3be07126-877a-4309-8447-1e285ef81f95\" xlink:show=\"new\" xlink:title=\"psysml:3be07126-877a-4309-8447-1e285ef81f95\" xlink:type=\"simple\"><rect fill=\"#FFFFFF\" height=\"344.72\" id=\"E1\" style=\"stroke: #383838; stroke-width: 1.5;\" width=\"315\" x=\"7\" y=\"7\"/><rect fill=\"#F8F8F8\" height=\"37.9375\" style=\"stroke: #383838; stroke-width: 1.5;\" width=\"315\" x=\"7\" y=\"7\"/><text fill=\"#000000\" font-family=\"sans-serif\" font-size=\"12\" font-style=\"italic\" lengthAdjust=\"spacingAndGlyphs\" textLength=\"77\" x=\"126\" y=\"23.1387\">«action def»</text><text fill=\"#000000\" font-family=\"sans-serif\" font-size=\"12\" lengthAdjust=\"spacingAndGlyphs\" textLength=\"80\" x=\"124.5\" y=\"37.1074\">DecisionTest</text></a><text fill=\"#000000\" font-family=\"sans-serif\" font-size=\"14\" lengthAdjust=\"spacingAndGlyphs\" textLength=\"48\" x=\"140\" y=\"370.7151\">$result</text><rect fill=\"#383838\" height=\"12\" style=\"stroke: #F8F8F8; stroke-width: 1.5;\" width=\"12\" x=\"158\" y=\"345.72\"/><polygon fill=\"#F8F8F8\" points=\"141,28.5,153,40.5,141,52.5,129,40.5,141,28.5\" style=\"stroke: #383838; stroke-width: 1.5;\"/><polygon fill=\"#F8F8F8\" points=\"35,126.5,47,138.5,35,150.5,23,138.5,35,126.5\" style=\"stroke: #383838; stroke-width: 1.5;\"/><g id=\"E1.E5\"><a href=\"psysml:0f40ea9b-adac-4a33-8b1a-34d15e55e3d2\" target=\"_top\" title=\"psysml:0f40ea9b-adac-4a33-8b1a-34d15e55e3d2\" xlink:actuate=\"onRequest\" xlink:href=\"psysml:0f40ea9b-adac-4a33-8b1a-34d15e55e3d2\" xlink:show=\"new\" xlink:title=\"psysml:0f40ea9b-adac-4a33-8b1a-34d15e55e3d2\" xlink:type=\"simple\"><rect fill=\"#FFFFFF\" height=\"42.9375\" id=\"E5\" rx=\"10\" ry=\"10\" style=\"stroke: #383838; stroke-width: 1.5;\" width=\"60\" x=\"135\" y=\"193\"/><rect fill=\"#F8F8F8\" height=\"37.9375\" rx=\"10\" ry=\"10\" style=\"stroke: #F8F8F8; stroke-width: 1.5;\" width=\"60\" x=\"135\" y=\"193\"/><rect fill=\"#F8F8F8\" height=\"10\" style=\"stroke: #F8F8F8; stroke-width: 1.5;\" width=\"60\" x=\"135\" y=\"220.9375\"/><rect fill=\"none\" height=\"42.9375\" id=\"E5\" rx=\"10\" ry=\"10\" style=\"stroke: #383838; stroke-width: 1.5;\" width=\"60\" x=\"135\" y=\"193\"/><text fill=\"#000000\" font-family=\"sans-serif\" font-size=\"12\" font-style=\"italic\" lengthAdjust=\"spacingAndGlyphs\" textLength=\"53\" x=\"138.5\" y=\"209.1387\">«action»</text><text fill=\"#000000\" font-family=\"sans-serif\" font-size=\"12\" lengthAdjust=\"spacingAndGlyphs\" textLength=\"16\" x=\"157\" y=\"223.1074\">A1</text></a></g><g id=\"E1.E6\"><a href=\"psysml:128661ee-6ef6-488f-adc9-4acba814b00a\" target=\"_top\" title=\"psysml:128661ee-6ef6-488f-adc9-4acba814b00a\" xlink:actuate=\"onRequest\" xlink:href=\"psysml:128661ee-6ef6-488f-adc9-4acba814b00a\" xlink:show=\"new\" xlink:title=\"psysml:128661ee-6ef6-488f-adc9-4acba814b00a\" xlink:type=\"simple\"><rect fill=\"#FFFFFF\" height=\"42.9375\" id=\"E6\" rx=\"10\" ry=\"10\" style=\"stroke: #383838; stroke-width: 1.5;\" width=\"60\" x=\"135\" y=\"269\"/><rect fill=\"#F8F8F8\" height=\"37.9375\" rx=\"10\" ry=\"10\" style=\"stroke: #F8F8F8; stroke-width: 1.5;\" width=\"60\" x=\"135\" y=\"269\"/><rect fill=\"#F8F8F8\" height=\"10\" style=\"stroke: #F8F8F8; stroke-width: 1.5;\" width=\"60\" x=\"135\" y=\"296.9375\"/><rect fill=\"none\" height=\"42.9375\" id=\"E6\" rx=\"10\" ry=\"10\" style=\"stroke: #383838; stroke-width: 1.5;\" width=\"60\" x=\"135\" y=\"269\"/><text fill=\"#000000\" font-family=\"sans-serif\" font-size=\"12\" font-style=\"italic\" lengthAdjust=\"spacingAndGlyphs\" textLength=\"53\" x=\"138.5\" y=\"285.1387\">«action»</text><text fill=\"#000000\" font-family=\"sans-serif\" font-size=\"12\" lengthAdjust=\"spacingAndGlyphs\" textLength=\"16\" x=\"157\" y=\"299.1074\">A2</text></a></g><g id=\"E1.E7\"><a href=\"psysml:7b9f6d16-7e81-4d0a-aec9-34a5599243af\" target=\"_top\" title=\"psysml:7b9f6d16-7e81-4d0a-aec9-34a5599243af\" xlink:actuate=\"onRequest\" xlink:href=\"psysml:7b9f6d16-7e81-4d0a-aec9-34a5599243af\" xlink:show=\"new\" xlink:title=\"psysml:7b9f6d16-7e81-4d0a-aec9-34a5599243af\" xlink:type=\"simple\"><rect fill=\"#FFFFFF\" height=\"42.9375\" id=\"E7\" rx=\"10\" ry=\"10\" style=\"stroke: #383838; stroke-width: 1.5;\" width=\"60\" x=\"46\" y=\"66\"/><rect fill=\"#F8F8F8\" height=\"37.9375\" rx=\"10\" ry=\"10\" style=\"stroke: #F8F8F8; stroke-width: 1.5;\" width=\"60\" x=\"46\" y=\"66\"/><rect fill=\"#F8F8F8\" height=\"10\" style=\"stroke: #F8F8F8; stroke-width: 1.5;\" width=\"60\" x=\"46\" y=\"93.9375\"/><rect fill=\"none\" height=\"42.9375\" id=\"E7\" rx=\"10\" ry=\"10\" style=\"stroke: #383838; stroke-width: 1.5;\" width=\"60\" x=\"46\" y=\"66\"/><text fill=\"#000000\" font-family=\"sans-serif\" font-size=\"12\" font-style=\"italic\" lengthAdjust=\"spacingAndGlyphs\" textLength=\"53\" x=\"49.5\" y=\"82.1387\">«action»</text><text fill=\"#000000\" font-family=\"sans-serif\" font-size=\"12\" lengthAdjust=\"spacingAndGlyphs\" textLength=\"16\" x=\"68\" y=\"96.1074\">A3</text></a></g><g id=\"E1.E8\"><a href=\"psysml:7b9f6d16-7e81-4d0a-aec9-34a5599243af\" target=\"_top\" title=\"psysml:7b9f6d16-7e81-4d0a-aec9-34a5599243af\" xlink:actuate=\"onRequest\" xlink:href=\"psysml:7b9f6d16-7e81-4d0a-aec9-34a5599243af\" xlink:show=\"new\" xlink:title=\"psysml:7b9f6d16-7e81-4d0a-aec9-34a5599243af\" xlink:type=\"simple\"><rect fill=\"#FFFFFF\" height=\"42.9375\" id=\"E8\" rx=\"10\" ry=\"10\" style=\"stroke: #383838; stroke-width: 1.5;\" width=\"60\" x=\"246\" y=\"117\"/><rect fill=\"#F8F8F8\" height=\"37.9375\" rx=\"10\" ry=\"10\" style=\"stroke: #F8F8F8; stroke-width: 1.5;\" width=\"60\" x=\"246\" y=\"117\"/><rect fill=\"#F8F8F8\" height=\"10\" style=\"stroke: #F8F8F8; stroke-width: 1.5;\" width=\"60\" x=\"246\" y=\"144.9375\"/><rect fill=\"none\" height=\"42.9375\" id=\"E8\" rx=\"10\" ry=\"10\" style=\"stroke: #383838; stroke-width: 1.5;\" width=\"60\" x=\"246\" y=\"117\"/><text fill=\"#000000\" font-family=\"sans-serif\" font-size=\"12\" font-style=\"italic\" lengthAdjust=\"spacingAndGlyphs\" textLength=\"53\" x=\"249.5\" y=\"133.1387\">«action»</text><text fill=\"#000000\" font-family=\"sans-serif\" font-size=\"12\" lengthAdjust=\"spacingAndGlyphs\" textLength=\"16\" x=\"268\" y=\"147.1074\">A3</text></a></g><!--MD5=[0188b64bb0ae78505a997a81836e11e9]\n",
       "link E3 to E5--><a href=\"psysml:7286f462-e52e-4ebc-bfea-7701f26f76d2\" target=\"_top\" title=\"psysml:7286f462-e52e-4ebc-bfea-7701f26f76d2\" xlink:actuate=\"onRequest\" xlink:href=\"psysml:7286f462-e52e-4ebc-bfea-7701f26f76d2\" xlink:show=\"new\" xlink:title=\"psysml:7286f462-e52e-4ebc-bfea-7701f26f76d2\" xlink:type=\"simple\"><path d=\"M140.07,51.78 C138.47,72.5 136.04,120.67 144,160 C145.92,169.49 149.4,179.47 152.99,188.21 \" fill=\"none\" id=\"E3-&gt;E5\" style=\"stroke: #383838; stroke-width: 1.0;\"/><polygon fill=\"#383838\" points=\"154.98,192.92,155.1631,183.0728,153.0346,188.314,147.7935,186.1855,154.98,192.92\" style=\"stroke: #383838; stroke-width: 1.0;\"/><text fill=\"#000000\" font-family=\"sans-serif\" font-size=\"13\" lengthAdjust=\"spacingAndGlyphs\" textLength=\"55\" x=\"145\" y=\"143.0669\">[x == 1]</text></a><!--MD5=[ec9844e0c75763426927cad3229d1081]\n",
       "link E3 to E6--><a href=\"psysml:e748a59f-80ec-4a6b-adc3-e898091fbade\" target=\"_top\" title=\"psysml:e748a59f-80ec-4a6b-adc3-e898091fbade\" xlink:actuate=\"onRequest\" xlink:href=\"psysml:e748a59f-80ec-4a6b-adc3-e898091fbade\" xlink:show=\"new\" xlink:title=\"psysml:e748a59f-80ec-4a6b-adc3-e898091fbade\" xlink:type=\"simple\"><path d=\"M147.17,46.62 C160.24,57.84 190.71,86.12 205,117 C229.03,168.92 221.32,186.98 226,244 C226.62,251.53 230.06,254.63 226,261 C220.01,270.41 210.02,276.76 199.83,281.03 \" fill=\"none\" id=\"E3-&gt;E6\" style=\"stroke: #383838; stroke-width: 1.0;\"/><polygon fill=\"#383838\" points=\"195.15,282.85,204.9881,283.3102,199.8089,281.035,202.0841,275.8559,195.15,282.85\" style=\"stroke: #383838; stroke-width: 1.0;\"/><text fill=\"#000000\" font-family=\"sans-serif\" font-size=\"13\" lengthAdjust=\"spacingAndGlyphs\" textLength=\"44\" x=\"224\" y=\"181.0669\">[x &gt; 1]</text></a><!--MD5=[ca5a752d6098d8a44b3f88316e7452d1]\n",
       "link E3 to E8--><a href=\"psysml:c4aa7bb1-7be8-4d3d-94c8-0c3feb0dde03\" target=\"_top\" title=\"psysml:c4aa7bb1-7be8-4d3d-94c8-0c3feb0dde03\" xlink:actuate=\"onRequest\" xlink:href=\"psysml:c4aa7bb1-7be8-4d3d-94c8-0c3feb0dde03\" xlink:show=\"new\" xlink:title=\"psysml:c4aa7bb1-7be8-4d3d-94c8-0c3feb0dde03\" xlink:type=\"simple\"><path d=\"M147.65,45.88 C153.56,49.59 162.55,54.81 171,58 C186.34,63.79 195.35,54.47 207,66 C220.94,79.81 204.74,93.68 217,109 C223.18,116.72 231.96,122.48 240.86,126.73 \" fill=\"none\" id=\"E3-&gt;E8\" style=\"stroke: #383838; stroke-width: 1.0;\"/><polygon fill=\"#383838\" points=\"245.81,128.93,239.2251,121.6061,241.2451,126.89,235.9612,128.91,245.81,128.93\" style=\"stroke: #383838; stroke-width: 1.0;\"/></a><!--MD5=[95fa686b5a16158bcdbcaeead89f639b]\n",
       "link E8 to E3--><a href=\"psysml:313c2626-617f-4a85-9d7c-c31cb61d9b9e\" target=\"_top\" title=\"psysml:313c2626-617f-4a85-9d7c-c31cb61d9b9e\" xlink:actuate=\"onRequest\" xlink:href=\"psysml:313c2626-617f-4a85-9d7c-c31cb61d9b9e\" xlink:show=\"new\" xlink:title=\"psysml:313c2626-617f-4a85-9d7c-c31cb61d9b9e\" xlink:type=\"simple\"><path d=\"M253.3,116.74 C250.77,114.19 248.29,111.58 246,109 C230.2,91.18 234.22,78.6 214,66 C197.5,55.72 189.3,64.54 171,58 C164.35,55.62 157.42,51.9 151.89,48.59 \" fill=\"none\" id=\"E8-&gt;E3\" style=\"stroke: #383838; stroke-width: 1.0;\"/><polygon fill=\"#383838\" points=\"147.62,45.95,153.1764,54.0818,151.8744,48.5769,157.3793,47.2748,147.62,45.95\" style=\"stroke: #383838; stroke-width: 1.0;\"/><text fill=\"#000000\" font-family=\"sans-serif\" font-size=\"13\" lengthAdjust=\"spacingAndGlyphs\" textLength=\"44\" x=\"247\" y=\"92.0669\">[x &gt; 0]</text></a><!--MD5=[af87c684e3b0d8be13c1a698a818ef1e]\n",
       "link E3 to E4--><a href=\"psysml:9e59e0cd-e7d6-48f9-8abd-2b6da2cb7bd3\" target=\"_top\" title=\"psysml:9e59e0cd-e7d6-48f9-8abd-2b6da2cb7bd3\" xlink:actuate=\"onRequest\" xlink:href=\"psysml:9e59e0cd-e7d6-48f9-8abd-2b6da2cb7bd3\" xlink:show=\"new\" xlink:title=\"psysml:9e59e0cd-e7d6-48f9-8abd-2b6da2cb7bd3\" xlink:type=\"simple\"><path d=\"M130.87,42.54 C108.03,45.11 53.64,52.54 42,66 C28.37,81.77 29.55,107.42 32.02,123.33 \" fill=\"none\" id=\"E3-&gt;E4\" style=\"stroke: #383838; stroke-width: 1.0;\"/><polygon fill=\"#383838\" points=\"32.88,128.32,35.3057,118.7745,32.0372,123.3915,27.4201,120.1231,32.88,128.32\" style=\"stroke: #383838; stroke-width: 1.0;\"/></a><!--MD5=[1b7591eae5389033d8d09a9d6721a717]\n",
       "link E4 to E5--><a href=\"psysml:7b0b5bc6-fd2d-464d-92f4-1e71099b6f78\" target=\"_top\" title=\"psysml:7b0b5bc6-fd2d-464d-92f4-1e71099b6f78\" xlink:actuate=\"onRequest\" xlink:href=\"psysml:7b0b5bc6-fd2d-464d-92f4-1e71099b6f78\" xlink:show=\"new\" xlink:title=\"psysml:7b0b5bc6-fd2d-464d-92f4-1e71099b6f78\" xlink:type=\"simple\"><path d=\"M40.09,145.69 C48.35,155.37 65.62,174.11 84,185 C93.67,190.73 97.38,189.32 108,193 C115.1,195.46 122.69,198.15 129.93,200.74 \" fill=\"none\" id=\"E4-&gt;E5\" style=\"stroke: #383838; stroke-width: 1.0;\"/><polygon fill=\"#383838\" points=\"134.87,202.52,127.7488,195.7164,130.1636,200.832,125.048,203.2467,134.87,202.52\" style=\"stroke: #383838; stroke-width: 1.0;\"/><text fill=\"#000000\" font-family=\"sans-serif\" font-size=\"13\" lengthAdjust=\"spacingAndGlyphs\" textLength=\"36\" x=\"85\" y=\"181.0669\">[true]</text></a><!--MD5=[79568f1e445c3877b6a54524624ccc7d]\n",
       "link E4 to E6--><a href=\"psysml:2cb1b039-bbb8-4621-9b87-8355478bfab0\" target=\"_top\" title=\"psysml:2cb1b039-bbb8-4621-9b87-8355478bfab0\" xlink:actuate=\"onRequest\" xlink:href=\"psysml:2cb1b039-bbb8-4621-9b87-8355478bfab0\" xlink:show=\"new\" xlink:title=\"psysml:2cb1b039-bbb8-4621-9b87-8355478bfab0\" xlink:type=\"simple\"><path d=\"M36.89,148.77 C41.08,167.27 52.64,209.28 76,236 C90.77,252.89 112.21,266 130.35,275.02 \" fill=\"none\" id=\"E4-&gt;E6\" style=\"stroke: #383838; stroke-width: 1.0;\"/><polygon fill=\"#383838\" points=\"134.88,277.22,128.532,269.6898,130.3825,275.0355,125.0368,276.8859,134.88,277.22\" style=\"stroke: #383838; stroke-width: 1.0;\"/><text fill=\"#000000\" font-family=\"sans-serif\" font-size=\"13\" lengthAdjust=\"spacingAndGlyphs\" textLength=\"40\" x=\"77\" y=\"219.0669\">[false]</text></a><!--MD5=[9120cf2e5df3bff93db8f754bbbc09b4]\n",
       "link E5 to E6--><a href=\"psysml:b49ece63-4bda-4eac-a48b-66e19b9bdab7\" target=\"_top\" title=\"psysml:b49ece63-4bda-4eac-a48b-66e19b9bdab7\" xlink:actuate=\"onRequest\" xlink:href=\"psysml:b49ece63-4bda-4eac-a48b-66e19b9bdab7\" xlink:show=\"new\" xlink:title=\"psysml:b49ece63-4bda-4eac-a48b-66e19b9bdab7\" xlink:type=\"simple\"><path d=\"M165,236.11 C165,244.69 165,254.75 165,263.8 \" fill=\"none\" id=\"E5-&gt;E6\" style=\"stroke: #383838; stroke-width: 1.0;\"/><polygon fill=\"#383838\" points=\"165,269,169,260,165,264,161,260,165,269\" style=\"stroke: #383838; stroke-width: 1.0;\"/><text fill=\"#000000\" font-family=\"sans-serif\" font-size=\"13\" lengthAdjust=\"spacingAndGlyphs\" textLength=\"55\" x=\"166\" y=\"257.0669\">[x == 0]</text></a><!--MD5=[6f630aea35a0d2ef56032c70fde64f04]\n",
       "@startuml\r\n",
       "skinparam ranksep 10\r\n",
       "skinparam rectangle {\r\n",
       " backgroundColor<<block>> LightGreen\r\n",
       "}\r\n",
       "top to bottom direction\r\n",
       "skinparam monochrome true\r\n",
       "skinparam classbackgroundcolor white\r\n",
       "skinparam shadowing false\r\n",
       "skinparam wrapWidth 300\r\n",
       "hide circle\r\n",
       "\r\n",
       "rec def \"DecisionTest\" as E1  <<(T,blue)action def>> [[psysml:3be07126-877a-4309-8447-1e285ef81f95 ]] {\r\n",
       "portout \"$result\" as E2  [[psysml:9348992a-eef4-478a-99a3-8679640e907b ]] \r\n",
       "choice \"test x\" as E3  [[psysml:68020b6f-ffe7-4b5f-b810-1edcbdd08af0 ]] \r\n",
       "choice \"noname\" as E4  [[psysml:c53ed86d-7fd9-4daa-81a5-a3aaa8a48fdd ]] \r\n",
       "rec usage \"A1\" as E5  <<(T,blue)action>> [[psysml:0f40ea9b-adac-4a33-8b1a-34d15e55e3d2 ]] {\r\n",
       "}\r\n",
       "\r\n",
       "rec usage \"A2\" as E6  <<(T,blue)action>> [[psysml:128661ee-6ef6-488f-adc9-4acba814b00a ]] {\r\n",
       "}\r\n",
       "\r\n",
       "rec usage \"A3\" as E7  <<(T,blue)action>> [[psysml:7b9f6d16-7e81-4d0a-aec9-34a5599243af ]] {\r\n",
       "}\r\n",
       "\r\n",
       "rec usage \"A3\" as E8  <<(T,blue)action>> [[psysml:7b9f6d16-7e81-4d0a-aec9-34a5599243af ]] {\r\n",
       "}\r\n",
       "\r\n",
       "}\r\n",
       "\r\n",
       "E3  - -> E5 [[psysml:7286f462-e52e-4ebc-bfea-7701f26f76d2 ]] : [x == 1]\r\n",
       "E3  - -> E6 [[psysml:e748a59f-80ec-4a6b-adc3-e898091fbade ]] : [x > 1]\r\n",
       "E3  - -> E8 [[psysml:c4aa7bb1-7be8-4d3d-94c8-0c3feb0dde03 ]] \r\n",
       "E3 - -> E4 [[psysml:9e59e0cd-e7d6-48f9-8abd-2b6da2cb7bd3 ]] \r\n",
       "E4  - -> E5 [[psysml:7b0b5bc6-fd2d-464d-92f4-1e71099b6f78 ]] : [true]\r\n",
       "E4  - -> E6 [[psysml:2cb1b039-bbb8-4621-9b87-8355478bfab0 ]] : [false]\r\n",
       "E5  - -> E6 [[psysml:b49ece63-4bda-4eac-a48b-66e19b9bdab7 ]] : [x == 0]\r\n",
       "E8  - -> E3 [[psysml:313c2626-617f-4a85-9d7c-c31cb61d9b9e ]] : [x > 0]\r\n",
       "@enduml\r\n",
       "\n",
       "PlantUML version 1.2020.13(Sat Jun 13 12:26:38 UTC 2020)\n",
       "(EPL source distribution)\n",
       "Java Runtime: OpenJDK Runtime Environment\n",
       "JVM: OpenJDK 64-Bit Server VM\n",
       "Default Encoding: UTF-8\n",
       "Language: en\n",
       "Country: null\n",
       "--></g></svg>"
      ]
     },
     "execution_count": 47,
     "metadata": {},
     "output_type": "execute_result"
    }
   ],
   "source": [
    "%viz --style=\"TB\" --view=\"Interconnection\" \"DecisionTest\""
   ]
  },
  {
   "cell_type": "code",
   "execution_count": 48,
   "id": "8dbf417e",
   "metadata": {
    "execution": {
     "iopub.execute_input": "2021-05-27T06:09:55.459981Z",
     "iopub.status.busy": "2021-05-27T06:09:55.459387Z",
     "iopub.status.idle": "2021-05-27T06:09:55.491841Z",
     "shell.execute_reply": "2021-05-27T06:09:55.490349Z"
    }
   },
   "outputs": [
    {
     "data": {
      "image/svg+xml": [
       "<?xml version=\"1.0\" encoding=\"UTF-8\" standalone=\"no\"?><svg xmlns=\"http://www.w3.org/2000/svg\" xmlns:xlink=\"http://www.w3.org/1999/xlink\" contentScriptType=\"application/ecmascript\" contentStyleType=\"text/css\" height=\"384px\" preserveAspectRatio=\"none\" style=\"width:333px;height:384px;\" version=\"1.1\" viewBox=\"0 0 333 384\" width=\"333px\" zoomAndPan=\"magnify\"><defs/><g><!--MD5=[fbc87193dbaf4d95561dea2c320d4a47]\n",
       "cluster E1--><a href=\"psysml:3be07126-877a-4309-8447-1e285ef81f95\" target=\"_top\" title=\"psysml:3be07126-877a-4309-8447-1e285ef81f95\" xlink:actuate=\"onRequest\" xlink:href=\"psysml:3be07126-877a-4309-8447-1e285ef81f95\" xlink:show=\"new\" xlink:title=\"psysml:3be07126-877a-4309-8447-1e285ef81f95\" xlink:type=\"simple\"><rect fill=\"#FFFFFF\" height=\"344.72\" id=\"E1\" style=\"stroke: #383838; stroke-width: 1.5;\" width=\"315\" x=\"7\" y=\"7\"/><rect fill=\"#F8F8F8\" height=\"37.9375\" style=\"stroke: #383838; stroke-width: 1.5;\" width=\"315\" x=\"7\" y=\"7\"/><text fill=\"#000000\" font-family=\"sans-serif\" font-size=\"12\" font-style=\"italic\" lengthAdjust=\"spacingAndGlyphs\" textLength=\"77\" x=\"126\" y=\"23.1387\">«action def»</text><text fill=\"#000000\" font-family=\"sans-serif\" font-size=\"12\" lengthAdjust=\"spacingAndGlyphs\" textLength=\"80\" x=\"124.5\" y=\"37.1074\">DecisionTest</text></a><text fill=\"#000000\" font-family=\"sans-serif\" font-size=\"14\" lengthAdjust=\"spacingAndGlyphs\" textLength=\"48\" x=\"140\" y=\"370.7151\">$result</text><rect fill=\"#383838\" height=\"12\" style=\"stroke: #F8F8F8; stroke-width: 1.5;\" width=\"12\" x=\"158\" y=\"345.72\"/><polygon fill=\"#F8F8F8\" points=\"141,28.5,153,40.5,141,52.5,129,40.5,141,28.5\" style=\"stroke: #383838; stroke-width: 1.5;\"/><polygon fill=\"#F8F8F8\" points=\"35,126.5,47,138.5,35,150.5,23,138.5,35,126.5\" style=\"stroke: #383838; stroke-width: 1.5;\"/><g id=\"E1.E5\"><a href=\"psysml:0f40ea9b-adac-4a33-8b1a-34d15e55e3d2\" target=\"_top\" title=\"psysml:0f40ea9b-adac-4a33-8b1a-34d15e55e3d2\" xlink:actuate=\"onRequest\" xlink:href=\"psysml:0f40ea9b-adac-4a33-8b1a-34d15e55e3d2\" xlink:show=\"new\" xlink:title=\"psysml:0f40ea9b-adac-4a33-8b1a-34d15e55e3d2\" xlink:type=\"simple\"><rect fill=\"#FFFFFF\" height=\"42.9375\" id=\"E5\" rx=\"10\" ry=\"10\" style=\"stroke: #383838; stroke-width: 1.5;\" width=\"60\" x=\"135\" y=\"193\"/><rect fill=\"#F8F8F8\" height=\"37.9375\" rx=\"10\" ry=\"10\" style=\"stroke: #F8F8F8; stroke-width: 1.5;\" width=\"60\" x=\"135\" y=\"193\"/><rect fill=\"#F8F8F8\" height=\"10\" style=\"stroke: #F8F8F8; stroke-width: 1.5;\" width=\"60\" x=\"135\" y=\"220.9375\"/><rect fill=\"none\" height=\"42.9375\" id=\"E5\" rx=\"10\" ry=\"10\" style=\"stroke: #383838; stroke-width: 1.5;\" width=\"60\" x=\"135\" y=\"193\"/><text fill=\"#000000\" font-family=\"sans-serif\" font-size=\"12\" font-style=\"italic\" lengthAdjust=\"spacingAndGlyphs\" textLength=\"53\" x=\"138.5\" y=\"209.1387\">«action»</text><text fill=\"#000000\" font-family=\"sans-serif\" font-size=\"12\" lengthAdjust=\"spacingAndGlyphs\" textLength=\"16\" x=\"157\" y=\"223.1074\">A1</text></a></g><g id=\"E1.E6\"><a href=\"psysml:128661ee-6ef6-488f-adc9-4acba814b00a\" target=\"_top\" title=\"psysml:128661ee-6ef6-488f-adc9-4acba814b00a\" xlink:actuate=\"onRequest\" xlink:href=\"psysml:128661ee-6ef6-488f-adc9-4acba814b00a\" xlink:show=\"new\" xlink:title=\"psysml:128661ee-6ef6-488f-adc9-4acba814b00a\" xlink:type=\"simple\"><rect fill=\"#FFFFFF\" height=\"42.9375\" id=\"E6\" rx=\"10\" ry=\"10\" style=\"stroke: #383838; stroke-width: 1.5;\" width=\"60\" x=\"135\" y=\"269\"/><rect fill=\"#F8F8F8\" height=\"37.9375\" rx=\"10\" ry=\"10\" style=\"stroke: #F8F8F8; stroke-width: 1.5;\" width=\"60\" x=\"135\" y=\"269\"/><rect fill=\"#F8F8F8\" height=\"10\" style=\"stroke: #F8F8F8; stroke-width: 1.5;\" width=\"60\" x=\"135\" y=\"296.9375\"/><rect fill=\"none\" height=\"42.9375\" id=\"E6\" rx=\"10\" ry=\"10\" style=\"stroke: #383838; stroke-width: 1.5;\" width=\"60\" x=\"135\" y=\"269\"/><text fill=\"#000000\" font-family=\"sans-serif\" font-size=\"12\" font-style=\"italic\" lengthAdjust=\"spacingAndGlyphs\" textLength=\"53\" x=\"138.5\" y=\"285.1387\">«action»</text><text fill=\"#000000\" font-family=\"sans-serif\" font-size=\"12\" lengthAdjust=\"spacingAndGlyphs\" textLength=\"16\" x=\"157\" y=\"299.1074\">A2</text></a></g><g id=\"E1.E7\"><a href=\"psysml:7b9f6d16-7e81-4d0a-aec9-34a5599243af\" target=\"_top\" title=\"psysml:7b9f6d16-7e81-4d0a-aec9-34a5599243af\" xlink:actuate=\"onRequest\" xlink:href=\"psysml:7b9f6d16-7e81-4d0a-aec9-34a5599243af\" xlink:show=\"new\" xlink:title=\"psysml:7b9f6d16-7e81-4d0a-aec9-34a5599243af\" xlink:type=\"simple\"><rect fill=\"#FFFFFF\" height=\"42.9375\" id=\"E7\" rx=\"10\" ry=\"10\" style=\"stroke: #383838; stroke-width: 1.5;\" width=\"60\" x=\"46\" y=\"66\"/><rect fill=\"#F8F8F8\" height=\"37.9375\" rx=\"10\" ry=\"10\" style=\"stroke: #F8F8F8; stroke-width: 1.5;\" width=\"60\" x=\"46\" y=\"66\"/><rect fill=\"#F8F8F8\" height=\"10\" style=\"stroke: #F8F8F8; stroke-width: 1.5;\" width=\"60\" x=\"46\" y=\"93.9375\"/><rect fill=\"none\" height=\"42.9375\" id=\"E7\" rx=\"10\" ry=\"10\" style=\"stroke: #383838; stroke-width: 1.5;\" width=\"60\" x=\"46\" y=\"66\"/><text fill=\"#000000\" font-family=\"sans-serif\" font-size=\"12\" font-style=\"italic\" lengthAdjust=\"spacingAndGlyphs\" textLength=\"53\" x=\"49.5\" y=\"82.1387\">«action»</text><text fill=\"#000000\" font-family=\"sans-serif\" font-size=\"12\" lengthAdjust=\"spacingAndGlyphs\" textLength=\"16\" x=\"68\" y=\"96.1074\">A3</text></a></g><g id=\"E1.E8\"><a href=\"psysml:7b9f6d16-7e81-4d0a-aec9-34a5599243af\" target=\"_top\" title=\"psysml:7b9f6d16-7e81-4d0a-aec9-34a5599243af\" xlink:actuate=\"onRequest\" xlink:href=\"psysml:7b9f6d16-7e81-4d0a-aec9-34a5599243af\" xlink:show=\"new\" xlink:title=\"psysml:7b9f6d16-7e81-4d0a-aec9-34a5599243af\" xlink:type=\"simple\"><rect fill=\"#FFFFFF\" height=\"42.9375\" id=\"E8\" rx=\"10\" ry=\"10\" style=\"stroke: #383838; stroke-width: 1.5;\" width=\"60\" x=\"246\" y=\"117\"/><rect fill=\"#F8F8F8\" height=\"37.9375\" rx=\"10\" ry=\"10\" style=\"stroke: #F8F8F8; stroke-width: 1.5;\" width=\"60\" x=\"246\" y=\"117\"/><rect fill=\"#F8F8F8\" height=\"10\" style=\"stroke: #F8F8F8; stroke-width: 1.5;\" width=\"60\" x=\"246\" y=\"144.9375\"/><rect fill=\"none\" height=\"42.9375\" id=\"E8\" rx=\"10\" ry=\"10\" style=\"stroke: #383838; stroke-width: 1.5;\" width=\"60\" x=\"246\" y=\"117\"/><text fill=\"#000000\" font-family=\"sans-serif\" font-size=\"12\" font-style=\"italic\" lengthAdjust=\"spacingAndGlyphs\" textLength=\"53\" x=\"249.5\" y=\"133.1387\">«action»</text><text fill=\"#000000\" font-family=\"sans-serif\" font-size=\"12\" lengthAdjust=\"spacingAndGlyphs\" textLength=\"16\" x=\"268\" y=\"147.1074\">A3</text></a></g><!--MD5=[0188b64bb0ae78505a997a81836e11e9]\n",
       "link E3 to E5--><a href=\"psysml:7286f462-e52e-4ebc-bfea-7701f26f76d2\" target=\"_top\" title=\"psysml:7286f462-e52e-4ebc-bfea-7701f26f76d2\" xlink:actuate=\"onRequest\" xlink:href=\"psysml:7286f462-e52e-4ebc-bfea-7701f26f76d2\" xlink:show=\"new\" xlink:title=\"psysml:7286f462-e52e-4ebc-bfea-7701f26f76d2\" xlink:type=\"simple\"><path d=\"M140.07,51.78 C138.47,72.5 136.04,120.67 144,160 C145.92,169.49 149.4,179.47 152.99,188.21 \" fill=\"none\" id=\"E3-&gt;E5\" style=\"stroke: #383838; stroke-width: 1.0; stroke-dasharray: 7.0,7.0;\"/><polygon fill=\"#383838\" points=\"154.98,192.92,155.1631,183.0728,153.0346,188.314,147.7935,186.1855,154.98,192.92\" style=\"stroke: #383838; stroke-width: 1.0;\"/><text fill=\"#000000\" font-family=\"sans-serif\" font-size=\"13\" lengthAdjust=\"spacingAndGlyphs\" textLength=\"55\" x=\"145\" y=\"143.0669\">[x == 1]</text></a><!--MD5=[ec9844e0c75763426927cad3229d1081]\n",
       "link E3 to E6--><a href=\"psysml:e748a59f-80ec-4a6b-adc3-e898091fbade\" target=\"_top\" title=\"psysml:e748a59f-80ec-4a6b-adc3-e898091fbade\" xlink:actuate=\"onRequest\" xlink:href=\"psysml:e748a59f-80ec-4a6b-adc3-e898091fbade\" xlink:show=\"new\" xlink:title=\"psysml:e748a59f-80ec-4a6b-adc3-e898091fbade\" xlink:type=\"simple\"><path d=\"M147.17,46.62 C160.24,57.84 190.71,86.12 205,117 C229.03,168.92 221.32,186.98 226,244 C226.62,251.53 230.06,254.63 226,261 C220.01,270.41 210.02,276.76 199.83,281.03 \" fill=\"none\" id=\"E3-&gt;E6\" style=\"stroke: #383838; stroke-width: 1.0; stroke-dasharray: 7.0,7.0;\"/><polygon fill=\"#383838\" points=\"195.15,282.85,204.9881,283.3102,199.8089,281.035,202.0841,275.8559,195.15,282.85\" style=\"stroke: #383838; stroke-width: 1.0;\"/><text fill=\"#000000\" font-family=\"sans-serif\" font-size=\"13\" lengthAdjust=\"spacingAndGlyphs\" textLength=\"44\" x=\"224\" y=\"181.0669\">[x &gt; 1]</text></a><!--MD5=[ca5a752d6098d8a44b3f88316e7452d1]\n",
       "link E3 to E8--><a href=\"psysml:c4aa7bb1-7be8-4d3d-94c8-0c3feb0dde03\" target=\"_top\" title=\"psysml:c4aa7bb1-7be8-4d3d-94c8-0c3feb0dde03\" xlink:actuate=\"onRequest\" xlink:href=\"psysml:c4aa7bb1-7be8-4d3d-94c8-0c3feb0dde03\" xlink:show=\"new\" xlink:title=\"psysml:c4aa7bb1-7be8-4d3d-94c8-0c3feb0dde03\" xlink:type=\"simple\"><path d=\"M147.65,45.88 C153.56,49.59 162.55,54.81 171,58 C186.34,63.79 195.35,54.47 207,66 C220.94,79.81 204.74,93.68 217,109 C223.18,116.72 231.96,122.48 240.86,126.73 \" fill=\"none\" id=\"E3-&gt;E8\" style=\"stroke: #383838; stroke-width: 1.0; stroke-dasharray: 7.0,7.0;\"/><polygon fill=\"#383838\" points=\"245.81,128.93,239.2251,121.6061,241.2451,126.89,235.9612,128.91,245.81,128.93\" style=\"stroke: #383838; stroke-width: 1.0;\"/></a><!--MD5=[95fa686b5a16158bcdbcaeead89f639b]\n",
       "link E8 to E3--><a href=\"psysml:313c2626-617f-4a85-9d7c-c31cb61d9b9e\" target=\"_top\" title=\"psysml:313c2626-617f-4a85-9d7c-c31cb61d9b9e\" xlink:actuate=\"onRequest\" xlink:href=\"psysml:313c2626-617f-4a85-9d7c-c31cb61d9b9e\" xlink:show=\"new\" xlink:title=\"psysml:313c2626-617f-4a85-9d7c-c31cb61d9b9e\" xlink:type=\"simple\"><path d=\"M253.3,116.74 C250.77,114.19 248.29,111.58 246,109 C230.2,91.18 234.22,78.6 214,66 C197.5,55.72 189.3,64.54 171,58 C164.35,55.62 157.42,51.9 151.89,48.59 \" fill=\"none\" id=\"E8-&gt;E3\" style=\"stroke: #383838; stroke-width: 1.0; stroke-dasharray: 7.0,7.0;\"/><polygon fill=\"#383838\" points=\"147.62,45.95,153.1764,54.0818,151.8744,48.5769,157.3793,47.2748,147.62,45.95\" style=\"stroke: #383838; stroke-width: 1.0;\"/><text fill=\"#000000\" font-family=\"sans-serif\" font-size=\"13\" lengthAdjust=\"spacingAndGlyphs\" textLength=\"44\" x=\"247\" y=\"92.0669\">[x &gt; 0]</text></a><!--MD5=[af87c684e3b0d8be13c1a698a818ef1e]\n",
       "link E3 to E4--><a href=\"psysml:9e59e0cd-e7d6-48f9-8abd-2b6da2cb7bd3\" target=\"_top\" title=\"psysml:9e59e0cd-e7d6-48f9-8abd-2b6da2cb7bd3\" xlink:actuate=\"onRequest\" xlink:href=\"psysml:9e59e0cd-e7d6-48f9-8abd-2b6da2cb7bd3\" xlink:show=\"new\" xlink:title=\"psysml:9e59e0cd-e7d6-48f9-8abd-2b6da2cb7bd3\" xlink:type=\"simple\"><path d=\"M130.87,42.54 C108.03,45.11 53.64,52.54 42,66 C28.37,81.77 29.55,107.42 32.02,123.33 \" fill=\"none\" id=\"E3-&gt;E4\" style=\"stroke: #383838; stroke-width: 1.0; stroke-dasharray: 7.0,7.0;\"/><polygon fill=\"#383838\" points=\"32.88,128.32,35.3057,118.7745,32.0372,123.3915,27.4201,120.1231,32.88,128.32\" style=\"stroke: #383838; stroke-width: 1.0;\"/></a><!--MD5=[1b7591eae5389033d8d09a9d6721a717]\n",
       "link E4 to E5--><a href=\"psysml:7b0b5bc6-fd2d-464d-92f4-1e71099b6f78\" target=\"_top\" title=\"psysml:7b0b5bc6-fd2d-464d-92f4-1e71099b6f78\" xlink:actuate=\"onRequest\" xlink:href=\"psysml:7b0b5bc6-fd2d-464d-92f4-1e71099b6f78\" xlink:show=\"new\" xlink:title=\"psysml:7b0b5bc6-fd2d-464d-92f4-1e71099b6f78\" xlink:type=\"simple\"><path d=\"M40.09,145.69 C48.35,155.37 65.62,174.11 84,185 C93.67,190.73 97.38,189.32 108,193 C115.1,195.46 122.69,198.15 129.93,200.74 \" fill=\"none\" id=\"E4-&gt;E5\" style=\"stroke: #383838; stroke-width: 1.0; stroke-dasharray: 7.0,7.0;\"/><polygon fill=\"#383838\" points=\"134.87,202.52,127.7488,195.7164,130.1636,200.832,125.048,203.2467,134.87,202.52\" style=\"stroke: #383838; stroke-width: 1.0;\"/><text fill=\"#000000\" font-family=\"sans-serif\" font-size=\"13\" lengthAdjust=\"spacingAndGlyphs\" textLength=\"36\" x=\"85\" y=\"181.0669\">[true]</text></a><!--MD5=[79568f1e445c3877b6a54524624ccc7d]\n",
       "link E4 to E6--><a href=\"psysml:2cb1b039-bbb8-4621-9b87-8355478bfab0\" target=\"_top\" title=\"psysml:2cb1b039-bbb8-4621-9b87-8355478bfab0\" xlink:actuate=\"onRequest\" xlink:href=\"psysml:2cb1b039-bbb8-4621-9b87-8355478bfab0\" xlink:show=\"new\" xlink:title=\"psysml:2cb1b039-bbb8-4621-9b87-8355478bfab0\" xlink:type=\"simple\"><path d=\"M36.89,148.77 C41.08,167.27 52.64,209.28 76,236 C90.77,252.89 112.21,266 130.35,275.02 \" fill=\"none\" id=\"E4-&gt;E6\" style=\"stroke: #383838; stroke-width: 1.0; stroke-dasharray: 7.0,7.0;\"/><polygon fill=\"#383838\" points=\"134.88,277.22,128.532,269.6898,130.3825,275.0355,125.0368,276.8859,134.88,277.22\" style=\"stroke: #383838; stroke-width: 1.0;\"/><text fill=\"#000000\" font-family=\"sans-serif\" font-size=\"13\" lengthAdjust=\"spacingAndGlyphs\" textLength=\"40\" x=\"77\" y=\"219.0669\">[false]</text></a><!--MD5=[9120cf2e5df3bff93db8f754bbbc09b4]\n",
       "link E5 to E6--><a href=\"psysml:b49ece63-4bda-4eac-a48b-66e19b9bdab7\" target=\"_top\" title=\"psysml:b49ece63-4bda-4eac-a48b-66e19b9bdab7\" xlink:actuate=\"onRequest\" xlink:href=\"psysml:b49ece63-4bda-4eac-a48b-66e19b9bdab7\" xlink:show=\"new\" xlink:title=\"psysml:b49ece63-4bda-4eac-a48b-66e19b9bdab7\" xlink:type=\"simple\"><path d=\"M165,236.11 C165,244.69 165,254.75 165,263.8 \" fill=\"none\" id=\"E5-&gt;E6\" style=\"stroke: #383838; stroke-width: 1.0; stroke-dasharray: 7.0,7.0;\"/><polygon fill=\"#383838\" points=\"165,269,169,260,165,264,161,260,165,269\" style=\"stroke: #383838; stroke-width: 1.0;\"/><text fill=\"#000000\" font-family=\"sans-serif\" font-size=\"13\" lengthAdjust=\"spacingAndGlyphs\" textLength=\"55\" x=\"166\" y=\"257.0669\">[x == 0]</text></a><!--MD5=[70177ec3c29272477f5740c90a5c7eb4]\n",
       "@startuml\r\n",
       "skinparam ranksep 8\r\n",
       "top to bottom direction\r\n",
       "skinparam monochrome true\r\n",
       "skinparam classbackgroundcolor white\r\n",
       "skinparam shadowing false\r\n",
       "skinparam wrapWidth 300\r\n",
       "hide circle\r\n",
       "\r\n",
       "rec def \"DecisionTest\" as E1  <<(T,blue)action def>> [[psysml:3be07126-877a-4309-8447-1e285ef81f95 ]] {\r\n",
       "portout \"$result\" as E2  [[psysml:9348992a-eef4-478a-99a3-8679640e907b ]] \r\n",
       "choice \"test x\" as E3  [[psysml:68020b6f-ffe7-4b5f-b810-1edcbdd08af0 ]] \r\n",
       "choice \"noname\" as E4  [[psysml:c53ed86d-7fd9-4daa-81a5-a3aaa8a48fdd ]] \r\n",
       "rec usage \"A1\" as E5  <<(T,blue)action>> [[psysml:0f40ea9b-adac-4a33-8b1a-34d15e55e3d2 ]] {\r\n",
       "}\r\n",
       "\r\n",
       "rec usage \"A2\" as E6  <<(T,blue)action>> [[psysml:128661ee-6ef6-488f-adc9-4acba814b00a ]] {\r\n",
       "}\r\n",
       "\r\n",
       "rec usage \"A3\" as E7  <<(T,blue)action>> [[psysml:7b9f6d16-7e81-4d0a-aec9-34a5599243af ]] {\r\n",
       "}\r\n",
       "\r\n",
       "rec usage \"A3\" as E8  <<(T,blue)action>> [[psysml:7b9f6d16-7e81-4d0a-aec9-34a5599243af ]] {\r\n",
       "}\r\n",
       "\r\n",
       "}\r\n",
       "\r\n",
       "E3 ..> E5 [[psysml:7286f462-e52e-4ebc-bfea-7701f26f76d2 ]] : [x == 1]\r\n",
       "E3 ..> E6 [[psysml:e748a59f-80ec-4a6b-adc3-e898091fbade ]] : [x > 1]\r\n",
       "E3 ..> E8 [[psysml:c4aa7bb1-7be8-4d3d-94c8-0c3feb0dde03 ]] \r\n",
       "E3 ..> E4 [[psysml:9e59e0cd-e7d6-48f9-8abd-2b6da2cb7bd3 ]] \r\n",
       "E4 ..> E5 [[psysml:7b0b5bc6-fd2d-464d-92f4-1e71099b6f78 ]] : [true]\r\n",
       "E4 ..> E6 [[psysml:2cb1b039-bbb8-4621-9b87-8355478bfab0 ]] : [false]\r\n",
       "E5 ..> E6 [[psysml:b49ece63-4bda-4eac-a48b-66e19b9bdab7 ]] : [x == 0]\r\n",
       "E8 ..> E3 [[psysml:313c2626-617f-4a85-9d7c-c31cb61d9b9e ]] : [x > 0]\r\n",
       "@enduml\r\n",
       "\n",
       "PlantUML version 1.2020.13(Sat Jun 13 12:26:38 UTC 2020)\n",
       "(EPL source distribution)\n",
       "Java Runtime: OpenJDK Runtime Environment\n",
       "JVM: OpenJDK 64-Bit Server VM\n",
       "Default Encoding: UTF-8\n",
       "Language: en\n",
       "Country: null\n",
       "--></g></svg>"
      ]
     },
     "execution_count": 48,
     "metadata": {},
     "output_type": "execute_result"
    }
   ],
   "source": [
    "%viz --style=\"TB\" --view=\"Action\" \"DecisionTest\""
   ]
  },
  {
   "cell_type": "code",
   "execution_count": 49,
   "id": "b4dafb83",
   "metadata": {
    "execution": {
     "iopub.execute_input": "2021-05-27T06:09:55.543005Z",
     "iopub.status.busy": "2021-05-27T06:09:55.542202Z",
     "iopub.status.idle": "2021-05-27T06:09:55.606097Z",
     "shell.execute_reply": "2021-05-27T06:09:55.605801Z"
    }
   },
   "outputs": [
    {
     "data": {
      "image/svg+xml": [
       "<?xml version=\"1.0\" encoding=\"UTF-8\" standalone=\"no\"?><svg xmlns=\"http://www.w3.org/2000/svg\" xmlns:xlink=\"http://www.w3.org/1999/xlink\" contentScriptType=\"application/ecmascript\" contentStyleType=\"text/css\" height=\"207px\" preserveAspectRatio=\"none\" style=\"width:109px;height:207px;\" version=\"1.1\" viewBox=\"0 0 109 207\" width=\"109px\" zoomAndPan=\"magnify\"><defs/><g><!--MD5=[43c9051892ef23e1a46a86907403d788]\n",
       "class E1--><a href=\"psysml:3be07126-877a-4309-8447-1e285ef81f95\" target=\"_top\" title=\"psysml:3be07126-877a-4309-8447-1e285ef81f95\" xlink:actuate=\"onRequest\" xlink:href=\"psysml:3be07126-877a-4309-8447-1e285ef81f95\" xlink:show=\"new\" xlink:title=\"psysml:3be07126-877a-4309-8447-1e285ef81f95\" xlink:type=\"simple\"><rect fill=\"#FFFFFF\" height=\"189.9844\" id=\"E1\" style=\"stroke: #383838; stroke-width: 1.5;\" width=\"91\" x=\"7\" y=\"7\"/><text fill=\"#000000\" font-family=\"sans-serif\" font-size=\"12\" font-style=\"italic\" lengthAdjust=\"spacingAndGlyphs\" textLength=\"77\" x=\"14\" y=\"23.1387\">«action def»</text><text fill=\"#000000\" font-family=\"sans-serif\" font-size=\"12\" lengthAdjust=\"spacingAndGlyphs\" textLength=\"80\" x=\"12.5\" y=\"37.1074\">DecisionTest</text><line style=\"stroke: #383838; stroke-width: 1.5;\" x1=\"8\" x2=\"97\" y1=\"44.9375\" y2=\"44.9375\"/><text fill=\"#000000\" font-family=\"sans-serif\" font-size=\"11\" lengthAdjust=\"spacingAndGlyphs\" textLength=\"26\" x=\"13\" y=\"75.9526\">x=1;</text><line style=\"stroke: #383838; stroke-width: 1.0;\" x1=\"8\" x2=\"25\" y1=\"59.3398\" y2=\"59.3398\"/><text fill=\"#000000\" font-family=\"sans-serif\" font-size=\"11\" lengthAdjust=\"spacingAndGlyphs\" textLength=\"55\" x=\"25\" y=\"62.6479\">attributes</text><line style=\"stroke: #383838; stroke-width: 1.0;\" x1=\"80\" x2=\"97\" y1=\"59.3398\" y2=\"59.3398\"/><text fill=\"#000000\" font-family=\"sans-serif\" font-size=\"11\" lengthAdjust=\"spacingAndGlyphs\" textLength=\"14\" x=\"13\" y=\"105.562\">A1</text><text fill=\"#000000\" font-family=\"sans-serif\" font-size=\"11\" lengthAdjust=\"spacingAndGlyphs\" textLength=\"14\" x=\"13\" y=\"118.3667\">A2</text><text fill=\"#000000\" font-family=\"sans-serif\" font-size=\"11\" lengthAdjust=\"spacingAndGlyphs\" textLength=\"14\" x=\"13\" y=\"131.1714\">A3</text><line style=\"stroke: #383838; stroke-width: 1.0;\" x1=\"8\" x2=\"32\" y1=\"88.9492\" y2=\"88.9492\"/><text fill=\"#000000\" font-family=\"sans-serif\" font-size=\"11\" lengthAdjust=\"spacingAndGlyphs\" textLength=\"41\" x=\"32\" y=\"92.2573\">actions</text><line style=\"stroke: #383838; stroke-width: 1.0;\" x1=\"73\" x2=\"97\" y1=\"88.9492\" y2=\"88.9492\"/><text fill=\"#000000\" font-family=\"sans-serif\" font-size=\"11\" lengthAdjust=\"spacingAndGlyphs\" textLength=\"32\" x=\"13\" y=\"160.7808\">test x</text><line style=\"stroke: #383838; stroke-width: 1.0;\" x1=\"8\" x2=\"11\" y1=\"144.168\" y2=\"144.168\"/><text fill=\"#000000\" font-family=\"sans-serif\" font-size=\"11\" lengthAdjust=\"spacingAndGlyphs\" textLength=\"83\" x=\"11\" y=\"147.4761\">decisionNodes</text><line style=\"stroke: #383838; stroke-width: 1.0;\" x1=\"94\" x2=\"97\" y1=\"144.168\" y2=\"144.168\"/><text fill=\"#000000\" font-family=\"sans-serif\" font-size=\"11\" lengthAdjust=\"spacingAndGlyphs\" textLength=\"8\" x=\"13\" y=\"190.3901\">S</text><line style=\"stroke: #383838; stroke-width: 1.0;\" x1=\"8\" x2=\"22\" y1=\"173.7773\" y2=\"173.7773\"/><text fill=\"#000000\" font-family=\"sans-serif\" font-size=\"11\" lengthAdjust=\"spacingAndGlyphs\" textLength=\"61\" x=\"22\" y=\"177.0854\">transitions</text><line style=\"stroke: #383838; stroke-width: 1.0;\" x1=\"83\" x2=\"97\" y1=\"173.7773\" y2=\"173.7773\"/></a><!--MD5=[40e2371b25a2ab3e09cad803166c3277]\n",
       "@startuml\r\n",
       "top to bottom direction\r\n",
       "skinparam monochrome true\r\n",
       "skinparam classbackgroundcolor white\r\n",
       "skinparam shadowing false\r\n",
       "skinparam wrapWidth 300\r\n",
       "hide circle\r\n",
       "\r\n",
       "comp def \"DecisionTest\" as E1  <<(T,blue)action def>> [[psysml:3be07126-877a-4309-8447-1e285ef81f95 ]] {\r\n",
       "- - attributes - -\r\n",
       "x=1; \r\n",
       "- - actions - -\r\n",
       "A1\r\n",
       "A2\r\n",
       "A3\r\n",
       "- - decisionNodes - -\r\n",
       "test x\r\n",
       "- - transitions - -\r\n",
       "S\r\n",
       "}\r\n",
       "@enduml\r\n",
       "\n",
       "PlantUML version 1.2020.13(Sat Jun 13 12:26:38 UTC 2020)\n",
       "(EPL source distribution)\n",
       "Java Runtime: OpenJDK Runtime Environment\n",
       "JVM: OpenJDK 64-Bit Server VM\n",
       "Default Encoding: UTF-8\n",
       "Language: en\n",
       "Country: null\n",
       "--></g></svg>"
      ]
     },
     "execution_count": 49,
     "metadata": {},
     "output_type": "execute_result"
    }
   ],
   "source": [
    "%viz --style=\"TB\" --view=\"Sequence\" \"DecisionTest\""
   ]
  },
  {
   "cell_type": "code",
   "execution_count": 50,
   "id": "52da5b0f",
   "metadata": {
    "execution": {
     "iopub.execute_input": "2021-05-27T06:09:55.656827Z",
     "iopub.status.busy": "2021-05-27T06:09:55.656166Z",
     "iopub.status.idle": "2021-05-27T06:09:55.686995Z",
     "shell.execute_reply": "2021-05-27T06:09:55.685606Z"
    }
   },
   "outputs": [
    {
     "data": {
      "image/svg+xml": [
       "<?xml version=\"1.0\" encoding=\"UTF-8\" standalone=\"no\"?><svg xmlns=\"http://www.w3.org/2000/svg\" xmlns:xlink=\"http://www.w3.org/1999/xlink\" contentScriptType=\"application/ecmascript\" contentStyleType=\"text/css\" height=\"574px\" preserveAspectRatio=\"none\" style=\"width:333px;height:574px;\" version=\"1.1\" viewBox=\"0 0 333 574\" width=\"333px\" zoomAndPan=\"magnify\"><defs/><g><!--MD5=[fbc87193dbaf4d95561dea2c320d4a47]\n",
       "cluster E1--><a href=\"psysml:3be07126-877a-4309-8447-1e285ef81f95\" target=\"_top\" title=\"psysml:3be07126-877a-4309-8447-1e285ef81f95\" xlink:actuate=\"onRequest\" xlink:href=\"psysml:3be07126-877a-4309-8447-1e285ef81f95\" xlink:show=\"new\" xlink:title=\"psysml:3be07126-877a-4309-8447-1e285ef81f95\" xlink:type=\"simple\"><rect fill=\"#FFFFFF\" height=\"534.72\" id=\"E1\" style=\"stroke: #383838; stroke-width: 1.5;\" width=\"315\" x=\"7\" y=\"7\"/><rect fill=\"#F8F8F8\" height=\"37.9375\" style=\"stroke: #383838; stroke-width: 1.5;\" width=\"315\" x=\"7\" y=\"7\"/><text fill=\"#000000\" font-family=\"sans-serif\" font-size=\"12\" font-style=\"italic\" lengthAdjust=\"spacingAndGlyphs\" textLength=\"77\" x=\"126\" y=\"23.1387\">«action def»</text><text fill=\"#000000\" font-family=\"sans-serif\" font-size=\"12\" lengthAdjust=\"spacingAndGlyphs\" textLength=\"80\" x=\"124.5\" y=\"37.1074\">DecisionTest</text></a><text fill=\"#000000\" font-family=\"sans-serif\" font-size=\"14\" lengthAdjust=\"spacingAndGlyphs\" textLength=\"48\" x=\"140\" y=\"560.7151\">$result</text><rect fill=\"#383838\" height=\"12\" style=\"stroke: #F8F8F8; stroke-width: 1.5;\" width=\"12\" x=\"158\" y=\"535.72\"/><polygon fill=\"#F8F8F8\" points=\"141,28.5,153,40.5,141,52.5,129,40.5,141,28.5\" style=\"stroke: #383838; stroke-width: 1.5;\"/><polygon fill=\"#F8F8F8\" points=\"35,170.5,47,182.5,35,194.5,23,182.5,35,170.5\" style=\"stroke: #383838; stroke-width: 1.5;\"/><g id=\"E1.E5\"><a href=\"psysml:0f40ea9b-adac-4a33-8b1a-34d15e55e3d2\" target=\"_top\" title=\"psysml:0f40ea9b-adac-4a33-8b1a-34d15e55e3d2\" xlink:actuate=\"onRequest\" xlink:href=\"psysml:0f40ea9b-adac-4a33-8b1a-34d15e55e3d2\" xlink:show=\"new\" xlink:title=\"psysml:0f40ea9b-adac-4a33-8b1a-34d15e55e3d2\" xlink:type=\"simple\"><rect fill=\"#FFFFFF\" height=\"42.9375\" id=\"E5\" rx=\"10\" ry=\"10\" style=\"stroke: #383838; stroke-width: 1.5;\" width=\"60\" x=\"135\" y=\"281\"/><rect fill=\"#F8F8F8\" height=\"37.9375\" rx=\"10\" ry=\"10\" style=\"stroke: #F8F8F8; stroke-width: 1.5;\" width=\"60\" x=\"135\" y=\"281\"/><rect fill=\"#F8F8F8\" height=\"10\" style=\"stroke: #F8F8F8; stroke-width: 1.5;\" width=\"60\" x=\"135\" y=\"308.9375\"/><rect fill=\"none\" height=\"42.9375\" id=\"E5\" rx=\"10\" ry=\"10\" style=\"stroke: #383838; stroke-width: 1.5;\" width=\"60\" x=\"135\" y=\"281\"/><text fill=\"#000000\" font-family=\"sans-serif\" font-size=\"12\" font-style=\"italic\" lengthAdjust=\"spacingAndGlyphs\" textLength=\"53\" x=\"138.5\" y=\"297.1387\">«action»</text><text fill=\"#000000\" font-family=\"sans-serif\" font-size=\"12\" lengthAdjust=\"spacingAndGlyphs\" textLength=\"16\" x=\"157\" y=\"311.1074\">A1</text></a></g><g id=\"E1.E6\"><a href=\"psysml:128661ee-6ef6-488f-adc9-4acba814b00a\" target=\"_top\" title=\"psysml:128661ee-6ef6-488f-adc9-4acba814b00a\" xlink:actuate=\"onRequest\" xlink:href=\"psysml:128661ee-6ef6-488f-adc9-4acba814b00a\" xlink:show=\"new\" xlink:title=\"psysml:128661ee-6ef6-488f-adc9-4acba814b00a\" xlink:type=\"simple\"><rect fill=\"#FFFFFF\" height=\"42.9375\" id=\"E6\" rx=\"10\" ry=\"10\" style=\"stroke: #383838; stroke-width: 1.5;\" width=\"60\" x=\"135\" y=\"401\"/><rect fill=\"#F8F8F8\" height=\"37.9375\" rx=\"10\" ry=\"10\" style=\"stroke: #F8F8F8; stroke-width: 1.5;\" width=\"60\" x=\"135\" y=\"401\"/><rect fill=\"#F8F8F8\" height=\"10\" style=\"stroke: #F8F8F8; stroke-width: 1.5;\" width=\"60\" x=\"135\" y=\"428.9375\"/><rect fill=\"none\" height=\"42.9375\" id=\"E6\" rx=\"10\" ry=\"10\" style=\"stroke: #383838; stroke-width: 1.5;\" width=\"60\" x=\"135\" y=\"401\"/><text fill=\"#000000\" font-family=\"sans-serif\" font-size=\"12\" font-style=\"italic\" lengthAdjust=\"spacingAndGlyphs\" textLength=\"53\" x=\"138.5\" y=\"417.1387\">«action»</text><text fill=\"#000000\" font-family=\"sans-serif\" font-size=\"12\" lengthAdjust=\"spacingAndGlyphs\" textLength=\"16\" x=\"157\" y=\"431.1074\">A2</text></a></g><g id=\"E1.E7\"><a href=\"psysml:7b9f6d16-7e81-4d0a-aec9-34a5599243af\" target=\"_top\" title=\"psysml:7b9f6d16-7e81-4d0a-aec9-34a5599243af\" xlink:actuate=\"onRequest\" xlink:href=\"psysml:7b9f6d16-7e81-4d0a-aec9-34a5599243af\" xlink:show=\"new\" xlink:title=\"psysml:7b9f6d16-7e81-4d0a-aec9-34a5599243af\" xlink:type=\"simple\"><rect fill=\"#FFFFFF\" height=\"42.9375\" id=\"E7\" rx=\"10\" ry=\"10\" style=\"stroke: #383838; stroke-width: 1.5;\" width=\"60\" x=\"46\" y=\"88\"/><rect fill=\"#F8F8F8\" height=\"37.9375\" rx=\"10\" ry=\"10\" style=\"stroke: #F8F8F8; stroke-width: 1.5;\" width=\"60\" x=\"46\" y=\"88\"/><rect fill=\"#F8F8F8\" height=\"10\" style=\"stroke: #F8F8F8; stroke-width: 1.5;\" width=\"60\" x=\"46\" y=\"115.9375\"/><rect fill=\"none\" height=\"42.9375\" id=\"E7\" rx=\"10\" ry=\"10\" style=\"stroke: #383838; stroke-width: 1.5;\" width=\"60\" x=\"46\" y=\"88\"/><text fill=\"#000000\" font-family=\"sans-serif\" font-size=\"12\" font-style=\"italic\" lengthAdjust=\"spacingAndGlyphs\" textLength=\"53\" x=\"49.5\" y=\"104.1387\">«action»</text><text fill=\"#000000\" font-family=\"sans-serif\" font-size=\"12\" lengthAdjust=\"spacingAndGlyphs\" textLength=\"16\" x=\"68\" y=\"118.1074\">A3</text></a></g><g id=\"E1.E8\"><a href=\"psysml:7b9f6d16-7e81-4d0a-aec9-34a5599243af\" target=\"_top\" title=\"psysml:7b9f6d16-7e81-4d0a-aec9-34a5599243af\" xlink:actuate=\"onRequest\" xlink:href=\"psysml:7b9f6d16-7e81-4d0a-aec9-34a5599243af\" xlink:show=\"new\" xlink:title=\"psysml:7b9f6d16-7e81-4d0a-aec9-34a5599243af\" xlink:type=\"simple\"><rect fill=\"#FFFFFF\" height=\"42.9375\" id=\"E8\" rx=\"10\" ry=\"10\" style=\"stroke: #383838; stroke-width: 1.5;\" width=\"60\" x=\"246\" y=\"161\"/><rect fill=\"#F8F8F8\" height=\"37.9375\" rx=\"10\" ry=\"10\" style=\"stroke: #F8F8F8; stroke-width: 1.5;\" width=\"60\" x=\"246\" y=\"161\"/><rect fill=\"#F8F8F8\" height=\"10\" style=\"stroke: #F8F8F8; stroke-width: 1.5;\" width=\"60\" x=\"246\" y=\"188.9375\"/><rect fill=\"none\" height=\"42.9375\" id=\"E8\" rx=\"10\" ry=\"10\" style=\"stroke: #383838; stroke-width: 1.5;\" width=\"60\" x=\"246\" y=\"161\"/><text fill=\"#000000\" font-family=\"sans-serif\" font-size=\"12\" font-style=\"italic\" lengthAdjust=\"spacingAndGlyphs\" textLength=\"53\" x=\"249.5\" y=\"177.1387\">«action»</text><text fill=\"#000000\" font-family=\"sans-serif\" font-size=\"12\" lengthAdjust=\"spacingAndGlyphs\" textLength=\"16\" x=\"268\" y=\"191.1074\">A3</text></a></g><!--MD5=[0188b64bb0ae78505a997a81836e11e9]\n",
       "link E3 to E5--><a href=\"psysml:7286f462-e52e-4ebc-bfea-7701f26f76d2\" target=\"_top\" title=\"psysml:7286f462-e52e-4ebc-bfea-7701f26f76d2\" xlink:actuate=\"onRequest\" xlink:href=\"psysml:7286f462-e52e-4ebc-bfea-7701f26f76d2\" xlink:show=\"new\" xlink:title=\"psysml:7286f462-e52e-4ebc-bfea-7701f26f76d2\" xlink:type=\"simple\"><path d=\"M140.49,52.19 C139.39,78.26 137.41,147.1 144,204 C146.84,228.53 153.03,255.98 157.96,275.49 \" fill=\"none\" id=\"E3-&gt;E5\" style=\"stroke: #383838; stroke-width: 1.0;\"/><polygon fill=\"#383838\" points=\"159.31,280.77,160.9741,271.0627,158.0805,275.9235,153.2197,273.0299,159.31,280.77\" style=\"stroke: #383838; stroke-width: 1.0;\"/><text fill=\"#000000\" font-family=\"sans-serif\" font-size=\"13\" lengthAdjust=\"spacingAndGlyphs\" textLength=\"55\" x=\"145\" y=\"187.0669\">[x == 1]</text></a><!--MD5=[ec9844e0c75763426927cad3229d1081]\n",
       "link E3 to E6--><a href=\"psysml:e748a59f-80ec-4a6b-adc3-e898091fbade\" target=\"_top\" title=\"psysml:e748a59f-80ec-4a6b-adc3-e898091fbade\" xlink:actuate=\"onRequest\" xlink:href=\"psysml:e748a59f-80ec-4a6b-adc3-e898091fbade\" xlink:show=\"new\" xlink:title=\"psysml:e748a59f-80ec-4a6b-adc3-e898091fbade\" xlink:type=\"simple\"><path d=\"M145.73,48.09 C157.96,65.53 190.67,114.68 205,161 C230.5,243.43 221.33,267.84 226,354 C226.41,361.54 229.22,364.16 226,371 C220.27,383.19 209.98,393.45 199.48,401.47 \" fill=\"none\" id=\"E3-&gt;E6\" style=\"stroke: #383838; stroke-width: 1.0;\"/><polygon fill=\"#383838\" points=\"195.29,404.54,204.9073,402.4168,199.3138,401.5721,200.1586,395.9786,195.29,404.54\" style=\"stroke: #383838; stroke-width: 1.0;\"/><text fill=\"#000000\" font-family=\"sans-serif\" font-size=\"13\" lengthAdjust=\"spacingAndGlyphs\" textLength=\"44\" x=\"223\" y=\"247.0669\">[x &gt; 1]</text></a><!--MD5=[ca5a752d6098d8a44b3f88316e7452d1]\n",
       "link E3 to E8--><a href=\"psysml:c4aa7bb1-7be8-4d3d-94c8-0c3feb0dde03\" target=\"_top\" title=\"psysml:c4aa7bb1-7be8-4d3d-94c8-0c3feb0dde03\" xlink:actuate=\"onRequest\" xlink:href=\"psysml:c4aa7bb1-7be8-4d3d-94c8-0c3feb0dde03\" xlink:show=\"new\" xlink:title=\"psysml:c4aa7bb1-7be8-4d3d-94c8-0c3feb0dde03\" xlink:type=\"simple\"><path d=\"M147.97,45.53 C163.29,54.53 199.17,76.37 207,88 C217.96,104.27 206.82,114.23 217,131 C223.37,141.49 232.66,150.9 242,158.68 \" fill=\"none\" id=\"E3-&gt;E8\" style=\"stroke: #383838; stroke-width: 1.0;\"/><polygon fill=\"#383838\" points=\"246,161.91,241.5179,153.1401,242.1124,158.7657,236.4869,159.3602,246,161.91\" style=\"stroke: #383838; stroke-width: 1.0;\"/></a><!--MD5=[95fa686b5a16158bcdbcaeead89f639b]\n",
       "link E8 to E3--><a href=\"psysml:313c2626-617f-4a85-9d7c-c31cb61d9b9e\" target=\"_top\" title=\"psysml:313c2626-617f-4a85-9d7c-c31cb61d9b9e\" xlink:actuate=\"onRequest\" xlink:href=\"psysml:313c2626-617f-4a85-9d7c-c31cb61d9b9e\" xlink:show=\"new\" xlink:title=\"psysml:313c2626-617f-4a85-9d7c-c31cb61d9b9e\" xlink:type=\"simple\"><path d=\"M263.71,160.86 C249.28,137.02 225.81,99.6 214,88 C204.2,78.38 171.17,58.79 153.08,48.37 \" fill=\"none\" id=\"E8-&gt;E3\" style=\"stroke: #383838; stroke-width: 1.0;\"/><polygon fill=\"#383838\" points=\"148.41,45.69,154.234,53.6323,152.7495,48.1738,158.208,46.6892,148.41,45.69\" style=\"stroke: #383838; stroke-width: 1.0;\"/><text fill=\"#000000\" font-family=\"sans-serif\" font-size=\"13\" lengthAdjust=\"spacingAndGlyphs\" textLength=\"44\" x=\"244\" y=\"114.0669\">[x &gt; 0]</text></a><!--MD5=[af87c684e3b0d8be13c1a698a818ef1e]\n",
       "link E3 to E4--><a href=\"psysml:9e59e0cd-e7d6-48f9-8abd-2b6da2cb7bd3\" target=\"_top\" title=\"psysml:9e59e0cd-e7d6-48f9-8abd-2b6da2cb7bd3\" xlink:actuate=\"onRequest\" xlink:href=\"psysml:9e59e0cd-e7d6-48f9-8abd-2b6da2cb7bd3\" xlink:show=\"new\" xlink:title=\"psysml:9e59e0cd-e7d6-48f9-8abd-2b6da2cb7bd3\" xlink:type=\"simple\"><path d=\"M131.03,42.86 C110.41,46.26 63.22,57.19 42,88 C25.54,111.89 28.61,147.84 31.99,167.47 \" fill=\"none\" id=\"E3-&gt;E4\" style=\"stroke: #383838; stroke-width: 1.0;\"/><polygon fill=\"#383838\" points=\"32.94,172.56,35.2263,162.9802,32.0255,167.6443,27.3613,164.4435,32.94,172.56\" style=\"stroke: #383838; stroke-width: 1.0;\"/></a><!--MD5=[1b7591eae5389033d8d09a9d6721a717]\n",
       "link E4 to E5--><a href=\"psysml:7b0b5bc6-fd2d-464d-92f4-1e71099b6f78\" target=\"_top\" title=\"psysml:7b0b5bc6-fd2d-464d-92f4-1e71099b6f78\" xlink:actuate=\"onRequest\" xlink:href=\"psysml:7b0b5bc6-fd2d-464d-92f4-1e71099b6f78\" xlink:show=\"new\" xlink:title=\"psysml:7b0b5bc6-fd2d-464d-92f4-1e71099b6f78\" xlink:type=\"simple\"><path d=\"M39.08,190.91 C46.63,204.15 63.87,232.24 84,251 C97.73,263.8 115.17,275.16 130.35,283.85 \" fill=\"none\" id=\"E4-&gt;E5\" style=\"stroke: #383838; stroke-width: 1.0;\"/><polygon fill=\"#383838\" points=\"134.98,286.46,129.0858,278.5696,130.6187,284.0148,125.1735,285.5477,134.98,286.46\" style=\"stroke: #383838; stroke-width: 1.0;\"/><text fill=\"#000000\" font-family=\"sans-serif\" font-size=\"13\" lengthAdjust=\"spacingAndGlyphs\" textLength=\"36\" x=\"85\" y=\"247.0669\">[true]</text></a><!--MD5=[79568f1e445c3877b6a54524624ccc7d]\n",
       "link E4 to E6--><a href=\"psysml:2cb1b039-bbb8-4621-9b87-8355478bfab0\" target=\"_top\" title=\"psysml:2cb1b039-bbb8-4621-9b87-8355478bfab0\" xlink:actuate=\"onRequest\" xlink:href=\"psysml:2cb1b039-bbb8-4621-9b87-8355478bfab0\" xlink:show=\"new\" xlink:title=\"psysml:2cb1b039-bbb8-4621-9b87-8355478bfab0\" xlink:type=\"simple\"><path d=\"M36.3,193.29 C39.76,217.03 50.73,279.03 76,324 C91.89,352.29 117.42,379.1 137.07,397.43 \" fill=\"none\" id=\"E4-&gt;E6\" style=\"stroke: #383838; stroke-width: 1.0;\"/><polygon fill=\"#383838\" points=\"140.92,400.98,137.0155,391.9382,137.2443,397.5904,131.5921,397.8192,140.92,400.98\" style=\"stroke: #383838; stroke-width: 1.0;\"/><text fill=\"#000000\" font-family=\"sans-serif\" font-size=\"13\" lengthAdjust=\"spacingAndGlyphs\" textLength=\"40\" x=\"77\" y=\"307.0669\">[false]</text></a><!--MD5=[9120cf2e5df3bff93db8f754bbbc09b4]\n",
       "link E5 to E6--><a href=\"psysml:b49ece63-4bda-4eac-a48b-66e19b9bdab7\" target=\"_top\" title=\"psysml:b49ece63-4bda-4eac-a48b-66e19b9bdab7\" xlink:actuate=\"onRequest\" xlink:href=\"psysml:b49ece63-4bda-4eac-a48b-66e19b9bdab7\" xlink:show=\"new\" xlink:title=\"psysml:b49ece63-4bda-4eac-a48b-66e19b9bdab7\" xlink:type=\"simple\"><path d=\"M165,324.05 C165,343.9 165,374.02 165,395.52 \" fill=\"none\" id=\"E5-&gt;E6\" style=\"stroke: #383838; stroke-width: 1.0;\"/><polygon fill=\"#383838\" points=\"165,400.79,169,391.79,165,395.79,161,391.79,165,400.79\" style=\"stroke: #383838; stroke-width: 1.0;\"/><text fill=\"#000000\" font-family=\"sans-serif\" font-size=\"13\" lengthAdjust=\"spacingAndGlyphs\" textLength=\"55\" x=\"166\" y=\"367.0669\">[x == 0]</text></a><!--MD5=[b5e1c15e98fb288b196b34ee17bc407c]\n",
       "@startuml\r\n",
       "top to bottom direction\r\n",
       "skinparam monochrome true\r\n",
       "skinparam classbackgroundcolor white\r\n",
       "skinparam shadowing false\r\n",
       "skinparam wrapWidth 300\r\n",
       "hide circle\r\n",
       "\r\n",
       "rec def \"DecisionTest\" as E1  <<(T,blue)action def>> [[psysml:3be07126-877a-4309-8447-1e285ef81f95 ]] {\r\n",
       "portout \"$result\" as E2  [[psysml:9348992a-eef4-478a-99a3-8679640e907b ]] \r\n",
       "choice \"test x\" as E3  [[psysml:68020b6f-ffe7-4b5f-b810-1edcbdd08af0 ]] \r\n",
       "choice \"noname\" as E4  [[psysml:c53ed86d-7fd9-4daa-81a5-a3aaa8a48fdd ]] \r\n",
       "rec usage \"A1\" as E5  <<(T,blue)action>> [[psysml:0f40ea9b-adac-4a33-8b1a-34d15e55e3d2 ]] {\r\n",
       "}\r\n",
       "\r\n",
       "rec usage \"A2\" as E6  <<(T,blue)action>> [[psysml:128661ee-6ef6-488f-adc9-4acba814b00a ]] {\r\n",
       "}\r\n",
       "\r\n",
       "rec usage \"A3\" as E7  <<(T,blue)action>> [[psysml:7b9f6d16-7e81-4d0a-aec9-34a5599243af ]] {\r\n",
       "}\r\n",
       "\r\n",
       "rec usage \"A3\" as E8  <<(T,blue)action>> [[psysml:7b9f6d16-7e81-4d0a-aec9-34a5599243af ]] {\r\n",
       "}\r\n",
       "\r\n",
       "}\r\n",
       "\r\n",
       "E3  - -> E5 [[psysml:7286f462-e52e-4ebc-bfea-7701f26f76d2 ]] : [x == 1]\r\n",
       "E3  - -> E6 [[psysml:e748a59f-80ec-4a6b-adc3-e898091fbade ]] : [x > 1]\r\n",
       "E3  - -> E8 [[psysml:c4aa7bb1-7be8-4d3d-94c8-0c3feb0dde03 ]] \r\n",
       "E3 - -> E4 [[psysml:9e59e0cd-e7d6-48f9-8abd-2b6da2cb7bd3 ]] \r\n",
       "E4  - -> E5 [[psysml:7b0b5bc6-fd2d-464d-92f4-1e71099b6f78 ]] : [true]\r\n",
       "E4  - -> E6 [[psysml:2cb1b039-bbb8-4621-9b87-8355478bfab0 ]] : [false]\r\n",
       "E5  - -> E6 [[psysml:b49ece63-4bda-4eac-a48b-66e19b9bdab7 ]] : [x == 0]\r\n",
       "E8  - -> E3 [[psysml:313c2626-617f-4a85-9d7c-c31cb61d9b9e ]] : [x > 0]\r\n",
       "@enduml\r\n",
       "\n",
       "PlantUML version 1.2020.13(Sat Jun 13 12:26:38 UTC 2020)\n",
       "(EPL source distribution)\n",
       "Java Runtime: OpenJDK Runtime Environment\n",
       "JVM: OpenJDK 64-Bit Server VM\n",
       "Default Encoding: UTF-8\n",
       "Language: en\n",
       "Country: null\n",
       "--></g></svg>"
      ]
     },
     "execution_count": 50,
     "metadata": {},
     "output_type": "execute_result"
    }
   ],
   "source": [
    "%viz --style=\"TB\" --view=\"MIXED\" \"DecisionTest\""
   ]
  },
  {
   "cell_type": "code",
   "execution_count": 51,
   "id": "05afd40e",
   "metadata": {
    "execution": {
     "iopub.execute_input": "2021-05-27T06:09:55.737554Z",
     "iopub.status.busy": "2021-05-27T06:09:55.737004Z",
     "iopub.status.idle": "2021-05-27T06:09:55.780315Z",
     "shell.execute_reply": "2021-05-27T06:09:55.778725Z"
    }
   },
   "outputs": [
    {
     "data": {
      "image/svg+xml": [
       "<?xml version=\"1.0\" encoding=\"UTF-8\" standalone=\"no\"?><svg xmlns=\"http://www.w3.org/2000/svg\" xmlns:xlink=\"http://www.w3.org/1999/xlink\" contentScriptType=\"application/ecmascript\" contentStyleType=\"text/css\" height=\"574px\" preserveAspectRatio=\"none\" style=\"width:333px;height:574px;\" version=\"1.1\" viewBox=\"0 0 333 574\" width=\"333px\" zoomAndPan=\"magnify\"><defs/><g><!--MD5=[fbc87193dbaf4d95561dea2c320d4a47]\n",
       "cluster E1--><a href=\"psysml:3be07126-877a-4309-8447-1e285ef81f95\" target=\"_top\" title=\"psysml:3be07126-877a-4309-8447-1e285ef81f95\" xlink:actuate=\"onRequest\" xlink:href=\"psysml:3be07126-877a-4309-8447-1e285ef81f95\" xlink:show=\"new\" xlink:title=\"psysml:3be07126-877a-4309-8447-1e285ef81f95\" xlink:type=\"simple\"><rect fill=\"#FFFFFF\" height=\"534.72\" id=\"E1\" style=\"stroke: #383838; stroke-width: 1.5;\" width=\"315\" x=\"7\" y=\"7\"/><rect fill=\"#F8F8F8\" height=\"37.9375\" style=\"stroke: #383838; stroke-width: 1.5;\" width=\"315\" x=\"7\" y=\"7\"/><text fill=\"#000000\" font-family=\"sans-serif\" font-size=\"12\" font-style=\"italic\" lengthAdjust=\"spacingAndGlyphs\" textLength=\"77\" x=\"126\" y=\"23.1387\">«action def»</text><text fill=\"#000000\" font-family=\"sans-serif\" font-size=\"12\" lengthAdjust=\"spacingAndGlyphs\" textLength=\"80\" x=\"124.5\" y=\"37.1074\">DecisionTest</text></a><text fill=\"#000000\" font-family=\"sans-serif\" font-size=\"14\" lengthAdjust=\"spacingAndGlyphs\" textLength=\"48\" x=\"140\" y=\"560.7151\">$result</text><rect fill=\"#383838\" height=\"12\" style=\"stroke: #F8F8F8; stroke-width: 1.5;\" width=\"12\" x=\"158\" y=\"535.72\"/><polygon fill=\"#F8F8F8\" points=\"141,28.5,153,40.5,141,52.5,129,40.5,141,28.5\" style=\"stroke: #383838; stroke-width: 1.5;\"/><polygon fill=\"#F8F8F8\" points=\"35,170.5,47,182.5,35,194.5,23,182.5,35,170.5\" style=\"stroke: #383838; stroke-width: 1.5;\"/><g id=\"E1.E5\"><a href=\"psysml:0f40ea9b-adac-4a33-8b1a-34d15e55e3d2\" target=\"_top\" title=\"psysml:0f40ea9b-adac-4a33-8b1a-34d15e55e3d2\" xlink:actuate=\"onRequest\" xlink:href=\"psysml:0f40ea9b-adac-4a33-8b1a-34d15e55e3d2\" xlink:show=\"new\" xlink:title=\"psysml:0f40ea9b-adac-4a33-8b1a-34d15e55e3d2\" xlink:type=\"simple\"><rect fill=\"#FFFFFF\" height=\"42.9375\" id=\"E5\" rx=\"10\" ry=\"10\" style=\"stroke: #383838; stroke-width: 1.5;\" width=\"60\" x=\"135\" y=\"281\"/><rect fill=\"#F8F8F8\" height=\"37.9375\" rx=\"10\" ry=\"10\" style=\"stroke: #F8F8F8; stroke-width: 1.5;\" width=\"60\" x=\"135\" y=\"281\"/><rect fill=\"#F8F8F8\" height=\"10\" style=\"stroke: #F8F8F8; stroke-width: 1.5;\" width=\"60\" x=\"135\" y=\"308.9375\"/><rect fill=\"none\" height=\"42.9375\" id=\"E5\" rx=\"10\" ry=\"10\" style=\"stroke: #383838; stroke-width: 1.5;\" width=\"60\" x=\"135\" y=\"281\"/><text fill=\"#000000\" font-family=\"sans-serif\" font-size=\"12\" font-style=\"italic\" lengthAdjust=\"spacingAndGlyphs\" textLength=\"53\" x=\"138.5\" y=\"297.1387\">«action»</text><text fill=\"#000000\" font-family=\"sans-serif\" font-size=\"12\" lengthAdjust=\"spacingAndGlyphs\" textLength=\"16\" x=\"157\" y=\"311.1074\">A1</text></a></g><g id=\"E1.E6\"><a href=\"psysml:128661ee-6ef6-488f-adc9-4acba814b00a\" target=\"_top\" title=\"psysml:128661ee-6ef6-488f-adc9-4acba814b00a\" xlink:actuate=\"onRequest\" xlink:href=\"psysml:128661ee-6ef6-488f-adc9-4acba814b00a\" xlink:show=\"new\" xlink:title=\"psysml:128661ee-6ef6-488f-adc9-4acba814b00a\" xlink:type=\"simple\"><rect fill=\"#FFFFFF\" height=\"42.9375\" id=\"E6\" rx=\"10\" ry=\"10\" style=\"stroke: #383838; stroke-width: 1.5;\" width=\"60\" x=\"135\" y=\"401\"/><rect fill=\"#F8F8F8\" height=\"37.9375\" rx=\"10\" ry=\"10\" style=\"stroke: #F8F8F8; stroke-width: 1.5;\" width=\"60\" x=\"135\" y=\"401\"/><rect fill=\"#F8F8F8\" height=\"10\" style=\"stroke: #F8F8F8; stroke-width: 1.5;\" width=\"60\" x=\"135\" y=\"428.9375\"/><rect fill=\"none\" height=\"42.9375\" id=\"E6\" rx=\"10\" ry=\"10\" style=\"stroke: #383838; stroke-width: 1.5;\" width=\"60\" x=\"135\" y=\"401\"/><text fill=\"#000000\" font-family=\"sans-serif\" font-size=\"12\" font-style=\"italic\" lengthAdjust=\"spacingAndGlyphs\" textLength=\"53\" x=\"138.5\" y=\"417.1387\">«action»</text><text fill=\"#000000\" font-family=\"sans-serif\" font-size=\"12\" lengthAdjust=\"spacingAndGlyphs\" textLength=\"16\" x=\"157\" y=\"431.1074\">A2</text></a></g><g id=\"E1.E7\"><a href=\"psysml:7b9f6d16-7e81-4d0a-aec9-34a5599243af\" target=\"_top\" title=\"psysml:7b9f6d16-7e81-4d0a-aec9-34a5599243af\" xlink:actuate=\"onRequest\" xlink:href=\"psysml:7b9f6d16-7e81-4d0a-aec9-34a5599243af\" xlink:show=\"new\" xlink:title=\"psysml:7b9f6d16-7e81-4d0a-aec9-34a5599243af\" xlink:type=\"simple\"><rect fill=\"#FFFFFF\" height=\"42.9375\" id=\"E7\" rx=\"10\" ry=\"10\" style=\"stroke: #383838; stroke-width: 1.5;\" width=\"60\" x=\"46\" y=\"88\"/><rect fill=\"#F8F8F8\" height=\"37.9375\" rx=\"10\" ry=\"10\" style=\"stroke: #F8F8F8; stroke-width: 1.5;\" width=\"60\" x=\"46\" y=\"88\"/><rect fill=\"#F8F8F8\" height=\"10\" style=\"stroke: #F8F8F8; stroke-width: 1.5;\" width=\"60\" x=\"46\" y=\"115.9375\"/><rect fill=\"none\" height=\"42.9375\" id=\"E7\" rx=\"10\" ry=\"10\" style=\"stroke: #383838; stroke-width: 1.5;\" width=\"60\" x=\"46\" y=\"88\"/><text fill=\"#000000\" font-family=\"sans-serif\" font-size=\"12\" font-style=\"italic\" lengthAdjust=\"spacingAndGlyphs\" textLength=\"53\" x=\"49.5\" y=\"104.1387\">«action»</text><text fill=\"#000000\" font-family=\"sans-serif\" font-size=\"12\" lengthAdjust=\"spacingAndGlyphs\" textLength=\"16\" x=\"68\" y=\"118.1074\">A3</text></a></g><g id=\"E1.E8\"><a href=\"psysml:7b9f6d16-7e81-4d0a-aec9-34a5599243af\" target=\"_top\" title=\"psysml:7b9f6d16-7e81-4d0a-aec9-34a5599243af\" xlink:actuate=\"onRequest\" xlink:href=\"psysml:7b9f6d16-7e81-4d0a-aec9-34a5599243af\" xlink:show=\"new\" xlink:title=\"psysml:7b9f6d16-7e81-4d0a-aec9-34a5599243af\" xlink:type=\"simple\"><rect fill=\"#FFFFFF\" height=\"42.9375\" id=\"E8\" rx=\"10\" ry=\"10\" style=\"stroke: #383838; stroke-width: 1.5;\" width=\"60\" x=\"246\" y=\"161\"/><rect fill=\"#F8F8F8\" height=\"37.9375\" rx=\"10\" ry=\"10\" style=\"stroke: #F8F8F8; stroke-width: 1.5;\" width=\"60\" x=\"246\" y=\"161\"/><rect fill=\"#F8F8F8\" height=\"10\" style=\"stroke: #F8F8F8; stroke-width: 1.5;\" width=\"60\" x=\"246\" y=\"188.9375\"/><rect fill=\"none\" height=\"42.9375\" id=\"E8\" rx=\"10\" ry=\"10\" style=\"stroke: #383838; stroke-width: 1.5;\" width=\"60\" x=\"246\" y=\"161\"/><text fill=\"#000000\" font-family=\"sans-serif\" font-size=\"12\" font-style=\"italic\" lengthAdjust=\"spacingAndGlyphs\" textLength=\"53\" x=\"249.5\" y=\"177.1387\">«action»</text><text fill=\"#000000\" font-family=\"sans-serif\" font-size=\"12\" lengthAdjust=\"spacingAndGlyphs\" textLength=\"16\" x=\"268\" y=\"191.1074\">A3</text></a></g><!--MD5=[0188b64bb0ae78505a997a81836e11e9]\n",
       "link E3 to E5--><a href=\"psysml:7286f462-e52e-4ebc-bfea-7701f26f76d2\" target=\"_top\" title=\"psysml:7286f462-e52e-4ebc-bfea-7701f26f76d2\" xlink:actuate=\"onRequest\" xlink:href=\"psysml:7286f462-e52e-4ebc-bfea-7701f26f76d2\" xlink:show=\"new\" xlink:title=\"psysml:7286f462-e52e-4ebc-bfea-7701f26f76d2\" xlink:type=\"simple\"><path d=\"M142.2,51.42 C142.2,51.42 142.2,275.91 142.2,275.91 \" fill=\"none\" id=\"E3-&gt;E5\" style=\"stroke: #383838; stroke-width: 1.0;\"/><polygon fill=\"#383838\" points=\"142.2,280.91,146.2,271.91,142.2,275.91,138.2,271.91,142.2,280.91\" style=\"stroke: #383838; stroke-width: 1.0;\"/><text fill=\"#000000\" font-family=\"sans-serif\" font-size=\"13\" lengthAdjust=\"spacingAndGlyphs\" textLength=\"55\" x=\"118\" y=\"187.0669\">[x == 1]</text></a><!--MD5=[ec9844e0c75763426927cad3229d1081]\n",
       "link E3 to E6--><a href=\"psysml:e748a59f-80ec-4a6b-adc3-e898091fbade\" target=\"_top\" title=\"psysml:e748a59f-80ec-4a6b-adc3-e898091fbade\" xlink:actuate=\"onRequest\" xlink:href=\"psysml:e748a59f-80ec-4a6b-adc3-e898091fbade\" xlink:show=\"new\" xlink:title=\"psysml:e748a59f-80ec-4a6b-adc3-e898091fbade\" xlink:type=\"simple\"><path d=\"M132.52,36.72 C125.78,36.72 117.5,36.72 117.5,36.72 C117.5,36.72 117.5,415.72 117.5,415.72 C117.5,415.72 129.92,415.72 129.92,415.72 \" fill=\"none\" id=\"E3-&gt;E6\" style=\"stroke: #383838; stroke-width: 1.0;\"/><polygon fill=\"#383838\" points=\"134.92,415.72,125.92,411.72,129.92,415.72,125.92,419.72,134.92,415.72\" style=\"stroke: #383838; stroke-width: 1.0;\"/><text fill=\"#000000\" font-family=\"sans-serif\" font-size=\"13\" lengthAdjust=\"spacingAndGlyphs\" textLength=\"44\" x=\"221\" y=\"247.0669\">[x &gt; 1]</text></a><!--MD5=[ca5a752d6098d8a44b3f88316e7452d1]\n",
       "link E3 to E8--><a href=\"psysml:c4aa7bb1-7be8-4d3d-94c8-0c3feb0dde03\" target=\"_top\" title=\"psysml:c4aa7bb1-7be8-4d3d-94c8-0c3feb0dde03\" xlink:actuate=\"onRequest\" xlink:href=\"psysml:c4aa7bb1-7be8-4d3d-94c8-0c3feb0dde03\" xlink:show=\"new\" xlink:title=\"psysml:c4aa7bb1-7be8-4d3d-94c8-0c3feb0dde03\" xlink:type=\"simple\"><path d=\"M149.4,44.35 C149.4,65.32 149.4,164.72 149.4,164.72 C149.4,164.72 241,164.72 241,164.72 \" fill=\"none\" id=\"E3-&gt;E8\" style=\"stroke: #383838; stroke-width: 1.0;\"/><polygon fill=\"#383838\" points=\"246,164.72,237,160.72,241,164.72,237,168.72,246,164.72\" style=\"stroke: #383838; stroke-width: 1.0;\"/></a><!--MD5=[95fa686b5a16158bcdbcaeead89f639b]\n",
       "link E8 to E3--><a href=\"psysml:313c2626-617f-4a85-9d7c-c31cb61d9b9e\" target=\"_top\" title=\"psysml:313c2626-617f-4a85-9d7c-c31cb61d9b9e\" xlink:actuate=\"onRequest\" xlink:href=\"psysml:313c2626-617f-4a85-9d7c-c31cb61d9b9e\" xlink:show=\"new\" xlink:title=\"psysml:313c2626-617f-4a85-9d7c-c31cb61d9b9e\" xlink:type=\"simple\"><path d=\"M245.8,167.72 C207.34,167.72 145.8,167.72 145.8,167.72 C145.8,167.72 145.8,52.7 145.8,52.7 \" fill=\"none\" id=\"E8-&gt;E3\" style=\"stroke: #383838; stroke-width: 1.0;\"/><polygon fill=\"#383838\" points=\"145.8,47.7,141.8,56.7,145.8,52.7,149.8,56.7,145.8,47.7\" style=\"stroke: #383838; stroke-width: 1.0;\"/><text fill=\"#000000\" font-family=\"sans-serif\" font-size=\"13\" lengthAdjust=\"spacingAndGlyphs\" textLength=\"44\" x=\"254\" y=\"114.0669\">[x &gt; 0]</text></a><!--MD5=[af87c684e3b0d8be13c1a698a818ef1e]\n",
       "link E3 to E4--><a href=\"psysml:9e59e0cd-e7d6-48f9-8abd-2b6da2cb7bd3\" target=\"_top\" title=\"psysml:9e59e0cd-e7d6-48f9-8abd-2b6da2cb7bd3\" xlink:actuate=\"onRequest\" xlink:href=\"psysml:9e59e0cd-e7d6-48f9-8abd-2b6da2cb7bd3\" xlink:show=\"new\" xlink:title=\"psysml:9e59e0cd-e7d6-48f9-8abd-2b6da2cb7bd3\" xlink:type=\"simple\"><path d=\"M133,44.72 C108.23,44.72 34.5,44.72 34.5,44.72 C34.5,44.72 34.5,165.75 34.5,165.75 \" fill=\"none\" id=\"E3-&gt;E4\" style=\"stroke: #383838; stroke-width: 1.0;\"/><polygon fill=\"#383838\" points=\"34.5,170.75,38.5,161.75,34.5,165.75,30.5,161.75,34.5,170.75\" style=\"stroke: #383838; stroke-width: 1.0;\"/></a><!--MD5=[1b7591eae5389033d8d09a9d6721a717]\n",
       "link E4 to E5--><a href=\"psysml:7b0b5bc6-fd2d-464d-92f4-1e71099b6f78\" target=\"_top\" title=\"psysml:7b0b5bc6-fd2d-464d-92f4-1e71099b6f78\" xlink:actuate=\"onRequest\" xlink:href=\"psysml:7b0b5bc6-fd2d-464d-92f4-1e71099b6f78\" xlink:show=\"new\" xlink:title=\"psysml:7b0b5bc6-fd2d-464d-92f4-1e71099b6f78\" xlink:type=\"simple\"><path d=\"M46.88,182.72 C74.1,182.72 138.6,182.72 138.6,182.72 C138.6,182.72 138.6,275.81 138.6,275.81 \" fill=\"none\" id=\"E4-&gt;E5\" style=\"stroke: #383838; stroke-width: 1.0;\"/><polygon fill=\"#383838\" points=\"138.6,280.81,142.6,271.81,138.6,275.81,134.6,271.81,138.6,280.81\" style=\"stroke: #383838; stroke-width: 1.0;\"/><text fill=\"#000000\" font-family=\"sans-serif\" font-size=\"13\" lengthAdjust=\"spacingAndGlyphs\" textLength=\"36\" x=\"88\" y=\"247.0669\">[true]</text></a><!--MD5=[79568f1e445c3877b6a54524624ccc7d]\n",
       "link E4 to E6--><a href=\"psysml:2cb1b039-bbb8-4621-9b87-8355478bfab0\" target=\"_top\" title=\"psysml:2cb1b039-bbb8-4621-9b87-8355478bfab0\" xlink:actuate=\"onRequest\" xlink:href=\"psysml:2cb1b039-bbb8-4621-9b87-8355478bfab0\" xlink:show=\"new\" xlink:title=\"psysml:2cb1b039-bbb8-4621-9b87-8355478bfab0\" xlink:type=\"simple\"><path d=\"M35,194.76 C35,244.64 35,429.72 35,429.72 C35,429.72 129.85,429.72 129.85,429.72 \" fill=\"none\" id=\"E4-&gt;E6\" style=\"stroke: #383838; stroke-width: 1.0;\"/><polygon fill=\"#383838\" points=\"134.85,429.72,125.85,425.72,129.85,429.72,125.85,433.72,134.85,429.72\" style=\"stroke: #383838; stroke-width: 1.0;\"/><text fill=\"#000000\" font-family=\"sans-serif\" font-size=\"13\" lengthAdjust=\"spacingAndGlyphs\" textLength=\"40\" x=\"59\" y=\"307.0669\">[false]</text></a><!--MD5=[9120cf2e5df3bff93db8f754bbbc09b4]\n",
       "link E5 to E6--><a href=\"psysml:b49ece63-4bda-4eac-a48b-66e19b9bdab7\" target=\"_top\" title=\"psysml:b49ece63-4bda-4eac-a48b-66e19b9bdab7\" xlink:actuate=\"onRequest\" xlink:href=\"psysml:b49ece63-4bda-4eac-a48b-66e19b9bdab7\" xlink:show=\"new\" xlink:title=\"psysml:b49ece63-4bda-4eac-a48b-66e19b9bdab7\" xlink:type=\"simple\"><path d=\"M165,324.23 C165,324.23 165,395.93 165,395.93 \" fill=\"none\" id=\"E5-&gt;E6\" style=\"stroke: #383838; stroke-width: 1.0;\"/><polygon fill=\"#383838\" points=\"165,400.93,169,391.93,165,395.93,161,391.93,165,400.93\" style=\"stroke: #383838; stroke-width: 1.0;\"/><text fill=\"#000000\" font-family=\"sans-serif\" font-size=\"13\" lengthAdjust=\"spacingAndGlyphs\" textLength=\"55\" x=\"166\" y=\"367.0669\">[x == 0]</text></a><!--MD5=[aede5ce8dcef3cdf7d63b691e7684873]\n",
       "@startuml\r\n",
       "skinparam linetype ortho\r\n",
       "skinparam monochrome true\r\n",
       "skinparam classbackgroundcolor white\r\n",
       "skinparam shadowing false\r\n",
       "skinparam wrapWidth 300\r\n",
       "hide circle\r\n",
       "\r\n",
       "rec def \"DecisionTest\" as E1  <<(T,blue)action def>> [[psysml:3be07126-877a-4309-8447-1e285ef81f95 ]] {\r\n",
       "portout \"$result\" as E2  [[psysml:9348992a-eef4-478a-99a3-8679640e907b ]] \r\n",
       "choice \"test x\" as E3  [[psysml:68020b6f-ffe7-4b5f-b810-1edcbdd08af0 ]] \r\n",
       "choice \"noname\" as E4  [[psysml:c53ed86d-7fd9-4daa-81a5-a3aaa8a48fdd ]] \r\n",
       "rec usage \"A1\" as E5  <<(T,blue)action>> [[psysml:0f40ea9b-adac-4a33-8b1a-34d15e55e3d2 ]] {\r\n",
       "}\r\n",
       "\r\n",
       "rec usage \"A2\" as E6  <<(T,blue)action>> [[psysml:128661ee-6ef6-488f-adc9-4acba814b00a ]] {\r\n",
       "}\r\n",
       "\r\n",
       "rec usage \"A3\" as E7  <<(T,blue)action>> [[psysml:7b9f6d16-7e81-4d0a-aec9-34a5599243af ]] {\r\n",
       "}\r\n",
       "\r\n",
       "rec usage \"A3\" as E8  <<(T,blue)action>> [[psysml:7b9f6d16-7e81-4d0a-aec9-34a5599243af ]] {\r\n",
       "}\r\n",
       "\r\n",
       "}\r\n",
       "\r\n",
       "E3  - -> E5 [[psysml:7286f462-e52e-4ebc-bfea-7701f26f76d2 ]] : [x == 1]\r\n",
       "E3  - -> E6 [[psysml:e748a59f-80ec-4a6b-adc3-e898091fbade ]] : [x > 1]\r\n",
       "E3  - -> E8 [[psysml:c4aa7bb1-7be8-4d3d-94c8-0c3feb0dde03 ]] \r\n",
       "E3 - -> E4 [[psysml:9e59e0cd-e7d6-48f9-8abd-2b6da2cb7bd3 ]] \r\n",
       "E4  - -> E5 [[psysml:7b0b5bc6-fd2d-464d-92f4-1e71099b6f78 ]] : [true]\r\n",
       "E4  - -> E6 [[psysml:2cb1b039-bbb8-4621-9b87-8355478bfab0 ]] : [false]\r\n",
       "E5  - -> E6 [[psysml:b49ece63-4bda-4eac-a48b-66e19b9bdab7 ]] : [x == 0]\r\n",
       "E8  - -> E3 [[psysml:313c2626-617f-4a85-9d7c-c31cb61d9b9e ]] : [x > 0]\r\n",
       "@enduml\r\n",
       "\n",
       "PlantUML version 1.2020.13(Sat Jun 13 12:26:38 UTC 2020)\n",
       "(EPL source distribution)\n",
       "Java Runtime: OpenJDK Runtime Environment\n",
       "JVM: OpenJDK 64-Bit Server VM\n",
       "Default Encoding: UTF-8\n",
       "Language: en\n",
       "Country: null\n",
       "--></g></svg>"
      ]
     },
     "execution_count": 51,
     "metadata": {},
     "output_type": "execute_result"
    }
   ],
   "source": [
    "%viz --style=\"ORTHOLINE\" --view=\"Default\" \"DecisionTest\""
   ]
  },
  {
   "cell_type": "code",
   "execution_count": 52,
   "id": "bd46f8ca",
   "metadata": {
    "execution": {
     "iopub.execute_input": "2021-05-27T06:09:55.833393Z",
     "iopub.status.busy": "2021-05-27T06:09:55.832447Z",
     "iopub.status.idle": "2021-05-27T06:09:55.904945Z",
     "shell.execute_reply": "2021-05-27T06:09:55.904637Z"
    }
   },
   "outputs": [
    {
     "data": {
      "image/svg+xml": [
       "<?xml version=\"1.0\" encoding=\"UTF-8\" standalone=\"no\"?><svg xmlns=\"http://www.w3.org/2000/svg\" xmlns:xlink=\"http://www.w3.org/1999/xlink\" contentScriptType=\"application/ecmascript\" contentStyleType=\"text/css\" height=\"207px\" preserveAspectRatio=\"none\" style=\"width:109px;height:207px;\" version=\"1.1\" viewBox=\"0 0 109 207\" width=\"109px\" zoomAndPan=\"magnify\"><defs/><g><!--MD5=[43c9051892ef23e1a46a86907403d788]\n",
       "class E1--><a href=\"psysml:3be07126-877a-4309-8447-1e285ef81f95\" target=\"_top\" title=\"psysml:3be07126-877a-4309-8447-1e285ef81f95\" xlink:actuate=\"onRequest\" xlink:href=\"psysml:3be07126-877a-4309-8447-1e285ef81f95\" xlink:show=\"new\" xlink:title=\"psysml:3be07126-877a-4309-8447-1e285ef81f95\" xlink:type=\"simple\"><rect fill=\"#FFFFFF\" height=\"189.9844\" id=\"E1\" style=\"stroke: #383838; stroke-width: 1.5;\" width=\"91\" x=\"7\" y=\"7\"/><text fill=\"#000000\" font-family=\"sans-serif\" font-size=\"12\" font-style=\"italic\" lengthAdjust=\"spacingAndGlyphs\" textLength=\"77\" x=\"14\" y=\"23.1387\">«action def»</text><text fill=\"#000000\" font-family=\"sans-serif\" font-size=\"12\" lengthAdjust=\"spacingAndGlyphs\" textLength=\"80\" x=\"12.5\" y=\"37.1074\">DecisionTest</text><line style=\"stroke: #383838; stroke-width: 1.5;\" x1=\"8\" x2=\"97\" y1=\"44.9375\" y2=\"44.9375\"/><text fill=\"#000000\" font-family=\"sans-serif\" font-size=\"11\" lengthAdjust=\"spacingAndGlyphs\" textLength=\"26\" x=\"13\" y=\"75.9526\">x=1;</text><line style=\"stroke: #383838; stroke-width: 1.0;\" x1=\"8\" x2=\"25\" y1=\"59.3398\" y2=\"59.3398\"/><text fill=\"#000000\" font-family=\"sans-serif\" font-size=\"11\" lengthAdjust=\"spacingAndGlyphs\" textLength=\"55\" x=\"25\" y=\"62.6479\">attributes</text><line style=\"stroke: #383838; stroke-width: 1.0;\" x1=\"80\" x2=\"97\" y1=\"59.3398\" y2=\"59.3398\"/><text fill=\"#000000\" font-family=\"sans-serif\" font-size=\"11\" lengthAdjust=\"spacingAndGlyphs\" textLength=\"14\" x=\"13\" y=\"105.562\">A1</text><text fill=\"#000000\" font-family=\"sans-serif\" font-size=\"11\" lengthAdjust=\"spacingAndGlyphs\" textLength=\"14\" x=\"13\" y=\"118.3667\">A2</text><text fill=\"#000000\" font-family=\"sans-serif\" font-size=\"11\" lengthAdjust=\"spacingAndGlyphs\" textLength=\"14\" x=\"13\" y=\"131.1714\">A3</text><line style=\"stroke: #383838; stroke-width: 1.0;\" x1=\"8\" x2=\"32\" y1=\"88.9492\" y2=\"88.9492\"/><text fill=\"#000000\" font-family=\"sans-serif\" font-size=\"11\" lengthAdjust=\"spacingAndGlyphs\" textLength=\"41\" x=\"32\" y=\"92.2573\">actions</text><line style=\"stroke: #383838; stroke-width: 1.0;\" x1=\"73\" x2=\"97\" y1=\"88.9492\" y2=\"88.9492\"/><text fill=\"#000000\" font-family=\"sans-serif\" font-size=\"11\" lengthAdjust=\"spacingAndGlyphs\" textLength=\"32\" x=\"13\" y=\"160.7808\">test x</text><line style=\"stroke: #383838; stroke-width: 1.0;\" x1=\"8\" x2=\"11\" y1=\"144.168\" y2=\"144.168\"/><text fill=\"#000000\" font-family=\"sans-serif\" font-size=\"11\" lengthAdjust=\"spacingAndGlyphs\" textLength=\"83\" x=\"11\" y=\"147.4761\">decisionNodes</text><line style=\"stroke: #383838; stroke-width: 1.0;\" x1=\"94\" x2=\"97\" y1=\"144.168\" y2=\"144.168\"/><text fill=\"#000000\" font-family=\"sans-serif\" font-size=\"11\" lengthAdjust=\"spacingAndGlyphs\" textLength=\"8\" x=\"13\" y=\"190.3901\">S</text><line style=\"stroke: #383838; stroke-width: 1.0;\" x1=\"8\" x2=\"22\" y1=\"173.7773\" y2=\"173.7773\"/><text fill=\"#000000\" font-family=\"sans-serif\" font-size=\"11\" lengthAdjust=\"spacingAndGlyphs\" textLength=\"61\" x=\"22\" y=\"177.0854\">transitions</text><line style=\"stroke: #383838; stroke-width: 1.0;\" x1=\"83\" x2=\"97\" y1=\"173.7773\" y2=\"173.7773\"/></a><!--MD5=[20df39ad65085365a44cfefe3a848bd1]\n",
       "@startuml\r\n",
       "skinparam linetype ortho\r\n",
       "skinparam monochrome true\r\n",
       "skinparam classbackgroundcolor white\r\n",
       "skinparam shadowing false\r\n",
       "skinparam wrapWidth 300\r\n",
       "hide circle\r\n",
       "\r\n",
       "comp def \"DecisionTest\" as E1  <<(T,blue)action def>> [[psysml:3be07126-877a-4309-8447-1e285ef81f95 ]] {\r\n",
       "- - attributes - -\r\n",
       "x=1; \r\n",
       "- - actions - -\r\n",
       "A1\r\n",
       "A2\r\n",
       "A3\r\n",
       "- - decisionNodes - -\r\n",
       "test x\r\n",
       "- - transitions - -\r\n",
       "S\r\n",
       "}\r\n",
       "@enduml\r\n",
       "\n",
       "PlantUML version 1.2020.13(Sat Jun 13 12:26:38 UTC 2020)\n",
       "(EPL source distribution)\n",
       "Java Runtime: OpenJDK Runtime Environment\n",
       "JVM: OpenJDK 64-Bit Server VM\n",
       "Default Encoding: UTF-8\n",
       "Language: en\n",
       "Country: null\n",
       "--></g></svg>"
      ]
     },
     "execution_count": 52,
     "metadata": {},
     "output_type": "execute_result"
    }
   ],
   "source": [
    "%viz --style=\"ORTHOLINE\" --view=\"Tree\" \"DecisionTest\""
   ]
  },
  {
   "cell_type": "code",
   "execution_count": 53,
   "id": "4fde4ba5",
   "metadata": {
    "execution": {
     "iopub.execute_input": "2021-05-27T06:09:55.955283Z",
     "iopub.status.busy": "2021-05-27T06:09:55.954845Z",
     "iopub.status.idle": "2021-05-27T06:09:55.959590Z",
     "shell.execute_reply": "2021-05-27T06:09:55.959255Z"
    }
   },
   "outputs": [
    {
     "data": {
      "image/svg+xml": [
       "<?xml version=\"1.0\" encoding=\"UTF-8\" standalone=\"no\"?><svg xmlns=\"http://www.w3.org/2000/svg\" xmlns:xlink=\"http://www.w3.org/1999/xlink\" contentScriptType=\"application/ecmascript\" contentStyleType=\"text/css\" height=\"12px\" preserveAspectRatio=\"none\" style=\"width:12px;height:12px;\" version=\"1.1\" viewBox=\"0 0 12 12\" width=\"12px\" zoomAndPan=\"magnify\"><defs/><g><!--MD5=[97d6f38768b311333d388e66b2b27985]\n",
       "@startuml\r\n",
       "skinparam linetype ortho\r\n",
       "skinparam monochrome true\r\n",
       "skinparam classbackgroundcolor white\r\n",
       "skinparam shadowing false\r\n",
       "skinparam wrapWidth 300\r\n",
       "hide circle\r\n",
       "\r\n",
       "@enduml\r\n",
       "\n",
       "PlantUML version 1.2020.13(Sat Jun 13 12:26:38 UTC 2020)\n",
       "(EPL source distribution)\n",
       "Java Runtime: OpenJDK Runtime Environment\n",
       "JVM: OpenJDK 64-Bit Server VM\n",
       "Default Encoding: UTF-8\n",
       "Language: en\n",
       "Country: null\n",
       "--></g></svg>"
      ]
     },
     "execution_count": 53,
     "metadata": {},
     "output_type": "execute_result"
    }
   ],
   "source": [
    "%viz --style=\"ORTHOLINE\" --view=\"State\" \"DecisionTest\""
   ]
  },
  {
   "cell_type": "code",
   "execution_count": 54,
   "id": "0337f037",
   "metadata": {
    "execution": {
     "iopub.execute_input": "2021-05-27T06:09:56.010021Z",
     "iopub.status.busy": "2021-05-27T06:09:56.009670Z",
     "iopub.status.idle": "2021-05-27T06:09:56.041508Z",
     "shell.execute_reply": "2021-05-27T06:09:56.040222Z"
    }
   },
   "outputs": [
    {
     "data": {
      "image/svg+xml": [
       "<?xml version=\"1.0\" encoding=\"UTF-8\" standalone=\"no\"?><svg xmlns=\"http://www.w3.org/2000/svg\" xmlns:xlink=\"http://www.w3.org/1999/xlink\" contentScriptType=\"application/ecmascript\" contentStyleType=\"text/css\" height=\"384px\" preserveAspectRatio=\"none\" style=\"width:333px;height:384px;\" version=\"1.1\" viewBox=\"0 0 333 384\" width=\"333px\" zoomAndPan=\"magnify\"><defs/><g><!--MD5=[fbc87193dbaf4d95561dea2c320d4a47]\n",
       "cluster E1--><a href=\"psysml:3be07126-877a-4309-8447-1e285ef81f95\" target=\"_top\" title=\"psysml:3be07126-877a-4309-8447-1e285ef81f95\" xlink:actuate=\"onRequest\" xlink:href=\"psysml:3be07126-877a-4309-8447-1e285ef81f95\" xlink:show=\"new\" xlink:title=\"psysml:3be07126-877a-4309-8447-1e285ef81f95\" xlink:type=\"simple\"><rect fill=\"#FFFFFF\" height=\"344.72\" id=\"E1\" style=\"stroke: #383838; stroke-width: 1.5;\" width=\"315\" x=\"7\" y=\"7\"/><rect fill=\"#F8F8F8\" height=\"37.9375\" style=\"stroke: #383838; stroke-width: 1.5;\" width=\"315\" x=\"7\" y=\"7\"/><text fill=\"#000000\" font-family=\"sans-serif\" font-size=\"12\" font-style=\"italic\" lengthAdjust=\"spacingAndGlyphs\" textLength=\"77\" x=\"126\" y=\"23.1387\">«action def»</text><text fill=\"#000000\" font-family=\"sans-serif\" font-size=\"12\" lengthAdjust=\"spacingAndGlyphs\" textLength=\"80\" x=\"124.5\" y=\"37.1074\">DecisionTest</text></a><text fill=\"#000000\" font-family=\"sans-serif\" font-size=\"14\" lengthAdjust=\"spacingAndGlyphs\" textLength=\"48\" x=\"140\" y=\"370.7151\">$result</text><rect fill=\"#383838\" height=\"12\" style=\"stroke: #F8F8F8; stroke-width: 1.5;\" width=\"12\" x=\"158\" y=\"345.72\"/><polygon fill=\"#F8F8F8\" points=\"141,28.5,153,40.5,141,52.5,129,40.5,141,28.5\" style=\"stroke: #383838; stroke-width: 1.5;\"/><polygon fill=\"#F8F8F8\" points=\"35,126.5,47,138.5,35,150.5,23,138.5,35,126.5\" style=\"stroke: #383838; stroke-width: 1.5;\"/><g id=\"E1.E5\"><a href=\"psysml:0f40ea9b-adac-4a33-8b1a-34d15e55e3d2\" target=\"_top\" title=\"psysml:0f40ea9b-adac-4a33-8b1a-34d15e55e3d2\" xlink:actuate=\"onRequest\" xlink:href=\"psysml:0f40ea9b-adac-4a33-8b1a-34d15e55e3d2\" xlink:show=\"new\" xlink:title=\"psysml:0f40ea9b-adac-4a33-8b1a-34d15e55e3d2\" xlink:type=\"simple\"><rect fill=\"#FFFFFF\" height=\"42.9375\" id=\"E5\" rx=\"10\" ry=\"10\" style=\"stroke: #383838; stroke-width: 1.5;\" width=\"60\" x=\"135\" y=\"193\"/><rect fill=\"#F8F8F8\" height=\"37.9375\" rx=\"10\" ry=\"10\" style=\"stroke: #F8F8F8; stroke-width: 1.5;\" width=\"60\" x=\"135\" y=\"193\"/><rect fill=\"#F8F8F8\" height=\"10\" style=\"stroke: #F8F8F8; stroke-width: 1.5;\" width=\"60\" x=\"135\" y=\"220.9375\"/><rect fill=\"none\" height=\"42.9375\" id=\"E5\" rx=\"10\" ry=\"10\" style=\"stroke: #383838; stroke-width: 1.5;\" width=\"60\" x=\"135\" y=\"193\"/><text fill=\"#000000\" font-family=\"sans-serif\" font-size=\"12\" font-style=\"italic\" lengthAdjust=\"spacingAndGlyphs\" textLength=\"53\" x=\"138.5\" y=\"209.1387\">«action»</text><text fill=\"#000000\" font-family=\"sans-serif\" font-size=\"12\" lengthAdjust=\"spacingAndGlyphs\" textLength=\"16\" x=\"157\" y=\"223.1074\">A1</text></a></g><g id=\"E1.E6\"><a href=\"psysml:128661ee-6ef6-488f-adc9-4acba814b00a\" target=\"_top\" title=\"psysml:128661ee-6ef6-488f-adc9-4acba814b00a\" xlink:actuate=\"onRequest\" xlink:href=\"psysml:128661ee-6ef6-488f-adc9-4acba814b00a\" xlink:show=\"new\" xlink:title=\"psysml:128661ee-6ef6-488f-adc9-4acba814b00a\" xlink:type=\"simple\"><rect fill=\"#FFFFFF\" height=\"42.9375\" id=\"E6\" rx=\"10\" ry=\"10\" style=\"stroke: #383838; stroke-width: 1.5;\" width=\"60\" x=\"135\" y=\"269\"/><rect fill=\"#F8F8F8\" height=\"37.9375\" rx=\"10\" ry=\"10\" style=\"stroke: #F8F8F8; stroke-width: 1.5;\" width=\"60\" x=\"135\" y=\"269\"/><rect fill=\"#F8F8F8\" height=\"10\" style=\"stroke: #F8F8F8; stroke-width: 1.5;\" width=\"60\" x=\"135\" y=\"296.9375\"/><rect fill=\"none\" height=\"42.9375\" id=\"E6\" rx=\"10\" ry=\"10\" style=\"stroke: #383838; stroke-width: 1.5;\" width=\"60\" x=\"135\" y=\"269\"/><text fill=\"#000000\" font-family=\"sans-serif\" font-size=\"12\" font-style=\"italic\" lengthAdjust=\"spacingAndGlyphs\" textLength=\"53\" x=\"138.5\" y=\"285.1387\">«action»</text><text fill=\"#000000\" font-family=\"sans-serif\" font-size=\"12\" lengthAdjust=\"spacingAndGlyphs\" textLength=\"16\" x=\"157\" y=\"299.1074\">A2</text></a></g><g id=\"E1.E7\"><a href=\"psysml:7b9f6d16-7e81-4d0a-aec9-34a5599243af\" target=\"_top\" title=\"psysml:7b9f6d16-7e81-4d0a-aec9-34a5599243af\" xlink:actuate=\"onRequest\" xlink:href=\"psysml:7b9f6d16-7e81-4d0a-aec9-34a5599243af\" xlink:show=\"new\" xlink:title=\"psysml:7b9f6d16-7e81-4d0a-aec9-34a5599243af\" xlink:type=\"simple\"><rect fill=\"#FFFFFF\" height=\"42.9375\" id=\"E7\" rx=\"10\" ry=\"10\" style=\"stroke: #383838; stroke-width: 1.5;\" width=\"60\" x=\"46\" y=\"66\"/><rect fill=\"#F8F8F8\" height=\"37.9375\" rx=\"10\" ry=\"10\" style=\"stroke: #F8F8F8; stroke-width: 1.5;\" width=\"60\" x=\"46\" y=\"66\"/><rect fill=\"#F8F8F8\" height=\"10\" style=\"stroke: #F8F8F8; stroke-width: 1.5;\" width=\"60\" x=\"46\" y=\"93.9375\"/><rect fill=\"none\" height=\"42.9375\" id=\"E7\" rx=\"10\" ry=\"10\" style=\"stroke: #383838; stroke-width: 1.5;\" width=\"60\" x=\"46\" y=\"66\"/><text fill=\"#000000\" font-family=\"sans-serif\" font-size=\"12\" font-style=\"italic\" lengthAdjust=\"spacingAndGlyphs\" textLength=\"53\" x=\"49.5\" y=\"82.1387\">«action»</text><text fill=\"#000000\" font-family=\"sans-serif\" font-size=\"12\" lengthAdjust=\"spacingAndGlyphs\" textLength=\"16\" x=\"68\" y=\"96.1074\">A3</text></a></g><g id=\"E1.E8\"><a href=\"psysml:7b9f6d16-7e81-4d0a-aec9-34a5599243af\" target=\"_top\" title=\"psysml:7b9f6d16-7e81-4d0a-aec9-34a5599243af\" xlink:actuate=\"onRequest\" xlink:href=\"psysml:7b9f6d16-7e81-4d0a-aec9-34a5599243af\" xlink:show=\"new\" xlink:title=\"psysml:7b9f6d16-7e81-4d0a-aec9-34a5599243af\" xlink:type=\"simple\"><rect fill=\"#FFFFFF\" height=\"42.9375\" id=\"E8\" rx=\"10\" ry=\"10\" style=\"stroke: #383838; stroke-width: 1.5;\" width=\"60\" x=\"246\" y=\"117\"/><rect fill=\"#F8F8F8\" height=\"37.9375\" rx=\"10\" ry=\"10\" style=\"stroke: #F8F8F8; stroke-width: 1.5;\" width=\"60\" x=\"246\" y=\"117\"/><rect fill=\"#F8F8F8\" height=\"10\" style=\"stroke: #F8F8F8; stroke-width: 1.5;\" width=\"60\" x=\"246\" y=\"144.9375\"/><rect fill=\"none\" height=\"42.9375\" id=\"E8\" rx=\"10\" ry=\"10\" style=\"stroke: #383838; stroke-width: 1.5;\" width=\"60\" x=\"246\" y=\"117\"/><text fill=\"#000000\" font-family=\"sans-serif\" font-size=\"12\" font-style=\"italic\" lengthAdjust=\"spacingAndGlyphs\" textLength=\"53\" x=\"249.5\" y=\"133.1387\">«action»</text><text fill=\"#000000\" font-family=\"sans-serif\" font-size=\"12\" lengthAdjust=\"spacingAndGlyphs\" textLength=\"16\" x=\"268\" y=\"147.1074\">A3</text></a></g><!--MD5=[0188b64bb0ae78505a997a81836e11e9]\n",
       "link E3 to E5--><a href=\"psysml:7286f462-e52e-4ebc-bfea-7701f26f76d2\" target=\"_top\" title=\"psysml:7286f462-e52e-4ebc-bfea-7701f26f76d2\" xlink:actuate=\"onRequest\" xlink:href=\"psysml:7286f462-e52e-4ebc-bfea-7701f26f76d2\" xlink:show=\"new\" xlink:title=\"psysml:7286f462-e52e-4ebc-bfea-7701f26f76d2\" xlink:type=\"simple\"><path d=\"M142.2,51.38 C142.2,51.38 142.2,187.91 142.2,187.91 \" fill=\"none\" id=\"E3-&gt;E5\" style=\"stroke: #383838; stroke-width: 1.0;\"/><polygon fill=\"#383838\" points=\"142.2,192.91,146.2,183.91,142.2,187.91,138.2,183.91,142.2,192.91\" style=\"stroke: #383838; stroke-width: 1.0;\"/><text fill=\"#000000\" font-family=\"sans-serif\" font-size=\"13\" lengthAdjust=\"spacingAndGlyphs\" textLength=\"55\" x=\"118\" y=\"143.0669\">[x == 1]</text></a><!--MD5=[ec9844e0c75763426927cad3229d1081]\n",
       "link E3 to E6--><a href=\"psysml:e748a59f-80ec-4a6b-adc3-e898091fbade\" target=\"_top\" title=\"psysml:e748a59f-80ec-4a6b-adc3-e898091fbade\" xlink:actuate=\"onRequest\" xlink:href=\"psysml:e748a59f-80ec-4a6b-adc3-e898091fbade\" xlink:show=\"new\" xlink:title=\"psysml:e748a59f-80ec-4a6b-adc3-e898091fbade\" xlink:type=\"simple\"><path d=\"M132.52,36.72 C125.78,36.72 117.5,36.72 117.5,36.72 C117.5,36.72 117.5,283.72 117.5,283.72 C117.5,283.72 129.92,283.72 129.92,283.72 \" fill=\"none\" id=\"E3-&gt;E6\" style=\"stroke: #383838; stroke-width: 1.0;\"/><polygon fill=\"#383838\" points=\"134.92,283.72,125.92,279.72,129.92,283.72,125.92,287.72,134.92,283.72\" style=\"stroke: #383838; stroke-width: 1.0;\"/><text fill=\"#000000\" font-family=\"sans-serif\" font-size=\"13\" lengthAdjust=\"spacingAndGlyphs\" textLength=\"44\" x=\"221\" y=\"181.0669\">[x &gt; 1]</text></a><!--MD5=[ca5a752d6098d8a44b3f88316e7452d1]\n",
       "link E3 to E8--><a href=\"psysml:c4aa7bb1-7be8-4d3d-94c8-0c3feb0dde03\" target=\"_top\" title=\"psysml:c4aa7bb1-7be8-4d3d-94c8-0c3feb0dde03\" xlink:actuate=\"onRequest\" xlink:href=\"psysml:c4aa7bb1-7be8-4d3d-94c8-0c3feb0dde03\" xlink:show=\"new\" xlink:title=\"psysml:c4aa7bb1-7be8-4d3d-94c8-0c3feb0dde03\" xlink:type=\"simple\"><path d=\"M149.4,44.37 C149.4,60.39 149.4,120.72 149.4,120.72 C149.4,120.72 241,120.72 241,120.72 \" fill=\"none\" id=\"E3-&gt;E8\" style=\"stroke: #383838; stroke-width: 1.0;\"/><polygon fill=\"#383838\" points=\"246,120.72,237,116.72,241,120.72,237,124.72,246,120.72\" style=\"stroke: #383838; stroke-width: 1.0;\"/></a><!--MD5=[95fa686b5a16158bcdbcaeead89f639b]\n",
       "link E8 to E3--><a href=\"psysml:313c2626-617f-4a85-9d7c-c31cb61d9b9e\" target=\"_top\" title=\"psysml:313c2626-617f-4a85-9d7c-c31cb61d9b9e\" xlink:actuate=\"onRequest\" xlink:href=\"psysml:313c2626-617f-4a85-9d7c-c31cb61d9b9e\" xlink:show=\"new\" xlink:title=\"psysml:313c2626-617f-4a85-9d7c-c31cb61d9b9e\" xlink:type=\"simple\"><path d=\"M245.8,123.72 C207.34,123.72 145.8,123.72 145.8,123.72 C145.8,123.72 145.8,52.89 145.8,52.89 \" fill=\"none\" id=\"E8-&gt;E3\" style=\"stroke: #383838; stroke-width: 1.0;\"/><polygon fill=\"#383838\" points=\"145.8,47.89,141.8,56.89,145.8,52.89,149.8,56.89,145.8,47.89\" style=\"stroke: #383838; stroke-width: 1.0;\"/><text fill=\"#000000\" font-family=\"sans-serif\" font-size=\"13\" lengthAdjust=\"spacingAndGlyphs\" textLength=\"44\" x=\"254\" y=\"92.0669\">[x &gt; 0]</text></a><!--MD5=[af87c684e3b0d8be13c1a698a818ef1e]\n",
       "link E3 to E4--><a href=\"psysml:9e59e0cd-e7d6-48f9-8abd-2b6da2cb7bd3\" target=\"_top\" title=\"psysml:9e59e0cd-e7d6-48f9-8abd-2b6da2cb7bd3\" xlink:actuate=\"onRequest\" xlink:href=\"psysml:9e59e0cd-e7d6-48f9-8abd-2b6da2cb7bd3\" xlink:show=\"new\" xlink:title=\"psysml:9e59e0cd-e7d6-48f9-8abd-2b6da2cb7bd3\" xlink:type=\"simple\"><path d=\"M133,44.72 C108.23,44.72 34.5,44.72 34.5,44.72 C34.5,44.72 34.5,121.62 34.5,121.62 \" fill=\"none\" id=\"E3-&gt;E4\" style=\"stroke: #383838; stroke-width: 1.0;\"/><polygon fill=\"#383838\" points=\"34.5,126.62,38.5,117.62,34.5,121.62,30.5,117.62,34.5,126.62\" style=\"stroke: #383838; stroke-width: 1.0;\"/></a><!--MD5=[1b7591eae5389033d8d09a9d6721a717]\n",
       "link E4 to E5--><a href=\"psysml:7b0b5bc6-fd2d-464d-92f4-1e71099b6f78\" target=\"_top\" title=\"psysml:7b0b5bc6-fd2d-464d-92f4-1e71099b6f78\" xlink:actuate=\"onRequest\" xlink:href=\"psysml:7b0b5bc6-fd2d-464d-92f4-1e71099b6f78\" xlink:show=\"new\" xlink:title=\"psysml:7b0b5bc6-fd2d-464d-92f4-1e71099b6f78\" xlink:type=\"simple\"><path d=\"M46.88,138.72 C74.1,138.72 138.6,138.72 138.6,138.72 C138.6,138.72 138.6,187.99 138.6,187.99 \" fill=\"none\" id=\"E4-&gt;E5\" style=\"stroke: #383838; stroke-width: 1.0;\"/><polygon fill=\"#383838\" points=\"138.6,192.99,142.6,183.99,138.6,187.99,134.6,183.99,138.6,192.99\" style=\"stroke: #383838; stroke-width: 1.0;\"/><text fill=\"#000000\" font-family=\"sans-serif\" font-size=\"13\" lengthAdjust=\"spacingAndGlyphs\" textLength=\"36\" x=\"88\" y=\"181.0669\">[true]</text></a><!--MD5=[79568f1e445c3877b6a54524624ccc7d]\n",
       "link E4 to E6--><a href=\"psysml:2cb1b039-bbb8-4621-9b87-8355478bfab0\" target=\"_top\" title=\"psysml:2cb1b039-bbb8-4621-9b87-8355478bfab0\" xlink:actuate=\"onRequest\" xlink:href=\"psysml:2cb1b039-bbb8-4621-9b87-8355478bfab0\" xlink:show=\"new\" xlink:title=\"psysml:2cb1b039-bbb8-4621-9b87-8355478bfab0\" xlink:type=\"simple\"><path d=\"M35,150.73 C35,188.01 35,297.72 35,297.72 C35,297.72 129.85,297.72 129.85,297.72 \" fill=\"none\" id=\"E4-&gt;E6\" style=\"stroke: #383838; stroke-width: 1.0;\"/><polygon fill=\"#383838\" points=\"134.85,297.72,125.85,293.72,129.85,297.72,125.85,301.72,134.85,297.72\" style=\"stroke: #383838; stroke-width: 1.0;\"/><text fill=\"#000000\" font-family=\"sans-serif\" font-size=\"13\" lengthAdjust=\"spacingAndGlyphs\" textLength=\"40\" x=\"59\" y=\"219.0669\">[false]</text></a><!--MD5=[9120cf2e5df3bff93db8f754bbbc09b4]\n",
       "link E5 to E6--><a href=\"psysml:b49ece63-4bda-4eac-a48b-66e19b9bdab7\" target=\"_top\" title=\"psysml:b49ece63-4bda-4eac-a48b-66e19b9bdab7\" xlink:actuate=\"onRequest\" xlink:href=\"psysml:b49ece63-4bda-4eac-a48b-66e19b9bdab7\" xlink:show=\"new\" xlink:title=\"psysml:b49ece63-4bda-4eac-a48b-66e19b9bdab7\" xlink:type=\"simple\"><path d=\"M165,236.08 C165,236.08 165,263.87 165,263.87 \" fill=\"none\" id=\"E5-&gt;E6\" style=\"stroke: #383838; stroke-width: 1.0;\"/><polygon fill=\"#383838\" points=\"165,268.87,169,259.87,165,263.87,161,259.87,165,268.87\" style=\"stroke: #383838; stroke-width: 1.0;\"/><text fill=\"#000000\" font-family=\"sans-serif\" font-size=\"13\" lengthAdjust=\"spacingAndGlyphs\" textLength=\"55\" x=\"166\" y=\"257.0669\">[x == 0]</text></a><!--MD5=[ee1895fafec47e03453ec709efc0e03e]\n",
       "@startuml\r\n",
       "skinparam ranksep 10\r\n",
       "skinparam rectangle {\r\n",
       " backgroundColor<<block>> LightGreen\r\n",
       "}\r\n",
       "skinparam linetype ortho\r\n",
       "skinparam monochrome true\r\n",
       "skinparam classbackgroundcolor white\r\n",
       "skinparam shadowing false\r\n",
       "skinparam wrapWidth 300\r\n",
       "hide circle\r\n",
       "\r\n",
       "rec def \"DecisionTest\" as E1  <<(T,blue)action def>> [[psysml:3be07126-877a-4309-8447-1e285ef81f95 ]] {\r\n",
       "portout \"$result\" as E2  [[psysml:9348992a-eef4-478a-99a3-8679640e907b ]] \r\n",
       "choice \"test x\" as E3  [[psysml:68020b6f-ffe7-4b5f-b810-1edcbdd08af0 ]] \r\n",
       "choice \"noname\" as E4  [[psysml:c53ed86d-7fd9-4daa-81a5-a3aaa8a48fdd ]] \r\n",
       "rec usage \"A1\" as E5  <<(T,blue)action>> [[psysml:0f40ea9b-adac-4a33-8b1a-34d15e55e3d2 ]] {\r\n",
       "}\r\n",
       "\r\n",
       "rec usage \"A2\" as E6  <<(T,blue)action>> [[psysml:128661ee-6ef6-488f-adc9-4acba814b00a ]] {\r\n",
       "}\r\n",
       "\r\n",
       "rec usage \"A3\" as E7  <<(T,blue)action>> [[psysml:7b9f6d16-7e81-4d0a-aec9-34a5599243af ]] {\r\n",
       "}\r\n",
       "\r\n",
       "rec usage \"A3\" as E8  <<(T,blue)action>> [[psysml:7b9f6d16-7e81-4d0a-aec9-34a5599243af ]] {\r\n",
       "}\r\n",
       "\r\n",
       "}\r\n",
       "\r\n",
       "E3  - -> E5 [[psysml:7286f462-e52e-4ebc-bfea-7701f26f76d2 ]] : [x == 1]\r\n",
       "E3  - -> E6 [[psysml:e748a59f-80ec-4a6b-adc3-e898091fbade ]] : [x > 1]\r\n",
       "E3  - -> E8 [[psysml:c4aa7bb1-7be8-4d3d-94c8-0c3feb0dde03 ]] \r\n",
       "E3 - -> E4 [[psysml:9e59e0cd-e7d6-48f9-8abd-2b6da2cb7bd3 ]] \r\n",
       "E4  - -> E5 [[psysml:7b0b5bc6-fd2d-464d-92f4-1e71099b6f78 ]] : [true]\r\n",
       "E4  - -> E6 [[psysml:2cb1b039-bbb8-4621-9b87-8355478bfab0 ]] : [false]\r\n",
       "E5  - -> E6 [[psysml:b49ece63-4bda-4eac-a48b-66e19b9bdab7 ]] : [x == 0]\r\n",
       "E8  - -> E3 [[psysml:313c2626-617f-4a85-9d7c-c31cb61d9b9e ]] : [x > 0]\r\n",
       "@enduml\r\n",
       "\n",
       "PlantUML version 1.2020.13(Sat Jun 13 12:26:38 UTC 2020)\n",
       "(EPL source distribution)\n",
       "Java Runtime: OpenJDK Runtime Environment\n",
       "JVM: OpenJDK 64-Bit Server VM\n",
       "Default Encoding: UTF-8\n",
       "Language: en\n",
       "Country: null\n",
       "--></g></svg>"
      ]
     },
     "execution_count": 54,
     "metadata": {},
     "output_type": "execute_result"
    }
   ],
   "source": [
    "%viz --style=\"ORTHOLINE\" --view=\"Interconnection\" \"DecisionTest\""
   ]
  },
  {
   "cell_type": "code",
   "execution_count": 55,
   "id": "4485d2a5",
   "metadata": {
    "execution": {
     "iopub.execute_input": "2021-05-27T06:09:56.091497Z",
     "iopub.status.busy": "2021-05-27T06:09:56.091106Z",
     "iopub.status.idle": "2021-05-27T06:09:56.121409Z",
     "shell.execute_reply": "2021-05-27T06:09:56.120081Z"
    }
   },
   "outputs": [
    {
     "data": {
      "image/svg+xml": [
       "<?xml version=\"1.0\" encoding=\"UTF-8\" standalone=\"no\"?><svg xmlns=\"http://www.w3.org/2000/svg\" xmlns:xlink=\"http://www.w3.org/1999/xlink\" contentScriptType=\"application/ecmascript\" contentStyleType=\"text/css\" height=\"384px\" preserveAspectRatio=\"none\" style=\"width:333px;height:384px;\" version=\"1.1\" viewBox=\"0 0 333 384\" width=\"333px\" zoomAndPan=\"magnify\"><defs/><g><!--MD5=[fbc87193dbaf4d95561dea2c320d4a47]\n",
       "cluster E1--><a href=\"psysml:3be07126-877a-4309-8447-1e285ef81f95\" target=\"_top\" title=\"psysml:3be07126-877a-4309-8447-1e285ef81f95\" xlink:actuate=\"onRequest\" xlink:href=\"psysml:3be07126-877a-4309-8447-1e285ef81f95\" xlink:show=\"new\" xlink:title=\"psysml:3be07126-877a-4309-8447-1e285ef81f95\" xlink:type=\"simple\"><rect fill=\"#FFFFFF\" height=\"344.72\" id=\"E1\" style=\"stroke: #383838; stroke-width: 1.5;\" width=\"315\" x=\"7\" y=\"7\"/><rect fill=\"#F8F8F8\" height=\"37.9375\" style=\"stroke: #383838; stroke-width: 1.5;\" width=\"315\" x=\"7\" y=\"7\"/><text fill=\"#000000\" font-family=\"sans-serif\" font-size=\"12\" font-style=\"italic\" lengthAdjust=\"spacingAndGlyphs\" textLength=\"77\" x=\"126\" y=\"23.1387\">«action def»</text><text fill=\"#000000\" font-family=\"sans-serif\" font-size=\"12\" lengthAdjust=\"spacingAndGlyphs\" textLength=\"80\" x=\"124.5\" y=\"37.1074\">DecisionTest</text></a><text fill=\"#000000\" font-family=\"sans-serif\" font-size=\"14\" lengthAdjust=\"spacingAndGlyphs\" textLength=\"48\" x=\"140\" y=\"370.7151\">$result</text><rect fill=\"#383838\" height=\"12\" style=\"stroke: #F8F8F8; stroke-width: 1.5;\" width=\"12\" x=\"158\" y=\"345.72\"/><polygon fill=\"#F8F8F8\" points=\"141,28.5,153,40.5,141,52.5,129,40.5,141,28.5\" style=\"stroke: #383838; stroke-width: 1.5;\"/><polygon fill=\"#F8F8F8\" points=\"35,126.5,47,138.5,35,150.5,23,138.5,35,126.5\" style=\"stroke: #383838; stroke-width: 1.5;\"/><g id=\"E1.E5\"><a href=\"psysml:0f40ea9b-adac-4a33-8b1a-34d15e55e3d2\" target=\"_top\" title=\"psysml:0f40ea9b-adac-4a33-8b1a-34d15e55e3d2\" xlink:actuate=\"onRequest\" xlink:href=\"psysml:0f40ea9b-adac-4a33-8b1a-34d15e55e3d2\" xlink:show=\"new\" xlink:title=\"psysml:0f40ea9b-adac-4a33-8b1a-34d15e55e3d2\" xlink:type=\"simple\"><rect fill=\"#FFFFFF\" height=\"42.9375\" id=\"E5\" rx=\"10\" ry=\"10\" style=\"stroke: #383838; stroke-width: 1.5;\" width=\"60\" x=\"135\" y=\"193\"/><rect fill=\"#F8F8F8\" height=\"37.9375\" rx=\"10\" ry=\"10\" style=\"stroke: #F8F8F8; stroke-width: 1.5;\" width=\"60\" x=\"135\" y=\"193\"/><rect fill=\"#F8F8F8\" height=\"10\" style=\"stroke: #F8F8F8; stroke-width: 1.5;\" width=\"60\" x=\"135\" y=\"220.9375\"/><rect fill=\"none\" height=\"42.9375\" id=\"E5\" rx=\"10\" ry=\"10\" style=\"stroke: #383838; stroke-width: 1.5;\" width=\"60\" x=\"135\" y=\"193\"/><text fill=\"#000000\" font-family=\"sans-serif\" font-size=\"12\" font-style=\"italic\" lengthAdjust=\"spacingAndGlyphs\" textLength=\"53\" x=\"138.5\" y=\"209.1387\">«action»</text><text fill=\"#000000\" font-family=\"sans-serif\" font-size=\"12\" lengthAdjust=\"spacingAndGlyphs\" textLength=\"16\" x=\"157\" y=\"223.1074\">A1</text></a></g><g id=\"E1.E6\"><a href=\"psysml:128661ee-6ef6-488f-adc9-4acba814b00a\" target=\"_top\" title=\"psysml:128661ee-6ef6-488f-adc9-4acba814b00a\" xlink:actuate=\"onRequest\" xlink:href=\"psysml:128661ee-6ef6-488f-adc9-4acba814b00a\" xlink:show=\"new\" xlink:title=\"psysml:128661ee-6ef6-488f-adc9-4acba814b00a\" xlink:type=\"simple\"><rect fill=\"#FFFFFF\" height=\"42.9375\" id=\"E6\" rx=\"10\" ry=\"10\" style=\"stroke: #383838; stroke-width: 1.5;\" width=\"60\" x=\"135\" y=\"269\"/><rect fill=\"#F8F8F8\" height=\"37.9375\" rx=\"10\" ry=\"10\" style=\"stroke: #F8F8F8; stroke-width: 1.5;\" width=\"60\" x=\"135\" y=\"269\"/><rect fill=\"#F8F8F8\" height=\"10\" style=\"stroke: #F8F8F8; stroke-width: 1.5;\" width=\"60\" x=\"135\" y=\"296.9375\"/><rect fill=\"none\" height=\"42.9375\" id=\"E6\" rx=\"10\" ry=\"10\" style=\"stroke: #383838; stroke-width: 1.5;\" width=\"60\" x=\"135\" y=\"269\"/><text fill=\"#000000\" font-family=\"sans-serif\" font-size=\"12\" font-style=\"italic\" lengthAdjust=\"spacingAndGlyphs\" textLength=\"53\" x=\"138.5\" y=\"285.1387\">«action»</text><text fill=\"#000000\" font-family=\"sans-serif\" font-size=\"12\" lengthAdjust=\"spacingAndGlyphs\" textLength=\"16\" x=\"157\" y=\"299.1074\">A2</text></a></g><g id=\"E1.E7\"><a href=\"psysml:7b9f6d16-7e81-4d0a-aec9-34a5599243af\" target=\"_top\" title=\"psysml:7b9f6d16-7e81-4d0a-aec9-34a5599243af\" xlink:actuate=\"onRequest\" xlink:href=\"psysml:7b9f6d16-7e81-4d0a-aec9-34a5599243af\" xlink:show=\"new\" xlink:title=\"psysml:7b9f6d16-7e81-4d0a-aec9-34a5599243af\" xlink:type=\"simple\"><rect fill=\"#FFFFFF\" height=\"42.9375\" id=\"E7\" rx=\"10\" ry=\"10\" style=\"stroke: #383838; stroke-width: 1.5;\" width=\"60\" x=\"46\" y=\"66\"/><rect fill=\"#F8F8F8\" height=\"37.9375\" rx=\"10\" ry=\"10\" style=\"stroke: #F8F8F8; stroke-width: 1.5;\" width=\"60\" x=\"46\" y=\"66\"/><rect fill=\"#F8F8F8\" height=\"10\" style=\"stroke: #F8F8F8; stroke-width: 1.5;\" width=\"60\" x=\"46\" y=\"93.9375\"/><rect fill=\"none\" height=\"42.9375\" id=\"E7\" rx=\"10\" ry=\"10\" style=\"stroke: #383838; stroke-width: 1.5;\" width=\"60\" x=\"46\" y=\"66\"/><text fill=\"#000000\" font-family=\"sans-serif\" font-size=\"12\" font-style=\"italic\" lengthAdjust=\"spacingAndGlyphs\" textLength=\"53\" x=\"49.5\" y=\"82.1387\">«action»</text><text fill=\"#000000\" font-family=\"sans-serif\" font-size=\"12\" lengthAdjust=\"spacingAndGlyphs\" textLength=\"16\" x=\"68\" y=\"96.1074\">A3</text></a></g><g id=\"E1.E8\"><a href=\"psysml:7b9f6d16-7e81-4d0a-aec9-34a5599243af\" target=\"_top\" title=\"psysml:7b9f6d16-7e81-4d0a-aec9-34a5599243af\" xlink:actuate=\"onRequest\" xlink:href=\"psysml:7b9f6d16-7e81-4d0a-aec9-34a5599243af\" xlink:show=\"new\" xlink:title=\"psysml:7b9f6d16-7e81-4d0a-aec9-34a5599243af\" xlink:type=\"simple\"><rect fill=\"#FFFFFF\" height=\"42.9375\" id=\"E8\" rx=\"10\" ry=\"10\" style=\"stroke: #383838; stroke-width: 1.5;\" width=\"60\" x=\"246\" y=\"117\"/><rect fill=\"#F8F8F8\" height=\"37.9375\" rx=\"10\" ry=\"10\" style=\"stroke: #F8F8F8; stroke-width: 1.5;\" width=\"60\" x=\"246\" y=\"117\"/><rect fill=\"#F8F8F8\" height=\"10\" style=\"stroke: #F8F8F8; stroke-width: 1.5;\" width=\"60\" x=\"246\" y=\"144.9375\"/><rect fill=\"none\" height=\"42.9375\" id=\"E8\" rx=\"10\" ry=\"10\" style=\"stroke: #383838; stroke-width: 1.5;\" width=\"60\" x=\"246\" y=\"117\"/><text fill=\"#000000\" font-family=\"sans-serif\" font-size=\"12\" font-style=\"italic\" lengthAdjust=\"spacingAndGlyphs\" textLength=\"53\" x=\"249.5\" y=\"133.1387\">«action»</text><text fill=\"#000000\" font-family=\"sans-serif\" font-size=\"12\" lengthAdjust=\"spacingAndGlyphs\" textLength=\"16\" x=\"268\" y=\"147.1074\">A3</text></a></g><!--MD5=[0188b64bb0ae78505a997a81836e11e9]\n",
       "link E3 to E5--><a href=\"psysml:7286f462-e52e-4ebc-bfea-7701f26f76d2\" target=\"_top\" title=\"psysml:7286f462-e52e-4ebc-bfea-7701f26f76d2\" xlink:actuate=\"onRequest\" xlink:href=\"psysml:7286f462-e52e-4ebc-bfea-7701f26f76d2\" xlink:show=\"new\" xlink:title=\"psysml:7286f462-e52e-4ebc-bfea-7701f26f76d2\" xlink:type=\"simple\"><path d=\"M142.2,51.38 C142.2,51.38 142.2,187.91 142.2,187.91 \" fill=\"none\" id=\"E3-&gt;E5\" style=\"stroke: #383838; stroke-width: 1.0; stroke-dasharray: 7.0,7.0;\"/><polygon fill=\"#383838\" points=\"142.2,192.91,146.2,183.91,142.2,187.91,138.2,183.91,142.2,192.91\" style=\"stroke: #383838; stroke-width: 1.0;\"/><text fill=\"#000000\" font-family=\"sans-serif\" font-size=\"13\" lengthAdjust=\"spacingAndGlyphs\" textLength=\"55\" x=\"118\" y=\"143.0669\">[x == 1]</text></a><!--MD5=[ec9844e0c75763426927cad3229d1081]\n",
       "link E3 to E6--><a href=\"psysml:e748a59f-80ec-4a6b-adc3-e898091fbade\" target=\"_top\" title=\"psysml:e748a59f-80ec-4a6b-adc3-e898091fbade\" xlink:actuate=\"onRequest\" xlink:href=\"psysml:e748a59f-80ec-4a6b-adc3-e898091fbade\" xlink:show=\"new\" xlink:title=\"psysml:e748a59f-80ec-4a6b-adc3-e898091fbade\" xlink:type=\"simple\"><path d=\"M132.52,36.72 C125.78,36.72 117.5,36.72 117.5,36.72 C117.5,36.72 117.5,283.72 117.5,283.72 C117.5,283.72 129.92,283.72 129.92,283.72 \" fill=\"none\" id=\"E3-&gt;E6\" style=\"stroke: #383838; stroke-width: 1.0; stroke-dasharray: 7.0,7.0;\"/><polygon fill=\"#383838\" points=\"134.92,283.72,125.92,279.72,129.92,283.72,125.92,287.72,134.92,283.72\" style=\"stroke: #383838; stroke-width: 1.0;\"/><text fill=\"#000000\" font-family=\"sans-serif\" font-size=\"13\" lengthAdjust=\"spacingAndGlyphs\" textLength=\"44\" x=\"221\" y=\"181.0669\">[x &gt; 1]</text></a><!--MD5=[ca5a752d6098d8a44b3f88316e7452d1]\n",
       "link E3 to E8--><a href=\"psysml:c4aa7bb1-7be8-4d3d-94c8-0c3feb0dde03\" target=\"_top\" title=\"psysml:c4aa7bb1-7be8-4d3d-94c8-0c3feb0dde03\" xlink:actuate=\"onRequest\" xlink:href=\"psysml:c4aa7bb1-7be8-4d3d-94c8-0c3feb0dde03\" xlink:show=\"new\" xlink:title=\"psysml:c4aa7bb1-7be8-4d3d-94c8-0c3feb0dde03\" xlink:type=\"simple\"><path d=\"M149.4,44.37 C149.4,60.39 149.4,120.72 149.4,120.72 C149.4,120.72 241,120.72 241,120.72 \" fill=\"none\" id=\"E3-&gt;E8\" style=\"stroke: #383838; stroke-width: 1.0; stroke-dasharray: 7.0,7.0;\"/><polygon fill=\"#383838\" points=\"246,120.72,237,116.72,241,120.72,237,124.72,246,120.72\" style=\"stroke: #383838; stroke-width: 1.0;\"/></a><!--MD5=[95fa686b5a16158bcdbcaeead89f639b]\n",
       "link E8 to E3--><a href=\"psysml:313c2626-617f-4a85-9d7c-c31cb61d9b9e\" target=\"_top\" title=\"psysml:313c2626-617f-4a85-9d7c-c31cb61d9b9e\" xlink:actuate=\"onRequest\" xlink:href=\"psysml:313c2626-617f-4a85-9d7c-c31cb61d9b9e\" xlink:show=\"new\" xlink:title=\"psysml:313c2626-617f-4a85-9d7c-c31cb61d9b9e\" xlink:type=\"simple\"><path d=\"M245.8,123.72 C207.34,123.72 145.8,123.72 145.8,123.72 C145.8,123.72 145.8,52.89 145.8,52.89 \" fill=\"none\" id=\"E8-&gt;E3\" style=\"stroke: #383838; stroke-width: 1.0; stroke-dasharray: 7.0,7.0;\"/><polygon fill=\"#383838\" points=\"145.8,47.89,141.8,56.89,145.8,52.89,149.8,56.89,145.8,47.89\" style=\"stroke: #383838; stroke-width: 1.0;\"/><text fill=\"#000000\" font-family=\"sans-serif\" font-size=\"13\" lengthAdjust=\"spacingAndGlyphs\" textLength=\"44\" x=\"254\" y=\"92.0669\">[x &gt; 0]</text></a><!--MD5=[af87c684e3b0d8be13c1a698a818ef1e]\n",
       "link E3 to E4--><a href=\"psysml:9e59e0cd-e7d6-48f9-8abd-2b6da2cb7bd3\" target=\"_top\" title=\"psysml:9e59e0cd-e7d6-48f9-8abd-2b6da2cb7bd3\" xlink:actuate=\"onRequest\" xlink:href=\"psysml:9e59e0cd-e7d6-48f9-8abd-2b6da2cb7bd3\" xlink:show=\"new\" xlink:title=\"psysml:9e59e0cd-e7d6-48f9-8abd-2b6da2cb7bd3\" xlink:type=\"simple\"><path d=\"M133,44.72 C108.23,44.72 34.5,44.72 34.5,44.72 C34.5,44.72 34.5,121.62 34.5,121.62 \" fill=\"none\" id=\"E3-&gt;E4\" style=\"stroke: #383838; stroke-width: 1.0; stroke-dasharray: 7.0,7.0;\"/><polygon fill=\"#383838\" points=\"34.5,126.62,38.5,117.62,34.5,121.62,30.5,117.62,34.5,126.62\" style=\"stroke: #383838; stroke-width: 1.0;\"/></a><!--MD5=[1b7591eae5389033d8d09a9d6721a717]\n",
       "link E4 to E5--><a href=\"psysml:7b0b5bc6-fd2d-464d-92f4-1e71099b6f78\" target=\"_top\" title=\"psysml:7b0b5bc6-fd2d-464d-92f4-1e71099b6f78\" xlink:actuate=\"onRequest\" xlink:href=\"psysml:7b0b5bc6-fd2d-464d-92f4-1e71099b6f78\" xlink:show=\"new\" xlink:title=\"psysml:7b0b5bc6-fd2d-464d-92f4-1e71099b6f78\" xlink:type=\"simple\"><path d=\"M46.88,138.72 C74.1,138.72 138.6,138.72 138.6,138.72 C138.6,138.72 138.6,187.99 138.6,187.99 \" fill=\"none\" id=\"E4-&gt;E5\" style=\"stroke: #383838; stroke-width: 1.0; stroke-dasharray: 7.0,7.0;\"/><polygon fill=\"#383838\" points=\"138.6,192.99,142.6,183.99,138.6,187.99,134.6,183.99,138.6,192.99\" style=\"stroke: #383838; stroke-width: 1.0;\"/><text fill=\"#000000\" font-family=\"sans-serif\" font-size=\"13\" lengthAdjust=\"spacingAndGlyphs\" textLength=\"36\" x=\"88\" y=\"181.0669\">[true]</text></a><!--MD5=[79568f1e445c3877b6a54524624ccc7d]\n",
       "link E4 to E6--><a href=\"psysml:2cb1b039-bbb8-4621-9b87-8355478bfab0\" target=\"_top\" title=\"psysml:2cb1b039-bbb8-4621-9b87-8355478bfab0\" xlink:actuate=\"onRequest\" xlink:href=\"psysml:2cb1b039-bbb8-4621-9b87-8355478bfab0\" xlink:show=\"new\" xlink:title=\"psysml:2cb1b039-bbb8-4621-9b87-8355478bfab0\" xlink:type=\"simple\"><path d=\"M35,150.73 C35,188.01 35,297.72 35,297.72 C35,297.72 129.85,297.72 129.85,297.72 \" fill=\"none\" id=\"E4-&gt;E6\" style=\"stroke: #383838; stroke-width: 1.0; stroke-dasharray: 7.0,7.0;\"/><polygon fill=\"#383838\" points=\"134.85,297.72,125.85,293.72,129.85,297.72,125.85,301.72,134.85,297.72\" style=\"stroke: #383838; stroke-width: 1.0;\"/><text fill=\"#000000\" font-family=\"sans-serif\" font-size=\"13\" lengthAdjust=\"spacingAndGlyphs\" textLength=\"40\" x=\"59\" y=\"219.0669\">[false]</text></a><!--MD5=[9120cf2e5df3bff93db8f754bbbc09b4]\n",
       "link E5 to E6--><a href=\"psysml:b49ece63-4bda-4eac-a48b-66e19b9bdab7\" target=\"_top\" title=\"psysml:b49ece63-4bda-4eac-a48b-66e19b9bdab7\" xlink:actuate=\"onRequest\" xlink:href=\"psysml:b49ece63-4bda-4eac-a48b-66e19b9bdab7\" xlink:show=\"new\" xlink:title=\"psysml:b49ece63-4bda-4eac-a48b-66e19b9bdab7\" xlink:type=\"simple\"><path d=\"M165,236.08 C165,236.08 165,263.87 165,263.87 \" fill=\"none\" id=\"E5-&gt;E6\" style=\"stroke: #383838; stroke-width: 1.0; stroke-dasharray: 7.0,7.0;\"/><polygon fill=\"#383838\" points=\"165,268.87,169,259.87,165,263.87,161,259.87,165,268.87\" style=\"stroke: #383838; stroke-width: 1.0;\"/><text fill=\"#000000\" font-family=\"sans-serif\" font-size=\"13\" lengthAdjust=\"spacingAndGlyphs\" textLength=\"55\" x=\"166\" y=\"257.0669\">[x == 0]</text></a><!--MD5=[6a0d1ae39d9c1039ccb317eeeb20953f]\n",
       "@startuml\r\n",
       "skinparam ranksep 8\r\n",
       "skinparam linetype ortho\r\n",
       "skinparam monochrome true\r\n",
       "skinparam classbackgroundcolor white\r\n",
       "skinparam shadowing false\r\n",
       "skinparam wrapWidth 300\r\n",
       "hide circle\r\n",
       "\r\n",
       "rec def \"DecisionTest\" as E1  <<(T,blue)action def>> [[psysml:3be07126-877a-4309-8447-1e285ef81f95 ]] {\r\n",
       "portout \"$result\" as E2  [[psysml:9348992a-eef4-478a-99a3-8679640e907b ]] \r\n",
       "choice \"test x\" as E3  [[psysml:68020b6f-ffe7-4b5f-b810-1edcbdd08af0 ]] \r\n",
       "choice \"noname\" as E4  [[psysml:c53ed86d-7fd9-4daa-81a5-a3aaa8a48fdd ]] \r\n",
       "rec usage \"A1\" as E5  <<(T,blue)action>> [[psysml:0f40ea9b-adac-4a33-8b1a-34d15e55e3d2 ]] {\r\n",
       "}\r\n",
       "\r\n",
       "rec usage \"A2\" as E6  <<(T,blue)action>> [[psysml:128661ee-6ef6-488f-adc9-4acba814b00a ]] {\r\n",
       "}\r\n",
       "\r\n",
       "rec usage \"A3\" as E7  <<(T,blue)action>> [[psysml:7b9f6d16-7e81-4d0a-aec9-34a5599243af ]] {\r\n",
       "}\r\n",
       "\r\n",
       "rec usage \"A3\" as E8  <<(T,blue)action>> [[psysml:7b9f6d16-7e81-4d0a-aec9-34a5599243af ]] {\r\n",
       "}\r\n",
       "\r\n",
       "}\r\n",
       "\r\n",
       "E3 ..> E5 [[psysml:7286f462-e52e-4ebc-bfea-7701f26f76d2 ]] : [x == 1]\r\n",
       "E3 ..> E6 [[psysml:e748a59f-80ec-4a6b-adc3-e898091fbade ]] : [x > 1]\r\n",
       "E3 ..> E8 [[psysml:c4aa7bb1-7be8-4d3d-94c8-0c3feb0dde03 ]] \r\n",
       "E3 ..> E4 [[psysml:9e59e0cd-e7d6-48f9-8abd-2b6da2cb7bd3 ]] \r\n",
       "E4 ..> E5 [[psysml:7b0b5bc6-fd2d-464d-92f4-1e71099b6f78 ]] : [true]\r\n",
       "E4 ..> E6 [[psysml:2cb1b039-bbb8-4621-9b87-8355478bfab0 ]] : [false]\r\n",
       "E5 ..> E6 [[psysml:b49ece63-4bda-4eac-a48b-66e19b9bdab7 ]] : [x == 0]\r\n",
       "E8 ..> E3 [[psysml:313c2626-617f-4a85-9d7c-c31cb61d9b9e ]] : [x > 0]\r\n",
       "@enduml\r\n",
       "\n",
       "PlantUML version 1.2020.13(Sat Jun 13 12:26:38 UTC 2020)\n",
       "(EPL source distribution)\n",
       "Java Runtime: OpenJDK Runtime Environment\n",
       "JVM: OpenJDK 64-Bit Server VM\n",
       "Default Encoding: UTF-8\n",
       "Language: en\n",
       "Country: null\n",
       "--></g></svg>"
      ]
     },
     "execution_count": 55,
     "metadata": {},
     "output_type": "execute_result"
    }
   ],
   "source": [
    "%viz --style=\"ORTHOLINE\" --view=\"Action\" \"DecisionTest\""
   ]
  },
  {
   "cell_type": "code",
   "execution_count": 56,
   "id": "784e6bce",
   "metadata": {
    "execution": {
     "iopub.execute_input": "2021-05-27T06:09:56.173066Z",
     "iopub.status.busy": "2021-05-27T06:09:56.172327Z",
     "iopub.status.idle": "2021-05-27T06:09:56.239974Z",
     "shell.execute_reply": "2021-05-27T06:09:56.239660Z"
    }
   },
   "outputs": [
    {
     "data": {
      "image/svg+xml": [
       "<?xml version=\"1.0\" encoding=\"UTF-8\" standalone=\"no\"?><svg xmlns=\"http://www.w3.org/2000/svg\" xmlns:xlink=\"http://www.w3.org/1999/xlink\" contentScriptType=\"application/ecmascript\" contentStyleType=\"text/css\" height=\"207px\" preserveAspectRatio=\"none\" style=\"width:109px;height:207px;\" version=\"1.1\" viewBox=\"0 0 109 207\" width=\"109px\" zoomAndPan=\"magnify\"><defs/><g><!--MD5=[43c9051892ef23e1a46a86907403d788]\n",
       "class E1--><a href=\"psysml:3be07126-877a-4309-8447-1e285ef81f95\" target=\"_top\" title=\"psysml:3be07126-877a-4309-8447-1e285ef81f95\" xlink:actuate=\"onRequest\" xlink:href=\"psysml:3be07126-877a-4309-8447-1e285ef81f95\" xlink:show=\"new\" xlink:title=\"psysml:3be07126-877a-4309-8447-1e285ef81f95\" xlink:type=\"simple\"><rect fill=\"#FFFFFF\" height=\"189.9844\" id=\"E1\" style=\"stroke: #383838; stroke-width: 1.5;\" width=\"91\" x=\"7\" y=\"7\"/><text fill=\"#000000\" font-family=\"sans-serif\" font-size=\"12\" font-style=\"italic\" lengthAdjust=\"spacingAndGlyphs\" textLength=\"77\" x=\"14\" y=\"23.1387\">«action def»</text><text fill=\"#000000\" font-family=\"sans-serif\" font-size=\"12\" lengthAdjust=\"spacingAndGlyphs\" textLength=\"80\" x=\"12.5\" y=\"37.1074\">DecisionTest</text><line style=\"stroke: #383838; stroke-width: 1.5;\" x1=\"8\" x2=\"97\" y1=\"44.9375\" y2=\"44.9375\"/><text fill=\"#000000\" font-family=\"sans-serif\" font-size=\"11\" lengthAdjust=\"spacingAndGlyphs\" textLength=\"26\" x=\"13\" y=\"75.9526\">x=1;</text><line style=\"stroke: #383838; stroke-width: 1.0;\" x1=\"8\" x2=\"25\" y1=\"59.3398\" y2=\"59.3398\"/><text fill=\"#000000\" font-family=\"sans-serif\" font-size=\"11\" lengthAdjust=\"spacingAndGlyphs\" textLength=\"55\" x=\"25\" y=\"62.6479\">attributes</text><line style=\"stroke: #383838; stroke-width: 1.0;\" x1=\"80\" x2=\"97\" y1=\"59.3398\" y2=\"59.3398\"/><text fill=\"#000000\" font-family=\"sans-serif\" font-size=\"11\" lengthAdjust=\"spacingAndGlyphs\" textLength=\"14\" x=\"13\" y=\"105.562\">A1</text><text fill=\"#000000\" font-family=\"sans-serif\" font-size=\"11\" lengthAdjust=\"spacingAndGlyphs\" textLength=\"14\" x=\"13\" y=\"118.3667\">A2</text><text fill=\"#000000\" font-family=\"sans-serif\" font-size=\"11\" lengthAdjust=\"spacingAndGlyphs\" textLength=\"14\" x=\"13\" y=\"131.1714\">A3</text><line style=\"stroke: #383838; stroke-width: 1.0;\" x1=\"8\" x2=\"32\" y1=\"88.9492\" y2=\"88.9492\"/><text fill=\"#000000\" font-family=\"sans-serif\" font-size=\"11\" lengthAdjust=\"spacingAndGlyphs\" textLength=\"41\" x=\"32\" y=\"92.2573\">actions</text><line style=\"stroke: #383838; stroke-width: 1.0;\" x1=\"73\" x2=\"97\" y1=\"88.9492\" y2=\"88.9492\"/><text fill=\"#000000\" font-family=\"sans-serif\" font-size=\"11\" lengthAdjust=\"spacingAndGlyphs\" textLength=\"32\" x=\"13\" y=\"160.7808\">test x</text><line style=\"stroke: #383838; stroke-width: 1.0;\" x1=\"8\" x2=\"11\" y1=\"144.168\" y2=\"144.168\"/><text fill=\"#000000\" font-family=\"sans-serif\" font-size=\"11\" lengthAdjust=\"spacingAndGlyphs\" textLength=\"83\" x=\"11\" y=\"147.4761\">decisionNodes</text><line style=\"stroke: #383838; stroke-width: 1.0;\" x1=\"94\" x2=\"97\" y1=\"144.168\" y2=\"144.168\"/><text fill=\"#000000\" font-family=\"sans-serif\" font-size=\"11\" lengthAdjust=\"spacingAndGlyphs\" textLength=\"8\" x=\"13\" y=\"190.3901\">S</text><line style=\"stroke: #383838; stroke-width: 1.0;\" x1=\"8\" x2=\"22\" y1=\"173.7773\" y2=\"173.7773\"/><text fill=\"#000000\" font-family=\"sans-serif\" font-size=\"11\" lengthAdjust=\"spacingAndGlyphs\" textLength=\"61\" x=\"22\" y=\"177.0854\">transitions</text><line style=\"stroke: #383838; stroke-width: 1.0;\" x1=\"83\" x2=\"97\" y1=\"173.7773\" y2=\"173.7773\"/></a><!--MD5=[20df39ad65085365a44cfefe3a848bd1]\n",
       "@startuml\r\n",
       "skinparam linetype ortho\r\n",
       "skinparam monochrome true\r\n",
       "skinparam classbackgroundcolor white\r\n",
       "skinparam shadowing false\r\n",
       "skinparam wrapWidth 300\r\n",
       "hide circle\r\n",
       "\r\n",
       "comp def \"DecisionTest\" as E1  <<(T,blue)action def>> [[psysml:3be07126-877a-4309-8447-1e285ef81f95 ]] {\r\n",
       "- - attributes - -\r\n",
       "x=1; \r\n",
       "- - actions - -\r\n",
       "A1\r\n",
       "A2\r\n",
       "A3\r\n",
       "- - decisionNodes - -\r\n",
       "test x\r\n",
       "- - transitions - -\r\n",
       "S\r\n",
       "}\r\n",
       "@enduml\r\n",
       "\n",
       "PlantUML version 1.2020.13(Sat Jun 13 12:26:38 UTC 2020)\n",
       "(EPL source distribution)\n",
       "Java Runtime: OpenJDK Runtime Environment\n",
       "JVM: OpenJDK 64-Bit Server VM\n",
       "Default Encoding: UTF-8\n",
       "Language: en\n",
       "Country: null\n",
       "--></g></svg>"
      ]
     },
     "execution_count": 56,
     "metadata": {},
     "output_type": "execute_result"
    }
   ],
   "source": [
    "%viz --style=\"ORTHOLINE\" --view=\"Sequence\" \"DecisionTest\""
   ]
  },
  {
   "cell_type": "code",
   "execution_count": 57,
   "id": "5e26cca1",
   "metadata": {
    "execution": {
     "iopub.execute_input": "2021-05-27T06:09:56.292091Z",
     "iopub.status.busy": "2021-05-27T06:09:56.291304Z",
     "iopub.status.idle": "2021-05-27T06:09:56.324715Z",
     "shell.execute_reply": "2021-05-27T06:09:56.323304Z"
    }
   },
   "outputs": [
    {
     "data": {
      "image/svg+xml": [
       "<?xml version=\"1.0\" encoding=\"UTF-8\" standalone=\"no\"?><svg xmlns=\"http://www.w3.org/2000/svg\" xmlns:xlink=\"http://www.w3.org/1999/xlink\" contentScriptType=\"application/ecmascript\" contentStyleType=\"text/css\" height=\"574px\" preserveAspectRatio=\"none\" style=\"width:333px;height:574px;\" version=\"1.1\" viewBox=\"0 0 333 574\" width=\"333px\" zoomAndPan=\"magnify\"><defs/><g><!--MD5=[fbc87193dbaf4d95561dea2c320d4a47]\n",
       "cluster E1--><a href=\"psysml:3be07126-877a-4309-8447-1e285ef81f95\" target=\"_top\" title=\"psysml:3be07126-877a-4309-8447-1e285ef81f95\" xlink:actuate=\"onRequest\" xlink:href=\"psysml:3be07126-877a-4309-8447-1e285ef81f95\" xlink:show=\"new\" xlink:title=\"psysml:3be07126-877a-4309-8447-1e285ef81f95\" xlink:type=\"simple\"><rect fill=\"#FFFFFF\" height=\"534.72\" id=\"E1\" style=\"stroke: #383838; stroke-width: 1.5;\" width=\"315\" x=\"7\" y=\"7\"/><rect fill=\"#F8F8F8\" height=\"37.9375\" style=\"stroke: #383838; stroke-width: 1.5;\" width=\"315\" x=\"7\" y=\"7\"/><text fill=\"#000000\" font-family=\"sans-serif\" font-size=\"12\" font-style=\"italic\" lengthAdjust=\"spacingAndGlyphs\" textLength=\"77\" x=\"126\" y=\"23.1387\">«action def»</text><text fill=\"#000000\" font-family=\"sans-serif\" font-size=\"12\" lengthAdjust=\"spacingAndGlyphs\" textLength=\"80\" x=\"124.5\" y=\"37.1074\">DecisionTest</text></a><text fill=\"#000000\" font-family=\"sans-serif\" font-size=\"14\" lengthAdjust=\"spacingAndGlyphs\" textLength=\"48\" x=\"140\" y=\"560.7151\">$result</text><rect fill=\"#383838\" height=\"12\" style=\"stroke: #F8F8F8; stroke-width: 1.5;\" width=\"12\" x=\"158\" y=\"535.72\"/><polygon fill=\"#F8F8F8\" points=\"141,28.5,153,40.5,141,52.5,129,40.5,141,28.5\" style=\"stroke: #383838; stroke-width: 1.5;\"/><polygon fill=\"#F8F8F8\" points=\"35,170.5,47,182.5,35,194.5,23,182.5,35,170.5\" style=\"stroke: #383838; stroke-width: 1.5;\"/><g id=\"E1.E5\"><a href=\"psysml:0f40ea9b-adac-4a33-8b1a-34d15e55e3d2\" target=\"_top\" title=\"psysml:0f40ea9b-adac-4a33-8b1a-34d15e55e3d2\" xlink:actuate=\"onRequest\" xlink:href=\"psysml:0f40ea9b-adac-4a33-8b1a-34d15e55e3d2\" xlink:show=\"new\" xlink:title=\"psysml:0f40ea9b-adac-4a33-8b1a-34d15e55e3d2\" xlink:type=\"simple\"><rect fill=\"#FFFFFF\" height=\"42.9375\" id=\"E5\" rx=\"10\" ry=\"10\" style=\"stroke: #383838; stroke-width: 1.5;\" width=\"60\" x=\"135\" y=\"281\"/><rect fill=\"#F8F8F8\" height=\"37.9375\" rx=\"10\" ry=\"10\" style=\"stroke: #F8F8F8; stroke-width: 1.5;\" width=\"60\" x=\"135\" y=\"281\"/><rect fill=\"#F8F8F8\" height=\"10\" style=\"stroke: #F8F8F8; stroke-width: 1.5;\" width=\"60\" x=\"135\" y=\"308.9375\"/><rect fill=\"none\" height=\"42.9375\" id=\"E5\" rx=\"10\" ry=\"10\" style=\"stroke: #383838; stroke-width: 1.5;\" width=\"60\" x=\"135\" y=\"281\"/><text fill=\"#000000\" font-family=\"sans-serif\" font-size=\"12\" font-style=\"italic\" lengthAdjust=\"spacingAndGlyphs\" textLength=\"53\" x=\"138.5\" y=\"297.1387\">«action»</text><text fill=\"#000000\" font-family=\"sans-serif\" font-size=\"12\" lengthAdjust=\"spacingAndGlyphs\" textLength=\"16\" x=\"157\" y=\"311.1074\">A1</text></a></g><g id=\"E1.E6\"><a href=\"psysml:128661ee-6ef6-488f-adc9-4acba814b00a\" target=\"_top\" title=\"psysml:128661ee-6ef6-488f-adc9-4acba814b00a\" xlink:actuate=\"onRequest\" xlink:href=\"psysml:128661ee-6ef6-488f-adc9-4acba814b00a\" xlink:show=\"new\" xlink:title=\"psysml:128661ee-6ef6-488f-adc9-4acba814b00a\" xlink:type=\"simple\"><rect fill=\"#FFFFFF\" height=\"42.9375\" id=\"E6\" rx=\"10\" ry=\"10\" style=\"stroke: #383838; stroke-width: 1.5;\" width=\"60\" x=\"135\" y=\"401\"/><rect fill=\"#F8F8F8\" height=\"37.9375\" rx=\"10\" ry=\"10\" style=\"stroke: #F8F8F8; stroke-width: 1.5;\" width=\"60\" x=\"135\" y=\"401\"/><rect fill=\"#F8F8F8\" height=\"10\" style=\"stroke: #F8F8F8; stroke-width: 1.5;\" width=\"60\" x=\"135\" y=\"428.9375\"/><rect fill=\"none\" height=\"42.9375\" id=\"E6\" rx=\"10\" ry=\"10\" style=\"stroke: #383838; stroke-width: 1.5;\" width=\"60\" x=\"135\" y=\"401\"/><text fill=\"#000000\" font-family=\"sans-serif\" font-size=\"12\" font-style=\"italic\" lengthAdjust=\"spacingAndGlyphs\" textLength=\"53\" x=\"138.5\" y=\"417.1387\">«action»</text><text fill=\"#000000\" font-family=\"sans-serif\" font-size=\"12\" lengthAdjust=\"spacingAndGlyphs\" textLength=\"16\" x=\"157\" y=\"431.1074\">A2</text></a></g><g id=\"E1.E7\"><a href=\"psysml:7b9f6d16-7e81-4d0a-aec9-34a5599243af\" target=\"_top\" title=\"psysml:7b9f6d16-7e81-4d0a-aec9-34a5599243af\" xlink:actuate=\"onRequest\" xlink:href=\"psysml:7b9f6d16-7e81-4d0a-aec9-34a5599243af\" xlink:show=\"new\" xlink:title=\"psysml:7b9f6d16-7e81-4d0a-aec9-34a5599243af\" xlink:type=\"simple\"><rect fill=\"#FFFFFF\" height=\"42.9375\" id=\"E7\" rx=\"10\" ry=\"10\" style=\"stroke: #383838; stroke-width: 1.5;\" width=\"60\" x=\"46\" y=\"88\"/><rect fill=\"#F8F8F8\" height=\"37.9375\" rx=\"10\" ry=\"10\" style=\"stroke: #F8F8F8; stroke-width: 1.5;\" width=\"60\" x=\"46\" y=\"88\"/><rect fill=\"#F8F8F8\" height=\"10\" style=\"stroke: #F8F8F8; stroke-width: 1.5;\" width=\"60\" x=\"46\" y=\"115.9375\"/><rect fill=\"none\" height=\"42.9375\" id=\"E7\" rx=\"10\" ry=\"10\" style=\"stroke: #383838; stroke-width: 1.5;\" width=\"60\" x=\"46\" y=\"88\"/><text fill=\"#000000\" font-family=\"sans-serif\" font-size=\"12\" font-style=\"italic\" lengthAdjust=\"spacingAndGlyphs\" textLength=\"53\" x=\"49.5\" y=\"104.1387\">«action»</text><text fill=\"#000000\" font-family=\"sans-serif\" font-size=\"12\" lengthAdjust=\"spacingAndGlyphs\" textLength=\"16\" x=\"68\" y=\"118.1074\">A3</text></a></g><g id=\"E1.E8\"><a href=\"psysml:7b9f6d16-7e81-4d0a-aec9-34a5599243af\" target=\"_top\" title=\"psysml:7b9f6d16-7e81-4d0a-aec9-34a5599243af\" xlink:actuate=\"onRequest\" xlink:href=\"psysml:7b9f6d16-7e81-4d0a-aec9-34a5599243af\" xlink:show=\"new\" xlink:title=\"psysml:7b9f6d16-7e81-4d0a-aec9-34a5599243af\" xlink:type=\"simple\"><rect fill=\"#FFFFFF\" height=\"42.9375\" id=\"E8\" rx=\"10\" ry=\"10\" style=\"stroke: #383838; stroke-width: 1.5;\" width=\"60\" x=\"246\" y=\"161\"/><rect fill=\"#F8F8F8\" height=\"37.9375\" rx=\"10\" ry=\"10\" style=\"stroke: #F8F8F8; stroke-width: 1.5;\" width=\"60\" x=\"246\" y=\"161\"/><rect fill=\"#F8F8F8\" height=\"10\" style=\"stroke: #F8F8F8; stroke-width: 1.5;\" width=\"60\" x=\"246\" y=\"188.9375\"/><rect fill=\"none\" height=\"42.9375\" id=\"E8\" rx=\"10\" ry=\"10\" style=\"stroke: #383838; stroke-width: 1.5;\" width=\"60\" x=\"246\" y=\"161\"/><text fill=\"#000000\" font-family=\"sans-serif\" font-size=\"12\" font-style=\"italic\" lengthAdjust=\"spacingAndGlyphs\" textLength=\"53\" x=\"249.5\" y=\"177.1387\">«action»</text><text fill=\"#000000\" font-family=\"sans-serif\" font-size=\"12\" lengthAdjust=\"spacingAndGlyphs\" textLength=\"16\" x=\"268\" y=\"191.1074\">A3</text></a></g><!--MD5=[0188b64bb0ae78505a997a81836e11e9]\n",
       "link E3 to E5--><a href=\"psysml:7286f462-e52e-4ebc-bfea-7701f26f76d2\" target=\"_top\" title=\"psysml:7286f462-e52e-4ebc-bfea-7701f26f76d2\" xlink:actuate=\"onRequest\" xlink:href=\"psysml:7286f462-e52e-4ebc-bfea-7701f26f76d2\" xlink:show=\"new\" xlink:title=\"psysml:7286f462-e52e-4ebc-bfea-7701f26f76d2\" xlink:type=\"simple\"><path d=\"M142.2,51.42 C142.2,51.42 142.2,275.91 142.2,275.91 \" fill=\"none\" id=\"E3-&gt;E5\" style=\"stroke: #383838; stroke-width: 1.0;\"/><polygon fill=\"#383838\" points=\"142.2,280.91,146.2,271.91,142.2,275.91,138.2,271.91,142.2,280.91\" style=\"stroke: #383838; stroke-width: 1.0;\"/><text fill=\"#000000\" font-family=\"sans-serif\" font-size=\"13\" lengthAdjust=\"spacingAndGlyphs\" textLength=\"55\" x=\"118\" y=\"187.0669\">[x == 1]</text></a><!--MD5=[ec9844e0c75763426927cad3229d1081]\n",
       "link E3 to E6--><a href=\"psysml:e748a59f-80ec-4a6b-adc3-e898091fbade\" target=\"_top\" title=\"psysml:e748a59f-80ec-4a6b-adc3-e898091fbade\" xlink:actuate=\"onRequest\" xlink:href=\"psysml:e748a59f-80ec-4a6b-adc3-e898091fbade\" xlink:show=\"new\" xlink:title=\"psysml:e748a59f-80ec-4a6b-adc3-e898091fbade\" xlink:type=\"simple\"><path d=\"M132.52,36.72 C125.78,36.72 117.5,36.72 117.5,36.72 C117.5,36.72 117.5,415.72 117.5,415.72 C117.5,415.72 129.92,415.72 129.92,415.72 \" fill=\"none\" id=\"E3-&gt;E6\" style=\"stroke: #383838; stroke-width: 1.0;\"/><polygon fill=\"#383838\" points=\"134.92,415.72,125.92,411.72,129.92,415.72,125.92,419.72,134.92,415.72\" style=\"stroke: #383838; stroke-width: 1.0;\"/><text fill=\"#000000\" font-family=\"sans-serif\" font-size=\"13\" lengthAdjust=\"spacingAndGlyphs\" textLength=\"44\" x=\"221\" y=\"247.0669\">[x &gt; 1]</text></a><!--MD5=[ca5a752d6098d8a44b3f88316e7452d1]\n",
       "link E3 to E8--><a href=\"psysml:c4aa7bb1-7be8-4d3d-94c8-0c3feb0dde03\" target=\"_top\" title=\"psysml:c4aa7bb1-7be8-4d3d-94c8-0c3feb0dde03\" xlink:actuate=\"onRequest\" xlink:href=\"psysml:c4aa7bb1-7be8-4d3d-94c8-0c3feb0dde03\" xlink:show=\"new\" xlink:title=\"psysml:c4aa7bb1-7be8-4d3d-94c8-0c3feb0dde03\" xlink:type=\"simple\"><path d=\"M149.4,44.35 C149.4,65.32 149.4,164.72 149.4,164.72 C149.4,164.72 241,164.72 241,164.72 \" fill=\"none\" id=\"E3-&gt;E8\" style=\"stroke: #383838; stroke-width: 1.0;\"/><polygon fill=\"#383838\" points=\"246,164.72,237,160.72,241,164.72,237,168.72,246,164.72\" style=\"stroke: #383838; stroke-width: 1.0;\"/></a><!--MD5=[95fa686b5a16158bcdbcaeead89f639b]\n",
       "link E8 to E3--><a href=\"psysml:313c2626-617f-4a85-9d7c-c31cb61d9b9e\" target=\"_top\" title=\"psysml:313c2626-617f-4a85-9d7c-c31cb61d9b9e\" xlink:actuate=\"onRequest\" xlink:href=\"psysml:313c2626-617f-4a85-9d7c-c31cb61d9b9e\" xlink:show=\"new\" xlink:title=\"psysml:313c2626-617f-4a85-9d7c-c31cb61d9b9e\" xlink:type=\"simple\"><path d=\"M245.8,167.72 C207.34,167.72 145.8,167.72 145.8,167.72 C145.8,167.72 145.8,52.7 145.8,52.7 \" fill=\"none\" id=\"E8-&gt;E3\" style=\"stroke: #383838; stroke-width: 1.0;\"/><polygon fill=\"#383838\" points=\"145.8,47.7,141.8,56.7,145.8,52.7,149.8,56.7,145.8,47.7\" style=\"stroke: #383838; stroke-width: 1.0;\"/><text fill=\"#000000\" font-family=\"sans-serif\" font-size=\"13\" lengthAdjust=\"spacingAndGlyphs\" textLength=\"44\" x=\"254\" y=\"114.0669\">[x &gt; 0]</text></a><!--MD5=[af87c684e3b0d8be13c1a698a818ef1e]\n",
       "link E3 to E4--><a href=\"psysml:9e59e0cd-e7d6-48f9-8abd-2b6da2cb7bd3\" target=\"_top\" title=\"psysml:9e59e0cd-e7d6-48f9-8abd-2b6da2cb7bd3\" xlink:actuate=\"onRequest\" xlink:href=\"psysml:9e59e0cd-e7d6-48f9-8abd-2b6da2cb7bd3\" xlink:show=\"new\" xlink:title=\"psysml:9e59e0cd-e7d6-48f9-8abd-2b6da2cb7bd3\" xlink:type=\"simple\"><path d=\"M133,44.72 C108.23,44.72 34.5,44.72 34.5,44.72 C34.5,44.72 34.5,165.75 34.5,165.75 \" fill=\"none\" id=\"E3-&gt;E4\" style=\"stroke: #383838; stroke-width: 1.0;\"/><polygon fill=\"#383838\" points=\"34.5,170.75,38.5,161.75,34.5,165.75,30.5,161.75,34.5,170.75\" style=\"stroke: #383838; stroke-width: 1.0;\"/></a><!--MD5=[1b7591eae5389033d8d09a9d6721a717]\n",
       "link E4 to E5--><a href=\"psysml:7b0b5bc6-fd2d-464d-92f4-1e71099b6f78\" target=\"_top\" title=\"psysml:7b0b5bc6-fd2d-464d-92f4-1e71099b6f78\" xlink:actuate=\"onRequest\" xlink:href=\"psysml:7b0b5bc6-fd2d-464d-92f4-1e71099b6f78\" xlink:show=\"new\" xlink:title=\"psysml:7b0b5bc6-fd2d-464d-92f4-1e71099b6f78\" xlink:type=\"simple\"><path d=\"M46.88,182.72 C74.1,182.72 138.6,182.72 138.6,182.72 C138.6,182.72 138.6,275.81 138.6,275.81 \" fill=\"none\" id=\"E4-&gt;E5\" style=\"stroke: #383838; stroke-width: 1.0;\"/><polygon fill=\"#383838\" points=\"138.6,280.81,142.6,271.81,138.6,275.81,134.6,271.81,138.6,280.81\" style=\"stroke: #383838; stroke-width: 1.0;\"/><text fill=\"#000000\" font-family=\"sans-serif\" font-size=\"13\" lengthAdjust=\"spacingAndGlyphs\" textLength=\"36\" x=\"88\" y=\"247.0669\">[true]</text></a><!--MD5=[79568f1e445c3877b6a54524624ccc7d]\n",
       "link E4 to E6--><a href=\"psysml:2cb1b039-bbb8-4621-9b87-8355478bfab0\" target=\"_top\" title=\"psysml:2cb1b039-bbb8-4621-9b87-8355478bfab0\" xlink:actuate=\"onRequest\" xlink:href=\"psysml:2cb1b039-bbb8-4621-9b87-8355478bfab0\" xlink:show=\"new\" xlink:title=\"psysml:2cb1b039-bbb8-4621-9b87-8355478bfab0\" xlink:type=\"simple\"><path d=\"M35,194.76 C35,244.64 35,429.72 35,429.72 C35,429.72 129.85,429.72 129.85,429.72 \" fill=\"none\" id=\"E4-&gt;E6\" style=\"stroke: #383838; stroke-width: 1.0;\"/><polygon fill=\"#383838\" points=\"134.85,429.72,125.85,425.72,129.85,429.72,125.85,433.72,134.85,429.72\" style=\"stroke: #383838; stroke-width: 1.0;\"/><text fill=\"#000000\" font-family=\"sans-serif\" font-size=\"13\" lengthAdjust=\"spacingAndGlyphs\" textLength=\"40\" x=\"59\" y=\"307.0669\">[false]</text></a><!--MD5=[9120cf2e5df3bff93db8f754bbbc09b4]\n",
       "link E5 to E6--><a href=\"psysml:b49ece63-4bda-4eac-a48b-66e19b9bdab7\" target=\"_top\" title=\"psysml:b49ece63-4bda-4eac-a48b-66e19b9bdab7\" xlink:actuate=\"onRequest\" xlink:href=\"psysml:b49ece63-4bda-4eac-a48b-66e19b9bdab7\" xlink:show=\"new\" xlink:title=\"psysml:b49ece63-4bda-4eac-a48b-66e19b9bdab7\" xlink:type=\"simple\"><path d=\"M165,324.23 C165,324.23 165,395.93 165,395.93 \" fill=\"none\" id=\"E5-&gt;E6\" style=\"stroke: #383838; stroke-width: 1.0;\"/><polygon fill=\"#383838\" points=\"165,400.93,169,391.93,165,395.93,161,391.93,165,400.93\" style=\"stroke: #383838; stroke-width: 1.0;\"/><text fill=\"#000000\" font-family=\"sans-serif\" font-size=\"13\" lengthAdjust=\"spacingAndGlyphs\" textLength=\"55\" x=\"166\" y=\"367.0669\">[x == 0]</text></a><!--MD5=[aede5ce8dcef3cdf7d63b691e7684873]\n",
       "@startuml\r\n",
       "skinparam linetype ortho\r\n",
       "skinparam monochrome true\r\n",
       "skinparam classbackgroundcolor white\r\n",
       "skinparam shadowing false\r\n",
       "skinparam wrapWidth 300\r\n",
       "hide circle\r\n",
       "\r\n",
       "rec def \"DecisionTest\" as E1  <<(T,blue)action def>> [[psysml:3be07126-877a-4309-8447-1e285ef81f95 ]] {\r\n",
       "portout \"$result\" as E2  [[psysml:9348992a-eef4-478a-99a3-8679640e907b ]] \r\n",
       "choice \"test x\" as E3  [[psysml:68020b6f-ffe7-4b5f-b810-1edcbdd08af0 ]] \r\n",
       "choice \"noname\" as E4  [[psysml:c53ed86d-7fd9-4daa-81a5-a3aaa8a48fdd ]] \r\n",
       "rec usage \"A1\" as E5  <<(T,blue)action>> [[psysml:0f40ea9b-adac-4a33-8b1a-34d15e55e3d2 ]] {\r\n",
       "}\r\n",
       "\r\n",
       "rec usage \"A2\" as E6  <<(T,blue)action>> [[psysml:128661ee-6ef6-488f-adc9-4acba814b00a ]] {\r\n",
       "}\r\n",
       "\r\n",
       "rec usage \"A3\" as E7  <<(T,blue)action>> [[psysml:7b9f6d16-7e81-4d0a-aec9-34a5599243af ]] {\r\n",
       "}\r\n",
       "\r\n",
       "rec usage \"A3\" as E8  <<(T,blue)action>> [[psysml:7b9f6d16-7e81-4d0a-aec9-34a5599243af ]] {\r\n",
       "}\r\n",
       "\r\n",
       "}\r\n",
       "\r\n",
       "E3  - -> E5 [[psysml:7286f462-e52e-4ebc-bfea-7701f26f76d2 ]] : [x == 1]\r\n",
       "E3  - -> E6 [[psysml:e748a59f-80ec-4a6b-adc3-e898091fbade ]] : [x > 1]\r\n",
       "E3  - -> E8 [[psysml:c4aa7bb1-7be8-4d3d-94c8-0c3feb0dde03 ]] \r\n",
       "E3 - -> E4 [[psysml:9e59e0cd-e7d6-48f9-8abd-2b6da2cb7bd3 ]] \r\n",
       "E4  - -> E5 [[psysml:7b0b5bc6-fd2d-464d-92f4-1e71099b6f78 ]] : [true]\r\n",
       "E4  - -> E6 [[psysml:2cb1b039-bbb8-4621-9b87-8355478bfab0 ]] : [false]\r\n",
       "E5  - -> E6 [[psysml:b49ece63-4bda-4eac-a48b-66e19b9bdab7 ]] : [x == 0]\r\n",
       "E8  - -> E3 [[psysml:313c2626-617f-4a85-9d7c-c31cb61d9b9e ]] : [x > 0]\r\n",
       "@enduml\r\n",
       "\n",
       "PlantUML version 1.2020.13(Sat Jun 13 12:26:38 UTC 2020)\n",
       "(EPL source distribution)\n",
       "Java Runtime: OpenJDK Runtime Environment\n",
       "JVM: OpenJDK 64-Bit Server VM\n",
       "Default Encoding: UTF-8\n",
       "Language: en\n",
       "Country: null\n",
       "--></g></svg>"
      ]
     },
     "execution_count": 57,
     "metadata": {},
     "output_type": "execute_result"
    }
   ],
   "source": [
    "%viz --style=\"ORTHOLINE\" --view=\"MIXED\" \"DecisionTest\""
   ]
  }
 ],
 "metadata": {
  "kernelspec": {
   "display_name": "SysML",
   "language": "sysml",
   "name": "sysml"
  },
  "language_info": {
   "codemirror_mode": "sysml",
   "file_extension": ".sysml",
   "mimetype": "text/x-sysml",
   "name": "SysML",
   "pygments_lexer": "java",
   "version": "1.0.0"
  }
 },
 "nbformat": 4,
 "nbformat_minor": 5
}
