{
 "cells": [
  {
   "cell_type": "markdown",
   "id": "44b66770",
   "metadata": {},
   "source": [
    "# SysML v2 Test Suite\n",
    "\n",
    "This can notebook can be cleared using menu `Edit --> Clear All Outputs` and then all cells can be\n",
    "run using menu `Run --> Run All Cells`.\n",
    "\n",
    "**WARNING**: This file is generated, all modifications here will be ignored.\n"
   ]
  },
  {
   "cell_type": "markdown",
   "id": "89618cbe",
   "metadata": {},
   "source": [
    "## File: ../../sysml/src/examples/Simple Tests/DecisionTest.sysml"
   ]
  },
  {
   "cell_type": "code",
   "execution_count": 1,
   "id": "583a8a08",
   "metadata": {
    "execution": {
     "iopub.execute_input": "2021-10-03T08:28:58.638885Z",
     "iopub.status.busy": "2021-10-03T08:28:58.637703Z",
     "iopub.status.idle": "2021-10-03T08:28:59.264861Z",
     "shell.execute_reply": "2021-10-03T08:28:59.265206Z"
    }
   },
   "outputs": [
    {
     "data": {
      "text/plain": [
       "ActionDefinition DecisionTest (902f33bd-931b-409d-8a20-4366bf9a3129)\n"
      ]
     },
     "execution_count": 1,
     "metadata": {},
     "output_type": "execute_result"
    }
   ],
   "source": [
    "action def DecisionTest {\n",
    "\tattribute x = 1;\n",
    "\t\n",
    "\tdecide 'test x';\n",
    "\tif x == 1 then A1; \n",
    "\tif x > 1 then A2;\n",
    "\telse A3; \n",
    "\t\n",
    "\tthen decide; \n",
    "\tif true then A1;\n",
    "\tif false then A2;\n",
    "\t\n",
    "\taction A1;\n",
    "\taction A2;\n",
    "\taction A3;\n",
    "\t\n",
    "\tsuccession S first A1 \n",
    "\t\tif x == 0 then A2;\n",
    "\t\t\n",
    "\tfirst A3;\n",
    "\t\tif x > 0 then 'test x';\n",
    "}"
   ]
  },
  {
   "cell_type": "code",
   "execution_count": 2,
   "id": "4ada1497",
   "metadata": {
    "execution": {
     "iopub.execute_input": "2021-10-03T08:28:59.316028Z",
     "iopub.status.busy": "2021-10-03T08:28:59.315480Z",
     "iopub.status.idle": "2021-10-03T08:28:59.775279Z",
     "shell.execute_reply": "2021-10-03T08:28:59.774111Z"
    }
   },
   "outputs": [
    {
     "data": {
      "image/svg+xml": [
       "<?xml version=\"1.0\" encoding=\"UTF-8\" standalone=\"no\"?><svg xmlns=\"http://www.w3.org/2000/svg\" xmlns:xlink=\"http://www.w3.org/1999/xlink\" contentScriptType=\"application/ecmascript\" contentStyleType=\"text/css\" height=\"488px\" preserveAspectRatio=\"none\" style=\"width:333px;height:488px;\" version=\"1.1\" viewBox=\"0 0 333 488\" width=\"333px\" zoomAndPan=\"magnify\"><defs/><g><!--MD5=[fbc87193dbaf4d95561dea2c320d4a47]\n",
       "cluster E1--><a href=\"psysml:ec9d2101-14b6-425a-8b3b-258973824e57\" target=\"_top\" title=\"psysml:ec9d2101-14b6-425a-8b3b-258973824e57\" xlink:actuate=\"onRequest\" xlink:href=\"psysml:ec9d2101-14b6-425a-8b3b-258973824e57\" xlink:show=\"new\" xlink:title=\"psysml:ec9d2101-14b6-425a-8b3b-258973824e57\" xlink:type=\"simple\"><rect fill=\"#FFFFFF\" height=\"470\" id=\"E1\" style=\"stroke: #383838; stroke-width: 1.5;\" width=\"315\" x=\"7\" y=\"7\"/><rect fill=\"#F8F8F8\" height=\"37.9375\" style=\"stroke: #383838; stroke-width: 1.5;\" width=\"315\" x=\"7\" y=\"7\"/><text fill=\"#000000\" font-family=\"sans-serif\" font-size=\"12\" font-style=\"italic\" lengthAdjust=\"spacingAndGlyphs\" textLength=\"77\" x=\"126\" y=\"23.1387\">«action def»</text><text fill=\"#000000\" font-family=\"sans-serif\" font-size=\"12\" lengthAdjust=\"spacingAndGlyphs\" textLength=\"80\" x=\"124.5\" y=\"37.1074\">DecisionTest</text></a><polygon fill=\"#F8F8F8\" points=\"210,67.5,222,79.5,210,91.5,198,79.5,210,67.5\" style=\"stroke: #383838; stroke-width: 1.5;\"/><polygon fill=\"#F8F8F8\" points=\"35,187.5,47,199.5,35,211.5,23,199.5,35,187.5\" style=\"stroke: #383838; stroke-width: 1.5;\"/><g id=\"E1.E4\"><a href=\"psysml:2b21def1-54fd-4014-8db4-beef5c1da0f0\" target=\"_top\" title=\"psysml:2b21def1-54fd-4014-8db4-beef5c1da0f0\" xlink:actuate=\"onRequest\" xlink:href=\"psysml:2b21def1-54fd-4014-8db4-beef5c1da0f0\" xlink:show=\"new\" xlink:title=\"psysml:2b21def1-54fd-4014-8db4-beef5c1da0f0\" xlink:type=\"simple\"><rect fill=\"#FFFFFF\" height=\"42.9375\" id=\"E4\" rx=\"10\" ry=\"10\" style=\"stroke: #383838; stroke-width: 1.5;\" width=\"60\" x=\"135\" y=\"298\"/><rect fill=\"#F8F8F8\" height=\"37.9375\" rx=\"10\" ry=\"10\" style=\"stroke: #F8F8F8; stroke-width: 1.5;\" width=\"60\" x=\"135\" y=\"298\"/><rect fill=\"#F8F8F8\" height=\"10\" style=\"stroke: #F8F8F8; stroke-width: 1.5;\" width=\"60\" x=\"135\" y=\"325.9375\"/><rect fill=\"none\" height=\"42.9375\" id=\"E4\" rx=\"10\" ry=\"10\" style=\"stroke: #383838; stroke-width: 1.5;\" width=\"60\" x=\"135\" y=\"298\"/><text fill=\"#000000\" font-family=\"sans-serif\" font-size=\"12\" font-style=\"italic\" lengthAdjust=\"spacingAndGlyphs\" textLength=\"53\" x=\"138.5\" y=\"314.1387\">«action»</text><text fill=\"#000000\" font-family=\"sans-serif\" font-size=\"12\" lengthAdjust=\"spacingAndGlyphs\" textLength=\"16\" x=\"157\" y=\"328.1074\">A1</text></a></g><g id=\"E1.E5\"><a href=\"psysml:a7c18d95-cb4e-4d18-b7c9-a948ce4b9e35\" target=\"_top\" title=\"psysml:a7c18d95-cb4e-4d18-b7c9-a948ce4b9e35\" xlink:actuate=\"onRequest\" xlink:href=\"psysml:a7c18d95-cb4e-4d18-b7c9-a948ce4b9e35\" xlink:show=\"new\" xlink:title=\"psysml:a7c18d95-cb4e-4d18-b7c9-a948ce4b9e35\" xlink:type=\"simple\"><rect fill=\"#FFFFFF\" height=\"42.9375\" id=\"E5\" rx=\"10\" ry=\"10\" style=\"stroke: #383838; stroke-width: 1.5;\" width=\"60\" x=\"135\" y=\"418\"/><rect fill=\"#F8F8F8\" height=\"37.9375\" rx=\"10\" ry=\"10\" style=\"stroke: #F8F8F8; stroke-width: 1.5;\" width=\"60\" x=\"135\" y=\"418\"/><rect fill=\"#F8F8F8\" height=\"10\" style=\"stroke: #F8F8F8; stroke-width: 1.5;\" width=\"60\" x=\"135\" y=\"445.9375\"/><rect fill=\"none\" height=\"42.9375\" id=\"E5\" rx=\"10\" ry=\"10\" style=\"stroke: #383838; stroke-width: 1.5;\" width=\"60\" x=\"135\" y=\"418\"/><text fill=\"#000000\" font-family=\"sans-serif\" font-size=\"12\" font-style=\"italic\" lengthAdjust=\"spacingAndGlyphs\" textLength=\"53\" x=\"138.5\" y=\"434.1387\">«action»</text><text fill=\"#000000\" font-family=\"sans-serif\" font-size=\"12\" lengthAdjust=\"spacingAndGlyphs\" textLength=\"16\" x=\"157\" y=\"448.1074\">A2</text></a></g><g id=\"E1.E6\"><a href=\"psysml:6ad7aed3-e22d-47c2-b6cf-45fd0f629de6\" target=\"_top\" title=\"psysml:6ad7aed3-e22d-47c2-b6cf-45fd0f629de6\" xlink:actuate=\"onRequest\" xlink:href=\"psysml:6ad7aed3-e22d-47c2-b6cf-45fd0f629de6\" xlink:show=\"new\" xlink:title=\"psysml:6ad7aed3-e22d-47c2-b6cf-45fd0f629de6\" xlink:type=\"simple\"><rect fill=\"#FFFFFF\" height=\"42.9375\" id=\"E6\" rx=\"10\" ry=\"10\" style=\"stroke: #383838; stroke-width: 1.5;\" width=\"60\" x=\"63\" y=\"58\"/><rect fill=\"#F8F8F8\" height=\"37.9375\" rx=\"10\" ry=\"10\" style=\"stroke: #F8F8F8; stroke-width: 1.5;\" width=\"60\" x=\"63\" y=\"58\"/><rect fill=\"#F8F8F8\" height=\"10\" style=\"stroke: #F8F8F8; stroke-width: 1.5;\" width=\"60\" x=\"63\" y=\"85.9375\"/><rect fill=\"none\" height=\"42.9375\" id=\"E6\" rx=\"10\" ry=\"10\" style=\"stroke: #383838; stroke-width: 1.5;\" width=\"60\" x=\"63\" y=\"58\"/><text fill=\"#000000\" font-family=\"sans-serif\" font-size=\"12\" font-style=\"italic\" lengthAdjust=\"spacingAndGlyphs\" textLength=\"53\" x=\"66.5\" y=\"74.1387\">«action»</text><text fill=\"#000000\" font-family=\"sans-serif\" font-size=\"12\" lengthAdjust=\"spacingAndGlyphs\" textLength=\"16\" x=\"85\" y=\"88.1074\">A3</text></a></g><g id=\"E1.E7\"><a href=\"psysml:6ad7aed3-e22d-47c2-b6cf-45fd0f629de6\" target=\"_top\" title=\"psysml:6ad7aed3-e22d-47c2-b6cf-45fd0f629de6\" xlink:actuate=\"onRequest\" xlink:href=\"psysml:6ad7aed3-e22d-47c2-b6cf-45fd0f629de6\" xlink:show=\"new\" xlink:title=\"psysml:6ad7aed3-e22d-47c2-b6cf-45fd0f629de6\" xlink:type=\"simple\"><rect fill=\"#FFFFFF\" height=\"42.9375\" id=\"E7\" rx=\"10\" ry=\"10\" style=\"stroke: #383838; stroke-width: 1.5;\" width=\"60\" x=\"246\" y=\"178\"/><rect fill=\"#F8F8F8\" height=\"37.9375\" rx=\"10\" ry=\"10\" style=\"stroke: #F8F8F8; stroke-width: 1.5;\" width=\"60\" x=\"246\" y=\"178\"/><rect fill=\"#F8F8F8\" height=\"10\" style=\"stroke: #F8F8F8; stroke-width: 1.5;\" width=\"60\" x=\"246\" y=\"205.9375\"/><rect fill=\"none\" height=\"42.9375\" id=\"E7\" rx=\"10\" ry=\"10\" style=\"stroke: #383838; stroke-width: 1.5;\" width=\"60\" x=\"246\" y=\"178\"/><text fill=\"#000000\" font-family=\"sans-serif\" font-size=\"12\" font-style=\"italic\" lengthAdjust=\"spacingAndGlyphs\" textLength=\"53\" x=\"249.5\" y=\"194.1387\">«action»</text><text fill=\"#000000\" font-family=\"sans-serif\" font-size=\"12\" lengthAdjust=\"spacingAndGlyphs\" textLength=\"16\" x=\"268\" y=\"208.1074\">A3</text></a></g><!--MD5=[4d03bb2d0377dc85ccfab60ff574652b]\n",
       "link E2 to E4--><a href=\"psysml:07a447fb-7978-4e35-9306-ac5ec116db5d\" target=\"_top\" title=\"psysml:07a447fb-7978-4e35-9306-ac5ec116db5d\" xlink:actuate=\"onRequest\" xlink:href=\"psysml:07a447fb-7978-4e35-9306-ac5ec116db5d\" xlink:show=\"new\" xlink:title=\"psysml:07a447fb-7978-4e35-9306-ac5ec116db5d\" xlink:type=\"simple\"><path d=\"M204.45,86 C190.88,99.89 156.22,138.13 144,178 C132.04,217.01 144.31,264.27 154.48,292.83 \" fill=\"none\" id=\"E2-&gt;E4\" style=\"stroke: #383838; stroke-width: 1.0;\"/><polygon fill=\"#383838\" points=\"156.22,297.6,156.8939,287.7742,154.5067,292.9027,149.3782,290.5155,156.22,297.6\" style=\"stroke: #383838; stroke-width: 1.0;\"/><text fill=\"#000000\" font-family=\"sans-serif\" font-size=\"13\" lengthAdjust=\"spacingAndGlyphs\" textLength=\"55\" x=\"145\" y=\"204.0669\">[x == 1]</text><text fill=\"#000000\" font-family=\"sans-serif\" font-size=\"13\" lengthAdjust=\"spacingAndGlyphs\" textLength=\"7\" x=\"145.9198\" y=\"286.7919\">*</text></a><!--MD5=[dcad52bbbca2fe8adc741ce38b45dc12]\n",
       "link E2 to E5--><a href=\"psysml:f195b54a-5fed-403e-bb02-20f21e154f17\" target=\"_top\" title=\"psysml:f195b54a-5fed-403e-bb02-20f21e154f17\" xlink:actuate=\"onRequest\" xlink:href=\"psysml:f195b54a-5fed-403e-bb02-20f21e154f17\" xlink:show=\"new\" xlink:title=\"psysml:f195b54a-5fed-403e-bb02-20f21e154f17\" xlink:type=\"simple\"><path d=\"M210.67,90.83 C214.08,143.62 229.24,381.12 226,388 C220.27,400.19 209.98,410.45 199.48,418.47 \" fill=\"none\" id=\"E2-&gt;E5\" style=\"stroke: #383838; stroke-width: 1.0;\"/><polygon fill=\"#383838\" points=\"195.29,421.54,204.9073,419.4168,199.3138,418.5721,200.1586,412.9786,195.29,421.54\" style=\"stroke: #383838; stroke-width: 1.0;\"/><text fill=\"#000000\" font-family=\"sans-serif\" font-size=\"13\" lengthAdjust=\"spacingAndGlyphs\" textLength=\"44\" x=\"222\" y=\"264.0669\">[x &gt; 1]</text><text fill=\"#000000\" font-family=\"sans-serif\" font-size=\"13\" lengthAdjust=\"spacingAndGlyphs\" textLength=\"7\" x=\"203.1039\" y=\"412.7419\">*</text></a><!--MD5=[e3d2a08a9c9236652057e8ed0cbc9b62]\n",
       "link E2 to E7--><a href=\"psysml:15c91a99-d9b4-4320-8388-ef3655122685\" target=\"_top\" title=\"psysml:15c91a99-d9b4-4320-8388-ef3655122685\" xlink:actuate=\"onRequest\" xlink:href=\"psysml:15c91a99-d9b4-4320-8388-ef3655122685\" xlink:show=\"new\" xlink:title=\"psysml:15c91a99-d9b4-4320-8388-ef3655122685\" xlink:type=\"simple\"><path d=\"M210.1,91.71 C210.67,105.71 213.16,129.99 223,148 C228.29,157.68 236.08,166.6 244.08,174.17 \" fill=\"none\" id=\"E2-&gt;E7\" style=\"stroke: #383838; stroke-width: 1.0;\"/><polygon fill=\"#383838\" points=\"248.01,177.77,244.069,168.744,244.3207,174.3953,238.6694,174.6469,248.01,177.77\" style=\"stroke: #383838; stroke-width: 1.0;\"/><text fill=\"#000000\" font-family=\"sans-serif\" font-size=\"13\" lengthAdjust=\"spacingAndGlyphs\" textLength=\"7\" x=\"232.5471\" y=\"167.0076\">*</text></a><!--MD5=[583832df87f4419a098336a29a52fa00]\n",
       "link E7 to E2--><a href=\"psysml:c19c71e4-b628-4c9d-aa87-db03cc189a8f\" target=\"_top\" title=\"psysml:c19c71e4-b628-4c9d-aa87-db03cc189a8f\" xlink:actuate=\"onRequest\" xlink:href=\"psysml:c19c71e4-b628-4c9d-aa87-db03cc189a8f\" xlink:show=\"new\" xlink:title=\"psysml:c19c71e4-b628-4c9d-aa87-db03cc189a8f\" xlink:type=\"simple\"><path d=\"M264.3,177.59 C250.41,152.74 227.7,112.15 216.57,92.25 \" fill=\"none\" id=\"E7-&gt;E2\" style=\"stroke: #383838; stroke-width: 1.0;\"/><polygon fill=\"#383838\" points=\"214.13,87.88,215.0286,97.6878,216.5691,92.2447,222.0122,93.7852,214.13,87.88\" style=\"stroke: #383838; stroke-width: 1.0;\"/><text fill=\"#000000\" font-family=\"sans-serif\" font-size=\"13\" lengthAdjust=\"spacingAndGlyphs\" textLength=\"44\" x=\"247\" y=\"144.0669\">[x &gt; 0]</text><text fill=\"#000000\" font-family=\"sans-serif\" font-size=\"13\" lengthAdjust=\"spacingAndGlyphs\" textLength=\"7\" x=\"207.5946\" y=\"111.7074\">*</text></a><!--MD5=[2720a5a1f2c3fca2055b230370638851]\n",
       "link E2 to E3--><a href=\"psysml:6d6473c9-743e-4105-a2af-98d6bd8c1632\" target=\"_top\" title=\"psysml:6d6473c9-743e-4105-a2af-98d6bd8c1632\" xlink:actuate=\"onRequest\" xlink:href=\"psysml:6d6473c9-743e-4105-a2af-98d6bd8c1632\" xlink:show=\"new\" xlink:title=\"psysml:6d6473c9-743e-4105-a2af-98d6bd8c1632\" xlink:type=\"simple\"><path d=\"M201.9,83.58 C184.06,90.55 140.39,108.7 108,131 C82.49,148.57 56.88,174.67 43.84,188.71 \" fill=\"none\" id=\"E2-&gt;E3\" style=\"stroke: #383838; stroke-width: 1.0;\"/><polygon fill=\"#383838\" points=\"40.21,192.66,49.2443,188.738,43.5925,188.9778,43.3527,183.326,40.21,192.66\" style=\"stroke: #383838; stroke-width: 1.0;\"/><text fill=\"#000000\" font-family=\"sans-serif\" font-size=\"13\" lengthAdjust=\"spacingAndGlyphs\" textLength=\"7\" x=\"48.2668\" y=\"176.5238\">*</text></a><!--MD5=[af87c684e3b0d8be13c1a698a818ef1e]\n",
       "link E3 to E4--><a href=\"psysml:4dd56774-018b-4c8a-8121-2b3d6a9c557c\" target=\"_top\" title=\"psysml:4dd56774-018b-4c8a-8121-2b3d6a9c557c\" xlink:actuate=\"onRequest\" xlink:href=\"psysml:4dd56774-018b-4c8a-8121-2b3d6a9c557c\" xlink:show=\"new\" xlink:title=\"psysml:4dd56774-018b-4c8a-8121-2b3d6a9c557c\" xlink:type=\"simple\"><path d=\"M39.08,207.91 C46.63,221.15 63.87,249.24 84,268 C97.73,280.8 115.17,292.16 130.35,300.85 \" fill=\"none\" id=\"E3-&gt;E4\" style=\"stroke: #383838; stroke-width: 1.0;\"/><polygon fill=\"#383838\" points=\"134.98,303.46,129.0858,295.5696,130.6187,301.0148,125.1735,302.5477,134.98,303.46\" style=\"stroke: #383838; stroke-width: 1.0;\"/><text fill=\"#000000\" font-family=\"sans-serif\" font-size=\"13\" lengthAdjust=\"spacingAndGlyphs\" textLength=\"36\" x=\"85\" y=\"264.0669\">[true]</text><text fill=\"#000000\" font-family=\"sans-serif\" font-size=\"13\" lengthAdjust=\"spacingAndGlyphs\" textLength=\"7\" x=\"119.8095\" y=\"294.8128\">*</text></a><!--MD5=[0188b64bb0ae78505a997a81836e11e9]\n",
       "link E3 to E5--><a href=\"psysml:2f25c912-d622-4deb-be6f-2375e7caca37\" target=\"_top\" title=\"psysml:2f25c912-d622-4deb-be6f-2375e7caca37\" xlink:actuate=\"onRequest\" xlink:href=\"psysml:2f25c912-d622-4deb-be6f-2375e7caca37\" xlink:show=\"new\" xlink:title=\"psysml:2f25c912-d622-4deb-be6f-2375e7caca37\" xlink:type=\"simple\"><path d=\"M36.3,210.29 C39.76,234.03 50.73,296.03 76,341 C91.89,369.29 117.42,396.1 137.07,414.43 \" fill=\"none\" id=\"E3-&gt;E5\" style=\"stroke: #383838; stroke-width: 1.0;\"/><polygon fill=\"#383838\" points=\"140.92,417.98,137.0155,408.9382,137.2443,414.5904,131.5921,414.8192,140.92,417.98\" style=\"stroke: #383838; stroke-width: 1.0;\"/><text fill=\"#000000\" font-family=\"sans-serif\" font-size=\"13\" lengthAdjust=\"spacingAndGlyphs\" textLength=\"40\" x=\"77\" y=\"324.0669\">[false]</text><text fill=\"#000000\" font-family=\"sans-serif\" font-size=\"13\" lengthAdjust=\"spacingAndGlyphs\" textLength=\"7\" x=\"126.1631\" y=\"406.9125\">*</text></a><!--MD5=[1b7591eae5389033d8d09a9d6721a717]\n",
       "link E4 to E5--><a href=\"psysml:19ac739f-970e-4750-a1cd-14a3501dcfff\" target=\"_top\" title=\"psysml:19ac739f-970e-4750-a1cd-14a3501dcfff\" xlink:actuate=\"onRequest\" xlink:href=\"psysml:19ac739f-970e-4750-a1cd-14a3501dcfff\" xlink:show=\"new\" xlink:title=\"psysml:19ac739f-970e-4750-a1cd-14a3501dcfff\" xlink:type=\"simple\"><path d=\"M165,341.05 C165,360.9 165,391.02 165,412.52 \" fill=\"none\" id=\"E4-&gt;E5\" style=\"stroke: #383838; stroke-width: 1.0;\"/><polygon fill=\"#383838\" points=\"165,417.79,169,408.79,165,412.79,161,408.79,165,417.79\" style=\"stroke: #383838; stroke-width: 1.0;\"/><text fill=\"#000000\" font-family=\"sans-serif\" font-size=\"13\" lengthAdjust=\"spacingAndGlyphs\" textLength=\"55\" x=\"166\" y=\"384.0669\">[x == 0]</text><text fill=\"#000000\" font-family=\"sans-serif\" font-size=\"13\" lengthAdjust=\"spacingAndGlyphs\" textLength=\"7\" x=\"157.0594\" y=\"407.033\">*</text></a><!--MD5=[7e6503cd7b35a38768346c3ddfce4fa9]\n",
       "@startuml\r\n",
       " skinparam monochrome true\r\n",
       "skinparam classbackgroundcolor white\r\n",
       "skinparam shadowing false\r\n",
       "skinparam wrapWidth 300\r\n",
       "hide circle\r\n",
       "\r\n",
       "rec def \"DecisionTest\" as E1  <<(T,blue) action def>> [[psysml:ec9d2101-14b6-425a-8b3b-258973824e57 ]] {\r\n",
       "choice \"test x\" as E2  [[psysml:7b5c557c-0eca-43da-893a-884adf177ee9 ]] \r\n",
       "choice \"<s>noname</s>\" as E3  [[psysml:c8637911-bdae-488c-9ae7-71f0e05f074a ]] \r\n",
       "rec usage \"A1\" as E4  <<(T,blue) action>> [[psysml:2b21def1-54fd-4014-8db4-beef5c1da0f0 ]] {\r\n",
       "}\r\n",
       "\r\n",
       "rec usage \"A2\" as E5  <<(T,blue) action>> [[psysml:a7c18d95-cb4e-4d18-b7c9-a948ce4b9e35 ]] {\r\n",
       "}\r\n",
       "\r\n",
       "rec usage \"A3\" as E6  <<(T,blue) action>> [[psysml:6ad7aed3-e22d-47c2-b6cf-45fd0f629de6 ]] {\r\n",
       "}\r\n",
       "\r\n",
       "rec usage \"A3\" as E7  <<(T,blue) action>> [[psysml:6ad7aed3-e22d-47c2-b6cf-45fd0f629de6 ]] {\r\n",
       "}\r\n",
       "\r\n",
       "}\r\n",
       "\r\n",
       "E2  - -> \"*\"E4 [[psysml:07a447fb-7978-4e35-9306-ac5ec116db5d ]] : [x == 1]\r\n",
       "E2  - -> \"*\"E5 [[psysml:f195b54a-5fed-403e-bb02-20f21e154f17 ]] : [x > 1]\r\n",
       "E2  - -> \"*\"E7 [[psysml:15c91a99-d9b4-4320-8388-ef3655122685 ]] \r\n",
       "E2 - -> \"*\"E3 [[psysml:6d6473c9-743e-4105-a2af-98d6bd8c1632 ]] \r\n",
       "E3  - -> \"*\"E4 [[psysml:4dd56774-018b-4c8a-8121-2b3d6a9c557c ]] : [true]\r\n",
       "E3  - -> \"*\"E5 [[psysml:2f25c912-d622-4deb-be6f-2375e7caca37 ]] : [false]\r\n",
       "E4  - -> \"*\"E5 [[psysml:19ac739f-970e-4750-a1cd-14a3501dcfff ]] : [x == 0]\r\n",
       "E7  - -> \"*\"E2 [[psysml:c19c71e4-b628-4c9d-aa87-db03cc189a8f ]] : [x > 0]\r\n",
       "@enduml\r\n",
       "\n",
       "PlantUML version 1.2020.13(Sat Jun 13 12:26:38 UTC 2020)\n",
       "(EPL source distribution)\n",
       "Java Runtime: OpenJDK Runtime Environment\n",
       "JVM: OpenJDK 64-Bit Server VM\n",
       "Default Encoding: UTF-8\n",
       "Language: en\n",
       "Country: null\n",
       "--></g></svg>"
      ]
     },
     "execution_count": 2,
     "metadata": {},
     "output_type": "execute_result"
    }
   ],
   "source": [
    "%viz --style=\"COMPTREE\" --view=\"Default\" \"DecisionTest\""
   ]
  },
  {
   "cell_type": "code",
   "execution_count": 3,
   "id": "062d1108",
   "metadata": {
    "execution": {
     "iopub.execute_input": "2021-10-03T08:28:59.825209Z",
     "iopub.status.busy": "2021-10-03T08:28:59.824901Z",
     "iopub.status.idle": "2021-10-03T08:28:59.910675Z",
     "shell.execute_reply": "2021-10-03T08:28:59.909595Z"
    }
   },
   "outputs": [
    {
     "data": {
      "image/svg+xml": [
       "<?xml version=\"1.0\" encoding=\"UTF-8\" standalone=\"no\"?><svg xmlns=\"http://www.w3.org/2000/svg\" xmlns:xlink=\"http://www.w3.org/1999/xlink\" contentScriptType=\"application/ecmascript\" contentStyleType=\"text/css\" height=\"228px\" preserveAspectRatio=\"none\" style=\"width:525px;height:228px;\" version=\"1.1\" viewBox=\"0 0 525 228\" width=\"525px\" zoomAndPan=\"magnify\"><defs/><g><!--MD5=[43c9051892ef23e1a46a86907403d788]\n",
       "class E1--><a href=\"psysml:ec9d2101-14b6-425a-8b3b-258973824e57\" target=\"_top\" title=\"psysml:ec9d2101-14b6-425a-8b3b-258973824e57\" xlink:actuate=\"onRequest\" xlink:href=\"psysml:ec9d2101-14b6-425a-8b3b-258973824e57\" xlink:show=\"new\" xlink:title=\"psysml:ec9d2101-14b6-425a-8b3b-258973824e57\" xlink:type=\"simple\"><rect fill=\"#FFFFFF\" height=\"105.1563\" id=\"E1\" style=\"stroke: #383838; stroke-width: 1.5;\" width=\"86\" x=\"308.5\" y=\"7\"/><text fill=\"#000000\" font-family=\"sans-serif\" font-size=\"12\" font-style=\"italic\" lengthAdjust=\"spacingAndGlyphs\" textLength=\"77\" x=\"313\" y=\"23.1387\">«action def»</text><text fill=\"#000000\" font-family=\"sans-serif\" font-size=\"12\" lengthAdjust=\"spacingAndGlyphs\" textLength=\"80\" x=\"311.5\" y=\"37.1074\">DecisionTest</text><line style=\"stroke: #383838; stroke-width: 1.5;\" x1=\"309.5\" x2=\"393.5\" y1=\"44.9375\" y2=\"44.9375\"/><text fill=\"#000000\" font-family=\"sans-serif\" font-size=\"11\" lengthAdjust=\"spacingAndGlyphs\" textLength=\"30\" x=\"314.5\" y=\"75.9526\">x= 1;</text><line style=\"stroke: #383838; stroke-width: 1.0;\" x1=\"309.5\" x2=\"324\" y1=\"59.3398\" y2=\"59.3398\"/><text fill=\"#000000\" font-family=\"sans-serif\" font-size=\"11\" lengthAdjust=\"spacingAndGlyphs\" textLength=\"55\" x=\"324\" y=\"62.6479\">attributes</text><line style=\"stroke: #383838; stroke-width: 1.0;\" x1=\"379\" x2=\"393.5\" y1=\"59.3398\" y2=\"59.3398\"/><text fill=\"#000000\" font-family=\"sans-serif\" font-size=\"11\" lengthAdjust=\"spacingAndGlyphs\" textLength=\"8\" x=\"314.5\" y=\"105.562\">S</text><line style=\"stroke: #383838; stroke-width: 1.0;\" x1=\"309.5\" x2=\"321\" y1=\"88.9492\" y2=\"88.9492\"/><text fill=\"#000000\" font-family=\"sans-serif\" font-size=\"11\" lengthAdjust=\"spacingAndGlyphs\" textLength=\"61\" x=\"321\" y=\"92.2573\">transitions</text><line style=\"stroke: #383838; stroke-width: 1.0;\" x1=\"382\" x2=\"393.5\" y1=\"88.9492\" y2=\"88.9492\"/></a><!--MD5=[b4997ac47864f28c2f74865a473b2911]\n",
       "class E2--><a href=\"psysml:7b5c557c-0eca-43da-893a-884adf177ee9\" target=\"_top\" title=\"psysml:7b5c557c-0eca-43da-893a-884adf177ee9\" xlink:actuate=\"onRequest\" xlink:href=\"psysml:7b5c557c-0eca-43da-893a-884adf177ee9\" xlink:show=\"new\" xlink:title=\"psysml:7b5c557c-0eca-43da-893a-884adf177ee9\" xlink:type=\"simple\"><rect fill=\"#FFFFFF\" height=\"45.9375\" id=\"E2\" rx=\"10\" ry=\"10\" style=\"stroke: #383838; stroke-width: 1.5;\" width=\"101\" x=\"7\" y=\"172\"/><text fill=\"#000000\" font-family=\"sans-serif\" font-size=\"12\" font-style=\"italic\" lengthAdjust=\"spacingAndGlyphs\" textLength=\"99\" x=\"8\" y=\"188.1387\">«decisionNode»</text><text fill=\"#000000\" font-family=\"sans-serif\" font-size=\"12\" lengthAdjust=\"spacingAndGlyphs\" textLength=\"35\" x=\"40\" y=\"202.1074\">test x</text><line style=\"stroke: #383838; stroke-width: 1.5;\" x1=\"8\" x2=\"107\" y1=\"209.9375\" y2=\"209.9375\"/></a><!--MD5=[09b614a08d8cba4a07c9adeb5e0fee81]\n",
       "class E3--><a href=\"psysml:c8637911-bdae-488c-9ae7-71f0e05f074a\" target=\"_top\" title=\"psysml:c8637911-bdae-488c-9ae7-71f0e05f074a\" xlink:actuate=\"onRequest\" xlink:href=\"psysml:c8637911-bdae-488c-9ae7-71f0e05f074a\" xlink:show=\"new\" xlink:title=\"psysml:c8637911-bdae-488c-9ae7-71f0e05f074a\" xlink:type=\"simple\"><rect fill=\"#FFFFFF\" height=\"45.9375\" id=\"E3\" rx=\"10\" ry=\"10\" style=\"stroke: #383838; stroke-width: 1.5;\" width=\"101\" x=\"143\" y=\"172\"/><text fill=\"#000000\" font-family=\"sans-serif\" font-size=\"12\" font-style=\"italic\" lengthAdjust=\"spacingAndGlyphs\" textLength=\"99\" x=\"144\" y=\"188.1387\">«decisionNode»</text><text fill=\"#000000\" font-family=\"sans-serif\" font-size=\"12\" lengthAdjust=\"spacingAndGlyphs\" text-decoration=\"line-through\" textLength=\"51\" x=\"168\" y=\"202.1074\">noname</text><line style=\"stroke: #383838; stroke-width: 1.5;\" x1=\"144\" x2=\"243\" y1=\"209.9375\" y2=\"209.9375\"/></a><!--MD5=[ebbe1d658d1005bcc118a6aa81145e00]\n",
       "class E4--><a href=\"psysml:2b21def1-54fd-4014-8db4-beef5c1da0f0\" target=\"_top\" title=\"psysml:2b21def1-54fd-4014-8db4-beef5c1da0f0\" xlink:actuate=\"onRequest\" xlink:href=\"psysml:2b21def1-54fd-4014-8db4-beef5c1da0f0\" xlink:show=\"new\" xlink:title=\"psysml:2b21def1-54fd-4014-8db4-beef5c1da0f0\" xlink:type=\"simple\"><rect fill=\"#FFFFFF\" height=\"45.9375\" id=\"E4\" rx=\"10\" ry=\"10\" style=\"stroke: #383838; stroke-width: 1.5;\" width=\"55\" x=\"279\" y=\"172\"/><text fill=\"#000000\" font-family=\"sans-serif\" font-size=\"12\" font-style=\"italic\" lengthAdjust=\"spacingAndGlyphs\" textLength=\"53\" x=\"280\" y=\"188.1387\">«action»</text><text fill=\"#000000\" font-family=\"sans-serif\" font-size=\"12\" lengthAdjust=\"spacingAndGlyphs\" textLength=\"16\" x=\"298.5\" y=\"202.1074\">A1</text><line style=\"stroke: #383838; stroke-width: 1.5;\" x1=\"280\" x2=\"333\" y1=\"209.9375\" y2=\"209.9375\"/></a><!--MD5=[270fce915f116d4de14055a7c1d9a0f3]\n",
       "class E5--><a href=\"psysml:a7c18d95-cb4e-4d18-b7c9-a948ce4b9e35\" target=\"_top\" title=\"psysml:a7c18d95-cb4e-4d18-b7c9-a948ce4b9e35\" xlink:actuate=\"onRequest\" xlink:href=\"psysml:a7c18d95-cb4e-4d18-b7c9-a948ce4b9e35\" xlink:show=\"new\" xlink:title=\"psysml:a7c18d95-cb4e-4d18-b7c9-a948ce4b9e35\" xlink:type=\"simple\"><rect fill=\"#FFFFFF\" height=\"45.9375\" id=\"E5\" rx=\"10\" ry=\"10\" style=\"stroke: #383838; stroke-width: 1.5;\" width=\"55\" x=\"369\" y=\"172\"/><text fill=\"#000000\" font-family=\"sans-serif\" font-size=\"12\" font-style=\"italic\" lengthAdjust=\"spacingAndGlyphs\" textLength=\"53\" x=\"370\" y=\"188.1387\">«action»</text><text fill=\"#000000\" font-family=\"sans-serif\" font-size=\"12\" lengthAdjust=\"spacingAndGlyphs\" textLength=\"16\" x=\"388.5\" y=\"202.1074\">A2</text><line style=\"stroke: #383838; stroke-width: 1.5;\" x1=\"370\" x2=\"423\" y1=\"209.9375\" y2=\"209.9375\"/></a><!--MD5=[60a26617385b1d2d0262a64233df1f8d]\n",
       "class E6--><a href=\"psysml:6ad7aed3-e22d-47c2-b6cf-45fd0f629de6\" target=\"_top\" title=\"psysml:6ad7aed3-e22d-47c2-b6cf-45fd0f629de6\" xlink:actuate=\"onRequest\" xlink:href=\"psysml:6ad7aed3-e22d-47c2-b6cf-45fd0f629de6\" xlink:show=\"new\" xlink:title=\"psysml:6ad7aed3-e22d-47c2-b6cf-45fd0f629de6\" xlink:type=\"simple\"><rect fill=\"#FFFFFF\" height=\"45.9375\" id=\"E6\" rx=\"10\" ry=\"10\" style=\"stroke: #383838; stroke-width: 1.5;\" width=\"55\" x=\"459\" y=\"172\"/><text fill=\"#000000\" font-family=\"sans-serif\" font-size=\"12\" font-style=\"italic\" lengthAdjust=\"spacingAndGlyphs\" textLength=\"53\" x=\"460\" y=\"188.1387\">«action»</text><text fill=\"#000000\" font-family=\"sans-serif\" font-size=\"12\" lengthAdjust=\"spacingAndGlyphs\" textLength=\"16\" x=\"478.5\" y=\"202.1074\">A3</text><line style=\"stroke: #383838; stroke-width: 1.5;\" x1=\"460\" x2=\"513\" y1=\"209.9375\" y2=\"209.9375\"/></a><!--MD5=[a523cb2a0b79ecf9065ad8783f96c320]\n",
       "reverse link E1 to E2--><a href=\"psysml:a3cf86ed-3d1a-4135-b385-a97024d6cab4\" target=\"_top\" title=\"psysml:a3cf86ed-3d1a-4135-b385-a97024d6cab4\" xlink:actuate=\"onRequest\" xlink:href=\"psysml:a3cf86ed-3d1a-4135-b385-a97024d6cab4\" xlink:show=\"new\" xlink:title=\"psysml:a3cf86ed-3d1a-4135-b385-a97024d6cab4\" xlink:type=\"simple\"><path d=\"M296.52,85.46 C241.75,110.33 158.47,148.15 106.07,171.95 \" fill=\"none\" id=\"E1&lt;-E2\" style=\"stroke: #383838; stroke-width: 1.0;\"/><polygon fill=\"#383838\" points=\"308.44,80.06,301.323,78.8988,297.5138,85.0217,304.6308,86.1829,308.44,80.06\" style=\"stroke: #383838; stroke-width: 1.0;\"/></a><!--MD5=[5d7b3810b1dd9b5164bea1151b29b665]\n",
       "reverse link E1 to E3--><a href=\"psysml:1909c977-6510-4eff-a578-3c7de40e7c8b\" target=\"_top\" title=\"psysml:1909c977-6510-4eff-a578-3c7de40e7c8b\" xlink:actuate=\"onRequest\" xlink:href=\"psysml:1909c977-6510-4eff-a578-3c7de40e7c8b\" xlink:show=\"new\" xlink:title=\"psysml:1909c977-6510-4eff-a578-3c7de40e7c8b\" xlink:type=\"simple\"><path d=\"M298.08,105.64 C271.7,127.93 241.06,153.82 219.79,171.79 \" fill=\"none\" id=\"E1&lt;-E3\" style=\"stroke: #383838; stroke-width: 1.0;\"/><polygon fill=\"#383838\" points=\"308.33,96.98,301.1646,97.7906,299.1569,104.7165,306.3223,103.906,308.33,96.98\" style=\"stroke: #383838; stroke-width: 1.0;\"/></a><!--MD5=[f2c5c03aa1e8c0ba21c10a05e6444b8e]\n",
       "reverse link E1 to E4--><a href=\"psysml:fda894ee-2ee4-49d0-993e-77e7f0096dce\" target=\"_top\" title=\"psysml:fda894ee-2ee4-49d0-993e-77e7f0096dce\" xlink:actuate=\"onRequest\" xlink:href=\"psysml:fda894ee-2ee4-49d0-993e-77e7f0096dce\" xlink:show=\"new\" xlink:title=\"psysml:fda894ee-2ee4-49d0-993e-77e7f0096dce\" xlink:type=\"simple\"><path d=\"M329.79,124.91 C324.1,141.78 318.35,158.85 313.98,171.8 \" fill=\"none\" id=\"E1&lt;-E4\" style=\"stroke: #383838; stroke-width: 1.0;\"/><polygon fill=\"#383838\" points=\"334.1,112.11,328.391,116.5154,330.2618,123.4796,335.9708,119.0742,334.1,112.11\" style=\"stroke: #383838; stroke-width: 1.0;\"/><text fill=\"#000000\" font-family=\"sans-serif\" font-size=\"13\" lengthAdjust=\"spacingAndGlyphs\" textLength=\"7\" x=\"307.9999\" y=\"161.025\">*</text></a><!--MD5=[33238bef88d6431a141d8bc8fb12bca0]\n",
       "reverse link E1 to E5--><a href=\"psysml:109468b3-506c-4497-b8ac-b8e68c843a0f\" target=\"_top\" title=\"psysml:109468b3-506c-4497-b8ac-b8e68c843a0f\" xlink:actuate=\"onRequest\" xlink:href=\"psysml:109468b3-506c-4497-b8ac-b8e68c843a0f\" xlink:show=\"new\" xlink:title=\"psysml:109468b3-506c-4497-b8ac-b8e68c843a0f\" xlink:type=\"simple\"><path d=\"M373.21,124.91 C378.9,141.78 384.65,158.85 389.02,171.8 \" fill=\"none\" id=\"E1&lt;-E5\" style=\"stroke: #383838; stroke-width: 1.0;\"/><polygon fill=\"#383838\" points=\"368.9,112.11,367.0292,119.0742,372.7382,123.4796,374.609,116.5154,368.9,112.11\" style=\"stroke: #383838; stroke-width: 1.0;\"/><text fill=\"#000000\" font-family=\"sans-serif\" font-size=\"13\" lengthAdjust=\"spacingAndGlyphs\" textLength=\"7\" x=\"379.2064\" y=\"161.025\">*</text></a><!--MD5=[aca2ef284c2b1b90e17e73bf3f292c07]\n",
       "reverse link E1 to E6--><a href=\"psysml:74d19cab-9a73-4108-b783-78a99b82b215\" target=\"_top\" title=\"psysml:74d19cab-9a73-4108-b783-78a99b82b215\" xlink:actuate=\"onRequest\" xlink:href=\"psysml:74d19cab-9a73-4108-b783-78a99b82b215\" xlink:show=\"new\" xlink:title=\"psysml:74d19cab-9a73-4108-b783-78a99b82b215\" xlink:type=\"simple\"><path d=\"M400.61,121.64 C420.11,141.2 441.74,161.41 458.63,175.48 \" fill=\"none\" id=\"E1&lt;-E6\" style=\"stroke: #383838; stroke-width: 1.0;\"/><polygon fill=\"#383838\" points=\"391.24,112.11,392.5992,119.1919,399.659,120.661,398.2999,113.5792,391.24,112.11\" style=\"stroke: #383838; stroke-width: 1.0;\"/><text fill=\"#000000\" font-family=\"sans-serif\" font-size=\"13\" lengthAdjust=\"spacingAndGlyphs\" textLength=\"7\" x=\"443.9836\" y=\"165.9846\">*</text></a><!--MD5=[aca2ef284c2b1b90e17e73bf3f292c07]\n",
       "reverse link E1 to E6--><a href=\"psysml:5ce6f7c0-8ea6-4680-8afe-13e322408ece\" target=\"_top\" title=\"psysml:5ce6f7c0-8ea6-4680-8afe-13e322408ece\" xlink:actuate=\"onRequest\" xlink:href=\"psysml:5ce6f7c0-8ea6-4680-8afe-13e322408ece\" xlink:show=\"new\" xlink:title=\"psysml:5ce6f7c0-8ea6-4680-8afe-13e322408ece\" xlink:type=\"simple\"><path d=\"M406.06,101.99 C431.04,125 458.31,152.7 474.29,171.66 \" fill=\"none\" id=\"E1&lt;-E6-1\" style=\"stroke: #383838; stroke-width: 1.0; stroke-dasharray: 7.0,7.0;\"/><ellipse cx=\"400.7216\" cy=\"97.1681\" fill=\"#FFFFFF\" rx=\"8\" ry=\"8\" style=\"stroke: #383838; stroke-width: 1.0;\"/><line style=\"stroke: #383838; stroke-width: 1.0;\" x1=\"406.6531\" x2=\"394.79\" y1=\"102.5362\" y2=\"91.8\"/><line style=\"stroke: #383838; stroke-width: 1.0;\" x1=\"395.3535\" x2=\"406.0897\" y1=\"103.0997\" y2=\"91.2365\"/><text fill=\"#000000\" font-family=\"sans-serif\" font-size=\"13\" lengthAdjust=\"spacingAndGlyphs\" textLength=\"7\" x=\"463.2643\" y=\"160.8492\">*</text></a><!--MD5=[9efe559942b937345063ade33424404f]\n",
       "@startuml\r\n",
       " skinparam monochrome true\r\n",
       "skinparam classbackgroundcolor white\r\n",
       "skinparam shadowing false\r\n",
       "skinparam wrapWidth 300\r\n",
       "hide circle\r\n",
       "\r\n",
       "comp def \"DecisionTest\" as E1  <<(T,blue) action def>> [[psysml:ec9d2101-14b6-425a-8b3b-258973824e57 ]] {\r\n",
       "- - attributes - -\r\n",
       "x= 1; \r\n",
       "- - transitions - -\r\n",
       "S\r\n",
       "}\r\n",
       "comp usage \"test x\" as E2  <<(T,blue) decisionNode>> [[psysml:7b5c557c-0eca-43da-893a-884adf177ee9 ]] {\r\n",
       "}\r\n",
       "comp usage \"<s>noname</s>\" as E3  <<(T,blue) decisionNode>> [[psysml:c8637911-bdae-488c-9ae7-71f0e05f074a ]] {\r\n",
       "}\r\n",
       "comp usage \"A1\" as E4  <<(T,blue) action>> [[psysml:2b21def1-54fd-4014-8db4-beef5c1da0f0 ]] {\r\n",
       "}\r\n",
       "comp usage \"A2\" as E5  <<(T,blue) action>> [[psysml:a7c18d95-cb4e-4d18-b7c9-a948ce4b9e35 ]] {\r\n",
       "}\r\n",
       "comp usage \"A3\" as E6  <<(T,blue) action>> [[psysml:6ad7aed3-e22d-47c2-b6cf-45fd0f629de6 ]] {\r\n",
       "}\r\n",
       "E1 *- - E2 [[psysml:a3cf86ed-3d1a-4135-b385-a97024d6cab4 ]] \r\n",
       "E1 *- - E3 [[psysml:1909c977-6510-4eff-a578-3c7de40e7c8b ]] \r\n",
       "E1 *- - \"*\"E4 [[psysml:fda894ee-2ee4-49d0-993e-77e7f0096dce ]] \r\n",
       "E1 *- - \"*\"E5 [[psysml:109468b3-506c-4497-b8ac-b8e68c843a0f ]] \r\n",
       "E1 *- - \"*\"E6 [[psysml:74d19cab-9a73-4108-b783-78a99b82b215 ]] \r\n",
       "E1 +.. \"*\"E6 [[psysml:5ce6f7c0-8ea6-4680-8afe-13e322408ece ]] \r\n",
       "@enduml\r\n",
       "\n",
       "PlantUML version 1.2020.13(Sat Jun 13 12:26:38 UTC 2020)\n",
       "(EPL source distribution)\n",
       "Java Runtime: OpenJDK Runtime Environment\n",
       "JVM: OpenJDK 64-Bit Server VM\n",
       "Default Encoding: UTF-8\n",
       "Language: en\n",
       "Country: null\n",
       "--></g></svg>"
      ]
     },
     "execution_count": 3,
     "metadata": {},
     "output_type": "execute_result"
    }
   ],
   "source": [
    "%viz --style=\"COMPTREE\" --view=\"Tree\" \"DecisionTest\""
   ]
  },
  {
   "cell_type": "code",
   "execution_count": 4,
   "id": "f78fd29e",
   "metadata": {
    "execution": {
     "iopub.execute_input": "2021-10-03T08:28:59.960393Z",
     "iopub.status.busy": "2021-10-03T08:28:59.960097Z",
     "iopub.status.idle": "2021-10-03T08:28:59.966018Z",
     "shell.execute_reply": "2021-10-03T08:28:59.965826Z"
    }
   },
   "outputs": [
    {
     "data": {
      "image/svg+xml": [
       "<?xml version=\"1.0\" encoding=\"UTF-8\" standalone=\"no\"?><svg xmlns=\"http://www.w3.org/2000/svg\" xmlns:xlink=\"http://www.w3.org/1999/xlink\" contentScriptType=\"application/ecmascript\" contentStyleType=\"text/css\" height=\"12px\" preserveAspectRatio=\"none\" style=\"width:12px;height:12px;\" version=\"1.1\" viewBox=\"0 0 12 12\" width=\"12px\" zoomAndPan=\"magnify\"><defs/><g><!--MD5=[f19188ef49e11757b5c46753f95d9edc]\n",
       "@startuml\r\n",
       " skinparam monochrome true\r\n",
       "skinparam classbackgroundcolor white\r\n",
       "skinparam shadowing false\r\n",
       "skinparam wrapWidth 300\r\n",
       "hide circle\r\n",
       "\r\n",
       "@enduml\r\n",
       "\n",
       "PlantUML version 1.2020.13(Sat Jun 13 12:26:38 UTC 2020)\n",
       "(EPL source distribution)\n",
       "Java Runtime: OpenJDK Runtime Environment\n",
       "JVM: OpenJDK 64-Bit Server VM\n",
       "Default Encoding: UTF-8\n",
       "Language: en\n",
       "Country: null\n",
       "--></g></svg>"
      ]
     },
     "execution_count": 4,
     "metadata": {},
     "output_type": "execute_result"
    }
   ],
   "source": [
    "%viz --style=\"COMPTREE\" --view=\"State\" \"DecisionTest\""
   ]
  },
  {
   "cell_type": "code",
   "execution_count": 5,
   "id": "a791ac79",
   "metadata": {
    "execution": {
     "iopub.execute_input": "2021-10-03T08:29:00.016376Z",
     "iopub.status.busy": "2021-10-03T08:29:00.015929Z",
     "iopub.status.idle": "2021-10-03T08:29:00.083181Z",
     "shell.execute_reply": "2021-10-03T08:29:00.082811Z"
    }
   },
   "outputs": [
    {
     "data": {
      "image/svg+xml": [
       "<?xml version=\"1.0\" encoding=\"UTF-8\" standalone=\"no\"?><svg xmlns=\"http://www.w3.org/2000/svg\" xmlns:xlink=\"http://www.w3.org/1999/xlink\" contentScriptType=\"application/ecmascript\" contentStyleType=\"text/css\" height=\"356px\" preserveAspectRatio=\"none\" style=\"width:333px;height:356px;\" version=\"1.1\" viewBox=\"0 0 333 356\" width=\"333px\" zoomAndPan=\"magnify\"><defs/><g><!--MD5=[fbc87193dbaf4d95561dea2c320d4a47]\n",
       "cluster E1--><a href=\"psysml:ec9d2101-14b6-425a-8b3b-258973824e57\" target=\"_top\" title=\"psysml:ec9d2101-14b6-425a-8b3b-258973824e57\" xlink:actuate=\"onRequest\" xlink:href=\"psysml:ec9d2101-14b6-425a-8b3b-258973824e57\" xlink:show=\"new\" xlink:title=\"psysml:ec9d2101-14b6-425a-8b3b-258973824e57\" xlink:type=\"simple\"><rect fill=\"#FFFFFF\" height=\"338\" id=\"E1\" style=\"stroke: #383838; stroke-width: 1.5;\" width=\"315\" x=\"7\" y=\"7\"/><rect fill=\"#F8F8F8\" height=\"37.9375\" style=\"stroke: #383838; stroke-width: 1.5;\" width=\"315\" x=\"7\" y=\"7\"/><text fill=\"#000000\" font-family=\"sans-serif\" font-size=\"12\" font-style=\"italic\" lengthAdjust=\"spacingAndGlyphs\" textLength=\"77\" x=\"126\" y=\"23.1387\">«action def»</text><text fill=\"#000000\" font-family=\"sans-serif\" font-size=\"12\" lengthAdjust=\"spacingAndGlyphs\" textLength=\"80\" x=\"124.5\" y=\"37.1074\">DecisionTest</text></a><polygon fill=\"#F8F8F8\" points=\"210,67.5,222,79.5,210,91.5,198,79.5,210,67.5\" style=\"stroke: #383838; stroke-width: 1.5;\"/><polygon fill=\"#F8F8F8\" points=\"35,143.5,47,155.5,35,167.5,23,155.5,35,143.5\" style=\"stroke: #383838; stroke-width: 1.5;\"/><g id=\"E1.E4\"><a href=\"psysml:2b21def1-54fd-4014-8db4-beef5c1da0f0\" target=\"_top\" title=\"psysml:2b21def1-54fd-4014-8db4-beef5c1da0f0\" xlink:actuate=\"onRequest\" xlink:href=\"psysml:2b21def1-54fd-4014-8db4-beef5c1da0f0\" xlink:show=\"new\" xlink:title=\"psysml:2b21def1-54fd-4014-8db4-beef5c1da0f0\" xlink:type=\"simple\"><rect fill=\"#FFFFFF\" height=\"42.9375\" id=\"E4\" rx=\"10\" ry=\"10\" style=\"stroke: #383838; stroke-width: 1.5;\" width=\"60\" x=\"135\" y=\"210\"/><rect fill=\"#F8F8F8\" height=\"37.9375\" rx=\"10\" ry=\"10\" style=\"stroke: #F8F8F8; stroke-width: 1.5;\" width=\"60\" x=\"135\" y=\"210\"/><rect fill=\"#F8F8F8\" height=\"10\" style=\"stroke: #F8F8F8; stroke-width: 1.5;\" width=\"60\" x=\"135\" y=\"237.9375\"/><rect fill=\"none\" height=\"42.9375\" id=\"E4\" rx=\"10\" ry=\"10\" style=\"stroke: #383838; stroke-width: 1.5;\" width=\"60\" x=\"135\" y=\"210\"/><text fill=\"#000000\" font-family=\"sans-serif\" font-size=\"12\" font-style=\"italic\" lengthAdjust=\"spacingAndGlyphs\" textLength=\"53\" x=\"138.5\" y=\"226.1387\">«action»</text><text fill=\"#000000\" font-family=\"sans-serif\" font-size=\"12\" lengthAdjust=\"spacingAndGlyphs\" textLength=\"16\" x=\"157\" y=\"240.1074\">A1</text></a></g><g id=\"E1.E5\"><a href=\"psysml:a7c18d95-cb4e-4d18-b7c9-a948ce4b9e35\" target=\"_top\" title=\"psysml:a7c18d95-cb4e-4d18-b7c9-a948ce4b9e35\" xlink:actuate=\"onRequest\" xlink:href=\"psysml:a7c18d95-cb4e-4d18-b7c9-a948ce4b9e35\" xlink:show=\"new\" xlink:title=\"psysml:a7c18d95-cb4e-4d18-b7c9-a948ce4b9e35\" xlink:type=\"simple\"><rect fill=\"#FFFFFF\" height=\"42.9375\" id=\"E5\" rx=\"10\" ry=\"10\" style=\"stroke: #383838; stroke-width: 1.5;\" width=\"60\" x=\"135\" y=\"286\"/><rect fill=\"#F8F8F8\" height=\"37.9375\" rx=\"10\" ry=\"10\" style=\"stroke: #F8F8F8; stroke-width: 1.5;\" width=\"60\" x=\"135\" y=\"286\"/><rect fill=\"#F8F8F8\" height=\"10\" style=\"stroke: #F8F8F8; stroke-width: 1.5;\" width=\"60\" x=\"135\" y=\"313.9375\"/><rect fill=\"none\" height=\"42.9375\" id=\"E5\" rx=\"10\" ry=\"10\" style=\"stroke: #383838; stroke-width: 1.5;\" width=\"60\" x=\"135\" y=\"286\"/><text fill=\"#000000\" font-family=\"sans-serif\" font-size=\"12\" font-style=\"italic\" lengthAdjust=\"spacingAndGlyphs\" textLength=\"53\" x=\"138.5\" y=\"302.1387\">«action»</text><text fill=\"#000000\" font-family=\"sans-serif\" font-size=\"12\" lengthAdjust=\"spacingAndGlyphs\" textLength=\"16\" x=\"157\" y=\"316.1074\">A2</text></a></g><g id=\"E1.E6\"><a href=\"psysml:6ad7aed3-e22d-47c2-b6cf-45fd0f629de6\" target=\"_top\" title=\"psysml:6ad7aed3-e22d-47c2-b6cf-45fd0f629de6\" xlink:actuate=\"onRequest\" xlink:href=\"psysml:6ad7aed3-e22d-47c2-b6cf-45fd0f629de6\" xlink:show=\"new\" xlink:title=\"psysml:6ad7aed3-e22d-47c2-b6cf-45fd0f629de6\" xlink:type=\"simple\"><rect fill=\"#FFFFFF\" height=\"42.9375\" id=\"E6\" rx=\"10\" ry=\"10\" style=\"stroke: #383838; stroke-width: 1.5;\" width=\"60\" x=\"63\" y=\"58\"/><rect fill=\"#F8F8F8\" height=\"37.9375\" rx=\"10\" ry=\"10\" style=\"stroke: #F8F8F8; stroke-width: 1.5;\" width=\"60\" x=\"63\" y=\"58\"/><rect fill=\"#F8F8F8\" height=\"10\" style=\"stroke: #F8F8F8; stroke-width: 1.5;\" width=\"60\" x=\"63\" y=\"85.9375\"/><rect fill=\"none\" height=\"42.9375\" id=\"E6\" rx=\"10\" ry=\"10\" style=\"stroke: #383838; stroke-width: 1.5;\" width=\"60\" x=\"63\" y=\"58\"/><text fill=\"#000000\" font-family=\"sans-serif\" font-size=\"12\" font-style=\"italic\" lengthAdjust=\"spacingAndGlyphs\" textLength=\"53\" x=\"66.5\" y=\"74.1387\">«action»</text><text fill=\"#000000\" font-family=\"sans-serif\" font-size=\"12\" lengthAdjust=\"spacingAndGlyphs\" textLength=\"16\" x=\"85\" y=\"88.1074\">A3</text></a></g><g id=\"E1.E7\"><a href=\"psysml:6ad7aed3-e22d-47c2-b6cf-45fd0f629de6\" target=\"_top\" title=\"psysml:6ad7aed3-e22d-47c2-b6cf-45fd0f629de6\" xlink:actuate=\"onRequest\" xlink:href=\"psysml:6ad7aed3-e22d-47c2-b6cf-45fd0f629de6\" xlink:show=\"new\" xlink:title=\"psysml:6ad7aed3-e22d-47c2-b6cf-45fd0f629de6\" xlink:type=\"simple\"><rect fill=\"#FFFFFF\" height=\"42.9375\" id=\"E7\" rx=\"10\" ry=\"10\" style=\"stroke: #383838; stroke-width: 1.5;\" width=\"60\" x=\"246\" y=\"134\"/><rect fill=\"#F8F8F8\" height=\"37.9375\" rx=\"10\" ry=\"10\" style=\"stroke: #F8F8F8; stroke-width: 1.5;\" width=\"60\" x=\"246\" y=\"134\"/><rect fill=\"#F8F8F8\" height=\"10\" style=\"stroke: #F8F8F8; stroke-width: 1.5;\" width=\"60\" x=\"246\" y=\"161.9375\"/><rect fill=\"none\" height=\"42.9375\" id=\"E7\" rx=\"10\" ry=\"10\" style=\"stroke: #383838; stroke-width: 1.5;\" width=\"60\" x=\"246\" y=\"134\"/><text fill=\"#000000\" font-family=\"sans-serif\" font-size=\"12\" font-style=\"italic\" lengthAdjust=\"spacingAndGlyphs\" textLength=\"53\" x=\"249.5\" y=\"150.1387\">«action»</text><text fill=\"#000000\" font-family=\"sans-serif\" font-size=\"12\" lengthAdjust=\"spacingAndGlyphs\" textLength=\"16\" x=\"268\" y=\"164.1074\">A3</text></a></g><!--MD5=[4d03bb2d0377dc85ccfab60ff574652b]\n",
       "link E2 to E4--><a href=\"psysml:07a447fb-7978-4e35-9306-ac5ec116db5d\" target=\"_top\" title=\"psysml:07a447fb-7978-4e35-9306-ac5ec116db5d\" xlink:actuate=\"onRequest\" xlink:href=\"psysml:07a447fb-7978-4e35-9306-ac5ec116db5d\" xlink:show=\"new\" xlink:title=\"psysml:07a447fb-7978-4e35-9306-ac5ec116db5d\" xlink:type=\"simple\"><path d=\"M201.97,84.07 C187.22,91.12 156.19,108.44 144,134 C133.21,156.64 141.61,184.91 150.79,204.99 \" fill=\"none\" id=\"E2-&gt;E4\" style=\"stroke: #383838; stroke-width: 1.0;\"/><polygon fill=\"#383838\" points=\"153,209.65,152.7662,199.8039,150.8614,205.1304,145.5349,203.2257,153,209.65\" style=\"stroke: #383838; stroke-width: 1.0;\"/><text fill=\"#000000\" font-family=\"sans-serif\" font-size=\"13\" lengthAdjust=\"spacingAndGlyphs\" textLength=\"55\" x=\"145\" y=\"160.0669\">[x == 1]</text><text fill=\"#000000\" font-family=\"sans-serif\" font-size=\"13\" lengthAdjust=\"spacingAndGlyphs\" textLength=\"7\" x=\"141.8344\" y=\"198.8553\">*</text></a><!--MD5=[dcad52bbbca2fe8adc741ce38b45dc12]\n",
       "link E2 to E5--><a href=\"psysml:f195b54a-5fed-403e-bb02-20f21e154f17\" target=\"_top\" title=\"psysml:f195b54a-5fed-403e-bb02-20f21e154f17\" xlink:actuate=\"onRequest\" xlink:href=\"psysml:f195b54a-5fed-403e-bb02-20f21e154f17\" xlink:show=\"new\" xlink:title=\"psysml:f195b54a-5fed-403e-bb02-20f21e154f17\" xlink:type=\"simple\"><path d=\"M211.03,90.77 C214.33,123.83 224.51,227.37 226,261 C226.33,268.55 230.06,271.63 226,278 C220.01,287.41 210.02,293.76 199.83,298.03 \" fill=\"none\" id=\"E2-&gt;E5\" style=\"stroke: #383838; stroke-width: 1.0;\"/><polygon fill=\"#383838\" points=\"195.15,299.85,204.9881,300.3102,199.8089,298.035,202.0841,292.8559,195.15,299.85\" style=\"stroke: #383838; stroke-width: 1.0;\"/><text fill=\"#000000\" font-family=\"sans-serif\" font-size=\"13\" lengthAdjust=\"spacingAndGlyphs\" textLength=\"44\" x=\"222\" y=\"198.0669\">[x &gt; 1]</text><text fill=\"#000000\" font-family=\"sans-serif\" font-size=\"13\" lengthAdjust=\"spacingAndGlyphs\" textLength=\"7\" x=\"202.9316\" y=\"293.436\">*</text></a><!--MD5=[e3d2a08a9c9236652057e8ed0cbc9b62]\n",
       "link E2 to E7--><a href=\"psysml:15c91a99-d9b4-4320-8388-ef3655122685\" target=\"_top\" title=\"psysml:15c91a99-d9b4-4320-8388-ef3655122685\" xlink:actuate=\"onRequest\" xlink:href=\"psysml:15c91a99-d9b4-4320-8388-ef3655122685\" xlink:show=\"new\" xlink:title=\"psysml:15c91a99-d9b4-4320-8388-ef3655122685\" xlink:type=\"simple\"><path d=\"M210.68,90.95 C211.82,100.93 214.86,115.89 223,126 C227.84,132.02 234.31,136.94 241.06,140.89 \" fill=\"none\" id=\"E2-&gt;E7\" style=\"stroke: #383838; stroke-width: 1.0;\"/><polygon fill=\"#383838\" points=\"245.76,143.47,239.7851,135.6406,241.3738,141.0697,235.9446,142.6585,245.76,143.47\" style=\"stroke: #383838; stroke-width: 1.0;\"/><text fill=\"#000000\" font-family=\"sans-serif\" font-size=\"13\" lengthAdjust=\"spacingAndGlyphs\" textLength=\"7\" x=\"230.9576\" y=\"136.0432\">*</text></a><!--MD5=[583832df87f4419a098336a29a52fa00]\n",
       "link E7 to E2--><a href=\"psysml:c19c71e4-b628-4c9d-aa87-db03cc189a8f\" target=\"_top\" title=\"psysml:c19c71e4-b628-4c9d-aa87-db03cc189a8f\" xlink:actuate=\"onRequest\" xlink:href=\"psysml:c19c71e4-b628-4c9d-aa87-db03cc189a8f\" xlink:show=\"new\" xlink:title=\"psysml:c19c71e4-b628-4c9d-aa87-db03cc189a8f\" xlink:type=\"simple\"><path d=\"M257.61,133.88 C245.02,119.76 228.86,101.65 218.98,90.57 \" fill=\"none\" id=\"E7-&gt;E2\" style=\"stroke: #383838; stroke-width: 1.0;\"/><polygon fill=\"#383838\" points=\"215.4,86.56,218.3919,95.9434,218.7227,90.2963,224.3699,90.6271,215.4,86.56\" style=\"stroke: #383838; stroke-width: 1.0;\"/><text fill=\"#000000\" font-family=\"sans-serif\" font-size=\"13\" lengthAdjust=\"spacingAndGlyphs\" textLength=\"44\" x=\"249\" y=\"122.0669\">[x &gt; 0]</text><text fill=\"#000000\" font-family=\"sans-serif\" font-size=\"13\" lengthAdjust=\"spacingAndGlyphs\" textLength=\"7\" x=\"210.0625\" y=\"111.425\">*</text></a><!--MD5=[2720a5a1f2c3fca2055b230370638851]\n",
       "link E2 to E3--><a href=\"psysml:6d6473c9-743e-4105-a2af-98d6bd8c1632\" target=\"_top\" title=\"psysml:6d6473c9-743e-4105-a2af-98d6bd8c1632\" xlink:actuate=\"onRequest\" xlink:href=\"psysml:6d6473c9-743e-4105-a2af-98d6bd8c1632\" xlink:show=\"new\" xlink:title=\"psysml:6d6473c9-743e-4105-a2af-98d6bd8c1632\" xlink:type=\"simple\"><path d=\"M201.54,83.16 C188.57,87.22 162.96,95.08 141,101 C126.43,104.93 121.91,103.16 108,109 C84.25,118.97 59.36,136.17 45.65,146.32 \" fill=\"none\" id=\"E2-&gt;E3\" style=\"stroke: #383838; stroke-width: 1.0;\"/><polygon fill=\"#383838\" points=\"41.45,149.47,51.05,147.27,45.45,146.47,46.25,140.87,41.45,149.47\" style=\"stroke: #383838; stroke-width: 1.0;\"/><text fill=\"#000000\" font-family=\"sans-serif\" font-size=\"13\" lengthAdjust=\"spacingAndGlyphs\" textLength=\"7\" x=\"51.6488\" y=\"132.7367\">*</text></a><!--MD5=[af87c684e3b0d8be13c1a698a818ef1e]\n",
       "link E3 to E4--><a href=\"psysml:4dd56774-018b-4c8a-8121-2b3d6a9c557c\" target=\"_top\" title=\"psysml:4dd56774-018b-4c8a-8121-2b3d6a9c557c\" xlink:actuate=\"onRequest\" xlink:href=\"psysml:4dd56774-018b-4c8a-8121-2b3d6a9c557c\" xlink:show=\"new\" xlink:title=\"psysml:4dd56774-018b-4c8a-8121-2b3d6a9c557c\" xlink:type=\"simple\"><path d=\"M40.09,162.69 C48.35,172.37 65.62,191.11 84,202 C93.67,207.73 97.38,206.32 108,210 C115.1,212.46 122.69,215.15 129.93,217.74 \" fill=\"none\" id=\"E3-&gt;E4\" style=\"stroke: #383838; stroke-width: 1.0;\"/><polygon fill=\"#383838\" points=\"134.87,219.52,127.7488,212.7164,130.1636,217.832,125.048,220.2467,134.87,219.52\" style=\"stroke: #383838; stroke-width: 1.0;\"/><text fill=\"#000000\" font-family=\"sans-serif\" font-size=\"13\" lengthAdjust=\"spacingAndGlyphs\" textLength=\"36\" x=\"85\" y=\"198.0669\">[true]</text><text fill=\"#000000\" font-family=\"sans-serif\" font-size=\"13\" lengthAdjust=\"spacingAndGlyphs\" textLength=\"7\" x=\"120.0931\" y=\"212.1047\">*</text></a><!--MD5=[0188b64bb0ae78505a997a81836e11e9]\n",
       "link E3 to E5--><a href=\"psysml:2f25c912-d622-4deb-be6f-2375e7caca37\" target=\"_top\" title=\"psysml:2f25c912-d622-4deb-be6f-2375e7caca37\" xlink:actuate=\"onRequest\" xlink:href=\"psysml:2f25c912-d622-4deb-be6f-2375e7caca37\" xlink:show=\"new\" xlink:title=\"psysml:2f25c912-d622-4deb-be6f-2375e7caca37\" xlink:type=\"simple\"><path d=\"M36.91,165.76 C41.11,184.24 52.71,226.21 76,253 C90.72,269.93 112.16,283.05 130.31,292.05 \" fill=\"none\" id=\"E3-&gt;E5\" style=\"stroke: #383838; stroke-width: 1.0;\"/><polygon fill=\"#383838\" points=\"134.85,294.25,128.4921,286.7283,130.3496,292.0714,125.0064,293.9289,134.85,294.25\" style=\"stroke: #383838; stroke-width: 1.0;\"/><text fill=\"#000000\" font-family=\"sans-serif\" font-size=\"13\" lengthAdjust=\"spacingAndGlyphs\" textLength=\"40\" x=\"77\" y=\"236.0669\">[false]</text><text fill=\"#000000\" font-family=\"sans-serif\" font-size=\"13\" lengthAdjust=\"spacingAndGlyphs\" textLength=\"7\" x=\"120.0684\" y=\"286.541\">*</text></a><!--MD5=[1b7591eae5389033d8d09a9d6721a717]\n",
       "link E4 to E5--><a href=\"psysml:19ac739f-970e-4750-a1cd-14a3501dcfff\" target=\"_top\" title=\"psysml:19ac739f-970e-4750-a1cd-14a3501dcfff\" xlink:actuate=\"onRequest\" xlink:href=\"psysml:19ac739f-970e-4750-a1cd-14a3501dcfff\" xlink:show=\"new\" xlink:title=\"psysml:19ac739f-970e-4750-a1cd-14a3501dcfff\" xlink:type=\"simple\"><path d=\"M165,253.11 C165,261.69 165,271.75 165,280.8 \" fill=\"none\" id=\"E4-&gt;E5\" style=\"stroke: #383838; stroke-width: 1.0;\"/><polygon fill=\"#383838\" points=\"165,286,169,277,165,281,161,277,165,286\" style=\"stroke: #383838; stroke-width: 1.0;\"/><text fill=\"#000000\" font-family=\"sans-serif\" font-size=\"13\" lengthAdjust=\"spacingAndGlyphs\" textLength=\"55\" x=\"166\" y=\"274.0669\">[x == 0]</text><text fill=\"#000000\" font-family=\"sans-serif\" font-size=\"13\" lengthAdjust=\"spacingAndGlyphs\" textLength=\"7\" x=\"157.0156\" y=\"274.9381\">*</text></a><!--MD5=[b9605ddb2f27425d91e4e443a1b809b6]\n",
       "@startuml\r\n",
       "skinparam ranksep 10\r\n",
       "skinparam rectangle {\r\n",
       " backgroundColor<<block>> LightGreen\r\n",
       "}\r\n",
       " skinparam monochrome true\r\n",
       "skinparam classbackgroundcolor white\r\n",
       "skinparam shadowing false\r\n",
       "skinparam wrapWidth 300\r\n",
       "hide circle\r\n",
       "\r\n",
       "rec def \"DecisionTest\" as E1  <<(T,blue) action def>> [[psysml:ec9d2101-14b6-425a-8b3b-258973824e57 ]] {\r\n",
       "choice \"test x\" as E2  [[psysml:7b5c557c-0eca-43da-893a-884adf177ee9 ]] \r\n",
       "choice \"<s>noname</s>\" as E3  [[psysml:c8637911-bdae-488c-9ae7-71f0e05f074a ]] \r\n",
       "rec usage \"A1\" as E4  <<(T,blue) action>> [[psysml:2b21def1-54fd-4014-8db4-beef5c1da0f0 ]] {\r\n",
       "}\r\n",
       "\r\n",
       "rec usage \"A2\" as E5  <<(T,blue) action>> [[psysml:a7c18d95-cb4e-4d18-b7c9-a948ce4b9e35 ]] {\r\n",
       "}\r\n",
       "\r\n",
       "rec usage \"A3\" as E6  <<(T,blue) action>> [[psysml:6ad7aed3-e22d-47c2-b6cf-45fd0f629de6 ]] {\r\n",
       "}\r\n",
       "\r\n",
       "rec usage \"A3\" as E7  <<(T,blue) action>> [[psysml:6ad7aed3-e22d-47c2-b6cf-45fd0f629de6 ]] {\r\n",
       "}\r\n",
       "\r\n",
       "}\r\n",
       "\r\n",
       "E2  - -> \"*\"E4 [[psysml:07a447fb-7978-4e35-9306-ac5ec116db5d ]] : [x == 1]\r\n",
       "E2  - -> \"*\"E5 [[psysml:f195b54a-5fed-403e-bb02-20f21e154f17 ]] : [x > 1]\r\n",
       "E2  - -> \"*\"E7 [[psysml:15c91a99-d9b4-4320-8388-ef3655122685 ]] \r\n",
       "E2 - -> \"*\"E3 [[psysml:6d6473c9-743e-4105-a2af-98d6bd8c1632 ]] \r\n",
       "E3  - -> \"*\"E4 [[psysml:4dd56774-018b-4c8a-8121-2b3d6a9c557c ]] : [true]\r\n",
       "E3  - -> \"*\"E5 [[psysml:2f25c912-d622-4deb-be6f-2375e7caca37 ]] : [false]\r\n",
       "E4  - -> \"*\"E5 [[psysml:19ac739f-970e-4750-a1cd-14a3501dcfff ]] : [x == 0]\r\n",
       "E7  - -> \"*\"E2 [[psysml:c19c71e4-b628-4c9d-aa87-db03cc189a8f ]] : [x > 0]\r\n",
       "@enduml\r\n",
       "\n",
       "PlantUML version 1.2020.13(Sat Jun 13 12:26:38 UTC 2020)\n",
       "(EPL source distribution)\n",
       "Java Runtime: OpenJDK Runtime Environment\n",
       "JVM: OpenJDK 64-Bit Server VM\n",
       "Default Encoding: UTF-8\n",
       "Language: en\n",
       "Country: null\n",
       "--></g></svg>"
      ]
     },
     "execution_count": 5,
     "metadata": {},
     "output_type": "execute_result"
    }
   ],
   "source": [
    "%viz --style=\"COMPTREE\" --view=\"Interconnection\" \"DecisionTest\""
   ]
  },
  {
   "cell_type": "code",
   "execution_count": 6,
   "id": "993d5311",
   "metadata": {
    "execution": {
     "iopub.execute_input": "2021-10-03T08:29:00.132406Z",
     "iopub.status.busy": "2021-10-03T08:29:00.132009Z",
     "iopub.status.idle": "2021-10-03T08:29:00.186444Z",
     "shell.execute_reply": "2021-10-03T08:29:00.186757Z"
    }
   },
   "outputs": [
    {
     "data": {
      "image/svg+xml": [
       "<?xml version=\"1.0\" encoding=\"UTF-8\" standalone=\"no\"?><svg xmlns=\"http://www.w3.org/2000/svg\" xmlns:xlink=\"http://www.w3.org/1999/xlink\" contentScriptType=\"application/ecmascript\" contentStyleType=\"text/css\" height=\"356px\" preserveAspectRatio=\"none\" style=\"width:333px;height:356px;\" version=\"1.1\" viewBox=\"0 0 333 356\" width=\"333px\" zoomAndPan=\"magnify\"><defs/><g><!--MD5=[fbc87193dbaf4d95561dea2c320d4a47]\n",
       "cluster E1--><a href=\"psysml:ec9d2101-14b6-425a-8b3b-258973824e57\" target=\"_top\" title=\"psysml:ec9d2101-14b6-425a-8b3b-258973824e57\" xlink:actuate=\"onRequest\" xlink:href=\"psysml:ec9d2101-14b6-425a-8b3b-258973824e57\" xlink:show=\"new\" xlink:title=\"psysml:ec9d2101-14b6-425a-8b3b-258973824e57\" xlink:type=\"simple\"><rect fill=\"#FFFFFF\" height=\"338\" id=\"E1\" style=\"stroke: #383838; stroke-width: 1.5;\" width=\"315\" x=\"7\" y=\"7\"/><rect fill=\"#F8F8F8\" height=\"37.9375\" style=\"stroke: #383838; stroke-width: 1.5;\" width=\"315\" x=\"7\" y=\"7\"/><text fill=\"#000000\" font-family=\"sans-serif\" font-size=\"12\" font-style=\"italic\" lengthAdjust=\"spacingAndGlyphs\" textLength=\"77\" x=\"126\" y=\"23.1387\">«action def»</text><text fill=\"#000000\" font-family=\"sans-serif\" font-size=\"12\" lengthAdjust=\"spacingAndGlyphs\" textLength=\"80\" x=\"124.5\" y=\"37.1074\">DecisionTest</text></a><polygon fill=\"#F8F8F8\" points=\"210,67.5,222,79.5,210,91.5,198,79.5,210,67.5\" style=\"stroke: #383838; stroke-width: 1.5;\"/><polygon fill=\"#F8F8F8\" points=\"35,143.5,47,155.5,35,167.5,23,155.5,35,143.5\" style=\"stroke: #383838; stroke-width: 1.5;\"/><g id=\"E1.E4\"><a href=\"psysml:2b21def1-54fd-4014-8db4-beef5c1da0f0\" target=\"_top\" title=\"psysml:2b21def1-54fd-4014-8db4-beef5c1da0f0\" xlink:actuate=\"onRequest\" xlink:href=\"psysml:2b21def1-54fd-4014-8db4-beef5c1da0f0\" xlink:show=\"new\" xlink:title=\"psysml:2b21def1-54fd-4014-8db4-beef5c1da0f0\" xlink:type=\"simple\"><rect fill=\"#FFFFFF\" height=\"42.9375\" id=\"E4\" rx=\"10\" ry=\"10\" style=\"stroke: #383838; stroke-width: 1.5;\" width=\"60\" x=\"135\" y=\"210\"/><rect fill=\"#F8F8F8\" height=\"37.9375\" rx=\"10\" ry=\"10\" style=\"stroke: #F8F8F8; stroke-width: 1.5;\" width=\"60\" x=\"135\" y=\"210\"/><rect fill=\"#F8F8F8\" height=\"10\" style=\"stroke: #F8F8F8; stroke-width: 1.5;\" width=\"60\" x=\"135\" y=\"237.9375\"/><rect fill=\"none\" height=\"42.9375\" id=\"E4\" rx=\"10\" ry=\"10\" style=\"stroke: #383838; stroke-width: 1.5;\" width=\"60\" x=\"135\" y=\"210\"/><text fill=\"#000000\" font-family=\"sans-serif\" font-size=\"12\" font-style=\"italic\" lengthAdjust=\"spacingAndGlyphs\" textLength=\"53\" x=\"138.5\" y=\"226.1387\">«action»</text><text fill=\"#000000\" font-family=\"sans-serif\" font-size=\"12\" lengthAdjust=\"spacingAndGlyphs\" textLength=\"16\" x=\"157\" y=\"240.1074\">A1</text></a></g><g id=\"E1.E5\"><a href=\"psysml:a7c18d95-cb4e-4d18-b7c9-a948ce4b9e35\" target=\"_top\" title=\"psysml:a7c18d95-cb4e-4d18-b7c9-a948ce4b9e35\" xlink:actuate=\"onRequest\" xlink:href=\"psysml:a7c18d95-cb4e-4d18-b7c9-a948ce4b9e35\" xlink:show=\"new\" xlink:title=\"psysml:a7c18d95-cb4e-4d18-b7c9-a948ce4b9e35\" xlink:type=\"simple\"><rect fill=\"#FFFFFF\" height=\"42.9375\" id=\"E5\" rx=\"10\" ry=\"10\" style=\"stroke: #383838; stroke-width: 1.5;\" width=\"60\" x=\"135\" y=\"286\"/><rect fill=\"#F8F8F8\" height=\"37.9375\" rx=\"10\" ry=\"10\" style=\"stroke: #F8F8F8; stroke-width: 1.5;\" width=\"60\" x=\"135\" y=\"286\"/><rect fill=\"#F8F8F8\" height=\"10\" style=\"stroke: #F8F8F8; stroke-width: 1.5;\" width=\"60\" x=\"135\" y=\"313.9375\"/><rect fill=\"none\" height=\"42.9375\" id=\"E5\" rx=\"10\" ry=\"10\" style=\"stroke: #383838; stroke-width: 1.5;\" width=\"60\" x=\"135\" y=\"286\"/><text fill=\"#000000\" font-family=\"sans-serif\" font-size=\"12\" font-style=\"italic\" lengthAdjust=\"spacingAndGlyphs\" textLength=\"53\" x=\"138.5\" y=\"302.1387\">«action»</text><text fill=\"#000000\" font-family=\"sans-serif\" font-size=\"12\" lengthAdjust=\"spacingAndGlyphs\" textLength=\"16\" x=\"157\" y=\"316.1074\">A2</text></a></g><g id=\"E1.E6\"><a href=\"psysml:6ad7aed3-e22d-47c2-b6cf-45fd0f629de6\" target=\"_top\" title=\"psysml:6ad7aed3-e22d-47c2-b6cf-45fd0f629de6\" xlink:actuate=\"onRequest\" xlink:href=\"psysml:6ad7aed3-e22d-47c2-b6cf-45fd0f629de6\" xlink:show=\"new\" xlink:title=\"psysml:6ad7aed3-e22d-47c2-b6cf-45fd0f629de6\" xlink:type=\"simple\"><rect fill=\"#FFFFFF\" height=\"42.9375\" id=\"E6\" rx=\"10\" ry=\"10\" style=\"stroke: #383838; stroke-width: 1.5;\" width=\"60\" x=\"63\" y=\"58\"/><rect fill=\"#F8F8F8\" height=\"37.9375\" rx=\"10\" ry=\"10\" style=\"stroke: #F8F8F8; stroke-width: 1.5;\" width=\"60\" x=\"63\" y=\"58\"/><rect fill=\"#F8F8F8\" height=\"10\" style=\"stroke: #F8F8F8; stroke-width: 1.5;\" width=\"60\" x=\"63\" y=\"85.9375\"/><rect fill=\"none\" height=\"42.9375\" id=\"E6\" rx=\"10\" ry=\"10\" style=\"stroke: #383838; stroke-width: 1.5;\" width=\"60\" x=\"63\" y=\"58\"/><text fill=\"#000000\" font-family=\"sans-serif\" font-size=\"12\" font-style=\"italic\" lengthAdjust=\"spacingAndGlyphs\" textLength=\"53\" x=\"66.5\" y=\"74.1387\">«action»</text><text fill=\"#000000\" font-family=\"sans-serif\" font-size=\"12\" lengthAdjust=\"spacingAndGlyphs\" textLength=\"16\" x=\"85\" y=\"88.1074\">A3</text></a></g><g id=\"E1.E7\"><a href=\"psysml:6ad7aed3-e22d-47c2-b6cf-45fd0f629de6\" target=\"_top\" title=\"psysml:6ad7aed3-e22d-47c2-b6cf-45fd0f629de6\" xlink:actuate=\"onRequest\" xlink:href=\"psysml:6ad7aed3-e22d-47c2-b6cf-45fd0f629de6\" xlink:show=\"new\" xlink:title=\"psysml:6ad7aed3-e22d-47c2-b6cf-45fd0f629de6\" xlink:type=\"simple\"><rect fill=\"#FFFFFF\" height=\"42.9375\" id=\"E7\" rx=\"10\" ry=\"10\" style=\"stroke: #383838; stroke-width: 1.5;\" width=\"60\" x=\"246\" y=\"134\"/><rect fill=\"#F8F8F8\" height=\"37.9375\" rx=\"10\" ry=\"10\" style=\"stroke: #F8F8F8; stroke-width: 1.5;\" width=\"60\" x=\"246\" y=\"134\"/><rect fill=\"#F8F8F8\" height=\"10\" style=\"stroke: #F8F8F8; stroke-width: 1.5;\" width=\"60\" x=\"246\" y=\"161.9375\"/><rect fill=\"none\" height=\"42.9375\" id=\"E7\" rx=\"10\" ry=\"10\" style=\"stroke: #383838; stroke-width: 1.5;\" width=\"60\" x=\"246\" y=\"134\"/><text fill=\"#000000\" font-family=\"sans-serif\" font-size=\"12\" font-style=\"italic\" lengthAdjust=\"spacingAndGlyphs\" textLength=\"53\" x=\"249.5\" y=\"150.1387\">«action»</text><text fill=\"#000000\" font-family=\"sans-serif\" font-size=\"12\" lengthAdjust=\"spacingAndGlyphs\" textLength=\"16\" x=\"268\" y=\"164.1074\">A3</text></a></g><!--MD5=[4d03bb2d0377dc85ccfab60ff574652b]\n",
       "link E2 to E4--><a href=\"psysml:07a447fb-7978-4e35-9306-ac5ec116db5d\" target=\"_top\" title=\"psysml:07a447fb-7978-4e35-9306-ac5ec116db5d\" xlink:actuate=\"onRequest\" xlink:href=\"psysml:07a447fb-7978-4e35-9306-ac5ec116db5d\" xlink:show=\"new\" xlink:title=\"psysml:07a447fb-7978-4e35-9306-ac5ec116db5d\" xlink:type=\"simple\"><path d=\"M201.97,84.07 C187.22,91.12 156.19,108.44 144,134 C133.21,156.64 141.61,184.91 150.79,204.99 \" fill=\"none\" id=\"E2-&gt;E4\" style=\"stroke: #383838; stroke-width: 1.0; stroke-dasharray: 7.0,7.0;\"/><polygon fill=\"#383838\" points=\"153,209.65,152.7662,199.8039,150.8614,205.1304,145.5349,203.2257,153,209.65\" style=\"stroke: #383838; stroke-width: 1.0;\"/><text fill=\"#000000\" font-family=\"sans-serif\" font-size=\"13\" lengthAdjust=\"spacingAndGlyphs\" textLength=\"55\" x=\"145\" y=\"160.0669\">[x == 1]</text></a><!--MD5=[dcad52bbbca2fe8adc741ce38b45dc12]\n",
       "link E2 to E5--><a href=\"psysml:f195b54a-5fed-403e-bb02-20f21e154f17\" target=\"_top\" title=\"psysml:f195b54a-5fed-403e-bb02-20f21e154f17\" xlink:actuate=\"onRequest\" xlink:href=\"psysml:f195b54a-5fed-403e-bb02-20f21e154f17\" xlink:show=\"new\" xlink:title=\"psysml:f195b54a-5fed-403e-bb02-20f21e154f17\" xlink:type=\"simple\"><path d=\"M211.03,90.77 C214.33,123.83 224.51,227.37 226,261 C226.33,268.55 230.06,271.63 226,278 C220.01,287.41 210.02,293.76 199.83,298.03 \" fill=\"none\" id=\"E2-&gt;E5\" style=\"stroke: #383838; stroke-width: 1.0; stroke-dasharray: 7.0,7.0;\"/><polygon fill=\"#383838\" points=\"195.15,299.85,204.9881,300.3102,199.8089,298.035,202.0841,292.8559,195.15,299.85\" style=\"stroke: #383838; stroke-width: 1.0;\"/><text fill=\"#000000\" font-family=\"sans-serif\" font-size=\"13\" lengthAdjust=\"spacingAndGlyphs\" textLength=\"44\" x=\"222\" y=\"198.0669\">[x &gt; 1]</text></a><!--MD5=[e3d2a08a9c9236652057e8ed0cbc9b62]\n",
       "link E2 to E7--><a href=\"psysml:15c91a99-d9b4-4320-8388-ef3655122685\" target=\"_top\" title=\"psysml:15c91a99-d9b4-4320-8388-ef3655122685\" xlink:actuate=\"onRequest\" xlink:href=\"psysml:15c91a99-d9b4-4320-8388-ef3655122685\" xlink:show=\"new\" xlink:title=\"psysml:15c91a99-d9b4-4320-8388-ef3655122685\" xlink:type=\"simple\"><path d=\"M210.68,90.95 C211.82,100.93 214.86,115.89 223,126 C227.84,132.02 234.31,136.94 241.06,140.89 \" fill=\"none\" id=\"E2-&gt;E7\" style=\"stroke: #383838; stroke-width: 1.0; stroke-dasharray: 7.0,7.0;\"/><polygon fill=\"#383838\" points=\"245.76,143.47,239.7851,135.6406,241.3738,141.0697,235.9446,142.6585,245.76,143.47\" style=\"stroke: #383838; stroke-width: 1.0;\"/></a><!--MD5=[583832df87f4419a098336a29a52fa00]\n",
       "link E7 to E2--><a href=\"psysml:c19c71e4-b628-4c9d-aa87-db03cc189a8f\" target=\"_top\" title=\"psysml:c19c71e4-b628-4c9d-aa87-db03cc189a8f\" xlink:actuate=\"onRequest\" xlink:href=\"psysml:c19c71e4-b628-4c9d-aa87-db03cc189a8f\" xlink:show=\"new\" xlink:title=\"psysml:c19c71e4-b628-4c9d-aa87-db03cc189a8f\" xlink:type=\"simple\"><path d=\"M257.61,133.88 C245.02,119.76 228.86,101.65 218.98,90.57 \" fill=\"none\" id=\"E7-&gt;E2\" style=\"stroke: #383838; stroke-width: 1.0; stroke-dasharray: 7.0,7.0;\"/><polygon fill=\"#383838\" points=\"215.4,86.56,218.3919,95.9434,218.7227,90.2963,224.3699,90.6271,215.4,86.56\" style=\"stroke: #383838; stroke-width: 1.0;\"/><text fill=\"#000000\" font-family=\"sans-serif\" font-size=\"13\" lengthAdjust=\"spacingAndGlyphs\" textLength=\"44\" x=\"249\" y=\"122.0669\">[x &gt; 0]</text></a><!--MD5=[2720a5a1f2c3fca2055b230370638851]\n",
       "link E2 to E3--><a href=\"psysml:6d6473c9-743e-4105-a2af-98d6bd8c1632\" target=\"_top\" title=\"psysml:6d6473c9-743e-4105-a2af-98d6bd8c1632\" xlink:actuate=\"onRequest\" xlink:href=\"psysml:6d6473c9-743e-4105-a2af-98d6bd8c1632\" xlink:show=\"new\" xlink:title=\"psysml:6d6473c9-743e-4105-a2af-98d6bd8c1632\" xlink:type=\"simple\"><path d=\"M201.54,83.16 C188.57,87.22 162.96,95.08 141,101 C126.43,104.93 121.91,103.16 108,109 C84.25,118.97 59.36,136.17 45.65,146.32 \" fill=\"none\" id=\"E2-&gt;E3\" style=\"stroke: #383838; stroke-width: 1.0; stroke-dasharray: 7.0,7.0;\"/><polygon fill=\"#383838\" points=\"41.45,149.47,51.05,147.27,45.45,146.47,46.25,140.87,41.45,149.47\" style=\"stroke: #383838; stroke-width: 1.0;\"/></a><!--MD5=[af87c684e3b0d8be13c1a698a818ef1e]\n",
       "link E3 to E4--><a href=\"psysml:4dd56774-018b-4c8a-8121-2b3d6a9c557c\" target=\"_top\" title=\"psysml:4dd56774-018b-4c8a-8121-2b3d6a9c557c\" xlink:actuate=\"onRequest\" xlink:href=\"psysml:4dd56774-018b-4c8a-8121-2b3d6a9c557c\" xlink:show=\"new\" xlink:title=\"psysml:4dd56774-018b-4c8a-8121-2b3d6a9c557c\" xlink:type=\"simple\"><path d=\"M40.09,162.69 C48.35,172.37 65.62,191.11 84,202 C93.67,207.73 97.38,206.32 108,210 C115.1,212.46 122.69,215.15 129.93,217.74 \" fill=\"none\" id=\"E3-&gt;E4\" style=\"stroke: #383838; stroke-width: 1.0; stroke-dasharray: 7.0,7.0;\"/><polygon fill=\"#383838\" points=\"134.87,219.52,127.7488,212.7164,130.1636,217.832,125.048,220.2467,134.87,219.52\" style=\"stroke: #383838; stroke-width: 1.0;\"/><text fill=\"#000000\" font-family=\"sans-serif\" font-size=\"13\" lengthAdjust=\"spacingAndGlyphs\" textLength=\"36\" x=\"85\" y=\"198.0669\">[true]</text></a><!--MD5=[0188b64bb0ae78505a997a81836e11e9]\n",
       "link E3 to E5--><a href=\"psysml:2f25c912-d622-4deb-be6f-2375e7caca37\" target=\"_top\" title=\"psysml:2f25c912-d622-4deb-be6f-2375e7caca37\" xlink:actuate=\"onRequest\" xlink:href=\"psysml:2f25c912-d622-4deb-be6f-2375e7caca37\" xlink:show=\"new\" xlink:title=\"psysml:2f25c912-d622-4deb-be6f-2375e7caca37\" xlink:type=\"simple\"><path d=\"M36.91,165.76 C41.11,184.24 52.71,226.21 76,253 C90.72,269.93 112.16,283.05 130.31,292.05 \" fill=\"none\" id=\"E3-&gt;E5\" style=\"stroke: #383838; stroke-width: 1.0; stroke-dasharray: 7.0,7.0;\"/><polygon fill=\"#383838\" points=\"134.85,294.25,128.4921,286.7283,130.3496,292.0714,125.0064,293.9289,134.85,294.25\" style=\"stroke: #383838; stroke-width: 1.0;\"/><text fill=\"#000000\" font-family=\"sans-serif\" font-size=\"13\" lengthAdjust=\"spacingAndGlyphs\" textLength=\"40\" x=\"77\" y=\"236.0669\">[false]</text></a><!--MD5=[1b7591eae5389033d8d09a9d6721a717]\n",
       "link E4 to E5--><a href=\"psysml:19ac739f-970e-4750-a1cd-14a3501dcfff\" target=\"_top\" title=\"psysml:19ac739f-970e-4750-a1cd-14a3501dcfff\" xlink:actuate=\"onRequest\" xlink:href=\"psysml:19ac739f-970e-4750-a1cd-14a3501dcfff\" xlink:show=\"new\" xlink:title=\"psysml:19ac739f-970e-4750-a1cd-14a3501dcfff\" xlink:type=\"simple\"><path d=\"M165,253.11 C165,261.69 165,271.75 165,280.8 \" fill=\"none\" id=\"E4-&gt;E5\" style=\"stroke: #383838; stroke-width: 1.0; stroke-dasharray: 7.0,7.0;\"/><polygon fill=\"#383838\" points=\"165,286,169,277,165,281,161,277,165,286\" style=\"stroke: #383838; stroke-width: 1.0;\"/><text fill=\"#000000\" font-family=\"sans-serif\" font-size=\"13\" lengthAdjust=\"spacingAndGlyphs\" textLength=\"55\" x=\"166\" y=\"274.0669\">[x == 0]</text></a><!--MD5=[26257d200503a9b6f1a7043f3ec12283]\n",
       "@startuml\r\n",
       "skinparam ranksep 8\r\n",
       " skinparam monochrome true\r\n",
       "skinparam classbackgroundcolor white\r\n",
       "skinparam shadowing false\r\n",
       "skinparam wrapWidth 300\r\n",
       "hide circle\r\n",
       "\r\n",
       "rec def \"DecisionTest\" as E1  <<(T,blue) action def>> [[psysml:ec9d2101-14b6-425a-8b3b-258973824e57 ]] {\r\n",
       "choice \"test x\" as E2  [[psysml:7b5c557c-0eca-43da-893a-884adf177ee9 ]] \r\n",
       "choice \"<s>noname</s>\" as E3  [[psysml:c8637911-bdae-488c-9ae7-71f0e05f074a ]] \r\n",
       "rec usage \"A1\" as E4  <<(T,blue) action>> [[psysml:2b21def1-54fd-4014-8db4-beef5c1da0f0 ]] {\r\n",
       "}\r\n",
       "\r\n",
       "rec usage \"A2\" as E5  <<(T,blue) action>> [[psysml:a7c18d95-cb4e-4d18-b7c9-a948ce4b9e35 ]] {\r\n",
       "}\r\n",
       "\r\n",
       "rec usage \"A3\" as E6  <<(T,blue) action>> [[psysml:6ad7aed3-e22d-47c2-b6cf-45fd0f629de6 ]] {\r\n",
       "}\r\n",
       "\r\n",
       "rec usage \"A3\" as E7  <<(T,blue) action>> [[psysml:6ad7aed3-e22d-47c2-b6cf-45fd0f629de6 ]] {\r\n",
       "}\r\n",
       "\r\n",
       "}\r\n",
       "\r\n",
       "E2 ..> E4 [[psysml:07a447fb-7978-4e35-9306-ac5ec116db5d ]] : [x == 1]\r\n",
       "E2 ..> E5 [[psysml:f195b54a-5fed-403e-bb02-20f21e154f17 ]] : [x > 1]\r\n",
       "E2 ..> E7 [[psysml:15c91a99-d9b4-4320-8388-ef3655122685 ]] \r\n",
       "E2 ..> E3 [[psysml:6d6473c9-743e-4105-a2af-98d6bd8c1632 ]] \r\n",
       "E3 ..> E4 [[psysml:4dd56774-018b-4c8a-8121-2b3d6a9c557c ]] : [true]\r\n",
       "E3 ..> E5 [[psysml:2f25c912-d622-4deb-be6f-2375e7caca37 ]] : [false]\r\n",
       "E4 ..> E5 [[psysml:19ac739f-970e-4750-a1cd-14a3501dcfff ]] : [x == 0]\r\n",
       "E7 ..> E2 [[psysml:c19c71e4-b628-4c9d-aa87-db03cc189a8f ]] : [x > 0]\r\n",
       "@enduml\r\n",
       "\n",
       "PlantUML version 1.2020.13(Sat Jun 13 12:26:38 UTC 2020)\n",
       "(EPL source distribution)\n",
       "Java Runtime: OpenJDK Runtime Environment\n",
       "JVM: OpenJDK 64-Bit Server VM\n",
       "Default Encoding: UTF-8\n",
       "Language: en\n",
       "Country: null\n",
       "--></g></svg>"
      ]
     },
     "execution_count": 6,
     "metadata": {},
     "output_type": "execute_result"
    }
   ],
   "source": [
    "%viz --style=\"COMPTREE\" --view=\"Action\" \"DecisionTest\""
   ]
  },
  {
   "cell_type": "code",
   "execution_count": 7,
   "id": "5116999f",
   "metadata": {
    "execution": {
     "iopub.execute_input": "2021-10-03T08:29:00.236553Z",
     "iopub.status.busy": "2021-10-03T08:29:00.236152Z",
     "iopub.status.idle": "2021-10-03T08:29:00.249981Z",
     "shell.execute_reply": "2021-10-03T08:29:00.250292Z"
    }
   },
   "outputs": [
    {
     "data": {
      "image/svg+xml": [
       "<?xml version=\"1.0\" encoding=\"UTF-8\" standalone=\"no\"?><svg xmlns=\"http://www.w3.org/2000/svg\" xmlns:xlink=\"http://www.w3.org/1999/xlink\" contentScriptType=\"application/ecmascript\" contentStyleType=\"text/css\" height=\"12px\" preserveAspectRatio=\"none\" style=\"width:12px;height:12px;\" version=\"1.1\" viewBox=\"0 0 12 12\" width=\"12px\" zoomAndPan=\"magnify\"><defs/><g><!--MD5=[803fc46c337be7a5c8a9831e35356779]\n",
       "@startuml\r\n",
       "skinparam roundcorner 20\r\n",
       "skinparam BoxPadding 20\r\n",
       "skinparam SequenceBoxBackgroundColor #white\r\n",
       "skinparam style strictuml\r\n",
       "skinparam maxMessageSize 100\r\n",
       " skinparam monochrome true\r\n",
       "skinparam classbackgroundcolor white\r\n",
       "skinparam shadowing false\r\n",
       "skinparam wrapWidth 300\r\n",
       "hide circle\r\n",
       "\r\n",
       "@enduml\r\n",
       "\n",
       "PlantUML version 1.2020.13(Sat Jun 13 12:26:38 UTC 2020)\n",
       "(EPL source distribution)\n",
       "Java Runtime: OpenJDK Runtime Environment\n",
       "JVM: OpenJDK 64-Bit Server VM\n",
       "Default Encoding: UTF-8\n",
       "Language: en\n",
       "Country: null\n",
       "--></g></svg>"
      ]
     },
     "execution_count": 7,
     "metadata": {},
     "output_type": "execute_result"
    }
   ],
   "source": [
    "%viz --style=\"COMPTREE\" --view=\"Sequence\" \"DecisionTest\""
   ]
  },
  {
   "cell_type": "code",
   "execution_count": 8,
   "id": "70cc1bb1",
   "metadata": {
    "execution": {
     "iopub.execute_input": "2021-10-03T08:29:00.300278Z",
     "iopub.status.busy": "2021-10-03T08:29:00.299877Z",
     "iopub.status.idle": "2021-10-03T08:29:00.355912Z",
     "shell.execute_reply": "2021-10-03T08:29:00.355536Z"
    }
   },
   "outputs": [
    {
     "data": {
      "image/svg+xml": [
       "<?xml version=\"1.0\" encoding=\"UTF-8\" standalone=\"no\"?><svg xmlns=\"http://www.w3.org/2000/svg\" xmlns:xlink=\"http://www.w3.org/1999/xlink\" contentScriptType=\"application/ecmascript\" contentStyleType=\"text/css\" height=\"488px\" preserveAspectRatio=\"none\" style=\"width:333px;height:488px;\" version=\"1.1\" viewBox=\"0 0 333 488\" width=\"333px\" zoomAndPan=\"magnify\"><defs/><g><!--MD5=[fbc87193dbaf4d95561dea2c320d4a47]\n",
       "cluster E1--><a href=\"psysml:ec9d2101-14b6-425a-8b3b-258973824e57\" target=\"_top\" title=\"psysml:ec9d2101-14b6-425a-8b3b-258973824e57\" xlink:actuate=\"onRequest\" xlink:href=\"psysml:ec9d2101-14b6-425a-8b3b-258973824e57\" xlink:show=\"new\" xlink:title=\"psysml:ec9d2101-14b6-425a-8b3b-258973824e57\" xlink:type=\"simple\"><rect fill=\"#FFFFFF\" height=\"470\" id=\"E1\" style=\"stroke: #383838; stroke-width: 1.5;\" width=\"315\" x=\"7\" y=\"7\"/><rect fill=\"#F8F8F8\" height=\"37.9375\" style=\"stroke: #383838; stroke-width: 1.5;\" width=\"315\" x=\"7\" y=\"7\"/><text fill=\"#000000\" font-family=\"sans-serif\" font-size=\"12\" font-style=\"italic\" lengthAdjust=\"spacingAndGlyphs\" textLength=\"77\" x=\"126\" y=\"23.1387\">«action def»</text><text fill=\"#000000\" font-family=\"sans-serif\" font-size=\"12\" lengthAdjust=\"spacingAndGlyphs\" textLength=\"80\" x=\"124.5\" y=\"37.1074\">DecisionTest</text></a><polygon fill=\"#F8F8F8\" points=\"210,67.5,222,79.5,210,91.5,198,79.5,210,67.5\" style=\"stroke: #383838; stroke-width: 1.5;\"/><polygon fill=\"#F8F8F8\" points=\"35,187.5,47,199.5,35,211.5,23,199.5,35,187.5\" style=\"stroke: #383838; stroke-width: 1.5;\"/><g id=\"E1.E4\"><a href=\"psysml:2b21def1-54fd-4014-8db4-beef5c1da0f0\" target=\"_top\" title=\"psysml:2b21def1-54fd-4014-8db4-beef5c1da0f0\" xlink:actuate=\"onRequest\" xlink:href=\"psysml:2b21def1-54fd-4014-8db4-beef5c1da0f0\" xlink:show=\"new\" xlink:title=\"psysml:2b21def1-54fd-4014-8db4-beef5c1da0f0\" xlink:type=\"simple\"><rect fill=\"#FFFFFF\" height=\"42.9375\" id=\"E4\" rx=\"10\" ry=\"10\" style=\"stroke: #383838; stroke-width: 1.5;\" width=\"60\" x=\"135\" y=\"298\"/><rect fill=\"#F8F8F8\" height=\"37.9375\" rx=\"10\" ry=\"10\" style=\"stroke: #F8F8F8; stroke-width: 1.5;\" width=\"60\" x=\"135\" y=\"298\"/><rect fill=\"#F8F8F8\" height=\"10\" style=\"stroke: #F8F8F8; stroke-width: 1.5;\" width=\"60\" x=\"135\" y=\"325.9375\"/><rect fill=\"none\" height=\"42.9375\" id=\"E4\" rx=\"10\" ry=\"10\" style=\"stroke: #383838; stroke-width: 1.5;\" width=\"60\" x=\"135\" y=\"298\"/><text fill=\"#000000\" font-family=\"sans-serif\" font-size=\"12\" font-style=\"italic\" lengthAdjust=\"spacingAndGlyphs\" textLength=\"53\" x=\"138.5\" y=\"314.1387\">«action»</text><text fill=\"#000000\" font-family=\"sans-serif\" font-size=\"12\" lengthAdjust=\"spacingAndGlyphs\" textLength=\"16\" x=\"157\" y=\"328.1074\">A1</text></a></g><g id=\"E1.E5\"><a href=\"psysml:a7c18d95-cb4e-4d18-b7c9-a948ce4b9e35\" target=\"_top\" title=\"psysml:a7c18d95-cb4e-4d18-b7c9-a948ce4b9e35\" xlink:actuate=\"onRequest\" xlink:href=\"psysml:a7c18d95-cb4e-4d18-b7c9-a948ce4b9e35\" xlink:show=\"new\" xlink:title=\"psysml:a7c18d95-cb4e-4d18-b7c9-a948ce4b9e35\" xlink:type=\"simple\"><rect fill=\"#FFFFFF\" height=\"42.9375\" id=\"E5\" rx=\"10\" ry=\"10\" style=\"stroke: #383838; stroke-width: 1.5;\" width=\"60\" x=\"135\" y=\"418\"/><rect fill=\"#F8F8F8\" height=\"37.9375\" rx=\"10\" ry=\"10\" style=\"stroke: #F8F8F8; stroke-width: 1.5;\" width=\"60\" x=\"135\" y=\"418\"/><rect fill=\"#F8F8F8\" height=\"10\" style=\"stroke: #F8F8F8; stroke-width: 1.5;\" width=\"60\" x=\"135\" y=\"445.9375\"/><rect fill=\"none\" height=\"42.9375\" id=\"E5\" rx=\"10\" ry=\"10\" style=\"stroke: #383838; stroke-width: 1.5;\" width=\"60\" x=\"135\" y=\"418\"/><text fill=\"#000000\" font-family=\"sans-serif\" font-size=\"12\" font-style=\"italic\" lengthAdjust=\"spacingAndGlyphs\" textLength=\"53\" x=\"138.5\" y=\"434.1387\">«action»</text><text fill=\"#000000\" font-family=\"sans-serif\" font-size=\"12\" lengthAdjust=\"spacingAndGlyphs\" textLength=\"16\" x=\"157\" y=\"448.1074\">A2</text></a></g><g id=\"E1.E6\"><a href=\"psysml:6ad7aed3-e22d-47c2-b6cf-45fd0f629de6\" target=\"_top\" title=\"psysml:6ad7aed3-e22d-47c2-b6cf-45fd0f629de6\" xlink:actuate=\"onRequest\" xlink:href=\"psysml:6ad7aed3-e22d-47c2-b6cf-45fd0f629de6\" xlink:show=\"new\" xlink:title=\"psysml:6ad7aed3-e22d-47c2-b6cf-45fd0f629de6\" xlink:type=\"simple\"><rect fill=\"#FFFFFF\" height=\"42.9375\" id=\"E6\" rx=\"10\" ry=\"10\" style=\"stroke: #383838; stroke-width: 1.5;\" width=\"60\" x=\"63\" y=\"58\"/><rect fill=\"#F8F8F8\" height=\"37.9375\" rx=\"10\" ry=\"10\" style=\"stroke: #F8F8F8; stroke-width: 1.5;\" width=\"60\" x=\"63\" y=\"58\"/><rect fill=\"#F8F8F8\" height=\"10\" style=\"stroke: #F8F8F8; stroke-width: 1.5;\" width=\"60\" x=\"63\" y=\"85.9375\"/><rect fill=\"none\" height=\"42.9375\" id=\"E6\" rx=\"10\" ry=\"10\" style=\"stroke: #383838; stroke-width: 1.5;\" width=\"60\" x=\"63\" y=\"58\"/><text fill=\"#000000\" font-family=\"sans-serif\" font-size=\"12\" font-style=\"italic\" lengthAdjust=\"spacingAndGlyphs\" textLength=\"53\" x=\"66.5\" y=\"74.1387\">«action»</text><text fill=\"#000000\" font-family=\"sans-serif\" font-size=\"12\" lengthAdjust=\"spacingAndGlyphs\" textLength=\"16\" x=\"85\" y=\"88.1074\">A3</text></a></g><g id=\"E1.E7\"><a href=\"psysml:6ad7aed3-e22d-47c2-b6cf-45fd0f629de6\" target=\"_top\" title=\"psysml:6ad7aed3-e22d-47c2-b6cf-45fd0f629de6\" xlink:actuate=\"onRequest\" xlink:href=\"psysml:6ad7aed3-e22d-47c2-b6cf-45fd0f629de6\" xlink:show=\"new\" xlink:title=\"psysml:6ad7aed3-e22d-47c2-b6cf-45fd0f629de6\" xlink:type=\"simple\"><rect fill=\"#FFFFFF\" height=\"42.9375\" id=\"E7\" rx=\"10\" ry=\"10\" style=\"stroke: #383838; stroke-width: 1.5;\" width=\"60\" x=\"246\" y=\"178\"/><rect fill=\"#F8F8F8\" height=\"37.9375\" rx=\"10\" ry=\"10\" style=\"stroke: #F8F8F8; stroke-width: 1.5;\" width=\"60\" x=\"246\" y=\"178\"/><rect fill=\"#F8F8F8\" height=\"10\" style=\"stroke: #F8F8F8; stroke-width: 1.5;\" width=\"60\" x=\"246\" y=\"205.9375\"/><rect fill=\"none\" height=\"42.9375\" id=\"E7\" rx=\"10\" ry=\"10\" style=\"stroke: #383838; stroke-width: 1.5;\" width=\"60\" x=\"246\" y=\"178\"/><text fill=\"#000000\" font-family=\"sans-serif\" font-size=\"12\" font-style=\"italic\" lengthAdjust=\"spacingAndGlyphs\" textLength=\"53\" x=\"249.5\" y=\"194.1387\">«action»</text><text fill=\"#000000\" font-family=\"sans-serif\" font-size=\"12\" lengthAdjust=\"spacingAndGlyphs\" textLength=\"16\" x=\"268\" y=\"208.1074\">A3</text></a></g><!--MD5=[4d03bb2d0377dc85ccfab60ff574652b]\n",
       "link E2 to E4--><a href=\"psysml:07a447fb-7978-4e35-9306-ac5ec116db5d\" target=\"_top\" title=\"psysml:07a447fb-7978-4e35-9306-ac5ec116db5d\" xlink:actuate=\"onRequest\" xlink:href=\"psysml:07a447fb-7978-4e35-9306-ac5ec116db5d\" xlink:show=\"new\" xlink:title=\"psysml:07a447fb-7978-4e35-9306-ac5ec116db5d\" xlink:type=\"simple\"><path d=\"M204.45,86 C190.88,99.89 156.22,138.13 144,178 C132.04,217.01 144.31,264.27 154.48,292.83 \" fill=\"none\" id=\"E2-&gt;E4\" style=\"stroke: #383838; stroke-width: 1.0;\"/><polygon fill=\"#383838\" points=\"156.22,297.6,156.8939,287.7742,154.5067,292.9027,149.3782,290.5155,156.22,297.6\" style=\"stroke: #383838; stroke-width: 1.0;\"/><text fill=\"#000000\" font-family=\"sans-serif\" font-size=\"13\" lengthAdjust=\"spacingAndGlyphs\" textLength=\"55\" x=\"145\" y=\"204.0669\">[x == 1]</text><text fill=\"#000000\" font-family=\"sans-serif\" font-size=\"13\" lengthAdjust=\"spacingAndGlyphs\" textLength=\"7\" x=\"145.9198\" y=\"286.7919\">*</text></a><!--MD5=[dcad52bbbca2fe8adc741ce38b45dc12]\n",
       "link E2 to E5--><a href=\"psysml:f195b54a-5fed-403e-bb02-20f21e154f17\" target=\"_top\" title=\"psysml:f195b54a-5fed-403e-bb02-20f21e154f17\" xlink:actuate=\"onRequest\" xlink:href=\"psysml:f195b54a-5fed-403e-bb02-20f21e154f17\" xlink:show=\"new\" xlink:title=\"psysml:f195b54a-5fed-403e-bb02-20f21e154f17\" xlink:type=\"simple\"><path d=\"M210.67,90.83 C214.08,143.62 229.24,381.12 226,388 C220.27,400.19 209.98,410.45 199.48,418.47 \" fill=\"none\" id=\"E2-&gt;E5\" style=\"stroke: #383838; stroke-width: 1.0;\"/><polygon fill=\"#383838\" points=\"195.29,421.54,204.9073,419.4168,199.3138,418.5721,200.1586,412.9786,195.29,421.54\" style=\"stroke: #383838; stroke-width: 1.0;\"/><text fill=\"#000000\" font-family=\"sans-serif\" font-size=\"13\" lengthAdjust=\"spacingAndGlyphs\" textLength=\"44\" x=\"222\" y=\"264.0669\">[x &gt; 1]</text><text fill=\"#000000\" font-family=\"sans-serif\" font-size=\"13\" lengthAdjust=\"spacingAndGlyphs\" textLength=\"7\" x=\"203.1039\" y=\"412.7419\">*</text></a><!--MD5=[e3d2a08a9c9236652057e8ed0cbc9b62]\n",
       "link E2 to E7--><a href=\"psysml:15c91a99-d9b4-4320-8388-ef3655122685\" target=\"_top\" title=\"psysml:15c91a99-d9b4-4320-8388-ef3655122685\" xlink:actuate=\"onRequest\" xlink:href=\"psysml:15c91a99-d9b4-4320-8388-ef3655122685\" xlink:show=\"new\" xlink:title=\"psysml:15c91a99-d9b4-4320-8388-ef3655122685\" xlink:type=\"simple\"><path d=\"M210.1,91.71 C210.67,105.71 213.16,129.99 223,148 C228.29,157.68 236.08,166.6 244.08,174.17 \" fill=\"none\" id=\"E2-&gt;E7\" style=\"stroke: #383838; stroke-width: 1.0;\"/><polygon fill=\"#383838\" points=\"248.01,177.77,244.069,168.744,244.3207,174.3953,238.6694,174.6469,248.01,177.77\" style=\"stroke: #383838; stroke-width: 1.0;\"/><text fill=\"#000000\" font-family=\"sans-serif\" font-size=\"13\" lengthAdjust=\"spacingAndGlyphs\" textLength=\"7\" x=\"232.5471\" y=\"167.0076\">*</text></a><!--MD5=[583832df87f4419a098336a29a52fa00]\n",
       "link E7 to E2--><a href=\"psysml:c19c71e4-b628-4c9d-aa87-db03cc189a8f\" target=\"_top\" title=\"psysml:c19c71e4-b628-4c9d-aa87-db03cc189a8f\" xlink:actuate=\"onRequest\" xlink:href=\"psysml:c19c71e4-b628-4c9d-aa87-db03cc189a8f\" xlink:show=\"new\" xlink:title=\"psysml:c19c71e4-b628-4c9d-aa87-db03cc189a8f\" xlink:type=\"simple\"><path d=\"M264.3,177.59 C250.41,152.74 227.7,112.15 216.57,92.25 \" fill=\"none\" id=\"E7-&gt;E2\" style=\"stroke: #383838; stroke-width: 1.0;\"/><polygon fill=\"#383838\" points=\"214.13,87.88,215.0286,97.6878,216.5691,92.2447,222.0122,93.7852,214.13,87.88\" style=\"stroke: #383838; stroke-width: 1.0;\"/><text fill=\"#000000\" font-family=\"sans-serif\" font-size=\"13\" lengthAdjust=\"spacingAndGlyphs\" textLength=\"44\" x=\"247\" y=\"144.0669\">[x &gt; 0]</text><text fill=\"#000000\" font-family=\"sans-serif\" font-size=\"13\" lengthAdjust=\"spacingAndGlyphs\" textLength=\"7\" x=\"207.5946\" y=\"111.7074\">*</text></a><!--MD5=[2720a5a1f2c3fca2055b230370638851]\n",
       "link E2 to E3--><a href=\"psysml:6d6473c9-743e-4105-a2af-98d6bd8c1632\" target=\"_top\" title=\"psysml:6d6473c9-743e-4105-a2af-98d6bd8c1632\" xlink:actuate=\"onRequest\" xlink:href=\"psysml:6d6473c9-743e-4105-a2af-98d6bd8c1632\" xlink:show=\"new\" xlink:title=\"psysml:6d6473c9-743e-4105-a2af-98d6bd8c1632\" xlink:type=\"simple\"><path d=\"M201.9,83.58 C184.06,90.55 140.39,108.7 108,131 C82.49,148.57 56.88,174.67 43.84,188.71 \" fill=\"none\" id=\"E2-&gt;E3\" style=\"stroke: #383838; stroke-width: 1.0;\"/><polygon fill=\"#383838\" points=\"40.21,192.66,49.2443,188.738,43.5925,188.9778,43.3527,183.326,40.21,192.66\" style=\"stroke: #383838; stroke-width: 1.0;\"/><text fill=\"#000000\" font-family=\"sans-serif\" font-size=\"13\" lengthAdjust=\"spacingAndGlyphs\" textLength=\"7\" x=\"48.2668\" y=\"176.5238\">*</text></a><!--MD5=[af87c684e3b0d8be13c1a698a818ef1e]\n",
       "link E3 to E4--><a href=\"psysml:4dd56774-018b-4c8a-8121-2b3d6a9c557c\" target=\"_top\" title=\"psysml:4dd56774-018b-4c8a-8121-2b3d6a9c557c\" xlink:actuate=\"onRequest\" xlink:href=\"psysml:4dd56774-018b-4c8a-8121-2b3d6a9c557c\" xlink:show=\"new\" xlink:title=\"psysml:4dd56774-018b-4c8a-8121-2b3d6a9c557c\" xlink:type=\"simple\"><path d=\"M39.08,207.91 C46.63,221.15 63.87,249.24 84,268 C97.73,280.8 115.17,292.16 130.35,300.85 \" fill=\"none\" id=\"E3-&gt;E4\" style=\"stroke: #383838; stroke-width: 1.0;\"/><polygon fill=\"#383838\" points=\"134.98,303.46,129.0858,295.5696,130.6187,301.0148,125.1735,302.5477,134.98,303.46\" style=\"stroke: #383838; stroke-width: 1.0;\"/><text fill=\"#000000\" font-family=\"sans-serif\" font-size=\"13\" lengthAdjust=\"spacingAndGlyphs\" textLength=\"36\" x=\"85\" y=\"264.0669\">[true]</text><text fill=\"#000000\" font-family=\"sans-serif\" font-size=\"13\" lengthAdjust=\"spacingAndGlyphs\" textLength=\"7\" x=\"119.8095\" y=\"294.8128\">*</text></a><!--MD5=[0188b64bb0ae78505a997a81836e11e9]\n",
       "link E3 to E5--><a href=\"psysml:2f25c912-d622-4deb-be6f-2375e7caca37\" target=\"_top\" title=\"psysml:2f25c912-d622-4deb-be6f-2375e7caca37\" xlink:actuate=\"onRequest\" xlink:href=\"psysml:2f25c912-d622-4deb-be6f-2375e7caca37\" xlink:show=\"new\" xlink:title=\"psysml:2f25c912-d622-4deb-be6f-2375e7caca37\" xlink:type=\"simple\"><path d=\"M36.3,210.29 C39.76,234.03 50.73,296.03 76,341 C91.89,369.29 117.42,396.1 137.07,414.43 \" fill=\"none\" id=\"E3-&gt;E5\" style=\"stroke: #383838; stroke-width: 1.0;\"/><polygon fill=\"#383838\" points=\"140.92,417.98,137.0155,408.9382,137.2443,414.5904,131.5921,414.8192,140.92,417.98\" style=\"stroke: #383838; stroke-width: 1.0;\"/><text fill=\"#000000\" font-family=\"sans-serif\" font-size=\"13\" lengthAdjust=\"spacingAndGlyphs\" textLength=\"40\" x=\"77\" y=\"324.0669\">[false]</text><text fill=\"#000000\" font-family=\"sans-serif\" font-size=\"13\" lengthAdjust=\"spacingAndGlyphs\" textLength=\"7\" x=\"126.1631\" y=\"406.9125\">*</text></a><!--MD5=[1b7591eae5389033d8d09a9d6721a717]\n",
       "link E4 to E5--><a href=\"psysml:19ac739f-970e-4750-a1cd-14a3501dcfff\" target=\"_top\" title=\"psysml:19ac739f-970e-4750-a1cd-14a3501dcfff\" xlink:actuate=\"onRequest\" xlink:href=\"psysml:19ac739f-970e-4750-a1cd-14a3501dcfff\" xlink:show=\"new\" xlink:title=\"psysml:19ac739f-970e-4750-a1cd-14a3501dcfff\" xlink:type=\"simple\"><path d=\"M165,341.05 C165,360.9 165,391.02 165,412.52 \" fill=\"none\" id=\"E4-&gt;E5\" style=\"stroke: #383838; stroke-width: 1.0;\"/><polygon fill=\"#383838\" points=\"165,417.79,169,408.79,165,412.79,161,408.79,165,417.79\" style=\"stroke: #383838; stroke-width: 1.0;\"/><text fill=\"#000000\" font-family=\"sans-serif\" font-size=\"13\" lengthAdjust=\"spacingAndGlyphs\" textLength=\"55\" x=\"166\" y=\"384.0669\">[x == 0]</text><text fill=\"#000000\" font-family=\"sans-serif\" font-size=\"13\" lengthAdjust=\"spacingAndGlyphs\" textLength=\"7\" x=\"157.0594\" y=\"407.033\">*</text></a><!--MD5=[7e6503cd7b35a38768346c3ddfce4fa9]\n",
       "@startuml\r\n",
       " skinparam monochrome true\r\n",
       "skinparam classbackgroundcolor white\r\n",
       "skinparam shadowing false\r\n",
       "skinparam wrapWidth 300\r\n",
       "hide circle\r\n",
       "\r\n",
       "rec def \"DecisionTest\" as E1  <<(T,blue) action def>> [[psysml:ec9d2101-14b6-425a-8b3b-258973824e57 ]] {\r\n",
       "choice \"test x\" as E2  [[psysml:7b5c557c-0eca-43da-893a-884adf177ee9 ]] \r\n",
       "choice \"<s>noname</s>\" as E3  [[psysml:c8637911-bdae-488c-9ae7-71f0e05f074a ]] \r\n",
       "rec usage \"A1\" as E4  <<(T,blue) action>> [[psysml:2b21def1-54fd-4014-8db4-beef5c1da0f0 ]] {\r\n",
       "}\r\n",
       "\r\n",
       "rec usage \"A2\" as E5  <<(T,blue) action>> [[psysml:a7c18d95-cb4e-4d18-b7c9-a948ce4b9e35 ]] {\r\n",
       "}\r\n",
       "\r\n",
       "rec usage \"A3\" as E6  <<(T,blue) action>> [[psysml:6ad7aed3-e22d-47c2-b6cf-45fd0f629de6 ]] {\r\n",
       "}\r\n",
       "\r\n",
       "rec usage \"A3\" as E7  <<(T,blue) action>> [[psysml:6ad7aed3-e22d-47c2-b6cf-45fd0f629de6 ]] {\r\n",
       "}\r\n",
       "\r\n",
       "}\r\n",
       "\r\n",
       "E2  - -> \"*\"E4 [[psysml:07a447fb-7978-4e35-9306-ac5ec116db5d ]] : [x == 1]\r\n",
       "E2  - -> \"*\"E5 [[psysml:f195b54a-5fed-403e-bb02-20f21e154f17 ]] : [x > 1]\r\n",
       "E2  - -> \"*\"E7 [[psysml:15c91a99-d9b4-4320-8388-ef3655122685 ]] \r\n",
       "E2 - -> \"*\"E3 [[psysml:6d6473c9-743e-4105-a2af-98d6bd8c1632 ]] \r\n",
       "E3  - -> \"*\"E4 [[psysml:4dd56774-018b-4c8a-8121-2b3d6a9c557c ]] : [true]\r\n",
       "E3  - -> \"*\"E5 [[psysml:2f25c912-d622-4deb-be6f-2375e7caca37 ]] : [false]\r\n",
       "E4  - -> \"*\"E5 [[psysml:19ac739f-970e-4750-a1cd-14a3501dcfff ]] : [x == 0]\r\n",
       "E7  - -> \"*\"E2 [[psysml:c19c71e4-b628-4c9d-aa87-db03cc189a8f ]] : [x > 0]\r\n",
       "@enduml\r\n",
       "\n",
       "PlantUML version 1.2020.13(Sat Jun 13 12:26:38 UTC 2020)\n",
       "(EPL source distribution)\n",
       "Java Runtime: OpenJDK Runtime Environment\n",
       "JVM: OpenJDK 64-Bit Server VM\n",
       "Default Encoding: UTF-8\n",
       "Language: en\n",
       "Country: null\n",
       "--></g></svg>"
      ]
     },
     "execution_count": 8,
     "metadata": {},
     "output_type": "execute_result"
    }
   ],
   "source": [
    "%viz --style=\"COMPTREE\" --view=\"MIXED\" \"DecisionTest\""
   ]
  },
  {
   "cell_type": "code",
   "execution_count": 9,
   "id": "e9ef97c7",
   "metadata": {
    "execution": {
     "iopub.execute_input": "2021-10-03T08:29:00.405337Z",
     "iopub.status.busy": "2021-10-03T08:29:00.404938Z",
     "iopub.status.idle": "2021-10-03T08:29:00.460196Z",
     "shell.execute_reply": "2021-10-03T08:29:00.458371Z"
    }
   },
   "outputs": [
    {
     "data": {
      "image/svg+xml": [
       "<?xml version=\"1.0\" encoding=\"UTF-8\" standalone=\"no\"?><svg xmlns=\"http://www.w3.org/2000/svg\" xmlns:xlink=\"http://www.w3.org/1999/xlink\" contentScriptType=\"application/ecmascript\" contentStyleType=\"text/css\" height=\"488px\" preserveAspectRatio=\"none\" style=\"width:333px;height:488px;\" version=\"1.1\" viewBox=\"0 0 333 488\" width=\"333px\" zoomAndPan=\"magnify\"><defs/><g><!--MD5=[fbc87193dbaf4d95561dea2c320d4a47]\n",
       "cluster E1--><a href=\"psysml:ec9d2101-14b6-425a-8b3b-258973824e57\" target=\"_top\" title=\"psysml:ec9d2101-14b6-425a-8b3b-258973824e57\" xlink:actuate=\"onRequest\" xlink:href=\"psysml:ec9d2101-14b6-425a-8b3b-258973824e57\" xlink:show=\"new\" xlink:title=\"psysml:ec9d2101-14b6-425a-8b3b-258973824e57\" xlink:type=\"simple\"><rect fill=\"#FFFFFF\" height=\"470\" id=\"E1\" style=\"stroke: #383838; stroke-width: 1.5;\" width=\"315\" x=\"7\" y=\"7\"/><rect fill=\"#F8F8F8\" height=\"37.9375\" style=\"stroke: #383838; stroke-width: 1.5;\" width=\"315\" x=\"7\" y=\"7\"/><text fill=\"#000000\" font-family=\"sans-serif\" font-size=\"12\" font-style=\"italic\" lengthAdjust=\"spacingAndGlyphs\" textLength=\"77\" x=\"126\" y=\"23.1387\">«action def»</text><text fill=\"#000000\" font-family=\"sans-serif\" font-size=\"12\" lengthAdjust=\"spacingAndGlyphs\" textLength=\"80\" x=\"124.5\" y=\"37.1074\">DecisionTest</text></a><polygon fill=\"#F8F8F8\" points=\"210,67.5,222,79.5,210,91.5,198,79.5,210,67.5\" style=\"stroke: #383838; stroke-width: 1.5;\"/><polygon fill=\"#F8F8F8\" points=\"35,187.5,47,199.5,35,211.5,23,199.5,35,187.5\" style=\"stroke: #383838; stroke-width: 1.5;\"/><g id=\"E1.E4\"><a href=\"psysml:2b21def1-54fd-4014-8db4-beef5c1da0f0\" target=\"_top\" title=\"psysml:2b21def1-54fd-4014-8db4-beef5c1da0f0\" xlink:actuate=\"onRequest\" xlink:href=\"psysml:2b21def1-54fd-4014-8db4-beef5c1da0f0\" xlink:show=\"new\" xlink:title=\"psysml:2b21def1-54fd-4014-8db4-beef5c1da0f0\" xlink:type=\"simple\"><rect fill=\"#FFFFFF\" height=\"42.9375\" id=\"E4\" rx=\"10\" ry=\"10\" style=\"stroke: #383838; stroke-width: 1.5;\" width=\"60\" x=\"135\" y=\"298\"/><rect fill=\"#F8F8F8\" height=\"37.9375\" rx=\"10\" ry=\"10\" style=\"stroke: #F8F8F8; stroke-width: 1.5;\" width=\"60\" x=\"135\" y=\"298\"/><rect fill=\"#F8F8F8\" height=\"10\" style=\"stroke: #F8F8F8; stroke-width: 1.5;\" width=\"60\" x=\"135\" y=\"325.9375\"/><rect fill=\"none\" height=\"42.9375\" id=\"E4\" rx=\"10\" ry=\"10\" style=\"stroke: #383838; stroke-width: 1.5;\" width=\"60\" x=\"135\" y=\"298\"/><text fill=\"#000000\" font-family=\"sans-serif\" font-size=\"12\" font-style=\"italic\" lengthAdjust=\"spacingAndGlyphs\" textLength=\"53\" x=\"138.5\" y=\"314.1387\">«action»</text><text fill=\"#000000\" font-family=\"sans-serif\" font-size=\"12\" lengthAdjust=\"spacingAndGlyphs\" textLength=\"16\" x=\"157\" y=\"328.1074\">A1</text></a></g><g id=\"E1.E5\"><a href=\"psysml:a7c18d95-cb4e-4d18-b7c9-a948ce4b9e35\" target=\"_top\" title=\"psysml:a7c18d95-cb4e-4d18-b7c9-a948ce4b9e35\" xlink:actuate=\"onRequest\" xlink:href=\"psysml:a7c18d95-cb4e-4d18-b7c9-a948ce4b9e35\" xlink:show=\"new\" xlink:title=\"psysml:a7c18d95-cb4e-4d18-b7c9-a948ce4b9e35\" xlink:type=\"simple\"><rect fill=\"#FFFFFF\" height=\"42.9375\" id=\"E5\" rx=\"10\" ry=\"10\" style=\"stroke: #383838; stroke-width: 1.5;\" width=\"60\" x=\"135\" y=\"418\"/><rect fill=\"#F8F8F8\" height=\"37.9375\" rx=\"10\" ry=\"10\" style=\"stroke: #F8F8F8; stroke-width: 1.5;\" width=\"60\" x=\"135\" y=\"418\"/><rect fill=\"#F8F8F8\" height=\"10\" style=\"stroke: #F8F8F8; stroke-width: 1.5;\" width=\"60\" x=\"135\" y=\"445.9375\"/><rect fill=\"none\" height=\"42.9375\" id=\"E5\" rx=\"10\" ry=\"10\" style=\"stroke: #383838; stroke-width: 1.5;\" width=\"60\" x=\"135\" y=\"418\"/><text fill=\"#000000\" font-family=\"sans-serif\" font-size=\"12\" font-style=\"italic\" lengthAdjust=\"spacingAndGlyphs\" textLength=\"53\" x=\"138.5\" y=\"434.1387\">«action»</text><text fill=\"#000000\" font-family=\"sans-serif\" font-size=\"12\" lengthAdjust=\"spacingAndGlyphs\" textLength=\"16\" x=\"157\" y=\"448.1074\">A2</text></a></g><g id=\"E1.E6\"><a href=\"psysml:6ad7aed3-e22d-47c2-b6cf-45fd0f629de6\" target=\"_top\" title=\"psysml:6ad7aed3-e22d-47c2-b6cf-45fd0f629de6\" xlink:actuate=\"onRequest\" xlink:href=\"psysml:6ad7aed3-e22d-47c2-b6cf-45fd0f629de6\" xlink:show=\"new\" xlink:title=\"psysml:6ad7aed3-e22d-47c2-b6cf-45fd0f629de6\" xlink:type=\"simple\"><rect fill=\"#FFFFFF\" height=\"42.9375\" id=\"E6\" rx=\"10\" ry=\"10\" style=\"stroke: #383838; stroke-width: 1.5;\" width=\"60\" x=\"63\" y=\"58\"/><rect fill=\"#F8F8F8\" height=\"37.9375\" rx=\"10\" ry=\"10\" style=\"stroke: #F8F8F8; stroke-width: 1.5;\" width=\"60\" x=\"63\" y=\"58\"/><rect fill=\"#F8F8F8\" height=\"10\" style=\"stroke: #F8F8F8; stroke-width: 1.5;\" width=\"60\" x=\"63\" y=\"85.9375\"/><rect fill=\"none\" height=\"42.9375\" id=\"E6\" rx=\"10\" ry=\"10\" style=\"stroke: #383838; stroke-width: 1.5;\" width=\"60\" x=\"63\" y=\"58\"/><text fill=\"#000000\" font-family=\"sans-serif\" font-size=\"12\" font-style=\"italic\" lengthAdjust=\"spacingAndGlyphs\" textLength=\"53\" x=\"66.5\" y=\"74.1387\">«action»</text><text fill=\"#000000\" font-family=\"sans-serif\" font-size=\"12\" lengthAdjust=\"spacingAndGlyphs\" textLength=\"16\" x=\"85\" y=\"88.1074\">A3</text></a></g><g id=\"E1.E7\"><a href=\"psysml:6ad7aed3-e22d-47c2-b6cf-45fd0f629de6\" target=\"_top\" title=\"psysml:6ad7aed3-e22d-47c2-b6cf-45fd0f629de6\" xlink:actuate=\"onRequest\" xlink:href=\"psysml:6ad7aed3-e22d-47c2-b6cf-45fd0f629de6\" xlink:show=\"new\" xlink:title=\"psysml:6ad7aed3-e22d-47c2-b6cf-45fd0f629de6\" xlink:type=\"simple\"><rect fill=\"#FFFFFF\" height=\"42.9375\" id=\"E7\" rx=\"10\" ry=\"10\" style=\"stroke: #383838; stroke-width: 1.5;\" width=\"60\" x=\"246\" y=\"178\"/><rect fill=\"#F8F8F8\" height=\"37.9375\" rx=\"10\" ry=\"10\" style=\"stroke: #F8F8F8; stroke-width: 1.5;\" width=\"60\" x=\"246\" y=\"178\"/><rect fill=\"#F8F8F8\" height=\"10\" style=\"stroke: #F8F8F8; stroke-width: 1.5;\" width=\"60\" x=\"246\" y=\"205.9375\"/><rect fill=\"none\" height=\"42.9375\" id=\"E7\" rx=\"10\" ry=\"10\" style=\"stroke: #383838; stroke-width: 1.5;\" width=\"60\" x=\"246\" y=\"178\"/><text fill=\"#000000\" font-family=\"sans-serif\" font-size=\"12\" font-style=\"italic\" lengthAdjust=\"spacingAndGlyphs\" textLength=\"53\" x=\"249.5\" y=\"194.1387\">«action»</text><text fill=\"#000000\" font-family=\"sans-serif\" font-size=\"12\" lengthAdjust=\"spacingAndGlyphs\" textLength=\"16\" x=\"268\" y=\"208.1074\">A3</text></a></g><!--MD5=[4d03bb2d0377dc85ccfab60ff574652b]\n",
       "link E2 to E4--><a href=\"psysml:07a447fb-7978-4e35-9306-ac5ec116db5d\" target=\"_top\" title=\"psysml:07a447fb-7978-4e35-9306-ac5ec116db5d\" xlink:actuate=\"onRequest\" xlink:href=\"psysml:07a447fb-7978-4e35-9306-ac5ec116db5d\" xlink:show=\"new\" xlink:title=\"psysml:07a447fb-7978-4e35-9306-ac5ec116db5d\" xlink:type=\"simple\"><path d=\"M205.46,87.2 C190.55,109.23 144,178 144,178 C144,178 144,221 144,221 C144,221 153.2,263.72 159.42,292.6 \" fill=\"none\" id=\"E2-&gt;E4\" style=\"stroke: #383838; stroke-width: 1.0;\"/><polygon fill=\"#383838\" points=\"160.55,297.82,162.5831,288.1833,159.5063,292.9302,154.7594,289.8533,160.55,297.82\" style=\"stroke: #383838; stroke-width: 1.0;\"/><text fill=\"#000000\" font-family=\"sans-serif\" font-size=\"13\" lengthAdjust=\"spacingAndGlyphs\" textLength=\"55\" x=\"145\" y=\"204.0669\">[x == 1]</text><text fill=\"#000000\" font-family=\"sans-serif\" font-size=\"13\" lengthAdjust=\"spacingAndGlyphs\" textLength=\"7\" x=\"151.4134\" y=\"287.071\">*</text></a><!--MD5=[dcad52bbbca2fe8adc741ce38b45dc12]\n",
       "link E2 to E5--><a href=\"psysml:f195b54a-5fed-403e-bb02-20f21e154f17\" target=\"_top\" title=\"psysml:f195b54a-5fed-403e-bb02-20f21e154f17\" xlink:actuate=\"onRequest\" xlink:href=\"psysml:f195b54a-5fed-403e-bb02-20f21e154f17\" xlink:show=\"new\" xlink:title=\"psysml:f195b54a-5fed-403e-bb02-20f21e154f17\" xlink:type=\"simple\"><path d=\"M210.59,91.18 C213.48,143.59 226,371 226,371 C226,371 226,388 226,388 C226,388 209.6,401.58 193.8,414.65 \" fill=\"none\" id=\"E2-&gt;E5\" style=\"stroke: #383838; stroke-width: 1.0;\"/><polygon fill=\"#383838\" points=\"189.81,417.96,199.2964,415.3128,193.6651,414.776,194.202,409.1446,189.81,417.96\" style=\"stroke: #383838; stroke-width: 1.0;\"/><text fill=\"#000000\" font-family=\"sans-serif\" font-size=\"13\" lengthAdjust=\"spacingAndGlyphs\" textLength=\"44\" x=\"221\" y=\"264.0669\">[x &gt; 1]</text><text fill=\"#000000\" font-family=\"sans-serif\" font-size=\"13\" lengthAdjust=\"spacingAndGlyphs\" textLength=\"7\" x=\"188.8034\" y=\"406.8869\">*</text></a><!--MD5=[e3d2a08a9c9236652057e8ed0cbc9b62]\n",
       "link E2 to E7--><a href=\"psysml:15c91a99-d9b4-4320-8388-ef3655122685\" target=\"_top\" title=\"psysml:15c91a99-d9b4-4320-8388-ef3655122685\" xlink:actuate=\"onRequest\" xlink:href=\"psysml:15c91a99-d9b4-4320-8388-ef3655122685\" xlink:show=\"new\" xlink:title=\"psysml:15c91a99-d9b4-4320-8388-ef3655122685\" xlink:type=\"simple\"><path d=\"M211.81,89.89 C215.38,108.43 223,148 223,148 C223,148 237.01,161.35 250.63,174.32 \" fill=\"none\" id=\"E2-&gt;E7\" style=\"stroke: #383838; stroke-width: 1.0;\"/><polygon fill=\"#383838\" points=\"254.44,177.96,250.6644,168.8636,250.8129,174.5185,245.158,174.667,254.44,177.96\" style=\"stroke: #383838; stroke-width: 1.0;\"/><text fill=\"#000000\" font-family=\"sans-serif\" font-size=\"13\" lengthAdjust=\"spacingAndGlyphs\" textLength=\"7\" x=\"240.3919\" y=\"166.8869\">*</text></a><!--MD5=[583832df87f4419a098336a29a52fa00]\n",
       "link E7 to E2--><a href=\"psysml:c19c71e4-b628-4c9d-aa87-db03cc189a8f\" target=\"_top\" title=\"psysml:c19c71e4-b628-4c9d-aa87-db03cc189a8f\" xlink:actuate=\"onRequest\" xlink:href=\"psysml:c19c71e4-b628-4c9d-aa87-db03cc189a8f\" xlink:show=\"new\" xlink:title=\"psysml:c19c71e4-b628-4c9d-aa87-db03cc189a8f\" xlink:type=\"simple\"><path d=\"M264.3,177.59 C250.41,152.74 227.7,112.15 216.57,92.25 \" fill=\"none\" id=\"E7-&gt;E2\" style=\"stroke: #383838; stroke-width: 1.0;\"/><polygon fill=\"#383838\" points=\"214.13,87.88,215.0286,97.6878,216.5691,92.2447,222.0122,93.7852,214.13,87.88\" style=\"stroke: #383838; stroke-width: 1.0;\"/><text fill=\"#000000\" font-family=\"sans-serif\" font-size=\"13\" lengthAdjust=\"spacingAndGlyphs\" textLength=\"44\" x=\"247\" y=\"144.0669\">[x &gt; 0]</text><text fill=\"#000000\" font-family=\"sans-serif\" font-size=\"13\" lengthAdjust=\"spacingAndGlyphs\" textLength=\"7\" x=\"207.5946\" y=\"111.7074\">*</text></a><!--MD5=[2720a5a1f2c3fca2055b230370638851]\n",
       "link E2 to E3--><a href=\"psysml:6d6473c9-743e-4105-a2af-98d6bd8c1632\" target=\"_top\" title=\"psysml:6d6473c9-743e-4105-a2af-98d6bd8c1632\" xlink:actuate=\"onRequest\" xlink:href=\"psysml:6d6473c9-743e-4105-a2af-98d6bd8c1632\" xlink:show=\"new\" xlink:title=\"psysml:6d6473c9-743e-4105-a2af-98d6bd8c1632\" xlink:type=\"simple\"><path d=\"M202.33,84.3 C178.61,96.04 108,131 108,131 C108,131 64.37,171.35 44.57,189.65 \" fill=\"none\" id=\"E2-&gt;E3\" style=\"stroke: #383838; stroke-width: 1.0;\"/><polygon fill=\"#383838\" points=\"40.73,193.2,50.0512,190.0196,44.3985,189.8027,44.6155,184.15,40.73,193.2\" style=\"stroke: #383838; stroke-width: 1.0;\"/><text fill=\"#000000\" font-family=\"sans-serif\" font-size=\"13\" lengthAdjust=\"spacingAndGlyphs\" textLength=\"7\" x=\"50.1907\" y=\"176.19\">*</text></a><!--MD5=[af87c684e3b0d8be13c1a698a818ef1e]\n",
       "link E3 to E4--><a href=\"psysml:4dd56774-018b-4c8a-8121-2b3d6a9c557c\" target=\"_top\" title=\"psysml:4dd56774-018b-4c8a-8121-2b3d6a9c557c\" xlink:actuate=\"onRequest\" xlink:href=\"psysml:4dd56774-018b-4c8a-8121-2b3d6a9c557c\" xlink:show=\"new\" xlink:title=\"psysml:4dd56774-018b-4c8a-8121-2b3d6a9c557c\" xlink:type=\"simple\"><path d=\"M39.7,206.97 C51.96,223.87 84,268 84,268 C84,268 108.44,283.24 130.47,296.97 \" fill=\"none\" id=\"E3-&gt;E4\" style=\"stroke: #383838; stroke-width: 1.0;\"/><polygon fill=\"#383838\" points=\"134.84,299.7,129.3157,291.5464,130.596,297.0564,125.0859,298.3368,134.84,299.7\" style=\"stroke: #383838; stroke-width: 1.0;\"/><text fill=\"#000000\" font-family=\"sans-serif\" font-size=\"13\" lengthAdjust=\"spacingAndGlyphs\" textLength=\"36\" x=\"85\" y=\"264.0669\">[true]</text><text fill=\"#000000\" font-family=\"sans-serif\" font-size=\"13\" lengthAdjust=\"spacingAndGlyphs\" textLength=\"7\" x=\"120.0561\" y=\"290.4764\">*</text></a><!--MD5=[0188b64bb0ae78505a997a81836e11e9]\n",
       "link E3 to E5--><a href=\"psysml:2f25c912-d622-4deb-be6f-2375e7caca37\" target=\"_top\" title=\"psysml:2f25c912-d622-4deb-be6f-2375e7caca37\" xlink:actuate=\"onRequest\" xlink:href=\"psysml:2f25c912-d622-4deb-be6f-2375e7caca37\" xlink:show=\"new\" xlink:title=\"psysml:2f25c912-d622-4deb-be6f-2375e7caca37\" xlink:type=\"simple\"><path d=\"M37.56,209.29 C46.54,240.05 76,341 76,341 C76,341 116.3,385.15 142.66,414.03 \" fill=\"none\" id=\"E3-&gt;E5\" style=\"stroke: #383838; stroke-width: 1.0;\"/><polygon fill=\"#383838\" points=\"146.13,417.82,143.0249,408.4734,142.7624,414.1242,137.1116,413.8616,146.13,417.82\" style=\"stroke: #383838; stroke-width: 1.0;\"/><text fill=\"#000000\" font-family=\"sans-serif\" font-size=\"13\" lengthAdjust=\"spacingAndGlyphs\" textLength=\"40\" x=\"77\" y=\"324.0669\">[false]</text><text fill=\"#000000\" font-family=\"sans-serif\" font-size=\"13\" lengthAdjust=\"spacingAndGlyphs\" textLength=\"7\" x=\"133.1181\" y=\"407.071\">*</text></a><!--MD5=[1b7591eae5389033d8d09a9d6721a717]\n",
       "link E4 to E5--><a href=\"psysml:19ac739f-970e-4750-a1cd-14a3501dcfff\" target=\"_top\" title=\"psysml:19ac739f-970e-4750-a1cd-14a3501dcfff\" xlink:actuate=\"onRequest\" xlink:href=\"psysml:19ac739f-970e-4750-a1cd-14a3501dcfff\" xlink:show=\"new\" xlink:title=\"psysml:19ac739f-970e-4750-a1cd-14a3501dcfff\" xlink:type=\"simple\"><path d=\"M165,341.05 C165,360.9 165,391.02 165,412.52 \" fill=\"none\" id=\"E4-&gt;E5\" style=\"stroke: #383838; stroke-width: 1.0;\"/><polygon fill=\"#383838\" points=\"165,417.79,169,408.79,165,412.79,161,408.79,165,417.79\" style=\"stroke: #383838; stroke-width: 1.0;\"/><text fill=\"#000000\" font-family=\"sans-serif\" font-size=\"13\" lengthAdjust=\"spacingAndGlyphs\" textLength=\"55\" x=\"166\" y=\"384.0669\">[x == 0]</text><text fill=\"#000000\" font-family=\"sans-serif\" font-size=\"13\" lengthAdjust=\"spacingAndGlyphs\" textLength=\"7\" x=\"157.0594\" y=\"407.033\">*</text></a><!--MD5=[396e26832c10a20242d4930b21a8a520]\n",
       "@startuml\r\n",
       "skinparam linetype polyline\r\n",
       "skinparam monochrome true\r\n",
       "skinparam classbackgroundcolor white\r\n",
       "skinparam shadowing false\r\n",
       "skinparam wrapWidth 300\r\n",
       "hide circle\r\n",
       "\r\n",
       "rec def \"DecisionTest\" as E1  <<(T,blue) action def>> [[psysml:ec9d2101-14b6-425a-8b3b-258973824e57 ]] {\r\n",
       "choice \"test x\" as E2  [[psysml:7b5c557c-0eca-43da-893a-884adf177ee9 ]] \r\n",
       "choice \"<s>noname</s>\" as E3  [[psysml:c8637911-bdae-488c-9ae7-71f0e05f074a ]] \r\n",
       "rec usage \"A1\" as E4  <<(T,blue) action>> [[psysml:2b21def1-54fd-4014-8db4-beef5c1da0f0 ]] {\r\n",
       "}\r\n",
       "\r\n",
       "rec usage \"A2\" as E5  <<(T,blue) action>> [[psysml:a7c18d95-cb4e-4d18-b7c9-a948ce4b9e35 ]] {\r\n",
       "}\r\n",
       "\r\n",
       "rec usage \"A3\" as E6  <<(T,blue) action>> [[psysml:6ad7aed3-e22d-47c2-b6cf-45fd0f629de6 ]] {\r\n",
       "}\r\n",
       "\r\n",
       "rec usage \"A3\" as E7  <<(T,blue) action>> [[psysml:6ad7aed3-e22d-47c2-b6cf-45fd0f629de6 ]] {\r\n",
       "}\r\n",
       "\r\n",
       "}\r\n",
       "\r\n",
       "E2  - -> \"*\"E4 [[psysml:07a447fb-7978-4e35-9306-ac5ec116db5d ]] : [x == 1]\r\n",
       "E2  - -> \"*\"E5 [[psysml:f195b54a-5fed-403e-bb02-20f21e154f17 ]] : [x > 1]\r\n",
       "E2  - -> \"*\"E7 [[psysml:15c91a99-d9b4-4320-8388-ef3655122685 ]] \r\n",
       "E2 - -> \"*\"E3 [[psysml:6d6473c9-743e-4105-a2af-98d6bd8c1632 ]] \r\n",
       "E3  - -> \"*\"E4 [[psysml:4dd56774-018b-4c8a-8121-2b3d6a9c557c ]] : [true]\r\n",
       "E3  - -> \"*\"E5 [[psysml:2f25c912-d622-4deb-be6f-2375e7caca37 ]] : [false]\r\n",
       "E4  - -> \"*\"E5 [[psysml:19ac739f-970e-4750-a1cd-14a3501dcfff ]] : [x == 0]\r\n",
       "E7  - -> \"*\"E2 [[psysml:c19c71e4-b628-4c9d-aa87-db03cc189a8f ]] : [x > 0]\r\n",
       "@enduml\r\n",
       "\n",
       "PlantUML version 1.2020.13(Sat Jun 13 12:26:38 UTC 2020)\n",
       "(EPL source distribution)\n",
       "Java Runtime: OpenJDK Runtime Environment\n",
       "JVM: OpenJDK 64-Bit Server VM\n",
       "Default Encoding: UTF-8\n",
       "Language: en\n",
       "Country: null\n",
       "--></g></svg>"
      ]
     },
     "execution_count": 9,
     "metadata": {},
     "output_type": "execute_result"
    }
   ],
   "source": [
    "%viz --style=\"POLYLINE\" --view=\"Default\" \"DecisionTest\""
   ]
  },
  {
   "cell_type": "code",
   "execution_count": 10,
   "id": "c50acde9",
   "metadata": {
    "execution": {
     "iopub.execute_input": "2021-10-03T08:29:00.509445Z",
     "iopub.status.busy": "2021-10-03T08:29:00.509042Z",
     "iopub.status.idle": "2021-10-03T08:29:00.583647Z",
     "shell.execute_reply": "2021-10-03T08:29:00.583283Z"
    }
   },
   "outputs": [
    {
     "data": {
      "image/svg+xml": [
       "<?xml version=\"1.0\" encoding=\"UTF-8\" standalone=\"no\"?><svg xmlns=\"http://www.w3.org/2000/svg\" xmlns:xlink=\"http://www.w3.org/1999/xlink\" contentScriptType=\"application/ecmascript\" contentStyleType=\"text/css\" height=\"228px\" preserveAspectRatio=\"none\" style=\"width:525px;height:228px;\" version=\"1.1\" viewBox=\"0 0 525 228\" width=\"525px\" zoomAndPan=\"magnify\"><defs/><g><!--MD5=[43c9051892ef23e1a46a86907403d788]\n",
       "class E1--><a href=\"psysml:ec9d2101-14b6-425a-8b3b-258973824e57\" target=\"_top\" title=\"psysml:ec9d2101-14b6-425a-8b3b-258973824e57\" xlink:actuate=\"onRequest\" xlink:href=\"psysml:ec9d2101-14b6-425a-8b3b-258973824e57\" xlink:show=\"new\" xlink:title=\"psysml:ec9d2101-14b6-425a-8b3b-258973824e57\" xlink:type=\"simple\"><rect fill=\"#FFFFFF\" height=\"105.1563\" id=\"E1\" style=\"stroke: #383838; stroke-width: 1.5;\" width=\"86\" x=\"308.5\" y=\"7\"/><text fill=\"#000000\" font-family=\"sans-serif\" font-size=\"12\" font-style=\"italic\" lengthAdjust=\"spacingAndGlyphs\" textLength=\"77\" x=\"313\" y=\"23.1387\">«action def»</text><text fill=\"#000000\" font-family=\"sans-serif\" font-size=\"12\" lengthAdjust=\"spacingAndGlyphs\" textLength=\"80\" x=\"311.5\" y=\"37.1074\">DecisionTest</text><line style=\"stroke: #383838; stroke-width: 1.5;\" x1=\"309.5\" x2=\"393.5\" y1=\"44.9375\" y2=\"44.9375\"/><text fill=\"#000000\" font-family=\"sans-serif\" font-size=\"11\" lengthAdjust=\"spacingAndGlyphs\" textLength=\"30\" x=\"314.5\" y=\"75.9526\">x= 1;</text><line style=\"stroke: #383838; stroke-width: 1.0;\" x1=\"309.5\" x2=\"324\" y1=\"59.3398\" y2=\"59.3398\"/><text fill=\"#000000\" font-family=\"sans-serif\" font-size=\"11\" lengthAdjust=\"spacingAndGlyphs\" textLength=\"55\" x=\"324\" y=\"62.6479\">attributes</text><line style=\"stroke: #383838; stroke-width: 1.0;\" x1=\"379\" x2=\"393.5\" y1=\"59.3398\" y2=\"59.3398\"/><text fill=\"#000000\" font-family=\"sans-serif\" font-size=\"11\" lengthAdjust=\"spacingAndGlyphs\" textLength=\"8\" x=\"314.5\" y=\"105.562\">S</text><line style=\"stroke: #383838; stroke-width: 1.0;\" x1=\"309.5\" x2=\"321\" y1=\"88.9492\" y2=\"88.9492\"/><text fill=\"#000000\" font-family=\"sans-serif\" font-size=\"11\" lengthAdjust=\"spacingAndGlyphs\" textLength=\"61\" x=\"321\" y=\"92.2573\">transitions</text><line style=\"stroke: #383838; stroke-width: 1.0;\" x1=\"382\" x2=\"393.5\" y1=\"88.9492\" y2=\"88.9492\"/></a><!--MD5=[b4997ac47864f28c2f74865a473b2911]\n",
       "class E2--><a href=\"psysml:7b5c557c-0eca-43da-893a-884adf177ee9\" target=\"_top\" title=\"psysml:7b5c557c-0eca-43da-893a-884adf177ee9\" xlink:actuate=\"onRequest\" xlink:href=\"psysml:7b5c557c-0eca-43da-893a-884adf177ee9\" xlink:show=\"new\" xlink:title=\"psysml:7b5c557c-0eca-43da-893a-884adf177ee9\" xlink:type=\"simple\"><rect fill=\"#FFFFFF\" height=\"45.9375\" id=\"E2\" rx=\"10\" ry=\"10\" style=\"stroke: #383838; stroke-width: 1.5;\" width=\"101\" x=\"7\" y=\"172\"/><text fill=\"#000000\" font-family=\"sans-serif\" font-size=\"12\" font-style=\"italic\" lengthAdjust=\"spacingAndGlyphs\" textLength=\"99\" x=\"8\" y=\"188.1387\">«decisionNode»</text><text fill=\"#000000\" font-family=\"sans-serif\" font-size=\"12\" lengthAdjust=\"spacingAndGlyphs\" textLength=\"35\" x=\"40\" y=\"202.1074\">test x</text><line style=\"stroke: #383838; stroke-width: 1.5;\" x1=\"8\" x2=\"107\" y1=\"209.9375\" y2=\"209.9375\"/></a><!--MD5=[09b614a08d8cba4a07c9adeb5e0fee81]\n",
       "class E3--><a href=\"psysml:c8637911-bdae-488c-9ae7-71f0e05f074a\" target=\"_top\" title=\"psysml:c8637911-bdae-488c-9ae7-71f0e05f074a\" xlink:actuate=\"onRequest\" xlink:href=\"psysml:c8637911-bdae-488c-9ae7-71f0e05f074a\" xlink:show=\"new\" xlink:title=\"psysml:c8637911-bdae-488c-9ae7-71f0e05f074a\" xlink:type=\"simple\"><rect fill=\"#FFFFFF\" height=\"45.9375\" id=\"E3\" rx=\"10\" ry=\"10\" style=\"stroke: #383838; stroke-width: 1.5;\" width=\"101\" x=\"143\" y=\"172\"/><text fill=\"#000000\" font-family=\"sans-serif\" font-size=\"12\" font-style=\"italic\" lengthAdjust=\"spacingAndGlyphs\" textLength=\"99\" x=\"144\" y=\"188.1387\">«decisionNode»</text><text fill=\"#000000\" font-family=\"sans-serif\" font-size=\"12\" lengthAdjust=\"spacingAndGlyphs\" text-decoration=\"line-through\" textLength=\"51\" x=\"168\" y=\"202.1074\">noname</text><line style=\"stroke: #383838; stroke-width: 1.5;\" x1=\"144\" x2=\"243\" y1=\"209.9375\" y2=\"209.9375\"/></a><!--MD5=[ebbe1d658d1005bcc118a6aa81145e00]\n",
       "class E4--><a href=\"psysml:2b21def1-54fd-4014-8db4-beef5c1da0f0\" target=\"_top\" title=\"psysml:2b21def1-54fd-4014-8db4-beef5c1da0f0\" xlink:actuate=\"onRequest\" xlink:href=\"psysml:2b21def1-54fd-4014-8db4-beef5c1da0f0\" xlink:show=\"new\" xlink:title=\"psysml:2b21def1-54fd-4014-8db4-beef5c1da0f0\" xlink:type=\"simple\"><rect fill=\"#FFFFFF\" height=\"45.9375\" id=\"E4\" rx=\"10\" ry=\"10\" style=\"stroke: #383838; stroke-width: 1.5;\" width=\"55\" x=\"279\" y=\"172\"/><text fill=\"#000000\" font-family=\"sans-serif\" font-size=\"12\" font-style=\"italic\" lengthAdjust=\"spacingAndGlyphs\" textLength=\"53\" x=\"280\" y=\"188.1387\">«action»</text><text fill=\"#000000\" font-family=\"sans-serif\" font-size=\"12\" lengthAdjust=\"spacingAndGlyphs\" textLength=\"16\" x=\"298.5\" y=\"202.1074\">A1</text><line style=\"stroke: #383838; stroke-width: 1.5;\" x1=\"280\" x2=\"333\" y1=\"209.9375\" y2=\"209.9375\"/></a><!--MD5=[270fce915f116d4de14055a7c1d9a0f3]\n",
       "class E5--><a href=\"psysml:a7c18d95-cb4e-4d18-b7c9-a948ce4b9e35\" target=\"_top\" title=\"psysml:a7c18d95-cb4e-4d18-b7c9-a948ce4b9e35\" xlink:actuate=\"onRequest\" xlink:href=\"psysml:a7c18d95-cb4e-4d18-b7c9-a948ce4b9e35\" xlink:show=\"new\" xlink:title=\"psysml:a7c18d95-cb4e-4d18-b7c9-a948ce4b9e35\" xlink:type=\"simple\"><rect fill=\"#FFFFFF\" height=\"45.9375\" id=\"E5\" rx=\"10\" ry=\"10\" style=\"stroke: #383838; stroke-width: 1.5;\" width=\"55\" x=\"369\" y=\"172\"/><text fill=\"#000000\" font-family=\"sans-serif\" font-size=\"12\" font-style=\"italic\" lengthAdjust=\"spacingAndGlyphs\" textLength=\"53\" x=\"370\" y=\"188.1387\">«action»</text><text fill=\"#000000\" font-family=\"sans-serif\" font-size=\"12\" lengthAdjust=\"spacingAndGlyphs\" textLength=\"16\" x=\"388.5\" y=\"202.1074\">A2</text><line style=\"stroke: #383838; stroke-width: 1.5;\" x1=\"370\" x2=\"423\" y1=\"209.9375\" y2=\"209.9375\"/></a><!--MD5=[60a26617385b1d2d0262a64233df1f8d]\n",
       "class E6--><a href=\"psysml:6ad7aed3-e22d-47c2-b6cf-45fd0f629de6\" target=\"_top\" title=\"psysml:6ad7aed3-e22d-47c2-b6cf-45fd0f629de6\" xlink:actuate=\"onRequest\" xlink:href=\"psysml:6ad7aed3-e22d-47c2-b6cf-45fd0f629de6\" xlink:show=\"new\" xlink:title=\"psysml:6ad7aed3-e22d-47c2-b6cf-45fd0f629de6\" xlink:type=\"simple\"><rect fill=\"#FFFFFF\" height=\"45.9375\" id=\"E6\" rx=\"10\" ry=\"10\" style=\"stroke: #383838; stroke-width: 1.5;\" width=\"55\" x=\"459\" y=\"172\"/><text fill=\"#000000\" font-family=\"sans-serif\" font-size=\"12\" font-style=\"italic\" lengthAdjust=\"spacingAndGlyphs\" textLength=\"53\" x=\"460\" y=\"188.1387\">«action»</text><text fill=\"#000000\" font-family=\"sans-serif\" font-size=\"12\" lengthAdjust=\"spacingAndGlyphs\" textLength=\"16\" x=\"478.5\" y=\"202.1074\">A3</text><line style=\"stroke: #383838; stroke-width: 1.5;\" x1=\"460\" x2=\"513\" y1=\"209.9375\" y2=\"209.9375\"/></a><!--MD5=[a523cb2a0b79ecf9065ad8783f96c320]\n",
       "reverse link E1 to E2--><a href=\"psysml:a3cf86ed-3d1a-4135-b385-a97024d6cab4\" target=\"_top\" title=\"psysml:a3cf86ed-3d1a-4135-b385-a97024d6cab4\" xlink:actuate=\"onRequest\" xlink:href=\"psysml:a3cf86ed-3d1a-4135-b385-a97024d6cab4\" xlink:show=\"new\" xlink:title=\"psysml:a3cf86ed-3d1a-4135-b385-a97024d6cab4\" xlink:type=\"simple\"><path d=\"M296.52,85.46 C241.75,110.33 158.47,148.15 106.07,171.95 \" fill=\"none\" id=\"E1&lt;-E2\" style=\"stroke: #383838; stroke-width: 1.0;\"/><polygon fill=\"#383838\" points=\"308.44,80.06,301.323,78.8988,297.5138,85.0217,304.6308,86.1829,308.44,80.06\" style=\"stroke: #383838; stroke-width: 1.0;\"/></a><!--MD5=[5d7b3810b1dd9b5164bea1151b29b665]\n",
       "reverse link E1 to E3--><a href=\"psysml:1909c977-6510-4eff-a578-3c7de40e7c8b\" target=\"_top\" title=\"psysml:1909c977-6510-4eff-a578-3c7de40e7c8b\" xlink:actuate=\"onRequest\" xlink:href=\"psysml:1909c977-6510-4eff-a578-3c7de40e7c8b\" xlink:show=\"new\" xlink:title=\"psysml:1909c977-6510-4eff-a578-3c7de40e7c8b\" xlink:type=\"simple\"><path d=\"M298.08,105.64 C271.7,127.93 241.06,153.82 219.79,171.79 \" fill=\"none\" id=\"E1&lt;-E3\" style=\"stroke: #383838; stroke-width: 1.0;\"/><polygon fill=\"#383838\" points=\"308.33,96.98,301.1646,97.7906,299.1569,104.7165,306.3223,103.906,308.33,96.98\" style=\"stroke: #383838; stroke-width: 1.0;\"/></a><!--MD5=[f2c5c03aa1e8c0ba21c10a05e6444b8e]\n",
       "reverse link E1 to E4--><a href=\"psysml:fda894ee-2ee4-49d0-993e-77e7f0096dce\" target=\"_top\" title=\"psysml:fda894ee-2ee4-49d0-993e-77e7f0096dce\" xlink:actuate=\"onRequest\" xlink:href=\"psysml:fda894ee-2ee4-49d0-993e-77e7f0096dce\" xlink:show=\"new\" xlink:title=\"psysml:fda894ee-2ee4-49d0-993e-77e7f0096dce\" xlink:type=\"simple\"><path d=\"M329.79,124.91 C324.1,141.78 318.35,158.85 313.98,171.8 \" fill=\"none\" id=\"E1&lt;-E4\" style=\"stroke: #383838; stroke-width: 1.0;\"/><polygon fill=\"#383838\" points=\"334.1,112.11,328.391,116.5154,330.2618,123.4796,335.9708,119.0742,334.1,112.11\" style=\"stroke: #383838; stroke-width: 1.0;\"/><text fill=\"#000000\" font-family=\"sans-serif\" font-size=\"13\" lengthAdjust=\"spacingAndGlyphs\" textLength=\"7\" x=\"307.9999\" y=\"161.025\">*</text></a><!--MD5=[33238bef88d6431a141d8bc8fb12bca0]\n",
       "reverse link E1 to E5--><a href=\"psysml:109468b3-506c-4497-b8ac-b8e68c843a0f\" target=\"_top\" title=\"psysml:109468b3-506c-4497-b8ac-b8e68c843a0f\" xlink:actuate=\"onRequest\" xlink:href=\"psysml:109468b3-506c-4497-b8ac-b8e68c843a0f\" xlink:show=\"new\" xlink:title=\"psysml:109468b3-506c-4497-b8ac-b8e68c843a0f\" xlink:type=\"simple\"><path d=\"M373.21,124.91 C378.9,141.78 384.65,158.85 389.02,171.8 \" fill=\"none\" id=\"E1&lt;-E5\" style=\"stroke: #383838; stroke-width: 1.0;\"/><polygon fill=\"#383838\" points=\"368.9,112.11,367.0292,119.0742,372.7382,123.4796,374.609,116.5154,368.9,112.11\" style=\"stroke: #383838; stroke-width: 1.0;\"/><text fill=\"#000000\" font-family=\"sans-serif\" font-size=\"13\" lengthAdjust=\"spacingAndGlyphs\" textLength=\"7\" x=\"379.2064\" y=\"161.025\">*</text></a><!--MD5=[aca2ef284c2b1b90e17e73bf3f292c07]\n",
       "reverse link E1 to E6--><a href=\"psysml:74d19cab-9a73-4108-b783-78a99b82b215\" target=\"_top\" title=\"psysml:74d19cab-9a73-4108-b783-78a99b82b215\" xlink:actuate=\"onRequest\" xlink:href=\"psysml:74d19cab-9a73-4108-b783-78a99b82b215\" xlink:show=\"new\" xlink:title=\"psysml:74d19cab-9a73-4108-b783-78a99b82b215\" xlink:type=\"simple\"><path d=\"M400.61,121.64 C420.11,141.2 441.74,161.41 458.63,175.48 \" fill=\"none\" id=\"E1&lt;-E6\" style=\"stroke: #383838; stroke-width: 1.0;\"/><polygon fill=\"#383838\" points=\"391.24,112.11,392.5992,119.1919,399.659,120.661,398.2999,113.5792,391.24,112.11\" style=\"stroke: #383838; stroke-width: 1.0;\"/><text fill=\"#000000\" font-family=\"sans-serif\" font-size=\"13\" lengthAdjust=\"spacingAndGlyphs\" textLength=\"7\" x=\"443.9836\" y=\"165.9846\">*</text></a><!--MD5=[aca2ef284c2b1b90e17e73bf3f292c07]\n",
       "reverse link E1 to E6--><a href=\"psysml:5ce6f7c0-8ea6-4680-8afe-13e322408ece\" target=\"_top\" title=\"psysml:5ce6f7c0-8ea6-4680-8afe-13e322408ece\" xlink:actuate=\"onRequest\" xlink:href=\"psysml:5ce6f7c0-8ea6-4680-8afe-13e322408ece\" xlink:show=\"new\" xlink:title=\"psysml:5ce6f7c0-8ea6-4680-8afe-13e322408ece\" xlink:type=\"simple\"><path d=\"M406.06,101.99 C431.04,125 458.31,152.7 474.29,171.66 \" fill=\"none\" id=\"E1&lt;-E6-1\" style=\"stroke: #383838; stroke-width: 1.0; stroke-dasharray: 7.0,7.0;\"/><ellipse cx=\"400.7216\" cy=\"97.1681\" fill=\"#FFFFFF\" rx=\"8\" ry=\"8\" style=\"stroke: #383838; stroke-width: 1.0;\"/><line style=\"stroke: #383838; stroke-width: 1.0;\" x1=\"406.6531\" x2=\"394.79\" y1=\"102.5362\" y2=\"91.8\"/><line style=\"stroke: #383838; stroke-width: 1.0;\" x1=\"395.3535\" x2=\"406.0897\" y1=\"103.0997\" y2=\"91.2365\"/><text fill=\"#000000\" font-family=\"sans-serif\" font-size=\"13\" lengthAdjust=\"spacingAndGlyphs\" textLength=\"7\" x=\"463.2643\" y=\"160.8492\">*</text></a><!--MD5=[46fb821c9b3ab4e98a2bec2f724c3d68]\n",
       "@startuml\r\n",
       "skinparam linetype polyline\r\n",
       "skinparam monochrome true\r\n",
       "skinparam classbackgroundcolor white\r\n",
       "skinparam shadowing false\r\n",
       "skinparam wrapWidth 300\r\n",
       "hide circle\r\n",
       "\r\n",
       "comp def \"DecisionTest\" as E1  <<(T,blue) action def>> [[psysml:ec9d2101-14b6-425a-8b3b-258973824e57 ]] {\r\n",
       "- - attributes - -\r\n",
       "x= 1; \r\n",
       "- - transitions - -\r\n",
       "S\r\n",
       "}\r\n",
       "comp usage \"test x\" as E2  <<(T,blue) decisionNode>> [[psysml:7b5c557c-0eca-43da-893a-884adf177ee9 ]] {\r\n",
       "}\r\n",
       "comp usage \"<s>noname</s>\" as E3  <<(T,blue) decisionNode>> [[psysml:c8637911-bdae-488c-9ae7-71f0e05f074a ]] {\r\n",
       "}\r\n",
       "comp usage \"A1\" as E4  <<(T,blue) action>> [[psysml:2b21def1-54fd-4014-8db4-beef5c1da0f0 ]] {\r\n",
       "}\r\n",
       "comp usage \"A2\" as E5  <<(T,blue) action>> [[psysml:a7c18d95-cb4e-4d18-b7c9-a948ce4b9e35 ]] {\r\n",
       "}\r\n",
       "comp usage \"A3\" as E6  <<(T,blue) action>> [[psysml:6ad7aed3-e22d-47c2-b6cf-45fd0f629de6 ]] {\r\n",
       "}\r\n",
       "E1 *- - E2 [[psysml:a3cf86ed-3d1a-4135-b385-a97024d6cab4 ]] \r\n",
       "E1 *- - E3 [[psysml:1909c977-6510-4eff-a578-3c7de40e7c8b ]] \r\n",
       "E1 *- - \"*\"E4 [[psysml:fda894ee-2ee4-49d0-993e-77e7f0096dce ]] \r\n",
       "E1 *- - \"*\"E5 [[psysml:109468b3-506c-4497-b8ac-b8e68c843a0f ]] \r\n",
       "E1 *- - \"*\"E6 [[psysml:74d19cab-9a73-4108-b783-78a99b82b215 ]] \r\n",
       "E1 +.. \"*\"E6 [[psysml:5ce6f7c0-8ea6-4680-8afe-13e322408ece ]] \r\n",
       "@enduml\r\n",
       "\n",
       "PlantUML version 1.2020.13(Sat Jun 13 12:26:38 UTC 2020)\n",
       "(EPL source distribution)\n",
       "Java Runtime: OpenJDK Runtime Environment\n",
       "JVM: OpenJDK 64-Bit Server VM\n",
       "Default Encoding: UTF-8\n",
       "Language: en\n",
       "Country: null\n",
       "--></g></svg>"
      ]
     },
     "execution_count": 10,
     "metadata": {},
     "output_type": "execute_result"
    }
   ],
   "source": [
    "%viz --style=\"POLYLINE\" --view=\"Tree\" \"DecisionTest\""
   ]
  },
  {
   "cell_type": "code",
   "execution_count": 11,
   "id": "26e5cc0d",
   "metadata": {
    "execution": {
     "iopub.execute_input": "2021-10-03T08:29:00.632986Z",
     "iopub.status.busy": "2021-10-03T08:29:00.632588Z",
     "iopub.status.idle": "2021-10-03T08:29:00.639260Z",
     "shell.execute_reply": "2021-10-03T08:29:00.639571Z"
    }
   },
   "outputs": [
    {
     "data": {
      "image/svg+xml": [
       "<?xml version=\"1.0\" encoding=\"UTF-8\" standalone=\"no\"?><svg xmlns=\"http://www.w3.org/2000/svg\" xmlns:xlink=\"http://www.w3.org/1999/xlink\" contentScriptType=\"application/ecmascript\" contentStyleType=\"text/css\" height=\"12px\" preserveAspectRatio=\"none\" style=\"width:12px;height:12px;\" version=\"1.1\" viewBox=\"0 0 12 12\" width=\"12px\" zoomAndPan=\"magnify\"><defs/><g><!--MD5=[896ac0e7a515d8dd7765a661cb4ee08b]\n",
       "@startuml\r\n",
       "skinparam linetype polyline\r\n",
       "skinparam monochrome true\r\n",
       "skinparam classbackgroundcolor white\r\n",
       "skinparam shadowing false\r\n",
       "skinparam wrapWidth 300\r\n",
       "hide circle\r\n",
       "\r\n",
       "@enduml\r\n",
       "\n",
       "PlantUML version 1.2020.13(Sat Jun 13 12:26:38 UTC 2020)\n",
       "(EPL source distribution)\n",
       "Java Runtime: OpenJDK Runtime Environment\n",
       "JVM: OpenJDK 64-Bit Server VM\n",
       "Default Encoding: UTF-8\n",
       "Language: en\n",
       "Country: null\n",
       "--></g></svg>"
      ]
     },
     "execution_count": 11,
     "metadata": {},
     "output_type": "execute_result"
    }
   ],
   "source": [
    "%viz --style=\"POLYLINE\" --view=\"State\" \"DecisionTest\""
   ]
  },
  {
   "cell_type": "code",
   "execution_count": 12,
   "id": "7765afa4",
   "metadata": {
    "execution": {
     "iopub.execute_input": "2021-10-03T08:29:00.689597Z",
     "iopub.status.busy": "2021-10-03T08:29:00.689195Z",
     "iopub.status.idle": "2021-10-03T08:29:00.736647Z",
     "shell.execute_reply": "2021-10-03T08:29:00.736306Z"
    }
   },
   "outputs": [
    {
     "data": {
      "image/svg+xml": [
       "<?xml version=\"1.0\" encoding=\"UTF-8\" standalone=\"no\"?><svg xmlns=\"http://www.w3.org/2000/svg\" xmlns:xlink=\"http://www.w3.org/1999/xlink\" contentScriptType=\"application/ecmascript\" contentStyleType=\"text/css\" height=\"356px\" preserveAspectRatio=\"none\" style=\"width:333px;height:356px;\" version=\"1.1\" viewBox=\"0 0 333 356\" width=\"333px\" zoomAndPan=\"magnify\"><defs/><g><!--MD5=[fbc87193dbaf4d95561dea2c320d4a47]\n",
       "cluster E1--><a href=\"psysml:ec9d2101-14b6-425a-8b3b-258973824e57\" target=\"_top\" title=\"psysml:ec9d2101-14b6-425a-8b3b-258973824e57\" xlink:actuate=\"onRequest\" xlink:href=\"psysml:ec9d2101-14b6-425a-8b3b-258973824e57\" xlink:show=\"new\" xlink:title=\"psysml:ec9d2101-14b6-425a-8b3b-258973824e57\" xlink:type=\"simple\"><rect fill=\"#FFFFFF\" height=\"338\" id=\"E1\" style=\"stroke: #383838; stroke-width: 1.5;\" width=\"315\" x=\"7\" y=\"7\"/><rect fill=\"#F8F8F8\" height=\"37.9375\" style=\"stroke: #383838; stroke-width: 1.5;\" width=\"315\" x=\"7\" y=\"7\"/><text fill=\"#000000\" font-family=\"sans-serif\" font-size=\"12\" font-style=\"italic\" lengthAdjust=\"spacingAndGlyphs\" textLength=\"77\" x=\"126\" y=\"23.1387\">«action def»</text><text fill=\"#000000\" font-family=\"sans-serif\" font-size=\"12\" lengthAdjust=\"spacingAndGlyphs\" textLength=\"80\" x=\"124.5\" y=\"37.1074\">DecisionTest</text></a><polygon fill=\"#F8F8F8\" points=\"210,67.5,222,79.5,210,91.5,198,79.5,210,67.5\" style=\"stroke: #383838; stroke-width: 1.5;\"/><polygon fill=\"#F8F8F8\" points=\"35,143.5,47,155.5,35,167.5,23,155.5,35,143.5\" style=\"stroke: #383838; stroke-width: 1.5;\"/><g id=\"E1.E4\"><a href=\"psysml:2b21def1-54fd-4014-8db4-beef5c1da0f0\" target=\"_top\" title=\"psysml:2b21def1-54fd-4014-8db4-beef5c1da0f0\" xlink:actuate=\"onRequest\" xlink:href=\"psysml:2b21def1-54fd-4014-8db4-beef5c1da0f0\" xlink:show=\"new\" xlink:title=\"psysml:2b21def1-54fd-4014-8db4-beef5c1da0f0\" xlink:type=\"simple\"><rect fill=\"#FFFFFF\" height=\"42.9375\" id=\"E4\" rx=\"10\" ry=\"10\" style=\"stroke: #383838; stroke-width: 1.5;\" width=\"60\" x=\"135\" y=\"210\"/><rect fill=\"#F8F8F8\" height=\"37.9375\" rx=\"10\" ry=\"10\" style=\"stroke: #F8F8F8; stroke-width: 1.5;\" width=\"60\" x=\"135\" y=\"210\"/><rect fill=\"#F8F8F8\" height=\"10\" style=\"stroke: #F8F8F8; stroke-width: 1.5;\" width=\"60\" x=\"135\" y=\"237.9375\"/><rect fill=\"none\" height=\"42.9375\" id=\"E4\" rx=\"10\" ry=\"10\" style=\"stroke: #383838; stroke-width: 1.5;\" width=\"60\" x=\"135\" y=\"210\"/><text fill=\"#000000\" font-family=\"sans-serif\" font-size=\"12\" font-style=\"italic\" lengthAdjust=\"spacingAndGlyphs\" textLength=\"53\" x=\"138.5\" y=\"226.1387\">«action»</text><text fill=\"#000000\" font-family=\"sans-serif\" font-size=\"12\" lengthAdjust=\"spacingAndGlyphs\" textLength=\"16\" x=\"157\" y=\"240.1074\">A1</text></a></g><g id=\"E1.E5\"><a href=\"psysml:a7c18d95-cb4e-4d18-b7c9-a948ce4b9e35\" target=\"_top\" title=\"psysml:a7c18d95-cb4e-4d18-b7c9-a948ce4b9e35\" xlink:actuate=\"onRequest\" xlink:href=\"psysml:a7c18d95-cb4e-4d18-b7c9-a948ce4b9e35\" xlink:show=\"new\" xlink:title=\"psysml:a7c18d95-cb4e-4d18-b7c9-a948ce4b9e35\" xlink:type=\"simple\"><rect fill=\"#FFFFFF\" height=\"42.9375\" id=\"E5\" rx=\"10\" ry=\"10\" style=\"stroke: #383838; stroke-width: 1.5;\" width=\"60\" x=\"135\" y=\"286\"/><rect fill=\"#F8F8F8\" height=\"37.9375\" rx=\"10\" ry=\"10\" style=\"stroke: #F8F8F8; stroke-width: 1.5;\" width=\"60\" x=\"135\" y=\"286\"/><rect fill=\"#F8F8F8\" height=\"10\" style=\"stroke: #F8F8F8; stroke-width: 1.5;\" width=\"60\" x=\"135\" y=\"313.9375\"/><rect fill=\"none\" height=\"42.9375\" id=\"E5\" rx=\"10\" ry=\"10\" style=\"stroke: #383838; stroke-width: 1.5;\" width=\"60\" x=\"135\" y=\"286\"/><text fill=\"#000000\" font-family=\"sans-serif\" font-size=\"12\" font-style=\"italic\" lengthAdjust=\"spacingAndGlyphs\" textLength=\"53\" x=\"138.5\" y=\"302.1387\">«action»</text><text fill=\"#000000\" font-family=\"sans-serif\" font-size=\"12\" lengthAdjust=\"spacingAndGlyphs\" textLength=\"16\" x=\"157\" y=\"316.1074\">A2</text></a></g><g id=\"E1.E6\"><a href=\"psysml:6ad7aed3-e22d-47c2-b6cf-45fd0f629de6\" target=\"_top\" title=\"psysml:6ad7aed3-e22d-47c2-b6cf-45fd0f629de6\" xlink:actuate=\"onRequest\" xlink:href=\"psysml:6ad7aed3-e22d-47c2-b6cf-45fd0f629de6\" xlink:show=\"new\" xlink:title=\"psysml:6ad7aed3-e22d-47c2-b6cf-45fd0f629de6\" xlink:type=\"simple\"><rect fill=\"#FFFFFF\" height=\"42.9375\" id=\"E6\" rx=\"10\" ry=\"10\" style=\"stroke: #383838; stroke-width: 1.5;\" width=\"60\" x=\"63\" y=\"58\"/><rect fill=\"#F8F8F8\" height=\"37.9375\" rx=\"10\" ry=\"10\" style=\"stroke: #F8F8F8; stroke-width: 1.5;\" width=\"60\" x=\"63\" y=\"58\"/><rect fill=\"#F8F8F8\" height=\"10\" style=\"stroke: #F8F8F8; stroke-width: 1.5;\" width=\"60\" x=\"63\" y=\"85.9375\"/><rect fill=\"none\" height=\"42.9375\" id=\"E6\" rx=\"10\" ry=\"10\" style=\"stroke: #383838; stroke-width: 1.5;\" width=\"60\" x=\"63\" y=\"58\"/><text fill=\"#000000\" font-family=\"sans-serif\" font-size=\"12\" font-style=\"italic\" lengthAdjust=\"spacingAndGlyphs\" textLength=\"53\" x=\"66.5\" y=\"74.1387\">«action»</text><text fill=\"#000000\" font-family=\"sans-serif\" font-size=\"12\" lengthAdjust=\"spacingAndGlyphs\" textLength=\"16\" x=\"85\" y=\"88.1074\">A3</text></a></g><g id=\"E1.E7\"><a href=\"psysml:6ad7aed3-e22d-47c2-b6cf-45fd0f629de6\" target=\"_top\" title=\"psysml:6ad7aed3-e22d-47c2-b6cf-45fd0f629de6\" xlink:actuate=\"onRequest\" xlink:href=\"psysml:6ad7aed3-e22d-47c2-b6cf-45fd0f629de6\" xlink:show=\"new\" xlink:title=\"psysml:6ad7aed3-e22d-47c2-b6cf-45fd0f629de6\" xlink:type=\"simple\"><rect fill=\"#FFFFFF\" height=\"42.9375\" id=\"E7\" rx=\"10\" ry=\"10\" style=\"stroke: #383838; stroke-width: 1.5;\" width=\"60\" x=\"246\" y=\"134\"/><rect fill=\"#F8F8F8\" height=\"37.9375\" rx=\"10\" ry=\"10\" style=\"stroke: #F8F8F8; stroke-width: 1.5;\" width=\"60\" x=\"246\" y=\"134\"/><rect fill=\"#F8F8F8\" height=\"10\" style=\"stroke: #F8F8F8; stroke-width: 1.5;\" width=\"60\" x=\"246\" y=\"161.9375\"/><rect fill=\"none\" height=\"42.9375\" id=\"E7\" rx=\"10\" ry=\"10\" style=\"stroke: #383838; stroke-width: 1.5;\" width=\"60\" x=\"246\" y=\"134\"/><text fill=\"#000000\" font-family=\"sans-serif\" font-size=\"12\" font-style=\"italic\" lengthAdjust=\"spacingAndGlyphs\" textLength=\"53\" x=\"249.5\" y=\"150.1387\">«action»</text><text fill=\"#000000\" font-family=\"sans-serif\" font-size=\"12\" lengthAdjust=\"spacingAndGlyphs\" textLength=\"16\" x=\"268\" y=\"164.1074\">A3</text></a></g><!--MD5=[4d03bb2d0377dc85ccfab60ff574652b]\n",
       "link E2 to E4--><a href=\"psysml:07a447fb-7978-4e35-9306-ac5ec116db5d\" target=\"_top\" title=\"psysml:07a447fb-7978-4e35-9306-ac5ec116db5d\" xlink:actuate=\"onRequest\" xlink:href=\"psysml:07a447fb-7978-4e35-9306-ac5ec116db5d\" xlink:show=\"new\" xlink:title=\"psysml:07a447fb-7978-4e35-9306-ac5ec116db5d\" xlink:type=\"simple\"><path d=\"M203.91,85.44 C187.57,98.68 144,134 144,134 C144,134 144,177 144,177 C144,177 149.67,191.43 155.11,205.31 \" fill=\"none\" id=\"E2-&gt;E4\" style=\"stroke: #383838; stroke-width: 1.0;\"/><polygon fill=\"#383838\" points=\"156.94,209.97,157.374,200.1307,155.1126,205.3159,149.9274,203.0545,156.94,209.97\" style=\"stroke: #383838; stroke-width: 1.0;\"/><text fill=\"#000000\" font-family=\"sans-serif\" font-size=\"13\" lengthAdjust=\"spacingAndGlyphs\" textLength=\"55\" x=\"145\" y=\"160.0669\">[x == 1]</text><text fill=\"#000000\" font-family=\"sans-serif\" font-size=\"13\" lengthAdjust=\"spacingAndGlyphs\" textLength=\"7\" x=\"146.6888\" y=\"198.8997\">*</text></a><!--MD5=[dcad52bbbca2fe8adc741ce38b45dc12]\n",
       "link E2 to E5--><a href=\"psysml:f195b54a-5fed-403e-bb02-20f21e154f17\" target=\"_top\" title=\"psysml:f195b54a-5fed-403e-bb02-20f21e154f17\" xlink:actuate=\"onRequest\" xlink:href=\"psysml:f195b54a-5fed-403e-bb02-20f21e154f17\" xlink:show=\"new\" xlink:title=\"psysml:f195b54a-5fed-403e-bb02-20f21e154f17\" xlink:type=\"simple\"><path d=\"M210.91,90.72 C214.29,128.91 226,261 226,261 C226,261 226,278 226,278 C226,278 213.5,283.84 199.81,290.24 \" fill=\"none\" id=\"E2-&gt;E5\" style=\"stroke: #383838; stroke-width: 1.0;\"/><polygon fill=\"#383838\" points=\"195.14,292.42,204.9874,292.2489,199.6731,290.3103,201.6118,284.996,195.14,292.42\" style=\"stroke: #383838; stroke-width: 1.0;\"/><text fill=\"#000000\" font-family=\"sans-serif\" font-size=\"13\" lengthAdjust=\"spacingAndGlyphs\" textLength=\"44\" x=\"221\" y=\"198.0669\">[x &gt; 1]</text><text fill=\"#000000\" font-family=\"sans-serif\" font-size=\"13\" lengthAdjust=\"spacingAndGlyphs\" textLength=\"7\" x=\"202.9192\" y=\"284.2879\">*</text></a><!--MD5=[e3d2a08a9c9236652057e8ed0cbc9b62]\n",
       "link E2 to E7--><a href=\"psysml:15c91a99-d9b4-4320-8388-ef3655122685\" target=\"_top\" title=\"psysml:15c91a99-d9b4-4320-8388-ef3655122685\" xlink:actuate=\"onRequest\" xlink:href=\"psysml:15c91a99-d9b4-4320-8388-ef3655122685\" xlink:show=\"new\" xlink:title=\"psysml:15c91a99-d9b4-4320-8388-ef3655122685\" xlink:type=\"simple\"><path d=\"M212.51,89.27 C216.28,102.49 223,126 223,126 C223,126 231.18,130.4 241.12,135.74 \" fill=\"none\" id=\"E2-&gt;E7\" style=\"stroke: #383838; stroke-width: 1.0;\"/><polygon fill=\"#383838\" points=\"245.78,138.25,239.7446,130.467,241.3754,135.8838,235.9586,137.5145,245.78,138.25\" style=\"stroke: #383838; stroke-width: 1.0;\"/><text fill=\"#000000\" font-family=\"sans-serif\" font-size=\"13\" lengthAdjust=\"spacingAndGlyphs\" textLength=\"7\" x=\"230.9823\" y=\"129.616\">*</text></a><!--MD5=[583832df87f4419a098336a29a52fa00]\n",
       "link E7 to E2--><a href=\"psysml:c19c71e4-b628-4c9d-aa87-db03cc189a8f\" target=\"_top\" title=\"psysml:c19c71e4-b628-4c9d-aa87-db03cc189a8f\" xlink:actuate=\"onRequest\" xlink:href=\"psysml:c19c71e4-b628-4c9d-aa87-db03cc189a8f\" xlink:show=\"new\" xlink:title=\"psysml:c19c71e4-b628-4c9d-aa87-db03cc189a8f\" xlink:type=\"simple\"><path d=\"M257.61,133.88 C245.02,119.76 228.86,101.65 218.98,90.57 \" fill=\"none\" id=\"E7-&gt;E2\" style=\"stroke: #383838; stroke-width: 1.0;\"/><polygon fill=\"#383838\" points=\"215.4,86.56,218.3919,95.9434,218.7227,90.2963,224.3699,90.6271,215.4,86.56\" style=\"stroke: #383838; stroke-width: 1.0;\"/><text fill=\"#000000\" font-family=\"sans-serif\" font-size=\"13\" lengthAdjust=\"spacingAndGlyphs\" textLength=\"44\" x=\"249\" y=\"122.0669\">[x &gt; 0]</text><text fill=\"#000000\" font-family=\"sans-serif\" font-size=\"13\" lengthAdjust=\"spacingAndGlyphs\" textLength=\"7\" x=\"210.0625\" y=\"111.425\">*</text></a><!--MD5=[2720a5a1f2c3fca2055b230370638851]\n",
       "link E2 to E3--><a href=\"psysml:6d6473c9-743e-4105-a2af-98d6bd8c1632\" target=\"_top\" title=\"psysml:6d6473c9-743e-4105-a2af-98d6bd8c1632\" xlink:actuate=\"onRequest\" xlink:href=\"psysml:6d6473c9-743e-4105-a2af-98d6bd8c1632\" xlink:show=\"new\" xlink:title=\"psysml:6d6473c9-743e-4105-a2af-98d6bd8c1632\" xlink:type=\"simple\"><path d=\"M201.26,83.1 C182.69,88.61 141,101 141,101 C141,101 108,109 108,109 C108,109 66.75,134.71 46.26,147.48 \" fill=\"none\" id=\"E2-&gt;E3\" style=\"stroke: #383838; stroke-width: 1.0;\"/><polygon fill=\"#383838\" points=\"42,150.14,51.7541,148.7768,46.244,147.4964,47.5243,141.9864,42,150.14\" style=\"stroke: #383838; stroke-width: 1.0;\"/><text fill=\"#000000\" font-family=\"sans-serif\" font-size=\"13\" lengthAdjust=\"spacingAndGlyphs\" textLength=\"7\" x=\"54.3375\" y=\"132.1744\">*</text></a><!--MD5=[af87c684e3b0d8be13c1a698a818ef1e]\n",
       "link E3 to E4--><a href=\"psysml:4dd56774-018b-4c8a-8121-2b3d6a9c557c\" target=\"_top\" title=\"psysml:4dd56774-018b-4c8a-8121-2b3d6a9c557c\" xlink:actuate=\"onRequest\" xlink:href=\"psysml:4dd56774-018b-4c8a-8121-2b3d6a9c557c\" xlink:show=\"new\" xlink:title=\"psysml:4dd56774-018b-4c8a-8121-2b3d6a9c557c\" xlink:type=\"simple\"><path d=\"M41.01,162.08 C54.09,174.23 84,202 84,202 C84,202 108,210 108,210 C108,210 118.26,213.69 130.07,217.94 \" fill=\"none\" id=\"E3-&gt;E4\" style=\"stroke: #383838; stroke-width: 1.0;\"/><polygon fill=\"#383838\" points=\"134.83,219.65,127.7272,212.8273,130.1281,217.9493,125.0061,220.3503,134.83,219.65\" style=\"stroke: #383838; stroke-width: 1.0;\"/><text fill=\"#000000\" font-family=\"sans-serif\" font-size=\"13\" lengthAdjust=\"spacingAndGlyphs\" textLength=\"36\" x=\"85\" y=\"198.0669\">[true]</text><text fill=\"#000000\" font-family=\"sans-serif\" font-size=\"13\" lengthAdjust=\"spacingAndGlyphs\" textLength=\"7\" x=\"120.0438\" y=\"212.2648\">*</text></a><!--MD5=[0188b64bb0ae78505a997a81836e11e9]\n",
       "link E3 to E5--><a href=\"psysml:2f25c912-d622-4deb-be6f-2375e7caca37\" target=\"_top\" title=\"psysml:2f25c912-d622-4deb-be6f-2375e7caca37\" xlink:actuate=\"onRequest\" xlink:href=\"psysml:2f25c912-d622-4deb-be6f-2375e7caca37\" xlink:show=\"new\" xlink:title=\"psysml:2f25c912-d622-4deb-be6f-2375e7caca37\" xlink:type=\"simple\"><path d=\"M38.36,164.4 C48.15,187.44 76,253 76,253 C76,253 105.53,270.75 130.57,285.81 \" fill=\"none\" id=\"E3-&gt;E5\" style=\"stroke: #383838; stroke-width: 1.0;\"/><polygon fill=\"#383838\" points=\"134.87,288.39,129.2105,280.3296,130.5825,285.8175,125.0946,287.1895,134.87,288.39\" style=\"stroke: #383838; stroke-width: 1.0;\"/><text fill=\"#000000\" font-family=\"sans-serif\" font-size=\"13\" lengthAdjust=\"spacingAndGlyphs\" textLength=\"40\" x=\"77\" y=\"236.0669\">[false]</text><text fill=\"#000000\" font-family=\"sans-serif\" font-size=\"13\" lengthAdjust=\"spacingAndGlyphs\" textLength=\"7\" x=\"120.0931\" y=\"279.3259\">*</text></a><!--MD5=[1b7591eae5389033d8d09a9d6721a717]\n",
       "link E4 to E5--><a href=\"psysml:19ac739f-970e-4750-a1cd-14a3501dcfff\" target=\"_top\" title=\"psysml:19ac739f-970e-4750-a1cd-14a3501dcfff\" xlink:actuate=\"onRequest\" xlink:href=\"psysml:19ac739f-970e-4750-a1cd-14a3501dcfff\" xlink:show=\"new\" xlink:title=\"psysml:19ac739f-970e-4750-a1cd-14a3501dcfff\" xlink:type=\"simple\"><path d=\"M165,253.11 C165,261.69 165,271.75 165,280.8 \" fill=\"none\" id=\"E4-&gt;E5\" style=\"stroke: #383838; stroke-width: 1.0;\"/><polygon fill=\"#383838\" points=\"165,286,169,277,165,281,161,277,165,286\" style=\"stroke: #383838; stroke-width: 1.0;\"/><text fill=\"#000000\" font-family=\"sans-serif\" font-size=\"13\" lengthAdjust=\"spacingAndGlyphs\" textLength=\"55\" x=\"166\" y=\"274.0669\">[x == 0]</text><text fill=\"#000000\" font-family=\"sans-serif\" font-size=\"13\" lengthAdjust=\"spacingAndGlyphs\" textLength=\"7\" x=\"157.0156\" y=\"274.9381\">*</text></a><!--MD5=[860d7ac9f9436f51d0dc3ed04dce735a]\n",
       "@startuml\r\n",
       "skinparam ranksep 10\r\n",
       "skinparam rectangle {\r\n",
       " backgroundColor<<block>> LightGreen\r\n",
       "}\r\n",
       "skinparam linetype polyline\r\n",
       "skinparam monochrome true\r\n",
       "skinparam classbackgroundcolor white\r\n",
       "skinparam shadowing false\r\n",
       "skinparam wrapWidth 300\r\n",
       "hide circle\r\n",
       "\r\n",
       "rec def \"DecisionTest\" as E1  <<(T,blue) action def>> [[psysml:ec9d2101-14b6-425a-8b3b-258973824e57 ]] {\r\n",
       "choice \"test x\" as E2  [[psysml:7b5c557c-0eca-43da-893a-884adf177ee9 ]] \r\n",
       "choice \"<s>noname</s>\" as E3  [[psysml:c8637911-bdae-488c-9ae7-71f0e05f074a ]] \r\n",
       "rec usage \"A1\" as E4  <<(T,blue) action>> [[psysml:2b21def1-54fd-4014-8db4-beef5c1da0f0 ]] {\r\n",
       "}\r\n",
       "\r\n",
       "rec usage \"A2\" as E5  <<(T,blue) action>> [[psysml:a7c18d95-cb4e-4d18-b7c9-a948ce4b9e35 ]] {\r\n",
       "}\r\n",
       "\r\n",
       "rec usage \"A3\" as E6  <<(T,blue) action>> [[psysml:6ad7aed3-e22d-47c2-b6cf-45fd0f629de6 ]] {\r\n",
       "}\r\n",
       "\r\n",
       "rec usage \"A3\" as E7  <<(T,blue) action>> [[psysml:6ad7aed3-e22d-47c2-b6cf-45fd0f629de6 ]] {\r\n",
       "}\r\n",
       "\r\n",
       "}\r\n",
       "\r\n",
       "E2  - -> \"*\"E4 [[psysml:07a447fb-7978-4e35-9306-ac5ec116db5d ]] : [x == 1]\r\n",
       "E2  - -> \"*\"E5 [[psysml:f195b54a-5fed-403e-bb02-20f21e154f17 ]] : [x > 1]\r\n",
       "E2  - -> \"*\"E7 [[psysml:15c91a99-d9b4-4320-8388-ef3655122685 ]] \r\n",
       "E2 - -> \"*\"E3 [[psysml:6d6473c9-743e-4105-a2af-98d6bd8c1632 ]] \r\n",
       "E3  - -> \"*\"E4 [[psysml:4dd56774-018b-4c8a-8121-2b3d6a9c557c ]] : [true]\r\n",
       "E3  - -> \"*\"E5 [[psysml:2f25c912-d622-4deb-be6f-2375e7caca37 ]] : [false]\r\n",
       "E4  - -> \"*\"E5 [[psysml:19ac739f-970e-4750-a1cd-14a3501dcfff ]] : [x == 0]\r\n",
       "E7  - -> \"*\"E2 [[psysml:c19c71e4-b628-4c9d-aa87-db03cc189a8f ]] : [x > 0]\r\n",
       "@enduml\r\n",
       "\n",
       "PlantUML version 1.2020.13(Sat Jun 13 12:26:38 UTC 2020)\n",
       "(EPL source distribution)\n",
       "Java Runtime: OpenJDK Runtime Environment\n",
       "JVM: OpenJDK 64-Bit Server VM\n",
       "Default Encoding: UTF-8\n",
       "Language: en\n",
       "Country: null\n",
       "--></g></svg>"
      ]
     },
     "execution_count": 12,
     "metadata": {},
     "output_type": "execute_result"
    }
   ],
   "source": [
    "%viz --style=\"POLYLINE\" --view=\"Interconnection\" \"DecisionTest\""
   ]
  },
  {
   "cell_type": "code",
   "execution_count": 13,
   "id": "a22cdfe6",
   "metadata": {
    "execution": {
     "iopub.execute_input": "2021-10-03T08:29:00.786277Z",
     "iopub.status.busy": "2021-10-03T08:29:00.785880Z",
     "iopub.status.idle": "2021-10-03T08:29:00.829276Z",
     "shell.execute_reply": "2021-10-03T08:29:00.828916Z"
    }
   },
   "outputs": [
    {
     "data": {
      "image/svg+xml": [
       "<?xml version=\"1.0\" encoding=\"UTF-8\" standalone=\"no\"?><svg xmlns=\"http://www.w3.org/2000/svg\" xmlns:xlink=\"http://www.w3.org/1999/xlink\" contentScriptType=\"application/ecmascript\" contentStyleType=\"text/css\" height=\"356px\" preserveAspectRatio=\"none\" style=\"width:333px;height:356px;\" version=\"1.1\" viewBox=\"0 0 333 356\" width=\"333px\" zoomAndPan=\"magnify\"><defs/><g><!--MD5=[fbc87193dbaf4d95561dea2c320d4a47]\n",
       "cluster E1--><a href=\"psysml:ec9d2101-14b6-425a-8b3b-258973824e57\" target=\"_top\" title=\"psysml:ec9d2101-14b6-425a-8b3b-258973824e57\" xlink:actuate=\"onRequest\" xlink:href=\"psysml:ec9d2101-14b6-425a-8b3b-258973824e57\" xlink:show=\"new\" xlink:title=\"psysml:ec9d2101-14b6-425a-8b3b-258973824e57\" xlink:type=\"simple\"><rect fill=\"#FFFFFF\" height=\"338\" id=\"E1\" style=\"stroke: #383838; stroke-width: 1.5;\" width=\"315\" x=\"7\" y=\"7\"/><rect fill=\"#F8F8F8\" height=\"37.9375\" style=\"stroke: #383838; stroke-width: 1.5;\" width=\"315\" x=\"7\" y=\"7\"/><text fill=\"#000000\" font-family=\"sans-serif\" font-size=\"12\" font-style=\"italic\" lengthAdjust=\"spacingAndGlyphs\" textLength=\"77\" x=\"126\" y=\"23.1387\">«action def»</text><text fill=\"#000000\" font-family=\"sans-serif\" font-size=\"12\" lengthAdjust=\"spacingAndGlyphs\" textLength=\"80\" x=\"124.5\" y=\"37.1074\">DecisionTest</text></a><polygon fill=\"#F8F8F8\" points=\"210,67.5,222,79.5,210,91.5,198,79.5,210,67.5\" style=\"stroke: #383838; stroke-width: 1.5;\"/><polygon fill=\"#F8F8F8\" points=\"35,143.5,47,155.5,35,167.5,23,155.5,35,143.5\" style=\"stroke: #383838; stroke-width: 1.5;\"/><g id=\"E1.E4\"><a href=\"psysml:2b21def1-54fd-4014-8db4-beef5c1da0f0\" target=\"_top\" title=\"psysml:2b21def1-54fd-4014-8db4-beef5c1da0f0\" xlink:actuate=\"onRequest\" xlink:href=\"psysml:2b21def1-54fd-4014-8db4-beef5c1da0f0\" xlink:show=\"new\" xlink:title=\"psysml:2b21def1-54fd-4014-8db4-beef5c1da0f0\" xlink:type=\"simple\"><rect fill=\"#FFFFFF\" height=\"42.9375\" id=\"E4\" rx=\"10\" ry=\"10\" style=\"stroke: #383838; stroke-width: 1.5;\" width=\"60\" x=\"135\" y=\"210\"/><rect fill=\"#F8F8F8\" height=\"37.9375\" rx=\"10\" ry=\"10\" style=\"stroke: #F8F8F8; stroke-width: 1.5;\" width=\"60\" x=\"135\" y=\"210\"/><rect fill=\"#F8F8F8\" height=\"10\" style=\"stroke: #F8F8F8; stroke-width: 1.5;\" width=\"60\" x=\"135\" y=\"237.9375\"/><rect fill=\"none\" height=\"42.9375\" id=\"E4\" rx=\"10\" ry=\"10\" style=\"stroke: #383838; stroke-width: 1.5;\" width=\"60\" x=\"135\" y=\"210\"/><text fill=\"#000000\" font-family=\"sans-serif\" font-size=\"12\" font-style=\"italic\" lengthAdjust=\"spacingAndGlyphs\" textLength=\"53\" x=\"138.5\" y=\"226.1387\">«action»</text><text fill=\"#000000\" font-family=\"sans-serif\" font-size=\"12\" lengthAdjust=\"spacingAndGlyphs\" textLength=\"16\" x=\"157\" y=\"240.1074\">A1</text></a></g><g id=\"E1.E5\"><a href=\"psysml:a7c18d95-cb4e-4d18-b7c9-a948ce4b9e35\" target=\"_top\" title=\"psysml:a7c18d95-cb4e-4d18-b7c9-a948ce4b9e35\" xlink:actuate=\"onRequest\" xlink:href=\"psysml:a7c18d95-cb4e-4d18-b7c9-a948ce4b9e35\" xlink:show=\"new\" xlink:title=\"psysml:a7c18d95-cb4e-4d18-b7c9-a948ce4b9e35\" xlink:type=\"simple\"><rect fill=\"#FFFFFF\" height=\"42.9375\" id=\"E5\" rx=\"10\" ry=\"10\" style=\"stroke: #383838; stroke-width: 1.5;\" width=\"60\" x=\"135\" y=\"286\"/><rect fill=\"#F8F8F8\" height=\"37.9375\" rx=\"10\" ry=\"10\" style=\"stroke: #F8F8F8; stroke-width: 1.5;\" width=\"60\" x=\"135\" y=\"286\"/><rect fill=\"#F8F8F8\" height=\"10\" style=\"stroke: #F8F8F8; stroke-width: 1.5;\" width=\"60\" x=\"135\" y=\"313.9375\"/><rect fill=\"none\" height=\"42.9375\" id=\"E5\" rx=\"10\" ry=\"10\" style=\"stroke: #383838; stroke-width: 1.5;\" width=\"60\" x=\"135\" y=\"286\"/><text fill=\"#000000\" font-family=\"sans-serif\" font-size=\"12\" font-style=\"italic\" lengthAdjust=\"spacingAndGlyphs\" textLength=\"53\" x=\"138.5\" y=\"302.1387\">«action»</text><text fill=\"#000000\" font-family=\"sans-serif\" font-size=\"12\" lengthAdjust=\"spacingAndGlyphs\" textLength=\"16\" x=\"157\" y=\"316.1074\">A2</text></a></g><g id=\"E1.E6\"><a href=\"psysml:6ad7aed3-e22d-47c2-b6cf-45fd0f629de6\" target=\"_top\" title=\"psysml:6ad7aed3-e22d-47c2-b6cf-45fd0f629de6\" xlink:actuate=\"onRequest\" xlink:href=\"psysml:6ad7aed3-e22d-47c2-b6cf-45fd0f629de6\" xlink:show=\"new\" xlink:title=\"psysml:6ad7aed3-e22d-47c2-b6cf-45fd0f629de6\" xlink:type=\"simple\"><rect fill=\"#FFFFFF\" height=\"42.9375\" id=\"E6\" rx=\"10\" ry=\"10\" style=\"stroke: #383838; stroke-width: 1.5;\" width=\"60\" x=\"63\" y=\"58\"/><rect fill=\"#F8F8F8\" height=\"37.9375\" rx=\"10\" ry=\"10\" style=\"stroke: #F8F8F8; stroke-width: 1.5;\" width=\"60\" x=\"63\" y=\"58\"/><rect fill=\"#F8F8F8\" height=\"10\" style=\"stroke: #F8F8F8; stroke-width: 1.5;\" width=\"60\" x=\"63\" y=\"85.9375\"/><rect fill=\"none\" height=\"42.9375\" id=\"E6\" rx=\"10\" ry=\"10\" style=\"stroke: #383838; stroke-width: 1.5;\" width=\"60\" x=\"63\" y=\"58\"/><text fill=\"#000000\" font-family=\"sans-serif\" font-size=\"12\" font-style=\"italic\" lengthAdjust=\"spacingAndGlyphs\" textLength=\"53\" x=\"66.5\" y=\"74.1387\">«action»</text><text fill=\"#000000\" font-family=\"sans-serif\" font-size=\"12\" lengthAdjust=\"spacingAndGlyphs\" textLength=\"16\" x=\"85\" y=\"88.1074\">A3</text></a></g><g id=\"E1.E7\"><a href=\"psysml:6ad7aed3-e22d-47c2-b6cf-45fd0f629de6\" target=\"_top\" title=\"psysml:6ad7aed3-e22d-47c2-b6cf-45fd0f629de6\" xlink:actuate=\"onRequest\" xlink:href=\"psysml:6ad7aed3-e22d-47c2-b6cf-45fd0f629de6\" xlink:show=\"new\" xlink:title=\"psysml:6ad7aed3-e22d-47c2-b6cf-45fd0f629de6\" xlink:type=\"simple\"><rect fill=\"#FFFFFF\" height=\"42.9375\" id=\"E7\" rx=\"10\" ry=\"10\" style=\"stroke: #383838; stroke-width: 1.5;\" width=\"60\" x=\"246\" y=\"134\"/><rect fill=\"#F8F8F8\" height=\"37.9375\" rx=\"10\" ry=\"10\" style=\"stroke: #F8F8F8; stroke-width: 1.5;\" width=\"60\" x=\"246\" y=\"134\"/><rect fill=\"#F8F8F8\" height=\"10\" style=\"stroke: #F8F8F8; stroke-width: 1.5;\" width=\"60\" x=\"246\" y=\"161.9375\"/><rect fill=\"none\" height=\"42.9375\" id=\"E7\" rx=\"10\" ry=\"10\" style=\"stroke: #383838; stroke-width: 1.5;\" width=\"60\" x=\"246\" y=\"134\"/><text fill=\"#000000\" font-family=\"sans-serif\" font-size=\"12\" font-style=\"italic\" lengthAdjust=\"spacingAndGlyphs\" textLength=\"53\" x=\"249.5\" y=\"150.1387\">«action»</text><text fill=\"#000000\" font-family=\"sans-serif\" font-size=\"12\" lengthAdjust=\"spacingAndGlyphs\" textLength=\"16\" x=\"268\" y=\"164.1074\">A3</text></a></g><!--MD5=[4d03bb2d0377dc85ccfab60ff574652b]\n",
       "link E2 to E4--><a href=\"psysml:07a447fb-7978-4e35-9306-ac5ec116db5d\" target=\"_top\" title=\"psysml:07a447fb-7978-4e35-9306-ac5ec116db5d\" xlink:actuate=\"onRequest\" xlink:href=\"psysml:07a447fb-7978-4e35-9306-ac5ec116db5d\" xlink:show=\"new\" xlink:title=\"psysml:07a447fb-7978-4e35-9306-ac5ec116db5d\" xlink:type=\"simple\"><path d=\"M203.91,85.44 C187.57,98.68 144,134 144,134 C144,134 144,177 144,177 C144,177 149.67,191.43 155.11,205.31 \" fill=\"none\" id=\"E2-&gt;E4\" style=\"stroke: #383838; stroke-width: 1.0; stroke-dasharray: 7.0,7.0;\"/><polygon fill=\"#383838\" points=\"156.94,209.97,157.374,200.1307,155.1126,205.3159,149.9274,203.0545,156.94,209.97\" style=\"stroke: #383838; stroke-width: 1.0;\"/><text fill=\"#000000\" font-family=\"sans-serif\" font-size=\"13\" lengthAdjust=\"spacingAndGlyphs\" textLength=\"55\" x=\"145\" y=\"160.0669\">[x == 1]</text></a><!--MD5=[dcad52bbbca2fe8adc741ce38b45dc12]\n",
       "link E2 to E5--><a href=\"psysml:f195b54a-5fed-403e-bb02-20f21e154f17\" target=\"_top\" title=\"psysml:f195b54a-5fed-403e-bb02-20f21e154f17\" xlink:actuate=\"onRequest\" xlink:href=\"psysml:f195b54a-5fed-403e-bb02-20f21e154f17\" xlink:show=\"new\" xlink:title=\"psysml:f195b54a-5fed-403e-bb02-20f21e154f17\" xlink:type=\"simple\"><path d=\"M210.91,90.72 C214.29,128.91 226,261 226,261 C226,261 226,278 226,278 C226,278 213.5,283.84 199.81,290.24 \" fill=\"none\" id=\"E2-&gt;E5\" style=\"stroke: #383838; stroke-width: 1.0; stroke-dasharray: 7.0,7.0;\"/><polygon fill=\"#383838\" points=\"195.14,292.42,204.9874,292.2489,199.6731,290.3103,201.6118,284.996,195.14,292.42\" style=\"stroke: #383838; stroke-width: 1.0;\"/><text fill=\"#000000\" font-family=\"sans-serif\" font-size=\"13\" lengthAdjust=\"spacingAndGlyphs\" textLength=\"44\" x=\"221\" y=\"198.0669\">[x &gt; 1]</text></a><!--MD5=[e3d2a08a9c9236652057e8ed0cbc9b62]\n",
       "link E2 to E7--><a href=\"psysml:15c91a99-d9b4-4320-8388-ef3655122685\" target=\"_top\" title=\"psysml:15c91a99-d9b4-4320-8388-ef3655122685\" xlink:actuate=\"onRequest\" xlink:href=\"psysml:15c91a99-d9b4-4320-8388-ef3655122685\" xlink:show=\"new\" xlink:title=\"psysml:15c91a99-d9b4-4320-8388-ef3655122685\" xlink:type=\"simple\"><path d=\"M212.51,89.27 C216.28,102.49 223,126 223,126 C223,126 231.18,130.4 241.12,135.74 \" fill=\"none\" id=\"E2-&gt;E7\" style=\"stroke: #383838; stroke-width: 1.0; stroke-dasharray: 7.0,7.0;\"/><polygon fill=\"#383838\" points=\"245.78,138.25,239.7446,130.467,241.3754,135.8838,235.9586,137.5145,245.78,138.25\" style=\"stroke: #383838; stroke-width: 1.0;\"/></a><!--MD5=[583832df87f4419a098336a29a52fa00]\n",
       "link E7 to E2--><a href=\"psysml:c19c71e4-b628-4c9d-aa87-db03cc189a8f\" target=\"_top\" title=\"psysml:c19c71e4-b628-4c9d-aa87-db03cc189a8f\" xlink:actuate=\"onRequest\" xlink:href=\"psysml:c19c71e4-b628-4c9d-aa87-db03cc189a8f\" xlink:show=\"new\" xlink:title=\"psysml:c19c71e4-b628-4c9d-aa87-db03cc189a8f\" xlink:type=\"simple\"><path d=\"M257.61,133.88 C245.02,119.76 228.86,101.65 218.98,90.57 \" fill=\"none\" id=\"E7-&gt;E2\" style=\"stroke: #383838; stroke-width: 1.0; stroke-dasharray: 7.0,7.0;\"/><polygon fill=\"#383838\" points=\"215.4,86.56,218.3919,95.9434,218.7227,90.2963,224.3699,90.6271,215.4,86.56\" style=\"stroke: #383838; stroke-width: 1.0;\"/><text fill=\"#000000\" font-family=\"sans-serif\" font-size=\"13\" lengthAdjust=\"spacingAndGlyphs\" textLength=\"44\" x=\"249\" y=\"122.0669\">[x &gt; 0]</text></a><!--MD5=[2720a5a1f2c3fca2055b230370638851]\n",
       "link E2 to E3--><a href=\"psysml:6d6473c9-743e-4105-a2af-98d6bd8c1632\" target=\"_top\" title=\"psysml:6d6473c9-743e-4105-a2af-98d6bd8c1632\" xlink:actuate=\"onRequest\" xlink:href=\"psysml:6d6473c9-743e-4105-a2af-98d6bd8c1632\" xlink:show=\"new\" xlink:title=\"psysml:6d6473c9-743e-4105-a2af-98d6bd8c1632\" xlink:type=\"simple\"><path d=\"M201.26,83.1 C182.69,88.61 141,101 141,101 C141,101 108,109 108,109 C108,109 66.75,134.71 46.26,147.48 \" fill=\"none\" id=\"E2-&gt;E3\" style=\"stroke: #383838; stroke-width: 1.0; stroke-dasharray: 7.0,7.0;\"/><polygon fill=\"#383838\" points=\"42,150.14,51.7541,148.7768,46.244,147.4964,47.5243,141.9864,42,150.14\" style=\"stroke: #383838; stroke-width: 1.0;\"/></a><!--MD5=[af87c684e3b0d8be13c1a698a818ef1e]\n",
       "link E3 to E4--><a href=\"psysml:4dd56774-018b-4c8a-8121-2b3d6a9c557c\" target=\"_top\" title=\"psysml:4dd56774-018b-4c8a-8121-2b3d6a9c557c\" xlink:actuate=\"onRequest\" xlink:href=\"psysml:4dd56774-018b-4c8a-8121-2b3d6a9c557c\" xlink:show=\"new\" xlink:title=\"psysml:4dd56774-018b-4c8a-8121-2b3d6a9c557c\" xlink:type=\"simple\"><path d=\"M41.01,162.08 C54.09,174.23 84,202 84,202 C84,202 108,210 108,210 C108,210 118.26,213.69 130.07,217.94 \" fill=\"none\" id=\"E3-&gt;E4\" style=\"stroke: #383838; stroke-width: 1.0; stroke-dasharray: 7.0,7.0;\"/><polygon fill=\"#383838\" points=\"134.83,219.65,127.7272,212.8273,130.1281,217.9493,125.0061,220.3503,134.83,219.65\" style=\"stroke: #383838; stroke-width: 1.0;\"/><text fill=\"#000000\" font-family=\"sans-serif\" font-size=\"13\" lengthAdjust=\"spacingAndGlyphs\" textLength=\"36\" x=\"85\" y=\"198.0669\">[true]</text></a><!--MD5=[0188b64bb0ae78505a997a81836e11e9]\n",
       "link E3 to E5--><a href=\"psysml:2f25c912-d622-4deb-be6f-2375e7caca37\" target=\"_top\" title=\"psysml:2f25c912-d622-4deb-be6f-2375e7caca37\" xlink:actuate=\"onRequest\" xlink:href=\"psysml:2f25c912-d622-4deb-be6f-2375e7caca37\" xlink:show=\"new\" xlink:title=\"psysml:2f25c912-d622-4deb-be6f-2375e7caca37\" xlink:type=\"simple\"><path d=\"M38.36,164.4 C48.15,187.44 76,253 76,253 C76,253 105.53,270.75 130.57,285.81 \" fill=\"none\" id=\"E3-&gt;E5\" style=\"stroke: #383838; stroke-width: 1.0; stroke-dasharray: 7.0,7.0;\"/><polygon fill=\"#383838\" points=\"134.87,288.39,129.2105,280.3296,130.5825,285.8175,125.0946,287.1895,134.87,288.39\" style=\"stroke: #383838; stroke-width: 1.0;\"/><text fill=\"#000000\" font-family=\"sans-serif\" font-size=\"13\" lengthAdjust=\"spacingAndGlyphs\" textLength=\"40\" x=\"77\" y=\"236.0669\">[false]</text></a><!--MD5=[1b7591eae5389033d8d09a9d6721a717]\n",
       "link E4 to E5--><a href=\"psysml:19ac739f-970e-4750-a1cd-14a3501dcfff\" target=\"_top\" title=\"psysml:19ac739f-970e-4750-a1cd-14a3501dcfff\" xlink:actuate=\"onRequest\" xlink:href=\"psysml:19ac739f-970e-4750-a1cd-14a3501dcfff\" xlink:show=\"new\" xlink:title=\"psysml:19ac739f-970e-4750-a1cd-14a3501dcfff\" xlink:type=\"simple\"><path d=\"M165,253.11 C165,261.69 165,271.75 165,280.8 \" fill=\"none\" id=\"E4-&gt;E5\" style=\"stroke: #383838; stroke-width: 1.0; stroke-dasharray: 7.0,7.0;\"/><polygon fill=\"#383838\" points=\"165,286,169,277,165,281,161,277,165,286\" style=\"stroke: #383838; stroke-width: 1.0;\"/><text fill=\"#000000\" font-family=\"sans-serif\" font-size=\"13\" lengthAdjust=\"spacingAndGlyphs\" textLength=\"55\" x=\"166\" y=\"274.0669\">[x == 0]</text></a><!--MD5=[45dccc4f2531815668654e206101f0de]\n",
       "@startuml\r\n",
       "skinparam ranksep 8\r\n",
       "skinparam linetype polyline\r\n",
       "skinparam monochrome true\r\n",
       "skinparam classbackgroundcolor white\r\n",
       "skinparam shadowing false\r\n",
       "skinparam wrapWidth 300\r\n",
       "hide circle\r\n",
       "\r\n",
       "rec def \"DecisionTest\" as E1  <<(T,blue) action def>> [[psysml:ec9d2101-14b6-425a-8b3b-258973824e57 ]] {\r\n",
       "choice \"test x\" as E2  [[psysml:7b5c557c-0eca-43da-893a-884adf177ee9 ]] \r\n",
       "choice \"<s>noname</s>\" as E3  [[psysml:c8637911-bdae-488c-9ae7-71f0e05f074a ]] \r\n",
       "rec usage \"A1\" as E4  <<(T,blue) action>> [[psysml:2b21def1-54fd-4014-8db4-beef5c1da0f0 ]] {\r\n",
       "}\r\n",
       "\r\n",
       "rec usage \"A2\" as E5  <<(T,blue) action>> [[psysml:a7c18d95-cb4e-4d18-b7c9-a948ce4b9e35 ]] {\r\n",
       "}\r\n",
       "\r\n",
       "rec usage \"A3\" as E6  <<(T,blue) action>> [[psysml:6ad7aed3-e22d-47c2-b6cf-45fd0f629de6 ]] {\r\n",
       "}\r\n",
       "\r\n",
       "rec usage \"A3\" as E7  <<(T,blue) action>> [[psysml:6ad7aed3-e22d-47c2-b6cf-45fd0f629de6 ]] {\r\n",
       "}\r\n",
       "\r\n",
       "}\r\n",
       "\r\n",
       "E2 ..> E4 [[psysml:07a447fb-7978-4e35-9306-ac5ec116db5d ]] : [x == 1]\r\n",
       "E2 ..> E5 [[psysml:f195b54a-5fed-403e-bb02-20f21e154f17 ]] : [x > 1]\r\n",
       "E2 ..> E7 [[psysml:15c91a99-d9b4-4320-8388-ef3655122685 ]] \r\n",
       "E2 ..> E3 [[psysml:6d6473c9-743e-4105-a2af-98d6bd8c1632 ]] \r\n",
       "E3 ..> E4 [[psysml:4dd56774-018b-4c8a-8121-2b3d6a9c557c ]] : [true]\r\n",
       "E3 ..> E5 [[psysml:2f25c912-d622-4deb-be6f-2375e7caca37 ]] : [false]\r\n",
       "E4 ..> E5 [[psysml:19ac739f-970e-4750-a1cd-14a3501dcfff ]] : [x == 0]\r\n",
       "E7 ..> E2 [[psysml:c19c71e4-b628-4c9d-aa87-db03cc189a8f ]] : [x > 0]\r\n",
       "@enduml\r\n",
       "\n",
       "PlantUML version 1.2020.13(Sat Jun 13 12:26:38 UTC 2020)\n",
       "(EPL source distribution)\n",
       "Java Runtime: OpenJDK Runtime Environment\n",
       "JVM: OpenJDK 64-Bit Server VM\n",
       "Default Encoding: UTF-8\n",
       "Language: en\n",
       "Country: null\n",
       "--></g></svg>"
      ]
     },
     "execution_count": 13,
     "metadata": {},
     "output_type": "execute_result"
    }
   ],
   "source": [
    "%viz --style=\"POLYLINE\" --view=\"Action\" \"DecisionTest\""
   ]
  },
  {
   "cell_type": "code",
   "execution_count": 14,
   "id": "9a2062ff",
   "metadata": {
    "execution": {
     "iopub.execute_input": "2021-10-03T08:29:00.878583Z",
     "iopub.status.busy": "2021-10-03T08:29:00.878188Z",
     "iopub.status.idle": "2021-10-03T08:29:00.885653Z",
     "shell.execute_reply": "2021-10-03T08:29:00.885964Z"
    }
   },
   "outputs": [
    {
     "data": {
      "image/svg+xml": [
       "<?xml version=\"1.0\" encoding=\"UTF-8\" standalone=\"no\"?><svg xmlns=\"http://www.w3.org/2000/svg\" xmlns:xlink=\"http://www.w3.org/1999/xlink\" contentScriptType=\"application/ecmascript\" contentStyleType=\"text/css\" height=\"12px\" preserveAspectRatio=\"none\" style=\"width:12px;height:12px;\" version=\"1.1\" viewBox=\"0 0 12 12\" width=\"12px\" zoomAndPan=\"magnify\"><defs/><g><!--MD5=[dc938048236c351797870c36b62f92ad]\n",
       "@startuml\r\n",
       "skinparam roundcorner 20\r\n",
       "skinparam BoxPadding 20\r\n",
       "skinparam SequenceBoxBackgroundColor #white\r\n",
       "skinparam style strictuml\r\n",
       "skinparam maxMessageSize 100\r\n",
       "skinparam linetype polyline\r\n",
       "skinparam monochrome true\r\n",
       "skinparam classbackgroundcolor white\r\n",
       "skinparam shadowing false\r\n",
       "skinparam wrapWidth 300\r\n",
       "hide circle\r\n",
       "\r\n",
       "@enduml\r\n",
       "\n",
       "PlantUML version 1.2020.13(Sat Jun 13 12:26:38 UTC 2020)\n",
       "(EPL source distribution)\n",
       "Java Runtime: OpenJDK Runtime Environment\n",
       "JVM: OpenJDK 64-Bit Server VM\n",
       "Default Encoding: UTF-8\n",
       "Language: en\n",
       "Country: null\n",
       "--></g></svg>"
      ]
     },
     "execution_count": 14,
     "metadata": {},
     "output_type": "execute_result"
    }
   ],
   "source": [
    "%viz --style=\"POLYLINE\" --view=\"Sequence\" \"DecisionTest\""
   ]
  },
  {
   "cell_type": "code",
   "execution_count": 15,
   "id": "36cbe776",
   "metadata": {
    "execution": {
     "iopub.execute_input": "2021-10-03T08:29:00.935730Z",
     "iopub.status.busy": "2021-10-03T08:29:00.935338Z",
     "iopub.status.idle": "2021-10-03T08:29:00.979588Z",
     "shell.execute_reply": "2021-10-03T08:29:00.979251Z"
    }
   },
   "outputs": [
    {
     "data": {
      "image/svg+xml": [
       "<?xml version=\"1.0\" encoding=\"UTF-8\" standalone=\"no\"?><svg xmlns=\"http://www.w3.org/2000/svg\" xmlns:xlink=\"http://www.w3.org/1999/xlink\" contentScriptType=\"application/ecmascript\" contentStyleType=\"text/css\" height=\"488px\" preserveAspectRatio=\"none\" style=\"width:333px;height:488px;\" version=\"1.1\" viewBox=\"0 0 333 488\" width=\"333px\" zoomAndPan=\"magnify\"><defs/><g><!--MD5=[fbc87193dbaf4d95561dea2c320d4a47]\n",
       "cluster E1--><a href=\"psysml:ec9d2101-14b6-425a-8b3b-258973824e57\" target=\"_top\" title=\"psysml:ec9d2101-14b6-425a-8b3b-258973824e57\" xlink:actuate=\"onRequest\" xlink:href=\"psysml:ec9d2101-14b6-425a-8b3b-258973824e57\" xlink:show=\"new\" xlink:title=\"psysml:ec9d2101-14b6-425a-8b3b-258973824e57\" xlink:type=\"simple\"><rect fill=\"#FFFFFF\" height=\"470\" id=\"E1\" style=\"stroke: #383838; stroke-width: 1.5;\" width=\"315\" x=\"7\" y=\"7\"/><rect fill=\"#F8F8F8\" height=\"37.9375\" style=\"stroke: #383838; stroke-width: 1.5;\" width=\"315\" x=\"7\" y=\"7\"/><text fill=\"#000000\" font-family=\"sans-serif\" font-size=\"12\" font-style=\"italic\" lengthAdjust=\"spacingAndGlyphs\" textLength=\"77\" x=\"126\" y=\"23.1387\">«action def»</text><text fill=\"#000000\" font-family=\"sans-serif\" font-size=\"12\" lengthAdjust=\"spacingAndGlyphs\" textLength=\"80\" x=\"124.5\" y=\"37.1074\">DecisionTest</text></a><polygon fill=\"#F8F8F8\" points=\"210,67.5,222,79.5,210,91.5,198,79.5,210,67.5\" style=\"stroke: #383838; stroke-width: 1.5;\"/><polygon fill=\"#F8F8F8\" points=\"35,187.5,47,199.5,35,211.5,23,199.5,35,187.5\" style=\"stroke: #383838; stroke-width: 1.5;\"/><g id=\"E1.E4\"><a href=\"psysml:2b21def1-54fd-4014-8db4-beef5c1da0f0\" target=\"_top\" title=\"psysml:2b21def1-54fd-4014-8db4-beef5c1da0f0\" xlink:actuate=\"onRequest\" xlink:href=\"psysml:2b21def1-54fd-4014-8db4-beef5c1da0f0\" xlink:show=\"new\" xlink:title=\"psysml:2b21def1-54fd-4014-8db4-beef5c1da0f0\" xlink:type=\"simple\"><rect fill=\"#FFFFFF\" height=\"42.9375\" id=\"E4\" rx=\"10\" ry=\"10\" style=\"stroke: #383838; stroke-width: 1.5;\" width=\"60\" x=\"135\" y=\"298\"/><rect fill=\"#F8F8F8\" height=\"37.9375\" rx=\"10\" ry=\"10\" style=\"stroke: #F8F8F8; stroke-width: 1.5;\" width=\"60\" x=\"135\" y=\"298\"/><rect fill=\"#F8F8F8\" height=\"10\" style=\"stroke: #F8F8F8; stroke-width: 1.5;\" width=\"60\" x=\"135\" y=\"325.9375\"/><rect fill=\"none\" height=\"42.9375\" id=\"E4\" rx=\"10\" ry=\"10\" style=\"stroke: #383838; stroke-width: 1.5;\" width=\"60\" x=\"135\" y=\"298\"/><text fill=\"#000000\" font-family=\"sans-serif\" font-size=\"12\" font-style=\"italic\" lengthAdjust=\"spacingAndGlyphs\" textLength=\"53\" x=\"138.5\" y=\"314.1387\">«action»</text><text fill=\"#000000\" font-family=\"sans-serif\" font-size=\"12\" lengthAdjust=\"spacingAndGlyphs\" textLength=\"16\" x=\"157\" y=\"328.1074\">A1</text></a></g><g id=\"E1.E5\"><a href=\"psysml:a7c18d95-cb4e-4d18-b7c9-a948ce4b9e35\" target=\"_top\" title=\"psysml:a7c18d95-cb4e-4d18-b7c9-a948ce4b9e35\" xlink:actuate=\"onRequest\" xlink:href=\"psysml:a7c18d95-cb4e-4d18-b7c9-a948ce4b9e35\" xlink:show=\"new\" xlink:title=\"psysml:a7c18d95-cb4e-4d18-b7c9-a948ce4b9e35\" xlink:type=\"simple\"><rect fill=\"#FFFFFF\" height=\"42.9375\" id=\"E5\" rx=\"10\" ry=\"10\" style=\"stroke: #383838; stroke-width: 1.5;\" width=\"60\" x=\"135\" y=\"418\"/><rect fill=\"#F8F8F8\" height=\"37.9375\" rx=\"10\" ry=\"10\" style=\"stroke: #F8F8F8; stroke-width: 1.5;\" width=\"60\" x=\"135\" y=\"418\"/><rect fill=\"#F8F8F8\" height=\"10\" style=\"stroke: #F8F8F8; stroke-width: 1.5;\" width=\"60\" x=\"135\" y=\"445.9375\"/><rect fill=\"none\" height=\"42.9375\" id=\"E5\" rx=\"10\" ry=\"10\" style=\"stroke: #383838; stroke-width: 1.5;\" width=\"60\" x=\"135\" y=\"418\"/><text fill=\"#000000\" font-family=\"sans-serif\" font-size=\"12\" font-style=\"italic\" lengthAdjust=\"spacingAndGlyphs\" textLength=\"53\" x=\"138.5\" y=\"434.1387\">«action»</text><text fill=\"#000000\" font-family=\"sans-serif\" font-size=\"12\" lengthAdjust=\"spacingAndGlyphs\" textLength=\"16\" x=\"157\" y=\"448.1074\">A2</text></a></g><g id=\"E1.E6\"><a href=\"psysml:6ad7aed3-e22d-47c2-b6cf-45fd0f629de6\" target=\"_top\" title=\"psysml:6ad7aed3-e22d-47c2-b6cf-45fd0f629de6\" xlink:actuate=\"onRequest\" xlink:href=\"psysml:6ad7aed3-e22d-47c2-b6cf-45fd0f629de6\" xlink:show=\"new\" xlink:title=\"psysml:6ad7aed3-e22d-47c2-b6cf-45fd0f629de6\" xlink:type=\"simple\"><rect fill=\"#FFFFFF\" height=\"42.9375\" id=\"E6\" rx=\"10\" ry=\"10\" style=\"stroke: #383838; stroke-width: 1.5;\" width=\"60\" x=\"63\" y=\"58\"/><rect fill=\"#F8F8F8\" height=\"37.9375\" rx=\"10\" ry=\"10\" style=\"stroke: #F8F8F8; stroke-width: 1.5;\" width=\"60\" x=\"63\" y=\"58\"/><rect fill=\"#F8F8F8\" height=\"10\" style=\"stroke: #F8F8F8; stroke-width: 1.5;\" width=\"60\" x=\"63\" y=\"85.9375\"/><rect fill=\"none\" height=\"42.9375\" id=\"E6\" rx=\"10\" ry=\"10\" style=\"stroke: #383838; stroke-width: 1.5;\" width=\"60\" x=\"63\" y=\"58\"/><text fill=\"#000000\" font-family=\"sans-serif\" font-size=\"12\" font-style=\"italic\" lengthAdjust=\"spacingAndGlyphs\" textLength=\"53\" x=\"66.5\" y=\"74.1387\">«action»</text><text fill=\"#000000\" font-family=\"sans-serif\" font-size=\"12\" lengthAdjust=\"spacingAndGlyphs\" textLength=\"16\" x=\"85\" y=\"88.1074\">A3</text></a></g><g id=\"E1.E7\"><a href=\"psysml:6ad7aed3-e22d-47c2-b6cf-45fd0f629de6\" target=\"_top\" title=\"psysml:6ad7aed3-e22d-47c2-b6cf-45fd0f629de6\" xlink:actuate=\"onRequest\" xlink:href=\"psysml:6ad7aed3-e22d-47c2-b6cf-45fd0f629de6\" xlink:show=\"new\" xlink:title=\"psysml:6ad7aed3-e22d-47c2-b6cf-45fd0f629de6\" xlink:type=\"simple\"><rect fill=\"#FFFFFF\" height=\"42.9375\" id=\"E7\" rx=\"10\" ry=\"10\" style=\"stroke: #383838; stroke-width: 1.5;\" width=\"60\" x=\"246\" y=\"178\"/><rect fill=\"#F8F8F8\" height=\"37.9375\" rx=\"10\" ry=\"10\" style=\"stroke: #F8F8F8; stroke-width: 1.5;\" width=\"60\" x=\"246\" y=\"178\"/><rect fill=\"#F8F8F8\" height=\"10\" style=\"stroke: #F8F8F8; stroke-width: 1.5;\" width=\"60\" x=\"246\" y=\"205.9375\"/><rect fill=\"none\" height=\"42.9375\" id=\"E7\" rx=\"10\" ry=\"10\" style=\"stroke: #383838; stroke-width: 1.5;\" width=\"60\" x=\"246\" y=\"178\"/><text fill=\"#000000\" font-family=\"sans-serif\" font-size=\"12\" font-style=\"italic\" lengthAdjust=\"spacingAndGlyphs\" textLength=\"53\" x=\"249.5\" y=\"194.1387\">«action»</text><text fill=\"#000000\" font-family=\"sans-serif\" font-size=\"12\" lengthAdjust=\"spacingAndGlyphs\" textLength=\"16\" x=\"268\" y=\"208.1074\">A3</text></a></g><!--MD5=[4d03bb2d0377dc85ccfab60ff574652b]\n",
       "link E2 to E4--><a href=\"psysml:07a447fb-7978-4e35-9306-ac5ec116db5d\" target=\"_top\" title=\"psysml:07a447fb-7978-4e35-9306-ac5ec116db5d\" xlink:actuate=\"onRequest\" xlink:href=\"psysml:07a447fb-7978-4e35-9306-ac5ec116db5d\" xlink:show=\"new\" xlink:title=\"psysml:07a447fb-7978-4e35-9306-ac5ec116db5d\" xlink:type=\"simple\"><path d=\"M205.46,87.2 C190.55,109.23 144,178 144,178 C144,178 144,221 144,221 C144,221 153.2,263.72 159.42,292.6 \" fill=\"none\" id=\"E2-&gt;E4\" style=\"stroke: #383838; stroke-width: 1.0;\"/><polygon fill=\"#383838\" points=\"160.55,297.82,162.5831,288.1833,159.5063,292.9302,154.7594,289.8533,160.55,297.82\" style=\"stroke: #383838; stroke-width: 1.0;\"/><text fill=\"#000000\" font-family=\"sans-serif\" font-size=\"13\" lengthAdjust=\"spacingAndGlyphs\" textLength=\"55\" x=\"145\" y=\"204.0669\">[x == 1]</text><text fill=\"#000000\" font-family=\"sans-serif\" font-size=\"13\" lengthAdjust=\"spacingAndGlyphs\" textLength=\"7\" x=\"151.4134\" y=\"287.071\">*</text></a><!--MD5=[dcad52bbbca2fe8adc741ce38b45dc12]\n",
       "link E2 to E5--><a href=\"psysml:f195b54a-5fed-403e-bb02-20f21e154f17\" target=\"_top\" title=\"psysml:f195b54a-5fed-403e-bb02-20f21e154f17\" xlink:actuate=\"onRequest\" xlink:href=\"psysml:f195b54a-5fed-403e-bb02-20f21e154f17\" xlink:show=\"new\" xlink:title=\"psysml:f195b54a-5fed-403e-bb02-20f21e154f17\" xlink:type=\"simple\"><path d=\"M210.59,91.18 C213.48,143.59 226,371 226,371 C226,371 226,388 226,388 C226,388 209.6,401.58 193.8,414.65 \" fill=\"none\" id=\"E2-&gt;E5\" style=\"stroke: #383838; stroke-width: 1.0;\"/><polygon fill=\"#383838\" points=\"189.81,417.96,199.2964,415.3128,193.6651,414.776,194.202,409.1446,189.81,417.96\" style=\"stroke: #383838; stroke-width: 1.0;\"/><text fill=\"#000000\" font-family=\"sans-serif\" font-size=\"13\" lengthAdjust=\"spacingAndGlyphs\" textLength=\"44\" x=\"221\" y=\"264.0669\">[x &gt; 1]</text><text fill=\"#000000\" font-family=\"sans-serif\" font-size=\"13\" lengthAdjust=\"spacingAndGlyphs\" textLength=\"7\" x=\"188.8034\" y=\"406.8869\">*</text></a><!--MD5=[e3d2a08a9c9236652057e8ed0cbc9b62]\n",
       "link E2 to E7--><a href=\"psysml:15c91a99-d9b4-4320-8388-ef3655122685\" target=\"_top\" title=\"psysml:15c91a99-d9b4-4320-8388-ef3655122685\" xlink:actuate=\"onRequest\" xlink:href=\"psysml:15c91a99-d9b4-4320-8388-ef3655122685\" xlink:show=\"new\" xlink:title=\"psysml:15c91a99-d9b4-4320-8388-ef3655122685\" xlink:type=\"simple\"><path d=\"M211.81,89.89 C215.38,108.43 223,148 223,148 C223,148 237.01,161.35 250.63,174.32 \" fill=\"none\" id=\"E2-&gt;E7\" style=\"stroke: #383838; stroke-width: 1.0;\"/><polygon fill=\"#383838\" points=\"254.44,177.96,250.6644,168.8636,250.8129,174.5185,245.158,174.667,254.44,177.96\" style=\"stroke: #383838; stroke-width: 1.0;\"/><text fill=\"#000000\" font-family=\"sans-serif\" font-size=\"13\" lengthAdjust=\"spacingAndGlyphs\" textLength=\"7\" x=\"240.3919\" y=\"166.8869\">*</text></a><!--MD5=[583832df87f4419a098336a29a52fa00]\n",
       "link E7 to E2--><a href=\"psysml:c19c71e4-b628-4c9d-aa87-db03cc189a8f\" target=\"_top\" title=\"psysml:c19c71e4-b628-4c9d-aa87-db03cc189a8f\" xlink:actuate=\"onRequest\" xlink:href=\"psysml:c19c71e4-b628-4c9d-aa87-db03cc189a8f\" xlink:show=\"new\" xlink:title=\"psysml:c19c71e4-b628-4c9d-aa87-db03cc189a8f\" xlink:type=\"simple\"><path d=\"M264.3,177.59 C250.41,152.74 227.7,112.15 216.57,92.25 \" fill=\"none\" id=\"E7-&gt;E2\" style=\"stroke: #383838; stroke-width: 1.0;\"/><polygon fill=\"#383838\" points=\"214.13,87.88,215.0286,97.6878,216.5691,92.2447,222.0122,93.7852,214.13,87.88\" style=\"stroke: #383838; stroke-width: 1.0;\"/><text fill=\"#000000\" font-family=\"sans-serif\" font-size=\"13\" lengthAdjust=\"spacingAndGlyphs\" textLength=\"44\" x=\"247\" y=\"144.0669\">[x &gt; 0]</text><text fill=\"#000000\" font-family=\"sans-serif\" font-size=\"13\" lengthAdjust=\"spacingAndGlyphs\" textLength=\"7\" x=\"207.5946\" y=\"111.7074\">*</text></a><!--MD5=[2720a5a1f2c3fca2055b230370638851]\n",
       "link E2 to E3--><a href=\"psysml:6d6473c9-743e-4105-a2af-98d6bd8c1632\" target=\"_top\" title=\"psysml:6d6473c9-743e-4105-a2af-98d6bd8c1632\" xlink:actuate=\"onRequest\" xlink:href=\"psysml:6d6473c9-743e-4105-a2af-98d6bd8c1632\" xlink:show=\"new\" xlink:title=\"psysml:6d6473c9-743e-4105-a2af-98d6bd8c1632\" xlink:type=\"simple\"><path d=\"M202.33,84.3 C178.61,96.04 108,131 108,131 C108,131 64.37,171.35 44.57,189.65 \" fill=\"none\" id=\"E2-&gt;E3\" style=\"stroke: #383838; stroke-width: 1.0;\"/><polygon fill=\"#383838\" points=\"40.73,193.2,50.0512,190.0196,44.3985,189.8027,44.6155,184.15,40.73,193.2\" style=\"stroke: #383838; stroke-width: 1.0;\"/><text fill=\"#000000\" font-family=\"sans-serif\" font-size=\"13\" lengthAdjust=\"spacingAndGlyphs\" textLength=\"7\" x=\"50.1907\" y=\"176.19\">*</text></a><!--MD5=[af87c684e3b0d8be13c1a698a818ef1e]\n",
       "link E3 to E4--><a href=\"psysml:4dd56774-018b-4c8a-8121-2b3d6a9c557c\" target=\"_top\" title=\"psysml:4dd56774-018b-4c8a-8121-2b3d6a9c557c\" xlink:actuate=\"onRequest\" xlink:href=\"psysml:4dd56774-018b-4c8a-8121-2b3d6a9c557c\" xlink:show=\"new\" xlink:title=\"psysml:4dd56774-018b-4c8a-8121-2b3d6a9c557c\" xlink:type=\"simple\"><path d=\"M39.7,206.97 C51.96,223.87 84,268 84,268 C84,268 108.44,283.24 130.47,296.97 \" fill=\"none\" id=\"E3-&gt;E4\" style=\"stroke: #383838; stroke-width: 1.0;\"/><polygon fill=\"#383838\" points=\"134.84,299.7,129.3157,291.5464,130.596,297.0564,125.0859,298.3368,134.84,299.7\" style=\"stroke: #383838; stroke-width: 1.0;\"/><text fill=\"#000000\" font-family=\"sans-serif\" font-size=\"13\" lengthAdjust=\"spacingAndGlyphs\" textLength=\"36\" x=\"85\" y=\"264.0669\">[true]</text><text fill=\"#000000\" font-family=\"sans-serif\" font-size=\"13\" lengthAdjust=\"spacingAndGlyphs\" textLength=\"7\" x=\"120.0561\" y=\"290.4764\">*</text></a><!--MD5=[0188b64bb0ae78505a997a81836e11e9]\n",
       "link E3 to E5--><a href=\"psysml:2f25c912-d622-4deb-be6f-2375e7caca37\" target=\"_top\" title=\"psysml:2f25c912-d622-4deb-be6f-2375e7caca37\" xlink:actuate=\"onRequest\" xlink:href=\"psysml:2f25c912-d622-4deb-be6f-2375e7caca37\" xlink:show=\"new\" xlink:title=\"psysml:2f25c912-d622-4deb-be6f-2375e7caca37\" xlink:type=\"simple\"><path d=\"M37.56,209.29 C46.54,240.05 76,341 76,341 C76,341 116.3,385.15 142.66,414.03 \" fill=\"none\" id=\"E3-&gt;E5\" style=\"stroke: #383838; stroke-width: 1.0;\"/><polygon fill=\"#383838\" points=\"146.13,417.82,143.0249,408.4734,142.7624,414.1242,137.1116,413.8616,146.13,417.82\" style=\"stroke: #383838; stroke-width: 1.0;\"/><text fill=\"#000000\" font-family=\"sans-serif\" font-size=\"13\" lengthAdjust=\"spacingAndGlyphs\" textLength=\"40\" x=\"77\" y=\"324.0669\">[false]</text><text fill=\"#000000\" font-family=\"sans-serif\" font-size=\"13\" lengthAdjust=\"spacingAndGlyphs\" textLength=\"7\" x=\"133.1181\" y=\"407.071\">*</text></a><!--MD5=[1b7591eae5389033d8d09a9d6721a717]\n",
       "link E4 to E5--><a href=\"psysml:19ac739f-970e-4750-a1cd-14a3501dcfff\" target=\"_top\" title=\"psysml:19ac739f-970e-4750-a1cd-14a3501dcfff\" xlink:actuate=\"onRequest\" xlink:href=\"psysml:19ac739f-970e-4750-a1cd-14a3501dcfff\" xlink:show=\"new\" xlink:title=\"psysml:19ac739f-970e-4750-a1cd-14a3501dcfff\" xlink:type=\"simple\"><path d=\"M165,341.05 C165,360.9 165,391.02 165,412.52 \" fill=\"none\" id=\"E4-&gt;E5\" style=\"stroke: #383838; stroke-width: 1.0;\"/><polygon fill=\"#383838\" points=\"165,417.79,169,408.79,165,412.79,161,408.79,165,417.79\" style=\"stroke: #383838; stroke-width: 1.0;\"/><text fill=\"#000000\" font-family=\"sans-serif\" font-size=\"13\" lengthAdjust=\"spacingAndGlyphs\" textLength=\"55\" x=\"166\" y=\"384.0669\">[x == 0]</text><text fill=\"#000000\" font-family=\"sans-serif\" font-size=\"13\" lengthAdjust=\"spacingAndGlyphs\" textLength=\"7\" x=\"157.0594\" y=\"407.033\">*</text></a><!--MD5=[396e26832c10a20242d4930b21a8a520]\n",
       "@startuml\r\n",
       "skinparam linetype polyline\r\n",
       "skinparam monochrome true\r\n",
       "skinparam classbackgroundcolor white\r\n",
       "skinparam shadowing false\r\n",
       "skinparam wrapWidth 300\r\n",
       "hide circle\r\n",
       "\r\n",
       "rec def \"DecisionTest\" as E1  <<(T,blue) action def>> [[psysml:ec9d2101-14b6-425a-8b3b-258973824e57 ]] {\r\n",
       "choice \"test x\" as E2  [[psysml:7b5c557c-0eca-43da-893a-884adf177ee9 ]] \r\n",
       "choice \"<s>noname</s>\" as E3  [[psysml:c8637911-bdae-488c-9ae7-71f0e05f074a ]] \r\n",
       "rec usage \"A1\" as E4  <<(T,blue) action>> [[psysml:2b21def1-54fd-4014-8db4-beef5c1da0f0 ]] {\r\n",
       "}\r\n",
       "\r\n",
       "rec usage \"A2\" as E5  <<(T,blue) action>> [[psysml:a7c18d95-cb4e-4d18-b7c9-a948ce4b9e35 ]] {\r\n",
       "}\r\n",
       "\r\n",
       "rec usage \"A3\" as E6  <<(T,blue) action>> [[psysml:6ad7aed3-e22d-47c2-b6cf-45fd0f629de6 ]] {\r\n",
       "}\r\n",
       "\r\n",
       "rec usage \"A3\" as E7  <<(T,blue) action>> [[psysml:6ad7aed3-e22d-47c2-b6cf-45fd0f629de6 ]] {\r\n",
       "}\r\n",
       "\r\n",
       "}\r\n",
       "\r\n",
       "E2  - -> \"*\"E4 [[psysml:07a447fb-7978-4e35-9306-ac5ec116db5d ]] : [x == 1]\r\n",
       "E2  - -> \"*\"E5 [[psysml:f195b54a-5fed-403e-bb02-20f21e154f17 ]] : [x > 1]\r\n",
       "E2  - -> \"*\"E7 [[psysml:15c91a99-d9b4-4320-8388-ef3655122685 ]] \r\n",
       "E2 - -> \"*\"E3 [[psysml:6d6473c9-743e-4105-a2af-98d6bd8c1632 ]] \r\n",
       "E3  - -> \"*\"E4 [[psysml:4dd56774-018b-4c8a-8121-2b3d6a9c557c ]] : [true]\r\n",
       "E3  - -> \"*\"E5 [[psysml:2f25c912-d622-4deb-be6f-2375e7caca37 ]] : [false]\r\n",
       "E4  - -> \"*\"E5 [[psysml:19ac739f-970e-4750-a1cd-14a3501dcfff ]] : [x == 0]\r\n",
       "E7  - -> \"*\"E2 [[psysml:c19c71e4-b628-4c9d-aa87-db03cc189a8f ]] : [x > 0]\r\n",
       "@enduml\r\n",
       "\n",
       "PlantUML version 1.2020.13(Sat Jun 13 12:26:38 UTC 2020)\n",
       "(EPL source distribution)\n",
       "Java Runtime: OpenJDK Runtime Environment\n",
       "JVM: OpenJDK 64-Bit Server VM\n",
       "Default Encoding: UTF-8\n",
       "Language: en\n",
       "Country: null\n",
       "--></g></svg>"
      ]
     },
     "execution_count": 15,
     "metadata": {},
     "output_type": "execute_result"
    }
   ],
   "source": [
    "%viz --style=\"POLYLINE\" --view=\"MIXED\" \"DecisionTest\""
   ]
  },
  {
   "cell_type": "code",
   "execution_count": 16,
   "id": "8648dd60",
   "metadata": {
    "execution": {
     "iopub.execute_input": "2021-10-03T08:29:01.029164Z",
     "iopub.status.busy": "2021-10-03T08:29:01.028770Z",
     "iopub.status.idle": "2021-10-03T08:29:01.081688Z",
     "shell.execute_reply": "2021-10-03T08:29:01.079816Z"
    }
   },
   "outputs": [
    {
     "data": {
      "image/svg+xml": [
       "<?xml version=\"1.0\" encoding=\"UTF-8\" standalone=\"no\"?><svg xmlns=\"http://www.w3.org/2000/svg\" xmlns:xlink=\"http://www.w3.org/1999/xlink\" contentScriptType=\"application/ecmascript\" contentStyleType=\"text/css\" height=\"312px\" preserveAspectRatio=\"none\" style=\"width:619px;height:312px;\" version=\"1.1\" viewBox=\"0 0 619 312\" width=\"619px\" zoomAndPan=\"magnify\"><defs/><g><!--MD5=[fbc87193dbaf4d95561dea2c320d4a47]\n",
       "cluster E1--><a href=\"psysml:ec9d2101-14b6-425a-8b3b-258973824e57\" target=\"_top\" title=\"psysml:ec9d2101-14b6-425a-8b3b-258973824e57\" xlink:actuate=\"onRequest\" xlink:href=\"psysml:ec9d2101-14b6-425a-8b3b-258973824e57\" xlink:show=\"new\" xlink:title=\"psysml:ec9d2101-14b6-425a-8b3b-258973824e57\" xlink:type=\"simple\"><rect fill=\"#FFFFFF\" height=\"294\" id=\"E1\" style=\"stroke: #383838; stroke-width: 1.5;\" width=\"601\" x=\"7\" y=\"7\"/><rect fill=\"#F8F8F8\" height=\"37.9375\" style=\"stroke: #383838; stroke-width: 1.5;\" width=\"601\" x=\"7\" y=\"7\"/><text fill=\"#000000\" font-family=\"sans-serif\" font-size=\"12\" font-style=\"italic\" lengthAdjust=\"spacingAndGlyphs\" textLength=\"77\" x=\"269\" y=\"23.1387\">«action def»</text><text fill=\"#000000\" font-family=\"sans-serif\" font-size=\"12\" lengthAdjust=\"spacingAndGlyphs\" textLength=\"80\" x=\"267.5\" y=\"37.1074\">DecisionTest</text></a><polygon fill=\"#F8F8F8\" points=\"53,126,65,138,53,150,41,138,53,126\" style=\"stroke: #383838; stroke-width: 1.5;\"/><polygon fill=\"#F8F8F8\" points=\"219,261,231,273,219,285,207,273,219,261\" style=\"stroke: #383838; stroke-width: 1.5;\"/><g id=\"E1.E4\"><a href=\"psysml:2b21def1-54fd-4014-8db4-beef5c1da0f0\" target=\"_top\" title=\"psysml:2b21def1-54fd-4014-8db4-beef5c1da0f0\" xlink:actuate=\"onRequest\" xlink:href=\"psysml:2b21def1-54fd-4014-8db4-beef5c1da0f0\" xlink:show=\"new\" xlink:title=\"psysml:2b21def1-54fd-4014-8db4-beef5c1da0f0\" xlink:type=\"simple\"><rect fill=\"#FFFFFF\" height=\"42.9375\" id=\"E4\" rx=\"10\" ry=\"10\" style=\"stroke: #383838; stroke-width: 1.5;\" width=\"60\" x=\"355\" y=\"154.5\"/><rect fill=\"#F8F8F8\" height=\"37.9375\" rx=\"10\" ry=\"10\" style=\"stroke: #F8F8F8; stroke-width: 1.5;\" width=\"60\" x=\"355\" y=\"154.5\"/><rect fill=\"#F8F8F8\" height=\"10\" style=\"stroke: #F8F8F8; stroke-width: 1.5;\" width=\"60\" x=\"355\" y=\"182.4375\"/><rect fill=\"none\" height=\"42.9375\" id=\"E4\" rx=\"10\" ry=\"10\" style=\"stroke: #383838; stroke-width: 1.5;\" width=\"60\" x=\"355\" y=\"154.5\"/><text fill=\"#000000\" font-family=\"sans-serif\" font-size=\"12\" font-style=\"italic\" lengthAdjust=\"spacingAndGlyphs\" textLength=\"53\" x=\"358.5\" y=\"170.6387\">«action»</text><text fill=\"#000000\" font-family=\"sans-serif\" font-size=\"12\" lengthAdjust=\"spacingAndGlyphs\" textLength=\"16\" x=\"377\" y=\"184.6074\">A1</text></a></g><g id=\"E1.E5\"><a href=\"psysml:a7c18d95-cb4e-4d18-b7c9-a948ce4b9e35\" target=\"_top\" title=\"psysml:a7c18d95-cb4e-4d18-b7c9-a948ce4b9e35\" xlink:actuate=\"onRequest\" xlink:href=\"psysml:a7c18d95-cb4e-4d18-b7c9-a948ce4b9e35\" xlink:show=\"new\" xlink:title=\"psysml:a7c18d95-cb4e-4d18-b7c9-a948ce4b9e35\" xlink:type=\"simple\"><rect fill=\"#FFFFFF\" height=\"42.9375\" id=\"E5\" rx=\"10\" ry=\"10\" style=\"stroke: #383838; stroke-width: 1.5;\" width=\"60\" x=\"532\" y=\"154.5\"/><rect fill=\"#F8F8F8\" height=\"37.9375\" rx=\"10\" ry=\"10\" style=\"stroke: #F8F8F8; stroke-width: 1.5;\" width=\"60\" x=\"532\" y=\"154.5\"/><rect fill=\"#F8F8F8\" height=\"10\" style=\"stroke: #F8F8F8; stroke-width: 1.5;\" width=\"60\" x=\"532\" y=\"182.4375\"/><rect fill=\"none\" height=\"42.9375\" id=\"E5\" rx=\"10\" ry=\"10\" style=\"stroke: #383838; stroke-width: 1.5;\" width=\"60\" x=\"532\" y=\"154.5\"/><text fill=\"#000000\" font-family=\"sans-serif\" font-size=\"12\" font-style=\"italic\" lengthAdjust=\"spacingAndGlyphs\" textLength=\"53\" x=\"535.5\" y=\"170.6387\">«action»</text><text fill=\"#000000\" font-family=\"sans-serif\" font-size=\"12\" lengthAdjust=\"spacingAndGlyphs\" textLength=\"16\" x=\"554\" y=\"184.6074\">A2</text></a></g><g id=\"E1.E6\"><a href=\"psysml:6ad7aed3-e22d-47c2-b6cf-45fd0f629de6\" target=\"_top\" title=\"psysml:6ad7aed3-e22d-47c2-b6cf-45fd0f629de6\" xlink:actuate=\"onRequest\" xlink:href=\"psysml:6ad7aed3-e22d-47c2-b6cf-45fd0f629de6\" xlink:show=\"new\" xlink:title=\"psysml:6ad7aed3-e22d-47c2-b6cf-45fd0f629de6\" xlink:type=\"simple\"><rect fill=\"#FFFFFF\" height=\"42.9375\" id=\"E6\" rx=\"10\" ry=\"10\" style=\"stroke: #383838; stroke-width: 1.5;\" width=\"60\" x=\"23\" y=\"213.5\"/><rect fill=\"#F8F8F8\" height=\"37.9375\" rx=\"10\" ry=\"10\" style=\"stroke: #F8F8F8; stroke-width: 1.5;\" width=\"60\" x=\"23\" y=\"213.5\"/><rect fill=\"#F8F8F8\" height=\"10\" style=\"stroke: #F8F8F8; stroke-width: 1.5;\" width=\"60\" x=\"23\" y=\"241.4375\"/><rect fill=\"none\" height=\"42.9375\" id=\"E6\" rx=\"10\" ry=\"10\" style=\"stroke: #383838; stroke-width: 1.5;\" width=\"60\" x=\"23\" y=\"213.5\"/><text fill=\"#000000\" font-family=\"sans-serif\" font-size=\"12\" font-style=\"italic\" lengthAdjust=\"spacingAndGlyphs\" textLength=\"53\" x=\"26.5\" y=\"229.6387\">«action»</text><text fill=\"#000000\" font-family=\"sans-serif\" font-size=\"12\" lengthAdjust=\"spacingAndGlyphs\" textLength=\"16\" x=\"45\" y=\"243.6074\">A3</text></a></g><g id=\"E1.E7\"><a href=\"psysml:6ad7aed3-e22d-47c2-b6cf-45fd0f629de6\" target=\"_top\" title=\"psysml:6ad7aed3-e22d-47c2-b6cf-45fd0f629de6\" xlink:actuate=\"onRequest\" xlink:href=\"psysml:6ad7aed3-e22d-47c2-b6cf-45fd0f629de6\" xlink:show=\"new\" xlink:title=\"psysml:6ad7aed3-e22d-47c2-b6cf-45fd0f629de6\" xlink:type=\"simple\"><rect fill=\"#FFFFFF\" height=\"42.9375\" id=\"E7\" rx=\"10\" ry=\"10\" style=\"stroke: #383838; stroke-width: 1.5;\" width=\"60\" x=\"189\" y=\"58.5\"/><rect fill=\"#F8F8F8\" height=\"37.9375\" rx=\"10\" ry=\"10\" style=\"stroke: #F8F8F8; stroke-width: 1.5;\" width=\"60\" x=\"189\" y=\"58.5\"/><rect fill=\"#F8F8F8\" height=\"10\" style=\"stroke: #F8F8F8; stroke-width: 1.5;\" width=\"60\" x=\"189\" y=\"86.4375\"/><rect fill=\"none\" height=\"42.9375\" id=\"E7\" rx=\"10\" ry=\"10\" style=\"stroke: #383838; stroke-width: 1.5;\" width=\"60\" x=\"189\" y=\"58.5\"/><text fill=\"#000000\" font-family=\"sans-serif\" font-size=\"12\" font-style=\"italic\" lengthAdjust=\"spacingAndGlyphs\" textLength=\"53\" x=\"192.5\" y=\"74.6387\">«action»</text><text fill=\"#000000\" font-family=\"sans-serif\" font-size=\"12\" lengthAdjust=\"spacingAndGlyphs\" textLength=\"16\" x=\"211\" y=\"88.6074\">A3</text></a></g><!--MD5=[4d03bb2d0377dc85ccfab60ff574652b]\n",
       "link E2 to E4--><a href=\"psysml:07a447fb-7978-4e35-9306-ac5ec116db5d\" target=\"_top\" title=\"psysml:07a447fb-7978-4e35-9306-ac5ec116db5d\" xlink:actuate=\"onRequest\" xlink:href=\"psysml:07a447fb-7978-4e35-9306-ac5ec116db5d\" xlink:show=\"new\" xlink:title=\"psysml:07a447fb-7978-4e35-9306-ac5ec116db5d\" xlink:type=\"simple\"><path d=\"M63.11,140.12 C84.79,145.1 141.22,157.56 189,164 C228.76,169.36 238.96,168.49 279,171 C302.51,172.47 329,173.73 349.49,174.62 \" fill=\"none\" id=\"E2-&gt;E4\" style=\"stroke: #383838; stroke-width: 1.0;\"/><polygon fill=\"#383838\" points=\"354.57,174.84,345.7495,170.4583,349.5746,174.6259,345.407,178.451,354.57,174.84\" style=\"stroke: #383838; stroke-width: 1.0;\"/><text fill=\"#000000\" font-family=\"sans-serif\" font-size=\"13\" lengthAdjust=\"spacingAndGlyphs\" textLength=\"55\" x=\"191.5\" y=\"160.0669\">[x == 1]</text><text fill=\"#000000\" font-family=\"sans-serif\" font-size=\"13\" lengthAdjust=\"spacingAndGlyphs\" textLength=\"7\" x=\"340.1478\" y=\"188.3151\">*</text></a><!--MD5=[dcad52bbbca2fe8adc741ce38b45dc12]\n",
       "link E2 to E5--><a href=\"psysml:f195b54a-5fed-403e-bb02-20f21e154f17\" target=\"_top\" title=\"psysml:f195b54a-5fed-403e-bb02-20f21e154f17\" xlink:actuate=\"onRequest\" xlink:href=\"psysml:f195b54a-5fed-403e-bb02-20f21e154f17\" xlink:show=\"new\" xlink:title=\"psysml:f195b54a-5fed-403e-bb02-20f21e154f17\" xlink:type=\"simple\"><path d=\"M64.36,137.35 C107.45,134.77 276.62,125.94 415,137 C454.04,140.12 464.36,140.17 502,151 C510.23,153.37 518.85,156.58 526.88,159.9 \" fill=\"none\" id=\"E2-&gt;E5\" style=\"stroke: #383838; stroke-width: 1.0;\"/><polygon fill=\"#383838\" points=\"531.79,161.98,525.0555,154.7935,527.184,160.0346,521.9428,162.1631,531.79,161.98\" style=\"stroke: #383838; stroke-width: 1.0;\"/><text fill=\"#000000\" font-family=\"sans-serif\" font-size=\"13\" lengthAdjust=\"spacingAndGlyphs\" textLength=\"44\" x=\"280\" y=\"128.0669\">[x &gt; 1]</text><text fill=\"#000000\" font-family=\"sans-serif\" font-size=\"13\" lengthAdjust=\"spacingAndGlyphs\" textLength=\"7\" x=\"516.9946\" y=\"172.5617\">*</text></a><!--MD5=[e3d2a08a9c9236652057e8ed0cbc9b62]\n",
       "link E2 to E7--><a href=\"psysml:15c91a99-d9b4-4320-8388-ef3655122685\" target=\"_top\" title=\"psysml:15c91a99-d9b4-4320-8388-ef3655122685\" xlink:actuate=\"onRequest\" xlink:href=\"psysml:15c91a99-d9b4-4320-8388-ef3655122685\" xlink:show=\"new\" xlink:title=\"psysml:15c91a99-d9b4-4320-8388-ef3655122685\" xlink:type=\"simple\"><path d=\"M64.07,136.95 C86.88,134.47 141.79,127.95 159,121 C169.04,116.94 179.05,110.93 187.9,104.74 \" fill=\"none\" id=\"E2-&gt;E7\" style=\"stroke: #383838; stroke-width: 1.0;\"/><polygon fill=\"#383838\" points=\"192.15,101.7,182.5021,103.6794,188.0823,104.6075,187.1542,110.1877,192.15,101.7\" style=\"stroke: #383838; stroke-width: 1.0;\"/><text fill=\"#000000\" font-family=\"sans-serif\" font-size=\"13\" lengthAdjust=\"spacingAndGlyphs\" textLength=\"7\" x=\"176.9934\" y=\"121.6406\">*</text></a><!--MD5=[583832df87f4419a098336a29a52fa00]\n",
       "link E7 to E2--><a href=\"psysml:c19c71e4-b628-4c9d-aa87-db03cc189a8f\" target=\"_top\" title=\"psysml:c19c71e4-b628-4c9d-aa87-db03cc189a8f\" xlink:actuate=\"onRequest\" xlink:href=\"psysml:c19c71e4-b628-4c9d-aa87-db03cc189a8f\" xlink:show=\"new\" xlink:title=\"psysml:c19c71e4-b628-4c9d-aa87-db03cc189a8f\" xlink:type=\"simple\"><path d=\"M188.96,90.27 C153.05,102.97 93.45,124.05 67.16,133.35 \" fill=\"none\" id=\"E7-&gt;E2\" style=\"stroke: #383838; stroke-width: 1.0;\"/><polygon fill=\"#383838\" points=\"62.36,135.04,72.1793,135.8026,67.0726,133.3692,69.506,128.2625,62.36,135.04\" style=\"stroke: #383838; stroke-width: 1.0;\"/><text fill=\"#000000\" font-family=\"sans-serif\" font-size=\"13\" lengthAdjust=\"spacingAndGlyphs\" textLength=\"44\" x=\"114\" y=\"99.0669\">[x &gt; 0]</text><text fill=\"#000000\" font-family=\"sans-serif\" font-size=\"13\" lengthAdjust=\"spacingAndGlyphs\" textLength=\"7\" x=\"72.9695\" y=\"123.5322\">*</text></a><!--MD5=[2720a5a1f2c3fca2055b230370638851]\n",
       "link E2 to E3--><a href=\"psysml:6d6473c9-743e-4105-a2af-98d6bd8c1632\" target=\"_top\" title=\"psysml:6d6473c9-743e-4105-a2af-98d6bd8c1632\" xlink:actuate=\"onRequest\" xlink:href=\"psysml:6d6473c9-743e-4105-a2af-98d6bd8c1632\" xlink:show=\"new\" xlink:title=\"psysml:6d6473c9-743e-4105-a2af-98d6bd8c1632\" xlink:type=\"simple\"><path d=\"M59.16,144.21 C68.98,155.84 91.34,181.43 113,200 C144.83,227.3 186.84,254.05 206.69,266.2 \" fill=\"none\" id=\"E2-&gt;E3\" style=\"stroke: #383838; stroke-width: 1.0;\"/><polygon fill=\"#383838\" points=\"211.02,268.84,205.412,260.7437,206.749,266.2403,201.2524,267.5773,211.02,268.84\" style=\"stroke: #383838; stroke-width: 1.0;\"/><text fill=\"#000000\" font-family=\"sans-serif\" font-size=\"13\" lengthAdjust=\"spacingAndGlyphs\" textLength=\"7\" x=\"192.253\" y=\"254.0235\">*</text></a><!--MD5=[af87c684e3b0d8be13c1a698a818ef1e]\n",
       "link E3 to E4--><a href=\"psysml:4dd56774-018b-4c8a-8121-2b3d6a9c557c\" target=\"_top\" title=\"psysml:4dd56774-018b-4c8a-8121-2b3d6a9c557c\" xlink:actuate=\"onRequest\" xlink:href=\"psysml:4dd56774-018b-4c8a-8121-2b3d6a9c557c\" xlink:show=\"new\" xlink:title=\"psysml:4dd56774-018b-4c8a-8121-2b3d6a9c557c\" xlink:type=\"simple\"><path d=\"M227.5,269.12 C244.88,260.07 289.19,236.68 325,215 C333.33,209.96 342.16,204.29 350.39,198.88 \" fill=\"none\" id=\"E3-&gt;E4\" style=\"stroke: #383838; stroke-width: 1.0;\"/><polygon fill=\"#383838\" points=\"354.88,195.91,345.1688,197.551,350.7132,198.6736,349.5905,204.2179,354.88,195.91\" style=\"stroke: #383838; stroke-width: 1.0;\"/><text fill=\"#000000\" font-family=\"sans-serif\" font-size=\"13\" lengthAdjust=\"spacingAndGlyphs\" textLength=\"36\" x=\"284\" y=\"211.0669\">[true]</text><text fill=\"#000000\" font-family=\"sans-serif\" font-size=\"13\" lengthAdjust=\"spacingAndGlyphs\" textLength=\"7\" x=\"340.1054\" y=\"214.338\">*</text></a><!--MD5=[0188b64bb0ae78505a997a81836e11e9]\n",
       "link E3 to E5--><a href=\"psysml:2f25c912-d622-4deb-be6f-2375e7caca37\" target=\"_top\" title=\"psysml:2f25c912-d622-4deb-be6f-2375e7caca37\" xlink:actuate=\"onRequest\" xlink:href=\"psysml:2f25c912-d622-4deb-be6f-2375e7caca37\" xlink:show=\"new\" xlink:title=\"psysml:2f25c912-d622-4deb-be6f-2375e7caca37\" xlink:type=\"simple\"><path d=\"M229.88,271.49 C258.74,266.97 345.32,252.55 415,232 C454.14,220.46 497.65,203.17 526.9,190.85 \" fill=\"none\" id=\"E3-&gt;E5\" style=\"stroke: #383838; stroke-width: 1.0;\"/><polygon fill=\"#383838\" points=\"531.83,188.77,521.9831,188.576,527.2218,190.7103,525.0875,195.9491,531.83,188.77\" style=\"stroke: #383838; stroke-width: 1.0;\"/><text fill=\"#000000\" font-family=\"sans-serif\" font-size=\"13\" lengthAdjust=\"spacingAndGlyphs\" textLength=\"40\" x=\"365\" y=\"228.0669\">[false]</text><text fill=\"#000000\" font-family=\"sans-serif\" font-size=\"13\" lengthAdjust=\"spacingAndGlyphs\" textLength=\"7\" x=\"517.0438\" y=\"205.5469\">*</text></a><!--MD5=[1b7591eae5389033d8d09a9d6721a717]\n",
       "link E4 to E5--><a href=\"psysml:19ac739f-970e-4750-a1cd-14a3501dcfff\" target=\"_top\" title=\"psysml:19ac739f-970e-4750-a1cd-14a3501dcfff\" xlink:actuate=\"onRequest\" xlink:href=\"psysml:19ac739f-970e-4750-a1cd-14a3501dcfff\" xlink:show=\"new\" xlink:title=\"psysml:19ac739f-970e-4750-a1cd-14a3501dcfff\" xlink:type=\"simple\"><path d=\"M415.29,176 C446.05,176 494.36,176 526.83,176 \" fill=\"none\" id=\"E4-&gt;E5\" style=\"stroke: #383838; stroke-width: 1.0;\"/><polygon fill=\"#383838\" points=\"531.91,176,522.91,172,526.91,176,522.91,180,531.91,176\" style=\"stroke: #383838; stroke-width: 1.0;\"/><text fill=\"#000000\" font-family=\"sans-serif\" font-size=\"13\" lengthAdjust=\"spacingAndGlyphs\" textLength=\"55\" x=\"446\" y=\"172.0669\">[x == 0]</text><text fill=\"#000000\" font-family=\"sans-serif\" font-size=\"13\" lengthAdjust=\"spacingAndGlyphs\" textLength=\"7\" x=\"517.1423\" y=\"189.8239\">*</text></a><!--MD5=[aa6d0245749c22bbcdcd4c024e5be12b]\n",
       "@startuml\r\n",
       "left to right direction\r\n",
       "skinparam monochrome true\r\n",
       "skinparam classbackgroundcolor white\r\n",
       "skinparam shadowing false\r\n",
       "skinparam wrapWidth 300\r\n",
       "hide circle\r\n",
       "\r\n",
       "rec def \"DecisionTest\" as E1  <<(T,blue) action def>> [[psysml:ec9d2101-14b6-425a-8b3b-258973824e57 ]] {\r\n",
       "choice \"test x\" as E2  [[psysml:7b5c557c-0eca-43da-893a-884adf177ee9 ]] \r\n",
       "choice \"<s>noname</s>\" as E3  [[psysml:c8637911-bdae-488c-9ae7-71f0e05f074a ]] \r\n",
       "rec usage \"A1\" as E4  <<(T,blue) action>> [[psysml:2b21def1-54fd-4014-8db4-beef5c1da0f0 ]] {\r\n",
       "}\r\n",
       "\r\n",
       "rec usage \"A2\" as E5  <<(T,blue) action>> [[psysml:a7c18d95-cb4e-4d18-b7c9-a948ce4b9e35 ]] {\r\n",
       "}\r\n",
       "\r\n",
       "rec usage \"A3\" as E6  <<(T,blue) action>> [[psysml:6ad7aed3-e22d-47c2-b6cf-45fd0f629de6 ]] {\r\n",
       "}\r\n",
       "\r\n",
       "rec usage \"A3\" as E7  <<(T,blue) action>> [[psysml:6ad7aed3-e22d-47c2-b6cf-45fd0f629de6 ]] {\r\n",
       "}\r\n",
       "\r\n",
       "}\r\n",
       "\r\n",
       "E2  - -> \"*\"E4 [[psysml:07a447fb-7978-4e35-9306-ac5ec116db5d ]] : [x == 1]\r\n",
       "E2  - -> \"*\"E5 [[psysml:f195b54a-5fed-403e-bb02-20f21e154f17 ]] : [x > 1]\r\n",
       "E2  - -> \"*\"E7 [[psysml:15c91a99-d9b4-4320-8388-ef3655122685 ]] \r\n",
       "E2 - -> \"*\"E3 [[psysml:6d6473c9-743e-4105-a2af-98d6bd8c1632 ]] \r\n",
       "E3  - -> \"*\"E4 [[psysml:4dd56774-018b-4c8a-8121-2b3d6a9c557c ]] : [true]\r\n",
       "E3  - -> \"*\"E5 [[psysml:2f25c912-d622-4deb-be6f-2375e7caca37 ]] : [false]\r\n",
       "E4  - -> \"*\"E5 [[psysml:19ac739f-970e-4750-a1cd-14a3501dcfff ]] : [x == 0]\r\n",
       "E7  - -> \"*\"E2 [[psysml:c19c71e4-b628-4c9d-aa87-db03cc189a8f ]] : [x > 0]\r\n",
       "@enduml\r\n",
       "\n",
       "PlantUML version 1.2020.13(Sat Jun 13 12:26:38 UTC 2020)\n",
       "(EPL source distribution)\n",
       "Java Runtime: OpenJDK Runtime Environment\n",
       "JVM: OpenJDK 64-Bit Server VM\n",
       "Default Encoding: UTF-8\n",
       "Language: en\n",
       "Country: null\n",
       "--></g></svg>"
      ]
     },
     "execution_count": 16,
     "metadata": {},
     "output_type": "execute_result"
    }
   ],
   "source": [
    "%viz --style=\"LR\" --view=\"Default\" \"DecisionTest\""
   ]
  },
  {
   "cell_type": "code",
   "execution_count": 17,
   "id": "703904f0",
   "metadata": {
    "execution": {
     "iopub.execute_input": "2021-10-03T08:29:01.130748Z",
     "iopub.status.busy": "2021-10-03T08:29:01.130342Z",
     "iopub.status.idle": "2021-10-03T08:29:01.194098Z",
     "shell.execute_reply": "2021-10-03T08:29:01.193740Z"
    }
   },
   "outputs": [
    {
     "data": {
      "image/svg+xml": [
       "<?xml version=\"1.0\" encoding=\"UTF-8\" standalone=\"no\"?><svg xmlns=\"http://www.w3.org/2000/svg\" xmlns:xlink=\"http://www.w3.org/1999/xlink\" contentScriptType=\"application/ecmascript\" contentStyleType=\"text/css\" height=\"387px\" preserveAspectRatio=\"none\" style=\"width:265px;height:387px;\" version=\"1.1\" viewBox=\"0 0 265 387\" width=\"265px\" zoomAndPan=\"magnify\"><defs/><g><!--MD5=[43c9051892ef23e1a46a86907403d788]\n",
       "class E1--><a href=\"psysml:ec9d2101-14b6-425a-8b3b-258973824e57\" target=\"_top\" title=\"psysml:ec9d2101-14b6-425a-8b3b-258973824e57\" xlink:actuate=\"onRequest\" xlink:href=\"psysml:ec9d2101-14b6-425a-8b3b-258973824e57\" xlink:show=\"new\" xlink:title=\"psysml:ec9d2101-14b6-425a-8b3b-258973824e57\" xlink:type=\"simple\"><rect fill=\"#FFFFFF\" height=\"105.1563\" id=\"E1\" style=\"stroke: #383838; stroke-width: 1.5;\" width=\"86\" x=\"7\" y=\"180.5\"/><text fill=\"#000000\" font-family=\"sans-serif\" font-size=\"12\" font-style=\"italic\" lengthAdjust=\"spacingAndGlyphs\" textLength=\"77\" x=\"11.5\" y=\"196.6387\">«action def»</text><text fill=\"#000000\" font-family=\"sans-serif\" font-size=\"12\" lengthAdjust=\"spacingAndGlyphs\" textLength=\"80\" x=\"10\" y=\"210.6074\">DecisionTest</text><line style=\"stroke: #383838; stroke-width: 1.5;\" x1=\"8\" x2=\"92\" y1=\"218.4375\" y2=\"218.4375\"/><text fill=\"#000000\" font-family=\"sans-serif\" font-size=\"11\" lengthAdjust=\"spacingAndGlyphs\" textLength=\"30\" x=\"13\" y=\"249.4526\">x= 1;</text><line style=\"stroke: #383838; stroke-width: 1.0;\" x1=\"8\" x2=\"22.5\" y1=\"232.8398\" y2=\"232.8398\"/><text fill=\"#000000\" font-family=\"sans-serif\" font-size=\"11\" lengthAdjust=\"spacingAndGlyphs\" textLength=\"55\" x=\"22.5\" y=\"236.1479\">attributes</text><line style=\"stroke: #383838; stroke-width: 1.0;\" x1=\"77.5\" x2=\"92\" y1=\"232.8398\" y2=\"232.8398\"/><text fill=\"#000000\" font-family=\"sans-serif\" font-size=\"11\" lengthAdjust=\"spacingAndGlyphs\" textLength=\"8\" x=\"13\" y=\"279.062\">S</text><line style=\"stroke: #383838; stroke-width: 1.0;\" x1=\"8\" x2=\"19.5\" y1=\"262.4492\" y2=\"262.4492\"/><text fill=\"#000000\" font-family=\"sans-serif\" font-size=\"11\" lengthAdjust=\"spacingAndGlyphs\" textLength=\"61\" x=\"19.5\" y=\"265.7573\">transitions</text><line style=\"stroke: #383838; stroke-width: 1.0;\" x1=\"80.5\" x2=\"92\" y1=\"262.4492\" y2=\"262.4492\"/></a><!--MD5=[b4997ac47864f28c2f74865a473b2911]\n",
       "class E2--><a href=\"psysml:7b5c557c-0eca-43da-893a-884adf177ee9\" target=\"_top\" title=\"psysml:7b5c557c-0eca-43da-893a-884adf177ee9\" xlink:actuate=\"onRequest\" xlink:href=\"psysml:7b5c557c-0eca-43da-893a-884adf177ee9\" xlink:show=\"new\" xlink:title=\"psysml:7b5c557c-0eca-43da-893a-884adf177ee9\" xlink:type=\"simple\"><rect fill=\"#FFFFFF\" height=\"45.9375\" id=\"E2\" rx=\"10\" ry=\"10\" style=\"stroke: #383838; stroke-width: 1.5;\" width=\"101\" x=\"153\" y=\"7\"/><text fill=\"#000000\" font-family=\"sans-serif\" font-size=\"12\" font-style=\"italic\" lengthAdjust=\"spacingAndGlyphs\" textLength=\"99\" x=\"154\" y=\"23.1387\">«decisionNode»</text><text fill=\"#000000\" font-family=\"sans-serif\" font-size=\"12\" lengthAdjust=\"spacingAndGlyphs\" textLength=\"35\" x=\"186\" y=\"37.1074\">test x</text><line style=\"stroke: #383838; stroke-width: 1.5;\" x1=\"154\" x2=\"253\" y1=\"44.9375\" y2=\"44.9375\"/></a><!--MD5=[09b614a08d8cba4a07c9adeb5e0fee81]\n",
       "class E3--><a href=\"psysml:c8637911-bdae-488c-9ae7-71f0e05f074a\" target=\"_top\" title=\"psysml:c8637911-bdae-488c-9ae7-71f0e05f074a\" xlink:actuate=\"onRequest\" xlink:href=\"psysml:c8637911-bdae-488c-9ae7-71f0e05f074a\" xlink:show=\"new\" xlink:title=\"psysml:c8637911-bdae-488c-9ae7-71f0e05f074a\" xlink:type=\"simple\"><rect fill=\"#FFFFFF\" height=\"45.9375\" id=\"E3\" rx=\"10\" ry=\"10\" style=\"stroke: #383838; stroke-width: 1.5;\" width=\"101\" x=\"153\" y=\"88\"/><text fill=\"#000000\" font-family=\"sans-serif\" font-size=\"12\" font-style=\"italic\" lengthAdjust=\"spacingAndGlyphs\" textLength=\"99\" x=\"154\" y=\"104.1387\">«decisionNode»</text><text fill=\"#000000\" font-family=\"sans-serif\" font-size=\"12\" lengthAdjust=\"spacingAndGlyphs\" text-decoration=\"line-through\" textLength=\"51\" x=\"178\" y=\"118.1074\">noname</text><line style=\"stroke: #383838; stroke-width: 1.5;\" x1=\"154\" x2=\"253\" y1=\"125.9375\" y2=\"125.9375\"/></a><!--MD5=[ebbe1d658d1005bcc118a6aa81145e00]\n",
       "class E4--><a href=\"psysml:2b21def1-54fd-4014-8db4-beef5c1da0f0\" target=\"_top\" title=\"psysml:2b21def1-54fd-4014-8db4-beef5c1da0f0\" xlink:actuate=\"onRequest\" xlink:href=\"psysml:2b21def1-54fd-4014-8db4-beef5c1da0f0\" xlink:show=\"new\" xlink:title=\"psysml:2b21def1-54fd-4014-8db4-beef5c1da0f0\" xlink:type=\"simple\"><rect fill=\"#FFFFFF\" height=\"45.9375\" id=\"E4\" rx=\"10\" ry=\"10\" style=\"stroke: #383838; stroke-width: 1.5;\" width=\"55\" x=\"176\" y=\"169\"/><text fill=\"#000000\" font-family=\"sans-serif\" font-size=\"12\" font-style=\"italic\" lengthAdjust=\"spacingAndGlyphs\" textLength=\"53\" x=\"177\" y=\"185.1387\">«action»</text><text fill=\"#000000\" font-family=\"sans-serif\" font-size=\"12\" lengthAdjust=\"spacingAndGlyphs\" textLength=\"16\" x=\"195.5\" y=\"199.1074\">A1</text><line style=\"stroke: #383838; stroke-width: 1.5;\" x1=\"177\" x2=\"230\" y1=\"206.9375\" y2=\"206.9375\"/></a><!--MD5=[270fce915f116d4de14055a7c1d9a0f3]\n",
       "class E5--><a href=\"psysml:a7c18d95-cb4e-4d18-b7c9-a948ce4b9e35\" target=\"_top\" title=\"psysml:a7c18d95-cb4e-4d18-b7c9-a948ce4b9e35\" xlink:actuate=\"onRequest\" xlink:href=\"psysml:a7c18d95-cb4e-4d18-b7c9-a948ce4b9e35\" xlink:show=\"new\" xlink:title=\"psysml:a7c18d95-cb4e-4d18-b7c9-a948ce4b9e35\" xlink:type=\"simple\"><rect fill=\"#FFFFFF\" height=\"45.9375\" id=\"E5\" rx=\"10\" ry=\"10\" style=\"stroke: #383838; stroke-width: 1.5;\" width=\"55\" x=\"176\" y=\"250\"/><text fill=\"#000000\" font-family=\"sans-serif\" font-size=\"12\" font-style=\"italic\" lengthAdjust=\"spacingAndGlyphs\" textLength=\"53\" x=\"177\" y=\"266.1387\">«action»</text><text fill=\"#000000\" font-family=\"sans-serif\" font-size=\"12\" lengthAdjust=\"spacingAndGlyphs\" textLength=\"16\" x=\"195.5\" y=\"280.1074\">A2</text><line style=\"stroke: #383838; stroke-width: 1.5;\" x1=\"177\" x2=\"230\" y1=\"287.9375\" y2=\"287.9375\"/></a><!--MD5=[60a26617385b1d2d0262a64233df1f8d]\n",
       "class E6--><a href=\"psysml:6ad7aed3-e22d-47c2-b6cf-45fd0f629de6\" target=\"_top\" title=\"psysml:6ad7aed3-e22d-47c2-b6cf-45fd0f629de6\" xlink:actuate=\"onRequest\" xlink:href=\"psysml:6ad7aed3-e22d-47c2-b6cf-45fd0f629de6\" xlink:show=\"new\" xlink:title=\"psysml:6ad7aed3-e22d-47c2-b6cf-45fd0f629de6\" xlink:type=\"simple\"><rect fill=\"#FFFFFF\" height=\"45.9375\" id=\"E6\" rx=\"10\" ry=\"10\" style=\"stroke: #383838; stroke-width: 1.5;\" width=\"55\" x=\"176\" y=\"331\"/><text fill=\"#000000\" font-family=\"sans-serif\" font-size=\"12\" font-style=\"italic\" lengthAdjust=\"spacingAndGlyphs\" textLength=\"53\" x=\"177\" y=\"347.1387\">«action»</text><text fill=\"#000000\" font-family=\"sans-serif\" font-size=\"12\" lengthAdjust=\"spacingAndGlyphs\" textLength=\"16\" x=\"195.5\" y=\"361.1074\">A3</text><line style=\"stroke: #383838; stroke-width: 1.5;\" x1=\"177\" x2=\"230\" y1=\"368.9375\" y2=\"368.9375\"/></a><!--MD5=[a523cb2a0b79ecf9065ad8783f96c320]\n",
       "reverse link E1 to E2--><a href=\"psysml:a3cf86ed-3d1a-4135-b385-a97024d6cab4\" target=\"_top\" title=\"psysml:a3cf86ed-3d1a-4135-b385-a97024d6cab4\" xlink:actuate=\"onRequest\" xlink:href=\"psysml:a3cf86ed-3d1a-4135-b385-a97024d6cab4\" xlink:show=\"new\" xlink:title=\"psysml:a3cf86ed-3d1a-4135-b385-a97024d6cab4\" xlink:type=\"simple\"><path d=\"M84.61,168.67 C102.65,137.21 126.59,99.8 153,70 C158.28,64.05 164.5,58.28 170.72,53.06 \" fill=\"none\" id=\"E1&lt;-E2\" style=\"stroke: #383838; stroke-width: 1.0;\"/><polygon fill=\"#383838\" points=\"77.99,180.41,84.4226,177.1508,83.8882,169.9596,77.4556,173.2187,77.99,180.41\" style=\"stroke: #383838; stroke-width: 1.0;\"/></a><!--MD5=[5d7b3810b1dd9b5164bea1151b29b665]\n",
       "reverse link E1 to E3--><a href=\"psysml:1909c977-6510-4eff-a578-3c7de40e7c8b\" target=\"_top\" title=\"psysml:1909c977-6510-4eff-a578-3c7de40e7c8b\" xlink:actuate=\"onRequest\" xlink:href=\"psysml:1909c977-6510-4eff-a578-3c7de40e7c8b\" xlink:show=\"new\" xlink:title=\"psysml:1909c977-6510-4eff-a578-3c7de40e7c8b\" xlink:type=\"simple\"><path d=\"M103.44,190.77 C127.09,171.73 154.09,149.98 173.93,134.01 \" fill=\"none\" id=\"E1&lt;-E3\" style=\"stroke: #383838; stroke-width: 1.0;\"/><polygon fill=\"#383838\" points=\"93.2,199.02,100.3819,198.3719,102.5459,191.4932,95.364,192.1413,93.2,199.02\" style=\"stroke: #383838; stroke-width: 1.0;\"/></a><!--MD5=[f2c5c03aa1e8c0ba21c10a05e6444b8e]\n",
       "reverse link E1 to E4--><a href=\"psysml:fda894ee-2ee4-49d0-993e-77e7f0096dce\" target=\"_top\" title=\"psysml:fda894ee-2ee4-49d0-993e-77e7f0096dce\" xlink:actuate=\"onRequest\" xlink:href=\"psysml:fda894ee-2ee4-49d0-993e-77e7f0096dce\" xlink:show=\"new\" xlink:title=\"psysml:fda894ee-2ee4-49d0-993e-77e7f0096dce\" xlink:type=\"simple\"><path d=\"M106.03,218.11 C129.79,211.68 156.49,204.45 175.77,199.23 \" fill=\"none\" id=\"E1&lt;-E4\" style=\"stroke: #383838; stroke-width: 1.0;\"/><polygon fill=\"#383838\" points=\"93.2,221.58,100.0369,223.8729,104.7829,218.4438,97.9461,216.1509,93.2,221.58\" style=\"stroke: #383838; stroke-width: 1.0;\"/><text fill=\"#000000\" font-family=\"sans-serif\" font-size=\"13\" lengthAdjust=\"spacingAndGlyphs\" textLength=\"7\" x=\"161.1577\" y=\"214.9111\">*</text></a><!--MD5=[33238bef88d6431a141d8bc8fb12bca0]\n",
       "reverse link E1 to E5--><a href=\"psysml:109468b3-506c-4497-b8ac-b8e68c843a0f\" target=\"_top\" title=\"psysml:109468b3-506c-4497-b8ac-b8e68c843a0f\" xlink:actuate=\"onRequest\" xlink:href=\"psysml:109468b3-506c-4497-b8ac-b8e68c843a0f\" xlink:show=\"new\" xlink:title=\"psysml:109468b3-506c-4497-b8ac-b8e68c843a0f\" xlink:type=\"simple\"><path d=\"M106.03,247.53 C129.79,253.8 156.49,260.85 175.77,265.94 \" fill=\"none\" id=\"E1&lt;-E5\" style=\"stroke: #383838; stroke-width: 1.0;\"/><polygon fill=\"#383838\" points=\"93.2,244.14,97.9821,249.5374,104.8035,247.1991,100.0215,241.8017,93.2,244.14\" style=\"stroke: #383838; stroke-width: 1.0;\"/><text fill=\"#000000\" font-family=\"sans-serif\" font-size=\"13\" lengthAdjust=\"spacingAndGlyphs\" textLength=\"7\" x=\"161.1577\" y=\"278.1379\">*</text></a><!--MD5=[aca2ef284c2b1b90e17e73bf3f292c07]\n",
       "reverse link E1 to E6--><a href=\"psysml:74d19cab-9a73-4108-b783-78a99b82b215\" target=\"_top\" title=\"psysml:74d19cab-9a73-4108-b783-78a99b82b215\" xlink:actuate=\"onRequest\" xlink:href=\"psysml:74d19cab-9a73-4108-b783-78a99b82b215\" xlink:show=\"new\" xlink:title=\"psysml:74d19cab-9a73-4108-b783-78a99b82b215\" xlink:type=\"simple\"><path d=\"M103.08,286.77 C127.55,307.53 155.68,329.28 175.77,342.64 \" fill=\"none\" id=\"E1&lt;-E6\" style=\"stroke: #383838; stroke-width: 1.0;\"/><polygon fill=\"#383838\" points=\"93.2,278.27,95.1433,285.2143,102.3008,286.0914,100.3576,279.1471,93.2,278.27\" style=\"stroke: #383838; stroke-width: 1.0;\"/><text fill=\"#000000\" font-family=\"sans-serif\" font-size=\"13\" lengthAdjust=\"spacingAndGlyphs\" textLength=\"7\" x=\"161.1577\" y=\"353.7898\">*</text></a><!--MD5=[aca2ef284c2b1b90e17e73bf3f292c07]\n",
       "reverse link E1 to E6--><a href=\"psysml:5ce6f7c0-8ea6-4680-8afe-13e322408ece\" target=\"_top\" title=\"psysml:5ce6f7c0-8ea6-4680-8afe-13e322408ece\" xlink:actuate=\"onRequest\" xlink:href=\"psysml:5ce6f7c0-8ea6-4680-8afe-13e322408ece\" xlink:show=\"new\" xlink:title=\"psysml:5ce6f7c0-8ea6-4680-8afe-13e322408ece\" xlink:type=\"simple\"><path d=\"M105.61,263.6 C133.38,284.49 165.27,311.27 184.65,330.66 \" fill=\"none\" id=\"E1&lt;-E6-1\" style=\"stroke: #383838; stroke-width: 1.0; stroke-dasharray: 7.0,7.0;\"/><ellipse cx=\"99.6454\" cy=\"259.1988\" fill=\"#FFFFFF\" rx=\"8\" ry=\"8\" style=\"stroke: #383838; stroke-width: 1.0;\"/><line style=\"stroke: #383838; stroke-width: 1.0;\" x1=\"106.0908\" x2=\"93.2\" y1=\"263.9377\" y2=\"254.46\"/><line style=\"stroke: #383838; stroke-width: 1.0;\" x1=\"94.9066\" x2=\"104.3843\" y1=\"265.6443\" y2=\"252.7534\"/><text fill=\"#000000\" font-family=\"sans-serif\" font-size=\"13\" lengthAdjust=\"spacingAndGlyphs\" textLength=\"7\" x=\"171.9228\" y=\"319.8492\">*</text></a><!--MD5=[17c17a3c31d6db6a266abb0a4709195d]\n",
       "@startuml\r\n",
       "left to right direction\r\n",
       "skinparam monochrome true\r\n",
       "skinparam classbackgroundcolor white\r\n",
       "skinparam shadowing false\r\n",
       "skinparam wrapWidth 300\r\n",
       "hide circle\r\n",
       "\r\n",
       "comp def \"DecisionTest\" as E1  <<(T,blue) action def>> [[psysml:ec9d2101-14b6-425a-8b3b-258973824e57 ]] {\r\n",
       "- - attributes - -\r\n",
       "x= 1; \r\n",
       "- - transitions - -\r\n",
       "S\r\n",
       "}\r\n",
       "comp usage \"test x\" as E2  <<(T,blue) decisionNode>> [[psysml:7b5c557c-0eca-43da-893a-884adf177ee9 ]] {\r\n",
       "}\r\n",
       "comp usage \"<s>noname</s>\" as E3  <<(T,blue) decisionNode>> [[psysml:c8637911-bdae-488c-9ae7-71f0e05f074a ]] {\r\n",
       "}\r\n",
       "comp usage \"A1\" as E4  <<(T,blue) action>> [[psysml:2b21def1-54fd-4014-8db4-beef5c1da0f0 ]] {\r\n",
       "}\r\n",
       "comp usage \"A2\" as E5  <<(T,blue) action>> [[psysml:a7c18d95-cb4e-4d18-b7c9-a948ce4b9e35 ]] {\r\n",
       "}\r\n",
       "comp usage \"A3\" as E6  <<(T,blue) action>> [[psysml:6ad7aed3-e22d-47c2-b6cf-45fd0f629de6 ]] {\r\n",
       "}\r\n",
       "E1 *- - E2 [[psysml:a3cf86ed-3d1a-4135-b385-a97024d6cab4 ]] \r\n",
       "E1 *- - E3 [[psysml:1909c977-6510-4eff-a578-3c7de40e7c8b ]] \r\n",
       "E1 *- - \"*\"E4 [[psysml:fda894ee-2ee4-49d0-993e-77e7f0096dce ]] \r\n",
       "E1 *- - \"*\"E5 [[psysml:109468b3-506c-4497-b8ac-b8e68c843a0f ]] \r\n",
       "E1 *- - \"*\"E6 [[psysml:74d19cab-9a73-4108-b783-78a99b82b215 ]] \r\n",
       "E1 +.. \"*\"E6 [[psysml:5ce6f7c0-8ea6-4680-8afe-13e322408ece ]] \r\n",
       "@enduml\r\n",
       "\n",
       "PlantUML version 1.2020.13(Sat Jun 13 12:26:38 UTC 2020)\n",
       "(EPL source distribution)\n",
       "Java Runtime: OpenJDK Runtime Environment\n",
       "JVM: OpenJDK 64-Bit Server VM\n",
       "Default Encoding: UTF-8\n",
       "Language: en\n",
       "Country: null\n",
       "--></g></svg>"
      ]
     },
     "execution_count": 17,
     "metadata": {},
     "output_type": "execute_result"
    }
   ],
   "source": [
    "%viz --style=\"LR\" --view=\"Tree\" \"DecisionTest\""
   ]
  },
  {
   "cell_type": "code",
   "execution_count": 18,
   "id": "0c6998b6",
   "metadata": {
    "execution": {
     "iopub.execute_input": "2021-10-03T08:29:01.243623Z",
     "iopub.status.busy": "2021-10-03T08:29:01.242925Z",
     "iopub.status.idle": "2021-10-03T08:29:01.248947Z",
     "shell.execute_reply": "2021-10-03T08:29:01.249311Z"
    }
   },
   "outputs": [
    {
     "data": {
      "image/svg+xml": [
       "<?xml version=\"1.0\" encoding=\"UTF-8\" standalone=\"no\"?><svg xmlns=\"http://www.w3.org/2000/svg\" xmlns:xlink=\"http://www.w3.org/1999/xlink\" contentScriptType=\"application/ecmascript\" contentStyleType=\"text/css\" height=\"12px\" preserveAspectRatio=\"none\" style=\"width:12px;height:12px;\" version=\"1.1\" viewBox=\"0 0 12 12\" width=\"12px\" zoomAndPan=\"magnify\"><defs/><g><!--MD5=[19d285c9d72a204eba4e2cd117d745e8]\n",
       "@startuml\r\n",
       "left to right direction\r\n",
       "skinparam monochrome true\r\n",
       "skinparam classbackgroundcolor white\r\n",
       "skinparam shadowing false\r\n",
       "skinparam wrapWidth 300\r\n",
       "hide circle\r\n",
       "\r\n",
       "@enduml\r\n",
       "\n",
       "PlantUML version 1.2020.13(Sat Jun 13 12:26:38 UTC 2020)\n",
       "(EPL source distribution)\n",
       "Java Runtime: OpenJDK Runtime Environment\n",
       "JVM: OpenJDK 64-Bit Server VM\n",
       "Default Encoding: UTF-8\n",
       "Language: en\n",
       "Country: null\n",
       "--></g></svg>"
      ]
     },
     "execution_count": 18,
     "metadata": {},
     "output_type": "execute_result"
    }
   ],
   "source": [
    "%viz --style=\"LR\" --view=\"State\" \"DecisionTest\""
   ]
  },
  {
   "cell_type": "code",
   "execution_count": 19,
   "id": "8bb7f7e5",
   "metadata": {
    "execution": {
     "iopub.execute_input": "2021-10-03T08:29:01.298763Z",
     "iopub.status.busy": "2021-10-03T08:29:01.298364Z",
     "iopub.status.idle": "2021-10-03T08:29:01.341267Z",
     "shell.execute_reply": "2021-10-03T08:29:01.339530Z"
    }
   },
   "outputs": [
    {
     "data": {
      "image/svg+xml": [
       "<?xml version=\"1.0\" encoding=\"UTF-8\" standalone=\"no\"?><svg xmlns=\"http://www.w3.org/2000/svg\" xmlns:xlink=\"http://www.w3.org/1999/xlink\" contentScriptType=\"application/ecmascript\" contentStyleType=\"text/css\" height=\"312px\" preserveAspectRatio=\"none\" style=\"width:487px;height:312px;\" version=\"1.1\" viewBox=\"0 0 487 312\" width=\"487px\" zoomAndPan=\"magnify\"><defs/><g><!--MD5=[fbc87193dbaf4d95561dea2c320d4a47]\n",
       "cluster E1--><a href=\"psysml:ec9d2101-14b6-425a-8b3b-258973824e57\" target=\"_top\" title=\"psysml:ec9d2101-14b6-425a-8b3b-258973824e57\" xlink:actuate=\"onRequest\" xlink:href=\"psysml:ec9d2101-14b6-425a-8b3b-258973824e57\" xlink:show=\"new\" xlink:title=\"psysml:ec9d2101-14b6-425a-8b3b-258973824e57\" xlink:type=\"simple\"><rect fill=\"#FFFFFF\" height=\"294\" id=\"E1\" style=\"stroke: #383838; stroke-width: 1.5;\" width=\"469\" x=\"7\" y=\"7\"/><rect fill=\"#F8F8F8\" height=\"37.9375\" style=\"stroke: #383838; stroke-width: 1.5;\" width=\"469\" x=\"7\" y=\"7\"/><text fill=\"#000000\" font-family=\"sans-serif\" font-size=\"12\" font-style=\"italic\" lengthAdjust=\"spacingAndGlyphs\" textLength=\"77\" x=\"203\" y=\"23.1387\">«action def»</text><text fill=\"#000000\" font-family=\"sans-serif\" font-size=\"12\" lengthAdjust=\"spacingAndGlyphs\" textLength=\"80\" x=\"201.5\" y=\"37.1074\">DecisionTest</text></a><polygon fill=\"#F8F8F8\" points=\"53,126,65,138,53,150,41,138,53,126\" style=\"stroke: #383838; stroke-width: 1.5;\"/><polygon fill=\"#F8F8F8\" points=\"175,261,187,273,175,285,163,273,175,261\" style=\"stroke: #383838; stroke-width: 1.5;\"/><g id=\"E1.E4\"><a href=\"psysml:2b21def1-54fd-4014-8db4-beef5c1da0f0\" target=\"_top\" title=\"psysml:2b21def1-54fd-4014-8db4-beef5c1da0f0\" xlink:actuate=\"onRequest\" xlink:href=\"psysml:2b21def1-54fd-4014-8db4-beef5c1da0f0\" xlink:show=\"new\" xlink:title=\"psysml:2b21def1-54fd-4014-8db4-beef5c1da0f0\" xlink:type=\"simple\"><rect fill=\"#FFFFFF\" height=\"42.9375\" id=\"E4\" rx=\"10\" ry=\"10\" style=\"stroke: #383838; stroke-width: 1.5;\" width=\"60\" x=\"267\" y=\"154.5\"/><rect fill=\"#F8F8F8\" height=\"37.9375\" rx=\"10\" ry=\"10\" style=\"stroke: #F8F8F8; stroke-width: 1.5;\" width=\"60\" x=\"267\" y=\"154.5\"/><rect fill=\"#F8F8F8\" height=\"10\" style=\"stroke: #F8F8F8; stroke-width: 1.5;\" width=\"60\" x=\"267\" y=\"182.4375\"/><rect fill=\"none\" height=\"42.9375\" id=\"E4\" rx=\"10\" ry=\"10\" style=\"stroke: #383838; stroke-width: 1.5;\" width=\"60\" x=\"267\" y=\"154.5\"/><text fill=\"#000000\" font-family=\"sans-serif\" font-size=\"12\" font-style=\"italic\" lengthAdjust=\"spacingAndGlyphs\" textLength=\"53\" x=\"270.5\" y=\"170.6387\">«action»</text><text fill=\"#000000\" font-family=\"sans-serif\" font-size=\"12\" lengthAdjust=\"spacingAndGlyphs\" textLength=\"16\" x=\"289\" y=\"184.6074\">A1</text></a></g><g id=\"E1.E5\"><a href=\"psysml:a7c18d95-cb4e-4d18-b7c9-a948ce4b9e35\" target=\"_top\" title=\"psysml:a7c18d95-cb4e-4d18-b7c9-a948ce4b9e35\" xlink:actuate=\"onRequest\" xlink:href=\"psysml:a7c18d95-cb4e-4d18-b7c9-a948ce4b9e35\" xlink:show=\"new\" xlink:title=\"psysml:a7c18d95-cb4e-4d18-b7c9-a948ce4b9e35\" xlink:type=\"simple\"><rect fill=\"#FFFFFF\" height=\"42.9375\" id=\"E5\" rx=\"10\" ry=\"10\" style=\"stroke: #383838; stroke-width: 1.5;\" width=\"60\" x=\"400\" y=\"154.5\"/><rect fill=\"#F8F8F8\" height=\"37.9375\" rx=\"10\" ry=\"10\" style=\"stroke: #F8F8F8; stroke-width: 1.5;\" width=\"60\" x=\"400\" y=\"154.5\"/><rect fill=\"#F8F8F8\" height=\"10\" style=\"stroke: #F8F8F8; stroke-width: 1.5;\" width=\"60\" x=\"400\" y=\"182.4375\"/><rect fill=\"none\" height=\"42.9375\" id=\"E5\" rx=\"10\" ry=\"10\" style=\"stroke: #383838; stroke-width: 1.5;\" width=\"60\" x=\"400\" y=\"154.5\"/><text fill=\"#000000\" font-family=\"sans-serif\" font-size=\"12\" font-style=\"italic\" lengthAdjust=\"spacingAndGlyphs\" textLength=\"53\" x=\"403.5\" y=\"170.6387\">«action»</text><text fill=\"#000000\" font-family=\"sans-serif\" font-size=\"12\" lengthAdjust=\"spacingAndGlyphs\" textLength=\"16\" x=\"422\" y=\"184.6074\">A2</text></a></g><g id=\"E1.E6\"><a href=\"psysml:6ad7aed3-e22d-47c2-b6cf-45fd0f629de6\" target=\"_top\" title=\"psysml:6ad7aed3-e22d-47c2-b6cf-45fd0f629de6\" xlink:actuate=\"onRequest\" xlink:href=\"psysml:6ad7aed3-e22d-47c2-b6cf-45fd0f629de6\" xlink:show=\"new\" xlink:title=\"psysml:6ad7aed3-e22d-47c2-b6cf-45fd0f629de6\" xlink:type=\"simple\"><rect fill=\"#FFFFFF\" height=\"42.9375\" id=\"E6\" rx=\"10\" ry=\"10\" style=\"stroke: #383838; stroke-width: 1.5;\" width=\"60\" x=\"23\" y=\"213.5\"/><rect fill=\"#F8F8F8\" height=\"37.9375\" rx=\"10\" ry=\"10\" style=\"stroke: #F8F8F8; stroke-width: 1.5;\" width=\"60\" x=\"23\" y=\"213.5\"/><rect fill=\"#F8F8F8\" height=\"10\" style=\"stroke: #F8F8F8; stroke-width: 1.5;\" width=\"60\" x=\"23\" y=\"241.4375\"/><rect fill=\"none\" height=\"42.9375\" id=\"E6\" rx=\"10\" ry=\"10\" style=\"stroke: #383838; stroke-width: 1.5;\" width=\"60\" x=\"23\" y=\"213.5\"/><text fill=\"#000000\" font-family=\"sans-serif\" font-size=\"12\" font-style=\"italic\" lengthAdjust=\"spacingAndGlyphs\" textLength=\"53\" x=\"26.5\" y=\"229.6387\">«action»</text><text fill=\"#000000\" font-family=\"sans-serif\" font-size=\"12\" lengthAdjust=\"spacingAndGlyphs\" textLength=\"16\" x=\"45\" y=\"243.6074\">A3</text></a></g><g id=\"E1.E7\"><a href=\"psysml:6ad7aed3-e22d-47c2-b6cf-45fd0f629de6\" target=\"_top\" title=\"psysml:6ad7aed3-e22d-47c2-b6cf-45fd0f629de6\" xlink:actuate=\"onRequest\" xlink:href=\"psysml:6ad7aed3-e22d-47c2-b6cf-45fd0f629de6\" xlink:show=\"new\" xlink:title=\"psysml:6ad7aed3-e22d-47c2-b6cf-45fd0f629de6\" xlink:type=\"simple\"><rect fill=\"#FFFFFF\" height=\"42.9375\" id=\"E7\" rx=\"10\" ry=\"10\" style=\"stroke: #383838; stroke-width: 1.5;\" width=\"60\" x=\"145\" y=\"58.5\"/><rect fill=\"#F8F8F8\" height=\"37.9375\" rx=\"10\" ry=\"10\" style=\"stroke: #F8F8F8; stroke-width: 1.5;\" width=\"60\" x=\"145\" y=\"58.5\"/><rect fill=\"#F8F8F8\" height=\"10\" style=\"stroke: #F8F8F8; stroke-width: 1.5;\" width=\"60\" x=\"145\" y=\"86.4375\"/><rect fill=\"none\" height=\"42.9375\" id=\"E7\" rx=\"10\" ry=\"10\" style=\"stroke: #383838; stroke-width: 1.5;\" width=\"60\" x=\"145\" y=\"58.5\"/><text fill=\"#000000\" font-family=\"sans-serif\" font-size=\"12\" font-style=\"italic\" lengthAdjust=\"spacingAndGlyphs\" textLength=\"53\" x=\"148.5\" y=\"74.6387\">«action»</text><text fill=\"#000000\" font-family=\"sans-serif\" font-size=\"12\" lengthAdjust=\"spacingAndGlyphs\" textLength=\"16\" x=\"167\" y=\"88.6074\">A3</text></a></g><!--MD5=[4d03bb2d0377dc85ccfab60ff574652b]\n",
       "link E2 to E4--><a href=\"psysml:07a447fb-7978-4e35-9306-ac5ec116db5d\" target=\"_top\" title=\"psysml:07a447fb-7978-4e35-9306-ac5ec116db5d\" xlink:actuate=\"onRequest\" xlink:href=\"psysml:07a447fb-7978-4e35-9306-ac5ec116db5d\" xlink:show=\"new\" xlink:title=\"psysml:07a447fb-7978-4e35-9306-ac5ec116db5d\" xlink:type=\"simple\"><path d=\"M62.41,140.94 C78.32,146.39 114.02,158.03 145,164 C174.83,169.75 182.72,168.53 213,171 C228.89,172.3 246.52,173.4 261.42,174.25 \" fill=\"none\" id=\"E2-&gt;E4\" style=\"stroke: #383838; stroke-width: 1.0;\"/><polygon fill=\"#383838\" points=\"266.79,174.54,258.0208,170.0567,261.7974,174.2682,257.5859,178.0448,266.79,174.54\" style=\"stroke: #383838; stroke-width: 1.0;\"/><text fill=\"#000000\" font-family=\"sans-serif\" font-size=\"13\" lengthAdjust=\"spacingAndGlyphs\" textLength=\"55\" x=\"147.5\" y=\"160.0669\">[x == 1]</text><text fill=\"#000000\" font-family=\"sans-serif\" font-size=\"13\" lengthAdjust=\"spacingAndGlyphs\" textLength=\"7\" x=\"251.9946\" y=\"188.0262\">*</text></a><!--MD5=[dcad52bbbca2fe8adc741ce38b45dc12]\n",
       "link E2 to E5--><a href=\"psysml:f195b54a-5fed-403e-bb02-20f21e154f17\" target=\"_top\" title=\"psysml:f195b54a-5fed-403e-bb02-20f21e154f17\" xlink:actuate=\"onRequest\" xlink:href=\"psysml:f195b54a-5fed-403e-bb02-20f21e154f17\" xlink:show=\"new\" xlink:title=\"psysml:f195b54a-5fed-403e-bb02-20f21e154f17\" xlink:type=\"simple\"><path d=\"M64.69,137.65 C108.56,136.25 274.8,131.44 327,137 C356.39,140.13 364.82,139.41 392,151 C392.96,151.41 393.93,151.85 394.89,152.31 \" fill=\"none\" id=\"E2-&gt;E5\" style=\"stroke: #383838; stroke-width: 1.0;\"/><polygon fill=\"#383838\" points=\"399.68,154.77,393.5069,147.0958,395.2339,152.4826,389.8471,154.2096,399.68,154.77\" style=\"stroke: #383838; stroke-width: 1.0;\"/><text fill=\"#000000\" font-family=\"sans-serif\" font-size=\"13\" lengthAdjust=\"spacingAndGlyphs\" textLength=\"44\" x=\"214\" y=\"131.0669\">[x &gt; 1]</text><text fill=\"#000000\" font-family=\"sans-serif\" font-size=\"13\" lengthAdjust=\"spacingAndGlyphs\" textLength=\"7\" x=\"384.8591\" y=\"163.6844\">*</text></a><!--MD5=[e3d2a08a9c9236652057e8ed0cbc9b62]\n",
       "link E2 to E7--><a href=\"psysml:15c91a99-d9b4-4320-8388-ef3655122685\" target=\"_top\" title=\"psysml:15c91a99-d9b4-4320-8388-ef3655122685\" xlink:actuate=\"onRequest\" xlink:href=\"psysml:15c91a99-d9b4-4320-8388-ef3655122685\" xlink:show=\"new\" xlink:title=\"psysml:15c91a99-d9b4-4320-8388-ef3655122685\" xlink:type=\"simple\"><path d=\"M63.4,136.24 C84.45,132.27 133.79,122.83 137,121 C143.76,117.13 149.96,111.59 155.27,105.83 \" fill=\"none\" id=\"E2-&gt;E7\" style=\"stroke: #383838; stroke-width: 1.0;\"/><polygon fill=\"#383838\" points=\"158.8,101.82,149.8466,105.9232,155.4924,105.5696,155.8459,111.2154,158.8,101.82\" style=\"stroke: #383838; stroke-width: 1.0;\"/><text fill=\"#000000\" font-family=\"sans-serif\" font-size=\"13\" lengthAdjust=\"spacingAndGlyphs\" textLength=\"7\" x=\"146.7519\" y=\"121.4252\">*</text></a><!--MD5=[583832df87f4419a098336a29a52fa00]\n",
       "link E7 to E2--><a href=\"psysml:c19c71e4-b628-4c9d-aa87-db03cc189a8f\" target=\"_top\" title=\"psysml:c19c71e4-b628-4c9d-aa87-db03cc189a8f\" xlink:actuate=\"onRequest\" xlink:href=\"psysml:c19c71e4-b628-4c9d-aa87-db03cc189a8f\" xlink:show=\"new\" xlink:title=\"psysml:c19c71e4-b628-4c9d-aa87-db03cc189a8f\" xlink:type=\"simple\"><path d=\"M144.81,94.11 C119.63,106.28 84.51,123.25 66.2,132.1 \" fill=\"none\" id=\"E7-&gt;E2\" style=\"stroke: #383838; stroke-width: 1.0;\"/><polygon fill=\"#383838\" points=\"61.51,134.37,71.354,134.0612,66.0131,132.1971,67.8773,126.8562,61.51,134.37\" style=\"stroke: #383838; stroke-width: 1.0;\"/><text fill=\"#000000\" font-family=\"sans-serif\" font-size=\"13\" lengthAdjust=\"spacingAndGlyphs\" textLength=\"44\" x=\"92\" y=\"95.0669\">[x &gt; 0]</text><text fill=\"#000000\" font-family=\"sans-serif\" font-size=\"13\" lengthAdjust=\"spacingAndGlyphs\" textLength=\"7\" x=\"73.2198\" y=\"120.6499\">*</text></a><!--MD5=[2720a5a1f2c3fca2055b230370638851]\n",
       "link E2 to E3--><a href=\"psysml:6d6473c9-743e-4105-a2af-98d6bd8c1632\" target=\"_top\" title=\"psysml:6d6473c9-743e-4105-a2af-98d6bd8c1632\" xlink:actuate=\"onRequest\" xlink:href=\"psysml:6d6473c9-743e-4105-a2af-98d6bd8c1632\" xlink:show=\"new\" xlink:title=\"psysml:6d6473c9-743e-4105-a2af-98d6bd8c1632\" xlink:type=\"simple\"><path d=\"M57.63,145.75 C63.59,158 76.25,182.27 91,200 C113.43,226.97 146.15,252.65 163.03,265.13 \" fill=\"none\" id=\"E2-&gt;E3\" style=\"stroke: #383838; stroke-width: 1.0;\"/><polygon fill=\"#383838\" points=\"167.35,268.28,162.442,259.7412,163.3125,265.3306,157.723,266.2011,167.35,268.28\" style=\"stroke: #383838; stroke-width: 1.0;\"/><text fill=\"#000000\" font-family=\"sans-serif\" font-size=\"13\" lengthAdjust=\"spacingAndGlyphs\" textLength=\"7\" x=\"147.8062\" y=\"251.6741\">*</text></a><!--MD5=[af87c684e3b0d8be13c1a698a818ef1e]\n",
       "link E3 to E4--><a href=\"psysml:4dd56774-018b-4c8a-8121-2b3d6a9c557c\" target=\"_top\" title=\"psysml:4dd56774-018b-4c8a-8121-2b3d6a9c557c\" xlink:actuate=\"onRequest\" xlink:href=\"psysml:4dd56774-018b-4c8a-8121-2b3d6a9c557c\" xlink:show=\"new\" xlink:title=\"psysml:4dd56774-018b-4c8a-8121-2b3d6a9c557c\" xlink:type=\"simple\"><path d=\"M183.24,268.64 C198.11,259.54 232.89,237.48 259,215 C263.75,210.91 268.56,206.28 273.06,201.67 \" fill=\"none\" id=\"E3-&gt;E4\" style=\"stroke: #383838; stroke-width: 1.0;\"/><polygon fill=\"#383838\" points=\"276.77,197.83,267.6434,201.5321,273.2993,201.4292,273.4022,207.0851,276.77,197.83\" style=\"stroke: #383838; stroke-width: 1.0;\"/><text fill=\"#000000\" font-family=\"sans-serif\" font-size=\"13\" lengthAdjust=\"spacingAndGlyphs\" textLength=\"36\" x=\"218\" y=\"211.0669\">[true]</text><text fill=\"#000000\" font-family=\"sans-serif\" font-size=\"13\" lengthAdjust=\"spacingAndGlyphs\" textLength=\"7\" x=\"263.6892\" y=\"217.4377\">*</text></a><!--MD5=[0188b64bb0ae78505a997a81836e11e9]\n",
       "link E3 to E5--><a href=\"psysml:2f25c912-d622-4deb-be6f-2375e7caca37\" target=\"_top\" title=\"psysml:2f25c912-d622-4deb-be6f-2375e7caca37\" xlink:actuate=\"onRequest\" xlink:href=\"psysml:2f25c912-d622-4deb-be6f-2375e7caca37\" xlink:show=\"new\" xlink:title=\"psysml:2f25c912-d622-4deb-be6f-2375e7caca37\" xlink:type=\"simple\"><path d=\"M185.44,271.25 C209.6,266.6 275.36,252.84 327,232 C350.69,222.44 375.86,208.66 395.27,197.17 \" fill=\"none\" id=\"E3-&gt;E5\" style=\"stroke: #383838; stroke-width: 1.0;\"/><polygon fill=\"#383838\" points=\"399.57,194.6,389.7917,195.7765,395.2762,197.1619,393.8908,202.6465,399.57,194.6\" style=\"stroke: #383838; stroke-width: 1.0;\"/><text fill=\"#000000\" font-family=\"sans-serif\" font-size=\"13\" lengthAdjust=\"spacingAndGlyphs\" textLength=\"40\" x=\"277\" y=\"228.0669\">[false]</text><text fill=\"#000000\" font-family=\"sans-serif\" font-size=\"13\" lengthAdjust=\"spacingAndGlyphs\" textLength=\"7\" x=\"385.1478\" y=\"212.3976\">*</text></a><!--MD5=[1b7591eae5389033d8d09a9d6721a717]\n",
       "link E4 to E5--><a href=\"psysml:19ac739f-970e-4750-a1cd-14a3501dcfff\" target=\"_top\" title=\"psysml:19ac739f-970e-4750-a1cd-14a3501dcfff\" xlink:actuate=\"onRequest\" xlink:href=\"psysml:19ac739f-970e-4750-a1cd-14a3501dcfff\" xlink:show=\"new\" xlink:title=\"psysml:19ac739f-970e-4750-a1cd-14a3501dcfff\" xlink:type=\"simple\"><path d=\"M327.07,176 C346.95,176 373.38,176 394.35,176 \" fill=\"none\" id=\"E4-&gt;E5\" style=\"stroke: #383838; stroke-width: 1.0;\"/><polygon fill=\"#383838\" points=\"399.56,176,390.56,172,394.56,176,390.56,180,399.56,176\" style=\"stroke: #383838; stroke-width: 1.0;\"/><text fill=\"#000000\" font-family=\"sans-serif\" font-size=\"13\" lengthAdjust=\"spacingAndGlyphs\" textLength=\"55\" x=\"336\" y=\"172.0669\">[x == 0]</text><text fill=\"#000000\" font-family=\"sans-serif\" font-size=\"13\" lengthAdjust=\"spacingAndGlyphs\" textLength=\"7\" x=\"385.1356\" y=\"189.7289\">*</text></a><!--MD5=[c9f684da8aff308b3636ec4bce214c64]\n",
       "@startuml\r\n",
       "skinparam ranksep 10\r\n",
       "skinparam rectangle {\r\n",
       " backgroundColor<<block>> LightGreen\r\n",
       "}\r\n",
       "left to right direction\r\n",
       "skinparam monochrome true\r\n",
       "skinparam classbackgroundcolor white\r\n",
       "skinparam shadowing false\r\n",
       "skinparam wrapWidth 300\r\n",
       "hide circle\r\n",
       "\r\n",
       "rec def \"DecisionTest\" as E1  <<(T,blue) action def>> [[psysml:ec9d2101-14b6-425a-8b3b-258973824e57 ]] {\r\n",
       "choice \"test x\" as E2  [[psysml:7b5c557c-0eca-43da-893a-884adf177ee9 ]] \r\n",
       "choice \"<s>noname</s>\" as E3  [[psysml:c8637911-bdae-488c-9ae7-71f0e05f074a ]] \r\n",
       "rec usage \"A1\" as E4  <<(T,blue) action>> [[psysml:2b21def1-54fd-4014-8db4-beef5c1da0f0 ]] {\r\n",
       "}\r\n",
       "\r\n",
       "rec usage \"A2\" as E5  <<(T,blue) action>> [[psysml:a7c18d95-cb4e-4d18-b7c9-a948ce4b9e35 ]] {\r\n",
       "}\r\n",
       "\r\n",
       "rec usage \"A3\" as E6  <<(T,blue) action>> [[psysml:6ad7aed3-e22d-47c2-b6cf-45fd0f629de6 ]] {\r\n",
       "}\r\n",
       "\r\n",
       "rec usage \"A3\" as E7  <<(T,blue) action>> [[psysml:6ad7aed3-e22d-47c2-b6cf-45fd0f629de6 ]] {\r\n",
       "}\r\n",
       "\r\n",
       "}\r\n",
       "\r\n",
       "E2  - -> \"*\"E4 [[psysml:07a447fb-7978-4e35-9306-ac5ec116db5d ]] : [x == 1]\r\n",
       "E2  - -> \"*\"E5 [[psysml:f195b54a-5fed-403e-bb02-20f21e154f17 ]] : [x > 1]\r\n",
       "E2  - -> \"*\"E7 [[psysml:15c91a99-d9b4-4320-8388-ef3655122685 ]] \r\n",
       "E2 - -> \"*\"E3 [[psysml:6d6473c9-743e-4105-a2af-98d6bd8c1632 ]] \r\n",
       "E3  - -> \"*\"E4 [[psysml:4dd56774-018b-4c8a-8121-2b3d6a9c557c ]] : [true]\r\n",
       "E3  - -> \"*\"E5 [[psysml:2f25c912-d622-4deb-be6f-2375e7caca37 ]] : [false]\r\n",
       "E4  - -> \"*\"E5 [[psysml:19ac739f-970e-4750-a1cd-14a3501dcfff ]] : [x == 0]\r\n",
       "E7  - -> \"*\"E2 [[psysml:c19c71e4-b628-4c9d-aa87-db03cc189a8f ]] : [x > 0]\r\n",
       "@enduml\r\n",
       "\n",
       "PlantUML version 1.2020.13(Sat Jun 13 12:26:38 UTC 2020)\n",
       "(EPL source distribution)\n",
       "Java Runtime: OpenJDK Runtime Environment\n",
       "JVM: OpenJDK 64-Bit Server VM\n",
       "Default Encoding: UTF-8\n",
       "Language: en\n",
       "Country: null\n",
       "--></g></svg>"
      ]
     },
     "execution_count": 19,
     "metadata": {},
     "output_type": "execute_result"
    }
   ],
   "source": [
    "%viz --style=\"LR\" --view=\"Interconnection\" \"DecisionTest\""
   ]
  },
  {
   "cell_type": "code",
   "execution_count": 20,
   "id": "e6cf8a91",
   "metadata": {
    "execution": {
     "iopub.execute_input": "2021-10-03T08:29:01.390773Z",
     "iopub.status.busy": "2021-10-03T08:29:01.390366Z",
     "iopub.status.idle": "2021-10-03T08:29:01.430666Z",
     "shell.execute_reply": "2021-10-03T08:29:01.430312Z"
    }
   },
   "outputs": [
    {
     "data": {
      "image/svg+xml": [
       "<?xml version=\"1.0\" encoding=\"UTF-8\" standalone=\"no\"?><svg xmlns=\"http://www.w3.org/2000/svg\" xmlns:xlink=\"http://www.w3.org/1999/xlink\" contentScriptType=\"application/ecmascript\" contentStyleType=\"text/css\" height=\"312px\" preserveAspectRatio=\"none\" style=\"width:487px;height:312px;\" version=\"1.1\" viewBox=\"0 0 487 312\" width=\"487px\" zoomAndPan=\"magnify\"><defs/><g><!--MD5=[fbc87193dbaf4d95561dea2c320d4a47]\n",
       "cluster E1--><a href=\"psysml:ec9d2101-14b6-425a-8b3b-258973824e57\" target=\"_top\" title=\"psysml:ec9d2101-14b6-425a-8b3b-258973824e57\" xlink:actuate=\"onRequest\" xlink:href=\"psysml:ec9d2101-14b6-425a-8b3b-258973824e57\" xlink:show=\"new\" xlink:title=\"psysml:ec9d2101-14b6-425a-8b3b-258973824e57\" xlink:type=\"simple\"><rect fill=\"#FFFFFF\" height=\"294\" id=\"E1\" style=\"stroke: #383838; stroke-width: 1.5;\" width=\"469\" x=\"7\" y=\"7\"/><rect fill=\"#F8F8F8\" height=\"37.9375\" style=\"stroke: #383838; stroke-width: 1.5;\" width=\"469\" x=\"7\" y=\"7\"/><text fill=\"#000000\" font-family=\"sans-serif\" font-size=\"12\" font-style=\"italic\" lengthAdjust=\"spacingAndGlyphs\" textLength=\"77\" x=\"203\" y=\"23.1387\">«action def»</text><text fill=\"#000000\" font-family=\"sans-serif\" font-size=\"12\" lengthAdjust=\"spacingAndGlyphs\" textLength=\"80\" x=\"201.5\" y=\"37.1074\">DecisionTest</text></a><polygon fill=\"#F8F8F8\" points=\"53,126,65,138,53,150,41,138,53,126\" style=\"stroke: #383838; stroke-width: 1.5;\"/><polygon fill=\"#F8F8F8\" points=\"175,261,187,273,175,285,163,273,175,261\" style=\"stroke: #383838; stroke-width: 1.5;\"/><g id=\"E1.E4\"><a href=\"psysml:2b21def1-54fd-4014-8db4-beef5c1da0f0\" target=\"_top\" title=\"psysml:2b21def1-54fd-4014-8db4-beef5c1da0f0\" xlink:actuate=\"onRequest\" xlink:href=\"psysml:2b21def1-54fd-4014-8db4-beef5c1da0f0\" xlink:show=\"new\" xlink:title=\"psysml:2b21def1-54fd-4014-8db4-beef5c1da0f0\" xlink:type=\"simple\"><rect fill=\"#FFFFFF\" height=\"42.9375\" id=\"E4\" rx=\"10\" ry=\"10\" style=\"stroke: #383838; stroke-width: 1.5;\" width=\"60\" x=\"267\" y=\"154.5\"/><rect fill=\"#F8F8F8\" height=\"37.9375\" rx=\"10\" ry=\"10\" style=\"stroke: #F8F8F8; stroke-width: 1.5;\" width=\"60\" x=\"267\" y=\"154.5\"/><rect fill=\"#F8F8F8\" height=\"10\" style=\"stroke: #F8F8F8; stroke-width: 1.5;\" width=\"60\" x=\"267\" y=\"182.4375\"/><rect fill=\"none\" height=\"42.9375\" id=\"E4\" rx=\"10\" ry=\"10\" style=\"stroke: #383838; stroke-width: 1.5;\" width=\"60\" x=\"267\" y=\"154.5\"/><text fill=\"#000000\" font-family=\"sans-serif\" font-size=\"12\" font-style=\"italic\" lengthAdjust=\"spacingAndGlyphs\" textLength=\"53\" x=\"270.5\" y=\"170.6387\">«action»</text><text fill=\"#000000\" font-family=\"sans-serif\" font-size=\"12\" lengthAdjust=\"spacingAndGlyphs\" textLength=\"16\" x=\"289\" y=\"184.6074\">A1</text></a></g><g id=\"E1.E5\"><a href=\"psysml:a7c18d95-cb4e-4d18-b7c9-a948ce4b9e35\" target=\"_top\" title=\"psysml:a7c18d95-cb4e-4d18-b7c9-a948ce4b9e35\" xlink:actuate=\"onRequest\" xlink:href=\"psysml:a7c18d95-cb4e-4d18-b7c9-a948ce4b9e35\" xlink:show=\"new\" xlink:title=\"psysml:a7c18d95-cb4e-4d18-b7c9-a948ce4b9e35\" xlink:type=\"simple\"><rect fill=\"#FFFFFF\" height=\"42.9375\" id=\"E5\" rx=\"10\" ry=\"10\" style=\"stroke: #383838; stroke-width: 1.5;\" width=\"60\" x=\"400\" y=\"154.5\"/><rect fill=\"#F8F8F8\" height=\"37.9375\" rx=\"10\" ry=\"10\" style=\"stroke: #F8F8F8; stroke-width: 1.5;\" width=\"60\" x=\"400\" y=\"154.5\"/><rect fill=\"#F8F8F8\" height=\"10\" style=\"stroke: #F8F8F8; stroke-width: 1.5;\" width=\"60\" x=\"400\" y=\"182.4375\"/><rect fill=\"none\" height=\"42.9375\" id=\"E5\" rx=\"10\" ry=\"10\" style=\"stroke: #383838; stroke-width: 1.5;\" width=\"60\" x=\"400\" y=\"154.5\"/><text fill=\"#000000\" font-family=\"sans-serif\" font-size=\"12\" font-style=\"italic\" lengthAdjust=\"spacingAndGlyphs\" textLength=\"53\" x=\"403.5\" y=\"170.6387\">«action»</text><text fill=\"#000000\" font-family=\"sans-serif\" font-size=\"12\" lengthAdjust=\"spacingAndGlyphs\" textLength=\"16\" x=\"422\" y=\"184.6074\">A2</text></a></g><g id=\"E1.E6\"><a href=\"psysml:6ad7aed3-e22d-47c2-b6cf-45fd0f629de6\" target=\"_top\" title=\"psysml:6ad7aed3-e22d-47c2-b6cf-45fd0f629de6\" xlink:actuate=\"onRequest\" xlink:href=\"psysml:6ad7aed3-e22d-47c2-b6cf-45fd0f629de6\" xlink:show=\"new\" xlink:title=\"psysml:6ad7aed3-e22d-47c2-b6cf-45fd0f629de6\" xlink:type=\"simple\"><rect fill=\"#FFFFFF\" height=\"42.9375\" id=\"E6\" rx=\"10\" ry=\"10\" style=\"stroke: #383838; stroke-width: 1.5;\" width=\"60\" x=\"23\" y=\"213.5\"/><rect fill=\"#F8F8F8\" height=\"37.9375\" rx=\"10\" ry=\"10\" style=\"stroke: #F8F8F8; stroke-width: 1.5;\" width=\"60\" x=\"23\" y=\"213.5\"/><rect fill=\"#F8F8F8\" height=\"10\" style=\"stroke: #F8F8F8; stroke-width: 1.5;\" width=\"60\" x=\"23\" y=\"241.4375\"/><rect fill=\"none\" height=\"42.9375\" id=\"E6\" rx=\"10\" ry=\"10\" style=\"stroke: #383838; stroke-width: 1.5;\" width=\"60\" x=\"23\" y=\"213.5\"/><text fill=\"#000000\" font-family=\"sans-serif\" font-size=\"12\" font-style=\"italic\" lengthAdjust=\"spacingAndGlyphs\" textLength=\"53\" x=\"26.5\" y=\"229.6387\">«action»</text><text fill=\"#000000\" font-family=\"sans-serif\" font-size=\"12\" lengthAdjust=\"spacingAndGlyphs\" textLength=\"16\" x=\"45\" y=\"243.6074\">A3</text></a></g><g id=\"E1.E7\"><a href=\"psysml:6ad7aed3-e22d-47c2-b6cf-45fd0f629de6\" target=\"_top\" title=\"psysml:6ad7aed3-e22d-47c2-b6cf-45fd0f629de6\" xlink:actuate=\"onRequest\" xlink:href=\"psysml:6ad7aed3-e22d-47c2-b6cf-45fd0f629de6\" xlink:show=\"new\" xlink:title=\"psysml:6ad7aed3-e22d-47c2-b6cf-45fd0f629de6\" xlink:type=\"simple\"><rect fill=\"#FFFFFF\" height=\"42.9375\" id=\"E7\" rx=\"10\" ry=\"10\" style=\"stroke: #383838; stroke-width: 1.5;\" width=\"60\" x=\"145\" y=\"58.5\"/><rect fill=\"#F8F8F8\" height=\"37.9375\" rx=\"10\" ry=\"10\" style=\"stroke: #F8F8F8; stroke-width: 1.5;\" width=\"60\" x=\"145\" y=\"58.5\"/><rect fill=\"#F8F8F8\" height=\"10\" style=\"stroke: #F8F8F8; stroke-width: 1.5;\" width=\"60\" x=\"145\" y=\"86.4375\"/><rect fill=\"none\" height=\"42.9375\" id=\"E7\" rx=\"10\" ry=\"10\" style=\"stroke: #383838; stroke-width: 1.5;\" width=\"60\" x=\"145\" y=\"58.5\"/><text fill=\"#000000\" font-family=\"sans-serif\" font-size=\"12\" font-style=\"italic\" lengthAdjust=\"spacingAndGlyphs\" textLength=\"53\" x=\"148.5\" y=\"74.6387\">«action»</text><text fill=\"#000000\" font-family=\"sans-serif\" font-size=\"12\" lengthAdjust=\"spacingAndGlyphs\" textLength=\"16\" x=\"167\" y=\"88.6074\">A3</text></a></g><!--MD5=[4d03bb2d0377dc85ccfab60ff574652b]\n",
       "link E2 to E4--><a href=\"psysml:07a447fb-7978-4e35-9306-ac5ec116db5d\" target=\"_top\" title=\"psysml:07a447fb-7978-4e35-9306-ac5ec116db5d\" xlink:actuate=\"onRequest\" xlink:href=\"psysml:07a447fb-7978-4e35-9306-ac5ec116db5d\" xlink:show=\"new\" xlink:title=\"psysml:07a447fb-7978-4e35-9306-ac5ec116db5d\" xlink:type=\"simple\"><path d=\"M62.41,140.94 C78.32,146.39 114.02,158.03 145,164 C174.83,169.75 182.72,168.53 213,171 C228.89,172.3 246.52,173.4 261.42,174.25 \" fill=\"none\" id=\"E2-&gt;E4\" style=\"stroke: #383838; stroke-width: 1.0; stroke-dasharray: 7.0,7.0;\"/><polygon fill=\"#383838\" points=\"266.79,174.54,258.0208,170.0567,261.7974,174.2682,257.5859,178.0448,266.79,174.54\" style=\"stroke: #383838; stroke-width: 1.0;\"/><text fill=\"#000000\" font-family=\"sans-serif\" font-size=\"13\" lengthAdjust=\"spacingAndGlyphs\" textLength=\"55\" x=\"147.5\" y=\"160.0669\">[x == 1]</text></a><!--MD5=[dcad52bbbca2fe8adc741ce38b45dc12]\n",
       "link E2 to E5--><a href=\"psysml:f195b54a-5fed-403e-bb02-20f21e154f17\" target=\"_top\" title=\"psysml:f195b54a-5fed-403e-bb02-20f21e154f17\" xlink:actuate=\"onRequest\" xlink:href=\"psysml:f195b54a-5fed-403e-bb02-20f21e154f17\" xlink:show=\"new\" xlink:title=\"psysml:f195b54a-5fed-403e-bb02-20f21e154f17\" xlink:type=\"simple\"><path d=\"M64.69,137.65 C108.56,136.25 274.8,131.44 327,137 C356.39,140.13 364.82,139.41 392,151 C392.96,151.41 393.93,151.85 394.89,152.31 \" fill=\"none\" id=\"E2-&gt;E5\" style=\"stroke: #383838; stroke-width: 1.0; stroke-dasharray: 7.0,7.0;\"/><polygon fill=\"#383838\" points=\"399.68,154.77,393.5069,147.0958,395.2339,152.4826,389.8471,154.2096,399.68,154.77\" style=\"stroke: #383838; stroke-width: 1.0;\"/><text fill=\"#000000\" font-family=\"sans-serif\" font-size=\"13\" lengthAdjust=\"spacingAndGlyphs\" textLength=\"44\" x=\"214\" y=\"131.0669\">[x &gt; 1]</text></a><!--MD5=[e3d2a08a9c9236652057e8ed0cbc9b62]\n",
       "link E2 to E7--><a href=\"psysml:15c91a99-d9b4-4320-8388-ef3655122685\" target=\"_top\" title=\"psysml:15c91a99-d9b4-4320-8388-ef3655122685\" xlink:actuate=\"onRequest\" xlink:href=\"psysml:15c91a99-d9b4-4320-8388-ef3655122685\" xlink:show=\"new\" xlink:title=\"psysml:15c91a99-d9b4-4320-8388-ef3655122685\" xlink:type=\"simple\"><path d=\"M63.4,136.24 C84.45,132.27 133.79,122.83 137,121 C143.76,117.13 149.96,111.59 155.27,105.83 \" fill=\"none\" id=\"E2-&gt;E7\" style=\"stroke: #383838; stroke-width: 1.0; stroke-dasharray: 7.0,7.0;\"/><polygon fill=\"#383838\" points=\"158.8,101.82,149.8466,105.9232,155.4924,105.5696,155.8459,111.2154,158.8,101.82\" style=\"stroke: #383838; stroke-width: 1.0;\"/></a><!--MD5=[583832df87f4419a098336a29a52fa00]\n",
       "link E7 to E2--><a href=\"psysml:c19c71e4-b628-4c9d-aa87-db03cc189a8f\" target=\"_top\" title=\"psysml:c19c71e4-b628-4c9d-aa87-db03cc189a8f\" xlink:actuate=\"onRequest\" xlink:href=\"psysml:c19c71e4-b628-4c9d-aa87-db03cc189a8f\" xlink:show=\"new\" xlink:title=\"psysml:c19c71e4-b628-4c9d-aa87-db03cc189a8f\" xlink:type=\"simple\"><path d=\"M144.81,94.11 C119.63,106.28 84.51,123.25 66.2,132.1 \" fill=\"none\" id=\"E7-&gt;E2\" style=\"stroke: #383838; stroke-width: 1.0; stroke-dasharray: 7.0,7.0;\"/><polygon fill=\"#383838\" points=\"61.51,134.37,71.354,134.0612,66.0131,132.1971,67.8773,126.8562,61.51,134.37\" style=\"stroke: #383838; stroke-width: 1.0;\"/><text fill=\"#000000\" font-family=\"sans-serif\" font-size=\"13\" lengthAdjust=\"spacingAndGlyphs\" textLength=\"44\" x=\"92\" y=\"95.0669\">[x &gt; 0]</text></a><!--MD5=[2720a5a1f2c3fca2055b230370638851]\n",
       "link E2 to E3--><a href=\"psysml:6d6473c9-743e-4105-a2af-98d6bd8c1632\" target=\"_top\" title=\"psysml:6d6473c9-743e-4105-a2af-98d6bd8c1632\" xlink:actuate=\"onRequest\" xlink:href=\"psysml:6d6473c9-743e-4105-a2af-98d6bd8c1632\" xlink:show=\"new\" xlink:title=\"psysml:6d6473c9-743e-4105-a2af-98d6bd8c1632\" xlink:type=\"simple\"><path d=\"M57.63,145.75 C63.59,158 76.25,182.27 91,200 C113.43,226.97 146.15,252.65 163.03,265.13 \" fill=\"none\" id=\"E2-&gt;E3\" style=\"stroke: #383838; stroke-width: 1.0; stroke-dasharray: 7.0,7.0;\"/><polygon fill=\"#383838\" points=\"167.35,268.28,162.442,259.7412,163.3125,265.3306,157.723,266.2011,167.35,268.28\" style=\"stroke: #383838; stroke-width: 1.0;\"/></a><!--MD5=[af87c684e3b0d8be13c1a698a818ef1e]\n",
       "link E3 to E4--><a href=\"psysml:4dd56774-018b-4c8a-8121-2b3d6a9c557c\" target=\"_top\" title=\"psysml:4dd56774-018b-4c8a-8121-2b3d6a9c557c\" xlink:actuate=\"onRequest\" xlink:href=\"psysml:4dd56774-018b-4c8a-8121-2b3d6a9c557c\" xlink:show=\"new\" xlink:title=\"psysml:4dd56774-018b-4c8a-8121-2b3d6a9c557c\" xlink:type=\"simple\"><path d=\"M183.24,268.64 C198.11,259.54 232.89,237.48 259,215 C263.75,210.91 268.56,206.28 273.06,201.67 \" fill=\"none\" id=\"E3-&gt;E4\" style=\"stroke: #383838; stroke-width: 1.0; stroke-dasharray: 7.0,7.0;\"/><polygon fill=\"#383838\" points=\"276.77,197.83,267.6434,201.5321,273.2993,201.4292,273.4022,207.0851,276.77,197.83\" style=\"stroke: #383838; stroke-width: 1.0;\"/><text fill=\"#000000\" font-family=\"sans-serif\" font-size=\"13\" lengthAdjust=\"spacingAndGlyphs\" textLength=\"36\" x=\"218\" y=\"211.0669\">[true]</text></a><!--MD5=[0188b64bb0ae78505a997a81836e11e9]\n",
       "link E3 to E5--><a href=\"psysml:2f25c912-d622-4deb-be6f-2375e7caca37\" target=\"_top\" title=\"psysml:2f25c912-d622-4deb-be6f-2375e7caca37\" xlink:actuate=\"onRequest\" xlink:href=\"psysml:2f25c912-d622-4deb-be6f-2375e7caca37\" xlink:show=\"new\" xlink:title=\"psysml:2f25c912-d622-4deb-be6f-2375e7caca37\" xlink:type=\"simple\"><path d=\"M185.44,271.25 C209.6,266.6 275.36,252.84 327,232 C350.69,222.44 375.86,208.66 395.27,197.17 \" fill=\"none\" id=\"E3-&gt;E5\" style=\"stroke: #383838; stroke-width: 1.0; stroke-dasharray: 7.0,7.0;\"/><polygon fill=\"#383838\" points=\"399.57,194.6,389.7917,195.7765,395.2762,197.1619,393.8908,202.6465,399.57,194.6\" style=\"stroke: #383838; stroke-width: 1.0;\"/><text fill=\"#000000\" font-family=\"sans-serif\" font-size=\"13\" lengthAdjust=\"spacingAndGlyphs\" textLength=\"40\" x=\"277\" y=\"228.0669\">[false]</text></a><!--MD5=[1b7591eae5389033d8d09a9d6721a717]\n",
       "link E4 to E5--><a href=\"psysml:19ac739f-970e-4750-a1cd-14a3501dcfff\" target=\"_top\" title=\"psysml:19ac739f-970e-4750-a1cd-14a3501dcfff\" xlink:actuate=\"onRequest\" xlink:href=\"psysml:19ac739f-970e-4750-a1cd-14a3501dcfff\" xlink:show=\"new\" xlink:title=\"psysml:19ac739f-970e-4750-a1cd-14a3501dcfff\" xlink:type=\"simple\"><path d=\"M327.07,176 C346.95,176 373.38,176 394.35,176 \" fill=\"none\" id=\"E4-&gt;E5\" style=\"stroke: #383838; stroke-width: 1.0; stroke-dasharray: 7.0,7.0;\"/><polygon fill=\"#383838\" points=\"399.56,176,390.56,172,394.56,176,390.56,180,399.56,176\" style=\"stroke: #383838; stroke-width: 1.0;\"/><text fill=\"#000000\" font-family=\"sans-serif\" font-size=\"13\" lengthAdjust=\"spacingAndGlyphs\" textLength=\"55\" x=\"336\" y=\"172.0669\">[x == 0]</text></a><!--MD5=[699c8e7af660c0d6ba64cfa7d43176c5]\n",
       "@startuml\r\n",
       "skinparam ranksep 8\r\n",
       "left to right direction\r\n",
       "skinparam monochrome true\r\n",
       "skinparam classbackgroundcolor white\r\n",
       "skinparam shadowing false\r\n",
       "skinparam wrapWidth 300\r\n",
       "hide circle\r\n",
       "\r\n",
       "rec def \"DecisionTest\" as E1  <<(T,blue) action def>> [[psysml:ec9d2101-14b6-425a-8b3b-258973824e57 ]] {\r\n",
       "choice \"test x\" as E2  [[psysml:7b5c557c-0eca-43da-893a-884adf177ee9 ]] \r\n",
       "choice \"<s>noname</s>\" as E3  [[psysml:c8637911-bdae-488c-9ae7-71f0e05f074a ]] \r\n",
       "rec usage \"A1\" as E4  <<(T,blue) action>> [[psysml:2b21def1-54fd-4014-8db4-beef5c1da0f0 ]] {\r\n",
       "}\r\n",
       "\r\n",
       "rec usage \"A2\" as E5  <<(T,blue) action>> [[psysml:a7c18d95-cb4e-4d18-b7c9-a948ce4b9e35 ]] {\r\n",
       "}\r\n",
       "\r\n",
       "rec usage \"A3\" as E6  <<(T,blue) action>> [[psysml:6ad7aed3-e22d-47c2-b6cf-45fd0f629de6 ]] {\r\n",
       "}\r\n",
       "\r\n",
       "rec usage \"A3\" as E7  <<(T,blue) action>> [[psysml:6ad7aed3-e22d-47c2-b6cf-45fd0f629de6 ]] {\r\n",
       "}\r\n",
       "\r\n",
       "}\r\n",
       "\r\n",
       "E2 ..> E4 [[psysml:07a447fb-7978-4e35-9306-ac5ec116db5d ]] : [x == 1]\r\n",
       "E2 ..> E5 [[psysml:f195b54a-5fed-403e-bb02-20f21e154f17 ]] : [x > 1]\r\n",
       "E2 ..> E7 [[psysml:15c91a99-d9b4-4320-8388-ef3655122685 ]] \r\n",
       "E2 ..> E3 [[psysml:6d6473c9-743e-4105-a2af-98d6bd8c1632 ]] \r\n",
       "E3 ..> E4 [[psysml:4dd56774-018b-4c8a-8121-2b3d6a9c557c ]] : [true]\r\n",
       "E3 ..> E5 [[psysml:2f25c912-d622-4deb-be6f-2375e7caca37 ]] : [false]\r\n",
       "E4 ..> E5 [[psysml:19ac739f-970e-4750-a1cd-14a3501dcfff ]] : [x == 0]\r\n",
       "E7 ..> E2 [[psysml:c19c71e4-b628-4c9d-aa87-db03cc189a8f ]] : [x > 0]\r\n",
       "@enduml\r\n",
       "\n",
       "PlantUML version 1.2020.13(Sat Jun 13 12:26:38 UTC 2020)\n",
       "(EPL source distribution)\n",
       "Java Runtime: OpenJDK Runtime Environment\n",
       "JVM: OpenJDK 64-Bit Server VM\n",
       "Default Encoding: UTF-8\n",
       "Language: en\n",
       "Country: null\n",
       "--></g></svg>"
      ]
     },
     "execution_count": 20,
     "metadata": {},
     "output_type": "execute_result"
    }
   ],
   "source": [
    "%viz --style=\"LR\" --view=\"Action\" \"DecisionTest\""
   ]
  },
  {
   "cell_type": "code",
   "execution_count": 21,
   "id": "c80f3f47",
   "metadata": {
    "execution": {
     "iopub.execute_input": "2021-10-03T08:29:01.479943Z",
     "iopub.status.busy": "2021-10-03T08:29:01.479534Z",
     "iopub.status.idle": "2021-10-03T08:29:01.486790Z",
     "shell.execute_reply": "2021-10-03T08:29:01.487102Z"
    }
   },
   "outputs": [
    {
     "data": {
      "image/svg+xml": [
       "<?xml version=\"1.0\" encoding=\"UTF-8\" standalone=\"no\"?><svg xmlns=\"http://www.w3.org/2000/svg\" xmlns:xlink=\"http://www.w3.org/1999/xlink\" contentScriptType=\"application/ecmascript\" contentStyleType=\"text/css\" height=\"12px\" preserveAspectRatio=\"none\" style=\"width:12px;height:12px;\" version=\"1.1\" viewBox=\"0 0 12 12\" width=\"12px\" zoomAndPan=\"magnify\"><defs/><g><!--MD5=[238c11ea2002f03115ad6b49a457d50e]\n",
       "@startuml\r\n",
       "skinparam roundcorner 20\r\n",
       "skinparam BoxPadding 20\r\n",
       "skinparam SequenceBoxBackgroundColor #white\r\n",
       "skinparam style strictuml\r\n",
       "skinparam maxMessageSize 100\r\n",
       "left to right direction\r\n",
       "skinparam monochrome true\r\n",
       "skinparam classbackgroundcolor white\r\n",
       "skinparam shadowing false\r\n",
       "skinparam wrapWidth 300\r\n",
       "hide circle\r\n",
       "\r\n",
       "@enduml\r\n",
       "\n",
       "PlantUML version 1.2020.13(Sat Jun 13 12:26:38 UTC 2020)\n",
       "(EPL source distribution)\n",
       "Java Runtime: OpenJDK Runtime Environment\n",
       "JVM: OpenJDK 64-Bit Server VM\n",
       "Default Encoding: UTF-8\n",
       "Language: en\n",
       "Country: null\n",
       "--></g></svg>"
      ]
     },
     "execution_count": 21,
     "metadata": {},
     "output_type": "execute_result"
    }
   ],
   "source": [
    "%viz --style=\"LR\" --view=\"Sequence\" \"DecisionTest\""
   ]
  },
  {
   "cell_type": "code",
   "execution_count": 22,
   "id": "ba979794",
   "metadata": {
    "execution": {
     "iopub.execute_input": "2021-10-03T08:29:01.536786Z",
     "iopub.status.busy": "2021-10-03T08:29:01.536390Z",
     "iopub.status.idle": "2021-10-03T08:29:01.578084Z",
     "shell.execute_reply": "2021-10-03T08:29:01.577800Z"
    }
   },
   "outputs": [
    {
     "data": {
      "image/svg+xml": [
       "<?xml version=\"1.0\" encoding=\"UTF-8\" standalone=\"no\"?><svg xmlns=\"http://www.w3.org/2000/svg\" xmlns:xlink=\"http://www.w3.org/1999/xlink\" contentScriptType=\"application/ecmascript\" contentStyleType=\"text/css\" height=\"312px\" preserveAspectRatio=\"none\" style=\"width:619px;height:312px;\" version=\"1.1\" viewBox=\"0 0 619 312\" width=\"619px\" zoomAndPan=\"magnify\"><defs/><g><!--MD5=[fbc87193dbaf4d95561dea2c320d4a47]\n",
       "cluster E1--><a href=\"psysml:ec9d2101-14b6-425a-8b3b-258973824e57\" target=\"_top\" title=\"psysml:ec9d2101-14b6-425a-8b3b-258973824e57\" xlink:actuate=\"onRequest\" xlink:href=\"psysml:ec9d2101-14b6-425a-8b3b-258973824e57\" xlink:show=\"new\" xlink:title=\"psysml:ec9d2101-14b6-425a-8b3b-258973824e57\" xlink:type=\"simple\"><rect fill=\"#FFFFFF\" height=\"294\" id=\"E1\" style=\"stroke: #383838; stroke-width: 1.5;\" width=\"601\" x=\"7\" y=\"7\"/><rect fill=\"#F8F8F8\" height=\"37.9375\" style=\"stroke: #383838; stroke-width: 1.5;\" width=\"601\" x=\"7\" y=\"7\"/><text fill=\"#000000\" font-family=\"sans-serif\" font-size=\"12\" font-style=\"italic\" lengthAdjust=\"spacingAndGlyphs\" textLength=\"77\" x=\"269\" y=\"23.1387\">«action def»</text><text fill=\"#000000\" font-family=\"sans-serif\" font-size=\"12\" lengthAdjust=\"spacingAndGlyphs\" textLength=\"80\" x=\"267.5\" y=\"37.1074\">DecisionTest</text></a><polygon fill=\"#F8F8F8\" points=\"53,126,65,138,53,150,41,138,53,126\" style=\"stroke: #383838; stroke-width: 1.5;\"/><polygon fill=\"#F8F8F8\" points=\"219,261,231,273,219,285,207,273,219,261\" style=\"stroke: #383838; stroke-width: 1.5;\"/><g id=\"E1.E4\"><a href=\"psysml:2b21def1-54fd-4014-8db4-beef5c1da0f0\" target=\"_top\" title=\"psysml:2b21def1-54fd-4014-8db4-beef5c1da0f0\" xlink:actuate=\"onRequest\" xlink:href=\"psysml:2b21def1-54fd-4014-8db4-beef5c1da0f0\" xlink:show=\"new\" xlink:title=\"psysml:2b21def1-54fd-4014-8db4-beef5c1da0f0\" xlink:type=\"simple\"><rect fill=\"#FFFFFF\" height=\"42.9375\" id=\"E4\" rx=\"10\" ry=\"10\" style=\"stroke: #383838; stroke-width: 1.5;\" width=\"60\" x=\"355\" y=\"154.5\"/><rect fill=\"#F8F8F8\" height=\"37.9375\" rx=\"10\" ry=\"10\" style=\"stroke: #F8F8F8; stroke-width: 1.5;\" width=\"60\" x=\"355\" y=\"154.5\"/><rect fill=\"#F8F8F8\" height=\"10\" style=\"stroke: #F8F8F8; stroke-width: 1.5;\" width=\"60\" x=\"355\" y=\"182.4375\"/><rect fill=\"none\" height=\"42.9375\" id=\"E4\" rx=\"10\" ry=\"10\" style=\"stroke: #383838; stroke-width: 1.5;\" width=\"60\" x=\"355\" y=\"154.5\"/><text fill=\"#000000\" font-family=\"sans-serif\" font-size=\"12\" font-style=\"italic\" lengthAdjust=\"spacingAndGlyphs\" textLength=\"53\" x=\"358.5\" y=\"170.6387\">«action»</text><text fill=\"#000000\" font-family=\"sans-serif\" font-size=\"12\" lengthAdjust=\"spacingAndGlyphs\" textLength=\"16\" x=\"377\" y=\"184.6074\">A1</text></a></g><g id=\"E1.E5\"><a href=\"psysml:a7c18d95-cb4e-4d18-b7c9-a948ce4b9e35\" target=\"_top\" title=\"psysml:a7c18d95-cb4e-4d18-b7c9-a948ce4b9e35\" xlink:actuate=\"onRequest\" xlink:href=\"psysml:a7c18d95-cb4e-4d18-b7c9-a948ce4b9e35\" xlink:show=\"new\" xlink:title=\"psysml:a7c18d95-cb4e-4d18-b7c9-a948ce4b9e35\" xlink:type=\"simple\"><rect fill=\"#FFFFFF\" height=\"42.9375\" id=\"E5\" rx=\"10\" ry=\"10\" style=\"stroke: #383838; stroke-width: 1.5;\" width=\"60\" x=\"532\" y=\"154.5\"/><rect fill=\"#F8F8F8\" height=\"37.9375\" rx=\"10\" ry=\"10\" style=\"stroke: #F8F8F8; stroke-width: 1.5;\" width=\"60\" x=\"532\" y=\"154.5\"/><rect fill=\"#F8F8F8\" height=\"10\" style=\"stroke: #F8F8F8; stroke-width: 1.5;\" width=\"60\" x=\"532\" y=\"182.4375\"/><rect fill=\"none\" height=\"42.9375\" id=\"E5\" rx=\"10\" ry=\"10\" style=\"stroke: #383838; stroke-width: 1.5;\" width=\"60\" x=\"532\" y=\"154.5\"/><text fill=\"#000000\" font-family=\"sans-serif\" font-size=\"12\" font-style=\"italic\" lengthAdjust=\"spacingAndGlyphs\" textLength=\"53\" x=\"535.5\" y=\"170.6387\">«action»</text><text fill=\"#000000\" font-family=\"sans-serif\" font-size=\"12\" lengthAdjust=\"spacingAndGlyphs\" textLength=\"16\" x=\"554\" y=\"184.6074\">A2</text></a></g><g id=\"E1.E6\"><a href=\"psysml:6ad7aed3-e22d-47c2-b6cf-45fd0f629de6\" target=\"_top\" title=\"psysml:6ad7aed3-e22d-47c2-b6cf-45fd0f629de6\" xlink:actuate=\"onRequest\" xlink:href=\"psysml:6ad7aed3-e22d-47c2-b6cf-45fd0f629de6\" xlink:show=\"new\" xlink:title=\"psysml:6ad7aed3-e22d-47c2-b6cf-45fd0f629de6\" xlink:type=\"simple\"><rect fill=\"#FFFFFF\" height=\"42.9375\" id=\"E6\" rx=\"10\" ry=\"10\" style=\"stroke: #383838; stroke-width: 1.5;\" width=\"60\" x=\"23\" y=\"213.5\"/><rect fill=\"#F8F8F8\" height=\"37.9375\" rx=\"10\" ry=\"10\" style=\"stroke: #F8F8F8; stroke-width: 1.5;\" width=\"60\" x=\"23\" y=\"213.5\"/><rect fill=\"#F8F8F8\" height=\"10\" style=\"stroke: #F8F8F8; stroke-width: 1.5;\" width=\"60\" x=\"23\" y=\"241.4375\"/><rect fill=\"none\" height=\"42.9375\" id=\"E6\" rx=\"10\" ry=\"10\" style=\"stroke: #383838; stroke-width: 1.5;\" width=\"60\" x=\"23\" y=\"213.5\"/><text fill=\"#000000\" font-family=\"sans-serif\" font-size=\"12\" font-style=\"italic\" lengthAdjust=\"spacingAndGlyphs\" textLength=\"53\" x=\"26.5\" y=\"229.6387\">«action»</text><text fill=\"#000000\" font-family=\"sans-serif\" font-size=\"12\" lengthAdjust=\"spacingAndGlyphs\" textLength=\"16\" x=\"45\" y=\"243.6074\">A3</text></a></g><g id=\"E1.E7\"><a href=\"psysml:6ad7aed3-e22d-47c2-b6cf-45fd0f629de6\" target=\"_top\" title=\"psysml:6ad7aed3-e22d-47c2-b6cf-45fd0f629de6\" xlink:actuate=\"onRequest\" xlink:href=\"psysml:6ad7aed3-e22d-47c2-b6cf-45fd0f629de6\" xlink:show=\"new\" xlink:title=\"psysml:6ad7aed3-e22d-47c2-b6cf-45fd0f629de6\" xlink:type=\"simple\"><rect fill=\"#FFFFFF\" height=\"42.9375\" id=\"E7\" rx=\"10\" ry=\"10\" style=\"stroke: #383838; stroke-width: 1.5;\" width=\"60\" x=\"189\" y=\"58.5\"/><rect fill=\"#F8F8F8\" height=\"37.9375\" rx=\"10\" ry=\"10\" style=\"stroke: #F8F8F8; stroke-width: 1.5;\" width=\"60\" x=\"189\" y=\"58.5\"/><rect fill=\"#F8F8F8\" height=\"10\" style=\"stroke: #F8F8F8; stroke-width: 1.5;\" width=\"60\" x=\"189\" y=\"86.4375\"/><rect fill=\"none\" height=\"42.9375\" id=\"E7\" rx=\"10\" ry=\"10\" style=\"stroke: #383838; stroke-width: 1.5;\" width=\"60\" x=\"189\" y=\"58.5\"/><text fill=\"#000000\" font-family=\"sans-serif\" font-size=\"12\" font-style=\"italic\" lengthAdjust=\"spacingAndGlyphs\" textLength=\"53\" x=\"192.5\" y=\"74.6387\">«action»</text><text fill=\"#000000\" font-family=\"sans-serif\" font-size=\"12\" lengthAdjust=\"spacingAndGlyphs\" textLength=\"16\" x=\"211\" y=\"88.6074\">A3</text></a></g><!--MD5=[4d03bb2d0377dc85ccfab60ff574652b]\n",
       "link E2 to E4--><a href=\"psysml:07a447fb-7978-4e35-9306-ac5ec116db5d\" target=\"_top\" title=\"psysml:07a447fb-7978-4e35-9306-ac5ec116db5d\" xlink:actuate=\"onRequest\" xlink:href=\"psysml:07a447fb-7978-4e35-9306-ac5ec116db5d\" xlink:show=\"new\" xlink:title=\"psysml:07a447fb-7978-4e35-9306-ac5ec116db5d\" xlink:type=\"simple\"><path d=\"M63.11,140.12 C84.79,145.1 141.22,157.56 189,164 C228.76,169.36 238.96,168.49 279,171 C302.51,172.47 329,173.73 349.49,174.62 \" fill=\"none\" id=\"E2-&gt;E4\" style=\"stroke: #383838; stroke-width: 1.0;\"/><polygon fill=\"#383838\" points=\"354.57,174.84,345.7495,170.4583,349.5746,174.6259,345.407,178.451,354.57,174.84\" style=\"stroke: #383838; stroke-width: 1.0;\"/><text fill=\"#000000\" font-family=\"sans-serif\" font-size=\"13\" lengthAdjust=\"spacingAndGlyphs\" textLength=\"55\" x=\"191.5\" y=\"160.0669\">[x == 1]</text><text fill=\"#000000\" font-family=\"sans-serif\" font-size=\"13\" lengthAdjust=\"spacingAndGlyphs\" textLength=\"7\" x=\"340.1478\" y=\"188.3151\">*</text></a><!--MD5=[dcad52bbbca2fe8adc741ce38b45dc12]\n",
       "link E2 to E5--><a href=\"psysml:f195b54a-5fed-403e-bb02-20f21e154f17\" target=\"_top\" title=\"psysml:f195b54a-5fed-403e-bb02-20f21e154f17\" xlink:actuate=\"onRequest\" xlink:href=\"psysml:f195b54a-5fed-403e-bb02-20f21e154f17\" xlink:show=\"new\" xlink:title=\"psysml:f195b54a-5fed-403e-bb02-20f21e154f17\" xlink:type=\"simple\"><path d=\"M64.36,137.35 C107.45,134.77 276.62,125.94 415,137 C454.04,140.12 464.36,140.17 502,151 C510.23,153.37 518.85,156.58 526.88,159.9 \" fill=\"none\" id=\"E2-&gt;E5\" style=\"stroke: #383838; stroke-width: 1.0;\"/><polygon fill=\"#383838\" points=\"531.79,161.98,525.0555,154.7935,527.184,160.0346,521.9428,162.1631,531.79,161.98\" style=\"stroke: #383838; stroke-width: 1.0;\"/><text fill=\"#000000\" font-family=\"sans-serif\" font-size=\"13\" lengthAdjust=\"spacingAndGlyphs\" textLength=\"44\" x=\"280\" y=\"128.0669\">[x &gt; 1]</text><text fill=\"#000000\" font-family=\"sans-serif\" font-size=\"13\" lengthAdjust=\"spacingAndGlyphs\" textLength=\"7\" x=\"516.9946\" y=\"172.5617\">*</text></a><!--MD5=[e3d2a08a9c9236652057e8ed0cbc9b62]\n",
       "link E2 to E7--><a href=\"psysml:15c91a99-d9b4-4320-8388-ef3655122685\" target=\"_top\" title=\"psysml:15c91a99-d9b4-4320-8388-ef3655122685\" xlink:actuate=\"onRequest\" xlink:href=\"psysml:15c91a99-d9b4-4320-8388-ef3655122685\" xlink:show=\"new\" xlink:title=\"psysml:15c91a99-d9b4-4320-8388-ef3655122685\" xlink:type=\"simple\"><path d=\"M64.07,136.95 C86.88,134.47 141.79,127.95 159,121 C169.04,116.94 179.05,110.93 187.9,104.74 \" fill=\"none\" id=\"E2-&gt;E7\" style=\"stroke: #383838; stroke-width: 1.0;\"/><polygon fill=\"#383838\" points=\"192.15,101.7,182.5021,103.6794,188.0823,104.6075,187.1542,110.1877,192.15,101.7\" style=\"stroke: #383838; stroke-width: 1.0;\"/><text fill=\"#000000\" font-family=\"sans-serif\" font-size=\"13\" lengthAdjust=\"spacingAndGlyphs\" textLength=\"7\" x=\"176.9934\" y=\"121.6406\">*</text></a><!--MD5=[583832df87f4419a098336a29a52fa00]\n",
       "link E7 to E2--><a href=\"psysml:c19c71e4-b628-4c9d-aa87-db03cc189a8f\" target=\"_top\" title=\"psysml:c19c71e4-b628-4c9d-aa87-db03cc189a8f\" xlink:actuate=\"onRequest\" xlink:href=\"psysml:c19c71e4-b628-4c9d-aa87-db03cc189a8f\" xlink:show=\"new\" xlink:title=\"psysml:c19c71e4-b628-4c9d-aa87-db03cc189a8f\" xlink:type=\"simple\"><path d=\"M188.96,90.27 C153.05,102.97 93.45,124.05 67.16,133.35 \" fill=\"none\" id=\"E7-&gt;E2\" style=\"stroke: #383838; stroke-width: 1.0;\"/><polygon fill=\"#383838\" points=\"62.36,135.04,72.1793,135.8026,67.0726,133.3692,69.506,128.2625,62.36,135.04\" style=\"stroke: #383838; stroke-width: 1.0;\"/><text fill=\"#000000\" font-family=\"sans-serif\" font-size=\"13\" lengthAdjust=\"spacingAndGlyphs\" textLength=\"44\" x=\"114\" y=\"99.0669\">[x &gt; 0]</text><text fill=\"#000000\" font-family=\"sans-serif\" font-size=\"13\" lengthAdjust=\"spacingAndGlyphs\" textLength=\"7\" x=\"72.9695\" y=\"123.5322\">*</text></a><!--MD5=[2720a5a1f2c3fca2055b230370638851]\n",
       "link E2 to E3--><a href=\"psysml:6d6473c9-743e-4105-a2af-98d6bd8c1632\" target=\"_top\" title=\"psysml:6d6473c9-743e-4105-a2af-98d6bd8c1632\" xlink:actuate=\"onRequest\" xlink:href=\"psysml:6d6473c9-743e-4105-a2af-98d6bd8c1632\" xlink:show=\"new\" xlink:title=\"psysml:6d6473c9-743e-4105-a2af-98d6bd8c1632\" xlink:type=\"simple\"><path d=\"M59.16,144.21 C68.98,155.84 91.34,181.43 113,200 C144.83,227.3 186.84,254.05 206.69,266.2 \" fill=\"none\" id=\"E2-&gt;E3\" style=\"stroke: #383838; stroke-width: 1.0;\"/><polygon fill=\"#383838\" points=\"211.02,268.84,205.412,260.7437,206.749,266.2403,201.2524,267.5773,211.02,268.84\" style=\"stroke: #383838; stroke-width: 1.0;\"/><text fill=\"#000000\" font-family=\"sans-serif\" font-size=\"13\" lengthAdjust=\"spacingAndGlyphs\" textLength=\"7\" x=\"192.253\" y=\"254.0235\">*</text></a><!--MD5=[af87c684e3b0d8be13c1a698a818ef1e]\n",
       "link E3 to E4--><a href=\"psysml:4dd56774-018b-4c8a-8121-2b3d6a9c557c\" target=\"_top\" title=\"psysml:4dd56774-018b-4c8a-8121-2b3d6a9c557c\" xlink:actuate=\"onRequest\" xlink:href=\"psysml:4dd56774-018b-4c8a-8121-2b3d6a9c557c\" xlink:show=\"new\" xlink:title=\"psysml:4dd56774-018b-4c8a-8121-2b3d6a9c557c\" xlink:type=\"simple\"><path d=\"M227.5,269.12 C244.88,260.07 289.19,236.68 325,215 C333.33,209.96 342.16,204.29 350.39,198.88 \" fill=\"none\" id=\"E3-&gt;E4\" style=\"stroke: #383838; stroke-width: 1.0;\"/><polygon fill=\"#383838\" points=\"354.88,195.91,345.1688,197.551,350.7132,198.6736,349.5905,204.2179,354.88,195.91\" style=\"stroke: #383838; stroke-width: 1.0;\"/><text fill=\"#000000\" font-family=\"sans-serif\" font-size=\"13\" lengthAdjust=\"spacingAndGlyphs\" textLength=\"36\" x=\"284\" y=\"211.0669\">[true]</text><text fill=\"#000000\" font-family=\"sans-serif\" font-size=\"13\" lengthAdjust=\"spacingAndGlyphs\" textLength=\"7\" x=\"340.1054\" y=\"214.338\">*</text></a><!--MD5=[0188b64bb0ae78505a997a81836e11e9]\n",
       "link E3 to E5--><a href=\"psysml:2f25c912-d622-4deb-be6f-2375e7caca37\" target=\"_top\" title=\"psysml:2f25c912-d622-4deb-be6f-2375e7caca37\" xlink:actuate=\"onRequest\" xlink:href=\"psysml:2f25c912-d622-4deb-be6f-2375e7caca37\" xlink:show=\"new\" xlink:title=\"psysml:2f25c912-d622-4deb-be6f-2375e7caca37\" xlink:type=\"simple\"><path d=\"M229.88,271.49 C258.74,266.97 345.32,252.55 415,232 C454.14,220.46 497.65,203.17 526.9,190.85 \" fill=\"none\" id=\"E3-&gt;E5\" style=\"stroke: #383838; stroke-width: 1.0;\"/><polygon fill=\"#383838\" points=\"531.83,188.77,521.9831,188.576,527.2218,190.7103,525.0875,195.9491,531.83,188.77\" style=\"stroke: #383838; stroke-width: 1.0;\"/><text fill=\"#000000\" font-family=\"sans-serif\" font-size=\"13\" lengthAdjust=\"spacingAndGlyphs\" textLength=\"40\" x=\"365\" y=\"228.0669\">[false]</text><text fill=\"#000000\" font-family=\"sans-serif\" font-size=\"13\" lengthAdjust=\"spacingAndGlyphs\" textLength=\"7\" x=\"517.0438\" y=\"205.5469\">*</text></a><!--MD5=[1b7591eae5389033d8d09a9d6721a717]\n",
       "link E4 to E5--><a href=\"psysml:19ac739f-970e-4750-a1cd-14a3501dcfff\" target=\"_top\" title=\"psysml:19ac739f-970e-4750-a1cd-14a3501dcfff\" xlink:actuate=\"onRequest\" xlink:href=\"psysml:19ac739f-970e-4750-a1cd-14a3501dcfff\" xlink:show=\"new\" xlink:title=\"psysml:19ac739f-970e-4750-a1cd-14a3501dcfff\" xlink:type=\"simple\"><path d=\"M415.29,176 C446.05,176 494.36,176 526.83,176 \" fill=\"none\" id=\"E4-&gt;E5\" style=\"stroke: #383838; stroke-width: 1.0;\"/><polygon fill=\"#383838\" points=\"531.91,176,522.91,172,526.91,176,522.91,180,531.91,176\" style=\"stroke: #383838; stroke-width: 1.0;\"/><text fill=\"#000000\" font-family=\"sans-serif\" font-size=\"13\" lengthAdjust=\"spacingAndGlyphs\" textLength=\"55\" x=\"446\" y=\"172.0669\">[x == 0]</text><text fill=\"#000000\" font-family=\"sans-serif\" font-size=\"13\" lengthAdjust=\"spacingAndGlyphs\" textLength=\"7\" x=\"517.1423\" y=\"189.8239\">*</text></a><!--MD5=[aa6d0245749c22bbcdcd4c024e5be12b]\n",
       "@startuml\r\n",
       "left to right direction\r\n",
       "skinparam monochrome true\r\n",
       "skinparam classbackgroundcolor white\r\n",
       "skinparam shadowing false\r\n",
       "skinparam wrapWidth 300\r\n",
       "hide circle\r\n",
       "\r\n",
       "rec def \"DecisionTest\" as E1  <<(T,blue) action def>> [[psysml:ec9d2101-14b6-425a-8b3b-258973824e57 ]] {\r\n",
       "choice \"test x\" as E2  [[psysml:7b5c557c-0eca-43da-893a-884adf177ee9 ]] \r\n",
       "choice \"<s>noname</s>\" as E3  [[psysml:c8637911-bdae-488c-9ae7-71f0e05f074a ]] \r\n",
       "rec usage \"A1\" as E4  <<(T,blue) action>> [[psysml:2b21def1-54fd-4014-8db4-beef5c1da0f0 ]] {\r\n",
       "}\r\n",
       "\r\n",
       "rec usage \"A2\" as E5  <<(T,blue) action>> [[psysml:a7c18d95-cb4e-4d18-b7c9-a948ce4b9e35 ]] {\r\n",
       "}\r\n",
       "\r\n",
       "rec usage \"A3\" as E6  <<(T,blue) action>> [[psysml:6ad7aed3-e22d-47c2-b6cf-45fd0f629de6 ]] {\r\n",
       "}\r\n",
       "\r\n",
       "rec usage \"A3\" as E7  <<(T,blue) action>> [[psysml:6ad7aed3-e22d-47c2-b6cf-45fd0f629de6 ]] {\r\n",
       "}\r\n",
       "\r\n",
       "}\r\n",
       "\r\n",
       "E2  - -> \"*\"E4 [[psysml:07a447fb-7978-4e35-9306-ac5ec116db5d ]] : [x == 1]\r\n",
       "E2  - -> \"*\"E5 [[psysml:f195b54a-5fed-403e-bb02-20f21e154f17 ]] : [x > 1]\r\n",
       "E2  - -> \"*\"E7 [[psysml:15c91a99-d9b4-4320-8388-ef3655122685 ]] \r\n",
       "E2 - -> \"*\"E3 [[psysml:6d6473c9-743e-4105-a2af-98d6bd8c1632 ]] \r\n",
       "E3  - -> \"*\"E4 [[psysml:4dd56774-018b-4c8a-8121-2b3d6a9c557c ]] : [true]\r\n",
       "E3  - -> \"*\"E5 [[psysml:2f25c912-d622-4deb-be6f-2375e7caca37 ]] : [false]\r\n",
       "E4  - -> \"*\"E5 [[psysml:19ac739f-970e-4750-a1cd-14a3501dcfff ]] : [x == 0]\r\n",
       "E7  - -> \"*\"E2 [[psysml:c19c71e4-b628-4c9d-aa87-db03cc189a8f ]] : [x > 0]\r\n",
       "@enduml\r\n",
       "\n",
       "PlantUML version 1.2020.13(Sat Jun 13 12:26:38 UTC 2020)\n",
       "(EPL source distribution)\n",
       "Java Runtime: OpenJDK Runtime Environment\n",
       "JVM: OpenJDK 64-Bit Server VM\n",
       "Default Encoding: UTF-8\n",
       "Language: en\n",
       "Country: null\n",
       "--></g></svg>"
      ]
     },
     "execution_count": 22,
     "metadata": {},
     "output_type": "execute_result"
    }
   ],
   "source": [
    "%viz --style=\"LR\" --view=\"MIXED\" \"DecisionTest\""
   ]
  },
  {
   "cell_type": "code",
   "execution_count": 23,
   "id": "c1d36ff4",
   "metadata": {
    "execution": {
     "iopub.execute_input": "2021-10-03T08:29:01.627527Z",
     "iopub.status.busy": "2021-10-03T08:29:01.627214Z",
     "iopub.status.idle": "2021-10-03T08:29:01.671314Z",
     "shell.execute_reply": "2021-10-03T08:29:01.671042Z"
    }
   },
   "outputs": [
    {
     "data": {
      "image/svg+xml": [
       "<?xml version=\"1.0\" encoding=\"UTF-8\" standalone=\"no\"?><svg xmlns=\"http://www.w3.org/2000/svg\" xmlns:xlink=\"http://www.w3.org/1999/xlink\" contentScriptType=\"application/ecmascript\" contentStyleType=\"text/css\" height=\"496px\" preserveAspectRatio=\"none\" style=\"width:341px;height:496px;\" version=\"1.1\" viewBox=\"0 0 341 496\" width=\"341px\" zoomAndPan=\"magnify\"><defs><filter height=\"300%\" id=\"f1iph0fayut7qa\" width=\"300%\" x=\"-1\" y=\"-1\"><feGaussianBlur result=\"blurOut\" stdDeviation=\"2.0\"/><feColorMatrix in=\"blurOut\" result=\"blurOut2\" type=\"matrix\" values=\"0 0 0 0 0 0 0 0 0 0 0 0 0 0 0 0 0 0 .4 0\"/><feOffset dx=\"4.0\" dy=\"4.0\" in=\"blurOut2\" result=\"blurOut3\"/><feBlend in=\"SourceGraphic\" in2=\"blurOut3\" mode=\"normal\"/></filter></defs><g><!--MD5=[fbc87193dbaf4d95561dea2c320d4a47]\n",
       "cluster E1--><a href=\"psysml:ec9d2101-14b6-425a-8b3b-258973824e57\" target=\"_top\" title=\"psysml:ec9d2101-14b6-425a-8b3b-258973824e57\" xlink:actuate=\"onRequest\" xlink:href=\"psysml:ec9d2101-14b6-425a-8b3b-258973824e57\" xlink:show=\"new\" xlink:title=\"psysml:ec9d2101-14b6-425a-8b3b-258973824e57\" xlink:type=\"simple\"><rect fill=\"#FFFFFF\" filter=\"url(#f1iph0fayut7qa)\" height=\"470\" id=\"E1\" style=\"stroke: #A80036; stroke-width: 1.5;\" width=\"315\" x=\"7\" y=\"7\"/><rect fill=\"#FEFECE\" height=\"37.9375\" style=\"stroke: #A80036; stroke-width: 1.5;\" width=\"315\" x=\"7\" y=\"7\"/><text fill=\"#000000\" font-family=\"sans-serif\" font-size=\"12\" font-style=\"italic\" lengthAdjust=\"spacingAndGlyphs\" textLength=\"77\" x=\"126\" y=\"23.1387\">«action def»</text><text fill=\"#000000\" font-family=\"sans-serif\" font-size=\"12\" lengthAdjust=\"spacingAndGlyphs\" textLength=\"80\" x=\"124.5\" y=\"37.1074\">DecisionTest</text></a><polygon fill=\"#FEFECE\" filter=\"url(#f1iph0fayut7qa)\" points=\"210,67.5,222,79.5,210,91.5,198,79.5,210,67.5\" style=\"stroke: #A80036; stroke-width: 1.5;\"/><polygon fill=\"#FEFECE\" filter=\"url(#f1iph0fayut7qa)\" points=\"35,187.5,47,199.5,35,211.5,23,199.5,35,187.5\" style=\"stroke: #A80036; stroke-width: 1.5;\"/><g id=\"E1.E4\"><a href=\"psysml:2b21def1-54fd-4014-8db4-beef5c1da0f0\" target=\"_top\" title=\"psysml:2b21def1-54fd-4014-8db4-beef5c1da0f0\" xlink:actuate=\"onRequest\" xlink:href=\"psysml:2b21def1-54fd-4014-8db4-beef5c1da0f0\" xlink:show=\"new\" xlink:title=\"psysml:2b21def1-54fd-4014-8db4-beef5c1da0f0\" xlink:type=\"simple\"><rect fill=\"#FEFECE\" filter=\"url(#f1iph0fayut7qa)\" height=\"42.9375\" id=\"E4\" rx=\"10\" ry=\"10\" style=\"stroke: #A80036; stroke-width: 1.5;\" width=\"60\" x=\"135\" y=\"298\"/><text fill=\"#000000\" font-family=\"sans-serif\" font-size=\"12\" font-style=\"italic\" lengthAdjust=\"spacingAndGlyphs\" textLength=\"53\" x=\"138.5\" y=\"314.1387\">«action»</text><text fill=\"#000000\" font-family=\"sans-serif\" font-size=\"12\" lengthAdjust=\"spacingAndGlyphs\" textLength=\"16\" x=\"157\" y=\"328.1074\">A1</text></a></g><g id=\"E1.E5\"><a href=\"psysml:a7c18d95-cb4e-4d18-b7c9-a948ce4b9e35\" target=\"_top\" title=\"psysml:a7c18d95-cb4e-4d18-b7c9-a948ce4b9e35\" xlink:actuate=\"onRequest\" xlink:href=\"psysml:a7c18d95-cb4e-4d18-b7c9-a948ce4b9e35\" xlink:show=\"new\" xlink:title=\"psysml:a7c18d95-cb4e-4d18-b7c9-a948ce4b9e35\" xlink:type=\"simple\"><rect fill=\"#FEFECE\" filter=\"url(#f1iph0fayut7qa)\" height=\"42.9375\" id=\"E5\" rx=\"10\" ry=\"10\" style=\"stroke: #A80036; stroke-width: 1.5;\" width=\"60\" x=\"135\" y=\"418\"/><text fill=\"#000000\" font-family=\"sans-serif\" font-size=\"12\" font-style=\"italic\" lengthAdjust=\"spacingAndGlyphs\" textLength=\"53\" x=\"138.5\" y=\"434.1387\">«action»</text><text fill=\"#000000\" font-family=\"sans-serif\" font-size=\"12\" lengthAdjust=\"spacingAndGlyphs\" textLength=\"16\" x=\"157\" y=\"448.1074\">A2</text></a></g><g id=\"E1.E6\"><a href=\"psysml:6ad7aed3-e22d-47c2-b6cf-45fd0f629de6\" target=\"_top\" title=\"psysml:6ad7aed3-e22d-47c2-b6cf-45fd0f629de6\" xlink:actuate=\"onRequest\" xlink:href=\"psysml:6ad7aed3-e22d-47c2-b6cf-45fd0f629de6\" xlink:show=\"new\" xlink:title=\"psysml:6ad7aed3-e22d-47c2-b6cf-45fd0f629de6\" xlink:type=\"simple\"><rect fill=\"#FEFECE\" filter=\"url(#f1iph0fayut7qa)\" height=\"42.9375\" id=\"E6\" rx=\"10\" ry=\"10\" style=\"stroke: #A80036; stroke-width: 1.5;\" width=\"60\" x=\"63\" y=\"58\"/><text fill=\"#000000\" font-family=\"sans-serif\" font-size=\"12\" font-style=\"italic\" lengthAdjust=\"spacingAndGlyphs\" textLength=\"53\" x=\"66.5\" y=\"74.1387\">«action»</text><text fill=\"#000000\" font-family=\"sans-serif\" font-size=\"12\" lengthAdjust=\"spacingAndGlyphs\" textLength=\"16\" x=\"85\" y=\"88.1074\">A3</text></a></g><g id=\"E1.E7\"><a href=\"psysml:6ad7aed3-e22d-47c2-b6cf-45fd0f629de6\" target=\"_top\" title=\"psysml:6ad7aed3-e22d-47c2-b6cf-45fd0f629de6\" xlink:actuate=\"onRequest\" xlink:href=\"psysml:6ad7aed3-e22d-47c2-b6cf-45fd0f629de6\" xlink:show=\"new\" xlink:title=\"psysml:6ad7aed3-e22d-47c2-b6cf-45fd0f629de6\" xlink:type=\"simple\"><rect fill=\"#FEFECE\" filter=\"url(#f1iph0fayut7qa)\" height=\"42.9375\" id=\"E7\" rx=\"10\" ry=\"10\" style=\"stroke: #A80036; stroke-width: 1.5;\" width=\"60\" x=\"246\" y=\"178\"/><text fill=\"#000000\" font-family=\"sans-serif\" font-size=\"12\" font-style=\"italic\" lengthAdjust=\"spacingAndGlyphs\" textLength=\"53\" x=\"249.5\" y=\"194.1387\">«action»</text><text fill=\"#000000\" font-family=\"sans-serif\" font-size=\"12\" lengthAdjust=\"spacingAndGlyphs\" textLength=\"16\" x=\"268\" y=\"208.1074\">A3</text></a></g><!--MD5=[4d03bb2d0377dc85ccfab60ff574652b]\n",
       "link E2 to E4--><a href=\"psysml:07a447fb-7978-4e35-9306-ac5ec116db5d\" target=\"_top\" title=\"psysml:07a447fb-7978-4e35-9306-ac5ec116db5d\" xlink:actuate=\"onRequest\" xlink:href=\"psysml:07a447fb-7978-4e35-9306-ac5ec116db5d\" xlink:show=\"new\" xlink:title=\"psysml:07a447fb-7978-4e35-9306-ac5ec116db5d\" xlink:type=\"simple\"><path d=\"M204.45,86 C190.88,99.89 156.22,138.13 144,178 C132.04,217.01 144.31,264.27 154.48,292.83 \" fill=\"none\" id=\"E2-&gt;E4\" style=\"stroke: #A80036; stroke-width: 1.0;\"/><polygon fill=\"#A80036\" points=\"156.22,297.6,156.8939,287.7742,154.5067,292.9027,149.3782,290.5155,156.22,297.6\" style=\"stroke: #A80036; stroke-width: 1.0;\"/><text fill=\"#000000\" font-family=\"sans-serif\" font-size=\"13\" lengthAdjust=\"spacingAndGlyphs\" textLength=\"55\" x=\"145\" y=\"204.0669\">[x == 1]</text><text fill=\"#000000\" font-family=\"sans-serif\" font-size=\"13\" lengthAdjust=\"spacingAndGlyphs\" textLength=\"7\" x=\"145.9198\" y=\"286.7919\">*</text></a><!--MD5=[dcad52bbbca2fe8adc741ce38b45dc12]\n",
       "link E2 to E5--><a href=\"psysml:f195b54a-5fed-403e-bb02-20f21e154f17\" target=\"_top\" title=\"psysml:f195b54a-5fed-403e-bb02-20f21e154f17\" xlink:actuate=\"onRequest\" xlink:href=\"psysml:f195b54a-5fed-403e-bb02-20f21e154f17\" xlink:show=\"new\" xlink:title=\"psysml:f195b54a-5fed-403e-bb02-20f21e154f17\" xlink:type=\"simple\"><path d=\"M210.67,90.83 C214.08,143.62 229.24,381.12 226,388 C220.27,400.19 209.98,410.45 199.48,418.47 \" fill=\"none\" id=\"E2-&gt;E5\" style=\"stroke: #A80036; stroke-width: 1.0;\"/><polygon fill=\"#A80036\" points=\"195.29,421.54,204.9073,419.4168,199.3138,418.5721,200.1586,412.9786,195.29,421.54\" style=\"stroke: #A80036; stroke-width: 1.0;\"/><text fill=\"#000000\" font-family=\"sans-serif\" font-size=\"13\" lengthAdjust=\"spacingAndGlyphs\" textLength=\"44\" x=\"222\" y=\"264.0669\">[x &gt; 1]</text><text fill=\"#000000\" font-family=\"sans-serif\" font-size=\"13\" lengthAdjust=\"spacingAndGlyphs\" textLength=\"7\" x=\"203.1039\" y=\"412.7419\">*</text></a><!--MD5=[e3d2a08a9c9236652057e8ed0cbc9b62]\n",
       "link E2 to E7--><a href=\"psysml:15c91a99-d9b4-4320-8388-ef3655122685\" target=\"_top\" title=\"psysml:15c91a99-d9b4-4320-8388-ef3655122685\" xlink:actuate=\"onRequest\" xlink:href=\"psysml:15c91a99-d9b4-4320-8388-ef3655122685\" xlink:show=\"new\" xlink:title=\"psysml:15c91a99-d9b4-4320-8388-ef3655122685\" xlink:type=\"simple\"><path d=\"M210.1,91.71 C210.67,105.71 213.16,129.99 223,148 C228.29,157.68 236.08,166.6 244.08,174.17 \" fill=\"none\" id=\"E2-&gt;E7\" style=\"stroke: #A80036; stroke-width: 1.0;\"/><polygon fill=\"#A80036\" points=\"248.01,177.77,244.069,168.744,244.3207,174.3953,238.6694,174.6469,248.01,177.77\" style=\"stroke: #A80036; stroke-width: 1.0;\"/><text fill=\"#000000\" font-family=\"sans-serif\" font-size=\"13\" lengthAdjust=\"spacingAndGlyphs\" textLength=\"7\" x=\"232.5471\" y=\"167.0076\">*</text></a><!--MD5=[583832df87f4419a098336a29a52fa00]\n",
       "link E7 to E2--><a href=\"psysml:c19c71e4-b628-4c9d-aa87-db03cc189a8f\" target=\"_top\" title=\"psysml:c19c71e4-b628-4c9d-aa87-db03cc189a8f\" xlink:actuate=\"onRequest\" xlink:href=\"psysml:c19c71e4-b628-4c9d-aa87-db03cc189a8f\" xlink:show=\"new\" xlink:title=\"psysml:c19c71e4-b628-4c9d-aa87-db03cc189a8f\" xlink:type=\"simple\"><path d=\"M264.3,177.59 C250.41,152.74 227.7,112.15 216.57,92.25 \" fill=\"none\" id=\"E7-&gt;E2\" style=\"stroke: #A80036; stroke-width: 1.0;\"/><polygon fill=\"#A80036\" points=\"214.13,87.88,215.0286,97.6878,216.5691,92.2447,222.0122,93.7852,214.13,87.88\" style=\"stroke: #A80036; stroke-width: 1.0;\"/><text fill=\"#000000\" font-family=\"sans-serif\" font-size=\"13\" lengthAdjust=\"spacingAndGlyphs\" textLength=\"44\" x=\"247\" y=\"144.0669\">[x &gt; 0]</text><text fill=\"#000000\" font-family=\"sans-serif\" font-size=\"13\" lengthAdjust=\"spacingAndGlyphs\" textLength=\"7\" x=\"207.5946\" y=\"111.7074\">*</text></a><!--MD5=[2720a5a1f2c3fca2055b230370638851]\n",
       "link E2 to E3--><a href=\"psysml:6d6473c9-743e-4105-a2af-98d6bd8c1632\" target=\"_top\" title=\"psysml:6d6473c9-743e-4105-a2af-98d6bd8c1632\" xlink:actuate=\"onRequest\" xlink:href=\"psysml:6d6473c9-743e-4105-a2af-98d6bd8c1632\" xlink:show=\"new\" xlink:title=\"psysml:6d6473c9-743e-4105-a2af-98d6bd8c1632\" xlink:type=\"simple\"><path d=\"M201.9,83.58 C184.06,90.55 140.39,108.7 108,131 C82.49,148.57 56.88,174.67 43.84,188.71 \" fill=\"none\" id=\"E2-&gt;E3\" style=\"stroke: #A80036; stroke-width: 1.0;\"/><polygon fill=\"#A80036\" points=\"40.21,192.66,49.2443,188.738,43.5925,188.9778,43.3527,183.326,40.21,192.66\" style=\"stroke: #A80036; stroke-width: 1.0;\"/><text fill=\"#000000\" font-family=\"sans-serif\" font-size=\"13\" lengthAdjust=\"spacingAndGlyphs\" textLength=\"7\" x=\"48.2668\" y=\"176.5238\">*</text></a><!--MD5=[af87c684e3b0d8be13c1a698a818ef1e]\n",
       "link E3 to E4--><a href=\"psysml:4dd56774-018b-4c8a-8121-2b3d6a9c557c\" target=\"_top\" title=\"psysml:4dd56774-018b-4c8a-8121-2b3d6a9c557c\" xlink:actuate=\"onRequest\" xlink:href=\"psysml:4dd56774-018b-4c8a-8121-2b3d6a9c557c\" xlink:show=\"new\" xlink:title=\"psysml:4dd56774-018b-4c8a-8121-2b3d6a9c557c\" xlink:type=\"simple\"><path d=\"M39.08,207.91 C46.63,221.15 63.87,249.24 84,268 C97.73,280.8 115.17,292.16 130.35,300.85 \" fill=\"none\" id=\"E3-&gt;E4\" style=\"stroke: #A80036; stroke-width: 1.0;\"/><polygon fill=\"#A80036\" points=\"134.98,303.46,129.0858,295.5696,130.6187,301.0148,125.1735,302.5477,134.98,303.46\" style=\"stroke: #A80036; stroke-width: 1.0;\"/><text fill=\"#000000\" font-family=\"sans-serif\" font-size=\"13\" lengthAdjust=\"spacingAndGlyphs\" textLength=\"36\" x=\"85\" y=\"264.0669\">[true]</text><text fill=\"#000000\" font-family=\"sans-serif\" font-size=\"13\" lengthAdjust=\"spacingAndGlyphs\" textLength=\"7\" x=\"119.8095\" y=\"294.8128\">*</text></a><!--MD5=[0188b64bb0ae78505a997a81836e11e9]\n",
       "link E3 to E5--><a href=\"psysml:2f25c912-d622-4deb-be6f-2375e7caca37\" target=\"_top\" title=\"psysml:2f25c912-d622-4deb-be6f-2375e7caca37\" xlink:actuate=\"onRequest\" xlink:href=\"psysml:2f25c912-d622-4deb-be6f-2375e7caca37\" xlink:show=\"new\" xlink:title=\"psysml:2f25c912-d622-4deb-be6f-2375e7caca37\" xlink:type=\"simple\"><path d=\"M36.3,210.29 C39.76,234.03 50.73,296.03 76,341 C91.89,369.29 117.42,396.1 137.07,414.43 \" fill=\"none\" id=\"E3-&gt;E5\" style=\"stroke: #A80036; stroke-width: 1.0;\"/><polygon fill=\"#A80036\" points=\"140.92,417.98,137.0155,408.9382,137.2443,414.5904,131.5921,414.8192,140.92,417.98\" style=\"stroke: #A80036; stroke-width: 1.0;\"/><text fill=\"#000000\" font-family=\"sans-serif\" font-size=\"13\" lengthAdjust=\"spacingAndGlyphs\" textLength=\"40\" x=\"77\" y=\"324.0669\">[false]</text><text fill=\"#000000\" font-family=\"sans-serif\" font-size=\"13\" lengthAdjust=\"spacingAndGlyphs\" textLength=\"7\" x=\"126.1631\" y=\"406.9125\">*</text></a><!--MD5=[1b7591eae5389033d8d09a9d6721a717]\n",
       "link E4 to E5--><a href=\"psysml:19ac739f-970e-4750-a1cd-14a3501dcfff\" target=\"_top\" title=\"psysml:19ac739f-970e-4750-a1cd-14a3501dcfff\" xlink:actuate=\"onRequest\" xlink:href=\"psysml:19ac739f-970e-4750-a1cd-14a3501dcfff\" xlink:show=\"new\" xlink:title=\"psysml:19ac739f-970e-4750-a1cd-14a3501dcfff\" xlink:type=\"simple\"><path d=\"M165,341.05 C165,360.9 165,391.02 165,412.52 \" fill=\"none\" id=\"E4-&gt;E5\" style=\"stroke: #A80036; stroke-width: 1.0;\"/><polygon fill=\"#A80036\" points=\"165,417.79,169,408.79,165,412.79,161,408.79,165,417.79\" style=\"stroke: #A80036; stroke-width: 1.0;\"/><text fill=\"#000000\" font-family=\"sans-serif\" font-size=\"13\" lengthAdjust=\"spacingAndGlyphs\" textLength=\"55\" x=\"166\" y=\"384.0669\">[x == 0]</text><text fill=\"#000000\" font-family=\"sans-serif\" font-size=\"13\" lengthAdjust=\"spacingAndGlyphs\" textLength=\"7\" x=\"157.0594\" y=\"407.033\">*</text></a><!--MD5=[83e9b381c6a5298c52448e89e3c25b7d]\n",
       "@startuml\r\n",
       "skinparam wrapWidth 300\r\n",
       "hide circle\r\n",
       "\r\n",
       "rec def \"DecisionTest\" as E1  <<(T,blue) action def>> [[psysml:ec9d2101-14b6-425a-8b3b-258973824e57 ]] {\r\n",
       "choice \"test x\" as E2  [[psysml:7b5c557c-0eca-43da-893a-884adf177ee9 ]] \r\n",
       "choice \"<s>noname</s>\" as E3  [[psysml:c8637911-bdae-488c-9ae7-71f0e05f074a ]] \r\n",
       "rec usage \"A1\" as E4  <<(T,blue) action>> [[psysml:2b21def1-54fd-4014-8db4-beef5c1da0f0 ]] {\r\n",
       "}\r\n",
       "\r\n",
       "rec usage \"A2\" as E5  <<(T,blue) action>> [[psysml:a7c18d95-cb4e-4d18-b7c9-a948ce4b9e35 ]] {\r\n",
       "}\r\n",
       "\r\n",
       "rec usage \"A3\" as E6  <<(T,blue) action>> [[psysml:6ad7aed3-e22d-47c2-b6cf-45fd0f629de6 ]] {\r\n",
       "}\r\n",
       "\r\n",
       "rec usage \"A3\" as E7  <<(T,blue) action>> [[psysml:6ad7aed3-e22d-47c2-b6cf-45fd0f629de6 ]] {\r\n",
       "}\r\n",
       "\r\n",
       "}\r\n",
       "\r\n",
       "E2  - -> \"*\"E4 [[psysml:07a447fb-7978-4e35-9306-ac5ec116db5d ]] : [x == 1]\r\n",
       "E2  - -> \"*\"E5 [[psysml:f195b54a-5fed-403e-bb02-20f21e154f17 ]] : [x > 1]\r\n",
       "E2  - -> \"*\"E7 [[psysml:15c91a99-d9b4-4320-8388-ef3655122685 ]] \r\n",
       "E2 - -> \"*\"E3 [[psysml:6d6473c9-743e-4105-a2af-98d6bd8c1632 ]] \r\n",
       "E3  - -> \"*\"E4 [[psysml:4dd56774-018b-4c8a-8121-2b3d6a9c557c ]] : [true]\r\n",
       "E3  - -> \"*\"E5 [[psysml:2f25c912-d622-4deb-be6f-2375e7caca37 ]] : [false]\r\n",
       "E4  - -> \"*\"E5 [[psysml:19ac739f-970e-4750-a1cd-14a3501dcfff ]] : [x == 0]\r\n",
       "E7  - -> \"*\"E2 [[psysml:c19c71e4-b628-4c9d-aa87-db03cc189a8f ]] : [x > 0]\r\n",
       "@enduml\r\n",
       "\n",
       "PlantUML version 1.2020.13(Sat Jun 13 12:26:38 UTC 2020)\n",
       "(EPL source distribution)\n",
       "Java Runtime: OpenJDK Runtime Environment\n",
       "JVM: OpenJDK 64-Bit Server VM\n",
       "Default Encoding: UTF-8\n",
       "Language: en\n",
       "Country: null\n",
       "--></g></svg>"
      ]
     },
     "execution_count": 23,
     "metadata": {},
     "output_type": "execute_result"
    }
   ],
   "source": [
    "%viz --style=\"STDCOLOR\" --view=\"Default\" \"DecisionTest\""
   ]
  },
  {
   "cell_type": "code",
   "execution_count": 24,
   "id": "34d8aeee",
   "metadata": {
    "execution": {
     "iopub.execute_input": "2021-10-03T08:29:01.721023Z",
     "iopub.status.busy": "2021-10-03T08:29:01.720715Z",
     "iopub.status.idle": "2021-10-03T08:29:01.775903Z",
     "shell.execute_reply": "2021-10-03T08:29:01.775612Z"
    }
   },
   "outputs": [
    {
     "data": {
      "image/svg+xml": [
       "<?xml version=\"1.0\" encoding=\"UTF-8\" standalone=\"no\"?><svg xmlns=\"http://www.w3.org/2000/svg\" xmlns:xlink=\"http://www.w3.org/1999/xlink\" contentScriptType=\"application/ecmascript\" contentStyleType=\"text/css\" height=\"219px\" preserveAspectRatio=\"none\" style=\"width:533px;height:219px;\" version=\"1.1\" viewBox=\"0 0 533 219\" width=\"533px\" zoomAndPan=\"magnify\"><defs><filter height=\"300%\" id=\"f1nj4t4um6mrfo\" width=\"300%\" x=\"-1\" y=\"-1\"><feGaussianBlur result=\"blurOut\" stdDeviation=\"2.0\"/><feColorMatrix in=\"blurOut\" result=\"blurOut2\" type=\"matrix\" values=\"0 0 0 0 0 0 0 0 0 0 0 0 0 0 0 0 0 0 .4 0\"/><feOffset dx=\"4.0\" dy=\"4.0\" in=\"blurOut2\" result=\"blurOut3\"/><feBlend in=\"SourceGraphic\" in2=\"blurOut3\" mode=\"normal\"/></filter></defs><g><!--MD5=[43c9051892ef23e1a46a86907403d788]\n",
       "class E1--><a href=\"psysml:ec9d2101-14b6-425a-8b3b-258973824e57\" target=\"_top\" title=\"psysml:ec9d2101-14b6-425a-8b3b-258973824e57\" xlink:actuate=\"onRequest\" xlink:href=\"psysml:ec9d2101-14b6-425a-8b3b-258973824e57\" xlink:show=\"new\" xlink:title=\"psysml:ec9d2101-14b6-425a-8b3b-258973824e57\" xlink:type=\"simple\"><rect fill=\"#FEFECE\" filter=\"url(#f1nj4t4um6mrfo)\" height=\"88.3516\" id=\"E1\" style=\"stroke: #A80036; stroke-width: 1.5;\" width=\"86\" x=\"308.5\" y=\"7\"/><text fill=\"#000000\" font-family=\"sans-serif\" font-size=\"12\" font-style=\"italic\" lengthAdjust=\"spacingAndGlyphs\" textLength=\"77\" x=\"313\" y=\"23.1387\">«action def»</text><text fill=\"#000000\" font-family=\"sans-serif\" font-size=\"12\" lengthAdjust=\"spacingAndGlyphs\" textLength=\"80\" x=\"311.5\" y=\"37.1074\">DecisionTest</text><line style=\"stroke: #A80036; stroke-width: 1.5;\" x1=\"309.5\" x2=\"393.5\" y1=\"44.9375\" y2=\"44.9375\"/><text fill=\"#000000\" font-family=\"sans-serif\" font-size=\"11\" lengthAdjust=\"spacingAndGlyphs\" textLength=\"30\" x=\"314.5\" y=\"59.1479\">x= 1;</text><text fill=\"#000000\" font-family=\"sans-serif\" font-size=\"11\" lengthAdjust=\"spacingAndGlyphs\" textLength=\"8\" x=\"314.5\" y=\"88.7573\">S</text><line style=\"stroke: #A80036; stroke-width: 1.0;\" x1=\"309.5\" x2=\"321\" y1=\"72.1445\" y2=\"72.1445\"/><text fill=\"#000000\" font-family=\"sans-serif\" font-size=\"11\" lengthAdjust=\"spacingAndGlyphs\" textLength=\"61\" x=\"321\" y=\"75.4526\">transitions</text><line style=\"stroke: #A80036; stroke-width: 1.0;\" x1=\"382\" x2=\"393.5\" y1=\"72.1445\" y2=\"72.1445\"/></a><!--MD5=[b4997ac47864f28c2f74865a473b2911]\n",
       "class E2--><a href=\"psysml:7b5c557c-0eca-43da-893a-884adf177ee9\" target=\"_top\" title=\"psysml:7b5c557c-0eca-43da-893a-884adf177ee9\" xlink:actuate=\"onRequest\" xlink:href=\"psysml:7b5c557c-0eca-43da-893a-884adf177ee9\" xlink:show=\"new\" xlink:title=\"psysml:7b5c557c-0eca-43da-893a-884adf177ee9\" xlink:type=\"simple\"><rect fill=\"#FEFECE\" filter=\"url(#f1nj4t4um6mrfo)\" height=\"45.9375\" id=\"E2\" rx=\"10\" ry=\"10\" style=\"stroke: #A80036; stroke-width: 1.5;\" width=\"101\" x=\"7\" y=\"155\"/><text fill=\"#000000\" font-family=\"sans-serif\" font-size=\"12\" font-style=\"italic\" lengthAdjust=\"spacingAndGlyphs\" textLength=\"99\" x=\"8\" y=\"171.1387\">«decisionNode»</text><text fill=\"#000000\" font-family=\"sans-serif\" font-size=\"12\" lengthAdjust=\"spacingAndGlyphs\" textLength=\"35\" x=\"40\" y=\"185.1074\">test x</text><line style=\"stroke: #A80036; stroke-width: 1.5;\" x1=\"8\" x2=\"107\" y1=\"192.9375\" y2=\"192.9375\"/></a><!--MD5=[09b614a08d8cba4a07c9adeb5e0fee81]\n",
       "class E3--><a href=\"psysml:c8637911-bdae-488c-9ae7-71f0e05f074a\" target=\"_top\" title=\"psysml:c8637911-bdae-488c-9ae7-71f0e05f074a\" xlink:actuate=\"onRequest\" xlink:href=\"psysml:c8637911-bdae-488c-9ae7-71f0e05f074a\" xlink:show=\"new\" xlink:title=\"psysml:c8637911-bdae-488c-9ae7-71f0e05f074a\" xlink:type=\"simple\"><rect fill=\"#FEFECE\" filter=\"url(#f1nj4t4um6mrfo)\" height=\"45.9375\" id=\"E3\" rx=\"10\" ry=\"10\" style=\"stroke: #A80036; stroke-width: 1.5;\" width=\"101\" x=\"143\" y=\"155\"/><text fill=\"#000000\" font-family=\"sans-serif\" font-size=\"12\" font-style=\"italic\" lengthAdjust=\"spacingAndGlyphs\" textLength=\"99\" x=\"144\" y=\"171.1387\">«decisionNode»</text><text fill=\"#000000\" font-family=\"sans-serif\" font-size=\"12\" lengthAdjust=\"spacingAndGlyphs\" text-decoration=\"line-through\" textLength=\"51\" x=\"168\" y=\"185.1074\">noname</text><line style=\"stroke: #A80036; stroke-width: 1.5;\" x1=\"144\" x2=\"243\" y1=\"192.9375\" y2=\"192.9375\"/></a><!--MD5=[ebbe1d658d1005bcc118a6aa81145e00]\n",
       "class E4--><a href=\"psysml:2b21def1-54fd-4014-8db4-beef5c1da0f0\" target=\"_top\" title=\"psysml:2b21def1-54fd-4014-8db4-beef5c1da0f0\" xlink:actuate=\"onRequest\" xlink:href=\"psysml:2b21def1-54fd-4014-8db4-beef5c1da0f0\" xlink:show=\"new\" xlink:title=\"psysml:2b21def1-54fd-4014-8db4-beef5c1da0f0\" xlink:type=\"simple\"><rect fill=\"#FEFECE\" filter=\"url(#f1nj4t4um6mrfo)\" height=\"45.9375\" id=\"E4\" rx=\"10\" ry=\"10\" style=\"stroke: #A80036; stroke-width: 1.5;\" width=\"55\" x=\"279\" y=\"155\"/><text fill=\"#000000\" font-family=\"sans-serif\" font-size=\"12\" font-style=\"italic\" lengthAdjust=\"spacingAndGlyphs\" textLength=\"53\" x=\"280\" y=\"171.1387\">«action»</text><text fill=\"#000000\" font-family=\"sans-serif\" font-size=\"12\" lengthAdjust=\"spacingAndGlyphs\" textLength=\"16\" x=\"298.5\" y=\"185.1074\">A1</text><line style=\"stroke: #A80036; stroke-width: 1.5;\" x1=\"280\" x2=\"333\" y1=\"192.9375\" y2=\"192.9375\"/></a><!--MD5=[270fce915f116d4de14055a7c1d9a0f3]\n",
       "class E5--><a href=\"psysml:a7c18d95-cb4e-4d18-b7c9-a948ce4b9e35\" target=\"_top\" title=\"psysml:a7c18d95-cb4e-4d18-b7c9-a948ce4b9e35\" xlink:actuate=\"onRequest\" xlink:href=\"psysml:a7c18d95-cb4e-4d18-b7c9-a948ce4b9e35\" xlink:show=\"new\" xlink:title=\"psysml:a7c18d95-cb4e-4d18-b7c9-a948ce4b9e35\" xlink:type=\"simple\"><rect fill=\"#FEFECE\" filter=\"url(#f1nj4t4um6mrfo)\" height=\"45.9375\" id=\"E5\" rx=\"10\" ry=\"10\" style=\"stroke: #A80036; stroke-width: 1.5;\" width=\"55\" x=\"369\" y=\"155\"/><text fill=\"#000000\" font-family=\"sans-serif\" font-size=\"12\" font-style=\"italic\" lengthAdjust=\"spacingAndGlyphs\" textLength=\"53\" x=\"370\" y=\"171.1387\">«action»</text><text fill=\"#000000\" font-family=\"sans-serif\" font-size=\"12\" lengthAdjust=\"spacingAndGlyphs\" textLength=\"16\" x=\"388.5\" y=\"185.1074\">A2</text><line style=\"stroke: #A80036; stroke-width: 1.5;\" x1=\"370\" x2=\"423\" y1=\"192.9375\" y2=\"192.9375\"/></a><!--MD5=[60a26617385b1d2d0262a64233df1f8d]\n",
       "class E6--><a href=\"psysml:6ad7aed3-e22d-47c2-b6cf-45fd0f629de6\" target=\"_top\" title=\"psysml:6ad7aed3-e22d-47c2-b6cf-45fd0f629de6\" xlink:actuate=\"onRequest\" xlink:href=\"psysml:6ad7aed3-e22d-47c2-b6cf-45fd0f629de6\" xlink:show=\"new\" xlink:title=\"psysml:6ad7aed3-e22d-47c2-b6cf-45fd0f629de6\" xlink:type=\"simple\"><rect fill=\"#FEFECE\" filter=\"url(#f1nj4t4um6mrfo)\" height=\"45.9375\" id=\"E6\" rx=\"10\" ry=\"10\" style=\"stroke: #A80036; stroke-width: 1.5;\" width=\"55\" x=\"459\" y=\"155\"/><text fill=\"#000000\" font-family=\"sans-serif\" font-size=\"12\" font-style=\"italic\" lengthAdjust=\"spacingAndGlyphs\" textLength=\"53\" x=\"460\" y=\"171.1387\">«action»</text><text fill=\"#000000\" font-family=\"sans-serif\" font-size=\"12\" lengthAdjust=\"spacingAndGlyphs\" textLength=\"16\" x=\"478.5\" y=\"185.1074\">A3</text><line style=\"stroke: #A80036; stroke-width: 1.5;\" x1=\"460\" x2=\"513\" y1=\"192.9375\" y2=\"192.9375\"/></a><!--MD5=[a523cb2a0b79ecf9065ad8783f96c320]\n",
       "reverse link E1 to E2--><a href=\"psysml:a3cf86ed-3d1a-4135-b385-a97024d6cab4\" target=\"_top\" title=\"psysml:a3cf86ed-3d1a-4135-b385-a97024d6cab4\" xlink:actuate=\"onRequest\" xlink:href=\"psysml:a3cf86ed-3d1a-4135-b385-a97024d6cab4\" xlink:show=\"new\" xlink:title=\"psysml:a3cf86ed-3d1a-4135-b385-a97024d6cab4\" xlink:type=\"simple\"><path d=\"M296.33,75.46 C242.25,98.45 160.52,133.2 108.08,155.49 \" fill=\"none\" id=\"E1&lt;-E2\" style=\"stroke: #A80036; stroke-width: 1.0;\"/><polygon fill=\"#A80036\" points=\"308.44,70.31,301.3531,68.9775,297.3973,75.0068,304.4843,76.3393,308.44,70.31\" style=\"stroke: #A80036; stroke-width: 1.0;\"/></a><!--MD5=[5d7b3810b1dd9b5164bea1151b29b665]\n",
       "reverse link E1 to E3--><a href=\"psysml:1909c977-6510-4eff-a578-3c7de40e7c8b\" target=\"_top\" title=\"psysml:1909c977-6510-4eff-a578-3c7de40e7c8b\" xlink:actuate=\"onRequest\" xlink:href=\"psysml:1909c977-6510-4eff-a578-3c7de40e7c8b\" xlink:show=\"new\" xlink:title=\"psysml:1909c977-6510-4eff-a578-3c7de40e7c8b\" xlink:type=\"simple\"><path d=\"M298.01,94.32 C272.42,114.56 242.83,137.98 221.68,154.71 \" fill=\"none\" id=\"E1&lt;-E3\" style=\"stroke: #A80036; stroke-width: 1.0;\"/><polygon fill=\"#A80036\" points=\"308.33,86.16,301.1423,86.7403,298.9134,93.5983,306.1011,93.018,308.33,86.16\" style=\"stroke: #A80036; stroke-width: 1.0;\"/></a><!--MD5=[f2c5c03aa1e8c0ba21c10a05e6444b8e]\n",
       "reverse link E1 to E4--><a href=\"psysml:fda894ee-2ee4-49d0-993e-77e7f0096dce\" target=\"_top\" title=\"psysml:fda894ee-2ee4-49d0-993e-77e7f0096dce\" xlink:actuate=\"onRequest\" xlink:href=\"psysml:fda894ee-2ee4-49d0-993e-77e7f0096dce\" xlink:show=\"new\" xlink:title=\"psysml:fda894ee-2ee4-49d0-993e-77e7f0096dce\" xlink:type=\"simple\"><path d=\"M331.48,107.62 C325.45,124.37 319.17,141.79 314.42,154.99 \" fill=\"none\" id=\"E1&lt;-E4\" style=\"stroke: #A80036; stroke-width: 1.0;\"/><polygon fill=\"#A80036\" points=\"336.01,95.02,330.2148,99.3114,331.9472,106.3113,337.7424,102.0199,336.01,95.02\" style=\"stroke: #A80036; stroke-width: 1.0;\"/><text fill=\"#000000\" font-family=\"sans-serif\" font-size=\"13\" lengthAdjust=\"spacingAndGlyphs\" textLength=\"7\" x=\"308.6079\" y=\"143.8836\">*</text></a><!--MD5=[33238bef88d6431a141d8bc8fb12bca0]\n",
       "reverse link E1 to E5--><a href=\"psysml:109468b3-506c-4497-b8ac-b8e68c843a0f\" target=\"_top\" title=\"psysml:109468b3-506c-4497-b8ac-b8e68c843a0f\" xlink:actuate=\"onRequest\" xlink:href=\"psysml:109468b3-506c-4497-b8ac-b8e68c843a0f\" xlink:show=\"new\" xlink:title=\"psysml:109468b3-506c-4497-b8ac-b8e68c843a0f\" xlink:type=\"simple\"><path d=\"M371.52,107.62 C377.55,124.37 383.83,141.79 388.58,154.99 \" fill=\"none\" id=\"E1&lt;-E5\" style=\"stroke: #A80036; stroke-width: 1.0;\"/><polygon fill=\"#A80036\" points=\"366.99,95.02,365.2576,102.0199,371.0528,106.3113,372.7852,99.3114,366.99,95.02\" style=\"stroke: #A80036; stroke-width: 1.0;\"/><text fill=\"#000000\" font-family=\"sans-serif\" font-size=\"13\" lengthAdjust=\"spacingAndGlyphs\" textLength=\"7\" x=\"378.5109\" y=\"143.8836\">*</text></a><!--MD5=[aca2ef284c2b1b90e17e73bf3f292c07]\n",
       "reverse link E1 to E6--><a href=\"psysml:74d19cab-9a73-4108-b783-78a99b82b215\" target=\"_top\" title=\"psysml:74d19cab-9a73-4108-b783-78a99b82b215\" xlink:actuate=\"onRequest\" xlink:href=\"psysml:74d19cab-9a73-4108-b783-78a99b82b215\" xlink:show=\"new\" xlink:title=\"psysml:74d19cab-9a73-4108-b783-78a99b82b215\" xlink:type=\"simple\"><path d=\"M395.37,104.28 C416.15,124.08 440.2,145.28 458.62,159.65 \" fill=\"none\" id=\"E1&lt;-E6\" style=\"stroke: #A80036; stroke-width: 1.0;\"/><polygon fill=\"#A80036\" points=\"385.78,95.02,387.315,102.0658,394.4092,103.3589,392.8742,96.3131,385.78,95.02\" style=\"stroke: #A80036; stroke-width: 1.0;\"/><text fill=\"#000000\" font-family=\"sans-serif\" font-size=\"13\" lengthAdjust=\"spacingAndGlyphs\" textLength=\"7\" x=\"443.9711\" y=\"150.4398\">*</text></a><!--MD5=[aca2ef284c2b1b90e17e73bf3f292c07]\n",
       "reverse link E1 to E6--><a href=\"psysml:5ce6f7c0-8ea6-4680-8afe-13e322408ece\" target=\"_top\" title=\"psysml:5ce6f7c0-8ea6-4680-8afe-13e322408ece\" xlink:actuate=\"onRequest\" xlink:href=\"psysml:5ce6f7c0-8ea6-4680-8afe-13e322408ece\" xlink:show=\"new\" xlink:title=\"psysml:5ce6f7c0-8ea6-4680-8afe-13e322408ece\" xlink:type=\"simple\"><path d=\"M406.51,91.23 C430.82,112.23 457.22,137.31 473.23,154.91 \" fill=\"none\" id=\"E1&lt;-E6-1\" style=\"stroke: #A80036; stroke-width: 1.0; stroke-dasharray: 7.0,7.0;\"/><ellipse cx=\"400.8925\" cy=\"86.483\" fill=\"#FFFFFF\" rx=\"8\" ry=\"8\" style=\"stroke: #A80036; stroke-width: 1.0;\"/><line style=\"stroke: #A80036; stroke-width: 1.0;\" x1=\"406.9949\" x2=\"394.79\" y1=\"91.656\" y2=\"81.31\"/><line style=\"stroke: #A80036; stroke-width: 1.0;\" x1=\"395.7195\" x2=\"406.0655\" y1=\"92.5855\" y2=\"80.3805\"/><text fill=\"#000000\" font-family=\"sans-serif\" font-size=\"13\" lengthAdjust=\"spacingAndGlyphs\" textLength=\"7\" x=\"461.7231\" y=\"143.7821\">*</text></a><!--MD5=[7f8398999b9f062f10962810257546d5]\n",
       "@startuml\r\n",
       "skinparam wrapWidth 300\r\n",
       "hide circle\r\n",
       "\r\n",
       "comp def \"DecisionTest\" as E1  <<(T,blue) action def>> [[psysml:ec9d2101-14b6-425a-8b3b-258973824e57 ]] {\r\n",
       "x= 1; \r\n",
       "- - transitions - -\r\n",
       "S\r\n",
       "}\r\n",
       "comp usage \"test x\" as E2  <<(T,blue) decisionNode>> [[psysml:7b5c557c-0eca-43da-893a-884adf177ee9 ]] {\r\n",
       "}\r\n",
       "comp usage \"<s>noname</s>\" as E3  <<(T,blue) decisionNode>> [[psysml:c8637911-bdae-488c-9ae7-71f0e05f074a ]] {\r\n",
       "}\r\n",
       "comp usage \"A1\" as E4  <<(T,blue) action>> [[psysml:2b21def1-54fd-4014-8db4-beef5c1da0f0 ]] {\r\n",
       "}\r\n",
       "comp usage \"A2\" as E5  <<(T,blue) action>> [[psysml:a7c18d95-cb4e-4d18-b7c9-a948ce4b9e35 ]] {\r\n",
       "}\r\n",
       "comp usage \"A3\" as E6  <<(T,blue) action>> [[psysml:6ad7aed3-e22d-47c2-b6cf-45fd0f629de6 ]] {\r\n",
       "}\r\n",
       "E1 *- - E2 [[psysml:a3cf86ed-3d1a-4135-b385-a97024d6cab4 ]] \r\n",
       "E1 *- - E3 [[psysml:1909c977-6510-4eff-a578-3c7de40e7c8b ]] \r\n",
       "E1 *- - \"*\"E4 [[psysml:fda894ee-2ee4-49d0-993e-77e7f0096dce ]] \r\n",
       "E1 *- - \"*\"E5 [[psysml:109468b3-506c-4497-b8ac-b8e68c843a0f ]] \r\n",
       "E1 *- - \"*\"E6 [[psysml:74d19cab-9a73-4108-b783-78a99b82b215 ]] \r\n",
       "E1 +.. \"*\"E6 [[psysml:5ce6f7c0-8ea6-4680-8afe-13e322408ece ]] \r\n",
       "@enduml\r\n",
       "\n",
       "PlantUML version 1.2020.13(Sat Jun 13 12:26:38 UTC 2020)\n",
       "(EPL source distribution)\n",
       "Java Runtime: OpenJDK Runtime Environment\n",
       "JVM: OpenJDK 64-Bit Server VM\n",
       "Default Encoding: UTF-8\n",
       "Language: en\n",
       "Country: null\n",
       "--></g></svg>"
      ]
     },
     "execution_count": 24,
     "metadata": {},
     "output_type": "execute_result"
    }
   ],
   "source": [
    "%viz --style=\"STDCOLOR\" --view=\"Tree\" \"DecisionTest\""
   ]
  },
  {
   "cell_type": "code",
   "execution_count": 25,
   "id": "ec160773",
   "metadata": {
    "execution": {
     "iopub.execute_input": "2021-10-03T08:29:01.825555Z",
     "iopub.status.busy": "2021-10-03T08:29:01.825163Z",
     "iopub.status.idle": "2021-10-03T08:29:01.830285Z",
     "shell.execute_reply": "2021-10-03T08:29:01.830594Z"
    }
   },
   "outputs": [
    {
     "data": {
      "image/svg+xml": [
       "<?xml version=\"1.0\" encoding=\"UTF-8\" standalone=\"no\"?><svg xmlns=\"http://www.w3.org/2000/svg\" xmlns:xlink=\"http://www.w3.org/1999/xlink\" contentScriptType=\"application/ecmascript\" contentStyleType=\"text/css\" height=\"12px\" preserveAspectRatio=\"none\" style=\"width:12px;height:12px;\" version=\"1.1\" viewBox=\"0 0 12 12\" width=\"12px\" zoomAndPan=\"magnify\"><defs/><g><!--MD5=[aeeef50f102b80d730deb6443d14f702]\n",
       "@startuml\r\n",
       "skinparam wrapWidth 300\r\n",
       "hide circle\r\n",
       "\r\n",
       "@enduml\r\n",
       "\n",
       "PlantUML version 1.2020.13(Sat Jun 13 12:26:38 UTC 2020)\n",
       "(EPL source distribution)\n",
       "Java Runtime: OpenJDK Runtime Environment\n",
       "JVM: OpenJDK 64-Bit Server VM\n",
       "Default Encoding: UTF-8\n",
       "Language: en\n",
       "Country: null\n",
       "--></g></svg>"
      ]
     },
     "execution_count": 25,
     "metadata": {},
     "output_type": "execute_result"
    }
   ],
   "source": [
    "%viz --style=\"STDCOLOR\" --view=\"State\" \"DecisionTest\""
   ]
  },
  {
   "cell_type": "code",
   "execution_count": 26,
   "id": "6951f1f7",
   "metadata": {
    "execution": {
     "iopub.execute_input": "2021-10-03T08:29:01.880317Z",
     "iopub.status.busy": "2021-10-03T08:29:01.879923Z",
     "iopub.status.idle": "2021-10-03T08:29:01.924856Z",
     "shell.execute_reply": "2021-10-03T08:29:01.924523Z"
    }
   },
   "outputs": [
    {
     "data": {
      "image/svg+xml": [
       "<?xml version=\"1.0\" encoding=\"UTF-8\" standalone=\"no\"?><svg xmlns=\"http://www.w3.org/2000/svg\" xmlns:xlink=\"http://www.w3.org/1999/xlink\" contentScriptType=\"application/ecmascript\" contentStyleType=\"text/css\" height=\"364px\" preserveAspectRatio=\"none\" style=\"width:341px;height:364px;\" version=\"1.1\" viewBox=\"0 0 341 364\" width=\"341px\" zoomAndPan=\"magnify\"><defs><filter height=\"300%\" id=\"f1pqfr47iyursd\" width=\"300%\" x=\"-1\" y=\"-1\"><feGaussianBlur result=\"blurOut\" stdDeviation=\"2.0\"/><feColorMatrix in=\"blurOut\" result=\"blurOut2\" type=\"matrix\" values=\"0 0 0 0 0 0 0 0 0 0 0 0 0 0 0 0 0 0 .4 0\"/><feOffset dx=\"4.0\" dy=\"4.0\" in=\"blurOut2\" result=\"blurOut3\"/><feBlend in=\"SourceGraphic\" in2=\"blurOut3\" mode=\"normal\"/></filter></defs><g><!--MD5=[fbc87193dbaf4d95561dea2c320d4a47]\n",
       "cluster E1--><a href=\"psysml:ec9d2101-14b6-425a-8b3b-258973824e57\" target=\"_top\" title=\"psysml:ec9d2101-14b6-425a-8b3b-258973824e57\" xlink:actuate=\"onRequest\" xlink:href=\"psysml:ec9d2101-14b6-425a-8b3b-258973824e57\" xlink:show=\"new\" xlink:title=\"psysml:ec9d2101-14b6-425a-8b3b-258973824e57\" xlink:type=\"simple\"><rect fill=\"#FFFFFF\" filter=\"url(#f1pqfr47iyursd)\" height=\"338\" id=\"E1\" style=\"stroke: #A80036; stroke-width: 1.5;\" width=\"315\" x=\"7\" y=\"7\"/><rect fill=\"#FEFECE\" height=\"37.9375\" style=\"stroke: #A80036; stroke-width: 1.5;\" width=\"315\" x=\"7\" y=\"7\"/><text fill=\"#000000\" font-family=\"sans-serif\" font-size=\"12\" font-style=\"italic\" lengthAdjust=\"spacingAndGlyphs\" textLength=\"77\" x=\"126\" y=\"23.1387\">«action def»</text><text fill=\"#000000\" font-family=\"sans-serif\" font-size=\"12\" lengthAdjust=\"spacingAndGlyphs\" textLength=\"80\" x=\"124.5\" y=\"37.1074\">DecisionTest</text></a><polygon fill=\"#FEFECE\" filter=\"url(#f1pqfr47iyursd)\" points=\"210,67.5,222,79.5,210,91.5,198,79.5,210,67.5\" style=\"stroke: #A80036; stroke-width: 1.5;\"/><polygon fill=\"#FEFECE\" filter=\"url(#f1pqfr47iyursd)\" points=\"35,143.5,47,155.5,35,167.5,23,155.5,35,143.5\" style=\"stroke: #A80036; stroke-width: 1.5;\"/><g id=\"E1.E4\"><a href=\"psysml:2b21def1-54fd-4014-8db4-beef5c1da0f0\" target=\"_top\" title=\"psysml:2b21def1-54fd-4014-8db4-beef5c1da0f0\" xlink:actuate=\"onRequest\" xlink:href=\"psysml:2b21def1-54fd-4014-8db4-beef5c1da0f0\" xlink:show=\"new\" xlink:title=\"psysml:2b21def1-54fd-4014-8db4-beef5c1da0f0\" xlink:type=\"simple\"><rect fill=\"#FEFECE\" filter=\"url(#f1pqfr47iyursd)\" height=\"42.9375\" id=\"E4\" rx=\"10\" ry=\"10\" style=\"stroke: #A80036; stroke-width: 1.5;\" width=\"60\" x=\"135\" y=\"210\"/><text fill=\"#000000\" font-family=\"sans-serif\" font-size=\"12\" font-style=\"italic\" lengthAdjust=\"spacingAndGlyphs\" textLength=\"53\" x=\"138.5\" y=\"226.1387\">«action»</text><text fill=\"#000000\" font-family=\"sans-serif\" font-size=\"12\" lengthAdjust=\"spacingAndGlyphs\" textLength=\"16\" x=\"157\" y=\"240.1074\">A1</text></a></g><g id=\"E1.E5\"><a href=\"psysml:a7c18d95-cb4e-4d18-b7c9-a948ce4b9e35\" target=\"_top\" title=\"psysml:a7c18d95-cb4e-4d18-b7c9-a948ce4b9e35\" xlink:actuate=\"onRequest\" xlink:href=\"psysml:a7c18d95-cb4e-4d18-b7c9-a948ce4b9e35\" xlink:show=\"new\" xlink:title=\"psysml:a7c18d95-cb4e-4d18-b7c9-a948ce4b9e35\" xlink:type=\"simple\"><rect fill=\"#FEFECE\" filter=\"url(#f1pqfr47iyursd)\" height=\"42.9375\" id=\"E5\" rx=\"10\" ry=\"10\" style=\"stroke: #A80036; stroke-width: 1.5;\" width=\"60\" x=\"135\" y=\"286\"/><text fill=\"#000000\" font-family=\"sans-serif\" font-size=\"12\" font-style=\"italic\" lengthAdjust=\"spacingAndGlyphs\" textLength=\"53\" x=\"138.5\" y=\"302.1387\">«action»</text><text fill=\"#000000\" font-family=\"sans-serif\" font-size=\"12\" lengthAdjust=\"spacingAndGlyphs\" textLength=\"16\" x=\"157\" y=\"316.1074\">A2</text></a></g><g id=\"E1.E6\"><a href=\"psysml:6ad7aed3-e22d-47c2-b6cf-45fd0f629de6\" target=\"_top\" title=\"psysml:6ad7aed3-e22d-47c2-b6cf-45fd0f629de6\" xlink:actuate=\"onRequest\" xlink:href=\"psysml:6ad7aed3-e22d-47c2-b6cf-45fd0f629de6\" xlink:show=\"new\" xlink:title=\"psysml:6ad7aed3-e22d-47c2-b6cf-45fd0f629de6\" xlink:type=\"simple\"><rect fill=\"#FEFECE\" filter=\"url(#f1pqfr47iyursd)\" height=\"42.9375\" id=\"E6\" rx=\"10\" ry=\"10\" style=\"stroke: #A80036; stroke-width: 1.5;\" width=\"60\" x=\"63\" y=\"58\"/><text fill=\"#000000\" font-family=\"sans-serif\" font-size=\"12\" font-style=\"italic\" lengthAdjust=\"spacingAndGlyphs\" textLength=\"53\" x=\"66.5\" y=\"74.1387\">«action»</text><text fill=\"#000000\" font-family=\"sans-serif\" font-size=\"12\" lengthAdjust=\"spacingAndGlyphs\" textLength=\"16\" x=\"85\" y=\"88.1074\">A3</text></a></g><g id=\"E1.E7\"><a href=\"psysml:6ad7aed3-e22d-47c2-b6cf-45fd0f629de6\" target=\"_top\" title=\"psysml:6ad7aed3-e22d-47c2-b6cf-45fd0f629de6\" xlink:actuate=\"onRequest\" xlink:href=\"psysml:6ad7aed3-e22d-47c2-b6cf-45fd0f629de6\" xlink:show=\"new\" xlink:title=\"psysml:6ad7aed3-e22d-47c2-b6cf-45fd0f629de6\" xlink:type=\"simple\"><rect fill=\"#FEFECE\" filter=\"url(#f1pqfr47iyursd)\" height=\"42.9375\" id=\"E7\" rx=\"10\" ry=\"10\" style=\"stroke: #A80036; stroke-width: 1.5;\" width=\"60\" x=\"246\" y=\"134\"/><text fill=\"#000000\" font-family=\"sans-serif\" font-size=\"12\" font-style=\"italic\" lengthAdjust=\"spacingAndGlyphs\" textLength=\"53\" x=\"249.5\" y=\"150.1387\">«action»</text><text fill=\"#000000\" font-family=\"sans-serif\" font-size=\"12\" lengthAdjust=\"spacingAndGlyphs\" textLength=\"16\" x=\"268\" y=\"164.1074\">A3</text></a></g><!--MD5=[4d03bb2d0377dc85ccfab60ff574652b]\n",
       "link E2 to E4--><a href=\"psysml:07a447fb-7978-4e35-9306-ac5ec116db5d\" target=\"_top\" title=\"psysml:07a447fb-7978-4e35-9306-ac5ec116db5d\" xlink:actuate=\"onRequest\" xlink:href=\"psysml:07a447fb-7978-4e35-9306-ac5ec116db5d\" xlink:show=\"new\" xlink:title=\"psysml:07a447fb-7978-4e35-9306-ac5ec116db5d\" xlink:type=\"simple\"><path d=\"M201.97,84.07 C187.22,91.12 156.19,108.44 144,134 C133.21,156.64 141.61,184.91 150.79,204.99 \" fill=\"none\" id=\"E2-&gt;E4\" style=\"stroke: #A80036; stroke-width: 1.0;\"/><polygon fill=\"#A80036\" points=\"153,209.65,152.7662,199.8039,150.8614,205.1304,145.5349,203.2257,153,209.65\" style=\"stroke: #A80036; stroke-width: 1.0;\"/><text fill=\"#000000\" font-family=\"sans-serif\" font-size=\"13\" lengthAdjust=\"spacingAndGlyphs\" textLength=\"55\" x=\"145\" y=\"160.0669\">[x == 1]</text><text fill=\"#000000\" font-family=\"sans-serif\" font-size=\"13\" lengthAdjust=\"spacingAndGlyphs\" textLength=\"7\" x=\"141.8344\" y=\"198.8553\">*</text></a><!--MD5=[dcad52bbbca2fe8adc741ce38b45dc12]\n",
       "link E2 to E5--><a href=\"psysml:f195b54a-5fed-403e-bb02-20f21e154f17\" target=\"_top\" title=\"psysml:f195b54a-5fed-403e-bb02-20f21e154f17\" xlink:actuate=\"onRequest\" xlink:href=\"psysml:f195b54a-5fed-403e-bb02-20f21e154f17\" xlink:show=\"new\" xlink:title=\"psysml:f195b54a-5fed-403e-bb02-20f21e154f17\" xlink:type=\"simple\"><path d=\"M211.03,90.77 C214.33,123.83 224.51,227.37 226,261 C226.33,268.55 230.06,271.63 226,278 C220.01,287.41 210.02,293.76 199.83,298.03 \" fill=\"none\" id=\"E2-&gt;E5\" style=\"stroke: #A80036; stroke-width: 1.0;\"/><polygon fill=\"#A80036\" points=\"195.15,299.85,204.9881,300.3102,199.8089,298.035,202.0841,292.8559,195.15,299.85\" style=\"stroke: #A80036; stroke-width: 1.0;\"/><text fill=\"#000000\" font-family=\"sans-serif\" font-size=\"13\" lengthAdjust=\"spacingAndGlyphs\" textLength=\"44\" x=\"222\" y=\"198.0669\">[x &gt; 1]</text><text fill=\"#000000\" font-family=\"sans-serif\" font-size=\"13\" lengthAdjust=\"spacingAndGlyphs\" textLength=\"7\" x=\"202.9316\" y=\"293.436\">*</text></a><!--MD5=[e3d2a08a9c9236652057e8ed0cbc9b62]\n",
       "link E2 to E7--><a href=\"psysml:15c91a99-d9b4-4320-8388-ef3655122685\" target=\"_top\" title=\"psysml:15c91a99-d9b4-4320-8388-ef3655122685\" xlink:actuate=\"onRequest\" xlink:href=\"psysml:15c91a99-d9b4-4320-8388-ef3655122685\" xlink:show=\"new\" xlink:title=\"psysml:15c91a99-d9b4-4320-8388-ef3655122685\" xlink:type=\"simple\"><path d=\"M210.68,90.95 C211.82,100.93 214.86,115.89 223,126 C227.84,132.02 234.31,136.94 241.06,140.89 \" fill=\"none\" id=\"E2-&gt;E7\" style=\"stroke: #A80036; stroke-width: 1.0;\"/><polygon fill=\"#A80036\" points=\"245.76,143.47,239.7851,135.6406,241.3738,141.0697,235.9446,142.6585,245.76,143.47\" style=\"stroke: #A80036; stroke-width: 1.0;\"/><text fill=\"#000000\" font-family=\"sans-serif\" font-size=\"13\" lengthAdjust=\"spacingAndGlyphs\" textLength=\"7\" x=\"230.9576\" y=\"136.0432\">*</text></a><!--MD5=[583832df87f4419a098336a29a52fa00]\n",
       "link E7 to E2--><a href=\"psysml:c19c71e4-b628-4c9d-aa87-db03cc189a8f\" target=\"_top\" title=\"psysml:c19c71e4-b628-4c9d-aa87-db03cc189a8f\" xlink:actuate=\"onRequest\" xlink:href=\"psysml:c19c71e4-b628-4c9d-aa87-db03cc189a8f\" xlink:show=\"new\" xlink:title=\"psysml:c19c71e4-b628-4c9d-aa87-db03cc189a8f\" xlink:type=\"simple\"><path d=\"M257.61,133.88 C245.02,119.76 228.86,101.65 218.98,90.57 \" fill=\"none\" id=\"E7-&gt;E2\" style=\"stroke: #A80036; stroke-width: 1.0;\"/><polygon fill=\"#A80036\" points=\"215.4,86.56,218.3919,95.9434,218.7227,90.2963,224.3699,90.6271,215.4,86.56\" style=\"stroke: #A80036; stroke-width: 1.0;\"/><text fill=\"#000000\" font-family=\"sans-serif\" font-size=\"13\" lengthAdjust=\"spacingAndGlyphs\" textLength=\"44\" x=\"249\" y=\"122.0669\">[x &gt; 0]</text><text fill=\"#000000\" font-family=\"sans-serif\" font-size=\"13\" lengthAdjust=\"spacingAndGlyphs\" textLength=\"7\" x=\"210.0625\" y=\"111.425\">*</text></a><!--MD5=[2720a5a1f2c3fca2055b230370638851]\n",
       "link E2 to E3--><a href=\"psysml:6d6473c9-743e-4105-a2af-98d6bd8c1632\" target=\"_top\" title=\"psysml:6d6473c9-743e-4105-a2af-98d6bd8c1632\" xlink:actuate=\"onRequest\" xlink:href=\"psysml:6d6473c9-743e-4105-a2af-98d6bd8c1632\" xlink:show=\"new\" xlink:title=\"psysml:6d6473c9-743e-4105-a2af-98d6bd8c1632\" xlink:type=\"simple\"><path d=\"M201.54,83.16 C188.57,87.22 162.96,95.08 141,101 C126.43,104.93 121.91,103.16 108,109 C84.25,118.97 59.36,136.17 45.65,146.32 \" fill=\"none\" id=\"E2-&gt;E3\" style=\"stroke: #A80036; stroke-width: 1.0;\"/><polygon fill=\"#A80036\" points=\"41.45,149.47,51.05,147.27,45.45,146.47,46.25,140.87,41.45,149.47\" style=\"stroke: #A80036; stroke-width: 1.0;\"/><text fill=\"#000000\" font-family=\"sans-serif\" font-size=\"13\" lengthAdjust=\"spacingAndGlyphs\" textLength=\"7\" x=\"51.6488\" y=\"132.7367\">*</text></a><!--MD5=[af87c684e3b0d8be13c1a698a818ef1e]\n",
       "link E3 to E4--><a href=\"psysml:4dd56774-018b-4c8a-8121-2b3d6a9c557c\" target=\"_top\" title=\"psysml:4dd56774-018b-4c8a-8121-2b3d6a9c557c\" xlink:actuate=\"onRequest\" xlink:href=\"psysml:4dd56774-018b-4c8a-8121-2b3d6a9c557c\" xlink:show=\"new\" xlink:title=\"psysml:4dd56774-018b-4c8a-8121-2b3d6a9c557c\" xlink:type=\"simple\"><path d=\"M40.09,162.69 C48.35,172.37 65.62,191.11 84,202 C93.67,207.73 97.38,206.32 108,210 C115.1,212.46 122.69,215.15 129.93,217.74 \" fill=\"none\" id=\"E3-&gt;E4\" style=\"stroke: #A80036; stroke-width: 1.0;\"/><polygon fill=\"#A80036\" points=\"134.87,219.52,127.7488,212.7164,130.1636,217.832,125.048,220.2467,134.87,219.52\" style=\"stroke: #A80036; stroke-width: 1.0;\"/><text fill=\"#000000\" font-family=\"sans-serif\" font-size=\"13\" lengthAdjust=\"spacingAndGlyphs\" textLength=\"36\" x=\"85\" y=\"198.0669\">[true]</text><text fill=\"#000000\" font-family=\"sans-serif\" font-size=\"13\" lengthAdjust=\"spacingAndGlyphs\" textLength=\"7\" x=\"120.0931\" y=\"212.1047\">*</text></a><!--MD5=[0188b64bb0ae78505a997a81836e11e9]\n",
       "link E3 to E5--><a href=\"psysml:2f25c912-d622-4deb-be6f-2375e7caca37\" target=\"_top\" title=\"psysml:2f25c912-d622-4deb-be6f-2375e7caca37\" xlink:actuate=\"onRequest\" xlink:href=\"psysml:2f25c912-d622-4deb-be6f-2375e7caca37\" xlink:show=\"new\" xlink:title=\"psysml:2f25c912-d622-4deb-be6f-2375e7caca37\" xlink:type=\"simple\"><path d=\"M36.91,165.76 C41.11,184.24 52.71,226.21 76,253 C90.72,269.93 112.16,283.05 130.31,292.05 \" fill=\"none\" id=\"E3-&gt;E5\" style=\"stroke: #A80036; stroke-width: 1.0;\"/><polygon fill=\"#A80036\" points=\"134.85,294.25,128.4921,286.7283,130.3496,292.0714,125.0064,293.9289,134.85,294.25\" style=\"stroke: #A80036; stroke-width: 1.0;\"/><text fill=\"#000000\" font-family=\"sans-serif\" font-size=\"13\" lengthAdjust=\"spacingAndGlyphs\" textLength=\"40\" x=\"77\" y=\"236.0669\">[false]</text><text fill=\"#000000\" font-family=\"sans-serif\" font-size=\"13\" lengthAdjust=\"spacingAndGlyphs\" textLength=\"7\" x=\"120.0684\" y=\"286.541\">*</text></a><!--MD5=[1b7591eae5389033d8d09a9d6721a717]\n",
       "link E4 to E5--><a href=\"psysml:19ac739f-970e-4750-a1cd-14a3501dcfff\" target=\"_top\" title=\"psysml:19ac739f-970e-4750-a1cd-14a3501dcfff\" xlink:actuate=\"onRequest\" xlink:href=\"psysml:19ac739f-970e-4750-a1cd-14a3501dcfff\" xlink:show=\"new\" xlink:title=\"psysml:19ac739f-970e-4750-a1cd-14a3501dcfff\" xlink:type=\"simple\"><path d=\"M165,253.11 C165,261.69 165,271.75 165,280.8 \" fill=\"none\" id=\"E4-&gt;E5\" style=\"stroke: #A80036; stroke-width: 1.0;\"/><polygon fill=\"#A80036\" points=\"165,286,169,277,165,281,161,277,165,286\" style=\"stroke: #A80036; stroke-width: 1.0;\"/><text fill=\"#000000\" font-family=\"sans-serif\" font-size=\"13\" lengthAdjust=\"spacingAndGlyphs\" textLength=\"55\" x=\"166\" y=\"274.0669\">[x == 0]</text><text fill=\"#000000\" font-family=\"sans-serif\" font-size=\"13\" lengthAdjust=\"spacingAndGlyphs\" textLength=\"7\" x=\"157.0156\" y=\"274.9381\">*</text></a><!--MD5=[ad1ef69b1f24a1cdce43282ad5130544]\n",
       "@startuml\r\n",
       "skinparam ranksep 10\r\n",
       "skinparam rectangle {\r\n",
       " backgroundColor<<block>> LightGreen\r\n",
       "}\r\n",
       "skinparam wrapWidth 300\r\n",
       "hide circle\r\n",
       "\r\n",
       "rec def \"DecisionTest\" as E1  <<(T,blue) action def>> [[psysml:ec9d2101-14b6-425a-8b3b-258973824e57 ]] {\r\n",
       "choice \"test x\" as E2  [[psysml:7b5c557c-0eca-43da-893a-884adf177ee9 ]] \r\n",
       "choice \"<s>noname</s>\" as E3  [[psysml:c8637911-bdae-488c-9ae7-71f0e05f074a ]] \r\n",
       "rec usage \"A1\" as E4  <<(T,blue) action>> [[psysml:2b21def1-54fd-4014-8db4-beef5c1da0f0 ]] {\r\n",
       "}\r\n",
       "\r\n",
       "rec usage \"A2\" as E5  <<(T,blue) action>> [[psysml:a7c18d95-cb4e-4d18-b7c9-a948ce4b9e35 ]] {\r\n",
       "}\r\n",
       "\r\n",
       "rec usage \"A3\" as E6  <<(T,blue) action>> [[psysml:6ad7aed3-e22d-47c2-b6cf-45fd0f629de6 ]] {\r\n",
       "}\r\n",
       "\r\n",
       "rec usage \"A3\" as E7  <<(T,blue) action>> [[psysml:6ad7aed3-e22d-47c2-b6cf-45fd0f629de6 ]] {\r\n",
       "}\r\n",
       "\r\n",
       "}\r\n",
       "\r\n",
       "E2  - -> \"*\"E4 [[psysml:07a447fb-7978-4e35-9306-ac5ec116db5d ]] : [x == 1]\r\n",
       "E2  - -> \"*\"E5 [[psysml:f195b54a-5fed-403e-bb02-20f21e154f17 ]] : [x > 1]\r\n",
       "E2  - -> \"*\"E7 [[psysml:15c91a99-d9b4-4320-8388-ef3655122685 ]] \r\n",
       "E2 - -> \"*\"E3 [[psysml:6d6473c9-743e-4105-a2af-98d6bd8c1632 ]] \r\n",
       "E3  - -> \"*\"E4 [[psysml:4dd56774-018b-4c8a-8121-2b3d6a9c557c ]] : [true]\r\n",
       "E3  - -> \"*\"E5 [[psysml:2f25c912-d622-4deb-be6f-2375e7caca37 ]] : [false]\r\n",
       "E4  - -> \"*\"E5 [[psysml:19ac739f-970e-4750-a1cd-14a3501dcfff ]] : [x == 0]\r\n",
       "E7  - -> \"*\"E2 [[psysml:c19c71e4-b628-4c9d-aa87-db03cc189a8f ]] : [x > 0]\r\n",
       "@enduml\r\n",
       "\n",
       "PlantUML version 1.2020.13(Sat Jun 13 12:26:38 UTC 2020)\n",
       "(EPL source distribution)\n",
       "Java Runtime: OpenJDK Runtime Environment\n",
       "JVM: OpenJDK 64-Bit Server VM\n",
       "Default Encoding: UTF-8\n",
       "Language: en\n",
       "Country: null\n",
       "--></g></svg>"
      ]
     },
     "execution_count": 26,
     "metadata": {},
     "output_type": "execute_result"
    }
   ],
   "source": [
    "%viz --style=\"STDCOLOR\" --view=\"Interconnection\" \"DecisionTest\""
   ]
  },
  {
   "cell_type": "code",
   "execution_count": 27,
   "id": "a9cd4fa6",
   "metadata": {
    "execution": {
     "iopub.execute_input": "2021-10-03T08:29:01.974415Z",
     "iopub.status.busy": "2021-10-03T08:29:01.974020Z",
     "iopub.status.idle": "2021-10-03T08:29:02.013365Z",
     "shell.execute_reply": "2021-10-03T08:29:02.013014Z"
    }
   },
   "outputs": [
    {
     "data": {
      "image/svg+xml": [
       "<?xml version=\"1.0\" encoding=\"UTF-8\" standalone=\"no\"?><svg xmlns=\"http://www.w3.org/2000/svg\" xmlns:xlink=\"http://www.w3.org/1999/xlink\" contentScriptType=\"application/ecmascript\" contentStyleType=\"text/css\" height=\"364px\" preserveAspectRatio=\"none\" style=\"width:341px;height:364px;\" version=\"1.1\" viewBox=\"0 0 341 364\" width=\"341px\" zoomAndPan=\"magnify\"><defs><filter height=\"300%\" id=\"f10l7xalc79qnb\" width=\"300%\" x=\"-1\" y=\"-1\"><feGaussianBlur result=\"blurOut\" stdDeviation=\"2.0\"/><feColorMatrix in=\"blurOut\" result=\"blurOut2\" type=\"matrix\" values=\"0 0 0 0 0 0 0 0 0 0 0 0 0 0 0 0 0 0 .4 0\"/><feOffset dx=\"4.0\" dy=\"4.0\" in=\"blurOut2\" result=\"blurOut3\"/><feBlend in=\"SourceGraphic\" in2=\"blurOut3\" mode=\"normal\"/></filter></defs><g><!--MD5=[fbc87193dbaf4d95561dea2c320d4a47]\n",
       "cluster E1--><a href=\"psysml:ec9d2101-14b6-425a-8b3b-258973824e57\" target=\"_top\" title=\"psysml:ec9d2101-14b6-425a-8b3b-258973824e57\" xlink:actuate=\"onRequest\" xlink:href=\"psysml:ec9d2101-14b6-425a-8b3b-258973824e57\" xlink:show=\"new\" xlink:title=\"psysml:ec9d2101-14b6-425a-8b3b-258973824e57\" xlink:type=\"simple\"><rect fill=\"#FFFFFF\" filter=\"url(#f10l7xalc79qnb)\" height=\"338\" id=\"E1\" style=\"stroke: #A80036; stroke-width: 1.5;\" width=\"315\" x=\"7\" y=\"7\"/><rect fill=\"#FEFECE\" height=\"37.9375\" style=\"stroke: #A80036; stroke-width: 1.5;\" width=\"315\" x=\"7\" y=\"7\"/><text fill=\"#000000\" font-family=\"sans-serif\" font-size=\"12\" font-style=\"italic\" lengthAdjust=\"spacingAndGlyphs\" textLength=\"77\" x=\"126\" y=\"23.1387\">«action def»</text><text fill=\"#000000\" font-family=\"sans-serif\" font-size=\"12\" lengthAdjust=\"spacingAndGlyphs\" textLength=\"80\" x=\"124.5\" y=\"37.1074\">DecisionTest</text></a><polygon fill=\"#FEFECE\" filter=\"url(#f10l7xalc79qnb)\" points=\"210,67.5,222,79.5,210,91.5,198,79.5,210,67.5\" style=\"stroke: #A80036; stroke-width: 1.5;\"/><polygon fill=\"#FEFECE\" filter=\"url(#f10l7xalc79qnb)\" points=\"35,143.5,47,155.5,35,167.5,23,155.5,35,143.5\" style=\"stroke: #A80036; stroke-width: 1.5;\"/><g id=\"E1.E4\"><a href=\"psysml:2b21def1-54fd-4014-8db4-beef5c1da0f0\" target=\"_top\" title=\"psysml:2b21def1-54fd-4014-8db4-beef5c1da0f0\" xlink:actuate=\"onRequest\" xlink:href=\"psysml:2b21def1-54fd-4014-8db4-beef5c1da0f0\" xlink:show=\"new\" xlink:title=\"psysml:2b21def1-54fd-4014-8db4-beef5c1da0f0\" xlink:type=\"simple\"><rect fill=\"#FEFECE\" filter=\"url(#f10l7xalc79qnb)\" height=\"42.9375\" id=\"E4\" rx=\"10\" ry=\"10\" style=\"stroke: #A80036; stroke-width: 1.5;\" width=\"60\" x=\"135\" y=\"210\"/><text fill=\"#000000\" font-family=\"sans-serif\" font-size=\"12\" font-style=\"italic\" lengthAdjust=\"spacingAndGlyphs\" textLength=\"53\" x=\"138.5\" y=\"226.1387\">«action»</text><text fill=\"#000000\" font-family=\"sans-serif\" font-size=\"12\" lengthAdjust=\"spacingAndGlyphs\" textLength=\"16\" x=\"157\" y=\"240.1074\">A1</text></a></g><g id=\"E1.E5\"><a href=\"psysml:a7c18d95-cb4e-4d18-b7c9-a948ce4b9e35\" target=\"_top\" title=\"psysml:a7c18d95-cb4e-4d18-b7c9-a948ce4b9e35\" xlink:actuate=\"onRequest\" xlink:href=\"psysml:a7c18d95-cb4e-4d18-b7c9-a948ce4b9e35\" xlink:show=\"new\" xlink:title=\"psysml:a7c18d95-cb4e-4d18-b7c9-a948ce4b9e35\" xlink:type=\"simple\"><rect fill=\"#FEFECE\" filter=\"url(#f10l7xalc79qnb)\" height=\"42.9375\" id=\"E5\" rx=\"10\" ry=\"10\" style=\"stroke: #A80036; stroke-width: 1.5;\" width=\"60\" x=\"135\" y=\"286\"/><text fill=\"#000000\" font-family=\"sans-serif\" font-size=\"12\" font-style=\"italic\" lengthAdjust=\"spacingAndGlyphs\" textLength=\"53\" x=\"138.5\" y=\"302.1387\">«action»</text><text fill=\"#000000\" font-family=\"sans-serif\" font-size=\"12\" lengthAdjust=\"spacingAndGlyphs\" textLength=\"16\" x=\"157\" y=\"316.1074\">A2</text></a></g><g id=\"E1.E6\"><a href=\"psysml:6ad7aed3-e22d-47c2-b6cf-45fd0f629de6\" target=\"_top\" title=\"psysml:6ad7aed3-e22d-47c2-b6cf-45fd0f629de6\" xlink:actuate=\"onRequest\" xlink:href=\"psysml:6ad7aed3-e22d-47c2-b6cf-45fd0f629de6\" xlink:show=\"new\" xlink:title=\"psysml:6ad7aed3-e22d-47c2-b6cf-45fd0f629de6\" xlink:type=\"simple\"><rect fill=\"#FEFECE\" filter=\"url(#f10l7xalc79qnb)\" height=\"42.9375\" id=\"E6\" rx=\"10\" ry=\"10\" style=\"stroke: #A80036; stroke-width: 1.5;\" width=\"60\" x=\"63\" y=\"58\"/><text fill=\"#000000\" font-family=\"sans-serif\" font-size=\"12\" font-style=\"italic\" lengthAdjust=\"spacingAndGlyphs\" textLength=\"53\" x=\"66.5\" y=\"74.1387\">«action»</text><text fill=\"#000000\" font-family=\"sans-serif\" font-size=\"12\" lengthAdjust=\"spacingAndGlyphs\" textLength=\"16\" x=\"85\" y=\"88.1074\">A3</text></a></g><g id=\"E1.E7\"><a href=\"psysml:6ad7aed3-e22d-47c2-b6cf-45fd0f629de6\" target=\"_top\" title=\"psysml:6ad7aed3-e22d-47c2-b6cf-45fd0f629de6\" xlink:actuate=\"onRequest\" xlink:href=\"psysml:6ad7aed3-e22d-47c2-b6cf-45fd0f629de6\" xlink:show=\"new\" xlink:title=\"psysml:6ad7aed3-e22d-47c2-b6cf-45fd0f629de6\" xlink:type=\"simple\"><rect fill=\"#FEFECE\" filter=\"url(#f10l7xalc79qnb)\" height=\"42.9375\" id=\"E7\" rx=\"10\" ry=\"10\" style=\"stroke: #A80036; stroke-width: 1.5;\" width=\"60\" x=\"246\" y=\"134\"/><text fill=\"#000000\" font-family=\"sans-serif\" font-size=\"12\" font-style=\"italic\" lengthAdjust=\"spacingAndGlyphs\" textLength=\"53\" x=\"249.5\" y=\"150.1387\">«action»</text><text fill=\"#000000\" font-family=\"sans-serif\" font-size=\"12\" lengthAdjust=\"spacingAndGlyphs\" textLength=\"16\" x=\"268\" y=\"164.1074\">A3</text></a></g><!--MD5=[4d03bb2d0377dc85ccfab60ff574652b]\n",
       "link E2 to E4--><a href=\"psysml:07a447fb-7978-4e35-9306-ac5ec116db5d\" target=\"_top\" title=\"psysml:07a447fb-7978-4e35-9306-ac5ec116db5d\" xlink:actuate=\"onRequest\" xlink:href=\"psysml:07a447fb-7978-4e35-9306-ac5ec116db5d\" xlink:show=\"new\" xlink:title=\"psysml:07a447fb-7978-4e35-9306-ac5ec116db5d\" xlink:type=\"simple\"><path d=\"M201.97,84.07 C187.22,91.12 156.19,108.44 144,134 C133.21,156.64 141.61,184.91 150.79,204.99 \" fill=\"none\" id=\"E2-&gt;E4\" style=\"stroke: #A80036; stroke-width: 1.0; stroke-dasharray: 7.0,7.0;\"/><polygon fill=\"#A80036\" points=\"153,209.65,152.7662,199.8039,150.8614,205.1304,145.5349,203.2257,153,209.65\" style=\"stroke: #A80036; stroke-width: 1.0;\"/><text fill=\"#000000\" font-family=\"sans-serif\" font-size=\"13\" lengthAdjust=\"spacingAndGlyphs\" textLength=\"55\" x=\"145\" y=\"160.0669\">[x == 1]</text></a><!--MD5=[dcad52bbbca2fe8adc741ce38b45dc12]\n",
       "link E2 to E5--><a href=\"psysml:f195b54a-5fed-403e-bb02-20f21e154f17\" target=\"_top\" title=\"psysml:f195b54a-5fed-403e-bb02-20f21e154f17\" xlink:actuate=\"onRequest\" xlink:href=\"psysml:f195b54a-5fed-403e-bb02-20f21e154f17\" xlink:show=\"new\" xlink:title=\"psysml:f195b54a-5fed-403e-bb02-20f21e154f17\" xlink:type=\"simple\"><path d=\"M211.03,90.77 C214.33,123.83 224.51,227.37 226,261 C226.33,268.55 230.06,271.63 226,278 C220.01,287.41 210.02,293.76 199.83,298.03 \" fill=\"none\" id=\"E2-&gt;E5\" style=\"stroke: #A80036; stroke-width: 1.0; stroke-dasharray: 7.0,7.0;\"/><polygon fill=\"#A80036\" points=\"195.15,299.85,204.9881,300.3102,199.8089,298.035,202.0841,292.8559,195.15,299.85\" style=\"stroke: #A80036; stroke-width: 1.0;\"/><text fill=\"#000000\" font-family=\"sans-serif\" font-size=\"13\" lengthAdjust=\"spacingAndGlyphs\" textLength=\"44\" x=\"222\" y=\"198.0669\">[x &gt; 1]</text></a><!--MD5=[e3d2a08a9c9236652057e8ed0cbc9b62]\n",
       "link E2 to E7--><a href=\"psysml:15c91a99-d9b4-4320-8388-ef3655122685\" target=\"_top\" title=\"psysml:15c91a99-d9b4-4320-8388-ef3655122685\" xlink:actuate=\"onRequest\" xlink:href=\"psysml:15c91a99-d9b4-4320-8388-ef3655122685\" xlink:show=\"new\" xlink:title=\"psysml:15c91a99-d9b4-4320-8388-ef3655122685\" xlink:type=\"simple\"><path d=\"M210.68,90.95 C211.82,100.93 214.86,115.89 223,126 C227.84,132.02 234.31,136.94 241.06,140.89 \" fill=\"none\" id=\"E2-&gt;E7\" style=\"stroke: #A80036; stroke-width: 1.0; stroke-dasharray: 7.0,7.0;\"/><polygon fill=\"#A80036\" points=\"245.76,143.47,239.7851,135.6406,241.3738,141.0697,235.9446,142.6585,245.76,143.47\" style=\"stroke: #A80036; stroke-width: 1.0;\"/></a><!--MD5=[583832df87f4419a098336a29a52fa00]\n",
       "link E7 to E2--><a href=\"psysml:c19c71e4-b628-4c9d-aa87-db03cc189a8f\" target=\"_top\" title=\"psysml:c19c71e4-b628-4c9d-aa87-db03cc189a8f\" xlink:actuate=\"onRequest\" xlink:href=\"psysml:c19c71e4-b628-4c9d-aa87-db03cc189a8f\" xlink:show=\"new\" xlink:title=\"psysml:c19c71e4-b628-4c9d-aa87-db03cc189a8f\" xlink:type=\"simple\"><path d=\"M257.61,133.88 C245.02,119.76 228.86,101.65 218.98,90.57 \" fill=\"none\" id=\"E7-&gt;E2\" style=\"stroke: #A80036; stroke-width: 1.0; stroke-dasharray: 7.0,7.0;\"/><polygon fill=\"#A80036\" points=\"215.4,86.56,218.3919,95.9434,218.7227,90.2963,224.3699,90.6271,215.4,86.56\" style=\"stroke: #A80036; stroke-width: 1.0;\"/><text fill=\"#000000\" font-family=\"sans-serif\" font-size=\"13\" lengthAdjust=\"spacingAndGlyphs\" textLength=\"44\" x=\"249\" y=\"122.0669\">[x &gt; 0]</text></a><!--MD5=[2720a5a1f2c3fca2055b230370638851]\n",
       "link E2 to E3--><a href=\"psysml:6d6473c9-743e-4105-a2af-98d6bd8c1632\" target=\"_top\" title=\"psysml:6d6473c9-743e-4105-a2af-98d6bd8c1632\" xlink:actuate=\"onRequest\" xlink:href=\"psysml:6d6473c9-743e-4105-a2af-98d6bd8c1632\" xlink:show=\"new\" xlink:title=\"psysml:6d6473c9-743e-4105-a2af-98d6bd8c1632\" xlink:type=\"simple\"><path d=\"M201.54,83.16 C188.57,87.22 162.96,95.08 141,101 C126.43,104.93 121.91,103.16 108,109 C84.25,118.97 59.36,136.17 45.65,146.32 \" fill=\"none\" id=\"E2-&gt;E3\" style=\"stroke: #A80036; stroke-width: 1.0; stroke-dasharray: 7.0,7.0;\"/><polygon fill=\"#A80036\" points=\"41.45,149.47,51.05,147.27,45.45,146.47,46.25,140.87,41.45,149.47\" style=\"stroke: #A80036; stroke-width: 1.0;\"/></a><!--MD5=[af87c684e3b0d8be13c1a698a818ef1e]\n",
       "link E3 to E4--><a href=\"psysml:4dd56774-018b-4c8a-8121-2b3d6a9c557c\" target=\"_top\" title=\"psysml:4dd56774-018b-4c8a-8121-2b3d6a9c557c\" xlink:actuate=\"onRequest\" xlink:href=\"psysml:4dd56774-018b-4c8a-8121-2b3d6a9c557c\" xlink:show=\"new\" xlink:title=\"psysml:4dd56774-018b-4c8a-8121-2b3d6a9c557c\" xlink:type=\"simple\"><path d=\"M40.09,162.69 C48.35,172.37 65.62,191.11 84,202 C93.67,207.73 97.38,206.32 108,210 C115.1,212.46 122.69,215.15 129.93,217.74 \" fill=\"none\" id=\"E3-&gt;E4\" style=\"stroke: #A80036; stroke-width: 1.0; stroke-dasharray: 7.0,7.0;\"/><polygon fill=\"#A80036\" points=\"134.87,219.52,127.7488,212.7164,130.1636,217.832,125.048,220.2467,134.87,219.52\" style=\"stroke: #A80036; stroke-width: 1.0;\"/><text fill=\"#000000\" font-family=\"sans-serif\" font-size=\"13\" lengthAdjust=\"spacingAndGlyphs\" textLength=\"36\" x=\"85\" y=\"198.0669\">[true]</text></a><!--MD5=[0188b64bb0ae78505a997a81836e11e9]\n",
       "link E3 to E5--><a href=\"psysml:2f25c912-d622-4deb-be6f-2375e7caca37\" target=\"_top\" title=\"psysml:2f25c912-d622-4deb-be6f-2375e7caca37\" xlink:actuate=\"onRequest\" xlink:href=\"psysml:2f25c912-d622-4deb-be6f-2375e7caca37\" xlink:show=\"new\" xlink:title=\"psysml:2f25c912-d622-4deb-be6f-2375e7caca37\" xlink:type=\"simple\"><path d=\"M36.91,165.76 C41.11,184.24 52.71,226.21 76,253 C90.72,269.93 112.16,283.05 130.31,292.05 \" fill=\"none\" id=\"E3-&gt;E5\" style=\"stroke: #A80036; stroke-width: 1.0; stroke-dasharray: 7.0,7.0;\"/><polygon fill=\"#A80036\" points=\"134.85,294.25,128.4921,286.7283,130.3496,292.0714,125.0064,293.9289,134.85,294.25\" style=\"stroke: #A80036; stroke-width: 1.0;\"/><text fill=\"#000000\" font-family=\"sans-serif\" font-size=\"13\" lengthAdjust=\"spacingAndGlyphs\" textLength=\"40\" x=\"77\" y=\"236.0669\">[false]</text></a><!--MD5=[1b7591eae5389033d8d09a9d6721a717]\n",
       "link E4 to E5--><a href=\"psysml:19ac739f-970e-4750-a1cd-14a3501dcfff\" target=\"_top\" title=\"psysml:19ac739f-970e-4750-a1cd-14a3501dcfff\" xlink:actuate=\"onRequest\" xlink:href=\"psysml:19ac739f-970e-4750-a1cd-14a3501dcfff\" xlink:show=\"new\" xlink:title=\"psysml:19ac739f-970e-4750-a1cd-14a3501dcfff\" xlink:type=\"simple\"><path d=\"M165,253.11 C165,261.69 165,271.75 165,280.8 \" fill=\"none\" id=\"E4-&gt;E5\" style=\"stroke: #A80036; stroke-width: 1.0; stroke-dasharray: 7.0,7.0;\"/><polygon fill=\"#A80036\" points=\"165,286,169,277,165,281,161,277,165,286\" style=\"stroke: #A80036; stroke-width: 1.0;\"/><text fill=\"#000000\" font-family=\"sans-serif\" font-size=\"13\" lengthAdjust=\"spacingAndGlyphs\" textLength=\"55\" x=\"166\" y=\"274.0669\">[x == 0]</text></a><!--MD5=[3226691aaa079ad9dee598ef1b481a26]\n",
       "@startuml\r\n",
       "skinparam ranksep 8\r\n",
       "skinparam wrapWidth 300\r\n",
       "hide circle\r\n",
       "\r\n",
       "rec def \"DecisionTest\" as E1  <<(T,blue) action def>> [[psysml:ec9d2101-14b6-425a-8b3b-258973824e57 ]] {\r\n",
       "choice \"test x\" as E2  [[psysml:7b5c557c-0eca-43da-893a-884adf177ee9 ]] \r\n",
       "choice \"<s>noname</s>\" as E3  [[psysml:c8637911-bdae-488c-9ae7-71f0e05f074a ]] \r\n",
       "rec usage \"A1\" as E4  <<(T,blue) action>> [[psysml:2b21def1-54fd-4014-8db4-beef5c1da0f0 ]] {\r\n",
       "}\r\n",
       "\r\n",
       "rec usage \"A2\" as E5  <<(T,blue) action>> [[psysml:a7c18d95-cb4e-4d18-b7c9-a948ce4b9e35 ]] {\r\n",
       "}\r\n",
       "\r\n",
       "rec usage \"A3\" as E6  <<(T,blue) action>> [[psysml:6ad7aed3-e22d-47c2-b6cf-45fd0f629de6 ]] {\r\n",
       "}\r\n",
       "\r\n",
       "rec usage \"A3\" as E7  <<(T,blue) action>> [[psysml:6ad7aed3-e22d-47c2-b6cf-45fd0f629de6 ]] {\r\n",
       "}\r\n",
       "\r\n",
       "}\r\n",
       "\r\n",
       "E2 ..> E4 [[psysml:07a447fb-7978-4e35-9306-ac5ec116db5d ]] : [x == 1]\r\n",
       "E2 ..> E5 [[psysml:f195b54a-5fed-403e-bb02-20f21e154f17 ]] : [x > 1]\r\n",
       "E2 ..> E7 [[psysml:15c91a99-d9b4-4320-8388-ef3655122685 ]] \r\n",
       "E2 ..> E3 [[psysml:6d6473c9-743e-4105-a2af-98d6bd8c1632 ]] \r\n",
       "E3 ..> E4 [[psysml:4dd56774-018b-4c8a-8121-2b3d6a9c557c ]] : [true]\r\n",
       "E3 ..> E5 [[psysml:2f25c912-d622-4deb-be6f-2375e7caca37 ]] : [false]\r\n",
       "E4 ..> E5 [[psysml:19ac739f-970e-4750-a1cd-14a3501dcfff ]] : [x == 0]\r\n",
       "E7 ..> E2 [[psysml:c19c71e4-b628-4c9d-aa87-db03cc189a8f ]] : [x > 0]\r\n",
       "@enduml\r\n",
       "\n",
       "PlantUML version 1.2020.13(Sat Jun 13 12:26:38 UTC 2020)\n",
       "(EPL source distribution)\n",
       "Java Runtime: OpenJDK Runtime Environment\n",
       "JVM: OpenJDK 64-Bit Server VM\n",
       "Default Encoding: UTF-8\n",
       "Language: en\n",
       "Country: null\n",
       "--></g></svg>"
      ]
     },
     "execution_count": 27,
     "metadata": {},
     "output_type": "execute_result"
    }
   ],
   "source": [
    "%viz --style=\"STDCOLOR\" --view=\"Action\" \"DecisionTest\""
   ]
  },
  {
   "cell_type": "code",
   "execution_count": 28,
   "id": "93e177e1",
   "metadata": {
    "execution": {
     "iopub.execute_input": "2021-10-03T08:29:02.062760Z",
     "iopub.status.busy": "2021-10-03T08:29:02.062363Z",
     "iopub.status.idle": "2021-10-03T08:29:02.069482Z",
     "shell.execute_reply": "2021-10-03T08:29:02.069138Z"
    }
   },
   "outputs": [
    {
     "data": {
      "image/svg+xml": [
       "<?xml version=\"1.0\" encoding=\"UTF-8\" standalone=\"no\"?><svg xmlns=\"http://www.w3.org/2000/svg\" xmlns:xlink=\"http://www.w3.org/1999/xlink\" contentScriptType=\"application/ecmascript\" contentStyleType=\"text/css\" height=\"12px\" preserveAspectRatio=\"none\" style=\"width:12px;height:12px;\" version=\"1.1\" viewBox=\"0 0 12 12\" width=\"12px\" zoomAndPan=\"magnify\"><defs/><g><!--MD5=[6c4bca67b4d71758159a5a7f1f1e1fc2]\n",
       "@startuml\r\n",
       "skinparam roundcorner 20\r\n",
       "skinparam BoxPadding 20\r\n",
       "skinparam SequenceBoxBackgroundColor #white\r\n",
       "skinparam style strictuml\r\n",
       "skinparam maxMessageSize 100\r\n",
       "skinparam wrapWidth 300\r\n",
       "hide circle\r\n",
       "\r\n",
       "@enduml\r\n",
       "\n",
       "PlantUML version 1.2020.13(Sat Jun 13 12:26:38 UTC 2020)\n",
       "(EPL source distribution)\n",
       "Java Runtime: OpenJDK Runtime Environment\n",
       "JVM: OpenJDK 64-Bit Server VM\n",
       "Default Encoding: UTF-8\n",
       "Language: en\n",
       "Country: null\n",
       "--></g></svg>"
      ]
     },
     "execution_count": 28,
     "metadata": {},
     "output_type": "execute_result"
    }
   ],
   "source": [
    "%viz --style=\"STDCOLOR\" --view=\"Sequence\" \"DecisionTest\""
   ]
  },
  {
   "cell_type": "code",
   "execution_count": 29,
   "id": "e228305c",
   "metadata": {
    "execution": {
     "iopub.execute_input": "2021-10-03T08:29:02.119083Z",
     "iopub.status.busy": "2021-10-03T08:29:02.118691Z",
     "iopub.status.idle": "2021-10-03T08:29:02.159033Z",
     "shell.execute_reply": "2021-10-03T08:29:02.158665Z"
    }
   },
   "outputs": [
    {
     "data": {
      "image/svg+xml": [
       "<?xml version=\"1.0\" encoding=\"UTF-8\" standalone=\"no\"?><svg xmlns=\"http://www.w3.org/2000/svg\" xmlns:xlink=\"http://www.w3.org/1999/xlink\" contentScriptType=\"application/ecmascript\" contentStyleType=\"text/css\" height=\"496px\" preserveAspectRatio=\"none\" style=\"width:341px;height:496px;\" version=\"1.1\" viewBox=\"0 0 341 496\" width=\"341px\" zoomAndPan=\"magnify\"><defs><filter height=\"300%\" id=\"f1iph0fayut7qa\" width=\"300%\" x=\"-1\" y=\"-1\"><feGaussianBlur result=\"blurOut\" stdDeviation=\"2.0\"/><feColorMatrix in=\"blurOut\" result=\"blurOut2\" type=\"matrix\" values=\"0 0 0 0 0 0 0 0 0 0 0 0 0 0 0 0 0 0 .4 0\"/><feOffset dx=\"4.0\" dy=\"4.0\" in=\"blurOut2\" result=\"blurOut3\"/><feBlend in=\"SourceGraphic\" in2=\"blurOut3\" mode=\"normal\"/></filter></defs><g><!--MD5=[fbc87193dbaf4d95561dea2c320d4a47]\n",
       "cluster E1--><a href=\"psysml:ec9d2101-14b6-425a-8b3b-258973824e57\" target=\"_top\" title=\"psysml:ec9d2101-14b6-425a-8b3b-258973824e57\" xlink:actuate=\"onRequest\" xlink:href=\"psysml:ec9d2101-14b6-425a-8b3b-258973824e57\" xlink:show=\"new\" xlink:title=\"psysml:ec9d2101-14b6-425a-8b3b-258973824e57\" xlink:type=\"simple\"><rect fill=\"#FFFFFF\" filter=\"url(#f1iph0fayut7qa)\" height=\"470\" id=\"E1\" style=\"stroke: #A80036; stroke-width: 1.5;\" width=\"315\" x=\"7\" y=\"7\"/><rect fill=\"#FEFECE\" height=\"37.9375\" style=\"stroke: #A80036; stroke-width: 1.5;\" width=\"315\" x=\"7\" y=\"7\"/><text fill=\"#000000\" font-family=\"sans-serif\" font-size=\"12\" font-style=\"italic\" lengthAdjust=\"spacingAndGlyphs\" textLength=\"77\" x=\"126\" y=\"23.1387\">«action def»</text><text fill=\"#000000\" font-family=\"sans-serif\" font-size=\"12\" lengthAdjust=\"spacingAndGlyphs\" textLength=\"80\" x=\"124.5\" y=\"37.1074\">DecisionTest</text></a><polygon fill=\"#FEFECE\" filter=\"url(#f1iph0fayut7qa)\" points=\"210,67.5,222,79.5,210,91.5,198,79.5,210,67.5\" style=\"stroke: #A80036; stroke-width: 1.5;\"/><polygon fill=\"#FEFECE\" filter=\"url(#f1iph0fayut7qa)\" points=\"35,187.5,47,199.5,35,211.5,23,199.5,35,187.5\" style=\"stroke: #A80036; stroke-width: 1.5;\"/><g id=\"E1.E4\"><a href=\"psysml:2b21def1-54fd-4014-8db4-beef5c1da0f0\" target=\"_top\" title=\"psysml:2b21def1-54fd-4014-8db4-beef5c1da0f0\" xlink:actuate=\"onRequest\" xlink:href=\"psysml:2b21def1-54fd-4014-8db4-beef5c1da0f0\" xlink:show=\"new\" xlink:title=\"psysml:2b21def1-54fd-4014-8db4-beef5c1da0f0\" xlink:type=\"simple\"><rect fill=\"#FEFECE\" filter=\"url(#f1iph0fayut7qa)\" height=\"42.9375\" id=\"E4\" rx=\"10\" ry=\"10\" style=\"stroke: #A80036; stroke-width: 1.5;\" width=\"60\" x=\"135\" y=\"298\"/><text fill=\"#000000\" font-family=\"sans-serif\" font-size=\"12\" font-style=\"italic\" lengthAdjust=\"spacingAndGlyphs\" textLength=\"53\" x=\"138.5\" y=\"314.1387\">«action»</text><text fill=\"#000000\" font-family=\"sans-serif\" font-size=\"12\" lengthAdjust=\"spacingAndGlyphs\" textLength=\"16\" x=\"157\" y=\"328.1074\">A1</text></a></g><g id=\"E1.E5\"><a href=\"psysml:a7c18d95-cb4e-4d18-b7c9-a948ce4b9e35\" target=\"_top\" title=\"psysml:a7c18d95-cb4e-4d18-b7c9-a948ce4b9e35\" xlink:actuate=\"onRequest\" xlink:href=\"psysml:a7c18d95-cb4e-4d18-b7c9-a948ce4b9e35\" xlink:show=\"new\" xlink:title=\"psysml:a7c18d95-cb4e-4d18-b7c9-a948ce4b9e35\" xlink:type=\"simple\"><rect fill=\"#FEFECE\" filter=\"url(#f1iph0fayut7qa)\" height=\"42.9375\" id=\"E5\" rx=\"10\" ry=\"10\" style=\"stroke: #A80036; stroke-width: 1.5;\" width=\"60\" x=\"135\" y=\"418\"/><text fill=\"#000000\" font-family=\"sans-serif\" font-size=\"12\" font-style=\"italic\" lengthAdjust=\"spacingAndGlyphs\" textLength=\"53\" x=\"138.5\" y=\"434.1387\">«action»</text><text fill=\"#000000\" font-family=\"sans-serif\" font-size=\"12\" lengthAdjust=\"spacingAndGlyphs\" textLength=\"16\" x=\"157\" y=\"448.1074\">A2</text></a></g><g id=\"E1.E6\"><a href=\"psysml:6ad7aed3-e22d-47c2-b6cf-45fd0f629de6\" target=\"_top\" title=\"psysml:6ad7aed3-e22d-47c2-b6cf-45fd0f629de6\" xlink:actuate=\"onRequest\" xlink:href=\"psysml:6ad7aed3-e22d-47c2-b6cf-45fd0f629de6\" xlink:show=\"new\" xlink:title=\"psysml:6ad7aed3-e22d-47c2-b6cf-45fd0f629de6\" xlink:type=\"simple\"><rect fill=\"#FEFECE\" filter=\"url(#f1iph0fayut7qa)\" height=\"42.9375\" id=\"E6\" rx=\"10\" ry=\"10\" style=\"stroke: #A80036; stroke-width: 1.5;\" width=\"60\" x=\"63\" y=\"58\"/><text fill=\"#000000\" font-family=\"sans-serif\" font-size=\"12\" font-style=\"italic\" lengthAdjust=\"spacingAndGlyphs\" textLength=\"53\" x=\"66.5\" y=\"74.1387\">«action»</text><text fill=\"#000000\" font-family=\"sans-serif\" font-size=\"12\" lengthAdjust=\"spacingAndGlyphs\" textLength=\"16\" x=\"85\" y=\"88.1074\">A3</text></a></g><g id=\"E1.E7\"><a href=\"psysml:6ad7aed3-e22d-47c2-b6cf-45fd0f629de6\" target=\"_top\" title=\"psysml:6ad7aed3-e22d-47c2-b6cf-45fd0f629de6\" xlink:actuate=\"onRequest\" xlink:href=\"psysml:6ad7aed3-e22d-47c2-b6cf-45fd0f629de6\" xlink:show=\"new\" xlink:title=\"psysml:6ad7aed3-e22d-47c2-b6cf-45fd0f629de6\" xlink:type=\"simple\"><rect fill=\"#FEFECE\" filter=\"url(#f1iph0fayut7qa)\" height=\"42.9375\" id=\"E7\" rx=\"10\" ry=\"10\" style=\"stroke: #A80036; stroke-width: 1.5;\" width=\"60\" x=\"246\" y=\"178\"/><text fill=\"#000000\" font-family=\"sans-serif\" font-size=\"12\" font-style=\"italic\" lengthAdjust=\"spacingAndGlyphs\" textLength=\"53\" x=\"249.5\" y=\"194.1387\">«action»</text><text fill=\"#000000\" font-family=\"sans-serif\" font-size=\"12\" lengthAdjust=\"spacingAndGlyphs\" textLength=\"16\" x=\"268\" y=\"208.1074\">A3</text></a></g><!--MD5=[4d03bb2d0377dc85ccfab60ff574652b]\n",
       "link E2 to E4--><a href=\"psysml:07a447fb-7978-4e35-9306-ac5ec116db5d\" target=\"_top\" title=\"psysml:07a447fb-7978-4e35-9306-ac5ec116db5d\" xlink:actuate=\"onRequest\" xlink:href=\"psysml:07a447fb-7978-4e35-9306-ac5ec116db5d\" xlink:show=\"new\" xlink:title=\"psysml:07a447fb-7978-4e35-9306-ac5ec116db5d\" xlink:type=\"simple\"><path d=\"M204.45,86 C190.88,99.89 156.22,138.13 144,178 C132.04,217.01 144.31,264.27 154.48,292.83 \" fill=\"none\" id=\"E2-&gt;E4\" style=\"stroke: #A80036; stroke-width: 1.0;\"/><polygon fill=\"#A80036\" points=\"156.22,297.6,156.8939,287.7742,154.5067,292.9027,149.3782,290.5155,156.22,297.6\" style=\"stroke: #A80036; stroke-width: 1.0;\"/><text fill=\"#000000\" font-family=\"sans-serif\" font-size=\"13\" lengthAdjust=\"spacingAndGlyphs\" textLength=\"55\" x=\"145\" y=\"204.0669\">[x == 1]</text><text fill=\"#000000\" font-family=\"sans-serif\" font-size=\"13\" lengthAdjust=\"spacingAndGlyphs\" textLength=\"7\" x=\"145.9198\" y=\"286.7919\">*</text></a><!--MD5=[dcad52bbbca2fe8adc741ce38b45dc12]\n",
       "link E2 to E5--><a href=\"psysml:f195b54a-5fed-403e-bb02-20f21e154f17\" target=\"_top\" title=\"psysml:f195b54a-5fed-403e-bb02-20f21e154f17\" xlink:actuate=\"onRequest\" xlink:href=\"psysml:f195b54a-5fed-403e-bb02-20f21e154f17\" xlink:show=\"new\" xlink:title=\"psysml:f195b54a-5fed-403e-bb02-20f21e154f17\" xlink:type=\"simple\"><path d=\"M210.67,90.83 C214.08,143.62 229.24,381.12 226,388 C220.27,400.19 209.98,410.45 199.48,418.47 \" fill=\"none\" id=\"E2-&gt;E5\" style=\"stroke: #A80036; stroke-width: 1.0;\"/><polygon fill=\"#A80036\" points=\"195.29,421.54,204.9073,419.4168,199.3138,418.5721,200.1586,412.9786,195.29,421.54\" style=\"stroke: #A80036; stroke-width: 1.0;\"/><text fill=\"#000000\" font-family=\"sans-serif\" font-size=\"13\" lengthAdjust=\"spacingAndGlyphs\" textLength=\"44\" x=\"222\" y=\"264.0669\">[x &gt; 1]</text><text fill=\"#000000\" font-family=\"sans-serif\" font-size=\"13\" lengthAdjust=\"spacingAndGlyphs\" textLength=\"7\" x=\"203.1039\" y=\"412.7419\">*</text></a><!--MD5=[e3d2a08a9c9236652057e8ed0cbc9b62]\n",
       "link E2 to E7--><a href=\"psysml:15c91a99-d9b4-4320-8388-ef3655122685\" target=\"_top\" title=\"psysml:15c91a99-d9b4-4320-8388-ef3655122685\" xlink:actuate=\"onRequest\" xlink:href=\"psysml:15c91a99-d9b4-4320-8388-ef3655122685\" xlink:show=\"new\" xlink:title=\"psysml:15c91a99-d9b4-4320-8388-ef3655122685\" xlink:type=\"simple\"><path d=\"M210.1,91.71 C210.67,105.71 213.16,129.99 223,148 C228.29,157.68 236.08,166.6 244.08,174.17 \" fill=\"none\" id=\"E2-&gt;E7\" style=\"stroke: #A80036; stroke-width: 1.0;\"/><polygon fill=\"#A80036\" points=\"248.01,177.77,244.069,168.744,244.3207,174.3953,238.6694,174.6469,248.01,177.77\" style=\"stroke: #A80036; stroke-width: 1.0;\"/><text fill=\"#000000\" font-family=\"sans-serif\" font-size=\"13\" lengthAdjust=\"spacingAndGlyphs\" textLength=\"7\" x=\"232.5471\" y=\"167.0076\">*</text></a><!--MD5=[583832df87f4419a098336a29a52fa00]\n",
       "link E7 to E2--><a href=\"psysml:c19c71e4-b628-4c9d-aa87-db03cc189a8f\" target=\"_top\" title=\"psysml:c19c71e4-b628-4c9d-aa87-db03cc189a8f\" xlink:actuate=\"onRequest\" xlink:href=\"psysml:c19c71e4-b628-4c9d-aa87-db03cc189a8f\" xlink:show=\"new\" xlink:title=\"psysml:c19c71e4-b628-4c9d-aa87-db03cc189a8f\" xlink:type=\"simple\"><path d=\"M264.3,177.59 C250.41,152.74 227.7,112.15 216.57,92.25 \" fill=\"none\" id=\"E7-&gt;E2\" style=\"stroke: #A80036; stroke-width: 1.0;\"/><polygon fill=\"#A80036\" points=\"214.13,87.88,215.0286,97.6878,216.5691,92.2447,222.0122,93.7852,214.13,87.88\" style=\"stroke: #A80036; stroke-width: 1.0;\"/><text fill=\"#000000\" font-family=\"sans-serif\" font-size=\"13\" lengthAdjust=\"spacingAndGlyphs\" textLength=\"44\" x=\"247\" y=\"144.0669\">[x &gt; 0]</text><text fill=\"#000000\" font-family=\"sans-serif\" font-size=\"13\" lengthAdjust=\"spacingAndGlyphs\" textLength=\"7\" x=\"207.5946\" y=\"111.7074\">*</text></a><!--MD5=[2720a5a1f2c3fca2055b230370638851]\n",
       "link E2 to E3--><a href=\"psysml:6d6473c9-743e-4105-a2af-98d6bd8c1632\" target=\"_top\" title=\"psysml:6d6473c9-743e-4105-a2af-98d6bd8c1632\" xlink:actuate=\"onRequest\" xlink:href=\"psysml:6d6473c9-743e-4105-a2af-98d6bd8c1632\" xlink:show=\"new\" xlink:title=\"psysml:6d6473c9-743e-4105-a2af-98d6bd8c1632\" xlink:type=\"simple\"><path d=\"M201.9,83.58 C184.06,90.55 140.39,108.7 108,131 C82.49,148.57 56.88,174.67 43.84,188.71 \" fill=\"none\" id=\"E2-&gt;E3\" style=\"stroke: #A80036; stroke-width: 1.0;\"/><polygon fill=\"#A80036\" points=\"40.21,192.66,49.2443,188.738,43.5925,188.9778,43.3527,183.326,40.21,192.66\" style=\"stroke: #A80036; stroke-width: 1.0;\"/><text fill=\"#000000\" font-family=\"sans-serif\" font-size=\"13\" lengthAdjust=\"spacingAndGlyphs\" textLength=\"7\" x=\"48.2668\" y=\"176.5238\">*</text></a><!--MD5=[af87c684e3b0d8be13c1a698a818ef1e]\n",
       "link E3 to E4--><a href=\"psysml:4dd56774-018b-4c8a-8121-2b3d6a9c557c\" target=\"_top\" title=\"psysml:4dd56774-018b-4c8a-8121-2b3d6a9c557c\" xlink:actuate=\"onRequest\" xlink:href=\"psysml:4dd56774-018b-4c8a-8121-2b3d6a9c557c\" xlink:show=\"new\" xlink:title=\"psysml:4dd56774-018b-4c8a-8121-2b3d6a9c557c\" xlink:type=\"simple\"><path d=\"M39.08,207.91 C46.63,221.15 63.87,249.24 84,268 C97.73,280.8 115.17,292.16 130.35,300.85 \" fill=\"none\" id=\"E3-&gt;E4\" style=\"stroke: #A80036; stroke-width: 1.0;\"/><polygon fill=\"#A80036\" points=\"134.98,303.46,129.0858,295.5696,130.6187,301.0148,125.1735,302.5477,134.98,303.46\" style=\"stroke: #A80036; stroke-width: 1.0;\"/><text fill=\"#000000\" font-family=\"sans-serif\" font-size=\"13\" lengthAdjust=\"spacingAndGlyphs\" textLength=\"36\" x=\"85\" y=\"264.0669\">[true]</text><text fill=\"#000000\" font-family=\"sans-serif\" font-size=\"13\" lengthAdjust=\"spacingAndGlyphs\" textLength=\"7\" x=\"119.8095\" y=\"294.8128\">*</text></a><!--MD5=[0188b64bb0ae78505a997a81836e11e9]\n",
       "link E3 to E5--><a href=\"psysml:2f25c912-d622-4deb-be6f-2375e7caca37\" target=\"_top\" title=\"psysml:2f25c912-d622-4deb-be6f-2375e7caca37\" xlink:actuate=\"onRequest\" xlink:href=\"psysml:2f25c912-d622-4deb-be6f-2375e7caca37\" xlink:show=\"new\" xlink:title=\"psysml:2f25c912-d622-4deb-be6f-2375e7caca37\" xlink:type=\"simple\"><path d=\"M36.3,210.29 C39.76,234.03 50.73,296.03 76,341 C91.89,369.29 117.42,396.1 137.07,414.43 \" fill=\"none\" id=\"E3-&gt;E5\" style=\"stroke: #A80036; stroke-width: 1.0;\"/><polygon fill=\"#A80036\" points=\"140.92,417.98,137.0155,408.9382,137.2443,414.5904,131.5921,414.8192,140.92,417.98\" style=\"stroke: #A80036; stroke-width: 1.0;\"/><text fill=\"#000000\" font-family=\"sans-serif\" font-size=\"13\" lengthAdjust=\"spacingAndGlyphs\" textLength=\"40\" x=\"77\" y=\"324.0669\">[false]</text><text fill=\"#000000\" font-family=\"sans-serif\" font-size=\"13\" lengthAdjust=\"spacingAndGlyphs\" textLength=\"7\" x=\"126.1631\" y=\"406.9125\">*</text></a><!--MD5=[1b7591eae5389033d8d09a9d6721a717]\n",
       "link E4 to E5--><a href=\"psysml:19ac739f-970e-4750-a1cd-14a3501dcfff\" target=\"_top\" title=\"psysml:19ac739f-970e-4750-a1cd-14a3501dcfff\" xlink:actuate=\"onRequest\" xlink:href=\"psysml:19ac739f-970e-4750-a1cd-14a3501dcfff\" xlink:show=\"new\" xlink:title=\"psysml:19ac739f-970e-4750-a1cd-14a3501dcfff\" xlink:type=\"simple\"><path d=\"M165,341.05 C165,360.9 165,391.02 165,412.52 \" fill=\"none\" id=\"E4-&gt;E5\" style=\"stroke: #A80036; stroke-width: 1.0;\"/><polygon fill=\"#A80036\" points=\"165,417.79,169,408.79,165,412.79,161,408.79,165,417.79\" style=\"stroke: #A80036; stroke-width: 1.0;\"/><text fill=\"#000000\" font-family=\"sans-serif\" font-size=\"13\" lengthAdjust=\"spacingAndGlyphs\" textLength=\"55\" x=\"166\" y=\"384.0669\">[x == 0]</text><text fill=\"#000000\" font-family=\"sans-serif\" font-size=\"13\" lengthAdjust=\"spacingAndGlyphs\" textLength=\"7\" x=\"157.0594\" y=\"407.033\">*</text></a><!--MD5=[83e9b381c6a5298c52448e89e3c25b7d]\n",
       "@startuml\r\n",
       "skinparam wrapWidth 300\r\n",
       "hide circle\r\n",
       "\r\n",
       "rec def \"DecisionTest\" as E1  <<(T,blue) action def>> [[psysml:ec9d2101-14b6-425a-8b3b-258973824e57 ]] {\r\n",
       "choice \"test x\" as E2  [[psysml:7b5c557c-0eca-43da-893a-884adf177ee9 ]] \r\n",
       "choice \"<s>noname</s>\" as E3  [[psysml:c8637911-bdae-488c-9ae7-71f0e05f074a ]] \r\n",
       "rec usage \"A1\" as E4  <<(T,blue) action>> [[psysml:2b21def1-54fd-4014-8db4-beef5c1da0f0 ]] {\r\n",
       "}\r\n",
       "\r\n",
       "rec usage \"A2\" as E5  <<(T,blue) action>> [[psysml:a7c18d95-cb4e-4d18-b7c9-a948ce4b9e35 ]] {\r\n",
       "}\r\n",
       "\r\n",
       "rec usage \"A3\" as E6  <<(T,blue) action>> [[psysml:6ad7aed3-e22d-47c2-b6cf-45fd0f629de6 ]] {\r\n",
       "}\r\n",
       "\r\n",
       "rec usage \"A3\" as E7  <<(T,blue) action>> [[psysml:6ad7aed3-e22d-47c2-b6cf-45fd0f629de6 ]] {\r\n",
       "}\r\n",
       "\r\n",
       "}\r\n",
       "\r\n",
       "E2  - -> \"*\"E4 [[psysml:07a447fb-7978-4e35-9306-ac5ec116db5d ]] : [x == 1]\r\n",
       "E2  - -> \"*\"E5 [[psysml:f195b54a-5fed-403e-bb02-20f21e154f17 ]] : [x > 1]\r\n",
       "E2  - -> \"*\"E7 [[psysml:15c91a99-d9b4-4320-8388-ef3655122685 ]] \r\n",
       "E2 - -> \"*\"E3 [[psysml:6d6473c9-743e-4105-a2af-98d6bd8c1632 ]] \r\n",
       "E3  - -> \"*\"E4 [[psysml:4dd56774-018b-4c8a-8121-2b3d6a9c557c ]] : [true]\r\n",
       "E3  - -> \"*\"E5 [[psysml:2f25c912-d622-4deb-be6f-2375e7caca37 ]] : [false]\r\n",
       "E4  - -> \"*\"E5 [[psysml:19ac739f-970e-4750-a1cd-14a3501dcfff ]] : [x == 0]\r\n",
       "E7  - -> \"*\"E2 [[psysml:c19c71e4-b628-4c9d-aa87-db03cc189a8f ]] : [x > 0]\r\n",
       "@enduml\r\n",
       "\n",
       "PlantUML version 1.2020.13(Sat Jun 13 12:26:38 UTC 2020)\n",
       "(EPL source distribution)\n",
       "Java Runtime: OpenJDK Runtime Environment\n",
       "JVM: OpenJDK 64-Bit Server VM\n",
       "Default Encoding: UTF-8\n",
       "Language: en\n",
       "Country: null\n",
       "--></g></svg>"
      ]
     },
     "execution_count": 29,
     "metadata": {},
     "output_type": "execute_result"
    }
   ],
   "source": [
    "%viz --style=\"STDCOLOR\" --view=\"MIXED\" \"DecisionTest\""
   ]
  },
  {
   "cell_type": "code",
   "execution_count": 30,
   "id": "fce7de54",
   "metadata": {
    "execution": {
     "iopub.execute_input": "2021-10-03T08:29:02.208345Z",
     "iopub.status.busy": "2021-10-03T08:29:02.207723Z",
     "iopub.status.idle": "2021-10-03T08:29:02.268499Z",
     "shell.execute_reply": "2021-10-03T08:29:02.266578Z"
    }
   },
   "outputs": [
    {
     "data": {
      "image/svg+xml": [
       "<?xml version=\"1.0\" encoding=\"UTF-8\" standalone=\"no\"?><svg xmlns=\"http://www.w3.org/2000/svg\" xmlns:xlink=\"http://www.w3.org/1999/xlink\" contentScriptType=\"application/ecmascript\" contentStyleType=\"text/css\" height=\"496px\" preserveAspectRatio=\"none\" style=\"width:367px;height:496px;\" version=\"1.1\" viewBox=\"0 0 367 496\" width=\"367px\" zoomAndPan=\"magnify\"><defs><filter height=\"300%\" id=\"f16o176c4v5hiv\" width=\"300%\" x=\"-1\" y=\"-1\"><feGaussianBlur result=\"blurOut\" stdDeviation=\"2.0\"/><feColorMatrix in=\"blurOut\" result=\"blurOut2\" type=\"matrix\" values=\"0 0 0 0 0 0 0 0 0 0 0 0 0 0 0 0 0 0 .4 0\"/><feOffset dx=\"4.0\" dy=\"4.0\" in=\"blurOut2\" result=\"blurOut3\"/><feBlend in=\"SourceGraphic\" in2=\"blurOut3\" mode=\"normal\"/></filter></defs><g><!--MD5=[fbc87193dbaf4d95561dea2c320d4a47]\n",
       "cluster E1--><a href=\"psysml:ec9d2101-14b6-425a-8b3b-258973824e57\" target=\"_top\" title=\"psysml:ec9d2101-14b6-425a-8b3b-258973824e57\" xlink:actuate=\"onRequest\" xlink:href=\"psysml:ec9d2101-14b6-425a-8b3b-258973824e57\" xlink:show=\"new\" xlink:title=\"psysml:ec9d2101-14b6-425a-8b3b-258973824e57\" xlink:type=\"simple\"><rect fill=\"#FFFFFF\" filter=\"url(#f16o176c4v5hiv)\" height=\"470\" id=\"E1\" style=\"stroke: #A80036; stroke-width: 1.5;\" width=\"341\" x=\"7\" y=\"7\"/><rect fill=\"#FEFECE\" height=\"37.9375\" style=\"stroke: #A80036; stroke-width: 1.5;\" width=\"341\" x=\"7\" y=\"7\"/><text fill=\"#000000\" font-family=\"sans-serif\" font-size=\"12\" font-style=\"italic\" lengthAdjust=\"spacingAndGlyphs\" textLength=\"77\" x=\"139\" y=\"23.1387\">«action def»</text><text fill=\"#000000\" font-family=\"sans-serif\" font-size=\"12\" lengthAdjust=\"spacingAndGlyphs\" textLength=\"80\" x=\"137.5\" y=\"37.1074\">DecisionTest</text></a><polygon fill=\"#FEFECE\" filter=\"url(#f16o176c4v5hiv)\" points=\"210,67.5,222,79.5,210,91.5,198,79.5,210,67.5\" style=\"stroke: #A80036; stroke-width: 1.5;\"/><polygon fill=\"#FEFECE\" filter=\"url(#f16o176c4v5hiv)\" points=\"35,187.5,47,199.5,35,211.5,23,199.5,35,187.5\" style=\"stroke: #A80036; stroke-width: 1.5;\"/><g id=\"E1.E4\"><a href=\"psysml:2b21def1-54fd-4014-8db4-beef5c1da0f0\" target=\"_top\" title=\"psysml:2b21def1-54fd-4014-8db4-beef5c1da0f0\" xlink:actuate=\"onRequest\" xlink:href=\"psysml:2b21def1-54fd-4014-8db4-beef5c1da0f0\" xlink:show=\"new\" xlink:title=\"psysml:2b21def1-54fd-4014-8db4-beef5c1da0f0\" xlink:type=\"simple\"><rect fill=\"#FEFECE\" filter=\"url(#f16o176c4v5hiv)\" height=\"42.9375\" id=\"E4\" rx=\"10\" ry=\"10\" style=\"stroke: #A80036; stroke-width: 1.5;\" width=\"86\" x=\"135\" y=\"298\"/><ellipse cx=\"152.25\" cy=\"316.9688\" fill=\"#FFA500\" rx=\"11\" ry=\"11\" style=\"stroke: #A80036; stroke-width: 1.0;\"/><path d=\"M152,322.4375 Q150.25,322.4375 149.2969,321.4063 Q148.3594,320.3594 148.3594,318.5156 L148.3594,311.625 L150.4219,311.625 L150.4219,311.7813 Q150.3281,311.875 150.2969,312.0156 Q150.2813,312.1406 150.2813,312.4063 L150.2813,318.5313 Q150.2813,319.625 150.6563,320.25 Q151.0313,320.875 152.0156,320.875 Q153,320.875 153.3906,320.25 Q153.7813,319.625 153.7813,318.4844 L153.7813,311.625 L155.6563,311.625 L155.6563,318.4688 Q155.6563,320.5 154.625,321.4688 Q153.6094,322.4375 152,322.4375 Z \"/><text fill=\"#000000\" font-family=\"sans-serif\" font-size=\"12\" font-style=\"italic\" lengthAdjust=\"spacingAndGlyphs\" textLength=\"53\" x=\"164.75\" y=\"314.1387\">«action»</text><text fill=\"#000000\" font-family=\"sans-serif\" font-size=\"12\" lengthAdjust=\"spacingAndGlyphs\" textLength=\"16\" x=\"183.25\" y=\"328.1074\">A1</text></a></g><g id=\"E1.E5\"><a href=\"psysml:a7c18d95-cb4e-4d18-b7c9-a948ce4b9e35\" target=\"_top\" title=\"psysml:a7c18d95-cb4e-4d18-b7c9-a948ce4b9e35\" xlink:actuate=\"onRequest\" xlink:href=\"psysml:a7c18d95-cb4e-4d18-b7c9-a948ce4b9e35\" xlink:show=\"new\" xlink:title=\"psysml:a7c18d95-cb4e-4d18-b7c9-a948ce4b9e35\" xlink:type=\"simple\"><rect fill=\"#FEFECE\" filter=\"url(#f16o176c4v5hiv)\" height=\"42.9375\" id=\"E5\" rx=\"10\" ry=\"10\" style=\"stroke: #A80036; stroke-width: 1.5;\" width=\"86\" x=\"135\" y=\"418\"/><ellipse cx=\"152.25\" cy=\"436.9688\" fill=\"#FFA500\" rx=\"11\" ry=\"11\" style=\"stroke: #A80036; stroke-width: 1.0;\"/><path d=\"M152,442.4375 Q150.25,442.4375 149.2969,441.4063 Q148.3594,440.3594 148.3594,438.5156 L148.3594,431.625 L150.4219,431.625 L150.4219,431.7813 Q150.3281,431.875 150.2969,432.0156 Q150.2813,432.1406 150.2813,432.4063 L150.2813,438.5313 Q150.2813,439.625 150.6563,440.25 Q151.0313,440.875 152.0156,440.875 Q153,440.875 153.3906,440.25 Q153.7813,439.625 153.7813,438.4844 L153.7813,431.625 L155.6563,431.625 L155.6563,438.4688 Q155.6563,440.5 154.625,441.4688 Q153.6094,442.4375 152,442.4375 Z \"/><text fill=\"#000000\" font-family=\"sans-serif\" font-size=\"12\" font-style=\"italic\" lengthAdjust=\"spacingAndGlyphs\" textLength=\"53\" x=\"164.75\" y=\"434.1387\">«action»</text><text fill=\"#000000\" font-family=\"sans-serif\" font-size=\"12\" lengthAdjust=\"spacingAndGlyphs\" textLength=\"16\" x=\"183.25\" y=\"448.1074\">A2</text></a></g><g id=\"E1.E6\"><a href=\"psysml:6ad7aed3-e22d-47c2-b6cf-45fd0f629de6\" target=\"_top\" title=\"psysml:6ad7aed3-e22d-47c2-b6cf-45fd0f629de6\" xlink:actuate=\"onRequest\" xlink:href=\"psysml:6ad7aed3-e22d-47c2-b6cf-45fd0f629de6\" xlink:show=\"new\" xlink:title=\"psysml:6ad7aed3-e22d-47c2-b6cf-45fd0f629de6\" xlink:type=\"simple\"><rect fill=\"#FEFECE\" filter=\"url(#f16o176c4v5hiv)\" height=\"42.9375\" id=\"E6\" rx=\"10\" ry=\"10\" style=\"stroke: #A80036; stroke-width: 1.5;\" width=\"86\" x=\"50\" y=\"58\"/><ellipse cx=\"67.25\" cy=\"76.9688\" fill=\"#FFA500\" rx=\"11\" ry=\"11\" style=\"stroke: #A80036; stroke-width: 1.0;\"/><path d=\"M67,82.4375 Q65.25,82.4375 64.2969,81.4063 Q63.3594,80.3594 63.3594,78.5156 L63.3594,71.625 L65.4219,71.625 L65.4219,71.7813 Q65.3281,71.875 65.2969,72.0156 Q65.2813,72.1406 65.2813,72.4063 L65.2813,78.5313 Q65.2813,79.625 65.6563,80.25 Q66.0313,80.875 67.0156,80.875 Q68,80.875 68.3906,80.25 Q68.7813,79.625 68.7813,78.4844 L68.7813,71.625 L70.6563,71.625 L70.6563,78.4688 Q70.6563,80.5 69.625,81.4688 Q68.6094,82.4375 67,82.4375 Z \"/><text fill=\"#000000\" font-family=\"sans-serif\" font-size=\"12\" font-style=\"italic\" lengthAdjust=\"spacingAndGlyphs\" textLength=\"53\" x=\"79.75\" y=\"74.1387\">«action»</text><text fill=\"#000000\" font-family=\"sans-serif\" font-size=\"12\" lengthAdjust=\"spacingAndGlyphs\" textLength=\"16\" x=\"98.25\" y=\"88.1074\">A3</text></a></g><g id=\"E1.E7\"><a href=\"psysml:6ad7aed3-e22d-47c2-b6cf-45fd0f629de6\" target=\"_top\" title=\"psysml:6ad7aed3-e22d-47c2-b6cf-45fd0f629de6\" xlink:actuate=\"onRequest\" xlink:href=\"psysml:6ad7aed3-e22d-47c2-b6cf-45fd0f629de6\" xlink:show=\"new\" xlink:title=\"psysml:6ad7aed3-e22d-47c2-b6cf-45fd0f629de6\" xlink:type=\"simple\"><rect fill=\"#FEFECE\" filter=\"url(#f16o176c4v5hiv)\" height=\"42.9375\" id=\"E7\" rx=\"10\" ry=\"10\" style=\"stroke: #A80036; stroke-width: 1.5;\" width=\"86\" x=\"246\" y=\"178\"/><ellipse cx=\"263.25\" cy=\"196.9688\" fill=\"#FFA500\" rx=\"11\" ry=\"11\" style=\"stroke: #A80036; stroke-width: 1.0;\"/><path d=\"M263,202.4375 Q261.25,202.4375 260.2969,201.4063 Q259.3594,200.3594 259.3594,198.5156 L259.3594,191.625 L261.4219,191.625 L261.4219,191.7813 Q261.3281,191.875 261.2969,192.0156 Q261.2813,192.1406 261.2813,192.4063 L261.2813,198.5313 Q261.2813,199.625 261.6563,200.25 Q262.0313,200.875 263.0156,200.875 Q264,200.875 264.3906,200.25 Q264.7813,199.625 264.7813,198.4844 L264.7813,191.625 L266.6563,191.625 L266.6563,198.4688 Q266.6563,200.5 265.625,201.4688 Q264.6094,202.4375 263,202.4375 Z \"/><text fill=\"#000000\" font-family=\"sans-serif\" font-size=\"12\" font-style=\"italic\" lengthAdjust=\"spacingAndGlyphs\" textLength=\"53\" x=\"275.75\" y=\"194.1387\">«action»</text><text fill=\"#000000\" font-family=\"sans-serif\" font-size=\"12\" lengthAdjust=\"spacingAndGlyphs\" textLength=\"16\" x=\"294.25\" y=\"208.1074\">A3</text></a></g><!--MD5=[4d03bb2d0377dc85ccfab60ff574652b]\n",
       "link E2 to E4--><a href=\"psysml:07a447fb-7978-4e35-9306-ac5ec116db5d\" target=\"_top\" title=\"psysml:07a447fb-7978-4e35-9306-ac5ec116db5d\" xlink:actuate=\"onRequest\" xlink:href=\"psysml:07a447fb-7978-4e35-9306-ac5ec116db5d\" xlink:show=\"new\" xlink:title=\"psysml:07a447fb-7978-4e35-9306-ac5ec116db5d\" xlink:type=\"simple\"><path d=\"M204.45,86 C190.88,99.89 156.22,138.13 144,178 C131.83,217.69 149.59,264.76 163.67,293.09 \" fill=\"none\" id=\"E2-&gt;E4\" style=\"stroke: #A80036; stroke-width: 1.0;\"/><polygon fill=\"#A80036\" points=\"166.08,297.81,165.5574,287.975,163.8097,293.3551,158.4296,291.6074,166.08,297.81\" style=\"stroke: #A80036; stroke-width: 1.0;\"/><text fill=\"#000000\" font-family=\"sans-serif\" font-size=\"13\" lengthAdjust=\"spacingAndGlyphs\" textLength=\"55\" x=\"145\" y=\"204.0669\">[x == 1]</text><text fill=\"#000000\" font-family=\"sans-serif\" font-size=\"13\" lengthAdjust=\"spacingAndGlyphs\" textLength=\"7\" x=\"154.9359\" y=\"287.0583\">*</text></a><!--MD5=[dcad52bbbca2fe8adc741ce38b45dc12]\n",
       "link E2 to E5--><a href=\"psysml:f195b54a-5fed-403e-bb02-20f21e154f17\" target=\"_top\" title=\"psysml:f195b54a-5fed-403e-bb02-20f21e154f17\" xlink:actuate=\"onRequest\" xlink:href=\"psysml:f195b54a-5fed-403e-bb02-20f21e154f17\" xlink:show=\"new\" xlink:title=\"psysml:f195b54a-5fed-403e-bb02-20f21e154f17\" xlink:type=\"simple\"><path d=\"M211.32,90.39 C216.99,132.87 238.97,297.67 239,298 C242.74,337.86 260.6,352.04 243,388 C237.83,398.56 229.28,407.54 220.04,414.88 \" fill=\"none\" id=\"E2-&gt;E5\" style=\"stroke: #A80036; stroke-width: 1.0;\"/><polygon fill=\"#A80036\" points=\"216.05,417.92,225.6321,415.6432,220.0258,414.8881,220.781,409.2818,216.05,417.92\" style=\"stroke: #A80036; stroke-width: 1.0;\"/><text fill=\"#000000\" font-family=\"sans-serif\" font-size=\"13\" lengthAdjust=\"spacingAndGlyphs\" textLength=\"44\" x=\"235\" y=\"264.0669\">[x &gt; 1]</text><text fill=\"#000000\" font-family=\"sans-serif\" font-size=\"13\" lengthAdjust=\"spacingAndGlyphs\" textLength=\"7\" x=\"218.7672\" y=\"406.8356\">*</text></a><!--MD5=[e3d2a08a9c9236652057e8ed0cbc9b62]\n",
       "link E2 to E7--><a href=\"psysml:15c91a99-d9b4-4320-8388-ef3655122685\" target=\"_top\" title=\"psysml:15c91a99-d9b4-4320-8388-ef3655122685\" xlink:actuate=\"onRequest\" xlink:href=\"psysml:15c91a99-d9b4-4320-8388-ef3655122685\" xlink:show=\"new\" xlink:title=\"psysml:15c91a99-d9b4-4320-8388-ef3655122685\" xlink:type=\"simple\"><path d=\"M212.2,89.84 C215.69,103.47 223.45,129.2 236,148 C242.31,157.45 250.67,166.45 258.88,174.18 \" fill=\"none\" id=\"E2-&gt;E7\" style=\"stroke: #A80036; stroke-width: 1.0;\"/><polygon fill=\"#A80036\" points=\"262.9,177.86,258.978,168.8257,259.2178,174.4775,253.566,174.7173,262.9,177.86\" style=\"stroke: #A80036; stroke-width: 1.0;\"/><text fill=\"#000000\" font-family=\"sans-serif\" font-size=\"13\" lengthAdjust=\"spacingAndGlyphs\" textLength=\"7\" x=\"247.575\" y=\"166.7587\">*</text></a><!--MD5=[583832df87f4419a098336a29a52fa00]\n",
       "link E7 to E2--><a href=\"psysml:c19c71e4-b628-4c9d-aa87-db03cc189a8f\" target=\"_top\" title=\"psysml:c19c71e4-b628-4c9d-aa87-db03cc189a8f\" xlink:actuate=\"onRequest\" xlink:href=\"psysml:c19c71e4-b628-4c9d-aa87-db03cc189a8f\" xlink:show=\"new\" xlink:title=\"psysml:c19c71e4-b628-4c9d-aa87-db03cc189a8f\" xlink:type=\"simple\"><path d=\"M275.08,177.71 C258.3,152.65 230.72,111.44 217.51,91.71 \" fill=\"none\" id=\"E7-&gt;E2\" style=\"stroke: #A80036; stroke-width: 1.0;\"/><polygon fill=\"#A80036\" points=\"214.47,87.18,216.1572,96.8833,217.2534,91.3337,222.803,92.4299,214.47,87.18\" style=\"stroke: #A80036; stroke-width: 1.0;\"/><text fill=\"#000000\" font-family=\"sans-serif\" font-size=\"13\" lengthAdjust=\"spacingAndGlyphs\" textLength=\"44\" x=\"255\" y=\"144.0669\">[x &gt; 0]</text><text fill=\"#000000\" font-family=\"sans-serif\" font-size=\"13\" lengthAdjust=\"spacingAndGlyphs\" textLength=\"7\" x=\"208.2703\" y=\"111.8252\">*</text></a><!--MD5=[2720a5a1f2c3fca2055b230370638851]\n",
       "link E2 to E3--><a href=\"psysml:6d6473c9-743e-4105-a2af-98d6bd8c1632\" target=\"_top\" title=\"psysml:6d6473c9-743e-4105-a2af-98d6bd8c1632\" xlink:actuate=\"onRequest\" xlink:href=\"psysml:6d6473c9-743e-4105-a2af-98d6bd8c1632\" xlink:show=\"new\" xlink:title=\"psysml:6d6473c9-743e-4105-a2af-98d6bd8c1632\" xlink:type=\"simple\"><path d=\"M201.9,83.58 C184.06,90.55 140.39,108.7 108,131 C82.49,148.57 56.88,174.67 43.84,188.71 \" fill=\"none\" id=\"E2-&gt;E3\" style=\"stroke: #A80036; stroke-width: 1.0;\"/><polygon fill=\"#A80036\" points=\"40.21,192.66,49.2443,188.738,43.5925,188.9778,43.3527,183.326,40.21,192.66\" style=\"stroke: #A80036; stroke-width: 1.0;\"/><text fill=\"#000000\" font-family=\"sans-serif\" font-size=\"13\" lengthAdjust=\"spacingAndGlyphs\" textLength=\"7\" x=\"48.2668\" y=\"176.5238\">*</text></a><!--MD5=[af87c684e3b0d8be13c1a698a818ef1e]\n",
       "link E3 to E4--><a href=\"psysml:4dd56774-018b-4c8a-8121-2b3d6a9c557c\" target=\"_top\" title=\"psysml:4dd56774-018b-4c8a-8121-2b3d6a9c557c\" xlink:actuate=\"onRequest\" xlink:href=\"psysml:4dd56774-018b-4c8a-8121-2b3d6a9c557c\" xlink:show=\"new\" xlink:title=\"psysml:4dd56774-018b-4c8a-8121-2b3d6a9c557c\" xlink:type=\"simple\"><path d=\"M38.96,208.04 C46.32,221.49 63.28,249.9 84,268 C97.53,279.82 114.3,289.93 129.91,297.93 \" fill=\"none\" id=\"E3-&gt;E4\" style=\"stroke: #A80036; stroke-width: 1.0;\"/><polygon fill=\"#A80036\" points=\"134.71,300.34,128.4587,292.7294,130.2407,298.0982,124.8719,299.8802,134.71,300.34\" style=\"stroke: #A80036; stroke-width: 1.0;\"/><text fill=\"#000000\" font-family=\"sans-serif\" font-size=\"13\" lengthAdjust=\"spacingAndGlyphs\" textLength=\"36\" x=\"85\" y=\"264.0669\">[true]</text><text fill=\"#000000\" font-family=\"sans-serif\" font-size=\"13\" lengthAdjust=\"spacingAndGlyphs\" textLength=\"7\" x=\"119.9604\" y=\"293.0075\">*</text></a><!--MD5=[0188b64bb0ae78505a997a81836e11e9]\n",
       "link E3 to E5--><a href=\"psysml:2f25c912-d622-4deb-be6f-2375e7caca37\" target=\"_top\" title=\"psysml:2f25c912-d622-4deb-be6f-2375e7caca37\" xlink:actuate=\"onRequest\" xlink:href=\"psysml:2f25c912-d622-4deb-be6f-2375e7caca37\" xlink:show=\"new\" xlink:title=\"psysml:2f25c912-d622-4deb-be6f-2375e7caca37\" xlink:type=\"simple\"><path d=\"M36.1,210.4 C39.13,234.4 49.22,296.92 76,341 C93.84,370.37 122.75,396.82 145.25,414.74 \" fill=\"none\" id=\"E3-&gt;E5\" style=\"stroke: #A80036; stroke-width: 1.0;\"/><polygon fill=\"#A80036\" points=\"149.37,417.99,144.7826,409.2748,145.4449,414.8927,139.8269,415.555,149.37,417.99\" style=\"stroke: #A80036; stroke-width: 1.0;\"/><text fill=\"#000000\" font-family=\"sans-serif\" font-size=\"13\" lengthAdjust=\"spacingAndGlyphs\" textLength=\"40\" x=\"77\" y=\"324.0669\">[false]</text><text fill=\"#000000\" font-family=\"sans-serif\" font-size=\"13\" lengthAdjust=\"spacingAndGlyphs\" textLength=\"7\" x=\"133.3334\" y=\"406.9253\">*</text></a><!--MD5=[1b7591eae5389033d8d09a9d6721a717]\n",
       "link E4 to E5--><a href=\"psysml:19ac739f-970e-4750-a1cd-14a3501dcfff\" target=\"_top\" title=\"psysml:19ac739f-970e-4750-a1cd-14a3501dcfff\" xlink:actuate=\"onRequest\" xlink:href=\"psysml:19ac739f-970e-4750-a1cd-14a3501dcfff\" xlink:show=\"new\" xlink:title=\"psysml:19ac739f-970e-4750-a1cd-14a3501dcfff\" xlink:type=\"simple\"><path d=\"M178,341.05 C178,360.9 178,391.02 178,412.52 \" fill=\"none\" id=\"E4-&gt;E5\" style=\"stroke: #A80036; stroke-width: 1.0;\"/><polygon fill=\"#A80036\" points=\"178,417.79,182,408.79,178,412.79,174,408.79,178,417.79\" style=\"stroke: #A80036; stroke-width: 1.0;\"/><text fill=\"#000000\" font-family=\"sans-serif\" font-size=\"13\" lengthAdjust=\"spacingAndGlyphs\" textLength=\"55\" x=\"179\" y=\"384.0669\">[x == 0]</text><text fill=\"#000000\" font-family=\"sans-serif\" font-size=\"13\" lengthAdjust=\"spacingAndGlyphs\" textLength=\"7\" x=\"170.0594\" y=\"407.033\">*</text></a><!--MD5=[77cd033e9cf72aa5eb1f55bde2d23a78]\n",
       "@startuml\r\n",
       " \r\n",
       "rec def \"DecisionTest\" as E1 << <<(B,lemonchiffon) action def>> [[psysml:ec9d2101-14b6-425a-8b3b-258973824e57 ]] {\r\n",
       "choice \"test x\" as E2  [[psysml:7b5c557c-0eca-43da-893a-884adf177ee9 ]] \r\n",
       "choice \"<s>noname</s>\" as E3  [[psysml:c8637911-bdae-488c-9ae7-71f0e05f074a ]] \r\n",
       "rec usage \"A1\" as E4 << <<(U,orange) action>> [[psysml:2b21def1-54fd-4014-8db4-beef5c1da0f0 ]] {\r\n",
       "}\r\n",
       "\r\n",
       "rec usage \"A2\" as E5 << <<(U,orange) action>> [[psysml:a7c18d95-cb4e-4d18-b7c9-a948ce4b9e35 ]] {\r\n",
       "}\r\n",
       "\r\n",
       "rec usage \"A3\" as E6 << <<(U,orange) action>> [[psysml:6ad7aed3-e22d-47c2-b6cf-45fd0f629de6 ]] {\r\n",
       "}\r\n",
       "\r\n",
       "rec usage \"A3\" as E7 << <<(U,orange) action>> [[psysml:6ad7aed3-e22d-47c2-b6cf-45fd0f629de6 ]] {\r\n",
       "}\r\n",
       "\r\n",
       "}\r\n",
       "\r\n",
       "E2  - -> \"*\"E4 [[psysml:07a447fb-7978-4e35-9306-ac5ec116db5d ]] : [x == 1]\r\n",
       "E2  - -> \"*\"E5 [[psysml:f195b54a-5fed-403e-bb02-20f21e154f17 ]] : [x > 1]\r\n",
       "E2  - -> \"*\"E7 [[psysml:15c91a99-d9b4-4320-8388-ef3655122685 ]] \r\n",
       "E2 - -> \"*\"E3 [[psysml:6d6473c9-743e-4105-a2af-98d6bd8c1632 ]] \r\n",
       "E3  - -> \"*\"E4 [[psysml:4dd56774-018b-4c8a-8121-2b3d6a9c557c ]] : [true]\r\n",
       "E3  - -> \"*\"E5 [[psysml:2f25c912-d622-4deb-be6f-2375e7caca37 ]] : [false]\r\n",
       "E4  - -> \"*\"E5 [[psysml:19ac739f-970e-4750-a1cd-14a3501dcfff ]] : [x == 0]\r\n",
       "E7  - -> \"*\"E2 [[psysml:c19c71e4-b628-4c9d-aa87-db03cc189a8f ]] : [x > 0]\r\n",
       "@enduml\r\n",
       "\n",
       "PlantUML version 1.2020.13(Sat Jun 13 12:26:38 UTC 2020)\n",
       "(EPL source distribution)\n",
       "Java Runtime: OpenJDK Runtime Environment\n",
       "JVM: OpenJDK 64-Bit Server VM\n",
       "Default Encoding: UTF-8\n",
       "Language: en\n",
       "Country: null\n",
       "--></g></svg>"
      ]
     },
     "execution_count": 30,
     "metadata": {},
     "output_type": "execute_result"
    }
   ],
   "source": [
    "%viz --style=\"PLANTUML\" --view=\"Default\" \"DecisionTest\""
   ]
  },
  {
   "cell_type": "code",
   "execution_count": 31,
   "id": "b96ce44a",
   "metadata": {
    "execution": {
     "iopub.execute_input": "2021-10-03T08:29:02.317233Z",
     "iopub.status.busy": "2021-10-03T08:29:02.316833Z",
     "iopub.status.idle": "2021-10-03T08:29:02.371405Z",
     "shell.execute_reply": "2021-10-03T08:29:02.371019Z"
    }
   },
   "outputs": [
    {
     "data": {
      "image/svg+xml": [
       "<?xml version=\"1.0\" encoding=\"UTF-8\" standalone=\"no\"?><svg xmlns=\"http://www.w3.org/2000/svg\" xmlns:xlink=\"http://www.w3.org/1999/xlink\" contentScriptType=\"application/ecmascript\" contentStyleType=\"text/css\" height=\"219px\" preserveAspectRatio=\"none\" style=\"width:663px;height:219px;\" version=\"1.1\" viewBox=\"0 0 663 219\" width=\"663px\" zoomAndPan=\"magnify\"><defs><filter height=\"300%\" id=\"f189eokv821f7c\" width=\"300%\" x=\"-1\" y=\"-1\"><feGaussianBlur result=\"blurOut\" stdDeviation=\"2.0\"/><feColorMatrix in=\"blurOut\" result=\"blurOut2\" type=\"matrix\" values=\"0 0 0 0 0 0 0 0 0 0 0 0 0 0 0 0 0 0 .4 0\"/><feOffset dx=\"4.0\" dy=\"4.0\" in=\"blurOut2\" result=\"blurOut3\"/><feBlend in=\"SourceGraphic\" in2=\"blurOut3\" mode=\"normal\"/></filter></defs><g><!--MD5=[43c9051892ef23e1a46a86907403d788]\n",
       "class E1--><a href=\"psysml:ec9d2101-14b6-425a-8b3b-258973824e57\" target=\"_top\" title=\"psysml:ec9d2101-14b6-425a-8b3b-258973824e57\" xlink:actuate=\"onRequest\" xlink:href=\"psysml:ec9d2101-14b6-425a-8b3b-258973824e57\" xlink:show=\"new\" xlink:title=\"psysml:ec9d2101-14b6-425a-8b3b-258973824e57\" xlink:type=\"simple\"><rect fill=\"#FEFECE\" filter=\"url(#f189eokv821f7c)\" height=\"88.3516\" id=\"E1\" style=\"stroke: #A80036; stroke-width: 1.5;\" width=\"112\" x=\"373.5\" y=\"7\"/><ellipse cx=\"388.5\" cy=\"25.9688\" fill=\"#FFFACD\" rx=\"11\" ry=\"11\" style=\"stroke: #A80036; stroke-width: 1.0;\"/><path d=\"M385.375,30.9688 L385.375,20.375 L388.6094,20.375 Q390.5156,20.375 391.4219,21.125 Q392.3438,21.875 392.3438,23.0469 Q392.3438,23.7344 391.9531,24.3906 Q391.5781,25.0469 390.8594,25.3438 Q391.7188,25.7188 392.2344,26.4063 Q392.75,27.0938 392.75,27.9063 Q392.75,29.2813 391.7188,30.125 Q390.7031,30.9688 388.5938,30.9688 L385.375,30.9688 Z M387.2969,24.6094 L388.4531,24.6094 Q389.5781,24.6094 389.9844,24.2344 Q390.4063,23.8438 390.4063,23.2188 Q390.4063,22.6406 389.9844,22.2813 Q389.5625,21.9219 388.625,21.9219 L387.2969,21.9219 L387.2969,24.6094 Z M387.2969,29.3906 L388.7969,29.3906 Q389.7031,29.3906 390.2344,29 Q390.7656,28.6094 390.7656,27.8594 Q390.7656,27.0938 390.2656,26.625 Q389.7656,26.1406 388.5,26.1406 L387.2969,26.1406 L387.2969,29.3906 Z \"/><text fill=\"#000000\" font-family=\"sans-serif\" font-size=\"12\" font-style=\"italic\" lengthAdjust=\"spacingAndGlyphs\" textLength=\"77\" x=\"404\" y=\"23.1387\">«action def»</text><text fill=\"#000000\" font-family=\"sans-serif\" font-size=\"12\" lengthAdjust=\"spacingAndGlyphs\" textLength=\"80\" x=\"402.5\" y=\"37.1074\">DecisionTest</text><line style=\"stroke: #A80036; stroke-width: 1.5;\" x1=\"374.5\" x2=\"484.5\" y1=\"44.9375\" y2=\"44.9375\"/><text fill=\"#000000\" font-family=\"sans-serif\" font-size=\"11\" lengthAdjust=\"spacingAndGlyphs\" textLength=\"30\" x=\"379.5\" y=\"59.1479\">x= 1;</text><text fill=\"#000000\" font-family=\"sans-serif\" font-size=\"11\" lengthAdjust=\"spacingAndGlyphs\" textLength=\"8\" x=\"379.5\" y=\"88.7573\">S</text><line style=\"stroke: #A80036; stroke-width: 1.0;\" x1=\"374.5\" x2=\"399\" y1=\"72.1445\" y2=\"72.1445\"/><text fill=\"#000000\" font-family=\"sans-serif\" font-size=\"11\" lengthAdjust=\"spacingAndGlyphs\" textLength=\"61\" x=\"399\" y=\"75.4526\">transitions</text><line style=\"stroke: #A80036; stroke-width: 1.0;\" x1=\"460\" x2=\"484.5\" y1=\"72.1445\" y2=\"72.1445\"/></a><!--MD5=[b4997ac47864f28c2f74865a473b2911]\n",
       "class E2--><a href=\"psysml:7b5c557c-0eca-43da-893a-884adf177ee9\" target=\"_top\" title=\"psysml:7b5c557c-0eca-43da-893a-884adf177ee9\" xlink:actuate=\"onRequest\" xlink:href=\"psysml:7b5c557c-0eca-43da-893a-884adf177ee9\" xlink:show=\"new\" xlink:title=\"psysml:7b5c557c-0eca-43da-893a-884adf177ee9\" xlink:type=\"simple\"><rect fill=\"#FEFECE\" filter=\"url(#f189eokv821f7c)\" height=\"45.9375\" id=\"E2\" rx=\"10\" ry=\"10\" style=\"stroke: #A80036; stroke-width: 1.5;\" width=\"127\" x=\"7\" y=\"155\"/><ellipse cx=\"22\" cy=\"173.9688\" fill=\"#FFA500\" rx=\"11\" ry=\"11\" style=\"stroke: #A80036; stroke-width: 1.0;\"/><path d=\"M21.75,179.4375 Q20,179.4375 19.0469,178.4063 Q18.1094,177.3594 18.1094,175.5156 L18.1094,168.625 L20.1719,168.625 L20.1719,168.7813 Q20.0781,168.875 20.0469,169.0156 Q20.0313,169.1406 20.0313,169.4063 L20.0313,175.5313 Q20.0313,176.625 20.4063,177.25 Q20.7813,177.875 21.7656,177.875 Q22.75,177.875 23.1406,177.25 Q23.5313,176.625 23.5313,175.4844 L23.5313,168.625 L25.4063,168.625 L25.4063,175.4688 Q25.4063,177.5 24.375,178.4688 Q23.3594,179.4375 21.75,179.4375 Z \"/><text fill=\"#000000\" font-family=\"sans-serif\" font-size=\"12\" font-style=\"italic\" lengthAdjust=\"spacingAndGlyphs\" textLength=\"99\" x=\"34\" y=\"171.1387\">«decisionNode»</text><text fill=\"#000000\" font-family=\"sans-serif\" font-size=\"12\" lengthAdjust=\"spacingAndGlyphs\" textLength=\"35\" x=\"66\" y=\"185.1074\">test x</text><line style=\"stroke: #A80036; stroke-width: 1.5;\" x1=\"8\" x2=\"133\" y1=\"192.9375\" y2=\"192.9375\"/></a><!--MD5=[09b614a08d8cba4a07c9adeb5e0fee81]\n",
       "class E3--><a href=\"psysml:c8637911-bdae-488c-9ae7-71f0e05f074a\" target=\"_top\" title=\"psysml:c8637911-bdae-488c-9ae7-71f0e05f074a\" xlink:actuate=\"onRequest\" xlink:href=\"psysml:c8637911-bdae-488c-9ae7-71f0e05f074a\" xlink:show=\"new\" xlink:title=\"psysml:c8637911-bdae-488c-9ae7-71f0e05f074a\" xlink:type=\"simple\"><rect fill=\"#FEFECE\" filter=\"url(#f189eokv821f7c)\" height=\"45.9375\" id=\"E3\" rx=\"10\" ry=\"10\" style=\"stroke: #A80036; stroke-width: 1.5;\" width=\"127\" x=\"169\" y=\"155\"/><ellipse cx=\"184\" cy=\"173.9688\" fill=\"#FFA500\" rx=\"11\" ry=\"11\" style=\"stroke: #A80036; stroke-width: 1.0;\"/><path d=\"M183.75,179.4375 Q182,179.4375 181.0469,178.4063 Q180.1094,177.3594 180.1094,175.5156 L180.1094,168.625 L182.1719,168.625 L182.1719,168.7813 Q182.0781,168.875 182.0469,169.0156 Q182.0313,169.1406 182.0313,169.4063 L182.0313,175.5313 Q182.0313,176.625 182.4063,177.25 Q182.7813,177.875 183.7656,177.875 Q184.75,177.875 185.1406,177.25 Q185.5313,176.625 185.5313,175.4844 L185.5313,168.625 L187.4063,168.625 L187.4063,175.4688 Q187.4063,177.5 186.375,178.4688 Q185.3594,179.4375 183.75,179.4375 Z \"/><text fill=\"#000000\" font-family=\"sans-serif\" font-size=\"12\" font-style=\"italic\" lengthAdjust=\"spacingAndGlyphs\" textLength=\"99\" x=\"196\" y=\"171.1387\">«decisionNode»</text><text fill=\"#000000\" font-family=\"sans-serif\" font-size=\"12\" lengthAdjust=\"spacingAndGlyphs\" text-decoration=\"line-through\" textLength=\"51\" x=\"220\" y=\"185.1074\">noname</text><line style=\"stroke: #A80036; stroke-width: 1.5;\" x1=\"170\" x2=\"295\" y1=\"192.9375\" y2=\"192.9375\"/></a><!--MD5=[ebbe1d658d1005bcc118a6aa81145e00]\n",
       "class E4--><a href=\"psysml:2b21def1-54fd-4014-8db4-beef5c1da0f0\" target=\"_top\" title=\"psysml:2b21def1-54fd-4014-8db4-beef5c1da0f0\" xlink:actuate=\"onRequest\" xlink:href=\"psysml:2b21def1-54fd-4014-8db4-beef5c1da0f0\" xlink:show=\"new\" xlink:title=\"psysml:2b21def1-54fd-4014-8db4-beef5c1da0f0\" xlink:type=\"simple\"><rect fill=\"#FEFECE\" filter=\"url(#f189eokv821f7c)\" height=\"45.9375\" id=\"E4\" rx=\"10\" ry=\"10\" style=\"stroke: #A80036; stroke-width: 1.5;\" width=\"81\" x=\"331\" y=\"155\"/><ellipse cx=\"346\" cy=\"173.9688\" fill=\"#FFA500\" rx=\"11\" ry=\"11\" style=\"stroke: #A80036; stroke-width: 1.0;\"/><path d=\"M345.75,179.4375 Q344,179.4375 343.0469,178.4063 Q342.1094,177.3594 342.1094,175.5156 L342.1094,168.625 L344.1719,168.625 L344.1719,168.7813 Q344.0781,168.875 344.0469,169.0156 Q344.0313,169.1406 344.0313,169.4063 L344.0313,175.5313 Q344.0313,176.625 344.4063,177.25 Q344.7813,177.875 345.7656,177.875 Q346.75,177.875 347.1406,177.25 Q347.5313,176.625 347.5313,175.4844 L347.5313,168.625 L349.4063,168.625 L349.4063,175.4688 Q349.4063,177.5 348.375,178.4688 Q347.3594,179.4375 345.75,179.4375 Z \"/><text fill=\"#000000\" font-family=\"sans-serif\" font-size=\"12\" font-style=\"italic\" lengthAdjust=\"spacingAndGlyphs\" textLength=\"53\" x=\"358\" y=\"171.1387\">«action»</text><text fill=\"#000000\" font-family=\"sans-serif\" font-size=\"12\" lengthAdjust=\"spacingAndGlyphs\" textLength=\"16\" x=\"376.5\" y=\"185.1074\">A1</text><line style=\"stroke: #A80036; stroke-width: 1.5;\" x1=\"332\" x2=\"411\" y1=\"192.9375\" y2=\"192.9375\"/></a><!--MD5=[270fce915f116d4de14055a7c1d9a0f3]\n",
       "class E5--><a href=\"psysml:a7c18d95-cb4e-4d18-b7c9-a948ce4b9e35\" target=\"_top\" title=\"psysml:a7c18d95-cb4e-4d18-b7c9-a948ce4b9e35\" xlink:actuate=\"onRequest\" xlink:href=\"psysml:a7c18d95-cb4e-4d18-b7c9-a948ce4b9e35\" xlink:show=\"new\" xlink:title=\"psysml:a7c18d95-cb4e-4d18-b7c9-a948ce4b9e35\" xlink:type=\"simple\"><rect fill=\"#FEFECE\" filter=\"url(#f189eokv821f7c)\" height=\"45.9375\" id=\"E5\" rx=\"10\" ry=\"10\" style=\"stroke: #A80036; stroke-width: 1.5;\" width=\"81\" x=\"447\" y=\"155\"/><ellipse cx=\"462\" cy=\"173.9688\" fill=\"#FFA500\" rx=\"11\" ry=\"11\" style=\"stroke: #A80036; stroke-width: 1.0;\"/><path d=\"M461.75,179.4375 Q460,179.4375 459.0469,178.4063 Q458.1094,177.3594 458.1094,175.5156 L458.1094,168.625 L460.1719,168.625 L460.1719,168.7813 Q460.0781,168.875 460.0469,169.0156 Q460.0313,169.1406 460.0313,169.4063 L460.0313,175.5313 Q460.0313,176.625 460.4063,177.25 Q460.7813,177.875 461.7656,177.875 Q462.75,177.875 463.1406,177.25 Q463.5313,176.625 463.5313,175.4844 L463.5313,168.625 L465.4063,168.625 L465.4063,175.4688 Q465.4063,177.5 464.375,178.4688 Q463.3594,179.4375 461.75,179.4375 Z \"/><text fill=\"#000000\" font-family=\"sans-serif\" font-size=\"12\" font-style=\"italic\" lengthAdjust=\"spacingAndGlyphs\" textLength=\"53\" x=\"474\" y=\"171.1387\">«action»</text><text fill=\"#000000\" font-family=\"sans-serif\" font-size=\"12\" lengthAdjust=\"spacingAndGlyphs\" textLength=\"16\" x=\"492.5\" y=\"185.1074\">A2</text><line style=\"stroke: #A80036; stroke-width: 1.5;\" x1=\"448\" x2=\"527\" y1=\"192.9375\" y2=\"192.9375\"/></a><!--MD5=[60a26617385b1d2d0262a64233df1f8d]\n",
       "class E6--><a href=\"psysml:6ad7aed3-e22d-47c2-b6cf-45fd0f629de6\" target=\"_top\" title=\"psysml:6ad7aed3-e22d-47c2-b6cf-45fd0f629de6\" xlink:actuate=\"onRequest\" xlink:href=\"psysml:6ad7aed3-e22d-47c2-b6cf-45fd0f629de6\" xlink:show=\"new\" xlink:title=\"psysml:6ad7aed3-e22d-47c2-b6cf-45fd0f629de6\" xlink:type=\"simple\"><rect fill=\"#FEFECE\" filter=\"url(#f189eokv821f7c)\" height=\"45.9375\" id=\"E6\" rx=\"10\" ry=\"10\" style=\"stroke: #A80036; stroke-width: 1.5;\" width=\"81\" x=\"563\" y=\"155\"/><ellipse cx=\"578\" cy=\"173.9688\" fill=\"#FFA500\" rx=\"11\" ry=\"11\" style=\"stroke: #A80036; stroke-width: 1.0;\"/><path d=\"M577.75,179.4375 Q576,179.4375 575.0469,178.4063 Q574.1094,177.3594 574.1094,175.5156 L574.1094,168.625 L576.1719,168.625 L576.1719,168.7813 Q576.0781,168.875 576.0469,169.0156 Q576.0313,169.1406 576.0313,169.4063 L576.0313,175.5313 Q576.0313,176.625 576.4063,177.25 Q576.7813,177.875 577.7656,177.875 Q578.75,177.875 579.1406,177.25 Q579.5313,176.625 579.5313,175.4844 L579.5313,168.625 L581.4063,168.625 L581.4063,175.4688 Q581.4063,177.5 580.375,178.4688 Q579.3594,179.4375 577.75,179.4375 Z \"/><text fill=\"#000000\" font-family=\"sans-serif\" font-size=\"12\" font-style=\"italic\" lengthAdjust=\"spacingAndGlyphs\" textLength=\"53\" x=\"590\" y=\"171.1387\">«action»</text><text fill=\"#000000\" font-family=\"sans-serif\" font-size=\"12\" lengthAdjust=\"spacingAndGlyphs\" textLength=\"16\" x=\"608.5\" y=\"185.1074\">A3</text><line style=\"stroke: #A80036; stroke-width: 1.5;\" x1=\"564\" x2=\"643\" y1=\"192.9375\" y2=\"192.9375\"/></a><!--MD5=[a523cb2a0b79ecf9065ad8783f96c320]\n",
       "reverse link E1 to E2--><a href=\"psysml:a3cf86ed-3d1a-4135-b385-a97024d6cab4\" target=\"_top\" title=\"psysml:a3cf86ed-3d1a-4135-b385-a97024d6cab4\" xlink:actuate=\"onRequest\" xlink:href=\"psysml:a3cf86ed-3d1a-4135-b385-a97024d6cab4\" xlink:show=\"new\" xlink:title=\"psysml:a3cf86ed-3d1a-4135-b385-a97024d6cab4\" xlink:type=\"simple\"><path d=\"M360.75,75.94 C295.23,98.75 197.39,132.82 133.75,154.98 \" fill=\"none\" id=\"E1&lt;-E2\" style=\"stroke: #A80036; stroke-width: 1.0;\"/><polygon fill=\"#A80036\" points=\"373.41,71.53,366.4267,69.732,362.081,75.4866,369.0644,77.2846,373.41,71.53\" style=\"stroke: #A80036; stroke-width: 1.0;\"/></a><!--MD5=[5d7b3810b1dd9b5164bea1151b29b665]\n",
       "reverse link E1 to E3--><a href=\"psysml:1909c977-6510-4eff-a578-3c7de40e7c8b\" target=\"_top\" title=\"psysml:1909c977-6510-4eff-a578-3c7de40e7c8b\" xlink:actuate=\"onRequest\" xlink:href=\"psysml:1909c977-6510-4eff-a578-3c7de40e7c8b\" xlink:show=\"new\" xlink:title=\"psysml:1909c977-6510-4eff-a578-3c7de40e7c8b\" xlink:type=\"simple\"><path d=\"M362.26,94.66 C330.38,114.89 293.62,138.22 267.38,154.87 \" fill=\"none\" id=\"E1&lt;-E3\" style=\"stroke: #A80036; stroke-width: 1.0;\"/><polygon fill=\"#A80036\" points=\"373.31,87.65,366.1008,87.4851,363.1758,94.0763,370.385,94.2412,373.31,87.65\" style=\"stroke: #A80036; stroke-width: 1.0;\"/></a><!--MD5=[f2c5c03aa1e8c0ba21c10a05e6444b8e]\n",
       "reverse link E1 to E4--><a href=\"psysml:fda894ee-2ee4-49d0-993e-77e7f0096dce\" target=\"_top\" title=\"psysml:fda894ee-2ee4-49d0-993e-77e7f0096dce\" xlink:actuate=\"onRequest\" xlink:href=\"psysml:fda894ee-2ee4-49d0-993e-77e7f0096dce\" xlink:show=\"new\" xlink:title=\"psysml:fda894ee-2ee4-49d0-993e-77e7f0096dce\" xlink:type=\"simple\"><path d=\"M403.92,107.13 C396.08,124.03 387.9,141.66 381.71,154.99 \" fill=\"none\" id=\"E1&lt;-E4\" style=\"stroke: #A80036; stroke-width: 1.0;\"/><polygon fill=\"#A80036\" points=\"409.54,95.02,403.3872,98.7807,404.4921,105.9066,410.6449,102.1459,409.54,95.02\" style=\"stroke: #A80036; stroke-width: 1.0;\"/><text fill=\"#000000\" font-family=\"sans-serif\" font-size=\"13\" lengthAdjust=\"spacingAndGlyphs\" textLength=\"7\" x=\"376.5133\" y=\"143.8836\">*</text></a><!--MD5=[33238bef88d6431a141d8bc8fb12bca0]\n",
       "reverse link E1 to E5--><a href=\"psysml:109468b3-506c-4497-b8ac-b8e68c843a0f\" target=\"_top\" title=\"psysml:109468b3-506c-4497-b8ac-b8e68c843a0f\" xlink:actuate=\"onRequest\" xlink:href=\"psysml:109468b3-506c-4497-b8ac-b8e68c843a0f\" xlink:show=\"new\" xlink:title=\"psysml:109468b3-506c-4497-b8ac-b8e68c843a0f\" xlink:type=\"simple\"><path d=\"M455.08,107.13 C462.92,124.03 471.1,141.66 477.29,154.99 \" fill=\"none\" id=\"E1&lt;-E5\" style=\"stroke: #A80036; stroke-width: 1.0;\"/><polygon fill=\"#A80036\" points=\"449.46,95.02,448.3551,102.1459,454.5079,105.9066,455.6128,98.7807,449.46,95.02\" style=\"stroke: #A80036; stroke-width: 1.0;\"/><text fill=\"#000000\" font-family=\"sans-serif\" font-size=\"13\" lengthAdjust=\"spacingAndGlyphs\" textLength=\"7\" x=\"466.6054\" y=\"143.8836\">*</text></a><!--MD5=[aca2ef284c2b1b90e17e73bf3f292c07]\n",
       "reverse link E1 to E6--><a href=\"psysml:74d19cab-9a73-4108-b783-78a99b82b215\" target=\"_top\" title=\"psysml:74d19cab-9a73-4108-b783-78a99b82b215\" xlink:actuate=\"onRequest\" xlink:href=\"psysml:74d19cab-9a73-4108-b783-78a99b82b215\" xlink:show=\"new\" xlink:title=\"psysml:74d19cab-9a73-4108-b783-78a99b82b215\" xlink:type=\"simple\"><path d=\"M487.88,102.96 C512.5,121.09 540.46,140.56 562.87,154.99 \" fill=\"none\" id=\"E1&lt;-E6\" style=\"stroke: #A80036; stroke-width: 1.0;\"/><polygon fill=\"#A80036\" points=\"477.2,95.02,479.6313,101.8089,486.8331,102.1756,484.4018,95.3868,477.2,95.02\" style=\"stroke: #A80036; stroke-width: 1.0;\"/><text fill=\"#000000\" font-family=\"sans-serif\" font-size=\"13\" lengthAdjust=\"spacingAndGlyphs\" textLength=\"7\" x=\"548.0093\" y=\"146.6397\">*</text></a><!--MD5=[aca2ef284c2b1b90e17e73bf3f292c07]\n",
       "reverse link E1 to E6--><a href=\"psysml:5ce6f7c0-8ea6-4680-8afe-13e322408ece\" target=\"_top\" title=\"psysml:5ce6f7c0-8ea6-4680-8afe-13e322408ece\" xlink:actuate=\"onRequest\" xlink:href=\"psysml:5ce6f7c0-8ea6-4680-8afe-13e322408ece\" xlink:show=\"new\" xlink:title=\"psysml:5ce6f7c0-8ea6-4680-8afe-13e322408ece\" xlink:type=\"simple\"><path d=\"M498.54,92.45 C528.78,113.09 561.93,137.41 583.02,154.65 \" fill=\"none\" id=\"E1&lt;-E6-1\" style=\"stroke: #A80036; stroke-width: 1.0; stroke-dasharray: 7.0,7.0;\"/><ellipse cx=\"492.4317\" cy=\"88.3445\" fill=\"#FFFFFF\" rx=\"8\" ry=\"8\" style=\"stroke: #A80036; stroke-width: 1.0;\"/><line style=\"stroke: #A80036; stroke-width: 1.0;\" x1=\"499.0633\" x2=\"485.8\" y1=\"92.8189\" y2=\"83.87\"/><line style=\"stroke: #A80036; stroke-width: 1.0;\" x1=\"487.9572\" x2=\"496.9061\" y1=\"94.9761\" y2=\"81.7128\"/><text fill=\"#000000\" font-family=\"sans-serif\" font-size=\"13\" lengthAdjust=\"spacingAndGlyphs\" textLength=\"7\" x=\"569.8751\" y=\"143.8366\">*</text></a><!--MD5=[a2827451eacaf450648695f6b3776d21]\n",
       "@startuml\r\n",
       " \r\n",
       "comp def \"DecisionTest\" as E1 << <<(B,lemonchiffon) action def>> [[psysml:ec9d2101-14b6-425a-8b3b-258973824e57 ]] {\r\n",
       "x= 1; \r\n",
       "- - transitions - -\r\n",
       "S\r\n",
       "}\r\n",
       "comp usage \"test x\" as E2 << <<(U,orange) decisionNode>> [[psysml:7b5c557c-0eca-43da-893a-884adf177ee9 ]] {\r\n",
       "}\r\n",
       "comp usage \"<s>noname</s>\" as E3 << <<(U,orange) decisionNode>> [[psysml:c8637911-bdae-488c-9ae7-71f0e05f074a ]] {\r\n",
       "}\r\n",
       "comp usage \"A1\" as E4 << <<(U,orange) action>> [[psysml:2b21def1-54fd-4014-8db4-beef5c1da0f0 ]] {\r\n",
       "}\r\n",
       "comp usage \"A2\" as E5 << <<(U,orange) action>> [[psysml:a7c18d95-cb4e-4d18-b7c9-a948ce4b9e35 ]] {\r\n",
       "}\r\n",
       "comp usage \"A3\" as E6 << <<(U,orange) action>> [[psysml:6ad7aed3-e22d-47c2-b6cf-45fd0f629de6 ]] {\r\n",
       "}\r\n",
       "E1 *- - E2 [[psysml:a3cf86ed-3d1a-4135-b385-a97024d6cab4 ]] \r\n",
       "E1 *- - E3 [[psysml:1909c977-6510-4eff-a578-3c7de40e7c8b ]] \r\n",
       "E1 *- - \"*\"E4 [[psysml:fda894ee-2ee4-49d0-993e-77e7f0096dce ]] \r\n",
       "E1 *- - \"*\"E5 [[psysml:109468b3-506c-4497-b8ac-b8e68c843a0f ]] \r\n",
       "E1 *- - \"*\"E6 [[psysml:74d19cab-9a73-4108-b783-78a99b82b215 ]] \r\n",
       "E1 +.. \"*\"E6 [[psysml:5ce6f7c0-8ea6-4680-8afe-13e322408ece ]] \r\n",
       "@enduml\r\n",
       "\n",
       "PlantUML version 1.2020.13(Sat Jun 13 12:26:38 UTC 2020)\n",
       "(EPL source distribution)\n",
       "Java Runtime: OpenJDK Runtime Environment\n",
       "JVM: OpenJDK 64-Bit Server VM\n",
       "Default Encoding: UTF-8\n",
       "Language: en\n",
       "Country: null\n",
       "--></g></svg>"
      ]
     },
     "execution_count": 31,
     "metadata": {},
     "output_type": "execute_result"
    }
   ],
   "source": [
    "%viz --style=\"PLANTUML\" --view=\"Tree\" \"DecisionTest\""
   ]
  },
  {
   "cell_type": "code",
   "execution_count": 32,
   "id": "b796d58e",
   "metadata": {
    "execution": {
     "iopub.execute_input": "2021-10-03T08:29:02.420219Z",
     "iopub.status.busy": "2021-10-03T08:29:02.419788Z",
     "iopub.status.idle": "2021-10-03T08:29:02.504759Z",
     "shell.execute_reply": "2021-10-03T08:29:02.502908Z"
    }
   },
   "outputs": [
    {
     "data": {
      "image/svg+xml": [
       "<?xml version=\"1.0\" encoding=\"UTF-8\" standalone=\"no\"?><svg xmlns=\"http://www.w3.org/2000/svg\" xmlns:xlink=\"http://www.w3.org/1999/xlink\" contentScriptType=\"application/ecmascript\" contentStyleType=\"text/css\" height=\"300px\" preserveAspectRatio=\"none\" style=\"width:603px;height:300px;background:#000000;\" version=\"1.1\" viewBox=\"0 0 603 300\" width=\"603px\" zoomAndPan=\"magnify\"><defs/><g><rect fill=\"#0A1321\" height=\"1\" style=\"stroke: #0A1321; stroke-width: 1.0;\" width=\"1\" x=\"0\" y=\"0\"/><rect fill=\"#FFFFFF\" height=\"202.8012\" style=\"stroke: #FFFFFF; stroke-width: 1.0;\" width=\"602\" x=\"0\" y=\"0\"/><text fill=\"#000000\" font-family=\"sans-serif\" font-size=\"12\" font-weight=\"bold\" lengthAdjust=\"spacingAndGlyphs\" textLength=\"139\" x=\"5\" y=\"16.1387\">Welcome to PlantUML!</text><text fill=\"#000000\" font-family=\"sans-serif\" font-size=\"12\" lengthAdjust=\"spacingAndGlyphs\" textLength=\"0\" x=\"9\" y=\"30.1074\"/><text fill=\"#000000\" font-family=\"sans-serif\" font-size=\"12\" lengthAdjust=\"spacingAndGlyphs\" textLength=\"293\" x=\"5\" y=\"44.0762\">If you use this software, you accept its license.</text><text fill=\"#000000\" font-family=\"sans-serif\" font-size=\"12\" lengthAdjust=\"spacingAndGlyphs\" textLength=\"107\" x=\"5\" y=\"58.0449\">(details by typing</text><text fill=\"#000000\" font-family=\"monospace\" font-size=\"12\" lengthAdjust=\"spacingAndGlyphs\" textLength=\"42\" x=\"116\" y=\"58.595\">license</text><text fill=\"#000000\" font-family=\"sans-serif\" font-size=\"12\" lengthAdjust=\"spacingAndGlyphs\" textLength=\"56\" x=\"162\" y=\"58.0449\">keyword)</text><text fill=\"#000000\" font-family=\"sans-serif\" font-size=\"12\" lengthAdjust=\"spacingAndGlyphs\" textLength=\"0\" x=\"9\" y=\"72.0137\"/><text fill=\"#000000\" font-family=\"sans-serif\" font-size=\"12\" lengthAdjust=\"spacingAndGlyphs\" textLength=\"283\" x=\"5\" y=\"85.9824\">You can start with a simple UML Diagram like:</text><text fill=\"#000000\" font-family=\"sans-serif\" font-size=\"12\" lengthAdjust=\"spacingAndGlyphs\" textLength=\"0\" x=\"9\" y=\"99.9512\"/><text fill=\"#000000\" font-family=\"monospace\" font-size=\"12\" lengthAdjust=\"spacingAndGlyphs\" textLength=\"102\" x=\"5\" y=\"113.0893\">Bob-&gt;Alice: Hello</text><text fill=\"#000000\" font-family=\"sans-serif\" font-size=\"12\" lengthAdjust=\"spacingAndGlyphs\" textLength=\"0\" x=\"9\" y=\"126.508\"/><text fill=\"#000000\" font-family=\"sans-serif\" font-size=\"12\" lengthAdjust=\"spacingAndGlyphs\" textLength=\"14\" x=\"5\" y=\"140.4768\">Or</text><text fill=\"#000000\" font-family=\"sans-serif\" font-size=\"12\" lengthAdjust=\"spacingAndGlyphs\" textLength=\"0\" x=\"9\" y=\"154.4455\"/><text fill=\"#000000\" font-family=\"monospace\" font-size=\"12\" lengthAdjust=\"spacingAndGlyphs\" textLength=\"78\" x=\"5\" y=\"167.5837\">class Example</text><text fill=\"#000000\" font-family=\"sans-serif\" font-size=\"12\" lengthAdjust=\"spacingAndGlyphs\" textLength=\"0\" x=\"9\" y=\"181.0023\"/><text fill=\"#000000\" font-family=\"sans-serif\" font-size=\"12\" lengthAdjust=\"spacingAndGlyphs\" textLength=\"349\" x=\"5\" y=\"194.9711\">You will find more information about PlantUML syntax on</text><text fill=\"#000000\" font-family=\"sans-serif\" font-size=\"12\" lengthAdjust=\"spacingAndGlyphs\" text-decoration=\"underline\" textLength=\"129\" x=\"358\" y=\"194.9711\">https://plantuml.com</text><image height=\"71\" width=\"80\" x=\"516\" xlink:href=\"data:image/png;base64,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\" y=\"6\"/><rect fill=\"#000000\" height=\"96.4844\" style=\"stroke: #000000; stroke-width: 1.0;\" width=\"602\" x=\"0\" y=\"202.8012\"/><rect fill=\"#33FF02\" height=\"21.2969\" style=\"stroke: #33FF02; stroke-width: 1.0;\" width=\"145\" x=\"5\" y=\"207.8012\"/><text fill=\"#000000\" font-family=\"sans-serif\" font-size=\"14\" font-weight=\"bold\" lengthAdjust=\"spacingAndGlyphs\" textLength=\"143\" x=\"6\" y=\"222.8012\">[From string (line 2) ]</text><text fill=\"#33FF02\" font-family=\"sans-serif\" font-size=\"14\" font-weight=\"bold\" lengthAdjust=\"spacingAndGlyphs\" textLength=\"0\" x=\"9\" y=\"243.0981\"/><text fill=\"#33FF02\" font-family=\"sans-serif\" font-size=\"14\" font-weight=\"bold\" lengthAdjust=\"spacingAndGlyphs\" textLength=\"70\" x=\"5\" y=\"259.3949\">@startuml</text><text fill=\"#33FF02\" font-family=\"sans-serif\" font-size=\"14\" font-weight=\"bold\" lengthAdjust=\"spacingAndGlyphs\" textLength=\"0\" x=\"9\" y=\"275.6918\"/><text fill=\"#FF0000\" font-family=\"sans-serif\" font-size=\"14\" font-weight=\"bold\" lengthAdjust=\"spacingAndGlyphs\" textLength=\"124\" x=\"9\" y=\"291.9887\">Empty description</text><!--MD5=[f59edd8218d337f74d0c332fc6737304]\n",
       "@startuml\r\n",
       " \r\n",
       "@enduml\r\n",
       "\n",
       "PlantUML version 1.2020.13(Sat Jun 13 12:26:38 UTC 2020)\n",
       "(EPL source distribution)\n",
       "Java Runtime: OpenJDK Runtime Environment\n",
       "JVM: OpenJDK 64-Bit Server VM\n",
       "Default Encoding: UTF-8\n",
       "Language: en\n",
       "Country: null\n",
       "--></g></svg>"
      ]
     },
     "execution_count": 32,
     "metadata": {},
     "output_type": "execute_result"
    }
   ],
   "source": [
    "%viz --style=\"PLANTUML\" --view=\"State\" \"DecisionTest\""
   ]
  },
  {
   "cell_type": "code",
   "execution_count": 33,
   "id": "2848748e",
   "metadata": {
    "execution": {
     "iopub.execute_input": "2021-10-03T08:29:02.553472Z",
     "iopub.status.busy": "2021-10-03T08:29:02.553065Z",
     "iopub.status.idle": "2021-10-03T08:29:02.577445Z",
     "shell.execute_reply": "2021-10-03T08:29:02.575496Z"
    }
   },
   "outputs": [
    {
     "data": {
      "image/svg+xml": [
       "<?xml version=\"1.0\" encoding=\"UTF-8\" standalone=\"no\"?><svg xmlns=\"http://www.w3.org/2000/svg\" xmlns:xlink=\"http://www.w3.org/1999/xlink\" contentScriptType=\"application/ecmascript\" contentStyleType=\"text/css\" height=\"364px\" preserveAspectRatio=\"none\" style=\"width:367px;height:364px;\" version=\"1.1\" viewBox=\"0 0 367 364\" width=\"367px\" zoomAndPan=\"magnify\"><defs><filter height=\"300%\" id=\"fn4lq3hk53j04\" width=\"300%\" x=\"-1\" y=\"-1\"><feGaussianBlur result=\"blurOut\" stdDeviation=\"2.0\"/><feColorMatrix in=\"blurOut\" result=\"blurOut2\" type=\"matrix\" values=\"0 0 0 0 0 0 0 0 0 0 0 0 0 0 0 0 0 0 .4 0\"/><feOffset dx=\"4.0\" dy=\"4.0\" in=\"blurOut2\" result=\"blurOut3\"/><feBlend in=\"SourceGraphic\" in2=\"blurOut3\" mode=\"normal\"/></filter></defs><g><!--MD5=[fbc87193dbaf4d95561dea2c320d4a47]\n",
       "cluster E1--><a href=\"psysml:ec9d2101-14b6-425a-8b3b-258973824e57\" target=\"_top\" title=\"psysml:ec9d2101-14b6-425a-8b3b-258973824e57\" xlink:actuate=\"onRequest\" xlink:href=\"psysml:ec9d2101-14b6-425a-8b3b-258973824e57\" xlink:show=\"new\" xlink:title=\"psysml:ec9d2101-14b6-425a-8b3b-258973824e57\" xlink:type=\"simple\"><rect fill=\"#FFFFFF\" filter=\"url(#fn4lq3hk53j04)\" height=\"338\" id=\"E1\" style=\"stroke: #A80036; stroke-width: 1.5;\" width=\"341\" x=\"7\" y=\"7\"/><rect fill=\"#FEFECE\" height=\"37.9375\" style=\"stroke: #A80036; stroke-width: 1.5;\" width=\"341\" x=\"7\" y=\"7\"/><text fill=\"#000000\" font-family=\"sans-serif\" font-size=\"12\" font-style=\"italic\" lengthAdjust=\"spacingAndGlyphs\" textLength=\"77\" x=\"139\" y=\"23.1387\">«action def»</text><text fill=\"#000000\" font-family=\"sans-serif\" font-size=\"12\" lengthAdjust=\"spacingAndGlyphs\" textLength=\"80\" x=\"137.5\" y=\"37.1074\">DecisionTest</text></a><polygon fill=\"#FEFECE\" filter=\"url(#fn4lq3hk53j04)\" points=\"210,67.5,222,79.5,210,91.5,198,79.5,210,67.5\" style=\"stroke: #A80036; stroke-width: 1.5;\"/><polygon fill=\"#FEFECE\" filter=\"url(#fn4lq3hk53j04)\" points=\"35,143.5,47,155.5,35,167.5,23,155.5,35,143.5\" style=\"stroke: #A80036; stroke-width: 1.5;\"/><g id=\"E1.E4\"><a href=\"psysml:2b21def1-54fd-4014-8db4-beef5c1da0f0\" target=\"_top\" title=\"psysml:2b21def1-54fd-4014-8db4-beef5c1da0f0\" xlink:actuate=\"onRequest\" xlink:href=\"psysml:2b21def1-54fd-4014-8db4-beef5c1da0f0\" xlink:show=\"new\" xlink:title=\"psysml:2b21def1-54fd-4014-8db4-beef5c1da0f0\" xlink:type=\"simple\"><rect fill=\"#FEFECE\" filter=\"url(#fn4lq3hk53j04)\" height=\"42.9375\" id=\"E4\" rx=\"10\" ry=\"10\" style=\"stroke: #A80036; stroke-width: 1.5;\" width=\"86\" x=\"135\" y=\"210\"/><ellipse cx=\"152.25\" cy=\"228.9688\" fill=\"#FFA500\" rx=\"11\" ry=\"11\" style=\"stroke: #A80036; stroke-width: 1.0;\"/><path d=\"M152,234.4375 Q150.25,234.4375 149.2969,233.4063 Q148.3594,232.3594 148.3594,230.5156 L148.3594,223.625 L150.4219,223.625 L150.4219,223.7813 Q150.3281,223.875 150.2969,224.0156 Q150.2813,224.1406 150.2813,224.4063 L150.2813,230.5313 Q150.2813,231.625 150.6563,232.25 Q151.0313,232.875 152.0156,232.875 Q153,232.875 153.3906,232.25 Q153.7813,231.625 153.7813,230.4844 L153.7813,223.625 L155.6563,223.625 L155.6563,230.4688 Q155.6563,232.5 154.625,233.4688 Q153.6094,234.4375 152,234.4375 Z \"/><text fill=\"#000000\" font-family=\"sans-serif\" font-size=\"12\" font-style=\"italic\" lengthAdjust=\"spacingAndGlyphs\" textLength=\"53\" x=\"164.75\" y=\"226.1387\">«action»</text><text fill=\"#000000\" font-family=\"sans-serif\" font-size=\"12\" lengthAdjust=\"spacingAndGlyphs\" textLength=\"16\" x=\"183.25\" y=\"240.1074\">A1</text></a></g><g id=\"E1.E5\"><a href=\"psysml:a7c18d95-cb4e-4d18-b7c9-a948ce4b9e35\" target=\"_top\" title=\"psysml:a7c18d95-cb4e-4d18-b7c9-a948ce4b9e35\" xlink:actuate=\"onRequest\" xlink:href=\"psysml:a7c18d95-cb4e-4d18-b7c9-a948ce4b9e35\" xlink:show=\"new\" xlink:title=\"psysml:a7c18d95-cb4e-4d18-b7c9-a948ce4b9e35\" xlink:type=\"simple\"><rect fill=\"#FEFECE\" filter=\"url(#fn4lq3hk53j04)\" height=\"42.9375\" id=\"E5\" rx=\"10\" ry=\"10\" style=\"stroke: #A80036; stroke-width: 1.5;\" width=\"86\" x=\"135\" y=\"286\"/><ellipse cx=\"152.25\" cy=\"304.9688\" fill=\"#FFA500\" rx=\"11\" ry=\"11\" style=\"stroke: #A80036; stroke-width: 1.0;\"/><path d=\"M152,310.4375 Q150.25,310.4375 149.2969,309.4063 Q148.3594,308.3594 148.3594,306.5156 L148.3594,299.625 L150.4219,299.625 L150.4219,299.7813 Q150.3281,299.875 150.2969,300.0156 Q150.2813,300.1406 150.2813,300.4063 L150.2813,306.5313 Q150.2813,307.625 150.6563,308.25 Q151.0313,308.875 152.0156,308.875 Q153,308.875 153.3906,308.25 Q153.7813,307.625 153.7813,306.4844 L153.7813,299.625 L155.6563,299.625 L155.6563,306.4688 Q155.6563,308.5 154.625,309.4688 Q153.6094,310.4375 152,310.4375 Z \"/><text fill=\"#000000\" font-family=\"sans-serif\" font-size=\"12\" font-style=\"italic\" lengthAdjust=\"spacingAndGlyphs\" textLength=\"53\" x=\"164.75\" y=\"302.1387\">«action»</text><text fill=\"#000000\" font-family=\"sans-serif\" font-size=\"12\" lengthAdjust=\"spacingAndGlyphs\" textLength=\"16\" x=\"183.25\" y=\"316.1074\">A2</text></a></g><g id=\"E1.E6\"><a href=\"psysml:6ad7aed3-e22d-47c2-b6cf-45fd0f629de6\" target=\"_top\" title=\"psysml:6ad7aed3-e22d-47c2-b6cf-45fd0f629de6\" xlink:actuate=\"onRequest\" xlink:href=\"psysml:6ad7aed3-e22d-47c2-b6cf-45fd0f629de6\" xlink:show=\"new\" xlink:title=\"psysml:6ad7aed3-e22d-47c2-b6cf-45fd0f629de6\" xlink:type=\"simple\"><rect fill=\"#FEFECE\" filter=\"url(#fn4lq3hk53j04)\" height=\"42.9375\" id=\"E6\" rx=\"10\" ry=\"10\" style=\"stroke: #A80036; stroke-width: 1.5;\" width=\"86\" x=\"50\" y=\"58\"/><ellipse cx=\"67.25\" cy=\"76.9688\" fill=\"#FFA500\" rx=\"11\" ry=\"11\" style=\"stroke: #A80036; stroke-width: 1.0;\"/><path d=\"M67,82.4375 Q65.25,82.4375 64.2969,81.4063 Q63.3594,80.3594 63.3594,78.5156 L63.3594,71.625 L65.4219,71.625 L65.4219,71.7813 Q65.3281,71.875 65.2969,72.0156 Q65.2813,72.1406 65.2813,72.4063 L65.2813,78.5313 Q65.2813,79.625 65.6563,80.25 Q66.0313,80.875 67.0156,80.875 Q68,80.875 68.3906,80.25 Q68.7813,79.625 68.7813,78.4844 L68.7813,71.625 L70.6563,71.625 L70.6563,78.4688 Q70.6563,80.5 69.625,81.4688 Q68.6094,82.4375 67,82.4375 Z \"/><text fill=\"#000000\" font-family=\"sans-serif\" font-size=\"12\" font-style=\"italic\" lengthAdjust=\"spacingAndGlyphs\" textLength=\"53\" x=\"79.75\" y=\"74.1387\">«action»</text><text fill=\"#000000\" font-family=\"sans-serif\" font-size=\"12\" lengthAdjust=\"spacingAndGlyphs\" textLength=\"16\" x=\"98.25\" y=\"88.1074\">A3</text></a></g><g id=\"E1.E7\"><a href=\"psysml:6ad7aed3-e22d-47c2-b6cf-45fd0f629de6\" target=\"_top\" title=\"psysml:6ad7aed3-e22d-47c2-b6cf-45fd0f629de6\" xlink:actuate=\"onRequest\" xlink:href=\"psysml:6ad7aed3-e22d-47c2-b6cf-45fd0f629de6\" xlink:show=\"new\" xlink:title=\"psysml:6ad7aed3-e22d-47c2-b6cf-45fd0f629de6\" xlink:type=\"simple\"><rect fill=\"#FEFECE\" filter=\"url(#fn4lq3hk53j04)\" height=\"42.9375\" id=\"E7\" rx=\"10\" ry=\"10\" style=\"stroke: #A80036; stroke-width: 1.5;\" width=\"86\" x=\"246\" y=\"134\"/><ellipse cx=\"263.25\" cy=\"152.9688\" fill=\"#FFA500\" rx=\"11\" ry=\"11\" style=\"stroke: #A80036; stroke-width: 1.0;\"/><path d=\"M263,158.4375 Q261.25,158.4375 260.2969,157.4063 Q259.3594,156.3594 259.3594,154.5156 L259.3594,147.625 L261.4219,147.625 L261.4219,147.7813 Q261.3281,147.875 261.2969,148.0156 Q261.2813,148.1406 261.2813,148.4063 L261.2813,154.5313 Q261.2813,155.625 261.6563,156.25 Q262.0313,156.875 263.0156,156.875 Q264,156.875 264.3906,156.25 Q264.7813,155.625 264.7813,154.4844 L264.7813,147.625 L266.6563,147.625 L266.6563,154.4688 Q266.6563,156.5 265.625,157.4688 Q264.6094,158.4375 263,158.4375 Z \"/><text fill=\"#000000\" font-family=\"sans-serif\" font-size=\"12\" font-style=\"italic\" lengthAdjust=\"spacingAndGlyphs\" textLength=\"53\" x=\"275.75\" y=\"150.1387\">«action»</text><text fill=\"#000000\" font-family=\"sans-serif\" font-size=\"12\" lengthAdjust=\"spacingAndGlyphs\" textLength=\"16\" x=\"294.25\" y=\"164.1074\">A3</text></a></g><!--MD5=[4d03bb2d0377dc85ccfab60ff574652b]\n",
       "link E2 to E4--><a href=\"psysml:07a447fb-7978-4e35-9306-ac5ec116db5d\" target=\"_top\" title=\"psysml:07a447fb-7978-4e35-9306-ac5ec116db5d\" xlink:actuate=\"onRequest\" xlink:href=\"psysml:07a447fb-7978-4e35-9306-ac5ec116db5d\" xlink:show=\"new\" xlink:title=\"psysml:07a447fb-7978-4e35-9306-ac5ec116db5d\" xlink:type=\"simple\"><path d=\"M201.97,84.07 C187.22,91.12 156.19,108.44 144,134 C135.78,151.25 138.66,158.65 144,177 C146.9,186.99 152.3,196.89 157.95,205.41 \" fill=\"none\" id=\"E2-&gt;E4\" style=\"stroke: #A80036; stroke-width: 1.0;\"/><polygon fill=\"#A80036\" points=\"161.1,209.99,159.2903,200.3088,158.2643,205.8719,152.7013,204.8459,161.1,209.99\" style=\"stroke: #A80036; stroke-width: 1.0;\"/><text fill=\"#000000\" font-family=\"sans-serif\" font-size=\"13\" lengthAdjust=\"spacingAndGlyphs\" textLength=\"55\" x=\"145\" y=\"160.0669\">[x == 1]</text><text fill=\"#000000\" font-family=\"sans-serif\" font-size=\"13\" lengthAdjust=\"spacingAndGlyphs\" textLength=\"7\" x=\"148.3625\" y=\"198.9253\">*</text></a><!--MD5=[dcad52bbbca2fe8adc741ce38b45dc12]\n",
       "link E2 to E5--><a href=\"psysml:f195b54a-5fed-403e-bb02-20f21e154f17\" target=\"_top\" title=\"psysml:f195b54a-5fed-403e-bb02-20f21e154f17\" xlink:actuate=\"onRequest\" xlink:href=\"psysml:f195b54a-5fed-403e-bb02-20f21e154f17\" xlink:show=\"new\" xlink:title=\"psysml:f195b54a-5fed-403e-bb02-20f21e154f17\" xlink:type=\"simple\"><path d=\"M210.68,91.05 C211.4,100.32 212.73,114.14 215,126 C219.41,149.09 222.48,154.42 229,177 C233.25,191.72 236.16,194.94 239,210 C243.21,232.34 242.11,238.28 243,261 C243.3,268.55 247.13,271.68 243,278 C238.78,284.45 232.75,289.45 226.03,293.33 \" fill=\"none\" id=\"E2-&gt;E5\" style=\"stroke: #A80036; stroke-width: 1.0;\"/><polygon fill=\"#A80036\" points=\"221.28,295.83,231.1075,295.1819,225.7055,293.503,227.3844,288.101,221.28,295.83\" style=\"stroke: #A80036; stroke-width: 1.0;\"/><text fill=\"#000000\" font-family=\"sans-serif\" font-size=\"13\" lengthAdjust=\"spacingAndGlyphs\" textLength=\"44\" x=\"238\" y=\"198.0669\">[x &gt; 1]</text><text fill=\"#000000\" font-family=\"sans-serif\" font-size=\"13\" lengthAdjust=\"spacingAndGlyphs\" textLength=\"7\" x=\"229.0279\" y=\"289.738\">*</text></a><!--MD5=[e3d2a08a9c9236652057e8ed0cbc9b62]\n",
       "link E2 to E7--><a href=\"psysml:15c91a99-d9b4-4320-8388-ef3655122685\" target=\"_top\" title=\"psysml:15c91a99-d9b4-4320-8388-ef3655122685\" xlink:actuate=\"onRequest\" xlink:href=\"psysml:15c91a99-d9b4-4320-8388-ef3655122685\" xlink:show=\"new\" xlink:title=\"psysml:15c91a99-d9b4-4320-8388-ef3655122685\" xlink:type=\"simple\"><path d=\"M213.08,88.8 C217.09,98.68 224.92,115.21 236,126 C237.78,127.73 239.68,129.39 241.67,130.97 \" fill=\"none\" id=\"E2-&gt;E7\" style=\"stroke: #A80036; stroke-width: 1.0;\"/><polygon fill=\"#A80036\" points=\"245.87,134.1,241.0503,125.511,241.8631,131.1092,236.265,131.922,245.87,134.1\" style=\"stroke: #A80036; stroke-width: 1.0;\"/><text fill=\"#000000\" font-family=\"sans-serif\" font-size=\"13\" lengthAdjust=\"spacingAndGlyphs\" textLength=\"7\" x=\"230.8555\" y=\"126.2165\">*</text></a><!--MD5=[583832df87f4419a098336a29a52fa00]\n",
       "link E7 to E2--><a href=\"psysml:c19c71e4-b628-4c9d-aa87-db03cc189a8f\" target=\"_top\" title=\"psysml:c19c71e4-b628-4c9d-aa87-db03cc189a8f\" xlink:actuate=\"onRequest\" xlink:href=\"psysml:c19c71e4-b628-4c9d-aa87-db03cc189a8f\" xlink:show=\"new\" xlink:title=\"psysml:c19c71e4-b628-4c9d-aa87-db03cc189a8f\" xlink:type=\"simple\"><path d=\"M266.81,133.71 C251.24,119.13 231.21,100.37 219.57,89.46 \" fill=\"none\" id=\"E7-&gt;E2\" style=\"stroke: #A80036; stroke-width: 1.0;\"/><polygon fill=\"#A80036\" points=\"215.68,85.82,219.5101,94.8936,219.3277,89.2397,224.9816,89.0573,215.68,85.82\" style=\"stroke: #A80036; stroke-width: 1.0;\"/><text fill=\"#000000\" font-family=\"sans-serif\" font-size=\"13\" lengthAdjust=\"spacingAndGlyphs\" textLength=\"44\" x=\"257\" y=\"122.0669\">[x &gt; 0]</text><text fill=\"#000000\" font-family=\"sans-serif\" font-size=\"13\" lengthAdjust=\"spacingAndGlyphs\" textLength=\"7\" x=\"210.8055\" y=\"111.4261\">*</text></a><!--MD5=[2720a5a1f2c3fca2055b230370638851]\n",
       "link E2 to E3--><a href=\"psysml:6d6473c9-743e-4105-a2af-98d6bd8c1632\" target=\"_top\" title=\"psysml:6d6473c9-743e-4105-a2af-98d6bd8c1632\" xlink:actuate=\"onRequest\" xlink:href=\"psysml:6d6473c9-743e-4105-a2af-98d6bd8c1632\" xlink:show=\"new\" xlink:title=\"psysml:6d6473c9-743e-4105-a2af-98d6bd8c1632\" xlink:type=\"simple\"><path d=\"M202.17,83.87 C191.47,88.37 171.6,96.29 154,101 C133.95,106.37 127.39,101.6 108,109 C83.93,118.19 59.16,135.65 45.55,146.07 \" fill=\"none\" id=\"E2-&gt;E3\" style=\"stroke: #A80036; stroke-width: 1.0;\"/><polygon fill=\"#A80036\" points=\"41.38,149.31,50.9381,146.9348,45.3245,146.2373,46.0219,140.6236,41.38,149.31\" style=\"stroke: #A80036; stroke-width: 1.0;\"/><text fill=\"#000000\" font-family=\"sans-serif\" font-size=\"13\" lengthAdjust=\"spacingAndGlyphs\" textLength=\"7\" x=\"51.507\" y=\"132.4127\">*</text></a><!--MD5=[af87c684e3b0d8be13c1a698a818ef1e]\n",
       "link E3 to E4--><a href=\"psysml:4dd56774-018b-4c8a-8121-2b3d6a9c557c\" target=\"_top\" title=\"psysml:4dd56774-018b-4c8a-8121-2b3d6a9c557c\" xlink:actuate=\"onRequest\" xlink:href=\"psysml:4dd56774-018b-4c8a-8121-2b3d6a9c557c\" xlink:show=\"new\" xlink:title=\"psysml:4dd56774-018b-4c8a-8121-2b3d6a9c557c\" xlink:type=\"simple\"><path d=\"M40.05,162.75 C48.27,172.51 65.48,191.36 84,202 C86.27,203.3 107.96,209.91 129.94,216.43 \" fill=\"none\" id=\"E3-&gt;E4\" style=\"stroke: #A80036; stroke-width: 1.0;\"/><polygon fill=\"#A80036\" points=\"134.92,217.9,127.4226,211.5133,130.125,216.483,125.1554,219.1853,134.92,217.9\" style=\"stroke: #A80036; stroke-width: 1.0;\"/><text fill=\"#000000\" font-family=\"sans-serif\" font-size=\"13\" lengthAdjust=\"spacingAndGlyphs\" textLength=\"36\" x=\"85\" y=\"198.0669\">[true]</text><text fill=\"#000000\" font-family=\"sans-serif\" font-size=\"13\" lengthAdjust=\"spacingAndGlyphs\" textLength=\"7\" x=\"119.9141\" y=\"211.3571\">*</text></a><!--MD5=[0188b64bb0ae78505a997a81836e11e9]\n",
       "link E3 to E5--><a href=\"psysml:2f25c912-d622-4deb-be6f-2375e7caca37\" target=\"_top\" title=\"psysml:2f25c912-d622-4deb-be6f-2375e7caca37\" xlink:actuate=\"onRequest\" xlink:href=\"psysml:2f25c912-d622-4deb-be6f-2375e7caca37\" xlink:show=\"new\" xlink:title=\"psysml:2f25c912-d622-4deb-be6f-2375e7caca37\" xlink:type=\"simple\"><path d=\"M36.78,165.88 C40.75,184.57 51.94,226.9 76,253 C90.74,268.99 111.37,281.06 130.23,289.64 \" fill=\"none\" id=\"E3-&gt;E5\" style=\"stroke: #A80036; stroke-width: 1.0;\"/><polygon fill=\"#A80036\" points=\"134.98,291.75,128.376,284.4433,130.4098,289.722,125.1311,291.7557,134.98,291.75\" style=\"stroke: #A80036; stroke-width: 1.0;\"/><text fill=\"#000000\" font-family=\"sans-serif\" font-size=\"13\" lengthAdjust=\"spacingAndGlyphs\" textLength=\"40\" x=\"77\" y=\"236.0669\">[false]</text><text fill=\"#000000\" font-family=\"sans-serif\" font-size=\"13\" lengthAdjust=\"spacingAndGlyphs\" textLength=\"7\" x=\"119.9844\" y=\"284.8376\">*</text></a><!--MD5=[1b7591eae5389033d8d09a9d6721a717]\n",
       "link E4 to E5--><a href=\"psysml:19ac739f-970e-4750-a1cd-14a3501dcfff\" target=\"_top\" title=\"psysml:19ac739f-970e-4750-a1cd-14a3501dcfff\" xlink:actuate=\"onRequest\" xlink:href=\"psysml:19ac739f-970e-4750-a1cd-14a3501dcfff\" xlink:show=\"new\" xlink:title=\"psysml:19ac739f-970e-4750-a1cd-14a3501dcfff\" xlink:type=\"simple\"><path d=\"M178,253.11 C178,261.69 178,271.75 178,280.8 \" fill=\"none\" id=\"E4-&gt;E5\" style=\"stroke: #A80036; stroke-width: 1.0;\"/><polygon fill=\"#A80036\" points=\"178,286,182,277,178,281,174,277,178,286\" style=\"stroke: #A80036; stroke-width: 1.0;\"/><text fill=\"#000000\" font-family=\"sans-serif\" font-size=\"13\" lengthAdjust=\"spacingAndGlyphs\" textLength=\"55\" x=\"179\" y=\"274.0669\">[x == 0]</text><text fill=\"#000000\" font-family=\"sans-serif\" font-size=\"13\" lengthAdjust=\"spacingAndGlyphs\" textLength=\"7\" x=\"170.0156\" y=\"274.9381\">*</text></a><!--MD5=[c26aa3ff4c723c9ccea370da05f93b47]\n",
       "@startuml\r\n",
       "skinparam ranksep 10\r\n",
       "skinparam rectangle {\r\n",
       " backgroundColor<<block>> LightGreen\r\n",
       "}\r\n",
       " \r\n",
       "rec def \"DecisionTest\" as E1 << <<(B,lemonchiffon) action def>> [[psysml:ec9d2101-14b6-425a-8b3b-258973824e57 ]] {\r\n",
       "choice \"test x\" as E2  [[psysml:7b5c557c-0eca-43da-893a-884adf177ee9 ]] \r\n",
       "choice \"<s>noname</s>\" as E3  [[psysml:c8637911-bdae-488c-9ae7-71f0e05f074a ]] \r\n",
       "rec usage \"A1\" as E4 << <<(U,orange) action>> [[psysml:2b21def1-54fd-4014-8db4-beef5c1da0f0 ]] {\r\n",
       "}\r\n",
       "\r\n",
       "rec usage \"A2\" as E5 << <<(U,orange) action>> [[psysml:a7c18d95-cb4e-4d18-b7c9-a948ce4b9e35 ]] {\r\n",
       "}\r\n",
       "\r\n",
       "rec usage \"A3\" as E6 << <<(U,orange) action>> [[psysml:6ad7aed3-e22d-47c2-b6cf-45fd0f629de6 ]] {\r\n",
       "}\r\n",
       "\r\n",
       "rec usage \"A3\" as E7 << <<(U,orange) action>> [[psysml:6ad7aed3-e22d-47c2-b6cf-45fd0f629de6 ]] {\r\n",
       "}\r\n",
       "\r\n",
       "}\r\n",
       "\r\n",
       "E2  - -> \"*\"E4 [[psysml:07a447fb-7978-4e35-9306-ac5ec116db5d ]] : [x == 1]\r\n",
       "E2  - -> \"*\"E5 [[psysml:f195b54a-5fed-403e-bb02-20f21e154f17 ]] : [x > 1]\r\n",
       "E2  - -> \"*\"E7 [[psysml:15c91a99-d9b4-4320-8388-ef3655122685 ]] \r\n",
       "E2 - -> \"*\"E3 [[psysml:6d6473c9-743e-4105-a2af-98d6bd8c1632 ]] \r\n",
       "E3  - -> \"*\"E4 [[psysml:4dd56774-018b-4c8a-8121-2b3d6a9c557c ]] : [true]\r\n",
       "E3  - -> \"*\"E5 [[psysml:2f25c912-d622-4deb-be6f-2375e7caca37 ]] : [false]\r\n",
       "E4  - -> \"*\"E5 [[psysml:19ac739f-970e-4750-a1cd-14a3501dcfff ]] : [x == 0]\r\n",
       "E7  - -> \"*\"E2 [[psysml:c19c71e4-b628-4c9d-aa87-db03cc189a8f ]] : [x > 0]\r\n",
       "@enduml\r\n",
       "\n",
       "PlantUML version 1.2020.13(Sat Jun 13 12:26:38 UTC 2020)\n",
       "(EPL source distribution)\n",
       "Java Runtime: OpenJDK Runtime Environment\n",
       "JVM: OpenJDK 64-Bit Server VM\n",
       "Default Encoding: UTF-8\n",
       "Language: en\n",
       "Country: null\n",
       "--></g></svg>"
      ]
     },
     "execution_count": 33,
     "metadata": {},
     "output_type": "execute_result"
    }
   ],
   "source": [
    "%viz --style=\"PLANTUML\" --view=\"Interconnection\" \"DecisionTest\""
   ]
  },
  {
   "cell_type": "code",
   "execution_count": 34,
   "id": "f6c5eb77",
   "metadata": {
    "execution": {
     "iopub.execute_input": "2021-10-03T08:29:02.626123Z",
     "iopub.status.busy": "2021-10-03T08:29:02.625701Z",
     "iopub.status.idle": "2021-10-03T08:29:02.651292Z",
     "shell.execute_reply": "2021-10-03T08:29:02.649414Z"
    }
   },
   "outputs": [
    {
     "data": {
      "image/svg+xml": [
       "<?xml version=\"1.0\" encoding=\"UTF-8\" standalone=\"no\"?><svg xmlns=\"http://www.w3.org/2000/svg\" xmlns:xlink=\"http://www.w3.org/1999/xlink\" contentScriptType=\"application/ecmascript\" contentStyleType=\"text/css\" height=\"364px\" preserveAspectRatio=\"none\" style=\"width:367px;height:364px;\" version=\"1.1\" viewBox=\"0 0 367 364\" width=\"367px\" zoomAndPan=\"magnify\"><defs><filter height=\"300%\" id=\"f1bc8g36vjznyw\" width=\"300%\" x=\"-1\" y=\"-1\"><feGaussianBlur result=\"blurOut\" stdDeviation=\"2.0\"/><feColorMatrix in=\"blurOut\" result=\"blurOut2\" type=\"matrix\" values=\"0 0 0 0 0 0 0 0 0 0 0 0 0 0 0 0 0 0 .4 0\"/><feOffset dx=\"4.0\" dy=\"4.0\" in=\"blurOut2\" result=\"blurOut3\"/><feBlend in=\"SourceGraphic\" in2=\"blurOut3\" mode=\"normal\"/></filter></defs><g><!--MD5=[fbc87193dbaf4d95561dea2c320d4a47]\n",
       "cluster E1--><a href=\"psysml:ec9d2101-14b6-425a-8b3b-258973824e57\" target=\"_top\" title=\"psysml:ec9d2101-14b6-425a-8b3b-258973824e57\" xlink:actuate=\"onRequest\" xlink:href=\"psysml:ec9d2101-14b6-425a-8b3b-258973824e57\" xlink:show=\"new\" xlink:title=\"psysml:ec9d2101-14b6-425a-8b3b-258973824e57\" xlink:type=\"simple\"><rect fill=\"#FFFFFF\" filter=\"url(#f1bc8g36vjznyw)\" height=\"338\" id=\"E1\" style=\"stroke: #A80036; stroke-width: 1.5;\" width=\"341\" x=\"7\" y=\"7\"/><rect fill=\"#FEFECE\" height=\"37.9375\" style=\"stroke: #A80036; stroke-width: 1.5;\" width=\"341\" x=\"7\" y=\"7\"/><text fill=\"#000000\" font-family=\"sans-serif\" font-size=\"12\" font-style=\"italic\" lengthAdjust=\"spacingAndGlyphs\" textLength=\"77\" x=\"139\" y=\"23.1387\">«action def»</text><text fill=\"#000000\" font-family=\"sans-serif\" font-size=\"12\" lengthAdjust=\"spacingAndGlyphs\" textLength=\"80\" x=\"137.5\" y=\"37.1074\">DecisionTest</text></a><polygon fill=\"#FEFECE\" filter=\"url(#f1bc8g36vjznyw)\" points=\"210,67.5,222,79.5,210,91.5,198,79.5,210,67.5\" style=\"stroke: #A80036; stroke-width: 1.5;\"/><polygon fill=\"#FEFECE\" filter=\"url(#f1bc8g36vjznyw)\" points=\"35,143.5,47,155.5,35,167.5,23,155.5,35,143.5\" style=\"stroke: #A80036; stroke-width: 1.5;\"/><g id=\"E1.E4\"><a href=\"psysml:2b21def1-54fd-4014-8db4-beef5c1da0f0\" target=\"_top\" title=\"psysml:2b21def1-54fd-4014-8db4-beef5c1da0f0\" xlink:actuate=\"onRequest\" xlink:href=\"psysml:2b21def1-54fd-4014-8db4-beef5c1da0f0\" xlink:show=\"new\" xlink:title=\"psysml:2b21def1-54fd-4014-8db4-beef5c1da0f0\" xlink:type=\"simple\"><rect fill=\"#FEFECE\" filter=\"url(#f1bc8g36vjznyw)\" height=\"42.9375\" id=\"E4\" rx=\"10\" ry=\"10\" style=\"stroke: #A80036; stroke-width: 1.5;\" width=\"86\" x=\"135\" y=\"210\"/><ellipse cx=\"152.25\" cy=\"228.9688\" fill=\"#FFA500\" rx=\"11\" ry=\"11\" style=\"stroke: #A80036; stroke-width: 1.0;\"/><path d=\"M152,234.4375 Q150.25,234.4375 149.2969,233.4063 Q148.3594,232.3594 148.3594,230.5156 L148.3594,223.625 L150.4219,223.625 L150.4219,223.7813 Q150.3281,223.875 150.2969,224.0156 Q150.2813,224.1406 150.2813,224.4063 L150.2813,230.5313 Q150.2813,231.625 150.6563,232.25 Q151.0313,232.875 152.0156,232.875 Q153,232.875 153.3906,232.25 Q153.7813,231.625 153.7813,230.4844 L153.7813,223.625 L155.6563,223.625 L155.6563,230.4688 Q155.6563,232.5 154.625,233.4688 Q153.6094,234.4375 152,234.4375 Z \"/><text fill=\"#000000\" font-family=\"sans-serif\" font-size=\"12\" font-style=\"italic\" lengthAdjust=\"spacingAndGlyphs\" textLength=\"53\" x=\"164.75\" y=\"226.1387\">«action»</text><text fill=\"#000000\" font-family=\"sans-serif\" font-size=\"12\" lengthAdjust=\"spacingAndGlyphs\" textLength=\"16\" x=\"183.25\" y=\"240.1074\">A1</text></a></g><g id=\"E1.E5\"><a href=\"psysml:a7c18d95-cb4e-4d18-b7c9-a948ce4b9e35\" target=\"_top\" title=\"psysml:a7c18d95-cb4e-4d18-b7c9-a948ce4b9e35\" xlink:actuate=\"onRequest\" xlink:href=\"psysml:a7c18d95-cb4e-4d18-b7c9-a948ce4b9e35\" xlink:show=\"new\" xlink:title=\"psysml:a7c18d95-cb4e-4d18-b7c9-a948ce4b9e35\" xlink:type=\"simple\"><rect fill=\"#FEFECE\" filter=\"url(#f1bc8g36vjznyw)\" height=\"42.9375\" id=\"E5\" rx=\"10\" ry=\"10\" style=\"stroke: #A80036; stroke-width: 1.5;\" width=\"86\" x=\"135\" y=\"286\"/><ellipse cx=\"152.25\" cy=\"304.9688\" fill=\"#FFA500\" rx=\"11\" ry=\"11\" style=\"stroke: #A80036; stroke-width: 1.0;\"/><path d=\"M152,310.4375 Q150.25,310.4375 149.2969,309.4063 Q148.3594,308.3594 148.3594,306.5156 L148.3594,299.625 L150.4219,299.625 L150.4219,299.7813 Q150.3281,299.875 150.2969,300.0156 Q150.2813,300.1406 150.2813,300.4063 L150.2813,306.5313 Q150.2813,307.625 150.6563,308.25 Q151.0313,308.875 152.0156,308.875 Q153,308.875 153.3906,308.25 Q153.7813,307.625 153.7813,306.4844 L153.7813,299.625 L155.6563,299.625 L155.6563,306.4688 Q155.6563,308.5 154.625,309.4688 Q153.6094,310.4375 152,310.4375 Z \"/><text fill=\"#000000\" font-family=\"sans-serif\" font-size=\"12\" font-style=\"italic\" lengthAdjust=\"spacingAndGlyphs\" textLength=\"53\" x=\"164.75\" y=\"302.1387\">«action»</text><text fill=\"#000000\" font-family=\"sans-serif\" font-size=\"12\" lengthAdjust=\"spacingAndGlyphs\" textLength=\"16\" x=\"183.25\" y=\"316.1074\">A2</text></a></g><g id=\"E1.E6\"><a href=\"psysml:6ad7aed3-e22d-47c2-b6cf-45fd0f629de6\" target=\"_top\" title=\"psysml:6ad7aed3-e22d-47c2-b6cf-45fd0f629de6\" xlink:actuate=\"onRequest\" xlink:href=\"psysml:6ad7aed3-e22d-47c2-b6cf-45fd0f629de6\" xlink:show=\"new\" xlink:title=\"psysml:6ad7aed3-e22d-47c2-b6cf-45fd0f629de6\" xlink:type=\"simple\"><rect fill=\"#FEFECE\" filter=\"url(#f1bc8g36vjznyw)\" height=\"42.9375\" id=\"E6\" rx=\"10\" ry=\"10\" style=\"stroke: #A80036; stroke-width: 1.5;\" width=\"86\" x=\"50\" y=\"58\"/><ellipse cx=\"67.25\" cy=\"76.9688\" fill=\"#FFA500\" rx=\"11\" ry=\"11\" style=\"stroke: #A80036; stroke-width: 1.0;\"/><path d=\"M67,82.4375 Q65.25,82.4375 64.2969,81.4063 Q63.3594,80.3594 63.3594,78.5156 L63.3594,71.625 L65.4219,71.625 L65.4219,71.7813 Q65.3281,71.875 65.2969,72.0156 Q65.2813,72.1406 65.2813,72.4063 L65.2813,78.5313 Q65.2813,79.625 65.6563,80.25 Q66.0313,80.875 67.0156,80.875 Q68,80.875 68.3906,80.25 Q68.7813,79.625 68.7813,78.4844 L68.7813,71.625 L70.6563,71.625 L70.6563,78.4688 Q70.6563,80.5 69.625,81.4688 Q68.6094,82.4375 67,82.4375 Z \"/><text fill=\"#000000\" font-family=\"sans-serif\" font-size=\"12\" font-style=\"italic\" lengthAdjust=\"spacingAndGlyphs\" textLength=\"53\" x=\"79.75\" y=\"74.1387\">«action»</text><text fill=\"#000000\" font-family=\"sans-serif\" font-size=\"12\" lengthAdjust=\"spacingAndGlyphs\" textLength=\"16\" x=\"98.25\" y=\"88.1074\">A3</text></a></g><g id=\"E1.E7\"><a href=\"psysml:6ad7aed3-e22d-47c2-b6cf-45fd0f629de6\" target=\"_top\" title=\"psysml:6ad7aed3-e22d-47c2-b6cf-45fd0f629de6\" xlink:actuate=\"onRequest\" xlink:href=\"psysml:6ad7aed3-e22d-47c2-b6cf-45fd0f629de6\" xlink:show=\"new\" xlink:title=\"psysml:6ad7aed3-e22d-47c2-b6cf-45fd0f629de6\" xlink:type=\"simple\"><rect fill=\"#FEFECE\" filter=\"url(#f1bc8g36vjznyw)\" height=\"42.9375\" id=\"E7\" rx=\"10\" ry=\"10\" style=\"stroke: #A80036; stroke-width: 1.5;\" width=\"86\" x=\"246\" y=\"134\"/><ellipse cx=\"263.25\" cy=\"152.9688\" fill=\"#FFA500\" rx=\"11\" ry=\"11\" style=\"stroke: #A80036; stroke-width: 1.0;\"/><path d=\"M263,158.4375 Q261.25,158.4375 260.2969,157.4063 Q259.3594,156.3594 259.3594,154.5156 L259.3594,147.625 L261.4219,147.625 L261.4219,147.7813 Q261.3281,147.875 261.2969,148.0156 Q261.2813,148.1406 261.2813,148.4063 L261.2813,154.5313 Q261.2813,155.625 261.6563,156.25 Q262.0313,156.875 263.0156,156.875 Q264,156.875 264.3906,156.25 Q264.7813,155.625 264.7813,154.4844 L264.7813,147.625 L266.6563,147.625 L266.6563,154.4688 Q266.6563,156.5 265.625,157.4688 Q264.6094,158.4375 263,158.4375 Z \"/><text fill=\"#000000\" font-family=\"sans-serif\" font-size=\"12\" font-style=\"italic\" lengthAdjust=\"spacingAndGlyphs\" textLength=\"53\" x=\"275.75\" y=\"150.1387\">«action»</text><text fill=\"#000000\" font-family=\"sans-serif\" font-size=\"12\" lengthAdjust=\"spacingAndGlyphs\" textLength=\"16\" x=\"294.25\" y=\"164.1074\">A3</text></a></g><!--MD5=[4d03bb2d0377dc85ccfab60ff574652b]\n",
       "link E2 to E4--><a href=\"psysml:07a447fb-7978-4e35-9306-ac5ec116db5d\" target=\"_top\" title=\"psysml:07a447fb-7978-4e35-9306-ac5ec116db5d\" xlink:actuate=\"onRequest\" xlink:href=\"psysml:07a447fb-7978-4e35-9306-ac5ec116db5d\" xlink:show=\"new\" xlink:title=\"psysml:07a447fb-7978-4e35-9306-ac5ec116db5d\" xlink:type=\"simple\"><path d=\"M201.97,84.07 C187.22,91.12 156.19,108.44 144,134 C135.78,151.25 138.66,158.65 144,177 C146.9,186.99 152.3,196.89 157.95,205.41 \" fill=\"none\" id=\"E2-&gt;E4\" style=\"stroke: #A80036; stroke-width: 1.0; stroke-dasharray: 7.0,7.0;\"/><polygon fill=\"#A80036\" points=\"161.1,209.99,159.2903,200.3088,158.2643,205.8719,152.7013,204.8459,161.1,209.99\" style=\"stroke: #A80036; stroke-width: 1.0;\"/><text fill=\"#000000\" font-family=\"sans-serif\" font-size=\"13\" lengthAdjust=\"spacingAndGlyphs\" textLength=\"55\" x=\"145\" y=\"160.0669\">[x == 1]</text></a><!--MD5=[dcad52bbbca2fe8adc741ce38b45dc12]\n",
       "link E2 to E5--><a href=\"psysml:f195b54a-5fed-403e-bb02-20f21e154f17\" target=\"_top\" title=\"psysml:f195b54a-5fed-403e-bb02-20f21e154f17\" xlink:actuate=\"onRequest\" xlink:href=\"psysml:f195b54a-5fed-403e-bb02-20f21e154f17\" xlink:show=\"new\" xlink:title=\"psysml:f195b54a-5fed-403e-bb02-20f21e154f17\" xlink:type=\"simple\"><path d=\"M210.68,91.05 C211.4,100.32 212.73,114.14 215,126 C219.41,149.09 222.48,154.42 229,177 C233.25,191.72 236.16,194.94 239,210 C243.21,232.34 242.11,238.28 243,261 C243.3,268.55 247.13,271.68 243,278 C238.78,284.45 232.75,289.45 226.03,293.33 \" fill=\"none\" id=\"E2-&gt;E5\" style=\"stroke: #A80036; stroke-width: 1.0; stroke-dasharray: 7.0,7.0;\"/><polygon fill=\"#A80036\" points=\"221.28,295.83,231.1075,295.1819,225.7055,293.503,227.3844,288.101,221.28,295.83\" style=\"stroke: #A80036; stroke-width: 1.0;\"/><text fill=\"#000000\" font-family=\"sans-serif\" font-size=\"13\" lengthAdjust=\"spacingAndGlyphs\" textLength=\"44\" x=\"238\" y=\"198.0669\">[x &gt; 1]</text></a><!--MD5=[e3d2a08a9c9236652057e8ed0cbc9b62]\n",
       "link E2 to E7--><a href=\"psysml:15c91a99-d9b4-4320-8388-ef3655122685\" target=\"_top\" title=\"psysml:15c91a99-d9b4-4320-8388-ef3655122685\" xlink:actuate=\"onRequest\" xlink:href=\"psysml:15c91a99-d9b4-4320-8388-ef3655122685\" xlink:show=\"new\" xlink:title=\"psysml:15c91a99-d9b4-4320-8388-ef3655122685\" xlink:type=\"simple\"><path d=\"M213.08,88.8 C217.09,98.68 224.92,115.21 236,126 C237.78,127.73 239.68,129.39 241.67,130.97 \" fill=\"none\" id=\"E2-&gt;E7\" style=\"stroke: #A80036; stroke-width: 1.0; stroke-dasharray: 7.0,7.0;\"/><polygon fill=\"#A80036\" points=\"245.87,134.1,241.0503,125.511,241.8631,131.1092,236.265,131.922,245.87,134.1\" style=\"stroke: #A80036; stroke-width: 1.0;\"/></a><!--MD5=[583832df87f4419a098336a29a52fa00]\n",
       "link E7 to E2--><a href=\"psysml:c19c71e4-b628-4c9d-aa87-db03cc189a8f\" target=\"_top\" title=\"psysml:c19c71e4-b628-4c9d-aa87-db03cc189a8f\" xlink:actuate=\"onRequest\" xlink:href=\"psysml:c19c71e4-b628-4c9d-aa87-db03cc189a8f\" xlink:show=\"new\" xlink:title=\"psysml:c19c71e4-b628-4c9d-aa87-db03cc189a8f\" xlink:type=\"simple\"><path d=\"M266.81,133.71 C251.24,119.13 231.21,100.37 219.57,89.46 \" fill=\"none\" id=\"E7-&gt;E2\" style=\"stroke: #A80036; stroke-width: 1.0; stroke-dasharray: 7.0,7.0;\"/><polygon fill=\"#A80036\" points=\"215.68,85.82,219.5101,94.8936,219.3277,89.2397,224.9816,89.0573,215.68,85.82\" style=\"stroke: #A80036; stroke-width: 1.0;\"/><text fill=\"#000000\" font-family=\"sans-serif\" font-size=\"13\" lengthAdjust=\"spacingAndGlyphs\" textLength=\"44\" x=\"257\" y=\"122.0669\">[x &gt; 0]</text></a><!--MD5=[2720a5a1f2c3fca2055b230370638851]\n",
       "link E2 to E3--><a href=\"psysml:6d6473c9-743e-4105-a2af-98d6bd8c1632\" target=\"_top\" title=\"psysml:6d6473c9-743e-4105-a2af-98d6bd8c1632\" xlink:actuate=\"onRequest\" xlink:href=\"psysml:6d6473c9-743e-4105-a2af-98d6bd8c1632\" xlink:show=\"new\" xlink:title=\"psysml:6d6473c9-743e-4105-a2af-98d6bd8c1632\" xlink:type=\"simple\"><path d=\"M202.17,83.87 C191.47,88.37 171.6,96.29 154,101 C133.95,106.37 127.39,101.6 108,109 C83.93,118.19 59.16,135.65 45.55,146.07 \" fill=\"none\" id=\"E2-&gt;E3\" style=\"stroke: #A80036; stroke-width: 1.0; stroke-dasharray: 7.0,7.0;\"/><polygon fill=\"#A80036\" points=\"41.38,149.31,50.9381,146.9348,45.3245,146.2373,46.0219,140.6236,41.38,149.31\" style=\"stroke: #A80036; stroke-width: 1.0;\"/></a><!--MD5=[af87c684e3b0d8be13c1a698a818ef1e]\n",
       "link E3 to E4--><a href=\"psysml:4dd56774-018b-4c8a-8121-2b3d6a9c557c\" target=\"_top\" title=\"psysml:4dd56774-018b-4c8a-8121-2b3d6a9c557c\" xlink:actuate=\"onRequest\" xlink:href=\"psysml:4dd56774-018b-4c8a-8121-2b3d6a9c557c\" xlink:show=\"new\" xlink:title=\"psysml:4dd56774-018b-4c8a-8121-2b3d6a9c557c\" xlink:type=\"simple\"><path d=\"M40.05,162.75 C48.27,172.51 65.48,191.36 84,202 C86.27,203.3 107.96,209.91 129.94,216.43 \" fill=\"none\" id=\"E3-&gt;E4\" style=\"stroke: #A80036; stroke-width: 1.0; stroke-dasharray: 7.0,7.0;\"/><polygon fill=\"#A80036\" points=\"134.92,217.9,127.4226,211.5133,130.125,216.483,125.1554,219.1853,134.92,217.9\" style=\"stroke: #A80036; stroke-width: 1.0;\"/><text fill=\"#000000\" font-family=\"sans-serif\" font-size=\"13\" lengthAdjust=\"spacingAndGlyphs\" textLength=\"36\" x=\"85\" y=\"198.0669\">[true]</text></a><!--MD5=[0188b64bb0ae78505a997a81836e11e9]\n",
       "link E3 to E5--><a href=\"psysml:2f25c912-d622-4deb-be6f-2375e7caca37\" target=\"_top\" title=\"psysml:2f25c912-d622-4deb-be6f-2375e7caca37\" xlink:actuate=\"onRequest\" xlink:href=\"psysml:2f25c912-d622-4deb-be6f-2375e7caca37\" xlink:show=\"new\" xlink:title=\"psysml:2f25c912-d622-4deb-be6f-2375e7caca37\" xlink:type=\"simple\"><path d=\"M36.78,165.88 C40.75,184.57 51.94,226.9 76,253 C90.74,268.99 111.37,281.06 130.23,289.64 \" fill=\"none\" id=\"E3-&gt;E5\" style=\"stroke: #A80036; stroke-width: 1.0; stroke-dasharray: 7.0,7.0;\"/><polygon fill=\"#A80036\" points=\"134.98,291.75,128.376,284.4433,130.4098,289.722,125.1311,291.7557,134.98,291.75\" style=\"stroke: #A80036; stroke-width: 1.0;\"/><text fill=\"#000000\" font-family=\"sans-serif\" font-size=\"13\" lengthAdjust=\"spacingAndGlyphs\" textLength=\"40\" x=\"77\" y=\"236.0669\">[false]</text></a><!--MD5=[1b7591eae5389033d8d09a9d6721a717]\n",
       "link E4 to E5--><a href=\"psysml:19ac739f-970e-4750-a1cd-14a3501dcfff\" target=\"_top\" title=\"psysml:19ac739f-970e-4750-a1cd-14a3501dcfff\" xlink:actuate=\"onRequest\" xlink:href=\"psysml:19ac739f-970e-4750-a1cd-14a3501dcfff\" xlink:show=\"new\" xlink:title=\"psysml:19ac739f-970e-4750-a1cd-14a3501dcfff\" xlink:type=\"simple\"><path d=\"M178,253.11 C178,261.69 178,271.75 178,280.8 \" fill=\"none\" id=\"E4-&gt;E5\" style=\"stroke: #A80036; stroke-width: 1.0; stroke-dasharray: 7.0,7.0;\"/><polygon fill=\"#A80036\" points=\"178,286,182,277,178,281,174,277,178,286\" style=\"stroke: #A80036; stroke-width: 1.0;\"/><text fill=\"#000000\" font-family=\"sans-serif\" font-size=\"13\" lengthAdjust=\"spacingAndGlyphs\" textLength=\"55\" x=\"179\" y=\"274.0669\">[x == 0]</text></a><!--MD5=[4853579bdc027a58961d827b2526ac5c]\n",
       "@startuml\r\n",
       "skinparam ranksep 8\r\n",
       " \r\n",
       "rec def \"DecisionTest\" as E1 << <<(B,lemonchiffon) action def>> [[psysml:ec9d2101-14b6-425a-8b3b-258973824e57 ]] {\r\n",
       "choice \"test x\" as E2  [[psysml:7b5c557c-0eca-43da-893a-884adf177ee9 ]] \r\n",
       "choice \"<s>noname</s>\" as E3  [[psysml:c8637911-bdae-488c-9ae7-71f0e05f074a ]] \r\n",
       "rec usage \"A1\" as E4 << <<(U,orange) action>> [[psysml:2b21def1-54fd-4014-8db4-beef5c1da0f0 ]] {\r\n",
       "}\r\n",
       "\r\n",
       "rec usage \"A2\" as E5 << <<(U,orange) action>> [[psysml:a7c18d95-cb4e-4d18-b7c9-a948ce4b9e35 ]] {\r\n",
       "}\r\n",
       "\r\n",
       "rec usage \"A3\" as E6 << <<(U,orange) action>> [[psysml:6ad7aed3-e22d-47c2-b6cf-45fd0f629de6 ]] {\r\n",
       "}\r\n",
       "\r\n",
       "rec usage \"A3\" as E7 << <<(U,orange) action>> [[psysml:6ad7aed3-e22d-47c2-b6cf-45fd0f629de6 ]] {\r\n",
       "}\r\n",
       "\r\n",
       "}\r\n",
       "\r\n",
       "E2 ..> E4 [[psysml:07a447fb-7978-4e35-9306-ac5ec116db5d ]] : [x == 1]\r\n",
       "E2 ..> E5 [[psysml:f195b54a-5fed-403e-bb02-20f21e154f17 ]] : [x > 1]\r\n",
       "E2 ..> E7 [[psysml:15c91a99-d9b4-4320-8388-ef3655122685 ]] \r\n",
       "E2 ..> E3 [[psysml:6d6473c9-743e-4105-a2af-98d6bd8c1632 ]] \r\n",
       "E3 ..> E4 [[psysml:4dd56774-018b-4c8a-8121-2b3d6a9c557c ]] : [true]\r\n",
       "E3 ..> E5 [[psysml:2f25c912-d622-4deb-be6f-2375e7caca37 ]] : [false]\r\n",
       "E4 ..> E5 [[psysml:19ac739f-970e-4750-a1cd-14a3501dcfff ]] : [x == 0]\r\n",
       "E7 ..> E2 [[psysml:c19c71e4-b628-4c9d-aa87-db03cc189a8f ]] : [x > 0]\r\n",
       "@enduml\r\n",
       "\n",
       "PlantUML version 1.2020.13(Sat Jun 13 12:26:38 UTC 2020)\n",
       "(EPL source distribution)\n",
       "Java Runtime: OpenJDK Runtime Environment\n",
       "JVM: OpenJDK 64-Bit Server VM\n",
       "Default Encoding: UTF-8\n",
       "Language: en\n",
       "Country: null\n",
       "--></g></svg>"
      ]
     },
     "execution_count": 34,
     "metadata": {},
     "output_type": "execute_result"
    }
   ],
   "source": [
    "%viz --style=\"PLANTUML\" --view=\"Action\" \"DecisionTest\""
   ]
  },
  {
   "cell_type": "code",
   "execution_count": 35,
   "id": "e430009b",
   "metadata": {
    "execution": {
     "iopub.execute_input": "2021-10-03T08:29:02.700147Z",
     "iopub.status.busy": "2021-10-03T08:29:02.699718Z",
     "iopub.status.idle": "2021-10-03T08:29:02.706131Z",
     "shell.execute_reply": "2021-10-03T08:29:02.705769Z"
    }
   },
   "outputs": [
    {
     "data": {
      "image/svg+xml": [
       "<?xml version=\"1.0\" encoding=\"UTF-8\" standalone=\"no\"?><svg xmlns=\"http://www.w3.org/2000/svg\" xmlns:xlink=\"http://www.w3.org/1999/xlink\" contentScriptType=\"application/ecmascript\" contentStyleType=\"text/css\" height=\"12px\" preserveAspectRatio=\"none\" style=\"width:12px;height:12px;\" version=\"1.1\" viewBox=\"0 0 12 12\" width=\"12px\" zoomAndPan=\"magnify\"><defs/><g><!--MD5=[ca4faa0b02def275ea33c14ea7a1a98d]\n",
       "@startuml\r\n",
       "skinparam roundcorner 20\r\n",
       "skinparam BoxPadding 20\r\n",
       "skinparam SequenceBoxBackgroundColor #white\r\n",
       "skinparam style strictuml\r\n",
       "skinparam maxMessageSize 100\r\n",
       " \r\n",
       "@enduml\r\n",
       "\n",
       "PlantUML version 1.2020.13(Sat Jun 13 12:26:38 UTC 2020)\n",
       "(EPL source distribution)\n",
       "Java Runtime: OpenJDK Runtime Environment\n",
       "JVM: OpenJDK 64-Bit Server VM\n",
       "Default Encoding: UTF-8\n",
       "Language: en\n",
       "Country: null\n",
       "--></g></svg>"
      ]
     },
     "execution_count": 35,
     "metadata": {},
     "output_type": "execute_result"
    }
   ],
   "source": [
    "%viz --style=\"PLANTUML\" --view=\"Sequence\" \"DecisionTest\""
   ]
  },
  {
   "cell_type": "code",
   "execution_count": 36,
   "id": "80cae0eb",
   "metadata": {
    "execution": {
     "iopub.execute_input": "2021-10-03T08:29:02.755473Z",
     "iopub.status.busy": "2021-10-03T08:29:02.755065Z",
     "iopub.status.idle": "2021-10-03T08:29:02.802463Z",
     "shell.execute_reply": "2021-10-03T08:29:02.802088Z"
    }
   },
   "outputs": [
    {
     "data": {
      "image/svg+xml": [
       "<?xml version=\"1.0\" encoding=\"UTF-8\" standalone=\"no\"?><svg xmlns=\"http://www.w3.org/2000/svg\" xmlns:xlink=\"http://www.w3.org/1999/xlink\" contentScriptType=\"application/ecmascript\" contentStyleType=\"text/css\" height=\"496px\" preserveAspectRatio=\"none\" style=\"width:367px;height:496px;\" version=\"1.1\" viewBox=\"0 0 367 496\" width=\"367px\" zoomAndPan=\"magnify\"><defs><filter height=\"300%\" id=\"f16o176c4v5hiv\" width=\"300%\" x=\"-1\" y=\"-1\"><feGaussianBlur result=\"blurOut\" stdDeviation=\"2.0\"/><feColorMatrix in=\"blurOut\" result=\"blurOut2\" type=\"matrix\" values=\"0 0 0 0 0 0 0 0 0 0 0 0 0 0 0 0 0 0 .4 0\"/><feOffset dx=\"4.0\" dy=\"4.0\" in=\"blurOut2\" result=\"blurOut3\"/><feBlend in=\"SourceGraphic\" in2=\"blurOut3\" mode=\"normal\"/></filter></defs><g><!--MD5=[fbc87193dbaf4d95561dea2c320d4a47]\n",
       "cluster E1--><a href=\"psysml:ec9d2101-14b6-425a-8b3b-258973824e57\" target=\"_top\" title=\"psysml:ec9d2101-14b6-425a-8b3b-258973824e57\" xlink:actuate=\"onRequest\" xlink:href=\"psysml:ec9d2101-14b6-425a-8b3b-258973824e57\" xlink:show=\"new\" xlink:title=\"psysml:ec9d2101-14b6-425a-8b3b-258973824e57\" xlink:type=\"simple\"><rect fill=\"#FFFFFF\" filter=\"url(#f16o176c4v5hiv)\" height=\"470\" id=\"E1\" style=\"stroke: #A80036; stroke-width: 1.5;\" width=\"341\" x=\"7\" y=\"7\"/><rect fill=\"#FEFECE\" height=\"37.9375\" style=\"stroke: #A80036; stroke-width: 1.5;\" width=\"341\" x=\"7\" y=\"7\"/><text fill=\"#000000\" font-family=\"sans-serif\" font-size=\"12\" font-style=\"italic\" lengthAdjust=\"spacingAndGlyphs\" textLength=\"77\" x=\"139\" y=\"23.1387\">«action def»</text><text fill=\"#000000\" font-family=\"sans-serif\" font-size=\"12\" lengthAdjust=\"spacingAndGlyphs\" textLength=\"80\" x=\"137.5\" y=\"37.1074\">DecisionTest</text></a><polygon fill=\"#FEFECE\" filter=\"url(#f16o176c4v5hiv)\" points=\"210,67.5,222,79.5,210,91.5,198,79.5,210,67.5\" style=\"stroke: #A80036; stroke-width: 1.5;\"/><polygon fill=\"#FEFECE\" filter=\"url(#f16o176c4v5hiv)\" points=\"35,187.5,47,199.5,35,211.5,23,199.5,35,187.5\" style=\"stroke: #A80036; stroke-width: 1.5;\"/><g id=\"E1.E4\"><a href=\"psysml:2b21def1-54fd-4014-8db4-beef5c1da0f0\" target=\"_top\" title=\"psysml:2b21def1-54fd-4014-8db4-beef5c1da0f0\" xlink:actuate=\"onRequest\" xlink:href=\"psysml:2b21def1-54fd-4014-8db4-beef5c1da0f0\" xlink:show=\"new\" xlink:title=\"psysml:2b21def1-54fd-4014-8db4-beef5c1da0f0\" xlink:type=\"simple\"><rect fill=\"#FEFECE\" filter=\"url(#f16o176c4v5hiv)\" height=\"42.9375\" id=\"E4\" rx=\"10\" ry=\"10\" style=\"stroke: #A80036; stroke-width: 1.5;\" width=\"86\" x=\"135\" y=\"298\"/><ellipse cx=\"152.25\" cy=\"316.9688\" fill=\"#FFA500\" rx=\"11\" ry=\"11\" style=\"stroke: #A80036; stroke-width: 1.0;\"/><path d=\"M152,322.4375 Q150.25,322.4375 149.2969,321.4063 Q148.3594,320.3594 148.3594,318.5156 L148.3594,311.625 L150.4219,311.625 L150.4219,311.7813 Q150.3281,311.875 150.2969,312.0156 Q150.2813,312.1406 150.2813,312.4063 L150.2813,318.5313 Q150.2813,319.625 150.6563,320.25 Q151.0313,320.875 152.0156,320.875 Q153,320.875 153.3906,320.25 Q153.7813,319.625 153.7813,318.4844 L153.7813,311.625 L155.6563,311.625 L155.6563,318.4688 Q155.6563,320.5 154.625,321.4688 Q153.6094,322.4375 152,322.4375 Z \"/><text fill=\"#000000\" font-family=\"sans-serif\" font-size=\"12\" font-style=\"italic\" lengthAdjust=\"spacingAndGlyphs\" textLength=\"53\" x=\"164.75\" y=\"314.1387\">«action»</text><text fill=\"#000000\" font-family=\"sans-serif\" font-size=\"12\" lengthAdjust=\"spacingAndGlyphs\" textLength=\"16\" x=\"183.25\" y=\"328.1074\">A1</text></a></g><g id=\"E1.E5\"><a href=\"psysml:a7c18d95-cb4e-4d18-b7c9-a948ce4b9e35\" target=\"_top\" title=\"psysml:a7c18d95-cb4e-4d18-b7c9-a948ce4b9e35\" xlink:actuate=\"onRequest\" xlink:href=\"psysml:a7c18d95-cb4e-4d18-b7c9-a948ce4b9e35\" xlink:show=\"new\" xlink:title=\"psysml:a7c18d95-cb4e-4d18-b7c9-a948ce4b9e35\" xlink:type=\"simple\"><rect fill=\"#FEFECE\" filter=\"url(#f16o176c4v5hiv)\" height=\"42.9375\" id=\"E5\" rx=\"10\" ry=\"10\" style=\"stroke: #A80036; stroke-width: 1.5;\" width=\"86\" x=\"135\" y=\"418\"/><ellipse cx=\"152.25\" cy=\"436.9688\" fill=\"#FFA500\" rx=\"11\" ry=\"11\" style=\"stroke: #A80036; stroke-width: 1.0;\"/><path d=\"M152,442.4375 Q150.25,442.4375 149.2969,441.4063 Q148.3594,440.3594 148.3594,438.5156 L148.3594,431.625 L150.4219,431.625 L150.4219,431.7813 Q150.3281,431.875 150.2969,432.0156 Q150.2813,432.1406 150.2813,432.4063 L150.2813,438.5313 Q150.2813,439.625 150.6563,440.25 Q151.0313,440.875 152.0156,440.875 Q153,440.875 153.3906,440.25 Q153.7813,439.625 153.7813,438.4844 L153.7813,431.625 L155.6563,431.625 L155.6563,438.4688 Q155.6563,440.5 154.625,441.4688 Q153.6094,442.4375 152,442.4375 Z \"/><text fill=\"#000000\" font-family=\"sans-serif\" font-size=\"12\" font-style=\"italic\" lengthAdjust=\"spacingAndGlyphs\" textLength=\"53\" x=\"164.75\" y=\"434.1387\">«action»</text><text fill=\"#000000\" font-family=\"sans-serif\" font-size=\"12\" lengthAdjust=\"spacingAndGlyphs\" textLength=\"16\" x=\"183.25\" y=\"448.1074\">A2</text></a></g><g id=\"E1.E6\"><a href=\"psysml:6ad7aed3-e22d-47c2-b6cf-45fd0f629de6\" target=\"_top\" title=\"psysml:6ad7aed3-e22d-47c2-b6cf-45fd0f629de6\" xlink:actuate=\"onRequest\" xlink:href=\"psysml:6ad7aed3-e22d-47c2-b6cf-45fd0f629de6\" xlink:show=\"new\" xlink:title=\"psysml:6ad7aed3-e22d-47c2-b6cf-45fd0f629de6\" xlink:type=\"simple\"><rect fill=\"#FEFECE\" filter=\"url(#f16o176c4v5hiv)\" height=\"42.9375\" id=\"E6\" rx=\"10\" ry=\"10\" style=\"stroke: #A80036; stroke-width: 1.5;\" width=\"86\" x=\"50\" y=\"58\"/><ellipse cx=\"67.25\" cy=\"76.9688\" fill=\"#FFA500\" rx=\"11\" ry=\"11\" style=\"stroke: #A80036; stroke-width: 1.0;\"/><path d=\"M67,82.4375 Q65.25,82.4375 64.2969,81.4063 Q63.3594,80.3594 63.3594,78.5156 L63.3594,71.625 L65.4219,71.625 L65.4219,71.7813 Q65.3281,71.875 65.2969,72.0156 Q65.2813,72.1406 65.2813,72.4063 L65.2813,78.5313 Q65.2813,79.625 65.6563,80.25 Q66.0313,80.875 67.0156,80.875 Q68,80.875 68.3906,80.25 Q68.7813,79.625 68.7813,78.4844 L68.7813,71.625 L70.6563,71.625 L70.6563,78.4688 Q70.6563,80.5 69.625,81.4688 Q68.6094,82.4375 67,82.4375 Z \"/><text fill=\"#000000\" font-family=\"sans-serif\" font-size=\"12\" font-style=\"italic\" lengthAdjust=\"spacingAndGlyphs\" textLength=\"53\" x=\"79.75\" y=\"74.1387\">«action»</text><text fill=\"#000000\" font-family=\"sans-serif\" font-size=\"12\" lengthAdjust=\"spacingAndGlyphs\" textLength=\"16\" x=\"98.25\" y=\"88.1074\">A3</text></a></g><g id=\"E1.E7\"><a href=\"psysml:6ad7aed3-e22d-47c2-b6cf-45fd0f629de6\" target=\"_top\" title=\"psysml:6ad7aed3-e22d-47c2-b6cf-45fd0f629de6\" xlink:actuate=\"onRequest\" xlink:href=\"psysml:6ad7aed3-e22d-47c2-b6cf-45fd0f629de6\" xlink:show=\"new\" xlink:title=\"psysml:6ad7aed3-e22d-47c2-b6cf-45fd0f629de6\" xlink:type=\"simple\"><rect fill=\"#FEFECE\" filter=\"url(#f16o176c4v5hiv)\" height=\"42.9375\" id=\"E7\" rx=\"10\" ry=\"10\" style=\"stroke: #A80036; stroke-width: 1.5;\" width=\"86\" x=\"246\" y=\"178\"/><ellipse cx=\"263.25\" cy=\"196.9688\" fill=\"#FFA500\" rx=\"11\" ry=\"11\" style=\"stroke: #A80036; stroke-width: 1.0;\"/><path d=\"M263,202.4375 Q261.25,202.4375 260.2969,201.4063 Q259.3594,200.3594 259.3594,198.5156 L259.3594,191.625 L261.4219,191.625 L261.4219,191.7813 Q261.3281,191.875 261.2969,192.0156 Q261.2813,192.1406 261.2813,192.4063 L261.2813,198.5313 Q261.2813,199.625 261.6563,200.25 Q262.0313,200.875 263.0156,200.875 Q264,200.875 264.3906,200.25 Q264.7813,199.625 264.7813,198.4844 L264.7813,191.625 L266.6563,191.625 L266.6563,198.4688 Q266.6563,200.5 265.625,201.4688 Q264.6094,202.4375 263,202.4375 Z \"/><text fill=\"#000000\" font-family=\"sans-serif\" font-size=\"12\" font-style=\"italic\" lengthAdjust=\"spacingAndGlyphs\" textLength=\"53\" x=\"275.75\" y=\"194.1387\">«action»</text><text fill=\"#000000\" font-family=\"sans-serif\" font-size=\"12\" lengthAdjust=\"spacingAndGlyphs\" textLength=\"16\" x=\"294.25\" y=\"208.1074\">A3</text></a></g><!--MD5=[4d03bb2d0377dc85ccfab60ff574652b]\n",
       "link E2 to E4--><a href=\"psysml:07a447fb-7978-4e35-9306-ac5ec116db5d\" target=\"_top\" title=\"psysml:07a447fb-7978-4e35-9306-ac5ec116db5d\" xlink:actuate=\"onRequest\" xlink:href=\"psysml:07a447fb-7978-4e35-9306-ac5ec116db5d\" xlink:show=\"new\" xlink:title=\"psysml:07a447fb-7978-4e35-9306-ac5ec116db5d\" xlink:type=\"simple\"><path d=\"M204.45,86 C190.88,99.89 156.22,138.13 144,178 C131.83,217.69 149.59,264.76 163.67,293.09 \" fill=\"none\" id=\"E2-&gt;E4\" style=\"stroke: #A80036; stroke-width: 1.0;\"/><polygon fill=\"#A80036\" points=\"166.08,297.81,165.5574,287.975,163.8097,293.3551,158.4296,291.6074,166.08,297.81\" style=\"stroke: #A80036; stroke-width: 1.0;\"/><text fill=\"#000000\" font-family=\"sans-serif\" font-size=\"13\" lengthAdjust=\"spacingAndGlyphs\" textLength=\"55\" x=\"145\" y=\"204.0669\">[x == 1]</text><text fill=\"#000000\" font-family=\"sans-serif\" font-size=\"13\" lengthAdjust=\"spacingAndGlyphs\" textLength=\"7\" x=\"154.9359\" y=\"287.0583\">*</text></a><!--MD5=[dcad52bbbca2fe8adc741ce38b45dc12]\n",
       "link E2 to E5--><a href=\"psysml:f195b54a-5fed-403e-bb02-20f21e154f17\" target=\"_top\" title=\"psysml:f195b54a-5fed-403e-bb02-20f21e154f17\" xlink:actuate=\"onRequest\" xlink:href=\"psysml:f195b54a-5fed-403e-bb02-20f21e154f17\" xlink:show=\"new\" xlink:title=\"psysml:f195b54a-5fed-403e-bb02-20f21e154f17\" xlink:type=\"simple\"><path d=\"M211.32,90.39 C216.99,132.87 238.97,297.67 239,298 C242.74,337.86 260.6,352.04 243,388 C237.83,398.56 229.28,407.54 220.04,414.88 \" fill=\"none\" id=\"E2-&gt;E5\" style=\"stroke: #A80036; stroke-width: 1.0;\"/><polygon fill=\"#A80036\" points=\"216.05,417.92,225.6321,415.6432,220.0258,414.8881,220.781,409.2818,216.05,417.92\" style=\"stroke: #A80036; stroke-width: 1.0;\"/><text fill=\"#000000\" font-family=\"sans-serif\" font-size=\"13\" lengthAdjust=\"spacingAndGlyphs\" textLength=\"44\" x=\"235\" y=\"264.0669\">[x &gt; 1]</text><text fill=\"#000000\" font-family=\"sans-serif\" font-size=\"13\" lengthAdjust=\"spacingAndGlyphs\" textLength=\"7\" x=\"218.7672\" y=\"406.8356\">*</text></a><!--MD5=[e3d2a08a9c9236652057e8ed0cbc9b62]\n",
       "link E2 to E7--><a href=\"psysml:15c91a99-d9b4-4320-8388-ef3655122685\" target=\"_top\" title=\"psysml:15c91a99-d9b4-4320-8388-ef3655122685\" xlink:actuate=\"onRequest\" xlink:href=\"psysml:15c91a99-d9b4-4320-8388-ef3655122685\" xlink:show=\"new\" xlink:title=\"psysml:15c91a99-d9b4-4320-8388-ef3655122685\" xlink:type=\"simple\"><path d=\"M212.2,89.84 C215.69,103.47 223.45,129.2 236,148 C242.31,157.45 250.67,166.45 258.88,174.18 \" fill=\"none\" id=\"E2-&gt;E7\" style=\"stroke: #A80036; stroke-width: 1.0;\"/><polygon fill=\"#A80036\" points=\"262.9,177.86,258.978,168.8257,259.2178,174.4775,253.566,174.7173,262.9,177.86\" style=\"stroke: #A80036; stroke-width: 1.0;\"/><text fill=\"#000000\" font-family=\"sans-serif\" font-size=\"13\" lengthAdjust=\"spacingAndGlyphs\" textLength=\"7\" x=\"247.575\" y=\"166.7587\">*</text></a><!--MD5=[583832df87f4419a098336a29a52fa00]\n",
       "link E7 to E2--><a href=\"psysml:c19c71e4-b628-4c9d-aa87-db03cc189a8f\" target=\"_top\" title=\"psysml:c19c71e4-b628-4c9d-aa87-db03cc189a8f\" xlink:actuate=\"onRequest\" xlink:href=\"psysml:c19c71e4-b628-4c9d-aa87-db03cc189a8f\" xlink:show=\"new\" xlink:title=\"psysml:c19c71e4-b628-4c9d-aa87-db03cc189a8f\" xlink:type=\"simple\"><path d=\"M275.08,177.71 C258.3,152.65 230.72,111.44 217.51,91.71 \" fill=\"none\" id=\"E7-&gt;E2\" style=\"stroke: #A80036; stroke-width: 1.0;\"/><polygon fill=\"#A80036\" points=\"214.47,87.18,216.1572,96.8833,217.2534,91.3337,222.803,92.4299,214.47,87.18\" style=\"stroke: #A80036; stroke-width: 1.0;\"/><text fill=\"#000000\" font-family=\"sans-serif\" font-size=\"13\" lengthAdjust=\"spacingAndGlyphs\" textLength=\"44\" x=\"255\" y=\"144.0669\">[x &gt; 0]</text><text fill=\"#000000\" font-family=\"sans-serif\" font-size=\"13\" lengthAdjust=\"spacingAndGlyphs\" textLength=\"7\" x=\"208.2703\" y=\"111.8252\">*</text></a><!--MD5=[2720a5a1f2c3fca2055b230370638851]\n",
       "link E2 to E3--><a href=\"psysml:6d6473c9-743e-4105-a2af-98d6bd8c1632\" target=\"_top\" title=\"psysml:6d6473c9-743e-4105-a2af-98d6bd8c1632\" xlink:actuate=\"onRequest\" xlink:href=\"psysml:6d6473c9-743e-4105-a2af-98d6bd8c1632\" xlink:show=\"new\" xlink:title=\"psysml:6d6473c9-743e-4105-a2af-98d6bd8c1632\" xlink:type=\"simple\"><path d=\"M201.9,83.58 C184.06,90.55 140.39,108.7 108,131 C82.49,148.57 56.88,174.67 43.84,188.71 \" fill=\"none\" id=\"E2-&gt;E3\" style=\"stroke: #A80036; stroke-width: 1.0;\"/><polygon fill=\"#A80036\" points=\"40.21,192.66,49.2443,188.738,43.5925,188.9778,43.3527,183.326,40.21,192.66\" style=\"stroke: #A80036; stroke-width: 1.0;\"/><text fill=\"#000000\" font-family=\"sans-serif\" font-size=\"13\" lengthAdjust=\"spacingAndGlyphs\" textLength=\"7\" x=\"48.2668\" y=\"176.5238\">*</text></a><!--MD5=[af87c684e3b0d8be13c1a698a818ef1e]\n",
       "link E3 to E4--><a href=\"psysml:4dd56774-018b-4c8a-8121-2b3d6a9c557c\" target=\"_top\" title=\"psysml:4dd56774-018b-4c8a-8121-2b3d6a9c557c\" xlink:actuate=\"onRequest\" xlink:href=\"psysml:4dd56774-018b-4c8a-8121-2b3d6a9c557c\" xlink:show=\"new\" xlink:title=\"psysml:4dd56774-018b-4c8a-8121-2b3d6a9c557c\" xlink:type=\"simple\"><path d=\"M38.96,208.04 C46.32,221.49 63.28,249.9 84,268 C97.53,279.82 114.3,289.93 129.91,297.93 \" fill=\"none\" id=\"E3-&gt;E4\" style=\"stroke: #A80036; stroke-width: 1.0;\"/><polygon fill=\"#A80036\" points=\"134.71,300.34,128.4587,292.7294,130.2407,298.0982,124.8719,299.8802,134.71,300.34\" style=\"stroke: #A80036; stroke-width: 1.0;\"/><text fill=\"#000000\" font-family=\"sans-serif\" font-size=\"13\" lengthAdjust=\"spacingAndGlyphs\" textLength=\"36\" x=\"85\" y=\"264.0669\">[true]</text><text fill=\"#000000\" font-family=\"sans-serif\" font-size=\"13\" lengthAdjust=\"spacingAndGlyphs\" textLength=\"7\" x=\"119.9604\" y=\"293.0075\">*</text></a><!--MD5=[0188b64bb0ae78505a997a81836e11e9]\n",
       "link E3 to E5--><a href=\"psysml:2f25c912-d622-4deb-be6f-2375e7caca37\" target=\"_top\" title=\"psysml:2f25c912-d622-4deb-be6f-2375e7caca37\" xlink:actuate=\"onRequest\" xlink:href=\"psysml:2f25c912-d622-4deb-be6f-2375e7caca37\" xlink:show=\"new\" xlink:title=\"psysml:2f25c912-d622-4deb-be6f-2375e7caca37\" xlink:type=\"simple\"><path d=\"M36.1,210.4 C39.13,234.4 49.22,296.92 76,341 C93.84,370.37 122.75,396.82 145.25,414.74 \" fill=\"none\" id=\"E3-&gt;E5\" style=\"stroke: #A80036; stroke-width: 1.0;\"/><polygon fill=\"#A80036\" points=\"149.37,417.99,144.7826,409.2748,145.4449,414.8927,139.8269,415.555,149.37,417.99\" style=\"stroke: #A80036; stroke-width: 1.0;\"/><text fill=\"#000000\" font-family=\"sans-serif\" font-size=\"13\" lengthAdjust=\"spacingAndGlyphs\" textLength=\"40\" x=\"77\" y=\"324.0669\">[false]</text><text fill=\"#000000\" font-family=\"sans-serif\" font-size=\"13\" lengthAdjust=\"spacingAndGlyphs\" textLength=\"7\" x=\"133.3334\" y=\"406.9253\">*</text></a><!--MD5=[1b7591eae5389033d8d09a9d6721a717]\n",
       "link E4 to E5--><a href=\"psysml:19ac739f-970e-4750-a1cd-14a3501dcfff\" target=\"_top\" title=\"psysml:19ac739f-970e-4750-a1cd-14a3501dcfff\" xlink:actuate=\"onRequest\" xlink:href=\"psysml:19ac739f-970e-4750-a1cd-14a3501dcfff\" xlink:show=\"new\" xlink:title=\"psysml:19ac739f-970e-4750-a1cd-14a3501dcfff\" xlink:type=\"simple\"><path d=\"M178,341.05 C178,360.9 178,391.02 178,412.52 \" fill=\"none\" id=\"E4-&gt;E5\" style=\"stroke: #A80036; stroke-width: 1.0;\"/><polygon fill=\"#A80036\" points=\"178,417.79,182,408.79,178,412.79,174,408.79,178,417.79\" style=\"stroke: #A80036; stroke-width: 1.0;\"/><text fill=\"#000000\" font-family=\"sans-serif\" font-size=\"13\" lengthAdjust=\"spacingAndGlyphs\" textLength=\"55\" x=\"179\" y=\"384.0669\">[x == 0]</text><text fill=\"#000000\" font-family=\"sans-serif\" font-size=\"13\" lengthAdjust=\"spacingAndGlyphs\" textLength=\"7\" x=\"170.0594\" y=\"407.033\">*</text></a><!--MD5=[77cd033e9cf72aa5eb1f55bde2d23a78]\n",
       "@startuml\r\n",
       " \r\n",
       "rec def \"DecisionTest\" as E1 << <<(B,lemonchiffon) action def>> [[psysml:ec9d2101-14b6-425a-8b3b-258973824e57 ]] {\r\n",
       "choice \"test x\" as E2  [[psysml:7b5c557c-0eca-43da-893a-884adf177ee9 ]] \r\n",
       "choice \"<s>noname</s>\" as E3  [[psysml:c8637911-bdae-488c-9ae7-71f0e05f074a ]] \r\n",
       "rec usage \"A1\" as E4 << <<(U,orange) action>> [[psysml:2b21def1-54fd-4014-8db4-beef5c1da0f0 ]] {\r\n",
       "}\r\n",
       "\r\n",
       "rec usage \"A2\" as E5 << <<(U,orange) action>> [[psysml:a7c18d95-cb4e-4d18-b7c9-a948ce4b9e35 ]] {\r\n",
       "}\r\n",
       "\r\n",
       "rec usage \"A3\" as E6 << <<(U,orange) action>> [[psysml:6ad7aed3-e22d-47c2-b6cf-45fd0f629de6 ]] {\r\n",
       "}\r\n",
       "\r\n",
       "rec usage \"A3\" as E7 << <<(U,orange) action>> [[psysml:6ad7aed3-e22d-47c2-b6cf-45fd0f629de6 ]] {\r\n",
       "}\r\n",
       "\r\n",
       "}\r\n",
       "\r\n",
       "E2  - -> \"*\"E4 [[psysml:07a447fb-7978-4e35-9306-ac5ec116db5d ]] : [x == 1]\r\n",
       "E2  - -> \"*\"E5 [[psysml:f195b54a-5fed-403e-bb02-20f21e154f17 ]] : [x > 1]\r\n",
       "E2  - -> \"*\"E7 [[psysml:15c91a99-d9b4-4320-8388-ef3655122685 ]] \r\n",
       "E2 - -> \"*\"E3 [[psysml:6d6473c9-743e-4105-a2af-98d6bd8c1632 ]] \r\n",
       "E3  - -> \"*\"E4 [[psysml:4dd56774-018b-4c8a-8121-2b3d6a9c557c ]] : [true]\r\n",
       "E3  - -> \"*\"E5 [[psysml:2f25c912-d622-4deb-be6f-2375e7caca37 ]] : [false]\r\n",
       "E4  - -> \"*\"E5 [[psysml:19ac739f-970e-4750-a1cd-14a3501dcfff ]] : [x == 0]\r\n",
       "E7  - -> \"*\"E2 [[psysml:c19c71e4-b628-4c9d-aa87-db03cc189a8f ]] : [x > 0]\r\n",
       "@enduml\r\n",
       "\n",
       "PlantUML version 1.2020.13(Sat Jun 13 12:26:38 UTC 2020)\n",
       "(EPL source distribution)\n",
       "Java Runtime: OpenJDK Runtime Environment\n",
       "JVM: OpenJDK 64-Bit Server VM\n",
       "Default Encoding: UTF-8\n",
       "Language: en\n",
       "Country: null\n",
       "--></g></svg>"
      ]
     },
     "execution_count": 36,
     "metadata": {},
     "output_type": "execute_result"
    }
   ],
   "source": [
    "%viz --style=\"PLANTUML\" --view=\"MIXED\" \"DecisionTest\""
   ]
  },
  {
   "cell_type": "code",
   "execution_count": 37,
   "id": "1e3d8f97",
   "metadata": {
    "execution": {
     "iopub.execute_input": "2021-10-03T08:29:02.850928Z",
     "iopub.status.busy": "2021-10-03T08:29:02.850519Z",
     "iopub.status.idle": "2021-10-03T08:29:02.889526Z",
     "shell.execute_reply": "2021-10-03T08:29:02.887647Z"
    }
   },
   "outputs": [
    {
     "data": {
      "image/svg+xml": [
       "<?xml version=\"1.0\" encoding=\"UTF-8\" standalone=\"no\"?><svg xmlns=\"http://www.w3.org/2000/svg\" xmlns:xlink=\"http://www.w3.org/1999/xlink\" contentScriptType=\"application/ecmascript\" contentStyleType=\"text/css\" height=\"488px\" preserveAspectRatio=\"none\" style=\"width:333px;height:488px;\" version=\"1.1\" viewBox=\"0 0 333 488\" width=\"333px\" zoomAndPan=\"magnify\"><defs/><g><!--MD5=[fbc87193dbaf4d95561dea2c320d4a47]\n",
       "cluster E1--><a href=\"psysml:ec9d2101-14b6-425a-8b3b-258973824e57\" target=\"_top\" title=\"psysml:ec9d2101-14b6-425a-8b3b-258973824e57\" xlink:actuate=\"onRequest\" xlink:href=\"psysml:ec9d2101-14b6-425a-8b3b-258973824e57\" xlink:show=\"new\" xlink:title=\"psysml:ec9d2101-14b6-425a-8b3b-258973824e57\" xlink:type=\"simple\"><rect fill=\"#FFFFFF\" height=\"470\" id=\"E1\" style=\"stroke: #383838; stroke-width: 1.5;\" width=\"315\" x=\"7\" y=\"7\"/><rect fill=\"#F8F8F8\" height=\"37.9375\" style=\"stroke: #383838; stroke-width: 1.5;\" width=\"315\" x=\"7\" y=\"7\"/><text fill=\"#000000\" font-family=\"sans-serif\" font-size=\"12\" font-style=\"italic\" lengthAdjust=\"spacingAndGlyphs\" textLength=\"77\" x=\"126\" y=\"23.1387\">«action def»</text><text fill=\"#000000\" font-family=\"sans-serif\" font-size=\"12\" lengthAdjust=\"spacingAndGlyphs\" textLength=\"80\" x=\"124.5\" y=\"37.1074\">DecisionTest</text></a><polygon fill=\"#F8F8F8\" points=\"210,67.5,222,79.5,210,91.5,198,79.5,210,67.5\" style=\"stroke: #383838; stroke-width: 1.5;\"/><polygon fill=\"#F8F8F8\" points=\"35,187.5,47,199.5,35,211.5,23,199.5,35,187.5\" style=\"stroke: #383838; stroke-width: 1.5;\"/><g id=\"E1.E4\"><a href=\"psysml:2b21def1-54fd-4014-8db4-beef5c1da0f0\" target=\"_top\" title=\"psysml:2b21def1-54fd-4014-8db4-beef5c1da0f0\" xlink:actuate=\"onRequest\" xlink:href=\"psysml:2b21def1-54fd-4014-8db4-beef5c1da0f0\" xlink:show=\"new\" xlink:title=\"psysml:2b21def1-54fd-4014-8db4-beef5c1da0f0\" xlink:type=\"simple\"><rect fill=\"#FFFFFF\" height=\"42.9375\" id=\"E4\" rx=\"10\" ry=\"10\" style=\"stroke: #383838; stroke-width: 1.5;\" width=\"60\" x=\"135\" y=\"298\"/><rect fill=\"#F8F8F8\" height=\"37.9375\" rx=\"10\" ry=\"10\" style=\"stroke: #F8F8F8; stroke-width: 1.5;\" width=\"60\" x=\"135\" y=\"298\"/><rect fill=\"#F8F8F8\" height=\"10\" style=\"stroke: #F8F8F8; stroke-width: 1.5;\" width=\"60\" x=\"135\" y=\"325.9375\"/><rect fill=\"none\" height=\"42.9375\" id=\"E4\" rx=\"10\" ry=\"10\" style=\"stroke: #383838; stroke-width: 1.5;\" width=\"60\" x=\"135\" y=\"298\"/><text fill=\"#000000\" font-family=\"sans-serif\" font-size=\"12\" font-style=\"italic\" lengthAdjust=\"spacingAndGlyphs\" textLength=\"53\" x=\"138.5\" y=\"314.1387\">«action»</text><text fill=\"#000000\" font-family=\"sans-serif\" font-size=\"12\" lengthAdjust=\"spacingAndGlyphs\" textLength=\"16\" x=\"157\" y=\"328.1074\">A1</text></a></g><g id=\"E1.E5\"><a href=\"psysml:a7c18d95-cb4e-4d18-b7c9-a948ce4b9e35\" target=\"_top\" title=\"psysml:a7c18d95-cb4e-4d18-b7c9-a948ce4b9e35\" xlink:actuate=\"onRequest\" xlink:href=\"psysml:a7c18d95-cb4e-4d18-b7c9-a948ce4b9e35\" xlink:show=\"new\" xlink:title=\"psysml:a7c18d95-cb4e-4d18-b7c9-a948ce4b9e35\" xlink:type=\"simple\"><rect fill=\"#FFFFFF\" height=\"42.9375\" id=\"E5\" rx=\"10\" ry=\"10\" style=\"stroke: #383838; stroke-width: 1.5;\" width=\"60\" x=\"135\" y=\"418\"/><rect fill=\"#F8F8F8\" height=\"37.9375\" rx=\"10\" ry=\"10\" style=\"stroke: #F8F8F8; stroke-width: 1.5;\" width=\"60\" x=\"135\" y=\"418\"/><rect fill=\"#F8F8F8\" height=\"10\" style=\"stroke: #F8F8F8; stroke-width: 1.5;\" width=\"60\" x=\"135\" y=\"445.9375\"/><rect fill=\"none\" height=\"42.9375\" id=\"E5\" rx=\"10\" ry=\"10\" style=\"stroke: #383838; stroke-width: 1.5;\" width=\"60\" x=\"135\" y=\"418\"/><text fill=\"#000000\" font-family=\"sans-serif\" font-size=\"12\" font-style=\"italic\" lengthAdjust=\"spacingAndGlyphs\" textLength=\"53\" x=\"138.5\" y=\"434.1387\">«action»</text><text fill=\"#000000\" font-family=\"sans-serif\" font-size=\"12\" lengthAdjust=\"spacingAndGlyphs\" textLength=\"16\" x=\"157\" y=\"448.1074\">A2</text></a></g><g id=\"E1.E6\"><a href=\"psysml:6ad7aed3-e22d-47c2-b6cf-45fd0f629de6\" target=\"_top\" title=\"psysml:6ad7aed3-e22d-47c2-b6cf-45fd0f629de6\" xlink:actuate=\"onRequest\" xlink:href=\"psysml:6ad7aed3-e22d-47c2-b6cf-45fd0f629de6\" xlink:show=\"new\" xlink:title=\"psysml:6ad7aed3-e22d-47c2-b6cf-45fd0f629de6\" xlink:type=\"simple\"><rect fill=\"#FFFFFF\" height=\"42.9375\" id=\"E6\" rx=\"10\" ry=\"10\" style=\"stroke: #383838; stroke-width: 1.5;\" width=\"60\" x=\"63\" y=\"58\"/><rect fill=\"#F8F8F8\" height=\"37.9375\" rx=\"10\" ry=\"10\" style=\"stroke: #F8F8F8; stroke-width: 1.5;\" width=\"60\" x=\"63\" y=\"58\"/><rect fill=\"#F8F8F8\" height=\"10\" style=\"stroke: #F8F8F8; stroke-width: 1.5;\" width=\"60\" x=\"63\" y=\"85.9375\"/><rect fill=\"none\" height=\"42.9375\" id=\"E6\" rx=\"10\" ry=\"10\" style=\"stroke: #383838; stroke-width: 1.5;\" width=\"60\" x=\"63\" y=\"58\"/><text fill=\"#000000\" font-family=\"sans-serif\" font-size=\"12\" font-style=\"italic\" lengthAdjust=\"spacingAndGlyphs\" textLength=\"53\" x=\"66.5\" y=\"74.1387\">«action»</text><text fill=\"#000000\" font-family=\"sans-serif\" font-size=\"12\" lengthAdjust=\"spacingAndGlyphs\" textLength=\"16\" x=\"85\" y=\"88.1074\">A3</text></a></g><g id=\"E1.E7\"><a href=\"psysml:6ad7aed3-e22d-47c2-b6cf-45fd0f629de6\" target=\"_top\" title=\"psysml:6ad7aed3-e22d-47c2-b6cf-45fd0f629de6\" xlink:actuate=\"onRequest\" xlink:href=\"psysml:6ad7aed3-e22d-47c2-b6cf-45fd0f629de6\" xlink:show=\"new\" xlink:title=\"psysml:6ad7aed3-e22d-47c2-b6cf-45fd0f629de6\" xlink:type=\"simple\"><rect fill=\"#FFFFFF\" height=\"42.9375\" id=\"E7\" rx=\"10\" ry=\"10\" style=\"stroke: #383838; stroke-width: 1.5;\" width=\"60\" x=\"246\" y=\"178\"/><rect fill=\"#F8F8F8\" height=\"37.9375\" rx=\"10\" ry=\"10\" style=\"stroke: #F8F8F8; stroke-width: 1.5;\" width=\"60\" x=\"246\" y=\"178\"/><rect fill=\"#F8F8F8\" height=\"10\" style=\"stroke: #F8F8F8; stroke-width: 1.5;\" width=\"60\" x=\"246\" y=\"205.9375\"/><rect fill=\"none\" height=\"42.9375\" id=\"E7\" rx=\"10\" ry=\"10\" style=\"stroke: #383838; stroke-width: 1.5;\" width=\"60\" x=\"246\" y=\"178\"/><text fill=\"#000000\" font-family=\"sans-serif\" font-size=\"12\" font-style=\"italic\" lengthAdjust=\"spacingAndGlyphs\" textLength=\"53\" x=\"249.5\" y=\"194.1387\">«action»</text><text fill=\"#000000\" font-family=\"sans-serif\" font-size=\"12\" lengthAdjust=\"spacingAndGlyphs\" textLength=\"16\" x=\"268\" y=\"208.1074\">A3</text></a></g><!--MD5=[4d03bb2d0377dc85ccfab60ff574652b]\n",
       "link E2 to E4--><a href=\"psysml:07a447fb-7978-4e35-9306-ac5ec116db5d\" target=\"_top\" title=\"psysml:07a447fb-7978-4e35-9306-ac5ec116db5d\" xlink:actuate=\"onRequest\" xlink:href=\"psysml:07a447fb-7978-4e35-9306-ac5ec116db5d\" xlink:show=\"new\" xlink:title=\"psysml:07a447fb-7978-4e35-9306-ac5ec116db5d\" xlink:type=\"simple\"><path d=\"M204.45,86 C190.88,99.89 156.22,138.13 144,178 C132.04,217.01 144.31,264.27 154.48,292.83 \" fill=\"none\" id=\"E2-&gt;E4\" style=\"stroke: #383838; stroke-width: 1.0;\"/><polygon fill=\"#383838\" points=\"156.22,297.6,156.8939,287.7742,154.5067,292.9027,149.3782,290.5155,156.22,297.6\" style=\"stroke: #383838; stroke-width: 1.0;\"/><text fill=\"#000000\" font-family=\"sans-serif\" font-size=\"13\" lengthAdjust=\"spacingAndGlyphs\" textLength=\"55\" x=\"145\" y=\"204.0669\">[x == 1]</text><text fill=\"#000000\" font-family=\"sans-serif\" font-size=\"13\" lengthAdjust=\"spacingAndGlyphs\" textLength=\"7\" x=\"145.9198\" y=\"286.7919\">*</text></a><!--MD5=[dcad52bbbca2fe8adc741ce38b45dc12]\n",
       "link E2 to E5--><a href=\"psysml:f195b54a-5fed-403e-bb02-20f21e154f17\" target=\"_top\" title=\"psysml:f195b54a-5fed-403e-bb02-20f21e154f17\" xlink:actuate=\"onRequest\" xlink:href=\"psysml:f195b54a-5fed-403e-bb02-20f21e154f17\" xlink:show=\"new\" xlink:title=\"psysml:f195b54a-5fed-403e-bb02-20f21e154f17\" xlink:type=\"simple\"><path d=\"M210.67,90.83 C214.08,143.62 229.24,381.12 226,388 C220.27,400.19 209.98,410.45 199.48,418.47 \" fill=\"none\" id=\"E2-&gt;E5\" style=\"stroke: #383838; stroke-width: 1.0;\"/><polygon fill=\"#383838\" points=\"195.29,421.54,204.9073,419.4168,199.3138,418.5721,200.1586,412.9786,195.29,421.54\" style=\"stroke: #383838; stroke-width: 1.0;\"/><text fill=\"#000000\" font-family=\"sans-serif\" font-size=\"13\" lengthAdjust=\"spacingAndGlyphs\" textLength=\"44\" x=\"222\" y=\"264.0669\">[x &gt; 1]</text><text fill=\"#000000\" font-family=\"sans-serif\" font-size=\"13\" lengthAdjust=\"spacingAndGlyphs\" textLength=\"7\" x=\"203.1039\" y=\"412.7419\">*</text></a><!--MD5=[e3d2a08a9c9236652057e8ed0cbc9b62]\n",
       "link E2 to E7--><a href=\"psysml:15c91a99-d9b4-4320-8388-ef3655122685\" target=\"_top\" title=\"psysml:15c91a99-d9b4-4320-8388-ef3655122685\" xlink:actuate=\"onRequest\" xlink:href=\"psysml:15c91a99-d9b4-4320-8388-ef3655122685\" xlink:show=\"new\" xlink:title=\"psysml:15c91a99-d9b4-4320-8388-ef3655122685\" xlink:type=\"simple\"><path d=\"M210.1,91.71 C210.67,105.71 213.16,129.99 223,148 C228.29,157.68 236.08,166.6 244.08,174.17 \" fill=\"none\" id=\"E2-&gt;E7\" style=\"stroke: #383838; stroke-width: 1.0;\"/><polygon fill=\"#383838\" points=\"248.01,177.77,244.069,168.744,244.3207,174.3953,238.6694,174.6469,248.01,177.77\" style=\"stroke: #383838; stroke-width: 1.0;\"/><text fill=\"#000000\" font-family=\"sans-serif\" font-size=\"13\" lengthAdjust=\"spacingAndGlyphs\" textLength=\"7\" x=\"232.5471\" y=\"167.0076\">*</text></a><!--MD5=[583832df87f4419a098336a29a52fa00]\n",
       "link E7 to E2--><a href=\"psysml:c19c71e4-b628-4c9d-aa87-db03cc189a8f\" target=\"_top\" title=\"psysml:c19c71e4-b628-4c9d-aa87-db03cc189a8f\" xlink:actuate=\"onRequest\" xlink:href=\"psysml:c19c71e4-b628-4c9d-aa87-db03cc189a8f\" xlink:show=\"new\" xlink:title=\"psysml:c19c71e4-b628-4c9d-aa87-db03cc189a8f\" xlink:type=\"simple\"><path d=\"M264.3,177.59 C250.41,152.74 227.7,112.15 216.57,92.25 \" fill=\"none\" id=\"E7-&gt;E2\" style=\"stroke: #383838; stroke-width: 1.0;\"/><polygon fill=\"#383838\" points=\"214.13,87.88,215.0286,97.6878,216.5691,92.2447,222.0122,93.7852,214.13,87.88\" style=\"stroke: #383838; stroke-width: 1.0;\"/><text fill=\"#000000\" font-family=\"sans-serif\" font-size=\"13\" lengthAdjust=\"spacingAndGlyphs\" textLength=\"44\" x=\"247\" y=\"144.0669\">[x &gt; 0]</text><text fill=\"#000000\" font-family=\"sans-serif\" font-size=\"13\" lengthAdjust=\"spacingAndGlyphs\" textLength=\"7\" x=\"207.5946\" y=\"111.7074\">*</text></a><!--MD5=[2720a5a1f2c3fca2055b230370638851]\n",
       "link E2 to E3--><a href=\"psysml:6d6473c9-743e-4105-a2af-98d6bd8c1632\" target=\"_top\" title=\"psysml:6d6473c9-743e-4105-a2af-98d6bd8c1632\" xlink:actuate=\"onRequest\" xlink:href=\"psysml:6d6473c9-743e-4105-a2af-98d6bd8c1632\" xlink:show=\"new\" xlink:title=\"psysml:6d6473c9-743e-4105-a2af-98d6bd8c1632\" xlink:type=\"simple\"><path d=\"M201.9,83.58 C184.06,90.55 140.39,108.7 108,131 C82.49,148.57 56.88,174.67 43.84,188.71 \" fill=\"none\" id=\"E2-&gt;E3\" style=\"stroke: #383838; stroke-width: 1.0;\"/><polygon fill=\"#383838\" points=\"40.21,192.66,49.2443,188.738,43.5925,188.9778,43.3527,183.326,40.21,192.66\" style=\"stroke: #383838; stroke-width: 1.0;\"/><text fill=\"#000000\" font-family=\"sans-serif\" font-size=\"13\" lengthAdjust=\"spacingAndGlyphs\" textLength=\"7\" x=\"48.2668\" y=\"176.5238\">*</text></a><!--MD5=[af87c684e3b0d8be13c1a698a818ef1e]\n",
       "link E3 to E4--><a href=\"psysml:4dd56774-018b-4c8a-8121-2b3d6a9c557c\" target=\"_top\" title=\"psysml:4dd56774-018b-4c8a-8121-2b3d6a9c557c\" xlink:actuate=\"onRequest\" xlink:href=\"psysml:4dd56774-018b-4c8a-8121-2b3d6a9c557c\" xlink:show=\"new\" xlink:title=\"psysml:4dd56774-018b-4c8a-8121-2b3d6a9c557c\" xlink:type=\"simple\"><path d=\"M39.08,207.91 C46.63,221.15 63.87,249.24 84,268 C97.73,280.8 115.17,292.16 130.35,300.85 \" fill=\"none\" id=\"E3-&gt;E4\" style=\"stroke: #383838; stroke-width: 1.0;\"/><polygon fill=\"#383838\" points=\"134.98,303.46,129.0858,295.5696,130.6187,301.0148,125.1735,302.5477,134.98,303.46\" style=\"stroke: #383838; stroke-width: 1.0;\"/><text fill=\"#000000\" font-family=\"sans-serif\" font-size=\"13\" lengthAdjust=\"spacingAndGlyphs\" textLength=\"36\" x=\"85\" y=\"264.0669\">[true]</text><text fill=\"#000000\" font-family=\"sans-serif\" font-size=\"13\" lengthAdjust=\"spacingAndGlyphs\" textLength=\"7\" x=\"119.8095\" y=\"294.8128\">*</text></a><!--MD5=[0188b64bb0ae78505a997a81836e11e9]\n",
       "link E3 to E5--><a href=\"psysml:2f25c912-d622-4deb-be6f-2375e7caca37\" target=\"_top\" title=\"psysml:2f25c912-d622-4deb-be6f-2375e7caca37\" xlink:actuate=\"onRequest\" xlink:href=\"psysml:2f25c912-d622-4deb-be6f-2375e7caca37\" xlink:show=\"new\" xlink:title=\"psysml:2f25c912-d622-4deb-be6f-2375e7caca37\" xlink:type=\"simple\"><path d=\"M36.3,210.29 C39.76,234.03 50.73,296.03 76,341 C91.89,369.29 117.42,396.1 137.07,414.43 \" fill=\"none\" id=\"E3-&gt;E5\" style=\"stroke: #383838; stroke-width: 1.0;\"/><polygon fill=\"#383838\" points=\"140.92,417.98,137.0155,408.9382,137.2443,414.5904,131.5921,414.8192,140.92,417.98\" style=\"stroke: #383838; stroke-width: 1.0;\"/><text fill=\"#000000\" font-family=\"sans-serif\" font-size=\"13\" lengthAdjust=\"spacingAndGlyphs\" textLength=\"40\" x=\"77\" y=\"324.0669\">[false]</text><text fill=\"#000000\" font-family=\"sans-serif\" font-size=\"13\" lengthAdjust=\"spacingAndGlyphs\" textLength=\"7\" x=\"126.1631\" y=\"406.9125\">*</text></a><!--MD5=[1b7591eae5389033d8d09a9d6721a717]\n",
       "link E4 to E5--><a href=\"psysml:19ac739f-970e-4750-a1cd-14a3501dcfff\" target=\"_top\" title=\"psysml:19ac739f-970e-4750-a1cd-14a3501dcfff\" xlink:actuate=\"onRequest\" xlink:href=\"psysml:19ac739f-970e-4750-a1cd-14a3501dcfff\" xlink:show=\"new\" xlink:title=\"psysml:19ac739f-970e-4750-a1cd-14a3501dcfff\" xlink:type=\"simple\"><path d=\"M165,341.05 C165,360.9 165,391.02 165,412.52 \" fill=\"none\" id=\"E4-&gt;E5\" style=\"stroke: #383838; stroke-width: 1.0;\"/><polygon fill=\"#383838\" points=\"165,417.79,169,408.79,165,412.79,161,408.79,165,417.79\" style=\"stroke: #383838; stroke-width: 1.0;\"/><text fill=\"#000000\" font-family=\"sans-serif\" font-size=\"13\" lengthAdjust=\"spacingAndGlyphs\" textLength=\"55\" x=\"166\" y=\"384.0669\">[x == 0]</text><text fill=\"#000000\" font-family=\"sans-serif\" font-size=\"13\" lengthAdjust=\"spacingAndGlyphs\" textLength=\"7\" x=\"157.0594\" y=\"407.033\">*</text></a><!--MD5=[e7e8635df32017d25068568df542f11d]\n",
       "@startuml\r\n",
       "skinparam monochrome true\r\n",
       "skinparam classbackgroundcolor white\r\n",
       "skinparam shadowing false\r\n",
       "skinparam wrapWidth 300\r\n",
       "hide circle\r\n",
       "\r\n",
       "rec def \"DecisionTest\" as E1  <<(T,blue) action def>> [[psysml:ec9d2101-14b6-425a-8b3b-258973824e57 ]] {\r\n",
       "choice \"test x\" as E2  [[psysml:7b5c557c-0eca-43da-893a-884adf177ee9 ]] \r\n",
       "choice \"<s>noname</s>\" as E3  [[psysml:c8637911-bdae-488c-9ae7-71f0e05f074a ]] \r\n",
       "rec usage \"A1\" as E4  <<(T,blue) action>> [[psysml:2b21def1-54fd-4014-8db4-beef5c1da0f0 ]] {\r\n",
       "}\r\n",
       "\r\n",
       "rec usage \"A2\" as E5  <<(T,blue) action>> [[psysml:a7c18d95-cb4e-4d18-b7c9-a948ce4b9e35 ]] {\r\n",
       "}\r\n",
       "\r\n",
       "rec usage \"A3\" as E6  <<(T,blue) action>> [[psysml:6ad7aed3-e22d-47c2-b6cf-45fd0f629de6 ]] {\r\n",
       "}\r\n",
       "\r\n",
       "rec usage \"A3\" as E7  <<(T,blue) action>> [[psysml:6ad7aed3-e22d-47c2-b6cf-45fd0f629de6 ]] {\r\n",
       "}\r\n",
       "\r\n",
       "}\r\n",
       "\r\n",
       "E2  - -> \"*\"E4 [[psysml:07a447fb-7978-4e35-9306-ac5ec116db5d ]] : [x == 1]\r\n",
       "E2  - -> \"*\"E5 [[psysml:f195b54a-5fed-403e-bb02-20f21e154f17 ]] : [x > 1]\r\n",
       "E2  - -> \"*\"E7 [[psysml:15c91a99-d9b4-4320-8388-ef3655122685 ]] \r\n",
       "E2 - -> \"*\"E3 [[psysml:6d6473c9-743e-4105-a2af-98d6bd8c1632 ]] \r\n",
       "E3  - -> \"*\"E4 [[psysml:4dd56774-018b-4c8a-8121-2b3d6a9c557c ]] : [true]\r\n",
       "E3  - -> \"*\"E5 [[psysml:2f25c912-d622-4deb-be6f-2375e7caca37 ]] : [false]\r\n",
       "E4  - -> \"*\"E5 [[psysml:19ac739f-970e-4750-a1cd-14a3501dcfff ]] : [x == 0]\r\n",
       "E7  - -> \"*\"E2 [[psysml:c19c71e4-b628-4c9d-aa87-db03cc189a8f ]] : [x > 0]\r\n",
       "@enduml\r\n",
       "\n",
       "PlantUML version 1.2020.13(Sat Jun 13 12:26:38 UTC 2020)\n",
       "(EPL source distribution)\n",
       "Java Runtime: OpenJDK Runtime Environment\n",
       "JVM: OpenJDK 64-Bit Server VM\n",
       "Default Encoding: UTF-8\n",
       "Language: en\n",
       "Country: null\n",
       "--></g></svg>"
      ]
     },
     "execution_count": 37,
     "metadata": {},
     "output_type": "execute_result"
    }
   ],
   "source": [
    "%viz --style=\"DEFAULT\" --view=\"Default\" \"DecisionTest\""
   ]
  },
  {
   "cell_type": "code",
   "execution_count": 38,
   "id": "d8175da4",
   "metadata": {
    "execution": {
     "iopub.execute_input": "2021-10-03T08:29:02.938491Z",
     "iopub.status.busy": "2021-10-03T08:29:02.938081Z",
     "iopub.status.idle": "2021-10-03T08:29:02.990628Z",
     "shell.execute_reply": "2021-10-03T08:29:02.990247Z"
    }
   },
   "outputs": [
    {
     "data": {
      "image/svg+xml": [
       "<?xml version=\"1.0\" encoding=\"UTF-8\" standalone=\"no\"?><svg xmlns=\"http://www.w3.org/2000/svg\" xmlns:xlink=\"http://www.w3.org/1999/xlink\" contentScriptType=\"application/ecmascript\" contentStyleType=\"text/css\" height=\"228px\" preserveAspectRatio=\"none\" style=\"width:525px;height:228px;\" version=\"1.1\" viewBox=\"0 0 525 228\" width=\"525px\" zoomAndPan=\"magnify\"><defs/><g><!--MD5=[43c9051892ef23e1a46a86907403d788]\n",
       "class E1--><a href=\"psysml:ec9d2101-14b6-425a-8b3b-258973824e57\" target=\"_top\" title=\"psysml:ec9d2101-14b6-425a-8b3b-258973824e57\" xlink:actuate=\"onRequest\" xlink:href=\"psysml:ec9d2101-14b6-425a-8b3b-258973824e57\" xlink:show=\"new\" xlink:title=\"psysml:ec9d2101-14b6-425a-8b3b-258973824e57\" xlink:type=\"simple\"><rect fill=\"#FFFFFF\" height=\"105.1563\" id=\"E1\" style=\"stroke: #383838; stroke-width: 1.5;\" width=\"86\" x=\"308.5\" y=\"7\"/><text fill=\"#000000\" font-family=\"sans-serif\" font-size=\"12\" font-style=\"italic\" lengthAdjust=\"spacingAndGlyphs\" textLength=\"77\" x=\"313\" y=\"23.1387\">«action def»</text><text fill=\"#000000\" font-family=\"sans-serif\" font-size=\"12\" lengthAdjust=\"spacingAndGlyphs\" textLength=\"80\" x=\"311.5\" y=\"37.1074\">DecisionTest</text><line style=\"stroke: #383838; stroke-width: 1.5;\" x1=\"309.5\" x2=\"393.5\" y1=\"44.9375\" y2=\"44.9375\"/><text fill=\"#000000\" font-family=\"sans-serif\" font-size=\"11\" lengthAdjust=\"spacingAndGlyphs\" textLength=\"30\" x=\"314.5\" y=\"75.9526\">x= 1;</text><line style=\"stroke: #383838; stroke-width: 1.0;\" x1=\"309.5\" x2=\"324\" y1=\"59.3398\" y2=\"59.3398\"/><text fill=\"#000000\" font-family=\"sans-serif\" font-size=\"11\" lengthAdjust=\"spacingAndGlyphs\" textLength=\"55\" x=\"324\" y=\"62.6479\">attributes</text><line style=\"stroke: #383838; stroke-width: 1.0;\" x1=\"379\" x2=\"393.5\" y1=\"59.3398\" y2=\"59.3398\"/><text fill=\"#000000\" font-family=\"sans-serif\" font-size=\"11\" lengthAdjust=\"spacingAndGlyphs\" textLength=\"8\" x=\"314.5\" y=\"105.562\">S</text><line style=\"stroke: #383838; stroke-width: 1.0;\" x1=\"309.5\" x2=\"321\" y1=\"88.9492\" y2=\"88.9492\"/><text fill=\"#000000\" font-family=\"sans-serif\" font-size=\"11\" lengthAdjust=\"spacingAndGlyphs\" textLength=\"61\" x=\"321\" y=\"92.2573\">transitions</text><line style=\"stroke: #383838; stroke-width: 1.0;\" x1=\"382\" x2=\"393.5\" y1=\"88.9492\" y2=\"88.9492\"/></a><!--MD5=[b4997ac47864f28c2f74865a473b2911]\n",
       "class E2--><a href=\"psysml:7b5c557c-0eca-43da-893a-884adf177ee9\" target=\"_top\" title=\"psysml:7b5c557c-0eca-43da-893a-884adf177ee9\" xlink:actuate=\"onRequest\" xlink:href=\"psysml:7b5c557c-0eca-43da-893a-884adf177ee9\" xlink:show=\"new\" xlink:title=\"psysml:7b5c557c-0eca-43da-893a-884adf177ee9\" xlink:type=\"simple\"><rect fill=\"#FFFFFF\" height=\"45.9375\" id=\"E2\" rx=\"10\" ry=\"10\" style=\"stroke: #383838; stroke-width: 1.5;\" width=\"101\" x=\"7\" y=\"172\"/><text fill=\"#000000\" font-family=\"sans-serif\" font-size=\"12\" font-style=\"italic\" lengthAdjust=\"spacingAndGlyphs\" textLength=\"99\" x=\"8\" y=\"188.1387\">«decisionNode»</text><text fill=\"#000000\" font-family=\"sans-serif\" font-size=\"12\" lengthAdjust=\"spacingAndGlyphs\" textLength=\"35\" x=\"40\" y=\"202.1074\">test x</text><line style=\"stroke: #383838; stroke-width: 1.5;\" x1=\"8\" x2=\"107\" y1=\"209.9375\" y2=\"209.9375\"/></a><!--MD5=[09b614a08d8cba4a07c9adeb5e0fee81]\n",
       "class E3--><a href=\"psysml:c8637911-bdae-488c-9ae7-71f0e05f074a\" target=\"_top\" title=\"psysml:c8637911-bdae-488c-9ae7-71f0e05f074a\" xlink:actuate=\"onRequest\" xlink:href=\"psysml:c8637911-bdae-488c-9ae7-71f0e05f074a\" xlink:show=\"new\" xlink:title=\"psysml:c8637911-bdae-488c-9ae7-71f0e05f074a\" xlink:type=\"simple\"><rect fill=\"#FFFFFF\" height=\"45.9375\" id=\"E3\" rx=\"10\" ry=\"10\" style=\"stroke: #383838; stroke-width: 1.5;\" width=\"101\" x=\"143\" y=\"172\"/><text fill=\"#000000\" font-family=\"sans-serif\" font-size=\"12\" font-style=\"italic\" lengthAdjust=\"spacingAndGlyphs\" textLength=\"99\" x=\"144\" y=\"188.1387\">«decisionNode»</text><text fill=\"#000000\" font-family=\"sans-serif\" font-size=\"12\" lengthAdjust=\"spacingAndGlyphs\" text-decoration=\"line-through\" textLength=\"51\" x=\"168\" y=\"202.1074\">noname</text><line style=\"stroke: #383838; stroke-width: 1.5;\" x1=\"144\" x2=\"243\" y1=\"209.9375\" y2=\"209.9375\"/></a><!--MD5=[ebbe1d658d1005bcc118a6aa81145e00]\n",
       "class E4--><a href=\"psysml:2b21def1-54fd-4014-8db4-beef5c1da0f0\" target=\"_top\" title=\"psysml:2b21def1-54fd-4014-8db4-beef5c1da0f0\" xlink:actuate=\"onRequest\" xlink:href=\"psysml:2b21def1-54fd-4014-8db4-beef5c1da0f0\" xlink:show=\"new\" xlink:title=\"psysml:2b21def1-54fd-4014-8db4-beef5c1da0f0\" xlink:type=\"simple\"><rect fill=\"#FFFFFF\" height=\"45.9375\" id=\"E4\" rx=\"10\" ry=\"10\" style=\"stroke: #383838; stroke-width: 1.5;\" width=\"55\" x=\"279\" y=\"172\"/><text fill=\"#000000\" font-family=\"sans-serif\" font-size=\"12\" font-style=\"italic\" lengthAdjust=\"spacingAndGlyphs\" textLength=\"53\" x=\"280\" y=\"188.1387\">«action»</text><text fill=\"#000000\" font-family=\"sans-serif\" font-size=\"12\" lengthAdjust=\"spacingAndGlyphs\" textLength=\"16\" x=\"298.5\" y=\"202.1074\">A1</text><line style=\"stroke: #383838; stroke-width: 1.5;\" x1=\"280\" x2=\"333\" y1=\"209.9375\" y2=\"209.9375\"/></a><!--MD5=[270fce915f116d4de14055a7c1d9a0f3]\n",
       "class E5--><a href=\"psysml:a7c18d95-cb4e-4d18-b7c9-a948ce4b9e35\" target=\"_top\" title=\"psysml:a7c18d95-cb4e-4d18-b7c9-a948ce4b9e35\" xlink:actuate=\"onRequest\" xlink:href=\"psysml:a7c18d95-cb4e-4d18-b7c9-a948ce4b9e35\" xlink:show=\"new\" xlink:title=\"psysml:a7c18d95-cb4e-4d18-b7c9-a948ce4b9e35\" xlink:type=\"simple\"><rect fill=\"#FFFFFF\" height=\"45.9375\" id=\"E5\" rx=\"10\" ry=\"10\" style=\"stroke: #383838; stroke-width: 1.5;\" width=\"55\" x=\"369\" y=\"172\"/><text fill=\"#000000\" font-family=\"sans-serif\" font-size=\"12\" font-style=\"italic\" lengthAdjust=\"spacingAndGlyphs\" textLength=\"53\" x=\"370\" y=\"188.1387\">«action»</text><text fill=\"#000000\" font-family=\"sans-serif\" font-size=\"12\" lengthAdjust=\"spacingAndGlyphs\" textLength=\"16\" x=\"388.5\" y=\"202.1074\">A2</text><line style=\"stroke: #383838; stroke-width: 1.5;\" x1=\"370\" x2=\"423\" y1=\"209.9375\" y2=\"209.9375\"/></a><!--MD5=[60a26617385b1d2d0262a64233df1f8d]\n",
       "class E6--><a href=\"psysml:6ad7aed3-e22d-47c2-b6cf-45fd0f629de6\" target=\"_top\" title=\"psysml:6ad7aed3-e22d-47c2-b6cf-45fd0f629de6\" xlink:actuate=\"onRequest\" xlink:href=\"psysml:6ad7aed3-e22d-47c2-b6cf-45fd0f629de6\" xlink:show=\"new\" xlink:title=\"psysml:6ad7aed3-e22d-47c2-b6cf-45fd0f629de6\" xlink:type=\"simple\"><rect fill=\"#FFFFFF\" height=\"45.9375\" id=\"E6\" rx=\"10\" ry=\"10\" style=\"stroke: #383838; stroke-width: 1.5;\" width=\"55\" x=\"459\" y=\"172\"/><text fill=\"#000000\" font-family=\"sans-serif\" font-size=\"12\" font-style=\"italic\" lengthAdjust=\"spacingAndGlyphs\" textLength=\"53\" x=\"460\" y=\"188.1387\">«action»</text><text fill=\"#000000\" font-family=\"sans-serif\" font-size=\"12\" lengthAdjust=\"spacingAndGlyphs\" textLength=\"16\" x=\"478.5\" y=\"202.1074\">A3</text><line style=\"stroke: #383838; stroke-width: 1.5;\" x1=\"460\" x2=\"513\" y1=\"209.9375\" y2=\"209.9375\"/></a><!--MD5=[a523cb2a0b79ecf9065ad8783f96c320]\n",
       "reverse link E1 to E2--><a href=\"psysml:a3cf86ed-3d1a-4135-b385-a97024d6cab4\" target=\"_top\" title=\"psysml:a3cf86ed-3d1a-4135-b385-a97024d6cab4\" xlink:actuate=\"onRequest\" xlink:href=\"psysml:a3cf86ed-3d1a-4135-b385-a97024d6cab4\" xlink:show=\"new\" xlink:title=\"psysml:a3cf86ed-3d1a-4135-b385-a97024d6cab4\" xlink:type=\"simple\"><path d=\"M296.52,85.46 C241.75,110.33 158.47,148.15 106.07,171.95 \" fill=\"none\" id=\"E1&lt;-E2\" style=\"stroke: #383838; stroke-width: 1.0;\"/><polygon fill=\"#383838\" points=\"308.44,80.06,301.323,78.8988,297.5138,85.0217,304.6308,86.1829,308.44,80.06\" style=\"stroke: #383838; stroke-width: 1.0;\"/></a><!--MD5=[5d7b3810b1dd9b5164bea1151b29b665]\n",
       "reverse link E1 to E3--><a href=\"psysml:1909c977-6510-4eff-a578-3c7de40e7c8b\" target=\"_top\" title=\"psysml:1909c977-6510-4eff-a578-3c7de40e7c8b\" xlink:actuate=\"onRequest\" xlink:href=\"psysml:1909c977-6510-4eff-a578-3c7de40e7c8b\" xlink:show=\"new\" xlink:title=\"psysml:1909c977-6510-4eff-a578-3c7de40e7c8b\" xlink:type=\"simple\"><path d=\"M298.08,105.64 C271.7,127.93 241.06,153.82 219.79,171.79 \" fill=\"none\" id=\"E1&lt;-E3\" style=\"stroke: #383838; stroke-width: 1.0;\"/><polygon fill=\"#383838\" points=\"308.33,96.98,301.1646,97.7906,299.1569,104.7165,306.3223,103.906,308.33,96.98\" style=\"stroke: #383838; stroke-width: 1.0;\"/></a><!--MD5=[f2c5c03aa1e8c0ba21c10a05e6444b8e]\n",
       "reverse link E1 to E4--><a href=\"psysml:fda894ee-2ee4-49d0-993e-77e7f0096dce\" target=\"_top\" title=\"psysml:fda894ee-2ee4-49d0-993e-77e7f0096dce\" xlink:actuate=\"onRequest\" xlink:href=\"psysml:fda894ee-2ee4-49d0-993e-77e7f0096dce\" xlink:show=\"new\" xlink:title=\"psysml:fda894ee-2ee4-49d0-993e-77e7f0096dce\" xlink:type=\"simple\"><path d=\"M329.79,124.91 C324.1,141.78 318.35,158.85 313.98,171.8 \" fill=\"none\" id=\"E1&lt;-E4\" style=\"stroke: #383838; stroke-width: 1.0;\"/><polygon fill=\"#383838\" points=\"334.1,112.11,328.391,116.5154,330.2618,123.4796,335.9708,119.0742,334.1,112.11\" style=\"stroke: #383838; stroke-width: 1.0;\"/><text fill=\"#000000\" font-family=\"sans-serif\" font-size=\"13\" lengthAdjust=\"spacingAndGlyphs\" textLength=\"7\" x=\"307.9999\" y=\"161.025\">*</text></a><!--MD5=[33238bef88d6431a141d8bc8fb12bca0]\n",
       "reverse link E1 to E5--><a href=\"psysml:109468b3-506c-4497-b8ac-b8e68c843a0f\" target=\"_top\" title=\"psysml:109468b3-506c-4497-b8ac-b8e68c843a0f\" xlink:actuate=\"onRequest\" xlink:href=\"psysml:109468b3-506c-4497-b8ac-b8e68c843a0f\" xlink:show=\"new\" xlink:title=\"psysml:109468b3-506c-4497-b8ac-b8e68c843a0f\" xlink:type=\"simple\"><path d=\"M373.21,124.91 C378.9,141.78 384.65,158.85 389.02,171.8 \" fill=\"none\" id=\"E1&lt;-E5\" style=\"stroke: #383838; stroke-width: 1.0;\"/><polygon fill=\"#383838\" points=\"368.9,112.11,367.0292,119.0742,372.7382,123.4796,374.609,116.5154,368.9,112.11\" style=\"stroke: #383838; stroke-width: 1.0;\"/><text fill=\"#000000\" font-family=\"sans-serif\" font-size=\"13\" lengthAdjust=\"spacingAndGlyphs\" textLength=\"7\" x=\"379.2064\" y=\"161.025\">*</text></a><!--MD5=[aca2ef284c2b1b90e17e73bf3f292c07]\n",
       "reverse link E1 to E6--><a href=\"psysml:74d19cab-9a73-4108-b783-78a99b82b215\" target=\"_top\" title=\"psysml:74d19cab-9a73-4108-b783-78a99b82b215\" xlink:actuate=\"onRequest\" xlink:href=\"psysml:74d19cab-9a73-4108-b783-78a99b82b215\" xlink:show=\"new\" xlink:title=\"psysml:74d19cab-9a73-4108-b783-78a99b82b215\" xlink:type=\"simple\"><path d=\"M400.61,121.64 C420.11,141.2 441.74,161.41 458.63,175.48 \" fill=\"none\" id=\"E1&lt;-E6\" style=\"stroke: #383838; stroke-width: 1.0;\"/><polygon fill=\"#383838\" points=\"391.24,112.11,392.5992,119.1919,399.659,120.661,398.2999,113.5792,391.24,112.11\" style=\"stroke: #383838; stroke-width: 1.0;\"/><text fill=\"#000000\" font-family=\"sans-serif\" font-size=\"13\" lengthAdjust=\"spacingAndGlyphs\" textLength=\"7\" x=\"443.9836\" y=\"165.9846\">*</text></a><!--MD5=[aca2ef284c2b1b90e17e73bf3f292c07]\n",
       "reverse link E1 to E6--><a href=\"psysml:5ce6f7c0-8ea6-4680-8afe-13e322408ece\" target=\"_top\" title=\"psysml:5ce6f7c0-8ea6-4680-8afe-13e322408ece\" xlink:actuate=\"onRequest\" xlink:href=\"psysml:5ce6f7c0-8ea6-4680-8afe-13e322408ece\" xlink:show=\"new\" xlink:title=\"psysml:5ce6f7c0-8ea6-4680-8afe-13e322408ece\" xlink:type=\"simple\"><path d=\"M406.06,101.99 C431.04,125 458.31,152.7 474.29,171.66 \" fill=\"none\" id=\"E1&lt;-E6-1\" style=\"stroke: #383838; stroke-width: 1.0; stroke-dasharray: 7.0,7.0;\"/><ellipse cx=\"400.7216\" cy=\"97.1681\" fill=\"#FFFFFF\" rx=\"8\" ry=\"8\" style=\"stroke: #383838; stroke-width: 1.0;\"/><line style=\"stroke: #383838; stroke-width: 1.0;\" x1=\"406.6531\" x2=\"394.79\" y1=\"102.5362\" y2=\"91.8\"/><line style=\"stroke: #383838; stroke-width: 1.0;\" x1=\"395.3535\" x2=\"406.0897\" y1=\"103.0997\" y2=\"91.2365\"/><text fill=\"#000000\" font-family=\"sans-serif\" font-size=\"13\" lengthAdjust=\"spacingAndGlyphs\" textLength=\"7\" x=\"463.2643\" y=\"160.8492\">*</text></a><!--MD5=[70dcdb71e272b6e8f7c9ed4aaf94e1c3]\n",
       "@startuml\r\n",
       "skinparam monochrome true\r\n",
       "skinparam classbackgroundcolor white\r\n",
       "skinparam shadowing false\r\n",
       "skinparam wrapWidth 300\r\n",
       "hide circle\r\n",
       "\r\n",
       "comp def \"DecisionTest\" as E1  <<(T,blue) action def>> [[psysml:ec9d2101-14b6-425a-8b3b-258973824e57 ]] {\r\n",
       "- - attributes - -\r\n",
       "x= 1; \r\n",
       "- - transitions - -\r\n",
       "S\r\n",
       "}\r\n",
       "comp usage \"test x\" as E2  <<(T,blue) decisionNode>> [[psysml:7b5c557c-0eca-43da-893a-884adf177ee9 ]] {\r\n",
       "}\r\n",
       "comp usage \"<s>noname</s>\" as E3  <<(T,blue) decisionNode>> [[psysml:c8637911-bdae-488c-9ae7-71f0e05f074a ]] {\r\n",
       "}\r\n",
       "comp usage \"A1\" as E4  <<(T,blue) action>> [[psysml:2b21def1-54fd-4014-8db4-beef5c1da0f0 ]] {\r\n",
       "}\r\n",
       "comp usage \"A2\" as E5  <<(T,blue) action>> [[psysml:a7c18d95-cb4e-4d18-b7c9-a948ce4b9e35 ]] {\r\n",
       "}\r\n",
       "comp usage \"A3\" as E6  <<(T,blue) action>> [[psysml:6ad7aed3-e22d-47c2-b6cf-45fd0f629de6 ]] {\r\n",
       "}\r\n",
       "E1 *- - E2 [[psysml:a3cf86ed-3d1a-4135-b385-a97024d6cab4 ]] \r\n",
       "E1 *- - E3 [[psysml:1909c977-6510-4eff-a578-3c7de40e7c8b ]] \r\n",
       "E1 *- - \"*\"E4 [[psysml:fda894ee-2ee4-49d0-993e-77e7f0096dce ]] \r\n",
       "E1 *- - \"*\"E5 [[psysml:109468b3-506c-4497-b8ac-b8e68c843a0f ]] \r\n",
       "E1 *- - \"*\"E6 [[psysml:74d19cab-9a73-4108-b783-78a99b82b215 ]] \r\n",
       "E1 +.. \"*\"E6 [[psysml:5ce6f7c0-8ea6-4680-8afe-13e322408ece ]] \r\n",
       "@enduml\r\n",
       "\n",
       "PlantUML version 1.2020.13(Sat Jun 13 12:26:38 UTC 2020)\n",
       "(EPL source distribution)\n",
       "Java Runtime: OpenJDK Runtime Environment\n",
       "JVM: OpenJDK 64-Bit Server VM\n",
       "Default Encoding: UTF-8\n",
       "Language: en\n",
       "Country: null\n",
       "--></g></svg>"
      ]
     },
     "execution_count": 38,
     "metadata": {},
     "output_type": "execute_result"
    }
   ],
   "source": [
    "%viz --style=\"DEFAULT\" --view=\"Tree\" \"DecisionTest\""
   ]
  },
  {
   "cell_type": "code",
   "execution_count": 39,
   "id": "dceca521",
   "metadata": {
    "execution": {
     "iopub.execute_input": "2021-10-03T08:29:03.039595Z",
     "iopub.status.busy": "2021-10-03T08:29:03.039184Z",
     "iopub.status.idle": "2021-10-03T08:29:03.044749Z",
     "shell.execute_reply": "2021-10-03T08:29:03.044392Z"
    }
   },
   "outputs": [
    {
     "data": {
      "image/svg+xml": [
       "<?xml version=\"1.0\" encoding=\"UTF-8\" standalone=\"no\"?><svg xmlns=\"http://www.w3.org/2000/svg\" xmlns:xlink=\"http://www.w3.org/1999/xlink\" contentScriptType=\"application/ecmascript\" contentStyleType=\"text/css\" height=\"12px\" preserveAspectRatio=\"none\" style=\"width:12px;height:12px;\" version=\"1.1\" viewBox=\"0 0 12 12\" width=\"12px\" zoomAndPan=\"magnify\"><defs/><g><!--MD5=[c5f280e076d0d61ccf4b0f27871bda1d]\n",
       "@startuml\r\n",
       "skinparam monochrome true\r\n",
       "skinparam classbackgroundcolor white\r\n",
       "skinparam shadowing false\r\n",
       "skinparam wrapWidth 300\r\n",
       "hide circle\r\n",
       "\r\n",
       "@enduml\r\n",
       "\n",
       "PlantUML version 1.2020.13(Sat Jun 13 12:26:38 UTC 2020)\n",
       "(EPL source distribution)\n",
       "Java Runtime: OpenJDK Runtime Environment\n",
       "JVM: OpenJDK 64-Bit Server VM\n",
       "Default Encoding: UTF-8\n",
       "Language: en\n",
       "Country: null\n",
       "--></g></svg>"
      ]
     },
     "execution_count": 39,
     "metadata": {},
     "output_type": "execute_result"
    }
   ],
   "source": [
    "%viz --style=\"DEFAULT\" --view=\"State\" \"DecisionTest\""
   ]
  },
  {
   "cell_type": "code",
   "execution_count": 40,
   "id": "76f159ed",
   "metadata": {
    "execution": {
     "iopub.execute_input": "2021-10-03T08:29:03.094104Z",
     "iopub.status.busy": "2021-10-03T08:29:03.093697Z",
     "iopub.status.idle": "2021-10-03T08:29:03.132000Z",
     "shell.execute_reply": "2021-10-03T08:29:03.131583Z"
    }
   },
   "outputs": [
    {
     "data": {
      "image/svg+xml": [
       "<?xml version=\"1.0\" encoding=\"UTF-8\" standalone=\"no\"?><svg xmlns=\"http://www.w3.org/2000/svg\" xmlns:xlink=\"http://www.w3.org/1999/xlink\" contentScriptType=\"application/ecmascript\" contentStyleType=\"text/css\" height=\"356px\" preserveAspectRatio=\"none\" style=\"width:333px;height:356px;\" version=\"1.1\" viewBox=\"0 0 333 356\" width=\"333px\" zoomAndPan=\"magnify\"><defs/><g><!--MD5=[fbc87193dbaf4d95561dea2c320d4a47]\n",
       "cluster E1--><a href=\"psysml:ec9d2101-14b6-425a-8b3b-258973824e57\" target=\"_top\" title=\"psysml:ec9d2101-14b6-425a-8b3b-258973824e57\" xlink:actuate=\"onRequest\" xlink:href=\"psysml:ec9d2101-14b6-425a-8b3b-258973824e57\" xlink:show=\"new\" xlink:title=\"psysml:ec9d2101-14b6-425a-8b3b-258973824e57\" xlink:type=\"simple\"><rect fill=\"#FFFFFF\" height=\"338\" id=\"E1\" style=\"stroke: #383838; stroke-width: 1.5;\" width=\"315\" x=\"7\" y=\"7\"/><rect fill=\"#F8F8F8\" height=\"37.9375\" style=\"stroke: #383838; stroke-width: 1.5;\" width=\"315\" x=\"7\" y=\"7\"/><text fill=\"#000000\" font-family=\"sans-serif\" font-size=\"12\" font-style=\"italic\" lengthAdjust=\"spacingAndGlyphs\" textLength=\"77\" x=\"126\" y=\"23.1387\">«action def»</text><text fill=\"#000000\" font-family=\"sans-serif\" font-size=\"12\" lengthAdjust=\"spacingAndGlyphs\" textLength=\"80\" x=\"124.5\" y=\"37.1074\">DecisionTest</text></a><polygon fill=\"#F8F8F8\" points=\"210,67.5,222,79.5,210,91.5,198,79.5,210,67.5\" style=\"stroke: #383838; stroke-width: 1.5;\"/><polygon fill=\"#F8F8F8\" points=\"35,143.5,47,155.5,35,167.5,23,155.5,35,143.5\" style=\"stroke: #383838; stroke-width: 1.5;\"/><g id=\"E1.E4\"><a href=\"psysml:2b21def1-54fd-4014-8db4-beef5c1da0f0\" target=\"_top\" title=\"psysml:2b21def1-54fd-4014-8db4-beef5c1da0f0\" xlink:actuate=\"onRequest\" xlink:href=\"psysml:2b21def1-54fd-4014-8db4-beef5c1da0f0\" xlink:show=\"new\" xlink:title=\"psysml:2b21def1-54fd-4014-8db4-beef5c1da0f0\" xlink:type=\"simple\"><rect fill=\"#FFFFFF\" height=\"42.9375\" id=\"E4\" rx=\"10\" ry=\"10\" style=\"stroke: #383838; stroke-width: 1.5;\" width=\"60\" x=\"135\" y=\"210\"/><rect fill=\"#F8F8F8\" height=\"37.9375\" rx=\"10\" ry=\"10\" style=\"stroke: #F8F8F8; stroke-width: 1.5;\" width=\"60\" x=\"135\" y=\"210\"/><rect fill=\"#F8F8F8\" height=\"10\" style=\"stroke: #F8F8F8; stroke-width: 1.5;\" width=\"60\" x=\"135\" y=\"237.9375\"/><rect fill=\"none\" height=\"42.9375\" id=\"E4\" rx=\"10\" ry=\"10\" style=\"stroke: #383838; stroke-width: 1.5;\" width=\"60\" x=\"135\" y=\"210\"/><text fill=\"#000000\" font-family=\"sans-serif\" font-size=\"12\" font-style=\"italic\" lengthAdjust=\"spacingAndGlyphs\" textLength=\"53\" x=\"138.5\" y=\"226.1387\">«action»</text><text fill=\"#000000\" font-family=\"sans-serif\" font-size=\"12\" lengthAdjust=\"spacingAndGlyphs\" textLength=\"16\" x=\"157\" y=\"240.1074\">A1</text></a></g><g id=\"E1.E5\"><a href=\"psysml:a7c18d95-cb4e-4d18-b7c9-a948ce4b9e35\" target=\"_top\" title=\"psysml:a7c18d95-cb4e-4d18-b7c9-a948ce4b9e35\" xlink:actuate=\"onRequest\" xlink:href=\"psysml:a7c18d95-cb4e-4d18-b7c9-a948ce4b9e35\" xlink:show=\"new\" xlink:title=\"psysml:a7c18d95-cb4e-4d18-b7c9-a948ce4b9e35\" xlink:type=\"simple\"><rect fill=\"#FFFFFF\" height=\"42.9375\" id=\"E5\" rx=\"10\" ry=\"10\" style=\"stroke: #383838; stroke-width: 1.5;\" width=\"60\" x=\"135\" y=\"286\"/><rect fill=\"#F8F8F8\" height=\"37.9375\" rx=\"10\" ry=\"10\" style=\"stroke: #F8F8F8; stroke-width: 1.5;\" width=\"60\" x=\"135\" y=\"286\"/><rect fill=\"#F8F8F8\" height=\"10\" style=\"stroke: #F8F8F8; stroke-width: 1.5;\" width=\"60\" x=\"135\" y=\"313.9375\"/><rect fill=\"none\" height=\"42.9375\" id=\"E5\" rx=\"10\" ry=\"10\" style=\"stroke: #383838; stroke-width: 1.5;\" width=\"60\" x=\"135\" y=\"286\"/><text fill=\"#000000\" font-family=\"sans-serif\" font-size=\"12\" font-style=\"italic\" lengthAdjust=\"spacingAndGlyphs\" textLength=\"53\" x=\"138.5\" y=\"302.1387\">«action»</text><text fill=\"#000000\" font-family=\"sans-serif\" font-size=\"12\" lengthAdjust=\"spacingAndGlyphs\" textLength=\"16\" x=\"157\" y=\"316.1074\">A2</text></a></g><g id=\"E1.E6\"><a href=\"psysml:6ad7aed3-e22d-47c2-b6cf-45fd0f629de6\" target=\"_top\" title=\"psysml:6ad7aed3-e22d-47c2-b6cf-45fd0f629de6\" xlink:actuate=\"onRequest\" xlink:href=\"psysml:6ad7aed3-e22d-47c2-b6cf-45fd0f629de6\" xlink:show=\"new\" xlink:title=\"psysml:6ad7aed3-e22d-47c2-b6cf-45fd0f629de6\" xlink:type=\"simple\"><rect fill=\"#FFFFFF\" height=\"42.9375\" id=\"E6\" rx=\"10\" ry=\"10\" style=\"stroke: #383838; stroke-width: 1.5;\" width=\"60\" x=\"63\" y=\"58\"/><rect fill=\"#F8F8F8\" height=\"37.9375\" rx=\"10\" ry=\"10\" style=\"stroke: #F8F8F8; stroke-width: 1.5;\" width=\"60\" x=\"63\" y=\"58\"/><rect fill=\"#F8F8F8\" height=\"10\" style=\"stroke: #F8F8F8; stroke-width: 1.5;\" width=\"60\" x=\"63\" y=\"85.9375\"/><rect fill=\"none\" height=\"42.9375\" id=\"E6\" rx=\"10\" ry=\"10\" style=\"stroke: #383838; stroke-width: 1.5;\" width=\"60\" x=\"63\" y=\"58\"/><text fill=\"#000000\" font-family=\"sans-serif\" font-size=\"12\" font-style=\"italic\" lengthAdjust=\"spacingAndGlyphs\" textLength=\"53\" x=\"66.5\" y=\"74.1387\">«action»</text><text fill=\"#000000\" font-family=\"sans-serif\" font-size=\"12\" lengthAdjust=\"spacingAndGlyphs\" textLength=\"16\" x=\"85\" y=\"88.1074\">A3</text></a></g><g id=\"E1.E7\"><a href=\"psysml:6ad7aed3-e22d-47c2-b6cf-45fd0f629de6\" target=\"_top\" title=\"psysml:6ad7aed3-e22d-47c2-b6cf-45fd0f629de6\" xlink:actuate=\"onRequest\" xlink:href=\"psysml:6ad7aed3-e22d-47c2-b6cf-45fd0f629de6\" xlink:show=\"new\" xlink:title=\"psysml:6ad7aed3-e22d-47c2-b6cf-45fd0f629de6\" xlink:type=\"simple\"><rect fill=\"#FFFFFF\" height=\"42.9375\" id=\"E7\" rx=\"10\" ry=\"10\" style=\"stroke: #383838; stroke-width: 1.5;\" width=\"60\" x=\"246\" y=\"134\"/><rect fill=\"#F8F8F8\" height=\"37.9375\" rx=\"10\" ry=\"10\" style=\"stroke: #F8F8F8; stroke-width: 1.5;\" width=\"60\" x=\"246\" y=\"134\"/><rect fill=\"#F8F8F8\" height=\"10\" style=\"stroke: #F8F8F8; stroke-width: 1.5;\" width=\"60\" x=\"246\" y=\"161.9375\"/><rect fill=\"none\" height=\"42.9375\" id=\"E7\" rx=\"10\" ry=\"10\" style=\"stroke: #383838; stroke-width: 1.5;\" width=\"60\" x=\"246\" y=\"134\"/><text fill=\"#000000\" font-family=\"sans-serif\" font-size=\"12\" font-style=\"italic\" lengthAdjust=\"spacingAndGlyphs\" textLength=\"53\" x=\"249.5\" y=\"150.1387\">«action»</text><text fill=\"#000000\" font-family=\"sans-serif\" font-size=\"12\" lengthAdjust=\"spacingAndGlyphs\" textLength=\"16\" x=\"268\" y=\"164.1074\">A3</text></a></g><!--MD5=[4d03bb2d0377dc85ccfab60ff574652b]\n",
       "link E2 to E4--><a href=\"psysml:07a447fb-7978-4e35-9306-ac5ec116db5d\" target=\"_top\" title=\"psysml:07a447fb-7978-4e35-9306-ac5ec116db5d\" xlink:actuate=\"onRequest\" xlink:href=\"psysml:07a447fb-7978-4e35-9306-ac5ec116db5d\" xlink:show=\"new\" xlink:title=\"psysml:07a447fb-7978-4e35-9306-ac5ec116db5d\" xlink:type=\"simple\"><path d=\"M201.97,84.07 C187.22,91.12 156.19,108.44 144,134 C133.21,156.64 141.61,184.91 150.79,204.99 \" fill=\"none\" id=\"E2-&gt;E4\" style=\"stroke: #383838; stroke-width: 1.0;\"/><polygon fill=\"#383838\" points=\"153,209.65,152.7662,199.8039,150.8614,205.1304,145.5349,203.2257,153,209.65\" style=\"stroke: #383838; stroke-width: 1.0;\"/><text fill=\"#000000\" font-family=\"sans-serif\" font-size=\"13\" lengthAdjust=\"spacingAndGlyphs\" textLength=\"55\" x=\"145\" y=\"160.0669\">[x == 1]</text><text fill=\"#000000\" font-family=\"sans-serif\" font-size=\"13\" lengthAdjust=\"spacingAndGlyphs\" textLength=\"7\" x=\"141.8344\" y=\"198.8553\">*</text></a><!--MD5=[dcad52bbbca2fe8adc741ce38b45dc12]\n",
       "link E2 to E5--><a href=\"psysml:f195b54a-5fed-403e-bb02-20f21e154f17\" target=\"_top\" title=\"psysml:f195b54a-5fed-403e-bb02-20f21e154f17\" xlink:actuate=\"onRequest\" xlink:href=\"psysml:f195b54a-5fed-403e-bb02-20f21e154f17\" xlink:show=\"new\" xlink:title=\"psysml:f195b54a-5fed-403e-bb02-20f21e154f17\" xlink:type=\"simple\"><path d=\"M211.03,90.77 C214.33,123.83 224.51,227.37 226,261 C226.33,268.55 230.06,271.63 226,278 C220.01,287.41 210.02,293.76 199.83,298.03 \" fill=\"none\" id=\"E2-&gt;E5\" style=\"stroke: #383838; stroke-width: 1.0;\"/><polygon fill=\"#383838\" points=\"195.15,299.85,204.9881,300.3102,199.8089,298.035,202.0841,292.8559,195.15,299.85\" style=\"stroke: #383838; stroke-width: 1.0;\"/><text fill=\"#000000\" font-family=\"sans-serif\" font-size=\"13\" lengthAdjust=\"spacingAndGlyphs\" textLength=\"44\" x=\"222\" y=\"198.0669\">[x &gt; 1]</text><text fill=\"#000000\" font-family=\"sans-serif\" font-size=\"13\" lengthAdjust=\"spacingAndGlyphs\" textLength=\"7\" x=\"202.9316\" y=\"293.436\">*</text></a><!--MD5=[e3d2a08a9c9236652057e8ed0cbc9b62]\n",
       "link E2 to E7--><a href=\"psysml:15c91a99-d9b4-4320-8388-ef3655122685\" target=\"_top\" title=\"psysml:15c91a99-d9b4-4320-8388-ef3655122685\" xlink:actuate=\"onRequest\" xlink:href=\"psysml:15c91a99-d9b4-4320-8388-ef3655122685\" xlink:show=\"new\" xlink:title=\"psysml:15c91a99-d9b4-4320-8388-ef3655122685\" xlink:type=\"simple\"><path d=\"M210.68,90.95 C211.82,100.93 214.86,115.89 223,126 C227.84,132.02 234.31,136.94 241.06,140.89 \" fill=\"none\" id=\"E2-&gt;E7\" style=\"stroke: #383838; stroke-width: 1.0;\"/><polygon fill=\"#383838\" points=\"245.76,143.47,239.7851,135.6406,241.3738,141.0697,235.9446,142.6585,245.76,143.47\" style=\"stroke: #383838; stroke-width: 1.0;\"/><text fill=\"#000000\" font-family=\"sans-serif\" font-size=\"13\" lengthAdjust=\"spacingAndGlyphs\" textLength=\"7\" x=\"230.9576\" y=\"136.0432\">*</text></a><!--MD5=[583832df87f4419a098336a29a52fa00]\n",
       "link E7 to E2--><a href=\"psysml:c19c71e4-b628-4c9d-aa87-db03cc189a8f\" target=\"_top\" title=\"psysml:c19c71e4-b628-4c9d-aa87-db03cc189a8f\" xlink:actuate=\"onRequest\" xlink:href=\"psysml:c19c71e4-b628-4c9d-aa87-db03cc189a8f\" xlink:show=\"new\" xlink:title=\"psysml:c19c71e4-b628-4c9d-aa87-db03cc189a8f\" xlink:type=\"simple\"><path d=\"M257.61,133.88 C245.02,119.76 228.86,101.65 218.98,90.57 \" fill=\"none\" id=\"E7-&gt;E2\" style=\"stroke: #383838; stroke-width: 1.0;\"/><polygon fill=\"#383838\" points=\"215.4,86.56,218.3919,95.9434,218.7227,90.2963,224.3699,90.6271,215.4,86.56\" style=\"stroke: #383838; stroke-width: 1.0;\"/><text fill=\"#000000\" font-family=\"sans-serif\" font-size=\"13\" lengthAdjust=\"spacingAndGlyphs\" textLength=\"44\" x=\"249\" y=\"122.0669\">[x &gt; 0]</text><text fill=\"#000000\" font-family=\"sans-serif\" font-size=\"13\" lengthAdjust=\"spacingAndGlyphs\" textLength=\"7\" x=\"210.0625\" y=\"111.425\">*</text></a><!--MD5=[2720a5a1f2c3fca2055b230370638851]\n",
       "link E2 to E3--><a href=\"psysml:6d6473c9-743e-4105-a2af-98d6bd8c1632\" target=\"_top\" title=\"psysml:6d6473c9-743e-4105-a2af-98d6bd8c1632\" xlink:actuate=\"onRequest\" xlink:href=\"psysml:6d6473c9-743e-4105-a2af-98d6bd8c1632\" xlink:show=\"new\" xlink:title=\"psysml:6d6473c9-743e-4105-a2af-98d6bd8c1632\" xlink:type=\"simple\"><path d=\"M201.54,83.16 C188.57,87.22 162.96,95.08 141,101 C126.43,104.93 121.91,103.16 108,109 C84.25,118.97 59.36,136.17 45.65,146.32 \" fill=\"none\" id=\"E2-&gt;E3\" style=\"stroke: #383838; stroke-width: 1.0;\"/><polygon fill=\"#383838\" points=\"41.45,149.47,51.05,147.27,45.45,146.47,46.25,140.87,41.45,149.47\" style=\"stroke: #383838; stroke-width: 1.0;\"/><text fill=\"#000000\" font-family=\"sans-serif\" font-size=\"13\" lengthAdjust=\"spacingAndGlyphs\" textLength=\"7\" x=\"51.6488\" y=\"132.7367\">*</text></a><!--MD5=[af87c684e3b0d8be13c1a698a818ef1e]\n",
       "link E3 to E4--><a href=\"psysml:4dd56774-018b-4c8a-8121-2b3d6a9c557c\" target=\"_top\" title=\"psysml:4dd56774-018b-4c8a-8121-2b3d6a9c557c\" xlink:actuate=\"onRequest\" xlink:href=\"psysml:4dd56774-018b-4c8a-8121-2b3d6a9c557c\" xlink:show=\"new\" xlink:title=\"psysml:4dd56774-018b-4c8a-8121-2b3d6a9c557c\" xlink:type=\"simple\"><path d=\"M40.09,162.69 C48.35,172.37 65.62,191.11 84,202 C93.67,207.73 97.38,206.32 108,210 C115.1,212.46 122.69,215.15 129.93,217.74 \" fill=\"none\" id=\"E3-&gt;E4\" style=\"stroke: #383838; stroke-width: 1.0;\"/><polygon fill=\"#383838\" points=\"134.87,219.52,127.7488,212.7164,130.1636,217.832,125.048,220.2467,134.87,219.52\" style=\"stroke: #383838; stroke-width: 1.0;\"/><text fill=\"#000000\" font-family=\"sans-serif\" font-size=\"13\" lengthAdjust=\"spacingAndGlyphs\" textLength=\"36\" x=\"85\" y=\"198.0669\">[true]</text><text fill=\"#000000\" font-family=\"sans-serif\" font-size=\"13\" lengthAdjust=\"spacingAndGlyphs\" textLength=\"7\" x=\"120.0931\" y=\"212.1047\">*</text></a><!--MD5=[0188b64bb0ae78505a997a81836e11e9]\n",
       "link E3 to E5--><a href=\"psysml:2f25c912-d622-4deb-be6f-2375e7caca37\" target=\"_top\" title=\"psysml:2f25c912-d622-4deb-be6f-2375e7caca37\" xlink:actuate=\"onRequest\" xlink:href=\"psysml:2f25c912-d622-4deb-be6f-2375e7caca37\" xlink:show=\"new\" xlink:title=\"psysml:2f25c912-d622-4deb-be6f-2375e7caca37\" xlink:type=\"simple\"><path d=\"M36.91,165.76 C41.11,184.24 52.71,226.21 76,253 C90.72,269.93 112.16,283.05 130.31,292.05 \" fill=\"none\" id=\"E3-&gt;E5\" style=\"stroke: #383838; stroke-width: 1.0;\"/><polygon fill=\"#383838\" points=\"134.85,294.25,128.4921,286.7283,130.3496,292.0714,125.0064,293.9289,134.85,294.25\" style=\"stroke: #383838; stroke-width: 1.0;\"/><text fill=\"#000000\" font-family=\"sans-serif\" font-size=\"13\" lengthAdjust=\"spacingAndGlyphs\" textLength=\"40\" x=\"77\" y=\"236.0669\">[false]</text><text fill=\"#000000\" font-family=\"sans-serif\" font-size=\"13\" lengthAdjust=\"spacingAndGlyphs\" textLength=\"7\" x=\"120.0684\" y=\"286.541\">*</text></a><!--MD5=[1b7591eae5389033d8d09a9d6721a717]\n",
       "link E4 to E5--><a href=\"psysml:19ac739f-970e-4750-a1cd-14a3501dcfff\" target=\"_top\" title=\"psysml:19ac739f-970e-4750-a1cd-14a3501dcfff\" xlink:actuate=\"onRequest\" xlink:href=\"psysml:19ac739f-970e-4750-a1cd-14a3501dcfff\" xlink:show=\"new\" xlink:title=\"psysml:19ac739f-970e-4750-a1cd-14a3501dcfff\" xlink:type=\"simple\"><path d=\"M165,253.11 C165,261.69 165,271.75 165,280.8 \" fill=\"none\" id=\"E4-&gt;E5\" style=\"stroke: #383838; stroke-width: 1.0;\"/><polygon fill=\"#383838\" points=\"165,286,169,277,165,281,161,277,165,286\" style=\"stroke: #383838; stroke-width: 1.0;\"/><text fill=\"#000000\" font-family=\"sans-serif\" font-size=\"13\" lengthAdjust=\"spacingAndGlyphs\" textLength=\"55\" x=\"166\" y=\"274.0669\">[x == 0]</text><text fill=\"#000000\" font-family=\"sans-serif\" font-size=\"13\" lengthAdjust=\"spacingAndGlyphs\" textLength=\"7\" x=\"157.0156\" y=\"274.9381\">*</text></a><!--MD5=[40d7d9ec355a7b420ed48ecf01471d5b]\n",
       "@startuml\r\n",
       "skinparam ranksep 10\r\n",
       "skinparam rectangle {\r\n",
       " backgroundColor<<block>> LightGreen\r\n",
       "}\r\n",
       "skinparam monochrome true\r\n",
       "skinparam classbackgroundcolor white\r\n",
       "skinparam shadowing false\r\n",
       "skinparam wrapWidth 300\r\n",
       "hide circle\r\n",
       "\r\n",
       "rec def \"DecisionTest\" as E1  <<(T,blue) action def>> [[psysml:ec9d2101-14b6-425a-8b3b-258973824e57 ]] {\r\n",
       "choice \"test x\" as E2  [[psysml:7b5c557c-0eca-43da-893a-884adf177ee9 ]] \r\n",
       "choice \"<s>noname</s>\" as E3  [[psysml:c8637911-bdae-488c-9ae7-71f0e05f074a ]] \r\n",
       "rec usage \"A1\" as E4  <<(T,blue) action>> [[psysml:2b21def1-54fd-4014-8db4-beef5c1da0f0 ]] {\r\n",
       "}\r\n",
       "\r\n",
       "rec usage \"A2\" as E5  <<(T,blue) action>> [[psysml:a7c18d95-cb4e-4d18-b7c9-a948ce4b9e35 ]] {\r\n",
       "}\r\n",
       "\r\n",
       "rec usage \"A3\" as E6  <<(T,blue) action>> [[psysml:6ad7aed3-e22d-47c2-b6cf-45fd0f629de6 ]] {\r\n",
       "}\r\n",
       "\r\n",
       "rec usage \"A3\" as E7  <<(T,blue) action>> [[psysml:6ad7aed3-e22d-47c2-b6cf-45fd0f629de6 ]] {\r\n",
       "}\r\n",
       "\r\n",
       "}\r\n",
       "\r\n",
       "E2  - -> \"*\"E4 [[psysml:07a447fb-7978-4e35-9306-ac5ec116db5d ]] : [x == 1]\r\n",
       "E2  - -> \"*\"E5 [[psysml:f195b54a-5fed-403e-bb02-20f21e154f17 ]] : [x > 1]\r\n",
       "E2  - -> \"*\"E7 [[psysml:15c91a99-d9b4-4320-8388-ef3655122685 ]] \r\n",
       "E2 - -> \"*\"E3 [[psysml:6d6473c9-743e-4105-a2af-98d6bd8c1632 ]] \r\n",
       "E3  - -> \"*\"E4 [[psysml:4dd56774-018b-4c8a-8121-2b3d6a9c557c ]] : [true]\r\n",
       "E3  - -> \"*\"E5 [[psysml:2f25c912-d622-4deb-be6f-2375e7caca37 ]] : [false]\r\n",
       "E4  - -> \"*\"E5 [[psysml:19ac739f-970e-4750-a1cd-14a3501dcfff ]] : [x == 0]\r\n",
       "E7  - -> \"*\"E2 [[psysml:c19c71e4-b628-4c9d-aa87-db03cc189a8f ]] : [x > 0]\r\n",
       "@enduml\r\n",
       "\n",
       "PlantUML version 1.2020.13(Sat Jun 13 12:26:38 UTC 2020)\n",
       "(EPL source distribution)\n",
       "Java Runtime: OpenJDK Runtime Environment\n",
       "JVM: OpenJDK 64-Bit Server VM\n",
       "Default Encoding: UTF-8\n",
       "Language: en\n",
       "Country: null\n",
       "--></g></svg>"
      ]
     },
     "execution_count": 40,
     "metadata": {},
     "output_type": "execute_result"
    }
   ],
   "source": [
    "%viz --style=\"DEFAULT\" --view=\"Interconnection\" \"DecisionTest\""
   ]
  },
  {
   "cell_type": "code",
   "execution_count": 41,
   "id": "e120801b",
   "metadata": {
    "execution": {
     "iopub.execute_input": "2021-10-03T08:29:03.180912Z",
     "iopub.status.busy": "2021-10-03T08:29:03.180508Z",
     "iopub.status.idle": "2021-10-03T08:29:03.215876Z",
     "shell.execute_reply": "2021-10-03T08:29:03.213995Z"
    }
   },
   "outputs": [
    {
     "data": {
      "image/svg+xml": [
       "<?xml version=\"1.0\" encoding=\"UTF-8\" standalone=\"no\"?><svg xmlns=\"http://www.w3.org/2000/svg\" xmlns:xlink=\"http://www.w3.org/1999/xlink\" contentScriptType=\"application/ecmascript\" contentStyleType=\"text/css\" height=\"356px\" preserveAspectRatio=\"none\" style=\"width:333px;height:356px;\" version=\"1.1\" viewBox=\"0 0 333 356\" width=\"333px\" zoomAndPan=\"magnify\"><defs/><g><!--MD5=[fbc87193dbaf4d95561dea2c320d4a47]\n",
       "cluster E1--><a href=\"psysml:ec9d2101-14b6-425a-8b3b-258973824e57\" target=\"_top\" title=\"psysml:ec9d2101-14b6-425a-8b3b-258973824e57\" xlink:actuate=\"onRequest\" xlink:href=\"psysml:ec9d2101-14b6-425a-8b3b-258973824e57\" xlink:show=\"new\" xlink:title=\"psysml:ec9d2101-14b6-425a-8b3b-258973824e57\" xlink:type=\"simple\"><rect fill=\"#FFFFFF\" height=\"338\" id=\"E1\" style=\"stroke: #383838; stroke-width: 1.5;\" width=\"315\" x=\"7\" y=\"7\"/><rect fill=\"#F8F8F8\" height=\"37.9375\" style=\"stroke: #383838; stroke-width: 1.5;\" width=\"315\" x=\"7\" y=\"7\"/><text fill=\"#000000\" font-family=\"sans-serif\" font-size=\"12\" font-style=\"italic\" lengthAdjust=\"spacingAndGlyphs\" textLength=\"77\" x=\"126\" y=\"23.1387\">«action def»</text><text fill=\"#000000\" font-family=\"sans-serif\" font-size=\"12\" lengthAdjust=\"spacingAndGlyphs\" textLength=\"80\" x=\"124.5\" y=\"37.1074\">DecisionTest</text></a><polygon fill=\"#F8F8F8\" points=\"210,67.5,222,79.5,210,91.5,198,79.5,210,67.5\" style=\"stroke: #383838; stroke-width: 1.5;\"/><polygon fill=\"#F8F8F8\" points=\"35,143.5,47,155.5,35,167.5,23,155.5,35,143.5\" style=\"stroke: #383838; stroke-width: 1.5;\"/><g id=\"E1.E4\"><a href=\"psysml:2b21def1-54fd-4014-8db4-beef5c1da0f0\" target=\"_top\" title=\"psysml:2b21def1-54fd-4014-8db4-beef5c1da0f0\" xlink:actuate=\"onRequest\" xlink:href=\"psysml:2b21def1-54fd-4014-8db4-beef5c1da0f0\" xlink:show=\"new\" xlink:title=\"psysml:2b21def1-54fd-4014-8db4-beef5c1da0f0\" xlink:type=\"simple\"><rect fill=\"#FFFFFF\" height=\"42.9375\" id=\"E4\" rx=\"10\" ry=\"10\" style=\"stroke: #383838; stroke-width: 1.5;\" width=\"60\" x=\"135\" y=\"210\"/><rect fill=\"#F8F8F8\" height=\"37.9375\" rx=\"10\" ry=\"10\" style=\"stroke: #F8F8F8; stroke-width: 1.5;\" width=\"60\" x=\"135\" y=\"210\"/><rect fill=\"#F8F8F8\" height=\"10\" style=\"stroke: #F8F8F8; stroke-width: 1.5;\" width=\"60\" x=\"135\" y=\"237.9375\"/><rect fill=\"none\" height=\"42.9375\" id=\"E4\" rx=\"10\" ry=\"10\" style=\"stroke: #383838; stroke-width: 1.5;\" width=\"60\" x=\"135\" y=\"210\"/><text fill=\"#000000\" font-family=\"sans-serif\" font-size=\"12\" font-style=\"italic\" lengthAdjust=\"spacingAndGlyphs\" textLength=\"53\" x=\"138.5\" y=\"226.1387\">«action»</text><text fill=\"#000000\" font-family=\"sans-serif\" font-size=\"12\" lengthAdjust=\"spacingAndGlyphs\" textLength=\"16\" x=\"157\" y=\"240.1074\">A1</text></a></g><g id=\"E1.E5\"><a href=\"psysml:a7c18d95-cb4e-4d18-b7c9-a948ce4b9e35\" target=\"_top\" title=\"psysml:a7c18d95-cb4e-4d18-b7c9-a948ce4b9e35\" xlink:actuate=\"onRequest\" xlink:href=\"psysml:a7c18d95-cb4e-4d18-b7c9-a948ce4b9e35\" xlink:show=\"new\" xlink:title=\"psysml:a7c18d95-cb4e-4d18-b7c9-a948ce4b9e35\" xlink:type=\"simple\"><rect fill=\"#FFFFFF\" height=\"42.9375\" id=\"E5\" rx=\"10\" ry=\"10\" style=\"stroke: #383838; stroke-width: 1.5;\" width=\"60\" x=\"135\" y=\"286\"/><rect fill=\"#F8F8F8\" height=\"37.9375\" rx=\"10\" ry=\"10\" style=\"stroke: #F8F8F8; stroke-width: 1.5;\" width=\"60\" x=\"135\" y=\"286\"/><rect fill=\"#F8F8F8\" height=\"10\" style=\"stroke: #F8F8F8; stroke-width: 1.5;\" width=\"60\" x=\"135\" y=\"313.9375\"/><rect fill=\"none\" height=\"42.9375\" id=\"E5\" rx=\"10\" ry=\"10\" style=\"stroke: #383838; stroke-width: 1.5;\" width=\"60\" x=\"135\" y=\"286\"/><text fill=\"#000000\" font-family=\"sans-serif\" font-size=\"12\" font-style=\"italic\" lengthAdjust=\"spacingAndGlyphs\" textLength=\"53\" x=\"138.5\" y=\"302.1387\">«action»</text><text fill=\"#000000\" font-family=\"sans-serif\" font-size=\"12\" lengthAdjust=\"spacingAndGlyphs\" textLength=\"16\" x=\"157\" y=\"316.1074\">A2</text></a></g><g id=\"E1.E6\"><a href=\"psysml:6ad7aed3-e22d-47c2-b6cf-45fd0f629de6\" target=\"_top\" title=\"psysml:6ad7aed3-e22d-47c2-b6cf-45fd0f629de6\" xlink:actuate=\"onRequest\" xlink:href=\"psysml:6ad7aed3-e22d-47c2-b6cf-45fd0f629de6\" xlink:show=\"new\" xlink:title=\"psysml:6ad7aed3-e22d-47c2-b6cf-45fd0f629de6\" xlink:type=\"simple\"><rect fill=\"#FFFFFF\" height=\"42.9375\" id=\"E6\" rx=\"10\" ry=\"10\" style=\"stroke: #383838; stroke-width: 1.5;\" width=\"60\" x=\"63\" y=\"58\"/><rect fill=\"#F8F8F8\" height=\"37.9375\" rx=\"10\" ry=\"10\" style=\"stroke: #F8F8F8; stroke-width: 1.5;\" width=\"60\" x=\"63\" y=\"58\"/><rect fill=\"#F8F8F8\" height=\"10\" style=\"stroke: #F8F8F8; stroke-width: 1.5;\" width=\"60\" x=\"63\" y=\"85.9375\"/><rect fill=\"none\" height=\"42.9375\" id=\"E6\" rx=\"10\" ry=\"10\" style=\"stroke: #383838; stroke-width: 1.5;\" width=\"60\" x=\"63\" y=\"58\"/><text fill=\"#000000\" font-family=\"sans-serif\" font-size=\"12\" font-style=\"italic\" lengthAdjust=\"spacingAndGlyphs\" textLength=\"53\" x=\"66.5\" y=\"74.1387\">«action»</text><text fill=\"#000000\" font-family=\"sans-serif\" font-size=\"12\" lengthAdjust=\"spacingAndGlyphs\" textLength=\"16\" x=\"85\" y=\"88.1074\">A3</text></a></g><g id=\"E1.E7\"><a href=\"psysml:6ad7aed3-e22d-47c2-b6cf-45fd0f629de6\" target=\"_top\" title=\"psysml:6ad7aed3-e22d-47c2-b6cf-45fd0f629de6\" xlink:actuate=\"onRequest\" xlink:href=\"psysml:6ad7aed3-e22d-47c2-b6cf-45fd0f629de6\" xlink:show=\"new\" xlink:title=\"psysml:6ad7aed3-e22d-47c2-b6cf-45fd0f629de6\" xlink:type=\"simple\"><rect fill=\"#FFFFFF\" height=\"42.9375\" id=\"E7\" rx=\"10\" ry=\"10\" style=\"stroke: #383838; stroke-width: 1.5;\" width=\"60\" x=\"246\" y=\"134\"/><rect fill=\"#F8F8F8\" height=\"37.9375\" rx=\"10\" ry=\"10\" style=\"stroke: #F8F8F8; stroke-width: 1.5;\" width=\"60\" x=\"246\" y=\"134\"/><rect fill=\"#F8F8F8\" height=\"10\" style=\"stroke: #F8F8F8; stroke-width: 1.5;\" width=\"60\" x=\"246\" y=\"161.9375\"/><rect fill=\"none\" height=\"42.9375\" id=\"E7\" rx=\"10\" ry=\"10\" style=\"stroke: #383838; stroke-width: 1.5;\" width=\"60\" x=\"246\" y=\"134\"/><text fill=\"#000000\" font-family=\"sans-serif\" font-size=\"12\" font-style=\"italic\" lengthAdjust=\"spacingAndGlyphs\" textLength=\"53\" x=\"249.5\" y=\"150.1387\">«action»</text><text fill=\"#000000\" font-family=\"sans-serif\" font-size=\"12\" lengthAdjust=\"spacingAndGlyphs\" textLength=\"16\" x=\"268\" y=\"164.1074\">A3</text></a></g><!--MD5=[4d03bb2d0377dc85ccfab60ff574652b]\n",
       "link E2 to E4--><a href=\"psysml:07a447fb-7978-4e35-9306-ac5ec116db5d\" target=\"_top\" title=\"psysml:07a447fb-7978-4e35-9306-ac5ec116db5d\" xlink:actuate=\"onRequest\" xlink:href=\"psysml:07a447fb-7978-4e35-9306-ac5ec116db5d\" xlink:show=\"new\" xlink:title=\"psysml:07a447fb-7978-4e35-9306-ac5ec116db5d\" xlink:type=\"simple\"><path d=\"M201.97,84.07 C187.22,91.12 156.19,108.44 144,134 C133.21,156.64 141.61,184.91 150.79,204.99 \" fill=\"none\" id=\"E2-&gt;E4\" style=\"stroke: #383838; stroke-width: 1.0; stroke-dasharray: 7.0,7.0;\"/><polygon fill=\"#383838\" points=\"153,209.65,152.7662,199.8039,150.8614,205.1304,145.5349,203.2257,153,209.65\" style=\"stroke: #383838; stroke-width: 1.0;\"/><text fill=\"#000000\" font-family=\"sans-serif\" font-size=\"13\" lengthAdjust=\"spacingAndGlyphs\" textLength=\"55\" x=\"145\" y=\"160.0669\">[x == 1]</text></a><!--MD5=[dcad52bbbca2fe8adc741ce38b45dc12]\n",
       "link E2 to E5--><a href=\"psysml:f195b54a-5fed-403e-bb02-20f21e154f17\" target=\"_top\" title=\"psysml:f195b54a-5fed-403e-bb02-20f21e154f17\" xlink:actuate=\"onRequest\" xlink:href=\"psysml:f195b54a-5fed-403e-bb02-20f21e154f17\" xlink:show=\"new\" xlink:title=\"psysml:f195b54a-5fed-403e-bb02-20f21e154f17\" xlink:type=\"simple\"><path d=\"M211.03,90.77 C214.33,123.83 224.51,227.37 226,261 C226.33,268.55 230.06,271.63 226,278 C220.01,287.41 210.02,293.76 199.83,298.03 \" fill=\"none\" id=\"E2-&gt;E5\" style=\"stroke: #383838; stroke-width: 1.0; stroke-dasharray: 7.0,7.0;\"/><polygon fill=\"#383838\" points=\"195.15,299.85,204.9881,300.3102,199.8089,298.035,202.0841,292.8559,195.15,299.85\" style=\"stroke: #383838; stroke-width: 1.0;\"/><text fill=\"#000000\" font-family=\"sans-serif\" font-size=\"13\" lengthAdjust=\"spacingAndGlyphs\" textLength=\"44\" x=\"222\" y=\"198.0669\">[x &gt; 1]</text></a><!--MD5=[e3d2a08a9c9236652057e8ed0cbc9b62]\n",
       "link E2 to E7--><a href=\"psysml:15c91a99-d9b4-4320-8388-ef3655122685\" target=\"_top\" title=\"psysml:15c91a99-d9b4-4320-8388-ef3655122685\" xlink:actuate=\"onRequest\" xlink:href=\"psysml:15c91a99-d9b4-4320-8388-ef3655122685\" xlink:show=\"new\" xlink:title=\"psysml:15c91a99-d9b4-4320-8388-ef3655122685\" xlink:type=\"simple\"><path d=\"M210.68,90.95 C211.82,100.93 214.86,115.89 223,126 C227.84,132.02 234.31,136.94 241.06,140.89 \" fill=\"none\" id=\"E2-&gt;E7\" style=\"stroke: #383838; stroke-width: 1.0; stroke-dasharray: 7.0,7.0;\"/><polygon fill=\"#383838\" points=\"245.76,143.47,239.7851,135.6406,241.3738,141.0697,235.9446,142.6585,245.76,143.47\" style=\"stroke: #383838; stroke-width: 1.0;\"/></a><!--MD5=[583832df87f4419a098336a29a52fa00]\n",
       "link E7 to E2--><a href=\"psysml:c19c71e4-b628-4c9d-aa87-db03cc189a8f\" target=\"_top\" title=\"psysml:c19c71e4-b628-4c9d-aa87-db03cc189a8f\" xlink:actuate=\"onRequest\" xlink:href=\"psysml:c19c71e4-b628-4c9d-aa87-db03cc189a8f\" xlink:show=\"new\" xlink:title=\"psysml:c19c71e4-b628-4c9d-aa87-db03cc189a8f\" xlink:type=\"simple\"><path d=\"M257.61,133.88 C245.02,119.76 228.86,101.65 218.98,90.57 \" fill=\"none\" id=\"E7-&gt;E2\" style=\"stroke: #383838; stroke-width: 1.0; stroke-dasharray: 7.0,7.0;\"/><polygon fill=\"#383838\" points=\"215.4,86.56,218.3919,95.9434,218.7227,90.2963,224.3699,90.6271,215.4,86.56\" style=\"stroke: #383838; stroke-width: 1.0;\"/><text fill=\"#000000\" font-family=\"sans-serif\" font-size=\"13\" lengthAdjust=\"spacingAndGlyphs\" textLength=\"44\" x=\"249\" y=\"122.0669\">[x &gt; 0]</text></a><!--MD5=[2720a5a1f2c3fca2055b230370638851]\n",
       "link E2 to E3--><a href=\"psysml:6d6473c9-743e-4105-a2af-98d6bd8c1632\" target=\"_top\" title=\"psysml:6d6473c9-743e-4105-a2af-98d6bd8c1632\" xlink:actuate=\"onRequest\" xlink:href=\"psysml:6d6473c9-743e-4105-a2af-98d6bd8c1632\" xlink:show=\"new\" xlink:title=\"psysml:6d6473c9-743e-4105-a2af-98d6bd8c1632\" xlink:type=\"simple\"><path d=\"M201.54,83.16 C188.57,87.22 162.96,95.08 141,101 C126.43,104.93 121.91,103.16 108,109 C84.25,118.97 59.36,136.17 45.65,146.32 \" fill=\"none\" id=\"E2-&gt;E3\" style=\"stroke: #383838; stroke-width: 1.0; stroke-dasharray: 7.0,7.0;\"/><polygon fill=\"#383838\" points=\"41.45,149.47,51.05,147.27,45.45,146.47,46.25,140.87,41.45,149.47\" style=\"stroke: #383838; stroke-width: 1.0;\"/></a><!--MD5=[af87c684e3b0d8be13c1a698a818ef1e]\n",
       "link E3 to E4--><a href=\"psysml:4dd56774-018b-4c8a-8121-2b3d6a9c557c\" target=\"_top\" title=\"psysml:4dd56774-018b-4c8a-8121-2b3d6a9c557c\" xlink:actuate=\"onRequest\" xlink:href=\"psysml:4dd56774-018b-4c8a-8121-2b3d6a9c557c\" xlink:show=\"new\" xlink:title=\"psysml:4dd56774-018b-4c8a-8121-2b3d6a9c557c\" xlink:type=\"simple\"><path d=\"M40.09,162.69 C48.35,172.37 65.62,191.11 84,202 C93.67,207.73 97.38,206.32 108,210 C115.1,212.46 122.69,215.15 129.93,217.74 \" fill=\"none\" id=\"E3-&gt;E4\" style=\"stroke: #383838; stroke-width: 1.0; stroke-dasharray: 7.0,7.0;\"/><polygon fill=\"#383838\" points=\"134.87,219.52,127.7488,212.7164,130.1636,217.832,125.048,220.2467,134.87,219.52\" style=\"stroke: #383838; stroke-width: 1.0;\"/><text fill=\"#000000\" font-family=\"sans-serif\" font-size=\"13\" lengthAdjust=\"spacingAndGlyphs\" textLength=\"36\" x=\"85\" y=\"198.0669\">[true]</text></a><!--MD5=[0188b64bb0ae78505a997a81836e11e9]\n",
       "link E3 to E5--><a href=\"psysml:2f25c912-d622-4deb-be6f-2375e7caca37\" target=\"_top\" title=\"psysml:2f25c912-d622-4deb-be6f-2375e7caca37\" xlink:actuate=\"onRequest\" xlink:href=\"psysml:2f25c912-d622-4deb-be6f-2375e7caca37\" xlink:show=\"new\" xlink:title=\"psysml:2f25c912-d622-4deb-be6f-2375e7caca37\" xlink:type=\"simple\"><path d=\"M36.91,165.76 C41.11,184.24 52.71,226.21 76,253 C90.72,269.93 112.16,283.05 130.31,292.05 \" fill=\"none\" id=\"E3-&gt;E5\" style=\"stroke: #383838; stroke-width: 1.0; stroke-dasharray: 7.0,7.0;\"/><polygon fill=\"#383838\" points=\"134.85,294.25,128.4921,286.7283,130.3496,292.0714,125.0064,293.9289,134.85,294.25\" style=\"stroke: #383838; stroke-width: 1.0;\"/><text fill=\"#000000\" font-family=\"sans-serif\" font-size=\"13\" lengthAdjust=\"spacingAndGlyphs\" textLength=\"40\" x=\"77\" y=\"236.0669\">[false]</text></a><!--MD5=[1b7591eae5389033d8d09a9d6721a717]\n",
       "link E4 to E5--><a href=\"psysml:19ac739f-970e-4750-a1cd-14a3501dcfff\" target=\"_top\" title=\"psysml:19ac739f-970e-4750-a1cd-14a3501dcfff\" xlink:actuate=\"onRequest\" xlink:href=\"psysml:19ac739f-970e-4750-a1cd-14a3501dcfff\" xlink:show=\"new\" xlink:title=\"psysml:19ac739f-970e-4750-a1cd-14a3501dcfff\" xlink:type=\"simple\"><path d=\"M165,253.11 C165,261.69 165,271.75 165,280.8 \" fill=\"none\" id=\"E4-&gt;E5\" style=\"stroke: #383838; stroke-width: 1.0; stroke-dasharray: 7.0,7.0;\"/><polygon fill=\"#383838\" points=\"165,286,169,277,165,281,161,277,165,286\" style=\"stroke: #383838; stroke-width: 1.0;\"/><text fill=\"#000000\" font-family=\"sans-serif\" font-size=\"13\" lengthAdjust=\"spacingAndGlyphs\" textLength=\"55\" x=\"166\" y=\"274.0669\">[x == 0]</text></a><!--MD5=[e722fb5d77bbc86473ad8bb7dd2e17de]\n",
       "@startuml\r\n",
       "skinparam ranksep 8\r\n",
       "skinparam monochrome true\r\n",
       "skinparam classbackgroundcolor white\r\n",
       "skinparam shadowing false\r\n",
       "skinparam wrapWidth 300\r\n",
       "hide circle\r\n",
       "\r\n",
       "rec def \"DecisionTest\" as E1  <<(T,blue) action def>> [[psysml:ec9d2101-14b6-425a-8b3b-258973824e57 ]] {\r\n",
       "choice \"test x\" as E2  [[psysml:7b5c557c-0eca-43da-893a-884adf177ee9 ]] \r\n",
       "choice \"<s>noname</s>\" as E3  [[psysml:c8637911-bdae-488c-9ae7-71f0e05f074a ]] \r\n",
       "rec usage \"A1\" as E4  <<(T,blue) action>> [[psysml:2b21def1-54fd-4014-8db4-beef5c1da0f0 ]] {\r\n",
       "}\r\n",
       "\r\n",
       "rec usage \"A2\" as E5  <<(T,blue) action>> [[psysml:a7c18d95-cb4e-4d18-b7c9-a948ce4b9e35 ]] {\r\n",
       "}\r\n",
       "\r\n",
       "rec usage \"A3\" as E6  <<(T,blue) action>> [[psysml:6ad7aed3-e22d-47c2-b6cf-45fd0f629de6 ]] {\r\n",
       "}\r\n",
       "\r\n",
       "rec usage \"A3\" as E7  <<(T,blue) action>> [[psysml:6ad7aed3-e22d-47c2-b6cf-45fd0f629de6 ]] {\r\n",
       "}\r\n",
       "\r\n",
       "}\r\n",
       "\r\n",
       "E2 ..> E4 [[psysml:07a447fb-7978-4e35-9306-ac5ec116db5d ]] : [x == 1]\r\n",
       "E2 ..> E5 [[psysml:f195b54a-5fed-403e-bb02-20f21e154f17 ]] : [x > 1]\r\n",
       "E2 ..> E7 [[psysml:15c91a99-d9b4-4320-8388-ef3655122685 ]] \r\n",
       "E2 ..> E3 [[psysml:6d6473c9-743e-4105-a2af-98d6bd8c1632 ]] \r\n",
       "E3 ..> E4 [[psysml:4dd56774-018b-4c8a-8121-2b3d6a9c557c ]] : [true]\r\n",
       "E3 ..> E5 [[psysml:2f25c912-d622-4deb-be6f-2375e7caca37 ]] : [false]\r\n",
       "E4 ..> E5 [[psysml:19ac739f-970e-4750-a1cd-14a3501dcfff ]] : [x == 0]\r\n",
       "E7 ..> E2 [[psysml:c19c71e4-b628-4c9d-aa87-db03cc189a8f ]] : [x > 0]\r\n",
       "@enduml\r\n",
       "\n",
       "PlantUML version 1.2020.13(Sat Jun 13 12:26:38 UTC 2020)\n",
       "(EPL source distribution)\n",
       "Java Runtime: OpenJDK Runtime Environment\n",
       "JVM: OpenJDK 64-Bit Server VM\n",
       "Default Encoding: UTF-8\n",
       "Language: en\n",
       "Country: null\n",
       "--></g></svg>"
      ]
     },
     "execution_count": 41,
     "metadata": {},
     "output_type": "execute_result"
    }
   ],
   "source": [
    "%viz --style=\"DEFAULT\" --view=\"Action\" \"DecisionTest\""
   ]
  },
  {
   "cell_type": "code",
   "execution_count": 42,
   "id": "5825dad0",
   "metadata": {
    "execution": {
     "iopub.execute_input": "2021-10-03T08:29:03.264684Z",
     "iopub.status.busy": "2021-10-03T08:29:03.264277Z",
     "iopub.status.idle": "2021-10-03T08:29:03.270904Z",
     "shell.execute_reply": "2021-10-03T08:29:03.270569Z"
    }
   },
   "outputs": [
    {
     "data": {
      "image/svg+xml": [
       "<?xml version=\"1.0\" encoding=\"UTF-8\" standalone=\"no\"?><svg xmlns=\"http://www.w3.org/2000/svg\" xmlns:xlink=\"http://www.w3.org/1999/xlink\" contentScriptType=\"application/ecmascript\" contentStyleType=\"text/css\" height=\"12px\" preserveAspectRatio=\"none\" style=\"width:12px;height:12px;\" version=\"1.1\" viewBox=\"0 0 12 12\" width=\"12px\" zoomAndPan=\"magnify\"><defs/><g><!--MD5=[0b72472770326784bf6c2b53246e1e64]\n",
       "@startuml\r\n",
       "skinparam roundcorner 20\r\n",
       "skinparam BoxPadding 20\r\n",
       "skinparam SequenceBoxBackgroundColor #white\r\n",
       "skinparam style strictuml\r\n",
       "skinparam maxMessageSize 100\r\n",
       "skinparam monochrome true\r\n",
       "skinparam classbackgroundcolor white\r\n",
       "skinparam shadowing false\r\n",
       "skinparam wrapWidth 300\r\n",
       "hide circle\r\n",
       "\r\n",
       "@enduml\r\n",
       "\n",
       "PlantUML version 1.2020.13(Sat Jun 13 12:26:38 UTC 2020)\n",
       "(EPL source distribution)\n",
       "Java Runtime: OpenJDK Runtime Environment\n",
       "JVM: OpenJDK 64-Bit Server VM\n",
       "Default Encoding: UTF-8\n",
       "Language: en\n",
       "Country: null\n",
       "--></g></svg>"
      ]
     },
     "execution_count": 42,
     "metadata": {},
     "output_type": "execute_result"
    }
   ],
   "source": [
    "%viz --style=\"DEFAULT\" --view=\"Sequence\" \"DecisionTest\""
   ]
  },
  {
   "cell_type": "code",
   "execution_count": 43,
   "id": "fd6ce568",
   "metadata": {
    "execution": {
     "iopub.execute_input": "2021-10-03T08:29:03.320323Z",
     "iopub.status.busy": "2021-10-03T08:29:03.319917Z",
     "iopub.status.idle": "2021-10-03T08:29:03.357966Z",
     "shell.execute_reply": "2021-10-03T08:29:03.357599Z"
    }
   },
   "outputs": [
    {
     "data": {
      "image/svg+xml": [
       "<?xml version=\"1.0\" encoding=\"UTF-8\" standalone=\"no\"?><svg xmlns=\"http://www.w3.org/2000/svg\" xmlns:xlink=\"http://www.w3.org/1999/xlink\" contentScriptType=\"application/ecmascript\" contentStyleType=\"text/css\" height=\"488px\" preserveAspectRatio=\"none\" style=\"width:333px;height:488px;\" version=\"1.1\" viewBox=\"0 0 333 488\" width=\"333px\" zoomAndPan=\"magnify\"><defs/><g><!--MD5=[fbc87193dbaf4d95561dea2c320d4a47]\n",
       "cluster E1--><a href=\"psysml:ec9d2101-14b6-425a-8b3b-258973824e57\" target=\"_top\" title=\"psysml:ec9d2101-14b6-425a-8b3b-258973824e57\" xlink:actuate=\"onRequest\" xlink:href=\"psysml:ec9d2101-14b6-425a-8b3b-258973824e57\" xlink:show=\"new\" xlink:title=\"psysml:ec9d2101-14b6-425a-8b3b-258973824e57\" xlink:type=\"simple\"><rect fill=\"#FFFFFF\" height=\"470\" id=\"E1\" style=\"stroke: #383838; stroke-width: 1.5;\" width=\"315\" x=\"7\" y=\"7\"/><rect fill=\"#F8F8F8\" height=\"37.9375\" style=\"stroke: #383838; stroke-width: 1.5;\" width=\"315\" x=\"7\" y=\"7\"/><text fill=\"#000000\" font-family=\"sans-serif\" font-size=\"12\" font-style=\"italic\" lengthAdjust=\"spacingAndGlyphs\" textLength=\"77\" x=\"126\" y=\"23.1387\">«action def»</text><text fill=\"#000000\" font-family=\"sans-serif\" font-size=\"12\" lengthAdjust=\"spacingAndGlyphs\" textLength=\"80\" x=\"124.5\" y=\"37.1074\">DecisionTest</text></a><polygon fill=\"#F8F8F8\" points=\"210,67.5,222,79.5,210,91.5,198,79.5,210,67.5\" style=\"stroke: #383838; stroke-width: 1.5;\"/><polygon fill=\"#F8F8F8\" points=\"35,187.5,47,199.5,35,211.5,23,199.5,35,187.5\" style=\"stroke: #383838; stroke-width: 1.5;\"/><g id=\"E1.E4\"><a href=\"psysml:2b21def1-54fd-4014-8db4-beef5c1da0f0\" target=\"_top\" title=\"psysml:2b21def1-54fd-4014-8db4-beef5c1da0f0\" xlink:actuate=\"onRequest\" xlink:href=\"psysml:2b21def1-54fd-4014-8db4-beef5c1da0f0\" xlink:show=\"new\" xlink:title=\"psysml:2b21def1-54fd-4014-8db4-beef5c1da0f0\" xlink:type=\"simple\"><rect fill=\"#FFFFFF\" height=\"42.9375\" id=\"E4\" rx=\"10\" ry=\"10\" style=\"stroke: #383838; stroke-width: 1.5;\" width=\"60\" x=\"135\" y=\"298\"/><rect fill=\"#F8F8F8\" height=\"37.9375\" rx=\"10\" ry=\"10\" style=\"stroke: #F8F8F8; stroke-width: 1.5;\" width=\"60\" x=\"135\" y=\"298\"/><rect fill=\"#F8F8F8\" height=\"10\" style=\"stroke: #F8F8F8; stroke-width: 1.5;\" width=\"60\" x=\"135\" y=\"325.9375\"/><rect fill=\"none\" height=\"42.9375\" id=\"E4\" rx=\"10\" ry=\"10\" style=\"stroke: #383838; stroke-width: 1.5;\" width=\"60\" x=\"135\" y=\"298\"/><text fill=\"#000000\" font-family=\"sans-serif\" font-size=\"12\" font-style=\"italic\" lengthAdjust=\"spacingAndGlyphs\" textLength=\"53\" x=\"138.5\" y=\"314.1387\">«action»</text><text fill=\"#000000\" font-family=\"sans-serif\" font-size=\"12\" lengthAdjust=\"spacingAndGlyphs\" textLength=\"16\" x=\"157\" y=\"328.1074\">A1</text></a></g><g id=\"E1.E5\"><a href=\"psysml:a7c18d95-cb4e-4d18-b7c9-a948ce4b9e35\" target=\"_top\" title=\"psysml:a7c18d95-cb4e-4d18-b7c9-a948ce4b9e35\" xlink:actuate=\"onRequest\" xlink:href=\"psysml:a7c18d95-cb4e-4d18-b7c9-a948ce4b9e35\" xlink:show=\"new\" xlink:title=\"psysml:a7c18d95-cb4e-4d18-b7c9-a948ce4b9e35\" xlink:type=\"simple\"><rect fill=\"#FFFFFF\" height=\"42.9375\" id=\"E5\" rx=\"10\" ry=\"10\" style=\"stroke: #383838; stroke-width: 1.5;\" width=\"60\" x=\"135\" y=\"418\"/><rect fill=\"#F8F8F8\" height=\"37.9375\" rx=\"10\" ry=\"10\" style=\"stroke: #F8F8F8; stroke-width: 1.5;\" width=\"60\" x=\"135\" y=\"418\"/><rect fill=\"#F8F8F8\" height=\"10\" style=\"stroke: #F8F8F8; stroke-width: 1.5;\" width=\"60\" x=\"135\" y=\"445.9375\"/><rect fill=\"none\" height=\"42.9375\" id=\"E5\" rx=\"10\" ry=\"10\" style=\"stroke: #383838; stroke-width: 1.5;\" width=\"60\" x=\"135\" y=\"418\"/><text fill=\"#000000\" font-family=\"sans-serif\" font-size=\"12\" font-style=\"italic\" lengthAdjust=\"spacingAndGlyphs\" textLength=\"53\" x=\"138.5\" y=\"434.1387\">«action»</text><text fill=\"#000000\" font-family=\"sans-serif\" font-size=\"12\" lengthAdjust=\"spacingAndGlyphs\" textLength=\"16\" x=\"157\" y=\"448.1074\">A2</text></a></g><g id=\"E1.E6\"><a href=\"psysml:6ad7aed3-e22d-47c2-b6cf-45fd0f629de6\" target=\"_top\" title=\"psysml:6ad7aed3-e22d-47c2-b6cf-45fd0f629de6\" xlink:actuate=\"onRequest\" xlink:href=\"psysml:6ad7aed3-e22d-47c2-b6cf-45fd0f629de6\" xlink:show=\"new\" xlink:title=\"psysml:6ad7aed3-e22d-47c2-b6cf-45fd0f629de6\" xlink:type=\"simple\"><rect fill=\"#FFFFFF\" height=\"42.9375\" id=\"E6\" rx=\"10\" ry=\"10\" style=\"stroke: #383838; stroke-width: 1.5;\" width=\"60\" x=\"63\" y=\"58\"/><rect fill=\"#F8F8F8\" height=\"37.9375\" rx=\"10\" ry=\"10\" style=\"stroke: #F8F8F8; stroke-width: 1.5;\" width=\"60\" x=\"63\" y=\"58\"/><rect fill=\"#F8F8F8\" height=\"10\" style=\"stroke: #F8F8F8; stroke-width: 1.5;\" width=\"60\" x=\"63\" y=\"85.9375\"/><rect fill=\"none\" height=\"42.9375\" id=\"E6\" rx=\"10\" ry=\"10\" style=\"stroke: #383838; stroke-width: 1.5;\" width=\"60\" x=\"63\" y=\"58\"/><text fill=\"#000000\" font-family=\"sans-serif\" font-size=\"12\" font-style=\"italic\" lengthAdjust=\"spacingAndGlyphs\" textLength=\"53\" x=\"66.5\" y=\"74.1387\">«action»</text><text fill=\"#000000\" font-family=\"sans-serif\" font-size=\"12\" lengthAdjust=\"spacingAndGlyphs\" textLength=\"16\" x=\"85\" y=\"88.1074\">A3</text></a></g><g id=\"E1.E7\"><a href=\"psysml:6ad7aed3-e22d-47c2-b6cf-45fd0f629de6\" target=\"_top\" title=\"psysml:6ad7aed3-e22d-47c2-b6cf-45fd0f629de6\" xlink:actuate=\"onRequest\" xlink:href=\"psysml:6ad7aed3-e22d-47c2-b6cf-45fd0f629de6\" xlink:show=\"new\" xlink:title=\"psysml:6ad7aed3-e22d-47c2-b6cf-45fd0f629de6\" xlink:type=\"simple\"><rect fill=\"#FFFFFF\" height=\"42.9375\" id=\"E7\" rx=\"10\" ry=\"10\" style=\"stroke: #383838; stroke-width: 1.5;\" width=\"60\" x=\"246\" y=\"178\"/><rect fill=\"#F8F8F8\" height=\"37.9375\" rx=\"10\" ry=\"10\" style=\"stroke: #F8F8F8; stroke-width: 1.5;\" width=\"60\" x=\"246\" y=\"178\"/><rect fill=\"#F8F8F8\" height=\"10\" style=\"stroke: #F8F8F8; stroke-width: 1.5;\" width=\"60\" x=\"246\" y=\"205.9375\"/><rect fill=\"none\" height=\"42.9375\" id=\"E7\" rx=\"10\" ry=\"10\" style=\"stroke: #383838; stroke-width: 1.5;\" width=\"60\" x=\"246\" y=\"178\"/><text fill=\"#000000\" font-family=\"sans-serif\" font-size=\"12\" font-style=\"italic\" lengthAdjust=\"spacingAndGlyphs\" textLength=\"53\" x=\"249.5\" y=\"194.1387\">«action»</text><text fill=\"#000000\" font-family=\"sans-serif\" font-size=\"12\" lengthAdjust=\"spacingAndGlyphs\" textLength=\"16\" x=\"268\" y=\"208.1074\">A3</text></a></g><!--MD5=[4d03bb2d0377dc85ccfab60ff574652b]\n",
       "link E2 to E4--><a href=\"psysml:07a447fb-7978-4e35-9306-ac5ec116db5d\" target=\"_top\" title=\"psysml:07a447fb-7978-4e35-9306-ac5ec116db5d\" xlink:actuate=\"onRequest\" xlink:href=\"psysml:07a447fb-7978-4e35-9306-ac5ec116db5d\" xlink:show=\"new\" xlink:title=\"psysml:07a447fb-7978-4e35-9306-ac5ec116db5d\" xlink:type=\"simple\"><path d=\"M204.45,86 C190.88,99.89 156.22,138.13 144,178 C132.04,217.01 144.31,264.27 154.48,292.83 \" fill=\"none\" id=\"E2-&gt;E4\" style=\"stroke: #383838; stroke-width: 1.0;\"/><polygon fill=\"#383838\" points=\"156.22,297.6,156.8939,287.7742,154.5067,292.9027,149.3782,290.5155,156.22,297.6\" style=\"stroke: #383838; stroke-width: 1.0;\"/><text fill=\"#000000\" font-family=\"sans-serif\" font-size=\"13\" lengthAdjust=\"spacingAndGlyphs\" textLength=\"55\" x=\"145\" y=\"204.0669\">[x == 1]</text><text fill=\"#000000\" font-family=\"sans-serif\" font-size=\"13\" lengthAdjust=\"spacingAndGlyphs\" textLength=\"7\" x=\"145.9198\" y=\"286.7919\">*</text></a><!--MD5=[dcad52bbbca2fe8adc741ce38b45dc12]\n",
       "link E2 to E5--><a href=\"psysml:f195b54a-5fed-403e-bb02-20f21e154f17\" target=\"_top\" title=\"psysml:f195b54a-5fed-403e-bb02-20f21e154f17\" xlink:actuate=\"onRequest\" xlink:href=\"psysml:f195b54a-5fed-403e-bb02-20f21e154f17\" xlink:show=\"new\" xlink:title=\"psysml:f195b54a-5fed-403e-bb02-20f21e154f17\" xlink:type=\"simple\"><path d=\"M210.67,90.83 C214.08,143.62 229.24,381.12 226,388 C220.27,400.19 209.98,410.45 199.48,418.47 \" fill=\"none\" id=\"E2-&gt;E5\" style=\"stroke: #383838; stroke-width: 1.0;\"/><polygon fill=\"#383838\" points=\"195.29,421.54,204.9073,419.4168,199.3138,418.5721,200.1586,412.9786,195.29,421.54\" style=\"stroke: #383838; stroke-width: 1.0;\"/><text fill=\"#000000\" font-family=\"sans-serif\" font-size=\"13\" lengthAdjust=\"spacingAndGlyphs\" textLength=\"44\" x=\"222\" y=\"264.0669\">[x &gt; 1]</text><text fill=\"#000000\" font-family=\"sans-serif\" font-size=\"13\" lengthAdjust=\"spacingAndGlyphs\" textLength=\"7\" x=\"203.1039\" y=\"412.7419\">*</text></a><!--MD5=[e3d2a08a9c9236652057e8ed0cbc9b62]\n",
       "link E2 to E7--><a href=\"psysml:15c91a99-d9b4-4320-8388-ef3655122685\" target=\"_top\" title=\"psysml:15c91a99-d9b4-4320-8388-ef3655122685\" xlink:actuate=\"onRequest\" xlink:href=\"psysml:15c91a99-d9b4-4320-8388-ef3655122685\" xlink:show=\"new\" xlink:title=\"psysml:15c91a99-d9b4-4320-8388-ef3655122685\" xlink:type=\"simple\"><path d=\"M210.1,91.71 C210.67,105.71 213.16,129.99 223,148 C228.29,157.68 236.08,166.6 244.08,174.17 \" fill=\"none\" id=\"E2-&gt;E7\" style=\"stroke: #383838; stroke-width: 1.0;\"/><polygon fill=\"#383838\" points=\"248.01,177.77,244.069,168.744,244.3207,174.3953,238.6694,174.6469,248.01,177.77\" style=\"stroke: #383838; stroke-width: 1.0;\"/><text fill=\"#000000\" font-family=\"sans-serif\" font-size=\"13\" lengthAdjust=\"spacingAndGlyphs\" textLength=\"7\" x=\"232.5471\" y=\"167.0076\">*</text></a><!--MD5=[583832df87f4419a098336a29a52fa00]\n",
       "link E7 to E2--><a href=\"psysml:c19c71e4-b628-4c9d-aa87-db03cc189a8f\" target=\"_top\" title=\"psysml:c19c71e4-b628-4c9d-aa87-db03cc189a8f\" xlink:actuate=\"onRequest\" xlink:href=\"psysml:c19c71e4-b628-4c9d-aa87-db03cc189a8f\" xlink:show=\"new\" xlink:title=\"psysml:c19c71e4-b628-4c9d-aa87-db03cc189a8f\" xlink:type=\"simple\"><path d=\"M264.3,177.59 C250.41,152.74 227.7,112.15 216.57,92.25 \" fill=\"none\" id=\"E7-&gt;E2\" style=\"stroke: #383838; stroke-width: 1.0;\"/><polygon fill=\"#383838\" points=\"214.13,87.88,215.0286,97.6878,216.5691,92.2447,222.0122,93.7852,214.13,87.88\" style=\"stroke: #383838; stroke-width: 1.0;\"/><text fill=\"#000000\" font-family=\"sans-serif\" font-size=\"13\" lengthAdjust=\"spacingAndGlyphs\" textLength=\"44\" x=\"247\" y=\"144.0669\">[x &gt; 0]</text><text fill=\"#000000\" font-family=\"sans-serif\" font-size=\"13\" lengthAdjust=\"spacingAndGlyphs\" textLength=\"7\" x=\"207.5946\" y=\"111.7074\">*</text></a><!--MD5=[2720a5a1f2c3fca2055b230370638851]\n",
       "link E2 to E3--><a href=\"psysml:6d6473c9-743e-4105-a2af-98d6bd8c1632\" target=\"_top\" title=\"psysml:6d6473c9-743e-4105-a2af-98d6bd8c1632\" xlink:actuate=\"onRequest\" xlink:href=\"psysml:6d6473c9-743e-4105-a2af-98d6bd8c1632\" xlink:show=\"new\" xlink:title=\"psysml:6d6473c9-743e-4105-a2af-98d6bd8c1632\" xlink:type=\"simple\"><path d=\"M201.9,83.58 C184.06,90.55 140.39,108.7 108,131 C82.49,148.57 56.88,174.67 43.84,188.71 \" fill=\"none\" id=\"E2-&gt;E3\" style=\"stroke: #383838; stroke-width: 1.0;\"/><polygon fill=\"#383838\" points=\"40.21,192.66,49.2443,188.738,43.5925,188.9778,43.3527,183.326,40.21,192.66\" style=\"stroke: #383838; stroke-width: 1.0;\"/><text fill=\"#000000\" font-family=\"sans-serif\" font-size=\"13\" lengthAdjust=\"spacingAndGlyphs\" textLength=\"7\" x=\"48.2668\" y=\"176.5238\">*</text></a><!--MD5=[af87c684e3b0d8be13c1a698a818ef1e]\n",
       "link E3 to E4--><a href=\"psysml:4dd56774-018b-4c8a-8121-2b3d6a9c557c\" target=\"_top\" title=\"psysml:4dd56774-018b-4c8a-8121-2b3d6a9c557c\" xlink:actuate=\"onRequest\" xlink:href=\"psysml:4dd56774-018b-4c8a-8121-2b3d6a9c557c\" xlink:show=\"new\" xlink:title=\"psysml:4dd56774-018b-4c8a-8121-2b3d6a9c557c\" xlink:type=\"simple\"><path d=\"M39.08,207.91 C46.63,221.15 63.87,249.24 84,268 C97.73,280.8 115.17,292.16 130.35,300.85 \" fill=\"none\" id=\"E3-&gt;E4\" style=\"stroke: #383838; stroke-width: 1.0;\"/><polygon fill=\"#383838\" points=\"134.98,303.46,129.0858,295.5696,130.6187,301.0148,125.1735,302.5477,134.98,303.46\" style=\"stroke: #383838; stroke-width: 1.0;\"/><text fill=\"#000000\" font-family=\"sans-serif\" font-size=\"13\" lengthAdjust=\"spacingAndGlyphs\" textLength=\"36\" x=\"85\" y=\"264.0669\">[true]</text><text fill=\"#000000\" font-family=\"sans-serif\" font-size=\"13\" lengthAdjust=\"spacingAndGlyphs\" textLength=\"7\" x=\"119.8095\" y=\"294.8128\">*</text></a><!--MD5=[0188b64bb0ae78505a997a81836e11e9]\n",
       "link E3 to E5--><a href=\"psysml:2f25c912-d622-4deb-be6f-2375e7caca37\" target=\"_top\" title=\"psysml:2f25c912-d622-4deb-be6f-2375e7caca37\" xlink:actuate=\"onRequest\" xlink:href=\"psysml:2f25c912-d622-4deb-be6f-2375e7caca37\" xlink:show=\"new\" xlink:title=\"psysml:2f25c912-d622-4deb-be6f-2375e7caca37\" xlink:type=\"simple\"><path d=\"M36.3,210.29 C39.76,234.03 50.73,296.03 76,341 C91.89,369.29 117.42,396.1 137.07,414.43 \" fill=\"none\" id=\"E3-&gt;E5\" style=\"stroke: #383838; stroke-width: 1.0;\"/><polygon fill=\"#383838\" points=\"140.92,417.98,137.0155,408.9382,137.2443,414.5904,131.5921,414.8192,140.92,417.98\" style=\"stroke: #383838; stroke-width: 1.0;\"/><text fill=\"#000000\" font-family=\"sans-serif\" font-size=\"13\" lengthAdjust=\"spacingAndGlyphs\" textLength=\"40\" x=\"77\" y=\"324.0669\">[false]</text><text fill=\"#000000\" font-family=\"sans-serif\" font-size=\"13\" lengthAdjust=\"spacingAndGlyphs\" textLength=\"7\" x=\"126.1631\" y=\"406.9125\">*</text></a><!--MD5=[1b7591eae5389033d8d09a9d6721a717]\n",
       "link E4 to E5--><a href=\"psysml:19ac739f-970e-4750-a1cd-14a3501dcfff\" target=\"_top\" title=\"psysml:19ac739f-970e-4750-a1cd-14a3501dcfff\" xlink:actuate=\"onRequest\" xlink:href=\"psysml:19ac739f-970e-4750-a1cd-14a3501dcfff\" xlink:show=\"new\" xlink:title=\"psysml:19ac739f-970e-4750-a1cd-14a3501dcfff\" xlink:type=\"simple\"><path d=\"M165,341.05 C165,360.9 165,391.02 165,412.52 \" fill=\"none\" id=\"E4-&gt;E5\" style=\"stroke: #383838; stroke-width: 1.0;\"/><polygon fill=\"#383838\" points=\"165,417.79,169,408.79,165,412.79,161,408.79,165,417.79\" style=\"stroke: #383838; stroke-width: 1.0;\"/><text fill=\"#000000\" font-family=\"sans-serif\" font-size=\"13\" lengthAdjust=\"spacingAndGlyphs\" textLength=\"55\" x=\"166\" y=\"384.0669\">[x == 0]</text><text fill=\"#000000\" font-family=\"sans-serif\" font-size=\"13\" lengthAdjust=\"spacingAndGlyphs\" textLength=\"7\" x=\"157.0594\" y=\"407.033\">*</text></a><!--MD5=[e7e8635df32017d25068568df542f11d]\n",
       "@startuml\r\n",
       "skinparam monochrome true\r\n",
       "skinparam classbackgroundcolor white\r\n",
       "skinparam shadowing false\r\n",
       "skinparam wrapWidth 300\r\n",
       "hide circle\r\n",
       "\r\n",
       "rec def \"DecisionTest\" as E1  <<(T,blue) action def>> [[psysml:ec9d2101-14b6-425a-8b3b-258973824e57 ]] {\r\n",
       "choice \"test x\" as E2  [[psysml:7b5c557c-0eca-43da-893a-884adf177ee9 ]] \r\n",
       "choice \"<s>noname</s>\" as E3  [[psysml:c8637911-bdae-488c-9ae7-71f0e05f074a ]] \r\n",
       "rec usage \"A1\" as E4  <<(T,blue) action>> [[psysml:2b21def1-54fd-4014-8db4-beef5c1da0f0 ]] {\r\n",
       "}\r\n",
       "\r\n",
       "rec usage \"A2\" as E5  <<(T,blue) action>> [[psysml:a7c18d95-cb4e-4d18-b7c9-a948ce4b9e35 ]] {\r\n",
       "}\r\n",
       "\r\n",
       "rec usage \"A3\" as E6  <<(T,blue) action>> [[psysml:6ad7aed3-e22d-47c2-b6cf-45fd0f629de6 ]] {\r\n",
       "}\r\n",
       "\r\n",
       "rec usage \"A3\" as E7  <<(T,blue) action>> [[psysml:6ad7aed3-e22d-47c2-b6cf-45fd0f629de6 ]] {\r\n",
       "}\r\n",
       "\r\n",
       "}\r\n",
       "\r\n",
       "E2  - -> \"*\"E4 [[psysml:07a447fb-7978-4e35-9306-ac5ec116db5d ]] : [x == 1]\r\n",
       "E2  - -> \"*\"E5 [[psysml:f195b54a-5fed-403e-bb02-20f21e154f17 ]] : [x > 1]\r\n",
       "E2  - -> \"*\"E7 [[psysml:15c91a99-d9b4-4320-8388-ef3655122685 ]] \r\n",
       "E2 - -> \"*\"E3 [[psysml:6d6473c9-743e-4105-a2af-98d6bd8c1632 ]] \r\n",
       "E3  - -> \"*\"E4 [[psysml:4dd56774-018b-4c8a-8121-2b3d6a9c557c ]] : [true]\r\n",
       "E3  - -> \"*\"E5 [[psysml:2f25c912-d622-4deb-be6f-2375e7caca37 ]] : [false]\r\n",
       "E4  - -> \"*\"E5 [[psysml:19ac739f-970e-4750-a1cd-14a3501dcfff ]] : [x == 0]\r\n",
       "E7  - -> \"*\"E2 [[psysml:c19c71e4-b628-4c9d-aa87-db03cc189a8f ]] : [x > 0]\r\n",
       "@enduml\r\n",
       "\n",
       "PlantUML version 1.2020.13(Sat Jun 13 12:26:38 UTC 2020)\n",
       "(EPL source distribution)\n",
       "Java Runtime: OpenJDK Runtime Environment\n",
       "JVM: OpenJDK 64-Bit Server VM\n",
       "Default Encoding: UTF-8\n",
       "Language: en\n",
       "Country: null\n",
       "--></g></svg>"
      ]
     },
     "execution_count": 43,
     "metadata": {},
     "output_type": "execute_result"
    }
   ],
   "source": [
    "%viz --style=\"DEFAULT\" --view=\"MIXED\" \"DecisionTest\""
   ]
  },
  {
   "cell_type": "code",
   "execution_count": 44,
   "id": "bce7fd4f",
   "metadata": {
    "execution": {
     "iopub.execute_input": "2021-10-03T08:29:03.406791Z",
     "iopub.status.busy": "2021-10-03T08:29:03.406387Z",
     "iopub.status.idle": "2021-10-03T08:29:03.441025Z",
     "shell.execute_reply": "2021-10-03T08:29:03.439172Z"
    }
   },
   "outputs": [
    {
     "data": {
      "image/svg+xml": [
       "<?xml version=\"1.0\" encoding=\"UTF-8\" standalone=\"no\"?><svg xmlns=\"http://www.w3.org/2000/svg\" xmlns:xlink=\"http://www.w3.org/1999/xlink\" contentScriptType=\"application/ecmascript\" contentStyleType=\"text/css\" height=\"488px\" preserveAspectRatio=\"none\" style=\"width:333px;height:488px;\" version=\"1.1\" viewBox=\"0 0 333 488\" width=\"333px\" zoomAndPan=\"magnify\"><defs/><g><!--MD5=[fbc87193dbaf4d95561dea2c320d4a47]\n",
       "cluster E1--><a href=\"psysml:ec9d2101-14b6-425a-8b3b-258973824e57\" target=\"_top\" title=\"psysml:ec9d2101-14b6-425a-8b3b-258973824e57\" xlink:actuate=\"onRequest\" xlink:href=\"psysml:ec9d2101-14b6-425a-8b3b-258973824e57\" xlink:show=\"new\" xlink:title=\"psysml:ec9d2101-14b6-425a-8b3b-258973824e57\" xlink:type=\"simple\"><rect fill=\"#FFFFFF\" height=\"470\" id=\"E1\" style=\"stroke: #383838; stroke-width: 1.5;\" width=\"315\" x=\"7\" y=\"7\"/><rect fill=\"#F8F8F8\" height=\"37.9375\" style=\"stroke: #383838; stroke-width: 1.5;\" width=\"315\" x=\"7\" y=\"7\"/><text fill=\"#000000\" font-family=\"sans-serif\" font-size=\"12\" font-style=\"italic\" lengthAdjust=\"spacingAndGlyphs\" textLength=\"77\" x=\"126\" y=\"23.1387\">«action def»</text><text fill=\"#000000\" font-family=\"sans-serif\" font-size=\"12\" lengthAdjust=\"spacingAndGlyphs\" textLength=\"80\" x=\"124.5\" y=\"37.1074\">DecisionTest</text></a><polygon fill=\"#F8F8F8\" points=\"210,67.5,222,79.5,210,91.5,198,79.5,210,67.5\" style=\"stroke: #383838; stroke-width: 1.5;\"/><polygon fill=\"#F8F8F8\" points=\"35,187.5,47,199.5,35,211.5,23,199.5,35,187.5\" style=\"stroke: #383838; stroke-width: 1.5;\"/><g id=\"E1.E4\"><a href=\"psysml:2b21def1-54fd-4014-8db4-beef5c1da0f0\" target=\"_top\" title=\"psysml:2b21def1-54fd-4014-8db4-beef5c1da0f0\" xlink:actuate=\"onRequest\" xlink:href=\"psysml:2b21def1-54fd-4014-8db4-beef5c1da0f0\" xlink:show=\"new\" xlink:title=\"psysml:2b21def1-54fd-4014-8db4-beef5c1da0f0\" xlink:type=\"simple\"><rect fill=\"#FFFFFF\" height=\"42.9375\" id=\"E4\" rx=\"10\" ry=\"10\" style=\"stroke: #383838; stroke-width: 1.5;\" width=\"60\" x=\"135\" y=\"298\"/><rect fill=\"#F8F8F8\" height=\"37.9375\" rx=\"10\" ry=\"10\" style=\"stroke: #F8F8F8; stroke-width: 1.5;\" width=\"60\" x=\"135\" y=\"298\"/><rect fill=\"#F8F8F8\" height=\"10\" style=\"stroke: #F8F8F8; stroke-width: 1.5;\" width=\"60\" x=\"135\" y=\"325.9375\"/><rect fill=\"none\" height=\"42.9375\" id=\"E4\" rx=\"10\" ry=\"10\" style=\"stroke: #383838; stroke-width: 1.5;\" width=\"60\" x=\"135\" y=\"298\"/><text fill=\"#000000\" font-family=\"sans-serif\" font-size=\"12\" font-style=\"italic\" lengthAdjust=\"spacingAndGlyphs\" textLength=\"53\" x=\"138.5\" y=\"314.1387\">«action»</text><text fill=\"#000000\" font-family=\"sans-serif\" font-size=\"12\" lengthAdjust=\"spacingAndGlyphs\" textLength=\"16\" x=\"157\" y=\"328.1074\">A1</text></a></g><g id=\"E1.E5\"><a href=\"psysml:a7c18d95-cb4e-4d18-b7c9-a948ce4b9e35\" target=\"_top\" title=\"psysml:a7c18d95-cb4e-4d18-b7c9-a948ce4b9e35\" xlink:actuate=\"onRequest\" xlink:href=\"psysml:a7c18d95-cb4e-4d18-b7c9-a948ce4b9e35\" xlink:show=\"new\" xlink:title=\"psysml:a7c18d95-cb4e-4d18-b7c9-a948ce4b9e35\" xlink:type=\"simple\"><rect fill=\"#FFFFFF\" height=\"42.9375\" id=\"E5\" rx=\"10\" ry=\"10\" style=\"stroke: #383838; stroke-width: 1.5;\" width=\"60\" x=\"135\" y=\"418\"/><rect fill=\"#F8F8F8\" height=\"37.9375\" rx=\"10\" ry=\"10\" style=\"stroke: #F8F8F8; stroke-width: 1.5;\" width=\"60\" x=\"135\" y=\"418\"/><rect fill=\"#F8F8F8\" height=\"10\" style=\"stroke: #F8F8F8; stroke-width: 1.5;\" width=\"60\" x=\"135\" y=\"445.9375\"/><rect fill=\"none\" height=\"42.9375\" id=\"E5\" rx=\"10\" ry=\"10\" style=\"stroke: #383838; stroke-width: 1.5;\" width=\"60\" x=\"135\" y=\"418\"/><text fill=\"#000000\" font-family=\"sans-serif\" font-size=\"12\" font-style=\"italic\" lengthAdjust=\"spacingAndGlyphs\" textLength=\"53\" x=\"138.5\" y=\"434.1387\">«action»</text><text fill=\"#000000\" font-family=\"sans-serif\" font-size=\"12\" lengthAdjust=\"spacingAndGlyphs\" textLength=\"16\" x=\"157\" y=\"448.1074\">A2</text></a></g><g id=\"E1.E6\"><a href=\"psysml:6ad7aed3-e22d-47c2-b6cf-45fd0f629de6\" target=\"_top\" title=\"psysml:6ad7aed3-e22d-47c2-b6cf-45fd0f629de6\" xlink:actuate=\"onRequest\" xlink:href=\"psysml:6ad7aed3-e22d-47c2-b6cf-45fd0f629de6\" xlink:show=\"new\" xlink:title=\"psysml:6ad7aed3-e22d-47c2-b6cf-45fd0f629de6\" xlink:type=\"simple\"><rect fill=\"#FFFFFF\" height=\"42.9375\" id=\"E6\" rx=\"10\" ry=\"10\" style=\"stroke: #383838; stroke-width: 1.5;\" width=\"60\" x=\"63\" y=\"58\"/><rect fill=\"#F8F8F8\" height=\"37.9375\" rx=\"10\" ry=\"10\" style=\"stroke: #F8F8F8; stroke-width: 1.5;\" width=\"60\" x=\"63\" y=\"58\"/><rect fill=\"#F8F8F8\" height=\"10\" style=\"stroke: #F8F8F8; stroke-width: 1.5;\" width=\"60\" x=\"63\" y=\"85.9375\"/><rect fill=\"none\" height=\"42.9375\" id=\"E6\" rx=\"10\" ry=\"10\" style=\"stroke: #383838; stroke-width: 1.5;\" width=\"60\" x=\"63\" y=\"58\"/><text fill=\"#000000\" font-family=\"sans-serif\" font-size=\"12\" font-style=\"italic\" lengthAdjust=\"spacingAndGlyphs\" textLength=\"53\" x=\"66.5\" y=\"74.1387\">«action»</text><text fill=\"#000000\" font-family=\"sans-serif\" font-size=\"12\" lengthAdjust=\"spacingAndGlyphs\" textLength=\"16\" x=\"85\" y=\"88.1074\">A3</text></a></g><g id=\"E1.E7\"><a href=\"psysml:6ad7aed3-e22d-47c2-b6cf-45fd0f629de6\" target=\"_top\" title=\"psysml:6ad7aed3-e22d-47c2-b6cf-45fd0f629de6\" xlink:actuate=\"onRequest\" xlink:href=\"psysml:6ad7aed3-e22d-47c2-b6cf-45fd0f629de6\" xlink:show=\"new\" xlink:title=\"psysml:6ad7aed3-e22d-47c2-b6cf-45fd0f629de6\" xlink:type=\"simple\"><rect fill=\"#FFFFFF\" height=\"42.9375\" id=\"E7\" rx=\"10\" ry=\"10\" style=\"stroke: #383838; stroke-width: 1.5;\" width=\"60\" x=\"246\" y=\"178\"/><rect fill=\"#F8F8F8\" height=\"37.9375\" rx=\"10\" ry=\"10\" style=\"stroke: #F8F8F8; stroke-width: 1.5;\" width=\"60\" x=\"246\" y=\"178\"/><rect fill=\"#F8F8F8\" height=\"10\" style=\"stroke: #F8F8F8; stroke-width: 1.5;\" width=\"60\" x=\"246\" y=\"205.9375\"/><rect fill=\"none\" height=\"42.9375\" id=\"E7\" rx=\"10\" ry=\"10\" style=\"stroke: #383838; stroke-width: 1.5;\" width=\"60\" x=\"246\" y=\"178\"/><text fill=\"#000000\" font-family=\"sans-serif\" font-size=\"12\" font-style=\"italic\" lengthAdjust=\"spacingAndGlyphs\" textLength=\"53\" x=\"249.5\" y=\"194.1387\">«action»</text><text fill=\"#000000\" font-family=\"sans-serif\" font-size=\"12\" lengthAdjust=\"spacingAndGlyphs\" textLength=\"16\" x=\"268\" y=\"208.1074\">A3</text></a></g><!--MD5=[4d03bb2d0377dc85ccfab60ff574652b]\n",
       "link E2 to E4--><a href=\"psysml:07a447fb-7978-4e35-9306-ac5ec116db5d\" target=\"_top\" title=\"psysml:07a447fb-7978-4e35-9306-ac5ec116db5d\" xlink:actuate=\"onRequest\" xlink:href=\"psysml:07a447fb-7978-4e35-9306-ac5ec116db5d\" xlink:show=\"new\" xlink:title=\"psysml:07a447fb-7978-4e35-9306-ac5ec116db5d\" xlink:type=\"simple\"><path d=\"M204.45,86 C190.88,99.89 156.22,138.13 144,178 C132.04,217.01 144.31,264.27 154.48,292.83 \" fill=\"none\" id=\"E2-&gt;E4\" style=\"stroke: #383838; stroke-width: 1.0;\"/><polygon fill=\"#383838\" points=\"156.22,297.6,156.8939,287.7742,154.5067,292.9027,149.3782,290.5155,156.22,297.6\" style=\"stroke: #383838; stroke-width: 1.0;\"/><text fill=\"#000000\" font-family=\"sans-serif\" font-size=\"13\" lengthAdjust=\"spacingAndGlyphs\" textLength=\"55\" x=\"145\" y=\"204.0669\">[x == 1]</text><text fill=\"#000000\" font-family=\"sans-serif\" font-size=\"13\" lengthAdjust=\"spacingAndGlyphs\" textLength=\"7\" x=\"145.9198\" y=\"286.7919\">*</text></a><!--MD5=[dcad52bbbca2fe8adc741ce38b45dc12]\n",
       "link E2 to E5--><a href=\"psysml:f195b54a-5fed-403e-bb02-20f21e154f17\" target=\"_top\" title=\"psysml:f195b54a-5fed-403e-bb02-20f21e154f17\" xlink:actuate=\"onRequest\" xlink:href=\"psysml:f195b54a-5fed-403e-bb02-20f21e154f17\" xlink:show=\"new\" xlink:title=\"psysml:f195b54a-5fed-403e-bb02-20f21e154f17\" xlink:type=\"simple\"><path d=\"M210.67,90.83 C214.08,143.62 229.24,381.12 226,388 C220.27,400.19 209.98,410.45 199.48,418.47 \" fill=\"none\" id=\"E2-&gt;E5\" style=\"stroke: #383838; stroke-width: 1.0;\"/><polygon fill=\"#383838\" points=\"195.29,421.54,204.9073,419.4168,199.3138,418.5721,200.1586,412.9786,195.29,421.54\" style=\"stroke: #383838; stroke-width: 1.0;\"/><text fill=\"#000000\" font-family=\"sans-serif\" font-size=\"13\" lengthAdjust=\"spacingAndGlyphs\" textLength=\"44\" x=\"222\" y=\"264.0669\">[x &gt; 1]</text><text fill=\"#000000\" font-family=\"sans-serif\" font-size=\"13\" lengthAdjust=\"spacingAndGlyphs\" textLength=\"7\" x=\"203.1039\" y=\"412.7419\">*</text></a><!--MD5=[e3d2a08a9c9236652057e8ed0cbc9b62]\n",
       "link E2 to E7--><a href=\"psysml:15c91a99-d9b4-4320-8388-ef3655122685\" target=\"_top\" title=\"psysml:15c91a99-d9b4-4320-8388-ef3655122685\" xlink:actuate=\"onRequest\" xlink:href=\"psysml:15c91a99-d9b4-4320-8388-ef3655122685\" xlink:show=\"new\" xlink:title=\"psysml:15c91a99-d9b4-4320-8388-ef3655122685\" xlink:type=\"simple\"><path d=\"M210.1,91.71 C210.67,105.71 213.16,129.99 223,148 C228.29,157.68 236.08,166.6 244.08,174.17 \" fill=\"none\" id=\"E2-&gt;E7\" style=\"stroke: #383838; stroke-width: 1.0;\"/><polygon fill=\"#383838\" points=\"248.01,177.77,244.069,168.744,244.3207,174.3953,238.6694,174.6469,248.01,177.77\" style=\"stroke: #383838; stroke-width: 1.0;\"/><text fill=\"#000000\" font-family=\"sans-serif\" font-size=\"13\" lengthAdjust=\"spacingAndGlyphs\" textLength=\"7\" x=\"232.5471\" y=\"167.0076\">*</text></a><!--MD5=[583832df87f4419a098336a29a52fa00]\n",
       "link E7 to E2--><a href=\"psysml:c19c71e4-b628-4c9d-aa87-db03cc189a8f\" target=\"_top\" title=\"psysml:c19c71e4-b628-4c9d-aa87-db03cc189a8f\" xlink:actuate=\"onRequest\" xlink:href=\"psysml:c19c71e4-b628-4c9d-aa87-db03cc189a8f\" xlink:show=\"new\" xlink:title=\"psysml:c19c71e4-b628-4c9d-aa87-db03cc189a8f\" xlink:type=\"simple\"><path d=\"M264.3,177.59 C250.41,152.74 227.7,112.15 216.57,92.25 \" fill=\"none\" id=\"E7-&gt;E2\" style=\"stroke: #383838; stroke-width: 1.0;\"/><polygon fill=\"#383838\" points=\"214.13,87.88,215.0286,97.6878,216.5691,92.2447,222.0122,93.7852,214.13,87.88\" style=\"stroke: #383838; stroke-width: 1.0;\"/><text fill=\"#000000\" font-family=\"sans-serif\" font-size=\"13\" lengthAdjust=\"spacingAndGlyphs\" textLength=\"44\" x=\"247\" y=\"144.0669\">[x &gt; 0]</text><text fill=\"#000000\" font-family=\"sans-serif\" font-size=\"13\" lengthAdjust=\"spacingAndGlyphs\" textLength=\"7\" x=\"207.5946\" y=\"111.7074\">*</text></a><!--MD5=[2720a5a1f2c3fca2055b230370638851]\n",
       "link E2 to E3--><a href=\"psysml:6d6473c9-743e-4105-a2af-98d6bd8c1632\" target=\"_top\" title=\"psysml:6d6473c9-743e-4105-a2af-98d6bd8c1632\" xlink:actuate=\"onRequest\" xlink:href=\"psysml:6d6473c9-743e-4105-a2af-98d6bd8c1632\" xlink:show=\"new\" xlink:title=\"psysml:6d6473c9-743e-4105-a2af-98d6bd8c1632\" xlink:type=\"simple\"><path d=\"M201.9,83.58 C184.06,90.55 140.39,108.7 108,131 C82.49,148.57 56.88,174.67 43.84,188.71 \" fill=\"none\" id=\"E2-&gt;E3\" style=\"stroke: #383838; stroke-width: 1.0;\"/><polygon fill=\"#383838\" points=\"40.21,192.66,49.2443,188.738,43.5925,188.9778,43.3527,183.326,40.21,192.66\" style=\"stroke: #383838; stroke-width: 1.0;\"/><text fill=\"#000000\" font-family=\"sans-serif\" font-size=\"13\" lengthAdjust=\"spacingAndGlyphs\" textLength=\"7\" x=\"48.2668\" y=\"176.5238\">*</text></a><!--MD5=[af87c684e3b0d8be13c1a698a818ef1e]\n",
       "link E3 to E4--><a href=\"psysml:4dd56774-018b-4c8a-8121-2b3d6a9c557c\" target=\"_top\" title=\"psysml:4dd56774-018b-4c8a-8121-2b3d6a9c557c\" xlink:actuate=\"onRequest\" xlink:href=\"psysml:4dd56774-018b-4c8a-8121-2b3d6a9c557c\" xlink:show=\"new\" xlink:title=\"psysml:4dd56774-018b-4c8a-8121-2b3d6a9c557c\" xlink:type=\"simple\"><path d=\"M39.08,207.91 C46.63,221.15 63.87,249.24 84,268 C97.73,280.8 115.17,292.16 130.35,300.85 \" fill=\"none\" id=\"E3-&gt;E4\" style=\"stroke: #383838; stroke-width: 1.0;\"/><polygon fill=\"#383838\" points=\"134.98,303.46,129.0858,295.5696,130.6187,301.0148,125.1735,302.5477,134.98,303.46\" style=\"stroke: #383838; stroke-width: 1.0;\"/><text fill=\"#000000\" font-family=\"sans-serif\" font-size=\"13\" lengthAdjust=\"spacingAndGlyphs\" textLength=\"36\" x=\"85\" y=\"264.0669\">[true]</text><text fill=\"#000000\" font-family=\"sans-serif\" font-size=\"13\" lengthAdjust=\"spacingAndGlyphs\" textLength=\"7\" x=\"119.8095\" y=\"294.8128\">*</text></a><!--MD5=[0188b64bb0ae78505a997a81836e11e9]\n",
       "link E3 to E5--><a href=\"psysml:2f25c912-d622-4deb-be6f-2375e7caca37\" target=\"_top\" title=\"psysml:2f25c912-d622-4deb-be6f-2375e7caca37\" xlink:actuate=\"onRequest\" xlink:href=\"psysml:2f25c912-d622-4deb-be6f-2375e7caca37\" xlink:show=\"new\" xlink:title=\"psysml:2f25c912-d622-4deb-be6f-2375e7caca37\" xlink:type=\"simple\"><path d=\"M36.3,210.29 C39.76,234.03 50.73,296.03 76,341 C91.89,369.29 117.42,396.1 137.07,414.43 \" fill=\"none\" id=\"E3-&gt;E5\" style=\"stroke: #383838; stroke-width: 1.0;\"/><polygon fill=\"#383838\" points=\"140.92,417.98,137.0155,408.9382,137.2443,414.5904,131.5921,414.8192,140.92,417.98\" style=\"stroke: #383838; stroke-width: 1.0;\"/><text fill=\"#000000\" font-family=\"sans-serif\" font-size=\"13\" lengthAdjust=\"spacingAndGlyphs\" textLength=\"40\" x=\"77\" y=\"324.0669\">[false]</text><text fill=\"#000000\" font-family=\"sans-serif\" font-size=\"13\" lengthAdjust=\"spacingAndGlyphs\" textLength=\"7\" x=\"126.1631\" y=\"406.9125\">*</text></a><!--MD5=[1b7591eae5389033d8d09a9d6721a717]\n",
       "link E4 to E5--><a href=\"psysml:19ac739f-970e-4750-a1cd-14a3501dcfff\" target=\"_top\" title=\"psysml:19ac739f-970e-4750-a1cd-14a3501dcfff\" xlink:actuate=\"onRequest\" xlink:href=\"psysml:19ac739f-970e-4750-a1cd-14a3501dcfff\" xlink:show=\"new\" xlink:title=\"psysml:19ac739f-970e-4750-a1cd-14a3501dcfff\" xlink:type=\"simple\"><path d=\"M165,341.05 C165,360.9 165,391.02 165,412.52 \" fill=\"none\" id=\"E4-&gt;E5\" style=\"stroke: #383838; stroke-width: 1.0;\"/><polygon fill=\"#383838\" points=\"165,417.79,169,408.79,165,412.79,161,408.79,165,417.79\" style=\"stroke: #383838; stroke-width: 1.0;\"/><text fill=\"#000000\" font-family=\"sans-serif\" font-size=\"13\" lengthAdjust=\"spacingAndGlyphs\" textLength=\"55\" x=\"166\" y=\"384.0669\">[x == 0]</text><text fill=\"#000000\" font-family=\"sans-serif\" font-size=\"13\" lengthAdjust=\"spacingAndGlyphs\" textLength=\"7\" x=\"157.0594\" y=\"407.033\">*</text></a><!--MD5=[34ae78d7ce686ac6a6b018997fcd06f8]\n",
       "@startuml\r\n",
       "top to bottom direction\r\n",
       "skinparam monochrome true\r\n",
       "skinparam classbackgroundcolor white\r\n",
       "skinparam shadowing false\r\n",
       "skinparam wrapWidth 300\r\n",
       "hide circle\r\n",
       "\r\n",
       "rec def \"DecisionTest\" as E1  <<(T,blue) action def>> [[psysml:ec9d2101-14b6-425a-8b3b-258973824e57 ]] {\r\n",
       "choice \"test x\" as E2  [[psysml:7b5c557c-0eca-43da-893a-884adf177ee9 ]] \r\n",
       "choice \"<s>noname</s>\" as E3  [[psysml:c8637911-bdae-488c-9ae7-71f0e05f074a ]] \r\n",
       "rec usage \"A1\" as E4  <<(T,blue) action>> [[psysml:2b21def1-54fd-4014-8db4-beef5c1da0f0 ]] {\r\n",
       "}\r\n",
       "\r\n",
       "rec usage \"A2\" as E5  <<(T,blue) action>> [[psysml:a7c18d95-cb4e-4d18-b7c9-a948ce4b9e35 ]] {\r\n",
       "}\r\n",
       "\r\n",
       "rec usage \"A3\" as E6  <<(T,blue) action>> [[psysml:6ad7aed3-e22d-47c2-b6cf-45fd0f629de6 ]] {\r\n",
       "}\r\n",
       "\r\n",
       "rec usage \"A3\" as E7  <<(T,blue) action>> [[psysml:6ad7aed3-e22d-47c2-b6cf-45fd0f629de6 ]] {\r\n",
       "}\r\n",
       "\r\n",
       "}\r\n",
       "\r\n",
       "E2  - -> \"*\"E4 [[psysml:07a447fb-7978-4e35-9306-ac5ec116db5d ]] : [x == 1]\r\n",
       "E2  - -> \"*\"E5 [[psysml:f195b54a-5fed-403e-bb02-20f21e154f17 ]] : [x > 1]\r\n",
       "E2  - -> \"*\"E7 [[psysml:15c91a99-d9b4-4320-8388-ef3655122685 ]] \r\n",
       "E2 - -> \"*\"E3 [[psysml:6d6473c9-743e-4105-a2af-98d6bd8c1632 ]] \r\n",
       "E3  - -> \"*\"E4 [[psysml:4dd56774-018b-4c8a-8121-2b3d6a9c557c ]] : [true]\r\n",
       "E3  - -> \"*\"E5 [[psysml:2f25c912-d622-4deb-be6f-2375e7caca37 ]] : [false]\r\n",
       "E4  - -> \"*\"E5 [[psysml:19ac739f-970e-4750-a1cd-14a3501dcfff ]] : [x == 0]\r\n",
       "E7  - -> \"*\"E2 [[psysml:c19c71e4-b628-4c9d-aa87-db03cc189a8f ]] : [x > 0]\r\n",
       "@enduml\r\n",
       "\n",
       "PlantUML version 1.2020.13(Sat Jun 13 12:26:38 UTC 2020)\n",
       "(EPL source distribution)\n",
       "Java Runtime: OpenJDK Runtime Environment\n",
       "JVM: OpenJDK 64-Bit Server VM\n",
       "Default Encoding: UTF-8\n",
       "Language: en\n",
       "Country: null\n",
       "--></g></svg>"
      ]
     },
     "execution_count": 44,
     "metadata": {},
     "output_type": "execute_result"
    }
   ],
   "source": [
    "%viz --style=\"TB\" --view=\"Default\" \"DecisionTest\""
   ]
  },
  {
   "cell_type": "code",
   "execution_count": 45,
   "id": "b6f5897e",
   "metadata": {
    "execution": {
     "iopub.execute_input": "2021-10-03T08:29:03.489898Z",
     "iopub.status.busy": "2021-10-03T08:29:03.489492Z",
     "iopub.status.idle": "2021-10-03T08:29:03.543960Z",
     "shell.execute_reply": "2021-10-03T08:29:03.542124Z"
    }
   },
   "outputs": [
    {
     "data": {
      "image/svg+xml": [
       "<?xml version=\"1.0\" encoding=\"UTF-8\" standalone=\"no\"?><svg xmlns=\"http://www.w3.org/2000/svg\" xmlns:xlink=\"http://www.w3.org/1999/xlink\" contentScriptType=\"application/ecmascript\" contentStyleType=\"text/css\" height=\"228px\" preserveAspectRatio=\"none\" style=\"width:525px;height:228px;\" version=\"1.1\" viewBox=\"0 0 525 228\" width=\"525px\" zoomAndPan=\"magnify\"><defs/><g><!--MD5=[43c9051892ef23e1a46a86907403d788]\n",
       "class E1--><a href=\"psysml:ec9d2101-14b6-425a-8b3b-258973824e57\" target=\"_top\" title=\"psysml:ec9d2101-14b6-425a-8b3b-258973824e57\" xlink:actuate=\"onRequest\" xlink:href=\"psysml:ec9d2101-14b6-425a-8b3b-258973824e57\" xlink:show=\"new\" xlink:title=\"psysml:ec9d2101-14b6-425a-8b3b-258973824e57\" xlink:type=\"simple\"><rect fill=\"#FFFFFF\" height=\"105.1563\" id=\"E1\" style=\"stroke: #383838; stroke-width: 1.5;\" width=\"86\" x=\"308.5\" y=\"7\"/><text fill=\"#000000\" font-family=\"sans-serif\" font-size=\"12\" font-style=\"italic\" lengthAdjust=\"spacingAndGlyphs\" textLength=\"77\" x=\"313\" y=\"23.1387\">«action def»</text><text fill=\"#000000\" font-family=\"sans-serif\" font-size=\"12\" lengthAdjust=\"spacingAndGlyphs\" textLength=\"80\" x=\"311.5\" y=\"37.1074\">DecisionTest</text><line style=\"stroke: #383838; stroke-width: 1.5;\" x1=\"309.5\" x2=\"393.5\" y1=\"44.9375\" y2=\"44.9375\"/><text fill=\"#000000\" font-family=\"sans-serif\" font-size=\"11\" lengthAdjust=\"spacingAndGlyphs\" textLength=\"30\" x=\"314.5\" y=\"75.9526\">x= 1;</text><line style=\"stroke: #383838; stroke-width: 1.0;\" x1=\"309.5\" x2=\"324\" y1=\"59.3398\" y2=\"59.3398\"/><text fill=\"#000000\" font-family=\"sans-serif\" font-size=\"11\" lengthAdjust=\"spacingAndGlyphs\" textLength=\"55\" x=\"324\" y=\"62.6479\">attributes</text><line style=\"stroke: #383838; stroke-width: 1.0;\" x1=\"379\" x2=\"393.5\" y1=\"59.3398\" y2=\"59.3398\"/><text fill=\"#000000\" font-family=\"sans-serif\" font-size=\"11\" lengthAdjust=\"spacingAndGlyphs\" textLength=\"8\" x=\"314.5\" y=\"105.562\">S</text><line style=\"stroke: #383838; stroke-width: 1.0;\" x1=\"309.5\" x2=\"321\" y1=\"88.9492\" y2=\"88.9492\"/><text fill=\"#000000\" font-family=\"sans-serif\" font-size=\"11\" lengthAdjust=\"spacingAndGlyphs\" textLength=\"61\" x=\"321\" y=\"92.2573\">transitions</text><line style=\"stroke: #383838; stroke-width: 1.0;\" x1=\"382\" x2=\"393.5\" y1=\"88.9492\" y2=\"88.9492\"/></a><!--MD5=[b4997ac47864f28c2f74865a473b2911]\n",
       "class E2--><a href=\"psysml:7b5c557c-0eca-43da-893a-884adf177ee9\" target=\"_top\" title=\"psysml:7b5c557c-0eca-43da-893a-884adf177ee9\" xlink:actuate=\"onRequest\" xlink:href=\"psysml:7b5c557c-0eca-43da-893a-884adf177ee9\" xlink:show=\"new\" xlink:title=\"psysml:7b5c557c-0eca-43da-893a-884adf177ee9\" xlink:type=\"simple\"><rect fill=\"#FFFFFF\" height=\"45.9375\" id=\"E2\" rx=\"10\" ry=\"10\" style=\"stroke: #383838; stroke-width: 1.5;\" width=\"101\" x=\"7\" y=\"172\"/><text fill=\"#000000\" font-family=\"sans-serif\" font-size=\"12\" font-style=\"italic\" lengthAdjust=\"spacingAndGlyphs\" textLength=\"99\" x=\"8\" y=\"188.1387\">«decisionNode»</text><text fill=\"#000000\" font-family=\"sans-serif\" font-size=\"12\" lengthAdjust=\"spacingAndGlyphs\" textLength=\"35\" x=\"40\" y=\"202.1074\">test x</text><line style=\"stroke: #383838; stroke-width: 1.5;\" x1=\"8\" x2=\"107\" y1=\"209.9375\" y2=\"209.9375\"/></a><!--MD5=[09b614a08d8cba4a07c9adeb5e0fee81]\n",
       "class E3--><a href=\"psysml:c8637911-bdae-488c-9ae7-71f0e05f074a\" target=\"_top\" title=\"psysml:c8637911-bdae-488c-9ae7-71f0e05f074a\" xlink:actuate=\"onRequest\" xlink:href=\"psysml:c8637911-bdae-488c-9ae7-71f0e05f074a\" xlink:show=\"new\" xlink:title=\"psysml:c8637911-bdae-488c-9ae7-71f0e05f074a\" xlink:type=\"simple\"><rect fill=\"#FFFFFF\" height=\"45.9375\" id=\"E3\" rx=\"10\" ry=\"10\" style=\"stroke: #383838; stroke-width: 1.5;\" width=\"101\" x=\"143\" y=\"172\"/><text fill=\"#000000\" font-family=\"sans-serif\" font-size=\"12\" font-style=\"italic\" lengthAdjust=\"spacingAndGlyphs\" textLength=\"99\" x=\"144\" y=\"188.1387\">«decisionNode»</text><text fill=\"#000000\" font-family=\"sans-serif\" font-size=\"12\" lengthAdjust=\"spacingAndGlyphs\" text-decoration=\"line-through\" textLength=\"51\" x=\"168\" y=\"202.1074\">noname</text><line style=\"stroke: #383838; stroke-width: 1.5;\" x1=\"144\" x2=\"243\" y1=\"209.9375\" y2=\"209.9375\"/></a><!--MD5=[ebbe1d658d1005bcc118a6aa81145e00]\n",
       "class E4--><a href=\"psysml:2b21def1-54fd-4014-8db4-beef5c1da0f0\" target=\"_top\" title=\"psysml:2b21def1-54fd-4014-8db4-beef5c1da0f0\" xlink:actuate=\"onRequest\" xlink:href=\"psysml:2b21def1-54fd-4014-8db4-beef5c1da0f0\" xlink:show=\"new\" xlink:title=\"psysml:2b21def1-54fd-4014-8db4-beef5c1da0f0\" xlink:type=\"simple\"><rect fill=\"#FFFFFF\" height=\"45.9375\" id=\"E4\" rx=\"10\" ry=\"10\" style=\"stroke: #383838; stroke-width: 1.5;\" width=\"55\" x=\"279\" y=\"172\"/><text fill=\"#000000\" font-family=\"sans-serif\" font-size=\"12\" font-style=\"italic\" lengthAdjust=\"spacingAndGlyphs\" textLength=\"53\" x=\"280\" y=\"188.1387\">«action»</text><text fill=\"#000000\" font-family=\"sans-serif\" font-size=\"12\" lengthAdjust=\"spacingAndGlyphs\" textLength=\"16\" x=\"298.5\" y=\"202.1074\">A1</text><line style=\"stroke: #383838; stroke-width: 1.5;\" x1=\"280\" x2=\"333\" y1=\"209.9375\" y2=\"209.9375\"/></a><!--MD5=[270fce915f116d4de14055a7c1d9a0f3]\n",
       "class E5--><a href=\"psysml:a7c18d95-cb4e-4d18-b7c9-a948ce4b9e35\" target=\"_top\" title=\"psysml:a7c18d95-cb4e-4d18-b7c9-a948ce4b9e35\" xlink:actuate=\"onRequest\" xlink:href=\"psysml:a7c18d95-cb4e-4d18-b7c9-a948ce4b9e35\" xlink:show=\"new\" xlink:title=\"psysml:a7c18d95-cb4e-4d18-b7c9-a948ce4b9e35\" xlink:type=\"simple\"><rect fill=\"#FFFFFF\" height=\"45.9375\" id=\"E5\" rx=\"10\" ry=\"10\" style=\"stroke: #383838; stroke-width: 1.5;\" width=\"55\" x=\"369\" y=\"172\"/><text fill=\"#000000\" font-family=\"sans-serif\" font-size=\"12\" font-style=\"italic\" lengthAdjust=\"spacingAndGlyphs\" textLength=\"53\" x=\"370\" y=\"188.1387\">«action»</text><text fill=\"#000000\" font-family=\"sans-serif\" font-size=\"12\" lengthAdjust=\"spacingAndGlyphs\" textLength=\"16\" x=\"388.5\" y=\"202.1074\">A2</text><line style=\"stroke: #383838; stroke-width: 1.5;\" x1=\"370\" x2=\"423\" y1=\"209.9375\" y2=\"209.9375\"/></a><!--MD5=[60a26617385b1d2d0262a64233df1f8d]\n",
       "class E6--><a href=\"psysml:6ad7aed3-e22d-47c2-b6cf-45fd0f629de6\" target=\"_top\" title=\"psysml:6ad7aed3-e22d-47c2-b6cf-45fd0f629de6\" xlink:actuate=\"onRequest\" xlink:href=\"psysml:6ad7aed3-e22d-47c2-b6cf-45fd0f629de6\" xlink:show=\"new\" xlink:title=\"psysml:6ad7aed3-e22d-47c2-b6cf-45fd0f629de6\" xlink:type=\"simple\"><rect fill=\"#FFFFFF\" height=\"45.9375\" id=\"E6\" rx=\"10\" ry=\"10\" style=\"stroke: #383838; stroke-width: 1.5;\" width=\"55\" x=\"459\" y=\"172\"/><text fill=\"#000000\" font-family=\"sans-serif\" font-size=\"12\" font-style=\"italic\" lengthAdjust=\"spacingAndGlyphs\" textLength=\"53\" x=\"460\" y=\"188.1387\">«action»</text><text fill=\"#000000\" font-family=\"sans-serif\" font-size=\"12\" lengthAdjust=\"spacingAndGlyphs\" textLength=\"16\" x=\"478.5\" y=\"202.1074\">A3</text><line style=\"stroke: #383838; stroke-width: 1.5;\" x1=\"460\" x2=\"513\" y1=\"209.9375\" y2=\"209.9375\"/></a><!--MD5=[a523cb2a0b79ecf9065ad8783f96c320]\n",
       "reverse link E1 to E2--><a href=\"psysml:a3cf86ed-3d1a-4135-b385-a97024d6cab4\" target=\"_top\" title=\"psysml:a3cf86ed-3d1a-4135-b385-a97024d6cab4\" xlink:actuate=\"onRequest\" xlink:href=\"psysml:a3cf86ed-3d1a-4135-b385-a97024d6cab4\" xlink:show=\"new\" xlink:title=\"psysml:a3cf86ed-3d1a-4135-b385-a97024d6cab4\" xlink:type=\"simple\"><path d=\"M296.52,85.46 C241.75,110.33 158.47,148.15 106.07,171.95 \" fill=\"none\" id=\"E1&lt;-E2\" style=\"stroke: #383838; stroke-width: 1.0;\"/><polygon fill=\"#383838\" points=\"308.44,80.06,301.323,78.8988,297.5138,85.0217,304.6308,86.1829,308.44,80.06\" style=\"stroke: #383838; stroke-width: 1.0;\"/></a><!--MD5=[5d7b3810b1dd9b5164bea1151b29b665]\n",
       "reverse link E1 to E3--><a href=\"psysml:1909c977-6510-4eff-a578-3c7de40e7c8b\" target=\"_top\" title=\"psysml:1909c977-6510-4eff-a578-3c7de40e7c8b\" xlink:actuate=\"onRequest\" xlink:href=\"psysml:1909c977-6510-4eff-a578-3c7de40e7c8b\" xlink:show=\"new\" xlink:title=\"psysml:1909c977-6510-4eff-a578-3c7de40e7c8b\" xlink:type=\"simple\"><path d=\"M298.08,105.64 C271.7,127.93 241.06,153.82 219.79,171.79 \" fill=\"none\" id=\"E1&lt;-E3\" style=\"stroke: #383838; stroke-width: 1.0;\"/><polygon fill=\"#383838\" points=\"308.33,96.98,301.1646,97.7906,299.1569,104.7165,306.3223,103.906,308.33,96.98\" style=\"stroke: #383838; stroke-width: 1.0;\"/></a><!--MD5=[f2c5c03aa1e8c0ba21c10a05e6444b8e]\n",
       "reverse link E1 to E4--><a href=\"psysml:fda894ee-2ee4-49d0-993e-77e7f0096dce\" target=\"_top\" title=\"psysml:fda894ee-2ee4-49d0-993e-77e7f0096dce\" xlink:actuate=\"onRequest\" xlink:href=\"psysml:fda894ee-2ee4-49d0-993e-77e7f0096dce\" xlink:show=\"new\" xlink:title=\"psysml:fda894ee-2ee4-49d0-993e-77e7f0096dce\" xlink:type=\"simple\"><path d=\"M329.79,124.91 C324.1,141.78 318.35,158.85 313.98,171.8 \" fill=\"none\" id=\"E1&lt;-E4\" style=\"stroke: #383838; stroke-width: 1.0;\"/><polygon fill=\"#383838\" points=\"334.1,112.11,328.391,116.5154,330.2618,123.4796,335.9708,119.0742,334.1,112.11\" style=\"stroke: #383838; stroke-width: 1.0;\"/><text fill=\"#000000\" font-family=\"sans-serif\" font-size=\"13\" lengthAdjust=\"spacingAndGlyphs\" textLength=\"7\" x=\"307.9999\" y=\"161.025\">*</text></a><!--MD5=[33238bef88d6431a141d8bc8fb12bca0]\n",
       "reverse link E1 to E5--><a href=\"psysml:109468b3-506c-4497-b8ac-b8e68c843a0f\" target=\"_top\" title=\"psysml:109468b3-506c-4497-b8ac-b8e68c843a0f\" xlink:actuate=\"onRequest\" xlink:href=\"psysml:109468b3-506c-4497-b8ac-b8e68c843a0f\" xlink:show=\"new\" xlink:title=\"psysml:109468b3-506c-4497-b8ac-b8e68c843a0f\" xlink:type=\"simple\"><path d=\"M373.21,124.91 C378.9,141.78 384.65,158.85 389.02,171.8 \" fill=\"none\" id=\"E1&lt;-E5\" style=\"stroke: #383838; stroke-width: 1.0;\"/><polygon fill=\"#383838\" points=\"368.9,112.11,367.0292,119.0742,372.7382,123.4796,374.609,116.5154,368.9,112.11\" style=\"stroke: #383838; stroke-width: 1.0;\"/><text fill=\"#000000\" font-family=\"sans-serif\" font-size=\"13\" lengthAdjust=\"spacingAndGlyphs\" textLength=\"7\" x=\"379.2064\" y=\"161.025\">*</text></a><!--MD5=[aca2ef284c2b1b90e17e73bf3f292c07]\n",
       "reverse link E1 to E6--><a href=\"psysml:74d19cab-9a73-4108-b783-78a99b82b215\" target=\"_top\" title=\"psysml:74d19cab-9a73-4108-b783-78a99b82b215\" xlink:actuate=\"onRequest\" xlink:href=\"psysml:74d19cab-9a73-4108-b783-78a99b82b215\" xlink:show=\"new\" xlink:title=\"psysml:74d19cab-9a73-4108-b783-78a99b82b215\" xlink:type=\"simple\"><path d=\"M400.61,121.64 C420.11,141.2 441.74,161.41 458.63,175.48 \" fill=\"none\" id=\"E1&lt;-E6\" style=\"stroke: #383838; stroke-width: 1.0;\"/><polygon fill=\"#383838\" points=\"391.24,112.11,392.5992,119.1919,399.659,120.661,398.2999,113.5792,391.24,112.11\" style=\"stroke: #383838; stroke-width: 1.0;\"/><text fill=\"#000000\" font-family=\"sans-serif\" font-size=\"13\" lengthAdjust=\"spacingAndGlyphs\" textLength=\"7\" x=\"443.9836\" y=\"165.9846\">*</text></a><!--MD5=[aca2ef284c2b1b90e17e73bf3f292c07]\n",
       "reverse link E1 to E6--><a href=\"psysml:5ce6f7c0-8ea6-4680-8afe-13e322408ece\" target=\"_top\" title=\"psysml:5ce6f7c0-8ea6-4680-8afe-13e322408ece\" xlink:actuate=\"onRequest\" xlink:href=\"psysml:5ce6f7c0-8ea6-4680-8afe-13e322408ece\" xlink:show=\"new\" xlink:title=\"psysml:5ce6f7c0-8ea6-4680-8afe-13e322408ece\" xlink:type=\"simple\"><path d=\"M406.06,101.99 C431.04,125 458.31,152.7 474.29,171.66 \" fill=\"none\" id=\"E1&lt;-E6-1\" style=\"stroke: #383838; stroke-width: 1.0; stroke-dasharray: 7.0,7.0;\"/><ellipse cx=\"400.7216\" cy=\"97.1681\" fill=\"#FFFFFF\" rx=\"8\" ry=\"8\" style=\"stroke: #383838; stroke-width: 1.0;\"/><line style=\"stroke: #383838; stroke-width: 1.0;\" x1=\"406.6531\" x2=\"394.79\" y1=\"102.5362\" y2=\"91.8\"/><line style=\"stroke: #383838; stroke-width: 1.0;\" x1=\"395.3535\" x2=\"406.0897\" y1=\"103.0997\" y2=\"91.2365\"/><text fill=\"#000000\" font-family=\"sans-serif\" font-size=\"13\" lengthAdjust=\"spacingAndGlyphs\" textLength=\"7\" x=\"463.2643\" y=\"160.8492\">*</text></a><!--MD5=[df424093e466458ce5343ed4d0b9355d]\n",
       "@startuml\r\n",
       "top to bottom direction\r\n",
       "skinparam monochrome true\r\n",
       "skinparam classbackgroundcolor white\r\n",
       "skinparam shadowing false\r\n",
       "skinparam wrapWidth 300\r\n",
       "hide circle\r\n",
       "\r\n",
       "comp def \"DecisionTest\" as E1  <<(T,blue) action def>> [[psysml:ec9d2101-14b6-425a-8b3b-258973824e57 ]] {\r\n",
       "- - attributes - -\r\n",
       "x= 1; \r\n",
       "- - transitions - -\r\n",
       "S\r\n",
       "}\r\n",
       "comp usage \"test x\" as E2  <<(T,blue) decisionNode>> [[psysml:7b5c557c-0eca-43da-893a-884adf177ee9 ]] {\r\n",
       "}\r\n",
       "comp usage \"<s>noname</s>\" as E3  <<(T,blue) decisionNode>> [[psysml:c8637911-bdae-488c-9ae7-71f0e05f074a ]] {\r\n",
       "}\r\n",
       "comp usage \"A1\" as E4  <<(T,blue) action>> [[psysml:2b21def1-54fd-4014-8db4-beef5c1da0f0 ]] {\r\n",
       "}\r\n",
       "comp usage \"A2\" as E5  <<(T,blue) action>> [[psysml:a7c18d95-cb4e-4d18-b7c9-a948ce4b9e35 ]] {\r\n",
       "}\r\n",
       "comp usage \"A3\" as E6  <<(T,blue) action>> [[psysml:6ad7aed3-e22d-47c2-b6cf-45fd0f629de6 ]] {\r\n",
       "}\r\n",
       "E1 *- - E2 [[psysml:a3cf86ed-3d1a-4135-b385-a97024d6cab4 ]] \r\n",
       "E1 *- - E3 [[psysml:1909c977-6510-4eff-a578-3c7de40e7c8b ]] \r\n",
       "E1 *- - \"*\"E4 [[psysml:fda894ee-2ee4-49d0-993e-77e7f0096dce ]] \r\n",
       "E1 *- - \"*\"E5 [[psysml:109468b3-506c-4497-b8ac-b8e68c843a0f ]] \r\n",
       "E1 *- - \"*\"E6 [[psysml:74d19cab-9a73-4108-b783-78a99b82b215 ]] \r\n",
       "E1 +.. \"*\"E6 [[psysml:5ce6f7c0-8ea6-4680-8afe-13e322408ece ]] \r\n",
       "@enduml\r\n",
       "\n",
       "PlantUML version 1.2020.13(Sat Jun 13 12:26:38 UTC 2020)\n",
       "(EPL source distribution)\n",
       "Java Runtime: OpenJDK Runtime Environment\n",
       "JVM: OpenJDK 64-Bit Server VM\n",
       "Default Encoding: UTF-8\n",
       "Language: en\n",
       "Country: null\n",
       "--></g></svg>"
      ]
     },
     "execution_count": 45,
     "metadata": {},
     "output_type": "execute_result"
    }
   ],
   "source": [
    "%viz --style=\"TB\" --view=\"Tree\" \"DecisionTest\""
   ]
  },
  {
   "cell_type": "code",
   "execution_count": 46,
   "id": "b386f3f4",
   "metadata": {
    "execution": {
     "iopub.execute_input": "2021-10-03T08:29:03.592732Z",
     "iopub.status.busy": "2021-10-03T08:29:03.592328Z",
     "iopub.status.idle": "2021-10-03T08:29:03.597725Z",
     "shell.execute_reply": "2021-10-03T08:29:03.597368Z"
    }
   },
   "outputs": [
    {
     "data": {
      "image/svg+xml": [
       "<?xml version=\"1.0\" encoding=\"UTF-8\" standalone=\"no\"?><svg xmlns=\"http://www.w3.org/2000/svg\" xmlns:xlink=\"http://www.w3.org/1999/xlink\" contentScriptType=\"application/ecmascript\" contentStyleType=\"text/css\" height=\"12px\" preserveAspectRatio=\"none\" style=\"width:12px;height:12px;\" version=\"1.1\" viewBox=\"0 0 12 12\" width=\"12px\" zoomAndPan=\"magnify\"><defs/><g><!--MD5=[f4ee21bc66e489b5061b7c3e9601fdef]\n",
       "@startuml\r\n",
       "top to bottom direction\r\n",
       "skinparam monochrome true\r\n",
       "skinparam classbackgroundcolor white\r\n",
       "skinparam shadowing false\r\n",
       "skinparam wrapWidth 300\r\n",
       "hide circle\r\n",
       "\r\n",
       "@enduml\r\n",
       "\n",
       "PlantUML version 1.2020.13(Sat Jun 13 12:26:38 UTC 2020)\n",
       "(EPL source distribution)\n",
       "Java Runtime: OpenJDK Runtime Environment\n",
       "JVM: OpenJDK 64-Bit Server VM\n",
       "Default Encoding: UTF-8\n",
       "Language: en\n",
       "Country: null\n",
       "--></g></svg>"
      ]
     },
     "execution_count": 46,
     "metadata": {},
     "output_type": "execute_result"
    }
   ],
   "source": [
    "%viz --style=\"TB\" --view=\"State\" \"DecisionTest\""
   ]
  },
  {
   "cell_type": "code",
   "execution_count": 47,
   "id": "4ca78275",
   "metadata": {
    "execution": {
     "iopub.execute_input": "2021-10-03T08:29:03.647216Z",
     "iopub.status.busy": "2021-10-03T08:29:03.646809Z",
     "iopub.status.idle": "2021-10-03T08:29:03.685449Z",
     "shell.execute_reply": "2021-10-03T08:29:03.683581Z"
    }
   },
   "outputs": [
    {
     "data": {
      "image/svg+xml": [
       "<?xml version=\"1.0\" encoding=\"UTF-8\" standalone=\"no\"?><svg xmlns=\"http://www.w3.org/2000/svg\" xmlns:xlink=\"http://www.w3.org/1999/xlink\" contentScriptType=\"application/ecmascript\" contentStyleType=\"text/css\" height=\"356px\" preserveAspectRatio=\"none\" style=\"width:333px;height:356px;\" version=\"1.1\" viewBox=\"0 0 333 356\" width=\"333px\" zoomAndPan=\"magnify\"><defs/><g><!--MD5=[fbc87193dbaf4d95561dea2c320d4a47]\n",
       "cluster E1--><a href=\"psysml:ec9d2101-14b6-425a-8b3b-258973824e57\" target=\"_top\" title=\"psysml:ec9d2101-14b6-425a-8b3b-258973824e57\" xlink:actuate=\"onRequest\" xlink:href=\"psysml:ec9d2101-14b6-425a-8b3b-258973824e57\" xlink:show=\"new\" xlink:title=\"psysml:ec9d2101-14b6-425a-8b3b-258973824e57\" xlink:type=\"simple\"><rect fill=\"#FFFFFF\" height=\"338\" id=\"E1\" style=\"stroke: #383838; stroke-width: 1.5;\" width=\"315\" x=\"7\" y=\"7\"/><rect fill=\"#F8F8F8\" height=\"37.9375\" style=\"stroke: #383838; stroke-width: 1.5;\" width=\"315\" x=\"7\" y=\"7\"/><text fill=\"#000000\" font-family=\"sans-serif\" font-size=\"12\" font-style=\"italic\" lengthAdjust=\"spacingAndGlyphs\" textLength=\"77\" x=\"126\" y=\"23.1387\">«action def»</text><text fill=\"#000000\" font-family=\"sans-serif\" font-size=\"12\" lengthAdjust=\"spacingAndGlyphs\" textLength=\"80\" x=\"124.5\" y=\"37.1074\">DecisionTest</text></a><polygon fill=\"#F8F8F8\" points=\"210,67.5,222,79.5,210,91.5,198,79.5,210,67.5\" style=\"stroke: #383838; stroke-width: 1.5;\"/><polygon fill=\"#F8F8F8\" points=\"35,143.5,47,155.5,35,167.5,23,155.5,35,143.5\" style=\"stroke: #383838; stroke-width: 1.5;\"/><g id=\"E1.E4\"><a href=\"psysml:2b21def1-54fd-4014-8db4-beef5c1da0f0\" target=\"_top\" title=\"psysml:2b21def1-54fd-4014-8db4-beef5c1da0f0\" xlink:actuate=\"onRequest\" xlink:href=\"psysml:2b21def1-54fd-4014-8db4-beef5c1da0f0\" xlink:show=\"new\" xlink:title=\"psysml:2b21def1-54fd-4014-8db4-beef5c1da0f0\" xlink:type=\"simple\"><rect fill=\"#FFFFFF\" height=\"42.9375\" id=\"E4\" rx=\"10\" ry=\"10\" style=\"stroke: #383838; stroke-width: 1.5;\" width=\"60\" x=\"135\" y=\"210\"/><rect fill=\"#F8F8F8\" height=\"37.9375\" rx=\"10\" ry=\"10\" style=\"stroke: #F8F8F8; stroke-width: 1.5;\" width=\"60\" x=\"135\" y=\"210\"/><rect fill=\"#F8F8F8\" height=\"10\" style=\"stroke: #F8F8F8; stroke-width: 1.5;\" width=\"60\" x=\"135\" y=\"237.9375\"/><rect fill=\"none\" height=\"42.9375\" id=\"E4\" rx=\"10\" ry=\"10\" style=\"stroke: #383838; stroke-width: 1.5;\" width=\"60\" x=\"135\" y=\"210\"/><text fill=\"#000000\" font-family=\"sans-serif\" font-size=\"12\" font-style=\"italic\" lengthAdjust=\"spacingAndGlyphs\" textLength=\"53\" x=\"138.5\" y=\"226.1387\">«action»</text><text fill=\"#000000\" font-family=\"sans-serif\" font-size=\"12\" lengthAdjust=\"spacingAndGlyphs\" textLength=\"16\" x=\"157\" y=\"240.1074\">A1</text></a></g><g id=\"E1.E5\"><a href=\"psysml:a7c18d95-cb4e-4d18-b7c9-a948ce4b9e35\" target=\"_top\" title=\"psysml:a7c18d95-cb4e-4d18-b7c9-a948ce4b9e35\" xlink:actuate=\"onRequest\" xlink:href=\"psysml:a7c18d95-cb4e-4d18-b7c9-a948ce4b9e35\" xlink:show=\"new\" xlink:title=\"psysml:a7c18d95-cb4e-4d18-b7c9-a948ce4b9e35\" xlink:type=\"simple\"><rect fill=\"#FFFFFF\" height=\"42.9375\" id=\"E5\" rx=\"10\" ry=\"10\" style=\"stroke: #383838; stroke-width: 1.5;\" width=\"60\" x=\"135\" y=\"286\"/><rect fill=\"#F8F8F8\" height=\"37.9375\" rx=\"10\" ry=\"10\" style=\"stroke: #F8F8F8; stroke-width: 1.5;\" width=\"60\" x=\"135\" y=\"286\"/><rect fill=\"#F8F8F8\" height=\"10\" style=\"stroke: #F8F8F8; stroke-width: 1.5;\" width=\"60\" x=\"135\" y=\"313.9375\"/><rect fill=\"none\" height=\"42.9375\" id=\"E5\" rx=\"10\" ry=\"10\" style=\"stroke: #383838; stroke-width: 1.5;\" width=\"60\" x=\"135\" y=\"286\"/><text fill=\"#000000\" font-family=\"sans-serif\" font-size=\"12\" font-style=\"italic\" lengthAdjust=\"spacingAndGlyphs\" textLength=\"53\" x=\"138.5\" y=\"302.1387\">«action»</text><text fill=\"#000000\" font-family=\"sans-serif\" font-size=\"12\" lengthAdjust=\"spacingAndGlyphs\" textLength=\"16\" x=\"157\" y=\"316.1074\">A2</text></a></g><g id=\"E1.E6\"><a href=\"psysml:6ad7aed3-e22d-47c2-b6cf-45fd0f629de6\" target=\"_top\" title=\"psysml:6ad7aed3-e22d-47c2-b6cf-45fd0f629de6\" xlink:actuate=\"onRequest\" xlink:href=\"psysml:6ad7aed3-e22d-47c2-b6cf-45fd0f629de6\" xlink:show=\"new\" xlink:title=\"psysml:6ad7aed3-e22d-47c2-b6cf-45fd0f629de6\" xlink:type=\"simple\"><rect fill=\"#FFFFFF\" height=\"42.9375\" id=\"E6\" rx=\"10\" ry=\"10\" style=\"stroke: #383838; stroke-width: 1.5;\" width=\"60\" x=\"63\" y=\"58\"/><rect fill=\"#F8F8F8\" height=\"37.9375\" rx=\"10\" ry=\"10\" style=\"stroke: #F8F8F8; stroke-width: 1.5;\" width=\"60\" x=\"63\" y=\"58\"/><rect fill=\"#F8F8F8\" height=\"10\" style=\"stroke: #F8F8F8; stroke-width: 1.5;\" width=\"60\" x=\"63\" y=\"85.9375\"/><rect fill=\"none\" height=\"42.9375\" id=\"E6\" rx=\"10\" ry=\"10\" style=\"stroke: #383838; stroke-width: 1.5;\" width=\"60\" x=\"63\" y=\"58\"/><text fill=\"#000000\" font-family=\"sans-serif\" font-size=\"12\" font-style=\"italic\" lengthAdjust=\"spacingAndGlyphs\" textLength=\"53\" x=\"66.5\" y=\"74.1387\">«action»</text><text fill=\"#000000\" font-family=\"sans-serif\" font-size=\"12\" lengthAdjust=\"spacingAndGlyphs\" textLength=\"16\" x=\"85\" y=\"88.1074\">A3</text></a></g><g id=\"E1.E7\"><a href=\"psysml:6ad7aed3-e22d-47c2-b6cf-45fd0f629de6\" target=\"_top\" title=\"psysml:6ad7aed3-e22d-47c2-b6cf-45fd0f629de6\" xlink:actuate=\"onRequest\" xlink:href=\"psysml:6ad7aed3-e22d-47c2-b6cf-45fd0f629de6\" xlink:show=\"new\" xlink:title=\"psysml:6ad7aed3-e22d-47c2-b6cf-45fd0f629de6\" xlink:type=\"simple\"><rect fill=\"#FFFFFF\" height=\"42.9375\" id=\"E7\" rx=\"10\" ry=\"10\" style=\"stroke: #383838; stroke-width: 1.5;\" width=\"60\" x=\"246\" y=\"134\"/><rect fill=\"#F8F8F8\" height=\"37.9375\" rx=\"10\" ry=\"10\" style=\"stroke: #F8F8F8; stroke-width: 1.5;\" width=\"60\" x=\"246\" y=\"134\"/><rect fill=\"#F8F8F8\" height=\"10\" style=\"stroke: #F8F8F8; stroke-width: 1.5;\" width=\"60\" x=\"246\" y=\"161.9375\"/><rect fill=\"none\" height=\"42.9375\" id=\"E7\" rx=\"10\" ry=\"10\" style=\"stroke: #383838; stroke-width: 1.5;\" width=\"60\" x=\"246\" y=\"134\"/><text fill=\"#000000\" font-family=\"sans-serif\" font-size=\"12\" font-style=\"italic\" lengthAdjust=\"spacingAndGlyphs\" textLength=\"53\" x=\"249.5\" y=\"150.1387\">«action»</text><text fill=\"#000000\" font-family=\"sans-serif\" font-size=\"12\" lengthAdjust=\"spacingAndGlyphs\" textLength=\"16\" x=\"268\" y=\"164.1074\">A3</text></a></g><!--MD5=[4d03bb2d0377dc85ccfab60ff574652b]\n",
       "link E2 to E4--><a href=\"psysml:07a447fb-7978-4e35-9306-ac5ec116db5d\" target=\"_top\" title=\"psysml:07a447fb-7978-4e35-9306-ac5ec116db5d\" xlink:actuate=\"onRequest\" xlink:href=\"psysml:07a447fb-7978-4e35-9306-ac5ec116db5d\" xlink:show=\"new\" xlink:title=\"psysml:07a447fb-7978-4e35-9306-ac5ec116db5d\" xlink:type=\"simple\"><path d=\"M201.97,84.07 C187.22,91.12 156.19,108.44 144,134 C133.21,156.64 141.61,184.91 150.79,204.99 \" fill=\"none\" id=\"E2-&gt;E4\" style=\"stroke: #383838; stroke-width: 1.0;\"/><polygon fill=\"#383838\" points=\"153,209.65,152.7662,199.8039,150.8614,205.1304,145.5349,203.2257,153,209.65\" style=\"stroke: #383838; stroke-width: 1.0;\"/><text fill=\"#000000\" font-family=\"sans-serif\" font-size=\"13\" lengthAdjust=\"spacingAndGlyphs\" textLength=\"55\" x=\"145\" y=\"160.0669\">[x == 1]</text><text fill=\"#000000\" font-family=\"sans-serif\" font-size=\"13\" lengthAdjust=\"spacingAndGlyphs\" textLength=\"7\" x=\"141.8344\" y=\"198.8553\">*</text></a><!--MD5=[dcad52bbbca2fe8adc741ce38b45dc12]\n",
       "link E2 to E5--><a href=\"psysml:f195b54a-5fed-403e-bb02-20f21e154f17\" target=\"_top\" title=\"psysml:f195b54a-5fed-403e-bb02-20f21e154f17\" xlink:actuate=\"onRequest\" xlink:href=\"psysml:f195b54a-5fed-403e-bb02-20f21e154f17\" xlink:show=\"new\" xlink:title=\"psysml:f195b54a-5fed-403e-bb02-20f21e154f17\" xlink:type=\"simple\"><path d=\"M211.03,90.77 C214.33,123.83 224.51,227.37 226,261 C226.33,268.55 230.06,271.63 226,278 C220.01,287.41 210.02,293.76 199.83,298.03 \" fill=\"none\" id=\"E2-&gt;E5\" style=\"stroke: #383838; stroke-width: 1.0;\"/><polygon fill=\"#383838\" points=\"195.15,299.85,204.9881,300.3102,199.8089,298.035,202.0841,292.8559,195.15,299.85\" style=\"stroke: #383838; stroke-width: 1.0;\"/><text fill=\"#000000\" font-family=\"sans-serif\" font-size=\"13\" lengthAdjust=\"spacingAndGlyphs\" textLength=\"44\" x=\"222\" y=\"198.0669\">[x &gt; 1]</text><text fill=\"#000000\" font-family=\"sans-serif\" font-size=\"13\" lengthAdjust=\"spacingAndGlyphs\" textLength=\"7\" x=\"202.9316\" y=\"293.436\">*</text></a><!--MD5=[e3d2a08a9c9236652057e8ed0cbc9b62]\n",
       "link E2 to E7--><a href=\"psysml:15c91a99-d9b4-4320-8388-ef3655122685\" target=\"_top\" title=\"psysml:15c91a99-d9b4-4320-8388-ef3655122685\" xlink:actuate=\"onRequest\" xlink:href=\"psysml:15c91a99-d9b4-4320-8388-ef3655122685\" xlink:show=\"new\" xlink:title=\"psysml:15c91a99-d9b4-4320-8388-ef3655122685\" xlink:type=\"simple\"><path d=\"M210.68,90.95 C211.82,100.93 214.86,115.89 223,126 C227.84,132.02 234.31,136.94 241.06,140.89 \" fill=\"none\" id=\"E2-&gt;E7\" style=\"stroke: #383838; stroke-width: 1.0;\"/><polygon fill=\"#383838\" points=\"245.76,143.47,239.7851,135.6406,241.3738,141.0697,235.9446,142.6585,245.76,143.47\" style=\"stroke: #383838; stroke-width: 1.0;\"/><text fill=\"#000000\" font-family=\"sans-serif\" font-size=\"13\" lengthAdjust=\"spacingAndGlyphs\" textLength=\"7\" x=\"230.9576\" y=\"136.0432\">*</text></a><!--MD5=[583832df87f4419a098336a29a52fa00]\n",
       "link E7 to E2--><a href=\"psysml:c19c71e4-b628-4c9d-aa87-db03cc189a8f\" target=\"_top\" title=\"psysml:c19c71e4-b628-4c9d-aa87-db03cc189a8f\" xlink:actuate=\"onRequest\" xlink:href=\"psysml:c19c71e4-b628-4c9d-aa87-db03cc189a8f\" xlink:show=\"new\" xlink:title=\"psysml:c19c71e4-b628-4c9d-aa87-db03cc189a8f\" xlink:type=\"simple\"><path d=\"M257.61,133.88 C245.02,119.76 228.86,101.65 218.98,90.57 \" fill=\"none\" id=\"E7-&gt;E2\" style=\"stroke: #383838; stroke-width: 1.0;\"/><polygon fill=\"#383838\" points=\"215.4,86.56,218.3919,95.9434,218.7227,90.2963,224.3699,90.6271,215.4,86.56\" style=\"stroke: #383838; stroke-width: 1.0;\"/><text fill=\"#000000\" font-family=\"sans-serif\" font-size=\"13\" lengthAdjust=\"spacingAndGlyphs\" textLength=\"44\" x=\"249\" y=\"122.0669\">[x &gt; 0]</text><text fill=\"#000000\" font-family=\"sans-serif\" font-size=\"13\" lengthAdjust=\"spacingAndGlyphs\" textLength=\"7\" x=\"210.0625\" y=\"111.425\">*</text></a><!--MD5=[2720a5a1f2c3fca2055b230370638851]\n",
       "link E2 to E3--><a href=\"psysml:6d6473c9-743e-4105-a2af-98d6bd8c1632\" target=\"_top\" title=\"psysml:6d6473c9-743e-4105-a2af-98d6bd8c1632\" xlink:actuate=\"onRequest\" xlink:href=\"psysml:6d6473c9-743e-4105-a2af-98d6bd8c1632\" xlink:show=\"new\" xlink:title=\"psysml:6d6473c9-743e-4105-a2af-98d6bd8c1632\" xlink:type=\"simple\"><path d=\"M201.54,83.16 C188.57,87.22 162.96,95.08 141,101 C126.43,104.93 121.91,103.16 108,109 C84.25,118.97 59.36,136.17 45.65,146.32 \" fill=\"none\" id=\"E2-&gt;E3\" style=\"stroke: #383838; stroke-width: 1.0;\"/><polygon fill=\"#383838\" points=\"41.45,149.47,51.05,147.27,45.45,146.47,46.25,140.87,41.45,149.47\" style=\"stroke: #383838; stroke-width: 1.0;\"/><text fill=\"#000000\" font-family=\"sans-serif\" font-size=\"13\" lengthAdjust=\"spacingAndGlyphs\" textLength=\"7\" x=\"51.6488\" y=\"132.7367\">*</text></a><!--MD5=[af87c684e3b0d8be13c1a698a818ef1e]\n",
       "link E3 to E4--><a href=\"psysml:4dd56774-018b-4c8a-8121-2b3d6a9c557c\" target=\"_top\" title=\"psysml:4dd56774-018b-4c8a-8121-2b3d6a9c557c\" xlink:actuate=\"onRequest\" xlink:href=\"psysml:4dd56774-018b-4c8a-8121-2b3d6a9c557c\" xlink:show=\"new\" xlink:title=\"psysml:4dd56774-018b-4c8a-8121-2b3d6a9c557c\" xlink:type=\"simple\"><path d=\"M40.09,162.69 C48.35,172.37 65.62,191.11 84,202 C93.67,207.73 97.38,206.32 108,210 C115.1,212.46 122.69,215.15 129.93,217.74 \" fill=\"none\" id=\"E3-&gt;E4\" style=\"stroke: #383838; stroke-width: 1.0;\"/><polygon fill=\"#383838\" points=\"134.87,219.52,127.7488,212.7164,130.1636,217.832,125.048,220.2467,134.87,219.52\" style=\"stroke: #383838; stroke-width: 1.0;\"/><text fill=\"#000000\" font-family=\"sans-serif\" font-size=\"13\" lengthAdjust=\"spacingAndGlyphs\" textLength=\"36\" x=\"85\" y=\"198.0669\">[true]</text><text fill=\"#000000\" font-family=\"sans-serif\" font-size=\"13\" lengthAdjust=\"spacingAndGlyphs\" textLength=\"7\" x=\"120.0931\" y=\"212.1047\">*</text></a><!--MD5=[0188b64bb0ae78505a997a81836e11e9]\n",
       "link E3 to E5--><a href=\"psysml:2f25c912-d622-4deb-be6f-2375e7caca37\" target=\"_top\" title=\"psysml:2f25c912-d622-4deb-be6f-2375e7caca37\" xlink:actuate=\"onRequest\" xlink:href=\"psysml:2f25c912-d622-4deb-be6f-2375e7caca37\" xlink:show=\"new\" xlink:title=\"psysml:2f25c912-d622-4deb-be6f-2375e7caca37\" xlink:type=\"simple\"><path d=\"M36.91,165.76 C41.11,184.24 52.71,226.21 76,253 C90.72,269.93 112.16,283.05 130.31,292.05 \" fill=\"none\" id=\"E3-&gt;E5\" style=\"stroke: #383838; stroke-width: 1.0;\"/><polygon fill=\"#383838\" points=\"134.85,294.25,128.4921,286.7283,130.3496,292.0714,125.0064,293.9289,134.85,294.25\" style=\"stroke: #383838; stroke-width: 1.0;\"/><text fill=\"#000000\" font-family=\"sans-serif\" font-size=\"13\" lengthAdjust=\"spacingAndGlyphs\" textLength=\"40\" x=\"77\" y=\"236.0669\">[false]</text><text fill=\"#000000\" font-family=\"sans-serif\" font-size=\"13\" lengthAdjust=\"spacingAndGlyphs\" textLength=\"7\" x=\"120.0684\" y=\"286.541\">*</text></a><!--MD5=[1b7591eae5389033d8d09a9d6721a717]\n",
       "link E4 to E5--><a href=\"psysml:19ac739f-970e-4750-a1cd-14a3501dcfff\" target=\"_top\" title=\"psysml:19ac739f-970e-4750-a1cd-14a3501dcfff\" xlink:actuate=\"onRequest\" xlink:href=\"psysml:19ac739f-970e-4750-a1cd-14a3501dcfff\" xlink:show=\"new\" xlink:title=\"psysml:19ac739f-970e-4750-a1cd-14a3501dcfff\" xlink:type=\"simple\"><path d=\"M165,253.11 C165,261.69 165,271.75 165,280.8 \" fill=\"none\" id=\"E4-&gt;E5\" style=\"stroke: #383838; stroke-width: 1.0;\"/><polygon fill=\"#383838\" points=\"165,286,169,277,165,281,161,277,165,286\" style=\"stroke: #383838; stroke-width: 1.0;\"/><text fill=\"#000000\" font-family=\"sans-serif\" font-size=\"13\" lengthAdjust=\"spacingAndGlyphs\" textLength=\"55\" x=\"166\" y=\"274.0669\">[x == 0]</text><text fill=\"#000000\" font-family=\"sans-serif\" font-size=\"13\" lengthAdjust=\"spacingAndGlyphs\" textLength=\"7\" x=\"157.0156\" y=\"274.9381\">*</text></a><!--MD5=[ed7c4abd8482f26ce9dafb22910aa9b8]\n",
       "@startuml\r\n",
       "skinparam ranksep 10\r\n",
       "skinparam rectangle {\r\n",
       " backgroundColor<<block>> LightGreen\r\n",
       "}\r\n",
       "top to bottom direction\r\n",
       "skinparam monochrome true\r\n",
       "skinparam classbackgroundcolor white\r\n",
       "skinparam shadowing false\r\n",
       "skinparam wrapWidth 300\r\n",
       "hide circle\r\n",
       "\r\n",
       "rec def \"DecisionTest\" as E1  <<(T,blue) action def>> [[psysml:ec9d2101-14b6-425a-8b3b-258973824e57 ]] {\r\n",
       "choice \"test x\" as E2  [[psysml:7b5c557c-0eca-43da-893a-884adf177ee9 ]] \r\n",
       "choice \"<s>noname</s>\" as E3  [[psysml:c8637911-bdae-488c-9ae7-71f0e05f074a ]] \r\n",
       "rec usage \"A1\" as E4  <<(T,blue) action>> [[psysml:2b21def1-54fd-4014-8db4-beef5c1da0f0 ]] {\r\n",
       "}\r\n",
       "\r\n",
       "rec usage \"A2\" as E5  <<(T,blue) action>> [[psysml:a7c18d95-cb4e-4d18-b7c9-a948ce4b9e35 ]] {\r\n",
       "}\r\n",
       "\r\n",
       "rec usage \"A3\" as E6  <<(T,blue) action>> [[psysml:6ad7aed3-e22d-47c2-b6cf-45fd0f629de6 ]] {\r\n",
       "}\r\n",
       "\r\n",
       "rec usage \"A3\" as E7  <<(T,blue) action>> [[psysml:6ad7aed3-e22d-47c2-b6cf-45fd0f629de6 ]] {\r\n",
       "}\r\n",
       "\r\n",
       "}\r\n",
       "\r\n",
       "E2  - -> \"*\"E4 [[psysml:07a447fb-7978-4e35-9306-ac5ec116db5d ]] : [x == 1]\r\n",
       "E2  - -> \"*\"E5 [[psysml:f195b54a-5fed-403e-bb02-20f21e154f17 ]] : [x > 1]\r\n",
       "E2  - -> \"*\"E7 [[psysml:15c91a99-d9b4-4320-8388-ef3655122685 ]] \r\n",
       "E2 - -> \"*\"E3 [[psysml:6d6473c9-743e-4105-a2af-98d6bd8c1632 ]] \r\n",
       "E3  - -> \"*\"E4 [[psysml:4dd56774-018b-4c8a-8121-2b3d6a9c557c ]] : [true]\r\n",
       "E3  - -> \"*\"E5 [[psysml:2f25c912-d622-4deb-be6f-2375e7caca37 ]] : [false]\r\n",
       "E4  - -> \"*\"E5 [[psysml:19ac739f-970e-4750-a1cd-14a3501dcfff ]] : [x == 0]\r\n",
       "E7  - -> \"*\"E2 [[psysml:c19c71e4-b628-4c9d-aa87-db03cc189a8f ]] : [x > 0]\r\n",
       "@enduml\r\n",
       "\n",
       "PlantUML version 1.2020.13(Sat Jun 13 12:26:38 UTC 2020)\n",
       "(EPL source distribution)\n",
       "Java Runtime: OpenJDK Runtime Environment\n",
       "JVM: OpenJDK 64-Bit Server VM\n",
       "Default Encoding: UTF-8\n",
       "Language: en\n",
       "Country: null\n",
       "--></g></svg>"
      ]
     },
     "execution_count": 47,
     "metadata": {},
     "output_type": "execute_result"
    }
   ],
   "source": [
    "%viz --style=\"TB\" --view=\"Interconnection\" \"DecisionTest\""
   ]
  },
  {
   "cell_type": "code",
   "execution_count": 48,
   "id": "1354ad69",
   "metadata": {
    "execution": {
     "iopub.execute_input": "2021-10-03T08:29:03.734285Z",
     "iopub.status.busy": "2021-10-03T08:29:03.733883Z",
     "iopub.status.idle": "2021-10-03T08:29:03.769221Z",
     "shell.execute_reply": "2021-10-03T08:29:03.767386Z"
    }
   },
   "outputs": [
    {
     "data": {
      "image/svg+xml": [
       "<?xml version=\"1.0\" encoding=\"UTF-8\" standalone=\"no\"?><svg xmlns=\"http://www.w3.org/2000/svg\" xmlns:xlink=\"http://www.w3.org/1999/xlink\" contentScriptType=\"application/ecmascript\" contentStyleType=\"text/css\" height=\"356px\" preserveAspectRatio=\"none\" style=\"width:333px;height:356px;\" version=\"1.1\" viewBox=\"0 0 333 356\" width=\"333px\" zoomAndPan=\"magnify\"><defs/><g><!--MD5=[fbc87193dbaf4d95561dea2c320d4a47]\n",
       "cluster E1--><a href=\"psysml:ec9d2101-14b6-425a-8b3b-258973824e57\" target=\"_top\" title=\"psysml:ec9d2101-14b6-425a-8b3b-258973824e57\" xlink:actuate=\"onRequest\" xlink:href=\"psysml:ec9d2101-14b6-425a-8b3b-258973824e57\" xlink:show=\"new\" xlink:title=\"psysml:ec9d2101-14b6-425a-8b3b-258973824e57\" xlink:type=\"simple\"><rect fill=\"#FFFFFF\" height=\"338\" id=\"E1\" style=\"stroke: #383838; stroke-width: 1.5;\" width=\"315\" x=\"7\" y=\"7\"/><rect fill=\"#F8F8F8\" height=\"37.9375\" style=\"stroke: #383838; stroke-width: 1.5;\" width=\"315\" x=\"7\" y=\"7\"/><text fill=\"#000000\" font-family=\"sans-serif\" font-size=\"12\" font-style=\"italic\" lengthAdjust=\"spacingAndGlyphs\" textLength=\"77\" x=\"126\" y=\"23.1387\">«action def»</text><text fill=\"#000000\" font-family=\"sans-serif\" font-size=\"12\" lengthAdjust=\"spacingAndGlyphs\" textLength=\"80\" x=\"124.5\" y=\"37.1074\">DecisionTest</text></a><polygon fill=\"#F8F8F8\" points=\"210,67.5,222,79.5,210,91.5,198,79.5,210,67.5\" style=\"stroke: #383838; stroke-width: 1.5;\"/><polygon fill=\"#F8F8F8\" points=\"35,143.5,47,155.5,35,167.5,23,155.5,35,143.5\" style=\"stroke: #383838; stroke-width: 1.5;\"/><g id=\"E1.E4\"><a href=\"psysml:2b21def1-54fd-4014-8db4-beef5c1da0f0\" target=\"_top\" title=\"psysml:2b21def1-54fd-4014-8db4-beef5c1da0f0\" xlink:actuate=\"onRequest\" xlink:href=\"psysml:2b21def1-54fd-4014-8db4-beef5c1da0f0\" xlink:show=\"new\" xlink:title=\"psysml:2b21def1-54fd-4014-8db4-beef5c1da0f0\" xlink:type=\"simple\"><rect fill=\"#FFFFFF\" height=\"42.9375\" id=\"E4\" rx=\"10\" ry=\"10\" style=\"stroke: #383838; stroke-width: 1.5;\" width=\"60\" x=\"135\" y=\"210\"/><rect fill=\"#F8F8F8\" height=\"37.9375\" rx=\"10\" ry=\"10\" style=\"stroke: #F8F8F8; stroke-width: 1.5;\" width=\"60\" x=\"135\" y=\"210\"/><rect fill=\"#F8F8F8\" height=\"10\" style=\"stroke: #F8F8F8; stroke-width: 1.5;\" width=\"60\" x=\"135\" y=\"237.9375\"/><rect fill=\"none\" height=\"42.9375\" id=\"E4\" rx=\"10\" ry=\"10\" style=\"stroke: #383838; stroke-width: 1.5;\" width=\"60\" x=\"135\" y=\"210\"/><text fill=\"#000000\" font-family=\"sans-serif\" font-size=\"12\" font-style=\"italic\" lengthAdjust=\"spacingAndGlyphs\" textLength=\"53\" x=\"138.5\" y=\"226.1387\">«action»</text><text fill=\"#000000\" font-family=\"sans-serif\" font-size=\"12\" lengthAdjust=\"spacingAndGlyphs\" textLength=\"16\" x=\"157\" y=\"240.1074\">A1</text></a></g><g id=\"E1.E5\"><a href=\"psysml:a7c18d95-cb4e-4d18-b7c9-a948ce4b9e35\" target=\"_top\" title=\"psysml:a7c18d95-cb4e-4d18-b7c9-a948ce4b9e35\" xlink:actuate=\"onRequest\" xlink:href=\"psysml:a7c18d95-cb4e-4d18-b7c9-a948ce4b9e35\" xlink:show=\"new\" xlink:title=\"psysml:a7c18d95-cb4e-4d18-b7c9-a948ce4b9e35\" xlink:type=\"simple\"><rect fill=\"#FFFFFF\" height=\"42.9375\" id=\"E5\" rx=\"10\" ry=\"10\" style=\"stroke: #383838; stroke-width: 1.5;\" width=\"60\" x=\"135\" y=\"286\"/><rect fill=\"#F8F8F8\" height=\"37.9375\" rx=\"10\" ry=\"10\" style=\"stroke: #F8F8F8; stroke-width: 1.5;\" width=\"60\" x=\"135\" y=\"286\"/><rect fill=\"#F8F8F8\" height=\"10\" style=\"stroke: #F8F8F8; stroke-width: 1.5;\" width=\"60\" x=\"135\" y=\"313.9375\"/><rect fill=\"none\" height=\"42.9375\" id=\"E5\" rx=\"10\" ry=\"10\" style=\"stroke: #383838; stroke-width: 1.5;\" width=\"60\" x=\"135\" y=\"286\"/><text fill=\"#000000\" font-family=\"sans-serif\" font-size=\"12\" font-style=\"italic\" lengthAdjust=\"spacingAndGlyphs\" textLength=\"53\" x=\"138.5\" y=\"302.1387\">«action»</text><text fill=\"#000000\" font-family=\"sans-serif\" font-size=\"12\" lengthAdjust=\"spacingAndGlyphs\" textLength=\"16\" x=\"157\" y=\"316.1074\">A2</text></a></g><g id=\"E1.E6\"><a href=\"psysml:6ad7aed3-e22d-47c2-b6cf-45fd0f629de6\" target=\"_top\" title=\"psysml:6ad7aed3-e22d-47c2-b6cf-45fd0f629de6\" xlink:actuate=\"onRequest\" xlink:href=\"psysml:6ad7aed3-e22d-47c2-b6cf-45fd0f629de6\" xlink:show=\"new\" xlink:title=\"psysml:6ad7aed3-e22d-47c2-b6cf-45fd0f629de6\" xlink:type=\"simple\"><rect fill=\"#FFFFFF\" height=\"42.9375\" id=\"E6\" rx=\"10\" ry=\"10\" style=\"stroke: #383838; stroke-width: 1.5;\" width=\"60\" x=\"63\" y=\"58\"/><rect fill=\"#F8F8F8\" height=\"37.9375\" rx=\"10\" ry=\"10\" style=\"stroke: #F8F8F8; stroke-width: 1.5;\" width=\"60\" x=\"63\" y=\"58\"/><rect fill=\"#F8F8F8\" height=\"10\" style=\"stroke: #F8F8F8; stroke-width: 1.5;\" width=\"60\" x=\"63\" y=\"85.9375\"/><rect fill=\"none\" height=\"42.9375\" id=\"E6\" rx=\"10\" ry=\"10\" style=\"stroke: #383838; stroke-width: 1.5;\" width=\"60\" x=\"63\" y=\"58\"/><text fill=\"#000000\" font-family=\"sans-serif\" font-size=\"12\" font-style=\"italic\" lengthAdjust=\"spacingAndGlyphs\" textLength=\"53\" x=\"66.5\" y=\"74.1387\">«action»</text><text fill=\"#000000\" font-family=\"sans-serif\" font-size=\"12\" lengthAdjust=\"spacingAndGlyphs\" textLength=\"16\" x=\"85\" y=\"88.1074\">A3</text></a></g><g id=\"E1.E7\"><a href=\"psysml:6ad7aed3-e22d-47c2-b6cf-45fd0f629de6\" target=\"_top\" title=\"psysml:6ad7aed3-e22d-47c2-b6cf-45fd0f629de6\" xlink:actuate=\"onRequest\" xlink:href=\"psysml:6ad7aed3-e22d-47c2-b6cf-45fd0f629de6\" xlink:show=\"new\" xlink:title=\"psysml:6ad7aed3-e22d-47c2-b6cf-45fd0f629de6\" xlink:type=\"simple\"><rect fill=\"#FFFFFF\" height=\"42.9375\" id=\"E7\" rx=\"10\" ry=\"10\" style=\"stroke: #383838; stroke-width: 1.5;\" width=\"60\" x=\"246\" y=\"134\"/><rect fill=\"#F8F8F8\" height=\"37.9375\" rx=\"10\" ry=\"10\" style=\"stroke: #F8F8F8; stroke-width: 1.5;\" width=\"60\" x=\"246\" y=\"134\"/><rect fill=\"#F8F8F8\" height=\"10\" style=\"stroke: #F8F8F8; stroke-width: 1.5;\" width=\"60\" x=\"246\" y=\"161.9375\"/><rect fill=\"none\" height=\"42.9375\" id=\"E7\" rx=\"10\" ry=\"10\" style=\"stroke: #383838; stroke-width: 1.5;\" width=\"60\" x=\"246\" y=\"134\"/><text fill=\"#000000\" font-family=\"sans-serif\" font-size=\"12\" font-style=\"italic\" lengthAdjust=\"spacingAndGlyphs\" textLength=\"53\" x=\"249.5\" y=\"150.1387\">«action»</text><text fill=\"#000000\" font-family=\"sans-serif\" font-size=\"12\" lengthAdjust=\"spacingAndGlyphs\" textLength=\"16\" x=\"268\" y=\"164.1074\">A3</text></a></g><!--MD5=[4d03bb2d0377dc85ccfab60ff574652b]\n",
       "link E2 to E4--><a href=\"psysml:07a447fb-7978-4e35-9306-ac5ec116db5d\" target=\"_top\" title=\"psysml:07a447fb-7978-4e35-9306-ac5ec116db5d\" xlink:actuate=\"onRequest\" xlink:href=\"psysml:07a447fb-7978-4e35-9306-ac5ec116db5d\" xlink:show=\"new\" xlink:title=\"psysml:07a447fb-7978-4e35-9306-ac5ec116db5d\" xlink:type=\"simple\"><path d=\"M201.97,84.07 C187.22,91.12 156.19,108.44 144,134 C133.21,156.64 141.61,184.91 150.79,204.99 \" fill=\"none\" id=\"E2-&gt;E4\" style=\"stroke: #383838; stroke-width: 1.0; stroke-dasharray: 7.0,7.0;\"/><polygon fill=\"#383838\" points=\"153,209.65,152.7662,199.8039,150.8614,205.1304,145.5349,203.2257,153,209.65\" style=\"stroke: #383838; stroke-width: 1.0;\"/><text fill=\"#000000\" font-family=\"sans-serif\" font-size=\"13\" lengthAdjust=\"spacingAndGlyphs\" textLength=\"55\" x=\"145\" y=\"160.0669\">[x == 1]</text></a><!--MD5=[dcad52bbbca2fe8adc741ce38b45dc12]\n",
       "link E2 to E5--><a href=\"psysml:f195b54a-5fed-403e-bb02-20f21e154f17\" target=\"_top\" title=\"psysml:f195b54a-5fed-403e-bb02-20f21e154f17\" xlink:actuate=\"onRequest\" xlink:href=\"psysml:f195b54a-5fed-403e-bb02-20f21e154f17\" xlink:show=\"new\" xlink:title=\"psysml:f195b54a-5fed-403e-bb02-20f21e154f17\" xlink:type=\"simple\"><path d=\"M211.03,90.77 C214.33,123.83 224.51,227.37 226,261 C226.33,268.55 230.06,271.63 226,278 C220.01,287.41 210.02,293.76 199.83,298.03 \" fill=\"none\" id=\"E2-&gt;E5\" style=\"stroke: #383838; stroke-width: 1.0; stroke-dasharray: 7.0,7.0;\"/><polygon fill=\"#383838\" points=\"195.15,299.85,204.9881,300.3102,199.8089,298.035,202.0841,292.8559,195.15,299.85\" style=\"stroke: #383838; stroke-width: 1.0;\"/><text fill=\"#000000\" font-family=\"sans-serif\" font-size=\"13\" lengthAdjust=\"spacingAndGlyphs\" textLength=\"44\" x=\"222\" y=\"198.0669\">[x &gt; 1]</text></a><!--MD5=[e3d2a08a9c9236652057e8ed0cbc9b62]\n",
       "link E2 to E7--><a href=\"psysml:15c91a99-d9b4-4320-8388-ef3655122685\" target=\"_top\" title=\"psysml:15c91a99-d9b4-4320-8388-ef3655122685\" xlink:actuate=\"onRequest\" xlink:href=\"psysml:15c91a99-d9b4-4320-8388-ef3655122685\" xlink:show=\"new\" xlink:title=\"psysml:15c91a99-d9b4-4320-8388-ef3655122685\" xlink:type=\"simple\"><path d=\"M210.68,90.95 C211.82,100.93 214.86,115.89 223,126 C227.84,132.02 234.31,136.94 241.06,140.89 \" fill=\"none\" id=\"E2-&gt;E7\" style=\"stroke: #383838; stroke-width: 1.0; stroke-dasharray: 7.0,7.0;\"/><polygon fill=\"#383838\" points=\"245.76,143.47,239.7851,135.6406,241.3738,141.0697,235.9446,142.6585,245.76,143.47\" style=\"stroke: #383838; stroke-width: 1.0;\"/></a><!--MD5=[583832df87f4419a098336a29a52fa00]\n",
       "link E7 to E2--><a href=\"psysml:c19c71e4-b628-4c9d-aa87-db03cc189a8f\" target=\"_top\" title=\"psysml:c19c71e4-b628-4c9d-aa87-db03cc189a8f\" xlink:actuate=\"onRequest\" xlink:href=\"psysml:c19c71e4-b628-4c9d-aa87-db03cc189a8f\" xlink:show=\"new\" xlink:title=\"psysml:c19c71e4-b628-4c9d-aa87-db03cc189a8f\" xlink:type=\"simple\"><path d=\"M257.61,133.88 C245.02,119.76 228.86,101.65 218.98,90.57 \" fill=\"none\" id=\"E7-&gt;E2\" style=\"stroke: #383838; stroke-width: 1.0; stroke-dasharray: 7.0,7.0;\"/><polygon fill=\"#383838\" points=\"215.4,86.56,218.3919,95.9434,218.7227,90.2963,224.3699,90.6271,215.4,86.56\" style=\"stroke: #383838; stroke-width: 1.0;\"/><text fill=\"#000000\" font-family=\"sans-serif\" font-size=\"13\" lengthAdjust=\"spacingAndGlyphs\" textLength=\"44\" x=\"249\" y=\"122.0669\">[x &gt; 0]</text></a><!--MD5=[2720a5a1f2c3fca2055b230370638851]\n",
       "link E2 to E3--><a href=\"psysml:6d6473c9-743e-4105-a2af-98d6bd8c1632\" target=\"_top\" title=\"psysml:6d6473c9-743e-4105-a2af-98d6bd8c1632\" xlink:actuate=\"onRequest\" xlink:href=\"psysml:6d6473c9-743e-4105-a2af-98d6bd8c1632\" xlink:show=\"new\" xlink:title=\"psysml:6d6473c9-743e-4105-a2af-98d6bd8c1632\" xlink:type=\"simple\"><path d=\"M201.54,83.16 C188.57,87.22 162.96,95.08 141,101 C126.43,104.93 121.91,103.16 108,109 C84.25,118.97 59.36,136.17 45.65,146.32 \" fill=\"none\" id=\"E2-&gt;E3\" style=\"stroke: #383838; stroke-width: 1.0; stroke-dasharray: 7.0,7.0;\"/><polygon fill=\"#383838\" points=\"41.45,149.47,51.05,147.27,45.45,146.47,46.25,140.87,41.45,149.47\" style=\"stroke: #383838; stroke-width: 1.0;\"/></a><!--MD5=[af87c684e3b0d8be13c1a698a818ef1e]\n",
       "link E3 to E4--><a href=\"psysml:4dd56774-018b-4c8a-8121-2b3d6a9c557c\" target=\"_top\" title=\"psysml:4dd56774-018b-4c8a-8121-2b3d6a9c557c\" xlink:actuate=\"onRequest\" xlink:href=\"psysml:4dd56774-018b-4c8a-8121-2b3d6a9c557c\" xlink:show=\"new\" xlink:title=\"psysml:4dd56774-018b-4c8a-8121-2b3d6a9c557c\" xlink:type=\"simple\"><path d=\"M40.09,162.69 C48.35,172.37 65.62,191.11 84,202 C93.67,207.73 97.38,206.32 108,210 C115.1,212.46 122.69,215.15 129.93,217.74 \" fill=\"none\" id=\"E3-&gt;E4\" style=\"stroke: #383838; stroke-width: 1.0; stroke-dasharray: 7.0,7.0;\"/><polygon fill=\"#383838\" points=\"134.87,219.52,127.7488,212.7164,130.1636,217.832,125.048,220.2467,134.87,219.52\" style=\"stroke: #383838; stroke-width: 1.0;\"/><text fill=\"#000000\" font-family=\"sans-serif\" font-size=\"13\" lengthAdjust=\"spacingAndGlyphs\" textLength=\"36\" x=\"85\" y=\"198.0669\">[true]</text></a><!--MD5=[0188b64bb0ae78505a997a81836e11e9]\n",
       "link E3 to E5--><a href=\"psysml:2f25c912-d622-4deb-be6f-2375e7caca37\" target=\"_top\" title=\"psysml:2f25c912-d622-4deb-be6f-2375e7caca37\" xlink:actuate=\"onRequest\" xlink:href=\"psysml:2f25c912-d622-4deb-be6f-2375e7caca37\" xlink:show=\"new\" xlink:title=\"psysml:2f25c912-d622-4deb-be6f-2375e7caca37\" xlink:type=\"simple\"><path d=\"M36.91,165.76 C41.11,184.24 52.71,226.21 76,253 C90.72,269.93 112.16,283.05 130.31,292.05 \" fill=\"none\" id=\"E3-&gt;E5\" style=\"stroke: #383838; stroke-width: 1.0; stroke-dasharray: 7.0,7.0;\"/><polygon fill=\"#383838\" points=\"134.85,294.25,128.4921,286.7283,130.3496,292.0714,125.0064,293.9289,134.85,294.25\" style=\"stroke: #383838; stroke-width: 1.0;\"/><text fill=\"#000000\" font-family=\"sans-serif\" font-size=\"13\" lengthAdjust=\"spacingAndGlyphs\" textLength=\"40\" x=\"77\" y=\"236.0669\">[false]</text></a><!--MD5=[1b7591eae5389033d8d09a9d6721a717]\n",
       "link E4 to E5--><a href=\"psysml:19ac739f-970e-4750-a1cd-14a3501dcfff\" target=\"_top\" title=\"psysml:19ac739f-970e-4750-a1cd-14a3501dcfff\" xlink:actuate=\"onRequest\" xlink:href=\"psysml:19ac739f-970e-4750-a1cd-14a3501dcfff\" xlink:show=\"new\" xlink:title=\"psysml:19ac739f-970e-4750-a1cd-14a3501dcfff\" xlink:type=\"simple\"><path d=\"M165,253.11 C165,261.69 165,271.75 165,280.8 \" fill=\"none\" id=\"E4-&gt;E5\" style=\"stroke: #383838; stroke-width: 1.0; stroke-dasharray: 7.0,7.0;\"/><polygon fill=\"#383838\" points=\"165,286,169,277,165,281,161,277,165,286\" style=\"stroke: #383838; stroke-width: 1.0;\"/><text fill=\"#000000\" font-family=\"sans-serif\" font-size=\"13\" lengthAdjust=\"spacingAndGlyphs\" textLength=\"55\" x=\"166\" y=\"274.0669\">[x == 0]</text></a><!--MD5=[58ff8616298cb94598b3bd0255665305]\n",
       "@startuml\r\n",
       "skinparam ranksep 8\r\n",
       "top to bottom direction\r\n",
       "skinparam monochrome true\r\n",
       "skinparam classbackgroundcolor white\r\n",
       "skinparam shadowing false\r\n",
       "skinparam wrapWidth 300\r\n",
       "hide circle\r\n",
       "\r\n",
       "rec def \"DecisionTest\" as E1  <<(T,blue) action def>> [[psysml:ec9d2101-14b6-425a-8b3b-258973824e57 ]] {\r\n",
       "choice \"test x\" as E2  [[psysml:7b5c557c-0eca-43da-893a-884adf177ee9 ]] \r\n",
       "choice \"<s>noname</s>\" as E3  [[psysml:c8637911-bdae-488c-9ae7-71f0e05f074a ]] \r\n",
       "rec usage \"A1\" as E4  <<(T,blue) action>> [[psysml:2b21def1-54fd-4014-8db4-beef5c1da0f0 ]] {\r\n",
       "}\r\n",
       "\r\n",
       "rec usage \"A2\" as E5  <<(T,blue) action>> [[psysml:a7c18d95-cb4e-4d18-b7c9-a948ce4b9e35 ]] {\r\n",
       "}\r\n",
       "\r\n",
       "rec usage \"A3\" as E6  <<(T,blue) action>> [[psysml:6ad7aed3-e22d-47c2-b6cf-45fd0f629de6 ]] {\r\n",
       "}\r\n",
       "\r\n",
       "rec usage \"A3\" as E7  <<(T,blue) action>> [[psysml:6ad7aed3-e22d-47c2-b6cf-45fd0f629de6 ]] {\r\n",
       "}\r\n",
       "\r\n",
       "}\r\n",
       "\r\n",
       "E2 ..> E4 [[psysml:07a447fb-7978-4e35-9306-ac5ec116db5d ]] : [x == 1]\r\n",
       "E2 ..> E5 [[psysml:f195b54a-5fed-403e-bb02-20f21e154f17 ]] : [x > 1]\r\n",
       "E2 ..> E7 [[psysml:15c91a99-d9b4-4320-8388-ef3655122685 ]] \r\n",
       "E2 ..> E3 [[psysml:6d6473c9-743e-4105-a2af-98d6bd8c1632 ]] \r\n",
       "E3 ..> E4 [[psysml:4dd56774-018b-4c8a-8121-2b3d6a9c557c ]] : [true]\r\n",
       "E3 ..> E5 [[psysml:2f25c912-d622-4deb-be6f-2375e7caca37 ]] : [false]\r\n",
       "E4 ..> E5 [[psysml:19ac739f-970e-4750-a1cd-14a3501dcfff ]] : [x == 0]\r\n",
       "E7 ..> E2 [[psysml:c19c71e4-b628-4c9d-aa87-db03cc189a8f ]] : [x > 0]\r\n",
       "@enduml\r\n",
       "\n",
       "PlantUML version 1.2020.13(Sat Jun 13 12:26:38 UTC 2020)\n",
       "(EPL source distribution)\n",
       "Java Runtime: OpenJDK Runtime Environment\n",
       "JVM: OpenJDK 64-Bit Server VM\n",
       "Default Encoding: UTF-8\n",
       "Language: en\n",
       "Country: null\n",
       "--></g></svg>"
      ]
     },
     "execution_count": 48,
     "metadata": {},
     "output_type": "execute_result"
    }
   ],
   "source": [
    "%viz --style=\"TB\" --view=\"Action\" \"DecisionTest\""
   ]
  },
  {
   "cell_type": "code",
   "execution_count": 49,
   "id": "95894476",
   "metadata": {
    "execution": {
     "iopub.execute_input": "2021-10-03T08:29:03.818066Z",
     "iopub.status.busy": "2021-10-03T08:29:03.817664Z",
     "iopub.status.idle": "2021-10-03T08:29:03.824512Z",
     "shell.execute_reply": "2021-10-03T08:29:03.824176Z"
    }
   },
   "outputs": [
    {
     "data": {
      "image/svg+xml": [
       "<?xml version=\"1.0\" encoding=\"UTF-8\" standalone=\"no\"?><svg xmlns=\"http://www.w3.org/2000/svg\" xmlns:xlink=\"http://www.w3.org/1999/xlink\" contentScriptType=\"application/ecmascript\" contentStyleType=\"text/css\" height=\"12px\" preserveAspectRatio=\"none\" style=\"width:12px;height:12px;\" version=\"1.1\" viewBox=\"0 0 12 12\" width=\"12px\" zoomAndPan=\"magnify\"><defs/><g><!--MD5=[e1ab0c84c44d2fef8bf5f140f2689906]\n",
       "@startuml\r\n",
       "skinparam roundcorner 20\r\n",
       "skinparam BoxPadding 20\r\n",
       "skinparam SequenceBoxBackgroundColor #white\r\n",
       "skinparam style strictuml\r\n",
       "skinparam maxMessageSize 100\r\n",
       "top to bottom direction\r\n",
       "skinparam monochrome true\r\n",
       "skinparam classbackgroundcolor white\r\n",
       "skinparam shadowing false\r\n",
       "skinparam wrapWidth 300\r\n",
       "hide circle\r\n",
       "\r\n",
       "@enduml\r\n",
       "\n",
       "PlantUML version 1.2020.13(Sat Jun 13 12:26:38 UTC 2020)\n",
       "(EPL source distribution)\n",
       "Java Runtime: OpenJDK Runtime Environment\n",
       "JVM: OpenJDK 64-Bit Server VM\n",
       "Default Encoding: UTF-8\n",
       "Language: en\n",
       "Country: null\n",
       "--></g></svg>"
      ]
     },
     "execution_count": 49,
     "metadata": {},
     "output_type": "execute_result"
    }
   ],
   "source": [
    "%viz --style=\"TB\" --view=\"Sequence\" \"DecisionTest\""
   ]
  },
  {
   "cell_type": "code",
   "execution_count": 50,
   "id": "b84f5bfd",
   "metadata": {
    "execution": {
     "iopub.execute_input": "2021-10-03T08:29:03.874007Z",
     "iopub.status.busy": "2021-10-03T08:29:03.873608Z",
     "iopub.status.idle": "2021-10-03T08:29:03.912677Z",
     "shell.execute_reply": "2021-10-03T08:29:03.910816Z"
    }
   },
   "outputs": [
    {
     "data": {
      "image/svg+xml": [
       "<?xml version=\"1.0\" encoding=\"UTF-8\" standalone=\"no\"?><svg xmlns=\"http://www.w3.org/2000/svg\" xmlns:xlink=\"http://www.w3.org/1999/xlink\" contentScriptType=\"application/ecmascript\" contentStyleType=\"text/css\" height=\"488px\" preserveAspectRatio=\"none\" style=\"width:333px;height:488px;\" version=\"1.1\" viewBox=\"0 0 333 488\" width=\"333px\" zoomAndPan=\"magnify\"><defs/><g><!--MD5=[fbc87193dbaf4d95561dea2c320d4a47]\n",
       "cluster E1--><a href=\"psysml:ec9d2101-14b6-425a-8b3b-258973824e57\" target=\"_top\" title=\"psysml:ec9d2101-14b6-425a-8b3b-258973824e57\" xlink:actuate=\"onRequest\" xlink:href=\"psysml:ec9d2101-14b6-425a-8b3b-258973824e57\" xlink:show=\"new\" xlink:title=\"psysml:ec9d2101-14b6-425a-8b3b-258973824e57\" xlink:type=\"simple\"><rect fill=\"#FFFFFF\" height=\"470\" id=\"E1\" style=\"stroke: #383838; stroke-width: 1.5;\" width=\"315\" x=\"7\" y=\"7\"/><rect fill=\"#F8F8F8\" height=\"37.9375\" style=\"stroke: #383838; stroke-width: 1.5;\" width=\"315\" x=\"7\" y=\"7\"/><text fill=\"#000000\" font-family=\"sans-serif\" font-size=\"12\" font-style=\"italic\" lengthAdjust=\"spacingAndGlyphs\" textLength=\"77\" x=\"126\" y=\"23.1387\">«action def»</text><text fill=\"#000000\" font-family=\"sans-serif\" font-size=\"12\" lengthAdjust=\"spacingAndGlyphs\" textLength=\"80\" x=\"124.5\" y=\"37.1074\">DecisionTest</text></a><polygon fill=\"#F8F8F8\" points=\"210,67.5,222,79.5,210,91.5,198,79.5,210,67.5\" style=\"stroke: #383838; stroke-width: 1.5;\"/><polygon fill=\"#F8F8F8\" points=\"35,187.5,47,199.5,35,211.5,23,199.5,35,187.5\" style=\"stroke: #383838; stroke-width: 1.5;\"/><g id=\"E1.E4\"><a href=\"psysml:2b21def1-54fd-4014-8db4-beef5c1da0f0\" target=\"_top\" title=\"psysml:2b21def1-54fd-4014-8db4-beef5c1da0f0\" xlink:actuate=\"onRequest\" xlink:href=\"psysml:2b21def1-54fd-4014-8db4-beef5c1da0f0\" xlink:show=\"new\" xlink:title=\"psysml:2b21def1-54fd-4014-8db4-beef5c1da0f0\" xlink:type=\"simple\"><rect fill=\"#FFFFFF\" height=\"42.9375\" id=\"E4\" rx=\"10\" ry=\"10\" style=\"stroke: #383838; stroke-width: 1.5;\" width=\"60\" x=\"135\" y=\"298\"/><rect fill=\"#F8F8F8\" height=\"37.9375\" rx=\"10\" ry=\"10\" style=\"stroke: #F8F8F8; stroke-width: 1.5;\" width=\"60\" x=\"135\" y=\"298\"/><rect fill=\"#F8F8F8\" height=\"10\" style=\"stroke: #F8F8F8; stroke-width: 1.5;\" width=\"60\" x=\"135\" y=\"325.9375\"/><rect fill=\"none\" height=\"42.9375\" id=\"E4\" rx=\"10\" ry=\"10\" style=\"stroke: #383838; stroke-width: 1.5;\" width=\"60\" x=\"135\" y=\"298\"/><text fill=\"#000000\" font-family=\"sans-serif\" font-size=\"12\" font-style=\"italic\" lengthAdjust=\"spacingAndGlyphs\" textLength=\"53\" x=\"138.5\" y=\"314.1387\">«action»</text><text fill=\"#000000\" font-family=\"sans-serif\" font-size=\"12\" lengthAdjust=\"spacingAndGlyphs\" textLength=\"16\" x=\"157\" y=\"328.1074\">A1</text></a></g><g id=\"E1.E5\"><a href=\"psysml:a7c18d95-cb4e-4d18-b7c9-a948ce4b9e35\" target=\"_top\" title=\"psysml:a7c18d95-cb4e-4d18-b7c9-a948ce4b9e35\" xlink:actuate=\"onRequest\" xlink:href=\"psysml:a7c18d95-cb4e-4d18-b7c9-a948ce4b9e35\" xlink:show=\"new\" xlink:title=\"psysml:a7c18d95-cb4e-4d18-b7c9-a948ce4b9e35\" xlink:type=\"simple\"><rect fill=\"#FFFFFF\" height=\"42.9375\" id=\"E5\" rx=\"10\" ry=\"10\" style=\"stroke: #383838; stroke-width: 1.5;\" width=\"60\" x=\"135\" y=\"418\"/><rect fill=\"#F8F8F8\" height=\"37.9375\" rx=\"10\" ry=\"10\" style=\"stroke: #F8F8F8; stroke-width: 1.5;\" width=\"60\" x=\"135\" y=\"418\"/><rect fill=\"#F8F8F8\" height=\"10\" style=\"stroke: #F8F8F8; stroke-width: 1.5;\" width=\"60\" x=\"135\" y=\"445.9375\"/><rect fill=\"none\" height=\"42.9375\" id=\"E5\" rx=\"10\" ry=\"10\" style=\"stroke: #383838; stroke-width: 1.5;\" width=\"60\" x=\"135\" y=\"418\"/><text fill=\"#000000\" font-family=\"sans-serif\" font-size=\"12\" font-style=\"italic\" lengthAdjust=\"spacingAndGlyphs\" textLength=\"53\" x=\"138.5\" y=\"434.1387\">«action»</text><text fill=\"#000000\" font-family=\"sans-serif\" font-size=\"12\" lengthAdjust=\"spacingAndGlyphs\" textLength=\"16\" x=\"157\" y=\"448.1074\">A2</text></a></g><g id=\"E1.E6\"><a href=\"psysml:6ad7aed3-e22d-47c2-b6cf-45fd0f629de6\" target=\"_top\" title=\"psysml:6ad7aed3-e22d-47c2-b6cf-45fd0f629de6\" xlink:actuate=\"onRequest\" xlink:href=\"psysml:6ad7aed3-e22d-47c2-b6cf-45fd0f629de6\" xlink:show=\"new\" xlink:title=\"psysml:6ad7aed3-e22d-47c2-b6cf-45fd0f629de6\" xlink:type=\"simple\"><rect fill=\"#FFFFFF\" height=\"42.9375\" id=\"E6\" rx=\"10\" ry=\"10\" style=\"stroke: #383838; stroke-width: 1.5;\" width=\"60\" x=\"63\" y=\"58\"/><rect fill=\"#F8F8F8\" height=\"37.9375\" rx=\"10\" ry=\"10\" style=\"stroke: #F8F8F8; stroke-width: 1.5;\" width=\"60\" x=\"63\" y=\"58\"/><rect fill=\"#F8F8F8\" height=\"10\" style=\"stroke: #F8F8F8; stroke-width: 1.5;\" width=\"60\" x=\"63\" y=\"85.9375\"/><rect fill=\"none\" height=\"42.9375\" id=\"E6\" rx=\"10\" ry=\"10\" style=\"stroke: #383838; stroke-width: 1.5;\" width=\"60\" x=\"63\" y=\"58\"/><text fill=\"#000000\" font-family=\"sans-serif\" font-size=\"12\" font-style=\"italic\" lengthAdjust=\"spacingAndGlyphs\" textLength=\"53\" x=\"66.5\" y=\"74.1387\">«action»</text><text fill=\"#000000\" font-family=\"sans-serif\" font-size=\"12\" lengthAdjust=\"spacingAndGlyphs\" textLength=\"16\" x=\"85\" y=\"88.1074\">A3</text></a></g><g id=\"E1.E7\"><a href=\"psysml:6ad7aed3-e22d-47c2-b6cf-45fd0f629de6\" target=\"_top\" title=\"psysml:6ad7aed3-e22d-47c2-b6cf-45fd0f629de6\" xlink:actuate=\"onRequest\" xlink:href=\"psysml:6ad7aed3-e22d-47c2-b6cf-45fd0f629de6\" xlink:show=\"new\" xlink:title=\"psysml:6ad7aed3-e22d-47c2-b6cf-45fd0f629de6\" xlink:type=\"simple\"><rect fill=\"#FFFFFF\" height=\"42.9375\" id=\"E7\" rx=\"10\" ry=\"10\" style=\"stroke: #383838; stroke-width: 1.5;\" width=\"60\" x=\"246\" y=\"178\"/><rect fill=\"#F8F8F8\" height=\"37.9375\" rx=\"10\" ry=\"10\" style=\"stroke: #F8F8F8; stroke-width: 1.5;\" width=\"60\" x=\"246\" y=\"178\"/><rect fill=\"#F8F8F8\" height=\"10\" style=\"stroke: #F8F8F8; stroke-width: 1.5;\" width=\"60\" x=\"246\" y=\"205.9375\"/><rect fill=\"none\" height=\"42.9375\" id=\"E7\" rx=\"10\" ry=\"10\" style=\"stroke: #383838; stroke-width: 1.5;\" width=\"60\" x=\"246\" y=\"178\"/><text fill=\"#000000\" font-family=\"sans-serif\" font-size=\"12\" font-style=\"italic\" lengthAdjust=\"spacingAndGlyphs\" textLength=\"53\" x=\"249.5\" y=\"194.1387\">«action»</text><text fill=\"#000000\" font-family=\"sans-serif\" font-size=\"12\" lengthAdjust=\"spacingAndGlyphs\" textLength=\"16\" x=\"268\" y=\"208.1074\">A3</text></a></g><!--MD5=[4d03bb2d0377dc85ccfab60ff574652b]\n",
       "link E2 to E4--><a href=\"psysml:07a447fb-7978-4e35-9306-ac5ec116db5d\" target=\"_top\" title=\"psysml:07a447fb-7978-4e35-9306-ac5ec116db5d\" xlink:actuate=\"onRequest\" xlink:href=\"psysml:07a447fb-7978-4e35-9306-ac5ec116db5d\" xlink:show=\"new\" xlink:title=\"psysml:07a447fb-7978-4e35-9306-ac5ec116db5d\" xlink:type=\"simple\"><path d=\"M204.45,86 C190.88,99.89 156.22,138.13 144,178 C132.04,217.01 144.31,264.27 154.48,292.83 \" fill=\"none\" id=\"E2-&gt;E4\" style=\"stroke: #383838; stroke-width: 1.0;\"/><polygon fill=\"#383838\" points=\"156.22,297.6,156.8939,287.7742,154.5067,292.9027,149.3782,290.5155,156.22,297.6\" style=\"stroke: #383838; stroke-width: 1.0;\"/><text fill=\"#000000\" font-family=\"sans-serif\" font-size=\"13\" lengthAdjust=\"spacingAndGlyphs\" textLength=\"55\" x=\"145\" y=\"204.0669\">[x == 1]</text><text fill=\"#000000\" font-family=\"sans-serif\" font-size=\"13\" lengthAdjust=\"spacingAndGlyphs\" textLength=\"7\" x=\"145.9198\" y=\"286.7919\">*</text></a><!--MD5=[dcad52bbbca2fe8adc741ce38b45dc12]\n",
       "link E2 to E5--><a href=\"psysml:f195b54a-5fed-403e-bb02-20f21e154f17\" target=\"_top\" title=\"psysml:f195b54a-5fed-403e-bb02-20f21e154f17\" xlink:actuate=\"onRequest\" xlink:href=\"psysml:f195b54a-5fed-403e-bb02-20f21e154f17\" xlink:show=\"new\" xlink:title=\"psysml:f195b54a-5fed-403e-bb02-20f21e154f17\" xlink:type=\"simple\"><path d=\"M210.67,90.83 C214.08,143.62 229.24,381.12 226,388 C220.27,400.19 209.98,410.45 199.48,418.47 \" fill=\"none\" id=\"E2-&gt;E5\" style=\"stroke: #383838; stroke-width: 1.0;\"/><polygon fill=\"#383838\" points=\"195.29,421.54,204.9073,419.4168,199.3138,418.5721,200.1586,412.9786,195.29,421.54\" style=\"stroke: #383838; stroke-width: 1.0;\"/><text fill=\"#000000\" font-family=\"sans-serif\" font-size=\"13\" lengthAdjust=\"spacingAndGlyphs\" textLength=\"44\" x=\"222\" y=\"264.0669\">[x &gt; 1]</text><text fill=\"#000000\" font-family=\"sans-serif\" font-size=\"13\" lengthAdjust=\"spacingAndGlyphs\" textLength=\"7\" x=\"203.1039\" y=\"412.7419\">*</text></a><!--MD5=[e3d2a08a9c9236652057e8ed0cbc9b62]\n",
       "link E2 to E7--><a href=\"psysml:15c91a99-d9b4-4320-8388-ef3655122685\" target=\"_top\" title=\"psysml:15c91a99-d9b4-4320-8388-ef3655122685\" xlink:actuate=\"onRequest\" xlink:href=\"psysml:15c91a99-d9b4-4320-8388-ef3655122685\" xlink:show=\"new\" xlink:title=\"psysml:15c91a99-d9b4-4320-8388-ef3655122685\" xlink:type=\"simple\"><path d=\"M210.1,91.71 C210.67,105.71 213.16,129.99 223,148 C228.29,157.68 236.08,166.6 244.08,174.17 \" fill=\"none\" id=\"E2-&gt;E7\" style=\"stroke: #383838; stroke-width: 1.0;\"/><polygon fill=\"#383838\" points=\"248.01,177.77,244.069,168.744,244.3207,174.3953,238.6694,174.6469,248.01,177.77\" style=\"stroke: #383838; stroke-width: 1.0;\"/><text fill=\"#000000\" font-family=\"sans-serif\" font-size=\"13\" lengthAdjust=\"spacingAndGlyphs\" textLength=\"7\" x=\"232.5471\" y=\"167.0076\">*</text></a><!--MD5=[583832df87f4419a098336a29a52fa00]\n",
       "link E7 to E2--><a href=\"psysml:c19c71e4-b628-4c9d-aa87-db03cc189a8f\" target=\"_top\" title=\"psysml:c19c71e4-b628-4c9d-aa87-db03cc189a8f\" xlink:actuate=\"onRequest\" xlink:href=\"psysml:c19c71e4-b628-4c9d-aa87-db03cc189a8f\" xlink:show=\"new\" xlink:title=\"psysml:c19c71e4-b628-4c9d-aa87-db03cc189a8f\" xlink:type=\"simple\"><path d=\"M264.3,177.59 C250.41,152.74 227.7,112.15 216.57,92.25 \" fill=\"none\" id=\"E7-&gt;E2\" style=\"stroke: #383838; stroke-width: 1.0;\"/><polygon fill=\"#383838\" points=\"214.13,87.88,215.0286,97.6878,216.5691,92.2447,222.0122,93.7852,214.13,87.88\" style=\"stroke: #383838; stroke-width: 1.0;\"/><text fill=\"#000000\" font-family=\"sans-serif\" font-size=\"13\" lengthAdjust=\"spacingAndGlyphs\" textLength=\"44\" x=\"247\" y=\"144.0669\">[x &gt; 0]</text><text fill=\"#000000\" font-family=\"sans-serif\" font-size=\"13\" lengthAdjust=\"spacingAndGlyphs\" textLength=\"7\" x=\"207.5946\" y=\"111.7074\">*</text></a><!--MD5=[2720a5a1f2c3fca2055b230370638851]\n",
       "link E2 to E3--><a href=\"psysml:6d6473c9-743e-4105-a2af-98d6bd8c1632\" target=\"_top\" title=\"psysml:6d6473c9-743e-4105-a2af-98d6bd8c1632\" xlink:actuate=\"onRequest\" xlink:href=\"psysml:6d6473c9-743e-4105-a2af-98d6bd8c1632\" xlink:show=\"new\" xlink:title=\"psysml:6d6473c9-743e-4105-a2af-98d6bd8c1632\" xlink:type=\"simple\"><path d=\"M201.9,83.58 C184.06,90.55 140.39,108.7 108,131 C82.49,148.57 56.88,174.67 43.84,188.71 \" fill=\"none\" id=\"E2-&gt;E3\" style=\"stroke: #383838; stroke-width: 1.0;\"/><polygon fill=\"#383838\" points=\"40.21,192.66,49.2443,188.738,43.5925,188.9778,43.3527,183.326,40.21,192.66\" style=\"stroke: #383838; stroke-width: 1.0;\"/><text fill=\"#000000\" font-family=\"sans-serif\" font-size=\"13\" lengthAdjust=\"spacingAndGlyphs\" textLength=\"7\" x=\"48.2668\" y=\"176.5238\">*</text></a><!--MD5=[af87c684e3b0d8be13c1a698a818ef1e]\n",
       "link E3 to E4--><a href=\"psysml:4dd56774-018b-4c8a-8121-2b3d6a9c557c\" target=\"_top\" title=\"psysml:4dd56774-018b-4c8a-8121-2b3d6a9c557c\" xlink:actuate=\"onRequest\" xlink:href=\"psysml:4dd56774-018b-4c8a-8121-2b3d6a9c557c\" xlink:show=\"new\" xlink:title=\"psysml:4dd56774-018b-4c8a-8121-2b3d6a9c557c\" xlink:type=\"simple\"><path d=\"M39.08,207.91 C46.63,221.15 63.87,249.24 84,268 C97.73,280.8 115.17,292.16 130.35,300.85 \" fill=\"none\" id=\"E3-&gt;E4\" style=\"stroke: #383838; stroke-width: 1.0;\"/><polygon fill=\"#383838\" points=\"134.98,303.46,129.0858,295.5696,130.6187,301.0148,125.1735,302.5477,134.98,303.46\" style=\"stroke: #383838; stroke-width: 1.0;\"/><text fill=\"#000000\" font-family=\"sans-serif\" font-size=\"13\" lengthAdjust=\"spacingAndGlyphs\" textLength=\"36\" x=\"85\" y=\"264.0669\">[true]</text><text fill=\"#000000\" font-family=\"sans-serif\" font-size=\"13\" lengthAdjust=\"spacingAndGlyphs\" textLength=\"7\" x=\"119.8095\" y=\"294.8128\">*</text></a><!--MD5=[0188b64bb0ae78505a997a81836e11e9]\n",
       "link E3 to E5--><a href=\"psysml:2f25c912-d622-4deb-be6f-2375e7caca37\" target=\"_top\" title=\"psysml:2f25c912-d622-4deb-be6f-2375e7caca37\" xlink:actuate=\"onRequest\" xlink:href=\"psysml:2f25c912-d622-4deb-be6f-2375e7caca37\" xlink:show=\"new\" xlink:title=\"psysml:2f25c912-d622-4deb-be6f-2375e7caca37\" xlink:type=\"simple\"><path d=\"M36.3,210.29 C39.76,234.03 50.73,296.03 76,341 C91.89,369.29 117.42,396.1 137.07,414.43 \" fill=\"none\" id=\"E3-&gt;E5\" style=\"stroke: #383838; stroke-width: 1.0;\"/><polygon fill=\"#383838\" points=\"140.92,417.98,137.0155,408.9382,137.2443,414.5904,131.5921,414.8192,140.92,417.98\" style=\"stroke: #383838; stroke-width: 1.0;\"/><text fill=\"#000000\" font-family=\"sans-serif\" font-size=\"13\" lengthAdjust=\"spacingAndGlyphs\" textLength=\"40\" x=\"77\" y=\"324.0669\">[false]</text><text fill=\"#000000\" font-family=\"sans-serif\" font-size=\"13\" lengthAdjust=\"spacingAndGlyphs\" textLength=\"7\" x=\"126.1631\" y=\"406.9125\">*</text></a><!--MD5=[1b7591eae5389033d8d09a9d6721a717]\n",
       "link E4 to E5--><a href=\"psysml:19ac739f-970e-4750-a1cd-14a3501dcfff\" target=\"_top\" title=\"psysml:19ac739f-970e-4750-a1cd-14a3501dcfff\" xlink:actuate=\"onRequest\" xlink:href=\"psysml:19ac739f-970e-4750-a1cd-14a3501dcfff\" xlink:show=\"new\" xlink:title=\"psysml:19ac739f-970e-4750-a1cd-14a3501dcfff\" xlink:type=\"simple\"><path d=\"M165,341.05 C165,360.9 165,391.02 165,412.52 \" fill=\"none\" id=\"E4-&gt;E5\" style=\"stroke: #383838; stroke-width: 1.0;\"/><polygon fill=\"#383838\" points=\"165,417.79,169,408.79,165,412.79,161,408.79,165,417.79\" style=\"stroke: #383838; stroke-width: 1.0;\"/><text fill=\"#000000\" font-family=\"sans-serif\" font-size=\"13\" lengthAdjust=\"spacingAndGlyphs\" textLength=\"55\" x=\"166\" y=\"384.0669\">[x == 0]</text><text fill=\"#000000\" font-family=\"sans-serif\" font-size=\"13\" lengthAdjust=\"spacingAndGlyphs\" textLength=\"7\" x=\"157.0594\" y=\"407.033\">*</text></a><!--MD5=[34ae78d7ce686ac6a6b018997fcd06f8]\n",
       "@startuml\r\n",
       "top to bottom direction\r\n",
       "skinparam monochrome true\r\n",
       "skinparam classbackgroundcolor white\r\n",
       "skinparam shadowing false\r\n",
       "skinparam wrapWidth 300\r\n",
       "hide circle\r\n",
       "\r\n",
       "rec def \"DecisionTest\" as E1  <<(T,blue) action def>> [[psysml:ec9d2101-14b6-425a-8b3b-258973824e57 ]] {\r\n",
       "choice \"test x\" as E2  [[psysml:7b5c557c-0eca-43da-893a-884adf177ee9 ]] \r\n",
       "choice \"<s>noname</s>\" as E3  [[psysml:c8637911-bdae-488c-9ae7-71f0e05f074a ]] \r\n",
       "rec usage \"A1\" as E4  <<(T,blue) action>> [[psysml:2b21def1-54fd-4014-8db4-beef5c1da0f0 ]] {\r\n",
       "}\r\n",
       "\r\n",
       "rec usage \"A2\" as E5  <<(T,blue) action>> [[psysml:a7c18d95-cb4e-4d18-b7c9-a948ce4b9e35 ]] {\r\n",
       "}\r\n",
       "\r\n",
       "rec usage \"A3\" as E6  <<(T,blue) action>> [[psysml:6ad7aed3-e22d-47c2-b6cf-45fd0f629de6 ]] {\r\n",
       "}\r\n",
       "\r\n",
       "rec usage \"A3\" as E7  <<(T,blue) action>> [[psysml:6ad7aed3-e22d-47c2-b6cf-45fd0f629de6 ]] {\r\n",
       "}\r\n",
       "\r\n",
       "}\r\n",
       "\r\n",
       "E2  - -> \"*\"E4 [[psysml:07a447fb-7978-4e35-9306-ac5ec116db5d ]] : [x == 1]\r\n",
       "E2  - -> \"*\"E5 [[psysml:f195b54a-5fed-403e-bb02-20f21e154f17 ]] : [x > 1]\r\n",
       "E2  - -> \"*\"E7 [[psysml:15c91a99-d9b4-4320-8388-ef3655122685 ]] \r\n",
       "E2 - -> \"*\"E3 [[psysml:6d6473c9-743e-4105-a2af-98d6bd8c1632 ]] \r\n",
       "E3  - -> \"*\"E4 [[psysml:4dd56774-018b-4c8a-8121-2b3d6a9c557c ]] : [true]\r\n",
       "E3  - -> \"*\"E5 [[psysml:2f25c912-d622-4deb-be6f-2375e7caca37 ]] : [false]\r\n",
       "E4  - -> \"*\"E5 [[psysml:19ac739f-970e-4750-a1cd-14a3501dcfff ]] : [x == 0]\r\n",
       "E7  - -> \"*\"E2 [[psysml:c19c71e4-b628-4c9d-aa87-db03cc189a8f ]] : [x > 0]\r\n",
       "@enduml\r\n",
       "\n",
       "PlantUML version 1.2020.13(Sat Jun 13 12:26:38 UTC 2020)\n",
       "(EPL source distribution)\n",
       "Java Runtime: OpenJDK Runtime Environment\n",
       "JVM: OpenJDK 64-Bit Server VM\n",
       "Default Encoding: UTF-8\n",
       "Language: en\n",
       "Country: null\n",
       "--></g></svg>"
      ]
     },
     "execution_count": 50,
     "metadata": {},
     "output_type": "execute_result"
    }
   ],
   "source": [
    "%viz --style=\"TB\" --view=\"MIXED\" \"DecisionTest\""
   ]
  },
  {
   "cell_type": "code",
   "execution_count": 51,
   "id": "3a735e51",
   "metadata": {
    "execution": {
     "iopub.execute_input": "2021-10-03T08:29:03.961436Z",
     "iopub.status.busy": "2021-10-03T08:29:03.961033Z",
     "iopub.status.idle": "2021-10-03T08:29:03.997789Z",
     "shell.execute_reply": "2021-10-03T08:29:03.995975Z"
    }
   },
   "outputs": [
    {
     "data": {
      "image/svg+xml": [
       "<?xml version=\"1.0\" encoding=\"UTF-8\" standalone=\"no\"?><svg xmlns=\"http://www.w3.org/2000/svg\" xmlns:xlink=\"http://www.w3.org/1999/xlink\" contentScriptType=\"application/ecmascript\" contentStyleType=\"text/css\" height=\"488px\" preserveAspectRatio=\"none\" style=\"width:333px;height:488px;\" version=\"1.1\" viewBox=\"0 0 333 488\" width=\"333px\" zoomAndPan=\"magnify\"><defs/><g><!--MD5=[fbc87193dbaf4d95561dea2c320d4a47]\n",
       "cluster E1--><a href=\"psysml:ec9d2101-14b6-425a-8b3b-258973824e57\" target=\"_top\" title=\"psysml:ec9d2101-14b6-425a-8b3b-258973824e57\" xlink:actuate=\"onRequest\" xlink:href=\"psysml:ec9d2101-14b6-425a-8b3b-258973824e57\" xlink:show=\"new\" xlink:title=\"psysml:ec9d2101-14b6-425a-8b3b-258973824e57\" xlink:type=\"simple\"><rect fill=\"#FFFFFF\" height=\"470\" id=\"E1\" style=\"stroke: #383838; stroke-width: 1.5;\" width=\"315\" x=\"7\" y=\"7\"/><rect fill=\"#F8F8F8\" height=\"37.9375\" style=\"stroke: #383838; stroke-width: 1.5;\" width=\"315\" x=\"7\" y=\"7\"/><text fill=\"#000000\" font-family=\"sans-serif\" font-size=\"12\" font-style=\"italic\" lengthAdjust=\"spacingAndGlyphs\" textLength=\"77\" x=\"126\" y=\"23.1387\">«action def»</text><text fill=\"#000000\" font-family=\"sans-serif\" font-size=\"12\" lengthAdjust=\"spacingAndGlyphs\" textLength=\"80\" x=\"124.5\" y=\"37.1074\">DecisionTest</text></a><polygon fill=\"#F8F8F8\" points=\"210,67.5,222,79.5,210,91.5,198,79.5,210,67.5\" style=\"stroke: #383838; stroke-width: 1.5;\"/><polygon fill=\"#F8F8F8\" points=\"35,187.5,47,199.5,35,211.5,23,199.5,35,187.5\" style=\"stroke: #383838; stroke-width: 1.5;\"/><g id=\"E1.E4\"><a href=\"psysml:2b21def1-54fd-4014-8db4-beef5c1da0f0\" target=\"_top\" title=\"psysml:2b21def1-54fd-4014-8db4-beef5c1da0f0\" xlink:actuate=\"onRequest\" xlink:href=\"psysml:2b21def1-54fd-4014-8db4-beef5c1da0f0\" xlink:show=\"new\" xlink:title=\"psysml:2b21def1-54fd-4014-8db4-beef5c1da0f0\" xlink:type=\"simple\"><rect fill=\"#FFFFFF\" height=\"42.9375\" id=\"E4\" rx=\"10\" ry=\"10\" style=\"stroke: #383838; stroke-width: 1.5;\" width=\"60\" x=\"135\" y=\"298\"/><rect fill=\"#F8F8F8\" height=\"37.9375\" rx=\"10\" ry=\"10\" style=\"stroke: #F8F8F8; stroke-width: 1.5;\" width=\"60\" x=\"135\" y=\"298\"/><rect fill=\"#F8F8F8\" height=\"10\" style=\"stroke: #F8F8F8; stroke-width: 1.5;\" width=\"60\" x=\"135\" y=\"325.9375\"/><rect fill=\"none\" height=\"42.9375\" id=\"E4\" rx=\"10\" ry=\"10\" style=\"stroke: #383838; stroke-width: 1.5;\" width=\"60\" x=\"135\" y=\"298\"/><text fill=\"#000000\" font-family=\"sans-serif\" font-size=\"12\" font-style=\"italic\" lengthAdjust=\"spacingAndGlyphs\" textLength=\"53\" x=\"138.5\" y=\"314.1387\">«action»</text><text fill=\"#000000\" font-family=\"sans-serif\" font-size=\"12\" lengthAdjust=\"spacingAndGlyphs\" textLength=\"16\" x=\"157\" y=\"328.1074\">A1</text></a></g><g id=\"E1.E5\"><a href=\"psysml:a7c18d95-cb4e-4d18-b7c9-a948ce4b9e35\" target=\"_top\" title=\"psysml:a7c18d95-cb4e-4d18-b7c9-a948ce4b9e35\" xlink:actuate=\"onRequest\" xlink:href=\"psysml:a7c18d95-cb4e-4d18-b7c9-a948ce4b9e35\" xlink:show=\"new\" xlink:title=\"psysml:a7c18d95-cb4e-4d18-b7c9-a948ce4b9e35\" xlink:type=\"simple\"><rect fill=\"#FFFFFF\" height=\"42.9375\" id=\"E5\" rx=\"10\" ry=\"10\" style=\"stroke: #383838; stroke-width: 1.5;\" width=\"60\" x=\"135\" y=\"418\"/><rect fill=\"#F8F8F8\" height=\"37.9375\" rx=\"10\" ry=\"10\" style=\"stroke: #F8F8F8; stroke-width: 1.5;\" width=\"60\" x=\"135\" y=\"418\"/><rect fill=\"#F8F8F8\" height=\"10\" style=\"stroke: #F8F8F8; stroke-width: 1.5;\" width=\"60\" x=\"135\" y=\"445.9375\"/><rect fill=\"none\" height=\"42.9375\" id=\"E5\" rx=\"10\" ry=\"10\" style=\"stroke: #383838; stroke-width: 1.5;\" width=\"60\" x=\"135\" y=\"418\"/><text fill=\"#000000\" font-family=\"sans-serif\" font-size=\"12\" font-style=\"italic\" lengthAdjust=\"spacingAndGlyphs\" textLength=\"53\" x=\"138.5\" y=\"434.1387\">«action»</text><text fill=\"#000000\" font-family=\"sans-serif\" font-size=\"12\" lengthAdjust=\"spacingAndGlyphs\" textLength=\"16\" x=\"157\" y=\"448.1074\">A2</text></a></g><g id=\"E1.E6\"><a href=\"psysml:6ad7aed3-e22d-47c2-b6cf-45fd0f629de6\" target=\"_top\" title=\"psysml:6ad7aed3-e22d-47c2-b6cf-45fd0f629de6\" xlink:actuate=\"onRequest\" xlink:href=\"psysml:6ad7aed3-e22d-47c2-b6cf-45fd0f629de6\" xlink:show=\"new\" xlink:title=\"psysml:6ad7aed3-e22d-47c2-b6cf-45fd0f629de6\" xlink:type=\"simple\"><rect fill=\"#FFFFFF\" height=\"42.9375\" id=\"E6\" rx=\"10\" ry=\"10\" style=\"stroke: #383838; stroke-width: 1.5;\" width=\"60\" x=\"63\" y=\"58\"/><rect fill=\"#F8F8F8\" height=\"37.9375\" rx=\"10\" ry=\"10\" style=\"stroke: #F8F8F8; stroke-width: 1.5;\" width=\"60\" x=\"63\" y=\"58\"/><rect fill=\"#F8F8F8\" height=\"10\" style=\"stroke: #F8F8F8; stroke-width: 1.5;\" width=\"60\" x=\"63\" y=\"85.9375\"/><rect fill=\"none\" height=\"42.9375\" id=\"E6\" rx=\"10\" ry=\"10\" style=\"stroke: #383838; stroke-width: 1.5;\" width=\"60\" x=\"63\" y=\"58\"/><text fill=\"#000000\" font-family=\"sans-serif\" font-size=\"12\" font-style=\"italic\" lengthAdjust=\"spacingAndGlyphs\" textLength=\"53\" x=\"66.5\" y=\"74.1387\">«action»</text><text fill=\"#000000\" font-family=\"sans-serif\" font-size=\"12\" lengthAdjust=\"spacingAndGlyphs\" textLength=\"16\" x=\"85\" y=\"88.1074\">A3</text></a></g><g id=\"E1.E7\"><a href=\"psysml:6ad7aed3-e22d-47c2-b6cf-45fd0f629de6\" target=\"_top\" title=\"psysml:6ad7aed3-e22d-47c2-b6cf-45fd0f629de6\" xlink:actuate=\"onRequest\" xlink:href=\"psysml:6ad7aed3-e22d-47c2-b6cf-45fd0f629de6\" xlink:show=\"new\" xlink:title=\"psysml:6ad7aed3-e22d-47c2-b6cf-45fd0f629de6\" xlink:type=\"simple\"><rect fill=\"#FFFFFF\" height=\"42.9375\" id=\"E7\" rx=\"10\" ry=\"10\" style=\"stroke: #383838; stroke-width: 1.5;\" width=\"60\" x=\"246\" y=\"178\"/><rect fill=\"#F8F8F8\" height=\"37.9375\" rx=\"10\" ry=\"10\" style=\"stroke: #F8F8F8; stroke-width: 1.5;\" width=\"60\" x=\"246\" y=\"178\"/><rect fill=\"#F8F8F8\" height=\"10\" style=\"stroke: #F8F8F8; stroke-width: 1.5;\" width=\"60\" x=\"246\" y=\"205.9375\"/><rect fill=\"none\" height=\"42.9375\" id=\"E7\" rx=\"10\" ry=\"10\" style=\"stroke: #383838; stroke-width: 1.5;\" width=\"60\" x=\"246\" y=\"178\"/><text fill=\"#000000\" font-family=\"sans-serif\" font-size=\"12\" font-style=\"italic\" lengthAdjust=\"spacingAndGlyphs\" textLength=\"53\" x=\"249.5\" y=\"194.1387\">«action»</text><text fill=\"#000000\" font-family=\"sans-serif\" font-size=\"12\" lengthAdjust=\"spacingAndGlyphs\" textLength=\"16\" x=\"268\" y=\"208.1074\">A3</text></a></g><!--MD5=[4d03bb2d0377dc85ccfab60ff574652b]\n",
       "link E2 to E4--><a href=\"psysml:07a447fb-7978-4e35-9306-ac5ec116db5d\" target=\"_top\" title=\"psysml:07a447fb-7978-4e35-9306-ac5ec116db5d\" xlink:actuate=\"onRequest\" xlink:href=\"psysml:07a447fb-7978-4e35-9306-ac5ec116db5d\" xlink:show=\"new\" xlink:title=\"psysml:07a447fb-7978-4e35-9306-ac5ec116db5d\" xlink:type=\"simple\"><path d=\"M206,87.5 C206,129.23 206,320 206,320 C206,320 200.23,320 200.23,320 \" fill=\"none\" id=\"E2-&gt;E4\" style=\"stroke: #383838; stroke-width: 1.0;\"/><polygon fill=\"#383838\" points=\"195.23,320,204.23,324,200.23,320,204.23,316,195.23,320\" style=\"stroke: #383838; stroke-width: 1.0;\"/><text fill=\"#000000\" font-family=\"sans-serif\" font-size=\"13\" lengthAdjust=\"spacingAndGlyphs\" textLength=\"55\" x=\"118\" y=\"204.0669\">[x == 1]</text><text fill=\"#000000\" font-family=\"sans-serif\" font-size=\"13\" lengthAdjust=\"spacingAndGlyphs\" textLength=\"7\" x=\"203.0301\" y=\"315.4707\">*</text></a><!--MD5=[dcad52bbbca2fe8adc741ce38b45dc12]\n",
       "link E2 to E5--><a href=\"psysml:f195b54a-5fed-403e-bb02-20f21e154f17\" target=\"_top\" title=\"psysml:f195b54a-5fed-403e-bb02-20f21e154f17\" xlink:actuate=\"onRequest\" xlink:href=\"psysml:f195b54a-5fed-403e-bb02-20f21e154f17\" xlink:show=\"new\" xlink:title=\"psysml:f195b54a-5fed-403e-bb02-20f21e154f17\" xlink:type=\"simple\"><path d=\"M210,91.91 C210,155.3 210,440 210,440 C210,440 200.02,440 200.02,440 \" fill=\"none\" id=\"E2-&gt;E5\" style=\"stroke: #383838; stroke-width: 1.0;\"/><polygon fill=\"#383838\" points=\"195.02,440,204.02,444,200.02,440,204.02,436,195.02,440\" style=\"stroke: #383838; stroke-width: 1.0;\"/><text fill=\"#000000\" font-family=\"sans-serif\" font-size=\"13\" lengthAdjust=\"spacingAndGlyphs\" textLength=\"44\" x=\"221\" y=\"264.0669\">[x &gt; 1]</text><text fill=\"#000000\" font-family=\"sans-serif\" font-size=\"13\" lengthAdjust=\"spacingAndGlyphs\" textLength=\"7\" x=\"203.1905\" y=\"435.3844\">*</text></a><!--MD5=[e3d2a08a9c9236652057e8ed0cbc9b62]\n",
       "link E2 to E7--><a href=\"psysml:15c91a99-d9b4-4320-8388-ef3655122685\" target=\"_top\" title=\"psysml:15c91a99-d9b4-4320-8388-ef3655122685\" xlink:actuate=\"onRequest\" xlink:href=\"psysml:15c91a99-d9b4-4320-8388-ef3655122685\" xlink:show=\"new\" xlink:title=\"psysml:15c91a99-d9b4-4320-8388-ef3655122685\" xlink:type=\"simple\"><path d=\"M218,83.9 C218,103.52 218,182 218,182 C218,182 240.98,182 240.98,182 \" fill=\"none\" id=\"E2-&gt;E7\" style=\"stroke: #383838; stroke-width: 1.0;\"/><polygon fill=\"#383838\" points=\"245.98,182,236.98,178,240.98,182,236.98,186,245.98,182\" style=\"stroke: #383838; stroke-width: 1.0;\"/><text fill=\"#000000\" font-family=\"sans-serif\" font-size=\"13\" lengthAdjust=\"spacingAndGlyphs\" textLength=\"7\" x=\"230.8095\" y=\"172.9969\">*</text></a><!--MD5=[583832df87f4419a098336a29a52fa00]\n",
       "link E7 to E2--><a href=\"psysml:c19c71e4-b628-4c9d-aa87-db03cc189a8f\" target=\"_top\" title=\"psysml:c19c71e4-b628-4c9d-aa87-db03cc189a8f\" xlink:actuate=\"onRequest\" xlink:href=\"psysml:c19c71e4-b628-4c9d-aa87-db03cc189a8f\" xlink:show=\"new\" xlink:title=\"psysml:c19c71e4-b628-4c9d-aa87-db03cc189a8f\" xlink:type=\"simple\"><path d=\"M245.73,185 C229.99,185 214,185 214,185 C214,185 214,92.78 214,92.78 \" fill=\"none\" id=\"E7-&gt;E2\" style=\"stroke: #383838; stroke-width: 1.0;\"/><polygon fill=\"#383838\" points=\"214,87.78,210,96.78,214,92.78,218,96.78,214,87.78\" style=\"stroke: #383838; stroke-width: 1.0;\"/><text fill=\"#000000\" font-family=\"sans-serif\" font-size=\"13\" lengthAdjust=\"spacingAndGlyphs\" textLength=\"44\" x=\"260\" y=\"144.0669\">[x &gt; 0]</text><text fill=\"#000000\" font-family=\"sans-serif\" font-size=\"13\" lengthAdjust=\"spacingAndGlyphs\" textLength=\"7\" x=\"207.3688\" y=\"111.5336\">*</text></a><!--MD5=[2720a5a1f2c3fca2055b230370638851]\n",
       "link E2 to E3--><a href=\"psysml:6d6473c9-743e-4105-a2af-98d6bd8c1632\" target=\"_top\" title=\"psysml:6d6473c9-743e-4105-a2af-98d6bd8c1632\" xlink:actuate=\"onRequest\" xlink:href=\"psysml:6d6473c9-743e-4105-a2af-98d6bd8c1632\" xlink:show=\"new\" xlink:title=\"psysml:6d6473c9-743e-4105-a2af-98d6bd8c1632\" xlink:type=\"simple\"><path d=\"M202,83.51 C202,104.42 202,200 202,200 C202,200 51.74,200 51.74,200 \" fill=\"none\" id=\"E2-&gt;E3\" style=\"stroke: #383838; stroke-width: 1.0;\"/><polygon fill=\"#383838\" points=\"46.74,200,55.74,204,51.74,200,55.74,196,46.74,200\" style=\"stroke: #383838; stroke-width: 1.0;\"/><text fill=\"#000000\" font-family=\"sans-serif\" font-size=\"13\" lengthAdjust=\"spacingAndGlyphs\" textLength=\"7\" x=\"54.9315\" y=\"193.3401\">*</text></a><!--MD5=[af87c684e3b0d8be13c1a698a818ef1e]\n",
       "link E3 to E4--><a href=\"psysml:4dd56774-018b-4c8a-8121-2b3d6a9c557c\" target=\"_top\" title=\"psysml:4dd56774-018b-4c8a-8121-2b3d6a9c557c\" xlink:actuate=\"onRequest\" xlink:href=\"psysml:4dd56774-018b-4c8a-8121-2b3d6a9c557c\" xlink:show=\"new\" xlink:title=\"psysml:4dd56774-018b-4c8a-8121-2b3d6a9c557c\" xlink:type=\"simple\"><path d=\"M39,207.78 C39,235.01 39,320 39,320 C39,320 129.82,320 129.82,320 \" fill=\"none\" id=\"E3-&gt;E4\" style=\"stroke: #383838; stroke-width: 1.0;\"/><polygon fill=\"#383838\" points=\"134.82,320,125.82,316,129.82,320,125.82,324,134.82,320\" style=\"stroke: #383838; stroke-width: 1.0;\"/><text fill=\"#000000\" font-family=\"sans-serif\" font-size=\"13\" lengthAdjust=\"spacingAndGlyphs\" textLength=\"36\" x=\"88\" y=\"264.0669\">[true]</text><text fill=\"#000000\" font-family=\"sans-serif\" font-size=\"13\" lengthAdjust=\"spacingAndGlyphs\" textLength=\"7\" x=\"120.0315\" y=\"315.4707\">*</text></a><!--MD5=[0188b64bb0ae78505a997a81836e11e9]\n",
       "link E3 to E5--><a href=\"psysml:2f25c912-d622-4deb-be6f-2375e7caca37\" target=\"_top\" title=\"psysml:2f25c912-d622-4deb-be6f-2375e7caca37\" xlink:actuate=\"onRequest\" xlink:href=\"psysml:2f25c912-d622-4deb-be6f-2375e7caca37\" xlink:show=\"new\" xlink:title=\"psysml:2f25c912-d622-4deb-be6f-2375e7caca37\" xlink:type=\"simple\"><path d=\"M31,207.5 C31,249.23 31,440 31,440 C31,440 129.93,440 129.93,440 \" fill=\"none\" id=\"E3-&gt;E5\" style=\"stroke: #383838; stroke-width: 1.0;\"/><polygon fill=\"#383838\" points=\"134.93,440,125.93,436,129.93,440,125.93,444,134.93,440\" style=\"stroke: #383838; stroke-width: 1.0;\"/><text fill=\"#000000\" font-family=\"sans-serif\" font-size=\"13\" lengthAdjust=\"spacingAndGlyphs\" textLength=\"40\" x=\"59\" y=\"324.0669\">[false]</text><text fill=\"#000000\" font-family=\"sans-serif\" font-size=\"13\" lengthAdjust=\"spacingAndGlyphs\" textLength=\"7\" x=\"120.1669\" y=\"435.4707\">*</text></a><!--MD5=[1b7591eae5389033d8d09a9d6721a717]\n",
       "link E4 to E5--><a href=\"psysml:19ac739f-970e-4750-a1cd-14a3501dcfff\" target=\"_top\" title=\"psysml:19ac739f-970e-4750-a1cd-14a3501dcfff\" xlink:actuate=\"onRequest\" xlink:href=\"psysml:19ac739f-970e-4750-a1cd-14a3501dcfff\" xlink:show=\"new\" xlink:title=\"psysml:19ac739f-970e-4750-a1cd-14a3501dcfff\" xlink:type=\"simple\"><path d=\"M165,341.23 C165,341.23 165,412.93 165,412.93 \" fill=\"none\" id=\"E4-&gt;E5\" style=\"stroke: #383838; stroke-width: 1.0;\"/><polygon fill=\"#383838\" points=\"165,417.93,169,408.93,165,412.93,161,408.93,165,417.93\" style=\"stroke: #383838; stroke-width: 1.0;\"/><text fill=\"#000000\" font-family=\"sans-serif\" font-size=\"13\" lengthAdjust=\"spacingAndGlyphs\" textLength=\"55\" x=\"166\" y=\"384.0669\">[x == 0]</text><text fill=\"#000000\" font-family=\"sans-serif\" font-size=\"13\" lengthAdjust=\"spacingAndGlyphs\" textLength=\"7\" x=\"157.0156\" y=\"406.8484\">*</text></a><!--MD5=[81eec76bfe4ced494ad3466d2c5c6fdd]\n",
       "@startuml\r\n",
       "skinparam linetype ortho\r\n",
       "skinparam monochrome true\r\n",
       "skinparam classbackgroundcolor white\r\n",
       "skinparam shadowing false\r\n",
       "skinparam wrapWidth 300\r\n",
       "hide circle\r\n",
       "\r\n",
       "rec def \"DecisionTest\" as E1  <<(T,blue) action def>> [[psysml:ec9d2101-14b6-425a-8b3b-258973824e57 ]] {\r\n",
       "choice \"test x\" as E2  [[psysml:7b5c557c-0eca-43da-893a-884adf177ee9 ]] \r\n",
       "choice \"<s>noname</s>\" as E3  [[psysml:c8637911-bdae-488c-9ae7-71f0e05f074a ]] \r\n",
       "rec usage \"A1\" as E4  <<(T,blue) action>> [[psysml:2b21def1-54fd-4014-8db4-beef5c1da0f0 ]] {\r\n",
       "}\r\n",
       "\r\n",
       "rec usage \"A2\" as E5  <<(T,blue) action>> [[psysml:a7c18d95-cb4e-4d18-b7c9-a948ce4b9e35 ]] {\r\n",
       "}\r\n",
       "\r\n",
       "rec usage \"A3\" as E6  <<(T,blue) action>> [[psysml:6ad7aed3-e22d-47c2-b6cf-45fd0f629de6 ]] {\r\n",
       "}\r\n",
       "\r\n",
       "rec usage \"A3\" as E7  <<(T,blue) action>> [[psysml:6ad7aed3-e22d-47c2-b6cf-45fd0f629de6 ]] {\r\n",
       "}\r\n",
       "\r\n",
       "}\r\n",
       "\r\n",
       "E2  - -> \"*\"E4 [[psysml:07a447fb-7978-4e35-9306-ac5ec116db5d ]] : [x == 1]\r\n",
       "E2  - -> \"*\"E5 [[psysml:f195b54a-5fed-403e-bb02-20f21e154f17 ]] : [x > 1]\r\n",
       "E2  - -> \"*\"E7 [[psysml:15c91a99-d9b4-4320-8388-ef3655122685 ]] \r\n",
       "E2 - -> \"*\"E3 [[psysml:6d6473c9-743e-4105-a2af-98d6bd8c1632 ]] \r\n",
       "E3  - -> \"*\"E4 [[psysml:4dd56774-018b-4c8a-8121-2b3d6a9c557c ]] : [true]\r\n",
       "E3  - -> \"*\"E5 [[psysml:2f25c912-d622-4deb-be6f-2375e7caca37 ]] : [false]\r\n",
       "E4  - -> \"*\"E5 [[psysml:19ac739f-970e-4750-a1cd-14a3501dcfff ]] : [x == 0]\r\n",
       "E7  - -> \"*\"E2 [[psysml:c19c71e4-b628-4c9d-aa87-db03cc189a8f ]] : [x > 0]\r\n",
       "@enduml\r\n",
       "\n",
       "PlantUML version 1.2020.13(Sat Jun 13 12:26:38 UTC 2020)\n",
       "(EPL source distribution)\n",
       "Java Runtime: OpenJDK Runtime Environment\n",
       "JVM: OpenJDK 64-Bit Server VM\n",
       "Default Encoding: UTF-8\n",
       "Language: en\n",
       "Country: null\n",
       "--></g></svg>"
      ]
     },
     "execution_count": 51,
     "metadata": {},
     "output_type": "execute_result"
    }
   ],
   "source": [
    "%viz --style=\"ORTHOLINE\" --view=\"Default\" \"DecisionTest\""
   ]
  },
  {
   "cell_type": "code",
   "execution_count": 52,
   "id": "09464576",
   "metadata": {
    "execution": {
     "iopub.execute_input": "2021-10-03T08:29:04.046623Z",
     "iopub.status.busy": "2021-10-03T08:29:04.046224Z",
     "iopub.status.idle": "2021-10-03T08:29:04.099357Z",
     "shell.execute_reply": "2021-10-03T08:29:04.097544Z"
    }
   },
   "outputs": [
    {
     "data": {
      "image/svg+xml": [
       "<?xml version=\"1.0\" encoding=\"UTF-8\" standalone=\"no\"?><svg xmlns=\"http://www.w3.org/2000/svg\" xmlns:xlink=\"http://www.w3.org/1999/xlink\" contentScriptType=\"application/ecmascript\" contentStyleType=\"text/css\" height=\"228px\" preserveAspectRatio=\"none\" style=\"width:525px;height:228px;\" version=\"1.1\" viewBox=\"0 0 525 228\" width=\"525px\" zoomAndPan=\"magnify\"><defs/><g><!--MD5=[43c9051892ef23e1a46a86907403d788]\n",
       "class E1--><a href=\"psysml:ec9d2101-14b6-425a-8b3b-258973824e57\" target=\"_top\" title=\"psysml:ec9d2101-14b6-425a-8b3b-258973824e57\" xlink:actuate=\"onRequest\" xlink:href=\"psysml:ec9d2101-14b6-425a-8b3b-258973824e57\" xlink:show=\"new\" xlink:title=\"psysml:ec9d2101-14b6-425a-8b3b-258973824e57\" xlink:type=\"simple\"><rect fill=\"#FFFFFF\" height=\"105.1563\" id=\"E1\" style=\"stroke: #383838; stroke-width: 1.5;\" width=\"86\" x=\"308.5\" y=\"7\"/><text fill=\"#000000\" font-family=\"sans-serif\" font-size=\"12\" font-style=\"italic\" lengthAdjust=\"spacingAndGlyphs\" textLength=\"77\" x=\"313\" y=\"23.1387\">«action def»</text><text fill=\"#000000\" font-family=\"sans-serif\" font-size=\"12\" lengthAdjust=\"spacingAndGlyphs\" textLength=\"80\" x=\"311.5\" y=\"37.1074\">DecisionTest</text><line style=\"stroke: #383838; stroke-width: 1.5;\" x1=\"309.5\" x2=\"393.5\" y1=\"44.9375\" y2=\"44.9375\"/><text fill=\"#000000\" font-family=\"sans-serif\" font-size=\"11\" lengthAdjust=\"spacingAndGlyphs\" textLength=\"30\" x=\"314.5\" y=\"75.9526\">x= 1;</text><line style=\"stroke: #383838; stroke-width: 1.0;\" x1=\"309.5\" x2=\"324\" y1=\"59.3398\" y2=\"59.3398\"/><text fill=\"#000000\" font-family=\"sans-serif\" font-size=\"11\" lengthAdjust=\"spacingAndGlyphs\" textLength=\"55\" x=\"324\" y=\"62.6479\">attributes</text><line style=\"stroke: #383838; stroke-width: 1.0;\" x1=\"379\" x2=\"393.5\" y1=\"59.3398\" y2=\"59.3398\"/><text fill=\"#000000\" font-family=\"sans-serif\" font-size=\"11\" lengthAdjust=\"spacingAndGlyphs\" textLength=\"8\" x=\"314.5\" y=\"105.562\">S</text><line style=\"stroke: #383838; stroke-width: 1.0;\" x1=\"309.5\" x2=\"321\" y1=\"88.9492\" y2=\"88.9492\"/><text fill=\"#000000\" font-family=\"sans-serif\" font-size=\"11\" lengthAdjust=\"spacingAndGlyphs\" textLength=\"61\" x=\"321\" y=\"92.2573\">transitions</text><line style=\"stroke: #383838; stroke-width: 1.0;\" x1=\"382\" x2=\"393.5\" y1=\"88.9492\" y2=\"88.9492\"/></a><!--MD5=[b4997ac47864f28c2f74865a473b2911]\n",
       "class E2--><a href=\"psysml:7b5c557c-0eca-43da-893a-884adf177ee9\" target=\"_top\" title=\"psysml:7b5c557c-0eca-43da-893a-884adf177ee9\" xlink:actuate=\"onRequest\" xlink:href=\"psysml:7b5c557c-0eca-43da-893a-884adf177ee9\" xlink:show=\"new\" xlink:title=\"psysml:7b5c557c-0eca-43da-893a-884adf177ee9\" xlink:type=\"simple\"><rect fill=\"#FFFFFF\" height=\"45.9375\" id=\"E2\" rx=\"10\" ry=\"10\" style=\"stroke: #383838; stroke-width: 1.5;\" width=\"101\" x=\"7\" y=\"172\"/><text fill=\"#000000\" font-family=\"sans-serif\" font-size=\"12\" font-style=\"italic\" lengthAdjust=\"spacingAndGlyphs\" textLength=\"99\" x=\"8\" y=\"188.1387\">«decisionNode»</text><text fill=\"#000000\" font-family=\"sans-serif\" font-size=\"12\" lengthAdjust=\"spacingAndGlyphs\" textLength=\"35\" x=\"40\" y=\"202.1074\">test x</text><line style=\"stroke: #383838; stroke-width: 1.5;\" x1=\"8\" x2=\"107\" y1=\"209.9375\" y2=\"209.9375\"/></a><!--MD5=[09b614a08d8cba4a07c9adeb5e0fee81]\n",
       "class E3--><a href=\"psysml:c8637911-bdae-488c-9ae7-71f0e05f074a\" target=\"_top\" title=\"psysml:c8637911-bdae-488c-9ae7-71f0e05f074a\" xlink:actuate=\"onRequest\" xlink:href=\"psysml:c8637911-bdae-488c-9ae7-71f0e05f074a\" xlink:show=\"new\" xlink:title=\"psysml:c8637911-bdae-488c-9ae7-71f0e05f074a\" xlink:type=\"simple\"><rect fill=\"#FFFFFF\" height=\"45.9375\" id=\"E3\" rx=\"10\" ry=\"10\" style=\"stroke: #383838; stroke-width: 1.5;\" width=\"101\" x=\"143\" y=\"172\"/><text fill=\"#000000\" font-family=\"sans-serif\" font-size=\"12\" font-style=\"italic\" lengthAdjust=\"spacingAndGlyphs\" textLength=\"99\" x=\"144\" y=\"188.1387\">«decisionNode»</text><text fill=\"#000000\" font-family=\"sans-serif\" font-size=\"12\" lengthAdjust=\"spacingAndGlyphs\" text-decoration=\"line-through\" textLength=\"51\" x=\"168\" y=\"202.1074\">noname</text><line style=\"stroke: #383838; stroke-width: 1.5;\" x1=\"144\" x2=\"243\" y1=\"209.9375\" y2=\"209.9375\"/></a><!--MD5=[ebbe1d658d1005bcc118a6aa81145e00]\n",
       "class E4--><a href=\"psysml:2b21def1-54fd-4014-8db4-beef5c1da0f0\" target=\"_top\" title=\"psysml:2b21def1-54fd-4014-8db4-beef5c1da0f0\" xlink:actuate=\"onRequest\" xlink:href=\"psysml:2b21def1-54fd-4014-8db4-beef5c1da0f0\" xlink:show=\"new\" xlink:title=\"psysml:2b21def1-54fd-4014-8db4-beef5c1da0f0\" xlink:type=\"simple\"><rect fill=\"#FFFFFF\" height=\"45.9375\" id=\"E4\" rx=\"10\" ry=\"10\" style=\"stroke: #383838; stroke-width: 1.5;\" width=\"55\" x=\"279\" y=\"172\"/><text fill=\"#000000\" font-family=\"sans-serif\" font-size=\"12\" font-style=\"italic\" lengthAdjust=\"spacingAndGlyphs\" textLength=\"53\" x=\"280\" y=\"188.1387\">«action»</text><text fill=\"#000000\" font-family=\"sans-serif\" font-size=\"12\" lengthAdjust=\"spacingAndGlyphs\" textLength=\"16\" x=\"298.5\" y=\"202.1074\">A1</text><line style=\"stroke: #383838; stroke-width: 1.5;\" x1=\"280\" x2=\"333\" y1=\"209.9375\" y2=\"209.9375\"/></a><!--MD5=[270fce915f116d4de14055a7c1d9a0f3]\n",
       "class E5--><a href=\"psysml:a7c18d95-cb4e-4d18-b7c9-a948ce4b9e35\" target=\"_top\" title=\"psysml:a7c18d95-cb4e-4d18-b7c9-a948ce4b9e35\" xlink:actuate=\"onRequest\" xlink:href=\"psysml:a7c18d95-cb4e-4d18-b7c9-a948ce4b9e35\" xlink:show=\"new\" xlink:title=\"psysml:a7c18d95-cb4e-4d18-b7c9-a948ce4b9e35\" xlink:type=\"simple\"><rect fill=\"#FFFFFF\" height=\"45.9375\" id=\"E5\" rx=\"10\" ry=\"10\" style=\"stroke: #383838; stroke-width: 1.5;\" width=\"55\" x=\"369\" y=\"172\"/><text fill=\"#000000\" font-family=\"sans-serif\" font-size=\"12\" font-style=\"italic\" lengthAdjust=\"spacingAndGlyphs\" textLength=\"53\" x=\"370\" y=\"188.1387\">«action»</text><text fill=\"#000000\" font-family=\"sans-serif\" font-size=\"12\" lengthAdjust=\"spacingAndGlyphs\" textLength=\"16\" x=\"388.5\" y=\"202.1074\">A2</text><line style=\"stroke: #383838; stroke-width: 1.5;\" x1=\"370\" x2=\"423\" y1=\"209.9375\" y2=\"209.9375\"/></a><!--MD5=[60a26617385b1d2d0262a64233df1f8d]\n",
       "class E6--><a href=\"psysml:6ad7aed3-e22d-47c2-b6cf-45fd0f629de6\" target=\"_top\" title=\"psysml:6ad7aed3-e22d-47c2-b6cf-45fd0f629de6\" xlink:actuate=\"onRequest\" xlink:href=\"psysml:6ad7aed3-e22d-47c2-b6cf-45fd0f629de6\" xlink:show=\"new\" xlink:title=\"psysml:6ad7aed3-e22d-47c2-b6cf-45fd0f629de6\" xlink:type=\"simple\"><rect fill=\"#FFFFFF\" height=\"45.9375\" id=\"E6\" rx=\"10\" ry=\"10\" style=\"stroke: #383838; stroke-width: 1.5;\" width=\"55\" x=\"459\" y=\"172\"/><text fill=\"#000000\" font-family=\"sans-serif\" font-size=\"12\" font-style=\"italic\" lengthAdjust=\"spacingAndGlyphs\" textLength=\"53\" x=\"460\" y=\"188.1387\">«action»</text><text fill=\"#000000\" font-family=\"sans-serif\" font-size=\"12\" lengthAdjust=\"spacingAndGlyphs\" textLength=\"16\" x=\"478.5\" y=\"202.1074\">A3</text><line style=\"stroke: #383838; stroke-width: 1.5;\" x1=\"460\" x2=\"513\" y1=\"209.9375\" y2=\"209.9375\"/></a><!--MD5=[a523cb2a0b79ecf9065ad8783f96c320]\n",
       "reverse link E1 to E2--><a href=\"psysml:a3cf86ed-3d1a-4135-b385-a97024d6cab4\" target=\"_top\" title=\"psysml:a3cf86ed-3d1a-4135-b385-a97024d6cab4\" xlink:actuate=\"onRequest\" xlink:href=\"psysml:a3cf86ed-3d1a-4135-b385-a97024d6cab4\" xlink:show=\"new\" xlink:title=\"psysml:a3cf86ed-3d1a-4135-b385-a97024d6cab4\" xlink:type=\"simple\"><path d=\"M295.44,42 C295.44,42 57.5,42 57.5,42 C57.5,42 57.5,128.96 57.5,171.76 \" fill=\"none\" id=\"E1&lt;-E2\" style=\"stroke: #383838; stroke-width: 1.0;\"/><polygon fill=\"#383838\" points=\"308.44,42,302.4444,37.9934,296.44,41.9868,302.4356,45.9934,308.44,42\" style=\"stroke: #383838; stroke-width: 1.0;\"/></a><!--MD5=[5d7b3810b1dd9b5164bea1151b29b665]\n",
       "reverse link E1 to E3--><a href=\"psysml:1909c977-6510-4eff-a578-3c7de40e7c8b\" target=\"_top\" title=\"psysml:1909c977-6510-4eff-a578-3c7de40e7c8b\" xlink:actuate=\"onRequest\" xlink:href=\"psysml:1909c977-6510-4eff-a578-3c7de40e7c8b\" xlink:show=\"new\" xlink:title=\"psysml:1909c977-6510-4eff-a578-3c7de40e7c8b\" xlink:type=\"simple\"><path d=\"M295.33,77 C295.33,77 193.5,77 193.5,77 C193.5,77 193.5,137.63 193.5,171.97 \" fill=\"none\" id=\"E1&lt;-E3\" style=\"stroke: #383838; stroke-width: 1.0;\"/><polygon fill=\"#383838\" points=\"308.33,77,302.33,73,296.33,77,302.33,81,308.33,77\" style=\"stroke: #383838; stroke-width: 1.0;\"/></a><!--MD5=[f2c5c03aa1e8c0ba21c10a05e6444b8e]\n",
       "reverse link E1 to E4--><a href=\"psysml:fda894ee-2ee4-49d0-993e-77e7f0096dce\" target=\"_top\" title=\"psysml:fda894ee-2ee4-49d0-993e-77e7f0096dce\" xlink:actuate=\"onRequest\" xlink:href=\"psysml:fda894ee-2ee4-49d0-993e-77e7f0096dce\" xlink:show=\"new\" xlink:title=\"psysml:fda894ee-2ee4-49d0-993e-77e7f0096dce\" xlink:type=\"simple\"><path d=\"M321.25,125.28 C321.25,125.28 321.25,171.9 321.25,171.9 \" fill=\"none\" id=\"E1&lt;-E4\" style=\"stroke: #383838; stroke-width: 1.0;\"/><polygon fill=\"#383838\" points=\"321.25,112.28,317.25,118.28,321.25,124.28,325.25,118.28,321.25,112.28\" style=\"stroke: #383838; stroke-width: 1.0;\"/><text fill=\"#000000\" font-family=\"sans-serif\" font-size=\"13\" lengthAdjust=\"spacingAndGlyphs\" textLength=\"7\" x=\"317.2734\" y=\"160.7694\">*</text></a><!--MD5=[33238bef88d6431a141d8bc8fb12bca0]\n",
       "reverse link E1 to E5--><a href=\"psysml:109468b3-506c-4497-b8ac-b8e68c843a0f\" target=\"_top\" title=\"psysml:109468b3-506c-4497-b8ac-b8e68c843a0f\" xlink:actuate=\"onRequest\" xlink:href=\"psysml:109468b3-506c-4497-b8ac-b8e68c843a0f\" xlink:show=\"new\" xlink:title=\"psysml:109468b3-506c-4497-b8ac-b8e68c843a0f\" xlink:type=\"simple\"><path d=\"M381.75,125.28 C381.75,125.28 381.75,171.9 381.75,171.9 \" fill=\"none\" id=\"E1&lt;-E5\" style=\"stroke: #383838; stroke-width: 1.0;\"/><polygon fill=\"#383838\" points=\"381.75,112.28,377.75,118.28,381.75,124.28,385.75,118.28,381.75,112.28\" style=\"stroke: #383838; stroke-width: 1.0;\"/><text fill=\"#000000\" font-family=\"sans-serif\" font-size=\"13\" lengthAdjust=\"spacingAndGlyphs\" textLength=\"7\" x=\"369.8453\" y=\"160.7694\">*</text></a><!--MD5=[aca2ef284c2b1b90e17e73bf3f292c07]\n",
       "reverse link E1 to E6--><a href=\"psysml:74d19cab-9a73-4108-b783-78a99b82b215\" target=\"_top\" title=\"psysml:74d19cab-9a73-4108-b783-78a99b82b215\" xlink:actuate=\"onRequest\" xlink:href=\"psysml:74d19cab-9a73-4108-b783-78a99b82b215\" xlink:show=\"new\" xlink:title=\"psysml:74d19cab-9a73-4108-b783-78a99b82b215\" xlink:type=\"simple\"><path d=\"M407.75,42 C407.75,42 495.67,42 495.67,42 C495.67,42 495.67,128.96 495.67,171.76 \" fill=\"none\" id=\"E1&lt;-E6\" style=\"stroke: #383838; stroke-width: 1.0;\"/><polygon fill=\"#383838\" points=\"394.75,42,400.75,46,406.75,42,400.75,38,394.75,42\" style=\"stroke: #383838; stroke-width: 1.0;\"/><text fill=\"#000000\" font-family=\"sans-serif\" font-size=\"13\" lengthAdjust=\"spacingAndGlyphs\" textLength=\"7\" x=\"490.1229\" y=\"160.9748\">*</text></a><!--MD5=[aca2ef284c2b1b90e17e73bf3f292c07]\n",
       "reverse link E1 to E6--><a href=\"psysml:5ce6f7c0-8ea6-4680-8afe-13e322408ece\" target=\"_top\" title=\"psysml:5ce6f7c0-8ea6-4680-8afe-13e322408ece\" xlink:actuate=\"onRequest\" xlink:href=\"psysml:5ce6f7c0-8ea6-4680-8afe-13e322408ece\" xlink:show=\"new\" xlink:title=\"psysml:5ce6f7c0-8ea6-4680-8afe-13e322408ece\" xlink:type=\"simple\"><path d=\"M409.8,77 C409.8,77 477.33,77 477.33,77 C477.33,77 477.33,137.63 477.33,171.97 \" fill=\"none\" id=\"E1&lt;-E6-1\" style=\"stroke: #383838; stroke-width: 1.0; stroke-dasharray: 7.0,7.0;\"/><ellipse cx=\"402.8\" cy=\"77\" fill=\"#FFFFFF\" rx=\"8\" ry=\"8\" style=\"stroke: #383838; stroke-width: 1.0;\"/><line style=\"stroke: #383838; stroke-width: 1.0;\" x1=\"410.8\" x2=\"394.8\" y1=\"77\" y2=\"77\"/><line style=\"stroke: #383838; stroke-width: 1.0;\" x1=\"402.8\" x2=\"402.8\" y1=\"85\" y2=\"69\"/><text fill=\"#000000\" font-family=\"sans-serif\" font-size=\"13\" lengthAdjust=\"spacingAndGlyphs\" textLength=\"7\" x=\"466.9249\" y=\"160.8582\">*</text></a><!--MD5=[2f28a3457a8265d6daa8ec51c35d3b92]\n",
       "@startuml\r\n",
       "skinparam linetype ortho\r\n",
       "skinparam monochrome true\r\n",
       "skinparam classbackgroundcolor white\r\n",
       "skinparam shadowing false\r\n",
       "skinparam wrapWidth 300\r\n",
       "hide circle\r\n",
       "\r\n",
       "comp def \"DecisionTest\" as E1  <<(T,blue) action def>> [[psysml:ec9d2101-14b6-425a-8b3b-258973824e57 ]] {\r\n",
       "- - attributes - -\r\n",
       "x= 1; \r\n",
       "- - transitions - -\r\n",
       "S\r\n",
       "}\r\n",
       "comp usage \"test x\" as E2  <<(T,blue) decisionNode>> [[psysml:7b5c557c-0eca-43da-893a-884adf177ee9 ]] {\r\n",
       "}\r\n",
       "comp usage \"<s>noname</s>\" as E3  <<(T,blue) decisionNode>> [[psysml:c8637911-bdae-488c-9ae7-71f0e05f074a ]] {\r\n",
       "}\r\n",
       "comp usage \"A1\" as E4  <<(T,blue) action>> [[psysml:2b21def1-54fd-4014-8db4-beef5c1da0f0 ]] {\r\n",
       "}\r\n",
       "comp usage \"A2\" as E5  <<(T,blue) action>> [[psysml:a7c18d95-cb4e-4d18-b7c9-a948ce4b9e35 ]] {\r\n",
       "}\r\n",
       "comp usage \"A3\" as E6  <<(T,blue) action>> [[psysml:6ad7aed3-e22d-47c2-b6cf-45fd0f629de6 ]] {\r\n",
       "}\r\n",
       "E1 *- - E2 [[psysml:a3cf86ed-3d1a-4135-b385-a97024d6cab4 ]] \r\n",
       "E1 *- - E3 [[psysml:1909c977-6510-4eff-a578-3c7de40e7c8b ]] \r\n",
       "E1 *- - \"*\"E4 [[psysml:fda894ee-2ee4-49d0-993e-77e7f0096dce ]] \r\n",
       "E1 *- - \"*\"E5 [[psysml:109468b3-506c-4497-b8ac-b8e68c843a0f ]] \r\n",
       "E1 *- - \"*\"E6 [[psysml:74d19cab-9a73-4108-b783-78a99b82b215 ]] \r\n",
       "E1 +.. \"*\"E6 [[psysml:5ce6f7c0-8ea6-4680-8afe-13e322408ece ]] \r\n",
       "@enduml\r\n",
       "\n",
       "PlantUML version 1.2020.13(Sat Jun 13 12:26:38 UTC 2020)\n",
       "(EPL source distribution)\n",
       "Java Runtime: OpenJDK Runtime Environment\n",
       "JVM: OpenJDK 64-Bit Server VM\n",
       "Default Encoding: UTF-8\n",
       "Language: en\n",
       "Country: null\n",
       "--></g></svg>"
      ]
     },
     "execution_count": 52,
     "metadata": {},
     "output_type": "execute_result"
    }
   ],
   "source": [
    "%viz --style=\"ORTHOLINE\" --view=\"Tree\" \"DecisionTest\""
   ]
  },
  {
   "cell_type": "code",
   "execution_count": 53,
   "id": "51417d50",
   "metadata": {
    "execution": {
     "iopub.execute_input": "2021-10-03T08:29:04.148152Z",
     "iopub.status.busy": "2021-10-03T08:29:04.147742Z",
     "iopub.status.idle": "2021-10-03T08:29:04.153268Z",
     "shell.execute_reply": "2021-10-03T08:29:04.152908Z"
    }
   },
   "outputs": [
    {
     "data": {
      "image/svg+xml": [
       "<?xml version=\"1.0\" encoding=\"UTF-8\" standalone=\"no\"?><svg xmlns=\"http://www.w3.org/2000/svg\" xmlns:xlink=\"http://www.w3.org/1999/xlink\" contentScriptType=\"application/ecmascript\" contentStyleType=\"text/css\" height=\"12px\" preserveAspectRatio=\"none\" style=\"width:12px;height:12px;\" version=\"1.1\" viewBox=\"0 0 12 12\" width=\"12px\" zoomAndPan=\"magnify\"><defs/><g><!--MD5=[97d6f38768b311333d388e66b2b27985]\n",
       "@startuml\r\n",
       "skinparam linetype ortho\r\n",
       "skinparam monochrome true\r\n",
       "skinparam classbackgroundcolor white\r\n",
       "skinparam shadowing false\r\n",
       "skinparam wrapWidth 300\r\n",
       "hide circle\r\n",
       "\r\n",
       "@enduml\r\n",
       "\n",
       "PlantUML version 1.2020.13(Sat Jun 13 12:26:38 UTC 2020)\n",
       "(EPL source distribution)\n",
       "Java Runtime: OpenJDK Runtime Environment\n",
       "JVM: OpenJDK 64-Bit Server VM\n",
       "Default Encoding: UTF-8\n",
       "Language: en\n",
       "Country: null\n",
       "--></g></svg>"
      ]
     },
     "execution_count": 53,
     "metadata": {},
     "output_type": "execute_result"
    }
   ],
   "source": [
    "%viz --style=\"ORTHOLINE\" --view=\"State\" \"DecisionTest\""
   ]
  },
  {
   "cell_type": "code",
   "execution_count": 54,
   "id": "a0960f69",
   "metadata": {
    "execution": {
     "iopub.execute_input": "2021-10-03T08:29:04.202567Z",
     "iopub.status.busy": "2021-10-03T08:29:04.202173Z",
     "iopub.status.idle": "2021-10-03T08:29:04.239304Z",
     "shell.execute_reply": "2021-10-03T08:29:04.237098Z"
    }
   },
   "outputs": [
    {
     "data": {
      "image/svg+xml": [
       "<?xml version=\"1.0\" encoding=\"UTF-8\" standalone=\"no\"?><svg xmlns=\"http://www.w3.org/2000/svg\" xmlns:xlink=\"http://www.w3.org/1999/xlink\" contentScriptType=\"application/ecmascript\" contentStyleType=\"text/css\" height=\"356px\" preserveAspectRatio=\"none\" style=\"width:333px;height:356px;\" version=\"1.1\" viewBox=\"0 0 333 356\" width=\"333px\" zoomAndPan=\"magnify\"><defs/><g><!--MD5=[fbc87193dbaf4d95561dea2c320d4a47]\n",
       "cluster E1--><a href=\"psysml:ec9d2101-14b6-425a-8b3b-258973824e57\" target=\"_top\" title=\"psysml:ec9d2101-14b6-425a-8b3b-258973824e57\" xlink:actuate=\"onRequest\" xlink:href=\"psysml:ec9d2101-14b6-425a-8b3b-258973824e57\" xlink:show=\"new\" xlink:title=\"psysml:ec9d2101-14b6-425a-8b3b-258973824e57\" xlink:type=\"simple\"><rect fill=\"#FFFFFF\" height=\"338\" id=\"E1\" style=\"stroke: #383838; stroke-width: 1.5;\" width=\"315\" x=\"7\" y=\"7\"/><rect fill=\"#F8F8F8\" height=\"37.9375\" style=\"stroke: #383838; stroke-width: 1.5;\" width=\"315\" x=\"7\" y=\"7\"/><text fill=\"#000000\" font-family=\"sans-serif\" font-size=\"12\" font-style=\"italic\" lengthAdjust=\"spacingAndGlyphs\" textLength=\"77\" x=\"126\" y=\"23.1387\">«action def»</text><text fill=\"#000000\" font-family=\"sans-serif\" font-size=\"12\" lengthAdjust=\"spacingAndGlyphs\" textLength=\"80\" x=\"124.5\" y=\"37.1074\">DecisionTest</text></a><polygon fill=\"#F8F8F8\" points=\"210,67.5,222,79.5,210,91.5,198,79.5,210,67.5\" style=\"stroke: #383838; stroke-width: 1.5;\"/><polygon fill=\"#F8F8F8\" points=\"35,143.5,47,155.5,35,167.5,23,155.5,35,143.5\" style=\"stroke: #383838; stroke-width: 1.5;\"/><g id=\"E1.E4\"><a href=\"psysml:2b21def1-54fd-4014-8db4-beef5c1da0f0\" target=\"_top\" title=\"psysml:2b21def1-54fd-4014-8db4-beef5c1da0f0\" xlink:actuate=\"onRequest\" xlink:href=\"psysml:2b21def1-54fd-4014-8db4-beef5c1da0f0\" xlink:show=\"new\" xlink:title=\"psysml:2b21def1-54fd-4014-8db4-beef5c1da0f0\" xlink:type=\"simple\"><rect fill=\"#FFFFFF\" height=\"42.9375\" id=\"E4\" rx=\"10\" ry=\"10\" style=\"stroke: #383838; stroke-width: 1.5;\" width=\"60\" x=\"135\" y=\"210\"/><rect fill=\"#F8F8F8\" height=\"37.9375\" rx=\"10\" ry=\"10\" style=\"stroke: #F8F8F8; stroke-width: 1.5;\" width=\"60\" x=\"135\" y=\"210\"/><rect fill=\"#F8F8F8\" height=\"10\" style=\"stroke: #F8F8F8; stroke-width: 1.5;\" width=\"60\" x=\"135\" y=\"237.9375\"/><rect fill=\"none\" height=\"42.9375\" id=\"E4\" rx=\"10\" ry=\"10\" style=\"stroke: #383838; stroke-width: 1.5;\" width=\"60\" x=\"135\" y=\"210\"/><text fill=\"#000000\" font-family=\"sans-serif\" font-size=\"12\" font-style=\"italic\" lengthAdjust=\"spacingAndGlyphs\" textLength=\"53\" x=\"138.5\" y=\"226.1387\">«action»</text><text fill=\"#000000\" font-family=\"sans-serif\" font-size=\"12\" lengthAdjust=\"spacingAndGlyphs\" textLength=\"16\" x=\"157\" y=\"240.1074\">A1</text></a></g><g id=\"E1.E5\"><a href=\"psysml:a7c18d95-cb4e-4d18-b7c9-a948ce4b9e35\" target=\"_top\" title=\"psysml:a7c18d95-cb4e-4d18-b7c9-a948ce4b9e35\" xlink:actuate=\"onRequest\" xlink:href=\"psysml:a7c18d95-cb4e-4d18-b7c9-a948ce4b9e35\" xlink:show=\"new\" xlink:title=\"psysml:a7c18d95-cb4e-4d18-b7c9-a948ce4b9e35\" xlink:type=\"simple\"><rect fill=\"#FFFFFF\" height=\"42.9375\" id=\"E5\" rx=\"10\" ry=\"10\" style=\"stroke: #383838; stroke-width: 1.5;\" width=\"60\" x=\"135\" y=\"286\"/><rect fill=\"#F8F8F8\" height=\"37.9375\" rx=\"10\" ry=\"10\" style=\"stroke: #F8F8F8; stroke-width: 1.5;\" width=\"60\" x=\"135\" y=\"286\"/><rect fill=\"#F8F8F8\" height=\"10\" style=\"stroke: #F8F8F8; stroke-width: 1.5;\" width=\"60\" x=\"135\" y=\"313.9375\"/><rect fill=\"none\" height=\"42.9375\" id=\"E5\" rx=\"10\" ry=\"10\" style=\"stroke: #383838; stroke-width: 1.5;\" width=\"60\" x=\"135\" y=\"286\"/><text fill=\"#000000\" font-family=\"sans-serif\" font-size=\"12\" font-style=\"italic\" lengthAdjust=\"spacingAndGlyphs\" textLength=\"53\" x=\"138.5\" y=\"302.1387\">«action»</text><text fill=\"#000000\" font-family=\"sans-serif\" font-size=\"12\" lengthAdjust=\"spacingAndGlyphs\" textLength=\"16\" x=\"157\" y=\"316.1074\">A2</text></a></g><g id=\"E1.E6\"><a href=\"psysml:6ad7aed3-e22d-47c2-b6cf-45fd0f629de6\" target=\"_top\" title=\"psysml:6ad7aed3-e22d-47c2-b6cf-45fd0f629de6\" xlink:actuate=\"onRequest\" xlink:href=\"psysml:6ad7aed3-e22d-47c2-b6cf-45fd0f629de6\" xlink:show=\"new\" xlink:title=\"psysml:6ad7aed3-e22d-47c2-b6cf-45fd0f629de6\" xlink:type=\"simple\"><rect fill=\"#FFFFFF\" height=\"42.9375\" id=\"E6\" rx=\"10\" ry=\"10\" style=\"stroke: #383838; stroke-width: 1.5;\" width=\"60\" x=\"63\" y=\"58\"/><rect fill=\"#F8F8F8\" height=\"37.9375\" rx=\"10\" ry=\"10\" style=\"stroke: #F8F8F8; stroke-width: 1.5;\" width=\"60\" x=\"63\" y=\"58\"/><rect fill=\"#F8F8F8\" height=\"10\" style=\"stroke: #F8F8F8; stroke-width: 1.5;\" width=\"60\" x=\"63\" y=\"85.9375\"/><rect fill=\"none\" height=\"42.9375\" id=\"E6\" rx=\"10\" ry=\"10\" style=\"stroke: #383838; stroke-width: 1.5;\" width=\"60\" x=\"63\" y=\"58\"/><text fill=\"#000000\" font-family=\"sans-serif\" font-size=\"12\" font-style=\"italic\" lengthAdjust=\"spacingAndGlyphs\" textLength=\"53\" x=\"66.5\" y=\"74.1387\">«action»</text><text fill=\"#000000\" font-family=\"sans-serif\" font-size=\"12\" lengthAdjust=\"spacingAndGlyphs\" textLength=\"16\" x=\"85\" y=\"88.1074\">A3</text></a></g><g id=\"E1.E7\"><a href=\"psysml:6ad7aed3-e22d-47c2-b6cf-45fd0f629de6\" target=\"_top\" title=\"psysml:6ad7aed3-e22d-47c2-b6cf-45fd0f629de6\" xlink:actuate=\"onRequest\" xlink:href=\"psysml:6ad7aed3-e22d-47c2-b6cf-45fd0f629de6\" xlink:show=\"new\" xlink:title=\"psysml:6ad7aed3-e22d-47c2-b6cf-45fd0f629de6\" xlink:type=\"simple\"><rect fill=\"#FFFFFF\" height=\"42.9375\" id=\"E7\" rx=\"10\" ry=\"10\" style=\"stroke: #383838; stroke-width: 1.5;\" width=\"60\" x=\"246\" y=\"134\"/><rect fill=\"#F8F8F8\" height=\"37.9375\" rx=\"10\" ry=\"10\" style=\"stroke: #F8F8F8; stroke-width: 1.5;\" width=\"60\" x=\"246\" y=\"134\"/><rect fill=\"#F8F8F8\" height=\"10\" style=\"stroke: #F8F8F8; stroke-width: 1.5;\" width=\"60\" x=\"246\" y=\"161.9375\"/><rect fill=\"none\" height=\"42.9375\" id=\"E7\" rx=\"10\" ry=\"10\" style=\"stroke: #383838; stroke-width: 1.5;\" width=\"60\" x=\"246\" y=\"134\"/><text fill=\"#000000\" font-family=\"sans-serif\" font-size=\"12\" font-style=\"italic\" lengthAdjust=\"spacingAndGlyphs\" textLength=\"53\" x=\"249.5\" y=\"150.1387\">«action»</text><text fill=\"#000000\" font-family=\"sans-serif\" font-size=\"12\" lengthAdjust=\"spacingAndGlyphs\" textLength=\"16\" x=\"268\" y=\"164.1074\">A3</text></a></g><!--MD5=[4d03bb2d0377dc85ccfab60ff574652b]\n",
       "link E2 to E4--><a href=\"psysml:07a447fb-7978-4e35-9306-ac5ec116db5d\" target=\"_top\" title=\"psysml:07a447fb-7978-4e35-9306-ac5ec116db5d\" xlink:actuate=\"onRequest\" xlink:href=\"psysml:07a447fb-7978-4e35-9306-ac5ec116db5d\" xlink:show=\"new\" xlink:title=\"psysml:07a447fb-7978-4e35-9306-ac5ec116db5d\" xlink:type=\"simple\"><path d=\"M206,87.7 C206,119.37 206,232 206,232 C206,232 200.23,232 200.23,232 \" fill=\"none\" id=\"E2-&gt;E4\" style=\"stroke: #383838; stroke-width: 1.0;\"/><polygon fill=\"#383838\" points=\"195.23,232,204.23,236,200.23,232,204.23,228,195.23,232\" style=\"stroke: #383838; stroke-width: 1.0;\"/><text fill=\"#000000\" font-family=\"sans-serif\" font-size=\"13\" lengthAdjust=\"spacingAndGlyphs\" textLength=\"55\" x=\"118\" y=\"160.0669\">[x == 1]</text><text fill=\"#000000\" font-family=\"sans-serif\" font-size=\"13\" lengthAdjust=\"spacingAndGlyphs\" textLength=\"7\" x=\"203.0301\" y=\"227.4707\">*</text></a><!--MD5=[dcad52bbbca2fe8adc741ce38b45dc12]\n",
       "link E2 to E5--><a href=\"psysml:f195b54a-5fed-403e-bb02-20f21e154f17\" target=\"_top\" title=\"psysml:f195b54a-5fed-403e-bb02-20f21e154f17\" xlink:actuate=\"onRequest\" xlink:href=\"psysml:f195b54a-5fed-403e-bb02-20f21e154f17\" xlink:show=\"new\" xlink:title=\"psysml:f195b54a-5fed-403e-bb02-20f21e154f17\" xlink:type=\"simple\"><path d=\"M210,91.79 C210,139.25 210,308 210,308 C210,308 200.02,308 200.02,308 \" fill=\"none\" id=\"E2-&gt;E5\" style=\"stroke: #383838; stroke-width: 1.0;\"/><polygon fill=\"#383838\" points=\"195.02,308,204.02,312,200.02,308,204.02,304,195.02,308\" style=\"stroke: #383838; stroke-width: 1.0;\"/><text fill=\"#000000\" font-family=\"sans-serif\" font-size=\"13\" lengthAdjust=\"spacingAndGlyphs\" textLength=\"44\" x=\"221\" y=\"198.0669\">[x &gt; 1]</text><text fill=\"#000000\" font-family=\"sans-serif\" font-size=\"13\" lengthAdjust=\"spacingAndGlyphs\" textLength=\"7\" x=\"203.1905\" y=\"303.3844\">*</text></a><!--MD5=[e3d2a08a9c9236652057e8ed0cbc9b62]\n",
       "link E2 to E7--><a href=\"psysml:15c91a99-d9b4-4320-8388-ef3655122685\" target=\"_top\" title=\"psysml:15c91a99-d9b4-4320-8388-ef3655122685\" xlink:actuate=\"onRequest\" xlink:href=\"psysml:15c91a99-d9b4-4320-8388-ef3655122685\" xlink:show=\"new\" xlink:title=\"psysml:15c91a99-d9b4-4320-8388-ef3655122685\" xlink:type=\"simple\"><path d=\"M218,83.71 C218,97.12 218,138 218,138 C218,138 240.98,138 240.98,138 \" fill=\"none\" id=\"E2-&gt;E7\" style=\"stroke: #383838; stroke-width: 1.0;\"/><polygon fill=\"#383838\" points=\"245.98,138,236.98,134,240.98,138,236.98,142,245.98,138\" style=\"stroke: #383838; stroke-width: 1.0;\"/><text fill=\"#000000\" font-family=\"sans-serif\" font-size=\"13\" lengthAdjust=\"spacingAndGlyphs\" textLength=\"7\" x=\"230.8095\" y=\"128.9969\">*</text></a><!--MD5=[583832df87f4419a098336a29a52fa00]\n",
       "link E7 to E2--><a href=\"psysml:c19c71e4-b628-4c9d-aa87-db03cc189a8f\" target=\"_top\" title=\"psysml:c19c71e4-b628-4c9d-aa87-db03cc189a8f\" xlink:actuate=\"onRequest\" xlink:href=\"psysml:c19c71e4-b628-4c9d-aa87-db03cc189a8f\" xlink:show=\"new\" xlink:title=\"psysml:c19c71e4-b628-4c9d-aa87-db03cc189a8f\" xlink:type=\"simple\"><path d=\"M245.73,141 C229.99,141 214,141 214,141 C214,141 214,92.54 214,92.54 \" fill=\"none\" id=\"E7-&gt;E2\" style=\"stroke: #383838; stroke-width: 1.0;\"/><polygon fill=\"#383838\" points=\"214,87.54,210,96.54,214,92.54,218,96.54,214,87.54\" style=\"stroke: #383838; stroke-width: 1.0;\"/><text fill=\"#000000\" font-family=\"sans-serif\" font-size=\"13\" lengthAdjust=\"spacingAndGlyphs\" textLength=\"44\" x=\"260\" y=\"122.0669\">[x &gt; 0]</text><text fill=\"#000000\" font-family=\"sans-serif\" font-size=\"13\" lengthAdjust=\"spacingAndGlyphs\" textLength=\"7\" x=\"207.3813\" y=\"111.5068\">*</text></a><!--MD5=[2720a5a1f2c3fca2055b230370638851]\n",
       "link E2 to E3--><a href=\"psysml:6d6473c9-743e-4105-a2af-98d6bd8c1632\" target=\"_top\" title=\"psysml:6d6473c9-743e-4105-a2af-98d6bd8c1632\" xlink:actuate=\"onRequest\" xlink:href=\"psysml:6d6473c9-743e-4105-a2af-98d6bd8c1632\" xlink:show=\"new\" xlink:title=\"psysml:6d6473c9-743e-4105-a2af-98d6bd8c1632\" xlink:type=\"simple\"><path d=\"M202,83.61 C202,99.5 202,156 202,156 C202,156 51.74,156 51.74,156 \" fill=\"none\" id=\"E2-&gt;E3\" style=\"stroke: #383838; stroke-width: 1.0;\"/><polygon fill=\"#383838\" points=\"46.74,156,55.74,160,51.74,156,55.74,152,46.74,156\" style=\"stroke: #383838; stroke-width: 1.0;\"/><text fill=\"#000000\" font-family=\"sans-serif\" font-size=\"13\" lengthAdjust=\"spacingAndGlyphs\" textLength=\"7\" x=\"54.9315\" y=\"149.3401\">*</text></a><!--MD5=[af87c684e3b0d8be13c1a698a818ef1e]\n",
       "link E3 to E4--><a href=\"psysml:4dd56774-018b-4c8a-8121-2b3d6a9c557c\" target=\"_top\" title=\"psysml:4dd56774-018b-4c8a-8121-2b3d6a9c557c\" xlink:actuate=\"onRequest\" xlink:href=\"psysml:4dd56774-018b-4c8a-8121-2b3d6a9c557c\" xlink:show=\"new\" xlink:title=\"psysml:4dd56774-018b-4c8a-8121-2b3d6a9c557c\" xlink:type=\"simple\"><path d=\"M39,163.69 C39,183.42 39,232 39,232 C39,232 129.82,232 129.82,232 \" fill=\"none\" id=\"E3-&gt;E4\" style=\"stroke: #383838; stroke-width: 1.0;\"/><polygon fill=\"#383838\" points=\"134.82,232,125.82,228,129.82,232,125.82,236,134.82,232\" style=\"stroke: #383838; stroke-width: 1.0;\"/><text fill=\"#000000\" font-family=\"sans-serif\" font-size=\"13\" lengthAdjust=\"spacingAndGlyphs\" textLength=\"36\" x=\"88\" y=\"198.0669\">[true]</text><text fill=\"#000000\" font-family=\"sans-serif\" font-size=\"13\" lengthAdjust=\"spacingAndGlyphs\" textLength=\"7\" x=\"120.0315\" y=\"227.4707\">*</text></a><!--MD5=[0188b64bb0ae78505a997a81836e11e9]\n",
       "link E3 to E5--><a href=\"psysml:2f25c912-d622-4deb-be6f-2375e7caca37\" target=\"_top\" title=\"psysml:2f25c912-d622-4deb-be6f-2375e7caca37\" xlink:actuate=\"onRequest\" xlink:href=\"psysml:2f25c912-d622-4deb-be6f-2375e7caca37\" xlink:show=\"new\" xlink:title=\"psysml:2f25c912-d622-4deb-be6f-2375e7caca37\" xlink:type=\"simple\"><path d=\"M31,163.7 C31,195.37 31,308 31,308 C31,308 129.93,308 129.93,308 \" fill=\"none\" id=\"E3-&gt;E5\" style=\"stroke: #383838; stroke-width: 1.0;\"/><polygon fill=\"#383838\" points=\"134.93,308,125.93,304,129.93,308,125.93,312,134.93,308\" style=\"stroke: #383838; stroke-width: 1.0;\"/><text fill=\"#000000\" font-family=\"sans-serif\" font-size=\"13\" lengthAdjust=\"spacingAndGlyphs\" textLength=\"40\" x=\"59\" y=\"236.0669\">[false]</text><text fill=\"#000000\" font-family=\"sans-serif\" font-size=\"13\" lengthAdjust=\"spacingAndGlyphs\" textLength=\"7\" x=\"120.1669\" y=\"303.4707\">*</text></a><!--MD5=[1b7591eae5389033d8d09a9d6721a717]\n",
       "link E4 to E5--><a href=\"psysml:19ac739f-970e-4750-a1cd-14a3501dcfff\" target=\"_top\" title=\"psysml:19ac739f-970e-4750-a1cd-14a3501dcfff\" xlink:actuate=\"onRequest\" xlink:href=\"psysml:19ac739f-970e-4750-a1cd-14a3501dcfff\" xlink:show=\"new\" xlink:title=\"psysml:19ac739f-970e-4750-a1cd-14a3501dcfff\" xlink:type=\"simple\"><path d=\"M165,253.08 C165,253.08 165,280.87 165,280.87 \" fill=\"none\" id=\"E4-&gt;E5\" style=\"stroke: #383838; stroke-width: 1.0;\"/><polygon fill=\"#383838\" points=\"165,285.87,169,276.87,165,280.87,161,276.87,165,285.87\" style=\"stroke: #383838; stroke-width: 1.0;\"/><text fill=\"#000000\" font-family=\"sans-serif\" font-size=\"13\" lengthAdjust=\"spacingAndGlyphs\" textLength=\"55\" x=\"166\" y=\"274.0669\">[x == 0]</text><text fill=\"#000000\" font-family=\"sans-serif\" font-size=\"13\" lengthAdjust=\"spacingAndGlyphs\" textLength=\"7\" x=\"157.0156\" y=\"274.7715\">*</text></a><!--MD5=[d48a1ec4944d72910574931cfebc2760]\n",
       "@startuml\r\n",
       "skinparam ranksep 10\r\n",
       "skinparam rectangle {\r\n",
       " backgroundColor<<block>> LightGreen\r\n",
       "}\r\n",
       "skinparam linetype ortho\r\n",
       "skinparam monochrome true\r\n",
       "skinparam classbackgroundcolor white\r\n",
       "skinparam shadowing false\r\n",
       "skinparam wrapWidth 300\r\n",
       "hide circle\r\n",
       "\r\n",
       "rec def \"DecisionTest\" as E1  <<(T,blue) action def>> [[psysml:ec9d2101-14b6-425a-8b3b-258973824e57 ]] {\r\n",
       "choice \"test x\" as E2  [[psysml:7b5c557c-0eca-43da-893a-884adf177ee9 ]] \r\n",
       "choice \"<s>noname</s>\" as E3  [[psysml:c8637911-bdae-488c-9ae7-71f0e05f074a ]] \r\n",
       "rec usage \"A1\" as E4  <<(T,blue) action>> [[psysml:2b21def1-54fd-4014-8db4-beef5c1da0f0 ]] {\r\n",
       "}\r\n",
       "\r\n",
       "rec usage \"A2\" as E5  <<(T,blue) action>> [[psysml:a7c18d95-cb4e-4d18-b7c9-a948ce4b9e35 ]] {\r\n",
       "}\r\n",
       "\r\n",
       "rec usage \"A3\" as E6  <<(T,blue) action>> [[psysml:6ad7aed3-e22d-47c2-b6cf-45fd0f629de6 ]] {\r\n",
       "}\r\n",
       "\r\n",
       "rec usage \"A3\" as E7  <<(T,blue) action>> [[psysml:6ad7aed3-e22d-47c2-b6cf-45fd0f629de6 ]] {\r\n",
       "}\r\n",
       "\r\n",
       "}\r\n",
       "\r\n",
       "E2  - -> \"*\"E4 [[psysml:07a447fb-7978-4e35-9306-ac5ec116db5d ]] : [x == 1]\r\n",
       "E2  - -> \"*\"E5 [[psysml:f195b54a-5fed-403e-bb02-20f21e154f17 ]] : [x > 1]\r\n",
       "E2  - -> \"*\"E7 [[psysml:15c91a99-d9b4-4320-8388-ef3655122685 ]] \r\n",
       "E2 - -> \"*\"E3 [[psysml:6d6473c9-743e-4105-a2af-98d6bd8c1632 ]] \r\n",
       "E3  - -> \"*\"E4 [[psysml:4dd56774-018b-4c8a-8121-2b3d6a9c557c ]] : [true]\r\n",
       "E3  - -> \"*\"E5 [[psysml:2f25c912-d622-4deb-be6f-2375e7caca37 ]] : [false]\r\n",
       "E4  - -> \"*\"E5 [[psysml:19ac739f-970e-4750-a1cd-14a3501dcfff ]] : [x == 0]\r\n",
       "E7  - -> \"*\"E2 [[psysml:c19c71e4-b628-4c9d-aa87-db03cc189a8f ]] : [x > 0]\r\n",
       "@enduml\r\n",
       "\n",
       "PlantUML version 1.2020.13(Sat Jun 13 12:26:38 UTC 2020)\n",
       "(EPL source distribution)\n",
       "Java Runtime: OpenJDK Runtime Environment\n",
       "JVM: OpenJDK 64-Bit Server VM\n",
       "Default Encoding: UTF-8\n",
       "Language: en\n",
       "Country: null\n",
       "--></g></svg>"
      ]
     },
     "execution_count": 54,
     "metadata": {},
     "output_type": "execute_result"
    }
   ],
   "source": [
    "%viz --style=\"ORTHOLINE\" --view=\"Interconnection\" \"DecisionTest\""
   ]
  },
  {
   "cell_type": "code",
   "execution_count": 55,
   "id": "f2333ce4",
   "metadata": {
    "execution": {
     "iopub.execute_input": "2021-10-03T08:29:04.287729Z",
     "iopub.status.busy": "2021-10-03T08:29:04.287327Z",
     "iopub.status.idle": "2021-10-03T08:29:04.322439Z",
     "shell.execute_reply": "2021-10-03T08:29:04.322075Z"
    }
   },
   "outputs": [
    {
     "data": {
      "image/svg+xml": [
       "<?xml version=\"1.0\" encoding=\"UTF-8\" standalone=\"no\"?><svg xmlns=\"http://www.w3.org/2000/svg\" xmlns:xlink=\"http://www.w3.org/1999/xlink\" contentScriptType=\"application/ecmascript\" contentStyleType=\"text/css\" height=\"356px\" preserveAspectRatio=\"none\" style=\"width:333px;height:356px;\" version=\"1.1\" viewBox=\"0 0 333 356\" width=\"333px\" zoomAndPan=\"magnify\"><defs/><g><!--MD5=[fbc87193dbaf4d95561dea2c320d4a47]\n",
       "cluster E1--><a href=\"psysml:ec9d2101-14b6-425a-8b3b-258973824e57\" target=\"_top\" title=\"psysml:ec9d2101-14b6-425a-8b3b-258973824e57\" xlink:actuate=\"onRequest\" xlink:href=\"psysml:ec9d2101-14b6-425a-8b3b-258973824e57\" xlink:show=\"new\" xlink:title=\"psysml:ec9d2101-14b6-425a-8b3b-258973824e57\" xlink:type=\"simple\"><rect fill=\"#FFFFFF\" height=\"338\" id=\"E1\" style=\"stroke: #383838; stroke-width: 1.5;\" width=\"315\" x=\"7\" y=\"7\"/><rect fill=\"#F8F8F8\" height=\"37.9375\" style=\"stroke: #383838; stroke-width: 1.5;\" width=\"315\" x=\"7\" y=\"7\"/><text fill=\"#000000\" font-family=\"sans-serif\" font-size=\"12\" font-style=\"italic\" lengthAdjust=\"spacingAndGlyphs\" textLength=\"77\" x=\"126\" y=\"23.1387\">«action def»</text><text fill=\"#000000\" font-family=\"sans-serif\" font-size=\"12\" lengthAdjust=\"spacingAndGlyphs\" textLength=\"80\" x=\"124.5\" y=\"37.1074\">DecisionTest</text></a><polygon fill=\"#F8F8F8\" points=\"210,67.5,222,79.5,210,91.5,198,79.5,210,67.5\" style=\"stroke: #383838; stroke-width: 1.5;\"/><polygon fill=\"#F8F8F8\" points=\"35,143.5,47,155.5,35,167.5,23,155.5,35,143.5\" style=\"stroke: #383838; stroke-width: 1.5;\"/><g id=\"E1.E4\"><a href=\"psysml:2b21def1-54fd-4014-8db4-beef5c1da0f0\" target=\"_top\" title=\"psysml:2b21def1-54fd-4014-8db4-beef5c1da0f0\" xlink:actuate=\"onRequest\" xlink:href=\"psysml:2b21def1-54fd-4014-8db4-beef5c1da0f0\" xlink:show=\"new\" xlink:title=\"psysml:2b21def1-54fd-4014-8db4-beef5c1da0f0\" xlink:type=\"simple\"><rect fill=\"#FFFFFF\" height=\"42.9375\" id=\"E4\" rx=\"10\" ry=\"10\" style=\"stroke: #383838; stroke-width: 1.5;\" width=\"60\" x=\"135\" y=\"210\"/><rect fill=\"#F8F8F8\" height=\"37.9375\" rx=\"10\" ry=\"10\" style=\"stroke: #F8F8F8; stroke-width: 1.5;\" width=\"60\" x=\"135\" y=\"210\"/><rect fill=\"#F8F8F8\" height=\"10\" style=\"stroke: #F8F8F8; stroke-width: 1.5;\" width=\"60\" x=\"135\" y=\"237.9375\"/><rect fill=\"none\" height=\"42.9375\" id=\"E4\" rx=\"10\" ry=\"10\" style=\"stroke: #383838; stroke-width: 1.5;\" width=\"60\" x=\"135\" y=\"210\"/><text fill=\"#000000\" font-family=\"sans-serif\" font-size=\"12\" font-style=\"italic\" lengthAdjust=\"spacingAndGlyphs\" textLength=\"53\" x=\"138.5\" y=\"226.1387\">«action»</text><text fill=\"#000000\" font-family=\"sans-serif\" font-size=\"12\" lengthAdjust=\"spacingAndGlyphs\" textLength=\"16\" x=\"157\" y=\"240.1074\">A1</text></a></g><g id=\"E1.E5\"><a href=\"psysml:a7c18d95-cb4e-4d18-b7c9-a948ce4b9e35\" target=\"_top\" title=\"psysml:a7c18d95-cb4e-4d18-b7c9-a948ce4b9e35\" xlink:actuate=\"onRequest\" xlink:href=\"psysml:a7c18d95-cb4e-4d18-b7c9-a948ce4b9e35\" xlink:show=\"new\" xlink:title=\"psysml:a7c18d95-cb4e-4d18-b7c9-a948ce4b9e35\" xlink:type=\"simple\"><rect fill=\"#FFFFFF\" height=\"42.9375\" id=\"E5\" rx=\"10\" ry=\"10\" style=\"stroke: #383838; stroke-width: 1.5;\" width=\"60\" x=\"135\" y=\"286\"/><rect fill=\"#F8F8F8\" height=\"37.9375\" rx=\"10\" ry=\"10\" style=\"stroke: #F8F8F8; stroke-width: 1.5;\" width=\"60\" x=\"135\" y=\"286\"/><rect fill=\"#F8F8F8\" height=\"10\" style=\"stroke: #F8F8F8; stroke-width: 1.5;\" width=\"60\" x=\"135\" y=\"313.9375\"/><rect fill=\"none\" height=\"42.9375\" id=\"E5\" rx=\"10\" ry=\"10\" style=\"stroke: #383838; stroke-width: 1.5;\" width=\"60\" x=\"135\" y=\"286\"/><text fill=\"#000000\" font-family=\"sans-serif\" font-size=\"12\" font-style=\"italic\" lengthAdjust=\"spacingAndGlyphs\" textLength=\"53\" x=\"138.5\" y=\"302.1387\">«action»</text><text fill=\"#000000\" font-family=\"sans-serif\" font-size=\"12\" lengthAdjust=\"spacingAndGlyphs\" textLength=\"16\" x=\"157\" y=\"316.1074\">A2</text></a></g><g id=\"E1.E6\"><a href=\"psysml:6ad7aed3-e22d-47c2-b6cf-45fd0f629de6\" target=\"_top\" title=\"psysml:6ad7aed3-e22d-47c2-b6cf-45fd0f629de6\" xlink:actuate=\"onRequest\" xlink:href=\"psysml:6ad7aed3-e22d-47c2-b6cf-45fd0f629de6\" xlink:show=\"new\" xlink:title=\"psysml:6ad7aed3-e22d-47c2-b6cf-45fd0f629de6\" xlink:type=\"simple\"><rect fill=\"#FFFFFF\" height=\"42.9375\" id=\"E6\" rx=\"10\" ry=\"10\" style=\"stroke: #383838; stroke-width: 1.5;\" width=\"60\" x=\"63\" y=\"58\"/><rect fill=\"#F8F8F8\" height=\"37.9375\" rx=\"10\" ry=\"10\" style=\"stroke: #F8F8F8; stroke-width: 1.5;\" width=\"60\" x=\"63\" y=\"58\"/><rect fill=\"#F8F8F8\" height=\"10\" style=\"stroke: #F8F8F8; stroke-width: 1.5;\" width=\"60\" x=\"63\" y=\"85.9375\"/><rect fill=\"none\" height=\"42.9375\" id=\"E6\" rx=\"10\" ry=\"10\" style=\"stroke: #383838; stroke-width: 1.5;\" width=\"60\" x=\"63\" y=\"58\"/><text fill=\"#000000\" font-family=\"sans-serif\" font-size=\"12\" font-style=\"italic\" lengthAdjust=\"spacingAndGlyphs\" textLength=\"53\" x=\"66.5\" y=\"74.1387\">«action»</text><text fill=\"#000000\" font-family=\"sans-serif\" font-size=\"12\" lengthAdjust=\"spacingAndGlyphs\" textLength=\"16\" x=\"85\" y=\"88.1074\">A3</text></a></g><g id=\"E1.E7\"><a href=\"psysml:6ad7aed3-e22d-47c2-b6cf-45fd0f629de6\" target=\"_top\" title=\"psysml:6ad7aed3-e22d-47c2-b6cf-45fd0f629de6\" xlink:actuate=\"onRequest\" xlink:href=\"psysml:6ad7aed3-e22d-47c2-b6cf-45fd0f629de6\" xlink:show=\"new\" xlink:title=\"psysml:6ad7aed3-e22d-47c2-b6cf-45fd0f629de6\" xlink:type=\"simple\"><rect fill=\"#FFFFFF\" height=\"42.9375\" id=\"E7\" rx=\"10\" ry=\"10\" style=\"stroke: #383838; stroke-width: 1.5;\" width=\"60\" x=\"246\" y=\"134\"/><rect fill=\"#F8F8F8\" height=\"37.9375\" rx=\"10\" ry=\"10\" style=\"stroke: #F8F8F8; stroke-width: 1.5;\" width=\"60\" x=\"246\" y=\"134\"/><rect fill=\"#F8F8F8\" height=\"10\" style=\"stroke: #F8F8F8; stroke-width: 1.5;\" width=\"60\" x=\"246\" y=\"161.9375\"/><rect fill=\"none\" height=\"42.9375\" id=\"E7\" rx=\"10\" ry=\"10\" style=\"stroke: #383838; stroke-width: 1.5;\" width=\"60\" x=\"246\" y=\"134\"/><text fill=\"#000000\" font-family=\"sans-serif\" font-size=\"12\" font-style=\"italic\" lengthAdjust=\"spacingAndGlyphs\" textLength=\"53\" x=\"249.5\" y=\"150.1387\">«action»</text><text fill=\"#000000\" font-family=\"sans-serif\" font-size=\"12\" lengthAdjust=\"spacingAndGlyphs\" textLength=\"16\" x=\"268\" y=\"164.1074\">A3</text></a></g><!--MD5=[4d03bb2d0377dc85ccfab60ff574652b]\n",
       "link E2 to E4--><a href=\"psysml:07a447fb-7978-4e35-9306-ac5ec116db5d\" target=\"_top\" title=\"psysml:07a447fb-7978-4e35-9306-ac5ec116db5d\" xlink:actuate=\"onRequest\" xlink:href=\"psysml:07a447fb-7978-4e35-9306-ac5ec116db5d\" xlink:show=\"new\" xlink:title=\"psysml:07a447fb-7978-4e35-9306-ac5ec116db5d\" xlink:type=\"simple\"><path d=\"M206,87.7 C206,119.37 206,232 206,232 C206,232 200.23,232 200.23,232 \" fill=\"none\" id=\"E2-&gt;E4\" style=\"stroke: #383838; stroke-width: 1.0; stroke-dasharray: 7.0,7.0;\"/><polygon fill=\"#383838\" points=\"195.23,232,204.23,236,200.23,232,204.23,228,195.23,232\" style=\"stroke: #383838; stroke-width: 1.0;\"/><text fill=\"#000000\" font-family=\"sans-serif\" font-size=\"13\" lengthAdjust=\"spacingAndGlyphs\" textLength=\"55\" x=\"118\" y=\"160.0669\">[x == 1]</text></a><!--MD5=[dcad52bbbca2fe8adc741ce38b45dc12]\n",
       "link E2 to E5--><a href=\"psysml:f195b54a-5fed-403e-bb02-20f21e154f17\" target=\"_top\" title=\"psysml:f195b54a-5fed-403e-bb02-20f21e154f17\" xlink:actuate=\"onRequest\" xlink:href=\"psysml:f195b54a-5fed-403e-bb02-20f21e154f17\" xlink:show=\"new\" xlink:title=\"psysml:f195b54a-5fed-403e-bb02-20f21e154f17\" xlink:type=\"simple\"><path d=\"M210,91.79 C210,139.25 210,308 210,308 C210,308 200.02,308 200.02,308 \" fill=\"none\" id=\"E2-&gt;E5\" style=\"stroke: #383838; stroke-width: 1.0; stroke-dasharray: 7.0,7.0;\"/><polygon fill=\"#383838\" points=\"195.02,308,204.02,312,200.02,308,204.02,304,195.02,308\" style=\"stroke: #383838; stroke-width: 1.0;\"/><text fill=\"#000000\" font-family=\"sans-serif\" font-size=\"13\" lengthAdjust=\"spacingAndGlyphs\" textLength=\"44\" x=\"221\" y=\"198.0669\">[x &gt; 1]</text></a><!--MD5=[e3d2a08a9c9236652057e8ed0cbc9b62]\n",
       "link E2 to E7--><a href=\"psysml:15c91a99-d9b4-4320-8388-ef3655122685\" target=\"_top\" title=\"psysml:15c91a99-d9b4-4320-8388-ef3655122685\" xlink:actuate=\"onRequest\" xlink:href=\"psysml:15c91a99-d9b4-4320-8388-ef3655122685\" xlink:show=\"new\" xlink:title=\"psysml:15c91a99-d9b4-4320-8388-ef3655122685\" xlink:type=\"simple\"><path d=\"M218,83.71 C218,97.12 218,138 218,138 C218,138 240.98,138 240.98,138 \" fill=\"none\" id=\"E2-&gt;E7\" style=\"stroke: #383838; stroke-width: 1.0; stroke-dasharray: 7.0,7.0;\"/><polygon fill=\"#383838\" points=\"245.98,138,236.98,134,240.98,138,236.98,142,245.98,138\" style=\"stroke: #383838; stroke-width: 1.0;\"/></a><!--MD5=[583832df87f4419a098336a29a52fa00]\n",
       "link E7 to E2--><a href=\"psysml:c19c71e4-b628-4c9d-aa87-db03cc189a8f\" target=\"_top\" title=\"psysml:c19c71e4-b628-4c9d-aa87-db03cc189a8f\" xlink:actuate=\"onRequest\" xlink:href=\"psysml:c19c71e4-b628-4c9d-aa87-db03cc189a8f\" xlink:show=\"new\" xlink:title=\"psysml:c19c71e4-b628-4c9d-aa87-db03cc189a8f\" xlink:type=\"simple\"><path d=\"M245.73,141 C229.99,141 214,141 214,141 C214,141 214,92.54 214,92.54 \" fill=\"none\" id=\"E7-&gt;E2\" style=\"stroke: #383838; stroke-width: 1.0; stroke-dasharray: 7.0,7.0;\"/><polygon fill=\"#383838\" points=\"214,87.54,210,96.54,214,92.54,218,96.54,214,87.54\" style=\"stroke: #383838; stroke-width: 1.0;\"/><text fill=\"#000000\" font-family=\"sans-serif\" font-size=\"13\" lengthAdjust=\"spacingAndGlyphs\" textLength=\"44\" x=\"260\" y=\"122.0669\">[x &gt; 0]</text></a><!--MD5=[2720a5a1f2c3fca2055b230370638851]\n",
       "link E2 to E3--><a href=\"psysml:6d6473c9-743e-4105-a2af-98d6bd8c1632\" target=\"_top\" title=\"psysml:6d6473c9-743e-4105-a2af-98d6bd8c1632\" xlink:actuate=\"onRequest\" xlink:href=\"psysml:6d6473c9-743e-4105-a2af-98d6bd8c1632\" xlink:show=\"new\" xlink:title=\"psysml:6d6473c9-743e-4105-a2af-98d6bd8c1632\" xlink:type=\"simple\"><path d=\"M202,83.61 C202,99.5 202,156 202,156 C202,156 51.74,156 51.74,156 \" fill=\"none\" id=\"E2-&gt;E3\" style=\"stroke: #383838; stroke-width: 1.0; stroke-dasharray: 7.0,7.0;\"/><polygon fill=\"#383838\" points=\"46.74,156,55.74,160,51.74,156,55.74,152,46.74,156\" style=\"stroke: #383838; stroke-width: 1.0;\"/></a><!--MD5=[af87c684e3b0d8be13c1a698a818ef1e]\n",
       "link E3 to E4--><a href=\"psysml:4dd56774-018b-4c8a-8121-2b3d6a9c557c\" target=\"_top\" title=\"psysml:4dd56774-018b-4c8a-8121-2b3d6a9c557c\" xlink:actuate=\"onRequest\" xlink:href=\"psysml:4dd56774-018b-4c8a-8121-2b3d6a9c557c\" xlink:show=\"new\" xlink:title=\"psysml:4dd56774-018b-4c8a-8121-2b3d6a9c557c\" xlink:type=\"simple\"><path d=\"M39,163.69 C39,183.42 39,232 39,232 C39,232 129.82,232 129.82,232 \" fill=\"none\" id=\"E3-&gt;E4\" style=\"stroke: #383838; stroke-width: 1.0; stroke-dasharray: 7.0,7.0;\"/><polygon fill=\"#383838\" points=\"134.82,232,125.82,228,129.82,232,125.82,236,134.82,232\" style=\"stroke: #383838; stroke-width: 1.0;\"/><text fill=\"#000000\" font-family=\"sans-serif\" font-size=\"13\" lengthAdjust=\"spacingAndGlyphs\" textLength=\"36\" x=\"88\" y=\"198.0669\">[true]</text></a><!--MD5=[0188b64bb0ae78505a997a81836e11e9]\n",
       "link E3 to E5--><a href=\"psysml:2f25c912-d622-4deb-be6f-2375e7caca37\" target=\"_top\" title=\"psysml:2f25c912-d622-4deb-be6f-2375e7caca37\" xlink:actuate=\"onRequest\" xlink:href=\"psysml:2f25c912-d622-4deb-be6f-2375e7caca37\" xlink:show=\"new\" xlink:title=\"psysml:2f25c912-d622-4deb-be6f-2375e7caca37\" xlink:type=\"simple\"><path d=\"M31,163.7 C31,195.37 31,308 31,308 C31,308 129.93,308 129.93,308 \" fill=\"none\" id=\"E3-&gt;E5\" style=\"stroke: #383838; stroke-width: 1.0; stroke-dasharray: 7.0,7.0;\"/><polygon fill=\"#383838\" points=\"134.93,308,125.93,304,129.93,308,125.93,312,134.93,308\" style=\"stroke: #383838; stroke-width: 1.0;\"/><text fill=\"#000000\" font-family=\"sans-serif\" font-size=\"13\" lengthAdjust=\"spacingAndGlyphs\" textLength=\"40\" x=\"59\" y=\"236.0669\">[false]</text></a><!--MD5=[1b7591eae5389033d8d09a9d6721a717]\n",
       "link E4 to E5--><a href=\"psysml:19ac739f-970e-4750-a1cd-14a3501dcfff\" target=\"_top\" title=\"psysml:19ac739f-970e-4750-a1cd-14a3501dcfff\" xlink:actuate=\"onRequest\" xlink:href=\"psysml:19ac739f-970e-4750-a1cd-14a3501dcfff\" xlink:show=\"new\" xlink:title=\"psysml:19ac739f-970e-4750-a1cd-14a3501dcfff\" xlink:type=\"simple\"><path d=\"M165,253.08 C165,253.08 165,280.87 165,280.87 \" fill=\"none\" id=\"E4-&gt;E5\" style=\"stroke: #383838; stroke-width: 1.0; stroke-dasharray: 7.0,7.0;\"/><polygon fill=\"#383838\" points=\"165,285.87,169,276.87,165,280.87,161,276.87,165,285.87\" style=\"stroke: #383838; stroke-width: 1.0;\"/><text fill=\"#000000\" font-family=\"sans-serif\" font-size=\"13\" lengthAdjust=\"spacingAndGlyphs\" textLength=\"55\" x=\"166\" y=\"274.0669\">[x == 0]</text></a><!--MD5=[ae344ea2b748097ec9718d21b672e3d3]\n",
       "@startuml\r\n",
       "skinparam ranksep 8\r\n",
       "skinparam linetype ortho\r\n",
       "skinparam monochrome true\r\n",
       "skinparam classbackgroundcolor white\r\n",
       "skinparam shadowing false\r\n",
       "skinparam wrapWidth 300\r\n",
       "hide circle\r\n",
       "\r\n",
       "rec def \"DecisionTest\" as E1  <<(T,blue) action def>> [[psysml:ec9d2101-14b6-425a-8b3b-258973824e57 ]] {\r\n",
       "choice \"test x\" as E2  [[psysml:7b5c557c-0eca-43da-893a-884adf177ee9 ]] \r\n",
       "choice \"<s>noname</s>\" as E3  [[psysml:c8637911-bdae-488c-9ae7-71f0e05f074a ]] \r\n",
       "rec usage \"A1\" as E4  <<(T,blue) action>> [[psysml:2b21def1-54fd-4014-8db4-beef5c1da0f0 ]] {\r\n",
       "}\r\n",
       "\r\n",
       "rec usage \"A2\" as E5  <<(T,blue) action>> [[psysml:a7c18d95-cb4e-4d18-b7c9-a948ce4b9e35 ]] {\r\n",
       "}\r\n",
       "\r\n",
       "rec usage \"A3\" as E6  <<(T,blue) action>> [[psysml:6ad7aed3-e22d-47c2-b6cf-45fd0f629de6 ]] {\r\n",
       "}\r\n",
       "\r\n",
       "rec usage \"A3\" as E7  <<(T,blue) action>> [[psysml:6ad7aed3-e22d-47c2-b6cf-45fd0f629de6 ]] {\r\n",
       "}\r\n",
       "\r\n",
       "}\r\n",
       "\r\n",
       "E2 ..> E4 [[psysml:07a447fb-7978-4e35-9306-ac5ec116db5d ]] : [x == 1]\r\n",
       "E2 ..> E5 [[psysml:f195b54a-5fed-403e-bb02-20f21e154f17 ]] : [x > 1]\r\n",
       "E2 ..> E7 [[psysml:15c91a99-d9b4-4320-8388-ef3655122685 ]] \r\n",
       "E2 ..> E3 [[psysml:6d6473c9-743e-4105-a2af-98d6bd8c1632 ]] \r\n",
       "E3 ..> E4 [[psysml:4dd56774-018b-4c8a-8121-2b3d6a9c557c ]] : [true]\r\n",
       "E3 ..> E5 [[psysml:2f25c912-d622-4deb-be6f-2375e7caca37 ]] : [false]\r\n",
       "E4 ..> E5 [[psysml:19ac739f-970e-4750-a1cd-14a3501dcfff ]] : [x == 0]\r\n",
       "E7 ..> E2 [[psysml:c19c71e4-b628-4c9d-aa87-db03cc189a8f ]] : [x > 0]\r\n",
       "@enduml\r\n",
       "\n",
       "PlantUML version 1.2020.13(Sat Jun 13 12:26:38 UTC 2020)\n",
       "(EPL source distribution)\n",
       "Java Runtime: OpenJDK Runtime Environment\n",
       "JVM: OpenJDK 64-Bit Server VM\n",
       "Default Encoding: UTF-8\n",
       "Language: en\n",
       "Country: null\n",
       "--></g></svg>"
      ]
     },
     "execution_count": 55,
     "metadata": {},
     "output_type": "execute_result"
    }
   ],
   "source": [
    "%viz --style=\"ORTHOLINE\" --view=\"Action\" \"DecisionTest\""
   ]
  },
  {
   "cell_type": "code",
   "execution_count": 56,
   "id": "cb536968",
   "metadata": {
    "execution": {
     "iopub.execute_input": "2021-10-03T08:29:04.371266Z",
     "iopub.status.busy": "2021-10-03T08:29:04.370862Z",
     "iopub.status.idle": "2021-10-03T08:29:04.377633Z",
     "shell.execute_reply": "2021-10-03T08:29:04.377276Z"
    }
   },
   "outputs": [
    {
     "data": {
      "image/svg+xml": [
       "<?xml version=\"1.0\" encoding=\"UTF-8\" standalone=\"no\"?><svg xmlns=\"http://www.w3.org/2000/svg\" xmlns:xlink=\"http://www.w3.org/1999/xlink\" contentScriptType=\"application/ecmascript\" contentStyleType=\"text/css\" height=\"12px\" preserveAspectRatio=\"none\" style=\"width:12px;height:12px;\" version=\"1.1\" viewBox=\"0 0 12 12\" width=\"12px\" zoomAndPan=\"magnify\"><defs/><g><!--MD5=[30fc1de5121c5abddedd55b44417fde8]\n",
       "@startuml\r\n",
       "skinparam roundcorner 20\r\n",
       "skinparam BoxPadding 20\r\n",
       "skinparam SequenceBoxBackgroundColor #white\r\n",
       "skinparam style strictuml\r\n",
       "skinparam maxMessageSize 100\r\n",
       "skinparam linetype ortho\r\n",
       "skinparam monochrome true\r\n",
       "skinparam classbackgroundcolor white\r\n",
       "skinparam shadowing false\r\n",
       "skinparam wrapWidth 300\r\n",
       "hide circle\r\n",
       "\r\n",
       "@enduml\r\n",
       "\n",
       "PlantUML version 1.2020.13(Sat Jun 13 12:26:38 UTC 2020)\n",
       "(EPL source distribution)\n",
       "Java Runtime: OpenJDK Runtime Environment\n",
       "JVM: OpenJDK 64-Bit Server VM\n",
       "Default Encoding: UTF-8\n",
       "Language: en\n",
       "Country: null\n",
       "--></g></svg>"
      ]
     },
     "execution_count": 56,
     "metadata": {},
     "output_type": "execute_result"
    }
   ],
   "source": [
    "%viz --style=\"ORTHOLINE\" --view=\"Sequence\" \"DecisionTest\""
   ]
  },
  {
   "cell_type": "code",
   "execution_count": 57,
   "id": "b4d5f6bc",
   "metadata": {
    "execution": {
     "iopub.execute_input": "2021-10-03T08:29:04.426929Z",
     "iopub.status.busy": "2021-10-03T08:29:04.426522Z",
     "iopub.status.idle": "2021-10-03T08:29:04.464514Z",
     "shell.execute_reply": "2021-10-03T08:29:04.462655Z"
    }
   },
   "outputs": [
    {
     "data": {
      "image/svg+xml": [
       "<?xml version=\"1.0\" encoding=\"UTF-8\" standalone=\"no\"?><svg xmlns=\"http://www.w3.org/2000/svg\" xmlns:xlink=\"http://www.w3.org/1999/xlink\" contentScriptType=\"application/ecmascript\" contentStyleType=\"text/css\" height=\"488px\" preserveAspectRatio=\"none\" style=\"width:333px;height:488px;\" version=\"1.1\" viewBox=\"0 0 333 488\" width=\"333px\" zoomAndPan=\"magnify\"><defs/><g><!--MD5=[fbc87193dbaf4d95561dea2c320d4a47]\n",
       "cluster E1--><a href=\"psysml:ec9d2101-14b6-425a-8b3b-258973824e57\" target=\"_top\" title=\"psysml:ec9d2101-14b6-425a-8b3b-258973824e57\" xlink:actuate=\"onRequest\" xlink:href=\"psysml:ec9d2101-14b6-425a-8b3b-258973824e57\" xlink:show=\"new\" xlink:title=\"psysml:ec9d2101-14b6-425a-8b3b-258973824e57\" xlink:type=\"simple\"><rect fill=\"#FFFFFF\" height=\"470\" id=\"E1\" style=\"stroke: #383838; stroke-width: 1.5;\" width=\"315\" x=\"7\" y=\"7\"/><rect fill=\"#F8F8F8\" height=\"37.9375\" style=\"stroke: #383838; stroke-width: 1.5;\" width=\"315\" x=\"7\" y=\"7\"/><text fill=\"#000000\" font-family=\"sans-serif\" font-size=\"12\" font-style=\"italic\" lengthAdjust=\"spacingAndGlyphs\" textLength=\"77\" x=\"126\" y=\"23.1387\">«action def»</text><text fill=\"#000000\" font-family=\"sans-serif\" font-size=\"12\" lengthAdjust=\"spacingAndGlyphs\" textLength=\"80\" x=\"124.5\" y=\"37.1074\">DecisionTest</text></a><polygon fill=\"#F8F8F8\" points=\"210,67.5,222,79.5,210,91.5,198,79.5,210,67.5\" style=\"stroke: #383838; stroke-width: 1.5;\"/><polygon fill=\"#F8F8F8\" points=\"35,187.5,47,199.5,35,211.5,23,199.5,35,187.5\" style=\"stroke: #383838; stroke-width: 1.5;\"/><g id=\"E1.E4\"><a href=\"psysml:2b21def1-54fd-4014-8db4-beef5c1da0f0\" target=\"_top\" title=\"psysml:2b21def1-54fd-4014-8db4-beef5c1da0f0\" xlink:actuate=\"onRequest\" xlink:href=\"psysml:2b21def1-54fd-4014-8db4-beef5c1da0f0\" xlink:show=\"new\" xlink:title=\"psysml:2b21def1-54fd-4014-8db4-beef5c1da0f0\" xlink:type=\"simple\"><rect fill=\"#FFFFFF\" height=\"42.9375\" id=\"E4\" rx=\"10\" ry=\"10\" style=\"stroke: #383838; stroke-width: 1.5;\" width=\"60\" x=\"135\" y=\"298\"/><rect fill=\"#F8F8F8\" height=\"37.9375\" rx=\"10\" ry=\"10\" style=\"stroke: #F8F8F8; stroke-width: 1.5;\" width=\"60\" x=\"135\" y=\"298\"/><rect fill=\"#F8F8F8\" height=\"10\" style=\"stroke: #F8F8F8; stroke-width: 1.5;\" width=\"60\" x=\"135\" y=\"325.9375\"/><rect fill=\"none\" height=\"42.9375\" id=\"E4\" rx=\"10\" ry=\"10\" style=\"stroke: #383838; stroke-width: 1.5;\" width=\"60\" x=\"135\" y=\"298\"/><text fill=\"#000000\" font-family=\"sans-serif\" font-size=\"12\" font-style=\"italic\" lengthAdjust=\"spacingAndGlyphs\" textLength=\"53\" x=\"138.5\" y=\"314.1387\">«action»</text><text fill=\"#000000\" font-family=\"sans-serif\" font-size=\"12\" lengthAdjust=\"spacingAndGlyphs\" textLength=\"16\" x=\"157\" y=\"328.1074\">A1</text></a></g><g id=\"E1.E5\"><a href=\"psysml:a7c18d95-cb4e-4d18-b7c9-a948ce4b9e35\" target=\"_top\" title=\"psysml:a7c18d95-cb4e-4d18-b7c9-a948ce4b9e35\" xlink:actuate=\"onRequest\" xlink:href=\"psysml:a7c18d95-cb4e-4d18-b7c9-a948ce4b9e35\" xlink:show=\"new\" xlink:title=\"psysml:a7c18d95-cb4e-4d18-b7c9-a948ce4b9e35\" xlink:type=\"simple\"><rect fill=\"#FFFFFF\" height=\"42.9375\" id=\"E5\" rx=\"10\" ry=\"10\" style=\"stroke: #383838; stroke-width: 1.5;\" width=\"60\" x=\"135\" y=\"418\"/><rect fill=\"#F8F8F8\" height=\"37.9375\" rx=\"10\" ry=\"10\" style=\"stroke: #F8F8F8; stroke-width: 1.5;\" width=\"60\" x=\"135\" y=\"418\"/><rect fill=\"#F8F8F8\" height=\"10\" style=\"stroke: #F8F8F8; stroke-width: 1.5;\" width=\"60\" x=\"135\" y=\"445.9375\"/><rect fill=\"none\" height=\"42.9375\" id=\"E5\" rx=\"10\" ry=\"10\" style=\"stroke: #383838; stroke-width: 1.5;\" width=\"60\" x=\"135\" y=\"418\"/><text fill=\"#000000\" font-family=\"sans-serif\" font-size=\"12\" font-style=\"italic\" lengthAdjust=\"spacingAndGlyphs\" textLength=\"53\" x=\"138.5\" y=\"434.1387\">«action»</text><text fill=\"#000000\" font-family=\"sans-serif\" font-size=\"12\" lengthAdjust=\"spacingAndGlyphs\" textLength=\"16\" x=\"157\" y=\"448.1074\">A2</text></a></g><g id=\"E1.E6\"><a href=\"psysml:6ad7aed3-e22d-47c2-b6cf-45fd0f629de6\" target=\"_top\" title=\"psysml:6ad7aed3-e22d-47c2-b6cf-45fd0f629de6\" xlink:actuate=\"onRequest\" xlink:href=\"psysml:6ad7aed3-e22d-47c2-b6cf-45fd0f629de6\" xlink:show=\"new\" xlink:title=\"psysml:6ad7aed3-e22d-47c2-b6cf-45fd0f629de6\" xlink:type=\"simple\"><rect fill=\"#FFFFFF\" height=\"42.9375\" id=\"E6\" rx=\"10\" ry=\"10\" style=\"stroke: #383838; stroke-width: 1.5;\" width=\"60\" x=\"63\" y=\"58\"/><rect fill=\"#F8F8F8\" height=\"37.9375\" rx=\"10\" ry=\"10\" style=\"stroke: #F8F8F8; stroke-width: 1.5;\" width=\"60\" x=\"63\" y=\"58\"/><rect fill=\"#F8F8F8\" height=\"10\" style=\"stroke: #F8F8F8; stroke-width: 1.5;\" width=\"60\" x=\"63\" y=\"85.9375\"/><rect fill=\"none\" height=\"42.9375\" id=\"E6\" rx=\"10\" ry=\"10\" style=\"stroke: #383838; stroke-width: 1.5;\" width=\"60\" x=\"63\" y=\"58\"/><text fill=\"#000000\" font-family=\"sans-serif\" font-size=\"12\" font-style=\"italic\" lengthAdjust=\"spacingAndGlyphs\" textLength=\"53\" x=\"66.5\" y=\"74.1387\">«action»</text><text fill=\"#000000\" font-family=\"sans-serif\" font-size=\"12\" lengthAdjust=\"spacingAndGlyphs\" textLength=\"16\" x=\"85\" y=\"88.1074\">A3</text></a></g><g id=\"E1.E7\"><a href=\"psysml:6ad7aed3-e22d-47c2-b6cf-45fd0f629de6\" target=\"_top\" title=\"psysml:6ad7aed3-e22d-47c2-b6cf-45fd0f629de6\" xlink:actuate=\"onRequest\" xlink:href=\"psysml:6ad7aed3-e22d-47c2-b6cf-45fd0f629de6\" xlink:show=\"new\" xlink:title=\"psysml:6ad7aed3-e22d-47c2-b6cf-45fd0f629de6\" xlink:type=\"simple\"><rect fill=\"#FFFFFF\" height=\"42.9375\" id=\"E7\" rx=\"10\" ry=\"10\" style=\"stroke: #383838; stroke-width: 1.5;\" width=\"60\" x=\"246\" y=\"178\"/><rect fill=\"#F8F8F8\" height=\"37.9375\" rx=\"10\" ry=\"10\" style=\"stroke: #F8F8F8; stroke-width: 1.5;\" width=\"60\" x=\"246\" y=\"178\"/><rect fill=\"#F8F8F8\" height=\"10\" style=\"stroke: #F8F8F8; stroke-width: 1.5;\" width=\"60\" x=\"246\" y=\"205.9375\"/><rect fill=\"none\" height=\"42.9375\" id=\"E7\" rx=\"10\" ry=\"10\" style=\"stroke: #383838; stroke-width: 1.5;\" width=\"60\" x=\"246\" y=\"178\"/><text fill=\"#000000\" font-family=\"sans-serif\" font-size=\"12\" font-style=\"italic\" lengthAdjust=\"spacingAndGlyphs\" textLength=\"53\" x=\"249.5\" y=\"194.1387\">«action»</text><text fill=\"#000000\" font-family=\"sans-serif\" font-size=\"12\" lengthAdjust=\"spacingAndGlyphs\" textLength=\"16\" x=\"268\" y=\"208.1074\">A3</text></a></g><!--MD5=[4d03bb2d0377dc85ccfab60ff574652b]\n",
       "link E2 to E4--><a href=\"psysml:07a447fb-7978-4e35-9306-ac5ec116db5d\" target=\"_top\" title=\"psysml:07a447fb-7978-4e35-9306-ac5ec116db5d\" xlink:actuate=\"onRequest\" xlink:href=\"psysml:07a447fb-7978-4e35-9306-ac5ec116db5d\" xlink:show=\"new\" xlink:title=\"psysml:07a447fb-7978-4e35-9306-ac5ec116db5d\" xlink:type=\"simple\"><path d=\"M206,87.5 C206,129.23 206,320 206,320 C206,320 200.23,320 200.23,320 \" fill=\"none\" id=\"E2-&gt;E4\" style=\"stroke: #383838; stroke-width: 1.0;\"/><polygon fill=\"#383838\" points=\"195.23,320,204.23,324,200.23,320,204.23,316,195.23,320\" style=\"stroke: #383838; stroke-width: 1.0;\"/><text fill=\"#000000\" font-family=\"sans-serif\" font-size=\"13\" lengthAdjust=\"spacingAndGlyphs\" textLength=\"55\" x=\"118\" y=\"204.0669\">[x == 1]</text><text fill=\"#000000\" font-family=\"sans-serif\" font-size=\"13\" lengthAdjust=\"spacingAndGlyphs\" textLength=\"7\" x=\"203.0301\" y=\"315.4707\">*</text></a><!--MD5=[dcad52bbbca2fe8adc741ce38b45dc12]\n",
       "link E2 to E5--><a href=\"psysml:f195b54a-5fed-403e-bb02-20f21e154f17\" target=\"_top\" title=\"psysml:f195b54a-5fed-403e-bb02-20f21e154f17\" xlink:actuate=\"onRequest\" xlink:href=\"psysml:f195b54a-5fed-403e-bb02-20f21e154f17\" xlink:show=\"new\" xlink:title=\"psysml:f195b54a-5fed-403e-bb02-20f21e154f17\" xlink:type=\"simple\"><path d=\"M210,91.91 C210,155.3 210,440 210,440 C210,440 200.02,440 200.02,440 \" fill=\"none\" id=\"E2-&gt;E5\" style=\"stroke: #383838; stroke-width: 1.0;\"/><polygon fill=\"#383838\" points=\"195.02,440,204.02,444,200.02,440,204.02,436,195.02,440\" style=\"stroke: #383838; stroke-width: 1.0;\"/><text fill=\"#000000\" font-family=\"sans-serif\" font-size=\"13\" lengthAdjust=\"spacingAndGlyphs\" textLength=\"44\" x=\"221\" y=\"264.0669\">[x &gt; 1]</text><text fill=\"#000000\" font-family=\"sans-serif\" font-size=\"13\" lengthAdjust=\"spacingAndGlyphs\" textLength=\"7\" x=\"203.1905\" y=\"435.3844\">*</text></a><!--MD5=[e3d2a08a9c9236652057e8ed0cbc9b62]\n",
       "link E2 to E7--><a href=\"psysml:15c91a99-d9b4-4320-8388-ef3655122685\" target=\"_top\" title=\"psysml:15c91a99-d9b4-4320-8388-ef3655122685\" xlink:actuate=\"onRequest\" xlink:href=\"psysml:15c91a99-d9b4-4320-8388-ef3655122685\" xlink:show=\"new\" xlink:title=\"psysml:15c91a99-d9b4-4320-8388-ef3655122685\" xlink:type=\"simple\"><path d=\"M218,83.9 C218,103.52 218,182 218,182 C218,182 240.98,182 240.98,182 \" fill=\"none\" id=\"E2-&gt;E7\" style=\"stroke: #383838; stroke-width: 1.0;\"/><polygon fill=\"#383838\" points=\"245.98,182,236.98,178,240.98,182,236.98,186,245.98,182\" style=\"stroke: #383838; stroke-width: 1.0;\"/><text fill=\"#000000\" font-family=\"sans-serif\" font-size=\"13\" lengthAdjust=\"spacingAndGlyphs\" textLength=\"7\" x=\"230.8095\" y=\"172.9969\">*</text></a><!--MD5=[583832df87f4419a098336a29a52fa00]\n",
       "link E7 to E2--><a href=\"psysml:c19c71e4-b628-4c9d-aa87-db03cc189a8f\" target=\"_top\" title=\"psysml:c19c71e4-b628-4c9d-aa87-db03cc189a8f\" xlink:actuate=\"onRequest\" xlink:href=\"psysml:c19c71e4-b628-4c9d-aa87-db03cc189a8f\" xlink:show=\"new\" xlink:title=\"psysml:c19c71e4-b628-4c9d-aa87-db03cc189a8f\" xlink:type=\"simple\"><path d=\"M245.73,185 C229.99,185 214,185 214,185 C214,185 214,92.78 214,92.78 \" fill=\"none\" id=\"E7-&gt;E2\" style=\"stroke: #383838; stroke-width: 1.0;\"/><polygon fill=\"#383838\" points=\"214,87.78,210,96.78,214,92.78,218,96.78,214,87.78\" style=\"stroke: #383838; stroke-width: 1.0;\"/><text fill=\"#000000\" font-family=\"sans-serif\" font-size=\"13\" lengthAdjust=\"spacingAndGlyphs\" textLength=\"44\" x=\"260\" y=\"144.0669\">[x &gt; 0]</text><text fill=\"#000000\" font-family=\"sans-serif\" font-size=\"13\" lengthAdjust=\"spacingAndGlyphs\" textLength=\"7\" x=\"207.3688\" y=\"111.5336\">*</text></a><!--MD5=[2720a5a1f2c3fca2055b230370638851]\n",
       "link E2 to E3--><a href=\"psysml:6d6473c9-743e-4105-a2af-98d6bd8c1632\" target=\"_top\" title=\"psysml:6d6473c9-743e-4105-a2af-98d6bd8c1632\" xlink:actuate=\"onRequest\" xlink:href=\"psysml:6d6473c9-743e-4105-a2af-98d6bd8c1632\" xlink:show=\"new\" xlink:title=\"psysml:6d6473c9-743e-4105-a2af-98d6bd8c1632\" xlink:type=\"simple\"><path d=\"M202,83.51 C202,104.42 202,200 202,200 C202,200 51.74,200 51.74,200 \" fill=\"none\" id=\"E2-&gt;E3\" style=\"stroke: #383838; stroke-width: 1.0;\"/><polygon fill=\"#383838\" points=\"46.74,200,55.74,204,51.74,200,55.74,196,46.74,200\" style=\"stroke: #383838; stroke-width: 1.0;\"/><text fill=\"#000000\" font-family=\"sans-serif\" font-size=\"13\" lengthAdjust=\"spacingAndGlyphs\" textLength=\"7\" x=\"54.9315\" y=\"193.3401\">*</text></a><!--MD5=[af87c684e3b0d8be13c1a698a818ef1e]\n",
       "link E3 to E4--><a href=\"psysml:4dd56774-018b-4c8a-8121-2b3d6a9c557c\" target=\"_top\" title=\"psysml:4dd56774-018b-4c8a-8121-2b3d6a9c557c\" xlink:actuate=\"onRequest\" xlink:href=\"psysml:4dd56774-018b-4c8a-8121-2b3d6a9c557c\" xlink:show=\"new\" xlink:title=\"psysml:4dd56774-018b-4c8a-8121-2b3d6a9c557c\" xlink:type=\"simple\"><path d=\"M39,207.78 C39,235.01 39,320 39,320 C39,320 129.82,320 129.82,320 \" fill=\"none\" id=\"E3-&gt;E4\" style=\"stroke: #383838; stroke-width: 1.0;\"/><polygon fill=\"#383838\" points=\"134.82,320,125.82,316,129.82,320,125.82,324,134.82,320\" style=\"stroke: #383838; stroke-width: 1.0;\"/><text fill=\"#000000\" font-family=\"sans-serif\" font-size=\"13\" lengthAdjust=\"spacingAndGlyphs\" textLength=\"36\" x=\"88\" y=\"264.0669\">[true]</text><text fill=\"#000000\" font-family=\"sans-serif\" font-size=\"13\" lengthAdjust=\"spacingAndGlyphs\" textLength=\"7\" x=\"120.0315\" y=\"315.4707\">*</text></a><!--MD5=[0188b64bb0ae78505a997a81836e11e9]\n",
       "link E3 to E5--><a href=\"psysml:2f25c912-d622-4deb-be6f-2375e7caca37\" target=\"_top\" title=\"psysml:2f25c912-d622-4deb-be6f-2375e7caca37\" xlink:actuate=\"onRequest\" xlink:href=\"psysml:2f25c912-d622-4deb-be6f-2375e7caca37\" xlink:show=\"new\" xlink:title=\"psysml:2f25c912-d622-4deb-be6f-2375e7caca37\" xlink:type=\"simple\"><path d=\"M31,207.5 C31,249.23 31,440 31,440 C31,440 129.93,440 129.93,440 \" fill=\"none\" id=\"E3-&gt;E5\" style=\"stroke: #383838; stroke-width: 1.0;\"/><polygon fill=\"#383838\" points=\"134.93,440,125.93,436,129.93,440,125.93,444,134.93,440\" style=\"stroke: #383838; stroke-width: 1.0;\"/><text fill=\"#000000\" font-family=\"sans-serif\" font-size=\"13\" lengthAdjust=\"spacingAndGlyphs\" textLength=\"40\" x=\"59\" y=\"324.0669\">[false]</text><text fill=\"#000000\" font-family=\"sans-serif\" font-size=\"13\" lengthAdjust=\"spacingAndGlyphs\" textLength=\"7\" x=\"120.1669\" y=\"435.4707\">*</text></a><!--MD5=[1b7591eae5389033d8d09a9d6721a717]\n",
       "link E4 to E5--><a href=\"psysml:19ac739f-970e-4750-a1cd-14a3501dcfff\" target=\"_top\" title=\"psysml:19ac739f-970e-4750-a1cd-14a3501dcfff\" xlink:actuate=\"onRequest\" xlink:href=\"psysml:19ac739f-970e-4750-a1cd-14a3501dcfff\" xlink:show=\"new\" xlink:title=\"psysml:19ac739f-970e-4750-a1cd-14a3501dcfff\" xlink:type=\"simple\"><path d=\"M165,341.23 C165,341.23 165,412.93 165,412.93 \" fill=\"none\" id=\"E4-&gt;E5\" style=\"stroke: #383838; stroke-width: 1.0;\"/><polygon fill=\"#383838\" points=\"165,417.93,169,408.93,165,412.93,161,408.93,165,417.93\" style=\"stroke: #383838; stroke-width: 1.0;\"/><text fill=\"#000000\" font-family=\"sans-serif\" font-size=\"13\" lengthAdjust=\"spacingAndGlyphs\" textLength=\"55\" x=\"166\" y=\"384.0669\">[x == 0]</text><text fill=\"#000000\" font-family=\"sans-serif\" font-size=\"13\" lengthAdjust=\"spacingAndGlyphs\" textLength=\"7\" x=\"157.0156\" y=\"406.8484\">*</text></a><!--MD5=[81eec76bfe4ced494ad3466d2c5c6fdd]\n",
       "@startuml\r\n",
       "skinparam linetype ortho\r\n",
       "skinparam monochrome true\r\n",
       "skinparam classbackgroundcolor white\r\n",
       "skinparam shadowing false\r\n",
       "skinparam wrapWidth 300\r\n",
       "hide circle\r\n",
       "\r\n",
       "rec def \"DecisionTest\" as E1  <<(T,blue) action def>> [[psysml:ec9d2101-14b6-425a-8b3b-258973824e57 ]] {\r\n",
       "choice \"test x\" as E2  [[psysml:7b5c557c-0eca-43da-893a-884adf177ee9 ]] \r\n",
       "choice \"<s>noname</s>\" as E3  [[psysml:c8637911-bdae-488c-9ae7-71f0e05f074a ]] \r\n",
       "rec usage \"A1\" as E4  <<(T,blue) action>> [[psysml:2b21def1-54fd-4014-8db4-beef5c1da0f0 ]] {\r\n",
       "}\r\n",
       "\r\n",
       "rec usage \"A2\" as E5  <<(T,blue) action>> [[psysml:a7c18d95-cb4e-4d18-b7c9-a948ce4b9e35 ]] {\r\n",
       "}\r\n",
       "\r\n",
       "rec usage \"A3\" as E6  <<(T,blue) action>> [[psysml:6ad7aed3-e22d-47c2-b6cf-45fd0f629de6 ]] {\r\n",
       "}\r\n",
       "\r\n",
       "rec usage \"A3\" as E7  <<(T,blue) action>> [[psysml:6ad7aed3-e22d-47c2-b6cf-45fd0f629de6 ]] {\r\n",
       "}\r\n",
       "\r\n",
       "}\r\n",
       "\r\n",
       "E2  - -> \"*\"E4 [[psysml:07a447fb-7978-4e35-9306-ac5ec116db5d ]] : [x == 1]\r\n",
       "E2  - -> \"*\"E5 [[psysml:f195b54a-5fed-403e-bb02-20f21e154f17 ]] : [x > 1]\r\n",
       "E2  - -> \"*\"E7 [[psysml:15c91a99-d9b4-4320-8388-ef3655122685 ]] \r\n",
       "E2 - -> \"*\"E3 [[psysml:6d6473c9-743e-4105-a2af-98d6bd8c1632 ]] \r\n",
       "E3  - -> \"*\"E4 [[psysml:4dd56774-018b-4c8a-8121-2b3d6a9c557c ]] : [true]\r\n",
       "E3  - -> \"*\"E5 [[psysml:2f25c912-d622-4deb-be6f-2375e7caca37 ]] : [false]\r\n",
       "E4  - -> \"*\"E5 [[psysml:19ac739f-970e-4750-a1cd-14a3501dcfff ]] : [x == 0]\r\n",
       "E7  - -> \"*\"E2 [[psysml:c19c71e4-b628-4c9d-aa87-db03cc189a8f ]] : [x > 0]\r\n",
       "@enduml\r\n",
       "\n",
       "PlantUML version 1.2020.13(Sat Jun 13 12:26:38 UTC 2020)\n",
       "(EPL source distribution)\n",
       "Java Runtime: OpenJDK Runtime Environment\n",
       "JVM: OpenJDK 64-Bit Server VM\n",
       "Default Encoding: UTF-8\n",
       "Language: en\n",
       "Country: null\n",
       "--></g></svg>"
      ]
     },
     "execution_count": 57,
     "metadata": {},
     "output_type": "execute_result"
    }
   ],
   "source": [
    "%viz --style=\"ORTHOLINE\" --view=\"MIXED\" \"DecisionTest\""
   ]
  }
 ],
 "metadata": {
  "kernelspec": {
   "display_name": "SysML",
   "language": "sysml",
   "name": "sysml"
  },
  "language_info": {
   "codemirror_mode": "sysml",
   "file_extension": ".sysml",
   "mimetype": "text/x-sysml",
   "name": "SysML",
   "pygments_lexer": "java",
   "version": "1.0.0"
  }
 },
 "nbformat": 4,
 "nbformat_minor": 5
}
