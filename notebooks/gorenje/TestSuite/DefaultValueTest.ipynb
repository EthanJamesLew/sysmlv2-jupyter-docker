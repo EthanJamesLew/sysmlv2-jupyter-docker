{
 "cells": [
  {
   "cell_type": "markdown",
   "id": "7b86e031",
   "metadata": {},
   "source": [
    "# SysML v2 Test Suite\n",
    "\n",
    "This can notebook can be cleared using menu `Edit --> Clear All Outputs` and then all cells can be\n",
    "run using menu `Run --> Run All Cells`.\n",
    "\n",
    "**WARNING**: This file is generated, all modifications here will be ignored.\n"
   ]
  },
  {
   "cell_type": "markdown",
   "id": "e09dcfcf",
   "metadata": {},
   "source": [
    "## File: ../../sysml/src/examples/Simple Tests/DefaultValueTest.sysml"
   ]
  },
  {
   "cell_type": "code",
   "execution_count": 1,
   "id": "24850460",
   "metadata": {
    "execution": {
     "iopub.execute_input": "2022-07-23T10:55:41.802718Z",
     "iopub.status.busy": "2022-07-23T10:55:41.801794Z",
     "iopub.status.idle": "2022-07-23T10:55:42.038538Z",
     "shell.execute_reply": "2022-07-23T10:55:42.038902Z"
    }
   },
   "outputs": [
    {
     "data": {
      "text/plain": [
       "Package DefaultValueTest (e41cdd27-e179-4271-915e-4358fc3ae044)\n"
      ]
     },
     "execution_count": 1,
     "metadata": {},
     "output_type": "execute_result"
    }
   ],
   "source": [
    "package DefaultValueTest {\n",
    "\t\n",
    "\tpart def V {\n",
    "\t\tattribute m default = 10;\n",
    "\t\tattribute n = 20;\n",
    "\t}\n",
    "\t\n",
    "\tpart v1 : V {\n",
    "\t\tattribute :>> m = 20;\n",
    "\t}\n",
    "\t\n",
    "\tpart def W :> V {\n",
    "\t\tattribute :>> m default = n;\n",
    "\t}\n",
    "\t\n",
    "\tpart v2 = W();\n",
    "\t\n",
    "}"
   ]
  },
  {
   "cell_type": "code",
   "execution_count": 2,
   "id": "589fe587",
   "metadata": {
    "execution": {
     "iopub.execute_input": "2022-07-23T10:55:42.090196Z",
     "iopub.status.busy": "2022-07-23T10:55:42.089617Z",
     "iopub.status.idle": "2022-07-23T10:55:42.638106Z",
     "shell.execute_reply": "2022-07-23T10:55:42.636467Z"
    }
   },
   "outputs": [
    {
     "data": {
      "image/svg+xml": [
       "<?xml version=\"1.0\" encoding=\"UTF-8\" standalone=\"no\"?><svg xmlns=\"http://www.w3.org/2000/svg\" xmlns:xlink=\"http://www.w3.org/1999/xlink\" contentScriptType=\"application/ecmascript\" contentStyleType=\"text/css\" height=\"305px\" preserveAspectRatio=\"none\" style=\"width:349px;height:305px;\" version=\"1.1\" viewBox=\"0 0 349 305\" width=\"349px\" zoomAndPan=\"magnify\"><defs/><g><!--MD5=[fbc87193dbaf4d95561dea2c320d4a47]\n",
       "cluster E1--><a href=\"psysml:e41cdd27-e179-4271-915e-4358fc3ae044\" target=\"_top\" title=\"psysml:e41cdd27-e179-4271-915e-4358fc3ae044\" xlink:actuate=\"onRequest\" xlink:href=\"psysml:e41cdd27-e179-4271-915e-4358fc3ae044\" xlink:show=\"new\" xlink:title=\"psysml:e41cdd27-e179-4271-915e-4358fc3ae044\" xlink:type=\"simple\"><polygon fill=\"#FFFFFF\" points=\"16,6,140,6,147,28.2969,327,28.2969,327,293,16,293,16,6\" style=\"stroke: #000000; stroke-width: 1.5;\"/><line style=\"stroke: #000000; stroke-width: 1.5;\" x1=\"16\" x2=\"147\" y1=\"28.2969\" y2=\"28.2969\"/><text fill=\"#000000\" font-family=\"sans-serif\" font-size=\"14\" font-weight=\"bold\" lengthAdjust=\"spacingAndGlyphs\" textLength=\"118\" x=\"20\" y=\"20.9951\">DefaultValueTest</text></a><!--MD5=[b4997ac47864f28c2f74865a473b2911]\n",
       "class E2--><a href=\"psysml:95d35419-5cb2-4278-8f59-96945510244a\" target=\"_top\" title=\"psysml:95d35419-5cb2-4278-8f59-96945510244a\" xlink:actuate=\"onRequest\" xlink:href=\"psysml:95d35419-5cb2-4278-8f59-96945510244a\" xlink:show=\"new\" xlink:title=\"psysml:95d35419-5cb2-4278-8f59-96945510244a\" xlink:type=\"simple\"><rect fill=\"#FFFFFF\" height=\"88.3516\" id=\"E2\" style=\"stroke: #383838; stroke-width: 1.5;\" width=\"106\" x=\"156\" y=\"189\"/><text fill=\"#000000\" font-family=\"sans-serif\" font-size=\"12\" font-style=\"italic\" lengthAdjust=\"spacingAndGlyphs\" textLength=\"68\" x=\"175\" y=\"205.1387\">«part  def»</text><text fill=\"#000000\" font-family=\"sans-serif\" font-size=\"12\" lengthAdjust=\"spacingAndGlyphs\" textLength=\"8\" x=\"205\" y=\"219.1074\">V</text><line style=\"stroke: #383838; stroke-width: 1.5;\" x1=\"157\" x2=\"261\" y1=\"226.9375\" y2=\"226.9375\"/><text fill=\"#000000\" font-family=\"sans-serif\" font-size=\"11\" lengthAdjust=\"spacingAndGlyphs\" textLength=\"94\" x=\"162\" y=\"257.9526\">m=default = 10;</text><text fill=\"#000000\" font-family=\"sans-serif\" font-size=\"11\" lengthAdjust=\"spacingAndGlyphs\" textLength=\"38\" x=\"162\" y=\"270.7573\">n= 20;</text><line style=\"stroke: #383838; stroke-width: 1.0;\" x1=\"157\" x2=\"181.5\" y1=\"241.3398\" y2=\"241.3398\"/><text fill=\"#000000\" font-family=\"sans-serif\" font-size=\"11\" lengthAdjust=\"spacingAndGlyphs\" textLength=\"55\" x=\"181.5\" y=\"244.6479\">attributes</text><line style=\"stroke: #383838; stroke-width: 1.0;\" x1=\"236.5\" x2=\"261\" y1=\"241.3398\" y2=\"241.3398\"/></a><!--MD5=[09b614a08d8cba4a07c9adeb5e0fee81]\n",
       "class E3--><a href=\"psysml:b8cf69e7-8508-48d3-98c1-1a5aff225283\" target=\"_top\" title=\"psysml:b8cf69e7-8508-48d3-98c1-1a5aff225283\" xlink:actuate=\"onRequest\" xlink:href=\"psysml:b8cf69e7-8508-48d3-98c1-1a5aff225283\" xlink:show=\"new\" xlink:title=\"psysml:b8cf69e7-8508-48d3-98c1-1a5aff225283\" xlink:type=\"simple\"><rect fill=\"#FFFFFF\" height=\"88.3516\" id=\"E3\" rx=\"10\" ry=\"10\" style=\"stroke: #383838; stroke-width: 1.5;\" width=\"63\" x=\"247.5\" y=\"41\"/><text fill=\"#000000\" font-family=\"sans-serif\" font-size=\"12\" font-style=\"italic\" lengthAdjust=\"spacingAndGlyphs\" textLength=\"40\" x=\"259\" y=\"57.1387\">«part»</text><text fill=\"#000000\" font-family=\"sans-serif\" font-size=\"12\" lengthAdjust=\"spacingAndGlyphs\" textLength=\"30\" x=\"262\" y=\"71.1074\">v1: V</text><line style=\"stroke: #383838; stroke-width: 1.5;\" x1=\"248.5\" x2=\"309.5\" y1=\"78.9375\" y2=\"78.9375\"/><text fill=\"#000000\" font-family=\"sans-serif\" font-size=\"11\" lengthAdjust=\"spacingAndGlyphs\" textLength=\"42\" x=\"253.5\" y=\"109.9526\">m= 20;</text><text fill=\"#000000\" font-family=\"sans-serif\" font-size=\"11\" font-style=\"italic\" lengthAdjust=\"spacingAndGlyphs\" textLength=\"48\" x=\"253.5\" y=\"122.7573\">:&gt;&gt;V::m</text><line style=\"stroke: #383838; stroke-width: 1.0;\" x1=\"248.5\" x2=\"251.5\" y1=\"93.3398\" y2=\"93.3398\"/><text fill=\"#000000\" font-family=\"sans-serif\" font-size=\"11\" lengthAdjust=\"spacingAndGlyphs\" textLength=\"55\" x=\"251.5\" y=\"96.6479\">attributes</text><line style=\"stroke: #383838; stroke-width: 1.0;\" x1=\"306.5\" x2=\"309.5\" y1=\"93.3398\" y2=\"93.3398\"/></a><!--MD5=[ebbe1d658d1005bcc118a6aa81145e00]\n",
       "class E4--><a href=\"psysml:75d7f18d-3bb0-43da-8a1f-920414b7c194\" target=\"_top\" title=\"psysml:75d7f18d-3bb0-43da-8a1f-920414b7c194\" xlink:actuate=\"onRequest\" xlink:href=\"psysml:75d7f18d-3bb0-43da-8a1f-920414b7c194\" xlink:show=\"new\" xlink:title=\"psysml:75d7f18d-3bb0-43da-8a1f-920414b7c194\" xlink:type=\"simple\"><rect fill=\"#FFFFFF\" height=\"88.3516\" id=\"E4\" style=\"stroke: #383838; stroke-width: 1.5;\" width=\"103\" x=\"109.5\" y=\"41\"/><text fill=\"#000000\" font-family=\"sans-serif\" font-size=\"12\" font-style=\"italic\" lengthAdjust=\"spacingAndGlyphs\" textLength=\"68\" x=\"127\" y=\"57.1387\">«part  def»</text><text fill=\"#000000\" font-family=\"sans-serif\" font-size=\"12\" lengthAdjust=\"spacingAndGlyphs\" textLength=\"11\" x=\"155.5\" y=\"71.1074\">W</text><line style=\"stroke: #383838; stroke-width: 1.5;\" x1=\"110.5\" x2=\"211.5\" y1=\"78.9375\" y2=\"78.9375\"/><text fill=\"#000000\" font-family=\"sans-serif\" font-size=\"11\" lengthAdjust=\"spacingAndGlyphs\" textLength=\"87\" x=\"115.5\" y=\"109.9526\">m=default = n;</text><text fill=\"#000000\" font-family=\"sans-serif\" font-size=\"11\" font-style=\"italic\" lengthAdjust=\"spacingAndGlyphs\" textLength=\"48\" x=\"115.5\" y=\"122.7573\">:&gt;&gt;V::m</text><line style=\"stroke: #383838; stroke-width: 1.0;\" x1=\"110.5\" x2=\"133.5\" y1=\"93.3398\" y2=\"93.3398\"/><text fill=\"#000000\" font-family=\"sans-serif\" font-size=\"11\" lengthAdjust=\"spacingAndGlyphs\" textLength=\"55\" x=\"133.5\" y=\"96.6479\">attributes</text><line style=\"stroke: #383838; stroke-width: 1.0;\" x1=\"188.5\" x2=\"211.5\" y1=\"93.3398\" y2=\"93.3398\"/></a><!--MD5=[270fce915f116d4de14055a7c1d9a0f3]\n",
       "class E5--><a href=\"psysml:1ec49292-f6e0-4564-a681-346e27695197\" target=\"_top\" title=\"psysml:1ec49292-f6e0-4564-a681-346e27695197\" xlink:actuate=\"onRequest\" xlink:href=\"psysml:1ec49292-f6e0-4564-a681-346e27695197\" xlink:show=\"new\" xlink:title=\"psysml:1ec49292-f6e0-4564-a681-346e27695197\" xlink:type=\"simple\"><rect fill=\"#FFFFFF\" height=\"45.9375\" id=\"E5\" rx=\"10\" ry=\"10\" style=\"stroke: #383838; stroke-width: 1.5;\" width=\"42\" x=\"32\" y=\"62\"/><text fill=\"#000000\" font-family=\"sans-serif\" font-size=\"12\" font-style=\"italic\" lengthAdjust=\"spacingAndGlyphs\" textLength=\"40\" x=\"33\" y=\"78.1387\">«part»</text><text fill=\"#000000\" font-family=\"sans-serif\" font-size=\"12\" lengthAdjust=\"spacingAndGlyphs\" textLength=\"14\" x=\"44\" y=\"92.1074\">v2</text><line style=\"stroke: #383838; stroke-width: 1.5;\" x1=\"33\" x2=\"73\" y1=\"99.9375\" y2=\"99.9375\"/></a><!--MD5=[05d275557350bfb9b23a4ef7222b4c39]\n",
       "link E3 to E2--><a href=\"psysml:eb47ef55-8727-46f8-948e-289e011721f9\" target=\"_top\" title=\"psysml:eb47ef55-8727-46f8-948e-289e011721f9\" xlink:actuate=\"onRequest\" xlink:href=\"psysml:eb47ef55-8727-46f8-948e-289e011721f9\" xlink:show=\"new\" xlink:title=\"psysml:eb47ef55-8727-46f8-948e-289e011721f9\" xlink:type=\"simple\"><path d=\"M258.38,129.02 C252.17,141.97 245.22,156.45 238.55,170.36 \" fill=\"none\" id=\"E3-&gt;E2\" style=\"stroke: #383838; stroke-width: 1.0;\"/><polygon fill=\"#FFFFFF\" points=\"229.72,188.79,231.6151,168.6304,244.2413,174.6786,229.72,188.79\" style=\"stroke: #383838; stroke-width: 1.0;\"/><ellipse cx=\"235.8813\" cy=\"164.3538\" fill=\"#383838\" rx=\"2\" ry=\"2\" style=\"stroke: #383838; stroke-width: 1.0;\"/><ellipse cx=\"244.9\" cy=\"168.6739\" fill=\"#383838\" rx=\"2\" ry=\"2\" style=\"stroke: #383838; stroke-width: 1.0;\"/></a><!--MD5=[185131fc0dcab0a4505a2ebe144e961b]\n",
       "link E4 to E2--><a href=\"psysml:3b658baa-aed2-418d-9cf3-f3993d6dea2d\" target=\"_top\" title=\"psysml:3b658baa-aed2-418d-9cf3-f3993d6dea2d\" xlink:actuate=\"onRequest\" xlink:href=\"psysml:3b658baa-aed2-418d-9cf3-f3993d6dea2d\" xlink:show=\"new\" xlink:title=\"psysml:3b658baa-aed2-418d-9cf3-f3993d6dea2d\" xlink:type=\"simple\"><path d=\"M175.14,129.02 C179.3,141.67 183.94,155.79 188.42,169.41 \" fill=\"none\" id=\"E4-&gt;E2\" style=\"stroke: #383838; stroke-width: 1.0;\"/><polygon fill=\"none\" points=\"195.2,167.6,194.79,188.79,181.9,171.97,195.2,167.6\" style=\"stroke: #383838; stroke-width: 1.0;\"/></a><!--MD5=[9cbe40a4f820195aee62795070a3faf6]\n",
       "@startuml\r\n",
       " skinparam monochrome true\r\n",
       "skinparam classbackgroundcolor white\r\n",
       "skinparam shadowing false\r\n",
       "skinparam wrapWidth 300\r\n",
       "hide circle\r\n",
       "\r\n",
       "package \"DefaultValueTest\" as E1  [[psysml:e41cdd27-e179-4271-915e-4358fc3ae044 ]]  {\r\n",
       "comp def \"V\" as E2  <<(T,blue) part  def>> [[psysml:95d35419-5cb2-4278-8f59-96945510244a ]] {\r\n",
       "- - attributes - -\r\n",
       "m=default = 10; \r\n",
       "n= 20; \r\n",
       "}\r\n",
       "comp usage \"v1: V \" as E3  <<(T,blue) part>> [[psysml:b8cf69e7-8508-48d3-98c1-1a5aff225283 ]] {\r\n",
       "- - attributes - -\r\n",
       "m= 20; \\n//:>>V::m// \r\n",
       "}\r\n",
       "comp def \"W\" as E4  <<(T,blue) part  def>> [[psysml:75d7f18d-3bb0-43da-8a1f-920414b7c194 ]] {\r\n",
       "- - attributes - -\r\n",
       "m=default = n; \\n//:>>V::m// \r\n",
       "}\r\n",
       "comp usage \"v2 \" as E5  <<(T,blue) part>> [[psysml:1ec49292-f6e0-4564-a681-346e27695197 ]] {\r\n",
       "}\r\n",
       "}\r\n",
       "E3 - -:|> E2 [[psysml:eb47ef55-8727-46f8-948e-289e011721f9 ]] \r\n",
       "E4 - -|> E2 [[psysml:3b658baa-aed2-418d-9cf3-f3993d6dea2d ]] \r\n",
       "@enduml\r\n",
       "\n",
       "PlantUML version 1.2020.13(Sat Jun 13 12:26:38 UTC 2020)\n",
       "(EPL source distribution)\n",
       "Java Runtime: OpenJDK Runtime Environment\n",
       "JVM: OpenJDK 64-Bit Server VM\n",
       "Default Encoding: UTF-8\n",
       "Language: en\n",
       "Country: null\n",
       "--></g></svg>"
      ]
     },
     "execution_count": 2,
     "metadata": {},
     "output_type": "execute_result"
    }
   ],
   "source": [
    "%viz --style=\"COMPTREE\" --view=\"Default\" \"DefaultValueTest\""
   ]
  },
  {
   "cell_type": "code",
   "execution_count": 3,
   "id": "012dbcef",
   "metadata": {
    "execution": {
     "iopub.execute_input": "2022-07-23T10:55:42.687969Z",
     "iopub.status.busy": "2022-07-23T10:55:42.687412Z",
     "iopub.status.idle": "2022-07-23T10:55:42.795555Z",
     "shell.execute_reply": "2022-07-23T10:55:42.794580Z"
    }
   },
   "outputs": [
    {
     "data": {
      "image/svg+xml": [
       "<?xml version=\"1.0\" encoding=\"UTF-8\" standalone=\"no\"?><svg xmlns=\"http://www.w3.org/2000/svg\" xmlns:xlink=\"http://www.w3.org/1999/xlink\" contentScriptType=\"application/ecmascript\" contentStyleType=\"text/css\" height=\"305px\" preserveAspectRatio=\"none\" style=\"width:349px;height:305px;\" version=\"1.1\" viewBox=\"0 0 349 305\" width=\"349px\" zoomAndPan=\"magnify\"><defs/><g><!--MD5=[fbc87193dbaf4d95561dea2c320d4a47]\n",
       "cluster E1--><a href=\"psysml:e41cdd27-e179-4271-915e-4358fc3ae044\" target=\"_top\" title=\"psysml:e41cdd27-e179-4271-915e-4358fc3ae044\" xlink:actuate=\"onRequest\" xlink:href=\"psysml:e41cdd27-e179-4271-915e-4358fc3ae044\" xlink:show=\"new\" xlink:title=\"psysml:e41cdd27-e179-4271-915e-4358fc3ae044\" xlink:type=\"simple\"><polygon fill=\"#FFFFFF\" points=\"16,6,140,6,147,28.2969,327,28.2969,327,293,16,293,16,6\" style=\"stroke: #000000; stroke-width: 1.5;\"/><line style=\"stroke: #000000; stroke-width: 1.5;\" x1=\"16\" x2=\"147\" y1=\"28.2969\" y2=\"28.2969\"/><text fill=\"#000000\" font-family=\"sans-serif\" font-size=\"14\" font-weight=\"bold\" lengthAdjust=\"spacingAndGlyphs\" textLength=\"118\" x=\"20\" y=\"20.9951\">DefaultValueTest</text></a><!--MD5=[b4997ac47864f28c2f74865a473b2911]\n",
       "class E2--><a href=\"psysml:95d35419-5cb2-4278-8f59-96945510244a\" target=\"_top\" title=\"psysml:95d35419-5cb2-4278-8f59-96945510244a\" xlink:actuate=\"onRequest\" xlink:href=\"psysml:95d35419-5cb2-4278-8f59-96945510244a\" xlink:show=\"new\" xlink:title=\"psysml:95d35419-5cb2-4278-8f59-96945510244a\" xlink:type=\"simple\"><rect fill=\"#FFFFFF\" height=\"88.3516\" id=\"E2\" style=\"stroke: #383838; stroke-width: 1.5;\" width=\"106\" x=\"156\" y=\"189\"/><text fill=\"#000000\" font-family=\"sans-serif\" font-size=\"12\" font-style=\"italic\" lengthAdjust=\"spacingAndGlyphs\" textLength=\"68\" x=\"175\" y=\"205.1387\">«part  def»</text><text fill=\"#000000\" font-family=\"sans-serif\" font-size=\"12\" lengthAdjust=\"spacingAndGlyphs\" textLength=\"8\" x=\"205\" y=\"219.1074\">V</text><line style=\"stroke: #383838; stroke-width: 1.5;\" x1=\"157\" x2=\"261\" y1=\"226.9375\" y2=\"226.9375\"/><text fill=\"#000000\" font-family=\"sans-serif\" font-size=\"11\" lengthAdjust=\"spacingAndGlyphs\" textLength=\"94\" x=\"162\" y=\"257.9526\">m=default = 10;</text><text fill=\"#000000\" font-family=\"sans-serif\" font-size=\"11\" lengthAdjust=\"spacingAndGlyphs\" textLength=\"38\" x=\"162\" y=\"270.7573\">n= 20;</text><line style=\"stroke: #383838; stroke-width: 1.0;\" x1=\"157\" x2=\"181.5\" y1=\"241.3398\" y2=\"241.3398\"/><text fill=\"#000000\" font-family=\"sans-serif\" font-size=\"11\" lengthAdjust=\"spacingAndGlyphs\" textLength=\"55\" x=\"181.5\" y=\"244.6479\">attributes</text><line style=\"stroke: #383838; stroke-width: 1.0;\" x1=\"236.5\" x2=\"261\" y1=\"241.3398\" y2=\"241.3398\"/></a><!--MD5=[09b614a08d8cba4a07c9adeb5e0fee81]\n",
       "class E3--><a href=\"psysml:b8cf69e7-8508-48d3-98c1-1a5aff225283\" target=\"_top\" title=\"psysml:b8cf69e7-8508-48d3-98c1-1a5aff225283\" xlink:actuate=\"onRequest\" xlink:href=\"psysml:b8cf69e7-8508-48d3-98c1-1a5aff225283\" xlink:show=\"new\" xlink:title=\"psysml:b8cf69e7-8508-48d3-98c1-1a5aff225283\" xlink:type=\"simple\"><rect fill=\"#FFFFFF\" height=\"88.3516\" id=\"E3\" rx=\"10\" ry=\"10\" style=\"stroke: #383838; stroke-width: 1.5;\" width=\"63\" x=\"247.5\" y=\"41\"/><text fill=\"#000000\" font-family=\"sans-serif\" font-size=\"12\" font-style=\"italic\" lengthAdjust=\"spacingAndGlyphs\" textLength=\"40\" x=\"259\" y=\"57.1387\">«part»</text><text fill=\"#000000\" font-family=\"sans-serif\" font-size=\"12\" lengthAdjust=\"spacingAndGlyphs\" textLength=\"30\" x=\"262\" y=\"71.1074\">v1: V</text><line style=\"stroke: #383838; stroke-width: 1.5;\" x1=\"248.5\" x2=\"309.5\" y1=\"78.9375\" y2=\"78.9375\"/><text fill=\"#000000\" font-family=\"sans-serif\" font-size=\"11\" lengthAdjust=\"spacingAndGlyphs\" textLength=\"42\" x=\"253.5\" y=\"109.9526\">m= 20;</text><text fill=\"#000000\" font-family=\"sans-serif\" font-size=\"11\" font-style=\"italic\" lengthAdjust=\"spacingAndGlyphs\" textLength=\"48\" x=\"253.5\" y=\"122.7573\">:&gt;&gt;V::m</text><line style=\"stroke: #383838; stroke-width: 1.0;\" x1=\"248.5\" x2=\"251.5\" y1=\"93.3398\" y2=\"93.3398\"/><text fill=\"#000000\" font-family=\"sans-serif\" font-size=\"11\" lengthAdjust=\"spacingAndGlyphs\" textLength=\"55\" x=\"251.5\" y=\"96.6479\">attributes</text><line style=\"stroke: #383838; stroke-width: 1.0;\" x1=\"306.5\" x2=\"309.5\" y1=\"93.3398\" y2=\"93.3398\"/></a><!--MD5=[ebbe1d658d1005bcc118a6aa81145e00]\n",
       "class E4--><a href=\"psysml:75d7f18d-3bb0-43da-8a1f-920414b7c194\" target=\"_top\" title=\"psysml:75d7f18d-3bb0-43da-8a1f-920414b7c194\" xlink:actuate=\"onRequest\" xlink:href=\"psysml:75d7f18d-3bb0-43da-8a1f-920414b7c194\" xlink:show=\"new\" xlink:title=\"psysml:75d7f18d-3bb0-43da-8a1f-920414b7c194\" xlink:type=\"simple\"><rect fill=\"#FFFFFF\" height=\"88.3516\" id=\"E4\" style=\"stroke: #383838; stroke-width: 1.5;\" width=\"103\" x=\"109.5\" y=\"41\"/><text fill=\"#000000\" font-family=\"sans-serif\" font-size=\"12\" font-style=\"italic\" lengthAdjust=\"spacingAndGlyphs\" textLength=\"68\" x=\"127\" y=\"57.1387\">«part  def»</text><text fill=\"#000000\" font-family=\"sans-serif\" font-size=\"12\" lengthAdjust=\"spacingAndGlyphs\" textLength=\"11\" x=\"155.5\" y=\"71.1074\">W</text><line style=\"stroke: #383838; stroke-width: 1.5;\" x1=\"110.5\" x2=\"211.5\" y1=\"78.9375\" y2=\"78.9375\"/><text fill=\"#000000\" font-family=\"sans-serif\" font-size=\"11\" lengthAdjust=\"spacingAndGlyphs\" textLength=\"87\" x=\"115.5\" y=\"109.9526\">m=default = n;</text><text fill=\"#000000\" font-family=\"sans-serif\" font-size=\"11\" font-style=\"italic\" lengthAdjust=\"spacingAndGlyphs\" textLength=\"48\" x=\"115.5\" y=\"122.7573\">:&gt;&gt;V::m</text><line style=\"stroke: #383838; stroke-width: 1.0;\" x1=\"110.5\" x2=\"133.5\" y1=\"93.3398\" y2=\"93.3398\"/><text fill=\"#000000\" font-family=\"sans-serif\" font-size=\"11\" lengthAdjust=\"spacingAndGlyphs\" textLength=\"55\" x=\"133.5\" y=\"96.6479\">attributes</text><line style=\"stroke: #383838; stroke-width: 1.0;\" x1=\"188.5\" x2=\"211.5\" y1=\"93.3398\" y2=\"93.3398\"/></a><!--MD5=[270fce915f116d4de14055a7c1d9a0f3]\n",
       "class E5--><a href=\"psysml:1ec49292-f6e0-4564-a681-346e27695197\" target=\"_top\" title=\"psysml:1ec49292-f6e0-4564-a681-346e27695197\" xlink:actuate=\"onRequest\" xlink:href=\"psysml:1ec49292-f6e0-4564-a681-346e27695197\" xlink:show=\"new\" xlink:title=\"psysml:1ec49292-f6e0-4564-a681-346e27695197\" xlink:type=\"simple\"><rect fill=\"#FFFFFF\" height=\"45.9375\" id=\"E5\" rx=\"10\" ry=\"10\" style=\"stroke: #383838; stroke-width: 1.5;\" width=\"42\" x=\"32\" y=\"62\"/><text fill=\"#000000\" font-family=\"sans-serif\" font-size=\"12\" font-style=\"italic\" lengthAdjust=\"spacingAndGlyphs\" textLength=\"40\" x=\"33\" y=\"78.1387\">«part»</text><text fill=\"#000000\" font-family=\"sans-serif\" font-size=\"12\" lengthAdjust=\"spacingAndGlyphs\" textLength=\"14\" x=\"44\" y=\"92.1074\">v2</text><line style=\"stroke: #383838; stroke-width: 1.5;\" x1=\"33\" x2=\"73\" y1=\"99.9375\" y2=\"99.9375\"/></a><!--MD5=[05d275557350bfb9b23a4ef7222b4c39]\n",
       "link E3 to E2--><a href=\"psysml:eb47ef55-8727-46f8-948e-289e011721f9\" target=\"_top\" title=\"psysml:eb47ef55-8727-46f8-948e-289e011721f9\" xlink:actuate=\"onRequest\" xlink:href=\"psysml:eb47ef55-8727-46f8-948e-289e011721f9\" xlink:show=\"new\" xlink:title=\"psysml:eb47ef55-8727-46f8-948e-289e011721f9\" xlink:type=\"simple\"><path d=\"M258.38,129.02 C252.17,141.97 245.22,156.45 238.55,170.36 \" fill=\"none\" id=\"E3-&gt;E2\" style=\"stroke: #383838; stroke-width: 1.0;\"/><polygon fill=\"#FFFFFF\" points=\"229.72,188.79,231.6151,168.6304,244.2413,174.6786,229.72,188.79\" style=\"stroke: #383838; stroke-width: 1.0;\"/><ellipse cx=\"235.8813\" cy=\"164.3538\" fill=\"#383838\" rx=\"2\" ry=\"2\" style=\"stroke: #383838; stroke-width: 1.0;\"/><ellipse cx=\"244.9\" cy=\"168.6739\" fill=\"#383838\" rx=\"2\" ry=\"2\" style=\"stroke: #383838; stroke-width: 1.0;\"/></a><!--MD5=[185131fc0dcab0a4505a2ebe144e961b]\n",
       "link E4 to E2--><a href=\"psysml:3b658baa-aed2-418d-9cf3-f3993d6dea2d\" target=\"_top\" title=\"psysml:3b658baa-aed2-418d-9cf3-f3993d6dea2d\" xlink:actuate=\"onRequest\" xlink:href=\"psysml:3b658baa-aed2-418d-9cf3-f3993d6dea2d\" xlink:show=\"new\" xlink:title=\"psysml:3b658baa-aed2-418d-9cf3-f3993d6dea2d\" xlink:type=\"simple\"><path d=\"M175.14,129.02 C179.3,141.67 183.94,155.79 188.42,169.41 \" fill=\"none\" id=\"E4-&gt;E2\" style=\"stroke: #383838; stroke-width: 1.0;\"/><polygon fill=\"none\" points=\"195.2,167.6,194.79,188.79,181.9,171.97,195.2,167.6\" style=\"stroke: #383838; stroke-width: 1.0;\"/></a><!--MD5=[9cbe40a4f820195aee62795070a3faf6]\n",
       "@startuml\r\n",
       " skinparam monochrome true\r\n",
       "skinparam classbackgroundcolor white\r\n",
       "skinparam shadowing false\r\n",
       "skinparam wrapWidth 300\r\n",
       "hide circle\r\n",
       "\r\n",
       "package \"DefaultValueTest\" as E1  [[psysml:e41cdd27-e179-4271-915e-4358fc3ae044 ]]  {\r\n",
       "comp def \"V\" as E2  <<(T,blue) part  def>> [[psysml:95d35419-5cb2-4278-8f59-96945510244a ]] {\r\n",
       "- - attributes - -\r\n",
       "m=default = 10; \r\n",
       "n= 20; \r\n",
       "}\r\n",
       "comp usage \"v1: V \" as E3  <<(T,blue) part>> [[psysml:b8cf69e7-8508-48d3-98c1-1a5aff225283 ]] {\r\n",
       "- - attributes - -\r\n",
       "m= 20; \\n//:>>V::m// \r\n",
       "}\r\n",
       "comp def \"W\" as E4  <<(T,blue) part  def>> [[psysml:75d7f18d-3bb0-43da-8a1f-920414b7c194 ]] {\r\n",
       "- - attributes - -\r\n",
       "m=default = n; \\n//:>>V::m// \r\n",
       "}\r\n",
       "comp usage \"v2 \" as E5  <<(T,blue) part>> [[psysml:1ec49292-f6e0-4564-a681-346e27695197 ]] {\r\n",
       "}\r\n",
       "}\r\n",
       "E3 - -:|> E2 [[psysml:eb47ef55-8727-46f8-948e-289e011721f9 ]] \r\n",
       "E4 - -|> E2 [[psysml:3b658baa-aed2-418d-9cf3-f3993d6dea2d ]] \r\n",
       "@enduml\r\n",
       "\n",
       "PlantUML version 1.2020.13(Sat Jun 13 12:26:38 UTC 2020)\n",
       "(EPL source distribution)\n",
       "Java Runtime: OpenJDK Runtime Environment\n",
       "JVM: OpenJDK 64-Bit Server VM\n",
       "Default Encoding: UTF-8\n",
       "Language: en\n",
       "Country: null\n",
       "--></g></svg>"
      ]
     },
     "execution_count": 3,
     "metadata": {},
     "output_type": "execute_result"
    }
   ],
   "source": [
    "%viz --style=\"COMPTREE\" --view=\"Tree\" \"DefaultValueTest\""
   ]
  },
  {
   "cell_type": "code",
   "execution_count": 4,
   "id": "6a991267",
   "metadata": {
    "execution": {
     "iopub.execute_input": "2022-07-23T10:55:42.845599Z",
     "iopub.status.busy": "2022-07-23T10:55:42.845221Z",
     "iopub.status.idle": "2022-07-23T10:55:42.852714Z",
     "shell.execute_reply": "2022-07-23T10:55:42.853045Z"
    }
   },
   "outputs": [
    {
     "data": {
      "image/svg+xml": [
       "<?xml version=\"1.0\" encoding=\"UTF-8\" standalone=\"no\"?><svg xmlns=\"http://www.w3.org/2000/svg\" xmlns:xlink=\"http://www.w3.org/1999/xlink\" contentScriptType=\"application/ecmascript\" contentStyleType=\"text/css\" height=\"12px\" preserveAspectRatio=\"none\" style=\"width:12px;height:12px;\" version=\"1.1\" viewBox=\"0 0 12 12\" width=\"12px\" zoomAndPan=\"magnify\"><defs/><g><!--MD5=[f19188ef49e11757b5c46753f95d9edc]\n",
       "@startuml\r\n",
       " skinparam monochrome true\r\n",
       "skinparam classbackgroundcolor white\r\n",
       "skinparam shadowing false\r\n",
       "skinparam wrapWidth 300\r\n",
       "hide circle\r\n",
       "\r\n",
       "@enduml\r\n",
       "\n",
       "PlantUML version 1.2020.13(Sat Jun 13 12:26:38 UTC 2020)\n",
       "(EPL source distribution)\n",
       "Java Runtime: OpenJDK Runtime Environment\n",
       "JVM: OpenJDK 64-Bit Server VM\n",
       "Default Encoding: UTF-8\n",
       "Language: en\n",
       "Country: null\n",
       "--></g></svg>"
      ]
     },
     "execution_count": 4,
     "metadata": {},
     "output_type": "execute_result"
    }
   ],
   "source": [
    "%viz --style=\"COMPTREE\" --view=\"State\" \"DefaultValueTest\""
   ]
  },
  {
   "cell_type": "code",
   "execution_count": 5,
   "id": "bd089956",
   "metadata": {
    "execution": {
     "iopub.execute_input": "2022-07-23T10:55:42.903857Z",
     "iopub.status.busy": "2022-07-23T10:55:42.903185Z",
     "iopub.status.idle": "2022-07-23T10:55:42.973273Z",
     "shell.execute_reply": "2022-07-23T10:55:42.972842Z"
    }
   },
   "outputs": [
    {
     "data": {
      "image/svg+xml": [
       "<?xml version=\"1.0\" encoding=\"UTF-8\" standalone=\"no\"?><svg xmlns=\"http://www.w3.org/2000/svg\" xmlns:xlink=\"http://www.w3.org/1999/xlink\" contentScriptType=\"application/ecmascript\" contentStyleType=\"text/css\" height=\"399px\" preserveAspectRatio=\"none\" style=\"width:499px;height:399px;\" version=\"1.1\" viewBox=\"0 0 499 399\" width=\"499px\" zoomAndPan=\"magnify\"><defs/><g><!--MD5=[fbc87193dbaf4d95561dea2c320d4a47]\n",
       "cluster E1--><a href=\"psysml:e41cdd27-e179-4271-915e-4358fc3ae044\" target=\"_top\" title=\"psysml:e41cdd27-e179-4271-915e-4358fc3ae044\" xlink:actuate=\"onRequest\" xlink:href=\"psysml:e41cdd27-e179-4271-915e-4358fc3ae044\" xlink:show=\"new\" xlink:title=\"psysml:e41cdd27-e179-4271-915e-4358fc3ae044\" xlink:type=\"simple\"><polygon fill=\"#FFFFFF\" points=\"16,6,140,6,147,28.2969,477,28.2969,477,387,16,387,16,6\" style=\"stroke: #000000; stroke-width: 1.5;\"/><line style=\"stroke: #000000; stroke-width: 1.5;\" x1=\"16\" x2=\"147\" y1=\"28.2969\" y2=\"28.2969\"/><text fill=\"#000000\" font-family=\"sans-serif\" font-size=\"14\" font-weight=\"bold\" lengthAdjust=\"spacingAndGlyphs\" textLength=\"118\" x=\"20\" y=\"20.9951\">DefaultValueTest</text></a><!--MD5=[e4f7fae6ed58524ba242bb0b0d3be6b7]\n",
       "cluster E2--><a href=\"psysml:95d35419-5cb2-4278-8f59-96945510244a\" target=\"_top\" title=\"psysml:95d35419-5cb2-4278-8f59-96945510244a\" xlink:actuate=\"onRequest\" xlink:href=\"psysml:95d35419-5cb2-4278-8f59-96945510244a\" xlink:show=\"new\" xlink:title=\"psysml:95d35419-5cb2-4278-8f59-96945510244a\" xlink:type=\"simple\"><rect fill=\"#FFFFFF\" height=\"129\" id=\"E2\" style=\"stroke: #383838; stroke-width: 1.5;\" width=\"245\" x=\"163\" y=\"226\"/><rect fill=\"#F8F8F8\" height=\"37.9375\" style=\"stroke: #383838; stroke-width: 1.5;\" width=\"245\" x=\"163\" y=\"226\"/><text fill=\"#000000\" font-family=\"sans-serif\" font-size=\"12\" font-style=\"italic\" lengthAdjust=\"spacingAndGlyphs\" textLength=\"68\" x=\"251.5\" y=\"242.1387\">«part  def»</text><text fill=\"#000000\" font-family=\"sans-serif\" font-size=\"12\" lengthAdjust=\"spacingAndGlyphs\" textLength=\"8\" x=\"281.5\" y=\"256.1074\">V</text></a><!--MD5=[de5ec2e2e8f62f467e546659f5068c88]\n",
       "cluster E5--><a href=\"psysml:b8cf69e7-8508-48d3-98c1-1a5aff225283\" target=\"_top\" title=\"psysml:b8cf69e7-8508-48d3-98c1-1a5aff225283\" xlink:actuate=\"onRequest\" xlink:href=\"psysml:b8cf69e7-8508-48d3-98c1-1a5aff225283\" xlink:show=\"new\" xlink:title=\"psysml:b8cf69e7-8508-48d3-98c1-1a5aff225283\" xlink:type=\"simple\"><rect fill=\"#FFFFFF\" height=\"113\" id=\"E5\" rx=\"10\" ry=\"10\" style=\"stroke: #383838; stroke-width: 1.5;\" width=\"139\" x=\"306\" y=\"73\"/><rect fill=\"#F8F8F8\" height=\"23.9688\" rx=\"10\" ry=\"10\" style=\"stroke: #F8F8F8; stroke-width: 1.5;\" width=\"139\" x=\"306\" y=\"73\"/><rect fill=\"#F8F8F8\" height=\"10\" style=\"stroke: #F8F8F8; stroke-width: 1.5;\" width=\"139\" x=\"306\" y=\"86.9688\"/><rect fill=\"none\" height=\"113\" id=\"E5\" rx=\"10\" ry=\"10\" style=\"stroke: #383838; stroke-width: 1.5;\" width=\"139\" x=\"306\" y=\"73\"/><text fill=\"#000000\" font-family=\"sans-serif\" font-size=\"12\" lengthAdjust=\"spacingAndGlyphs\" textLength=\"30\" x=\"360.5\" y=\"89.1387\">v1: V</text><line style=\"stroke: #383838; stroke-width: 1.0;\" x1=\"306\" x2=\"445\" y1=\"96.9688\" y2=\"96.9688\"/></a><!--MD5=[168fadf3d0c3fd93dd5d6da1b1d7ab76]\n",
       "cluster E7--><a href=\"psysml:75d7f18d-3bb0-43da-8a1f-920414b7c194\" target=\"_top\" title=\"psysml:75d7f18d-3bb0-43da-8a1f-920414b7c194\" xlink:actuate=\"onRequest\" xlink:href=\"psysml:75d7f18d-3bb0-43da-8a1f-920414b7c194\" xlink:show=\"new\" xlink:title=\"psysml:75d7f18d-3bb0-43da-8a1f-920414b7c194\" xlink:type=\"simple\"><rect fill=\"#FFFFFF\" height=\"129\" id=\"E7\" style=\"stroke: #383838; stroke-width: 1.5;\" width=\"139\" x=\"127\" y=\"57\"/><rect fill=\"#F8F8F8\" height=\"37.9375\" style=\"stroke: #383838; stroke-width: 1.5;\" width=\"139\" x=\"127\" y=\"57\"/><text fill=\"#000000\" font-family=\"sans-serif\" font-size=\"12\" font-style=\"italic\" lengthAdjust=\"spacingAndGlyphs\" textLength=\"68\" x=\"162.5\" y=\"73.1387\">«part  def»</text><text fill=\"#000000\" font-family=\"sans-serif\" font-size=\"12\" lengthAdjust=\"spacingAndGlyphs\" textLength=\"11\" x=\"191\" y=\"87.1074\">W</text></a><!--MD5=[09b614a08d8cba4a07c9adeb5e0fee81]\n",
       "class E3--><a href=\"psysml:6a54ba7f-e62a-486f-80dd-d9293281f966\" target=\"_top\" title=\"psysml:6a54ba7f-e62a-486f-80dd-d9293281f966\" xlink:actuate=\"onRequest\" xlink:href=\"psysml:6a54ba7f-e62a-486f-80dd-d9293281f966\" xlink:show=\"new\" xlink:title=\"psysml:6a54ba7f-e62a-486f-80dd-d9293281f966\" xlink:type=\"simple\"><rect fill=\"#FFFFFF\" height=\"45.9375\" id=\"E3\" rx=\"10\" ry=\"10\" style=\"stroke: #383838; stroke-width: 1.5;\" width=\"71\" x=\"312.5\" y=\"285\"/><text fill=\"#000000\" font-family=\"sans-serif\" font-size=\"12\" font-style=\"italic\" lengthAdjust=\"spacingAndGlyphs\" textLength=\"69\" x=\"313.5\" y=\"301.1387\">«attribute»</text><text fill=\"#000000\" font-family=\"sans-serif\" font-size=\"12\" lengthAdjust=\"spacingAndGlyphs\" textLength=\"11\" x=\"340.5\" y=\"315.1074\">m</text><line style=\"stroke: #383838; stroke-width: 1.5;\" x1=\"313.5\" x2=\"382.5\" y1=\"322.9375\" y2=\"322.9375\"/></a><!--MD5=[ebbe1d658d1005bcc118a6aa81145e00]\n",
       "class E4--><a href=\"psysml:16f4b3d0-0144-41cb-ad29-b9c3c07c611b\" target=\"_top\" title=\"psysml:16f4b3d0-0144-41cb-ad29-b9c3c07c611b\" xlink:actuate=\"onRequest\" xlink:href=\"psysml:16f4b3d0-0144-41cb-ad29-b9c3c07c611b\" xlink:show=\"new\" xlink:title=\"psysml:16f4b3d0-0144-41cb-ad29-b9c3c07c611b\" xlink:type=\"simple\"><rect fill=\"#FFFFFF\" height=\"45.9375\" id=\"E4\" rx=\"10\" ry=\"10\" style=\"stroke: #383838; stroke-width: 1.5;\" width=\"71\" x=\"206.5\" y=\"285\"/><text fill=\"#000000\" font-family=\"sans-serif\" font-size=\"12\" font-style=\"italic\" lengthAdjust=\"spacingAndGlyphs\" textLength=\"69\" x=\"207.5\" y=\"301.1387\">«attribute»</text><text fill=\"#000000\" font-family=\"sans-serif\" font-size=\"12\" lengthAdjust=\"spacingAndGlyphs\" textLength=\"8\" x=\"236\" y=\"315.1074\">n</text><line style=\"stroke: #383838; stroke-width: 1.5;\" x1=\"207.5\" x2=\"276.5\" y1=\"322.9375\" y2=\"322.9375\"/></a><!--MD5=[60a26617385b1d2d0262a64233df1f8d]\n",
       "class E6--><a href=\"psysml:8ab4ea45-bcef-481a-a1e6-04e630fb5715\" target=\"_top\" title=\"psysml:8ab4ea45-bcef-481a-a1e6-04e630fb5715\" xlink:actuate=\"onRequest\" xlink:href=\"psysml:8ab4ea45-bcef-481a-a1e6-04e630fb5715\" xlink:show=\"new\" xlink:title=\"psysml:8ab4ea45-bcef-481a-a1e6-04e630fb5715\" xlink:type=\"simple\"><rect fill=\"#FFFFFF\" height=\"45.9375\" id=\"E6\" rx=\"10\" ry=\"10\" style=\"stroke: #383838; stroke-width: 1.5;\" width=\"71\" x=\"349.5\" y=\"116\"/><text fill=\"#000000\" font-family=\"sans-serif\" font-size=\"12\" font-style=\"italic\" lengthAdjust=\"spacingAndGlyphs\" textLength=\"69\" x=\"350.5\" y=\"132.1387\">«attribute»</text><text fill=\"#000000\" font-family=\"sans-serif\" font-size=\"12\" lengthAdjust=\"spacingAndGlyphs\" textLength=\"11\" x=\"377.5\" y=\"146.1074\">m</text><line style=\"stroke: #383838; stroke-width: 1.5;\" x1=\"350.5\" x2=\"419.5\" y1=\"153.9375\" y2=\"153.9375\"/></a><!--MD5=[b9389687b975829384b498ac4b7476b2]\n",
       "class E8--><a href=\"psysml:1da3bab2-1d8c-4ebe-95aa-17b6e9277a07\" target=\"_top\" title=\"psysml:1da3bab2-1d8c-4ebe-95aa-17b6e9277a07\" xlink:actuate=\"onRequest\" xlink:href=\"psysml:1da3bab2-1d8c-4ebe-95aa-17b6e9277a07\" xlink:show=\"new\" xlink:title=\"psysml:1da3bab2-1d8c-4ebe-95aa-17b6e9277a07\" xlink:type=\"simple\"><rect fill=\"#FFFFFF\" height=\"45.9375\" id=\"E8\" rx=\"10\" ry=\"10\" style=\"stroke: #383838; stroke-width: 1.5;\" width=\"71\" x=\"170.5\" y=\"116\"/><text fill=\"#000000\" font-family=\"sans-serif\" font-size=\"12\" font-style=\"italic\" lengthAdjust=\"spacingAndGlyphs\" textLength=\"69\" x=\"171.5\" y=\"132.1387\">«attribute»</text><text fill=\"#000000\" font-family=\"sans-serif\" font-size=\"12\" lengthAdjust=\"spacingAndGlyphs\" textLength=\"11\" x=\"198.5\" y=\"146.1074\">m</text><line style=\"stroke: #383838; stroke-width: 1.5;\" x1=\"171.5\" x2=\"240.5\" y1=\"153.9375\" y2=\"153.9375\"/></a><g id=\"E1.E9\"><a href=\"psysml:1ec49292-f6e0-4564-a681-346e27695197\" target=\"_top\" title=\"psysml:1ec49292-f6e0-4564-a681-346e27695197\" xlink:actuate=\"onRequest\" xlink:href=\"psysml:1ec49292-f6e0-4564-a681-346e27695197\" xlink:show=\"new\" xlink:title=\"psysml:1ec49292-f6e0-4564-a681-346e27695197\" xlink:type=\"simple\"><rect fill=\"#FFFFFF\" height=\"40\" id=\"E9\" rx=\"10\" ry=\"10\" style=\"stroke: #383838; stroke-width: 1.5;\" width=\"68\" x=\"32\" y=\"119\"/><rect fill=\"#F8F8F8\" height=\"23.9688\" rx=\"10\" ry=\"10\" style=\"stroke: #F8F8F8; stroke-width: 1.5;\" width=\"68\" x=\"32\" y=\"119\"/><rect fill=\"#F8F8F8\" height=\"10\" style=\"stroke: #F8F8F8; stroke-width: 1.5;\" width=\"68\" x=\"32\" y=\"132.9688\"/><rect fill=\"none\" height=\"40\" id=\"E9\" rx=\"10\" ry=\"10\" style=\"stroke: #383838; stroke-width: 1.5;\" width=\"68\" x=\"32\" y=\"119\"/><text fill=\"#000000\" font-family=\"sans-serif\" font-size=\"12\" lengthAdjust=\"spacingAndGlyphs\" textLength=\"53\" x=\"37.5\" y=\"135.1387\">v2= W();</text></a></g><!--MD5=[a717450b82c80b9240a525fa862496af]\n",
       "link E6 to E3--><a href=\"psysml:df608862-84ce-4303-af6e-5dfc61cbb6d2\" target=\"_top\" title=\"psysml:df608862-84ce-4303-af6e-5dfc61cbb6d2\" xlink:actuate=\"onRequest\" xlink:href=\"psysml:df608862-84ce-4303-af6e-5dfc61cbb6d2\" xlink:show=\"new\" xlink:title=\"psysml:df608862-84ce-4303-af6e-5dfc61cbb6d2\" xlink:type=\"simple\"><path d=\"M380.09,162.18 C374.29,188.33 364.54,232.36 357.3,265.02 \" fill=\"none\" id=\"E6-&gt;E3\" style=\"stroke: #383838; stroke-width: 1.0;\"/><polygon fill=\"#FFFFFF\" points=\"352.87,285,350.1475,264.9354,363.8158,267.965,352.87,285\" style=\"stroke: #383838; stroke-width: 1.0;\"/><line style=\"stroke: #383838; stroke-width: 2.0;\" x1=\"350.9698\" x2=\"364.6381\" y1=\"261.2254\" y2=\"264.2551\"/></a><!--MD5=[15ebcb19ae302d9b601edb458606d402]\n",
       "link E5 to E2--><a href=\"psysml:eb47ef55-8727-46f8-948e-289e011721f9\" target=\"_top\" title=\"psysml:eb47ef55-8727-46f8-948e-289e011721f9\" xlink:actuate=\"onRequest\" xlink:href=\"psysml:eb47ef55-8727-46f8-948e-289e011721f9\" xlink:show=\"new\" xlink:title=\"psysml:eb47ef55-8727-46f8-948e-289e011721f9\" xlink:type=\"simple\"><path d=\"M305.9739,153.5956 C305.9186,153.6814 305.863,153.7674 305.8072,153.8537 C305.6955,154.0263 305.5828,154.2 305.469,154.3747 C305.0139,155.0736 304.5421,155.7894 304.0539,156.52 C302.1011,159.4426 299.8863,162.6028 297.4325,165.8712 C287.6175,178.945 273.98,193.75 258,202 C244.48,208.98 201.16,199.66 190,210 C186.035,213.6737 182.7581,217.912 180.0601,222.5203 C179.7228,223.0963 179.3946,223.6781 179.0752,224.2654 C178.9155,224.559 178.758,224.8539 178.6027,225.1502 C178.5251,225.2983 178.448,225.4468 178.3714,225.5955 \" fill=\"none\" id=\"E5-&gt;E2\" style=\"stroke: #383838; stroke-width: 1.0;\"/><polygon fill=\"#FFFFFF\" points=\"178.3714,225.5955,180.8415,205.4983,193.2898,211.9046,178.3714,225.5955\" style=\"stroke: #383838; stroke-width: 1.0;\"/><ellipse cx=\"185.2281\" cy=\"201.3453\" fill=\"#383838\" rx=\"2\" ry=\"2\" style=\"stroke: #383838; stroke-width: 1.0;\"/><ellipse cx=\"194.1197\" cy=\"205.9212\" fill=\"#383838\" rx=\"2\" ry=\"2\" style=\"stroke: #383838; stroke-width: 1.0;\"/></a><!--MD5=[583832df87f4419a098336a29a52fa00]\n",
       "link E7 to E2--><a href=\"psysml:3b658baa-aed2-418d-9cf3-f3993d6dea2d\" target=\"_top\" title=\"psysml:3b658baa-aed2-418d-9cf3-f3993d6dea2d\" xlink:actuate=\"onRequest\" xlink:href=\"psysml:3b658baa-aed2-418d-9cf3-f3993d6dea2d\" xlink:show=\"new\" xlink:title=\"psysml:3b658baa-aed2-418d-9cf3-f3993d6dea2d\" xlink:type=\"simple\"><path d=\"M145.0817,186.7597 C145.5768,189.0567 146.0819,191.4 146.595,193.7804 C148.6473,203.3019 150.8275,213.4163 153.0075,223.53 C155.1875,233.6438 157.3673,243.7569 159.4191,253.2759 C160.4449,258.0354 161.4388,262.6463 162.3846,267.0345 C162.5028,267.5831 162.6203,268.1281 162.7369,268.6695 C162.7953,268.9403 162.8534,269.2101 162.9114,269.4789 C162.9404,269.6134 162.9693,269.7476 162.9982,269.8816 \" fill=\"none\" id=\"E7-&gt;E2\" style=\"stroke: #383838; stroke-width: 1.0;\"/><polygon fill=\"#FFFFFF\" points=\"162.9982,269.8816,165.8379,249.8332,152.1522,252.7829,162.9982,269.8816\" style=\"stroke: #383838; stroke-width: 1.0;\"/></a><!--MD5=[95fa686b5a16158bcdbcaeead89f639b]\n",
       "link E8 to E3--><a href=\"psysml:d0f3a95a-9489-4833-bd9a-1794072888fe\" target=\"_top\" title=\"psysml:d0f3a95a-9489-4833-bd9a-1794072888fe\" xlink:actuate=\"onRequest\" xlink:href=\"psysml:d0f3a95a-9489-4833-bd9a-1794072888fe\" xlink:show=\"new\" xlink:title=\"psysml:d0f3a95a-9489-4833-bd9a-1794072888fe\" xlink:type=\"simple\"><path d=\"M240.46,162.1 C258.23,174.66 279.38,191.54 295,210 C309.2,226.78 321.3,247.97 330.35,266.26 \" fill=\"none\" id=\"E8-&gt;E3\" style=\"stroke: #383838; stroke-width: 1.0;\"/><polygon fill=\"#FFFFFF\" points=\"338.91,284.62,324.543,270.3516,337.2341,264.441,338.91,284.62\" style=\"stroke: #383838; stroke-width: 1.0;\"/><line style=\"stroke: #383838; stroke-width: 2.0;\" x1=\"322.9387\" x2=\"335.6298\" y1=\"266.9068\" y2=\"260.9963\"/></a><!--MD5=[4360a79dafc18c3bd4e84c7aeac14a76]\n",
       "@startuml\r\n",
       "skinparam ranksep 10\r\n",
       "skinparam rectangle {\r\n",
       " backgroundColor<<block>> LightGreen\r\n",
       "}\r\n",
       " skinparam monochrome true\r\n",
       "skinparam classbackgroundcolor white\r\n",
       "skinparam shadowing false\r\n",
       "skinparam wrapWidth 300\r\n",
       "hide circle\r\n",
       "\r\n",
       "package \"DefaultValueTest\" as E1  [[psysml:e41cdd27-e179-4271-915e-4358fc3ae044 ]]  {\r\n",
       "rec def \"V\" as E2  <<(T,blue) part  def>> [[psysml:95d35419-5cb2-4278-8f59-96945510244a ]] {\r\n",
       "comp usage \"m \" as E3  <<(T,blue) attribute>> [[psysml:6a54ba7f-e62a-486f-80dd-d9293281f966 ]] {\r\n",
       "}\r\n",
       "comp usage \"n \" as E4  <<(T,blue) attribute>> [[psysml:16f4b3d0-0144-41cb-ad29-b9c3c07c611b ]] {\r\n",
       "}\r\n",
       "}\r\n",
       "rec usage \"v1: V\" as E5  [[psysml:b8cf69e7-8508-48d3-98c1-1a5aff225283 ]] {\r\n",
       "comp usage \"m \" as E6  <<(T,blue) attribute>> [[psysml:8ab4ea45-bcef-481a-a1e6-04e630fb5715 ]] {\r\n",
       "}\r\n",
       "}\r\n",
       "rec def \"W\" as E7  <<(T,blue) part  def>> [[psysml:75d7f18d-3bb0-43da-8a1f-920414b7c194 ]] {\r\n",
       "comp usage \"m \" as E8  <<(T,blue) attribute>> [[psysml:1da3bab2-1d8c-4ebe-95aa-17b6e9277a07 ]] {\r\n",
       "}\r\n",
       "}\r\n",
       "rec usage \"v2= W(); \" as E9  [[psysml:1ec49292-f6e0-4564-a681-346e27695197 ]] {\r\n",
       "}\r\n",
       "}\r\n",
       "E6 - -||> E3 [[psysml:df608862-84ce-4303-af6e-5dfc61cbb6d2 ]] \r\n",
       "E5 - -:|> E2 [[psysml:eb47ef55-8727-46f8-948e-289e011721f9 ]] \r\n",
       "E7 - -|> E2 [[psysml:3b658baa-aed2-418d-9cf3-f3993d6dea2d ]] \r\n",
       "E8 - -||> E3 [[psysml:d0f3a95a-9489-4833-bd9a-1794072888fe ]] \r\n",
       "@enduml\r\n",
       "\n",
       "PlantUML version 1.2020.13(Sat Jun 13 12:26:38 UTC 2020)\n",
       "(EPL source distribution)\n",
       "Java Runtime: OpenJDK Runtime Environment\n",
       "JVM: OpenJDK 64-Bit Server VM\n",
       "Default Encoding: UTF-8\n",
       "Language: en\n",
       "Country: null\n",
       "--></g></svg>"
      ]
     },
     "execution_count": 5,
     "metadata": {},
     "output_type": "execute_result"
    }
   ],
   "source": [
    "%viz --style=\"COMPTREE\" --view=\"Interconnection\" \"DefaultValueTest\""
   ]
  },
  {
   "cell_type": "code",
   "execution_count": 6,
   "id": "59334457",
   "metadata": {
    "execution": {
     "iopub.execute_input": "2022-07-23T10:55:43.023486Z",
     "iopub.status.busy": "2022-07-23T10:55:43.022815Z",
     "iopub.status.idle": "2022-07-23T10:55:43.030665Z",
     "shell.execute_reply": "2022-07-23T10:55:43.030998Z"
    }
   },
   "outputs": [
    {
     "data": {
      "image/svg+xml": [
       "<?xml version=\"1.0\" encoding=\"UTF-8\" standalone=\"no\"?><svg xmlns=\"http://www.w3.org/2000/svg\" xmlns:xlink=\"http://www.w3.org/1999/xlink\" contentScriptType=\"application/ecmascript\" contentStyleType=\"text/css\" height=\"12px\" preserveAspectRatio=\"none\" style=\"width:12px;height:12px;\" version=\"1.1\" viewBox=\"0 0 12 12\" width=\"12px\" zoomAndPan=\"magnify\"><defs/><g><!--MD5=[655b888544ca4751ea36af1068543f84]\n",
       "@startuml\r\n",
       "skinparam ranksep 8\r\n",
       " skinparam monochrome true\r\n",
       "skinparam classbackgroundcolor white\r\n",
       "skinparam shadowing false\r\n",
       "skinparam wrapWidth 300\r\n",
       "hide circle\r\n",
       "\r\n",
       "@enduml\r\n",
       "\n",
       "PlantUML version 1.2020.13(Sat Jun 13 12:26:38 UTC 2020)\n",
       "(EPL source distribution)\n",
       "Java Runtime: OpenJDK Runtime Environment\n",
       "JVM: OpenJDK 64-Bit Server VM\n",
       "Default Encoding: UTF-8\n",
       "Language: en\n",
       "Country: null\n",
       "--></g></svg>"
      ]
     },
     "execution_count": 6,
     "metadata": {},
     "output_type": "execute_result"
    }
   ],
   "source": [
    "%viz --style=\"COMPTREE\" --view=\"Action\" \"DefaultValueTest\""
   ]
  },
  {
   "cell_type": "code",
   "execution_count": 7,
   "id": "59effc81",
   "metadata": {
    "execution": {
     "iopub.execute_input": "2022-07-23T10:55:43.081988Z",
     "iopub.status.busy": "2022-07-23T10:55:43.081353Z",
     "iopub.status.idle": "2022-07-23T10:55:43.094969Z",
     "shell.execute_reply": "2022-07-23T10:55:43.094291Z"
    }
   },
   "outputs": [
    {
     "data": {
      "image/svg+xml": [
       "<?xml version=\"1.0\" encoding=\"UTF-8\" standalone=\"no\"?><svg xmlns=\"http://www.w3.org/2000/svg\" xmlns:xlink=\"http://www.w3.org/1999/xlink\" contentScriptType=\"application/ecmascript\" contentStyleType=\"text/css\" height=\"12px\" preserveAspectRatio=\"none\" style=\"width:12px;height:12px;\" version=\"1.1\" viewBox=\"0 0 12 12\" width=\"12px\" zoomAndPan=\"magnify\"><defs/><g><!--MD5=[803fc46c337be7a5c8a9831e35356779]\n",
       "@startuml\r\n",
       "skinparam roundcorner 20\r\n",
       "skinparam BoxPadding 20\r\n",
       "skinparam SequenceBoxBackgroundColor #white\r\n",
       "skinparam style strictuml\r\n",
       "skinparam maxMessageSize 100\r\n",
       " skinparam monochrome true\r\n",
       "skinparam classbackgroundcolor white\r\n",
       "skinparam shadowing false\r\n",
       "skinparam wrapWidth 300\r\n",
       "hide circle\r\n",
       "\r\n",
       "@enduml\r\n",
       "\n",
       "PlantUML version 1.2020.13(Sat Jun 13 12:26:38 UTC 2020)\n",
       "(EPL source distribution)\n",
       "Java Runtime: OpenJDK Runtime Environment\n",
       "JVM: OpenJDK 64-Bit Server VM\n",
       "Default Encoding: UTF-8\n",
       "Language: en\n",
       "Country: null\n",
       "--></g></svg>"
      ]
     },
     "execution_count": 7,
     "metadata": {},
     "output_type": "execute_result"
    }
   ],
   "source": [
    "%viz --style=\"COMPTREE\" --view=\"Sequence\" \"DefaultValueTest\""
   ]
  },
  {
   "cell_type": "code",
   "execution_count": 8,
   "id": "964b0870",
   "metadata": {
    "execution": {
     "iopub.execute_input": "2022-07-23T10:55:43.143814Z",
     "iopub.status.busy": "2022-07-23T10:55:43.143566Z",
     "iopub.status.idle": "2022-07-23T10:55:43.247678Z",
     "shell.execute_reply": "2022-07-23T10:55:43.246417Z"
    }
   },
   "outputs": [
    {
     "data": {
      "image/svg+xml": [
       "<?xml version=\"1.0\" encoding=\"UTF-8\" standalone=\"no\"?><svg xmlns=\"http://www.w3.org/2000/svg\" xmlns:xlink=\"http://www.w3.org/1999/xlink\" contentScriptType=\"application/ecmascript\" contentStyleType=\"text/css\" height=\"305px\" preserveAspectRatio=\"none\" style=\"width:349px;height:305px;\" version=\"1.1\" viewBox=\"0 0 349 305\" width=\"349px\" zoomAndPan=\"magnify\"><defs/><g><!--MD5=[fbc87193dbaf4d95561dea2c320d4a47]\n",
       "cluster E1--><a href=\"psysml:e41cdd27-e179-4271-915e-4358fc3ae044\" target=\"_top\" title=\"psysml:e41cdd27-e179-4271-915e-4358fc3ae044\" xlink:actuate=\"onRequest\" xlink:href=\"psysml:e41cdd27-e179-4271-915e-4358fc3ae044\" xlink:show=\"new\" xlink:title=\"psysml:e41cdd27-e179-4271-915e-4358fc3ae044\" xlink:type=\"simple\"><polygon fill=\"#FFFFFF\" points=\"16,6,140,6,147,28.2969,327,28.2969,327,293,16,293,16,6\" style=\"stroke: #000000; stroke-width: 1.5;\"/><line style=\"stroke: #000000; stroke-width: 1.5;\" x1=\"16\" x2=\"147\" y1=\"28.2969\" y2=\"28.2969\"/><text fill=\"#000000\" font-family=\"sans-serif\" font-size=\"14\" font-weight=\"bold\" lengthAdjust=\"spacingAndGlyphs\" textLength=\"118\" x=\"20\" y=\"20.9951\">DefaultValueTest</text></a><!--MD5=[b4997ac47864f28c2f74865a473b2911]\n",
       "class E2--><a href=\"psysml:95d35419-5cb2-4278-8f59-96945510244a\" target=\"_top\" title=\"psysml:95d35419-5cb2-4278-8f59-96945510244a\" xlink:actuate=\"onRequest\" xlink:href=\"psysml:95d35419-5cb2-4278-8f59-96945510244a\" xlink:show=\"new\" xlink:title=\"psysml:95d35419-5cb2-4278-8f59-96945510244a\" xlink:type=\"simple\"><rect fill=\"#FFFFFF\" height=\"88.3516\" id=\"E2\" style=\"stroke: #383838; stroke-width: 1.5;\" width=\"106\" x=\"156\" y=\"189\"/><text fill=\"#000000\" font-family=\"sans-serif\" font-size=\"12\" font-style=\"italic\" lengthAdjust=\"spacingAndGlyphs\" textLength=\"68\" x=\"175\" y=\"205.1387\">«part  def»</text><text fill=\"#000000\" font-family=\"sans-serif\" font-size=\"12\" lengthAdjust=\"spacingAndGlyphs\" textLength=\"8\" x=\"205\" y=\"219.1074\">V</text><line style=\"stroke: #383838; stroke-width: 1.5;\" x1=\"157\" x2=\"261\" y1=\"226.9375\" y2=\"226.9375\"/><text fill=\"#000000\" font-family=\"sans-serif\" font-size=\"11\" lengthAdjust=\"spacingAndGlyphs\" textLength=\"94\" x=\"162\" y=\"257.9526\">m=default = 10;</text><text fill=\"#000000\" font-family=\"sans-serif\" font-size=\"11\" lengthAdjust=\"spacingAndGlyphs\" textLength=\"38\" x=\"162\" y=\"270.7573\">n= 20;</text><line style=\"stroke: #383838; stroke-width: 1.0;\" x1=\"157\" x2=\"181.5\" y1=\"241.3398\" y2=\"241.3398\"/><text fill=\"#000000\" font-family=\"sans-serif\" font-size=\"11\" lengthAdjust=\"spacingAndGlyphs\" textLength=\"55\" x=\"181.5\" y=\"244.6479\">attributes</text><line style=\"stroke: #383838; stroke-width: 1.0;\" x1=\"236.5\" x2=\"261\" y1=\"241.3398\" y2=\"241.3398\"/></a><!--MD5=[09b614a08d8cba4a07c9adeb5e0fee81]\n",
       "class E3--><a href=\"psysml:b8cf69e7-8508-48d3-98c1-1a5aff225283\" target=\"_top\" title=\"psysml:b8cf69e7-8508-48d3-98c1-1a5aff225283\" xlink:actuate=\"onRequest\" xlink:href=\"psysml:b8cf69e7-8508-48d3-98c1-1a5aff225283\" xlink:show=\"new\" xlink:title=\"psysml:b8cf69e7-8508-48d3-98c1-1a5aff225283\" xlink:type=\"simple\"><rect fill=\"#FFFFFF\" height=\"88.3516\" id=\"E3\" rx=\"10\" ry=\"10\" style=\"stroke: #383838; stroke-width: 1.5;\" width=\"63\" x=\"247.5\" y=\"41\"/><text fill=\"#000000\" font-family=\"sans-serif\" font-size=\"12\" font-style=\"italic\" lengthAdjust=\"spacingAndGlyphs\" textLength=\"40\" x=\"259\" y=\"57.1387\">«part»</text><text fill=\"#000000\" font-family=\"sans-serif\" font-size=\"12\" lengthAdjust=\"spacingAndGlyphs\" textLength=\"30\" x=\"262\" y=\"71.1074\">v1: V</text><line style=\"stroke: #383838; stroke-width: 1.5;\" x1=\"248.5\" x2=\"309.5\" y1=\"78.9375\" y2=\"78.9375\"/><text fill=\"#000000\" font-family=\"sans-serif\" font-size=\"11\" lengthAdjust=\"spacingAndGlyphs\" textLength=\"42\" x=\"253.5\" y=\"109.9526\">m= 20;</text><text fill=\"#000000\" font-family=\"sans-serif\" font-size=\"11\" font-style=\"italic\" lengthAdjust=\"spacingAndGlyphs\" textLength=\"48\" x=\"253.5\" y=\"122.7573\">:&gt;&gt;V::m</text><line style=\"stroke: #383838; stroke-width: 1.0;\" x1=\"248.5\" x2=\"251.5\" y1=\"93.3398\" y2=\"93.3398\"/><text fill=\"#000000\" font-family=\"sans-serif\" font-size=\"11\" lengthAdjust=\"spacingAndGlyphs\" textLength=\"55\" x=\"251.5\" y=\"96.6479\">attributes</text><line style=\"stroke: #383838; stroke-width: 1.0;\" x1=\"306.5\" x2=\"309.5\" y1=\"93.3398\" y2=\"93.3398\"/></a><!--MD5=[ebbe1d658d1005bcc118a6aa81145e00]\n",
       "class E4--><a href=\"psysml:75d7f18d-3bb0-43da-8a1f-920414b7c194\" target=\"_top\" title=\"psysml:75d7f18d-3bb0-43da-8a1f-920414b7c194\" xlink:actuate=\"onRequest\" xlink:href=\"psysml:75d7f18d-3bb0-43da-8a1f-920414b7c194\" xlink:show=\"new\" xlink:title=\"psysml:75d7f18d-3bb0-43da-8a1f-920414b7c194\" xlink:type=\"simple\"><rect fill=\"#FFFFFF\" height=\"88.3516\" id=\"E4\" style=\"stroke: #383838; stroke-width: 1.5;\" width=\"103\" x=\"109.5\" y=\"41\"/><text fill=\"#000000\" font-family=\"sans-serif\" font-size=\"12\" font-style=\"italic\" lengthAdjust=\"spacingAndGlyphs\" textLength=\"68\" x=\"127\" y=\"57.1387\">«part  def»</text><text fill=\"#000000\" font-family=\"sans-serif\" font-size=\"12\" lengthAdjust=\"spacingAndGlyphs\" textLength=\"11\" x=\"155.5\" y=\"71.1074\">W</text><line style=\"stroke: #383838; stroke-width: 1.5;\" x1=\"110.5\" x2=\"211.5\" y1=\"78.9375\" y2=\"78.9375\"/><text fill=\"#000000\" font-family=\"sans-serif\" font-size=\"11\" lengthAdjust=\"spacingAndGlyphs\" textLength=\"87\" x=\"115.5\" y=\"109.9526\">m=default = n;</text><text fill=\"#000000\" font-family=\"sans-serif\" font-size=\"11\" font-style=\"italic\" lengthAdjust=\"spacingAndGlyphs\" textLength=\"48\" x=\"115.5\" y=\"122.7573\">:&gt;&gt;V::m</text><line style=\"stroke: #383838; stroke-width: 1.0;\" x1=\"110.5\" x2=\"133.5\" y1=\"93.3398\" y2=\"93.3398\"/><text fill=\"#000000\" font-family=\"sans-serif\" font-size=\"11\" lengthAdjust=\"spacingAndGlyphs\" textLength=\"55\" x=\"133.5\" y=\"96.6479\">attributes</text><line style=\"stroke: #383838; stroke-width: 1.0;\" x1=\"188.5\" x2=\"211.5\" y1=\"93.3398\" y2=\"93.3398\"/></a><!--MD5=[270fce915f116d4de14055a7c1d9a0f3]\n",
       "class E5--><a href=\"psysml:1ec49292-f6e0-4564-a681-346e27695197\" target=\"_top\" title=\"psysml:1ec49292-f6e0-4564-a681-346e27695197\" xlink:actuate=\"onRequest\" xlink:href=\"psysml:1ec49292-f6e0-4564-a681-346e27695197\" xlink:show=\"new\" xlink:title=\"psysml:1ec49292-f6e0-4564-a681-346e27695197\" xlink:type=\"simple\"><rect fill=\"#FFFFFF\" height=\"45.9375\" id=\"E5\" rx=\"10\" ry=\"10\" style=\"stroke: #383838; stroke-width: 1.5;\" width=\"42\" x=\"32\" y=\"62\"/><text fill=\"#000000\" font-family=\"sans-serif\" font-size=\"12\" font-style=\"italic\" lengthAdjust=\"spacingAndGlyphs\" textLength=\"40\" x=\"33\" y=\"78.1387\">«part»</text><text fill=\"#000000\" font-family=\"sans-serif\" font-size=\"12\" lengthAdjust=\"spacingAndGlyphs\" textLength=\"14\" x=\"44\" y=\"92.1074\">v2</text><line style=\"stroke: #383838; stroke-width: 1.5;\" x1=\"33\" x2=\"73\" y1=\"99.9375\" y2=\"99.9375\"/></a><!--MD5=[05d275557350bfb9b23a4ef7222b4c39]\n",
       "link E3 to E2--><a href=\"psysml:eb47ef55-8727-46f8-948e-289e011721f9\" target=\"_top\" title=\"psysml:eb47ef55-8727-46f8-948e-289e011721f9\" xlink:actuate=\"onRequest\" xlink:href=\"psysml:eb47ef55-8727-46f8-948e-289e011721f9\" xlink:show=\"new\" xlink:title=\"psysml:eb47ef55-8727-46f8-948e-289e011721f9\" xlink:type=\"simple\"><path d=\"M258.38,129.02 C252.17,141.97 245.22,156.45 238.55,170.36 \" fill=\"none\" id=\"E3-&gt;E2\" style=\"stroke: #383838; stroke-width: 1.0;\"/><polygon fill=\"#FFFFFF\" points=\"229.72,188.79,231.6151,168.6304,244.2413,174.6786,229.72,188.79\" style=\"stroke: #383838; stroke-width: 1.0;\"/><ellipse cx=\"235.8813\" cy=\"164.3538\" fill=\"#383838\" rx=\"2\" ry=\"2\" style=\"stroke: #383838; stroke-width: 1.0;\"/><ellipse cx=\"244.9\" cy=\"168.6739\" fill=\"#383838\" rx=\"2\" ry=\"2\" style=\"stroke: #383838; stroke-width: 1.0;\"/></a><!--MD5=[185131fc0dcab0a4505a2ebe144e961b]\n",
       "link E4 to E2--><a href=\"psysml:3b658baa-aed2-418d-9cf3-f3993d6dea2d\" target=\"_top\" title=\"psysml:3b658baa-aed2-418d-9cf3-f3993d6dea2d\" xlink:actuate=\"onRequest\" xlink:href=\"psysml:3b658baa-aed2-418d-9cf3-f3993d6dea2d\" xlink:show=\"new\" xlink:title=\"psysml:3b658baa-aed2-418d-9cf3-f3993d6dea2d\" xlink:type=\"simple\"><path d=\"M175.14,129.02 C179.3,141.67 183.94,155.79 188.42,169.41 \" fill=\"none\" id=\"E4-&gt;E2\" style=\"stroke: #383838; stroke-width: 1.0;\"/><polygon fill=\"none\" points=\"195.2,167.6,194.79,188.79,181.9,171.97,195.2,167.6\" style=\"stroke: #383838; stroke-width: 1.0;\"/></a><!--MD5=[9cbe40a4f820195aee62795070a3faf6]\n",
       "@startuml\r\n",
       " skinparam monochrome true\r\n",
       "skinparam classbackgroundcolor white\r\n",
       "skinparam shadowing false\r\n",
       "skinparam wrapWidth 300\r\n",
       "hide circle\r\n",
       "\r\n",
       "package \"DefaultValueTest\" as E1  [[psysml:e41cdd27-e179-4271-915e-4358fc3ae044 ]]  {\r\n",
       "comp def \"V\" as E2  <<(T,blue) part  def>> [[psysml:95d35419-5cb2-4278-8f59-96945510244a ]] {\r\n",
       "- - attributes - -\r\n",
       "m=default = 10; \r\n",
       "n= 20; \r\n",
       "}\r\n",
       "comp usage \"v1: V \" as E3  <<(T,blue) part>> [[psysml:b8cf69e7-8508-48d3-98c1-1a5aff225283 ]] {\r\n",
       "- - attributes - -\r\n",
       "m= 20; \\n//:>>V::m// \r\n",
       "}\r\n",
       "comp def \"W\" as E4  <<(T,blue) part  def>> [[psysml:75d7f18d-3bb0-43da-8a1f-920414b7c194 ]] {\r\n",
       "- - attributes - -\r\n",
       "m=default = n; \\n//:>>V::m// \r\n",
       "}\r\n",
       "comp usage \"v2 \" as E5  <<(T,blue) part>> [[psysml:1ec49292-f6e0-4564-a681-346e27695197 ]] {\r\n",
       "}\r\n",
       "}\r\n",
       "E3 - -:|> E2 [[psysml:eb47ef55-8727-46f8-948e-289e011721f9 ]] \r\n",
       "E4 - -|> E2 [[psysml:3b658baa-aed2-418d-9cf3-f3993d6dea2d ]] \r\n",
       "@enduml\r\n",
       "\n",
       "PlantUML version 1.2020.13(Sat Jun 13 12:26:38 UTC 2020)\n",
       "(EPL source distribution)\n",
       "Java Runtime: OpenJDK Runtime Environment\n",
       "JVM: OpenJDK 64-Bit Server VM\n",
       "Default Encoding: UTF-8\n",
       "Language: en\n",
       "Country: null\n",
       "--></g></svg>"
      ]
     },
     "execution_count": 8,
     "metadata": {},
     "output_type": "execute_result"
    }
   ],
   "source": [
    "%viz --style=\"COMPTREE\" --view=\"MIXED\" \"DefaultValueTest\""
   ]
  },
  {
   "cell_type": "code",
   "execution_count": 9,
   "id": "4087e1d2",
   "metadata": {
    "execution": {
     "iopub.execute_input": "2022-07-23T10:55:43.297190Z",
     "iopub.status.busy": "2022-07-23T10:55:43.296754Z",
     "iopub.status.idle": "2022-07-23T10:55:43.354777Z",
     "shell.execute_reply": "2022-07-23T10:55:43.352599Z"
    }
   },
   "outputs": [
    {
     "data": {
      "image/svg+xml": [
       "<?xml version=\"1.0\" encoding=\"UTF-8\" standalone=\"no\"?><svg xmlns=\"http://www.w3.org/2000/svg\" xmlns:xlink=\"http://www.w3.org/1999/xlink\" contentScriptType=\"application/ecmascript\" contentStyleType=\"text/css\" height=\"305px\" preserveAspectRatio=\"none\" style=\"width:349px;height:305px;\" version=\"1.1\" viewBox=\"0 0 349 305\" width=\"349px\" zoomAndPan=\"magnify\"><defs/><g><!--MD5=[fbc87193dbaf4d95561dea2c320d4a47]\n",
       "cluster E1--><a href=\"psysml:e41cdd27-e179-4271-915e-4358fc3ae044\" target=\"_top\" title=\"psysml:e41cdd27-e179-4271-915e-4358fc3ae044\" xlink:actuate=\"onRequest\" xlink:href=\"psysml:e41cdd27-e179-4271-915e-4358fc3ae044\" xlink:show=\"new\" xlink:title=\"psysml:e41cdd27-e179-4271-915e-4358fc3ae044\" xlink:type=\"simple\"><polygon fill=\"#FFFFFF\" points=\"16,6,140,6,147,28.2969,327,28.2969,327,293,16,293,16,6\" style=\"stroke: #000000; stroke-width: 1.5;\"/><line style=\"stroke: #000000; stroke-width: 1.5;\" x1=\"16\" x2=\"147\" y1=\"28.2969\" y2=\"28.2969\"/><text fill=\"#000000\" font-family=\"sans-serif\" font-size=\"14\" font-weight=\"bold\" lengthAdjust=\"spacingAndGlyphs\" textLength=\"118\" x=\"20\" y=\"20.9951\">DefaultValueTest</text></a><!--MD5=[b4997ac47864f28c2f74865a473b2911]\n",
       "class E2--><a href=\"psysml:95d35419-5cb2-4278-8f59-96945510244a\" target=\"_top\" title=\"psysml:95d35419-5cb2-4278-8f59-96945510244a\" xlink:actuate=\"onRequest\" xlink:href=\"psysml:95d35419-5cb2-4278-8f59-96945510244a\" xlink:show=\"new\" xlink:title=\"psysml:95d35419-5cb2-4278-8f59-96945510244a\" xlink:type=\"simple\"><rect fill=\"#FFFFFF\" height=\"88.3516\" id=\"E2\" style=\"stroke: #383838; stroke-width: 1.5;\" width=\"106\" x=\"156\" y=\"189\"/><text fill=\"#000000\" font-family=\"sans-serif\" font-size=\"12\" font-style=\"italic\" lengthAdjust=\"spacingAndGlyphs\" textLength=\"68\" x=\"175\" y=\"205.1387\">«part  def»</text><text fill=\"#000000\" font-family=\"sans-serif\" font-size=\"12\" lengthAdjust=\"spacingAndGlyphs\" textLength=\"8\" x=\"205\" y=\"219.1074\">V</text><line style=\"stroke: #383838; stroke-width: 1.5;\" x1=\"157\" x2=\"261\" y1=\"226.9375\" y2=\"226.9375\"/><text fill=\"#000000\" font-family=\"sans-serif\" font-size=\"11\" lengthAdjust=\"spacingAndGlyphs\" textLength=\"94\" x=\"162\" y=\"257.9526\">m=default = 10;</text><text fill=\"#000000\" font-family=\"sans-serif\" font-size=\"11\" lengthAdjust=\"spacingAndGlyphs\" textLength=\"38\" x=\"162\" y=\"270.7573\">n= 20;</text><line style=\"stroke: #383838; stroke-width: 1.0;\" x1=\"157\" x2=\"181.5\" y1=\"241.3398\" y2=\"241.3398\"/><text fill=\"#000000\" font-family=\"sans-serif\" font-size=\"11\" lengthAdjust=\"spacingAndGlyphs\" textLength=\"55\" x=\"181.5\" y=\"244.6479\">attributes</text><line style=\"stroke: #383838; stroke-width: 1.0;\" x1=\"236.5\" x2=\"261\" y1=\"241.3398\" y2=\"241.3398\"/></a><!--MD5=[09b614a08d8cba4a07c9adeb5e0fee81]\n",
       "class E3--><a href=\"psysml:b8cf69e7-8508-48d3-98c1-1a5aff225283\" target=\"_top\" title=\"psysml:b8cf69e7-8508-48d3-98c1-1a5aff225283\" xlink:actuate=\"onRequest\" xlink:href=\"psysml:b8cf69e7-8508-48d3-98c1-1a5aff225283\" xlink:show=\"new\" xlink:title=\"psysml:b8cf69e7-8508-48d3-98c1-1a5aff225283\" xlink:type=\"simple\"><rect fill=\"#FFFFFF\" height=\"88.3516\" id=\"E3\" rx=\"10\" ry=\"10\" style=\"stroke: #383838; stroke-width: 1.5;\" width=\"63\" x=\"247.5\" y=\"41\"/><text fill=\"#000000\" font-family=\"sans-serif\" font-size=\"12\" font-style=\"italic\" lengthAdjust=\"spacingAndGlyphs\" textLength=\"40\" x=\"259\" y=\"57.1387\">«part»</text><text fill=\"#000000\" font-family=\"sans-serif\" font-size=\"12\" lengthAdjust=\"spacingAndGlyphs\" textLength=\"30\" x=\"262\" y=\"71.1074\">v1: V</text><line style=\"stroke: #383838; stroke-width: 1.5;\" x1=\"248.5\" x2=\"309.5\" y1=\"78.9375\" y2=\"78.9375\"/><text fill=\"#000000\" font-family=\"sans-serif\" font-size=\"11\" lengthAdjust=\"spacingAndGlyphs\" textLength=\"42\" x=\"253.5\" y=\"109.9526\">m= 20;</text><text fill=\"#000000\" font-family=\"sans-serif\" font-size=\"11\" font-style=\"italic\" lengthAdjust=\"spacingAndGlyphs\" textLength=\"48\" x=\"253.5\" y=\"122.7573\">:&gt;&gt;V::m</text><line style=\"stroke: #383838; stroke-width: 1.0;\" x1=\"248.5\" x2=\"251.5\" y1=\"93.3398\" y2=\"93.3398\"/><text fill=\"#000000\" font-family=\"sans-serif\" font-size=\"11\" lengthAdjust=\"spacingAndGlyphs\" textLength=\"55\" x=\"251.5\" y=\"96.6479\">attributes</text><line style=\"stroke: #383838; stroke-width: 1.0;\" x1=\"306.5\" x2=\"309.5\" y1=\"93.3398\" y2=\"93.3398\"/></a><!--MD5=[ebbe1d658d1005bcc118a6aa81145e00]\n",
       "class E4--><a href=\"psysml:75d7f18d-3bb0-43da-8a1f-920414b7c194\" target=\"_top\" title=\"psysml:75d7f18d-3bb0-43da-8a1f-920414b7c194\" xlink:actuate=\"onRequest\" xlink:href=\"psysml:75d7f18d-3bb0-43da-8a1f-920414b7c194\" xlink:show=\"new\" xlink:title=\"psysml:75d7f18d-3bb0-43da-8a1f-920414b7c194\" xlink:type=\"simple\"><rect fill=\"#FFFFFF\" height=\"88.3516\" id=\"E4\" style=\"stroke: #383838; stroke-width: 1.5;\" width=\"103\" x=\"109.5\" y=\"41\"/><text fill=\"#000000\" font-family=\"sans-serif\" font-size=\"12\" font-style=\"italic\" lengthAdjust=\"spacingAndGlyphs\" textLength=\"68\" x=\"127\" y=\"57.1387\">«part  def»</text><text fill=\"#000000\" font-family=\"sans-serif\" font-size=\"12\" lengthAdjust=\"spacingAndGlyphs\" textLength=\"11\" x=\"155.5\" y=\"71.1074\">W</text><line style=\"stroke: #383838; stroke-width: 1.5;\" x1=\"110.5\" x2=\"211.5\" y1=\"78.9375\" y2=\"78.9375\"/><text fill=\"#000000\" font-family=\"sans-serif\" font-size=\"11\" lengthAdjust=\"spacingAndGlyphs\" textLength=\"87\" x=\"115.5\" y=\"109.9526\">m=default = n;</text><text fill=\"#000000\" font-family=\"sans-serif\" font-size=\"11\" font-style=\"italic\" lengthAdjust=\"spacingAndGlyphs\" textLength=\"48\" x=\"115.5\" y=\"122.7573\">:&gt;&gt;V::m</text><line style=\"stroke: #383838; stroke-width: 1.0;\" x1=\"110.5\" x2=\"133.5\" y1=\"93.3398\" y2=\"93.3398\"/><text fill=\"#000000\" font-family=\"sans-serif\" font-size=\"11\" lengthAdjust=\"spacingAndGlyphs\" textLength=\"55\" x=\"133.5\" y=\"96.6479\">attributes</text><line style=\"stroke: #383838; stroke-width: 1.0;\" x1=\"188.5\" x2=\"211.5\" y1=\"93.3398\" y2=\"93.3398\"/></a><!--MD5=[270fce915f116d4de14055a7c1d9a0f3]\n",
       "class E5--><a href=\"psysml:1ec49292-f6e0-4564-a681-346e27695197\" target=\"_top\" title=\"psysml:1ec49292-f6e0-4564-a681-346e27695197\" xlink:actuate=\"onRequest\" xlink:href=\"psysml:1ec49292-f6e0-4564-a681-346e27695197\" xlink:show=\"new\" xlink:title=\"psysml:1ec49292-f6e0-4564-a681-346e27695197\" xlink:type=\"simple\"><rect fill=\"#FFFFFF\" height=\"45.9375\" id=\"E5\" rx=\"10\" ry=\"10\" style=\"stroke: #383838; stroke-width: 1.5;\" width=\"42\" x=\"32\" y=\"62\"/><text fill=\"#000000\" font-family=\"sans-serif\" font-size=\"12\" font-style=\"italic\" lengthAdjust=\"spacingAndGlyphs\" textLength=\"40\" x=\"33\" y=\"78.1387\">«part»</text><text fill=\"#000000\" font-family=\"sans-serif\" font-size=\"12\" lengthAdjust=\"spacingAndGlyphs\" textLength=\"14\" x=\"44\" y=\"92.1074\">v2</text><line style=\"stroke: #383838; stroke-width: 1.5;\" x1=\"33\" x2=\"73\" y1=\"99.9375\" y2=\"99.9375\"/></a><!--MD5=[05d275557350bfb9b23a4ef7222b4c39]\n",
       "link E3 to E2--><a href=\"psysml:eb47ef55-8727-46f8-948e-289e011721f9\" target=\"_top\" title=\"psysml:eb47ef55-8727-46f8-948e-289e011721f9\" xlink:actuate=\"onRequest\" xlink:href=\"psysml:eb47ef55-8727-46f8-948e-289e011721f9\" xlink:show=\"new\" xlink:title=\"psysml:eb47ef55-8727-46f8-948e-289e011721f9\" xlink:type=\"simple\"><path d=\"M258.38,129.02 C252.17,141.97 245.22,156.45 238.55,170.36 \" fill=\"none\" id=\"E3-&gt;E2\" style=\"stroke: #383838; stroke-width: 1.0;\"/><polygon fill=\"#FFFFFF\" points=\"229.72,188.79,231.6151,168.6304,244.2413,174.6786,229.72,188.79\" style=\"stroke: #383838; stroke-width: 1.0;\"/><ellipse cx=\"235.8813\" cy=\"164.3538\" fill=\"#383838\" rx=\"2\" ry=\"2\" style=\"stroke: #383838; stroke-width: 1.0;\"/><ellipse cx=\"244.9\" cy=\"168.6739\" fill=\"#383838\" rx=\"2\" ry=\"2\" style=\"stroke: #383838; stroke-width: 1.0;\"/></a><!--MD5=[185131fc0dcab0a4505a2ebe144e961b]\n",
       "link E4 to E2--><a href=\"psysml:3b658baa-aed2-418d-9cf3-f3993d6dea2d\" target=\"_top\" title=\"psysml:3b658baa-aed2-418d-9cf3-f3993d6dea2d\" xlink:actuate=\"onRequest\" xlink:href=\"psysml:3b658baa-aed2-418d-9cf3-f3993d6dea2d\" xlink:show=\"new\" xlink:title=\"psysml:3b658baa-aed2-418d-9cf3-f3993d6dea2d\" xlink:type=\"simple\"><path d=\"M175.14,129.02 C179.3,141.67 183.94,155.79 188.42,169.41 \" fill=\"none\" id=\"E4-&gt;E2\" style=\"stroke: #383838; stroke-width: 1.0;\"/><polygon fill=\"none\" points=\"195.2,167.6,194.79,188.79,181.9,171.97,195.2,167.6\" style=\"stroke: #383838; stroke-width: 1.0;\"/></a><!--MD5=[8cea45f41a5c691b5bcce11c2fd53721]\n",
       "@startuml\r\n",
       "skinparam linetype polyline\r\n",
       "skinparam monochrome true\r\n",
       "skinparam classbackgroundcolor white\r\n",
       "skinparam shadowing false\r\n",
       "skinparam wrapWidth 300\r\n",
       "hide circle\r\n",
       "\r\n",
       "package \"DefaultValueTest\" as E1  [[psysml:e41cdd27-e179-4271-915e-4358fc3ae044 ]]  {\r\n",
       "comp def \"V\" as E2  <<(T,blue) part  def>> [[psysml:95d35419-5cb2-4278-8f59-96945510244a ]] {\r\n",
       "- - attributes - -\r\n",
       "m=default = 10; \r\n",
       "n= 20; \r\n",
       "}\r\n",
       "comp usage \"v1: V \" as E3  <<(T,blue) part>> [[psysml:b8cf69e7-8508-48d3-98c1-1a5aff225283 ]] {\r\n",
       "- - attributes - -\r\n",
       "m= 20; \\n//:>>V::m// \r\n",
       "}\r\n",
       "comp def \"W\" as E4  <<(T,blue) part  def>> [[psysml:75d7f18d-3bb0-43da-8a1f-920414b7c194 ]] {\r\n",
       "- - attributes - -\r\n",
       "m=default = n; \\n//:>>V::m// \r\n",
       "}\r\n",
       "comp usage \"v2 \" as E5  <<(T,blue) part>> [[psysml:1ec49292-f6e0-4564-a681-346e27695197 ]] {\r\n",
       "}\r\n",
       "}\r\n",
       "E3 - -:|> E2 [[psysml:eb47ef55-8727-46f8-948e-289e011721f9 ]] \r\n",
       "E4 - -|> E2 [[psysml:3b658baa-aed2-418d-9cf3-f3993d6dea2d ]] \r\n",
       "@enduml\r\n",
       "\n",
       "PlantUML version 1.2020.13(Sat Jun 13 12:26:38 UTC 2020)\n",
       "(EPL source distribution)\n",
       "Java Runtime: OpenJDK Runtime Environment\n",
       "JVM: OpenJDK 64-Bit Server VM\n",
       "Default Encoding: UTF-8\n",
       "Language: en\n",
       "Country: null\n",
       "--></g></svg>"
      ]
     },
     "execution_count": 9,
     "metadata": {},
     "output_type": "execute_result"
    }
   ],
   "source": [
    "%viz --style=\"POLYLINE\" --view=\"Default\" \"DefaultValueTest\""
   ]
  },
  {
   "cell_type": "code",
   "execution_count": 10,
   "id": "882ddebc",
   "metadata": {
    "execution": {
     "iopub.execute_input": "2022-07-23T10:55:43.403626Z",
     "iopub.status.busy": "2022-07-23T10:55:43.403108Z",
     "iopub.status.idle": "2022-07-23T10:55:43.497602Z",
     "shell.execute_reply": "2022-07-23T10:55:43.495963Z"
    }
   },
   "outputs": [
    {
     "data": {
      "image/svg+xml": [
       "<?xml version=\"1.0\" encoding=\"UTF-8\" standalone=\"no\"?><svg xmlns=\"http://www.w3.org/2000/svg\" xmlns:xlink=\"http://www.w3.org/1999/xlink\" contentScriptType=\"application/ecmascript\" contentStyleType=\"text/css\" height=\"305px\" preserveAspectRatio=\"none\" style=\"width:349px;height:305px;\" version=\"1.1\" viewBox=\"0 0 349 305\" width=\"349px\" zoomAndPan=\"magnify\"><defs/><g><!--MD5=[fbc87193dbaf4d95561dea2c320d4a47]\n",
       "cluster E1--><a href=\"psysml:e41cdd27-e179-4271-915e-4358fc3ae044\" target=\"_top\" title=\"psysml:e41cdd27-e179-4271-915e-4358fc3ae044\" xlink:actuate=\"onRequest\" xlink:href=\"psysml:e41cdd27-e179-4271-915e-4358fc3ae044\" xlink:show=\"new\" xlink:title=\"psysml:e41cdd27-e179-4271-915e-4358fc3ae044\" xlink:type=\"simple\"><polygon fill=\"#FFFFFF\" points=\"16,6,140,6,147,28.2969,327,28.2969,327,293,16,293,16,6\" style=\"stroke: #000000; stroke-width: 1.5;\"/><line style=\"stroke: #000000; stroke-width: 1.5;\" x1=\"16\" x2=\"147\" y1=\"28.2969\" y2=\"28.2969\"/><text fill=\"#000000\" font-family=\"sans-serif\" font-size=\"14\" font-weight=\"bold\" lengthAdjust=\"spacingAndGlyphs\" textLength=\"118\" x=\"20\" y=\"20.9951\">DefaultValueTest</text></a><!--MD5=[b4997ac47864f28c2f74865a473b2911]\n",
       "class E2--><a href=\"psysml:95d35419-5cb2-4278-8f59-96945510244a\" target=\"_top\" title=\"psysml:95d35419-5cb2-4278-8f59-96945510244a\" xlink:actuate=\"onRequest\" xlink:href=\"psysml:95d35419-5cb2-4278-8f59-96945510244a\" xlink:show=\"new\" xlink:title=\"psysml:95d35419-5cb2-4278-8f59-96945510244a\" xlink:type=\"simple\"><rect fill=\"#FFFFFF\" height=\"88.3516\" id=\"E2\" style=\"stroke: #383838; stroke-width: 1.5;\" width=\"106\" x=\"156\" y=\"189\"/><text fill=\"#000000\" font-family=\"sans-serif\" font-size=\"12\" font-style=\"italic\" lengthAdjust=\"spacingAndGlyphs\" textLength=\"68\" x=\"175\" y=\"205.1387\">«part  def»</text><text fill=\"#000000\" font-family=\"sans-serif\" font-size=\"12\" lengthAdjust=\"spacingAndGlyphs\" textLength=\"8\" x=\"205\" y=\"219.1074\">V</text><line style=\"stroke: #383838; stroke-width: 1.5;\" x1=\"157\" x2=\"261\" y1=\"226.9375\" y2=\"226.9375\"/><text fill=\"#000000\" font-family=\"sans-serif\" font-size=\"11\" lengthAdjust=\"spacingAndGlyphs\" textLength=\"94\" x=\"162\" y=\"257.9526\">m=default = 10;</text><text fill=\"#000000\" font-family=\"sans-serif\" font-size=\"11\" lengthAdjust=\"spacingAndGlyphs\" textLength=\"38\" x=\"162\" y=\"270.7573\">n= 20;</text><line style=\"stroke: #383838; stroke-width: 1.0;\" x1=\"157\" x2=\"181.5\" y1=\"241.3398\" y2=\"241.3398\"/><text fill=\"#000000\" font-family=\"sans-serif\" font-size=\"11\" lengthAdjust=\"spacingAndGlyphs\" textLength=\"55\" x=\"181.5\" y=\"244.6479\">attributes</text><line style=\"stroke: #383838; stroke-width: 1.0;\" x1=\"236.5\" x2=\"261\" y1=\"241.3398\" y2=\"241.3398\"/></a><!--MD5=[09b614a08d8cba4a07c9adeb5e0fee81]\n",
       "class E3--><a href=\"psysml:b8cf69e7-8508-48d3-98c1-1a5aff225283\" target=\"_top\" title=\"psysml:b8cf69e7-8508-48d3-98c1-1a5aff225283\" xlink:actuate=\"onRequest\" xlink:href=\"psysml:b8cf69e7-8508-48d3-98c1-1a5aff225283\" xlink:show=\"new\" xlink:title=\"psysml:b8cf69e7-8508-48d3-98c1-1a5aff225283\" xlink:type=\"simple\"><rect fill=\"#FFFFFF\" height=\"88.3516\" id=\"E3\" rx=\"10\" ry=\"10\" style=\"stroke: #383838; stroke-width: 1.5;\" width=\"63\" x=\"247.5\" y=\"41\"/><text fill=\"#000000\" font-family=\"sans-serif\" font-size=\"12\" font-style=\"italic\" lengthAdjust=\"spacingAndGlyphs\" textLength=\"40\" x=\"259\" y=\"57.1387\">«part»</text><text fill=\"#000000\" font-family=\"sans-serif\" font-size=\"12\" lengthAdjust=\"spacingAndGlyphs\" textLength=\"30\" x=\"262\" y=\"71.1074\">v1: V</text><line style=\"stroke: #383838; stroke-width: 1.5;\" x1=\"248.5\" x2=\"309.5\" y1=\"78.9375\" y2=\"78.9375\"/><text fill=\"#000000\" font-family=\"sans-serif\" font-size=\"11\" lengthAdjust=\"spacingAndGlyphs\" textLength=\"42\" x=\"253.5\" y=\"109.9526\">m= 20;</text><text fill=\"#000000\" font-family=\"sans-serif\" font-size=\"11\" font-style=\"italic\" lengthAdjust=\"spacingAndGlyphs\" textLength=\"48\" x=\"253.5\" y=\"122.7573\">:&gt;&gt;V::m</text><line style=\"stroke: #383838; stroke-width: 1.0;\" x1=\"248.5\" x2=\"251.5\" y1=\"93.3398\" y2=\"93.3398\"/><text fill=\"#000000\" font-family=\"sans-serif\" font-size=\"11\" lengthAdjust=\"spacingAndGlyphs\" textLength=\"55\" x=\"251.5\" y=\"96.6479\">attributes</text><line style=\"stroke: #383838; stroke-width: 1.0;\" x1=\"306.5\" x2=\"309.5\" y1=\"93.3398\" y2=\"93.3398\"/></a><!--MD5=[ebbe1d658d1005bcc118a6aa81145e00]\n",
       "class E4--><a href=\"psysml:75d7f18d-3bb0-43da-8a1f-920414b7c194\" target=\"_top\" title=\"psysml:75d7f18d-3bb0-43da-8a1f-920414b7c194\" xlink:actuate=\"onRequest\" xlink:href=\"psysml:75d7f18d-3bb0-43da-8a1f-920414b7c194\" xlink:show=\"new\" xlink:title=\"psysml:75d7f18d-3bb0-43da-8a1f-920414b7c194\" xlink:type=\"simple\"><rect fill=\"#FFFFFF\" height=\"88.3516\" id=\"E4\" style=\"stroke: #383838; stroke-width: 1.5;\" width=\"103\" x=\"109.5\" y=\"41\"/><text fill=\"#000000\" font-family=\"sans-serif\" font-size=\"12\" font-style=\"italic\" lengthAdjust=\"spacingAndGlyphs\" textLength=\"68\" x=\"127\" y=\"57.1387\">«part  def»</text><text fill=\"#000000\" font-family=\"sans-serif\" font-size=\"12\" lengthAdjust=\"spacingAndGlyphs\" textLength=\"11\" x=\"155.5\" y=\"71.1074\">W</text><line style=\"stroke: #383838; stroke-width: 1.5;\" x1=\"110.5\" x2=\"211.5\" y1=\"78.9375\" y2=\"78.9375\"/><text fill=\"#000000\" font-family=\"sans-serif\" font-size=\"11\" lengthAdjust=\"spacingAndGlyphs\" textLength=\"87\" x=\"115.5\" y=\"109.9526\">m=default = n;</text><text fill=\"#000000\" font-family=\"sans-serif\" font-size=\"11\" font-style=\"italic\" lengthAdjust=\"spacingAndGlyphs\" textLength=\"48\" x=\"115.5\" y=\"122.7573\">:&gt;&gt;V::m</text><line style=\"stroke: #383838; stroke-width: 1.0;\" x1=\"110.5\" x2=\"133.5\" y1=\"93.3398\" y2=\"93.3398\"/><text fill=\"#000000\" font-family=\"sans-serif\" font-size=\"11\" lengthAdjust=\"spacingAndGlyphs\" textLength=\"55\" x=\"133.5\" y=\"96.6479\">attributes</text><line style=\"stroke: #383838; stroke-width: 1.0;\" x1=\"188.5\" x2=\"211.5\" y1=\"93.3398\" y2=\"93.3398\"/></a><!--MD5=[270fce915f116d4de14055a7c1d9a0f3]\n",
       "class E5--><a href=\"psysml:1ec49292-f6e0-4564-a681-346e27695197\" target=\"_top\" title=\"psysml:1ec49292-f6e0-4564-a681-346e27695197\" xlink:actuate=\"onRequest\" xlink:href=\"psysml:1ec49292-f6e0-4564-a681-346e27695197\" xlink:show=\"new\" xlink:title=\"psysml:1ec49292-f6e0-4564-a681-346e27695197\" xlink:type=\"simple\"><rect fill=\"#FFFFFF\" height=\"45.9375\" id=\"E5\" rx=\"10\" ry=\"10\" style=\"stroke: #383838; stroke-width: 1.5;\" width=\"42\" x=\"32\" y=\"62\"/><text fill=\"#000000\" font-family=\"sans-serif\" font-size=\"12\" font-style=\"italic\" lengthAdjust=\"spacingAndGlyphs\" textLength=\"40\" x=\"33\" y=\"78.1387\">«part»</text><text fill=\"#000000\" font-family=\"sans-serif\" font-size=\"12\" lengthAdjust=\"spacingAndGlyphs\" textLength=\"14\" x=\"44\" y=\"92.1074\">v2</text><line style=\"stroke: #383838; stroke-width: 1.5;\" x1=\"33\" x2=\"73\" y1=\"99.9375\" y2=\"99.9375\"/></a><!--MD5=[05d275557350bfb9b23a4ef7222b4c39]\n",
       "link E3 to E2--><a href=\"psysml:eb47ef55-8727-46f8-948e-289e011721f9\" target=\"_top\" title=\"psysml:eb47ef55-8727-46f8-948e-289e011721f9\" xlink:actuate=\"onRequest\" xlink:href=\"psysml:eb47ef55-8727-46f8-948e-289e011721f9\" xlink:show=\"new\" xlink:title=\"psysml:eb47ef55-8727-46f8-948e-289e011721f9\" xlink:type=\"simple\"><path d=\"M258.38,129.02 C252.17,141.97 245.22,156.45 238.55,170.36 \" fill=\"none\" id=\"E3-&gt;E2\" style=\"stroke: #383838; stroke-width: 1.0;\"/><polygon fill=\"#FFFFFF\" points=\"229.72,188.79,231.6151,168.6304,244.2413,174.6786,229.72,188.79\" style=\"stroke: #383838; stroke-width: 1.0;\"/><ellipse cx=\"235.8813\" cy=\"164.3538\" fill=\"#383838\" rx=\"2\" ry=\"2\" style=\"stroke: #383838; stroke-width: 1.0;\"/><ellipse cx=\"244.9\" cy=\"168.6739\" fill=\"#383838\" rx=\"2\" ry=\"2\" style=\"stroke: #383838; stroke-width: 1.0;\"/></a><!--MD5=[185131fc0dcab0a4505a2ebe144e961b]\n",
       "link E4 to E2--><a href=\"psysml:3b658baa-aed2-418d-9cf3-f3993d6dea2d\" target=\"_top\" title=\"psysml:3b658baa-aed2-418d-9cf3-f3993d6dea2d\" xlink:actuate=\"onRequest\" xlink:href=\"psysml:3b658baa-aed2-418d-9cf3-f3993d6dea2d\" xlink:show=\"new\" xlink:title=\"psysml:3b658baa-aed2-418d-9cf3-f3993d6dea2d\" xlink:type=\"simple\"><path d=\"M175.14,129.02 C179.3,141.67 183.94,155.79 188.42,169.41 \" fill=\"none\" id=\"E4-&gt;E2\" style=\"stroke: #383838; stroke-width: 1.0;\"/><polygon fill=\"none\" points=\"195.2,167.6,194.79,188.79,181.9,171.97,195.2,167.6\" style=\"stroke: #383838; stroke-width: 1.0;\"/></a><!--MD5=[8cea45f41a5c691b5bcce11c2fd53721]\n",
       "@startuml\r\n",
       "skinparam linetype polyline\r\n",
       "skinparam monochrome true\r\n",
       "skinparam classbackgroundcolor white\r\n",
       "skinparam shadowing false\r\n",
       "skinparam wrapWidth 300\r\n",
       "hide circle\r\n",
       "\r\n",
       "package \"DefaultValueTest\" as E1  [[psysml:e41cdd27-e179-4271-915e-4358fc3ae044 ]]  {\r\n",
       "comp def \"V\" as E2  <<(T,blue) part  def>> [[psysml:95d35419-5cb2-4278-8f59-96945510244a ]] {\r\n",
       "- - attributes - -\r\n",
       "m=default = 10; \r\n",
       "n= 20; \r\n",
       "}\r\n",
       "comp usage \"v1: V \" as E3  <<(T,blue) part>> [[psysml:b8cf69e7-8508-48d3-98c1-1a5aff225283 ]] {\r\n",
       "- - attributes - -\r\n",
       "m= 20; \\n//:>>V::m// \r\n",
       "}\r\n",
       "comp def \"W\" as E4  <<(T,blue) part  def>> [[psysml:75d7f18d-3bb0-43da-8a1f-920414b7c194 ]] {\r\n",
       "- - attributes - -\r\n",
       "m=default = n; \\n//:>>V::m// \r\n",
       "}\r\n",
       "comp usage \"v2 \" as E5  <<(T,blue) part>> [[psysml:1ec49292-f6e0-4564-a681-346e27695197 ]] {\r\n",
       "}\r\n",
       "}\r\n",
       "E3 - -:|> E2 [[psysml:eb47ef55-8727-46f8-948e-289e011721f9 ]] \r\n",
       "E4 - -|> E2 [[psysml:3b658baa-aed2-418d-9cf3-f3993d6dea2d ]] \r\n",
       "@enduml\r\n",
       "\n",
       "PlantUML version 1.2020.13(Sat Jun 13 12:26:38 UTC 2020)\n",
       "(EPL source distribution)\n",
       "Java Runtime: OpenJDK Runtime Environment\n",
       "JVM: OpenJDK 64-Bit Server VM\n",
       "Default Encoding: UTF-8\n",
       "Language: en\n",
       "Country: null\n",
       "--></g></svg>"
      ]
     },
     "execution_count": 10,
     "metadata": {},
     "output_type": "execute_result"
    }
   ],
   "source": [
    "%viz --style=\"POLYLINE\" --view=\"Tree\" \"DefaultValueTest\""
   ]
  },
  {
   "cell_type": "code",
   "execution_count": 11,
   "id": "2eb1367c",
   "metadata": {
    "execution": {
     "iopub.execute_input": "2022-07-23T10:55:43.546988Z",
     "iopub.status.busy": "2022-07-23T10:55:43.546432Z",
     "iopub.status.idle": "2022-07-23T10:55:43.551136Z",
     "shell.execute_reply": "2022-07-23T10:55:43.550666Z"
    }
   },
   "outputs": [
    {
     "data": {
      "image/svg+xml": [
       "<?xml version=\"1.0\" encoding=\"UTF-8\" standalone=\"no\"?><svg xmlns=\"http://www.w3.org/2000/svg\" xmlns:xlink=\"http://www.w3.org/1999/xlink\" contentScriptType=\"application/ecmascript\" contentStyleType=\"text/css\" height=\"12px\" preserveAspectRatio=\"none\" style=\"width:12px;height:12px;\" version=\"1.1\" viewBox=\"0 0 12 12\" width=\"12px\" zoomAndPan=\"magnify\"><defs/><g><!--MD5=[896ac0e7a515d8dd7765a661cb4ee08b]\n",
       "@startuml\r\n",
       "skinparam linetype polyline\r\n",
       "skinparam monochrome true\r\n",
       "skinparam classbackgroundcolor white\r\n",
       "skinparam shadowing false\r\n",
       "skinparam wrapWidth 300\r\n",
       "hide circle\r\n",
       "\r\n",
       "@enduml\r\n",
       "\n",
       "PlantUML version 1.2020.13(Sat Jun 13 12:26:38 UTC 2020)\n",
       "(EPL source distribution)\n",
       "Java Runtime: OpenJDK Runtime Environment\n",
       "JVM: OpenJDK 64-Bit Server VM\n",
       "Default Encoding: UTF-8\n",
       "Language: en\n",
       "Country: null\n",
       "--></g></svg>"
      ]
     },
     "execution_count": 11,
     "metadata": {},
     "output_type": "execute_result"
    }
   ],
   "source": [
    "%viz --style=\"POLYLINE\" --view=\"State\" \"DefaultValueTest\""
   ]
  },
  {
   "cell_type": "code",
   "execution_count": 12,
   "id": "fed7ebbb",
   "metadata": {
    "execution": {
     "iopub.execute_input": "2022-07-23T10:55:43.601355Z",
     "iopub.status.busy": "2022-07-23T10:55:43.600580Z",
     "iopub.status.idle": "2022-07-23T10:55:43.645487Z",
     "shell.execute_reply": "2022-07-23T10:55:43.644920Z"
    }
   },
   "outputs": [
    {
     "data": {
      "image/svg+xml": [
       "<?xml version=\"1.0\" encoding=\"UTF-8\" standalone=\"no\"?><svg xmlns=\"http://www.w3.org/2000/svg\" xmlns:xlink=\"http://www.w3.org/1999/xlink\" contentScriptType=\"application/ecmascript\" contentStyleType=\"text/css\" height=\"399px\" preserveAspectRatio=\"none\" style=\"width:499px;height:399px;\" version=\"1.1\" viewBox=\"0 0 499 399\" width=\"499px\" zoomAndPan=\"magnify\"><defs/><g><!--MD5=[fbc87193dbaf4d95561dea2c320d4a47]\n",
       "cluster E1--><a href=\"psysml:e41cdd27-e179-4271-915e-4358fc3ae044\" target=\"_top\" title=\"psysml:e41cdd27-e179-4271-915e-4358fc3ae044\" xlink:actuate=\"onRequest\" xlink:href=\"psysml:e41cdd27-e179-4271-915e-4358fc3ae044\" xlink:show=\"new\" xlink:title=\"psysml:e41cdd27-e179-4271-915e-4358fc3ae044\" xlink:type=\"simple\"><polygon fill=\"#FFFFFF\" points=\"16,6,140,6,147,28.2969,477,28.2969,477,387,16,387,16,6\" style=\"stroke: #000000; stroke-width: 1.5;\"/><line style=\"stroke: #000000; stroke-width: 1.5;\" x1=\"16\" x2=\"147\" y1=\"28.2969\" y2=\"28.2969\"/><text fill=\"#000000\" font-family=\"sans-serif\" font-size=\"14\" font-weight=\"bold\" lengthAdjust=\"spacingAndGlyphs\" textLength=\"118\" x=\"20\" y=\"20.9951\">DefaultValueTest</text></a><!--MD5=[e4f7fae6ed58524ba242bb0b0d3be6b7]\n",
       "cluster E2--><a href=\"psysml:95d35419-5cb2-4278-8f59-96945510244a\" target=\"_top\" title=\"psysml:95d35419-5cb2-4278-8f59-96945510244a\" xlink:actuate=\"onRequest\" xlink:href=\"psysml:95d35419-5cb2-4278-8f59-96945510244a\" xlink:show=\"new\" xlink:title=\"psysml:95d35419-5cb2-4278-8f59-96945510244a\" xlink:type=\"simple\"><rect fill=\"#FFFFFF\" height=\"129\" id=\"E2\" style=\"stroke: #383838; stroke-width: 1.5;\" width=\"245\" x=\"163\" y=\"226\"/><rect fill=\"#F8F8F8\" height=\"37.9375\" style=\"stroke: #383838; stroke-width: 1.5;\" width=\"245\" x=\"163\" y=\"226\"/><text fill=\"#000000\" font-family=\"sans-serif\" font-size=\"12\" font-style=\"italic\" lengthAdjust=\"spacingAndGlyphs\" textLength=\"68\" x=\"251.5\" y=\"242.1387\">«part  def»</text><text fill=\"#000000\" font-family=\"sans-serif\" font-size=\"12\" lengthAdjust=\"spacingAndGlyphs\" textLength=\"8\" x=\"281.5\" y=\"256.1074\">V</text></a><!--MD5=[de5ec2e2e8f62f467e546659f5068c88]\n",
       "cluster E5--><a href=\"psysml:b8cf69e7-8508-48d3-98c1-1a5aff225283\" target=\"_top\" title=\"psysml:b8cf69e7-8508-48d3-98c1-1a5aff225283\" xlink:actuate=\"onRequest\" xlink:href=\"psysml:b8cf69e7-8508-48d3-98c1-1a5aff225283\" xlink:show=\"new\" xlink:title=\"psysml:b8cf69e7-8508-48d3-98c1-1a5aff225283\" xlink:type=\"simple\"><rect fill=\"#FFFFFF\" height=\"113\" id=\"E5\" rx=\"10\" ry=\"10\" style=\"stroke: #383838; stroke-width: 1.5;\" width=\"139\" x=\"306\" y=\"73\"/><rect fill=\"#F8F8F8\" height=\"23.9688\" rx=\"10\" ry=\"10\" style=\"stroke: #F8F8F8; stroke-width: 1.5;\" width=\"139\" x=\"306\" y=\"73\"/><rect fill=\"#F8F8F8\" height=\"10\" style=\"stroke: #F8F8F8; stroke-width: 1.5;\" width=\"139\" x=\"306\" y=\"86.9688\"/><rect fill=\"none\" height=\"113\" id=\"E5\" rx=\"10\" ry=\"10\" style=\"stroke: #383838; stroke-width: 1.5;\" width=\"139\" x=\"306\" y=\"73\"/><text fill=\"#000000\" font-family=\"sans-serif\" font-size=\"12\" lengthAdjust=\"spacingAndGlyphs\" textLength=\"30\" x=\"360.5\" y=\"89.1387\">v1: V</text><line style=\"stroke: #383838; stroke-width: 1.0;\" x1=\"306\" x2=\"445\" y1=\"96.9688\" y2=\"96.9688\"/></a><!--MD5=[168fadf3d0c3fd93dd5d6da1b1d7ab76]\n",
       "cluster E7--><a href=\"psysml:75d7f18d-3bb0-43da-8a1f-920414b7c194\" target=\"_top\" title=\"psysml:75d7f18d-3bb0-43da-8a1f-920414b7c194\" xlink:actuate=\"onRequest\" xlink:href=\"psysml:75d7f18d-3bb0-43da-8a1f-920414b7c194\" xlink:show=\"new\" xlink:title=\"psysml:75d7f18d-3bb0-43da-8a1f-920414b7c194\" xlink:type=\"simple\"><rect fill=\"#FFFFFF\" height=\"129\" id=\"E7\" style=\"stroke: #383838; stroke-width: 1.5;\" width=\"139\" x=\"127\" y=\"57\"/><rect fill=\"#F8F8F8\" height=\"37.9375\" style=\"stroke: #383838; stroke-width: 1.5;\" width=\"139\" x=\"127\" y=\"57\"/><text fill=\"#000000\" font-family=\"sans-serif\" font-size=\"12\" font-style=\"italic\" lengthAdjust=\"spacingAndGlyphs\" textLength=\"68\" x=\"162.5\" y=\"73.1387\">«part  def»</text><text fill=\"#000000\" font-family=\"sans-serif\" font-size=\"12\" lengthAdjust=\"spacingAndGlyphs\" textLength=\"11\" x=\"191\" y=\"87.1074\">W</text></a><!--MD5=[09b614a08d8cba4a07c9adeb5e0fee81]\n",
       "class E3--><a href=\"psysml:6a54ba7f-e62a-486f-80dd-d9293281f966\" target=\"_top\" title=\"psysml:6a54ba7f-e62a-486f-80dd-d9293281f966\" xlink:actuate=\"onRequest\" xlink:href=\"psysml:6a54ba7f-e62a-486f-80dd-d9293281f966\" xlink:show=\"new\" xlink:title=\"psysml:6a54ba7f-e62a-486f-80dd-d9293281f966\" xlink:type=\"simple\"><rect fill=\"#FFFFFF\" height=\"45.9375\" id=\"E3\" rx=\"10\" ry=\"10\" style=\"stroke: #383838; stroke-width: 1.5;\" width=\"71\" x=\"312.5\" y=\"285\"/><text fill=\"#000000\" font-family=\"sans-serif\" font-size=\"12\" font-style=\"italic\" lengthAdjust=\"spacingAndGlyphs\" textLength=\"69\" x=\"313.5\" y=\"301.1387\">«attribute»</text><text fill=\"#000000\" font-family=\"sans-serif\" font-size=\"12\" lengthAdjust=\"spacingAndGlyphs\" textLength=\"11\" x=\"340.5\" y=\"315.1074\">m</text><line style=\"stroke: #383838; stroke-width: 1.5;\" x1=\"313.5\" x2=\"382.5\" y1=\"322.9375\" y2=\"322.9375\"/></a><!--MD5=[ebbe1d658d1005bcc118a6aa81145e00]\n",
       "class E4--><a href=\"psysml:16f4b3d0-0144-41cb-ad29-b9c3c07c611b\" target=\"_top\" title=\"psysml:16f4b3d0-0144-41cb-ad29-b9c3c07c611b\" xlink:actuate=\"onRequest\" xlink:href=\"psysml:16f4b3d0-0144-41cb-ad29-b9c3c07c611b\" xlink:show=\"new\" xlink:title=\"psysml:16f4b3d0-0144-41cb-ad29-b9c3c07c611b\" xlink:type=\"simple\"><rect fill=\"#FFFFFF\" height=\"45.9375\" id=\"E4\" rx=\"10\" ry=\"10\" style=\"stroke: #383838; stroke-width: 1.5;\" width=\"71\" x=\"206.5\" y=\"285\"/><text fill=\"#000000\" font-family=\"sans-serif\" font-size=\"12\" font-style=\"italic\" lengthAdjust=\"spacingAndGlyphs\" textLength=\"69\" x=\"207.5\" y=\"301.1387\">«attribute»</text><text fill=\"#000000\" font-family=\"sans-serif\" font-size=\"12\" lengthAdjust=\"spacingAndGlyphs\" textLength=\"8\" x=\"236\" y=\"315.1074\">n</text><line style=\"stroke: #383838; stroke-width: 1.5;\" x1=\"207.5\" x2=\"276.5\" y1=\"322.9375\" y2=\"322.9375\"/></a><!--MD5=[60a26617385b1d2d0262a64233df1f8d]\n",
       "class E6--><a href=\"psysml:8ab4ea45-bcef-481a-a1e6-04e630fb5715\" target=\"_top\" title=\"psysml:8ab4ea45-bcef-481a-a1e6-04e630fb5715\" xlink:actuate=\"onRequest\" xlink:href=\"psysml:8ab4ea45-bcef-481a-a1e6-04e630fb5715\" xlink:show=\"new\" xlink:title=\"psysml:8ab4ea45-bcef-481a-a1e6-04e630fb5715\" xlink:type=\"simple\"><rect fill=\"#FFFFFF\" height=\"45.9375\" id=\"E6\" rx=\"10\" ry=\"10\" style=\"stroke: #383838; stroke-width: 1.5;\" width=\"71\" x=\"349.5\" y=\"116\"/><text fill=\"#000000\" font-family=\"sans-serif\" font-size=\"12\" font-style=\"italic\" lengthAdjust=\"spacingAndGlyphs\" textLength=\"69\" x=\"350.5\" y=\"132.1387\">«attribute»</text><text fill=\"#000000\" font-family=\"sans-serif\" font-size=\"12\" lengthAdjust=\"spacingAndGlyphs\" textLength=\"11\" x=\"377.5\" y=\"146.1074\">m</text><line style=\"stroke: #383838; stroke-width: 1.5;\" x1=\"350.5\" x2=\"419.5\" y1=\"153.9375\" y2=\"153.9375\"/></a><!--MD5=[b9389687b975829384b498ac4b7476b2]\n",
       "class E8--><a href=\"psysml:1da3bab2-1d8c-4ebe-95aa-17b6e9277a07\" target=\"_top\" title=\"psysml:1da3bab2-1d8c-4ebe-95aa-17b6e9277a07\" xlink:actuate=\"onRequest\" xlink:href=\"psysml:1da3bab2-1d8c-4ebe-95aa-17b6e9277a07\" xlink:show=\"new\" xlink:title=\"psysml:1da3bab2-1d8c-4ebe-95aa-17b6e9277a07\" xlink:type=\"simple\"><rect fill=\"#FFFFFF\" height=\"45.9375\" id=\"E8\" rx=\"10\" ry=\"10\" style=\"stroke: #383838; stroke-width: 1.5;\" width=\"71\" x=\"170.5\" y=\"116\"/><text fill=\"#000000\" font-family=\"sans-serif\" font-size=\"12\" font-style=\"italic\" lengthAdjust=\"spacingAndGlyphs\" textLength=\"69\" x=\"171.5\" y=\"132.1387\">«attribute»</text><text fill=\"#000000\" font-family=\"sans-serif\" font-size=\"12\" lengthAdjust=\"spacingAndGlyphs\" textLength=\"11\" x=\"198.5\" y=\"146.1074\">m</text><line style=\"stroke: #383838; stroke-width: 1.5;\" x1=\"171.5\" x2=\"240.5\" y1=\"153.9375\" y2=\"153.9375\"/></a><g id=\"E1.E9\"><a href=\"psysml:1ec49292-f6e0-4564-a681-346e27695197\" target=\"_top\" title=\"psysml:1ec49292-f6e0-4564-a681-346e27695197\" xlink:actuate=\"onRequest\" xlink:href=\"psysml:1ec49292-f6e0-4564-a681-346e27695197\" xlink:show=\"new\" xlink:title=\"psysml:1ec49292-f6e0-4564-a681-346e27695197\" xlink:type=\"simple\"><rect fill=\"#FFFFFF\" height=\"40\" id=\"E9\" rx=\"10\" ry=\"10\" style=\"stroke: #383838; stroke-width: 1.5;\" width=\"68\" x=\"32\" y=\"119\"/><rect fill=\"#F8F8F8\" height=\"23.9688\" rx=\"10\" ry=\"10\" style=\"stroke: #F8F8F8; stroke-width: 1.5;\" width=\"68\" x=\"32\" y=\"119\"/><rect fill=\"#F8F8F8\" height=\"10\" style=\"stroke: #F8F8F8; stroke-width: 1.5;\" width=\"68\" x=\"32\" y=\"132.9688\"/><rect fill=\"none\" height=\"40\" id=\"E9\" rx=\"10\" ry=\"10\" style=\"stroke: #383838; stroke-width: 1.5;\" width=\"68\" x=\"32\" y=\"119\"/><text fill=\"#000000\" font-family=\"sans-serif\" font-size=\"12\" lengthAdjust=\"spacingAndGlyphs\" textLength=\"53\" x=\"37.5\" y=\"135.1387\">v2= W();</text></a></g><!--MD5=[a717450b82c80b9240a525fa862496af]\n",
       "link E6 to E3--><a href=\"psysml:df608862-84ce-4303-af6e-5dfc61cbb6d2\" target=\"_top\" title=\"psysml:df608862-84ce-4303-af6e-5dfc61cbb6d2\" xlink:actuate=\"onRequest\" xlink:href=\"psysml:df608862-84ce-4303-af6e-5dfc61cbb6d2\" xlink:show=\"new\" xlink:title=\"psysml:df608862-84ce-4303-af6e-5dfc61cbb6d2\" xlink:type=\"simple\"><path d=\"M380.09,162.18 C374.29,188.33 364.54,232.36 357.3,265.02 \" fill=\"none\" id=\"E6-&gt;E3\" style=\"stroke: #383838; stroke-width: 1.0;\"/><polygon fill=\"#FFFFFF\" points=\"352.87,285,350.1475,264.9354,363.8158,267.965,352.87,285\" style=\"stroke: #383838; stroke-width: 1.0;\"/><line style=\"stroke: #383838; stroke-width: 2.0;\" x1=\"350.9698\" x2=\"364.6381\" y1=\"261.2254\" y2=\"264.2551\"/></a><!--MD5=[15ebcb19ae302d9b601edb458606d402]\n",
       "link E5 to E2--><a href=\"psysml:eb47ef55-8727-46f8-948e-289e011721f9\" target=\"_top\" title=\"psysml:eb47ef55-8727-46f8-948e-289e011721f9\" xlink:actuate=\"onRequest\" xlink:href=\"psysml:eb47ef55-8727-46f8-948e-289e011721f9\" xlink:show=\"new\" xlink:title=\"psysml:eb47ef55-8727-46f8-948e-289e011721f9\" xlink:type=\"simple\"><path d=\"M305.953,148.9046 C305.7965,149.0779 305.6383,149.2531 305.4783,149.4301 C305.1585,149.7843 304.8319,150.1458 304.4991,150.5144 C299.1731,156.4113 292.2313,164.0975 285.3425,171.725 C271.565,186.98 258,202 258,202 C258,202 190,210 190,210 C190,210 188.8494,215.8744 187.1144,224.7319 C187.0602,225.0087 187.0054,225.2884 186.95,225.5709 C186.9224,225.7122 186.8945,225.8542 186.8666,225.9968 \" fill=\"none\" id=\"E5-&gt;E2\" style=\"stroke: #383838; stroke-width: 1.0;\"/><polygon fill=\"#FFFFFF\" points=\"186.8666,225.9968,183.6494,206.0056,197.3884,208.6968,186.8666,225.9968\" style=\"stroke: #383838; stroke-width: 1.0;\"/><ellipse cx=\"186.7078\" cy=\"200.7963\" fill=\"#383838\" rx=\"2\" ry=\"2\" style=\"stroke: #383838; stroke-width: 1.0;\"/><ellipse cx=\"196.5213\" cy=\"202.7186\" fill=\"#383838\" rx=\"2\" ry=\"2\" style=\"stroke: #383838; stroke-width: 1.0;\"/></a><!--MD5=[583832df87f4419a098336a29a52fa00]\n",
       "link E7 to E2--><a href=\"psysml:3b658baa-aed2-418d-9cf3-f3993d6dea2d\" target=\"_top\" title=\"psysml:3b658baa-aed2-418d-9cf3-f3993d6dea2d\" xlink:actuate=\"onRequest\" xlink:href=\"psysml:3b658baa-aed2-418d-9cf3-f3993d6dea2d\" xlink:show=\"new\" xlink:title=\"psysml:3b658baa-aed2-418d-9cf3-f3993d6dea2d\" xlink:type=\"simple\"><path d=\"M145.0817,186.7597 C145.5768,189.0567 146.0819,191.4 146.595,193.7804 C148.6473,203.3019 150.8275,213.4163 153.0075,223.53 C155.1875,233.6438 157.3673,243.7569 159.4191,253.2759 C160.4449,258.0354 161.4388,262.6463 162.3846,267.0345 C162.5028,267.5831 162.6203,268.1281 162.7369,268.6695 C162.7953,268.9403 162.8534,269.2101 162.9114,269.4789 C162.9404,269.6134 162.9693,269.7476 162.9982,269.8816 \" fill=\"none\" id=\"E7-&gt;E2\" style=\"stroke: #383838; stroke-width: 1.0;\"/><polygon fill=\"#FFFFFF\" points=\"162.9982,269.8816,165.8379,249.8332,152.1522,252.7829,162.9982,269.8816\" style=\"stroke: #383838; stroke-width: 1.0;\"/></a><!--MD5=[95fa686b5a16158bcdbcaeead89f639b]\n",
       "link E8 to E3--><a href=\"psysml:d0f3a95a-9489-4833-bd9a-1794072888fe\" target=\"_top\" title=\"psysml:d0f3a95a-9489-4833-bd9a-1794072888fe\" xlink:actuate=\"onRequest\" xlink:href=\"psysml:d0f3a95a-9489-4833-bd9a-1794072888fe\" xlink:show=\"new\" xlink:title=\"psysml:d0f3a95a-9489-4833-bd9a-1794072888fe\" xlink:type=\"simple\"><path d=\"M234.16,162.15 C260.23,182.66 295,210 295,210 C295,210 311.57,240.32 326.17,267.05 \" fill=\"none\" id=\"E8-&gt;E3\" style=\"stroke: #383838; stroke-width: 1.0;\"/><polygon fill=\"#FFFFFF\" points=\"335.97,284.99,320.7212,271.668,333.0091,264.9592,335.97,284.99\" style=\"stroke: #383838; stroke-width: 1.0;\"/><line style=\"stroke: #383838; stroke-width: 2.0;\" x1=\"318.9003\" x2=\"331.1881\" y1=\"268.3328\" y2=\"261.6239\"/></a><!--MD5=[8e824f130a9e2728b2a52c4641a5e8ba]\n",
       "@startuml\r\n",
       "skinparam ranksep 10\r\n",
       "skinparam rectangle {\r\n",
       " backgroundColor<<block>> LightGreen\r\n",
       "}\r\n",
       "skinparam linetype polyline\r\n",
       "skinparam monochrome true\r\n",
       "skinparam classbackgroundcolor white\r\n",
       "skinparam shadowing false\r\n",
       "skinparam wrapWidth 300\r\n",
       "hide circle\r\n",
       "\r\n",
       "package \"DefaultValueTest\" as E1  [[psysml:e41cdd27-e179-4271-915e-4358fc3ae044 ]]  {\r\n",
       "rec def \"V\" as E2  <<(T,blue) part  def>> [[psysml:95d35419-5cb2-4278-8f59-96945510244a ]] {\r\n",
       "comp usage \"m \" as E3  <<(T,blue) attribute>> [[psysml:6a54ba7f-e62a-486f-80dd-d9293281f966 ]] {\r\n",
       "}\r\n",
       "comp usage \"n \" as E4  <<(T,blue) attribute>> [[psysml:16f4b3d0-0144-41cb-ad29-b9c3c07c611b ]] {\r\n",
       "}\r\n",
       "}\r\n",
       "rec usage \"v1: V\" as E5  [[psysml:b8cf69e7-8508-48d3-98c1-1a5aff225283 ]] {\r\n",
       "comp usage \"m \" as E6  <<(T,blue) attribute>> [[psysml:8ab4ea45-bcef-481a-a1e6-04e630fb5715 ]] {\r\n",
       "}\r\n",
       "}\r\n",
       "rec def \"W\" as E7  <<(T,blue) part  def>> [[psysml:75d7f18d-3bb0-43da-8a1f-920414b7c194 ]] {\r\n",
       "comp usage \"m \" as E8  <<(T,blue) attribute>> [[psysml:1da3bab2-1d8c-4ebe-95aa-17b6e9277a07 ]] {\r\n",
       "}\r\n",
       "}\r\n",
       "rec usage \"v2= W(); \" as E9  [[psysml:1ec49292-f6e0-4564-a681-346e27695197 ]] {\r\n",
       "}\r\n",
       "}\r\n",
       "E6 - -||> E3 [[psysml:df608862-84ce-4303-af6e-5dfc61cbb6d2 ]] \r\n",
       "E5 - -:|> E2 [[psysml:eb47ef55-8727-46f8-948e-289e011721f9 ]] \r\n",
       "E7 - -|> E2 [[psysml:3b658baa-aed2-418d-9cf3-f3993d6dea2d ]] \r\n",
       "E8 - -||> E3 [[psysml:d0f3a95a-9489-4833-bd9a-1794072888fe ]] \r\n",
       "@enduml\r\n",
       "\n",
       "PlantUML version 1.2020.13(Sat Jun 13 12:26:38 UTC 2020)\n",
       "(EPL source distribution)\n",
       "Java Runtime: OpenJDK Runtime Environment\n",
       "JVM: OpenJDK 64-Bit Server VM\n",
       "Default Encoding: UTF-8\n",
       "Language: en\n",
       "Country: null\n",
       "--></g></svg>"
      ]
     },
     "execution_count": 12,
     "metadata": {},
     "output_type": "execute_result"
    }
   ],
   "source": [
    "%viz --style=\"POLYLINE\" --view=\"Interconnection\" \"DefaultValueTest\""
   ]
  },
  {
   "cell_type": "code",
   "execution_count": 13,
   "id": "a25e1a38",
   "metadata": {
    "execution": {
     "iopub.execute_input": "2022-07-23T10:55:43.694694Z",
     "iopub.status.busy": "2022-07-23T10:55:43.694166Z",
     "iopub.status.idle": "2022-07-23T10:55:43.700058Z",
     "shell.execute_reply": "2022-07-23T10:55:43.700419Z"
    }
   },
   "outputs": [
    {
     "data": {
      "image/svg+xml": [
       "<?xml version=\"1.0\" encoding=\"UTF-8\" standalone=\"no\"?><svg xmlns=\"http://www.w3.org/2000/svg\" xmlns:xlink=\"http://www.w3.org/1999/xlink\" contentScriptType=\"application/ecmascript\" contentStyleType=\"text/css\" height=\"12px\" preserveAspectRatio=\"none\" style=\"width:12px;height:12px;\" version=\"1.1\" viewBox=\"0 0 12 12\" width=\"12px\" zoomAndPan=\"magnify\"><defs/><g><!--MD5=[97bbf32f66ccd50cbc40d92ea8f5a65e]\n",
       "@startuml\r\n",
       "skinparam ranksep 8\r\n",
       "skinparam linetype polyline\r\n",
       "skinparam monochrome true\r\n",
       "skinparam classbackgroundcolor white\r\n",
       "skinparam shadowing false\r\n",
       "skinparam wrapWidth 300\r\n",
       "hide circle\r\n",
       "\r\n",
       "@enduml\r\n",
       "\n",
       "PlantUML version 1.2020.13(Sat Jun 13 12:26:38 UTC 2020)\n",
       "(EPL source distribution)\n",
       "Java Runtime: OpenJDK Runtime Environment\n",
       "JVM: OpenJDK 64-Bit Server VM\n",
       "Default Encoding: UTF-8\n",
       "Language: en\n",
       "Country: null\n",
       "--></g></svg>"
      ]
     },
     "execution_count": 13,
     "metadata": {},
     "output_type": "execute_result"
    }
   ],
   "source": [
    "%viz --style=\"POLYLINE\" --view=\"Action\" \"DefaultValueTest\""
   ]
  },
  {
   "cell_type": "code",
   "execution_count": 14,
   "id": "c6ec6dd0",
   "metadata": {
    "execution": {
     "iopub.execute_input": "2022-07-23T10:55:43.750528Z",
     "iopub.status.busy": "2022-07-23T10:55:43.749862Z",
     "iopub.status.idle": "2022-07-23T10:55:43.756088Z",
     "shell.execute_reply": "2022-07-23T10:55:43.756412Z"
    }
   },
   "outputs": [
    {
     "data": {
      "image/svg+xml": [
       "<?xml version=\"1.0\" encoding=\"UTF-8\" standalone=\"no\"?><svg xmlns=\"http://www.w3.org/2000/svg\" xmlns:xlink=\"http://www.w3.org/1999/xlink\" contentScriptType=\"application/ecmascript\" contentStyleType=\"text/css\" height=\"12px\" preserveAspectRatio=\"none\" style=\"width:12px;height:12px;\" version=\"1.1\" viewBox=\"0 0 12 12\" width=\"12px\" zoomAndPan=\"magnify\"><defs/><g><!--MD5=[dc938048236c351797870c36b62f92ad]\n",
       "@startuml\r\n",
       "skinparam roundcorner 20\r\n",
       "skinparam BoxPadding 20\r\n",
       "skinparam SequenceBoxBackgroundColor #white\r\n",
       "skinparam style strictuml\r\n",
       "skinparam maxMessageSize 100\r\n",
       "skinparam linetype polyline\r\n",
       "skinparam monochrome true\r\n",
       "skinparam classbackgroundcolor white\r\n",
       "skinparam shadowing false\r\n",
       "skinparam wrapWidth 300\r\n",
       "hide circle\r\n",
       "\r\n",
       "@enduml\r\n",
       "\n",
       "PlantUML version 1.2020.13(Sat Jun 13 12:26:38 UTC 2020)\n",
       "(EPL source distribution)\n",
       "Java Runtime: OpenJDK Runtime Environment\n",
       "JVM: OpenJDK 64-Bit Server VM\n",
       "Default Encoding: UTF-8\n",
       "Language: en\n",
       "Country: null\n",
       "--></g></svg>"
      ]
     },
     "execution_count": 14,
     "metadata": {},
     "output_type": "execute_result"
    }
   ],
   "source": [
    "%viz --style=\"POLYLINE\" --view=\"Sequence\" \"DefaultValueTest\""
   ]
  },
  {
   "cell_type": "code",
   "execution_count": 15,
   "id": "57acacc9",
   "metadata": {
    "execution": {
     "iopub.execute_input": "2022-07-23T10:55:43.806733Z",
     "iopub.status.busy": "2022-07-23T10:55:43.806214Z",
     "iopub.status.idle": "2022-07-23T10:55:43.906249Z",
     "shell.execute_reply": "2022-07-23T10:55:43.904544Z"
    }
   },
   "outputs": [
    {
     "data": {
      "image/svg+xml": [
       "<?xml version=\"1.0\" encoding=\"UTF-8\" standalone=\"no\"?><svg xmlns=\"http://www.w3.org/2000/svg\" xmlns:xlink=\"http://www.w3.org/1999/xlink\" contentScriptType=\"application/ecmascript\" contentStyleType=\"text/css\" height=\"305px\" preserveAspectRatio=\"none\" style=\"width:349px;height:305px;\" version=\"1.1\" viewBox=\"0 0 349 305\" width=\"349px\" zoomAndPan=\"magnify\"><defs/><g><!--MD5=[fbc87193dbaf4d95561dea2c320d4a47]\n",
       "cluster E1--><a href=\"psysml:e41cdd27-e179-4271-915e-4358fc3ae044\" target=\"_top\" title=\"psysml:e41cdd27-e179-4271-915e-4358fc3ae044\" xlink:actuate=\"onRequest\" xlink:href=\"psysml:e41cdd27-e179-4271-915e-4358fc3ae044\" xlink:show=\"new\" xlink:title=\"psysml:e41cdd27-e179-4271-915e-4358fc3ae044\" xlink:type=\"simple\"><polygon fill=\"#FFFFFF\" points=\"16,6,140,6,147,28.2969,327,28.2969,327,293,16,293,16,6\" style=\"stroke: #000000; stroke-width: 1.5;\"/><line style=\"stroke: #000000; stroke-width: 1.5;\" x1=\"16\" x2=\"147\" y1=\"28.2969\" y2=\"28.2969\"/><text fill=\"#000000\" font-family=\"sans-serif\" font-size=\"14\" font-weight=\"bold\" lengthAdjust=\"spacingAndGlyphs\" textLength=\"118\" x=\"20\" y=\"20.9951\">DefaultValueTest</text></a><!--MD5=[b4997ac47864f28c2f74865a473b2911]\n",
       "class E2--><a href=\"psysml:95d35419-5cb2-4278-8f59-96945510244a\" target=\"_top\" title=\"psysml:95d35419-5cb2-4278-8f59-96945510244a\" xlink:actuate=\"onRequest\" xlink:href=\"psysml:95d35419-5cb2-4278-8f59-96945510244a\" xlink:show=\"new\" xlink:title=\"psysml:95d35419-5cb2-4278-8f59-96945510244a\" xlink:type=\"simple\"><rect fill=\"#FFFFFF\" height=\"88.3516\" id=\"E2\" style=\"stroke: #383838; stroke-width: 1.5;\" width=\"106\" x=\"156\" y=\"189\"/><text fill=\"#000000\" font-family=\"sans-serif\" font-size=\"12\" font-style=\"italic\" lengthAdjust=\"spacingAndGlyphs\" textLength=\"68\" x=\"175\" y=\"205.1387\">«part  def»</text><text fill=\"#000000\" font-family=\"sans-serif\" font-size=\"12\" lengthAdjust=\"spacingAndGlyphs\" textLength=\"8\" x=\"205\" y=\"219.1074\">V</text><line style=\"stroke: #383838; stroke-width: 1.5;\" x1=\"157\" x2=\"261\" y1=\"226.9375\" y2=\"226.9375\"/><text fill=\"#000000\" font-family=\"sans-serif\" font-size=\"11\" lengthAdjust=\"spacingAndGlyphs\" textLength=\"94\" x=\"162\" y=\"257.9526\">m=default = 10;</text><text fill=\"#000000\" font-family=\"sans-serif\" font-size=\"11\" lengthAdjust=\"spacingAndGlyphs\" textLength=\"38\" x=\"162\" y=\"270.7573\">n= 20;</text><line style=\"stroke: #383838; stroke-width: 1.0;\" x1=\"157\" x2=\"181.5\" y1=\"241.3398\" y2=\"241.3398\"/><text fill=\"#000000\" font-family=\"sans-serif\" font-size=\"11\" lengthAdjust=\"spacingAndGlyphs\" textLength=\"55\" x=\"181.5\" y=\"244.6479\">attributes</text><line style=\"stroke: #383838; stroke-width: 1.0;\" x1=\"236.5\" x2=\"261\" y1=\"241.3398\" y2=\"241.3398\"/></a><!--MD5=[09b614a08d8cba4a07c9adeb5e0fee81]\n",
       "class E3--><a href=\"psysml:b8cf69e7-8508-48d3-98c1-1a5aff225283\" target=\"_top\" title=\"psysml:b8cf69e7-8508-48d3-98c1-1a5aff225283\" xlink:actuate=\"onRequest\" xlink:href=\"psysml:b8cf69e7-8508-48d3-98c1-1a5aff225283\" xlink:show=\"new\" xlink:title=\"psysml:b8cf69e7-8508-48d3-98c1-1a5aff225283\" xlink:type=\"simple\"><rect fill=\"#FFFFFF\" height=\"88.3516\" id=\"E3\" rx=\"10\" ry=\"10\" style=\"stroke: #383838; stroke-width: 1.5;\" width=\"63\" x=\"247.5\" y=\"41\"/><text fill=\"#000000\" font-family=\"sans-serif\" font-size=\"12\" font-style=\"italic\" lengthAdjust=\"spacingAndGlyphs\" textLength=\"40\" x=\"259\" y=\"57.1387\">«part»</text><text fill=\"#000000\" font-family=\"sans-serif\" font-size=\"12\" lengthAdjust=\"spacingAndGlyphs\" textLength=\"30\" x=\"262\" y=\"71.1074\">v1: V</text><line style=\"stroke: #383838; stroke-width: 1.5;\" x1=\"248.5\" x2=\"309.5\" y1=\"78.9375\" y2=\"78.9375\"/><text fill=\"#000000\" font-family=\"sans-serif\" font-size=\"11\" lengthAdjust=\"spacingAndGlyphs\" textLength=\"42\" x=\"253.5\" y=\"109.9526\">m= 20;</text><text fill=\"#000000\" font-family=\"sans-serif\" font-size=\"11\" font-style=\"italic\" lengthAdjust=\"spacingAndGlyphs\" textLength=\"48\" x=\"253.5\" y=\"122.7573\">:&gt;&gt;V::m</text><line style=\"stroke: #383838; stroke-width: 1.0;\" x1=\"248.5\" x2=\"251.5\" y1=\"93.3398\" y2=\"93.3398\"/><text fill=\"#000000\" font-family=\"sans-serif\" font-size=\"11\" lengthAdjust=\"spacingAndGlyphs\" textLength=\"55\" x=\"251.5\" y=\"96.6479\">attributes</text><line style=\"stroke: #383838; stroke-width: 1.0;\" x1=\"306.5\" x2=\"309.5\" y1=\"93.3398\" y2=\"93.3398\"/></a><!--MD5=[ebbe1d658d1005bcc118a6aa81145e00]\n",
       "class E4--><a href=\"psysml:75d7f18d-3bb0-43da-8a1f-920414b7c194\" target=\"_top\" title=\"psysml:75d7f18d-3bb0-43da-8a1f-920414b7c194\" xlink:actuate=\"onRequest\" xlink:href=\"psysml:75d7f18d-3bb0-43da-8a1f-920414b7c194\" xlink:show=\"new\" xlink:title=\"psysml:75d7f18d-3bb0-43da-8a1f-920414b7c194\" xlink:type=\"simple\"><rect fill=\"#FFFFFF\" height=\"88.3516\" id=\"E4\" style=\"stroke: #383838; stroke-width: 1.5;\" width=\"103\" x=\"109.5\" y=\"41\"/><text fill=\"#000000\" font-family=\"sans-serif\" font-size=\"12\" font-style=\"italic\" lengthAdjust=\"spacingAndGlyphs\" textLength=\"68\" x=\"127\" y=\"57.1387\">«part  def»</text><text fill=\"#000000\" font-family=\"sans-serif\" font-size=\"12\" lengthAdjust=\"spacingAndGlyphs\" textLength=\"11\" x=\"155.5\" y=\"71.1074\">W</text><line style=\"stroke: #383838; stroke-width: 1.5;\" x1=\"110.5\" x2=\"211.5\" y1=\"78.9375\" y2=\"78.9375\"/><text fill=\"#000000\" font-family=\"sans-serif\" font-size=\"11\" lengthAdjust=\"spacingAndGlyphs\" textLength=\"87\" x=\"115.5\" y=\"109.9526\">m=default = n;</text><text fill=\"#000000\" font-family=\"sans-serif\" font-size=\"11\" font-style=\"italic\" lengthAdjust=\"spacingAndGlyphs\" textLength=\"48\" x=\"115.5\" y=\"122.7573\">:&gt;&gt;V::m</text><line style=\"stroke: #383838; stroke-width: 1.0;\" x1=\"110.5\" x2=\"133.5\" y1=\"93.3398\" y2=\"93.3398\"/><text fill=\"#000000\" font-family=\"sans-serif\" font-size=\"11\" lengthAdjust=\"spacingAndGlyphs\" textLength=\"55\" x=\"133.5\" y=\"96.6479\">attributes</text><line style=\"stroke: #383838; stroke-width: 1.0;\" x1=\"188.5\" x2=\"211.5\" y1=\"93.3398\" y2=\"93.3398\"/></a><!--MD5=[270fce915f116d4de14055a7c1d9a0f3]\n",
       "class E5--><a href=\"psysml:1ec49292-f6e0-4564-a681-346e27695197\" target=\"_top\" title=\"psysml:1ec49292-f6e0-4564-a681-346e27695197\" xlink:actuate=\"onRequest\" xlink:href=\"psysml:1ec49292-f6e0-4564-a681-346e27695197\" xlink:show=\"new\" xlink:title=\"psysml:1ec49292-f6e0-4564-a681-346e27695197\" xlink:type=\"simple\"><rect fill=\"#FFFFFF\" height=\"45.9375\" id=\"E5\" rx=\"10\" ry=\"10\" style=\"stroke: #383838; stroke-width: 1.5;\" width=\"42\" x=\"32\" y=\"62\"/><text fill=\"#000000\" font-family=\"sans-serif\" font-size=\"12\" font-style=\"italic\" lengthAdjust=\"spacingAndGlyphs\" textLength=\"40\" x=\"33\" y=\"78.1387\">«part»</text><text fill=\"#000000\" font-family=\"sans-serif\" font-size=\"12\" lengthAdjust=\"spacingAndGlyphs\" textLength=\"14\" x=\"44\" y=\"92.1074\">v2</text><line style=\"stroke: #383838; stroke-width: 1.5;\" x1=\"33\" x2=\"73\" y1=\"99.9375\" y2=\"99.9375\"/></a><!--MD5=[05d275557350bfb9b23a4ef7222b4c39]\n",
       "link E3 to E2--><a href=\"psysml:eb47ef55-8727-46f8-948e-289e011721f9\" target=\"_top\" title=\"psysml:eb47ef55-8727-46f8-948e-289e011721f9\" xlink:actuate=\"onRequest\" xlink:href=\"psysml:eb47ef55-8727-46f8-948e-289e011721f9\" xlink:show=\"new\" xlink:title=\"psysml:eb47ef55-8727-46f8-948e-289e011721f9\" xlink:type=\"simple\"><path d=\"M258.38,129.02 C252.17,141.97 245.22,156.45 238.55,170.36 \" fill=\"none\" id=\"E3-&gt;E2\" style=\"stroke: #383838; stroke-width: 1.0;\"/><polygon fill=\"#FFFFFF\" points=\"229.72,188.79,231.6151,168.6304,244.2413,174.6786,229.72,188.79\" style=\"stroke: #383838; stroke-width: 1.0;\"/><ellipse cx=\"235.8813\" cy=\"164.3538\" fill=\"#383838\" rx=\"2\" ry=\"2\" style=\"stroke: #383838; stroke-width: 1.0;\"/><ellipse cx=\"244.9\" cy=\"168.6739\" fill=\"#383838\" rx=\"2\" ry=\"2\" style=\"stroke: #383838; stroke-width: 1.0;\"/></a><!--MD5=[185131fc0dcab0a4505a2ebe144e961b]\n",
       "link E4 to E2--><a href=\"psysml:3b658baa-aed2-418d-9cf3-f3993d6dea2d\" target=\"_top\" title=\"psysml:3b658baa-aed2-418d-9cf3-f3993d6dea2d\" xlink:actuate=\"onRequest\" xlink:href=\"psysml:3b658baa-aed2-418d-9cf3-f3993d6dea2d\" xlink:show=\"new\" xlink:title=\"psysml:3b658baa-aed2-418d-9cf3-f3993d6dea2d\" xlink:type=\"simple\"><path d=\"M175.14,129.02 C179.3,141.67 183.94,155.79 188.42,169.41 \" fill=\"none\" id=\"E4-&gt;E2\" style=\"stroke: #383838; stroke-width: 1.0;\"/><polygon fill=\"none\" points=\"195.2,167.6,194.79,188.79,181.9,171.97,195.2,167.6\" style=\"stroke: #383838; stroke-width: 1.0;\"/></a><!--MD5=[8cea45f41a5c691b5bcce11c2fd53721]\n",
       "@startuml\r\n",
       "skinparam linetype polyline\r\n",
       "skinparam monochrome true\r\n",
       "skinparam classbackgroundcolor white\r\n",
       "skinparam shadowing false\r\n",
       "skinparam wrapWidth 300\r\n",
       "hide circle\r\n",
       "\r\n",
       "package \"DefaultValueTest\" as E1  [[psysml:e41cdd27-e179-4271-915e-4358fc3ae044 ]]  {\r\n",
       "comp def \"V\" as E2  <<(T,blue) part  def>> [[psysml:95d35419-5cb2-4278-8f59-96945510244a ]] {\r\n",
       "- - attributes - -\r\n",
       "m=default = 10; \r\n",
       "n= 20; \r\n",
       "}\r\n",
       "comp usage \"v1: V \" as E3  <<(T,blue) part>> [[psysml:b8cf69e7-8508-48d3-98c1-1a5aff225283 ]] {\r\n",
       "- - attributes - -\r\n",
       "m= 20; \\n//:>>V::m// \r\n",
       "}\r\n",
       "comp def \"W\" as E4  <<(T,blue) part  def>> [[psysml:75d7f18d-3bb0-43da-8a1f-920414b7c194 ]] {\r\n",
       "- - attributes - -\r\n",
       "m=default = n; \\n//:>>V::m// \r\n",
       "}\r\n",
       "comp usage \"v2 \" as E5  <<(T,blue) part>> [[psysml:1ec49292-f6e0-4564-a681-346e27695197 ]] {\r\n",
       "}\r\n",
       "}\r\n",
       "E3 - -:|> E2 [[psysml:eb47ef55-8727-46f8-948e-289e011721f9 ]] \r\n",
       "E4 - -|> E2 [[psysml:3b658baa-aed2-418d-9cf3-f3993d6dea2d ]] \r\n",
       "@enduml\r\n",
       "\n",
       "PlantUML version 1.2020.13(Sat Jun 13 12:26:38 UTC 2020)\n",
       "(EPL source distribution)\n",
       "Java Runtime: OpenJDK Runtime Environment\n",
       "JVM: OpenJDK 64-Bit Server VM\n",
       "Default Encoding: UTF-8\n",
       "Language: en\n",
       "Country: null\n",
       "--></g></svg>"
      ]
     },
     "execution_count": 15,
     "metadata": {},
     "output_type": "execute_result"
    }
   ],
   "source": [
    "%viz --style=\"POLYLINE\" --view=\"MIXED\" \"DefaultValueTest\""
   ]
  },
  {
   "cell_type": "code",
   "execution_count": 16,
   "id": "8194fd83",
   "metadata": {
    "execution": {
     "iopub.execute_input": "2022-07-23T10:55:43.955411Z",
     "iopub.status.busy": "2022-07-23T10:55:43.954958Z",
     "iopub.status.idle": "2022-07-23T10:55:44.046486Z",
     "shell.execute_reply": "2022-07-23T10:55:44.044956Z"
    }
   },
   "outputs": [
    {
     "data": {
      "image/svg+xml": [
       "<?xml version=\"1.0\" encoding=\"UTF-8\" standalone=\"no\"?><svg xmlns=\"http://www.w3.org/2000/svg\" xmlns:xlink=\"http://www.w3.org/1999/xlink\" contentScriptType=\"application/ecmascript\" contentStyleType=\"text/css\" height=\"361px\" preserveAspectRatio=\"none\" style=\"width:339px;height:361px;\" version=\"1.1\" viewBox=\"0 0 339 361\" width=\"339px\" zoomAndPan=\"magnify\"><defs/><g><!--MD5=[fbc87193dbaf4d95561dea2c320d4a47]\n",
       "cluster E1--><a href=\"psysml:e41cdd27-e179-4271-915e-4358fc3ae044\" target=\"_top\" title=\"psysml:e41cdd27-e179-4271-915e-4358fc3ae044\" xlink:actuate=\"onRequest\" xlink:href=\"psysml:e41cdd27-e179-4271-915e-4358fc3ae044\" xlink:show=\"new\" xlink:title=\"psysml:e41cdd27-e179-4271-915e-4358fc3ae044\" xlink:type=\"simple\"><polygon fill=\"#FFFFFF\" points=\"16,6,140,6,147,28.2969,317,28.2969,317,349,16,349,16,6\" style=\"stroke: #000000; stroke-width: 1.5;\"/><line style=\"stroke: #000000; stroke-width: 1.5;\" x1=\"16\" x2=\"147\" y1=\"28.2969\" y2=\"28.2969\"/><text fill=\"#000000\" font-family=\"sans-serif\" font-size=\"14\" font-weight=\"bold\" lengthAdjust=\"spacingAndGlyphs\" textLength=\"118\" x=\"20\" y=\"20.9951\">DefaultValueTest</text></a><!--MD5=[b4997ac47864f28c2f74865a473b2911]\n",
       "class E2--><a href=\"psysml:95d35419-5cb2-4278-8f59-96945510244a\" target=\"_top\" title=\"psysml:95d35419-5cb2-4278-8f59-96945510244a\" xlink:actuate=\"onRequest\" xlink:href=\"psysml:95d35419-5cb2-4278-8f59-96945510244a\" xlink:show=\"new\" xlink:title=\"psysml:95d35419-5cb2-4278-8f59-96945510244a\" xlink:type=\"simple\"><rect fill=\"#FFFFFF\" height=\"88.3516\" id=\"E2\" style=\"stroke: #383838; stroke-width: 1.5;\" width=\"106\" x=\"195\" y=\"103\"/><text fill=\"#000000\" font-family=\"sans-serif\" font-size=\"12\" font-style=\"italic\" lengthAdjust=\"spacingAndGlyphs\" textLength=\"68\" x=\"214\" y=\"119.1387\">«part  def»</text><text fill=\"#000000\" font-family=\"sans-serif\" font-size=\"12\" lengthAdjust=\"spacingAndGlyphs\" textLength=\"8\" x=\"244\" y=\"133.1074\">V</text><line style=\"stroke: #383838; stroke-width: 1.5;\" x1=\"196\" x2=\"300\" y1=\"140.9375\" y2=\"140.9375\"/><text fill=\"#000000\" font-family=\"sans-serif\" font-size=\"11\" lengthAdjust=\"spacingAndGlyphs\" textLength=\"94\" x=\"201\" y=\"171.9526\">m=default = 10;</text><text fill=\"#000000\" font-family=\"sans-serif\" font-size=\"11\" lengthAdjust=\"spacingAndGlyphs\" textLength=\"38\" x=\"201\" y=\"184.7573\">n= 20;</text><line style=\"stroke: #383838; stroke-width: 1.0;\" x1=\"196\" x2=\"220.5\" y1=\"155.3398\" y2=\"155.3398\"/><text fill=\"#000000\" font-family=\"sans-serif\" font-size=\"11\" lengthAdjust=\"spacingAndGlyphs\" textLength=\"55\" x=\"220.5\" y=\"158.6479\">attributes</text><line style=\"stroke: #383838; stroke-width: 1.0;\" x1=\"275.5\" x2=\"300\" y1=\"155.3398\" y2=\"155.3398\"/></a><!--MD5=[09b614a08d8cba4a07c9adeb5e0fee81]\n",
       "class E3--><a href=\"psysml:b8cf69e7-8508-48d3-98c1-1a5aff225283\" target=\"_top\" title=\"psysml:b8cf69e7-8508-48d3-98c1-1a5aff225283\" xlink:actuate=\"onRequest\" xlink:href=\"psysml:b8cf69e7-8508-48d3-98c1-1a5aff225283\" xlink:show=\"new\" xlink:title=\"psysml:b8cf69e7-8508-48d3-98c1-1a5aff225283\" xlink:type=\"simple\"><rect fill=\"#FFFFFF\" height=\"88.3516\" id=\"E3\" rx=\"10\" ry=\"10\" style=\"stroke: #383838; stroke-width: 1.5;\" width=\"63\" x=\"52\" y=\"41\"/><text fill=\"#000000\" font-family=\"sans-serif\" font-size=\"12\" font-style=\"italic\" lengthAdjust=\"spacingAndGlyphs\" textLength=\"40\" x=\"63.5\" y=\"57.1387\">«part»</text><text fill=\"#000000\" font-family=\"sans-serif\" font-size=\"12\" lengthAdjust=\"spacingAndGlyphs\" textLength=\"30\" x=\"66.5\" y=\"71.1074\">v1: V</text><line style=\"stroke: #383838; stroke-width: 1.5;\" x1=\"53\" x2=\"114\" y1=\"78.9375\" y2=\"78.9375\"/><text fill=\"#000000\" font-family=\"sans-serif\" font-size=\"11\" lengthAdjust=\"spacingAndGlyphs\" textLength=\"42\" x=\"58\" y=\"109.9526\">m= 20;</text><text fill=\"#000000\" font-family=\"sans-serif\" font-size=\"11\" font-style=\"italic\" lengthAdjust=\"spacingAndGlyphs\" textLength=\"48\" x=\"58\" y=\"122.7573\">:&gt;&gt;V::m</text><line style=\"stroke: #383838; stroke-width: 1.0;\" x1=\"53\" x2=\"56\" y1=\"93.3398\" y2=\"93.3398\"/><text fill=\"#000000\" font-family=\"sans-serif\" font-size=\"11\" lengthAdjust=\"spacingAndGlyphs\" textLength=\"55\" x=\"56\" y=\"96.6479\">attributes</text><line style=\"stroke: #383838; stroke-width: 1.0;\" x1=\"111\" x2=\"114\" y1=\"93.3398\" y2=\"93.3398\"/></a><!--MD5=[ebbe1d658d1005bcc118a6aa81145e00]\n",
       "class E4--><a href=\"psysml:75d7f18d-3bb0-43da-8a1f-920414b7c194\" target=\"_top\" title=\"psysml:75d7f18d-3bb0-43da-8a1f-920414b7c194\" xlink:actuate=\"onRequest\" xlink:href=\"psysml:75d7f18d-3bb0-43da-8a1f-920414b7c194\" xlink:show=\"new\" xlink:title=\"psysml:75d7f18d-3bb0-43da-8a1f-920414b7c194\" xlink:type=\"simple\"><rect fill=\"#FFFFFF\" height=\"88.3516\" id=\"E4\" style=\"stroke: #383838; stroke-width: 1.5;\" width=\"103\" x=\"32\" y=\"164\"/><text fill=\"#000000\" font-family=\"sans-serif\" font-size=\"12\" font-style=\"italic\" lengthAdjust=\"spacingAndGlyphs\" textLength=\"68\" x=\"49.5\" y=\"180.1387\">«part  def»</text><text fill=\"#000000\" font-family=\"sans-serif\" font-size=\"12\" lengthAdjust=\"spacingAndGlyphs\" textLength=\"11\" x=\"78\" y=\"194.1074\">W</text><line style=\"stroke: #383838; stroke-width: 1.5;\" x1=\"33\" x2=\"134\" y1=\"201.9375\" y2=\"201.9375\"/><text fill=\"#000000\" font-family=\"sans-serif\" font-size=\"11\" lengthAdjust=\"spacingAndGlyphs\" textLength=\"87\" x=\"38\" y=\"232.9526\">m=default = n;</text><text fill=\"#000000\" font-family=\"sans-serif\" font-size=\"11\" font-style=\"italic\" lengthAdjust=\"spacingAndGlyphs\" textLength=\"48\" x=\"38\" y=\"245.7573\">:&gt;&gt;V::m</text><line style=\"stroke: #383838; stroke-width: 1.0;\" x1=\"33\" x2=\"56\" y1=\"216.3398\" y2=\"216.3398\"/><text fill=\"#000000\" font-family=\"sans-serif\" font-size=\"11\" lengthAdjust=\"spacingAndGlyphs\" textLength=\"55\" x=\"56\" y=\"219.6479\">attributes</text><line style=\"stroke: #383838; stroke-width: 1.0;\" x1=\"111\" x2=\"134\" y1=\"216.3398\" y2=\"216.3398\"/></a><!--MD5=[270fce915f116d4de14055a7c1d9a0f3]\n",
       "class E5--><a href=\"psysml:1ec49292-f6e0-4564-a681-346e27695197\" target=\"_top\" title=\"psysml:1ec49292-f6e0-4564-a681-346e27695197\" xlink:actuate=\"onRequest\" xlink:href=\"psysml:1ec49292-f6e0-4564-a681-346e27695197\" xlink:show=\"new\" xlink:title=\"psysml:1ec49292-f6e0-4564-a681-346e27695197\" xlink:type=\"simple\"><rect fill=\"#FFFFFF\" height=\"45.9375\" id=\"E5\" rx=\"10\" ry=\"10\" style=\"stroke: #383838; stroke-width: 1.5;\" width=\"42\" x=\"62.5\" y=\"287\"/><text fill=\"#000000\" font-family=\"sans-serif\" font-size=\"12\" font-style=\"italic\" lengthAdjust=\"spacingAndGlyphs\" textLength=\"40\" x=\"63.5\" y=\"303.1387\">«part»</text><text fill=\"#000000\" font-family=\"sans-serif\" font-size=\"12\" lengthAdjust=\"spacingAndGlyphs\" textLength=\"14\" x=\"74.5\" y=\"317.1074\">v2</text><line style=\"stroke: #383838; stroke-width: 1.5;\" x1=\"63.5\" x2=\"103.5\" y1=\"324.9375\" y2=\"324.9375\"/></a><!--MD5=[05d275557350bfb9b23a4ef7222b4c39]\n",
       "link E3 to E2--><a href=\"psysml:eb47ef55-8727-46f8-948e-289e011721f9\" target=\"_top\" title=\"psysml:eb47ef55-8727-46f8-948e-289e011721f9\" xlink:actuate=\"onRequest\" xlink:href=\"psysml:eb47ef55-8727-46f8-948e-289e011721f9\" xlink:show=\"new\" xlink:title=\"psysml:eb47ef55-8727-46f8-948e-289e011721f9\" xlink:type=\"simple\"><path d=\"M115.07,96.66 C132.33,103.25 154.67,111.77 176.05,119.93 \" fill=\"none\" id=\"E3-&gt;E2\" style=\"stroke: #383838; stroke-width: 1.0;\"/><polygon fill=\"#FFFFFF\" points=\"194.84,127.1,174.5929,126.8678,179.583,113.7874,194.84,127.1\" style=\"stroke: #383838; stroke-width: 1.0;\"/><ellipse cx=\"169.9801\" cy=\"122.9675\" fill=\"#383838\" rx=\"2\" ry=\"2\" style=\"stroke: #383838; stroke-width: 1.0;\"/><ellipse cx=\"173.5446\" cy=\"113.6243\" fill=\"#383838\" rx=\"2\" ry=\"2\" style=\"stroke: #383838; stroke-width: 1.0;\"/></a><!--MD5=[185131fc0dcab0a4505a2ebe144e961b]\n",
       "link E4 to E2--><a href=\"psysml:3b658baa-aed2-418d-9cf3-f3993d6dea2d\" target=\"_top\" title=\"psysml:3b658baa-aed2-418d-9cf3-f3993d6dea2d\" xlink:actuate=\"onRequest\" xlink:href=\"psysml:3b658baa-aed2-418d-9cf3-f3993d6dea2d\" xlink:show=\"new\" xlink:title=\"psysml:3b658baa-aed2-418d-9cf3-f3993d6dea2d\" xlink:type=\"simple\"><path d=\"M135.03,189.03 C147.94,184.18 162.08,178.88 175.82,173.72 \" fill=\"none\" id=\"E4-&gt;E2\" style=\"stroke: #383838; stroke-width: 1.0;\"/><polygon fill=\"none\" points=\"173.64,167.06,194.82,166.59,178.56,180.17,173.64,167.06\" style=\"stroke: #383838; stroke-width: 1.0;\"/></a><!--MD5=[268b52ec53c3fc83842a4bf94b62f503]\n",
       "@startuml\r\n",
       "left to right direction\r\n",
       "skinparam monochrome true\r\n",
       "skinparam classbackgroundcolor white\r\n",
       "skinparam shadowing false\r\n",
       "skinparam wrapWidth 300\r\n",
       "hide circle\r\n",
       "\r\n",
       "package \"DefaultValueTest\" as E1  [[psysml:e41cdd27-e179-4271-915e-4358fc3ae044 ]]  {\r\n",
       "comp def \"V\" as E2  <<(T,blue) part  def>> [[psysml:95d35419-5cb2-4278-8f59-96945510244a ]] {\r\n",
       "- - attributes - -\r\n",
       "m=default = 10; \r\n",
       "n= 20; \r\n",
       "}\r\n",
       "comp usage \"v1: V \" as E3  <<(T,blue) part>> [[psysml:b8cf69e7-8508-48d3-98c1-1a5aff225283 ]] {\r\n",
       "- - attributes - -\r\n",
       "m= 20; \\n//:>>V::m// \r\n",
       "}\r\n",
       "comp def \"W\" as E4  <<(T,blue) part  def>> [[psysml:75d7f18d-3bb0-43da-8a1f-920414b7c194 ]] {\r\n",
       "- - attributes - -\r\n",
       "m=default = n; \\n//:>>V::m// \r\n",
       "}\r\n",
       "comp usage \"v2 \" as E5  <<(T,blue) part>> [[psysml:1ec49292-f6e0-4564-a681-346e27695197 ]] {\r\n",
       "}\r\n",
       "}\r\n",
       "E3 - -:|> E2 [[psysml:eb47ef55-8727-46f8-948e-289e011721f9 ]] \r\n",
       "E4 - -|> E2 [[psysml:3b658baa-aed2-418d-9cf3-f3993d6dea2d ]] \r\n",
       "@enduml\r\n",
       "\n",
       "PlantUML version 1.2020.13(Sat Jun 13 12:26:38 UTC 2020)\n",
       "(EPL source distribution)\n",
       "Java Runtime: OpenJDK Runtime Environment\n",
       "JVM: OpenJDK 64-Bit Server VM\n",
       "Default Encoding: UTF-8\n",
       "Language: en\n",
       "Country: null\n",
       "--></g></svg>"
      ]
     },
     "execution_count": 16,
     "metadata": {},
     "output_type": "execute_result"
    }
   ],
   "source": [
    "%viz --style=\"LR\" --view=\"Default\" \"DefaultValueTest\""
   ]
  },
  {
   "cell_type": "code",
   "execution_count": 17,
   "id": "cfd14d72",
   "metadata": {
    "execution": {
     "iopub.execute_input": "2022-07-23T10:55:44.095811Z",
     "iopub.status.busy": "2022-07-23T10:55:44.095284Z",
     "iopub.status.idle": "2022-07-23T10:55:44.157703Z",
     "shell.execute_reply": "2022-07-23T10:55:44.153018Z"
    }
   },
   "outputs": [
    {
     "data": {
      "image/svg+xml": [
       "<?xml version=\"1.0\" encoding=\"UTF-8\" standalone=\"no\"?><svg xmlns=\"http://www.w3.org/2000/svg\" xmlns:xlink=\"http://www.w3.org/1999/xlink\" contentScriptType=\"application/ecmascript\" contentStyleType=\"text/css\" height=\"361px\" preserveAspectRatio=\"none\" style=\"width:339px;height:361px;\" version=\"1.1\" viewBox=\"0 0 339 361\" width=\"339px\" zoomAndPan=\"magnify\"><defs/><g><!--MD5=[fbc87193dbaf4d95561dea2c320d4a47]\n",
       "cluster E1--><a href=\"psysml:e41cdd27-e179-4271-915e-4358fc3ae044\" target=\"_top\" title=\"psysml:e41cdd27-e179-4271-915e-4358fc3ae044\" xlink:actuate=\"onRequest\" xlink:href=\"psysml:e41cdd27-e179-4271-915e-4358fc3ae044\" xlink:show=\"new\" xlink:title=\"psysml:e41cdd27-e179-4271-915e-4358fc3ae044\" xlink:type=\"simple\"><polygon fill=\"#FFFFFF\" points=\"16,6,140,6,147,28.2969,317,28.2969,317,349,16,349,16,6\" style=\"stroke: #000000; stroke-width: 1.5;\"/><line style=\"stroke: #000000; stroke-width: 1.5;\" x1=\"16\" x2=\"147\" y1=\"28.2969\" y2=\"28.2969\"/><text fill=\"#000000\" font-family=\"sans-serif\" font-size=\"14\" font-weight=\"bold\" lengthAdjust=\"spacingAndGlyphs\" textLength=\"118\" x=\"20\" y=\"20.9951\">DefaultValueTest</text></a><!--MD5=[b4997ac47864f28c2f74865a473b2911]\n",
       "class E2--><a href=\"psysml:95d35419-5cb2-4278-8f59-96945510244a\" target=\"_top\" title=\"psysml:95d35419-5cb2-4278-8f59-96945510244a\" xlink:actuate=\"onRequest\" xlink:href=\"psysml:95d35419-5cb2-4278-8f59-96945510244a\" xlink:show=\"new\" xlink:title=\"psysml:95d35419-5cb2-4278-8f59-96945510244a\" xlink:type=\"simple\"><rect fill=\"#FFFFFF\" height=\"88.3516\" id=\"E2\" style=\"stroke: #383838; stroke-width: 1.5;\" width=\"106\" x=\"195\" y=\"103\"/><text fill=\"#000000\" font-family=\"sans-serif\" font-size=\"12\" font-style=\"italic\" lengthAdjust=\"spacingAndGlyphs\" textLength=\"68\" x=\"214\" y=\"119.1387\">«part  def»</text><text fill=\"#000000\" font-family=\"sans-serif\" font-size=\"12\" lengthAdjust=\"spacingAndGlyphs\" textLength=\"8\" x=\"244\" y=\"133.1074\">V</text><line style=\"stroke: #383838; stroke-width: 1.5;\" x1=\"196\" x2=\"300\" y1=\"140.9375\" y2=\"140.9375\"/><text fill=\"#000000\" font-family=\"sans-serif\" font-size=\"11\" lengthAdjust=\"spacingAndGlyphs\" textLength=\"94\" x=\"201\" y=\"171.9526\">m=default = 10;</text><text fill=\"#000000\" font-family=\"sans-serif\" font-size=\"11\" lengthAdjust=\"spacingAndGlyphs\" textLength=\"38\" x=\"201\" y=\"184.7573\">n= 20;</text><line style=\"stroke: #383838; stroke-width: 1.0;\" x1=\"196\" x2=\"220.5\" y1=\"155.3398\" y2=\"155.3398\"/><text fill=\"#000000\" font-family=\"sans-serif\" font-size=\"11\" lengthAdjust=\"spacingAndGlyphs\" textLength=\"55\" x=\"220.5\" y=\"158.6479\">attributes</text><line style=\"stroke: #383838; stroke-width: 1.0;\" x1=\"275.5\" x2=\"300\" y1=\"155.3398\" y2=\"155.3398\"/></a><!--MD5=[09b614a08d8cba4a07c9adeb5e0fee81]\n",
       "class E3--><a href=\"psysml:b8cf69e7-8508-48d3-98c1-1a5aff225283\" target=\"_top\" title=\"psysml:b8cf69e7-8508-48d3-98c1-1a5aff225283\" xlink:actuate=\"onRequest\" xlink:href=\"psysml:b8cf69e7-8508-48d3-98c1-1a5aff225283\" xlink:show=\"new\" xlink:title=\"psysml:b8cf69e7-8508-48d3-98c1-1a5aff225283\" xlink:type=\"simple\"><rect fill=\"#FFFFFF\" height=\"88.3516\" id=\"E3\" rx=\"10\" ry=\"10\" style=\"stroke: #383838; stroke-width: 1.5;\" width=\"63\" x=\"52\" y=\"41\"/><text fill=\"#000000\" font-family=\"sans-serif\" font-size=\"12\" font-style=\"italic\" lengthAdjust=\"spacingAndGlyphs\" textLength=\"40\" x=\"63.5\" y=\"57.1387\">«part»</text><text fill=\"#000000\" font-family=\"sans-serif\" font-size=\"12\" lengthAdjust=\"spacingAndGlyphs\" textLength=\"30\" x=\"66.5\" y=\"71.1074\">v1: V</text><line style=\"stroke: #383838; stroke-width: 1.5;\" x1=\"53\" x2=\"114\" y1=\"78.9375\" y2=\"78.9375\"/><text fill=\"#000000\" font-family=\"sans-serif\" font-size=\"11\" lengthAdjust=\"spacingAndGlyphs\" textLength=\"42\" x=\"58\" y=\"109.9526\">m= 20;</text><text fill=\"#000000\" font-family=\"sans-serif\" font-size=\"11\" font-style=\"italic\" lengthAdjust=\"spacingAndGlyphs\" textLength=\"48\" x=\"58\" y=\"122.7573\">:&gt;&gt;V::m</text><line style=\"stroke: #383838; stroke-width: 1.0;\" x1=\"53\" x2=\"56\" y1=\"93.3398\" y2=\"93.3398\"/><text fill=\"#000000\" font-family=\"sans-serif\" font-size=\"11\" lengthAdjust=\"spacingAndGlyphs\" textLength=\"55\" x=\"56\" y=\"96.6479\">attributes</text><line style=\"stroke: #383838; stroke-width: 1.0;\" x1=\"111\" x2=\"114\" y1=\"93.3398\" y2=\"93.3398\"/></a><!--MD5=[ebbe1d658d1005bcc118a6aa81145e00]\n",
       "class E4--><a href=\"psysml:75d7f18d-3bb0-43da-8a1f-920414b7c194\" target=\"_top\" title=\"psysml:75d7f18d-3bb0-43da-8a1f-920414b7c194\" xlink:actuate=\"onRequest\" xlink:href=\"psysml:75d7f18d-3bb0-43da-8a1f-920414b7c194\" xlink:show=\"new\" xlink:title=\"psysml:75d7f18d-3bb0-43da-8a1f-920414b7c194\" xlink:type=\"simple\"><rect fill=\"#FFFFFF\" height=\"88.3516\" id=\"E4\" style=\"stroke: #383838; stroke-width: 1.5;\" width=\"103\" x=\"32\" y=\"164\"/><text fill=\"#000000\" font-family=\"sans-serif\" font-size=\"12\" font-style=\"italic\" lengthAdjust=\"spacingAndGlyphs\" textLength=\"68\" x=\"49.5\" y=\"180.1387\">«part  def»</text><text fill=\"#000000\" font-family=\"sans-serif\" font-size=\"12\" lengthAdjust=\"spacingAndGlyphs\" textLength=\"11\" x=\"78\" y=\"194.1074\">W</text><line style=\"stroke: #383838; stroke-width: 1.5;\" x1=\"33\" x2=\"134\" y1=\"201.9375\" y2=\"201.9375\"/><text fill=\"#000000\" font-family=\"sans-serif\" font-size=\"11\" lengthAdjust=\"spacingAndGlyphs\" textLength=\"87\" x=\"38\" y=\"232.9526\">m=default = n;</text><text fill=\"#000000\" font-family=\"sans-serif\" font-size=\"11\" font-style=\"italic\" lengthAdjust=\"spacingAndGlyphs\" textLength=\"48\" x=\"38\" y=\"245.7573\">:&gt;&gt;V::m</text><line style=\"stroke: #383838; stroke-width: 1.0;\" x1=\"33\" x2=\"56\" y1=\"216.3398\" y2=\"216.3398\"/><text fill=\"#000000\" font-family=\"sans-serif\" font-size=\"11\" lengthAdjust=\"spacingAndGlyphs\" textLength=\"55\" x=\"56\" y=\"219.6479\">attributes</text><line style=\"stroke: #383838; stroke-width: 1.0;\" x1=\"111\" x2=\"134\" y1=\"216.3398\" y2=\"216.3398\"/></a><!--MD5=[270fce915f116d4de14055a7c1d9a0f3]\n",
       "class E5--><a href=\"psysml:1ec49292-f6e0-4564-a681-346e27695197\" target=\"_top\" title=\"psysml:1ec49292-f6e0-4564-a681-346e27695197\" xlink:actuate=\"onRequest\" xlink:href=\"psysml:1ec49292-f6e0-4564-a681-346e27695197\" xlink:show=\"new\" xlink:title=\"psysml:1ec49292-f6e0-4564-a681-346e27695197\" xlink:type=\"simple\"><rect fill=\"#FFFFFF\" height=\"45.9375\" id=\"E5\" rx=\"10\" ry=\"10\" style=\"stroke: #383838; stroke-width: 1.5;\" width=\"42\" x=\"62.5\" y=\"287\"/><text fill=\"#000000\" font-family=\"sans-serif\" font-size=\"12\" font-style=\"italic\" lengthAdjust=\"spacingAndGlyphs\" textLength=\"40\" x=\"63.5\" y=\"303.1387\">«part»</text><text fill=\"#000000\" font-family=\"sans-serif\" font-size=\"12\" lengthAdjust=\"spacingAndGlyphs\" textLength=\"14\" x=\"74.5\" y=\"317.1074\">v2</text><line style=\"stroke: #383838; stroke-width: 1.5;\" x1=\"63.5\" x2=\"103.5\" y1=\"324.9375\" y2=\"324.9375\"/></a><!--MD5=[05d275557350bfb9b23a4ef7222b4c39]\n",
       "link E3 to E2--><a href=\"psysml:eb47ef55-8727-46f8-948e-289e011721f9\" target=\"_top\" title=\"psysml:eb47ef55-8727-46f8-948e-289e011721f9\" xlink:actuate=\"onRequest\" xlink:href=\"psysml:eb47ef55-8727-46f8-948e-289e011721f9\" xlink:show=\"new\" xlink:title=\"psysml:eb47ef55-8727-46f8-948e-289e011721f9\" xlink:type=\"simple\"><path d=\"M115.07,96.66 C132.33,103.25 154.67,111.77 176.05,119.93 \" fill=\"none\" id=\"E3-&gt;E2\" style=\"stroke: #383838; stroke-width: 1.0;\"/><polygon fill=\"#FFFFFF\" points=\"194.84,127.1,174.5929,126.8678,179.583,113.7874,194.84,127.1\" style=\"stroke: #383838; stroke-width: 1.0;\"/><ellipse cx=\"169.9801\" cy=\"122.9675\" fill=\"#383838\" rx=\"2\" ry=\"2\" style=\"stroke: #383838; stroke-width: 1.0;\"/><ellipse cx=\"173.5446\" cy=\"113.6243\" fill=\"#383838\" rx=\"2\" ry=\"2\" style=\"stroke: #383838; stroke-width: 1.0;\"/></a><!--MD5=[185131fc0dcab0a4505a2ebe144e961b]\n",
       "link E4 to E2--><a href=\"psysml:3b658baa-aed2-418d-9cf3-f3993d6dea2d\" target=\"_top\" title=\"psysml:3b658baa-aed2-418d-9cf3-f3993d6dea2d\" xlink:actuate=\"onRequest\" xlink:href=\"psysml:3b658baa-aed2-418d-9cf3-f3993d6dea2d\" xlink:show=\"new\" xlink:title=\"psysml:3b658baa-aed2-418d-9cf3-f3993d6dea2d\" xlink:type=\"simple\"><path d=\"M135.03,189.03 C147.94,184.18 162.08,178.88 175.82,173.72 \" fill=\"none\" id=\"E4-&gt;E2\" style=\"stroke: #383838; stroke-width: 1.0;\"/><polygon fill=\"none\" points=\"173.64,167.06,194.82,166.59,178.56,180.17,173.64,167.06\" style=\"stroke: #383838; stroke-width: 1.0;\"/></a><!--MD5=[268b52ec53c3fc83842a4bf94b62f503]\n",
       "@startuml\r\n",
       "left to right direction\r\n",
       "skinparam monochrome true\r\n",
       "skinparam classbackgroundcolor white\r\n",
       "skinparam shadowing false\r\n",
       "skinparam wrapWidth 300\r\n",
       "hide circle\r\n",
       "\r\n",
       "package \"DefaultValueTest\" as E1  [[psysml:e41cdd27-e179-4271-915e-4358fc3ae044 ]]  {\r\n",
       "comp def \"V\" as E2  <<(T,blue) part  def>> [[psysml:95d35419-5cb2-4278-8f59-96945510244a ]] {\r\n",
       "- - attributes - -\r\n",
       "m=default = 10; \r\n",
       "n= 20; \r\n",
       "}\r\n",
       "comp usage \"v1: V \" as E3  <<(T,blue) part>> [[psysml:b8cf69e7-8508-48d3-98c1-1a5aff225283 ]] {\r\n",
       "- - attributes - -\r\n",
       "m= 20; \\n//:>>V::m// \r\n",
       "}\r\n",
       "comp def \"W\" as E4  <<(T,blue) part  def>> [[psysml:75d7f18d-3bb0-43da-8a1f-920414b7c194 ]] {\r\n",
       "- - attributes - -\r\n",
       "m=default = n; \\n//:>>V::m// \r\n",
       "}\r\n",
       "comp usage \"v2 \" as E5  <<(T,blue) part>> [[psysml:1ec49292-f6e0-4564-a681-346e27695197 ]] {\r\n",
       "}\r\n",
       "}\r\n",
       "E3 - -:|> E2 [[psysml:eb47ef55-8727-46f8-948e-289e011721f9 ]] \r\n",
       "E4 - -|> E2 [[psysml:3b658baa-aed2-418d-9cf3-f3993d6dea2d ]] \r\n",
       "@enduml\r\n",
       "\n",
       "PlantUML version 1.2020.13(Sat Jun 13 12:26:38 UTC 2020)\n",
       "(EPL source distribution)\n",
       "Java Runtime: OpenJDK Runtime Environment\n",
       "JVM: OpenJDK 64-Bit Server VM\n",
       "Default Encoding: UTF-8\n",
       "Language: en\n",
       "Country: null\n",
       "--></g></svg>"
      ]
     },
     "execution_count": 17,
     "metadata": {},
     "output_type": "execute_result"
    }
   ],
   "source": [
    "%viz --style=\"LR\" --view=\"Tree\" \"DefaultValueTest\""
   ]
  },
  {
   "cell_type": "code",
   "execution_count": 18,
   "id": "f984327a",
   "metadata": {
    "execution": {
     "iopub.execute_input": "2022-07-23T10:55:44.204204Z",
     "iopub.status.busy": "2022-07-23T10:55:44.203738Z",
     "iopub.status.idle": "2022-07-23T10:55:44.209032Z",
     "shell.execute_reply": "2022-07-23T10:55:44.209355Z"
    }
   },
   "outputs": [
    {
     "data": {
      "image/svg+xml": [
       "<?xml version=\"1.0\" encoding=\"UTF-8\" standalone=\"no\"?><svg xmlns=\"http://www.w3.org/2000/svg\" xmlns:xlink=\"http://www.w3.org/1999/xlink\" contentScriptType=\"application/ecmascript\" contentStyleType=\"text/css\" height=\"12px\" preserveAspectRatio=\"none\" style=\"width:12px;height:12px;\" version=\"1.1\" viewBox=\"0 0 12 12\" width=\"12px\" zoomAndPan=\"magnify\"><defs/><g><!--MD5=[19d285c9d72a204eba4e2cd117d745e8]\n",
       "@startuml\r\n",
       "left to right direction\r\n",
       "skinparam monochrome true\r\n",
       "skinparam classbackgroundcolor white\r\n",
       "skinparam shadowing false\r\n",
       "skinparam wrapWidth 300\r\n",
       "hide circle\r\n",
       "\r\n",
       "@enduml\r\n",
       "\n",
       "PlantUML version 1.2020.13(Sat Jun 13 12:26:38 UTC 2020)\n",
       "(EPL source distribution)\n",
       "Java Runtime: OpenJDK Runtime Environment\n",
       "JVM: OpenJDK 64-Bit Server VM\n",
       "Default Encoding: UTF-8\n",
       "Language: en\n",
       "Country: null\n",
       "--></g></svg>"
      ]
     },
     "execution_count": 18,
     "metadata": {},
     "output_type": "execute_result"
    }
   ],
   "source": [
    "%viz --style=\"LR\" --view=\"State\" \"DefaultValueTest\""
   ]
  },
  {
   "cell_type": "code",
   "execution_count": 19,
   "id": "5000102a",
   "metadata": {
    "execution": {
     "iopub.execute_input": "2022-07-23T10:55:44.259626Z",
     "iopub.status.busy": "2022-07-23T10:55:44.259150Z",
     "iopub.status.idle": "2022-07-23T10:55:44.304950Z",
     "shell.execute_reply": "2022-07-23T10:55:44.304546Z"
    }
   },
   "outputs": [
    {
     "data": {
      "image/svg+xml": [
       "<?xml version=\"1.0\" encoding=\"UTF-8\" standalone=\"no\"?><svg xmlns=\"http://www.w3.org/2000/svg\" xmlns:xlink=\"http://www.w3.org/1999/xlink\" contentScriptType=\"application/ecmascript\" contentStyleType=\"text/css\" height=\"472px\" preserveAspectRatio=\"none\" style=\"width:380px;height:472px;\" version=\"1.1\" viewBox=\"0 0 380 472\" width=\"380px\" zoomAndPan=\"magnify\"><defs/><g><!--MD5=[fbc87193dbaf4d95561dea2c320d4a47]\n",
       "cluster E1--><a href=\"psysml:e41cdd27-e179-4271-915e-4358fc3ae044\" target=\"_top\" title=\"psysml:e41cdd27-e179-4271-915e-4358fc3ae044\" xlink:actuate=\"onRequest\" xlink:href=\"psysml:e41cdd27-e179-4271-915e-4358fc3ae044\" xlink:show=\"new\" xlink:title=\"psysml:e41cdd27-e179-4271-915e-4358fc3ae044\" xlink:type=\"simple\"><polygon fill=\"#FFFFFF\" points=\"16,6,140,6,147,28.2969,358,28.2969,358,460,16,460,16,6\" style=\"stroke: #000000; stroke-width: 1.5;\"/><line style=\"stroke: #000000; stroke-width: 1.5;\" x1=\"16\" x2=\"147\" y1=\"28.2969\" y2=\"28.2969\"/><text fill=\"#000000\" font-family=\"sans-serif\" font-size=\"14\" font-weight=\"bold\" lengthAdjust=\"spacingAndGlyphs\" textLength=\"118\" x=\"20\" y=\"20.9951\">DefaultValueTest</text></a><!--MD5=[e4f7fae6ed58524ba242bb0b0d3be6b7]\n",
       "cluster E2--><a href=\"psysml:95d35419-5cb2-4278-8f59-96945510244a\" target=\"_top\" title=\"psysml:95d35419-5cb2-4278-8f59-96945510244a\" xlink:actuate=\"onRequest\" xlink:href=\"psysml:95d35419-5cb2-4278-8f59-96945510244a\" xlink:show=\"new\" xlink:title=\"psysml:95d35419-5cb2-4278-8f59-96945510244a\" xlink:type=\"simple\"><rect fill=\"#FFFFFF\" height=\"229\" id=\"E2\" style=\"stroke: #383838; stroke-width: 1.5;\" width=\"119\" x=\"207\" y=\"103\"/><rect fill=\"#F8F8F8\" height=\"37.9375\" style=\"stroke: #383838; stroke-width: 1.5;\" width=\"119\" x=\"207\" y=\"103\"/><text fill=\"#000000\" font-family=\"sans-serif\" font-size=\"12\" font-style=\"italic\" lengthAdjust=\"spacingAndGlyphs\" textLength=\"68\" x=\"232.5\" y=\"119.1387\">«part  def»</text><text fill=\"#000000\" font-family=\"sans-serif\" font-size=\"12\" lengthAdjust=\"spacingAndGlyphs\" textLength=\"8\" x=\"262.5\" y=\"133.1074\">V</text></a><!--MD5=[de5ec2e2e8f62f467e546659f5068c88]\n",
       "cluster E5--><a href=\"psysml:b8cf69e7-8508-48d3-98c1-1a5aff225283\" target=\"_top\" title=\"psysml:b8cf69e7-8508-48d3-98c1-1a5aff225283\" xlink:actuate=\"onRequest\" xlink:href=\"psysml:b8cf69e7-8508-48d3-98c1-1a5aff225283\" xlink:show=\"new\" xlink:title=\"psysml:b8cf69e7-8508-48d3-98c1-1a5aff225283\" xlink:type=\"simple\"><rect fill=\"#FFFFFF\" height=\"132\" id=\"E5\" rx=\"10\" ry=\"10\" style=\"stroke: #383838; stroke-width: 1.5;\" width=\"119\" x=\"48\" y=\"57\"/><rect fill=\"#F8F8F8\" height=\"23.9688\" rx=\"10\" ry=\"10\" style=\"stroke: #F8F8F8; stroke-width: 1.5;\" width=\"119\" x=\"48\" y=\"57\"/><rect fill=\"#F8F8F8\" height=\"10\" style=\"stroke: #F8F8F8; stroke-width: 1.5;\" width=\"119\" x=\"48\" y=\"70.9688\"/><rect fill=\"none\" height=\"132\" id=\"E5\" rx=\"10\" ry=\"10\" style=\"stroke: #383838; stroke-width: 1.5;\" width=\"119\" x=\"48\" y=\"57\"/><text fill=\"#000000\" font-family=\"sans-serif\" font-size=\"12\" lengthAdjust=\"spacingAndGlyphs\" textLength=\"30\" x=\"92.5\" y=\"73.1387\">v1: V</text><line style=\"stroke: #383838; stroke-width: 1.0;\" x1=\"48\" x2=\"167\" y1=\"80.9688\" y2=\"80.9688\"/></a><!--MD5=[168fadf3d0c3fd93dd5d6da1b1d7ab76]\n",
       "cluster E7--><a href=\"psysml:75d7f18d-3bb0-43da-8a1f-920414b7c194\" target=\"_top\" title=\"psysml:75d7f18d-3bb0-43da-8a1f-920414b7c194\" xlink:actuate=\"onRequest\" xlink:href=\"psysml:75d7f18d-3bb0-43da-8a1f-920414b7c194\" xlink:show=\"new\" xlink:title=\"psysml:75d7f18d-3bb0-43da-8a1f-920414b7c194\" xlink:type=\"simple\"><rect fill=\"#FFFFFF\" height=\"148\" id=\"E7\" style=\"stroke: #383838; stroke-width: 1.5;\" width=\"119\" x=\"48\" y=\"229\"/><rect fill=\"#F8F8F8\" height=\"37.9375\" style=\"stroke: #383838; stroke-width: 1.5;\" width=\"119\" x=\"48\" y=\"229\"/><text fill=\"#000000\" font-family=\"sans-serif\" font-size=\"12\" font-style=\"italic\" lengthAdjust=\"spacingAndGlyphs\" textLength=\"68\" x=\"73.5\" y=\"245.1387\">«part  def»</text><text fill=\"#000000\" font-family=\"sans-serif\" font-size=\"12\" lengthAdjust=\"spacingAndGlyphs\" textLength=\"11\" x=\"102\" y=\"259.1074\">W</text></a><!--MD5=[09b614a08d8cba4a07c9adeb5e0fee81]\n",
       "class E3--><a href=\"psysml:6a54ba7f-e62a-486f-80dd-d9293281f966\" target=\"_top\" title=\"psysml:6a54ba7f-e62a-486f-80dd-d9293281f966\" xlink:actuate=\"onRequest\" xlink:href=\"psysml:6a54ba7f-e62a-486f-80dd-d9293281f966\" xlink:show=\"new\" xlink:title=\"psysml:6a54ba7f-e62a-486f-80dd-d9293281f966\" xlink:type=\"simple\"><rect fill=\"#FFFFFF\" height=\"45.9375\" id=\"E3\" rx=\"10\" ry=\"10\" style=\"stroke: #383838; stroke-width: 1.5;\" width=\"71\" x=\"231\" y=\"162\"/><text fill=\"#000000\" font-family=\"sans-serif\" font-size=\"12\" font-style=\"italic\" lengthAdjust=\"spacingAndGlyphs\" textLength=\"69\" x=\"232\" y=\"178.1387\">«attribute»</text><text fill=\"#000000\" font-family=\"sans-serif\" font-size=\"12\" lengthAdjust=\"spacingAndGlyphs\" textLength=\"11\" x=\"259\" y=\"192.1074\">m</text><line style=\"stroke: #383838; stroke-width: 1.5;\" x1=\"232\" x2=\"301\" y1=\"199.9375\" y2=\"199.9375\"/></a><!--MD5=[ebbe1d658d1005bcc118a6aa81145e00]\n",
       "class E4--><a href=\"psysml:16f4b3d0-0144-41cb-ad29-b9c3c07c611b\" target=\"_top\" title=\"psysml:16f4b3d0-0144-41cb-ad29-b9c3c07c611b\" xlink:actuate=\"onRequest\" xlink:href=\"psysml:16f4b3d0-0144-41cb-ad29-b9c3c07c611b\" xlink:show=\"new\" xlink:title=\"psysml:16f4b3d0-0144-41cb-ad29-b9c3c07c611b\" xlink:type=\"simple\"><rect fill=\"#FFFFFF\" height=\"45.9375\" id=\"E4\" rx=\"10\" ry=\"10\" style=\"stroke: #383838; stroke-width: 1.5;\" width=\"71\" x=\"231\" y=\"243\"/><text fill=\"#000000\" font-family=\"sans-serif\" font-size=\"12\" font-style=\"italic\" lengthAdjust=\"spacingAndGlyphs\" textLength=\"69\" x=\"232\" y=\"259.1387\">«attribute»</text><text fill=\"#000000\" font-family=\"sans-serif\" font-size=\"12\" lengthAdjust=\"spacingAndGlyphs\" textLength=\"8\" x=\"260.5\" y=\"273.1074\">n</text><line style=\"stroke: #383838; stroke-width: 1.5;\" x1=\"232\" x2=\"301\" y1=\"280.9375\" y2=\"280.9375\"/></a><!--MD5=[60a26617385b1d2d0262a64233df1f8d]\n",
       "class E6--><a href=\"psysml:8ab4ea45-bcef-481a-a1e6-04e630fb5715\" target=\"_top\" title=\"psysml:8ab4ea45-bcef-481a-a1e6-04e630fb5715\" xlink:actuate=\"onRequest\" xlink:href=\"psysml:8ab4ea45-bcef-481a-a1e6-04e630fb5715\" xlink:show=\"new\" xlink:title=\"psysml:8ab4ea45-bcef-481a-a1e6-04e630fb5715\" xlink:type=\"simple\"><rect fill=\"#FFFFFF\" height=\"45.9375\" id=\"E6\" rx=\"10\" ry=\"10\" style=\"stroke: #383838; stroke-width: 1.5;\" width=\"71\" x=\"72\" y=\"100\"/><text fill=\"#000000\" font-family=\"sans-serif\" font-size=\"12\" font-style=\"italic\" lengthAdjust=\"spacingAndGlyphs\" textLength=\"69\" x=\"73\" y=\"116.1387\">«attribute»</text><text fill=\"#000000\" font-family=\"sans-serif\" font-size=\"12\" lengthAdjust=\"spacingAndGlyphs\" textLength=\"11\" x=\"100\" y=\"130.1074\">m</text><line style=\"stroke: #383838; stroke-width: 1.5;\" x1=\"73\" x2=\"142\" y1=\"137.9375\" y2=\"137.9375\"/></a><!--MD5=[b9389687b975829384b498ac4b7476b2]\n",
       "class E8--><a href=\"psysml:1da3bab2-1d8c-4ebe-95aa-17b6e9277a07\" target=\"_top\" title=\"psysml:1da3bab2-1d8c-4ebe-95aa-17b6e9277a07\" xlink:actuate=\"onRequest\" xlink:href=\"psysml:1da3bab2-1d8c-4ebe-95aa-17b6e9277a07\" xlink:show=\"new\" xlink:title=\"psysml:1da3bab2-1d8c-4ebe-95aa-17b6e9277a07\" xlink:type=\"simple\"><rect fill=\"#FFFFFF\" height=\"45.9375\" id=\"E8\" rx=\"10\" ry=\"10\" style=\"stroke: #383838; stroke-width: 1.5;\" width=\"71\" x=\"72\" y=\"288\"/><text fill=\"#000000\" font-family=\"sans-serif\" font-size=\"12\" font-style=\"italic\" lengthAdjust=\"spacingAndGlyphs\" textLength=\"69\" x=\"73\" y=\"304.1387\">«attribute»</text><text fill=\"#000000\" font-family=\"sans-serif\" font-size=\"12\" lengthAdjust=\"spacingAndGlyphs\" textLength=\"11\" x=\"100\" y=\"318.1074\">m</text><line style=\"stroke: #383838; stroke-width: 1.5;\" x1=\"73\" x2=\"142\" y1=\"325.9375\" y2=\"325.9375\"/></a><g id=\"E1.E9\"><a href=\"psysml:1ec49292-f6e0-4564-a681-346e27695197\" target=\"_top\" title=\"psysml:1ec49292-f6e0-4564-a681-346e27695197\" xlink:actuate=\"onRequest\" xlink:href=\"psysml:1ec49292-f6e0-4564-a681-346e27695197\" xlink:show=\"new\" xlink:title=\"psysml:1ec49292-f6e0-4564-a681-346e27695197\" xlink:type=\"simple\"><rect fill=\"#FFFFFF\" height=\"40\" id=\"E9\" rx=\"10\" ry=\"10\" style=\"stroke: #383838; stroke-width: 1.5;\" width=\"68\" x=\"73.5\" y=\"404\"/><rect fill=\"#F8F8F8\" height=\"23.9688\" rx=\"10\" ry=\"10\" style=\"stroke: #F8F8F8; stroke-width: 1.5;\" width=\"68\" x=\"73.5\" y=\"404\"/><rect fill=\"#F8F8F8\" height=\"10\" style=\"stroke: #F8F8F8; stroke-width: 1.5;\" width=\"68\" x=\"73.5\" y=\"417.9688\"/><rect fill=\"none\" height=\"40\" id=\"E9\" rx=\"10\" ry=\"10\" style=\"stroke: #383838; stroke-width: 1.5;\" width=\"68\" x=\"73.5\" y=\"404\"/><text fill=\"#000000\" font-family=\"sans-serif\" font-size=\"12\" lengthAdjust=\"spacingAndGlyphs\" textLength=\"53\" x=\"79\" y=\"420.1387\">v2= W();</text></a></g><!--MD5=[a717450b82c80b9240a525fa862496af]\n",
       "link E6 to E3--><a href=\"psysml:df608862-84ce-4303-af6e-5dfc61cbb6d2\" target=\"_top\" title=\"psysml:df608862-84ce-4303-af6e-5dfc61cbb6d2\" xlink:actuate=\"onRequest\" xlink:href=\"psysml:df608862-84ce-4303-af6e-5dfc61cbb6d2\" xlink:show=\"new\" xlink:title=\"psysml:df608862-84ce-4303-af6e-5dfc61cbb6d2\" xlink:type=\"simple\"><path d=\"M143.14,135.12 C155.74,139.64 170.07,144.92 183,150 C192.49,153.73 202.54,157.85 212.23,161.91 \" fill=\"none\" id=\"E6-&gt;E3\" style=\"stroke: #383838; stroke-width: 1.0;\"/><polygon fill=\"#FFFFFF\" points=\"230.75,169.77,210.5252,168.7916,215.9942,155.904,230.75,169.77\" style=\"stroke: #383838; stroke-width: 1.0;\"/><line style=\"stroke: #383838; stroke-width: 2.0;\" x1=\"207.0271\" x2=\"212.4961\" y1=\"167.3072\" y2=\"154.4196\"/></a><!--MD5=[15ebcb19ae302d9b601edb458606d402]\n",
       "link E5 to E2--><a href=\"psysml:eb47ef55-8727-46f8-948e-289e011721f9\" target=\"_top\" title=\"psysml:eb47ef55-8727-46f8-948e-289e011721f9\" xlink:actuate=\"onRequest\" xlink:href=\"psysml:eb47ef55-8727-46f8-948e-289e011721f9\" xlink:show=\"new\" xlink:title=\"psysml:eb47ef55-8727-46f8-948e-289e011721f9\" xlink:type=\"simple\"><path d=\"M117.3851,189.1338 C117.7055,189.4375 118.0331,189.7488 118.3673,190.0677 C123.7159,195.1691 130.7994,202.1956 138.4938,210.5562 C153.8825,227.2775 171.715,249.335 183,272 C189.73,285.51 180.39,294.27 191,305 C193.9088,307.9438 197.2055,310.4531 200.7535,312.5902 C202.5276,313.6587 204.3644,314.6341 206.2471,315.5242 C206.4824,315.6355 206.7184,315.7454 206.9552,315.854 \" fill=\"none\" id=\"E5-&gt;E2\" style=\"stroke: #383838; stroke-width: 1.0;\"/><polygon fill=\"#FFFFFF\" points=\"206.9552,315.854,186.767,314.2931,192.6051,301.5685,206.9552,315.854\" style=\"stroke: #383838; stroke-width: 1.0;\"/><ellipse cx=\"182.4202\" cy=\"310.0984\" fill=\"#383838\" rx=\"2\" ry=\"2\" style=\"stroke: #383838; stroke-width: 1.0;\"/><ellipse cx=\"186.5903\" cy=\"301.0094\" fill=\"#383838\" rx=\"2\" ry=\"2\" style=\"stroke: #383838; stroke-width: 1.0;\"/></a><!--MD5=[583832df87f4419a098336a29a52fa00]\n",
       "link E7 to E2--><a href=\"psysml:3b658baa-aed2-418d-9cf3-f3993d6dea2d\" target=\"_top\" title=\"psysml:3b658baa-aed2-418d-9cf3-f3993d6dea2d\" xlink:actuate=\"onRequest\" xlink:href=\"psysml:3b658baa-aed2-418d-9cf3-f3993d6dea2d\" xlink:show=\"new\" xlink:title=\"psysml:3b658baa-aed2-418d-9cf3-f3993d6dea2d\" xlink:type=\"simple\"><path d=\"M167.2568,354.3408 C167.3869,354.306 167.517,354.2711 167.647,354.2362 C168.6874,353.9571 169.7268,353.6769 170.7637,353.3958 C174.9114,352.2716 179.02,351.1337 183,350 C200.91,344.9 220.825,338.64 236.6013,333.54 C237.5873,333.2212 238.5571,332.907 239.5093,332.5979 C239.9854,332.4433 240.4571,332.2901 240.9241,332.1381 C241.0409,332.1001 241.1574,332.0622 241.2736,332.0244 \" fill=\"none\" id=\"E7-&gt;E2\" style=\"stroke: #383838; stroke-width: 1.0;\"/><polygon fill=\"#FFFFFF\" points=\"241.2736,332.0244,221.04,331.2484,225.3728,344.561,241.2736,332.0244\" style=\"stroke: #383838; stroke-width: 1.0;\"/></a><!--MD5=[95fa686b5a16158bcdbcaeead89f639b]\n",
       "link E8 to E3--><a href=\"psysml:d0f3a95a-9489-4833-bd9a-1794072888fe\" target=\"_top\" title=\"psysml:d0f3a95a-9489-4833-bd9a-1794072888fe\" xlink:actuate=\"onRequest\" xlink:href=\"psysml:d0f3a95a-9489-4833-bd9a-1794072888fe\" xlink:show=\"new\" xlink:title=\"psysml:d0f3a95a-9489-4833-bd9a-1794072888fe\" xlink:type=\"simple\"><path d=\"M127.14,287.88 C142.85,269.37 166.61,243.52 191,225 C197.84,219.81 205.44,214.9 213.11,210.41 \" fill=\"none\" id=\"E8-&gt;E3\" style=\"stroke: #383838; stroke-width: 1.0;\"/><polygon fill=\"#FFFFFF\" points=\"230.76,200.79,217.4285,216.0304,210.7273,203.7384,230.76,200.79\" style=\"stroke: #383838; stroke-width: 1.0;\"/><line style=\"stroke: #383838; stroke-width: 2.0;\" x1=\"214.0921\" x2=\"207.3909\" y1=\"217.8493\" y2=\"205.5572\"/></a><!--MD5=[c7979bce94299d3c2d288591107c7539]\n",
       "@startuml\r\n",
       "skinparam ranksep 10\r\n",
       "skinparam rectangle {\r\n",
       " backgroundColor<<block>> LightGreen\r\n",
       "}\r\n",
       "left to right direction\r\n",
       "skinparam monochrome true\r\n",
       "skinparam classbackgroundcolor white\r\n",
       "skinparam shadowing false\r\n",
       "skinparam wrapWidth 300\r\n",
       "hide circle\r\n",
       "\r\n",
       "package \"DefaultValueTest\" as E1  [[psysml:e41cdd27-e179-4271-915e-4358fc3ae044 ]]  {\r\n",
       "rec def \"V\" as E2  <<(T,blue) part  def>> [[psysml:95d35419-5cb2-4278-8f59-96945510244a ]] {\r\n",
       "comp usage \"m \" as E3  <<(T,blue) attribute>> [[psysml:6a54ba7f-e62a-486f-80dd-d9293281f966 ]] {\r\n",
       "}\r\n",
       "comp usage \"n \" as E4  <<(T,blue) attribute>> [[psysml:16f4b3d0-0144-41cb-ad29-b9c3c07c611b ]] {\r\n",
       "}\r\n",
       "}\r\n",
       "rec usage \"v1: V\" as E5  [[psysml:b8cf69e7-8508-48d3-98c1-1a5aff225283 ]] {\r\n",
       "comp usage \"m \" as E6  <<(T,blue) attribute>> [[psysml:8ab4ea45-bcef-481a-a1e6-04e630fb5715 ]] {\r\n",
       "}\r\n",
       "}\r\n",
       "rec def \"W\" as E7  <<(T,blue) part  def>> [[psysml:75d7f18d-3bb0-43da-8a1f-920414b7c194 ]] {\r\n",
       "comp usage \"m \" as E8  <<(T,blue) attribute>> [[psysml:1da3bab2-1d8c-4ebe-95aa-17b6e9277a07 ]] {\r\n",
       "}\r\n",
       "}\r\n",
       "rec usage \"v2= W(); \" as E9  [[psysml:1ec49292-f6e0-4564-a681-346e27695197 ]] {\r\n",
       "}\r\n",
       "}\r\n",
       "E6 - -||> E3 [[psysml:df608862-84ce-4303-af6e-5dfc61cbb6d2 ]] \r\n",
       "E5 - -:|> E2 [[psysml:eb47ef55-8727-46f8-948e-289e011721f9 ]] \r\n",
       "E7 - -|> E2 [[psysml:3b658baa-aed2-418d-9cf3-f3993d6dea2d ]] \r\n",
       "E8 - -||> E3 [[psysml:d0f3a95a-9489-4833-bd9a-1794072888fe ]] \r\n",
       "@enduml\r\n",
       "\n",
       "PlantUML version 1.2020.13(Sat Jun 13 12:26:38 UTC 2020)\n",
       "(EPL source distribution)\n",
       "Java Runtime: OpenJDK Runtime Environment\n",
       "JVM: OpenJDK 64-Bit Server VM\n",
       "Default Encoding: UTF-8\n",
       "Language: en\n",
       "Country: null\n",
       "--></g></svg>"
      ]
     },
     "execution_count": 19,
     "metadata": {},
     "output_type": "execute_result"
    }
   ],
   "source": [
    "%viz --style=\"LR\" --view=\"Interconnection\" \"DefaultValueTest\""
   ]
  },
  {
   "cell_type": "code",
   "execution_count": 20,
   "id": "9fde18fb",
   "metadata": {
    "execution": {
     "iopub.execute_input": "2022-07-23T10:55:44.354693Z",
     "iopub.status.busy": "2022-07-23T10:55:44.354227Z",
     "iopub.status.idle": "2022-07-23T10:55:44.360106Z",
     "shell.execute_reply": "2022-07-23T10:55:44.359700Z"
    }
   },
   "outputs": [
    {
     "data": {
      "image/svg+xml": [
       "<?xml version=\"1.0\" encoding=\"UTF-8\" standalone=\"no\"?><svg xmlns=\"http://www.w3.org/2000/svg\" xmlns:xlink=\"http://www.w3.org/1999/xlink\" contentScriptType=\"application/ecmascript\" contentStyleType=\"text/css\" height=\"12px\" preserveAspectRatio=\"none\" style=\"width:12px;height:12px;\" version=\"1.1\" viewBox=\"0 0 12 12\" width=\"12px\" zoomAndPan=\"magnify\"><defs/><g><!--MD5=[7aeb398939421629f6affaa4a1a7b125]\n",
       "@startuml\r\n",
       "skinparam ranksep 8\r\n",
       "left to right direction\r\n",
       "skinparam monochrome true\r\n",
       "skinparam classbackgroundcolor white\r\n",
       "skinparam shadowing false\r\n",
       "skinparam wrapWidth 300\r\n",
       "hide circle\r\n",
       "\r\n",
       "@enduml\r\n",
       "\n",
       "PlantUML version 1.2020.13(Sat Jun 13 12:26:38 UTC 2020)\n",
       "(EPL source distribution)\n",
       "Java Runtime: OpenJDK Runtime Environment\n",
       "JVM: OpenJDK 64-Bit Server VM\n",
       "Default Encoding: UTF-8\n",
       "Language: en\n",
       "Country: null\n",
       "--></g></svg>"
      ]
     },
     "execution_count": 20,
     "metadata": {},
     "output_type": "execute_result"
    }
   ],
   "source": [
    "%viz --style=\"LR\" --view=\"Action\" \"DefaultValueTest\""
   ]
  },
  {
   "cell_type": "code",
   "execution_count": 21,
   "id": "c637448c",
   "metadata": {
    "execution": {
     "iopub.execute_input": "2022-07-23T10:55:44.410334Z",
     "iopub.status.busy": "2022-07-23T10:55:44.409852Z",
     "iopub.status.idle": "2022-07-23T10:55:44.415297Z",
     "shell.execute_reply": "2022-07-23T10:55:44.415680Z"
    }
   },
   "outputs": [
    {
     "data": {
      "image/svg+xml": [
       "<?xml version=\"1.0\" encoding=\"UTF-8\" standalone=\"no\"?><svg xmlns=\"http://www.w3.org/2000/svg\" xmlns:xlink=\"http://www.w3.org/1999/xlink\" contentScriptType=\"application/ecmascript\" contentStyleType=\"text/css\" height=\"12px\" preserveAspectRatio=\"none\" style=\"width:12px;height:12px;\" version=\"1.1\" viewBox=\"0 0 12 12\" width=\"12px\" zoomAndPan=\"magnify\"><defs/><g><!--MD5=[238c11ea2002f03115ad6b49a457d50e]\n",
       "@startuml\r\n",
       "skinparam roundcorner 20\r\n",
       "skinparam BoxPadding 20\r\n",
       "skinparam SequenceBoxBackgroundColor #white\r\n",
       "skinparam style strictuml\r\n",
       "skinparam maxMessageSize 100\r\n",
       "left to right direction\r\n",
       "skinparam monochrome true\r\n",
       "skinparam classbackgroundcolor white\r\n",
       "skinparam shadowing false\r\n",
       "skinparam wrapWidth 300\r\n",
       "hide circle\r\n",
       "\r\n",
       "@enduml\r\n",
       "\n",
       "PlantUML version 1.2020.13(Sat Jun 13 12:26:38 UTC 2020)\n",
       "(EPL source distribution)\n",
       "Java Runtime: OpenJDK Runtime Environment\n",
       "JVM: OpenJDK 64-Bit Server VM\n",
       "Default Encoding: UTF-8\n",
       "Language: en\n",
       "Country: null\n",
       "--></g></svg>"
      ]
     },
     "execution_count": 21,
     "metadata": {},
     "output_type": "execute_result"
    }
   ],
   "source": [
    "%viz --style=\"LR\" --view=\"Sequence\" \"DefaultValueTest\""
   ]
  },
  {
   "cell_type": "code",
   "execution_count": 22,
   "id": "308ae1d3",
   "metadata": {
    "execution": {
     "iopub.execute_input": "2022-07-23T10:55:44.465670Z",
     "iopub.status.busy": "2022-07-23T10:55:44.465189Z",
     "iopub.status.idle": "2022-07-23T10:55:44.567904Z",
     "shell.execute_reply": "2022-07-23T10:55:44.566184Z"
    }
   },
   "outputs": [
    {
     "data": {
      "image/svg+xml": [
       "<?xml version=\"1.0\" encoding=\"UTF-8\" standalone=\"no\"?><svg xmlns=\"http://www.w3.org/2000/svg\" xmlns:xlink=\"http://www.w3.org/1999/xlink\" contentScriptType=\"application/ecmascript\" contentStyleType=\"text/css\" height=\"361px\" preserveAspectRatio=\"none\" style=\"width:339px;height:361px;\" version=\"1.1\" viewBox=\"0 0 339 361\" width=\"339px\" zoomAndPan=\"magnify\"><defs/><g><!--MD5=[fbc87193dbaf4d95561dea2c320d4a47]\n",
       "cluster E1--><a href=\"psysml:e41cdd27-e179-4271-915e-4358fc3ae044\" target=\"_top\" title=\"psysml:e41cdd27-e179-4271-915e-4358fc3ae044\" xlink:actuate=\"onRequest\" xlink:href=\"psysml:e41cdd27-e179-4271-915e-4358fc3ae044\" xlink:show=\"new\" xlink:title=\"psysml:e41cdd27-e179-4271-915e-4358fc3ae044\" xlink:type=\"simple\"><polygon fill=\"#FFFFFF\" points=\"16,6,140,6,147,28.2969,317,28.2969,317,349,16,349,16,6\" style=\"stroke: #000000; stroke-width: 1.5;\"/><line style=\"stroke: #000000; stroke-width: 1.5;\" x1=\"16\" x2=\"147\" y1=\"28.2969\" y2=\"28.2969\"/><text fill=\"#000000\" font-family=\"sans-serif\" font-size=\"14\" font-weight=\"bold\" lengthAdjust=\"spacingAndGlyphs\" textLength=\"118\" x=\"20\" y=\"20.9951\">DefaultValueTest</text></a><!--MD5=[b4997ac47864f28c2f74865a473b2911]\n",
       "class E2--><a href=\"psysml:95d35419-5cb2-4278-8f59-96945510244a\" target=\"_top\" title=\"psysml:95d35419-5cb2-4278-8f59-96945510244a\" xlink:actuate=\"onRequest\" xlink:href=\"psysml:95d35419-5cb2-4278-8f59-96945510244a\" xlink:show=\"new\" xlink:title=\"psysml:95d35419-5cb2-4278-8f59-96945510244a\" xlink:type=\"simple\"><rect fill=\"#FFFFFF\" height=\"88.3516\" id=\"E2\" style=\"stroke: #383838; stroke-width: 1.5;\" width=\"106\" x=\"195\" y=\"103\"/><text fill=\"#000000\" font-family=\"sans-serif\" font-size=\"12\" font-style=\"italic\" lengthAdjust=\"spacingAndGlyphs\" textLength=\"68\" x=\"214\" y=\"119.1387\">«part  def»</text><text fill=\"#000000\" font-family=\"sans-serif\" font-size=\"12\" lengthAdjust=\"spacingAndGlyphs\" textLength=\"8\" x=\"244\" y=\"133.1074\">V</text><line style=\"stroke: #383838; stroke-width: 1.5;\" x1=\"196\" x2=\"300\" y1=\"140.9375\" y2=\"140.9375\"/><text fill=\"#000000\" font-family=\"sans-serif\" font-size=\"11\" lengthAdjust=\"spacingAndGlyphs\" textLength=\"94\" x=\"201\" y=\"171.9526\">m=default = 10;</text><text fill=\"#000000\" font-family=\"sans-serif\" font-size=\"11\" lengthAdjust=\"spacingAndGlyphs\" textLength=\"38\" x=\"201\" y=\"184.7573\">n= 20;</text><line style=\"stroke: #383838; stroke-width: 1.0;\" x1=\"196\" x2=\"220.5\" y1=\"155.3398\" y2=\"155.3398\"/><text fill=\"#000000\" font-family=\"sans-serif\" font-size=\"11\" lengthAdjust=\"spacingAndGlyphs\" textLength=\"55\" x=\"220.5\" y=\"158.6479\">attributes</text><line style=\"stroke: #383838; stroke-width: 1.0;\" x1=\"275.5\" x2=\"300\" y1=\"155.3398\" y2=\"155.3398\"/></a><!--MD5=[09b614a08d8cba4a07c9adeb5e0fee81]\n",
       "class E3--><a href=\"psysml:b8cf69e7-8508-48d3-98c1-1a5aff225283\" target=\"_top\" title=\"psysml:b8cf69e7-8508-48d3-98c1-1a5aff225283\" xlink:actuate=\"onRequest\" xlink:href=\"psysml:b8cf69e7-8508-48d3-98c1-1a5aff225283\" xlink:show=\"new\" xlink:title=\"psysml:b8cf69e7-8508-48d3-98c1-1a5aff225283\" xlink:type=\"simple\"><rect fill=\"#FFFFFF\" height=\"88.3516\" id=\"E3\" rx=\"10\" ry=\"10\" style=\"stroke: #383838; stroke-width: 1.5;\" width=\"63\" x=\"52\" y=\"41\"/><text fill=\"#000000\" font-family=\"sans-serif\" font-size=\"12\" font-style=\"italic\" lengthAdjust=\"spacingAndGlyphs\" textLength=\"40\" x=\"63.5\" y=\"57.1387\">«part»</text><text fill=\"#000000\" font-family=\"sans-serif\" font-size=\"12\" lengthAdjust=\"spacingAndGlyphs\" textLength=\"30\" x=\"66.5\" y=\"71.1074\">v1: V</text><line style=\"stroke: #383838; stroke-width: 1.5;\" x1=\"53\" x2=\"114\" y1=\"78.9375\" y2=\"78.9375\"/><text fill=\"#000000\" font-family=\"sans-serif\" font-size=\"11\" lengthAdjust=\"spacingAndGlyphs\" textLength=\"42\" x=\"58\" y=\"109.9526\">m= 20;</text><text fill=\"#000000\" font-family=\"sans-serif\" font-size=\"11\" font-style=\"italic\" lengthAdjust=\"spacingAndGlyphs\" textLength=\"48\" x=\"58\" y=\"122.7573\">:&gt;&gt;V::m</text><line style=\"stroke: #383838; stroke-width: 1.0;\" x1=\"53\" x2=\"56\" y1=\"93.3398\" y2=\"93.3398\"/><text fill=\"#000000\" font-family=\"sans-serif\" font-size=\"11\" lengthAdjust=\"spacingAndGlyphs\" textLength=\"55\" x=\"56\" y=\"96.6479\">attributes</text><line style=\"stroke: #383838; stroke-width: 1.0;\" x1=\"111\" x2=\"114\" y1=\"93.3398\" y2=\"93.3398\"/></a><!--MD5=[ebbe1d658d1005bcc118a6aa81145e00]\n",
       "class E4--><a href=\"psysml:75d7f18d-3bb0-43da-8a1f-920414b7c194\" target=\"_top\" title=\"psysml:75d7f18d-3bb0-43da-8a1f-920414b7c194\" xlink:actuate=\"onRequest\" xlink:href=\"psysml:75d7f18d-3bb0-43da-8a1f-920414b7c194\" xlink:show=\"new\" xlink:title=\"psysml:75d7f18d-3bb0-43da-8a1f-920414b7c194\" xlink:type=\"simple\"><rect fill=\"#FFFFFF\" height=\"88.3516\" id=\"E4\" style=\"stroke: #383838; stroke-width: 1.5;\" width=\"103\" x=\"32\" y=\"164\"/><text fill=\"#000000\" font-family=\"sans-serif\" font-size=\"12\" font-style=\"italic\" lengthAdjust=\"spacingAndGlyphs\" textLength=\"68\" x=\"49.5\" y=\"180.1387\">«part  def»</text><text fill=\"#000000\" font-family=\"sans-serif\" font-size=\"12\" lengthAdjust=\"spacingAndGlyphs\" textLength=\"11\" x=\"78\" y=\"194.1074\">W</text><line style=\"stroke: #383838; stroke-width: 1.5;\" x1=\"33\" x2=\"134\" y1=\"201.9375\" y2=\"201.9375\"/><text fill=\"#000000\" font-family=\"sans-serif\" font-size=\"11\" lengthAdjust=\"spacingAndGlyphs\" textLength=\"87\" x=\"38\" y=\"232.9526\">m=default = n;</text><text fill=\"#000000\" font-family=\"sans-serif\" font-size=\"11\" font-style=\"italic\" lengthAdjust=\"spacingAndGlyphs\" textLength=\"48\" x=\"38\" y=\"245.7573\">:&gt;&gt;V::m</text><line style=\"stroke: #383838; stroke-width: 1.0;\" x1=\"33\" x2=\"56\" y1=\"216.3398\" y2=\"216.3398\"/><text fill=\"#000000\" font-family=\"sans-serif\" font-size=\"11\" lengthAdjust=\"spacingAndGlyphs\" textLength=\"55\" x=\"56\" y=\"219.6479\">attributes</text><line style=\"stroke: #383838; stroke-width: 1.0;\" x1=\"111\" x2=\"134\" y1=\"216.3398\" y2=\"216.3398\"/></a><!--MD5=[270fce915f116d4de14055a7c1d9a0f3]\n",
       "class E5--><a href=\"psysml:1ec49292-f6e0-4564-a681-346e27695197\" target=\"_top\" title=\"psysml:1ec49292-f6e0-4564-a681-346e27695197\" xlink:actuate=\"onRequest\" xlink:href=\"psysml:1ec49292-f6e0-4564-a681-346e27695197\" xlink:show=\"new\" xlink:title=\"psysml:1ec49292-f6e0-4564-a681-346e27695197\" xlink:type=\"simple\"><rect fill=\"#FFFFFF\" height=\"45.9375\" id=\"E5\" rx=\"10\" ry=\"10\" style=\"stroke: #383838; stroke-width: 1.5;\" width=\"42\" x=\"62.5\" y=\"287\"/><text fill=\"#000000\" font-family=\"sans-serif\" font-size=\"12\" font-style=\"italic\" lengthAdjust=\"spacingAndGlyphs\" textLength=\"40\" x=\"63.5\" y=\"303.1387\">«part»</text><text fill=\"#000000\" font-family=\"sans-serif\" font-size=\"12\" lengthAdjust=\"spacingAndGlyphs\" textLength=\"14\" x=\"74.5\" y=\"317.1074\">v2</text><line style=\"stroke: #383838; stroke-width: 1.5;\" x1=\"63.5\" x2=\"103.5\" y1=\"324.9375\" y2=\"324.9375\"/></a><!--MD5=[05d275557350bfb9b23a4ef7222b4c39]\n",
       "link E3 to E2--><a href=\"psysml:eb47ef55-8727-46f8-948e-289e011721f9\" target=\"_top\" title=\"psysml:eb47ef55-8727-46f8-948e-289e011721f9\" xlink:actuate=\"onRequest\" xlink:href=\"psysml:eb47ef55-8727-46f8-948e-289e011721f9\" xlink:show=\"new\" xlink:title=\"psysml:eb47ef55-8727-46f8-948e-289e011721f9\" xlink:type=\"simple\"><path d=\"M115.07,96.66 C132.33,103.25 154.67,111.77 176.05,119.93 \" fill=\"none\" id=\"E3-&gt;E2\" style=\"stroke: #383838; stroke-width: 1.0;\"/><polygon fill=\"#FFFFFF\" points=\"194.84,127.1,174.5929,126.8678,179.583,113.7874,194.84,127.1\" style=\"stroke: #383838; stroke-width: 1.0;\"/><ellipse cx=\"169.9801\" cy=\"122.9675\" fill=\"#383838\" rx=\"2\" ry=\"2\" style=\"stroke: #383838; stroke-width: 1.0;\"/><ellipse cx=\"173.5446\" cy=\"113.6243\" fill=\"#383838\" rx=\"2\" ry=\"2\" style=\"stroke: #383838; stroke-width: 1.0;\"/></a><!--MD5=[185131fc0dcab0a4505a2ebe144e961b]\n",
       "link E4 to E2--><a href=\"psysml:3b658baa-aed2-418d-9cf3-f3993d6dea2d\" target=\"_top\" title=\"psysml:3b658baa-aed2-418d-9cf3-f3993d6dea2d\" xlink:actuate=\"onRequest\" xlink:href=\"psysml:3b658baa-aed2-418d-9cf3-f3993d6dea2d\" xlink:show=\"new\" xlink:title=\"psysml:3b658baa-aed2-418d-9cf3-f3993d6dea2d\" xlink:type=\"simple\"><path d=\"M135.03,189.03 C147.94,184.18 162.08,178.88 175.82,173.72 \" fill=\"none\" id=\"E4-&gt;E2\" style=\"stroke: #383838; stroke-width: 1.0;\"/><polygon fill=\"none\" points=\"173.64,167.06,194.82,166.59,178.56,180.17,173.64,167.06\" style=\"stroke: #383838; stroke-width: 1.0;\"/></a><!--MD5=[268b52ec53c3fc83842a4bf94b62f503]\n",
       "@startuml\r\n",
       "left to right direction\r\n",
       "skinparam monochrome true\r\n",
       "skinparam classbackgroundcolor white\r\n",
       "skinparam shadowing false\r\n",
       "skinparam wrapWidth 300\r\n",
       "hide circle\r\n",
       "\r\n",
       "package \"DefaultValueTest\" as E1  [[psysml:e41cdd27-e179-4271-915e-4358fc3ae044 ]]  {\r\n",
       "comp def \"V\" as E2  <<(T,blue) part  def>> [[psysml:95d35419-5cb2-4278-8f59-96945510244a ]] {\r\n",
       "- - attributes - -\r\n",
       "m=default = 10; \r\n",
       "n= 20; \r\n",
       "}\r\n",
       "comp usage \"v1: V \" as E3  <<(T,blue) part>> [[psysml:b8cf69e7-8508-48d3-98c1-1a5aff225283 ]] {\r\n",
       "- - attributes - -\r\n",
       "m= 20; \\n//:>>V::m// \r\n",
       "}\r\n",
       "comp def \"W\" as E4  <<(T,blue) part  def>> [[psysml:75d7f18d-3bb0-43da-8a1f-920414b7c194 ]] {\r\n",
       "- - attributes - -\r\n",
       "m=default = n; \\n//:>>V::m// \r\n",
       "}\r\n",
       "comp usage \"v2 \" as E5  <<(T,blue) part>> [[psysml:1ec49292-f6e0-4564-a681-346e27695197 ]] {\r\n",
       "}\r\n",
       "}\r\n",
       "E3 - -:|> E2 [[psysml:eb47ef55-8727-46f8-948e-289e011721f9 ]] \r\n",
       "E4 - -|> E2 [[psysml:3b658baa-aed2-418d-9cf3-f3993d6dea2d ]] \r\n",
       "@enduml\r\n",
       "\n",
       "PlantUML version 1.2020.13(Sat Jun 13 12:26:38 UTC 2020)\n",
       "(EPL source distribution)\n",
       "Java Runtime: OpenJDK Runtime Environment\n",
       "JVM: OpenJDK 64-Bit Server VM\n",
       "Default Encoding: UTF-8\n",
       "Language: en\n",
       "Country: null\n",
       "--></g></svg>"
      ]
     },
     "execution_count": 22,
     "metadata": {},
     "output_type": "execute_result"
    }
   ],
   "source": [
    "%viz --style=\"LR\" --view=\"MIXED\" \"DefaultValueTest\""
   ]
  },
  {
   "cell_type": "code",
   "execution_count": 23,
   "id": "a91805a1",
   "metadata": {
    "execution": {
     "iopub.execute_input": "2022-07-23T10:55:44.616955Z",
     "iopub.status.busy": "2022-07-23T10:55:44.616433Z",
     "iopub.status.idle": "2022-07-23T10:55:44.719290Z",
     "shell.execute_reply": "2022-07-23T10:55:44.718432Z"
    }
   },
   "outputs": [
    {
     "data": {
      "image/svg+xml": [
       "<?xml version=\"1.0\" encoding=\"UTF-8\" standalone=\"no\"?><svg xmlns=\"http://www.w3.org/2000/svg\" xmlns:xlink=\"http://www.w3.org/1999/xlink\" contentScriptType=\"application/ecmascript\" contentStyleType=\"text/css\" height=\"293px\" preserveAspectRatio=\"none\" style=\"width:438px;height:293px;\" version=\"1.1\" viewBox=\"0 0 438 293\" width=\"438px\" zoomAndPan=\"magnify\"><defs><filter height=\"300%\" id=\"f6fcyzsf29o6b\" width=\"300%\" x=\"-1\" y=\"-1\"><feGaussianBlur result=\"blurOut\" stdDeviation=\"2.0\"/><feColorMatrix in=\"blurOut\" result=\"blurOut2\" type=\"matrix\" values=\"0 0 0 0 0 0 0 0 0 0 0 0 0 0 0 0 0 0 .4 0\"/><feOffset dx=\"4.0\" dy=\"4.0\" in=\"blurOut2\" result=\"blurOut3\"/><feBlend in=\"SourceGraphic\" in2=\"blurOut3\" mode=\"normal\"/></filter></defs><g><!--MD5=[fbc87193dbaf4d95561dea2c320d4a47]\n",
       "cluster E1--><a href=\"psysml:e41cdd27-e179-4271-915e-4358fc3ae044\" target=\"_top\" title=\"psysml:e41cdd27-e179-4271-915e-4358fc3ae044\" xlink:actuate=\"onRequest\" xlink:href=\"psysml:e41cdd27-e179-4271-915e-4358fc3ae044\" xlink:show=\"new\" xlink:title=\"psysml:e41cdd27-e179-4271-915e-4358fc3ae044\" xlink:type=\"simple\"><polygon fill=\"#FFFFFF\" filter=\"url(#f6fcyzsf29o6b)\" points=\"16,6,140,6,147,28.2969,416,28.2969,416,281,16,281,16,6\" style=\"stroke: #000000; stroke-width: 1.5;\"/><line style=\"stroke: #000000; stroke-width: 1.5;\" x1=\"16\" x2=\"147\" y1=\"28.2969\" y2=\"28.2969\"/><text fill=\"#000000\" font-family=\"sans-serif\" font-size=\"14\" font-weight=\"bold\" lengthAdjust=\"spacingAndGlyphs\" textLength=\"118\" x=\"20\" y=\"20.9951\">DefaultValueTest</text></a><!--MD5=[b4997ac47864f28c2f74865a473b2911]\n",
       "class E2--><a href=\"psysml:95d35419-5cb2-4278-8f59-96945510244a\" target=\"_top\" title=\"psysml:95d35419-5cb2-4278-8f59-96945510244a\" xlink:actuate=\"onRequest\" xlink:href=\"psysml:95d35419-5cb2-4278-8f59-96945510244a\" xlink:show=\"new\" xlink:title=\"psysml:95d35419-5cb2-4278-8f59-96945510244a\" xlink:type=\"simple\"><rect fill=\"#FEFECE\" filter=\"url(#f6fcyzsf29o6b)\" height=\"88.3516\" id=\"E2\" style=\"stroke: #A80036; stroke-width: 1.5;\" width=\"106\" x=\"212\" y=\"177\"/><text fill=\"#000000\" font-family=\"sans-serif\" font-size=\"12\" font-style=\"italic\" lengthAdjust=\"spacingAndGlyphs\" textLength=\"68\" x=\"231\" y=\"193.1387\">«part  def»</text><text fill=\"#000000\" font-family=\"sans-serif\" font-size=\"12\" lengthAdjust=\"spacingAndGlyphs\" textLength=\"8\" x=\"261\" y=\"207.1074\">V</text><line style=\"stroke: #A80036; stroke-width: 1.5;\" x1=\"213\" x2=\"317\" y1=\"214.9375\" y2=\"214.9375\"/><text fill=\"#000000\" font-family=\"sans-serif\" font-size=\"11\" lengthAdjust=\"spacingAndGlyphs\" textLength=\"94\" x=\"218\" y=\"245.9526\">m=default = 10;</text><text fill=\"#000000\" font-family=\"sans-serif\" font-size=\"11\" lengthAdjust=\"spacingAndGlyphs\" textLength=\"38\" x=\"218\" y=\"258.7573\">n= 20;</text><line style=\"stroke: #A80036; stroke-width: 1.0;\" x1=\"213\" x2=\"237.5\" y1=\"229.3398\" y2=\"229.3398\"/><text fill=\"#000000\" font-family=\"sans-serif\" font-size=\"11\" lengthAdjust=\"spacingAndGlyphs\" textLength=\"55\" x=\"237.5\" y=\"232.6479\">attributes</text><line style=\"stroke: #A80036; stroke-width: 1.0;\" x1=\"292.5\" x2=\"317\" y1=\"229.3398\" y2=\"229.3398\"/></a><!--MD5=[09b614a08d8cba4a07c9adeb5e0fee81]\n",
       "class E3--><a href=\"psysml:b8cf69e7-8508-48d3-98c1-1a5aff225283\" target=\"_top\" title=\"psysml:b8cf69e7-8508-48d3-98c1-1a5aff225283\" xlink:actuate=\"onRequest\" xlink:href=\"psysml:b8cf69e7-8508-48d3-98c1-1a5aff225283\" xlink:show=\"new\" xlink:title=\"psysml:b8cf69e7-8508-48d3-98c1-1a5aff225283\" xlink:type=\"simple\"><rect fill=\"#FEFECE\" filter=\"url(#f6fcyzsf29o6b)\" height=\"76.4922\" id=\"E3\" rx=\"10\" ry=\"10\" style=\"stroke: #A80036; stroke-width: 1.5;\" width=\"105\" x=\"294.5\" y=\"41\"/><text fill=\"#000000\" font-family=\"sans-serif\" font-size=\"12\" font-style=\"italic\" lengthAdjust=\"spacingAndGlyphs\" textLength=\"40\" x=\"327\" y=\"57.1387\">«part»</text><text fill=\"#000000\" font-family=\"sans-serif\" font-size=\"12\" lengthAdjust=\"spacingAndGlyphs\" textLength=\"30\" x=\"330\" y=\"71.1074\">v1: V</text><line style=\"stroke: #A80036; stroke-width: 1.5;\" x1=\"295.5\" x2=\"398.5\" y1=\"78.9375\" y2=\"78.9375\"/><path d=\"M302.4167,100.6589 L302.4167,109.8255 L303.3333,109.8255 L303.3333,100.6589 M306.0833,100.6589 L306.0833,109.8255 L313.4167,105.2422 L306.0833,100.6589 L307,102.0339 L312.0417,105.2422 L307,108.4505 L307,102.0339 \" fill=\"#000000\" style=\"stroke: ; stroke-width: 0.0; stroke-dasharray: ;\"/><text fill=\"#000000\" font-family=\"sans-serif\" font-size=\"11\" lengthAdjust=\"spacingAndGlyphs\" textLength=\"42\" x=\"317.5\" y=\"110.8979\">m= 20;</text><text fill=\"#000000\" font-family=\"sans-serif\" font-size=\"11\" lengthAdjust=\"spacingAndGlyphs\" text-decoration=\"line-through\" textLength=\"26\" x=\"367.5\" y=\"110.8979\">V::m</text><line style=\"stroke: #A80036; stroke-width: 1.0;\" x1=\"295.5\" x2=\"319.5\" y1=\"93.3398\" y2=\"93.3398\"/><text fill=\"#000000\" font-family=\"sans-serif\" font-size=\"11\" lengthAdjust=\"spacingAndGlyphs\" textLength=\"55\" x=\"319.5\" y=\"96.6479\">attributes</text><line style=\"stroke: #A80036; stroke-width: 1.0;\" x1=\"374.5\" x2=\"398.5\" y1=\"93.3398\" y2=\"93.3398\"/></a><!--MD5=[ebbe1d658d1005bcc118a6aa81145e00]\n",
       "class E4--><a href=\"psysml:75d7f18d-3bb0-43da-8a1f-920414b7c194\" target=\"_top\" title=\"psysml:75d7f18d-3bb0-43da-8a1f-920414b7c194\" xlink:actuate=\"onRequest\" xlink:href=\"psysml:75d7f18d-3bb0-43da-8a1f-920414b7c194\" xlink:show=\"new\" xlink:title=\"psysml:75d7f18d-3bb0-43da-8a1f-920414b7c194\" xlink:type=\"simple\"><rect fill=\"#FEFECE\" filter=\"url(#f6fcyzsf29o6b)\" height=\"76.4922\" id=\"E4\" style=\"stroke: #A80036; stroke-width: 1.5;\" width=\"150\" x=\"109\" y=\"41\"/><text fill=\"#000000\" font-family=\"sans-serif\" font-size=\"12\" font-style=\"italic\" lengthAdjust=\"spacingAndGlyphs\" textLength=\"68\" x=\"150\" y=\"57.1387\">«part  def»</text><text fill=\"#000000\" font-family=\"sans-serif\" font-size=\"12\" lengthAdjust=\"spacingAndGlyphs\" textLength=\"11\" x=\"178.5\" y=\"71.1074\">W</text><line style=\"stroke: #A80036; stroke-width: 1.5;\" x1=\"110\" x2=\"258\" y1=\"78.9375\" y2=\"78.9375\"/><path d=\"M116.9167,100.6589 L116.9167,109.8255 L117.8333,109.8255 L117.8333,100.6589 M120.5833,100.6589 L120.5833,109.8255 L127.9167,105.2422 L120.5833,100.6589 L121.5,102.0339 L126.5417,105.2422 L121.5,108.4505 L121.5,102.0339 \" fill=\"#000000\" style=\"stroke: ; stroke-width: 0.0; stroke-dasharray: ;\"/><text fill=\"#000000\" font-family=\"sans-serif\" font-size=\"11\" lengthAdjust=\"spacingAndGlyphs\" textLength=\"87\" x=\"132\" y=\"110.8979\">m=default = n;</text><text fill=\"#000000\" font-family=\"sans-serif\" font-size=\"11\" lengthAdjust=\"spacingAndGlyphs\" text-decoration=\"line-through\" textLength=\"26\" x=\"227\" y=\"110.8979\">V::m</text><line style=\"stroke: #A80036; stroke-width: 1.0;\" x1=\"110\" x2=\"156.5\" y1=\"93.3398\" y2=\"93.3398\"/><text fill=\"#000000\" font-family=\"sans-serif\" font-size=\"11\" lengthAdjust=\"spacingAndGlyphs\" textLength=\"55\" x=\"156.5\" y=\"96.6479\">attributes</text><line style=\"stroke: #A80036; stroke-width: 1.0;\" x1=\"211.5\" x2=\"258\" y1=\"93.3398\" y2=\"93.3398\"/></a><!--MD5=[270fce915f116d4de14055a7c1d9a0f3]\n",
       "class E5--><a href=\"psysml:1ec49292-f6e0-4564-a681-346e27695197\" target=\"_top\" title=\"psysml:1ec49292-f6e0-4564-a681-346e27695197\" xlink:actuate=\"onRequest\" xlink:href=\"psysml:1ec49292-f6e0-4564-a681-346e27695197\" xlink:show=\"new\" xlink:title=\"psysml:1ec49292-f6e0-4564-a681-346e27695197\" xlink:type=\"simple\"><rect fill=\"#FEFECE\" filter=\"url(#f6fcyzsf29o6b)\" height=\"45.9375\" id=\"E5\" rx=\"10\" ry=\"10\" style=\"stroke: #A80036; stroke-width: 1.5;\" width=\"42\" x=\"32\" y=\"56\"/><text fill=\"#000000\" font-family=\"sans-serif\" font-size=\"12\" font-style=\"italic\" lengthAdjust=\"spacingAndGlyphs\" textLength=\"40\" x=\"33\" y=\"72.1387\">«part»</text><text fill=\"#000000\" font-family=\"sans-serif\" font-size=\"12\" lengthAdjust=\"spacingAndGlyphs\" textLength=\"14\" x=\"44\" y=\"86.1074\">v2</text><line style=\"stroke: #A80036; stroke-width: 1.5;\" x1=\"33\" x2=\"73\" y1=\"93.9375\" y2=\"93.9375\"/></a><!--MD5=[05d275557350bfb9b23a4ef7222b4c39]\n",
       "link E3 to E2--><a href=\"psysml:eb47ef55-8727-46f8-948e-289e011721f9\" target=\"_top\" title=\"psysml:eb47ef55-8727-46f8-948e-289e011721f9\" xlink:actuate=\"onRequest\" xlink:href=\"psysml:eb47ef55-8727-46f8-948e-289e011721f9\" xlink:show=\"new\" xlink:title=\"psysml:eb47ef55-8727-46f8-948e-289e011721f9\" xlink:type=\"simple\"><path d=\"M325.24,117.15 C317.67,130.08 308.96,144.94 300.57,159.28 \" fill=\"none\" id=\"E3-&gt;E2\" style=\"stroke: #A80036; stroke-width: 1.0;\"/><polygon fill=\"#FFFFFF\" points=\"290.2,176.97,293.7681,157.0384,305.8465,164.1174,290.2,176.97\" style=\"stroke: #A80036; stroke-width: 1.0;\"/><ellipse cx=\"298.3758\" cy=\"153.1321\" fill=\"#A80036\" rx=\"2\" ry=\"2\" style=\"stroke: #A80036; stroke-width: 1.0;\"/><ellipse cx=\"307.0032\" cy=\"158.1885\" fill=\"#A80036\" rx=\"2\" ry=\"2\" style=\"stroke: #A80036; stroke-width: 1.0;\"/></a><!--MD5=[185131fc0dcab0a4505a2ebe144e961b]\n",
       "link E4 to E2--><a href=\"psysml:3b658baa-aed2-418d-9cf3-f3993d6dea2d\" target=\"_top\" title=\"psysml:3b658baa-aed2-418d-9cf3-f3993d6dea2d\" xlink:actuate=\"onRequest\" xlink:href=\"psysml:3b658baa-aed2-418d-9cf3-f3993d6dea2d\" xlink:show=\"new\" xlink:title=\"psysml:3b658baa-aed2-418d-9cf3-f3993d6dea2d\" xlink:type=\"simple\"><path d=\"M205.49,117.15 C212.97,130.08 221.57,144.94 229.87,159.28 \" fill=\"none\" id=\"E4-&gt;E2\" style=\"stroke: #A80036; stroke-width: 1.0;\"/><polygon fill=\"none\" points=\"236.15,156.15,240.1,176.97,224.03,163.16,236.15,156.15\" style=\"stroke: #A80036; stroke-width: 1.0;\"/></a><!--MD5=[45f3ea9156d91650f9783d2769f0febb]\n",
       "@startuml\r\n",
       "skinparam wrapWidth 300\r\n",
       "hide circle\r\n",
       "\r\n",
       "package \"DefaultValueTest\" as E1  [[psysml:e41cdd27-e179-4271-915e-4358fc3ae044 ]]  {\r\n",
       "comp def \"V\" as E2  <<(T,blue) part  def>> [[psysml:95d35419-5cb2-4278-8f59-96945510244a ]] {\r\n",
       "- - attributes - -\r\n",
       "m=default = 10; \r\n",
       "n= 20; \r\n",
       "}\r\n",
       "comp usage \"v1: V \" as E3  <<(T,blue) part>> [[psysml:b8cf69e7-8508-48d3-98c1-1a5aff225283 ]] {\r\n",
       "- - attributes - -\r\n",
       "<&bar-trig> m= 20;  <s>V::m</s>\r\n",
       "}\r\n",
       "comp def \"W\" as E4  <<(T,blue) part  def>> [[psysml:75d7f18d-3bb0-43da-8a1f-920414b7c194 ]] {\r\n",
       "- - attributes - -\r\n",
       "<&bar-trig> m=default = n;  <s>V::m</s>\r\n",
       "}\r\n",
       "comp usage \"v2 \" as E5  <<(T,blue) part>> [[psysml:1ec49292-f6e0-4564-a681-346e27695197 ]] {\r\n",
       "}\r\n",
       "}\r\n",
       "E3 - -:|> E2 [[psysml:eb47ef55-8727-46f8-948e-289e011721f9 ]] \r\n",
       "E4 - -|> E2 [[psysml:3b658baa-aed2-418d-9cf3-f3993d6dea2d ]] \r\n",
       "@enduml\r\n",
       "\n",
       "PlantUML version 1.2020.13(Sat Jun 13 12:26:38 UTC 2020)\n",
       "(EPL source distribution)\n",
       "Java Runtime: OpenJDK Runtime Environment\n",
       "JVM: OpenJDK 64-Bit Server VM\n",
       "Default Encoding: UTF-8\n",
       "Language: en\n",
       "Country: null\n",
       "--></g></svg>"
      ]
     },
     "execution_count": 23,
     "metadata": {},
     "output_type": "execute_result"
    }
   ],
   "source": [
    "%viz --style=\"STDCOLOR\" --view=\"Default\" \"DefaultValueTest\""
   ]
  },
  {
   "cell_type": "code",
   "execution_count": 24,
   "id": "9264e12f",
   "metadata": {
    "execution": {
     "iopub.execute_input": "2022-07-23T10:55:44.769856Z",
     "iopub.status.busy": "2022-07-23T10:55:44.769375Z",
     "iopub.status.idle": "2022-07-23T10:55:44.866332Z",
     "shell.execute_reply": "2022-07-23T10:55:44.864689Z"
    }
   },
   "outputs": [
    {
     "data": {
      "image/svg+xml": [
       "<?xml version=\"1.0\" encoding=\"UTF-8\" standalone=\"no\"?><svg xmlns=\"http://www.w3.org/2000/svg\" xmlns:xlink=\"http://www.w3.org/1999/xlink\" contentScriptType=\"application/ecmascript\" contentStyleType=\"text/css\" height=\"293px\" preserveAspectRatio=\"none\" style=\"width:438px;height:293px;\" version=\"1.1\" viewBox=\"0 0 438 293\" width=\"438px\" zoomAndPan=\"magnify\"><defs><filter height=\"300%\" id=\"f6fcyzsf29o6b\" width=\"300%\" x=\"-1\" y=\"-1\"><feGaussianBlur result=\"blurOut\" stdDeviation=\"2.0\"/><feColorMatrix in=\"blurOut\" result=\"blurOut2\" type=\"matrix\" values=\"0 0 0 0 0 0 0 0 0 0 0 0 0 0 0 0 0 0 .4 0\"/><feOffset dx=\"4.0\" dy=\"4.0\" in=\"blurOut2\" result=\"blurOut3\"/><feBlend in=\"SourceGraphic\" in2=\"blurOut3\" mode=\"normal\"/></filter></defs><g><!--MD5=[fbc87193dbaf4d95561dea2c320d4a47]\n",
       "cluster E1--><a href=\"psysml:e41cdd27-e179-4271-915e-4358fc3ae044\" target=\"_top\" title=\"psysml:e41cdd27-e179-4271-915e-4358fc3ae044\" xlink:actuate=\"onRequest\" xlink:href=\"psysml:e41cdd27-e179-4271-915e-4358fc3ae044\" xlink:show=\"new\" xlink:title=\"psysml:e41cdd27-e179-4271-915e-4358fc3ae044\" xlink:type=\"simple\"><polygon fill=\"#FFFFFF\" filter=\"url(#f6fcyzsf29o6b)\" points=\"16,6,140,6,147,28.2969,416,28.2969,416,281,16,281,16,6\" style=\"stroke: #000000; stroke-width: 1.5;\"/><line style=\"stroke: #000000; stroke-width: 1.5;\" x1=\"16\" x2=\"147\" y1=\"28.2969\" y2=\"28.2969\"/><text fill=\"#000000\" font-family=\"sans-serif\" font-size=\"14\" font-weight=\"bold\" lengthAdjust=\"spacingAndGlyphs\" textLength=\"118\" x=\"20\" y=\"20.9951\">DefaultValueTest</text></a><!--MD5=[b4997ac47864f28c2f74865a473b2911]\n",
       "class E2--><a href=\"psysml:95d35419-5cb2-4278-8f59-96945510244a\" target=\"_top\" title=\"psysml:95d35419-5cb2-4278-8f59-96945510244a\" xlink:actuate=\"onRequest\" xlink:href=\"psysml:95d35419-5cb2-4278-8f59-96945510244a\" xlink:show=\"new\" xlink:title=\"psysml:95d35419-5cb2-4278-8f59-96945510244a\" xlink:type=\"simple\"><rect fill=\"#FEFECE\" filter=\"url(#f6fcyzsf29o6b)\" height=\"88.3516\" id=\"E2\" style=\"stroke: #A80036; stroke-width: 1.5;\" width=\"106\" x=\"212\" y=\"177\"/><text fill=\"#000000\" font-family=\"sans-serif\" font-size=\"12\" font-style=\"italic\" lengthAdjust=\"spacingAndGlyphs\" textLength=\"68\" x=\"231\" y=\"193.1387\">«part  def»</text><text fill=\"#000000\" font-family=\"sans-serif\" font-size=\"12\" lengthAdjust=\"spacingAndGlyphs\" textLength=\"8\" x=\"261\" y=\"207.1074\">V</text><line style=\"stroke: #A80036; stroke-width: 1.5;\" x1=\"213\" x2=\"317\" y1=\"214.9375\" y2=\"214.9375\"/><text fill=\"#000000\" font-family=\"sans-serif\" font-size=\"11\" lengthAdjust=\"spacingAndGlyphs\" textLength=\"94\" x=\"218\" y=\"245.9526\">m=default = 10;</text><text fill=\"#000000\" font-family=\"sans-serif\" font-size=\"11\" lengthAdjust=\"spacingAndGlyphs\" textLength=\"38\" x=\"218\" y=\"258.7573\">n= 20;</text><line style=\"stroke: #A80036; stroke-width: 1.0;\" x1=\"213\" x2=\"237.5\" y1=\"229.3398\" y2=\"229.3398\"/><text fill=\"#000000\" font-family=\"sans-serif\" font-size=\"11\" lengthAdjust=\"spacingAndGlyphs\" textLength=\"55\" x=\"237.5\" y=\"232.6479\">attributes</text><line style=\"stroke: #A80036; stroke-width: 1.0;\" x1=\"292.5\" x2=\"317\" y1=\"229.3398\" y2=\"229.3398\"/></a><!--MD5=[09b614a08d8cba4a07c9adeb5e0fee81]\n",
       "class E3--><a href=\"psysml:b8cf69e7-8508-48d3-98c1-1a5aff225283\" target=\"_top\" title=\"psysml:b8cf69e7-8508-48d3-98c1-1a5aff225283\" xlink:actuate=\"onRequest\" xlink:href=\"psysml:b8cf69e7-8508-48d3-98c1-1a5aff225283\" xlink:show=\"new\" xlink:title=\"psysml:b8cf69e7-8508-48d3-98c1-1a5aff225283\" xlink:type=\"simple\"><rect fill=\"#FEFECE\" filter=\"url(#f6fcyzsf29o6b)\" height=\"76.4922\" id=\"E3\" rx=\"10\" ry=\"10\" style=\"stroke: #A80036; stroke-width: 1.5;\" width=\"105\" x=\"294.5\" y=\"41\"/><text fill=\"#000000\" font-family=\"sans-serif\" font-size=\"12\" font-style=\"italic\" lengthAdjust=\"spacingAndGlyphs\" textLength=\"40\" x=\"327\" y=\"57.1387\">«part»</text><text fill=\"#000000\" font-family=\"sans-serif\" font-size=\"12\" lengthAdjust=\"spacingAndGlyphs\" textLength=\"30\" x=\"330\" y=\"71.1074\">v1: V</text><line style=\"stroke: #A80036; stroke-width: 1.5;\" x1=\"295.5\" x2=\"398.5\" y1=\"78.9375\" y2=\"78.9375\"/><path d=\"M302.4167,100.6589 L302.4167,109.8255 L303.3333,109.8255 L303.3333,100.6589 M306.0833,100.6589 L306.0833,109.8255 L313.4167,105.2422 L306.0833,100.6589 L307,102.0339 L312.0417,105.2422 L307,108.4505 L307,102.0339 \" fill=\"#000000\" style=\"stroke: ; stroke-width: 0.0; stroke-dasharray: ;\"/><text fill=\"#000000\" font-family=\"sans-serif\" font-size=\"11\" lengthAdjust=\"spacingAndGlyphs\" textLength=\"42\" x=\"317.5\" y=\"110.8979\">m= 20;</text><text fill=\"#000000\" font-family=\"sans-serif\" font-size=\"11\" lengthAdjust=\"spacingAndGlyphs\" text-decoration=\"line-through\" textLength=\"26\" x=\"367.5\" y=\"110.8979\">V::m</text><line style=\"stroke: #A80036; stroke-width: 1.0;\" x1=\"295.5\" x2=\"319.5\" y1=\"93.3398\" y2=\"93.3398\"/><text fill=\"#000000\" font-family=\"sans-serif\" font-size=\"11\" lengthAdjust=\"spacingAndGlyphs\" textLength=\"55\" x=\"319.5\" y=\"96.6479\">attributes</text><line style=\"stroke: #A80036; stroke-width: 1.0;\" x1=\"374.5\" x2=\"398.5\" y1=\"93.3398\" y2=\"93.3398\"/></a><!--MD5=[ebbe1d658d1005bcc118a6aa81145e00]\n",
       "class E4--><a href=\"psysml:75d7f18d-3bb0-43da-8a1f-920414b7c194\" target=\"_top\" title=\"psysml:75d7f18d-3bb0-43da-8a1f-920414b7c194\" xlink:actuate=\"onRequest\" xlink:href=\"psysml:75d7f18d-3bb0-43da-8a1f-920414b7c194\" xlink:show=\"new\" xlink:title=\"psysml:75d7f18d-3bb0-43da-8a1f-920414b7c194\" xlink:type=\"simple\"><rect fill=\"#FEFECE\" filter=\"url(#f6fcyzsf29o6b)\" height=\"76.4922\" id=\"E4\" style=\"stroke: #A80036; stroke-width: 1.5;\" width=\"150\" x=\"109\" y=\"41\"/><text fill=\"#000000\" font-family=\"sans-serif\" font-size=\"12\" font-style=\"italic\" lengthAdjust=\"spacingAndGlyphs\" textLength=\"68\" x=\"150\" y=\"57.1387\">«part  def»</text><text fill=\"#000000\" font-family=\"sans-serif\" font-size=\"12\" lengthAdjust=\"spacingAndGlyphs\" textLength=\"11\" x=\"178.5\" y=\"71.1074\">W</text><line style=\"stroke: #A80036; stroke-width: 1.5;\" x1=\"110\" x2=\"258\" y1=\"78.9375\" y2=\"78.9375\"/><path d=\"M116.9167,100.6589 L116.9167,109.8255 L117.8333,109.8255 L117.8333,100.6589 M120.5833,100.6589 L120.5833,109.8255 L127.9167,105.2422 L120.5833,100.6589 L121.5,102.0339 L126.5417,105.2422 L121.5,108.4505 L121.5,102.0339 \" fill=\"#000000\" style=\"stroke: ; stroke-width: 0.0; stroke-dasharray: ;\"/><text fill=\"#000000\" font-family=\"sans-serif\" font-size=\"11\" lengthAdjust=\"spacingAndGlyphs\" textLength=\"87\" x=\"132\" y=\"110.8979\">m=default = n;</text><text fill=\"#000000\" font-family=\"sans-serif\" font-size=\"11\" lengthAdjust=\"spacingAndGlyphs\" text-decoration=\"line-through\" textLength=\"26\" x=\"227\" y=\"110.8979\">V::m</text><line style=\"stroke: #A80036; stroke-width: 1.0;\" x1=\"110\" x2=\"156.5\" y1=\"93.3398\" y2=\"93.3398\"/><text fill=\"#000000\" font-family=\"sans-serif\" font-size=\"11\" lengthAdjust=\"spacingAndGlyphs\" textLength=\"55\" x=\"156.5\" y=\"96.6479\">attributes</text><line style=\"stroke: #A80036; stroke-width: 1.0;\" x1=\"211.5\" x2=\"258\" y1=\"93.3398\" y2=\"93.3398\"/></a><!--MD5=[270fce915f116d4de14055a7c1d9a0f3]\n",
       "class E5--><a href=\"psysml:1ec49292-f6e0-4564-a681-346e27695197\" target=\"_top\" title=\"psysml:1ec49292-f6e0-4564-a681-346e27695197\" xlink:actuate=\"onRequest\" xlink:href=\"psysml:1ec49292-f6e0-4564-a681-346e27695197\" xlink:show=\"new\" xlink:title=\"psysml:1ec49292-f6e0-4564-a681-346e27695197\" xlink:type=\"simple\"><rect fill=\"#FEFECE\" filter=\"url(#f6fcyzsf29o6b)\" height=\"45.9375\" id=\"E5\" rx=\"10\" ry=\"10\" style=\"stroke: #A80036; stroke-width: 1.5;\" width=\"42\" x=\"32\" y=\"56\"/><text fill=\"#000000\" font-family=\"sans-serif\" font-size=\"12\" font-style=\"italic\" lengthAdjust=\"spacingAndGlyphs\" textLength=\"40\" x=\"33\" y=\"72.1387\">«part»</text><text fill=\"#000000\" font-family=\"sans-serif\" font-size=\"12\" lengthAdjust=\"spacingAndGlyphs\" textLength=\"14\" x=\"44\" y=\"86.1074\">v2</text><line style=\"stroke: #A80036; stroke-width: 1.5;\" x1=\"33\" x2=\"73\" y1=\"93.9375\" y2=\"93.9375\"/></a><!--MD5=[05d275557350bfb9b23a4ef7222b4c39]\n",
       "link E3 to E2--><a href=\"psysml:eb47ef55-8727-46f8-948e-289e011721f9\" target=\"_top\" title=\"psysml:eb47ef55-8727-46f8-948e-289e011721f9\" xlink:actuate=\"onRequest\" xlink:href=\"psysml:eb47ef55-8727-46f8-948e-289e011721f9\" xlink:show=\"new\" xlink:title=\"psysml:eb47ef55-8727-46f8-948e-289e011721f9\" xlink:type=\"simple\"><path d=\"M325.24,117.15 C317.67,130.08 308.96,144.94 300.57,159.28 \" fill=\"none\" id=\"E3-&gt;E2\" style=\"stroke: #A80036; stroke-width: 1.0;\"/><polygon fill=\"#FFFFFF\" points=\"290.2,176.97,293.7681,157.0384,305.8465,164.1174,290.2,176.97\" style=\"stroke: #A80036; stroke-width: 1.0;\"/><ellipse cx=\"298.3758\" cy=\"153.1321\" fill=\"#A80036\" rx=\"2\" ry=\"2\" style=\"stroke: #A80036; stroke-width: 1.0;\"/><ellipse cx=\"307.0032\" cy=\"158.1885\" fill=\"#A80036\" rx=\"2\" ry=\"2\" style=\"stroke: #A80036; stroke-width: 1.0;\"/></a><!--MD5=[185131fc0dcab0a4505a2ebe144e961b]\n",
       "link E4 to E2--><a href=\"psysml:3b658baa-aed2-418d-9cf3-f3993d6dea2d\" target=\"_top\" title=\"psysml:3b658baa-aed2-418d-9cf3-f3993d6dea2d\" xlink:actuate=\"onRequest\" xlink:href=\"psysml:3b658baa-aed2-418d-9cf3-f3993d6dea2d\" xlink:show=\"new\" xlink:title=\"psysml:3b658baa-aed2-418d-9cf3-f3993d6dea2d\" xlink:type=\"simple\"><path d=\"M205.49,117.15 C212.97,130.08 221.57,144.94 229.87,159.28 \" fill=\"none\" id=\"E4-&gt;E2\" style=\"stroke: #A80036; stroke-width: 1.0;\"/><polygon fill=\"none\" points=\"236.15,156.15,240.1,176.97,224.03,163.16,236.15,156.15\" style=\"stroke: #A80036; stroke-width: 1.0;\"/></a><!--MD5=[45f3ea9156d91650f9783d2769f0febb]\n",
       "@startuml\r\n",
       "skinparam wrapWidth 300\r\n",
       "hide circle\r\n",
       "\r\n",
       "package \"DefaultValueTest\" as E1  [[psysml:e41cdd27-e179-4271-915e-4358fc3ae044 ]]  {\r\n",
       "comp def \"V\" as E2  <<(T,blue) part  def>> [[psysml:95d35419-5cb2-4278-8f59-96945510244a ]] {\r\n",
       "- - attributes - -\r\n",
       "m=default = 10; \r\n",
       "n= 20; \r\n",
       "}\r\n",
       "comp usage \"v1: V \" as E3  <<(T,blue) part>> [[psysml:b8cf69e7-8508-48d3-98c1-1a5aff225283 ]] {\r\n",
       "- - attributes - -\r\n",
       "<&bar-trig> m= 20;  <s>V::m</s>\r\n",
       "}\r\n",
       "comp def \"W\" as E4  <<(T,blue) part  def>> [[psysml:75d7f18d-3bb0-43da-8a1f-920414b7c194 ]] {\r\n",
       "- - attributes - -\r\n",
       "<&bar-trig> m=default = n;  <s>V::m</s>\r\n",
       "}\r\n",
       "comp usage \"v2 \" as E5  <<(T,blue) part>> [[psysml:1ec49292-f6e0-4564-a681-346e27695197 ]] {\r\n",
       "}\r\n",
       "}\r\n",
       "E3 - -:|> E2 [[psysml:eb47ef55-8727-46f8-948e-289e011721f9 ]] \r\n",
       "E4 - -|> E2 [[psysml:3b658baa-aed2-418d-9cf3-f3993d6dea2d ]] \r\n",
       "@enduml\r\n",
       "\n",
       "PlantUML version 1.2020.13(Sat Jun 13 12:26:38 UTC 2020)\n",
       "(EPL source distribution)\n",
       "Java Runtime: OpenJDK Runtime Environment\n",
       "JVM: OpenJDK 64-Bit Server VM\n",
       "Default Encoding: UTF-8\n",
       "Language: en\n",
       "Country: null\n",
       "--></g></svg>"
      ]
     },
     "execution_count": 24,
     "metadata": {},
     "output_type": "execute_result"
    }
   ],
   "source": [
    "%viz --style=\"STDCOLOR\" --view=\"Tree\" \"DefaultValueTest\""
   ]
  },
  {
   "cell_type": "code",
   "execution_count": 25,
   "id": "45be51ce",
   "metadata": {
    "execution": {
     "iopub.execute_input": "2022-07-23T10:55:44.915934Z",
     "iopub.status.busy": "2022-07-23T10:55:44.915391Z",
     "iopub.status.idle": "2022-07-23T10:55:44.919624Z",
     "shell.execute_reply": "2022-07-23T10:55:44.919144Z"
    }
   },
   "outputs": [
    {
     "data": {
      "image/svg+xml": [
       "<?xml version=\"1.0\" encoding=\"UTF-8\" standalone=\"no\"?><svg xmlns=\"http://www.w3.org/2000/svg\" xmlns:xlink=\"http://www.w3.org/1999/xlink\" contentScriptType=\"application/ecmascript\" contentStyleType=\"text/css\" height=\"12px\" preserveAspectRatio=\"none\" style=\"width:12px;height:12px;\" version=\"1.1\" viewBox=\"0 0 12 12\" width=\"12px\" zoomAndPan=\"magnify\"><defs/><g><!--MD5=[aeeef50f102b80d730deb6443d14f702]\n",
       "@startuml\r\n",
       "skinparam wrapWidth 300\r\n",
       "hide circle\r\n",
       "\r\n",
       "@enduml\r\n",
       "\n",
       "PlantUML version 1.2020.13(Sat Jun 13 12:26:38 UTC 2020)\n",
       "(EPL source distribution)\n",
       "Java Runtime: OpenJDK Runtime Environment\n",
       "JVM: OpenJDK 64-Bit Server VM\n",
       "Default Encoding: UTF-8\n",
       "Language: en\n",
       "Country: null\n",
       "--></g></svg>"
      ]
     },
     "execution_count": 25,
     "metadata": {},
     "output_type": "execute_result"
    }
   ],
   "source": [
    "%viz --style=\"STDCOLOR\" --view=\"State\" \"DefaultValueTest\""
   ]
  },
  {
   "cell_type": "code",
   "execution_count": 26,
   "id": "bda781ee",
   "metadata": {
    "execution": {
     "iopub.execute_input": "2022-07-23T10:55:44.969394Z",
     "iopub.status.busy": "2022-07-23T10:55:44.968921Z",
     "iopub.status.idle": "2022-07-23T10:55:45.011484Z",
     "shell.execute_reply": "2022-07-23T10:55:45.009893Z"
    }
   },
   "outputs": [
    {
     "data": {
      "image/svg+xml": [
       "<?xml version=\"1.0\" encoding=\"UTF-8\" standalone=\"no\"?><svg xmlns=\"http://www.w3.org/2000/svg\" xmlns:xlink=\"http://www.w3.org/1999/xlink\" contentScriptType=\"application/ecmascript\" contentStyleType=\"text/css\" height=\"399px\" preserveAspectRatio=\"none\" style=\"width:499px;height:399px;\" version=\"1.1\" viewBox=\"0 0 499 399\" width=\"499px\" zoomAndPan=\"magnify\"><defs><filter height=\"300%\" id=\"fu5dlhq1o8j9t\" width=\"300%\" x=\"-1\" y=\"-1\"><feGaussianBlur result=\"blurOut\" stdDeviation=\"2.0\"/><feColorMatrix in=\"blurOut\" result=\"blurOut2\" type=\"matrix\" values=\"0 0 0 0 0 0 0 0 0 0 0 0 0 0 0 0 0 0 .4 0\"/><feOffset dx=\"4.0\" dy=\"4.0\" in=\"blurOut2\" result=\"blurOut3\"/><feBlend in=\"SourceGraphic\" in2=\"blurOut3\" mode=\"normal\"/></filter></defs><g><!--MD5=[fbc87193dbaf4d95561dea2c320d4a47]\n",
       "cluster E1--><a href=\"psysml:e41cdd27-e179-4271-915e-4358fc3ae044\" target=\"_top\" title=\"psysml:e41cdd27-e179-4271-915e-4358fc3ae044\" xlink:actuate=\"onRequest\" xlink:href=\"psysml:e41cdd27-e179-4271-915e-4358fc3ae044\" xlink:show=\"new\" xlink:title=\"psysml:e41cdd27-e179-4271-915e-4358fc3ae044\" xlink:type=\"simple\"><polygon fill=\"#FFFFFF\" filter=\"url(#fu5dlhq1o8j9t)\" points=\"16,6,140,6,147,28.2969,477,28.2969,477,387,16,387,16,6\" style=\"stroke: #000000; stroke-width: 1.5;\"/><line style=\"stroke: #000000; stroke-width: 1.5;\" x1=\"16\" x2=\"147\" y1=\"28.2969\" y2=\"28.2969\"/><text fill=\"#000000\" font-family=\"sans-serif\" font-size=\"14\" font-weight=\"bold\" lengthAdjust=\"spacingAndGlyphs\" textLength=\"118\" x=\"20\" y=\"20.9951\">DefaultValueTest</text></a><!--MD5=[e4f7fae6ed58524ba242bb0b0d3be6b7]\n",
       "cluster E2--><a href=\"psysml:95d35419-5cb2-4278-8f59-96945510244a\" target=\"_top\" title=\"psysml:95d35419-5cb2-4278-8f59-96945510244a\" xlink:actuate=\"onRequest\" xlink:href=\"psysml:95d35419-5cb2-4278-8f59-96945510244a\" xlink:show=\"new\" xlink:title=\"psysml:95d35419-5cb2-4278-8f59-96945510244a\" xlink:type=\"simple\"><rect fill=\"#FFFFFF\" filter=\"url(#fu5dlhq1o8j9t)\" height=\"129\" id=\"E2\" style=\"stroke: #A80036; stroke-width: 1.5;\" width=\"245\" x=\"163\" y=\"226\"/><rect fill=\"#FEFECE\" height=\"37.9375\" style=\"stroke: #A80036; stroke-width: 1.5;\" width=\"245\" x=\"163\" y=\"226\"/><text fill=\"#000000\" font-family=\"sans-serif\" font-size=\"12\" font-style=\"italic\" lengthAdjust=\"spacingAndGlyphs\" textLength=\"68\" x=\"251.5\" y=\"242.1387\">«part  def»</text><text fill=\"#000000\" font-family=\"sans-serif\" font-size=\"12\" lengthAdjust=\"spacingAndGlyphs\" textLength=\"8\" x=\"281.5\" y=\"256.1074\">V</text></a><!--MD5=[de5ec2e2e8f62f467e546659f5068c88]\n",
       "cluster E5--><a href=\"psysml:b8cf69e7-8508-48d3-98c1-1a5aff225283\" target=\"_top\" title=\"psysml:b8cf69e7-8508-48d3-98c1-1a5aff225283\" xlink:actuate=\"onRequest\" xlink:href=\"psysml:b8cf69e7-8508-48d3-98c1-1a5aff225283\" xlink:show=\"new\" xlink:title=\"psysml:b8cf69e7-8508-48d3-98c1-1a5aff225283\" xlink:type=\"simple\"><rect fill=\"#FFFFFF\" filter=\"url(#fu5dlhq1o8j9t)\" height=\"113\" id=\"E5\" rx=\"10\" ry=\"10\" style=\"stroke: #A80036; stroke-width: 1.5;\" width=\"139\" x=\"306\" y=\"73\"/><rect fill=\"#FEFECE\" height=\"23.9688\" rx=\"10\" ry=\"10\" style=\"stroke: #FEFECE; stroke-width: 1.5;\" width=\"139\" x=\"306\" y=\"73\"/><rect fill=\"#FEFECE\" height=\"10\" style=\"stroke: #FEFECE; stroke-width: 1.5;\" width=\"139\" x=\"306\" y=\"86.9688\"/><rect fill=\"none\" height=\"113\" id=\"E5\" rx=\"10\" ry=\"10\" style=\"stroke: #A80036; stroke-width: 1.5;\" width=\"139\" x=\"306\" y=\"73\"/><text fill=\"#000000\" font-family=\"sans-serif\" font-size=\"12\" lengthAdjust=\"spacingAndGlyphs\" textLength=\"30\" x=\"360.5\" y=\"89.1387\">v1: V</text><line style=\"stroke: #A80036; stroke-width: 1.0;\" x1=\"306\" x2=\"445\" y1=\"96.9688\" y2=\"96.9688\"/></a><!--MD5=[168fadf3d0c3fd93dd5d6da1b1d7ab76]\n",
       "cluster E7--><a href=\"psysml:75d7f18d-3bb0-43da-8a1f-920414b7c194\" target=\"_top\" title=\"psysml:75d7f18d-3bb0-43da-8a1f-920414b7c194\" xlink:actuate=\"onRequest\" xlink:href=\"psysml:75d7f18d-3bb0-43da-8a1f-920414b7c194\" xlink:show=\"new\" xlink:title=\"psysml:75d7f18d-3bb0-43da-8a1f-920414b7c194\" xlink:type=\"simple\"><rect fill=\"#FFFFFF\" filter=\"url(#fu5dlhq1o8j9t)\" height=\"129\" id=\"E7\" style=\"stroke: #A80036; stroke-width: 1.5;\" width=\"139\" x=\"127\" y=\"57\"/><rect fill=\"#FEFECE\" height=\"37.9375\" style=\"stroke: #A80036; stroke-width: 1.5;\" width=\"139\" x=\"127\" y=\"57\"/><text fill=\"#000000\" font-family=\"sans-serif\" font-size=\"12\" font-style=\"italic\" lengthAdjust=\"spacingAndGlyphs\" textLength=\"68\" x=\"162.5\" y=\"73.1387\">«part  def»</text><text fill=\"#000000\" font-family=\"sans-serif\" font-size=\"12\" lengthAdjust=\"spacingAndGlyphs\" textLength=\"11\" x=\"191\" y=\"87.1074\">W</text></a><!--MD5=[09b614a08d8cba4a07c9adeb5e0fee81]\n",
       "class E3--><a href=\"psysml:6a54ba7f-e62a-486f-80dd-d9293281f966\" target=\"_top\" title=\"psysml:6a54ba7f-e62a-486f-80dd-d9293281f966\" xlink:actuate=\"onRequest\" xlink:href=\"psysml:6a54ba7f-e62a-486f-80dd-d9293281f966\" xlink:show=\"new\" xlink:title=\"psysml:6a54ba7f-e62a-486f-80dd-d9293281f966\" xlink:type=\"simple\"><rect fill=\"#FEFECE\" filter=\"url(#fu5dlhq1o8j9t)\" height=\"45.9375\" id=\"E3\" rx=\"10\" ry=\"10\" style=\"stroke: #A80036; stroke-width: 1.5;\" width=\"71\" x=\"312.5\" y=\"285\"/><text fill=\"#000000\" font-family=\"sans-serif\" font-size=\"12\" font-style=\"italic\" lengthAdjust=\"spacingAndGlyphs\" textLength=\"69\" x=\"313.5\" y=\"301.1387\">«attribute»</text><text fill=\"#000000\" font-family=\"sans-serif\" font-size=\"12\" lengthAdjust=\"spacingAndGlyphs\" textLength=\"11\" x=\"340.5\" y=\"315.1074\">m</text><line style=\"stroke: #A80036; stroke-width: 1.5;\" x1=\"313.5\" x2=\"382.5\" y1=\"322.9375\" y2=\"322.9375\"/></a><!--MD5=[ebbe1d658d1005bcc118a6aa81145e00]\n",
       "class E4--><a href=\"psysml:16f4b3d0-0144-41cb-ad29-b9c3c07c611b\" target=\"_top\" title=\"psysml:16f4b3d0-0144-41cb-ad29-b9c3c07c611b\" xlink:actuate=\"onRequest\" xlink:href=\"psysml:16f4b3d0-0144-41cb-ad29-b9c3c07c611b\" xlink:show=\"new\" xlink:title=\"psysml:16f4b3d0-0144-41cb-ad29-b9c3c07c611b\" xlink:type=\"simple\"><rect fill=\"#FEFECE\" filter=\"url(#fu5dlhq1o8j9t)\" height=\"45.9375\" id=\"E4\" rx=\"10\" ry=\"10\" style=\"stroke: #A80036; stroke-width: 1.5;\" width=\"71\" x=\"206.5\" y=\"285\"/><text fill=\"#000000\" font-family=\"sans-serif\" font-size=\"12\" font-style=\"italic\" lengthAdjust=\"spacingAndGlyphs\" textLength=\"69\" x=\"207.5\" y=\"301.1387\">«attribute»</text><text fill=\"#000000\" font-family=\"sans-serif\" font-size=\"12\" lengthAdjust=\"spacingAndGlyphs\" textLength=\"8\" x=\"236\" y=\"315.1074\">n</text><line style=\"stroke: #A80036; stroke-width: 1.5;\" x1=\"207.5\" x2=\"276.5\" y1=\"322.9375\" y2=\"322.9375\"/></a><!--MD5=[60a26617385b1d2d0262a64233df1f8d]\n",
       "class E6--><a href=\"psysml:8ab4ea45-bcef-481a-a1e6-04e630fb5715\" target=\"_top\" title=\"psysml:8ab4ea45-bcef-481a-a1e6-04e630fb5715\" xlink:actuate=\"onRequest\" xlink:href=\"psysml:8ab4ea45-bcef-481a-a1e6-04e630fb5715\" xlink:show=\"new\" xlink:title=\"psysml:8ab4ea45-bcef-481a-a1e6-04e630fb5715\" xlink:type=\"simple\"><rect fill=\"#FEFECE\" filter=\"url(#fu5dlhq1o8j9t)\" height=\"45.9375\" id=\"E6\" rx=\"10\" ry=\"10\" style=\"stroke: #A80036; stroke-width: 1.5;\" width=\"71\" x=\"349.5\" y=\"116\"/><text fill=\"#000000\" font-family=\"sans-serif\" font-size=\"12\" font-style=\"italic\" lengthAdjust=\"spacingAndGlyphs\" textLength=\"69\" x=\"350.5\" y=\"132.1387\">«attribute»</text><text fill=\"#000000\" font-family=\"sans-serif\" font-size=\"12\" lengthAdjust=\"spacingAndGlyphs\" textLength=\"11\" x=\"377.5\" y=\"146.1074\">m</text><line style=\"stroke: #A80036; stroke-width: 1.5;\" x1=\"350.5\" x2=\"419.5\" y1=\"153.9375\" y2=\"153.9375\"/></a><!--MD5=[b9389687b975829384b498ac4b7476b2]\n",
       "class E8--><a href=\"psysml:1da3bab2-1d8c-4ebe-95aa-17b6e9277a07\" target=\"_top\" title=\"psysml:1da3bab2-1d8c-4ebe-95aa-17b6e9277a07\" xlink:actuate=\"onRequest\" xlink:href=\"psysml:1da3bab2-1d8c-4ebe-95aa-17b6e9277a07\" xlink:show=\"new\" xlink:title=\"psysml:1da3bab2-1d8c-4ebe-95aa-17b6e9277a07\" xlink:type=\"simple\"><rect fill=\"#FEFECE\" filter=\"url(#fu5dlhq1o8j9t)\" height=\"45.9375\" id=\"E8\" rx=\"10\" ry=\"10\" style=\"stroke: #A80036; stroke-width: 1.5;\" width=\"71\" x=\"170.5\" y=\"116\"/><text fill=\"#000000\" font-family=\"sans-serif\" font-size=\"12\" font-style=\"italic\" lengthAdjust=\"spacingAndGlyphs\" textLength=\"69\" x=\"171.5\" y=\"132.1387\">«attribute»</text><text fill=\"#000000\" font-family=\"sans-serif\" font-size=\"12\" lengthAdjust=\"spacingAndGlyphs\" textLength=\"11\" x=\"198.5\" y=\"146.1074\">m</text><line style=\"stroke: #A80036; stroke-width: 1.5;\" x1=\"171.5\" x2=\"240.5\" y1=\"153.9375\" y2=\"153.9375\"/></a><g id=\"E1.E9\"><a href=\"psysml:1ec49292-f6e0-4564-a681-346e27695197\" target=\"_top\" title=\"psysml:1ec49292-f6e0-4564-a681-346e27695197\" xlink:actuate=\"onRequest\" xlink:href=\"psysml:1ec49292-f6e0-4564-a681-346e27695197\" xlink:show=\"new\" xlink:title=\"psysml:1ec49292-f6e0-4564-a681-346e27695197\" xlink:type=\"simple\"><rect fill=\"#FEFECE\" filter=\"url(#fu5dlhq1o8j9t)\" height=\"40\" id=\"E9\" rx=\"10\" ry=\"10\" style=\"stroke: #A80036; stroke-width: 1.5;\" width=\"68\" x=\"32\" y=\"119\"/><text fill=\"#000000\" font-family=\"sans-serif\" font-size=\"12\" lengthAdjust=\"spacingAndGlyphs\" textLength=\"53\" x=\"37.5\" y=\"135.1387\">v2= W();</text></a></g><!--MD5=[a717450b82c80b9240a525fa862496af]\n",
       "link E6 to E3--><a href=\"psysml:df608862-84ce-4303-af6e-5dfc61cbb6d2\" target=\"_top\" title=\"psysml:df608862-84ce-4303-af6e-5dfc61cbb6d2\" xlink:actuate=\"onRequest\" xlink:href=\"psysml:df608862-84ce-4303-af6e-5dfc61cbb6d2\" xlink:show=\"new\" xlink:title=\"psysml:df608862-84ce-4303-af6e-5dfc61cbb6d2\" xlink:type=\"simple\"><path d=\"M380.09,162.18 C374.29,188.33 364.54,232.36 357.3,265.02 \" fill=\"none\" id=\"E6-&gt;E3\" style=\"stroke: #A80036; stroke-width: 1.0;\"/><polygon fill=\"#FFFFFF\" points=\"352.87,285,350.1475,264.9354,363.8158,267.965,352.87,285\" style=\"stroke: #A80036; stroke-width: 1.0;\"/><line style=\"stroke: #A80036; stroke-width: 2.0;\" x1=\"350.9698\" x2=\"364.6381\" y1=\"261.2254\" y2=\"264.2551\"/></a><!--MD5=[15ebcb19ae302d9b601edb458606d402]\n",
       "link E5 to E2--><a href=\"psysml:eb47ef55-8727-46f8-948e-289e011721f9\" target=\"_top\" title=\"psysml:eb47ef55-8727-46f8-948e-289e011721f9\" xlink:actuate=\"onRequest\" xlink:href=\"psysml:eb47ef55-8727-46f8-948e-289e011721f9\" xlink:show=\"new\" xlink:title=\"psysml:eb47ef55-8727-46f8-948e-289e011721f9\" xlink:type=\"simple\"><path d=\"M305.9739,153.5956 C305.9186,153.6814 305.863,153.7674 305.8072,153.8537 C305.6955,154.0263 305.5828,154.2 305.469,154.3747 C305.0139,155.0736 304.5421,155.7894 304.0539,156.52 C302.1011,159.4426 299.8863,162.6028 297.4325,165.8712 C287.6175,178.945 273.98,193.75 258,202 C244.48,208.98 201.16,199.66 190,210 C186.035,213.6737 182.7581,217.912 180.0601,222.5203 C179.7228,223.0963 179.3946,223.6781 179.0752,224.2654 C178.9155,224.559 178.758,224.8539 178.6027,225.1502 C178.5251,225.2983 178.448,225.4468 178.3714,225.5955 \" fill=\"none\" id=\"E5-&gt;E2\" style=\"stroke: #A80036; stroke-width: 1.0;\"/><polygon fill=\"#FFFFFF\" points=\"178.3714,225.5955,180.8415,205.4983,193.2898,211.9046,178.3714,225.5955\" style=\"stroke: #A80036; stroke-width: 1.0;\"/><ellipse cx=\"185.2281\" cy=\"201.3453\" fill=\"#A80036\" rx=\"2\" ry=\"2\" style=\"stroke: #A80036; stroke-width: 1.0;\"/><ellipse cx=\"194.1197\" cy=\"205.9212\" fill=\"#A80036\" rx=\"2\" ry=\"2\" style=\"stroke: #A80036; stroke-width: 1.0;\"/></a><!--MD5=[583832df87f4419a098336a29a52fa00]\n",
       "link E7 to E2--><a href=\"psysml:3b658baa-aed2-418d-9cf3-f3993d6dea2d\" target=\"_top\" title=\"psysml:3b658baa-aed2-418d-9cf3-f3993d6dea2d\" xlink:actuate=\"onRequest\" xlink:href=\"psysml:3b658baa-aed2-418d-9cf3-f3993d6dea2d\" xlink:show=\"new\" xlink:title=\"psysml:3b658baa-aed2-418d-9cf3-f3993d6dea2d\" xlink:type=\"simple\"><path d=\"M145.0817,186.7597 C145.5768,189.0567 146.0819,191.4 146.595,193.7804 C148.6473,203.3019 150.8275,213.4163 153.0075,223.53 C155.1875,233.6438 157.3673,243.7569 159.4191,253.2759 C160.4449,258.0354 161.4388,262.6463 162.3846,267.0345 C162.5028,267.5831 162.6203,268.1281 162.7369,268.6695 C162.7953,268.9403 162.8534,269.2101 162.9114,269.4789 C162.9404,269.6134 162.9693,269.7476 162.9982,269.8816 \" fill=\"none\" id=\"E7-&gt;E2\" style=\"stroke: #A80036; stroke-width: 1.0;\"/><polygon fill=\"#FFFFFF\" points=\"162.9982,269.8816,165.8379,249.8332,152.1522,252.7829,162.9982,269.8816\" style=\"stroke: #A80036; stroke-width: 1.0;\"/></a><!--MD5=[95fa686b5a16158bcdbcaeead89f639b]\n",
       "link E8 to E3--><a href=\"psysml:d0f3a95a-9489-4833-bd9a-1794072888fe\" target=\"_top\" title=\"psysml:d0f3a95a-9489-4833-bd9a-1794072888fe\" xlink:actuate=\"onRequest\" xlink:href=\"psysml:d0f3a95a-9489-4833-bd9a-1794072888fe\" xlink:show=\"new\" xlink:title=\"psysml:d0f3a95a-9489-4833-bd9a-1794072888fe\" xlink:type=\"simple\"><path d=\"M240.46,162.1 C258.23,174.66 279.38,191.54 295,210 C309.2,226.78 321.3,247.97 330.35,266.26 \" fill=\"none\" id=\"E8-&gt;E3\" style=\"stroke: #A80036; stroke-width: 1.0;\"/><polygon fill=\"#FFFFFF\" points=\"338.91,284.62,324.543,270.3516,337.2341,264.441,338.91,284.62\" style=\"stroke: #A80036; stroke-width: 1.0;\"/><line style=\"stroke: #A80036; stroke-width: 2.0;\" x1=\"322.9387\" x2=\"335.6298\" y1=\"266.9068\" y2=\"260.9963\"/></a><!--MD5=[eed94656e679152ef7953d76fa5cbd20]\n",
       "@startuml\r\n",
       "skinparam ranksep 10\r\n",
       "skinparam rectangle {\r\n",
       " backgroundColor<<block>> LightGreen\r\n",
       "}\r\n",
       "skinparam wrapWidth 300\r\n",
       "hide circle\r\n",
       "\r\n",
       "package \"DefaultValueTest\" as E1  [[psysml:e41cdd27-e179-4271-915e-4358fc3ae044 ]]  {\r\n",
       "rec def \"V\" as E2  <<(T,blue) part  def>> [[psysml:95d35419-5cb2-4278-8f59-96945510244a ]] {\r\n",
       "comp usage \"m \" as E3  <<(T,blue) attribute>> [[psysml:6a54ba7f-e62a-486f-80dd-d9293281f966 ]] {\r\n",
       "}\r\n",
       "comp usage \"n \" as E4  <<(T,blue) attribute>> [[psysml:16f4b3d0-0144-41cb-ad29-b9c3c07c611b ]] {\r\n",
       "}\r\n",
       "}\r\n",
       "rec usage \"v1: V\" as E5  [[psysml:b8cf69e7-8508-48d3-98c1-1a5aff225283 ]] {\r\n",
       "comp usage \"m \" as E6  <<(T,blue) attribute>> [[psysml:8ab4ea45-bcef-481a-a1e6-04e630fb5715 ]] {\r\n",
       "}\r\n",
       "}\r\n",
       "rec def \"W\" as E7  <<(T,blue) part  def>> [[psysml:75d7f18d-3bb0-43da-8a1f-920414b7c194 ]] {\r\n",
       "comp usage \"m \" as E8  <<(T,blue) attribute>> [[psysml:1da3bab2-1d8c-4ebe-95aa-17b6e9277a07 ]] {\r\n",
       "}\r\n",
       "}\r\n",
       "rec usage \"v2= W(); \" as E9  [[psysml:1ec49292-f6e0-4564-a681-346e27695197 ]] {\r\n",
       "}\r\n",
       "}\r\n",
       "E6 - -||> E3 [[psysml:df608862-84ce-4303-af6e-5dfc61cbb6d2 ]] \r\n",
       "E5 - -:|> E2 [[psysml:eb47ef55-8727-46f8-948e-289e011721f9 ]] \r\n",
       "E7 - -|> E2 [[psysml:3b658baa-aed2-418d-9cf3-f3993d6dea2d ]] \r\n",
       "E8 - -||> E3 [[psysml:d0f3a95a-9489-4833-bd9a-1794072888fe ]] \r\n",
       "@enduml\r\n",
       "\n",
       "PlantUML version 1.2020.13(Sat Jun 13 12:26:38 UTC 2020)\n",
       "(EPL source distribution)\n",
       "Java Runtime: OpenJDK Runtime Environment\n",
       "JVM: OpenJDK 64-Bit Server VM\n",
       "Default Encoding: UTF-8\n",
       "Language: en\n",
       "Country: null\n",
       "--></g></svg>"
      ]
     },
     "execution_count": 26,
     "metadata": {},
     "output_type": "execute_result"
    }
   ],
   "source": [
    "%viz --style=\"STDCOLOR\" --view=\"Interconnection\" \"DefaultValueTest\""
   ]
  },
  {
   "cell_type": "code",
   "execution_count": 27,
   "id": "07f292e6",
   "metadata": {
    "execution": {
     "iopub.execute_input": "2022-07-23T10:55:45.060918Z",
     "iopub.status.busy": "2022-07-23T10:55:45.060457Z",
     "iopub.status.idle": "2022-07-23T10:55:45.066015Z",
     "shell.execute_reply": "2022-07-23T10:55:45.065403Z"
    }
   },
   "outputs": [
    {
     "data": {
      "image/svg+xml": [
       "<?xml version=\"1.0\" encoding=\"UTF-8\" standalone=\"no\"?><svg xmlns=\"http://www.w3.org/2000/svg\" xmlns:xlink=\"http://www.w3.org/1999/xlink\" contentScriptType=\"application/ecmascript\" contentStyleType=\"text/css\" height=\"12px\" preserveAspectRatio=\"none\" style=\"width:12px;height:12px;\" version=\"1.1\" viewBox=\"0 0 12 12\" width=\"12px\" zoomAndPan=\"magnify\"><defs/><g><!--MD5=[9863325348a96a77dacc89509d8ee65e]\n",
       "@startuml\r\n",
       "skinparam ranksep 8\r\n",
       "skinparam wrapWidth 300\r\n",
       "hide circle\r\n",
       "\r\n",
       "@enduml\r\n",
       "\n",
       "PlantUML version 1.2020.13(Sat Jun 13 12:26:38 UTC 2020)\n",
       "(EPL source distribution)\n",
       "Java Runtime: OpenJDK Runtime Environment\n",
       "JVM: OpenJDK 64-Bit Server VM\n",
       "Default Encoding: UTF-8\n",
       "Language: en\n",
       "Country: null\n",
       "--></g></svg>"
      ]
     },
     "execution_count": 27,
     "metadata": {},
     "output_type": "execute_result"
    }
   ],
   "source": [
    "%viz --style=\"STDCOLOR\" --view=\"Action\" \"DefaultValueTest\""
   ]
  },
  {
   "cell_type": "code",
   "execution_count": 28,
   "id": "f8d5328e",
   "metadata": {
    "execution": {
     "iopub.execute_input": "2022-07-23T10:55:45.115437Z",
     "iopub.status.busy": "2022-07-23T10:55:45.114983Z",
     "iopub.status.idle": "2022-07-23T10:55:45.119158Z",
     "shell.execute_reply": "2022-07-23T10:55:45.119489Z"
    }
   },
   "outputs": [
    {
     "data": {
      "image/svg+xml": [
       "<?xml version=\"1.0\" encoding=\"UTF-8\" standalone=\"no\"?><svg xmlns=\"http://www.w3.org/2000/svg\" xmlns:xlink=\"http://www.w3.org/1999/xlink\" contentScriptType=\"application/ecmascript\" contentStyleType=\"text/css\" height=\"12px\" preserveAspectRatio=\"none\" style=\"width:12px;height:12px;\" version=\"1.1\" viewBox=\"0 0 12 12\" width=\"12px\" zoomAndPan=\"magnify\"><defs/><g><!--MD5=[6c4bca67b4d71758159a5a7f1f1e1fc2]\n",
       "@startuml\r\n",
       "skinparam roundcorner 20\r\n",
       "skinparam BoxPadding 20\r\n",
       "skinparam SequenceBoxBackgroundColor #white\r\n",
       "skinparam style strictuml\r\n",
       "skinparam maxMessageSize 100\r\n",
       "skinparam wrapWidth 300\r\n",
       "hide circle\r\n",
       "\r\n",
       "@enduml\r\n",
       "\n",
       "PlantUML version 1.2020.13(Sat Jun 13 12:26:38 UTC 2020)\n",
       "(EPL source distribution)\n",
       "Java Runtime: OpenJDK Runtime Environment\n",
       "JVM: OpenJDK 64-Bit Server VM\n",
       "Default Encoding: UTF-8\n",
       "Language: en\n",
       "Country: null\n",
       "--></g></svg>"
      ]
     },
     "execution_count": 28,
     "metadata": {},
     "output_type": "execute_result"
    }
   ],
   "source": [
    "%viz --style=\"STDCOLOR\" --view=\"Sequence\" \"DefaultValueTest\""
   ]
  },
  {
   "cell_type": "code",
   "execution_count": 29,
   "id": "39323703",
   "metadata": {
    "execution": {
     "iopub.execute_input": "2022-07-23T10:55:45.169468Z",
     "iopub.status.busy": "2022-07-23T10:55:45.169002Z",
     "iopub.status.idle": "2022-07-23T10:55:45.242537Z",
     "shell.execute_reply": "2022-07-23T10:55:45.241930Z"
    }
   },
   "outputs": [
    {
     "data": {
      "image/svg+xml": [
       "<?xml version=\"1.0\" encoding=\"UTF-8\" standalone=\"no\"?><svg xmlns=\"http://www.w3.org/2000/svg\" xmlns:xlink=\"http://www.w3.org/1999/xlink\" contentScriptType=\"application/ecmascript\" contentStyleType=\"text/css\" height=\"293px\" preserveAspectRatio=\"none\" style=\"width:438px;height:293px;\" version=\"1.1\" viewBox=\"0 0 438 293\" width=\"438px\" zoomAndPan=\"magnify\"><defs><filter height=\"300%\" id=\"f6fcyzsf29o6b\" width=\"300%\" x=\"-1\" y=\"-1\"><feGaussianBlur result=\"blurOut\" stdDeviation=\"2.0\"/><feColorMatrix in=\"blurOut\" result=\"blurOut2\" type=\"matrix\" values=\"0 0 0 0 0 0 0 0 0 0 0 0 0 0 0 0 0 0 .4 0\"/><feOffset dx=\"4.0\" dy=\"4.0\" in=\"blurOut2\" result=\"blurOut3\"/><feBlend in=\"SourceGraphic\" in2=\"blurOut3\" mode=\"normal\"/></filter></defs><g><!--MD5=[fbc87193dbaf4d95561dea2c320d4a47]\n",
       "cluster E1--><a href=\"psysml:e41cdd27-e179-4271-915e-4358fc3ae044\" target=\"_top\" title=\"psysml:e41cdd27-e179-4271-915e-4358fc3ae044\" xlink:actuate=\"onRequest\" xlink:href=\"psysml:e41cdd27-e179-4271-915e-4358fc3ae044\" xlink:show=\"new\" xlink:title=\"psysml:e41cdd27-e179-4271-915e-4358fc3ae044\" xlink:type=\"simple\"><polygon fill=\"#FFFFFF\" filter=\"url(#f6fcyzsf29o6b)\" points=\"16,6,140,6,147,28.2969,416,28.2969,416,281,16,281,16,6\" style=\"stroke: #000000; stroke-width: 1.5;\"/><line style=\"stroke: #000000; stroke-width: 1.5;\" x1=\"16\" x2=\"147\" y1=\"28.2969\" y2=\"28.2969\"/><text fill=\"#000000\" font-family=\"sans-serif\" font-size=\"14\" font-weight=\"bold\" lengthAdjust=\"spacingAndGlyphs\" textLength=\"118\" x=\"20\" y=\"20.9951\">DefaultValueTest</text></a><!--MD5=[b4997ac47864f28c2f74865a473b2911]\n",
       "class E2--><a href=\"psysml:95d35419-5cb2-4278-8f59-96945510244a\" target=\"_top\" title=\"psysml:95d35419-5cb2-4278-8f59-96945510244a\" xlink:actuate=\"onRequest\" xlink:href=\"psysml:95d35419-5cb2-4278-8f59-96945510244a\" xlink:show=\"new\" xlink:title=\"psysml:95d35419-5cb2-4278-8f59-96945510244a\" xlink:type=\"simple\"><rect fill=\"#FEFECE\" filter=\"url(#f6fcyzsf29o6b)\" height=\"88.3516\" id=\"E2\" style=\"stroke: #A80036; stroke-width: 1.5;\" width=\"106\" x=\"212\" y=\"177\"/><text fill=\"#000000\" font-family=\"sans-serif\" font-size=\"12\" font-style=\"italic\" lengthAdjust=\"spacingAndGlyphs\" textLength=\"68\" x=\"231\" y=\"193.1387\">«part  def»</text><text fill=\"#000000\" font-family=\"sans-serif\" font-size=\"12\" lengthAdjust=\"spacingAndGlyphs\" textLength=\"8\" x=\"261\" y=\"207.1074\">V</text><line style=\"stroke: #A80036; stroke-width: 1.5;\" x1=\"213\" x2=\"317\" y1=\"214.9375\" y2=\"214.9375\"/><text fill=\"#000000\" font-family=\"sans-serif\" font-size=\"11\" lengthAdjust=\"spacingAndGlyphs\" textLength=\"94\" x=\"218\" y=\"245.9526\">m=default = 10;</text><text fill=\"#000000\" font-family=\"sans-serif\" font-size=\"11\" lengthAdjust=\"spacingAndGlyphs\" textLength=\"38\" x=\"218\" y=\"258.7573\">n= 20;</text><line style=\"stroke: #A80036; stroke-width: 1.0;\" x1=\"213\" x2=\"237.5\" y1=\"229.3398\" y2=\"229.3398\"/><text fill=\"#000000\" font-family=\"sans-serif\" font-size=\"11\" lengthAdjust=\"spacingAndGlyphs\" textLength=\"55\" x=\"237.5\" y=\"232.6479\">attributes</text><line style=\"stroke: #A80036; stroke-width: 1.0;\" x1=\"292.5\" x2=\"317\" y1=\"229.3398\" y2=\"229.3398\"/></a><!--MD5=[09b614a08d8cba4a07c9adeb5e0fee81]\n",
       "class E3--><a href=\"psysml:b8cf69e7-8508-48d3-98c1-1a5aff225283\" target=\"_top\" title=\"psysml:b8cf69e7-8508-48d3-98c1-1a5aff225283\" xlink:actuate=\"onRequest\" xlink:href=\"psysml:b8cf69e7-8508-48d3-98c1-1a5aff225283\" xlink:show=\"new\" xlink:title=\"psysml:b8cf69e7-8508-48d3-98c1-1a5aff225283\" xlink:type=\"simple\"><rect fill=\"#FEFECE\" filter=\"url(#f6fcyzsf29o6b)\" height=\"76.4922\" id=\"E3\" rx=\"10\" ry=\"10\" style=\"stroke: #A80036; stroke-width: 1.5;\" width=\"105\" x=\"294.5\" y=\"41\"/><text fill=\"#000000\" font-family=\"sans-serif\" font-size=\"12\" font-style=\"italic\" lengthAdjust=\"spacingAndGlyphs\" textLength=\"40\" x=\"327\" y=\"57.1387\">«part»</text><text fill=\"#000000\" font-family=\"sans-serif\" font-size=\"12\" lengthAdjust=\"spacingAndGlyphs\" textLength=\"30\" x=\"330\" y=\"71.1074\">v1: V</text><line style=\"stroke: #A80036; stroke-width: 1.5;\" x1=\"295.5\" x2=\"398.5\" y1=\"78.9375\" y2=\"78.9375\"/><path d=\"M302.4167,100.6589 L302.4167,109.8255 L303.3333,109.8255 L303.3333,100.6589 M306.0833,100.6589 L306.0833,109.8255 L313.4167,105.2422 L306.0833,100.6589 L307,102.0339 L312.0417,105.2422 L307,108.4505 L307,102.0339 \" fill=\"#000000\" style=\"stroke: ; stroke-width: 0.0; stroke-dasharray: ;\"/><text fill=\"#000000\" font-family=\"sans-serif\" font-size=\"11\" lengthAdjust=\"spacingAndGlyphs\" textLength=\"42\" x=\"317.5\" y=\"110.8979\">m= 20;</text><text fill=\"#000000\" font-family=\"sans-serif\" font-size=\"11\" lengthAdjust=\"spacingAndGlyphs\" text-decoration=\"line-through\" textLength=\"26\" x=\"367.5\" y=\"110.8979\">V::m</text><line style=\"stroke: #A80036; stroke-width: 1.0;\" x1=\"295.5\" x2=\"319.5\" y1=\"93.3398\" y2=\"93.3398\"/><text fill=\"#000000\" font-family=\"sans-serif\" font-size=\"11\" lengthAdjust=\"spacingAndGlyphs\" textLength=\"55\" x=\"319.5\" y=\"96.6479\">attributes</text><line style=\"stroke: #A80036; stroke-width: 1.0;\" x1=\"374.5\" x2=\"398.5\" y1=\"93.3398\" y2=\"93.3398\"/></a><!--MD5=[ebbe1d658d1005bcc118a6aa81145e00]\n",
       "class E4--><a href=\"psysml:75d7f18d-3bb0-43da-8a1f-920414b7c194\" target=\"_top\" title=\"psysml:75d7f18d-3bb0-43da-8a1f-920414b7c194\" xlink:actuate=\"onRequest\" xlink:href=\"psysml:75d7f18d-3bb0-43da-8a1f-920414b7c194\" xlink:show=\"new\" xlink:title=\"psysml:75d7f18d-3bb0-43da-8a1f-920414b7c194\" xlink:type=\"simple\"><rect fill=\"#FEFECE\" filter=\"url(#f6fcyzsf29o6b)\" height=\"76.4922\" id=\"E4\" style=\"stroke: #A80036; stroke-width: 1.5;\" width=\"150\" x=\"109\" y=\"41\"/><text fill=\"#000000\" font-family=\"sans-serif\" font-size=\"12\" font-style=\"italic\" lengthAdjust=\"spacingAndGlyphs\" textLength=\"68\" x=\"150\" y=\"57.1387\">«part  def»</text><text fill=\"#000000\" font-family=\"sans-serif\" font-size=\"12\" lengthAdjust=\"spacingAndGlyphs\" textLength=\"11\" x=\"178.5\" y=\"71.1074\">W</text><line style=\"stroke: #A80036; stroke-width: 1.5;\" x1=\"110\" x2=\"258\" y1=\"78.9375\" y2=\"78.9375\"/><path d=\"M116.9167,100.6589 L116.9167,109.8255 L117.8333,109.8255 L117.8333,100.6589 M120.5833,100.6589 L120.5833,109.8255 L127.9167,105.2422 L120.5833,100.6589 L121.5,102.0339 L126.5417,105.2422 L121.5,108.4505 L121.5,102.0339 \" fill=\"#000000\" style=\"stroke: ; stroke-width: 0.0; stroke-dasharray: ;\"/><text fill=\"#000000\" font-family=\"sans-serif\" font-size=\"11\" lengthAdjust=\"spacingAndGlyphs\" textLength=\"87\" x=\"132\" y=\"110.8979\">m=default = n;</text><text fill=\"#000000\" font-family=\"sans-serif\" font-size=\"11\" lengthAdjust=\"spacingAndGlyphs\" text-decoration=\"line-through\" textLength=\"26\" x=\"227\" y=\"110.8979\">V::m</text><line style=\"stroke: #A80036; stroke-width: 1.0;\" x1=\"110\" x2=\"156.5\" y1=\"93.3398\" y2=\"93.3398\"/><text fill=\"#000000\" font-family=\"sans-serif\" font-size=\"11\" lengthAdjust=\"spacingAndGlyphs\" textLength=\"55\" x=\"156.5\" y=\"96.6479\">attributes</text><line style=\"stroke: #A80036; stroke-width: 1.0;\" x1=\"211.5\" x2=\"258\" y1=\"93.3398\" y2=\"93.3398\"/></a><!--MD5=[270fce915f116d4de14055a7c1d9a0f3]\n",
       "class E5--><a href=\"psysml:1ec49292-f6e0-4564-a681-346e27695197\" target=\"_top\" title=\"psysml:1ec49292-f6e0-4564-a681-346e27695197\" xlink:actuate=\"onRequest\" xlink:href=\"psysml:1ec49292-f6e0-4564-a681-346e27695197\" xlink:show=\"new\" xlink:title=\"psysml:1ec49292-f6e0-4564-a681-346e27695197\" xlink:type=\"simple\"><rect fill=\"#FEFECE\" filter=\"url(#f6fcyzsf29o6b)\" height=\"45.9375\" id=\"E5\" rx=\"10\" ry=\"10\" style=\"stroke: #A80036; stroke-width: 1.5;\" width=\"42\" x=\"32\" y=\"56\"/><text fill=\"#000000\" font-family=\"sans-serif\" font-size=\"12\" font-style=\"italic\" lengthAdjust=\"spacingAndGlyphs\" textLength=\"40\" x=\"33\" y=\"72.1387\">«part»</text><text fill=\"#000000\" font-family=\"sans-serif\" font-size=\"12\" lengthAdjust=\"spacingAndGlyphs\" textLength=\"14\" x=\"44\" y=\"86.1074\">v2</text><line style=\"stroke: #A80036; stroke-width: 1.5;\" x1=\"33\" x2=\"73\" y1=\"93.9375\" y2=\"93.9375\"/></a><!--MD5=[05d275557350bfb9b23a4ef7222b4c39]\n",
       "link E3 to E2--><a href=\"psysml:eb47ef55-8727-46f8-948e-289e011721f9\" target=\"_top\" title=\"psysml:eb47ef55-8727-46f8-948e-289e011721f9\" xlink:actuate=\"onRequest\" xlink:href=\"psysml:eb47ef55-8727-46f8-948e-289e011721f9\" xlink:show=\"new\" xlink:title=\"psysml:eb47ef55-8727-46f8-948e-289e011721f9\" xlink:type=\"simple\"><path d=\"M325.24,117.15 C317.67,130.08 308.96,144.94 300.57,159.28 \" fill=\"none\" id=\"E3-&gt;E2\" style=\"stroke: #A80036; stroke-width: 1.0;\"/><polygon fill=\"#FFFFFF\" points=\"290.2,176.97,293.7681,157.0384,305.8465,164.1174,290.2,176.97\" style=\"stroke: #A80036; stroke-width: 1.0;\"/><ellipse cx=\"298.3758\" cy=\"153.1321\" fill=\"#A80036\" rx=\"2\" ry=\"2\" style=\"stroke: #A80036; stroke-width: 1.0;\"/><ellipse cx=\"307.0032\" cy=\"158.1885\" fill=\"#A80036\" rx=\"2\" ry=\"2\" style=\"stroke: #A80036; stroke-width: 1.0;\"/></a><!--MD5=[185131fc0dcab0a4505a2ebe144e961b]\n",
       "link E4 to E2--><a href=\"psysml:3b658baa-aed2-418d-9cf3-f3993d6dea2d\" target=\"_top\" title=\"psysml:3b658baa-aed2-418d-9cf3-f3993d6dea2d\" xlink:actuate=\"onRequest\" xlink:href=\"psysml:3b658baa-aed2-418d-9cf3-f3993d6dea2d\" xlink:show=\"new\" xlink:title=\"psysml:3b658baa-aed2-418d-9cf3-f3993d6dea2d\" xlink:type=\"simple\"><path d=\"M205.49,117.15 C212.97,130.08 221.57,144.94 229.87,159.28 \" fill=\"none\" id=\"E4-&gt;E2\" style=\"stroke: #A80036; stroke-width: 1.0;\"/><polygon fill=\"none\" points=\"236.15,156.15,240.1,176.97,224.03,163.16,236.15,156.15\" style=\"stroke: #A80036; stroke-width: 1.0;\"/></a><!--MD5=[45f3ea9156d91650f9783d2769f0febb]\n",
       "@startuml\r\n",
       "skinparam wrapWidth 300\r\n",
       "hide circle\r\n",
       "\r\n",
       "package \"DefaultValueTest\" as E1  [[psysml:e41cdd27-e179-4271-915e-4358fc3ae044 ]]  {\r\n",
       "comp def \"V\" as E2  <<(T,blue) part  def>> [[psysml:95d35419-5cb2-4278-8f59-96945510244a ]] {\r\n",
       "- - attributes - -\r\n",
       "m=default = 10; \r\n",
       "n= 20; \r\n",
       "}\r\n",
       "comp usage \"v1: V \" as E3  <<(T,blue) part>> [[psysml:b8cf69e7-8508-48d3-98c1-1a5aff225283 ]] {\r\n",
       "- - attributes - -\r\n",
       "<&bar-trig> m= 20;  <s>V::m</s>\r\n",
       "}\r\n",
       "comp def \"W\" as E4  <<(T,blue) part  def>> [[psysml:75d7f18d-3bb0-43da-8a1f-920414b7c194 ]] {\r\n",
       "- - attributes - -\r\n",
       "<&bar-trig> m=default = n;  <s>V::m</s>\r\n",
       "}\r\n",
       "comp usage \"v2 \" as E5  <<(T,blue) part>> [[psysml:1ec49292-f6e0-4564-a681-346e27695197 ]] {\r\n",
       "}\r\n",
       "}\r\n",
       "E3 - -:|> E2 [[psysml:eb47ef55-8727-46f8-948e-289e011721f9 ]] \r\n",
       "E4 - -|> E2 [[psysml:3b658baa-aed2-418d-9cf3-f3993d6dea2d ]] \r\n",
       "@enduml\r\n",
       "\n",
       "PlantUML version 1.2020.13(Sat Jun 13 12:26:38 UTC 2020)\n",
       "(EPL source distribution)\n",
       "Java Runtime: OpenJDK Runtime Environment\n",
       "JVM: OpenJDK 64-Bit Server VM\n",
       "Default Encoding: UTF-8\n",
       "Language: en\n",
       "Country: null\n",
       "--></g></svg>"
      ]
     },
     "execution_count": 29,
     "metadata": {},
     "output_type": "execute_result"
    }
   ],
   "source": [
    "%viz --style=\"STDCOLOR\" --view=\"MIXED\" \"DefaultValueTest\""
   ]
  },
  {
   "cell_type": "code",
   "execution_count": 30,
   "id": "391bc275",
   "metadata": {
    "execution": {
     "iopub.execute_input": "2022-07-23T10:55:45.291125Z",
     "iopub.status.busy": "2022-07-23T10:55:45.290627Z",
     "iopub.status.idle": "2022-07-23T10:55:45.378758Z",
     "shell.execute_reply": "2022-07-23T10:55:45.377231Z"
    }
   },
   "outputs": [
    {
     "data": {
      "image/svg+xml": [
       "<?xml version=\"1.0\" encoding=\"UTF-8\" standalone=\"no\"?><svg xmlns=\"http://www.w3.org/2000/svg\" xmlns:xlink=\"http://www.w3.org/1999/xlink\" contentScriptType=\"application/ecmascript\" contentStyleType=\"text/css\" height=\"299px\" preserveAspectRatio=\"none\" style=\"width:380px;height:299px;\" version=\"1.1\" viewBox=\"0 0 380 299\" width=\"380px\" zoomAndPan=\"magnify\"><defs><filter height=\"300%\" id=\"fxk1svdw9bo2c\" width=\"300%\" x=\"-1\" y=\"-1\"><feGaussianBlur result=\"blurOut\" stdDeviation=\"2.0\"/><feColorMatrix in=\"blurOut\" result=\"blurOut2\" type=\"matrix\" values=\"0 0 0 0 0 0 0 0 0 0 0 0 0 0 0 0 0 0 .4 0\"/><feOffset dx=\"4.0\" dy=\"4.0\" in=\"blurOut2\" result=\"blurOut3\"/><feBlend in=\"SourceGraphic\" in2=\"blurOut3\" mode=\"normal\"/></filter></defs><g><!--MD5=[fbc87193dbaf4d95561dea2c320d4a47]\n",
       "cluster E1--><a href=\"psysml:e41cdd27-e179-4271-915e-4358fc3ae044\" target=\"_top\" title=\"psysml:e41cdd27-e179-4271-915e-4358fc3ae044\" xlink:actuate=\"onRequest\" xlink:href=\"psysml:e41cdd27-e179-4271-915e-4358fc3ae044\" xlink:show=\"new\" xlink:title=\"psysml:e41cdd27-e179-4271-915e-4358fc3ae044\" xlink:type=\"simple\"><polygon fill=\"#FFFFFF\" filter=\"url(#fxk1svdw9bo2c)\" points=\"16,6,140,6,147,28.2969,358,28.2969,358,287,16,287,16,6\" style=\"stroke: #000000; stroke-width: 1.5;\"/><line style=\"stroke: #000000; stroke-width: 1.5;\" x1=\"16\" x2=\"147\" y1=\"28.2969\" y2=\"28.2969\"/><text fill=\"#000000\" font-family=\"sans-serif\" font-size=\"14\" font-weight=\"bold\" lengthAdjust=\"spacingAndGlyphs\" textLength=\"118\" x=\"20\" y=\"20.9951\">DefaultValueTest</text></a><!--MD5=[b4997ac47864f28c2f74865a473b2911]\n",
       "class E2--><a href=\"psysml:95d35419-5cb2-4278-8f59-96945510244a\" target=\"_top\" title=\"psysml:95d35419-5cb2-4278-8f59-96945510244a\" xlink:actuate=\"onRequest\" xlink:href=\"psysml:95d35419-5cb2-4278-8f59-96945510244a\" xlink:show=\"new\" xlink:title=\"psysml:95d35419-5cb2-4278-8f59-96945510244a\" xlink:type=\"simple\"><rect fill=\"#FEFECE\" filter=\"url(#fxk1svdw9bo2c)\" height=\"82.4141\" id=\"E2\" style=\"stroke: #A80036; stroke-width: 1.5;\" width=\"106\" x=\"185\" y=\"189\"/><ellipse cx=\"229.75\" cy=\"205\" fill=\"#008000\" rx=\"11\" ry=\"11\" style=\"stroke: #A80036; stroke-width: 1.0;\"/><path d=\"M226.625,210 L226.625,199.4063 L229.8594,199.4063 Q231.7656,199.4063 232.6719,200.1563 Q233.5938,200.9063 233.5938,202.0781 Q233.5938,202.7656 233.2031,203.4219 Q232.8281,204.0781 232.1094,204.375 Q232.9688,204.75 233.4844,205.4375 Q234,206.125 234,206.9375 Q234,208.3125 232.9688,209.1563 Q231.9531,210 229.8438,210 L226.625,210 Z M228.5469,203.6406 L229.7031,203.6406 Q230.8281,203.6406 231.2344,203.2656 Q231.6563,202.875 231.6563,202.25 Q231.6563,201.6719 231.2344,201.3125 Q230.8125,200.9531 229.875,200.9531 L228.5469,200.9531 L228.5469,203.6406 Z M228.5469,208.4219 L230.0469,208.4219 Q230.9531,208.4219 231.4844,208.0313 Q232.0156,207.6406 232.0156,206.8906 Q232.0156,206.125 231.5156,205.6563 Q231.0156,205.1719 229.75,205.1719 L228.5469,205.1719 L228.5469,208.4219 Z \"/><text fill=\"#000000\" font-family=\"sans-serif\" font-size=\"12\" lengthAdjust=\"spacingAndGlyphs\" textLength=\"8\" x=\"250.25\" y=\"209.1543\">V</text><line style=\"stroke: #A80036; stroke-width: 1.5;\" x1=\"186\" x2=\"290\" y1=\"221\" y2=\"221\"/><text fill=\"#000000\" font-family=\"sans-serif\" font-size=\"11\" lengthAdjust=\"spacingAndGlyphs\" textLength=\"94\" x=\"191\" y=\"252.0151\">m=default = 10;</text><text fill=\"#000000\" font-family=\"sans-serif\" font-size=\"11\" lengthAdjust=\"spacingAndGlyphs\" textLength=\"38\" x=\"191\" y=\"264.8198\">n= 20;</text><line style=\"stroke: #A80036; stroke-width: 1.0;\" x1=\"186\" x2=\"210.5\" y1=\"235.4023\" y2=\"235.4023\"/><text fill=\"#000000\" font-family=\"sans-serif\" font-size=\"11\" lengthAdjust=\"spacingAndGlyphs\" textLength=\"55\" x=\"210.5\" y=\"238.7104\">attributes</text><line style=\"stroke: #A80036; stroke-width: 1.0;\" x1=\"265.5\" x2=\"290\" y1=\"235.4023\" y2=\"235.4023\"/></a><!--MD5=[09b614a08d8cba4a07c9adeb5e0fee81]\n",
       "class E3--><a href=\"psysml:b8cf69e7-8508-48d3-98c1-1a5aff225283\" target=\"_top\" title=\"psysml:b8cf69e7-8508-48d3-98c1-1a5aff225283\" xlink:actuate=\"onRequest\" xlink:href=\"psysml:b8cf69e7-8508-48d3-98c1-1a5aff225283\" xlink:show=\"new\" xlink:title=\"psysml:b8cf69e7-8508-48d3-98c1-1a5aff225283\" xlink:type=\"simple\"><rect fill=\"#FEFECE\" filter=\"url(#fxk1svdw9bo2c)\" height=\"88.3516\" id=\"E3\" rx=\"10\" ry=\"10\" style=\"stroke: #A80036; stroke-width: 1.5;\" width=\"68\" x=\"274\" y=\"41\"/><ellipse cx=\"289\" cy=\"59.9688\" fill=\"#32CD32\" rx=\"11\" ry=\"11\" style=\"stroke: #A80036; stroke-width: 1.0;\"/><path d=\"M285.8125,64.9688 L285.8125,54.375 L289.4219,54.375 Q290.6406,54.375 291.4375,54.8125 Q292.2344,55.2344 292.6094,55.9375 Q293,56.6406 293,57.4844 Q293,58.3281 292.625,59.0156 Q292.2656,59.7031 291.4688,60.125 Q290.6875,60.5313 289.5,60.5313 L287.7656,60.5313 L287.7656,64.9688 L285.8125,64.9688 Z M287.7656,58.9375 L289.375,58.9375 Q290.1875,58.9375 290.6094,58.5313 Q291.0313,58.125 291.0313,57.4844 Q291.0313,56.8594 290.6094,56.4531 Q290.1875,56.0469 289.3906,56.0469 L287.7656,56.0469 L287.7656,58.9375 Z \"/><text fill=\"#000000\" font-family=\"sans-serif\" font-size=\"12\" font-style=\"italic\" lengthAdjust=\"spacingAndGlyphs\" textLength=\"40\" x=\"301\" y=\"57.1387\">«part»</text><text fill=\"#000000\" font-family=\"sans-serif\" font-size=\"12\" lengthAdjust=\"spacingAndGlyphs\" textLength=\"30\" x=\"304\" y=\"71.1074\">v1: V</text><line style=\"stroke: #A80036; stroke-width: 1.5;\" x1=\"275\" x2=\"341\" y1=\"78.9375\" y2=\"78.9375\"/><text fill=\"#000000\" font-family=\"sans-serif\" font-size=\"11\" lengthAdjust=\"spacingAndGlyphs\" textLength=\"42\" x=\"280\" y=\"109.9526\">m= 20;</text><text fill=\"#000000\" font-family=\"sans-serif\" font-size=\"11\" font-style=\"italic\" lengthAdjust=\"spacingAndGlyphs\" textLength=\"48\" x=\"280\" y=\"122.7573\">:&gt;&gt;V::m</text><line style=\"stroke: #A80036; stroke-width: 1.0;\" x1=\"275\" x2=\"280.5\" y1=\"93.3398\" y2=\"93.3398\"/><text fill=\"#000000\" font-family=\"sans-serif\" font-size=\"11\" lengthAdjust=\"spacingAndGlyphs\" textLength=\"55\" x=\"280.5\" y=\"96.6479\">attributes</text><line style=\"stroke: #A80036; stroke-width: 1.0;\" x1=\"335.5\" x2=\"341\" y1=\"93.3398\" y2=\"93.3398\"/></a><!--MD5=[ebbe1d658d1005bcc118a6aa81145e00]\n",
       "class E4--><a href=\"psysml:75d7f18d-3bb0-43da-8a1f-920414b7c194\" target=\"_top\" title=\"psysml:75d7f18d-3bb0-43da-8a1f-920414b7c194\" xlink:actuate=\"onRequest\" xlink:href=\"psysml:75d7f18d-3bb0-43da-8a1f-920414b7c194\" xlink:show=\"new\" xlink:title=\"psysml:75d7f18d-3bb0-43da-8a1f-920414b7c194\" xlink:type=\"simple\"><rect fill=\"#FEFECE\" filter=\"url(#fxk1svdw9bo2c)\" height=\"82.4141\" id=\"E4\" style=\"stroke: #A80036; stroke-width: 1.5;\" width=\"103\" x=\"135.5\" y=\"44\"/><ellipse cx=\"177.5\" cy=\"60\" fill=\"#008000\" rx=\"11\" ry=\"11\" style=\"stroke: #A80036; stroke-width: 1.0;\"/><path d=\"M174.375,65 L174.375,54.4063 L177.6094,54.4063 Q179.5156,54.4063 180.4219,55.1563 Q181.3438,55.9063 181.3438,57.0781 Q181.3438,57.7656 180.9531,58.4219 Q180.5781,59.0781 179.8594,59.375 Q180.7188,59.75 181.2344,60.4375 Q181.75,61.125 181.75,61.9375 Q181.75,63.3125 180.7188,64.1563 Q179.7031,65 177.5938,65 L174.375,65 Z M176.2969,58.6406 L177.4531,58.6406 Q178.5781,58.6406 178.9844,58.2656 Q179.4063,57.875 179.4063,57.25 Q179.4063,56.6719 178.9844,56.3125 Q178.5625,55.9531 177.625,55.9531 L176.2969,55.9531 L176.2969,58.6406 Z M176.2969,63.4219 L177.7969,63.4219 Q178.7031,63.4219 179.2344,63.0313 Q179.7656,62.6406 179.7656,61.8906 Q179.7656,61.125 179.2656,60.6563 Q178.7656,60.1719 177.5,60.1719 L176.2969,60.1719 L176.2969,63.4219 Z \"/><text fill=\"#000000\" font-family=\"sans-serif\" font-size=\"12\" lengthAdjust=\"spacingAndGlyphs\" textLength=\"11\" x=\"197.5\" y=\"64.1543\">W</text><line style=\"stroke: #A80036; stroke-width: 1.5;\" x1=\"136.5\" x2=\"237.5\" y1=\"76\" y2=\"76\"/><text fill=\"#000000\" font-family=\"sans-serif\" font-size=\"11\" lengthAdjust=\"spacingAndGlyphs\" textLength=\"87\" x=\"141.5\" y=\"107.0151\">m=default = n;</text><text fill=\"#000000\" font-family=\"sans-serif\" font-size=\"11\" font-style=\"italic\" lengthAdjust=\"spacingAndGlyphs\" textLength=\"48\" x=\"141.5\" y=\"119.8198\">:&gt;&gt;V::m</text><line style=\"stroke: #A80036; stroke-width: 1.0;\" x1=\"136.5\" x2=\"159.5\" y1=\"90.4023\" y2=\"90.4023\"/><text fill=\"#000000\" font-family=\"sans-serif\" font-size=\"11\" lengthAdjust=\"spacingAndGlyphs\" textLength=\"55\" x=\"159.5\" y=\"93.7104\">attributes</text><line style=\"stroke: #A80036; stroke-width: 1.0;\" x1=\"214.5\" x2=\"237.5\" y1=\"90.4023\" y2=\"90.4023\"/></a><!--MD5=[270fce915f116d4de14055a7c1d9a0f3]\n",
       "class E5--><a href=\"psysml:1ec49292-f6e0-4564-a681-346e27695197\" target=\"_top\" title=\"psysml:1ec49292-f6e0-4564-a681-346e27695197\" xlink:actuate=\"onRequest\" xlink:href=\"psysml:1ec49292-f6e0-4564-a681-346e27695197\" xlink:show=\"new\" xlink:title=\"psysml:1ec49292-f6e0-4564-a681-346e27695197\" xlink:type=\"simple\"><rect fill=\"#FEFECE\" filter=\"url(#fxk1svdw9bo2c)\" height=\"45.9375\" id=\"E5\" rx=\"10\" ry=\"10\" style=\"stroke: #A80036; stroke-width: 1.5;\" width=\"68\" x=\"32\" y=\"62\"/><ellipse cx=\"47\" cy=\"80.9688\" fill=\"#32CD32\" rx=\"11\" ry=\"11\" style=\"stroke: #A80036; stroke-width: 1.0;\"/><path d=\"M43.8125,85.9688 L43.8125,75.375 L47.4219,75.375 Q48.6406,75.375 49.4375,75.8125 Q50.2344,76.2344 50.6094,76.9375 Q51,77.6406 51,78.4844 Q51,79.3281 50.625,80.0156 Q50.2656,80.7031 49.4688,81.125 Q48.6875,81.5313 47.5,81.5313 L45.7656,81.5313 L45.7656,85.9688 L43.8125,85.9688 Z M45.7656,79.9375 L47.375,79.9375 Q48.1875,79.9375 48.6094,79.5313 Q49.0313,79.125 49.0313,78.4844 Q49.0313,77.8594 48.6094,77.4531 Q48.1875,77.0469 47.3906,77.0469 L45.7656,77.0469 L45.7656,79.9375 Z \"/><text fill=\"#000000\" font-family=\"sans-serif\" font-size=\"12\" font-style=\"italic\" lengthAdjust=\"spacingAndGlyphs\" textLength=\"40\" x=\"59\" y=\"78.1387\">«part»</text><text fill=\"#000000\" font-family=\"sans-serif\" font-size=\"12\" lengthAdjust=\"spacingAndGlyphs\" textLength=\"14\" x=\"70\" y=\"92.1074\">v2</text><line style=\"stroke: #A80036; stroke-width: 1.5;\" x1=\"33\" x2=\"99\" y1=\"99.9375\" y2=\"99.9375\"/></a><!--MD5=[05d275557350bfb9b23a4ef7222b4c39]\n",
       "link E3 to E2--><a href=\"psysml:eb47ef55-8727-46f8-948e-289e011721f9\" target=\"_top\" title=\"psysml:eb47ef55-8727-46f8-948e-289e011721f9\" xlink:actuate=\"onRequest\" xlink:href=\"psysml:eb47ef55-8727-46f8-948e-289e011721f9\" xlink:show=\"new\" xlink:title=\"psysml:eb47ef55-8727-46f8-948e-289e011721f9\" xlink:type=\"simple\"><path d=\"M286.81,129.29 C280.44,142.29 273.36,156.77 266.6,170.58 \" fill=\"none\" id=\"E3-&gt;E2\" style=\"stroke: #A80036; stroke-width: 1.0;\"/><polygon fill=\"#FFFFFF\" points=\"257.69,188.78,259.7589,168.6375,272.3325,174.7943,257.69,188.78\" style=\"stroke: #A80036; stroke-width: 1.0;\"/><ellipse cx=\"264.0619\" cy=\"164.3978\" fill=\"#A80036\" rx=\"2\" ry=\"2\" style=\"stroke: #A80036; stroke-width: 1.0;\"/><ellipse cx=\"273.0429\" cy=\"168.7956\" fill=\"#A80036\" rx=\"2\" ry=\"2\" style=\"stroke: #A80036; stroke-width: 1.0;\"/></a><!--MD5=[185131fc0dcab0a4505a2ebe144e961b]\n",
       "link E4 to E2--><a href=\"psysml:3b658baa-aed2-418d-9cf3-f3993d6dea2d\" target=\"_top\" title=\"psysml:3b658baa-aed2-418d-9cf3-f3993d6dea2d\" xlink:actuate=\"onRequest\" xlink:href=\"psysml:3b658baa-aed2-418d-9cf3-f3993d6dea2d\" xlink:show=\"new\" xlink:title=\"psysml:3b658baa-aed2-418d-9cf3-f3993d6dea2d\" xlink:type=\"simple\"><path d=\"M201.34,126.21 C206.12,139.62 211.55,154.85 216.74,169.4 \" fill=\"none\" id=\"E4-&gt;E2\" style=\"stroke: #A80036; stroke-width: 1.0;\"/><polygon fill=\"none\" points=\"223.46,167.4,223.59,188.59,210.28,172.11,223.46,167.4\" style=\"stroke: #A80036; stroke-width: 1.0;\"/></a><!--MD5=[45e4b6f538ef00b1dc781860b22ebabb]\n",
       "@startuml\r\n",
       " \r\n",
       "package \"DefaultValueTest\" as E1  [[psysml:e41cdd27-e179-4271-915e-4358fc3ae044 ]]  {\r\n",
       "comp def \"V\" as E2 << << (B,green) >> [[psysml:95d35419-5cb2-4278-8f59-96945510244a ]] {\r\n",
       "- - attributes - -\r\n",
       "m=default = 10; \r\n",
       "n= 20; \r\n",
       "}\r\n",
       "comp usage \"v1: V \" as E3 << << (P,limegreen) part>> [[psysml:b8cf69e7-8508-48d3-98c1-1a5aff225283 ]] {\r\n",
       "- - attributes - -\r\n",
       "m= 20; \\n//:>>V::m// \r\n",
       "}\r\n",
       "comp def \"W\" as E4 << << (B,green) >> [[psysml:75d7f18d-3bb0-43da-8a1f-920414b7c194 ]] {\r\n",
       "- - attributes - -\r\n",
       "m=default = n; \\n//:>>V::m// \r\n",
       "}\r\n",
       "comp usage \"v2 \" as E5 << << (P,limegreen) part>> [[psysml:1ec49292-f6e0-4564-a681-346e27695197 ]] {\r\n",
       "}\r\n",
       "}\r\n",
       "E3 - -:|> E2 [[psysml:eb47ef55-8727-46f8-948e-289e011721f9 ]] \r\n",
       "E4 - -|> E2 [[psysml:3b658baa-aed2-418d-9cf3-f3993d6dea2d ]] \r\n",
       "@enduml\r\n",
       "\n",
       "PlantUML version 1.2020.13(Sat Jun 13 12:26:38 UTC 2020)\n",
       "(EPL source distribution)\n",
       "Java Runtime: OpenJDK Runtime Environment\n",
       "JVM: OpenJDK 64-Bit Server VM\n",
       "Default Encoding: UTF-8\n",
       "Language: en\n",
       "Country: null\n",
       "--></g></svg>"
      ]
     },
     "execution_count": 30,
     "metadata": {},
     "output_type": "execute_result"
    }
   ],
   "source": [
    "%viz --style=\"PLANTUML\" --view=\"Default\" \"DefaultValueTest\""
   ]
  },
  {
   "cell_type": "code",
   "execution_count": 31,
   "id": "5dc61bb7",
   "metadata": {
    "execution": {
     "iopub.execute_input": "2022-07-23T10:55:45.428048Z",
     "iopub.status.busy": "2022-07-23T10:55:45.427570Z",
     "iopub.status.idle": "2022-07-23T10:55:45.502227Z",
     "shell.execute_reply": "2022-07-23T10:55:45.501807Z"
    }
   },
   "outputs": [
    {
     "data": {
      "image/svg+xml": [
       "<?xml version=\"1.0\" encoding=\"UTF-8\" standalone=\"no\"?><svg xmlns=\"http://www.w3.org/2000/svg\" xmlns:xlink=\"http://www.w3.org/1999/xlink\" contentScriptType=\"application/ecmascript\" contentStyleType=\"text/css\" height=\"299px\" preserveAspectRatio=\"none\" style=\"width:380px;height:299px;\" version=\"1.1\" viewBox=\"0 0 380 299\" width=\"380px\" zoomAndPan=\"magnify\"><defs><filter height=\"300%\" id=\"fxk1svdw9bo2c\" width=\"300%\" x=\"-1\" y=\"-1\"><feGaussianBlur result=\"blurOut\" stdDeviation=\"2.0\"/><feColorMatrix in=\"blurOut\" result=\"blurOut2\" type=\"matrix\" values=\"0 0 0 0 0 0 0 0 0 0 0 0 0 0 0 0 0 0 .4 0\"/><feOffset dx=\"4.0\" dy=\"4.0\" in=\"blurOut2\" result=\"blurOut3\"/><feBlend in=\"SourceGraphic\" in2=\"blurOut3\" mode=\"normal\"/></filter></defs><g><!--MD5=[fbc87193dbaf4d95561dea2c320d4a47]\n",
       "cluster E1--><a href=\"psysml:e41cdd27-e179-4271-915e-4358fc3ae044\" target=\"_top\" title=\"psysml:e41cdd27-e179-4271-915e-4358fc3ae044\" xlink:actuate=\"onRequest\" xlink:href=\"psysml:e41cdd27-e179-4271-915e-4358fc3ae044\" xlink:show=\"new\" xlink:title=\"psysml:e41cdd27-e179-4271-915e-4358fc3ae044\" xlink:type=\"simple\"><polygon fill=\"#FFFFFF\" filter=\"url(#fxk1svdw9bo2c)\" points=\"16,6,140,6,147,28.2969,358,28.2969,358,287,16,287,16,6\" style=\"stroke: #000000; stroke-width: 1.5;\"/><line style=\"stroke: #000000; stroke-width: 1.5;\" x1=\"16\" x2=\"147\" y1=\"28.2969\" y2=\"28.2969\"/><text fill=\"#000000\" font-family=\"sans-serif\" font-size=\"14\" font-weight=\"bold\" lengthAdjust=\"spacingAndGlyphs\" textLength=\"118\" x=\"20\" y=\"20.9951\">DefaultValueTest</text></a><!--MD5=[b4997ac47864f28c2f74865a473b2911]\n",
       "class E2--><a href=\"psysml:95d35419-5cb2-4278-8f59-96945510244a\" target=\"_top\" title=\"psysml:95d35419-5cb2-4278-8f59-96945510244a\" xlink:actuate=\"onRequest\" xlink:href=\"psysml:95d35419-5cb2-4278-8f59-96945510244a\" xlink:show=\"new\" xlink:title=\"psysml:95d35419-5cb2-4278-8f59-96945510244a\" xlink:type=\"simple\"><rect fill=\"#FEFECE\" filter=\"url(#fxk1svdw9bo2c)\" height=\"82.4141\" id=\"E2\" style=\"stroke: #A80036; stroke-width: 1.5;\" width=\"106\" x=\"185\" y=\"189\"/><ellipse cx=\"229.75\" cy=\"205\" fill=\"#008000\" rx=\"11\" ry=\"11\" style=\"stroke: #A80036; stroke-width: 1.0;\"/><path d=\"M226.625,210 L226.625,199.4063 L229.8594,199.4063 Q231.7656,199.4063 232.6719,200.1563 Q233.5938,200.9063 233.5938,202.0781 Q233.5938,202.7656 233.2031,203.4219 Q232.8281,204.0781 232.1094,204.375 Q232.9688,204.75 233.4844,205.4375 Q234,206.125 234,206.9375 Q234,208.3125 232.9688,209.1563 Q231.9531,210 229.8438,210 L226.625,210 Z M228.5469,203.6406 L229.7031,203.6406 Q230.8281,203.6406 231.2344,203.2656 Q231.6563,202.875 231.6563,202.25 Q231.6563,201.6719 231.2344,201.3125 Q230.8125,200.9531 229.875,200.9531 L228.5469,200.9531 L228.5469,203.6406 Z M228.5469,208.4219 L230.0469,208.4219 Q230.9531,208.4219 231.4844,208.0313 Q232.0156,207.6406 232.0156,206.8906 Q232.0156,206.125 231.5156,205.6563 Q231.0156,205.1719 229.75,205.1719 L228.5469,205.1719 L228.5469,208.4219 Z \"/><text fill=\"#000000\" font-family=\"sans-serif\" font-size=\"12\" lengthAdjust=\"spacingAndGlyphs\" textLength=\"8\" x=\"250.25\" y=\"209.1543\">V</text><line style=\"stroke: #A80036; stroke-width: 1.5;\" x1=\"186\" x2=\"290\" y1=\"221\" y2=\"221\"/><text fill=\"#000000\" font-family=\"sans-serif\" font-size=\"11\" lengthAdjust=\"spacingAndGlyphs\" textLength=\"94\" x=\"191\" y=\"252.0151\">m=default = 10;</text><text fill=\"#000000\" font-family=\"sans-serif\" font-size=\"11\" lengthAdjust=\"spacingAndGlyphs\" textLength=\"38\" x=\"191\" y=\"264.8198\">n= 20;</text><line style=\"stroke: #A80036; stroke-width: 1.0;\" x1=\"186\" x2=\"210.5\" y1=\"235.4023\" y2=\"235.4023\"/><text fill=\"#000000\" font-family=\"sans-serif\" font-size=\"11\" lengthAdjust=\"spacingAndGlyphs\" textLength=\"55\" x=\"210.5\" y=\"238.7104\">attributes</text><line style=\"stroke: #A80036; stroke-width: 1.0;\" x1=\"265.5\" x2=\"290\" y1=\"235.4023\" y2=\"235.4023\"/></a><!--MD5=[09b614a08d8cba4a07c9adeb5e0fee81]\n",
       "class E3--><a href=\"psysml:b8cf69e7-8508-48d3-98c1-1a5aff225283\" target=\"_top\" title=\"psysml:b8cf69e7-8508-48d3-98c1-1a5aff225283\" xlink:actuate=\"onRequest\" xlink:href=\"psysml:b8cf69e7-8508-48d3-98c1-1a5aff225283\" xlink:show=\"new\" xlink:title=\"psysml:b8cf69e7-8508-48d3-98c1-1a5aff225283\" xlink:type=\"simple\"><rect fill=\"#FEFECE\" filter=\"url(#fxk1svdw9bo2c)\" height=\"88.3516\" id=\"E3\" rx=\"10\" ry=\"10\" style=\"stroke: #A80036; stroke-width: 1.5;\" width=\"68\" x=\"274\" y=\"41\"/><ellipse cx=\"289\" cy=\"59.9688\" fill=\"#32CD32\" rx=\"11\" ry=\"11\" style=\"stroke: #A80036; stroke-width: 1.0;\"/><path d=\"M285.8125,64.9688 L285.8125,54.375 L289.4219,54.375 Q290.6406,54.375 291.4375,54.8125 Q292.2344,55.2344 292.6094,55.9375 Q293,56.6406 293,57.4844 Q293,58.3281 292.625,59.0156 Q292.2656,59.7031 291.4688,60.125 Q290.6875,60.5313 289.5,60.5313 L287.7656,60.5313 L287.7656,64.9688 L285.8125,64.9688 Z M287.7656,58.9375 L289.375,58.9375 Q290.1875,58.9375 290.6094,58.5313 Q291.0313,58.125 291.0313,57.4844 Q291.0313,56.8594 290.6094,56.4531 Q290.1875,56.0469 289.3906,56.0469 L287.7656,56.0469 L287.7656,58.9375 Z \"/><text fill=\"#000000\" font-family=\"sans-serif\" font-size=\"12\" font-style=\"italic\" lengthAdjust=\"spacingAndGlyphs\" textLength=\"40\" x=\"301\" y=\"57.1387\">«part»</text><text fill=\"#000000\" font-family=\"sans-serif\" font-size=\"12\" lengthAdjust=\"spacingAndGlyphs\" textLength=\"30\" x=\"304\" y=\"71.1074\">v1: V</text><line style=\"stroke: #A80036; stroke-width: 1.5;\" x1=\"275\" x2=\"341\" y1=\"78.9375\" y2=\"78.9375\"/><text fill=\"#000000\" font-family=\"sans-serif\" font-size=\"11\" lengthAdjust=\"spacingAndGlyphs\" textLength=\"42\" x=\"280\" y=\"109.9526\">m= 20;</text><text fill=\"#000000\" font-family=\"sans-serif\" font-size=\"11\" font-style=\"italic\" lengthAdjust=\"spacingAndGlyphs\" textLength=\"48\" x=\"280\" y=\"122.7573\">:&gt;&gt;V::m</text><line style=\"stroke: #A80036; stroke-width: 1.0;\" x1=\"275\" x2=\"280.5\" y1=\"93.3398\" y2=\"93.3398\"/><text fill=\"#000000\" font-family=\"sans-serif\" font-size=\"11\" lengthAdjust=\"spacingAndGlyphs\" textLength=\"55\" x=\"280.5\" y=\"96.6479\">attributes</text><line style=\"stroke: #A80036; stroke-width: 1.0;\" x1=\"335.5\" x2=\"341\" y1=\"93.3398\" y2=\"93.3398\"/></a><!--MD5=[ebbe1d658d1005bcc118a6aa81145e00]\n",
       "class E4--><a href=\"psysml:75d7f18d-3bb0-43da-8a1f-920414b7c194\" target=\"_top\" title=\"psysml:75d7f18d-3bb0-43da-8a1f-920414b7c194\" xlink:actuate=\"onRequest\" xlink:href=\"psysml:75d7f18d-3bb0-43da-8a1f-920414b7c194\" xlink:show=\"new\" xlink:title=\"psysml:75d7f18d-3bb0-43da-8a1f-920414b7c194\" xlink:type=\"simple\"><rect fill=\"#FEFECE\" filter=\"url(#fxk1svdw9bo2c)\" height=\"82.4141\" id=\"E4\" style=\"stroke: #A80036; stroke-width: 1.5;\" width=\"103\" x=\"135.5\" y=\"44\"/><ellipse cx=\"177.5\" cy=\"60\" fill=\"#008000\" rx=\"11\" ry=\"11\" style=\"stroke: #A80036; stroke-width: 1.0;\"/><path d=\"M174.375,65 L174.375,54.4063 L177.6094,54.4063 Q179.5156,54.4063 180.4219,55.1563 Q181.3438,55.9063 181.3438,57.0781 Q181.3438,57.7656 180.9531,58.4219 Q180.5781,59.0781 179.8594,59.375 Q180.7188,59.75 181.2344,60.4375 Q181.75,61.125 181.75,61.9375 Q181.75,63.3125 180.7188,64.1563 Q179.7031,65 177.5938,65 L174.375,65 Z M176.2969,58.6406 L177.4531,58.6406 Q178.5781,58.6406 178.9844,58.2656 Q179.4063,57.875 179.4063,57.25 Q179.4063,56.6719 178.9844,56.3125 Q178.5625,55.9531 177.625,55.9531 L176.2969,55.9531 L176.2969,58.6406 Z M176.2969,63.4219 L177.7969,63.4219 Q178.7031,63.4219 179.2344,63.0313 Q179.7656,62.6406 179.7656,61.8906 Q179.7656,61.125 179.2656,60.6563 Q178.7656,60.1719 177.5,60.1719 L176.2969,60.1719 L176.2969,63.4219 Z \"/><text fill=\"#000000\" font-family=\"sans-serif\" font-size=\"12\" lengthAdjust=\"spacingAndGlyphs\" textLength=\"11\" x=\"197.5\" y=\"64.1543\">W</text><line style=\"stroke: #A80036; stroke-width: 1.5;\" x1=\"136.5\" x2=\"237.5\" y1=\"76\" y2=\"76\"/><text fill=\"#000000\" font-family=\"sans-serif\" font-size=\"11\" lengthAdjust=\"spacingAndGlyphs\" textLength=\"87\" x=\"141.5\" y=\"107.0151\">m=default = n;</text><text fill=\"#000000\" font-family=\"sans-serif\" font-size=\"11\" font-style=\"italic\" lengthAdjust=\"spacingAndGlyphs\" textLength=\"48\" x=\"141.5\" y=\"119.8198\">:&gt;&gt;V::m</text><line style=\"stroke: #A80036; stroke-width: 1.0;\" x1=\"136.5\" x2=\"159.5\" y1=\"90.4023\" y2=\"90.4023\"/><text fill=\"#000000\" font-family=\"sans-serif\" font-size=\"11\" lengthAdjust=\"spacingAndGlyphs\" textLength=\"55\" x=\"159.5\" y=\"93.7104\">attributes</text><line style=\"stroke: #A80036; stroke-width: 1.0;\" x1=\"214.5\" x2=\"237.5\" y1=\"90.4023\" y2=\"90.4023\"/></a><!--MD5=[270fce915f116d4de14055a7c1d9a0f3]\n",
       "class E5--><a href=\"psysml:1ec49292-f6e0-4564-a681-346e27695197\" target=\"_top\" title=\"psysml:1ec49292-f6e0-4564-a681-346e27695197\" xlink:actuate=\"onRequest\" xlink:href=\"psysml:1ec49292-f6e0-4564-a681-346e27695197\" xlink:show=\"new\" xlink:title=\"psysml:1ec49292-f6e0-4564-a681-346e27695197\" xlink:type=\"simple\"><rect fill=\"#FEFECE\" filter=\"url(#fxk1svdw9bo2c)\" height=\"45.9375\" id=\"E5\" rx=\"10\" ry=\"10\" style=\"stroke: #A80036; stroke-width: 1.5;\" width=\"68\" x=\"32\" y=\"62\"/><ellipse cx=\"47\" cy=\"80.9688\" fill=\"#32CD32\" rx=\"11\" ry=\"11\" style=\"stroke: #A80036; stroke-width: 1.0;\"/><path d=\"M43.8125,85.9688 L43.8125,75.375 L47.4219,75.375 Q48.6406,75.375 49.4375,75.8125 Q50.2344,76.2344 50.6094,76.9375 Q51,77.6406 51,78.4844 Q51,79.3281 50.625,80.0156 Q50.2656,80.7031 49.4688,81.125 Q48.6875,81.5313 47.5,81.5313 L45.7656,81.5313 L45.7656,85.9688 L43.8125,85.9688 Z M45.7656,79.9375 L47.375,79.9375 Q48.1875,79.9375 48.6094,79.5313 Q49.0313,79.125 49.0313,78.4844 Q49.0313,77.8594 48.6094,77.4531 Q48.1875,77.0469 47.3906,77.0469 L45.7656,77.0469 L45.7656,79.9375 Z \"/><text fill=\"#000000\" font-family=\"sans-serif\" font-size=\"12\" font-style=\"italic\" lengthAdjust=\"spacingAndGlyphs\" textLength=\"40\" x=\"59\" y=\"78.1387\">«part»</text><text fill=\"#000000\" font-family=\"sans-serif\" font-size=\"12\" lengthAdjust=\"spacingAndGlyphs\" textLength=\"14\" x=\"70\" y=\"92.1074\">v2</text><line style=\"stroke: #A80036; stroke-width: 1.5;\" x1=\"33\" x2=\"99\" y1=\"99.9375\" y2=\"99.9375\"/></a><!--MD5=[05d275557350bfb9b23a4ef7222b4c39]\n",
       "link E3 to E2--><a href=\"psysml:eb47ef55-8727-46f8-948e-289e011721f9\" target=\"_top\" title=\"psysml:eb47ef55-8727-46f8-948e-289e011721f9\" xlink:actuate=\"onRequest\" xlink:href=\"psysml:eb47ef55-8727-46f8-948e-289e011721f9\" xlink:show=\"new\" xlink:title=\"psysml:eb47ef55-8727-46f8-948e-289e011721f9\" xlink:type=\"simple\"><path d=\"M286.81,129.29 C280.44,142.29 273.36,156.77 266.6,170.58 \" fill=\"none\" id=\"E3-&gt;E2\" style=\"stroke: #A80036; stroke-width: 1.0;\"/><polygon fill=\"#FFFFFF\" points=\"257.69,188.78,259.7589,168.6375,272.3325,174.7943,257.69,188.78\" style=\"stroke: #A80036; stroke-width: 1.0;\"/><ellipse cx=\"264.0619\" cy=\"164.3978\" fill=\"#A80036\" rx=\"2\" ry=\"2\" style=\"stroke: #A80036; stroke-width: 1.0;\"/><ellipse cx=\"273.0429\" cy=\"168.7956\" fill=\"#A80036\" rx=\"2\" ry=\"2\" style=\"stroke: #A80036; stroke-width: 1.0;\"/></a><!--MD5=[185131fc0dcab0a4505a2ebe144e961b]\n",
       "link E4 to E2--><a href=\"psysml:3b658baa-aed2-418d-9cf3-f3993d6dea2d\" target=\"_top\" title=\"psysml:3b658baa-aed2-418d-9cf3-f3993d6dea2d\" xlink:actuate=\"onRequest\" xlink:href=\"psysml:3b658baa-aed2-418d-9cf3-f3993d6dea2d\" xlink:show=\"new\" xlink:title=\"psysml:3b658baa-aed2-418d-9cf3-f3993d6dea2d\" xlink:type=\"simple\"><path d=\"M201.34,126.21 C206.12,139.62 211.55,154.85 216.74,169.4 \" fill=\"none\" id=\"E4-&gt;E2\" style=\"stroke: #A80036; stroke-width: 1.0;\"/><polygon fill=\"none\" points=\"223.46,167.4,223.59,188.59,210.28,172.11,223.46,167.4\" style=\"stroke: #A80036; stroke-width: 1.0;\"/></a><!--MD5=[45e4b6f538ef00b1dc781860b22ebabb]\n",
       "@startuml\r\n",
       " \r\n",
       "package \"DefaultValueTest\" as E1  [[psysml:e41cdd27-e179-4271-915e-4358fc3ae044 ]]  {\r\n",
       "comp def \"V\" as E2 << << (B,green) >> [[psysml:95d35419-5cb2-4278-8f59-96945510244a ]] {\r\n",
       "- - attributes - -\r\n",
       "m=default = 10; \r\n",
       "n= 20; \r\n",
       "}\r\n",
       "comp usage \"v1: V \" as E3 << << (P,limegreen) part>> [[psysml:b8cf69e7-8508-48d3-98c1-1a5aff225283 ]] {\r\n",
       "- - attributes - -\r\n",
       "m= 20; \\n//:>>V::m// \r\n",
       "}\r\n",
       "comp def \"W\" as E4 << << (B,green) >> [[psysml:75d7f18d-3bb0-43da-8a1f-920414b7c194 ]] {\r\n",
       "- - attributes - -\r\n",
       "m=default = n; \\n//:>>V::m// \r\n",
       "}\r\n",
       "comp usage \"v2 \" as E5 << << (P,limegreen) part>> [[psysml:1ec49292-f6e0-4564-a681-346e27695197 ]] {\r\n",
       "}\r\n",
       "}\r\n",
       "E3 - -:|> E2 [[psysml:eb47ef55-8727-46f8-948e-289e011721f9 ]] \r\n",
       "E4 - -|> E2 [[psysml:3b658baa-aed2-418d-9cf3-f3993d6dea2d ]] \r\n",
       "@enduml\r\n",
       "\n",
       "PlantUML version 1.2020.13(Sat Jun 13 12:26:38 UTC 2020)\n",
       "(EPL source distribution)\n",
       "Java Runtime: OpenJDK Runtime Environment\n",
       "JVM: OpenJDK 64-Bit Server VM\n",
       "Default Encoding: UTF-8\n",
       "Language: en\n",
       "Country: null\n",
       "--></g></svg>"
      ]
     },
     "execution_count": 31,
     "metadata": {},
     "output_type": "execute_result"
    }
   ],
   "source": [
    "%viz --style=\"PLANTUML\" --view=\"Tree\" \"DefaultValueTest\""
   ]
  },
  {
   "cell_type": "code",
   "execution_count": 32,
   "id": "3d2ee883",
   "metadata": {
    "execution": {
     "iopub.execute_input": "2022-07-23T10:55:45.551730Z",
     "iopub.status.busy": "2022-07-23T10:55:45.551255Z",
     "iopub.status.idle": "2022-07-23T10:55:45.703737Z",
     "shell.execute_reply": "2022-07-23T10:55:45.702126Z"
    }
   },
   "outputs": [
    {
     "data": {
      "image/svg+xml": [
       "<?xml version=\"1.0\" encoding=\"UTF-8\" standalone=\"no\"?><svg xmlns=\"http://www.w3.org/2000/svg\" xmlns:xlink=\"http://www.w3.org/1999/xlink\" contentScriptType=\"application/ecmascript\" contentStyleType=\"text/css\" height=\"407px\" preserveAspectRatio=\"none\" style=\"width:603px;height:407px;background:#000000;\" version=\"1.1\" viewBox=\"0 0 603 407\" width=\"603px\" zoomAndPan=\"magnify\"><defs/><g><rect fill=\"#0D1F0A\" height=\"1\" style=\"stroke: #0D1F0A; stroke-width: 1.0;\" width=\"1\" x=\"0\" y=\"0\"/><rect fill=\"#FFFFFF\" height=\"53\" style=\"stroke: #FFFFFF; stroke-width: 1.0;\" width=\"602\" x=\"0\" y=\"0\"/><image height=\"53\" width=\"450\" x=\"1\" xlink:href=\"data:image/png;base64,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\" y=\"1\"/><rect fill=\"#FFFFFF\" height=\"202.8012\" style=\"stroke: #FFFFFF; stroke-width: 1.0;\" width=\"602\" x=\"0\" y=\"53\"/><text fill=\"#000000\" font-family=\"sans-serif\" font-size=\"12\" font-weight=\"bold\" lengthAdjust=\"spacingAndGlyphs\" textLength=\"139\" x=\"5\" y=\"69.1387\">Welcome to PlantUML!</text><text fill=\"#000000\" font-family=\"sans-serif\" font-size=\"12\" lengthAdjust=\"spacingAndGlyphs\" textLength=\"0\" x=\"9\" y=\"83.1074\"/><text fill=\"#000000\" font-family=\"sans-serif\" font-size=\"12\" lengthAdjust=\"spacingAndGlyphs\" textLength=\"293\" x=\"5\" y=\"97.0762\">If you use this software, you accept its license.</text><text fill=\"#000000\" font-family=\"sans-serif\" font-size=\"12\" lengthAdjust=\"spacingAndGlyphs\" textLength=\"107\" x=\"5\" y=\"111.0449\">(details by typing</text><text fill=\"#000000\" font-family=\"monospace\" font-size=\"12\" lengthAdjust=\"spacingAndGlyphs\" textLength=\"42\" x=\"116\" y=\"111.595\">license</text><text fill=\"#000000\" font-family=\"sans-serif\" font-size=\"12\" lengthAdjust=\"spacingAndGlyphs\" textLength=\"56\" x=\"162\" y=\"111.0449\">keyword)</text><text fill=\"#000000\" font-family=\"sans-serif\" font-size=\"12\" lengthAdjust=\"spacingAndGlyphs\" textLength=\"0\" x=\"9\" y=\"125.0137\"/><text fill=\"#000000\" font-family=\"sans-serif\" font-size=\"12\" lengthAdjust=\"spacingAndGlyphs\" textLength=\"283\" x=\"5\" y=\"138.9824\">You can start with a simple UML Diagram like:</text><text fill=\"#000000\" font-family=\"sans-serif\" font-size=\"12\" lengthAdjust=\"spacingAndGlyphs\" textLength=\"0\" x=\"9\" y=\"152.9512\"/><text fill=\"#000000\" font-family=\"monospace\" font-size=\"12\" lengthAdjust=\"spacingAndGlyphs\" textLength=\"102\" x=\"5\" y=\"166.0893\">Bob-&gt;Alice: Hello</text><text fill=\"#000000\" font-family=\"sans-serif\" font-size=\"12\" lengthAdjust=\"spacingAndGlyphs\" textLength=\"0\" x=\"9\" y=\"179.508\"/><text fill=\"#000000\" font-family=\"sans-serif\" font-size=\"12\" lengthAdjust=\"spacingAndGlyphs\" textLength=\"14\" x=\"5\" y=\"193.4768\">Or</text><text fill=\"#000000\" font-family=\"sans-serif\" font-size=\"12\" lengthAdjust=\"spacingAndGlyphs\" textLength=\"0\" x=\"9\" y=\"207.4455\"/><text fill=\"#000000\" font-family=\"monospace\" font-size=\"12\" lengthAdjust=\"spacingAndGlyphs\" textLength=\"78\" x=\"5\" y=\"220.5837\">class Example</text><text fill=\"#000000\" font-family=\"sans-serif\" font-size=\"12\" lengthAdjust=\"spacingAndGlyphs\" textLength=\"0\" x=\"9\" y=\"234.0023\"/><text fill=\"#000000\" font-family=\"sans-serif\" font-size=\"12\" lengthAdjust=\"spacingAndGlyphs\" textLength=\"349\" x=\"5\" y=\"247.9711\">You will find more information about PlantUML syntax on</text><text fill=\"#000000\" font-family=\"sans-serif\" font-size=\"12\" lengthAdjust=\"spacingAndGlyphs\" text-decoration=\"underline\" textLength=\"129\" x=\"358\" y=\"247.9711\">https://plantuml.com</text><image height=\"71\" width=\"80\" x=\"516\" xlink:href=\"data:image/png;base64,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\" y=\"59\"/><rect fill=\"#000000\" height=\"96.4844\" style=\"stroke: #000000; stroke-width: 1.0;\" width=\"602\" x=\"0\" y=\"255.8012\"/><rect fill=\"#33FF02\" height=\"21.2969\" style=\"stroke: #33FF02; stroke-width: 1.0;\" width=\"145\" x=\"5\" y=\"260.8012\"/><text fill=\"#000000\" font-family=\"sans-serif\" font-size=\"14\" font-weight=\"bold\" lengthAdjust=\"spacingAndGlyphs\" textLength=\"143\" x=\"6\" y=\"275.8012\">[From string (line 2) ]</text><text fill=\"#33FF02\" font-family=\"sans-serif\" font-size=\"14\" font-weight=\"bold\" lengthAdjust=\"spacingAndGlyphs\" textLength=\"0\" x=\"9\" y=\"296.0981\"/><text fill=\"#33FF02\" font-family=\"sans-serif\" font-size=\"14\" font-weight=\"bold\" lengthAdjust=\"spacingAndGlyphs\" textLength=\"70\" x=\"5\" y=\"312.3949\">@startuml</text><text fill=\"#33FF02\" font-family=\"sans-serif\" font-size=\"14\" font-weight=\"bold\" lengthAdjust=\"spacingAndGlyphs\" textLength=\"0\" x=\"9\" y=\"328.6918\"/><text fill=\"#FF0000\" font-family=\"sans-serif\" font-size=\"14\" font-weight=\"bold\" lengthAdjust=\"spacingAndGlyphs\" textLength=\"124\" x=\"9\" y=\"344.9887\">Empty description</text><rect fill=\"#FFFFFF\" height=\"53\" style=\"stroke: #FFFFFF; stroke-width: 1.0;\" width=\"602\" x=\"0\" y=\"352.2856\"/><image height=\"53\" width=\"450\" x=\"1\" xlink:href=\"data:image/png;base64,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\" y=\"353.2856\"/><!--MD5=[f59edd8218d337f74d0c332fc6737304]\n",
       "@startuml\r\n",
       " \r\n",
       "@enduml\r\n",
       "\n",
       "PlantUML version 1.2020.13(Sat Jun 13 12:26:38 UTC 2020)\n",
       "(EPL source distribution)\n",
       "Java Runtime: OpenJDK Runtime Environment\n",
       "JVM: OpenJDK 64-Bit Server VM\n",
       "Default Encoding: UTF-8\n",
       "Language: en\n",
       "Country: null\n",
       "--></g></svg>"
      ]
     },
     "execution_count": 32,
     "metadata": {},
     "output_type": "execute_result"
    }
   ],
   "source": [
    "%viz --style=\"PLANTUML\" --view=\"State\" \"DefaultValueTest\""
   ]
  },
  {
   "cell_type": "code",
   "execution_count": 33,
   "id": "4a2b7296",
   "metadata": {
    "execution": {
     "iopub.execute_input": "2022-07-23T10:55:45.752802Z",
     "iopub.status.busy": "2022-07-23T10:55:45.752336Z",
     "iopub.status.idle": "2022-07-23T10:55:45.780710Z",
     "shell.execute_reply": "2022-07-23T10:55:45.778885Z"
    }
   },
   "outputs": [
    {
     "data": {
      "image/svg+xml": [
       "<?xml version=\"1.0\" encoding=\"UTF-8\" standalone=\"no\"?><svg xmlns=\"http://www.w3.org/2000/svg\" xmlns:xlink=\"http://www.w3.org/1999/xlink\" contentScriptType=\"application/ecmascript\" contentStyleType=\"text/css\" height=\"367px\" preserveAspectRatio=\"none\" style=\"width:575px;height:367px;\" version=\"1.1\" viewBox=\"0 0 575 367\" width=\"575px\" zoomAndPan=\"magnify\"><defs><filter height=\"300%\" id=\"f1pyav6g7u84qo\" width=\"300%\" x=\"-1\" y=\"-1\"><feGaussianBlur result=\"blurOut\" stdDeviation=\"2.0\"/><feColorMatrix in=\"blurOut\" result=\"blurOut2\" type=\"matrix\" values=\"0 0 0 0 0 0 0 0 0 0 0 0 0 0 0 0 0 0 .4 0\"/><feOffset dx=\"4.0\" dy=\"4.0\" in=\"blurOut2\" result=\"blurOut3\"/><feBlend in=\"SourceGraphic\" in2=\"blurOut3\" mode=\"normal\"/></filter></defs><g><!--MD5=[fbc87193dbaf4d95561dea2c320d4a47]\n",
       "cluster E1--><a href=\"psysml:e41cdd27-e179-4271-915e-4358fc3ae044\" target=\"_top\" title=\"psysml:e41cdd27-e179-4271-915e-4358fc3ae044\" xlink:actuate=\"onRequest\" xlink:href=\"psysml:e41cdd27-e179-4271-915e-4358fc3ae044\" xlink:show=\"new\" xlink:title=\"psysml:e41cdd27-e179-4271-915e-4358fc3ae044\" xlink:type=\"simple\"><polygon fill=\"#FFFFFF\" filter=\"url(#f1pyav6g7u84qo)\" points=\"16,6,140,6,147,28.2969,553,28.2969,553,355,16,355,16,6\" style=\"stroke: #000000; stroke-width: 1.5;\"/><line style=\"stroke: #000000; stroke-width: 1.5;\" x1=\"16\" x2=\"147\" y1=\"28.2969\" y2=\"28.2969\"/><text fill=\"#000000\" font-family=\"sans-serif\" font-size=\"14\" font-weight=\"bold\" lengthAdjust=\"spacingAndGlyphs\" textLength=\"118\" x=\"20\" y=\"20.9951\">DefaultValueTest</text></a><!--MD5=[e4f7fae6ed58524ba242bb0b0d3be6b7]\n",
       "cluster E2--><a href=\"psysml:95d35419-5cb2-4278-8f59-96945510244a\" target=\"_top\" title=\"psysml:95d35419-5cb2-4278-8f59-96945510244a\" xlink:actuate=\"onRequest\" xlink:href=\"psysml:95d35419-5cb2-4278-8f59-96945510244a\" xlink:show=\"new\" xlink:title=\"psysml:95d35419-5cb2-4278-8f59-96945510244a\" xlink:type=\"simple\"><rect fill=\"#FFFFFF\" filter=\"url(#f1pyav6g7u84qo)\" height=\"113\" id=\"E2\" style=\"stroke: #A80036; stroke-width: 1.5;\" width=\"296\" x=\"189\" y=\"210\"/><rect fill=\"#FEFECE\" height=\"23.9688\" style=\"stroke: #A80036; stroke-width: 1.5;\" width=\"296\" x=\"189\" y=\"210\"/><text fill=\"#000000\" font-family=\"sans-serif\" font-size=\"12\" lengthAdjust=\"spacingAndGlyphs\" textLength=\"8\" x=\"333\" y=\"226.1387\">V</text></a><!--MD5=[de5ec2e2e8f62f467e546659f5068c88]\n",
       "cluster E5--><a href=\"psysml:b8cf69e7-8508-48d3-98c1-1a5aff225283\" target=\"_top\" title=\"psysml:b8cf69e7-8508-48d3-98c1-1a5aff225283\" xlink:actuate=\"onRequest\" xlink:href=\"psysml:b8cf69e7-8508-48d3-98c1-1a5aff225283\" xlink:show=\"new\" xlink:title=\"psysml:b8cf69e7-8508-48d3-98c1-1a5aff225283\" xlink:type=\"simple\"><rect fill=\"#FFFFFF\" filter=\"url(#f1pyav6g7u84qo)\" height=\"113\" id=\"E5\" rx=\"10\" ry=\"10\" style=\"stroke: #A80036; stroke-width: 1.5;\" width=\"164\" x=\"357\" y=\"57\"/><rect fill=\"#FEFECE\" height=\"23.9688\" rx=\"10\" ry=\"10\" style=\"stroke: #FEFECE; stroke-width: 1.5;\" width=\"164\" x=\"357\" y=\"57\"/><rect fill=\"#FEFECE\" height=\"10\" style=\"stroke: #FEFECE; stroke-width: 1.5;\" width=\"164\" x=\"357\" y=\"70.9688\"/><rect fill=\"none\" height=\"113\" id=\"E5\" rx=\"10\" ry=\"10\" style=\"stroke: #A80036; stroke-width: 1.5;\" width=\"164\" x=\"357\" y=\"57\"/><text fill=\"#000000\" font-family=\"sans-serif\" font-size=\"12\" lengthAdjust=\"spacingAndGlyphs\" textLength=\"30\" x=\"424\" y=\"73.1387\">v1: V</text><line style=\"stroke: #A80036; stroke-width: 1.0;\" x1=\"357\" x2=\"521\" y1=\"80.9688\" y2=\"80.9688\"/></a><!--MD5=[168fadf3d0c3fd93dd5d6da1b1d7ab76]\n",
       "cluster E7--><a href=\"psysml:75d7f18d-3bb0-43da-8a1f-920414b7c194\" target=\"_top\" title=\"psysml:75d7f18d-3bb0-43da-8a1f-920414b7c194\" xlink:actuate=\"onRequest\" xlink:href=\"psysml:75d7f18d-3bb0-43da-8a1f-920414b7c194\" xlink:show=\"new\" xlink:title=\"psysml:75d7f18d-3bb0-43da-8a1f-920414b7c194\" xlink:type=\"simple\"><rect fill=\"#FFFFFF\" filter=\"url(#f1pyav6g7u84qo)\" height=\"113\" id=\"E7\" style=\"stroke: #A80036; stroke-width: 1.5;\" width=\"164\" x=\"153\" y=\"57\"/><rect fill=\"#FEFECE\" height=\"23.9688\" style=\"stroke: #A80036; stroke-width: 1.5;\" width=\"164\" x=\"153\" y=\"57\"/><text fill=\"#000000\" font-family=\"sans-serif\" font-size=\"12\" lengthAdjust=\"spacingAndGlyphs\" textLength=\"11\" x=\"229.5\" y=\"73.1387\">W</text></a><!--MD5=[09b614a08d8cba4a07c9adeb5e0fee81]\n",
       "class E3--><a href=\"psysml:6a54ba7f-e62a-486f-80dd-d9293281f966\" target=\"_top\" title=\"psysml:6a54ba7f-e62a-486f-80dd-d9293281f966\" xlink:actuate=\"onRequest\" xlink:href=\"psysml:6a54ba7f-e62a-486f-80dd-d9293281f966\" xlink:show=\"new\" xlink:title=\"psysml:6a54ba7f-e62a-486f-80dd-d9293281f966\" xlink:type=\"simple\"><rect fill=\"#FEFECE\" filter=\"url(#f1pyav6g7u84qo)\" height=\"45.9375\" id=\"E3\" rx=\"10\" ry=\"10\" style=\"stroke: #A80036; stroke-width: 1.5;\" width=\"97\" x=\"364.5\" y=\"253\"/><ellipse cx=\"379.5\" cy=\"271.9688\" fill=\"#FFA500\" rx=\"11\" ry=\"11\" style=\"stroke: #A80036; stroke-width: 1.0;\"/><path d=\"M379.25,277.4375 Q377.5,277.4375 376.5469,276.4063 Q375.6094,275.3594 375.6094,273.5156 L375.6094,266.625 L377.6719,266.625 L377.6719,266.7813 Q377.5781,266.875 377.5469,267.0156 Q377.5313,267.1406 377.5313,267.4063 L377.5313,273.5313 Q377.5313,274.625 377.9063,275.25 Q378.2813,275.875 379.2656,275.875 Q380.25,275.875 380.6406,275.25 Q381.0313,274.625 381.0313,273.4844 L381.0313,266.625 L382.9063,266.625 L382.9063,273.4688 Q382.9063,275.5 381.875,276.4688 Q380.8594,277.4375 379.25,277.4375 Z \"/><text fill=\"#000000\" font-family=\"sans-serif\" font-size=\"12\" font-style=\"italic\" lengthAdjust=\"spacingAndGlyphs\" textLength=\"69\" x=\"391.5\" y=\"269.1387\">«attribute»</text><text fill=\"#000000\" font-family=\"sans-serif\" font-size=\"12\" lengthAdjust=\"spacingAndGlyphs\" textLength=\"11\" x=\"418.5\" y=\"283.1074\">m</text><line style=\"stroke: #A80036; stroke-width: 1.5;\" x1=\"365.5\" x2=\"460.5\" y1=\"290.9375\" y2=\"290.9375\"/></a><!--MD5=[ebbe1d658d1005bcc118a6aa81145e00]\n",
       "class E4--><a href=\"psysml:16f4b3d0-0144-41cb-ad29-b9c3c07c611b\" target=\"_top\" title=\"psysml:16f4b3d0-0144-41cb-ad29-b9c3c07c611b\" xlink:actuate=\"onRequest\" xlink:href=\"psysml:16f4b3d0-0144-41cb-ad29-b9c3c07c611b\" xlink:show=\"new\" xlink:title=\"psysml:16f4b3d0-0144-41cb-ad29-b9c3c07c611b\" xlink:type=\"simple\"><rect fill=\"#FEFECE\" filter=\"url(#f1pyav6g7u84qo)\" height=\"45.9375\" id=\"E4\" rx=\"10\" ry=\"10\" style=\"stroke: #A80036; stroke-width: 1.5;\" width=\"97\" x=\"232.5\" y=\"253\"/><ellipse cx=\"247.5\" cy=\"271.9688\" fill=\"#FFA500\" rx=\"11\" ry=\"11\" style=\"stroke: #A80036; stroke-width: 1.0;\"/><path d=\"M247.25,277.4375 Q245.5,277.4375 244.5469,276.4063 Q243.6094,275.3594 243.6094,273.5156 L243.6094,266.625 L245.6719,266.625 L245.6719,266.7813 Q245.5781,266.875 245.5469,267.0156 Q245.5313,267.1406 245.5313,267.4063 L245.5313,273.5313 Q245.5313,274.625 245.9063,275.25 Q246.2813,275.875 247.2656,275.875 Q248.25,275.875 248.6406,275.25 Q249.0313,274.625 249.0313,273.4844 L249.0313,266.625 L250.9063,266.625 L250.9063,273.4688 Q250.9063,275.5 249.875,276.4688 Q248.8594,277.4375 247.25,277.4375 Z \"/><text fill=\"#000000\" font-family=\"sans-serif\" font-size=\"12\" font-style=\"italic\" lengthAdjust=\"spacingAndGlyphs\" textLength=\"69\" x=\"259.5\" y=\"269.1387\">«attribute»</text><text fill=\"#000000\" font-family=\"sans-serif\" font-size=\"12\" lengthAdjust=\"spacingAndGlyphs\" textLength=\"8\" x=\"288\" y=\"283.1074\">n</text><line style=\"stroke: #A80036; stroke-width: 1.5;\" x1=\"233.5\" x2=\"328.5\" y1=\"290.9375\" y2=\"290.9375\"/></a><!--MD5=[60a26617385b1d2d0262a64233df1f8d]\n",
       "class E6--><a href=\"psysml:8ab4ea45-bcef-481a-a1e6-04e630fb5715\" target=\"_top\" title=\"psysml:8ab4ea45-bcef-481a-a1e6-04e630fb5715\" xlink:actuate=\"onRequest\" xlink:href=\"psysml:8ab4ea45-bcef-481a-a1e6-04e630fb5715\" xlink:show=\"new\" xlink:title=\"psysml:8ab4ea45-bcef-481a-a1e6-04e630fb5715\" xlink:type=\"simple\"><rect fill=\"#FEFECE\" filter=\"url(#f1pyav6g7u84qo)\" height=\"45.9375\" id=\"E6\" rx=\"10\" ry=\"10\" style=\"stroke: #A80036; stroke-width: 1.5;\" width=\"97\" x=\"400.5\" y=\"100\"/><ellipse cx=\"415.5\" cy=\"118.9688\" fill=\"#FFA500\" rx=\"11\" ry=\"11\" style=\"stroke: #A80036; stroke-width: 1.0;\"/><path d=\"M415.25,124.4375 Q413.5,124.4375 412.5469,123.4063 Q411.6094,122.3594 411.6094,120.5156 L411.6094,113.625 L413.6719,113.625 L413.6719,113.7813 Q413.5781,113.875 413.5469,114.0156 Q413.5313,114.1406 413.5313,114.4063 L413.5313,120.5313 Q413.5313,121.625 413.9063,122.25 Q414.2813,122.875 415.2656,122.875 Q416.25,122.875 416.6406,122.25 Q417.0313,121.625 417.0313,120.4844 L417.0313,113.625 L418.9063,113.625 L418.9063,120.4688 Q418.9063,122.5 417.875,123.4688 Q416.8594,124.4375 415.25,124.4375 Z \"/><text fill=\"#000000\" font-family=\"sans-serif\" font-size=\"12\" font-style=\"italic\" lengthAdjust=\"spacingAndGlyphs\" textLength=\"69\" x=\"427.5\" y=\"116.1387\">«attribute»</text><text fill=\"#000000\" font-family=\"sans-serif\" font-size=\"12\" lengthAdjust=\"spacingAndGlyphs\" textLength=\"11\" x=\"454.5\" y=\"130.1074\">m</text><line style=\"stroke: #A80036; stroke-width: 1.5;\" x1=\"401.5\" x2=\"496.5\" y1=\"137.9375\" y2=\"137.9375\"/></a><!--MD5=[b9389687b975829384b498ac4b7476b2]\n",
       "class E8--><a href=\"psysml:1da3bab2-1d8c-4ebe-95aa-17b6e9277a07\" target=\"_top\" title=\"psysml:1da3bab2-1d8c-4ebe-95aa-17b6e9277a07\" xlink:actuate=\"onRequest\" xlink:href=\"psysml:1da3bab2-1d8c-4ebe-95aa-17b6e9277a07\" xlink:show=\"new\" xlink:title=\"psysml:1da3bab2-1d8c-4ebe-95aa-17b6e9277a07\" xlink:type=\"simple\"><rect fill=\"#FEFECE\" filter=\"url(#f1pyav6g7u84qo)\" height=\"45.9375\" id=\"E8\" rx=\"10\" ry=\"10\" style=\"stroke: #A80036; stroke-width: 1.5;\" width=\"97\" x=\"196.5\" y=\"100\"/><ellipse cx=\"211.5\" cy=\"118.9688\" fill=\"#FFA500\" rx=\"11\" ry=\"11\" style=\"stroke: #A80036; stroke-width: 1.0;\"/><path d=\"M211.25,124.4375 Q209.5,124.4375 208.5469,123.4063 Q207.6094,122.3594 207.6094,120.5156 L207.6094,113.625 L209.6719,113.625 L209.6719,113.7813 Q209.5781,113.875 209.5469,114.0156 Q209.5313,114.1406 209.5313,114.4063 L209.5313,120.5313 Q209.5313,121.625 209.9063,122.25 Q210.2813,122.875 211.2656,122.875 Q212.25,122.875 212.6406,122.25 Q213.0313,121.625 213.0313,120.4844 L213.0313,113.625 L214.9063,113.625 L214.9063,120.4688 Q214.9063,122.5 213.875,123.4688 Q212.8594,124.4375 211.25,124.4375 Z \"/><text fill=\"#000000\" font-family=\"sans-serif\" font-size=\"12\" font-style=\"italic\" lengthAdjust=\"spacingAndGlyphs\" textLength=\"69\" x=\"223.5\" y=\"116.1387\">«attribute»</text><text fill=\"#000000\" font-family=\"sans-serif\" font-size=\"12\" lengthAdjust=\"spacingAndGlyphs\" textLength=\"11\" x=\"250.5\" y=\"130.1074\">m</text><line style=\"stroke: #A80036; stroke-width: 1.5;\" x1=\"197.5\" x2=\"292.5\" y1=\"137.9375\" y2=\"137.9375\"/></a><g id=\"E1.E9\"><a href=\"psysml:1ec49292-f6e0-4564-a681-346e27695197\" target=\"_top\" title=\"psysml:1ec49292-f6e0-4564-a681-346e27695197\" xlink:actuate=\"onRequest\" xlink:href=\"psysml:1ec49292-f6e0-4564-a681-346e27695197\" xlink:show=\"new\" xlink:title=\"psysml:1ec49292-f6e0-4564-a681-346e27695197\" xlink:type=\"simple\"><rect fill=\"#FEFECE\" filter=\"url(#f1pyav6g7u84qo)\" height=\"40\" id=\"E9\" rx=\"10\" ry=\"10\" style=\"stroke: #A80036; stroke-width: 1.5;\" width=\"94\" x=\"32\" y=\"103\"/><ellipse cx=\"49.25\" cy=\"119\" fill=\"#B6DBBB\" rx=\"11\" ry=\"11\" style=\"stroke: #A80036; stroke-width: 1.0;\"/><path d=\"M49,124.4688 Q47.25,124.4688 46.2969,123.4375 Q45.3594,122.3906 45.3594,120.5469 L45.3594,113.6563 L47.4219,113.6563 L47.4219,113.8125 Q47.3281,113.9063 47.2969,114.0469 Q47.2813,114.1719 47.2813,114.4375 L47.2813,120.5625 Q47.2813,121.6563 47.6563,122.2813 Q48.0313,122.9063 49.0156,122.9063 Q50,122.9063 50.3906,122.2813 Q50.7813,121.6563 50.7813,120.5156 L50.7813,113.6563 L52.6563,113.6563 L52.6563,120.5 Q52.6563,122.5313 51.625,123.5 Q50.6094,124.4688 49,124.4688 Z \"/><text fill=\"#000000\" font-family=\"sans-serif\" font-size=\"12\" lengthAdjust=\"spacingAndGlyphs\" textLength=\"53\" x=\"63.75\" y=\"123.1543\">v2= W();</text></a></g><!--MD5=[a717450b82c80b9240a525fa862496af]\n",
       "link E6 to E3--><a href=\"psysml:df608862-84ce-4303-af6e-5dfc61cbb6d2\" target=\"_top\" title=\"psysml:df608862-84ce-4303-af6e-5dfc61cbb6d2\" xlink:actuate=\"onRequest\" xlink:href=\"psysml:df608862-84ce-4303-af6e-5dfc61cbb6d2\" xlink:show=\"new\" xlink:title=\"psysml:df608862-84ce-4303-af6e-5dfc61cbb6d2\" xlink:type=\"simple\"><path d=\"M443.69,146.28 C438.26,169.03 429.71,204.9 423.01,233 \" fill=\"none\" id=\"E6-&gt;E3\" style=\"stroke: #A80036; stroke-width: 1.0;\"/><polygon fill=\"#FFFFFF\" points=\"418.33,252.63,415.9311,232.5241,429.5488,235.7736,418.33,252.63\" style=\"stroke: #A80036; stroke-width: 1.0;\"/><line style=\"stroke: #A80036; stroke-width: 2.0;\" x1=\"416.8131\" x2=\"430.4308\" y1=\"228.8279\" y2=\"232.0774\"/></a><!--MD5=[15ebcb19ae302d9b601edb458606d402]\n",
       "link E5 to E2--><a href=\"psysml:eb47ef55-8727-46f8-948e-289e011721f9\" target=\"_top\" title=\"psysml:eb47ef55-8727-46f8-948e-289e011721f9\" xlink:actuate=\"onRequest\" xlink:href=\"psysml:eb47ef55-8727-46f8-948e-289e011721f9\" xlink:show=\"new\" xlink:title=\"psysml:eb47ef55-8727-46f8-948e-289e011721f9\" xlink:type=\"simple\"><path d=\"M356.8723,137.975 C356.7613,138.1488 356.6492,138.3237 356.5361,138.4997 C356.0836,139.2036 355.6143,139.9243 355.1286,140.6598 C353.1859,143.6017 350.9803,146.78 348.5338,150.0625 C338.7475,163.1925 325.105,177.99 309,186 C290.62,195.14 232.59,180.66 217,194 C213.5875,196.9188 210.7081,200.3184 208.2828,204.0398 C207.0702,205.9005 205.971,207.8415 204.9755,209.8431 \" fill=\"none\" id=\"E5-&gt;E2\" style=\"stroke: #A80036; stroke-width: 1.0;\"/><polygon fill=\"#FFFFFF\" points=\"204.9755,209.8431,207.169,189.7138,219.7042,195.9483,204.9755,209.8431\" style=\"stroke: #A80036; stroke-width: 1.0;\"/><ellipse cx=\"211.498\" cy=\"185.5009\" fill=\"#A80036\" rx=\"2\" ry=\"2\" style=\"stroke: #A80036; stroke-width: 1.0;\"/><ellipse cx=\"220.4518\" cy=\"189.9541\" fill=\"#A80036\" rx=\"2\" ry=\"2\" style=\"stroke: #A80036; stroke-width: 1.0;\"/></a><!--MD5=[583832df87f4419a098336a29a52fa00]\n",
       "link E7 to E2--><a href=\"psysml:3b658baa-aed2-418d-9cf3-f3993d6dea2d\" target=\"_top\" title=\"psysml:3b658baa-aed2-418d-9cf3-f3993d6dea2d\" xlink:actuate=\"onRequest\" xlink:href=\"psysml:3b658baa-aed2-418d-9cf3-f3993d6dea2d\" xlink:show=\"new\" xlink:title=\"psysml:3b658baa-aed2-418d-9cf3-f3993d6dea2d\" xlink:type=\"simple\"><path d=\"M172.0213,170.2205 C172.0846,170.4862 172.1481,170.7525 172.2117,171.0194 C172.339,171.5532 172.4667,172.0891 172.595,172.6272 C174.6473,181.2363 176.8275,190.3816 179.0075,199.5262 C181.1875,208.6709 183.3673,217.8151 185.4191,226.422 C186.4449,230.7255 187.4388,234.8946 188.3846,238.8624 C188.5028,239.3584 188.6203,239.8512 188.7369,240.3408 C188.7953,240.5855 188.8534,240.8295 188.9114,241.0726 C188.9404,241.1942 188.9693,241.3155 188.9982,241.4367 \" fill=\"none\" id=\"E7-&gt;E2\" style=\"stroke: #A80036; stroke-width: 1.0;\"/><polygon fill=\"#FFFFFF\" points=\"188.9982,241.4367,191.4018,221.3314,177.7834,224.5776,188.9982,241.4367\" style=\"stroke: #A80036; stroke-width: 1.0;\"/></a><!--MD5=[95fa686b5a16158bcdbcaeead89f639b]\n",
       "link E8 to E3--><a href=\"psysml:d0f3a95a-9489-4833-bd9a-1794072888fe\" target=\"_top\" title=\"psysml:d0f3a95a-9489-4833-bd9a-1794072888fe\" xlink:actuate=\"onRequest\" xlink:href=\"psysml:d0f3a95a-9489-4833-bd9a-1794072888fe\" xlink:show=\"new\" xlink:title=\"psysml:d0f3a95a-9489-4833-bd9a-1794072888fe\" xlink:type=\"simple\"><path d=\"M282.76,146.25 C302.87,158.97 327.41,175.96 347,194 C360.85,206.76 374.32,222.48 385.44,236.68 \" fill=\"none\" id=\"E8-&gt;E3\" style=\"stroke: #A80036; stroke-width: 1.0;\"/><polygon fill=\"#FFFFFF\" points=\"397.71,252.92,380.6708,241.9808,391.8408,233.5408,397.71,252.92\" style=\"stroke: #A80036; stroke-width: 1.0;\"/><line style=\"stroke: #A80036; stroke-width: 2.0;\" x1=\"378.38\" x2=\"389.5499\" y1=\"238.9489\" y2=\"230.509\"/></a><!--MD5=[f9ade6425296bf0fc58f67d75f0b4968]\n",
       "@startuml\r\n",
       "skinparam ranksep 10\r\n",
       "skinparam rectangle {\r\n",
       " backgroundColor<<block>> LightGreen\r\n",
       "}\r\n",
       " \r\n",
       "package \"DefaultValueTest\" as E1  [[psysml:e41cdd27-e179-4271-915e-4358fc3ae044 ]]  {\r\n",
       "rec def \"V\" as E2 << << (B,green) >> [[psysml:95d35419-5cb2-4278-8f59-96945510244a ]] {\r\n",
       "comp usage \"m \" as E3 << <<(U,orange) attribute>> [[psysml:6a54ba7f-e62a-486f-80dd-d9293281f966 ]] {\r\n",
       "}\r\n",
       "comp usage \"n \" as E4 << <<(U,orange) attribute>> [[psysml:16f4b3d0-0144-41cb-ad29-b9c3c07c611b ]] {\r\n",
       "}\r\n",
       "}\r\n",
       "rec usage \"v1: V\" as E5  [[psysml:b8cf69e7-8508-48d3-98c1-1a5aff225283 ]] {\r\n",
       "comp usage \"m \" as E6 << <<(U,orange) attribute>> [[psysml:8ab4ea45-bcef-481a-a1e6-04e630fb5715 ]] {\r\n",
       "}\r\n",
       "}\r\n",
       "rec def \"W\" as E7 << << (B,green) >> [[psysml:75d7f18d-3bb0-43da-8a1f-920414b7c194 ]] {\r\n",
       "comp usage \"m \" as E8 << <<(U,orange) attribute>> [[psysml:1da3bab2-1d8c-4ebe-95aa-17b6e9277a07 ]] {\r\n",
       "}\r\n",
       "}\r\n",
       "rec usage \"v2= W(); \" as E9  [[psysml:1ec49292-f6e0-4564-a681-346e27695197 ]] {\r\n",
       "}\r\n",
       "}\r\n",
       "E6 - -||> E3 [[psysml:df608862-84ce-4303-af6e-5dfc61cbb6d2 ]] \r\n",
       "E5 - -:|> E2 [[psysml:eb47ef55-8727-46f8-948e-289e011721f9 ]] \r\n",
       "E7 - -|> E2 [[psysml:3b658baa-aed2-418d-9cf3-f3993d6dea2d ]] \r\n",
       "E8 - -||> E3 [[psysml:d0f3a95a-9489-4833-bd9a-1794072888fe ]] \r\n",
       "@enduml\r\n",
       "\n",
       "PlantUML version 1.2020.13(Sat Jun 13 12:26:38 UTC 2020)\n",
       "(EPL source distribution)\n",
       "Java Runtime: OpenJDK Runtime Environment\n",
       "JVM: OpenJDK 64-Bit Server VM\n",
       "Default Encoding: UTF-8\n",
       "Language: en\n",
       "Country: null\n",
       "--></g></svg>"
      ]
     },
     "execution_count": 33,
     "metadata": {},
     "output_type": "execute_result"
    }
   ],
   "source": [
    "%viz --style=\"PLANTUML\" --view=\"Interconnection\" \"DefaultValueTest\""
   ]
  },
  {
   "cell_type": "code",
   "execution_count": 34,
   "id": "a705c7b7",
   "metadata": {
    "execution": {
     "iopub.execute_input": "2022-07-23T10:55:45.829799Z",
     "iopub.status.busy": "2022-07-23T10:55:45.829335Z",
     "iopub.status.idle": "2022-07-23T10:55:45.834695Z",
     "shell.execute_reply": "2022-07-23T10:55:45.834176Z"
    }
   },
   "outputs": [
    {
     "data": {
      "image/svg+xml": [
       "<?xml version=\"1.0\" encoding=\"UTF-8\" standalone=\"no\"?><svg xmlns=\"http://www.w3.org/2000/svg\" xmlns:xlink=\"http://www.w3.org/1999/xlink\" contentScriptType=\"application/ecmascript\" contentStyleType=\"text/css\" height=\"12px\" preserveAspectRatio=\"none\" style=\"width:12px;height:12px;\" version=\"1.1\" viewBox=\"0 0 12 12\" width=\"12px\" zoomAndPan=\"magnify\"><defs/><g><!--MD5=[6a4cb978cab31700e1ce5529f947a75d]\n",
       "@startuml\r\n",
       "skinparam ranksep 8\r\n",
       " \r\n",
       "@enduml\r\n",
       "\n",
       "PlantUML version 1.2020.13(Sat Jun 13 12:26:38 UTC 2020)\n",
       "(EPL source distribution)\n",
       "Java Runtime: OpenJDK Runtime Environment\n",
       "JVM: OpenJDK 64-Bit Server VM\n",
       "Default Encoding: UTF-8\n",
       "Language: en\n",
       "Country: null\n",
       "--></g></svg>"
      ]
     },
     "execution_count": 34,
     "metadata": {},
     "output_type": "execute_result"
    }
   ],
   "source": [
    "%viz --style=\"PLANTUML\" --view=\"Action\" \"DefaultValueTest\""
   ]
  },
  {
   "cell_type": "code",
   "execution_count": 35,
   "id": "0f165c73",
   "metadata": {
    "execution": {
     "iopub.execute_input": "2022-07-23T10:55:45.884214Z",
     "iopub.status.busy": "2022-07-23T10:55:45.883747Z",
     "iopub.status.idle": "2022-07-23T10:55:45.888236Z",
     "shell.execute_reply": "2022-07-23T10:55:45.888542Z"
    }
   },
   "outputs": [
    {
     "data": {
      "image/svg+xml": [
       "<?xml version=\"1.0\" encoding=\"UTF-8\" standalone=\"no\"?><svg xmlns=\"http://www.w3.org/2000/svg\" xmlns:xlink=\"http://www.w3.org/1999/xlink\" contentScriptType=\"application/ecmascript\" contentStyleType=\"text/css\" height=\"12px\" preserveAspectRatio=\"none\" style=\"width:12px;height:12px;\" version=\"1.1\" viewBox=\"0 0 12 12\" width=\"12px\" zoomAndPan=\"magnify\"><defs/><g><!--MD5=[ca4faa0b02def275ea33c14ea7a1a98d]\n",
       "@startuml\r\n",
       "skinparam roundcorner 20\r\n",
       "skinparam BoxPadding 20\r\n",
       "skinparam SequenceBoxBackgroundColor #white\r\n",
       "skinparam style strictuml\r\n",
       "skinparam maxMessageSize 100\r\n",
       " \r\n",
       "@enduml\r\n",
       "\n",
       "PlantUML version 1.2020.13(Sat Jun 13 12:26:38 UTC 2020)\n",
       "(EPL source distribution)\n",
       "Java Runtime: OpenJDK Runtime Environment\n",
       "JVM: OpenJDK 64-Bit Server VM\n",
       "Default Encoding: UTF-8\n",
       "Language: en\n",
       "Country: null\n",
       "--></g></svg>"
      ]
     },
     "execution_count": 35,
     "metadata": {},
     "output_type": "execute_result"
    }
   ],
   "source": [
    "%viz --style=\"PLANTUML\" --view=\"Sequence\" \"DefaultValueTest\""
   ]
  },
  {
   "cell_type": "code",
   "execution_count": 36,
   "id": "18dbb177",
   "metadata": {
    "execution": {
     "iopub.execute_input": "2022-07-23T10:55:45.938362Z",
     "iopub.status.busy": "2022-07-23T10:55:45.937897Z",
     "iopub.status.idle": "2022-07-23T10:55:46.022455Z",
     "shell.execute_reply": "2022-07-23T10:55:46.020948Z"
    }
   },
   "outputs": [
    {
     "data": {
      "image/svg+xml": [
       "<?xml version=\"1.0\" encoding=\"UTF-8\" standalone=\"no\"?><svg xmlns=\"http://www.w3.org/2000/svg\" xmlns:xlink=\"http://www.w3.org/1999/xlink\" contentScriptType=\"application/ecmascript\" contentStyleType=\"text/css\" height=\"299px\" preserveAspectRatio=\"none\" style=\"width:380px;height:299px;\" version=\"1.1\" viewBox=\"0 0 380 299\" width=\"380px\" zoomAndPan=\"magnify\"><defs><filter height=\"300%\" id=\"fxk1svdw9bo2c\" width=\"300%\" x=\"-1\" y=\"-1\"><feGaussianBlur result=\"blurOut\" stdDeviation=\"2.0\"/><feColorMatrix in=\"blurOut\" result=\"blurOut2\" type=\"matrix\" values=\"0 0 0 0 0 0 0 0 0 0 0 0 0 0 0 0 0 0 .4 0\"/><feOffset dx=\"4.0\" dy=\"4.0\" in=\"blurOut2\" result=\"blurOut3\"/><feBlend in=\"SourceGraphic\" in2=\"blurOut3\" mode=\"normal\"/></filter></defs><g><!--MD5=[fbc87193dbaf4d95561dea2c320d4a47]\n",
       "cluster E1--><a href=\"psysml:e41cdd27-e179-4271-915e-4358fc3ae044\" target=\"_top\" title=\"psysml:e41cdd27-e179-4271-915e-4358fc3ae044\" xlink:actuate=\"onRequest\" xlink:href=\"psysml:e41cdd27-e179-4271-915e-4358fc3ae044\" xlink:show=\"new\" xlink:title=\"psysml:e41cdd27-e179-4271-915e-4358fc3ae044\" xlink:type=\"simple\"><polygon fill=\"#FFFFFF\" filter=\"url(#fxk1svdw9bo2c)\" points=\"16,6,140,6,147,28.2969,358,28.2969,358,287,16,287,16,6\" style=\"stroke: #000000; stroke-width: 1.5;\"/><line style=\"stroke: #000000; stroke-width: 1.5;\" x1=\"16\" x2=\"147\" y1=\"28.2969\" y2=\"28.2969\"/><text fill=\"#000000\" font-family=\"sans-serif\" font-size=\"14\" font-weight=\"bold\" lengthAdjust=\"spacingAndGlyphs\" textLength=\"118\" x=\"20\" y=\"20.9951\">DefaultValueTest</text></a><!--MD5=[b4997ac47864f28c2f74865a473b2911]\n",
       "class E2--><a href=\"psysml:95d35419-5cb2-4278-8f59-96945510244a\" target=\"_top\" title=\"psysml:95d35419-5cb2-4278-8f59-96945510244a\" xlink:actuate=\"onRequest\" xlink:href=\"psysml:95d35419-5cb2-4278-8f59-96945510244a\" xlink:show=\"new\" xlink:title=\"psysml:95d35419-5cb2-4278-8f59-96945510244a\" xlink:type=\"simple\"><rect fill=\"#FEFECE\" filter=\"url(#fxk1svdw9bo2c)\" height=\"82.4141\" id=\"E2\" style=\"stroke: #A80036; stroke-width: 1.5;\" width=\"106\" x=\"185\" y=\"189\"/><ellipse cx=\"229.75\" cy=\"205\" fill=\"#008000\" rx=\"11\" ry=\"11\" style=\"stroke: #A80036; stroke-width: 1.0;\"/><path d=\"M226.625,210 L226.625,199.4063 L229.8594,199.4063 Q231.7656,199.4063 232.6719,200.1563 Q233.5938,200.9063 233.5938,202.0781 Q233.5938,202.7656 233.2031,203.4219 Q232.8281,204.0781 232.1094,204.375 Q232.9688,204.75 233.4844,205.4375 Q234,206.125 234,206.9375 Q234,208.3125 232.9688,209.1563 Q231.9531,210 229.8438,210 L226.625,210 Z M228.5469,203.6406 L229.7031,203.6406 Q230.8281,203.6406 231.2344,203.2656 Q231.6563,202.875 231.6563,202.25 Q231.6563,201.6719 231.2344,201.3125 Q230.8125,200.9531 229.875,200.9531 L228.5469,200.9531 L228.5469,203.6406 Z M228.5469,208.4219 L230.0469,208.4219 Q230.9531,208.4219 231.4844,208.0313 Q232.0156,207.6406 232.0156,206.8906 Q232.0156,206.125 231.5156,205.6563 Q231.0156,205.1719 229.75,205.1719 L228.5469,205.1719 L228.5469,208.4219 Z \"/><text fill=\"#000000\" font-family=\"sans-serif\" font-size=\"12\" lengthAdjust=\"spacingAndGlyphs\" textLength=\"8\" x=\"250.25\" y=\"209.1543\">V</text><line style=\"stroke: #A80036; stroke-width: 1.5;\" x1=\"186\" x2=\"290\" y1=\"221\" y2=\"221\"/><text fill=\"#000000\" font-family=\"sans-serif\" font-size=\"11\" lengthAdjust=\"spacingAndGlyphs\" textLength=\"94\" x=\"191\" y=\"252.0151\">m=default = 10;</text><text fill=\"#000000\" font-family=\"sans-serif\" font-size=\"11\" lengthAdjust=\"spacingAndGlyphs\" textLength=\"38\" x=\"191\" y=\"264.8198\">n= 20;</text><line style=\"stroke: #A80036; stroke-width: 1.0;\" x1=\"186\" x2=\"210.5\" y1=\"235.4023\" y2=\"235.4023\"/><text fill=\"#000000\" font-family=\"sans-serif\" font-size=\"11\" lengthAdjust=\"spacingAndGlyphs\" textLength=\"55\" x=\"210.5\" y=\"238.7104\">attributes</text><line style=\"stroke: #A80036; stroke-width: 1.0;\" x1=\"265.5\" x2=\"290\" y1=\"235.4023\" y2=\"235.4023\"/></a><!--MD5=[09b614a08d8cba4a07c9adeb5e0fee81]\n",
       "class E3--><a href=\"psysml:b8cf69e7-8508-48d3-98c1-1a5aff225283\" target=\"_top\" title=\"psysml:b8cf69e7-8508-48d3-98c1-1a5aff225283\" xlink:actuate=\"onRequest\" xlink:href=\"psysml:b8cf69e7-8508-48d3-98c1-1a5aff225283\" xlink:show=\"new\" xlink:title=\"psysml:b8cf69e7-8508-48d3-98c1-1a5aff225283\" xlink:type=\"simple\"><rect fill=\"#FEFECE\" filter=\"url(#fxk1svdw9bo2c)\" height=\"88.3516\" id=\"E3\" rx=\"10\" ry=\"10\" style=\"stroke: #A80036; stroke-width: 1.5;\" width=\"68\" x=\"274\" y=\"41\"/><ellipse cx=\"289\" cy=\"59.9688\" fill=\"#32CD32\" rx=\"11\" ry=\"11\" style=\"stroke: #A80036; stroke-width: 1.0;\"/><path d=\"M285.8125,64.9688 L285.8125,54.375 L289.4219,54.375 Q290.6406,54.375 291.4375,54.8125 Q292.2344,55.2344 292.6094,55.9375 Q293,56.6406 293,57.4844 Q293,58.3281 292.625,59.0156 Q292.2656,59.7031 291.4688,60.125 Q290.6875,60.5313 289.5,60.5313 L287.7656,60.5313 L287.7656,64.9688 L285.8125,64.9688 Z M287.7656,58.9375 L289.375,58.9375 Q290.1875,58.9375 290.6094,58.5313 Q291.0313,58.125 291.0313,57.4844 Q291.0313,56.8594 290.6094,56.4531 Q290.1875,56.0469 289.3906,56.0469 L287.7656,56.0469 L287.7656,58.9375 Z \"/><text fill=\"#000000\" font-family=\"sans-serif\" font-size=\"12\" font-style=\"italic\" lengthAdjust=\"spacingAndGlyphs\" textLength=\"40\" x=\"301\" y=\"57.1387\">«part»</text><text fill=\"#000000\" font-family=\"sans-serif\" font-size=\"12\" lengthAdjust=\"spacingAndGlyphs\" textLength=\"30\" x=\"304\" y=\"71.1074\">v1: V</text><line style=\"stroke: #A80036; stroke-width: 1.5;\" x1=\"275\" x2=\"341\" y1=\"78.9375\" y2=\"78.9375\"/><text fill=\"#000000\" font-family=\"sans-serif\" font-size=\"11\" lengthAdjust=\"spacingAndGlyphs\" textLength=\"42\" x=\"280\" y=\"109.9526\">m= 20;</text><text fill=\"#000000\" font-family=\"sans-serif\" font-size=\"11\" font-style=\"italic\" lengthAdjust=\"spacingAndGlyphs\" textLength=\"48\" x=\"280\" y=\"122.7573\">:&gt;&gt;V::m</text><line style=\"stroke: #A80036; stroke-width: 1.0;\" x1=\"275\" x2=\"280.5\" y1=\"93.3398\" y2=\"93.3398\"/><text fill=\"#000000\" font-family=\"sans-serif\" font-size=\"11\" lengthAdjust=\"spacingAndGlyphs\" textLength=\"55\" x=\"280.5\" y=\"96.6479\">attributes</text><line style=\"stroke: #A80036; stroke-width: 1.0;\" x1=\"335.5\" x2=\"341\" y1=\"93.3398\" y2=\"93.3398\"/></a><!--MD5=[ebbe1d658d1005bcc118a6aa81145e00]\n",
       "class E4--><a href=\"psysml:75d7f18d-3bb0-43da-8a1f-920414b7c194\" target=\"_top\" title=\"psysml:75d7f18d-3bb0-43da-8a1f-920414b7c194\" xlink:actuate=\"onRequest\" xlink:href=\"psysml:75d7f18d-3bb0-43da-8a1f-920414b7c194\" xlink:show=\"new\" xlink:title=\"psysml:75d7f18d-3bb0-43da-8a1f-920414b7c194\" xlink:type=\"simple\"><rect fill=\"#FEFECE\" filter=\"url(#fxk1svdw9bo2c)\" height=\"82.4141\" id=\"E4\" style=\"stroke: #A80036; stroke-width: 1.5;\" width=\"103\" x=\"135.5\" y=\"44\"/><ellipse cx=\"177.5\" cy=\"60\" fill=\"#008000\" rx=\"11\" ry=\"11\" style=\"stroke: #A80036; stroke-width: 1.0;\"/><path d=\"M174.375,65 L174.375,54.4063 L177.6094,54.4063 Q179.5156,54.4063 180.4219,55.1563 Q181.3438,55.9063 181.3438,57.0781 Q181.3438,57.7656 180.9531,58.4219 Q180.5781,59.0781 179.8594,59.375 Q180.7188,59.75 181.2344,60.4375 Q181.75,61.125 181.75,61.9375 Q181.75,63.3125 180.7188,64.1563 Q179.7031,65 177.5938,65 L174.375,65 Z M176.2969,58.6406 L177.4531,58.6406 Q178.5781,58.6406 178.9844,58.2656 Q179.4063,57.875 179.4063,57.25 Q179.4063,56.6719 178.9844,56.3125 Q178.5625,55.9531 177.625,55.9531 L176.2969,55.9531 L176.2969,58.6406 Z M176.2969,63.4219 L177.7969,63.4219 Q178.7031,63.4219 179.2344,63.0313 Q179.7656,62.6406 179.7656,61.8906 Q179.7656,61.125 179.2656,60.6563 Q178.7656,60.1719 177.5,60.1719 L176.2969,60.1719 L176.2969,63.4219 Z \"/><text fill=\"#000000\" font-family=\"sans-serif\" font-size=\"12\" lengthAdjust=\"spacingAndGlyphs\" textLength=\"11\" x=\"197.5\" y=\"64.1543\">W</text><line style=\"stroke: #A80036; stroke-width: 1.5;\" x1=\"136.5\" x2=\"237.5\" y1=\"76\" y2=\"76\"/><text fill=\"#000000\" font-family=\"sans-serif\" font-size=\"11\" lengthAdjust=\"spacingAndGlyphs\" textLength=\"87\" x=\"141.5\" y=\"107.0151\">m=default = n;</text><text fill=\"#000000\" font-family=\"sans-serif\" font-size=\"11\" font-style=\"italic\" lengthAdjust=\"spacingAndGlyphs\" textLength=\"48\" x=\"141.5\" y=\"119.8198\">:&gt;&gt;V::m</text><line style=\"stroke: #A80036; stroke-width: 1.0;\" x1=\"136.5\" x2=\"159.5\" y1=\"90.4023\" y2=\"90.4023\"/><text fill=\"#000000\" font-family=\"sans-serif\" font-size=\"11\" lengthAdjust=\"spacingAndGlyphs\" textLength=\"55\" x=\"159.5\" y=\"93.7104\">attributes</text><line style=\"stroke: #A80036; stroke-width: 1.0;\" x1=\"214.5\" x2=\"237.5\" y1=\"90.4023\" y2=\"90.4023\"/></a><!--MD5=[270fce915f116d4de14055a7c1d9a0f3]\n",
       "class E5--><a href=\"psysml:1ec49292-f6e0-4564-a681-346e27695197\" target=\"_top\" title=\"psysml:1ec49292-f6e0-4564-a681-346e27695197\" xlink:actuate=\"onRequest\" xlink:href=\"psysml:1ec49292-f6e0-4564-a681-346e27695197\" xlink:show=\"new\" xlink:title=\"psysml:1ec49292-f6e0-4564-a681-346e27695197\" xlink:type=\"simple\"><rect fill=\"#FEFECE\" filter=\"url(#fxk1svdw9bo2c)\" height=\"45.9375\" id=\"E5\" rx=\"10\" ry=\"10\" style=\"stroke: #A80036; stroke-width: 1.5;\" width=\"68\" x=\"32\" y=\"62\"/><ellipse cx=\"47\" cy=\"80.9688\" fill=\"#32CD32\" rx=\"11\" ry=\"11\" style=\"stroke: #A80036; stroke-width: 1.0;\"/><path d=\"M43.8125,85.9688 L43.8125,75.375 L47.4219,75.375 Q48.6406,75.375 49.4375,75.8125 Q50.2344,76.2344 50.6094,76.9375 Q51,77.6406 51,78.4844 Q51,79.3281 50.625,80.0156 Q50.2656,80.7031 49.4688,81.125 Q48.6875,81.5313 47.5,81.5313 L45.7656,81.5313 L45.7656,85.9688 L43.8125,85.9688 Z M45.7656,79.9375 L47.375,79.9375 Q48.1875,79.9375 48.6094,79.5313 Q49.0313,79.125 49.0313,78.4844 Q49.0313,77.8594 48.6094,77.4531 Q48.1875,77.0469 47.3906,77.0469 L45.7656,77.0469 L45.7656,79.9375 Z \"/><text fill=\"#000000\" font-family=\"sans-serif\" font-size=\"12\" font-style=\"italic\" lengthAdjust=\"spacingAndGlyphs\" textLength=\"40\" x=\"59\" y=\"78.1387\">«part»</text><text fill=\"#000000\" font-family=\"sans-serif\" font-size=\"12\" lengthAdjust=\"spacingAndGlyphs\" textLength=\"14\" x=\"70\" y=\"92.1074\">v2</text><line style=\"stroke: #A80036; stroke-width: 1.5;\" x1=\"33\" x2=\"99\" y1=\"99.9375\" y2=\"99.9375\"/></a><!--MD5=[05d275557350bfb9b23a4ef7222b4c39]\n",
       "link E3 to E2--><a href=\"psysml:eb47ef55-8727-46f8-948e-289e011721f9\" target=\"_top\" title=\"psysml:eb47ef55-8727-46f8-948e-289e011721f9\" xlink:actuate=\"onRequest\" xlink:href=\"psysml:eb47ef55-8727-46f8-948e-289e011721f9\" xlink:show=\"new\" xlink:title=\"psysml:eb47ef55-8727-46f8-948e-289e011721f9\" xlink:type=\"simple\"><path d=\"M286.81,129.29 C280.44,142.29 273.36,156.77 266.6,170.58 \" fill=\"none\" id=\"E3-&gt;E2\" style=\"stroke: #A80036; stroke-width: 1.0;\"/><polygon fill=\"#FFFFFF\" points=\"257.69,188.78,259.7589,168.6375,272.3325,174.7943,257.69,188.78\" style=\"stroke: #A80036; stroke-width: 1.0;\"/><ellipse cx=\"264.0619\" cy=\"164.3978\" fill=\"#A80036\" rx=\"2\" ry=\"2\" style=\"stroke: #A80036; stroke-width: 1.0;\"/><ellipse cx=\"273.0429\" cy=\"168.7956\" fill=\"#A80036\" rx=\"2\" ry=\"2\" style=\"stroke: #A80036; stroke-width: 1.0;\"/></a><!--MD5=[185131fc0dcab0a4505a2ebe144e961b]\n",
       "link E4 to E2--><a href=\"psysml:3b658baa-aed2-418d-9cf3-f3993d6dea2d\" target=\"_top\" title=\"psysml:3b658baa-aed2-418d-9cf3-f3993d6dea2d\" xlink:actuate=\"onRequest\" xlink:href=\"psysml:3b658baa-aed2-418d-9cf3-f3993d6dea2d\" xlink:show=\"new\" xlink:title=\"psysml:3b658baa-aed2-418d-9cf3-f3993d6dea2d\" xlink:type=\"simple\"><path d=\"M201.34,126.21 C206.12,139.62 211.55,154.85 216.74,169.4 \" fill=\"none\" id=\"E4-&gt;E2\" style=\"stroke: #A80036; stroke-width: 1.0;\"/><polygon fill=\"none\" points=\"223.46,167.4,223.59,188.59,210.28,172.11,223.46,167.4\" style=\"stroke: #A80036; stroke-width: 1.0;\"/></a><!--MD5=[45e4b6f538ef00b1dc781860b22ebabb]\n",
       "@startuml\r\n",
       " \r\n",
       "package \"DefaultValueTest\" as E1  [[psysml:e41cdd27-e179-4271-915e-4358fc3ae044 ]]  {\r\n",
       "comp def \"V\" as E2 << << (B,green) >> [[psysml:95d35419-5cb2-4278-8f59-96945510244a ]] {\r\n",
       "- - attributes - -\r\n",
       "m=default = 10; \r\n",
       "n= 20; \r\n",
       "}\r\n",
       "comp usage \"v1: V \" as E3 << << (P,limegreen) part>> [[psysml:b8cf69e7-8508-48d3-98c1-1a5aff225283 ]] {\r\n",
       "- - attributes - -\r\n",
       "m= 20; \\n//:>>V::m// \r\n",
       "}\r\n",
       "comp def \"W\" as E4 << << (B,green) >> [[psysml:75d7f18d-3bb0-43da-8a1f-920414b7c194 ]] {\r\n",
       "- - attributes - -\r\n",
       "m=default = n; \\n//:>>V::m// \r\n",
       "}\r\n",
       "comp usage \"v2 \" as E5 << << (P,limegreen) part>> [[psysml:1ec49292-f6e0-4564-a681-346e27695197 ]] {\r\n",
       "}\r\n",
       "}\r\n",
       "E3 - -:|> E2 [[psysml:eb47ef55-8727-46f8-948e-289e011721f9 ]] \r\n",
       "E4 - -|> E2 [[psysml:3b658baa-aed2-418d-9cf3-f3993d6dea2d ]] \r\n",
       "@enduml\r\n",
       "\n",
       "PlantUML version 1.2020.13(Sat Jun 13 12:26:38 UTC 2020)\n",
       "(EPL source distribution)\n",
       "Java Runtime: OpenJDK Runtime Environment\n",
       "JVM: OpenJDK 64-Bit Server VM\n",
       "Default Encoding: UTF-8\n",
       "Language: en\n",
       "Country: null\n",
       "--></g></svg>"
      ]
     },
     "execution_count": 36,
     "metadata": {},
     "output_type": "execute_result"
    }
   ],
   "source": [
    "%viz --style=\"PLANTUML\" --view=\"MIXED\" \"DefaultValueTest\""
   ]
  },
  {
   "cell_type": "code",
   "execution_count": 37,
   "id": "badba8de",
   "metadata": {
    "execution": {
     "iopub.execute_input": "2022-07-23T10:55:46.071879Z",
     "iopub.status.busy": "2022-07-23T10:55:46.071396Z",
     "iopub.status.idle": "2022-07-23T10:55:46.145810Z",
     "shell.execute_reply": "2022-07-23T10:55:46.144453Z"
    }
   },
   "outputs": [
    {
     "data": {
      "image/svg+xml": [
       "<?xml version=\"1.0\" encoding=\"UTF-8\" standalone=\"no\"?><svg xmlns=\"http://www.w3.org/2000/svg\" xmlns:xlink=\"http://www.w3.org/1999/xlink\" contentScriptType=\"application/ecmascript\" contentStyleType=\"text/css\" height=\"305px\" preserveAspectRatio=\"none\" style=\"width:349px;height:305px;\" version=\"1.1\" viewBox=\"0 0 349 305\" width=\"349px\" zoomAndPan=\"magnify\"><defs/><g><!--MD5=[fbc87193dbaf4d95561dea2c320d4a47]\n",
       "cluster E1--><a href=\"psysml:e41cdd27-e179-4271-915e-4358fc3ae044\" target=\"_top\" title=\"psysml:e41cdd27-e179-4271-915e-4358fc3ae044\" xlink:actuate=\"onRequest\" xlink:href=\"psysml:e41cdd27-e179-4271-915e-4358fc3ae044\" xlink:show=\"new\" xlink:title=\"psysml:e41cdd27-e179-4271-915e-4358fc3ae044\" xlink:type=\"simple\"><polygon fill=\"#FFFFFF\" points=\"16,6,140,6,147,28.2969,327,28.2969,327,293,16,293,16,6\" style=\"stroke: #000000; stroke-width: 1.5;\"/><line style=\"stroke: #000000; stroke-width: 1.5;\" x1=\"16\" x2=\"147\" y1=\"28.2969\" y2=\"28.2969\"/><text fill=\"#000000\" font-family=\"sans-serif\" font-size=\"14\" font-weight=\"bold\" lengthAdjust=\"spacingAndGlyphs\" textLength=\"118\" x=\"20\" y=\"20.9951\">DefaultValueTest</text></a><!--MD5=[b4997ac47864f28c2f74865a473b2911]\n",
       "class E2--><a href=\"psysml:95d35419-5cb2-4278-8f59-96945510244a\" target=\"_top\" title=\"psysml:95d35419-5cb2-4278-8f59-96945510244a\" xlink:actuate=\"onRequest\" xlink:href=\"psysml:95d35419-5cb2-4278-8f59-96945510244a\" xlink:show=\"new\" xlink:title=\"psysml:95d35419-5cb2-4278-8f59-96945510244a\" xlink:type=\"simple\"><rect fill=\"#FFFFFF\" height=\"88.3516\" id=\"E2\" style=\"stroke: #383838; stroke-width: 1.5;\" width=\"106\" x=\"156\" y=\"189\"/><text fill=\"#000000\" font-family=\"sans-serif\" font-size=\"12\" font-style=\"italic\" lengthAdjust=\"spacingAndGlyphs\" textLength=\"68\" x=\"175\" y=\"205.1387\">«part  def»</text><text fill=\"#000000\" font-family=\"sans-serif\" font-size=\"12\" lengthAdjust=\"spacingAndGlyphs\" textLength=\"8\" x=\"205\" y=\"219.1074\">V</text><line style=\"stroke: #383838; stroke-width: 1.5;\" x1=\"157\" x2=\"261\" y1=\"226.9375\" y2=\"226.9375\"/><text fill=\"#000000\" font-family=\"sans-serif\" font-size=\"11\" lengthAdjust=\"spacingAndGlyphs\" textLength=\"94\" x=\"162\" y=\"257.9526\">m=default = 10;</text><text fill=\"#000000\" font-family=\"sans-serif\" font-size=\"11\" lengthAdjust=\"spacingAndGlyphs\" textLength=\"38\" x=\"162\" y=\"270.7573\">n= 20;</text><line style=\"stroke: #383838; stroke-width: 1.0;\" x1=\"157\" x2=\"181.5\" y1=\"241.3398\" y2=\"241.3398\"/><text fill=\"#000000\" font-family=\"sans-serif\" font-size=\"11\" lengthAdjust=\"spacingAndGlyphs\" textLength=\"55\" x=\"181.5\" y=\"244.6479\">attributes</text><line style=\"stroke: #383838; stroke-width: 1.0;\" x1=\"236.5\" x2=\"261\" y1=\"241.3398\" y2=\"241.3398\"/></a><!--MD5=[09b614a08d8cba4a07c9adeb5e0fee81]\n",
       "class E3--><a href=\"psysml:b8cf69e7-8508-48d3-98c1-1a5aff225283\" target=\"_top\" title=\"psysml:b8cf69e7-8508-48d3-98c1-1a5aff225283\" xlink:actuate=\"onRequest\" xlink:href=\"psysml:b8cf69e7-8508-48d3-98c1-1a5aff225283\" xlink:show=\"new\" xlink:title=\"psysml:b8cf69e7-8508-48d3-98c1-1a5aff225283\" xlink:type=\"simple\"><rect fill=\"#FFFFFF\" height=\"88.3516\" id=\"E3\" rx=\"10\" ry=\"10\" style=\"stroke: #383838; stroke-width: 1.5;\" width=\"63\" x=\"247.5\" y=\"41\"/><text fill=\"#000000\" font-family=\"sans-serif\" font-size=\"12\" font-style=\"italic\" lengthAdjust=\"spacingAndGlyphs\" textLength=\"40\" x=\"259\" y=\"57.1387\">«part»</text><text fill=\"#000000\" font-family=\"sans-serif\" font-size=\"12\" lengthAdjust=\"spacingAndGlyphs\" textLength=\"30\" x=\"262\" y=\"71.1074\">v1: V</text><line style=\"stroke: #383838; stroke-width: 1.5;\" x1=\"248.5\" x2=\"309.5\" y1=\"78.9375\" y2=\"78.9375\"/><text fill=\"#000000\" font-family=\"sans-serif\" font-size=\"11\" lengthAdjust=\"spacingAndGlyphs\" textLength=\"42\" x=\"253.5\" y=\"109.9526\">m= 20;</text><text fill=\"#000000\" font-family=\"sans-serif\" font-size=\"11\" font-style=\"italic\" lengthAdjust=\"spacingAndGlyphs\" textLength=\"48\" x=\"253.5\" y=\"122.7573\">:&gt;&gt;V::m</text><line style=\"stroke: #383838; stroke-width: 1.0;\" x1=\"248.5\" x2=\"251.5\" y1=\"93.3398\" y2=\"93.3398\"/><text fill=\"#000000\" font-family=\"sans-serif\" font-size=\"11\" lengthAdjust=\"spacingAndGlyphs\" textLength=\"55\" x=\"251.5\" y=\"96.6479\">attributes</text><line style=\"stroke: #383838; stroke-width: 1.0;\" x1=\"306.5\" x2=\"309.5\" y1=\"93.3398\" y2=\"93.3398\"/></a><!--MD5=[ebbe1d658d1005bcc118a6aa81145e00]\n",
       "class E4--><a href=\"psysml:75d7f18d-3bb0-43da-8a1f-920414b7c194\" target=\"_top\" title=\"psysml:75d7f18d-3bb0-43da-8a1f-920414b7c194\" xlink:actuate=\"onRequest\" xlink:href=\"psysml:75d7f18d-3bb0-43da-8a1f-920414b7c194\" xlink:show=\"new\" xlink:title=\"psysml:75d7f18d-3bb0-43da-8a1f-920414b7c194\" xlink:type=\"simple\"><rect fill=\"#FFFFFF\" height=\"88.3516\" id=\"E4\" style=\"stroke: #383838; stroke-width: 1.5;\" width=\"103\" x=\"109.5\" y=\"41\"/><text fill=\"#000000\" font-family=\"sans-serif\" font-size=\"12\" font-style=\"italic\" lengthAdjust=\"spacingAndGlyphs\" textLength=\"68\" x=\"127\" y=\"57.1387\">«part  def»</text><text fill=\"#000000\" font-family=\"sans-serif\" font-size=\"12\" lengthAdjust=\"spacingAndGlyphs\" textLength=\"11\" x=\"155.5\" y=\"71.1074\">W</text><line style=\"stroke: #383838; stroke-width: 1.5;\" x1=\"110.5\" x2=\"211.5\" y1=\"78.9375\" y2=\"78.9375\"/><text fill=\"#000000\" font-family=\"sans-serif\" font-size=\"11\" lengthAdjust=\"spacingAndGlyphs\" textLength=\"87\" x=\"115.5\" y=\"109.9526\">m=default = n;</text><text fill=\"#000000\" font-family=\"sans-serif\" font-size=\"11\" font-style=\"italic\" lengthAdjust=\"spacingAndGlyphs\" textLength=\"48\" x=\"115.5\" y=\"122.7573\">:&gt;&gt;V::m</text><line style=\"stroke: #383838; stroke-width: 1.0;\" x1=\"110.5\" x2=\"133.5\" y1=\"93.3398\" y2=\"93.3398\"/><text fill=\"#000000\" font-family=\"sans-serif\" font-size=\"11\" lengthAdjust=\"spacingAndGlyphs\" textLength=\"55\" x=\"133.5\" y=\"96.6479\">attributes</text><line style=\"stroke: #383838; stroke-width: 1.0;\" x1=\"188.5\" x2=\"211.5\" y1=\"93.3398\" y2=\"93.3398\"/></a><!--MD5=[270fce915f116d4de14055a7c1d9a0f3]\n",
       "class E5--><a href=\"psysml:1ec49292-f6e0-4564-a681-346e27695197\" target=\"_top\" title=\"psysml:1ec49292-f6e0-4564-a681-346e27695197\" xlink:actuate=\"onRequest\" xlink:href=\"psysml:1ec49292-f6e0-4564-a681-346e27695197\" xlink:show=\"new\" xlink:title=\"psysml:1ec49292-f6e0-4564-a681-346e27695197\" xlink:type=\"simple\"><rect fill=\"#FFFFFF\" height=\"45.9375\" id=\"E5\" rx=\"10\" ry=\"10\" style=\"stroke: #383838; stroke-width: 1.5;\" width=\"42\" x=\"32\" y=\"62\"/><text fill=\"#000000\" font-family=\"sans-serif\" font-size=\"12\" font-style=\"italic\" lengthAdjust=\"spacingAndGlyphs\" textLength=\"40\" x=\"33\" y=\"78.1387\">«part»</text><text fill=\"#000000\" font-family=\"sans-serif\" font-size=\"12\" lengthAdjust=\"spacingAndGlyphs\" textLength=\"14\" x=\"44\" y=\"92.1074\">v2</text><line style=\"stroke: #383838; stroke-width: 1.5;\" x1=\"33\" x2=\"73\" y1=\"99.9375\" y2=\"99.9375\"/></a><!--MD5=[05d275557350bfb9b23a4ef7222b4c39]\n",
       "link E3 to E2--><a href=\"psysml:eb47ef55-8727-46f8-948e-289e011721f9\" target=\"_top\" title=\"psysml:eb47ef55-8727-46f8-948e-289e011721f9\" xlink:actuate=\"onRequest\" xlink:href=\"psysml:eb47ef55-8727-46f8-948e-289e011721f9\" xlink:show=\"new\" xlink:title=\"psysml:eb47ef55-8727-46f8-948e-289e011721f9\" xlink:type=\"simple\"><path d=\"M258.38,129.02 C252.17,141.97 245.22,156.45 238.55,170.36 \" fill=\"none\" id=\"E3-&gt;E2\" style=\"stroke: #383838; stroke-width: 1.0;\"/><polygon fill=\"#FFFFFF\" points=\"229.72,188.79,231.6151,168.6304,244.2413,174.6786,229.72,188.79\" style=\"stroke: #383838; stroke-width: 1.0;\"/><ellipse cx=\"235.8813\" cy=\"164.3538\" fill=\"#383838\" rx=\"2\" ry=\"2\" style=\"stroke: #383838; stroke-width: 1.0;\"/><ellipse cx=\"244.9\" cy=\"168.6739\" fill=\"#383838\" rx=\"2\" ry=\"2\" style=\"stroke: #383838; stroke-width: 1.0;\"/></a><!--MD5=[185131fc0dcab0a4505a2ebe144e961b]\n",
       "link E4 to E2--><a href=\"psysml:3b658baa-aed2-418d-9cf3-f3993d6dea2d\" target=\"_top\" title=\"psysml:3b658baa-aed2-418d-9cf3-f3993d6dea2d\" xlink:actuate=\"onRequest\" xlink:href=\"psysml:3b658baa-aed2-418d-9cf3-f3993d6dea2d\" xlink:show=\"new\" xlink:title=\"psysml:3b658baa-aed2-418d-9cf3-f3993d6dea2d\" xlink:type=\"simple\"><path d=\"M175.14,129.02 C179.3,141.67 183.94,155.79 188.42,169.41 \" fill=\"none\" id=\"E4-&gt;E2\" style=\"stroke: #383838; stroke-width: 1.0;\"/><polygon fill=\"none\" points=\"195.2,167.6,194.79,188.79,181.9,171.97,195.2,167.6\" style=\"stroke: #383838; stroke-width: 1.0;\"/></a><!--MD5=[d9ca5e0395a2fd7e19a6912f9f6d4734]\n",
       "@startuml\r\n",
       "skinparam monochrome true\r\n",
       "skinparam classbackgroundcolor white\r\n",
       "skinparam shadowing false\r\n",
       "skinparam wrapWidth 300\r\n",
       "hide circle\r\n",
       "\r\n",
       "package \"DefaultValueTest\" as E1  [[psysml:e41cdd27-e179-4271-915e-4358fc3ae044 ]]  {\r\n",
       "comp def \"V\" as E2  <<(T,blue) part  def>> [[psysml:95d35419-5cb2-4278-8f59-96945510244a ]] {\r\n",
       "- - attributes - -\r\n",
       "m=default = 10; \r\n",
       "n= 20; \r\n",
       "}\r\n",
       "comp usage \"v1: V \" as E3  <<(T,blue) part>> [[psysml:b8cf69e7-8508-48d3-98c1-1a5aff225283 ]] {\r\n",
       "- - attributes - -\r\n",
       "m= 20; \\n//:>>V::m// \r\n",
       "}\r\n",
       "comp def \"W\" as E4  <<(T,blue) part  def>> [[psysml:75d7f18d-3bb0-43da-8a1f-920414b7c194 ]] {\r\n",
       "- - attributes - -\r\n",
       "m=default = n; \\n//:>>V::m// \r\n",
       "}\r\n",
       "comp usage \"v2 \" as E5  <<(T,blue) part>> [[psysml:1ec49292-f6e0-4564-a681-346e27695197 ]] {\r\n",
       "}\r\n",
       "}\r\n",
       "E3 - -:|> E2 [[psysml:eb47ef55-8727-46f8-948e-289e011721f9 ]] \r\n",
       "E4 - -|> E2 [[psysml:3b658baa-aed2-418d-9cf3-f3993d6dea2d ]] \r\n",
       "@enduml\r\n",
       "\n",
       "PlantUML version 1.2020.13(Sat Jun 13 12:26:38 UTC 2020)\n",
       "(EPL source distribution)\n",
       "Java Runtime: OpenJDK Runtime Environment\n",
       "JVM: OpenJDK 64-Bit Server VM\n",
       "Default Encoding: UTF-8\n",
       "Language: en\n",
       "Country: null\n",
       "--></g></svg>"
      ]
     },
     "execution_count": 37,
     "metadata": {},
     "output_type": "execute_result"
    }
   ],
   "source": [
    "%viz --style=\"DEFAULT\" --view=\"Default\" \"DefaultValueTest\""
   ]
  },
  {
   "cell_type": "code",
   "execution_count": 38,
   "id": "c774d8bb",
   "metadata": {
    "execution": {
     "iopub.execute_input": "2022-07-23T10:55:46.195515Z",
     "iopub.status.busy": "2022-07-23T10:55:46.195017Z",
     "iopub.status.idle": "2022-07-23T10:55:46.271839Z",
     "shell.execute_reply": "2022-07-23T10:55:46.271410Z"
    }
   },
   "outputs": [
    {
     "data": {
      "image/svg+xml": [
       "<?xml version=\"1.0\" encoding=\"UTF-8\" standalone=\"no\"?><svg xmlns=\"http://www.w3.org/2000/svg\" xmlns:xlink=\"http://www.w3.org/1999/xlink\" contentScriptType=\"application/ecmascript\" contentStyleType=\"text/css\" height=\"305px\" preserveAspectRatio=\"none\" style=\"width:349px;height:305px;\" version=\"1.1\" viewBox=\"0 0 349 305\" width=\"349px\" zoomAndPan=\"magnify\"><defs/><g><!--MD5=[fbc87193dbaf4d95561dea2c320d4a47]\n",
       "cluster E1--><a href=\"psysml:e41cdd27-e179-4271-915e-4358fc3ae044\" target=\"_top\" title=\"psysml:e41cdd27-e179-4271-915e-4358fc3ae044\" xlink:actuate=\"onRequest\" xlink:href=\"psysml:e41cdd27-e179-4271-915e-4358fc3ae044\" xlink:show=\"new\" xlink:title=\"psysml:e41cdd27-e179-4271-915e-4358fc3ae044\" xlink:type=\"simple\"><polygon fill=\"#FFFFFF\" points=\"16,6,140,6,147,28.2969,327,28.2969,327,293,16,293,16,6\" style=\"stroke: #000000; stroke-width: 1.5;\"/><line style=\"stroke: #000000; stroke-width: 1.5;\" x1=\"16\" x2=\"147\" y1=\"28.2969\" y2=\"28.2969\"/><text fill=\"#000000\" font-family=\"sans-serif\" font-size=\"14\" font-weight=\"bold\" lengthAdjust=\"spacingAndGlyphs\" textLength=\"118\" x=\"20\" y=\"20.9951\">DefaultValueTest</text></a><!--MD5=[b4997ac47864f28c2f74865a473b2911]\n",
       "class E2--><a href=\"psysml:95d35419-5cb2-4278-8f59-96945510244a\" target=\"_top\" title=\"psysml:95d35419-5cb2-4278-8f59-96945510244a\" xlink:actuate=\"onRequest\" xlink:href=\"psysml:95d35419-5cb2-4278-8f59-96945510244a\" xlink:show=\"new\" xlink:title=\"psysml:95d35419-5cb2-4278-8f59-96945510244a\" xlink:type=\"simple\"><rect fill=\"#FFFFFF\" height=\"88.3516\" id=\"E2\" style=\"stroke: #383838; stroke-width: 1.5;\" width=\"106\" x=\"156\" y=\"189\"/><text fill=\"#000000\" font-family=\"sans-serif\" font-size=\"12\" font-style=\"italic\" lengthAdjust=\"spacingAndGlyphs\" textLength=\"68\" x=\"175\" y=\"205.1387\">«part  def»</text><text fill=\"#000000\" font-family=\"sans-serif\" font-size=\"12\" lengthAdjust=\"spacingAndGlyphs\" textLength=\"8\" x=\"205\" y=\"219.1074\">V</text><line style=\"stroke: #383838; stroke-width: 1.5;\" x1=\"157\" x2=\"261\" y1=\"226.9375\" y2=\"226.9375\"/><text fill=\"#000000\" font-family=\"sans-serif\" font-size=\"11\" lengthAdjust=\"spacingAndGlyphs\" textLength=\"94\" x=\"162\" y=\"257.9526\">m=default = 10;</text><text fill=\"#000000\" font-family=\"sans-serif\" font-size=\"11\" lengthAdjust=\"spacingAndGlyphs\" textLength=\"38\" x=\"162\" y=\"270.7573\">n= 20;</text><line style=\"stroke: #383838; stroke-width: 1.0;\" x1=\"157\" x2=\"181.5\" y1=\"241.3398\" y2=\"241.3398\"/><text fill=\"#000000\" font-family=\"sans-serif\" font-size=\"11\" lengthAdjust=\"spacingAndGlyphs\" textLength=\"55\" x=\"181.5\" y=\"244.6479\">attributes</text><line style=\"stroke: #383838; stroke-width: 1.0;\" x1=\"236.5\" x2=\"261\" y1=\"241.3398\" y2=\"241.3398\"/></a><!--MD5=[09b614a08d8cba4a07c9adeb5e0fee81]\n",
       "class E3--><a href=\"psysml:b8cf69e7-8508-48d3-98c1-1a5aff225283\" target=\"_top\" title=\"psysml:b8cf69e7-8508-48d3-98c1-1a5aff225283\" xlink:actuate=\"onRequest\" xlink:href=\"psysml:b8cf69e7-8508-48d3-98c1-1a5aff225283\" xlink:show=\"new\" xlink:title=\"psysml:b8cf69e7-8508-48d3-98c1-1a5aff225283\" xlink:type=\"simple\"><rect fill=\"#FFFFFF\" height=\"88.3516\" id=\"E3\" rx=\"10\" ry=\"10\" style=\"stroke: #383838; stroke-width: 1.5;\" width=\"63\" x=\"247.5\" y=\"41\"/><text fill=\"#000000\" font-family=\"sans-serif\" font-size=\"12\" font-style=\"italic\" lengthAdjust=\"spacingAndGlyphs\" textLength=\"40\" x=\"259\" y=\"57.1387\">«part»</text><text fill=\"#000000\" font-family=\"sans-serif\" font-size=\"12\" lengthAdjust=\"spacingAndGlyphs\" textLength=\"30\" x=\"262\" y=\"71.1074\">v1: V</text><line style=\"stroke: #383838; stroke-width: 1.5;\" x1=\"248.5\" x2=\"309.5\" y1=\"78.9375\" y2=\"78.9375\"/><text fill=\"#000000\" font-family=\"sans-serif\" font-size=\"11\" lengthAdjust=\"spacingAndGlyphs\" textLength=\"42\" x=\"253.5\" y=\"109.9526\">m= 20;</text><text fill=\"#000000\" font-family=\"sans-serif\" font-size=\"11\" font-style=\"italic\" lengthAdjust=\"spacingAndGlyphs\" textLength=\"48\" x=\"253.5\" y=\"122.7573\">:&gt;&gt;V::m</text><line style=\"stroke: #383838; stroke-width: 1.0;\" x1=\"248.5\" x2=\"251.5\" y1=\"93.3398\" y2=\"93.3398\"/><text fill=\"#000000\" font-family=\"sans-serif\" font-size=\"11\" lengthAdjust=\"spacingAndGlyphs\" textLength=\"55\" x=\"251.5\" y=\"96.6479\">attributes</text><line style=\"stroke: #383838; stroke-width: 1.0;\" x1=\"306.5\" x2=\"309.5\" y1=\"93.3398\" y2=\"93.3398\"/></a><!--MD5=[ebbe1d658d1005bcc118a6aa81145e00]\n",
       "class E4--><a href=\"psysml:75d7f18d-3bb0-43da-8a1f-920414b7c194\" target=\"_top\" title=\"psysml:75d7f18d-3bb0-43da-8a1f-920414b7c194\" xlink:actuate=\"onRequest\" xlink:href=\"psysml:75d7f18d-3bb0-43da-8a1f-920414b7c194\" xlink:show=\"new\" xlink:title=\"psysml:75d7f18d-3bb0-43da-8a1f-920414b7c194\" xlink:type=\"simple\"><rect fill=\"#FFFFFF\" height=\"88.3516\" id=\"E4\" style=\"stroke: #383838; stroke-width: 1.5;\" width=\"103\" x=\"109.5\" y=\"41\"/><text fill=\"#000000\" font-family=\"sans-serif\" font-size=\"12\" font-style=\"italic\" lengthAdjust=\"spacingAndGlyphs\" textLength=\"68\" x=\"127\" y=\"57.1387\">«part  def»</text><text fill=\"#000000\" font-family=\"sans-serif\" font-size=\"12\" lengthAdjust=\"spacingAndGlyphs\" textLength=\"11\" x=\"155.5\" y=\"71.1074\">W</text><line style=\"stroke: #383838; stroke-width: 1.5;\" x1=\"110.5\" x2=\"211.5\" y1=\"78.9375\" y2=\"78.9375\"/><text fill=\"#000000\" font-family=\"sans-serif\" font-size=\"11\" lengthAdjust=\"spacingAndGlyphs\" textLength=\"87\" x=\"115.5\" y=\"109.9526\">m=default = n;</text><text fill=\"#000000\" font-family=\"sans-serif\" font-size=\"11\" font-style=\"italic\" lengthAdjust=\"spacingAndGlyphs\" textLength=\"48\" x=\"115.5\" y=\"122.7573\">:&gt;&gt;V::m</text><line style=\"stroke: #383838; stroke-width: 1.0;\" x1=\"110.5\" x2=\"133.5\" y1=\"93.3398\" y2=\"93.3398\"/><text fill=\"#000000\" font-family=\"sans-serif\" font-size=\"11\" lengthAdjust=\"spacingAndGlyphs\" textLength=\"55\" x=\"133.5\" y=\"96.6479\">attributes</text><line style=\"stroke: #383838; stroke-width: 1.0;\" x1=\"188.5\" x2=\"211.5\" y1=\"93.3398\" y2=\"93.3398\"/></a><!--MD5=[270fce915f116d4de14055a7c1d9a0f3]\n",
       "class E5--><a href=\"psysml:1ec49292-f6e0-4564-a681-346e27695197\" target=\"_top\" title=\"psysml:1ec49292-f6e0-4564-a681-346e27695197\" xlink:actuate=\"onRequest\" xlink:href=\"psysml:1ec49292-f6e0-4564-a681-346e27695197\" xlink:show=\"new\" xlink:title=\"psysml:1ec49292-f6e0-4564-a681-346e27695197\" xlink:type=\"simple\"><rect fill=\"#FFFFFF\" height=\"45.9375\" id=\"E5\" rx=\"10\" ry=\"10\" style=\"stroke: #383838; stroke-width: 1.5;\" width=\"42\" x=\"32\" y=\"62\"/><text fill=\"#000000\" font-family=\"sans-serif\" font-size=\"12\" font-style=\"italic\" lengthAdjust=\"spacingAndGlyphs\" textLength=\"40\" x=\"33\" y=\"78.1387\">«part»</text><text fill=\"#000000\" font-family=\"sans-serif\" font-size=\"12\" lengthAdjust=\"spacingAndGlyphs\" textLength=\"14\" x=\"44\" y=\"92.1074\">v2</text><line style=\"stroke: #383838; stroke-width: 1.5;\" x1=\"33\" x2=\"73\" y1=\"99.9375\" y2=\"99.9375\"/></a><!--MD5=[05d275557350bfb9b23a4ef7222b4c39]\n",
       "link E3 to E2--><a href=\"psysml:eb47ef55-8727-46f8-948e-289e011721f9\" target=\"_top\" title=\"psysml:eb47ef55-8727-46f8-948e-289e011721f9\" xlink:actuate=\"onRequest\" xlink:href=\"psysml:eb47ef55-8727-46f8-948e-289e011721f9\" xlink:show=\"new\" xlink:title=\"psysml:eb47ef55-8727-46f8-948e-289e011721f9\" xlink:type=\"simple\"><path d=\"M258.38,129.02 C252.17,141.97 245.22,156.45 238.55,170.36 \" fill=\"none\" id=\"E3-&gt;E2\" style=\"stroke: #383838; stroke-width: 1.0;\"/><polygon fill=\"#FFFFFF\" points=\"229.72,188.79,231.6151,168.6304,244.2413,174.6786,229.72,188.79\" style=\"stroke: #383838; stroke-width: 1.0;\"/><ellipse cx=\"235.8813\" cy=\"164.3538\" fill=\"#383838\" rx=\"2\" ry=\"2\" style=\"stroke: #383838; stroke-width: 1.0;\"/><ellipse cx=\"244.9\" cy=\"168.6739\" fill=\"#383838\" rx=\"2\" ry=\"2\" style=\"stroke: #383838; stroke-width: 1.0;\"/></a><!--MD5=[185131fc0dcab0a4505a2ebe144e961b]\n",
       "link E4 to E2--><a href=\"psysml:3b658baa-aed2-418d-9cf3-f3993d6dea2d\" target=\"_top\" title=\"psysml:3b658baa-aed2-418d-9cf3-f3993d6dea2d\" xlink:actuate=\"onRequest\" xlink:href=\"psysml:3b658baa-aed2-418d-9cf3-f3993d6dea2d\" xlink:show=\"new\" xlink:title=\"psysml:3b658baa-aed2-418d-9cf3-f3993d6dea2d\" xlink:type=\"simple\"><path d=\"M175.14,129.02 C179.3,141.67 183.94,155.79 188.42,169.41 \" fill=\"none\" id=\"E4-&gt;E2\" style=\"stroke: #383838; stroke-width: 1.0;\"/><polygon fill=\"none\" points=\"195.2,167.6,194.79,188.79,181.9,171.97,195.2,167.6\" style=\"stroke: #383838; stroke-width: 1.0;\"/></a><!--MD5=[d9ca5e0395a2fd7e19a6912f9f6d4734]\n",
       "@startuml\r\n",
       "skinparam monochrome true\r\n",
       "skinparam classbackgroundcolor white\r\n",
       "skinparam shadowing false\r\n",
       "skinparam wrapWidth 300\r\n",
       "hide circle\r\n",
       "\r\n",
       "package \"DefaultValueTest\" as E1  [[psysml:e41cdd27-e179-4271-915e-4358fc3ae044 ]]  {\r\n",
       "comp def \"V\" as E2  <<(T,blue) part  def>> [[psysml:95d35419-5cb2-4278-8f59-96945510244a ]] {\r\n",
       "- - attributes - -\r\n",
       "m=default = 10; \r\n",
       "n= 20; \r\n",
       "}\r\n",
       "comp usage \"v1: V \" as E3  <<(T,blue) part>> [[psysml:b8cf69e7-8508-48d3-98c1-1a5aff225283 ]] {\r\n",
       "- - attributes - -\r\n",
       "m= 20; \\n//:>>V::m// \r\n",
       "}\r\n",
       "comp def \"W\" as E4  <<(T,blue) part  def>> [[psysml:75d7f18d-3bb0-43da-8a1f-920414b7c194 ]] {\r\n",
       "- - attributes - -\r\n",
       "m=default = n; \\n//:>>V::m// \r\n",
       "}\r\n",
       "comp usage \"v2 \" as E5  <<(T,blue) part>> [[psysml:1ec49292-f6e0-4564-a681-346e27695197 ]] {\r\n",
       "}\r\n",
       "}\r\n",
       "E3 - -:|> E2 [[psysml:eb47ef55-8727-46f8-948e-289e011721f9 ]] \r\n",
       "E4 - -|> E2 [[psysml:3b658baa-aed2-418d-9cf3-f3993d6dea2d ]] \r\n",
       "@enduml\r\n",
       "\n",
       "PlantUML version 1.2020.13(Sat Jun 13 12:26:38 UTC 2020)\n",
       "(EPL source distribution)\n",
       "Java Runtime: OpenJDK Runtime Environment\n",
       "JVM: OpenJDK 64-Bit Server VM\n",
       "Default Encoding: UTF-8\n",
       "Language: en\n",
       "Country: null\n",
       "--></g></svg>"
      ]
     },
     "execution_count": 38,
     "metadata": {},
     "output_type": "execute_result"
    }
   ],
   "source": [
    "%viz --style=\"DEFAULT\" --view=\"Tree\" \"DefaultValueTest\""
   ]
  },
  {
   "cell_type": "code",
   "execution_count": 39,
   "id": "4dda76fe",
   "metadata": {
    "execution": {
     "iopub.execute_input": "2022-07-23T10:55:46.321502Z",
     "iopub.status.busy": "2022-07-23T10:55:46.321045Z",
     "iopub.status.idle": "2022-07-23T10:55:46.324829Z",
     "shell.execute_reply": "2022-07-23T10:55:46.325150Z"
    }
   },
   "outputs": [
    {
     "data": {
      "image/svg+xml": [
       "<?xml version=\"1.0\" encoding=\"UTF-8\" standalone=\"no\"?><svg xmlns=\"http://www.w3.org/2000/svg\" xmlns:xlink=\"http://www.w3.org/1999/xlink\" contentScriptType=\"application/ecmascript\" contentStyleType=\"text/css\" height=\"12px\" preserveAspectRatio=\"none\" style=\"width:12px;height:12px;\" version=\"1.1\" viewBox=\"0 0 12 12\" width=\"12px\" zoomAndPan=\"magnify\"><defs/><g><!--MD5=[c5f280e076d0d61ccf4b0f27871bda1d]\n",
       "@startuml\r\n",
       "skinparam monochrome true\r\n",
       "skinparam classbackgroundcolor white\r\n",
       "skinparam shadowing false\r\n",
       "skinparam wrapWidth 300\r\n",
       "hide circle\r\n",
       "\r\n",
       "@enduml\r\n",
       "\n",
       "PlantUML version 1.2020.13(Sat Jun 13 12:26:38 UTC 2020)\n",
       "(EPL source distribution)\n",
       "Java Runtime: OpenJDK Runtime Environment\n",
       "JVM: OpenJDK 64-Bit Server VM\n",
       "Default Encoding: UTF-8\n",
       "Language: en\n",
       "Country: null\n",
       "--></g></svg>"
      ]
     },
     "execution_count": 39,
     "metadata": {},
     "output_type": "execute_result"
    }
   ],
   "source": [
    "%viz --style=\"DEFAULT\" --view=\"State\" \"DefaultValueTest\""
   ]
  },
  {
   "cell_type": "code",
   "execution_count": 40,
   "id": "08abcf6b",
   "metadata": {
    "execution": {
     "iopub.execute_input": "2022-07-23T10:55:46.375196Z",
     "iopub.status.busy": "2022-07-23T10:55:46.374701Z",
     "iopub.status.idle": "2022-07-23T10:55:46.409943Z",
     "shell.execute_reply": "2022-07-23T10:55:46.409526Z"
    }
   },
   "outputs": [
    {
     "data": {
      "image/svg+xml": [
       "<?xml version=\"1.0\" encoding=\"UTF-8\" standalone=\"no\"?><svg xmlns=\"http://www.w3.org/2000/svg\" xmlns:xlink=\"http://www.w3.org/1999/xlink\" contentScriptType=\"application/ecmascript\" contentStyleType=\"text/css\" height=\"399px\" preserveAspectRatio=\"none\" style=\"width:499px;height:399px;\" version=\"1.1\" viewBox=\"0 0 499 399\" width=\"499px\" zoomAndPan=\"magnify\"><defs/><g><!--MD5=[fbc87193dbaf4d95561dea2c320d4a47]\n",
       "cluster E1--><a href=\"psysml:e41cdd27-e179-4271-915e-4358fc3ae044\" target=\"_top\" title=\"psysml:e41cdd27-e179-4271-915e-4358fc3ae044\" xlink:actuate=\"onRequest\" xlink:href=\"psysml:e41cdd27-e179-4271-915e-4358fc3ae044\" xlink:show=\"new\" xlink:title=\"psysml:e41cdd27-e179-4271-915e-4358fc3ae044\" xlink:type=\"simple\"><polygon fill=\"#FFFFFF\" points=\"16,6,140,6,147,28.2969,477,28.2969,477,387,16,387,16,6\" style=\"stroke: #000000; stroke-width: 1.5;\"/><line style=\"stroke: #000000; stroke-width: 1.5;\" x1=\"16\" x2=\"147\" y1=\"28.2969\" y2=\"28.2969\"/><text fill=\"#000000\" font-family=\"sans-serif\" font-size=\"14\" font-weight=\"bold\" lengthAdjust=\"spacingAndGlyphs\" textLength=\"118\" x=\"20\" y=\"20.9951\">DefaultValueTest</text></a><!--MD5=[e4f7fae6ed58524ba242bb0b0d3be6b7]\n",
       "cluster E2--><a href=\"psysml:95d35419-5cb2-4278-8f59-96945510244a\" target=\"_top\" title=\"psysml:95d35419-5cb2-4278-8f59-96945510244a\" xlink:actuate=\"onRequest\" xlink:href=\"psysml:95d35419-5cb2-4278-8f59-96945510244a\" xlink:show=\"new\" xlink:title=\"psysml:95d35419-5cb2-4278-8f59-96945510244a\" xlink:type=\"simple\"><rect fill=\"#FFFFFF\" height=\"129\" id=\"E2\" style=\"stroke: #383838; stroke-width: 1.5;\" width=\"245\" x=\"163\" y=\"226\"/><rect fill=\"#F8F8F8\" height=\"37.9375\" style=\"stroke: #383838; stroke-width: 1.5;\" width=\"245\" x=\"163\" y=\"226\"/><text fill=\"#000000\" font-family=\"sans-serif\" font-size=\"12\" font-style=\"italic\" lengthAdjust=\"spacingAndGlyphs\" textLength=\"68\" x=\"251.5\" y=\"242.1387\">«part  def»</text><text fill=\"#000000\" font-family=\"sans-serif\" font-size=\"12\" lengthAdjust=\"spacingAndGlyphs\" textLength=\"8\" x=\"281.5\" y=\"256.1074\">V</text></a><!--MD5=[de5ec2e2e8f62f467e546659f5068c88]\n",
       "cluster E5--><a href=\"psysml:b8cf69e7-8508-48d3-98c1-1a5aff225283\" target=\"_top\" title=\"psysml:b8cf69e7-8508-48d3-98c1-1a5aff225283\" xlink:actuate=\"onRequest\" xlink:href=\"psysml:b8cf69e7-8508-48d3-98c1-1a5aff225283\" xlink:show=\"new\" xlink:title=\"psysml:b8cf69e7-8508-48d3-98c1-1a5aff225283\" xlink:type=\"simple\"><rect fill=\"#FFFFFF\" height=\"113\" id=\"E5\" rx=\"10\" ry=\"10\" style=\"stroke: #383838; stroke-width: 1.5;\" width=\"139\" x=\"306\" y=\"73\"/><rect fill=\"#F8F8F8\" height=\"23.9688\" rx=\"10\" ry=\"10\" style=\"stroke: #F8F8F8; stroke-width: 1.5;\" width=\"139\" x=\"306\" y=\"73\"/><rect fill=\"#F8F8F8\" height=\"10\" style=\"stroke: #F8F8F8; stroke-width: 1.5;\" width=\"139\" x=\"306\" y=\"86.9688\"/><rect fill=\"none\" height=\"113\" id=\"E5\" rx=\"10\" ry=\"10\" style=\"stroke: #383838; stroke-width: 1.5;\" width=\"139\" x=\"306\" y=\"73\"/><text fill=\"#000000\" font-family=\"sans-serif\" font-size=\"12\" lengthAdjust=\"spacingAndGlyphs\" textLength=\"30\" x=\"360.5\" y=\"89.1387\">v1: V</text><line style=\"stroke: #383838; stroke-width: 1.0;\" x1=\"306\" x2=\"445\" y1=\"96.9688\" y2=\"96.9688\"/></a><!--MD5=[168fadf3d0c3fd93dd5d6da1b1d7ab76]\n",
       "cluster E7--><a href=\"psysml:75d7f18d-3bb0-43da-8a1f-920414b7c194\" target=\"_top\" title=\"psysml:75d7f18d-3bb0-43da-8a1f-920414b7c194\" xlink:actuate=\"onRequest\" xlink:href=\"psysml:75d7f18d-3bb0-43da-8a1f-920414b7c194\" xlink:show=\"new\" xlink:title=\"psysml:75d7f18d-3bb0-43da-8a1f-920414b7c194\" xlink:type=\"simple\"><rect fill=\"#FFFFFF\" height=\"129\" id=\"E7\" style=\"stroke: #383838; stroke-width: 1.5;\" width=\"139\" x=\"127\" y=\"57\"/><rect fill=\"#F8F8F8\" height=\"37.9375\" style=\"stroke: #383838; stroke-width: 1.5;\" width=\"139\" x=\"127\" y=\"57\"/><text fill=\"#000000\" font-family=\"sans-serif\" font-size=\"12\" font-style=\"italic\" lengthAdjust=\"spacingAndGlyphs\" textLength=\"68\" x=\"162.5\" y=\"73.1387\">«part  def»</text><text fill=\"#000000\" font-family=\"sans-serif\" font-size=\"12\" lengthAdjust=\"spacingAndGlyphs\" textLength=\"11\" x=\"191\" y=\"87.1074\">W</text></a><!--MD5=[09b614a08d8cba4a07c9adeb5e0fee81]\n",
       "class E3--><a href=\"psysml:6a54ba7f-e62a-486f-80dd-d9293281f966\" target=\"_top\" title=\"psysml:6a54ba7f-e62a-486f-80dd-d9293281f966\" xlink:actuate=\"onRequest\" xlink:href=\"psysml:6a54ba7f-e62a-486f-80dd-d9293281f966\" xlink:show=\"new\" xlink:title=\"psysml:6a54ba7f-e62a-486f-80dd-d9293281f966\" xlink:type=\"simple\"><rect fill=\"#FFFFFF\" height=\"45.9375\" id=\"E3\" rx=\"10\" ry=\"10\" style=\"stroke: #383838; stroke-width: 1.5;\" width=\"71\" x=\"312.5\" y=\"285\"/><text fill=\"#000000\" font-family=\"sans-serif\" font-size=\"12\" font-style=\"italic\" lengthAdjust=\"spacingAndGlyphs\" textLength=\"69\" x=\"313.5\" y=\"301.1387\">«attribute»</text><text fill=\"#000000\" font-family=\"sans-serif\" font-size=\"12\" lengthAdjust=\"spacingAndGlyphs\" textLength=\"11\" x=\"340.5\" y=\"315.1074\">m</text><line style=\"stroke: #383838; stroke-width: 1.5;\" x1=\"313.5\" x2=\"382.5\" y1=\"322.9375\" y2=\"322.9375\"/></a><!--MD5=[ebbe1d658d1005bcc118a6aa81145e00]\n",
       "class E4--><a href=\"psysml:16f4b3d0-0144-41cb-ad29-b9c3c07c611b\" target=\"_top\" title=\"psysml:16f4b3d0-0144-41cb-ad29-b9c3c07c611b\" xlink:actuate=\"onRequest\" xlink:href=\"psysml:16f4b3d0-0144-41cb-ad29-b9c3c07c611b\" xlink:show=\"new\" xlink:title=\"psysml:16f4b3d0-0144-41cb-ad29-b9c3c07c611b\" xlink:type=\"simple\"><rect fill=\"#FFFFFF\" height=\"45.9375\" id=\"E4\" rx=\"10\" ry=\"10\" style=\"stroke: #383838; stroke-width: 1.5;\" width=\"71\" x=\"206.5\" y=\"285\"/><text fill=\"#000000\" font-family=\"sans-serif\" font-size=\"12\" font-style=\"italic\" lengthAdjust=\"spacingAndGlyphs\" textLength=\"69\" x=\"207.5\" y=\"301.1387\">«attribute»</text><text fill=\"#000000\" font-family=\"sans-serif\" font-size=\"12\" lengthAdjust=\"spacingAndGlyphs\" textLength=\"8\" x=\"236\" y=\"315.1074\">n</text><line style=\"stroke: #383838; stroke-width: 1.5;\" x1=\"207.5\" x2=\"276.5\" y1=\"322.9375\" y2=\"322.9375\"/></a><!--MD5=[60a26617385b1d2d0262a64233df1f8d]\n",
       "class E6--><a href=\"psysml:8ab4ea45-bcef-481a-a1e6-04e630fb5715\" target=\"_top\" title=\"psysml:8ab4ea45-bcef-481a-a1e6-04e630fb5715\" xlink:actuate=\"onRequest\" xlink:href=\"psysml:8ab4ea45-bcef-481a-a1e6-04e630fb5715\" xlink:show=\"new\" xlink:title=\"psysml:8ab4ea45-bcef-481a-a1e6-04e630fb5715\" xlink:type=\"simple\"><rect fill=\"#FFFFFF\" height=\"45.9375\" id=\"E6\" rx=\"10\" ry=\"10\" style=\"stroke: #383838; stroke-width: 1.5;\" width=\"71\" x=\"349.5\" y=\"116\"/><text fill=\"#000000\" font-family=\"sans-serif\" font-size=\"12\" font-style=\"italic\" lengthAdjust=\"spacingAndGlyphs\" textLength=\"69\" x=\"350.5\" y=\"132.1387\">«attribute»</text><text fill=\"#000000\" font-family=\"sans-serif\" font-size=\"12\" lengthAdjust=\"spacingAndGlyphs\" textLength=\"11\" x=\"377.5\" y=\"146.1074\">m</text><line style=\"stroke: #383838; stroke-width: 1.5;\" x1=\"350.5\" x2=\"419.5\" y1=\"153.9375\" y2=\"153.9375\"/></a><!--MD5=[b9389687b975829384b498ac4b7476b2]\n",
       "class E8--><a href=\"psysml:1da3bab2-1d8c-4ebe-95aa-17b6e9277a07\" target=\"_top\" title=\"psysml:1da3bab2-1d8c-4ebe-95aa-17b6e9277a07\" xlink:actuate=\"onRequest\" xlink:href=\"psysml:1da3bab2-1d8c-4ebe-95aa-17b6e9277a07\" xlink:show=\"new\" xlink:title=\"psysml:1da3bab2-1d8c-4ebe-95aa-17b6e9277a07\" xlink:type=\"simple\"><rect fill=\"#FFFFFF\" height=\"45.9375\" id=\"E8\" rx=\"10\" ry=\"10\" style=\"stroke: #383838; stroke-width: 1.5;\" width=\"71\" x=\"170.5\" y=\"116\"/><text fill=\"#000000\" font-family=\"sans-serif\" font-size=\"12\" font-style=\"italic\" lengthAdjust=\"spacingAndGlyphs\" textLength=\"69\" x=\"171.5\" y=\"132.1387\">«attribute»</text><text fill=\"#000000\" font-family=\"sans-serif\" font-size=\"12\" lengthAdjust=\"spacingAndGlyphs\" textLength=\"11\" x=\"198.5\" y=\"146.1074\">m</text><line style=\"stroke: #383838; stroke-width: 1.5;\" x1=\"171.5\" x2=\"240.5\" y1=\"153.9375\" y2=\"153.9375\"/></a><g id=\"E1.E9\"><a href=\"psysml:1ec49292-f6e0-4564-a681-346e27695197\" target=\"_top\" title=\"psysml:1ec49292-f6e0-4564-a681-346e27695197\" xlink:actuate=\"onRequest\" xlink:href=\"psysml:1ec49292-f6e0-4564-a681-346e27695197\" xlink:show=\"new\" xlink:title=\"psysml:1ec49292-f6e0-4564-a681-346e27695197\" xlink:type=\"simple\"><rect fill=\"#FFFFFF\" height=\"40\" id=\"E9\" rx=\"10\" ry=\"10\" style=\"stroke: #383838; stroke-width: 1.5;\" width=\"68\" x=\"32\" y=\"119\"/><rect fill=\"#F8F8F8\" height=\"23.9688\" rx=\"10\" ry=\"10\" style=\"stroke: #F8F8F8; stroke-width: 1.5;\" width=\"68\" x=\"32\" y=\"119\"/><rect fill=\"#F8F8F8\" height=\"10\" style=\"stroke: #F8F8F8; stroke-width: 1.5;\" width=\"68\" x=\"32\" y=\"132.9688\"/><rect fill=\"none\" height=\"40\" id=\"E9\" rx=\"10\" ry=\"10\" style=\"stroke: #383838; stroke-width: 1.5;\" width=\"68\" x=\"32\" y=\"119\"/><text fill=\"#000000\" font-family=\"sans-serif\" font-size=\"12\" lengthAdjust=\"spacingAndGlyphs\" textLength=\"53\" x=\"37.5\" y=\"135.1387\">v2= W();</text></a></g><!--MD5=[a717450b82c80b9240a525fa862496af]\n",
       "link E6 to E3--><a href=\"psysml:df608862-84ce-4303-af6e-5dfc61cbb6d2\" target=\"_top\" title=\"psysml:df608862-84ce-4303-af6e-5dfc61cbb6d2\" xlink:actuate=\"onRequest\" xlink:href=\"psysml:df608862-84ce-4303-af6e-5dfc61cbb6d2\" xlink:show=\"new\" xlink:title=\"psysml:df608862-84ce-4303-af6e-5dfc61cbb6d2\" xlink:type=\"simple\"><path d=\"M380.09,162.18 C374.29,188.33 364.54,232.36 357.3,265.02 \" fill=\"none\" id=\"E6-&gt;E3\" style=\"stroke: #383838; stroke-width: 1.0;\"/><polygon fill=\"#FFFFFF\" points=\"352.87,285,350.1475,264.9354,363.8158,267.965,352.87,285\" style=\"stroke: #383838; stroke-width: 1.0;\"/><line style=\"stroke: #383838; stroke-width: 2.0;\" x1=\"350.9698\" x2=\"364.6381\" y1=\"261.2254\" y2=\"264.2551\"/></a><!--MD5=[15ebcb19ae302d9b601edb458606d402]\n",
       "link E5 to E2--><a href=\"psysml:eb47ef55-8727-46f8-948e-289e011721f9\" target=\"_top\" title=\"psysml:eb47ef55-8727-46f8-948e-289e011721f9\" xlink:actuate=\"onRequest\" xlink:href=\"psysml:eb47ef55-8727-46f8-948e-289e011721f9\" xlink:show=\"new\" xlink:title=\"psysml:eb47ef55-8727-46f8-948e-289e011721f9\" xlink:type=\"simple\"><path d=\"M305.9739,153.5956 C305.9186,153.6814 305.863,153.7674 305.8072,153.8537 C305.6955,154.0263 305.5828,154.2 305.469,154.3747 C305.0139,155.0736 304.5421,155.7894 304.0539,156.52 C302.1011,159.4426 299.8863,162.6028 297.4325,165.8712 C287.6175,178.945 273.98,193.75 258,202 C244.48,208.98 201.16,199.66 190,210 C186.035,213.6737 182.7581,217.912 180.0601,222.5203 C179.7228,223.0963 179.3946,223.6781 179.0752,224.2654 C178.9155,224.559 178.758,224.8539 178.6027,225.1502 C178.5251,225.2983 178.448,225.4468 178.3714,225.5955 \" fill=\"none\" id=\"E5-&gt;E2\" style=\"stroke: #383838; stroke-width: 1.0;\"/><polygon fill=\"#FFFFFF\" points=\"178.3714,225.5955,180.8415,205.4983,193.2898,211.9046,178.3714,225.5955\" style=\"stroke: #383838; stroke-width: 1.0;\"/><ellipse cx=\"185.2281\" cy=\"201.3453\" fill=\"#383838\" rx=\"2\" ry=\"2\" style=\"stroke: #383838; stroke-width: 1.0;\"/><ellipse cx=\"194.1197\" cy=\"205.9212\" fill=\"#383838\" rx=\"2\" ry=\"2\" style=\"stroke: #383838; stroke-width: 1.0;\"/></a><!--MD5=[583832df87f4419a098336a29a52fa00]\n",
       "link E7 to E2--><a href=\"psysml:3b658baa-aed2-418d-9cf3-f3993d6dea2d\" target=\"_top\" title=\"psysml:3b658baa-aed2-418d-9cf3-f3993d6dea2d\" xlink:actuate=\"onRequest\" xlink:href=\"psysml:3b658baa-aed2-418d-9cf3-f3993d6dea2d\" xlink:show=\"new\" xlink:title=\"psysml:3b658baa-aed2-418d-9cf3-f3993d6dea2d\" xlink:type=\"simple\"><path d=\"M145.0817,186.7597 C145.5768,189.0567 146.0819,191.4 146.595,193.7804 C148.6473,203.3019 150.8275,213.4163 153.0075,223.53 C155.1875,233.6438 157.3673,243.7569 159.4191,253.2759 C160.4449,258.0354 161.4388,262.6463 162.3846,267.0345 C162.5028,267.5831 162.6203,268.1281 162.7369,268.6695 C162.7953,268.9403 162.8534,269.2101 162.9114,269.4789 C162.9404,269.6134 162.9693,269.7476 162.9982,269.8816 \" fill=\"none\" id=\"E7-&gt;E2\" style=\"stroke: #383838; stroke-width: 1.0;\"/><polygon fill=\"#FFFFFF\" points=\"162.9982,269.8816,165.8379,249.8332,152.1522,252.7829,162.9982,269.8816\" style=\"stroke: #383838; stroke-width: 1.0;\"/></a><!--MD5=[95fa686b5a16158bcdbcaeead89f639b]\n",
       "link E8 to E3--><a href=\"psysml:d0f3a95a-9489-4833-bd9a-1794072888fe\" target=\"_top\" title=\"psysml:d0f3a95a-9489-4833-bd9a-1794072888fe\" xlink:actuate=\"onRequest\" xlink:href=\"psysml:d0f3a95a-9489-4833-bd9a-1794072888fe\" xlink:show=\"new\" xlink:title=\"psysml:d0f3a95a-9489-4833-bd9a-1794072888fe\" xlink:type=\"simple\"><path d=\"M240.46,162.1 C258.23,174.66 279.38,191.54 295,210 C309.2,226.78 321.3,247.97 330.35,266.26 \" fill=\"none\" id=\"E8-&gt;E3\" style=\"stroke: #383838; stroke-width: 1.0;\"/><polygon fill=\"#FFFFFF\" points=\"338.91,284.62,324.543,270.3516,337.2341,264.441,338.91,284.62\" style=\"stroke: #383838; stroke-width: 1.0;\"/><line style=\"stroke: #383838; stroke-width: 2.0;\" x1=\"322.9387\" x2=\"335.6298\" y1=\"266.9068\" y2=\"260.9963\"/></a><!--MD5=[97c5c8e9e7a7b902de3860546675f2e9]\n",
       "@startuml\r\n",
       "skinparam ranksep 10\r\n",
       "skinparam rectangle {\r\n",
       " backgroundColor<<block>> LightGreen\r\n",
       "}\r\n",
       "skinparam monochrome true\r\n",
       "skinparam classbackgroundcolor white\r\n",
       "skinparam shadowing false\r\n",
       "skinparam wrapWidth 300\r\n",
       "hide circle\r\n",
       "\r\n",
       "package \"DefaultValueTest\" as E1  [[psysml:e41cdd27-e179-4271-915e-4358fc3ae044 ]]  {\r\n",
       "rec def \"V\" as E2  <<(T,blue) part  def>> [[psysml:95d35419-5cb2-4278-8f59-96945510244a ]] {\r\n",
       "comp usage \"m \" as E3  <<(T,blue) attribute>> [[psysml:6a54ba7f-e62a-486f-80dd-d9293281f966 ]] {\r\n",
       "}\r\n",
       "comp usage \"n \" as E4  <<(T,blue) attribute>> [[psysml:16f4b3d0-0144-41cb-ad29-b9c3c07c611b ]] {\r\n",
       "}\r\n",
       "}\r\n",
       "rec usage \"v1: V\" as E5  [[psysml:b8cf69e7-8508-48d3-98c1-1a5aff225283 ]] {\r\n",
       "comp usage \"m \" as E6  <<(T,blue) attribute>> [[psysml:8ab4ea45-bcef-481a-a1e6-04e630fb5715 ]] {\r\n",
       "}\r\n",
       "}\r\n",
       "rec def \"W\" as E7  <<(T,blue) part  def>> [[psysml:75d7f18d-3bb0-43da-8a1f-920414b7c194 ]] {\r\n",
       "comp usage \"m \" as E8  <<(T,blue) attribute>> [[psysml:1da3bab2-1d8c-4ebe-95aa-17b6e9277a07 ]] {\r\n",
       "}\r\n",
       "}\r\n",
       "rec usage \"v2= W(); \" as E9  [[psysml:1ec49292-f6e0-4564-a681-346e27695197 ]] {\r\n",
       "}\r\n",
       "}\r\n",
       "E6 - -||> E3 [[psysml:df608862-84ce-4303-af6e-5dfc61cbb6d2 ]] \r\n",
       "E5 - -:|> E2 [[psysml:eb47ef55-8727-46f8-948e-289e011721f9 ]] \r\n",
       "E7 - -|> E2 [[psysml:3b658baa-aed2-418d-9cf3-f3993d6dea2d ]] \r\n",
       "E8 - -||> E3 [[psysml:d0f3a95a-9489-4833-bd9a-1794072888fe ]] \r\n",
       "@enduml\r\n",
       "\n",
       "PlantUML version 1.2020.13(Sat Jun 13 12:26:38 UTC 2020)\n",
       "(EPL source distribution)\n",
       "Java Runtime: OpenJDK Runtime Environment\n",
       "JVM: OpenJDK 64-Bit Server VM\n",
       "Default Encoding: UTF-8\n",
       "Language: en\n",
       "Country: null\n",
       "--></g></svg>"
      ]
     },
     "execution_count": 40,
     "metadata": {},
     "output_type": "execute_result"
    }
   ],
   "source": [
    "%viz --style=\"DEFAULT\" --view=\"Interconnection\" \"DefaultValueTest\""
   ]
  },
  {
   "cell_type": "code",
   "execution_count": 41,
   "id": "5e45b78a",
   "metadata": {
    "execution": {
     "iopub.execute_input": "2022-07-23T10:55:46.459298Z",
     "iopub.status.busy": "2022-07-23T10:55:46.458824Z",
     "iopub.status.idle": "2022-07-23T10:55:46.461990Z",
     "shell.execute_reply": "2022-07-23T10:55:46.461550Z"
    }
   },
   "outputs": [
    {
     "data": {
      "image/svg+xml": [
       "<?xml version=\"1.0\" encoding=\"UTF-8\" standalone=\"no\"?><svg xmlns=\"http://www.w3.org/2000/svg\" xmlns:xlink=\"http://www.w3.org/1999/xlink\" contentScriptType=\"application/ecmascript\" contentStyleType=\"text/css\" height=\"12px\" preserveAspectRatio=\"none\" style=\"width:12px;height:12px;\" version=\"1.1\" viewBox=\"0 0 12 12\" width=\"12px\" zoomAndPan=\"magnify\"><defs/><g><!--MD5=[388f21188e31bfdd97050473b19af356]\n",
       "@startuml\r\n",
       "skinparam ranksep 8\r\n",
       "skinparam monochrome true\r\n",
       "skinparam classbackgroundcolor white\r\n",
       "skinparam shadowing false\r\n",
       "skinparam wrapWidth 300\r\n",
       "hide circle\r\n",
       "\r\n",
       "@enduml\r\n",
       "\n",
       "PlantUML version 1.2020.13(Sat Jun 13 12:26:38 UTC 2020)\n",
       "(EPL source distribution)\n",
       "Java Runtime: OpenJDK Runtime Environment\n",
       "JVM: OpenJDK 64-Bit Server VM\n",
       "Default Encoding: UTF-8\n",
       "Language: en\n",
       "Country: null\n",
       "--></g></svg>"
      ]
     },
     "execution_count": 41,
     "metadata": {},
     "output_type": "execute_result"
    }
   ],
   "source": [
    "%viz --style=\"DEFAULT\" --view=\"Action\" \"DefaultValueTest\""
   ]
  },
  {
   "cell_type": "code",
   "execution_count": 42,
   "id": "0627ebcf",
   "metadata": {
    "execution": {
     "iopub.execute_input": "2022-07-23T10:55:46.511601Z",
     "iopub.status.busy": "2022-07-23T10:55:46.511116Z",
     "iopub.status.idle": "2022-07-23T10:55:46.514402Z",
     "shell.execute_reply": "2022-07-23T10:55:46.514019Z"
    }
   },
   "outputs": [
    {
     "data": {
      "image/svg+xml": [
       "<?xml version=\"1.0\" encoding=\"UTF-8\" standalone=\"no\"?><svg xmlns=\"http://www.w3.org/2000/svg\" xmlns:xlink=\"http://www.w3.org/1999/xlink\" contentScriptType=\"application/ecmascript\" contentStyleType=\"text/css\" height=\"12px\" preserveAspectRatio=\"none\" style=\"width:12px;height:12px;\" version=\"1.1\" viewBox=\"0 0 12 12\" width=\"12px\" zoomAndPan=\"magnify\"><defs/><g><!--MD5=[0b72472770326784bf6c2b53246e1e64]\n",
       "@startuml\r\n",
       "skinparam roundcorner 20\r\n",
       "skinparam BoxPadding 20\r\n",
       "skinparam SequenceBoxBackgroundColor #white\r\n",
       "skinparam style strictuml\r\n",
       "skinparam maxMessageSize 100\r\n",
       "skinparam monochrome true\r\n",
       "skinparam classbackgroundcolor white\r\n",
       "skinparam shadowing false\r\n",
       "skinparam wrapWidth 300\r\n",
       "hide circle\r\n",
       "\r\n",
       "@enduml\r\n",
       "\n",
       "PlantUML version 1.2020.13(Sat Jun 13 12:26:38 UTC 2020)\n",
       "(EPL source distribution)\n",
       "Java Runtime: OpenJDK Runtime Environment\n",
       "JVM: OpenJDK 64-Bit Server VM\n",
       "Default Encoding: UTF-8\n",
       "Language: en\n",
       "Country: null\n",
       "--></g></svg>"
      ]
     },
     "execution_count": 42,
     "metadata": {},
     "output_type": "execute_result"
    }
   ],
   "source": [
    "%viz --style=\"DEFAULT\" --view=\"Sequence\" \"DefaultValueTest\""
   ]
  },
  {
   "cell_type": "code",
   "execution_count": 43,
   "id": "b9f6b236",
   "metadata": {
    "execution": {
     "iopub.execute_input": "2022-07-23T10:55:46.564060Z",
     "iopub.status.busy": "2022-07-23T10:55:46.563597Z",
     "iopub.status.idle": "2022-07-23T10:55:46.632608Z",
     "shell.execute_reply": "2022-07-23T10:55:46.631142Z"
    }
   },
   "outputs": [
    {
     "data": {
      "image/svg+xml": [
       "<?xml version=\"1.0\" encoding=\"UTF-8\" standalone=\"no\"?><svg xmlns=\"http://www.w3.org/2000/svg\" xmlns:xlink=\"http://www.w3.org/1999/xlink\" contentScriptType=\"application/ecmascript\" contentStyleType=\"text/css\" height=\"305px\" preserveAspectRatio=\"none\" style=\"width:349px;height:305px;\" version=\"1.1\" viewBox=\"0 0 349 305\" width=\"349px\" zoomAndPan=\"magnify\"><defs/><g><!--MD5=[fbc87193dbaf4d95561dea2c320d4a47]\n",
       "cluster E1--><a href=\"psysml:e41cdd27-e179-4271-915e-4358fc3ae044\" target=\"_top\" title=\"psysml:e41cdd27-e179-4271-915e-4358fc3ae044\" xlink:actuate=\"onRequest\" xlink:href=\"psysml:e41cdd27-e179-4271-915e-4358fc3ae044\" xlink:show=\"new\" xlink:title=\"psysml:e41cdd27-e179-4271-915e-4358fc3ae044\" xlink:type=\"simple\"><polygon fill=\"#FFFFFF\" points=\"16,6,140,6,147,28.2969,327,28.2969,327,293,16,293,16,6\" style=\"stroke: #000000; stroke-width: 1.5;\"/><line style=\"stroke: #000000; stroke-width: 1.5;\" x1=\"16\" x2=\"147\" y1=\"28.2969\" y2=\"28.2969\"/><text fill=\"#000000\" font-family=\"sans-serif\" font-size=\"14\" font-weight=\"bold\" lengthAdjust=\"spacingAndGlyphs\" textLength=\"118\" x=\"20\" y=\"20.9951\">DefaultValueTest</text></a><!--MD5=[b4997ac47864f28c2f74865a473b2911]\n",
       "class E2--><a href=\"psysml:95d35419-5cb2-4278-8f59-96945510244a\" target=\"_top\" title=\"psysml:95d35419-5cb2-4278-8f59-96945510244a\" xlink:actuate=\"onRequest\" xlink:href=\"psysml:95d35419-5cb2-4278-8f59-96945510244a\" xlink:show=\"new\" xlink:title=\"psysml:95d35419-5cb2-4278-8f59-96945510244a\" xlink:type=\"simple\"><rect fill=\"#FFFFFF\" height=\"88.3516\" id=\"E2\" style=\"stroke: #383838; stroke-width: 1.5;\" width=\"106\" x=\"156\" y=\"189\"/><text fill=\"#000000\" font-family=\"sans-serif\" font-size=\"12\" font-style=\"italic\" lengthAdjust=\"spacingAndGlyphs\" textLength=\"68\" x=\"175\" y=\"205.1387\">«part  def»</text><text fill=\"#000000\" font-family=\"sans-serif\" font-size=\"12\" lengthAdjust=\"spacingAndGlyphs\" textLength=\"8\" x=\"205\" y=\"219.1074\">V</text><line style=\"stroke: #383838; stroke-width: 1.5;\" x1=\"157\" x2=\"261\" y1=\"226.9375\" y2=\"226.9375\"/><text fill=\"#000000\" font-family=\"sans-serif\" font-size=\"11\" lengthAdjust=\"spacingAndGlyphs\" textLength=\"94\" x=\"162\" y=\"257.9526\">m=default = 10;</text><text fill=\"#000000\" font-family=\"sans-serif\" font-size=\"11\" lengthAdjust=\"spacingAndGlyphs\" textLength=\"38\" x=\"162\" y=\"270.7573\">n= 20;</text><line style=\"stroke: #383838; stroke-width: 1.0;\" x1=\"157\" x2=\"181.5\" y1=\"241.3398\" y2=\"241.3398\"/><text fill=\"#000000\" font-family=\"sans-serif\" font-size=\"11\" lengthAdjust=\"spacingAndGlyphs\" textLength=\"55\" x=\"181.5\" y=\"244.6479\">attributes</text><line style=\"stroke: #383838; stroke-width: 1.0;\" x1=\"236.5\" x2=\"261\" y1=\"241.3398\" y2=\"241.3398\"/></a><!--MD5=[09b614a08d8cba4a07c9adeb5e0fee81]\n",
       "class E3--><a href=\"psysml:b8cf69e7-8508-48d3-98c1-1a5aff225283\" target=\"_top\" title=\"psysml:b8cf69e7-8508-48d3-98c1-1a5aff225283\" xlink:actuate=\"onRequest\" xlink:href=\"psysml:b8cf69e7-8508-48d3-98c1-1a5aff225283\" xlink:show=\"new\" xlink:title=\"psysml:b8cf69e7-8508-48d3-98c1-1a5aff225283\" xlink:type=\"simple\"><rect fill=\"#FFFFFF\" height=\"88.3516\" id=\"E3\" rx=\"10\" ry=\"10\" style=\"stroke: #383838; stroke-width: 1.5;\" width=\"63\" x=\"247.5\" y=\"41\"/><text fill=\"#000000\" font-family=\"sans-serif\" font-size=\"12\" font-style=\"italic\" lengthAdjust=\"spacingAndGlyphs\" textLength=\"40\" x=\"259\" y=\"57.1387\">«part»</text><text fill=\"#000000\" font-family=\"sans-serif\" font-size=\"12\" lengthAdjust=\"spacingAndGlyphs\" textLength=\"30\" x=\"262\" y=\"71.1074\">v1: V</text><line style=\"stroke: #383838; stroke-width: 1.5;\" x1=\"248.5\" x2=\"309.5\" y1=\"78.9375\" y2=\"78.9375\"/><text fill=\"#000000\" font-family=\"sans-serif\" font-size=\"11\" lengthAdjust=\"spacingAndGlyphs\" textLength=\"42\" x=\"253.5\" y=\"109.9526\">m= 20;</text><text fill=\"#000000\" font-family=\"sans-serif\" font-size=\"11\" font-style=\"italic\" lengthAdjust=\"spacingAndGlyphs\" textLength=\"48\" x=\"253.5\" y=\"122.7573\">:&gt;&gt;V::m</text><line style=\"stroke: #383838; stroke-width: 1.0;\" x1=\"248.5\" x2=\"251.5\" y1=\"93.3398\" y2=\"93.3398\"/><text fill=\"#000000\" font-family=\"sans-serif\" font-size=\"11\" lengthAdjust=\"spacingAndGlyphs\" textLength=\"55\" x=\"251.5\" y=\"96.6479\">attributes</text><line style=\"stroke: #383838; stroke-width: 1.0;\" x1=\"306.5\" x2=\"309.5\" y1=\"93.3398\" y2=\"93.3398\"/></a><!--MD5=[ebbe1d658d1005bcc118a6aa81145e00]\n",
       "class E4--><a href=\"psysml:75d7f18d-3bb0-43da-8a1f-920414b7c194\" target=\"_top\" title=\"psysml:75d7f18d-3bb0-43da-8a1f-920414b7c194\" xlink:actuate=\"onRequest\" xlink:href=\"psysml:75d7f18d-3bb0-43da-8a1f-920414b7c194\" xlink:show=\"new\" xlink:title=\"psysml:75d7f18d-3bb0-43da-8a1f-920414b7c194\" xlink:type=\"simple\"><rect fill=\"#FFFFFF\" height=\"88.3516\" id=\"E4\" style=\"stroke: #383838; stroke-width: 1.5;\" width=\"103\" x=\"109.5\" y=\"41\"/><text fill=\"#000000\" font-family=\"sans-serif\" font-size=\"12\" font-style=\"italic\" lengthAdjust=\"spacingAndGlyphs\" textLength=\"68\" x=\"127\" y=\"57.1387\">«part  def»</text><text fill=\"#000000\" font-family=\"sans-serif\" font-size=\"12\" lengthAdjust=\"spacingAndGlyphs\" textLength=\"11\" x=\"155.5\" y=\"71.1074\">W</text><line style=\"stroke: #383838; stroke-width: 1.5;\" x1=\"110.5\" x2=\"211.5\" y1=\"78.9375\" y2=\"78.9375\"/><text fill=\"#000000\" font-family=\"sans-serif\" font-size=\"11\" lengthAdjust=\"spacingAndGlyphs\" textLength=\"87\" x=\"115.5\" y=\"109.9526\">m=default = n;</text><text fill=\"#000000\" font-family=\"sans-serif\" font-size=\"11\" font-style=\"italic\" lengthAdjust=\"spacingAndGlyphs\" textLength=\"48\" x=\"115.5\" y=\"122.7573\">:&gt;&gt;V::m</text><line style=\"stroke: #383838; stroke-width: 1.0;\" x1=\"110.5\" x2=\"133.5\" y1=\"93.3398\" y2=\"93.3398\"/><text fill=\"#000000\" font-family=\"sans-serif\" font-size=\"11\" lengthAdjust=\"spacingAndGlyphs\" textLength=\"55\" x=\"133.5\" y=\"96.6479\">attributes</text><line style=\"stroke: #383838; stroke-width: 1.0;\" x1=\"188.5\" x2=\"211.5\" y1=\"93.3398\" y2=\"93.3398\"/></a><!--MD5=[270fce915f116d4de14055a7c1d9a0f3]\n",
       "class E5--><a href=\"psysml:1ec49292-f6e0-4564-a681-346e27695197\" target=\"_top\" title=\"psysml:1ec49292-f6e0-4564-a681-346e27695197\" xlink:actuate=\"onRequest\" xlink:href=\"psysml:1ec49292-f6e0-4564-a681-346e27695197\" xlink:show=\"new\" xlink:title=\"psysml:1ec49292-f6e0-4564-a681-346e27695197\" xlink:type=\"simple\"><rect fill=\"#FFFFFF\" height=\"45.9375\" id=\"E5\" rx=\"10\" ry=\"10\" style=\"stroke: #383838; stroke-width: 1.5;\" width=\"42\" x=\"32\" y=\"62\"/><text fill=\"#000000\" font-family=\"sans-serif\" font-size=\"12\" font-style=\"italic\" lengthAdjust=\"spacingAndGlyphs\" textLength=\"40\" x=\"33\" y=\"78.1387\">«part»</text><text fill=\"#000000\" font-family=\"sans-serif\" font-size=\"12\" lengthAdjust=\"spacingAndGlyphs\" textLength=\"14\" x=\"44\" y=\"92.1074\">v2</text><line style=\"stroke: #383838; stroke-width: 1.5;\" x1=\"33\" x2=\"73\" y1=\"99.9375\" y2=\"99.9375\"/></a><!--MD5=[05d275557350bfb9b23a4ef7222b4c39]\n",
       "link E3 to E2--><a href=\"psysml:eb47ef55-8727-46f8-948e-289e011721f9\" target=\"_top\" title=\"psysml:eb47ef55-8727-46f8-948e-289e011721f9\" xlink:actuate=\"onRequest\" xlink:href=\"psysml:eb47ef55-8727-46f8-948e-289e011721f9\" xlink:show=\"new\" xlink:title=\"psysml:eb47ef55-8727-46f8-948e-289e011721f9\" xlink:type=\"simple\"><path d=\"M258.38,129.02 C252.17,141.97 245.22,156.45 238.55,170.36 \" fill=\"none\" id=\"E3-&gt;E2\" style=\"stroke: #383838; stroke-width: 1.0;\"/><polygon fill=\"#FFFFFF\" points=\"229.72,188.79,231.6151,168.6304,244.2413,174.6786,229.72,188.79\" style=\"stroke: #383838; stroke-width: 1.0;\"/><ellipse cx=\"235.8813\" cy=\"164.3538\" fill=\"#383838\" rx=\"2\" ry=\"2\" style=\"stroke: #383838; stroke-width: 1.0;\"/><ellipse cx=\"244.9\" cy=\"168.6739\" fill=\"#383838\" rx=\"2\" ry=\"2\" style=\"stroke: #383838; stroke-width: 1.0;\"/></a><!--MD5=[185131fc0dcab0a4505a2ebe144e961b]\n",
       "link E4 to E2--><a href=\"psysml:3b658baa-aed2-418d-9cf3-f3993d6dea2d\" target=\"_top\" title=\"psysml:3b658baa-aed2-418d-9cf3-f3993d6dea2d\" xlink:actuate=\"onRequest\" xlink:href=\"psysml:3b658baa-aed2-418d-9cf3-f3993d6dea2d\" xlink:show=\"new\" xlink:title=\"psysml:3b658baa-aed2-418d-9cf3-f3993d6dea2d\" xlink:type=\"simple\"><path d=\"M175.14,129.02 C179.3,141.67 183.94,155.79 188.42,169.41 \" fill=\"none\" id=\"E4-&gt;E2\" style=\"stroke: #383838; stroke-width: 1.0;\"/><polygon fill=\"none\" points=\"195.2,167.6,194.79,188.79,181.9,171.97,195.2,167.6\" style=\"stroke: #383838; stroke-width: 1.0;\"/></a><!--MD5=[d9ca5e0395a2fd7e19a6912f9f6d4734]\n",
       "@startuml\r\n",
       "skinparam monochrome true\r\n",
       "skinparam classbackgroundcolor white\r\n",
       "skinparam shadowing false\r\n",
       "skinparam wrapWidth 300\r\n",
       "hide circle\r\n",
       "\r\n",
       "package \"DefaultValueTest\" as E1  [[psysml:e41cdd27-e179-4271-915e-4358fc3ae044 ]]  {\r\n",
       "comp def \"V\" as E2  <<(T,blue) part  def>> [[psysml:95d35419-5cb2-4278-8f59-96945510244a ]] {\r\n",
       "- - attributes - -\r\n",
       "m=default = 10; \r\n",
       "n= 20; \r\n",
       "}\r\n",
       "comp usage \"v1: V \" as E3  <<(T,blue) part>> [[psysml:b8cf69e7-8508-48d3-98c1-1a5aff225283 ]] {\r\n",
       "- - attributes - -\r\n",
       "m= 20; \\n//:>>V::m// \r\n",
       "}\r\n",
       "comp def \"W\" as E4  <<(T,blue) part  def>> [[psysml:75d7f18d-3bb0-43da-8a1f-920414b7c194 ]] {\r\n",
       "- - attributes - -\r\n",
       "m=default = n; \\n//:>>V::m// \r\n",
       "}\r\n",
       "comp usage \"v2 \" as E5  <<(T,blue) part>> [[psysml:1ec49292-f6e0-4564-a681-346e27695197 ]] {\r\n",
       "}\r\n",
       "}\r\n",
       "E3 - -:|> E2 [[psysml:eb47ef55-8727-46f8-948e-289e011721f9 ]] \r\n",
       "E4 - -|> E2 [[psysml:3b658baa-aed2-418d-9cf3-f3993d6dea2d ]] \r\n",
       "@enduml\r\n",
       "\n",
       "PlantUML version 1.2020.13(Sat Jun 13 12:26:38 UTC 2020)\n",
       "(EPL source distribution)\n",
       "Java Runtime: OpenJDK Runtime Environment\n",
       "JVM: OpenJDK 64-Bit Server VM\n",
       "Default Encoding: UTF-8\n",
       "Language: en\n",
       "Country: null\n",
       "--></g></svg>"
      ]
     },
     "execution_count": 43,
     "metadata": {},
     "output_type": "execute_result"
    }
   ],
   "source": [
    "%viz --style=\"DEFAULT\" --view=\"MIXED\" \"DefaultValueTest\""
   ]
  },
  {
   "cell_type": "code",
   "execution_count": 44,
   "id": "d97adf01",
   "metadata": {
    "execution": {
     "iopub.execute_input": "2022-07-23T10:55:46.682208Z",
     "iopub.status.busy": "2022-07-23T10:55:46.681694Z",
     "iopub.status.idle": "2022-07-23T10:55:46.747844Z",
     "shell.execute_reply": "2022-07-23T10:55:46.745944Z"
    }
   },
   "outputs": [
    {
     "data": {
      "image/svg+xml": [
       "<?xml version=\"1.0\" encoding=\"UTF-8\" standalone=\"no\"?><svg xmlns=\"http://www.w3.org/2000/svg\" xmlns:xlink=\"http://www.w3.org/1999/xlink\" contentScriptType=\"application/ecmascript\" contentStyleType=\"text/css\" height=\"305px\" preserveAspectRatio=\"none\" style=\"width:349px;height:305px;\" version=\"1.1\" viewBox=\"0 0 349 305\" width=\"349px\" zoomAndPan=\"magnify\"><defs/><g><!--MD5=[fbc87193dbaf4d95561dea2c320d4a47]\n",
       "cluster E1--><a href=\"psysml:e41cdd27-e179-4271-915e-4358fc3ae044\" target=\"_top\" title=\"psysml:e41cdd27-e179-4271-915e-4358fc3ae044\" xlink:actuate=\"onRequest\" xlink:href=\"psysml:e41cdd27-e179-4271-915e-4358fc3ae044\" xlink:show=\"new\" xlink:title=\"psysml:e41cdd27-e179-4271-915e-4358fc3ae044\" xlink:type=\"simple\"><polygon fill=\"#FFFFFF\" points=\"16,6,140,6,147,28.2969,327,28.2969,327,293,16,293,16,6\" style=\"stroke: #000000; stroke-width: 1.5;\"/><line style=\"stroke: #000000; stroke-width: 1.5;\" x1=\"16\" x2=\"147\" y1=\"28.2969\" y2=\"28.2969\"/><text fill=\"#000000\" font-family=\"sans-serif\" font-size=\"14\" font-weight=\"bold\" lengthAdjust=\"spacingAndGlyphs\" textLength=\"118\" x=\"20\" y=\"20.9951\">DefaultValueTest</text></a><!--MD5=[b4997ac47864f28c2f74865a473b2911]\n",
       "class E2--><a href=\"psysml:95d35419-5cb2-4278-8f59-96945510244a\" target=\"_top\" title=\"psysml:95d35419-5cb2-4278-8f59-96945510244a\" xlink:actuate=\"onRequest\" xlink:href=\"psysml:95d35419-5cb2-4278-8f59-96945510244a\" xlink:show=\"new\" xlink:title=\"psysml:95d35419-5cb2-4278-8f59-96945510244a\" xlink:type=\"simple\"><rect fill=\"#FFFFFF\" height=\"88.3516\" id=\"E2\" style=\"stroke: #383838; stroke-width: 1.5;\" width=\"106\" x=\"156\" y=\"189\"/><text fill=\"#000000\" font-family=\"sans-serif\" font-size=\"12\" font-style=\"italic\" lengthAdjust=\"spacingAndGlyphs\" textLength=\"68\" x=\"175\" y=\"205.1387\">«part  def»</text><text fill=\"#000000\" font-family=\"sans-serif\" font-size=\"12\" lengthAdjust=\"spacingAndGlyphs\" textLength=\"8\" x=\"205\" y=\"219.1074\">V</text><line style=\"stroke: #383838; stroke-width: 1.5;\" x1=\"157\" x2=\"261\" y1=\"226.9375\" y2=\"226.9375\"/><text fill=\"#000000\" font-family=\"sans-serif\" font-size=\"11\" lengthAdjust=\"spacingAndGlyphs\" textLength=\"94\" x=\"162\" y=\"257.9526\">m=default = 10;</text><text fill=\"#000000\" font-family=\"sans-serif\" font-size=\"11\" lengthAdjust=\"spacingAndGlyphs\" textLength=\"38\" x=\"162\" y=\"270.7573\">n= 20;</text><line style=\"stroke: #383838; stroke-width: 1.0;\" x1=\"157\" x2=\"181.5\" y1=\"241.3398\" y2=\"241.3398\"/><text fill=\"#000000\" font-family=\"sans-serif\" font-size=\"11\" lengthAdjust=\"spacingAndGlyphs\" textLength=\"55\" x=\"181.5\" y=\"244.6479\">attributes</text><line style=\"stroke: #383838; stroke-width: 1.0;\" x1=\"236.5\" x2=\"261\" y1=\"241.3398\" y2=\"241.3398\"/></a><!--MD5=[09b614a08d8cba4a07c9adeb5e0fee81]\n",
       "class E3--><a href=\"psysml:b8cf69e7-8508-48d3-98c1-1a5aff225283\" target=\"_top\" title=\"psysml:b8cf69e7-8508-48d3-98c1-1a5aff225283\" xlink:actuate=\"onRequest\" xlink:href=\"psysml:b8cf69e7-8508-48d3-98c1-1a5aff225283\" xlink:show=\"new\" xlink:title=\"psysml:b8cf69e7-8508-48d3-98c1-1a5aff225283\" xlink:type=\"simple\"><rect fill=\"#FFFFFF\" height=\"88.3516\" id=\"E3\" rx=\"10\" ry=\"10\" style=\"stroke: #383838; stroke-width: 1.5;\" width=\"63\" x=\"247.5\" y=\"41\"/><text fill=\"#000000\" font-family=\"sans-serif\" font-size=\"12\" font-style=\"italic\" lengthAdjust=\"spacingAndGlyphs\" textLength=\"40\" x=\"259\" y=\"57.1387\">«part»</text><text fill=\"#000000\" font-family=\"sans-serif\" font-size=\"12\" lengthAdjust=\"spacingAndGlyphs\" textLength=\"30\" x=\"262\" y=\"71.1074\">v1: V</text><line style=\"stroke: #383838; stroke-width: 1.5;\" x1=\"248.5\" x2=\"309.5\" y1=\"78.9375\" y2=\"78.9375\"/><text fill=\"#000000\" font-family=\"sans-serif\" font-size=\"11\" lengthAdjust=\"spacingAndGlyphs\" textLength=\"42\" x=\"253.5\" y=\"109.9526\">m= 20;</text><text fill=\"#000000\" font-family=\"sans-serif\" font-size=\"11\" font-style=\"italic\" lengthAdjust=\"spacingAndGlyphs\" textLength=\"48\" x=\"253.5\" y=\"122.7573\">:&gt;&gt;V::m</text><line style=\"stroke: #383838; stroke-width: 1.0;\" x1=\"248.5\" x2=\"251.5\" y1=\"93.3398\" y2=\"93.3398\"/><text fill=\"#000000\" font-family=\"sans-serif\" font-size=\"11\" lengthAdjust=\"spacingAndGlyphs\" textLength=\"55\" x=\"251.5\" y=\"96.6479\">attributes</text><line style=\"stroke: #383838; stroke-width: 1.0;\" x1=\"306.5\" x2=\"309.5\" y1=\"93.3398\" y2=\"93.3398\"/></a><!--MD5=[ebbe1d658d1005bcc118a6aa81145e00]\n",
       "class E4--><a href=\"psysml:75d7f18d-3bb0-43da-8a1f-920414b7c194\" target=\"_top\" title=\"psysml:75d7f18d-3bb0-43da-8a1f-920414b7c194\" xlink:actuate=\"onRequest\" xlink:href=\"psysml:75d7f18d-3bb0-43da-8a1f-920414b7c194\" xlink:show=\"new\" xlink:title=\"psysml:75d7f18d-3bb0-43da-8a1f-920414b7c194\" xlink:type=\"simple\"><rect fill=\"#FFFFFF\" height=\"88.3516\" id=\"E4\" style=\"stroke: #383838; stroke-width: 1.5;\" width=\"103\" x=\"109.5\" y=\"41\"/><text fill=\"#000000\" font-family=\"sans-serif\" font-size=\"12\" font-style=\"italic\" lengthAdjust=\"spacingAndGlyphs\" textLength=\"68\" x=\"127\" y=\"57.1387\">«part  def»</text><text fill=\"#000000\" font-family=\"sans-serif\" font-size=\"12\" lengthAdjust=\"spacingAndGlyphs\" textLength=\"11\" x=\"155.5\" y=\"71.1074\">W</text><line style=\"stroke: #383838; stroke-width: 1.5;\" x1=\"110.5\" x2=\"211.5\" y1=\"78.9375\" y2=\"78.9375\"/><text fill=\"#000000\" font-family=\"sans-serif\" font-size=\"11\" lengthAdjust=\"spacingAndGlyphs\" textLength=\"87\" x=\"115.5\" y=\"109.9526\">m=default = n;</text><text fill=\"#000000\" font-family=\"sans-serif\" font-size=\"11\" font-style=\"italic\" lengthAdjust=\"spacingAndGlyphs\" textLength=\"48\" x=\"115.5\" y=\"122.7573\">:&gt;&gt;V::m</text><line style=\"stroke: #383838; stroke-width: 1.0;\" x1=\"110.5\" x2=\"133.5\" y1=\"93.3398\" y2=\"93.3398\"/><text fill=\"#000000\" font-family=\"sans-serif\" font-size=\"11\" lengthAdjust=\"spacingAndGlyphs\" textLength=\"55\" x=\"133.5\" y=\"96.6479\">attributes</text><line style=\"stroke: #383838; stroke-width: 1.0;\" x1=\"188.5\" x2=\"211.5\" y1=\"93.3398\" y2=\"93.3398\"/></a><!--MD5=[270fce915f116d4de14055a7c1d9a0f3]\n",
       "class E5--><a href=\"psysml:1ec49292-f6e0-4564-a681-346e27695197\" target=\"_top\" title=\"psysml:1ec49292-f6e0-4564-a681-346e27695197\" xlink:actuate=\"onRequest\" xlink:href=\"psysml:1ec49292-f6e0-4564-a681-346e27695197\" xlink:show=\"new\" xlink:title=\"psysml:1ec49292-f6e0-4564-a681-346e27695197\" xlink:type=\"simple\"><rect fill=\"#FFFFFF\" height=\"45.9375\" id=\"E5\" rx=\"10\" ry=\"10\" style=\"stroke: #383838; stroke-width: 1.5;\" width=\"42\" x=\"32\" y=\"62\"/><text fill=\"#000000\" font-family=\"sans-serif\" font-size=\"12\" font-style=\"italic\" lengthAdjust=\"spacingAndGlyphs\" textLength=\"40\" x=\"33\" y=\"78.1387\">«part»</text><text fill=\"#000000\" font-family=\"sans-serif\" font-size=\"12\" lengthAdjust=\"spacingAndGlyphs\" textLength=\"14\" x=\"44\" y=\"92.1074\">v2</text><line style=\"stroke: #383838; stroke-width: 1.5;\" x1=\"33\" x2=\"73\" y1=\"99.9375\" y2=\"99.9375\"/></a><!--MD5=[05d275557350bfb9b23a4ef7222b4c39]\n",
       "link E3 to E2--><a href=\"psysml:eb47ef55-8727-46f8-948e-289e011721f9\" target=\"_top\" title=\"psysml:eb47ef55-8727-46f8-948e-289e011721f9\" xlink:actuate=\"onRequest\" xlink:href=\"psysml:eb47ef55-8727-46f8-948e-289e011721f9\" xlink:show=\"new\" xlink:title=\"psysml:eb47ef55-8727-46f8-948e-289e011721f9\" xlink:type=\"simple\"><path d=\"M258.38,129.02 C252.17,141.97 245.22,156.45 238.55,170.36 \" fill=\"none\" id=\"E3-&gt;E2\" style=\"stroke: #383838; stroke-width: 1.0;\"/><polygon fill=\"#FFFFFF\" points=\"229.72,188.79,231.6151,168.6304,244.2413,174.6786,229.72,188.79\" style=\"stroke: #383838; stroke-width: 1.0;\"/><ellipse cx=\"235.8813\" cy=\"164.3538\" fill=\"#383838\" rx=\"2\" ry=\"2\" style=\"stroke: #383838; stroke-width: 1.0;\"/><ellipse cx=\"244.9\" cy=\"168.6739\" fill=\"#383838\" rx=\"2\" ry=\"2\" style=\"stroke: #383838; stroke-width: 1.0;\"/></a><!--MD5=[185131fc0dcab0a4505a2ebe144e961b]\n",
       "link E4 to E2--><a href=\"psysml:3b658baa-aed2-418d-9cf3-f3993d6dea2d\" target=\"_top\" title=\"psysml:3b658baa-aed2-418d-9cf3-f3993d6dea2d\" xlink:actuate=\"onRequest\" xlink:href=\"psysml:3b658baa-aed2-418d-9cf3-f3993d6dea2d\" xlink:show=\"new\" xlink:title=\"psysml:3b658baa-aed2-418d-9cf3-f3993d6dea2d\" xlink:type=\"simple\"><path d=\"M175.14,129.02 C179.3,141.67 183.94,155.79 188.42,169.41 \" fill=\"none\" id=\"E4-&gt;E2\" style=\"stroke: #383838; stroke-width: 1.0;\"/><polygon fill=\"none\" points=\"195.2,167.6,194.79,188.79,181.9,171.97,195.2,167.6\" style=\"stroke: #383838; stroke-width: 1.0;\"/></a><!--MD5=[714d02b783917ba4ad3a887fb1abdc8e]\n",
       "@startuml\r\n",
       "top to bottom direction\r\n",
       "skinparam monochrome true\r\n",
       "skinparam classbackgroundcolor white\r\n",
       "skinparam shadowing false\r\n",
       "skinparam wrapWidth 300\r\n",
       "hide circle\r\n",
       "\r\n",
       "package \"DefaultValueTest\" as E1  [[psysml:e41cdd27-e179-4271-915e-4358fc3ae044 ]]  {\r\n",
       "comp def \"V\" as E2  <<(T,blue) part  def>> [[psysml:95d35419-5cb2-4278-8f59-96945510244a ]] {\r\n",
       "- - attributes - -\r\n",
       "m=default = 10; \r\n",
       "n= 20; \r\n",
       "}\r\n",
       "comp usage \"v1: V \" as E3  <<(T,blue) part>> [[psysml:b8cf69e7-8508-48d3-98c1-1a5aff225283 ]] {\r\n",
       "- - attributes - -\r\n",
       "m= 20; \\n//:>>V::m// \r\n",
       "}\r\n",
       "comp def \"W\" as E4  <<(T,blue) part  def>> [[psysml:75d7f18d-3bb0-43da-8a1f-920414b7c194 ]] {\r\n",
       "- - attributes - -\r\n",
       "m=default = n; \\n//:>>V::m// \r\n",
       "}\r\n",
       "comp usage \"v2 \" as E5  <<(T,blue) part>> [[psysml:1ec49292-f6e0-4564-a681-346e27695197 ]] {\r\n",
       "}\r\n",
       "}\r\n",
       "E3 - -:|> E2 [[psysml:eb47ef55-8727-46f8-948e-289e011721f9 ]] \r\n",
       "E4 - -|> E2 [[psysml:3b658baa-aed2-418d-9cf3-f3993d6dea2d ]] \r\n",
       "@enduml\r\n",
       "\n",
       "PlantUML version 1.2020.13(Sat Jun 13 12:26:38 UTC 2020)\n",
       "(EPL source distribution)\n",
       "Java Runtime: OpenJDK Runtime Environment\n",
       "JVM: OpenJDK 64-Bit Server VM\n",
       "Default Encoding: UTF-8\n",
       "Language: en\n",
       "Country: null\n",
       "--></g></svg>"
      ]
     },
     "execution_count": 44,
     "metadata": {},
     "output_type": "execute_result"
    }
   ],
   "source": [
    "%viz --style=\"TB\" --view=\"Default\" \"DefaultValueTest\""
   ]
  },
  {
   "cell_type": "code",
   "execution_count": 45,
   "id": "74729bc7",
   "metadata": {
    "execution": {
     "iopub.execute_input": "2022-07-23T10:55:46.796702Z",
     "iopub.status.busy": "2022-07-23T10:55:46.796203Z",
     "iopub.status.idle": "2022-07-23T10:55:46.876974Z",
     "shell.execute_reply": "2022-07-23T10:55:46.875325Z"
    }
   },
   "outputs": [
    {
     "data": {
      "image/svg+xml": [
       "<?xml version=\"1.0\" encoding=\"UTF-8\" standalone=\"no\"?><svg xmlns=\"http://www.w3.org/2000/svg\" xmlns:xlink=\"http://www.w3.org/1999/xlink\" contentScriptType=\"application/ecmascript\" contentStyleType=\"text/css\" height=\"305px\" preserveAspectRatio=\"none\" style=\"width:349px;height:305px;\" version=\"1.1\" viewBox=\"0 0 349 305\" width=\"349px\" zoomAndPan=\"magnify\"><defs/><g><!--MD5=[fbc87193dbaf4d95561dea2c320d4a47]\n",
       "cluster E1--><a href=\"psysml:e41cdd27-e179-4271-915e-4358fc3ae044\" target=\"_top\" title=\"psysml:e41cdd27-e179-4271-915e-4358fc3ae044\" xlink:actuate=\"onRequest\" xlink:href=\"psysml:e41cdd27-e179-4271-915e-4358fc3ae044\" xlink:show=\"new\" xlink:title=\"psysml:e41cdd27-e179-4271-915e-4358fc3ae044\" xlink:type=\"simple\"><polygon fill=\"#FFFFFF\" points=\"16,6,140,6,147,28.2969,327,28.2969,327,293,16,293,16,6\" style=\"stroke: #000000; stroke-width: 1.5;\"/><line style=\"stroke: #000000; stroke-width: 1.5;\" x1=\"16\" x2=\"147\" y1=\"28.2969\" y2=\"28.2969\"/><text fill=\"#000000\" font-family=\"sans-serif\" font-size=\"14\" font-weight=\"bold\" lengthAdjust=\"spacingAndGlyphs\" textLength=\"118\" x=\"20\" y=\"20.9951\">DefaultValueTest</text></a><!--MD5=[b4997ac47864f28c2f74865a473b2911]\n",
       "class E2--><a href=\"psysml:95d35419-5cb2-4278-8f59-96945510244a\" target=\"_top\" title=\"psysml:95d35419-5cb2-4278-8f59-96945510244a\" xlink:actuate=\"onRequest\" xlink:href=\"psysml:95d35419-5cb2-4278-8f59-96945510244a\" xlink:show=\"new\" xlink:title=\"psysml:95d35419-5cb2-4278-8f59-96945510244a\" xlink:type=\"simple\"><rect fill=\"#FFFFFF\" height=\"88.3516\" id=\"E2\" style=\"stroke: #383838; stroke-width: 1.5;\" width=\"106\" x=\"156\" y=\"189\"/><text fill=\"#000000\" font-family=\"sans-serif\" font-size=\"12\" font-style=\"italic\" lengthAdjust=\"spacingAndGlyphs\" textLength=\"68\" x=\"175\" y=\"205.1387\">«part  def»</text><text fill=\"#000000\" font-family=\"sans-serif\" font-size=\"12\" lengthAdjust=\"spacingAndGlyphs\" textLength=\"8\" x=\"205\" y=\"219.1074\">V</text><line style=\"stroke: #383838; stroke-width: 1.5;\" x1=\"157\" x2=\"261\" y1=\"226.9375\" y2=\"226.9375\"/><text fill=\"#000000\" font-family=\"sans-serif\" font-size=\"11\" lengthAdjust=\"spacingAndGlyphs\" textLength=\"94\" x=\"162\" y=\"257.9526\">m=default = 10;</text><text fill=\"#000000\" font-family=\"sans-serif\" font-size=\"11\" lengthAdjust=\"spacingAndGlyphs\" textLength=\"38\" x=\"162\" y=\"270.7573\">n= 20;</text><line style=\"stroke: #383838; stroke-width: 1.0;\" x1=\"157\" x2=\"181.5\" y1=\"241.3398\" y2=\"241.3398\"/><text fill=\"#000000\" font-family=\"sans-serif\" font-size=\"11\" lengthAdjust=\"spacingAndGlyphs\" textLength=\"55\" x=\"181.5\" y=\"244.6479\">attributes</text><line style=\"stroke: #383838; stroke-width: 1.0;\" x1=\"236.5\" x2=\"261\" y1=\"241.3398\" y2=\"241.3398\"/></a><!--MD5=[09b614a08d8cba4a07c9adeb5e0fee81]\n",
       "class E3--><a href=\"psysml:b8cf69e7-8508-48d3-98c1-1a5aff225283\" target=\"_top\" title=\"psysml:b8cf69e7-8508-48d3-98c1-1a5aff225283\" xlink:actuate=\"onRequest\" xlink:href=\"psysml:b8cf69e7-8508-48d3-98c1-1a5aff225283\" xlink:show=\"new\" xlink:title=\"psysml:b8cf69e7-8508-48d3-98c1-1a5aff225283\" xlink:type=\"simple\"><rect fill=\"#FFFFFF\" height=\"88.3516\" id=\"E3\" rx=\"10\" ry=\"10\" style=\"stroke: #383838; stroke-width: 1.5;\" width=\"63\" x=\"247.5\" y=\"41\"/><text fill=\"#000000\" font-family=\"sans-serif\" font-size=\"12\" font-style=\"italic\" lengthAdjust=\"spacingAndGlyphs\" textLength=\"40\" x=\"259\" y=\"57.1387\">«part»</text><text fill=\"#000000\" font-family=\"sans-serif\" font-size=\"12\" lengthAdjust=\"spacingAndGlyphs\" textLength=\"30\" x=\"262\" y=\"71.1074\">v1: V</text><line style=\"stroke: #383838; stroke-width: 1.5;\" x1=\"248.5\" x2=\"309.5\" y1=\"78.9375\" y2=\"78.9375\"/><text fill=\"#000000\" font-family=\"sans-serif\" font-size=\"11\" lengthAdjust=\"spacingAndGlyphs\" textLength=\"42\" x=\"253.5\" y=\"109.9526\">m= 20;</text><text fill=\"#000000\" font-family=\"sans-serif\" font-size=\"11\" font-style=\"italic\" lengthAdjust=\"spacingAndGlyphs\" textLength=\"48\" x=\"253.5\" y=\"122.7573\">:&gt;&gt;V::m</text><line style=\"stroke: #383838; stroke-width: 1.0;\" x1=\"248.5\" x2=\"251.5\" y1=\"93.3398\" y2=\"93.3398\"/><text fill=\"#000000\" font-family=\"sans-serif\" font-size=\"11\" lengthAdjust=\"spacingAndGlyphs\" textLength=\"55\" x=\"251.5\" y=\"96.6479\">attributes</text><line style=\"stroke: #383838; stroke-width: 1.0;\" x1=\"306.5\" x2=\"309.5\" y1=\"93.3398\" y2=\"93.3398\"/></a><!--MD5=[ebbe1d658d1005bcc118a6aa81145e00]\n",
       "class E4--><a href=\"psysml:75d7f18d-3bb0-43da-8a1f-920414b7c194\" target=\"_top\" title=\"psysml:75d7f18d-3bb0-43da-8a1f-920414b7c194\" xlink:actuate=\"onRequest\" xlink:href=\"psysml:75d7f18d-3bb0-43da-8a1f-920414b7c194\" xlink:show=\"new\" xlink:title=\"psysml:75d7f18d-3bb0-43da-8a1f-920414b7c194\" xlink:type=\"simple\"><rect fill=\"#FFFFFF\" height=\"88.3516\" id=\"E4\" style=\"stroke: #383838; stroke-width: 1.5;\" width=\"103\" x=\"109.5\" y=\"41\"/><text fill=\"#000000\" font-family=\"sans-serif\" font-size=\"12\" font-style=\"italic\" lengthAdjust=\"spacingAndGlyphs\" textLength=\"68\" x=\"127\" y=\"57.1387\">«part  def»</text><text fill=\"#000000\" font-family=\"sans-serif\" font-size=\"12\" lengthAdjust=\"spacingAndGlyphs\" textLength=\"11\" x=\"155.5\" y=\"71.1074\">W</text><line style=\"stroke: #383838; stroke-width: 1.5;\" x1=\"110.5\" x2=\"211.5\" y1=\"78.9375\" y2=\"78.9375\"/><text fill=\"#000000\" font-family=\"sans-serif\" font-size=\"11\" lengthAdjust=\"spacingAndGlyphs\" textLength=\"87\" x=\"115.5\" y=\"109.9526\">m=default = n;</text><text fill=\"#000000\" font-family=\"sans-serif\" font-size=\"11\" font-style=\"italic\" lengthAdjust=\"spacingAndGlyphs\" textLength=\"48\" x=\"115.5\" y=\"122.7573\">:&gt;&gt;V::m</text><line style=\"stroke: #383838; stroke-width: 1.0;\" x1=\"110.5\" x2=\"133.5\" y1=\"93.3398\" y2=\"93.3398\"/><text fill=\"#000000\" font-family=\"sans-serif\" font-size=\"11\" lengthAdjust=\"spacingAndGlyphs\" textLength=\"55\" x=\"133.5\" y=\"96.6479\">attributes</text><line style=\"stroke: #383838; stroke-width: 1.0;\" x1=\"188.5\" x2=\"211.5\" y1=\"93.3398\" y2=\"93.3398\"/></a><!--MD5=[270fce915f116d4de14055a7c1d9a0f3]\n",
       "class E5--><a href=\"psysml:1ec49292-f6e0-4564-a681-346e27695197\" target=\"_top\" title=\"psysml:1ec49292-f6e0-4564-a681-346e27695197\" xlink:actuate=\"onRequest\" xlink:href=\"psysml:1ec49292-f6e0-4564-a681-346e27695197\" xlink:show=\"new\" xlink:title=\"psysml:1ec49292-f6e0-4564-a681-346e27695197\" xlink:type=\"simple\"><rect fill=\"#FFFFFF\" height=\"45.9375\" id=\"E5\" rx=\"10\" ry=\"10\" style=\"stroke: #383838; stroke-width: 1.5;\" width=\"42\" x=\"32\" y=\"62\"/><text fill=\"#000000\" font-family=\"sans-serif\" font-size=\"12\" font-style=\"italic\" lengthAdjust=\"spacingAndGlyphs\" textLength=\"40\" x=\"33\" y=\"78.1387\">«part»</text><text fill=\"#000000\" font-family=\"sans-serif\" font-size=\"12\" lengthAdjust=\"spacingAndGlyphs\" textLength=\"14\" x=\"44\" y=\"92.1074\">v2</text><line style=\"stroke: #383838; stroke-width: 1.5;\" x1=\"33\" x2=\"73\" y1=\"99.9375\" y2=\"99.9375\"/></a><!--MD5=[05d275557350bfb9b23a4ef7222b4c39]\n",
       "link E3 to E2--><a href=\"psysml:eb47ef55-8727-46f8-948e-289e011721f9\" target=\"_top\" title=\"psysml:eb47ef55-8727-46f8-948e-289e011721f9\" xlink:actuate=\"onRequest\" xlink:href=\"psysml:eb47ef55-8727-46f8-948e-289e011721f9\" xlink:show=\"new\" xlink:title=\"psysml:eb47ef55-8727-46f8-948e-289e011721f9\" xlink:type=\"simple\"><path d=\"M258.38,129.02 C252.17,141.97 245.22,156.45 238.55,170.36 \" fill=\"none\" id=\"E3-&gt;E2\" style=\"stroke: #383838; stroke-width: 1.0;\"/><polygon fill=\"#FFFFFF\" points=\"229.72,188.79,231.6151,168.6304,244.2413,174.6786,229.72,188.79\" style=\"stroke: #383838; stroke-width: 1.0;\"/><ellipse cx=\"235.8813\" cy=\"164.3538\" fill=\"#383838\" rx=\"2\" ry=\"2\" style=\"stroke: #383838; stroke-width: 1.0;\"/><ellipse cx=\"244.9\" cy=\"168.6739\" fill=\"#383838\" rx=\"2\" ry=\"2\" style=\"stroke: #383838; stroke-width: 1.0;\"/></a><!--MD5=[185131fc0dcab0a4505a2ebe144e961b]\n",
       "link E4 to E2--><a href=\"psysml:3b658baa-aed2-418d-9cf3-f3993d6dea2d\" target=\"_top\" title=\"psysml:3b658baa-aed2-418d-9cf3-f3993d6dea2d\" xlink:actuate=\"onRequest\" xlink:href=\"psysml:3b658baa-aed2-418d-9cf3-f3993d6dea2d\" xlink:show=\"new\" xlink:title=\"psysml:3b658baa-aed2-418d-9cf3-f3993d6dea2d\" xlink:type=\"simple\"><path d=\"M175.14,129.02 C179.3,141.67 183.94,155.79 188.42,169.41 \" fill=\"none\" id=\"E4-&gt;E2\" style=\"stroke: #383838; stroke-width: 1.0;\"/><polygon fill=\"none\" points=\"195.2,167.6,194.79,188.79,181.9,171.97,195.2,167.6\" style=\"stroke: #383838; stroke-width: 1.0;\"/></a><!--MD5=[714d02b783917ba4ad3a887fb1abdc8e]\n",
       "@startuml\r\n",
       "top to bottom direction\r\n",
       "skinparam monochrome true\r\n",
       "skinparam classbackgroundcolor white\r\n",
       "skinparam shadowing false\r\n",
       "skinparam wrapWidth 300\r\n",
       "hide circle\r\n",
       "\r\n",
       "package \"DefaultValueTest\" as E1  [[psysml:e41cdd27-e179-4271-915e-4358fc3ae044 ]]  {\r\n",
       "comp def \"V\" as E2  <<(T,blue) part  def>> [[psysml:95d35419-5cb2-4278-8f59-96945510244a ]] {\r\n",
       "- - attributes - -\r\n",
       "m=default = 10; \r\n",
       "n= 20; \r\n",
       "}\r\n",
       "comp usage \"v1: V \" as E3  <<(T,blue) part>> [[psysml:b8cf69e7-8508-48d3-98c1-1a5aff225283 ]] {\r\n",
       "- - attributes - -\r\n",
       "m= 20; \\n//:>>V::m// \r\n",
       "}\r\n",
       "comp def \"W\" as E4  <<(T,blue) part  def>> [[psysml:75d7f18d-3bb0-43da-8a1f-920414b7c194 ]] {\r\n",
       "- - attributes - -\r\n",
       "m=default = n; \\n//:>>V::m// \r\n",
       "}\r\n",
       "comp usage \"v2 \" as E5  <<(T,blue) part>> [[psysml:1ec49292-f6e0-4564-a681-346e27695197 ]] {\r\n",
       "}\r\n",
       "}\r\n",
       "E3 - -:|> E2 [[psysml:eb47ef55-8727-46f8-948e-289e011721f9 ]] \r\n",
       "E4 - -|> E2 [[psysml:3b658baa-aed2-418d-9cf3-f3993d6dea2d ]] \r\n",
       "@enduml\r\n",
       "\n",
       "PlantUML version 1.2020.13(Sat Jun 13 12:26:38 UTC 2020)\n",
       "(EPL source distribution)\n",
       "Java Runtime: OpenJDK Runtime Environment\n",
       "JVM: OpenJDK 64-Bit Server VM\n",
       "Default Encoding: UTF-8\n",
       "Language: en\n",
       "Country: null\n",
       "--></g></svg>"
      ]
     },
     "execution_count": 45,
     "metadata": {},
     "output_type": "execute_result"
    }
   ],
   "source": [
    "%viz --style=\"TB\" --view=\"Tree\" \"DefaultValueTest\""
   ]
  },
  {
   "cell_type": "code",
   "execution_count": 46,
   "id": "28991f60",
   "metadata": {
    "execution": {
     "iopub.execute_input": "2022-07-23T10:55:46.925791Z",
     "iopub.status.busy": "2022-07-23T10:55:46.925308Z",
     "iopub.status.idle": "2022-07-23T10:55:46.928879Z",
     "shell.execute_reply": "2022-07-23T10:55:46.928473Z"
    }
   },
   "outputs": [
    {
     "data": {
      "image/svg+xml": [
       "<?xml version=\"1.0\" encoding=\"UTF-8\" standalone=\"no\"?><svg xmlns=\"http://www.w3.org/2000/svg\" xmlns:xlink=\"http://www.w3.org/1999/xlink\" contentScriptType=\"application/ecmascript\" contentStyleType=\"text/css\" height=\"12px\" preserveAspectRatio=\"none\" style=\"width:12px;height:12px;\" version=\"1.1\" viewBox=\"0 0 12 12\" width=\"12px\" zoomAndPan=\"magnify\"><defs/><g><!--MD5=[f4ee21bc66e489b5061b7c3e9601fdef]\n",
       "@startuml\r\n",
       "top to bottom direction\r\n",
       "skinparam monochrome true\r\n",
       "skinparam classbackgroundcolor white\r\n",
       "skinparam shadowing false\r\n",
       "skinparam wrapWidth 300\r\n",
       "hide circle\r\n",
       "\r\n",
       "@enduml\r\n",
       "\n",
       "PlantUML version 1.2020.13(Sat Jun 13 12:26:38 UTC 2020)\n",
       "(EPL source distribution)\n",
       "Java Runtime: OpenJDK Runtime Environment\n",
       "JVM: OpenJDK 64-Bit Server VM\n",
       "Default Encoding: UTF-8\n",
       "Language: en\n",
       "Country: null\n",
       "--></g></svg>"
      ]
     },
     "execution_count": 46,
     "metadata": {},
     "output_type": "execute_result"
    }
   ],
   "source": [
    "%viz --style=\"TB\" --view=\"State\" \"DefaultValueTest\""
   ]
  },
  {
   "cell_type": "code",
   "execution_count": 47,
   "id": "e8712b1f",
   "metadata": {
    "execution": {
     "iopub.execute_input": "2022-07-23T10:55:46.978818Z",
     "iopub.status.busy": "2022-07-23T10:55:46.978319Z",
     "iopub.status.idle": "2022-07-23T10:55:47.009264Z",
     "shell.execute_reply": "2022-07-23T10:55:47.008841Z"
    }
   },
   "outputs": [
    {
     "data": {
      "image/svg+xml": [
       "<?xml version=\"1.0\" encoding=\"UTF-8\" standalone=\"no\"?><svg xmlns=\"http://www.w3.org/2000/svg\" xmlns:xlink=\"http://www.w3.org/1999/xlink\" contentScriptType=\"application/ecmascript\" contentStyleType=\"text/css\" height=\"399px\" preserveAspectRatio=\"none\" style=\"width:499px;height:399px;\" version=\"1.1\" viewBox=\"0 0 499 399\" width=\"499px\" zoomAndPan=\"magnify\"><defs/><g><!--MD5=[fbc87193dbaf4d95561dea2c320d4a47]\n",
       "cluster E1--><a href=\"psysml:e41cdd27-e179-4271-915e-4358fc3ae044\" target=\"_top\" title=\"psysml:e41cdd27-e179-4271-915e-4358fc3ae044\" xlink:actuate=\"onRequest\" xlink:href=\"psysml:e41cdd27-e179-4271-915e-4358fc3ae044\" xlink:show=\"new\" xlink:title=\"psysml:e41cdd27-e179-4271-915e-4358fc3ae044\" xlink:type=\"simple\"><polygon fill=\"#FFFFFF\" points=\"16,6,140,6,147,28.2969,477,28.2969,477,387,16,387,16,6\" style=\"stroke: #000000; stroke-width: 1.5;\"/><line style=\"stroke: #000000; stroke-width: 1.5;\" x1=\"16\" x2=\"147\" y1=\"28.2969\" y2=\"28.2969\"/><text fill=\"#000000\" font-family=\"sans-serif\" font-size=\"14\" font-weight=\"bold\" lengthAdjust=\"spacingAndGlyphs\" textLength=\"118\" x=\"20\" y=\"20.9951\">DefaultValueTest</text></a><!--MD5=[e4f7fae6ed58524ba242bb0b0d3be6b7]\n",
       "cluster E2--><a href=\"psysml:95d35419-5cb2-4278-8f59-96945510244a\" target=\"_top\" title=\"psysml:95d35419-5cb2-4278-8f59-96945510244a\" xlink:actuate=\"onRequest\" xlink:href=\"psysml:95d35419-5cb2-4278-8f59-96945510244a\" xlink:show=\"new\" xlink:title=\"psysml:95d35419-5cb2-4278-8f59-96945510244a\" xlink:type=\"simple\"><rect fill=\"#FFFFFF\" height=\"129\" id=\"E2\" style=\"stroke: #383838; stroke-width: 1.5;\" width=\"245\" x=\"163\" y=\"226\"/><rect fill=\"#F8F8F8\" height=\"37.9375\" style=\"stroke: #383838; stroke-width: 1.5;\" width=\"245\" x=\"163\" y=\"226\"/><text fill=\"#000000\" font-family=\"sans-serif\" font-size=\"12\" font-style=\"italic\" lengthAdjust=\"spacingAndGlyphs\" textLength=\"68\" x=\"251.5\" y=\"242.1387\">«part  def»</text><text fill=\"#000000\" font-family=\"sans-serif\" font-size=\"12\" lengthAdjust=\"spacingAndGlyphs\" textLength=\"8\" x=\"281.5\" y=\"256.1074\">V</text></a><!--MD5=[de5ec2e2e8f62f467e546659f5068c88]\n",
       "cluster E5--><a href=\"psysml:b8cf69e7-8508-48d3-98c1-1a5aff225283\" target=\"_top\" title=\"psysml:b8cf69e7-8508-48d3-98c1-1a5aff225283\" xlink:actuate=\"onRequest\" xlink:href=\"psysml:b8cf69e7-8508-48d3-98c1-1a5aff225283\" xlink:show=\"new\" xlink:title=\"psysml:b8cf69e7-8508-48d3-98c1-1a5aff225283\" xlink:type=\"simple\"><rect fill=\"#FFFFFF\" height=\"113\" id=\"E5\" rx=\"10\" ry=\"10\" style=\"stroke: #383838; stroke-width: 1.5;\" width=\"139\" x=\"306\" y=\"73\"/><rect fill=\"#F8F8F8\" height=\"23.9688\" rx=\"10\" ry=\"10\" style=\"stroke: #F8F8F8; stroke-width: 1.5;\" width=\"139\" x=\"306\" y=\"73\"/><rect fill=\"#F8F8F8\" height=\"10\" style=\"stroke: #F8F8F8; stroke-width: 1.5;\" width=\"139\" x=\"306\" y=\"86.9688\"/><rect fill=\"none\" height=\"113\" id=\"E5\" rx=\"10\" ry=\"10\" style=\"stroke: #383838; stroke-width: 1.5;\" width=\"139\" x=\"306\" y=\"73\"/><text fill=\"#000000\" font-family=\"sans-serif\" font-size=\"12\" lengthAdjust=\"spacingAndGlyphs\" textLength=\"30\" x=\"360.5\" y=\"89.1387\">v1: V</text><line style=\"stroke: #383838; stroke-width: 1.0;\" x1=\"306\" x2=\"445\" y1=\"96.9688\" y2=\"96.9688\"/></a><!--MD5=[168fadf3d0c3fd93dd5d6da1b1d7ab76]\n",
       "cluster E7--><a href=\"psysml:75d7f18d-3bb0-43da-8a1f-920414b7c194\" target=\"_top\" title=\"psysml:75d7f18d-3bb0-43da-8a1f-920414b7c194\" xlink:actuate=\"onRequest\" xlink:href=\"psysml:75d7f18d-3bb0-43da-8a1f-920414b7c194\" xlink:show=\"new\" xlink:title=\"psysml:75d7f18d-3bb0-43da-8a1f-920414b7c194\" xlink:type=\"simple\"><rect fill=\"#FFFFFF\" height=\"129\" id=\"E7\" style=\"stroke: #383838; stroke-width: 1.5;\" width=\"139\" x=\"127\" y=\"57\"/><rect fill=\"#F8F8F8\" height=\"37.9375\" style=\"stroke: #383838; stroke-width: 1.5;\" width=\"139\" x=\"127\" y=\"57\"/><text fill=\"#000000\" font-family=\"sans-serif\" font-size=\"12\" font-style=\"italic\" lengthAdjust=\"spacingAndGlyphs\" textLength=\"68\" x=\"162.5\" y=\"73.1387\">«part  def»</text><text fill=\"#000000\" font-family=\"sans-serif\" font-size=\"12\" lengthAdjust=\"spacingAndGlyphs\" textLength=\"11\" x=\"191\" y=\"87.1074\">W</text></a><!--MD5=[09b614a08d8cba4a07c9adeb5e0fee81]\n",
       "class E3--><a href=\"psysml:6a54ba7f-e62a-486f-80dd-d9293281f966\" target=\"_top\" title=\"psysml:6a54ba7f-e62a-486f-80dd-d9293281f966\" xlink:actuate=\"onRequest\" xlink:href=\"psysml:6a54ba7f-e62a-486f-80dd-d9293281f966\" xlink:show=\"new\" xlink:title=\"psysml:6a54ba7f-e62a-486f-80dd-d9293281f966\" xlink:type=\"simple\"><rect fill=\"#FFFFFF\" height=\"45.9375\" id=\"E3\" rx=\"10\" ry=\"10\" style=\"stroke: #383838; stroke-width: 1.5;\" width=\"71\" x=\"312.5\" y=\"285\"/><text fill=\"#000000\" font-family=\"sans-serif\" font-size=\"12\" font-style=\"italic\" lengthAdjust=\"spacingAndGlyphs\" textLength=\"69\" x=\"313.5\" y=\"301.1387\">«attribute»</text><text fill=\"#000000\" font-family=\"sans-serif\" font-size=\"12\" lengthAdjust=\"spacingAndGlyphs\" textLength=\"11\" x=\"340.5\" y=\"315.1074\">m</text><line style=\"stroke: #383838; stroke-width: 1.5;\" x1=\"313.5\" x2=\"382.5\" y1=\"322.9375\" y2=\"322.9375\"/></a><!--MD5=[ebbe1d658d1005bcc118a6aa81145e00]\n",
       "class E4--><a href=\"psysml:16f4b3d0-0144-41cb-ad29-b9c3c07c611b\" target=\"_top\" title=\"psysml:16f4b3d0-0144-41cb-ad29-b9c3c07c611b\" xlink:actuate=\"onRequest\" xlink:href=\"psysml:16f4b3d0-0144-41cb-ad29-b9c3c07c611b\" xlink:show=\"new\" xlink:title=\"psysml:16f4b3d0-0144-41cb-ad29-b9c3c07c611b\" xlink:type=\"simple\"><rect fill=\"#FFFFFF\" height=\"45.9375\" id=\"E4\" rx=\"10\" ry=\"10\" style=\"stroke: #383838; stroke-width: 1.5;\" width=\"71\" x=\"206.5\" y=\"285\"/><text fill=\"#000000\" font-family=\"sans-serif\" font-size=\"12\" font-style=\"italic\" lengthAdjust=\"spacingAndGlyphs\" textLength=\"69\" x=\"207.5\" y=\"301.1387\">«attribute»</text><text fill=\"#000000\" font-family=\"sans-serif\" font-size=\"12\" lengthAdjust=\"spacingAndGlyphs\" textLength=\"8\" x=\"236\" y=\"315.1074\">n</text><line style=\"stroke: #383838; stroke-width: 1.5;\" x1=\"207.5\" x2=\"276.5\" y1=\"322.9375\" y2=\"322.9375\"/></a><!--MD5=[60a26617385b1d2d0262a64233df1f8d]\n",
       "class E6--><a href=\"psysml:8ab4ea45-bcef-481a-a1e6-04e630fb5715\" target=\"_top\" title=\"psysml:8ab4ea45-bcef-481a-a1e6-04e630fb5715\" xlink:actuate=\"onRequest\" xlink:href=\"psysml:8ab4ea45-bcef-481a-a1e6-04e630fb5715\" xlink:show=\"new\" xlink:title=\"psysml:8ab4ea45-bcef-481a-a1e6-04e630fb5715\" xlink:type=\"simple\"><rect fill=\"#FFFFFF\" height=\"45.9375\" id=\"E6\" rx=\"10\" ry=\"10\" style=\"stroke: #383838; stroke-width: 1.5;\" width=\"71\" x=\"349.5\" y=\"116\"/><text fill=\"#000000\" font-family=\"sans-serif\" font-size=\"12\" font-style=\"italic\" lengthAdjust=\"spacingAndGlyphs\" textLength=\"69\" x=\"350.5\" y=\"132.1387\">«attribute»</text><text fill=\"#000000\" font-family=\"sans-serif\" font-size=\"12\" lengthAdjust=\"spacingAndGlyphs\" textLength=\"11\" x=\"377.5\" y=\"146.1074\">m</text><line style=\"stroke: #383838; stroke-width: 1.5;\" x1=\"350.5\" x2=\"419.5\" y1=\"153.9375\" y2=\"153.9375\"/></a><!--MD5=[b9389687b975829384b498ac4b7476b2]\n",
       "class E8--><a href=\"psysml:1da3bab2-1d8c-4ebe-95aa-17b6e9277a07\" target=\"_top\" title=\"psysml:1da3bab2-1d8c-4ebe-95aa-17b6e9277a07\" xlink:actuate=\"onRequest\" xlink:href=\"psysml:1da3bab2-1d8c-4ebe-95aa-17b6e9277a07\" xlink:show=\"new\" xlink:title=\"psysml:1da3bab2-1d8c-4ebe-95aa-17b6e9277a07\" xlink:type=\"simple\"><rect fill=\"#FFFFFF\" height=\"45.9375\" id=\"E8\" rx=\"10\" ry=\"10\" style=\"stroke: #383838; stroke-width: 1.5;\" width=\"71\" x=\"170.5\" y=\"116\"/><text fill=\"#000000\" font-family=\"sans-serif\" font-size=\"12\" font-style=\"italic\" lengthAdjust=\"spacingAndGlyphs\" textLength=\"69\" x=\"171.5\" y=\"132.1387\">«attribute»</text><text fill=\"#000000\" font-family=\"sans-serif\" font-size=\"12\" lengthAdjust=\"spacingAndGlyphs\" textLength=\"11\" x=\"198.5\" y=\"146.1074\">m</text><line style=\"stroke: #383838; stroke-width: 1.5;\" x1=\"171.5\" x2=\"240.5\" y1=\"153.9375\" y2=\"153.9375\"/></a><g id=\"E1.E9\"><a href=\"psysml:1ec49292-f6e0-4564-a681-346e27695197\" target=\"_top\" title=\"psysml:1ec49292-f6e0-4564-a681-346e27695197\" xlink:actuate=\"onRequest\" xlink:href=\"psysml:1ec49292-f6e0-4564-a681-346e27695197\" xlink:show=\"new\" xlink:title=\"psysml:1ec49292-f6e0-4564-a681-346e27695197\" xlink:type=\"simple\"><rect fill=\"#FFFFFF\" height=\"40\" id=\"E9\" rx=\"10\" ry=\"10\" style=\"stroke: #383838; stroke-width: 1.5;\" width=\"68\" x=\"32\" y=\"119\"/><rect fill=\"#F8F8F8\" height=\"23.9688\" rx=\"10\" ry=\"10\" style=\"stroke: #F8F8F8; stroke-width: 1.5;\" width=\"68\" x=\"32\" y=\"119\"/><rect fill=\"#F8F8F8\" height=\"10\" style=\"stroke: #F8F8F8; stroke-width: 1.5;\" width=\"68\" x=\"32\" y=\"132.9688\"/><rect fill=\"none\" height=\"40\" id=\"E9\" rx=\"10\" ry=\"10\" style=\"stroke: #383838; stroke-width: 1.5;\" width=\"68\" x=\"32\" y=\"119\"/><text fill=\"#000000\" font-family=\"sans-serif\" font-size=\"12\" lengthAdjust=\"spacingAndGlyphs\" textLength=\"53\" x=\"37.5\" y=\"135.1387\">v2= W();</text></a></g><!--MD5=[a717450b82c80b9240a525fa862496af]\n",
       "link E6 to E3--><a href=\"psysml:df608862-84ce-4303-af6e-5dfc61cbb6d2\" target=\"_top\" title=\"psysml:df608862-84ce-4303-af6e-5dfc61cbb6d2\" xlink:actuate=\"onRequest\" xlink:href=\"psysml:df608862-84ce-4303-af6e-5dfc61cbb6d2\" xlink:show=\"new\" xlink:title=\"psysml:df608862-84ce-4303-af6e-5dfc61cbb6d2\" xlink:type=\"simple\"><path d=\"M380.09,162.18 C374.29,188.33 364.54,232.36 357.3,265.02 \" fill=\"none\" id=\"E6-&gt;E3\" style=\"stroke: #383838; stroke-width: 1.0;\"/><polygon fill=\"#FFFFFF\" points=\"352.87,285,350.1475,264.9354,363.8158,267.965,352.87,285\" style=\"stroke: #383838; stroke-width: 1.0;\"/><line style=\"stroke: #383838; stroke-width: 2.0;\" x1=\"350.9698\" x2=\"364.6381\" y1=\"261.2254\" y2=\"264.2551\"/></a><!--MD5=[15ebcb19ae302d9b601edb458606d402]\n",
       "link E5 to E2--><a href=\"psysml:eb47ef55-8727-46f8-948e-289e011721f9\" target=\"_top\" title=\"psysml:eb47ef55-8727-46f8-948e-289e011721f9\" xlink:actuate=\"onRequest\" xlink:href=\"psysml:eb47ef55-8727-46f8-948e-289e011721f9\" xlink:show=\"new\" xlink:title=\"psysml:eb47ef55-8727-46f8-948e-289e011721f9\" xlink:type=\"simple\"><path d=\"M305.9739,153.5956 C305.9186,153.6814 305.863,153.7674 305.8072,153.8537 C305.6955,154.0263 305.5828,154.2 305.469,154.3747 C305.0139,155.0736 304.5421,155.7894 304.0539,156.52 C302.1011,159.4426 299.8863,162.6028 297.4325,165.8712 C287.6175,178.945 273.98,193.75 258,202 C244.48,208.98 201.16,199.66 190,210 C186.035,213.6737 182.7581,217.912 180.0601,222.5203 C179.7228,223.0963 179.3946,223.6781 179.0752,224.2654 C178.9155,224.559 178.758,224.8539 178.6027,225.1502 C178.5251,225.2983 178.448,225.4468 178.3714,225.5955 \" fill=\"none\" id=\"E5-&gt;E2\" style=\"stroke: #383838; stroke-width: 1.0;\"/><polygon fill=\"#FFFFFF\" points=\"178.3714,225.5955,180.8415,205.4983,193.2898,211.9046,178.3714,225.5955\" style=\"stroke: #383838; stroke-width: 1.0;\"/><ellipse cx=\"185.2281\" cy=\"201.3453\" fill=\"#383838\" rx=\"2\" ry=\"2\" style=\"stroke: #383838; stroke-width: 1.0;\"/><ellipse cx=\"194.1197\" cy=\"205.9212\" fill=\"#383838\" rx=\"2\" ry=\"2\" style=\"stroke: #383838; stroke-width: 1.0;\"/></a><!--MD5=[583832df87f4419a098336a29a52fa00]\n",
       "link E7 to E2--><a href=\"psysml:3b658baa-aed2-418d-9cf3-f3993d6dea2d\" target=\"_top\" title=\"psysml:3b658baa-aed2-418d-9cf3-f3993d6dea2d\" xlink:actuate=\"onRequest\" xlink:href=\"psysml:3b658baa-aed2-418d-9cf3-f3993d6dea2d\" xlink:show=\"new\" xlink:title=\"psysml:3b658baa-aed2-418d-9cf3-f3993d6dea2d\" xlink:type=\"simple\"><path d=\"M145.0817,186.7597 C145.5768,189.0567 146.0819,191.4 146.595,193.7804 C148.6473,203.3019 150.8275,213.4163 153.0075,223.53 C155.1875,233.6438 157.3673,243.7569 159.4191,253.2759 C160.4449,258.0354 161.4388,262.6463 162.3846,267.0345 C162.5028,267.5831 162.6203,268.1281 162.7369,268.6695 C162.7953,268.9403 162.8534,269.2101 162.9114,269.4789 C162.9404,269.6134 162.9693,269.7476 162.9982,269.8816 \" fill=\"none\" id=\"E7-&gt;E2\" style=\"stroke: #383838; stroke-width: 1.0;\"/><polygon fill=\"#FFFFFF\" points=\"162.9982,269.8816,165.8379,249.8332,152.1522,252.7829,162.9982,269.8816\" style=\"stroke: #383838; stroke-width: 1.0;\"/></a><!--MD5=[95fa686b5a16158bcdbcaeead89f639b]\n",
       "link E8 to E3--><a href=\"psysml:d0f3a95a-9489-4833-bd9a-1794072888fe\" target=\"_top\" title=\"psysml:d0f3a95a-9489-4833-bd9a-1794072888fe\" xlink:actuate=\"onRequest\" xlink:href=\"psysml:d0f3a95a-9489-4833-bd9a-1794072888fe\" xlink:show=\"new\" xlink:title=\"psysml:d0f3a95a-9489-4833-bd9a-1794072888fe\" xlink:type=\"simple\"><path d=\"M240.46,162.1 C258.23,174.66 279.38,191.54 295,210 C309.2,226.78 321.3,247.97 330.35,266.26 \" fill=\"none\" id=\"E8-&gt;E3\" style=\"stroke: #383838; stroke-width: 1.0;\"/><polygon fill=\"#FFFFFF\" points=\"338.91,284.62,324.543,270.3516,337.2341,264.441,338.91,284.62\" style=\"stroke: #383838; stroke-width: 1.0;\"/><line style=\"stroke: #383838; stroke-width: 2.0;\" x1=\"322.9387\" x2=\"335.6298\" y1=\"266.9068\" y2=\"260.9963\"/></a><!--MD5=[81d918bb2b997745e0597de885c8c18f]\n",
       "@startuml\r\n",
       "skinparam ranksep 10\r\n",
       "skinparam rectangle {\r\n",
       " backgroundColor<<block>> LightGreen\r\n",
       "}\r\n",
       "top to bottom direction\r\n",
       "skinparam monochrome true\r\n",
       "skinparam classbackgroundcolor white\r\n",
       "skinparam shadowing false\r\n",
       "skinparam wrapWidth 300\r\n",
       "hide circle\r\n",
       "\r\n",
       "package \"DefaultValueTest\" as E1  [[psysml:e41cdd27-e179-4271-915e-4358fc3ae044 ]]  {\r\n",
       "rec def \"V\" as E2  <<(T,blue) part  def>> [[psysml:95d35419-5cb2-4278-8f59-96945510244a ]] {\r\n",
       "comp usage \"m \" as E3  <<(T,blue) attribute>> [[psysml:6a54ba7f-e62a-486f-80dd-d9293281f966 ]] {\r\n",
       "}\r\n",
       "comp usage \"n \" as E4  <<(T,blue) attribute>> [[psysml:16f4b3d0-0144-41cb-ad29-b9c3c07c611b ]] {\r\n",
       "}\r\n",
       "}\r\n",
       "rec usage \"v1: V\" as E5  [[psysml:b8cf69e7-8508-48d3-98c1-1a5aff225283 ]] {\r\n",
       "comp usage \"m \" as E6  <<(T,blue) attribute>> [[psysml:8ab4ea45-bcef-481a-a1e6-04e630fb5715 ]] {\r\n",
       "}\r\n",
       "}\r\n",
       "rec def \"W\" as E7  <<(T,blue) part  def>> [[psysml:75d7f18d-3bb0-43da-8a1f-920414b7c194 ]] {\r\n",
       "comp usage \"m \" as E8  <<(T,blue) attribute>> [[psysml:1da3bab2-1d8c-4ebe-95aa-17b6e9277a07 ]] {\r\n",
       "}\r\n",
       "}\r\n",
       "rec usage \"v2= W(); \" as E9  [[psysml:1ec49292-f6e0-4564-a681-346e27695197 ]] {\r\n",
       "}\r\n",
       "}\r\n",
       "E6 - -||> E3 [[psysml:df608862-84ce-4303-af6e-5dfc61cbb6d2 ]] \r\n",
       "E5 - -:|> E2 [[psysml:eb47ef55-8727-46f8-948e-289e011721f9 ]] \r\n",
       "E7 - -|> E2 [[psysml:3b658baa-aed2-418d-9cf3-f3993d6dea2d ]] \r\n",
       "E8 - -||> E3 [[psysml:d0f3a95a-9489-4833-bd9a-1794072888fe ]] \r\n",
       "@enduml\r\n",
       "\n",
       "PlantUML version 1.2020.13(Sat Jun 13 12:26:38 UTC 2020)\n",
       "(EPL source distribution)\n",
       "Java Runtime: OpenJDK Runtime Environment\n",
       "JVM: OpenJDK 64-Bit Server VM\n",
       "Default Encoding: UTF-8\n",
       "Language: en\n",
       "Country: null\n",
       "--></g></svg>"
      ]
     },
     "execution_count": 47,
     "metadata": {},
     "output_type": "execute_result"
    }
   ],
   "source": [
    "%viz --style=\"TB\" --view=\"Interconnection\" \"DefaultValueTest\""
   ]
  },
  {
   "cell_type": "code",
   "execution_count": 48,
   "id": "1e16d1eb",
   "metadata": {
    "execution": {
     "iopub.execute_input": "2022-07-23T10:55:47.058811Z",
     "iopub.status.busy": "2022-07-23T10:55:47.058356Z",
     "iopub.status.idle": "2022-07-23T10:55:47.062706Z",
     "shell.execute_reply": "2022-07-23T10:55:47.063025Z"
    }
   },
   "outputs": [
    {
     "data": {
      "image/svg+xml": [
       "<?xml version=\"1.0\" encoding=\"UTF-8\" standalone=\"no\"?><svg xmlns=\"http://www.w3.org/2000/svg\" xmlns:xlink=\"http://www.w3.org/1999/xlink\" contentScriptType=\"application/ecmascript\" contentStyleType=\"text/css\" height=\"12px\" preserveAspectRatio=\"none\" style=\"width:12px;height:12px;\" version=\"1.1\" viewBox=\"0 0 12 12\" width=\"12px\" zoomAndPan=\"magnify\"><defs/><g><!--MD5=[06afc254b03ac5e9d9fb7773b07d0800]\n",
       "@startuml\r\n",
       "skinparam ranksep 8\r\n",
       "top to bottom direction\r\n",
       "skinparam monochrome true\r\n",
       "skinparam classbackgroundcolor white\r\n",
       "skinparam shadowing false\r\n",
       "skinparam wrapWidth 300\r\n",
       "hide circle\r\n",
       "\r\n",
       "@enduml\r\n",
       "\n",
       "PlantUML version 1.2020.13(Sat Jun 13 12:26:38 UTC 2020)\n",
       "(EPL source distribution)\n",
       "Java Runtime: OpenJDK Runtime Environment\n",
       "JVM: OpenJDK 64-Bit Server VM\n",
       "Default Encoding: UTF-8\n",
       "Language: en\n",
       "Country: null\n",
       "--></g></svg>"
      ]
     },
     "execution_count": 48,
     "metadata": {},
     "output_type": "execute_result"
    }
   ],
   "source": [
    "%viz --style=\"TB\" --view=\"Action\" \"DefaultValueTest\""
   ]
  },
  {
   "cell_type": "code",
   "execution_count": 49,
   "id": "9f1ed058",
   "metadata": {
    "execution": {
     "iopub.execute_input": "2022-07-23T10:55:47.113097Z",
     "iopub.status.busy": "2022-07-23T10:55:47.112645Z",
     "iopub.status.idle": "2022-07-23T10:55:47.117605Z",
     "shell.execute_reply": "2022-07-23T10:55:47.117945Z"
    }
   },
   "outputs": [
    {
     "data": {
      "image/svg+xml": [
       "<?xml version=\"1.0\" encoding=\"UTF-8\" standalone=\"no\"?><svg xmlns=\"http://www.w3.org/2000/svg\" xmlns:xlink=\"http://www.w3.org/1999/xlink\" contentScriptType=\"application/ecmascript\" contentStyleType=\"text/css\" height=\"12px\" preserveAspectRatio=\"none\" style=\"width:12px;height:12px;\" version=\"1.1\" viewBox=\"0 0 12 12\" width=\"12px\" zoomAndPan=\"magnify\"><defs/><g><!--MD5=[e1ab0c84c44d2fef8bf5f140f2689906]\n",
       "@startuml\r\n",
       "skinparam roundcorner 20\r\n",
       "skinparam BoxPadding 20\r\n",
       "skinparam SequenceBoxBackgroundColor #white\r\n",
       "skinparam style strictuml\r\n",
       "skinparam maxMessageSize 100\r\n",
       "top to bottom direction\r\n",
       "skinparam monochrome true\r\n",
       "skinparam classbackgroundcolor white\r\n",
       "skinparam shadowing false\r\n",
       "skinparam wrapWidth 300\r\n",
       "hide circle\r\n",
       "\r\n",
       "@enduml\r\n",
       "\n",
       "PlantUML version 1.2020.13(Sat Jun 13 12:26:38 UTC 2020)\n",
       "(EPL source distribution)\n",
       "Java Runtime: OpenJDK Runtime Environment\n",
       "JVM: OpenJDK 64-Bit Server VM\n",
       "Default Encoding: UTF-8\n",
       "Language: en\n",
       "Country: null\n",
       "--></g></svg>"
      ]
     },
     "execution_count": 49,
     "metadata": {},
     "output_type": "execute_result"
    }
   ],
   "source": [
    "%viz --style=\"TB\" --view=\"Sequence\" \"DefaultValueTest\""
   ]
  },
  {
   "cell_type": "code",
   "execution_count": 50,
   "id": "cde8623b",
   "metadata": {
    "execution": {
     "iopub.execute_input": "2022-07-23T10:55:47.167955Z",
     "iopub.status.busy": "2022-07-23T10:55:47.167459Z",
     "iopub.status.idle": "2022-07-23T10:55:47.253409Z",
     "shell.execute_reply": "2022-07-23T10:55:47.252928Z"
    }
   },
   "outputs": [
    {
     "data": {
      "image/svg+xml": [
       "<?xml version=\"1.0\" encoding=\"UTF-8\" standalone=\"no\"?><svg xmlns=\"http://www.w3.org/2000/svg\" xmlns:xlink=\"http://www.w3.org/1999/xlink\" contentScriptType=\"application/ecmascript\" contentStyleType=\"text/css\" height=\"305px\" preserveAspectRatio=\"none\" style=\"width:349px;height:305px;\" version=\"1.1\" viewBox=\"0 0 349 305\" width=\"349px\" zoomAndPan=\"magnify\"><defs/><g><!--MD5=[fbc87193dbaf4d95561dea2c320d4a47]\n",
       "cluster E1--><a href=\"psysml:e41cdd27-e179-4271-915e-4358fc3ae044\" target=\"_top\" title=\"psysml:e41cdd27-e179-4271-915e-4358fc3ae044\" xlink:actuate=\"onRequest\" xlink:href=\"psysml:e41cdd27-e179-4271-915e-4358fc3ae044\" xlink:show=\"new\" xlink:title=\"psysml:e41cdd27-e179-4271-915e-4358fc3ae044\" xlink:type=\"simple\"><polygon fill=\"#FFFFFF\" points=\"16,6,140,6,147,28.2969,327,28.2969,327,293,16,293,16,6\" style=\"stroke: #000000; stroke-width: 1.5;\"/><line style=\"stroke: #000000; stroke-width: 1.5;\" x1=\"16\" x2=\"147\" y1=\"28.2969\" y2=\"28.2969\"/><text fill=\"#000000\" font-family=\"sans-serif\" font-size=\"14\" font-weight=\"bold\" lengthAdjust=\"spacingAndGlyphs\" textLength=\"118\" x=\"20\" y=\"20.9951\">DefaultValueTest</text></a><!--MD5=[b4997ac47864f28c2f74865a473b2911]\n",
       "class E2--><a href=\"psysml:95d35419-5cb2-4278-8f59-96945510244a\" target=\"_top\" title=\"psysml:95d35419-5cb2-4278-8f59-96945510244a\" xlink:actuate=\"onRequest\" xlink:href=\"psysml:95d35419-5cb2-4278-8f59-96945510244a\" xlink:show=\"new\" xlink:title=\"psysml:95d35419-5cb2-4278-8f59-96945510244a\" xlink:type=\"simple\"><rect fill=\"#FFFFFF\" height=\"88.3516\" id=\"E2\" style=\"stroke: #383838; stroke-width: 1.5;\" width=\"106\" x=\"156\" y=\"189\"/><text fill=\"#000000\" font-family=\"sans-serif\" font-size=\"12\" font-style=\"italic\" lengthAdjust=\"spacingAndGlyphs\" textLength=\"68\" x=\"175\" y=\"205.1387\">«part  def»</text><text fill=\"#000000\" font-family=\"sans-serif\" font-size=\"12\" lengthAdjust=\"spacingAndGlyphs\" textLength=\"8\" x=\"205\" y=\"219.1074\">V</text><line style=\"stroke: #383838; stroke-width: 1.5;\" x1=\"157\" x2=\"261\" y1=\"226.9375\" y2=\"226.9375\"/><text fill=\"#000000\" font-family=\"sans-serif\" font-size=\"11\" lengthAdjust=\"spacingAndGlyphs\" textLength=\"94\" x=\"162\" y=\"257.9526\">m=default = 10;</text><text fill=\"#000000\" font-family=\"sans-serif\" font-size=\"11\" lengthAdjust=\"spacingAndGlyphs\" textLength=\"38\" x=\"162\" y=\"270.7573\">n= 20;</text><line style=\"stroke: #383838; stroke-width: 1.0;\" x1=\"157\" x2=\"181.5\" y1=\"241.3398\" y2=\"241.3398\"/><text fill=\"#000000\" font-family=\"sans-serif\" font-size=\"11\" lengthAdjust=\"spacingAndGlyphs\" textLength=\"55\" x=\"181.5\" y=\"244.6479\">attributes</text><line style=\"stroke: #383838; stroke-width: 1.0;\" x1=\"236.5\" x2=\"261\" y1=\"241.3398\" y2=\"241.3398\"/></a><!--MD5=[09b614a08d8cba4a07c9adeb5e0fee81]\n",
       "class E3--><a href=\"psysml:b8cf69e7-8508-48d3-98c1-1a5aff225283\" target=\"_top\" title=\"psysml:b8cf69e7-8508-48d3-98c1-1a5aff225283\" xlink:actuate=\"onRequest\" xlink:href=\"psysml:b8cf69e7-8508-48d3-98c1-1a5aff225283\" xlink:show=\"new\" xlink:title=\"psysml:b8cf69e7-8508-48d3-98c1-1a5aff225283\" xlink:type=\"simple\"><rect fill=\"#FFFFFF\" height=\"88.3516\" id=\"E3\" rx=\"10\" ry=\"10\" style=\"stroke: #383838; stroke-width: 1.5;\" width=\"63\" x=\"247.5\" y=\"41\"/><text fill=\"#000000\" font-family=\"sans-serif\" font-size=\"12\" font-style=\"italic\" lengthAdjust=\"spacingAndGlyphs\" textLength=\"40\" x=\"259\" y=\"57.1387\">«part»</text><text fill=\"#000000\" font-family=\"sans-serif\" font-size=\"12\" lengthAdjust=\"spacingAndGlyphs\" textLength=\"30\" x=\"262\" y=\"71.1074\">v1: V</text><line style=\"stroke: #383838; stroke-width: 1.5;\" x1=\"248.5\" x2=\"309.5\" y1=\"78.9375\" y2=\"78.9375\"/><text fill=\"#000000\" font-family=\"sans-serif\" font-size=\"11\" lengthAdjust=\"spacingAndGlyphs\" textLength=\"42\" x=\"253.5\" y=\"109.9526\">m= 20;</text><text fill=\"#000000\" font-family=\"sans-serif\" font-size=\"11\" font-style=\"italic\" lengthAdjust=\"spacingAndGlyphs\" textLength=\"48\" x=\"253.5\" y=\"122.7573\">:&gt;&gt;V::m</text><line style=\"stroke: #383838; stroke-width: 1.0;\" x1=\"248.5\" x2=\"251.5\" y1=\"93.3398\" y2=\"93.3398\"/><text fill=\"#000000\" font-family=\"sans-serif\" font-size=\"11\" lengthAdjust=\"spacingAndGlyphs\" textLength=\"55\" x=\"251.5\" y=\"96.6479\">attributes</text><line style=\"stroke: #383838; stroke-width: 1.0;\" x1=\"306.5\" x2=\"309.5\" y1=\"93.3398\" y2=\"93.3398\"/></a><!--MD5=[ebbe1d658d1005bcc118a6aa81145e00]\n",
       "class E4--><a href=\"psysml:75d7f18d-3bb0-43da-8a1f-920414b7c194\" target=\"_top\" title=\"psysml:75d7f18d-3bb0-43da-8a1f-920414b7c194\" xlink:actuate=\"onRequest\" xlink:href=\"psysml:75d7f18d-3bb0-43da-8a1f-920414b7c194\" xlink:show=\"new\" xlink:title=\"psysml:75d7f18d-3bb0-43da-8a1f-920414b7c194\" xlink:type=\"simple\"><rect fill=\"#FFFFFF\" height=\"88.3516\" id=\"E4\" style=\"stroke: #383838; stroke-width: 1.5;\" width=\"103\" x=\"109.5\" y=\"41\"/><text fill=\"#000000\" font-family=\"sans-serif\" font-size=\"12\" font-style=\"italic\" lengthAdjust=\"spacingAndGlyphs\" textLength=\"68\" x=\"127\" y=\"57.1387\">«part  def»</text><text fill=\"#000000\" font-family=\"sans-serif\" font-size=\"12\" lengthAdjust=\"spacingAndGlyphs\" textLength=\"11\" x=\"155.5\" y=\"71.1074\">W</text><line style=\"stroke: #383838; stroke-width: 1.5;\" x1=\"110.5\" x2=\"211.5\" y1=\"78.9375\" y2=\"78.9375\"/><text fill=\"#000000\" font-family=\"sans-serif\" font-size=\"11\" lengthAdjust=\"spacingAndGlyphs\" textLength=\"87\" x=\"115.5\" y=\"109.9526\">m=default = n;</text><text fill=\"#000000\" font-family=\"sans-serif\" font-size=\"11\" font-style=\"italic\" lengthAdjust=\"spacingAndGlyphs\" textLength=\"48\" x=\"115.5\" y=\"122.7573\">:&gt;&gt;V::m</text><line style=\"stroke: #383838; stroke-width: 1.0;\" x1=\"110.5\" x2=\"133.5\" y1=\"93.3398\" y2=\"93.3398\"/><text fill=\"#000000\" font-family=\"sans-serif\" font-size=\"11\" lengthAdjust=\"spacingAndGlyphs\" textLength=\"55\" x=\"133.5\" y=\"96.6479\">attributes</text><line style=\"stroke: #383838; stroke-width: 1.0;\" x1=\"188.5\" x2=\"211.5\" y1=\"93.3398\" y2=\"93.3398\"/></a><!--MD5=[270fce915f116d4de14055a7c1d9a0f3]\n",
       "class E5--><a href=\"psysml:1ec49292-f6e0-4564-a681-346e27695197\" target=\"_top\" title=\"psysml:1ec49292-f6e0-4564-a681-346e27695197\" xlink:actuate=\"onRequest\" xlink:href=\"psysml:1ec49292-f6e0-4564-a681-346e27695197\" xlink:show=\"new\" xlink:title=\"psysml:1ec49292-f6e0-4564-a681-346e27695197\" xlink:type=\"simple\"><rect fill=\"#FFFFFF\" height=\"45.9375\" id=\"E5\" rx=\"10\" ry=\"10\" style=\"stroke: #383838; stroke-width: 1.5;\" width=\"42\" x=\"32\" y=\"62\"/><text fill=\"#000000\" font-family=\"sans-serif\" font-size=\"12\" font-style=\"italic\" lengthAdjust=\"spacingAndGlyphs\" textLength=\"40\" x=\"33\" y=\"78.1387\">«part»</text><text fill=\"#000000\" font-family=\"sans-serif\" font-size=\"12\" lengthAdjust=\"spacingAndGlyphs\" textLength=\"14\" x=\"44\" y=\"92.1074\">v2</text><line style=\"stroke: #383838; stroke-width: 1.5;\" x1=\"33\" x2=\"73\" y1=\"99.9375\" y2=\"99.9375\"/></a><!--MD5=[05d275557350bfb9b23a4ef7222b4c39]\n",
       "link E3 to E2--><a href=\"psysml:eb47ef55-8727-46f8-948e-289e011721f9\" target=\"_top\" title=\"psysml:eb47ef55-8727-46f8-948e-289e011721f9\" xlink:actuate=\"onRequest\" xlink:href=\"psysml:eb47ef55-8727-46f8-948e-289e011721f9\" xlink:show=\"new\" xlink:title=\"psysml:eb47ef55-8727-46f8-948e-289e011721f9\" xlink:type=\"simple\"><path d=\"M258.38,129.02 C252.17,141.97 245.22,156.45 238.55,170.36 \" fill=\"none\" id=\"E3-&gt;E2\" style=\"stroke: #383838; stroke-width: 1.0;\"/><polygon fill=\"#FFFFFF\" points=\"229.72,188.79,231.6151,168.6304,244.2413,174.6786,229.72,188.79\" style=\"stroke: #383838; stroke-width: 1.0;\"/><ellipse cx=\"235.8813\" cy=\"164.3538\" fill=\"#383838\" rx=\"2\" ry=\"2\" style=\"stroke: #383838; stroke-width: 1.0;\"/><ellipse cx=\"244.9\" cy=\"168.6739\" fill=\"#383838\" rx=\"2\" ry=\"2\" style=\"stroke: #383838; stroke-width: 1.0;\"/></a><!--MD5=[185131fc0dcab0a4505a2ebe144e961b]\n",
       "link E4 to E2--><a href=\"psysml:3b658baa-aed2-418d-9cf3-f3993d6dea2d\" target=\"_top\" title=\"psysml:3b658baa-aed2-418d-9cf3-f3993d6dea2d\" xlink:actuate=\"onRequest\" xlink:href=\"psysml:3b658baa-aed2-418d-9cf3-f3993d6dea2d\" xlink:show=\"new\" xlink:title=\"psysml:3b658baa-aed2-418d-9cf3-f3993d6dea2d\" xlink:type=\"simple\"><path d=\"M175.14,129.02 C179.3,141.67 183.94,155.79 188.42,169.41 \" fill=\"none\" id=\"E4-&gt;E2\" style=\"stroke: #383838; stroke-width: 1.0;\"/><polygon fill=\"none\" points=\"195.2,167.6,194.79,188.79,181.9,171.97,195.2,167.6\" style=\"stroke: #383838; stroke-width: 1.0;\"/></a><!--MD5=[714d02b783917ba4ad3a887fb1abdc8e]\n",
       "@startuml\r\n",
       "top to bottom direction\r\n",
       "skinparam monochrome true\r\n",
       "skinparam classbackgroundcolor white\r\n",
       "skinparam shadowing false\r\n",
       "skinparam wrapWidth 300\r\n",
       "hide circle\r\n",
       "\r\n",
       "package \"DefaultValueTest\" as E1  [[psysml:e41cdd27-e179-4271-915e-4358fc3ae044 ]]  {\r\n",
       "comp def \"V\" as E2  <<(T,blue) part  def>> [[psysml:95d35419-5cb2-4278-8f59-96945510244a ]] {\r\n",
       "- - attributes - -\r\n",
       "m=default = 10; \r\n",
       "n= 20; \r\n",
       "}\r\n",
       "comp usage \"v1: V \" as E3  <<(T,blue) part>> [[psysml:b8cf69e7-8508-48d3-98c1-1a5aff225283 ]] {\r\n",
       "- - attributes - -\r\n",
       "m= 20; \\n//:>>V::m// \r\n",
       "}\r\n",
       "comp def \"W\" as E4  <<(T,blue) part  def>> [[psysml:75d7f18d-3bb0-43da-8a1f-920414b7c194 ]] {\r\n",
       "- - attributes - -\r\n",
       "m=default = n; \\n//:>>V::m// \r\n",
       "}\r\n",
       "comp usage \"v2 \" as E5  <<(T,blue) part>> [[psysml:1ec49292-f6e0-4564-a681-346e27695197 ]] {\r\n",
       "}\r\n",
       "}\r\n",
       "E3 - -:|> E2 [[psysml:eb47ef55-8727-46f8-948e-289e011721f9 ]] \r\n",
       "E4 - -|> E2 [[psysml:3b658baa-aed2-418d-9cf3-f3993d6dea2d ]] \r\n",
       "@enduml\r\n",
       "\n",
       "PlantUML version 1.2020.13(Sat Jun 13 12:26:38 UTC 2020)\n",
       "(EPL source distribution)\n",
       "Java Runtime: OpenJDK Runtime Environment\n",
       "JVM: OpenJDK 64-Bit Server VM\n",
       "Default Encoding: UTF-8\n",
       "Language: en\n",
       "Country: null\n",
       "--></g></svg>"
      ]
     },
     "execution_count": 50,
     "metadata": {},
     "output_type": "execute_result"
    }
   ],
   "source": [
    "%viz --style=\"TB\" --view=\"MIXED\" \"DefaultValueTest\""
   ]
  },
  {
   "cell_type": "code",
   "execution_count": 51,
   "id": "c85b2324",
   "metadata": {
    "execution": {
     "iopub.execute_input": "2022-07-23T10:55:47.302561Z",
     "iopub.status.busy": "2022-07-23T10:55:47.302056Z",
     "iopub.status.idle": "2022-07-23T10:55:47.384864Z",
     "shell.execute_reply": "2022-07-23T10:55:47.383282Z"
    }
   },
   "outputs": [
    {
     "data": {
      "image/svg+xml": [
       "<?xml version=\"1.0\" encoding=\"UTF-8\" standalone=\"no\"?><svg xmlns=\"http://www.w3.org/2000/svg\" xmlns:xlink=\"http://www.w3.org/1999/xlink\" contentScriptType=\"application/ecmascript\" contentStyleType=\"text/css\" height=\"305px\" preserveAspectRatio=\"none\" style=\"width:349px;height:305px;\" version=\"1.1\" viewBox=\"0 0 349 305\" width=\"349px\" zoomAndPan=\"magnify\"><defs/><g><!--MD5=[fbc87193dbaf4d95561dea2c320d4a47]\n",
       "cluster E1--><a href=\"psysml:e41cdd27-e179-4271-915e-4358fc3ae044\" target=\"_top\" title=\"psysml:e41cdd27-e179-4271-915e-4358fc3ae044\" xlink:actuate=\"onRequest\" xlink:href=\"psysml:e41cdd27-e179-4271-915e-4358fc3ae044\" xlink:show=\"new\" xlink:title=\"psysml:e41cdd27-e179-4271-915e-4358fc3ae044\" xlink:type=\"simple\"><polygon fill=\"#FFFFFF\" points=\"16,6,140,6,147,28.2969,327,28.2969,327,293,16,293,16,6\" style=\"stroke: #000000; stroke-width: 1.5;\"/><line style=\"stroke: #000000; stroke-width: 1.5;\" x1=\"16\" x2=\"147\" y1=\"28.2969\" y2=\"28.2969\"/><text fill=\"#000000\" font-family=\"sans-serif\" font-size=\"14\" font-weight=\"bold\" lengthAdjust=\"spacingAndGlyphs\" textLength=\"118\" x=\"20\" y=\"20.9951\">DefaultValueTest</text></a><!--MD5=[b4997ac47864f28c2f74865a473b2911]\n",
       "class E2--><a href=\"psysml:95d35419-5cb2-4278-8f59-96945510244a\" target=\"_top\" title=\"psysml:95d35419-5cb2-4278-8f59-96945510244a\" xlink:actuate=\"onRequest\" xlink:href=\"psysml:95d35419-5cb2-4278-8f59-96945510244a\" xlink:show=\"new\" xlink:title=\"psysml:95d35419-5cb2-4278-8f59-96945510244a\" xlink:type=\"simple\"><rect fill=\"#FFFFFF\" height=\"88.3516\" id=\"E2\" style=\"stroke: #383838; stroke-width: 1.5;\" width=\"106\" x=\"156\" y=\"189\"/><text fill=\"#000000\" font-family=\"sans-serif\" font-size=\"12\" font-style=\"italic\" lengthAdjust=\"spacingAndGlyphs\" textLength=\"68\" x=\"175\" y=\"205.1387\">«part  def»</text><text fill=\"#000000\" font-family=\"sans-serif\" font-size=\"12\" lengthAdjust=\"spacingAndGlyphs\" textLength=\"8\" x=\"205\" y=\"219.1074\">V</text><line style=\"stroke: #383838; stroke-width: 1.5;\" x1=\"157\" x2=\"261\" y1=\"226.9375\" y2=\"226.9375\"/><text fill=\"#000000\" font-family=\"sans-serif\" font-size=\"11\" lengthAdjust=\"spacingAndGlyphs\" textLength=\"94\" x=\"162\" y=\"257.9526\">m=default = 10;</text><text fill=\"#000000\" font-family=\"sans-serif\" font-size=\"11\" lengthAdjust=\"spacingAndGlyphs\" textLength=\"38\" x=\"162\" y=\"270.7573\">n= 20;</text><line style=\"stroke: #383838; stroke-width: 1.0;\" x1=\"157\" x2=\"181.5\" y1=\"241.3398\" y2=\"241.3398\"/><text fill=\"#000000\" font-family=\"sans-serif\" font-size=\"11\" lengthAdjust=\"spacingAndGlyphs\" textLength=\"55\" x=\"181.5\" y=\"244.6479\">attributes</text><line style=\"stroke: #383838; stroke-width: 1.0;\" x1=\"236.5\" x2=\"261\" y1=\"241.3398\" y2=\"241.3398\"/></a><!--MD5=[09b614a08d8cba4a07c9adeb5e0fee81]\n",
       "class E3--><a href=\"psysml:b8cf69e7-8508-48d3-98c1-1a5aff225283\" target=\"_top\" title=\"psysml:b8cf69e7-8508-48d3-98c1-1a5aff225283\" xlink:actuate=\"onRequest\" xlink:href=\"psysml:b8cf69e7-8508-48d3-98c1-1a5aff225283\" xlink:show=\"new\" xlink:title=\"psysml:b8cf69e7-8508-48d3-98c1-1a5aff225283\" xlink:type=\"simple\"><rect fill=\"#FFFFFF\" height=\"88.3516\" id=\"E3\" rx=\"10\" ry=\"10\" style=\"stroke: #383838; stroke-width: 1.5;\" width=\"63\" x=\"247.5\" y=\"41\"/><text fill=\"#000000\" font-family=\"sans-serif\" font-size=\"12\" font-style=\"italic\" lengthAdjust=\"spacingAndGlyphs\" textLength=\"40\" x=\"259\" y=\"57.1387\">«part»</text><text fill=\"#000000\" font-family=\"sans-serif\" font-size=\"12\" lengthAdjust=\"spacingAndGlyphs\" textLength=\"30\" x=\"262\" y=\"71.1074\">v1: V</text><line style=\"stroke: #383838; stroke-width: 1.5;\" x1=\"248.5\" x2=\"309.5\" y1=\"78.9375\" y2=\"78.9375\"/><text fill=\"#000000\" font-family=\"sans-serif\" font-size=\"11\" lengthAdjust=\"spacingAndGlyphs\" textLength=\"42\" x=\"253.5\" y=\"109.9526\">m= 20;</text><text fill=\"#000000\" font-family=\"sans-serif\" font-size=\"11\" font-style=\"italic\" lengthAdjust=\"spacingAndGlyphs\" textLength=\"48\" x=\"253.5\" y=\"122.7573\">:&gt;&gt;V::m</text><line style=\"stroke: #383838; stroke-width: 1.0;\" x1=\"248.5\" x2=\"251.5\" y1=\"93.3398\" y2=\"93.3398\"/><text fill=\"#000000\" font-family=\"sans-serif\" font-size=\"11\" lengthAdjust=\"spacingAndGlyphs\" textLength=\"55\" x=\"251.5\" y=\"96.6479\">attributes</text><line style=\"stroke: #383838; stroke-width: 1.0;\" x1=\"306.5\" x2=\"309.5\" y1=\"93.3398\" y2=\"93.3398\"/></a><!--MD5=[ebbe1d658d1005bcc118a6aa81145e00]\n",
       "class E4--><a href=\"psysml:75d7f18d-3bb0-43da-8a1f-920414b7c194\" target=\"_top\" title=\"psysml:75d7f18d-3bb0-43da-8a1f-920414b7c194\" xlink:actuate=\"onRequest\" xlink:href=\"psysml:75d7f18d-3bb0-43da-8a1f-920414b7c194\" xlink:show=\"new\" xlink:title=\"psysml:75d7f18d-3bb0-43da-8a1f-920414b7c194\" xlink:type=\"simple\"><rect fill=\"#FFFFFF\" height=\"88.3516\" id=\"E4\" style=\"stroke: #383838; stroke-width: 1.5;\" width=\"103\" x=\"109.5\" y=\"41\"/><text fill=\"#000000\" font-family=\"sans-serif\" font-size=\"12\" font-style=\"italic\" lengthAdjust=\"spacingAndGlyphs\" textLength=\"68\" x=\"127\" y=\"57.1387\">«part  def»</text><text fill=\"#000000\" font-family=\"sans-serif\" font-size=\"12\" lengthAdjust=\"spacingAndGlyphs\" textLength=\"11\" x=\"155.5\" y=\"71.1074\">W</text><line style=\"stroke: #383838; stroke-width: 1.5;\" x1=\"110.5\" x2=\"211.5\" y1=\"78.9375\" y2=\"78.9375\"/><text fill=\"#000000\" font-family=\"sans-serif\" font-size=\"11\" lengthAdjust=\"spacingAndGlyphs\" textLength=\"87\" x=\"115.5\" y=\"109.9526\">m=default = n;</text><text fill=\"#000000\" font-family=\"sans-serif\" font-size=\"11\" font-style=\"italic\" lengthAdjust=\"spacingAndGlyphs\" textLength=\"48\" x=\"115.5\" y=\"122.7573\">:&gt;&gt;V::m</text><line style=\"stroke: #383838; stroke-width: 1.0;\" x1=\"110.5\" x2=\"133.5\" y1=\"93.3398\" y2=\"93.3398\"/><text fill=\"#000000\" font-family=\"sans-serif\" font-size=\"11\" lengthAdjust=\"spacingAndGlyphs\" textLength=\"55\" x=\"133.5\" y=\"96.6479\">attributes</text><line style=\"stroke: #383838; stroke-width: 1.0;\" x1=\"188.5\" x2=\"211.5\" y1=\"93.3398\" y2=\"93.3398\"/></a><!--MD5=[270fce915f116d4de14055a7c1d9a0f3]\n",
       "class E5--><a href=\"psysml:1ec49292-f6e0-4564-a681-346e27695197\" target=\"_top\" title=\"psysml:1ec49292-f6e0-4564-a681-346e27695197\" xlink:actuate=\"onRequest\" xlink:href=\"psysml:1ec49292-f6e0-4564-a681-346e27695197\" xlink:show=\"new\" xlink:title=\"psysml:1ec49292-f6e0-4564-a681-346e27695197\" xlink:type=\"simple\"><rect fill=\"#FFFFFF\" height=\"45.9375\" id=\"E5\" rx=\"10\" ry=\"10\" style=\"stroke: #383838; stroke-width: 1.5;\" width=\"42\" x=\"32\" y=\"62\"/><text fill=\"#000000\" font-family=\"sans-serif\" font-size=\"12\" font-style=\"italic\" lengthAdjust=\"spacingAndGlyphs\" textLength=\"40\" x=\"33\" y=\"78.1387\">«part»</text><text fill=\"#000000\" font-family=\"sans-serif\" font-size=\"12\" lengthAdjust=\"spacingAndGlyphs\" textLength=\"14\" x=\"44\" y=\"92.1074\">v2</text><line style=\"stroke: #383838; stroke-width: 1.5;\" x1=\"33\" x2=\"73\" y1=\"99.9375\" y2=\"99.9375\"/></a><!--MD5=[05d275557350bfb9b23a4ef7222b4c39]\n",
       "link E3 to E2--><a href=\"psysml:eb47ef55-8727-46f8-948e-289e011721f9\" target=\"_top\" title=\"psysml:eb47ef55-8727-46f8-948e-289e011721f9\" xlink:actuate=\"onRequest\" xlink:href=\"psysml:eb47ef55-8727-46f8-948e-289e011721f9\" xlink:show=\"new\" xlink:title=\"psysml:eb47ef55-8727-46f8-948e-289e011721f9\" xlink:type=\"simple\"><path d=\"M254.75,129 C254.75,129 254.75,168.91 254.75,168.91 \" fill=\"none\" id=\"E3-&gt;E2\" style=\"stroke: #383838; stroke-width: 1.0;\"/><polygon fill=\"#FFFFFF\" points=\"254.75,188.91,247.75,169.91,261.75,169.91,254.75,188.91\" style=\"stroke: #383838; stroke-width: 1.0;\"/><ellipse cx=\"249.75\" cy=\"164.21\" fill=\"#383838\" rx=\"2\" ry=\"2\" style=\"stroke: #383838; stroke-width: 1.0;\"/><ellipse cx=\"259.75\" cy=\"164.21\" fill=\"#383838\" rx=\"2\" ry=\"2\" style=\"stroke: #383838; stroke-width: 1.0;\"/></a><!--MD5=[185131fc0dcab0a4505a2ebe144e961b]\n",
       "link E4 to E2--><a href=\"psysml:3b658baa-aed2-418d-9cf3-f3993d6dea2d\" target=\"_top\" title=\"psysml:3b658baa-aed2-418d-9cf3-f3993d6dea2d\" xlink:actuate=\"onRequest\" xlink:href=\"psysml:3b658baa-aed2-418d-9cf3-f3993d6dea2d\" xlink:show=\"new\" xlink:title=\"psysml:3b658baa-aed2-418d-9cf3-f3993d6dea2d\" xlink:type=\"simple\"><path d=\"M184.25,129 C184.25,129 184.25,168.91 184.25,168.91 \" fill=\"none\" id=\"E4-&gt;E2\" style=\"stroke: #383838; stroke-width: 1.0;\"/><polygon fill=\"none\" points=\"191.25,168.91,184.25,188.91,177.25,168.91,191.25,168.91\" style=\"stroke: #383838; stroke-width: 1.0;\"/></a><!--MD5=[dee9307b006384edca8771c198589e60]\n",
       "@startuml\r\n",
       "skinparam linetype ortho\r\n",
       "skinparam monochrome true\r\n",
       "skinparam classbackgroundcolor white\r\n",
       "skinparam shadowing false\r\n",
       "skinparam wrapWidth 300\r\n",
       "hide circle\r\n",
       "\r\n",
       "package \"DefaultValueTest\" as E1  [[psysml:e41cdd27-e179-4271-915e-4358fc3ae044 ]]  {\r\n",
       "comp def \"V\" as E2  <<(T,blue) part  def>> [[psysml:95d35419-5cb2-4278-8f59-96945510244a ]] {\r\n",
       "- - attributes - -\r\n",
       "m=default = 10; \r\n",
       "n= 20; \r\n",
       "}\r\n",
       "comp usage \"v1: V \" as E3  <<(T,blue) part>> [[psysml:b8cf69e7-8508-48d3-98c1-1a5aff225283 ]] {\r\n",
       "- - attributes - -\r\n",
       "m= 20; \\n//:>>V::m// \r\n",
       "}\r\n",
       "comp def \"W\" as E4  <<(T,blue) part  def>> [[psysml:75d7f18d-3bb0-43da-8a1f-920414b7c194 ]] {\r\n",
       "- - attributes - -\r\n",
       "m=default = n; \\n//:>>V::m// \r\n",
       "}\r\n",
       "comp usage \"v2 \" as E5  <<(T,blue) part>> [[psysml:1ec49292-f6e0-4564-a681-346e27695197 ]] {\r\n",
       "}\r\n",
       "}\r\n",
       "E3 - -:|> E2 [[psysml:eb47ef55-8727-46f8-948e-289e011721f9 ]] \r\n",
       "E4 - -|> E2 [[psysml:3b658baa-aed2-418d-9cf3-f3993d6dea2d ]] \r\n",
       "@enduml\r\n",
       "\n",
       "PlantUML version 1.2020.13(Sat Jun 13 12:26:38 UTC 2020)\n",
       "(EPL source distribution)\n",
       "Java Runtime: OpenJDK Runtime Environment\n",
       "JVM: OpenJDK 64-Bit Server VM\n",
       "Default Encoding: UTF-8\n",
       "Language: en\n",
       "Country: null\n",
       "--></g></svg>"
      ]
     },
     "execution_count": 51,
     "metadata": {},
     "output_type": "execute_result"
    }
   ],
   "source": [
    "%viz --style=\"ORTHOLINE\" --view=\"Default\" \"DefaultValueTest\""
   ]
  },
  {
   "cell_type": "code",
   "execution_count": 52,
   "id": "245eccd5",
   "metadata": {
    "execution": {
     "iopub.execute_input": "2022-07-23T10:55:47.434305Z",
     "iopub.status.busy": "2022-07-23T10:55:47.433785Z",
     "iopub.status.idle": "2022-07-23T10:55:47.532899Z",
     "shell.execute_reply": "2022-07-23T10:55:47.530933Z"
    }
   },
   "outputs": [
    {
     "data": {
      "image/svg+xml": [
       "<?xml version=\"1.0\" encoding=\"UTF-8\" standalone=\"no\"?><svg xmlns=\"http://www.w3.org/2000/svg\" xmlns:xlink=\"http://www.w3.org/1999/xlink\" contentScriptType=\"application/ecmascript\" contentStyleType=\"text/css\" height=\"305px\" preserveAspectRatio=\"none\" style=\"width:349px;height:305px;\" version=\"1.1\" viewBox=\"0 0 349 305\" width=\"349px\" zoomAndPan=\"magnify\"><defs/><g><!--MD5=[fbc87193dbaf4d95561dea2c320d4a47]\n",
       "cluster E1--><a href=\"psysml:e41cdd27-e179-4271-915e-4358fc3ae044\" target=\"_top\" title=\"psysml:e41cdd27-e179-4271-915e-4358fc3ae044\" xlink:actuate=\"onRequest\" xlink:href=\"psysml:e41cdd27-e179-4271-915e-4358fc3ae044\" xlink:show=\"new\" xlink:title=\"psysml:e41cdd27-e179-4271-915e-4358fc3ae044\" xlink:type=\"simple\"><polygon fill=\"#FFFFFF\" points=\"16,6,140,6,147,28.2969,327,28.2969,327,293,16,293,16,6\" style=\"stroke: #000000; stroke-width: 1.5;\"/><line style=\"stroke: #000000; stroke-width: 1.5;\" x1=\"16\" x2=\"147\" y1=\"28.2969\" y2=\"28.2969\"/><text fill=\"#000000\" font-family=\"sans-serif\" font-size=\"14\" font-weight=\"bold\" lengthAdjust=\"spacingAndGlyphs\" textLength=\"118\" x=\"20\" y=\"20.9951\">DefaultValueTest</text></a><!--MD5=[b4997ac47864f28c2f74865a473b2911]\n",
       "class E2--><a href=\"psysml:95d35419-5cb2-4278-8f59-96945510244a\" target=\"_top\" title=\"psysml:95d35419-5cb2-4278-8f59-96945510244a\" xlink:actuate=\"onRequest\" xlink:href=\"psysml:95d35419-5cb2-4278-8f59-96945510244a\" xlink:show=\"new\" xlink:title=\"psysml:95d35419-5cb2-4278-8f59-96945510244a\" xlink:type=\"simple\"><rect fill=\"#FFFFFF\" height=\"88.3516\" id=\"E2\" style=\"stroke: #383838; stroke-width: 1.5;\" width=\"106\" x=\"156\" y=\"189\"/><text fill=\"#000000\" font-family=\"sans-serif\" font-size=\"12\" font-style=\"italic\" lengthAdjust=\"spacingAndGlyphs\" textLength=\"68\" x=\"175\" y=\"205.1387\">«part  def»</text><text fill=\"#000000\" font-family=\"sans-serif\" font-size=\"12\" lengthAdjust=\"spacingAndGlyphs\" textLength=\"8\" x=\"205\" y=\"219.1074\">V</text><line style=\"stroke: #383838; stroke-width: 1.5;\" x1=\"157\" x2=\"261\" y1=\"226.9375\" y2=\"226.9375\"/><text fill=\"#000000\" font-family=\"sans-serif\" font-size=\"11\" lengthAdjust=\"spacingAndGlyphs\" textLength=\"94\" x=\"162\" y=\"257.9526\">m=default = 10;</text><text fill=\"#000000\" font-family=\"sans-serif\" font-size=\"11\" lengthAdjust=\"spacingAndGlyphs\" textLength=\"38\" x=\"162\" y=\"270.7573\">n= 20;</text><line style=\"stroke: #383838; stroke-width: 1.0;\" x1=\"157\" x2=\"181.5\" y1=\"241.3398\" y2=\"241.3398\"/><text fill=\"#000000\" font-family=\"sans-serif\" font-size=\"11\" lengthAdjust=\"spacingAndGlyphs\" textLength=\"55\" x=\"181.5\" y=\"244.6479\">attributes</text><line style=\"stroke: #383838; stroke-width: 1.0;\" x1=\"236.5\" x2=\"261\" y1=\"241.3398\" y2=\"241.3398\"/></a><!--MD5=[09b614a08d8cba4a07c9adeb5e0fee81]\n",
       "class E3--><a href=\"psysml:b8cf69e7-8508-48d3-98c1-1a5aff225283\" target=\"_top\" title=\"psysml:b8cf69e7-8508-48d3-98c1-1a5aff225283\" xlink:actuate=\"onRequest\" xlink:href=\"psysml:b8cf69e7-8508-48d3-98c1-1a5aff225283\" xlink:show=\"new\" xlink:title=\"psysml:b8cf69e7-8508-48d3-98c1-1a5aff225283\" xlink:type=\"simple\"><rect fill=\"#FFFFFF\" height=\"88.3516\" id=\"E3\" rx=\"10\" ry=\"10\" style=\"stroke: #383838; stroke-width: 1.5;\" width=\"63\" x=\"247.5\" y=\"41\"/><text fill=\"#000000\" font-family=\"sans-serif\" font-size=\"12\" font-style=\"italic\" lengthAdjust=\"spacingAndGlyphs\" textLength=\"40\" x=\"259\" y=\"57.1387\">«part»</text><text fill=\"#000000\" font-family=\"sans-serif\" font-size=\"12\" lengthAdjust=\"spacingAndGlyphs\" textLength=\"30\" x=\"262\" y=\"71.1074\">v1: V</text><line style=\"stroke: #383838; stroke-width: 1.5;\" x1=\"248.5\" x2=\"309.5\" y1=\"78.9375\" y2=\"78.9375\"/><text fill=\"#000000\" font-family=\"sans-serif\" font-size=\"11\" lengthAdjust=\"spacingAndGlyphs\" textLength=\"42\" x=\"253.5\" y=\"109.9526\">m= 20;</text><text fill=\"#000000\" font-family=\"sans-serif\" font-size=\"11\" font-style=\"italic\" lengthAdjust=\"spacingAndGlyphs\" textLength=\"48\" x=\"253.5\" y=\"122.7573\">:&gt;&gt;V::m</text><line style=\"stroke: #383838; stroke-width: 1.0;\" x1=\"248.5\" x2=\"251.5\" y1=\"93.3398\" y2=\"93.3398\"/><text fill=\"#000000\" font-family=\"sans-serif\" font-size=\"11\" lengthAdjust=\"spacingAndGlyphs\" textLength=\"55\" x=\"251.5\" y=\"96.6479\">attributes</text><line style=\"stroke: #383838; stroke-width: 1.0;\" x1=\"306.5\" x2=\"309.5\" y1=\"93.3398\" y2=\"93.3398\"/></a><!--MD5=[ebbe1d658d1005bcc118a6aa81145e00]\n",
       "class E4--><a href=\"psysml:75d7f18d-3bb0-43da-8a1f-920414b7c194\" target=\"_top\" title=\"psysml:75d7f18d-3bb0-43da-8a1f-920414b7c194\" xlink:actuate=\"onRequest\" xlink:href=\"psysml:75d7f18d-3bb0-43da-8a1f-920414b7c194\" xlink:show=\"new\" xlink:title=\"psysml:75d7f18d-3bb0-43da-8a1f-920414b7c194\" xlink:type=\"simple\"><rect fill=\"#FFFFFF\" height=\"88.3516\" id=\"E4\" style=\"stroke: #383838; stroke-width: 1.5;\" width=\"103\" x=\"109.5\" y=\"41\"/><text fill=\"#000000\" font-family=\"sans-serif\" font-size=\"12\" font-style=\"italic\" lengthAdjust=\"spacingAndGlyphs\" textLength=\"68\" x=\"127\" y=\"57.1387\">«part  def»</text><text fill=\"#000000\" font-family=\"sans-serif\" font-size=\"12\" lengthAdjust=\"spacingAndGlyphs\" textLength=\"11\" x=\"155.5\" y=\"71.1074\">W</text><line style=\"stroke: #383838; stroke-width: 1.5;\" x1=\"110.5\" x2=\"211.5\" y1=\"78.9375\" y2=\"78.9375\"/><text fill=\"#000000\" font-family=\"sans-serif\" font-size=\"11\" lengthAdjust=\"spacingAndGlyphs\" textLength=\"87\" x=\"115.5\" y=\"109.9526\">m=default = n;</text><text fill=\"#000000\" font-family=\"sans-serif\" font-size=\"11\" font-style=\"italic\" lengthAdjust=\"spacingAndGlyphs\" textLength=\"48\" x=\"115.5\" y=\"122.7573\">:&gt;&gt;V::m</text><line style=\"stroke: #383838; stroke-width: 1.0;\" x1=\"110.5\" x2=\"133.5\" y1=\"93.3398\" y2=\"93.3398\"/><text fill=\"#000000\" font-family=\"sans-serif\" font-size=\"11\" lengthAdjust=\"spacingAndGlyphs\" textLength=\"55\" x=\"133.5\" y=\"96.6479\">attributes</text><line style=\"stroke: #383838; stroke-width: 1.0;\" x1=\"188.5\" x2=\"211.5\" y1=\"93.3398\" y2=\"93.3398\"/></a><!--MD5=[270fce915f116d4de14055a7c1d9a0f3]\n",
       "class E5--><a href=\"psysml:1ec49292-f6e0-4564-a681-346e27695197\" target=\"_top\" title=\"psysml:1ec49292-f6e0-4564-a681-346e27695197\" xlink:actuate=\"onRequest\" xlink:href=\"psysml:1ec49292-f6e0-4564-a681-346e27695197\" xlink:show=\"new\" xlink:title=\"psysml:1ec49292-f6e0-4564-a681-346e27695197\" xlink:type=\"simple\"><rect fill=\"#FFFFFF\" height=\"45.9375\" id=\"E5\" rx=\"10\" ry=\"10\" style=\"stroke: #383838; stroke-width: 1.5;\" width=\"42\" x=\"32\" y=\"62\"/><text fill=\"#000000\" font-family=\"sans-serif\" font-size=\"12\" font-style=\"italic\" lengthAdjust=\"spacingAndGlyphs\" textLength=\"40\" x=\"33\" y=\"78.1387\">«part»</text><text fill=\"#000000\" font-family=\"sans-serif\" font-size=\"12\" lengthAdjust=\"spacingAndGlyphs\" textLength=\"14\" x=\"44\" y=\"92.1074\">v2</text><line style=\"stroke: #383838; stroke-width: 1.5;\" x1=\"33\" x2=\"73\" y1=\"99.9375\" y2=\"99.9375\"/></a><!--MD5=[05d275557350bfb9b23a4ef7222b4c39]\n",
       "link E3 to E2--><a href=\"psysml:eb47ef55-8727-46f8-948e-289e011721f9\" target=\"_top\" title=\"psysml:eb47ef55-8727-46f8-948e-289e011721f9\" xlink:actuate=\"onRequest\" xlink:href=\"psysml:eb47ef55-8727-46f8-948e-289e011721f9\" xlink:show=\"new\" xlink:title=\"psysml:eb47ef55-8727-46f8-948e-289e011721f9\" xlink:type=\"simple\"><path d=\"M254.75,129 C254.75,129 254.75,168.91 254.75,168.91 \" fill=\"none\" id=\"E3-&gt;E2\" style=\"stroke: #383838; stroke-width: 1.0;\"/><polygon fill=\"#FFFFFF\" points=\"254.75,188.91,247.75,169.91,261.75,169.91,254.75,188.91\" style=\"stroke: #383838; stroke-width: 1.0;\"/><ellipse cx=\"249.75\" cy=\"164.21\" fill=\"#383838\" rx=\"2\" ry=\"2\" style=\"stroke: #383838; stroke-width: 1.0;\"/><ellipse cx=\"259.75\" cy=\"164.21\" fill=\"#383838\" rx=\"2\" ry=\"2\" style=\"stroke: #383838; stroke-width: 1.0;\"/></a><!--MD5=[185131fc0dcab0a4505a2ebe144e961b]\n",
       "link E4 to E2--><a href=\"psysml:3b658baa-aed2-418d-9cf3-f3993d6dea2d\" target=\"_top\" title=\"psysml:3b658baa-aed2-418d-9cf3-f3993d6dea2d\" xlink:actuate=\"onRequest\" xlink:href=\"psysml:3b658baa-aed2-418d-9cf3-f3993d6dea2d\" xlink:show=\"new\" xlink:title=\"psysml:3b658baa-aed2-418d-9cf3-f3993d6dea2d\" xlink:type=\"simple\"><path d=\"M184.25,129 C184.25,129 184.25,168.91 184.25,168.91 \" fill=\"none\" id=\"E4-&gt;E2\" style=\"stroke: #383838; stroke-width: 1.0;\"/><polygon fill=\"none\" points=\"191.25,168.91,184.25,188.91,177.25,168.91,191.25,168.91\" style=\"stroke: #383838; stroke-width: 1.0;\"/></a><!--MD5=[dee9307b006384edca8771c198589e60]\n",
       "@startuml\r\n",
       "skinparam linetype ortho\r\n",
       "skinparam monochrome true\r\n",
       "skinparam classbackgroundcolor white\r\n",
       "skinparam shadowing false\r\n",
       "skinparam wrapWidth 300\r\n",
       "hide circle\r\n",
       "\r\n",
       "package \"DefaultValueTest\" as E1  [[psysml:e41cdd27-e179-4271-915e-4358fc3ae044 ]]  {\r\n",
       "comp def \"V\" as E2  <<(T,blue) part  def>> [[psysml:95d35419-5cb2-4278-8f59-96945510244a ]] {\r\n",
       "- - attributes - -\r\n",
       "m=default = 10; \r\n",
       "n= 20; \r\n",
       "}\r\n",
       "comp usage \"v1: V \" as E3  <<(T,blue) part>> [[psysml:b8cf69e7-8508-48d3-98c1-1a5aff225283 ]] {\r\n",
       "- - attributes - -\r\n",
       "m= 20; \\n//:>>V::m// \r\n",
       "}\r\n",
       "comp def \"W\" as E4  <<(T,blue) part  def>> [[psysml:75d7f18d-3bb0-43da-8a1f-920414b7c194 ]] {\r\n",
       "- - attributes - -\r\n",
       "m=default = n; \\n//:>>V::m// \r\n",
       "}\r\n",
       "comp usage \"v2 \" as E5  <<(T,blue) part>> [[psysml:1ec49292-f6e0-4564-a681-346e27695197 ]] {\r\n",
       "}\r\n",
       "}\r\n",
       "E3 - -:|> E2 [[psysml:eb47ef55-8727-46f8-948e-289e011721f9 ]] \r\n",
       "E4 - -|> E2 [[psysml:3b658baa-aed2-418d-9cf3-f3993d6dea2d ]] \r\n",
       "@enduml\r\n",
       "\n",
       "PlantUML version 1.2020.13(Sat Jun 13 12:26:38 UTC 2020)\n",
       "(EPL source distribution)\n",
       "Java Runtime: OpenJDK Runtime Environment\n",
       "JVM: OpenJDK 64-Bit Server VM\n",
       "Default Encoding: UTF-8\n",
       "Language: en\n",
       "Country: null\n",
       "--></g></svg>"
      ]
     },
     "execution_count": 52,
     "metadata": {},
     "output_type": "execute_result"
    }
   ],
   "source": [
    "%viz --style=\"ORTHOLINE\" --view=\"Tree\" \"DefaultValueTest\""
   ]
  },
  {
   "cell_type": "code",
   "execution_count": 53,
   "id": "e540d733",
   "metadata": {
    "execution": {
     "iopub.execute_input": "2022-07-23T10:55:47.581669Z",
     "iopub.status.busy": "2022-07-23T10:55:47.581152Z",
     "iopub.status.idle": "2022-07-23T10:55:47.586271Z",
     "shell.execute_reply": "2022-07-23T10:55:47.585853Z"
    }
   },
   "outputs": [
    {
     "data": {
      "image/svg+xml": [
       "<?xml version=\"1.0\" encoding=\"UTF-8\" standalone=\"no\"?><svg xmlns=\"http://www.w3.org/2000/svg\" xmlns:xlink=\"http://www.w3.org/1999/xlink\" contentScriptType=\"application/ecmascript\" contentStyleType=\"text/css\" height=\"12px\" preserveAspectRatio=\"none\" style=\"width:12px;height:12px;\" version=\"1.1\" viewBox=\"0 0 12 12\" width=\"12px\" zoomAndPan=\"magnify\"><defs/><g><!--MD5=[97d6f38768b311333d388e66b2b27985]\n",
       "@startuml\r\n",
       "skinparam linetype ortho\r\n",
       "skinparam monochrome true\r\n",
       "skinparam classbackgroundcolor white\r\n",
       "skinparam shadowing false\r\n",
       "skinparam wrapWidth 300\r\n",
       "hide circle\r\n",
       "\r\n",
       "@enduml\r\n",
       "\n",
       "PlantUML version 1.2020.13(Sat Jun 13 12:26:38 UTC 2020)\n",
       "(EPL source distribution)\n",
       "Java Runtime: OpenJDK Runtime Environment\n",
       "JVM: OpenJDK 64-Bit Server VM\n",
       "Default Encoding: UTF-8\n",
       "Language: en\n",
       "Country: null\n",
       "--></g></svg>"
      ]
     },
     "execution_count": 53,
     "metadata": {},
     "output_type": "execute_result"
    }
   ],
   "source": [
    "%viz --style=\"ORTHOLINE\" --view=\"State\" \"DefaultValueTest\""
   ]
  },
  {
   "cell_type": "code",
   "execution_count": 54,
   "id": "59a93e3d",
   "metadata": {
    "execution": {
     "iopub.execute_input": "2022-07-23T10:55:47.635575Z",
     "iopub.status.busy": "2022-07-23T10:55:47.635094Z",
     "iopub.status.idle": "2022-07-23T10:55:47.673658Z",
     "shell.execute_reply": "2022-07-23T10:55:47.673238Z"
    }
   },
   "outputs": [
    {
     "data": {
      "image/svg+xml": [
       "<?xml version=\"1.0\" encoding=\"UTF-8\" standalone=\"no\"?><svg xmlns=\"http://www.w3.org/2000/svg\" xmlns:xlink=\"http://www.w3.org/1999/xlink\" contentScriptType=\"application/ecmascript\" contentStyleType=\"text/css\" height=\"399px\" preserveAspectRatio=\"none\" style=\"width:499px;height:399px;\" version=\"1.1\" viewBox=\"0 0 499 399\" width=\"499px\" zoomAndPan=\"magnify\"><defs/><g><!--MD5=[fbc87193dbaf4d95561dea2c320d4a47]\n",
       "cluster E1--><a href=\"psysml:e41cdd27-e179-4271-915e-4358fc3ae044\" target=\"_top\" title=\"psysml:e41cdd27-e179-4271-915e-4358fc3ae044\" xlink:actuate=\"onRequest\" xlink:href=\"psysml:e41cdd27-e179-4271-915e-4358fc3ae044\" xlink:show=\"new\" xlink:title=\"psysml:e41cdd27-e179-4271-915e-4358fc3ae044\" xlink:type=\"simple\"><polygon fill=\"#FFFFFF\" points=\"16,6,140,6,147,28.2969,477,28.2969,477,387,16,387,16,6\" style=\"stroke: #000000; stroke-width: 1.5;\"/><line style=\"stroke: #000000; stroke-width: 1.5;\" x1=\"16\" x2=\"147\" y1=\"28.2969\" y2=\"28.2969\"/><text fill=\"#000000\" font-family=\"sans-serif\" font-size=\"14\" font-weight=\"bold\" lengthAdjust=\"spacingAndGlyphs\" textLength=\"118\" x=\"20\" y=\"20.9951\">DefaultValueTest</text></a><!--MD5=[e4f7fae6ed58524ba242bb0b0d3be6b7]\n",
       "cluster E2--><a href=\"psysml:95d35419-5cb2-4278-8f59-96945510244a\" target=\"_top\" title=\"psysml:95d35419-5cb2-4278-8f59-96945510244a\" xlink:actuate=\"onRequest\" xlink:href=\"psysml:95d35419-5cb2-4278-8f59-96945510244a\" xlink:show=\"new\" xlink:title=\"psysml:95d35419-5cb2-4278-8f59-96945510244a\" xlink:type=\"simple\"><rect fill=\"#FFFFFF\" height=\"129\" id=\"E2\" style=\"stroke: #383838; stroke-width: 1.5;\" width=\"245\" x=\"163\" y=\"226\"/><rect fill=\"#F8F8F8\" height=\"37.9375\" style=\"stroke: #383838; stroke-width: 1.5;\" width=\"245\" x=\"163\" y=\"226\"/><text fill=\"#000000\" font-family=\"sans-serif\" font-size=\"12\" font-style=\"italic\" lengthAdjust=\"spacingAndGlyphs\" textLength=\"68\" x=\"251.5\" y=\"242.1387\">«part  def»</text><text fill=\"#000000\" font-family=\"sans-serif\" font-size=\"12\" lengthAdjust=\"spacingAndGlyphs\" textLength=\"8\" x=\"281.5\" y=\"256.1074\">V</text></a><!--MD5=[de5ec2e2e8f62f467e546659f5068c88]\n",
       "cluster E5--><a href=\"psysml:b8cf69e7-8508-48d3-98c1-1a5aff225283\" target=\"_top\" title=\"psysml:b8cf69e7-8508-48d3-98c1-1a5aff225283\" xlink:actuate=\"onRequest\" xlink:href=\"psysml:b8cf69e7-8508-48d3-98c1-1a5aff225283\" xlink:show=\"new\" xlink:title=\"psysml:b8cf69e7-8508-48d3-98c1-1a5aff225283\" xlink:type=\"simple\"><rect fill=\"#FFFFFF\" height=\"113\" id=\"E5\" rx=\"10\" ry=\"10\" style=\"stroke: #383838; stroke-width: 1.5;\" width=\"139\" x=\"306\" y=\"73\"/><rect fill=\"#F8F8F8\" height=\"23.9688\" rx=\"10\" ry=\"10\" style=\"stroke: #F8F8F8; stroke-width: 1.5;\" width=\"139\" x=\"306\" y=\"73\"/><rect fill=\"#F8F8F8\" height=\"10\" style=\"stroke: #F8F8F8; stroke-width: 1.5;\" width=\"139\" x=\"306\" y=\"86.9688\"/><rect fill=\"none\" height=\"113\" id=\"E5\" rx=\"10\" ry=\"10\" style=\"stroke: #383838; stroke-width: 1.5;\" width=\"139\" x=\"306\" y=\"73\"/><text fill=\"#000000\" font-family=\"sans-serif\" font-size=\"12\" lengthAdjust=\"spacingAndGlyphs\" textLength=\"30\" x=\"360.5\" y=\"89.1387\">v1: V</text><line style=\"stroke: #383838; stroke-width: 1.0;\" x1=\"306\" x2=\"445\" y1=\"96.9688\" y2=\"96.9688\"/></a><!--MD5=[168fadf3d0c3fd93dd5d6da1b1d7ab76]\n",
       "cluster E7--><a href=\"psysml:75d7f18d-3bb0-43da-8a1f-920414b7c194\" target=\"_top\" title=\"psysml:75d7f18d-3bb0-43da-8a1f-920414b7c194\" xlink:actuate=\"onRequest\" xlink:href=\"psysml:75d7f18d-3bb0-43da-8a1f-920414b7c194\" xlink:show=\"new\" xlink:title=\"psysml:75d7f18d-3bb0-43da-8a1f-920414b7c194\" xlink:type=\"simple\"><rect fill=\"#FFFFFF\" height=\"129\" id=\"E7\" style=\"stroke: #383838; stroke-width: 1.5;\" width=\"139\" x=\"127\" y=\"57\"/><rect fill=\"#F8F8F8\" height=\"37.9375\" style=\"stroke: #383838; stroke-width: 1.5;\" width=\"139\" x=\"127\" y=\"57\"/><text fill=\"#000000\" font-family=\"sans-serif\" font-size=\"12\" font-style=\"italic\" lengthAdjust=\"spacingAndGlyphs\" textLength=\"68\" x=\"162.5\" y=\"73.1387\">«part  def»</text><text fill=\"#000000\" font-family=\"sans-serif\" font-size=\"12\" lengthAdjust=\"spacingAndGlyphs\" textLength=\"11\" x=\"191\" y=\"87.1074\">W</text></a><!--MD5=[09b614a08d8cba4a07c9adeb5e0fee81]\n",
       "class E3--><a href=\"psysml:6a54ba7f-e62a-486f-80dd-d9293281f966\" target=\"_top\" title=\"psysml:6a54ba7f-e62a-486f-80dd-d9293281f966\" xlink:actuate=\"onRequest\" xlink:href=\"psysml:6a54ba7f-e62a-486f-80dd-d9293281f966\" xlink:show=\"new\" xlink:title=\"psysml:6a54ba7f-e62a-486f-80dd-d9293281f966\" xlink:type=\"simple\"><rect fill=\"#FFFFFF\" height=\"45.9375\" id=\"E3\" rx=\"10\" ry=\"10\" style=\"stroke: #383838; stroke-width: 1.5;\" width=\"71\" x=\"312.5\" y=\"285\"/><text fill=\"#000000\" font-family=\"sans-serif\" font-size=\"12\" font-style=\"italic\" lengthAdjust=\"spacingAndGlyphs\" textLength=\"69\" x=\"313.5\" y=\"301.1387\">«attribute»</text><text fill=\"#000000\" font-family=\"sans-serif\" font-size=\"12\" lengthAdjust=\"spacingAndGlyphs\" textLength=\"11\" x=\"340.5\" y=\"315.1074\">m</text><line style=\"stroke: #383838; stroke-width: 1.5;\" x1=\"313.5\" x2=\"382.5\" y1=\"322.9375\" y2=\"322.9375\"/></a><!--MD5=[ebbe1d658d1005bcc118a6aa81145e00]\n",
       "class E4--><a href=\"psysml:16f4b3d0-0144-41cb-ad29-b9c3c07c611b\" target=\"_top\" title=\"psysml:16f4b3d0-0144-41cb-ad29-b9c3c07c611b\" xlink:actuate=\"onRequest\" xlink:href=\"psysml:16f4b3d0-0144-41cb-ad29-b9c3c07c611b\" xlink:show=\"new\" xlink:title=\"psysml:16f4b3d0-0144-41cb-ad29-b9c3c07c611b\" xlink:type=\"simple\"><rect fill=\"#FFFFFF\" height=\"45.9375\" id=\"E4\" rx=\"10\" ry=\"10\" style=\"stroke: #383838; stroke-width: 1.5;\" width=\"71\" x=\"206.5\" y=\"285\"/><text fill=\"#000000\" font-family=\"sans-serif\" font-size=\"12\" font-style=\"italic\" lengthAdjust=\"spacingAndGlyphs\" textLength=\"69\" x=\"207.5\" y=\"301.1387\">«attribute»</text><text fill=\"#000000\" font-family=\"sans-serif\" font-size=\"12\" lengthAdjust=\"spacingAndGlyphs\" textLength=\"8\" x=\"236\" y=\"315.1074\">n</text><line style=\"stroke: #383838; stroke-width: 1.5;\" x1=\"207.5\" x2=\"276.5\" y1=\"322.9375\" y2=\"322.9375\"/></a><!--MD5=[60a26617385b1d2d0262a64233df1f8d]\n",
       "class E6--><a href=\"psysml:8ab4ea45-bcef-481a-a1e6-04e630fb5715\" target=\"_top\" title=\"psysml:8ab4ea45-bcef-481a-a1e6-04e630fb5715\" xlink:actuate=\"onRequest\" xlink:href=\"psysml:8ab4ea45-bcef-481a-a1e6-04e630fb5715\" xlink:show=\"new\" xlink:title=\"psysml:8ab4ea45-bcef-481a-a1e6-04e630fb5715\" xlink:type=\"simple\"><rect fill=\"#FFFFFF\" height=\"45.9375\" id=\"E6\" rx=\"10\" ry=\"10\" style=\"stroke: #383838; stroke-width: 1.5;\" width=\"71\" x=\"349.5\" y=\"116\"/><text fill=\"#000000\" font-family=\"sans-serif\" font-size=\"12\" font-style=\"italic\" lengthAdjust=\"spacingAndGlyphs\" textLength=\"69\" x=\"350.5\" y=\"132.1387\">«attribute»</text><text fill=\"#000000\" font-family=\"sans-serif\" font-size=\"12\" lengthAdjust=\"spacingAndGlyphs\" textLength=\"11\" x=\"377.5\" y=\"146.1074\">m</text><line style=\"stroke: #383838; stroke-width: 1.5;\" x1=\"350.5\" x2=\"419.5\" y1=\"153.9375\" y2=\"153.9375\"/></a><!--MD5=[b9389687b975829384b498ac4b7476b2]\n",
       "class E8--><a href=\"psysml:1da3bab2-1d8c-4ebe-95aa-17b6e9277a07\" target=\"_top\" title=\"psysml:1da3bab2-1d8c-4ebe-95aa-17b6e9277a07\" xlink:actuate=\"onRequest\" xlink:href=\"psysml:1da3bab2-1d8c-4ebe-95aa-17b6e9277a07\" xlink:show=\"new\" xlink:title=\"psysml:1da3bab2-1d8c-4ebe-95aa-17b6e9277a07\" xlink:type=\"simple\"><rect fill=\"#FFFFFF\" height=\"45.9375\" id=\"E8\" rx=\"10\" ry=\"10\" style=\"stroke: #383838; stroke-width: 1.5;\" width=\"71\" x=\"170.5\" y=\"116\"/><text fill=\"#000000\" font-family=\"sans-serif\" font-size=\"12\" font-style=\"italic\" lengthAdjust=\"spacingAndGlyphs\" textLength=\"69\" x=\"171.5\" y=\"132.1387\">«attribute»</text><text fill=\"#000000\" font-family=\"sans-serif\" font-size=\"12\" lengthAdjust=\"spacingAndGlyphs\" textLength=\"11\" x=\"198.5\" y=\"146.1074\">m</text><line style=\"stroke: #383838; stroke-width: 1.5;\" x1=\"171.5\" x2=\"240.5\" y1=\"153.9375\" y2=\"153.9375\"/></a><g id=\"E1.E9\"><a href=\"psysml:1ec49292-f6e0-4564-a681-346e27695197\" target=\"_top\" title=\"psysml:1ec49292-f6e0-4564-a681-346e27695197\" xlink:actuate=\"onRequest\" xlink:href=\"psysml:1ec49292-f6e0-4564-a681-346e27695197\" xlink:show=\"new\" xlink:title=\"psysml:1ec49292-f6e0-4564-a681-346e27695197\" xlink:type=\"simple\"><rect fill=\"#FFFFFF\" height=\"40\" id=\"E9\" rx=\"10\" ry=\"10\" style=\"stroke: #383838; stroke-width: 1.5;\" width=\"68\" x=\"32\" y=\"119\"/><rect fill=\"#F8F8F8\" height=\"23.9688\" rx=\"10\" ry=\"10\" style=\"stroke: #F8F8F8; stroke-width: 1.5;\" width=\"68\" x=\"32\" y=\"119\"/><rect fill=\"#F8F8F8\" height=\"10\" style=\"stroke: #F8F8F8; stroke-width: 1.5;\" width=\"68\" x=\"32\" y=\"132.9688\"/><rect fill=\"none\" height=\"40\" id=\"E9\" rx=\"10\" ry=\"10\" style=\"stroke: #383838; stroke-width: 1.5;\" width=\"68\" x=\"32\" y=\"119\"/><text fill=\"#000000\" font-family=\"sans-serif\" font-size=\"12\" lengthAdjust=\"spacingAndGlyphs\" textLength=\"53\" x=\"37.5\" y=\"135.1387\">v2= W();</text></a></g><!--MD5=[a717450b82c80b9240a525fa862496af]\n",
       "link E6 to E3--><a href=\"psysml:df608862-84ce-4303-af6e-5dfc61cbb6d2\" target=\"_top\" title=\"psysml:df608862-84ce-4303-af6e-5dfc61cbb6d2\" xlink:actuate=\"onRequest\" xlink:href=\"psysml:df608862-84ce-4303-af6e-5dfc61cbb6d2\" xlink:show=\"new\" xlink:title=\"psysml:df608862-84ce-4303-af6e-5dfc61cbb6d2\" xlink:type=\"simple\"><path d=\"M366.5,162.14 C366.5,162.14 366.5,264.86 366.5,264.86 \" fill=\"none\" id=\"E6-&gt;E3\" style=\"stroke: #383838; stroke-width: 1.0;\"/><polygon fill=\"#FFFFFF\" points=\"366.5,284.86,359.5,265.86,373.5,265.86,366.5,284.86\" style=\"stroke: #383838; stroke-width: 1.0;\"/><line style=\"stroke: #383838; stroke-width: 2.0;\" x1=\"359.5\" x2=\"373.5\" y1=\"262.06\" y2=\"262.06\"/></a><!--MD5=[15ebcb19ae302d9b601edb458606d402]\n",
       "link E5 to E2--><a href=\"psysml:eb47ef55-8727-46f8-948e-289e011721f9\" target=\"_top\" title=\"psysml:eb47ef55-8727-46f8-948e-289e011721f9\" xlink:actuate=\"onRequest\" xlink:href=\"psysml:eb47ef55-8727-46f8-948e-289e011721f9\" xlink:show=\"new\" xlink:title=\"psysml:eb47ef55-8727-46f8-948e-289e011721f9\" xlink:type=\"simple\"><path d=\"M305.9816,139 C305.8485,139 305.7151,139 305.5813,139 C305.3139,139 305.0453,139 304.7764,139 C304.2385,139 303.6995,139 303.1663,139 C298.9,139 295,139 295,139 C295,139 295,224 295,224 C295,224 171.25,224 171.25,224 C171.25,224 171.25,224.2981 171.25,224.8587 C171.25,225.1391 171.25,225.485 171.25,225.8922 \" fill=\"none\" id=\"E5-&gt;E2\" style=\"stroke: #383838; stroke-width: 1.0;\"/><polygon fill=\"#FFFFFF\" points=\"171.25,225.8922,164.25,206.8922,178.25,206.8922,171.25,225.8922\" style=\"stroke: #383838; stroke-width: 1.0;\"/><ellipse cx=\"166.25\" cy=\"201.1922\" fill=\"#383838\" rx=\"2\" ry=\"2\" style=\"stroke: #383838; stroke-width: 1.0;\"/><ellipse cx=\"176.25\" cy=\"201.1922\" fill=\"#383838\" rx=\"2\" ry=\"2\" style=\"stroke: #383838; stroke-width: 1.0;\"/></a><!--MD5=[583832df87f4419a098336a29a52fa00]\n",
       "link E7 to E2--><a href=\"psysml:3b658baa-aed2-418d-9cf3-f3993d6dea2d\" target=\"_top\" title=\"psysml:3b658baa-aed2-418d-9cf3-f3993d6dea2d\" xlink:actuate=\"onRequest\" xlink:href=\"psysml:3b658baa-aed2-418d-9cf3-f3993d6dea2d\" xlink:show=\"new\" xlink:title=\"psysml:3b658baa-aed2-418d-9cf3-f3993d6dea2d\" xlink:type=\"simple\"><path d=\"M170.25,186.5961 C170.25,186.8918 170.25,187.1882 170.25,187.4853 C170.25,188.6738 170.25,189.874 170.25,191.0847 C170.25,200.77 170.25,211.125 170.25,221.52 C170.25,222.8194 170.25,224.1194 170.25,225.4188 C170.25,225.5812 170.25,225.7436 170.25,225.906 \" fill=\"none\" id=\"E7-&gt;E2\" style=\"stroke: #383838; stroke-width: 1.0;\"/><polygon fill=\"#FFFFFF\" points=\"170.25,225.906,177.25,206.906,163.25,206.906,170.25,225.906\" style=\"stroke: #383838; stroke-width: 1.0;\"/></a><!--MD5=[95fa686b5a16158bcdbcaeead89f639b]\n",
       "link E8 to E3--><a href=\"psysml:d0f3a95a-9489-4833-bd9a-1794072888fe\" target=\"_top\" title=\"psysml:d0f3a95a-9489-4833-bd9a-1794072888fe\" xlink:actuate=\"onRequest\" xlink:href=\"psysml:d0f3a95a-9489-4833-bd9a-1794072888fe\" xlink:show=\"new\" xlink:title=\"psysml:d0f3a95a-9489-4833-bd9a-1794072888fe\" xlink:type=\"simple\"><path d=\"M241.66,151 C273.12,151 314,151 314,151 C314,151 314,264.83 314,264.83 \" fill=\"none\" id=\"E8-&gt;E3\" style=\"stroke: #383838; stroke-width: 1.0;\"/><polygon fill=\"#FFFFFF\" points=\"314,284.83,307,265.83,321,265.83,314,284.83\" style=\"stroke: #383838; stroke-width: 1.0;\"/><line style=\"stroke: #383838; stroke-width: 2.0;\" x1=\"307\" x2=\"321\" y1=\"262.03\" y2=\"262.03\"/></a><!--MD5=[de0c995ab411e773ae8d7b85c5355cb3]\n",
       "@startuml\r\n",
       "skinparam ranksep 10\r\n",
       "skinparam rectangle {\r\n",
       " backgroundColor<<block>> LightGreen\r\n",
       "}\r\n",
       "skinparam linetype ortho\r\n",
       "skinparam monochrome true\r\n",
       "skinparam classbackgroundcolor white\r\n",
       "skinparam shadowing false\r\n",
       "skinparam wrapWidth 300\r\n",
       "hide circle\r\n",
       "\r\n",
       "package \"DefaultValueTest\" as E1  [[psysml:e41cdd27-e179-4271-915e-4358fc3ae044 ]]  {\r\n",
       "rec def \"V\" as E2  <<(T,blue) part  def>> [[psysml:95d35419-5cb2-4278-8f59-96945510244a ]] {\r\n",
       "comp usage \"m \" as E3  <<(T,blue) attribute>> [[psysml:6a54ba7f-e62a-486f-80dd-d9293281f966 ]] {\r\n",
       "}\r\n",
       "comp usage \"n \" as E4  <<(T,blue) attribute>> [[psysml:16f4b3d0-0144-41cb-ad29-b9c3c07c611b ]] {\r\n",
       "}\r\n",
       "}\r\n",
       "rec usage \"v1: V\" as E5  [[psysml:b8cf69e7-8508-48d3-98c1-1a5aff225283 ]] {\r\n",
       "comp usage \"m \" as E6  <<(T,blue) attribute>> [[psysml:8ab4ea45-bcef-481a-a1e6-04e630fb5715 ]] {\r\n",
       "}\r\n",
       "}\r\n",
       "rec def \"W\" as E7  <<(T,blue) part  def>> [[psysml:75d7f18d-3bb0-43da-8a1f-920414b7c194 ]] {\r\n",
       "comp usage \"m \" as E8  <<(T,blue) attribute>> [[psysml:1da3bab2-1d8c-4ebe-95aa-17b6e9277a07 ]] {\r\n",
       "}\r\n",
       "}\r\n",
       "rec usage \"v2= W(); \" as E9  [[psysml:1ec49292-f6e0-4564-a681-346e27695197 ]] {\r\n",
       "}\r\n",
       "}\r\n",
       "E6 - -||> E3 [[psysml:df608862-84ce-4303-af6e-5dfc61cbb6d2 ]] \r\n",
       "E5 - -:|> E2 [[psysml:eb47ef55-8727-46f8-948e-289e011721f9 ]] \r\n",
       "E7 - -|> E2 [[psysml:3b658baa-aed2-418d-9cf3-f3993d6dea2d ]] \r\n",
       "E8 - -||> E3 [[psysml:d0f3a95a-9489-4833-bd9a-1794072888fe ]] \r\n",
       "@enduml\r\n",
       "\n",
       "PlantUML version 1.2020.13(Sat Jun 13 12:26:38 UTC 2020)\n",
       "(EPL source distribution)\n",
       "Java Runtime: OpenJDK Runtime Environment\n",
       "JVM: OpenJDK 64-Bit Server VM\n",
       "Default Encoding: UTF-8\n",
       "Language: en\n",
       "Country: null\n",
       "--></g></svg>"
      ]
     },
     "execution_count": 54,
     "metadata": {},
     "output_type": "execute_result"
    }
   ],
   "source": [
    "%viz --style=\"ORTHOLINE\" --view=\"Interconnection\" \"DefaultValueTest\""
   ]
  },
  {
   "cell_type": "code",
   "execution_count": 55,
   "id": "08b68b4d",
   "metadata": {
    "execution": {
     "iopub.execute_input": "2022-07-23T10:55:47.723093Z",
     "iopub.status.busy": "2022-07-23T10:55:47.722628Z",
     "iopub.status.idle": "2022-07-23T10:55:47.727072Z",
     "shell.execute_reply": "2022-07-23T10:55:47.726663Z"
    }
   },
   "outputs": [
    {
     "data": {
      "image/svg+xml": [
       "<?xml version=\"1.0\" encoding=\"UTF-8\" standalone=\"no\"?><svg xmlns=\"http://www.w3.org/2000/svg\" xmlns:xlink=\"http://www.w3.org/1999/xlink\" contentScriptType=\"application/ecmascript\" contentStyleType=\"text/css\" height=\"12px\" preserveAspectRatio=\"none\" style=\"width:12px;height:12px;\" version=\"1.1\" viewBox=\"0 0 12 12\" width=\"12px\" zoomAndPan=\"magnify\"><defs/><g><!--MD5=[72934c63077099a26744516a776b4749]\n",
       "@startuml\r\n",
       "skinparam ranksep 8\r\n",
       "skinparam linetype ortho\r\n",
       "skinparam monochrome true\r\n",
       "skinparam classbackgroundcolor white\r\n",
       "skinparam shadowing false\r\n",
       "skinparam wrapWidth 300\r\n",
       "hide circle\r\n",
       "\r\n",
       "@enduml\r\n",
       "\n",
       "PlantUML version 1.2020.13(Sat Jun 13 12:26:38 UTC 2020)\n",
       "(EPL source distribution)\n",
       "Java Runtime: OpenJDK Runtime Environment\n",
       "JVM: OpenJDK 64-Bit Server VM\n",
       "Default Encoding: UTF-8\n",
       "Language: en\n",
       "Country: null\n",
       "--></g></svg>"
      ]
     },
     "execution_count": 55,
     "metadata": {},
     "output_type": "execute_result"
    }
   ],
   "source": [
    "%viz --style=\"ORTHOLINE\" --view=\"Action\" \"DefaultValueTest\""
   ]
  },
  {
   "cell_type": "code",
   "execution_count": 56,
   "id": "e5a73e2e",
   "metadata": {
    "execution": {
     "iopub.execute_input": "2022-07-23T10:55:47.777012Z",
     "iopub.status.busy": "2022-07-23T10:55:47.776551Z",
     "iopub.status.idle": "2022-07-23T10:55:47.782849Z",
     "shell.execute_reply": "2022-07-23T10:55:47.783172Z"
    }
   },
   "outputs": [
    {
     "data": {
      "image/svg+xml": [
       "<?xml version=\"1.0\" encoding=\"UTF-8\" standalone=\"no\"?><svg xmlns=\"http://www.w3.org/2000/svg\" xmlns:xlink=\"http://www.w3.org/1999/xlink\" contentScriptType=\"application/ecmascript\" contentStyleType=\"text/css\" height=\"12px\" preserveAspectRatio=\"none\" style=\"width:12px;height:12px;\" version=\"1.1\" viewBox=\"0 0 12 12\" width=\"12px\" zoomAndPan=\"magnify\"><defs/><g><!--MD5=[30fc1de5121c5abddedd55b44417fde8]\n",
       "@startuml\r\n",
       "skinparam roundcorner 20\r\n",
       "skinparam BoxPadding 20\r\n",
       "skinparam SequenceBoxBackgroundColor #white\r\n",
       "skinparam style strictuml\r\n",
       "skinparam maxMessageSize 100\r\n",
       "skinparam linetype ortho\r\n",
       "skinparam monochrome true\r\n",
       "skinparam classbackgroundcolor white\r\n",
       "skinparam shadowing false\r\n",
       "skinparam wrapWidth 300\r\n",
       "hide circle\r\n",
       "\r\n",
       "@enduml\r\n",
       "\n",
       "PlantUML version 1.2020.13(Sat Jun 13 12:26:38 UTC 2020)\n",
       "(EPL source distribution)\n",
       "Java Runtime: OpenJDK Runtime Environment\n",
       "JVM: OpenJDK 64-Bit Server VM\n",
       "Default Encoding: UTF-8\n",
       "Language: en\n",
       "Country: null\n",
       "--></g></svg>"
      ]
     },
     "execution_count": 56,
     "metadata": {},
     "output_type": "execute_result"
    }
   ],
   "source": [
    "%viz --style=\"ORTHOLINE\" --view=\"Sequence\" \"DefaultValueTest\""
   ]
  },
  {
   "cell_type": "code",
   "execution_count": 57,
   "id": "9c070d83",
   "metadata": {
    "execution": {
     "iopub.execute_input": "2022-07-23T10:55:47.833224Z",
     "iopub.status.busy": "2022-07-23T10:55:47.832764Z",
     "iopub.status.idle": "2022-07-23T10:55:47.916712Z",
     "shell.execute_reply": "2022-07-23T10:55:47.915302Z"
    }
   },
   "outputs": [
    {
     "data": {
      "image/svg+xml": [
       "<?xml version=\"1.0\" encoding=\"UTF-8\" standalone=\"no\"?><svg xmlns=\"http://www.w3.org/2000/svg\" xmlns:xlink=\"http://www.w3.org/1999/xlink\" contentScriptType=\"application/ecmascript\" contentStyleType=\"text/css\" height=\"305px\" preserveAspectRatio=\"none\" style=\"width:349px;height:305px;\" version=\"1.1\" viewBox=\"0 0 349 305\" width=\"349px\" zoomAndPan=\"magnify\"><defs/><g><!--MD5=[fbc87193dbaf4d95561dea2c320d4a47]\n",
       "cluster E1--><a href=\"psysml:e41cdd27-e179-4271-915e-4358fc3ae044\" target=\"_top\" title=\"psysml:e41cdd27-e179-4271-915e-4358fc3ae044\" xlink:actuate=\"onRequest\" xlink:href=\"psysml:e41cdd27-e179-4271-915e-4358fc3ae044\" xlink:show=\"new\" xlink:title=\"psysml:e41cdd27-e179-4271-915e-4358fc3ae044\" xlink:type=\"simple\"><polygon fill=\"#FFFFFF\" points=\"16,6,140,6,147,28.2969,327,28.2969,327,293,16,293,16,6\" style=\"stroke: #000000; stroke-width: 1.5;\"/><line style=\"stroke: #000000; stroke-width: 1.5;\" x1=\"16\" x2=\"147\" y1=\"28.2969\" y2=\"28.2969\"/><text fill=\"#000000\" font-family=\"sans-serif\" font-size=\"14\" font-weight=\"bold\" lengthAdjust=\"spacingAndGlyphs\" textLength=\"118\" x=\"20\" y=\"20.9951\">DefaultValueTest</text></a><!--MD5=[b4997ac47864f28c2f74865a473b2911]\n",
       "class E2--><a href=\"psysml:95d35419-5cb2-4278-8f59-96945510244a\" target=\"_top\" title=\"psysml:95d35419-5cb2-4278-8f59-96945510244a\" xlink:actuate=\"onRequest\" xlink:href=\"psysml:95d35419-5cb2-4278-8f59-96945510244a\" xlink:show=\"new\" xlink:title=\"psysml:95d35419-5cb2-4278-8f59-96945510244a\" xlink:type=\"simple\"><rect fill=\"#FFFFFF\" height=\"88.3516\" id=\"E2\" style=\"stroke: #383838; stroke-width: 1.5;\" width=\"106\" x=\"156\" y=\"189\"/><text fill=\"#000000\" font-family=\"sans-serif\" font-size=\"12\" font-style=\"italic\" lengthAdjust=\"spacingAndGlyphs\" textLength=\"68\" x=\"175\" y=\"205.1387\">«part  def»</text><text fill=\"#000000\" font-family=\"sans-serif\" font-size=\"12\" lengthAdjust=\"spacingAndGlyphs\" textLength=\"8\" x=\"205\" y=\"219.1074\">V</text><line style=\"stroke: #383838; stroke-width: 1.5;\" x1=\"157\" x2=\"261\" y1=\"226.9375\" y2=\"226.9375\"/><text fill=\"#000000\" font-family=\"sans-serif\" font-size=\"11\" lengthAdjust=\"spacingAndGlyphs\" textLength=\"94\" x=\"162\" y=\"257.9526\">m=default = 10;</text><text fill=\"#000000\" font-family=\"sans-serif\" font-size=\"11\" lengthAdjust=\"spacingAndGlyphs\" textLength=\"38\" x=\"162\" y=\"270.7573\">n= 20;</text><line style=\"stroke: #383838; stroke-width: 1.0;\" x1=\"157\" x2=\"181.5\" y1=\"241.3398\" y2=\"241.3398\"/><text fill=\"#000000\" font-family=\"sans-serif\" font-size=\"11\" lengthAdjust=\"spacingAndGlyphs\" textLength=\"55\" x=\"181.5\" y=\"244.6479\">attributes</text><line style=\"stroke: #383838; stroke-width: 1.0;\" x1=\"236.5\" x2=\"261\" y1=\"241.3398\" y2=\"241.3398\"/></a><!--MD5=[09b614a08d8cba4a07c9adeb5e0fee81]\n",
       "class E3--><a href=\"psysml:b8cf69e7-8508-48d3-98c1-1a5aff225283\" target=\"_top\" title=\"psysml:b8cf69e7-8508-48d3-98c1-1a5aff225283\" xlink:actuate=\"onRequest\" xlink:href=\"psysml:b8cf69e7-8508-48d3-98c1-1a5aff225283\" xlink:show=\"new\" xlink:title=\"psysml:b8cf69e7-8508-48d3-98c1-1a5aff225283\" xlink:type=\"simple\"><rect fill=\"#FFFFFF\" height=\"88.3516\" id=\"E3\" rx=\"10\" ry=\"10\" style=\"stroke: #383838; stroke-width: 1.5;\" width=\"63\" x=\"247.5\" y=\"41\"/><text fill=\"#000000\" font-family=\"sans-serif\" font-size=\"12\" font-style=\"italic\" lengthAdjust=\"spacingAndGlyphs\" textLength=\"40\" x=\"259\" y=\"57.1387\">«part»</text><text fill=\"#000000\" font-family=\"sans-serif\" font-size=\"12\" lengthAdjust=\"spacingAndGlyphs\" textLength=\"30\" x=\"262\" y=\"71.1074\">v1: V</text><line style=\"stroke: #383838; stroke-width: 1.5;\" x1=\"248.5\" x2=\"309.5\" y1=\"78.9375\" y2=\"78.9375\"/><text fill=\"#000000\" font-family=\"sans-serif\" font-size=\"11\" lengthAdjust=\"spacingAndGlyphs\" textLength=\"42\" x=\"253.5\" y=\"109.9526\">m= 20;</text><text fill=\"#000000\" font-family=\"sans-serif\" font-size=\"11\" font-style=\"italic\" lengthAdjust=\"spacingAndGlyphs\" textLength=\"48\" x=\"253.5\" y=\"122.7573\">:&gt;&gt;V::m</text><line style=\"stroke: #383838; stroke-width: 1.0;\" x1=\"248.5\" x2=\"251.5\" y1=\"93.3398\" y2=\"93.3398\"/><text fill=\"#000000\" font-family=\"sans-serif\" font-size=\"11\" lengthAdjust=\"spacingAndGlyphs\" textLength=\"55\" x=\"251.5\" y=\"96.6479\">attributes</text><line style=\"stroke: #383838; stroke-width: 1.0;\" x1=\"306.5\" x2=\"309.5\" y1=\"93.3398\" y2=\"93.3398\"/></a><!--MD5=[ebbe1d658d1005bcc118a6aa81145e00]\n",
       "class E4--><a href=\"psysml:75d7f18d-3bb0-43da-8a1f-920414b7c194\" target=\"_top\" title=\"psysml:75d7f18d-3bb0-43da-8a1f-920414b7c194\" xlink:actuate=\"onRequest\" xlink:href=\"psysml:75d7f18d-3bb0-43da-8a1f-920414b7c194\" xlink:show=\"new\" xlink:title=\"psysml:75d7f18d-3bb0-43da-8a1f-920414b7c194\" xlink:type=\"simple\"><rect fill=\"#FFFFFF\" height=\"88.3516\" id=\"E4\" style=\"stroke: #383838; stroke-width: 1.5;\" width=\"103\" x=\"109.5\" y=\"41\"/><text fill=\"#000000\" font-family=\"sans-serif\" font-size=\"12\" font-style=\"italic\" lengthAdjust=\"spacingAndGlyphs\" textLength=\"68\" x=\"127\" y=\"57.1387\">«part  def»</text><text fill=\"#000000\" font-family=\"sans-serif\" font-size=\"12\" lengthAdjust=\"spacingAndGlyphs\" textLength=\"11\" x=\"155.5\" y=\"71.1074\">W</text><line style=\"stroke: #383838; stroke-width: 1.5;\" x1=\"110.5\" x2=\"211.5\" y1=\"78.9375\" y2=\"78.9375\"/><text fill=\"#000000\" font-family=\"sans-serif\" font-size=\"11\" lengthAdjust=\"spacingAndGlyphs\" textLength=\"87\" x=\"115.5\" y=\"109.9526\">m=default = n;</text><text fill=\"#000000\" font-family=\"sans-serif\" font-size=\"11\" font-style=\"italic\" lengthAdjust=\"spacingAndGlyphs\" textLength=\"48\" x=\"115.5\" y=\"122.7573\">:&gt;&gt;V::m</text><line style=\"stroke: #383838; stroke-width: 1.0;\" x1=\"110.5\" x2=\"133.5\" y1=\"93.3398\" y2=\"93.3398\"/><text fill=\"#000000\" font-family=\"sans-serif\" font-size=\"11\" lengthAdjust=\"spacingAndGlyphs\" textLength=\"55\" x=\"133.5\" y=\"96.6479\">attributes</text><line style=\"stroke: #383838; stroke-width: 1.0;\" x1=\"188.5\" x2=\"211.5\" y1=\"93.3398\" y2=\"93.3398\"/></a><!--MD5=[270fce915f116d4de14055a7c1d9a0f3]\n",
       "class E5--><a href=\"psysml:1ec49292-f6e0-4564-a681-346e27695197\" target=\"_top\" title=\"psysml:1ec49292-f6e0-4564-a681-346e27695197\" xlink:actuate=\"onRequest\" xlink:href=\"psysml:1ec49292-f6e0-4564-a681-346e27695197\" xlink:show=\"new\" xlink:title=\"psysml:1ec49292-f6e0-4564-a681-346e27695197\" xlink:type=\"simple\"><rect fill=\"#FFFFFF\" height=\"45.9375\" id=\"E5\" rx=\"10\" ry=\"10\" style=\"stroke: #383838; stroke-width: 1.5;\" width=\"42\" x=\"32\" y=\"62\"/><text fill=\"#000000\" font-family=\"sans-serif\" font-size=\"12\" font-style=\"italic\" lengthAdjust=\"spacingAndGlyphs\" textLength=\"40\" x=\"33\" y=\"78.1387\">«part»</text><text fill=\"#000000\" font-family=\"sans-serif\" font-size=\"12\" lengthAdjust=\"spacingAndGlyphs\" textLength=\"14\" x=\"44\" y=\"92.1074\">v2</text><line style=\"stroke: #383838; stroke-width: 1.5;\" x1=\"33\" x2=\"73\" y1=\"99.9375\" y2=\"99.9375\"/></a><!--MD5=[05d275557350bfb9b23a4ef7222b4c39]\n",
       "link E3 to E2--><a href=\"psysml:eb47ef55-8727-46f8-948e-289e011721f9\" target=\"_top\" title=\"psysml:eb47ef55-8727-46f8-948e-289e011721f9\" xlink:actuate=\"onRequest\" xlink:href=\"psysml:eb47ef55-8727-46f8-948e-289e011721f9\" xlink:show=\"new\" xlink:title=\"psysml:eb47ef55-8727-46f8-948e-289e011721f9\" xlink:type=\"simple\"><path d=\"M254.75,129 C254.75,129 254.75,168.91 254.75,168.91 \" fill=\"none\" id=\"E3-&gt;E2\" style=\"stroke: #383838; stroke-width: 1.0;\"/><polygon fill=\"#FFFFFF\" points=\"254.75,188.91,247.75,169.91,261.75,169.91,254.75,188.91\" style=\"stroke: #383838; stroke-width: 1.0;\"/><ellipse cx=\"249.75\" cy=\"164.21\" fill=\"#383838\" rx=\"2\" ry=\"2\" style=\"stroke: #383838; stroke-width: 1.0;\"/><ellipse cx=\"259.75\" cy=\"164.21\" fill=\"#383838\" rx=\"2\" ry=\"2\" style=\"stroke: #383838; stroke-width: 1.0;\"/></a><!--MD5=[185131fc0dcab0a4505a2ebe144e961b]\n",
       "link E4 to E2--><a href=\"psysml:3b658baa-aed2-418d-9cf3-f3993d6dea2d\" target=\"_top\" title=\"psysml:3b658baa-aed2-418d-9cf3-f3993d6dea2d\" xlink:actuate=\"onRequest\" xlink:href=\"psysml:3b658baa-aed2-418d-9cf3-f3993d6dea2d\" xlink:show=\"new\" xlink:title=\"psysml:3b658baa-aed2-418d-9cf3-f3993d6dea2d\" xlink:type=\"simple\"><path d=\"M184.25,129 C184.25,129 184.25,168.91 184.25,168.91 \" fill=\"none\" id=\"E4-&gt;E2\" style=\"stroke: #383838; stroke-width: 1.0;\"/><polygon fill=\"none\" points=\"191.25,168.91,184.25,188.91,177.25,168.91,191.25,168.91\" style=\"stroke: #383838; stroke-width: 1.0;\"/></a><!--MD5=[dee9307b006384edca8771c198589e60]\n",
       "@startuml\r\n",
       "skinparam linetype ortho\r\n",
       "skinparam monochrome true\r\n",
       "skinparam classbackgroundcolor white\r\n",
       "skinparam shadowing false\r\n",
       "skinparam wrapWidth 300\r\n",
       "hide circle\r\n",
       "\r\n",
       "package \"DefaultValueTest\" as E1  [[psysml:e41cdd27-e179-4271-915e-4358fc3ae044 ]]  {\r\n",
       "comp def \"V\" as E2  <<(T,blue) part  def>> [[psysml:95d35419-5cb2-4278-8f59-96945510244a ]] {\r\n",
       "- - attributes - -\r\n",
       "m=default = 10; \r\n",
       "n= 20; \r\n",
       "}\r\n",
       "comp usage \"v1: V \" as E3  <<(T,blue) part>> [[psysml:b8cf69e7-8508-48d3-98c1-1a5aff225283 ]] {\r\n",
       "- - attributes - -\r\n",
       "m= 20; \\n//:>>V::m// \r\n",
       "}\r\n",
       "comp def \"W\" as E4  <<(T,blue) part  def>> [[psysml:75d7f18d-3bb0-43da-8a1f-920414b7c194 ]] {\r\n",
       "- - attributes - -\r\n",
       "m=default = n; \\n//:>>V::m// \r\n",
       "}\r\n",
       "comp usage \"v2 \" as E5  <<(T,blue) part>> [[psysml:1ec49292-f6e0-4564-a681-346e27695197 ]] {\r\n",
       "}\r\n",
       "}\r\n",
       "E3 - -:|> E2 [[psysml:eb47ef55-8727-46f8-948e-289e011721f9 ]] \r\n",
       "E4 - -|> E2 [[psysml:3b658baa-aed2-418d-9cf3-f3993d6dea2d ]] \r\n",
       "@enduml\r\n",
       "\n",
       "PlantUML version 1.2020.13(Sat Jun 13 12:26:38 UTC 2020)\n",
       "(EPL source distribution)\n",
       "Java Runtime: OpenJDK Runtime Environment\n",
       "JVM: OpenJDK 64-Bit Server VM\n",
       "Default Encoding: UTF-8\n",
       "Language: en\n",
       "Country: null\n",
       "--></g></svg>"
      ]
     },
     "execution_count": 57,
     "metadata": {},
     "output_type": "execute_result"
    }
   ],
   "source": [
    "%viz --style=\"ORTHOLINE\" --view=\"MIXED\" \"DefaultValueTest\""
   ]
  }
 ],
 "metadata": {
  "kernelspec": {
   "display_name": "SysML",
   "language": "sysml",
   "name": "sysml"
  },
  "language_info": {
   "codemirror_mode": "sysml",
   "file_extension": ".sysml",
   "mimetype": "text/x-sysml",
   "name": "SysML",
   "pygments_lexer": "java",
   "version": "1.0.0"
  }
 },
 "nbformat": 4,
 "nbformat_minor": 5
}
