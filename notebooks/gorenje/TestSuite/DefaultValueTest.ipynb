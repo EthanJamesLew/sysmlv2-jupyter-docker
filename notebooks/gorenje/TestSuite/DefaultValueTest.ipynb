{
 "cells": [
  {
   "cell_type": "markdown",
   "id": "5b66aa76",
   "metadata": {},
   "source": [
    "# SysML v2 Test Suite\n",
    "\n",
    "This can notebook can be cleared using menu `Edit --> Clear All Outputs` and then all cells can be\n",
    "run using menu `Run --> Run All Cells`.\n",
    "\n",
    "**WARNING**: This file is generated, all modifications here will be ignored.\n"
   ]
  },
  {
   "cell_type": "markdown",
   "id": "8d151850",
   "metadata": {},
   "source": [
    "## File: ../../sysml/src/examples/Simple Tests/DefaultValueTest.sysml"
   ]
  },
  {
   "cell_type": "code",
   "execution_count": 1,
   "id": "54e52cd8",
   "metadata": {
    "execution": {
     "iopub.execute_input": "2021-08-04T06:28:40.219222Z",
     "iopub.status.busy": "2021-08-04T06:28:40.218036Z",
     "iopub.status.idle": "2021-08-04T06:28:40.437963Z",
     "shell.execute_reply": "2021-08-04T06:28:40.438306Z"
    }
   },
   "outputs": [
    {
     "data": {
      "text/plain": [
       "Package DefaultValueTest (cec5efd9-05ce-4b47-b690-b12155695cfe)\n"
      ]
     },
     "execution_count": 1,
     "metadata": {},
     "output_type": "execute_result"
    }
   ],
   "source": [
    "package DefaultValueTest {\n",
    "\t\n",
    "\tpart def V {\n",
    "\t\tattribute m default = 10;\n",
    "\t\tattribute n = 20;\n",
    "\t}\n",
    "\t\n",
    "\tpart v1 : V {\n",
    "\t\tattribute :>> m = 20;\n",
    "\t}\n",
    "\t\n",
    "\tpart def W :> V {\n",
    "\t\tattribute :>> m default = n;\n",
    "\t}\n",
    "\t\n",
    "\tpart v2 = W();\n",
    "\t\n",
    "}"
   ]
  },
  {
   "cell_type": "code",
   "execution_count": 2,
   "id": "5cbb9ab9",
   "metadata": {
    "execution": {
     "iopub.execute_input": "2021-08-04T06:28:40.487269Z",
     "iopub.status.busy": "2021-08-04T06:28:40.486837Z",
     "iopub.status.idle": "2021-08-04T06:28:40.938006Z",
     "shell.execute_reply": "2021-08-04T06:28:40.936579Z"
    }
   },
   "outputs": [
    {
     "data": {
      "image/svg+xml": [
       "<?xml version=\"1.0\" encoding=\"UTF-8\" standalone=\"no\"?><svg xmlns=\"http://www.w3.org/2000/svg\" xmlns:xlink=\"http://www.w3.org/1999/xlink\" contentScriptType=\"application/ecmascript\" contentStyleType=\"text/css\" height=\"305px\" preserveAspectRatio=\"none\" style=\"width:349px;height:305px;\" version=\"1.1\" viewBox=\"0 0 349 305\" width=\"349px\" zoomAndPan=\"magnify\"><defs/><g><!--MD5=[fbc87193dbaf4d95561dea2c320d4a47]\n",
       "cluster E1--><a href=\"psysml:e269850e-1dc2-4cd5-af8e-eb4ea9f30c1b\" target=\"_top\" title=\"psysml:e269850e-1dc2-4cd5-af8e-eb4ea9f30c1b\" xlink:actuate=\"onRequest\" xlink:href=\"psysml:e269850e-1dc2-4cd5-af8e-eb4ea9f30c1b\" xlink:show=\"new\" xlink:title=\"psysml:e269850e-1dc2-4cd5-af8e-eb4ea9f30c1b\" xlink:type=\"simple\"><polygon fill=\"#FFFFFF\" points=\"16,6,157,6,164,28.2969,327,28.2969,327,293,16,293,16,6\" style=\"stroke: #000000; stroke-width: 1.5;\"/><line style=\"stroke: #000000; stroke-width: 1.5;\" x1=\"16\" x2=\"164\" y1=\"28.2969\" y2=\"28.2969\"/><text fill=\"#000000\" font-family=\"sans-serif\" font-size=\"14\" font-weight=\"bold\" lengthAdjust=\"spacingAndGlyphs\" textLength=\"135\" x=\"20\" y=\"20.9951\">DefaultValueTest</text></a><!--MD5=[b4997ac47864f28c2f74865a473b2911]\n",
       "class E2--><a href=\"psysml:e7bf9c65-3f81-4ba3-bb8e-9b75385edfca\" target=\"_top\" title=\"psysml:e7bf9c65-3f81-4ba3-bb8e-9b75385edfca\" xlink:actuate=\"onRequest\" xlink:href=\"psysml:e7bf9c65-3f81-4ba3-bb8e-9b75385edfca\" xlink:show=\"new\" xlink:title=\"psysml:e7bf9c65-3f81-4ba3-bb8e-9b75385edfca\" xlink:type=\"simple\"><rect fill=\"#FFFFFF\" height=\"88.3516\" id=\"E2\" style=\"stroke: #383838; stroke-width: 1.5;\" width=\"106\" x=\"156\" y=\"189\"/><text fill=\"#000000\" font-family=\"sans-serif\" font-size=\"12\" font-style=\"italic\" lengthAdjust=\"spacingAndGlyphs\" textLength=\"64\" x=\"177\" y=\"205.1387\">«part def»</text><text fill=\"#000000\" font-family=\"sans-serif\" font-size=\"12\" lengthAdjust=\"spacingAndGlyphs\" textLength=\"8\" x=\"205\" y=\"219.1074\">V</text><line style=\"stroke: #383838; stroke-width: 1.5;\" x1=\"157\" x2=\"261\" y1=\"226.9375\" y2=\"226.9375\"/><text fill=\"#000000\" font-family=\"sans-serif\" font-size=\"11\" lengthAdjust=\"spacingAndGlyphs\" textLength=\"94\" x=\"162\" y=\"257.9526\">m=default = 10;</text><text fill=\"#000000\" font-family=\"sans-serif\" font-size=\"11\" lengthAdjust=\"spacingAndGlyphs\" textLength=\"38\" x=\"162\" y=\"270.7573\">n= 20;</text><line style=\"stroke: #383838; stroke-width: 1.0;\" x1=\"157\" x2=\"181.5\" y1=\"241.3398\" y2=\"241.3398\"/><text fill=\"#000000\" font-family=\"sans-serif\" font-size=\"11\" lengthAdjust=\"spacingAndGlyphs\" textLength=\"55\" x=\"181.5\" y=\"244.6479\">attributes</text><line style=\"stroke: #383838; stroke-width: 1.0;\" x1=\"236.5\" x2=\"261\" y1=\"241.3398\" y2=\"241.3398\"/></a><!--MD5=[09b614a08d8cba4a07c9adeb5e0fee81]\n",
       "class E3--><a href=\"psysml:f1f60863-7632-47b0-830a-21cb33ae86b3\" target=\"_top\" title=\"psysml:f1f60863-7632-47b0-830a-21cb33ae86b3\" xlink:actuate=\"onRequest\" xlink:href=\"psysml:f1f60863-7632-47b0-830a-21cb33ae86b3\" xlink:show=\"new\" xlink:title=\"psysml:f1f60863-7632-47b0-830a-21cb33ae86b3\" xlink:type=\"simple\"><rect fill=\"#FFFFFF\" height=\"88.3516\" id=\"E3\" rx=\"10\" ry=\"10\" style=\"stroke: #383838; stroke-width: 1.5;\" width=\"63\" x=\"247.5\" y=\"41\"/><text fill=\"#000000\" font-family=\"sans-serif\" font-size=\"12\" font-style=\"italic\" lengthAdjust=\"spacingAndGlyphs\" textLength=\"40\" x=\"259\" y=\"57.1387\">«part»</text><text fill=\"#000000\" font-family=\"sans-serif\" font-size=\"12\" lengthAdjust=\"spacingAndGlyphs\" textLength=\"30\" x=\"264\" y=\"71.1074\">v1: V</text><line style=\"stroke: #383838; stroke-width: 1.5;\" x1=\"248.5\" x2=\"309.5\" y1=\"78.9375\" y2=\"78.9375\"/><text fill=\"#000000\" font-family=\"sans-serif\" font-size=\"11\" lengthAdjust=\"spacingAndGlyphs\" textLength=\"42\" x=\"253.5\" y=\"109.9526\">m= 20;</text><text fill=\"#000000\" font-family=\"sans-serif\" font-size=\"11\" font-style=\"italic\" lengthAdjust=\"spacingAndGlyphs\" textLength=\"48\" x=\"253.5\" y=\"122.7573\">:&gt;&gt;V::m</text><line style=\"stroke: #383838; stroke-width: 1.0;\" x1=\"248.5\" x2=\"251.5\" y1=\"93.3398\" y2=\"93.3398\"/><text fill=\"#000000\" font-family=\"sans-serif\" font-size=\"11\" lengthAdjust=\"spacingAndGlyphs\" textLength=\"55\" x=\"251.5\" y=\"96.6479\">attributes</text><line style=\"stroke: #383838; stroke-width: 1.0;\" x1=\"306.5\" x2=\"309.5\" y1=\"93.3398\" y2=\"93.3398\"/></a><!--MD5=[ebbe1d658d1005bcc118a6aa81145e00]\n",
       "class E4--><a href=\"psysml:92194191-781a-4f9d-991e-568f466dae89\" target=\"_top\" title=\"psysml:92194191-781a-4f9d-991e-568f466dae89\" xlink:actuate=\"onRequest\" xlink:href=\"psysml:92194191-781a-4f9d-991e-568f466dae89\" xlink:show=\"new\" xlink:title=\"psysml:92194191-781a-4f9d-991e-568f466dae89\" xlink:type=\"simple\"><rect fill=\"#FFFFFF\" height=\"88.3516\" id=\"E4\" style=\"stroke: #383838; stroke-width: 1.5;\" width=\"103\" x=\"109.5\" y=\"41\"/><text fill=\"#000000\" font-family=\"sans-serif\" font-size=\"12\" font-style=\"italic\" lengthAdjust=\"spacingAndGlyphs\" textLength=\"64\" x=\"129\" y=\"57.1387\">«part def»</text><text fill=\"#000000\" font-family=\"sans-serif\" font-size=\"12\" lengthAdjust=\"spacingAndGlyphs\" textLength=\"11\" x=\"155.5\" y=\"71.1074\">W</text><line style=\"stroke: #383838; stroke-width: 1.5;\" x1=\"110.5\" x2=\"211.5\" y1=\"78.9375\" y2=\"78.9375\"/><text fill=\"#000000\" font-family=\"sans-serif\" font-size=\"11\" lengthAdjust=\"spacingAndGlyphs\" textLength=\"87\" x=\"115.5\" y=\"109.9526\">m=default = n;</text><text fill=\"#000000\" font-family=\"sans-serif\" font-size=\"11\" font-style=\"italic\" lengthAdjust=\"spacingAndGlyphs\" textLength=\"48\" x=\"115.5\" y=\"122.7573\">:&gt;&gt;V::m</text><line style=\"stroke: #383838; stroke-width: 1.0;\" x1=\"110.5\" x2=\"133.5\" y1=\"93.3398\" y2=\"93.3398\"/><text fill=\"#000000\" font-family=\"sans-serif\" font-size=\"11\" lengthAdjust=\"spacingAndGlyphs\" textLength=\"55\" x=\"133.5\" y=\"96.6479\">attributes</text><line style=\"stroke: #383838; stroke-width: 1.0;\" x1=\"188.5\" x2=\"211.5\" y1=\"93.3398\" y2=\"93.3398\"/></a><!--MD5=[270fce915f116d4de14055a7c1d9a0f3]\n",
       "class E5--><a href=\"psysml:12e8b862-a297-4118-9bc9-39ad14290527\" target=\"_top\" title=\"psysml:12e8b862-a297-4118-9bc9-39ad14290527\" xlink:actuate=\"onRequest\" xlink:href=\"psysml:12e8b862-a297-4118-9bc9-39ad14290527\" xlink:show=\"new\" xlink:title=\"psysml:12e8b862-a297-4118-9bc9-39ad14290527\" xlink:type=\"simple\"><rect fill=\"#FFFFFF\" height=\"45.9375\" id=\"E5\" rx=\"10\" ry=\"10\" style=\"stroke: #383838; stroke-width: 1.5;\" width=\"42\" x=\"32\" y=\"62\"/><text fill=\"#000000\" font-family=\"sans-serif\" font-size=\"12\" font-style=\"italic\" lengthAdjust=\"spacingAndGlyphs\" textLength=\"40\" x=\"33\" y=\"78.1387\">«part»</text><text fill=\"#000000\" font-family=\"sans-serif\" font-size=\"12\" lengthAdjust=\"spacingAndGlyphs\" textLength=\"14\" x=\"46\" y=\"92.1074\">v2</text><line style=\"stroke: #383838; stroke-width: 1.5;\" x1=\"33\" x2=\"73\" y1=\"99.9375\" y2=\"99.9375\"/></a><!--MD5=[05d275557350bfb9b23a4ef7222b4c39]\n",
       "link E3 to E2--><a href=\"psysml:a976bee6-0dca-4565-96d2-a44c4ac1d16a\" target=\"_top\" title=\"psysml:a976bee6-0dca-4565-96d2-a44c4ac1d16a\" xlink:actuate=\"onRequest\" xlink:href=\"psysml:a976bee6-0dca-4565-96d2-a44c4ac1d16a\" xlink:show=\"new\" xlink:title=\"psysml:a976bee6-0dca-4565-96d2-a44c4ac1d16a\" xlink:type=\"simple\"><path d=\"M258.38,129.02 C252.17,141.97 245.22,156.45 238.55,170.36 \" fill=\"none\" id=\"E3-&gt;E2\" style=\"stroke: #383838; stroke-width: 1.0;\"/><polygon fill=\"#FFFFFF\" points=\"229.72,188.79,231.6151,168.6304,244.2413,174.6786,229.72,188.79\" style=\"stroke: #383838; stroke-width: 1.0;\"/><ellipse cx=\"235.8813\" cy=\"164.3538\" fill=\"#383838\" rx=\"2\" ry=\"2\" style=\"stroke: #383838; stroke-width: 1.0;\"/><ellipse cx=\"244.9\" cy=\"168.6739\" fill=\"#383838\" rx=\"2\" ry=\"2\" style=\"stroke: #383838; stroke-width: 1.0;\"/></a><!--MD5=[185131fc0dcab0a4505a2ebe144e961b]\n",
       "link E4 to E2--><a href=\"psysml:80b8c15c-720d-43cf-a3f3-f1ac8ca72d6e\" target=\"_top\" title=\"psysml:80b8c15c-720d-43cf-a3f3-f1ac8ca72d6e\" xlink:actuate=\"onRequest\" xlink:href=\"psysml:80b8c15c-720d-43cf-a3f3-f1ac8ca72d6e\" xlink:show=\"new\" xlink:title=\"psysml:80b8c15c-720d-43cf-a3f3-f1ac8ca72d6e\" xlink:type=\"simple\"><path d=\"M175.14,129.02 C179.3,141.67 183.94,155.79 188.42,169.41 \" fill=\"none\" id=\"E4-&gt;E2\" style=\"stroke: #383838; stroke-width: 1.0;\"/><polygon fill=\"none\" points=\"195.2,167.6,194.79,188.79,181.9,171.97,195.2,167.6\" style=\"stroke: #383838; stroke-width: 1.0;\"/></a><!--MD5=[3301fbe9f6f6d3e4e07455849392f76b]\n",
       "@startuml\r\n",
       " skinparam monochrome true\r\n",
       "skinparam classbackgroundcolor white\r\n",
       "skinparam shadowing false\r\n",
       "skinparam wrapWidth 300\r\n",
       "hide circle\r\n",
       "\r\n",
       "package \"DefaultValueTest\" as E1  [[psysml:e269850e-1dc2-4cd5-af8e-eb4ea9f30c1b ]]  {\r\n",
       "comp def \"V\" as E2  <<(T,blue) part def>> [[psysml:e7bf9c65-3f81-4ba3-bb8e-9b75385edfca ]] {\r\n",
       "- - attributes - -\r\n",
       "m=default = 10; \r\n",
       "n= 20; \r\n",
       "}\r\n",
       "comp usage \"v1: V\" as E3  <<(T,blue) part>> [[psysml:f1f60863-7632-47b0-830a-21cb33ae86b3 ]] {\r\n",
       "- - attributes - -\r\n",
       "m= 20; \\n//:>>V::m// \r\n",
       "}\r\n",
       "comp def \"W\" as E4  <<(T,blue) part def>> [[psysml:92194191-781a-4f9d-991e-568f466dae89 ]] {\r\n",
       "- - attributes - -\r\n",
       "m=default = n; \\n//:>>V::m// \r\n",
       "}\r\n",
       "comp usage \"v2\" as E5  <<(T,blue) part>> [[psysml:12e8b862-a297-4118-9bc9-39ad14290527 ]] {\r\n",
       "}\r\n",
       "E3 - -:|> E2 [[psysml:a976bee6-0dca-4565-96d2-a44c4ac1d16a ]] \r\n",
       "E4 - -|> E2 [[psysml:80b8c15c-720d-43cf-a3f3-f1ac8ca72d6e ]] \r\n",
       "}\r\n",
       "@enduml\r\n",
       "\n",
       "PlantUML version 1.2020.13(Sat Jun 13 12:26:38 UTC 2020)\n",
       "(EPL source distribution)\n",
       "Java Runtime: OpenJDK Runtime Environment\n",
       "JVM: OpenJDK 64-Bit Server VM\n",
       "Default Encoding: UTF-8\n",
       "Language: en\n",
       "Country: null\n",
       "--></g></svg>"
      ]
     },
     "execution_count": 2,
     "metadata": {},
     "output_type": "execute_result"
    }
   ],
   "source": [
    "%viz --style=\"COMPTREE\" --view=\"Default\" \"DefaultValueTest\""
   ]
  },
  {
   "cell_type": "code",
   "execution_count": 3,
   "id": "195208eb",
   "metadata": {
    "execution": {
     "iopub.execute_input": "2021-08-04T06:28:40.990703Z",
     "iopub.status.busy": "2021-08-04T06:28:40.990243Z",
     "iopub.status.idle": "2021-08-04T06:28:41.091633Z",
     "shell.execute_reply": "2021-08-04T06:28:41.090529Z"
    }
   },
   "outputs": [
    {
     "data": {
      "image/svg+xml": [
       "<?xml version=\"1.0\" encoding=\"UTF-8\" standalone=\"no\"?><svg xmlns=\"http://www.w3.org/2000/svg\" xmlns:xlink=\"http://www.w3.org/1999/xlink\" contentScriptType=\"application/ecmascript\" contentStyleType=\"text/css\" height=\"305px\" preserveAspectRatio=\"none\" style=\"width:349px;height:305px;\" version=\"1.1\" viewBox=\"0 0 349 305\" width=\"349px\" zoomAndPan=\"magnify\"><defs/><g><!--MD5=[fbc87193dbaf4d95561dea2c320d4a47]\n",
       "cluster E1--><a href=\"psysml:e269850e-1dc2-4cd5-af8e-eb4ea9f30c1b\" target=\"_top\" title=\"psysml:e269850e-1dc2-4cd5-af8e-eb4ea9f30c1b\" xlink:actuate=\"onRequest\" xlink:href=\"psysml:e269850e-1dc2-4cd5-af8e-eb4ea9f30c1b\" xlink:show=\"new\" xlink:title=\"psysml:e269850e-1dc2-4cd5-af8e-eb4ea9f30c1b\" xlink:type=\"simple\"><polygon fill=\"#FFFFFF\" points=\"16,6,157,6,164,28.2969,327,28.2969,327,293,16,293,16,6\" style=\"stroke: #000000; stroke-width: 1.5;\"/><line style=\"stroke: #000000; stroke-width: 1.5;\" x1=\"16\" x2=\"164\" y1=\"28.2969\" y2=\"28.2969\"/><text fill=\"#000000\" font-family=\"sans-serif\" font-size=\"14\" font-weight=\"bold\" lengthAdjust=\"spacingAndGlyphs\" textLength=\"135\" x=\"20\" y=\"20.9951\">DefaultValueTest</text></a><!--MD5=[b4997ac47864f28c2f74865a473b2911]\n",
       "class E2--><a href=\"psysml:e7bf9c65-3f81-4ba3-bb8e-9b75385edfca\" target=\"_top\" title=\"psysml:e7bf9c65-3f81-4ba3-bb8e-9b75385edfca\" xlink:actuate=\"onRequest\" xlink:href=\"psysml:e7bf9c65-3f81-4ba3-bb8e-9b75385edfca\" xlink:show=\"new\" xlink:title=\"psysml:e7bf9c65-3f81-4ba3-bb8e-9b75385edfca\" xlink:type=\"simple\"><rect fill=\"#FFFFFF\" height=\"88.3516\" id=\"E2\" style=\"stroke: #383838; stroke-width: 1.5;\" width=\"106\" x=\"156\" y=\"189\"/><text fill=\"#000000\" font-family=\"sans-serif\" font-size=\"12\" font-style=\"italic\" lengthAdjust=\"spacingAndGlyphs\" textLength=\"64\" x=\"177\" y=\"205.1387\">«part def»</text><text fill=\"#000000\" font-family=\"sans-serif\" font-size=\"12\" lengthAdjust=\"spacingAndGlyphs\" textLength=\"8\" x=\"205\" y=\"219.1074\">V</text><line style=\"stroke: #383838; stroke-width: 1.5;\" x1=\"157\" x2=\"261\" y1=\"226.9375\" y2=\"226.9375\"/><text fill=\"#000000\" font-family=\"sans-serif\" font-size=\"11\" lengthAdjust=\"spacingAndGlyphs\" textLength=\"94\" x=\"162\" y=\"257.9526\">m=default = 10;</text><text fill=\"#000000\" font-family=\"sans-serif\" font-size=\"11\" lengthAdjust=\"spacingAndGlyphs\" textLength=\"38\" x=\"162\" y=\"270.7573\">n= 20;</text><line style=\"stroke: #383838; stroke-width: 1.0;\" x1=\"157\" x2=\"181.5\" y1=\"241.3398\" y2=\"241.3398\"/><text fill=\"#000000\" font-family=\"sans-serif\" font-size=\"11\" lengthAdjust=\"spacingAndGlyphs\" textLength=\"55\" x=\"181.5\" y=\"244.6479\">attributes</text><line style=\"stroke: #383838; stroke-width: 1.0;\" x1=\"236.5\" x2=\"261\" y1=\"241.3398\" y2=\"241.3398\"/></a><!--MD5=[09b614a08d8cba4a07c9adeb5e0fee81]\n",
       "class E3--><a href=\"psysml:f1f60863-7632-47b0-830a-21cb33ae86b3\" target=\"_top\" title=\"psysml:f1f60863-7632-47b0-830a-21cb33ae86b3\" xlink:actuate=\"onRequest\" xlink:href=\"psysml:f1f60863-7632-47b0-830a-21cb33ae86b3\" xlink:show=\"new\" xlink:title=\"psysml:f1f60863-7632-47b0-830a-21cb33ae86b3\" xlink:type=\"simple\"><rect fill=\"#FFFFFF\" height=\"88.3516\" id=\"E3\" rx=\"10\" ry=\"10\" style=\"stroke: #383838; stroke-width: 1.5;\" width=\"63\" x=\"247.5\" y=\"41\"/><text fill=\"#000000\" font-family=\"sans-serif\" font-size=\"12\" font-style=\"italic\" lengthAdjust=\"spacingAndGlyphs\" textLength=\"40\" x=\"259\" y=\"57.1387\">«part»</text><text fill=\"#000000\" font-family=\"sans-serif\" font-size=\"12\" lengthAdjust=\"spacingAndGlyphs\" textLength=\"30\" x=\"264\" y=\"71.1074\">v1: V</text><line style=\"stroke: #383838; stroke-width: 1.5;\" x1=\"248.5\" x2=\"309.5\" y1=\"78.9375\" y2=\"78.9375\"/><text fill=\"#000000\" font-family=\"sans-serif\" font-size=\"11\" lengthAdjust=\"spacingAndGlyphs\" textLength=\"42\" x=\"253.5\" y=\"109.9526\">m= 20;</text><text fill=\"#000000\" font-family=\"sans-serif\" font-size=\"11\" font-style=\"italic\" lengthAdjust=\"spacingAndGlyphs\" textLength=\"48\" x=\"253.5\" y=\"122.7573\">:&gt;&gt;V::m</text><line style=\"stroke: #383838; stroke-width: 1.0;\" x1=\"248.5\" x2=\"251.5\" y1=\"93.3398\" y2=\"93.3398\"/><text fill=\"#000000\" font-family=\"sans-serif\" font-size=\"11\" lengthAdjust=\"spacingAndGlyphs\" textLength=\"55\" x=\"251.5\" y=\"96.6479\">attributes</text><line style=\"stroke: #383838; stroke-width: 1.0;\" x1=\"306.5\" x2=\"309.5\" y1=\"93.3398\" y2=\"93.3398\"/></a><!--MD5=[ebbe1d658d1005bcc118a6aa81145e00]\n",
       "class E4--><a href=\"psysml:92194191-781a-4f9d-991e-568f466dae89\" target=\"_top\" title=\"psysml:92194191-781a-4f9d-991e-568f466dae89\" xlink:actuate=\"onRequest\" xlink:href=\"psysml:92194191-781a-4f9d-991e-568f466dae89\" xlink:show=\"new\" xlink:title=\"psysml:92194191-781a-4f9d-991e-568f466dae89\" xlink:type=\"simple\"><rect fill=\"#FFFFFF\" height=\"88.3516\" id=\"E4\" style=\"stroke: #383838; stroke-width: 1.5;\" width=\"103\" x=\"109.5\" y=\"41\"/><text fill=\"#000000\" font-family=\"sans-serif\" font-size=\"12\" font-style=\"italic\" lengthAdjust=\"spacingAndGlyphs\" textLength=\"64\" x=\"129\" y=\"57.1387\">«part def»</text><text fill=\"#000000\" font-family=\"sans-serif\" font-size=\"12\" lengthAdjust=\"spacingAndGlyphs\" textLength=\"11\" x=\"155.5\" y=\"71.1074\">W</text><line style=\"stroke: #383838; stroke-width: 1.5;\" x1=\"110.5\" x2=\"211.5\" y1=\"78.9375\" y2=\"78.9375\"/><text fill=\"#000000\" font-family=\"sans-serif\" font-size=\"11\" lengthAdjust=\"spacingAndGlyphs\" textLength=\"87\" x=\"115.5\" y=\"109.9526\">m=default = n;</text><text fill=\"#000000\" font-family=\"sans-serif\" font-size=\"11\" font-style=\"italic\" lengthAdjust=\"spacingAndGlyphs\" textLength=\"48\" x=\"115.5\" y=\"122.7573\">:&gt;&gt;V::m</text><line style=\"stroke: #383838; stroke-width: 1.0;\" x1=\"110.5\" x2=\"133.5\" y1=\"93.3398\" y2=\"93.3398\"/><text fill=\"#000000\" font-family=\"sans-serif\" font-size=\"11\" lengthAdjust=\"spacingAndGlyphs\" textLength=\"55\" x=\"133.5\" y=\"96.6479\">attributes</text><line style=\"stroke: #383838; stroke-width: 1.0;\" x1=\"188.5\" x2=\"211.5\" y1=\"93.3398\" y2=\"93.3398\"/></a><!--MD5=[270fce915f116d4de14055a7c1d9a0f3]\n",
       "class E5--><a href=\"psysml:12e8b862-a297-4118-9bc9-39ad14290527\" target=\"_top\" title=\"psysml:12e8b862-a297-4118-9bc9-39ad14290527\" xlink:actuate=\"onRequest\" xlink:href=\"psysml:12e8b862-a297-4118-9bc9-39ad14290527\" xlink:show=\"new\" xlink:title=\"psysml:12e8b862-a297-4118-9bc9-39ad14290527\" xlink:type=\"simple\"><rect fill=\"#FFFFFF\" height=\"45.9375\" id=\"E5\" rx=\"10\" ry=\"10\" style=\"stroke: #383838; stroke-width: 1.5;\" width=\"42\" x=\"32\" y=\"62\"/><text fill=\"#000000\" font-family=\"sans-serif\" font-size=\"12\" font-style=\"italic\" lengthAdjust=\"spacingAndGlyphs\" textLength=\"40\" x=\"33\" y=\"78.1387\">«part»</text><text fill=\"#000000\" font-family=\"sans-serif\" font-size=\"12\" lengthAdjust=\"spacingAndGlyphs\" textLength=\"14\" x=\"46\" y=\"92.1074\">v2</text><line style=\"stroke: #383838; stroke-width: 1.5;\" x1=\"33\" x2=\"73\" y1=\"99.9375\" y2=\"99.9375\"/></a><!--MD5=[05d275557350bfb9b23a4ef7222b4c39]\n",
       "link E3 to E2--><a href=\"psysml:a976bee6-0dca-4565-96d2-a44c4ac1d16a\" target=\"_top\" title=\"psysml:a976bee6-0dca-4565-96d2-a44c4ac1d16a\" xlink:actuate=\"onRequest\" xlink:href=\"psysml:a976bee6-0dca-4565-96d2-a44c4ac1d16a\" xlink:show=\"new\" xlink:title=\"psysml:a976bee6-0dca-4565-96d2-a44c4ac1d16a\" xlink:type=\"simple\"><path d=\"M258.38,129.02 C252.17,141.97 245.22,156.45 238.55,170.36 \" fill=\"none\" id=\"E3-&gt;E2\" style=\"stroke: #383838; stroke-width: 1.0;\"/><polygon fill=\"#FFFFFF\" points=\"229.72,188.79,231.6151,168.6304,244.2413,174.6786,229.72,188.79\" style=\"stroke: #383838; stroke-width: 1.0;\"/><ellipse cx=\"235.8813\" cy=\"164.3538\" fill=\"#383838\" rx=\"2\" ry=\"2\" style=\"stroke: #383838; stroke-width: 1.0;\"/><ellipse cx=\"244.9\" cy=\"168.6739\" fill=\"#383838\" rx=\"2\" ry=\"2\" style=\"stroke: #383838; stroke-width: 1.0;\"/></a><!--MD5=[185131fc0dcab0a4505a2ebe144e961b]\n",
       "link E4 to E2--><a href=\"psysml:80b8c15c-720d-43cf-a3f3-f1ac8ca72d6e\" target=\"_top\" title=\"psysml:80b8c15c-720d-43cf-a3f3-f1ac8ca72d6e\" xlink:actuate=\"onRequest\" xlink:href=\"psysml:80b8c15c-720d-43cf-a3f3-f1ac8ca72d6e\" xlink:show=\"new\" xlink:title=\"psysml:80b8c15c-720d-43cf-a3f3-f1ac8ca72d6e\" xlink:type=\"simple\"><path d=\"M175.14,129.02 C179.3,141.67 183.94,155.79 188.42,169.41 \" fill=\"none\" id=\"E4-&gt;E2\" style=\"stroke: #383838; stroke-width: 1.0;\"/><polygon fill=\"none\" points=\"195.2,167.6,194.79,188.79,181.9,171.97,195.2,167.6\" style=\"stroke: #383838; stroke-width: 1.0;\"/></a><!--MD5=[3301fbe9f6f6d3e4e07455849392f76b]\n",
       "@startuml\r\n",
       " skinparam monochrome true\r\n",
       "skinparam classbackgroundcolor white\r\n",
       "skinparam shadowing false\r\n",
       "skinparam wrapWidth 300\r\n",
       "hide circle\r\n",
       "\r\n",
       "package \"DefaultValueTest\" as E1  [[psysml:e269850e-1dc2-4cd5-af8e-eb4ea9f30c1b ]]  {\r\n",
       "comp def \"V\" as E2  <<(T,blue) part def>> [[psysml:e7bf9c65-3f81-4ba3-bb8e-9b75385edfca ]] {\r\n",
       "- - attributes - -\r\n",
       "m=default = 10; \r\n",
       "n= 20; \r\n",
       "}\r\n",
       "comp usage \"v1: V\" as E3  <<(T,blue) part>> [[psysml:f1f60863-7632-47b0-830a-21cb33ae86b3 ]] {\r\n",
       "- - attributes - -\r\n",
       "m= 20; \\n//:>>V::m// \r\n",
       "}\r\n",
       "comp def \"W\" as E4  <<(T,blue) part def>> [[psysml:92194191-781a-4f9d-991e-568f466dae89 ]] {\r\n",
       "- - attributes - -\r\n",
       "m=default = n; \\n//:>>V::m// \r\n",
       "}\r\n",
       "comp usage \"v2\" as E5  <<(T,blue) part>> [[psysml:12e8b862-a297-4118-9bc9-39ad14290527 ]] {\r\n",
       "}\r\n",
       "E3 - -:|> E2 [[psysml:a976bee6-0dca-4565-96d2-a44c4ac1d16a ]] \r\n",
       "E4 - -|> E2 [[psysml:80b8c15c-720d-43cf-a3f3-f1ac8ca72d6e ]] \r\n",
       "}\r\n",
       "@enduml\r\n",
       "\n",
       "PlantUML version 1.2020.13(Sat Jun 13 12:26:38 UTC 2020)\n",
       "(EPL source distribution)\n",
       "Java Runtime: OpenJDK Runtime Environment\n",
       "JVM: OpenJDK 64-Bit Server VM\n",
       "Default Encoding: UTF-8\n",
       "Language: en\n",
       "Country: null\n",
       "--></g></svg>"
      ]
     },
     "execution_count": 3,
     "metadata": {},
     "output_type": "execute_result"
    }
   ],
   "source": [
    "%viz --style=\"COMPTREE\" --view=\"Tree\" \"DefaultValueTest\""
   ]
  },
  {
   "cell_type": "code",
   "execution_count": 4,
   "id": "629cca6d",
   "metadata": {
    "execution": {
     "iopub.execute_input": "2021-08-04T06:28:41.142110Z",
     "iopub.status.busy": "2021-08-04T06:28:41.141836Z",
     "iopub.status.idle": "2021-08-04T06:28:41.149359Z",
     "shell.execute_reply": "2021-08-04T06:28:41.149637Z"
    }
   },
   "outputs": [
    {
     "data": {
      "image/svg+xml": [
       "<?xml version=\"1.0\" encoding=\"UTF-8\" standalone=\"no\"?><svg xmlns=\"http://www.w3.org/2000/svg\" xmlns:xlink=\"http://www.w3.org/1999/xlink\" contentScriptType=\"application/ecmascript\" contentStyleType=\"text/css\" height=\"12px\" preserveAspectRatio=\"none\" style=\"width:12px;height:12px;\" version=\"1.1\" viewBox=\"0 0 12 12\" width=\"12px\" zoomAndPan=\"magnify\"><defs/><g><!--MD5=[f19188ef49e11757b5c46753f95d9edc]\n",
       "@startuml\r\n",
       " skinparam monochrome true\r\n",
       "skinparam classbackgroundcolor white\r\n",
       "skinparam shadowing false\r\n",
       "skinparam wrapWidth 300\r\n",
       "hide circle\r\n",
       "\r\n",
       "@enduml\r\n",
       "\n",
       "PlantUML version 1.2020.13(Sat Jun 13 12:26:38 UTC 2020)\n",
       "(EPL source distribution)\n",
       "Java Runtime: OpenJDK Runtime Environment\n",
       "JVM: OpenJDK 64-Bit Server VM\n",
       "Default Encoding: UTF-8\n",
       "Language: en\n",
       "Country: null\n",
       "--></g></svg>"
      ]
     },
     "execution_count": 4,
     "metadata": {},
     "output_type": "execute_result"
    }
   ],
   "source": [
    "%viz --style=\"COMPTREE\" --view=\"State\" \"DefaultValueTest\""
   ]
  },
  {
   "cell_type": "code",
   "execution_count": 5,
   "id": "8a5ae7f7",
   "metadata": {
    "execution": {
     "iopub.execute_input": "2021-08-04T06:28:41.200697Z",
     "iopub.status.busy": "2021-08-04T06:28:41.200215Z",
     "iopub.status.idle": "2021-08-04T06:28:41.275435Z",
     "shell.execute_reply": "2021-08-04T06:28:41.274983Z"
    }
   },
   "outputs": [
    {
     "data": {
      "image/svg+xml": [
       "<?xml version=\"1.0\" encoding=\"UTF-8\" standalone=\"no\"?><svg xmlns=\"http://www.w3.org/2000/svg\" xmlns:xlink=\"http://www.w3.org/1999/xlink\" contentScriptType=\"application/ecmascript\" contentStyleType=\"text/css\" height=\"399px\" preserveAspectRatio=\"none\" style=\"width:448px;height:399px;\" version=\"1.1\" viewBox=\"0 0 448 399\" width=\"448px\" zoomAndPan=\"magnify\"><defs/><g><!--MD5=[fbc87193dbaf4d95561dea2c320d4a47]\n",
       "cluster E1--><a href=\"psysml:e269850e-1dc2-4cd5-af8e-eb4ea9f30c1b\" target=\"_top\" title=\"psysml:e269850e-1dc2-4cd5-af8e-eb4ea9f30c1b\" xlink:actuate=\"onRequest\" xlink:href=\"psysml:e269850e-1dc2-4cd5-af8e-eb4ea9f30c1b\" xlink:show=\"new\" xlink:title=\"psysml:e269850e-1dc2-4cd5-af8e-eb4ea9f30c1b\" xlink:type=\"simple\"><polygon fill=\"#FFFFFF\" points=\"16,6,157,6,164,28.2969,426,28.2969,426,387,16,387,16,6\" style=\"stroke: #000000; stroke-width: 1.5;\"/><line style=\"stroke: #000000; stroke-width: 1.5;\" x1=\"16\" x2=\"164\" y1=\"28.2969\" y2=\"28.2969\"/><text fill=\"#000000\" font-family=\"sans-serif\" font-size=\"14\" font-weight=\"bold\" lengthAdjust=\"spacingAndGlyphs\" textLength=\"135\" x=\"20\" y=\"20.9951\">DefaultValueTest</text></a><!--MD5=[e4f7fae6ed58524ba242bb0b0d3be6b7]\n",
       "cluster E2--><a href=\"psysml:e7bf9c65-3f81-4ba3-bb8e-9b75385edfca\" target=\"_top\" title=\"psysml:e7bf9c65-3f81-4ba3-bb8e-9b75385edfca\" xlink:actuate=\"onRequest\" xlink:href=\"psysml:e7bf9c65-3f81-4ba3-bb8e-9b75385edfca\" xlink:show=\"new\" xlink:title=\"psysml:e7bf9c65-3f81-4ba3-bb8e-9b75385edfca\" xlink:type=\"simple\"><rect fill=\"#FFFFFF\" height=\"129\" id=\"E2\" style=\"stroke: #383838; stroke-width: 1.5;\" width=\"245\" x=\"127\" y=\"226\"/><rect fill=\"#F8F8F8\" height=\"37.9375\" style=\"stroke: #383838; stroke-width: 1.5;\" width=\"245\" x=\"127\" y=\"226\"/><text fill=\"#000000\" font-family=\"sans-serif\" font-size=\"12\" font-style=\"italic\" lengthAdjust=\"spacingAndGlyphs\" textLength=\"64\" x=\"217.5\" y=\"242.1387\">«part def»</text><text fill=\"#000000\" font-family=\"sans-serif\" font-size=\"12\" lengthAdjust=\"spacingAndGlyphs\" textLength=\"8\" x=\"245.5\" y=\"256.1074\">V</text></a><!--MD5=[de5ec2e2e8f62f467e546659f5068c88]\n",
       "cluster E5--><a href=\"psysml:f1f60863-7632-47b0-830a-21cb33ae86b3\" target=\"_top\" title=\"psysml:f1f60863-7632-47b0-830a-21cb33ae86b3\" xlink:actuate=\"onRequest\" xlink:href=\"psysml:f1f60863-7632-47b0-830a-21cb33ae86b3\" xlink:show=\"new\" xlink:title=\"psysml:f1f60863-7632-47b0-830a-21cb33ae86b3\" xlink:type=\"simple\"><rect fill=\"#FFFFFF\" height=\"97\" id=\"E5\" rx=\"10\" ry=\"10\" style=\"stroke: #383838; stroke-width: 1.5;\" width=\"104\" x=\"298\" y=\"81\"/><rect fill=\"#F8F8F8\" height=\"23.9688\" rx=\"10\" ry=\"10\" style=\"stroke: #F8F8F8; stroke-width: 1.5;\" width=\"104\" x=\"298\" y=\"81\"/><rect fill=\"#F8F8F8\" height=\"10\" style=\"stroke: #F8F8F8; stroke-width: 1.5;\" width=\"104\" x=\"298\" y=\"94.9688\"/><rect fill=\"none\" height=\"97\" id=\"E5\" rx=\"10\" ry=\"10\" style=\"stroke: #383838; stroke-width: 1.5;\" width=\"104\" x=\"298\" y=\"81\"/><text fill=\"#000000\" font-family=\"sans-serif\" font-size=\"12\" lengthAdjust=\"spacingAndGlyphs\" textLength=\"30\" x=\"335\" y=\"97.1387\">v1: V</text><line style=\"stroke: #383838; stroke-width: 1.0;\" x1=\"298\" x2=\"402\" y1=\"104.9688\" y2=\"104.9688\"/></a><!--MD5=[168fadf3d0c3fd93dd5d6da1b1d7ab76]\n",
       "cluster E7--><a href=\"psysml:92194191-781a-4f9d-991e-568f466dae89\" target=\"_top\" title=\"psysml:92194191-781a-4f9d-991e-568f466dae89\" xlink:actuate=\"onRequest\" xlink:href=\"psysml:92194191-781a-4f9d-991e-568f466dae89\" xlink:show=\"new\" xlink:title=\"psysml:92194191-781a-4f9d-991e-568f466dae89\" xlink:type=\"simple\"><rect fill=\"#FFFFFF\" height=\"129\" id=\"E7\" style=\"stroke: #383838; stroke-width: 1.5;\" width=\"139\" x=\"127\" y=\"57\"/><rect fill=\"#F8F8F8\" height=\"37.9375\" style=\"stroke: #383838; stroke-width: 1.5;\" width=\"139\" x=\"127\" y=\"57\"/><text fill=\"#000000\" font-family=\"sans-serif\" font-size=\"12\" font-style=\"italic\" lengthAdjust=\"spacingAndGlyphs\" textLength=\"64\" x=\"164.5\" y=\"73.1387\">«part def»</text><text fill=\"#000000\" font-family=\"sans-serif\" font-size=\"12\" lengthAdjust=\"spacingAndGlyphs\" textLength=\"11\" x=\"191\" y=\"87.1074\">W</text></a><!--MD5=[09b614a08d8cba4a07c9adeb5e0fee81]\n",
       "class E3--><a href=\"psysml:a2ea0978-930d-4f5d-93d2-d64a4094d2a2\" target=\"_top\" title=\"psysml:a2ea0978-930d-4f5d-93d2-d64a4094d2a2\" xlink:actuate=\"onRequest\" xlink:href=\"psysml:a2ea0978-930d-4f5d-93d2-d64a4094d2a2\" xlink:show=\"new\" xlink:title=\"psysml:a2ea0978-930d-4f5d-93d2-d64a4094d2a2\" xlink:type=\"simple\"><rect fill=\"#FFFFFF\" height=\"45.9375\" id=\"E3\" rx=\"10\" ry=\"10\" style=\"stroke: #383838; stroke-width: 1.5;\" width=\"71\" x=\"276.5\" y=\"285\"/><text fill=\"#000000\" font-family=\"sans-serif\" font-size=\"12\" font-style=\"italic\" lengthAdjust=\"spacingAndGlyphs\" textLength=\"69\" x=\"277.5\" y=\"301.1387\">«attribute»</text><text fill=\"#000000\" font-family=\"sans-serif\" font-size=\"12\" lengthAdjust=\"spacingAndGlyphs\" textLength=\"11\" x=\"306.5\" y=\"315.1074\">m</text><line style=\"stroke: #383838; stroke-width: 1.5;\" x1=\"277.5\" x2=\"346.5\" y1=\"322.9375\" y2=\"322.9375\"/></a><!--MD5=[ebbe1d658d1005bcc118a6aa81145e00]\n",
       "class E4--><a href=\"psysml:d2e7553d-8e48-4fb7-896c-b23e6ced71f4\" target=\"_top\" title=\"psysml:d2e7553d-8e48-4fb7-896c-b23e6ced71f4\" xlink:actuate=\"onRequest\" xlink:href=\"psysml:d2e7553d-8e48-4fb7-896c-b23e6ced71f4\" xlink:show=\"new\" xlink:title=\"psysml:d2e7553d-8e48-4fb7-896c-b23e6ced71f4\" xlink:type=\"simple\"><rect fill=\"#FFFFFF\" height=\"45.9375\" id=\"E4\" rx=\"10\" ry=\"10\" style=\"stroke: #383838; stroke-width: 1.5;\" width=\"71\" x=\"170.5\" y=\"285\"/><text fill=\"#000000\" font-family=\"sans-serif\" font-size=\"12\" font-style=\"italic\" lengthAdjust=\"spacingAndGlyphs\" textLength=\"69\" x=\"171.5\" y=\"301.1387\">«attribute»</text><text fill=\"#000000\" font-family=\"sans-serif\" font-size=\"12\" lengthAdjust=\"spacingAndGlyphs\" textLength=\"8\" x=\"202\" y=\"315.1074\">n</text><line style=\"stroke: #383838; stroke-width: 1.5;\" x1=\"171.5\" x2=\"240.5\" y1=\"322.9375\" y2=\"322.9375\"/></a><!--MD5=[60a26617385b1d2d0262a64233df1f8d]\n",
       "class E6--><a href=\"psysml:851c4b2c-147d-4a79-885c-670825576d73\" target=\"_top\" title=\"psysml:851c4b2c-147d-4a79-885c-670825576d73\" xlink:actuate=\"onRequest\" xlink:href=\"psysml:851c4b2c-147d-4a79-885c-670825576d73\" xlink:show=\"new\" xlink:title=\"psysml:851c4b2c-147d-4a79-885c-670825576d73\" xlink:type=\"simple\"><rect fill=\"#FFFFFF\" height=\"45.9375\" id=\"E6\" rx=\"10\" ry=\"10\" style=\"stroke: #383838; stroke-width: 1.5;\" width=\"71\" x=\"314.5\" y=\"116\"/><text fill=\"#000000\" font-family=\"sans-serif\" font-size=\"12\" font-style=\"italic\" lengthAdjust=\"spacingAndGlyphs\" textLength=\"69\" x=\"315.5\" y=\"132.1387\">«attribute»</text><text fill=\"#000000\" font-family=\"sans-serif\" font-size=\"12\" lengthAdjust=\"spacingAndGlyphs\" textLength=\"11\" x=\"344.5\" y=\"146.1074\">m</text><line style=\"stroke: #383838; stroke-width: 1.5;\" x1=\"315.5\" x2=\"384.5\" y1=\"153.9375\" y2=\"153.9375\"/></a><!--MD5=[b9389687b975829384b498ac4b7476b2]\n",
       "class E8--><a href=\"psysml:82127d9e-4a29-4ac4-9705-0043f6777b4c\" target=\"_top\" title=\"psysml:82127d9e-4a29-4ac4-9705-0043f6777b4c\" xlink:actuate=\"onRequest\" xlink:href=\"psysml:82127d9e-4a29-4ac4-9705-0043f6777b4c\" xlink:show=\"new\" xlink:title=\"psysml:82127d9e-4a29-4ac4-9705-0043f6777b4c\" xlink:type=\"simple\"><rect fill=\"#FFFFFF\" height=\"45.9375\" id=\"E8\" rx=\"10\" ry=\"10\" style=\"stroke: #383838; stroke-width: 1.5;\" width=\"71\" x=\"170.5\" y=\"116\"/><text fill=\"#000000\" font-family=\"sans-serif\" font-size=\"12\" font-style=\"italic\" lengthAdjust=\"spacingAndGlyphs\" textLength=\"69\" x=\"171.5\" y=\"132.1387\">«attribute»</text><text fill=\"#000000\" font-family=\"sans-serif\" font-size=\"12\" lengthAdjust=\"spacingAndGlyphs\" textLength=\"11\" x=\"200.5\" y=\"146.1074\">m</text><line style=\"stroke: #383838; stroke-width: 1.5;\" x1=\"171.5\" x2=\"240.5\" y1=\"153.9375\" y2=\"153.9375\"/></a><g id=\"E1.E9\"><a href=\"psysml:12e8b862-a297-4118-9bc9-39ad14290527\" target=\"_top\" title=\"psysml:12e8b862-a297-4118-9bc9-39ad14290527\" xlink:actuate=\"onRequest\" xlink:href=\"psysml:12e8b862-a297-4118-9bc9-39ad14290527\" xlink:show=\"new\" xlink:title=\"psysml:12e8b862-a297-4118-9bc9-39ad14290527\" xlink:type=\"simple\"><rect fill=\"#FFFFFF\" height=\"40\" id=\"E9\" rx=\"10\" ry=\"10\" style=\"stroke: #383838; stroke-width: 1.5;\" width=\"68\" x=\"32\" y=\"119\"/><rect fill=\"#F8F8F8\" height=\"23.9688\" rx=\"10\" ry=\"10\" style=\"stroke: #F8F8F8; stroke-width: 1.5;\" width=\"68\" x=\"32\" y=\"119\"/><rect fill=\"#F8F8F8\" height=\"10\" style=\"stroke: #F8F8F8; stroke-width: 1.5;\" width=\"68\" x=\"32\" y=\"132.9688\"/><rect fill=\"none\" height=\"40\" id=\"E9\" rx=\"10\" ry=\"10\" style=\"stroke: #383838; stroke-width: 1.5;\" width=\"68\" x=\"32\" y=\"119\"/><text fill=\"#000000\" font-family=\"sans-serif\" font-size=\"12\" lengthAdjust=\"spacingAndGlyphs\" textLength=\"53\" x=\"37.5\" y=\"135.1387\">v2= W();</text></a></g><!--MD5=[a717450b82c80b9240a525fa862496af]\n",
       "link E6 to E3--><a href=\"psysml:03eebbd2-05f0-47bc-92f0-0649c0e2f845\" target=\"_top\" title=\"psysml:03eebbd2-05f0-47bc-92f0-0649c0e2f845\" xlink:actuate=\"onRequest\" xlink:href=\"psysml:03eebbd2-05f0-47bc-92f0-0649c0e2f845\" xlink:show=\"new\" xlink:title=\"psysml:03eebbd2-05f0-47bc-92f0-0649c0e2f845\" xlink:type=\"simple\"><path d=\"M344.95,162.18 C338.98,188.45 328.89,232.78 321.45,265.49 \" fill=\"none\" id=\"E6-&gt;E3\" style=\"stroke: #383838; stroke-width: 1.0;\"/><polygon fill=\"#FFFFFF\" points=\"317.01,285,314.4057,264.9197,328.0559,268.0298,317.01,285\" style=\"stroke: #383838; stroke-width: 1.0;\"/><line style=\"stroke: #383838; stroke-width: 2.0;\" x1=\"315.2498\" x2=\"328.9\" y1=\"261.2147\" y2=\"264.3247\"/></a><!--MD5=[583832df87f4419a098336a29a52fa00]\n",
       "link E7 to E2--><a href=\"psysml:80b8c15c-720d-43cf-a3f3-f1ac8ca72d6e\" target=\"_top\" title=\"psysml:80b8c15c-720d-43cf-a3f3-f1ac8ca72d6e\" xlink:actuate=\"onRequest\" xlink:href=\"psysml:80b8c15c-720d-43cf-a3f3-f1ac8ca72d6e\" xlink:show=\"new\" xlink:title=\"psysml:80b8c15c-720d-43cf-a3f3-f1ac8ca72d6e\" xlink:type=\"simple\"><path d=\"M135,186.7597 C135,189.0567 135,191.4 135,193.7804 C135,203.3019 135,213.4163 135,223.53 C135,224.1621 135,224.7942 135,225.4262 C135,225.5842 135,225.7421 135,225.9001 \" fill=\"none\" id=\"E7-&gt;E2\" style=\"stroke: #383838; stroke-width: 1.0;\"/><polygon fill=\"#FFFFFF\" points=\"135,225.9001,142,206.9001,128,206.9001,135,225.9001\" style=\"stroke: #383838; stroke-width: 1.0;\"/></a><!--MD5=[95fa686b5a16158bcdbcaeead89f639b]\n",
       "link E8 to E3--><a href=\"psysml:5971ddfa-8dbb-4825-a025-1d0848bb696d\" target=\"_top\" title=\"psysml:5971ddfa-8dbb-4825-a025-1d0848bb696d\" xlink:actuate=\"onRequest\" xlink:href=\"psysml:5971ddfa-8dbb-4825-a025-1d0848bb696d\" xlink:show=\"new\" xlink:title=\"psysml:5971ddfa-8dbb-4825-a025-1d0848bb696d\" xlink:type=\"simple\"><path d=\"M224.06,162.09 C234.74,175.57 248.24,193.36 259,210 C270.79,228.22 282.5,249.28 291.91,267.1 \" fill=\"none\" id=\"E8-&gt;E3\" style=\"stroke: #383838; stroke-width: 1.0;\"/><polygon fill=\"#FFFFFF\" points=\"301.11,284.89,286.1673,271.2256,298.6042,264.7972,301.11,284.89\" style=\"stroke: #383838; stroke-width: 1.0;\"/><line style=\"stroke: #383838; stroke-width: 2.0;\" x1=\"284.4225\" x2=\"296.8594\" y1=\"267.8499\" y2=\"261.4215\"/></a><!--MD5=[43ecbfb807a7101f1bcf391eec99e78d]\n",
       "@startuml\r\n",
       "skinparam ranksep 10\r\n",
       "skinparam rectangle {\r\n",
       " backgroundColor<<block>> LightGreen\r\n",
       "}\r\n",
       " skinparam monochrome true\r\n",
       "skinparam classbackgroundcolor white\r\n",
       "skinparam shadowing false\r\n",
       "skinparam wrapWidth 300\r\n",
       "hide circle\r\n",
       "\r\n",
       "package \"DefaultValueTest\" as E1  [[psysml:e269850e-1dc2-4cd5-af8e-eb4ea9f30c1b ]]  {\r\n",
       "rec def \"V\" as E2  <<(T,blue) part def>> [[psysml:e7bf9c65-3f81-4ba3-bb8e-9b75385edfca ]] {\r\n",
       "comp usage \"m\" as E3  <<(T,blue) attribute>> [[psysml:a2ea0978-930d-4f5d-93d2-d64a4094d2a2 ]] {\r\n",
       "}\r\n",
       "comp usage \"n\" as E4  <<(T,blue) attribute>> [[psysml:d2e7553d-8e48-4fb7-896c-b23e6ced71f4 ]] {\r\n",
       "}\r\n",
       "}\r\n",
       "rec usage \"v1: V\" as E5  [[psysml:f1f60863-7632-47b0-830a-21cb33ae86b3 ]] {\r\n",
       "comp usage \"m\" as E6  <<(T,blue) attribute>> [[psysml:851c4b2c-147d-4a79-885c-670825576d73 ]] {\r\n",
       "}\r\n",
       "}\r\n",
       "rec def \"W\" as E7  <<(T,blue) part def>> [[psysml:92194191-781a-4f9d-991e-568f466dae89 ]] {\r\n",
       "comp usage \"m\" as E8  <<(T,blue) attribute>> [[psysml:82127d9e-4a29-4ac4-9705-0043f6777b4c ]] {\r\n",
       "}\r\n",
       "}\r\n",
       "rec usage \"v2= W(); \" as E9  [[psysml:12e8b862-a297-4118-9bc9-39ad14290527 ]] {\r\n",
       "}\r\n",
       "E6 - -||> E3 [[psysml:03eebbd2-05f0-47bc-92f0-0649c0e2f845 ]] \r\n",
       "E7 - -|> E2 [[psysml:80b8c15c-720d-43cf-a3f3-f1ac8ca72d6e ]] \r\n",
       "E8 - -||> E3 [[psysml:5971ddfa-8dbb-4825-a025-1d0848bb696d ]] \r\n",
       "}\r\n",
       "@enduml\r\n",
       "\n",
       "PlantUML version 1.2020.13(Sat Jun 13 12:26:38 UTC 2020)\n",
       "(EPL source distribution)\n",
       "Java Runtime: OpenJDK Runtime Environment\n",
       "JVM: OpenJDK 64-Bit Server VM\n",
       "Default Encoding: UTF-8\n",
       "Language: en\n",
       "Country: null\n",
       "--></g></svg>"
      ]
     },
     "execution_count": 5,
     "metadata": {},
     "output_type": "execute_result"
    }
   ],
   "source": [
    "%viz --style=\"COMPTREE\" --view=\"Interconnection\" \"DefaultValueTest\""
   ]
  },
  {
   "cell_type": "code",
   "execution_count": 6,
   "id": "49d4e7ec",
   "metadata": {
    "execution": {
     "iopub.execute_input": "2021-08-04T06:28:41.325830Z",
     "iopub.status.busy": "2021-08-04T06:28:41.325468Z",
     "iopub.status.idle": "2021-08-04T06:28:41.333757Z",
     "shell.execute_reply": "2021-08-04T06:28:41.334090Z"
    }
   },
   "outputs": [
    {
     "data": {
      "image/svg+xml": [
       "<?xml version=\"1.0\" encoding=\"UTF-8\" standalone=\"no\"?><svg xmlns=\"http://www.w3.org/2000/svg\" xmlns:xlink=\"http://www.w3.org/1999/xlink\" contentScriptType=\"application/ecmascript\" contentStyleType=\"text/css\" height=\"12px\" preserveAspectRatio=\"none\" style=\"width:12px;height:12px;\" version=\"1.1\" viewBox=\"0 0 12 12\" width=\"12px\" zoomAndPan=\"magnify\"><defs/><g><!--MD5=[655b888544ca4751ea36af1068543f84]\n",
       "@startuml\r\n",
       "skinparam ranksep 8\r\n",
       " skinparam monochrome true\r\n",
       "skinparam classbackgroundcolor white\r\n",
       "skinparam shadowing false\r\n",
       "skinparam wrapWidth 300\r\n",
       "hide circle\r\n",
       "\r\n",
       "@enduml\r\n",
       "\n",
       "PlantUML version 1.2020.13(Sat Jun 13 12:26:38 UTC 2020)\n",
       "(EPL source distribution)\n",
       "Java Runtime: OpenJDK Runtime Environment\n",
       "JVM: OpenJDK 64-Bit Server VM\n",
       "Default Encoding: UTF-8\n",
       "Language: en\n",
       "Country: null\n",
       "--></g></svg>"
      ]
     },
     "execution_count": 6,
     "metadata": {},
     "output_type": "execute_result"
    }
   ],
   "source": [
    "%viz --style=\"COMPTREE\" --view=\"Action\" \"DefaultValueTest\""
   ]
  },
  {
   "cell_type": "code",
   "execution_count": 7,
   "id": "5ae0b93d",
   "metadata": {
    "execution": {
     "iopub.execute_input": "2021-08-04T06:28:41.385434Z",
     "iopub.status.busy": "2021-08-04T06:28:41.384590Z",
     "iopub.status.idle": "2021-08-04T06:28:41.503899Z",
     "shell.execute_reply": "2021-08-04T06:28:41.502889Z"
    }
   },
   "outputs": [
    {
     "data": {
      "image/svg+xml": [
       "<?xml version=\"1.0\" encoding=\"UTF-8\" standalone=\"no\"?><svg xmlns=\"http://www.w3.org/2000/svg\" xmlns:xlink=\"http://www.w3.org/1999/xlink\" contentScriptType=\"application/ecmascript\" contentStyleType=\"text/css\" height=\"305px\" preserveAspectRatio=\"none\" style=\"width:349px;height:305px;\" version=\"1.1\" viewBox=\"0 0 349 305\" width=\"349px\" zoomAndPan=\"magnify\"><defs/><g><!--MD5=[fbc87193dbaf4d95561dea2c320d4a47]\n",
       "cluster E1--><a href=\"psysml:e269850e-1dc2-4cd5-af8e-eb4ea9f30c1b\" target=\"_top\" title=\"psysml:e269850e-1dc2-4cd5-af8e-eb4ea9f30c1b\" xlink:actuate=\"onRequest\" xlink:href=\"psysml:e269850e-1dc2-4cd5-af8e-eb4ea9f30c1b\" xlink:show=\"new\" xlink:title=\"psysml:e269850e-1dc2-4cd5-af8e-eb4ea9f30c1b\" xlink:type=\"simple\"><polygon fill=\"#FFFFFF\" points=\"16,6,157,6,164,28.2969,327,28.2969,327,293,16,293,16,6\" style=\"stroke: #000000; stroke-width: 1.5;\"/><line style=\"stroke: #000000; stroke-width: 1.5;\" x1=\"16\" x2=\"164\" y1=\"28.2969\" y2=\"28.2969\"/><text fill=\"#000000\" font-family=\"sans-serif\" font-size=\"14\" font-weight=\"bold\" lengthAdjust=\"spacingAndGlyphs\" textLength=\"135\" x=\"20\" y=\"20.9951\">DefaultValueTest</text></a><!--MD5=[b4997ac47864f28c2f74865a473b2911]\n",
       "class E2--><a href=\"psysml:e7bf9c65-3f81-4ba3-bb8e-9b75385edfca\" target=\"_top\" title=\"psysml:e7bf9c65-3f81-4ba3-bb8e-9b75385edfca\" xlink:actuate=\"onRequest\" xlink:href=\"psysml:e7bf9c65-3f81-4ba3-bb8e-9b75385edfca\" xlink:show=\"new\" xlink:title=\"psysml:e7bf9c65-3f81-4ba3-bb8e-9b75385edfca\" xlink:type=\"simple\"><rect fill=\"#FFFFFF\" height=\"88.3516\" id=\"E2\" style=\"stroke: #383838; stroke-width: 1.5;\" width=\"106\" x=\"156\" y=\"189\"/><text fill=\"#000000\" font-family=\"sans-serif\" font-size=\"12\" font-style=\"italic\" lengthAdjust=\"spacingAndGlyphs\" textLength=\"64\" x=\"177\" y=\"205.1387\">«part def»</text><text fill=\"#000000\" font-family=\"sans-serif\" font-size=\"12\" lengthAdjust=\"spacingAndGlyphs\" textLength=\"8\" x=\"205\" y=\"219.1074\">V</text><line style=\"stroke: #383838; stroke-width: 1.5;\" x1=\"157\" x2=\"261\" y1=\"226.9375\" y2=\"226.9375\"/><text fill=\"#000000\" font-family=\"sans-serif\" font-size=\"11\" lengthAdjust=\"spacingAndGlyphs\" textLength=\"94\" x=\"162\" y=\"257.9526\">m=default = 10;</text><text fill=\"#000000\" font-family=\"sans-serif\" font-size=\"11\" lengthAdjust=\"spacingAndGlyphs\" textLength=\"38\" x=\"162\" y=\"270.7573\">n= 20;</text><line style=\"stroke: #383838; stroke-width: 1.0;\" x1=\"157\" x2=\"181.5\" y1=\"241.3398\" y2=\"241.3398\"/><text fill=\"#000000\" font-family=\"sans-serif\" font-size=\"11\" lengthAdjust=\"spacingAndGlyphs\" textLength=\"55\" x=\"181.5\" y=\"244.6479\">attributes</text><line style=\"stroke: #383838; stroke-width: 1.0;\" x1=\"236.5\" x2=\"261\" y1=\"241.3398\" y2=\"241.3398\"/></a><!--MD5=[09b614a08d8cba4a07c9adeb5e0fee81]\n",
       "class E3--><a href=\"psysml:f1f60863-7632-47b0-830a-21cb33ae86b3\" target=\"_top\" title=\"psysml:f1f60863-7632-47b0-830a-21cb33ae86b3\" xlink:actuate=\"onRequest\" xlink:href=\"psysml:f1f60863-7632-47b0-830a-21cb33ae86b3\" xlink:show=\"new\" xlink:title=\"psysml:f1f60863-7632-47b0-830a-21cb33ae86b3\" xlink:type=\"simple\"><rect fill=\"#FFFFFF\" height=\"88.3516\" id=\"E3\" rx=\"10\" ry=\"10\" style=\"stroke: #383838; stroke-width: 1.5;\" width=\"63\" x=\"247.5\" y=\"41\"/><text fill=\"#000000\" font-family=\"sans-serif\" font-size=\"12\" font-style=\"italic\" lengthAdjust=\"spacingAndGlyphs\" textLength=\"40\" x=\"259\" y=\"57.1387\">«part»</text><text fill=\"#000000\" font-family=\"sans-serif\" font-size=\"12\" lengthAdjust=\"spacingAndGlyphs\" textLength=\"30\" x=\"264\" y=\"71.1074\">v1: V</text><line style=\"stroke: #383838; stroke-width: 1.5;\" x1=\"248.5\" x2=\"309.5\" y1=\"78.9375\" y2=\"78.9375\"/><text fill=\"#000000\" font-family=\"sans-serif\" font-size=\"11\" lengthAdjust=\"spacingAndGlyphs\" textLength=\"42\" x=\"253.5\" y=\"109.9526\">m= 20;</text><text fill=\"#000000\" font-family=\"sans-serif\" font-size=\"11\" font-style=\"italic\" lengthAdjust=\"spacingAndGlyphs\" textLength=\"48\" x=\"253.5\" y=\"122.7573\">:&gt;&gt;V::m</text><line style=\"stroke: #383838; stroke-width: 1.0;\" x1=\"248.5\" x2=\"251.5\" y1=\"93.3398\" y2=\"93.3398\"/><text fill=\"#000000\" font-family=\"sans-serif\" font-size=\"11\" lengthAdjust=\"spacingAndGlyphs\" textLength=\"55\" x=\"251.5\" y=\"96.6479\">attributes</text><line style=\"stroke: #383838; stroke-width: 1.0;\" x1=\"306.5\" x2=\"309.5\" y1=\"93.3398\" y2=\"93.3398\"/></a><!--MD5=[ebbe1d658d1005bcc118a6aa81145e00]\n",
       "class E4--><a href=\"psysml:92194191-781a-4f9d-991e-568f466dae89\" target=\"_top\" title=\"psysml:92194191-781a-4f9d-991e-568f466dae89\" xlink:actuate=\"onRequest\" xlink:href=\"psysml:92194191-781a-4f9d-991e-568f466dae89\" xlink:show=\"new\" xlink:title=\"psysml:92194191-781a-4f9d-991e-568f466dae89\" xlink:type=\"simple\"><rect fill=\"#FFFFFF\" height=\"88.3516\" id=\"E4\" style=\"stroke: #383838; stroke-width: 1.5;\" width=\"103\" x=\"109.5\" y=\"41\"/><text fill=\"#000000\" font-family=\"sans-serif\" font-size=\"12\" font-style=\"italic\" lengthAdjust=\"spacingAndGlyphs\" textLength=\"64\" x=\"129\" y=\"57.1387\">«part def»</text><text fill=\"#000000\" font-family=\"sans-serif\" font-size=\"12\" lengthAdjust=\"spacingAndGlyphs\" textLength=\"11\" x=\"155.5\" y=\"71.1074\">W</text><line style=\"stroke: #383838; stroke-width: 1.5;\" x1=\"110.5\" x2=\"211.5\" y1=\"78.9375\" y2=\"78.9375\"/><text fill=\"#000000\" font-family=\"sans-serif\" font-size=\"11\" lengthAdjust=\"spacingAndGlyphs\" textLength=\"87\" x=\"115.5\" y=\"109.9526\">m=default = n;</text><text fill=\"#000000\" font-family=\"sans-serif\" font-size=\"11\" font-style=\"italic\" lengthAdjust=\"spacingAndGlyphs\" textLength=\"48\" x=\"115.5\" y=\"122.7573\">:&gt;&gt;V::m</text><line style=\"stroke: #383838; stroke-width: 1.0;\" x1=\"110.5\" x2=\"133.5\" y1=\"93.3398\" y2=\"93.3398\"/><text fill=\"#000000\" font-family=\"sans-serif\" font-size=\"11\" lengthAdjust=\"spacingAndGlyphs\" textLength=\"55\" x=\"133.5\" y=\"96.6479\">attributes</text><line style=\"stroke: #383838; stroke-width: 1.0;\" x1=\"188.5\" x2=\"211.5\" y1=\"93.3398\" y2=\"93.3398\"/></a><!--MD5=[270fce915f116d4de14055a7c1d9a0f3]\n",
       "class E5--><a href=\"psysml:12e8b862-a297-4118-9bc9-39ad14290527\" target=\"_top\" title=\"psysml:12e8b862-a297-4118-9bc9-39ad14290527\" xlink:actuate=\"onRequest\" xlink:href=\"psysml:12e8b862-a297-4118-9bc9-39ad14290527\" xlink:show=\"new\" xlink:title=\"psysml:12e8b862-a297-4118-9bc9-39ad14290527\" xlink:type=\"simple\"><rect fill=\"#FFFFFF\" height=\"45.9375\" id=\"E5\" rx=\"10\" ry=\"10\" style=\"stroke: #383838; stroke-width: 1.5;\" width=\"42\" x=\"32\" y=\"62\"/><text fill=\"#000000\" font-family=\"sans-serif\" font-size=\"12\" font-style=\"italic\" lengthAdjust=\"spacingAndGlyphs\" textLength=\"40\" x=\"33\" y=\"78.1387\">«part»</text><text fill=\"#000000\" font-family=\"sans-serif\" font-size=\"12\" lengthAdjust=\"spacingAndGlyphs\" textLength=\"14\" x=\"46\" y=\"92.1074\">v2</text><line style=\"stroke: #383838; stroke-width: 1.5;\" x1=\"33\" x2=\"73\" y1=\"99.9375\" y2=\"99.9375\"/></a><!--MD5=[05d275557350bfb9b23a4ef7222b4c39]\n",
       "link E3 to E2--><a href=\"psysml:a976bee6-0dca-4565-96d2-a44c4ac1d16a\" target=\"_top\" title=\"psysml:a976bee6-0dca-4565-96d2-a44c4ac1d16a\" xlink:actuate=\"onRequest\" xlink:href=\"psysml:a976bee6-0dca-4565-96d2-a44c4ac1d16a\" xlink:show=\"new\" xlink:title=\"psysml:a976bee6-0dca-4565-96d2-a44c4ac1d16a\" xlink:type=\"simple\"><path d=\"M258.38,129.02 C252.17,141.97 245.22,156.45 238.55,170.36 \" fill=\"none\" id=\"E3-&gt;E2\" style=\"stroke: #383838; stroke-width: 1.0;\"/><polygon fill=\"#FFFFFF\" points=\"229.72,188.79,231.6151,168.6304,244.2413,174.6786,229.72,188.79\" style=\"stroke: #383838; stroke-width: 1.0;\"/><ellipse cx=\"235.8813\" cy=\"164.3538\" fill=\"#383838\" rx=\"2\" ry=\"2\" style=\"stroke: #383838; stroke-width: 1.0;\"/><ellipse cx=\"244.9\" cy=\"168.6739\" fill=\"#383838\" rx=\"2\" ry=\"2\" style=\"stroke: #383838; stroke-width: 1.0;\"/></a><!--MD5=[185131fc0dcab0a4505a2ebe144e961b]\n",
       "link E4 to E2--><a href=\"psysml:80b8c15c-720d-43cf-a3f3-f1ac8ca72d6e\" target=\"_top\" title=\"psysml:80b8c15c-720d-43cf-a3f3-f1ac8ca72d6e\" xlink:actuate=\"onRequest\" xlink:href=\"psysml:80b8c15c-720d-43cf-a3f3-f1ac8ca72d6e\" xlink:show=\"new\" xlink:title=\"psysml:80b8c15c-720d-43cf-a3f3-f1ac8ca72d6e\" xlink:type=\"simple\"><path d=\"M175.14,129.02 C179.3,141.67 183.94,155.79 188.42,169.41 \" fill=\"none\" id=\"E4-&gt;E2\" style=\"stroke: #383838; stroke-width: 1.0;\"/><polygon fill=\"none\" points=\"195.2,167.6,194.79,188.79,181.9,171.97,195.2,167.6\" style=\"stroke: #383838; stroke-width: 1.0;\"/></a><!--MD5=[3301fbe9f6f6d3e4e07455849392f76b]\n",
       "@startuml\r\n",
       " skinparam monochrome true\r\n",
       "skinparam classbackgroundcolor white\r\n",
       "skinparam shadowing false\r\n",
       "skinparam wrapWidth 300\r\n",
       "hide circle\r\n",
       "\r\n",
       "package \"DefaultValueTest\" as E1  [[psysml:e269850e-1dc2-4cd5-af8e-eb4ea9f30c1b ]]  {\r\n",
       "comp def \"V\" as E2  <<(T,blue) part def>> [[psysml:e7bf9c65-3f81-4ba3-bb8e-9b75385edfca ]] {\r\n",
       "- - attributes - -\r\n",
       "m=default = 10; \r\n",
       "n= 20; \r\n",
       "}\r\n",
       "comp usage \"v1: V\" as E3  <<(T,blue) part>> [[psysml:f1f60863-7632-47b0-830a-21cb33ae86b3 ]] {\r\n",
       "- - attributes - -\r\n",
       "m= 20; \\n//:>>V::m// \r\n",
       "}\r\n",
       "comp def \"W\" as E4  <<(T,blue) part def>> [[psysml:92194191-781a-4f9d-991e-568f466dae89 ]] {\r\n",
       "- - attributes - -\r\n",
       "m=default = n; \\n//:>>V::m// \r\n",
       "}\r\n",
       "comp usage \"v2\" as E5  <<(T,blue) part>> [[psysml:12e8b862-a297-4118-9bc9-39ad14290527 ]] {\r\n",
       "}\r\n",
       "E3 - -:|> E2 [[psysml:a976bee6-0dca-4565-96d2-a44c4ac1d16a ]] \r\n",
       "E4 - -|> E2 [[psysml:80b8c15c-720d-43cf-a3f3-f1ac8ca72d6e ]] \r\n",
       "}\r\n",
       "@enduml\r\n",
       "\n",
       "PlantUML version 1.2020.13(Sat Jun 13 12:26:38 UTC 2020)\n",
       "(EPL source distribution)\n",
       "Java Runtime: OpenJDK Runtime Environment\n",
       "JVM: OpenJDK 64-Bit Server VM\n",
       "Default Encoding: UTF-8\n",
       "Language: en\n",
       "Country: null\n",
       "--></g></svg>"
      ]
     },
     "execution_count": 7,
     "metadata": {},
     "output_type": "execute_result"
    }
   ],
   "source": [
    "%viz --style=\"COMPTREE\" --view=\"Sequence\" \"DefaultValueTest\""
   ]
  },
  {
   "cell_type": "code",
   "execution_count": 8,
   "id": "8654e7e5",
   "metadata": {
    "execution": {
     "iopub.execute_input": "2021-08-04T06:28:41.554452Z",
     "iopub.status.busy": "2021-08-04T06:28:41.554184Z",
     "iopub.status.idle": "2021-08-04T06:28:41.637133Z",
     "shell.execute_reply": "2021-08-04T06:28:41.636083Z"
    }
   },
   "outputs": [
    {
     "data": {
      "image/svg+xml": [
       "<?xml version=\"1.0\" encoding=\"UTF-8\" standalone=\"no\"?><svg xmlns=\"http://www.w3.org/2000/svg\" xmlns:xlink=\"http://www.w3.org/1999/xlink\" contentScriptType=\"application/ecmascript\" contentStyleType=\"text/css\" height=\"305px\" preserveAspectRatio=\"none\" style=\"width:349px;height:305px;\" version=\"1.1\" viewBox=\"0 0 349 305\" width=\"349px\" zoomAndPan=\"magnify\"><defs/><g><!--MD5=[fbc87193dbaf4d95561dea2c320d4a47]\n",
       "cluster E1--><a href=\"psysml:e269850e-1dc2-4cd5-af8e-eb4ea9f30c1b\" target=\"_top\" title=\"psysml:e269850e-1dc2-4cd5-af8e-eb4ea9f30c1b\" xlink:actuate=\"onRequest\" xlink:href=\"psysml:e269850e-1dc2-4cd5-af8e-eb4ea9f30c1b\" xlink:show=\"new\" xlink:title=\"psysml:e269850e-1dc2-4cd5-af8e-eb4ea9f30c1b\" xlink:type=\"simple\"><polygon fill=\"#FFFFFF\" points=\"16,6,157,6,164,28.2969,327,28.2969,327,293,16,293,16,6\" style=\"stroke: #000000; stroke-width: 1.5;\"/><line style=\"stroke: #000000; stroke-width: 1.5;\" x1=\"16\" x2=\"164\" y1=\"28.2969\" y2=\"28.2969\"/><text fill=\"#000000\" font-family=\"sans-serif\" font-size=\"14\" font-weight=\"bold\" lengthAdjust=\"spacingAndGlyphs\" textLength=\"135\" x=\"20\" y=\"20.9951\">DefaultValueTest</text></a><!--MD5=[b4997ac47864f28c2f74865a473b2911]\n",
       "class E2--><a href=\"psysml:e7bf9c65-3f81-4ba3-bb8e-9b75385edfca\" target=\"_top\" title=\"psysml:e7bf9c65-3f81-4ba3-bb8e-9b75385edfca\" xlink:actuate=\"onRequest\" xlink:href=\"psysml:e7bf9c65-3f81-4ba3-bb8e-9b75385edfca\" xlink:show=\"new\" xlink:title=\"psysml:e7bf9c65-3f81-4ba3-bb8e-9b75385edfca\" xlink:type=\"simple\"><rect fill=\"#FFFFFF\" height=\"88.3516\" id=\"E2\" style=\"stroke: #383838; stroke-width: 1.5;\" width=\"106\" x=\"156\" y=\"189\"/><text fill=\"#000000\" font-family=\"sans-serif\" font-size=\"12\" font-style=\"italic\" lengthAdjust=\"spacingAndGlyphs\" textLength=\"64\" x=\"177\" y=\"205.1387\">«part def»</text><text fill=\"#000000\" font-family=\"sans-serif\" font-size=\"12\" lengthAdjust=\"spacingAndGlyphs\" textLength=\"8\" x=\"205\" y=\"219.1074\">V</text><line style=\"stroke: #383838; stroke-width: 1.5;\" x1=\"157\" x2=\"261\" y1=\"226.9375\" y2=\"226.9375\"/><text fill=\"#000000\" font-family=\"sans-serif\" font-size=\"11\" lengthAdjust=\"spacingAndGlyphs\" textLength=\"94\" x=\"162\" y=\"257.9526\">m=default = 10;</text><text fill=\"#000000\" font-family=\"sans-serif\" font-size=\"11\" lengthAdjust=\"spacingAndGlyphs\" textLength=\"38\" x=\"162\" y=\"270.7573\">n= 20;</text><line style=\"stroke: #383838; stroke-width: 1.0;\" x1=\"157\" x2=\"181.5\" y1=\"241.3398\" y2=\"241.3398\"/><text fill=\"#000000\" font-family=\"sans-serif\" font-size=\"11\" lengthAdjust=\"spacingAndGlyphs\" textLength=\"55\" x=\"181.5\" y=\"244.6479\">attributes</text><line style=\"stroke: #383838; stroke-width: 1.0;\" x1=\"236.5\" x2=\"261\" y1=\"241.3398\" y2=\"241.3398\"/></a><!--MD5=[09b614a08d8cba4a07c9adeb5e0fee81]\n",
       "class E3--><a href=\"psysml:f1f60863-7632-47b0-830a-21cb33ae86b3\" target=\"_top\" title=\"psysml:f1f60863-7632-47b0-830a-21cb33ae86b3\" xlink:actuate=\"onRequest\" xlink:href=\"psysml:f1f60863-7632-47b0-830a-21cb33ae86b3\" xlink:show=\"new\" xlink:title=\"psysml:f1f60863-7632-47b0-830a-21cb33ae86b3\" xlink:type=\"simple\"><rect fill=\"#FFFFFF\" height=\"88.3516\" id=\"E3\" rx=\"10\" ry=\"10\" style=\"stroke: #383838; stroke-width: 1.5;\" width=\"63\" x=\"247.5\" y=\"41\"/><text fill=\"#000000\" font-family=\"sans-serif\" font-size=\"12\" font-style=\"italic\" lengthAdjust=\"spacingAndGlyphs\" textLength=\"40\" x=\"259\" y=\"57.1387\">«part»</text><text fill=\"#000000\" font-family=\"sans-serif\" font-size=\"12\" lengthAdjust=\"spacingAndGlyphs\" textLength=\"30\" x=\"264\" y=\"71.1074\">v1: V</text><line style=\"stroke: #383838; stroke-width: 1.5;\" x1=\"248.5\" x2=\"309.5\" y1=\"78.9375\" y2=\"78.9375\"/><text fill=\"#000000\" font-family=\"sans-serif\" font-size=\"11\" lengthAdjust=\"spacingAndGlyphs\" textLength=\"42\" x=\"253.5\" y=\"109.9526\">m= 20;</text><text fill=\"#000000\" font-family=\"sans-serif\" font-size=\"11\" font-style=\"italic\" lengthAdjust=\"spacingAndGlyphs\" textLength=\"48\" x=\"253.5\" y=\"122.7573\">:&gt;&gt;V::m</text><line style=\"stroke: #383838; stroke-width: 1.0;\" x1=\"248.5\" x2=\"251.5\" y1=\"93.3398\" y2=\"93.3398\"/><text fill=\"#000000\" font-family=\"sans-serif\" font-size=\"11\" lengthAdjust=\"spacingAndGlyphs\" textLength=\"55\" x=\"251.5\" y=\"96.6479\">attributes</text><line style=\"stroke: #383838; stroke-width: 1.0;\" x1=\"306.5\" x2=\"309.5\" y1=\"93.3398\" y2=\"93.3398\"/></a><!--MD5=[ebbe1d658d1005bcc118a6aa81145e00]\n",
       "class E4--><a href=\"psysml:92194191-781a-4f9d-991e-568f466dae89\" target=\"_top\" title=\"psysml:92194191-781a-4f9d-991e-568f466dae89\" xlink:actuate=\"onRequest\" xlink:href=\"psysml:92194191-781a-4f9d-991e-568f466dae89\" xlink:show=\"new\" xlink:title=\"psysml:92194191-781a-4f9d-991e-568f466dae89\" xlink:type=\"simple\"><rect fill=\"#FFFFFF\" height=\"88.3516\" id=\"E4\" style=\"stroke: #383838; stroke-width: 1.5;\" width=\"103\" x=\"109.5\" y=\"41\"/><text fill=\"#000000\" font-family=\"sans-serif\" font-size=\"12\" font-style=\"italic\" lengthAdjust=\"spacingAndGlyphs\" textLength=\"64\" x=\"129\" y=\"57.1387\">«part def»</text><text fill=\"#000000\" font-family=\"sans-serif\" font-size=\"12\" lengthAdjust=\"spacingAndGlyphs\" textLength=\"11\" x=\"155.5\" y=\"71.1074\">W</text><line style=\"stroke: #383838; stroke-width: 1.5;\" x1=\"110.5\" x2=\"211.5\" y1=\"78.9375\" y2=\"78.9375\"/><text fill=\"#000000\" font-family=\"sans-serif\" font-size=\"11\" lengthAdjust=\"spacingAndGlyphs\" textLength=\"87\" x=\"115.5\" y=\"109.9526\">m=default = n;</text><text fill=\"#000000\" font-family=\"sans-serif\" font-size=\"11\" font-style=\"italic\" lengthAdjust=\"spacingAndGlyphs\" textLength=\"48\" x=\"115.5\" y=\"122.7573\">:&gt;&gt;V::m</text><line style=\"stroke: #383838; stroke-width: 1.0;\" x1=\"110.5\" x2=\"133.5\" y1=\"93.3398\" y2=\"93.3398\"/><text fill=\"#000000\" font-family=\"sans-serif\" font-size=\"11\" lengthAdjust=\"spacingAndGlyphs\" textLength=\"55\" x=\"133.5\" y=\"96.6479\">attributes</text><line style=\"stroke: #383838; stroke-width: 1.0;\" x1=\"188.5\" x2=\"211.5\" y1=\"93.3398\" y2=\"93.3398\"/></a><!--MD5=[270fce915f116d4de14055a7c1d9a0f3]\n",
       "class E5--><a href=\"psysml:12e8b862-a297-4118-9bc9-39ad14290527\" target=\"_top\" title=\"psysml:12e8b862-a297-4118-9bc9-39ad14290527\" xlink:actuate=\"onRequest\" xlink:href=\"psysml:12e8b862-a297-4118-9bc9-39ad14290527\" xlink:show=\"new\" xlink:title=\"psysml:12e8b862-a297-4118-9bc9-39ad14290527\" xlink:type=\"simple\"><rect fill=\"#FFFFFF\" height=\"45.9375\" id=\"E5\" rx=\"10\" ry=\"10\" style=\"stroke: #383838; stroke-width: 1.5;\" width=\"42\" x=\"32\" y=\"62\"/><text fill=\"#000000\" font-family=\"sans-serif\" font-size=\"12\" font-style=\"italic\" lengthAdjust=\"spacingAndGlyphs\" textLength=\"40\" x=\"33\" y=\"78.1387\">«part»</text><text fill=\"#000000\" font-family=\"sans-serif\" font-size=\"12\" lengthAdjust=\"spacingAndGlyphs\" textLength=\"14\" x=\"46\" y=\"92.1074\">v2</text><line style=\"stroke: #383838; stroke-width: 1.5;\" x1=\"33\" x2=\"73\" y1=\"99.9375\" y2=\"99.9375\"/></a><!--MD5=[05d275557350bfb9b23a4ef7222b4c39]\n",
       "link E3 to E2--><a href=\"psysml:a976bee6-0dca-4565-96d2-a44c4ac1d16a\" target=\"_top\" title=\"psysml:a976bee6-0dca-4565-96d2-a44c4ac1d16a\" xlink:actuate=\"onRequest\" xlink:href=\"psysml:a976bee6-0dca-4565-96d2-a44c4ac1d16a\" xlink:show=\"new\" xlink:title=\"psysml:a976bee6-0dca-4565-96d2-a44c4ac1d16a\" xlink:type=\"simple\"><path d=\"M258.38,129.02 C252.17,141.97 245.22,156.45 238.55,170.36 \" fill=\"none\" id=\"E3-&gt;E2\" style=\"stroke: #383838; stroke-width: 1.0;\"/><polygon fill=\"#FFFFFF\" points=\"229.72,188.79,231.6151,168.6304,244.2413,174.6786,229.72,188.79\" style=\"stroke: #383838; stroke-width: 1.0;\"/><ellipse cx=\"235.8813\" cy=\"164.3538\" fill=\"#383838\" rx=\"2\" ry=\"2\" style=\"stroke: #383838; stroke-width: 1.0;\"/><ellipse cx=\"244.9\" cy=\"168.6739\" fill=\"#383838\" rx=\"2\" ry=\"2\" style=\"stroke: #383838; stroke-width: 1.0;\"/></a><!--MD5=[185131fc0dcab0a4505a2ebe144e961b]\n",
       "link E4 to E2--><a href=\"psysml:80b8c15c-720d-43cf-a3f3-f1ac8ca72d6e\" target=\"_top\" title=\"psysml:80b8c15c-720d-43cf-a3f3-f1ac8ca72d6e\" xlink:actuate=\"onRequest\" xlink:href=\"psysml:80b8c15c-720d-43cf-a3f3-f1ac8ca72d6e\" xlink:show=\"new\" xlink:title=\"psysml:80b8c15c-720d-43cf-a3f3-f1ac8ca72d6e\" xlink:type=\"simple\"><path d=\"M175.14,129.02 C179.3,141.67 183.94,155.79 188.42,169.41 \" fill=\"none\" id=\"E4-&gt;E2\" style=\"stroke: #383838; stroke-width: 1.0;\"/><polygon fill=\"none\" points=\"195.2,167.6,194.79,188.79,181.9,171.97,195.2,167.6\" style=\"stroke: #383838; stroke-width: 1.0;\"/></a><!--MD5=[3301fbe9f6f6d3e4e07455849392f76b]\n",
       "@startuml\r\n",
       " skinparam monochrome true\r\n",
       "skinparam classbackgroundcolor white\r\n",
       "skinparam shadowing false\r\n",
       "skinparam wrapWidth 300\r\n",
       "hide circle\r\n",
       "\r\n",
       "package \"DefaultValueTest\" as E1  [[psysml:e269850e-1dc2-4cd5-af8e-eb4ea9f30c1b ]]  {\r\n",
       "comp def \"V\" as E2  <<(T,blue) part def>> [[psysml:e7bf9c65-3f81-4ba3-bb8e-9b75385edfca ]] {\r\n",
       "- - attributes - -\r\n",
       "m=default = 10; \r\n",
       "n= 20; \r\n",
       "}\r\n",
       "comp usage \"v1: V\" as E3  <<(T,blue) part>> [[psysml:f1f60863-7632-47b0-830a-21cb33ae86b3 ]] {\r\n",
       "- - attributes - -\r\n",
       "m= 20; \\n//:>>V::m// \r\n",
       "}\r\n",
       "comp def \"W\" as E4  <<(T,blue) part def>> [[psysml:92194191-781a-4f9d-991e-568f466dae89 ]] {\r\n",
       "- - attributes - -\r\n",
       "m=default = n; \\n//:>>V::m// \r\n",
       "}\r\n",
       "comp usage \"v2\" as E5  <<(T,blue) part>> [[psysml:12e8b862-a297-4118-9bc9-39ad14290527 ]] {\r\n",
       "}\r\n",
       "E3 - -:|> E2 [[psysml:a976bee6-0dca-4565-96d2-a44c4ac1d16a ]] \r\n",
       "E4 - -|> E2 [[psysml:80b8c15c-720d-43cf-a3f3-f1ac8ca72d6e ]] \r\n",
       "}\r\n",
       "@enduml\r\n",
       "\n",
       "PlantUML version 1.2020.13(Sat Jun 13 12:26:38 UTC 2020)\n",
       "(EPL source distribution)\n",
       "Java Runtime: OpenJDK Runtime Environment\n",
       "JVM: OpenJDK 64-Bit Server VM\n",
       "Default Encoding: UTF-8\n",
       "Language: en\n",
       "Country: null\n",
       "--></g></svg>"
      ]
     },
     "execution_count": 8,
     "metadata": {},
     "output_type": "execute_result"
    }
   ],
   "source": [
    "%viz --style=\"COMPTREE\" --view=\"MIXED\" \"DefaultValueTest\""
   ]
  },
  {
   "cell_type": "code",
   "execution_count": 9,
   "id": "683e048e",
   "metadata": {
    "execution": {
     "iopub.execute_input": "2021-08-04T06:28:41.687328Z",
     "iopub.status.busy": "2021-08-04T06:28:41.686878Z",
     "iopub.status.idle": "2021-08-04T06:28:41.768783Z",
     "shell.execute_reply": "2021-08-04T06:28:41.767376Z"
    }
   },
   "outputs": [
    {
     "data": {
      "image/svg+xml": [
       "<?xml version=\"1.0\" encoding=\"UTF-8\" standalone=\"no\"?><svg xmlns=\"http://www.w3.org/2000/svg\" xmlns:xlink=\"http://www.w3.org/1999/xlink\" contentScriptType=\"application/ecmascript\" contentStyleType=\"text/css\" height=\"305px\" preserveAspectRatio=\"none\" style=\"width:349px;height:305px;\" version=\"1.1\" viewBox=\"0 0 349 305\" width=\"349px\" zoomAndPan=\"magnify\"><defs/><g><!--MD5=[fbc87193dbaf4d95561dea2c320d4a47]\n",
       "cluster E1--><a href=\"psysml:e269850e-1dc2-4cd5-af8e-eb4ea9f30c1b\" target=\"_top\" title=\"psysml:e269850e-1dc2-4cd5-af8e-eb4ea9f30c1b\" xlink:actuate=\"onRequest\" xlink:href=\"psysml:e269850e-1dc2-4cd5-af8e-eb4ea9f30c1b\" xlink:show=\"new\" xlink:title=\"psysml:e269850e-1dc2-4cd5-af8e-eb4ea9f30c1b\" xlink:type=\"simple\"><polygon fill=\"#FFFFFF\" points=\"16,6,157,6,164,28.2969,327,28.2969,327,293,16,293,16,6\" style=\"stroke: #000000; stroke-width: 1.5;\"/><line style=\"stroke: #000000; stroke-width: 1.5;\" x1=\"16\" x2=\"164\" y1=\"28.2969\" y2=\"28.2969\"/><text fill=\"#000000\" font-family=\"sans-serif\" font-size=\"14\" font-weight=\"bold\" lengthAdjust=\"spacingAndGlyphs\" textLength=\"135\" x=\"20\" y=\"20.9951\">DefaultValueTest</text></a><!--MD5=[b4997ac47864f28c2f74865a473b2911]\n",
       "class E2--><a href=\"psysml:e7bf9c65-3f81-4ba3-bb8e-9b75385edfca\" target=\"_top\" title=\"psysml:e7bf9c65-3f81-4ba3-bb8e-9b75385edfca\" xlink:actuate=\"onRequest\" xlink:href=\"psysml:e7bf9c65-3f81-4ba3-bb8e-9b75385edfca\" xlink:show=\"new\" xlink:title=\"psysml:e7bf9c65-3f81-4ba3-bb8e-9b75385edfca\" xlink:type=\"simple\"><rect fill=\"#FFFFFF\" height=\"88.3516\" id=\"E2\" style=\"stroke: #383838; stroke-width: 1.5;\" width=\"106\" x=\"156\" y=\"189\"/><text fill=\"#000000\" font-family=\"sans-serif\" font-size=\"12\" font-style=\"italic\" lengthAdjust=\"spacingAndGlyphs\" textLength=\"64\" x=\"177\" y=\"205.1387\">«part def»</text><text fill=\"#000000\" font-family=\"sans-serif\" font-size=\"12\" lengthAdjust=\"spacingAndGlyphs\" textLength=\"8\" x=\"205\" y=\"219.1074\">V</text><line style=\"stroke: #383838; stroke-width: 1.5;\" x1=\"157\" x2=\"261\" y1=\"226.9375\" y2=\"226.9375\"/><text fill=\"#000000\" font-family=\"sans-serif\" font-size=\"11\" lengthAdjust=\"spacingAndGlyphs\" textLength=\"94\" x=\"162\" y=\"257.9526\">m=default = 10;</text><text fill=\"#000000\" font-family=\"sans-serif\" font-size=\"11\" lengthAdjust=\"spacingAndGlyphs\" textLength=\"38\" x=\"162\" y=\"270.7573\">n= 20;</text><line style=\"stroke: #383838; stroke-width: 1.0;\" x1=\"157\" x2=\"181.5\" y1=\"241.3398\" y2=\"241.3398\"/><text fill=\"#000000\" font-family=\"sans-serif\" font-size=\"11\" lengthAdjust=\"spacingAndGlyphs\" textLength=\"55\" x=\"181.5\" y=\"244.6479\">attributes</text><line style=\"stroke: #383838; stroke-width: 1.0;\" x1=\"236.5\" x2=\"261\" y1=\"241.3398\" y2=\"241.3398\"/></a><!--MD5=[09b614a08d8cba4a07c9adeb5e0fee81]\n",
       "class E3--><a href=\"psysml:f1f60863-7632-47b0-830a-21cb33ae86b3\" target=\"_top\" title=\"psysml:f1f60863-7632-47b0-830a-21cb33ae86b3\" xlink:actuate=\"onRequest\" xlink:href=\"psysml:f1f60863-7632-47b0-830a-21cb33ae86b3\" xlink:show=\"new\" xlink:title=\"psysml:f1f60863-7632-47b0-830a-21cb33ae86b3\" xlink:type=\"simple\"><rect fill=\"#FFFFFF\" height=\"88.3516\" id=\"E3\" rx=\"10\" ry=\"10\" style=\"stroke: #383838; stroke-width: 1.5;\" width=\"63\" x=\"247.5\" y=\"41\"/><text fill=\"#000000\" font-family=\"sans-serif\" font-size=\"12\" font-style=\"italic\" lengthAdjust=\"spacingAndGlyphs\" textLength=\"40\" x=\"259\" y=\"57.1387\">«part»</text><text fill=\"#000000\" font-family=\"sans-serif\" font-size=\"12\" lengthAdjust=\"spacingAndGlyphs\" textLength=\"30\" x=\"264\" y=\"71.1074\">v1: V</text><line style=\"stroke: #383838; stroke-width: 1.5;\" x1=\"248.5\" x2=\"309.5\" y1=\"78.9375\" y2=\"78.9375\"/><text fill=\"#000000\" font-family=\"sans-serif\" font-size=\"11\" lengthAdjust=\"spacingAndGlyphs\" textLength=\"42\" x=\"253.5\" y=\"109.9526\">m= 20;</text><text fill=\"#000000\" font-family=\"sans-serif\" font-size=\"11\" font-style=\"italic\" lengthAdjust=\"spacingAndGlyphs\" textLength=\"48\" x=\"253.5\" y=\"122.7573\">:&gt;&gt;V::m</text><line style=\"stroke: #383838; stroke-width: 1.0;\" x1=\"248.5\" x2=\"251.5\" y1=\"93.3398\" y2=\"93.3398\"/><text fill=\"#000000\" font-family=\"sans-serif\" font-size=\"11\" lengthAdjust=\"spacingAndGlyphs\" textLength=\"55\" x=\"251.5\" y=\"96.6479\">attributes</text><line style=\"stroke: #383838; stroke-width: 1.0;\" x1=\"306.5\" x2=\"309.5\" y1=\"93.3398\" y2=\"93.3398\"/></a><!--MD5=[ebbe1d658d1005bcc118a6aa81145e00]\n",
       "class E4--><a href=\"psysml:92194191-781a-4f9d-991e-568f466dae89\" target=\"_top\" title=\"psysml:92194191-781a-4f9d-991e-568f466dae89\" xlink:actuate=\"onRequest\" xlink:href=\"psysml:92194191-781a-4f9d-991e-568f466dae89\" xlink:show=\"new\" xlink:title=\"psysml:92194191-781a-4f9d-991e-568f466dae89\" xlink:type=\"simple\"><rect fill=\"#FFFFFF\" height=\"88.3516\" id=\"E4\" style=\"stroke: #383838; stroke-width: 1.5;\" width=\"103\" x=\"109.5\" y=\"41\"/><text fill=\"#000000\" font-family=\"sans-serif\" font-size=\"12\" font-style=\"italic\" lengthAdjust=\"spacingAndGlyphs\" textLength=\"64\" x=\"129\" y=\"57.1387\">«part def»</text><text fill=\"#000000\" font-family=\"sans-serif\" font-size=\"12\" lengthAdjust=\"spacingAndGlyphs\" textLength=\"11\" x=\"155.5\" y=\"71.1074\">W</text><line style=\"stroke: #383838; stroke-width: 1.5;\" x1=\"110.5\" x2=\"211.5\" y1=\"78.9375\" y2=\"78.9375\"/><text fill=\"#000000\" font-family=\"sans-serif\" font-size=\"11\" lengthAdjust=\"spacingAndGlyphs\" textLength=\"87\" x=\"115.5\" y=\"109.9526\">m=default = n;</text><text fill=\"#000000\" font-family=\"sans-serif\" font-size=\"11\" font-style=\"italic\" lengthAdjust=\"spacingAndGlyphs\" textLength=\"48\" x=\"115.5\" y=\"122.7573\">:&gt;&gt;V::m</text><line style=\"stroke: #383838; stroke-width: 1.0;\" x1=\"110.5\" x2=\"133.5\" y1=\"93.3398\" y2=\"93.3398\"/><text fill=\"#000000\" font-family=\"sans-serif\" font-size=\"11\" lengthAdjust=\"spacingAndGlyphs\" textLength=\"55\" x=\"133.5\" y=\"96.6479\">attributes</text><line style=\"stroke: #383838; stroke-width: 1.0;\" x1=\"188.5\" x2=\"211.5\" y1=\"93.3398\" y2=\"93.3398\"/></a><!--MD5=[270fce915f116d4de14055a7c1d9a0f3]\n",
       "class E5--><a href=\"psysml:12e8b862-a297-4118-9bc9-39ad14290527\" target=\"_top\" title=\"psysml:12e8b862-a297-4118-9bc9-39ad14290527\" xlink:actuate=\"onRequest\" xlink:href=\"psysml:12e8b862-a297-4118-9bc9-39ad14290527\" xlink:show=\"new\" xlink:title=\"psysml:12e8b862-a297-4118-9bc9-39ad14290527\" xlink:type=\"simple\"><rect fill=\"#FFFFFF\" height=\"45.9375\" id=\"E5\" rx=\"10\" ry=\"10\" style=\"stroke: #383838; stroke-width: 1.5;\" width=\"42\" x=\"32\" y=\"62\"/><text fill=\"#000000\" font-family=\"sans-serif\" font-size=\"12\" font-style=\"italic\" lengthAdjust=\"spacingAndGlyphs\" textLength=\"40\" x=\"33\" y=\"78.1387\">«part»</text><text fill=\"#000000\" font-family=\"sans-serif\" font-size=\"12\" lengthAdjust=\"spacingAndGlyphs\" textLength=\"14\" x=\"46\" y=\"92.1074\">v2</text><line style=\"stroke: #383838; stroke-width: 1.5;\" x1=\"33\" x2=\"73\" y1=\"99.9375\" y2=\"99.9375\"/></a><!--MD5=[05d275557350bfb9b23a4ef7222b4c39]\n",
       "link E3 to E2--><a href=\"psysml:a976bee6-0dca-4565-96d2-a44c4ac1d16a\" target=\"_top\" title=\"psysml:a976bee6-0dca-4565-96d2-a44c4ac1d16a\" xlink:actuate=\"onRequest\" xlink:href=\"psysml:a976bee6-0dca-4565-96d2-a44c4ac1d16a\" xlink:show=\"new\" xlink:title=\"psysml:a976bee6-0dca-4565-96d2-a44c4ac1d16a\" xlink:type=\"simple\"><path d=\"M258.38,129.02 C252.17,141.97 245.22,156.45 238.55,170.36 \" fill=\"none\" id=\"E3-&gt;E2\" style=\"stroke: #383838; stroke-width: 1.0;\"/><polygon fill=\"#FFFFFF\" points=\"229.72,188.79,231.6151,168.6304,244.2413,174.6786,229.72,188.79\" style=\"stroke: #383838; stroke-width: 1.0;\"/><ellipse cx=\"235.8813\" cy=\"164.3538\" fill=\"#383838\" rx=\"2\" ry=\"2\" style=\"stroke: #383838; stroke-width: 1.0;\"/><ellipse cx=\"244.9\" cy=\"168.6739\" fill=\"#383838\" rx=\"2\" ry=\"2\" style=\"stroke: #383838; stroke-width: 1.0;\"/></a><!--MD5=[185131fc0dcab0a4505a2ebe144e961b]\n",
       "link E4 to E2--><a href=\"psysml:80b8c15c-720d-43cf-a3f3-f1ac8ca72d6e\" target=\"_top\" title=\"psysml:80b8c15c-720d-43cf-a3f3-f1ac8ca72d6e\" xlink:actuate=\"onRequest\" xlink:href=\"psysml:80b8c15c-720d-43cf-a3f3-f1ac8ca72d6e\" xlink:show=\"new\" xlink:title=\"psysml:80b8c15c-720d-43cf-a3f3-f1ac8ca72d6e\" xlink:type=\"simple\"><path d=\"M175.14,129.02 C179.3,141.67 183.94,155.79 188.42,169.41 \" fill=\"none\" id=\"E4-&gt;E2\" style=\"stroke: #383838; stroke-width: 1.0;\"/><polygon fill=\"none\" points=\"195.2,167.6,194.79,188.79,181.9,171.97,195.2,167.6\" style=\"stroke: #383838; stroke-width: 1.0;\"/></a><!--MD5=[478f6b52e689a54999f1cd485abbfb07]\n",
       "@startuml\r\n",
       "skinparam linetype polyline\r\n",
       "skinparam monochrome true\r\n",
       "skinparam classbackgroundcolor white\r\n",
       "skinparam shadowing false\r\n",
       "skinparam wrapWidth 300\r\n",
       "hide circle\r\n",
       "\r\n",
       "package \"DefaultValueTest\" as E1  [[psysml:e269850e-1dc2-4cd5-af8e-eb4ea9f30c1b ]]  {\r\n",
       "comp def \"V\" as E2  <<(T,blue) part def>> [[psysml:e7bf9c65-3f81-4ba3-bb8e-9b75385edfca ]] {\r\n",
       "- - attributes - -\r\n",
       "m=default = 10; \r\n",
       "n= 20; \r\n",
       "}\r\n",
       "comp usage \"v1: V\" as E3  <<(T,blue) part>> [[psysml:f1f60863-7632-47b0-830a-21cb33ae86b3 ]] {\r\n",
       "- - attributes - -\r\n",
       "m= 20; \\n//:>>V::m// \r\n",
       "}\r\n",
       "comp def \"W\" as E4  <<(T,blue) part def>> [[psysml:92194191-781a-4f9d-991e-568f466dae89 ]] {\r\n",
       "- - attributes - -\r\n",
       "m=default = n; \\n//:>>V::m// \r\n",
       "}\r\n",
       "comp usage \"v2\" as E5  <<(T,blue) part>> [[psysml:12e8b862-a297-4118-9bc9-39ad14290527 ]] {\r\n",
       "}\r\n",
       "E3 - -:|> E2 [[psysml:a976bee6-0dca-4565-96d2-a44c4ac1d16a ]] \r\n",
       "E4 - -|> E2 [[psysml:80b8c15c-720d-43cf-a3f3-f1ac8ca72d6e ]] \r\n",
       "}\r\n",
       "@enduml\r\n",
       "\n",
       "PlantUML version 1.2020.13(Sat Jun 13 12:26:38 UTC 2020)\n",
       "(EPL source distribution)\n",
       "Java Runtime: OpenJDK Runtime Environment\n",
       "JVM: OpenJDK 64-Bit Server VM\n",
       "Default Encoding: UTF-8\n",
       "Language: en\n",
       "Country: null\n",
       "--></g></svg>"
      ]
     },
     "execution_count": 9,
     "metadata": {},
     "output_type": "execute_result"
    }
   ],
   "source": [
    "%viz --style=\"POLYLINE\" --view=\"Default\" \"DefaultValueTest\""
   ]
  },
  {
   "cell_type": "code",
   "execution_count": 10,
   "id": "bd5cc478",
   "metadata": {
    "execution": {
     "iopub.execute_input": "2021-08-04T06:28:41.818798Z",
     "iopub.status.busy": "2021-08-04T06:28:41.818357Z",
     "iopub.status.idle": "2021-08-04T06:28:41.885151Z",
     "shell.execute_reply": "2021-08-04T06:28:41.883442Z"
    }
   },
   "outputs": [
    {
     "data": {
      "image/svg+xml": [
       "<?xml version=\"1.0\" encoding=\"UTF-8\" standalone=\"no\"?><svg xmlns=\"http://www.w3.org/2000/svg\" xmlns:xlink=\"http://www.w3.org/1999/xlink\" contentScriptType=\"application/ecmascript\" contentStyleType=\"text/css\" height=\"305px\" preserveAspectRatio=\"none\" style=\"width:349px;height:305px;\" version=\"1.1\" viewBox=\"0 0 349 305\" width=\"349px\" zoomAndPan=\"magnify\"><defs/><g><!--MD5=[fbc87193dbaf4d95561dea2c320d4a47]\n",
       "cluster E1--><a href=\"psysml:e269850e-1dc2-4cd5-af8e-eb4ea9f30c1b\" target=\"_top\" title=\"psysml:e269850e-1dc2-4cd5-af8e-eb4ea9f30c1b\" xlink:actuate=\"onRequest\" xlink:href=\"psysml:e269850e-1dc2-4cd5-af8e-eb4ea9f30c1b\" xlink:show=\"new\" xlink:title=\"psysml:e269850e-1dc2-4cd5-af8e-eb4ea9f30c1b\" xlink:type=\"simple\"><polygon fill=\"#FFFFFF\" points=\"16,6,157,6,164,28.2969,327,28.2969,327,293,16,293,16,6\" style=\"stroke: #000000; stroke-width: 1.5;\"/><line style=\"stroke: #000000; stroke-width: 1.5;\" x1=\"16\" x2=\"164\" y1=\"28.2969\" y2=\"28.2969\"/><text fill=\"#000000\" font-family=\"sans-serif\" font-size=\"14\" font-weight=\"bold\" lengthAdjust=\"spacingAndGlyphs\" textLength=\"135\" x=\"20\" y=\"20.9951\">DefaultValueTest</text></a><!--MD5=[b4997ac47864f28c2f74865a473b2911]\n",
       "class E2--><a href=\"psysml:e7bf9c65-3f81-4ba3-bb8e-9b75385edfca\" target=\"_top\" title=\"psysml:e7bf9c65-3f81-4ba3-bb8e-9b75385edfca\" xlink:actuate=\"onRequest\" xlink:href=\"psysml:e7bf9c65-3f81-4ba3-bb8e-9b75385edfca\" xlink:show=\"new\" xlink:title=\"psysml:e7bf9c65-3f81-4ba3-bb8e-9b75385edfca\" xlink:type=\"simple\"><rect fill=\"#FFFFFF\" height=\"88.3516\" id=\"E2\" style=\"stroke: #383838; stroke-width: 1.5;\" width=\"106\" x=\"156\" y=\"189\"/><text fill=\"#000000\" font-family=\"sans-serif\" font-size=\"12\" font-style=\"italic\" lengthAdjust=\"spacingAndGlyphs\" textLength=\"64\" x=\"177\" y=\"205.1387\">«part def»</text><text fill=\"#000000\" font-family=\"sans-serif\" font-size=\"12\" lengthAdjust=\"spacingAndGlyphs\" textLength=\"8\" x=\"205\" y=\"219.1074\">V</text><line style=\"stroke: #383838; stroke-width: 1.5;\" x1=\"157\" x2=\"261\" y1=\"226.9375\" y2=\"226.9375\"/><text fill=\"#000000\" font-family=\"sans-serif\" font-size=\"11\" lengthAdjust=\"spacingAndGlyphs\" textLength=\"94\" x=\"162\" y=\"257.9526\">m=default = 10;</text><text fill=\"#000000\" font-family=\"sans-serif\" font-size=\"11\" lengthAdjust=\"spacingAndGlyphs\" textLength=\"38\" x=\"162\" y=\"270.7573\">n= 20;</text><line style=\"stroke: #383838; stroke-width: 1.0;\" x1=\"157\" x2=\"181.5\" y1=\"241.3398\" y2=\"241.3398\"/><text fill=\"#000000\" font-family=\"sans-serif\" font-size=\"11\" lengthAdjust=\"spacingAndGlyphs\" textLength=\"55\" x=\"181.5\" y=\"244.6479\">attributes</text><line style=\"stroke: #383838; stroke-width: 1.0;\" x1=\"236.5\" x2=\"261\" y1=\"241.3398\" y2=\"241.3398\"/></a><!--MD5=[09b614a08d8cba4a07c9adeb5e0fee81]\n",
       "class E3--><a href=\"psysml:f1f60863-7632-47b0-830a-21cb33ae86b3\" target=\"_top\" title=\"psysml:f1f60863-7632-47b0-830a-21cb33ae86b3\" xlink:actuate=\"onRequest\" xlink:href=\"psysml:f1f60863-7632-47b0-830a-21cb33ae86b3\" xlink:show=\"new\" xlink:title=\"psysml:f1f60863-7632-47b0-830a-21cb33ae86b3\" xlink:type=\"simple\"><rect fill=\"#FFFFFF\" height=\"88.3516\" id=\"E3\" rx=\"10\" ry=\"10\" style=\"stroke: #383838; stroke-width: 1.5;\" width=\"63\" x=\"247.5\" y=\"41\"/><text fill=\"#000000\" font-family=\"sans-serif\" font-size=\"12\" font-style=\"italic\" lengthAdjust=\"spacingAndGlyphs\" textLength=\"40\" x=\"259\" y=\"57.1387\">«part»</text><text fill=\"#000000\" font-family=\"sans-serif\" font-size=\"12\" lengthAdjust=\"spacingAndGlyphs\" textLength=\"30\" x=\"264\" y=\"71.1074\">v1: V</text><line style=\"stroke: #383838; stroke-width: 1.5;\" x1=\"248.5\" x2=\"309.5\" y1=\"78.9375\" y2=\"78.9375\"/><text fill=\"#000000\" font-family=\"sans-serif\" font-size=\"11\" lengthAdjust=\"spacingAndGlyphs\" textLength=\"42\" x=\"253.5\" y=\"109.9526\">m= 20;</text><text fill=\"#000000\" font-family=\"sans-serif\" font-size=\"11\" font-style=\"italic\" lengthAdjust=\"spacingAndGlyphs\" textLength=\"48\" x=\"253.5\" y=\"122.7573\">:&gt;&gt;V::m</text><line style=\"stroke: #383838; stroke-width: 1.0;\" x1=\"248.5\" x2=\"251.5\" y1=\"93.3398\" y2=\"93.3398\"/><text fill=\"#000000\" font-family=\"sans-serif\" font-size=\"11\" lengthAdjust=\"spacingAndGlyphs\" textLength=\"55\" x=\"251.5\" y=\"96.6479\">attributes</text><line style=\"stroke: #383838; stroke-width: 1.0;\" x1=\"306.5\" x2=\"309.5\" y1=\"93.3398\" y2=\"93.3398\"/></a><!--MD5=[ebbe1d658d1005bcc118a6aa81145e00]\n",
       "class E4--><a href=\"psysml:92194191-781a-4f9d-991e-568f466dae89\" target=\"_top\" title=\"psysml:92194191-781a-4f9d-991e-568f466dae89\" xlink:actuate=\"onRequest\" xlink:href=\"psysml:92194191-781a-4f9d-991e-568f466dae89\" xlink:show=\"new\" xlink:title=\"psysml:92194191-781a-4f9d-991e-568f466dae89\" xlink:type=\"simple\"><rect fill=\"#FFFFFF\" height=\"88.3516\" id=\"E4\" style=\"stroke: #383838; stroke-width: 1.5;\" width=\"103\" x=\"109.5\" y=\"41\"/><text fill=\"#000000\" font-family=\"sans-serif\" font-size=\"12\" font-style=\"italic\" lengthAdjust=\"spacingAndGlyphs\" textLength=\"64\" x=\"129\" y=\"57.1387\">«part def»</text><text fill=\"#000000\" font-family=\"sans-serif\" font-size=\"12\" lengthAdjust=\"spacingAndGlyphs\" textLength=\"11\" x=\"155.5\" y=\"71.1074\">W</text><line style=\"stroke: #383838; stroke-width: 1.5;\" x1=\"110.5\" x2=\"211.5\" y1=\"78.9375\" y2=\"78.9375\"/><text fill=\"#000000\" font-family=\"sans-serif\" font-size=\"11\" lengthAdjust=\"spacingAndGlyphs\" textLength=\"87\" x=\"115.5\" y=\"109.9526\">m=default = n;</text><text fill=\"#000000\" font-family=\"sans-serif\" font-size=\"11\" font-style=\"italic\" lengthAdjust=\"spacingAndGlyphs\" textLength=\"48\" x=\"115.5\" y=\"122.7573\">:&gt;&gt;V::m</text><line style=\"stroke: #383838; stroke-width: 1.0;\" x1=\"110.5\" x2=\"133.5\" y1=\"93.3398\" y2=\"93.3398\"/><text fill=\"#000000\" font-family=\"sans-serif\" font-size=\"11\" lengthAdjust=\"spacingAndGlyphs\" textLength=\"55\" x=\"133.5\" y=\"96.6479\">attributes</text><line style=\"stroke: #383838; stroke-width: 1.0;\" x1=\"188.5\" x2=\"211.5\" y1=\"93.3398\" y2=\"93.3398\"/></a><!--MD5=[270fce915f116d4de14055a7c1d9a0f3]\n",
       "class E5--><a href=\"psysml:12e8b862-a297-4118-9bc9-39ad14290527\" target=\"_top\" title=\"psysml:12e8b862-a297-4118-9bc9-39ad14290527\" xlink:actuate=\"onRequest\" xlink:href=\"psysml:12e8b862-a297-4118-9bc9-39ad14290527\" xlink:show=\"new\" xlink:title=\"psysml:12e8b862-a297-4118-9bc9-39ad14290527\" xlink:type=\"simple\"><rect fill=\"#FFFFFF\" height=\"45.9375\" id=\"E5\" rx=\"10\" ry=\"10\" style=\"stroke: #383838; stroke-width: 1.5;\" width=\"42\" x=\"32\" y=\"62\"/><text fill=\"#000000\" font-family=\"sans-serif\" font-size=\"12\" font-style=\"italic\" lengthAdjust=\"spacingAndGlyphs\" textLength=\"40\" x=\"33\" y=\"78.1387\">«part»</text><text fill=\"#000000\" font-family=\"sans-serif\" font-size=\"12\" lengthAdjust=\"spacingAndGlyphs\" textLength=\"14\" x=\"46\" y=\"92.1074\">v2</text><line style=\"stroke: #383838; stroke-width: 1.5;\" x1=\"33\" x2=\"73\" y1=\"99.9375\" y2=\"99.9375\"/></a><!--MD5=[05d275557350bfb9b23a4ef7222b4c39]\n",
       "link E3 to E2--><a href=\"psysml:a976bee6-0dca-4565-96d2-a44c4ac1d16a\" target=\"_top\" title=\"psysml:a976bee6-0dca-4565-96d2-a44c4ac1d16a\" xlink:actuate=\"onRequest\" xlink:href=\"psysml:a976bee6-0dca-4565-96d2-a44c4ac1d16a\" xlink:show=\"new\" xlink:title=\"psysml:a976bee6-0dca-4565-96d2-a44c4ac1d16a\" xlink:type=\"simple\"><path d=\"M258.38,129.02 C252.17,141.97 245.22,156.45 238.55,170.36 \" fill=\"none\" id=\"E3-&gt;E2\" style=\"stroke: #383838; stroke-width: 1.0;\"/><polygon fill=\"#FFFFFF\" points=\"229.72,188.79,231.6151,168.6304,244.2413,174.6786,229.72,188.79\" style=\"stroke: #383838; stroke-width: 1.0;\"/><ellipse cx=\"235.8813\" cy=\"164.3538\" fill=\"#383838\" rx=\"2\" ry=\"2\" style=\"stroke: #383838; stroke-width: 1.0;\"/><ellipse cx=\"244.9\" cy=\"168.6739\" fill=\"#383838\" rx=\"2\" ry=\"2\" style=\"stroke: #383838; stroke-width: 1.0;\"/></a><!--MD5=[185131fc0dcab0a4505a2ebe144e961b]\n",
       "link E4 to E2--><a href=\"psysml:80b8c15c-720d-43cf-a3f3-f1ac8ca72d6e\" target=\"_top\" title=\"psysml:80b8c15c-720d-43cf-a3f3-f1ac8ca72d6e\" xlink:actuate=\"onRequest\" xlink:href=\"psysml:80b8c15c-720d-43cf-a3f3-f1ac8ca72d6e\" xlink:show=\"new\" xlink:title=\"psysml:80b8c15c-720d-43cf-a3f3-f1ac8ca72d6e\" xlink:type=\"simple\"><path d=\"M175.14,129.02 C179.3,141.67 183.94,155.79 188.42,169.41 \" fill=\"none\" id=\"E4-&gt;E2\" style=\"stroke: #383838; stroke-width: 1.0;\"/><polygon fill=\"none\" points=\"195.2,167.6,194.79,188.79,181.9,171.97,195.2,167.6\" style=\"stroke: #383838; stroke-width: 1.0;\"/></a><!--MD5=[478f6b52e689a54999f1cd485abbfb07]\n",
       "@startuml\r\n",
       "skinparam linetype polyline\r\n",
       "skinparam monochrome true\r\n",
       "skinparam classbackgroundcolor white\r\n",
       "skinparam shadowing false\r\n",
       "skinparam wrapWidth 300\r\n",
       "hide circle\r\n",
       "\r\n",
       "package \"DefaultValueTest\" as E1  [[psysml:e269850e-1dc2-4cd5-af8e-eb4ea9f30c1b ]]  {\r\n",
       "comp def \"V\" as E2  <<(T,blue) part def>> [[psysml:e7bf9c65-3f81-4ba3-bb8e-9b75385edfca ]] {\r\n",
       "- - attributes - -\r\n",
       "m=default = 10; \r\n",
       "n= 20; \r\n",
       "}\r\n",
       "comp usage \"v1: V\" as E3  <<(T,blue) part>> [[psysml:f1f60863-7632-47b0-830a-21cb33ae86b3 ]] {\r\n",
       "- - attributes - -\r\n",
       "m= 20; \\n//:>>V::m// \r\n",
       "}\r\n",
       "comp def \"W\" as E4  <<(T,blue) part def>> [[psysml:92194191-781a-4f9d-991e-568f466dae89 ]] {\r\n",
       "- - attributes - -\r\n",
       "m=default = n; \\n//:>>V::m// \r\n",
       "}\r\n",
       "comp usage \"v2\" as E5  <<(T,blue) part>> [[psysml:12e8b862-a297-4118-9bc9-39ad14290527 ]] {\r\n",
       "}\r\n",
       "E3 - -:|> E2 [[psysml:a976bee6-0dca-4565-96d2-a44c4ac1d16a ]] \r\n",
       "E4 - -|> E2 [[psysml:80b8c15c-720d-43cf-a3f3-f1ac8ca72d6e ]] \r\n",
       "}\r\n",
       "@enduml\r\n",
       "\n",
       "PlantUML version 1.2020.13(Sat Jun 13 12:26:38 UTC 2020)\n",
       "(EPL source distribution)\n",
       "Java Runtime: OpenJDK Runtime Environment\n",
       "JVM: OpenJDK 64-Bit Server VM\n",
       "Default Encoding: UTF-8\n",
       "Language: en\n",
       "Country: null\n",
       "--></g></svg>"
      ]
     },
     "execution_count": 10,
     "metadata": {},
     "output_type": "execute_result"
    }
   ],
   "source": [
    "%viz --style=\"POLYLINE\" --view=\"Tree\" \"DefaultValueTest\""
   ]
  },
  {
   "cell_type": "code",
   "execution_count": 11,
   "id": "0711ddd8",
   "metadata": {
    "execution": {
     "iopub.execute_input": "2021-08-04T06:28:41.934128Z",
     "iopub.status.busy": "2021-08-04T06:28:41.933709Z",
     "iopub.status.idle": "2021-08-04T06:28:41.940459Z",
     "shell.execute_reply": "2021-08-04T06:28:41.941114Z"
    }
   },
   "outputs": [
    {
     "data": {
      "image/svg+xml": [
       "<?xml version=\"1.0\" encoding=\"UTF-8\" standalone=\"no\"?><svg xmlns=\"http://www.w3.org/2000/svg\" xmlns:xlink=\"http://www.w3.org/1999/xlink\" contentScriptType=\"application/ecmascript\" contentStyleType=\"text/css\" height=\"12px\" preserveAspectRatio=\"none\" style=\"width:12px;height:12px;\" version=\"1.1\" viewBox=\"0 0 12 12\" width=\"12px\" zoomAndPan=\"magnify\"><defs/><g><!--MD5=[896ac0e7a515d8dd7765a661cb4ee08b]\n",
       "@startuml\r\n",
       "skinparam linetype polyline\r\n",
       "skinparam monochrome true\r\n",
       "skinparam classbackgroundcolor white\r\n",
       "skinparam shadowing false\r\n",
       "skinparam wrapWidth 300\r\n",
       "hide circle\r\n",
       "\r\n",
       "@enduml\r\n",
       "\n",
       "PlantUML version 1.2020.13(Sat Jun 13 12:26:38 UTC 2020)\n",
       "(EPL source distribution)\n",
       "Java Runtime: OpenJDK Runtime Environment\n",
       "JVM: OpenJDK 64-Bit Server VM\n",
       "Default Encoding: UTF-8\n",
       "Language: en\n",
       "Country: null\n",
       "--></g></svg>"
      ]
     },
     "execution_count": 11,
     "metadata": {},
     "output_type": "execute_result"
    }
   ],
   "source": [
    "%viz --style=\"POLYLINE\" --view=\"State\" \"DefaultValueTest\""
   ]
  },
  {
   "cell_type": "code",
   "execution_count": 12,
   "id": "0e15eed0",
   "metadata": {
    "execution": {
     "iopub.execute_input": "2021-08-04T06:28:41.991274Z",
     "iopub.status.busy": "2021-08-04T06:28:41.990856Z",
     "iopub.status.idle": "2021-08-04T06:28:42.032855Z",
     "shell.execute_reply": "2021-08-04T06:28:42.032580Z"
    }
   },
   "outputs": [
    {
     "data": {
      "image/svg+xml": [
       "<?xml version=\"1.0\" encoding=\"UTF-8\" standalone=\"no\"?><svg xmlns=\"http://www.w3.org/2000/svg\" xmlns:xlink=\"http://www.w3.org/1999/xlink\" contentScriptType=\"application/ecmascript\" contentStyleType=\"text/css\" height=\"399px\" preserveAspectRatio=\"none\" style=\"width:448px;height:399px;\" version=\"1.1\" viewBox=\"0 0 448 399\" width=\"448px\" zoomAndPan=\"magnify\"><defs/><g><!--MD5=[fbc87193dbaf4d95561dea2c320d4a47]\n",
       "cluster E1--><a href=\"psysml:e269850e-1dc2-4cd5-af8e-eb4ea9f30c1b\" target=\"_top\" title=\"psysml:e269850e-1dc2-4cd5-af8e-eb4ea9f30c1b\" xlink:actuate=\"onRequest\" xlink:href=\"psysml:e269850e-1dc2-4cd5-af8e-eb4ea9f30c1b\" xlink:show=\"new\" xlink:title=\"psysml:e269850e-1dc2-4cd5-af8e-eb4ea9f30c1b\" xlink:type=\"simple\"><polygon fill=\"#FFFFFF\" points=\"16,6,157,6,164,28.2969,426,28.2969,426,387,16,387,16,6\" style=\"stroke: #000000; stroke-width: 1.5;\"/><line style=\"stroke: #000000; stroke-width: 1.5;\" x1=\"16\" x2=\"164\" y1=\"28.2969\" y2=\"28.2969\"/><text fill=\"#000000\" font-family=\"sans-serif\" font-size=\"14\" font-weight=\"bold\" lengthAdjust=\"spacingAndGlyphs\" textLength=\"135\" x=\"20\" y=\"20.9951\">DefaultValueTest</text></a><!--MD5=[e4f7fae6ed58524ba242bb0b0d3be6b7]\n",
       "cluster E2--><a href=\"psysml:e7bf9c65-3f81-4ba3-bb8e-9b75385edfca\" target=\"_top\" title=\"psysml:e7bf9c65-3f81-4ba3-bb8e-9b75385edfca\" xlink:actuate=\"onRequest\" xlink:href=\"psysml:e7bf9c65-3f81-4ba3-bb8e-9b75385edfca\" xlink:show=\"new\" xlink:title=\"psysml:e7bf9c65-3f81-4ba3-bb8e-9b75385edfca\" xlink:type=\"simple\"><rect fill=\"#FFFFFF\" height=\"129\" id=\"E2\" style=\"stroke: #383838; stroke-width: 1.5;\" width=\"245\" x=\"127\" y=\"226\"/><rect fill=\"#F8F8F8\" height=\"37.9375\" style=\"stroke: #383838; stroke-width: 1.5;\" width=\"245\" x=\"127\" y=\"226\"/><text fill=\"#000000\" font-family=\"sans-serif\" font-size=\"12\" font-style=\"italic\" lengthAdjust=\"spacingAndGlyphs\" textLength=\"64\" x=\"217.5\" y=\"242.1387\">«part def»</text><text fill=\"#000000\" font-family=\"sans-serif\" font-size=\"12\" lengthAdjust=\"spacingAndGlyphs\" textLength=\"8\" x=\"245.5\" y=\"256.1074\">V</text></a><!--MD5=[de5ec2e2e8f62f467e546659f5068c88]\n",
       "cluster E5--><a href=\"psysml:f1f60863-7632-47b0-830a-21cb33ae86b3\" target=\"_top\" title=\"psysml:f1f60863-7632-47b0-830a-21cb33ae86b3\" xlink:actuate=\"onRequest\" xlink:href=\"psysml:f1f60863-7632-47b0-830a-21cb33ae86b3\" xlink:show=\"new\" xlink:title=\"psysml:f1f60863-7632-47b0-830a-21cb33ae86b3\" xlink:type=\"simple\"><rect fill=\"#FFFFFF\" height=\"97\" id=\"E5\" rx=\"10\" ry=\"10\" style=\"stroke: #383838; stroke-width: 1.5;\" width=\"104\" x=\"298\" y=\"81\"/><rect fill=\"#F8F8F8\" height=\"23.9688\" rx=\"10\" ry=\"10\" style=\"stroke: #F8F8F8; stroke-width: 1.5;\" width=\"104\" x=\"298\" y=\"81\"/><rect fill=\"#F8F8F8\" height=\"10\" style=\"stroke: #F8F8F8; stroke-width: 1.5;\" width=\"104\" x=\"298\" y=\"94.9688\"/><rect fill=\"none\" height=\"97\" id=\"E5\" rx=\"10\" ry=\"10\" style=\"stroke: #383838; stroke-width: 1.5;\" width=\"104\" x=\"298\" y=\"81\"/><text fill=\"#000000\" font-family=\"sans-serif\" font-size=\"12\" lengthAdjust=\"spacingAndGlyphs\" textLength=\"30\" x=\"335\" y=\"97.1387\">v1: V</text><line style=\"stroke: #383838; stroke-width: 1.0;\" x1=\"298\" x2=\"402\" y1=\"104.9688\" y2=\"104.9688\"/></a><!--MD5=[168fadf3d0c3fd93dd5d6da1b1d7ab76]\n",
       "cluster E7--><a href=\"psysml:92194191-781a-4f9d-991e-568f466dae89\" target=\"_top\" title=\"psysml:92194191-781a-4f9d-991e-568f466dae89\" xlink:actuate=\"onRequest\" xlink:href=\"psysml:92194191-781a-4f9d-991e-568f466dae89\" xlink:show=\"new\" xlink:title=\"psysml:92194191-781a-4f9d-991e-568f466dae89\" xlink:type=\"simple\"><rect fill=\"#FFFFFF\" height=\"129\" id=\"E7\" style=\"stroke: #383838; stroke-width: 1.5;\" width=\"139\" x=\"127\" y=\"57\"/><rect fill=\"#F8F8F8\" height=\"37.9375\" style=\"stroke: #383838; stroke-width: 1.5;\" width=\"139\" x=\"127\" y=\"57\"/><text fill=\"#000000\" font-family=\"sans-serif\" font-size=\"12\" font-style=\"italic\" lengthAdjust=\"spacingAndGlyphs\" textLength=\"64\" x=\"164.5\" y=\"73.1387\">«part def»</text><text fill=\"#000000\" font-family=\"sans-serif\" font-size=\"12\" lengthAdjust=\"spacingAndGlyphs\" textLength=\"11\" x=\"191\" y=\"87.1074\">W</text></a><!--MD5=[09b614a08d8cba4a07c9adeb5e0fee81]\n",
       "class E3--><a href=\"psysml:a2ea0978-930d-4f5d-93d2-d64a4094d2a2\" target=\"_top\" title=\"psysml:a2ea0978-930d-4f5d-93d2-d64a4094d2a2\" xlink:actuate=\"onRequest\" xlink:href=\"psysml:a2ea0978-930d-4f5d-93d2-d64a4094d2a2\" xlink:show=\"new\" xlink:title=\"psysml:a2ea0978-930d-4f5d-93d2-d64a4094d2a2\" xlink:type=\"simple\"><rect fill=\"#FFFFFF\" height=\"45.9375\" id=\"E3\" rx=\"10\" ry=\"10\" style=\"stroke: #383838; stroke-width: 1.5;\" width=\"71\" x=\"276.5\" y=\"285\"/><text fill=\"#000000\" font-family=\"sans-serif\" font-size=\"12\" font-style=\"italic\" lengthAdjust=\"spacingAndGlyphs\" textLength=\"69\" x=\"277.5\" y=\"301.1387\">«attribute»</text><text fill=\"#000000\" font-family=\"sans-serif\" font-size=\"12\" lengthAdjust=\"spacingAndGlyphs\" textLength=\"11\" x=\"306.5\" y=\"315.1074\">m</text><line style=\"stroke: #383838; stroke-width: 1.5;\" x1=\"277.5\" x2=\"346.5\" y1=\"322.9375\" y2=\"322.9375\"/></a><!--MD5=[ebbe1d658d1005bcc118a6aa81145e00]\n",
       "class E4--><a href=\"psysml:d2e7553d-8e48-4fb7-896c-b23e6ced71f4\" target=\"_top\" title=\"psysml:d2e7553d-8e48-4fb7-896c-b23e6ced71f4\" xlink:actuate=\"onRequest\" xlink:href=\"psysml:d2e7553d-8e48-4fb7-896c-b23e6ced71f4\" xlink:show=\"new\" xlink:title=\"psysml:d2e7553d-8e48-4fb7-896c-b23e6ced71f4\" xlink:type=\"simple\"><rect fill=\"#FFFFFF\" height=\"45.9375\" id=\"E4\" rx=\"10\" ry=\"10\" style=\"stroke: #383838; stroke-width: 1.5;\" width=\"71\" x=\"170.5\" y=\"285\"/><text fill=\"#000000\" font-family=\"sans-serif\" font-size=\"12\" font-style=\"italic\" lengthAdjust=\"spacingAndGlyphs\" textLength=\"69\" x=\"171.5\" y=\"301.1387\">«attribute»</text><text fill=\"#000000\" font-family=\"sans-serif\" font-size=\"12\" lengthAdjust=\"spacingAndGlyphs\" textLength=\"8\" x=\"202\" y=\"315.1074\">n</text><line style=\"stroke: #383838; stroke-width: 1.5;\" x1=\"171.5\" x2=\"240.5\" y1=\"322.9375\" y2=\"322.9375\"/></a><!--MD5=[60a26617385b1d2d0262a64233df1f8d]\n",
       "class E6--><a href=\"psysml:851c4b2c-147d-4a79-885c-670825576d73\" target=\"_top\" title=\"psysml:851c4b2c-147d-4a79-885c-670825576d73\" xlink:actuate=\"onRequest\" xlink:href=\"psysml:851c4b2c-147d-4a79-885c-670825576d73\" xlink:show=\"new\" xlink:title=\"psysml:851c4b2c-147d-4a79-885c-670825576d73\" xlink:type=\"simple\"><rect fill=\"#FFFFFF\" height=\"45.9375\" id=\"E6\" rx=\"10\" ry=\"10\" style=\"stroke: #383838; stroke-width: 1.5;\" width=\"71\" x=\"314.5\" y=\"116\"/><text fill=\"#000000\" font-family=\"sans-serif\" font-size=\"12\" font-style=\"italic\" lengthAdjust=\"spacingAndGlyphs\" textLength=\"69\" x=\"315.5\" y=\"132.1387\">«attribute»</text><text fill=\"#000000\" font-family=\"sans-serif\" font-size=\"12\" lengthAdjust=\"spacingAndGlyphs\" textLength=\"11\" x=\"344.5\" y=\"146.1074\">m</text><line style=\"stroke: #383838; stroke-width: 1.5;\" x1=\"315.5\" x2=\"384.5\" y1=\"153.9375\" y2=\"153.9375\"/></a><!--MD5=[b9389687b975829384b498ac4b7476b2]\n",
       "class E8--><a href=\"psysml:82127d9e-4a29-4ac4-9705-0043f6777b4c\" target=\"_top\" title=\"psysml:82127d9e-4a29-4ac4-9705-0043f6777b4c\" xlink:actuate=\"onRequest\" xlink:href=\"psysml:82127d9e-4a29-4ac4-9705-0043f6777b4c\" xlink:show=\"new\" xlink:title=\"psysml:82127d9e-4a29-4ac4-9705-0043f6777b4c\" xlink:type=\"simple\"><rect fill=\"#FFFFFF\" height=\"45.9375\" id=\"E8\" rx=\"10\" ry=\"10\" style=\"stroke: #383838; stroke-width: 1.5;\" width=\"71\" x=\"170.5\" y=\"116\"/><text fill=\"#000000\" font-family=\"sans-serif\" font-size=\"12\" font-style=\"italic\" lengthAdjust=\"spacingAndGlyphs\" textLength=\"69\" x=\"171.5\" y=\"132.1387\">«attribute»</text><text fill=\"#000000\" font-family=\"sans-serif\" font-size=\"12\" lengthAdjust=\"spacingAndGlyphs\" textLength=\"11\" x=\"200.5\" y=\"146.1074\">m</text><line style=\"stroke: #383838; stroke-width: 1.5;\" x1=\"171.5\" x2=\"240.5\" y1=\"153.9375\" y2=\"153.9375\"/></a><g id=\"E1.E9\"><a href=\"psysml:12e8b862-a297-4118-9bc9-39ad14290527\" target=\"_top\" title=\"psysml:12e8b862-a297-4118-9bc9-39ad14290527\" xlink:actuate=\"onRequest\" xlink:href=\"psysml:12e8b862-a297-4118-9bc9-39ad14290527\" xlink:show=\"new\" xlink:title=\"psysml:12e8b862-a297-4118-9bc9-39ad14290527\" xlink:type=\"simple\"><rect fill=\"#FFFFFF\" height=\"40\" id=\"E9\" rx=\"10\" ry=\"10\" style=\"stroke: #383838; stroke-width: 1.5;\" width=\"68\" x=\"32\" y=\"119\"/><rect fill=\"#F8F8F8\" height=\"23.9688\" rx=\"10\" ry=\"10\" style=\"stroke: #F8F8F8; stroke-width: 1.5;\" width=\"68\" x=\"32\" y=\"119\"/><rect fill=\"#F8F8F8\" height=\"10\" style=\"stroke: #F8F8F8; stroke-width: 1.5;\" width=\"68\" x=\"32\" y=\"132.9688\"/><rect fill=\"none\" height=\"40\" id=\"E9\" rx=\"10\" ry=\"10\" style=\"stroke: #383838; stroke-width: 1.5;\" width=\"68\" x=\"32\" y=\"119\"/><text fill=\"#000000\" font-family=\"sans-serif\" font-size=\"12\" lengthAdjust=\"spacingAndGlyphs\" textLength=\"53\" x=\"37.5\" y=\"135.1387\">v2= W();</text></a></g><!--MD5=[a717450b82c80b9240a525fa862496af]\n",
       "link E6 to E3--><a href=\"psysml:03eebbd2-05f0-47bc-92f0-0649c0e2f845\" target=\"_top\" title=\"psysml:03eebbd2-05f0-47bc-92f0-0649c0e2f845\" xlink:actuate=\"onRequest\" xlink:href=\"psysml:03eebbd2-05f0-47bc-92f0-0649c0e2f845\" xlink:show=\"new\" xlink:title=\"psysml:03eebbd2-05f0-47bc-92f0-0649c0e2f845\" xlink:type=\"simple\"><path d=\"M344.95,162.18 C338.98,188.45 328.89,232.78 321.45,265.49 \" fill=\"none\" id=\"E6-&gt;E3\" style=\"stroke: #383838; stroke-width: 1.0;\"/><polygon fill=\"#FFFFFF\" points=\"317.01,285,314.4057,264.9197,328.0559,268.0298,317.01,285\" style=\"stroke: #383838; stroke-width: 1.0;\"/><line style=\"stroke: #383838; stroke-width: 2.0;\" x1=\"315.2498\" x2=\"328.9\" y1=\"261.2147\" y2=\"264.3247\"/></a><!--MD5=[583832df87f4419a098336a29a52fa00]\n",
       "link E7 to E2--><a href=\"psysml:80b8c15c-720d-43cf-a3f3-f1ac8ca72d6e\" target=\"_top\" title=\"psysml:80b8c15c-720d-43cf-a3f3-f1ac8ca72d6e\" xlink:actuate=\"onRequest\" xlink:href=\"psysml:80b8c15c-720d-43cf-a3f3-f1ac8ca72d6e\" xlink:show=\"new\" xlink:title=\"psysml:80b8c15c-720d-43cf-a3f3-f1ac8ca72d6e\" xlink:type=\"simple\"><path d=\"M135,186.7597 C135,189.0567 135,191.4 135,193.7804 C135,203.3019 135,213.4163 135,223.53 C135,224.1621 135,224.7942 135,225.4262 C135,225.5842 135,225.7421 135,225.9001 \" fill=\"none\" id=\"E7-&gt;E2\" style=\"stroke: #383838; stroke-width: 1.0;\"/><polygon fill=\"#FFFFFF\" points=\"135,225.9001,142,206.9001,128,206.9001,135,225.9001\" style=\"stroke: #383838; stroke-width: 1.0;\"/></a><!--MD5=[95fa686b5a16158bcdbcaeead89f639b]\n",
       "link E8 to E3--><a href=\"psysml:5971ddfa-8dbb-4825-a025-1d0848bb696d\" target=\"_top\" title=\"psysml:5971ddfa-8dbb-4825-a025-1d0848bb696d\" xlink:actuate=\"onRequest\" xlink:href=\"psysml:5971ddfa-8dbb-4825-a025-1d0848bb696d\" xlink:show=\"new\" xlink:title=\"psysml:5971ddfa-8dbb-4825-a025-1d0848bb696d\" xlink:type=\"simple\"><path d=\"M222.77,162.15 C238.3,182.66 259,210 259,210 C259,210 275.57,240.32 290.17,267.05 \" fill=\"none\" id=\"E8-&gt;E3\" style=\"stroke: #383838; stroke-width: 1.0;\"/><polygon fill=\"#FFFFFF\" points=\"299.97,284.99,284.7212,271.668,297.0091,264.9592,299.97,284.99\" style=\"stroke: #383838; stroke-width: 1.0;\"/><line style=\"stroke: #383838; stroke-width: 2.0;\" x1=\"282.9003\" x2=\"295.1881\" y1=\"268.3328\" y2=\"261.6239\"/></a><!--MD5=[c9f3d05cdedd4d1f170ea3d95e405ea7]\n",
       "@startuml\r\n",
       "skinparam ranksep 10\r\n",
       "skinparam rectangle {\r\n",
       " backgroundColor<<block>> LightGreen\r\n",
       "}\r\n",
       "skinparam linetype polyline\r\n",
       "skinparam monochrome true\r\n",
       "skinparam classbackgroundcolor white\r\n",
       "skinparam shadowing false\r\n",
       "skinparam wrapWidth 300\r\n",
       "hide circle\r\n",
       "\r\n",
       "package \"DefaultValueTest\" as E1  [[psysml:e269850e-1dc2-4cd5-af8e-eb4ea9f30c1b ]]  {\r\n",
       "rec def \"V\" as E2  <<(T,blue) part def>> [[psysml:e7bf9c65-3f81-4ba3-bb8e-9b75385edfca ]] {\r\n",
       "comp usage \"m\" as E3  <<(T,blue) attribute>> [[psysml:a2ea0978-930d-4f5d-93d2-d64a4094d2a2 ]] {\r\n",
       "}\r\n",
       "comp usage \"n\" as E4  <<(T,blue) attribute>> [[psysml:d2e7553d-8e48-4fb7-896c-b23e6ced71f4 ]] {\r\n",
       "}\r\n",
       "}\r\n",
       "rec usage \"v1: V\" as E5  [[psysml:f1f60863-7632-47b0-830a-21cb33ae86b3 ]] {\r\n",
       "comp usage \"m\" as E6  <<(T,blue) attribute>> [[psysml:851c4b2c-147d-4a79-885c-670825576d73 ]] {\r\n",
       "}\r\n",
       "}\r\n",
       "rec def \"W\" as E7  <<(T,blue) part def>> [[psysml:92194191-781a-4f9d-991e-568f466dae89 ]] {\r\n",
       "comp usage \"m\" as E8  <<(T,blue) attribute>> [[psysml:82127d9e-4a29-4ac4-9705-0043f6777b4c ]] {\r\n",
       "}\r\n",
       "}\r\n",
       "rec usage \"v2= W(); \" as E9  [[psysml:12e8b862-a297-4118-9bc9-39ad14290527 ]] {\r\n",
       "}\r\n",
       "E6 - -||> E3 [[psysml:03eebbd2-05f0-47bc-92f0-0649c0e2f845 ]] \r\n",
       "E7 - -|> E2 [[psysml:80b8c15c-720d-43cf-a3f3-f1ac8ca72d6e ]] \r\n",
       "E8 - -||> E3 [[psysml:5971ddfa-8dbb-4825-a025-1d0848bb696d ]] \r\n",
       "}\r\n",
       "@enduml\r\n",
       "\n",
       "PlantUML version 1.2020.13(Sat Jun 13 12:26:38 UTC 2020)\n",
       "(EPL source distribution)\n",
       "Java Runtime: OpenJDK Runtime Environment\n",
       "JVM: OpenJDK 64-Bit Server VM\n",
       "Default Encoding: UTF-8\n",
       "Language: en\n",
       "Country: null\n",
       "--></g></svg>"
      ]
     },
     "execution_count": 12,
     "metadata": {},
     "output_type": "execute_result"
    }
   ],
   "source": [
    "%viz --style=\"POLYLINE\" --view=\"Interconnection\" \"DefaultValueTest\""
   ]
  },
  {
   "cell_type": "code",
   "execution_count": 13,
   "id": "374c2ad4",
   "metadata": {
    "execution": {
     "iopub.execute_input": "2021-08-04T06:28:42.083079Z",
     "iopub.status.busy": "2021-08-04T06:28:42.082827Z",
     "iopub.status.idle": "2021-08-04T06:28:42.086718Z",
     "shell.execute_reply": "2021-08-04T06:28:42.086916Z"
    }
   },
   "outputs": [
    {
     "data": {
      "image/svg+xml": [
       "<?xml version=\"1.0\" encoding=\"UTF-8\" standalone=\"no\"?><svg xmlns=\"http://www.w3.org/2000/svg\" xmlns:xlink=\"http://www.w3.org/1999/xlink\" contentScriptType=\"application/ecmascript\" contentStyleType=\"text/css\" height=\"12px\" preserveAspectRatio=\"none\" style=\"width:12px;height:12px;\" version=\"1.1\" viewBox=\"0 0 12 12\" width=\"12px\" zoomAndPan=\"magnify\"><defs/><g><!--MD5=[97bbf32f66ccd50cbc40d92ea8f5a65e]\n",
       "@startuml\r\n",
       "skinparam ranksep 8\r\n",
       "skinparam linetype polyline\r\n",
       "skinparam monochrome true\r\n",
       "skinparam classbackgroundcolor white\r\n",
       "skinparam shadowing false\r\n",
       "skinparam wrapWidth 300\r\n",
       "hide circle\r\n",
       "\r\n",
       "@enduml\r\n",
       "\n",
       "PlantUML version 1.2020.13(Sat Jun 13 12:26:38 UTC 2020)\n",
       "(EPL source distribution)\n",
       "Java Runtime: OpenJDK Runtime Environment\n",
       "JVM: OpenJDK 64-Bit Server VM\n",
       "Default Encoding: UTF-8\n",
       "Language: en\n",
       "Country: null\n",
       "--></g></svg>"
      ]
     },
     "execution_count": 13,
     "metadata": {},
     "output_type": "execute_result"
    }
   ],
   "source": [
    "%viz --style=\"POLYLINE\" --view=\"Action\" \"DefaultValueTest\""
   ]
  },
  {
   "cell_type": "code",
   "execution_count": 14,
   "id": "35f70a57",
   "metadata": {
    "execution": {
     "iopub.execute_input": "2021-08-04T06:28:42.137745Z",
     "iopub.status.busy": "2021-08-04T06:28:42.137341Z",
     "iopub.status.idle": "2021-08-04T06:28:42.224651Z",
     "shell.execute_reply": "2021-08-04T06:28:42.223590Z"
    }
   },
   "outputs": [
    {
     "data": {
      "image/svg+xml": [
       "<?xml version=\"1.0\" encoding=\"UTF-8\" standalone=\"no\"?><svg xmlns=\"http://www.w3.org/2000/svg\" xmlns:xlink=\"http://www.w3.org/1999/xlink\" contentScriptType=\"application/ecmascript\" contentStyleType=\"text/css\" height=\"305px\" preserveAspectRatio=\"none\" style=\"width:349px;height:305px;\" version=\"1.1\" viewBox=\"0 0 349 305\" width=\"349px\" zoomAndPan=\"magnify\"><defs/><g><!--MD5=[fbc87193dbaf4d95561dea2c320d4a47]\n",
       "cluster E1--><a href=\"psysml:e269850e-1dc2-4cd5-af8e-eb4ea9f30c1b\" target=\"_top\" title=\"psysml:e269850e-1dc2-4cd5-af8e-eb4ea9f30c1b\" xlink:actuate=\"onRequest\" xlink:href=\"psysml:e269850e-1dc2-4cd5-af8e-eb4ea9f30c1b\" xlink:show=\"new\" xlink:title=\"psysml:e269850e-1dc2-4cd5-af8e-eb4ea9f30c1b\" xlink:type=\"simple\"><polygon fill=\"#FFFFFF\" points=\"16,6,157,6,164,28.2969,327,28.2969,327,293,16,293,16,6\" style=\"stroke: #000000; stroke-width: 1.5;\"/><line style=\"stroke: #000000; stroke-width: 1.5;\" x1=\"16\" x2=\"164\" y1=\"28.2969\" y2=\"28.2969\"/><text fill=\"#000000\" font-family=\"sans-serif\" font-size=\"14\" font-weight=\"bold\" lengthAdjust=\"spacingAndGlyphs\" textLength=\"135\" x=\"20\" y=\"20.9951\">DefaultValueTest</text></a><!--MD5=[b4997ac47864f28c2f74865a473b2911]\n",
       "class E2--><a href=\"psysml:e7bf9c65-3f81-4ba3-bb8e-9b75385edfca\" target=\"_top\" title=\"psysml:e7bf9c65-3f81-4ba3-bb8e-9b75385edfca\" xlink:actuate=\"onRequest\" xlink:href=\"psysml:e7bf9c65-3f81-4ba3-bb8e-9b75385edfca\" xlink:show=\"new\" xlink:title=\"psysml:e7bf9c65-3f81-4ba3-bb8e-9b75385edfca\" xlink:type=\"simple\"><rect fill=\"#FFFFFF\" height=\"88.3516\" id=\"E2\" style=\"stroke: #383838; stroke-width: 1.5;\" width=\"106\" x=\"156\" y=\"189\"/><text fill=\"#000000\" font-family=\"sans-serif\" font-size=\"12\" font-style=\"italic\" lengthAdjust=\"spacingAndGlyphs\" textLength=\"64\" x=\"177\" y=\"205.1387\">«part def»</text><text fill=\"#000000\" font-family=\"sans-serif\" font-size=\"12\" lengthAdjust=\"spacingAndGlyphs\" textLength=\"8\" x=\"205\" y=\"219.1074\">V</text><line style=\"stroke: #383838; stroke-width: 1.5;\" x1=\"157\" x2=\"261\" y1=\"226.9375\" y2=\"226.9375\"/><text fill=\"#000000\" font-family=\"sans-serif\" font-size=\"11\" lengthAdjust=\"spacingAndGlyphs\" textLength=\"94\" x=\"162\" y=\"257.9526\">m=default = 10;</text><text fill=\"#000000\" font-family=\"sans-serif\" font-size=\"11\" lengthAdjust=\"spacingAndGlyphs\" textLength=\"38\" x=\"162\" y=\"270.7573\">n= 20;</text><line style=\"stroke: #383838; stroke-width: 1.0;\" x1=\"157\" x2=\"181.5\" y1=\"241.3398\" y2=\"241.3398\"/><text fill=\"#000000\" font-family=\"sans-serif\" font-size=\"11\" lengthAdjust=\"spacingAndGlyphs\" textLength=\"55\" x=\"181.5\" y=\"244.6479\">attributes</text><line style=\"stroke: #383838; stroke-width: 1.0;\" x1=\"236.5\" x2=\"261\" y1=\"241.3398\" y2=\"241.3398\"/></a><!--MD5=[09b614a08d8cba4a07c9adeb5e0fee81]\n",
       "class E3--><a href=\"psysml:f1f60863-7632-47b0-830a-21cb33ae86b3\" target=\"_top\" title=\"psysml:f1f60863-7632-47b0-830a-21cb33ae86b3\" xlink:actuate=\"onRequest\" xlink:href=\"psysml:f1f60863-7632-47b0-830a-21cb33ae86b3\" xlink:show=\"new\" xlink:title=\"psysml:f1f60863-7632-47b0-830a-21cb33ae86b3\" xlink:type=\"simple\"><rect fill=\"#FFFFFF\" height=\"88.3516\" id=\"E3\" rx=\"10\" ry=\"10\" style=\"stroke: #383838; stroke-width: 1.5;\" width=\"63\" x=\"247.5\" y=\"41\"/><text fill=\"#000000\" font-family=\"sans-serif\" font-size=\"12\" font-style=\"italic\" lengthAdjust=\"spacingAndGlyphs\" textLength=\"40\" x=\"259\" y=\"57.1387\">«part»</text><text fill=\"#000000\" font-family=\"sans-serif\" font-size=\"12\" lengthAdjust=\"spacingAndGlyphs\" textLength=\"30\" x=\"264\" y=\"71.1074\">v1: V</text><line style=\"stroke: #383838; stroke-width: 1.5;\" x1=\"248.5\" x2=\"309.5\" y1=\"78.9375\" y2=\"78.9375\"/><text fill=\"#000000\" font-family=\"sans-serif\" font-size=\"11\" lengthAdjust=\"spacingAndGlyphs\" textLength=\"42\" x=\"253.5\" y=\"109.9526\">m= 20;</text><text fill=\"#000000\" font-family=\"sans-serif\" font-size=\"11\" font-style=\"italic\" lengthAdjust=\"spacingAndGlyphs\" textLength=\"48\" x=\"253.5\" y=\"122.7573\">:&gt;&gt;V::m</text><line style=\"stroke: #383838; stroke-width: 1.0;\" x1=\"248.5\" x2=\"251.5\" y1=\"93.3398\" y2=\"93.3398\"/><text fill=\"#000000\" font-family=\"sans-serif\" font-size=\"11\" lengthAdjust=\"spacingAndGlyphs\" textLength=\"55\" x=\"251.5\" y=\"96.6479\">attributes</text><line style=\"stroke: #383838; stroke-width: 1.0;\" x1=\"306.5\" x2=\"309.5\" y1=\"93.3398\" y2=\"93.3398\"/></a><!--MD5=[ebbe1d658d1005bcc118a6aa81145e00]\n",
       "class E4--><a href=\"psysml:92194191-781a-4f9d-991e-568f466dae89\" target=\"_top\" title=\"psysml:92194191-781a-4f9d-991e-568f466dae89\" xlink:actuate=\"onRequest\" xlink:href=\"psysml:92194191-781a-4f9d-991e-568f466dae89\" xlink:show=\"new\" xlink:title=\"psysml:92194191-781a-4f9d-991e-568f466dae89\" xlink:type=\"simple\"><rect fill=\"#FFFFFF\" height=\"88.3516\" id=\"E4\" style=\"stroke: #383838; stroke-width: 1.5;\" width=\"103\" x=\"109.5\" y=\"41\"/><text fill=\"#000000\" font-family=\"sans-serif\" font-size=\"12\" font-style=\"italic\" lengthAdjust=\"spacingAndGlyphs\" textLength=\"64\" x=\"129\" y=\"57.1387\">«part def»</text><text fill=\"#000000\" font-family=\"sans-serif\" font-size=\"12\" lengthAdjust=\"spacingAndGlyphs\" textLength=\"11\" x=\"155.5\" y=\"71.1074\">W</text><line style=\"stroke: #383838; stroke-width: 1.5;\" x1=\"110.5\" x2=\"211.5\" y1=\"78.9375\" y2=\"78.9375\"/><text fill=\"#000000\" font-family=\"sans-serif\" font-size=\"11\" lengthAdjust=\"spacingAndGlyphs\" textLength=\"87\" x=\"115.5\" y=\"109.9526\">m=default = n;</text><text fill=\"#000000\" font-family=\"sans-serif\" font-size=\"11\" font-style=\"italic\" lengthAdjust=\"spacingAndGlyphs\" textLength=\"48\" x=\"115.5\" y=\"122.7573\">:&gt;&gt;V::m</text><line style=\"stroke: #383838; stroke-width: 1.0;\" x1=\"110.5\" x2=\"133.5\" y1=\"93.3398\" y2=\"93.3398\"/><text fill=\"#000000\" font-family=\"sans-serif\" font-size=\"11\" lengthAdjust=\"spacingAndGlyphs\" textLength=\"55\" x=\"133.5\" y=\"96.6479\">attributes</text><line style=\"stroke: #383838; stroke-width: 1.0;\" x1=\"188.5\" x2=\"211.5\" y1=\"93.3398\" y2=\"93.3398\"/></a><!--MD5=[270fce915f116d4de14055a7c1d9a0f3]\n",
       "class E5--><a href=\"psysml:12e8b862-a297-4118-9bc9-39ad14290527\" target=\"_top\" title=\"psysml:12e8b862-a297-4118-9bc9-39ad14290527\" xlink:actuate=\"onRequest\" xlink:href=\"psysml:12e8b862-a297-4118-9bc9-39ad14290527\" xlink:show=\"new\" xlink:title=\"psysml:12e8b862-a297-4118-9bc9-39ad14290527\" xlink:type=\"simple\"><rect fill=\"#FFFFFF\" height=\"45.9375\" id=\"E5\" rx=\"10\" ry=\"10\" style=\"stroke: #383838; stroke-width: 1.5;\" width=\"42\" x=\"32\" y=\"62\"/><text fill=\"#000000\" font-family=\"sans-serif\" font-size=\"12\" font-style=\"italic\" lengthAdjust=\"spacingAndGlyphs\" textLength=\"40\" x=\"33\" y=\"78.1387\">«part»</text><text fill=\"#000000\" font-family=\"sans-serif\" font-size=\"12\" lengthAdjust=\"spacingAndGlyphs\" textLength=\"14\" x=\"46\" y=\"92.1074\">v2</text><line style=\"stroke: #383838; stroke-width: 1.5;\" x1=\"33\" x2=\"73\" y1=\"99.9375\" y2=\"99.9375\"/></a><!--MD5=[05d275557350bfb9b23a4ef7222b4c39]\n",
       "link E3 to E2--><a href=\"psysml:a976bee6-0dca-4565-96d2-a44c4ac1d16a\" target=\"_top\" title=\"psysml:a976bee6-0dca-4565-96d2-a44c4ac1d16a\" xlink:actuate=\"onRequest\" xlink:href=\"psysml:a976bee6-0dca-4565-96d2-a44c4ac1d16a\" xlink:show=\"new\" xlink:title=\"psysml:a976bee6-0dca-4565-96d2-a44c4ac1d16a\" xlink:type=\"simple\"><path d=\"M258.38,129.02 C252.17,141.97 245.22,156.45 238.55,170.36 \" fill=\"none\" id=\"E3-&gt;E2\" style=\"stroke: #383838; stroke-width: 1.0;\"/><polygon fill=\"#FFFFFF\" points=\"229.72,188.79,231.6151,168.6304,244.2413,174.6786,229.72,188.79\" style=\"stroke: #383838; stroke-width: 1.0;\"/><ellipse cx=\"235.8813\" cy=\"164.3538\" fill=\"#383838\" rx=\"2\" ry=\"2\" style=\"stroke: #383838; stroke-width: 1.0;\"/><ellipse cx=\"244.9\" cy=\"168.6739\" fill=\"#383838\" rx=\"2\" ry=\"2\" style=\"stroke: #383838; stroke-width: 1.0;\"/></a><!--MD5=[185131fc0dcab0a4505a2ebe144e961b]\n",
       "link E4 to E2--><a href=\"psysml:80b8c15c-720d-43cf-a3f3-f1ac8ca72d6e\" target=\"_top\" title=\"psysml:80b8c15c-720d-43cf-a3f3-f1ac8ca72d6e\" xlink:actuate=\"onRequest\" xlink:href=\"psysml:80b8c15c-720d-43cf-a3f3-f1ac8ca72d6e\" xlink:show=\"new\" xlink:title=\"psysml:80b8c15c-720d-43cf-a3f3-f1ac8ca72d6e\" xlink:type=\"simple\"><path d=\"M175.14,129.02 C179.3,141.67 183.94,155.79 188.42,169.41 \" fill=\"none\" id=\"E4-&gt;E2\" style=\"stroke: #383838; stroke-width: 1.0;\"/><polygon fill=\"none\" points=\"195.2,167.6,194.79,188.79,181.9,171.97,195.2,167.6\" style=\"stroke: #383838; stroke-width: 1.0;\"/></a><!--MD5=[478f6b52e689a54999f1cd485abbfb07]\n",
       "@startuml\r\n",
       "skinparam linetype polyline\r\n",
       "skinparam monochrome true\r\n",
       "skinparam classbackgroundcolor white\r\n",
       "skinparam shadowing false\r\n",
       "skinparam wrapWidth 300\r\n",
       "hide circle\r\n",
       "\r\n",
       "package \"DefaultValueTest\" as E1  [[psysml:e269850e-1dc2-4cd5-af8e-eb4ea9f30c1b ]]  {\r\n",
       "comp def \"V\" as E2  <<(T,blue) part def>> [[psysml:e7bf9c65-3f81-4ba3-bb8e-9b75385edfca ]] {\r\n",
       "- - attributes - -\r\n",
       "m=default = 10; \r\n",
       "n= 20; \r\n",
       "}\r\n",
       "comp usage \"v1: V\" as E3  <<(T,blue) part>> [[psysml:f1f60863-7632-47b0-830a-21cb33ae86b3 ]] {\r\n",
       "- - attributes - -\r\n",
       "m= 20; \\n//:>>V::m// \r\n",
       "}\r\n",
       "comp def \"W\" as E4  <<(T,blue) part def>> [[psysml:92194191-781a-4f9d-991e-568f466dae89 ]] {\r\n",
       "- - attributes - -\r\n",
       "m=default = n; \\n//:>>V::m// \r\n",
       "}\r\n",
       "comp usage \"v2\" as E5  <<(T,blue) part>> [[psysml:12e8b862-a297-4118-9bc9-39ad14290527 ]] {\r\n",
       "}\r\n",
       "E3 - -:|> E2 [[psysml:a976bee6-0dca-4565-96d2-a44c4ac1d16a ]] \r\n",
       "E4 - -|> E2 [[psysml:80b8c15c-720d-43cf-a3f3-f1ac8ca72d6e ]] \r\n",
       "}\r\n",
       "@enduml\r\n",
       "\n",
       "PlantUML version 1.2020.13(Sat Jun 13 12:26:38 UTC 2020)\n",
       "(EPL source distribution)\n",
       "Java Runtime: OpenJDK Runtime Environment\n",
       "JVM: OpenJDK 64-Bit Server VM\n",
       "Default Encoding: UTF-8\n",
       "Language: en\n",
       "Country: null\n",
       "--></g></svg>"
      ]
     },
     "execution_count": 14,
     "metadata": {},
     "output_type": "execute_result"
    }
   ],
   "source": [
    "%viz --style=\"POLYLINE\" --view=\"Sequence\" \"DefaultValueTest\""
   ]
  },
  {
   "cell_type": "code",
   "execution_count": 15,
   "id": "9a56a3c1",
   "metadata": {
    "execution": {
     "iopub.execute_input": "2021-08-04T06:28:42.274390Z",
     "iopub.status.busy": "2021-08-04T06:28:42.274061Z",
     "iopub.status.idle": "2021-08-04T06:28:42.342510Z",
     "shell.execute_reply": "2021-08-04T06:28:42.341223Z"
    }
   },
   "outputs": [
    {
     "data": {
      "image/svg+xml": [
       "<?xml version=\"1.0\" encoding=\"UTF-8\" standalone=\"no\"?><svg xmlns=\"http://www.w3.org/2000/svg\" xmlns:xlink=\"http://www.w3.org/1999/xlink\" contentScriptType=\"application/ecmascript\" contentStyleType=\"text/css\" height=\"305px\" preserveAspectRatio=\"none\" style=\"width:349px;height:305px;\" version=\"1.1\" viewBox=\"0 0 349 305\" width=\"349px\" zoomAndPan=\"magnify\"><defs/><g><!--MD5=[fbc87193dbaf4d95561dea2c320d4a47]\n",
       "cluster E1--><a href=\"psysml:e269850e-1dc2-4cd5-af8e-eb4ea9f30c1b\" target=\"_top\" title=\"psysml:e269850e-1dc2-4cd5-af8e-eb4ea9f30c1b\" xlink:actuate=\"onRequest\" xlink:href=\"psysml:e269850e-1dc2-4cd5-af8e-eb4ea9f30c1b\" xlink:show=\"new\" xlink:title=\"psysml:e269850e-1dc2-4cd5-af8e-eb4ea9f30c1b\" xlink:type=\"simple\"><polygon fill=\"#FFFFFF\" points=\"16,6,157,6,164,28.2969,327,28.2969,327,293,16,293,16,6\" style=\"stroke: #000000; stroke-width: 1.5;\"/><line style=\"stroke: #000000; stroke-width: 1.5;\" x1=\"16\" x2=\"164\" y1=\"28.2969\" y2=\"28.2969\"/><text fill=\"#000000\" font-family=\"sans-serif\" font-size=\"14\" font-weight=\"bold\" lengthAdjust=\"spacingAndGlyphs\" textLength=\"135\" x=\"20\" y=\"20.9951\">DefaultValueTest</text></a><!--MD5=[b4997ac47864f28c2f74865a473b2911]\n",
       "class E2--><a href=\"psysml:e7bf9c65-3f81-4ba3-bb8e-9b75385edfca\" target=\"_top\" title=\"psysml:e7bf9c65-3f81-4ba3-bb8e-9b75385edfca\" xlink:actuate=\"onRequest\" xlink:href=\"psysml:e7bf9c65-3f81-4ba3-bb8e-9b75385edfca\" xlink:show=\"new\" xlink:title=\"psysml:e7bf9c65-3f81-4ba3-bb8e-9b75385edfca\" xlink:type=\"simple\"><rect fill=\"#FFFFFF\" height=\"88.3516\" id=\"E2\" style=\"stroke: #383838; stroke-width: 1.5;\" width=\"106\" x=\"156\" y=\"189\"/><text fill=\"#000000\" font-family=\"sans-serif\" font-size=\"12\" font-style=\"italic\" lengthAdjust=\"spacingAndGlyphs\" textLength=\"64\" x=\"177\" y=\"205.1387\">«part def»</text><text fill=\"#000000\" font-family=\"sans-serif\" font-size=\"12\" lengthAdjust=\"spacingAndGlyphs\" textLength=\"8\" x=\"205\" y=\"219.1074\">V</text><line style=\"stroke: #383838; stroke-width: 1.5;\" x1=\"157\" x2=\"261\" y1=\"226.9375\" y2=\"226.9375\"/><text fill=\"#000000\" font-family=\"sans-serif\" font-size=\"11\" lengthAdjust=\"spacingAndGlyphs\" textLength=\"94\" x=\"162\" y=\"257.9526\">m=default = 10;</text><text fill=\"#000000\" font-family=\"sans-serif\" font-size=\"11\" lengthAdjust=\"spacingAndGlyphs\" textLength=\"38\" x=\"162\" y=\"270.7573\">n= 20;</text><line style=\"stroke: #383838; stroke-width: 1.0;\" x1=\"157\" x2=\"181.5\" y1=\"241.3398\" y2=\"241.3398\"/><text fill=\"#000000\" font-family=\"sans-serif\" font-size=\"11\" lengthAdjust=\"spacingAndGlyphs\" textLength=\"55\" x=\"181.5\" y=\"244.6479\">attributes</text><line style=\"stroke: #383838; stroke-width: 1.0;\" x1=\"236.5\" x2=\"261\" y1=\"241.3398\" y2=\"241.3398\"/></a><!--MD5=[09b614a08d8cba4a07c9adeb5e0fee81]\n",
       "class E3--><a href=\"psysml:f1f60863-7632-47b0-830a-21cb33ae86b3\" target=\"_top\" title=\"psysml:f1f60863-7632-47b0-830a-21cb33ae86b3\" xlink:actuate=\"onRequest\" xlink:href=\"psysml:f1f60863-7632-47b0-830a-21cb33ae86b3\" xlink:show=\"new\" xlink:title=\"psysml:f1f60863-7632-47b0-830a-21cb33ae86b3\" xlink:type=\"simple\"><rect fill=\"#FFFFFF\" height=\"88.3516\" id=\"E3\" rx=\"10\" ry=\"10\" style=\"stroke: #383838; stroke-width: 1.5;\" width=\"63\" x=\"247.5\" y=\"41\"/><text fill=\"#000000\" font-family=\"sans-serif\" font-size=\"12\" font-style=\"italic\" lengthAdjust=\"spacingAndGlyphs\" textLength=\"40\" x=\"259\" y=\"57.1387\">«part»</text><text fill=\"#000000\" font-family=\"sans-serif\" font-size=\"12\" lengthAdjust=\"spacingAndGlyphs\" textLength=\"30\" x=\"264\" y=\"71.1074\">v1: V</text><line style=\"stroke: #383838; stroke-width: 1.5;\" x1=\"248.5\" x2=\"309.5\" y1=\"78.9375\" y2=\"78.9375\"/><text fill=\"#000000\" font-family=\"sans-serif\" font-size=\"11\" lengthAdjust=\"spacingAndGlyphs\" textLength=\"42\" x=\"253.5\" y=\"109.9526\">m= 20;</text><text fill=\"#000000\" font-family=\"sans-serif\" font-size=\"11\" font-style=\"italic\" lengthAdjust=\"spacingAndGlyphs\" textLength=\"48\" x=\"253.5\" y=\"122.7573\">:&gt;&gt;V::m</text><line style=\"stroke: #383838; stroke-width: 1.0;\" x1=\"248.5\" x2=\"251.5\" y1=\"93.3398\" y2=\"93.3398\"/><text fill=\"#000000\" font-family=\"sans-serif\" font-size=\"11\" lengthAdjust=\"spacingAndGlyphs\" textLength=\"55\" x=\"251.5\" y=\"96.6479\">attributes</text><line style=\"stroke: #383838; stroke-width: 1.0;\" x1=\"306.5\" x2=\"309.5\" y1=\"93.3398\" y2=\"93.3398\"/></a><!--MD5=[ebbe1d658d1005bcc118a6aa81145e00]\n",
       "class E4--><a href=\"psysml:92194191-781a-4f9d-991e-568f466dae89\" target=\"_top\" title=\"psysml:92194191-781a-4f9d-991e-568f466dae89\" xlink:actuate=\"onRequest\" xlink:href=\"psysml:92194191-781a-4f9d-991e-568f466dae89\" xlink:show=\"new\" xlink:title=\"psysml:92194191-781a-4f9d-991e-568f466dae89\" xlink:type=\"simple\"><rect fill=\"#FFFFFF\" height=\"88.3516\" id=\"E4\" style=\"stroke: #383838; stroke-width: 1.5;\" width=\"103\" x=\"109.5\" y=\"41\"/><text fill=\"#000000\" font-family=\"sans-serif\" font-size=\"12\" font-style=\"italic\" lengthAdjust=\"spacingAndGlyphs\" textLength=\"64\" x=\"129\" y=\"57.1387\">«part def»</text><text fill=\"#000000\" font-family=\"sans-serif\" font-size=\"12\" lengthAdjust=\"spacingAndGlyphs\" textLength=\"11\" x=\"155.5\" y=\"71.1074\">W</text><line style=\"stroke: #383838; stroke-width: 1.5;\" x1=\"110.5\" x2=\"211.5\" y1=\"78.9375\" y2=\"78.9375\"/><text fill=\"#000000\" font-family=\"sans-serif\" font-size=\"11\" lengthAdjust=\"spacingAndGlyphs\" textLength=\"87\" x=\"115.5\" y=\"109.9526\">m=default = n;</text><text fill=\"#000000\" font-family=\"sans-serif\" font-size=\"11\" font-style=\"italic\" lengthAdjust=\"spacingAndGlyphs\" textLength=\"48\" x=\"115.5\" y=\"122.7573\">:&gt;&gt;V::m</text><line style=\"stroke: #383838; stroke-width: 1.0;\" x1=\"110.5\" x2=\"133.5\" y1=\"93.3398\" y2=\"93.3398\"/><text fill=\"#000000\" font-family=\"sans-serif\" font-size=\"11\" lengthAdjust=\"spacingAndGlyphs\" textLength=\"55\" x=\"133.5\" y=\"96.6479\">attributes</text><line style=\"stroke: #383838; stroke-width: 1.0;\" x1=\"188.5\" x2=\"211.5\" y1=\"93.3398\" y2=\"93.3398\"/></a><!--MD5=[270fce915f116d4de14055a7c1d9a0f3]\n",
       "class E5--><a href=\"psysml:12e8b862-a297-4118-9bc9-39ad14290527\" target=\"_top\" title=\"psysml:12e8b862-a297-4118-9bc9-39ad14290527\" xlink:actuate=\"onRequest\" xlink:href=\"psysml:12e8b862-a297-4118-9bc9-39ad14290527\" xlink:show=\"new\" xlink:title=\"psysml:12e8b862-a297-4118-9bc9-39ad14290527\" xlink:type=\"simple\"><rect fill=\"#FFFFFF\" height=\"45.9375\" id=\"E5\" rx=\"10\" ry=\"10\" style=\"stroke: #383838; stroke-width: 1.5;\" width=\"42\" x=\"32\" y=\"62\"/><text fill=\"#000000\" font-family=\"sans-serif\" font-size=\"12\" font-style=\"italic\" lengthAdjust=\"spacingAndGlyphs\" textLength=\"40\" x=\"33\" y=\"78.1387\">«part»</text><text fill=\"#000000\" font-family=\"sans-serif\" font-size=\"12\" lengthAdjust=\"spacingAndGlyphs\" textLength=\"14\" x=\"46\" y=\"92.1074\">v2</text><line style=\"stroke: #383838; stroke-width: 1.5;\" x1=\"33\" x2=\"73\" y1=\"99.9375\" y2=\"99.9375\"/></a><!--MD5=[05d275557350bfb9b23a4ef7222b4c39]\n",
       "link E3 to E2--><a href=\"psysml:a976bee6-0dca-4565-96d2-a44c4ac1d16a\" target=\"_top\" title=\"psysml:a976bee6-0dca-4565-96d2-a44c4ac1d16a\" xlink:actuate=\"onRequest\" xlink:href=\"psysml:a976bee6-0dca-4565-96d2-a44c4ac1d16a\" xlink:show=\"new\" xlink:title=\"psysml:a976bee6-0dca-4565-96d2-a44c4ac1d16a\" xlink:type=\"simple\"><path d=\"M258.38,129.02 C252.17,141.97 245.22,156.45 238.55,170.36 \" fill=\"none\" id=\"E3-&gt;E2\" style=\"stroke: #383838; stroke-width: 1.0;\"/><polygon fill=\"#FFFFFF\" points=\"229.72,188.79,231.6151,168.6304,244.2413,174.6786,229.72,188.79\" style=\"stroke: #383838; stroke-width: 1.0;\"/><ellipse cx=\"235.8813\" cy=\"164.3538\" fill=\"#383838\" rx=\"2\" ry=\"2\" style=\"stroke: #383838; stroke-width: 1.0;\"/><ellipse cx=\"244.9\" cy=\"168.6739\" fill=\"#383838\" rx=\"2\" ry=\"2\" style=\"stroke: #383838; stroke-width: 1.0;\"/></a><!--MD5=[185131fc0dcab0a4505a2ebe144e961b]\n",
       "link E4 to E2--><a href=\"psysml:80b8c15c-720d-43cf-a3f3-f1ac8ca72d6e\" target=\"_top\" title=\"psysml:80b8c15c-720d-43cf-a3f3-f1ac8ca72d6e\" xlink:actuate=\"onRequest\" xlink:href=\"psysml:80b8c15c-720d-43cf-a3f3-f1ac8ca72d6e\" xlink:show=\"new\" xlink:title=\"psysml:80b8c15c-720d-43cf-a3f3-f1ac8ca72d6e\" xlink:type=\"simple\"><path d=\"M175.14,129.02 C179.3,141.67 183.94,155.79 188.42,169.41 \" fill=\"none\" id=\"E4-&gt;E2\" style=\"stroke: #383838; stroke-width: 1.0;\"/><polygon fill=\"none\" points=\"195.2,167.6,194.79,188.79,181.9,171.97,195.2,167.6\" style=\"stroke: #383838; stroke-width: 1.0;\"/></a><!--MD5=[478f6b52e689a54999f1cd485abbfb07]\n",
       "@startuml\r\n",
       "skinparam linetype polyline\r\n",
       "skinparam monochrome true\r\n",
       "skinparam classbackgroundcolor white\r\n",
       "skinparam shadowing false\r\n",
       "skinparam wrapWidth 300\r\n",
       "hide circle\r\n",
       "\r\n",
       "package \"DefaultValueTest\" as E1  [[psysml:e269850e-1dc2-4cd5-af8e-eb4ea9f30c1b ]]  {\r\n",
       "comp def \"V\" as E2  <<(T,blue) part def>> [[psysml:e7bf9c65-3f81-4ba3-bb8e-9b75385edfca ]] {\r\n",
       "- - attributes - -\r\n",
       "m=default = 10; \r\n",
       "n= 20; \r\n",
       "}\r\n",
       "comp usage \"v1: V\" as E3  <<(T,blue) part>> [[psysml:f1f60863-7632-47b0-830a-21cb33ae86b3 ]] {\r\n",
       "- - attributes - -\r\n",
       "m= 20; \\n//:>>V::m// \r\n",
       "}\r\n",
       "comp def \"W\" as E4  <<(T,blue) part def>> [[psysml:92194191-781a-4f9d-991e-568f466dae89 ]] {\r\n",
       "- - attributes - -\r\n",
       "m=default = n; \\n//:>>V::m// \r\n",
       "}\r\n",
       "comp usage \"v2\" as E5  <<(T,blue) part>> [[psysml:12e8b862-a297-4118-9bc9-39ad14290527 ]] {\r\n",
       "}\r\n",
       "E3 - -:|> E2 [[psysml:a976bee6-0dca-4565-96d2-a44c4ac1d16a ]] \r\n",
       "E4 - -|> E2 [[psysml:80b8c15c-720d-43cf-a3f3-f1ac8ca72d6e ]] \r\n",
       "}\r\n",
       "@enduml\r\n",
       "\n",
       "PlantUML version 1.2020.13(Sat Jun 13 12:26:38 UTC 2020)\n",
       "(EPL source distribution)\n",
       "Java Runtime: OpenJDK Runtime Environment\n",
       "JVM: OpenJDK 64-Bit Server VM\n",
       "Default Encoding: UTF-8\n",
       "Language: en\n",
       "Country: null\n",
       "--></g></svg>"
      ]
     },
     "execution_count": 15,
     "metadata": {},
     "output_type": "execute_result"
    }
   ],
   "source": [
    "%viz --style=\"POLYLINE\" --view=\"MIXED\" \"DefaultValueTest\""
   ]
  },
  {
   "cell_type": "code",
   "execution_count": 16,
   "id": "e7377390",
   "metadata": {
    "execution": {
     "iopub.execute_input": "2021-08-04T06:28:42.392334Z",
     "iopub.status.busy": "2021-08-04T06:28:42.391907Z",
     "iopub.status.idle": "2021-08-04T06:28:42.465699Z",
     "shell.execute_reply": "2021-08-04T06:28:42.464521Z"
    }
   },
   "outputs": [
    {
     "data": {
      "image/svg+xml": [
       "<?xml version=\"1.0\" encoding=\"UTF-8\" standalone=\"no\"?><svg xmlns=\"http://www.w3.org/2000/svg\" xmlns:xlink=\"http://www.w3.org/1999/xlink\" contentScriptType=\"application/ecmascript\" contentStyleType=\"text/css\" height=\"361px\" preserveAspectRatio=\"none\" style=\"width:339px;height:361px;\" version=\"1.1\" viewBox=\"0 0 339 361\" width=\"339px\" zoomAndPan=\"magnify\"><defs/><g><!--MD5=[fbc87193dbaf4d95561dea2c320d4a47]\n",
       "cluster E1--><a href=\"psysml:e269850e-1dc2-4cd5-af8e-eb4ea9f30c1b\" target=\"_top\" title=\"psysml:e269850e-1dc2-4cd5-af8e-eb4ea9f30c1b\" xlink:actuate=\"onRequest\" xlink:href=\"psysml:e269850e-1dc2-4cd5-af8e-eb4ea9f30c1b\" xlink:show=\"new\" xlink:title=\"psysml:e269850e-1dc2-4cd5-af8e-eb4ea9f30c1b\" xlink:type=\"simple\"><polygon fill=\"#FFFFFF\" points=\"16,6,157,6,164,28.2969,317,28.2969,317,349,16,349,16,6\" style=\"stroke: #000000; stroke-width: 1.5;\"/><line style=\"stroke: #000000; stroke-width: 1.5;\" x1=\"16\" x2=\"164\" y1=\"28.2969\" y2=\"28.2969\"/><text fill=\"#000000\" font-family=\"sans-serif\" font-size=\"14\" font-weight=\"bold\" lengthAdjust=\"spacingAndGlyphs\" textLength=\"135\" x=\"20\" y=\"20.9951\">DefaultValueTest</text></a><!--MD5=[b4997ac47864f28c2f74865a473b2911]\n",
       "class E2--><a href=\"psysml:e7bf9c65-3f81-4ba3-bb8e-9b75385edfca\" target=\"_top\" title=\"psysml:e7bf9c65-3f81-4ba3-bb8e-9b75385edfca\" xlink:actuate=\"onRequest\" xlink:href=\"psysml:e7bf9c65-3f81-4ba3-bb8e-9b75385edfca\" xlink:show=\"new\" xlink:title=\"psysml:e7bf9c65-3f81-4ba3-bb8e-9b75385edfca\" xlink:type=\"simple\"><rect fill=\"#FFFFFF\" height=\"88.3516\" id=\"E2\" style=\"stroke: #383838; stroke-width: 1.5;\" width=\"106\" x=\"195\" y=\"103\"/><text fill=\"#000000\" font-family=\"sans-serif\" font-size=\"12\" font-style=\"italic\" lengthAdjust=\"spacingAndGlyphs\" textLength=\"64\" x=\"216\" y=\"119.1387\">«part def»</text><text fill=\"#000000\" font-family=\"sans-serif\" font-size=\"12\" lengthAdjust=\"spacingAndGlyphs\" textLength=\"8\" x=\"244\" y=\"133.1074\">V</text><line style=\"stroke: #383838; stroke-width: 1.5;\" x1=\"196\" x2=\"300\" y1=\"140.9375\" y2=\"140.9375\"/><text fill=\"#000000\" font-family=\"sans-serif\" font-size=\"11\" lengthAdjust=\"spacingAndGlyphs\" textLength=\"94\" x=\"201\" y=\"171.9526\">m=default = 10;</text><text fill=\"#000000\" font-family=\"sans-serif\" font-size=\"11\" lengthAdjust=\"spacingAndGlyphs\" textLength=\"38\" x=\"201\" y=\"184.7573\">n= 20;</text><line style=\"stroke: #383838; stroke-width: 1.0;\" x1=\"196\" x2=\"220.5\" y1=\"155.3398\" y2=\"155.3398\"/><text fill=\"#000000\" font-family=\"sans-serif\" font-size=\"11\" lengthAdjust=\"spacingAndGlyphs\" textLength=\"55\" x=\"220.5\" y=\"158.6479\">attributes</text><line style=\"stroke: #383838; stroke-width: 1.0;\" x1=\"275.5\" x2=\"300\" y1=\"155.3398\" y2=\"155.3398\"/></a><!--MD5=[09b614a08d8cba4a07c9adeb5e0fee81]\n",
       "class E3--><a href=\"psysml:f1f60863-7632-47b0-830a-21cb33ae86b3\" target=\"_top\" title=\"psysml:f1f60863-7632-47b0-830a-21cb33ae86b3\" xlink:actuate=\"onRequest\" xlink:href=\"psysml:f1f60863-7632-47b0-830a-21cb33ae86b3\" xlink:show=\"new\" xlink:title=\"psysml:f1f60863-7632-47b0-830a-21cb33ae86b3\" xlink:type=\"simple\"><rect fill=\"#FFFFFF\" height=\"88.3516\" id=\"E3\" rx=\"10\" ry=\"10\" style=\"stroke: #383838; stroke-width: 1.5;\" width=\"63\" x=\"52\" y=\"41\"/><text fill=\"#000000\" font-family=\"sans-serif\" font-size=\"12\" font-style=\"italic\" lengthAdjust=\"spacingAndGlyphs\" textLength=\"40\" x=\"63.5\" y=\"57.1387\">«part»</text><text fill=\"#000000\" font-family=\"sans-serif\" font-size=\"12\" lengthAdjust=\"spacingAndGlyphs\" textLength=\"30\" x=\"68.5\" y=\"71.1074\">v1: V</text><line style=\"stroke: #383838; stroke-width: 1.5;\" x1=\"53\" x2=\"114\" y1=\"78.9375\" y2=\"78.9375\"/><text fill=\"#000000\" font-family=\"sans-serif\" font-size=\"11\" lengthAdjust=\"spacingAndGlyphs\" textLength=\"42\" x=\"58\" y=\"109.9526\">m= 20;</text><text fill=\"#000000\" font-family=\"sans-serif\" font-size=\"11\" font-style=\"italic\" lengthAdjust=\"spacingAndGlyphs\" textLength=\"48\" x=\"58\" y=\"122.7573\">:&gt;&gt;V::m</text><line style=\"stroke: #383838; stroke-width: 1.0;\" x1=\"53\" x2=\"56\" y1=\"93.3398\" y2=\"93.3398\"/><text fill=\"#000000\" font-family=\"sans-serif\" font-size=\"11\" lengthAdjust=\"spacingAndGlyphs\" textLength=\"55\" x=\"56\" y=\"96.6479\">attributes</text><line style=\"stroke: #383838; stroke-width: 1.0;\" x1=\"111\" x2=\"114\" y1=\"93.3398\" y2=\"93.3398\"/></a><!--MD5=[ebbe1d658d1005bcc118a6aa81145e00]\n",
       "class E4--><a href=\"psysml:92194191-781a-4f9d-991e-568f466dae89\" target=\"_top\" title=\"psysml:92194191-781a-4f9d-991e-568f466dae89\" xlink:actuate=\"onRequest\" xlink:href=\"psysml:92194191-781a-4f9d-991e-568f466dae89\" xlink:show=\"new\" xlink:title=\"psysml:92194191-781a-4f9d-991e-568f466dae89\" xlink:type=\"simple\"><rect fill=\"#FFFFFF\" height=\"88.3516\" id=\"E4\" style=\"stroke: #383838; stroke-width: 1.5;\" width=\"103\" x=\"32\" y=\"164\"/><text fill=\"#000000\" font-family=\"sans-serif\" font-size=\"12\" font-style=\"italic\" lengthAdjust=\"spacingAndGlyphs\" textLength=\"64\" x=\"51.5\" y=\"180.1387\">«part def»</text><text fill=\"#000000\" font-family=\"sans-serif\" font-size=\"12\" lengthAdjust=\"spacingAndGlyphs\" textLength=\"11\" x=\"78\" y=\"194.1074\">W</text><line style=\"stroke: #383838; stroke-width: 1.5;\" x1=\"33\" x2=\"134\" y1=\"201.9375\" y2=\"201.9375\"/><text fill=\"#000000\" font-family=\"sans-serif\" font-size=\"11\" lengthAdjust=\"spacingAndGlyphs\" textLength=\"87\" x=\"38\" y=\"232.9526\">m=default = n;</text><text fill=\"#000000\" font-family=\"sans-serif\" font-size=\"11\" font-style=\"italic\" lengthAdjust=\"spacingAndGlyphs\" textLength=\"48\" x=\"38\" y=\"245.7573\">:&gt;&gt;V::m</text><line style=\"stroke: #383838; stroke-width: 1.0;\" x1=\"33\" x2=\"56\" y1=\"216.3398\" y2=\"216.3398\"/><text fill=\"#000000\" font-family=\"sans-serif\" font-size=\"11\" lengthAdjust=\"spacingAndGlyphs\" textLength=\"55\" x=\"56\" y=\"219.6479\">attributes</text><line style=\"stroke: #383838; stroke-width: 1.0;\" x1=\"111\" x2=\"134\" y1=\"216.3398\" y2=\"216.3398\"/></a><!--MD5=[270fce915f116d4de14055a7c1d9a0f3]\n",
       "class E5--><a href=\"psysml:12e8b862-a297-4118-9bc9-39ad14290527\" target=\"_top\" title=\"psysml:12e8b862-a297-4118-9bc9-39ad14290527\" xlink:actuate=\"onRequest\" xlink:href=\"psysml:12e8b862-a297-4118-9bc9-39ad14290527\" xlink:show=\"new\" xlink:title=\"psysml:12e8b862-a297-4118-9bc9-39ad14290527\" xlink:type=\"simple\"><rect fill=\"#FFFFFF\" height=\"45.9375\" id=\"E5\" rx=\"10\" ry=\"10\" style=\"stroke: #383838; stroke-width: 1.5;\" width=\"42\" x=\"62.5\" y=\"287\"/><text fill=\"#000000\" font-family=\"sans-serif\" font-size=\"12\" font-style=\"italic\" lengthAdjust=\"spacingAndGlyphs\" textLength=\"40\" x=\"63.5\" y=\"303.1387\">«part»</text><text fill=\"#000000\" font-family=\"sans-serif\" font-size=\"12\" lengthAdjust=\"spacingAndGlyphs\" textLength=\"14\" x=\"76.5\" y=\"317.1074\">v2</text><line style=\"stroke: #383838; stroke-width: 1.5;\" x1=\"63.5\" x2=\"103.5\" y1=\"324.9375\" y2=\"324.9375\"/></a><!--MD5=[05d275557350bfb9b23a4ef7222b4c39]\n",
       "link E3 to E2--><a href=\"psysml:a976bee6-0dca-4565-96d2-a44c4ac1d16a\" target=\"_top\" title=\"psysml:a976bee6-0dca-4565-96d2-a44c4ac1d16a\" xlink:actuate=\"onRequest\" xlink:href=\"psysml:a976bee6-0dca-4565-96d2-a44c4ac1d16a\" xlink:show=\"new\" xlink:title=\"psysml:a976bee6-0dca-4565-96d2-a44c4ac1d16a\" xlink:type=\"simple\"><path d=\"M115.07,96.66 C132.33,103.25 154.67,111.77 176.05,119.93 \" fill=\"none\" id=\"E3-&gt;E2\" style=\"stroke: #383838; stroke-width: 1.0;\"/><polygon fill=\"#FFFFFF\" points=\"194.84,127.1,174.5929,126.8678,179.583,113.7874,194.84,127.1\" style=\"stroke: #383838; stroke-width: 1.0;\"/><ellipse cx=\"169.9801\" cy=\"122.9675\" fill=\"#383838\" rx=\"2\" ry=\"2\" style=\"stroke: #383838; stroke-width: 1.0;\"/><ellipse cx=\"173.5446\" cy=\"113.6243\" fill=\"#383838\" rx=\"2\" ry=\"2\" style=\"stroke: #383838; stroke-width: 1.0;\"/></a><!--MD5=[185131fc0dcab0a4505a2ebe144e961b]\n",
       "link E4 to E2--><a href=\"psysml:80b8c15c-720d-43cf-a3f3-f1ac8ca72d6e\" target=\"_top\" title=\"psysml:80b8c15c-720d-43cf-a3f3-f1ac8ca72d6e\" xlink:actuate=\"onRequest\" xlink:href=\"psysml:80b8c15c-720d-43cf-a3f3-f1ac8ca72d6e\" xlink:show=\"new\" xlink:title=\"psysml:80b8c15c-720d-43cf-a3f3-f1ac8ca72d6e\" xlink:type=\"simple\"><path d=\"M135.03,189.03 C147.94,184.18 162.08,178.88 175.82,173.72 \" fill=\"none\" id=\"E4-&gt;E2\" style=\"stroke: #383838; stroke-width: 1.0;\"/><polygon fill=\"none\" points=\"173.64,167.06,194.82,166.59,178.56,180.17,173.64,167.06\" style=\"stroke: #383838; stroke-width: 1.0;\"/></a><!--MD5=[a93fd5d33e65ee9e1d5096266d2acbf6]\n",
       "@startuml\r\n",
       "left to right direction\r\n",
       "skinparam monochrome true\r\n",
       "skinparam classbackgroundcolor white\r\n",
       "skinparam shadowing false\r\n",
       "skinparam wrapWidth 300\r\n",
       "hide circle\r\n",
       "\r\n",
       "package \"DefaultValueTest\" as E1  [[psysml:e269850e-1dc2-4cd5-af8e-eb4ea9f30c1b ]]  {\r\n",
       "comp def \"V\" as E2  <<(T,blue) part def>> [[psysml:e7bf9c65-3f81-4ba3-bb8e-9b75385edfca ]] {\r\n",
       "- - attributes - -\r\n",
       "m=default = 10; \r\n",
       "n= 20; \r\n",
       "}\r\n",
       "comp usage \"v1: V\" as E3  <<(T,blue) part>> [[psysml:f1f60863-7632-47b0-830a-21cb33ae86b3 ]] {\r\n",
       "- - attributes - -\r\n",
       "m= 20; \\n//:>>V::m// \r\n",
       "}\r\n",
       "comp def \"W\" as E4  <<(T,blue) part def>> [[psysml:92194191-781a-4f9d-991e-568f466dae89 ]] {\r\n",
       "- - attributes - -\r\n",
       "m=default = n; \\n//:>>V::m// \r\n",
       "}\r\n",
       "comp usage \"v2\" as E5  <<(T,blue) part>> [[psysml:12e8b862-a297-4118-9bc9-39ad14290527 ]] {\r\n",
       "}\r\n",
       "E3 - -:|> E2 [[psysml:a976bee6-0dca-4565-96d2-a44c4ac1d16a ]] \r\n",
       "E4 - -|> E2 [[psysml:80b8c15c-720d-43cf-a3f3-f1ac8ca72d6e ]] \r\n",
       "}\r\n",
       "@enduml\r\n",
       "\n",
       "PlantUML version 1.2020.13(Sat Jun 13 12:26:38 UTC 2020)\n",
       "(EPL source distribution)\n",
       "Java Runtime: OpenJDK Runtime Environment\n",
       "JVM: OpenJDK 64-Bit Server VM\n",
       "Default Encoding: UTF-8\n",
       "Language: en\n",
       "Country: null\n",
       "--></g></svg>"
      ]
     },
     "execution_count": 16,
     "metadata": {},
     "output_type": "execute_result"
    }
   ],
   "source": [
    "%viz --style=\"LR\" --view=\"Default\" \"DefaultValueTest\""
   ]
  },
  {
   "cell_type": "code",
   "execution_count": 17,
   "id": "e1901362",
   "metadata": {
    "execution": {
     "iopub.execute_input": "2021-08-04T06:28:42.515245Z",
     "iopub.status.busy": "2021-08-04T06:28:42.514881Z",
     "iopub.status.idle": "2021-08-04T06:28:42.567003Z",
     "shell.execute_reply": "2021-08-04T06:28:42.566588Z"
    }
   },
   "outputs": [
    {
     "data": {
      "image/svg+xml": [
       "<?xml version=\"1.0\" encoding=\"UTF-8\" standalone=\"no\"?><svg xmlns=\"http://www.w3.org/2000/svg\" xmlns:xlink=\"http://www.w3.org/1999/xlink\" contentScriptType=\"application/ecmascript\" contentStyleType=\"text/css\" height=\"361px\" preserveAspectRatio=\"none\" style=\"width:339px;height:361px;\" version=\"1.1\" viewBox=\"0 0 339 361\" width=\"339px\" zoomAndPan=\"magnify\"><defs/><g><!--MD5=[fbc87193dbaf4d95561dea2c320d4a47]\n",
       "cluster E1--><a href=\"psysml:e269850e-1dc2-4cd5-af8e-eb4ea9f30c1b\" target=\"_top\" title=\"psysml:e269850e-1dc2-4cd5-af8e-eb4ea9f30c1b\" xlink:actuate=\"onRequest\" xlink:href=\"psysml:e269850e-1dc2-4cd5-af8e-eb4ea9f30c1b\" xlink:show=\"new\" xlink:title=\"psysml:e269850e-1dc2-4cd5-af8e-eb4ea9f30c1b\" xlink:type=\"simple\"><polygon fill=\"#FFFFFF\" points=\"16,6,157,6,164,28.2969,317,28.2969,317,349,16,349,16,6\" style=\"stroke: #000000; stroke-width: 1.5;\"/><line style=\"stroke: #000000; stroke-width: 1.5;\" x1=\"16\" x2=\"164\" y1=\"28.2969\" y2=\"28.2969\"/><text fill=\"#000000\" font-family=\"sans-serif\" font-size=\"14\" font-weight=\"bold\" lengthAdjust=\"spacingAndGlyphs\" textLength=\"135\" x=\"20\" y=\"20.9951\">DefaultValueTest</text></a><!--MD5=[b4997ac47864f28c2f74865a473b2911]\n",
       "class E2--><a href=\"psysml:e7bf9c65-3f81-4ba3-bb8e-9b75385edfca\" target=\"_top\" title=\"psysml:e7bf9c65-3f81-4ba3-bb8e-9b75385edfca\" xlink:actuate=\"onRequest\" xlink:href=\"psysml:e7bf9c65-3f81-4ba3-bb8e-9b75385edfca\" xlink:show=\"new\" xlink:title=\"psysml:e7bf9c65-3f81-4ba3-bb8e-9b75385edfca\" xlink:type=\"simple\"><rect fill=\"#FFFFFF\" height=\"88.3516\" id=\"E2\" style=\"stroke: #383838; stroke-width: 1.5;\" width=\"106\" x=\"195\" y=\"103\"/><text fill=\"#000000\" font-family=\"sans-serif\" font-size=\"12\" font-style=\"italic\" lengthAdjust=\"spacingAndGlyphs\" textLength=\"64\" x=\"216\" y=\"119.1387\">«part def»</text><text fill=\"#000000\" font-family=\"sans-serif\" font-size=\"12\" lengthAdjust=\"spacingAndGlyphs\" textLength=\"8\" x=\"244\" y=\"133.1074\">V</text><line style=\"stroke: #383838; stroke-width: 1.5;\" x1=\"196\" x2=\"300\" y1=\"140.9375\" y2=\"140.9375\"/><text fill=\"#000000\" font-family=\"sans-serif\" font-size=\"11\" lengthAdjust=\"spacingAndGlyphs\" textLength=\"94\" x=\"201\" y=\"171.9526\">m=default = 10;</text><text fill=\"#000000\" font-family=\"sans-serif\" font-size=\"11\" lengthAdjust=\"spacingAndGlyphs\" textLength=\"38\" x=\"201\" y=\"184.7573\">n= 20;</text><line style=\"stroke: #383838; stroke-width: 1.0;\" x1=\"196\" x2=\"220.5\" y1=\"155.3398\" y2=\"155.3398\"/><text fill=\"#000000\" font-family=\"sans-serif\" font-size=\"11\" lengthAdjust=\"spacingAndGlyphs\" textLength=\"55\" x=\"220.5\" y=\"158.6479\">attributes</text><line style=\"stroke: #383838; stroke-width: 1.0;\" x1=\"275.5\" x2=\"300\" y1=\"155.3398\" y2=\"155.3398\"/></a><!--MD5=[09b614a08d8cba4a07c9adeb5e0fee81]\n",
       "class E3--><a href=\"psysml:f1f60863-7632-47b0-830a-21cb33ae86b3\" target=\"_top\" title=\"psysml:f1f60863-7632-47b0-830a-21cb33ae86b3\" xlink:actuate=\"onRequest\" xlink:href=\"psysml:f1f60863-7632-47b0-830a-21cb33ae86b3\" xlink:show=\"new\" xlink:title=\"psysml:f1f60863-7632-47b0-830a-21cb33ae86b3\" xlink:type=\"simple\"><rect fill=\"#FFFFFF\" height=\"88.3516\" id=\"E3\" rx=\"10\" ry=\"10\" style=\"stroke: #383838; stroke-width: 1.5;\" width=\"63\" x=\"52\" y=\"41\"/><text fill=\"#000000\" font-family=\"sans-serif\" font-size=\"12\" font-style=\"italic\" lengthAdjust=\"spacingAndGlyphs\" textLength=\"40\" x=\"63.5\" y=\"57.1387\">«part»</text><text fill=\"#000000\" font-family=\"sans-serif\" font-size=\"12\" lengthAdjust=\"spacingAndGlyphs\" textLength=\"30\" x=\"68.5\" y=\"71.1074\">v1: V</text><line style=\"stroke: #383838; stroke-width: 1.5;\" x1=\"53\" x2=\"114\" y1=\"78.9375\" y2=\"78.9375\"/><text fill=\"#000000\" font-family=\"sans-serif\" font-size=\"11\" lengthAdjust=\"spacingAndGlyphs\" textLength=\"42\" x=\"58\" y=\"109.9526\">m= 20;</text><text fill=\"#000000\" font-family=\"sans-serif\" font-size=\"11\" font-style=\"italic\" lengthAdjust=\"spacingAndGlyphs\" textLength=\"48\" x=\"58\" y=\"122.7573\">:&gt;&gt;V::m</text><line style=\"stroke: #383838; stroke-width: 1.0;\" x1=\"53\" x2=\"56\" y1=\"93.3398\" y2=\"93.3398\"/><text fill=\"#000000\" font-family=\"sans-serif\" font-size=\"11\" lengthAdjust=\"spacingAndGlyphs\" textLength=\"55\" x=\"56\" y=\"96.6479\">attributes</text><line style=\"stroke: #383838; stroke-width: 1.0;\" x1=\"111\" x2=\"114\" y1=\"93.3398\" y2=\"93.3398\"/></a><!--MD5=[ebbe1d658d1005bcc118a6aa81145e00]\n",
       "class E4--><a href=\"psysml:92194191-781a-4f9d-991e-568f466dae89\" target=\"_top\" title=\"psysml:92194191-781a-4f9d-991e-568f466dae89\" xlink:actuate=\"onRequest\" xlink:href=\"psysml:92194191-781a-4f9d-991e-568f466dae89\" xlink:show=\"new\" xlink:title=\"psysml:92194191-781a-4f9d-991e-568f466dae89\" xlink:type=\"simple\"><rect fill=\"#FFFFFF\" height=\"88.3516\" id=\"E4\" style=\"stroke: #383838; stroke-width: 1.5;\" width=\"103\" x=\"32\" y=\"164\"/><text fill=\"#000000\" font-family=\"sans-serif\" font-size=\"12\" font-style=\"italic\" lengthAdjust=\"spacingAndGlyphs\" textLength=\"64\" x=\"51.5\" y=\"180.1387\">«part def»</text><text fill=\"#000000\" font-family=\"sans-serif\" font-size=\"12\" lengthAdjust=\"spacingAndGlyphs\" textLength=\"11\" x=\"78\" y=\"194.1074\">W</text><line style=\"stroke: #383838; stroke-width: 1.5;\" x1=\"33\" x2=\"134\" y1=\"201.9375\" y2=\"201.9375\"/><text fill=\"#000000\" font-family=\"sans-serif\" font-size=\"11\" lengthAdjust=\"spacingAndGlyphs\" textLength=\"87\" x=\"38\" y=\"232.9526\">m=default = n;</text><text fill=\"#000000\" font-family=\"sans-serif\" font-size=\"11\" font-style=\"italic\" lengthAdjust=\"spacingAndGlyphs\" textLength=\"48\" x=\"38\" y=\"245.7573\">:&gt;&gt;V::m</text><line style=\"stroke: #383838; stroke-width: 1.0;\" x1=\"33\" x2=\"56\" y1=\"216.3398\" y2=\"216.3398\"/><text fill=\"#000000\" font-family=\"sans-serif\" font-size=\"11\" lengthAdjust=\"spacingAndGlyphs\" textLength=\"55\" x=\"56\" y=\"219.6479\">attributes</text><line style=\"stroke: #383838; stroke-width: 1.0;\" x1=\"111\" x2=\"134\" y1=\"216.3398\" y2=\"216.3398\"/></a><!--MD5=[270fce915f116d4de14055a7c1d9a0f3]\n",
       "class E5--><a href=\"psysml:12e8b862-a297-4118-9bc9-39ad14290527\" target=\"_top\" title=\"psysml:12e8b862-a297-4118-9bc9-39ad14290527\" xlink:actuate=\"onRequest\" xlink:href=\"psysml:12e8b862-a297-4118-9bc9-39ad14290527\" xlink:show=\"new\" xlink:title=\"psysml:12e8b862-a297-4118-9bc9-39ad14290527\" xlink:type=\"simple\"><rect fill=\"#FFFFFF\" height=\"45.9375\" id=\"E5\" rx=\"10\" ry=\"10\" style=\"stroke: #383838; stroke-width: 1.5;\" width=\"42\" x=\"62.5\" y=\"287\"/><text fill=\"#000000\" font-family=\"sans-serif\" font-size=\"12\" font-style=\"italic\" lengthAdjust=\"spacingAndGlyphs\" textLength=\"40\" x=\"63.5\" y=\"303.1387\">«part»</text><text fill=\"#000000\" font-family=\"sans-serif\" font-size=\"12\" lengthAdjust=\"spacingAndGlyphs\" textLength=\"14\" x=\"76.5\" y=\"317.1074\">v2</text><line style=\"stroke: #383838; stroke-width: 1.5;\" x1=\"63.5\" x2=\"103.5\" y1=\"324.9375\" y2=\"324.9375\"/></a><!--MD5=[05d275557350bfb9b23a4ef7222b4c39]\n",
       "link E3 to E2--><a href=\"psysml:a976bee6-0dca-4565-96d2-a44c4ac1d16a\" target=\"_top\" title=\"psysml:a976bee6-0dca-4565-96d2-a44c4ac1d16a\" xlink:actuate=\"onRequest\" xlink:href=\"psysml:a976bee6-0dca-4565-96d2-a44c4ac1d16a\" xlink:show=\"new\" xlink:title=\"psysml:a976bee6-0dca-4565-96d2-a44c4ac1d16a\" xlink:type=\"simple\"><path d=\"M115.07,96.66 C132.33,103.25 154.67,111.77 176.05,119.93 \" fill=\"none\" id=\"E3-&gt;E2\" style=\"stroke: #383838; stroke-width: 1.0;\"/><polygon fill=\"#FFFFFF\" points=\"194.84,127.1,174.5929,126.8678,179.583,113.7874,194.84,127.1\" style=\"stroke: #383838; stroke-width: 1.0;\"/><ellipse cx=\"169.9801\" cy=\"122.9675\" fill=\"#383838\" rx=\"2\" ry=\"2\" style=\"stroke: #383838; stroke-width: 1.0;\"/><ellipse cx=\"173.5446\" cy=\"113.6243\" fill=\"#383838\" rx=\"2\" ry=\"2\" style=\"stroke: #383838; stroke-width: 1.0;\"/></a><!--MD5=[185131fc0dcab0a4505a2ebe144e961b]\n",
       "link E4 to E2--><a href=\"psysml:80b8c15c-720d-43cf-a3f3-f1ac8ca72d6e\" target=\"_top\" title=\"psysml:80b8c15c-720d-43cf-a3f3-f1ac8ca72d6e\" xlink:actuate=\"onRequest\" xlink:href=\"psysml:80b8c15c-720d-43cf-a3f3-f1ac8ca72d6e\" xlink:show=\"new\" xlink:title=\"psysml:80b8c15c-720d-43cf-a3f3-f1ac8ca72d6e\" xlink:type=\"simple\"><path d=\"M135.03,189.03 C147.94,184.18 162.08,178.88 175.82,173.72 \" fill=\"none\" id=\"E4-&gt;E2\" style=\"stroke: #383838; stroke-width: 1.0;\"/><polygon fill=\"none\" points=\"173.64,167.06,194.82,166.59,178.56,180.17,173.64,167.06\" style=\"stroke: #383838; stroke-width: 1.0;\"/></a><!--MD5=[a93fd5d33e65ee9e1d5096266d2acbf6]\n",
       "@startuml\r\n",
       "left to right direction\r\n",
       "skinparam monochrome true\r\n",
       "skinparam classbackgroundcolor white\r\n",
       "skinparam shadowing false\r\n",
       "skinparam wrapWidth 300\r\n",
       "hide circle\r\n",
       "\r\n",
       "package \"DefaultValueTest\" as E1  [[psysml:e269850e-1dc2-4cd5-af8e-eb4ea9f30c1b ]]  {\r\n",
       "comp def \"V\" as E2  <<(T,blue) part def>> [[psysml:e7bf9c65-3f81-4ba3-bb8e-9b75385edfca ]] {\r\n",
       "- - attributes - -\r\n",
       "m=default = 10; \r\n",
       "n= 20; \r\n",
       "}\r\n",
       "comp usage \"v1: V\" as E3  <<(T,blue) part>> [[psysml:f1f60863-7632-47b0-830a-21cb33ae86b3 ]] {\r\n",
       "- - attributes - -\r\n",
       "m= 20; \\n//:>>V::m// \r\n",
       "}\r\n",
       "comp def \"W\" as E4  <<(T,blue) part def>> [[psysml:92194191-781a-4f9d-991e-568f466dae89 ]] {\r\n",
       "- - attributes - -\r\n",
       "m=default = n; \\n//:>>V::m// \r\n",
       "}\r\n",
       "comp usage \"v2\" as E5  <<(T,blue) part>> [[psysml:12e8b862-a297-4118-9bc9-39ad14290527 ]] {\r\n",
       "}\r\n",
       "E3 - -:|> E2 [[psysml:a976bee6-0dca-4565-96d2-a44c4ac1d16a ]] \r\n",
       "E4 - -|> E2 [[psysml:80b8c15c-720d-43cf-a3f3-f1ac8ca72d6e ]] \r\n",
       "}\r\n",
       "@enduml\r\n",
       "\n",
       "PlantUML version 1.2020.13(Sat Jun 13 12:26:38 UTC 2020)\n",
       "(EPL source distribution)\n",
       "Java Runtime: OpenJDK Runtime Environment\n",
       "JVM: OpenJDK 64-Bit Server VM\n",
       "Default Encoding: UTF-8\n",
       "Language: en\n",
       "Country: null\n",
       "--></g></svg>"
      ]
     },
     "execution_count": 17,
     "metadata": {},
     "output_type": "execute_result"
    }
   ],
   "source": [
    "%viz --style=\"LR\" --view=\"Tree\" \"DefaultValueTest\""
   ]
  },
  {
   "cell_type": "code",
   "execution_count": 18,
   "id": "4d00d50c",
   "metadata": {
    "execution": {
     "iopub.execute_input": "2021-08-04T06:28:42.616877Z",
     "iopub.status.busy": "2021-08-04T06:28:42.616376Z",
     "iopub.status.idle": "2021-08-04T06:28:42.620240Z",
     "shell.execute_reply": "2021-08-04T06:28:42.620602Z"
    }
   },
   "outputs": [
    {
     "data": {
      "image/svg+xml": [
       "<?xml version=\"1.0\" encoding=\"UTF-8\" standalone=\"no\"?><svg xmlns=\"http://www.w3.org/2000/svg\" xmlns:xlink=\"http://www.w3.org/1999/xlink\" contentScriptType=\"application/ecmascript\" contentStyleType=\"text/css\" height=\"12px\" preserveAspectRatio=\"none\" style=\"width:12px;height:12px;\" version=\"1.1\" viewBox=\"0 0 12 12\" width=\"12px\" zoomAndPan=\"magnify\"><defs/><g><!--MD5=[19d285c9d72a204eba4e2cd117d745e8]\n",
       "@startuml\r\n",
       "left to right direction\r\n",
       "skinparam monochrome true\r\n",
       "skinparam classbackgroundcolor white\r\n",
       "skinparam shadowing false\r\n",
       "skinparam wrapWidth 300\r\n",
       "hide circle\r\n",
       "\r\n",
       "@enduml\r\n",
       "\n",
       "PlantUML version 1.2020.13(Sat Jun 13 12:26:38 UTC 2020)\n",
       "(EPL source distribution)\n",
       "Java Runtime: OpenJDK Runtime Environment\n",
       "JVM: OpenJDK 64-Bit Server VM\n",
       "Default Encoding: UTF-8\n",
       "Language: en\n",
       "Country: null\n",
       "--></g></svg>"
      ]
     },
     "execution_count": 18,
     "metadata": {},
     "output_type": "execute_result"
    }
   ],
   "source": [
    "%viz --style=\"LR\" --view=\"State\" \"DefaultValueTest\""
   ]
  },
  {
   "cell_type": "code",
   "execution_count": 19,
   "id": "24084d5f",
   "metadata": {
    "execution": {
     "iopub.execute_input": "2021-08-04T06:28:42.670703Z",
     "iopub.status.busy": "2021-08-04T06:28:42.670243Z",
     "iopub.status.idle": "2021-08-04T06:28:42.710589Z",
     "shell.execute_reply": "2021-08-04T06:28:42.710324Z"
    }
   },
   "outputs": [
    {
     "data": {
      "image/svg+xml": [
       "<?xml version=\"1.0\" encoding=\"UTF-8\" standalone=\"no\"?><svg xmlns=\"http://www.w3.org/2000/svg\" xmlns:xlink=\"http://www.w3.org/1999/xlink\" contentScriptType=\"application/ecmascript\" contentStyleType=\"text/css\" height=\"421px\" preserveAspectRatio=\"none\" style=\"width:380px;height:421px;\" version=\"1.1\" viewBox=\"0 0 380 421\" width=\"380px\" zoomAndPan=\"magnify\"><defs/><g><!--MD5=[fbc87193dbaf4d95561dea2c320d4a47]\n",
       "cluster E1--><a href=\"psysml:e269850e-1dc2-4cd5-af8e-eb4ea9f30c1b\" target=\"_top\" title=\"psysml:e269850e-1dc2-4cd5-af8e-eb4ea9f30c1b\" xlink:actuate=\"onRequest\" xlink:href=\"psysml:e269850e-1dc2-4cd5-af8e-eb4ea9f30c1b\" xlink:show=\"new\" xlink:title=\"psysml:e269850e-1dc2-4cd5-af8e-eb4ea9f30c1b\" xlink:type=\"simple\"><polygon fill=\"#FFFFFF\" points=\"16,6,157,6,164,28.2969,358,28.2969,358,409,16,409,16,6\" style=\"stroke: #000000; stroke-width: 1.5;\"/><line style=\"stroke: #000000; stroke-width: 1.5;\" x1=\"16\" x2=\"164\" y1=\"28.2969\" y2=\"28.2969\"/><text fill=\"#000000\" font-family=\"sans-serif\" font-size=\"14\" font-weight=\"bold\" lengthAdjust=\"spacingAndGlyphs\" textLength=\"135\" x=\"20\" y=\"20.9951\">DefaultValueTest</text></a><!--MD5=[e4f7fae6ed58524ba242bb0b0d3be6b7]\n",
       "cluster E2--><a href=\"psysml:e7bf9c65-3f81-4ba3-bb8e-9b75385edfca\" target=\"_top\" title=\"psysml:e7bf9c65-3f81-4ba3-bb8e-9b75385edfca\" xlink:actuate=\"onRequest\" xlink:href=\"psysml:e7bf9c65-3f81-4ba3-bb8e-9b75385edfca\" xlink:show=\"new\" xlink:title=\"psysml:e7bf9c65-3f81-4ba3-bb8e-9b75385edfca\" xlink:type=\"simple\"><rect fill=\"#FFFFFF\" height=\"229\" id=\"E2\" style=\"stroke: #383838; stroke-width: 1.5;\" width=\"119\" x=\"207\" y=\"97\"/><rect fill=\"#F8F8F8\" height=\"37.9375\" style=\"stroke: #383838; stroke-width: 1.5;\" width=\"119\" x=\"207\" y=\"97\"/><text fill=\"#000000\" font-family=\"sans-serif\" font-size=\"12\" font-style=\"italic\" lengthAdjust=\"spacingAndGlyphs\" textLength=\"64\" x=\"234.5\" y=\"113.1387\">«part def»</text><text fill=\"#000000\" font-family=\"sans-serif\" font-size=\"12\" lengthAdjust=\"spacingAndGlyphs\" textLength=\"8\" x=\"262.5\" y=\"127.1074\">V</text></a><!--MD5=[de5ec2e2e8f62f467e546659f5068c88]\n",
       "cluster E5--><a href=\"psysml:f1f60863-7632-47b0-830a-21cb33ae86b3\" target=\"_top\" title=\"psysml:f1f60863-7632-47b0-830a-21cb33ae86b3\" xlink:actuate=\"onRequest\" xlink:href=\"psysml:f1f60863-7632-47b0-830a-21cb33ae86b3\" xlink:show=\"new\" xlink:title=\"psysml:f1f60863-7632-47b0-830a-21cb33ae86b3\" xlink:type=\"simple\"><rect fill=\"#FFFFFF\" height=\"97\" id=\"E5\" rx=\"10\" ry=\"10\" style=\"stroke: #383838; stroke-width: 1.5;\" width=\"103\" x=\"56\" y=\"49\"/><rect fill=\"#F8F8F8\" height=\"23.9688\" rx=\"10\" ry=\"10\" style=\"stroke: #F8F8F8; stroke-width: 1.5;\" width=\"103\" x=\"56\" y=\"49\"/><rect fill=\"#F8F8F8\" height=\"10\" style=\"stroke: #F8F8F8; stroke-width: 1.5;\" width=\"103\" x=\"56\" y=\"62.9688\"/><rect fill=\"none\" height=\"97\" id=\"E5\" rx=\"10\" ry=\"10\" style=\"stroke: #383838; stroke-width: 1.5;\" width=\"103\" x=\"56\" y=\"49\"/><text fill=\"#000000\" font-family=\"sans-serif\" font-size=\"12\" lengthAdjust=\"spacingAndGlyphs\" textLength=\"30\" x=\"92.5\" y=\"65.1387\">v1: V</text><line style=\"stroke: #383838; stroke-width: 1.0;\" x1=\"56\" x2=\"159\" y1=\"72.9688\" y2=\"72.9688\"/></a><!--MD5=[168fadf3d0c3fd93dd5d6da1b1d7ab76]\n",
       "cluster E7--><a href=\"psysml:92194191-781a-4f9d-991e-568f466dae89\" target=\"_top\" title=\"psysml:92194191-781a-4f9d-991e-568f466dae89\" xlink:actuate=\"onRequest\" xlink:href=\"psysml:92194191-781a-4f9d-991e-568f466dae89\" xlink:show=\"new\" xlink:title=\"psysml:92194191-781a-4f9d-991e-568f466dae89\" xlink:type=\"simple\"><rect fill=\"#FFFFFF\" height=\"148\" id=\"E7\" style=\"stroke: #383838; stroke-width: 1.5;\" width=\"119\" x=\"48\" y=\"178\"/><rect fill=\"#F8F8F8\" height=\"37.9375\" style=\"stroke: #383838; stroke-width: 1.5;\" width=\"119\" x=\"48\" y=\"178\"/><text fill=\"#000000\" font-family=\"sans-serif\" font-size=\"12\" font-style=\"italic\" lengthAdjust=\"spacingAndGlyphs\" textLength=\"64\" x=\"75.5\" y=\"194.1387\">«part def»</text><text fill=\"#000000\" font-family=\"sans-serif\" font-size=\"12\" lengthAdjust=\"spacingAndGlyphs\" textLength=\"11\" x=\"102\" y=\"208.1074\">W</text></a><!--MD5=[09b614a08d8cba4a07c9adeb5e0fee81]\n",
       "class E3--><a href=\"psysml:a2ea0978-930d-4f5d-93d2-d64a4094d2a2\" target=\"_top\" title=\"psysml:a2ea0978-930d-4f5d-93d2-d64a4094d2a2\" xlink:actuate=\"onRequest\" xlink:href=\"psysml:a2ea0978-930d-4f5d-93d2-d64a4094d2a2\" xlink:show=\"new\" xlink:title=\"psysml:a2ea0978-930d-4f5d-93d2-d64a4094d2a2\" xlink:type=\"simple\"><rect fill=\"#FFFFFF\" height=\"45.9375\" id=\"E3\" rx=\"10\" ry=\"10\" style=\"stroke: #383838; stroke-width: 1.5;\" width=\"71\" x=\"231\" y=\"156\"/><text fill=\"#000000\" font-family=\"sans-serif\" font-size=\"12\" font-style=\"italic\" lengthAdjust=\"spacingAndGlyphs\" textLength=\"69\" x=\"232\" y=\"172.1387\">«attribute»</text><text fill=\"#000000\" font-family=\"sans-serif\" font-size=\"12\" lengthAdjust=\"spacingAndGlyphs\" textLength=\"11\" x=\"261\" y=\"186.1074\">m</text><line style=\"stroke: #383838; stroke-width: 1.5;\" x1=\"232\" x2=\"301\" y1=\"193.9375\" y2=\"193.9375\"/></a><!--MD5=[ebbe1d658d1005bcc118a6aa81145e00]\n",
       "class E4--><a href=\"psysml:d2e7553d-8e48-4fb7-896c-b23e6ced71f4\" target=\"_top\" title=\"psysml:d2e7553d-8e48-4fb7-896c-b23e6ced71f4\" xlink:actuate=\"onRequest\" xlink:href=\"psysml:d2e7553d-8e48-4fb7-896c-b23e6ced71f4\" xlink:show=\"new\" xlink:title=\"psysml:d2e7553d-8e48-4fb7-896c-b23e6ced71f4\" xlink:type=\"simple\"><rect fill=\"#FFFFFF\" height=\"45.9375\" id=\"E4\" rx=\"10\" ry=\"10\" style=\"stroke: #383838; stroke-width: 1.5;\" width=\"71\" x=\"231\" y=\"237\"/><text fill=\"#000000\" font-family=\"sans-serif\" font-size=\"12\" font-style=\"italic\" lengthAdjust=\"spacingAndGlyphs\" textLength=\"69\" x=\"232\" y=\"253.1387\">«attribute»</text><text fill=\"#000000\" font-family=\"sans-serif\" font-size=\"12\" lengthAdjust=\"spacingAndGlyphs\" textLength=\"8\" x=\"262.5\" y=\"267.1074\">n</text><line style=\"stroke: #383838; stroke-width: 1.5;\" x1=\"232\" x2=\"301\" y1=\"274.9375\" y2=\"274.9375\"/></a><!--MD5=[60a26617385b1d2d0262a64233df1f8d]\n",
       "class E6--><a href=\"psysml:851c4b2c-147d-4a79-885c-670825576d73\" target=\"_top\" title=\"psysml:851c4b2c-147d-4a79-885c-670825576d73\" xlink:actuate=\"onRequest\" xlink:href=\"psysml:851c4b2c-147d-4a79-885c-670825576d73\" xlink:show=\"new\" xlink:title=\"psysml:851c4b2c-147d-4a79-885c-670825576d73\" xlink:type=\"simple\"><rect fill=\"#FFFFFF\" height=\"45.9375\" id=\"E6\" rx=\"10\" ry=\"10\" style=\"stroke: #383838; stroke-width: 1.5;\" width=\"71\" x=\"72\" y=\"84\"/><text fill=\"#000000\" font-family=\"sans-serif\" font-size=\"12\" font-style=\"italic\" lengthAdjust=\"spacingAndGlyphs\" textLength=\"69\" x=\"73\" y=\"100.1387\">«attribute»</text><text fill=\"#000000\" font-family=\"sans-serif\" font-size=\"12\" lengthAdjust=\"spacingAndGlyphs\" textLength=\"11\" x=\"102\" y=\"114.1074\">m</text><line style=\"stroke: #383838; stroke-width: 1.5;\" x1=\"73\" x2=\"142\" y1=\"121.9375\" y2=\"121.9375\"/></a><!--MD5=[b9389687b975829384b498ac4b7476b2]\n",
       "class E8--><a href=\"psysml:82127d9e-4a29-4ac4-9705-0043f6777b4c\" target=\"_top\" title=\"psysml:82127d9e-4a29-4ac4-9705-0043f6777b4c\" xlink:actuate=\"onRequest\" xlink:href=\"psysml:82127d9e-4a29-4ac4-9705-0043f6777b4c\" xlink:show=\"new\" xlink:title=\"psysml:82127d9e-4a29-4ac4-9705-0043f6777b4c\" xlink:type=\"simple\"><rect fill=\"#FFFFFF\" height=\"45.9375\" id=\"E8\" rx=\"10\" ry=\"10\" style=\"stroke: #383838; stroke-width: 1.5;\" width=\"71\" x=\"72\" y=\"237\"/><text fill=\"#000000\" font-family=\"sans-serif\" font-size=\"12\" font-style=\"italic\" lengthAdjust=\"spacingAndGlyphs\" textLength=\"69\" x=\"73\" y=\"253.1387\">«attribute»</text><text fill=\"#000000\" font-family=\"sans-serif\" font-size=\"12\" lengthAdjust=\"spacingAndGlyphs\" textLength=\"11\" x=\"102\" y=\"267.1074\">m</text><line style=\"stroke: #383838; stroke-width: 1.5;\" x1=\"73\" x2=\"142\" y1=\"274.9375\" y2=\"274.9375\"/></a><g id=\"E1.E9\"><a href=\"psysml:12e8b862-a297-4118-9bc9-39ad14290527\" target=\"_top\" title=\"psysml:12e8b862-a297-4118-9bc9-39ad14290527\" xlink:actuate=\"onRequest\" xlink:href=\"psysml:12e8b862-a297-4118-9bc9-39ad14290527\" xlink:show=\"new\" xlink:title=\"psysml:12e8b862-a297-4118-9bc9-39ad14290527\" xlink:type=\"simple\"><rect fill=\"#FFFFFF\" height=\"40\" id=\"E9\" rx=\"10\" ry=\"10\" style=\"stroke: #383838; stroke-width: 1.5;\" width=\"68\" x=\"73.5\" y=\"353\"/><rect fill=\"#F8F8F8\" height=\"23.9688\" rx=\"10\" ry=\"10\" style=\"stroke: #F8F8F8; stroke-width: 1.5;\" width=\"68\" x=\"73.5\" y=\"353\"/><rect fill=\"#F8F8F8\" height=\"10\" style=\"stroke: #F8F8F8; stroke-width: 1.5;\" width=\"68\" x=\"73.5\" y=\"366.9688\"/><rect fill=\"none\" height=\"40\" id=\"E9\" rx=\"10\" ry=\"10\" style=\"stroke: #383838; stroke-width: 1.5;\" width=\"68\" x=\"73.5\" y=\"353\"/><text fill=\"#000000\" font-family=\"sans-serif\" font-size=\"12\" lengthAdjust=\"spacingAndGlyphs\" textLength=\"53\" x=\"79\" y=\"369.1387\">v2= W();</text></a></g><!--MD5=[a717450b82c80b9240a525fa862496af]\n",
       "link E6 to E3--><a href=\"psysml:03eebbd2-05f0-47bc-92f0-0649c0e2f845\" target=\"_top\" title=\"psysml:03eebbd2-05f0-47bc-92f0-0649c0e2f845\" xlink:actuate=\"onRequest\" xlink:href=\"psysml:03eebbd2-05f0-47bc-92f0-0649c0e2f845\" xlink:show=\"new\" xlink:title=\"psysml:03eebbd2-05f0-47bc-92f0-0649c0e2f845\" xlink:type=\"simple\"><path d=\"M143.34,122.98 C163.67,132.3 189.72,144.25 212.54,154.71 \" fill=\"none\" id=\"E6-&gt;E3\" style=\"stroke: #383838; stroke-width: 1.0;\"/><polygon fill=\"#FFFFFF\" points=\"230.75,163.07,210.5612,161.517,216.3944,148.7901,230.75,163.07\" style=\"stroke: #383838; stroke-width: 1.0;\"/><line style=\"stroke: #383838; stroke-width: 2.0;\" x1=\"207.1067\" x2=\"212.9399\" y1=\"159.9337\" y2=\"147.2068\"/></a><!--MD5=[583832df87f4419a098336a29a52fa00]\n",
       "link E7 to E2--><a href=\"psysml:80b8c15c-720d-43cf-a3f3-f1ac8ca72d6e\" target=\"_top\" title=\"psysml:80b8c15c-720d-43cf-a3f3-f1ac8ca72d6e\" xlink:actuate=\"onRequest\" xlink:href=\"psysml:80b8c15c-720d-43cf-a3f3-f1ac8ca72d6e\" xlink:show=\"new\" xlink:title=\"psysml:80b8c15c-720d-43cf-a3f3-f1ac8ca72d6e\" xlink:type=\"simple\"><path d=\"M167.5956,318 C168.1735,318 168.7528,318 169.3335,318 C170.4949,318 171.6617,318 172.8329,318 C177.5177,318 182.272,318 187.0263,318 C191.7805,318 196.5346,318 201.2187,318 C202.3898,318 203.5565,318 204.7177,318 C205.2983,318 205.8776,318 206.4553,318 C206.5997,318 206.7441,318 206.8883,318 \" fill=\"none\" id=\"E7-&gt;E2\" style=\"stroke: #383838; stroke-width: 1.0;\"/><polygon fill=\"#FFFFFF\" points=\"206.8883,318,187.8883,311,187.8883,325,206.8883,318\" style=\"stroke: #383838; stroke-width: 1.0;\"/></a><!--MD5=[95fa686b5a16158bcdbcaeead89f639b]\n",
       "link E8 to E3--><a href=\"psysml:5971ddfa-8dbb-4825-a025-1d0848bb696d\" target=\"_top\" title=\"psysml:5971ddfa-8dbb-4825-a025-1d0848bb696d\" xlink:actuate=\"onRequest\" xlink:href=\"psysml:5971ddfa-8dbb-4825-a025-1d0848bb696d\" xlink:show=\"new\" xlink:title=\"psysml:5971ddfa-8dbb-4825-a025-1d0848bb696d\" xlink:type=\"simple\"><path d=\"M143.34,242.02 C163.77,231.48 189.98,217.96 212.88,206.15 \" fill=\"none\" id=\"E8-&gt;E3\" style=\"stroke: #383838; stroke-width: 1.0;\"/><polygon fill=\"#FFFFFF\" points=\"230.75,196.93,217.0761,211.864,210.6556,199.423,230.75,196.93\" style=\"stroke: #383838; stroke-width: 1.0;\"/><line style=\"stroke: #383838; stroke-width: 2.0;\" x1=\"213.6993\" x2=\"207.2788\" y1=\"213.6067\" y2=\"201.1658\"/></a><!--MD5=[4c6217dde278016e0ca707d6167555eb]\n",
       "@startuml\r\n",
       "skinparam ranksep 10\r\n",
       "skinparam rectangle {\r\n",
       " backgroundColor<<block>> LightGreen\r\n",
       "}\r\n",
       "left to right direction\r\n",
       "skinparam monochrome true\r\n",
       "skinparam classbackgroundcolor white\r\n",
       "skinparam shadowing false\r\n",
       "skinparam wrapWidth 300\r\n",
       "hide circle\r\n",
       "\r\n",
       "package \"DefaultValueTest\" as E1  [[psysml:e269850e-1dc2-4cd5-af8e-eb4ea9f30c1b ]]  {\r\n",
       "rec def \"V\" as E2  <<(T,blue) part def>> [[psysml:e7bf9c65-3f81-4ba3-bb8e-9b75385edfca ]] {\r\n",
       "comp usage \"m\" as E3  <<(T,blue) attribute>> [[psysml:a2ea0978-930d-4f5d-93d2-d64a4094d2a2 ]] {\r\n",
       "}\r\n",
       "comp usage \"n\" as E4  <<(T,blue) attribute>> [[psysml:d2e7553d-8e48-4fb7-896c-b23e6ced71f4 ]] {\r\n",
       "}\r\n",
       "}\r\n",
       "rec usage \"v1: V\" as E5  [[psysml:f1f60863-7632-47b0-830a-21cb33ae86b3 ]] {\r\n",
       "comp usage \"m\" as E6  <<(T,blue) attribute>> [[psysml:851c4b2c-147d-4a79-885c-670825576d73 ]] {\r\n",
       "}\r\n",
       "}\r\n",
       "rec def \"W\" as E7  <<(T,blue) part def>> [[psysml:92194191-781a-4f9d-991e-568f466dae89 ]] {\r\n",
       "comp usage \"m\" as E8  <<(T,blue) attribute>> [[psysml:82127d9e-4a29-4ac4-9705-0043f6777b4c ]] {\r\n",
       "}\r\n",
       "}\r\n",
       "rec usage \"v2= W(); \" as E9  [[psysml:12e8b862-a297-4118-9bc9-39ad14290527 ]] {\r\n",
       "}\r\n",
       "E6 - -||> E3 [[psysml:03eebbd2-05f0-47bc-92f0-0649c0e2f845 ]] \r\n",
       "E7 - -|> E2 [[psysml:80b8c15c-720d-43cf-a3f3-f1ac8ca72d6e ]] \r\n",
       "E8 - -||> E3 [[psysml:5971ddfa-8dbb-4825-a025-1d0848bb696d ]] \r\n",
       "}\r\n",
       "@enduml\r\n",
       "\n",
       "PlantUML version 1.2020.13(Sat Jun 13 12:26:38 UTC 2020)\n",
       "(EPL source distribution)\n",
       "Java Runtime: OpenJDK Runtime Environment\n",
       "JVM: OpenJDK 64-Bit Server VM\n",
       "Default Encoding: UTF-8\n",
       "Language: en\n",
       "Country: null\n",
       "--></g></svg>"
      ]
     },
     "execution_count": 19,
     "metadata": {},
     "output_type": "execute_result"
    }
   ],
   "source": [
    "%viz --style=\"LR\" --view=\"Interconnection\" \"DefaultValueTest\""
   ]
  },
  {
   "cell_type": "code",
   "execution_count": 20,
   "id": "01733143",
   "metadata": {
    "execution": {
     "iopub.execute_input": "2021-08-04T06:28:42.760181Z",
     "iopub.status.busy": "2021-08-04T06:28:42.759927Z",
     "iopub.status.idle": "2021-08-04T06:28:42.765494Z",
     "shell.execute_reply": "2021-08-04T06:28:42.765813Z"
    }
   },
   "outputs": [
    {
     "data": {
      "image/svg+xml": [
       "<?xml version=\"1.0\" encoding=\"UTF-8\" standalone=\"no\"?><svg xmlns=\"http://www.w3.org/2000/svg\" xmlns:xlink=\"http://www.w3.org/1999/xlink\" contentScriptType=\"application/ecmascript\" contentStyleType=\"text/css\" height=\"12px\" preserveAspectRatio=\"none\" style=\"width:12px;height:12px;\" version=\"1.1\" viewBox=\"0 0 12 12\" width=\"12px\" zoomAndPan=\"magnify\"><defs/><g><!--MD5=[7aeb398939421629f6affaa4a1a7b125]\n",
       "@startuml\r\n",
       "skinparam ranksep 8\r\n",
       "left to right direction\r\n",
       "skinparam monochrome true\r\n",
       "skinparam classbackgroundcolor white\r\n",
       "skinparam shadowing false\r\n",
       "skinparam wrapWidth 300\r\n",
       "hide circle\r\n",
       "\r\n",
       "@enduml\r\n",
       "\n",
       "PlantUML version 1.2020.13(Sat Jun 13 12:26:38 UTC 2020)\n",
       "(EPL source distribution)\n",
       "Java Runtime: OpenJDK Runtime Environment\n",
       "JVM: OpenJDK 64-Bit Server VM\n",
       "Default Encoding: UTF-8\n",
       "Language: en\n",
       "Country: null\n",
       "--></g></svg>"
      ]
     },
     "execution_count": 20,
     "metadata": {},
     "output_type": "execute_result"
    }
   ],
   "source": [
    "%viz --style=\"LR\" --view=\"Action\" \"DefaultValueTest\""
   ]
  },
  {
   "cell_type": "code",
   "execution_count": 21,
   "id": "12b849a0",
   "metadata": {
    "execution": {
     "iopub.execute_input": "2021-08-04T06:28:42.816053Z",
     "iopub.status.busy": "2021-08-04T06:28:42.815650Z",
     "iopub.status.idle": "2021-08-04T06:28:42.901488Z",
     "shell.execute_reply": "2021-08-04T06:28:42.900042Z"
    }
   },
   "outputs": [
    {
     "data": {
      "image/svg+xml": [
       "<?xml version=\"1.0\" encoding=\"UTF-8\" standalone=\"no\"?><svg xmlns=\"http://www.w3.org/2000/svg\" xmlns:xlink=\"http://www.w3.org/1999/xlink\" contentScriptType=\"application/ecmascript\" contentStyleType=\"text/css\" height=\"361px\" preserveAspectRatio=\"none\" style=\"width:339px;height:361px;\" version=\"1.1\" viewBox=\"0 0 339 361\" width=\"339px\" zoomAndPan=\"magnify\"><defs/><g><!--MD5=[fbc87193dbaf4d95561dea2c320d4a47]\n",
       "cluster E1--><a href=\"psysml:e269850e-1dc2-4cd5-af8e-eb4ea9f30c1b\" target=\"_top\" title=\"psysml:e269850e-1dc2-4cd5-af8e-eb4ea9f30c1b\" xlink:actuate=\"onRequest\" xlink:href=\"psysml:e269850e-1dc2-4cd5-af8e-eb4ea9f30c1b\" xlink:show=\"new\" xlink:title=\"psysml:e269850e-1dc2-4cd5-af8e-eb4ea9f30c1b\" xlink:type=\"simple\"><polygon fill=\"#FFFFFF\" points=\"16,6,157,6,164,28.2969,317,28.2969,317,349,16,349,16,6\" style=\"stroke: #000000; stroke-width: 1.5;\"/><line style=\"stroke: #000000; stroke-width: 1.5;\" x1=\"16\" x2=\"164\" y1=\"28.2969\" y2=\"28.2969\"/><text fill=\"#000000\" font-family=\"sans-serif\" font-size=\"14\" font-weight=\"bold\" lengthAdjust=\"spacingAndGlyphs\" textLength=\"135\" x=\"20\" y=\"20.9951\">DefaultValueTest</text></a><!--MD5=[b4997ac47864f28c2f74865a473b2911]\n",
       "class E2--><a href=\"psysml:e7bf9c65-3f81-4ba3-bb8e-9b75385edfca\" target=\"_top\" title=\"psysml:e7bf9c65-3f81-4ba3-bb8e-9b75385edfca\" xlink:actuate=\"onRequest\" xlink:href=\"psysml:e7bf9c65-3f81-4ba3-bb8e-9b75385edfca\" xlink:show=\"new\" xlink:title=\"psysml:e7bf9c65-3f81-4ba3-bb8e-9b75385edfca\" xlink:type=\"simple\"><rect fill=\"#FFFFFF\" height=\"88.3516\" id=\"E2\" style=\"stroke: #383838; stroke-width: 1.5;\" width=\"106\" x=\"195\" y=\"103\"/><text fill=\"#000000\" font-family=\"sans-serif\" font-size=\"12\" font-style=\"italic\" lengthAdjust=\"spacingAndGlyphs\" textLength=\"64\" x=\"216\" y=\"119.1387\">«part def»</text><text fill=\"#000000\" font-family=\"sans-serif\" font-size=\"12\" lengthAdjust=\"spacingAndGlyphs\" textLength=\"8\" x=\"244\" y=\"133.1074\">V</text><line style=\"stroke: #383838; stroke-width: 1.5;\" x1=\"196\" x2=\"300\" y1=\"140.9375\" y2=\"140.9375\"/><text fill=\"#000000\" font-family=\"sans-serif\" font-size=\"11\" lengthAdjust=\"spacingAndGlyphs\" textLength=\"94\" x=\"201\" y=\"171.9526\">m=default = 10;</text><text fill=\"#000000\" font-family=\"sans-serif\" font-size=\"11\" lengthAdjust=\"spacingAndGlyphs\" textLength=\"38\" x=\"201\" y=\"184.7573\">n= 20;</text><line style=\"stroke: #383838; stroke-width: 1.0;\" x1=\"196\" x2=\"220.5\" y1=\"155.3398\" y2=\"155.3398\"/><text fill=\"#000000\" font-family=\"sans-serif\" font-size=\"11\" lengthAdjust=\"spacingAndGlyphs\" textLength=\"55\" x=\"220.5\" y=\"158.6479\">attributes</text><line style=\"stroke: #383838; stroke-width: 1.0;\" x1=\"275.5\" x2=\"300\" y1=\"155.3398\" y2=\"155.3398\"/></a><!--MD5=[09b614a08d8cba4a07c9adeb5e0fee81]\n",
       "class E3--><a href=\"psysml:f1f60863-7632-47b0-830a-21cb33ae86b3\" target=\"_top\" title=\"psysml:f1f60863-7632-47b0-830a-21cb33ae86b3\" xlink:actuate=\"onRequest\" xlink:href=\"psysml:f1f60863-7632-47b0-830a-21cb33ae86b3\" xlink:show=\"new\" xlink:title=\"psysml:f1f60863-7632-47b0-830a-21cb33ae86b3\" xlink:type=\"simple\"><rect fill=\"#FFFFFF\" height=\"88.3516\" id=\"E3\" rx=\"10\" ry=\"10\" style=\"stroke: #383838; stroke-width: 1.5;\" width=\"63\" x=\"52\" y=\"41\"/><text fill=\"#000000\" font-family=\"sans-serif\" font-size=\"12\" font-style=\"italic\" lengthAdjust=\"spacingAndGlyphs\" textLength=\"40\" x=\"63.5\" y=\"57.1387\">«part»</text><text fill=\"#000000\" font-family=\"sans-serif\" font-size=\"12\" lengthAdjust=\"spacingAndGlyphs\" textLength=\"30\" x=\"68.5\" y=\"71.1074\">v1: V</text><line style=\"stroke: #383838; stroke-width: 1.5;\" x1=\"53\" x2=\"114\" y1=\"78.9375\" y2=\"78.9375\"/><text fill=\"#000000\" font-family=\"sans-serif\" font-size=\"11\" lengthAdjust=\"spacingAndGlyphs\" textLength=\"42\" x=\"58\" y=\"109.9526\">m= 20;</text><text fill=\"#000000\" font-family=\"sans-serif\" font-size=\"11\" font-style=\"italic\" lengthAdjust=\"spacingAndGlyphs\" textLength=\"48\" x=\"58\" y=\"122.7573\">:&gt;&gt;V::m</text><line style=\"stroke: #383838; stroke-width: 1.0;\" x1=\"53\" x2=\"56\" y1=\"93.3398\" y2=\"93.3398\"/><text fill=\"#000000\" font-family=\"sans-serif\" font-size=\"11\" lengthAdjust=\"spacingAndGlyphs\" textLength=\"55\" x=\"56\" y=\"96.6479\">attributes</text><line style=\"stroke: #383838; stroke-width: 1.0;\" x1=\"111\" x2=\"114\" y1=\"93.3398\" y2=\"93.3398\"/></a><!--MD5=[ebbe1d658d1005bcc118a6aa81145e00]\n",
       "class E4--><a href=\"psysml:92194191-781a-4f9d-991e-568f466dae89\" target=\"_top\" title=\"psysml:92194191-781a-4f9d-991e-568f466dae89\" xlink:actuate=\"onRequest\" xlink:href=\"psysml:92194191-781a-4f9d-991e-568f466dae89\" xlink:show=\"new\" xlink:title=\"psysml:92194191-781a-4f9d-991e-568f466dae89\" xlink:type=\"simple\"><rect fill=\"#FFFFFF\" height=\"88.3516\" id=\"E4\" style=\"stroke: #383838; stroke-width: 1.5;\" width=\"103\" x=\"32\" y=\"164\"/><text fill=\"#000000\" font-family=\"sans-serif\" font-size=\"12\" font-style=\"italic\" lengthAdjust=\"spacingAndGlyphs\" textLength=\"64\" x=\"51.5\" y=\"180.1387\">«part def»</text><text fill=\"#000000\" font-family=\"sans-serif\" font-size=\"12\" lengthAdjust=\"spacingAndGlyphs\" textLength=\"11\" x=\"78\" y=\"194.1074\">W</text><line style=\"stroke: #383838; stroke-width: 1.5;\" x1=\"33\" x2=\"134\" y1=\"201.9375\" y2=\"201.9375\"/><text fill=\"#000000\" font-family=\"sans-serif\" font-size=\"11\" lengthAdjust=\"spacingAndGlyphs\" textLength=\"87\" x=\"38\" y=\"232.9526\">m=default = n;</text><text fill=\"#000000\" font-family=\"sans-serif\" font-size=\"11\" font-style=\"italic\" lengthAdjust=\"spacingAndGlyphs\" textLength=\"48\" x=\"38\" y=\"245.7573\">:&gt;&gt;V::m</text><line style=\"stroke: #383838; stroke-width: 1.0;\" x1=\"33\" x2=\"56\" y1=\"216.3398\" y2=\"216.3398\"/><text fill=\"#000000\" font-family=\"sans-serif\" font-size=\"11\" lengthAdjust=\"spacingAndGlyphs\" textLength=\"55\" x=\"56\" y=\"219.6479\">attributes</text><line style=\"stroke: #383838; stroke-width: 1.0;\" x1=\"111\" x2=\"134\" y1=\"216.3398\" y2=\"216.3398\"/></a><!--MD5=[270fce915f116d4de14055a7c1d9a0f3]\n",
       "class E5--><a href=\"psysml:12e8b862-a297-4118-9bc9-39ad14290527\" target=\"_top\" title=\"psysml:12e8b862-a297-4118-9bc9-39ad14290527\" xlink:actuate=\"onRequest\" xlink:href=\"psysml:12e8b862-a297-4118-9bc9-39ad14290527\" xlink:show=\"new\" xlink:title=\"psysml:12e8b862-a297-4118-9bc9-39ad14290527\" xlink:type=\"simple\"><rect fill=\"#FFFFFF\" height=\"45.9375\" id=\"E5\" rx=\"10\" ry=\"10\" style=\"stroke: #383838; stroke-width: 1.5;\" width=\"42\" x=\"62.5\" y=\"287\"/><text fill=\"#000000\" font-family=\"sans-serif\" font-size=\"12\" font-style=\"italic\" lengthAdjust=\"spacingAndGlyphs\" textLength=\"40\" x=\"63.5\" y=\"303.1387\">«part»</text><text fill=\"#000000\" font-family=\"sans-serif\" font-size=\"12\" lengthAdjust=\"spacingAndGlyphs\" textLength=\"14\" x=\"76.5\" y=\"317.1074\">v2</text><line style=\"stroke: #383838; stroke-width: 1.5;\" x1=\"63.5\" x2=\"103.5\" y1=\"324.9375\" y2=\"324.9375\"/></a><!--MD5=[05d275557350bfb9b23a4ef7222b4c39]\n",
       "link E3 to E2--><a href=\"psysml:a976bee6-0dca-4565-96d2-a44c4ac1d16a\" target=\"_top\" title=\"psysml:a976bee6-0dca-4565-96d2-a44c4ac1d16a\" xlink:actuate=\"onRequest\" xlink:href=\"psysml:a976bee6-0dca-4565-96d2-a44c4ac1d16a\" xlink:show=\"new\" xlink:title=\"psysml:a976bee6-0dca-4565-96d2-a44c4ac1d16a\" xlink:type=\"simple\"><path d=\"M115.07,96.66 C132.33,103.25 154.67,111.77 176.05,119.93 \" fill=\"none\" id=\"E3-&gt;E2\" style=\"stroke: #383838; stroke-width: 1.0;\"/><polygon fill=\"#FFFFFF\" points=\"194.84,127.1,174.5929,126.8678,179.583,113.7874,194.84,127.1\" style=\"stroke: #383838; stroke-width: 1.0;\"/><ellipse cx=\"169.9801\" cy=\"122.9675\" fill=\"#383838\" rx=\"2\" ry=\"2\" style=\"stroke: #383838; stroke-width: 1.0;\"/><ellipse cx=\"173.5446\" cy=\"113.6243\" fill=\"#383838\" rx=\"2\" ry=\"2\" style=\"stroke: #383838; stroke-width: 1.0;\"/></a><!--MD5=[185131fc0dcab0a4505a2ebe144e961b]\n",
       "link E4 to E2--><a href=\"psysml:80b8c15c-720d-43cf-a3f3-f1ac8ca72d6e\" target=\"_top\" title=\"psysml:80b8c15c-720d-43cf-a3f3-f1ac8ca72d6e\" xlink:actuate=\"onRequest\" xlink:href=\"psysml:80b8c15c-720d-43cf-a3f3-f1ac8ca72d6e\" xlink:show=\"new\" xlink:title=\"psysml:80b8c15c-720d-43cf-a3f3-f1ac8ca72d6e\" xlink:type=\"simple\"><path d=\"M135.03,189.03 C147.94,184.18 162.08,178.88 175.82,173.72 \" fill=\"none\" id=\"E4-&gt;E2\" style=\"stroke: #383838; stroke-width: 1.0;\"/><polygon fill=\"none\" points=\"173.64,167.06,194.82,166.59,178.56,180.17,173.64,167.06\" style=\"stroke: #383838; stroke-width: 1.0;\"/></a><!--MD5=[a93fd5d33e65ee9e1d5096266d2acbf6]\n",
       "@startuml\r\n",
       "left to right direction\r\n",
       "skinparam monochrome true\r\n",
       "skinparam classbackgroundcolor white\r\n",
       "skinparam shadowing false\r\n",
       "skinparam wrapWidth 300\r\n",
       "hide circle\r\n",
       "\r\n",
       "package \"DefaultValueTest\" as E1  [[psysml:e269850e-1dc2-4cd5-af8e-eb4ea9f30c1b ]]  {\r\n",
       "comp def \"V\" as E2  <<(T,blue) part def>> [[psysml:e7bf9c65-3f81-4ba3-bb8e-9b75385edfca ]] {\r\n",
       "- - attributes - -\r\n",
       "m=default = 10; \r\n",
       "n= 20; \r\n",
       "}\r\n",
       "comp usage \"v1: V\" as E3  <<(T,blue) part>> [[psysml:f1f60863-7632-47b0-830a-21cb33ae86b3 ]] {\r\n",
       "- - attributes - -\r\n",
       "m= 20; \\n//:>>V::m// \r\n",
       "}\r\n",
       "comp def \"W\" as E4  <<(T,blue) part def>> [[psysml:92194191-781a-4f9d-991e-568f466dae89 ]] {\r\n",
       "- - attributes - -\r\n",
       "m=default = n; \\n//:>>V::m// \r\n",
       "}\r\n",
       "comp usage \"v2\" as E5  <<(T,blue) part>> [[psysml:12e8b862-a297-4118-9bc9-39ad14290527 ]] {\r\n",
       "}\r\n",
       "E3 - -:|> E2 [[psysml:a976bee6-0dca-4565-96d2-a44c4ac1d16a ]] \r\n",
       "E4 - -|> E2 [[psysml:80b8c15c-720d-43cf-a3f3-f1ac8ca72d6e ]] \r\n",
       "}\r\n",
       "@enduml\r\n",
       "\n",
       "PlantUML version 1.2020.13(Sat Jun 13 12:26:38 UTC 2020)\n",
       "(EPL source distribution)\n",
       "Java Runtime: OpenJDK Runtime Environment\n",
       "JVM: OpenJDK 64-Bit Server VM\n",
       "Default Encoding: UTF-8\n",
       "Language: en\n",
       "Country: null\n",
       "--></g></svg>"
      ]
     },
     "execution_count": 21,
     "metadata": {},
     "output_type": "execute_result"
    }
   ],
   "source": [
    "%viz --style=\"LR\" --view=\"Sequence\" \"DefaultValueTest\""
   ]
  },
  {
   "cell_type": "code",
   "execution_count": 22,
   "id": "5ac3fde9",
   "metadata": {
    "execution": {
     "iopub.execute_input": "2021-08-04T06:28:42.950805Z",
     "iopub.status.busy": "2021-08-04T06:28:42.950482Z",
     "iopub.status.idle": "2021-08-04T06:28:43.026058Z",
     "shell.execute_reply": "2021-08-04T06:28:43.025297Z"
    }
   },
   "outputs": [
    {
     "data": {
      "image/svg+xml": [
       "<?xml version=\"1.0\" encoding=\"UTF-8\" standalone=\"no\"?><svg xmlns=\"http://www.w3.org/2000/svg\" xmlns:xlink=\"http://www.w3.org/1999/xlink\" contentScriptType=\"application/ecmascript\" contentStyleType=\"text/css\" height=\"361px\" preserveAspectRatio=\"none\" style=\"width:339px;height:361px;\" version=\"1.1\" viewBox=\"0 0 339 361\" width=\"339px\" zoomAndPan=\"magnify\"><defs/><g><!--MD5=[fbc87193dbaf4d95561dea2c320d4a47]\n",
       "cluster E1--><a href=\"psysml:e269850e-1dc2-4cd5-af8e-eb4ea9f30c1b\" target=\"_top\" title=\"psysml:e269850e-1dc2-4cd5-af8e-eb4ea9f30c1b\" xlink:actuate=\"onRequest\" xlink:href=\"psysml:e269850e-1dc2-4cd5-af8e-eb4ea9f30c1b\" xlink:show=\"new\" xlink:title=\"psysml:e269850e-1dc2-4cd5-af8e-eb4ea9f30c1b\" xlink:type=\"simple\"><polygon fill=\"#FFFFFF\" points=\"16,6,157,6,164,28.2969,317,28.2969,317,349,16,349,16,6\" style=\"stroke: #000000; stroke-width: 1.5;\"/><line style=\"stroke: #000000; stroke-width: 1.5;\" x1=\"16\" x2=\"164\" y1=\"28.2969\" y2=\"28.2969\"/><text fill=\"#000000\" font-family=\"sans-serif\" font-size=\"14\" font-weight=\"bold\" lengthAdjust=\"spacingAndGlyphs\" textLength=\"135\" x=\"20\" y=\"20.9951\">DefaultValueTest</text></a><!--MD5=[b4997ac47864f28c2f74865a473b2911]\n",
       "class E2--><a href=\"psysml:e7bf9c65-3f81-4ba3-bb8e-9b75385edfca\" target=\"_top\" title=\"psysml:e7bf9c65-3f81-4ba3-bb8e-9b75385edfca\" xlink:actuate=\"onRequest\" xlink:href=\"psysml:e7bf9c65-3f81-4ba3-bb8e-9b75385edfca\" xlink:show=\"new\" xlink:title=\"psysml:e7bf9c65-3f81-4ba3-bb8e-9b75385edfca\" xlink:type=\"simple\"><rect fill=\"#FFFFFF\" height=\"88.3516\" id=\"E2\" style=\"stroke: #383838; stroke-width: 1.5;\" width=\"106\" x=\"195\" y=\"103\"/><text fill=\"#000000\" font-family=\"sans-serif\" font-size=\"12\" font-style=\"italic\" lengthAdjust=\"spacingAndGlyphs\" textLength=\"64\" x=\"216\" y=\"119.1387\">«part def»</text><text fill=\"#000000\" font-family=\"sans-serif\" font-size=\"12\" lengthAdjust=\"spacingAndGlyphs\" textLength=\"8\" x=\"244\" y=\"133.1074\">V</text><line style=\"stroke: #383838; stroke-width: 1.5;\" x1=\"196\" x2=\"300\" y1=\"140.9375\" y2=\"140.9375\"/><text fill=\"#000000\" font-family=\"sans-serif\" font-size=\"11\" lengthAdjust=\"spacingAndGlyphs\" textLength=\"94\" x=\"201\" y=\"171.9526\">m=default = 10;</text><text fill=\"#000000\" font-family=\"sans-serif\" font-size=\"11\" lengthAdjust=\"spacingAndGlyphs\" textLength=\"38\" x=\"201\" y=\"184.7573\">n= 20;</text><line style=\"stroke: #383838; stroke-width: 1.0;\" x1=\"196\" x2=\"220.5\" y1=\"155.3398\" y2=\"155.3398\"/><text fill=\"#000000\" font-family=\"sans-serif\" font-size=\"11\" lengthAdjust=\"spacingAndGlyphs\" textLength=\"55\" x=\"220.5\" y=\"158.6479\">attributes</text><line style=\"stroke: #383838; stroke-width: 1.0;\" x1=\"275.5\" x2=\"300\" y1=\"155.3398\" y2=\"155.3398\"/></a><!--MD5=[09b614a08d8cba4a07c9adeb5e0fee81]\n",
       "class E3--><a href=\"psysml:f1f60863-7632-47b0-830a-21cb33ae86b3\" target=\"_top\" title=\"psysml:f1f60863-7632-47b0-830a-21cb33ae86b3\" xlink:actuate=\"onRequest\" xlink:href=\"psysml:f1f60863-7632-47b0-830a-21cb33ae86b3\" xlink:show=\"new\" xlink:title=\"psysml:f1f60863-7632-47b0-830a-21cb33ae86b3\" xlink:type=\"simple\"><rect fill=\"#FFFFFF\" height=\"88.3516\" id=\"E3\" rx=\"10\" ry=\"10\" style=\"stroke: #383838; stroke-width: 1.5;\" width=\"63\" x=\"52\" y=\"41\"/><text fill=\"#000000\" font-family=\"sans-serif\" font-size=\"12\" font-style=\"italic\" lengthAdjust=\"spacingAndGlyphs\" textLength=\"40\" x=\"63.5\" y=\"57.1387\">«part»</text><text fill=\"#000000\" font-family=\"sans-serif\" font-size=\"12\" lengthAdjust=\"spacingAndGlyphs\" textLength=\"30\" x=\"68.5\" y=\"71.1074\">v1: V</text><line style=\"stroke: #383838; stroke-width: 1.5;\" x1=\"53\" x2=\"114\" y1=\"78.9375\" y2=\"78.9375\"/><text fill=\"#000000\" font-family=\"sans-serif\" font-size=\"11\" lengthAdjust=\"spacingAndGlyphs\" textLength=\"42\" x=\"58\" y=\"109.9526\">m= 20;</text><text fill=\"#000000\" font-family=\"sans-serif\" font-size=\"11\" font-style=\"italic\" lengthAdjust=\"spacingAndGlyphs\" textLength=\"48\" x=\"58\" y=\"122.7573\">:&gt;&gt;V::m</text><line style=\"stroke: #383838; stroke-width: 1.0;\" x1=\"53\" x2=\"56\" y1=\"93.3398\" y2=\"93.3398\"/><text fill=\"#000000\" font-family=\"sans-serif\" font-size=\"11\" lengthAdjust=\"spacingAndGlyphs\" textLength=\"55\" x=\"56\" y=\"96.6479\">attributes</text><line style=\"stroke: #383838; stroke-width: 1.0;\" x1=\"111\" x2=\"114\" y1=\"93.3398\" y2=\"93.3398\"/></a><!--MD5=[ebbe1d658d1005bcc118a6aa81145e00]\n",
       "class E4--><a href=\"psysml:92194191-781a-4f9d-991e-568f466dae89\" target=\"_top\" title=\"psysml:92194191-781a-4f9d-991e-568f466dae89\" xlink:actuate=\"onRequest\" xlink:href=\"psysml:92194191-781a-4f9d-991e-568f466dae89\" xlink:show=\"new\" xlink:title=\"psysml:92194191-781a-4f9d-991e-568f466dae89\" xlink:type=\"simple\"><rect fill=\"#FFFFFF\" height=\"88.3516\" id=\"E4\" style=\"stroke: #383838; stroke-width: 1.5;\" width=\"103\" x=\"32\" y=\"164\"/><text fill=\"#000000\" font-family=\"sans-serif\" font-size=\"12\" font-style=\"italic\" lengthAdjust=\"spacingAndGlyphs\" textLength=\"64\" x=\"51.5\" y=\"180.1387\">«part def»</text><text fill=\"#000000\" font-family=\"sans-serif\" font-size=\"12\" lengthAdjust=\"spacingAndGlyphs\" textLength=\"11\" x=\"78\" y=\"194.1074\">W</text><line style=\"stroke: #383838; stroke-width: 1.5;\" x1=\"33\" x2=\"134\" y1=\"201.9375\" y2=\"201.9375\"/><text fill=\"#000000\" font-family=\"sans-serif\" font-size=\"11\" lengthAdjust=\"spacingAndGlyphs\" textLength=\"87\" x=\"38\" y=\"232.9526\">m=default = n;</text><text fill=\"#000000\" font-family=\"sans-serif\" font-size=\"11\" font-style=\"italic\" lengthAdjust=\"spacingAndGlyphs\" textLength=\"48\" x=\"38\" y=\"245.7573\">:&gt;&gt;V::m</text><line style=\"stroke: #383838; stroke-width: 1.0;\" x1=\"33\" x2=\"56\" y1=\"216.3398\" y2=\"216.3398\"/><text fill=\"#000000\" font-family=\"sans-serif\" font-size=\"11\" lengthAdjust=\"spacingAndGlyphs\" textLength=\"55\" x=\"56\" y=\"219.6479\">attributes</text><line style=\"stroke: #383838; stroke-width: 1.0;\" x1=\"111\" x2=\"134\" y1=\"216.3398\" y2=\"216.3398\"/></a><!--MD5=[270fce915f116d4de14055a7c1d9a0f3]\n",
       "class E5--><a href=\"psysml:12e8b862-a297-4118-9bc9-39ad14290527\" target=\"_top\" title=\"psysml:12e8b862-a297-4118-9bc9-39ad14290527\" xlink:actuate=\"onRequest\" xlink:href=\"psysml:12e8b862-a297-4118-9bc9-39ad14290527\" xlink:show=\"new\" xlink:title=\"psysml:12e8b862-a297-4118-9bc9-39ad14290527\" xlink:type=\"simple\"><rect fill=\"#FFFFFF\" height=\"45.9375\" id=\"E5\" rx=\"10\" ry=\"10\" style=\"stroke: #383838; stroke-width: 1.5;\" width=\"42\" x=\"62.5\" y=\"287\"/><text fill=\"#000000\" font-family=\"sans-serif\" font-size=\"12\" font-style=\"italic\" lengthAdjust=\"spacingAndGlyphs\" textLength=\"40\" x=\"63.5\" y=\"303.1387\">«part»</text><text fill=\"#000000\" font-family=\"sans-serif\" font-size=\"12\" lengthAdjust=\"spacingAndGlyphs\" textLength=\"14\" x=\"76.5\" y=\"317.1074\">v2</text><line style=\"stroke: #383838; stroke-width: 1.5;\" x1=\"63.5\" x2=\"103.5\" y1=\"324.9375\" y2=\"324.9375\"/></a><!--MD5=[05d275557350bfb9b23a4ef7222b4c39]\n",
       "link E3 to E2--><a href=\"psysml:a976bee6-0dca-4565-96d2-a44c4ac1d16a\" target=\"_top\" title=\"psysml:a976bee6-0dca-4565-96d2-a44c4ac1d16a\" xlink:actuate=\"onRequest\" xlink:href=\"psysml:a976bee6-0dca-4565-96d2-a44c4ac1d16a\" xlink:show=\"new\" xlink:title=\"psysml:a976bee6-0dca-4565-96d2-a44c4ac1d16a\" xlink:type=\"simple\"><path d=\"M115.07,96.66 C132.33,103.25 154.67,111.77 176.05,119.93 \" fill=\"none\" id=\"E3-&gt;E2\" style=\"stroke: #383838; stroke-width: 1.0;\"/><polygon fill=\"#FFFFFF\" points=\"194.84,127.1,174.5929,126.8678,179.583,113.7874,194.84,127.1\" style=\"stroke: #383838; stroke-width: 1.0;\"/><ellipse cx=\"169.9801\" cy=\"122.9675\" fill=\"#383838\" rx=\"2\" ry=\"2\" style=\"stroke: #383838; stroke-width: 1.0;\"/><ellipse cx=\"173.5446\" cy=\"113.6243\" fill=\"#383838\" rx=\"2\" ry=\"2\" style=\"stroke: #383838; stroke-width: 1.0;\"/></a><!--MD5=[185131fc0dcab0a4505a2ebe144e961b]\n",
       "link E4 to E2--><a href=\"psysml:80b8c15c-720d-43cf-a3f3-f1ac8ca72d6e\" target=\"_top\" title=\"psysml:80b8c15c-720d-43cf-a3f3-f1ac8ca72d6e\" xlink:actuate=\"onRequest\" xlink:href=\"psysml:80b8c15c-720d-43cf-a3f3-f1ac8ca72d6e\" xlink:show=\"new\" xlink:title=\"psysml:80b8c15c-720d-43cf-a3f3-f1ac8ca72d6e\" xlink:type=\"simple\"><path d=\"M135.03,189.03 C147.94,184.18 162.08,178.88 175.82,173.72 \" fill=\"none\" id=\"E4-&gt;E2\" style=\"stroke: #383838; stroke-width: 1.0;\"/><polygon fill=\"none\" points=\"173.64,167.06,194.82,166.59,178.56,180.17,173.64,167.06\" style=\"stroke: #383838; stroke-width: 1.0;\"/></a><!--MD5=[a93fd5d33e65ee9e1d5096266d2acbf6]\n",
       "@startuml\r\n",
       "left to right direction\r\n",
       "skinparam monochrome true\r\n",
       "skinparam classbackgroundcolor white\r\n",
       "skinparam shadowing false\r\n",
       "skinparam wrapWidth 300\r\n",
       "hide circle\r\n",
       "\r\n",
       "package \"DefaultValueTest\" as E1  [[psysml:e269850e-1dc2-4cd5-af8e-eb4ea9f30c1b ]]  {\r\n",
       "comp def \"V\" as E2  <<(T,blue) part def>> [[psysml:e7bf9c65-3f81-4ba3-bb8e-9b75385edfca ]] {\r\n",
       "- - attributes - -\r\n",
       "m=default = 10; \r\n",
       "n= 20; \r\n",
       "}\r\n",
       "comp usage \"v1: V\" as E3  <<(T,blue) part>> [[psysml:f1f60863-7632-47b0-830a-21cb33ae86b3 ]] {\r\n",
       "- - attributes - -\r\n",
       "m= 20; \\n//:>>V::m// \r\n",
       "}\r\n",
       "comp def \"W\" as E4  <<(T,blue) part def>> [[psysml:92194191-781a-4f9d-991e-568f466dae89 ]] {\r\n",
       "- - attributes - -\r\n",
       "m=default = n; \\n//:>>V::m// \r\n",
       "}\r\n",
       "comp usage \"v2\" as E5  <<(T,blue) part>> [[psysml:12e8b862-a297-4118-9bc9-39ad14290527 ]] {\r\n",
       "}\r\n",
       "E3 - -:|> E2 [[psysml:a976bee6-0dca-4565-96d2-a44c4ac1d16a ]] \r\n",
       "E4 - -|> E2 [[psysml:80b8c15c-720d-43cf-a3f3-f1ac8ca72d6e ]] \r\n",
       "}\r\n",
       "@enduml\r\n",
       "\n",
       "PlantUML version 1.2020.13(Sat Jun 13 12:26:38 UTC 2020)\n",
       "(EPL source distribution)\n",
       "Java Runtime: OpenJDK Runtime Environment\n",
       "JVM: OpenJDK 64-Bit Server VM\n",
       "Default Encoding: UTF-8\n",
       "Language: en\n",
       "Country: null\n",
       "--></g></svg>"
      ]
     },
     "execution_count": 22,
     "metadata": {},
     "output_type": "execute_result"
    }
   ],
   "source": [
    "%viz --style=\"LR\" --view=\"MIXED\" \"DefaultValueTest\""
   ]
  },
  {
   "cell_type": "code",
   "execution_count": 23,
   "id": "4bd579a3",
   "metadata": {
    "execution": {
     "iopub.execute_input": "2021-08-04T06:28:43.076249Z",
     "iopub.status.busy": "2021-08-04T06:28:43.075844Z",
     "iopub.status.idle": "2021-08-04T06:28:43.141640Z",
     "shell.execute_reply": "2021-08-04T06:28:43.140669Z"
    }
   },
   "outputs": [
    {
     "data": {
      "image/svg+xml": [
       "<?xml version=\"1.0\" encoding=\"UTF-8\" standalone=\"no\"?><svg xmlns=\"http://www.w3.org/2000/svg\" xmlns:xlink=\"http://www.w3.org/1999/xlink\" contentScriptType=\"application/ecmascript\" contentStyleType=\"text/css\" height=\"261px\" preserveAspectRatio=\"none\" style=\"width:438px;height:261px;\" version=\"1.1\" viewBox=\"0 0 438 261\" width=\"438px\" zoomAndPan=\"magnify\"><defs><filter height=\"300%\" id=\"f18r2tkdw01xw1\" width=\"300%\" x=\"-1\" y=\"-1\"><feGaussianBlur result=\"blurOut\" stdDeviation=\"2.0\"/><feColorMatrix in=\"blurOut\" result=\"blurOut2\" type=\"matrix\" values=\"0 0 0 0 0 0 0 0 0 0 0 0 0 0 0 0 0 0 .4 0\"/><feOffset dx=\"4.0\" dy=\"4.0\" in=\"blurOut2\" result=\"blurOut3\"/><feBlend in=\"SourceGraphic\" in2=\"blurOut3\" mode=\"normal\"/></filter></defs><g><!--MD5=[fbc87193dbaf4d95561dea2c320d4a47]\n",
       "cluster E1--><a href=\"psysml:e269850e-1dc2-4cd5-af8e-eb4ea9f30c1b\" target=\"_top\" title=\"psysml:e269850e-1dc2-4cd5-af8e-eb4ea9f30c1b\" xlink:actuate=\"onRequest\" xlink:href=\"psysml:e269850e-1dc2-4cd5-af8e-eb4ea9f30c1b\" xlink:show=\"new\" xlink:title=\"psysml:e269850e-1dc2-4cd5-af8e-eb4ea9f30c1b\" xlink:type=\"simple\"><polygon fill=\"#FFFFFF\" filter=\"url(#f18r2tkdw01xw1)\" points=\"16,6,157,6,164,28.2969,416,28.2969,416,249,16,249,16,6\" style=\"stroke: #000000; stroke-width: 1.5;\"/><line style=\"stroke: #000000; stroke-width: 1.5;\" x1=\"16\" x2=\"164\" y1=\"28.2969\" y2=\"28.2969\"/><text fill=\"#000000\" font-family=\"sans-serif\" font-size=\"14\" font-weight=\"bold\" lengthAdjust=\"spacingAndGlyphs\" textLength=\"135\" x=\"20\" y=\"20.9951\">DefaultValueTest</text></a><!--MD5=[b4997ac47864f28c2f74865a473b2911]\n",
       "class E2--><a href=\"psysml:e7bf9c65-3f81-4ba3-bb8e-9b75385edfca\" target=\"_top\" title=\"psysml:e7bf9c65-3f81-4ba3-bb8e-9b75385edfca\" xlink:actuate=\"onRequest\" xlink:href=\"psysml:e7bf9c65-3f81-4ba3-bb8e-9b75385edfca\" xlink:show=\"new\" xlink:title=\"psysml:e7bf9c65-3f81-4ba3-bb8e-9b75385edfca\" xlink:type=\"simple\"><rect fill=\"#FEFECE\" filter=\"url(#f18r2tkdw01xw1)\" height=\"71.5469\" id=\"E2\" style=\"stroke: #A80036; stroke-width: 1.5;\" width=\"106\" x=\"212\" y=\"161\"/><text fill=\"#000000\" font-family=\"sans-serif\" font-size=\"12\" font-style=\"italic\" lengthAdjust=\"spacingAndGlyphs\" textLength=\"64\" x=\"233\" y=\"177.1387\">«part def»</text><text fill=\"#000000\" font-family=\"sans-serif\" font-size=\"12\" lengthAdjust=\"spacingAndGlyphs\" textLength=\"8\" x=\"261\" y=\"191.1074\">V</text><line style=\"stroke: #A80036; stroke-width: 1.5;\" x1=\"213\" x2=\"317\" y1=\"198.9375\" y2=\"198.9375\"/><text fill=\"#000000\" font-family=\"sans-serif\" font-size=\"11\" lengthAdjust=\"spacingAndGlyphs\" textLength=\"94\" x=\"218\" y=\"213.1479\">m=default = 10;</text><text fill=\"#000000\" font-family=\"sans-serif\" font-size=\"11\" lengthAdjust=\"spacingAndGlyphs\" textLength=\"38\" x=\"218\" y=\"225.9526\">n= 20;</text></a><!--MD5=[09b614a08d8cba4a07c9adeb5e0fee81]\n",
       "class E3--><a href=\"psysml:f1f60863-7632-47b0-830a-21cb33ae86b3\" target=\"_top\" title=\"psysml:f1f60863-7632-47b0-830a-21cb33ae86b3\" xlink:actuate=\"onRequest\" xlink:href=\"psysml:f1f60863-7632-47b0-830a-21cb33ae86b3\" xlink:show=\"new\" xlink:title=\"psysml:f1f60863-7632-47b0-830a-21cb33ae86b3\" xlink:type=\"simple\"><rect fill=\"#FEFECE\" filter=\"url(#f18r2tkdw01xw1)\" height=\"59.6875\" id=\"E3\" rx=\"10\" ry=\"10\" style=\"stroke: #A80036; stroke-width: 1.5;\" width=\"105\" x=\"294.5\" y=\"41\"/><text fill=\"#000000\" font-family=\"sans-serif\" font-size=\"12\" font-style=\"italic\" lengthAdjust=\"spacingAndGlyphs\" textLength=\"40\" x=\"327\" y=\"57.1387\">«part»</text><text fill=\"#000000\" font-family=\"sans-serif\" font-size=\"12\" lengthAdjust=\"spacingAndGlyphs\" textLength=\"30\" x=\"332\" y=\"71.1074\">v1: V</text><line style=\"stroke: #A80036; stroke-width: 1.5;\" x1=\"295.5\" x2=\"398.5\" y1=\"78.9375\" y2=\"78.9375\"/><path d=\"M302.4167,83.8542 L302.4167,93.0208 L303.3333,93.0208 L303.3333,83.8542 M306.0833,83.8542 L306.0833,93.0208 L313.4167,88.4375 L306.0833,83.8542 L307,85.2292 L312.0417,88.4375 L307,91.6458 L307,85.2292 \" fill=\"#000000\" style=\"stroke: ; stroke-width: 0.0; stroke-dasharray: ;\"/><text fill=\"#000000\" font-family=\"sans-serif\" font-size=\"11\" lengthAdjust=\"spacingAndGlyphs\" textLength=\"42\" x=\"317.5\" y=\"94.0933\">m= 20;</text><text fill=\"#000000\" font-family=\"sans-serif\" font-size=\"11\" lengthAdjust=\"spacingAndGlyphs\" text-decoration=\"line-through\" textLength=\"26\" x=\"367.5\" y=\"94.0933\">V::m</text></a><!--MD5=[ebbe1d658d1005bcc118a6aa81145e00]\n",
       "class E4--><a href=\"psysml:92194191-781a-4f9d-991e-568f466dae89\" target=\"_top\" title=\"psysml:92194191-781a-4f9d-991e-568f466dae89\" xlink:actuate=\"onRequest\" xlink:href=\"psysml:92194191-781a-4f9d-991e-568f466dae89\" xlink:show=\"new\" xlink:title=\"psysml:92194191-781a-4f9d-991e-568f466dae89\" xlink:type=\"simple\"><rect fill=\"#FEFECE\" filter=\"url(#f18r2tkdw01xw1)\" height=\"59.6875\" id=\"E4\" style=\"stroke: #A80036; stroke-width: 1.5;\" width=\"150\" x=\"109\" y=\"41\"/><text fill=\"#000000\" font-family=\"sans-serif\" font-size=\"12\" font-style=\"italic\" lengthAdjust=\"spacingAndGlyphs\" textLength=\"64\" x=\"152\" y=\"57.1387\">«part def»</text><text fill=\"#000000\" font-family=\"sans-serif\" font-size=\"12\" lengthAdjust=\"spacingAndGlyphs\" textLength=\"11\" x=\"178.5\" y=\"71.1074\">W</text><line style=\"stroke: #A80036; stroke-width: 1.5;\" x1=\"110\" x2=\"258\" y1=\"78.9375\" y2=\"78.9375\"/><path d=\"M116.9167,83.8542 L116.9167,93.0208 L117.8333,93.0208 L117.8333,83.8542 M120.5833,83.8542 L120.5833,93.0208 L127.9167,88.4375 L120.5833,83.8542 L121.5,85.2292 L126.5417,88.4375 L121.5,91.6458 L121.5,85.2292 \" fill=\"#000000\" style=\"stroke: ; stroke-width: 0.0; stroke-dasharray: ;\"/><text fill=\"#000000\" font-family=\"sans-serif\" font-size=\"11\" lengthAdjust=\"spacingAndGlyphs\" textLength=\"87\" x=\"132\" y=\"94.0933\">m=default = n;</text><text fill=\"#000000\" font-family=\"sans-serif\" font-size=\"11\" lengthAdjust=\"spacingAndGlyphs\" text-decoration=\"line-through\" textLength=\"26\" x=\"227\" y=\"94.0933\">V::m</text></a><!--MD5=[270fce915f116d4de14055a7c1d9a0f3]\n",
       "class E5--><a href=\"psysml:12e8b862-a297-4118-9bc9-39ad14290527\" target=\"_top\" title=\"psysml:12e8b862-a297-4118-9bc9-39ad14290527\" xlink:actuate=\"onRequest\" xlink:href=\"psysml:12e8b862-a297-4118-9bc9-39ad14290527\" xlink:show=\"new\" xlink:title=\"psysml:12e8b862-a297-4118-9bc9-39ad14290527\" xlink:type=\"simple\"><rect fill=\"#FEFECE\" filter=\"url(#f18r2tkdw01xw1)\" height=\"45.9375\" id=\"E5\" rx=\"10\" ry=\"10\" style=\"stroke: #A80036; stroke-width: 1.5;\" width=\"42\" x=\"32\" y=\"48\"/><text fill=\"#000000\" font-family=\"sans-serif\" font-size=\"12\" font-style=\"italic\" lengthAdjust=\"spacingAndGlyphs\" textLength=\"40\" x=\"33\" y=\"64.1387\">«part»</text><text fill=\"#000000\" font-family=\"sans-serif\" font-size=\"12\" lengthAdjust=\"spacingAndGlyphs\" textLength=\"14\" x=\"46\" y=\"78.1074\">v2</text><line style=\"stroke: #A80036; stroke-width: 1.5;\" x1=\"33\" x2=\"73\" y1=\"85.9375\" y2=\"85.9375\"/></a><!--MD5=[05d275557350bfb9b23a4ef7222b4c39]\n",
       "link E3 to E2--><a href=\"psysml:a976bee6-0dca-4565-96d2-a44c4ac1d16a\" target=\"_top\" title=\"psysml:a976bee6-0dca-4565-96d2-a44c4ac1d16a\" xlink:actuate=\"onRequest\" xlink:href=\"psysml:a976bee6-0dca-4565-96d2-a44c4ac1d16a\" xlink:show=\"new\" xlink:title=\"psysml:a976bee6-0dca-4565-96d2-a44c4ac1d16a\" xlink:type=\"simple\"><path d=\"M327.77,101.07 C319.27,113.94 309,129.46 299.26,144.2 \" fill=\"none\" id=\"E3-&gt;E2\" style=\"stroke: #A80036; stroke-width: 1.0;\"/><polygon fill=\"#FFFFFF\" points=\"288.19,160.93,292.8464,141.2242,304.5181,148.9554,288.19,160.93\" style=\"stroke: #A80036; stroke-width: 1.0;\"/><ellipse cx=\"297.6615\" cy=\"137.5766\" fill=\"#A80036\" rx=\"2\" ry=\"2\" style=\"stroke: #A80036; stroke-width: 1.0;\"/><ellipse cx=\"305.9984\" cy=\"143.0989\" fill=\"#A80036\" rx=\"2\" ry=\"2\" style=\"stroke: #A80036; stroke-width: 1.0;\"/></a><!--MD5=[185131fc0dcab0a4505a2ebe144e961b]\n",
       "link E4 to E2--><a href=\"psysml:80b8c15c-720d-43cf-a3f3-f1ac8ca72d6e\" target=\"_top\" title=\"psysml:80b8c15c-720d-43cf-a3f3-f1ac8ca72d6e\" xlink:actuate=\"onRequest\" xlink:href=\"psysml:80b8c15c-720d-43cf-a3f3-f1ac8ca72d6e\" xlink:show=\"new\" xlink:title=\"psysml:80b8c15c-720d-43cf-a3f3-f1ac8ca72d6e\" xlink:type=\"simple\"><path d=\"M202.99,101.07 C211.3,113.8 221.31,129.12 230.85,143.72 \" fill=\"none\" id=\"E4-&gt;E2\" style=\"stroke: #A80036; stroke-width: 1.0;\"/><polygon fill=\"none\" points=\"237.01,140.35,242.09,160.93,225.29,148.01,237.01,140.35\" style=\"stroke: #A80036; stroke-width: 1.0;\"/></a><!--MD5=[e4f92d2f2f1de028afc841ad50ebba93]\n",
       "@startuml\r\n",
       "skinparam wrapWidth 300\r\n",
       "hide circle\r\n",
       "\r\n",
       "package \"DefaultValueTest\" as E1  [[psysml:e269850e-1dc2-4cd5-af8e-eb4ea9f30c1b ]]  {\r\n",
       "comp def \"V\" as E2  <<(T,blue) part def>> [[psysml:e7bf9c65-3f81-4ba3-bb8e-9b75385edfca ]] {\r\n",
       "m=default = 10; \r\n",
       "n= 20; \r\n",
       "}\r\n",
       "comp usage \"v1: V\" as E3  <<(T,blue) part>> [[psysml:f1f60863-7632-47b0-830a-21cb33ae86b3 ]] {\r\n",
       "<&bar-trig> m= 20;  <s>V::m</s>\r\n",
       "}\r\n",
       "comp def \"W\" as E4  <<(T,blue) part def>> [[psysml:92194191-781a-4f9d-991e-568f466dae89 ]] {\r\n",
       "<&bar-trig> m=default = n;  <s>V::m</s>\r\n",
       "}\r\n",
       "comp usage \"v2\" as E5  <<(T,blue) part>> [[psysml:12e8b862-a297-4118-9bc9-39ad14290527 ]] {\r\n",
       "}\r\n",
       "E3 - -:|> E2 [[psysml:a976bee6-0dca-4565-96d2-a44c4ac1d16a ]] \r\n",
       "E4 - -|> E2 [[psysml:80b8c15c-720d-43cf-a3f3-f1ac8ca72d6e ]] \r\n",
       "}\r\n",
       "@enduml\r\n",
       "\n",
       "PlantUML version 1.2020.13(Sat Jun 13 12:26:38 UTC 2020)\n",
       "(EPL source distribution)\n",
       "Java Runtime: OpenJDK Runtime Environment\n",
       "JVM: OpenJDK 64-Bit Server VM\n",
       "Default Encoding: UTF-8\n",
       "Language: en\n",
       "Country: null\n",
       "--></g></svg>"
      ]
     },
     "execution_count": 23,
     "metadata": {},
     "output_type": "execute_result"
    }
   ],
   "source": [
    "%viz --style=\"STDCOLOR\" --view=\"Default\" \"DefaultValueTest\""
   ]
  },
  {
   "cell_type": "code",
   "execution_count": 24,
   "id": "ba207611",
   "metadata": {
    "execution": {
     "iopub.execute_input": "2021-08-04T06:28:43.191872Z",
     "iopub.status.busy": "2021-08-04T06:28:43.191632Z",
     "iopub.status.idle": "2021-08-04T06:28:43.246134Z",
     "shell.execute_reply": "2021-08-04T06:28:43.245931Z"
    }
   },
   "outputs": [
    {
     "data": {
      "image/svg+xml": [
       "<?xml version=\"1.0\" encoding=\"UTF-8\" standalone=\"no\"?><svg xmlns=\"http://www.w3.org/2000/svg\" xmlns:xlink=\"http://www.w3.org/1999/xlink\" contentScriptType=\"application/ecmascript\" contentStyleType=\"text/css\" height=\"261px\" preserveAspectRatio=\"none\" style=\"width:438px;height:261px;\" version=\"1.1\" viewBox=\"0 0 438 261\" width=\"438px\" zoomAndPan=\"magnify\"><defs><filter height=\"300%\" id=\"f18r2tkdw01xw1\" width=\"300%\" x=\"-1\" y=\"-1\"><feGaussianBlur result=\"blurOut\" stdDeviation=\"2.0\"/><feColorMatrix in=\"blurOut\" result=\"blurOut2\" type=\"matrix\" values=\"0 0 0 0 0 0 0 0 0 0 0 0 0 0 0 0 0 0 .4 0\"/><feOffset dx=\"4.0\" dy=\"4.0\" in=\"blurOut2\" result=\"blurOut3\"/><feBlend in=\"SourceGraphic\" in2=\"blurOut3\" mode=\"normal\"/></filter></defs><g><!--MD5=[fbc87193dbaf4d95561dea2c320d4a47]\n",
       "cluster E1--><a href=\"psysml:e269850e-1dc2-4cd5-af8e-eb4ea9f30c1b\" target=\"_top\" title=\"psysml:e269850e-1dc2-4cd5-af8e-eb4ea9f30c1b\" xlink:actuate=\"onRequest\" xlink:href=\"psysml:e269850e-1dc2-4cd5-af8e-eb4ea9f30c1b\" xlink:show=\"new\" xlink:title=\"psysml:e269850e-1dc2-4cd5-af8e-eb4ea9f30c1b\" xlink:type=\"simple\"><polygon fill=\"#FFFFFF\" filter=\"url(#f18r2tkdw01xw1)\" points=\"16,6,157,6,164,28.2969,416,28.2969,416,249,16,249,16,6\" style=\"stroke: #000000; stroke-width: 1.5;\"/><line style=\"stroke: #000000; stroke-width: 1.5;\" x1=\"16\" x2=\"164\" y1=\"28.2969\" y2=\"28.2969\"/><text fill=\"#000000\" font-family=\"sans-serif\" font-size=\"14\" font-weight=\"bold\" lengthAdjust=\"spacingAndGlyphs\" textLength=\"135\" x=\"20\" y=\"20.9951\">DefaultValueTest</text></a><!--MD5=[b4997ac47864f28c2f74865a473b2911]\n",
       "class E2--><a href=\"psysml:e7bf9c65-3f81-4ba3-bb8e-9b75385edfca\" target=\"_top\" title=\"psysml:e7bf9c65-3f81-4ba3-bb8e-9b75385edfca\" xlink:actuate=\"onRequest\" xlink:href=\"psysml:e7bf9c65-3f81-4ba3-bb8e-9b75385edfca\" xlink:show=\"new\" xlink:title=\"psysml:e7bf9c65-3f81-4ba3-bb8e-9b75385edfca\" xlink:type=\"simple\"><rect fill=\"#FEFECE\" filter=\"url(#f18r2tkdw01xw1)\" height=\"71.5469\" id=\"E2\" style=\"stroke: #A80036; stroke-width: 1.5;\" width=\"106\" x=\"212\" y=\"161\"/><text fill=\"#000000\" font-family=\"sans-serif\" font-size=\"12\" font-style=\"italic\" lengthAdjust=\"spacingAndGlyphs\" textLength=\"64\" x=\"233\" y=\"177.1387\">«part def»</text><text fill=\"#000000\" font-family=\"sans-serif\" font-size=\"12\" lengthAdjust=\"spacingAndGlyphs\" textLength=\"8\" x=\"261\" y=\"191.1074\">V</text><line style=\"stroke: #A80036; stroke-width: 1.5;\" x1=\"213\" x2=\"317\" y1=\"198.9375\" y2=\"198.9375\"/><text fill=\"#000000\" font-family=\"sans-serif\" font-size=\"11\" lengthAdjust=\"spacingAndGlyphs\" textLength=\"94\" x=\"218\" y=\"213.1479\">m=default = 10;</text><text fill=\"#000000\" font-family=\"sans-serif\" font-size=\"11\" lengthAdjust=\"spacingAndGlyphs\" textLength=\"38\" x=\"218\" y=\"225.9526\">n= 20;</text></a><!--MD5=[09b614a08d8cba4a07c9adeb5e0fee81]\n",
       "class E3--><a href=\"psysml:f1f60863-7632-47b0-830a-21cb33ae86b3\" target=\"_top\" title=\"psysml:f1f60863-7632-47b0-830a-21cb33ae86b3\" xlink:actuate=\"onRequest\" xlink:href=\"psysml:f1f60863-7632-47b0-830a-21cb33ae86b3\" xlink:show=\"new\" xlink:title=\"psysml:f1f60863-7632-47b0-830a-21cb33ae86b3\" xlink:type=\"simple\"><rect fill=\"#FEFECE\" filter=\"url(#f18r2tkdw01xw1)\" height=\"59.6875\" id=\"E3\" rx=\"10\" ry=\"10\" style=\"stroke: #A80036; stroke-width: 1.5;\" width=\"105\" x=\"294.5\" y=\"41\"/><text fill=\"#000000\" font-family=\"sans-serif\" font-size=\"12\" font-style=\"italic\" lengthAdjust=\"spacingAndGlyphs\" textLength=\"40\" x=\"327\" y=\"57.1387\">«part»</text><text fill=\"#000000\" font-family=\"sans-serif\" font-size=\"12\" lengthAdjust=\"spacingAndGlyphs\" textLength=\"30\" x=\"332\" y=\"71.1074\">v1: V</text><line style=\"stroke: #A80036; stroke-width: 1.5;\" x1=\"295.5\" x2=\"398.5\" y1=\"78.9375\" y2=\"78.9375\"/><path d=\"M302.4167,83.8542 L302.4167,93.0208 L303.3333,93.0208 L303.3333,83.8542 M306.0833,83.8542 L306.0833,93.0208 L313.4167,88.4375 L306.0833,83.8542 L307,85.2292 L312.0417,88.4375 L307,91.6458 L307,85.2292 \" fill=\"#000000\" style=\"stroke: ; stroke-width: 0.0; stroke-dasharray: ;\"/><text fill=\"#000000\" font-family=\"sans-serif\" font-size=\"11\" lengthAdjust=\"spacingAndGlyphs\" textLength=\"42\" x=\"317.5\" y=\"94.0933\">m= 20;</text><text fill=\"#000000\" font-family=\"sans-serif\" font-size=\"11\" lengthAdjust=\"spacingAndGlyphs\" text-decoration=\"line-through\" textLength=\"26\" x=\"367.5\" y=\"94.0933\">V::m</text></a><!--MD5=[ebbe1d658d1005bcc118a6aa81145e00]\n",
       "class E4--><a href=\"psysml:92194191-781a-4f9d-991e-568f466dae89\" target=\"_top\" title=\"psysml:92194191-781a-4f9d-991e-568f466dae89\" xlink:actuate=\"onRequest\" xlink:href=\"psysml:92194191-781a-4f9d-991e-568f466dae89\" xlink:show=\"new\" xlink:title=\"psysml:92194191-781a-4f9d-991e-568f466dae89\" xlink:type=\"simple\"><rect fill=\"#FEFECE\" filter=\"url(#f18r2tkdw01xw1)\" height=\"59.6875\" id=\"E4\" style=\"stroke: #A80036; stroke-width: 1.5;\" width=\"150\" x=\"109\" y=\"41\"/><text fill=\"#000000\" font-family=\"sans-serif\" font-size=\"12\" font-style=\"italic\" lengthAdjust=\"spacingAndGlyphs\" textLength=\"64\" x=\"152\" y=\"57.1387\">«part def»</text><text fill=\"#000000\" font-family=\"sans-serif\" font-size=\"12\" lengthAdjust=\"spacingAndGlyphs\" textLength=\"11\" x=\"178.5\" y=\"71.1074\">W</text><line style=\"stroke: #A80036; stroke-width: 1.5;\" x1=\"110\" x2=\"258\" y1=\"78.9375\" y2=\"78.9375\"/><path d=\"M116.9167,83.8542 L116.9167,93.0208 L117.8333,93.0208 L117.8333,83.8542 M120.5833,83.8542 L120.5833,93.0208 L127.9167,88.4375 L120.5833,83.8542 L121.5,85.2292 L126.5417,88.4375 L121.5,91.6458 L121.5,85.2292 \" fill=\"#000000\" style=\"stroke: ; stroke-width: 0.0; stroke-dasharray: ;\"/><text fill=\"#000000\" font-family=\"sans-serif\" font-size=\"11\" lengthAdjust=\"spacingAndGlyphs\" textLength=\"87\" x=\"132\" y=\"94.0933\">m=default = n;</text><text fill=\"#000000\" font-family=\"sans-serif\" font-size=\"11\" lengthAdjust=\"spacingAndGlyphs\" text-decoration=\"line-through\" textLength=\"26\" x=\"227\" y=\"94.0933\">V::m</text></a><!--MD5=[270fce915f116d4de14055a7c1d9a0f3]\n",
       "class E5--><a href=\"psysml:12e8b862-a297-4118-9bc9-39ad14290527\" target=\"_top\" title=\"psysml:12e8b862-a297-4118-9bc9-39ad14290527\" xlink:actuate=\"onRequest\" xlink:href=\"psysml:12e8b862-a297-4118-9bc9-39ad14290527\" xlink:show=\"new\" xlink:title=\"psysml:12e8b862-a297-4118-9bc9-39ad14290527\" xlink:type=\"simple\"><rect fill=\"#FEFECE\" filter=\"url(#f18r2tkdw01xw1)\" height=\"45.9375\" id=\"E5\" rx=\"10\" ry=\"10\" style=\"stroke: #A80036; stroke-width: 1.5;\" width=\"42\" x=\"32\" y=\"48\"/><text fill=\"#000000\" font-family=\"sans-serif\" font-size=\"12\" font-style=\"italic\" lengthAdjust=\"spacingAndGlyphs\" textLength=\"40\" x=\"33\" y=\"64.1387\">«part»</text><text fill=\"#000000\" font-family=\"sans-serif\" font-size=\"12\" lengthAdjust=\"spacingAndGlyphs\" textLength=\"14\" x=\"46\" y=\"78.1074\">v2</text><line style=\"stroke: #A80036; stroke-width: 1.5;\" x1=\"33\" x2=\"73\" y1=\"85.9375\" y2=\"85.9375\"/></a><!--MD5=[05d275557350bfb9b23a4ef7222b4c39]\n",
       "link E3 to E2--><a href=\"psysml:a976bee6-0dca-4565-96d2-a44c4ac1d16a\" target=\"_top\" title=\"psysml:a976bee6-0dca-4565-96d2-a44c4ac1d16a\" xlink:actuate=\"onRequest\" xlink:href=\"psysml:a976bee6-0dca-4565-96d2-a44c4ac1d16a\" xlink:show=\"new\" xlink:title=\"psysml:a976bee6-0dca-4565-96d2-a44c4ac1d16a\" xlink:type=\"simple\"><path d=\"M327.77,101.07 C319.27,113.94 309,129.46 299.26,144.2 \" fill=\"none\" id=\"E3-&gt;E2\" style=\"stroke: #A80036; stroke-width: 1.0;\"/><polygon fill=\"#FFFFFF\" points=\"288.19,160.93,292.8464,141.2242,304.5181,148.9554,288.19,160.93\" style=\"stroke: #A80036; stroke-width: 1.0;\"/><ellipse cx=\"297.6615\" cy=\"137.5766\" fill=\"#A80036\" rx=\"2\" ry=\"2\" style=\"stroke: #A80036; stroke-width: 1.0;\"/><ellipse cx=\"305.9984\" cy=\"143.0989\" fill=\"#A80036\" rx=\"2\" ry=\"2\" style=\"stroke: #A80036; stroke-width: 1.0;\"/></a><!--MD5=[185131fc0dcab0a4505a2ebe144e961b]\n",
       "link E4 to E2--><a href=\"psysml:80b8c15c-720d-43cf-a3f3-f1ac8ca72d6e\" target=\"_top\" title=\"psysml:80b8c15c-720d-43cf-a3f3-f1ac8ca72d6e\" xlink:actuate=\"onRequest\" xlink:href=\"psysml:80b8c15c-720d-43cf-a3f3-f1ac8ca72d6e\" xlink:show=\"new\" xlink:title=\"psysml:80b8c15c-720d-43cf-a3f3-f1ac8ca72d6e\" xlink:type=\"simple\"><path d=\"M202.99,101.07 C211.3,113.8 221.31,129.12 230.85,143.72 \" fill=\"none\" id=\"E4-&gt;E2\" style=\"stroke: #A80036; stroke-width: 1.0;\"/><polygon fill=\"none\" points=\"237.01,140.35,242.09,160.93,225.29,148.01,237.01,140.35\" style=\"stroke: #A80036; stroke-width: 1.0;\"/></a><!--MD5=[e4f92d2f2f1de028afc841ad50ebba93]\n",
       "@startuml\r\n",
       "skinparam wrapWidth 300\r\n",
       "hide circle\r\n",
       "\r\n",
       "package \"DefaultValueTest\" as E1  [[psysml:e269850e-1dc2-4cd5-af8e-eb4ea9f30c1b ]]  {\r\n",
       "comp def \"V\" as E2  <<(T,blue) part def>> [[psysml:e7bf9c65-3f81-4ba3-bb8e-9b75385edfca ]] {\r\n",
       "m=default = 10; \r\n",
       "n= 20; \r\n",
       "}\r\n",
       "comp usage \"v1: V\" as E3  <<(T,blue) part>> [[psysml:f1f60863-7632-47b0-830a-21cb33ae86b3 ]] {\r\n",
       "<&bar-trig> m= 20;  <s>V::m</s>\r\n",
       "}\r\n",
       "comp def \"W\" as E4  <<(T,blue) part def>> [[psysml:92194191-781a-4f9d-991e-568f466dae89 ]] {\r\n",
       "<&bar-trig> m=default = n;  <s>V::m</s>\r\n",
       "}\r\n",
       "comp usage \"v2\" as E5  <<(T,blue) part>> [[psysml:12e8b862-a297-4118-9bc9-39ad14290527 ]] {\r\n",
       "}\r\n",
       "E3 - -:|> E2 [[psysml:a976bee6-0dca-4565-96d2-a44c4ac1d16a ]] \r\n",
       "E4 - -|> E2 [[psysml:80b8c15c-720d-43cf-a3f3-f1ac8ca72d6e ]] \r\n",
       "}\r\n",
       "@enduml\r\n",
       "\n",
       "PlantUML version 1.2020.13(Sat Jun 13 12:26:38 UTC 2020)\n",
       "(EPL source distribution)\n",
       "Java Runtime: OpenJDK Runtime Environment\n",
       "JVM: OpenJDK 64-Bit Server VM\n",
       "Default Encoding: UTF-8\n",
       "Language: en\n",
       "Country: null\n",
       "--></g></svg>"
      ]
     },
     "execution_count": 24,
     "metadata": {},
     "output_type": "execute_result"
    }
   ],
   "source": [
    "%viz --style=\"STDCOLOR\" --view=\"Tree\" \"DefaultValueTest\""
   ]
  },
  {
   "cell_type": "code",
   "execution_count": 25,
   "id": "26c96913",
   "metadata": {
    "execution": {
     "iopub.execute_input": "2021-08-04T06:28:43.296268Z",
     "iopub.status.busy": "2021-08-04T06:28:43.296018Z",
     "iopub.status.idle": "2021-08-04T06:28:43.299935Z",
     "shell.execute_reply": "2021-08-04T06:28:43.300105Z"
    }
   },
   "outputs": [
    {
     "data": {
      "image/svg+xml": [
       "<?xml version=\"1.0\" encoding=\"UTF-8\" standalone=\"no\"?><svg xmlns=\"http://www.w3.org/2000/svg\" xmlns:xlink=\"http://www.w3.org/1999/xlink\" contentScriptType=\"application/ecmascript\" contentStyleType=\"text/css\" height=\"12px\" preserveAspectRatio=\"none\" style=\"width:12px;height:12px;\" version=\"1.1\" viewBox=\"0 0 12 12\" width=\"12px\" zoomAndPan=\"magnify\"><defs/><g><!--MD5=[aeeef50f102b80d730deb6443d14f702]\n",
       "@startuml\r\n",
       "skinparam wrapWidth 300\r\n",
       "hide circle\r\n",
       "\r\n",
       "@enduml\r\n",
       "\n",
       "PlantUML version 1.2020.13(Sat Jun 13 12:26:38 UTC 2020)\n",
       "(EPL source distribution)\n",
       "Java Runtime: OpenJDK Runtime Environment\n",
       "JVM: OpenJDK 64-Bit Server VM\n",
       "Default Encoding: UTF-8\n",
       "Language: en\n",
       "Country: null\n",
       "--></g></svg>"
      ]
     },
     "execution_count": 25,
     "metadata": {},
     "output_type": "execute_result"
    }
   ],
   "source": [
    "%viz --style=\"STDCOLOR\" --view=\"State\" \"DefaultValueTest\""
   ]
  },
  {
   "cell_type": "code",
   "execution_count": 26,
   "id": "2d18e068",
   "metadata": {
    "execution": {
     "iopub.execute_input": "2021-08-04T06:28:43.350525Z",
     "iopub.status.busy": "2021-08-04T06:28:43.350279Z",
     "iopub.status.idle": "2021-08-04T06:28:43.389393Z",
     "shell.execute_reply": "2021-08-04T06:28:43.388873Z"
    }
   },
   "outputs": [
    {
     "data": {
      "image/svg+xml": [
       "<?xml version=\"1.0\" encoding=\"UTF-8\" standalone=\"no\"?><svg xmlns=\"http://www.w3.org/2000/svg\" xmlns:xlink=\"http://www.w3.org/1999/xlink\" contentScriptType=\"application/ecmascript\" contentStyleType=\"text/css\" height=\"399px\" preserveAspectRatio=\"none\" style=\"width:448px;height:399px;\" version=\"1.1\" viewBox=\"0 0 448 399\" width=\"448px\" zoomAndPan=\"magnify\"><defs><filter height=\"300%\" id=\"f1r3gsq5qizgqb\" width=\"300%\" x=\"-1\" y=\"-1\"><feGaussianBlur result=\"blurOut\" stdDeviation=\"2.0\"/><feColorMatrix in=\"blurOut\" result=\"blurOut2\" type=\"matrix\" values=\"0 0 0 0 0 0 0 0 0 0 0 0 0 0 0 0 0 0 .4 0\"/><feOffset dx=\"4.0\" dy=\"4.0\" in=\"blurOut2\" result=\"blurOut3\"/><feBlend in=\"SourceGraphic\" in2=\"blurOut3\" mode=\"normal\"/></filter></defs><g><!--MD5=[fbc87193dbaf4d95561dea2c320d4a47]\n",
       "cluster E1--><a href=\"psysml:e269850e-1dc2-4cd5-af8e-eb4ea9f30c1b\" target=\"_top\" title=\"psysml:e269850e-1dc2-4cd5-af8e-eb4ea9f30c1b\" xlink:actuate=\"onRequest\" xlink:href=\"psysml:e269850e-1dc2-4cd5-af8e-eb4ea9f30c1b\" xlink:show=\"new\" xlink:title=\"psysml:e269850e-1dc2-4cd5-af8e-eb4ea9f30c1b\" xlink:type=\"simple\"><polygon fill=\"#FFFFFF\" filter=\"url(#f1r3gsq5qizgqb)\" points=\"16,6,157,6,164,28.2969,426,28.2969,426,387,16,387,16,6\" style=\"stroke: #000000; stroke-width: 1.5;\"/><line style=\"stroke: #000000; stroke-width: 1.5;\" x1=\"16\" x2=\"164\" y1=\"28.2969\" y2=\"28.2969\"/><text fill=\"#000000\" font-family=\"sans-serif\" font-size=\"14\" font-weight=\"bold\" lengthAdjust=\"spacingAndGlyphs\" textLength=\"135\" x=\"20\" y=\"20.9951\">DefaultValueTest</text></a><!--MD5=[e4f7fae6ed58524ba242bb0b0d3be6b7]\n",
       "cluster E2--><a href=\"psysml:e7bf9c65-3f81-4ba3-bb8e-9b75385edfca\" target=\"_top\" title=\"psysml:e7bf9c65-3f81-4ba3-bb8e-9b75385edfca\" xlink:actuate=\"onRequest\" xlink:href=\"psysml:e7bf9c65-3f81-4ba3-bb8e-9b75385edfca\" xlink:show=\"new\" xlink:title=\"psysml:e7bf9c65-3f81-4ba3-bb8e-9b75385edfca\" xlink:type=\"simple\"><rect fill=\"#FFFFFF\" filter=\"url(#f1r3gsq5qizgqb)\" height=\"129\" id=\"E2\" style=\"stroke: #A80036; stroke-width: 1.5;\" width=\"245\" x=\"127\" y=\"226\"/><rect fill=\"#FEFECE\" height=\"37.9375\" style=\"stroke: #A80036; stroke-width: 1.5;\" width=\"245\" x=\"127\" y=\"226\"/><text fill=\"#000000\" font-family=\"sans-serif\" font-size=\"12\" font-style=\"italic\" lengthAdjust=\"spacingAndGlyphs\" textLength=\"64\" x=\"217.5\" y=\"242.1387\">«part def»</text><text fill=\"#000000\" font-family=\"sans-serif\" font-size=\"12\" lengthAdjust=\"spacingAndGlyphs\" textLength=\"8\" x=\"245.5\" y=\"256.1074\">V</text></a><!--MD5=[de5ec2e2e8f62f467e546659f5068c88]\n",
       "cluster E5--><a href=\"psysml:f1f60863-7632-47b0-830a-21cb33ae86b3\" target=\"_top\" title=\"psysml:f1f60863-7632-47b0-830a-21cb33ae86b3\" xlink:actuate=\"onRequest\" xlink:href=\"psysml:f1f60863-7632-47b0-830a-21cb33ae86b3\" xlink:show=\"new\" xlink:title=\"psysml:f1f60863-7632-47b0-830a-21cb33ae86b3\" xlink:type=\"simple\"><rect fill=\"#FFFFFF\" filter=\"url(#f1r3gsq5qizgqb)\" height=\"97\" id=\"E5\" rx=\"10\" ry=\"10\" style=\"stroke: #A80036; stroke-width: 1.5;\" width=\"104\" x=\"298\" y=\"81\"/><rect fill=\"#FEFECE\" height=\"23.9688\" rx=\"10\" ry=\"10\" style=\"stroke: #FEFECE; stroke-width: 1.5;\" width=\"104\" x=\"298\" y=\"81\"/><rect fill=\"#FEFECE\" height=\"10\" style=\"stroke: #FEFECE; stroke-width: 1.5;\" width=\"104\" x=\"298\" y=\"94.9688\"/><rect fill=\"none\" height=\"97\" id=\"E5\" rx=\"10\" ry=\"10\" style=\"stroke: #A80036; stroke-width: 1.5;\" width=\"104\" x=\"298\" y=\"81\"/><text fill=\"#000000\" font-family=\"sans-serif\" font-size=\"12\" lengthAdjust=\"spacingAndGlyphs\" textLength=\"30\" x=\"335\" y=\"97.1387\">v1: V</text><line style=\"stroke: #A80036; stroke-width: 1.0;\" x1=\"298\" x2=\"402\" y1=\"104.9688\" y2=\"104.9688\"/></a><!--MD5=[168fadf3d0c3fd93dd5d6da1b1d7ab76]\n",
       "cluster E7--><a href=\"psysml:92194191-781a-4f9d-991e-568f466dae89\" target=\"_top\" title=\"psysml:92194191-781a-4f9d-991e-568f466dae89\" xlink:actuate=\"onRequest\" xlink:href=\"psysml:92194191-781a-4f9d-991e-568f466dae89\" xlink:show=\"new\" xlink:title=\"psysml:92194191-781a-4f9d-991e-568f466dae89\" xlink:type=\"simple\"><rect fill=\"#FFFFFF\" filter=\"url(#f1r3gsq5qizgqb)\" height=\"129\" id=\"E7\" style=\"stroke: #A80036; stroke-width: 1.5;\" width=\"139\" x=\"127\" y=\"57\"/><rect fill=\"#FEFECE\" height=\"37.9375\" style=\"stroke: #A80036; stroke-width: 1.5;\" width=\"139\" x=\"127\" y=\"57\"/><text fill=\"#000000\" font-family=\"sans-serif\" font-size=\"12\" font-style=\"italic\" lengthAdjust=\"spacingAndGlyphs\" textLength=\"64\" x=\"164.5\" y=\"73.1387\">«part def»</text><text fill=\"#000000\" font-family=\"sans-serif\" font-size=\"12\" lengthAdjust=\"spacingAndGlyphs\" textLength=\"11\" x=\"191\" y=\"87.1074\">W</text></a><!--MD5=[09b614a08d8cba4a07c9adeb5e0fee81]\n",
       "class E3--><a href=\"psysml:a2ea0978-930d-4f5d-93d2-d64a4094d2a2\" target=\"_top\" title=\"psysml:a2ea0978-930d-4f5d-93d2-d64a4094d2a2\" xlink:actuate=\"onRequest\" xlink:href=\"psysml:a2ea0978-930d-4f5d-93d2-d64a4094d2a2\" xlink:show=\"new\" xlink:title=\"psysml:a2ea0978-930d-4f5d-93d2-d64a4094d2a2\" xlink:type=\"simple\"><rect fill=\"#FEFECE\" filter=\"url(#f1r3gsq5qizgqb)\" height=\"45.9375\" id=\"E3\" rx=\"10\" ry=\"10\" style=\"stroke: #A80036; stroke-width: 1.5;\" width=\"71\" x=\"276.5\" y=\"285\"/><text fill=\"#000000\" font-family=\"sans-serif\" font-size=\"12\" font-style=\"italic\" lengthAdjust=\"spacingAndGlyphs\" textLength=\"69\" x=\"277.5\" y=\"301.1387\">«attribute»</text><text fill=\"#000000\" font-family=\"sans-serif\" font-size=\"12\" lengthAdjust=\"spacingAndGlyphs\" textLength=\"11\" x=\"306.5\" y=\"315.1074\">m</text><line style=\"stroke: #A80036; stroke-width: 1.5;\" x1=\"277.5\" x2=\"346.5\" y1=\"322.9375\" y2=\"322.9375\"/></a><!--MD5=[ebbe1d658d1005bcc118a6aa81145e00]\n",
       "class E4--><a href=\"psysml:d2e7553d-8e48-4fb7-896c-b23e6ced71f4\" target=\"_top\" title=\"psysml:d2e7553d-8e48-4fb7-896c-b23e6ced71f4\" xlink:actuate=\"onRequest\" xlink:href=\"psysml:d2e7553d-8e48-4fb7-896c-b23e6ced71f4\" xlink:show=\"new\" xlink:title=\"psysml:d2e7553d-8e48-4fb7-896c-b23e6ced71f4\" xlink:type=\"simple\"><rect fill=\"#FEFECE\" filter=\"url(#f1r3gsq5qizgqb)\" height=\"45.9375\" id=\"E4\" rx=\"10\" ry=\"10\" style=\"stroke: #A80036; stroke-width: 1.5;\" width=\"71\" x=\"170.5\" y=\"285\"/><text fill=\"#000000\" font-family=\"sans-serif\" font-size=\"12\" font-style=\"italic\" lengthAdjust=\"spacingAndGlyphs\" textLength=\"69\" x=\"171.5\" y=\"301.1387\">«attribute»</text><text fill=\"#000000\" font-family=\"sans-serif\" font-size=\"12\" lengthAdjust=\"spacingAndGlyphs\" textLength=\"8\" x=\"202\" y=\"315.1074\">n</text><line style=\"stroke: #A80036; stroke-width: 1.5;\" x1=\"171.5\" x2=\"240.5\" y1=\"322.9375\" y2=\"322.9375\"/></a><!--MD5=[60a26617385b1d2d0262a64233df1f8d]\n",
       "class E6--><a href=\"psysml:851c4b2c-147d-4a79-885c-670825576d73\" target=\"_top\" title=\"psysml:851c4b2c-147d-4a79-885c-670825576d73\" xlink:actuate=\"onRequest\" xlink:href=\"psysml:851c4b2c-147d-4a79-885c-670825576d73\" xlink:show=\"new\" xlink:title=\"psysml:851c4b2c-147d-4a79-885c-670825576d73\" xlink:type=\"simple\"><rect fill=\"#FEFECE\" filter=\"url(#f1r3gsq5qizgqb)\" height=\"45.9375\" id=\"E6\" rx=\"10\" ry=\"10\" style=\"stroke: #A80036; stroke-width: 1.5;\" width=\"71\" x=\"314.5\" y=\"116\"/><text fill=\"#000000\" font-family=\"sans-serif\" font-size=\"12\" font-style=\"italic\" lengthAdjust=\"spacingAndGlyphs\" textLength=\"69\" x=\"315.5\" y=\"132.1387\">«attribute»</text><text fill=\"#000000\" font-family=\"sans-serif\" font-size=\"12\" lengthAdjust=\"spacingAndGlyphs\" textLength=\"11\" x=\"344.5\" y=\"146.1074\">m</text><line style=\"stroke: #A80036; stroke-width: 1.5;\" x1=\"315.5\" x2=\"384.5\" y1=\"153.9375\" y2=\"153.9375\"/></a><!--MD5=[b9389687b975829384b498ac4b7476b2]\n",
       "class E8--><a href=\"psysml:82127d9e-4a29-4ac4-9705-0043f6777b4c\" target=\"_top\" title=\"psysml:82127d9e-4a29-4ac4-9705-0043f6777b4c\" xlink:actuate=\"onRequest\" xlink:href=\"psysml:82127d9e-4a29-4ac4-9705-0043f6777b4c\" xlink:show=\"new\" xlink:title=\"psysml:82127d9e-4a29-4ac4-9705-0043f6777b4c\" xlink:type=\"simple\"><rect fill=\"#FEFECE\" filter=\"url(#f1r3gsq5qizgqb)\" height=\"45.9375\" id=\"E8\" rx=\"10\" ry=\"10\" style=\"stroke: #A80036; stroke-width: 1.5;\" width=\"71\" x=\"170.5\" y=\"116\"/><text fill=\"#000000\" font-family=\"sans-serif\" font-size=\"12\" font-style=\"italic\" lengthAdjust=\"spacingAndGlyphs\" textLength=\"69\" x=\"171.5\" y=\"132.1387\">«attribute»</text><text fill=\"#000000\" font-family=\"sans-serif\" font-size=\"12\" lengthAdjust=\"spacingAndGlyphs\" textLength=\"11\" x=\"200.5\" y=\"146.1074\">m</text><line style=\"stroke: #A80036; stroke-width: 1.5;\" x1=\"171.5\" x2=\"240.5\" y1=\"153.9375\" y2=\"153.9375\"/></a><g id=\"E1.E9\"><a href=\"psysml:12e8b862-a297-4118-9bc9-39ad14290527\" target=\"_top\" title=\"psysml:12e8b862-a297-4118-9bc9-39ad14290527\" xlink:actuate=\"onRequest\" xlink:href=\"psysml:12e8b862-a297-4118-9bc9-39ad14290527\" xlink:show=\"new\" xlink:title=\"psysml:12e8b862-a297-4118-9bc9-39ad14290527\" xlink:type=\"simple\"><rect fill=\"#FEFECE\" filter=\"url(#f1r3gsq5qizgqb)\" height=\"40\" id=\"E9\" rx=\"10\" ry=\"10\" style=\"stroke: #A80036; stroke-width: 1.5;\" width=\"68\" x=\"32\" y=\"119\"/><text fill=\"#000000\" font-family=\"sans-serif\" font-size=\"12\" lengthAdjust=\"spacingAndGlyphs\" textLength=\"53\" x=\"37.5\" y=\"135.1387\">v2= W();</text></a></g><!--MD5=[a717450b82c80b9240a525fa862496af]\n",
       "link E6 to E3--><a href=\"psysml:03eebbd2-05f0-47bc-92f0-0649c0e2f845\" target=\"_top\" title=\"psysml:03eebbd2-05f0-47bc-92f0-0649c0e2f845\" xlink:actuate=\"onRequest\" xlink:href=\"psysml:03eebbd2-05f0-47bc-92f0-0649c0e2f845\" xlink:show=\"new\" xlink:title=\"psysml:03eebbd2-05f0-47bc-92f0-0649c0e2f845\" xlink:type=\"simple\"><path d=\"M344.95,162.18 C338.98,188.45 328.89,232.78 321.45,265.49 \" fill=\"none\" id=\"E6-&gt;E3\" style=\"stroke: #A80036; stroke-width: 1.0;\"/><polygon fill=\"#FFFFFF\" points=\"317.01,285,314.4057,264.9197,328.0559,268.0298,317.01,285\" style=\"stroke: #A80036; stroke-width: 1.0;\"/><line style=\"stroke: #A80036; stroke-width: 2.0;\" x1=\"315.2498\" x2=\"328.9\" y1=\"261.2147\" y2=\"264.3247\"/></a><!--MD5=[583832df87f4419a098336a29a52fa00]\n",
       "link E7 to E2--><a href=\"psysml:80b8c15c-720d-43cf-a3f3-f1ac8ca72d6e\" target=\"_top\" title=\"psysml:80b8c15c-720d-43cf-a3f3-f1ac8ca72d6e\" xlink:actuate=\"onRequest\" xlink:href=\"psysml:80b8c15c-720d-43cf-a3f3-f1ac8ca72d6e\" xlink:show=\"new\" xlink:title=\"psysml:80b8c15c-720d-43cf-a3f3-f1ac8ca72d6e\" xlink:type=\"simple\"><path d=\"M135,186.7597 C135,189.0567 135,191.4 135,193.7804 C135,203.3019 135,213.4163 135,223.53 C135,224.1621 135,224.7942 135,225.4262 C135,225.5842 135,225.7421 135,225.9001 \" fill=\"none\" id=\"E7-&gt;E2\" style=\"stroke: #A80036; stroke-width: 1.0;\"/><polygon fill=\"#FFFFFF\" points=\"135,225.9001,142,206.9001,128,206.9001,135,225.9001\" style=\"stroke: #A80036; stroke-width: 1.0;\"/></a><!--MD5=[95fa686b5a16158bcdbcaeead89f639b]\n",
       "link E8 to E3--><a href=\"psysml:5971ddfa-8dbb-4825-a025-1d0848bb696d\" target=\"_top\" title=\"psysml:5971ddfa-8dbb-4825-a025-1d0848bb696d\" xlink:actuate=\"onRequest\" xlink:href=\"psysml:5971ddfa-8dbb-4825-a025-1d0848bb696d\" xlink:show=\"new\" xlink:title=\"psysml:5971ddfa-8dbb-4825-a025-1d0848bb696d\" xlink:type=\"simple\"><path d=\"M224.06,162.09 C234.74,175.57 248.24,193.36 259,210 C270.79,228.22 282.5,249.28 291.91,267.1 \" fill=\"none\" id=\"E8-&gt;E3\" style=\"stroke: #A80036; stroke-width: 1.0;\"/><polygon fill=\"#FFFFFF\" points=\"301.11,284.89,286.1673,271.2256,298.6042,264.7972,301.11,284.89\" style=\"stroke: #A80036; stroke-width: 1.0;\"/><line style=\"stroke: #A80036; stroke-width: 2.0;\" x1=\"284.4225\" x2=\"296.8594\" y1=\"267.8499\" y2=\"261.4215\"/></a><!--MD5=[ab37bbec62afc95ea281ce0585b86809]\n",
       "@startuml\r\n",
       "skinparam ranksep 10\r\n",
       "skinparam rectangle {\r\n",
       " backgroundColor<<block>> LightGreen\r\n",
       "}\r\n",
       "skinparam wrapWidth 300\r\n",
       "hide circle\r\n",
       "\r\n",
       "package \"DefaultValueTest\" as E1  [[psysml:e269850e-1dc2-4cd5-af8e-eb4ea9f30c1b ]]  {\r\n",
       "rec def \"V\" as E2  <<(T,blue) part def>> [[psysml:e7bf9c65-3f81-4ba3-bb8e-9b75385edfca ]] {\r\n",
       "comp usage \"m\" as E3  <<(T,blue) attribute>> [[psysml:a2ea0978-930d-4f5d-93d2-d64a4094d2a2 ]] {\r\n",
       "}\r\n",
       "comp usage \"n\" as E4  <<(T,blue) attribute>> [[psysml:d2e7553d-8e48-4fb7-896c-b23e6ced71f4 ]] {\r\n",
       "}\r\n",
       "}\r\n",
       "rec usage \"v1: V\" as E5  [[psysml:f1f60863-7632-47b0-830a-21cb33ae86b3 ]] {\r\n",
       "comp usage \"m\" as E6  <<(T,blue) attribute>> [[psysml:851c4b2c-147d-4a79-885c-670825576d73 ]] {\r\n",
       "}\r\n",
       "}\r\n",
       "rec def \"W\" as E7  <<(T,blue) part def>> [[psysml:92194191-781a-4f9d-991e-568f466dae89 ]] {\r\n",
       "comp usage \"m\" as E8  <<(T,blue) attribute>> [[psysml:82127d9e-4a29-4ac4-9705-0043f6777b4c ]] {\r\n",
       "}\r\n",
       "}\r\n",
       "rec usage \"v2= W(); \" as E9  [[psysml:12e8b862-a297-4118-9bc9-39ad14290527 ]] {\r\n",
       "}\r\n",
       "E6 - -||> E3 [[psysml:03eebbd2-05f0-47bc-92f0-0649c0e2f845 ]] \r\n",
       "E7 - -|> E2 [[psysml:80b8c15c-720d-43cf-a3f3-f1ac8ca72d6e ]] \r\n",
       "E8 - -||> E3 [[psysml:5971ddfa-8dbb-4825-a025-1d0848bb696d ]] \r\n",
       "}\r\n",
       "@enduml\r\n",
       "\n",
       "PlantUML version 1.2020.13(Sat Jun 13 12:26:38 UTC 2020)\n",
       "(EPL source distribution)\n",
       "Java Runtime: OpenJDK Runtime Environment\n",
       "JVM: OpenJDK 64-Bit Server VM\n",
       "Default Encoding: UTF-8\n",
       "Language: en\n",
       "Country: null\n",
       "--></g></svg>"
      ]
     },
     "execution_count": 26,
     "metadata": {},
     "output_type": "execute_result"
    }
   ],
   "source": [
    "%viz --style=\"STDCOLOR\" --view=\"Interconnection\" \"DefaultValueTest\""
   ]
  },
  {
   "cell_type": "code",
   "execution_count": 27,
   "id": "f8e46e47",
   "metadata": {
    "execution": {
     "iopub.execute_input": "2021-08-04T06:28:43.438686Z",
     "iopub.status.busy": "2021-08-04T06:28:43.438049Z",
     "iopub.status.idle": "2021-08-04T06:28:43.443507Z",
     "shell.execute_reply": "2021-08-04T06:28:43.443156Z"
    }
   },
   "outputs": [
    {
     "data": {
      "image/svg+xml": [
       "<?xml version=\"1.0\" encoding=\"UTF-8\" standalone=\"no\"?><svg xmlns=\"http://www.w3.org/2000/svg\" xmlns:xlink=\"http://www.w3.org/1999/xlink\" contentScriptType=\"application/ecmascript\" contentStyleType=\"text/css\" height=\"12px\" preserveAspectRatio=\"none\" style=\"width:12px;height:12px;\" version=\"1.1\" viewBox=\"0 0 12 12\" width=\"12px\" zoomAndPan=\"magnify\"><defs/><g><!--MD5=[9863325348a96a77dacc89509d8ee65e]\n",
       "@startuml\r\n",
       "skinparam ranksep 8\r\n",
       "skinparam wrapWidth 300\r\n",
       "hide circle\r\n",
       "\r\n",
       "@enduml\r\n",
       "\n",
       "PlantUML version 1.2020.13(Sat Jun 13 12:26:38 UTC 2020)\n",
       "(EPL source distribution)\n",
       "Java Runtime: OpenJDK Runtime Environment\n",
       "JVM: OpenJDK 64-Bit Server VM\n",
       "Default Encoding: UTF-8\n",
       "Language: en\n",
       "Country: null\n",
       "--></g></svg>"
      ]
     },
     "execution_count": 27,
     "metadata": {},
     "output_type": "execute_result"
    }
   ],
   "source": [
    "%viz --style=\"STDCOLOR\" --view=\"Action\" \"DefaultValueTest\""
   ]
  },
  {
   "cell_type": "code",
   "execution_count": 28,
   "id": "17903fc7",
   "metadata": {
    "execution": {
     "iopub.execute_input": "2021-08-04T06:28:43.493885Z",
     "iopub.status.busy": "2021-08-04T06:28:43.493254Z",
     "iopub.status.idle": "2021-08-04T06:28:43.550581Z",
     "shell.execute_reply": "2021-08-04T06:28:43.550168Z"
    }
   },
   "outputs": [
    {
     "data": {
      "image/svg+xml": [
       "<?xml version=\"1.0\" encoding=\"UTF-8\" standalone=\"no\"?><svg xmlns=\"http://www.w3.org/2000/svg\" xmlns:xlink=\"http://www.w3.org/1999/xlink\" contentScriptType=\"application/ecmascript\" contentStyleType=\"text/css\" height=\"261px\" preserveAspectRatio=\"none\" style=\"width:438px;height:261px;\" version=\"1.1\" viewBox=\"0 0 438 261\" width=\"438px\" zoomAndPan=\"magnify\"><defs><filter height=\"300%\" id=\"f18r2tkdw01xw1\" width=\"300%\" x=\"-1\" y=\"-1\"><feGaussianBlur result=\"blurOut\" stdDeviation=\"2.0\"/><feColorMatrix in=\"blurOut\" result=\"blurOut2\" type=\"matrix\" values=\"0 0 0 0 0 0 0 0 0 0 0 0 0 0 0 0 0 0 .4 0\"/><feOffset dx=\"4.0\" dy=\"4.0\" in=\"blurOut2\" result=\"blurOut3\"/><feBlend in=\"SourceGraphic\" in2=\"blurOut3\" mode=\"normal\"/></filter></defs><g><!--MD5=[fbc87193dbaf4d95561dea2c320d4a47]\n",
       "cluster E1--><a href=\"psysml:e269850e-1dc2-4cd5-af8e-eb4ea9f30c1b\" target=\"_top\" title=\"psysml:e269850e-1dc2-4cd5-af8e-eb4ea9f30c1b\" xlink:actuate=\"onRequest\" xlink:href=\"psysml:e269850e-1dc2-4cd5-af8e-eb4ea9f30c1b\" xlink:show=\"new\" xlink:title=\"psysml:e269850e-1dc2-4cd5-af8e-eb4ea9f30c1b\" xlink:type=\"simple\"><polygon fill=\"#FFFFFF\" filter=\"url(#f18r2tkdw01xw1)\" points=\"16,6,157,6,164,28.2969,416,28.2969,416,249,16,249,16,6\" style=\"stroke: #000000; stroke-width: 1.5;\"/><line style=\"stroke: #000000; stroke-width: 1.5;\" x1=\"16\" x2=\"164\" y1=\"28.2969\" y2=\"28.2969\"/><text fill=\"#000000\" font-family=\"sans-serif\" font-size=\"14\" font-weight=\"bold\" lengthAdjust=\"spacingAndGlyphs\" textLength=\"135\" x=\"20\" y=\"20.9951\">DefaultValueTest</text></a><!--MD5=[b4997ac47864f28c2f74865a473b2911]\n",
       "class E2--><a href=\"psysml:e7bf9c65-3f81-4ba3-bb8e-9b75385edfca\" target=\"_top\" title=\"psysml:e7bf9c65-3f81-4ba3-bb8e-9b75385edfca\" xlink:actuate=\"onRequest\" xlink:href=\"psysml:e7bf9c65-3f81-4ba3-bb8e-9b75385edfca\" xlink:show=\"new\" xlink:title=\"psysml:e7bf9c65-3f81-4ba3-bb8e-9b75385edfca\" xlink:type=\"simple\"><rect fill=\"#FEFECE\" filter=\"url(#f18r2tkdw01xw1)\" height=\"71.5469\" id=\"E2\" style=\"stroke: #A80036; stroke-width: 1.5;\" width=\"106\" x=\"212\" y=\"161\"/><text fill=\"#000000\" font-family=\"sans-serif\" font-size=\"12\" font-style=\"italic\" lengthAdjust=\"spacingAndGlyphs\" textLength=\"64\" x=\"233\" y=\"177.1387\">«part def»</text><text fill=\"#000000\" font-family=\"sans-serif\" font-size=\"12\" lengthAdjust=\"spacingAndGlyphs\" textLength=\"8\" x=\"261\" y=\"191.1074\">V</text><line style=\"stroke: #A80036; stroke-width: 1.5;\" x1=\"213\" x2=\"317\" y1=\"198.9375\" y2=\"198.9375\"/><text fill=\"#000000\" font-family=\"sans-serif\" font-size=\"11\" lengthAdjust=\"spacingAndGlyphs\" textLength=\"94\" x=\"218\" y=\"213.1479\">m=default = 10;</text><text fill=\"#000000\" font-family=\"sans-serif\" font-size=\"11\" lengthAdjust=\"spacingAndGlyphs\" textLength=\"38\" x=\"218\" y=\"225.9526\">n= 20;</text></a><!--MD5=[09b614a08d8cba4a07c9adeb5e0fee81]\n",
       "class E3--><a href=\"psysml:f1f60863-7632-47b0-830a-21cb33ae86b3\" target=\"_top\" title=\"psysml:f1f60863-7632-47b0-830a-21cb33ae86b3\" xlink:actuate=\"onRequest\" xlink:href=\"psysml:f1f60863-7632-47b0-830a-21cb33ae86b3\" xlink:show=\"new\" xlink:title=\"psysml:f1f60863-7632-47b0-830a-21cb33ae86b3\" xlink:type=\"simple\"><rect fill=\"#FEFECE\" filter=\"url(#f18r2tkdw01xw1)\" height=\"59.6875\" id=\"E3\" rx=\"10\" ry=\"10\" style=\"stroke: #A80036; stroke-width: 1.5;\" width=\"105\" x=\"294.5\" y=\"41\"/><text fill=\"#000000\" font-family=\"sans-serif\" font-size=\"12\" font-style=\"italic\" lengthAdjust=\"spacingAndGlyphs\" textLength=\"40\" x=\"327\" y=\"57.1387\">«part»</text><text fill=\"#000000\" font-family=\"sans-serif\" font-size=\"12\" lengthAdjust=\"spacingAndGlyphs\" textLength=\"30\" x=\"332\" y=\"71.1074\">v1: V</text><line style=\"stroke: #A80036; stroke-width: 1.5;\" x1=\"295.5\" x2=\"398.5\" y1=\"78.9375\" y2=\"78.9375\"/><path d=\"M302.4167,83.8542 L302.4167,93.0208 L303.3333,93.0208 L303.3333,83.8542 M306.0833,83.8542 L306.0833,93.0208 L313.4167,88.4375 L306.0833,83.8542 L307,85.2292 L312.0417,88.4375 L307,91.6458 L307,85.2292 \" fill=\"#000000\" style=\"stroke: ; stroke-width: 0.0; stroke-dasharray: ;\"/><text fill=\"#000000\" font-family=\"sans-serif\" font-size=\"11\" lengthAdjust=\"spacingAndGlyphs\" textLength=\"42\" x=\"317.5\" y=\"94.0933\">m= 20;</text><text fill=\"#000000\" font-family=\"sans-serif\" font-size=\"11\" lengthAdjust=\"spacingAndGlyphs\" text-decoration=\"line-through\" textLength=\"26\" x=\"367.5\" y=\"94.0933\">V::m</text></a><!--MD5=[ebbe1d658d1005bcc118a6aa81145e00]\n",
       "class E4--><a href=\"psysml:92194191-781a-4f9d-991e-568f466dae89\" target=\"_top\" title=\"psysml:92194191-781a-4f9d-991e-568f466dae89\" xlink:actuate=\"onRequest\" xlink:href=\"psysml:92194191-781a-4f9d-991e-568f466dae89\" xlink:show=\"new\" xlink:title=\"psysml:92194191-781a-4f9d-991e-568f466dae89\" xlink:type=\"simple\"><rect fill=\"#FEFECE\" filter=\"url(#f18r2tkdw01xw1)\" height=\"59.6875\" id=\"E4\" style=\"stroke: #A80036; stroke-width: 1.5;\" width=\"150\" x=\"109\" y=\"41\"/><text fill=\"#000000\" font-family=\"sans-serif\" font-size=\"12\" font-style=\"italic\" lengthAdjust=\"spacingAndGlyphs\" textLength=\"64\" x=\"152\" y=\"57.1387\">«part def»</text><text fill=\"#000000\" font-family=\"sans-serif\" font-size=\"12\" lengthAdjust=\"spacingAndGlyphs\" textLength=\"11\" x=\"178.5\" y=\"71.1074\">W</text><line style=\"stroke: #A80036; stroke-width: 1.5;\" x1=\"110\" x2=\"258\" y1=\"78.9375\" y2=\"78.9375\"/><path d=\"M116.9167,83.8542 L116.9167,93.0208 L117.8333,93.0208 L117.8333,83.8542 M120.5833,83.8542 L120.5833,93.0208 L127.9167,88.4375 L120.5833,83.8542 L121.5,85.2292 L126.5417,88.4375 L121.5,91.6458 L121.5,85.2292 \" fill=\"#000000\" style=\"stroke: ; stroke-width: 0.0; stroke-dasharray: ;\"/><text fill=\"#000000\" font-family=\"sans-serif\" font-size=\"11\" lengthAdjust=\"spacingAndGlyphs\" textLength=\"87\" x=\"132\" y=\"94.0933\">m=default = n;</text><text fill=\"#000000\" font-family=\"sans-serif\" font-size=\"11\" lengthAdjust=\"spacingAndGlyphs\" text-decoration=\"line-through\" textLength=\"26\" x=\"227\" y=\"94.0933\">V::m</text></a><!--MD5=[270fce915f116d4de14055a7c1d9a0f3]\n",
       "class E5--><a href=\"psysml:12e8b862-a297-4118-9bc9-39ad14290527\" target=\"_top\" title=\"psysml:12e8b862-a297-4118-9bc9-39ad14290527\" xlink:actuate=\"onRequest\" xlink:href=\"psysml:12e8b862-a297-4118-9bc9-39ad14290527\" xlink:show=\"new\" xlink:title=\"psysml:12e8b862-a297-4118-9bc9-39ad14290527\" xlink:type=\"simple\"><rect fill=\"#FEFECE\" filter=\"url(#f18r2tkdw01xw1)\" height=\"45.9375\" id=\"E5\" rx=\"10\" ry=\"10\" style=\"stroke: #A80036; stroke-width: 1.5;\" width=\"42\" x=\"32\" y=\"48\"/><text fill=\"#000000\" font-family=\"sans-serif\" font-size=\"12\" font-style=\"italic\" lengthAdjust=\"spacingAndGlyphs\" textLength=\"40\" x=\"33\" y=\"64.1387\">«part»</text><text fill=\"#000000\" font-family=\"sans-serif\" font-size=\"12\" lengthAdjust=\"spacingAndGlyphs\" textLength=\"14\" x=\"46\" y=\"78.1074\">v2</text><line style=\"stroke: #A80036; stroke-width: 1.5;\" x1=\"33\" x2=\"73\" y1=\"85.9375\" y2=\"85.9375\"/></a><!--MD5=[05d275557350bfb9b23a4ef7222b4c39]\n",
       "link E3 to E2--><a href=\"psysml:a976bee6-0dca-4565-96d2-a44c4ac1d16a\" target=\"_top\" title=\"psysml:a976bee6-0dca-4565-96d2-a44c4ac1d16a\" xlink:actuate=\"onRequest\" xlink:href=\"psysml:a976bee6-0dca-4565-96d2-a44c4ac1d16a\" xlink:show=\"new\" xlink:title=\"psysml:a976bee6-0dca-4565-96d2-a44c4ac1d16a\" xlink:type=\"simple\"><path d=\"M327.77,101.07 C319.27,113.94 309,129.46 299.26,144.2 \" fill=\"none\" id=\"E3-&gt;E2\" style=\"stroke: #A80036; stroke-width: 1.0;\"/><polygon fill=\"#FFFFFF\" points=\"288.19,160.93,292.8464,141.2242,304.5181,148.9554,288.19,160.93\" style=\"stroke: #A80036; stroke-width: 1.0;\"/><ellipse cx=\"297.6615\" cy=\"137.5766\" fill=\"#A80036\" rx=\"2\" ry=\"2\" style=\"stroke: #A80036; stroke-width: 1.0;\"/><ellipse cx=\"305.9984\" cy=\"143.0989\" fill=\"#A80036\" rx=\"2\" ry=\"2\" style=\"stroke: #A80036; stroke-width: 1.0;\"/></a><!--MD5=[185131fc0dcab0a4505a2ebe144e961b]\n",
       "link E4 to E2--><a href=\"psysml:80b8c15c-720d-43cf-a3f3-f1ac8ca72d6e\" target=\"_top\" title=\"psysml:80b8c15c-720d-43cf-a3f3-f1ac8ca72d6e\" xlink:actuate=\"onRequest\" xlink:href=\"psysml:80b8c15c-720d-43cf-a3f3-f1ac8ca72d6e\" xlink:show=\"new\" xlink:title=\"psysml:80b8c15c-720d-43cf-a3f3-f1ac8ca72d6e\" xlink:type=\"simple\"><path d=\"M202.99,101.07 C211.3,113.8 221.31,129.12 230.85,143.72 \" fill=\"none\" id=\"E4-&gt;E2\" style=\"stroke: #A80036; stroke-width: 1.0;\"/><polygon fill=\"none\" points=\"237.01,140.35,242.09,160.93,225.29,148.01,237.01,140.35\" style=\"stroke: #A80036; stroke-width: 1.0;\"/></a><!--MD5=[e4f92d2f2f1de028afc841ad50ebba93]\n",
       "@startuml\r\n",
       "skinparam wrapWidth 300\r\n",
       "hide circle\r\n",
       "\r\n",
       "package \"DefaultValueTest\" as E1  [[psysml:e269850e-1dc2-4cd5-af8e-eb4ea9f30c1b ]]  {\r\n",
       "comp def \"V\" as E2  <<(T,blue) part def>> [[psysml:e7bf9c65-3f81-4ba3-bb8e-9b75385edfca ]] {\r\n",
       "m=default = 10; \r\n",
       "n= 20; \r\n",
       "}\r\n",
       "comp usage \"v1: V\" as E3  <<(T,blue) part>> [[psysml:f1f60863-7632-47b0-830a-21cb33ae86b3 ]] {\r\n",
       "<&bar-trig> m= 20;  <s>V::m</s>\r\n",
       "}\r\n",
       "comp def \"W\" as E4  <<(T,blue) part def>> [[psysml:92194191-781a-4f9d-991e-568f466dae89 ]] {\r\n",
       "<&bar-trig> m=default = n;  <s>V::m</s>\r\n",
       "}\r\n",
       "comp usage \"v2\" as E5  <<(T,blue) part>> [[psysml:12e8b862-a297-4118-9bc9-39ad14290527 ]] {\r\n",
       "}\r\n",
       "E3 - -:|> E2 [[psysml:a976bee6-0dca-4565-96d2-a44c4ac1d16a ]] \r\n",
       "E4 - -|> E2 [[psysml:80b8c15c-720d-43cf-a3f3-f1ac8ca72d6e ]] \r\n",
       "}\r\n",
       "@enduml\r\n",
       "\n",
       "PlantUML version 1.2020.13(Sat Jun 13 12:26:38 UTC 2020)\n",
       "(EPL source distribution)\n",
       "Java Runtime: OpenJDK Runtime Environment\n",
       "JVM: OpenJDK 64-Bit Server VM\n",
       "Default Encoding: UTF-8\n",
       "Language: en\n",
       "Country: null\n",
       "--></g></svg>"
      ]
     },
     "execution_count": 28,
     "metadata": {},
     "output_type": "execute_result"
    }
   ],
   "source": [
    "%viz --style=\"STDCOLOR\" --view=\"Sequence\" \"DefaultValueTest\""
   ]
  },
  {
   "cell_type": "code",
   "execution_count": 29,
   "id": "858d06a0",
   "metadata": {
    "execution": {
     "iopub.execute_input": "2021-08-04T06:28:43.600662Z",
     "iopub.status.busy": "2021-08-04T06:28:43.599996Z",
     "iopub.status.idle": "2021-08-04T06:28:43.656775Z",
     "shell.execute_reply": "2021-08-04T06:28:43.656353Z"
    }
   },
   "outputs": [
    {
     "data": {
      "image/svg+xml": [
       "<?xml version=\"1.0\" encoding=\"UTF-8\" standalone=\"no\"?><svg xmlns=\"http://www.w3.org/2000/svg\" xmlns:xlink=\"http://www.w3.org/1999/xlink\" contentScriptType=\"application/ecmascript\" contentStyleType=\"text/css\" height=\"261px\" preserveAspectRatio=\"none\" style=\"width:438px;height:261px;\" version=\"1.1\" viewBox=\"0 0 438 261\" width=\"438px\" zoomAndPan=\"magnify\"><defs><filter height=\"300%\" id=\"f18r2tkdw01xw1\" width=\"300%\" x=\"-1\" y=\"-1\"><feGaussianBlur result=\"blurOut\" stdDeviation=\"2.0\"/><feColorMatrix in=\"blurOut\" result=\"blurOut2\" type=\"matrix\" values=\"0 0 0 0 0 0 0 0 0 0 0 0 0 0 0 0 0 0 .4 0\"/><feOffset dx=\"4.0\" dy=\"4.0\" in=\"blurOut2\" result=\"blurOut3\"/><feBlend in=\"SourceGraphic\" in2=\"blurOut3\" mode=\"normal\"/></filter></defs><g><!--MD5=[fbc87193dbaf4d95561dea2c320d4a47]\n",
       "cluster E1--><a href=\"psysml:e269850e-1dc2-4cd5-af8e-eb4ea9f30c1b\" target=\"_top\" title=\"psysml:e269850e-1dc2-4cd5-af8e-eb4ea9f30c1b\" xlink:actuate=\"onRequest\" xlink:href=\"psysml:e269850e-1dc2-4cd5-af8e-eb4ea9f30c1b\" xlink:show=\"new\" xlink:title=\"psysml:e269850e-1dc2-4cd5-af8e-eb4ea9f30c1b\" xlink:type=\"simple\"><polygon fill=\"#FFFFFF\" filter=\"url(#f18r2tkdw01xw1)\" points=\"16,6,157,6,164,28.2969,416,28.2969,416,249,16,249,16,6\" style=\"stroke: #000000; stroke-width: 1.5;\"/><line style=\"stroke: #000000; stroke-width: 1.5;\" x1=\"16\" x2=\"164\" y1=\"28.2969\" y2=\"28.2969\"/><text fill=\"#000000\" font-family=\"sans-serif\" font-size=\"14\" font-weight=\"bold\" lengthAdjust=\"spacingAndGlyphs\" textLength=\"135\" x=\"20\" y=\"20.9951\">DefaultValueTest</text></a><!--MD5=[b4997ac47864f28c2f74865a473b2911]\n",
       "class E2--><a href=\"psysml:e7bf9c65-3f81-4ba3-bb8e-9b75385edfca\" target=\"_top\" title=\"psysml:e7bf9c65-3f81-4ba3-bb8e-9b75385edfca\" xlink:actuate=\"onRequest\" xlink:href=\"psysml:e7bf9c65-3f81-4ba3-bb8e-9b75385edfca\" xlink:show=\"new\" xlink:title=\"psysml:e7bf9c65-3f81-4ba3-bb8e-9b75385edfca\" xlink:type=\"simple\"><rect fill=\"#FEFECE\" filter=\"url(#f18r2tkdw01xw1)\" height=\"71.5469\" id=\"E2\" style=\"stroke: #A80036; stroke-width: 1.5;\" width=\"106\" x=\"212\" y=\"161\"/><text fill=\"#000000\" font-family=\"sans-serif\" font-size=\"12\" font-style=\"italic\" lengthAdjust=\"spacingAndGlyphs\" textLength=\"64\" x=\"233\" y=\"177.1387\">«part def»</text><text fill=\"#000000\" font-family=\"sans-serif\" font-size=\"12\" lengthAdjust=\"spacingAndGlyphs\" textLength=\"8\" x=\"261\" y=\"191.1074\">V</text><line style=\"stroke: #A80036; stroke-width: 1.5;\" x1=\"213\" x2=\"317\" y1=\"198.9375\" y2=\"198.9375\"/><text fill=\"#000000\" font-family=\"sans-serif\" font-size=\"11\" lengthAdjust=\"spacingAndGlyphs\" textLength=\"94\" x=\"218\" y=\"213.1479\">m=default = 10;</text><text fill=\"#000000\" font-family=\"sans-serif\" font-size=\"11\" lengthAdjust=\"spacingAndGlyphs\" textLength=\"38\" x=\"218\" y=\"225.9526\">n= 20;</text></a><!--MD5=[09b614a08d8cba4a07c9adeb5e0fee81]\n",
       "class E3--><a href=\"psysml:f1f60863-7632-47b0-830a-21cb33ae86b3\" target=\"_top\" title=\"psysml:f1f60863-7632-47b0-830a-21cb33ae86b3\" xlink:actuate=\"onRequest\" xlink:href=\"psysml:f1f60863-7632-47b0-830a-21cb33ae86b3\" xlink:show=\"new\" xlink:title=\"psysml:f1f60863-7632-47b0-830a-21cb33ae86b3\" xlink:type=\"simple\"><rect fill=\"#FEFECE\" filter=\"url(#f18r2tkdw01xw1)\" height=\"59.6875\" id=\"E3\" rx=\"10\" ry=\"10\" style=\"stroke: #A80036; stroke-width: 1.5;\" width=\"105\" x=\"294.5\" y=\"41\"/><text fill=\"#000000\" font-family=\"sans-serif\" font-size=\"12\" font-style=\"italic\" lengthAdjust=\"spacingAndGlyphs\" textLength=\"40\" x=\"327\" y=\"57.1387\">«part»</text><text fill=\"#000000\" font-family=\"sans-serif\" font-size=\"12\" lengthAdjust=\"spacingAndGlyphs\" textLength=\"30\" x=\"332\" y=\"71.1074\">v1: V</text><line style=\"stroke: #A80036; stroke-width: 1.5;\" x1=\"295.5\" x2=\"398.5\" y1=\"78.9375\" y2=\"78.9375\"/><path d=\"M302.4167,83.8542 L302.4167,93.0208 L303.3333,93.0208 L303.3333,83.8542 M306.0833,83.8542 L306.0833,93.0208 L313.4167,88.4375 L306.0833,83.8542 L307,85.2292 L312.0417,88.4375 L307,91.6458 L307,85.2292 \" fill=\"#000000\" style=\"stroke: ; stroke-width: 0.0; stroke-dasharray: ;\"/><text fill=\"#000000\" font-family=\"sans-serif\" font-size=\"11\" lengthAdjust=\"spacingAndGlyphs\" textLength=\"42\" x=\"317.5\" y=\"94.0933\">m= 20;</text><text fill=\"#000000\" font-family=\"sans-serif\" font-size=\"11\" lengthAdjust=\"spacingAndGlyphs\" text-decoration=\"line-through\" textLength=\"26\" x=\"367.5\" y=\"94.0933\">V::m</text></a><!--MD5=[ebbe1d658d1005bcc118a6aa81145e00]\n",
       "class E4--><a href=\"psysml:92194191-781a-4f9d-991e-568f466dae89\" target=\"_top\" title=\"psysml:92194191-781a-4f9d-991e-568f466dae89\" xlink:actuate=\"onRequest\" xlink:href=\"psysml:92194191-781a-4f9d-991e-568f466dae89\" xlink:show=\"new\" xlink:title=\"psysml:92194191-781a-4f9d-991e-568f466dae89\" xlink:type=\"simple\"><rect fill=\"#FEFECE\" filter=\"url(#f18r2tkdw01xw1)\" height=\"59.6875\" id=\"E4\" style=\"stroke: #A80036; stroke-width: 1.5;\" width=\"150\" x=\"109\" y=\"41\"/><text fill=\"#000000\" font-family=\"sans-serif\" font-size=\"12\" font-style=\"italic\" lengthAdjust=\"spacingAndGlyphs\" textLength=\"64\" x=\"152\" y=\"57.1387\">«part def»</text><text fill=\"#000000\" font-family=\"sans-serif\" font-size=\"12\" lengthAdjust=\"spacingAndGlyphs\" textLength=\"11\" x=\"178.5\" y=\"71.1074\">W</text><line style=\"stroke: #A80036; stroke-width: 1.5;\" x1=\"110\" x2=\"258\" y1=\"78.9375\" y2=\"78.9375\"/><path d=\"M116.9167,83.8542 L116.9167,93.0208 L117.8333,93.0208 L117.8333,83.8542 M120.5833,83.8542 L120.5833,93.0208 L127.9167,88.4375 L120.5833,83.8542 L121.5,85.2292 L126.5417,88.4375 L121.5,91.6458 L121.5,85.2292 \" fill=\"#000000\" style=\"stroke: ; stroke-width: 0.0; stroke-dasharray: ;\"/><text fill=\"#000000\" font-family=\"sans-serif\" font-size=\"11\" lengthAdjust=\"spacingAndGlyphs\" textLength=\"87\" x=\"132\" y=\"94.0933\">m=default = n;</text><text fill=\"#000000\" font-family=\"sans-serif\" font-size=\"11\" lengthAdjust=\"spacingAndGlyphs\" text-decoration=\"line-through\" textLength=\"26\" x=\"227\" y=\"94.0933\">V::m</text></a><!--MD5=[270fce915f116d4de14055a7c1d9a0f3]\n",
       "class E5--><a href=\"psysml:12e8b862-a297-4118-9bc9-39ad14290527\" target=\"_top\" title=\"psysml:12e8b862-a297-4118-9bc9-39ad14290527\" xlink:actuate=\"onRequest\" xlink:href=\"psysml:12e8b862-a297-4118-9bc9-39ad14290527\" xlink:show=\"new\" xlink:title=\"psysml:12e8b862-a297-4118-9bc9-39ad14290527\" xlink:type=\"simple\"><rect fill=\"#FEFECE\" filter=\"url(#f18r2tkdw01xw1)\" height=\"45.9375\" id=\"E5\" rx=\"10\" ry=\"10\" style=\"stroke: #A80036; stroke-width: 1.5;\" width=\"42\" x=\"32\" y=\"48\"/><text fill=\"#000000\" font-family=\"sans-serif\" font-size=\"12\" font-style=\"italic\" lengthAdjust=\"spacingAndGlyphs\" textLength=\"40\" x=\"33\" y=\"64.1387\">«part»</text><text fill=\"#000000\" font-family=\"sans-serif\" font-size=\"12\" lengthAdjust=\"spacingAndGlyphs\" textLength=\"14\" x=\"46\" y=\"78.1074\">v2</text><line style=\"stroke: #A80036; stroke-width: 1.5;\" x1=\"33\" x2=\"73\" y1=\"85.9375\" y2=\"85.9375\"/></a><!--MD5=[05d275557350bfb9b23a4ef7222b4c39]\n",
       "link E3 to E2--><a href=\"psysml:a976bee6-0dca-4565-96d2-a44c4ac1d16a\" target=\"_top\" title=\"psysml:a976bee6-0dca-4565-96d2-a44c4ac1d16a\" xlink:actuate=\"onRequest\" xlink:href=\"psysml:a976bee6-0dca-4565-96d2-a44c4ac1d16a\" xlink:show=\"new\" xlink:title=\"psysml:a976bee6-0dca-4565-96d2-a44c4ac1d16a\" xlink:type=\"simple\"><path d=\"M327.77,101.07 C319.27,113.94 309,129.46 299.26,144.2 \" fill=\"none\" id=\"E3-&gt;E2\" style=\"stroke: #A80036; stroke-width: 1.0;\"/><polygon fill=\"#FFFFFF\" points=\"288.19,160.93,292.8464,141.2242,304.5181,148.9554,288.19,160.93\" style=\"stroke: #A80036; stroke-width: 1.0;\"/><ellipse cx=\"297.6615\" cy=\"137.5766\" fill=\"#A80036\" rx=\"2\" ry=\"2\" style=\"stroke: #A80036; stroke-width: 1.0;\"/><ellipse cx=\"305.9984\" cy=\"143.0989\" fill=\"#A80036\" rx=\"2\" ry=\"2\" style=\"stroke: #A80036; stroke-width: 1.0;\"/></a><!--MD5=[185131fc0dcab0a4505a2ebe144e961b]\n",
       "link E4 to E2--><a href=\"psysml:80b8c15c-720d-43cf-a3f3-f1ac8ca72d6e\" target=\"_top\" title=\"psysml:80b8c15c-720d-43cf-a3f3-f1ac8ca72d6e\" xlink:actuate=\"onRequest\" xlink:href=\"psysml:80b8c15c-720d-43cf-a3f3-f1ac8ca72d6e\" xlink:show=\"new\" xlink:title=\"psysml:80b8c15c-720d-43cf-a3f3-f1ac8ca72d6e\" xlink:type=\"simple\"><path d=\"M202.99,101.07 C211.3,113.8 221.31,129.12 230.85,143.72 \" fill=\"none\" id=\"E4-&gt;E2\" style=\"stroke: #A80036; stroke-width: 1.0;\"/><polygon fill=\"none\" points=\"237.01,140.35,242.09,160.93,225.29,148.01,237.01,140.35\" style=\"stroke: #A80036; stroke-width: 1.0;\"/></a><!--MD5=[e4f92d2f2f1de028afc841ad50ebba93]\n",
       "@startuml\r\n",
       "skinparam wrapWidth 300\r\n",
       "hide circle\r\n",
       "\r\n",
       "package \"DefaultValueTest\" as E1  [[psysml:e269850e-1dc2-4cd5-af8e-eb4ea9f30c1b ]]  {\r\n",
       "comp def \"V\" as E2  <<(T,blue) part def>> [[psysml:e7bf9c65-3f81-4ba3-bb8e-9b75385edfca ]] {\r\n",
       "m=default = 10; \r\n",
       "n= 20; \r\n",
       "}\r\n",
       "comp usage \"v1: V\" as E3  <<(T,blue) part>> [[psysml:f1f60863-7632-47b0-830a-21cb33ae86b3 ]] {\r\n",
       "<&bar-trig> m= 20;  <s>V::m</s>\r\n",
       "}\r\n",
       "comp def \"W\" as E4  <<(T,blue) part def>> [[psysml:92194191-781a-4f9d-991e-568f466dae89 ]] {\r\n",
       "<&bar-trig> m=default = n;  <s>V::m</s>\r\n",
       "}\r\n",
       "comp usage \"v2\" as E5  <<(T,blue) part>> [[psysml:12e8b862-a297-4118-9bc9-39ad14290527 ]] {\r\n",
       "}\r\n",
       "E3 - -:|> E2 [[psysml:a976bee6-0dca-4565-96d2-a44c4ac1d16a ]] \r\n",
       "E4 - -|> E2 [[psysml:80b8c15c-720d-43cf-a3f3-f1ac8ca72d6e ]] \r\n",
       "}\r\n",
       "@enduml\r\n",
       "\n",
       "PlantUML version 1.2020.13(Sat Jun 13 12:26:38 UTC 2020)\n",
       "(EPL source distribution)\n",
       "Java Runtime: OpenJDK Runtime Environment\n",
       "JVM: OpenJDK 64-Bit Server VM\n",
       "Default Encoding: UTF-8\n",
       "Language: en\n",
       "Country: null\n",
       "--></g></svg>"
      ]
     },
     "execution_count": 29,
     "metadata": {},
     "output_type": "execute_result"
    }
   ],
   "source": [
    "%viz --style=\"STDCOLOR\" --view=\"MIXED\" \"DefaultValueTest\""
   ]
  },
  {
   "cell_type": "code",
   "execution_count": 30,
   "id": "1c7a7710",
   "metadata": {
    "execution": {
     "iopub.execute_input": "2021-08-04T06:28:43.706644Z",
     "iopub.status.busy": "2021-08-04T06:28:43.706024Z",
     "iopub.status.idle": "2021-08-04T06:28:43.774519Z",
     "shell.execute_reply": "2021-08-04T06:28:43.773439Z"
    }
   },
   "outputs": [
    {
     "data": {
      "image/svg+xml": [
       "<?xml version=\"1.0\" encoding=\"UTF-8\" standalone=\"no\"?><svg xmlns=\"http://www.w3.org/2000/svg\" xmlns:xlink=\"http://www.w3.org/1999/xlink\" contentScriptType=\"application/ecmascript\" contentStyleType=\"text/css\" height=\"267px\" preserveAspectRatio=\"none\" style=\"width:380px;height:267px;\" version=\"1.1\" viewBox=\"0 0 380 267\" width=\"380px\" zoomAndPan=\"magnify\"><defs><filter height=\"300%\" id=\"f11fj08r1j7muy\" width=\"300%\" x=\"-1\" y=\"-1\"><feGaussianBlur result=\"blurOut\" stdDeviation=\"2.0\"/><feColorMatrix in=\"blurOut\" result=\"blurOut2\" type=\"matrix\" values=\"0 0 0 0 0 0 0 0 0 0 0 0 0 0 0 0 0 0 .4 0\"/><feOffset dx=\"4.0\" dy=\"4.0\" in=\"blurOut2\" result=\"blurOut3\"/><feBlend in=\"SourceGraphic\" in2=\"blurOut3\" mode=\"normal\"/></filter></defs><g><!--MD5=[fbc87193dbaf4d95561dea2c320d4a47]\n",
       "cluster E1--><a href=\"psysml:e269850e-1dc2-4cd5-af8e-eb4ea9f30c1b\" target=\"_top\" title=\"psysml:e269850e-1dc2-4cd5-af8e-eb4ea9f30c1b\" xlink:actuate=\"onRequest\" xlink:href=\"psysml:e269850e-1dc2-4cd5-af8e-eb4ea9f30c1b\" xlink:show=\"new\" xlink:title=\"psysml:e269850e-1dc2-4cd5-af8e-eb4ea9f30c1b\" xlink:type=\"simple\"><polygon fill=\"#FFFFFF\" filter=\"url(#f11fj08r1j7muy)\" points=\"16,6,157,6,164,28.2969,358,28.2969,358,255,16,255,16,6\" style=\"stroke: #000000; stroke-width: 1.5;\"/><line style=\"stroke: #000000; stroke-width: 1.5;\" x1=\"16\" x2=\"164\" y1=\"28.2969\" y2=\"28.2969\"/><text fill=\"#000000\" font-family=\"sans-serif\" font-size=\"14\" font-weight=\"bold\" lengthAdjust=\"spacingAndGlyphs\" textLength=\"135\" x=\"20\" y=\"20.9951\">DefaultValueTest</text></a><!--MD5=[b4997ac47864f28c2f74865a473b2911]\n",
       "class E2--><a href=\"psysml:e7bf9c65-3f81-4ba3-bb8e-9b75385edfca\" target=\"_top\" title=\"psysml:e7bf9c65-3f81-4ba3-bb8e-9b75385edfca\" xlink:actuate=\"onRequest\" xlink:href=\"psysml:e7bf9c65-3f81-4ba3-bb8e-9b75385edfca\" xlink:show=\"new\" xlink:title=\"psysml:e7bf9c65-3f81-4ba3-bb8e-9b75385edfca\" xlink:type=\"simple\"><rect fill=\"#FEFECE\" filter=\"url(#f11fj08r1j7muy)\" height=\"65.6094\" id=\"E2\" style=\"stroke: #A80036; stroke-width: 1.5;\" width=\"106\" x=\"185\" y=\"173\"/><ellipse cx=\"229.75\" cy=\"189\" fill=\"#008000\" rx=\"11\" ry=\"11\" style=\"stroke: #A80036; stroke-width: 1.0;\"/><path d=\"M228.6563,189.375 L228.6563,193.0469 L230.2813,193.0469 Q231.4531,193.0469 231.9219,192.6563 Q232.3906,192.25 232.3906,191.25 Q232.3906,190.25 231.8906,189.8125 Q231.4063,189.375 230.2813,189.375 L228.6563,189.375 Z M228.6563,184.5469 L228.6563,187.4219 L230.2813,187.4219 Q231.2031,187.4219 231.5938,187.0938 Q232,186.75 232,186 Q232,185.2344 231.5938,184.8906 Q231.1875,184.5469 230.2813,184.5469 L228.6563,184.5469 Z M226.2813,182.5938 L230.2813,182.5938 Q232.3438,182.5938 233.3906,183.375 Q234.4375,184.1563 234.4375,185.7188 Q234.4375,186.9219 233.8125,187.5938 Q233.2031,188.2656 232.0156,188.375 Q233.4375,188.5156 234.1563,189.3281 Q234.875,190.1406 234.875,191.5938 Q234.875,193.3906 233.7969,194.2031 Q232.7188,195 230.2813,195 L226.2813,195 L226.2813,182.5938 Z \"/><text fill=\"#000000\" font-family=\"sans-serif\" font-size=\"12\" lengthAdjust=\"spacingAndGlyphs\" textLength=\"8\" x=\"250.25\" y=\"193.1543\">V</text><line style=\"stroke: #A80036; stroke-width: 1.5;\" x1=\"186\" x2=\"290\" y1=\"205\" y2=\"205\"/><text fill=\"#000000\" font-family=\"sans-serif\" font-size=\"11\" lengthAdjust=\"spacingAndGlyphs\" textLength=\"94\" x=\"191\" y=\"219.2104\">m=default = 10;</text><text fill=\"#000000\" font-family=\"sans-serif\" font-size=\"11\" lengthAdjust=\"spacingAndGlyphs\" textLength=\"38\" x=\"191\" y=\"232.0151\">n= 20;</text></a><!--MD5=[09b614a08d8cba4a07c9adeb5e0fee81]\n",
       "class E3--><a href=\"psysml:f1f60863-7632-47b0-830a-21cb33ae86b3\" target=\"_top\" title=\"psysml:f1f60863-7632-47b0-830a-21cb33ae86b3\" xlink:actuate=\"onRequest\" xlink:href=\"psysml:f1f60863-7632-47b0-830a-21cb33ae86b3\" xlink:show=\"new\" xlink:title=\"psysml:f1f60863-7632-47b0-830a-21cb33ae86b3\" xlink:type=\"simple\"><rect fill=\"#FEFECE\" filter=\"url(#f11fj08r1j7muy)\" height=\"71.5469\" id=\"E3\" rx=\"10\" ry=\"10\" style=\"stroke: #A80036; stroke-width: 1.5;\" width=\"68\" x=\"274\" y=\"41\"/><ellipse cx=\"289\" cy=\"59.9688\" fill=\"#32CD32\" rx=\"11\" ry=\"11\" style=\"stroke: #A80036; stroke-width: 1.0;\"/><path d=\"M288.7969,55.6406 L288.7969,59.2656 L289.7969,59.2656 Q291,59.2656 291.4844,58.8594 Q291.9688,58.4531 291.9688,57.4531 Q291.9688,56.4531 291.4844,56.0469 Q291,55.6406 289.7969,55.6406 L288.7969,55.6406 Z M286.3438,53.5781 L289.7031,53.5781 Q292.2656,53.5781 293.3906,54.5 Q294.5156,55.4063 294.5156,57.4531 Q294.5156,59.5 293.3906,60.4219 Q292.2656,61.3281 289.7031,61.3281 L288.7969,61.3281 L288.7969,65.9688 L286.3438,65.9688 L286.3438,53.5781 Z \"/><text fill=\"#000000\" font-family=\"sans-serif\" font-size=\"12\" font-style=\"italic\" lengthAdjust=\"spacingAndGlyphs\" textLength=\"40\" x=\"301\" y=\"57.1387\">«part»</text><text fill=\"#000000\" font-family=\"sans-serif\" font-size=\"12\" lengthAdjust=\"spacingAndGlyphs\" textLength=\"30\" x=\"306\" y=\"71.1074\">v1: V</text><line style=\"stroke: #A80036; stroke-width: 1.5;\" x1=\"275\" x2=\"341\" y1=\"78.9375\" y2=\"78.9375\"/><text fill=\"#000000\" font-family=\"sans-serif\" font-size=\"11\" lengthAdjust=\"spacingAndGlyphs\" textLength=\"42\" x=\"280\" y=\"93.1479\">m= 20;</text><text fill=\"#000000\" font-family=\"sans-serif\" font-size=\"11\" font-style=\"italic\" lengthAdjust=\"spacingAndGlyphs\" textLength=\"48\" x=\"280\" y=\"105.9526\">:&gt;&gt;V::m</text></a><!--MD5=[ebbe1d658d1005bcc118a6aa81145e00]\n",
       "class E4--><a href=\"psysml:92194191-781a-4f9d-991e-568f466dae89\" target=\"_top\" title=\"psysml:92194191-781a-4f9d-991e-568f466dae89\" xlink:actuate=\"onRequest\" xlink:href=\"psysml:92194191-781a-4f9d-991e-568f466dae89\" xlink:show=\"new\" xlink:title=\"psysml:92194191-781a-4f9d-991e-568f466dae89\" xlink:type=\"simple\"><rect fill=\"#FEFECE\" filter=\"url(#f11fj08r1j7muy)\" height=\"65.6094\" id=\"E4\" style=\"stroke: #A80036; stroke-width: 1.5;\" width=\"103\" x=\"135.5\" y=\"44\"/><ellipse cx=\"177.5\" cy=\"60\" fill=\"#008000\" rx=\"11\" ry=\"11\" style=\"stroke: #A80036; stroke-width: 1.0;\"/><path d=\"M176.4063,60.375 L176.4063,64.0469 L178.0313,64.0469 Q179.2031,64.0469 179.6719,63.6563 Q180.1406,63.25 180.1406,62.25 Q180.1406,61.25 179.6406,60.8125 Q179.1563,60.375 178.0313,60.375 L176.4063,60.375 Z M176.4063,55.5469 L176.4063,58.4219 L178.0313,58.4219 Q178.9531,58.4219 179.3438,58.0938 Q179.75,57.75 179.75,57 Q179.75,56.2344 179.3438,55.8906 Q178.9375,55.5469 178.0313,55.5469 L176.4063,55.5469 Z M174.0313,53.5938 L178.0313,53.5938 Q180.0938,53.5938 181.1406,54.375 Q182.1875,55.1563 182.1875,56.7188 Q182.1875,57.9219 181.5625,58.5938 Q180.9531,59.2656 179.7656,59.375 Q181.1875,59.5156 181.9063,60.3281 Q182.625,61.1406 182.625,62.5938 Q182.625,64.3906 181.5469,65.2031 Q180.4688,66 178.0313,66 L174.0313,66 L174.0313,53.5938 Z \"/><text fill=\"#000000\" font-family=\"sans-serif\" font-size=\"12\" lengthAdjust=\"spacingAndGlyphs\" textLength=\"11\" x=\"197.5\" y=\"64.1543\">W</text><line style=\"stroke: #A80036; stroke-width: 1.5;\" x1=\"136.5\" x2=\"237.5\" y1=\"76\" y2=\"76\"/><text fill=\"#000000\" font-family=\"sans-serif\" font-size=\"11\" lengthAdjust=\"spacingAndGlyphs\" textLength=\"87\" x=\"141.5\" y=\"90.2104\">m=default = n;</text><text fill=\"#000000\" font-family=\"sans-serif\" font-size=\"11\" font-style=\"italic\" lengthAdjust=\"spacingAndGlyphs\" textLength=\"48\" x=\"141.5\" y=\"103.0151\">:&gt;&gt;V::m</text></a><!--MD5=[270fce915f116d4de14055a7c1d9a0f3]\n",
       "class E5--><a href=\"psysml:12e8b862-a297-4118-9bc9-39ad14290527\" target=\"_top\" title=\"psysml:12e8b862-a297-4118-9bc9-39ad14290527\" xlink:actuate=\"onRequest\" xlink:href=\"psysml:12e8b862-a297-4118-9bc9-39ad14290527\" xlink:show=\"new\" xlink:title=\"psysml:12e8b862-a297-4118-9bc9-39ad14290527\" xlink:type=\"simple\"><rect fill=\"#FEFECE\" filter=\"url(#f11fj08r1j7muy)\" height=\"45.9375\" id=\"E5\" rx=\"10\" ry=\"10\" style=\"stroke: #A80036; stroke-width: 1.5;\" width=\"68\" x=\"32\" y=\"54\"/><ellipse cx=\"47\" cy=\"72.9688\" fill=\"#32CD32\" rx=\"11\" ry=\"11\" style=\"stroke: #A80036; stroke-width: 1.0;\"/><path d=\"M46.7969,68.6406 L46.7969,72.2656 L47.7969,72.2656 Q49,72.2656 49.4844,71.8594 Q49.9688,71.4531 49.9688,70.4531 Q49.9688,69.4531 49.4844,69.0469 Q49,68.6406 47.7969,68.6406 L46.7969,68.6406 Z M44.3438,66.5781 L47.7031,66.5781 Q50.2656,66.5781 51.3906,67.5 Q52.5156,68.4063 52.5156,70.4531 Q52.5156,72.5 51.3906,73.4219 Q50.2656,74.3281 47.7031,74.3281 L46.7969,74.3281 L46.7969,78.9688 L44.3438,78.9688 L44.3438,66.5781 Z \"/><text fill=\"#000000\" font-family=\"sans-serif\" font-size=\"12\" font-style=\"italic\" lengthAdjust=\"spacingAndGlyphs\" textLength=\"40\" x=\"59\" y=\"70.1387\">«part»</text><text fill=\"#000000\" font-family=\"sans-serif\" font-size=\"12\" lengthAdjust=\"spacingAndGlyphs\" textLength=\"14\" x=\"72\" y=\"84.1074\">v2</text><line style=\"stroke: #A80036; stroke-width: 1.5;\" x1=\"33\" x2=\"99\" y1=\"91.9375\" y2=\"91.9375\"/></a><!--MD5=[05d275557350bfb9b23a4ef7222b4c39]\n",
       "link E3 to E2--><a href=\"psysml:a976bee6-0dca-4565-96d2-a44c4ac1d16a\" target=\"_top\" title=\"psysml:a976bee6-0dca-4565-96d2-a44c4ac1d16a\" xlink:actuate=\"onRequest\" xlink:href=\"psysml:a976bee6-0dca-4565-96d2-a44c4ac1d16a\" xlink:show=\"new\" xlink:title=\"psysml:a976bee6-0dca-4565-96d2-a44c4ac1d16a\" xlink:type=\"simple\"><path d=\"M288.69,113.04 C281.54,126.01 273.29,140.97 265.55,155.01 \" fill=\"none\" id=\"E3-&gt;E2\" style=\"stroke: #A80036; stroke-width: 1.0;\"/><polygon fill=\"#FFFFFF\" points=\"255.81,172.69,258.8473,152.6706,271.1095,159.4263,255.81,172.69\" style=\"stroke: #A80036; stroke-width: 1.0;\"/><ellipse cx=\"263.3496\" cy=\"148.6433\" fill=\"#A80036\" rx=\"2\" ry=\"2\" style=\"stroke: #A80036; stroke-width: 1.0;\"/><ellipse cx=\"272.1083\" cy=\"153.4688\" fill=\"#A80036\" rx=\"2\" ry=\"2\" style=\"stroke: #A80036; stroke-width: 1.0;\"/></a><!--MD5=[185131fc0dcab0a4505a2ebe144e961b]\n",
       "link E4 to E2--><a href=\"psysml:80b8c15c-720d-43cf-a3f3-f1ac8ca72d6e\" target=\"_top\" title=\"psysml:80b8c15c-720d-43cf-a3f3-f1ac8ca72d6e\" xlink:actuate=\"onRequest\" xlink:href=\"psysml:80b8c15c-720d-43cf-a3f3-f1ac8ca72d6e\" xlink:show=\"new\" xlink:title=\"psysml:80b8c15c-720d-43cf-a3f3-f1ac8ca72d6e\" xlink:type=\"simple\"><path d=\"M199.87,110.05 C205.25,123.43 211.62,139.31 217.61,154.22 \" fill=\"none\" id=\"E4-&gt;E2\" style=\"stroke: #A80036; stroke-width: 1.0;\"/><polygon fill=\"none\" points=\"224.18,151.79,225.13,172.96,211.19,157.01,224.18,151.79\" style=\"stroke: #A80036; stroke-width: 1.0;\"/></a><!--MD5=[34063d535b0325a6134a460031594d99]\n",
       "@startuml\r\n",
       " \r\n",
       "package \"DefaultValueTest\" as E1  [[psysml:e269850e-1dc2-4cd5-af8e-eb4ea9f30c1b ]]  {\r\n",
       "comp def \"V\" as E2 << << (B,green) >> [[psysml:e7bf9c65-3f81-4ba3-bb8e-9b75385edfca ]] {\r\n",
       "m=default = 10; \r\n",
       "n= 20; \r\n",
       "}\r\n",
       "comp usage \"v1: V\" as E3 << << (P,limegreen) part>> [[psysml:f1f60863-7632-47b0-830a-21cb33ae86b3 ]] {\r\n",
       "m= 20; \\n//:>>V::m// \r\n",
       "}\r\n",
       "comp def \"W\" as E4 << << (B,green) >> [[psysml:92194191-781a-4f9d-991e-568f466dae89 ]] {\r\n",
       "m=default = n; \\n//:>>V::m// \r\n",
       "}\r\n",
       "comp usage \"v2\" as E5 << << (P,limegreen) part>> [[psysml:12e8b862-a297-4118-9bc9-39ad14290527 ]] {\r\n",
       "}\r\n",
       "E3 - -:|> E2 [[psysml:a976bee6-0dca-4565-96d2-a44c4ac1d16a ]] \r\n",
       "E4 - -|> E2 [[psysml:80b8c15c-720d-43cf-a3f3-f1ac8ca72d6e ]] \r\n",
       "}\r\n",
       "@enduml\r\n",
       "\n",
       "PlantUML version 1.2020.13(Sat Jun 13 12:26:38 UTC 2020)\n",
       "(EPL source distribution)\n",
       "Java Runtime: OpenJDK Runtime Environment\n",
       "JVM: OpenJDK 64-Bit Server VM\n",
       "Default Encoding: UTF-8\n",
       "Language: en\n",
       "Country: null\n",
       "--></g></svg>"
      ]
     },
     "execution_count": 30,
     "metadata": {},
     "output_type": "execute_result"
    }
   ],
   "source": [
    "%viz --style=\"PLANTUML\" --view=\"Default\" \"DefaultValueTest\""
   ]
  },
  {
   "cell_type": "code",
   "execution_count": 31,
   "id": "8f805f20",
   "metadata": {
    "execution": {
     "iopub.execute_input": "2021-08-04T06:28:43.824220Z",
     "iopub.status.busy": "2021-08-04T06:28:43.823742Z",
     "iopub.status.idle": "2021-08-04T06:28:43.871496Z",
     "shell.execute_reply": "2021-08-04T06:28:43.871128Z"
    }
   },
   "outputs": [
    {
     "data": {
      "image/svg+xml": [
       "<?xml version=\"1.0\" encoding=\"UTF-8\" standalone=\"no\"?><svg xmlns=\"http://www.w3.org/2000/svg\" xmlns:xlink=\"http://www.w3.org/1999/xlink\" contentScriptType=\"application/ecmascript\" contentStyleType=\"text/css\" height=\"267px\" preserveAspectRatio=\"none\" style=\"width:380px;height:267px;\" version=\"1.1\" viewBox=\"0 0 380 267\" width=\"380px\" zoomAndPan=\"magnify\"><defs><filter height=\"300%\" id=\"f11fj08r1j7muy\" width=\"300%\" x=\"-1\" y=\"-1\"><feGaussianBlur result=\"blurOut\" stdDeviation=\"2.0\"/><feColorMatrix in=\"blurOut\" result=\"blurOut2\" type=\"matrix\" values=\"0 0 0 0 0 0 0 0 0 0 0 0 0 0 0 0 0 0 .4 0\"/><feOffset dx=\"4.0\" dy=\"4.0\" in=\"blurOut2\" result=\"blurOut3\"/><feBlend in=\"SourceGraphic\" in2=\"blurOut3\" mode=\"normal\"/></filter></defs><g><!--MD5=[fbc87193dbaf4d95561dea2c320d4a47]\n",
       "cluster E1--><a href=\"psysml:e269850e-1dc2-4cd5-af8e-eb4ea9f30c1b\" target=\"_top\" title=\"psysml:e269850e-1dc2-4cd5-af8e-eb4ea9f30c1b\" xlink:actuate=\"onRequest\" xlink:href=\"psysml:e269850e-1dc2-4cd5-af8e-eb4ea9f30c1b\" xlink:show=\"new\" xlink:title=\"psysml:e269850e-1dc2-4cd5-af8e-eb4ea9f30c1b\" xlink:type=\"simple\"><polygon fill=\"#FFFFFF\" filter=\"url(#f11fj08r1j7muy)\" points=\"16,6,157,6,164,28.2969,358,28.2969,358,255,16,255,16,6\" style=\"stroke: #000000; stroke-width: 1.5;\"/><line style=\"stroke: #000000; stroke-width: 1.5;\" x1=\"16\" x2=\"164\" y1=\"28.2969\" y2=\"28.2969\"/><text fill=\"#000000\" font-family=\"sans-serif\" font-size=\"14\" font-weight=\"bold\" lengthAdjust=\"spacingAndGlyphs\" textLength=\"135\" x=\"20\" y=\"20.9951\">DefaultValueTest</text></a><!--MD5=[b4997ac47864f28c2f74865a473b2911]\n",
       "class E2--><a href=\"psysml:e7bf9c65-3f81-4ba3-bb8e-9b75385edfca\" target=\"_top\" title=\"psysml:e7bf9c65-3f81-4ba3-bb8e-9b75385edfca\" xlink:actuate=\"onRequest\" xlink:href=\"psysml:e7bf9c65-3f81-4ba3-bb8e-9b75385edfca\" xlink:show=\"new\" xlink:title=\"psysml:e7bf9c65-3f81-4ba3-bb8e-9b75385edfca\" xlink:type=\"simple\"><rect fill=\"#FEFECE\" filter=\"url(#f11fj08r1j7muy)\" height=\"65.6094\" id=\"E2\" style=\"stroke: #A80036; stroke-width: 1.5;\" width=\"106\" x=\"185\" y=\"173\"/><ellipse cx=\"229.75\" cy=\"189\" fill=\"#008000\" rx=\"11\" ry=\"11\" style=\"stroke: #A80036; stroke-width: 1.0;\"/><path d=\"M228.6563,189.375 L228.6563,193.0469 L230.2813,193.0469 Q231.4531,193.0469 231.9219,192.6563 Q232.3906,192.25 232.3906,191.25 Q232.3906,190.25 231.8906,189.8125 Q231.4063,189.375 230.2813,189.375 L228.6563,189.375 Z M228.6563,184.5469 L228.6563,187.4219 L230.2813,187.4219 Q231.2031,187.4219 231.5938,187.0938 Q232,186.75 232,186 Q232,185.2344 231.5938,184.8906 Q231.1875,184.5469 230.2813,184.5469 L228.6563,184.5469 Z M226.2813,182.5938 L230.2813,182.5938 Q232.3438,182.5938 233.3906,183.375 Q234.4375,184.1563 234.4375,185.7188 Q234.4375,186.9219 233.8125,187.5938 Q233.2031,188.2656 232.0156,188.375 Q233.4375,188.5156 234.1563,189.3281 Q234.875,190.1406 234.875,191.5938 Q234.875,193.3906 233.7969,194.2031 Q232.7188,195 230.2813,195 L226.2813,195 L226.2813,182.5938 Z \"/><text fill=\"#000000\" font-family=\"sans-serif\" font-size=\"12\" lengthAdjust=\"spacingAndGlyphs\" textLength=\"8\" x=\"250.25\" y=\"193.1543\">V</text><line style=\"stroke: #A80036; stroke-width: 1.5;\" x1=\"186\" x2=\"290\" y1=\"205\" y2=\"205\"/><text fill=\"#000000\" font-family=\"sans-serif\" font-size=\"11\" lengthAdjust=\"spacingAndGlyphs\" textLength=\"94\" x=\"191\" y=\"219.2104\">m=default = 10;</text><text fill=\"#000000\" font-family=\"sans-serif\" font-size=\"11\" lengthAdjust=\"spacingAndGlyphs\" textLength=\"38\" x=\"191\" y=\"232.0151\">n= 20;</text></a><!--MD5=[09b614a08d8cba4a07c9adeb5e0fee81]\n",
       "class E3--><a href=\"psysml:f1f60863-7632-47b0-830a-21cb33ae86b3\" target=\"_top\" title=\"psysml:f1f60863-7632-47b0-830a-21cb33ae86b3\" xlink:actuate=\"onRequest\" xlink:href=\"psysml:f1f60863-7632-47b0-830a-21cb33ae86b3\" xlink:show=\"new\" xlink:title=\"psysml:f1f60863-7632-47b0-830a-21cb33ae86b3\" xlink:type=\"simple\"><rect fill=\"#FEFECE\" filter=\"url(#f11fj08r1j7muy)\" height=\"71.5469\" id=\"E3\" rx=\"10\" ry=\"10\" style=\"stroke: #A80036; stroke-width: 1.5;\" width=\"68\" x=\"274\" y=\"41\"/><ellipse cx=\"289\" cy=\"59.9688\" fill=\"#32CD32\" rx=\"11\" ry=\"11\" style=\"stroke: #A80036; stroke-width: 1.0;\"/><path d=\"M288.7969,55.6406 L288.7969,59.2656 L289.7969,59.2656 Q291,59.2656 291.4844,58.8594 Q291.9688,58.4531 291.9688,57.4531 Q291.9688,56.4531 291.4844,56.0469 Q291,55.6406 289.7969,55.6406 L288.7969,55.6406 Z M286.3438,53.5781 L289.7031,53.5781 Q292.2656,53.5781 293.3906,54.5 Q294.5156,55.4063 294.5156,57.4531 Q294.5156,59.5 293.3906,60.4219 Q292.2656,61.3281 289.7031,61.3281 L288.7969,61.3281 L288.7969,65.9688 L286.3438,65.9688 L286.3438,53.5781 Z \"/><text fill=\"#000000\" font-family=\"sans-serif\" font-size=\"12\" font-style=\"italic\" lengthAdjust=\"spacingAndGlyphs\" textLength=\"40\" x=\"301\" y=\"57.1387\">«part»</text><text fill=\"#000000\" font-family=\"sans-serif\" font-size=\"12\" lengthAdjust=\"spacingAndGlyphs\" textLength=\"30\" x=\"306\" y=\"71.1074\">v1: V</text><line style=\"stroke: #A80036; stroke-width: 1.5;\" x1=\"275\" x2=\"341\" y1=\"78.9375\" y2=\"78.9375\"/><text fill=\"#000000\" font-family=\"sans-serif\" font-size=\"11\" lengthAdjust=\"spacingAndGlyphs\" textLength=\"42\" x=\"280\" y=\"93.1479\">m= 20;</text><text fill=\"#000000\" font-family=\"sans-serif\" font-size=\"11\" font-style=\"italic\" lengthAdjust=\"spacingAndGlyphs\" textLength=\"48\" x=\"280\" y=\"105.9526\">:&gt;&gt;V::m</text></a><!--MD5=[ebbe1d658d1005bcc118a6aa81145e00]\n",
       "class E4--><a href=\"psysml:92194191-781a-4f9d-991e-568f466dae89\" target=\"_top\" title=\"psysml:92194191-781a-4f9d-991e-568f466dae89\" xlink:actuate=\"onRequest\" xlink:href=\"psysml:92194191-781a-4f9d-991e-568f466dae89\" xlink:show=\"new\" xlink:title=\"psysml:92194191-781a-4f9d-991e-568f466dae89\" xlink:type=\"simple\"><rect fill=\"#FEFECE\" filter=\"url(#f11fj08r1j7muy)\" height=\"65.6094\" id=\"E4\" style=\"stroke: #A80036; stroke-width: 1.5;\" width=\"103\" x=\"135.5\" y=\"44\"/><ellipse cx=\"177.5\" cy=\"60\" fill=\"#008000\" rx=\"11\" ry=\"11\" style=\"stroke: #A80036; stroke-width: 1.0;\"/><path d=\"M176.4063,60.375 L176.4063,64.0469 L178.0313,64.0469 Q179.2031,64.0469 179.6719,63.6563 Q180.1406,63.25 180.1406,62.25 Q180.1406,61.25 179.6406,60.8125 Q179.1563,60.375 178.0313,60.375 L176.4063,60.375 Z M176.4063,55.5469 L176.4063,58.4219 L178.0313,58.4219 Q178.9531,58.4219 179.3438,58.0938 Q179.75,57.75 179.75,57 Q179.75,56.2344 179.3438,55.8906 Q178.9375,55.5469 178.0313,55.5469 L176.4063,55.5469 Z M174.0313,53.5938 L178.0313,53.5938 Q180.0938,53.5938 181.1406,54.375 Q182.1875,55.1563 182.1875,56.7188 Q182.1875,57.9219 181.5625,58.5938 Q180.9531,59.2656 179.7656,59.375 Q181.1875,59.5156 181.9063,60.3281 Q182.625,61.1406 182.625,62.5938 Q182.625,64.3906 181.5469,65.2031 Q180.4688,66 178.0313,66 L174.0313,66 L174.0313,53.5938 Z \"/><text fill=\"#000000\" font-family=\"sans-serif\" font-size=\"12\" lengthAdjust=\"spacingAndGlyphs\" textLength=\"11\" x=\"197.5\" y=\"64.1543\">W</text><line style=\"stroke: #A80036; stroke-width: 1.5;\" x1=\"136.5\" x2=\"237.5\" y1=\"76\" y2=\"76\"/><text fill=\"#000000\" font-family=\"sans-serif\" font-size=\"11\" lengthAdjust=\"spacingAndGlyphs\" textLength=\"87\" x=\"141.5\" y=\"90.2104\">m=default = n;</text><text fill=\"#000000\" font-family=\"sans-serif\" font-size=\"11\" font-style=\"italic\" lengthAdjust=\"spacingAndGlyphs\" textLength=\"48\" x=\"141.5\" y=\"103.0151\">:&gt;&gt;V::m</text></a><!--MD5=[270fce915f116d4de14055a7c1d9a0f3]\n",
       "class E5--><a href=\"psysml:12e8b862-a297-4118-9bc9-39ad14290527\" target=\"_top\" title=\"psysml:12e8b862-a297-4118-9bc9-39ad14290527\" xlink:actuate=\"onRequest\" xlink:href=\"psysml:12e8b862-a297-4118-9bc9-39ad14290527\" xlink:show=\"new\" xlink:title=\"psysml:12e8b862-a297-4118-9bc9-39ad14290527\" xlink:type=\"simple\"><rect fill=\"#FEFECE\" filter=\"url(#f11fj08r1j7muy)\" height=\"45.9375\" id=\"E5\" rx=\"10\" ry=\"10\" style=\"stroke: #A80036; stroke-width: 1.5;\" width=\"68\" x=\"32\" y=\"54\"/><ellipse cx=\"47\" cy=\"72.9688\" fill=\"#32CD32\" rx=\"11\" ry=\"11\" style=\"stroke: #A80036; stroke-width: 1.0;\"/><path d=\"M46.7969,68.6406 L46.7969,72.2656 L47.7969,72.2656 Q49,72.2656 49.4844,71.8594 Q49.9688,71.4531 49.9688,70.4531 Q49.9688,69.4531 49.4844,69.0469 Q49,68.6406 47.7969,68.6406 L46.7969,68.6406 Z M44.3438,66.5781 L47.7031,66.5781 Q50.2656,66.5781 51.3906,67.5 Q52.5156,68.4063 52.5156,70.4531 Q52.5156,72.5 51.3906,73.4219 Q50.2656,74.3281 47.7031,74.3281 L46.7969,74.3281 L46.7969,78.9688 L44.3438,78.9688 L44.3438,66.5781 Z \"/><text fill=\"#000000\" font-family=\"sans-serif\" font-size=\"12\" font-style=\"italic\" lengthAdjust=\"spacingAndGlyphs\" textLength=\"40\" x=\"59\" y=\"70.1387\">«part»</text><text fill=\"#000000\" font-family=\"sans-serif\" font-size=\"12\" lengthAdjust=\"spacingAndGlyphs\" textLength=\"14\" x=\"72\" y=\"84.1074\">v2</text><line style=\"stroke: #A80036; stroke-width: 1.5;\" x1=\"33\" x2=\"99\" y1=\"91.9375\" y2=\"91.9375\"/></a><!--MD5=[05d275557350bfb9b23a4ef7222b4c39]\n",
       "link E3 to E2--><a href=\"psysml:a976bee6-0dca-4565-96d2-a44c4ac1d16a\" target=\"_top\" title=\"psysml:a976bee6-0dca-4565-96d2-a44c4ac1d16a\" xlink:actuate=\"onRequest\" xlink:href=\"psysml:a976bee6-0dca-4565-96d2-a44c4ac1d16a\" xlink:show=\"new\" xlink:title=\"psysml:a976bee6-0dca-4565-96d2-a44c4ac1d16a\" xlink:type=\"simple\"><path d=\"M288.69,113.04 C281.54,126.01 273.29,140.97 265.55,155.01 \" fill=\"none\" id=\"E3-&gt;E2\" style=\"stroke: #A80036; stroke-width: 1.0;\"/><polygon fill=\"#FFFFFF\" points=\"255.81,172.69,258.8473,152.6706,271.1095,159.4263,255.81,172.69\" style=\"stroke: #A80036; stroke-width: 1.0;\"/><ellipse cx=\"263.3496\" cy=\"148.6433\" fill=\"#A80036\" rx=\"2\" ry=\"2\" style=\"stroke: #A80036; stroke-width: 1.0;\"/><ellipse cx=\"272.1083\" cy=\"153.4688\" fill=\"#A80036\" rx=\"2\" ry=\"2\" style=\"stroke: #A80036; stroke-width: 1.0;\"/></a><!--MD5=[185131fc0dcab0a4505a2ebe144e961b]\n",
       "link E4 to E2--><a href=\"psysml:80b8c15c-720d-43cf-a3f3-f1ac8ca72d6e\" target=\"_top\" title=\"psysml:80b8c15c-720d-43cf-a3f3-f1ac8ca72d6e\" xlink:actuate=\"onRequest\" xlink:href=\"psysml:80b8c15c-720d-43cf-a3f3-f1ac8ca72d6e\" xlink:show=\"new\" xlink:title=\"psysml:80b8c15c-720d-43cf-a3f3-f1ac8ca72d6e\" xlink:type=\"simple\"><path d=\"M199.87,110.05 C205.25,123.43 211.62,139.31 217.61,154.22 \" fill=\"none\" id=\"E4-&gt;E2\" style=\"stroke: #A80036; stroke-width: 1.0;\"/><polygon fill=\"none\" points=\"224.18,151.79,225.13,172.96,211.19,157.01,224.18,151.79\" style=\"stroke: #A80036; stroke-width: 1.0;\"/></a><!--MD5=[34063d535b0325a6134a460031594d99]\n",
       "@startuml\r\n",
       " \r\n",
       "package \"DefaultValueTest\" as E1  [[psysml:e269850e-1dc2-4cd5-af8e-eb4ea9f30c1b ]]  {\r\n",
       "comp def \"V\" as E2 << << (B,green) >> [[psysml:e7bf9c65-3f81-4ba3-bb8e-9b75385edfca ]] {\r\n",
       "m=default = 10; \r\n",
       "n= 20; \r\n",
       "}\r\n",
       "comp usage \"v1: V\" as E3 << << (P,limegreen) part>> [[psysml:f1f60863-7632-47b0-830a-21cb33ae86b3 ]] {\r\n",
       "m= 20; \\n//:>>V::m// \r\n",
       "}\r\n",
       "comp def \"W\" as E4 << << (B,green) >> [[psysml:92194191-781a-4f9d-991e-568f466dae89 ]] {\r\n",
       "m=default = n; \\n//:>>V::m// \r\n",
       "}\r\n",
       "comp usage \"v2\" as E5 << << (P,limegreen) part>> [[psysml:12e8b862-a297-4118-9bc9-39ad14290527 ]] {\r\n",
       "}\r\n",
       "E3 - -:|> E2 [[psysml:a976bee6-0dca-4565-96d2-a44c4ac1d16a ]] \r\n",
       "E4 - -|> E2 [[psysml:80b8c15c-720d-43cf-a3f3-f1ac8ca72d6e ]] \r\n",
       "}\r\n",
       "@enduml\r\n",
       "\n",
       "PlantUML version 1.2020.13(Sat Jun 13 12:26:38 UTC 2020)\n",
       "(EPL source distribution)\n",
       "Java Runtime: OpenJDK Runtime Environment\n",
       "JVM: OpenJDK 64-Bit Server VM\n",
       "Default Encoding: UTF-8\n",
       "Language: en\n",
       "Country: null\n",
       "--></g></svg>"
      ]
     },
     "execution_count": 31,
     "metadata": {},
     "output_type": "execute_result"
    }
   ],
   "source": [
    "%viz --style=\"PLANTUML\" --view=\"Tree\" \"DefaultValueTest\""
   ]
  },
  {
   "cell_type": "code",
   "execution_count": 32,
   "id": "646616ef",
   "metadata": {
    "execution": {
     "iopub.execute_input": "2021-08-04T06:28:43.921467Z",
     "iopub.status.busy": "2021-08-04T06:28:43.920854Z",
     "iopub.status.idle": "2021-08-04T06:28:43.991227Z",
     "shell.execute_reply": "2021-08-04T06:28:43.990541Z"
    }
   },
   "outputs": [
    {
     "data": {
      "image/svg+xml": [
       "<?xml version=\"1.0\" encoding=\"UTF-8\" standalone=\"no\"?><svg xmlns=\"http://www.w3.org/2000/svg\" xmlns:xlink=\"http://www.w3.org/1999/xlink\" contentScriptType=\"application/ecmascript\" contentStyleType=\"text/css\" height=\"303px\" preserveAspectRatio=\"none\" style=\"width:603px;height:303px;background:#000000;\" version=\"1.1\" viewBox=\"0 0 603 303\" width=\"603px\" zoomAndPan=\"magnify\"><defs/><g><rect fill=\"#27230B\" height=\"1\" style=\"stroke: #27230B; stroke-width: 1.0;\" width=\"1\" x=\"0\" y=\"0\"/><rect fill=\"#FFFFFF\" height=\"205.5625\" style=\"stroke: #FFFFFF; stroke-width: 1.0;\" width=\"602\" x=\"0\" y=\"0\"/><text fill=\"#000000\" font-family=\"sans-serif\" font-size=\"12\" font-weight=\"bold\" lengthAdjust=\"spacingAndGlyphs\" textLength=\"159\" x=\"5\" y=\"16.1387\">Welcome to PlantUML!</text><text fill=\"#000000\" font-family=\"sans-serif\" font-size=\"12\" lengthAdjust=\"spacingAndGlyphs\" textLength=\"0\" x=\"9\" y=\"30.1074\"/><text fill=\"#000000\" font-family=\"sans-serif\" font-size=\"12\" lengthAdjust=\"spacingAndGlyphs\" textLength=\"293\" x=\"5\" y=\"44.0762\">If you use this software, you accept its license.</text><text fill=\"#000000\" font-family=\"sans-serif\" font-size=\"12\" lengthAdjust=\"spacingAndGlyphs\" textLength=\"107\" x=\"5\" y=\"58.0449\">(details by typing</text><text fill=\"#000000\" font-family=\"monospace\" font-size=\"12\" lengthAdjust=\"spacingAndGlyphs\" textLength=\"49\" x=\"116\" y=\"58.0449\">license</text><text fill=\"#000000\" font-family=\"sans-serif\" font-size=\"12\" lengthAdjust=\"spacingAndGlyphs\" textLength=\"56\" x=\"169\" y=\"58.0449\">keyword)</text><text fill=\"#000000\" font-family=\"sans-serif\" font-size=\"12\" lengthAdjust=\"spacingAndGlyphs\" textLength=\"0\" x=\"9\" y=\"72.0137\"/><text fill=\"#000000\" font-family=\"sans-serif\" font-size=\"12\" lengthAdjust=\"spacingAndGlyphs\" textLength=\"283\" x=\"5\" y=\"85.9824\">You can start with a simple UML Diagram like:</text><text fill=\"#000000\" font-family=\"sans-serif\" font-size=\"12\" lengthAdjust=\"spacingAndGlyphs\" textLength=\"0\" x=\"9\" y=\"99.9512\"/><text fill=\"#000000\" font-family=\"monospace\" font-size=\"12\" lengthAdjust=\"spacingAndGlyphs\" textLength=\"119\" x=\"5\" y=\"113.9199\">Bob-&gt;Alice: Hello</text><text fill=\"#000000\" font-family=\"sans-serif\" font-size=\"12\" lengthAdjust=\"spacingAndGlyphs\" textLength=\"0\" x=\"9\" y=\"127.8887\"/><text fill=\"#000000\" font-family=\"sans-serif\" font-size=\"12\" lengthAdjust=\"spacingAndGlyphs\" textLength=\"14\" x=\"5\" y=\"141.8574\">Or</text><text fill=\"#000000\" font-family=\"sans-serif\" font-size=\"12\" lengthAdjust=\"spacingAndGlyphs\" textLength=\"0\" x=\"9\" y=\"155.8262\"/><text fill=\"#000000\" font-family=\"monospace\" font-size=\"12\" lengthAdjust=\"spacingAndGlyphs\" textLength=\"91\" x=\"5\" y=\"169.7949\">class Example</text><text fill=\"#000000\" font-family=\"sans-serif\" font-size=\"12\" lengthAdjust=\"spacingAndGlyphs\" textLength=\"0\" x=\"9\" y=\"183.7637\"/><text fill=\"#000000\" font-family=\"sans-serif\" font-size=\"12\" lengthAdjust=\"spacingAndGlyphs\" textLength=\"349\" x=\"5\" y=\"197.7324\">You will find more information about PlantUML syntax on</text><text fill=\"#000000\" font-family=\"sans-serif\" font-size=\"12\" lengthAdjust=\"spacingAndGlyphs\" text-decoration=\"underline\" textLength=\"129\" x=\"358\" y=\"197.7324\">https://plantuml.com</text><image height=\"71\" width=\"80\" x=\"516\" xlink:href=\"data:image/png;base64,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\" y=\"6\"/><rect fill=\"#000000\" height=\"96.4844\" style=\"stroke: #000000; stroke-width: 1.0;\" width=\"602\" x=\"0\" y=\"205.5625\"/><rect fill=\"#33FF02\" height=\"21.2969\" style=\"stroke: #33FF02; stroke-width: 1.0;\" width=\"170\" x=\"5\" y=\"210.5625\"/><text fill=\"#000000\" font-family=\"sans-serif\" font-size=\"14\" font-weight=\"bold\" lengthAdjust=\"spacingAndGlyphs\" textLength=\"168\" x=\"6\" y=\"225.5625\">[From string (line 2) ]</text><text fill=\"#33FF02\" font-family=\"sans-serif\" font-size=\"14\" font-weight=\"bold\" lengthAdjust=\"spacingAndGlyphs\" textLength=\"0\" x=\"10\" y=\"245.8594\"/><text fill=\"#33FF02\" font-family=\"sans-serif\" font-size=\"14\" font-weight=\"bold\" lengthAdjust=\"spacingAndGlyphs\" textLength=\"79\" x=\"5\" y=\"262.1563\">@startuml</text><text fill=\"#33FF02\" font-family=\"sans-serif\" font-size=\"14\" font-weight=\"bold\" lengthAdjust=\"spacingAndGlyphs\" textLength=\"0\" x=\"10\" y=\"278.4531\"/><text fill=\"#FF0000\" font-family=\"sans-serif\" font-size=\"14\" font-weight=\"bold\" lengthAdjust=\"spacingAndGlyphs\" textLength=\"142\" x=\"10\" y=\"294.75\">Empty description</text><!--MD5=[f59edd8218d337f74d0c332fc6737304]\n",
       "@startuml\r\n",
       " \r\n",
       "@enduml\r\n",
       "\n",
       "PlantUML version 1.2020.13(Sat Jun 13 12:26:38 UTC 2020)\n",
       "(EPL source distribution)\n",
       "Java Runtime: OpenJDK Runtime Environment\n",
       "JVM: OpenJDK 64-Bit Server VM\n",
       "Default Encoding: UTF-8\n",
       "Language: en\n",
       "Country: null\n",
       "--></g></svg>"
      ]
     },
     "execution_count": 32,
     "metadata": {},
     "output_type": "execute_result"
    }
   ],
   "source": [
    "%viz --style=\"PLANTUML\" --view=\"State\" \"DefaultValueTest\""
   ]
  },
  {
   "cell_type": "code",
   "execution_count": 33,
   "id": "1392a028",
   "metadata": {
    "execution": {
     "iopub.execute_input": "2021-08-04T06:28:44.041960Z",
     "iopub.status.busy": "2021-08-04T06:28:44.041502Z",
     "iopub.status.idle": "2021-08-04T06:28:44.065399Z",
     "shell.execute_reply": "2021-08-04T06:28:44.063464Z"
    }
   },
   "outputs": [
    {
     "data": {
      "image/svg+xml": [
       "<?xml version=\"1.0\" encoding=\"UTF-8\" standalone=\"no\"?><svg xmlns=\"http://www.w3.org/2000/svg\" xmlns:xlink=\"http://www.w3.org/1999/xlink\" contentScriptType=\"application/ecmascript\" contentStyleType=\"text/css\" height=\"367px\" preserveAspectRatio=\"none\" style=\"width:523px;height:367px;\" version=\"1.1\" viewBox=\"0 0 523 367\" width=\"523px\" zoomAndPan=\"magnify\"><defs><filter height=\"300%\" id=\"f8j43s32ay96e\" width=\"300%\" x=\"-1\" y=\"-1\"><feGaussianBlur result=\"blurOut\" stdDeviation=\"2.0\"/><feColorMatrix in=\"blurOut\" result=\"blurOut2\" type=\"matrix\" values=\"0 0 0 0 0 0 0 0 0 0 0 0 0 0 0 0 0 0 .4 0\"/><feOffset dx=\"4.0\" dy=\"4.0\" in=\"blurOut2\" result=\"blurOut3\"/><feBlend in=\"SourceGraphic\" in2=\"blurOut3\" mode=\"normal\"/></filter></defs><g><!--MD5=[fbc87193dbaf4d95561dea2c320d4a47]\n",
       "cluster E1--><a href=\"psysml:e269850e-1dc2-4cd5-af8e-eb4ea9f30c1b\" target=\"_top\" title=\"psysml:e269850e-1dc2-4cd5-af8e-eb4ea9f30c1b\" xlink:actuate=\"onRequest\" xlink:href=\"psysml:e269850e-1dc2-4cd5-af8e-eb4ea9f30c1b\" xlink:show=\"new\" xlink:title=\"psysml:e269850e-1dc2-4cd5-af8e-eb4ea9f30c1b\" xlink:type=\"simple\"><polygon fill=\"#FFFFFF\" filter=\"url(#f8j43s32ay96e)\" points=\"16,6,157,6,164,28.2969,501,28.2969,501,355,16,355,16,6\" style=\"stroke: #000000; stroke-width: 1.5;\"/><line style=\"stroke: #000000; stroke-width: 1.5;\" x1=\"16\" x2=\"164\" y1=\"28.2969\" y2=\"28.2969\"/><text fill=\"#000000\" font-family=\"sans-serif\" font-size=\"14\" font-weight=\"bold\" lengthAdjust=\"spacingAndGlyphs\" textLength=\"135\" x=\"20\" y=\"20.9951\">DefaultValueTest</text></a><!--MD5=[e4f7fae6ed58524ba242bb0b0d3be6b7]\n",
       "cluster E2--><a href=\"psysml:e7bf9c65-3f81-4ba3-bb8e-9b75385edfca\" target=\"_top\" title=\"psysml:e7bf9c65-3f81-4ba3-bb8e-9b75385edfca\" xlink:actuate=\"onRequest\" xlink:href=\"psysml:e7bf9c65-3f81-4ba3-bb8e-9b75385edfca\" xlink:show=\"new\" xlink:title=\"psysml:e7bf9c65-3f81-4ba3-bb8e-9b75385edfca\" xlink:type=\"simple\"><rect fill=\"#FFFFFF\" filter=\"url(#f8j43s32ay96e)\" height=\"113\" id=\"E2\" style=\"stroke: #A80036; stroke-width: 1.5;\" width=\"296\" x=\"153\" y=\"210\"/><rect fill=\"#FEFECE\" height=\"23.9688\" style=\"stroke: #A80036; stroke-width: 1.5;\" width=\"296\" x=\"153\" y=\"210\"/><text fill=\"#000000\" font-family=\"sans-serif\" font-size=\"12\" lengthAdjust=\"spacingAndGlyphs\" textLength=\"8\" x=\"297\" y=\"226.1387\">V</text></a><!--MD5=[de5ec2e2e8f62f467e546659f5068c88]\n",
       "cluster E5--><a href=\"psysml:f1f60863-7632-47b0-830a-21cb33ae86b3\" target=\"_top\" title=\"psysml:f1f60863-7632-47b0-830a-21cb33ae86b3\" xlink:actuate=\"onRequest\" xlink:href=\"psysml:f1f60863-7632-47b0-830a-21cb33ae86b3\" xlink:show=\"new\" xlink:title=\"psysml:f1f60863-7632-47b0-830a-21cb33ae86b3\" xlink:type=\"simple\"><rect fill=\"#FFFFFF\" filter=\"url(#f8j43s32ay96e)\" height=\"97\" id=\"E5\" rx=\"10\" ry=\"10\" style=\"stroke: #A80036; stroke-width: 1.5;\" width=\"128\" x=\"349\" y=\"65\"/><rect fill=\"#FEFECE\" height=\"23.9688\" rx=\"10\" ry=\"10\" style=\"stroke: #FEFECE; stroke-width: 1.5;\" width=\"128\" x=\"349\" y=\"65\"/><rect fill=\"#FEFECE\" height=\"10\" style=\"stroke: #FEFECE; stroke-width: 1.5;\" width=\"128\" x=\"349\" y=\"78.9688\"/><rect fill=\"none\" height=\"97\" id=\"E5\" rx=\"10\" ry=\"10\" style=\"stroke: #A80036; stroke-width: 1.5;\" width=\"128\" x=\"349\" y=\"65\"/><text fill=\"#000000\" font-family=\"sans-serif\" font-size=\"12\" lengthAdjust=\"spacingAndGlyphs\" textLength=\"30\" x=\"398\" y=\"81.1387\">v1: V</text><line style=\"stroke: #A80036; stroke-width: 1.0;\" x1=\"349\" x2=\"477\" y1=\"88.9688\" y2=\"88.9688\"/></a><!--MD5=[168fadf3d0c3fd93dd5d6da1b1d7ab76]\n",
       "cluster E7--><a href=\"psysml:92194191-781a-4f9d-991e-568f466dae89\" target=\"_top\" title=\"psysml:92194191-781a-4f9d-991e-568f466dae89\" xlink:actuate=\"onRequest\" xlink:href=\"psysml:92194191-781a-4f9d-991e-568f466dae89\" xlink:show=\"new\" xlink:title=\"psysml:92194191-781a-4f9d-991e-568f466dae89\" xlink:type=\"simple\"><rect fill=\"#FFFFFF\" filter=\"url(#f8j43s32ay96e)\" height=\"113\" id=\"E7\" style=\"stroke: #A80036; stroke-width: 1.5;\" width=\"164\" x=\"153\" y=\"57\"/><rect fill=\"#FEFECE\" height=\"23.9688\" style=\"stroke: #A80036; stroke-width: 1.5;\" width=\"164\" x=\"153\" y=\"57\"/><text fill=\"#000000\" font-family=\"sans-serif\" font-size=\"12\" lengthAdjust=\"spacingAndGlyphs\" textLength=\"11\" x=\"229.5\" y=\"73.1387\">W</text></a><!--MD5=[09b614a08d8cba4a07c9adeb5e0fee81]\n",
       "class E3--><a href=\"psysml:a2ea0978-930d-4f5d-93d2-d64a4094d2a2\" target=\"_top\" title=\"psysml:a2ea0978-930d-4f5d-93d2-d64a4094d2a2\" xlink:actuate=\"onRequest\" xlink:href=\"psysml:a2ea0978-930d-4f5d-93d2-d64a4094d2a2\" xlink:show=\"new\" xlink:title=\"psysml:a2ea0978-930d-4f5d-93d2-d64a4094d2a2\" xlink:type=\"simple\"><rect fill=\"#FEFECE\" filter=\"url(#f8j43s32ay96e)\" height=\"45.9375\" id=\"E3\" rx=\"10\" ry=\"10\" style=\"stroke: #A80036; stroke-width: 1.5;\" width=\"97\" x=\"328.5\" y=\"253\"/><ellipse cx=\"343.5\" cy=\"271.9688\" fill=\"#FFA500\" rx=\"11\" ry=\"11\" style=\"stroke: #A80036; stroke-width: 1.0;\"/><path d=\"M339.375,273.8906 L339.375,266.0781 L341.8281,266.0781 L341.8281,274.5156 Q341.8281,275.4375 342.2969,275.9688 Q342.7813,276.5 343.6094,276.5 Q344.4531,276.5 344.9219,275.9688 Q345.3906,275.4375 345.3906,274.5156 L345.3906,266.0781 L347.8438,266.0781 L347.8438,273.8906 Q347.8438,276.4219 346.8438,277.5625 Q345.8438,278.7031 343.6094,278.7031 Q341.3906,278.7031 340.375,277.5625 Q339.375,276.4219 339.375,273.8906 Z \"/><text fill=\"#000000\" font-family=\"sans-serif\" font-size=\"12\" font-style=\"italic\" lengthAdjust=\"spacingAndGlyphs\" textLength=\"69\" x=\"355.5\" y=\"269.1387\">«attribute»</text><text fill=\"#000000\" font-family=\"sans-serif\" font-size=\"12\" lengthAdjust=\"spacingAndGlyphs\" textLength=\"11\" x=\"384.5\" y=\"283.1074\">m</text><line style=\"stroke: #A80036; stroke-width: 1.5;\" x1=\"329.5\" x2=\"424.5\" y1=\"290.9375\" y2=\"290.9375\"/></a><!--MD5=[ebbe1d658d1005bcc118a6aa81145e00]\n",
       "class E4--><a href=\"psysml:d2e7553d-8e48-4fb7-896c-b23e6ced71f4\" target=\"_top\" title=\"psysml:d2e7553d-8e48-4fb7-896c-b23e6ced71f4\" xlink:actuate=\"onRequest\" xlink:href=\"psysml:d2e7553d-8e48-4fb7-896c-b23e6ced71f4\" xlink:show=\"new\" xlink:title=\"psysml:d2e7553d-8e48-4fb7-896c-b23e6ced71f4\" xlink:type=\"simple\"><rect fill=\"#FEFECE\" filter=\"url(#f8j43s32ay96e)\" height=\"45.9375\" id=\"E4\" rx=\"10\" ry=\"10\" style=\"stroke: #A80036; stroke-width: 1.5;\" width=\"97\" x=\"196.5\" y=\"253\"/><ellipse cx=\"211.5\" cy=\"271.9688\" fill=\"#FFA500\" rx=\"11\" ry=\"11\" style=\"stroke: #A80036; stroke-width: 1.0;\"/><path d=\"M207.375,273.8906 L207.375,266.0781 L209.8281,266.0781 L209.8281,274.5156 Q209.8281,275.4375 210.2969,275.9688 Q210.7813,276.5 211.6094,276.5 Q212.4531,276.5 212.9219,275.9688 Q213.3906,275.4375 213.3906,274.5156 L213.3906,266.0781 L215.8438,266.0781 L215.8438,273.8906 Q215.8438,276.4219 214.8438,277.5625 Q213.8438,278.7031 211.6094,278.7031 Q209.3906,278.7031 208.375,277.5625 Q207.375,276.4219 207.375,273.8906 Z \"/><text fill=\"#000000\" font-family=\"sans-serif\" font-size=\"12\" font-style=\"italic\" lengthAdjust=\"spacingAndGlyphs\" textLength=\"69\" x=\"223.5\" y=\"269.1387\">«attribute»</text><text fill=\"#000000\" font-family=\"sans-serif\" font-size=\"12\" lengthAdjust=\"spacingAndGlyphs\" textLength=\"8\" x=\"254\" y=\"283.1074\">n</text><line style=\"stroke: #A80036; stroke-width: 1.5;\" x1=\"197.5\" x2=\"292.5\" y1=\"290.9375\" y2=\"290.9375\"/></a><!--MD5=[60a26617385b1d2d0262a64233df1f8d]\n",
       "class E6--><a href=\"psysml:851c4b2c-147d-4a79-885c-670825576d73\" target=\"_top\" title=\"psysml:851c4b2c-147d-4a79-885c-670825576d73\" xlink:actuate=\"onRequest\" xlink:href=\"psysml:851c4b2c-147d-4a79-885c-670825576d73\" xlink:show=\"new\" xlink:title=\"psysml:851c4b2c-147d-4a79-885c-670825576d73\" xlink:type=\"simple\"><rect fill=\"#FEFECE\" filter=\"url(#f8j43s32ay96e)\" height=\"45.9375\" id=\"E6\" rx=\"10\" ry=\"10\" style=\"stroke: #A80036; stroke-width: 1.5;\" width=\"97\" x=\"364.5\" y=\"100\"/><ellipse cx=\"379.5\" cy=\"118.9688\" fill=\"#FFA500\" rx=\"11\" ry=\"11\" style=\"stroke: #A80036; stroke-width: 1.0;\"/><path d=\"M375.375,120.8906 L375.375,113.0781 L377.8281,113.0781 L377.8281,121.5156 Q377.8281,122.4375 378.2969,122.9688 Q378.7813,123.5 379.6094,123.5 Q380.4531,123.5 380.9219,122.9688 Q381.3906,122.4375 381.3906,121.5156 L381.3906,113.0781 L383.8438,113.0781 L383.8438,120.8906 Q383.8438,123.4219 382.8438,124.5625 Q381.8438,125.7031 379.6094,125.7031 Q377.3906,125.7031 376.375,124.5625 Q375.375,123.4219 375.375,120.8906 Z \"/><text fill=\"#000000\" font-family=\"sans-serif\" font-size=\"12\" font-style=\"italic\" lengthAdjust=\"spacingAndGlyphs\" textLength=\"69\" x=\"391.5\" y=\"116.1387\">«attribute»</text><text fill=\"#000000\" font-family=\"sans-serif\" font-size=\"12\" lengthAdjust=\"spacingAndGlyphs\" textLength=\"11\" x=\"420.5\" y=\"130.1074\">m</text><line style=\"stroke: #A80036; stroke-width: 1.5;\" x1=\"365.5\" x2=\"460.5\" y1=\"137.9375\" y2=\"137.9375\"/></a><!--MD5=[b9389687b975829384b498ac4b7476b2]\n",
       "class E8--><a href=\"psysml:82127d9e-4a29-4ac4-9705-0043f6777b4c\" target=\"_top\" title=\"psysml:82127d9e-4a29-4ac4-9705-0043f6777b4c\" xlink:actuate=\"onRequest\" xlink:href=\"psysml:82127d9e-4a29-4ac4-9705-0043f6777b4c\" xlink:show=\"new\" xlink:title=\"psysml:82127d9e-4a29-4ac4-9705-0043f6777b4c\" xlink:type=\"simple\"><rect fill=\"#FEFECE\" filter=\"url(#f8j43s32ay96e)\" height=\"45.9375\" id=\"E8\" rx=\"10\" ry=\"10\" style=\"stroke: #A80036; stroke-width: 1.5;\" width=\"97\" x=\"196.5\" y=\"100\"/><ellipse cx=\"211.5\" cy=\"118.9688\" fill=\"#FFA500\" rx=\"11\" ry=\"11\" style=\"stroke: #A80036; stroke-width: 1.0;\"/><path d=\"M207.375,120.8906 L207.375,113.0781 L209.8281,113.0781 L209.8281,121.5156 Q209.8281,122.4375 210.2969,122.9688 Q210.7813,123.5 211.6094,123.5 Q212.4531,123.5 212.9219,122.9688 Q213.3906,122.4375 213.3906,121.5156 L213.3906,113.0781 L215.8438,113.0781 L215.8438,120.8906 Q215.8438,123.4219 214.8438,124.5625 Q213.8438,125.7031 211.6094,125.7031 Q209.3906,125.7031 208.375,124.5625 Q207.375,123.4219 207.375,120.8906 Z \"/><text fill=\"#000000\" font-family=\"sans-serif\" font-size=\"12\" font-style=\"italic\" lengthAdjust=\"spacingAndGlyphs\" textLength=\"69\" x=\"223.5\" y=\"116.1387\">«attribute»</text><text fill=\"#000000\" font-family=\"sans-serif\" font-size=\"12\" lengthAdjust=\"spacingAndGlyphs\" textLength=\"11\" x=\"252.5\" y=\"130.1074\">m</text><line style=\"stroke: #A80036; stroke-width: 1.5;\" x1=\"197.5\" x2=\"292.5\" y1=\"137.9375\" y2=\"137.9375\"/></a><g id=\"E1.E9\"><a href=\"psysml:12e8b862-a297-4118-9bc9-39ad14290527\" target=\"_top\" title=\"psysml:12e8b862-a297-4118-9bc9-39ad14290527\" xlink:actuate=\"onRequest\" xlink:href=\"psysml:12e8b862-a297-4118-9bc9-39ad14290527\" xlink:show=\"new\" xlink:title=\"psysml:12e8b862-a297-4118-9bc9-39ad14290527\" xlink:type=\"simple\"><rect fill=\"#FEFECE\" filter=\"url(#f8j43s32ay96e)\" height=\"40\" id=\"E9\" rx=\"10\" ry=\"10\" style=\"stroke: #A80036; stroke-width: 1.5;\" width=\"94\" x=\"32\" y=\"103\"/><ellipse cx=\"49.25\" cy=\"119\" fill=\"#B6DBBB\" rx=\"11\" ry=\"11\" style=\"stroke: #A80036; stroke-width: 1.0;\"/><path d=\"M45.125,120.9219 L45.125,113.1094 L47.5781,113.1094 L47.5781,121.5469 Q47.5781,122.4688 48.0469,123 Q48.5313,123.5313 49.3594,123.5313 Q50.2031,123.5313 50.6719,123 Q51.1406,122.4688 51.1406,121.5469 L51.1406,113.1094 L53.5938,113.1094 L53.5938,120.9219 Q53.5938,123.4531 52.5938,124.5938 Q51.5938,125.7344 49.3594,125.7344 Q47.1406,125.7344 46.125,124.5938 Q45.125,123.4531 45.125,120.9219 Z \"/><text fill=\"#000000\" font-family=\"sans-serif\" font-size=\"12\" lengthAdjust=\"spacingAndGlyphs\" textLength=\"53\" x=\"63.75\" y=\"123.1543\">v2= W();</text></a></g><!--MD5=[a717450b82c80b9240a525fa862496af]\n",
       "link E6 to E3--><a href=\"psysml:03eebbd2-05f0-47bc-92f0-0649c0e2f845\" target=\"_top\" title=\"psysml:03eebbd2-05f0-47bc-92f0-0649c0e2f845\" xlink:actuate=\"onRequest\" xlink:href=\"psysml:03eebbd2-05f0-47bc-92f0-0649c0e2f845\" xlink:show=\"new\" xlink:title=\"psysml:03eebbd2-05f0-47bc-92f0-0649c0e2f845\" xlink:type=\"simple\"><path d=\"M407.69,146.28 C402.26,169.03 393.71,204.9 387.01,233 \" fill=\"none\" id=\"E6-&gt;E3\" style=\"stroke: #A80036; stroke-width: 1.0;\"/><polygon fill=\"#FFFFFF\" points=\"382.33,252.63,379.9311,232.5241,393.5488,235.7736,382.33,252.63\" style=\"stroke: #A80036; stroke-width: 1.0;\"/><line style=\"stroke: #A80036; stroke-width: 2.0;\" x1=\"380.8131\" x2=\"394.4308\" y1=\"228.8279\" y2=\"232.0774\"/></a><!--MD5=[583832df87f4419a098336a29a52fa00]\n",
       "link E7 to E2--><a href=\"psysml:80b8c15c-720d-43cf-a3f3-f1ac8ca72d6e\" target=\"_top\" title=\"psysml:80b8c15c-720d-43cf-a3f3-f1ac8ca72d6e\" xlink:actuate=\"onRequest\" xlink:href=\"psysml:80b8c15c-720d-43cf-a3f3-f1ac8ca72d6e\" xlink:show=\"new\" xlink:title=\"psysml:80b8c15c-720d-43cf-a3f3-f1ac8ca72d6e\" xlink:type=\"simple\"><path d=\"M161,170.2205 C161,170.4862 161,170.7525 161,171.0194 C161,171.5532 161,172.0891 161,172.6272 C161,181.2363 161,190.3816 161,199.5262 C161,201.8124 161,204.0986 161,206.3763 C161,207.5151 161,208.6519 161,209.7855 \" fill=\"none\" id=\"E7-&gt;E2\" style=\"stroke: #A80036; stroke-width: 1.0;\"/><polygon fill=\"#FFFFFF\" points=\"161,209.7855,168,190.7855,154,190.7855,161,209.7855\" style=\"stroke: #A80036; stroke-width: 1.0;\"/></a><!--MD5=[95fa686b5a16158bcdbcaeead89f639b]\n",
       "link E8 to E3--><a href=\"psysml:5971ddfa-8dbb-4825-a025-1d0848bb696d\" target=\"_top\" title=\"psysml:5971ddfa-8dbb-4825-a025-1d0848bb696d\" xlink:actuate=\"onRequest\" xlink:href=\"psysml:5971ddfa-8dbb-4825-a025-1d0848bb696d\" xlink:show=\"new\" xlink:title=\"psysml:5971ddfa-8dbb-4825-a025-1d0848bb696d\" xlink:type=\"simple\"><path d=\"M266.52,146 C279.63,159.6 296.57,177.55 311,194 C323.16,207.87 336.07,223.49 347.22,237.3 \" fill=\"none\" id=\"E8-&gt;E3\" style=\"stroke: #A80036; stroke-width: 1.0;\"/><polygon fill=\"#FFFFFF\" points=\"359.77,252.99,342.437,242.5225,353.3712,233.7792,359.77,252.99\" style=\"stroke: #A80036; stroke-width: 1.0;\"/><line style=\"stroke: #A80036; stroke-width: 2.0;\" x1=\"340.0639\" x2=\"350.998\" y1=\"239.5547\" y2=\"230.8114\"/></a><!--MD5=[ae97d21289938555fcd03bc06cfba421]\n",
       "@startuml\r\n",
       "skinparam ranksep 10\r\n",
       "skinparam rectangle {\r\n",
       " backgroundColor<<block>> LightGreen\r\n",
       "}\r\n",
       " \r\n",
       "package \"DefaultValueTest\" as E1  [[psysml:e269850e-1dc2-4cd5-af8e-eb4ea9f30c1b ]]  {\r\n",
       "rec def \"V\" as E2 << << (B,green) >> [[psysml:e7bf9c65-3f81-4ba3-bb8e-9b75385edfca ]] {\r\n",
       "comp usage \"m\" as E3 << <<(U,orange) attribute>> [[psysml:a2ea0978-930d-4f5d-93d2-d64a4094d2a2 ]] {\r\n",
       "}\r\n",
       "comp usage \"n\" as E4 << <<(U,orange) attribute>> [[psysml:d2e7553d-8e48-4fb7-896c-b23e6ced71f4 ]] {\r\n",
       "}\r\n",
       "}\r\n",
       "rec usage \"v1: V\" as E5  [[psysml:f1f60863-7632-47b0-830a-21cb33ae86b3 ]] {\r\n",
       "comp usage \"m\" as E6 << <<(U,orange) attribute>> [[psysml:851c4b2c-147d-4a79-885c-670825576d73 ]] {\r\n",
       "}\r\n",
       "}\r\n",
       "rec def \"W\" as E7 << << (B,green) >> [[psysml:92194191-781a-4f9d-991e-568f466dae89 ]] {\r\n",
       "comp usage \"m\" as E8 << <<(U,orange) attribute>> [[psysml:82127d9e-4a29-4ac4-9705-0043f6777b4c ]] {\r\n",
       "}\r\n",
       "}\r\n",
       "rec usage \"v2= W(); \" as E9  [[psysml:12e8b862-a297-4118-9bc9-39ad14290527 ]] {\r\n",
       "}\r\n",
       "E6 - -||> E3 [[psysml:03eebbd2-05f0-47bc-92f0-0649c0e2f845 ]] \r\n",
       "E7 - -|> E2 [[psysml:80b8c15c-720d-43cf-a3f3-f1ac8ca72d6e ]] \r\n",
       "E8 - -||> E3 [[psysml:5971ddfa-8dbb-4825-a025-1d0848bb696d ]] \r\n",
       "}\r\n",
       "@enduml\r\n",
       "\n",
       "PlantUML version 1.2020.13(Sat Jun 13 12:26:38 UTC 2020)\n",
       "(EPL source distribution)\n",
       "Java Runtime: OpenJDK Runtime Environment\n",
       "JVM: OpenJDK 64-Bit Server VM\n",
       "Default Encoding: UTF-8\n",
       "Language: en\n",
       "Country: null\n",
       "--></g></svg>"
      ]
     },
     "execution_count": 33,
     "metadata": {},
     "output_type": "execute_result"
    }
   ],
   "source": [
    "%viz --style=\"PLANTUML\" --view=\"Interconnection\" \"DefaultValueTest\""
   ]
  },
  {
   "cell_type": "code",
   "execution_count": 34,
   "id": "41d7cbab",
   "metadata": {
    "execution": {
     "iopub.execute_input": "2021-08-04T06:28:44.113949Z",
     "iopub.status.busy": "2021-08-04T06:28:44.113492Z",
     "iopub.status.idle": "2021-08-04T06:28:44.116853Z",
     "shell.execute_reply": "2021-08-04T06:28:44.116434Z"
    }
   },
   "outputs": [
    {
     "data": {
      "image/svg+xml": [
       "<?xml version=\"1.0\" encoding=\"UTF-8\" standalone=\"no\"?><svg xmlns=\"http://www.w3.org/2000/svg\" xmlns:xlink=\"http://www.w3.org/1999/xlink\" contentScriptType=\"application/ecmascript\" contentStyleType=\"text/css\" height=\"12px\" preserveAspectRatio=\"none\" style=\"width:12px;height:12px;\" version=\"1.1\" viewBox=\"0 0 12 12\" width=\"12px\" zoomAndPan=\"magnify\"><defs/><g><!--MD5=[6a4cb978cab31700e1ce5529f947a75d]\n",
       "@startuml\r\n",
       "skinparam ranksep 8\r\n",
       " \r\n",
       "@enduml\r\n",
       "\n",
       "PlantUML version 1.2020.13(Sat Jun 13 12:26:38 UTC 2020)\n",
       "(EPL source distribution)\n",
       "Java Runtime: OpenJDK Runtime Environment\n",
       "JVM: OpenJDK 64-Bit Server VM\n",
       "Default Encoding: UTF-8\n",
       "Language: en\n",
       "Country: null\n",
       "--></g></svg>"
      ]
     },
     "execution_count": 34,
     "metadata": {},
     "output_type": "execute_result"
    }
   ],
   "source": [
    "%viz --style=\"PLANTUML\" --view=\"Action\" \"DefaultValueTest\""
   ]
  },
  {
   "cell_type": "code",
   "execution_count": 35,
   "id": "d5ea1961",
   "metadata": {
    "execution": {
     "iopub.execute_input": "2021-08-04T06:28:44.166463Z",
     "iopub.status.busy": "2021-08-04T06:28:44.166026Z",
     "iopub.status.idle": "2021-08-04T06:28:44.198097Z",
     "shell.execute_reply": "2021-08-04T06:28:44.197364Z"
    }
   },
   "outputs": [
    {
     "data": {
      "image/svg+xml": [
       "<?xml version=\"1.0\" encoding=\"UTF-8\" standalone=\"no\"?><svg xmlns=\"http://www.w3.org/2000/svg\" xmlns:xlink=\"http://www.w3.org/1999/xlink\" contentScriptType=\"application/ecmascript\" contentStyleType=\"text/css\" height=\"267px\" preserveAspectRatio=\"none\" style=\"width:380px;height:267px;\" version=\"1.1\" viewBox=\"0 0 380 267\" width=\"380px\" zoomAndPan=\"magnify\"><defs><filter height=\"300%\" id=\"f11fj08r1j7muy\" width=\"300%\" x=\"-1\" y=\"-1\"><feGaussianBlur result=\"blurOut\" stdDeviation=\"2.0\"/><feColorMatrix in=\"blurOut\" result=\"blurOut2\" type=\"matrix\" values=\"0 0 0 0 0 0 0 0 0 0 0 0 0 0 0 0 0 0 .4 0\"/><feOffset dx=\"4.0\" dy=\"4.0\" in=\"blurOut2\" result=\"blurOut3\"/><feBlend in=\"SourceGraphic\" in2=\"blurOut3\" mode=\"normal\"/></filter></defs><g><!--MD5=[fbc87193dbaf4d95561dea2c320d4a47]\n",
       "cluster E1--><a href=\"psysml:e269850e-1dc2-4cd5-af8e-eb4ea9f30c1b\" target=\"_top\" title=\"psysml:e269850e-1dc2-4cd5-af8e-eb4ea9f30c1b\" xlink:actuate=\"onRequest\" xlink:href=\"psysml:e269850e-1dc2-4cd5-af8e-eb4ea9f30c1b\" xlink:show=\"new\" xlink:title=\"psysml:e269850e-1dc2-4cd5-af8e-eb4ea9f30c1b\" xlink:type=\"simple\"><polygon fill=\"#FFFFFF\" filter=\"url(#f11fj08r1j7muy)\" points=\"16,6,157,6,164,28.2969,358,28.2969,358,255,16,255,16,6\" style=\"stroke: #000000; stroke-width: 1.5;\"/><line style=\"stroke: #000000; stroke-width: 1.5;\" x1=\"16\" x2=\"164\" y1=\"28.2969\" y2=\"28.2969\"/><text fill=\"#000000\" font-family=\"sans-serif\" font-size=\"14\" font-weight=\"bold\" lengthAdjust=\"spacingAndGlyphs\" textLength=\"135\" x=\"20\" y=\"20.9951\">DefaultValueTest</text></a><!--MD5=[b4997ac47864f28c2f74865a473b2911]\n",
       "class E2--><a href=\"psysml:e7bf9c65-3f81-4ba3-bb8e-9b75385edfca\" target=\"_top\" title=\"psysml:e7bf9c65-3f81-4ba3-bb8e-9b75385edfca\" xlink:actuate=\"onRequest\" xlink:href=\"psysml:e7bf9c65-3f81-4ba3-bb8e-9b75385edfca\" xlink:show=\"new\" xlink:title=\"psysml:e7bf9c65-3f81-4ba3-bb8e-9b75385edfca\" xlink:type=\"simple\"><rect fill=\"#FEFECE\" filter=\"url(#f11fj08r1j7muy)\" height=\"65.6094\" id=\"E2\" style=\"stroke: #A80036; stroke-width: 1.5;\" width=\"106\" x=\"185\" y=\"173\"/><ellipse cx=\"229.75\" cy=\"189\" fill=\"#008000\" rx=\"11\" ry=\"11\" style=\"stroke: #A80036; stroke-width: 1.0;\"/><path d=\"M228.6563,189.375 L228.6563,193.0469 L230.2813,193.0469 Q231.4531,193.0469 231.9219,192.6563 Q232.3906,192.25 232.3906,191.25 Q232.3906,190.25 231.8906,189.8125 Q231.4063,189.375 230.2813,189.375 L228.6563,189.375 Z M228.6563,184.5469 L228.6563,187.4219 L230.2813,187.4219 Q231.2031,187.4219 231.5938,187.0938 Q232,186.75 232,186 Q232,185.2344 231.5938,184.8906 Q231.1875,184.5469 230.2813,184.5469 L228.6563,184.5469 Z M226.2813,182.5938 L230.2813,182.5938 Q232.3438,182.5938 233.3906,183.375 Q234.4375,184.1563 234.4375,185.7188 Q234.4375,186.9219 233.8125,187.5938 Q233.2031,188.2656 232.0156,188.375 Q233.4375,188.5156 234.1563,189.3281 Q234.875,190.1406 234.875,191.5938 Q234.875,193.3906 233.7969,194.2031 Q232.7188,195 230.2813,195 L226.2813,195 L226.2813,182.5938 Z \"/><text fill=\"#000000\" font-family=\"sans-serif\" font-size=\"12\" lengthAdjust=\"spacingAndGlyphs\" textLength=\"8\" x=\"250.25\" y=\"193.1543\">V</text><line style=\"stroke: #A80036; stroke-width: 1.5;\" x1=\"186\" x2=\"290\" y1=\"205\" y2=\"205\"/><text fill=\"#000000\" font-family=\"sans-serif\" font-size=\"11\" lengthAdjust=\"spacingAndGlyphs\" textLength=\"94\" x=\"191\" y=\"219.2104\">m=default = 10;</text><text fill=\"#000000\" font-family=\"sans-serif\" font-size=\"11\" lengthAdjust=\"spacingAndGlyphs\" textLength=\"38\" x=\"191\" y=\"232.0151\">n= 20;</text></a><!--MD5=[09b614a08d8cba4a07c9adeb5e0fee81]\n",
       "class E3--><a href=\"psysml:f1f60863-7632-47b0-830a-21cb33ae86b3\" target=\"_top\" title=\"psysml:f1f60863-7632-47b0-830a-21cb33ae86b3\" xlink:actuate=\"onRequest\" xlink:href=\"psysml:f1f60863-7632-47b0-830a-21cb33ae86b3\" xlink:show=\"new\" xlink:title=\"psysml:f1f60863-7632-47b0-830a-21cb33ae86b3\" xlink:type=\"simple\"><rect fill=\"#FEFECE\" filter=\"url(#f11fj08r1j7muy)\" height=\"71.5469\" id=\"E3\" rx=\"10\" ry=\"10\" style=\"stroke: #A80036; stroke-width: 1.5;\" width=\"68\" x=\"274\" y=\"41\"/><ellipse cx=\"289\" cy=\"59.9688\" fill=\"#32CD32\" rx=\"11\" ry=\"11\" style=\"stroke: #A80036; stroke-width: 1.0;\"/><path d=\"M288.7969,55.6406 L288.7969,59.2656 L289.7969,59.2656 Q291,59.2656 291.4844,58.8594 Q291.9688,58.4531 291.9688,57.4531 Q291.9688,56.4531 291.4844,56.0469 Q291,55.6406 289.7969,55.6406 L288.7969,55.6406 Z M286.3438,53.5781 L289.7031,53.5781 Q292.2656,53.5781 293.3906,54.5 Q294.5156,55.4063 294.5156,57.4531 Q294.5156,59.5 293.3906,60.4219 Q292.2656,61.3281 289.7031,61.3281 L288.7969,61.3281 L288.7969,65.9688 L286.3438,65.9688 L286.3438,53.5781 Z \"/><text fill=\"#000000\" font-family=\"sans-serif\" font-size=\"12\" font-style=\"italic\" lengthAdjust=\"spacingAndGlyphs\" textLength=\"40\" x=\"301\" y=\"57.1387\">«part»</text><text fill=\"#000000\" font-family=\"sans-serif\" font-size=\"12\" lengthAdjust=\"spacingAndGlyphs\" textLength=\"30\" x=\"306\" y=\"71.1074\">v1: V</text><line style=\"stroke: #A80036; stroke-width: 1.5;\" x1=\"275\" x2=\"341\" y1=\"78.9375\" y2=\"78.9375\"/><text fill=\"#000000\" font-family=\"sans-serif\" font-size=\"11\" lengthAdjust=\"spacingAndGlyphs\" textLength=\"42\" x=\"280\" y=\"93.1479\">m= 20;</text><text fill=\"#000000\" font-family=\"sans-serif\" font-size=\"11\" font-style=\"italic\" lengthAdjust=\"spacingAndGlyphs\" textLength=\"48\" x=\"280\" y=\"105.9526\">:&gt;&gt;V::m</text></a><!--MD5=[ebbe1d658d1005bcc118a6aa81145e00]\n",
       "class E4--><a href=\"psysml:92194191-781a-4f9d-991e-568f466dae89\" target=\"_top\" title=\"psysml:92194191-781a-4f9d-991e-568f466dae89\" xlink:actuate=\"onRequest\" xlink:href=\"psysml:92194191-781a-4f9d-991e-568f466dae89\" xlink:show=\"new\" xlink:title=\"psysml:92194191-781a-4f9d-991e-568f466dae89\" xlink:type=\"simple\"><rect fill=\"#FEFECE\" filter=\"url(#f11fj08r1j7muy)\" height=\"65.6094\" id=\"E4\" style=\"stroke: #A80036; stroke-width: 1.5;\" width=\"103\" x=\"135.5\" y=\"44\"/><ellipse cx=\"177.5\" cy=\"60\" fill=\"#008000\" rx=\"11\" ry=\"11\" style=\"stroke: #A80036; stroke-width: 1.0;\"/><path d=\"M176.4063,60.375 L176.4063,64.0469 L178.0313,64.0469 Q179.2031,64.0469 179.6719,63.6563 Q180.1406,63.25 180.1406,62.25 Q180.1406,61.25 179.6406,60.8125 Q179.1563,60.375 178.0313,60.375 L176.4063,60.375 Z M176.4063,55.5469 L176.4063,58.4219 L178.0313,58.4219 Q178.9531,58.4219 179.3438,58.0938 Q179.75,57.75 179.75,57 Q179.75,56.2344 179.3438,55.8906 Q178.9375,55.5469 178.0313,55.5469 L176.4063,55.5469 Z M174.0313,53.5938 L178.0313,53.5938 Q180.0938,53.5938 181.1406,54.375 Q182.1875,55.1563 182.1875,56.7188 Q182.1875,57.9219 181.5625,58.5938 Q180.9531,59.2656 179.7656,59.375 Q181.1875,59.5156 181.9063,60.3281 Q182.625,61.1406 182.625,62.5938 Q182.625,64.3906 181.5469,65.2031 Q180.4688,66 178.0313,66 L174.0313,66 L174.0313,53.5938 Z \"/><text fill=\"#000000\" font-family=\"sans-serif\" font-size=\"12\" lengthAdjust=\"spacingAndGlyphs\" textLength=\"11\" x=\"197.5\" y=\"64.1543\">W</text><line style=\"stroke: #A80036; stroke-width: 1.5;\" x1=\"136.5\" x2=\"237.5\" y1=\"76\" y2=\"76\"/><text fill=\"#000000\" font-family=\"sans-serif\" font-size=\"11\" lengthAdjust=\"spacingAndGlyphs\" textLength=\"87\" x=\"141.5\" y=\"90.2104\">m=default = n;</text><text fill=\"#000000\" font-family=\"sans-serif\" font-size=\"11\" font-style=\"italic\" lengthAdjust=\"spacingAndGlyphs\" textLength=\"48\" x=\"141.5\" y=\"103.0151\">:&gt;&gt;V::m</text></a><!--MD5=[270fce915f116d4de14055a7c1d9a0f3]\n",
       "class E5--><a href=\"psysml:12e8b862-a297-4118-9bc9-39ad14290527\" target=\"_top\" title=\"psysml:12e8b862-a297-4118-9bc9-39ad14290527\" xlink:actuate=\"onRequest\" xlink:href=\"psysml:12e8b862-a297-4118-9bc9-39ad14290527\" xlink:show=\"new\" xlink:title=\"psysml:12e8b862-a297-4118-9bc9-39ad14290527\" xlink:type=\"simple\"><rect fill=\"#FEFECE\" filter=\"url(#f11fj08r1j7muy)\" height=\"45.9375\" id=\"E5\" rx=\"10\" ry=\"10\" style=\"stroke: #A80036; stroke-width: 1.5;\" width=\"68\" x=\"32\" y=\"54\"/><ellipse cx=\"47\" cy=\"72.9688\" fill=\"#32CD32\" rx=\"11\" ry=\"11\" style=\"stroke: #A80036; stroke-width: 1.0;\"/><path d=\"M46.7969,68.6406 L46.7969,72.2656 L47.7969,72.2656 Q49,72.2656 49.4844,71.8594 Q49.9688,71.4531 49.9688,70.4531 Q49.9688,69.4531 49.4844,69.0469 Q49,68.6406 47.7969,68.6406 L46.7969,68.6406 Z M44.3438,66.5781 L47.7031,66.5781 Q50.2656,66.5781 51.3906,67.5 Q52.5156,68.4063 52.5156,70.4531 Q52.5156,72.5 51.3906,73.4219 Q50.2656,74.3281 47.7031,74.3281 L46.7969,74.3281 L46.7969,78.9688 L44.3438,78.9688 L44.3438,66.5781 Z \"/><text fill=\"#000000\" font-family=\"sans-serif\" font-size=\"12\" font-style=\"italic\" lengthAdjust=\"spacingAndGlyphs\" textLength=\"40\" x=\"59\" y=\"70.1387\">«part»</text><text fill=\"#000000\" font-family=\"sans-serif\" font-size=\"12\" lengthAdjust=\"spacingAndGlyphs\" textLength=\"14\" x=\"72\" y=\"84.1074\">v2</text><line style=\"stroke: #A80036; stroke-width: 1.5;\" x1=\"33\" x2=\"99\" y1=\"91.9375\" y2=\"91.9375\"/></a><!--MD5=[05d275557350bfb9b23a4ef7222b4c39]\n",
       "link E3 to E2--><a href=\"psysml:a976bee6-0dca-4565-96d2-a44c4ac1d16a\" target=\"_top\" title=\"psysml:a976bee6-0dca-4565-96d2-a44c4ac1d16a\" xlink:actuate=\"onRequest\" xlink:href=\"psysml:a976bee6-0dca-4565-96d2-a44c4ac1d16a\" xlink:show=\"new\" xlink:title=\"psysml:a976bee6-0dca-4565-96d2-a44c4ac1d16a\" xlink:type=\"simple\"><path d=\"M288.69,113.04 C281.54,126.01 273.29,140.97 265.55,155.01 \" fill=\"none\" id=\"E3-&gt;E2\" style=\"stroke: #A80036; stroke-width: 1.0;\"/><polygon fill=\"#FFFFFF\" points=\"255.81,172.69,258.8473,152.6706,271.1095,159.4263,255.81,172.69\" style=\"stroke: #A80036; stroke-width: 1.0;\"/><ellipse cx=\"263.3496\" cy=\"148.6433\" fill=\"#A80036\" rx=\"2\" ry=\"2\" style=\"stroke: #A80036; stroke-width: 1.0;\"/><ellipse cx=\"272.1083\" cy=\"153.4688\" fill=\"#A80036\" rx=\"2\" ry=\"2\" style=\"stroke: #A80036; stroke-width: 1.0;\"/></a><!--MD5=[185131fc0dcab0a4505a2ebe144e961b]\n",
       "link E4 to E2--><a href=\"psysml:80b8c15c-720d-43cf-a3f3-f1ac8ca72d6e\" target=\"_top\" title=\"psysml:80b8c15c-720d-43cf-a3f3-f1ac8ca72d6e\" xlink:actuate=\"onRequest\" xlink:href=\"psysml:80b8c15c-720d-43cf-a3f3-f1ac8ca72d6e\" xlink:show=\"new\" xlink:title=\"psysml:80b8c15c-720d-43cf-a3f3-f1ac8ca72d6e\" xlink:type=\"simple\"><path d=\"M199.87,110.05 C205.25,123.43 211.62,139.31 217.61,154.22 \" fill=\"none\" id=\"E4-&gt;E2\" style=\"stroke: #A80036; stroke-width: 1.0;\"/><polygon fill=\"none\" points=\"224.18,151.79,225.13,172.96,211.19,157.01,224.18,151.79\" style=\"stroke: #A80036; stroke-width: 1.0;\"/></a><!--MD5=[34063d535b0325a6134a460031594d99]\n",
       "@startuml\r\n",
       " \r\n",
       "package \"DefaultValueTest\" as E1  [[psysml:e269850e-1dc2-4cd5-af8e-eb4ea9f30c1b ]]  {\r\n",
       "comp def \"V\" as E2 << << (B,green) >> [[psysml:e7bf9c65-3f81-4ba3-bb8e-9b75385edfca ]] {\r\n",
       "m=default = 10; \r\n",
       "n= 20; \r\n",
       "}\r\n",
       "comp usage \"v1: V\" as E3 << << (P,limegreen) part>> [[psysml:f1f60863-7632-47b0-830a-21cb33ae86b3 ]] {\r\n",
       "m= 20; \\n//:>>V::m// \r\n",
       "}\r\n",
       "comp def \"W\" as E4 << << (B,green) >> [[psysml:92194191-781a-4f9d-991e-568f466dae89 ]] {\r\n",
       "m=default = n; \\n//:>>V::m// \r\n",
       "}\r\n",
       "comp usage \"v2\" as E5 << << (P,limegreen) part>> [[psysml:12e8b862-a297-4118-9bc9-39ad14290527 ]] {\r\n",
       "}\r\n",
       "E3 - -:|> E2 [[psysml:a976bee6-0dca-4565-96d2-a44c4ac1d16a ]] \r\n",
       "E4 - -|> E2 [[psysml:80b8c15c-720d-43cf-a3f3-f1ac8ca72d6e ]] \r\n",
       "}\r\n",
       "@enduml\r\n",
       "\n",
       "PlantUML version 1.2020.13(Sat Jun 13 12:26:38 UTC 2020)\n",
       "(EPL source distribution)\n",
       "Java Runtime: OpenJDK Runtime Environment\n",
       "JVM: OpenJDK 64-Bit Server VM\n",
       "Default Encoding: UTF-8\n",
       "Language: en\n",
       "Country: null\n",
       "--></g></svg>"
      ]
     },
     "execution_count": 35,
     "metadata": {},
     "output_type": "execute_result"
    }
   ],
   "source": [
    "%viz --style=\"PLANTUML\" --view=\"Sequence\" \"DefaultValueTest\""
   ]
  },
  {
   "cell_type": "code",
   "execution_count": 36,
   "id": "6d44e978",
   "metadata": {
    "execution": {
     "iopub.execute_input": "2021-08-04T06:28:44.247812Z",
     "iopub.status.busy": "2021-08-04T06:28:44.247561Z",
     "iopub.status.idle": "2021-08-04T06:28:44.276317Z",
     "shell.execute_reply": "2021-08-04T06:28:44.275598Z"
    }
   },
   "outputs": [
    {
     "data": {
      "image/svg+xml": [
       "<?xml version=\"1.0\" encoding=\"UTF-8\" standalone=\"no\"?><svg xmlns=\"http://www.w3.org/2000/svg\" xmlns:xlink=\"http://www.w3.org/1999/xlink\" contentScriptType=\"application/ecmascript\" contentStyleType=\"text/css\" height=\"267px\" preserveAspectRatio=\"none\" style=\"width:380px;height:267px;\" version=\"1.1\" viewBox=\"0 0 380 267\" width=\"380px\" zoomAndPan=\"magnify\"><defs><filter height=\"300%\" id=\"f11fj08r1j7muy\" width=\"300%\" x=\"-1\" y=\"-1\"><feGaussianBlur result=\"blurOut\" stdDeviation=\"2.0\"/><feColorMatrix in=\"blurOut\" result=\"blurOut2\" type=\"matrix\" values=\"0 0 0 0 0 0 0 0 0 0 0 0 0 0 0 0 0 0 .4 0\"/><feOffset dx=\"4.0\" dy=\"4.0\" in=\"blurOut2\" result=\"blurOut3\"/><feBlend in=\"SourceGraphic\" in2=\"blurOut3\" mode=\"normal\"/></filter></defs><g><!--MD5=[fbc87193dbaf4d95561dea2c320d4a47]\n",
       "cluster E1--><a href=\"psysml:e269850e-1dc2-4cd5-af8e-eb4ea9f30c1b\" target=\"_top\" title=\"psysml:e269850e-1dc2-4cd5-af8e-eb4ea9f30c1b\" xlink:actuate=\"onRequest\" xlink:href=\"psysml:e269850e-1dc2-4cd5-af8e-eb4ea9f30c1b\" xlink:show=\"new\" xlink:title=\"psysml:e269850e-1dc2-4cd5-af8e-eb4ea9f30c1b\" xlink:type=\"simple\"><polygon fill=\"#FFFFFF\" filter=\"url(#f11fj08r1j7muy)\" points=\"16,6,157,6,164,28.2969,358,28.2969,358,255,16,255,16,6\" style=\"stroke: #000000; stroke-width: 1.5;\"/><line style=\"stroke: #000000; stroke-width: 1.5;\" x1=\"16\" x2=\"164\" y1=\"28.2969\" y2=\"28.2969\"/><text fill=\"#000000\" font-family=\"sans-serif\" font-size=\"14\" font-weight=\"bold\" lengthAdjust=\"spacingAndGlyphs\" textLength=\"135\" x=\"20\" y=\"20.9951\">DefaultValueTest</text></a><!--MD5=[b4997ac47864f28c2f74865a473b2911]\n",
       "class E2--><a href=\"psysml:e7bf9c65-3f81-4ba3-bb8e-9b75385edfca\" target=\"_top\" title=\"psysml:e7bf9c65-3f81-4ba3-bb8e-9b75385edfca\" xlink:actuate=\"onRequest\" xlink:href=\"psysml:e7bf9c65-3f81-4ba3-bb8e-9b75385edfca\" xlink:show=\"new\" xlink:title=\"psysml:e7bf9c65-3f81-4ba3-bb8e-9b75385edfca\" xlink:type=\"simple\"><rect fill=\"#FEFECE\" filter=\"url(#f11fj08r1j7muy)\" height=\"65.6094\" id=\"E2\" style=\"stroke: #A80036; stroke-width: 1.5;\" width=\"106\" x=\"185\" y=\"173\"/><ellipse cx=\"229.75\" cy=\"189\" fill=\"#008000\" rx=\"11\" ry=\"11\" style=\"stroke: #A80036; stroke-width: 1.0;\"/><path d=\"M228.6563,189.375 L228.6563,193.0469 L230.2813,193.0469 Q231.4531,193.0469 231.9219,192.6563 Q232.3906,192.25 232.3906,191.25 Q232.3906,190.25 231.8906,189.8125 Q231.4063,189.375 230.2813,189.375 L228.6563,189.375 Z M228.6563,184.5469 L228.6563,187.4219 L230.2813,187.4219 Q231.2031,187.4219 231.5938,187.0938 Q232,186.75 232,186 Q232,185.2344 231.5938,184.8906 Q231.1875,184.5469 230.2813,184.5469 L228.6563,184.5469 Z M226.2813,182.5938 L230.2813,182.5938 Q232.3438,182.5938 233.3906,183.375 Q234.4375,184.1563 234.4375,185.7188 Q234.4375,186.9219 233.8125,187.5938 Q233.2031,188.2656 232.0156,188.375 Q233.4375,188.5156 234.1563,189.3281 Q234.875,190.1406 234.875,191.5938 Q234.875,193.3906 233.7969,194.2031 Q232.7188,195 230.2813,195 L226.2813,195 L226.2813,182.5938 Z \"/><text fill=\"#000000\" font-family=\"sans-serif\" font-size=\"12\" lengthAdjust=\"spacingAndGlyphs\" textLength=\"8\" x=\"250.25\" y=\"193.1543\">V</text><line style=\"stroke: #A80036; stroke-width: 1.5;\" x1=\"186\" x2=\"290\" y1=\"205\" y2=\"205\"/><text fill=\"#000000\" font-family=\"sans-serif\" font-size=\"11\" lengthAdjust=\"spacingAndGlyphs\" textLength=\"94\" x=\"191\" y=\"219.2104\">m=default = 10;</text><text fill=\"#000000\" font-family=\"sans-serif\" font-size=\"11\" lengthAdjust=\"spacingAndGlyphs\" textLength=\"38\" x=\"191\" y=\"232.0151\">n= 20;</text></a><!--MD5=[09b614a08d8cba4a07c9adeb5e0fee81]\n",
       "class E3--><a href=\"psysml:f1f60863-7632-47b0-830a-21cb33ae86b3\" target=\"_top\" title=\"psysml:f1f60863-7632-47b0-830a-21cb33ae86b3\" xlink:actuate=\"onRequest\" xlink:href=\"psysml:f1f60863-7632-47b0-830a-21cb33ae86b3\" xlink:show=\"new\" xlink:title=\"psysml:f1f60863-7632-47b0-830a-21cb33ae86b3\" xlink:type=\"simple\"><rect fill=\"#FEFECE\" filter=\"url(#f11fj08r1j7muy)\" height=\"71.5469\" id=\"E3\" rx=\"10\" ry=\"10\" style=\"stroke: #A80036; stroke-width: 1.5;\" width=\"68\" x=\"274\" y=\"41\"/><ellipse cx=\"289\" cy=\"59.9688\" fill=\"#32CD32\" rx=\"11\" ry=\"11\" style=\"stroke: #A80036; stroke-width: 1.0;\"/><path d=\"M288.7969,55.6406 L288.7969,59.2656 L289.7969,59.2656 Q291,59.2656 291.4844,58.8594 Q291.9688,58.4531 291.9688,57.4531 Q291.9688,56.4531 291.4844,56.0469 Q291,55.6406 289.7969,55.6406 L288.7969,55.6406 Z M286.3438,53.5781 L289.7031,53.5781 Q292.2656,53.5781 293.3906,54.5 Q294.5156,55.4063 294.5156,57.4531 Q294.5156,59.5 293.3906,60.4219 Q292.2656,61.3281 289.7031,61.3281 L288.7969,61.3281 L288.7969,65.9688 L286.3438,65.9688 L286.3438,53.5781 Z \"/><text fill=\"#000000\" font-family=\"sans-serif\" font-size=\"12\" font-style=\"italic\" lengthAdjust=\"spacingAndGlyphs\" textLength=\"40\" x=\"301\" y=\"57.1387\">«part»</text><text fill=\"#000000\" font-family=\"sans-serif\" font-size=\"12\" lengthAdjust=\"spacingAndGlyphs\" textLength=\"30\" x=\"306\" y=\"71.1074\">v1: V</text><line style=\"stroke: #A80036; stroke-width: 1.5;\" x1=\"275\" x2=\"341\" y1=\"78.9375\" y2=\"78.9375\"/><text fill=\"#000000\" font-family=\"sans-serif\" font-size=\"11\" lengthAdjust=\"spacingAndGlyphs\" textLength=\"42\" x=\"280\" y=\"93.1479\">m= 20;</text><text fill=\"#000000\" font-family=\"sans-serif\" font-size=\"11\" font-style=\"italic\" lengthAdjust=\"spacingAndGlyphs\" textLength=\"48\" x=\"280\" y=\"105.9526\">:&gt;&gt;V::m</text></a><!--MD5=[ebbe1d658d1005bcc118a6aa81145e00]\n",
       "class E4--><a href=\"psysml:92194191-781a-4f9d-991e-568f466dae89\" target=\"_top\" title=\"psysml:92194191-781a-4f9d-991e-568f466dae89\" xlink:actuate=\"onRequest\" xlink:href=\"psysml:92194191-781a-4f9d-991e-568f466dae89\" xlink:show=\"new\" xlink:title=\"psysml:92194191-781a-4f9d-991e-568f466dae89\" xlink:type=\"simple\"><rect fill=\"#FEFECE\" filter=\"url(#f11fj08r1j7muy)\" height=\"65.6094\" id=\"E4\" style=\"stroke: #A80036; stroke-width: 1.5;\" width=\"103\" x=\"135.5\" y=\"44\"/><ellipse cx=\"177.5\" cy=\"60\" fill=\"#008000\" rx=\"11\" ry=\"11\" style=\"stroke: #A80036; stroke-width: 1.0;\"/><path d=\"M176.4063,60.375 L176.4063,64.0469 L178.0313,64.0469 Q179.2031,64.0469 179.6719,63.6563 Q180.1406,63.25 180.1406,62.25 Q180.1406,61.25 179.6406,60.8125 Q179.1563,60.375 178.0313,60.375 L176.4063,60.375 Z M176.4063,55.5469 L176.4063,58.4219 L178.0313,58.4219 Q178.9531,58.4219 179.3438,58.0938 Q179.75,57.75 179.75,57 Q179.75,56.2344 179.3438,55.8906 Q178.9375,55.5469 178.0313,55.5469 L176.4063,55.5469 Z M174.0313,53.5938 L178.0313,53.5938 Q180.0938,53.5938 181.1406,54.375 Q182.1875,55.1563 182.1875,56.7188 Q182.1875,57.9219 181.5625,58.5938 Q180.9531,59.2656 179.7656,59.375 Q181.1875,59.5156 181.9063,60.3281 Q182.625,61.1406 182.625,62.5938 Q182.625,64.3906 181.5469,65.2031 Q180.4688,66 178.0313,66 L174.0313,66 L174.0313,53.5938 Z \"/><text fill=\"#000000\" font-family=\"sans-serif\" font-size=\"12\" lengthAdjust=\"spacingAndGlyphs\" textLength=\"11\" x=\"197.5\" y=\"64.1543\">W</text><line style=\"stroke: #A80036; stroke-width: 1.5;\" x1=\"136.5\" x2=\"237.5\" y1=\"76\" y2=\"76\"/><text fill=\"#000000\" font-family=\"sans-serif\" font-size=\"11\" lengthAdjust=\"spacingAndGlyphs\" textLength=\"87\" x=\"141.5\" y=\"90.2104\">m=default = n;</text><text fill=\"#000000\" font-family=\"sans-serif\" font-size=\"11\" font-style=\"italic\" lengthAdjust=\"spacingAndGlyphs\" textLength=\"48\" x=\"141.5\" y=\"103.0151\">:&gt;&gt;V::m</text></a><!--MD5=[270fce915f116d4de14055a7c1d9a0f3]\n",
       "class E5--><a href=\"psysml:12e8b862-a297-4118-9bc9-39ad14290527\" target=\"_top\" title=\"psysml:12e8b862-a297-4118-9bc9-39ad14290527\" xlink:actuate=\"onRequest\" xlink:href=\"psysml:12e8b862-a297-4118-9bc9-39ad14290527\" xlink:show=\"new\" xlink:title=\"psysml:12e8b862-a297-4118-9bc9-39ad14290527\" xlink:type=\"simple\"><rect fill=\"#FEFECE\" filter=\"url(#f11fj08r1j7muy)\" height=\"45.9375\" id=\"E5\" rx=\"10\" ry=\"10\" style=\"stroke: #A80036; stroke-width: 1.5;\" width=\"68\" x=\"32\" y=\"54\"/><ellipse cx=\"47\" cy=\"72.9688\" fill=\"#32CD32\" rx=\"11\" ry=\"11\" style=\"stroke: #A80036; stroke-width: 1.0;\"/><path d=\"M46.7969,68.6406 L46.7969,72.2656 L47.7969,72.2656 Q49,72.2656 49.4844,71.8594 Q49.9688,71.4531 49.9688,70.4531 Q49.9688,69.4531 49.4844,69.0469 Q49,68.6406 47.7969,68.6406 L46.7969,68.6406 Z M44.3438,66.5781 L47.7031,66.5781 Q50.2656,66.5781 51.3906,67.5 Q52.5156,68.4063 52.5156,70.4531 Q52.5156,72.5 51.3906,73.4219 Q50.2656,74.3281 47.7031,74.3281 L46.7969,74.3281 L46.7969,78.9688 L44.3438,78.9688 L44.3438,66.5781 Z \"/><text fill=\"#000000\" font-family=\"sans-serif\" font-size=\"12\" font-style=\"italic\" lengthAdjust=\"spacingAndGlyphs\" textLength=\"40\" x=\"59\" y=\"70.1387\">«part»</text><text fill=\"#000000\" font-family=\"sans-serif\" font-size=\"12\" lengthAdjust=\"spacingAndGlyphs\" textLength=\"14\" x=\"72\" y=\"84.1074\">v2</text><line style=\"stroke: #A80036; stroke-width: 1.5;\" x1=\"33\" x2=\"99\" y1=\"91.9375\" y2=\"91.9375\"/></a><!--MD5=[05d275557350bfb9b23a4ef7222b4c39]\n",
       "link E3 to E2--><a href=\"psysml:a976bee6-0dca-4565-96d2-a44c4ac1d16a\" target=\"_top\" title=\"psysml:a976bee6-0dca-4565-96d2-a44c4ac1d16a\" xlink:actuate=\"onRequest\" xlink:href=\"psysml:a976bee6-0dca-4565-96d2-a44c4ac1d16a\" xlink:show=\"new\" xlink:title=\"psysml:a976bee6-0dca-4565-96d2-a44c4ac1d16a\" xlink:type=\"simple\"><path d=\"M288.69,113.04 C281.54,126.01 273.29,140.97 265.55,155.01 \" fill=\"none\" id=\"E3-&gt;E2\" style=\"stroke: #A80036; stroke-width: 1.0;\"/><polygon fill=\"#FFFFFF\" points=\"255.81,172.69,258.8473,152.6706,271.1095,159.4263,255.81,172.69\" style=\"stroke: #A80036; stroke-width: 1.0;\"/><ellipse cx=\"263.3496\" cy=\"148.6433\" fill=\"#A80036\" rx=\"2\" ry=\"2\" style=\"stroke: #A80036; stroke-width: 1.0;\"/><ellipse cx=\"272.1083\" cy=\"153.4688\" fill=\"#A80036\" rx=\"2\" ry=\"2\" style=\"stroke: #A80036; stroke-width: 1.0;\"/></a><!--MD5=[185131fc0dcab0a4505a2ebe144e961b]\n",
       "link E4 to E2--><a href=\"psysml:80b8c15c-720d-43cf-a3f3-f1ac8ca72d6e\" target=\"_top\" title=\"psysml:80b8c15c-720d-43cf-a3f3-f1ac8ca72d6e\" xlink:actuate=\"onRequest\" xlink:href=\"psysml:80b8c15c-720d-43cf-a3f3-f1ac8ca72d6e\" xlink:show=\"new\" xlink:title=\"psysml:80b8c15c-720d-43cf-a3f3-f1ac8ca72d6e\" xlink:type=\"simple\"><path d=\"M199.87,110.05 C205.25,123.43 211.62,139.31 217.61,154.22 \" fill=\"none\" id=\"E4-&gt;E2\" style=\"stroke: #A80036; stroke-width: 1.0;\"/><polygon fill=\"none\" points=\"224.18,151.79,225.13,172.96,211.19,157.01,224.18,151.79\" style=\"stroke: #A80036; stroke-width: 1.0;\"/></a><!--MD5=[34063d535b0325a6134a460031594d99]\n",
       "@startuml\r\n",
       " \r\n",
       "package \"DefaultValueTest\" as E1  [[psysml:e269850e-1dc2-4cd5-af8e-eb4ea9f30c1b ]]  {\r\n",
       "comp def \"V\" as E2 << << (B,green) >> [[psysml:e7bf9c65-3f81-4ba3-bb8e-9b75385edfca ]] {\r\n",
       "m=default = 10; \r\n",
       "n= 20; \r\n",
       "}\r\n",
       "comp usage \"v1: V\" as E3 << << (P,limegreen) part>> [[psysml:f1f60863-7632-47b0-830a-21cb33ae86b3 ]] {\r\n",
       "m= 20; \\n//:>>V::m// \r\n",
       "}\r\n",
       "comp def \"W\" as E4 << << (B,green) >> [[psysml:92194191-781a-4f9d-991e-568f466dae89 ]] {\r\n",
       "m=default = n; \\n//:>>V::m// \r\n",
       "}\r\n",
       "comp usage \"v2\" as E5 << << (P,limegreen) part>> [[psysml:12e8b862-a297-4118-9bc9-39ad14290527 ]] {\r\n",
       "}\r\n",
       "E3 - -:|> E2 [[psysml:a976bee6-0dca-4565-96d2-a44c4ac1d16a ]] \r\n",
       "E4 - -|> E2 [[psysml:80b8c15c-720d-43cf-a3f3-f1ac8ca72d6e ]] \r\n",
       "}\r\n",
       "@enduml\r\n",
       "\n",
       "PlantUML version 1.2020.13(Sat Jun 13 12:26:38 UTC 2020)\n",
       "(EPL source distribution)\n",
       "Java Runtime: OpenJDK Runtime Environment\n",
       "JVM: OpenJDK 64-Bit Server VM\n",
       "Default Encoding: UTF-8\n",
       "Language: en\n",
       "Country: null\n",
       "--></g></svg>"
      ]
     },
     "execution_count": 36,
     "metadata": {},
     "output_type": "execute_result"
    }
   ],
   "source": [
    "%viz --style=\"PLANTUML\" --view=\"MIXED\" \"DefaultValueTest\""
   ]
  },
  {
   "cell_type": "code",
   "execution_count": 37,
   "id": "10f2b8ea",
   "metadata": {
    "execution": {
     "iopub.execute_input": "2021-08-04T06:28:44.326622Z",
     "iopub.status.busy": "2021-08-04T06:28:44.326190Z",
     "iopub.status.idle": "2021-08-04T06:28:44.377928Z",
     "shell.execute_reply": "2021-08-04T06:28:44.376684Z"
    }
   },
   "outputs": [
    {
     "data": {
      "image/svg+xml": [
       "<?xml version=\"1.0\" encoding=\"UTF-8\" standalone=\"no\"?><svg xmlns=\"http://www.w3.org/2000/svg\" xmlns:xlink=\"http://www.w3.org/1999/xlink\" contentScriptType=\"application/ecmascript\" contentStyleType=\"text/css\" height=\"305px\" preserveAspectRatio=\"none\" style=\"width:349px;height:305px;\" version=\"1.1\" viewBox=\"0 0 349 305\" width=\"349px\" zoomAndPan=\"magnify\"><defs/><g><!--MD5=[fbc87193dbaf4d95561dea2c320d4a47]\n",
       "cluster E1--><a href=\"psysml:e269850e-1dc2-4cd5-af8e-eb4ea9f30c1b\" target=\"_top\" title=\"psysml:e269850e-1dc2-4cd5-af8e-eb4ea9f30c1b\" xlink:actuate=\"onRequest\" xlink:href=\"psysml:e269850e-1dc2-4cd5-af8e-eb4ea9f30c1b\" xlink:show=\"new\" xlink:title=\"psysml:e269850e-1dc2-4cd5-af8e-eb4ea9f30c1b\" xlink:type=\"simple\"><polygon fill=\"#FFFFFF\" points=\"16,6,157,6,164,28.2969,327,28.2969,327,293,16,293,16,6\" style=\"stroke: #000000; stroke-width: 1.5;\"/><line style=\"stroke: #000000; stroke-width: 1.5;\" x1=\"16\" x2=\"164\" y1=\"28.2969\" y2=\"28.2969\"/><text fill=\"#000000\" font-family=\"sans-serif\" font-size=\"14\" font-weight=\"bold\" lengthAdjust=\"spacingAndGlyphs\" textLength=\"135\" x=\"20\" y=\"20.9951\">DefaultValueTest</text></a><!--MD5=[b4997ac47864f28c2f74865a473b2911]\n",
       "class E2--><a href=\"psysml:e7bf9c65-3f81-4ba3-bb8e-9b75385edfca\" target=\"_top\" title=\"psysml:e7bf9c65-3f81-4ba3-bb8e-9b75385edfca\" xlink:actuate=\"onRequest\" xlink:href=\"psysml:e7bf9c65-3f81-4ba3-bb8e-9b75385edfca\" xlink:show=\"new\" xlink:title=\"psysml:e7bf9c65-3f81-4ba3-bb8e-9b75385edfca\" xlink:type=\"simple\"><rect fill=\"#FFFFFF\" height=\"88.3516\" id=\"E2\" style=\"stroke: #383838; stroke-width: 1.5;\" width=\"106\" x=\"156\" y=\"189\"/><text fill=\"#000000\" font-family=\"sans-serif\" font-size=\"12\" font-style=\"italic\" lengthAdjust=\"spacingAndGlyphs\" textLength=\"64\" x=\"177\" y=\"205.1387\">«part def»</text><text fill=\"#000000\" font-family=\"sans-serif\" font-size=\"12\" lengthAdjust=\"spacingAndGlyphs\" textLength=\"8\" x=\"205\" y=\"219.1074\">V</text><line style=\"stroke: #383838; stroke-width: 1.5;\" x1=\"157\" x2=\"261\" y1=\"226.9375\" y2=\"226.9375\"/><text fill=\"#000000\" font-family=\"sans-serif\" font-size=\"11\" lengthAdjust=\"spacingAndGlyphs\" textLength=\"94\" x=\"162\" y=\"257.9526\">m=default = 10;</text><text fill=\"#000000\" font-family=\"sans-serif\" font-size=\"11\" lengthAdjust=\"spacingAndGlyphs\" textLength=\"38\" x=\"162\" y=\"270.7573\">n= 20;</text><line style=\"stroke: #383838; stroke-width: 1.0;\" x1=\"157\" x2=\"181.5\" y1=\"241.3398\" y2=\"241.3398\"/><text fill=\"#000000\" font-family=\"sans-serif\" font-size=\"11\" lengthAdjust=\"spacingAndGlyphs\" textLength=\"55\" x=\"181.5\" y=\"244.6479\">attributes</text><line style=\"stroke: #383838; stroke-width: 1.0;\" x1=\"236.5\" x2=\"261\" y1=\"241.3398\" y2=\"241.3398\"/></a><!--MD5=[09b614a08d8cba4a07c9adeb5e0fee81]\n",
       "class E3--><a href=\"psysml:f1f60863-7632-47b0-830a-21cb33ae86b3\" target=\"_top\" title=\"psysml:f1f60863-7632-47b0-830a-21cb33ae86b3\" xlink:actuate=\"onRequest\" xlink:href=\"psysml:f1f60863-7632-47b0-830a-21cb33ae86b3\" xlink:show=\"new\" xlink:title=\"psysml:f1f60863-7632-47b0-830a-21cb33ae86b3\" xlink:type=\"simple\"><rect fill=\"#FFFFFF\" height=\"88.3516\" id=\"E3\" rx=\"10\" ry=\"10\" style=\"stroke: #383838; stroke-width: 1.5;\" width=\"63\" x=\"247.5\" y=\"41\"/><text fill=\"#000000\" font-family=\"sans-serif\" font-size=\"12\" font-style=\"italic\" lengthAdjust=\"spacingAndGlyphs\" textLength=\"40\" x=\"259\" y=\"57.1387\">«part»</text><text fill=\"#000000\" font-family=\"sans-serif\" font-size=\"12\" lengthAdjust=\"spacingAndGlyphs\" textLength=\"30\" x=\"264\" y=\"71.1074\">v1: V</text><line style=\"stroke: #383838; stroke-width: 1.5;\" x1=\"248.5\" x2=\"309.5\" y1=\"78.9375\" y2=\"78.9375\"/><text fill=\"#000000\" font-family=\"sans-serif\" font-size=\"11\" lengthAdjust=\"spacingAndGlyphs\" textLength=\"42\" x=\"253.5\" y=\"109.9526\">m= 20;</text><text fill=\"#000000\" font-family=\"sans-serif\" font-size=\"11\" font-style=\"italic\" lengthAdjust=\"spacingAndGlyphs\" textLength=\"48\" x=\"253.5\" y=\"122.7573\">:&gt;&gt;V::m</text><line style=\"stroke: #383838; stroke-width: 1.0;\" x1=\"248.5\" x2=\"251.5\" y1=\"93.3398\" y2=\"93.3398\"/><text fill=\"#000000\" font-family=\"sans-serif\" font-size=\"11\" lengthAdjust=\"spacingAndGlyphs\" textLength=\"55\" x=\"251.5\" y=\"96.6479\">attributes</text><line style=\"stroke: #383838; stroke-width: 1.0;\" x1=\"306.5\" x2=\"309.5\" y1=\"93.3398\" y2=\"93.3398\"/></a><!--MD5=[ebbe1d658d1005bcc118a6aa81145e00]\n",
       "class E4--><a href=\"psysml:92194191-781a-4f9d-991e-568f466dae89\" target=\"_top\" title=\"psysml:92194191-781a-4f9d-991e-568f466dae89\" xlink:actuate=\"onRequest\" xlink:href=\"psysml:92194191-781a-4f9d-991e-568f466dae89\" xlink:show=\"new\" xlink:title=\"psysml:92194191-781a-4f9d-991e-568f466dae89\" xlink:type=\"simple\"><rect fill=\"#FFFFFF\" height=\"88.3516\" id=\"E4\" style=\"stroke: #383838; stroke-width: 1.5;\" width=\"103\" x=\"109.5\" y=\"41\"/><text fill=\"#000000\" font-family=\"sans-serif\" font-size=\"12\" font-style=\"italic\" lengthAdjust=\"spacingAndGlyphs\" textLength=\"64\" x=\"129\" y=\"57.1387\">«part def»</text><text fill=\"#000000\" font-family=\"sans-serif\" font-size=\"12\" lengthAdjust=\"spacingAndGlyphs\" textLength=\"11\" x=\"155.5\" y=\"71.1074\">W</text><line style=\"stroke: #383838; stroke-width: 1.5;\" x1=\"110.5\" x2=\"211.5\" y1=\"78.9375\" y2=\"78.9375\"/><text fill=\"#000000\" font-family=\"sans-serif\" font-size=\"11\" lengthAdjust=\"spacingAndGlyphs\" textLength=\"87\" x=\"115.5\" y=\"109.9526\">m=default = n;</text><text fill=\"#000000\" font-family=\"sans-serif\" font-size=\"11\" font-style=\"italic\" lengthAdjust=\"spacingAndGlyphs\" textLength=\"48\" x=\"115.5\" y=\"122.7573\">:&gt;&gt;V::m</text><line style=\"stroke: #383838; stroke-width: 1.0;\" x1=\"110.5\" x2=\"133.5\" y1=\"93.3398\" y2=\"93.3398\"/><text fill=\"#000000\" font-family=\"sans-serif\" font-size=\"11\" lengthAdjust=\"spacingAndGlyphs\" textLength=\"55\" x=\"133.5\" y=\"96.6479\">attributes</text><line style=\"stroke: #383838; stroke-width: 1.0;\" x1=\"188.5\" x2=\"211.5\" y1=\"93.3398\" y2=\"93.3398\"/></a><!--MD5=[270fce915f116d4de14055a7c1d9a0f3]\n",
       "class E5--><a href=\"psysml:12e8b862-a297-4118-9bc9-39ad14290527\" target=\"_top\" title=\"psysml:12e8b862-a297-4118-9bc9-39ad14290527\" xlink:actuate=\"onRequest\" xlink:href=\"psysml:12e8b862-a297-4118-9bc9-39ad14290527\" xlink:show=\"new\" xlink:title=\"psysml:12e8b862-a297-4118-9bc9-39ad14290527\" xlink:type=\"simple\"><rect fill=\"#FFFFFF\" height=\"45.9375\" id=\"E5\" rx=\"10\" ry=\"10\" style=\"stroke: #383838; stroke-width: 1.5;\" width=\"42\" x=\"32\" y=\"62\"/><text fill=\"#000000\" font-family=\"sans-serif\" font-size=\"12\" font-style=\"italic\" lengthAdjust=\"spacingAndGlyphs\" textLength=\"40\" x=\"33\" y=\"78.1387\">«part»</text><text fill=\"#000000\" font-family=\"sans-serif\" font-size=\"12\" lengthAdjust=\"spacingAndGlyphs\" textLength=\"14\" x=\"46\" y=\"92.1074\">v2</text><line style=\"stroke: #383838; stroke-width: 1.5;\" x1=\"33\" x2=\"73\" y1=\"99.9375\" y2=\"99.9375\"/></a><!--MD5=[05d275557350bfb9b23a4ef7222b4c39]\n",
       "link E3 to E2--><a href=\"psysml:a976bee6-0dca-4565-96d2-a44c4ac1d16a\" target=\"_top\" title=\"psysml:a976bee6-0dca-4565-96d2-a44c4ac1d16a\" xlink:actuate=\"onRequest\" xlink:href=\"psysml:a976bee6-0dca-4565-96d2-a44c4ac1d16a\" xlink:show=\"new\" xlink:title=\"psysml:a976bee6-0dca-4565-96d2-a44c4ac1d16a\" xlink:type=\"simple\"><path d=\"M258.38,129.02 C252.17,141.97 245.22,156.45 238.55,170.36 \" fill=\"none\" id=\"E3-&gt;E2\" style=\"stroke: #383838; stroke-width: 1.0;\"/><polygon fill=\"#FFFFFF\" points=\"229.72,188.79,231.6151,168.6304,244.2413,174.6786,229.72,188.79\" style=\"stroke: #383838; stroke-width: 1.0;\"/><ellipse cx=\"235.8813\" cy=\"164.3538\" fill=\"#383838\" rx=\"2\" ry=\"2\" style=\"stroke: #383838; stroke-width: 1.0;\"/><ellipse cx=\"244.9\" cy=\"168.6739\" fill=\"#383838\" rx=\"2\" ry=\"2\" style=\"stroke: #383838; stroke-width: 1.0;\"/></a><!--MD5=[185131fc0dcab0a4505a2ebe144e961b]\n",
       "link E4 to E2--><a href=\"psysml:80b8c15c-720d-43cf-a3f3-f1ac8ca72d6e\" target=\"_top\" title=\"psysml:80b8c15c-720d-43cf-a3f3-f1ac8ca72d6e\" xlink:actuate=\"onRequest\" xlink:href=\"psysml:80b8c15c-720d-43cf-a3f3-f1ac8ca72d6e\" xlink:show=\"new\" xlink:title=\"psysml:80b8c15c-720d-43cf-a3f3-f1ac8ca72d6e\" xlink:type=\"simple\"><path d=\"M175.14,129.02 C179.3,141.67 183.94,155.79 188.42,169.41 \" fill=\"none\" id=\"E4-&gt;E2\" style=\"stroke: #383838; stroke-width: 1.0;\"/><polygon fill=\"none\" points=\"195.2,167.6,194.79,188.79,181.9,171.97,195.2,167.6\" style=\"stroke: #383838; stroke-width: 1.0;\"/></a><!--MD5=[df7f3e1a3f92c9e4fca97c215c06507b]\n",
       "@startuml\r\n",
       "skinparam monochrome true\r\n",
       "skinparam classbackgroundcolor white\r\n",
       "skinparam shadowing false\r\n",
       "skinparam wrapWidth 300\r\n",
       "hide circle\r\n",
       "\r\n",
       "package \"DefaultValueTest\" as E1  [[psysml:e269850e-1dc2-4cd5-af8e-eb4ea9f30c1b ]]  {\r\n",
       "comp def \"V\" as E2  <<(T,blue) part def>> [[psysml:e7bf9c65-3f81-4ba3-bb8e-9b75385edfca ]] {\r\n",
       "- - attributes - -\r\n",
       "m=default = 10; \r\n",
       "n= 20; \r\n",
       "}\r\n",
       "comp usage \"v1: V\" as E3  <<(T,blue) part>> [[psysml:f1f60863-7632-47b0-830a-21cb33ae86b3 ]] {\r\n",
       "- - attributes - -\r\n",
       "m= 20; \\n//:>>V::m// \r\n",
       "}\r\n",
       "comp def \"W\" as E4  <<(T,blue) part def>> [[psysml:92194191-781a-4f9d-991e-568f466dae89 ]] {\r\n",
       "- - attributes - -\r\n",
       "m=default = n; \\n//:>>V::m// \r\n",
       "}\r\n",
       "comp usage \"v2\" as E5  <<(T,blue) part>> [[psysml:12e8b862-a297-4118-9bc9-39ad14290527 ]] {\r\n",
       "}\r\n",
       "E3 - -:|> E2 [[psysml:a976bee6-0dca-4565-96d2-a44c4ac1d16a ]] \r\n",
       "E4 - -|> E2 [[psysml:80b8c15c-720d-43cf-a3f3-f1ac8ca72d6e ]] \r\n",
       "}\r\n",
       "@enduml\r\n",
       "\n",
       "PlantUML version 1.2020.13(Sat Jun 13 12:26:38 UTC 2020)\n",
       "(EPL source distribution)\n",
       "Java Runtime: OpenJDK Runtime Environment\n",
       "JVM: OpenJDK 64-Bit Server VM\n",
       "Default Encoding: UTF-8\n",
       "Language: en\n",
       "Country: null\n",
       "--></g></svg>"
      ]
     },
     "execution_count": 37,
     "metadata": {},
     "output_type": "execute_result"
    }
   ],
   "source": [
    "%viz --style=\"DEFAULT\" --view=\"Default\" \"DefaultValueTest\""
   ]
  },
  {
   "cell_type": "code",
   "execution_count": 38,
   "id": "db9c1918",
   "metadata": {
    "execution": {
     "iopub.execute_input": "2021-08-04T06:28:44.427056Z",
     "iopub.status.busy": "2021-08-04T06:28:44.426793Z",
     "iopub.status.idle": "2021-08-04T06:28:44.483502Z",
     "shell.execute_reply": "2021-08-04T06:28:44.482204Z"
    }
   },
   "outputs": [
    {
     "data": {
      "image/svg+xml": [
       "<?xml version=\"1.0\" encoding=\"UTF-8\" standalone=\"no\"?><svg xmlns=\"http://www.w3.org/2000/svg\" xmlns:xlink=\"http://www.w3.org/1999/xlink\" contentScriptType=\"application/ecmascript\" contentStyleType=\"text/css\" height=\"305px\" preserveAspectRatio=\"none\" style=\"width:349px;height:305px;\" version=\"1.1\" viewBox=\"0 0 349 305\" width=\"349px\" zoomAndPan=\"magnify\"><defs/><g><!--MD5=[fbc87193dbaf4d95561dea2c320d4a47]\n",
       "cluster E1--><a href=\"psysml:e269850e-1dc2-4cd5-af8e-eb4ea9f30c1b\" target=\"_top\" title=\"psysml:e269850e-1dc2-4cd5-af8e-eb4ea9f30c1b\" xlink:actuate=\"onRequest\" xlink:href=\"psysml:e269850e-1dc2-4cd5-af8e-eb4ea9f30c1b\" xlink:show=\"new\" xlink:title=\"psysml:e269850e-1dc2-4cd5-af8e-eb4ea9f30c1b\" xlink:type=\"simple\"><polygon fill=\"#FFFFFF\" points=\"16,6,157,6,164,28.2969,327,28.2969,327,293,16,293,16,6\" style=\"stroke: #000000; stroke-width: 1.5;\"/><line style=\"stroke: #000000; stroke-width: 1.5;\" x1=\"16\" x2=\"164\" y1=\"28.2969\" y2=\"28.2969\"/><text fill=\"#000000\" font-family=\"sans-serif\" font-size=\"14\" font-weight=\"bold\" lengthAdjust=\"spacingAndGlyphs\" textLength=\"135\" x=\"20\" y=\"20.9951\">DefaultValueTest</text></a><!--MD5=[b4997ac47864f28c2f74865a473b2911]\n",
       "class E2--><a href=\"psysml:e7bf9c65-3f81-4ba3-bb8e-9b75385edfca\" target=\"_top\" title=\"psysml:e7bf9c65-3f81-4ba3-bb8e-9b75385edfca\" xlink:actuate=\"onRequest\" xlink:href=\"psysml:e7bf9c65-3f81-4ba3-bb8e-9b75385edfca\" xlink:show=\"new\" xlink:title=\"psysml:e7bf9c65-3f81-4ba3-bb8e-9b75385edfca\" xlink:type=\"simple\"><rect fill=\"#FFFFFF\" height=\"88.3516\" id=\"E2\" style=\"stroke: #383838; stroke-width: 1.5;\" width=\"106\" x=\"156\" y=\"189\"/><text fill=\"#000000\" font-family=\"sans-serif\" font-size=\"12\" font-style=\"italic\" lengthAdjust=\"spacingAndGlyphs\" textLength=\"64\" x=\"177\" y=\"205.1387\">«part def»</text><text fill=\"#000000\" font-family=\"sans-serif\" font-size=\"12\" lengthAdjust=\"spacingAndGlyphs\" textLength=\"8\" x=\"205\" y=\"219.1074\">V</text><line style=\"stroke: #383838; stroke-width: 1.5;\" x1=\"157\" x2=\"261\" y1=\"226.9375\" y2=\"226.9375\"/><text fill=\"#000000\" font-family=\"sans-serif\" font-size=\"11\" lengthAdjust=\"spacingAndGlyphs\" textLength=\"94\" x=\"162\" y=\"257.9526\">m=default = 10;</text><text fill=\"#000000\" font-family=\"sans-serif\" font-size=\"11\" lengthAdjust=\"spacingAndGlyphs\" textLength=\"38\" x=\"162\" y=\"270.7573\">n= 20;</text><line style=\"stroke: #383838; stroke-width: 1.0;\" x1=\"157\" x2=\"181.5\" y1=\"241.3398\" y2=\"241.3398\"/><text fill=\"#000000\" font-family=\"sans-serif\" font-size=\"11\" lengthAdjust=\"spacingAndGlyphs\" textLength=\"55\" x=\"181.5\" y=\"244.6479\">attributes</text><line style=\"stroke: #383838; stroke-width: 1.0;\" x1=\"236.5\" x2=\"261\" y1=\"241.3398\" y2=\"241.3398\"/></a><!--MD5=[09b614a08d8cba4a07c9adeb5e0fee81]\n",
       "class E3--><a href=\"psysml:f1f60863-7632-47b0-830a-21cb33ae86b3\" target=\"_top\" title=\"psysml:f1f60863-7632-47b0-830a-21cb33ae86b3\" xlink:actuate=\"onRequest\" xlink:href=\"psysml:f1f60863-7632-47b0-830a-21cb33ae86b3\" xlink:show=\"new\" xlink:title=\"psysml:f1f60863-7632-47b0-830a-21cb33ae86b3\" xlink:type=\"simple\"><rect fill=\"#FFFFFF\" height=\"88.3516\" id=\"E3\" rx=\"10\" ry=\"10\" style=\"stroke: #383838; stroke-width: 1.5;\" width=\"63\" x=\"247.5\" y=\"41\"/><text fill=\"#000000\" font-family=\"sans-serif\" font-size=\"12\" font-style=\"italic\" lengthAdjust=\"spacingAndGlyphs\" textLength=\"40\" x=\"259\" y=\"57.1387\">«part»</text><text fill=\"#000000\" font-family=\"sans-serif\" font-size=\"12\" lengthAdjust=\"spacingAndGlyphs\" textLength=\"30\" x=\"264\" y=\"71.1074\">v1: V</text><line style=\"stroke: #383838; stroke-width: 1.5;\" x1=\"248.5\" x2=\"309.5\" y1=\"78.9375\" y2=\"78.9375\"/><text fill=\"#000000\" font-family=\"sans-serif\" font-size=\"11\" lengthAdjust=\"spacingAndGlyphs\" textLength=\"42\" x=\"253.5\" y=\"109.9526\">m= 20;</text><text fill=\"#000000\" font-family=\"sans-serif\" font-size=\"11\" font-style=\"italic\" lengthAdjust=\"spacingAndGlyphs\" textLength=\"48\" x=\"253.5\" y=\"122.7573\">:&gt;&gt;V::m</text><line style=\"stroke: #383838; stroke-width: 1.0;\" x1=\"248.5\" x2=\"251.5\" y1=\"93.3398\" y2=\"93.3398\"/><text fill=\"#000000\" font-family=\"sans-serif\" font-size=\"11\" lengthAdjust=\"spacingAndGlyphs\" textLength=\"55\" x=\"251.5\" y=\"96.6479\">attributes</text><line style=\"stroke: #383838; stroke-width: 1.0;\" x1=\"306.5\" x2=\"309.5\" y1=\"93.3398\" y2=\"93.3398\"/></a><!--MD5=[ebbe1d658d1005bcc118a6aa81145e00]\n",
       "class E4--><a href=\"psysml:92194191-781a-4f9d-991e-568f466dae89\" target=\"_top\" title=\"psysml:92194191-781a-4f9d-991e-568f466dae89\" xlink:actuate=\"onRequest\" xlink:href=\"psysml:92194191-781a-4f9d-991e-568f466dae89\" xlink:show=\"new\" xlink:title=\"psysml:92194191-781a-4f9d-991e-568f466dae89\" xlink:type=\"simple\"><rect fill=\"#FFFFFF\" height=\"88.3516\" id=\"E4\" style=\"stroke: #383838; stroke-width: 1.5;\" width=\"103\" x=\"109.5\" y=\"41\"/><text fill=\"#000000\" font-family=\"sans-serif\" font-size=\"12\" font-style=\"italic\" lengthAdjust=\"spacingAndGlyphs\" textLength=\"64\" x=\"129\" y=\"57.1387\">«part def»</text><text fill=\"#000000\" font-family=\"sans-serif\" font-size=\"12\" lengthAdjust=\"spacingAndGlyphs\" textLength=\"11\" x=\"155.5\" y=\"71.1074\">W</text><line style=\"stroke: #383838; stroke-width: 1.5;\" x1=\"110.5\" x2=\"211.5\" y1=\"78.9375\" y2=\"78.9375\"/><text fill=\"#000000\" font-family=\"sans-serif\" font-size=\"11\" lengthAdjust=\"spacingAndGlyphs\" textLength=\"87\" x=\"115.5\" y=\"109.9526\">m=default = n;</text><text fill=\"#000000\" font-family=\"sans-serif\" font-size=\"11\" font-style=\"italic\" lengthAdjust=\"spacingAndGlyphs\" textLength=\"48\" x=\"115.5\" y=\"122.7573\">:&gt;&gt;V::m</text><line style=\"stroke: #383838; stroke-width: 1.0;\" x1=\"110.5\" x2=\"133.5\" y1=\"93.3398\" y2=\"93.3398\"/><text fill=\"#000000\" font-family=\"sans-serif\" font-size=\"11\" lengthAdjust=\"spacingAndGlyphs\" textLength=\"55\" x=\"133.5\" y=\"96.6479\">attributes</text><line style=\"stroke: #383838; stroke-width: 1.0;\" x1=\"188.5\" x2=\"211.5\" y1=\"93.3398\" y2=\"93.3398\"/></a><!--MD5=[270fce915f116d4de14055a7c1d9a0f3]\n",
       "class E5--><a href=\"psysml:12e8b862-a297-4118-9bc9-39ad14290527\" target=\"_top\" title=\"psysml:12e8b862-a297-4118-9bc9-39ad14290527\" xlink:actuate=\"onRequest\" xlink:href=\"psysml:12e8b862-a297-4118-9bc9-39ad14290527\" xlink:show=\"new\" xlink:title=\"psysml:12e8b862-a297-4118-9bc9-39ad14290527\" xlink:type=\"simple\"><rect fill=\"#FFFFFF\" height=\"45.9375\" id=\"E5\" rx=\"10\" ry=\"10\" style=\"stroke: #383838; stroke-width: 1.5;\" width=\"42\" x=\"32\" y=\"62\"/><text fill=\"#000000\" font-family=\"sans-serif\" font-size=\"12\" font-style=\"italic\" lengthAdjust=\"spacingAndGlyphs\" textLength=\"40\" x=\"33\" y=\"78.1387\">«part»</text><text fill=\"#000000\" font-family=\"sans-serif\" font-size=\"12\" lengthAdjust=\"spacingAndGlyphs\" textLength=\"14\" x=\"46\" y=\"92.1074\">v2</text><line style=\"stroke: #383838; stroke-width: 1.5;\" x1=\"33\" x2=\"73\" y1=\"99.9375\" y2=\"99.9375\"/></a><!--MD5=[05d275557350bfb9b23a4ef7222b4c39]\n",
       "link E3 to E2--><a href=\"psysml:a976bee6-0dca-4565-96d2-a44c4ac1d16a\" target=\"_top\" title=\"psysml:a976bee6-0dca-4565-96d2-a44c4ac1d16a\" xlink:actuate=\"onRequest\" xlink:href=\"psysml:a976bee6-0dca-4565-96d2-a44c4ac1d16a\" xlink:show=\"new\" xlink:title=\"psysml:a976bee6-0dca-4565-96d2-a44c4ac1d16a\" xlink:type=\"simple\"><path d=\"M258.38,129.02 C252.17,141.97 245.22,156.45 238.55,170.36 \" fill=\"none\" id=\"E3-&gt;E2\" style=\"stroke: #383838; stroke-width: 1.0;\"/><polygon fill=\"#FFFFFF\" points=\"229.72,188.79,231.6151,168.6304,244.2413,174.6786,229.72,188.79\" style=\"stroke: #383838; stroke-width: 1.0;\"/><ellipse cx=\"235.8813\" cy=\"164.3538\" fill=\"#383838\" rx=\"2\" ry=\"2\" style=\"stroke: #383838; stroke-width: 1.0;\"/><ellipse cx=\"244.9\" cy=\"168.6739\" fill=\"#383838\" rx=\"2\" ry=\"2\" style=\"stroke: #383838; stroke-width: 1.0;\"/></a><!--MD5=[185131fc0dcab0a4505a2ebe144e961b]\n",
       "link E4 to E2--><a href=\"psysml:80b8c15c-720d-43cf-a3f3-f1ac8ca72d6e\" target=\"_top\" title=\"psysml:80b8c15c-720d-43cf-a3f3-f1ac8ca72d6e\" xlink:actuate=\"onRequest\" xlink:href=\"psysml:80b8c15c-720d-43cf-a3f3-f1ac8ca72d6e\" xlink:show=\"new\" xlink:title=\"psysml:80b8c15c-720d-43cf-a3f3-f1ac8ca72d6e\" xlink:type=\"simple\"><path d=\"M175.14,129.02 C179.3,141.67 183.94,155.79 188.42,169.41 \" fill=\"none\" id=\"E4-&gt;E2\" style=\"stroke: #383838; stroke-width: 1.0;\"/><polygon fill=\"none\" points=\"195.2,167.6,194.79,188.79,181.9,171.97,195.2,167.6\" style=\"stroke: #383838; stroke-width: 1.0;\"/></a><!--MD5=[df7f3e1a3f92c9e4fca97c215c06507b]\n",
       "@startuml\r\n",
       "skinparam monochrome true\r\n",
       "skinparam classbackgroundcolor white\r\n",
       "skinparam shadowing false\r\n",
       "skinparam wrapWidth 300\r\n",
       "hide circle\r\n",
       "\r\n",
       "package \"DefaultValueTest\" as E1  [[psysml:e269850e-1dc2-4cd5-af8e-eb4ea9f30c1b ]]  {\r\n",
       "comp def \"V\" as E2  <<(T,blue) part def>> [[psysml:e7bf9c65-3f81-4ba3-bb8e-9b75385edfca ]] {\r\n",
       "- - attributes - -\r\n",
       "m=default = 10; \r\n",
       "n= 20; \r\n",
       "}\r\n",
       "comp usage \"v1: V\" as E3  <<(T,blue) part>> [[psysml:f1f60863-7632-47b0-830a-21cb33ae86b3 ]] {\r\n",
       "- - attributes - -\r\n",
       "m= 20; \\n//:>>V::m// \r\n",
       "}\r\n",
       "comp def \"W\" as E4  <<(T,blue) part def>> [[psysml:92194191-781a-4f9d-991e-568f466dae89 ]] {\r\n",
       "- - attributes - -\r\n",
       "m=default = n; \\n//:>>V::m// \r\n",
       "}\r\n",
       "comp usage \"v2\" as E5  <<(T,blue) part>> [[psysml:12e8b862-a297-4118-9bc9-39ad14290527 ]] {\r\n",
       "}\r\n",
       "E3 - -:|> E2 [[psysml:a976bee6-0dca-4565-96d2-a44c4ac1d16a ]] \r\n",
       "E4 - -|> E2 [[psysml:80b8c15c-720d-43cf-a3f3-f1ac8ca72d6e ]] \r\n",
       "}\r\n",
       "@enduml\r\n",
       "\n",
       "PlantUML version 1.2020.13(Sat Jun 13 12:26:38 UTC 2020)\n",
       "(EPL source distribution)\n",
       "Java Runtime: OpenJDK Runtime Environment\n",
       "JVM: OpenJDK 64-Bit Server VM\n",
       "Default Encoding: UTF-8\n",
       "Language: en\n",
       "Country: null\n",
       "--></g></svg>"
      ]
     },
     "execution_count": 38,
     "metadata": {},
     "output_type": "execute_result"
    }
   ],
   "source": [
    "%viz --style=\"DEFAULT\" --view=\"Tree\" \"DefaultValueTest\""
   ]
  },
  {
   "cell_type": "code",
   "execution_count": 39,
   "id": "62bf5394",
   "metadata": {
    "execution": {
     "iopub.execute_input": "2021-08-04T06:28:44.532827Z",
     "iopub.status.busy": "2021-08-04T06:28:44.532377Z",
     "iopub.status.idle": "2021-08-04T06:28:44.535895Z",
     "shell.execute_reply": "2021-08-04T06:28:44.535508Z"
    }
   },
   "outputs": [
    {
     "data": {
      "image/svg+xml": [
       "<?xml version=\"1.0\" encoding=\"UTF-8\" standalone=\"no\"?><svg xmlns=\"http://www.w3.org/2000/svg\" xmlns:xlink=\"http://www.w3.org/1999/xlink\" contentScriptType=\"application/ecmascript\" contentStyleType=\"text/css\" height=\"12px\" preserveAspectRatio=\"none\" style=\"width:12px;height:12px;\" version=\"1.1\" viewBox=\"0 0 12 12\" width=\"12px\" zoomAndPan=\"magnify\"><defs/><g><!--MD5=[c5f280e076d0d61ccf4b0f27871bda1d]\n",
       "@startuml\r\n",
       "skinparam monochrome true\r\n",
       "skinparam classbackgroundcolor white\r\n",
       "skinparam shadowing false\r\n",
       "skinparam wrapWidth 300\r\n",
       "hide circle\r\n",
       "\r\n",
       "@enduml\r\n",
       "\n",
       "PlantUML version 1.2020.13(Sat Jun 13 12:26:38 UTC 2020)\n",
       "(EPL source distribution)\n",
       "Java Runtime: OpenJDK Runtime Environment\n",
       "JVM: OpenJDK 64-Bit Server VM\n",
       "Default Encoding: UTF-8\n",
       "Language: en\n",
       "Country: null\n",
       "--></g></svg>"
      ]
     },
     "execution_count": 39,
     "metadata": {},
     "output_type": "execute_result"
    }
   ],
   "source": [
    "%viz --style=\"DEFAULT\" --view=\"State\" \"DefaultValueTest\""
   ]
  },
  {
   "cell_type": "code",
   "execution_count": 40,
   "id": "a7fdd953",
   "metadata": {
    "execution": {
     "iopub.execute_input": "2021-08-04T06:28:44.586165Z",
     "iopub.status.busy": "2021-08-04T06:28:44.585657Z",
     "iopub.status.idle": "2021-08-04T06:28:44.619306Z",
     "shell.execute_reply": "2021-08-04T06:28:44.617461Z"
    }
   },
   "outputs": [
    {
     "data": {
      "image/svg+xml": [
       "<?xml version=\"1.0\" encoding=\"UTF-8\" standalone=\"no\"?><svg xmlns=\"http://www.w3.org/2000/svg\" xmlns:xlink=\"http://www.w3.org/1999/xlink\" contentScriptType=\"application/ecmascript\" contentStyleType=\"text/css\" height=\"399px\" preserveAspectRatio=\"none\" style=\"width:448px;height:399px;\" version=\"1.1\" viewBox=\"0 0 448 399\" width=\"448px\" zoomAndPan=\"magnify\"><defs/><g><!--MD5=[fbc87193dbaf4d95561dea2c320d4a47]\n",
       "cluster E1--><a href=\"psysml:e269850e-1dc2-4cd5-af8e-eb4ea9f30c1b\" target=\"_top\" title=\"psysml:e269850e-1dc2-4cd5-af8e-eb4ea9f30c1b\" xlink:actuate=\"onRequest\" xlink:href=\"psysml:e269850e-1dc2-4cd5-af8e-eb4ea9f30c1b\" xlink:show=\"new\" xlink:title=\"psysml:e269850e-1dc2-4cd5-af8e-eb4ea9f30c1b\" xlink:type=\"simple\"><polygon fill=\"#FFFFFF\" points=\"16,6,157,6,164,28.2969,426,28.2969,426,387,16,387,16,6\" style=\"stroke: #000000; stroke-width: 1.5;\"/><line style=\"stroke: #000000; stroke-width: 1.5;\" x1=\"16\" x2=\"164\" y1=\"28.2969\" y2=\"28.2969\"/><text fill=\"#000000\" font-family=\"sans-serif\" font-size=\"14\" font-weight=\"bold\" lengthAdjust=\"spacingAndGlyphs\" textLength=\"135\" x=\"20\" y=\"20.9951\">DefaultValueTest</text></a><!--MD5=[e4f7fae6ed58524ba242bb0b0d3be6b7]\n",
       "cluster E2--><a href=\"psysml:e7bf9c65-3f81-4ba3-bb8e-9b75385edfca\" target=\"_top\" title=\"psysml:e7bf9c65-3f81-4ba3-bb8e-9b75385edfca\" xlink:actuate=\"onRequest\" xlink:href=\"psysml:e7bf9c65-3f81-4ba3-bb8e-9b75385edfca\" xlink:show=\"new\" xlink:title=\"psysml:e7bf9c65-3f81-4ba3-bb8e-9b75385edfca\" xlink:type=\"simple\"><rect fill=\"#FFFFFF\" height=\"129\" id=\"E2\" style=\"stroke: #383838; stroke-width: 1.5;\" width=\"245\" x=\"127\" y=\"226\"/><rect fill=\"#F8F8F8\" height=\"37.9375\" style=\"stroke: #383838; stroke-width: 1.5;\" width=\"245\" x=\"127\" y=\"226\"/><text fill=\"#000000\" font-family=\"sans-serif\" font-size=\"12\" font-style=\"italic\" lengthAdjust=\"spacingAndGlyphs\" textLength=\"64\" x=\"217.5\" y=\"242.1387\">«part def»</text><text fill=\"#000000\" font-family=\"sans-serif\" font-size=\"12\" lengthAdjust=\"spacingAndGlyphs\" textLength=\"8\" x=\"245.5\" y=\"256.1074\">V</text></a><!--MD5=[de5ec2e2e8f62f467e546659f5068c88]\n",
       "cluster E5--><a href=\"psysml:f1f60863-7632-47b0-830a-21cb33ae86b3\" target=\"_top\" title=\"psysml:f1f60863-7632-47b0-830a-21cb33ae86b3\" xlink:actuate=\"onRequest\" xlink:href=\"psysml:f1f60863-7632-47b0-830a-21cb33ae86b3\" xlink:show=\"new\" xlink:title=\"psysml:f1f60863-7632-47b0-830a-21cb33ae86b3\" xlink:type=\"simple\"><rect fill=\"#FFFFFF\" height=\"97\" id=\"E5\" rx=\"10\" ry=\"10\" style=\"stroke: #383838; stroke-width: 1.5;\" width=\"104\" x=\"298\" y=\"81\"/><rect fill=\"#F8F8F8\" height=\"23.9688\" rx=\"10\" ry=\"10\" style=\"stroke: #F8F8F8; stroke-width: 1.5;\" width=\"104\" x=\"298\" y=\"81\"/><rect fill=\"#F8F8F8\" height=\"10\" style=\"stroke: #F8F8F8; stroke-width: 1.5;\" width=\"104\" x=\"298\" y=\"94.9688\"/><rect fill=\"none\" height=\"97\" id=\"E5\" rx=\"10\" ry=\"10\" style=\"stroke: #383838; stroke-width: 1.5;\" width=\"104\" x=\"298\" y=\"81\"/><text fill=\"#000000\" font-family=\"sans-serif\" font-size=\"12\" lengthAdjust=\"spacingAndGlyphs\" textLength=\"30\" x=\"335\" y=\"97.1387\">v1: V</text><line style=\"stroke: #383838; stroke-width: 1.0;\" x1=\"298\" x2=\"402\" y1=\"104.9688\" y2=\"104.9688\"/></a><!--MD5=[168fadf3d0c3fd93dd5d6da1b1d7ab76]\n",
       "cluster E7--><a href=\"psysml:92194191-781a-4f9d-991e-568f466dae89\" target=\"_top\" title=\"psysml:92194191-781a-4f9d-991e-568f466dae89\" xlink:actuate=\"onRequest\" xlink:href=\"psysml:92194191-781a-4f9d-991e-568f466dae89\" xlink:show=\"new\" xlink:title=\"psysml:92194191-781a-4f9d-991e-568f466dae89\" xlink:type=\"simple\"><rect fill=\"#FFFFFF\" height=\"129\" id=\"E7\" style=\"stroke: #383838; stroke-width: 1.5;\" width=\"139\" x=\"127\" y=\"57\"/><rect fill=\"#F8F8F8\" height=\"37.9375\" style=\"stroke: #383838; stroke-width: 1.5;\" width=\"139\" x=\"127\" y=\"57\"/><text fill=\"#000000\" font-family=\"sans-serif\" font-size=\"12\" font-style=\"italic\" lengthAdjust=\"spacingAndGlyphs\" textLength=\"64\" x=\"164.5\" y=\"73.1387\">«part def»</text><text fill=\"#000000\" font-family=\"sans-serif\" font-size=\"12\" lengthAdjust=\"spacingAndGlyphs\" textLength=\"11\" x=\"191\" y=\"87.1074\">W</text></a><!--MD5=[09b614a08d8cba4a07c9adeb5e0fee81]\n",
       "class E3--><a href=\"psysml:a2ea0978-930d-4f5d-93d2-d64a4094d2a2\" target=\"_top\" title=\"psysml:a2ea0978-930d-4f5d-93d2-d64a4094d2a2\" xlink:actuate=\"onRequest\" xlink:href=\"psysml:a2ea0978-930d-4f5d-93d2-d64a4094d2a2\" xlink:show=\"new\" xlink:title=\"psysml:a2ea0978-930d-4f5d-93d2-d64a4094d2a2\" xlink:type=\"simple\"><rect fill=\"#FFFFFF\" height=\"45.9375\" id=\"E3\" rx=\"10\" ry=\"10\" style=\"stroke: #383838; stroke-width: 1.5;\" width=\"71\" x=\"276.5\" y=\"285\"/><text fill=\"#000000\" font-family=\"sans-serif\" font-size=\"12\" font-style=\"italic\" lengthAdjust=\"spacingAndGlyphs\" textLength=\"69\" x=\"277.5\" y=\"301.1387\">«attribute»</text><text fill=\"#000000\" font-family=\"sans-serif\" font-size=\"12\" lengthAdjust=\"spacingAndGlyphs\" textLength=\"11\" x=\"306.5\" y=\"315.1074\">m</text><line style=\"stroke: #383838; stroke-width: 1.5;\" x1=\"277.5\" x2=\"346.5\" y1=\"322.9375\" y2=\"322.9375\"/></a><!--MD5=[ebbe1d658d1005bcc118a6aa81145e00]\n",
       "class E4--><a href=\"psysml:d2e7553d-8e48-4fb7-896c-b23e6ced71f4\" target=\"_top\" title=\"psysml:d2e7553d-8e48-4fb7-896c-b23e6ced71f4\" xlink:actuate=\"onRequest\" xlink:href=\"psysml:d2e7553d-8e48-4fb7-896c-b23e6ced71f4\" xlink:show=\"new\" xlink:title=\"psysml:d2e7553d-8e48-4fb7-896c-b23e6ced71f4\" xlink:type=\"simple\"><rect fill=\"#FFFFFF\" height=\"45.9375\" id=\"E4\" rx=\"10\" ry=\"10\" style=\"stroke: #383838; stroke-width: 1.5;\" width=\"71\" x=\"170.5\" y=\"285\"/><text fill=\"#000000\" font-family=\"sans-serif\" font-size=\"12\" font-style=\"italic\" lengthAdjust=\"spacingAndGlyphs\" textLength=\"69\" x=\"171.5\" y=\"301.1387\">«attribute»</text><text fill=\"#000000\" font-family=\"sans-serif\" font-size=\"12\" lengthAdjust=\"spacingAndGlyphs\" textLength=\"8\" x=\"202\" y=\"315.1074\">n</text><line style=\"stroke: #383838; stroke-width: 1.5;\" x1=\"171.5\" x2=\"240.5\" y1=\"322.9375\" y2=\"322.9375\"/></a><!--MD5=[60a26617385b1d2d0262a64233df1f8d]\n",
       "class E6--><a href=\"psysml:851c4b2c-147d-4a79-885c-670825576d73\" target=\"_top\" title=\"psysml:851c4b2c-147d-4a79-885c-670825576d73\" xlink:actuate=\"onRequest\" xlink:href=\"psysml:851c4b2c-147d-4a79-885c-670825576d73\" xlink:show=\"new\" xlink:title=\"psysml:851c4b2c-147d-4a79-885c-670825576d73\" xlink:type=\"simple\"><rect fill=\"#FFFFFF\" height=\"45.9375\" id=\"E6\" rx=\"10\" ry=\"10\" style=\"stroke: #383838; stroke-width: 1.5;\" width=\"71\" x=\"314.5\" y=\"116\"/><text fill=\"#000000\" font-family=\"sans-serif\" font-size=\"12\" font-style=\"italic\" lengthAdjust=\"spacingAndGlyphs\" textLength=\"69\" x=\"315.5\" y=\"132.1387\">«attribute»</text><text fill=\"#000000\" font-family=\"sans-serif\" font-size=\"12\" lengthAdjust=\"spacingAndGlyphs\" textLength=\"11\" x=\"344.5\" y=\"146.1074\">m</text><line style=\"stroke: #383838; stroke-width: 1.5;\" x1=\"315.5\" x2=\"384.5\" y1=\"153.9375\" y2=\"153.9375\"/></a><!--MD5=[b9389687b975829384b498ac4b7476b2]\n",
       "class E8--><a href=\"psysml:82127d9e-4a29-4ac4-9705-0043f6777b4c\" target=\"_top\" title=\"psysml:82127d9e-4a29-4ac4-9705-0043f6777b4c\" xlink:actuate=\"onRequest\" xlink:href=\"psysml:82127d9e-4a29-4ac4-9705-0043f6777b4c\" xlink:show=\"new\" xlink:title=\"psysml:82127d9e-4a29-4ac4-9705-0043f6777b4c\" xlink:type=\"simple\"><rect fill=\"#FFFFFF\" height=\"45.9375\" id=\"E8\" rx=\"10\" ry=\"10\" style=\"stroke: #383838; stroke-width: 1.5;\" width=\"71\" x=\"170.5\" y=\"116\"/><text fill=\"#000000\" font-family=\"sans-serif\" font-size=\"12\" font-style=\"italic\" lengthAdjust=\"spacingAndGlyphs\" textLength=\"69\" x=\"171.5\" y=\"132.1387\">«attribute»</text><text fill=\"#000000\" font-family=\"sans-serif\" font-size=\"12\" lengthAdjust=\"spacingAndGlyphs\" textLength=\"11\" x=\"200.5\" y=\"146.1074\">m</text><line style=\"stroke: #383838; stroke-width: 1.5;\" x1=\"171.5\" x2=\"240.5\" y1=\"153.9375\" y2=\"153.9375\"/></a><g id=\"E1.E9\"><a href=\"psysml:12e8b862-a297-4118-9bc9-39ad14290527\" target=\"_top\" title=\"psysml:12e8b862-a297-4118-9bc9-39ad14290527\" xlink:actuate=\"onRequest\" xlink:href=\"psysml:12e8b862-a297-4118-9bc9-39ad14290527\" xlink:show=\"new\" xlink:title=\"psysml:12e8b862-a297-4118-9bc9-39ad14290527\" xlink:type=\"simple\"><rect fill=\"#FFFFFF\" height=\"40\" id=\"E9\" rx=\"10\" ry=\"10\" style=\"stroke: #383838; stroke-width: 1.5;\" width=\"68\" x=\"32\" y=\"119\"/><rect fill=\"#F8F8F8\" height=\"23.9688\" rx=\"10\" ry=\"10\" style=\"stroke: #F8F8F8; stroke-width: 1.5;\" width=\"68\" x=\"32\" y=\"119\"/><rect fill=\"#F8F8F8\" height=\"10\" style=\"stroke: #F8F8F8; stroke-width: 1.5;\" width=\"68\" x=\"32\" y=\"132.9688\"/><rect fill=\"none\" height=\"40\" id=\"E9\" rx=\"10\" ry=\"10\" style=\"stroke: #383838; stroke-width: 1.5;\" width=\"68\" x=\"32\" y=\"119\"/><text fill=\"#000000\" font-family=\"sans-serif\" font-size=\"12\" lengthAdjust=\"spacingAndGlyphs\" textLength=\"53\" x=\"37.5\" y=\"135.1387\">v2= W();</text></a></g><!--MD5=[a717450b82c80b9240a525fa862496af]\n",
       "link E6 to E3--><a href=\"psysml:03eebbd2-05f0-47bc-92f0-0649c0e2f845\" target=\"_top\" title=\"psysml:03eebbd2-05f0-47bc-92f0-0649c0e2f845\" xlink:actuate=\"onRequest\" xlink:href=\"psysml:03eebbd2-05f0-47bc-92f0-0649c0e2f845\" xlink:show=\"new\" xlink:title=\"psysml:03eebbd2-05f0-47bc-92f0-0649c0e2f845\" xlink:type=\"simple\"><path d=\"M344.95,162.18 C338.98,188.45 328.89,232.78 321.45,265.49 \" fill=\"none\" id=\"E6-&gt;E3\" style=\"stroke: #383838; stroke-width: 1.0;\"/><polygon fill=\"#FFFFFF\" points=\"317.01,285,314.4057,264.9197,328.0559,268.0298,317.01,285\" style=\"stroke: #383838; stroke-width: 1.0;\"/><line style=\"stroke: #383838; stroke-width: 2.0;\" x1=\"315.2498\" x2=\"328.9\" y1=\"261.2147\" y2=\"264.3247\"/></a><!--MD5=[583832df87f4419a098336a29a52fa00]\n",
       "link E7 to E2--><a href=\"psysml:80b8c15c-720d-43cf-a3f3-f1ac8ca72d6e\" target=\"_top\" title=\"psysml:80b8c15c-720d-43cf-a3f3-f1ac8ca72d6e\" xlink:actuate=\"onRequest\" xlink:href=\"psysml:80b8c15c-720d-43cf-a3f3-f1ac8ca72d6e\" xlink:show=\"new\" xlink:title=\"psysml:80b8c15c-720d-43cf-a3f3-f1ac8ca72d6e\" xlink:type=\"simple\"><path d=\"M135,186.7597 C135,189.0567 135,191.4 135,193.7804 C135,203.3019 135,213.4163 135,223.53 C135,224.1621 135,224.7942 135,225.4262 C135,225.5842 135,225.7421 135,225.9001 \" fill=\"none\" id=\"E7-&gt;E2\" style=\"stroke: #383838; stroke-width: 1.0;\"/><polygon fill=\"#FFFFFF\" points=\"135,225.9001,142,206.9001,128,206.9001,135,225.9001\" style=\"stroke: #383838; stroke-width: 1.0;\"/></a><!--MD5=[95fa686b5a16158bcdbcaeead89f639b]\n",
       "link E8 to E3--><a href=\"psysml:5971ddfa-8dbb-4825-a025-1d0848bb696d\" target=\"_top\" title=\"psysml:5971ddfa-8dbb-4825-a025-1d0848bb696d\" xlink:actuate=\"onRequest\" xlink:href=\"psysml:5971ddfa-8dbb-4825-a025-1d0848bb696d\" xlink:show=\"new\" xlink:title=\"psysml:5971ddfa-8dbb-4825-a025-1d0848bb696d\" xlink:type=\"simple\"><path d=\"M224.06,162.09 C234.74,175.57 248.24,193.36 259,210 C270.79,228.22 282.5,249.28 291.91,267.1 \" fill=\"none\" id=\"E8-&gt;E3\" style=\"stroke: #383838; stroke-width: 1.0;\"/><polygon fill=\"#FFFFFF\" points=\"301.11,284.89,286.1673,271.2256,298.6042,264.7972,301.11,284.89\" style=\"stroke: #383838; stroke-width: 1.0;\"/><line style=\"stroke: #383838; stroke-width: 2.0;\" x1=\"284.4225\" x2=\"296.8594\" y1=\"267.8499\" y2=\"261.4215\"/></a><!--MD5=[030570b870d2f2b85dc577f42b2156fb]\n",
       "@startuml\r\n",
       "skinparam ranksep 10\r\n",
       "skinparam rectangle {\r\n",
       " backgroundColor<<block>> LightGreen\r\n",
       "}\r\n",
       "skinparam monochrome true\r\n",
       "skinparam classbackgroundcolor white\r\n",
       "skinparam shadowing false\r\n",
       "skinparam wrapWidth 300\r\n",
       "hide circle\r\n",
       "\r\n",
       "package \"DefaultValueTest\" as E1  [[psysml:e269850e-1dc2-4cd5-af8e-eb4ea9f30c1b ]]  {\r\n",
       "rec def \"V\" as E2  <<(T,blue) part def>> [[psysml:e7bf9c65-3f81-4ba3-bb8e-9b75385edfca ]] {\r\n",
       "comp usage \"m\" as E3  <<(T,blue) attribute>> [[psysml:a2ea0978-930d-4f5d-93d2-d64a4094d2a2 ]] {\r\n",
       "}\r\n",
       "comp usage \"n\" as E4  <<(T,blue) attribute>> [[psysml:d2e7553d-8e48-4fb7-896c-b23e6ced71f4 ]] {\r\n",
       "}\r\n",
       "}\r\n",
       "rec usage \"v1: V\" as E5  [[psysml:f1f60863-7632-47b0-830a-21cb33ae86b3 ]] {\r\n",
       "comp usage \"m\" as E6  <<(T,blue) attribute>> [[psysml:851c4b2c-147d-4a79-885c-670825576d73 ]] {\r\n",
       "}\r\n",
       "}\r\n",
       "rec def \"W\" as E7  <<(T,blue) part def>> [[psysml:92194191-781a-4f9d-991e-568f466dae89 ]] {\r\n",
       "comp usage \"m\" as E8  <<(T,blue) attribute>> [[psysml:82127d9e-4a29-4ac4-9705-0043f6777b4c ]] {\r\n",
       "}\r\n",
       "}\r\n",
       "rec usage \"v2= W(); \" as E9  [[psysml:12e8b862-a297-4118-9bc9-39ad14290527 ]] {\r\n",
       "}\r\n",
       "E6 - -||> E3 [[psysml:03eebbd2-05f0-47bc-92f0-0649c0e2f845 ]] \r\n",
       "E7 - -|> E2 [[psysml:80b8c15c-720d-43cf-a3f3-f1ac8ca72d6e ]] \r\n",
       "E8 - -||> E3 [[psysml:5971ddfa-8dbb-4825-a025-1d0848bb696d ]] \r\n",
       "}\r\n",
       "@enduml\r\n",
       "\n",
       "PlantUML version 1.2020.13(Sat Jun 13 12:26:38 UTC 2020)\n",
       "(EPL source distribution)\n",
       "Java Runtime: OpenJDK Runtime Environment\n",
       "JVM: OpenJDK 64-Bit Server VM\n",
       "Default Encoding: UTF-8\n",
       "Language: en\n",
       "Country: null\n",
       "--></g></svg>"
      ]
     },
     "execution_count": 40,
     "metadata": {},
     "output_type": "execute_result"
    }
   ],
   "source": [
    "%viz --style=\"DEFAULT\" --view=\"Interconnection\" \"DefaultValueTest\""
   ]
  },
  {
   "cell_type": "code",
   "execution_count": 41,
   "id": "b908654f",
   "metadata": {
    "execution": {
     "iopub.execute_input": "2021-08-04T06:28:44.668210Z",
     "iopub.status.busy": "2021-08-04T06:28:44.667872Z",
     "iopub.status.idle": "2021-08-04T06:28:44.672826Z",
     "shell.execute_reply": "2021-08-04T06:28:44.672533Z"
    }
   },
   "outputs": [
    {
     "data": {
      "image/svg+xml": [
       "<?xml version=\"1.0\" encoding=\"UTF-8\" standalone=\"no\"?><svg xmlns=\"http://www.w3.org/2000/svg\" xmlns:xlink=\"http://www.w3.org/1999/xlink\" contentScriptType=\"application/ecmascript\" contentStyleType=\"text/css\" height=\"12px\" preserveAspectRatio=\"none\" style=\"width:12px;height:12px;\" version=\"1.1\" viewBox=\"0 0 12 12\" width=\"12px\" zoomAndPan=\"magnify\"><defs/><g><!--MD5=[388f21188e31bfdd97050473b19af356]\n",
       "@startuml\r\n",
       "skinparam ranksep 8\r\n",
       "skinparam monochrome true\r\n",
       "skinparam classbackgroundcolor white\r\n",
       "skinparam shadowing false\r\n",
       "skinparam wrapWidth 300\r\n",
       "hide circle\r\n",
       "\r\n",
       "@enduml\r\n",
       "\n",
       "PlantUML version 1.2020.13(Sat Jun 13 12:26:38 UTC 2020)\n",
       "(EPL source distribution)\n",
       "Java Runtime: OpenJDK Runtime Environment\n",
       "JVM: OpenJDK 64-Bit Server VM\n",
       "Default Encoding: UTF-8\n",
       "Language: en\n",
       "Country: null\n",
       "--></g></svg>"
      ]
     },
     "execution_count": 41,
     "metadata": {},
     "output_type": "execute_result"
    }
   ],
   "source": [
    "%viz --style=\"DEFAULT\" --view=\"Action\" \"DefaultValueTest\""
   ]
  },
  {
   "cell_type": "code",
   "execution_count": 42,
   "id": "9f63dc59",
   "metadata": {
    "execution": {
     "iopub.execute_input": "2021-08-04T06:28:44.723334Z",
     "iopub.status.busy": "2021-08-04T06:28:44.722981Z",
     "iopub.status.idle": "2021-08-04T06:28:44.778040Z",
     "shell.execute_reply": "2021-08-04T06:28:44.777224Z"
    }
   },
   "outputs": [
    {
     "data": {
      "image/svg+xml": [
       "<?xml version=\"1.0\" encoding=\"UTF-8\" standalone=\"no\"?><svg xmlns=\"http://www.w3.org/2000/svg\" xmlns:xlink=\"http://www.w3.org/1999/xlink\" contentScriptType=\"application/ecmascript\" contentStyleType=\"text/css\" height=\"305px\" preserveAspectRatio=\"none\" style=\"width:349px;height:305px;\" version=\"1.1\" viewBox=\"0 0 349 305\" width=\"349px\" zoomAndPan=\"magnify\"><defs/><g><!--MD5=[fbc87193dbaf4d95561dea2c320d4a47]\n",
       "cluster E1--><a href=\"psysml:e269850e-1dc2-4cd5-af8e-eb4ea9f30c1b\" target=\"_top\" title=\"psysml:e269850e-1dc2-4cd5-af8e-eb4ea9f30c1b\" xlink:actuate=\"onRequest\" xlink:href=\"psysml:e269850e-1dc2-4cd5-af8e-eb4ea9f30c1b\" xlink:show=\"new\" xlink:title=\"psysml:e269850e-1dc2-4cd5-af8e-eb4ea9f30c1b\" xlink:type=\"simple\"><polygon fill=\"#FFFFFF\" points=\"16,6,157,6,164,28.2969,327,28.2969,327,293,16,293,16,6\" style=\"stroke: #000000; stroke-width: 1.5;\"/><line style=\"stroke: #000000; stroke-width: 1.5;\" x1=\"16\" x2=\"164\" y1=\"28.2969\" y2=\"28.2969\"/><text fill=\"#000000\" font-family=\"sans-serif\" font-size=\"14\" font-weight=\"bold\" lengthAdjust=\"spacingAndGlyphs\" textLength=\"135\" x=\"20\" y=\"20.9951\">DefaultValueTest</text></a><!--MD5=[b4997ac47864f28c2f74865a473b2911]\n",
       "class E2--><a href=\"psysml:e7bf9c65-3f81-4ba3-bb8e-9b75385edfca\" target=\"_top\" title=\"psysml:e7bf9c65-3f81-4ba3-bb8e-9b75385edfca\" xlink:actuate=\"onRequest\" xlink:href=\"psysml:e7bf9c65-3f81-4ba3-bb8e-9b75385edfca\" xlink:show=\"new\" xlink:title=\"psysml:e7bf9c65-3f81-4ba3-bb8e-9b75385edfca\" xlink:type=\"simple\"><rect fill=\"#FFFFFF\" height=\"88.3516\" id=\"E2\" style=\"stroke: #383838; stroke-width: 1.5;\" width=\"106\" x=\"156\" y=\"189\"/><text fill=\"#000000\" font-family=\"sans-serif\" font-size=\"12\" font-style=\"italic\" lengthAdjust=\"spacingAndGlyphs\" textLength=\"64\" x=\"177\" y=\"205.1387\">«part def»</text><text fill=\"#000000\" font-family=\"sans-serif\" font-size=\"12\" lengthAdjust=\"spacingAndGlyphs\" textLength=\"8\" x=\"205\" y=\"219.1074\">V</text><line style=\"stroke: #383838; stroke-width: 1.5;\" x1=\"157\" x2=\"261\" y1=\"226.9375\" y2=\"226.9375\"/><text fill=\"#000000\" font-family=\"sans-serif\" font-size=\"11\" lengthAdjust=\"spacingAndGlyphs\" textLength=\"94\" x=\"162\" y=\"257.9526\">m=default = 10;</text><text fill=\"#000000\" font-family=\"sans-serif\" font-size=\"11\" lengthAdjust=\"spacingAndGlyphs\" textLength=\"38\" x=\"162\" y=\"270.7573\">n= 20;</text><line style=\"stroke: #383838; stroke-width: 1.0;\" x1=\"157\" x2=\"181.5\" y1=\"241.3398\" y2=\"241.3398\"/><text fill=\"#000000\" font-family=\"sans-serif\" font-size=\"11\" lengthAdjust=\"spacingAndGlyphs\" textLength=\"55\" x=\"181.5\" y=\"244.6479\">attributes</text><line style=\"stroke: #383838; stroke-width: 1.0;\" x1=\"236.5\" x2=\"261\" y1=\"241.3398\" y2=\"241.3398\"/></a><!--MD5=[09b614a08d8cba4a07c9adeb5e0fee81]\n",
       "class E3--><a href=\"psysml:f1f60863-7632-47b0-830a-21cb33ae86b3\" target=\"_top\" title=\"psysml:f1f60863-7632-47b0-830a-21cb33ae86b3\" xlink:actuate=\"onRequest\" xlink:href=\"psysml:f1f60863-7632-47b0-830a-21cb33ae86b3\" xlink:show=\"new\" xlink:title=\"psysml:f1f60863-7632-47b0-830a-21cb33ae86b3\" xlink:type=\"simple\"><rect fill=\"#FFFFFF\" height=\"88.3516\" id=\"E3\" rx=\"10\" ry=\"10\" style=\"stroke: #383838; stroke-width: 1.5;\" width=\"63\" x=\"247.5\" y=\"41\"/><text fill=\"#000000\" font-family=\"sans-serif\" font-size=\"12\" font-style=\"italic\" lengthAdjust=\"spacingAndGlyphs\" textLength=\"40\" x=\"259\" y=\"57.1387\">«part»</text><text fill=\"#000000\" font-family=\"sans-serif\" font-size=\"12\" lengthAdjust=\"spacingAndGlyphs\" textLength=\"30\" x=\"264\" y=\"71.1074\">v1: V</text><line style=\"stroke: #383838; stroke-width: 1.5;\" x1=\"248.5\" x2=\"309.5\" y1=\"78.9375\" y2=\"78.9375\"/><text fill=\"#000000\" font-family=\"sans-serif\" font-size=\"11\" lengthAdjust=\"spacingAndGlyphs\" textLength=\"42\" x=\"253.5\" y=\"109.9526\">m= 20;</text><text fill=\"#000000\" font-family=\"sans-serif\" font-size=\"11\" font-style=\"italic\" lengthAdjust=\"spacingAndGlyphs\" textLength=\"48\" x=\"253.5\" y=\"122.7573\">:&gt;&gt;V::m</text><line style=\"stroke: #383838; stroke-width: 1.0;\" x1=\"248.5\" x2=\"251.5\" y1=\"93.3398\" y2=\"93.3398\"/><text fill=\"#000000\" font-family=\"sans-serif\" font-size=\"11\" lengthAdjust=\"spacingAndGlyphs\" textLength=\"55\" x=\"251.5\" y=\"96.6479\">attributes</text><line style=\"stroke: #383838; stroke-width: 1.0;\" x1=\"306.5\" x2=\"309.5\" y1=\"93.3398\" y2=\"93.3398\"/></a><!--MD5=[ebbe1d658d1005bcc118a6aa81145e00]\n",
       "class E4--><a href=\"psysml:92194191-781a-4f9d-991e-568f466dae89\" target=\"_top\" title=\"psysml:92194191-781a-4f9d-991e-568f466dae89\" xlink:actuate=\"onRequest\" xlink:href=\"psysml:92194191-781a-4f9d-991e-568f466dae89\" xlink:show=\"new\" xlink:title=\"psysml:92194191-781a-4f9d-991e-568f466dae89\" xlink:type=\"simple\"><rect fill=\"#FFFFFF\" height=\"88.3516\" id=\"E4\" style=\"stroke: #383838; stroke-width: 1.5;\" width=\"103\" x=\"109.5\" y=\"41\"/><text fill=\"#000000\" font-family=\"sans-serif\" font-size=\"12\" font-style=\"italic\" lengthAdjust=\"spacingAndGlyphs\" textLength=\"64\" x=\"129\" y=\"57.1387\">«part def»</text><text fill=\"#000000\" font-family=\"sans-serif\" font-size=\"12\" lengthAdjust=\"spacingAndGlyphs\" textLength=\"11\" x=\"155.5\" y=\"71.1074\">W</text><line style=\"stroke: #383838; stroke-width: 1.5;\" x1=\"110.5\" x2=\"211.5\" y1=\"78.9375\" y2=\"78.9375\"/><text fill=\"#000000\" font-family=\"sans-serif\" font-size=\"11\" lengthAdjust=\"spacingAndGlyphs\" textLength=\"87\" x=\"115.5\" y=\"109.9526\">m=default = n;</text><text fill=\"#000000\" font-family=\"sans-serif\" font-size=\"11\" font-style=\"italic\" lengthAdjust=\"spacingAndGlyphs\" textLength=\"48\" x=\"115.5\" y=\"122.7573\">:&gt;&gt;V::m</text><line style=\"stroke: #383838; stroke-width: 1.0;\" x1=\"110.5\" x2=\"133.5\" y1=\"93.3398\" y2=\"93.3398\"/><text fill=\"#000000\" font-family=\"sans-serif\" font-size=\"11\" lengthAdjust=\"spacingAndGlyphs\" textLength=\"55\" x=\"133.5\" y=\"96.6479\">attributes</text><line style=\"stroke: #383838; stroke-width: 1.0;\" x1=\"188.5\" x2=\"211.5\" y1=\"93.3398\" y2=\"93.3398\"/></a><!--MD5=[270fce915f116d4de14055a7c1d9a0f3]\n",
       "class E5--><a href=\"psysml:12e8b862-a297-4118-9bc9-39ad14290527\" target=\"_top\" title=\"psysml:12e8b862-a297-4118-9bc9-39ad14290527\" xlink:actuate=\"onRequest\" xlink:href=\"psysml:12e8b862-a297-4118-9bc9-39ad14290527\" xlink:show=\"new\" xlink:title=\"psysml:12e8b862-a297-4118-9bc9-39ad14290527\" xlink:type=\"simple\"><rect fill=\"#FFFFFF\" height=\"45.9375\" id=\"E5\" rx=\"10\" ry=\"10\" style=\"stroke: #383838; stroke-width: 1.5;\" width=\"42\" x=\"32\" y=\"62\"/><text fill=\"#000000\" font-family=\"sans-serif\" font-size=\"12\" font-style=\"italic\" lengthAdjust=\"spacingAndGlyphs\" textLength=\"40\" x=\"33\" y=\"78.1387\">«part»</text><text fill=\"#000000\" font-family=\"sans-serif\" font-size=\"12\" lengthAdjust=\"spacingAndGlyphs\" textLength=\"14\" x=\"46\" y=\"92.1074\">v2</text><line style=\"stroke: #383838; stroke-width: 1.5;\" x1=\"33\" x2=\"73\" y1=\"99.9375\" y2=\"99.9375\"/></a><!--MD5=[05d275557350bfb9b23a4ef7222b4c39]\n",
       "link E3 to E2--><a href=\"psysml:a976bee6-0dca-4565-96d2-a44c4ac1d16a\" target=\"_top\" title=\"psysml:a976bee6-0dca-4565-96d2-a44c4ac1d16a\" xlink:actuate=\"onRequest\" xlink:href=\"psysml:a976bee6-0dca-4565-96d2-a44c4ac1d16a\" xlink:show=\"new\" xlink:title=\"psysml:a976bee6-0dca-4565-96d2-a44c4ac1d16a\" xlink:type=\"simple\"><path d=\"M258.38,129.02 C252.17,141.97 245.22,156.45 238.55,170.36 \" fill=\"none\" id=\"E3-&gt;E2\" style=\"stroke: #383838; stroke-width: 1.0;\"/><polygon fill=\"#FFFFFF\" points=\"229.72,188.79,231.6151,168.6304,244.2413,174.6786,229.72,188.79\" style=\"stroke: #383838; stroke-width: 1.0;\"/><ellipse cx=\"235.8813\" cy=\"164.3538\" fill=\"#383838\" rx=\"2\" ry=\"2\" style=\"stroke: #383838; stroke-width: 1.0;\"/><ellipse cx=\"244.9\" cy=\"168.6739\" fill=\"#383838\" rx=\"2\" ry=\"2\" style=\"stroke: #383838; stroke-width: 1.0;\"/></a><!--MD5=[185131fc0dcab0a4505a2ebe144e961b]\n",
       "link E4 to E2--><a href=\"psysml:80b8c15c-720d-43cf-a3f3-f1ac8ca72d6e\" target=\"_top\" title=\"psysml:80b8c15c-720d-43cf-a3f3-f1ac8ca72d6e\" xlink:actuate=\"onRequest\" xlink:href=\"psysml:80b8c15c-720d-43cf-a3f3-f1ac8ca72d6e\" xlink:show=\"new\" xlink:title=\"psysml:80b8c15c-720d-43cf-a3f3-f1ac8ca72d6e\" xlink:type=\"simple\"><path d=\"M175.14,129.02 C179.3,141.67 183.94,155.79 188.42,169.41 \" fill=\"none\" id=\"E4-&gt;E2\" style=\"stroke: #383838; stroke-width: 1.0;\"/><polygon fill=\"none\" points=\"195.2,167.6,194.79,188.79,181.9,171.97,195.2,167.6\" style=\"stroke: #383838; stroke-width: 1.0;\"/></a><!--MD5=[df7f3e1a3f92c9e4fca97c215c06507b]\n",
       "@startuml\r\n",
       "skinparam monochrome true\r\n",
       "skinparam classbackgroundcolor white\r\n",
       "skinparam shadowing false\r\n",
       "skinparam wrapWidth 300\r\n",
       "hide circle\r\n",
       "\r\n",
       "package \"DefaultValueTest\" as E1  [[psysml:e269850e-1dc2-4cd5-af8e-eb4ea9f30c1b ]]  {\r\n",
       "comp def \"V\" as E2  <<(T,blue) part def>> [[psysml:e7bf9c65-3f81-4ba3-bb8e-9b75385edfca ]] {\r\n",
       "- - attributes - -\r\n",
       "m=default = 10; \r\n",
       "n= 20; \r\n",
       "}\r\n",
       "comp usage \"v1: V\" as E3  <<(T,blue) part>> [[psysml:f1f60863-7632-47b0-830a-21cb33ae86b3 ]] {\r\n",
       "- - attributes - -\r\n",
       "m= 20; \\n//:>>V::m// \r\n",
       "}\r\n",
       "comp def \"W\" as E4  <<(T,blue) part def>> [[psysml:92194191-781a-4f9d-991e-568f466dae89 ]] {\r\n",
       "- - attributes - -\r\n",
       "m=default = n; \\n//:>>V::m// \r\n",
       "}\r\n",
       "comp usage \"v2\" as E5  <<(T,blue) part>> [[psysml:12e8b862-a297-4118-9bc9-39ad14290527 ]] {\r\n",
       "}\r\n",
       "E3 - -:|> E2 [[psysml:a976bee6-0dca-4565-96d2-a44c4ac1d16a ]] \r\n",
       "E4 - -|> E2 [[psysml:80b8c15c-720d-43cf-a3f3-f1ac8ca72d6e ]] \r\n",
       "}\r\n",
       "@enduml\r\n",
       "\n",
       "PlantUML version 1.2020.13(Sat Jun 13 12:26:38 UTC 2020)\n",
       "(EPL source distribution)\n",
       "Java Runtime: OpenJDK Runtime Environment\n",
       "JVM: OpenJDK 64-Bit Server VM\n",
       "Default Encoding: UTF-8\n",
       "Language: en\n",
       "Country: null\n",
       "--></g></svg>"
      ]
     },
     "execution_count": 42,
     "metadata": {},
     "output_type": "execute_result"
    }
   ],
   "source": [
    "%viz --style=\"DEFAULT\" --view=\"Sequence\" \"DefaultValueTest\""
   ]
  },
  {
   "cell_type": "code",
   "execution_count": 43,
   "id": "c2b718a0",
   "metadata": {
    "execution": {
     "iopub.execute_input": "2021-08-04T06:28:44.828537Z",
     "iopub.status.busy": "2021-08-04T06:28:44.828097Z",
     "iopub.status.idle": "2021-08-04T06:28:44.886609Z",
     "shell.execute_reply": "2021-08-04T06:28:44.885228Z"
    }
   },
   "outputs": [
    {
     "data": {
      "image/svg+xml": [
       "<?xml version=\"1.0\" encoding=\"UTF-8\" standalone=\"no\"?><svg xmlns=\"http://www.w3.org/2000/svg\" xmlns:xlink=\"http://www.w3.org/1999/xlink\" contentScriptType=\"application/ecmascript\" contentStyleType=\"text/css\" height=\"305px\" preserveAspectRatio=\"none\" style=\"width:349px;height:305px;\" version=\"1.1\" viewBox=\"0 0 349 305\" width=\"349px\" zoomAndPan=\"magnify\"><defs/><g><!--MD5=[fbc87193dbaf4d95561dea2c320d4a47]\n",
       "cluster E1--><a href=\"psysml:e269850e-1dc2-4cd5-af8e-eb4ea9f30c1b\" target=\"_top\" title=\"psysml:e269850e-1dc2-4cd5-af8e-eb4ea9f30c1b\" xlink:actuate=\"onRequest\" xlink:href=\"psysml:e269850e-1dc2-4cd5-af8e-eb4ea9f30c1b\" xlink:show=\"new\" xlink:title=\"psysml:e269850e-1dc2-4cd5-af8e-eb4ea9f30c1b\" xlink:type=\"simple\"><polygon fill=\"#FFFFFF\" points=\"16,6,157,6,164,28.2969,327,28.2969,327,293,16,293,16,6\" style=\"stroke: #000000; stroke-width: 1.5;\"/><line style=\"stroke: #000000; stroke-width: 1.5;\" x1=\"16\" x2=\"164\" y1=\"28.2969\" y2=\"28.2969\"/><text fill=\"#000000\" font-family=\"sans-serif\" font-size=\"14\" font-weight=\"bold\" lengthAdjust=\"spacingAndGlyphs\" textLength=\"135\" x=\"20\" y=\"20.9951\">DefaultValueTest</text></a><!--MD5=[b4997ac47864f28c2f74865a473b2911]\n",
       "class E2--><a href=\"psysml:e7bf9c65-3f81-4ba3-bb8e-9b75385edfca\" target=\"_top\" title=\"psysml:e7bf9c65-3f81-4ba3-bb8e-9b75385edfca\" xlink:actuate=\"onRequest\" xlink:href=\"psysml:e7bf9c65-3f81-4ba3-bb8e-9b75385edfca\" xlink:show=\"new\" xlink:title=\"psysml:e7bf9c65-3f81-4ba3-bb8e-9b75385edfca\" xlink:type=\"simple\"><rect fill=\"#FFFFFF\" height=\"88.3516\" id=\"E2\" style=\"stroke: #383838; stroke-width: 1.5;\" width=\"106\" x=\"156\" y=\"189\"/><text fill=\"#000000\" font-family=\"sans-serif\" font-size=\"12\" font-style=\"italic\" lengthAdjust=\"spacingAndGlyphs\" textLength=\"64\" x=\"177\" y=\"205.1387\">«part def»</text><text fill=\"#000000\" font-family=\"sans-serif\" font-size=\"12\" lengthAdjust=\"spacingAndGlyphs\" textLength=\"8\" x=\"205\" y=\"219.1074\">V</text><line style=\"stroke: #383838; stroke-width: 1.5;\" x1=\"157\" x2=\"261\" y1=\"226.9375\" y2=\"226.9375\"/><text fill=\"#000000\" font-family=\"sans-serif\" font-size=\"11\" lengthAdjust=\"spacingAndGlyphs\" textLength=\"94\" x=\"162\" y=\"257.9526\">m=default = 10;</text><text fill=\"#000000\" font-family=\"sans-serif\" font-size=\"11\" lengthAdjust=\"spacingAndGlyphs\" textLength=\"38\" x=\"162\" y=\"270.7573\">n= 20;</text><line style=\"stroke: #383838; stroke-width: 1.0;\" x1=\"157\" x2=\"181.5\" y1=\"241.3398\" y2=\"241.3398\"/><text fill=\"#000000\" font-family=\"sans-serif\" font-size=\"11\" lengthAdjust=\"spacingAndGlyphs\" textLength=\"55\" x=\"181.5\" y=\"244.6479\">attributes</text><line style=\"stroke: #383838; stroke-width: 1.0;\" x1=\"236.5\" x2=\"261\" y1=\"241.3398\" y2=\"241.3398\"/></a><!--MD5=[09b614a08d8cba4a07c9adeb5e0fee81]\n",
       "class E3--><a href=\"psysml:f1f60863-7632-47b0-830a-21cb33ae86b3\" target=\"_top\" title=\"psysml:f1f60863-7632-47b0-830a-21cb33ae86b3\" xlink:actuate=\"onRequest\" xlink:href=\"psysml:f1f60863-7632-47b0-830a-21cb33ae86b3\" xlink:show=\"new\" xlink:title=\"psysml:f1f60863-7632-47b0-830a-21cb33ae86b3\" xlink:type=\"simple\"><rect fill=\"#FFFFFF\" height=\"88.3516\" id=\"E3\" rx=\"10\" ry=\"10\" style=\"stroke: #383838; stroke-width: 1.5;\" width=\"63\" x=\"247.5\" y=\"41\"/><text fill=\"#000000\" font-family=\"sans-serif\" font-size=\"12\" font-style=\"italic\" lengthAdjust=\"spacingAndGlyphs\" textLength=\"40\" x=\"259\" y=\"57.1387\">«part»</text><text fill=\"#000000\" font-family=\"sans-serif\" font-size=\"12\" lengthAdjust=\"spacingAndGlyphs\" textLength=\"30\" x=\"264\" y=\"71.1074\">v1: V</text><line style=\"stroke: #383838; stroke-width: 1.5;\" x1=\"248.5\" x2=\"309.5\" y1=\"78.9375\" y2=\"78.9375\"/><text fill=\"#000000\" font-family=\"sans-serif\" font-size=\"11\" lengthAdjust=\"spacingAndGlyphs\" textLength=\"42\" x=\"253.5\" y=\"109.9526\">m= 20;</text><text fill=\"#000000\" font-family=\"sans-serif\" font-size=\"11\" font-style=\"italic\" lengthAdjust=\"spacingAndGlyphs\" textLength=\"48\" x=\"253.5\" y=\"122.7573\">:&gt;&gt;V::m</text><line style=\"stroke: #383838; stroke-width: 1.0;\" x1=\"248.5\" x2=\"251.5\" y1=\"93.3398\" y2=\"93.3398\"/><text fill=\"#000000\" font-family=\"sans-serif\" font-size=\"11\" lengthAdjust=\"spacingAndGlyphs\" textLength=\"55\" x=\"251.5\" y=\"96.6479\">attributes</text><line style=\"stroke: #383838; stroke-width: 1.0;\" x1=\"306.5\" x2=\"309.5\" y1=\"93.3398\" y2=\"93.3398\"/></a><!--MD5=[ebbe1d658d1005bcc118a6aa81145e00]\n",
       "class E4--><a href=\"psysml:92194191-781a-4f9d-991e-568f466dae89\" target=\"_top\" title=\"psysml:92194191-781a-4f9d-991e-568f466dae89\" xlink:actuate=\"onRequest\" xlink:href=\"psysml:92194191-781a-4f9d-991e-568f466dae89\" xlink:show=\"new\" xlink:title=\"psysml:92194191-781a-4f9d-991e-568f466dae89\" xlink:type=\"simple\"><rect fill=\"#FFFFFF\" height=\"88.3516\" id=\"E4\" style=\"stroke: #383838; stroke-width: 1.5;\" width=\"103\" x=\"109.5\" y=\"41\"/><text fill=\"#000000\" font-family=\"sans-serif\" font-size=\"12\" font-style=\"italic\" lengthAdjust=\"spacingAndGlyphs\" textLength=\"64\" x=\"129\" y=\"57.1387\">«part def»</text><text fill=\"#000000\" font-family=\"sans-serif\" font-size=\"12\" lengthAdjust=\"spacingAndGlyphs\" textLength=\"11\" x=\"155.5\" y=\"71.1074\">W</text><line style=\"stroke: #383838; stroke-width: 1.5;\" x1=\"110.5\" x2=\"211.5\" y1=\"78.9375\" y2=\"78.9375\"/><text fill=\"#000000\" font-family=\"sans-serif\" font-size=\"11\" lengthAdjust=\"spacingAndGlyphs\" textLength=\"87\" x=\"115.5\" y=\"109.9526\">m=default = n;</text><text fill=\"#000000\" font-family=\"sans-serif\" font-size=\"11\" font-style=\"italic\" lengthAdjust=\"spacingAndGlyphs\" textLength=\"48\" x=\"115.5\" y=\"122.7573\">:&gt;&gt;V::m</text><line style=\"stroke: #383838; stroke-width: 1.0;\" x1=\"110.5\" x2=\"133.5\" y1=\"93.3398\" y2=\"93.3398\"/><text fill=\"#000000\" font-family=\"sans-serif\" font-size=\"11\" lengthAdjust=\"spacingAndGlyphs\" textLength=\"55\" x=\"133.5\" y=\"96.6479\">attributes</text><line style=\"stroke: #383838; stroke-width: 1.0;\" x1=\"188.5\" x2=\"211.5\" y1=\"93.3398\" y2=\"93.3398\"/></a><!--MD5=[270fce915f116d4de14055a7c1d9a0f3]\n",
       "class E5--><a href=\"psysml:12e8b862-a297-4118-9bc9-39ad14290527\" target=\"_top\" title=\"psysml:12e8b862-a297-4118-9bc9-39ad14290527\" xlink:actuate=\"onRequest\" xlink:href=\"psysml:12e8b862-a297-4118-9bc9-39ad14290527\" xlink:show=\"new\" xlink:title=\"psysml:12e8b862-a297-4118-9bc9-39ad14290527\" xlink:type=\"simple\"><rect fill=\"#FFFFFF\" height=\"45.9375\" id=\"E5\" rx=\"10\" ry=\"10\" style=\"stroke: #383838; stroke-width: 1.5;\" width=\"42\" x=\"32\" y=\"62\"/><text fill=\"#000000\" font-family=\"sans-serif\" font-size=\"12\" font-style=\"italic\" lengthAdjust=\"spacingAndGlyphs\" textLength=\"40\" x=\"33\" y=\"78.1387\">«part»</text><text fill=\"#000000\" font-family=\"sans-serif\" font-size=\"12\" lengthAdjust=\"spacingAndGlyphs\" textLength=\"14\" x=\"46\" y=\"92.1074\">v2</text><line style=\"stroke: #383838; stroke-width: 1.5;\" x1=\"33\" x2=\"73\" y1=\"99.9375\" y2=\"99.9375\"/></a><!--MD5=[05d275557350bfb9b23a4ef7222b4c39]\n",
       "link E3 to E2--><a href=\"psysml:a976bee6-0dca-4565-96d2-a44c4ac1d16a\" target=\"_top\" title=\"psysml:a976bee6-0dca-4565-96d2-a44c4ac1d16a\" xlink:actuate=\"onRequest\" xlink:href=\"psysml:a976bee6-0dca-4565-96d2-a44c4ac1d16a\" xlink:show=\"new\" xlink:title=\"psysml:a976bee6-0dca-4565-96d2-a44c4ac1d16a\" xlink:type=\"simple\"><path d=\"M258.38,129.02 C252.17,141.97 245.22,156.45 238.55,170.36 \" fill=\"none\" id=\"E3-&gt;E2\" style=\"stroke: #383838; stroke-width: 1.0;\"/><polygon fill=\"#FFFFFF\" points=\"229.72,188.79,231.6151,168.6304,244.2413,174.6786,229.72,188.79\" style=\"stroke: #383838; stroke-width: 1.0;\"/><ellipse cx=\"235.8813\" cy=\"164.3538\" fill=\"#383838\" rx=\"2\" ry=\"2\" style=\"stroke: #383838; stroke-width: 1.0;\"/><ellipse cx=\"244.9\" cy=\"168.6739\" fill=\"#383838\" rx=\"2\" ry=\"2\" style=\"stroke: #383838; stroke-width: 1.0;\"/></a><!--MD5=[185131fc0dcab0a4505a2ebe144e961b]\n",
       "link E4 to E2--><a href=\"psysml:80b8c15c-720d-43cf-a3f3-f1ac8ca72d6e\" target=\"_top\" title=\"psysml:80b8c15c-720d-43cf-a3f3-f1ac8ca72d6e\" xlink:actuate=\"onRequest\" xlink:href=\"psysml:80b8c15c-720d-43cf-a3f3-f1ac8ca72d6e\" xlink:show=\"new\" xlink:title=\"psysml:80b8c15c-720d-43cf-a3f3-f1ac8ca72d6e\" xlink:type=\"simple\"><path d=\"M175.14,129.02 C179.3,141.67 183.94,155.79 188.42,169.41 \" fill=\"none\" id=\"E4-&gt;E2\" style=\"stroke: #383838; stroke-width: 1.0;\"/><polygon fill=\"none\" points=\"195.2,167.6,194.79,188.79,181.9,171.97,195.2,167.6\" style=\"stroke: #383838; stroke-width: 1.0;\"/></a><!--MD5=[df7f3e1a3f92c9e4fca97c215c06507b]\n",
       "@startuml\r\n",
       "skinparam monochrome true\r\n",
       "skinparam classbackgroundcolor white\r\n",
       "skinparam shadowing false\r\n",
       "skinparam wrapWidth 300\r\n",
       "hide circle\r\n",
       "\r\n",
       "package \"DefaultValueTest\" as E1  [[psysml:e269850e-1dc2-4cd5-af8e-eb4ea9f30c1b ]]  {\r\n",
       "comp def \"V\" as E2  <<(T,blue) part def>> [[psysml:e7bf9c65-3f81-4ba3-bb8e-9b75385edfca ]] {\r\n",
       "- - attributes - -\r\n",
       "m=default = 10; \r\n",
       "n= 20; \r\n",
       "}\r\n",
       "comp usage \"v1: V\" as E3  <<(T,blue) part>> [[psysml:f1f60863-7632-47b0-830a-21cb33ae86b3 ]] {\r\n",
       "- - attributes - -\r\n",
       "m= 20; \\n//:>>V::m// \r\n",
       "}\r\n",
       "comp def \"W\" as E4  <<(T,blue) part def>> [[psysml:92194191-781a-4f9d-991e-568f466dae89 ]] {\r\n",
       "- - attributes - -\r\n",
       "m=default = n; \\n//:>>V::m// \r\n",
       "}\r\n",
       "comp usage \"v2\" as E5  <<(T,blue) part>> [[psysml:12e8b862-a297-4118-9bc9-39ad14290527 ]] {\r\n",
       "}\r\n",
       "E3 - -:|> E2 [[psysml:a976bee6-0dca-4565-96d2-a44c4ac1d16a ]] \r\n",
       "E4 - -|> E2 [[psysml:80b8c15c-720d-43cf-a3f3-f1ac8ca72d6e ]] \r\n",
       "}\r\n",
       "@enduml\r\n",
       "\n",
       "PlantUML version 1.2020.13(Sat Jun 13 12:26:38 UTC 2020)\n",
       "(EPL source distribution)\n",
       "Java Runtime: OpenJDK Runtime Environment\n",
       "JVM: OpenJDK 64-Bit Server VM\n",
       "Default Encoding: UTF-8\n",
       "Language: en\n",
       "Country: null\n",
       "--></g></svg>"
      ]
     },
     "execution_count": 43,
     "metadata": {},
     "output_type": "execute_result"
    }
   ],
   "source": [
    "%viz --style=\"DEFAULT\" --view=\"MIXED\" \"DefaultValueTest\""
   ]
  },
  {
   "cell_type": "code",
   "execution_count": 44,
   "id": "dd1b9a5e",
   "metadata": {
    "execution": {
     "iopub.execute_input": "2021-08-04T06:28:44.936220Z",
     "iopub.status.busy": "2021-08-04T06:28:44.935780Z",
     "iopub.status.idle": "2021-08-04T06:28:44.985707Z",
     "shell.execute_reply": "2021-08-04T06:28:44.984396Z"
    }
   },
   "outputs": [
    {
     "data": {
      "image/svg+xml": [
       "<?xml version=\"1.0\" encoding=\"UTF-8\" standalone=\"no\"?><svg xmlns=\"http://www.w3.org/2000/svg\" xmlns:xlink=\"http://www.w3.org/1999/xlink\" contentScriptType=\"application/ecmascript\" contentStyleType=\"text/css\" height=\"305px\" preserveAspectRatio=\"none\" style=\"width:349px;height:305px;\" version=\"1.1\" viewBox=\"0 0 349 305\" width=\"349px\" zoomAndPan=\"magnify\"><defs/><g><!--MD5=[fbc87193dbaf4d95561dea2c320d4a47]\n",
       "cluster E1--><a href=\"psysml:e269850e-1dc2-4cd5-af8e-eb4ea9f30c1b\" target=\"_top\" title=\"psysml:e269850e-1dc2-4cd5-af8e-eb4ea9f30c1b\" xlink:actuate=\"onRequest\" xlink:href=\"psysml:e269850e-1dc2-4cd5-af8e-eb4ea9f30c1b\" xlink:show=\"new\" xlink:title=\"psysml:e269850e-1dc2-4cd5-af8e-eb4ea9f30c1b\" xlink:type=\"simple\"><polygon fill=\"#FFFFFF\" points=\"16,6,157,6,164,28.2969,327,28.2969,327,293,16,293,16,6\" style=\"stroke: #000000; stroke-width: 1.5;\"/><line style=\"stroke: #000000; stroke-width: 1.5;\" x1=\"16\" x2=\"164\" y1=\"28.2969\" y2=\"28.2969\"/><text fill=\"#000000\" font-family=\"sans-serif\" font-size=\"14\" font-weight=\"bold\" lengthAdjust=\"spacingAndGlyphs\" textLength=\"135\" x=\"20\" y=\"20.9951\">DefaultValueTest</text></a><!--MD5=[b4997ac47864f28c2f74865a473b2911]\n",
       "class E2--><a href=\"psysml:e7bf9c65-3f81-4ba3-bb8e-9b75385edfca\" target=\"_top\" title=\"psysml:e7bf9c65-3f81-4ba3-bb8e-9b75385edfca\" xlink:actuate=\"onRequest\" xlink:href=\"psysml:e7bf9c65-3f81-4ba3-bb8e-9b75385edfca\" xlink:show=\"new\" xlink:title=\"psysml:e7bf9c65-3f81-4ba3-bb8e-9b75385edfca\" xlink:type=\"simple\"><rect fill=\"#FFFFFF\" height=\"88.3516\" id=\"E2\" style=\"stroke: #383838; stroke-width: 1.5;\" width=\"106\" x=\"156\" y=\"189\"/><text fill=\"#000000\" font-family=\"sans-serif\" font-size=\"12\" font-style=\"italic\" lengthAdjust=\"spacingAndGlyphs\" textLength=\"64\" x=\"177\" y=\"205.1387\">«part def»</text><text fill=\"#000000\" font-family=\"sans-serif\" font-size=\"12\" lengthAdjust=\"spacingAndGlyphs\" textLength=\"8\" x=\"205\" y=\"219.1074\">V</text><line style=\"stroke: #383838; stroke-width: 1.5;\" x1=\"157\" x2=\"261\" y1=\"226.9375\" y2=\"226.9375\"/><text fill=\"#000000\" font-family=\"sans-serif\" font-size=\"11\" lengthAdjust=\"spacingAndGlyphs\" textLength=\"94\" x=\"162\" y=\"257.9526\">m=default = 10;</text><text fill=\"#000000\" font-family=\"sans-serif\" font-size=\"11\" lengthAdjust=\"spacingAndGlyphs\" textLength=\"38\" x=\"162\" y=\"270.7573\">n= 20;</text><line style=\"stroke: #383838; stroke-width: 1.0;\" x1=\"157\" x2=\"181.5\" y1=\"241.3398\" y2=\"241.3398\"/><text fill=\"#000000\" font-family=\"sans-serif\" font-size=\"11\" lengthAdjust=\"spacingAndGlyphs\" textLength=\"55\" x=\"181.5\" y=\"244.6479\">attributes</text><line style=\"stroke: #383838; stroke-width: 1.0;\" x1=\"236.5\" x2=\"261\" y1=\"241.3398\" y2=\"241.3398\"/></a><!--MD5=[09b614a08d8cba4a07c9adeb5e0fee81]\n",
       "class E3--><a href=\"psysml:f1f60863-7632-47b0-830a-21cb33ae86b3\" target=\"_top\" title=\"psysml:f1f60863-7632-47b0-830a-21cb33ae86b3\" xlink:actuate=\"onRequest\" xlink:href=\"psysml:f1f60863-7632-47b0-830a-21cb33ae86b3\" xlink:show=\"new\" xlink:title=\"psysml:f1f60863-7632-47b0-830a-21cb33ae86b3\" xlink:type=\"simple\"><rect fill=\"#FFFFFF\" height=\"88.3516\" id=\"E3\" rx=\"10\" ry=\"10\" style=\"stroke: #383838; stroke-width: 1.5;\" width=\"63\" x=\"247.5\" y=\"41\"/><text fill=\"#000000\" font-family=\"sans-serif\" font-size=\"12\" font-style=\"italic\" lengthAdjust=\"spacingAndGlyphs\" textLength=\"40\" x=\"259\" y=\"57.1387\">«part»</text><text fill=\"#000000\" font-family=\"sans-serif\" font-size=\"12\" lengthAdjust=\"spacingAndGlyphs\" textLength=\"30\" x=\"264\" y=\"71.1074\">v1: V</text><line style=\"stroke: #383838; stroke-width: 1.5;\" x1=\"248.5\" x2=\"309.5\" y1=\"78.9375\" y2=\"78.9375\"/><text fill=\"#000000\" font-family=\"sans-serif\" font-size=\"11\" lengthAdjust=\"spacingAndGlyphs\" textLength=\"42\" x=\"253.5\" y=\"109.9526\">m= 20;</text><text fill=\"#000000\" font-family=\"sans-serif\" font-size=\"11\" font-style=\"italic\" lengthAdjust=\"spacingAndGlyphs\" textLength=\"48\" x=\"253.5\" y=\"122.7573\">:&gt;&gt;V::m</text><line style=\"stroke: #383838; stroke-width: 1.0;\" x1=\"248.5\" x2=\"251.5\" y1=\"93.3398\" y2=\"93.3398\"/><text fill=\"#000000\" font-family=\"sans-serif\" font-size=\"11\" lengthAdjust=\"spacingAndGlyphs\" textLength=\"55\" x=\"251.5\" y=\"96.6479\">attributes</text><line style=\"stroke: #383838; stroke-width: 1.0;\" x1=\"306.5\" x2=\"309.5\" y1=\"93.3398\" y2=\"93.3398\"/></a><!--MD5=[ebbe1d658d1005bcc118a6aa81145e00]\n",
       "class E4--><a href=\"psysml:92194191-781a-4f9d-991e-568f466dae89\" target=\"_top\" title=\"psysml:92194191-781a-4f9d-991e-568f466dae89\" xlink:actuate=\"onRequest\" xlink:href=\"psysml:92194191-781a-4f9d-991e-568f466dae89\" xlink:show=\"new\" xlink:title=\"psysml:92194191-781a-4f9d-991e-568f466dae89\" xlink:type=\"simple\"><rect fill=\"#FFFFFF\" height=\"88.3516\" id=\"E4\" style=\"stroke: #383838; stroke-width: 1.5;\" width=\"103\" x=\"109.5\" y=\"41\"/><text fill=\"#000000\" font-family=\"sans-serif\" font-size=\"12\" font-style=\"italic\" lengthAdjust=\"spacingAndGlyphs\" textLength=\"64\" x=\"129\" y=\"57.1387\">«part def»</text><text fill=\"#000000\" font-family=\"sans-serif\" font-size=\"12\" lengthAdjust=\"spacingAndGlyphs\" textLength=\"11\" x=\"155.5\" y=\"71.1074\">W</text><line style=\"stroke: #383838; stroke-width: 1.5;\" x1=\"110.5\" x2=\"211.5\" y1=\"78.9375\" y2=\"78.9375\"/><text fill=\"#000000\" font-family=\"sans-serif\" font-size=\"11\" lengthAdjust=\"spacingAndGlyphs\" textLength=\"87\" x=\"115.5\" y=\"109.9526\">m=default = n;</text><text fill=\"#000000\" font-family=\"sans-serif\" font-size=\"11\" font-style=\"italic\" lengthAdjust=\"spacingAndGlyphs\" textLength=\"48\" x=\"115.5\" y=\"122.7573\">:&gt;&gt;V::m</text><line style=\"stroke: #383838; stroke-width: 1.0;\" x1=\"110.5\" x2=\"133.5\" y1=\"93.3398\" y2=\"93.3398\"/><text fill=\"#000000\" font-family=\"sans-serif\" font-size=\"11\" lengthAdjust=\"spacingAndGlyphs\" textLength=\"55\" x=\"133.5\" y=\"96.6479\">attributes</text><line style=\"stroke: #383838; stroke-width: 1.0;\" x1=\"188.5\" x2=\"211.5\" y1=\"93.3398\" y2=\"93.3398\"/></a><!--MD5=[270fce915f116d4de14055a7c1d9a0f3]\n",
       "class E5--><a href=\"psysml:12e8b862-a297-4118-9bc9-39ad14290527\" target=\"_top\" title=\"psysml:12e8b862-a297-4118-9bc9-39ad14290527\" xlink:actuate=\"onRequest\" xlink:href=\"psysml:12e8b862-a297-4118-9bc9-39ad14290527\" xlink:show=\"new\" xlink:title=\"psysml:12e8b862-a297-4118-9bc9-39ad14290527\" xlink:type=\"simple\"><rect fill=\"#FFFFFF\" height=\"45.9375\" id=\"E5\" rx=\"10\" ry=\"10\" style=\"stroke: #383838; stroke-width: 1.5;\" width=\"42\" x=\"32\" y=\"62\"/><text fill=\"#000000\" font-family=\"sans-serif\" font-size=\"12\" font-style=\"italic\" lengthAdjust=\"spacingAndGlyphs\" textLength=\"40\" x=\"33\" y=\"78.1387\">«part»</text><text fill=\"#000000\" font-family=\"sans-serif\" font-size=\"12\" lengthAdjust=\"spacingAndGlyphs\" textLength=\"14\" x=\"46\" y=\"92.1074\">v2</text><line style=\"stroke: #383838; stroke-width: 1.5;\" x1=\"33\" x2=\"73\" y1=\"99.9375\" y2=\"99.9375\"/></a><!--MD5=[05d275557350bfb9b23a4ef7222b4c39]\n",
       "link E3 to E2--><a href=\"psysml:a976bee6-0dca-4565-96d2-a44c4ac1d16a\" target=\"_top\" title=\"psysml:a976bee6-0dca-4565-96d2-a44c4ac1d16a\" xlink:actuate=\"onRequest\" xlink:href=\"psysml:a976bee6-0dca-4565-96d2-a44c4ac1d16a\" xlink:show=\"new\" xlink:title=\"psysml:a976bee6-0dca-4565-96d2-a44c4ac1d16a\" xlink:type=\"simple\"><path d=\"M258.38,129.02 C252.17,141.97 245.22,156.45 238.55,170.36 \" fill=\"none\" id=\"E3-&gt;E2\" style=\"stroke: #383838; stroke-width: 1.0;\"/><polygon fill=\"#FFFFFF\" points=\"229.72,188.79,231.6151,168.6304,244.2413,174.6786,229.72,188.79\" style=\"stroke: #383838; stroke-width: 1.0;\"/><ellipse cx=\"235.8813\" cy=\"164.3538\" fill=\"#383838\" rx=\"2\" ry=\"2\" style=\"stroke: #383838; stroke-width: 1.0;\"/><ellipse cx=\"244.9\" cy=\"168.6739\" fill=\"#383838\" rx=\"2\" ry=\"2\" style=\"stroke: #383838; stroke-width: 1.0;\"/></a><!--MD5=[185131fc0dcab0a4505a2ebe144e961b]\n",
       "link E4 to E2--><a href=\"psysml:80b8c15c-720d-43cf-a3f3-f1ac8ca72d6e\" target=\"_top\" title=\"psysml:80b8c15c-720d-43cf-a3f3-f1ac8ca72d6e\" xlink:actuate=\"onRequest\" xlink:href=\"psysml:80b8c15c-720d-43cf-a3f3-f1ac8ca72d6e\" xlink:show=\"new\" xlink:title=\"psysml:80b8c15c-720d-43cf-a3f3-f1ac8ca72d6e\" xlink:type=\"simple\"><path d=\"M175.14,129.02 C179.3,141.67 183.94,155.79 188.42,169.41 \" fill=\"none\" id=\"E4-&gt;E2\" style=\"stroke: #383838; stroke-width: 1.0;\"/><polygon fill=\"none\" points=\"195.2,167.6,194.79,188.79,181.9,171.97,195.2,167.6\" style=\"stroke: #383838; stroke-width: 1.0;\"/></a><!--MD5=[c6cb33e9b1255df8ebebb7761a226229]\n",
       "@startuml\r\n",
       "top to bottom direction\r\n",
       "skinparam monochrome true\r\n",
       "skinparam classbackgroundcolor white\r\n",
       "skinparam shadowing false\r\n",
       "skinparam wrapWidth 300\r\n",
       "hide circle\r\n",
       "\r\n",
       "package \"DefaultValueTest\" as E1  [[psysml:e269850e-1dc2-4cd5-af8e-eb4ea9f30c1b ]]  {\r\n",
       "comp def \"V\" as E2  <<(T,blue) part def>> [[psysml:e7bf9c65-3f81-4ba3-bb8e-9b75385edfca ]] {\r\n",
       "- - attributes - -\r\n",
       "m=default = 10; \r\n",
       "n= 20; \r\n",
       "}\r\n",
       "comp usage \"v1: V\" as E3  <<(T,blue) part>> [[psysml:f1f60863-7632-47b0-830a-21cb33ae86b3 ]] {\r\n",
       "- - attributes - -\r\n",
       "m= 20; \\n//:>>V::m// \r\n",
       "}\r\n",
       "comp def \"W\" as E4  <<(T,blue) part def>> [[psysml:92194191-781a-4f9d-991e-568f466dae89 ]] {\r\n",
       "- - attributes - -\r\n",
       "m=default = n; \\n//:>>V::m// \r\n",
       "}\r\n",
       "comp usage \"v2\" as E5  <<(T,blue) part>> [[psysml:12e8b862-a297-4118-9bc9-39ad14290527 ]] {\r\n",
       "}\r\n",
       "E3 - -:|> E2 [[psysml:a976bee6-0dca-4565-96d2-a44c4ac1d16a ]] \r\n",
       "E4 - -|> E2 [[psysml:80b8c15c-720d-43cf-a3f3-f1ac8ca72d6e ]] \r\n",
       "}\r\n",
       "@enduml\r\n",
       "\n",
       "PlantUML version 1.2020.13(Sat Jun 13 12:26:38 UTC 2020)\n",
       "(EPL source distribution)\n",
       "Java Runtime: OpenJDK Runtime Environment\n",
       "JVM: OpenJDK 64-Bit Server VM\n",
       "Default Encoding: UTF-8\n",
       "Language: en\n",
       "Country: null\n",
       "--></g></svg>"
      ]
     },
     "execution_count": 44,
     "metadata": {},
     "output_type": "execute_result"
    }
   ],
   "source": [
    "%viz --style=\"TB\" --view=\"Default\" \"DefaultValueTest\""
   ]
  },
  {
   "cell_type": "code",
   "execution_count": 45,
   "id": "54b8791d",
   "metadata": {
    "execution": {
     "iopub.execute_input": "2021-08-04T06:28:45.035270Z",
     "iopub.status.busy": "2021-08-04T06:28:45.034826Z",
     "iopub.status.idle": "2021-08-04T06:28:45.083025Z",
     "shell.execute_reply": "2021-08-04T06:28:45.081694Z"
    }
   },
   "outputs": [
    {
     "data": {
      "image/svg+xml": [
       "<?xml version=\"1.0\" encoding=\"UTF-8\" standalone=\"no\"?><svg xmlns=\"http://www.w3.org/2000/svg\" xmlns:xlink=\"http://www.w3.org/1999/xlink\" contentScriptType=\"application/ecmascript\" contentStyleType=\"text/css\" height=\"305px\" preserveAspectRatio=\"none\" style=\"width:349px;height:305px;\" version=\"1.1\" viewBox=\"0 0 349 305\" width=\"349px\" zoomAndPan=\"magnify\"><defs/><g><!--MD5=[fbc87193dbaf4d95561dea2c320d4a47]\n",
       "cluster E1--><a href=\"psysml:e269850e-1dc2-4cd5-af8e-eb4ea9f30c1b\" target=\"_top\" title=\"psysml:e269850e-1dc2-4cd5-af8e-eb4ea9f30c1b\" xlink:actuate=\"onRequest\" xlink:href=\"psysml:e269850e-1dc2-4cd5-af8e-eb4ea9f30c1b\" xlink:show=\"new\" xlink:title=\"psysml:e269850e-1dc2-4cd5-af8e-eb4ea9f30c1b\" xlink:type=\"simple\"><polygon fill=\"#FFFFFF\" points=\"16,6,157,6,164,28.2969,327,28.2969,327,293,16,293,16,6\" style=\"stroke: #000000; stroke-width: 1.5;\"/><line style=\"stroke: #000000; stroke-width: 1.5;\" x1=\"16\" x2=\"164\" y1=\"28.2969\" y2=\"28.2969\"/><text fill=\"#000000\" font-family=\"sans-serif\" font-size=\"14\" font-weight=\"bold\" lengthAdjust=\"spacingAndGlyphs\" textLength=\"135\" x=\"20\" y=\"20.9951\">DefaultValueTest</text></a><!--MD5=[b4997ac47864f28c2f74865a473b2911]\n",
       "class E2--><a href=\"psysml:e7bf9c65-3f81-4ba3-bb8e-9b75385edfca\" target=\"_top\" title=\"psysml:e7bf9c65-3f81-4ba3-bb8e-9b75385edfca\" xlink:actuate=\"onRequest\" xlink:href=\"psysml:e7bf9c65-3f81-4ba3-bb8e-9b75385edfca\" xlink:show=\"new\" xlink:title=\"psysml:e7bf9c65-3f81-4ba3-bb8e-9b75385edfca\" xlink:type=\"simple\"><rect fill=\"#FFFFFF\" height=\"88.3516\" id=\"E2\" style=\"stroke: #383838; stroke-width: 1.5;\" width=\"106\" x=\"156\" y=\"189\"/><text fill=\"#000000\" font-family=\"sans-serif\" font-size=\"12\" font-style=\"italic\" lengthAdjust=\"spacingAndGlyphs\" textLength=\"64\" x=\"177\" y=\"205.1387\">«part def»</text><text fill=\"#000000\" font-family=\"sans-serif\" font-size=\"12\" lengthAdjust=\"spacingAndGlyphs\" textLength=\"8\" x=\"205\" y=\"219.1074\">V</text><line style=\"stroke: #383838; stroke-width: 1.5;\" x1=\"157\" x2=\"261\" y1=\"226.9375\" y2=\"226.9375\"/><text fill=\"#000000\" font-family=\"sans-serif\" font-size=\"11\" lengthAdjust=\"spacingAndGlyphs\" textLength=\"94\" x=\"162\" y=\"257.9526\">m=default = 10;</text><text fill=\"#000000\" font-family=\"sans-serif\" font-size=\"11\" lengthAdjust=\"spacingAndGlyphs\" textLength=\"38\" x=\"162\" y=\"270.7573\">n= 20;</text><line style=\"stroke: #383838; stroke-width: 1.0;\" x1=\"157\" x2=\"181.5\" y1=\"241.3398\" y2=\"241.3398\"/><text fill=\"#000000\" font-family=\"sans-serif\" font-size=\"11\" lengthAdjust=\"spacingAndGlyphs\" textLength=\"55\" x=\"181.5\" y=\"244.6479\">attributes</text><line style=\"stroke: #383838; stroke-width: 1.0;\" x1=\"236.5\" x2=\"261\" y1=\"241.3398\" y2=\"241.3398\"/></a><!--MD5=[09b614a08d8cba4a07c9adeb5e0fee81]\n",
       "class E3--><a href=\"psysml:f1f60863-7632-47b0-830a-21cb33ae86b3\" target=\"_top\" title=\"psysml:f1f60863-7632-47b0-830a-21cb33ae86b3\" xlink:actuate=\"onRequest\" xlink:href=\"psysml:f1f60863-7632-47b0-830a-21cb33ae86b3\" xlink:show=\"new\" xlink:title=\"psysml:f1f60863-7632-47b0-830a-21cb33ae86b3\" xlink:type=\"simple\"><rect fill=\"#FFFFFF\" height=\"88.3516\" id=\"E3\" rx=\"10\" ry=\"10\" style=\"stroke: #383838; stroke-width: 1.5;\" width=\"63\" x=\"247.5\" y=\"41\"/><text fill=\"#000000\" font-family=\"sans-serif\" font-size=\"12\" font-style=\"italic\" lengthAdjust=\"spacingAndGlyphs\" textLength=\"40\" x=\"259\" y=\"57.1387\">«part»</text><text fill=\"#000000\" font-family=\"sans-serif\" font-size=\"12\" lengthAdjust=\"spacingAndGlyphs\" textLength=\"30\" x=\"264\" y=\"71.1074\">v1: V</text><line style=\"stroke: #383838; stroke-width: 1.5;\" x1=\"248.5\" x2=\"309.5\" y1=\"78.9375\" y2=\"78.9375\"/><text fill=\"#000000\" font-family=\"sans-serif\" font-size=\"11\" lengthAdjust=\"spacingAndGlyphs\" textLength=\"42\" x=\"253.5\" y=\"109.9526\">m= 20;</text><text fill=\"#000000\" font-family=\"sans-serif\" font-size=\"11\" font-style=\"italic\" lengthAdjust=\"spacingAndGlyphs\" textLength=\"48\" x=\"253.5\" y=\"122.7573\">:&gt;&gt;V::m</text><line style=\"stroke: #383838; stroke-width: 1.0;\" x1=\"248.5\" x2=\"251.5\" y1=\"93.3398\" y2=\"93.3398\"/><text fill=\"#000000\" font-family=\"sans-serif\" font-size=\"11\" lengthAdjust=\"spacingAndGlyphs\" textLength=\"55\" x=\"251.5\" y=\"96.6479\">attributes</text><line style=\"stroke: #383838; stroke-width: 1.0;\" x1=\"306.5\" x2=\"309.5\" y1=\"93.3398\" y2=\"93.3398\"/></a><!--MD5=[ebbe1d658d1005bcc118a6aa81145e00]\n",
       "class E4--><a href=\"psysml:92194191-781a-4f9d-991e-568f466dae89\" target=\"_top\" title=\"psysml:92194191-781a-4f9d-991e-568f466dae89\" xlink:actuate=\"onRequest\" xlink:href=\"psysml:92194191-781a-4f9d-991e-568f466dae89\" xlink:show=\"new\" xlink:title=\"psysml:92194191-781a-4f9d-991e-568f466dae89\" xlink:type=\"simple\"><rect fill=\"#FFFFFF\" height=\"88.3516\" id=\"E4\" style=\"stroke: #383838; stroke-width: 1.5;\" width=\"103\" x=\"109.5\" y=\"41\"/><text fill=\"#000000\" font-family=\"sans-serif\" font-size=\"12\" font-style=\"italic\" lengthAdjust=\"spacingAndGlyphs\" textLength=\"64\" x=\"129\" y=\"57.1387\">«part def»</text><text fill=\"#000000\" font-family=\"sans-serif\" font-size=\"12\" lengthAdjust=\"spacingAndGlyphs\" textLength=\"11\" x=\"155.5\" y=\"71.1074\">W</text><line style=\"stroke: #383838; stroke-width: 1.5;\" x1=\"110.5\" x2=\"211.5\" y1=\"78.9375\" y2=\"78.9375\"/><text fill=\"#000000\" font-family=\"sans-serif\" font-size=\"11\" lengthAdjust=\"spacingAndGlyphs\" textLength=\"87\" x=\"115.5\" y=\"109.9526\">m=default = n;</text><text fill=\"#000000\" font-family=\"sans-serif\" font-size=\"11\" font-style=\"italic\" lengthAdjust=\"spacingAndGlyphs\" textLength=\"48\" x=\"115.5\" y=\"122.7573\">:&gt;&gt;V::m</text><line style=\"stroke: #383838; stroke-width: 1.0;\" x1=\"110.5\" x2=\"133.5\" y1=\"93.3398\" y2=\"93.3398\"/><text fill=\"#000000\" font-family=\"sans-serif\" font-size=\"11\" lengthAdjust=\"spacingAndGlyphs\" textLength=\"55\" x=\"133.5\" y=\"96.6479\">attributes</text><line style=\"stroke: #383838; stroke-width: 1.0;\" x1=\"188.5\" x2=\"211.5\" y1=\"93.3398\" y2=\"93.3398\"/></a><!--MD5=[270fce915f116d4de14055a7c1d9a0f3]\n",
       "class E5--><a href=\"psysml:12e8b862-a297-4118-9bc9-39ad14290527\" target=\"_top\" title=\"psysml:12e8b862-a297-4118-9bc9-39ad14290527\" xlink:actuate=\"onRequest\" xlink:href=\"psysml:12e8b862-a297-4118-9bc9-39ad14290527\" xlink:show=\"new\" xlink:title=\"psysml:12e8b862-a297-4118-9bc9-39ad14290527\" xlink:type=\"simple\"><rect fill=\"#FFFFFF\" height=\"45.9375\" id=\"E5\" rx=\"10\" ry=\"10\" style=\"stroke: #383838; stroke-width: 1.5;\" width=\"42\" x=\"32\" y=\"62\"/><text fill=\"#000000\" font-family=\"sans-serif\" font-size=\"12\" font-style=\"italic\" lengthAdjust=\"spacingAndGlyphs\" textLength=\"40\" x=\"33\" y=\"78.1387\">«part»</text><text fill=\"#000000\" font-family=\"sans-serif\" font-size=\"12\" lengthAdjust=\"spacingAndGlyphs\" textLength=\"14\" x=\"46\" y=\"92.1074\">v2</text><line style=\"stroke: #383838; stroke-width: 1.5;\" x1=\"33\" x2=\"73\" y1=\"99.9375\" y2=\"99.9375\"/></a><!--MD5=[05d275557350bfb9b23a4ef7222b4c39]\n",
       "link E3 to E2--><a href=\"psysml:a976bee6-0dca-4565-96d2-a44c4ac1d16a\" target=\"_top\" title=\"psysml:a976bee6-0dca-4565-96d2-a44c4ac1d16a\" xlink:actuate=\"onRequest\" xlink:href=\"psysml:a976bee6-0dca-4565-96d2-a44c4ac1d16a\" xlink:show=\"new\" xlink:title=\"psysml:a976bee6-0dca-4565-96d2-a44c4ac1d16a\" xlink:type=\"simple\"><path d=\"M258.38,129.02 C252.17,141.97 245.22,156.45 238.55,170.36 \" fill=\"none\" id=\"E3-&gt;E2\" style=\"stroke: #383838; stroke-width: 1.0;\"/><polygon fill=\"#FFFFFF\" points=\"229.72,188.79,231.6151,168.6304,244.2413,174.6786,229.72,188.79\" style=\"stroke: #383838; stroke-width: 1.0;\"/><ellipse cx=\"235.8813\" cy=\"164.3538\" fill=\"#383838\" rx=\"2\" ry=\"2\" style=\"stroke: #383838; stroke-width: 1.0;\"/><ellipse cx=\"244.9\" cy=\"168.6739\" fill=\"#383838\" rx=\"2\" ry=\"2\" style=\"stroke: #383838; stroke-width: 1.0;\"/></a><!--MD5=[185131fc0dcab0a4505a2ebe144e961b]\n",
       "link E4 to E2--><a href=\"psysml:80b8c15c-720d-43cf-a3f3-f1ac8ca72d6e\" target=\"_top\" title=\"psysml:80b8c15c-720d-43cf-a3f3-f1ac8ca72d6e\" xlink:actuate=\"onRequest\" xlink:href=\"psysml:80b8c15c-720d-43cf-a3f3-f1ac8ca72d6e\" xlink:show=\"new\" xlink:title=\"psysml:80b8c15c-720d-43cf-a3f3-f1ac8ca72d6e\" xlink:type=\"simple\"><path d=\"M175.14,129.02 C179.3,141.67 183.94,155.79 188.42,169.41 \" fill=\"none\" id=\"E4-&gt;E2\" style=\"stroke: #383838; stroke-width: 1.0;\"/><polygon fill=\"none\" points=\"195.2,167.6,194.79,188.79,181.9,171.97,195.2,167.6\" style=\"stroke: #383838; stroke-width: 1.0;\"/></a><!--MD5=[c6cb33e9b1255df8ebebb7761a226229]\n",
       "@startuml\r\n",
       "top to bottom direction\r\n",
       "skinparam monochrome true\r\n",
       "skinparam classbackgroundcolor white\r\n",
       "skinparam shadowing false\r\n",
       "skinparam wrapWidth 300\r\n",
       "hide circle\r\n",
       "\r\n",
       "package \"DefaultValueTest\" as E1  [[psysml:e269850e-1dc2-4cd5-af8e-eb4ea9f30c1b ]]  {\r\n",
       "comp def \"V\" as E2  <<(T,blue) part def>> [[psysml:e7bf9c65-3f81-4ba3-bb8e-9b75385edfca ]] {\r\n",
       "- - attributes - -\r\n",
       "m=default = 10; \r\n",
       "n= 20; \r\n",
       "}\r\n",
       "comp usage \"v1: V\" as E3  <<(T,blue) part>> [[psysml:f1f60863-7632-47b0-830a-21cb33ae86b3 ]] {\r\n",
       "- - attributes - -\r\n",
       "m= 20; \\n//:>>V::m// \r\n",
       "}\r\n",
       "comp def \"W\" as E4  <<(T,blue) part def>> [[psysml:92194191-781a-4f9d-991e-568f466dae89 ]] {\r\n",
       "- - attributes - -\r\n",
       "m=default = n; \\n//:>>V::m// \r\n",
       "}\r\n",
       "comp usage \"v2\" as E5  <<(T,blue) part>> [[psysml:12e8b862-a297-4118-9bc9-39ad14290527 ]] {\r\n",
       "}\r\n",
       "E3 - -:|> E2 [[psysml:a976bee6-0dca-4565-96d2-a44c4ac1d16a ]] \r\n",
       "E4 - -|> E2 [[psysml:80b8c15c-720d-43cf-a3f3-f1ac8ca72d6e ]] \r\n",
       "}\r\n",
       "@enduml\r\n",
       "\n",
       "PlantUML version 1.2020.13(Sat Jun 13 12:26:38 UTC 2020)\n",
       "(EPL source distribution)\n",
       "Java Runtime: OpenJDK Runtime Environment\n",
       "JVM: OpenJDK 64-Bit Server VM\n",
       "Default Encoding: UTF-8\n",
       "Language: en\n",
       "Country: null\n",
       "--></g></svg>"
      ]
     },
     "execution_count": 45,
     "metadata": {},
     "output_type": "execute_result"
    }
   ],
   "source": [
    "%viz --style=\"TB\" --view=\"Tree\" \"DefaultValueTest\""
   ]
  },
  {
   "cell_type": "code",
   "execution_count": 46,
   "id": "29adc0f5",
   "metadata": {
    "execution": {
     "iopub.execute_input": "2021-08-04T06:28:45.132663Z",
     "iopub.status.busy": "2021-08-04T06:28:45.132198Z",
     "iopub.status.idle": "2021-08-04T06:28:45.135960Z",
     "shell.execute_reply": "2021-08-04T06:28:45.135589Z"
    }
   },
   "outputs": [
    {
     "data": {
      "image/svg+xml": [
       "<?xml version=\"1.0\" encoding=\"UTF-8\" standalone=\"no\"?><svg xmlns=\"http://www.w3.org/2000/svg\" xmlns:xlink=\"http://www.w3.org/1999/xlink\" contentScriptType=\"application/ecmascript\" contentStyleType=\"text/css\" height=\"12px\" preserveAspectRatio=\"none\" style=\"width:12px;height:12px;\" version=\"1.1\" viewBox=\"0 0 12 12\" width=\"12px\" zoomAndPan=\"magnify\"><defs/><g><!--MD5=[f4ee21bc66e489b5061b7c3e9601fdef]\n",
       "@startuml\r\n",
       "top to bottom direction\r\n",
       "skinparam monochrome true\r\n",
       "skinparam classbackgroundcolor white\r\n",
       "skinparam shadowing false\r\n",
       "skinparam wrapWidth 300\r\n",
       "hide circle\r\n",
       "\r\n",
       "@enduml\r\n",
       "\n",
       "PlantUML version 1.2020.13(Sat Jun 13 12:26:38 UTC 2020)\n",
       "(EPL source distribution)\n",
       "Java Runtime: OpenJDK Runtime Environment\n",
       "JVM: OpenJDK 64-Bit Server VM\n",
       "Default Encoding: UTF-8\n",
       "Language: en\n",
       "Country: null\n",
       "--></g></svg>"
      ]
     },
     "execution_count": 46,
     "metadata": {},
     "output_type": "execute_result"
    }
   ],
   "source": [
    "%viz --style=\"TB\" --view=\"State\" \"DefaultValueTest\""
   ]
  },
  {
   "cell_type": "code",
   "execution_count": 47,
   "id": "b79095e1",
   "metadata": {
    "execution": {
     "iopub.execute_input": "2021-08-04T06:28:45.185780Z",
     "iopub.status.busy": "2021-08-04T06:28:45.185307Z",
     "iopub.status.idle": "2021-08-04T06:28:45.217754Z",
     "shell.execute_reply": "2021-08-04T06:28:45.216434Z"
    }
   },
   "outputs": [
    {
     "data": {
      "image/svg+xml": [
       "<?xml version=\"1.0\" encoding=\"UTF-8\" standalone=\"no\"?><svg xmlns=\"http://www.w3.org/2000/svg\" xmlns:xlink=\"http://www.w3.org/1999/xlink\" contentScriptType=\"application/ecmascript\" contentStyleType=\"text/css\" height=\"399px\" preserveAspectRatio=\"none\" style=\"width:448px;height:399px;\" version=\"1.1\" viewBox=\"0 0 448 399\" width=\"448px\" zoomAndPan=\"magnify\"><defs/><g><!--MD5=[fbc87193dbaf4d95561dea2c320d4a47]\n",
       "cluster E1--><a href=\"psysml:e269850e-1dc2-4cd5-af8e-eb4ea9f30c1b\" target=\"_top\" title=\"psysml:e269850e-1dc2-4cd5-af8e-eb4ea9f30c1b\" xlink:actuate=\"onRequest\" xlink:href=\"psysml:e269850e-1dc2-4cd5-af8e-eb4ea9f30c1b\" xlink:show=\"new\" xlink:title=\"psysml:e269850e-1dc2-4cd5-af8e-eb4ea9f30c1b\" xlink:type=\"simple\"><polygon fill=\"#FFFFFF\" points=\"16,6,157,6,164,28.2969,426,28.2969,426,387,16,387,16,6\" style=\"stroke: #000000; stroke-width: 1.5;\"/><line style=\"stroke: #000000; stroke-width: 1.5;\" x1=\"16\" x2=\"164\" y1=\"28.2969\" y2=\"28.2969\"/><text fill=\"#000000\" font-family=\"sans-serif\" font-size=\"14\" font-weight=\"bold\" lengthAdjust=\"spacingAndGlyphs\" textLength=\"135\" x=\"20\" y=\"20.9951\">DefaultValueTest</text></a><!--MD5=[e4f7fae6ed58524ba242bb0b0d3be6b7]\n",
       "cluster E2--><a href=\"psysml:e7bf9c65-3f81-4ba3-bb8e-9b75385edfca\" target=\"_top\" title=\"psysml:e7bf9c65-3f81-4ba3-bb8e-9b75385edfca\" xlink:actuate=\"onRequest\" xlink:href=\"psysml:e7bf9c65-3f81-4ba3-bb8e-9b75385edfca\" xlink:show=\"new\" xlink:title=\"psysml:e7bf9c65-3f81-4ba3-bb8e-9b75385edfca\" xlink:type=\"simple\"><rect fill=\"#FFFFFF\" height=\"129\" id=\"E2\" style=\"stroke: #383838; stroke-width: 1.5;\" width=\"245\" x=\"127\" y=\"226\"/><rect fill=\"#F8F8F8\" height=\"37.9375\" style=\"stroke: #383838; stroke-width: 1.5;\" width=\"245\" x=\"127\" y=\"226\"/><text fill=\"#000000\" font-family=\"sans-serif\" font-size=\"12\" font-style=\"italic\" lengthAdjust=\"spacingAndGlyphs\" textLength=\"64\" x=\"217.5\" y=\"242.1387\">«part def»</text><text fill=\"#000000\" font-family=\"sans-serif\" font-size=\"12\" lengthAdjust=\"spacingAndGlyphs\" textLength=\"8\" x=\"245.5\" y=\"256.1074\">V</text></a><!--MD5=[de5ec2e2e8f62f467e546659f5068c88]\n",
       "cluster E5--><a href=\"psysml:f1f60863-7632-47b0-830a-21cb33ae86b3\" target=\"_top\" title=\"psysml:f1f60863-7632-47b0-830a-21cb33ae86b3\" xlink:actuate=\"onRequest\" xlink:href=\"psysml:f1f60863-7632-47b0-830a-21cb33ae86b3\" xlink:show=\"new\" xlink:title=\"psysml:f1f60863-7632-47b0-830a-21cb33ae86b3\" xlink:type=\"simple\"><rect fill=\"#FFFFFF\" height=\"97\" id=\"E5\" rx=\"10\" ry=\"10\" style=\"stroke: #383838; stroke-width: 1.5;\" width=\"104\" x=\"298\" y=\"81\"/><rect fill=\"#F8F8F8\" height=\"23.9688\" rx=\"10\" ry=\"10\" style=\"stroke: #F8F8F8; stroke-width: 1.5;\" width=\"104\" x=\"298\" y=\"81\"/><rect fill=\"#F8F8F8\" height=\"10\" style=\"stroke: #F8F8F8; stroke-width: 1.5;\" width=\"104\" x=\"298\" y=\"94.9688\"/><rect fill=\"none\" height=\"97\" id=\"E5\" rx=\"10\" ry=\"10\" style=\"stroke: #383838; stroke-width: 1.5;\" width=\"104\" x=\"298\" y=\"81\"/><text fill=\"#000000\" font-family=\"sans-serif\" font-size=\"12\" lengthAdjust=\"spacingAndGlyphs\" textLength=\"30\" x=\"335\" y=\"97.1387\">v1: V</text><line style=\"stroke: #383838; stroke-width: 1.0;\" x1=\"298\" x2=\"402\" y1=\"104.9688\" y2=\"104.9688\"/></a><!--MD5=[168fadf3d0c3fd93dd5d6da1b1d7ab76]\n",
       "cluster E7--><a href=\"psysml:92194191-781a-4f9d-991e-568f466dae89\" target=\"_top\" title=\"psysml:92194191-781a-4f9d-991e-568f466dae89\" xlink:actuate=\"onRequest\" xlink:href=\"psysml:92194191-781a-4f9d-991e-568f466dae89\" xlink:show=\"new\" xlink:title=\"psysml:92194191-781a-4f9d-991e-568f466dae89\" xlink:type=\"simple\"><rect fill=\"#FFFFFF\" height=\"129\" id=\"E7\" style=\"stroke: #383838; stroke-width: 1.5;\" width=\"139\" x=\"127\" y=\"57\"/><rect fill=\"#F8F8F8\" height=\"37.9375\" style=\"stroke: #383838; stroke-width: 1.5;\" width=\"139\" x=\"127\" y=\"57\"/><text fill=\"#000000\" font-family=\"sans-serif\" font-size=\"12\" font-style=\"italic\" lengthAdjust=\"spacingAndGlyphs\" textLength=\"64\" x=\"164.5\" y=\"73.1387\">«part def»</text><text fill=\"#000000\" font-family=\"sans-serif\" font-size=\"12\" lengthAdjust=\"spacingAndGlyphs\" textLength=\"11\" x=\"191\" y=\"87.1074\">W</text></a><!--MD5=[09b614a08d8cba4a07c9adeb5e0fee81]\n",
       "class E3--><a href=\"psysml:a2ea0978-930d-4f5d-93d2-d64a4094d2a2\" target=\"_top\" title=\"psysml:a2ea0978-930d-4f5d-93d2-d64a4094d2a2\" xlink:actuate=\"onRequest\" xlink:href=\"psysml:a2ea0978-930d-4f5d-93d2-d64a4094d2a2\" xlink:show=\"new\" xlink:title=\"psysml:a2ea0978-930d-4f5d-93d2-d64a4094d2a2\" xlink:type=\"simple\"><rect fill=\"#FFFFFF\" height=\"45.9375\" id=\"E3\" rx=\"10\" ry=\"10\" style=\"stroke: #383838; stroke-width: 1.5;\" width=\"71\" x=\"276.5\" y=\"285\"/><text fill=\"#000000\" font-family=\"sans-serif\" font-size=\"12\" font-style=\"italic\" lengthAdjust=\"spacingAndGlyphs\" textLength=\"69\" x=\"277.5\" y=\"301.1387\">«attribute»</text><text fill=\"#000000\" font-family=\"sans-serif\" font-size=\"12\" lengthAdjust=\"spacingAndGlyphs\" textLength=\"11\" x=\"306.5\" y=\"315.1074\">m</text><line style=\"stroke: #383838; stroke-width: 1.5;\" x1=\"277.5\" x2=\"346.5\" y1=\"322.9375\" y2=\"322.9375\"/></a><!--MD5=[ebbe1d658d1005bcc118a6aa81145e00]\n",
       "class E4--><a href=\"psysml:d2e7553d-8e48-4fb7-896c-b23e6ced71f4\" target=\"_top\" title=\"psysml:d2e7553d-8e48-4fb7-896c-b23e6ced71f4\" xlink:actuate=\"onRequest\" xlink:href=\"psysml:d2e7553d-8e48-4fb7-896c-b23e6ced71f4\" xlink:show=\"new\" xlink:title=\"psysml:d2e7553d-8e48-4fb7-896c-b23e6ced71f4\" xlink:type=\"simple\"><rect fill=\"#FFFFFF\" height=\"45.9375\" id=\"E4\" rx=\"10\" ry=\"10\" style=\"stroke: #383838; stroke-width: 1.5;\" width=\"71\" x=\"170.5\" y=\"285\"/><text fill=\"#000000\" font-family=\"sans-serif\" font-size=\"12\" font-style=\"italic\" lengthAdjust=\"spacingAndGlyphs\" textLength=\"69\" x=\"171.5\" y=\"301.1387\">«attribute»</text><text fill=\"#000000\" font-family=\"sans-serif\" font-size=\"12\" lengthAdjust=\"spacingAndGlyphs\" textLength=\"8\" x=\"202\" y=\"315.1074\">n</text><line style=\"stroke: #383838; stroke-width: 1.5;\" x1=\"171.5\" x2=\"240.5\" y1=\"322.9375\" y2=\"322.9375\"/></a><!--MD5=[60a26617385b1d2d0262a64233df1f8d]\n",
       "class E6--><a href=\"psysml:851c4b2c-147d-4a79-885c-670825576d73\" target=\"_top\" title=\"psysml:851c4b2c-147d-4a79-885c-670825576d73\" xlink:actuate=\"onRequest\" xlink:href=\"psysml:851c4b2c-147d-4a79-885c-670825576d73\" xlink:show=\"new\" xlink:title=\"psysml:851c4b2c-147d-4a79-885c-670825576d73\" xlink:type=\"simple\"><rect fill=\"#FFFFFF\" height=\"45.9375\" id=\"E6\" rx=\"10\" ry=\"10\" style=\"stroke: #383838; stroke-width: 1.5;\" width=\"71\" x=\"314.5\" y=\"116\"/><text fill=\"#000000\" font-family=\"sans-serif\" font-size=\"12\" font-style=\"italic\" lengthAdjust=\"spacingAndGlyphs\" textLength=\"69\" x=\"315.5\" y=\"132.1387\">«attribute»</text><text fill=\"#000000\" font-family=\"sans-serif\" font-size=\"12\" lengthAdjust=\"spacingAndGlyphs\" textLength=\"11\" x=\"344.5\" y=\"146.1074\">m</text><line style=\"stroke: #383838; stroke-width: 1.5;\" x1=\"315.5\" x2=\"384.5\" y1=\"153.9375\" y2=\"153.9375\"/></a><!--MD5=[b9389687b975829384b498ac4b7476b2]\n",
       "class E8--><a href=\"psysml:82127d9e-4a29-4ac4-9705-0043f6777b4c\" target=\"_top\" title=\"psysml:82127d9e-4a29-4ac4-9705-0043f6777b4c\" xlink:actuate=\"onRequest\" xlink:href=\"psysml:82127d9e-4a29-4ac4-9705-0043f6777b4c\" xlink:show=\"new\" xlink:title=\"psysml:82127d9e-4a29-4ac4-9705-0043f6777b4c\" xlink:type=\"simple\"><rect fill=\"#FFFFFF\" height=\"45.9375\" id=\"E8\" rx=\"10\" ry=\"10\" style=\"stroke: #383838; stroke-width: 1.5;\" width=\"71\" x=\"170.5\" y=\"116\"/><text fill=\"#000000\" font-family=\"sans-serif\" font-size=\"12\" font-style=\"italic\" lengthAdjust=\"spacingAndGlyphs\" textLength=\"69\" x=\"171.5\" y=\"132.1387\">«attribute»</text><text fill=\"#000000\" font-family=\"sans-serif\" font-size=\"12\" lengthAdjust=\"spacingAndGlyphs\" textLength=\"11\" x=\"200.5\" y=\"146.1074\">m</text><line style=\"stroke: #383838; stroke-width: 1.5;\" x1=\"171.5\" x2=\"240.5\" y1=\"153.9375\" y2=\"153.9375\"/></a><g id=\"E1.E9\"><a href=\"psysml:12e8b862-a297-4118-9bc9-39ad14290527\" target=\"_top\" title=\"psysml:12e8b862-a297-4118-9bc9-39ad14290527\" xlink:actuate=\"onRequest\" xlink:href=\"psysml:12e8b862-a297-4118-9bc9-39ad14290527\" xlink:show=\"new\" xlink:title=\"psysml:12e8b862-a297-4118-9bc9-39ad14290527\" xlink:type=\"simple\"><rect fill=\"#FFFFFF\" height=\"40\" id=\"E9\" rx=\"10\" ry=\"10\" style=\"stroke: #383838; stroke-width: 1.5;\" width=\"68\" x=\"32\" y=\"119\"/><rect fill=\"#F8F8F8\" height=\"23.9688\" rx=\"10\" ry=\"10\" style=\"stroke: #F8F8F8; stroke-width: 1.5;\" width=\"68\" x=\"32\" y=\"119\"/><rect fill=\"#F8F8F8\" height=\"10\" style=\"stroke: #F8F8F8; stroke-width: 1.5;\" width=\"68\" x=\"32\" y=\"132.9688\"/><rect fill=\"none\" height=\"40\" id=\"E9\" rx=\"10\" ry=\"10\" style=\"stroke: #383838; stroke-width: 1.5;\" width=\"68\" x=\"32\" y=\"119\"/><text fill=\"#000000\" font-family=\"sans-serif\" font-size=\"12\" lengthAdjust=\"spacingAndGlyphs\" textLength=\"53\" x=\"37.5\" y=\"135.1387\">v2= W();</text></a></g><!--MD5=[a717450b82c80b9240a525fa862496af]\n",
       "link E6 to E3--><a href=\"psysml:03eebbd2-05f0-47bc-92f0-0649c0e2f845\" target=\"_top\" title=\"psysml:03eebbd2-05f0-47bc-92f0-0649c0e2f845\" xlink:actuate=\"onRequest\" xlink:href=\"psysml:03eebbd2-05f0-47bc-92f0-0649c0e2f845\" xlink:show=\"new\" xlink:title=\"psysml:03eebbd2-05f0-47bc-92f0-0649c0e2f845\" xlink:type=\"simple\"><path d=\"M344.95,162.18 C338.98,188.45 328.89,232.78 321.45,265.49 \" fill=\"none\" id=\"E6-&gt;E3\" style=\"stroke: #383838; stroke-width: 1.0;\"/><polygon fill=\"#FFFFFF\" points=\"317.01,285,314.4057,264.9197,328.0559,268.0298,317.01,285\" style=\"stroke: #383838; stroke-width: 1.0;\"/><line style=\"stroke: #383838; stroke-width: 2.0;\" x1=\"315.2498\" x2=\"328.9\" y1=\"261.2147\" y2=\"264.3247\"/></a><!--MD5=[583832df87f4419a098336a29a52fa00]\n",
       "link E7 to E2--><a href=\"psysml:80b8c15c-720d-43cf-a3f3-f1ac8ca72d6e\" target=\"_top\" title=\"psysml:80b8c15c-720d-43cf-a3f3-f1ac8ca72d6e\" xlink:actuate=\"onRequest\" xlink:href=\"psysml:80b8c15c-720d-43cf-a3f3-f1ac8ca72d6e\" xlink:show=\"new\" xlink:title=\"psysml:80b8c15c-720d-43cf-a3f3-f1ac8ca72d6e\" xlink:type=\"simple\"><path d=\"M135,186.7597 C135,189.0567 135,191.4 135,193.7804 C135,203.3019 135,213.4163 135,223.53 C135,224.1621 135,224.7942 135,225.4262 C135,225.5842 135,225.7421 135,225.9001 \" fill=\"none\" id=\"E7-&gt;E2\" style=\"stroke: #383838; stroke-width: 1.0;\"/><polygon fill=\"#FFFFFF\" points=\"135,225.9001,142,206.9001,128,206.9001,135,225.9001\" style=\"stroke: #383838; stroke-width: 1.0;\"/></a><!--MD5=[95fa686b5a16158bcdbcaeead89f639b]\n",
       "link E8 to E3--><a href=\"psysml:5971ddfa-8dbb-4825-a025-1d0848bb696d\" target=\"_top\" title=\"psysml:5971ddfa-8dbb-4825-a025-1d0848bb696d\" xlink:actuate=\"onRequest\" xlink:href=\"psysml:5971ddfa-8dbb-4825-a025-1d0848bb696d\" xlink:show=\"new\" xlink:title=\"psysml:5971ddfa-8dbb-4825-a025-1d0848bb696d\" xlink:type=\"simple\"><path d=\"M224.06,162.09 C234.74,175.57 248.24,193.36 259,210 C270.79,228.22 282.5,249.28 291.91,267.1 \" fill=\"none\" id=\"E8-&gt;E3\" style=\"stroke: #383838; stroke-width: 1.0;\"/><polygon fill=\"#FFFFFF\" points=\"301.11,284.89,286.1673,271.2256,298.6042,264.7972,301.11,284.89\" style=\"stroke: #383838; stroke-width: 1.0;\"/><line style=\"stroke: #383838; stroke-width: 2.0;\" x1=\"284.4225\" x2=\"296.8594\" y1=\"267.8499\" y2=\"261.4215\"/></a><!--MD5=[bf4584ae69610ba095be823e595d9528]\n",
       "@startuml\r\n",
       "skinparam ranksep 10\r\n",
       "skinparam rectangle {\r\n",
       " backgroundColor<<block>> LightGreen\r\n",
       "}\r\n",
       "top to bottom direction\r\n",
       "skinparam monochrome true\r\n",
       "skinparam classbackgroundcolor white\r\n",
       "skinparam shadowing false\r\n",
       "skinparam wrapWidth 300\r\n",
       "hide circle\r\n",
       "\r\n",
       "package \"DefaultValueTest\" as E1  [[psysml:e269850e-1dc2-4cd5-af8e-eb4ea9f30c1b ]]  {\r\n",
       "rec def \"V\" as E2  <<(T,blue) part def>> [[psysml:e7bf9c65-3f81-4ba3-bb8e-9b75385edfca ]] {\r\n",
       "comp usage \"m\" as E3  <<(T,blue) attribute>> [[psysml:a2ea0978-930d-4f5d-93d2-d64a4094d2a2 ]] {\r\n",
       "}\r\n",
       "comp usage \"n\" as E4  <<(T,blue) attribute>> [[psysml:d2e7553d-8e48-4fb7-896c-b23e6ced71f4 ]] {\r\n",
       "}\r\n",
       "}\r\n",
       "rec usage \"v1: V\" as E5  [[psysml:f1f60863-7632-47b0-830a-21cb33ae86b3 ]] {\r\n",
       "comp usage \"m\" as E6  <<(T,blue) attribute>> [[psysml:851c4b2c-147d-4a79-885c-670825576d73 ]] {\r\n",
       "}\r\n",
       "}\r\n",
       "rec def \"W\" as E7  <<(T,blue) part def>> [[psysml:92194191-781a-4f9d-991e-568f466dae89 ]] {\r\n",
       "comp usage \"m\" as E8  <<(T,blue) attribute>> [[psysml:82127d9e-4a29-4ac4-9705-0043f6777b4c ]] {\r\n",
       "}\r\n",
       "}\r\n",
       "rec usage \"v2= W(); \" as E9  [[psysml:12e8b862-a297-4118-9bc9-39ad14290527 ]] {\r\n",
       "}\r\n",
       "E6 - -||> E3 [[psysml:03eebbd2-05f0-47bc-92f0-0649c0e2f845 ]] \r\n",
       "E7 - -|> E2 [[psysml:80b8c15c-720d-43cf-a3f3-f1ac8ca72d6e ]] \r\n",
       "E8 - -||> E3 [[psysml:5971ddfa-8dbb-4825-a025-1d0848bb696d ]] \r\n",
       "}\r\n",
       "@enduml\r\n",
       "\n",
       "PlantUML version 1.2020.13(Sat Jun 13 12:26:38 UTC 2020)\n",
       "(EPL source distribution)\n",
       "Java Runtime: OpenJDK Runtime Environment\n",
       "JVM: OpenJDK 64-Bit Server VM\n",
       "Default Encoding: UTF-8\n",
       "Language: en\n",
       "Country: null\n",
       "--></g></svg>"
      ]
     },
     "execution_count": 47,
     "metadata": {},
     "output_type": "execute_result"
    }
   ],
   "source": [
    "%viz --style=\"TB\" --view=\"Interconnection\" \"DefaultValueTest\""
   ]
  },
  {
   "cell_type": "code",
   "execution_count": 48,
   "id": "67d58749",
   "metadata": {
    "execution": {
     "iopub.execute_input": "2021-08-04T06:28:45.267217Z",
     "iopub.status.busy": "2021-08-04T06:28:45.266815Z",
     "iopub.status.idle": "2021-08-04T06:28:45.271138Z",
     "shell.execute_reply": "2021-08-04T06:28:45.271455Z"
    }
   },
   "outputs": [
    {
     "data": {
      "image/svg+xml": [
       "<?xml version=\"1.0\" encoding=\"UTF-8\" standalone=\"no\"?><svg xmlns=\"http://www.w3.org/2000/svg\" xmlns:xlink=\"http://www.w3.org/1999/xlink\" contentScriptType=\"application/ecmascript\" contentStyleType=\"text/css\" height=\"12px\" preserveAspectRatio=\"none\" style=\"width:12px;height:12px;\" version=\"1.1\" viewBox=\"0 0 12 12\" width=\"12px\" zoomAndPan=\"magnify\"><defs/><g><!--MD5=[06afc254b03ac5e9d9fb7773b07d0800]\n",
       "@startuml\r\n",
       "skinparam ranksep 8\r\n",
       "top to bottom direction\r\n",
       "skinparam monochrome true\r\n",
       "skinparam classbackgroundcolor white\r\n",
       "skinparam shadowing false\r\n",
       "skinparam wrapWidth 300\r\n",
       "hide circle\r\n",
       "\r\n",
       "@enduml\r\n",
       "\n",
       "PlantUML version 1.2020.13(Sat Jun 13 12:26:38 UTC 2020)\n",
       "(EPL source distribution)\n",
       "Java Runtime: OpenJDK Runtime Environment\n",
       "JVM: OpenJDK 64-Bit Server VM\n",
       "Default Encoding: UTF-8\n",
       "Language: en\n",
       "Country: null\n",
       "--></g></svg>"
      ]
     },
     "execution_count": 48,
     "metadata": {},
     "output_type": "execute_result"
    }
   ],
   "source": [
    "%viz --style=\"TB\" --view=\"Action\" \"DefaultValueTest\""
   ]
  },
  {
   "cell_type": "code",
   "execution_count": 49,
   "id": "be22fc42",
   "metadata": {
    "execution": {
     "iopub.execute_input": "2021-08-04T06:28:45.321532Z",
     "iopub.status.busy": "2021-08-04T06:28:45.321130Z",
     "iopub.status.idle": "2021-08-04T06:28:45.393898Z",
     "shell.execute_reply": "2021-08-04T06:28:45.392654Z"
    }
   },
   "outputs": [
    {
     "data": {
      "image/svg+xml": [
       "<?xml version=\"1.0\" encoding=\"UTF-8\" standalone=\"no\"?><svg xmlns=\"http://www.w3.org/2000/svg\" xmlns:xlink=\"http://www.w3.org/1999/xlink\" contentScriptType=\"application/ecmascript\" contentStyleType=\"text/css\" height=\"305px\" preserveAspectRatio=\"none\" style=\"width:349px;height:305px;\" version=\"1.1\" viewBox=\"0 0 349 305\" width=\"349px\" zoomAndPan=\"magnify\"><defs/><g><!--MD5=[fbc87193dbaf4d95561dea2c320d4a47]\n",
       "cluster E1--><a href=\"psysml:e269850e-1dc2-4cd5-af8e-eb4ea9f30c1b\" target=\"_top\" title=\"psysml:e269850e-1dc2-4cd5-af8e-eb4ea9f30c1b\" xlink:actuate=\"onRequest\" xlink:href=\"psysml:e269850e-1dc2-4cd5-af8e-eb4ea9f30c1b\" xlink:show=\"new\" xlink:title=\"psysml:e269850e-1dc2-4cd5-af8e-eb4ea9f30c1b\" xlink:type=\"simple\"><polygon fill=\"#FFFFFF\" points=\"16,6,157,6,164,28.2969,327,28.2969,327,293,16,293,16,6\" style=\"stroke: #000000; stroke-width: 1.5;\"/><line style=\"stroke: #000000; stroke-width: 1.5;\" x1=\"16\" x2=\"164\" y1=\"28.2969\" y2=\"28.2969\"/><text fill=\"#000000\" font-family=\"sans-serif\" font-size=\"14\" font-weight=\"bold\" lengthAdjust=\"spacingAndGlyphs\" textLength=\"135\" x=\"20\" y=\"20.9951\">DefaultValueTest</text></a><!--MD5=[b4997ac47864f28c2f74865a473b2911]\n",
       "class E2--><a href=\"psysml:e7bf9c65-3f81-4ba3-bb8e-9b75385edfca\" target=\"_top\" title=\"psysml:e7bf9c65-3f81-4ba3-bb8e-9b75385edfca\" xlink:actuate=\"onRequest\" xlink:href=\"psysml:e7bf9c65-3f81-4ba3-bb8e-9b75385edfca\" xlink:show=\"new\" xlink:title=\"psysml:e7bf9c65-3f81-4ba3-bb8e-9b75385edfca\" xlink:type=\"simple\"><rect fill=\"#FFFFFF\" height=\"88.3516\" id=\"E2\" style=\"stroke: #383838; stroke-width: 1.5;\" width=\"106\" x=\"156\" y=\"189\"/><text fill=\"#000000\" font-family=\"sans-serif\" font-size=\"12\" font-style=\"italic\" lengthAdjust=\"spacingAndGlyphs\" textLength=\"64\" x=\"177\" y=\"205.1387\">«part def»</text><text fill=\"#000000\" font-family=\"sans-serif\" font-size=\"12\" lengthAdjust=\"spacingAndGlyphs\" textLength=\"8\" x=\"205\" y=\"219.1074\">V</text><line style=\"stroke: #383838; stroke-width: 1.5;\" x1=\"157\" x2=\"261\" y1=\"226.9375\" y2=\"226.9375\"/><text fill=\"#000000\" font-family=\"sans-serif\" font-size=\"11\" lengthAdjust=\"spacingAndGlyphs\" textLength=\"94\" x=\"162\" y=\"257.9526\">m=default = 10;</text><text fill=\"#000000\" font-family=\"sans-serif\" font-size=\"11\" lengthAdjust=\"spacingAndGlyphs\" textLength=\"38\" x=\"162\" y=\"270.7573\">n= 20;</text><line style=\"stroke: #383838; stroke-width: 1.0;\" x1=\"157\" x2=\"181.5\" y1=\"241.3398\" y2=\"241.3398\"/><text fill=\"#000000\" font-family=\"sans-serif\" font-size=\"11\" lengthAdjust=\"spacingAndGlyphs\" textLength=\"55\" x=\"181.5\" y=\"244.6479\">attributes</text><line style=\"stroke: #383838; stroke-width: 1.0;\" x1=\"236.5\" x2=\"261\" y1=\"241.3398\" y2=\"241.3398\"/></a><!--MD5=[09b614a08d8cba4a07c9adeb5e0fee81]\n",
       "class E3--><a href=\"psysml:f1f60863-7632-47b0-830a-21cb33ae86b3\" target=\"_top\" title=\"psysml:f1f60863-7632-47b0-830a-21cb33ae86b3\" xlink:actuate=\"onRequest\" xlink:href=\"psysml:f1f60863-7632-47b0-830a-21cb33ae86b3\" xlink:show=\"new\" xlink:title=\"psysml:f1f60863-7632-47b0-830a-21cb33ae86b3\" xlink:type=\"simple\"><rect fill=\"#FFFFFF\" height=\"88.3516\" id=\"E3\" rx=\"10\" ry=\"10\" style=\"stroke: #383838; stroke-width: 1.5;\" width=\"63\" x=\"247.5\" y=\"41\"/><text fill=\"#000000\" font-family=\"sans-serif\" font-size=\"12\" font-style=\"italic\" lengthAdjust=\"spacingAndGlyphs\" textLength=\"40\" x=\"259\" y=\"57.1387\">«part»</text><text fill=\"#000000\" font-family=\"sans-serif\" font-size=\"12\" lengthAdjust=\"spacingAndGlyphs\" textLength=\"30\" x=\"264\" y=\"71.1074\">v1: V</text><line style=\"stroke: #383838; stroke-width: 1.5;\" x1=\"248.5\" x2=\"309.5\" y1=\"78.9375\" y2=\"78.9375\"/><text fill=\"#000000\" font-family=\"sans-serif\" font-size=\"11\" lengthAdjust=\"spacingAndGlyphs\" textLength=\"42\" x=\"253.5\" y=\"109.9526\">m= 20;</text><text fill=\"#000000\" font-family=\"sans-serif\" font-size=\"11\" font-style=\"italic\" lengthAdjust=\"spacingAndGlyphs\" textLength=\"48\" x=\"253.5\" y=\"122.7573\">:&gt;&gt;V::m</text><line style=\"stroke: #383838; stroke-width: 1.0;\" x1=\"248.5\" x2=\"251.5\" y1=\"93.3398\" y2=\"93.3398\"/><text fill=\"#000000\" font-family=\"sans-serif\" font-size=\"11\" lengthAdjust=\"spacingAndGlyphs\" textLength=\"55\" x=\"251.5\" y=\"96.6479\">attributes</text><line style=\"stroke: #383838; stroke-width: 1.0;\" x1=\"306.5\" x2=\"309.5\" y1=\"93.3398\" y2=\"93.3398\"/></a><!--MD5=[ebbe1d658d1005bcc118a6aa81145e00]\n",
       "class E4--><a href=\"psysml:92194191-781a-4f9d-991e-568f466dae89\" target=\"_top\" title=\"psysml:92194191-781a-4f9d-991e-568f466dae89\" xlink:actuate=\"onRequest\" xlink:href=\"psysml:92194191-781a-4f9d-991e-568f466dae89\" xlink:show=\"new\" xlink:title=\"psysml:92194191-781a-4f9d-991e-568f466dae89\" xlink:type=\"simple\"><rect fill=\"#FFFFFF\" height=\"88.3516\" id=\"E4\" style=\"stroke: #383838; stroke-width: 1.5;\" width=\"103\" x=\"109.5\" y=\"41\"/><text fill=\"#000000\" font-family=\"sans-serif\" font-size=\"12\" font-style=\"italic\" lengthAdjust=\"spacingAndGlyphs\" textLength=\"64\" x=\"129\" y=\"57.1387\">«part def»</text><text fill=\"#000000\" font-family=\"sans-serif\" font-size=\"12\" lengthAdjust=\"spacingAndGlyphs\" textLength=\"11\" x=\"155.5\" y=\"71.1074\">W</text><line style=\"stroke: #383838; stroke-width: 1.5;\" x1=\"110.5\" x2=\"211.5\" y1=\"78.9375\" y2=\"78.9375\"/><text fill=\"#000000\" font-family=\"sans-serif\" font-size=\"11\" lengthAdjust=\"spacingAndGlyphs\" textLength=\"87\" x=\"115.5\" y=\"109.9526\">m=default = n;</text><text fill=\"#000000\" font-family=\"sans-serif\" font-size=\"11\" font-style=\"italic\" lengthAdjust=\"spacingAndGlyphs\" textLength=\"48\" x=\"115.5\" y=\"122.7573\">:&gt;&gt;V::m</text><line style=\"stroke: #383838; stroke-width: 1.0;\" x1=\"110.5\" x2=\"133.5\" y1=\"93.3398\" y2=\"93.3398\"/><text fill=\"#000000\" font-family=\"sans-serif\" font-size=\"11\" lengthAdjust=\"spacingAndGlyphs\" textLength=\"55\" x=\"133.5\" y=\"96.6479\">attributes</text><line style=\"stroke: #383838; stroke-width: 1.0;\" x1=\"188.5\" x2=\"211.5\" y1=\"93.3398\" y2=\"93.3398\"/></a><!--MD5=[270fce915f116d4de14055a7c1d9a0f3]\n",
       "class E5--><a href=\"psysml:12e8b862-a297-4118-9bc9-39ad14290527\" target=\"_top\" title=\"psysml:12e8b862-a297-4118-9bc9-39ad14290527\" xlink:actuate=\"onRequest\" xlink:href=\"psysml:12e8b862-a297-4118-9bc9-39ad14290527\" xlink:show=\"new\" xlink:title=\"psysml:12e8b862-a297-4118-9bc9-39ad14290527\" xlink:type=\"simple\"><rect fill=\"#FFFFFF\" height=\"45.9375\" id=\"E5\" rx=\"10\" ry=\"10\" style=\"stroke: #383838; stroke-width: 1.5;\" width=\"42\" x=\"32\" y=\"62\"/><text fill=\"#000000\" font-family=\"sans-serif\" font-size=\"12\" font-style=\"italic\" lengthAdjust=\"spacingAndGlyphs\" textLength=\"40\" x=\"33\" y=\"78.1387\">«part»</text><text fill=\"#000000\" font-family=\"sans-serif\" font-size=\"12\" lengthAdjust=\"spacingAndGlyphs\" textLength=\"14\" x=\"46\" y=\"92.1074\">v2</text><line style=\"stroke: #383838; stroke-width: 1.5;\" x1=\"33\" x2=\"73\" y1=\"99.9375\" y2=\"99.9375\"/></a><!--MD5=[05d275557350bfb9b23a4ef7222b4c39]\n",
       "link E3 to E2--><a href=\"psysml:a976bee6-0dca-4565-96d2-a44c4ac1d16a\" target=\"_top\" title=\"psysml:a976bee6-0dca-4565-96d2-a44c4ac1d16a\" xlink:actuate=\"onRequest\" xlink:href=\"psysml:a976bee6-0dca-4565-96d2-a44c4ac1d16a\" xlink:show=\"new\" xlink:title=\"psysml:a976bee6-0dca-4565-96d2-a44c4ac1d16a\" xlink:type=\"simple\"><path d=\"M258.38,129.02 C252.17,141.97 245.22,156.45 238.55,170.36 \" fill=\"none\" id=\"E3-&gt;E2\" style=\"stroke: #383838; stroke-width: 1.0;\"/><polygon fill=\"#FFFFFF\" points=\"229.72,188.79,231.6151,168.6304,244.2413,174.6786,229.72,188.79\" style=\"stroke: #383838; stroke-width: 1.0;\"/><ellipse cx=\"235.8813\" cy=\"164.3538\" fill=\"#383838\" rx=\"2\" ry=\"2\" style=\"stroke: #383838; stroke-width: 1.0;\"/><ellipse cx=\"244.9\" cy=\"168.6739\" fill=\"#383838\" rx=\"2\" ry=\"2\" style=\"stroke: #383838; stroke-width: 1.0;\"/></a><!--MD5=[185131fc0dcab0a4505a2ebe144e961b]\n",
       "link E4 to E2--><a href=\"psysml:80b8c15c-720d-43cf-a3f3-f1ac8ca72d6e\" target=\"_top\" title=\"psysml:80b8c15c-720d-43cf-a3f3-f1ac8ca72d6e\" xlink:actuate=\"onRequest\" xlink:href=\"psysml:80b8c15c-720d-43cf-a3f3-f1ac8ca72d6e\" xlink:show=\"new\" xlink:title=\"psysml:80b8c15c-720d-43cf-a3f3-f1ac8ca72d6e\" xlink:type=\"simple\"><path d=\"M175.14,129.02 C179.3,141.67 183.94,155.79 188.42,169.41 \" fill=\"none\" id=\"E4-&gt;E2\" style=\"stroke: #383838; stroke-width: 1.0;\"/><polygon fill=\"none\" points=\"195.2,167.6,194.79,188.79,181.9,171.97,195.2,167.6\" style=\"stroke: #383838; stroke-width: 1.0;\"/></a><!--MD5=[c6cb33e9b1255df8ebebb7761a226229]\n",
       "@startuml\r\n",
       "top to bottom direction\r\n",
       "skinparam monochrome true\r\n",
       "skinparam classbackgroundcolor white\r\n",
       "skinparam shadowing false\r\n",
       "skinparam wrapWidth 300\r\n",
       "hide circle\r\n",
       "\r\n",
       "package \"DefaultValueTest\" as E1  [[psysml:e269850e-1dc2-4cd5-af8e-eb4ea9f30c1b ]]  {\r\n",
       "comp def \"V\" as E2  <<(T,blue) part def>> [[psysml:e7bf9c65-3f81-4ba3-bb8e-9b75385edfca ]] {\r\n",
       "- - attributes - -\r\n",
       "m=default = 10; \r\n",
       "n= 20; \r\n",
       "}\r\n",
       "comp usage \"v1: V\" as E3  <<(T,blue) part>> [[psysml:f1f60863-7632-47b0-830a-21cb33ae86b3 ]] {\r\n",
       "- - attributes - -\r\n",
       "m= 20; \\n//:>>V::m// \r\n",
       "}\r\n",
       "comp def \"W\" as E4  <<(T,blue) part def>> [[psysml:92194191-781a-4f9d-991e-568f466dae89 ]] {\r\n",
       "- - attributes - -\r\n",
       "m=default = n; \\n//:>>V::m// \r\n",
       "}\r\n",
       "comp usage \"v2\" as E5  <<(T,blue) part>> [[psysml:12e8b862-a297-4118-9bc9-39ad14290527 ]] {\r\n",
       "}\r\n",
       "E3 - -:|> E2 [[psysml:a976bee6-0dca-4565-96d2-a44c4ac1d16a ]] \r\n",
       "E4 - -|> E2 [[psysml:80b8c15c-720d-43cf-a3f3-f1ac8ca72d6e ]] \r\n",
       "}\r\n",
       "@enduml\r\n",
       "\n",
       "PlantUML version 1.2020.13(Sat Jun 13 12:26:38 UTC 2020)\n",
       "(EPL source distribution)\n",
       "Java Runtime: OpenJDK Runtime Environment\n",
       "JVM: OpenJDK 64-Bit Server VM\n",
       "Default Encoding: UTF-8\n",
       "Language: en\n",
       "Country: null\n",
       "--></g></svg>"
      ]
     },
     "execution_count": 49,
     "metadata": {},
     "output_type": "execute_result"
    }
   ],
   "source": [
    "%viz --style=\"TB\" --view=\"Sequence\" \"DefaultValueTest\""
   ]
  },
  {
   "cell_type": "code",
   "execution_count": 50,
   "id": "d133f9b7",
   "metadata": {
    "execution": {
     "iopub.execute_input": "2021-08-04T06:28:45.443438Z",
     "iopub.status.busy": "2021-08-04T06:28:45.442997Z",
     "iopub.status.idle": "2021-08-04T06:28:45.513829Z",
     "shell.execute_reply": "2021-08-04T06:28:45.512587Z"
    }
   },
   "outputs": [
    {
     "data": {
      "image/svg+xml": [
       "<?xml version=\"1.0\" encoding=\"UTF-8\" standalone=\"no\"?><svg xmlns=\"http://www.w3.org/2000/svg\" xmlns:xlink=\"http://www.w3.org/1999/xlink\" contentScriptType=\"application/ecmascript\" contentStyleType=\"text/css\" height=\"305px\" preserveAspectRatio=\"none\" style=\"width:349px;height:305px;\" version=\"1.1\" viewBox=\"0 0 349 305\" width=\"349px\" zoomAndPan=\"magnify\"><defs/><g><!--MD5=[fbc87193dbaf4d95561dea2c320d4a47]\n",
       "cluster E1--><a href=\"psysml:e269850e-1dc2-4cd5-af8e-eb4ea9f30c1b\" target=\"_top\" title=\"psysml:e269850e-1dc2-4cd5-af8e-eb4ea9f30c1b\" xlink:actuate=\"onRequest\" xlink:href=\"psysml:e269850e-1dc2-4cd5-af8e-eb4ea9f30c1b\" xlink:show=\"new\" xlink:title=\"psysml:e269850e-1dc2-4cd5-af8e-eb4ea9f30c1b\" xlink:type=\"simple\"><polygon fill=\"#FFFFFF\" points=\"16,6,157,6,164,28.2969,327,28.2969,327,293,16,293,16,6\" style=\"stroke: #000000; stroke-width: 1.5;\"/><line style=\"stroke: #000000; stroke-width: 1.5;\" x1=\"16\" x2=\"164\" y1=\"28.2969\" y2=\"28.2969\"/><text fill=\"#000000\" font-family=\"sans-serif\" font-size=\"14\" font-weight=\"bold\" lengthAdjust=\"spacingAndGlyphs\" textLength=\"135\" x=\"20\" y=\"20.9951\">DefaultValueTest</text></a><!--MD5=[b4997ac47864f28c2f74865a473b2911]\n",
       "class E2--><a href=\"psysml:e7bf9c65-3f81-4ba3-bb8e-9b75385edfca\" target=\"_top\" title=\"psysml:e7bf9c65-3f81-4ba3-bb8e-9b75385edfca\" xlink:actuate=\"onRequest\" xlink:href=\"psysml:e7bf9c65-3f81-4ba3-bb8e-9b75385edfca\" xlink:show=\"new\" xlink:title=\"psysml:e7bf9c65-3f81-4ba3-bb8e-9b75385edfca\" xlink:type=\"simple\"><rect fill=\"#FFFFFF\" height=\"88.3516\" id=\"E2\" style=\"stroke: #383838; stroke-width: 1.5;\" width=\"106\" x=\"156\" y=\"189\"/><text fill=\"#000000\" font-family=\"sans-serif\" font-size=\"12\" font-style=\"italic\" lengthAdjust=\"spacingAndGlyphs\" textLength=\"64\" x=\"177\" y=\"205.1387\">«part def»</text><text fill=\"#000000\" font-family=\"sans-serif\" font-size=\"12\" lengthAdjust=\"spacingAndGlyphs\" textLength=\"8\" x=\"205\" y=\"219.1074\">V</text><line style=\"stroke: #383838; stroke-width: 1.5;\" x1=\"157\" x2=\"261\" y1=\"226.9375\" y2=\"226.9375\"/><text fill=\"#000000\" font-family=\"sans-serif\" font-size=\"11\" lengthAdjust=\"spacingAndGlyphs\" textLength=\"94\" x=\"162\" y=\"257.9526\">m=default = 10;</text><text fill=\"#000000\" font-family=\"sans-serif\" font-size=\"11\" lengthAdjust=\"spacingAndGlyphs\" textLength=\"38\" x=\"162\" y=\"270.7573\">n= 20;</text><line style=\"stroke: #383838; stroke-width: 1.0;\" x1=\"157\" x2=\"181.5\" y1=\"241.3398\" y2=\"241.3398\"/><text fill=\"#000000\" font-family=\"sans-serif\" font-size=\"11\" lengthAdjust=\"spacingAndGlyphs\" textLength=\"55\" x=\"181.5\" y=\"244.6479\">attributes</text><line style=\"stroke: #383838; stroke-width: 1.0;\" x1=\"236.5\" x2=\"261\" y1=\"241.3398\" y2=\"241.3398\"/></a><!--MD5=[09b614a08d8cba4a07c9adeb5e0fee81]\n",
       "class E3--><a href=\"psysml:f1f60863-7632-47b0-830a-21cb33ae86b3\" target=\"_top\" title=\"psysml:f1f60863-7632-47b0-830a-21cb33ae86b3\" xlink:actuate=\"onRequest\" xlink:href=\"psysml:f1f60863-7632-47b0-830a-21cb33ae86b3\" xlink:show=\"new\" xlink:title=\"psysml:f1f60863-7632-47b0-830a-21cb33ae86b3\" xlink:type=\"simple\"><rect fill=\"#FFFFFF\" height=\"88.3516\" id=\"E3\" rx=\"10\" ry=\"10\" style=\"stroke: #383838; stroke-width: 1.5;\" width=\"63\" x=\"247.5\" y=\"41\"/><text fill=\"#000000\" font-family=\"sans-serif\" font-size=\"12\" font-style=\"italic\" lengthAdjust=\"spacingAndGlyphs\" textLength=\"40\" x=\"259\" y=\"57.1387\">«part»</text><text fill=\"#000000\" font-family=\"sans-serif\" font-size=\"12\" lengthAdjust=\"spacingAndGlyphs\" textLength=\"30\" x=\"264\" y=\"71.1074\">v1: V</text><line style=\"stroke: #383838; stroke-width: 1.5;\" x1=\"248.5\" x2=\"309.5\" y1=\"78.9375\" y2=\"78.9375\"/><text fill=\"#000000\" font-family=\"sans-serif\" font-size=\"11\" lengthAdjust=\"spacingAndGlyphs\" textLength=\"42\" x=\"253.5\" y=\"109.9526\">m= 20;</text><text fill=\"#000000\" font-family=\"sans-serif\" font-size=\"11\" font-style=\"italic\" lengthAdjust=\"spacingAndGlyphs\" textLength=\"48\" x=\"253.5\" y=\"122.7573\">:&gt;&gt;V::m</text><line style=\"stroke: #383838; stroke-width: 1.0;\" x1=\"248.5\" x2=\"251.5\" y1=\"93.3398\" y2=\"93.3398\"/><text fill=\"#000000\" font-family=\"sans-serif\" font-size=\"11\" lengthAdjust=\"spacingAndGlyphs\" textLength=\"55\" x=\"251.5\" y=\"96.6479\">attributes</text><line style=\"stroke: #383838; stroke-width: 1.0;\" x1=\"306.5\" x2=\"309.5\" y1=\"93.3398\" y2=\"93.3398\"/></a><!--MD5=[ebbe1d658d1005bcc118a6aa81145e00]\n",
       "class E4--><a href=\"psysml:92194191-781a-4f9d-991e-568f466dae89\" target=\"_top\" title=\"psysml:92194191-781a-4f9d-991e-568f466dae89\" xlink:actuate=\"onRequest\" xlink:href=\"psysml:92194191-781a-4f9d-991e-568f466dae89\" xlink:show=\"new\" xlink:title=\"psysml:92194191-781a-4f9d-991e-568f466dae89\" xlink:type=\"simple\"><rect fill=\"#FFFFFF\" height=\"88.3516\" id=\"E4\" style=\"stroke: #383838; stroke-width: 1.5;\" width=\"103\" x=\"109.5\" y=\"41\"/><text fill=\"#000000\" font-family=\"sans-serif\" font-size=\"12\" font-style=\"italic\" lengthAdjust=\"spacingAndGlyphs\" textLength=\"64\" x=\"129\" y=\"57.1387\">«part def»</text><text fill=\"#000000\" font-family=\"sans-serif\" font-size=\"12\" lengthAdjust=\"spacingAndGlyphs\" textLength=\"11\" x=\"155.5\" y=\"71.1074\">W</text><line style=\"stroke: #383838; stroke-width: 1.5;\" x1=\"110.5\" x2=\"211.5\" y1=\"78.9375\" y2=\"78.9375\"/><text fill=\"#000000\" font-family=\"sans-serif\" font-size=\"11\" lengthAdjust=\"spacingAndGlyphs\" textLength=\"87\" x=\"115.5\" y=\"109.9526\">m=default = n;</text><text fill=\"#000000\" font-family=\"sans-serif\" font-size=\"11\" font-style=\"italic\" lengthAdjust=\"spacingAndGlyphs\" textLength=\"48\" x=\"115.5\" y=\"122.7573\">:&gt;&gt;V::m</text><line style=\"stroke: #383838; stroke-width: 1.0;\" x1=\"110.5\" x2=\"133.5\" y1=\"93.3398\" y2=\"93.3398\"/><text fill=\"#000000\" font-family=\"sans-serif\" font-size=\"11\" lengthAdjust=\"spacingAndGlyphs\" textLength=\"55\" x=\"133.5\" y=\"96.6479\">attributes</text><line style=\"stroke: #383838; stroke-width: 1.0;\" x1=\"188.5\" x2=\"211.5\" y1=\"93.3398\" y2=\"93.3398\"/></a><!--MD5=[270fce915f116d4de14055a7c1d9a0f3]\n",
       "class E5--><a href=\"psysml:12e8b862-a297-4118-9bc9-39ad14290527\" target=\"_top\" title=\"psysml:12e8b862-a297-4118-9bc9-39ad14290527\" xlink:actuate=\"onRequest\" xlink:href=\"psysml:12e8b862-a297-4118-9bc9-39ad14290527\" xlink:show=\"new\" xlink:title=\"psysml:12e8b862-a297-4118-9bc9-39ad14290527\" xlink:type=\"simple\"><rect fill=\"#FFFFFF\" height=\"45.9375\" id=\"E5\" rx=\"10\" ry=\"10\" style=\"stroke: #383838; stroke-width: 1.5;\" width=\"42\" x=\"32\" y=\"62\"/><text fill=\"#000000\" font-family=\"sans-serif\" font-size=\"12\" font-style=\"italic\" lengthAdjust=\"spacingAndGlyphs\" textLength=\"40\" x=\"33\" y=\"78.1387\">«part»</text><text fill=\"#000000\" font-family=\"sans-serif\" font-size=\"12\" lengthAdjust=\"spacingAndGlyphs\" textLength=\"14\" x=\"46\" y=\"92.1074\">v2</text><line style=\"stroke: #383838; stroke-width: 1.5;\" x1=\"33\" x2=\"73\" y1=\"99.9375\" y2=\"99.9375\"/></a><!--MD5=[05d275557350bfb9b23a4ef7222b4c39]\n",
       "link E3 to E2--><a href=\"psysml:a976bee6-0dca-4565-96d2-a44c4ac1d16a\" target=\"_top\" title=\"psysml:a976bee6-0dca-4565-96d2-a44c4ac1d16a\" xlink:actuate=\"onRequest\" xlink:href=\"psysml:a976bee6-0dca-4565-96d2-a44c4ac1d16a\" xlink:show=\"new\" xlink:title=\"psysml:a976bee6-0dca-4565-96d2-a44c4ac1d16a\" xlink:type=\"simple\"><path d=\"M258.38,129.02 C252.17,141.97 245.22,156.45 238.55,170.36 \" fill=\"none\" id=\"E3-&gt;E2\" style=\"stroke: #383838; stroke-width: 1.0;\"/><polygon fill=\"#FFFFFF\" points=\"229.72,188.79,231.6151,168.6304,244.2413,174.6786,229.72,188.79\" style=\"stroke: #383838; stroke-width: 1.0;\"/><ellipse cx=\"235.8813\" cy=\"164.3538\" fill=\"#383838\" rx=\"2\" ry=\"2\" style=\"stroke: #383838; stroke-width: 1.0;\"/><ellipse cx=\"244.9\" cy=\"168.6739\" fill=\"#383838\" rx=\"2\" ry=\"2\" style=\"stroke: #383838; stroke-width: 1.0;\"/></a><!--MD5=[185131fc0dcab0a4505a2ebe144e961b]\n",
       "link E4 to E2--><a href=\"psysml:80b8c15c-720d-43cf-a3f3-f1ac8ca72d6e\" target=\"_top\" title=\"psysml:80b8c15c-720d-43cf-a3f3-f1ac8ca72d6e\" xlink:actuate=\"onRequest\" xlink:href=\"psysml:80b8c15c-720d-43cf-a3f3-f1ac8ca72d6e\" xlink:show=\"new\" xlink:title=\"psysml:80b8c15c-720d-43cf-a3f3-f1ac8ca72d6e\" xlink:type=\"simple\"><path d=\"M175.14,129.02 C179.3,141.67 183.94,155.79 188.42,169.41 \" fill=\"none\" id=\"E4-&gt;E2\" style=\"stroke: #383838; stroke-width: 1.0;\"/><polygon fill=\"none\" points=\"195.2,167.6,194.79,188.79,181.9,171.97,195.2,167.6\" style=\"stroke: #383838; stroke-width: 1.0;\"/></a><!--MD5=[c6cb33e9b1255df8ebebb7761a226229]\n",
       "@startuml\r\n",
       "top to bottom direction\r\n",
       "skinparam monochrome true\r\n",
       "skinparam classbackgroundcolor white\r\n",
       "skinparam shadowing false\r\n",
       "skinparam wrapWidth 300\r\n",
       "hide circle\r\n",
       "\r\n",
       "package \"DefaultValueTest\" as E1  [[psysml:e269850e-1dc2-4cd5-af8e-eb4ea9f30c1b ]]  {\r\n",
       "comp def \"V\" as E2  <<(T,blue) part def>> [[psysml:e7bf9c65-3f81-4ba3-bb8e-9b75385edfca ]] {\r\n",
       "- - attributes - -\r\n",
       "m=default = 10; \r\n",
       "n= 20; \r\n",
       "}\r\n",
       "comp usage \"v1: V\" as E3  <<(T,blue) part>> [[psysml:f1f60863-7632-47b0-830a-21cb33ae86b3 ]] {\r\n",
       "- - attributes - -\r\n",
       "m= 20; \\n//:>>V::m// \r\n",
       "}\r\n",
       "comp def \"W\" as E4  <<(T,blue) part def>> [[psysml:92194191-781a-4f9d-991e-568f466dae89 ]] {\r\n",
       "- - attributes - -\r\n",
       "m=default = n; \\n//:>>V::m// \r\n",
       "}\r\n",
       "comp usage \"v2\" as E5  <<(T,blue) part>> [[psysml:12e8b862-a297-4118-9bc9-39ad14290527 ]] {\r\n",
       "}\r\n",
       "E3 - -:|> E2 [[psysml:a976bee6-0dca-4565-96d2-a44c4ac1d16a ]] \r\n",
       "E4 - -|> E2 [[psysml:80b8c15c-720d-43cf-a3f3-f1ac8ca72d6e ]] \r\n",
       "}\r\n",
       "@enduml\r\n",
       "\n",
       "PlantUML version 1.2020.13(Sat Jun 13 12:26:38 UTC 2020)\n",
       "(EPL source distribution)\n",
       "Java Runtime: OpenJDK Runtime Environment\n",
       "JVM: OpenJDK 64-Bit Server VM\n",
       "Default Encoding: UTF-8\n",
       "Language: en\n",
       "Country: null\n",
       "--></g></svg>"
      ]
     },
     "execution_count": 50,
     "metadata": {},
     "output_type": "execute_result"
    }
   ],
   "source": [
    "%viz --style=\"TB\" --view=\"MIXED\" \"DefaultValueTest\""
   ]
  },
  {
   "cell_type": "code",
   "execution_count": 51,
   "id": "9ebad712",
   "metadata": {
    "execution": {
     "iopub.execute_input": "2021-08-04T06:28:45.563131Z",
     "iopub.status.busy": "2021-08-04T06:28:45.562711Z",
     "iopub.status.idle": "2021-08-04T06:28:45.619032Z",
     "shell.execute_reply": "2021-08-04T06:28:45.618646Z"
    }
   },
   "outputs": [
    {
     "data": {
      "image/svg+xml": [
       "<?xml version=\"1.0\" encoding=\"UTF-8\" standalone=\"no\"?><svg xmlns=\"http://www.w3.org/2000/svg\" xmlns:xlink=\"http://www.w3.org/1999/xlink\" contentScriptType=\"application/ecmascript\" contentStyleType=\"text/css\" height=\"305px\" preserveAspectRatio=\"none\" style=\"width:349px;height:305px;\" version=\"1.1\" viewBox=\"0 0 349 305\" width=\"349px\" zoomAndPan=\"magnify\"><defs/><g><!--MD5=[fbc87193dbaf4d95561dea2c320d4a47]\n",
       "cluster E1--><a href=\"psysml:e269850e-1dc2-4cd5-af8e-eb4ea9f30c1b\" target=\"_top\" title=\"psysml:e269850e-1dc2-4cd5-af8e-eb4ea9f30c1b\" xlink:actuate=\"onRequest\" xlink:href=\"psysml:e269850e-1dc2-4cd5-af8e-eb4ea9f30c1b\" xlink:show=\"new\" xlink:title=\"psysml:e269850e-1dc2-4cd5-af8e-eb4ea9f30c1b\" xlink:type=\"simple\"><polygon fill=\"#FFFFFF\" points=\"16,6,157,6,164,28.2969,327,28.2969,327,293,16,293,16,6\" style=\"stroke: #000000; stroke-width: 1.5;\"/><line style=\"stroke: #000000; stroke-width: 1.5;\" x1=\"16\" x2=\"164\" y1=\"28.2969\" y2=\"28.2969\"/><text fill=\"#000000\" font-family=\"sans-serif\" font-size=\"14\" font-weight=\"bold\" lengthAdjust=\"spacingAndGlyphs\" textLength=\"135\" x=\"20\" y=\"20.9951\">DefaultValueTest</text></a><!--MD5=[b4997ac47864f28c2f74865a473b2911]\n",
       "class E2--><a href=\"psysml:e7bf9c65-3f81-4ba3-bb8e-9b75385edfca\" target=\"_top\" title=\"psysml:e7bf9c65-3f81-4ba3-bb8e-9b75385edfca\" xlink:actuate=\"onRequest\" xlink:href=\"psysml:e7bf9c65-3f81-4ba3-bb8e-9b75385edfca\" xlink:show=\"new\" xlink:title=\"psysml:e7bf9c65-3f81-4ba3-bb8e-9b75385edfca\" xlink:type=\"simple\"><rect fill=\"#FFFFFF\" height=\"88.3516\" id=\"E2\" style=\"stroke: #383838; stroke-width: 1.5;\" width=\"106\" x=\"156\" y=\"189\"/><text fill=\"#000000\" font-family=\"sans-serif\" font-size=\"12\" font-style=\"italic\" lengthAdjust=\"spacingAndGlyphs\" textLength=\"64\" x=\"177\" y=\"205.1387\">«part def»</text><text fill=\"#000000\" font-family=\"sans-serif\" font-size=\"12\" lengthAdjust=\"spacingAndGlyphs\" textLength=\"8\" x=\"205\" y=\"219.1074\">V</text><line style=\"stroke: #383838; stroke-width: 1.5;\" x1=\"157\" x2=\"261\" y1=\"226.9375\" y2=\"226.9375\"/><text fill=\"#000000\" font-family=\"sans-serif\" font-size=\"11\" lengthAdjust=\"spacingAndGlyphs\" textLength=\"94\" x=\"162\" y=\"257.9526\">m=default = 10;</text><text fill=\"#000000\" font-family=\"sans-serif\" font-size=\"11\" lengthAdjust=\"spacingAndGlyphs\" textLength=\"38\" x=\"162\" y=\"270.7573\">n= 20;</text><line style=\"stroke: #383838; stroke-width: 1.0;\" x1=\"157\" x2=\"181.5\" y1=\"241.3398\" y2=\"241.3398\"/><text fill=\"#000000\" font-family=\"sans-serif\" font-size=\"11\" lengthAdjust=\"spacingAndGlyphs\" textLength=\"55\" x=\"181.5\" y=\"244.6479\">attributes</text><line style=\"stroke: #383838; stroke-width: 1.0;\" x1=\"236.5\" x2=\"261\" y1=\"241.3398\" y2=\"241.3398\"/></a><!--MD5=[09b614a08d8cba4a07c9adeb5e0fee81]\n",
       "class E3--><a href=\"psysml:f1f60863-7632-47b0-830a-21cb33ae86b3\" target=\"_top\" title=\"psysml:f1f60863-7632-47b0-830a-21cb33ae86b3\" xlink:actuate=\"onRequest\" xlink:href=\"psysml:f1f60863-7632-47b0-830a-21cb33ae86b3\" xlink:show=\"new\" xlink:title=\"psysml:f1f60863-7632-47b0-830a-21cb33ae86b3\" xlink:type=\"simple\"><rect fill=\"#FFFFFF\" height=\"88.3516\" id=\"E3\" rx=\"10\" ry=\"10\" style=\"stroke: #383838; stroke-width: 1.5;\" width=\"63\" x=\"247.5\" y=\"41\"/><text fill=\"#000000\" font-family=\"sans-serif\" font-size=\"12\" font-style=\"italic\" lengthAdjust=\"spacingAndGlyphs\" textLength=\"40\" x=\"259\" y=\"57.1387\">«part»</text><text fill=\"#000000\" font-family=\"sans-serif\" font-size=\"12\" lengthAdjust=\"spacingAndGlyphs\" textLength=\"30\" x=\"264\" y=\"71.1074\">v1: V</text><line style=\"stroke: #383838; stroke-width: 1.5;\" x1=\"248.5\" x2=\"309.5\" y1=\"78.9375\" y2=\"78.9375\"/><text fill=\"#000000\" font-family=\"sans-serif\" font-size=\"11\" lengthAdjust=\"spacingAndGlyphs\" textLength=\"42\" x=\"253.5\" y=\"109.9526\">m= 20;</text><text fill=\"#000000\" font-family=\"sans-serif\" font-size=\"11\" font-style=\"italic\" lengthAdjust=\"spacingAndGlyphs\" textLength=\"48\" x=\"253.5\" y=\"122.7573\">:&gt;&gt;V::m</text><line style=\"stroke: #383838; stroke-width: 1.0;\" x1=\"248.5\" x2=\"251.5\" y1=\"93.3398\" y2=\"93.3398\"/><text fill=\"#000000\" font-family=\"sans-serif\" font-size=\"11\" lengthAdjust=\"spacingAndGlyphs\" textLength=\"55\" x=\"251.5\" y=\"96.6479\">attributes</text><line style=\"stroke: #383838; stroke-width: 1.0;\" x1=\"306.5\" x2=\"309.5\" y1=\"93.3398\" y2=\"93.3398\"/></a><!--MD5=[ebbe1d658d1005bcc118a6aa81145e00]\n",
       "class E4--><a href=\"psysml:92194191-781a-4f9d-991e-568f466dae89\" target=\"_top\" title=\"psysml:92194191-781a-4f9d-991e-568f466dae89\" xlink:actuate=\"onRequest\" xlink:href=\"psysml:92194191-781a-4f9d-991e-568f466dae89\" xlink:show=\"new\" xlink:title=\"psysml:92194191-781a-4f9d-991e-568f466dae89\" xlink:type=\"simple\"><rect fill=\"#FFFFFF\" height=\"88.3516\" id=\"E4\" style=\"stroke: #383838; stroke-width: 1.5;\" width=\"103\" x=\"109.5\" y=\"41\"/><text fill=\"#000000\" font-family=\"sans-serif\" font-size=\"12\" font-style=\"italic\" lengthAdjust=\"spacingAndGlyphs\" textLength=\"64\" x=\"129\" y=\"57.1387\">«part def»</text><text fill=\"#000000\" font-family=\"sans-serif\" font-size=\"12\" lengthAdjust=\"spacingAndGlyphs\" textLength=\"11\" x=\"155.5\" y=\"71.1074\">W</text><line style=\"stroke: #383838; stroke-width: 1.5;\" x1=\"110.5\" x2=\"211.5\" y1=\"78.9375\" y2=\"78.9375\"/><text fill=\"#000000\" font-family=\"sans-serif\" font-size=\"11\" lengthAdjust=\"spacingAndGlyphs\" textLength=\"87\" x=\"115.5\" y=\"109.9526\">m=default = n;</text><text fill=\"#000000\" font-family=\"sans-serif\" font-size=\"11\" font-style=\"italic\" lengthAdjust=\"spacingAndGlyphs\" textLength=\"48\" x=\"115.5\" y=\"122.7573\">:&gt;&gt;V::m</text><line style=\"stroke: #383838; stroke-width: 1.0;\" x1=\"110.5\" x2=\"133.5\" y1=\"93.3398\" y2=\"93.3398\"/><text fill=\"#000000\" font-family=\"sans-serif\" font-size=\"11\" lengthAdjust=\"spacingAndGlyphs\" textLength=\"55\" x=\"133.5\" y=\"96.6479\">attributes</text><line style=\"stroke: #383838; stroke-width: 1.0;\" x1=\"188.5\" x2=\"211.5\" y1=\"93.3398\" y2=\"93.3398\"/></a><!--MD5=[270fce915f116d4de14055a7c1d9a0f3]\n",
       "class E5--><a href=\"psysml:12e8b862-a297-4118-9bc9-39ad14290527\" target=\"_top\" title=\"psysml:12e8b862-a297-4118-9bc9-39ad14290527\" xlink:actuate=\"onRequest\" xlink:href=\"psysml:12e8b862-a297-4118-9bc9-39ad14290527\" xlink:show=\"new\" xlink:title=\"psysml:12e8b862-a297-4118-9bc9-39ad14290527\" xlink:type=\"simple\"><rect fill=\"#FFFFFF\" height=\"45.9375\" id=\"E5\" rx=\"10\" ry=\"10\" style=\"stroke: #383838; stroke-width: 1.5;\" width=\"42\" x=\"32\" y=\"62\"/><text fill=\"#000000\" font-family=\"sans-serif\" font-size=\"12\" font-style=\"italic\" lengthAdjust=\"spacingAndGlyphs\" textLength=\"40\" x=\"33\" y=\"78.1387\">«part»</text><text fill=\"#000000\" font-family=\"sans-serif\" font-size=\"12\" lengthAdjust=\"spacingAndGlyphs\" textLength=\"14\" x=\"46\" y=\"92.1074\">v2</text><line style=\"stroke: #383838; stroke-width: 1.5;\" x1=\"33\" x2=\"73\" y1=\"99.9375\" y2=\"99.9375\"/></a><!--MD5=[05d275557350bfb9b23a4ef7222b4c39]\n",
       "link E3 to E2--><a href=\"psysml:a976bee6-0dca-4565-96d2-a44c4ac1d16a\" target=\"_top\" title=\"psysml:a976bee6-0dca-4565-96d2-a44c4ac1d16a\" xlink:actuate=\"onRequest\" xlink:href=\"psysml:a976bee6-0dca-4565-96d2-a44c4ac1d16a\" xlink:show=\"new\" xlink:title=\"psysml:a976bee6-0dca-4565-96d2-a44c4ac1d16a\" xlink:type=\"simple\"><path d=\"M254.75,129 C254.75,129 254.75,168.91 254.75,168.91 \" fill=\"none\" id=\"E3-&gt;E2\" style=\"stroke: #383838; stroke-width: 1.0;\"/><polygon fill=\"#FFFFFF\" points=\"254.75,188.91,247.75,169.91,261.75,169.91,254.75,188.91\" style=\"stroke: #383838; stroke-width: 1.0;\"/><ellipse cx=\"249.75\" cy=\"164.21\" fill=\"#383838\" rx=\"2\" ry=\"2\" style=\"stroke: #383838; stroke-width: 1.0;\"/><ellipse cx=\"259.75\" cy=\"164.21\" fill=\"#383838\" rx=\"2\" ry=\"2\" style=\"stroke: #383838; stroke-width: 1.0;\"/></a><!--MD5=[185131fc0dcab0a4505a2ebe144e961b]\n",
       "link E4 to E2--><a href=\"psysml:80b8c15c-720d-43cf-a3f3-f1ac8ca72d6e\" target=\"_top\" title=\"psysml:80b8c15c-720d-43cf-a3f3-f1ac8ca72d6e\" xlink:actuate=\"onRequest\" xlink:href=\"psysml:80b8c15c-720d-43cf-a3f3-f1ac8ca72d6e\" xlink:show=\"new\" xlink:title=\"psysml:80b8c15c-720d-43cf-a3f3-f1ac8ca72d6e\" xlink:type=\"simple\"><path d=\"M184.25,129 C184.25,129 184.25,168.91 184.25,168.91 \" fill=\"none\" id=\"E4-&gt;E2\" style=\"stroke: #383838; stroke-width: 1.0;\"/><polygon fill=\"none\" points=\"191.25,168.91,184.25,188.91,177.25,168.91,191.25,168.91\" style=\"stroke: #383838; stroke-width: 1.0;\"/></a><!--MD5=[6662649e6a611378bae13ff352b1eb95]\n",
       "@startuml\r\n",
       "skinparam linetype ortho\r\n",
       "skinparam monochrome true\r\n",
       "skinparam classbackgroundcolor white\r\n",
       "skinparam shadowing false\r\n",
       "skinparam wrapWidth 300\r\n",
       "hide circle\r\n",
       "\r\n",
       "package \"DefaultValueTest\" as E1  [[psysml:e269850e-1dc2-4cd5-af8e-eb4ea9f30c1b ]]  {\r\n",
       "comp def \"V\" as E2  <<(T,blue) part def>> [[psysml:e7bf9c65-3f81-4ba3-bb8e-9b75385edfca ]] {\r\n",
       "- - attributes - -\r\n",
       "m=default = 10; \r\n",
       "n= 20; \r\n",
       "}\r\n",
       "comp usage \"v1: V\" as E3  <<(T,blue) part>> [[psysml:f1f60863-7632-47b0-830a-21cb33ae86b3 ]] {\r\n",
       "- - attributes - -\r\n",
       "m= 20; \\n//:>>V::m// \r\n",
       "}\r\n",
       "comp def \"W\" as E4  <<(T,blue) part def>> [[psysml:92194191-781a-4f9d-991e-568f466dae89 ]] {\r\n",
       "- - attributes - -\r\n",
       "m=default = n; \\n//:>>V::m// \r\n",
       "}\r\n",
       "comp usage \"v2\" as E5  <<(T,blue) part>> [[psysml:12e8b862-a297-4118-9bc9-39ad14290527 ]] {\r\n",
       "}\r\n",
       "E3 - -:|> E2 [[psysml:a976bee6-0dca-4565-96d2-a44c4ac1d16a ]] \r\n",
       "E4 - -|> E2 [[psysml:80b8c15c-720d-43cf-a3f3-f1ac8ca72d6e ]] \r\n",
       "}\r\n",
       "@enduml\r\n",
       "\n",
       "PlantUML version 1.2020.13(Sat Jun 13 12:26:38 UTC 2020)\n",
       "(EPL source distribution)\n",
       "Java Runtime: OpenJDK Runtime Environment\n",
       "JVM: OpenJDK 64-Bit Server VM\n",
       "Default Encoding: UTF-8\n",
       "Language: en\n",
       "Country: null\n",
       "--></g></svg>"
      ]
     },
     "execution_count": 51,
     "metadata": {},
     "output_type": "execute_result"
    }
   ],
   "source": [
    "%viz --style=\"ORTHOLINE\" --view=\"Default\" \"DefaultValueTest\""
   ]
  },
  {
   "cell_type": "code",
   "execution_count": 52,
   "id": "ecb11209",
   "metadata": {
    "execution": {
     "iopub.execute_input": "2021-08-04T06:28:45.668548Z",
     "iopub.status.busy": "2021-08-04T06:28:45.668133Z",
     "iopub.status.idle": "2021-08-04T06:28:45.712473Z",
     "shell.execute_reply": "2021-08-04T06:28:45.711229Z"
    }
   },
   "outputs": [
    {
     "data": {
      "image/svg+xml": [
       "<?xml version=\"1.0\" encoding=\"UTF-8\" standalone=\"no\"?><svg xmlns=\"http://www.w3.org/2000/svg\" xmlns:xlink=\"http://www.w3.org/1999/xlink\" contentScriptType=\"application/ecmascript\" contentStyleType=\"text/css\" height=\"305px\" preserveAspectRatio=\"none\" style=\"width:349px;height:305px;\" version=\"1.1\" viewBox=\"0 0 349 305\" width=\"349px\" zoomAndPan=\"magnify\"><defs/><g><!--MD5=[fbc87193dbaf4d95561dea2c320d4a47]\n",
       "cluster E1--><a href=\"psysml:e269850e-1dc2-4cd5-af8e-eb4ea9f30c1b\" target=\"_top\" title=\"psysml:e269850e-1dc2-4cd5-af8e-eb4ea9f30c1b\" xlink:actuate=\"onRequest\" xlink:href=\"psysml:e269850e-1dc2-4cd5-af8e-eb4ea9f30c1b\" xlink:show=\"new\" xlink:title=\"psysml:e269850e-1dc2-4cd5-af8e-eb4ea9f30c1b\" xlink:type=\"simple\"><polygon fill=\"#FFFFFF\" points=\"16,6,157,6,164,28.2969,327,28.2969,327,293,16,293,16,6\" style=\"stroke: #000000; stroke-width: 1.5;\"/><line style=\"stroke: #000000; stroke-width: 1.5;\" x1=\"16\" x2=\"164\" y1=\"28.2969\" y2=\"28.2969\"/><text fill=\"#000000\" font-family=\"sans-serif\" font-size=\"14\" font-weight=\"bold\" lengthAdjust=\"spacingAndGlyphs\" textLength=\"135\" x=\"20\" y=\"20.9951\">DefaultValueTest</text></a><!--MD5=[b4997ac47864f28c2f74865a473b2911]\n",
       "class E2--><a href=\"psysml:e7bf9c65-3f81-4ba3-bb8e-9b75385edfca\" target=\"_top\" title=\"psysml:e7bf9c65-3f81-4ba3-bb8e-9b75385edfca\" xlink:actuate=\"onRequest\" xlink:href=\"psysml:e7bf9c65-3f81-4ba3-bb8e-9b75385edfca\" xlink:show=\"new\" xlink:title=\"psysml:e7bf9c65-3f81-4ba3-bb8e-9b75385edfca\" xlink:type=\"simple\"><rect fill=\"#FFFFFF\" height=\"88.3516\" id=\"E2\" style=\"stroke: #383838; stroke-width: 1.5;\" width=\"106\" x=\"156\" y=\"189\"/><text fill=\"#000000\" font-family=\"sans-serif\" font-size=\"12\" font-style=\"italic\" lengthAdjust=\"spacingAndGlyphs\" textLength=\"64\" x=\"177\" y=\"205.1387\">«part def»</text><text fill=\"#000000\" font-family=\"sans-serif\" font-size=\"12\" lengthAdjust=\"spacingAndGlyphs\" textLength=\"8\" x=\"205\" y=\"219.1074\">V</text><line style=\"stroke: #383838; stroke-width: 1.5;\" x1=\"157\" x2=\"261\" y1=\"226.9375\" y2=\"226.9375\"/><text fill=\"#000000\" font-family=\"sans-serif\" font-size=\"11\" lengthAdjust=\"spacingAndGlyphs\" textLength=\"94\" x=\"162\" y=\"257.9526\">m=default = 10;</text><text fill=\"#000000\" font-family=\"sans-serif\" font-size=\"11\" lengthAdjust=\"spacingAndGlyphs\" textLength=\"38\" x=\"162\" y=\"270.7573\">n= 20;</text><line style=\"stroke: #383838; stroke-width: 1.0;\" x1=\"157\" x2=\"181.5\" y1=\"241.3398\" y2=\"241.3398\"/><text fill=\"#000000\" font-family=\"sans-serif\" font-size=\"11\" lengthAdjust=\"spacingAndGlyphs\" textLength=\"55\" x=\"181.5\" y=\"244.6479\">attributes</text><line style=\"stroke: #383838; stroke-width: 1.0;\" x1=\"236.5\" x2=\"261\" y1=\"241.3398\" y2=\"241.3398\"/></a><!--MD5=[09b614a08d8cba4a07c9adeb5e0fee81]\n",
       "class E3--><a href=\"psysml:f1f60863-7632-47b0-830a-21cb33ae86b3\" target=\"_top\" title=\"psysml:f1f60863-7632-47b0-830a-21cb33ae86b3\" xlink:actuate=\"onRequest\" xlink:href=\"psysml:f1f60863-7632-47b0-830a-21cb33ae86b3\" xlink:show=\"new\" xlink:title=\"psysml:f1f60863-7632-47b0-830a-21cb33ae86b3\" xlink:type=\"simple\"><rect fill=\"#FFFFFF\" height=\"88.3516\" id=\"E3\" rx=\"10\" ry=\"10\" style=\"stroke: #383838; stroke-width: 1.5;\" width=\"63\" x=\"247.5\" y=\"41\"/><text fill=\"#000000\" font-family=\"sans-serif\" font-size=\"12\" font-style=\"italic\" lengthAdjust=\"spacingAndGlyphs\" textLength=\"40\" x=\"259\" y=\"57.1387\">«part»</text><text fill=\"#000000\" font-family=\"sans-serif\" font-size=\"12\" lengthAdjust=\"spacingAndGlyphs\" textLength=\"30\" x=\"264\" y=\"71.1074\">v1: V</text><line style=\"stroke: #383838; stroke-width: 1.5;\" x1=\"248.5\" x2=\"309.5\" y1=\"78.9375\" y2=\"78.9375\"/><text fill=\"#000000\" font-family=\"sans-serif\" font-size=\"11\" lengthAdjust=\"spacingAndGlyphs\" textLength=\"42\" x=\"253.5\" y=\"109.9526\">m= 20;</text><text fill=\"#000000\" font-family=\"sans-serif\" font-size=\"11\" font-style=\"italic\" lengthAdjust=\"spacingAndGlyphs\" textLength=\"48\" x=\"253.5\" y=\"122.7573\">:&gt;&gt;V::m</text><line style=\"stroke: #383838; stroke-width: 1.0;\" x1=\"248.5\" x2=\"251.5\" y1=\"93.3398\" y2=\"93.3398\"/><text fill=\"#000000\" font-family=\"sans-serif\" font-size=\"11\" lengthAdjust=\"spacingAndGlyphs\" textLength=\"55\" x=\"251.5\" y=\"96.6479\">attributes</text><line style=\"stroke: #383838; stroke-width: 1.0;\" x1=\"306.5\" x2=\"309.5\" y1=\"93.3398\" y2=\"93.3398\"/></a><!--MD5=[ebbe1d658d1005bcc118a6aa81145e00]\n",
       "class E4--><a href=\"psysml:92194191-781a-4f9d-991e-568f466dae89\" target=\"_top\" title=\"psysml:92194191-781a-4f9d-991e-568f466dae89\" xlink:actuate=\"onRequest\" xlink:href=\"psysml:92194191-781a-4f9d-991e-568f466dae89\" xlink:show=\"new\" xlink:title=\"psysml:92194191-781a-4f9d-991e-568f466dae89\" xlink:type=\"simple\"><rect fill=\"#FFFFFF\" height=\"88.3516\" id=\"E4\" style=\"stroke: #383838; stroke-width: 1.5;\" width=\"103\" x=\"109.5\" y=\"41\"/><text fill=\"#000000\" font-family=\"sans-serif\" font-size=\"12\" font-style=\"italic\" lengthAdjust=\"spacingAndGlyphs\" textLength=\"64\" x=\"129\" y=\"57.1387\">«part def»</text><text fill=\"#000000\" font-family=\"sans-serif\" font-size=\"12\" lengthAdjust=\"spacingAndGlyphs\" textLength=\"11\" x=\"155.5\" y=\"71.1074\">W</text><line style=\"stroke: #383838; stroke-width: 1.5;\" x1=\"110.5\" x2=\"211.5\" y1=\"78.9375\" y2=\"78.9375\"/><text fill=\"#000000\" font-family=\"sans-serif\" font-size=\"11\" lengthAdjust=\"spacingAndGlyphs\" textLength=\"87\" x=\"115.5\" y=\"109.9526\">m=default = n;</text><text fill=\"#000000\" font-family=\"sans-serif\" font-size=\"11\" font-style=\"italic\" lengthAdjust=\"spacingAndGlyphs\" textLength=\"48\" x=\"115.5\" y=\"122.7573\">:&gt;&gt;V::m</text><line style=\"stroke: #383838; stroke-width: 1.0;\" x1=\"110.5\" x2=\"133.5\" y1=\"93.3398\" y2=\"93.3398\"/><text fill=\"#000000\" font-family=\"sans-serif\" font-size=\"11\" lengthAdjust=\"spacingAndGlyphs\" textLength=\"55\" x=\"133.5\" y=\"96.6479\">attributes</text><line style=\"stroke: #383838; stroke-width: 1.0;\" x1=\"188.5\" x2=\"211.5\" y1=\"93.3398\" y2=\"93.3398\"/></a><!--MD5=[270fce915f116d4de14055a7c1d9a0f3]\n",
       "class E5--><a href=\"psysml:12e8b862-a297-4118-9bc9-39ad14290527\" target=\"_top\" title=\"psysml:12e8b862-a297-4118-9bc9-39ad14290527\" xlink:actuate=\"onRequest\" xlink:href=\"psysml:12e8b862-a297-4118-9bc9-39ad14290527\" xlink:show=\"new\" xlink:title=\"psysml:12e8b862-a297-4118-9bc9-39ad14290527\" xlink:type=\"simple\"><rect fill=\"#FFFFFF\" height=\"45.9375\" id=\"E5\" rx=\"10\" ry=\"10\" style=\"stroke: #383838; stroke-width: 1.5;\" width=\"42\" x=\"32\" y=\"62\"/><text fill=\"#000000\" font-family=\"sans-serif\" font-size=\"12\" font-style=\"italic\" lengthAdjust=\"spacingAndGlyphs\" textLength=\"40\" x=\"33\" y=\"78.1387\">«part»</text><text fill=\"#000000\" font-family=\"sans-serif\" font-size=\"12\" lengthAdjust=\"spacingAndGlyphs\" textLength=\"14\" x=\"46\" y=\"92.1074\">v2</text><line style=\"stroke: #383838; stroke-width: 1.5;\" x1=\"33\" x2=\"73\" y1=\"99.9375\" y2=\"99.9375\"/></a><!--MD5=[05d275557350bfb9b23a4ef7222b4c39]\n",
       "link E3 to E2--><a href=\"psysml:a976bee6-0dca-4565-96d2-a44c4ac1d16a\" target=\"_top\" title=\"psysml:a976bee6-0dca-4565-96d2-a44c4ac1d16a\" xlink:actuate=\"onRequest\" xlink:href=\"psysml:a976bee6-0dca-4565-96d2-a44c4ac1d16a\" xlink:show=\"new\" xlink:title=\"psysml:a976bee6-0dca-4565-96d2-a44c4ac1d16a\" xlink:type=\"simple\"><path d=\"M254.75,129 C254.75,129 254.75,168.91 254.75,168.91 \" fill=\"none\" id=\"E3-&gt;E2\" style=\"stroke: #383838; stroke-width: 1.0;\"/><polygon fill=\"#FFFFFF\" points=\"254.75,188.91,247.75,169.91,261.75,169.91,254.75,188.91\" style=\"stroke: #383838; stroke-width: 1.0;\"/><ellipse cx=\"249.75\" cy=\"164.21\" fill=\"#383838\" rx=\"2\" ry=\"2\" style=\"stroke: #383838; stroke-width: 1.0;\"/><ellipse cx=\"259.75\" cy=\"164.21\" fill=\"#383838\" rx=\"2\" ry=\"2\" style=\"stroke: #383838; stroke-width: 1.0;\"/></a><!--MD5=[185131fc0dcab0a4505a2ebe144e961b]\n",
       "link E4 to E2--><a href=\"psysml:80b8c15c-720d-43cf-a3f3-f1ac8ca72d6e\" target=\"_top\" title=\"psysml:80b8c15c-720d-43cf-a3f3-f1ac8ca72d6e\" xlink:actuate=\"onRequest\" xlink:href=\"psysml:80b8c15c-720d-43cf-a3f3-f1ac8ca72d6e\" xlink:show=\"new\" xlink:title=\"psysml:80b8c15c-720d-43cf-a3f3-f1ac8ca72d6e\" xlink:type=\"simple\"><path d=\"M184.25,129 C184.25,129 184.25,168.91 184.25,168.91 \" fill=\"none\" id=\"E4-&gt;E2\" style=\"stroke: #383838; stroke-width: 1.0;\"/><polygon fill=\"none\" points=\"191.25,168.91,184.25,188.91,177.25,168.91,191.25,168.91\" style=\"stroke: #383838; stroke-width: 1.0;\"/></a><!--MD5=[6662649e6a611378bae13ff352b1eb95]\n",
       "@startuml\r\n",
       "skinparam linetype ortho\r\n",
       "skinparam monochrome true\r\n",
       "skinparam classbackgroundcolor white\r\n",
       "skinparam shadowing false\r\n",
       "skinparam wrapWidth 300\r\n",
       "hide circle\r\n",
       "\r\n",
       "package \"DefaultValueTest\" as E1  [[psysml:e269850e-1dc2-4cd5-af8e-eb4ea9f30c1b ]]  {\r\n",
       "comp def \"V\" as E2  <<(T,blue) part def>> [[psysml:e7bf9c65-3f81-4ba3-bb8e-9b75385edfca ]] {\r\n",
       "- - attributes - -\r\n",
       "m=default = 10; \r\n",
       "n= 20; \r\n",
       "}\r\n",
       "comp usage \"v1: V\" as E3  <<(T,blue) part>> [[psysml:f1f60863-7632-47b0-830a-21cb33ae86b3 ]] {\r\n",
       "- - attributes - -\r\n",
       "m= 20; \\n//:>>V::m// \r\n",
       "}\r\n",
       "comp def \"W\" as E4  <<(T,blue) part def>> [[psysml:92194191-781a-4f9d-991e-568f466dae89 ]] {\r\n",
       "- - attributes - -\r\n",
       "m=default = n; \\n//:>>V::m// \r\n",
       "}\r\n",
       "comp usage \"v2\" as E5  <<(T,blue) part>> [[psysml:12e8b862-a297-4118-9bc9-39ad14290527 ]] {\r\n",
       "}\r\n",
       "E3 - -:|> E2 [[psysml:a976bee6-0dca-4565-96d2-a44c4ac1d16a ]] \r\n",
       "E4 - -|> E2 [[psysml:80b8c15c-720d-43cf-a3f3-f1ac8ca72d6e ]] \r\n",
       "}\r\n",
       "@enduml\r\n",
       "\n",
       "PlantUML version 1.2020.13(Sat Jun 13 12:26:38 UTC 2020)\n",
       "(EPL source distribution)\n",
       "Java Runtime: OpenJDK Runtime Environment\n",
       "JVM: OpenJDK 64-Bit Server VM\n",
       "Default Encoding: UTF-8\n",
       "Language: en\n",
       "Country: null\n",
       "--></g></svg>"
      ]
     },
     "execution_count": 52,
     "metadata": {},
     "output_type": "execute_result"
    }
   ],
   "source": [
    "%viz --style=\"ORTHOLINE\" --view=\"Tree\" \"DefaultValueTest\""
   ]
  },
  {
   "cell_type": "code",
   "execution_count": 53,
   "id": "ae06802c",
   "metadata": {
    "execution": {
     "iopub.execute_input": "2021-08-04T06:28:45.761856Z",
     "iopub.status.busy": "2021-08-04T06:28:45.761472Z",
     "iopub.status.idle": "2021-08-04T06:28:45.764753Z",
     "shell.execute_reply": "2021-08-04T06:28:45.764392Z"
    }
   },
   "outputs": [
    {
     "data": {
      "image/svg+xml": [
       "<?xml version=\"1.0\" encoding=\"UTF-8\" standalone=\"no\"?><svg xmlns=\"http://www.w3.org/2000/svg\" xmlns:xlink=\"http://www.w3.org/1999/xlink\" contentScriptType=\"application/ecmascript\" contentStyleType=\"text/css\" height=\"12px\" preserveAspectRatio=\"none\" style=\"width:12px;height:12px;\" version=\"1.1\" viewBox=\"0 0 12 12\" width=\"12px\" zoomAndPan=\"magnify\"><defs/><g><!--MD5=[97d6f38768b311333d388e66b2b27985]\n",
       "@startuml\r\n",
       "skinparam linetype ortho\r\n",
       "skinparam monochrome true\r\n",
       "skinparam classbackgroundcolor white\r\n",
       "skinparam shadowing false\r\n",
       "skinparam wrapWidth 300\r\n",
       "hide circle\r\n",
       "\r\n",
       "@enduml\r\n",
       "\n",
       "PlantUML version 1.2020.13(Sat Jun 13 12:26:38 UTC 2020)\n",
       "(EPL source distribution)\n",
       "Java Runtime: OpenJDK Runtime Environment\n",
       "JVM: OpenJDK 64-Bit Server VM\n",
       "Default Encoding: UTF-8\n",
       "Language: en\n",
       "Country: null\n",
       "--></g></svg>"
      ]
     },
     "execution_count": 53,
     "metadata": {},
     "output_type": "execute_result"
    }
   ],
   "source": [
    "%viz --style=\"ORTHOLINE\" --view=\"State\" \"DefaultValueTest\""
   ]
  },
  {
   "cell_type": "code",
   "execution_count": 54,
   "id": "b240f8ea",
   "metadata": {
    "execution": {
     "iopub.execute_input": "2021-08-04T06:28:45.814631Z",
     "iopub.status.busy": "2021-08-04T06:28:45.814176Z",
     "iopub.status.idle": "2021-08-04T06:28:45.842217Z",
     "shell.execute_reply": "2021-08-04T06:28:45.841859Z"
    }
   },
   "outputs": [
    {
     "data": {
      "image/svg+xml": [
       "<?xml version=\"1.0\" encoding=\"UTF-8\" standalone=\"no\"?><svg xmlns=\"http://www.w3.org/2000/svg\" xmlns:xlink=\"http://www.w3.org/1999/xlink\" contentScriptType=\"application/ecmascript\" contentStyleType=\"text/css\" height=\"399px\" preserveAspectRatio=\"none\" style=\"width:448px;height:399px;\" version=\"1.1\" viewBox=\"0 0 448 399\" width=\"448px\" zoomAndPan=\"magnify\"><defs/><g><!--MD5=[fbc87193dbaf4d95561dea2c320d4a47]\n",
       "cluster E1--><a href=\"psysml:e269850e-1dc2-4cd5-af8e-eb4ea9f30c1b\" target=\"_top\" title=\"psysml:e269850e-1dc2-4cd5-af8e-eb4ea9f30c1b\" xlink:actuate=\"onRequest\" xlink:href=\"psysml:e269850e-1dc2-4cd5-af8e-eb4ea9f30c1b\" xlink:show=\"new\" xlink:title=\"psysml:e269850e-1dc2-4cd5-af8e-eb4ea9f30c1b\" xlink:type=\"simple\"><polygon fill=\"#FFFFFF\" points=\"16,6,157,6,164,28.2969,426,28.2969,426,387,16,387,16,6\" style=\"stroke: #000000; stroke-width: 1.5;\"/><line style=\"stroke: #000000; stroke-width: 1.5;\" x1=\"16\" x2=\"164\" y1=\"28.2969\" y2=\"28.2969\"/><text fill=\"#000000\" font-family=\"sans-serif\" font-size=\"14\" font-weight=\"bold\" lengthAdjust=\"spacingAndGlyphs\" textLength=\"135\" x=\"20\" y=\"20.9951\">DefaultValueTest</text></a><!--MD5=[e4f7fae6ed58524ba242bb0b0d3be6b7]\n",
       "cluster E2--><a href=\"psysml:e7bf9c65-3f81-4ba3-bb8e-9b75385edfca\" target=\"_top\" title=\"psysml:e7bf9c65-3f81-4ba3-bb8e-9b75385edfca\" xlink:actuate=\"onRequest\" xlink:href=\"psysml:e7bf9c65-3f81-4ba3-bb8e-9b75385edfca\" xlink:show=\"new\" xlink:title=\"psysml:e7bf9c65-3f81-4ba3-bb8e-9b75385edfca\" xlink:type=\"simple\"><rect fill=\"#FFFFFF\" height=\"129\" id=\"E2\" style=\"stroke: #383838; stroke-width: 1.5;\" width=\"245\" x=\"127\" y=\"226\"/><rect fill=\"#F8F8F8\" height=\"37.9375\" style=\"stroke: #383838; stroke-width: 1.5;\" width=\"245\" x=\"127\" y=\"226\"/><text fill=\"#000000\" font-family=\"sans-serif\" font-size=\"12\" font-style=\"italic\" lengthAdjust=\"spacingAndGlyphs\" textLength=\"64\" x=\"217.5\" y=\"242.1387\">«part def»</text><text fill=\"#000000\" font-family=\"sans-serif\" font-size=\"12\" lengthAdjust=\"spacingAndGlyphs\" textLength=\"8\" x=\"245.5\" y=\"256.1074\">V</text></a><!--MD5=[de5ec2e2e8f62f467e546659f5068c88]\n",
       "cluster E5--><a href=\"psysml:f1f60863-7632-47b0-830a-21cb33ae86b3\" target=\"_top\" title=\"psysml:f1f60863-7632-47b0-830a-21cb33ae86b3\" xlink:actuate=\"onRequest\" xlink:href=\"psysml:f1f60863-7632-47b0-830a-21cb33ae86b3\" xlink:show=\"new\" xlink:title=\"psysml:f1f60863-7632-47b0-830a-21cb33ae86b3\" xlink:type=\"simple\"><rect fill=\"#FFFFFF\" height=\"97\" id=\"E5\" rx=\"10\" ry=\"10\" style=\"stroke: #383838; stroke-width: 1.5;\" width=\"104\" x=\"298\" y=\"81\"/><rect fill=\"#F8F8F8\" height=\"23.9688\" rx=\"10\" ry=\"10\" style=\"stroke: #F8F8F8; stroke-width: 1.5;\" width=\"104\" x=\"298\" y=\"81\"/><rect fill=\"#F8F8F8\" height=\"10\" style=\"stroke: #F8F8F8; stroke-width: 1.5;\" width=\"104\" x=\"298\" y=\"94.9688\"/><rect fill=\"none\" height=\"97\" id=\"E5\" rx=\"10\" ry=\"10\" style=\"stroke: #383838; stroke-width: 1.5;\" width=\"104\" x=\"298\" y=\"81\"/><text fill=\"#000000\" font-family=\"sans-serif\" font-size=\"12\" lengthAdjust=\"spacingAndGlyphs\" textLength=\"30\" x=\"335\" y=\"97.1387\">v1: V</text><line style=\"stroke: #383838; stroke-width: 1.0;\" x1=\"298\" x2=\"402\" y1=\"104.9688\" y2=\"104.9688\"/></a><!--MD5=[168fadf3d0c3fd93dd5d6da1b1d7ab76]\n",
       "cluster E7--><a href=\"psysml:92194191-781a-4f9d-991e-568f466dae89\" target=\"_top\" title=\"psysml:92194191-781a-4f9d-991e-568f466dae89\" xlink:actuate=\"onRequest\" xlink:href=\"psysml:92194191-781a-4f9d-991e-568f466dae89\" xlink:show=\"new\" xlink:title=\"psysml:92194191-781a-4f9d-991e-568f466dae89\" xlink:type=\"simple\"><rect fill=\"#FFFFFF\" height=\"129\" id=\"E7\" style=\"stroke: #383838; stroke-width: 1.5;\" width=\"139\" x=\"127\" y=\"57\"/><rect fill=\"#F8F8F8\" height=\"37.9375\" style=\"stroke: #383838; stroke-width: 1.5;\" width=\"139\" x=\"127\" y=\"57\"/><text fill=\"#000000\" font-family=\"sans-serif\" font-size=\"12\" font-style=\"italic\" lengthAdjust=\"spacingAndGlyphs\" textLength=\"64\" x=\"164.5\" y=\"73.1387\">«part def»</text><text fill=\"#000000\" font-family=\"sans-serif\" font-size=\"12\" lengthAdjust=\"spacingAndGlyphs\" textLength=\"11\" x=\"191\" y=\"87.1074\">W</text></a><!--MD5=[09b614a08d8cba4a07c9adeb5e0fee81]\n",
       "class E3--><a href=\"psysml:a2ea0978-930d-4f5d-93d2-d64a4094d2a2\" target=\"_top\" title=\"psysml:a2ea0978-930d-4f5d-93d2-d64a4094d2a2\" xlink:actuate=\"onRequest\" xlink:href=\"psysml:a2ea0978-930d-4f5d-93d2-d64a4094d2a2\" xlink:show=\"new\" xlink:title=\"psysml:a2ea0978-930d-4f5d-93d2-d64a4094d2a2\" xlink:type=\"simple\"><rect fill=\"#FFFFFF\" height=\"45.9375\" id=\"E3\" rx=\"10\" ry=\"10\" style=\"stroke: #383838; stroke-width: 1.5;\" width=\"71\" x=\"276.5\" y=\"285\"/><text fill=\"#000000\" font-family=\"sans-serif\" font-size=\"12\" font-style=\"italic\" lengthAdjust=\"spacingAndGlyphs\" textLength=\"69\" x=\"277.5\" y=\"301.1387\">«attribute»</text><text fill=\"#000000\" font-family=\"sans-serif\" font-size=\"12\" lengthAdjust=\"spacingAndGlyphs\" textLength=\"11\" x=\"306.5\" y=\"315.1074\">m</text><line style=\"stroke: #383838; stroke-width: 1.5;\" x1=\"277.5\" x2=\"346.5\" y1=\"322.9375\" y2=\"322.9375\"/></a><!--MD5=[ebbe1d658d1005bcc118a6aa81145e00]\n",
       "class E4--><a href=\"psysml:d2e7553d-8e48-4fb7-896c-b23e6ced71f4\" target=\"_top\" title=\"psysml:d2e7553d-8e48-4fb7-896c-b23e6ced71f4\" xlink:actuate=\"onRequest\" xlink:href=\"psysml:d2e7553d-8e48-4fb7-896c-b23e6ced71f4\" xlink:show=\"new\" xlink:title=\"psysml:d2e7553d-8e48-4fb7-896c-b23e6ced71f4\" xlink:type=\"simple\"><rect fill=\"#FFFFFF\" height=\"45.9375\" id=\"E4\" rx=\"10\" ry=\"10\" style=\"stroke: #383838; stroke-width: 1.5;\" width=\"71\" x=\"170.5\" y=\"285\"/><text fill=\"#000000\" font-family=\"sans-serif\" font-size=\"12\" font-style=\"italic\" lengthAdjust=\"spacingAndGlyphs\" textLength=\"69\" x=\"171.5\" y=\"301.1387\">«attribute»</text><text fill=\"#000000\" font-family=\"sans-serif\" font-size=\"12\" lengthAdjust=\"spacingAndGlyphs\" textLength=\"8\" x=\"202\" y=\"315.1074\">n</text><line style=\"stroke: #383838; stroke-width: 1.5;\" x1=\"171.5\" x2=\"240.5\" y1=\"322.9375\" y2=\"322.9375\"/></a><!--MD5=[60a26617385b1d2d0262a64233df1f8d]\n",
       "class E6--><a href=\"psysml:851c4b2c-147d-4a79-885c-670825576d73\" target=\"_top\" title=\"psysml:851c4b2c-147d-4a79-885c-670825576d73\" xlink:actuate=\"onRequest\" xlink:href=\"psysml:851c4b2c-147d-4a79-885c-670825576d73\" xlink:show=\"new\" xlink:title=\"psysml:851c4b2c-147d-4a79-885c-670825576d73\" xlink:type=\"simple\"><rect fill=\"#FFFFFF\" height=\"45.9375\" id=\"E6\" rx=\"10\" ry=\"10\" style=\"stroke: #383838; stroke-width: 1.5;\" width=\"71\" x=\"314.5\" y=\"116\"/><text fill=\"#000000\" font-family=\"sans-serif\" font-size=\"12\" font-style=\"italic\" lengthAdjust=\"spacingAndGlyphs\" textLength=\"69\" x=\"315.5\" y=\"132.1387\">«attribute»</text><text fill=\"#000000\" font-family=\"sans-serif\" font-size=\"12\" lengthAdjust=\"spacingAndGlyphs\" textLength=\"11\" x=\"344.5\" y=\"146.1074\">m</text><line style=\"stroke: #383838; stroke-width: 1.5;\" x1=\"315.5\" x2=\"384.5\" y1=\"153.9375\" y2=\"153.9375\"/></a><!--MD5=[b9389687b975829384b498ac4b7476b2]\n",
       "class E8--><a href=\"psysml:82127d9e-4a29-4ac4-9705-0043f6777b4c\" target=\"_top\" title=\"psysml:82127d9e-4a29-4ac4-9705-0043f6777b4c\" xlink:actuate=\"onRequest\" xlink:href=\"psysml:82127d9e-4a29-4ac4-9705-0043f6777b4c\" xlink:show=\"new\" xlink:title=\"psysml:82127d9e-4a29-4ac4-9705-0043f6777b4c\" xlink:type=\"simple\"><rect fill=\"#FFFFFF\" height=\"45.9375\" id=\"E8\" rx=\"10\" ry=\"10\" style=\"stroke: #383838; stroke-width: 1.5;\" width=\"71\" x=\"170.5\" y=\"116\"/><text fill=\"#000000\" font-family=\"sans-serif\" font-size=\"12\" font-style=\"italic\" lengthAdjust=\"spacingAndGlyphs\" textLength=\"69\" x=\"171.5\" y=\"132.1387\">«attribute»</text><text fill=\"#000000\" font-family=\"sans-serif\" font-size=\"12\" lengthAdjust=\"spacingAndGlyphs\" textLength=\"11\" x=\"200.5\" y=\"146.1074\">m</text><line style=\"stroke: #383838; stroke-width: 1.5;\" x1=\"171.5\" x2=\"240.5\" y1=\"153.9375\" y2=\"153.9375\"/></a><g id=\"E1.E9\"><a href=\"psysml:12e8b862-a297-4118-9bc9-39ad14290527\" target=\"_top\" title=\"psysml:12e8b862-a297-4118-9bc9-39ad14290527\" xlink:actuate=\"onRequest\" xlink:href=\"psysml:12e8b862-a297-4118-9bc9-39ad14290527\" xlink:show=\"new\" xlink:title=\"psysml:12e8b862-a297-4118-9bc9-39ad14290527\" xlink:type=\"simple\"><rect fill=\"#FFFFFF\" height=\"40\" id=\"E9\" rx=\"10\" ry=\"10\" style=\"stroke: #383838; stroke-width: 1.5;\" width=\"68\" x=\"32\" y=\"119\"/><rect fill=\"#F8F8F8\" height=\"23.9688\" rx=\"10\" ry=\"10\" style=\"stroke: #F8F8F8; stroke-width: 1.5;\" width=\"68\" x=\"32\" y=\"119\"/><rect fill=\"#F8F8F8\" height=\"10\" style=\"stroke: #F8F8F8; stroke-width: 1.5;\" width=\"68\" x=\"32\" y=\"132.9688\"/><rect fill=\"none\" height=\"40\" id=\"E9\" rx=\"10\" ry=\"10\" style=\"stroke: #383838; stroke-width: 1.5;\" width=\"68\" x=\"32\" y=\"119\"/><text fill=\"#000000\" font-family=\"sans-serif\" font-size=\"12\" lengthAdjust=\"spacingAndGlyphs\" textLength=\"53\" x=\"37.5\" y=\"135.1387\">v2= W();</text></a></g><!--MD5=[a717450b82c80b9240a525fa862496af]\n",
       "link E6 to E3--><a href=\"psysml:03eebbd2-05f0-47bc-92f0-0649c0e2f845\" target=\"_top\" title=\"psysml:03eebbd2-05f0-47bc-92f0-0649c0e2f845\" xlink:actuate=\"onRequest\" xlink:href=\"psysml:03eebbd2-05f0-47bc-92f0-0649c0e2f845\" xlink:show=\"new\" xlink:title=\"psysml:03eebbd2-05f0-47bc-92f0-0649c0e2f845\" xlink:type=\"simple\"><path d=\"M331,162.14 C331,162.14 331,264.86 331,264.86 \" fill=\"none\" id=\"E6-&gt;E3\" style=\"stroke: #383838; stroke-width: 1.0;\"/><polygon fill=\"#FFFFFF\" points=\"331,284.86,324,265.86,338,265.86,331,284.86\" style=\"stroke: #383838; stroke-width: 1.0;\"/><line style=\"stroke: #383838; stroke-width: 2.0;\" x1=\"324\" x2=\"338\" y1=\"262.06\" y2=\"262.06\"/></a><!--MD5=[583832df87f4419a098336a29a52fa00]\n",
       "link E7 to E2--><a href=\"psysml:80b8c15c-720d-43cf-a3f3-f1ac8ca72d6e\" target=\"_top\" title=\"psysml:80b8c15c-720d-43cf-a3f3-f1ac8ca72d6e\" xlink:actuate=\"onRequest\" xlink:href=\"psysml:80b8c15c-720d-43cf-a3f3-f1ac8ca72d6e\" xlink:show=\"new\" xlink:title=\"psysml:80b8c15c-720d-43cf-a3f3-f1ac8ca72d6e\" xlink:type=\"simple\"><path d=\"M135,186.6574 C135,186.9394 135,187.222 135,187.5053 C135,189.7718 135,192.0807 135,194.4236 C135,203.7952 135,213.71 135,223.6225 C135,224.242 135,224.8616 135,225.4809 C135,225.6358 135,225.7906 135,225.9454 \" fill=\"none\" id=\"E7-&gt;E2\" style=\"stroke: #383838; stroke-width: 1.0;\"/><polygon fill=\"#FFFFFF\" points=\"135,225.9454,142,206.9454,128,206.9454,135,225.9454\" style=\"stroke: #383838; stroke-width: 1.0;\"/></a><!--MD5=[95fa686b5a16158bcdbcaeead89f639b]\n",
       "link E8 to E3--><a href=\"psysml:5971ddfa-8dbb-4825-a025-1d0848bb696d\" target=\"_top\" title=\"psysml:5971ddfa-8dbb-4825-a025-1d0848bb696d\" xlink:actuate=\"onRequest\" xlink:href=\"psysml:5971ddfa-8dbb-4825-a025-1d0848bb696d\" xlink:show=\"new\" xlink:title=\"psysml:5971ddfa-8dbb-4825-a025-1d0848bb696d\" xlink:type=\"simple\"><path d=\"M241.63,139 C266.59,139 295.5,139 295.5,139 C295.5,139 295.5,264.86 295.5,264.86 \" fill=\"none\" id=\"E8-&gt;E3\" style=\"stroke: #383838; stroke-width: 1.0;\"/><polygon fill=\"#FFFFFF\" points=\"295.5,284.86,288.5,265.86,302.5,265.86,295.5,284.86\" style=\"stroke: #383838; stroke-width: 1.0;\"/><line style=\"stroke: #383838; stroke-width: 2.0;\" x1=\"288.5\" x2=\"302.5\" y1=\"262.06\" y2=\"262.06\"/></a><!--MD5=[ab2602494a2bdb632ecb01c210243683]\n",
       "@startuml\r\n",
       "skinparam ranksep 10\r\n",
       "skinparam rectangle {\r\n",
       " backgroundColor<<block>> LightGreen\r\n",
       "}\r\n",
       "skinparam linetype ortho\r\n",
       "skinparam monochrome true\r\n",
       "skinparam classbackgroundcolor white\r\n",
       "skinparam shadowing false\r\n",
       "skinparam wrapWidth 300\r\n",
       "hide circle\r\n",
       "\r\n",
       "package \"DefaultValueTest\" as E1  [[psysml:e269850e-1dc2-4cd5-af8e-eb4ea9f30c1b ]]  {\r\n",
       "rec def \"V\" as E2  <<(T,blue) part def>> [[psysml:e7bf9c65-3f81-4ba3-bb8e-9b75385edfca ]] {\r\n",
       "comp usage \"m\" as E3  <<(T,blue) attribute>> [[psysml:a2ea0978-930d-4f5d-93d2-d64a4094d2a2 ]] {\r\n",
       "}\r\n",
       "comp usage \"n\" as E4  <<(T,blue) attribute>> [[psysml:d2e7553d-8e48-4fb7-896c-b23e6ced71f4 ]] {\r\n",
       "}\r\n",
       "}\r\n",
       "rec usage \"v1: V\" as E5  [[psysml:f1f60863-7632-47b0-830a-21cb33ae86b3 ]] {\r\n",
       "comp usage \"m\" as E6  <<(T,blue) attribute>> [[psysml:851c4b2c-147d-4a79-885c-670825576d73 ]] {\r\n",
       "}\r\n",
       "}\r\n",
       "rec def \"W\" as E7  <<(T,blue) part def>> [[psysml:92194191-781a-4f9d-991e-568f466dae89 ]] {\r\n",
       "comp usage \"m\" as E8  <<(T,blue) attribute>> [[psysml:82127d9e-4a29-4ac4-9705-0043f6777b4c ]] {\r\n",
       "}\r\n",
       "}\r\n",
       "rec usage \"v2= W(); \" as E9  [[psysml:12e8b862-a297-4118-9bc9-39ad14290527 ]] {\r\n",
       "}\r\n",
       "E6 - -||> E3 [[psysml:03eebbd2-05f0-47bc-92f0-0649c0e2f845 ]] \r\n",
       "E7 - -|> E2 [[psysml:80b8c15c-720d-43cf-a3f3-f1ac8ca72d6e ]] \r\n",
       "E8 - -||> E3 [[psysml:5971ddfa-8dbb-4825-a025-1d0848bb696d ]] \r\n",
       "}\r\n",
       "@enduml\r\n",
       "\n",
       "PlantUML version 1.2020.13(Sat Jun 13 12:26:38 UTC 2020)\n",
       "(EPL source distribution)\n",
       "Java Runtime: OpenJDK Runtime Environment\n",
       "JVM: OpenJDK 64-Bit Server VM\n",
       "Default Encoding: UTF-8\n",
       "Language: en\n",
       "Country: null\n",
       "--></g></svg>"
      ]
     },
     "execution_count": 54,
     "metadata": {},
     "output_type": "execute_result"
    }
   ],
   "source": [
    "%viz --style=\"ORTHOLINE\" --view=\"Interconnection\" \"DefaultValueTest\""
   ]
  },
  {
   "cell_type": "code",
   "execution_count": 55,
   "id": "48ba1370",
   "metadata": {
    "execution": {
     "iopub.execute_input": "2021-08-04T06:28:45.891861Z",
     "iopub.status.busy": "2021-08-04T06:28:45.891403Z",
     "iopub.status.idle": "2021-08-04T06:28:45.896787Z",
     "shell.execute_reply": "2021-08-04T06:28:45.897083Z"
    }
   },
   "outputs": [
    {
     "data": {
      "image/svg+xml": [
       "<?xml version=\"1.0\" encoding=\"UTF-8\" standalone=\"no\"?><svg xmlns=\"http://www.w3.org/2000/svg\" xmlns:xlink=\"http://www.w3.org/1999/xlink\" contentScriptType=\"application/ecmascript\" contentStyleType=\"text/css\" height=\"12px\" preserveAspectRatio=\"none\" style=\"width:12px;height:12px;\" version=\"1.1\" viewBox=\"0 0 12 12\" width=\"12px\" zoomAndPan=\"magnify\"><defs/><g><!--MD5=[72934c63077099a26744516a776b4749]\n",
       "@startuml\r\n",
       "skinparam ranksep 8\r\n",
       "skinparam linetype ortho\r\n",
       "skinparam monochrome true\r\n",
       "skinparam classbackgroundcolor white\r\n",
       "skinparam shadowing false\r\n",
       "skinparam wrapWidth 300\r\n",
       "hide circle\r\n",
       "\r\n",
       "@enduml\r\n",
       "\n",
       "PlantUML version 1.2020.13(Sat Jun 13 12:26:38 UTC 2020)\n",
       "(EPL source distribution)\n",
       "Java Runtime: OpenJDK Runtime Environment\n",
       "JVM: OpenJDK 64-Bit Server VM\n",
       "Default Encoding: UTF-8\n",
       "Language: en\n",
       "Country: null\n",
       "--></g></svg>"
      ]
     },
     "execution_count": 55,
     "metadata": {},
     "output_type": "execute_result"
    }
   ],
   "source": [
    "%viz --style=\"ORTHOLINE\" --view=\"Action\" \"DefaultValueTest\""
   ]
  },
  {
   "cell_type": "code",
   "execution_count": 56,
   "id": "07e789d7",
   "metadata": {
    "execution": {
     "iopub.execute_input": "2021-08-04T06:28:45.946413Z",
     "iopub.status.busy": "2021-08-04T06:28:45.946012Z",
     "iopub.status.idle": "2021-08-04T06:28:46.021239Z",
     "shell.execute_reply": "2021-08-04T06:28:46.019805Z"
    }
   },
   "outputs": [
    {
     "data": {
      "image/svg+xml": [
       "<?xml version=\"1.0\" encoding=\"UTF-8\" standalone=\"no\"?><svg xmlns=\"http://www.w3.org/2000/svg\" xmlns:xlink=\"http://www.w3.org/1999/xlink\" contentScriptType=\"application/ecmascript\" contentStyleType=\"text/css\" height=\"305px\" preserveAspectRatio=\"none\" style=\"width:349px;height:305px;\" version=\"1.1\" viewBox=\"0 0 349 305\" width=\"349px\" zoomAndPan=\"magnify\"><defs/><g><!--MD5=[fbc87193dbaf4d95561dea2c320d4a47]\n",
       "cluster E1--><a href=\"psysml:e269850e-1dc2-4cd5-af8e-eb4ea9f30c1b\" target=\"_top\" title=\"psysml:e269850e-1dc2-4cd5-af8e-eb4ea9f30c1b\" xlink:actuate=\"onRequest\" xlink:href=\"psysml:e269850e-1dc2-4cd5-af8e-eb4ea9f30c1b\" xlink:show=\"new\" xlink:title=\"psysml:e269850e-1dc2-4cd5-af8e-eb4ea9f30c1b\" xlink:type=\"simple\"><polygon fill=\"#FFFFFF\" points=\"16,6,157,6,164,28.2969,327,28.2969,327,293,16,293,16,6\" style=\"stroke: #000000; stroke-width: 1.5;\"/><line style=\"stroke: #000000; stroke-width: 1.5;\" x1=\"16\" x2=\"164\" y1=\"28.2969\" y2=\"28.2969\"/><text fill=\"#000000\" font-family=\"sans-serif\" font-size=\"14\" font-weight=\"bold\" lengthAdjust=\"spacingAndGlyphs\" textLength=\"135\" x=\"20\" y=\"20.9951\">DefaultValueTest</text></a><!--MD5=[b4997ac47864f28c2f74865a473b2911]\n",
       "class E2--><a href=\"psysml:e7bf9c65-3f81-4ba3-bb8e-9b75385edfca\" target=\"_top\" title=\"psysml:e7bf9c65-3f81-4ba3-bb8e-9b75385edfca\" xlink:actuate=\"onRequest\" xlink:href=\"psysml:e7bf9c65-3f81-4ba3-bb8e-9b75385edfca\" xlink:show=\"new\" xlink:title=\"psysml:e7bf9c65-3f81-4ba3-bb8e-9b75385edfca\" xlink:type=\"simple\"><rect fill=\"#FFFFFF\" height=\"88.3516\" id=\"E2\" style=\"stroke: #383838; stroke-width: 1.5;\" width=\"106\" x=\"156\" y=\"189\"/><text fill=\"#000000\" font-family=\"sans-serif\" font-size=\"12\" font-style=\"italic\" lengthAdjust=\"spacingAndGlyphs\" textLength=\"64\" x=\"177\" y=\"205.1387\">«part def»</text><text fill=\"#000000\" font-family=\"sans-serif\" font-size=\"12\" lengthAdjust=\"spacingAndGlyphs\" textLength=\"8\" x=\"205\" y=\"219.1074\">V</text><line style=\"stroke: #383838; stroke-width: 1.5;\" x1=\"157\" x2=\"261\" y1=\"226.9375\" y2=\"226.9375\"/><text fill=\"#000000\" font-family=\"sans-serif\" font-size=\"11\" lengthAdjust=\"spacingAndGlyphs\" textLength=\"94\" x=\"162\" y=\"257.9526\">m=default = 10;</text><text fill=\"#000000\" font-family=\"sans-serif\" font-size=\"11\" lengthAdjust=\"spacingAndGlyphs\" textLength=\"38\" x=\"162\" y=\"270.7573\">n= 20;</text><line style=\"stroke: #383838; stroke-width: 1.0;\" x1=\"157\" x2=\"181.5\" y1=\"241.3398\" y2=\"241.3398\"/><text fill=\"#000000\" font-family=\"sans-serif\" font-size=\"11\" lengthAdjust=\"spacingAndGlyphs\" textLength=\"55\" x=\"181.5\" y=\"244.6479\">attributes</text><line style=\"stroke: #383838; stroke-width: 1.0;\" x1=\"236.5\" x2=\"261\" y1=\"241.3398\" y2=\"241.3398\"/></a><!--MD5=[09b614a08d8cba4a07c9adeb5e0fee81]\n",
       "class E3--><a href=\"psysml:f1f60863-7632-47b0-830a-21cb33ae86b3\" target=\"_top\" title=\"psysml:f1f60863-7632-47b0-830a-21cb33ae86b3\" xlink:actuate=\"onRequest\" xlink:href=\"psysml:f1f60863-7632-47b0-830a-21cb33ae86b3\" xlink:show=\"new\" xlink:title=\"psysml:f1f60863-7632-47b0-830a-21cb33ae86b3\" xlink:type=\"simple\"><rect fill=\"#FFFFFF\" height=\"88.3516\" id=\"E3\" rx=\"10\" ry=\"10\" style=\"stroke: #383838; stroke-width: 1.5;\" width=\"63\" x=\"247.5\" y=\"41\"/><text fill=\"#000000\" font-family=\"sans-serif\" font-size=\"12\" font-style=\"italic\" lengthAdjust=\"spacingAndGlyphs\" textLength=\"40\" x=\"259\" y=\"57.1387\">«part»</text><text fill=\"#000000\" font-family=\"sans-serif\" font-size=\"12\" lengthAdjust=\"spacingAndGlyphs\" textLength=\"30\" x=\"264\" y=\"71.1074\">v1: V</text><line style=\"stroke: #383838; stroke-width: 1.5;\" x1=\"248.5\" x2=\"309.5\" y1=\"78.9375\" y2=\"78.9375\"/><text fill=\"#000000\" font-family=\"sans-serif\" font-size=\"11\" lengthAdjust=\"spacingAndGlyphs\" textLength=\"42\" x=\"253.5\" y=\"109.9526\">m= 20;</text><text fill=\"#000000\" font-family=\"sans-serif\" font-size=\"11\" font-style=\"italic\" lengthAdjust=\"spacingAndGlyphs\" textLength=\"48\" x=\"253.5\" y=\"122.7573\">:&gt;&gt;V::m</text><line style=\"stroke: #383838; stroke-width: 1.0;\" x1=\"248.5\" x2=\"251.5\" y1=\"93.3398\" y2=\"93.3398\"/><text fill=\"#000000\" font-family=\"sans-serif\" font-size=\"11\" lengthAdjust=\"spacingAndGlyphs\" textLength=\"55\" x=\"251.5\" y=\"96.6479\">attributes</text><line style=\"stroke: #383838; stroke-width: 1.0;\" x1=\"306.5\" x2=\"309.5\" y1=\"93.3398\" y2=\"93.3398\"/></a><!--MD5=[ebbe1d658d1005bcc118a6aa81145e00]\n",
       "class E4--><a href=\"psysml:92194191-781a-4f9d-991e-568f466dae89\" target=\"_top\" title=\"psysml:92194191-781a-4f9d-991e-568f466dae89\" xlink:actuate=\"onRequest\" xlink:href=\"psysml:92194191-781a-4f9d-991e-568f466dae89\" xlink:show=\"new\" xlink:title=\"psysml:92194191-781a-4f9d-991e-568f466dae89\" xlink:type=\"simple\"><rect fill=\"#FFFFFF\" height=\"88.3516\" id=\"E4\" style=\"stroke: #383838; stroke-width: 1.5;\" width=\"103\" x=\"109.5\" y=\"41\"/><text fill=\"#000000\" font-family=\"sans-serif\" font-size=\"12\" font-style=\"italic\" lengthAdjust=\"spacingAndGlyphs\" textLength=\"64\" x=\"129\" y=\"57.1387\">«part def»</text><text fill=\"#000000\" font-family=\"sans-serif\" font-size=\"12\" lengthAdjust=\"spacingAndGlyphs\" textLength=\"11\" x=\"155.5\" y=\"71.1074\">W</text><line style=\"stroke: #383838; stroke-width: 1.5;\" x1=\"110.5\" x2=\"211.5\" y1=\"78.9375\" y2=\"78.9375\"/><text fill=\"#000000\" font-family=\"sans-serif\" font-size=\"11\" lengthAdjust=\"spacingAndGlyphs\" textLength=\"87\" x=\"115.5\" y=\"109.9526\">m=default = n;</text><text fill=\"#000000\" font-family=\"sans-serif\" font-size=\"11\" font-style=\"italic\" lengthAdjust=\"spacingAndGlyphs\" textLength=\"48\" x=\"115.5\" y=\"122.7573\">:&gt;&gt;V::m</text><line style=\"stroke: #383838; stroke-width: 1.0;\" x1=\"110.5\" x2=\"133.5\" y1=\"93.3398\" y2=\"93.3398\"/><text fill=\"#000000\" font-family=\"sans-serif\" font-size=\"11\" lengthAdjust=\"spacingAndGlyphs\" textLength=\"55\" x=\"133.5\" y=\"96.6479\">attributes</text><line style=\"stroke: #383838; stroke-width: 1.0;\" x1=\"188.5\" x2=\"211.5\" y1=\"93.3398\" y2=\"93.3398\"/></a><!--MD5=[270fce915f116d4de14055a7c1d9a0f3]\n",
       "class E5--><a href=\"psysml:12e8b862-a297-4118-9bc9-39ad14290527\" target=\"_top\" title=\"psysml:12e8b862-a297-4118-9bc9-39ad14290527\" xlink:actuate=\"onRequest\" xlink:href=\"psysml:12e8b862-a297-4118-9bc9-39ad14290527\" xlink:show=\"new\" xlink:title=\"psysml:12e8b862-a297-4118-9bc9-39ad14290527\" xlink:type=\"simple\"><rect fill=\"#FFFFFF\" height=\"45.9375\" id=\"E5\" rx=\"10\" ry=\"10\" style=\"stroke: #383838; stroke-width: 1.5;\" width=\"42\" x=\"32\" y=\"62\"/><text fill=\"#000000\" font-family=\"sans-serif\" font-size=\"12\" font-style=\"italic\" lengthAdjust=\"spacingAndGlyphs\" textLength=\"40\" x=\"33\" y=\"78.1387\">«part»</text><text fill=\"#000000\" font-family=\"sans-serif\" font-size=\"12\" lengthAdjust=\"spacingAndGlyphs\" textLength=\"14\" x=\"46\" y=\"92.1074\">v2</text><line style=\"stroke: #383838; stroke-width: 1.5;\" x1=\"33\" x2=\"73\" y1=\"99.9375\" y2=\"99.9375\"/></a><!--MD5=[05d275557350bfb9b23a4ef7222b4c39]\n",
       "link E3 to E2--><a href=\"psysml:a976bee6-0dca-4565-96d2-a44c4ac1d16a\" target=\"_top\" title=\"psysml:a976bee6-0dca-4565-96d2-a44c4ac1d16a\" xlink:actuate=\"onRequest\" xlink:href=\"psysml:a976bee6-0dca-4565-96d2-a44c4ac1d16a\" xlink:show=\"new\" xlink:title=\"psysml:a976bee6-0dca-4565-96d2-a44c4ac1d16a\" xlink:type=\"simple\"><path d=\"M254.75,129 C254.75,129 254.75,168.91 254.75,168.91 \" fill=\"none\" id=\"E3-&gt;E2\" style=\"stroke: #383838; stroke-width: 1.0;\"/><polygon fill=\"#FFFFFF\" points=\"254.75,188.91,247.75,169.91,261.75,169.91,254.75,188.91\" style=\"stroke: #383838; stroke-width: 1.0;\"/><ellipse cx=\"249.75\" cy=\"164.21\" fill=\"#383838\" rx=\"2\" ry=\"2\" style=\"stroke: #383838; stroke-width: 1.0;\"/><ellipse cx=\"259.75\" cy=\"164.21\" fill=\"#383838\" rx=\"2\" ry=\"2\" style=\"stroke: #383838; stroke-width: 1.0;\"/></a><!--MD5=[185131fc0dcab0a4505a2ebe144e961b]\n",
       "link E4 to E2--><a href=\"psysml:80b8c15c-720d-43cf-a3f3-f1ac8ca72d6e\" target=\"_top\" title=\"psysml:80b8c15c-720d-43cf-a3f3-f1ac8ca72d6e\" xlink:actuate=\"onRequest\" xlink:href=\"psysml:80b8c15c-720d-43cf-a3f3-f1ac8ca72d6e\" xlink:show=\"new\" xlink:title=\"psysml:80b8c15c-720d-43cf-a3f3-f1ac8ca72d6e\" xlink:type=\"simple\"><path d=\"M184.25,129 C184.25,129 184.25,168.91 184.25,168.91 \" fill=\"none\" id=\"E4-&gt;E2\" style=\"stroke: #383838; stroke-width: 1.0;\"/><polygon fill=\"none\" points=\"191.25,168.91,184.25,188.91,177.25,168.91,191.25,168.91\" style=\"stroke: #383838; stroke-width: 1.0;\"/></a><!--MD5=[6662649e6a611378bae13ff352b1eb95]\n",
       "@startuml\r\n",
       "skinparam linetype ortho\r\n",
       "skinparam monochrome true\r\n",
       "skinparam classbackgroundcolor white\r\n",
       "skinparam shadowing false\r\n",
       "skinparam wrapWidth 300\r\n",
       "hide circle\r\n",
       "\r\n",
       "package \"DefaultValueTest\" as E1  [[psysml:e269850e-1dc2-4cd5-af8e-eb4ea9f30c1b ]]  {\r\n",
       "comp def \"V\" as E2  <<(T,blue) part def>> [[psysml:e7bf9c65-3f81-4ba3-bb8e-9b75385edfca ]] {\r\n",
       "- - attributes - -\r\n",
       "m=default = 10; \r\n",
       "n= 20; \r\n",
       "}\r\n",
       "comp usage \"v1: V\" as E3  <<(T,blue) part>> [[psysml:f1f60863-7632-47b0-830a-21cb33ae86b3 ]] {\r\n",
       "- - attributes - -\r\n",
       "m= 20; \\n//:>>V::m// \r\n",
       "}\r\n",
       "comp def \"W\" as E4  <<(T,blue) part def>> [[psysml:92194191-781a-4f9d-991e-568f466dae89 ]] {\r\n",
       "- - attributes - -\r\n",
       "m=default = n; \\n//:>>V::m// \r\n",
       "}\r\n",
       "comp usage \"v2\" as E5  <<(T,blue) part>> [[psysml:12e8b862-a297-4118-9bc9-39ad14290527 ]] {\r\n",
       "}\r\n",
       "E3 - -:|> E2 [[psysml:a976bee6-0dca-4565-96d2-a44c4ac1d16a ]] \r\n",
       "E4 - -|> E2 [[psysml:80b8c15c-720d-43cf-a3f3-f1ac8ca72d6e ]] \r\n",
       "}\r\n",
       "@enduml\r\n",
       "\n",
       "PlantUML version 1.2020.13(Sat Jun 13 12:26:38 UTC 2020)\n",
       "(EPL source distribution)\n",
       "Java Runtime: OpenJDK Runtime Environment\n",
       "JVM: OpenJDK 64-Bit Server VM\n",
       "Default Encoding: UTF-8\n",
       "Language: en\n",
       "Country: null\n",
       "--></g></svg>"
      ]
     },
     "execution_count": 56,
     "metadata": {},
     "output_type": "execute_result"
    }
   ],
   "source": [
    "%viz --style=\"ORTHOLINE\" --view=\"Sequence\" \"DefaultValueTest\""
   ]
  },
  {
   "cell_type": "code",
   "execution_count": 57,
   "id": "ea5453e3",
   "metadata": {
    "execution": {
     "iopub.execute_input": "2021-08-04T06:28:46.070358Z",
     "iopub.status.busy": "2021-08-04T06:28:46.069901Z",
     "iopub.status.idle": "2021-08-04T06:28:46.135263Z",
     "shell.execute_reply": "2021-08-04T06:28:46.134070Z"
    }
   },
   "outputs": [
    {
     "data": {
      "image/svg+xml": [
       "<?xml version=\"1.0\" encoding=\"UTF-8\" standalone=\"no\"?><svg xmlns=\"http://www.w3.org/2000/svg\" xmlns:xlink=\"http://www.w3.org/1999/xlink\" contentScriptType=\"application/ecmascript\" contentStyleType=\"text/css\" height=\"305px\" preserveAspectRatio=\"none\" style=\"width:349px;height:305px;\" version=\"1.1\" viewBox=\"0 0 349 305\" width=\"349px\" zoomAndPan=\"magnify\"><defs/><g><!--MD5=[fbc87193dbaf4d95561dea2c320d4a47]\n",
       "cluster E1--><a href=\"psysml:e269850e-1dc2-4cd5-af8e-eb4ea9f30c1b\" target=\"_top\" title=\"psysml:e269850e-1dc2-4cd5-af8e-eb4ea9f30c1b\" xlink:actuate=\"onRequest\" xlink:href=\"psysml:e269850e-1dc2-4cd5-af8e-eb4ea9f30c1b\" xlink:show=\"new\" xlink:title=\"psysml:e269850e-1dc2-4cd5-af8e-eb4ea9f30c1b\" xlink:type=\"simple\"><polygon fill=\"#FFFFFF\" points=\"16,6,157,6,164,28.2969,327,28.2969,327,293,16,293,16,6\" style=\"stroke: #000000; stroke-width: 1.5;\"/><line style=\"stroke: #000000; stroke-width: 1.5;\" x1=\"16\" x2=\"164\" y1=\"28.2969\" y2=\"28.2969\"/><text fill=\"#000000\" font-family=\"sans-serif\" font-size=\"14\" font-weight=\"bold\" lengthAdjust=\"spacingAndGlyphs\" textLength=\"135\" x=\"20\" y=\"20.9951\">DefaultValueTest</text></a><!--MD5=[b4997ac47864f28c2f74865a473b2911]\n",
       "class E2--><a href=\"psysml:e7bf9c65-3f81-4ba3-bb8e-9b75385edfca\" target=\"_top\" title=\"psysml:e7bf9c65-3f81-4ba3-bb8e-9b75385edfca\" xlink:actuate=\"onRequest\" xlink:href=\"psysml:e7bf9c65-3f81-4ba3-bb8e-9b75385edfca\" xlink:show=\"new\" xlink:title=\"psysml:e7bf9c65-3f81-4ba3-bb8e-9b75385edfca\" xlink:type=\"simple\"><rect fill=\"#FFFFFF\" height=\"88.3516\" id=\"E2\" style=\"stroke: #383838; stroke-width: 1.5;\" width=\"106\" x=\"156\" y=\"189\"/><text fill=\"#000000\" font-family=\"sans-serif\" font-size=\"12\" font-style=\"italic\" lengthAdjust=\"spacingAndGlyphs\" textLength=\"64\" x=\"177\" y=\"205.1387\">«part def»</text><text fill=\"#000000\" font-family=\"sans-serif\" font-size=\"12\" lengthAdjust=\"spacingAndGlyphs\" textLength=\"8\" x=\"205\" y=\"219.1074\">V</text><line style=\"stroke: #383838; stroke-width: 1.5;\" x1=\"157\" x2=\"261\" y1=\"226.9375\" y2=\"226.9375\"/><text fill=\"#000000\" font-family=\"sans-serif\" font-size=\"11\" lengthAdjust=\"spacingAndGlyphs\" textLength=\"94\" x=\"162\" y=\"257.9526\">m=default = 10;</text><text fill=\"#000000\" font-family=\"sans-serif\" font-size=\"11\" lengthAdjust=\"spacingAndGlyphs\" textLength=\"38\" x=\"162\" y=\"270.7573\">n= 20;</text><line style=\"stroke: #383838; stroke-width: 1.0;\" x1=\"157\" x2=\"181.5\" y1=\"241.3398\" y2=\"241.3398\"/><text fill=\"#000000\" font-family=\"sans-serif\" font-size=\"11\" lengthAdjust=\"spacingAndGlyphs\" textLength=\"55\" x=\"181.5\" y=\"244.6479\">attributes</text><line style=\"stroke: #383838; stroke-width: 1.0;\" x1=\"236.5\" x2=\"261\" y1=\"241.3398\" y2=\"241.3398\"/></a><!--MD5=[09b614a08d8cba4a07c9adeb5e0fee81]\n",
       "class E3--><a href=\"psysml:f1f60863-7632-47b0-830a-21cb33ae86b3\" target=\"_top\" title=\"psysml:f1f60863-7632-47b0-830a-21cb33ae86b3\" xlink:actuate=\"onRequest\" xlink:href=\"psysml:f1f60863-7632-47b0-830a-21cb33ae86b3\" xlink:show=\"new\" xlink:title=\"psysml:f1f60863-7632-47b0-830a-21cb33ae86b3\" xlink:type=\"simple\"><rect fill=\"#FFFFFF\" height=\"88.3516\" id=\"E3\" rx=\"10\" ry=\"10\" style=\"stroke: #383838; stroke-width: 1.5;\" width=\"63\" x=\"247.5\" y=\"41\"/><text fill=\"#000000\" font-family=\"sans-serif\" font-size=\"12\" font-style=\"italic\" lengthAdjust=\"spacingAndGlyphs\" textLength=\"40\" x=\"259\" y=\"57.1387\">«part»</text><text fill=\"#000000\" font-family=\"sans-serif\" font-size=\"12\" lengthAdjust=\"spacingAndGlyphs\" textLength=\"30\" x=\"264\" y=\"71.1074\">v1: V</text><line style=\"stroke: #383838; stroke-width: 1.5;\" x1=\"248.5\" x2=\"309.5\" y1=\"78.9375\" y2=\"78.9375\"/><text fill=\"#000000\" font-family=\"sans-serif\" font-size=\"11\" lengthAdjust=\"spacingAndGlyphs\" textLength=\"42\" x=\"253.5\" y=\"109.9526\">m= 20;</text><text fill=\"#000000\" font-family=\"sans-serif\" font-size=\"11\" font-style=\"italic\" lengthAdjust=\"spacingAndGlyphs\" textLength=\"48\" x=\"253.5\" y=\"122.7573\">:&gt;&gt;V::m</text><line style=\"stroke: #383838; stroke-width: 1.0;\" x1=\"248.5\" x2=\"251.5\" y1=\"93.3398\" y2=\"93.3398\"/><text fill=\"#000000\" font-family=\"sans-serif\" font-size=\"11\" lengthAdjust=\"spacingAndGlyphs\" textLength=\"55\" x=\"251.5\" y=\"96.6479\">attributes</text><line style=\"stroke: #383838; stroke-width: 1.0;\" x1=\"306.5\" x2=\"309.5\" y1=\"93.3398\" y2=\"93.3398\"/></a><!--MD5=[ebbe1d658d1005bcc118a6aa81145e00]\n",
       "class E4--><a href=\"psysml:92194191-781a-4f9d-991e-568f466dae89\" target=\"_top\" title=\"psysml:92194191-781a-4f9d-991e-568f466dae89\" xlink:actuate=\"onRequest\" xlink:href=\"psysml:92194191-781a-4f9d-991e-568f466dae89\" xlink:show=\"new\" xlink:title=\"psysml:92194191-781a-4f9d-991e-568f466dae89\" xlink:type=\"simple\"><rect fill=\"#FFFFFF\" height=\"88.3516\" id=\"E4\" style=\"stroke: #383838; stroke-width: 1.5;\" width=\"103\" x=\"109.5\" y=\"41\"/><text fill=\"#000000\" font-family=\"sans-serif\" font-size=\"12\" font-style=\"italic\" lengthAdjust=\"spacingAndGlyphs\" textLength=\"64\" x=\"129\" y=\"57.1387\">«part def»</text><text fill=\"#000000\" font-family=\"sans-serif\" font-size=\"12\" lengthAdjust=\"spacingAndGlyphs\" textLength=\"11\" x=\"155.5\" y=\"71.1074\">W</text><line style=\"stroke: #383838; stroke-width: 1.5;\" x1=\"110.5\" x2=\"211.5\" y1=\"78.9375\" y2=\"78.9375\"/><text fill=\"#000000\" font-family=\"sans-serif\" font-size=\"11\" lengthAdjust=\"spacingAndGlyphs\" textLength=\"87\" x=\"115.5\" y=\"109.9526\">m=default = n;</text><text fill=\"#000000\" font-family=\"sans-serif\" font-size=\"11\" font-style=\"italic\" lengthAdjust=\"spacingAndGlyphs\" textLength=\"48\" x=\"115.5\" y=\"122.7573\">:&gt;&gt;V::m</text><line style=\"stroke: #383838; stroke-width: 1.0;\" x1=\"110.5\" x2=\"133.5\" y1=\"93.3398\" y2=\"93.3398\"/><text fill=\"#000000\" font-family=\"sans-serif\" font-size=\"11\" lengthAdjust=\"spacingAndGlyphs\" textLength=\"55\" x=\"133.5\" y=\"96.6479\">attributes</text><line style=\"stroke: #383838; stroke-width: 1.0;\" x1=\"188.5\" x2=\"211.5\" y1=\"93.3398\" y2=\"93.3398\"/></a><!--MD5=[270fce915f116d4de14055a7c1d9a0f3]\n",
       "class E5--><a href=\"psysml:12e8b862-a297-4118-9bc9-39ad14290527\" target=\"_top\" title=\"psysml:12e8b862-a297-4118-9bc9-39ad14290527\" xlink:actuate=\"onRequest\" xlink:href=\"psysml:12e8b862-a297-4118-9bc9-39ad14290527\" xlink:show=\"new\" xlink:title=\"psysml:12e8b862-a297-4118-9bc9-39ad14290527\" xlink:type=\"simple\"><rect fill=\"#FFFFFF\" height=\"45.9375\" id=\"E5\" rx=\"10\" ry=\"10\" style=\"stroke: #383838; stroke-width: 1.5;\" width=\"42\" x=\"32\" y=\"62\"/><text fill=\"#000000\" font-family=\"sans-serif\" font-size=\"12\" font-style=\"italic\" lengthAdjust=\"spacingAndGlyphs\" textLength=\"40\" x=\"33\" y=\"78.1387\">«part»</text><text fill=\"#000000\" font-family=\"sans-serif\" font-size=\"12\" lengthAdjust=\"spacingAndGlyphs\" textLength=\"14\" x=\"46\" y=\"92.1074\">v2</text><line style=\"stroke: #383838; stroke-width: 1.5;\" x1=\"33\" x2=\"73\" y1=\"99.9375\" y2=\"99.9375\"/></a><!--MD5=[05d275557350bfb9b23a4ef7222b4c39]\n",
       "link E3 to E2--><a href=\"psysml:a976bee6-0dca-4565-96d2-a44c4ac1d16a\" target=\"_top\" title=\"psysml:a976bee6-0dca-4565-96d2-a44c4ac1d16a\" xlink:actuate=\"onRequest\" xlink:href=\"psysml:a976bee6-0dca-4565-96d2-a44c4ac1d16a\" xlink:show=\"new\" xlink:title=\"psysml:a976bee6-0dca-4565-96d2-a44c4ac1d16a\" xlink:type=\"simple\"><path d=\"M254.75,129 C254.75,129 254.75,168.91 254.75,168.91 \" fill=\"none\" id=\"E3-&gt;E2\" style=\"stroke: #383838; stroke-width: 1.0;\"/><polygon fill=\"#FFFFFF\" points=\"254.75,188.91,247.75,169.91,261.75,169.91,254.75,188.91\" style=\"stroke: #383838; stroke-width: 1.0;\"/><ellipse cx=\"249.75\" cy=\"164.21\" fill=\"#383838\" rx=\"2\" ry=\"2\" style=\"stroke: #383838; stroke-width: 1.0;\"/><ellipse cx=\"259.75\" cy=\"164.21\" fill=\"#383838\" rx=\"2\" ry=\"2\" style=\"stroke: #383838; stroke-width: 1.0;\"/></a><!--MD5=[185131fc0dcab0a4505a2ebe144e961b]\n",
       "link E4 to E2--><a href=\"psysml:80b8c15c-720d-43cf-a3f3-f1ac8ca72d6e\" target=\"_top\" title=\"psysml:80b8c15c-720d-43cf-a3f3-f1ac8ca72d6e\" xlink:actuate=\"onRequest\" xlink:href=\"psysml:80b8c15c-720d-43cf-a3f3-f1ac8ca72d6e\" xlink:show=\"new\" xlink:title=\"psysml:80b8c15c-720d-43cf-a3f3-f1ac8ca72d6e\" xlink:type=\"simple\"><path d=\"M184.25,129 C184.25,129 184.25,168.91 184.25,168.91 \" fill=\"none\" id=\"E4-&gt;E2\" style=\"stroke: #383838; stroke-width: 1.0;\"/><polygon fill=\"none\" points=\"191.25,168.91,184.25,188.91,177.25,168.91,191.25,168.91\" style=\"stroke: #383838; stroke-width: 1.0;\"/></a><!--MD5=[6662649e6a611378bae13ff352b1eb95]\n",
       "@startuml\r\n",
       "skinparam linetype ortho\r\n",
       "skinparam monochrome true\r\n",
       "skinparam classbackgroundcolor white\r\n",
       "skinparam shadowing false\r\n",
       "skinparam wrapWidth 300\r\n",
       "hide circle\r\n",
       "\r\n",
       "package \"DefaultValueTest\" as E1  [[psysml:e269850e-1dc2-4cd5-af8e-eb4ea9f30c1b ]]  {\r\n",
       "comp def \"V\" as E2  <<(T,blue) part def>> [[psysml:e7bf9c65-3f81-4ba3-bb8e-9b75385edfca ]] {\r\n",
       "- - attributes - -\r\n",
       "m=default = 10; \r\n",
       "n= 20; \r\n",
       "}\r\n",
       "comp usage \"v1: V\" as E3  <<(T,blue) part>> [[psysml:f1f60863-7632-47b0-830a-21cb33ae86b3 ]] {\r\n",
       "- - attributes - -\r\n",
       "m= 20; \\n//:>>V::m// \r\n",
       "}\r\n",
       "comp def \"W\" as E4  <<(T,blue) part def>> [[psysml:92194191-781a-4f9d-991e-568f466dae89 ]] {\r\n",
       "- - attributes - -\r\n",
       "m=default = n; \\n//:>>V::m// \r\n",
       "}\r\n",
       "comp usage \"v2\" as E5  <<(T,blue) part>> [[psysml:12e8b862-a297-4118-9bc9-39ad14290527 ]] {\r\n",
       "}\r\n",
       "E3 - -:|> E2 [[psysml:a976bee6-0dca-4565-96d2-a44c4ac1d16a ]] \r\n",
       "E4 - -|> E2 [[psysml:80b8c15c-720d-43cf-a3f3-f1ac8ca72d6e ]] \r\n",
       "}\r\n",
       "@enduml\r\n",
       "\n",
       "PlantUML version 1.2020.13(Sat Jun 13 12:26:38 UTC 2020)\n",
       "(EPL source distribution)\n",
       "Java Runtime: OpenJDK Runtime Environment\n",
       "JVM: OpenJDK 64-Bit Server VM\n",
       "Default Encoding: UTF-8\n",
       "Language: en\n",
       "Country: null\n",
       "--></g></svg>"
      ]
     },
     "execution_count": 57,
     "metadata": {},
     "output_type": "execute_result"
    }
   ],
   "source": [
    "%viz --style=\"ORTHOLINE\" --view=\"MIXED\" \"DefaultValueTest\""
   ]
  }
 ],
 "metadata": {
  "kernelspec": {
   "display_name": "SysML",
   "language": "sysml",
   "name": "sysml"
  },
  "language_info": {
   "codemirror_mode": "sysml",
   "file_extension": ".sysml",
   "mimetype": "text/x-sysml",
   "name": "SysML",
   "pygments_lexer": "java",
   "version": "1.0.0"
  }
 },
 "nbformat": 4,
 "nbformat_minor": 5
}
