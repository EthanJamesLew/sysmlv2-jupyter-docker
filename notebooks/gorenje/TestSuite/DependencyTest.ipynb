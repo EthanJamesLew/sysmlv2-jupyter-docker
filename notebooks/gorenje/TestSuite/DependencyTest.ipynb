{
 "cells": [
  {
   "cell_type": "markdown",
   "id": "55a6ccd4",
   "metadata": {},
   "source": [
    "# SysML v2 Test Suite\n",
    "\n",
    "This can notebook can be cleared using menu `Edit --> Clear All Outputs` and then all cells can be\n",
    "run using menu `Run --> Run All Cells`.\n",
    "\n",
    "**WARNING**: This file is generated, all modifications here will be ignored.\n"
   ]
  },
  {
   "cell_type": "markdown",
   "id": "62501648",
   "metadata": {},
   "source": [
    "## File: ../../sysml/src/examples/Simple Tests/DependencyTest.sysml"
   ]
  },
  {
   "cell_type": "code",
   "execution_count": 1,
   "id": "d4d2df10",
   "metadata": {
    "execution": {
     "iopub.execute_input": "2022-04-22T09:48:04.964180Z",
     "iopub.status.busy": "2022-04-22T09:48:04.962970Z",
     "iopub.status.idle": "2022-04-22T09:48:05.057476Z",
     "shell.execute_reply": "2022-04-22T09:48:05.057957Z"
    }
   },
   "outputs": [
    {
     "data": {
      "text/plain": [
       "Package DependencyTest (f8a2d852-c8b6-43d3-8345-41177874a867)\n"
      ]
     },
     "execution_count": 1,
     "metadata": {},
     "output_type": "execute_result"
    }
   ],
   "source": [
    "package DependencyTest {\n",
    "\t\n",
    "\tpackage System {\n",
    "\t\tpackage 'Application Layer';\n",
    "\t\tpackage 'Service Layer';\n",
    "\t\tpackage 'Data Layer';\n",
    "\t}\n",
    "\t\n",
    "\timport System::*;\n",
    "\t\n",
    "\tdependency Use from 'Application Layer' to 'Service Layer';\n",
    "\tdependency from 'Service Layer' to 'Data Layer';\n",
    "\t\n",
    "\tattribute x;\n",
    "\tattribute y;\n",
    "\tattribute z;\n",
    "\t\n",
    "\tdependency z to x, y;\n",
    "\t\n",
    "}"
   ]
  },
  {
   "cell_type": "code",
   "execution_count": 2,
   "id": "db3bb816",
   "metadata": {
    "execution": {
     "iopub.execute_input": "2022-04-22T09:48:05.108744Z",
     "iopub.status.busy": "2022-04-22T09:48:05.108505Z",
     "iopub.status.idle": "2022-04-22T09:48:05.583407Z",
     "shell.execute_reply": "2022-04-22T09:48:05.583014Z"
    }
   },
   "outputs": [
    {
     "data": {
      "image/svg+xml": [
       "<?xml version=\"1.0\" encoding=\"UTF-8\" standalone=\"no\"?><svg xmlns=\"http://www.w3.org/2000/svg\" xmlns:xlink=\"http://www.w3.org/1999/xlink\" contentScriptType=\"application/ecmascript\" contentStyleType=\"text/css\" height=\"552px\" preserveAspectRatio=\"none\" style=\"width:536px;height:552px;\" version=\"1.1\" viewBox=\"0 0 536 552\" width=\"536px\" zoomAndPan=\"magnify\"><defs/><g><!--MD5=[fbc87193dbaf4d95561dea2c320d4a47]\n",
       "cluster E1--><a href=\"psysml:fa3e9fbf-effa-4977-80ec-fe6e8fa57f4d\" target=\"_top\" title=\"psysml:fa3e9fbf-effa-4977-80ec-fe6e8fa57f4d\" xlink:actuate=\"onRequest\" xlink:href=\"psysml:fa3e9fbf-effa-4977-80ec-fe6e8fa57f4d\" xlink:show=\"new\" xlink:title=\"psysml:fa3e9fbf-effa-4977-80ec-fe6e8fa57f4d\" xlink:type=\"simple\"><polygon fill=\"#FFFFFF\" points=\"16,6,142,6,149,28.2969,514,28.2969,514,540.72,16,540.72,16,6\" style=\"stroke: #000000; stroke-width: 1.5;\"/><line style=\"stroke: #000000; stroke-width: 1.5;\" x1=\"16\" x2=\"149\" y1=\"28.2969\" y2=\"28.2969\"/><text fill=\"#000000\" font-family=\"sans-serif\" font-size=\"14\" font-weight=\"bold\" lengthAdjust=\"spacingAndGlyphs\" textLength=\"120\" x=\"20\" y=\"20.9951\">DependencyTest</text></a><!--MD5=[e4f7fae6ed58524ba242bb0b0d3be6b7]\n",
       "cluster E2--><a href=\"psysml:10c1ae57-66e9-4db6-bc3d-37ac2db9914a\" target=\"_top\" title=\"psysml:10c1ae57-66e9-4db6-bc3d-37ac2db9914a\" xlink:actuate=\"onRequest\" xlink:href=\"psysml:10c1ae57-66e9-4db6-bc3d-37ac2db9914a\" xlink:show=\"new\" xlink:title=\"psysml:10c1ae57-66e9-4db6-bc3d-37ac2db9914a\" xlink:type=\"simple\"><polygon fill=\"#FFFFFF\" points=\"271,120.72,328,120.72,335,143.0169,474,143.0169,474,500.72,271,500.72,271,120.72\" style=\"stroke: #000000; stroke-width: 1.5;\"/><line style=\"stroke: #000000; stroke-width: 1.5;\" x1=\"271\" x2=\"335\" y1=\"143.0169\" y2=\"143.0169\"/><text fill=\"#000000\" font-family=\"sans-serif\" font-size=\"14\" font-weight=\"bold\" lengthAdjust=\"spacingAndGlyphs\" textLength=\"51\" x=\"275\" y=\"135.7151\">System</text></a><!--MD5=[60a26617385b1d2d0262a64233df1f8d]\n",
       "class E6--><a href=\"psysml:af126b68-a763-4b5e-ae0f-74aa81d9e434\" target=\"_top\" title=\"psysml:af126b68-a763-4b5e-ae0f-74aa81d9e434\" xlink:actuate=\"onRequest\" xlink:href=\"psysml:af126b68-a763-4b5e-ae0f-74aa81d9e434\" xlink:show=\"new\" xlink:title=\"psysml:af126b68-a763-4b5e-ae0f-74aa81d9e434\" xlink:type=\"simple\"><rect fill=\"#FFFFFF\" height=\"45.9375\" id=\"E6\" rx=\"10\" ry=\"10\" style=\"stroke: #383838; stroke-width: 1.5;\" width=\"71\" x=\"40.5\" y=\"297.22\"/><text fill=\"#000000\" font-family=\"sans-serif\" font-size=\"12\" font-style=\"italic\" lengthAdjust=\"spacingAndGlyphs\" textLength=\"69\" x=\"41.5\" y=\"313.3587\">«attribute»</text><text fill=\"#000000\" font-family=\"sans-serif\" font-size=\"12\" lengthAdjust=\"spacingAndGlyphs\" textLength=\"6\" x=\"71\" y=\"327.3274\">x</text><line style=\"stroke: #383838; stroke-width: 1.5;\" x1=\"41.5\" x2=\"110.5\" y1=\"335.1575\" y2=\"335.1575\"/></a><!--MD5=[2156ba9850f5573cc1fc38a6a4b2f02b]\n",
       "class E7--><a href=\"psysml:a5153252-c77e-42e1-a87d-8eb1cf591399\" target=\"_top\" title=\"psysml:a5153252-c77e-42e1-a87d-8eb1cf591399\" xlink:actuate=\"onRequest\" xlink:href=\"psysml:a5153252-c77e-42e1-a87d-8eb1cf591399\" xlink:show=\"new\" xlink:title=\"psysml:a5153252-c77e-42e1-a87d-8eb1cf591399\" xlink:type=\"simple\"><rect fill=\"#FFFFFF\" height=\"45.9375\" id=\"E7\" rx=\"10\" ry=\"10\" style=\"stroke: #383838; stroke-width: 1.5;\" width=\"71\" x=\"146.5\" y=\"297.22\"/><text fill=\"#000000\" font-family=\"sans-serif\" font-size=\"12\" font-style=\"italic\" lengthAdjust=\"spacingAndGlyphs\" textLength=\"69\" x=\"147.5\" y=\"313.3587\">«attribute»</text><text fill=\"#000000\" font-family=\"sans-serif\" font-size=\"12\" lengthAdjust=\"spacingAndGlyphs\" textLength=\"6\" x=\"177\" y=\"327.3274\">y</text><line style=\"stroke: #383838; stroke-width: 1.5;\" x1=\"147.5\" x2=\"216.5\" y1=\"335.1575\" y2=\"335.1575\"/></a><!--MD5=[b9389687b975829384b498ac4b7476b2]\n",
       "class E8--><a href=\"psysml:4fcd16ab-62c7-48db-8542-d458ee8b30b8\" target=\"_top\" title=\"psysml:4fcd16ab-62c7-48db-8542-d458ee8b30b8\" xlink:actuate=\"onRequest\" xlink:href=\"psysml:4fcd16ab-62c7-48db-8542-d458ee8b30b8\" xlink:show=\"new\" xlink:title=\"psysml:4fcd16ab-62c7-48db-8542-d458ee8b30b8\" xlink:type=\"simple\"><rect fill=\"#FFFFFF\" height=\"45.9375\" id=\"E8\" rx=\"10\" ry=\"10\" style=\"stroke: #383838; stroke-width: 1.5;\" width=\"71\" x=\"92.5\" y=\"167.22\"/><text fill=\"#000000\" font-family=\"sans-serif\" font-size=\"12\" font-style=\"italic\" lengthAdjust=\"spacingAndGlyphs\" textLength=\"69\" x=\"93.5\" y=\"183.3587\">«attribute»</text><text fill=\"#000000\" font-family=\"sans-serif\" font-size=\"12\" lengthAdjust=\"spacingAndGlyphs\" textLength=\"5\" x=\"123.5\" y=\"197.3274\">z</text><line style=\"stroke: #383838; stroke-width: 1.5;\" x1=\"93.5\" x2=\"162.5\" y1=\"205.1575\" y2=\"205.1575\"/></a><a href=\"psysml:f00bbef0-e3df-4574-9254-08b97b82cdf9\" target=\"_top\" title=\"psysml:f00bbef0-e3df-4574-9254-08b97b82cdf9\" xlink:actuate=\"onRequest\" xlink:href=\"psysml:f00bbef0-e3df-4574-9254-08b97b82cdf9\" xlink:show=\"new\" xlink:title=\"psysml:f00bbef0-e3df-4574-9254-08b97b82cdf9\" xlink:type=\"simple\"><polygon fill=\"#FFFFFF\" points=\"314.5,163.72,435.5,163.72,442.5,186.0169,449.5,186.0169,449.5,216.3138,314.5,216.3138,314.5,163.72\" style=\"stroke: #000000; stroke-width: 1.5;\"/><line style=\"stroke: #000000; stroke-width: 1.5;\" x1=\"314.5\" x2=\"442.5\" y1=\"186.0169\" y2=\"186.0169\"/><text fill=\"#000000\" font-family=\"sans-serif\" font-size=\"14\" font-weight=\"bold\" lengthAdjust=\"spacingAndGlyphs\" textLength=\"115\" x=\"318.5\" y=\"178.7151\">Application Layer</text></a><a href=\"psysml:ca2e3746-a8d0-4883-91df-79f98ad99c0c\" target=\"_top\" title=\"psysml:ca2e3746-a8d0-4883-91df-79f98ad99c0c\" xlink:actuate=\"onRequest\" xlink:href=\"psysml:ca2e3746-a8d0-4883-91df-79f98ad99c0c\" xlink:show=\"new\" xlink:title=\"psysml:ca2e3746-a8d0-4883-91df-79f98ad99c0c\" xlink:type=\"simple\"><polygon fill=\"#FFFFFF\" points=\"327,293.72,423,293.72,430,316.0169,437,316.0169,437,346.3138,327,346.3138,327,293.72\" style=\"stroke: #000000; stroke-width: 1.5;\"/><line style=\"stroke: #000000; stroke-width: 1.5;\" x1=\"327\" x2=\"430\" y1=\"316.0169\" y2=\"316.0169\"/><text fill=\"#000000\" font-family=\"sans-serif\" font-size=\"14\" font-weight=\"bold\" lengthAdjust=\"spacingAndGlyphs\" textLength=\"90\" x=\"331\" y=\"308.7151\">Service Layer</text></a><a href=\"psysml:31612912-620e-4f5b-bfbe-0087437cb05d\" target=\"_top\" title=\"psysml:31612912-620e-4f5b-bfbe-0087437cb05d\" xlink:actuate=\"onRequest\" xlink:href=\"psysml:31612912-620e-4f5b-bfbe-0087437cb05d\" xlink:show=\"new\" xlink:title=\"psysml:31612912-620e-4f5b-bfbe-0087437cb05d\" xlink:type=\"simple\"><polygon fill=\"#FFFFFF\" points=\"336,423.72,414,423.72,421,446.0169,428,446.0169,428,476.3138,336,476.3138,336,423.72\" style=\"stroke: #000000; stroke-width: 1.5;\"/><line style=\"stroke: #000000; stroke-width: 1.5;\" x1=\"336\" x2=\"421\" y1=\"446.0169\" y2=\"446.0169\"/><text fill=\"#000000\" font-family=\"sans-serif\" font-size=\"14\" font-weight=\"bold\" lengthAdjust=\"spacingAndGlyphs\" textLength=\"72\" x=\"340\" y=\"438.7151\">Data Layer</text></a><!--MD5=[1f1cd8e6dd4c1b2ca2aaccc9b9bcea6e]\n",
       "link E1 to E2--><a href=\"psysml:feb54464-815e-4611-ad28-7085b6ccbd88\" target=\"_top\" title=\"psysml:feb54464-815e-4611-ad28-7085b6ccbd88\" xlink:actuate=\"onRequest\" xlink:href=\"psysml:feb54464-815e-4611-ad28-7085b6ccbd88\" xlink:show=\"new\" xlink:title=\"psysml:feb54464-815e-4611-ad28-7085b6ccbd88\" xlink:type=\"simple\"><path d=\"M279,33.83 C279,36.15 279,73.83 279,111.5 C279,113.8544 279,116.2087 279,118.5544 C279,119.1408 279,119.7267 279,120.3119 \" fill=\"none\" id=\"E1-&gt;E2\" style=\"stroke: #383838; stroke-width: 1.0; stroke-dasharray: 7.0,7.0;\"/><polygon fill=\"#383838\" points=\"279,120.3119,283,111.3119,279,115.3119,275,111.3119,279,120.3119\" style=\"stroke: #383838; stroke-width: 1.0;\"/><text fill=\"#000000\" font-family=\"sans-serif\" font-size=\"13\" lengthAdjust=\"spacingAndGlyphs\" textLength=\"65\" x=\"280\" y=\"76.7869\">«import»*</text></a><!--MD5=[af87c684e3b0d8be13c1a698a818ef1e]\n",
       "link E3 to E4--><a href=\"psysml:46e8547b-a8f1-46c9-aa96-df26a1cf1e34\" target=\"_top\" title=\"psysml:46e8547b-a8f1-46c9-aa96-df26a1cf1e34\" xlink:actuate=\"onRequest\" xlink:href=\"psysml:46e8547b-a8f1-46c9-aa96-df26a1cf1e34\" xlink:show=\"new\" xlink:title=\"psysml:46e8547b-a8f1-46c9-aa96-df26a1cf1e34\" xlink:type=\"simple\"><path d=\"M382,216.82 C382,236.52 382,263.94 382,285.45 \" fill=\"none\" id=\"E3-&gt;E4\" style=\"stroke: #383838; stroke-width: 1.0; stroke-dasharray: 7.0,7.0;\"/><polygon fill=\"#383838\" points=\"382,293.67,385,285.67,379,285.67,382,293.67\" style=\"stroke: #383838; stroke-width: 1.0;\"/><text fill=\"#000000\" font-family=\"sans-serif\" font-size=\"13\" lengthAdjust=\"spacingAndGlyphs\" textLength=\"64\" x=\"383\" y=\"259.7869\">«depend»</text></a><!--MD5=[1b7591eae5389033d8d09a9d6721a717]\n",
       "link E4 to E5--><a href=\"psysml:4580f085-b870-4b86-bde9-338fd4cc0a1d\" target=\"_top\" title=\"psysml:4580f085-b870-4b86-bde9-338fd4cc0a1d\" xlink:actuate=\"onRequest\" xlink:href=\"psysml:4580f085-b870-4b86-bde9-338fd4cc0a1d\" xlink:show=\"new\" xlink:title=\"psysml:4580f085-b870-4b86-bde9-338fd4cc0a1d\" xlink:type=\"simple\"><path d=\"M382,346.82 C382,366.52 382,393.94 382,415.45 \" fill=\"none\" id=\"E4-&gt;E5\" style=\"stroke: #383838; stroke-width: 1.0; stroke-dasharray: 7.0,7.0;\"/><polygon fill=\"#383838\" points=\"382,423.67,385,415.67,379,415.67,382,423.67\" style=\"stroke: #383838; stroke-width: 1.0;\"/><text fill=\"#000000\" font-family=\"sans-serif\" font-size=\"13\" lengthAdjust=\"spacingAndGlyphs\" textLength=\"64\" x=\"383\" y=\"389.7869\">«depend»</text></a><!--MD5=[c5e8897d989ce984f93528998a7150fe]\n",
       "link E8 to E6--><a href=\"psysml:ef6c4171-27e8-4274-afa9-e3f35902caaf\" target=\"_top\" title=\"psysml:ef6c4171-27e8-4274-afa9-e3f35902caaf\" xlink:actuate=\"onRequest\" xlink:href=\"psysml:ef6c4171-27e8-4274-afa9-e3f35902caaf\" xlink:show=\"new\" xlink:title=\"psysml:ef6c4171-27e8-4274-afa9-e3f35902caaf\" xlink:type=\"simple\"><path d=\"M97.42,213.32 C87.35,222.4 77.37,233.83 72,246.72 C66.5,259.92 66.66,275.66 68.54,289.1 \" fill=\"none\" id=\"E8-&gt;E6\" style=\"stroke: #383838; stroke-width: 1.0; stroke-dasharray: 7.0,7.0;\"/><polygon fill=\"#383838\" points=\"69.9,297.12,71.517,288.7304,65.6018,289.7359,69.9,297.12\" style=\"stroke: #383838; stroke-width: 1.0;\"/><text fill=\"#000000\" font-family=\"sans-serif\" font-size=\"13\" lengthAdjust=\"spacingAndGlyphs\" textLength=\"64\" x=\"73\" y=\"259.7869\">«depend»</text></a><!--MD5=[bfa3c8b0d15052fdf50ae9310b491027]\n",
       "link E8 to E7--><a href=\"psysml:ef6c4171-27e8-4274-afa9-e3f35902caaf\" target=\"_top\" title=\"psysml:ef6c4171-27e8-4274-afa9-e3f35902caaf\" xlink:actuate=\"onRequest\" xlink:href=\"psysml:ef6c4171-27e8-4274-afa9-e3f35902caaf\" xlink:show=\"new\" xlink:title=\"psysml:ef6c4171-27e8-4274-afa9-e3f35902caaf\" xlink:type=\"simple\"><path d=\"M137.28,213.22 C146.17,234.29 159.64,266.22 169.47,289.53 \" fill=\"none\" id=\"E8-&gt;E7\" style=\"stroke: #383838; stroke-width: 1.0; stroke-dasharray: 7.0,7.0;\"/><polygon fill=\"#383838\" points=\"172.66,297.07,172.3241,288.5326,166.7933,290.8585,172.66,297.07\" style=\"stroke: #383838; stroke-width: 1.0;\"/><text fill=\"#000000\" font-family=\"sans-serif\" font-size=\"13\" lengthAdjust=\"spacingAndGlyphs\" textLength=\"64\" x=\"159\" y=\"259.7869\">«depend»</text></a><!--MD5=[71fa8b799594f8f983feb7c296f858d9]\n",
       "@startuml\r\n",
       " skinparam monochrome true\r\n",
       "skinparam classbackgroundcolor white\r\n",
       "skinparam shadowing false\r\n",
       "skinparam wrapWidth 300\r\n",
       "hide circle\r\n",
       "\r\n",
       "package \"DependencyTest\" as E1  [[psysml:fa3e9fbf-effa-4977-80ec-fe6e8fa57f4d ]]  {\r\n",
       "package \"System\" as E2  [[psysml:10c1ae57-66e9-4db6-bc3d-37ac2db9914a ]]  {\r\n",
       "package \"Application Layer\" as E3  [[psysml:f00bbef0-e3df-4574-9254-08b97b82cdf9 ]]  {\r\n",
       "}\r\n",
       "package \"Service Layer\" as E4  [[psysml:ca2e3746-a8d0-4883-91df-79f98ad99c0c ]]  {\r\n",
       "}\r\n",
       "package \"Data Layer\" as E5  [[psysml:31612912-620e-4f5b-bfbe-0087437cb05d ]]  {\r\n",
       "}\r\n",
       "}\r\n",
       "comp usage \"x \" as E6  <<(T,blue) attribute>> [[psysml:af126b68-a763-4b5e-ae0f-74aa81d9e434 ]] {\r\n",
       "}\r\n",
       "comp usage \"y \" as E7  <<(T,blue) attribute>> [[psysml:a5153252-c77e-42e1-a87d-8eb1cf591399 ]] {\r\n",
       "}\r\n",
       "comp usage \"z \" as E8  <<(T,blue) attribute>> [[psysml:4fcd16ab-62c7-48db-8542-d458ee8b30b8 ]] {\r\n",
       "}\r\n",
       "}\r\n",
       "E1 ..> E2 [[psysml:feb54464-815e-4611-ad28-7085b6ccbd88 ]] : <<import>>*\r\n",
       "E3 ..>> E4 [[psysml:46e8547b-a8f1-46c9-aa96-df26a1cf1e34 ]] : <<depend>>\r\n",
       "E4 ..>> E5 [[psysml:4580f085-b870-4b86-bde9-338fd4cc0a1d ]] : <<depend>>\r\n",
       "E8 ..>> E6 [[psysml:ef6c4171-27e8-4274-afa9-e3f35902caaf ]] : <<depend>>\r\n",
       "E8 ..>> E7 [[psysml:ef6c4171-27e8-4274-afa9-e3f35902caaf ]] : <<depend>>\r\n",
       "@enduml\r\n",
       "\n",
       "PlantUML version 1.2020.13(Sat Jun 13 12:26:38 UTC 2020)\n",
       "(EPL source distribution)\n",
       "Java Runtime: OpenJDK Runtime Environment\n",
       "JVM: OpenJDK 64-Bit Server VM\n",
       "Default Encoding: UTF-8\n",
       "Language: en\n",
       "Country: null\n",
       "--></g></svg>"
      ]
     },
     "execution_count": 2,
     "metadata": {},
     "output_type": "execute_result"
    }
   ],
   "source": [
    "%viz --style=\"COMPTREE\" --view=\"Default\" \"DependencyTest\""
   ]
  },
  {
   "cell_type": "code",
   "execution_count": 3,
   "id": "5ce73c33",
   "metadata": {
    "execution": {
     "iopub.execute_input": "2022-04-22T09:48:05.633019Z",
     "iopub.status.busy": "2022-04-22T09:48:05.632583Z",
     "iopub.status.idle": "2022-04-22T09:48:05.690799Z",
     "shell.execute_reply": "2022-04-22T09:48:05.690456Z"
    }
   },
   "outputs": [
    {
     "data": {
      "image/svg+xml": [
       "<?xml version=\"1.0\" encoding=\"UTF-8\" standalone=\"no\"?><svg xmlns=\"http://www.w3.org/2000/svg\" xmlns:xlink=\"http://www.w3.org/1999/xlink\" contentScriptType=\"application/ecmascript\" contentStyleType=\"text/css\" height=\"552px\" preserveAspectRatio=\"none\" style=\"width:536px;height:552px;\" version=\"1.1\" viewBox=\"0 0 536 552\" width=\"536px\" zoomAndPan=\"magnify\"><defs/><g><!--MD5=[fbc87193dbaf4d95561dea2c320d4a47]\n",
       "cluster E1--><a href=\"psysml:fa3e9fbf-effa-4977-80ec-fe6e8fa57f4d\" target=\"_top\" title=\"psysml:fa3e9fbf-effa-4977-80ec-fe6e8fa57f4d\" xlink:actuate=\"onRequest\" xlink:href=\"psysml:fa3e9fbf-effa-4977-80ec-fe6e8fa57f4d\" xlink:show=\"new\" xlink:title=\"psysml:fa3e9fbf-effa-4977-80ec-fe6e8fa57f4d\" xlink:type=\"simple\"><polygon fill=\"#FFFFFF\" points=\"16,6,142,6,149,28.2969,514,28.2969,514,540.72,16,540.72,16,6\" style=\"stroke: #000000; stroke-width: 1.5;\"/><line style=\"stroke: #000000; stroke-width: 1.5;\" x1=\"16\" x2=\"149\" y1=\"28.2969\" y2=\"28.2969\"/><text fill=\"#000000\" font-family=\"sans-serif\" font-size=\"14\" font-weight=\"bold\" lengthAdjust=\"spacingAndGlyphs\" textLength=\"120\" x=\"20\" y=\"20.9951\">DependencyTest</text></a><!--MD5=[e4f7fae6ed58524ba242bb0b0d3be6b7]\n",
       "cluster E2--><a href=\"psysml:10c1ae57-66e9-4db6-bc3d-37ac2db9914a\" target=\"_top\" title=\"psysml:10c1ae57-66e9-4db6-bc3d-37ac2db9914a\" xlink:actuate=\"onRequest\" xlink:href=\"psysml:10c1ae57-66e9-4db6-bc3d-37ac2db9914a\" xlink:show=\"new\" xlink:title=\"psysml:10c1ae57-66e9-4db6-bc3d-37ac2db9914a\" xlink:type=\"simple\"><polygon fill=\"#FFFFFF\" points=\"271,120.72,328,120.72,335,143.0169,474,143.0169,474,500.72,271,500.72,271,120.72\" style=\"stroke: #000000; stroke-width: 1.5;\"/><line style=\"stroke: #000000; stroke-width: 1.5;\" x1=\"271\" x2=\"335\" y1=\"143.0169\" y2=\"143.0169\"/><text fill=\"#000000\" font-family=\"sans-serif\" font-size=\"14\" font-weight=\"bold\" lengthAdjust=\"spacingAndGlyphs\" textLength=\"51\" x=\"275\" y=\"135.7151\">System</text></a><!--MD5=[60a26617385b1d2d0262a64233df1f8d]\n",
       "class E6--><a href=\"psysml:af126b68-a763-4b5e-ae0f-74aa81d9e434\" target=\"_top\" title=\"psysml:af126b68-a763-4b5e-ae0f-74aa81d9e434\" xlink:actuate=\"onRequest\" xlink:href=\"psysml:af126b68-a763-4b5e-ae0f-74aa81d9e434\" xlink:show=\"new\" xlink:title=\"psysml:af126b68-a763-4b5e-ae0f-74aa81d9e434\" xlink:type=\"simple\"><rect fill=\"#FFFFFF\" height=\"45.9375\" id=\"E6\" rx=\"10\" ry=\"10\" style=\"stroke: #383838; stroke-width: 1.5;\" width=\"71\" x=\"40.5\" y=\"297.22\"/><text fill=\"#000000\" font-family=\"sans-serif\" font-size=\"12\" font-style=\"italic\" lengthAdjust=\"spacingAndGlyphs\" textLength=\"69\" x=\"41.5\" y=\"313.3587\">«attribute»</text><text fill=\"#000000\" font-family=\"sans-serif\" font-size=\"12\" lengthAdjust=\"spacingAndGlyphs\" textLength=\"6\" x=\"71\" y=\"327.3274\">x</text><line style=\"stroke: #383838; stroke-width: 1.5;\" x1=\"41.5\" x2=\"110.5\" y1=\"335.1575\" y2=\"335.1575\"/></a><!--MD5=[2156ba9850f5573cc1fc38a6a4b2f02b]\n",
       "class E7--><a href=\"psysml:a5153252-c77e-42e1-a87d-8eb1cf591399\" target=\"_top\" title=\"psysml:a5153252-c77e-42e1-a87d-8eb1cf591399\" xlink:actuate=\"onRequest\" xlink:href=\"psysml:a5153252-c77e-42e1-a87d-8eb1cf591399\" xlink:show=\"new\" xlink:title=\"psysml:a5153252-c77e-42e1-a87d-8eb1cf591399\" xlink:type=\"simple\"><rect fill=\"#FFFFFF\" height=\"45.9375\" id=\"E7\" rx=\"10\" ry=\"10\" style=\"stroke: #383838; stroke-width: 1.5;\" width=\"71\" x=\"146.5\" y=\"297.22\"/><text fill=\"#000000\" font-family=\"sans-serif\" font-size=\"12\" font-style=\"italic\" lengthAdjust=\"spacingAndGlyphs\" textLength=\"69\" x=\"147.5\" y=\"313.3587\">«attribute»</text><text fill=\"#000000\" font-family=\"sans-serif\" font-size=\"12\" lengthAdjust=\"spacingAndGlyphs\" textLength=\"6\" x=\"177\" y=\"327.3274\">y</text><line style=\"stroke: #383838; stroke-width: 1.5;\" x1=\"147.5\" x2=\"216.5\" y1=\"335.1575\" y2=\"335.1575\"/></a><!--MD5=[b9389687b975829384b498ac4b7476b2]\n",
       "class E8--><a href=\"psysml:4fcd16ab-62c7-48db-8542-d458ee8b30b8\" target=\"_top\" title=\"psysml:4fcd16ab-62c7-48db-8542-d458ee8b30b8\" xlink:actuate=\"onRequest\" xlink:href=\"psysml:4fcd16ab-62c7-48db-8542-d458ee8b30b8\" xlink:show=\"new\" xlink:title=\"psysml:4fcd16ab-62c7-48db-8542-d458ee8b30b8\" xlink:type=\"simple\"><rect fill=\"#FFFFFF\" height=\"45.9375\" id=\"E8\" rx=\"10\" ry=\"10\" style=\"stroke: #383838; stroke-width: 1.5;\" width=\"71\" x=\"92.5\" y=\"167.22\"/><text fill=\"#000000\" font-family=\"sans-serif\" font-size=\"12\" font-style=\"italic\" lengthAdjust=\"spacingAndGlyphs\" textLength=\"69\" x=\"93.5\" y=\"183.3587\">«attribute»</text><text fill=\"#000000\" font-family=\"sans-serif\" font-size=\"12\" lengthAdjust=\"spacingAndGlyphs\" textLength=\"5\" x=\"123.5\" y=\"197.3274\">z</text><line style=\"stroke: #383838; stroke-width: 1.5;\" x1=\"93.5\" x2=\"162.5\" y1=\"205.1575\" y2=\"205.1575\"/></a><a href=\"psysml:f00bbef0-e3df-4574-9254-08b97b82cdf9\" target=\"_top\" title=\"psysml:f00bbef0-e3df-4574-9254-08b97b82cdf9\" xlink:actuate=\"onRequest\" xlink:href=\"psysml:f00bbef0-e3df-4574-9254-08b97b82cdf9\" xlink:show=\"new\" xlink:title=\"psysml:f00bbef0-e3df-4574-9254-08b97b82cdf9\" xlink:type=\"simple\"><polygon fill=\"#FFFFFF\" points=\"314.5,163.72,435.5,163.72,442.5,186.0169,449.5,186.0169,449.5,216.3138,314.5,216.3138,314.5,163.72\" style=\"stroke: #000000; stroke-width: 1.5;\"/><line style=\"stroke: #000000; stroke-width: 1.5;\" x1=\"314.5\" x2=\"442.5\" y1=\"186.0169\" y2=\"186.0169\"/><text fill=\"#000000\" font-family=\"sans-serif\" font-size=\"14\" font-weight=\"bold\" lengthAdjust=\"spacingAndGlyphs\" textLength=\"115\" x=\"318.5\" y=\"178.7151\">Application Layer</text></a><a href=\"psysml:ca2e3746-a8d0-4883-91df-79f98ad99c0c\" target=\"_top\" title=\"psysml:ca2e3746-a8d0-4883-91df-79f98ad99c0c\" xlink:actuate=\"onRequest\" xlink:href=\"psysml:ca2e3746-a8d0-4883-91df-79f98ad99c0c\" xlink:show=\"new\" xlink:title=\"psysml:ca2e3746-a8d0-4883-91df-79f98ad99c0c\" xlink:type=\"simple\"><polygon fill=\"#FFFFFF\" points=\"327,293.72,423,293.72,430,316.0169,437,316.0169,437,346.3138,327,346.3138,327,293.72\" style=\"stroke: #000000; stroke-width: 1.5;\"/><line style=\"stroke: #000000; stroke-width: 1.5;\" x1=\"327\" x2=\"430\" y1=\"316.0169\" y2=\"316.0169\"/><text fill=\"#000000\" font-family=\"sans-serif\" font-size=\"14\" font-weight=\"bold\" lengthAdjust=\"spacingAndGlyphs\" textLength=\"90\" x=\"331\" y=\"308.7151\">Service Layer</text></a><a href=\"psysml:31612912-620e-4f5b-bfbe-0087437cb05d\" target=\"_top\" title=\"psysml:31612912-620e-4f5b-bfbe-0087437cb05d\" xlink:actuate=\"onRequest\" xlink:href=\"psysml:31612912-620e-4f5b-bfbe-0087437cb05d\" xlink:show=\"new\" xlink:title=\"psysml:31612912-620e-4f5b-bfbe-0087437cb05d\" xlink:type=\"simple\"><polygon fill=\"#FFFFFF\" points=\"336,423.72,414,423.72,421,446.0169,428,446.0169,428,476.3138,336,476.3138,336,423.72\" style=\"stroke: #000000; stroke-width: 1.5;\"/><line style=\"stroke: #000000; stroke-width: 1.5;\" x1=\"336\" x2=\"421\" y1=\"446.0169\" y2=\"446.0169\"/><text fill=\"#000000\" font-family=\"sans-serif\" font-size=\"14\" font-weight=\"bold\" lengthAdjust=\"spacingAndGlyphs\" textLength=\"72\" x=\"340\" y=\"438.7151\">Data Layer</text></a><!--MD5=[1f1cd8e6dd4c1b2ca2aaccc9b9bcea6e]\n",
       "link E1 to E2--><a href=\"psysml:feb54464-815e-4611-ad28-7085b6ccbd88\" target=\"_top\" title=\"psysml:feb54464-815e-4611-ad28-7085b6ccbd88\" xlink:actuate=\"onRequest\" xlink:href=\"psysml:feb54464-815e-4611-ad28-7085b6ccbd88\" xlink:show=\"new\" xlink:title=\"psysml:feb54464-815e-4611-ad28-7085b6ccbd88\" xlink:type=\"simple\"><path d=\"M279,33.83 C279,36.15 279,73.83 279,111.5 C279,113.8544 279,116.2087 279,118.5544 C279,119.1408 279,119.7267 279,120.3119 \" fill=\"none\" id=\"E1-&gt;E2\" style=\"stroke: #383838; stroke-width: 1.0; stroke-dasharray: 7.0,7.0;\"/><polygon fill=\"#383838\" points=\"279,120.3119,283,111.3119,279,115.3119,275,111.3119,279,120.3119\" style=\"stroke: #383838; stroke-width: 1.0;\"/><text fill=\"#000000\" font-family=\"sans-serif\" font-size=\"13\" lengthAdjust=\"spacingAndGlyphs\" textLength=\"65\" x=\"280\" y=\"76.7869\">«import»*</text></a><!--MD5=[af87c684e3b0d8be13c1a698a818ef1e]\n",
       "link E3 to E4--><a href=\"psysml:46e8547b-a8f1-46c9-aa96-df26a1cf1e34\" target=\"_top\" title=\"psysml:46e8547b-a8f1-46c9-aa96-df26a1cf1e34\" xlink:actuate=\"onRequest\" xlink:href=\"psysml:46e8547b-a8f1-46c9-aa96-df26a1cf1e34\" xlink:show=\"new\" xlink:title=\"psysml:46e8547b-a8f1-46c9-aa96-df26a1cf1e34\" xlink:type=\"simple\"><path d=\"M382,216.82 C382,236.52 382,263.94 382,285.45 \" fill=\"none\" id=\"E3-&gt;E4\" style=\"stroke: #383838; stroke-width: 1.0; stroke-dasharray: 7.0,7.0;\"/><polygon fill=\"#383838\" points=\"382,293.67,385,285.67,379,285.67,382,293.67\" style=\"stroke: #383838; stroke-width: 1.0;\"/><text fill=\"#000000\" font-family=\"sans-serif\" font-size=\"13\" lengthAdjust=\"spacingAndGlyphs\" textLength=\"64\" x=\"383\" y=\"259.7869\">«depend»</text></a><!--MD5=[1b7591eae5389033d8d09a9d6721a717]\n",
       "link E4 to E5--><a href=\"psysml:4580f085-b870-4b86-bde9-338fd4cc0a1d\" target=\"_top\" title=\"psysml:4580f085-b870-4b86-bde9-338fd4cc0a1d\" xlink:actuate=\"onRequest\" xlink:href=\"psysml:4580f085-b870-4b86-bde9-338fd4cc0a1d\" xlink:show=\"new\" xlink:title=\"psysml:4580f085-b870-4b86-bde9-338fd4cc0a1d\" xlink:type=\"simple\"><path d=\"M382,346.82 C382,366.52 382,393.94 382,415.45 \" fill=\"none\" id=\"E4-&gt;E5\" style=\"stroke: #383838; stroke-width: 1.0; stroke-dasharray: 7.0,7.0;\"/><polygon fill=\"#383838\" points=\"382,423.67,385,415.67,379,415.67,382,423.67\" style=\"stroke: #383838; stroke-width: 1.0;\"/><text fill=\"#000000\" font-family=\"sans-serif\" font-size=\"13\" lengthAdjust=\"spacingAndGlyphs\" textLength=\"64\" x=\"383\" y=\"389.7869\">«depend»</text></a><!--MD5=[c5e8897d989ce984f93528998a7150fe]\n",
       "link E8 to E6--><a href=\"psysml:ef6c4171-27e8-4274-afa9-e3f35902caaf\" target=\"_top\" title=\"psysml:ef6c4171-27e8-4274-afa9-e3f35902caaf\" xlink:actuate=\"onRequest\" xlink:href=\"psysml:ef6c4171-27e8-4274-afa9-e3f35902caaf\" xlink:show=\"new\" xlink:title=\"psysml:ef6c4171-27e8-4274-afa9-e3f35902caaf\" xlink:type=\"simple\"><path d=\"M97.42,213.32 C87.35,222.4 77.37,233.83 72,246.72 C66.5,259.92 66.66,275.66 68.54,289.1 \" fill=\"none\" id=\"E8-&gt;E6\" style=\"stroke: #383838; stroke-width: 1.0; stroke-dasharray: 7.0,7.0;\"/><polygon fill=\"#383838\" points=\"69.9,297.12,71.517,288.7304,65.6018,289.7359,69.9,297.12\" style=\"stroke: #383838; stroke-width: 1.0;\"/><text fill=\"#000000\" font-family=\"sans-serif\" font-size=\"13\" lengthAdjust=\"spacingAndGlyphs\" textLength=\"64\" x=\"73\" y=\"259.7869\">«depend»</text></a><!--MD5=[bfa3c8b0d15052fdf50ae9310b491027]\n",
       "link E8 to E7--><a href=\"psysml:ef6c4171-27e8-4274-afa9-e3f35902caaf\" target=\"_top\" title=\"psysml:ef6c4171-27e8-4274-afa9-e3f35902caaf\" xlink:actuate=\"onRequest\" xlink:href=\"psysml:ef6c4171-27e8-4274-afa9-e3f35902caaf\" xlink:show=\"new\" xlink:title=\"psysml:ef6c4171-27e8-4274-afa9-e3f35902caaf\" xlink:type=\"simple\"><path d=\"M137.28,213.22 C146.17,234.29 159.64,266.22 169.47,289.53 \" fill=\"none\" id=\"E8-&gt;E7\" style=\"stroke: #383838; stroke-width: 1.0; stroke-dasharray: 7.0,7.0;\"/><polygon fill=\"#383838\" points=\"172.66,297.07,172.3241,288.5326,166.7933,290.8585,172.66,297.07\" style=\"stroke: #383838; stroke-width: 1.0;\"/><text fill=\"#000000\" font-family=\"sans-serif\" font-size=\"13\" lengthAdjust=\"spacingAndGlyphs\" textLength=\"64\" x=\"159\" y=\"259.7869\">«depend»</text></a><!--MD5=[71fa8b799594f8f983feb7c296f858d9]\n",
       "@startuml\r\n",
       " skinparam monochrome true\r\n",
       "skinparam classbackgroundcolor white\r\n",
       "skinparam shadowing false\r\n",
       "skinparam wrapWidth 300\r\n",
       "hide circle\r\n",
       "\r\n",
       "package \"DependencyTest\" as E1  [[psysml:fa3e9fbf-effa-4977-80ec-fe6e8fa57f4d ]]  {\r\n",
       "package \"System\" as E2  [[psysml:10c1ae57-66e9-4db6-bc3d-37ac2db9914a ]]  {\r\n",
       "package \"Application Layer\" as E3  [[psysml:f00bbef0-e3df-4574-9254-08b97b82cdf9 ]]  {\r\n",
       "}\r\n",
       "package \"Service Layer\" as E4  [[psysml:ca2e3746-a8d0-4883-91df-79f98ad99c0c ]]  {\r\n",
       "}\r\n",
       "package \"Data Layer\" as E5  [[psysml:31612912-620e-4f5b-bfbe-0087437cb05d ]]  {\r\n",
       "}\r\n",
       "}\r\n",
       "comp usage \"x \" as E6  <<(T,blue) attribute>> [[psysml:af126b68-a763-4b5e-ae0f-74aa81d9e434 ]] {\r\n",
       "}\r\n",
       "comp usage \"y \" as E7  <<(T,blue) attribute>> [[psysml:a5153252-c77e-42e1-a87d-8eb1cf591399 ]] {\r\n",
       "}\r\n",
       "comp usage \"z \" as E8  <<(T,blue) attribute>> [[psysml:4fcd16ab-62c7-48db-8542-d458ee8b30b8 ]] {\r\n",
       "}\r\n",
       "}\r\n",
       "E1 ..> E2 [[psysml:feb54464-815e-4611-ad28-7085b6ccbd88 ]] : <<import>>*\r\n",
       "E3 ..>> E4 [[psysml:46e8547b-a8f1-46c9-aa96-df26a1cf1e34 ]] : <<depend>>\r\n",
       "E4 ..>> E5 [[psysml:4580f085-b870-4b86-bde9-338fd4cc0a1d ]] : <<depend>>\r\n",
       "E8 ..>> E6 [[psysml:ef6c4171-27e8-4274-afa9-e3f35902caaf ]] : <<depend>>\r\n",
       "E8 ..>> E7 [[psysml:ef6c4171-27e8-4274-afa9-e3f35902caaf ]] : <<depend>>\r\n",
       "@enduml\r\n",
       "\n",
       "PlantUML version 1.2020.13(Sat Jun 13 12:26:38 UTC 2020)\n",
       "(EPL source distribution)\n",
       "Java Runtime: OpenJDK Runtime Environment\n",
       "JVM: OpenJDK 64-Bit Server VM\n",
       "Default Encoding: UTF-8\n",
       "Language: en\n",
       "Country: null\n",
       "--></g></svg>"
      ]
     },
     "execution_count": 3,
     "metadata": {},
     "output_type": "execute_result"
    }
   ],
   "source": [
    "%viz --style=\"COMPTREE\" --view=\"Tree\" \"DependencyTest\""
   ]
  },
  {
   "cell_type": "code",
   "execution_count": 4,
   "id": "5c4d25ab",
   "metadata": {
    "execution": {
     "iopub.execute_input": "2022-04-22T09:48:05.741250Z",
     "iopub.status.busy": "2022-04-22T09:48:05.740820Z",
     "iopub.status.idle": "2022-04-22T09:48:05.751099Z",
     "shell.execute_reply": "2022-04-22T09:48:05.751422Z"
    }
   },
   "outputs": [
    {
     "data": {
      "image/svg+xml": [
       "<?xml version=\"1.0\" encoding=\"UTF-8\" standalone=\"no\"?><svg xmlns=\"http://www.w3.org/2000/svg\" xmlns:xlink=\"http://www.w3.org/1999/xlink\" contentScriptType=\"application/ecmascript\" contentStyleType=\"text/css\" height=\"12px\" preserveAspectRatio=\"none\" style=\"width:12px;height:12px;\" version=\"1.1\" viewBox=\"0 0 12 12\" width=\"12px\" zoomAndPan=\"magnify\"><defs/><g><!--MD5=[f19188ef49e11757b5c46753f95d9edc]\n",
       "@startuml\r\n",
       " skinparam monochrome true\r\n",
       "skinparam classbackgroundcolor white\r\n",
       "skinparam shadowing false\r\n",
       "skinparam wrapWidth 300\r\n",
       "hide circle\r\n",
       "\r\n",
       "@enduml\r\n",
       "\n",
       "PlantUML version 1.2020.13(Sat Jun 13 12:26:38 UTC 2020)\n",
       "(EPL source distribution)\n",
       "Java Runtime: OpenJDK Runtime Environment\n",
       "JVM: OpenJDK 64-Bit Server VM\n",
       "Default Encoding: UTF-8\n",
       "Language: en\n",
       "Country: null\n",
       "--></g></svg>"
      ]
     },
     "execution_count": 4,
     "metadata": {},
     "output_type": "execute_result"
    }
   ],
   "source": [
    "%viz --style=\"COMPTREE\" --view=\"State\" \"DependencyTest\""
   ]
  },
  {
   "cell_type": "code",
   "execution_count": 5,
   "id": "824ce579",
   "metadata": {
    "execution": {
     "iopub.execute_input": "2022-04-22T09:48:05.802439Z",
     "iopub.status.busy": "2022-04-22T09:48:05.801947Z",
     "iopub.status.idle": "2022-04-22T09:48:05.862539Z",
     "shell.execute_reply": "2022-04-22T09:48:05.862867Z"
    }
   },
   "outputs": [
    {
     "data": {
      "image/svg+xml": [
       "<?xml version=\"1.0\" encoding=\"UTF-8\" standalone=\"no\"?><svg xmlns=\"http://www.w3.org/2000/svg\" xmlns:xlink=\"http://www.w3.org/1999/xlink\" contentScriptType=\"application/ecmascript\" contentStyleType=\"text/css\" height=\"442px\" preserveAspectRatio=\"none\" style=\"width:536px;height:442px;\" version=\"1.1\" viewBox=\"0 0 536 442\" width=\"536px\" zoomAndPan=\"magnify\"><defs/><g><!--MD5=[fbc87193dbaf4d95561dea2c320d4a47]\n",
       "cluster E1--><a href=\"psysml:fa3e9fbf-effa-4977-80ec-fe6e8fa57f4d\" target=\"_top\" title=\"psysml:fa3e9fbf-effa-4977-80ec-fe6e8fa57f4d\" xlink:actuate=\"onRequest\" xlink:href=\"psysml:fa3e9fbf-effa-4977-80ec-fe6e8fa57f4d\" xlink:show=\"new\" xlink:title=\"psysml:fa3e9fbf-effa-4977-80ec-fe6e8fa57f4d\" xlink:type=\"simple\"><polygon fill=\"#FFFFFF\" points=\"16,6,142,6,149,28.2969,514,28.2969,514,430.72,16,430.72,16,6\" style=\"stroke: #000000; stroke-width: 1.5;\"/><line style=\"stroke: #000000; stroke-width: 1.5;\" x1=\"16\" x2=\"149\" y1=\"28.2969\" y2=\"28.2969\"/><text fill=\"#000000\" font-family=\"sans-serif\" font-size=\"14\" font-weight=\"bold\" lengthAdjust=\"spacingAndGlyphs\" textLength=\"120\" x=\"20\" y=\"20.9951\">DependencyTest</text></a><!--MD5=[e4f7fae6ed58524ba242bb0b0d3be6b7]\n",
       "cluster E2--><a href=\"psysml:10c1ae57-66e9-4db6-bc3d-37ac2db9914a\" target=\"_top\" title=\"psysml:10c1ae57-66e9-4db6-bc3d-37ac2db9914a\" xlink:actuate=\"onRequest\" xlink:href=\"psysml:10c1ae57-66e9-4db6-bc3d-37ac2db9914a\" xlink:show=\"new\" xlink:title=\"psysml:10c1ae57-66e9-4db6-bc3d-37ac2db9914a\" xlink:type=\"simple\"><polygon fill=\"#FFFFFF\" points=\"271,98.72,328,98.72,335,121.0169,474,121.0169,474,390.72,271,390.72,271,98.72\" style=\"stroke: #000000; stroke-width: 1.5;\"/><line style=\"stroke: #000000; stroke-width: 1.5;\" x1=\"271\" x2=\"335\" y1=\"121.0169\" y2=\"121.0169\"/><text fill=\"#000000\" font-family=\"sans-serif\" font-size=\"14\" font-weight=\"bold\" lengthAdjust=\"spacingAndGlyphs\" textLength=\"51\" x=\"275\" y=\"113.7151\">System</text></a><!--MD5=[60a26617385b1d2d0262a64233df1f8d]\n",
       "class E6--><a href=\"psysml:af126b68-a763-4b5e-ae0f-74aa81d9e434\" target=\"_top\" title=\"psysml:af126b68-a763-4b5e-ae0f-74aa81d9e434\" xlink:actuate=\"onRequest\" xlink:href=\"psysml:af126b68-a763-4b5e-ae0f-74aa81d9e434\" xlink:show=\"new\" xlink:title=\"psysml:af126b68-a763-4b5e-ae0f-74aa81d9e434\" xlink:type=\"simple\"><rect fill=\"#FFFFFF\" height=\"45.9375\" id=\"E6\" rx=\"10\" ry=\"10\" style=\"stroke: #383838; stroke-width: 1.5;\" width=\"71\" x=\"40.5\" y=\"231.22\"/><text fill=\"#000000\" font-family=\"sans-serif\" font-size=\"12\" font-style=\"italic\" lengthAdjust=\"spacingAndGlyphs\" textLength=\"69\" x=\"41.5\" y=\"247.3587\">«attribute»</text><text fill=\"#000000\" font-family=\"sans-serif\" font-size=\"12\" lengthAdjust=\"spacingAndGlyphs\" textLength=\"6\" x=\"71\" y=\"261.3274\">x</text><line style=\"stroke: #383838; stroke-width: 1.5;\" x1=\"41.5\" x2=\"110.5\" y1=\"269.1575\" y2=\"269.1575\"/></a><!--MD5=[2156ba9850f5573cc1fc38a6a4b2f02b]\n",
       "class E7--><a href=\"psysml:a5153252-c77e-42e1-a87d-8eb1cf591399\" target=\"_top\" title=\"psysml:a5153252-c77e-42e1-a87d-8eb1cf591399\" xlink:actuate=\"onRequest\" xlink:href=\"psysml:a5153252-c77e-42e1-a87d-8eb1cf591399\" xlink:show=\"new\" xlink:title=\"psysml:a5153252-c77e-42e1-a87d-8eb1cf591399\" xlink:type=\"simple\"><rect fill=\"#FFFFFF\" height=\"45.9375\" id=\"E7\" rx=\"10\" ry=\"10\" style=\"stroke: #383838; stroke-width: 1.5;\" width=\"71\" x=\"146.5\" y=\"231.22\"/><text fill=\"#000000\" font-family=\"sans-serif\" font-size=\"12\" font-style=\"italic\" lengthAdjust=\"spacingAndGlyphs\" textLength=\"69\" x=\"147.5\" y=\"247.3587\">«attribute»</text><text fill=\"#000000\" font-family=\"sans-serif\" font-size=\"12\" lengthAdjust=\"spacingAndGlyphs\" textLength=\"6\" x=\"177\" y=\"261.3274\">y</text><line style=\"stroke: #383838; stroke-width: 1.5;\" x1=\"147.5\" x2=\"216.5\" y1=\"269.1575\" y2=\"269.1575\"/></a><!--MD5=[b9389687b975829384b498ac4b7476b2]\n",
       "class E8--><a href=\"psysml:4fcd16ab-62c7-48db-8542-d458ee8b30b8\" target=\"_top\" title=\"psysml:4fcd16ab-62c7-48db-8542-d458ee8b30b8\" xlink:actuate=\"onRequest\" xlink:href=\"psysml:4fcd16ab-62c7-48db-8542-d458ee8b30b8\" xlink:show=\"new\" xlink:title=\"psysml:4fcd16ab-62c7-48db-8542-d458ee8b30b8\" xlink:type=\"simple\"><rect fill=\"#FFFFFF\" height=\"45.9375\" id=\"E8\" rx=\"10\" ry=\"10\" style=\"stroke: #383838; stroke-width: 1.5;\" width=\"71\" x=\"92.5\" y=\"145.22\"/><text fill=\"#000000\" font-family=\"sans-serif\" font-size=\"12\" font-style=\"italic\" lengthAdjust=\"spacingAndGlyphs\" textLength=\"69\" x=\"93.5\" y=\"161.3587\">«attribute»</text><text fill=\"#000000\" font-family=\"sans-serif\" font-size=\"12\" lengthAdjust=\"spacingAndGlyphs\" textLength=\"5\" x=\"123.5\" y=\"175.3274\">z</text><line style=\"stroke: #383838; stroke-width: 1.5;\" x1=\"93.5\" x2=\"162.5\" y1=\"183.1575\" y2=\"183.1575\"/></a><a href=\"psysml:f00bbef0-e3df-4574-9254-08b97b82cdf9\" target=\"_top\" title=\"psysml:f00bbef0-e3df-4574-9254-08b97b82cdf9\" xlink:actuate=\"onRequest\" xlink:href=\"psysml:f00bbef0-e3df-4574-9254-08b97b82cdf9\" xlink:show=\"new\" xlink:title=\"psysml:f00bbef0-e3df-4574-9254-08b97b82cdf9\" xlink:type=\"simple\"><polygon fill=\"#FFFFFF\" points=\"314.5,141.72,435.5,141.72,442.5,164.0169,449.5,164.0169,449.5,194.3138,314.5,194.3138,314.5,141.72\" style=\"stroke: #000000; stroke-width: 1.5;\"/><line style=\"stroke: #000000; stroke-width: 1.5;\" x1=\"314.5\" x2=\"442.5\" y1=\"164.0169\" y2=\"164.0169\"/><text fill=\"#000000\" font-family=\"sans-serif\" font-size=\"14\" font-weight=\"bold\" lengthAdjust=\"spacingAndGlyphs\" textLength=\"115\" x=\"318.5\" y=\"156.7151\">Application Layer</text></a><a href=\"psysml:ca2e3746-a8d0-4883-91df-79f98ad99c0c\" target=\"_top\" title=\"psysml:ca2e3746-a8d0-4883-91df-79f98ad99c0c\" xlink:actuate=\"onRequest\" xlink:href=\"psysml:ca2e3746-a8d0-4883-91df-79f98ad99c0c\" xlink:show=\"new\" xlink:title=\"psysml:ca2e3746-a8d0-4883-91df-79f98ad99c0c\" xlink:type=\"simple\"><polygon fill=\"#FFFFFF\" points=\"327,227.72,423,227.72,430,250.0169,437,250.0169,437,280.3138,327,280.3138,327,227.72\" style=\"stroke: #000000; stroke-width: 1.5;\"/><line style=\"stroke: #000000; stroke-width: 1.5;\" x1=\"327\" x2=\"430\" y1=\"250.0169\" y2=\"250.0169\"/><text fill=\"#000000\" font-family=\"sans-serif\" font-size=\"14\" font-weight=\"bold\" lengthAdjust=\"spacingAndGlyphs\" textLength=\"90\" x=\"331\" y=\"242.7151\">Service Layer</text></a><a href=\"psysml:31612912-620e-4f5b-bfbe-0087437cb05d\" target=\"_top\" title=\"psysml:31612912-620e-4f5b-bfbe-0087437cb05d\" xlink:actuate=\"onRequest\" xlink:href=\"psysml:31612912-620e-4f5b-bfbe-0087437cb05d\" xlink:show=\"new\" xlink:title=\"psysml:31612912-620e-4f5b-bfbe-0087437cb05d\" xlink:type=\"simple\"><polygon fill=\"#FFFFFF\" points=\"336,313.72,414,313.72,421,336.0169,428,336.0169,428,366.3138,336,366.3138,336,313.72\" style=\"stroke: #000000; stroke-width: 1.5;\"/><line style=\"stroke: #000000; stroke-width: 1.5;\" x1=\"336\" x2=\"421\" y1=\"336.0169\" y2=\"336.0169\"/><text fill=\"#000000\" font-family=\"sans-serif\" font-size=\"14\" font-weight=\"bold\" lengthAdjust=\"spacingAndGlyphs\" textLength=\"72\" x=\"340\" y=\"328.7151\">Data Layer</text></a><!--MD5=[1f1cd8e6dd4c1b2ca2aaccc9b9bcea6e]\n",
       "link E1 to E2--><a href=\"psysml:feb54464-815e-4611-ad28-7085b6ccbd88\" target=\"_top\" title=\"psysml:feb54464-815e-4611-ad28-7085b6ccbd88\" xlink:actuate=\"onRequest\" xlink:href=\"psysml:feb54464-815e-4611-ad28-7085b6ccbd88\" xlink:show=\"new\" xlink:title=\"psysml:feb54464-815e-4611-ad28-7085b6ccbd88\" xlink:type=\"simple\"><path d=\"M279,33.82 C279,34.815 279,43.3994 279,55.7775 C279,61.9666 279,69.1041 279,76.7155 C279,80.5213 279,84.4455 279,88.429 C279,90.4207 279,92.4272 279,94.4411 C279,95.448 279,96.4568 279,97.4665 C279,97.719 279,97.9714 279,98.224 \" fill=\"none\" id=\"E1-&gt;E2\" style=\"stroke: #383838; stroke-width: 1.0; stroke-dasharray: 7.0,7.0;\"/><polygon fill=\"#383838\" points=\"279,98.224,283,89.224,279,93.224,275,89.224,279,98.224\" style=\"stroke: #383838; stroke-width: 1.0;\"/><text fill=\"#000000\" font-family=\"sans-serif\" font-size=\"13\" lengthAdjust=\"spacingAndGlyphs\" textLength=\"65\" x=\"280\" y=\"54.7869\">«import»*</text></a><!--MD5=[af87c684e3b0d8be13c1a698a818ef1e]\n",
       "link E3 to E4--><a href=\"psysml:46e8547b-a8f1-46c9-aa96-df26a1cf1e34\" target=\"_top\" title=\"psysml:46e8547b-a8f1-46c9-aa96-df26a1cf1e34\" xlink:actuate=\"onRequest\" xlink:href=\"psysml:46e8547b-a8f1-46c9-aa96-df26a1cf1e34\" xlink:show=\"new\" xlink:title=\"psysml:46e8547b-a8f1-46c9-aa96-df26a1cf1e34\" xlink:type=\"simple\"><path d=\"M382,194.88 C382,202.7 382,211.41 382,219.66 \" fill=\"none\" id=\"E3-&gt;E4\" style=\"stroke: #383838; stroke-width: 1.0; stroke-dasharray: 7.0,7.0;\"/><polygon fill=\"#383838\" points=\"382,227.72,385,219.72,379,219.72,382,227.72\" style=\"stroke: #383838; stroke-width: 1.0;\"/><text fill=\"#000000\" font-family=\"sans-serif\" font-size=\"13\" lengthAdjust=\"spacingAndGlyphs\" textLength=\"64\" x=\"383\" y=\"215.7869\">«depend»</text></a><!--MD5=[1b7591eae5389033d8d09a9d6721a717]\n",
       "link E4 to E5--><a href=\"psysml:4580f085-b870-4b86-bde9-338fd4cc0a1d\" target=\"_top\" title=\"psysml:4580f085-b870-4b86-bde9-338fd4cc0a1d\" xlink:actuate=\"onRequest\" xlink:href=\"psysml:4580f085-b870-4b86-bde9-338fd4cc0a1d\" xlink:show=\"new\" xlink:title=\"psysml:4580f085-b870-4b86-bde9-338fd4cc0a1d\" xlink:type=\"simple\"><path d=\"M382,280.88 C382,288.7 382,297.41 382,305.66 \" fill=\"none\" id=\"E4-&gt;E5\" style=\"stroke: #383838; stroke-width: 1.0; stroke-dasharray: 7.0,7.0;\"/><polygon fill=\"#383838\" points=\"382,313.72,385,305.72,379,305.72,382,313.72\" style=\"stroke: #383838; stroke-width: 1.0;\"/><text fill=\"#000000\" font-family=\"sans-serif\" font-size=\"13\" lengthAdjust=\"spacingAndGlyphs\" textLength=\"64\" x=\"383\" y=\"301.7869\">«depend»</text></a><!--MD5=[c5e8897d989ce984f93528998a7150fe]\n",
       "link E8 to E6--><a href=\"psysml:ef6c4171-27e8-4274-afa9-e3f35902caaf\" target=\"_top\" title=\"psysml:ef6c4171-27e8-4274-afa9-e3f35902caaf\" xlink:actuate=\"onRequest\" xlink:href=\"psysml:ef6c4171-27e8-4274-afa9-e3f35902caaf\" xlink:show=\"new\" xlink:title=\"psysml:ef6c4171-27e8-4274-afa9-e3f35902caaf\" xlink:type=\"simple\"><path d=\"M92.49,183.06 C84.34,187.99 76.69,194.44 72,202.72 C68.54,208.82 67.62,216.03 68,223.05 \" fill=\"none\" id=\"E8-&gt;E6\" style=\"stroke: #383838; stroke-width: 1.0; stroke-dasharray: 7.0,7.0;\"/><polygon fill=\"#383838\" points=\"68.97,231.14,71.0061,222.8421,65.0479,223.5494,68.97,231.14\" style=\"stroke: #383838; stroke-width: 1.0;\"/><text fill=\"#000000\" font-family=\"sans-serif\" font-size=\"13\" lengthAdjust=\"spacingAndGlyphs\" textLength=\"64\" x=\"73\" y=\"215.7869\">«depend»</text></a><!--MD5=[bfa3c8b0d15052fdf50ae9310b491027]\n",
       "link E8 to E7--><a href=\"psysml:ef6c4171-27e8-4274-afa9-e3f35902caaf\" target=\"_top\" title=\"psysml:ef6c4171-27e8-4274-afa9-e3f35902caaf\" xlink:actuate=\"onRequest\" xlink:href=\"psysml:ef6c4171-27e8-4274-afa9-e3f35902caaf\" xlink:show=\"new\" xlink:title=\"psysml:ef6c4171-27e8-4274-afa9-e3f35902caaf\" xlink:type=\"simple\"><path d=\"M142.19,191.29 C148.65,201.34 156.38,213.37 163.31,224.14 \" fill=\"none\" id=\"E8-&gt;E7\" style=\"stroke: #383838; stroke-width: 1.0; stroke-dasharray: 7.0,7.0;\"/><polygon fill=\"#383838\" points=\"167.72,231.01,165.9148,222.6589,160.8688,225.905,167.72,231.01\" style=\"stroke: #383838; stroke-width: 1.0;\"/><text fill=\"#000000\" font-family=\"sans-serif\" font-size=\"13\" lengthAdjust=\"spacingAndGlyphs\" textLength=\"64\" x=\"160\" y=\"215.7869\">«depend»</text></a><!--MD5=[ee314aa3091ca962b79c6a8c86e32ef7]\n",
       "@startuml\r\n",
       "skinparam ranksep 10\r\n",
       "skinparam rectangle {\r\n",
       " backgroundColor<<block>> LightGreen\r\n",
       "}\r\n",
       " skinparam monochrome true\r\n",
       "skinparam classbackgroundcolor white\r\n",
       "skinparam shadowing false\r\n",
       "skinparam wrapWidth 300\r\n",
       "hide circle\r\n",
       "\r\n",
       "package \"DependencyTest\" as E1  [[psysml:fa3e9fbf-effa-4977-80ec-fe6e8fa57f4d ]]  {\r\n",
       "package \"System\" as E2  [[psysml:10c1ae57-66e9-4db6-bc3d-37ac2db9914a ]]  {\r\n",
       "package \"Application Layer\" as E3  [[psysml:f00bbef0-e3df-4574-9254-08b97b82cdf9 ]]  {\r\n",
       "}\r\n",
       "package \"Service Layer\" as E4  [[psysml:ca2e3746-a8d0-4883-91df-79f98ad99c0c ]]  {\r\n",
       "}\r\n",
       "package \"Data Layer\" as E5  [[psysml:31612912-620e-4f5b-bfbe-0087437cb05d ]]  {\r\n",
       "}\r\n",
       "}\r\n",
       "comp usage \"x \" as E6  <<(T,blue) attribute>> [[psysml:af126b68-a763-4b5e-ae0f-74aa81d9e434 ]] {\r\n",
       "}\r\n",
       "comp usage \"y \" as E7  <<(T,blue) attribute>> [[psysml:a5153252-c77e-42e1-a87d-8eb1cf591399 ]] {\r\n",
       "}\r\n",
       "comp usage \"z \" as E8  <<(T,blue) attribute>> [[psysml:4fcd16ab-62c7-48db-8542-d458ee8b30b8 ]] {\r\n",
       "}\r\n",
       "}\r\n",
       "E1 ..> E2 [[psysml:feb54464-815e-4611-ad28-7085b6ccbd88 ]] : <<import>>*\r\n",
       "E3 ..>> E4 [[psysml:46e8547b-a8f1-46c9-aa96-df26a1cf1e34 ]] : <<depend>>\r\n",
       "E4 ..>> E5 [[psysml:4580f085-b870-4b86-bde9-338fd4cc0a1d ]] : <<depend>>\r\n",
       "E8 ..>> E6 [[psysml:ef6c4171-27e8-4274-afa9-e3f35902caaf ]] : <<depend>>\r\n",
       "E8 ..>> E7 [[psysml:ef6c4171-27e8-4274-afa9-e3f35902caaf ]] : <<depend>>\r\n",
       "@enduml\r\n",
       "\n",
       "PlantUML version 1.2020.13(Sat Jun 13 12:26:38 UTC 2020)\n",
       "(EPL source distribution)\n",
       "Java Runtime: OpenJDK Runtime Environment\n",
       "JVM: OpenJDK 64-Bit Server VM\n",
       "Default Encoding: UTF-8\n",
       "Language: en\n",
       "Country: null\n",
       "--></g></svg>"
      ]
     },
     "execution_count": 5,
     "metadata": {},
     "output_type": "execute_result"
    }
   ],
   "source": [
    "%viz --style=\"COMPTREE\" --view=\"Interconnection\" \"DependencyTest\""
   ]
  },
  {
   "cell_type": "code",
   "execution_count": 6,
   "id": "ebab8e9c",
   "metadata": {
    "execution": {
     "iopub.execute_input": "2022-04-22T09:48:05.913191Z",
     "iopub.status.busy": "2022-04-22T09:48:05.912750Z",
     "iopub.status.idle": "2022-04-22T09:48:05.922313Z",
     "shell.execute_reply": "2022-04-22T09:48:05.922639Z"
    }
   },
   "outputs": [
    {
     "data": {
      "image/svg+xml": [
       "<?xml version=\"1.0\" encoding=\"UTF-8\" standalone=\"no\"?><svg xmlns=\"http://www.w3.org/2000/svg\" xmlns:xlink=\"http://www.w3.org/1999/xlink\" contentScriptType=\"application/ecmascript\" contentStyleType=\"text/css\" height=\"12px\" preserveAspectRatio=\"none\" style=\"width:12px;height:12px;\" version=\"1.1\" viewBox=\"0 0 12 12\" width=\"12px\" zoomAndPan=\"magnify\"><defs/><g><!--MD5=[655b888544ca4751ea36af1068543f84]\n",
       "@startuml\r\n",
       "skinparam ranksep 8\r\n",
       " skinparam monochrome true\r\n",
       "skinparam classbackgroundcolor white\r\n",
       "skinparam shadowing false\r\n",
       "skinparam wrapWidth 300\r\n",
       "hide circle\r\n",
       "\r\n",
       "@enduml\r\n",
       "\n",
       "PlantUML version 1.2020.13(Sat Jun 13 12:26:38 UTC 2020)\n",
       "(EPL source distribution)\n",
       "Java Runtime: OpenJDK Runtime Environment\n",
       "JVM: OpenJDK 64-Bit Server VM\n",
       "Default Encoding: UTF-8\n",
       "Language: en\n",
       "Country: null\n",
       "--></g></svg>"
      ]
     },
     "execution_count": 6,
     "metadata": {},
     "output_type": "execute_result"
    }
   ],
   "source": [
    "%viz --style=\"COMPTREE\" --view=\"Action\" \"DependencyTest\""
   ]
  },
  {
   "cell_type": "code",
   "execution_count": 7,
   "id": "100576c1",
   "metadata": {
    "execution": {
     "iopub.execute_input": "2022-04-22T09:48:05.973006Z",
     "iopub.status.busy": "2022-04-22T09:48:05.972581Z",
     "iopub.status.idle": "2022-04-22T09:48:05.984934Z",
     "shell.execute_reply": "2022-04-22T09:48:05.985252Z"
    }
   },
   "outputs": [
    {
     "data": {
      "image/svg+xml": [
       "<?xml version=\"1.0\" encoding=\"UTF-8\" standalone=\"no\"?><svg xmlns=\"http://www.w3.org/2000/svg\" xmlns:xlink=\"http://www.w3.org/1999/xlink\" contentScriptType=\"application/ecmascript\" contentStyleType=\"text/css\" height=\"12px\" preserveAspectRatio=\"none\" style=\"width:12px;height:12px;\" version=\"1.1\" viewBox=\"0 0 12 12\" width=\"12px\" zoomAndPan=\"magnify\"><defs/><g><!--MD5=[803fc46c337be7a5c8a9831e35356779]\n",
       "@startuml\r\n",
       "skinparam roundcorner 20\r\n",
       "skinparam BoxPadding 20\r\n",
       "skinparam SequenceBoxBackgroundColor #white\r\n",
       "skinparam style strictuml\r\n",
       "skinparam maxMessageSize 100\r\n",
       " skinparam monochrome true\r\n",
       "skinparam classbackgroundcolor white\r\n",
       "skinparam shadowing false\r\n",
       "skinparam wrapWidth 300\r\n",
       "hide circle\r\n",
       "\r\n",
       "@enduml\r\n",
       "\n",
       "PlantUML version 1.2020.13(Sat Jun 13 12:26:38 UTC 2020)\n",
       "(EPL source distribution)\n",
       "Java Runtime: OpenJDK Runtime Environment\n",
       "JVM: OpenJDK 64-Bit Server VM\n",
       "Default Encoding: UTF-8\n",
       "Language: en\n",
       "Country: null\n",
       "--></g></svg>"
      ]
     },
     "execution_count": 7,
     "metadata": {},
     "output_type": "execute_result"
    }
   ],
   "source": [
    "%viz --style=\"COMPTREE\" --view=\"Sequence\" \"DependencyTest\""
   ]
  },
  {
   "cell_type": "code",
   "execution_count": 8,
   "id": "2506bfa2",
   "metadata": {
    "execution": {
     "iopub.execute_input": "2022-04-22T09:48:06.035846Z",
     "iopub.status.busy": "2022-04-22T09:48:06.035362Z",
     "iopub.status.idle": "2022-04-22T09:48:06.099868Z",
     "shell.execute_reply": "2022-04-22T09:48:06.099366Z"
    }
   },
   "outputs": [
    {
     "data": {
      "image/svg+xml": [
       "<?xml version=\"1.0\" encoding=\"UTF-8\" standalone=\"no\"?><svg xmlns=\"http://www.w3.org/2000/svg\" xmlns:xlink=\"http://www.w3.org/1999/xlink\" contentScriptType=\"application/ecmascript\" contentStyleType=\"text/css\" height=\"552px\" preserveAspectRatio=\"none\" style=\"width:536px;height:552px;\" version=\"1.1\" viewBox=\"0 0 536 552\" width=\"536px\" zoomAndPan=\"magnify\"><defs/><g><!--MD5=[fbc87193dbaf4d95561dea2c320d4a47]\n",
       "cluster E1--><a href=\"psysml:fa3e9fbf-effa-4977-80ec-fe6e8fa57f4d\" target=\"_top\" title=\"psysml:fa3e9fbf-effa-4977-80ec-fe6e8fa57f4d\" xlink:actuate=\"onRequest\" xlink:href=\"psysml:fa3e9fbf-effa-4977-80ec-fe6e8fa57f4d\" xlink:show=\"new\" xlink:title=\"psysml:fa3e9fbf-effa-4977-80ec-fe6e8fa57f4d\" xlink:type=\"simple\"><polygon fill=\"#FFFFFF\" points=\"16,6,142,6,149,28.2969,514,28.2969,514,540.72,16,540.72,16,6\" style=\"stroke: #000000; stroke-width: 1.5;\"/><line style=\"stroke: #000000; stroke-width: 1.5;\" x1=\"16\" x2=\"149\" y1=\"28.2969\" y2=\"28.2969\"/><text fill=\"#000000\" font-family=\"sans-serif\" font-size=\"14\" font-weight=\"bold\" lengthAdjust=\"spacingAndGlyphs\" textLength=\"120\" x=\"20\" y=\"20.9951\">DependencyTest</text></a><!--MD5=[e4f7fae6ed58524ba242bb0b0d3be6b7]\n",
       "cluster E2--><a href=\"psysml:10c1ae57-66e9-4db6-bc3d-37ac2db9914a\" target=\"_top\" title=\"psysml:10c1ae57-66e9-4db6-bc3d-37ac2db9914a\" xlink:actuate=\"onRequest\" xlink:href=\"psysml:10c1ae57-66e9-4db6-bc3d-37ac2db9914a\" xlink:show=\"new\" xlink:title=\"psysml:10c1ae57-66e9-4db6-bc3d-37ac2db9914a\" xlink:type=\"simple\"><polygon fill=\"#FFFFFF\" points=\"271,120.72,328,120.72,335,143.0169,474,143.0169,474,500.72,271,500.72,271,120.72\" style=\"stroke: #000000; stroke-width: 1.5;\"/><line style=\"stroke: #000000; stroke-width: 1.5;\" x1=\"271\" x2=\"335\" y1=\"143.0169\" y2=\"143.0169\"/><text fill=\"#000000\" font-family=\"sans-serif\" font-size=\"14\" font-weight=\"bold\" lengthAdjust=\"spacingAndGlyphs\" textLength=\"51\" x=\"275\" y=\"135.7151\">System</text></a><!--MD5=[60a26617385b1d2d0262a64233df1f8d]\n",
       "class E6--><a href=\"psysml:af126b68-a763-4b5e-ae0f-74aa81d9e434\" target=\"_top\" title=\"psysml:af126b68-a763-4b5e-ae0f-74aa81d9e434\" xlink:actuate=\"onRequest\" xlink:href=\"psysml:af126b68-a763-4b5e-ae0f-74aa81d9e434\" xlink:show=\"new\" xlink:title=\"psysml:af126b68-a763-4b5e-ae0f-74aa81d9e434\" xlink:type=\"simple\"><rect fill=\"#FFFFFF\" height=\"45.9375\" id=\"E6\" rx=\"10\" ry=\"10\" style=\"stroke: #383838; stroke-width: 1.5;\" width=\"71\" x=\"40.5\" y=\"297.22\"/><text fill=\"#000000\" font-family=\"sans-serif\" font-size=\"12\" font-style=\"italic\" lengthAdjust=\"spacingAndGlyphs\" textLength=\"69\" x=\"41.5\" y=\"313.3587\">«attribute»</text><text fill=\"#000000\" font-family=\"sans-serif\" font-size=\"12\" lengthAdjust=\"spacingAndGlyphs\" textLength=\"6\" x=\"71\" y=\"327.3274\">x</text><line style=\"stroke: #383838; stroke-width: 1.5;\" x1=\"41.5\" x2=\"110.5\" y1=\"335.1575\" y2=\"335.1575\"/></a><!--MD5=[2156ba9850f5573cc1fc38a6a4b2f02b]\n",
       "class E7--><a href=\"psysml:a5153252-c77e-42e1-a87d-8eb1cf591399\" target=\"_top\" title=\"psysml:a5153252-c77e-42e1-a87d-8eb1cf591399\" xlink:actuate=\"onRequest\" xlink:href=\"psysml:a5153252-c77e-42e1-a87d-8eb1cf591399\" xlink:show=\"new\" xlink:title=\"psysml:a5153252-c77e-42e1-a87d-8eb1cf591399\" xlink:type=\"simple\"><rect fill=\"#FFFFFF\" height=\"45.9375\" id=\"E7\" rx=\"10\" ry=\"10\" style=\"stroke: #383838; stroke-width: 1.5;\" width=\"71\" x=\"146.5\" y=\"297.22\"/><text fill=\"#000000\" font-family=\"sans-serif\" font-size=\"12\" font-style=\"italic\" lengthAdjust=\"spacingAndGlyphs\" textLength=\"69\" x=\"147.5\" y=\"313.3587\">«attribute»</text><text fill=\"#000000\" font-family=\"sans-serif\" font-size=\"12\" lengthAdjust=\"spacingAndGlyphs\" textLength=\"6\" x=\"177\" y=\"327.3274\">y</text><line style=\"stroke: #383838; stroke-width: 1.5;\" x1=\"147.5\" x2=\"216.5\" y1=\"335.1575\" y2=\"335.1575\"/></a><!--MD5=[b9389687b975829384b498ac4b7476b2]\n",
       "class E8--><a href=\"psysml:4fcd16ab-62c7-48db-8542-d458ee8b30b8\" target=\"_top\" title=\"psysml:4fcd16ab-62c7-48db-8542-d458ee8b30b8\" xlink:actuate=\"onRequest\" xlink:href=\"psysml:4fcd16ab-62c7-48db-8542-d458ee8b30b8\" xlink:show=\"new\" xlink:title=\"psysml:4fcd16ab-62c7-48db-8542-d458ee8b30b8\" xlink:type=\"simple\"><rect fill=\"#FFFFFF\" height=\"45.9375\" id=\"E8\" rx=\"10\" ry=\"10\" style=\"stroke: #383838; stroke-width: 1.5;\" width=\"71\" x=\"92.5\" y=\"167.22\"/><text fill=\"#000000\" font-family=\"sans-serif\" font-size=\"12\" font-style=\"italic\" lengthAdjust=\"spacingAndGlyphs\" textLength=\"69\" x=\"93.5\" y=\"183.3587\">«attribute»</text><text fill=\"#000000\" font-family=\"sans-serif\" font-size=\"12\" lengthAdjust=\"spacingAndGlyphs\" textLength=\"5\" x=\"123.5\" y=\"197.3274\">z</text><line style=\"stroke: #383838; stroke-width: 1.5;\" x1=\"93.5\" x2=\"162.5\" y1=\"205.1575\" y2=\"205.1575\"/></a><a href=\"psysml:f00bbef0-e3df-4574-9254-08b97b82cdf9\" target=\"_top\" title=\"psysml:f00bbef0-e3df-4574-9254-08b97b82cdf9\" xlink:actuate=\"onRequest\" xlink:href=\"psysml:f00bbef0-e3df-4574-9254-08b97b82cdf9\" xlink:show=\"new\" xlink:title=\"psysml:f00bbef0-e3df-4574-9254-08b97b82cdf9\" xlink:type=\"simple\"><polygon fill=\"#FFFFFF\" points=\"314.5,163.72,435.5,163.72,442.5,186.0169,449.5,186.0169,449.5,216.3138,314.5,216.3138,314.5,163.72\" style=\"stroke: #000000; stroke-width: 1.5;\"/><line style=\"stroke: #000000; stroke-width: 1.5;\" x1=\"314.5\" x2=\"442.5\" y1=\"186.0169\" y2=\"186.0169\"/><text fill=\"#000000\" font-family=\"sans-serif\" font-size=\"14\" font-weight=\"bold\" lengthAdjust=\"spacingAndGlyphs\" textLength=\"115\" x=\"318.5\" y=\"178.7151\">Application Layer</text></a><a href=\"psysml:ca2e3746-a8d0-4883-91df-79f98ad99c0c\" target=\"_top\" title=\"psysml:ca2e3746-a8d0-4883-91df-79f98ad99c0c\" xlink:actuate=\"onRequest\" xlink:href=\"psysml:ca2e3746-a8d0-4883-91df-79f98ad99c0c\" xlink:show=\"new\" xlink:title=\"psysml:ca2e3746-a8d0-4883-91df-79f98ad99c0c\" xlink:type=\"simple\"><polygon fill=\"#FFFFFF\" points=\"327,293.72,423,293.72,430,316.0169,437,316.0169,437,346.3138,327,346.3138,327,293.72\" style=\"stroke: #000000; stroke-width: 1.5;\"/><line style=\"stroke: #000000; stroke-width: 1.5;\" x1=\"327\" x2=\"430\" y1=\"316.0169\" y2=\"316.0169\"/><text fill=\"#000000\" font-family=\"sans-serif\" font-size=\"14\" font-weight=\"bold\" lengthAdjust=\"spacingAndGlyphs\" textLength=\"90\" x=\"331\" y=\"308.7151\">Service Layer</text></a><a href=\"psysml:31612912-620e-4f5b-bfbe-0087437cb05d\" target=\"_top\" title=\"psysml:31612912-620e-4f5b-bfbe-0087437cb05d\" xlink:actuate=\"onRequest\" xlink:href=\"psysml:31612912-620e-4f5b-bfbe-0087437cb05d\" xlink:show=\"new\" xlink:title=\"psysml:31612912-620e-4f5b-bfbe-0087437cb05d\" xlink:type=\"simple\"><polygon fill=\"#FFFFFF\" points=\"336,423.72,414,423.72,421,446.0169,428,446.0169,428,476.3138,336,476.3138,336,423.72\" style=\"stroke: #000000; stroke-width: 1.5;\"/><line style=\"stroke: #000000; stroke-width: 1.5;\" x1=\"336\" x2=\"421\" y1=\"446.0169\" y2=\"446.0169\"/><text fill=\"#000000\" font-family=\"sans-serif\" font-size=\"14\" font-weight=\"bold\" lengthAdjust=\"spacingAndGlyphs\" textLength=\"72\" x=\"340\" y=\"438.7151\">Data Layer</text></a><!--MD5=[1f1cd8e6dd4c1b2ca2aaccc9b9bcea6e]\n",
       "link E1 to E2--><a href=\"psysml:feb54464-815e-4611-ad28-7085b6ccbd88\" target=\"_top\" title=\"psysml:feb54464-815e-4611-ad28-7085b6ccbd88\" xlink:actuate=\"onRequest\" xlink:href=\"psysml:feb54464-815e-4611-ad28-7085b6ccbd88\" xlink:show=\"new\" xlink:title=\"psysml:feb54464-815e-4611-ad28-7085b6ccbd88\" xlink:type=\"simple\"><path d=\"M279,33.83 C279,36.15 279,73.83 279,111.5 C279,113.8544 279,116.2087 279,118.5544 C279,119.1408 279,119.7267 279,120.3119 \" fill=\"none\" id=\"E1-&gt;E2\" style=\"stroke: #383838; stroke-width: 1.0; stroke-dasharray: 7.0,7.0;\"/><polygon fill=\"#383838\" points=\"279,120.3119,283,111.3119,279,115.3119,275,111.3119,279,120.3119\" style=\"stroke: #383838; stroke-width: 1.0;\"/><text fill=\"#000000\" font-family=\"sans-serif\" font-size=\"13\" lengthAdjust=\"spacingAndGlyphs\" textLength=\"65\" x=\"280\" y=\"76.7869\">«import»*</text></a><!--MD5=[af87c684e3b0d8be13c1a698a818ef1e]\n",
       "link E3 to E4--><a href=\"psysml:46e8547b-a8f1-46c9-aa96-df26a1cf1e34\" target=\"_top\" title=\"psysml:46e8547b-a8f1-46c9-aa96-df26a1cf1e34\" xlink:actuate=\"onRequest\" xlink:href=\"psysml:46e8547b-a8f1-46c9-aa96-df26a1cf1e34\" xlink:show=\"new\" xlink:title=\"psysml:46e8547b-a8f1-46c9-aa96-df26a1cf1e34\" xlink:type=\"simple\"><path d=\"M382,216.82 C382,236.52 382,263.94 382,285.45 \" fill=\"none\" id=\"E3-&gt;E4\" style=\"stroke: #383838; stroke-width: 1.0; stroke-dasharray: 7.0,7.0;\"/><polygon fill=\"#383838\" points=\"382,293.67,385,285.67,379,285.67,382,293.67\" style=\"stroke: #383838; stroke-width: 1.0;\"/><text fill=\"#000000\" font-family=\"sans-serif\" font-size=\"13\" lengthAdjust=\"spacingAndGlyphs\" textLength=\"64\" x=\"383\" y=\"259.7869\">«depend»</text></a><!--MD5=[1b7591eae5389033d8d09a9d6721a717]\n",
       "link E4 to E5--><a href=\"psysml:4580f085-b870-4b86-bde9-338fd4cc0a1d\" target=\"_top\" title=\"psysml:4580f085-b870-4b86-bde9-338fd4cc0a1d\" xlink:actuate=\"onRequest\" xlink:href=\"psysml:4580f085-b870-4b86-bde9-338fd4cc0a1d\" xlink:show=\"new\" xlink:title=\"psysml:4580f085-b870-4b86-bde9-338fd4cc0a1d\" xlink:type=\"simple\"><path d=\"M382,346.82 C382,366.52 382,393.94 382,415.45 \" fill=\"none\" id=\"E4-&gt;E5\" style=\"stroke: #383838; stroke-width: 1.0; stroke-dasharray: 7.0,7.0;\"/><polygon fill=\"#383838\" points=\"382,423.67,385,415.67,379,415.67,382,423.67\" style=\"stroke: #383838; stroke-width: 1.0;\"/><text fill=\"#000000\" font-family=\"sans-serif\" font-size=\"13\" lengthAdjust=\"spacingAndGlyphs\" textLength=\"64\" x=\"383\" y=\"389.7869\">«depend»</text></a><!--MD5=[c5e8897d989ce984f93528998a7150fe]\n",
       "link E8 to E6--><a href=\"psysml:ef6c4171-27e8-4274-afa9-e3f35902caaf\" target=\"_top\" title=\"psysml:ef6c4171-27e8-4274-afa9-e3f35902caaf\" xlink:actuate=\"onRequest\" xlink:href=\"psysml:ef6c4171-27e8-4274-afa9-e3f35902caaf\" xlink:show=\"new\" xlink:title=\"psysml:ef6c4171-27e8-4274-afa9-e3f35902caaf\" xlink:type=\"simple\"><path d=\"M97.42,213.32 C87.35,222.4 77.37,233.83 72,246.72 C66.5,259.92 66.66,275.66 68.54,289.1 \" fill=\"none\" id=\"E8-&gt;E6\" style=\"stroke: #383838; stroke-width: 1.0; stroke-dasharray: 7.0,7.0;\"/><polygon fill=\"#383838\" points=\"69.9,297.12,71.517,288.7304,65.6018,289.7359,69.9,297.12\" style=\"stroke: #383838; stroke-width: 1.0;\"/><text fill=\"#000000\" font-family=\"sans-serif\" font-size=\"13\" lengthAdjust=\"spacingAndGlyphs\" textLength=\"64\" x=\"73\" y=\"259.7869\">«depend»</text></a><!--MD5=[bfa3c8b0d15052fdf50ae9310b491027]\n",
       "link E8 to E7--><a href=\"psysml:ef6c4171-27e8-4274-afa9-e3f35902caaf\" target=\"_top\" title=\"psysml:ef6c4171-27e8-4274-afa9-e3f35902caaf\" xlink:actuate=\"onRequest\" xlink:href=\"psysml:ef6c4171-27e8-4274-afa9-e3f35902caaf\" xlink:show=\"new\" xlink:title=\"psysml:ef6c4171-27e8-4274-afa9-e3f35902caaf\" xlink:type=\"simple\"><path d=\"M137.28,213.22 C146.17,234.29 159.64,266.22 169.47,289.53 \" fill=\"none\" id=\"E8-&gt;E7\" style=\"stroke: #383838; stroke-width: 1.0; stroke-dasharray: 7.0,7.0;\"/><polygon fill=\"#383838\" points=\"172.66,297.07,172.3241,288.5326,166.7933,290.8585,172.66,297.07\" style=\"stroke: #383838; stroke-width: 1.0;\"/><text fill=\"#000000\" font-family=\"sans-serif\" font-size=\"13\" lengthAdjust=\"spacingAndGlyphs\" textLength=\"64\" x=\"159\" y=\"259.7869\">«depend»</text></a><!--MD5=[71fa8b799594f8f983feb7c296f858d9]\n",
       "@startuml\r\n",
       " skinparam monochrome true\r\n",
       "skinparam classbackgroundcolor white\r\n",
       "skinparam shadowing false\r\n",
       "skinparam wrapWidth 300\r\n",
       "hide circle\r\n",
       "\r\n",
       "package \"DependencyTest\" as E1  [[psysml:fa3e9fbf-effa-4977-80ec-fe6e8fa57f4d ]]  {\r\n",
       "package \"System\" as E2  [[psysml:10c1ae57-66e9-4db6-bc3d-37ac2db9914a ]]  {\r\n",
       "package \"Application Layer\" as E3  [[psysml:f00bbef0-e3df-4574-9254-08b97b82cdf9 ]]  {\r\n",
       "}\r\n",
       "package \"Service Layer\" as E4  [[psysml:ca2e3746-a8d0-4883-91df-79f98ad99c0c ]]  {\r\n",
       "}\r\n",
       "package \"Data Layer\" as E5  [[psysml:31612912-620e-4f5b-bfbe-0087437cb05d ]]  {\r\n",
       "}\r\n",
       "}\r\n",
       "comp usage \"x \" as E6  <<(T,blue) attribute>> [[psysml:af126b68-a763-4b5e-ae0f-74aa81d9e434 ]] {\r\n",
       "}\r\n",
       "comp usage \"y \" as E7  <<(T,blue) attribute>> [[psysml:a5153252-c77e-42e1-a87d-8eb1cf591399 ]] {\r\n",
       "}\r\n",
       "comp usage \"z \" as E8  <<(T,blue) attribute>> [[psysml:4fcd16ab-62c7-48db-8542-d458ee8b30b8 ]] {\r\n",
       "}\r\n",
       "}\r\n",
       "E1 ..> E2 [[psysml:feb54464-815e-4611-ad28-7085b6ccbd88 ]] : <<import>>*\r\n",
       "E3 ..>> E4 [[psysml:46e8547b-a8f1-46c9-aa96-df26a1cf1e34 ]] : <<depend>>\r\n",
       "E4 ..>> E5 [[psysml:4580f085-b870-4b86-bde9-338fd4cc0a1d ]] : <<depend>>\r\n",
       "E8 ..>> E6 [[psysml:ef6c4171-27e8-4274-afa9-e3f35902caaf ]] : <<depend>>\r\n",
       "E8 ..>> E7 [[psysml:ef6c4171-27e8-4274-afa9-e3f35902caaf ]] : <<depend>>\r\n",
       "@enduml\r\n",
       "\n",
       "PlantUML version 1.2020.13(Sat Jun 13 12:26:38 UTC 2020)\n",
       "(EPL source distribution)\n",
       "Java Runtime: OpenJDK Runtime Environment\n",
       "JVM: OpenJDK 64-Bit Server VM\n",
       "Default Encoding: UTF-8\n",
       "Language: en\n",
       "Country: null\n",
       "--></g></svg>"
      ]
     },
     "execution_count": 8,
     "metadata": {},
     "output_type": "execute_result"
    }
   ],
   "source": [
    "%viz --style=\"COMPTREE\" --view=\"MIXED\" \"DependencyTest\""
   ]
  },
  {
   "cell_type": "code",
   "execution_count": 9,
   "id": "efc0d024",
   "metadata": {
    "execution": {
     "iopub.execute_input": "2022-04-22T09:48:06.149144Z",
     "iopub.status.busy": "2022-04-22T09:48:06.148715Z",
     "iopub.status.idle": "2022-04-22T09:48:06.202477Z",
     "shell.execute_reply": "2022-04-22T09:48:06.202896Z"
    }
   },
   "outputs": [
    {
     "data": {
      "image/svg+xml": [
       "<?xml version=\"1.0\" encoding=\"UTF-8\" standalone=\"no\"?><svg xmlns=\"http://www.w3.org/2000/svg\" xmlns:xlink=\"http://www.w3.org/1999/xlink\" contentScriptType=\"application/ecmascript\" contentStyleType=\"text/css\" height=\"552px\" preserveAspectRatio=\"none\" style=\"width:536px;height:552px;\" version=\"1.1\" viewBox=\"0 0 536 552\" width=\"536px\" zoomAndPan=\"magnify\"><defs/><g><!--MD5=[fbc87193dbaf4d95561dea2c320d4a47]\n",
       "cluster E1--><a href=\"psysml:fa3e9fbf-effa-4977-80ec-fe6e8fa57f4d\" target=\"_top\" title=\"psysml:fa3e9fbf-effa-4977-80ec-fe6e8fa57f4d\" xlink:actuate=\"onRequest\" xlink:href=\"psysml:fa3e9fbf-effa-4977-80ec-fe6e8fa57f4d\" xlink:show=\"new\" xlink:title=\"psysml:fa3e9fbf-effa-4977-80ec-fe6e8fa57f4d\" xlink:type=\"simple\"><polygon fill=\"#FFFFFF\" points=\"16,6,142,6,149,28.2969,514,28.2969,514,540.72,16,540.72,16,6\" style=\"stroke: #000000; stroke-width: 1.5;\"/><line style=\"stroke: #000000; stroke-width: 1.5;\" x1=\"16\" x2=\"149\" y1=\"28.2969\" y2=\"28.2969\"/><text fill=\"#000000\" font-family=\"sans-serif\" font-size=\"14\" font-weight=\"bold\" lengthAdjust=\"spacingAndGlyphs\" textLength=\"120\" x=\"20\" y=\"20.9951\">DependencyTest</text></a><!--MD5=[e4f7fae6ed58524ba242bb0b0d3be6b7]\n",
       "cluster E2--><a href=\"psysml:10c1ae57-66e9-4db6-bc3d-37ac2db9914a\" target=\"_top\" title=\"psysml:10c1ae57-66e9-4db6-bc3d-37ac2db9914a\" xlink:actuate=\"onRequest\" xlink:href=\"psysml:10c1ae57-66e9-4db6-bc3d-37ac2db9914a\" xlink:show=\"new\" xlink:title=\"psysml:10c1ae57-66e9-4db6-bc3d-37ac2db9914a\" xlink:type=\"simple\"><polygon fill=\"#FFFFFF\" points=\"271,120.72,328,120.72,335,143.0169,474,143.0169,474,500.72,271,500.72,271,120.72\" style=\"stroke: #000000; stroke-width: 1.5;\"/><line style=\"stroke: #000000; stroke-width: 1.5;\" x1=\"271\" x2=\"335\" y1=\"143.0169\" y2=\"143.0169\"/><text fill=\"#000000\" font-family=\"sans-serif\" font-size=\"14\" font-weight=\"bold\" lengthAdjust=\"spacingAndGlyphs\" textLength=\"51\" x=\"275\" y=\"135.7151\">System</text></a><!--MD5=[60a26617385b1d2d0262a64233df1f8d]\n",
       "class E6--><a href=\"psysml:af126b68-a763-4b5e-ae0f-74aa81d9e434\" target=\"_top\" title=\"psysml:af126b68-a763-4b5e-ae0f-74aa81d9e434\" xlink:actuate=\"onRequest\" xlink:href=\"psysml:af126b68-a763-4b5e-ae0f-74aa81d9e434\" xlink:show=\"new\" xlink:title=\"psysml:af126b68-a763-4b5e-ae0f-74aa81d9e434\" xlink:type=\"simple\"><rect fill=\"#FFFFFF\" height=\"45.9375\" id=\"E6\" rx=\"10\" ry=\"10\" style=\"stroke: #383838; stroke-width: 1.5;\" width=\"71\" x=\"40.5\" y=\"297.22\"/><text fill=\"#000000\" font-family=\"sans-serif\" font-size=\"12\" font-style=\"italic\" lengthAdjust=\"spacingAndGlyphs\" textLength=\"69\" x=\"41.5\" y=\"313.3587\">«attribute»</text><text fill=\"#000000\" font-family=\"sans-serif\" font-size=\"12\" lengthAdjust=\"spacingAndGlyphs\" textLength=\"6\" x=\"71\" y=\"327.3274\">x</text><line style=\"stroke: #383838; stroke-width: 1.5;\" x1=\"41.5\" x2=\"110.5\" y1=\"335.1575\" y2=\"335.1575\"/></a><!--MD5=[2156ba9850f5573cc1fc38a6a4b2f02b]\n",
       "class E7--><a href=\"psysml:a5153252-c77e-42e1-a87d-8eb1cf591399\" target=\"_top\" title=\"psysml:a5153252-c77e-42e1-a87d-8eb1cf591399\" xlink:actuate=\"onRequest\" xlink:href=\"psysml:a5153252-c77e-42e1-a87d-8eb1cf591399\" xlink:show=\"new\" xlink:title=\"psysml:a5153252-c77e-42e1-a87d-8eb1cf591399\" xlink:type=\"simple\"><rect fill=\"#FFFFFF\" height=\"45.9375\" id=\"E7\" rx=\"10\" ry=\"10\" style=\"stroke: #383838; stroke-width: 1.5;\" width=\"71\" x=\"146.5\" y=\"297.22\"/><text fill=\"#000000\" font-family=\"sans-serif\" font-size=\"12\" font-style=\"italic\" lengthAdjust=\"spacingAndGlyphs\" textLength=\"69\" x=\"147.5\" y=\"313.3587\">«attribute»</text><text fill=\"#000000\" font-family=\"sans-serif\" font-size=\"12\" lengthAdjust=\"spacingAndGlyphs\" textLength=\"6\" x=\"177\" y=\"327.3274\">y</text><line style=\"stroke: #383838; stroke-width: 1.5;\" x1=\"147.5\" x2=\"216.5\" y1=\"335.1575\" y2=\"335.1575\"/></a><!--MD5=[b9389687b975829384b498ac4b7476b2]\n",
       "class E8--><a href=\"psysml:4fcd16ab-62c7-48db-8542-d458ee8b30b8\" target=\"_top\" title=\"psysml:4fcd16ab-62c7-48db-8542-d458ee8b30b8\" xlink:actuate=\"onRequest\" xlink:href=\"psysml:4fcd16ab-62c7-48db-8542-d458ee8b30b8\" xlink:show=\"new\" xlink:title=\"psysml:4fcd16ab-62c7-48db-8542-d458ee8b30b8\" xlink:type=\"simple\"><rect fill=\"#FFFFFF\" height=\"45.9375\" id=\"E8\" rx=\"10\" ry=\"10\" style=\"stroke: #383838; stroke-width: 1.5;\" width=\"71\" x=\"92.5\" y=\"167.22\"/><text fill=\"#000000\" font-family=\"sans-serif\" font-size=\"12\" font-style=\"italic\" lengthAdjust=\"spacingAndGlyphs\" textLength=\"69\" x=\"93.5\" y=\"183.3587\">«attribute»</text><text fill=\"#000000\" font-family=\"sans-serif\" font-size=\"12\" lengthAdjust=\"spacingAndGlyphs\" textLength=\"5\" x=\"123.5\" y=\"197.3274\">z</text><line style=\"stroke: #383838; stroke-width: 1.5;\" x1=\"93.5\" x2=\"162.5\" y1=\"205.1575\" y2=\"205.1575\"/></a><a href=\"psysml:f00bbef0-e3df-4574-9254-08b97b82cdf9\" target=\"_top\" title=\"psysml:f00bbef0-e3df-4574-9254-08b97b82cdf9\" xlink:actuate=\"onRequest\" xlink:href=\"psysml:f00bbef0-e3df-4574-9254-08b97b82cdf9\" xlink:show=\"new\" xlink:title=\"psysml:f00bbef0-e3df-4574-9254-08b97b82cdf9\" xlink:type=\"simple\"><polygon fill=\"#FFFFFF\" points=\"314.5,163.72,435.5,163.72,442.5,186.0169,449.5,186.0169,449.5,216.3138,314.5,216.3138,314.5,163.72\" style=\"stroke: #000000; stroke-width: 1.5;\"/><line style=\"stroke: #000000; stroke-width: 1.5;\" x1=\"314.5\" x2=\"442.5\" y1=\"186.0169\" y2=\"186.0169\"/><text fill=\"#000000\" font-family=\"sans-serif\" font-size=\"14\" font-weight=\"bold\" lengthAdjust=\"spacingAndGlyphs\" textLength=\"115\" x=\"318.5\" y=\"178.7151\">Application Layer</text></a><a href=\"psysml:ca2e3746-a8d0-4883-91df-79f98ad99c0c\" target=\"_top\" title=\"psysml:ca2e3746-a8d0-4883-91df-79f98ad99c0c\" xlink:actuate=\"onRequest\" xlink:href=\"psysml:ca2e3746-a8d0-4883-91df-79f98ad99c0c\" xlink:show=\"new\" xlink:title=\"psysml:ca2e3746-a8d0-4883-91df-79f98ad99c0c\" xlink:type=\"simple\"><polygon fill=\"#FFFFFF\" points=\"327,293.72,423,293.72,430,316.0169,437,316.0169,437,346.3138,327,346.3138,327,293.72\" style=\"stroke: #000000; stroke-width: 1.5;\"/><line style=\"stroke: #000000; stroke-width: 1.5;\" x1=\"327\" x2=\"430\" y1=\"316.0169\" y2=\"316.0169\"/><text fill=\"#000000\" font-family=\"sans-serif\" font-size=\"14\" font-weight=\"bold\" lengthAdjust=\"spacingAndGlyphs\" textLength=\"90\" x=\"331\" y=\"308.7151\">Service Layer</text></a><a href=\"psysml:31612912-620e-4f5b-bfbe-0087437cb05d\" target=\"_top\" title=\"psysml:31612912-620e-4f5b-bfbe-0087437cb05d\" xlink:actuate=\"onRequest\" xlink:href=\"psysml:31612912-620e-4f5b-bfbe-0087437cb05d\" xlink:show=\"new\" xlink:title=\"psysml:31612912-620e-4f5b-bfbe-0087437cb05d\" xlink:type=\"simple\"><polygon fill=\"#FFFFFF\" points=\"336,423.72,414,423.72,421,446.0169,428,446.0169,428,476.3138,336,476.3138,336,423.72\" style=\"stroke: #000000; stroke-width: 1.5;\"/><line style=\"stroke: #000000; stroke-width: 1.5;\" x1=\"336\" x2=\"421\" y1=\"446.0169\" y2=\"446.0169\"/><text fill=\"#000000\" font-family=\"sans-serif\" font-size=\"14\" font-weight=\"bold\" lengthAdjust=\"spacingAndGlyphs\" textLength=\"72\" x=\"340\" y=\"438.7151\">Data Layer</text></a><!--MD5=[1f1cd8e6dd4c1b2ca2aaccc9b9bcea6e]\n",
       "link E1 to E2--><a href=\"psysml:feb54464-815e-4611-ad28-7085b6ccbd88\" target=\"_top\" title=\"psysml:feb54464-815e-4611-ad28-7085b6ccbd88\" xlink:actuate=\"onRequest\" xlink:href=\"psysml:feb54464-815e-4611-ad28-7085b6ccbd88\" xlink:show=\"new\" xlink:title=\"psysml:feb54464-815e-4611-ad28-7085b6ccbd88\" xlink:type=\"simple\"><path d=\"M279,33.83 C279,36.15 279,73.83 279,111.5 C279,113.8544 279,116.2087 279,118.5544 C279,119.1408 279,119.7267 279,120.3119 \" fill=\"none\" id=\"E1-&gt;E2\" style=\"stroke: #383838; stroke-width: 1.0; stroke-dasharray: 7.0,7.0;\"/><polygon fill=\"#383838\" points=\"279,120.3119,283,111.3119,279,115.3119,275,111.3119,279,120.3119\" style=\"stroke: #383838; stroke-width: 1.0;\"/><text fill=\"#000000\" font-family=\"sans-serif\" font-size=\"13\" lengthAdjust=\"spacingAndGlyphs\" textLength=\"65\" x=\"280\" y=\"76.7869\">«import»*</text></a><!--MD5=[af87c684e3b0d8be13c1a698a818ef1e]\n",
       "link E3 to E4--><a href=\"psysml:46e8547b-a8f1-46c9-aa96-df26a1cf1e34\" target=\"_top\" title=\"psysml:46e8547b-a8f1-46c9-aa96-df26a1cf1e34\" xlink:actuate=\"onRequest\" xlink:href=\"psysml:46e8547b-a8f1-46c9-aa96-df26a1cf1e34\" xlink:show=\"new\" xlink:title=\"psysml:46e8547b-a8f1-46c9-aa96-df26a1cf1e34\" xlink:type=\"simple\"><path d=\"M382,216.82 C382,236.52 382,263.94 382,285.45 \" fill=\"none\" id=\"E3-&gt;E4\" style=\"stroke: #383838; stroke-width: 1.0; stroke-dasharray: 7.0,7.0;\"/><polygon fill=\"#383838\" points=\"382,293.67,385,285.67,379,285.67,382,293.67\" style=\"stroke: #383838; stroke-width: 1.0;\"/><text fill=\"#000000\" font-family=\"sans-serif\" font-size=\"13\" lengthAdjust=\"spacingAndGlyphs\" textLength=\"64\" x=\"383\" y=\"259.7869\">«depend»</text></a><!--MD5=[1b7591eae5389033d8d09a9d6721a717]\n",
       "link E4 to E5--><a href=\"psysml:4580f085-b870-4b86-bde9-338fd4cc0a1d\" target=\"_top\" title=\"psysml:4580f085-b870-4b86-bde9-338fd4cc0a1d\" xlink:actuate=\"onRequest\" xlink:href=\"psysml:4580f085-b870-4b86-bde9-338fd4cc0a1d\" xlink:show=\"new\" xlink:title=\"psysml:4580f085-b870-4b86-bde9-338fd4cc0a1d\" xlink:type=\"simple\"><path d=\"M382,346.82 C382,366.52 382,393.94 382,415.45 \" fill=\"none\" id=\"E4-&gt;E5\" style=\"stroke: #383838; stroke-width: 1.0; stroke-dasharray: 7.0,7.0;\"/><polygon fill=\"#383838\" points=\"382,423.67,385,415.67,379,415.67,382,423.67\" style=\"stroke: #383838; stroke-width: 1.0;\"/><text fill=\"#000000\" font-family=\"sans-serif\" font-size=\"13\" lengthAdjust=\"spacingAndGlyphs\" textLength=\"64\" x=\"383\" y=\"389.7869\">«depend»</text></a><!--MD5=[c5e8897d989ce984f93528998a7150fe]\n",
       "link E8 to E6--><a href=\"psysml:ef6c4171-27e8-4274-afa9-e3f35902caaf\" target=\"_top\" title=\"psysml:ef6c4171-27e8-4274-afa9-e3f35902caaf\" xlink:actuate=\"onRequest\" xlink:href=\"psysml:ef6c4171-27e8-4274-afa9-e3f35902caaf\" xlink:show=\"new\" xlink:title=\"psysml:ef6c4171-27e8-4274-afa9-e3f35902caaf\" xlink:type=\"simple\"><path d=\"M105.55,213.47 C89.97,228.91 72,246.72 72,246.72 C72,246.72 72,263.72 72,263.72 C72,263.72 72.88,275.93 73.81,288.9 \" fill=\"none\" id=\"E8-&gt;E6\" style=\"stroke: #383838; stroke-width: 1.0; stroke-dasharray: 7.0,7.0;\"/><polygon fill=\"#383838\" points=\"74.4,296.97,76.8203,288.776,70.8357,289.205,74.4,296.97\" style=\"stroke: #383838; stroke-width: 1.0;\"/><text fill=\"#000000\" font-family=\"sans-serif\" font-size=\"13\" lengthAdjust=\"spacingAndGlyphs\" textLength=\"64\" x=\"73\" y=\"259.7869\">«depend»</text></a><!--MD5=[bfa3c8b0d15052fdf50ae9310b491027]\n",
       "link E8 to E7--><a href=\"psysml:ef6c4171-27e8-4274-afa9-e3f35902caaf\" target=\"_top\" title=\"psysml:ef6c4171-27e8-4274-afa9-e3f35902caaf\" xlink:actuate=\"onRequest\" xlink:href=\"psysml:ef6c4171-27e8-4274-afa9-e3f35902caaf\" xlink:show=\"new\" xlink:title=\"psysml:ef6c4171-27e8-4274-afa9-e3f35902caaf\" xlink:type=\"simple\"><path d=\"M137.28,213.22 C146.17,234.29 159.64,266.22 169.47,289.53 \" fill=\"none\" id=\"E8-&gt;E7\" style=\"stroke: #383838; stroke-width: 1.0; stroke-dasharray: 7.0,7.0;\"/><polygon fill=\"#383838\" points=\"172.66,297.07,172.3241,288.5326,166.7933,290.8585,172.66,297.07\" style=\"stroke: #383838; stroke-width: 1.0;\"/><text fill=\"#000000\" font-family=\"sans-serif\" font-size=\"13\" lengthAdjust=\"spacingAndGlyphs\" textLength=\"64\" x=\"159\" y=\"259.7869\">«depend»</text></a><!--MD5=[07785a73799e9d0c1f8003e8c0adb875]\n",
       "@startuml\r\n",
       "skinparam linetype polyline\r\n",
       "skinparam monochrome true\r\n",
       "skinparam classbackgroundcolor white\r\n",
       "skinparam shadowing false\r\n",
       "skinparam wrapWidth 300\r\n",
       "hide circle\r\n",
       "\r\n",
       "package \"DependencyTest\" as E1  [[psysml:fa3e9fbf-effa-4977-80ec-fe6e8fa57f4d ]]  {\r\n",
       "package \"System\" as E2  [[psysml:10c1ae57-66e9-4db6-bc3d-37ac2db9914a ]]  {\r\n",
       "package \"Application Layer\" as E3  [[psysml:f00bbef0-e3df-4574-9254-08b97b82cdf9 ]]  {\r\n",
       "}\r\n",
       "package \"Service Layer\" as E4  [[psysml:ca2e3746-a8d0-4883-91df-79f98ad99c0c ]]  {\r\n",
       "}\r\n",
       "package \"Data Layer\" as E5  [[psysml:31612912-620e-4f5b-bfbe-0087437cb05d ]]  {\r\n",
       "}\r\n",
       "}\r\n",
       "comp usage \"x \" as E6  <<(T,blue) attribute>> [[psysml:af126b68-a763-4b5e-ae0f-74aa81d9e434 ]] {\r\n",
       "}\r\n",
       "comp usage \"y \" as E7  <<(T,blue) attribute>> [[psysml:a5153252-c77e-42e1-a87d-8eb1cf591399 ]] {\r\n",
       "}\r\n",
       "comp usage \"z \" as E8  <<(T,blue) attribute>> [[psysml:4fcd16ab-62c7-48db-8542-d458ee8b30b8 ]] {\r\n",
       "}\r\n",
       "}\r\n",
       "E1 ..> E2 [[psysml:feb54464-815e-4611-ad28-7085b6ccbd88 ]] : <<import>>*\r\n",
       "E3 ..>> E4 [[psysml:46e8547b-a8f1-46c9-aa96-df26a1cf1e34 ]] : <<depend>>\r\n",
       "E4 ..>> E5 [[psysml:4580f085-b870-4b86-bde9-338fd4cc0a1d ]] : <<depend>>\r\n",
       "E8 ..>> E6 [[psysml:ef6c4171-27e8-4274-afa9-e3f35902caaf ]] : <<depend>>\r\n",
       "E8 ..>> E7 [[psysml:ef6c4171-27e8-4274-afa9-e3f35902caaf ]] : <<depend>>\r\n",
       "@enduml\r\n",
       "\n",
       "PlantUML version 1.2020.13(Sat Jun 13 12:26:38 UTC 2020)\n",
       "(EPL source distribution)\n",
       "Java Runtime: OpenJDK Runtime Environment\n",
       "JVM: OpenJDK 64-Bit Server VM\n",
       "Default Encoding: UTF-8\n",
       "Language: en\n",
       "Country: null\n",
       "--></g></svg>"
      ]
     },
     "execution_count": 9,
     "metadata": {},
     "output_type": "execute_result"
    }
   ],
   "source": [
    "%viz --style=\"POLYLINE\" --view=\"Default\" \"DependencyTest\""
   ]
  },
  {
   "cell_type": "code",
   "execution_count": 10,
   "id": "db418263",
   "metadata": {
    "execution": {
     "iopub.execute_input": "2022-04-22T09:48:06.252963Z",
     "iopub.status.busy": "2022-04-22T09:48:06.252489Z",
     "iopub.status.idle": "2022-04-22T09:48:06.313714Z",
     "shell.execute_reply": "2022-04-22T09:48:06.313326Z"
    }
   },
   "outputs": [
    {
     "data": {
      "image/svg+xml": [
       "<?xml version=\"1.0\" encoding=\"UTF-8\" standalone=\"no\"?><svg xmlns=\"http://www.w3.org/2000/svg\" xmlns:xlink=\"http://www.w3.org/1999/xlink\" contentScriptType=\"application/ecmascript\" contentStyleType=\"text/css\" height=\"552px\" preserveAspectRatio=\"none\" style=\"width:536px;height:552px;\" version=\"1.1\" viewBox=\"0 0 536 552\" width=\"536px\" zoomAndPan=\"magnify\"><defs/><g><!--MD5=[fbc87193dbaf4d95561dea2c320d4a47]\n",
       "cluster E1--><a href=\"psysml:fa3e9fbf-effa-4977-80ec-fe6e8fa57f4d\" target=\"_top\" title=\"psysml:fa3e9fbf-effa-4977-80ec-fe6e8fa57f4d\" xlink:actuate=\"onRequest\" xlink:href=\"psysml:fa3e9fbf-effa-4977-80ec-fe6e8fa57f4d\" xlink:show=\"new\" xlink:title=\"psysml:fa3e9fbf-effa-4977-80ec-fe6e8fa57f4d\" xlink:type=\"simple\"><polygon fill=\"#FFFFFF\" points=\"16,6,142,6,149,28.2969,514,28.2969,514,540.72,16,540.72,16,6\" style=\"stroke: #000000; stroke-width: 1.5;\"/><line style=\"stroke: #000000; stroke-width: 1.5;\" x1=\"16\" x2=\"149\" y1=\"28.2969\" y2=\"28.2969\"/><text fill=\"#000000\" font-family=\"sans-serif\" font-size=\"14\" font-weight=\"bold\" lengthAdjust=\"spacingAndGlyphs\" textLength=\"120\" x=\"20\" y=\"20.9951\">DependencyTest</text></a><!--MD5=[e4f7fae6ed58524ba242bb0b0d3be6b7]\n",
       "cluster E2--><a href=\"psysml:10c1ae57-66e9-4db6-bc3d-37ac2db9914a\" target=\"_top\" title=\"psysml:10c1ae57-66e9-4db6-bc3d-37ac2db9914a\" xlink:actuate=\"onRequest\" xlink:href=\"psysml:10c1ae57-66e9-4db6-bc3d-37ac2db9914a\" xlink:show=\"new\" xlink:title=\"psysml:10c1ae57-66e9-4db6-bc3d-37ac2db9914a\" xlink:type=\"simple\"><polygon fill=\"#FFFFFF\" points=\"271,120.72,328,120.72,335,143.0169,474,143.0169,474,500.72,271,500.72,271,120.72\" style=\"stroke: #000000; stroke-width: 1.5;\"/><line style=\"stroke: #000000; stroke-width: 1.5;\" x1=\"271\" x2=\"335\" y1=\"143.0169\" y2=\"143.0169\"/><text fill=\"#000000\" font-family=\"sans-serif\" font-size=\"14\" font-weight=\"bold\" lengthAdjust=\"spacingAndGlyphs\" textLength=\"51\" x=\"275\" y=\"135.7151\">System</text></a><!--MD5=[60a26617385b1d2d0262a64233df1f8d]\n",
       "class E6--><a href=\"psysml:af126b68-a763-4b5e-ae0f-74aa81d9e434\" target=\"_top\" title=\"psysml:af126b68-a763-4b5e-ae0f-74aa81d9e434\" xlink:actuate=\"onRequest\" xlink:href=\"psysml:af126b68-a763-4b5e-ae0f-74aa81d9e434\" xlink:show=\"new\" xlink:title=\"psysml:af126b68-a763-4b5e-ae0f-74aa81d9e434\" xlink:type=\"simple\"><rect fill=\"#FFFFFF\" height=\"45.9375\" id=\"E6\" rx=\"10\" ry=\"10\" style=\"stroke: #383838; stroke-width: 1.5;\" width=\"71\" x=\"40.5\" y=\"297.22\"/><text fill=\"#000000\" font-family=\"sans-serif\" font-size=\"12\" font-style=\"italic\" lengthAdjust=\"spacingAndGlyphs\" textLength=\"69\" x=\"41.5\" y=\"313.3587\">«attribute»</text><text fill=\"#000000\" font-family=\"sans-serif\" font-size=\"12\" lengthAdjust=\"spacingAndGlyphs\" textLength=\"6\" x=\"71\" y=\"327.3274\">x</text><line style=\"stroke: #383838; stroke-width: 1.5;\" x1=\"41.5\" x2=\"110.5\" y1=\"335.1575\" y2=\"335.1575\"/></a><!--MD5=[2156ba9850f5573cc1fc38a6a4b2f02b]\n",
       "class E7--><a href=\"psysml:a5153252-c77e-42e1-a87d-8eb1cf591399\" target=\"_top\" title=\"psysml:a5153252-c77e-42e1-a87d-8eb1cf591399\" xlink:actuate=\"onRequest\" xlink:href=\"psysml:a5153252-c77e-42e1-a87d-8eb1cf591399\" xlink:show=\"new\" xlink:title=\"psysml:a5153252-c77e-42e1-a87d-8eb1cf591399\" xlink:type=\"simple\"><rect fill=\"#FFFFFF\" height=\"45.9375\" id=\"E7\" rx=\"10\" ry=\"10\" style=\"stroke: #383838; stroke-width: 1.5;\" width=\"71\" x=\"146.5\" y=\"297.22\"/><text fill=\"#000000\" font-family=\"sans-serif\" font-size=\"12\" font-style=\"italic\" lengthAdjust=\"spacingAndGlyphs\" textLength=\"69\" x=\"147.5\" y=\"313.3587\">«attribute»</text><text fill=\"#000000\" font-family=\"sans-serif\" font-size=\"12\" lengthAdjust=\"spacingAndGlyphs\" textLength=\"6\" x=\"177\" y=\"327.3274\">y</text><line style=\"stroke: #383838; stroke-width: 1.5;\" x1=\"147.5\" x2=\"216.5\" y1=\"335.1575\" y2=\"335.1575\"/></a><!--MD5=[b9389687b975829384b498ac4b7476b2]\n",
       "class E8--><a href=\"psysml:4fcd16ab-62c7-48db-8542-d458ee8b30b8\" target=\"_top\" title=\"psysml:4fcd16ab-62c7-48db-8542-d458ee8b30b8\" xlink:actuate=\"onRequest\" xlink:href=\"psysml:4fcd16ab-62c7-48db-8542-d458ee8b30b8\" xlink:show=\"new\" xlink:title=\"psysml:4fcd16ab-62c7-48db-8542-d458ee8b30b8\" xlink:type=\"simple\"><rect fill=\"#FFFFFF\" height=\"45.9375\" id=\"E8\" rx=\"10\" ry=\"10\" style=\"stroke: #383838; stroke-width: 1.5;\" width=\"71\" x=\"92.5\" y=\"167.22\"/><text fill=\"#000000\" font-family=\"sans-serif\" font-size=\"12\" font-style=\"italic\" lengthAdjust=\"spacingAndGlyphs\" textLength=\"69\" x=\"93.5\" y=\"183.3587\">«attribute»</text><text fill=\"#000000\" font-family=\"sans-serif\" font-size=\"12\" lengthAdjust=\"spacingAndGlyphs\" textLength=\"5\" x=\"123.5\" y=\"197.3274\">z</text><line style=\"stroke: #383838; stroke-width: 1.5;\" x1=\"93.5\" x2=\"162.5\" y1=\"205.1575\" y2=\"205.1575\"/></a><a href=\"psysml:f00bbef0-e3df-4574-9254-08b97b82cdf9\" target=\"_top\" title=\"psysml:f00bbef0-e3df-4574-9254-08b97b82cdf9\" xlink:actuate=\"onRequest\" xlink:href=\"psysml:f00bbef0-e3df-4574-9254-08b97b82cdf9\" xlink:show=\"new\" xlink:title=\"psysml:f00bbef0-e3df-4574-9254-08b97b82cdf9\" xlink:type=\"simple\"><polygon fill=\"#FFFFFF\" points=\"314.5,163.72,435.5,163.72,442.5,186.0169,449.5,186.0169,449.5,216.3138,314.5,216.3138,314.5,163.72\" style=\"stroke: #000000; stroke-width: 1.5;\"/><line style=\"stroke: #000000; stroke-width: 1.5;\" x1=\"314.5\" x2=\"442.5\" y1=\"186.0169\" y2=\"186.0169\"/><text fill=\"#000000\" font-family=\"sans-serif\" font-size=\"14\" font-weight=\"bold\" lengthAdjust=\"spacingAndGlyphs\" textLength=\"115\" x=\"318.5\" y=\"178.7151\">Application Layer</text></a><a href=\"psysml:ca2e3746-a8d0-4883-91df-79f98ad99c0c\" target=\"_top\" title=\"psysml:ca2e3746-a8d0-4883-91df-79f98ad99c0c\" xlink:actuate=\"onRequest\" xlink:href=\"psysml:ca2e3746-a8d0-4883-91df-79f98ad99c0c\" xlink:show=\"new\" xlink:title=\"psysml:ca2e3746-a8d0-4883-91df-79f98ad99c0c\" xlink:type=\"simple\"><polygon fill=\"#FFFFFF\" points=\"327,293.72,423,293.72,430,316.0169,437,316.0169,437,346.3138,327,346.3138,327,293.72\" style=\"stroke: #000000; stroke-width: 1.5;\"/><line style=\"stroke: #000000; stroke-width: 1.5;\" x1=\"327\" x2=\"430\" y1=\"316.0169\" y2=\"316.0169\"/><text fill=\"#000000\" font-family=\"sans-serif\" font-size=\"14\" font-weight=\"bold\" lengthAdjust=\"spacingAndGlyphs\" textLength=\"90\" x=\"331\" y=\"308.7151\">Service Layer</text></a><a href=\"psysml:31612912-620e-4f5b-bfbe-0087437cb05d\" target=\"_top\" title=\"psysml:31612912-620e-4f5b-bfbe-0087437cb05d\" xlink:actuate=\"onRequest\" xlink:href=\"psysml:31612912-620e-4f5b-bfbe-0087437cb05d\" xlink:show=\"new\" xlink:title=\"psysml:31612912-620e-4f5b-bfbe-0087437cb05d\" xlink:type=\"simple\"><polygon fill=\"#FFFFFF\" points=\"336,423.72,414,423.72,421,446.0169,428,446.0169,428,476.3138,336,476.3138,336,423.72\" style=\"stroke: #000000; stroke-width: 1.5;\"/><line style=\"stroke: #000000; stroke-width: 1.5;\" x1=\"336\" x2=\"421\" y1=\"446.0169\" y2=\"446.0169\"/><text fill=\"#000000\" font-family=\"sans-serif\" font-size=\"14\" font-weight=\"bold\" lengthAdjust=\"spacingAndGlyphs\" textLength=\"72\" x=\"340\" y=\"438.7151\">Data Layer</text></a><!--MD5=[1f1cd8e6dd4c1b2ca2aaccc9b9bcea6e]\n",
       "link E1 to E2--><a href=\"psysml:feb54464-815e-4611-ad28-7085b6ccbd88\" target=\"_top\" title=\"psysml:feb54464-815e-4611-ad28-7085b6ccbd88\" xlink:actuate=\"onRequest\" xlink:href=\"psysml:feb54464-815e-4611-ad28-7085b6ccbd88\" xlink:show=\"new\" xlink:title=\"psysml:feb54464-815e-4611-ad28-7085b6ccbd88\" xlink:type=\"simple\"><path d=\"M279,33.83 C279,36.15 279,73.83 279,111.5 C279,113.8544 279,116.2087 279,118.5544 C279,119.1408 279,119.7267 279,120.3119 \" fill=\"none\" id=\"E1-&gt;E2\" style=\"stroke: #383838; stroke-width: 1.0; stroke-dasharray: 7.0,7.0;\"/><polygon fill=\"#383838\" points=\"279,120.3119,283,111.3119,279,115.3119,275,111.3119,279,120.3119\" style=\"stroke: #383838; stroke-width: 1.0;\"/><text fill=\"#000000\" font-family=\"sans-serif\" font-size=\"13\" lengthAdjust=\"spacingAndGlyphs\" textLength=\"65\" x=\"280\" y=\"76.7869\">«import»*</text></a><!--MD5=[af87c684e3b0d8be13c1a698a818ef1e]\n",
       "link E3 to E4--><a href=\"psysml:46e8547b-a8f1-46c9-aa96-df26a1cf1e34\" target=\"_top\" title=\"psysml:46e8547b-a8f1-46c9-aa96-df26a1cf1e34\" xlink:actuate=\"onRequest\" xlink:href=\"psysml:46e8547b-a8f1-46c9-aa96-df26a1cf1e34\" xlink:show=\"new\" xlink:title=\"psysml:46e8547b-a8f1-46c9-aa96-df26a1cf1e34\" xlink:type=\"simple\"><path d=\"M382,216.82 C382,236.52 382,263.94 382,285.45 \" fill=\"none\" id=\"E3-&gt;E4\" style=\"stroke: #383838; stroke-width: 1.0; stroke-dasharray: 7.0,7.0;\"/><polygon fill=\"#383838\" points=\"382,293.67,385,285.67,379,285.67,382,293.67\" style=\"stroke: #383838; stroke-width: 1.0;\"/><text fill=\"#000000\" font-family=\"sans-serif\" font-size=\"13\" lengthAdjust=\"spacingAndGlyphs\" textLength=\"64\" x=\"383\" y=\"259.7869\">«depend»</text></a><!--MD5=[1b7591eae5389033d8d09a9d6721a717]\n",
       "link E4 to E5--><a href=\"psysml:4580f085-b870-4b86-bde9-338fd4cc0a1d\" target=\"_top\" title=\"psysml:4580f085-b870-4b86-bde9-338fd4cc0a1d\" xlink:actuate=\"onRequest\" xlink:href=\"psysml:4580f085-b870-4b86-bde9-338fd4cc0a1d\" xlink:show=\"new\" xlink:title=\"psysml:4580f085-b870-4b86-bde9-338fd4cc0a1d\" xlink:type=\"simple\"><path d=\"M382,346.82 C382,366.52 382,393.94 382,415.45 \" fill=\"none\" id=\"E4-&gt;E5\" style=\"stroke: #383838; stroke-width: 1.0; stroke-dasharray: 7.0,7.0;\"/><polygon fill=\"#383838\" points=\"382,423.67,385,415.67,379,415.67,382,423.67\" style=\"stroke: #383838; stroke-width: 1.0;\"/><text fill=\"#000000\" font-family=\"sans-serif\" font-size=\"13\" lengthAdjust=\"spacingAndGlyphs\" textLength=\"64\" x=\"383\" y=\"389.7869\">«depend»</text></a><!--MD5=[c5e8897d989ce984f93528998a7150fe]\n",
       "link E8 to E6--><a href=\"psysml:ef6c4171-27e8-4274-afa9-e3f35902caaf\" target=\"_top\" title=\"psysml:ef6c4171-27e8-4274-afa9-e3f35902caaf\" xlink:actuate=\"onRequest\" xlink:href=\"psysml:ef6c4171-27e8-4274-afa9-e3f35902caaf\" xlink:show=\"new\" xlink:title=\"psysml:ef6c4171-27e8-4274-afa9-e3f35902caaf\" xlink:type=\"simple\"><path d=\"M105.55,213.47 C89.97,228.91 72,246.72 72,246.72 C72,246.72 72,263.72 72,263.72 C72,263.72 72.88,275.93 73.81,288.9 \" fill=\"none\" id=\"E8-&gt;E6\" style=\"stroke: #383838; stroke-width: 1.0; stroke-dasharray: 7.0,7.0;\"/><polygon fill=\"#383838\" points=\"74.4,296.97,76.8203,288.776,70.8357,289.205,74.4,296.97\" style=\"stroke: #383838; stroke-width: 1.0;\"/><text fill=\"#000000\" font-family=\"sans-serif\" font-size=\"13\" lengthAdjust=\"spacingAndGlyphs\" textLength=\"64\" x=\"73\" y=\"259.7869\">«depend»</text></a><!--MD5=[bfa3c8b0d15052fdf50ae9310b491027]\n",
       "link E8 to E7--><a href=\"psysml:ef6c4171-27e8-4274-afa9-e3f35902caaf\" target=\"_top\" title=\"psysml:ef6c4171-27e8-4274-afa9-e3f35902caaf\" xlink:actuate=\"onRequest\" xlink:href=\"psysml:ef6c4171-27e8-4274-afa9-e3f35902caaf\" xlink:show=\"new\" xlink:title=\"psysml:ef6c4171-27e8-4274-afa9-e3f35902caaf\" xlink:type=\"simple\"><path d=\"M137.28,213.22 C146.17,234.29 159.64,266.22 169.47,289.53 \" fill=\"none\" id=\"E8-&gt;E7\" style=\"stroke: #383838; stroke-width: 1.0; stroke-dasharray: 7.0,7.0;\"/><polygon fill=\"#383838\" points=\"172.66,297.07,172.3241,288.5326,166.7933,290.8585,172.66,297.07\" style=\"stroke: #383838; stroke-width: 1.0;\"/><text fill=\"#000000\" font-family=\"sans-serif\" font-size=\"13\" lengthAdjust=\"spacingAndGlyphs\" textLength=\"64\" x=\"159\" y=\"259.7869\">«depend»</text></a><!--MD5=[07785a73799e9d0c1f8003e8c0adb875]\n",
       "@startuml\r\n",
       "skinparam linetype polyline\r\n",
       "skinparam monochrome true\r\n",
       "skinparam classbackgroundcolor white\r\n",
       "skinparam shadowing false\r\n",
       "skinparam wrapWidth 300\r\n",
       "hide circle\r\n",
       "\r\n",
       "package \"DependencyTest\" as E1  [[psysml:fa3e9fbf-effa-4977-80ec-fe6e8fa57f4d ]]  {\r\n",
       "package \"System\" as E2  [[psysml:10c1ae57-66e9-4db6-bc3d-37ac2db9914a ]]  {\r\n",
       "package \"Application Layer\" as E3  [[psysml:f00bbef0-e3df-4574-9254-08b97b82cdf9 ]]  {\r\n",
       "}\r\n",
       "package \"Service Layer\" as E4  [[psysml:ca2e3746-a8d0-4883-91df-79f98ad99c0c ]]  {\r\n",
       "}\r\n",
       "package \"Data Layer\" as E5  [[psysml:31612912-620e-4f5b-bfbe-0087437cb05d ]]  {\r\n",
       "}\r\n",
       "}\r\n",
       "comp usage \"x \" as E6  <<(T,blue) attribute>> [[psysml:af126b68-a763-4b5e-ae0f-74aa81d9e434 ]] {\r\n",
       "}\r\n",
       "comp usage \"y \" as E7  <<(T,blue) attribute>> [[psysml:a5153252-c77e-42e1-a87d-8eb1cf591399 ]] {\r\n",
       "}\r\n",
       "comp usage \"z \" as E8  <<(T,blue) attribute>> [[psysml:4fcd16ab-62c7-48db-8542-d458ee8b30b8 ]] {\r\n",
       "}\r\n",
       "}\r\n",
       "E1 ..> E2 [[psysml:feb54464-815e-4611-ad28-7085b6ccbd88 ]] : <<import>>*\r\n",
       "E3 ..>> E4 [[psysml:46e8547b-a8f1-46c9-aa96-df26a1cf1e34 ]] : <<depend>>\r\n",
       "E4 ..>> E5 [[psysml:4580f085-b870-4b86-bde9-338fd4cc0a1d ]] : <<depend>>\r\n",
       "E8 ..>> E6 [[psysml:ef6c4171-27e8-4274-afa9-e3f35902caaf ]] : <<depend>>\r\n",
       "E8 ..>> E7 [[psysml:ef6c4171-27e8-4274-afa9-e3f35902caaf ]] : <<depend>>\r\n",
       "@enduml\r\n",
       "\n",
       "PlantUML version 1.2020.13(Sat Jun 13 12:26:38 UTC 2020)\n",
       "(EPL source distribution)\n",
       "Java Runtime: OpenJDK Runtime Environment\n",
       "JVM: OpenJDK 64-Bit Server VM\n",
       "Default Encoding: UTF-8\n",
       "Language: en\n",
       "Country: null\n",
       "--></g></svg>"
      ]
     },
     "execution_count": 10,
     "metadata": {},
     "output_type": "execute_result"
    }
   ],
   "source": [
    "%viz --style=\"POLYLINE\" --view=\"Tree\" \"DependencyTest\""
   ]
  },
  {
   "cell_type": "code",
   "execution_count": 11,
   "id": "451b81d7",
   "metadata": {
    "execution": {
     "iopub.execute_input": "2022-04-22T09:48:06.363359Z",
     "iopub.status.busy": "2022-04-22T09:48:06.362920Z",
     "iopub.status.idle": "2022-04-22T09:48:06.370323Z",
     "shell.execute_reply": "2022-04-22T09:48:06.370639Z"
    }
   },
   "outputs": [
    {
     "data": {
      "image/svg+xml": [
       "<?xml version=\"1.0\" encoding=\"UTF-8\" standalone=\"no\"?><svg xmlns=\"http://www.w3.org/2000/svg\" xmlns:xlink=\"http://www.w3.org/1999/xlink\" contentScriptType=\"application/ecmascript\" contentStyleType=\"text/css\" height=\"12px\" preserveAspectRatio=\"none\" style=\"width:12px;height:12px;\" version=\"1.1\" viewBox=\"0 0 12 12\" width=\"12px\" zoomAndPan=\"magnify\"><defs/><g><!--MD5=[896ac0e7a515d8dd7765a661cb4ee08b]\n",
       "@startuml\r\n",
       "skinparam linetype polyline\r\n",
       "skinparam monochrome true\r\n",
       "skinparam classbackgroundcolor white\r\n",
       "skinparam shadowing false\r\n",
       "skinparam wrapWidth 300\r\n",
       "hide circle\r\n",
       "\r\n",
       "@enduml\r\n",
       "\n",
       "PlantUML version 1.2020.13(Sat Jun 13 12:26:38 UTC 2020)\n",
       "(EPL source distribution)\n",
       "Java Runtime: OpenJDK Runtime Environment\n",
       "JVM: OpenJDK 64-Bit Server VM\n",
       "Default Encoding: UTF-8\n",
       "Language: en\n",
       "Country: null\n",
       "--></g></svg>"
      ]
     },
     "execution_count": 11,
     "metadata": {},
     "output_type": "execute_result"
    }
   ],
   "source": [
    "%viz --style=\"POLYLINE\" --view=\"State\" \"DependencyTest\""
   ]
  },
  {
   "cell_type": "code",
   "execution_count": 12,
   "id": "fd423425",
   "metadata": {
    "execution": {
     "iopub.execute_input": "2022-04-22T09:48:06.421061Z",
     "iopub.status.busy": "2022-04-22T09:48:06.420660Z",
     "iopub.status.idle": "2022-04-22T09:48:06.470019Z",
     "shell.execute_reply": "2022-04-22T09:48:06.470317Z"
    }
   },
   "outputs": [
    {
     "data": {
      "image/svg+xml": [
       "<?xml version=\"1.0\" encoding=\"UTF-8\" standalone=\"no\"?><svg xmlns=\"http://www.w3.org/2000/svg\" xmlns:xlink=\"http://www.w3.org/1999/xlink\" contentScriptType=\"application/ecmascript\" contentStyleType=\"text/css\" height=\"442px\" preserveAspectRatio=\"none\" style=\"width:536px;height:442px;\" version=\"1.1\" viewBox=\"0 0 536 442\" width=\"536px\" zoomAndPan=\"magnify\"><defs/><g><!--MD5=[fbc87193dbaf4d95561dea2c320d4a47]\n",
       "cluster E1--><a href=\"psysml:fa3e9fbf-effa-4977-80ec-fe6e8fa57f4d\" target=\"_top\" title=\"psysml:fa3e9fbf-effa-4977-80ec-fe6e8fa57f4d\" xlink:actuate=\"onRequest\" xlink:href=\"psysml:fa3e9fbf-effa-4977-80ec-fe6e8fa57f4d\" xlink:show=\"new\" xlink:title=\"psysml:fa3e9fbf-effa-4977-80ec-fe6e8fa57f4d\" xlink:type=\"simple\"><polygon fill=\"#FFFFFF\" points=\"16,6,142,6,149,28.2969,514,28.2969,514,430.72,16,430.72,16,6\" style=\"stroke: #000000; stroke-width: 1.5;\"/><line style=\"stroke: #000000; stroke-width: 1.5;\" x1=\"16\" x2=\"149\" y1=\"28.2969\" y2=\"28.2969\"/><text fill=\"#000000\" font-family=\"sans-serif\" font-size=\"14\" font-weight=\"bold\" lengthAdjust=\"spacingAndGlyphs\" textLength=\"120\" x=\"20\" y=\"20.9951\">DependencyTest</text></a><!--MD5=[e4f7fae6ed58524ba242bb0b0d3be6b7]\n",
       "cluster E2--><a href=\"psysml:10c1ae57-66e9-4db6-bc3d-37ac2db9914a\" target=\"_top\" title=\"psysml:10c1ae57-66e9-4db6-bc3d-37ac2db9914a\" xlink:actuate=\"onRequest\" xlink:href=\"psysml:10c1ae57-66e9-4db6-bc3d-37ac2db9914a\" xlink:show=\"new\" xlink:title=\"psysml:10c1ae57-66e9-4db6-bc3d-37ac2db9914a\" xlink:type=\"simple\"><polygon fill=\"#FFFFFF\" points=\"271,98.72,328,98.72,335,121.0169,474,121.0169,474,390.72,271,390.72,271,98.72\" style=\"stroke: #000000; stroke-width: 1.5;\"/><line style=\"stroke: #000000; stroke-width: 1.5;\" x1=\"271\" x2=\"335\" y1=\"121.0169\" y2=\"121.0169\"/><text fill=\"#000000\" font-family=\"sans-serif\" font-size=\"14\" font-weight=\"bold\" lengthAdjust=\"spacingAndGlyphs\" textLength=\"51\" x=\"275\" y=\"113.7151\">System</text></a><!--MD5=[60a26617385b1d2d0262a64233df1f8d]\n",
       "class E6--><a href=\"psysml:af126b68-a763-4b5e-ae0f-74aa81d9e434\" target=\"_top\" title=\"psysml:af126b68-a763-4b5e-ae0f-74aa81d9e434\" xlink:actuate=\"onRequest\" xlink:href=\"psysml:af126b68-a763-4b5e-ae0f-74aa81d9e434\" xlink:show=\"new\" xlink:title=\"psysml:af126b68-a763-4b5e-ae0f-74aa81d9e434\" xlink:type=\"simple\"><rect fill=\"#FFFFFF\" height=\"45.9375\" id=\"E6\" rx=\"10\" ry=\"10\" style=\"stroke: #383838; stroke-width: 1.5;\" width=\"71\" x=\"40.5\" y=\"231.22\"/><text fill=\"#000000\" font-family=\"sans-serif\" font-size=\"12\" font-style=\"italic\" lengthAdjust=\"spacingAndGlyphs\" textLength=\"69\" x=\"41.5\" y=\"247.3587\">«attribute»</text><text fill=\"#000000\" font-family=\"sans-serif\" font-size=\"12\" lengthAdjust=\"spacingAndGlyphs\" textLength=\"6\" x=\"71\" y=\"261.3274\">x</text><line style=\"stroke: #383838; stroke-width: 1.5;\" x1=\"41.5\" x2=\"110.5\" y1=\"269.1575\" y2=\"269.1575\"/></a><!--MD5=[2156ba9850f5573cc1fc38a6a4b2f02b]\n",
       "class E7--><a href=\"psysml:a5153252-c77e-42e1-a87d-8eb1cf591399\" target=\"_top\" title=\"psysml:a5153252-c77e-42e1-a87d-8eb1cf591399\" xlink:actuate=\"onRequest\" xlink:href=\"psysml:a5153252-c77e-42e1-a87d-8eb1cf591399\" xlink:show=\"new\" xlink:title=\"psysml:a5153252-c77e-42e1-a87d-8eb1cf591399\" xlink:type=\"simple\"><rect fill=\"#FFFFFF\" height=\"45.9375\" id=\"E7\" rx=\"10\" ry=\"10\" style=\"stroke: #383838; stroke-width: 1.5;\" width=\"71\" x=\"146.5\" y=\"231.22\"/><text fill=\"#000000\" font-family=\"sans-serif\" font-size=\"12\" font-style=\"italic\" lengthAdjust=\"spacingAndGlyphs\" textLength=\"69\" x=\"147.5\" y=\"247.3587\">«attribute»</text><text fill=\"#000000\" font-family=\"sans-serif\" font-size=\"12\" lengthAdjust=\"spacingAndGlyphs\" textLength=\"6\" x=\"177\" y=\"261.3274\">y</text><line style=\"stroke: #383838; stroke-width: 1.5;\" x1=\"147.5\" x2=\"216.5\" y1=\"269.1575\" y2=\"269.1575\"/></a><!--MD5=[b9389687b975829384b498ac4b7476b2]\n",
       "class E8--><a href=\"psysml:4fcd16ab-62c7-48db-8542-d458ee8b30b8\" target=\"_top\" title=\"psysml:4fcd16ab-62c7-48db-8542-d458ee8b30b8\" xlink:actuate=\"onRequest\" xlink:href=\"psysml:4fcd16ab-62c7-48db-8542-d458ee8b30b8\" xlink:show=\"new\" xlink:title=\"psysml:4fcd16ab-62c7-48db-8542-d458ee8b30b8\" xlink:type=\"simple\"><rect fill=\"#FFFFFF\" height=\"45.9375\" id=\"E8\" rx=\"10\" ry=\"10\" style=\"stroke: #383838; stroke-width: 1.5;\" width=\"71\" x=\"92.5\" y=\"145.22\"/><text fill=\"#000000\" font-family=\"sans-serif\" font-size=\"12\" font-style=\"italic\" lengthAdjust=\"spacingAndGlyphs\" textLength=\"69\" x=\"93.5\" y=\"161.3587\">«attribute»</text><text fill=\"#000000\" font-family=\"sans-serif\" font-size=\"12\" lengthAdjust=\"spacingAndGlyphs\" textLength=\"5\" x=\"123.5\" y=\"175.3274\">z</text><line style=\"stroke: #383838; stroke-width: 1.5;\" x1=\"93.5\" x2=\"162.5\" y1=\"183.1575\" y2=\"183.1575\"/></a><a href=\"psysml:f00bbef0-e3df-4574-9254-08b97b82cdf9\" target=\"_top\" title=\"psysml:f00bbef0-e3df-4574-9254-08b97b82cdf9\" xlink:actuate=\"onRequest\" xlink:href=\"psysml:f00bbef0-e3df-4574-9254-08b97b82cdf9\" xlink:show=\"new\" xlink:title=\"psysml:f00bbef0-e3df-4574-9254-08b97b82cdf9\" xlink:type=\"simple\"><polygon fill=\"#FFFFFF\" points=\"314.5,141.72,435.5,141.72,442.5,164.0169,449.5,164.0169,449.5,194.3138,314.5,194.3138,314.5,141.72\" style=\"stroke: #000000; stroke-width: 1.5;\"/><line style=\"stroke: #000000; stroke-width: 1.5;\" x1=\"314.5\" x2=\"442.5\" y1=\"164.0169\" y2=\"164.0169\"/><text fill=\"#000000\" font-family=\"sans-serif\" font-size=\"14\" font-weight=\"bold\" lengthAdjust=\"spacingAndGlyphs\" textLength=\"115\" x=\"318.5\" y=\"156.7151\">Application Layer</text></a><a href=\"psysml:ca2e3746-a8d0-4883-91df-79f98ad99c0c\" target=\"_top\" title=\"psysml:ca2e3746-a8d0-4883-91df-79f98ad99c0c\" xlink:actuate=\"onRequest\" xlink:href=\"psysml:ca2e3746-a8d0-4883-91df-79f98ad99c0c\" xlink:show=\"new\" xlink:title=\"psysml:ca2e3746-a8d0-4883-91df-79f98ad99c0c\" xlink:type=\"simple\"><polygon fill=\"#FFFFFF\" points=\"327,227.72,423,227.72,430,250.0169,437,250.0169,437,280.3138,327,280.3138,327,227.72\" style=\"stroke: #000000; stroke-width: 1.5;\"/><line style=\"stroke: #000000; stroke-width: 1.5;\" x1=\"327\" x2=\"430\" y1=\"250.0169\" y2=\"250.0169\"/><text fill=\"#000000\" font-family=\"sans-serif\" font-size=\"14\" font-weight=\"bold\" lengthAdjust=\"spacingAndGlyphs\" textLength=\"90\" x=\"331\" y=\"242.7151\">Service Layer</text></a><a href=\"psysml:31612912-620e-4f5b-bfbe-0087437cb05d\" target=\"_top\" title=\"psysml:31612912-620e-4f5b-bfbe-0087437cb05d\" xlink:actuate=\"onRequest\" xlink:href=\"psysml:31612912-620e-4f5b-bfbe-0087437cb05d\" xlink:show=\"new\" xlink:title=\"psysml:31612912-620e-4f5b-bfbe-0087437cb05d\" xlink:type=\"simple\"><polygon fill=\"#FFFFFF\" points=\"336,313.72,414,313.72,421,336.0169,428,336.0169,428,366.3138,336,366.3138,336,313.72\" style=\"stroke: #000000; stroke-width: 1.5;\"/><line style=\"stroke: #000000; stroke-width: 1.5;\" x1=\"336\" x2=\"421\" y1=\"336.0169\" y2=\"336.0169\"/><text fill=\"#000000\" font-family=\"sans-serif\" font-size=\"14\" font-weight=\"bold\" lengthAdjust=\"spacingAndGlyphs\" textLength=\"72\" x=\"340\" y=\"328.7151\">Data Layer</text></a><!--MD5=[1f1cd8e6dd4c1b2ca2aaccc9b9bcea6e]\n",
       "link E1 to E2--><a href=\"psysml:feb54464-815e-4611-ad28-7085b6ccbd88\" target=\"_top\" title=\"psysml:feb54464-815e-4611-ad28-7085b6ccbd88\" xlink:actuate=\"onRequest\" xlink:href=\"psysml:feb54464-815e-4611-ad28-7085b6ccbd88\" xlink:show=\"new\" xlink:title=\"psysml:feb54464-815e-4611-ad28-7085b6ccbd88\" xlink:type=\"simple\"><path d=\"M279,33.82 C279,34.815 279,43.3994 279,55.7775 C279,61.9666 279,69.1041 279,76.7155 C279,80.5213 279,84.4455 279,88.429 C279,90.4207 279,92.4272 279,94.4411 C279,95.448 279,96.4568 279,97.4665 C279,97.719 279,97.9714 279,98.224 \" fill=\"none\" id=\"E1-&gt;E2\" style=\"stroke: #383838; stroke-width: 1.0; stroke-dasharray: 7.0,7.0;\"/><polygon fill=\"#383838\" points=\"279,98.224,283,89.224,279,93.224,275,89.224,279,98.224\" style=\"stroke: #383838; stroke-width: 1.0;\"/><text fill=\"#000000\" font-family=\"sans-serif\" font-size=\"13\" lengthAdjust=\"spacingAndGlyphs\" textLength=\"65\" x=\"280\" y=\"54.7869\">«import»*</text></a><!--MD5=[af87c684e3b0d8be13c1a698a818ef1e]\n",
       "link E3 to E4--><a href=\"psysml:46e8547b-a8f1-46c9-aa96-df26a1cf1e34\" target=\"_top\" title=\"psysml:46e8547b-a8f1-46c9-aa96-df26a1cf1e34\" xlink:actuate=\"onRequest\" xlink:href=\"psysml:46e8547b-a8f1-46c9-aa96-df26a1cf1e34\" xlink:show=\"new\" xlink:title=\"psysml:46e8547b-a8f1-46c9-aa96-df26a1cf1e34\" xlink:type=\"simple\"><path d=\"M382,194.88 C382,202.7 382,211.41 382,219.66 \" fill=\"none\" id=\"E3-&gt;E4\" style=\"stroke: #383838; stroke-width: 1.0; stroke-dasharray: 7.0,7.0;\"/><polygon fill=\"#383838\" points=\"382,227.72,385,219.72,379,219.72,382,227.72\" style=\"stroke: #383838; stroke-width: 1.0;\"/><text fill=\"#000000\" font-family=\"sans-serif\" font-size=\"13\" lengthAdjust=\"spacingAndGlyphs\" textLength=\"64\" x=\"383\" y=\"215.7869\">«depend»</text></a><!--MD5=[1b7591eae5389033d8d09a9d6721a717]\n",
       "link E4 to E5--><a href=\"psysml:4580f085-b870-4b86-bde9-338fd4cc0a1d\" target=\"_top\" title=\"psysml:4580f085-b870-4b86-bde9-338fd4cc0a1d\" xlink:actuate=\"onRequest\" xlink:href=\"psysml:4580f085-b870-4b86-bde9-338fd4cc0a1d\" xlink:show=\"new\" xlink:title=\"psysml:4580f085-b870-4b86-bde9-338fd4cc0a1d\" xlink:type=\"simple\"><path d=\"M382,280.88 C382,288.7 382,297.41 382,305.66 \" fill=\"none\" id=\"E4-&gt;E5\" style=\"stroke: #383838; stroke-width: 1.0; stroke-dasharray: 7.0,7.0;\"/><polygon fill=\"#383838\" points=\"382,313.72,385,305.72,379,305.72,382,313.72\" style=\"stroke: #383838; stroke-width: 1.0;\"/><text fill=\"#000000\" font-family=\"sans-serif\" font-size=\"13\" lengthAdjust=\"spacingAndGlyphs\" textLength=\"64\" x=\"383\" y=\"301.7869\">«depend»</text></a><!--MD5=[c5e8897d989ce984f93528998a7150fe]\n",
       "link E8 to E6--><a href=\"psysml:ef6c4171-27e8-4274-afa9-e3f35902caaf\" target=\"_top\" title=\"psysml:ef6c4171-27e8-4274-afa9-e3f35902caaf\" xlink:actuate=\"onRequest\" xlink:href=\"psysml:ef6c4171-27e8-4274-afa9-e3f35902caaf\" xlink:show=\"new\" xlink:title=\"psysml:ef6c4171-27e8-4274-afa9-e3f35902caaf\" xlink:type=\"simple\"><path d=\"M92.22,190.63 C81.24,197.19 72,202.72 72,202.72 C72,202.72 72,219.72 72,219.72 C72,219.72 72.15,221 72.4,223.05 \" fill=\"none\" id=\"E8-&gt;E6\" style=\"stroke: #383838; stroke-width: 1.0; stroke-dasharray: 7.0,7.0;\"/><polygon fill=\"#383838\" points=\"73.35,231.06,75.3861,222.7621,69.4279,223.4694,73.35,231.06\" style=\"stroke: #383838; stroke-width: 1.0;\"/><text fill=\"#000000\" font-family=\"sans-serif\" font-size=\"13\" lengthAdjust=\"spacingAndGlyphs\" textLength=\"64\" x=\"73\" y=\"215.7869\">«depend»</text></a><!--MD5=[bfa3c8b0d15052fdf50ae9310b491027]\n",
       "link E8 to E7--><a href=\"psysml:ef6c4171-27e8-4274-afa9-e3f35902caaf\" target=\"_top\" title=\"psysml:ef6c4171-27e8-4274-afa9-e3f35902caaf\" xlink:actuate=\"onRequest\" xlink:href=\"psysml:ef6c4171-27e8-4274-afa9-e3f35902caaf\" xlink:show=\"new\" xlink:title=\"psysml:ef6c4171-27e8-4274-afa9-e3f35902caaf\" xlink:type=\"simple\"><path d=\"M142.19,191.29 C148.65,201.34 156.38,213.37 163.31,224.14 \" fill=\"none\" id=\"E8-&gt;E7\" style=\"stroke: #383838; stroke-width: 1.0; stroke-dasharray: 7.0,7.0;\"/><polygon fill=\"#383838\" points=\"167.72,231.01,165.9148,222.6589,160.8688,225.905,167.72,231.01\" style=\"stroke: #383838; stroke-width: 1.0;\"/><text fill=\"#000000\" font-family=\"sans-serif\" font-size=\"13\" lengthAdjust=\"spacingAndGlyphs\" textLength=\"64\" x=\"160\" y=\"215.7869\">«depend»</text></a><!--MD5=[3990398507e29d2581fd6d2aa809bc4a]\n",
       "@startuml\r\n",
       "skinparam ranksep 10\r\n",
       "skinparam rectangle {\r\n",
       " backgroundColor<<block>> LightGreen\r\n",
       "}\r\n",
       "skinparam linetype polyline\r\n",
       "skinparam monochrome true\r\n",
       "skinparam classbackgroundcolor white\r\n",
       "skinparam shadowing false\r\n",
       "skinparam wrapWidth 300\r\n",
       "hide circle\r\n",
       "\r\n",
       "package \"DependencyTest\" as E1  [[psysml:fa3e9fbf-effa-4977-80ec-fe6e8fa57f4d ]]  {\r\n",
       "package \"System\" as E2  [[psysml:10c1ae57-66e9-4db6-bc3d-37ac2db9914a ]]  {\r\n",
       "package \"Application Layer\" as E3  [[psysml:f00bbef0-e3df-4574-9254-08b97b82cdf9 ]]  {\r\n",
       "}\r\n",
       "package \"Service Layer\" as E4  [[psysml:ca2e3746-a8d0-4883-91df-79f98ad99c0c ]]  {\r\n",
       "}\r\n",
       "package \"Data Layer\" as E5  [[psysml:31612912-620e-4f5b-bfbe-0087437cb05d ]]  {\r\n",
       "}\r\n",
       "}\r\n",
       "comp usage \"x \" as E6  <<(T,blue) attribute>> [[psysml:af126b68-a763-4b5e-ae0f-74aa81d9e434 ]] {\r\n",
       "}\r\n",
       "comp usage \"y \" as E7  <<(T,blue) attribute>> [[psysml:a5153252-c77e-42e1-a87d-8eb1cf591399 ]] {\r\n",
       "}\r\n",
       "comp usage \"z \" as E8  <<(T,blue) attribute>> [[psysml:4fcd16ab-62c7-48db-8542-d458ee8b30b8 ]] {\r\n",
       "}\r\n",
       "}\r\n",
       "E1 ..> E2 [[psysml:feb54464-815e-4611-ad28-7085b6ccbd88 ]] : <<import>>*\r\n",
       "E3 ..>> E4 [[psysml:46e8547b-a8f1-46c9-aa96-df26a1cf1e34 ]] : <<depend>>\r\n",
       "E4 ..>> E5 [[psysml:4580f085-b870-4b86-bde9-338fd4cc0a1d ]] : <<depend>>\r\n",
       "E8 ..>> E6 [[psysml:ef6c4171-27e8-4274-afa9-e3f35902caaf ]] : <<depend>>\r\n",
       "E8 ..>> E7 [[psysml:ef6c4171-27e8-4274-afa9-e3f35902caaf ]] : <<depend>>\r\n",
       "@enduml\r\n",
       "\n",
       "PlantUML version 1.2020.13(Sat Jun 13 12:26:38 UTC 2020)\n",
       "(EPL source distribution)\n",
       "Java Runtime: OpenJDK Runtime Environment\n",
       "JVM: OpenJDK 64-Bit Server VM\n",
       "Default Encoding: UTF-8\n",
       "Language: en\n",
       "Country: null\n",
       "--></g></svg>"
      ]
     },
     "execution_count": 12,
     "metadata": {},
     "output_type": "execute_result"
    }
   ],
   "source": [
    "%viz --style=\"POLYLINE\" --view=\"Interconnection\" \"DependencyTest\""
   ]
  },
  {
   "cell_type": "code",
   "execution_count": 13,
   "id": "0cccaaec",
   "metadata": {
    "execution": {
     "iopub.execute_input": "2022-04-22T09:48:06.520473Z",
     "iopub.status.busy": "2022-04-22T09:48:06.520009Z",
     "iopub.status.idle": "2022-04-22T09:48:06.526463Z",
     "shell.execute_reply": "2022-04-22T09:48:06.526779Z"
    }
   },
   "outputs": [
    {
     "data": {
      "image/svg+xml": [
       "<?xml version=\"1.0\" encoding=\"UTF-8\" standalone=\"no\"?><svg xmlns=\"http://www.w3.org/2000/svg\" xmlns:xlink=\"http://www.w3.org/1999/xlink\" contentScriptType=\"application/ecmascript\" contentStyleType=\"text/css\" height=\"12px\" preserveAspectRatio=\"none\" style=\"width:12px;height:12px;\" version=\"1.1\" viewBox=\"0 0 12 12\" width=\"12px\" zoomAndPan=\"magnify\"><defs/><g><!--MD5=[97bbf32f66ccd50cbc40d92ea8f5a65e]\n",
       "@startuml\r\n",
       "skinparam ranksep 8\r\n",
       "skinparam linetype polyline\r\n",
       "skinparam monochrome true\r\n",
       "skinparam classbackgroundcolor white\r\n",
       "skinparam shadowing false\r\n",
       "skinparam wrapWidth 300\r\n",
       "hide circle\r\n",
       "\r\n",
       "@enduml\r\n",
       "\n",
       "PlantUML version 1.2020.13(Sat Jun 13 12:26:38 UTC 2020)\n",
       "(EPL source distribution)\n",
       "Java Runtime: OpenJDK Runtime Environment\n",
       "JVM: OpenJDK 64-Bit Server VM\n",
       "Default Encoding: UTF-8\n",
       "Language: en\n",
       "Country: null\n",
       "--></g></svg>"
      ]
     },
     "execution_count": 13,
     "metadata": {},
     "output_type": "execute_result"
    }
   ],
   "source": [
    "%viz --style=\"POLYLINE\" --view=\"Action\" \"DependencyTest\""
   ]
  },
  {
   "cell_type": "code",
   "execution_count": 14,
   "id": "6e11115b",
   "metadata": {
    "execution": {
     "iopub.execute_input": "2022-04-22T09:48:06.577028Z",
     "iopub.status.busy": "2022-04-22T09:48:06.576622Z",
     "iopub.status.idle": "2022-04-22T09:48:06.582947Z",
     "shell.execute_reply": "2022-04-22T09:48:06.583257Z"
    }
   },
   "outputs": [
    {
     "data": {
      "image/svg+xml": [
       "<?xml version=\"1.0\" encoding=\"UTF-8\" standalone=\"no\"?><svg xmlns=\"http://www.w3.org/2000/svg\" xmlns:xlink=\"http://www.w3.org/1999/xlink\" contentScriptType=\"application/ecmascript\" contentStyleType=\"text/css\" height=\"12px\" preserveAspectRatio=\"none\" style=\"width:12px;height:12px;\" version=\"1.1\" viewBox=\"0 0 12 12\" width=\"12px\" zoomAndPan=\"magnify\"><defs/><g><!--MD5=[dc938048236c351797870c36b62f92ad]\n",
       "@startuml\r\n",
       "skinparam roundcorner 20\r\n",
       "skinparam BoxPadding 20\r\n",
       "skinparam SequenceBoxBackgroundColor #white\r\n",
       "skinparam style strictuml\r\n",
       "skinparam maxMessageSize 100\r\n",
       "skinparam linetype polyline\r\n",
       "skinparam monochrome true\r\n",
       "skinparam classbackgroundcolor white\r\n",
       "skinparam shadowing false\r\n",
       "skinparam wrapWidth 300\r\n",
       "hide circle\r\n",
       "\r\n",
       "@enduml\r\n",
       "\n",
       "PlantUML version 1.2020.13(Sat Jun 13 12:26:38 UTC 2020)\n",
       "(EPL source distribution)\n",
       "Java Runtime: OpenJDK Runtime Environment\n",
       "JVM: OpenJDK 64-Bit Server VM\n",
       "Default Encoding: UTF-8\n",
       "Language: en\n",
       "Country: null\n",
       "--></g></svg>"
      ]
     },
     "execution_count": 14,
     "metadata": {},
     "output_type": "execute_result"
    }
   ],
   "source": [
    "%viz --style=\"POLYLINE\" --view=\"Sequence\" \"DependencyTest\""
   ]
  },
  {
   "cell_type": "code",
   "execution_count": 15,
   "id": "883c1863",
   "metadata": {
    "execution": {
     "iopub.execute_input": "2022-04-22T09:48:06.633579Z",
     "iopub.status.busy": "2022-04-22T09:48:06.633173Z",
     "iopub.status.idle": "2022-04-22T09:48:06.681667Z",
     "shell.execute_reply": "2022-04-22T09:48:06.681314Z"
    }
   },
   "outputs": [
    {
     "data": {
      "image/svg+xml": [
       "<?xml version=\"1.0\" encoding=\"UTF-8\" standalone=\"no\"?><svg xmlns=\"http://www.w3.org/2000/svg\" xmlns:xlink=\"http://www.w3.org/1999/xlink\" contentScriptType=\"application/ecmascript\" contentStyleType=\"text/css\" height=\"552px\" preserveAspectRatio=\"none\" style=\"width:536px;height:552px;\" version=\"1.1\" viewBox=\"0 0 536 552\" width=\"536px\" zoomAndPan=\"magnify\"><defs/><g><!--MD5=[fbc87193dbaf4d95561dea2c320d4a47]\n",
       "cluster E1--><a href=\"psysml:fa3e9fbf-effa-4977-80ec-fe6e8fa57f4d\" target=\"_top\" title=\"psysml:fa3e9fbf-effa-4977-80ec-fe6e8fa57f4d\" xlink:actuate=\"onRequest\" xlink:href=\"psysml:fa3e9fbf-effa-4977-80ec-fe6e8fa57f4d\" xlink:show=\"new\" xlink:title=\"psysml:fa3e9fbf-effa-4977-80ec-fe6e8fa57f4d\" xlink:type=\"simple\"><polygon fill=\"#FFFFFF\" points=\"16,6,142,6,149,28.2969,514,28.2969,514,540.72,16,540.72,16,6\" style=\"stroke: #000000; stroke-width: 1.5;\"/><line style=\"stroke: #000000; stroke-width: 1.5;\" x1=\"16\" x2=\"149\" y1=\"28.2969\" y2=\"28.2969\"/><text fill=\"#000000\" font-family=\"sans-serif\" font-size=\"14\" font-weight=\"bold\" lengthAdjust=\"spacingAndGlyphs\" textLength=\"120\" x=\"20\" y=\"20.9951\">DependencyTest</text></a><!--MD5=[e4f7fae6ed58524ba242bb0b0d3be6b7]\n",
       "cluster E2--><a href=\"psysml:10c1ae57-66e9-4db6-bc3d-37ac2db9914a\" target=\"_top\" title=\"psysml:10c1ae57-66e9-4db6-bc3d-37ac2db9914a\" xlink:actuate=\"onRequest\" xlink:href=\"psysml:10c1ae57-66e9-4db6-bc3d-37ac2db9914a\" xlink:show=\"new\" xlink:title=\"psysml:10c1ae57-66e9-4db6-bc3d-37ac2db9914a\" xlink:type=\"simple\"><polygon fill=\"#FFFFFF\" points=\"271,120.72,328,120.72,335,143.0169,474,143.0169,474,500.72,271,500.72,271,120.72\" style=\"stroke: #000000; stroke-width: 1.5;\"/><line style=\"stroke: #000000; stroke-width: 1.5;\" x1=\"271\" x2=\"335\" y1=\"143.0169\" y2=\"143.0169\"/><text fill=\"#000000\" font-family=\"sans-serif\" font-size=\"14\" font-weight=\"bold\" lengthAdjust=\"spacingAndGlyphs\" textLength=\"51\" x=\"275\" y=\"135.7151\">System</text></a><!--MD5=[60a26617385b1d2d0262a64233df1f8d]\n",
       "class E6--><a href=\"psysml:af126b68-a763-4b5e-ae0f-74aa81d9e434\" target=\"_top\" title=\"psysml:af126b68-a763-4b5e-ae0f-74aa81d9e434\" xlink:actuate=\"onRequest\" xlink:href=\"psysml:af126b68-a763-4b5e-ae0f-74aa81d9e434\" xlink:show=\"new\" xlink:title=\"psysml:af126b68-a763-4b5e-ae0f-74aa81d9e434\" xlink:type=\"simple\"><rect fill=\"#FFFFFF\" height=\"45.9375\" id=\"E6\" rx=\"10\" ry=\"10\" style=\"stroke: #383838; stroke-width: 1.5;\" width=\"71\" x=\"40.5\" y=\"297.22\"/><text fill=\"#000000\" font-family=\"sans-serif\" font-size=\"12\" font-style=\"italic\" lengthAdjust=\"spacingAndGlyphs\" textLength=\"69\" x=\"41.5\" y=\"313.3587\">«attribute»</text><text fill=\"#000000\" font-family=\"sans-serif\" font-size=\"12\" lengthAdjust=\"spacingAndGlyphs\" textLength=\"6\" x=\"71\" y=\"327.3274\">x</text><line style=\"stroke: #383838; stroke-width: 1.5;\" x1=\"41.5\" x2=\"110.5\" y1=\"335.1575\" y2=\"335.1575\"/></a><!--MD5=[2156ba9850f5573cc1fc38a6a4b2f02b]\n",
       "class E7--><a href=\"psysml:a5153252-c77e-42e1-a87d-8eb1cf591399\" target=\"_top\" title=\"psysml:a5153252-c77e-42e1-a87d-8eb1cf591399\" xlink:actuate=\"onRequest\" xlink:href=\"psysml:a5153252-c77e-42e1-a87d-8eb1cf591399\" xlink:show=\"new\" xlink:title=\"psysml:a5153252-c77e-42e1-a87d-8eb1cf591399\" xlink:type=\"simple\"><rect fill=\"#FFFFFF\" height=\"45.9375\" id=\"E7\" rx=\"10\" ry=\"10\" style=\"stroke: #383838; stroke-width: 1.5;\" width=\"71\" x=\"146.5\" y=\"297.22\"/><text fill=\"#000000\" font-family=\"sans-serif\" font-size=\"12\" font-style=\"italic\" lengthAdjust=\"spacingAndGlyphs\" textLength=\"69\" x=\"147.5\" y=\"313.3587\">«attribute»</text><text fill=\"#000000\" font-family=\"sans-serif\" font-size=\"12\" lengthAdjust=\"spacingAndGlyphs\" textLength=\"6\" x=\"177\" y=\"327.3274\">y</text><line style=\"stroke: #383838; stroke-width: 1.5;\" x1=\"147.5\" x2=\"216.5\" y1=\"335.1575\" y2=\"335.1575\"/></a><!--MD5=[b9389687b975829384b498ac4b7476b2]\n",
       "class E8--><a href=\"psysml:4fcd16ab-62c7-48db-8542-d458ee8b30b8\" target=\"_top\" title=\"psysml:4fcd16ab-62c7-48db-8542-d458ee8b30b8\" xlink:actuate=\"onRequest\" xlink:href=\"psysml:4fcd16ab-62c7-48db-8542-d458ee8b30b8\" xlink:show=\"new\" xlink:title=\"psysml:4fcd16ab-62c7-48db-8542-d458ee8b30b8\" xlink:type=\"simple\"><rect fill=\"#FFFFFF\" height=\"45.9375\" id=\"E8\" rx=\"10\" ry=\"10\" style=\"stroke: #383838; stroke-width: 1.5;\" width=\"71\" x=\"92.5\" y=\"167.22\"/><text fill=\"#000000\" font-family=\"sans-serif\" font-size=\"12\" font-style=\"italic\" lengthAdjust=\"spacingAndGlyphs\" textLength=\"69\" x=\"93.5\" y=\"183.3587\">«attribute»</text><text fill=\"#000000\" font-family=\"sans-serif\" font-size=\"12\" lengthAdjust=\"spacingAndGlyphs\" textLength=\"5\" x=\"123.5\" y=\"197.3274\">z</text><line style=\"stroke: #383838; stroke-width: 1.5;\" x1=\"93.5\" x2=\"162.5\" y1=\"205.1575\" y2=\"205.1575\"/></a><a href=\"psysml:f00bbef0-e3df-4574-9254-08b97b82cdf9\" target=\"_top\" title=\"psysml:f00bbef0-e3df-4574-9254-08b97b82cdf9\" xlink:actuate=\"onRequest\" xlink:href=\"psysml:f00bbef0-e3df-4574-9254-08b97b82cdf9\" xlink:show=\"new\" xlink:title=\"psysml:f00bbef0-e3df-4574-9254-08b97b82cdf9\" xlink:type=\"simple\"><polygon fill=\"#FFFFFF\" points=\"314.5,163.72,435.5,163.72,442.5,186.0169,449.5,186.0169,449.5,216.3138,314.5,216.3138,314.5,163.72\" style=\"stroke: #000000; stroke-width: 1.5;\"/><line style=\"stroke: #000000; stroke-width: 1.5;\" x1=\"314.5\" x2=\"442.5\" y1=\"186.0169\" y2=\"186.0169\"/><text fill=\"#000000\" font-family=\"sans-serif\" font-size=\"14\" font-weight=\"bold\" lengthAdjust=\"spacingAndGlyphs\" textLength=\"115\" x=\"318.5\" y=\"178.7151\">Application Layer</text></a><a href=\"psysml:ca2e3746-a8d0-4883-91df-79f98ad99c0c\" target=\"_top\" title=\"psysml:ca2e3746-a8d0-4883-91df-79f98ad99c0c\" xlink:actuate=\"onRequest\" xlink:href=\"psysml:ca2e3746-a8d0-4883-91df-79f98ad99c0c\" xlink:show=\"new\" xlink:title=\"psysml:ca2e3746-a8d0-4883-91df-79f98ad99c0c\" xlink:type=\"simple\"><polygon fill=\"#FFFFFF\" points=\"327,293.72,423,293.72,430,316.0169,437,316.0169,437,346.3138,327,346.3138,327,293.72\" style=\"stroke: #000000; stroke-width: 1.5;\"/><line style=\"stroke: #000000; stroke-width: 1.5;\" x1=\"327\" x2=\"430\" y1=\"316.0169\" y2=\"316.0169\"/><text fill=\"#000000\" font-family=\"sans-serif\" font-size=\"14\" font-weight=\"bold\" lengthAdjust=\"spacingAndGlyphs\" textLength=\"90\" x=\"331\" y=\"308.7151\">Service Layer</text></a><a href=\"psysml:31612912-620e-4f5b-bfbe-0087437cb05d\" target=\"_top\" title=\"psysml:31612912-620e-4f5b-bfbe-0087437cb05d\" xlink:actuate=\"onRequest\" xlink:href=\"psysml:31612912-620e-4f5b-bfbe-0087437cb05d\" xlink:show=\"new\" xlink:title=\"psysml:31612912-620e-4f5b-bfbe-0087437cb05d\" xlink:type=\"simple\"><polygon fill=\"#FFFFFF\" points=\"336,423.72,414,423.72,421,446.0169,428,446.0169,428,476.3138,336,476.3138,336,423.72\" style=\"stroke: #000000; stroke-width: 1.5;\"/><line style=\"stroke: #000000; stroke-width: 1.5;\" x1=\"336\" x2=\"421\" y1=\"446.0169\" y2=\"446.0169\"/><text fill=\"#000000\" font-family=\"sans-serif\" font-size=\"14\" font-weight=\"bold\" lengthAdjust=\"spacingAndGlyphs\" textLength=\"72\" x=\"340\" y=\"438.7151\">Data Layer</text></a><!--MD5=[1f1cd8e6dd4c1b2ca2aaccc9b9bcea6e]\n",
       "link E1 to E2--><a href=\"psysml:feb54464-815e-4611-ad28-7085b6ccbd88\" target=\"_top\" title=\"psysml:feb54464-815e-4611-ad28-7085b6ccbd88\" xlink:actuate=\"onRequest\" xlink:href=\"psysml:feb54464-815e-4611-ad28-7085b6ccbd88\" xlink:show=\"new\" xlink:title=\"psysml:feb54464-815e-4611-ad28-7085b6ccbd88\" xlink:type=\"simple\"><path d=\"M279,33.83 C279,36.15 279,73.83 279,111.5 C279,113.8544 279,116.2087 279,118.5544 C279,119.1408 279,119.7267 279,120.3119 \" fill=\"none\" id=\"E1-&gt;E2\" style=\"stroke: #383838; stroke-width: 1.0; stroke-dasharray: 7.0,7.0;\"/><polygon fill=\"#383838\" points=\"279,120.3119,283,111.3119,279,115.3119,275,111.3119,279,120.3119\" style=\"stroke: #383838; stroke-width: 1.0;\"/><text fill=\"#000000\" font-family=\"sans-serif\" font-size=\"13\" lengthAdjust=\"spacingAndGlyphs\" textLength=\"65\" x=\"280\" y=\"76.7869\">«import»*</text></a><!--MD5=[af87c684e3b0d8be13c1a698a818ef1e]\n",
       "link E3 to E4--><a href=\"psysml:46e8547b-a8f1-46c9-aa96-df26a1cf1e34\" target=\"_top\" title=\"psysml:46e8547b-a8f1-46c9-aa96-df26a1cf1e34\" xlink:actuate=\"onRequest\" xlink:href=\"psysml:46e8547b-a8f1-46c9-aa96-df26a1cf1e34\" xlink:show=\"new\" xlink:title=\"psysml:46e8547b-a8f1-46c9-aa96-df26a1cf1e34\" xlink:type=\"simple\"><path d=\"M382,216.82 C382,236.52 382,263.94 382,285.45 \" fill=\"none\" id=\"E3-&gt;E4\" style=\"stroke: #383838; stroke-width: 1.0; stroke-dasharray: 7.0,7.0;\"/><polygon fill=\"#383838\" points=\"382,293.67,385,285.67,379,285.67,382,293.67\" style=\"stroke: #383838; stroke-width: 1.0;\"/><text fill=\"#000000\" font-family=\"sans-serif\" font-size=\"13\" lengthAdjust=\"spacingAndGlyphs\" textLength=\"64\" x=\"383\" y=\"259.7869\">«depend»</text></a><!--MD5=[1b7591eae5389033d8d09a9d6721a717]\n",
       "link E4 to E5--><a href=\"psysml:4580f085-b870-4b86-bde9-338fd4cc0a1d\" target=\"_top\" title=\"psysml:4580f085-b870-4b86-bde9-338fd4cc0a1d\" xlink:actuate=\"onRequest\" xlink:href=\"psysml:4580f085-b870-4b86-bde9-338fd4cc0a1d\" xlink:show=\"new\" xlink:title=\"psysml:4580f085-b870-4b86-bde9-338fd4cc0a1d\" xlink:type=\"simple\"><path d=\"M382,346.82 C382,366.52 382,393.94 382,415.45 \" fill=\"none\" id=\"E4-&gt;E5\" style=\"stroke: #383838; stroke-width: 1.0; stroke-dasharray: 7.0,7.0;\"/><polygon fill=\"#383838\" points=\"382,423.67,385,415.67,379,415.67,382,423.67\" style=\"stroke: #383838; stroke-width: 1.0;\"/><text fill=\"#000000\" font-family=\"sans-serif\" font-size=\"13\" lengthAdjust=\"spacingAndGlyphs\" textLength=\"64\" x=\"383\" y=\"389.7869\">«depend»</text></a><!--MD5=[c5e8897d989ce984f93528998a7150fe]\n",
       "link E8 to E6--><a href=\"psysml:ef6c4171-27e8-4274-afa9-e3f35902caaf\" target=\"_top\" title=\"psysml:ef6c4171-27e8-4274-afa9-e3f35902caaf\" xlink:actuate=\"onRequest\" xlink:href=\"psysml:ef6c4171-27e8-4274-afa9-e3f35902caaf\" xlink:show=\"new\" xlink:title=\"psysml:ef6c4171-27e8-4274-afa9-e3f35902caaf\" xlink:type=\"simple\"><path d=\"M105.55,213.47 C89.97,228.91 72,246.72 72,246.72 C72,246.72 72,263.72 72,263.72 C72,263.72 72.88,275.93 73.81,288.9 \" fill=\"none\" id=\"E8-&gt;E6\" style=\"stroke: #383838; stroke-width: 1.0; stroke-dasharray: 7.0,7.0;\"/><polygon fill=\"#383838\" points=\"74.4,296.97,76.8203,288.776,70.8357,289.205,74.4,296.97\" style=\"stroke: #383838; stroke-width: 1.0;\"/><text fill=\"#000000\" font-family=\"sans-serif\" font-size=\"13\" lengthAdjust=\"spacingAndGlyphs\" textLength=\"64\" x=\"73\" y=\"259.7869\">«depend»</text></a><!--MD5=[bfa3c8b0d15052fdf50ae9310b491027]\n",
       "link E8 to E7--><a href=\"psysml:ef6c4171-27e8-4274-afa9-e3f35902caaf\" target=\"_top\" title=\"psysml:ef6c4171-27e8-4274-afa9-e3f35902caaf\" xlink:actuate=\"onRequest\" xlink:href=\"psysml:ef6c4171-27e8-4274-afa9-e3f35902caaf\" xlink:show=\"new\" xlink:title=\"psysml:ef6c4171-27e8-4274-afa9-e3f35902caaf\" xlink:type=\"simple\"><path d=\"M137.28,213.22 C146.17,234.29 159.64,266.22 169.47,289.53 \" fill=\"none\" id=\"E8-&gt;E7\" style=\"stroke: #383838; stroke-width: 1.0; stroke-dasharray: 7.0,7.0;\"/><polygon fill=\"#383838\" points=\"172.66,297.07,172.3241,288.5326,166.7933,290.8585,172.66,297.07\" style=\"stroke: #383838; stroke-width: 1.0;\"/><text fill=\"#000000\" font-family=\"sans-serif\" font-size=\"13\" lengthAdjust=\"spacingAndGlyphs\" textLength=\"64\" x=\"159\" y=\"259.7869\">«depend»</text></a><!--MD5=[07785a73799e9d0c1f8003e8c0adb875]\n",
       "@startuml\r\n",
       "skinparam linetype polyline\r\n",
       "skinparam monochrome true\r\n",
       "skinparam classbackgroundcolor white\r\n",
       "skinparam shadowing false\r\n",
       "skinparam wrapWidth 300\r\n",
       "hide circle\r\n",
       "\r\n",
       "package \"DependencyTest\" as E1  [[psysml:fa3e9fbf-effa-4977-80ec-fe6e8fa57f4d ]]  {\r\n",
       "package \"System\" as E2  [[psysml:10c1ae57-66e9-4db6-bc3d-37ac2db9914a ]]  {\r\n",
       "package \"Application Layer\" as E3  [[psysml:f00bbef0-e3df-4574-9254-08b97b82cdf9 ]]  {\r\n",
       "}\r\n",
       "package \"Service Layer\" as E4  [[psysml:ca2e3746-a8d0-4883-91df-79f98ad99c0c ]]  {\r\n",
       "}\r\n",
       "package \"Data Layer\" as E5  [[psysml:31612912-620e-4f5b-bfbe-0087437cb05d ]]  {\r\n",
       "}\r\n",
       "}\r\n",
       "comp usage \"x \" as E6  <<(T,blue) attribute>> [[psysml:af126b68-a763-4b5e-ae0f-74aa81d9e434 ]] {\r\n",
       "}\r\n",
       "comp usage \"y \" as E7  <<(T,blue) attribute>> [[psysml:a5153252-c77e-42e1-a87d-8eb1cf591399 ]] {\r\n",
       "}\r\n",
       "comp usage \"z \" as E8  <<(T,blue) attribute>> [[psysml:4fcd16ab-62c7-48db-8542-d458ee8b30b8 ]] {\r\n",
       "}\r\n",
       "}\r\n",
       "E1 ..> E2 [[psysml:feb54464-815e-4611-ad28-7085b6ccbd88 ]] : <<import>>*\r\n",
       "E3 ..>> E4 [[psysml:46e8547b-a8f1-46c9-aa96-df26a1cf1e34 ]] : <<depend>>\r\n",
       "E4 ..>> E5 [[psysml:4580f085-b870-4b86-bde9-338fd4cc0a1d ]] : <<depend>>\r\n",
       "E8 ..>> E6 [[psysml:ef6c4171-27e8-4274-afa9-e3f35902caaf ]] : <<depend>>\r\n",
       "E8 ..>> E7 [[psysml:ef6c4171-27e8-4274-afa9-e3f35902caaf ]] : <<depend>>\r\n",
       "@enduml\r\n",
       "\n",
       "PlantUML version 1.2020.13(Sat Jun 13 12:26:38 UTC 2020)\n",
       "(EPL source distribution)\n",
       "Java Runtime: OpenJDK Runtime Environment\n",
       "JVM: OpenJDK 64-Bit Server VM\n",
       "Default Encoding: UTF-8\n",
       "Language: en\n",
       "Country: null\n",
       "--></g></svg>"
      ]
     },
     "execution_count": 15,
     "metadata": {},
     "output_type": "execute_result"
    }
   ],
   "source": [
    "%viz --style=\"POLYLINE\" --view=\"MIXED\" \"DependencyTest\""
   ]
  },
  {
   "cell_type": "code",
   "execution_count": 16,
   "id": "b7de0384",
   "metadata": {
    "execution": {
     "iopub.execute_input": "2022-04-22T09:48:06.731837Z",
     "iopub.status.busy": "2022-04-22T09:48:06.731435Z",
     "iopub.status.idle": "2022-04-22T09:48:06.777003Z",
     "shell.execute_reply": "2022-04-22T09:48:06.776644Z"
    }
   },
   "outputs": [
    {
     "data": {
      "image/svg+xml": [
       "<?xml version=\"1.0\" encoding=\"UTF-8\" standalone=\"no\"?><svg xmlns=\"http://www.w3.org/2000/svg\" xmlns:xlink=\"http://www.w3.org/1999/xlink\" contentScriptType=\"application/ecmascript\" contentStyleType=\"text/css\" height=\"392px\" preserveAspectRatio=\"none\" style=\"width:860px;height:392px;\" version=\"1.1\" viewBox=\"0 0 860 392\" width=\"860px\" zoomAndPan=\"magnify\"><defs/><g><!--MD5=[fbc87193dbaf4d95561dea2c320d4a47]\n",
       "cluster E1--><a href=\"psysml:fa3e9fbf-effa-4977-80ec-fe6e8fa57f4d\" target=\"_top\" title=\"psysml:fa3e9fbf-effa-4977-80ec-fe6e8fa57f4d\" xlink:actuate=\"onRequest\" xlink:href=\"psysml:fa3e9fbf-effa-4977-80ec-fe6e8fa57f4d\" xlink:show=\"new\" xlink:title=\"psysml:fa3e9fbf-effa-4977-80ec-fe6e8fa57f4d\" xlink:type=\"simple\"><polygon fill=\"#FFFFFF\" points=\"16,6,142,6,149,28.2969,838.72,28.2969,838.72,380,16,380,16,6\" style=\"stroke: #000000; stroke-width: 1.5;\"/><line style=\"stroke: #000000; stroke-width: 1.5;\" x1=\"16\" x2=\"149\" y1=\"28.2969\" y2=\"28.2969\"/><text fill=\"#000000\" font-family=\"sans-serif\" font-size=\"14\" font-weight=\"bold\" lengthAdjust=\"spacingAndGlyphs\" textLength=\"120\" x=\"20\" y=\"20.9951\">DependencyTest</text></a><!--MD5=[e4f7fae6ed58524ba242bb0b0d3be6b7]\n",
       "cluster E2--><a href=\"psysml:10c1ae57-66e9-4db6-bc3d-37ac2db9914a\" target=\"_top\" title=\"psysml:10c1ae57-66e9-4db6-bc3d-37ac2db9914a\" xlink:actuate=\"onRequest\" xlink:href=\"psysml:10c1ae57-66e9-4db6-bc3d-37ac2db9914a\" xlink:show=\"new\" xlink:title=\"psysml:10c1ae57-66e9-4db6-bc3d-37ac2db9914a\" xlink:type=\"simple\"><polygon fill=\"#FFFFFF\" points=\"161.72,65,218.72,65,225.72,87.2969,798.72,87.2969,798.72,205,161.72,205,161.72,65\" style=\"stroke: #000000; stroke-width: 1.5;\"/><line style=\"stroke: #000000; stroke-width: 1.5;\" x1=\"161.72\" x2=\"225.72\" y1=\"87.2969\" y2=\"87.2969\"/><text fill=\"#000000\" font-family=\"sans-serif\" font-size=\"14\" font-weight=\"bold\" lengthAdjust=\"spacingAndGlyphs\" textLength=\"51\" x=\"165.72\" y=\"79.9951\">System</text></a><!--MD5=[60a26617385b1d2d0262a64233df1f8d]\n",
       "class E6--><a href=\"psysml:af126b68-a763-4b5e-ae0f-74aa81d9e434\" target=\"_top\" title=\"psysml:af126b68-a763-4b5e-ae0f-74aa81d9e434\" xlink:actuate=\"onRequest\" xlink:href=\"psysml:af126b68-a763-4b5e-ae0f-74aa81d9e434\" xlink:show=\"new\" xlink:title=\"psysml:af126b68-a763-4b5e-ae0f-74aa81d9e434\" xlink:type=\"simple\"><rect fill=\"#FFFFFF\" height=\"45.9375\" id=\"E6\" rx=\"10\" ry=\"10\" style=\"stroke: #383838; stroke-width: 1.5;\" width=\"71\" x=\"466.22\" y=\"310\"/><text fill=\"#000000\" font-family=\"sans-serif\" font-size=\"12\" font-style=\"italic\" lengthAdjust=\"spacingAndGlyphs\" textLength=\"69\" x=\"467.22\" y=\"326.1387\">«attribute»</text><text fill=\"#000000\" font-family=\"sans-serif\" font-size=\"12\" lengthAdjust=\"spacingAndGlyphs\" textLength=\"6\" x=\"496.72\" y=\"340.1074\">x</text><line style=\"stroke: #383838; stroke-width: 1.5;\" x1=\"467.22\" x2=\"536.22\" y1=\"347.9375\" y2=\"347.9375\"/></a><!--MD5=[2156ba9850f5573cc1fc38a6a4b2f02b]\n",
       "class E7--><a href=\"psysml:a5153252-c77e-42e1-a87d-8eb1cf591399\" target=\"_top\" title=\"psysml:a5153252-c77e-42e1-a87d-8eb1cf591399\" xlink:actuate=\"onRequest\" xlink:href=\"psysml:a5153252-c77e-42e1-a87d-8eb1cf591399\" xlink:show=\"new\" xlink:title=\"psysml:a5153252-c77e-42e1-a87d-8eb1cf591399\" xlink:type=\"simple\"><rect fill=\"#FFFFFF\" height=\"45.9375\" id=\"E7\" rx=\"10\" ry=\"10\" style=\"stroke: #383838; stroke-width: 1.5;\" width=\"71\" x=\"466.22\" y=\"229\"/><text fill=\"#000000\" font-family=\"sans-serif\" font-size=\"12\" font-style=\"italic\" lengthAdjust=\"spacingAndGlyphs\" textLength=\"69\" x=\"467.22\" y=\"245.1387\">«attribute»</text><text fill=\"#000000\" font-family=\"sans-serif\" font-size=\"12\" lengthAdjust=\"spacingAndGlyphs\" textLength=\"6\" x=\"496.72\" y=\"259.1074\">y</text><line style=\"stroke: #383838; stroke-width: 1.5;\" x1=\"467.22\" x2=\"536.22\" y1=\"266.9375\" y2=\"266.9375\"/></a><!--MD5=[b9389687b975829384b498ac4b7476b2]\n",
       "class E8--><a href=\"psysml:4fcd16ab-62c7-48db-8542-d458ee8b30b8\" target=\"_top\" title=\"psysml:4fcd16ab-62c7-48db-8542-d458ee8b30b8\" xlink:actuate=\"onRequest\" xlink:href=\"psysml:4fcd16ab-62c7-48db-8542-d458ee8b30b8\" xlink:show=\"new\" xlink:title=\"psysml:4fcd16ab-62c7-48db-8542-d458ee8b30b8\" xlink:type=\"simple\"><rect fill=\"#FFFFFF\" height=\"45.9375\" id=\"E8\" rx=\"10\" ry=\"10\" style=\"stroke: #383838; stroke-width: 1.5;\" width=\"71\" x=\"217.72\" y=\"262\"/><text fill=\"#000000\" font-family=\"sans-serif\" font-size=\"12\" font-style=\"italic\" lengthAdjust=\"spacingAndGlyphs\" textLength=\"69\" x=\"218.72\" y=\"278.1387\">«attribute»</text><text fill=\"#000000\" font-family=\"sans-serif\" font-size=\"12\" lengthAdjust=\"spacingAndGlyphs\" textLength=\"5\" x=\"248.72\" y=\"292.1074\">z</text><line style=\"stroke: #383838; stroke-width: 1.5;\" x1=\"218.72\" x2=\"287.72\" y1=\"299.9375\" y2=\"299.9375\"/></a><a href=\"psysml:f00bbef0-e3df-4574-9254-08b97b82cdf9\" target=\"_top\" title=\"psysml:f00bbef0-e3df-4574-9254-08b97b82cdf9\" xlink:actuate=\"onRequest\" xlink:href=\"psysml:f00bbef0-e3df-4574-9254-08b97b82cdf9\" xlink:show=\"new\" xlink:title=\"psysml:f00bbef0-e3df-4574-9254-08b97b82cdf9\" xlink:type=\"simple\"><polygon fill=\"#FFFFFF\" points=\"185.72,108.5,306.72,108.5,313.72,130.7969,320.72,130.7969,320.72,161.0938,185.72,161.0938,185.72,108.5\" style=\"stroke: #000000; stroke-width: 1.5;\"/><line style=\"stroke: #000000; stroke-width: 1.5;\" x1=\"185.72\" x2=\"313.72\" y1=\"130.7969\" y2=\"130.7969\"/><text fill=\"#000000\" font-family=\"sans-serif\" font-size=\"14\" font-weight=\"bold\" lengthAdjust=\"spacingAndGlyphs\" textLength=\"115\" x=\"189.72\" y=\"123.4951\">Application Layer</text></a><a href=\"psysml:ca2e3746-a8d0-4883-91df-79f98ad99c0c\" target=\"_top\" title=\"psysml:ca2e3746-a8d0-4883-91df-79f98ad99c0c\" xlink:actuate=\"onRequest\" xlink:href=\"psysml:ca2e3746-a8d0-4883-91df-79f98ad99c0c\" xlink:show=\"new\" xlink:title=\"psysml:ca2e3746-a8d0-4883-91df-79f98ad99c0c\" xlink:type=\"simple\"><polygon fill=\"#FFFFFF\" points=\"446.72,108.5,542.72,108.5,549.72,130.7969,556.72,130.7969,556.72,161.0938,446.72,161.0938,446.72,108.5\" style=\"stroke: #000000; stroke-width: 1.5;\"/><line style=\"stroke: #000000; stroke-width: 1.5;\" x1=\"446.72\" x2=\"549.72\" y1=\"130.7969\" y2=\"130.7969\"/><text fill=\"#000000\" font-family=\"sans-serif\" font-size=\"14\" font-weight=\"bold\" lengthAdjust=\"spacingAndGlyphs\" textLength=\"90\" x=\"450.72\" y=\"123.4951\">Service Layer</text></a><a href=\"psysml:31612912-620e-4f5b-bfbe-0087437cb05d\" target=\"_top\" title=\"psysml:31612912-620e-4f5b-bfbe-0087437cb05d\" xlink:actuate=\"onRequest\" xlink:href=\"psysml:31612912-620e-4f5b-bfbe-0087437cb05d\" xlink:show=\"new\" xlink:title=\"psysml:31612912-620e-4f5b-bfbe-0087437cb05d\" xlink:type=\"simple\"><polygon fill=\"#FFFFFF\" points=\"682.72,108.5,760.72,108.5,767.72,130.7969,774.72,130.7969,774.72,161.0938,682.72,161.0938,682.72,108.5\" style=\"stroke: #000000; stroke-width: 1.5;\"/><line style=\"stroke: #000000; stroke-width: 1.5;\" x1=\"682.72\" x2=\"767.72\" y1=\"130.7969\" y2=\"130.7969\"/><text fill=\"#000000\" font-family=\"sans-serif\" font-size=\"14\" font-weight=\"bold\" lengthAdjust=\"spacingAndGlyphs\" textLength=\"72\" x=\"686.72\" y=\"123.4951\">Data Layer</text></a><!--MD5=[1f1cd8e6dd4c1b2ca2aaccc9b9bcea6e]\n",
       "link E1 to E2--><a href=\"psysml:feb54464-815e-4611-ad28-7085b6ccbd88\" target=\"_top\" title=\"psysml:feb54464-815e-4611-ad28-7085b6ccbd88\" xlink:actuate=\"onRequest\" xlink:href=\"psysml:feb54464-815e-4611-ad28-7085b6ccbd88\" xlink:show=\"new\" xlink:title=\"psysml:feb54464-815e-4611-ad28-7085b6ccbd88\" xlink:type=\"simple\"><path d=\"M24.88,197 C28.275,197 83.4,197 138.5113,197 C145.4002,197 152.2888,197 159.0763,197 C159.9247,197 160.7715,197 161.6166,197 \" fill=\"none\" id=\"E1-&gt;E2\" style=\"stroke: #383838; stroke-width: 1.0; stroke-dasharray: 7.0,7.0;\"/><polygon fill=\"#383838\" points=\"161.6166,197,152.6166,193,156.6166,197,152.6166,201,161.6166,197\" style=\"stroke: #383838; stroke-width: 1.0;\"/><text fill=\"#000000\" font-family=\"sans-serif\" font-size=\"13\" lengthAdjust=\"spacingAndGlyphs\" textLength=\"65\" x=\"55.72\" y=\"193.0669\">«import»*</text></a><!--MD5=[af87c684e3b0d8be13c1a698a818ef1e]\n",
       "link E3 to E4--><a href=\"psysml:46e8547b-a8f1-46c9-aa96-df26a1cf1e34\" target=\"_top\" title=\"psysml:46e8547b-a8f1-46c9-aa96-df26a1cf1e34\" xlink:actuate=\"onRequest\" xlink:href=\"psysml:46e8547b-a8f1-46c9-aa96-df26a1cf1e34\" xlink:show=\"new\" xlink:title=\"psysml:46e8547b-a8f1-46c9-aa96-df26a1cf1e34\" xlink:type=\"simple\"><path d=\"M320.93,135 C357.36,135 402.21,135 438,135 \" fill=\"none\" id=\"E3-&gt;E4\" style=\"stroke: #383838; stroke-width: 1.0; stroke-dasharray: 7.0,7.0;\"/><polygon fill=\"#383838\" points=\"446.42,135,438.42,132,438.42,138,446.42,135\" style=\"stroke: #383838; stroke-width: 1.0;\"/><text fill=\"#000000\" font-family=\"sans-serif\" font-size=\"13\" lengthAdjust=\"spacingAndGlyphs\" textLength=\"64\" x=\"351.72\" y=\"131.0669\">«depend»</text></a><!--MD5=[1b7591eae5389033d8d09a9d6721a717]\n",
       "link E4 to E5--><a href=\"psysml:4580f085-b870-4b86-bde9-338fd4cc0a1d\" target=\"_top\" title=\"psysml:4580f085-b870-4b86-bde9-338fd4cc0a1d\" xlink:actuate=\"onRequest\" xlink:href=\"psysml:4580f085-b870-4b86-bde9-338fd4cc0a1d\" xlink:show=\"new\" xlink:title=\"psysml:4580f085-b870-4b86-bde9-338fd4cc0a1d\" xlink:type=\"simple\"><path d=\"M556.9,135 C592.53,135 638.96,135 674.41,135 \" fill=\"none\" id=\"E4-&gt;E5\" style=\"stroke: #383838; stroke-width: 1.0; stroke-dasharray: 7.0,7.0;\"/><polygon fill=\"#383838\" points=\"682.72,135,674.72,132,674.72,138,682.72,135\" style=\"stroke: #383838; stroke-width: 1.0;\"/><text fill=\"#000000\" font-family=\"sans-serif\" font-size=\"13\" lengthAdjust=\"spacingAndGlyphs\" textLength=\"64\" x=\"587.72\" y=\"131.0669\">«depend»</text></a><!--MD5=[c5e8897d989ce984f93528998a7150fe]\n",
       "link E8 to E6--><a href=\"psysml:ef6c4171-27e8-4274-afa9-e3f35902caaf\" target=\"_top\" title=\"psysml:ef6c4171-27e8-4274-afa9-e3f35902caaf\" xlink:actuate=\"onRequest\" xlink:href=\"psysml:ef6c4171-27e8-4274-afa9-e3f35902caaf\" xlink:show=\"new\" xlink:title=\"psysml:ef6c4171-27e8-4274-afa9-e3f35902caaf\" xlink:type=\"simple\"><path d=\"M288.75,291.72 C333.09,300.36 410.02,315.34 458,324.68 \" fill=\"none\" id=\"E8-&gt;E6\" style=\"stroke: #383838; stroke-width: 1.0; stroke-dasharray: 7.0,7.0;\"/><polygon fill=\"#383838\" points=\"466.02,326.24,458.7416,321.765,457.5938,327.6542,466.02,326.24\" style=\"stroke: #383838; stroke-width: 1.0;\"/><text fill=\"#000000\" font-family=\"sans-serif\" font-size=\"13\" lengthAdjust=\"spacingAndGlyphs\" textLength=\"64\" x=\"351.72\" y=\"301.0669\">«depend»</text></a><!--MD5=[bfa3c8b0d15052fdf50ae9310b491027]\n",
       "link E8 to E7--><a href=\"psysml:ef6c4171-27e8-4274-afa9-e3f35902caaf\" target=\"_top\" title=\"psysml:ef6c4171-27e8-4274-afa9-e3f35902caaf\" xlink:actuate=\"onRequest\" xlink:href=\"psysml:ef6c4171-27e8-4274-afa9-e3f35902caaf\" xlink:show=\"new\" xlink:title=\"psysml:ef6c4171-27e8-4274-afa9-e3f35902caaf\" xlink:type=\"simple\"><path d=\"M288.75,280.38 C333.09,274.44 410.02,264.14 458,257.72 \" fill=\"none\" id=\"E8-&gt;E7\" style=\"stroke: #383838; stroke-width: 1.0; stroke-dasharray: 7.0,7.0;\"/><polygon fill=\"#383838\" points=\"466.02,256.65,457.6937,254.7336,458.4867,260.681,466.02,256.65\" style=\"stroke: #383838; stroke-width: 1.0;\"/><text fill=\"#000000\" font-family=\"sans-serif\" font-size=\"13\" lengthAdjust=\"spacingAndGlyphs\" textLength=\"64\" x=\"351.72\" y=\"260.0669\">«depend»</text></a><!--MD5=[da844413b7f2659c3c345d5d35caa5ae]\n",
       "@startuml\r\n",
       "left to right direction\r\n",
       "skinparam monochrome true\r\n",
       "skinparam classbackgroundcolor white\r\n",
       "skinparam shadowing false\r\n",
       "skinparam wrapWidth 300\r\n",
       "hide circle\r\n",
       "\r\n",
       "package \"DependencyTest\" as E1  [[psysml:fa3e9fbf-effa-4977-80ec-fe6e8fa57f4d ]]  {\r\n",
       "package \"System\" as E2  [[psysml:10c1ae57-66e9-4db6-bc3d-37ac2db9914a ]]  {\r\n",
       "package \"Application Layer\" as E3  [[psysml:f00bbef0-e3df-4574-9254-08b97b82cdf9 ]]  {\r\n",
       "}\r\n",
       "package \"Service Layer\" as E4  [[psysml:ca2e3746-a8d0-4883-91df-79f98ad99c0c ]]  {\r\n",
       "}\r\n",
       "package \"Data Layer\" as E5  [[psysml:31612912-620e-4f5b-bfbe-0087437cb05d ]]  {\r\n",
       "}\r\n",
       "}\r\n",
       "comp usage \"x \" as E6  <<(T,blue) attribute>> [[psysml:af126b68-a763-4b5e-ae0f-74aa81d9e434 ]] {\r\n",
       "}\r\n",
       "comp usage \"y \" as E7  <<(T,blue) attribute>> [[psysml:a5153252-c77e-42e1-a87d-8eb1cf591399 ]] {\r\n",
       "}\r\n",
       "comp usage \"z \" as E8  <<(T,blue) attribute>> [[psysml:4fcd16ab-62c7-48db-8542-d458ee8b30b8 ]] {\r\n",
       "}\r\n",
       "}\r\n",
       "E1 ..> E2 [[psysml:feb54464-815e-4611-ad28-7085b6ccbd88 ]] : <<import>>*\r\n",
       "E3 ..>> E4 [[psysml:46e8547b-a8f1-46c9-aa96-df26a1cf1e34 ]] : <<depend>>\r\n",
       "E4 ..>> E5 [[psysml:4580f085-b870-4b86-bde9-338fd4cc0a1d ]] : <<depend>>\r\n",
       "E8 ..>> E6 [[psysml:ef6c4171-27e8-4274-afa9-e3f35902caaf ]] : <<depend>>\r\n",
       "E8 ..>> E7 [[psysml:ef6c4171-27e8-4274-afa9-e3f35902caaf ]] : <<depend>>\r\n",
       "@enduml\r\n",
       "\n",
       "PlantUML version 1.2020.13(Sat Jun 13 12:26:38 UTC 2020)\n",
       "(EPL source distribution)\n",
       "Java Runtime: OpenJDK Runtime Environment\n",
       "JVM: OpenJDK 64-Bit Server VM\n",
       "Default Encoding: UTF-8\n",
       "Language: en\n",
       "Country: null\n",
       "--></g></svg>"
      ]
     },
     "execution_count": 16,
     "metadata": {},
     "output_type": "execute_result"
    }
   ],
   "source": [
    "%viz --style=\"LR\" --view=\"Default\" \"DependencyTest\""
   ]
  },
  {
   "cell_type": "code",
   "execution_count": 17,
   "id": "0dcfcd3e",
   "metadata": {
    "execution": {
     "iopub.execute_input": "2022-04-22T09:48:06.826996Z",
     "iopub.status.busy": "2022-04-22T09:48:06.826595Z",
     "iopub.status.idle": "2022-04-22T09:48:06.872821Z",
     "shell.execute_reply": "2022-04-22T09:48:06.872465Z"
    }
   },
   "outputs": [
    {
     "data": {
      "image/svg+xml": [
       "<?xml version=\"1.0\" encoding=\"UTF-8\" standalone=\"no\"?><svg xmlns=\"http://www.w3.org/2000/svg\" xmlns:xlink=\"http://www.w3.org/1999/xlink\" contentScriptType=\"application/ecmascript\" contentStyleType=\"text/css\" height=\"392px\" preserveAspectRatio=\"none\" style=\"width:860px;height:392px;\" version=\"1.1\" viewBox=\"0 0 860 392\" width=\"860px\" zoomAndPan=\"magnify\"><defs/><g><!--MD5=[fbc87193dbaf4d95561dea2c320d4a47]\n",
       "cluster E1--><a href=\"psysml:fa3e9fbf-effa-4977-80ec-fe6e8fa57f4d\" target=\"_top\" title=\"psysml:fa3e9fbf-effa-4977-80ec-fe6e8fa57f4d\" xlink:actuate=\"onRequest\" xlink:href=\"psysml:fa3e9fbf-effa-4977-80ec-fe6e8fa57f4d\" xlink:show=\"new\" xlink:title=\"psysml:fa3e9fbf-effa-4977-80ec-fe6e8fa57f4d\" xlink:type=\"simple\"><polygon fill=\"#FFFFFF\" points=\"16,6,142,6,149,28.2969,838.72,28.2969,838.72,380,16,380,16,6\" style=\"stroke: #000000; stroke-width: 1.5;\"/><line style=\"stroke: #000000; stroke-width: 1.5;\" x1=\"16\" x2=\"149\" y1=\"28.2969\" y2=\"28.2969\"/><text fill=\"#000000\" font-family=\"sans-serif\" font-size=\"14\" font-weight=\"bold\" lengthAdjust=\"spacingAndGlyphs\" textLength=\"120\" x=\"20\" y=\"20.9951\">DependencyTest</text></a><!--MD5=[e4f7fae6ed58524ba242bb0b0d3be6b7]\n",
       "cluster E2--><a href=\"psysml:10c1ae57-66e9-4db6-bc3d-37ac2db9914a\" target=\"_top\" title=\"psysml:10c1ae57-66e9-4db6-bc3d-37ac2db9914a\" xlink:actuate=\"onRequest\" xlink:href=\"psysml:10c1ae57-66e9-4db6-bc3d-37ac2db9914a\" xlink:show=\"new\" xlink:title=\"psysml:10c1ae57-66e9-4db6-bc3d-37ac2db9914a\" xlink:type=\"simple\"><polygon fill=\"#FFFFFF\" points=\"161.72,65,218.72,65,225.72,87.2969,798.72,87.2969,798.72,205,161.72,205,161.72,65\" style=\"stroke: #000000; stroke-width: 1.5;\"/><line style=\"stroke: #000000; stroke-width: 1.5;\" x1=\"161.72\" x2=\"225.72\" y1=\"87.2969\" y2=\"87.2969\"/><text fill=\"#000000\" font-family=\"sans-serif\" font-size=\"14\" font-weight=\"bold\" lengthAdjust=\"spacingAndGlyphs\" textLength=\"51\" x=\"165.72\" y=\"79.9951\">System</text></a><!--MD5=[60a26617385b1d2d0262a64233df1f8d]\n",
       "class E6--><a href=\"psysml:af126b68-a763-4b5e-ae0f-74aa81d9e434\" target=\"_top\" title=\"psysml:af126b68-a763-4b5e-ae0f-74aa81d9e434\" xlink:actuate=\"onRequest\" xlink:href=\"psysml:af126b68-a763-4b5e-ae0f-74aa81d9e434\" xlink:show=\"new\" xlink:title=\"psysml:af126b68-a763-4b5e-ae0f-74aa81d9e434\" xlink:type=\"simple\"><rect fill=\"#FFFFFF\" height=\"45.9375\" id=\"E6\" rx=\"10\" ry=\"10\" style=\"stroke: #383838; stroke-width: 1.5;\" width=\"71\" x=\"466.22\" y=\"310\"/><text fill=\"#000000\" font-family=\"sans-serif\" font-size=\"12\" font-style=\"italic\" lengthAdjust=\"spacingAndGlyphs\" textLength=\"69\" x=\"467.22\" y=\"326.1387\">«attribute»</text><text fill=\"#000000\" font-family=\"sans-serif\" font-size=\"12\" lengthAdjust=\"spacingAndGlyphs\" textLength=\"6\" x=\"496.72\" y=\"340.1074\">x</text><line style=\"stroke: #383838; stroke-width: 1.5;\" x1=\"467.22\" x2=\"536.22\" y1=\"347.9375\" y2=\"347.9375\"/></a><!--MD5=[2156ba9850f5573cc1fc38a6a4b2f02b]\n",
       "class E7--><a href=\"psysml:a5153252-c77e-42e1-a87d-8eb1cf591399\" target=\"_top\" title=\"psysml:a5153252-c77e-42e1-a87d-8eb1cf591399\" xlink:actuate=\"onRequest\" xlink:href=\"psysml:a5153252-c77e-42e1-a87d-8eb1cf591399\" xlink:show=\"new\" xlink:title=\"psysml:a5153252-c77e-42e1-a87d-8eb1cf591399\" xlink:type=\"simple\"><rect fill=\"#FFFFFF\" height=\"45.9375\" id=\"E7\" rx=\"10\" ry=\"10\" style=\"stroke: #383838; stroke-width: 1.5;\" width=\"71\" x=\"466.22\" y=\"229\"/><text fill=\"#000000\" font-family=\"sans-serif\" font-size=\"12\" font-style=\"italic\" lengthAdjust=\"spacingAndGlyphs\" textLength=\"69\" x=\"467.22\" y=\"245.1387\">«attribute»</text><text fill=\"#000000\" font-family=\"sans-serif\" font-size=\"12\" lengthAdjust=\"spacingAndGlyphs\" textLength=\"6\" x=\"496.72\" y=\"259.1074\">y</text><line style=\"stroke: #383838; stroke-width: 1.5;\" x1=\"467.22\" x2=\"536.22\" y1=\"266.9375\" y2=\"266.9375\"/></a><!--MD5=[b9389687b975829384b498ac4b7476b2]\n",
       "class E8--><a href=\"psysml:4fcd16ab-62c7-48db-8542-d458ee8b30b8\" target=\"_top\" title=\"psysml:4fcd16ab-62c7-48db-8542-d458ee8b30b8\" xlink:actuate=\"onRequest\" xlink:href=\"psysml:4fcd16ab-62c7-48db-8542-d458ee8b30b8\" xlink:show=\"new\" xlink:title=\"psysml:4fcd16ab-62c7-48db-8542-d458ee8b30b8\" xlink:type=\"simple\"><rect fill=\"#FFFFFF\" height=\"45.9375\" id=\"E8\" rx=\"10\" ry=\"10\" style=\"stroke: #383838; stroke-width: 1.5;\" width=\"71\" x=\"217.72\" y=\"262\"/><text fill=\"#000000\" font-family=\"sans-serif\" font-size=\"12\" font-style=\"italic\" lengthAdjust=\"spacingAndGlyphs\" textLength=\"69\" x=\"218.72\" y=\"278.1387\">«attribute»</text><text fill=\"#000000\" font-family=\"sans-serif\" font-size=\"12\" lengthAdjust=\"spacingAndGlyphs\" textLength=\"5\" x=\"248.72\" y=\"292.1074\">z</text><line style=\"stroke: #383838; stroke-width: 1.5;\" x1=\"218.72\" x2=\"287.72\" y1=\"299.9375\" y2=\"299.9375\"/></a><a href=\"psysml:f00bbef0-e3df-4574-9254-08b97b82cdf9\" target=\"_top\" title=\"psysml:f00bbef0-e3df-4574-9254-08b97b82cdf9\" xlink:actuate=\"onRequest\" xlink:href=\"psysml:f00bbef0-e3df-4574-9254-08b97b82cdf9\" xlink:show=\"new\" xlink:title=\"psysml:f00bbef0-e3df-4574-9254-08b97b82cdf9\" xlink:type=\"simple\"><polygon fill=\"#FFFFFF\" points=\"185.72,108.5,306.72,108.5,313.72,130.7969,320.72,130.7969,320.72,161.0938,185.72,161.0938,185.72,108.5\" style=\"stroke: #000000; stroke-width: 1.5;\"/><line style=\"stroke: #000000; stroke-width: 1.5;\" x1=\"185.72\" x2=\"313.72\" y1=\"130.7969\" y2=\"130.7969\"/><text fill=\"#000000\" font-family=\"sans-serif\" font-size=\"14\" font-weight=\"bold\" lengthAdjust=\"spacingAndGlyphs\" textLength=\"115\" x=\"189.72\" y=\"123.4951\">Application Layer</text></a><a href=\"psysml:ca2e3746-a8d0-4883-91df-79f98ad99c0c\" target=\"_top\" title=\"psysml:ca2e3746-a8d0-4883-91df-79f98ad99c0c\" xlink:actuate=\"onRequest\" xlink:href=\"psysml:ca2e3746-a8d0-4883-91df-79f98ad99c0c\" xlink:show=\"new\" xlink:title=\"psysml:ca2e3746-a8d0-4883-91df-79f98ad99c0c\" xlink:type=\"simple\"><polygon fill=\"#FFFFFF\" points=\"446.72,108.5,542.72,108.5,549.72,130.7969,556.72,130.7969,556.72,161.0938,446.72,161.0938,446.72,108.5\" style=\"stroke: #000000; stroke-width: 1.5;\"/><line style=\"stroke: #000000; stroke-width: 1.5;\" x1=\"446.72\" x2=\"549.72\" y1=\"130.7969\" y2=\"130.7969\"/><text fill=\"#000000\" font-family=\"sans-serif\" font-size=\"14\" font-weight=\"bold\" lengthAdjust=\"spacingAndGlyphs\" textLength=\"90\" x=\"450.72\" y=\"123.4951\">Service Layer</text></a><a href=\"psysml:31612912-620e-4f5b-bfbe-0087437cb05d\" target=\"_top\" title=\"psysml:31612912-620e-4f5b-bfbe-0087437cb05d\" xlink:actuate=\"onRequest\" xlink:href=\"psysml:31612912-620e-4f5b-bfbe-0087437cb05d\" xlink:show=\"new\" xlink:title=\"psysml:31612912-620e-4f5b-bfbe-0087437cb05d\" xlink:type=\"simple\"><polygon fill=\"#FFFFFF\" points=\"682.72,108.5,760.72,108.5,767.72,130.7969,774.72,130.7969,774.72,161.0938,682.72,161.0938,682.72,108.5\" style=\"stroke: #000000; stroke-width: 1.5;\"/><line style=\"stroke: #000000; stroke-width: 1.5;\" x1=\"682.72\" x2=\"767.72\" y1=\"130.7969\" y2=\"130.7969\"/><text fill=\"#000000\" font-family=\"sans-serif\" font-size=\"14\" font-weight=\"bold\" lengthAdjust=\"spacingAndGlyphs\" textLength=\"72\" x=\"686.72\" y=\"123.4951\">Data Layer</text></a><!--MD5=[1f1cd8e6dd4c1b2ca2aaccc9b9bcea6e]\n",
       "link E1 to E2--><a href=\"psysml:feb54464-815e-4611-ad28-7085b6ccbd88\" target=\"_top\" title=\"psysml:feb54464-815e-4611-ad28-7085b6ccbd88\" xlink:actuate=\"onRequest\" xlink:href=\"psysml:feb54464-815e-4611-ad28-7085b6ccbd88\" xlink:show=\"new\" xlink:title=\"psysml:feb54464-815e-4611-ad28-7085b6ccbd88\" xlink:type=\"simple\"><path d=\"M24.88,197 C28.275,197 83.4,197 138.5113,197 C145.4002,197 152.2888,197 159.0763,197 C159.9247,197 160.7715,197 161.6166,197 \" fill=\"none\" id=\"E1-&gt;E2\" style=\"stroke: #383838; stroke-width: 1.0; stroke-dasharray: 7.0,7.0;\"/><polygon fill=\"#383838\" points=\"161.6166,197,152.6166,193,156.6166,197,152.6166,201,161.6166,197\" style=\"stroke: #383838; stroke-width: 1.0;\"/><text fill=\"#000000\" font-family=\"sans-serif\" font-size=\"13\" lengthAdjust=\"spacingAndGlyphs\" textLength=\"65\" x=\"55.72\" y=\"193.0669\">«import»*</text></a><!--MD5=[af87c684e3b0d8be13c1a698a818ef1e]\n",
       "link E3 to E4--><a href=\"psysml:46e8547b-a8f1-46c9-aa96-df26a1cf1e34\" target=\"_top\" title=\"psysml:46e8547b-a8f1-46c9-aa96-df26a1cf1e34\" xlink:actuate=\"onRequest\" xlink:href=\"psysml:46e8547b-a8f1-46c9-aa96-df26a1cf1e34\" xlink:show=\"new\" xlink:title=\"psysml:46e8547b-a8f1-46c9-aa96-df26a1cf1e34\" xlink:type=\"simple\"><path d=\"M320.93,135 C357.36,135 402.21,135 438,135 \" fill=\"none\" id=\"E3-&gt;E4\" style=\"stroke: #383838; stroke-width: 1.0; stroke-dasharray: 7.0,7.0;\"/><polygon fill=\"#383838\" points=\"446.42,135,438.42,132,438.42,138,446.42,135\" style=\"stroke: #383838; stroke-width: 1.0;\"/><text fill=\"#000000\" font-family=\"sans-serif\" font-size=\"13\" lengthAdjust=\"spacingAndGlyphs\" textLength=\"64\" x=\"351.72\" y=\"131.0669\">«depend»</text></a><!--MD5=[1b7591eae5389033d8d09a9d6721a717]\n",
       "link E4 to E5--><a href=\"psysml:4580f085-b870-4b86-bde9-338fd4cc0a1d\" target=\"_top\" title=\"psysml:4580f085-b870-4b86-bde9-338fd4cc0a1d\" xlink:actuate=\"onRequest\" xlink:href=\"psysml:4580f085-b870-4b86-bde9-338fd4cc0a1d\" xlink:show=\"new\" xlink:title=\"psysml:4580f085-b870-4b86-bde9-338fd4cc0a1d\" xlink:type=\"simple\"><path d=\"M556.9,135 C592.53,135 638.96,135 674.41,135 \" fill=\"none\" id=\"E4-&gt;E5\" style=\"stroke: #383838; stroke-width: 1.0; stroke-dasharray: 7.0,7.0;\"/><polygon fill=\"#383838\" points=\"682.72,135,674.72,132,674.72,138,682.72,135\" style=\"stroke: #383838; stroke-width: 1.0;\"/><text fill=\"#000000\" font-family=\"sans-serif\" font-size=\"13\" lengthAdjust=\"spacingAndGlyphs\" textLength=\"64\" x=\"587.72\" y=\"131.0669\">«depend»</text></a><!--MD5=[c5e8897d989ce984f93528998a7150fe]\n",
       "link E8 to E6--><a href=\"psysml:ef6c4171-27e8-4274-afa9-e3f35902caaf\" target=\"_top\" title=\"psysml:ef6c4171-27e8-4274-afa9-e3f35902caaf\" xlink:actuate=\"onRequest\" xlink:href=\"psysml:ef6c4171-27e8-4274-afa9-e3f35902caaf\" xlink:show=\"new\" xlink:title=\"psysml:ef6c4171-27e8-4274-afa9-e3f35902caaf\" xlink:type=\"simple\"><path d=\"M288.75,291.72 C333.09,300.36 410.02,315.34 458,324.68 \" fill=\"none\" id=\"E8-&gt;E6\" style=\"stroke: #383838; stroke-width: 1.0; stroke-dasharray: 7.0,7.0;\"/><polygon fill=\"#383838\" points=\"466.02,326.24,458.7416,321.765,457.5938,327.6542,466.02,326.24\" style=\"stroke: #383838; stroke-width: 1.0;\"/><text fill=\"#000000\" font-family=\"sans-serif\" font-size=\"13\" lengthAdjust=\"spacingAndGlyphs\" textLength=\"64\" x=\"351.72\" y=\"301.0669\">«depend»</text></a><!--MD5=[bfa3c8b0d15052fdf50ae9310b491027]\n",
       "link E8 to E7--><a href=\"psysml:ef6c4171-27e8-4274-afa9-e3f35902caaf\" target=\"_top\" title=\"psysml:ef6c4171-27e8-4274-afa9-e3f35902caaf\" xlink:actuate=\"onRequest\" xlink:href=\"psysml:ef6c4171-27e8-4274-afa9-e3f35902caaf\" xlink:show=\"new\" xlink:title=\"psysml:ef6c4171-27e8-4274-afa9-e3f35902caaf\" xlink:type=\"simple\"><path d=\"M288.75,280.38 C333.09,274.44 410.02,264.14 458,257.72 \" fill=\"none\" id=\"E8-&gt;E7\" style=\"stroke: #383838; stroke-width: 1.0; stroke-dasharray: 7.0,7.0;\"/><polygon fill=\"#383838\" points=\"466.02,256.65,457.6937,254.7336,458.4867,260.681,466.02,256.65\" style=\"stroke: #383838; stroke-width: 1.0;\"/><text fill=\"#000000\" font-family=\"sans-serif\" font-size=\"13\" lengthAdjust=\"spacingAndGlyphs\" textLength=\"64\" x=\"351.72\" y=\"260.0669\">«depend»</text></a><!--MD5=[da844413b7f2659c3c345d5d35caa5ae]\n",
       "@startuml\r\n",
       "left to right direction\r\n",
       "skinparam monochrome true\r\n",
       "skinparam classbackgroundcolor white\r\n",
       "skinparam shadowing false\r\n",
       "skinparam wrapWidth 300\r\n",
       "hide circle\r\n",
       "\r\n",
       "package \"DependencyTest\" as E1  [[psysml:fa3e9fbf-effa-4977-80ec-fe6e8fa57f4d ]]  {\r\n",
       "package \"System\" as E2  [[psysml:10c1ae57-66e9-4db6-bc3d-37ac2db9914a ]]  {\r\n",
       "package \"Application Layer\" as E3  [[psysml:f00bbef0-e3df-4574-9254-08b97b82cdf9 ]]  {\r\n",
       "}\r\n",
       "package \"Service Layer\" as E4  [[psysml:ca2e3746-a8d0-4883-91df-79f98ad99c0c ]]  {\r\n",
       "}\r\n",
       "package \"Data Layer\" as E5  [[psysml:31612912-620e-4f5b-bfbe-0087437cb05d ]]  {\r\n",
       "}\r\n",
       "}\r\n",
       "comp usage \"x \" as E6  <<(T,blue) attribute>> [[psysml:af126b68-a763-4b5e-ae0f-74aa81d9e434 ]] {\r\n",
       "}\r\n",
       "comp usage \"y \" as E7  <<(T,blue) attribute>> [[psysml:a5153252-c77e-42e1-a87d-8eb1cf591399 ]] {\r\n",
       "}\r\n",
       "comp usage \"z \" as E8  <<(T,blue) attribute>> [[psysml:4fcd16ab-62c7-48db-8542-d458ee8b30b8 ]] {\r\n",
       "}\r\n",
       "}\r\n",
       "E1 ..> E2 [[psysml:feb54464-815e-4611-ad28-7085b6ccbd88 ]] : <<import>>*\r\n",
       "E3 ..>> E4 [[psysml:46e8547b-a8f1-46c9-aa96-df26a1cf1e34 ]] : <<depend>>\r\n",
       "E4 ..>> E5 [[psysml:4580f085-b870-4b86-bde9-338fd4cc0a1d ]] : <<depend>>\r\n",
       "E8 ..>> E6 [[psysml:ef6c4171-27e8-4274-afa9-e3f35902caaf ]] : <<depend>>\r\n",
       "E8 ..>> E7 [[psysml:ef6c4171-27e8-4274-afa9-e3f35902caaf ]] : <<depend>>\r\n",
       "@enduml\r\n",
       "\n",
       "PlantUML version 1.2020.13(Sat Jun 13 12:26:38 UTC 2020)\n",
       "(EPL source distribution)\n",
       "Java Runtime: OpenJDK Runtime Environment\n",
       "JVM: OpenJDK 64-Bit Server VM\n",
       "Default Encoding: UTF-8\n",
       "Language: en\n",
       "Country: null\n",
       "--></g></svg>"
      ]
     },
     "execution_count": 17,
     "metadata": {},
     "output_type": "execute_result"
    }
   ],
   "source": [
    "%viz --style=\"LR\" --view=\"Tree\" \"DependencyTest\""
   ]
  },
  {
   "cell_type": "code",
   "execution_count": 18,
   "id": "c5e7a712",
   "metadata": {
    "execution": {
     "iopub.execute_input": "2022-04-22T09:48:06.922458Z",
     "iopub.status.busy": "2022-04-22T09:48:06.922056Z",
     "iopub.status.idle": "2022-04-22T09:48:06.928123Z",
     "shell.execute_reply": "2022-04-22T09:48:06.928446Z"
    }
   },
   "outputs": [
    {
     "data": {
      "image/svg+xml": [
       "<?xml version=\"1.0\" encoding=\"UTF-8\" standalone=\"no\"?><svg xmlns=\"http://www.w3.org/2000/svg\" xmlns:xlink=\"http://www.w3.org/1999/xlink\" contentScriptType=\"application/ecmascript\" contentStyleType=\"text/css\" height=\"12px\" preserveAspectRatio=\"none\" style=\"width:12px;height:12px;\" version=\"1.1\" viewBox=\"0 0 12 12\" width=\"12px\" zoomAndPan=\"magnify\"><defs/><g><!--MD5=[19d285c9d72a204eba4e2cd117d745e8]\n",
       "@startuml\r\n",
       "left to right direction\r\n",
       "skinparam monochrome true\r\n",
       "skinparam classbackgroundcolor white\r\n",
       "skinparam shadowing false\r\n",
       "skinparam wrapWidth 300\r\n",
       "hide circle\r\n",
       "\r\n",
       "@enduml\r\n",
       "\n",
       "PlantUML version 1.2020.13(Sat Jun 13 12:26:38 UTC 2020)\n",
       "(EPL source distribution)\n",
       "Java Runtime: OpenJDK Runtime Environment\n",
       "JVM: OpenJDK 64-Bit Server VM\n",
       "Default Encoding: UTF-8\n",
       "Language: en\n",
       "Country: null\n",
       "--></g></svg>"
      ]
     },
     "execution_count": 18,
     "metadata": {},
     "output_type": "execute_result"
    }
   ],
   "source": [
    "%viz --style=\"LR\" --view=\"State\" \"DependencyTest\""
   ]
  },
  {
   "cell_type": "code",
   "execution_count": 19,
   "id": "c047918f",
   "metadata": {
    "execution": {
     "iopub.execute_input": "2022-04-22T09:48:06.978535Z",
     "iopub.status.busy": "2022-04-22T09:48:06.978112Z",
     "iopub.status.idle": "2022-04-22T09:48:07.019357Z",
     "shell.execute_reply": "2022-04-22T09:48:07.019018Z"
    }
   },
   "outputs": [
    {
     "data": {
      "image/svg+xml": [
       "<?xml version=\"1.0\" encoding=\"UTF-8\" standalone=\"no\"?><svg xmlns=\"http://www.w3.org/2000/svg\" xmlns:xlink=\"http://www.w3.org/1999/xlink\" contentScriptType=\"application/ecmascript\" contentStyleType=\"text/css\" height=\"392px\" preserveAspectRatio=\"none\" style=\"width:750px;height:392px;\" version=\"1.1\" viewBox=\"0 0 750 392\" width=\"750px\" zoomAndPan=\"magnify\"><defs/><g><!--MD5=[fbc87193dbaf4d95561dea2c320d4a47]\n",
       "cluster E1--><a href=\"psysml:fa3e9fbf-effa-4977-80ec-fe6e8fa57f4d\" target=\"_top\" title=\"psysml:fa3e9fbf-effa-4977-80ec-fe6e8fa57f4d\" xlink:actuate=\"onRequest\" xlink:href=\"psysml:fa3e9fbf-effa-4977-80ec-fe6e8fa57f4d\" xlink:show=\"new\" xlink:title=\"psysml:fa3e9fbf-effa-4977-80ec-fe6e8fa57f4d\" xlink:type=\"simple\"><polygon fill=\"#FFFFFF\" points=\"16,6,142,6,149,28.2969,728.72,28.2969,728.72,380,16,380,16,6\" style=\"stroke: #000000; stroke-width: 1.5;\"/><line style=\"stroke: #000000; stroke-width: 1.5;\" x1=\"16\" x2=\"149\" y1=\"28.2969\" y2=\"28.2969\"/><text fill=\"#000000\" font-family=\"sans-serif\" font-size=\"14\" font-weight=\"bold\" lengthAdjust=\"spacingAndGlyphs\" textLength=\"120\" x=\"20\" y=\"20.9951\">DependencyTest</text></a><!--MD5=[e4f7fae6ed58524ba242bb0b0d3be6b7]\n",
       "cluster E2--><a href=\"psysml:10c1ae57-66e9-4db6-bc3d-37ac2db9914a\" target=\"_top\" title=\"psysml:10c1ae57-66e9-4db6-bc3d-37ac2db9914a\" xlink:actuate=\"onRequest\" xlink:href=\"psysml:10c1ae57-66e9-4db6-bc3d-37ac2db9914a\" xlink:show=\"new\" xlink:title=\"psysml:10c1ae57-66e9-4db6-bc3d-37ac2db9914a\" xlink:type=\"simple\"><polygon fill=\"#FFFFFF\" points=\"139.72,65,196.72,65,203.72,87.2969,688.72,87.2969,688.72,205,139.72,205,139.72,65\" style=\"stroke: #000000; stroke-width: 1.5;\"/><line style=\"stroke: #000000; stroke-width: 1.5;\" x1=\"139.72\" x2=\"203.72\" y1=\"87.2969\" y2=\"87.2969\"/><text fill=\"#000000\" font-family=\"sans-serif\" font-size=\"14\" font-weight=\"bold\" lengthAdjust=\"spacingAndGlyphs\" textLength=\"51\" x=\"143.72\" y=\"79.9951\">System</text></a><!--MD5=[60a26617385b1d2d0262a64233df1f8d]\n",
       "class E6--><a href=\"psysml:af126b68-a763-4b5e-ae0f-74aa81d9e434\" target=\"_top\" title=\"psysml:af126b68-a763-4b5e-ae0f-74aa81d9e434\" xlink:actuate=\"onRequest\" xlink:href=\"psysml:af126b68-a763-4b5e-ae0f-74aa81d9e434\" xlink:show=\"new\" xlink:title=\"psysml:af126b68-a763-4b5e-ae0f-74aa81d9e434\" xlink:type=\"simple\"><rect fill=\"#FFFFFF\" height=\"45.9375\" id=\"E6\" rx=\"10\" ry=\"10\" style=\"stroke: #383838; stroke-width: 1.5;\" width=\"71\" x=\"400.22\" y=\"310\"/><text fill=\"#000000\" font-family=\"sans-serif\" font-size=\"12\" font-style=\"italic\" lengthAdjust=\"spacingAndGlyphs\" textLength=\"69\" x=\"401.22\" y=\"326.1387\">«attribute»</text><text fill=\"#000000\" font-family=\"sans-serif\" font-size=\"12\" lengthAdjust=\"spacingAndGlyphs\" textLength=\"6\" x=\"430.72\" y=\"340.1074\">x</text><line style=\"stroke: #383838; stroke-width: 1.5;\" x1=\"401.22\" x2=\"470.22\" y1=\"347.9375\" y2=\"347.9375\"/></a><!--MD5=[2156ba9850f5573cc1fc38a6a4b2f02b]\n",
       "class E7--><a href=\"psysml:a5153252-c77e-42e1-a87d-8eb1cf591399\" target=\"_top\" title=\"psysml:a5153252-c77e-42e1-a87d-8eb1cf591399\" xlink:actuate=\"onRequest\" xlink:href=\"psysml:a5153252-c77e-42e1-a87d-8eb1cf591399\" xlink:show=\"new\" xlink:title=\"psysml:a5153252-c77e-42e1-a87d-8eb1cf591399\" xlink:type=\"simple\"><rect fill=\"#FFFFFF\" height=\"45.9375\" id=\"E7\" rx=\"10\" ry=\"10\" style=\"stroke: #383838; stroke-width: 1.5;\" width=\"71\" x=\"400.22\" y=\"229\"/><text fill=\"#000000\" font-family=\"sans-serif\" font-size=\"12\" font-style=\"italic\" lengthAdjust=\"spacingAndGlyphs\" textLength=\"69\" x=\"401.22\" y=\"245.1387\">«attribute»</text><text fill=\"#000000\" font-family=\"sans-serif\" font-size=\"12\" lengthAdjust=\"spacingAndGlyphs\" textLength=\"6\" x=\"430.72\" y=\"259.1074\">y</text><line style=\"stroke: #383838; stroke-width: 1.5;\" x1=\"401.22\" x2=\"470.22\" y1=\"266.9375\" y2=\"266.9375\"/></a><!--MD5=[b9389687b975829384b498ac4b7476b2]\n",
       "class E8--><a href=\"psysml:4fcd16ab-62c7-48db-8542-d458ee8b30b8\" target=\"_top\" title=\"psysml:4fcd16ab-62c7-48db-8542-d458ee8b30b8\" xlink:actuate=\"onRequest\" xlink:href=\"psysml:4fcd16ab-62c7-48db-8542-d458ee8b30b8\" xlink:show=\"new\" xlink:title=\"psysml:4fcd16ab-62c7-48db-8542-d458ee8b30b8\" xlink:type=\"simple\"><rect fill=\"#FFFFFF\" height=\"45.9375\" id=\"E8\" rx=\"10\" ry=\"10\" style=\"stroke: #383838; stroke-width: 1.5;\" width=\"71\" x=\"195.72\" y=\"262\"/><text fill=\"#000000\" font-family=\"sans-serif\" font-size=\"12\" font-style=\"italic\" lengthAdjust=\"spacingAndGlyphs\" textLength=\"69\" x=\"196.72\" y=\"278.1387\">«attribute»</text><text fill=\"#000000\" font-family=\"sans-serif\" font-size=\"12\" lengthAdjust=\"spacingAndGlyphs\" textLength=\"5\" x=\"226.72\" y=\"292.1074\">z</text><line style=\"stroke: #383838; stroke-width: 1.5;\" x1=\"196.72\" x2=\"265.72\" y1=\"299.9375\" y2=\"299.9375\"/></a><a href=\"psysml:f00bbef0-e3df-4574-9254-08b97b82cdf9\" target=\"_top\" title=\"psysml:f00bbef0-e3df-4574-9254-08b97b82cdf9\" xlink:actuate=\"onRequest\" xlink:href=\"psysml:f00bbef0-e3df-4574-9254-08b97b82cdf9\" xlink:show=\"new\" xlink:title=\"psysml:f00bbef0-e3df-4574-9254-08b97b82cdf9\" xlink:type=\"simple\"><polygon fill=\"#FFFFFF\" points=\"163.72,108.5,284.72,108.5,291.72,130.7969,298.72,130.7969,298.72,161.0938,163.72,161.0938,163.72,108.5\" style=\"stroke: #000000; stroke-width: 1.5;\"/><line style=\"stroke: #000000; stroke-width: 1.5;\" x1=\"163.72\" x2=\"291.72\" y1=\"130.7969\" y2=\"130.7969\"/><text fill=\"#000000\" font-family=\"sans-serif\" font-size=\"14\" font-weight=\"bold\" lengthAdjust=\"spacingAndGlyphs\" textLength=\"115\" x=\"167.72\" y=\"123.4951\">Application Layer</text></a><a href=\"psysml:ca2e3746-a8d0-4883-91df-79f98ad99c0c\" target=\"_top\" title=\"psysml:ca2e3746-a8d0-4883-91df-79f98ad99c0c\" xlink:actuate=\"onRequest\" xlink:href=\"psysml:ca2e3746-a8d0-4883-91df-79f98ad99c0c\" xlink:show=\"new\" xlink:title=\"psysml:ca2e3746-a8d0-4883-91df-79f98ad99c0c\" xlink:type=\"simple\"><polygon fill=\"#FFFFFF\" points=\"380.72,108.5,476.72,108.5,483.72,130.7969,490.72,130.7969,490.72,161.0938,380.72,161.0938,380.72,108.5\" style=\"stroke: #000000; stroke-width: 1.5;\"/><line style=\"stroke: #000000; stroke-width: 1.5;\" x1=\"380.72\" x2=\"483.72\" y1=\"130.7969\" y2=\"130.7969\"/><text fill=\"#000000\" font-family=\"sans-serif\" font-size=\"14\" font-weight=\"bold\" lengthAdjust=\"spacingAndGlyphs\" textLength=\"90\" x=\"384.72\" y=\"123.4951\">Service Layer</text></a><a href=\"psysml:31612912-620e-4f5b-bfbe-0087437cb05d\" target=\"_top\" title=\"psysml:31612912-620e-4f5b-bfbe-0087437cb05d\" xlink:actuate=\"onRequest\" xlink:href=\"psysml:31612912-620e-4f5b-bfbe-0087437cb05d\" xlink:show=\"new\" xlink:title=\"psysml:31612912-620e-4f5b-bfbe-0087437cb05d\" xlink:type=\"simple\"><polygon fill=\"#FFFFFF\" points=\"572.72,108.5,650.72,108.5,657.72,130.7969,664.72,130.7969,664.72,161.0938,572.72,161.0938,572.72,108.5\" style=\"stroke: #000000; stroke-width: 1.5;\"/><line style=\"stroke: #000000; stroke-width: 1.5;\" x1=\"572.72\" x2=\"657.72\" y1=\"130.7969\" y2=\"130.7969\"/><text fill=\"#000000\" font-family=\"sans-serif\" font-size=\"14\" font-weight=\"bold\" lengthAdjust=\"spacingAndGlyphs\" textLength=\"72\" x=\"576.72\" y=\"123.4951\">Data Layer</text></a><!--MD5=[1f1cd8e6dd4c1b2ca2aaccc9b9bcea6e]\n",
       "link E1 to E2--><a href=\"psysml:feb54464-815e-4611-ad28-7085b6ccbd88\" target=\"_top\" title=\"psysml:feb54464-815e-4611-ad28-7085b6ccbd88\" xlink:actuate=\"onRequest\" xlink:href=\"psysml:feb54464-815e-4611-ad28-7085b6ccbd88\" xlink:show=\"new\" xlink:title=\"psysml:feb54464-815e-4611-ad28-7085b6ccbd88\" xlink:type=\"simple\"><path d=\"M24.87,197 C27.93,197 77.7225,197 127.505,197 C130.6164,197 133.7278,197 136.8277,197 C137.6027,197 138.3769,197 139.1503,197 \" fill=\"none\" id=\"E1-&gt;E2\" style=\"stroke: #383838; stroke-width: 1.0; stroke-dasharray: 7.0,7.0;\"/><polygon fill=\"#383838\" points=\"139.1503,197,130.1503,193,134.1503,197,130.1503,201,139.1503,197\" style=\"stroke: #383838; stroke-width: 1.0;\"/><text fill=\"#000000\" font-family=\"sans-serif\" font-size=\"13\" lengthAdjust=\"spacingAndGlyphs\" textLength=\"65\" x=\"33.72\" y=\"193.0669\">«import»*</text></a><!--MD5=[af87c684e3b0d8be13c1a698a818ef1e]\n",
       "link E3 to E4--><a href=\"psysml:46e8547b-a8f1-46c9-aa96-df26a1cf1e34\" target=\"_top\" title=\"psysml:46e8547b-a8f1-46c9-aa96-df26a1cf1e34\" xlink:actuate=\"onRequest\" xlink:href=\"psysml:46e8547b-a8f1-46c9-aa96-df26a1cf1e34\" xlink:show=\"new\" xlink:title=\"psysml:46e8547b-a8f1-46c9-aa96-df26a1cf1e34\" xlink:type=\"simple\"><path d=\"M298.81,135 C322.52,135 349.13,135 372.47,135 \" fill=\"none\" id=\"E3-&gt;E4\" style=\"stroke: #383838; stroke-width: 1.0; stroke-dasharray: 7.0,7.0;\"/><polygon fill=\"#383838\" points=\"380.58,135,372.58,132,372.58,138,380.58,135\" style=\"stroke: #383838; stroke-width: 1.0;\"/><text fill=\"#000000\" font-family=\"sans-serif\" font-size=\"13\" lengthAdjust=\"spacingAndGlyphs\" textLength=\"64\" x=\"307.72\" y=\"131.0669\">«depend»</text></a><!--MD5=[1b7591eae5389033d8d09a9d6721a717]\n",
       "link E4 to E5--><a href=\"psysml:4580f085-b870-4b86-bde9-338fd4cc0a1d\" target=\"_top\" title=\"psysml:4580f085-b870-4b86-bde9-338fd4cc0a1d\" xlink:actuate=\"onRequest\" xlink:href=\"psysml:4580f085-b870-4b86-bde9-338fd4cc0a1d\" xlink:show=\"new\" xlink:title=\"psysml:4580f085-b870-4b86-bde9-338fd4cc0a1d\" xlink:type=\"simple\"><path d=\"M491.03,135 C514.31,135 541.43,135 564.58,135 \" fill=\"none\" id=\"E4-&gt;E5\" style=\"stroke: #383838; stroke-width: 1.0; stroke-dasharray: 7.0,7.0;\"/><polygon fill=\"#383838\" points=\"572.6,135,564.6,132,564.6,138,572.6,135\" style=\"stroke: #383838; stroke-width: 1.0;\"/><text fill=\"#000000\" font-family=\"sans-serif\" font-size=\"13\" lengthAdjust=\"spacingAndGlyphs\" textLength=\"64\" x=\"499.72\" y=\"131.0669\">«depend»</text></a><!--MD5=[c5e8897d989ce984f93528998a7150fe]\n",
       "link E8 to E6--><a href=\"psysml:ef6c4171-27e8-4274-afa9-e3f35902caaf\" target=\"_top\" title=\"psysml:ef6c4171-27e8-4274-afa9-e3f35902caaf\" xlink:actuate=\"onRequest\" xlink:href=\"psysml:ef6c4171-27e8-4274-afa9-e3f35902caaf\" xlink:show=\"new\" xlink:title=\"psysml:ef6c4171-27e8-4274-afa9-e3f35902caaf\" xlink:type=\"simple\"><path d=\"M267.03,293.25 C301.62,301.45 354.73,314.04 391.88,322.85 \" fill=\"none\" id=\"E8-&gt;E6\" style=\"stroke: #383838; stroke-width: 1.0; stroke-dasharray: 7.0,7.0;\"/><polygon fill=\"#383838\" points=\"400.03,324.78,392.9444,320.0057,391.5522,325.8419,400.03,324.78\" style=\"stroke: #383838; stroke-width: 1.0;\"/><text fill=\"#000000\" font-family=\"sans-serif\" font-size=\"13\" lengthAdjust=\"spacingAndGlyphs\" textLength=\"64\" x=\"307.72\" y=\"300.0669\">«depend»</text></a><!--MD5=[bfa3c8b0d15052fdf50ae9310b491027]\n",
       "link E8 to E7--><a href=\"psysml:ef6c4171-27e8-4274-afa9-e3f35902caaf\" target=\"_top\" title=\"psysml:ef6c4171-27e8-4274-afa9-e3f35902caaf\" xlink:actuate=\"onRequest\" xlink:href=\"psysml:ef6c4171-27e8-4274-afa9-e3f35902caaf\" xlink:show=\"new\" xlink:title=\"psysml:ef6c4171-27e8-4274-afa9-e3f35902caaf\" xlink:type=\"simple\"><path d=\"M267.03,279.33 C301.62,273.69 354.73,265.04 391.88,258.98 \" fill=\"none\" id=\"E8-&gt;E7\" style=\"stroke: #383838; stroke-width: 1.0; stroke-dasharray: 7.0,7.0;\"/><polygon fill=\"#383838\" points=\"400.03,257.65,391.6515,255.9764,392.617,261.8983,400.03,257.65\" style=\"stroke: #383838; stroke-width: 1.0;\"/><text fill=\"#000000\" font-family=\"sans-serif\" font-size=\"13\" lengthAdjust=\"spacingAndGlyphs\" textLength=\"64\" x=\"307.72\" y=\"259.0669\">«depend»</text></a><!--MD5=[556bd21a7b3697b722142ad40add74aa]\n",
       "@startuml\r\n",
       "skinparam ranksep 10\r\n",
       "skinparam rectangle {\r\n",
       " backgroundColor<<block>> LightGreen\r\n",
       "}\r\n",
       "left to right direction\r\n",
       "skinparam monochrome true\r\n",
       "skinparam classbackgroundcolor white\r\n",
       "skinparam shadowing false\r\n",
       "skinparam wrapWidth 300\r\n",
       "hide circle\r\n",
       "\r\n",
       "package \"DependencyTest\" as E1  [[psysml:fa3e9fbf-effa-4977-80ec-fe6e8fa57f4d ]]  {\r\n",
       "package \"System\" as E2  [[psysml:10c1ae57-66e9-4db6-bc3d-37ac2db9914a ]]  {\r\n",
       "package \"Application Layer\" as E3  [[psysml:f00bbef0-e3df-4574-9254-08b97b82cdf9 ]]  {\r\n",
       "}\r\n",
       "package \"Service Layer\" as E4  [[psysml:ca2e3746-a8d0-4883-91df-79f98ad99c0c ]]  {\r\n",
       "}\r\n",
       "package \"Data Layer\" as E5  [[psysml:31612912-620e-4f5b-bfbe-0087437cb05d ]]  {\r\n",
       "}\r\n",
       "}\r\n",
       "comp usage \"x \" as E6  <<(T,blue) attribute>> [[psysml:af126b68-a763-4b5e-ae0f-74aa81d9e434 ]] {\r\n",
       "}\r\n",
       "comp usage \"y \" as E7  <<(T,blue) attribute>> [[psysml:a5153252-c77e-42e1-a87d-8eb1cf591399 ]] {\r\n",
       "}\r\n",
       "comp usage \"z \" as E8  <<(T,blue) attribute>> [[psysml:4fcd16ab-62c7-48db-8542-d458ee8b30b8 ]] {\r\n",
       "}\r\n",
       "}\r\n",
       "E1 ..> E2 [[psysml:feb54464-815e-4611-ad28-7085b6ccbd88 ]] : <<import>>*\r\n",
       "E3 ..>> E4 [[psysml:46e8547b-a8f1-46c9-aa96-df26a1cf1e34 ]] : <<depend>>\r\n",
       "E4 ..>> E5 [[psysml:4580f085-b870-4b86-bde9-338fd4cc0a1d ]] : <<depend>>\r\n",
       "E8 ..>> E6 [[psysml:ef6c4171-27e8-4274-afa9-e3f35902caaf ]] : <<depend>>\r\n",
       "E8 ..>> E7 [[psysml:ef6c4171-27e8-4274-afa9-e3f35902caaf ]] : <<depend>>\r\n",
       "@enduml\r\n",
       "\n",
       "PlantUML version 1.2020.13(Sat Jun 13 12:26:38 UTC 2020)\n",
       "(EPL source distribution)\n",
       "Java Runtime: OpenJDK Runtime Environment\n",
       "JVM: OpenJDK 64-Bit Server VM\n",
       "Default Encoding: UTF-8\n",
       "Language: en\n",
       "Country: null\n",
       "--></g></svg>"
      ]
     },
     "execution_count": 19,
     "metadata": {},
     "output_type": "execute_result"
    }
   ],
   "source": [
    "%viz --style=\"LR\" --view=\"Interconnection\" \"DependencyTest\""
   ]
  },
  {
   "cell_type": "code",
   "execution_count": 20,
   "id": "77f75013",
   "metadata": {
    "execution": {
     "iopub.execute_input": "2022-04-22T09:48:07.069397Z",
     "iopub.status.busy": "2022-04-22T09:48:07.068917Z",
     "iopub.status.idle": "2022-04-22T09:48:07.074364Z",
     "shell.execute_reply": "2022-04-22T09:48:07.074675Z"
    }
   },
   "outputs": [
    {
     "data": {
      "image/svg+xml": [
       "<?xml version=\"1.0\" encoding=\"UTF-8\" standalone=\"no\"?><svg xmlns=\"http://www.w3.org/2000/svg\" xmlns:xlink=\"http://www.w3.org/1999/xlink\" contentScriptType=\"application/ecmascript\" contentStyleType=\"text/css\" height=\"12px\" preserveAspectRatio=\"none\" style=\"width:12px;height:12px;\" version=\"1.1\" viewBox=\"0 0 12 12\" width=\"12px\" zoomAndPan=\"magnify\"><defs/><g><!--MD5=[7aeb398939421629f6affaa4a1a7b125]\n",
       "@startuml\r\n",
       "skinparam ranksep 8\r\n",
       "left to right direction\r\n",
       "skinparam monochrome true\r\n",
       "skinparam classbackgroundcolor white\r\n",
       "skinparam shadowing false\r\n",
       "skinparam wrapWidth 300\r\n",
       "hide circle\r\n",
       "\r\n",
       "@enduml\r\n",
       "\n",
       "PlantUML version 1.2020.13(Sat Jun 13 12:26:38 UTC 2020)\n",
       "(EPL source distribution)\n",
       "Java Runtime: OpenJDK Runtime Environment\n",
       "JVM: OpenJDK 64-Bit Server VM\n",
       "Default Encoding: UTF-8\n",
       "Language: en\n",
       "Country: null\n",
       "--></g></svg>"
      ]
     },
     "execution_count": 20,
     "metadata": {},
     "output_type": "execute_result"
    }
   ],
   "source": [
    "%viz --style=\"LR\" --view=\"Action\" \"DependencyTest\""
   ]
  },
  {
   "cell_type": "code",
   "execution_count": 21,
   "id": "74f90452",
   "metadata": {
    "execution": {
     "iopub.execute_input": "2022-04-22T09:48:07.124855Z",
     "iopub.status.busy": "2022-04-22T09:48:07.124453Z",
     "iopub.status.idle": "2022-04-22T09:48:07.129715Z",
     "shell.execute_reply": "2022-04-22T09:48:07.130028Z"
    }
   },
   "outputs": [
    {
     "data": {
      "image/svg+xml": [
       "<?xml version=\"1.0\" encoding=\"UTF-8\" standalone=\"no\"?><svg xmlns=\"http://www.w3.org/2000/svg\" xmlns:xlink=\"http://www.w3.org/1999/xlink\" contentScriptType=\"application/ecmascript\" contentStyleType=\"text/css\" height=\"12px\" preserveAspectRatio=\"none\" style=\"width:12px;height:12px;\" version=\"1.1\" viewBox=\"0 0 12 12\" width=\"12px\" zoomAndPan=\"magnify\"><defs/><g><!--MD5=[238c11ea2002f03115ad6b49a457d50e]\n",
       "@startuml\r\n",
       "skinparam roundcorner 20\r\n",
       "skinparam BoxPadding 20\r\n",
       "skinparam SequenceBoxBackgroundColor #white\r\n",
       "skinparam style strictuml\r\n",
       "skinparam maxMessageSize 100\r\n",
       "left to right direction\r\n",
       "skinparam monochrome true\r\n",
       "skinparam classbackgroundcolor white\r\n",
       "skinparam shadowing false\r\n",
       "skinparam wrapWidth 300\r\n",
       "hide circle\r\n",
       "\r\n",
       "@enduml\r\n",
       "\n",
       "PlantUML version 1.2020.13(Sat Jun 13 12:26:38 UTC 2020)\n",
       "(EPL source distribution)\n",
       "Java Runtime: OpenJDK Runtime Environment\n",
       "JVM: OpenJDK 64-Bit Server VM\n",
       "Default Encoding: UTF-8\n",
       "Language: en\n",
       "Country: null\n",
       "--></g></svg>"
      ]
     },
     "execution_count": 21,
     "metadata": {},
     "output_type": "execute_result"
    }
   ],
   "source": [
    "%viz --style=\"LR\" --view=\"Sequence\" \"DependencyTest\""
   ]
  },
  {
   "cell_type": "code",
   "execution_count": 22,
   "id": "7722f29b",
   "metadata": {
    "execution": {
     "iopub.execute_input": "2022-04-22T09:48:07.180259Z",
     "iopub.status.busy": "2022-04-22T09:48:07.179863Z",
     "iopub.status.idle": "2022-04-22T09:48:07.219418Z",
     "shell.execute_reply": "2022-04-22T09:48:07.219028Z"
    }
   },
   "outputs": [
    {
     "data": {
      "image/svg+xml": [
       "<?xml version=\"1.0\" encoding=\"UTF-8\" standalone=\"no\"?><svg xmlns=\"http://www.w3.org/2000/svg\" xmlns:xlink=\"http://www.w3.org/1999/xlink\" contentScriptType=\"application/ecmascript\" contentStyleType=\"text/css\" height=\"392px\" preserveAspectRatio=\"none\" style=\"width:860px;height:392px;\" version=\"1.1\" viewBox=\"0 0 860 392\" width=\"860px\" zoomAndPan=\"magnify\"><defs/><g><!--MD5=[fbc87193dbaf4d95561dea2c320d4a47]\n",
       "cluster E1--><a href=\"psysml:fa3e9fbf-effa-4977-80ec-fe6e8fa57f4d\" target=\"_top\" title=\"psysml:fa3e9fbf-effa-4977-80ec-fe6e8fa57f4d\" xlink:actuate=\"onRequest\" xlink:href=\"psysml:fa3e9fbf-effa-4977-80ec-fe6e8fa57f4d\" xlink:show=\"new\" xlink:title=\"psysml:fa3e9fbf-effa-4977-80ec-fe6e8fa57f4d\" xlink:type=\"simple\"><polygon fill=\"#FFFFFF\" points=\"16,6,142,6,149,28.2969,838.72,28.2969,838.72,380,16,380,16,6\" style=\"stroke: #000000; stroke-width: 1.5;\"/><line style=\"stroke: #000000; stroke-width: 1.5;\" x1=\"16\" x2=\"149\" y1=\"28.2969\" y2=\"28.2969\"/><text fill=\"#000000\" font-family=\"sans-serif\" font-size=\"14\" font-weight=\"bold\" lengthAdjust=\"spacingAndGlyphs\" textLength=\"120\" x=\"20\" y=\"20.9951\">DependencyTest</text></a><!--MD5=[e4f7fae6ed58524ba242bb0b0d3be6b7]\n",
       "cluster E2--><a href=\"psysml:10c1ae57-66e9-4db6-bc3d-37ac2db9914a\" target=\"_top\" title=\"psysml:10c1ae57-66e9-4db6-bc3d-37ac2db9914a\" xlink:actuate=\"onRequest\" xlink:href=\"psysml:10c1ae57-66e9-4db6-bc3d-37ac2db9914a\" xlink:show=\"new\" xlink:title=\"psysml:10c1ae57-66e9-4db6-bc3d-37ac2db9914a\" xlink:type=\"simple\"><polygon fill=\"#FFFFFF\" points=\"161.72,65,218.72,65,225.72,87.2969,798.72,87.2969,798.72,205,161.72,205,161.72,65\" style=\"stroke: #000000; stroke-width: 1.5;\"/><line style=\"stroke: #000000; stroke-width: 1.5;\" x1=\"161.72\" x2=\"225.72\" y1=\"87.2969\" y2=\"87.2969\"/><text fill=\"#000000\" font-family=\"sans-serif\" font-size=\"14\" font-weight=\"bold\" lengthAdjust=\"spacingAndGlyphs\" textLength=\"51\" x=\"165.72\" y=\"79.9951\">System</text></a><!--MD5=[60a26617385b1d2d0262a64233df1f8d]\n",
       "class E6--><a href=\"psysml:af126b68-a763-4b5e-ae0f-74aa81d9e434\" target=\"_top\" title=\"psysml:af126b68-a763-4b5e-ae0f-74aa81d9e434\" xlink:actuate=\"onRequest\" xlink:href=\"psysml:af126b68-a763-4b5e-ae0f-74aa81d9e434\" xlink:show=\"new\" xlink:title=\"psysml:af126b68-a763-4b5e-ae0f-74aa81d9e434\" xlink:type=\"simple\"><rect fill=\"#FFFFFF\" height=\"45.9375\" id=\"E6\" rx=\"10\" ry=\"10\" style=\"stroke: #383838; stroke-width: 1.5;\" width=\"71\" x=\"466.22\" y=\"310\"/><text fill=\"#000000\" font-family=\"sans-serif\" font-size=\"12\" font-style=\"italic\" lengthAdjust=\"spacingAndGlyphs\" textLength=\"69\" x=\"467.22\" y=\"326.1387\">«attribute»</text><text fill=\"#000000\" font-family=\"sans-serif\" font-size=\"12\" lengthAdjust=\"spacingAndGlyphs\" textLength=\"6\" x=\"496.72\" y=\"340.1074\">x</text><line style=\"stroke: #383838; stroke-width: 1.5;\" x1=\"467.22\" x2=\"536.22\" y1=\"347.9375\" y2=\"347.9375\"/></a><!--MD5=[2156ba9850f5573cc1fc38a6a4b2f02b]\n",
       "class E7--><a href=\"psysml:a5153252-c77e-42e1-a87d-8eb1cf591399\" target=\"_top\" title=\"psysml:a5153252-c77e-42e1-a87d-8eb1cf591399\" xlink:actuate=\"onRequest\" xlink:href=\"psysml:a5153252-c77e-42e1-a87d-8eb1cf591399\" xlink:show=\"new\" xlink:title=\"psysml:a5153252-c77e-42e1-a87d-8eb1cf591399\" xlink:type=\"simple\"><rect fill=\"#FFFFFF\" height=\"45.9375\" id=\"E7\" rx=\"10\" ry=\"10\" style=\"stroke: #383838; stroke-width: 1.5;\" width=\"71\" x=\"466.22\" y=\"229\"/><text fill=\"#000000\" font-family=\"sans-serif\" font-size=\"12\" font-style=\"italic\" lengthAdjust=\"spacingAndGlyphs\" textLength=\"69\" x=\"467.22\" y=\"245.1387\">«attribute»</text><text fill=\"#000000\" font-family=\"sans-serif\" font-size=\"12\" lengthAdjust=\"spacingAndGlyphs\" textLength=\"6\" x=\"496.72\" y=\"259.1074\">y</text><line style=\"stroke: #383838; stroke-width: 1.5;\" x1=\"467.22\" x2=\"536.22\" y1=\"266.9375\" y2=\"266.9375\"/></a><!--MD5=[b9389687b975829384b498ac4b7476b2]\n",
       "class E8--><a href=\"psysml:4fcd16ab-62c7-48db-8542-d458ee8b30b8\" target=\"_top\" title=\"psysml:4fcd16ab-62c7-48db-8542-d458ee8b30b8\" xlink:actuate=\"onRequest\" xlink:href=\"psysml:4fcd16ab-62c7-48db-8542-d458ee8b30b8\" xlink:show=\"new\" xlink:title=\"psysml:4fcd16ab-62c7-48db-8542-d458ee8b30b8\" xlink:type=\"simple\"><rect fill=\"#FFFFFF\" height=\"45.9375\" id=\"E8\" rx=\"10\" ry=\"10\" style=\"stroke: #383838; stroke-width: 1.5;\" width=\"71\" x=\"217.72\" y=\"262\"/><text fill=\"#000000\" font-family=\"sans-serif\" font-size=\"12\" font-style=\"italic\" lengthAdjust=\"spacingAndGlyphs\" textLength=\"69\" x=\"218.72\" y=\"278.1387\">«attribute»</text><text fill=\"#000000\" font-family=\"sans-serif\" font-size=\"12\" lengthAdjust=\"spacingAndGlyphs\" textLength=\"5\" x=\"248.72\" y=\"292.1074\">z</text><line style=\"stroke: #383838; stroke-width: 1.5;\" x1=\"218.72\" x2=\"287.72\" y1=\"299.9375\" y2=\"299.9375\"/></a><a href=\"psysml:f00bbef0-e3df-4574-9254-08b97b82cdf9\" target=\"_top\" title=\"psysml:f00bbef0-e3df-4574-9254-08b97b82cdf9\" xlink:actuate=\"onRequest\" xlink:href=\"psysml:f00bbef0-e3df-4574-9254-08b97b82cdf9\" xlink:show=\"new\" xlink:title=\"psysml:f00bbef0-e3df-4574-9254-08b97b82cdf9\" xlink:type=\"simple\"><polygon fill=\"#FFFFFF\" points=\"185.72,108.5,306.72,108.5,313.72,130.7969,320.72,130.7969,320.72,161.0938,185.72,161.0938,185.72,108.5\" style=\"stroke: #000000; stroke-width: 1.5;\"/><line style=\"stroke: #000000; stroke-width: 1.5;\" x1=\"185.72\" x2=\"313.72\" y1=\"130.7969\" y2=\"130.7969\"/><text fill=\"#000000\" font-family=\"sans-serif\" font-size=\"14\" font-weight=\"bold\" lengthAdjust=\"spacingAndGlyphs\" textLength=\"115\" x=\"189.72\" y=\"123.4951\">Application Layer</text></a><a href=\"psysml:ca2e3746-a8d0-4883-91df-79f98ad99c0c\" target=\"_top\" title=\"psysml:ca2e3746-a8d0-4883-91df-79f98ad99c0c\" xlink:actuate=\"onRequest\" xlink:href=\"psysml:ca2e3746-a8d0-4883-91df-79f98ad99c0c\" xlink:show=\"new\" xlink:title=\"psysml:ca2e3746-a8d0-4883-91df-79f98ad99c0c\" xlink:type=\"simple\"><polygon fill=\"#FFFFFF\" points=\"446.72,108.5,542.72,108.5,549.72,130.7969,556.72,130.7969,556.72,161.0938,446.72,161.0938,446.72,108.5\" style=\"stroke: #000000; stroke-width: 1.5;\"/><line style=\"stroke: #000000; stroke-width: 1.5;\" x1=\"446.72\" x2=\"549.72\" y1=\"130.7969\" y2=\"130.7969\"/><text fill=\"#000000\" font-family=\"sans-serif\" font-size=\"14\" font-weight=\"bold\" lengthAdjust=\"spacingAndGlyphs\" textLength=\"90\" x=\"450.72\" y=\"123.4951\">Service Layer</text></a><a href=\"psysml:31612912-620e-4f5b-bfbe-0087437cb05d\" target=\"_top\" title=\"psysml:31612912-620e-4f5b-bfbe-0087437cb05d\" xlink:actuate=\"onRequest\" xlink:href=\"psysml:31612912-620e-4f5b-bfbe-0087437cb05d\" xlink:show=\"new\" xlink:title=\"psysml:31612912-620e-4f5b-bfbe-0087437cb05d\" xlink:type=\"simple\"><polygon fill=\"#FFFFFF\" points=\"682.72,108.5,760.72,108.5,767.72,130.7969,774.72,130.7969,774.72,161.0938,682.72,161.0938,682.72,108.5\" style=\"stroke: #000000; stroke-width: 1.5;\"/><line style=\"stroke: #000000; stroke-width: 1.5;\" x1=\"682.72\" x2=\"767.72\" y1=\"130.7969\" y2=\"130.7969\"/><text fill=\"#000000\" font-family=\"sans-serif\" font-size=\"14\" font-weight=\"bold\" lengthAdjust=\"spacingAndGlyphs\" textLength=\"72\" x=\"686.72\" y=\"123.4951\">Data Layer</text></a><!--MD5=[1f1cd8e6dd4c1b2ca2aaccc9b9bcea6e]\n",
       "link E1 to E2--><a href=\"psysml:feb54464-815e-4611-ad28-7085b6ccbd88\" target=\"_top\" title=\"psysml:feb54464-815e-4611-ad28-7085b6ccbd88\" xlink:actuate=\"onRequest\" xlink:href=\"psysml:feb54464-815e-4611-ad28-7085b6ccbd88\" xlink:show=\"new\" xlink:title=\"psysml:feb54464-815e-4611-ad28-7085b6ccbd88\" xlink:type=\"simple\"><path d=\"M24.88,197 C28.275,197 83.4,197 138.5113,197 C145.4002,197 152.2888,197 159.0763,197 C159.9247,197 160.7715,197 161.6166,197 \" fill=\"none\" id=\"E1-&gt;E2\" style=\"stroke: #383838; stroke-width: 1.0; stroke-dasharray: 7.0,7.0;\"/><polygon fill=\"#383838\" points=\"161.6166,197,152.6166,193,156.6166,197,152.6166,201,161.6166,197\" style=\"stroke: #383838; stroke-width: 1.0;\"/><text fill=\"#000000\" font-family=\"sans-serif\" font-size=\"13\" lengthAdjust=\"spacingAndGlyphs\" textLength=\"65\" x=\"55.72\" y=\"193.0669\">«import»*</text></a><!--MD5=[af87c684e3b0d8be13c1a698a818ef1e]\n",
       "link E3 to E4--><a href=\"psysml:46e8547b-a8f1-46c9-aa96-df26a1cf1e34\" target=\"_top\" title=\"psysml:46e8547b-a8f1-46c9-aa96-df26a1cf1e34\" xlink:actuate=\"onRequest\" xlink:href=\"psysml:46e8547b-a8f1-46c9-aa96-df26a1cf1e34\" xlink:show=\"new\" xlink:title=\"psysml:46e8547b-a8f1-46c9-aa96-df26a1cf1e34\" xlink:type=\"simple\"><path d=\"M320.93,135 C357.36,135 402.21,135 438,135 \" fill=\"none\" id=\"E3-&gt;E4\" style=\"stroke: #383838; stroke-width: 1.0; stroke-dasharray: 7.0,7.0;\"/><polygon fill=\"#383838\" points=\"446.42,135,438.42,132,438.42,138,446.42,135\" style=\"stroke: #383838; stroke-width: 1.0;\"/><text fill=\"#000000\" font-family=\"sans-serif\" font-size=\"13\" lengthAdjust=\"spacingAndGlyphs\" textLength=\"64\" x=\"351.72\" y=\"131.0669\">«depend»</text></a><!--MD5=[1b7591eae5389033d8d09a9d6721a717]\n",
       "link E4 to E5--><a href=\"psysml:4580f085-b870-4b86-bde9-338fd4cc0a1d\" target=\"_top\" title=\"psysml:4580f085-b870-4b86-bde9-338fd4cc0a1d\" xlink:actuate=\"onRequest\" xlink:href=\"psysml:4580f085-b870-4b86-bde9-338fd4cc0a1d\" xlink:show=\"new\" xlink:title=\"psysml:4580f085-b870-4b86-bde9-338fd4cc0a1d\" xlink:type=\"simple\"><path d=\"M556.9,135 C592.53,135 638.96,135 674.41,135 \" fill=\"none\" id=\"E4-&gt;E5\" style=\"stroke: #383838; stroke-width: 1.0; stroke-dasharray: 7.0,7.0;\"/><polygon fill=\"#383838\" points=\"682.72,135,674.72,132,674.72,138,682.72,135\" style=\"stroke: #383838; stroke-width: 1.0;\"/><text fill=\"#000000\" font-family=\"sans-serif\" font-size=\"13\" lengthAdjust=\"spacingAndGlyphs\" textLength=\"64\" x=\"587.72\" y=\"131.0669\">«depend»</text></a><!--MD5=[c5e8897d989ce984f93528998a7150fe]\n",
       "link E8 to E6--><a href=\"psysml:ef6c4171-27e8-4274-afa9-e3f35902caaf\" target=\"_top\" title=\"psysml:ef6c4171-27e8-4274-afa9-e3f35902caaf\" xlink:actuate=\"onRequest\" xlink:href=\"psysml:ef6c4171-27e8-4274-afa9-e3f35902caaf\" xlink:show=\"new\" xlink:title=\"psysml:ef6c4171-27e8-4274-afa9-e3f35902caaf\" xlink:type=\"simple\"><path d=\"M288.75,291.72 C333.09,300.36 410.02,315.34 458,324.68 \" fill=\"none\" id=\"E8-&gt;E6\" style=\"stroke: #383838; stroke-width: 1.0; stroke-dasharray: 7.0,7.0;\"/><polygon fill=\"#383838\" points=\"466.02,326.24,458.7416,321.765,457.5938,327.6542,466.02,326.24\" style=\"stroke: #383838; stroke-width: 1.0;\"/><text fill=\"#000000\" font-family=\"sans-serif\" font-size=\"13\" lengthAdjust=\"spacingAndGlyphs\" textLength=\"64\" x=\"351.72\" y=\"301.0669\">«depend»</text></a><!--MD5=[bfa3c8b0d15052fdf50ae9310b491027]\n",
       "link E8 to E7--><a href=\"psysml:ef6c4171-27e8-4274-afa9-e3f35902caaf\" target=\"_top\" title=\"psysml:ef6c4171-27e8-4274-afa9-e3f35902caaf\" xlink:actuate=\"onRequest\" xlink:href=\"psysml:ef6c4171-27e8-4274-afa9-e3f35902caaf\" xlink:show=\"new\" xlink:title=\"psysml:ef6c4171-27e8-4274-afa9-e3f35902caaf\" xlink:type=\"simple\"><path d=\"M288.75,280.38 C333.09,274.44 410.02,264.14 458,257.72 \" fill=\"none\" id=\"E8-&gt;E7\" style=\"stroke: #383838; stroke-width: 1.0; stroke-dasharray: 7.0,7.0;\"/><polygon fill=\"#383838\" points=\"466.02,256.65,457.6937,254.7336,458.4867,260.681,466.02,256.65\" style=\"stroke: #383838; stroke-width: 1.0;\"/><text fill=\"#000000\" font-family=\"sans-serif\" font-size=\"13\" lengthAdjust=\"spacingAndGlyphs\" textLength=\"64\" x=\"351.72\" y=\"260.0669\">«depend»</text></a><!--MD5=[da844413b7f2659c3c345d5d35caa5ae]\n",
       "@startuml\r\n",
       "left to right direction\r\n",
       "skinparam monochrome true\r\n",
       "skinparam classbackgroundcolor white\r\n",
       "skinparam shadowing false\r\n",
       "skinparam wrapWidth 300\r\n",
       "hide circle\r\n",
       "\r\n",
       "package \"DependencyTest\" as E1  [[psysml:fa3e9fbf-effa-4977-80ec-fe6e8fa57f4d ]]  {\r\n",
       "package \"System\" as E2  [[psysml:10c1ae57-66e9-4db6-bc3d-37ac2db9914a ]]  {\r\n",
       "package \"Application Layer\" as E3  [[psysml:f00bbef0-e3df-4574-9254-08b97b82cdf9 ]]  {\r\n",
       "}\r\n",
       "package \"Service Layer\" as E4  [[psysml:ca2e3746-a8d0-4883-91df-79f98ad99c0c ]]  {\r\n",
       "}\r\n",
       "package \"Data Layer\" as E5  [[psysml:31612912-620e-4f5b-bfbe-0087437cb05d ]]  {\r\n",
       "}\r\n",
       "}\r\n",
       "comp usage \"x \" as E6  <<(T,blue) attribute>> [[psysml:af126b68-a763-4b5e-ae0f-74aa81d9e434 ]] {\r\n",
       "}\r\n",
       "comp usage \"y \" as E7  <<(T,blue) attribute>> [[psysml:a5153252-c77e-42e1-a87d-8eb1cf591399 ]] {\r\n",
       "}\r\n",
       "comp usage \"z \" as E8  <<(T,blue) attribute>> [[psysml:4fcd16ab-62c7-48db-8542-d458ee8b30b8 ]] {\r\n",
       "}\r\n",
       "}\r\n",
       "E1 ..> E2 [[psysml:feb54464-815e-4611-ad28-7085b6ccbd88 ]] : <<import>>*\r\n",
       "E3 ..>> E4 [[psysml:46e8547b-a8f1-46c9-aa96-df26a1cf1e34 ]] : <<depend>>\r\n",
       "E4 ..>> E5 [[psysml:4580f085-b870-4b86-bde9-338fd4cc0a1d ]] : <<depend>>\r\n",
       "E8 ..>> E6 [[psysml:ef6c4171-27e8-4274-afa9-e3f35902caaf ]] : <<depend>>\r\n",
       "E8 ..>> E7 [[psysml:ef6c4171-27e8-4274-afa9-e3f35902caaf ]] : <<depend>>\r\n",
       "@enduml\r\n",
       "\n",
       "PlantUML version 1.2020.13(Sat Jun 13 12:26:38 UTC 2020)\n",
       "(EPL source distribution)\n",
       "Java Runtime: OpenJDK Runtime Environment\n",
       "JVM: OpenJDK 64-Bit Server VM\n",
       "Default Encoding: UTF-8\n",
       "Language: en\n",
       "Country: null\n",
       "--></g></svg>"
      ]
     },
     "execution_count": 22,
     "metadata": {},
     "output_type": "execute_result"
    }
   ],
   "source": [
    "%viz --style=\"LR\" --view=\"MIXED\" \"DependencyTest\""
   ]
  },
  {
   "cell_type": "code",
   "execution_count": 23,
   "id": "9907c743",
   "metadata": {
    "execution": {
     "iopub.execute_input": "2022-04-22T09:48:07.269452Z",
     "iopub.status.busy": "2022-04-22T09:48:07.269008Z",
     "iopub.status.idle": "2022-04-22T09:48:07.308479Z",
     "shell.execute_reply": "2022-04-22T09:48:07.308093Z"
    }
   },
   "outputs": [
    {
     "data": {
      "image/svg+xml": [
       "<?xml version=\"1.0\" encoding=\"UTF-8\" standalone=\"no\"?><svg xmlns=\"http://www.w3.org/2000/svg\" xmlns:xlink=\"http://www.w3.org/1999/xlink\" contentScriptType=\"application/ecmascript\" contentStyleType=\"text/css\" height=\"552px\" preserveAspectRatio=\"none\" style=\"width:536px;height:552px;\" version=\"1.1\" viewBox=\"0 0 536 552\" width=\"536px\" zoomAndPan=\"magnify\"><defs><filter height=\"300%\" id=\"f1rx7lbzh6m1u4\" width=\"300%\" x=\"-1\" y=\"-1\"><feGaussianBlur result=\"blurOut\" stdDeviation=\"2.0\"/><feColorMatrix in=\"blurOut\" result=\"blurOut2\" type=\"matrix\" values=\"0 0 0 0 0 0 0 0 0 0 0 0 0 0 0 0 0 0 .4 0\"/><feOffset dx=\"4.0\" dy=\"4.0\" in=\"blurOut2\" result=\"blurOut3\"/><feBlend in=\"SourceGraphic\" in2=\"blurOut3\" mode=\"normal\"/></filter></defs><g><!--MD5=[fbc87193dbaf4d95561dea2c320d4a47]\n",
       "cluster E1--><a href=\"psysml:fa3e9fbf-effa-4977-80ec-fe6e8fa57f4d\" target=\"_top\" title=\"psysml:fa3e9fbf-effa-4977-80ec-fe6e8fa57f4d\" xlink:actuate=\"onRequest\" xlink:href=\"psysml:fa3e9fbf-effa-4977-80ec-fe6e8fa57f4d\" xlink:show=\"new\" xlink:title=\"psysml:fa3e9fbf-effa-4977-80ec-fe6e8fa57f4d\" xlink:type=\"simple\"><polygon fill=\"#FFFFFF\" filter=\"url(#f1rx7lbzh6m1u4)\" points=\"16,6,142,6,149,28.2969,514,28.2969,514,540.72,16,540.72,16,6\" style=\"stroke: #000000; stroke-width: 1.5;\"/><line style=\"stroke: #000000; stroke-width: 1.5;\" x1=\"16\" x2=\"149\" y1=\"28.2969\" y2=\"28.2969\"/><text fill=\"#000000\" font-family=\"sans-serif\" font-size=\"14\" font-weight=\"bold\" lengthAdjust=\"spacingAndGlyphs\" textLength=\"120\" x=\"20\" y=\"20.9951\">DependencyTest</text></a><!--MD5=[e4f7fae6ed58524ba242bb0b0d3be6b7]\n",
       "cluster E2--><a href=\"psysml:10c1ae57-66e9-4db6-bc3d-37ac2db9914a\" target=\"_top\" title=\"psysml:10c1ae57-66e9-4db6-bc3d-37ac2db9914a\" xlink:actuate=\"onRequest\" xlink:href=\"psysml:10c1ae57-66e9-4db6-bc3d-37ac2db9914a\" xlink:show=\"new\" xlink:title=\"psysml:10c1ae57-66e9-4db6-bc3d-37ac2db9914a\" xlink:type=\"simple\"><polygon fill=\"#FFFFFF\" filter=\"url(#f1rx7lbzh6m1u4)\" points=\"271,120.72,328,120.72,335,143.0169,474,143.0169,474,500.72,271,500.72,271,120.72\" style=\"stroke: #000000; stroke-width: 1.5;\"/><line style=\"stroke: #000000; stroke-width: 1.5;\" x1=\"271\" x2=\"335\" y1=\"143.0169\" y2=\"143.0169\"/><text fill=\"#000000\" font-family=\"sans-serif\" font-size=\"14\" font-weight=\"bold\" lengthAdjust=\"spacingAndGlyphs\" textLength=\"51\" x=\"275\" y=\"135.7151\">System</text></a><!--MD5=[60a26617385b1d2d0262a64233df1f8d]\n",
       "class E6--><a href=\"psysml:af126b68-a763-4b5e-ae0f-74aa81d9e434\" target=\"_top\" title=\"psysml:af126b68-a763-4b5e-ae0f-74aa81d9e434\" xlink:actuate=\"onRequest\" xlink:href=\"psysml:af126b68-a763-4b5e-ae0f-74aa81d9e434\" xlink:show=\"new\" xlink:title=\"psysml:af126b68-a763-4b5e-ae0f-74aa81d9e434\" xlink:type=\"simple\"><rect fill=\"#FEFECE\" filter=\"url(#f1rx7lbzh6m1u4)\" height=\"45.9375\" id=\"E6\" rx=\"10\" ry=\"10\" style=\"stroke: #A80036; stroke-width: 1.5;\" width=\"71\" x=\"40.5\" y=\"297.22\"/><text fill=\"#000000\" font-family=\"sans-serif\" font-size=\"12\" font-style=\"italic\" lengthAdjust=\"spacingAndGlyphs\" textLength=\"69\" x=\"41.5\" y=\"313.3587\">«attribute»</text><text fill=\"#000000\" font-family=\"sans-serif\" font-size=\"12\" lengthAdjust=\"spacingAndGlyphs\" textLength=\"6\" x=\"71\" y=\"327.3274\">x</text><line style=\"stroke: #A80036; stroke-width: 1.5;\" x1=\"41.5\" x2=\"110.5\" y1=\"335.1575\" y2=\"335.1575\"/></a><!--MD5=[2156ba9850f5573cc1fc38a6a4b2f02b]\n",
       "class E7--><a href=\"psysml:a5153252-c77e-42e1-a87d-8eb1cf591399\" target=\"_top\" title=\"psysml:a5153252-c77e-42e1-a87d-8eb1cf591399\" xlink:actuate=\"onRequest\" xlink:href=\"psysml:a5153252-c77e-42e1-a87d-8eb1cf591399\" xlink:show=\"new\" xlink:title=\"psysml:a5153252-c77e-42e1-a87d-8eb1cf591399\" xlink:type=\"simple\"><rect fill=\"#FEFECE\" filter=\"url(#f1rx7lbzh6m1u4)\" height=\"45.9375\" id=\"E7\" rx=\"10\" ry=\"10\" style=\"stroke: #A80036; stroke-width: 1.5;\" width=\"71\" x=\"146.5\" y=\"297.22\"/><text fill=\"#000000\" font-family=\"sans-serif\" font-size=\"12\" font-style=\"italic\" lengthAdjust=\"spacingAndGlyphs\" textLength=\"69\" x=\"147.5\" y=\"313.3587\">«attribute»</text><text fill=\"#000000\" font-family=\"sans-serif\" font-size=\"12\" lengthAdjust=\"spacingAndGlyphs\" textLength=\"6\" x=\"177\" y=\"327.3274\">y</text><line style=\"stroke: #A80036; stroke-width: 1.5;\" x1=\"147.5\" x2=\"216.5\" y1=\"335.1575\" y2=\"335.1575\"/></a><!--MD5=[b9389687b975829384b498ac4b7476b2]\n",
       "class E8--><a href=\"psysml:4fcd16ab-62c7-48db-8542-d458ee8b30b8\" target=\"_top\" title=\"psysml:4fcd16ab-62c7-48db-8542-d458ee8b30b8\" xlink:actuate=\"onRequest\" xlink:href=\"psysml:4fcd16ab-62c7-48db-8542-d458ee8b30b8\" xlink:show=\"new\" xlink:title=\"psysml:4fcd16ab-62c7-48db-8542-d458ee8b30b8\" xlink:type=\"simple\"><rect fill=\"#FEFECE\" filter=\"url(#f1rx7lbzh6m1u4)\" height=\"45.9375\" id=\"E8\" rx=\"10\" ry=\"10\" style=\"stroke: #A80036; stroke-width: 1.5;\" width=\"71\" x=\"92.5\" y=\"167.22\"/><text fill=\"#000000\" font-family=\"sans-serif\" font-size=\"12\" font-style=\"italic\" lengthAdjust=\"spacingAndGlyphs\" textLength=\"69\" x=\"93.5\" y=\"183.3587\">«attribute»</text><text fill=\"#000000\" font-family=\"sans-serif\" font-size=\"12\" lengthAdjust=\"spacingAndGlyphs\" textLength=\"5\" x=\"123.5\" y=\"197.3274\">z</text><line style=\"stroke: #A80036; stroke-width: 1.5;\" x1=\"93.5\" x2=\"162.5\" y1=\"205.1575\" y2=\"205.1575\"/></a><a href=\"psysml:f00bbef0-e3df-4574-9254-08b97b82cdf9\" target=\"_top\" title=\"psysml:f00bbef0-e3df-4574-9254-08b97b82cdf9\" xlink:actuate=\"onRequest\" xlink:href=\"psysml:f00bbef0-e3df-4574-9254-08b97b82cdf9\" xlink:show=\"new\" xlink:title=\"psysml:f00bbef0-e3df-4574-9254-08b97b82cdf9\" xlink:type=\"simple\"><polygon fill=\"#FFFFFF\" filter=\"url(#f1rx7lbzh6m1u4)\" points=\"314.5,163.72,435.5,163.72,442.5,186.0169,449.5,186.0169,449.5,216.3138,314.5,216.3138,314.5,163.72\" style=\"stroke: #000000; stroke-width: 1.5;\"/><line style=\"stroke: #000000; stroke-width: 1.5;\" x1=\"314.5\" x2=\"442.5\" y1=\"186.0169\" y2=\"186.0169\"/><text fill=\"#000000\" font-family=\"sans-serif\" font-size=\"14\" font-weight=\"bold\" lengthAdjust=\"spacingAndGlyphs\" textLength=\"115\" x=\"318.5\" y=\"178.7151\">Application Layer</text></a><a href=\"psysml:ca2e3746-a8d0-4883-91df-79f98ad99c0c\" target=\"_top\" title=\"psysml:ca2e3746-a8d0-4883-91df-79f98ad99c0c\" xlink:actuate=\"onRequest\" xlink:href=\"psysml:ca2e3746-a8d0-4883-91df-79f98ad99c0c\" xlink:show=\"new\" xlink:title=\"psysml:ca2e3746-a8d0-4883-91df-79f98ad99c0c\" xlink:type=\"simple\"><polygon fill=\"#FFFFFF\" filter=\"url(#f1rx7lbzh6m1u4)\" points=\"327,293.72,423,293.72,430,316.0169,437,316.0169,437,346.3138,327,346.3138,327,293.72\" style=\"stroke: #000000; stroke-width: 1.5;\"/><line style=\"stroke: #000000; stroke-width: 1.5;\" x1=\"327\" x2=\"430\" y1=\"316.0169\" y2=\"316.0169\"/><text fill=\"#000000\" font-family=\"sans-serif\" font-size=\"14\" font-weight=\"bold\" lengthAdjust=\"spacingAndGlyphs\" textLength=\"90\" x=\"331\" y=\"308.7151\">Service Layer</text></a><a href=\"psysml:31612912-620e-4f5b-bfbe-0087437cb05d\" target=\"_top\" title=\"psysml:31612912-620e-4f5b-bfbe-0087437cb05d\" xlink:actuate=\"onRequest\" xlink:href=\"psysml:31612912-620e-4f5b-bfbe-0087437cb05d\" xlink:show=\"new\" xlink:title=\"psysml:31612912-620e-4f5b-bfbe-0087437cb05d\" xlink:type=\"simple\"><polygon fill=\"#FFFFFF\" filter=\"url(#f1rx7lbzh6m1u4)\" points=\"336,423.72,414,423.72,421,446.0169,428,446.0169,428,476.3138,336,476.3138,336,423.72\" style=\"stroke: #000000; stroke-width: 1.5;\"/><line style=\"stroke: #000000; stroke-width: 1.5;\" x1=\"336\" x2=\"421\" y1=\"446.0169\" y2=\"446.0169\"/><text fill=\"#000000\" font-family=\"sans-serif\" font-size=\"14\" font-weight=\"bold\" lengthAdjust=\"spacingAndGlyphs\" textLength=\"72\" x=\"340\" y=\"438.7151\">Data Layer</text></a><!--MD5=[1f1cd8e6dd4c1b2ca2aaccc9b9bcea6e]\n",
       "link E1 to E2--><a href=\"psysml:feb54464-815e-4611-ad28-7085b6ccbd88\" target=\"_top\" title=\"psysml:feb54464-815e-4611-ad28-7085b6ccbd88\" xlink:actuate=\"onRequest\" xlink:href=\"psysml:feb54464-815e-4611-ad28-7085b6ccbd88\" xlink:show=\"new\" xlink:title=\"psysml:feb54464-815e-4611-ad28-7085b6ccbd88\" xlink:type=\"simple\"><path d=\"M279,33.83 C279,36.15 279,73.83 279,111.5 C279,113.8544 279,116.2087 279,118.5544 C279,119.1408 279,119.7267 279,120.3119 \" fill=\"none\" id=\"E1-&gt;E2\" style=\"stroke: #A80036; stroke-width: 1.0; stroke-dasharray: 7.0,7.0;\"/><polygon fill=\"#A80036\" points=\"279,120.3119,283,111.3119,279,115.3119,275,111.3119,279,120.3119\" style=\"stroke: #A80036; stroke-width: 1.0;\"/><text fill=\"#000000\" font-family=\"sans-serif\" font-size=\"13\" lengthAdjust=\"spacingAndGlyphs\" textLength=\"65\" x=\"280\" y=\"76.7869\">«import»*</text></a><!--MD5=[af87c684e3b0d8be13c1a698a818ef1e]\n",
       "link E3 to E4--><a href=\"psysml:46e8547b-a8f1-46c9-aa96-df26a1cf1e34\" target=\"_top\" title=\"psysml:46e8547b-a8f1-46c9-aa96-df26a1cf1e34\" xlink:actuate=\"onRequest\" xlink:href=\"psysml:46e8547b-a8f1-46c9-aa96-df26a1cf1e34\" xlink:show=\"new\" xlink:title=\"psysml:46e8547b-a8f1-46c9-aa96-df26a1cf1e34\" xlink:type=\"simple\"><path d=\"M382,216.82 C382,236.52 382,263.94 382,285.45 \" fill=\"none\" id=\"E3-&gt;E4\" style=\"stroke: #A80036; stroke-width: 1.0; stroke-dasharray: 7.0,7.0;\"/><polygon fill=\"#A80036\" points=\"382,293.67,385,285.67,379,285.67,382,293.67\" style=\"stroke: #A80036; stroke-width: 1.0;\"/><text fill=\"#000000\" font-family=\"sans-serif\" font-size=\"13\" lengthAdjust=\"spacingAndGlyphs\" textLength=\"64\" x=\"383\" y=\"259.7869\">«depend»</text></a><!--MD5=[1b7591eae5389033d8d09a9d6721a717]\n",
       "link E4 to E5--><a href=\"psysml:4580f085-b870-4b86-bde9-338fd4cc0a1d\" target=\"_top\" title=\"psysml:4580f085-b870-4b86-bde9-338fd4cc0a1d\" xlink:actuate=\"onRequest\" xlink:href=\"psysml:4580f085-b870-4b86-bde9-338fd4cc0a1d\" xlink:show=\"new\" xlink:title=\"psysml:4580f085-b870-4b86-bde9-338fd4cc0a1d\" xlink:type=\"simple\"><path d=\"M382,346.82 C382,366.52 382,393.94 382,415.45 \" fill=\"none\" id=\"E4-&gt;E5\" style=\"stroke: #A80036; stroke-width: 1.0; stroke-dasharray: 7.0,7.0;\"/><polygon fill=\"#A80036\" points=\"382,423.67,385,415.67,379,415.67,382,423.67\" style=\"stroke: #A80036; stroke-width: 1.0;\"/><text fill=\"#000000\" font-family=\"sans-serif\" font-size=\"13\" lengthAdjust=\"spacingAndGlyphs\" textLength=\"64\" x=\"383\" y=\"389.7869\">«depend»</text></a><!--MD5=[c5e8897d989ce984f93528998a7150fe]\n",
       "link E8 to E6--><a href=\"psysml:ef6c4171-27e8-4274-afa9-e3f35902caaf\" target=\"_top\" title=\"psysml:ef6c4171-27e8-4274-afa9-e3f35902caaf\" xlink:actuate=\"onRequest\" xlink:href=\"psysml:ef6c4171-27e8-4274-afa9-e3f35902caaf\" xlink:show=\"new\" xlink:title=\"psysml:ef6c4171-27e8-4274-afa9-e3f35902caaf\" xlink:type=\"simple\"><path d=\"M97.42,213.32 C87.35,222.4 77.37,233.83 72,246.72 C66.5,259.92 66.66,275.66 68.54,289.1 \" fill=\"none\" id=\"E8-&gt;E6\" style=\"stroke: #A80036; stroke-width: 1.0; stroke-dasharray: 7.0,7.0;\"/><polygon fill=\"#A80036\" points=\"69.9,297.12,71.517,288.7304,65.6018,289.7359,69.9,297.12\" style=\"stroke: #A80036; stroke-width: 1.0;\"/><text fill=\"#000000\" font-family=\"sans-serif\" font-size=\"13\" lengthAdjust=\"spacingAndGlyphs\" textLength=\"64\" x=\"73\" y=\"259.7869\">«depend»</text></a><!--MD5=[bfa3c8b0d15052fdf50ae9310b491027]\n",
       "link E8 to E7--><a href=\"psysml:ef6c4171-27e8-4274-afa9-e3f35902caaf\" target=\"_top\" title=\"psysml:ef6c4171-27e8-4274-afa9-e3f35902caaf\" xlink:actuate=\"onRequest\" xlink:href=\"psysml:ef6c4171-27e8-4274-afa9-e3f35902caaf\" xlink:show=\"new\" xlink:title=\"psysml:ef6c4171-27e8-4274-afa9-e3f35902caaf\" xlink:type=\"simple\"><path d=\"M137.28,213.22 C146.17,234.29 159.64,266.22 169.47,289.53 \" fill=\"none\" id=\"E8-&gt;E7\" style=\"stroke: #A80036; stroke-width: 1.0; stroke-dasharray: 7.0,7.0;\"/><polygon fill=\"#A80036\" points=\"172.66,297.07,172.3241,288.5326,166.7933,290.8585,172.66,297.07\" style=\"stroke: #A80036; stroke-width: 1.0;\"/><text fill=\"#000000\" font-family=\"sans-serif\" font-size=\"13\" lengthAdjust=\"spacingAndGlyphs\" textLength=\"64\" x=\"159\" y=\"259.7869\">«depend»</text></a><!--MD5=[93f205430d0f81caff1c34d7d784a6b3]\n",
       "@startuml\r\n",
       "skinparam wrapWidth 300\r\n",
       "hide circle\r\n",
       "\r\n",
       "package \"DependencyTest\" as E1  [[psysml:fa3e9fbf-effa-4977-80ec-fe6e8fa57f4d ]]  {\r\n",
       "package \"System\" as E2  [[psysml:10c1ae57-66e9-4db6-bc3d-37ac2db9914a ]]  {\r\n",
       "package \"Application Layer\" as E3  [[psysml:f00bbef0-e3df-4574-9254-08b97b82cdf9 ]]  {\r\n",
       "}\r\n",
       "package \"Service Layer\" as E4  [[psysml:ca2e3746-a8d0-4883-91df-79f98ad99c0c ]]  {\r\n",
       "}\r\n",
       "package \"Data Layer\" as E5  [[psysml:31612912-620e-4f5b-bfbe-0087437cb05d ]]  {\r\n",
       "}\r\n",
       "}\r\n",
       "comp usage \"x \" as E6  <<(T,blue) attribute>> [[psysml:af126b68-a763-4b5e-ae0f-74aa81d9e434 ]] {\r\n",
       "}\r\n",
       "comp usage \"y \" as E7  <<(T,blue) attribute>> [[psysml:a5153252-c77e-42e1-a87d-8eb1cf591399 ]] {\r\n",
       "}\r\n",
       "comp usage \"z \" as E8  <<(T,blue) attribute>> [[psysml:4fcd16ab-62c7-48db-8542-d458ee8b30b8 ]] {\r\n",
       "}\r\n",
       "}\r\n",
       "E1 ..> E2 [[psysml:feb54464-815e-4611-ad28-7085b6ccbd88 ]] : <<import>>*\r\n",
       "E3 ..>> E4 [[psysml:46e8547b-a8f1-46c9-aa96-df26a1cf1e34 ]] : <<depend>>\r\n",
       "E4 ..>> E5 [[psysml:4580f085-b870-4b86-bde9-338fd4cc0a1d ]] : <<depend>>\r\n",
       "E8 ..>> E6 [[psysml:ef6c4171-27e8-4274-afa9-e3f35902caaf ]] : <<depend>>\r\n",
       "E8 ..>> E7 [[psysml:ef6c4171-27e8-4274-afa9-e3f35902caaf ]] : <<depend>>\r\n",
       "@enduml\r\n",
       "\n",
       "PlantUML version 1.2020.13(Sat Jun 13 12:26:38 UTC 2020)\n",
       "(EPL source distribution)\n",
       "Java Runtime: OpenJDK Runtime Environment\n",
       "JVM: OpenJDK 64-Bit Server VM\n",
       "Default Encoding: UTF-8\n",
       "Language: en\n",
       "Country: null\n",
       "--></g></svg>"
      ]
     },
     "execution_count": 23,
     "metadata": {},
     "output_type": "execute_result"
    }
   ],
   "source": [
    "%viz --style=\"STDCOLOR\" --view=\"Default\" \"DependencyTest\""
   ]
  },
  {
   "cell_type": "code",
   "execution_count": 24,
   "id": "b7c5c5c4",
   "metadata": {
    "execution": {
     "iopub.execute_input": "2022-04-22T09:48:07.358301Z",
     "iopub.status.busy": "2022-04-22T09:48:07.357694Z",
     "iopub.status.idle": "2022-04-22T09:48:07.396607Z",
     "shell.execute_reply": "2022-04-22T09:48:07.396232Z"
    }
   },
   "outputs": [
    {
     "data": {
      "image/svg+xml": [
       "<?xml version=\"1.0\" encoding=\"UTF-8\" standalone=\"no\"?><svg xmlns=\"http://www.w3.org/2000/svg\" xmlns:xlink=\"http://www.w3.org/1999/xlink\" contentScriptType=\"application/ecmascript\" contentStyleType=\"text/css\" height=\"552px\" preserveAspectRatio=\"none\" style=\"width:536px;height:552px;\" version=\"1.1\" viewBox=\"0 0 536 552\" width=\"536px\" zoomAndPan=\"magnify\"><defs><filter height=\"300%\" id=\"f1rx7lbzh6m1u4\" width=\"300%\" x=\"-1\" y=\"-1\"><feGaussianBlur result=\"blurOut\" stdDeviation=\"2.0\"/><feColorMatrix in=\"blurOut\" result=\"blurOut2\" type=\"matrix\" values=\"0 0 0 0 0 0 0 0 0 0 0 0 0 0 0 0 0 0 .4 0\"/><feOffset dx=\"4.0\" dy=\"4.0\" in=\"blurOut2\" result=\"blurOut3\"/><feBlend in=\"SourceGraphic\" in2=\"blurOut3\" mode=\"normal\"/></filter></defs><g><!--MD5=[fbc87193dbaf4d95561dea2c320d4a47]\n",
       "cluster E1--><a href=\"psysml:fa3e9fbf-effa-4977-80ec-fe6e8fa57f4d\" target=\"_top\" title=\"psysml:fa3e9fbf-effa-4977-80ec-fe6e8fa57f4d\" xlink:actuate=\"onRequest\" xlink:href=\"psysml:fa3e9fbf-effa-4977-80ec-fe6e8fa57f4d\" xlink:show=\"new\" xlink:title=\"psysml:fa3e9fbf-effa-4977-80ec-fe6e8fa57f4d\" xlink:type=\"simple\"><polygon fill=\"#FFFFFF\" filter=\"url(#f1rx7lbzh6m1u4)\" points=\"16,6,142,6,149,28.2969,514,28.2969,514,540.72,16,540.72,16,6\" style=\"stroke: #000000; stroke-width: 1.5;\"/><line style=\"stroke: #000000; stroke-width: 1.5;\" x1=\"16\" x2=\"149\" y1=\"28.2969\" y2=\"28.2969\"/><text fill=\"#000000\" font-family=\"sans-serif\" font-size=\"14\" font-weight=\"bold\" lengthAdjust=\"spacingAndGlyphs\" textLength=\"120\" x=\"20\" y=\"20.9951\">DependencyTest</text></a><!--MD5=[e4f7fae6ed58524ba242bb0b0d3be6b7]\n",
       "cluster E2--><a href=\"psysml:10c1ae57-66e9-4db6-bc3d-37ac2db9914a\" target=\"_top\" title=\"psysml:10c1ae57-66e9-4db6-bc3d-37ac2db9914a\" xlink:actuate=\"onRequest\" xlink:href=\"psysml:10c1ae57-66e9-4db6-bc3d-37ac2db9914a\" xlink:show=\"new\" xlink:title=\"psysml:10c1ae57-66e9-4db6-bc3d-37ac2db9914a\" xlink:type=\"simple\"><polygon fill=\"#FFFFFF\" filter=\"url(#f1rx7lbzh6m1u4)\" points=\"271,120.72,328,120.72,335,143.0169,474,143.0169,474,500.72,271,500.72,271,120.72\" style=\"stroke: #000000; stroke-width: 1.5;\"/><line style=\"stroke: #000000; stroke-width: 1.5;\" x1=\"271\" x2=\"335\" y1=\"143.0169\" y2=\"143.0169\"/><text fill=\"#000000\" font-family=\"sans-serif\" font-size=\"14\" font-weight=\"bold\" lengthAdjust=\"spacingAndGlyphs\" textLength=\"51\" x=\"275\" y=\"135.7151\">System</text></a><!--MD5=[60a26617385b1d2d0262a64233df1f8d]\n",
       "class E6--><a href=\"psysml:af126b68-a763-4b5e-ae0f-74aa81d9e434\" target=\"_top\" title=\"psysml:af126b68-a763-4b5e-ae0f-74aa81d9e434\" xlink:actuate=\"onRequest\" xlink:href=\"psysml:af126b68-a763-4b5e-ae0f-74aa81d9e434\" xlink:show=\"new\" xlink:title=\"psysml:af126b68-a763-4b5e-ae0f-74aa81d9e434\" xlink:type=\"simple\"><rect fill=\"#FEFECE\" filter=\"url(#f1rx7lbzh6m1u4)\" height=\"45.9375\" id=\"E6\" rx=\"10\" ry=\"10\" style=\"stroke: #A80036; stroke-width: 1.5;\" width=\"71\" x=\"40.5\" y=\"297.22\"/><text fill=\"#000000\" font-family=\"sans-serif\" font-size=\"12\" font-style=\"italic\" lengthAdjust=\"spacingAndGlyphs\" textLength=\"69\" x=\"41.5\" y=\"313.3587\">«attribute»</text><text fill=\"#000000\" font-family=\"sans-serif\" font-size=\"12\" lengthAdjust=\"spacingAndGlyphs\" textLength=\"6\" x=\"71\" y=\"327.3274\">x</text><line style=\"stroke: #A80036; stroke-width: 1.5;\" x1=\"41.5\" x2=\"110.5\" y1=\"335.1575\" y2=\"335.1575\"/></a><!--MD5=[2156ba9850f5573cc1fc38a6a4b2f02b]\n",
       "class E7--><a href=\"psysml:a5153252-c77e-42e1-a87d-8eb1cf591399\" target=\"_top\" title=\"psysml:a5153252-c77e-42e1-a87d-8eb1cf591399\" xlink:actuate=\"onRequest\" xlink:href=\"psysml:a5153252-c77e-42e1-a87d-8eb1cf591399\" xlink:show=\"new\" xlink:title=\"psysml:a5153252-c77e-42e1-a87d-8eb1cf591399\" xlink:type=\"simple\"><rect fill=\"#FEFECE\" filter=\"url(#f1rx7lbzh6m1u4)\" height=\"45.9375\" id=\"E7\" rx=\"10\" ry=\"10\" style=\"stroke: #A80036; stroke-width: 1.5;\" width=\"71\" x=\"146.5\" y=\"297.22\"/><text fill=\"#000000\" font-family=\"sans-serif\" font-size=\"12\" font-style=\"italic\" lengthAdjust=\"spacingAndGlyphs\" textLength=\"69\" x=\"147.5\" y=\"313.3587\">«attribute»</text><text fill=\"#000000\" font-family=\"sans-serif\" font-size=\"12\" lengthAdjust=\"spacingAndGlyphs\" textLength=\"6\" x=\"177\" y=\"327.3274\">y</text><line style=\"stroke: #A80036; stroke-width: 1.5;\" x1=\"147.5\" x2=\"216.5\" y1=\"335.1575\" y2=\"335.1575\"/></a><!--MD5=[b9389687b975829384b498ac4b7476b2]\n",
       "class E8--><a href=\"psysml:4fcd16ab-62c7-48db-8542-d458ee8b30b8\" target=\"_top\" title=\"psysml:4fcd16ab-62c7-48db-8542-d458ee8b30b8\" xlink:actuate=\"onRequest\" xlink:href=\"psysml:4fcd16ab-62c7-48db-8542-d458ee8b30b8\" xlink:show=\"new\" xlink:title=\"psysml:4fcd16ab-62c7-48db-8542-d458ee8b30b8\" xlink:type=\"simple\"><rect fill=\"#FEFECE\" filter=\"url(#f1rx7lbzh6m1u4)\" height=\"45.9375\" id=\"E8\" rx=\"10\" ry=\"10\" style=\"stroke: #A80036; stroke-width: 1.5;\" width=\"71\" x=\"92.5\" y=\"167.22\"/><text fill=\"#000000\" font-family=\"sans-serif\" font-size=\"12\" font-style=\"italic\" lengthAdjust=\"spacingAndGlyphs\" textLength=\"69\" x=\"93.5\" y=\"183.3587\">«attribute»</text><text fill=\"#000000\" font-family=\"sans-serif\" font-size=\"12\" lengthAdjust=\"spacingAndGlyphs\" textLength=\"5\" x=\"123.5\" y=\"197.3274\">z</text><line style=\"stroke: #A80036; stroke-width: 1.5;\" x1=\"93.5\" x2=\"162.5\" y1=\"205.1575\" y2=\"205.1575\"/></a><a href=\"psysml:f00bbef0-e3df-4574-9254-08b97b82cdf9\" target=\"_top\" title=\"psysml:f00bbef0-e3df-4574-9254-08b97b82cdf9\" xlink:actuate=\"onRequest\" xlink:href=\"psysml:f00bbef0-e3df-4574-9254-08b97b82cdf9\" xlink:show=\"new\" xlink:title=\"psysml:f00bbef0-e3df-4574-9254-08b97b82cdf9\" xlink:type=\"simple\"><polygon fill=\"#FFFFFF\" filter=\"url(#f1rx7lbzh6m1u4)\" points=\"314.5,163.72,435.5,163.72,442.5,186.0169,449.5,186.0169,449.5,216.3138,314.5,216.3138,314.5,163.72\" style=\"stroke: #000000; stroke-width: 1.5;\"/><line style=\"stroke: #000000; stroke-width: 1.5;\" x1=\"314.5\" x2=\"442.5\" y1=\"186.0169\" y2=\"186.0169\"/><text fill=\"#000000\" font-family=\"sans-serif\" font-size=\"14\" font-weight=\"bold\" lengthAdjust=\"spacingAndGlyphs\" textLength=\"115\" x=\"318.5\" y=\"178.7151\">Application Layer</text></a><a href=\"psysml:ca2e3746-a8d0-4883-91df-79f98ad99c0c\" target=\"_top\" title=\"psysml:ca2e3746-a8d0-4883-91df-79f98ad99c0c\" xlink:actuate=\"onRequest\" xlink:href=\"psysml:ca2e3746-a8d0-4883-91df-79f98ad99c0c\" xlink:show=\"new\" xlink:title=\"psysml:ca2e3746-a8d0-4883-91df-79f98ad99c0c\" xlink:type=\"simple\"><polygon fill=\"#FFFFFF\" filter=\"url(#f1rx7lbzh6m1u4)\" points=\"327,293.72,423,293.72,430,316.0169,437,316.0169,437,346.3138,327,346.3138,327,293.72\" style=\"stroke: #000000; stroke-width: 1.5;\"/><line style=\"stroke: #000000; stroke-width: 1.5;\" x1=\"327\" x2=\"430\" y1=\"316.0169\" y2=\"316.0169\"/><text fill=\"#000000\" font-family=\"sans-serif\" font-size=\"14\" font-weight=\"bold\" lengthAdjust=\"spacingAndGlyphs\" textLength=\"90\" x=\"331\" y=\"308.7151\">Service Layer</text></a><a href=\"psysml:31612912-620e-4f5b-bfbe-0087437cb05d\" target=\"_top\" title=\"psysml:31612912-620e-4f5b-bfbe-0087437cb05d\" xlink:actuate=\"onRequest\" xlink:href=\"psysml:31612912-620e-4f5b-bfbe-0087437cb05d\" xlink:show=\"new\" xlink:title=\"psysml:31612912-620e-4f5b-bfbe-0087437cb05d\" xlink:type=\"simple\"><polygon fill=\"#FFFFFF\" filter=\"url(#f1rx7lbzh6m1u4)\" points=\"336,423.72,414,423.72,421,446.0169,428,446.0169,428,476.3138,336,476.3138,336,423.72\" style=\"stroke: #000000; stroke-width: 1.5;\"/><line style=\"stroke: #000000; stroke-width: 1.5;\" x1=\"336\" x2=\"421\" y1=\"446.0169\" y2=\"446.0169\"/><text fill=\"#000000\" font-family=\"sans-serif\" font-size=\"14\" font-weight=\"bold\" lengthAdjust=\"spacingAndGlyphs\" textLength=\"72\" x=\"340\" y=\"438.7151\">Data Layer</text></a><!--MD5=[1f1cd8e6dd4c1b2ca2aaccc9b9bcea6e]\n",
       "link E1 to E2--><a href=\"psysml:feb54464-815e-4611-ad28-7085b6ccbd88\" target=\"_top\" title=\"psysml:feb54464-815e-4611-ad28-7085b6ccbd88\" xlink:actuate=\"onRequest\" xlink:href=\"psysml:feb54464-815e-4611-ad28-7085b6ccbd88\" xlink:show=\"new\" xlink:title=\"psysml:feb54464-815e-4611-ad28-7085b6ccbd88\" xlink:type=\"simple\"><path d=\"M279,33.83 C279,36.15 279,73.83 279,111.5 C279,113.8544 279,116.2087 279,118.5544 C279,119.1408 279,119.7267 279,120.3119 \" fill=\"none\" id=\"E1-&gt;E2\" style=\"stroke: #A80036; stroke-width: 1.0; stroke-dasharray: 7.0,7.0;\"/><polygon fill=\"#A80036\" points=\"279,120.3119,283,111.3119,279,115.3119,275,111.3119,279,120.3119\" style=\"stroke: #A80036; stroke-width: 1.0;\"/><text fill=\"#000000\" font-family=\"sans-serif\" font-size=\"13\" lengthAdjust=\"spacingAndGlyphs\" textLength=\"65\" x=\"280\" y=\"76.7869\">«import»*</text></a><!--MD5=[af87c684e3b0d8be13c1a698a818ef1e]\n",
       "link E3 to E4--><a href=\"psysml:46e8547b-a8f1-46c9-aa96-df26a1cf1e34\" target=\"_top\" title=\"psysml:46e8547b-a8f1-46c9-aa96-df26a1cf1e34\" xlink:actuate=\"onRequest\" xlink:href=\"psysml:46e8547b-a8f1-46c9-aa96-df26a1cf1e34\" xlink:show=\"new\" xlink:title=\"psysml:46e8547b-a8f1-46c9-aa96-df26a1cf1e34\" xlink:type=\"simple\"><path d=\"M382,216.82 C382,236.52 382,263.94 382,285.45 \" fill=\"none\" id=\"E3-&gt;E4\" style=\"stroke: #A80036; stroke-width: 1.0; stroke-dasharray: 7.0,7.0;\"/><polygon fill=\"#A80036\" points=\"382,293.67,385,285.67,379,285.67,382,293.67\" style=\"stroke: #A80036; stroke-width: 1.0;\"/><text fill=\"#000000\" font-family=\"sans-serif\" font-size=\"13\" lengthAdjust=\"spacingAndGlyphs\" textLength=\"64\" x=\"383\" y=\"259.7869\">«depend»</text></a><!--MD5=[1b7591eae5389033d8d09a9d6721a717]\n",
       "link E4 to E5--><a href=\"psysml:4580f085-b870-4b86-bde9-338fd4cc0a1d\" target=\"_top\" title=\"psysml:4580f085-b870-4b86-bde9-338fd4cc0a1d\" xlink:actuate=\"onRequest\" xlink:href=\"psysml:4580f085-b870-4b86-bde9-338fd4cc0a1d\" xlink:show=\"new\" xlink:title=\"psysml:4580f085-b870-4b86-bde9-338fd4cc0a1d\" xlink:type=\"simple\"><path d=\"M382,346.82 C382,366.52 382,393.94 382,415.45 \" fill=\"none\" id=\"E4-&gt;E5\" style=\"stroke: #A80036; stroke-width: 1.0; stroke-dasharray: 7.0,7.0;\"/><polygon fill=\"#A80036\" points=\"382,423.67,385,415.67,379,415.67,382,423.67\" style=\"stroke: #A80036; stroke-width: 1.0;\"/><text fill=\"#000000\" font-family=\"sans-serif\" font-size=\"13\" lengthAdjust=\"spacingAndGlyphs\" textLength=\"64\" x=\"383\" y=\"389.7869\">«depend»</text></a><!--MD5=[c5e8897d989ce984f93528998a7150fe]\n",
       "link E8 to E6--><a href=\"psysml:ef6c4171-27e8-4274-afa9-e3f35902caaf\" target=\"_top\" title=\"psysml:ef6c4171-27e8-4274-afa9-e3f35902caaf\" xlink:actuate=\"onRequest\" xlink:href=\"psysml:ef6c4171-27e8-4274-afa9-e3f35902caaf\" xlink:show=\"new\" xlink:title=\"psysml:ef6c4171-27e8-4274-afa9-e3f35902caaf\" xlink:type=\"simple\"><path d=\"M97.42,213.32 C87.35,222.4 77.37,233.83 72,246.72 C66.5,259.92 66.66,275.66 68.54,289.1 \" fill=\"none\" id=\"E8-&gt;E6\" style=\"stroke: #A80036; stroke-width: 1.0; stroke-dasharray: 7.0,7.0;\"/><polygon fill=\"#A80036\" points=\"69.9,297.12,71.517,288.7304,65.6018,289.7359,69.9,297.12\" style=\"stroke: #A80036; stroke-width: 1.0;\"/><text fill=\"#000000\" font-family=\"sans-serif\" font-size=\"13\" lengthAdjust=\"spacingAndGlyphs\" textLength=\"64\" x=\"73\" y=\"259.7869\">«depend»</text></a><!--MD5=[bfa3c8b0d15052fdf50ae9310b491027]\n",
       "link E8 to E7--><a href=\"psysml:ef6c4171-27e8-4274-afa9-e3f35902caaf\" target=\"_top\" title=\"psysml:ef6c4171-27e8-4274-afa9-e3f35902caaf\" xlink:actuate=\"onRequest\" xlink:href=\"psysml:ef6c4171-27e8-4274-afa9-e3f35902caaf\" xlink:show=\"new\" xlink:title=\"psysml:ef6c4171-27e8-4274-afa9-e3f35902caaf\" xlink:type=\"simple\"><path d=\"M137.28,213.22 C146.17,234.29 159.64,266.22 169.47,289.53 \" fill=\"none\" id=\"E8-&gt;E7\" style=\"stroke: #A80036; stroke-width: 1.0; stroke-dasharray: 7.0,7.0;\"/><polygon fill=\"#A80036\" points=\"172.66,297.07,172.3241,288.5326,166.7933,290.8585,172.66,297.07\" style=\"stroke: #A80036; stroke-width: 1.0;\"/><text fill=\"#000000\" font-family=\"sans-serif\" font-size=\"13\" lengthAdjust=\"spacingAndGlyphs\" textLength=\"64\" x=\"159\" y=\"259.7869\">«depend»</text></a><!--MD5=[93f205430d0f81caff1c34d7d784a6b3]\n",
       "@startuml\r\n",
       "skinparam wrapWidth 300\r\n",
       "hide circle\r\n",
       "\r\n",
       "package \"DependencyTest\" as E1  [[psysml:fa3e9fbf-effa-4977-80ec-fe6e8fa57f4d ]]  {\r\n",
       "package \"System\" as E2  [[psysml:10c1ae57-66e9-4db6-bc3d-37ac2db9914a ]]  {\r\n",
       "package \"Application Layer\" as E3  [[psysml:f00bbef0-e3df-4574-9254-08b97b82cdf9 ]]  {\r\n",
       "}\r\n",
       "package \"Service Layer\" as E4  [[psysml:ca2e3746-a8d0-4883-91df-79f98ad99c0c ]]  {\r\n",
       "}\r\n",
       "package \"Data Layer\" as E5  [[psysml:31612912-620e-4f5b-bfbe-0087437cb05d ]]  {\r\n",
       "}\r\n",
       "}\r\n",
       "comp usage \"x \" as E6  <<(T,blue) attribute>> [[psysml:af126b68-a763-4b5e-ae0f-74aa81d9e434 ]] {\r\n",
       "}\r\n",
       "comp usage \"y \" as E7  <<(T,blue) attribute>> [[psysml:a5153252-c77e-42e1-a87d-8eb1cf591399 ]] {\r\n",
       "}\r\n",
       "comp usage \"z \" as E8  <<(T,blue) attribute>> [[psysml:4fcd16ab-62c7-48db-8542-d458ee8b30b8 ]] {\r\n",
       "}\r\n",
       "}\r\n",
       "E1 ..> E2 [[psysml:feb54464-815e-4611-ad28-7085b6ccbd88 ]] : <<import>>*\r\n",
       "E3 ..>> E4 [[psysml:46e8547b-a8f1-46c9-aa96-df26a1cf1e34 ]] : <<depend>>\r\n",
       "E4 ..>> E5 [[psysml:4580f085-b870-4b86-bde9-338fd4cc0a1d ]] : <<depend>>\r\n",
       "E8 ..>> E6 [[psysml:ef6c4171-27e8-4274-afa9-e3f35902caaf ]] : <<depend>>\r\n",
       "E8 ..>> E7 [[psysml:ef6c4171-27e8-4274-afa9-e3f35902caaf ]] : <<depend>>\r\n",
       "@enduml\r\n",
       "\n",
       "PlantUML version 1.2020.13(Sat Jun 13 12:26:38 UTC 2020)\n",
       "(EPL source distribution)\n",
       "Java Runtime: OpenJDK Runtime Environment\n",
       "JVM: OpenJDK 64-Bit Server VM\n",
       "Default Encoding: UTF-8\n",
       "Language: en\n",
       "Country: null\n",
       "--></g></svg>"
      ]
     },
     "execution_count": 24,
     "metadata": {},
     "output_type": "execute_result"
    }
   ],
   "source": [
    "%viz --style=\"STDCOLOR\" --view=\"Tree\" \"DependencyTest\""
   ]
  },
  {
   "cell_type": "code",
   "execution_count": 25,
   "id": "f3844dda",
   "metadata": {
    "execution": {
     "iopub.execute_input": "2022-04-22T09:48:07.446389Z",
     "iopub.status.busy": "2022-04-22T09:48:07.445955Z",
     "iopub.status.idle": "2022-04-22T09:48:07.451282Z",
     "shell.execute_reply": "2022-04-22T09:48:07.450935Z"
    }
   },
   "outputs": [
    {
     "data": {
      "image/svg+xml": [
       "<?xml version=\"1.0\" encoding=\"UTF-8\" standalone=\"no\"?><svg xmlns=\"http://www.w3.org/2000/svg\" xmlns:xlink=\"http://www.w3.org/1999/xlink\" contentScriptType=\"application/ecmascript\" contentStyleType=\"text/css\" height=\"12px\" preserveAspectRatio=\"none\" style=\"width:12px;height:12px;\" version=\"1.1\" viewBox=\"0 0 12 12\" width=\"12px\" zoomAndPan=\"magnify\"><defs/><g><!--MD5=[aeeef50f102b80d730deb6443d14f702]\n",
       "@startuml\r\n",
       "skinparam wrapWidth 300\r\n",
       "hide circle\r\n",
       "\r\n",
       "@enduml\r\n",
       "\n",
       "PlantUML version 1.2020.13(Sat Jun 13 12:26:38 UTC 2020)\n",
       "(EPL source distribution)\n",
       "Java Runtime: OpenJDK Runtime Environment\n",
       "JVM: OpenJDK 64-Bit Server VM\n",
       "Default Encoding: UTF-8\n",
       "Language: en\n",
       "Country: null\n",
       "--></g></svg>"
      ]
     },
     "execution_count": 25,
     "metadata": {},
     "output_type": "execute_result"
    }
   ],
   "source": [
    "%viz --style=\"STDCOLOR\" --view=\"State\" \"DependencyTest\""
   ]
  },
  {
   "cell_type": "code",
   "execution_count": 26,
   "id": "36c0bcfc",
   "metadata": {
    "execution": {
     "iopub.execute_input": "2022-04-22T09:48:07.501613Z",
     "iopub.status.busy": "2022-04-22T09:48:07.501135Z",
     "iopub.status.idle": "2022-04-22T09:48:07.541786Z",
     "shell.execute_reply": "2022-04-22T09:48:07.541387Z"
    }
   },
   "outputs": [
    {
     "data": {
      "image/svg+xml": [
       "<?xml version=\"1.0\" encoding=\"UTF-8\" standalone=\"no\"?><svg xmlns=\"http://www.w3.org/2000/svg\" xmlns:xlink=\"http://www.w3.org/1999/xlink\" contentScriptType=\"application/ecmascript\" contentStyleType=\"text/css\" height=\"442px\" preserveAspectRatio=\"none\" style=\"width:536px;height:442px;\" version=\"1.1\" viewBox=\"0 0 536 442\" width=\"536px\" zoomAndPan=\"magnify\"><defs><filter height=\"300%\" id=\"f1lrgbrrl187zr\" width=\"300%\" x=\"-1\" y=\"-1\"><feGaussianBlur result=\"blurOut\" stdDeviation=\"2.0\"/><feColorMatrix in=\"blurOut\" result=\"blurOut2\" type=\"matrix\" values=\"0 0 0 0 0 0 0 0 0 0 0 0 0 0 0 0 0 0 .4 0\"/><feOffset dx=\"4.0\" dy=\"4.0\" in=\"blurOut2\" result=\"blurOut3\"/><feBlend in=\"SourceGraphic\" in2=\"blurOut3\" mode=\"normal\"/></filter></defs><g><!--MD5=[fbc87193dbaf4d95561dea2c320d4a47]\n",
       "cluster E1--><a href=\"psysml:fa3e9fbf-effa-4977-80ec-fe6e8fa57f4d\" target=\"_top\" title=\"psysml:fa3e9fbf-effa-4977-80ec-fe6e8fa57f4d\" xlink:actuate=\"onRequest\" xlink:href=\"psysml:fa3e9fbf-effa-4977-80ec-fe6e8fa57f4d\" xlink:show=\"new\" xlink:title=\"psysml:fa3e9fbf-effa-4977-80ec-fe6e8fa57f4d\" xlink:type=\"simple\"><polygon fill=\"#FFFFFF\" filter=\"url(#f1lrgbrrl187zr)\" points=\"16,6,142,6,149,28.2969,514,28.2969,514,430.72,16,430.72,16,6\" style=\"stroke: #000000; stroke-width: 1.5;\"/><line style=\"stroke: #000000; stroke-width: 1.5;\" x1=\"16\" x2=\"149\" y1=\"28.2969\" y2=\"28.2969\"/><text fill=\"#000000\" font-family=\"sans-serif\" font-size=\"14\" font-weight=\"bold\" lengthAdjust=\"spacingAndGlyphs\" textLength=\"120\" x=\"20\" y=\"20.9951\">DependencyTest</text></a><!--MD5=[e4f7fae6ed58524ba242bb0b0d3be6b7]\n",
       "cluster E2--><a href=\"psysml:10c1ae57-66e9-4db6-bc3d-37ac2db9914a\" target=\"_top\" title=\"psysml:10c1ae57-66e9-4db6-bc3d-37ac2db9914a\" xlink:actuate=\"onRequest\" xlink:href=\"psysml:10c1ae57-66e9-4db6-bc3d-37ac2db9914a\" xlink:show=\"new\" xlink:title=\"psysml:10c1ae57-66e9-4db6-bc3d-37ac2db9914a\" xlink:type=\"simple\"><polygon fill=\"#FFFFFF\" filter=\"url(#f1lrgbrrl187zr)\" points=\"271,98.72,328,98.72,335,121.0169,474,121.0169,474,390.72,271,390.72,271,98.72\" style=\"stroke: #000000; stroke-width: 1.5;\"/><line style=\"stroke: #000000; stroke-width: 1.5;\" x1=\"271\" x2=\"335\" y1=\"121.0169\" y2=\"121.0169\"/><text fill=\"#000000\" font-family=\"sans-serif\" font-size=\"14\" font-weight=\"bold\" lengthAdjust=\"spacingAndGlyphs\" textLength=\"51\" x=\"275\" y=\"113.7151\">System</text></a><!--MD5=[60a26617385b1d2d0262a64233df1f8d]\n",
       "class E6--><a href=\"psysml:af126b68-a763-4b5e-ae0f-74aa81d9e434\" target=\"_top\" title=\"psysml:af126b68-a763-4b5e-ae0f-74aa81d9e434\" xlink:actuate=\"onRequest\" xlink:href=\"psysml:af126b68-a763-4b5e-ae0f-74aa81d9e434\" xlink:show=\"new\" xlink:title=\"psysml:af126b68-a763-4b5e-ae0f-74aa81d9e434\" xlink:type=\"simple\"><rect fill=\"#FEFECE\" filter=\"url(#f1lrgbrrl187zr)\" height=\"45.9375\" id=\"E6\" rx=\"10\" ry=\"10\" style=\"stroke: #A80036; stroke-width: 1.5;\" width=\"71\" x=\"40.5\" y=\"231.22\"/><text fill=\"#000000\" font-family=\"sans-serif\" font-size=\"12\" font-style=\"italic\" lengthAdjust=\"spacingAndGlyphs\" textLength=\"69\" x=\"41.5\" y=\"247.3587\">«attribute»</text><text fill=\"#000000\" font-family=\"sans-serif\" font-size=\"12\" lengthAdjust=\"spacingAndGlyphs\" textLength=\"6\" x=\"71\" y=\"261.3274\">x</text><line style=\"stroke: #A80036; stroke-width: 1.5;\" x1=\"41.5\" x2=\"110.5\" y1=\"269.1575\" y2=\"269.1575\"/></a><!--MD5=[2156ba9850f5573cc1fc38a6a4b2f02b]\n",
       "class E7--><a href=\"psysml:a5153252-c77e-42e1-a87d-8eb1cf591399\" target=\"_top\" title=\"psysml:a5153252-c77e-42e1-a87d-8eb1cf591399\" xlink:actuate=\"onRequest\" xlink:href=\"psysml:a5153252-c77e-42e1-a87d-8eb1cf591399\" xlink:show=\"new\" xlink:title=\"psysml:a5153252-c77e-42e1-a87d-8eb1cf591399\" xlink:type=\"simple\"><rect fill=\"#FEFECE\" filter=\"url(#f1lrgbrrl187zr)\" height=\"45.9375\" id=\"E7\" rx=\"10\" ry=\"10\" style=\"stroke: #A80036; stroke-width: 1.5;\" width=\"71\" x=\"146.5\" y=\"231.22\"/><text fill=\"#000000\" font-family=\"sans-serif\" font-size=\"12\" font-style=\"italic\" lengthAdjust=\"spacingAndGlyphs\" textLength=\"69\" x=\"147.5\" y=\"247.3587\">«attribute»</text><text fill=\"#000000\" font-family=\"sans-serif\" font-size=\"12\" lengthAdjust=\"spacingAndGlyphs\" textLength=\"6\" x=\"177\" y=\"261.3274\">y</text><line style=\"stroke: #A80036; stroke-width: 1.5;\" x1=\"147.5\" x2=\"216.5\" y1=\"269.1575\" y2=\"269.1575\"/></a><!--MD5=[b9389687b975829384b498ac4b7476b2]\n",
       "class E8--><a href=\"psysml:4fcd16ab-62c7-48db-8542-d458ee8b30b8\" target=\"_top\" title=\"psysml:4fcd16ab-62c7-48db-8542-d458ee8b30b8\" xlink:actuate=\"onRequest\" xlink:href=\"psysml:4fcd16ab-62c7-48db-8542-d458ee8b30b8\" xlink:show=\"new\" xlink:title=\"psysml:4fcd16ab-62c7-48db-8542-d458ee8b30b8\" xlink:type=\"simple\"><rect fill=\"#FEFECE\" filter=\"url(#f1lrgbrrl187zr)\" height=\"45.9375\" id=\"E8\" rx=\"10\" ry=\"10\" style=\"stroke: #A80036; stroke-width: 1.5;\" width=\"71\" x=\"92.5\" y=\"145.22\"/><text fill=\"#000000\" font-family=\"sans-serif\" font-size=\"12\" font-style=\"italic\" lengthAdjust=\"spacingAndGlyphs\" textLength=\"69\" x=\"93.5\" y=\"161.3587\">«attribute»</text><text fill=\"#000000\" font-family=\"sans-serif\" font-size=\"12\" lengthAdjust=\"spacingAndGlyphs\" textLength=\"5\" x=\"123.5\" y=\"175.3274\">z</text><line style=\"stroke: #A80036; stroke-width: 1.5;\" x1=\"93.5\" x2=\"162.5\" y1=\"183.1575\" y2=\"183.1575\"/></a><a href=\"psysml:f00bbef0-e3df-4574-9254-08b97b82cdf9\" target=\"_top\" title=\"psysml:f00bbef0-e3df-4574-9254-08b97b82cdf9\" xlink:actuate=\"onRequest\" xlink:href=\"psysml:f00bbef0-e3df-4574-9254-08b97b82cdf9\" xlink:show=\"new\" xlink:title=\"psysml:f00bbef0-e3df-4574-9254-08b97b82cdf9\" xlink:type=\"simple\"><polygon fill=\"#FFFFFF\" filter=\"url(#f1lrgbrrl187zr)\" points=\"314.5,141.72,435.5,141.72,442.5,164.0169,449.5,164.0169,449.5,194.3138,314.5,194.3138,314.5,141.72\" style=\"stroke: #000000; stroke-width: 1.5;\"/><line style=\"stroke: #000000; stroke-width: 1.5;\" x1=\"314.5\" x2=\"442.5\" y1=\"164.0169\" y2=\"164.0169\"/><text fill=\"#000000\" font-family=\"sans-serif\" font-size=\"14\" font-weight=\"bold\" lengthAdjust=\"spacingAndGlyphs\" textLength=\"115\" x=\"318.5\" y=\"156.7151\">Application Layer</text></a><a href=\"psysml:ca2e3746-a8d0-4883-91df-79f98ad99c0c\" target=\"_top\" title=\"psysml:ca2e3746-a8d0-4883-91df-79f98ad99c0c\" xlink:actuate=\"onRequest\" xlink:href=\"psysml:ca2e3746-a8d0-4883-91df-79f98ad99c0c\" xlink:show=\"new\" xlink:title=\"psysml:ca2e3746-a8d0-4883-91df-79f98ad99c0c\" xlink:type=\"simple\"><polygon fill=\"#FFFFFF\" filter=\"url(#f1lrgbrrl187zr)\" points=\"327,227.72,423,227.72,430,250.0169,437,250.0169,437,280.3138,327,280.3138,327,227.72\" style=\"stroke: #000000; stroke-width: 1.5;\"/><line style=\"stroke: #000000; stroke-width: 1.5;\" x1=\"327\" x2=\"430\" y1=\"250.0169\" y2=\"250.0169\"/><text fill=\"#000000\" font-family=\"sans-serif\" font-size=\"14\" font-weight=\"bold\" lengthAdjust=\"spacingAndGlyphs\" textLength=\"90\" x=\"331\" y=\"242.7151\">Service Layer</text></a><a href=\"psysml:31612912-620e-4f5b-bfbe-0087437cb05d\" target=\"_top\" title=\"psysml:31612912-620e-4f5b-bfbe-0087437cb05d\" xlink:actuate=\"onRequest\" xlink:href=\"psysml:31612912-620e-4f5b-bfbe-0087437cb05d\" xlink:show=\"new\" xlink:title=\"psysml:31612912-620e-4f5b-bfbe-0087437cb05d\" xlink:type=\"simple\"><polygon fill=\"#FFFFFF\" filter=\"url(#f1lrgbrrl187zr)\" points=\"336,313.72,414,313.72,421,336.0169,428,336.0169,428,366.3138,336,366.3138,336,313.72\" style=\"stroke: #000000; stroke-width: 1.5;\"/><line style=\"stroke: #000000; stroke-width: 1.5;\" x1=\"336\" x2=\"421\" y1=\"336.0169\" y2=\"336.0169\"/><text fill=\"#000000\" font-family=\"sans-serif\" font-size=\"14\" font-weight=\"bold\" lengthAdjust=\"spacingAndGlyphs\" textLength=\"72\" x=\"340\" y=\"328.7151\">Data Layer</text></a><!--MD5=[1f1cd8e6dd4c1b2ca2aaccc9b9bcea6e]\n",
       "link E1 to E2--><a href=\"psysml:feb54464-815e-4611-ad28-7085b6ccbd88\" target=\"_top\" title=\"psysml:feb54464-815e-4611-ad28-7085b6ccbd88\" xlink:actuate=\"onRequest\" xlink:href=\"psysml:feb54464-815e-4611-ad28-7085b6ccbd88\" xlink:show=\"new\" xlink:title=\"psysml:feb54464-815e-4611-ad28-7085b6ccbd88\" xlink:type=\"simple\"><path d=\"M279,33.82 C279,34.815 279,43.3994 279,55.7775 C279,61.9666 279,69.1041 279,76.7155 C279,80.5213 279,84.4455 279,88.429 C279,90.4207 279,92.4272 279,94.4411 C279,95.448 279,96.4568 279,97.4665 C279,97.719 279,97.9714 279,98.224 \" fill=\"none\" id=\"E1-&gt;E2\" style=\"stroke: #A80036; stroke-width: 1.0; stroke-dasharray: 7.0,7.0;\"/><polygon fill=\"#A80036\" points=\"279,98.224,283,89.224,279,93.224,275,89.224,279,98.224\" style=\"stroke: #A80036; stroke-width: 1.0;\"/><text fill=\"#000000\" font-family=\"sans-serif\" font-size=\"13\" lengthAdjust=\"spacingAndGlyphs\" textLength=\"65\" x=\"280\" y=\"54.7869\">«import»*</text></a><!--MD5=[af87c684e3b0d8be13c1a698a818ef1e]\n",
       "link E3 to E4--><a href=\"psysml:46e8547b-a8f1-46c9-aa96-df26a1cf1e34\" target=\"_top\" title=\"psysml:46e8547b-a8f1-46c9-aa96-df26a1cf1e34\" xlink:actuate=\"onRequest\" xlink:href=\"psysml:46e8547b-a8f1-46c9-aa96-df26a1cf1e34\" xlink:show=\"new\" xlink:title=\"psysml:46e8547b-a8f1-46c9-aa96-df26a1cf1e34\" xlink:type=\"simple\"><path d=\"M382,194.88 C382,202.7 382,211.41 382,219.66 \" fill=\"none\" id=\"E3-&gt;E4\" style=\"stroke: #A80036; stroke-width: 1.0; stroke-dasharray: 7.0,7.0;\"/><polygon fill=\"#A80036\" points=\"382,227.72,385,219.72,379,219.72,382,227.72\" style=\"stroke: #A80036; stroke-width: 1.0;\"/><text fill=\"#000000\" font-family=\"sans-serif\" font-size=\"13\" lengthAdjust=\"spacingAndGlyphs\" textLength=\"64\" x=\"383\" y=\"215.7869\">«depend»</text></a><!--MD5=[1b7591eae5389033d8d09a9d6721a717]\n",
       "link E4 to E5--><a href=\"psysml:4580f085-b870-4b86-bde9-338fd4cc0a1d\" target=\"_top\" title=\"psysml:4580f085-b870-4b86-bde9-338fd4cc0a1d\" xlink:actuate=\"onRequest\" xlink:href=\"psysml:4580f085-b870-4b86-bde9-338fd4cc0a1d\" xlink:show=\"new\" xlink:title=\"psysml:4580f085-b870-4b86-bde9-338fd4cc0a1d\" xlink:type=\"simple\"><path d=\"M382,280.88 C382,288.7 382,297.41 382,305.66 \" fill=\"none\" id=\"E4-&gt;E5\" style=\"stroke: #A80036; stroke-width: 1.0; stroke-dasharray: 7.0,7.0;\"/><polygon fill=\"#A80036\" points=\"382,313.72,385,305.72,379,305.72,382,313.72\" style=\"stroke: #A80036; stroke-width: 1.0;\"/><text fill=\"#000000\" font-family=\"sans-serif\" font-size=\"13\" lengthAdjust=\"spacingAndGlyphs\" textLength=\"64\" x=\"383\" y=\"301.7869\">«depend»</text></a><!--MD5=[c5e8897d989ce984f93528998a7150fe]\n",
       "link E8 to E6--><a href=\"psysml:ef6c4171-27e8-4274-afa9-e3f35902caaf\" target=\"_top\" title=\"psysml:ef6c4171-27e8-4274-afa9-e3f35902caaf\" xlink:actuate=\"onRequest\" xlink:href=\"psysml:ef6c4171-27e8-4274-afa9-e3f35902caaf\" xlink:show=\"new\" xlink:title=\"psysml:ef6c4171-27e8-4274-afa9-e3f35902caaf\" xlink:type=\"simple\"><path d=\"M92.49,183.06 C84.34,187.99 76.69,194.44 72,202.72 C68.54,208.82 67.62,216.03 68,223.05 \" fill=\"none\" id=\"E8-&gt;E6\" style=\"stroke: #A80036; stroke-width: 1.0; stroke-dasharray: 7.0,7.0;\"/><polygon fill=\"#A80036\" points=\"68.97,231.14,71.0061,222.8421,65.0479,223.5494,68.97,231.14\" style=\"stroke: #A80036; stroke-width: 1.0;\"/><text fill=\"#000000\" font-family=\"sans-serif\" font-size=\"13\" lengthAdjust=\"spacingAndGlyphs\" textLength=\"64\" x=\"73\" y=\"215.7869\">«depend»</text></a><!--MD5=[bfa3c8b0d15052fdf50ae9310b491027]\n",
       "link E8 to E7--><a href=\"psysml:ef6c4171-27e8-4274-afa9-e3f35902caaf\" target=\"_top\" title=\"psysml:ef6c4171-27e8-4274-afa9-e3f35902caaf\" xlink:actuate=\"onRequest\" xlink:href=\"psysml:ef6c4171-27e8-4274-afa9-e3f35902caaf\" xlink:show=\"new\" xlink:title=\"psysml:ef6c4171-27e8-4274-afa9-e3f35902caaf\" xlink:type=\"simple\"><path d=\"M142.19,191.29 C148.65,201.34 156.38,213.37 163.31,224.14 \" fill=\"none\" id=\"E8-&gt;E7\" style=\"stroke: #A80036; stroke-width: 1.0; stroke-dasharray: 7.0,7.0;\"/><polygon fill=\"#A80036\" points=\"167.72,231.01,165.9148,222.6589,160.8688,225.905,167.72,231.01\" style=\"stroke: #A80036; stroke-width: 1.0;\"/><text fill=\"#000000\" font-family=\"sans-serif\" font-size=\"13\" lengthAdjust=\"spacingAndGlyphs\" textLength=\"64\" x=\"160\" y=\"215.7869\">«depend»</text></a><!--MD5=[6def06d172bb3817a25bbe35a3c9a9f2]\n",
       "@startuml\r\n",
       "skinparam ranksep 10\r\n",
       "skinparam rectangle {\r\n",
       " backgroundColor<<block>> LightGreen\r\n",
       "}\r\n",
       "skinparam wrapWidth 300\r\n",
       "hide circle\r\n",
       "\r\n",
       "package \"DependencyTest\" as E1  [[psysml:fa3e9fbf-effa-4977-80ec-fe6e8fa57f4d ]]  {\r\n",
       "package \"System\" as E2  [[psysml:10c1ae57-66e9-4db6-bc3d-37ac2db9914a ]]  {\r\n",
       "package \"Application Layer\" as E3  [[psysml:f00bbef0-e3df-4574-9254-08b97b82cdf9 ]]  {\r\n",
       "}\r\n",
       "package \"Service Layer\" as E4  [[psysml:ca2e3746-a8d0-4883-91df-79f98ad99c0c ]]  {\r\n",
       "}\r\n",
       "package \"Data Layer\" as E5  [[psysml:31612912-620e-4f5b-bfbe-0087437cb05d ]]  {\r\n",
       "}\r\n",
       "}\r\n",
       "comp usage \"x \" as E6  <<(T,blue) attribute>> [[psysml:af126b68-a763-4b5e-ae0f-74aa81d9e434 ]] {\r\n",
       "}\r\n",
       "comp usage \"y \" as E7  <<(T,blue) attribute>> [[psysml:a5153252-c77e-42e1-a87d-8eb1cf591399 ]] {\r\n",
       "}\r\n",
       "comp usage \"z \" as E8  <<(T,blue) attribute>> [[psysml:4fcd16ab-62c7-48db-8542-d458ee8b30b8 ]] {\r\n",
       "}\r\n",
       "}\r\n",
       "E1 ..> E2 [[psysml:feb54464-815e-4611-ad28-7085b6ccbd88 ]] : <<import>>*\r\n",
       "E3 ..>> E4 [[psysml:46e8547b-a8f1-46c9-aa96-df26a1cf1e34 ]] : <<depend>>\r\n",
       "E4 ..>> E5 [[psysml:4580f085-b870-4b86-bde9-338fd4cc0a1d ]] : <<depend>>\r\n",
       "E8 ..>> E6 [[psysml:ef6c4171-27e8-4274-afa9-e3f35902caaf ]] : <<depend>>\r\n",
       "E8 ..>> E7 [[psysml:ef6c4171-27e8-4274-afa9-e3f35902caaf ]] : <<depend>>\r\n",
       "@enduml\r\n",
       "\n",
       "PlantUML version 1.2020.13(Sat Jun 13 12:26:38 UTC 2020)\n",
       "(EPL source distribution)\n",
       "Java Runtime: OpenJDK Runtime Environment\n",
       "JVM: OpenJDK 64-Bit Server VM\n",
       "Default Encoding: UTF-8\n",
       "Language: en\n",
       "Country: null\n",
       "--></g></svg>"
      ]
     },
     "execution_count": 26,
     "metadata": {},
     "output_type": "execute_result"
    }
   ],
   "source": [
    "%viz --style=\"STDCOLOR\" --view=\"Interconnection\" \"DependencyTest\""
   ]
  },
  {
   "cell_type": "code",
   "execution_count": 27,
   "id": "0f722dae",
   "metadata": {
    "execution": {
     "iopub.execute_input": "2022-04-22T09:48:07.591327Z",
     "iopub.status.busy": "2022-04-22T09:48:07.590850Z",
     "iopub.status.idle": "2022-04-22T09:48:07.596078Z",
     "shell.execute_reply": "2022-04-22T09:48:07.596399Z"
    }
   },
   "outputs": [
    {
     "data": {
      "image/svg+xml": [
       "<?xml version=\"1.0\" encoding=\"UTF-8\" standalone=\"no\"?><svg xmlns=\"http://www.w3.org/2000/svg\" xmlns:xlink=\"http://www.w3.org/1999/xlink\" contentScriptType=\"application/ecmascript\" contentStyleType=\"text/css\" height=\"12px\" preserveAspectRatio=\"none\" style=\"width:12px;height:12px;\" version=\"1.1\" viewBox=\"0 0 12 12\" width=\"12px\" zoomAndPan=\"magnify\"><defs/><g><!--MD5=[9863325348a96a77dacc89509d8ee65e]\n",
       "@startuml\r\n",
       "skinparam ranksep 8\r\n",
       "skinparam wrapWidth 300\r\n",
       "hide circle\r\n",
       "\r\n",
       "@enduml\r\n",
       "\n",
       "PlantUML version 1.2020.13(Sat Jun 13 12:26:38 UTC 2020)\n",
       "(EPL source distribution)\n",
       "Java Runtime: OpenJDK Runtime Environment\n",
       "JVM: OpenJDK 64-Bit Server VM\n",
       "Default Encoding: UTF-8\n",
       "Language: en\n",
       "Country: null\n",
       "--></g></svg>"
      ]
     },
     "execution_count": 27,
     "metadata": {},
     "output_type": "execute_result"
    }
   ],
   "source": [
    "%viz --style=\"STDCOLOR\" --view=\"Action\" \"DependencyTest\""
   ]
  },
  {
   "cell_type": "code",
   "execution_count": 28,
   "id": "dc3a53b0",
   "metadata": {
    "execution": {
     "iopub.execute_input": "2022-04-22T09:48:07.646598Z",
     "iopub.status.busy": "2022-04-22T09:48:07.646185Z",
     "iopub.status.idle": "2022-04-22T09:48:07.650802Z",
     "shell.execute_reply": "2022-04-22T09:48:07.651116Z"
    }
   },
   "outputs": [
    {
     "data": {
      "image/svg+xml": [
       "<?xml version=\"1.0\" encoding=\"UTF-8\" standalone=\"no\"?><svg xmlns=\"http://www.w3.org/2000/svg\" xmlns:xlink=\"http://www.w3.org/1999/xlink\" contentScriptType=\"application/ecmascript\" contentStyleType=\"text/css\" height=\"12px\" preserveAspectRatio=\"none\" style=\"width:12px;height:12px;\" version=\"1.1\" viewBox=\"0 0 12 12\" width=\"12px\" zoomAndPan=\"magnify\"><defs/><g><!--MD5=[6c4bca67b4d71758159a5a7f1f1e1fc2]\n",
       "@startuml\r\n",
       "skinparam roundcorner 20\r\n",
       "skinparam BoxPadding 20\r\n",
       "skinparam SequenceBoxBackgroundColor #white\r\n",
       "skinparam style strictuml\r\n",
       "skinparam maxMessageSize 100\r\n",
       "skinparam wrapWidth 300\r\n",
       "hide circle\r\n",
       "\r\n",
       "@enduml\r\n",
       "\n",
       "PlantUML version 1.2020.13(Sat Jun 13 12:26:38 UTC 2020)\n",
       "(EPL source distribution)\n",
       "Java Runtime: OpenJDK Runtime Environment\n",
       "JVM: OpenJDK 64-Bit Server VM\n",
       "Default Encoding: UTF-8\n",
       "Language: en\n",
       "Country: null\n",
       "--></g></svg>"
      ]
     },
     "execution_count": 28,
     "metadata": {},
     "output_type": "execute_result"
    }
   ],
   "source": [
    "%viz --style=\"STDCOLOR\" --view=\"Sequence\" \"DependencyTest\""
   ]
  },
  {
   "cell_type": "code",
   "execution_count": 29,
   "id": "4ab756bc",
   "metadata": {
    "execution": {
     "iopub.execute_input": "2022-04-22T09:48:07.701064Z",
     "iopub.status.busy": "2022-04-22T09:48:07.700668Z",
     "iopub.status.idle": "2022-04-22T09:48:07.740255Z",
     "shell.execute_reply": "2022-04-22T09:48:07.739964Z"
    }
   },
   "outputs": [
    {
     "data": {
      "image/svg+xml": [
       "<?xml version=\"1.0\" encoding=\"UTF-8\" standalone=\"no\"?><svg xmlns=\"http://www.w3.org/2000/svg\" xmlns:xlink=\"http://www.w3.org/1999/xlink\" contentScriptType=\"application/ecmascript\" contentStyleType=\"text/css\" height=\"552px\" preserveAspectRatio=\"none\" style=\"width:536px;height:552px;\" version=\"1.1\" viewBox=\"0 0 536 552\" width=\"536px\" zoomAndPan=\"magnify\"><defs><filter height=\"300%\" id=\"f1rx7lbzh6m1u4\" width=\"300%\" x=\"-1\" y=\"-1\"><feGaussianBlur result=\"blurOut\" stdDeviation=\"2.0\"/><feColorMatrix in=\"blurOut\" result=\"blurOut2\" type=\"matrix\" values=\"0 0 0 0 0 0 0 0 0 0 0 0 0 0 0 0 0 0 .4 0\"/><feOffset dx=\"4.0\" dy=\"4.0\" in=\"blurOut2\" result=\"blurOut3\"/><feBlend in=\"SourceGraphic\" in2=\"blurOut3\" mode=\"normal\"/></filter></defs><g><!--MD5=[fbc87193dbaf4d95561dea2c320d4a47]\n",
       "cluster E1--><a href=\"psysml:fa3e9fbf-effa-4977-80ec-fe6e8fa57f4d\" target=\"_top\" title=\"psysml:fa3e9fbf-effa-4977-80ec-fe6e8fa57f4d\" xlink:actuate=\"onRequest\" xlink:href=\"psysml:fa3e9fbf-effa-4977-80ec-fe6e8fa57f4d\" xlink:show=\"new\" xlink:title=\"psysml:fa3e9fbf-effa-4977-80ec-fe6e8fa57f4d\" xlink:type=\"simple\"><polygon fill=\"#FFFFFF\" filter=\"url(#f1rx7lbzh6m1u4)\" points=\"16,6,142,6,149,28.2969,514,28.2969,514,540.72,16,540.72,16,6\" style=\"stroke: #000000; stroke-width: 1.5;\"/><line style=\"stroke: #000000; stroke-width: 1.5;\" x1=\"16\" x2=\"149\" y1=\"28.2969\" y2=\"28.2969\"/><text fill=\"#000000\" font-family=\"sans-serif\" font-size=\"14\" font-weight=\"bold\" lengthAdjust=\"spacingAndGlyphs\" textLength=\"120\" x=\"20\" y=\"20.9951\">DependencyTest</text></a><!--MD5=[e4f7fae6ed58524ba242bb0b0d3be6b7]\n",
       "cluster E2--><a href=\"psysml:10c1ae57-66e9-4db6-bc3d-37ac2db9914a\" target=\"_top\" title=\"psysml:10c1ae57-66e9-4db6-bc3d-37ac2db9914a\" xlink:actuate=\"onRequest\" xlink:href=\"psysml:10c1ae57-66e9-4db6-bc3d-37ac2db9914a\" xlink:show=\"new\" xlink:title=\"psysml:10c1ae57-66e9-4db6-bc3d-37ac2db9914a\" xlink:type=\"simple\"><polygon fill=\"#FFFFFF\" filter=\"url(#f1rx7lbzh6m1u4)\" points=\"271,120.72,328,120.72,335,143.0169,474,143.0169,474,500.72,271,500.72,271,120.72\" style=\"stroke: #000000; stroke-width: 1.5;\"/><line style=\"stroke: #000000; stroke-width: 1.5;\" x1=\"271\" x2=\"335\" y1=\"143.0169\" y2=\"143.0169\"/><text fill=\"#000000\" font-family=\"sans-serif\" font-size=\"14\" font-weight=\"bold\" lengthAdjust=\"spacingAndGlyphs\" textLength=\"51\" x=\"275\" y=\"135.7151\">System</text></a><!--MD5=[60a26617385b1d2d0262a64233df1f8d]\n",
       "class E6--><a href=\"psysml:af126b68-a763-4b5e-ae0f-74aa81d9e434\" target=\"_top\" title=\"psysml:af126b68-a763-4b5e-ae0f-74aa81d9e434\" xlink:actuate=\"onRequest\" xlink:href=\"psysml:af126b68-a763-4b5e-ae0f-74aa81d9e434\" xlink:show=\"new\" xlink:title=\"psysml:af126b68-a763-4b5e-ae0f-74aa81d9e434\" xlink:type=\"simple\"><rect fill=\"#FEFECE\" filter=\"url(#f1rx7lbzh6m1u4)\" height=\"45.9375\" id=\"E6\" rx=\"10\" ry=\"10\" style=\"stroke: #A80036; stroke-width: 1.5;\" width=\"71\" x=\"40.5\" y=\"297.22\"/><text fill=\"#000000\" font-family=\"sans-serif\" font-size=\"12\" font-style=\"italic\" lengthAdjust=\"spacingAndGlyphs\" textLength=\"69\" x=\"41.5\" y=\"313.3587\">«attribute»</text><text fill=\"#000000\" font-family=\"sans-serif\" font-size=\"12\" lengthAdjust=\"spacingAndGlyphs\" textLength=\"6\" x=\"71\" y=\"327.3274\">x</text><line style=\"stroke: #A80036; stroke-width: 1.5;\" x1=\"41.5\" x2=\"110.5\" y1=\"335.1575\" y2=\"335.1575\"/></a><!--MD5=[2156ba9850f5573cc1fc38a6a4b2f02b]\n",
       "class E7--><a href=\"psysml:a5153252-c77e-42e1-a87d-8eb1cf591399\" target=\"_top\" title=\"psysml:a5153252-c77e-42e1-a87d-8eb1cf591399\" xlink:actuate=\"onRequest\" xlink:href=\"psysml:a5153252-c77e-42e1-a87d-8eb1cf591399\" xlink:show=\"new\" xlink:title=\"psysml:a5153252-c77e-42e1-a87d-8eb1cf591399\" xlink:type=\"simple\"><rect fill=\"#FEFECE\" filter=\"url(#f1rx7lbzh6m1u4)\" height=\"45.9375\" id=\"E7\" rx=\"10\" ry=\"10\" style=\"stroke: #A80036; stroke-width: 1.5;\" width=\"71\" x=\"146.5\" y=\"297.22\"/><text fill=\"#000000\" font-family=\"sans-serif\" font-size=\"12\" font-style=\"italic\" lengthAdjust=\"spacingAndGlyphs\" textLength=\"69\" x=\"147.5\" y=\"313.3587\">«attribute»</text><text fill=\"#000000\" font-family=\"sans-serif\" font-size=\"12\" lengthAdjust=\"spacingAndGlyphs\" textLength=\"6\" x=\"177\" y=\"327.3274\">y</text><line style=\"stroke: #A80036; stroke-width: 1.5;\" x1=\"147.5\" x2=\"216.5\" y1=\"335.1575\" y2=\"335.1575\"/></a><!--MD5=[b9389687b975829384b498ac4b7476b2]\n",
       "class E8--><a href=\"psysml:4fcd16ab-62c7-48db-8542-d458ee8b30b8\" target=\"_top\" title=\"psysml:4fcd16ab-62c7-48db-8542-d458ee8b30b8\" xlink:actuate=\"onRequest\" xlink:href=\"psysml:4fcd16ab-62c7-48db-8542-d458ee8b30b8\" xlink:show=\"new\" xlink:title=\"psysml:4fcd16ab-62c7-48db-8542-d458ee8b30b8\" xlink:type=\"simple\"><rect fill=\"#FEFECE\" filter=\"url(#f1rx7lbzh6m1u4)\" height=\"45.9375\" id=\"E8\" rx=\"10\" ry=\"10\" style=\"stroke: #A80036; stroke-width: 1.5;\" width=\"71\" x=\"92.5\" y=\"167.22\"/><text fill=\"#000000\" font-family=\"sans-serif\" font-size=\"12\" font-style=\"italic\" lengthAdjust=\"spacingAndGlyphs\" textLength=\"69\" x=\"93.5\" y=\"183.3587\">«attribute»</text><text fill=\"#000000\" font-family=\"sans-serif\" font-size=\"12\" lengthAdjust=\"spacingAndGlyphs\" textLength=\"5\" x=\"123.5\" y=\"197.3274\">z</text><line style=\"stroke: #A80036; stroke-width: 1.5;\" x1=\"93.5\" x2=\"162.5\" y1=\"205.1575\" y2=\"205.1575\"/></a><a href=\"psysml:f00bbef0-e3df-4574-9254-08b97b82cdf9\" target=\"_top\" title=\"psysml:f00bbef0-e3df-4574-9254-08b97b82cdf9\" xlink:actuate=\"onRequest\" xlink:href=\"psysml:f00bbef0-e3df-4574-9254-08b97b82cdf9\" xlink:show=\"new\" xlink:title=\"psysml:f00bbef0-e3df-4574-9254-08b97b82cdf9\" xlink:type=\"simple\"><polygon fill=\"#FFFFFF\" filter=\"url(#f1rx7lbzh6m1u4)\" points=\"314.5,163.72,435.5,163.72,442.5,186.0169,449.5,186.0169,449.5,216.3138,314.5,216.3138,314.5,163.72\" style=\"stroke: #000000; stroke-width: 1.5;\"/><line style=\"stroke: #000000; stroke-width: 1.5;\" x1=\"314.5\" x2=\"442.5\" y1=\"186.0169\" y2=\"186.0169\"/><text fill=\"#000000\" font-family=\"sans-serif\" font-size=\"14\" font-weight=\"bold\" lengthAdjust=\"spacingAndGlyphs\" textLength=\"115\" x=\"318.5\" y=\"178.7151\">Application Layer</text></a><a href=\"psysml:ca2e3746-a8d0-4883-91df-79f98ad99c0c\" target=\"_top\" title=\"psysml:ca2e3746-a8d0-4883-91df-79f98ad99c0c\" xlink:actuate=\"onRequest\" xlink:href=\"psysml:ca2e3746-a8d0-4883-91df-79f98ad99c0c\" xlink:show=\"new\" xlink:title=\"psysml:ca2e3746-a8d0-4883-91df-79f98ad99c0c\" xlink:type=\"simple\"><polygon fill=\"#FFFFFF\" filter=\"url(#f1rx7lbzh6m1u4)\" points=\"327,293.72,423,293.72,430,316.0169,437,316.0169,437,346.3138,327,346.3138,327,293.72\" style=\"stroke: #000000; stroke-width: 1.5;\"/><line style=\"stroke: #000000; stroke-width: 1.5;\" x1=\"327\" x2=\"430\" y1=\"316.0169\" y2=\"316.0169\"/><text fill=\"#000000\" font-family=\"sans-serif\" font-size=\"14\" font-weight=\"bold\" lengthAdjust=\"spacingAndGlyphs\" textLength=\"90\" x=\"331\" y=\"308.7151\">Service Layer</text></a><a href=\"psysml:31612912-620e-4f5b-bfbe-0087437cb05d\" target=\"_top\" title=\"psysml:31612912-620e-4f5b-bfbe-0087437cb05d\" xlink:actuate=\"onRequest\" xlink:href=\"psysml:31612912-620e-4f5b-bfbe-0087437cb05d\" xlink:show=\"new\" xlink:title=\"psysml:31612912-620e-4f5b-bfbe-0087437cb05d\" xlink:type=\"simple\"><polygon fill=\"#FFFFFF\" filter=\"url(#f1rx7lbzh6m1u4)\" points=\"336,423.72,414,423.72,421,446.0169,428,446.0169,428,476.3138,336,476.3138,336,423.72\" style=\"stroke: #000000; stroke-width: 1.5;\"/><line style=\"stroke: #000000; stroke-width: 1.5;\" x1=\"336\" x2=\"421\" y1=\"446.0169\" y2=\"446.0169\"/><text fill=\"#000000\" font-family=\"sans-serif\" font-size=\"14\" font-weight=\"bold\" lengthAdjust=\"spacingAndGlyphs\" textLength=\"72\" x=\"340\" y=\"438.7151\">Data Layer</text></a><!--MD5=[1f1cd8e6dd4c1b2ca2aaccc9b9bcea6e]\n",
       "link E1 to E2--><a href=\"psysml:feb54464-815e-4611-ad28-7085b6ccbd88\" target=\"_top\" title=\"psysml:feb54464-815e-4611-ad28-7085b6ccbd88\" xlink:actuate=\"onRequest\" xlink:href=\"psysml:feb54464-815e-4611-ad28-7085b6ccbd88\" xlink:show=\"new\" xlink:title=\"psysml:feb54464-815e-4611-ad28-7085b6ccbd88\" xlink:type=\"simple\"><path d=\"M279,33.83 C279,36.15 279,73.83 279,111.5 C279,113.8544 279,116.2087 279,118.5544 C279,119.1408 279,119.7267 279,120.3119 \" fill=\"none\" id=\"E1-&gt;E2\" style=\"stroke: #A80036; stroke-width: 1.0; stroke-dasharray: 7.0,7.0;\"/><polygon fill=\"#A80036\" points=\"279,120.3119,283,111.3119,279,115.3119,275,111.3119,279,120.3119\" style=\"stroke: #A80036; stroke-width: 1.0;\"/><text fill=\"#000000\" font-family=\"sans-serif\" font-size=\"13\" lengthAdjust=\"spacingAndGlyphs\" textLength=\"65\" x=\"280\" y=\"76.7869\">«import»*</text></a><!--MD5=[af87c684e3b0d8be13c1a698a818ef1e]\n",
       "link E3 to E4--><a href=\"psysml:46e8547b-a8f1-46c9-aa96-df26a1cf1e34\" target=\"_top\" title=\"psysml:46e8547b-a8f1-46c9-aa96-df26a1cf1e34\" xlink:actuate=\"onRequest\" xlink:href=\"psysml:46e8547b-a8f1-46c9-aa96-df26a1cf1e34\" xlink:show=\"new\" xlink:title=\"psysml:46e8547b-a8f1-46c9-aa96-df26a1cf1e34\" xlink:type=\"simple\"><path d=\"M382,216.82 C382,236.52 382,263.94 382,285.45 \" fill=\"none\" id=\"E3-&gt;E4\" style=\"stroke: #A80036; stroke-width: 1.0; stroke-dasharray: 7.0,7.0;\"/><polygon fill=\"#A80036\" points=\"382,293.67,385,285.67,379,285.67,382,293.67\" style=\"stroke: #A80036; stroke-width: 1.0;\"/><text fill=\"#000000\" font-family=\"sans-serif\" font-size=\"13\" lengthAdjust=\"spacingAndGlyphs\" textLength=\"64\" x=\"383\" y=\"259.7869\">«depend»</text></a><!--MD5=[1b7591eae5389033d8d09a9d6721a717]\n",
       "link E4 to E5--><a href=\"psysml:4580f085-b870-4b86-bde9-338fd4cc0a1d\" target=\"_top\" title=\"psysml:4580f085-b870-4b86-bde9-338fd4cc0a1d\" xlink:actuate=\"onRequest\" xlink:href=\"psysml:4580f085-b870-4b86-bde9-338fd4cc0a1d\" xlink:show=\"new\" xlink:title=\"psysml:4580f085-b870-4b86-bde9-338fd4cc0a1d\" xlink:type=\"simple\"><path d=\"M382,346.82 C382,366.52 382,393.94 382,415.45 \" fill=\"none\" id=\"E4-&gt;E5\" style=\"stroke: #A80036; stroke-width: 1.0; stroke-dasharray: 7.0,7.0;\"/><polygon fill=\"#A80036\" points=\"382,423.67,385,415.67,379,415.67,382,423.67\" style=\"stroke: #A80036; stroke-width: 1.0;\"/><text fill=\"#000000\" font-family=\"sans-serif\" font-size=\"13\" lengthAdjust=\"spacingAndGlyphs\" textLength=\"64\" x=\"383\" y=\"389.7869\">«depend»</text></a><!--MD5=[c5e8897d989ce984f93528998a7150fe]\n",
       "link E8 to E6--><a href=\"psysml:ef6c4171-27e8-4274-afa9-e3f35902caaf\" target=\"_top\" title=\"psysml:ef6c4171-27e8-4274-afa9-e3f35902caaf\" xlink:actuate=\"onRequest\" xlink:href=\"psysml:ef6c4171-27e8-4274-afa9-e3f35902caaf\" xlink:show=\"new\" xlink:title=\"psysml:ef6c4171-27e8-4274-afa9-e3f35902caaf\" xlink:type=\"simple\"><path d=\"M97.42,213.32 C87.35,222.4 77.37,233.83 72,246.72 C66.5,259.92 66.66,275.66 68.54,289.1 \" fill=\"none\" id=\"E8-&gt;E6\" style=\"stroke: #A80036; stroke-width: 1.0; stroke-dasharray: 7.0,7.0;\"/><polygon fill=\"#A80036\" points=\"69.9,297.12,71.517,288.7304,65.6018,289.7359,69.9,297.12\" style=\"stroke: #A80036; stroke-width: 1.0;\"/><text fill=\"#000000\" font-family=\"sans-serif\" font-size=\"13\" lengthAdjust=\"spacingAndGlyphs\" textLength=\"64\" x=\"73\" y=\"259.7869\">«depend»</text></a><!--MD5=[bfa3c8b0d15052fdf50ae9310b491027]\n",
       "link E8 to E7--><a href=\"psysml:ef6c4171-27e8-4274-afa9-e3f35902caaf\" target=\"_top\" title=\"psysml:ef6c4171-27e8-4274-afa9-e3f35902caaf\" xlink:actuate=\"onRequest\" xlink:href=\"psysml:ef6c4171-27e8-4274-afa9-e3f35902caaf\" xlink:show=\"new\" xlink:title=\"psysml:ef6c4171-27e8-4274-afa9-e3f35902caaf\" xlink:type=\"simple\"><path d=\"M137.28,213.22 C146.17,234.29 159.64,266.22 169.47,289.53 \" fill=\"none\" id=\"E8-&gt;E7\" style=\"stroke: #A80036; stroke-width: 1.0; stroke-dasharray: 7.0,7.0;\"/><polygon fill=\"#A80036\" points=\"172.66,297.07,172.3241,288.5326,166.7933,290.8585,172.66,297.07\" style=\"stroke: #A80036; stroke-width: 1.0;\"/><text fill=\"#000000\" font-family=\"sans-serif\" font-size=\"13\" lengthAdjust=\"spacingAndGlyphs\" textLength=\"64\" x=\"159\" y=\"259.7869\">«depend»</text></a><!--MD5=[93f205430d0f81caff1c34d7d784a6b3]\n",
       "@startuml\r\n",
       "skinparam wrapWidth 300\r\n",
       "hide circle\r\n",
       "\r\n",
       "package \"DependencyTest\" as E1  [[psysml:fa3e9fbf-effa-4977-80ec-fe6e8fa57f4d ]]  {\r\n",
       "package \"System\" as E2  [[psysml:10c1ae57-66e9-4db6-bc3d-37ac2db9914a ]]  {\r\n",
       "package \"Application Layer\" as E3  [[psysml:f00bbef0-e3df-4574-9254-08b97b82cdf9 ]]  {\r\n",
       "}\r\n",
       "package \"Service Layer\" as E4  [[psysml:ca2e3746-a8d0-4883-91df-79f98ad99c0c ]]  {\r\n",
       "}\r\n",
       "package \"Data Layer\" as E5  [[psysml:31612912-620e-4f5b-bfbe-0087437cb05d ]]  {\r\n",
       "}\r\n",
       "}\r\n",
       "comp usage \"x \" as E6  <<(T,blue) attribute>> [[psysml:af126b68-a763-4b5e-ae0f-74aa81d9e434 ]] {\r\n",
       "}\r\n",
       "comp usage \"y \" as E7  <<(T,blue) attribute>> [[psysml:a5153252-c77e-42e1-a87d-8eb1cf591399 ]] {\r\n",
       "}\r\n",
       "comp usage \"z \" as E8  <<(T,blue) attribute>> [[psysml:4fcd16ab-62c7-48db-8542-d458ee8b30b8 ]] {\r\n",
       "}\r\n",
       "}\r\n",
       "E1 ..> E2 [[psysml:feb54464-815e-4611-ad28-7085b6ccbd88 ]] : <<import>>*\r\n",
       "E3 ..>> E4 [[psysml:46e8547b-a8f1-46c9-aa96-df26a1cf1e34 ]] : <<depend>>\r\n",
       "E4 ..>> E5 [[psysml:4580f085-b870-4b86-bde9-338fd4cc0a1d ]] : <<depend>>\r\n",
       "E8 ..>> E6 [[psysml:ef6c4171-27e8-4274-afa9-e3f35902caaf ]] : <<depend>>\r\n",
       "E8 ..>> E7 [[psysml:ef6c4171-27e8-4274-afa9-e3f35902caaf ]] : <<depend>>\r\n",
       "@enduml\r\n",
       "\n",
       "PlantUML version 1.2020.13(Sat Jun 13 12:26:38 UTC 2020)\n",
       "(EPL source distribution)\n",
       "Java Runtime: OpenJDK Runtime Environment\n",
       "JVM: OpenJDK 64-Bit Server VM\n",
       "Default Encoding: UTF-8\n",
       "Language: en\n",
       "Country: null\n",
       "--></g></svg>"
      ]
     },
     "execution_count": 29,
     "metadata": {},
     "output_type": "execute_result"
    }
   ],
   "source": [
    "%viz --style=\"STDCOLOR\" --view=\"MIXED\" \"DependencyTest\""
   ]
  },
  {
   "cell_type": "code",
   "execution_count": 30,
   "id": "18f058b1",
   "metadata": {
    "execution": {
     "iopub.execute_input": "2022-04-22T09:48:07.790685Z",
     "iopub.status.busy": "2022-04-22T09:48:07.790162Z",
     "iopub.status.idle": "2022-04-22T09:48:07.846772Z",
     "shell.execute_reply": "2022-04-22T09:48:07.845152Z"
    }
   },
   "outputs": [
    {
     "data": {
      "image/svg+xml": [
       "<?xml version=\"1.0\" encoding=\"UTF-8\" standalone=\"no\"?><svg xmlns=\"http://www.w3.org/2000/svg\" xmlns:xlink=\"http://www.w3.org/1999/xlink\" contentScriptType=\"application/ecmascript\" contentStyleType=\"text/css\" height=\"552px\" preserveAspectRatio=\"none\" style=\"width:557px;height:552px;\" version=\"1.1\" viewBox=\"0 0 557 552\" width=\"557px\" zoomAndPan=\"magnify\"><defs><filter height=\"300%\" id=\"fo7omvjumveve\" width=\"300%\" x=\"-1\" y=\"-1\"><feGaussianBlur result=\"blurOut\" stdDeviation=\"2.0\"/><feColorMatrix in=\"blurOut\" result=\"blurOut2\" type=\"matrix\" values=\"0 0 0 0 0 0 0 0 0 0 0 0 0 0 0 0 0 0 .4 0\"/><feOffset dx=\"4.0\" dy=\"4.0\" in=\"blurOut2\" result=\"blurOut3\"/><feBlend in=\"SourceGraphic\" in2=\"blurOut3\" mode=\"normal\"/></filter></defs><g><!--MD5=[fbc87193dbaf4d95561dea2c320d4a47]\n",
       "cluster E1--><a href=\"psysml:fa3e9fbf-effa-4977-80ec-fe6e8fa57f4d\" target=\"_top\" title=\"psysml:fa3e9fbf-effa-4977-80ec-fe6e8fa57f4d\" xlink:actuate=\"onRequest\" xlink:href=\"psysml:fa3e9fbf-effa-4977-80ec-fe6e8fa57f4d\" xlink:show=\"new\" xlink:title=\"psysml:fa3e9fbf-effa-4977-80ec-fe6e8fa57f4d\" xlink:type=\"simple\"><polygon fill=\"#FFFFFF\" filter=\"url(#fo7omvjumveve)\" points=\"16,6,142,6,149,28.2969,535,28.2969,535,540.72,16,540.72,16,6\" style=\"stroke: #000000; stroke-width: 1.5;\"/><line style=\"stroke: #000000; stroke-width: 1.5;\" x1=\"16\" x2=\"149\" y1=\"28.2969\" y2=\"28.2969\"/><text fill=\"#000000\" font-family=\"sans-serif\" font-size=\"14\" font-weight=\"bold\" lengthAdjust=\"spacingAndGlyphs\" textLength=\"120\" x=\"20\" y=\"20.9951\">DependencyTest</text></a><!--MD5=[e4f7fae6ed58524ba242bb0b0d3be6b7]\n",
       "cluster E2--><a href=\"psysml:10c1ae57-66e9-4db6-bc3d-37ac2db9914a\" target=\"_top\" title=\"psysml:10c1ae57-66e9-4db6-bc3d-37ac2db9914a\" xlink:actuate=\"onRequest\" xlink:href=\"psysml:10c1ae57-66e9-4db6-bc3d-37ac2db9914a\" xlink:show=\"new\" xlink:title=\"psysml:10c1ae57-66e9-4db6-bc3d-37ac2db9914a\" xlink:type=\"simple\"><polygon fill=\"#FFFFFF\" filter=\"url(#fo7omvjumveve)\" points=\"292,120.72,349,120.72,356,143.0169,495,143.0169,495,500.72,292,500.72,292,120.72\" style=\"stroke: #000000; stroke-width: 1.5;\"/><line style=\"stroke: #000000; stroke-width: 1.5;\" x1=\"292\" x2=\"356\" y1=\"143.0169\" y2=\"143.0169\"/><text fill=\"#000000\" font-family=\"sans-serif\" font-size=\"14\" font-weight=\"bold\" lengthAdjust=\"spacingAndGlyphs\" textLength=\"51\" x=\"296\" y=\"135.7151\">System</text></a><!--MD5=[60a26617385b1d2d0262a64233df1f8d]\n",
       "class E6--><a href=\"psysml:af126b68-a763-4b5e-ae0f-74aa81d9e434\" target=\"_top\" title=\"psysml:af126b68-a763-4b5e-ae0f-74aa81d9e434\" xlink:actuate=\"onRequest\" xlink:href=\"psysml:af126b68-a763-4b5e-ae0f-74aa81d9e434\" xlink:show=\"new\" xlink:title=\"psysml:af126b68-a763-4b5e-ae0f-74aa81d9e434\" xlink:type=\"simple\"><rect fill=\"#FEFECE\" filter=\"url(#fo7omvjumveve)\" height=\"45.9375\" id=\"E6\" rx=\"10\" ry=\"10\" style=\"stroke: #A80036; stroke-width: 1.5;\" width=\"97\" x=\"39.5\" y=\"297.22\"/><ellipse cx=\"54.5\" cy=\"316.1888\" fill=\"#FFA500\" rx=\"11\" ry=\"11\" style=\"stroke: #A80036; stroke-width: 1.0;\"/><path d=\"M54.25,321.6575 Q52.5,321.6575 51.5469,320.6263 Q50.6094,319.5794 50.6094,317.7356 L50.6094,310.845 L52.6719,310.845 L52.6719,311.0013 Q52.5781,311.095 52.5469,311.2356 Q52.5313,311.3606 52.5313,311.6263 L52.5313,317.7513 Q52.5313,318.845 52.9063,319.47 Q53.2813,320.095 54.2656,320.095 Q55.25,320.095 55.6406,319.47 Q56.0313,318.845 56.0313,317.7044 L56.0313,310.845 L57.9063,310.845 L57.9063,317.6888 Q57.9063,319.72 56.875,320.6888 Q55.8594,321.6575 54.25,321.6575 Z \"/><text fill=\"#000000\" font-family=\"sans-serif\" font-size=\"12\" font-style=\"italic\" lengthAdjust=\"spacingAndGlyphs\" textLength=\"69\" x=\"66.5\" y=\"313.3587\">«attribute»</text><text fill=\"#000000\" font-family=\"sans-serif\" font-size=\"12\" lengthAdjust=\"spacingAndGlyphs\" textLength=\"6\" x=\"96\" y=\"327.3274\">x</text><line style=\"stroke: #A80036; stroke-width: 1.5;\" x1=\"40.5\" x2=\"135.5\" y1=\"335.1575\" y2=\"335.1575\"/></a><!--MD5=[2156ba9850f5573cc1fc38a6a4b2f02b]\n",
       "class E7--><a href=\"psysml:a5153252-c77e-42e1-a87d-8eb1cf591399\" target=\"_top\" title=\"psysml:a5153252-c77e-42e1-a87d-8eb1cf591399\" xlink:actuate=\"onRequest\" xlink:href=\"psysml:a5153252-c77e-42e1-a87d-8eb1cf591399\" xlink:show=\"new\" xlink:title=\"psysml:a5153252-c77e-42e1-a87d-8eb1cf591399\" xlink:type=\"simple\"><rect fill=\"#FEFECE\" filter=\"url(#fo7omvjumveve)\" height=\"45.9375\" id=\"E7\" rx=\"10\" ry=\"10\" style=\"stroke: #A80036; stroke-width: 1.5;\" width=\"97\" x=\"171.5\" y=\"297.22\"/><ellipse cx=\"186.5\" cy=\"316.1888\" fill=\"#FFA500\" rx=\"11\" ry=\"11\" style=\"stroke: #A80036; stroke-width: 1.0;\"/><path d=\"M186.25,321.6575 Q184.5,321.6575 183.5469,320.6263 Q182.6094,319.5794 182.6094,317.7356 L182.6094,310.845 L184.6719,310.845 L184.6719,311.0013 Q184.5781,311.095 184.5469,311.2356 Q184.5313,311.3606 184.5313,311.6263 L184.5313,317.7513 Q184.5313,318.845 184.9063,319.47 Q185.2813,320.095 186.2656,320.095 Q187.25,320.095 187.6406,319.47 Q188.0313,318.845 188.0313,317.7044 L188.0313,310.845 L189.9063,310.845 L189.9063,317.6888 Q189.9063,319.72 188.875,320.6888 Q187.8594,321.6575 186.25,321.6575 Z \"/><text fill=\"#000000\" font-family=\"sans-serif\" font-size=\"12\" font-style=\"italic\" lengthAdjust=\"spacingAndGlyphs\" textLength=\"69\" x=\"198.5\" y=\"313.3587\">«attribute»</text><text fill=\"#000000\" font-family=\"sans-serif\" font-size=\"12\" lengthAdjust=\"spacingAndGlyphs\" textLength=\"6\" x=\"228\" y=\"327.3274\">y</text><line style=\"stroke: #A80036; stroke-width: 1.5;\" x1=\"172.5\" x2=\"267.5\" y1=\"335.1575\" y2=\"335.1575\"/></a><!--MD5=[b9389687b975829384b498ac4b7476b2]\n",
       "class E8--><a href=\"psysml:4fcd16ab-62c7-48db-8542-d458ee8b30b8\" target=\"_top\" title=\"psysml:4fcd16ab-62c7-48db-8542-d458ee8b30b8\" xlink:actuate=\"onRequest\" xlink:href=\"psysml:4fcd16ab-62c7-48db-8542-d458ee8b30b8\" xlink:show=\"new\" xlink:title=\"psysml:4fcd16ab-62c7-48db-8542-d458ee8b30b8\" xlink:type=\"simple\"><rect fill=\"#FEFECE\" filter=\"url(#fo7omvjumveve)\" height=\"45.9375\" id=\"E8\" rx=\"10\" ry=\"10\" style=\"stroke: #A80036; stroke-width: 1.5;\" width=\"97\" x=\"92.5\" y=\"167.22\"/><ellipse cx=\"107.5\" cy=\"186.1888\" fill=\"#FFA500\" rx=\"11\" ry=\"11\" style=\"stroke: #A80036; stroke-width: 1.0;\"/><path d=\"M107.25,191.6575 Q105.5,191.6575 104.5469,190.6263 Q103.6094,189.5794 103.6094,187.7356 L103.6094,180.845 L105.6719,180.845 L105.6719,181.0013 Q105.5781,181.095 105.5469,181.2356 Q105.5313,181.3606 105.5313,181.6263 L105.5313,187.7513 Q105.5313,188.845 105.9063,189.47 Q106.2813,190.095 107.2656,190.095 Q108.25,190.095 108.6406,189.47 Q109.0313,188.845 109.0313,187.7044 L109.0313,180.845 L110.9063,180.845 L110.9063,187.6888 Q110.9063,189.72 109.875,190.6888 Q108.8594,191.6575 107.25,191.6575 Z \"/><text fill=\"#000000\" font-family=\"sans-serif\" font-size=\"12\" font-style=\"italic\" lengthAdjust=\"spacingAndGlyphs\" textLength=\"69\" x=\"119.5\" y=\"183.3587\">«attribute»</text><text fill=\"#000000\" font-family=\"sans-serif\" font-size=\"12\" lengthAdjust=\"spacingAndGlyphs\" textLength=\"5\" x=\"149.5\" y=\"197.3274\">z</text><line style=\"stroke: #A80036; stroke-width: 1.5;\" x1=\"93.5\" x2=\"188.5\" y1=\"205.1575\" y2=\"205.1575\"/></a><a href=\"psysml:f00bbef0-e3df-4574-9254-08b97b82cdf9\" target=\"_top\" title=\"psysml:f00bbef0-e3df-4574-9254-08b97b82cdf9\" xlink:actuate=\"onRequest\" xlink:href=\"psysml:f00bbef0-e3df-4574-9254-08b97b82cdf9\" xlink:show=\"new\" xlink:title=\"psysml:f00bbef0-e3df-4574-9254-08b97b82cdf9\" xlink:type=\"simple\"><polygon fill=\"#FFFFFF\" filter=\"url(#fo7omvjumveve)\" points=\"335.5,163.72,456.5,163.72,463.5,186.0169,470.5,186.0169,470.5,216.3138,335.5,216.3138,335.5,163.72\" style=\"stroke: #000000; stroke-width: 1.5;\"/><line style=\"stroke: #000000; stroke-width: 1.5;\" x1=\"335.5\" x2=\"463.5\" y1=\"186.0169\" y2=\"186.0169\"/><text fill=\"#000000\" font-family=\"sans-serif\" font-size=\"14\" font-weight=\"bold\" lengthAdjust=\"spacingAndGlyphs\" textLength=\"115\" x=\"339.5\" y=\"178.7151\">Application Layer</text></a><a href=\"psysml:ca2e3746-a8d0-4883-91df-79f98ad99c0c\" target=\"_top\" title=\"psysml:ca2e3746-a8d0-4883-91df-79f98ad99c0c\" xlink:actuate=\"onRequest\" xlink:href=\"psysml:ca2e3746-a8d0-4883-91df-79f98ad99c0c\" xlink:show=\"new\" xlink:title=\"psysml:ca2e3746-a8d0-4883-91df-79f98ad99c0c\" xlink:type=\"simple\"><polygon fill=\"#FFFFFF\" filter=\"url(#fo7omvjumveve)\" points=\"348,293.72,444,293.72,451,316.0169,458,316.0169,458,346.3138,348,346.3138,348,293.72\" style=\"stroke: #000000; stroke-width: 1.5;\"/><line style=\"stroke: #000000; stroke-width: 1.5;\" x1=\"348\" x2=\"451\" y1=\"316.0169\" y2=\"316.0169\"/><text fill=\"#000000\" font-family=\"sans-serif\" font-size=\"14\" font-weight=\"bold\" lengthAdjust=\"spacingAndGlyphs\" textLength=\"90\" x=\"352\" y=\"308.7151\">Service Layer</text></a><a href=\"psysml:31612912-620e-4f5b-bfbe-0087437cb05d\" target=\"_top\" title=\"psysml:31612912-620e-4f5b-bfbe-0087437cb05d\" xlink:actuate=\"onRequest\" xlink:href=\"psysml:31612912-620e-4f5b-bfbe-0087437cb05d\" xlink:show=\"new\" xlink:title=\"psysml:31612912-620e-4f5b-bfbe-0087437cb05d\" xlink:type=\"simple\"><polygon fill=\"#FFFFFF\" filter=\"url(#fo7omvjumveve)\" points=\"357,423.72,435,423.72,442,446.0169,449,446.0169,449,476.3138,357,476.3138,357,423.72\" style=\"stroke: #000000; stroke-width: 1.5;\"/><line style=\"stroke: #000000; stroke-width: 1.5;\" x1=\"357\" x2=\"442\" y1=\"446.0169\" y2=\"446.0169\"/><text fill=\"#000000\" font-family=\"sans-serif\" font-size=\"14\" font-weight=\"bold\" lengthAdjust=\"spacingAndGlyphs\" textLength=\"72\" x=\"361\" y=\"438.7151\">Data Layer</text></a><!--MD5=[1f1cd8e6dd4c1b2ca2aaccc9b9bcea6e]\n",
       "link E1 to E2--><a href=\"psysml:feb54464-815e-4611-ad28-7085b6ccbd88\" target=\"_top\" title=\"psysml:feb54464-815e-4611-ad28-7085b6ccbd88\" xlink:actuate=\"onRequest\" xlink:href=\"psysml:feb54464-815e-4611-ad28-7085b6ccbd88\" xlink:show=\"new\" xlink:title=\"psysml:feb54464-815e-4611-ad28-7085b6ccbd88\" xlink:type=\"simple\"><path d=\"M300,33.83 C300,36.15 300,73.83 300,111.5 C300,113.8544 300,116.2087 300,118.5544 C300,119.1408 300,119.7267 300,120.3119 \" fill=\"none\" id=\"E1-&gt;E2\" style=\"stroke: #A80036; stroke-width: 1.0; stroke-dasharray: 7.0,7.0;\"/><polygon fill=\"#A80036\" points=\"300,120.3119,304,111.3119,300,115.3119,296,111.3119,300,120.3119\" style=\"stroke: #A80036; stroke-width: 1.0;\"/><text fill=\"#000000\" font-family=\"sans-serif\" font-size=\"13\" lengthAdjust=\"spacingAndGlyphs\" textLength=\"65\" x=\"301\" y=\"76.7869\">«import»*</text></a><!--MD5=[af87c684e3b0d8be13c1a698a818ef1e]\n",
       "link E3 to E4--><a href=\"psysml:46e8547b-a8f1-46c9-aa96-df26a1cf1e34\" target=\"_top\" title=\"psysml:46e8547b-a8f1-46c9-aa96-df26a1cf1e34\" xlink:actuate=\"onRequest\" xlink:href=\"psysml:46e8547b-a8f1-46c9-aa96-df26a1cf1e34\" xlink:show=\"new\" xlink:title=\"psysml:46e8547b-a8f1-46c9-aa96-df26a1cf1e34\" xlink:type=\"simple\"><path d=\"M403,216.82 C403,236.52 403,263.94 403,285.45 \" fill=\"none\" id=\"E3-&gt;E4\" style=\"stroke: #A80036; stroke-width: 1.0; stroke-dasharray: 7.0,7.0;\"/><polygon fill=\"#A80036\" points=\"403,293.67,406,285.67,400,285.67,403,293.67\" style=\"stroke: #A80036; stroke-width: 1.0;\"/><text fill=\"#000000\" font-family=\"sans-serif\" font-size=\"13\" lengthAdjust=\"spacingAndGlyphs\" textLength=\"64\" x=\"404\" y=\"259.7869\">«depend»</text></a><!--MD5=[1b7591eae5389033d8d09a9d6721a717]\n",
       "link E4 to E5--><a href=\"psysml:4580f085-b870-4b86-bde9-338fd4cc0a1d\" target=\"_top\" title=\"psysml:4580f085-b870-4b86-bde9-338fd4cc0a1d\" xlink:actuate=\"onRequest\" xlink:href=\"psysml:4580f085-b870-4b86-bde9-338fd4cc0a1d\" xlink:show=\"new\" xlink:title=\"psysml:4580f085-b870-4b86-bde9-338fd4cc0a1d\" xlink:type=\"simple\"><path d=\"M403,346.82 C403,366.52 403,393.94 403,415.45 \" fill=\"none\" id=\"E4-&gt;E5\" style=\"stroke: #A80036; stroke-width: 1.0; stroke-dasharray: 7.0,7.0;\"/><polygon fill=\"#A80036\" points=\"403,423.67,406,415.67,400,415.67,403,423.67\" style=\"stroke: #A80036; stroke-width: 1.0;\"/><text fill=\"#000000\" font-family=\"sans-serif\" font-size=\"13\" lengthAdjust=\"spacingAndGlyphs\" textLength=\"64\" x=\"404\" y=\"389.7869\">«depend»</text></a><!--MD5=[c5e8897d989ce984f93528998a7150fe]\n",
       "link E8 to E6--><a href=\"psysml:ef6c4171-27e8-4274-afa9-e3f35902caaf\" target=\"_top\" title=\"psysml:ef6c4171-27e8-4274-afa9-e3f35902caaf\" xlink:actuate=\"onRequest\" xlink:href=\"psysml:ef6c4171-27e8-4274-afa9-e3f35902caaf\" xlink:show=\"new\" xlink:title=\"psysml:ef6c4171-27e8-4274-afa9-e3f35902caaf\" xlink:type=\"simple\"><path d=\"M114.44,213.48 C105.3,222.73 96.09,234.23 91,246.72 C85.6,259.95 84.4,275.7 84.73,289.13 \" fill=\"none\" id=\"E8-&gt;E6\" style=\"stroke: #A80036; stroke-width: 1.0; stroke-dasharray: 7.0,7.0;\"/><polygon fill=\"#A80036\" points=\"85.12,297.15,87.7306,289.0146,81.7375,289.304,85.12,297.15\" style=\"stroke: #A80036; stroke-width: 1.0;\"/><text fill=\"#000000\" font-family=\"sans-serif\" font-size=\"13\" lengthAdjust=\"spacingAndGlyphs\" textLength=\"64\" x=\"92\" y=\"259.7869\">«depend»</text></a><!--MD5=[bfa3c8b0d15052fdf50ae9310b491027]\n",
       "link E8 to E7--><a href=\"psysml:ef6c4171-27e8-4274-afa9-e3f35902caaf\" target=\"_top\" title=\"psysml:ef6c4171-27e8-4274-afa9-e3f35902caaf\" xlink:actuate=\"onRequest\" xlink:href=\"psysml:ef6c4171-27e8-4274-afa9-e3f35902caaf\" xlink:show=\"new\" xlink:title=\"psysml:ef6c4171-27e8-4274-afa9-e3f35902caaf\" xlink:type=\"simple\"><path d=\"M154.58,213.22 C167.69,234.47 187.63,266.77 202.05,290.13 \" fill=\"none\" id=\"E8-&gt;E7\" style=\"stroke: #A80036; stroke-width: 1.0; stroke-dasharray: 7.0,7.0;\"/><polygon fill=\"#A80036\" points=\"206.33,297.07,204.6785,288.6871,199.5737,291.8401,206.33,297.07\" style=\"stroke: #A80036; stroke-width: 1.0;\"/><text fill=\"#000000\" font-family=\"sans-serif\" font-size=\"13\" lengthAdjust=\"spacingAndGlyphs\" textLength=\"64\" x=\"186\" y=\"259.7869\">«depend»</text></a><!--MD5=[aaa6a5778248237a6a41a888a037e99b]\n",
       "@startuml\r\n",
       " \r\n",
       "package \"DependencyTest\" as E1  [[psysml:fa3e9fbf-effa-4977-80ec-fe6e8fa57f4d ]]  {\r\n",
       "package \"System\" as E2  [[psysml:10c1ae57-66e9-4db6-bc3d-37ac2db9914a ]]  {\r\n",
       "package \"Application Layer\" as E3  [[psysml:f00bbef0-e3df-4574-9254-08b97b82cdf9 ]]  {\r\n",
       "}\r\n",
       "package \"Service Layer\" as E4  [[psysml:ca2e3746-a8d0-4883-91df-79f98ad99c0c ]]  {\r\n",
       "}\r\n",
       "package \"Data Layer\" as E5  [[psysml:31612912-620e-4f5b-bfbe-0087437cb05d ]]  {\r\n",
       "}\r\n",
       "}\r\n",
       "comp usage \"x \" as E6 << <<(U,orange) attribute>> [[psysml:af126b68-a763-4b5e-ae0f-74aa81d9e434 ]] {\r\n",
       "}\r\n",
       "comp usage \"y \" as E7 << <<(U,orange) attribute>> [[psysml:a5153252-c77e-42e1-a87d-8eb1cf591399 ]] {\r\n",
       "}\r\n",
       "comp usage \"z \" as E8 << <<(U,orange) attribute>> [[psysml:4fcd16ab-62c7-48db-8542-d458ee8b30b8 ]] {\r\n",
       "}\r\n",
       "}\r\n",
       "E1 ..> E2 [[psysml:feb54464-815e-4611-ad28-7085b6ccbd88 ]] : <<import>>*\r\n",
       "E3 ..>> E4 [[psysml:46e8547b-a8f1-46c9-aa96-df26a1cf1e34 ]] : <<depend>>\r\n",
       "E4 ..>> E5 [[psysml:4580f085-b870-4b86-bde9-338fd4cc0a1d ]] : <<depend>>\r\n",
       "E8 ..>> E6 [[psysml:ef6c4171-27e8-4274-afa9-e3f35902caaf ]] : <<depend>>\r\n",
       "E8 ..>> E7 [[psysml:ef6c4171-27e8-4274-afa9-e3f35902caaf ]] : <<depend>>\r\n",
       "@enduml\r\n",
       "\n",
       "PlantUML version 1.2020.13(Sat Jun 13 12:26:38 UTC 2020)\n",
       "(EPL source distribution)\n",
       "Java Runtime: OpenJDK Runtime Environment\n",
       "JVM: OpenJDK 64-Bit Server VM\n",
       "Default Encoding: UTF-8\n",
       "Language: en\n",
       "Country: null\n",
       "--></g></svg>"
      ]
     },
     "execution_count": 30,
     "metadata": {},
     "output_type": "execute_result"
    }
   ],
   "source": [
    "%viz --style=\"PLANTUML\" --view=\"Default\" \"DependencyTest\""
   ]
  },
  {
   "cell_type": "code",
   "execution_count": 31,
   "id": "790cdba9",
   "metadata": {
    "execution": {
     "iopub.execute_input": "2022-04-22T09:48:07.895876Z",
     "iopub.status.busy": "2022-04-22T09:48:07.895439Z",
     "iopub.status.idle": "2022-04-22T09:48:07.936872Z",
     "shell.execute_reply": "2022-04-22T09:48:07.936423Z"
    }
   },
   "outputs": [
    {
     "data": {
      "image/svg+xml": [
       "<?xml version=\"1.0\" encoding=\"UTF-8\" standalone=\"no\"?><svg xmlns=\"http://www.w3.org/2000/svg\" xmlns:xlink=\"http://www.w3.org/1999/xlink\" contentScriptType=\"application/ecmascript\" contentStyleType=\"text/css\" height=\"552px\" preserveAspectRatio=\"none\" style=\"width:557px;height:552px;\" version=\"1.1\" viewBox=\"0 0 557 552\" width=\"557px\" zoomAndPan=\"magnify\"><defs><filter height=\"300%\" id=\"fo7omvjumveve\" width=\"300%\" x=\"-1\" y=\"-1\"><feGaussianBlur result=\"blurOut\" stdDeviation=\"2.0\"/><feColorMatrix in=\"blurOut\" result=\"blurOut2\" type=\"matrix\" values=\"0 0 0 0 0 0 0 0 0 0 0 0 0 0 0 0 0 0 .4 0\"/><feOffset dx=\"4.0\" dy=\"4.0\" in=\"blurOut2\" result=\"blurOut3\"/><feBlend in=\"SourceGraphic\" in2=\"blurOut3\" mode=\"normal\"/></filter></defs><g><!--MD5=[fbc87193dbaf4d95561dea2c320d4a47]\n",
       "cluster E1--><a href=\"psysml:fa3e9fbf-effa-4977-80ec-fe6e8fa57f4d\" target=\"_top\" title=\"psysml:fa3e9fbf-effa-4977-80ec-fe6e8fa57f4d\" xlink:actuate=\"onRequest\" xlink:href=\"psysml:fa3e9fbf-effa-4977-80ec-fe6e8fa57f4d\" xlink:show=\"new\" xlink:title=\"psysml:fa3e9fbf-effa-4977-80ec-fe6e8fa57f4d\" xlink:type=\"simple\"><polygon fill=\"#FFFFFF\" filter=\"url(#fo7omvjumveve)\" points=\"16,6,142,6,149,28.2969,535,28.2969,535,540.72,16,540.72,16,6\" style=\"stroke: #000000; stroke-width: 1.5;\"/><line style=\"stroke: #000000; stroke-width: 1.5;\" x1=\"16\" x2=\"149\" y1=\"28.2969\" y2=\"28.2969\"/><text fill=\"#000000\" font-family=\"sans-serif\" font-size=\"14\" font-weight=\"bold\" lengthAdjust=\"spacingAndGlyphs\" textLength=\"120\" x=\"20\" y=\"20.9951\">DependencyTest</text></a><!--MD5=[e4f7fae6ed58524ba242bb0b0d3be6b7]\n",
       "cluster E2--><a href=\"psysml:10c1ae57-66e9-4db6-bc3d-37ac2db9914a\" target=\"_top\" title=\"psysml:10c1ae57-66e9-4db6-bc3d-37ac2db9914a\" xlink:actuate=\"onRequest\" xlink:href=\"psysml:10c1ae57-66e9-4db6-bc3d-37ac2db9914a\" xlink:show=\"new\" xlink:title=\"psysml:10c1ae57-66e9-4db6-bc3d-37ac2db9914a\" xlink:type=\"simple\"><polygon fill=\"#FFFFFF\" filter=\"url(#fo7omvjumveve)\" points=\"292,120.72,349,120.72,356,143.0169,495,143.0169,495,500.72,292,500.72,292,120.72\" style=\"stroke: #000000; stroke-width: 1.5;\"/><line style=\"stroke: #000000; stroke-width: 1.5;\" x1=\"292\" x2=\"356\" y1=\"143.0169\" y2=\"143.0169\"/><text fill=\"#000000\" font-family=\"sans-serif\" font-size=\"14\" font-weight=\"bold\" lengthAdjust=\"spacingAndGlyphs\" textLength=\"51\" x=\"296\" y=\"135.7151\">System</text></a><!--MD5=[60a26617385b1d2d0262a64233df1f8d]\n",
       "class E6--><a href=\"psysml:af126b68-a763-4b5e-ae0f-74aa81d9e434\" target=\"_top\" title=\"psysml:af126b68-a763-4b5e-ae0f-74aa81d9e434\" xlink:actuate=\"onRequest\" xlink:href=\"psysml:af126b68-a763-4b5e-ae0f-74aa81d9e434\" xlink:show=\"new\" xlink:title=\"psysml:af126b68-a763-4b5e-ae0f-74aa81d9e434\" xlink:type=\"simple\"><rect fill=\"#FEFECE\" filter=\"url(#fo7omvjumveve)\" height=\"45.9375\" id=\"E6\" rx=\"10\" ry=\"10\" style=\"stroke: #A80036; stroke-width: 1.5;\" width=\"97\" x=\"39.5\" y=\"297.22\"/><ellipse cx=\"54.5\" cy=\"316.1888\" fill=\"#FFA500\" rx=\"11\" ry=\"11\" style=\"stroke: #A80036; stroke-width: 1.0;\"/><path d=\"M54.25,321.6575 Q52.5,321.6575 51.5469,320.6263 Q50.6094,319.5794 50.6094,317.7356 L50.6094,310.845 L52.6719,310.845 L52.6719,311.0013 Q52.5781,311.095 52.5469,311.2356 Q52.5313,311.3606 52.5313,311.6263 L52.5313,317.7513 Q52.5313,318.845 52.9063,319.47 Q53.2813,320.095 54.2656,320.095 Q55.25,320.095 55.6406,319.47 Q56.0313,318.845 56.0313,317.7044 L56.0313,310.845 L57.9063,310.845 L57.9063,317.6888 Q57.9063,319.72 56.875,320.6888 Q55.8594,321.6575 54.25,321.6575 Z \"/><text fill=\"#000000\" font-family=\"sans-serif\" font-size=\"12\" font-style=\"italic\" lengthAdjust=\"spacingAndGlyphs\" textLength=\"69\" x=\"66.5\" y=\"313.3587\">«attribute»</text><text fill=\"#000000\" font-family=\"sans-serif\" font-size=\"12\" lengthAdjust=\"spacingAndGlyphs\" textLength=\"6\" x=\"96\" y=\"327.3274\">x</text><line style=\"stroke: #A80036; stroke-width: 1.5;\" x1=\"40.5\" x2=\"135.5\" y1=\"335.1575\" y2=\"335.1575\"/></a><!--MD5=[2156ba9850f5573cc1fc38a6a4b2f02b]\n",
       "class E7--><a href=\"psysml:a5153252-c77e-42e1-a87d-8eb1cf591399\" target=\"_top\" title=\"psysml:a5153252-c77e-42e1-a87d-8eb1cf591399\" xlink:actuate=\"onRequest\" xlink:href=\"psysml:a5153252-c77e-42e1-a87d-8eb1cf591399\" xlink:show=\"new\" xlink:title=\"psysml:a5153252-c77e-42e1-a87d-8eb1cf591399\" xlink:type=\"simple\"><rect fill=\"#FEFECE\" filter=\"url(#fo7omvjumveve)\" height=\"45.9375\" id=\"E7\" rx=\"10\" ry=\"10\" style=\"stroke: #A80036; stroke-width: 1.5;\" width=\"97\" x=\"171.5\" y=\"297.22\"/><ellipse cx=\"186.5\" cy=\"316.1888\" fill=\"#FFA500\" rx=\"11\" ry=\"11\" style=\"stroke: #A80036; stroke-width: 1.0;\"/><path d=\"M186.25,321.6575 Q184.5,321.6575 183.5469,320.6263 Q182.6094,319.5794 182.6094,317.7356 L182.6094,310.845 L184.6719,310.845 L184.6719,311.0013 Q184.5781,311.095 184.5469,311.2356 Q184.5313,311.3606 184.5313,311.6263 L184.5313,317.7513 Q184.5313,318.845 184.9063,319.47 Q185.2813,320.095 186.2656,320.095 Q187.25,320.095 187.6406,319.47 Q188.0313,318.845 188.0313,317.7044 L188.0313,310.845 L189.9063,310.845 L189.9063,317.6888 Q189.9063,319.72 188.875,320.6888 Q187.8594,321.6575 186.25,321.6575 Z \"/><text fill=\"#000000\" font-family=\"sans-serif\" font-size=\"12\" font-style=\"italic\" lengthAdjust=\"spacingAndGlyphs\" textLength=\"69\" x=\"198.5\" y=\"313.3587\">«attribute»</text><text fill=\"#000000\" font-family=\"sans-serif\" font-size=\"12\" lengthAdjust=\"spacingAndGlyphs\" textLength=\"6\" x=\"228\" y=\"327.3274\">y</text><line style=\"stroke: #A80036; stroke-width: 1.5;\" x1=\"172.5\" x2=\"267.5\" y1=\"335.1575\" y2=\"335.1575\"/></a><!--MD5=[b9389687b975829384b498ac4b7476b2]\n",
       "class E8--><a href=\"psysml:4fcd16ab-62c7-48db-8542-d458ee8b30b8\" target=\"_top\" title=\"psysml:4fcd16ab-62c7-48db-8542-d458ee8b30b8\" xlink:actuate=\"onRequest\" xlink:href=\"psysml:4fcd16ab-62c7-48db-8542-d458ee8b30b8\" xlink:show=\"new\" xlink:title=\"psysml:4fcd16ab-62c7-48db-8542-d458ee8b30b8\" xlink:type=\"simple\"><rect fill=\"#FEFECE\" filter=\"url(#fo7omvjumveve)\" height=\"45.9375\" id=\"E8\" rx=\"10\" ry=\"10\" style=\"stroke: #A80036; stroke-width: 1.5;\" width=\"97\" x=\"92.5\" y=\"167.22\"/><ellipse cx=\"107.5\" cy=\"186.1888\" fill=\"#FFA500\" rx=\"11\" ry=\"11\" style=\"stroke: #A80036; stroke-width: 1.0;\"/><path d=\"M107.25,191.6575 Q105.5,191.6575 104.5469,190.6263 Q103.6094,189.5794 103.6094,187.7356 L103.6094,180.845 L105.6719,180.845 L105.6719,181.0013 Q105.5781,181.095 105.5469,181.2356 Q105.5313,181.3606 105.5313,181.6263 L105.5313,187.7513 Q105.5313,188.845 105.9063,189.47 Q106.2813,190.095 107.2656,190.095 Q108.25,190.095 108.6406,189.47 Q109.0313,188.845 109.0313,187.7044 L109.0313,180.845 L110.9063,180.845 L110.9063,187.6888 Q110.9063,189.72 109.875,190.6888 Q108.8594,191.6575 107.25,191.6575 Z \"/><text fill=\"#000000\" font-family=\"sans-serif\" font-size=\"12\" font-style=\"italic\" lengthAdjust=\"spacingAndGlyphs\" textLength=\"69\" x=\"119.5\" y=\"183.3587\">«attribute»</text><text fill=\"#000000\" font-family=\"sans-serif\" font-size=\"12\" lengthAdjust=\"spacingAndGlyphs\" textLength=\"5\" x=\"149.5\" y=\"197.3274\">z</text><line style=\"stroke: #A80036; stroke-width: 1.5;\" x1=\"93.5\" x2=\"188.5\" y1=\"205.1575\" y2=\"205.1575\"/></a><a href=\"psysml:f00bbef0-e3df-4574-9254-08b97b82cdf9\" target=\"_top\" title=\"psysml:f00bbef0-e3df-4574-9254-08b97b82cdf9\" xlink:actuate=\"onRequest\" xlink:href=\"psysml:f00bbef0-e3df-4574-9254-08b97b82cdf9\" xlink:show=\"new\" xlink:title=\"psysml:f00bbef0-e3df-4574-9254-08b97b82cdf9\" xlink:type=\"simple\"><polygon fill=\"#FFFFFF\" filter=\"url(#fo7omvjumveve)\" points=\"335.5,163.72,456.5,163.72,463.5,186.0169,470.5,186.0169,470.5,216.3138,335.5,216.3138,335.5,163.72\" style=\"stroke: #000000; stroke-width: 1.5;\"/><line style=\"stroke: #000000; stroke-width: 1.5;\" x1=\"335.5\" x2=\"463.5\" y1=\"186.0169\" y2=\"186.0169\"/><text fill=\"#000000\" font-family=\"sans-serif\" font-size=\"14\" font-weight=\"bold\" lengthAdjust=\"spacingAndGlyphs\" textLength=\"115\" x=\"339.5\" y=\"178.7151\">Application Layer</text></a><a href=\"psysml:ca2e3746-a8d0-4883-91df-79f98ad99c0c\" target=\"_top\" title=\"psysml:ca2e3746-a8d0-4883-91df-79f98ad99c0c\" xlink:actuate=\"onRequest\" xlink:href=\"psysml:ca2e3746-a8d0-4883-91df-79f98ad99c0c\" xlink:show=\"new\" xlink:title=\"psysml:ca2e3746-a8d0-4883-91df-79f98ad99c0c\" xlink:type=\"simple\"><polygon fill=\"#FFFFFF\" filter=\"url(#fo7omvjumveve)\" points=\"348,293.72,444,293.72,451,316.0169,458,316.0169,458,346.3138,348,346.3138,348,293.72\" style=\"stroke: #000000; stroke-width: 1.5;\"/><line style=\"stroke: #000000; stroke-width: 1.5;\" x1=\"348\" x2=\"451\" y1=\"316.0169\" y2=\"316.0169\"/><text fill=\"#000000\" font-family=\"sans-serif\" font-size=\"14\" font-weight=\"bold\" lengthAdjust=\"spacingAndGlyphs\" textLength=\"90\" x=\"352\" y=\"308.7151\">Service Layer</text></a><a href=\"psysml:31612912-620e-4f5b-bfbe-0087437cb05d\" target=\"_top\" title=\"psysml:31612912-620e-4f5b-bfbe-0087437cb05d\" xlink:actuate=\"onRequest\" xlink:href=\"psysml:31612912-620e-4f5b-bfbe-0087437cb05d\" xlink:show=\"new\" xlink:title=\"psysml:31612912-620e-4f5b-bfbe-0087437cb05d\" xlink:type=\"simple\"><polygon fill=\"#FFFFFF\" filter=\"url(#fo7omvjumveve)\" points=\"357,423.72,435,423.72,442,446.0169,449,446.0169,449,476.3138,357,476.3138,357,423.72\" style=\"stroke: #000000; stroke-width: 1.5;\"/><line style=\"stroke: #000000; stroke-width: 1.5;\" x1=\"357\" x2=\"442\" y1=\"446.0169\" y2=\"446.0169\"/><text fill=\"#000000\" font-family=\"sans-serif\" font-size=\"14\" font-weight=\"bold\" lengthAdjust=\"spacingAndGlyphs\" textLength=\"72\" x=\"361\" y=\"438.7151\">Data Layer</text></a><!--MD5=[1f1cd8e6dd4c1b2ca2aaccc9b9bcea6e]\n",
       "link E1 to E2--><a href=\"psysml:feb54464-815e-4611-ad28-7085b6ccbd88\" target=\"_top\" title=\"psysml:feb54464-815e-4611-ad28-7085b6ccbd88\" xlink:actuate=\"onRequest\" xlink:href=\"psysml:feb54464-815e-4611-ad28-7085b6ccbd88\" xlink:show=\"new\" xlink:title=\"psysml:feb54464-815e-4611-ad28-7085b6ccbd88\" xlink:type=\"simple\"><path d=\"M300,33.83 C300,36.15 300,73.83 300,111.5 C300,113.8544 300,116.2087 300,118.5544 C300,119.1408 300,119.7267 300,120.3119 \" fill=\"none\" id=\"E1-&gt;E2\" style=\"stroke: #A80036; stroke-width: 1.0; stroke-dasharray: 7.0,7.0;\"/><polygon fill=\"#A80036\" points=\"300,120.3119,304,111.3119,300,115.3119,296,111.3119,300,120.3119\" style=\"stroke: #A80036; stroke-width: 1.0;\"/><text fill=\"#000000\" font-family=\"sans-serif\" font-size=\"13\" lengthAdjust=\"spacingAndGlyphs\" textLength=\"65\" x=\"301\" y=\"76.7869\">«import»*</text></a><!--MD5=[af87c684e3b0d8be13c1a698a818ef1e]\n",
       "link E3 to E4--><a href=\"psysml:46e8547b-a8f1-46c9-aa96-df26a1cf1e34\" target=\"_top\" title=\"psysml:46e8547b-a8f1-46c9-aa96-df26a1cf1e34\" xlink:actuate=\"onRequest\" xlink:href=\"psysml:46e8547b-a8f1-46c9-aa96-df26a1cf1e34\" xlink:show=\"new\" xlink:title=\"psysml:46e8547b-a8f1-46c9-aa96-df26a1cf1e34\" xlink:type=\"simple\"><path d=\"M403,216.82 C403,236.52 403,263.94 403,285.45 \" fill=\"none\" id=\"E3-&gt;E4\" style=\"stroke: #A80036; stroke-width: 1.0; stroke-dasharray: 7.0,7.0;\"/><polygon fill=\"#A80036\" points=\"403,293.67,406,285.67,400,285.67,403,293.67\" style=\"stroke: #A80036; stroke-width: 1.0;\"/><text fill=\"#000000\" font-family=\"sans-serif\" font-size=\"13\" lengthAdjust=\"spacingAndGlyphs\" textLength=\"64\" x=\"404\" y=\"259.7869\">«depend»</text></a><!--MD5=[1b7591eae5389033d8d09a9d6721a717]\n",
       "link E4 to E5--><a href=\"psysml:4580f085-b870-4b86-bde9-338fd4cc0a1d\" target=\"_top\" title=\"psysml:4580f085-b870-4b86-bde9-338fd4cc0a1d\" xlink:actuate=\"onRequest\" xlink:href=\"psysml:4580f085-b870-4b86-bde9-338fd4cc0a1d\" xlink:show=\"new\" xlink:title=\"psysml:4580f085-b870-4b86-bde9-338fd4cc0a1d\" xlink:type=\"simple\"><path d=\"M403,346.82 C403,366.52 403,393.94 403,415.45 \" fill=\"none\" id=\"E4-&gt;E5\" style=\"stroke: #A80036; stroke-width: 1.0; stroke-dasharray: 7.0,7.0;\"/><polygon fill=\"#A80036\" points=\"403,423.67,406,415.67,400,415.67,403,423.67\" style=\"stroke: #A80036; stroke-width: 1.0;\"/><text fill=\"#000000\" font-family=\"sans-serif\" font-size=\"13\" lengthAdjust=\"spacingAndGlyphs\" textLength=\"64\" x=\"404\" y=\"389.7869\">«depend»</text></a><!--MD5=[c5e8897d989ce984f93528998a7150fe]\n",
       "link E8 to E6--><a href=\"psysml:ef6c4171-27e8-4274-afa9-e3f35902caaf\" target=\"_top\" title=\"psysml:ef6c4171-27e8-4274-afa9-e3f35902caaf\" xlink:actuate=\"onRequest\" xlink:href=\"psysml:ef6c4171-27e8-4274-afa9-e3f35902caaf\" xlink:show=\"new\" xlink:title=\"psysml:ef6c4171-27e8-4274-afa9-e3f35902caaf\" xlink:type=\"simple\"><path d=\"M114.44,213.48 C105.3,222.73 96.09,234.23 91,246.72 C85.6,259.95 84.4,275.7 84.73,289.13 \" fill=\"none\" id=\"E8-&gt;E6\" style=\"stroke: #A80036; stroke-width: 1.0; stroke-dasharray: 7.0,7.0;\"/><polygon fill=\"#A80036\" points=\"85.12,297.15,87.7306,289.0146,81.7375,289.304,85.12,297.15\" style=\"stroke: #A80036; stroke-width: 1.0;\"/><text fill=\"#000000\" font-family=\"sans-serif\" font-size=\"13\" lengthAdjust=\"spacingAndGlyphs\" textLength=\"64\" x=\"92\" y=\"259.7869\">«depend»</text></a><!--MD5=[bfa3c8b0d15052fdf50ae9310b491027]\n",
       "link E8 to E7--><a href=\"psysml:ef6c4171-27e8-4274-afa9-e3f35902caaf\" target=\"_top\" title=\"psysml:ef6c4171-27e8-4274-afa9-e3f35902caaf\" xlink:actuate=\"onRequest\" xlink:href=\"psysml:ef6c4171-27e8-4274-afa9-e3f35902caaf\" xlink:show=\"new\" xlink:title=\"psysml:ef6c4171-27e8-4274-afa9-e3f35902caaf\" xlink:type=\"simple\"><path d=\"M154.58,213.22 C167.69,234.47 187.63,266.77 202.05,290.13 \" fill=\"none\" id=\"E8-&gt;E7\" style=\"stroke: #A80036; stroke-width: 1.0; stroke-dasharray: 7.0,7.0;\"/><polygon fill=\"#A80036\" points=\"206.33,297.07,204.6785,288.6871,199.5737,291.8401,206.33,297.07\" style=\"stroke: #A80036; stroke-width: 1.0;\"/><text fill=\"#000000\" font-family=\"sans-serif\" font-size=\"13\" lengthAdjust=\"spacingAndGlyphs\" textLength=\"64\" x=\"186\" y=\"259.7869\">«depend»</text></a><!--MD5=[aaa6a5778248237a6a41a888a037e99b]\n",
       "@startuml\r\n",
       " \r\n",
       "package \"DependencyTest\" as E1  [[psysml:fa3e9fbf-effa-4977-80ec-fe6e8fa57f4d ]]  {\r\n",
       "package \"System\" as E2  [[psysml:10c1ae57-66e9-4db6-bc3d-37ac2db9914a ]]  {\r\n",
       "package \"Application Layer\" as E3  [[psysml:f00bbef0-e3df-4574-9254-08b97b82cdf9 ]]  {\r\n",
       "}\r\n",
       "package \"Service Layer\" as E4  [[psysml:ca2e3746-a8d0-4883-91df-79f98ad99c0c ]]  {\r\n",
       "}\r\n",
       "package \"Data Layer\" as E5  [[psysml:31612912-620e-4f5b-bfbe-0087437cb05d ]]  {\r\n",
       "}\r\n",
       "}\r\n",
       "comp usage \"x \" as E6 << <<(U,orange) attribute>> [[psysml:af126b68-a763-4b5e-ae0f-74aa81d9e434 ]] {\r\n",
       "}\r\n",
       "comp usage \"y \" as E7 << <<(U,orange) attribute>> [[psysml:a5153252-c77e-42e1-a87d-8eb1cf591399 ]] {\r\n",
       "}\r\n",
       "comp usage \"z \" as E8 << <<(U,orange) attribute>> [[psysml:4fcd16ab-62c7-48db-8542-d458ee8b30b8 ]] {\r\n",
       "}\r\n",
       "}\r\n",
       "E1 ..> E2 [[psysml:feb54464-815e-4611-ad28-7085b6ccbd88 ]] : <<import>>*\r\n",
       "E3 ..>> E4 [[psysml:46e8547b-a8f1-46c9-aa96-df26a1cf1e34 ]] : <<depend>>\r\n",
       "E4 ..>> E5 [[psysml:4580f085-b870-4b86-bde9-338fd4cc0a1d ]] : <<depend>>\r\n",
       "E8 ..>> E6 [[psysml:ef6c4171-27e8-4274-afa9-e3f35902caaf ]] : <<depend>>\r\n",
       "E8 ..>> E7 [[psysml:ef6c4171-27e8-4274-afa9-e3f35902caaf ]] : <<depend>>\r\n",
       "@enduml\r\n",
       "\n",
       "PlantUML version 1.2020.13(Sat Jun 13 12:26:38 UTC 2020)\n",
       "(EPL source distribution)\n",
       "Java Runtime: OpenJDK Runtime Environment\n",
       "JVM: OpenJDK 64-Bit Server VM\n",
       "Default Encoding: UTF-8\n",
       "Language: en\n",
       "Country: null\n",
       "--></g></svg>"
      ]
     },
     "execution_count": 31,
     "metadata": {},
     "output_type": "execute_result"
    }
   ],
   "source": [
    "%viz --style=\"PLANTUML\" --view=\"Tree\" \"DependencyTest\""
   ]
  },
  {
   "cell_type": "code",
   "execution_count": 32,
   "id": "86ac964a",
   "metadata": {
    "execution": {
     "iopub.execute_input": "2022-04-22T09:48:07.986620Z",
     "iopub.status.busy": "2022-04-22T09:48:07.986201Z",
     "iopub.status.idle": "2022-04-22T09:48:08.099158Z",
     "shell.execute_reply": "2022-04-22T09:48:08.097445Z"
    }
   },
   "outputs": [
    {
     "data": {
      "image/svg+xml": [
       "<?xml version=\"1.0\" encoding=\"UTF-8\" standalone=\"no\"?><svg xmlns=\"http://www.w3.org/2000/svg\" xmlns:xlink=\"http://www.w3.org/1999/xlink\" contentScriptType=\"application/ecmascript\" contentStyleType=\"text/css\" height=\"365px\" preserveAspectRatio=\"none\" style=\"width:603px;height:365px;background:#000000;\" version=\"1.1\" viewBox=\"0 0 603 365\" width=\"603px\" zoomAndPan=\"magnify\"><defs/><g><rect fill=\"#15131A\" height=\"1\" style=\"stroke: #15131A; stroke-width: 1.0;\" width=\"1\" x=\"0\" y=\"0\"/><rect fill=\"#EAE2C9\" height=\"65.1875\" style=\"stroke: #EAE2C9; stroke-width: 1.0;\" width=\"602\" x=\"0\" y=\"0\"/><text fill=\"#000000\" font-family=\"sans-serif\" font-size=\"14\" font-weight=\"bold\" lengthAdjust=\"spacingAndGlyphs\" textLength=\"267\" x=\"10\" y=\"12.9951\">Add your own dedication into PlantUML</text><text fill=\"#000000\" font-family=\"sans-serif\" font-size=\"14\" lengthAdjust=\"spacingAndGlyphs\" textLength=\"0\" x=\"14\" y=\"29.292\"/><text fill=\"#000000\" font-family=\"sans-serif\" font-size=\"14\" lengthAdjust=\"spacingAndGlyphs\" textLength=\"154\" x=\"10\" y=\"45.5889\">For just $5 per month!</text><text fill=\"#000000\" font-family=\"sans-serif\" font-size=\"14\" lengthAdjust=\"spacingAndGlyphs\" textLength=\"69\" x=\"10\" y=\"61.8857\">Details on</text><a href=\"http://plantuml.com/dedication\" target=\"_top\" title=\"http://plantuml.com/dedication\" xlink:actuate=\"onRequest\" xlink:href=\"http://plantuml.com/dedication\" xlink:show=\"new\" xlink:title=\"http://plantuml.com/dedication\" xlink:type=\"simple\"><text fill=\"#000000\" font-family=\"sans-serif\" font-size=\"14\" font-style=\"italic\" lengthAdjust=\"spacingAndGlyphs\" textLength=\"213\" x=\"83\" y=\"61.8857\">http://plantuml.com/dedication</text></a><rect fill=\"#FFFFFF\" height=\"202.8012\" style=\"stroke: #FFFFFF; stroke-width: 1.0;\" width=\"602\" x=\"0\" y=\"65.1875\"/><text fill=\"#000000\" font-family=\"sans-serif\" font-size=\"12\" font-weight=\"bold\" lengthAdjust=\"spacingAndGlyphs\" textLength=\"139\" x=\"5\" y=\"81.3262\">Welcome to PlantUML!</text><text fill=\"#000000\" font-family=\"sans-serif\" font-size=\"12\" lengthAdjust=\"spacingAndGlyphs\" textLength=\"0\" x=\"9\" y=\"95.2949\"/><text fill=\"#000000\" font-family=\"sans-serif\" font-size=\"12\" lengthAdjust=\"spacingAndGlyphs\" textLength=\"293\" x=\"5\" y=\"109.2637\">If you use this software, you accept its license.</text><text fill=\"#000000\" font-family=\"sans-serif\" font-size=\"12\" lengthAdjust=\"spacingAndGlyphs\" textLength=\"107\" x=\"5\" y=\"123.2324\">(details by typing</text><text fill=\"#000000\" font-family=\"monospace\" font-size=\"12\" lengthAdjust=\"spacingAndGlyphs\" textLength=\"42\" x=\"116\" y=\"123.7825\">license</text><text fill=\"#000000\" font-family=\"sans-serif\" font-size=\"12\" lengthAdjust=\"spacingAndGlyphs\" textLength=\"56\" x=\"162\" y=\"123.2324\">keyword)</text><text fill=\"#000000\" font-family=\"sans-serif\" font-size=\"12\" lengthAdjust=\"spacingAndGlyphs\" textLength=\"0\" x=\"9\" y=\"137.2012\"/><text fill=\"#000000\" font-family=\"sans-serif\" font-size=\"12\" lengthAdjust=\"spacingAndGlyphs\" textLength=\"283\" x=\"5\" y=\"151.1699\">You can start with a simple UML Diagram like:</text><text fill=\"#000000\" font-family=\"sans-serif\" font-size=\"12\" lengthAdjust=\"spacingAndGlyphs\" textLength=\"0\" x=\"9\" y=\"165.1387\"/><text fill=\"#000000\" font-family=\"monospace\" font-size=\"12\" lengthAdjust=\"spacingAndGlyphs\" textLength=\"102\" x=\"5\" y=\"178.2768\">Bob-&gt;Alice: Hello</text><text fill=\"#000000\" font-family=\"sans-serif\" font-size=\"12\" lengthAdjust=\"spacingAndGlyphs\" textLength=\"0\" x=\"9\" y=\"191.6955\"/><text fill=\"#000000\" font-family=\"sans-serif\" font-size=\"12\" lengthAdjust=\"spacingAndGlyphs\" textLength=\"14\" x=\"5\" y=\"205.6643\">Or</text><text fill=\"#000000\" font-family=\"sans-serif\" font-size=\"12\" lengthAdjust=\"spacingAndGlyphs\" textLength=\"0\" x=\"9\" y=\"219.633\"/><text fill=\"#000000\" font-family=\"monospace\" font-size=\"12\" lengthAdjust=\"spacingAndGlyphs\" textLength=\"78\" x=\"5\" y=\"232.7712\">class Example</text><text fill=\"#000000\" font-family=\"sans-serif\" font-size=\"12\" lengthAdjust=\"spacingAndGlyphs\" textLength=\"0\" x=\"9\" y=\"246.1898\"/><text fill=\"#000000\" font-family=\"sans-serif\" font-size=\"12\" lengthAdjust=\"spacingAndGlyphs\" textLength=\"349\" x=\"5\" y=\"260.1586\">You will find more information about PlantUML syntax on</text><text fill=\"#000000\" font-family=\"sans-serif\" font-size=\"12\" lengthAdjust=\"spacingAndGlyphs\" text-decoration=\"underline\" textLength=\"129\" x=\"358\" y=\"260.1586\">https://plantuml.com</text><image height=\"71\" width=\"80\" x=\"516\" xlink:href=\"data:image/png;base64,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\" y=\"71.1875\"/><rect fill=\"#000000\" height=\"96.4844\" style=\"stroke: #000000; stroke-width: 1.0;\" width=\"602\" x=\"0\" y=\"267.9887\"/><rect fill=\"#33FF02\" height=\"21.2969\" style=\"stroke: #33FF02; stroke-width: 1.0;\" width=\"145\" x=\"5\" y=\"272.9887\"/><text fill=\"#000000\" font-family=\"sans-serif\" font-size=\"14\" font-weight=\"bold\" lengthAdjust=\"spacingAndGlyphs\" textLength=\"143\" x=\"6\" y=\"287.9887\">[From string (line 2) ]</text><text fill=\"#33FF02\" font-family=\"sans-serif\" font-size=\"14\" font-weight=\"bold\" lengthAdjust=\"spacingAndGlyphs\" textLength=\"0\" x=\"9\" y=\"308.2856\"/><text fill=\"#33FF02\" font-family=\"sans-serif\" font-size=\"14\" font-weight=\"bold\" lengthAdjust=\"spacingAndGlyphs\" textLength=\"70\" x=\"5\" y=\"324.5824\">@startuml</text><text fill=\"#33FF02\" font-family=\"sans-serif\" font-size=\"14\" font-weight=\"bold\" lengthAdjust=\"spacingAndGlyphs\" textLength=\"0\" x=\"9\" y=\"340.8793\"/><text fill=\"#FF0000\" font-family=\"sans-serif\" font-size=\"14\" font-weight=\"bold\" lengthAdjust=\"spacingAndGlyphs\" textLength=\"124\" x=\"9\" y=\"357.1762\">Empty description</text><!--MD5=[f59edd8218d337f74d0c332fc6737304]\n",
       "@startuml\r\n",
       " \r\n",
       "@enduml\r\n",
       "\n",
       "PlantUML version 1.2020.13(Sat Jun 13 12:26:38 UTC 2020)\n",
       "(EPL source distribution)\n",
       "Java Runtime: OpenJDK Runtime Environment\n",
       "JVM: OpenJDK 64-Bit Server VM\n",
       "Default Encoding: UTF-8\n",
       "Language: en\n",
       "Country: null\n",
       "--></g></svg>"
      ]
     },
     "execution_count": 32,
     "metadata": {},
     "output_type": "execute_result"
    }
   ],
   "source": [
    "%viz --style=\"PLANTUML\" --view=\"State\" \"DependencyTest\""
   ]
  },
  {
   "cell_type": "code",
   "execution_count": 33,
   "id": "9cbfd979",
   "metadata": {
    "execution": {
     "iopub.execute_input": "2022-04-22T09:48:08.147841Z",
     "iopub.status.busy": "2022-04-22T09:48:08.147397Z",
     "iopub.status.idle": "2022-04-22T09:48:08.178798Z",
     "shell.execute_reply": "2022-04-22T09:48:08.178431Z"
    }
   },
   "outputs": [
    {
     "data": {
      "image/svg+xml": [
       "<?xml version=\"1.0\" encoding=\"UTF-8\" standalone=\"no\"?><svg xmlns=\"http://www.w3.org/2000/svg\" xmlns:xlink=\"http://www.w3.org/1999/xlink\" contentScriptType=\"application/ecmascript\" contentStyleType=\"text/css\" height=\"442px\" preserveAspectRatio=\"none\" style=\"width:557px;height:442px;\" version=\"1.1\" viewBox=\"0 0 557 442\" width=\"557px\" zoomAndPan=\"magnify\"><defs><filter height=\"300%\" id=\"f1uj7z8htywstn\" width=\"300%\" x=\"-1\" y=\"-1\"><feGaussianBlur result=\"blurOut\" stdDeviation=\"2.0\"/><feColorMatrix in=\"blurOut\" result=\"blurOut2\" type=\"matrix\" values=\"0 0 0 0 0 0 0 0 0 0 0 0 0 0 0 0 0 0 .4 0\"/><feOffset dx=\"4.0\" dy=\"4.0\" in=\"blurOut2\" result=\"blurOut3\"/><feBlend in=\"SourceGraphic\" in2=\"blurOut3\" mode=\"normal\"/></filter></defs><g><!--MD5=[fbc87193dbaf4d95561dea2c320d4a47]\n",
       "cluster E1--><a href=\"psysml:fa3e9fbf-effa-4977-80ec-fe6e8fa57f4d\" target=\"_top\" title=\"psysml:fa3e9fbf-effa-4977-80ec-fe6e8fa57f4d\" xlink:actuate=\"onRequest\" xlink:href=\"psysml:fa3e9fbf-effa-4977-80ec-fe6e8fa57f4d\" xlink:show=\"new\" xlink:title=\"psysml:fa3e9fbf-effa-4977-80ec-fe6e8fa57f4d\" xlink:type=\"simple\"><polygon fill=\"#FFFFFF\" filter=\"url(#f1uj7z8htywstn)\" points=\"16,6,142,6,149,28.2969,535,28.2969,535,430.72,16,430.72,16,6\" style=\"stroke: #000000; stroke-width: 1.5;\"/><line style=\"stroke: #000000; stroke-width: 1.5;\" x1=\"16\" x2=\"149\" y1=\"28.2969\" y2=\"28.2969\"/><text fill=\"#000000\" font-family=\"sans-serif\" font-size=\"14\" font-weight=\"bold\" lengthAdjust=\"spacingAndGlyphs\" textLength=\"120\" x=\"20\" y=\"20.9951\">DependencyTest</text></a><!--MD5=[e4f7fae6ed58524ba242bb0b0d3be6b7]\n",
       "cluster E2--><a href=\"psysml:10c1ae57-66e9-4db6-bc3d-37ac2db9914a\" target=\"_top\" title=\"psysml:10c1ae57-66e9-4db6-bc3d-37ac2db9914a\" xlink:actuate=\"onRequest\" xlink:href=\"psysml:10c1ae57-66e9-4db6-bc3d-37ac2db9914a\" xlink:show=\"new\" xlink:title=\"psysml:10c1ae57-66e9-4db6-bc3d-37ac2db9914a\" xlink:type=\"simple\"><polygon fill=\"#FFFFFF\" filter=\"url(#f1uj7z8htywstn)\" points=\"292,98.72,349,98.72,356,121.0169,495,121.0169,495,390.72,292,390.72,292,98.72\" style=\"stroke: #000000; stroke-width: 1.5;\"/><line style=\"stroke: #000000; stroke-width: 1.5;\" x1=\"292\" x2=\"356\" y1=\"121.0169\" y2=\"121.0169\"/><text fill=\"#000000\" font-family=\"sans-serif\" font-size=\"14\" font-weight=\"bold\" lengthAdjust=\"spacingAndGlyphs\" textLength=\"51\" x=\"296\" y=\"113.7151\">System</text></a><!--MD5=[60a26617385b1d2d0262a64233df1f8d]\n",
       "class E6--><a href=\"psysml:af126b68-a763-4b5e-ae0f-74aa81d9e434\" target=\"_top\" title=\"psysml:af126b68-a763-4b5e-ae0f-74aa81d9e434\" xlink:actuate=\"onRequest\" xlink:href=\"psysml:af126b68-a763-4b5e-ae0f-74aa81d9e434\" xlink:show=\"new\" xlink:title=\"psysml:af126b68-a763-4b5e-ae0f-74aa81d9e434\" xlink:type=\"simple\"><rect fill=\"#FEFECE\" filter=\"url(#f1uj7z8htywstn)\" height=\"45.9375\" id=\"E6\" rx=\"10\" ry=\"10\" style=\"stroke: #A80036; stroke-width: 1.5;\" width=\"97\" x=\"39.5\" y=\"231.22\"/><ellipse cx=\"54.5\" cy=\"250.1888\" fill=\"#FFA500\" rx=\"11\" ry=\"11\" style=\"stroke: #A80036; stroke-width: 1.0;\"/><path d=\"M54.25,255.6575 Q52.5,255.6575 51.5469,254.6263 Q50.6094,253.5794 50.6094,251.7356 L50.6094,244.845 L52.6719,244.845 L52.6719,245.0013 Q52.5781,245.095 52.5469,245.2356 Q52.5313,245.3606 52.5313,245.6263 L52.5313,251.7513 Q52.5313,252.845 52.9063,253.47 Q53.2813,254.095 54.2656,254.095 Q55.25,254.095 55.6406,253.47 Q56.0313,252.845 56.0313,251.7044 L56.0313,244.845 L57.9063,244.845 L57.9063,251.6888 Q57.9063,253.72 56.875,254.6888 Q55.8594,255.6575 54.25,255.6575 Z \"/><text fill=\"#000000\" font-family=\"sans-serif\" font-size=\"12\" font-style=\"italic\" lengthAdjust=\"spacingAndGlyphs\" textLength=\"69\" x=\"66.5\" y=\"247.3587\">«attribute»</text><text fill=\"#000000\" font-family=\"sans-serif\" font-size=\"12\" lengthAdjust=\"spacingAndGlyphs\" textLength=\"6\" x=\"96\" y=\"261.3274\">x</text><line style=\"stroke: #A80036; stroke-width: 1.5;\" x1=\"40.5\" x2=\"135.5\" y1=\"269.1575\" y2=\"269.1575\"/></a><!--MD5=[2156ba9850f5573cc1fc38a6a4b2f02b]\n",
       "class E7--><a href=\"psysml:a5153252-c77e-42e1-a87d-8eb1cf591399\" target=\"_top\" title=\"psysml:a5153252-c77e-42e1-a87d-8eb1cf591399\" xlink:actuate=\"onRequest\" xlink:href=\"psysml:a5153252-c77e-42e1-a87d-8eb1cf591399\" xlink:show=\"new\" xlink:title=\"psysml:a5153252-c77e-42e1-a87d-8eb1cf591399\" xlink:type=\"simple\"><rect fill=\"#FEFECE\" filter=\"url(#f1uj7z8htywstn)\" height=\"45.9375\" id=\"E7\" rx=\"10\" ry=\"10\" style=\"stroke: #A80036; stroke-width: 1.5;\" width=\"97\" x=\"171.5\" y=\"231.22\"/><ellipse cx=\"186.5\" cy=\"250.1888\" fill=\"#FFA500\" rx=\"11\" ry=\"11\" style=\"stroke: #A80036; stroke-width: 1.0;\"/><path d=\"M186.25,255.6575 Q184.5,255.6575 183.5469,254.6263 Q182.6094,253.5794 182.6094,251.7356 L182.6094,244.845 L184.6719,244.845 L184.6719,245.0013 Q184.5781,245.095 184.5469,245.2356 Q184.5313,245.3606 184.5313,245.6263 L184.5313,251.7513 Q184.5313,252.845 184.9063,253.47 Q185.2813,254.095 186.2656,254.095 Q187.25,254.095 187.6406,253.47 Q188.0313,252.845 188.0313,251.7044 L188.0313,244.845 L189.9063,244.845 L189.9063,251.6888 Q189.9063,253.72 188.875,254.6888 Q187.8594,255.6575 186.25,255.6575 Z \"/><text fill=\"#000000\" font-family=\"sans-serif\" font-size=\"12\" font-style=\"italic\" lengthAdjust=\"spacingAndGlyphs\" textLength=\"69\" x=\"198.5\" y=\"247.3587\">«attribute»</text><text fill=\"#000000\" font-family=\"sans-serif\" font-size=\"12\" lengthAdjust=\"spacingAndGlyphs\" textLength=\"6\" x=\"228\" y=\"261.3274\">y</text><line style=\"stroke: #A80036; stroke-width: 1.5;\" x1=\"172.5\" x2=\"267.5\" y1=\"269.1575\" y2=\"269.1575\"/></a><!--MD5=[b9389687b975829384b498ac4b7476b2]\n",
       "class E8--><a href=\"psysml:4fcd16ab-62c7-48db-8542-d458ee8b30b8\" target=\"_top\" title=\"psysml:4fcd16ab-62c7-48db-8542-d458ee8b30b8\" xlink:actuate=\"onRequest\" xlink:href=\"psysml:4fcd16ab-62c7-48db-8542-d458ee8b30b8\" xlink:show=\"new\" xlink:title=\"psysml:4fcd16ab-62c7-48db-8542-d458ee8b30b8\" xlink:type=\"simple\"><rect fill=\"#FEFECE\" filter=\"url(#f1uj7z8htywstn)\" height=\"45.9375\" id=\"E8\" rx=\"10\" ry=\"10\" style=\"stroke: #A80036; stroke-width: 1.5;\" width=\"97\" x=\"92.5\" y=\"145.22\"/><ellipse cx=\"107.5\" cy=\"164.1888\" fill=\"#FFA500\" rx=\"11\" ry=\"11\" style=\"stroke: #A80036; stroke-width: 1.0;\"/><path d=\"M107.25,169.6575 Q105.5,169.6575 104.5469,168.6263 Q103.6094,167.5794 103.6094,165.7356 L103.6094,158.845 L105.6719,158.845 L105.6719,159.0013 Q105.5781,159.095 105.5469,159.2356 Q105.5313,159.3606 105.5313,159.6263 L105.5313,165.7513 Q105.5313,166.845 105.9063,167.47 Q106.2813,168.095 107.2656,168.095 Q108.25,168.095 108.6406,167.47 Q109.0313,166.845 109.0313,165.7044 L109.0313,158.845 L110.9063,158.845 L110.9063,165.6888 Q110.9063,167.72 109.875,168.6888 Q108.8594,169.6575 107.25,169.6575 Z \"/><text fill=\"#000000\" font-family=\"sans-serif\" font-size=\"12\" font-style=\"italic\" lengthAdjust=\"spacingAndGlyphs\" textLength=\"69\" x=\"119.5\" y=\"161.3587\">«attribute»</text><text fill=\"#000000\" font-family=\"sans-serif\" font-size=\"12\" lengthAdjust=\"spacingAndGlyphs\" textLength=\"5\" x=\"149.5\" y=\"175.3274\">z</text><line style=\"stroke: #A80036; stroke-width: 1.5;\" x1=\"93.5\" x2=\"188.5\" y1=\"183.1575\" y2=\"183.1575\"/></a><a href=\"psysml:f00bbef0-e3df-4574-9254-08b97b82cdf9\" target=\"_top\" title=\"psysml:f00bbef0-e3df-4574-9254-08b97b82cdf9\" xlink:actuate=\"onRequest\" xlink:href=\"psysml:f00bbef0-e3df-4574-9254-08b97b82cdf9\" xlink:show=\"new\" xlink:title=\"psysml:f00bbef0-e3df-4574-9254-08b97b82cdf9\" xlink:type=\"simple\"><polygon fill=\"#FFFFFF\" filter=\"url(#f1uj7z8htywstn)\" points=\"335.5,141.72,456.5,141.72,463.5,164.0169,470.5,164.0169,470.5,194.3138,335.5,194.3138,335.5,141.72\" style=\"stroke: #000000; stroke-width: 1.5;\"/><line style=\"stroke: #000000; stroke-width: 1.5;\" x1=\"335.5\" x2=\"463.5\" y1=\"164.0169\" y2=\"164.0169\"/><text fill=\"#000000\" font-family=\"sans-serif\" font-size=\"14\" font-weight=\"bold\" lengthAdjust=\"spacingAndGlyphs\" textLength=\"115\" x=\"339.5\" y=\"156.7151\">Application Layer</text></a><a href=\"psysml:ca2e3746-a8d0-4883-91df-79f98ad99c0c\" target=\"_top\" title=\"psysml:ca2e3746-a8d0-4883-91df-79f98ad99c0c\" xlink:actuate=\"onRequest\" xlink:href=\"psysml:ca2e3746-a8d0-4883-91df-79f98ad99c0c\" xlink:show=\"new\" xlink:title=\"psysml:ca2e3746-a8d0-4883-91df-79f98ad99c0c\" xlink:type=\"simple\"><polygon fill=\"#FFFFFF\" filter=\"url(#f1uj7z8htywstn)\" points=\"348,227.72,444,227.72,451,250.0169,458,250.0169,458,280.3138,348,280.3138,348,227.72\" style=\"stroke: #000000; stroke-width: 1.5;\"/><line style=\"stroke: #000000; stroke-width: 1.5;\" x1=\"348\" x2=\"451\" y1=\"250.0169\" y2=\"250.0169\"/><text fill=\"#000000\" font-family=\"sans-serif\" font-size=\"14\" font-weight=\"bold\" lengthAdjust=\"spacingAndGlyphs\" textLength=\"90\" x=\"352\" y=\"242.7151\">Service Layer</text></a><a href=\"psysml:31612912-620e-4f5b-bfbe-0087437cb05d\" target=\"_top\" title=\"psysml:31612912-620e-4f5b-bfbe-0087437cb05d\" xlink:actuate=\"onRequest\" xlink:href=\"psysml:31612912-620e-4f5b-bfbe-0087437cb05d\" xlink:show=\"new\" xlink:title=\"psysml:31612912-620e-4f5b-bfbe-0087437cb05d\" xlink:type=\"simple\"><polygon fill=\"#FFFFFF\" filter=\"url(#f1uj7z8htywstn)\" points=\"357,313.72,435,313.72,442,336.0169,449,336.0169,449,366.3138,357,366.3138,357,313.72\" style=\"stroke: #000000; stroke-width: 1.5;\"/><line style=\"stroke: #000000; stroke-width: 1.5;\" x1=\"357\" x2=\"442\" y1=\"336.0169\" y2=\"336.0169\"/><text fill=\"#000000\" font-family=\"sans-serif\" font-size=\"14\" font-weight=\"bold\" lengthAdjust=\"spacingAndGlyphs\" textLength=\"72\" x=\"361\" y=\"328.7151\">Data Layer</text></a><!--MD5=[1f1cd8e6dd4c1b2ca2aaccc9b9bcea6e]\n",
       "link E1 to E2--><a href=\"psysml:feb54464-815e-4611-ad28-7085b6ccbd88\" target=\"_top\" title=\"psysml:feb54464-815e-4611-ad28-7085b6ccbd88\" xlink:actuate=\"onRequest\" xlink:href=\"psysml:feb54464-815e-4611-ad28-7085b6ccbd88\" xlink:show=\"new\" xlink:title=\"psysml:feb54464-815e-4611-ad28-7085b6ccbd88\" xlink:type=\"simple\"><path d=\"M300,33.82 C300,34.815 300,43.3994 300,55.7775 C300,61.9666 300,69.1041 300,76.7155 C300,80.5213 300,84.4455 300,88.429 C300,90.4207 300,92.4272 300,94.4411 C300,95.448 300,96.4568 300,97.4665 C300,97.719 300,97.9714 300,98.224 \" fill=\"none\" id=\"E1-&gt;E2\" style=\"stroke: #A80036; stroke-width: 1.0; stroke-dasharray: 7.0,7.0;\"/><polygon fill=\"#A80036\" points=\"300,98.224,304,89.224,300,93.224,296,89.224,300,98.224\" style=\"stroke: #A80036; stroke-width: 1.0;\"/><text fill=\"#000000\" font-family=\"sans-serif\" font-size=\"13\" lengthAdjust=\"spacingAndGlyphs\" textLength=\"65\" x=\"301\" y=\"54.7869\">«import»*</text></a><!--MD5=[af87c684e3b0d8be13c1a698a818ef1e]\n",
       "link E3 to E4--><a href=\"psysml:46e8547b-a8f1-46c9-aa96-df26a1cf1e34\" target=\"_top\" title=\"psysml:46e8547b-a8f1-46c9-aa96-df26a1cf1e34\" xlink:actuate=\"onRequest\" xlink:href=\"psysml:46e8547b-a8f1-46c9-aa96-df26a1cf1e34\" xlink:show=\"new\" xlink:title=\"psysml:46e8547b-a8f1-46c9-aa96-df26a1cf1e34\" xlink:type=\"simple\"><path d=\"M403,194.88 C403,202.7 403,211.41 403,219.66 \" fill=\"none\" id=\"E3-&gt;E4\" style=\"stroke: #A80036; stroke-width: 1.0; stroke-dasharray: 7.0,7.0;\"/><polygon fill=\"#A80036\" points=\"403,227.72,406,219.72,400,219.72,403,227.72\" style=\"stroke: #A80036; stroke-width: 1.0;\"/><text fill=\"#000000\" font-family=\"sans-serif\" font-size=\"13\" lengthAdjust=\"spacingAndGlyphs\" textLength=\"64\" x=\"404\" y=\"215.7869\">«depend»</text></a><!--MD5=[1b7591eae5389033d8d09a9d6721a717]\n",
       "link E4 to E5--><a href=\"psysml:4580f085-b870-4b86-bde9-338fd4cc0a1d\" target=\"_top\" title=\"psysml:4580f085-b870-4b86-bde9-338fd4cc0a1d\" xlink:actuate=\"onRequest\" xlink:href=\"psysml:4580f085-b870-4b86-bde9-338fd4cc0a1d\" xlink:show=\"new\" xlink:title=\"psysml:4580f085-b870-4b86-bde9-338fd4cc0a1d\" xlink:type=\"simple\"><path d=\"M403,280.88 C403,288.7 403,297.41 403,305.66 \" fill=\"none\" id=\"E4-&gt;E5\" style=\"stroke: #A80036; stroke-width: 1.0; stroke-dasharray: 7.0,7.0;\"/><polygon fill=\"#A80036\" points=\"403,313.72,406,305.72,400,305.72,403,313.72\" style=\"stroke: #A80036; stroke-width: 1.0;\"/><text fill=\"#000000\" font-family=\"sans-serif\" font-size=\"13\" lengthAdjust=\"spacingAndGlyphs\" textLength=\"64\" x=\"404\" y=\"301.7869\">«depend»</text></a><!--MD5=[c5e8897d989ce984f93528998a7150fe]\n",
       "link E8 to E6--><a href=\"psysml:ef6c4171-27e8-4274-afa9-e3f35902caaf\" target=\"_top\" title=\"psysml:ef6c4171-27e8-4274-afa9-e3f35902caaf\" xlink:actuate=\"onRequest\" xlink:href=\"psysml:ef6c4171-27e8-4274-afa9-e3f35902caaf\" xlink:show=\"new\" xlink:title=\"psysml:ef6c4171-27e8-4274-afa9-e3f35902caaf\" xlink:type=\"simple\"><path d=\"M100.08,191.44 C96.53,194.79 93.39,198.55 91,202.72 C87.52,208.8 85.92,216 85.36,223.02 \" fill=\"none\" id=\"E8-&gt;E6\" style=\"stroke: #A80036; stroke-width: 1.0; stroke-dasharray: 7.0,7.0;\"/><polygon fill=\"#A80036\" points=\"85.14,231.11,88.3531,223.1932,82.3553,223.0325,85.14,231.11\" style=\"stroke: #A80036; stroke-width: 1.0;\"/><text fill=\"#000000\" font-family=\"sans-serif\" font-size=\"13\" lengthAdjust=\"spacingAndGlyphs\" textLength=\"64\" x=\"92\" y=\"215.7869\">«depend»</text></a><!--MD5=[bfa3c8b0d15052fdf50ae9310b491027]\n",
       "link E8 to E7--><a href=\"psysml:ef6c4171-27e8-4274-afa9-e3f35902caaf\" target=\"_top\" title=\"psysml:ef6c4171-27e8-4274-afa9-e3f35902caaf\" xlink:actuate=\"onRequest\" xlink:href=\"psysml:ef6c4171-27e8-4274-afa9-e3f35902caaf\" xlink:show=\"new\" xlink:title=\"psysml:ef6c4171-27e8-4274-afa9-e3f35902caaf\" xlink:type=\"simple\"><path d=\"M161.76,191.29 C171.48,201.63 183.17,214.06 193.52,225.06 \" fill=\"none\" id=\"E8-&gt;E7\" style=\"stroke: #A80036; stroke-width: 1.0; stroke-dasharray: 7.0,7.0;\"/><polygon fill=\"#A80036\" points=\"199.11,231.01,195.8117,223.1283,191.4425,227.2405,199.11,231.01\" style=\"stroke: #A80036; stroke-width: 1.0;\"/><text fill=\"#000000\" font-family=\"sans-serif\" font-size=\"13\" lengthAdjust=\"spacingAndGlyphs\" textLength=\"64\" x=\"188\" y=\"215.7869\">«depend»</text></a><!--MD5=[65528e4fde92451d1027c6e43f124d22]\n",
       "@startuml\r\n",
       "skinparam ranksep 10\r\n",
       "skinparam rectangle {\r\n",
       " backgroundColor<<block>> LightGreen\r\n",
       "}\r\n",
       " \r\n",
       "package \"DependencyTest\" as E1  [[psysml:fa3e9fbf-effa-4977-80ec-fe6e8fa57f4d ]]  {\r\n",
       "package \"System\" as E2  [[psysml:10c1ae57-66e9-4db6-bc3d-37ac2db9914a ]]  {\r\n",
       "package \"Application Layer\" as E3  [[psysml:f00bbef0-e3df-4574-9254-08b97b82cdf9 ]]  {\r\n",
       "}\r\n",
       "package \"Service Layer\" as E4  [[psysml:ca2e3746-a8d0-4883-91df-79f98ad99c0c ]]  {\r\n",
       "}\r\n",
       "package \"Data Layer\" as E5  [[psysml:31612912-620e-4f5b-bfbe-0087437cb05d ]]  {\r\n",
       "}\r\n",
       "}\r\n",
       "comp usage \"x \" as E6 << <<(U,orange) attribute>> [[psysml:af126b68-a763-4b5e-ae0f-74aa81d9e434 ]] {\r\n",
       "}\r\n",
       "comp usage \"y \" as E7 << <<(U,orange) attribute>> [[psysml:a5153252-c77e-42e1-a87d-8eb1cf591399 ]] {\r\n",
       "}\r\n",
       "comp usage \"z \" as E8 << <<(U,orange) attribute>> [[psysml:4fcd16ab-62c7-48db-8542-d458ee8b30b8 ]] {\r\n",
       "}\r\n",
       "}\r\n",
       "E1 ..> E2 [[psysml:feb54464-815e-4611-ad28-7085b6ccbd88 ]] : <<import>>*\r\n",
       "E3 ..>> E4 [[psysml:46e8547b-a8f1-46c9-aa96-df26a1cf1e34 ]] : <<depend>>\r\n",
       "E4 ..>> E5 [[psysml:4580f085-b870-4b86-bde9-338fd4cc0a1d ]] : <<depend>>\r\n",
       "E8 ..>> E6 [[psysml:ef6c4171-27e8-4274-afa9-e3f35902caaf ]] : <<depend>>\r\n",
       "E8 ..>> E7 [[psysml:ef6c4171-27e8-4274-afa9-e3f35902caaf ]] : <<depend>>\r\n",
       "@enduml\r\n",
       "\n",
       "PlantUML version 1.2020.13(Sat Jun 13 12:26:38 UTC 2020)\n",
       "(EPL source distribution)\n",
       "Java Runtime: OpenJDK Runtime Environment\n",
       "JVM: OpenJDK 64-Bit Server VM\n",
       "Default Encoding: UTF-8\n",
       "Language: en\n",
       "Country: null\n",
       "--></g></svg>"
      ]
     },
     "execution_count": 33,
     "metadata": {},
     "output_type": "execute_result"
    }
   ],
   "source": [
    "%viz --style=\"PLANTUML\" --view=\"Interconnection\" \"DependencyTest\""
   ]
  },
  {
   "cell_type": "code",
   "execution_count": 34,
   "id": "00cf0f3f",
   "metadata": {
    "execution": {
     "iopub.execute_input": "2022-04-22T09:48:08.228371Z",
     "iopub.status.busy": "2022-04-22T09:48:08.227963Z",
     "iopub.status.idle": "2022-04-22T09:48:08.232225Z",
     "shell.execute_reply": "2022-04-22T09:48:08.232587Z"
    }
   },
   "outputs": [
    {
     "data": {
      "image/svg+xml": [
       "<?xml version=\"1.0\" encoding=\"UTF-8\" standalone=\"no\"?><svg xmlns=\"http://www.w3.org/2000/svg\" xmlns:xlink=\"http://www.w3.org/1999/xlink\" contentScriptType=\"application/ecmascript\" contentStyleType=\"text/css\" height=\"12px\" preserveAspectRatio=\"none\" style=\"width:12px;height:12px;\" version=\"1.1\" viewBox=\"0 0 12 12\" width=\"12px\" zoomAndPan=\"magnify\"><defs/><g><!--MD5=[6a4cb978cab31700e1ce5529f947a75d]\n",
       "@startuml\r\n",
       "skinparam ranksep 8\r\n",
       " \r\n",
       "@enduml\r\n",
       "\n",
       "PlantUML version 1.2020.13(Sat Jun 13 12:26:38 UTC 2020)\n",
       "(EPL source distribution)\n",
       "Java Runtime: OpenJDK Runtime Environment\n",
       "JVM: OpenJDK 64-Bit Server VM\n",
       "Default Encoding: UTF-8\n",
       "Language: en\n",
       "Country: null\n",
       "--></g></svg>"
      ]
     },
     "execution_count": 34,
     "metadata": {},
     "output_type": "execute_result"
    }
   ],
   "source": [
    "%viz --style=\"PLANTUML\" --view=\"Action\" \"DependencyTest\""
   ]
  },
  {
   "cell_type": "code",
   "execution_count": 35,
   "id": "0e3d6163",
   "metadata": {
    "execution": {
     "iopub.execute_input": "2022-04-22T09:48:08.282628Z",
     "iopub.status.busy": "2022-04-22T09:48:08.282175Z",
     "iopub.status.idle": "2022-04-22T09:48:08.286908Z",
     "shell.execute_reply": "2022-04-22T09:48:08.287221Z"
    }
   },
   "outputs": [
    {
     "data": {
      "image/svg+xml": [
       "<?xml version=\"1.0\" encoding=\"UTF-8\" standalone=\"no\"?><svg xmlns=\"http://www.w3.org/2000/svg\" xmlns:xlink=\"http://www.w3.org/1999/xlink\" contentScriptType=\"application/ecmascript\" contentStyleType=\"text/css\" height=\"12px\" preserveAspectRatio=\"none\" style=\"width:12px;height:12px;\" version=\"1.1\" viewBox=\"0 0 12 12\" width=\"12px\" zoomAndPan=\"magnify\"><defs/><g><!--MD5=[ca4faa0b02def275ea33c14ea7a1a98d]\n",
       "@startuml\r\n",
       "skinparam roundcorner 20\r\n",
       "skinparam BoxPadding 20\r\n",
       "skinparam SequenceBoxBackgroundColor #white\r\n",
       "skinparam style strictuml\r\n",
       "skinparam maxMessageSize 100\r\n",
       " \r\n",
       "@enduml\r\n",
       "\n",
       "PlantUML version 1.2020.13(Sat Jun 13 12:26:38 UTC 2020)\n",
       "(EPL source distribution)\n",
       "Java Runtime: OpenJDK Runtime Environment\n",
       "JVM: OpenJDK 64-Bit Server VM\n",
       "Default Encoding: UTF-8\n",
       "Language: en\n",
       "Country: null\n",
       "--></g></svg>"
      ]
     },
     "execution_count": 35,
     "metadata": {},
     "output_type": "execute_result"
    }
   ],
   "source": [
    "%viz --style=\"PLANTUML\" --view=\"Sequence\" \"DependencyTest\""
   ]
  },
  {
   "cell_type": "code",
   "execution_count": 36,
   "id": "216fd80d",
   "metadata": {
    "execution": {
     "iopub.execute_input": "2022-04-22T09:48:08.337106Z",
     "iopub.status.busy": "2022-04-22T09:48:08.336643Z",
     "iopub.status.idle": "2022-04-22T09:48:08.371698Z",
     "shell.execute_reply": "2022-04-22T09:48:08.370368Z"
    }
   },
   "outputs": [
    {
     "data": {
      "image/svg+xml": [
       "<?xml version=\"1.0\" encoding=\"UTF-8\" standalone=\"no\"?><svg xmlns=\"http://www.w3.org/2000/svg\" xmlns:xlink=\"http://www.w3.org/1999/xlink\" contentScriptType=\"application/ecmascript\" contentStyleType=\"text/css\" height=\"552px\" preserveAspectRatio=\"none\" style=\"width:557px;height:552px;\" version=\"1.1\" viewBox=\"0 0 557 552\" width=\"557px\" zoomAndPan=\"magnify\"><defs><filter height=\"300%\" id=\"fo7omvjumveve\" width=\"300%\" x=\"-1\" y=\"-1\"><feGaussianBlur result=\"blurOut\" stdDeviation=\"2.0\"/><feColorMatrix in=\"blurOut\" result=\"blurOut2\" type=\"matrix\" values=\"0 0 0 0 0 0 0 0 0 0 0 0 0 0 0 0 0 0 .4 0\"/><feOffset dx=\"4.0\" dy=\"4.0\" in=\"blurOut2\" result=\"blurOut3\"/><feBlend in=\"SourceGraphic\" in2=\"blurOut3\" mode=\"normal\"/></filter></defs><g><!--MD5=[fbc87193dbaf4d95561dea2c320d4a47]\n",
       "cluster E1--><a href=\"psysml:fa3e9fbf-effa-4977-80ec-fe6e8fa57f4d\" target=\"_top\" title=\"psysml:fa3e9fbf-effa-4977-80ec-fe6e8fa57f4d\" xlink:actuate=\"onRequest\" xlink:href=\"psysml:fa3e9fbf-effa-4977-80ec-fe6e8fa57f4d\" xlink:show=\"new\" xlink:title=\"psysml:fa3e9fbf-effa-4977-80ec-fe6e8fa57f4d\" xlink:type=\"simple\"><polygon fill=\"#FFFFFF\" filter=\"url(#fo7omvjumveve)\" points=\"16,6,142,6,149,28.2969,535,28.2969,535,540.72,16,540.72,16,6\" style=\"stroke: #000000; stroke-width: 1.5;\"/><line style=\"stroke: #000000; stroke-width: 1.5;\" x1=\"16\" x2=\"149\" y1=\"28.2969\" y2=\"28.2969\"/><text fill=\"#000000\" font-family=\"sans-serif\" font-size=\"14\" font-weight=\"bold\" lengthAdjust=\"spacingAndGlyphs\" textLength=\"120\" x=\"20\" y=\"20.9951\">DependencyTest</text></a><!--MD5=[e4f7fae6ed58524ba242bb0b0d3be6b7]\n",
       "cluster E2--><a href=\"psysml:10c1ae57-66e9-4db6-bc3d-37ac2db9914a\" target=\"_top\" title=\"psysml:10c1ae57-66e9-4db6-bc3d-37ac2db9914a\" xlink:actuate=\"onRequest\" xlink:href=\"psysml:10c1ae57-66e9-4db6-bc3d-37ac2db9914a\" xlink:show=\"new\" xlink:title=\"psysml:10c1ae57-66e9-4db6-bc3d-37ac2db9914a\" xlink:type=\"simple\"><polygon fill=\"#FFFFFF\" filter=\"url(#fo7omvjumveve)\" points=\"292,120.72,349,120.72,356,143.0169,495,143.0169,495,500.72,292,500.72,292,120.72\" style=\"stroke: #000000; stroke-width: 1.5;\"/><line style=\"stroke: #000000; stroke-width: 1.5;\" x1=\"292\" x2=\"356\" y1=\"143.0169\" y2=\"143.0169\"/><text fill=\"#000000\" font-family=\"sans-serif\" font-size=\"14\" font-weight=\"bold\" lengthAdjust=\"spacingAndGlyphs\" textLength=\"51\" x=\"296\" y=\"135.7151\">System</text></a><!--MD5=[60a26617385b1d2d0262a64233df1f8d]\n",
       "class E6--><a href=\"psysml:af126b68-a763-4b5e-ae0f-74aa81d9e434\" target=\"_top\" title=\"psysml:af126b68-a763-4b5e-ae0f-74aa81d9e434\" xlink:actuate=\"onRequest\" xlink:href=\"psysml:af126b68-a763-4b5e-ae0f-74aa81d9e434\" xlink:show=\"new\" xlink:title=\"psysml:af126b68-a763-4b5e-ae0f-74aa81d9e434\" xlink:type=\"simple\"><rect fill=\"#FEFECE\" filter=\"url(#fo7omvjumveve)\" height=\"45.9375\" id=\"E6\" rx=\"10\" ry=\"10\" style=\"stroke: #A80036; stroke-width: 1.5;\" width=\"97\" x=\"39.5\" y=\"297.22\"/><ellipse cx=\"54.5\" cy=\"316.1888\" fill=\"#FFA500\" rx=\"11\" ry=\"11\" style=\"stroke: #A80036; stroke-width: 1.0;\"/><path d=\"M54.25,321.6575 Q52.5,321.6575 51.5469,320.6263 Q50.6094,319.5794 50.6094,317.7356 L50.6094,310.845 L52.6719,310.845 L52.6719,311.0013 Q52.5781,311.095 52.5469,311.2356 Q52.5313,311.3606 52.5313,311.6263 L52.5313,317.7513 Q52.5313,318.845 52.9063,319.47 Q53.2813,320.095 54.2656,320.095 Q55.25,320.095 55.6406,319.47 Q56.0313,318.845 56.0313,317.7044 L56.0313,310.845 L57.9063,310.845 L57.9063,317.6888 Q57.9063,319.72 56.875,320.6888 Q55.8594,321.6575 54.25,321.6575 Z \"/><text fill=\"#000000\" font-family=\"sans-serif\" font-size=\"12\" font-style=\"italic\" lengthAdjust=\"spacingAndGlyphs\" textLength=\"69\" x=\"66.5\" y=\"313.3587\">«attribute»</text><text fill=\"#000000\" font-family=\"sans-serif\" font-size=\"12\" lengthAdjust=\"spacingAndGlyphs\" textLength=\"6\" x=\"96\" y=\"327.3274\">x</text><line style=\"stroke: #A80036; stroke-width: 1.5;\" x1=\"40.5\" x2=\"135.5\" y1=\"335.1575\" y2=\"335.1575\"/></a><!--MD5=[2156ba9850f5573cc1fc38a6a4b2f02b]\n",
       "class E7--><a href=\"psysml:a5153252-c77e-42e1-a87d-8eb1cf591399\" target=\"_top\" title=\"psysml:a5153252-c77e-42e1-a87d-8eb1cf591399\" xlink:actuate=\"onRequest\" xlink:href=\"psysml:a5153252-c77e-42e1-a87d-8eb1cf591399\" xlink:show=\"new\" xlink:title=\"psysml:a5153252-c77e-42e1-a87d-8eb1cf591399\" xlink:type=\"simple\"><rect fill=\"#FEFECE\" filter=\"url(#fo7omvjumveve)\" height=\"45.9375\" id=\"E7\" rx=\"10\" ry=\"10\" style=\"stroke: #A80036; stroke-width: 1.5;\" width=\"97\" x=\"171.5\" y=\"297.22\"/><ellipse cx=\"186.5\" cy=\"316.1888\" fill=\"#FFA500\" rx=\"11\" ry=\"11\" style=\"stroke: #A80036; stroke-width: 1.0;\"/><path d=\"M186.25,321.6575 Q184.5,321.6575 183.5469,320.6263 Q182.6094,319.5794 182.6094,317.7356 L182.6094,310.845 L184.6719,310.845 L184.6719,311.0013 Q184.5781,311.095 184.5469,311.2356 Q184.5313,311.3606 184.5313,311.6263 L184.5313,317.7513 Q184.5313,318.845 184.9063,319.47 Q185.2813,320.095 186.2656,320.095 Q187.25,320.095 187.6406,319.47 Q188.0313,318.845 188.0313,317.7044 L188.0313,310.845 L189.9063,310.845 L189.9063,317.6888 Q189.9063,319.72 188.875,320.6888 Q187.8594,321.6575 186.25,321.6575 Z \"/><text fill=\"#000000\" font-family=\"sans-serif\" font-size=\"12\" font-style=\"italic\" lengthAdjust=\"spacingAndGlyphs\" textLength=\"69\" x=\"198.5\" y=\"313.3587\">«attribute»</text><text fill=\"#000000\" font-family=\"sans-serif\" font-size=\"12\" lengthAdjust=\"spacingAndGlyphs\" textLength=\"6\" x=\"228\" y=\"327.3274\">y</text><line style=\"stroke: #A80036; stroke-width: 1.5;\" x1=\"172.5\" x2=\"267.5\" y1=\"335.1575\" y2=\"335.1575\"/></a><!--MD5=[b9389687b975829384b498ac4b7476b2]\n",
       "class E8--><a href=\"psysml:4fcd16ab-62c7-48db-8542-d458ee8b30b8\" target=\"_top\" title=\"psysml:4fcd16ab-62c7-48db-8542-d458ee8b30b8\" xlink:actuate=\"onRequest\" xlink:href=\"psysml:4fcd16ab-62c7-48db-8542-d458ee8b30b8\" xlink:show=\"new\" xlink:title=\"psysml:4fcd16ab-62c7-48db-8542-d458ee8b30b8\" xlink:type=\"simple\"><rect fill=\"#FEFECE\" filter=\"url(#fo7omvjumveve)\" height=\"45.9375\" id=\"E8\" rx=\"10\" ry=\"10\" style=\"stroke: #A80036; stroke-width: 1.5;\" width=\"97\" x=\"92.5\" y=\"167.22\"/><ellipse cx=\"107.5\" cy=\"186.1888\" fill=\"#FFA500\" rx=\"11\" ry=\"11\" style=\"stroke: #A80036; stroke-width: 1.0;\"/><path d=\"M107.25,191.6575 Q105.5,191.6575 104.5469,190.6263 Q103.6094,189.5794 103.6094,187.7356 L103.6094,180.845 L105.6719,180.845 L105.6719,181.0013 Q105.5781,181.095 105.5469,181.2356 Q105.5313,181.3606 105.5313,181.6263 L105.5313,187.7513 Q105.5313,188.845 105.9063,189.47 Q106.2813,190.095 107.2656,190.095 Q108.25,190.095 108.6406,189.47 Q109.0313,188.845 109.0313,187.7044 L109.0313,180.845 L110.9063,180.845 L110.9063,187.6888 Q110.9063,189.72 109.875,190.6888 Q108.8594,191.6575 107.25,191.6575 Z \"/><text fill=\"#000000\" font-family=\"sans-serif\" font-size=\"12\" font-style=\"italic\" lengthAdjust=\"spacingAndGlyphs\" textLength=\"69\" x=\"119.5\" y=\"183.3587\">«attribute»</text><text fill=\"#000000\" font-family=\"sans-serif\" font-size=\"12\" lengthAdjust=\"spacingAndGlyphs\" textLength=\"5\" x=\"149.5\" y=\"197.3274\">z</text><line style=\"stroke: #A80036; stroke-width: 1.5;\" x1=\"93.5\" x2=\"188.5\" y1=\"205.1575\" y2=\"205.1575\"/></a><a href=\"psysml:f00bbef0-e3df-4574-9254-08b97b82cdf9\" target=\"_top\" title=\"psysml:f00bbef0-e3df-4574-9254-08b97b82cdf9\" xlink:actuate=\"onRequest\" xlink:href=\"psysml:f00bbef0-e3df-4574-9254-08b97b82cdf9\" xlink:show=\"new\" xlink:title=\"psysml:f00bbef0-e3df-4574-9254-08b97b82cdf9\" xlink:type=\"simple\"><polygon fill=\"#FFFFFF\" filter=\"url(#fo7omvjumveve)\" points=\"335.5,163.72,456.5,163.72,463.5,186.0169,470.5,186.0169,470.5,216.3138,335.5,216.3138,335.5,163.72\" style=\"stroke: #000000; stroke-width: 1.5;\"/><line style=\"stroke: #000000; stroke-width: 1.5;\" x1=\"335.5\" x2=\"463.5\" y1=\"186.0169\" y2=\"186.0169\"/><text fill=\"#000000\" font-family=\"sans-serif\" font-size=\"14\" font-weight=\"bold\" lengthAdjust=\"spacingAndGlyphs\" textLength=\"115\" x=\"339.5\" y=\"178.7151\">Application Layer</text></a><a href=\"psysml:ca2e3746-a8d0-4883-91df-79f98ad99c0c\" target=\"_top\" title=\"psysml:ca2e3746-a8d0-4883-91df-79f98ad99c0c\" xlink:actuate=\"onRequest\" xlink:href=\"psysml:ca2e3746-a8d0-4883-91df-79f98ad99c0c\" xlink:show=\"new\" xlink:title=\"psysml:ca2e3746-a8d0-4883-91df-79f98ad99c0c\" xlink:type=\"simple\"><polygon fill=\"#FFFFFF\" filter=\"url(#fo7omvjumveve)\" points=\"348,293.72,444,293.72,451,316.0169,458,316.0169,458,346.3138,348,346.3138,348,293.72\" style=\"stroke: #000000; stroke-width: 1.5;\"/><line style=\"stroke: #000000; stroke-width: 1.5;\" x1=\"348\" x2=\"451\" y1=\"316.0169\" y2=\"316.0169\"/><text fill=\"#000000\" font-family=\"sans-serif\" font-size=\"14\" font-weight=\"bold\" lengthAdjust=\"spacingAndGlyphs\" textLength=\"90\" x=\"352\" y=\"308.7151\">Service Layer</text></a><a href=\"psysml:31612912-620e-4f5b-bfbe-0087437cb05d\" target=\"_top\" title=\"psysml:31612912-620e-4f5b-bfbe-0087437cb05d\" xlink:actuate=\"onRequest\" xlink:href=\"psysml:31612912-620e-4f5b-bfbe-0087437cb05d\" xlink:show=\"new\" xlink:title=\"psysml:31612912-620e-4f5b-bfbe-0087437cb05d\" xlink:type=\"simple\"><polygon fill=\"#FFFFFF\" filter=\"url(#fo7omvjumveve)\" points=\"357,423.72,435,423.72,442,446.0169,449,446.0169,449,476.3138,357,476.3138,357,423.72\" style=\"stroke: #000000; stroke-width: 1.5;\"/><line style=\"stroke: #000000; stroke-width: 1.5;\" x1=\"357\" x2=\"442\" y1=\"446.0169\" y2=\"446.0169\"/><text fill=\"#000000\" font-family=\"sans-serif\" font-size=\"14\" font-weight=\"bold\" lengthAdjust=\"spacingAndGlyphs\" textLength=\"72\" x=\"361\" y=\"438.7151\">Data Layer</text></a><!--MD5=[1f1cd8e6dd4c1b2ca2aaccc9b9bcea6e]\n",
       "link E1 to E2--><a href=\"psysml:feb54464-815e-4611-ad28-7085b6ccbd88\" target=\"_top\" title=\"psysml:feb54464-815e-4611-ad28-7085b6ccbd88\" xlink:actuate=\"onRequest\" xlink:href=\"psysml:feb54464-815e-4611-ad28-7085b6ccbd88\" xlink:show=\"new\" xlink:title=\"psysml:feb54464-815e-4611-ad28-7085b6ccbd88\" xlink:type=\"simple\"><path d=\"M300,33.83 C300,36.15 300,73.83 300,111.5 C300,113.8544 300,116.2087 300,118.5544 C300,119.1408 300,119.7267 300,120.3119 \" fill=\"none\" id=\"E1-&gt;E2\" style=\"stroke: #A80036; stroke-width: 1.0; stroke-dasharray: 7.0,7.0;\"/><polygon fill=\"#A80036\" points=\"300,120.3119,304,111.3119,300,115.3119,296,111.3119,300,120.3119\" style=\"stroke: #A80036; stroke-width: 1.0;\"/><text fill=\"#000000\" font-family=\"sans-serif\" font-size=\"13\" lengthAdjust=\"spacingAndGlyphs\" textLength=\"65\" x=\"301\" y=\"76.7869\">«import»*</text></a><!--MD5=[af87c684e3b0d8be13c1a698a818ef1e]\n",
       "link E3 to E4--><a href=\"psysml:46e8547b-a8f1-46c9-aa96-df26a1cf1e34\" target=\"_top\" title=\"psysml:46e8547b-a8f1-46c9-aa96-df26a1cf1e34\" xlink:actuate=\"onRequest\" xlink:href=\"psysml:46e8547b-a8f1-46c9-aa96-df26a1cf1e34\" xlink:show=\"new\" xlink:title=\"psysml:46e8547b-a8f1-46c9-aa96-df26a1cf1e34\" xlink:type=\"simple\"><path d=\"M403,216.82 C403,236.52 403,263.94 403,285.45 \" fill=\"none\" id=\"E3-&gt;E4\" style=\"stroke: #A80036; stroke-width: 1.0; stroke-dasharray: 7.0,7.0;\"/><polygon fill=\"#A80036\" points=\"403,293.67,406,285.67,400,285.67,403,293.67\" style=\"stroke: #A80036; stroke-width: 1.0;\"/><text fill=\"#000000\" font-family=\"sans-serif\" font-size=\"13\" lengthAdjust=\"spacingAndGlyphs\" textLength=\"64\" x=\"404\" y=\"259.7869\">«depend»</text></a><!--MD5=[1b7591eae5389033d8d09a9d6721a717]\n",
       "link E4 to E5--><a href=\"psysml:4580f085-b870-4b86-bde9-338fd4cc0a1d\" target=\"_top\" title=\"psysml:4580f085-b870-4b86-bde9-338fd4cc0a1d\" xlink:actuate=\"onRequest\" xlink:href=\"psysml:4580f085-b870-4b86-bde9-338fd4cc0a1d\" xlink:show=\"new\" xlink:title=\"psysml:4580f085-b870-4b86-bde9-338fd4cc0a1d\" xlink:type=\"simple\"><path d=\"M403,346.82 C403,366.52 403,393.94 403,415.45 \" fill=\"none\" id=\"E4-&gt;E5\" style=\"stroke: #A80036; stroke-width: 1.0; stroke-dasharray: 7.0,7.0;\"/><polygon fill=\"#A80036\" points=\"403,423.67,406,415.67,400,415.67,403,423.67\" style=\"stroke: #A80036; stroke-width: 1.0;\"/><text fill=\"#000000\" font-family=\"sans-serif\" font-size=\"13\" lengthAdjust=\"spacingAndGlyphs\" textLength=\"64\" x=\"404\" y=\"389.7869\">«depend»</text></a><!--MD5=[c5e8897d989ce984f93528998a7150fe]\n",
       "link E8 to E6--><a href=\"psysml:ef6c4171-27e8-4274-afa9-e3f35902caaf\" target=\"_top\" title=\"psysml:ef6c4171-27e8-4274-afa9-e3f35902caaf\" xlink:actuate=\"onRequest\" xlink:href=\"psysml:ef6c4171-27e8-4274-afa9-e3f35902caaf\" xlink:show=\"new\" xlink:title=\"psysml:ef6c4171-27e8-4274-afa9-e3f35902caaf\" xlink:type=\"simple\"><path d=\"M114.44,213.48 C105.3,222.73 96.09,234.23 91,246.72 C85.6,259.95 84.4,275.7 84.73,289.13 \" fill=\"none\" id=\"E8-&gt;E6\" style=\"stroke: #A80036; stroke-width: 1.0; stroke-dasharray: 7.0,7.0;\"/><polygon fill=\"#A80036\" points=\"85.12,297.15,87.7306,289.0146,81.7375,289.304,85.12,297.15\" style=\"stroke: #A80036; stroke-width: 1.0;\"/><text fill=\"#000000\" font-family=\"sans-serif\" font-size=\"13\" lengthAdjust=\"spacingAndGlyphs\" textLength=\"64\" x=\"92\" y=\"259.7869\">«depend»</text></a><!--MD5=[bfa3c8b0d15052fdf50ae9310b491027]\n",
       "link E8 to E7--><a href=\"psysml:ef6c4171-27e8-4274-afa9-e3f35902caaf\" target=\"_top\" title=\"psysml:ef6c4171-27e8-4274-afa9-e3f35902caaf\" xlink:actuate=\"onRequest\" xlink:href=\"psysml:ef6c4171-27e8-4274-afa9-e3f35902caaf\" xlink:show=\"new\" xlink:title=\"psysml:ef6c4171-27e8-4274-afa9-e3f35902caaf\" xlink:type=\"simple\"><path d=\"M154.58,213.22 C167.69,234.47 187.63,266.77 202.05,290.13 \" fill=\"none\" id=\"E8-&gt;E7\" style=\"stroke: #A80036; stroke-width: 1.0; stroke-dasharray: 7.0,7.0;\"/><polygon fill=\"#A80036\" points=\"206.33,297.07,204.6785,288.6871,199.5737,291.8401,206.33,297.07\" style=\"stroke: #A80036; stroke-width: 1.0;\"/><text fill=\"#000000\" font-family=\"sans-serif\" font-size=\"13\" lengthAdjust=\"spacingAndGlyphs\" textLength=\"64\" x=\"186\" y=\"259.7869\">«depend»</text></a><!--MD5=[aaa6a5778248237a6a41a888a037e99b]\n",
       "@startuml\r\n",
       " \r\n",
       "package \"DependencyTest\" as E1  [[psysml:fa3e9fbf-effa-4977-80ec-fe6e8fa57f4d ]]  {\r\n",
       "package \"System\" as E2  [[psysml:10c1ae57-66e9-4db6-bc3d-37ac2db9914a ]]  {\r\n",
       "package \"Application Layer\" as E3  [[psysml:f00bbef0-e3df-4574-9254-08b97b82cdf9 ]]  {\r\n",
       "}\r\n",
       "package \"Service Layer\" as E4  [[psysml:ca2e3746-a8d0-4883-91df-79f98ad99c0c ]]  {\r\n",
       "}\r\n",
       "package \"Data Layer\" as E5  [[psysml:31612912-620e-4f5b-bfbe-0087437cb05d ]]  {\r\n",
       "}\r\n",
       "}\r\n",
       "comp usage \"x \" as E6 << <<(U,orange) attribute>> [[psysml:af126b68-a763-4b5e-ae0f-74aa81d9e434 ]] {\r\n",
       "}\r\n",
       "comp usage \"y \" as E7 << <<(U,orange) attribute>> [[psysml:a5153252-c77e-42e1-a87d-8eb1cf591399 ]] {\r\n",
       "}\r\n",
       "comp usage \"z \" as E8 << <<(U,orange) attribute>> [[psysml:4fcd16ab-62c7-48db-8542-d458ee8b30b8 ]] {\r\n",
       "}\r\n",
       "}\r\n",
       "E1 ..> E2 [[psysml:feb54464-815e-4611-ad28-7085b6ccbd88 ]] : <<import>>*\r\n",
       "E3 ..>> E4 [[psysml:46e8547b-a8f1-46c9-aa96-df26a1cf1e34 ]] : <<depend>>\r\n",
       "E4 ..>> E5 [[psysml:4580f085-b870-4b86-bde9-338fd4cc0a1d ]] : <<depend>>\r\n",
       "E8 ..>> E6 [[psysml:ef6c4171-27e8-4274-afa9-e3f35902caaf ]] : <<depend>>\r\n",
       "E8 ..>> E7 [[psysml:ef6c4171-27e8-4274-afa9-e3f35902caaf ]] : <<depend>>\r\n",
       "@enduml\r\n",
       "\n",
       "PlantUML version 1.2020.13(Sat Jun 13 12:26:38 UTC 2020)\n",
       "(EPL source distribution)\n",
       "Java Runtime: OpenJDK Runtime Environment\n",
       "JVM: OpenJDK 64-Bit Server VM\n",
       "Default Encoding: UTF-8\n",
       "Language: en\n",
       "Country: null\n",
       "--></g></svg>"
      ]
     },
     "execution_count": 36,
     "metadata": {},
     "output_type": "execute_result"
    }
   ],
   "source": [
    "%viz --style=\"PLANTUML\" --view=\"MIXED\" \"DependencyTest\""
   ]
  },
  {
   "cell_type": "code",
   "execution_count": 37,
   "id": "bf8e0479",
   "metadata": {
    "execution": {
     "iopub.execute_input": "2022-04-22T09:48:08.421467Z",
     "iopub.status.busy": "2022-04-22T09:48:08.421061Z",
     "iopub.status.idle": "2022-04-22T09:48:08.456707Z",
     "shell.execute_reply": "2022-04-22T09:48:08.455391Z"
    }
   },
   "outputs": [
    {
     "data": {
      "image/svg+xml": [
       "<?xml version=\"1.0\" encoding=\"UTF-8\" standalone=\"no\"?><svg xmlns=\"http://www.w3.org/2000/svg\" xmlns:xlink=\"http://www.w3.org/1999/xlink\" contentScriptType=\"application/ecmascript\" contentStyleType=\"text/css\" height=\"552px\" preserveAspectRatio=\"none\" style=\"width:536px;height:552px;\" version=\"1.1\" viewBox=\"0 0 536 552\" width=\"536px\" zoomAndPan=\"magnify\"><defs/><g><!--MD5=[fbc87193dbaf4d95561dea2c320d4a47]\n",
       "cluster E1--><a href=\"psysml:fa3e9fbf-effa-4977-80ec-fe6e8fa57f4d\" target=\"_top\" title=\"psysml:fa3e9fbf-effa-4977-80ec-fe6e8fa57f4d\" xlink:actuate=\"onRequest\" xlink:href=\"psysml:fa3e9fbf-effa-4977-80ec-fe6e8fa57f4d\" xlink:show=\"new\" xlink:title=\"psysml:fa3e9fbf-effa-4977-80ec-fe6e8fa57f4d\" xlink:type=\"simple\"><polygon fill=\"#FFFFFF\" points=\"16,6,142,6,149,28.2969,514,28.2969,514,540.72,16,540.72,16,6\" style=\"stroke: #000000; stroke-width: 1.5;\"/><line style=\"stroke: #000000; stroke-width: 1.5;\" x1=\"16\" x2=\"149\" y1=\"28.2969\" y2=\"28.2969\"/><text fill=\"#000000\" font-family=\"sans-serif\" font-size=\"14\" font-weight=\"bold\" lengthAdjust=\"spacingAndGlyphs\" textLength=\"120\" x=\"20\" y=\"20.9951\">DependencyTest</text></a><!--MD5=[e4f7fae6ed58524ba242bb0b0d3be6b7]\n",
       "cluster E2--><a href=\"psysml:10c1ae57-66e9-4db6-bc3d-37ac2db9914a\" target=\"_top\" title=\"psysml:10c1ae57-66e9-4db6-bc3d-37ac2db9914a\" xlink:actuate=\"onRequest\" xlink:href=\"psysml:10c1ae57-66e9-4db6-bc3d-37ac2db9914a\" xlink:show=\"new\" xlink:title=\"psysml:10c1ae57-66e9-4db6-bc3d-37ac2db9914a\" xlink:type=\"simple\"><polygon fill=\"#FFFFFF\" points=\"271,120.72,328,120.72,335,143.0169,474,143.0169,474,500.72,271,500.72,271,120.72\" style=\"stroke: #000000; stroke-width: 1.5;\"/><line style=\"stroke: #000000; stroke-width: 1.5;\" x1=\"271\" x2=\"335\" y1=\"143.0169\" y2=\"143.0169\"/><text fill=\"#000000\" font-family=\"sans-serif\" font-size=\"14\" font-weight=\"bold\" lengthAdjust=\"spacingAndGlyphs\" textLength=\"51\" x=\"275\" y=\"135.7151\">System</text></a><!--MD5=[60a26617385b1d2d0262a64233df1f8d]\n",
       "class E6--><a href=\"psysml:af126b68-a763-4b5e-ae0f-74aa81d9e434\" target=\"_top\" title=\"psysml:af126b68-a763-4b5e-ae0f-74aa81d9e434\" xlink:actuate=\"onRequest\" xlink:href=\"psysml:af126b68-a763-4b5e-ae0f-74aa81d9e434\" xlink:show=\"new\" xlink:title=\"psysml:af126b68-a763-4b5e-ae0f-74aa81d9e434\" xlink:type=\"simple\"><rect fill=\"#FFFFFF\" height=\"45.9375\" id=\"E6\" rx=\"10\" ry=\"10\" style=\"stroke: #383838; stroke-width: 1.5;\" width=\"71\" x=\"40.5\" y=\"297.22\"/><text fill=\"#000000\" font-family=\"sans-serif\" font-size=\"12\" font-style=\"italic\" lengthAdjust=\"spacingAndGlyphs\" textLength=\"69\" x=\"41.5\" y=\"313.3587\">«attribute»</text><text fill=\"#000000\" font-family=\"sans-serif\" font-size=\"12\" lengthAdjust=\"spacingAndGlyphs\" textLength=\"6\" x=\"71\" y=\"327.3274\">x</text><line style=\"stroke: #383838; stroke-width: 1.5;\" x1=\"41.5\" x2=\"110.5\" y1=\"335.1575\" y2=\"335.1575\"/></a><!--MD5=[2156ba9850f5573cc1fc38a6a4b2f02b]\n",
       "class E7--><a href=\"psysml:a5153252-c77e-42e1-a87d-8eb1cf591399\" target=\"_top\" title=\"psysml:a5153252-c77e-42e1-a87d-8eb1cf591399\" xlink:actuate=\"onRequest\" xlink:href=\"psysml:a5153252-c77e-42e1-a87d-8eb1cf591399\" xlink:show=\"new\" xlink:title=\"psysml:a5153252-c77e-42e1-a87d-8eb1cf591399\" xlink:type=\"simple\"><rect fill=\"#FFFFFF\" height=\"45.9375\" id=\"E7\" rx=\"10\" ry=\"10\" style=\"stroke: #383838; stroke-width: 1.5;\" width=\"71\" x=\"146.5\" y=\"297.22\"/><text fill=\"#000000\" font-family=\"sans-serif\" font-size=\"12\" font-style=\"italic\" lengthAdjust=\"spacingAndGlyphs\" textLength=\"69\" x=\"147.5\" y=\"313.3587\">«attribute»</text><text fill=\"#000000\" font-family=\"sans-serif\" font-size=\"12\" lengthAdjust=\"spacingAndGlyphs\" textLength=\"6\" x=\"177\" y=\"327.3274\">y</text><line style=\"stroke: #383838; stroke-width: 1.5;\" x1=\"147.5\" x2=\"216.5\" y1=\"335.1575\" y2=\"335.1575\"/></a><!--MD5=[b9389687b975829384b498ac4b7476b2]\n",
       "class E8--><a href=\"psysml:4fcd16ab-62c7-48db-8542-d458ee8b30b8\" target=\"_top\" title=\"psysml:4fcd16ab-62c7-48db-8542-d458ee8b30b8\" xlink:actuate=\"onRequest\" xlink:href=\"psysml:4fcd16ab-62c7-48db-8542-d458ee8b30b8\" xlink:show=\"new\" xlink:title=\"psysml:4fcd16ab-62c7-48db-8542-d458ee8b30b8\" xlink:type=\"simple\"><rect fill=\"#FFFFFF\" height=\"45.9375\" id=\"E8\" rx=\"10\" ry=\"10\" style=\"stroke: #383838; stroke-width: 1.5;\" width=\"71\" x=\"92.5\" y=\"167.22\"/><text fill=\"#000000\" font-family=\"sans-serif\" font-size=\"12\" font-style=\"italic\" lengthAdjust=\"spacingAndGlyphs\" textLength=\"69\" x=\"93.5\" y=\"183.3587\">«attribute»</text><text fill=\"#000000\" font-family=\"sans-serif\" font-size=\"12\" lengthAdjust=\"spacingAndGlyphs\" textLength=\"5\" x=\"123.5\" y=\"197.3274\">z</text><line style=\"stroke: #383838; stroke-width: 1.5;\" x1=\"93.5\" x2=\"162.5\" y1=\"205.1575\" y2=\"205.1575\"/></a><a href=\"psysml:f00bbef0-e3df-4574-9254-08b97b82cdf9\" target=\"_top\" title=\"psysml:f00bbef0-e3df-4574-9254-08b97b82cdf9\" xlink:actuate=\"onRequest\" xlink:href=\"psysml:f00bbef0-e3df-4574-9254-08b97b82cdf9\" xlink:show=\"new\" xlink:title=\"psysml:f00bbef0-e3df-4574-9254-08b97b82cdf9\" xlink:type=\"simple\"><polygon fill=\"#FFFFFF\" points=\"314.5,163.72,435.5,163.72,442.5,186.0169,449.5,186.0169,449.5,216.3138,314.5,216.3138,314.5,163.72\" style=\"stroke: #000000; stroke-width: 1.5;\"/><line style=\"stroke: #000000; stroke-width: 1.5;\" x1=\"314.5\" x2=\"442.5\" y1=\"186.0169\" y2=\"186.0169\"/><text fill=\"#000000\" font-family=\"sans-serif\" font-size=\"14\" font-weight=\"bold\" lengthAdjust=\"spacingAndGlyphs\" textLength=\"115\" x=\"318.5\" y=\"178.7151\">Application Layer</text></a><a href=\"psysml:ca2e3746-a8d0-4883-91df-79f98ad99c0c\" target=\"_top\" title=\"psysml:ca2e3746-a8d0-4883-91df-79f98ad99c0c\" xlink:actuate=\"onRequest\" xlink:href=\"psysml:ca2e3746-a8d0-4883-91df-79f98ad99c0c\" xlink:show=\"new\" xlink:title=\"psysml:ca2e3746-a8d0-4883-91df-79f98ad99c0c\" xlink:type=\"simple\"><polygon fill=\"#FFFFFF\" points=\"327,293.72,423,293.72,430,316.0169,437,316.0169,437,346.3138,327,346.3138,327,293.72\" style=\"stroke: #000000; stroke-width: 1.5;\"/><line style=\"stroke: #000000; stroke-width: 1.5;\" x1=\"327\" x2=\"430\" y1=\"316.0169\" y2=\"316.0169\"/><text fill=\"#000000\" font-family=\"sans-serif\" font-size=\"14\" font-weight=\"bold\" lengthAdjust=\"spacingAndGlyphs\" textLength=\"90\" x=\"331\" y=\"308.7151\">Service Layer</text></a><a href=\"psysml:31612912-620e-4f5b-bfbe-0087437cb05d\" target=\"_top\" title=\"psysml:31612912-620e-4f5b-bfbe-0087437cb05d\" xlink:actuate=\"onRequest\" xlink:href=\"psysml:31612912-620e-4f5b-bfbe-0087437cb05d\" xlink:show=\"new\" xlink:title=\"psysml:31612912-620e-4f5b-bfbe-0087437cb05d\" xlink:type=\"simple\"><polygon fill=\"#FFFFFF\" points=\"336,423.72,414,423.72,421,446.0169,428,446.0169,428,476.3138,336,476.3138,336,423.72\" style=\"stroke: #000000; stroke-width: 1.5;\"/><line style=\"stroke: #000000; stroke-width: 1.5;\" x1=\"336\" x2=\"421\" y1=\"446.0169\" y2=\"446.0169\"/><text fill=\"#000000\" font-family=\"sans-serif\" font-size=\"14\" font-weight=\"bold\" lengthAdjust=\"spacingAndGlyphs\" textLength=\"72\" x=\"340\" y=\"438.7151\">Data Layer</text></a><!--MD5=[1f1cd8e6dd4c1b2ca2aaccc9b9bcea6e]\n",
       "link E1 to E2--><a href=\"psysml:feb54464-815e-4611-ad28-7085b6ccbd88\" target=\"_top\" title=\"psysml:feb54464-815e-4611-ad28-7085b6ccbd88\" xlink:actuate=\"onRequest\" xlink:href=\"psysml:feb54464-815e-4611-ad28-7085b6ccbd88\" xlink:show=\"new\" xlink:title=\"psysml:feb54464-815e-4611-ad28-7085b6ccbd88\" xlink:type=\"simple\"><path d=\"M279,33.83 C279,36.15 279,73.83 279,111.5 C279,113.8544 279,116.2087 279,118.5544 C279,119.1408 279,119.7267 279,120.3119 \" fill=\"none\" id=\"E1-&gt;E2\" style=\"stroke: #383838; stroke-width: 1.0; stroke-dasharray: 7.0,7.0;\"/><polygon fill=\"#383838\" points=\"279,120.3119,283,111.3119,279,115.3119,275,111.3119,279,120.3119\" style=\"stroke: #383838; stroke-width: 1.0;\"/><text fill=\"#000000\" font-family=\"sans-serif\" font-size=\"13\" lengthAdjust=\"spacingAndGlyphs\" textLength=\"65\" x=\"280\" y=\"76.7869\">«import»*</text></a><!--MD5=[af87c684e3b0d8be13c1a698a818ef1e]\n",
       "link E3 to E4--><a href=\"psysml:46e8547b-a8f1-46c9-aa96-df26a1cf1e34\" target=\"_top\" title=\"psysml:46e8547b-a8f1-46c9-aa96-df26a1cf1e34\" xlink:actuate=\"onRequest\" xlink:href=\"psysml:46e8547b-a8f1-46c9-aa96-df26a1cf1e34\" xlink:show=\"new\" xlink:title=\"psysml:46e8547b-a8f1-46c9-aa96-df26a1cf1e34\" xlink:type=\"simple\"><path d=\"M382,216.82 C382,236.52 382,263.94 382,285.45 \" fill=\"none\" id=\"E3-&gt;E4\" style=\"stroke: #383838; stroke-width: 1.0; stroke-dasharray: 7.0,7.0;\"/><polygon fill=\"#383838\" points=\"382,293.67,385,285.67,379,285.67,382,293.67\" style=\"stroke: #383838; stroke-width: 1.0;\"/><text fill=\"#000000\" font-family=\"sans-serif\" font-size=\"13\" lengthAdjust=\"spacingAndGlyphs\" textLength=\"64\" x=\"383\" y=\"259.7869\">«depend»</text></a><!--MD5=[1b7591eae5389033d8d09a9d6721a717]\n",
       "link E4 to E5--><a href=\"psysml:4580f085-b870-4b86-bde9-338fd4cc0a1d\" target=\"_top\" title=\"psysml:4580f085-b870-4b86-bde9-338fd4cc0a1d\" xlink:actuate=\"onRequest\" xlink:href=\"psysml:4580f085-b870-4b86-bde9-338fd4cc0a1d\" xlink:show=\"new\" xlink:title=\"psysml:4580f085-b870-4b86-bde9-338fd4cc0a1d\" xlink:type=\"simple\"><path d=\"M382,346.82 C382,366.52 382,393.94 382,415.45 \" fill=\"none\" id=\"E4-&gt;E5\" style=\"stroke: #383838; stroke-width: 1.0; stroke-dasharray: 7.0,7.0;\"/><polygon fill=\"#383838\" points=\"382,423.67,385,415.67,379,415.67,382,423.67\" style=\"stroke: #383838; stroke-width: 1.0;\"/><text fill=\"#000000\" font-family=\"sans-serif\" font-size=\"13\" lengthAdjust=\"spacingAndGlyphs\" textLength=\"64\" x=\"383\" y=\"389.7869\">«depend»</text></a><!--MD5=[c5e8897d989ce984f93528998a7150fe]\n",
       "link E8 to E6--><a href=\"psysml:ef6c4171-27e8-4274-afa9-e3f35902caaf\" target=\"_top\" title=\"psysml:ef6c4171-27e8-4274-afa9-e3f35902caaf\" xlink:actuate=\"onRequest\" xlink:href=\"psysml:ef6c4171-27e8-4274-afa9-e3f35902caaf\" xlink:show=\"new\" xlink:title=\"psysml:ef6c4171-27e8-4274-afa9-e3f35902caaf\" xlink:type=\"simple\"><path d=\"M97.42,213.32 C87.35,222.4 77.37,233.83 72,246.72 C66.5,259.92 66.66,275.66 68.54,289.1 \" fill=\"none\" id=\"E8-&gt;E6\" style=\"stroke: #383838; stroke-width: 1.0; stroke-dasharray: 7.0,7.0;\"/><polygon fill=\"#383838\" points=\"69.9,297.12,71.517,288.7304,65.6018,289.7359,69.9,297.12\" style=\"stroke: #383838; stroke-width: 1.0;\"/><text fill=\"#000000\" font-family=\"sans-serif\" font-size=\"13\" lengthAdjust=\"spacingAndGlyphs\" textLength=\"64\" x=\"73\" y=\"259.7869\">«depend»</text></a><!--MD5=[bfa3c8b0d15052fdf50ae9310b491027]\n",
       "link E8 to E7--><a href=\"psysml:ef6c4171-27e8-4274-afa9-e3f35902caaf\" target=\"_top\" title=\"psysml:ef6c4171-27e8-4274-afa9-e3f35902caaf\" xlink:actuate=\"onRequest\" xlink:href=\"psysml:ef6c4171-27e8-4274-afa9-e3f35902caaf\" xlink:show=\"new\" xlink:title=\"psysml:ef6c4171-27e8-4274-afa9-e3f35902caaf\" xlink:type=\"simple\"><path d=\"M137.28,213.22 C146.17,234.29 159.64,266.22 169.47,289.53 \" fill=\"none\" id=\"E8-&gt;E7\" style=\"stroke: #383838; stroke-width: 1.0; stroke-dasharray: 7.0,7.0;\"/><polygon fill=\"#383838\" points=\"172.66,297.07,172.3241,288.5326,166.7933,290.8585,172.66,297.07\" style=\"stroke: #383838; stroke-width: 1.0;\"/><text fill=\"#000000\" font-family=\"sans-serif\" font-size=\"13\" lengthAdjust=\"spacingAndGlyphs\" textLength=\"64\" x=\"159\" y=\"259.7869\">«depend»</text></a><!--MD5=[813909f4ceacd487a27c1241348baedb]\n",
       "@startuml\r\n",
       "skinparam monochrome true\r\n",
       "skinparam classbackgroundcolor white\r\n",
       "skinparam shadowing false\r\n",
       "skinparam wrapWidth 300\r\n",
       "hide circle\r\n",
       "\r\n",
       "package \"DependencyTest\" as E1  [[psysml:fa3e9fbf-effa-4977-80ec-fe6e8fa57f4d ]]  {\r\n",
       "package \"System\" as E2  [[psysml:10c1ae57-66e9-4db6-bc3d-37ac2db9914a ]]  {\r\n",
       "package \"Application Layer\" as E3  [[psysml:f00bbef0-e3df-4574-9254-08b97b82cdf9 ]]  {\r\n",
       "}\r\n",
       "package \"Service Layer\" as E4  [[psysml:ca2e3746-a8d0-4883-91df-79f98ad99c0c ]]  {\r\n",
       "}\r\n",
       "package \"Data Layer\" as E5  [[psysml:31612912-620e-4f5b-bfbe-0087437cb05d ]]  {\r\n",
       "}\r\n",
       "}\r\n",
       "comp usage \"x \" as E6  <<(T,blue) attribute>> [[psysml:af126b68-a763-4b5e-ae0f-74aa81d9e434 ]] {\r\n",
       "}\r\n",
       "comp usage \"y \" as E7  <<(T,blue) attribute>> [[psysml:a5153252-c77e-42e1-a87d-8eb1cf591399 ]] {\r\n",
       "}\r\n",
       "comp usage \"z \" as E8  <<(T,blue) attribute>> [[psysml:4fcd16ab-62c7-48db-8542-d458ee8b30b8 ]] {\r\n",
       "}\r\n",
       "}\r\n",
       "E1 ..> E2 [[psysml:feb54464-815e-4611-ad28-7085b6ccbd88 ]] : <<import>>*\r\n",
       "E3 ..>> E4 [[psysml:46e8547b-a8f1-46c9-aa96-df26a1cf1e34 ]] : <<depend>>\r\n",
       "E4 ..>> E5 [[psysml:4580f085-b870-4b86-bde9-338fd4cc0a1d ]] : <<depend>>\r\n",
       "E8 ..>> E6 [[psysml:ef6c4171-27e8-4274-afa9-e3f35902caaf ]] : <<depend>>\r\n",
       "E8 ..>> E7 [[psysml:ef6c4171-27e8-4274-afa9-e3f35902caaf ]] : <<depend>>\r\n",
       "@enduml\r\n",
       "\n",
       "PlantUML version 1.2020.13(Sat Jun 13 12:26:38 UTC 2020)\n",
       "(EPL source distribution)\n",
       "Java Runtime: OpenJDK Runtime Environment\n",
       "JVM: OpenJDK 64-Bit Server VM\n",
       "Default Encoding: UTF-8\n",
       "Language: en\n",
       "Country: null\n",
       "--></g></svg>"
      ]
     },
     "execution_count": 37,
     "metadata": {},
     "output_type": "execute_result"
    }
   ],
   "source": [
    "%viz --style=\"DEFAULT\" --view=\"Default\" \"DependencyTest\""
   ]
  },
  {
   "cell_type": "code",
   "execution_count": 38,
   "id": "542b00b0",
   "metadata": {
    "execution": {
     "iopub.execute_input": "2022-04-22T09:48:08.506492Z",
     "iopub.status.busy": "2022-04-22T09:48:08.506094Z",
     "iopub.status.idle": "2022-04-22T09:48:08.543373Z",
     "shell.execute_reply": "2022-04-22T09:48:08.543031Z"
    }
   },
   "outputs": [
    {
     "data": {
      "image/svg+xml": [
       "<?xml version=\"1.0\" encoding=\"UTF-8\" standalone=\"no\"?><svg xmlns=\"http://www.w3.org/2000/svg\" xmlns:xlink=\"http://www.w3.org/1999/xlink\" contentScriptType=\"application/ecmascript\" contentStyleType=\"text/css\" height=\"552px\" preserveAspectRatio=\"none\" style=\"width:536px;height:552px;\" version=\"1.1\" viewBox=\"0 0 536 552\" width=\"536px\" zoomAndPan=\"magnify\"><defs/><g><!--MD5=[fbc87193dbaf4d95561dea2c320d4a47]\n",
       "cluster E1--><a href=\"psysml:fa3e9fbf-effa-4977-80ec-fe6e8fa57f4d\" target=\"_top\" title=\"psysml:fa3e9fbf-effa-4977-80ec-fe6e8fa57f4d\" xlink:actuate=\"onRequest\" xlink:href=\"psysml:fa3e9fbf-effa-4977-80ec-fe6e8fa57f4d\" xlink:show=\"new\" xlink:title=\"psysml:fa3e9fbf-effa-4977-80ec-fe6e8fa57f4d\" xlink:type=\"simple\"><polygon fill=\"#FFFFFF\" points=\"16,6,142,6,149,28.2969,514,28.2969,514,540.72,16,540.72,16,6\" style=\"stroke: #000000; stroke-width: 1.5;\"/><line style=\"stroke: #000000; stroke-width: 1.5;\" x1=\"16\" x2=\"149\" y1=\"28.2969\" y2=\"28.2969\"/><text fill=\"#000000\" font-family=\"sans-serif\" font-size=\"14\" font-weight=\"bold\" lengthAdjust=\"spacingAndGlyphs\" textLength=\"120\" x=\"20\" y=\"20.9951\">DependencyTest</text></a><!--MD5=[e4f7fae6ed58524ba242bb0b0d3be6b7]\n",
       "cluster E2--><a href=\"psysml:10c1ae57-66e9-4db6-bc3d-37ac2db9914a\" target=\"_top\" title=\"psysml:10c1ae57-66e9-4db6-bc3d-37ac2db9914a\" xlink:actuate=\"onRequest\" xlink:href=\"psysml:10c1ae57-66e9-4db6-bc3d-37ac2db9914a\" xlink:show=\"new\" xlink:title=\"psysml:10c1ae57-66e9-4db6-bc3d-37ac2db9914a\" xlink:type=\"simple\"><polygon fill=\"#FFFFFF\" points=\"271,120.72,328,120.72,335,143.0169,474,143.0169,474,500.72,271,500.72,271,120.72\" style=\"stroke: #000000; stroke-width: 1.5;\"/><line style=\"stroke: #000000; stroke-width: 1.5;\" x1=\"271\" x2=\"335\" y1=\"143.0169\" y2=\"143.0169\"/><text fill=\"#000000\" font-family=\"sans-serif\" font-size=\"14\" font-weight=\"bold\" lengthAdjust=\"spacingAndGlyphs\" textLength=\"51\" x=\"275\" y=\"135.7151\">System</text></a><!--MD5=[60a26617385b1d2d0262a64233df1f8d]\n",
       "class E6--><a href=\"psysml:af126b68-a763-4b5e-ae0f-74aa81d9e434\" target=\"_top\" title=\"psysml:af126b68-a763-4b5e-ae0f-74aa81d9e434\" xlink:actuate=\"onRequest\" xlink:href=\"psysml:af126b68-a763-4b5e-ae0f-74aa81d9e434\" xlink:show=\"new\" xlink:title=\"psysml:af126b68-a763-4b5e-ae0f-74aa81d9e434\" xlink:type=\"simple\"><rect fill=\"#FFFFFF\" height=\"45.9375\" id=\"E6\" rx=\"10\" ry=\"10\" style=\"stroke: #383838; stroke-width: 1.5;\" width=\"71\" x=\"40.5\" y=\"297.22\"/><text fill=\"#000000\" font-family=\"sans-serif\" font-size=\"12\" font-style=\"italic\" lengthAdjust=\"spacingAndGlyphs\" textLength=\"69\" x=\"41.5\" y=\"313.3587\">«attribute»</text><text fill=\"#000000\" font-family=\"sans-serif\" font-size=\"12\" lengthAdjust=\"spacingAndGlyphs\" textLength=\"6\" x=\"71\" y=\"327.3274\">x</text><line style=\"stroke: #383838; stroke-width: 1.5;\" x1=\"41.5\" x2=\"110.5\" y1=\"335.1575\" y2=\"335.1575\"/></a><!--MD5=[2156ba9850f5573cc1fc38a6a4b2f02b]\n",
       "class E7--><a href=\"psysml:a5153252-c77e-42e1-a87d-8eb1cf591399\" target=\"_top\" title=\"psysml:a5153252-c77e-42e1-a87d-8eb1cf591399\" xlink:actuate=\"onRequest\" xlink:href=\"psysml:a5153252-c77e-42e1-a87d-8eb1cf591399\" xlink:show=\"new\" xlink:title=\"psysml:a5153252-c77e-42e1-a87d-8eb1cf591399\" xlink:type=\"simple\"><rect fill=\"#FFFFFF\" height=\"45.9375\" id=\"E7\" rx=\"10\" ry=\"10\" style=\"stroke: #383838; stroke-width: 1.5;\" width=\"71\" x=\"146.5\" y=\"297.22\"/><text fill=\"#000000\" font-family=\"sans-serif\" font-size=\"12\" font-style=\"italic\" lengthAdjust=\"spacingAndGlyphs\" textLength=\"69\" x=\"147.5\" y=\"313.3587\">«attribute»</text><text fill=\"#000000\" font-family=\"sans-serif\" font-size=\"12\" lengthAdjust=\"spacingAndGlyphs\" textLength=\"6\" x=\"177\" y=\"327.3274\">y</text><line style=\"stroke: #383838; stroke-width: 1.5;\" x1=\"147.5\" x2=\"216.5\" y1=\"335.1575\" y2=\"335.1575\"/></a><!--MD5=[b9389687b975829384b498ac4b7476b2]\n",
       "class E8--><a href=\"psysml:4fcd16ab-62c7-48db-8542-d458ee8b30b8\" target=\"_top\" title=\"psysml:4fcd16ab-62c7-48db-8542-d458ee8b30b8\" xlink:actuate=\"onRequest\" xlink:href=\"psysml:4fcd16ab-62c7-48db-8542-d458ee8b30b8\" xlink:show=\"new\" xlink:title=\"psysml:4fcd16ab-62c7-48db-8542-d458ee8b30b8\" xlink:type=\"simple\"><rect fill=\"#FFFFFF\" height=\"45.9375\" id=\"E8\" rx=\"10\" ry=\"10\" style=\"stroke: #383838; stroke-width: 1.5;\" width=\"71\" x=\"92.5\" y=\"167.22\"/><text fill=\"#000000\" font-family=\"sans-serif\" font-size=\"12\" font-style=\"italic\" lengthAdjust=\"spacingAndGlyphs\" textLength=\"69\" x=\"93.5\" y=\"183.3587\">«attribute»</text><text fill=\"#000000\" font-family=\"sans-serif\" font-size=\"12\" lengthAdjust=\"spacingAndGlyphs\" textLength=\"5\" x=\"123.5\" y=\"197.3274\">z</text><line style=\"stroke: #383838; stroke-width: 1.5;\" x1=\"93.5\" x2=\"162.5\" y1=\"205.1575\" y2=\"205.1575\"/></a><a href=\"psysml:f00bbef0-e3df-4574-9254-08b97b82cdf9\" target=\"_top\" title=\"psysml:f00bbef0-e3df-4574-9254-08b97b82cdf9\" xlink:actuate=\"onRequest\" xlink:href=\"psysml:f00bbef0-e3df-4574-9254-08b97b82cdf9\" xlink:show=\"new\" xlink:title=\"psysml:f00bbef0-e3df-4574-9254-08b97b82cdf9\" xlink:type=\"simple\"><polygon fill=\"#FFFFFF\" points=\"314.5,163.72,435.5,163.72,442.5,186.0169,449.5,186.0169,449.5,216.3138,314.5,216.3138,314.5,163.72\" style=\"stroke: #000000; stroke-width: 1.5;\"/><line style=\"stroke: #000000; stroke-width: 1.5;\" x1=\"314.5\" x2=\"442.5\" y1=\"186.0169\" y2=\"186.0169\"/><text fill=\"#000000\" font-family=\"sans-serif\" font-size=\"14\" font-weight=\"bold\" lengthAdjust=\"spacingAndGlyphs\" textLength=\"115\" x=\"318.5\" y=\"178.7151\">Application Layer</text></a><a href=\"psysml:ca2e3746-a8d0-4883-91df-79f98ad99c0c\" target=\"_top\" title=\"psysml:ca2e3746-a8d0-4883-91df-79f98ad99c0c\" xlink:actuate=\"onRequest\" xlink:href=\"psysml:ca2e3746-a8d0-4883-91df-79f98ad99c0c\" xlink:show=\"new\" xlink:title=\"psysml:ca2e3746-a8d0-4883-91df-79f98ad99c0c\" xlink:type=\"simple\"><polygon fill=\"#FFFFFF\" points=\"327,293.72,423,293.72,430,316.0169,437,316.0169,437,346.3138,327,346.3138,327,293.72\" style=\"stroke: #000000; stroke-width: 1.5;\"/><line style=\"stroke: #000000; stroke-width: 1.5;\" x1=\"327\" x2=\"430\" y1=\"316.0169\" y2=\"316.0169\"/><text fill=\"#000000\" font-family=\"sans-serif\" font-size=\"14\" font-weight=\"bold\" lengthAdjust=\"spacingAndGlyphs\" textLength=\"90\" x=\"331\" y=\"308.7151\">Service Layer</text></a><a href=\"psysml:31612912-620e-4f5b-bfbe-0087437cb05d\" target=\"_top\" title=\"psysml:31612912-620e-4f5b-bfbe-0087437cb05d\" xlink:actuate=\"onRequest\" xlink:href=\"psysml:31612912-620e-4f5b-bfbe-0087437cb05d\" xlink:show=\"new\" xlink:title=\"psysml:31612912-620e-4f5b-bfbe-0087437cb05d\" xlink:type=\"simple\"><polygon fill=\"#FFFFFF\" points=\"336,423.72,414,423.72,421,446.0169,428,446.0169,428,476.3138,336,476.3138,336,423.72\" style=\"stroke: #000000; stroke-width: 1.5;\"/><line style=\"stroke: #000000; stroke-width: 1.5;\" x1=\"336\" x2=\"421\" y1=\"446.0169\" y2=\"446.0169\"/><text fill=\"#000000\" font-family=\"sans-serif\" font-size=\"14\" font-weight=\"bold\" lengthAdjust=\"spacingAndGlyphs\" textLength=\"72\" x=\"340\" y=\"438.7151\">Data Layer</text></a><!--MD5=[1f1cd8e6dd4c1b2ca2aaccc9b9bcea6e]\n",
       "link E1 to E2--><a href=\"psysml:feb54464-815e-4611-ad28-7085b6ccbd88\" target=\"_top\" title=\"psysml:feb54464-815e-4611-ad28-7085b6ccbd88\" xlink:actuate=\"onRequest\" xlink:href=\"psysml:feb54464-815e-4611-ad28-7085b6ccbd88\" xlink:show=\"new\" xlink:title=\"psysml:feb54464-815e-4611-ad28-7085b6ccbd88\" xlink:type=\"simple\"><path d=\"M279,33.83 C279,36.15 279,73.83 279,111.5 C279,113.8544 279,116.2087 279,118.5544 C279,119.1408 279,119.7267 279,120.3119 \" fill=\"none\" id=\"E1-&gt;E2\" style=\"stroke: #383838; stroke-width: 1.0; stroke-dasharray: 7.0,7.0;\"/><polygon fill=\"#383838\" points=\"279,120.3119,283,111.3119,279,115.3119,275,111.3119,279,120.3119\" style=\"stroke: #383838; stroke-width: 1.0;\"/><text fill=\"#000000\" font-family=\"sans-serif\" font-size=\"13\" lengthAdjust=\"spacingAndGlyphs\" textLength=\"65\" x=\"280\" y=\"76.7869\">«import»*</text></a><!--MD5=[af87c684e3b0d8be13c1a698a818ef1e]\n",
       "link E3 to E4--><a href=\"psysml:46e8547b-a8f1-46c9-aa96-df26a1cf1e34\" target=\"_top\" title=\"psysml:46e8547b-a8f1-46c9-aa96-df26a1cf1e34\" xlink:actuate=\"onRequest\" xlink:href=\"psysml:46e8547b-a8f1-46c9-aa96-df26a1cf1e34\" xlink:show=\"new\" xlink:title=\"psysml:46e8547b-a8f1-46c9-aa96-df26a1cf1e34\" xlink:type=\"simple\"><path d=\"M382,216.82 C382,236.52 382,263.94 382,285.45 \" fill=\"none\" id=\"E3-&gt;E4\" style=\"stroke: #383838; stroke-width: 1.0; stroke-dasharray: 7.0,7.0;\"/><polygon fill=\"#383838\" points=\"382,293.67,385,285.67,379,285.67,382,293.67\" style=\"stroke: #383838; stroke-width: 1.0;\"/><text fill=\"#000000\" font-family=\"sans-serif\" font-size=\"13\" lengthAdjust=\"spacingAndGlyphs\" textLength=\"64\" x=\"383\" y=\"259.7869\">«depend»</text></a><!--MD5=[1b7591eae5389033d8d09a9d6721a717]\n",
       "link E4 to E5--><a href=\"psysml:4580f085-b870-4b86-bde9-338fd4cc0a1d\" target=\"_top\" title=\"psysml:4580f085-b870-4b86-bde9-338fd4cc0a1d\" xlink:actuate=\"onRequest\" xlink:href=\"psysml:4580f085-b870-4b86-bde9-338fd4cc0a1d\" xlink:show=\"new\" xlink:title=\"psysml:4580f085-b870-4b86-bde9-338fd4cc0a1d\" xlink:type=\"simple\"><path d=\"M382,346.82 C382,366.52 382,393.94 382,415.45 \" fill=\"none\" id=\"E4-&gt;E5\" style=\"stroke: #383838; stroke-width: 1.0; stroke-dasharray: 7.0,7.0;\"/><polygon fill=\"#383838\" points=\"382,423.67,385,415.67,379,415.67,382,423.67\" style=\"stroke: #383838; stroke-width: 1.0;\"/><text fill=\"#000000\" font-family=\"sans-serif\" font-size=\"13\" lengthAdjust=\"spacingAndGlyphs\" textLength=\"64\" x=\"383\" y=\"389.7869\">«depend»</text></a><!--MD5=[c5e8897d989ce984f93528998a7150fe]\n",
       "link E8 to E6--><a href=\"psysml:ef6c4171-27e8-4274-afa9-e3f35902caaf\" target=\"_top\" title=\"psysml:ef6c4171-27e8-4274-afa9-e3f35902caaf\" xlink:actuate=\"onRequest\" xlink:href=\"psysml:ef6c4171-27e8-4274-afa9-e3f35902caaf\" xlink:show=\"new\" xlink:title=\"psysml:ef6c4171-27e8-4274-afa9-e3f35902caaf\" xlink:type=\"simple\"><path d=\"M97.42,213.32 C87.35,222.4 77.37,233.83 72,246.72 C66.5,259.92 66.66,275.66 68.54,289.1 \" fill=\"none\" id=\"E8-&gt;E6\" style=\"stroke: #383838; stroke-width: 1.0; stroke-dasharray: 7.0,7.0;\"/><polygon fill=\"#383838\" points=\"69.9,297.12,71.517,288.7304,65.6018,289.7359,69.9,297.12\" style=\"stroke: #383838; stroke-width: 1.0;\"/><text fill=\"#000000\" font-family=\"sans-serif\" font-size=\"13\" lengthAdjust=\"spacingAndGlyphs\" textLength=\"64\" x=\"73\" y=\"259.7869\">«depend»</text></a><!--MD5=[bfa3c8b0d15052fdf50ae9310b491027]\n",
       "link E8 to E7--><a href=\"psysml:ef6c4171-27e8-4274-afa9-e3f35902caaf\" target=\"_top\" title=\"psysml:ef6c4171-27e8-4274-afa9-e3f35902caaf\" xlink:actuate=\"onRequest\" xlink:href=\"psysml:ef6c4171-27e8-4274-afa9-e3f35902caaf\" xlink:show=\"new\" xlink:title=\"psysml:ef6c4171-27e8-4274-afa9-e3f35902caaf\" xlink:type=\"simple\"><path d=\"M137.28,213.22 C146.17,234.29 159.64,266.22 169.47,289.53 \" fill=\"none\" id=\"E8-&gt;E7\" style=\"stroke: #383838; stroke-width: 1.0; stroke-dasharray: 7.0,7.0;\"/><polygon fill=\"#383838\" points=\"172.66,297.07,172.3241,288.5326,166.7933,290.8585,172.66,297.07\" style=\"stroke: #383838; stroke-width: 1.0;\"/><text fill=\"#000000\" font-family=\"sans-serif\" font-size=\"13\" lengthAdjust=\"spacingAndGlyphs\" textLength=\"64\" x=\"159\" y=\"259.7869\">«depend»</text></a><!--MD5=[813909f4ceacd487a27c1241348baedb]\n",
       "@startuml\r\n",
       "skinparam monochrome true\r\n",
       "skinparam classbackgroundcolor white\r\n",
       "skinparam shadowing false\r\n",
       "skinparam wrapWidth 300\r\n",
       "hide circle\r\n",
       "\r\n",
       "package \"DependencyTest\" as E1  [[psysml:fa3e9fbf-effa-4977-80ec-fe6e8fa57f4d ]]  {\r\n",
       "package \"System\" as E2  [[psysml:10c1ae57-66e9-4db6-bc3d-37ac2db9914a ]]  {\r\n",
       "package \"Application Layer\" as E3  [[psysml:f00bbef0-e3df-4574-9254-08b97b82cdf9 ]]  {\r\n",
       "}\r\n",
       "package \"Service Layer\" as E4  [[psysml:ca2e3746-a8d0-4883-91df-79f98ad99c0c ]]  {\r\n",
       "}\r\n",
       "package \"Data Layer\" as E5  [[psysml:31612912-620e-4f5b-bfbe-0087437cb05d ]]  {\r\n",
       "}\r\n",
       "}\r\n",
       "comp usage \"x \" as E6  <<(T,blue) attribute>> [[psysml:af126b68-a763-4b5e-ae0f-74aa81d9e434 ]] {\r\n",
       "}\r\n",
       "comp usage \"y \" as E7  <<(T,blue) attribute>> [[psysml:a5153252-c77e-42e1-a87d-8eb1cf591399 ]] {\r\n",
       "}\r\n",
       "comp usage \"z \" as E8  <<(T,blue) attribute>> [[psysml:4fcd16ab-62c7-48db-8542-d458ee8b30b8 ]] {\r\n",
       "}\r\n",
       "}\r\n",
       "E1 ..> E2 [[psysml:feb54464-815e-4611-ad28-7085b6ccbd88 ]] : <<import>>*\r\n",
       "E3 ..>> E4 [[psysml:46e8547b-a8f1-46c9-aa96-df26a1cf1e34 ]] : <<depend>>\r\n",
       "E4 ..>> E5 [[psysml:4580f085-b870-4b86-bde9-338fd4cc0a1d ]] : <<depend>>\r\n",
       "E8 ..>> E6 [[psysml:ef6c4171-27e8-4274-afa9-e3f35902caaf ]] : <<depend>>\r\n",
       "E8 ..>> E7 [[psysml:ef6c4171-27e8-4274-afa9-e3f35902caaf ]] : <<depend>>\r\n",
       "@enduml\r\n",
       "\n",
       "PlantUML version 1.2020.13(Sat Jun 13 12:26:38 UTC 2020)\n",
       "(EPL source distribution)\n",
       "Java Runtime: OpenJDK Runtime Environment\n",
       "JVM: OpenJDK 64-Bit Server VM\n",
       "Default Encoding: UTF-8\n",
       "Language: en\n",
       "Country: null\n",
       "--></g></svg>"
      ]
     },
     "execution_count": 38,
     "metadata": {},
     "output_type": "execute_result"
    }
   ],
   "source": [
    "%viz --style=\"DEFAULT\" --view=\"Tree\" \"DependencyTest\""
   ]
  },
  {
   "cell_type": "code",
   "execution_count": 39,
   "id": "c8e9801e",
   "metadata": {
    "execution": {
     "iopub.execute_input": "2022-04-22T09:48:08.593266Z",
     "iopub.status.busy": "2022-04-22T09:48:08.592867Z",
     "iopub.status.idle": "2022-04-22T09:48:08.599318Z",
     "shell.execute_reply": "2022-04-22T09:48:08.598758Z"
    }
   },
   "outputs": [
    {
     "data": {
      "image/svg+xml": [
       "<?xml version=\"1.0\" encoding=\"UTF-8\" standalone=\"no\"?><svg xmlns=\"http://www.w3.org/2000/svg\" xmlns:xlink=\"http://www.w3.org/1999/xlink\" contentScriptType=\"application/ecmascript\" contentStyleType=\"text/css\" height=\"12px\" preserveAspectRatio=\"none\" style=\"width:12px;height:12px;\" version=\"1.1\" viewBox=\"0 0 12 12\" width=\"12px\" zoomAndPan=\"magnify\"><defs/><g><!--MD5=[c5f280e076d0d61ccf4b0f27871bda1d]\n",
       "@startuml\r\n",
       "skinparam monochrome true\r\n",
       "skinparam classbackgroundcolor white\r\n",
       "skinparam shadowing false\r\n",
       "skinparam wrapWidth 300\r\n",
       "hide circle\r\n",
       "\r\n",
       "@enduml\r\n",
       "\n",
       "PlantUML version 1.2020.13(Sat Jun 13 12:26:38 UTC 2020)\n",
       "(EPL source distribution)\n",
       "Java Runtime: OpenJDK Runtime Environment\n",
       "JVM: OpenJDK 64-Bit Server VM\n",
       "Default Encoding: UTF-8\n",
       "Language: en\n",
       "Country: null\n",
       "--></g></svg>"
      ]
     },
     "execution_count": 39,
     "metadata": {},
     "output_type": "execute_result"
    }
   ],
   "source": [
    "%viz --style=\"DEFAULT\" --view=\"State\" \"DependencyTest\""
   ]
  },
  {
   "cell_type": "code",
   "execution_count": 40,
   "id": "3e09a046",
   "metadata": {
    "execution": {
     "iopub.execute_input": "2022-04-22T09:48:08.648481Z",
     "iopub.status.busy": "2022-04-22T09:48:08.648006Z",
     "iopub.status.idle": "2022-04-22T09:48:08.685322Z",
     "shell.execute_reply": "2022-04-22T09:48:08.684723Z"
    }
   },
   "outputs": [
    {
     "data": {
      "image/svg+xml": [
       "<?xml version=\"1.0\" encoding=\"UTF-8\" standalone=\"no\"?><svg xmlns=\"http://www.w3.org/2000/svg\" xmlns:xlink=\"http://www.w3.org/1999/xlink\" contentScriptType=\"application/ecmascript\" contentStyleType=\"text/css\" height=\"442px\" preserveAspectRatio=\"none\" style=\"width:536px;height:442px;\" version=\"1.1\" viewBox=\"0 0 536 442\" width=\"536px\" zoomAndPan=\"magnify\"><defs/><g><!--MD5=[fbc87193dbaf4d95561dea2c320d4a47]\n",
       "cluster E1--><a href=\"psysml:fa3e9fbf-effa-4977-80ec-fe6e8fa57f4d\" target=\"_top\" title=\"psysml:fa3e9fbf-effa-4977-80ec-fe6e8fa57f4d\" xlink:actuate=\"onRequest\" xlink:href=\"psysml:fa3e9fbf-effa-4977-80ec-fe6e8fa57f4d\" xlink:show=\"new\" xlink:title=\"psysml:fa3e9fbf-effa-4977-80ec-fe6e8fa57f4d\" xlink:type=\"simple\"><polygon fill=\"#FFFFFF\" points=\"16,6,142,6,149,28.2969,514,28.2969,514,430.72,16,430.72,16,6\" style=\"stroke: #000000; stroke-width: 1.5;\"/><line style=\"stroke: #000000; stroke-width: 1.5;\" x1=\"16\" x2=\"149\" y1=\"28.2969\" y2=\"28.2969\"/><text fill=\"#000000\" font-family=\"sans-serif\" font-size=\"14\" font-weight=\"bold\" lengthAdjust=\"spacingAndGlyphs\" textLength=\"120\" x=\"20\" y=\"20.9951\">DependencyTest</text></a><!--MD5=[e4f7fae6ed58524ba242bb0b0d3be6b7]\n",
       "cluster E2--><a href=\"psysml:10c1ae57-66e9-4db6-bc3d-37ac2db9914a\" target=\"_top\" title=\"psysml:10c1ae57-66e9-4db6-bc3d-37ac2db9914a\" xlink:actuate=\"onRequest\" xlink:href=\"psysml:10c1ae57-66e9-4db6-bc3d-37ac2db9914a\" xlink:show=\"new\" xlink:title=\"psysml:10c1ae57-66e9-4db6-bc3d-37ac2db9914a\" xlink:type=\"simple\"><polygon fill=\"#FFFFFF\" points=\"271,98.72,328,98.72,335,121.0169,474,121.0169,474,390.72,271,390.72,271,98.72\" style=\"stroke: #000000; stroke-width: 1.5;\"/><line style=\"stroke: #000000; stroke-width: 1.5;\" x1=\"271\" x2=\"335\" y1=\"121.0169\" y2=\"121.0169\"/><text fill=\"#000000\" font-family=\"sans-serif\" font-size=\"14\" font-weight=\"bold\" lengthAdjust=\"spacingAndGlyphs\" textLength=\"51\" x=\"275\" y=\"113.7151\">System</text></a><!--MD5=[60a26617385b1d2d0262a64233df1f8d]\n",
       "class E6--><a href=\"psysml:af126b68-a763-4b5e-ae0f-74aa81d9e434\" target=\"_top\" title=\"psysml:af126b68-a763-4b5e-ae0f-74aa81d9e434\" xlink:actuate=\"onRequest\" xlink:href=\"psysml:af126b68-a763-4b5e-ae0f-74aa81d9e434\" xlink:show=\"new\" xlink:title=\"psysml:af126b68-a763-4b5e-ae0f-74aa81d9e434\" xlink:type=\"simple\"><rect fill=\"#FFFFFF\" height=\"45.9375\" id=\"E6\" rx=\"10\" ry=\"10\" style=\"stroke: #383838; stroke-width: 1.5;\" width=\"71\" x=\"40.5\" y=\"231.22\"/><text fill=\"#000000\" font-family=\"sans-serif\" font-size=\"12\" font-style=\"italic\" lengthAdjust=\"spacingAndGlyphs\" textLength=\"69\" x=\"41.5\" y=\"247.3587\">«attribute»</text><text fill=\"#000000\" font-family=\"sans-serif\" font-size=\"12\" lengthAdjust=\"spacingAndGlyphs\" textLength=\"6\" x=\"71\" y=\"261.3274\">x</text><line style=\"stroke: #383838; stroke-width: 1.5;\" x1=\"41.5\" x2=\"110.5\" y1=\"269.1575\" y2=\"269.1575\"/></a><!--MD5=[2156ba9850f5573cc1fc38a6a4b2f02b]\n",
       "class E7--><a href=\"psysml:a5153252-c77e-42e1-a87d-8eb1cf591399\" target=\"_top\" title=\"psysml:a5153252-c77e-42e1-a87d-8eb1cf591399\" xlink:actuate=\"onRequest\" xlink:href=\"psysml:a5153252-c77e-42e1-a87d-8eb1cf591399\" xlink:show=\"new\" xlink:title=\"psysml:a5153252-c77e-42e1-a87d-8eb1cf591399\" xlink:type=\"simple\"><rect fill=\"#FFFFFF\" height=\"45.9375\" id=\"E7\" rx=\"10\" ry=\"10\" style=\"stroke: #383838; stroke-width: 1.5;\" width=\"71\" x=\"146.5\" y=\"231.22\"/><text fill=\"#000000\" font-family=\"sans-serif\" font-size=\"12\" font-style=\"italic\" lengthAdjust=\"spacingAndGlyphs\" textLength=\"69\" x=\"147.5\" y=\"247.3587\">«attribute»</text><text fill=\"#000000\" font-family=\"sans-serif\" font-size=\"12\" lengthAdjust=\"spacingAndGlyphs\" textLength=\"6\" x=\"177\" y=\"261.3274\">y</text><line style=\"stroke: #383838; stroke-width: 1.5;\" x1=\"147.5\" x2=\"216.5\" y1=\"269.1575\" y2=\"269.1575\"/></a><!--MD5=[b9389687b975829384b498ac4b7476b2]\n",
       "class E8--><a href=\"psysml:4fcd16ab-62c7-48db-8542-d458ee8b30b8\" target=\"_top\" title=\"psysml:4fcd16ab-62c7-48db-8542-d458ee8b30b8\" xlink:actuate=\"onRequest\" xlink:href=\"psysml:4fcd16ab-62c7-48db-8542-d458ee8b30b8\" xlink:show=\"new\" xlink:title=\"psysml:4fcd16ab-62c7-48db-8542-d458ee8b30b8\" xlink:type=\"simple\"><rect fill=\"#FFFFFF\" height=\"45.9375\" id=\"E8\" rx=\"10\" ry=\"10\" style=\"stroke: #383838; stroke-width: 1.5;\" width=\"71\" x=\"92.5\" y=\"145.22\"/><text fill=\"#000000\" font-family=\"sans-serif\" font-size=\"12\" font-style=\"italic\" lengthAdjust=\"spacingAndGlyphs\" textLength=\"69\" x=\"93.5\" y=\"161.3587\">«attribute»</text><text fill=\"#000000\" font-family=\"sans-serif\" font-size=\"12\" lengthAdjust=\"spacingAndGlyphs\" textLength=\"5\" x=\"123.5\" y=\"175.3274\">z</text><line style=\"stroke: #383838; stroke-width: 1.5;\" x1=\"93.5\" x2=\"162.5\" y1=\"183.1575\" y2=\"183.1575\"/></a><a href=\"psysml:f00bbef0-e3df-4574-9254-08b97b82cdf9\" target=\"_top\" title=\"psysml:f00bbef0-e3df-4574-9254-08b97b82cdf9\" xlink:actuate=\"onRequest\" xlink:href=\"psysml:f00bbef0-e3df-4574-9254-08b97b82cdf9\" xlink:show=\"new\" xlink:title=\"psysml:f00bbef0-e3df-4574-9254-08b97b82cdf9\" xlink:type=\"simple\"><polygon fill=\"#FFFFFF\" points=\"314.5,141.72,435.5,141.72,442.5,164.0169,449.5,164.0169,449.5,194.3138,314.5,194.3138,314.5,141.72\" style=\"stroke: #000000; stroke-width: 1.5;\"/><line style=\"stroke: #000000; stroke-width: 1.5;\" x1=\"314.5\" x2=\"442.5\" y1=\"164.0169\" y2=\"164.0169\"/><text fill=\"#000000\" font-family=\"sans-serif\" font-size=\"14\" font-weight=\"bold\" lengthAdjust=\"spacingAndGlyphs\" textLength=\"115\" x=\"318.5\" y=\"156.7151\">Application Layer</text></a><a href=\"psysml:ca2e3746-a8d0-4883-91df-79f98ad99c0c\" target=\"_top\" title=\"psysml:ca2e3746-a8d0-4883-91df-79f98ad99c0c\" xlink:actuate=\"onRequest\" xlink:href=\"psysml:ca2e3746-a8d0-4883-91df-79f98ad99c0c\" xlink:show=\"new\" xlink:title=\"psysml:ca2e3746-a8d0-4883-91df-79f98ad99c0c\" xlink:type=\"simple\"><polygon fill=\"#FFFFFF\" points=\"327,227.72,423,227.72,430,250.0169,437,250.0169,437,280.3138,327,280.3138,327,227.72\" style=\"stroke: #000000; stroke-width: 1.5;\"/><line style=\"stroke: #000000; stroke-width: 1.5;\" x1=\"327\" x2=\"430\" y1=\"250.0169\" y2=\"250.0169\"/><text fill=\"#000000\" font-family=\"sans-serif\" font-size=\"14\" font-weight=\"bold\" lengthAdjust=\"spacingAndGlyphs\" textLength=\"90\" x=\"331\" y=\"242.7151\">Service Layer</text></a><a href=\"psysml:31612912-620e-4f5b-bfbe-0087437cb05d\" target=\"_top\" title=\"psysml:31612912-620e-4f5b-bfbe-0087437cb05d\" xlink:actuate=\"onRequest\" xlink:href=\"psysml:31612912-620e-4f5b-bfbe-0087437cb05d\" xlink:show=\"new\" xlink:title=\"psysml:31612912-620e-4f5b-bfbe-0087437cb05d\" xlink:type=\"simple\"><polygon fill=\"#FFFFFF\" points=\"336,313.72,414,313.72,421,336.0169,428,336.0169,428,366.3138,336,366.3138,336,313.72\" style=\"stroke: #000000; stroke-width: 1.5;\"/><line style=\"stroke: #000000; stroke-width: 1.5;\" x1=\"336\" x2=\"421\" y1=\"336.0169\" y2=\"336.0169\"/><text fill=\"#000000\" font-family=\"sans-serif\" font-size=\"14\" font-weight=\"bold\" lengthAdjust=\"spacingAndGlyphs\" textLength=\"72\" x=\"340\" y=\"328.7151\">Data Layer</text></a><!--MD5=[1f1cd8e6dd4c1b2ca2aaccc9b9bcea6e]\n",
       "link E1 to E2--><a href=\"psysml:feb54464-815e-4611-ad28-7085b6ccbd88\" target=\"_top\" title=\"psysml:feb54464-815e-4611-ad28-7085b6ccbd88\" xlink:actuate=\"onRequest\" xlink:href=\"psysml:feb54464-815e-4611-ad28-7085b6ccbd88\" xlink:show=\"new\" xlink:title=\"psysml:feb54464-815e-4611-ad28-7085b6ccbd88\" xlink:type=\"simple\"><path d=\"M279,33.82 C279,34.815 279,43.3994 279,55.7775 C279,61.9666 279,69.1041 279,76.7155 C279,80.5213 279,84.4455 279,88.429 C279,90.4207 279,92.4272 279,94.4411 C279,95.448 279,96.4568 279,97.4665 C279,97.719 279,97.9714 279,98.224 \" fill=\"none\" id=\"E1-&gt;E2\" style=\"stroke: #383838; stroke-width: 1.0; stroke-dasharray: 7.0,7.0;\"/><polygon fill=\"#383838\" points=\"279,98.224,283,89.224,279,93.224,275,89.224,279,98.224\" style=\"stroke: #383838; stroke-width: 1.0;\"/><text fill=\"#000000\" font-family=\"sans-serif\" font-size=\"13\" lengthAdjust=\"spacingAndGlyphs\" textLength=\"65\" x=\"280\" y=\"54.7869\">«import»*</text></a><!--MD5=[af87c684e3b0d8be13c1a698a818ef1e]\n",
       "link E3 to E4--><a href=\"psysml:46e8547b-a8f1-46c9-aa96-df26a1cf1e34\" target=\"_top\" title=\"psysml:46e8547b-a8f1-46c9-aa96-df26a1cf1e34\" xlink:actuate=\"onRequest\" xlink:href=\"psysml:46e8547b-a8f1-46c9-aa96-df26a1cf1e34\" xlink:show=\"new\" xlink:title=\"psysml:46e8547b-a8f1-46c9-aa96-df26a1cf1e34\" xlink:type=\"simple\"><path d=\"M382,194.88 C382,202.7 382,211.41 382,219.66 \" fill=\"none\" id=\"E3-&gt;E4\" style=\"stroke: #383838; stroke-width: 1.0; stroke-dasharray: 7.0,7.0;\"/><polygon fill=\"#383838\" points=\"382,227.72,385,219.72,379,219.72,382,227.72\" style=\"stroke: #383838; stroke-width: 1.0;\"/><text fill=\"#000000\" font-family=\"sans-serif\" font-size=\"13\" lengthAdjust=\"spacingAndGlyphs\" textLength=\"64\" x=\"383\" y=\"215.7869\">«depend»</text></a><!--MD5=[1b7591eae5389033d8d09a9d6721a717]\n",
       "link E4 to E5--><a href=\"psysml:4580f085-b870-4b86-bde9-338fd4cc0a1d\" target=\"_top\" title=\"psysml:4580f085-b870-4b86-bde9-338fd4cc0a1d\" xlink:actuate=\"onRequest\" xlink:href=\"psysml:4580f085-b870-4b86-bde9-338fd4cc0a1d\" xlink:show=\"new\" xlink:title=\"psysml:4580f085-b870-4b86-bde9-338fd4cc0a1d\" xlink:type=\"simple\"><path d=\"M382,280.88 C382,288.7 382,297.41 382,305.66 \" fill=\"none\" id=\"E4-&gt;E5\" style=\"stroke: #383838; stroke-width: 1.0; stroke-dasharray: 7.0,7.0;\"/><polygon fill=\"#383838\" points=\"382,313.72,385,305.72,379,305.72,382,313.72\" style=\"stroke: #383838; stroke-width: 1.0;\"/><text fill=\"#000000\" font-family=\"sans-serif\" font-size=\"13\" lengthAdjust=\"spacingAndGlyphs\" textLength=\"64\" x=\"383\" y=\"301.7869\">«depend»</text></a><!--MD5=[c5e8897d989ce984f93528998a7150fe]\n",
       "link E8 to E6--><a href=\"psysml:ef6c4171-27e8-4274-afa9-e3f35902caaf\" target=\"_top\" title=\"psysml:ef6c4171-27e8-4274-afa9-e3f35902caaf\" xlink:actuate=\"onRequest\" xlink:href=\"psysml:ef6c4171-27e8-4274-afa9-e3f35902caaf\" xlink:show=\"new\" xlink:title=\"psysml:ef6c4171-27e8-4274-afa9-e3f35902caaf\" xlink:type=\"simple\"><path d=\"M92.49,183.06 C84.34,187.99 76.69,194.44 72,202.72 C68.54,208.82 67.62,216.03 68,223.05 \" fill=\"none\" id=\"E8-&gt;E6\" style=\"stroke: #383838; stroke-width: 1.0; stroke-dasharray: 7.0,7.0;\"/><polygon fill=\"#383838\" points=\"68.97,231.14,71.0061,222.8421,65.0479,223.5494,68.97,231.14\" style=\"stroke: #383838; stroke-width: 1.0;\"/><text fill=\"#000000\" font-family=\"sans-serif\" font-size=\"13\" lengthAdjust=\"spacingAndGlyphs\" textLength=\"64\" x=\"73\" y=\"215.7869\">«depend»</text></a><!--MD5=[bfa3c8b0d15052fdf50ae9310b491027]\n",
       "link E8 to E7--><a href=\"psysml:ef6c4171-27e8-4274-afa9-e3f35902caaf\" target=\"_top\" title=\"psysml:ef6c4171-27e8-4274-afa9-e3f35902caaf\" xlink:actuate=\"onRequest\" xlink:href=\"psysml:ef6c4171-27e8-4274-afa9-e3f35902caaf\" xlink:show=\"new\" xlink:title=\"psysml:ef6c4171-27e8-4274-afa9-e3f35902caaf\" xlink:type=\"simple\"><path d=\"M142.19,191.29 C148.65,201.34 156.38,213.37 163.31,224.14 \" fill=\"none\" id=\"E8-&gt;E7\" style=\"stroke: #383838; stroke-width: 1.0; stroke-dasharray: 7.0,7.0;\"/><polygon fill=\"#383838\" points=\"167.72,231.01,165.9148,222.6589,160.8688,225.905,167.72,231.01\" style=\"stroke: #383838; stroke-width: 1.0;\"/><text fill=\"#000000\" font-family=\"sans-serif\" font-size=\"13\" lengthAdjust=\"spacingAndGlyphs\" textLength=\"64\" x=\"160\" y=\"215.7869\">«depend»</text></a><!--MD5=[20c4aa212ff74b3ab6fcae4e32035733]\n",
       "@startuml\r\n",
       "skinparam ranksep 10\r\n",
       "skinparam rectangle {\r\n",
       " backgroundColor<<block>> LightGreen\r\n",
       "}\r\n",
       "skinparam monochrome true\r\n",
       "skinparam classbackgroundcolor white\r\n",
       "skinparam shadowing false\r\n",
       "skinparam wrapWidth 300\r\n",
       "hide circle\r\n",
       "\r\n",
       "package \"DependencyTest\" as E1  [[psysml:fa3e9fbf-effa-4977-80ec-fe6e8fa57f4d ]]  {\r\n",
       "package \"System\" as E2  [[psysml:10c1ae57-66e9-4db6-bc3d-37ac2db9914a ]]  {\r\n",
       "package \"Application Layer\" as E3  [[psysml:f00bbef0-e3df-4574-9254-08b97b82cdf9 ]]  {\r\n",
       "}\r\n",
       "package \"Service Layer\" as E4  [[psysml:ca2e3746-a8d0-4883-91df-79f98ad99c0c ]]  {\r\n",
       "}\r\n",
       "package \"Data Layer\" as E5  [[psysml:31612912-620e-4f5b-bfbe-0087437cb05d ]]  {\r\n",
       "}\r\n",
       "}\r\n",
       "comp usage \"x \" as E6  <<(T,blue) attribute>> [[psysml:af126b68-a763-4b5e-ae0f-74aa81d9e434 ]] {\r\n",
       "}\r\n",
       "comp usage \"y \" as E7  <<(T,blue) attribute>> [[psysml:a5153252-c77e-42e1-a87d-8eb1cf591399 ]] {\r\n",
       "}\r\n",
       "comp usage \"z \" as E8  <<(T,blue) attribute>> [[psysml:4fcd16ab-62c7-48db-8542-d458ee8b30b8 ]] {\r\n",
       "}\r\n",
       "}\r\n",
       "E1 ..> E2 [[psysml:feb54464-815e-4611-ad28-7085b6ccbd88 ]] : <<import>>*\r\n",
       "E3 ..>> E4 [[psysml:46e8547b-a8f1-46c9-aa96-df26a1cf1e34 ]] : <<depend>>\r\n",
       "E4 ..>> E5 [[psysml:4580f085-b870-4b86-bde9-338fd4cc0a1d ]] : <<depend>>\r\n",
       "E8 ..>> E6 [[psysml:ef6c4171-27e8-4274-afa9-e3f35902caaf ]] : <<depend>>\r\n",
       "E8 ..>> E7 [[psysml:ef6c4171-27e8-4274-afa9-e3f35902caaf ]] : <<depend>>\r\n",
       "@enduml\r\n",
       "\n",
       "PlantUML version 1.2020.13(Sat Jun 13 12:26:38 UTC 2020)\n",
       "(EPL source distribution)\n",
       "Java Runtime: OpenJDK Runtime Environment\n",
       "JVM: OpenJDK 64-Bit Server VM\n",
       "Default Encoding: UTF-8\n",
       "Language: en\n",
       "Country: null\n",
       "--></g></svg>"
      ]
     },
     "execution_count": 40,
     "metadata": {},
     "output_type": "execute_result"
    }
   ],
   "source": [
    "%viz --style=\"DEFAULT\" --view=\"Interconnection\" \"DependencyTest\""
   ]
  },
  {
   "cell_type": "code",
   "execution_count": 41,
   "id": "855265d0",
   "metadata": {
    "execution": {
     "iopub.execute_input": "2022-04-22T09:48:08.733891Z",
     "iopub.status.busy": "2022-04-22T09:48:08.733418Z",
     "iopub.status.idle": "2022-04-22T09:48:08.738429Z",
     "shell.execute_reply": "2022-04-22T09:48:08.738822Z"
    }
   },
   "outputs": [
    {
     "data": {
      "image/svg+xml": [
       "<?xml version=\"1.0\" encoding=\"UTF-8\" standalone=\"no\"?><svg xmlns=\"http://www.w3.org/2000/svg\" xmlns:xlink=\"http://www.w3.org/1999/xlink\" contentScriptType=\"application/ecmascript\" contentStyleType=\"text/css\" height=\"12px\" preserveAspectRatio=\"none\" style=\"width:12px;height:12px;\" version=\"1.1\" viewBox=\"0 0 12 12\" width=\"12px\" zoomAndPan=\"magnify\"><defs/><g><!--MD5=[388f21188e31bfdd97050473b19af356]\n",
       "@startuml\r\n",
       "skinparam ranksep 8\r\n",
       "skinparam monochrome true\r\n",
       "skinparam classbackgroundcolor white\r\n",
       "skinparam shadowing false\r\n",
       "skinparam wrapWidth 300\r\n",
       "hide circle\r\n",
       "\r\n",
       "@enduml\r\n",
       "\n",
       "PlantUML version 1.2020.13(Sat Jun 13 12:26:38 UTC 2020)\n",
       "(EPL source distribution)\n",
       "Java Runtime: OpenJDK Runtime Environment\n",
       "JVM: OpenJDK 64-Bit Server VM\n",
       "Default Encoding: UTF-8\n",
       "Language: en\n",
       "Country: null\n",
       "--></g></svg>"
      ]
     },
     "execution_count": 41,
     "metadata": {},
     "output_type": "execute_result"
    }
   ],
   "source": [
    "%viz --style=\"DEFAULT\" --view=\"Action\" \"DependencyTest\""
   ]
  },
  {
   "cell_type": "code",
   "execution_count": 42,
   "id": "ca8288ca",
   "metadata": {
    "execution": {
     "iopub.execute_input": "2022-04-22T09:48:08.788613Z",
     "iopub.status.busy": "2022-04-22T09:48:08.788112Z",
     "iopub.status.idle": "2022-04-22T09:48:08.792866Z",
     "shell.execute_reply": "2022-04-22T09:48:08.793168Z"
    }
   },
   "outputs": [
    {
     "data": {
      "image/svg+xml": [
       "<?xml version=\"1.0\" encoding=\"UTF-8\" standalone=\"no\"?><svg xmlns=\"http://www.w3.org/2000/svg\" xmlns:xlink=\"http://www.w3.org/1999/xlink\" contentScriptType=\"application/ecmascript\" contentStyleType=\"text/css\" height=\"12px\" preserveAspectRatio=\"none\" style=\"width:12px;height:12px;\" version=\"1.1\" viewBox=\"0 0 12 12\" width=\"12px\" zoomAndPan=\"magnify\"><defs/><g><!--MD5=[0b72472770326784bf6c2b53246e1e64]\n",
       "@startuml\r\n",
       "skinparam roundcorner 20\r\n",
       "skinparam BoxPadding 20\r\n",
       "skinparam SequenceBoxBackgroundColor #white\r\n",
       "skinparam style strictuml\r\n",
       "skinparam maxMessageSize 100\r\n",
       "skinparam monochrome true\r\n",
       "skinparam classbackgroundcolor white\r\n",
       "skinparam shadowing false\r\n",
       "skinparam wrapWidth 300\r\n",
       "hide circle\r\n",
       "\r\n",
       "@enduml\r\n",
       "\n",
       "PlantUML version 1.2020.13(Sat Jun 13 12:26:38 UTC 2020)\n",
       "(EPL source distribution)\n",
       "Java Runtime: OpenJDK Runtime Environment\n",
       "JVM: OpenJDK 64-Bit Server VM\n",
       "Default Encoding: UTF-8\n",
       "Language: en\n",
       "Country: null\n",
       "--></g></svg>"
      ]
     },
     "execution_count": 42,
     "metadata": {},
     "output_type": "execute_result"
    }
   ],
   "source": [
    "%viz --style=\"DEFAULT\" --view=\"Sequence\" \"DependencyTest\""
   ]
  },
  {
   "cell_type": "code",
   "execution_count": 43,
   "id": "563692a2",
   "metadata": {
    "execution": {
     "iopub.execute_input": "2022-04-22T09:48:08.843163Z",
     "iopub.status.busy": "2022-04-22T09:48:08.842750Z",
     "iopub.status.idle": "2022-04-22T09:48:08.878725Z",
     "shell.execute_reply": "2022-04-22T09:48:08.878213Z"
    }
   },
   "outputs": [
    {
     "data": {
      "image/svg+xml": [
       "<?xml version=\"1.0\" encoding=\"UTF-8\" standalone=\"no\"?><svg xmlns=\"http://www.w3.org/2000/svg\" xmlns:xlink=\"http://www.w3.org/1999/xlink\" contentScriptType=\"application/ecmascript\" contentStyleType=\"text/css\" height=\"552px\" preserveAspectRatio=\"none\" style=\"width:536px;height:552px;\" version=\"1.1\" viewBox=\"0 0 536 552\" width=\"536px\" zoomAndPan=\"magnify\"><defs/><g><!--MD5=[fbc87193dbaf4d95561dea2c320d4a47]\n",
       "cluster E1--><a href=\"psysml:fa3e9fbf-effa-4977-80ec-fe6e8fa57f4d\" target=\"_top\" title=\"psysml:fa3e9fbf-effa-4977-80ec-fe6e8fa57f4d\" xlink:actuate=\"onRequest\" xlink:href=\"psysml:fa3e9fbf-effa-4977-80ec-fe6e8fa57f4d\" xlink:show=\"new\" xlink:title=\"psysml:fa3e9fbf-effa-4977-80ec-fe6e8fa57f4d\" xlink:type=\"simple\"><polygon fill=\"#FFFFFF\" points=\"16,6,142,6,149,28.2969,514,28.2969,514,540.72,16,540.72,16,6\" style=\"stroke: #000000; stroke-width: 1.5;\"/><line style=\"stroke: #000000; stroke-width: 1.5;\" x1=\"16\" x2=\"149\" y1=\"28.2969\" y2=\"28.2969\"/><text fill=\"#000000\" font-family=\"sans-serif\" font-size=\"14\" font-weight=\"bold\" lengthAdjust=\"spacingAndGlyphs\" textLength=\"120\" x=\"20\" y=\"20.9951\">DependencyTest</text></a><!--MD5=[e4f7fae6ed58524ba242bb0b0d3be6b7]\n",
       "cluster E2--><a href=\"psysml:10c1ae57-66e9-4db6-bc3d-37ac2db9914a\" target=\"_top\" title=\"psysml:10c1ae57-66e9-4db6-bc3d-37ac2db9914a\" xlink:actuate=\"onRequest\" xlink:href=\"psysml:10c1ae57-66e9-4db6-bc3d-37ac2db9914a\" xlink:show=\"new\" xlink:title=\"psysml:10c1ae57-66e9-4db6-bc3d-37ac2db9914a\" xlink:type=\"simple\"><polygon fill=\"#FFFFFF\" points=\"271,120.72,328,120.72,335,143.0169,474,143.0169,474,500.72,271,500.72,271,120.72\" style=\"stroke: #000000; stroke-width: 1.5;\"/><line style=\"stroke: #000000; stroke-width: 1.5;\" x1=\"271\" x2=\"335\" y1=\"143.0169\" y2=\"143.0169\"/><text fill=\"#000000\" font-family=\"sans-serif\" font-size=\"14\" font-weight=\"bold\" lengthAdjust=\"spacingAndGlyphs\" textLength=\"51\" x=\"275\" y=\"135.7151\">System</text></a><!--MD5=[60a26617385b1d2d0262a64233df1f8d]\n",
       "class E6--><a href=\"psysml:af126b68-a763-4b5e-ae0f-74aa81d9e434\" target=\"_top\" title=\"psysml:af126b68-a763-4b5e-ae0f-74aa81d9e434\" xlink:actuate=\"onRequest\" xlink:href=\"psysml:af126b68-a763-4b5e-ae0f-74aa81d9e434\" xlink:show=\"new\" xlink:title=\"psysml:af126b68-a763-4b5e-ae0f-74aa81d9e434\" xlink:type=\"simple\"><rect fill=\"#FFFFFF\" height=\"45.9375\" id=\"E6\" rx=\"10\" ry=\"10\" style=\"stroke: #383838; stroke-width: 1.5;\" width=\"71\" x=\"40.5\" y=\"297.22\"/><text fill=\"#000000\" font-family=\"sans-serif\" font-size=\"12\" font-style=\"italic\" lengthAdjust=\"spacingAndGlyphs\" textLength=\"69\" x=\"41.5\" y=\"313.3587\">«attribute»</text><text fill=\"#000000\" font-family=\"sans-serif\" font-size=\"12\" lengthAdjust=\"spacingAndGlyphs\" textLength=\"6\" x=\"71\" y=\"327.3274\">x</text><line style=\"stroke: #383838; stroke-width: 1.5;\" x1=\"41.5\" x2=\"110.5\" y1=\"335.1575\" y2=\"335.1575\"/></a><!--MD5=[2156ba9850f5573cc1fc38a6a4b2f02b]\n",
       "class E7--><a href=\"psysml:a5153252-c77e-42e1-a87d-8eb1cf591399\" target=\"_top\" title=\"psysml:a5153252-c77e-42e1-a87d-8eb1cf591399\" xlink:actuate=\"onRequest\" xlink:href=\"psysml:a5153252-c77e-42e1-a87d-8eb1cf591399\" xlink:show=\"new\" xlink:title=\"psysml:a5153252-c77e-42e1-a87d-8eb1cf591399\" xlink:type=\"simple\"><rect fill=\"#FFFFFF\" height=\"45.9375\" id=\"E7\" rx=\"10\" ry=\"10\" style=\"stroke: #383838; stroke-width: 1.5;\" width=\"71\" x=\"146.5\" y=\"297.22\"/><text fill=\"#000000\" font-family=\"sans-serif\" font-size=\"12\" font-style=\"italic\" lengthAdjust=\"spacingAndGlyphs\" textLength=\"69\" x=\"147.5\" y=\"313.3587\">«attribute»</text><text fill=\"#000000\" font-family=\"sans-serif\" font-size=\"12\" lengthAdjust=\"spacingAndGlyphs\" textLength=\"6\" x=\"177\" y=\"327.3274\">y</text><line style=\"stroke: #383838; stroke-width: 1.5;\" x1=\"147.5\" x2=\"216.5\" y1=\"335.1575\" y2=\"335.1575\"/></a><!--MD5=[b9389687b975829384b498ac4b7476b2]\n",
       "class E8--><a href=\"psysml:4fcd16ab-62c7-48db-8542-d458ee8b30b8\" target=\"_top\" title=\"psysml:4fcd16ab-62c7-48db-8542-d458ee8b30b8\" xlink:actuate=\"onRequest\" xlink:href=\"psysml:4fcd16ab-62c7-48db-8542-d458ee8b30b8\" xlink:show=\"new\" xlink:title=\"psysml:4fcd16ab-62c7-48db-8542-d458ee8b30b8\" xlink:type=\"simple\"><rect fill=\"#FFFFFF\" height=\"45.9375\" id=\"E8\" rx=\"10\" ry=\"10\" style=\"stroke: #383838; stroke-width: 1.5;\" width=\"71\" x=\"92.5\" y=\"167.22\"/><text fill=\"#000000\" font-family=\"sans-serif\" font-size=\"12\" font-style=\"italic\" lengthAdjust=\"spacingAndGlyphs\" textLength=\"69\" x=\"93.5\" y=\"183.3587\">«attribute»</text><text fill=\"#000000\" font-family=\"sans-serif\" font-size=\"12\" lengthAdjust=\"spacingAndGlyphs\" textLength=\"5\" x=\"123.5\" y=\"197.3274\">z</text><line style=\"stroke: #383838; stroke-width: 1.5;\" x1=\"93.5\" x2=\"162.5\" y1=\"205.1575\" y2=\"205.1575\"/></a><a href=\"psysml:f00bbef0-e3df-4574-9254-08b97b82cdf9\" target=\"_top\" title=\"psysml:f00bbef0-e3df-4574-9254-08b97b82cdf9\" xlink:actuate=\"onRequest\" xlink:href=\"psysml:f00bbef0-e3df-4574-9254-08b97b82cdf9\" xlink:show=\"new\" xlink:title=\"psysml:f00bbef0-e3df-4574-9254-08b97b82cdf9\" xlink:type=\"simple\"><polygon fill=\"#FFFFFF\" points=\"314.5,163.72,435.5,163.72,442.5,186.0169,449.5,186.0169,449.5,216.3138,314.5,216.3138,314.5,163.72\" style=\"stroke: #000000; stroke-width: 1.5;\"/><line style=\"stroke: #000000; stroke-width: 1.5;\" x1=\"314.5\" x2=\"442.5\" y1=\"186.0169\" y2=\"186.0169\"/><text fill=\"#000000\" font-family=\"sans-serif\" font-size=\"14\" font-weight=\"bold\" lengthAdjust=\"spacingAndGlyphs\" textLength=\"115\" x=\"318.5\" y=\"178.7151\">Application Layer</text></a><a href=\"psysml:ca2e3746-a8d0-4883-91df-79f98ad99c0c\" target=\"_top\" title=\"psysml:ca2e3746-a8d0-4883-91df-79f98ad99c0c\" xlink:actuate=\"onRequest\" xlink:href=\"psysml:ca2e3746-a8d0-4883-91df-79f98ad99c0c\" xlink:show=\"new\" xlink:title=\"psysml:ca2e3746-a8d0-4883-91df-79f98ad99c0c\" xlink:type=\"simple\"><polygon fill=\"#FFFFFF\" points=\"327,293.72,423,293.72,430,316.0169,437,316.0169,437,346.3138,327,346.3138,327,293.72\" style=\"stroke: #000000; stroke-width: 1.5;\"/><line style=\"stroke: #000000; stroke-width: 1.5;\" x1=\"327\" x2=\"430\" y1=\"316.0169\" y2=\"316.0169\"/><text fill=\"#000000\" font-family=\"sans-serif\" font-size=\"14\" font-weight=\"bold\" lengthAdjust=\"spacingAndGlyphs\" textLength=\"90\" x=\"331\" y=\"308.7151\">Service Layer</text></a><a href=\"psysml:31612912-620e-4f5b-bfbe-0087437cb05d\" target=\"_top\" title=\"psysml:31612912-620e-4f5b-bfbe-0087437cb05d\" xlink:actuate=\"onRequest\" xlink:href=\"psysml:31612912-620e-4f5b-bfbe-0087437cb05d\" xlink:show=\"new\" xlink:title=\"psysml:31612912-620e-4f5b-bfbe-0087437cb05d\" xlink:type=\"simple\"><polygon fill=\"#FFFFFF\" points=\"336,423.72,414,423.72,421,446.0169,428,446.0169,428,476.3138,336,476.3138,336,423.72\" style=\"stroke: #000000; stroke-width: 1.5;\"/><line style=\"stroke: #000000; stroke-width: 1.5;\" x1=\"336\" x2=\"421\" y1=\"446.0169\" y2=\"446.0169\"/><text fill=\"#000000\" font-family=\"sans-serif\" font-size=\"14\" font-weight=\"bold\" lengthAdjust=\"spacingAndGlyphs\" textLength=\"72\" x=\"340\" y=\"438.7151\">Data Layer</text></a><!--MD5=[1f1cd8e6dd4c1b2ca2aaccc9b9bcea6e]\n",
       "link E1 to E2--><a href=\"psysml:feb54464-815e-4611-ad28-7085b6ccbd88\" target=\"_top\" title=\"psysml:feb54464-815e-4611-ad28-7085b6ccbd88\" xlink:actuate=\"onRequest\" xlink:href=\"psysml:feb54464-815e-4611-ad28-7085b6ccbd88\" xlink:show=\"new\" xlink:title=\"psysml:feb54464-815e-4611-ad28-7085b6ccbd88\" xlink:type=\"simple\"><path d=\"M279,33.83 C279,36.15 279,73.83 279,111.5 C279,113.8544 279,116.2087 279,118.5544 C279,119.1408 279,119.7267 279,120.3119 \" fill=\"none\" id=\"E1-&gt;E2\" style=\"stroke: #383838; stroke-width: 1.0; stroke-dasharray: 7.0,7.0;\"/><polygon fill=\"#383838\" points=\"279,120.3119,283,111.3119,279,115.3119,275,111.3119,279,120.3119\" style=\"stroke: #383838; stroke-width: 1.0;\"/><text fill=\"#000000\" font-family=\"sans-serif\" font-size=\"13\" lengthAdjust=\"spacingAndGlyphs\" textLength=\"65\" x=\"280\" y=\"76.7869\">«import»*</text></a><!--MD5=[af87c684e3b0d8be13c1a698a818ef1e]\n",
       "link E3 to E4--><a href=\"psysml:46e8547b-a8f1-46c9-aa96-df26a1cf1e34\" target=\"_top\" title=\"psysml:46e8547b-a8f1-46c9-aa96-df26a1cf1e34\" xlink:actuate=\"onRequest\" xlink:href=\"psysml:46e8547b-a8f1-46c9-aa96-df26a1cf1e34\" xlink:show=\"new\" xlink:title=\"psysml:46e8547b-a8f1-46c9-aa96-df26a1cf1e34\" xlink:type=\"simple\"><path d=\"M382,216.82 C382,236.52 382,263.94 382,285.45 \" fill=\"none\" id=\"E3-&gt;E4\" style=\"stroke: #383838; stroke-width: 1.0; stroke-dasharray: 7.0,7.0;\"/><polygon fill=\"#383838\" points=\"382,293.67,385,285.67,379,285.67,382,293.67\" style=\"stroke: #383838; stroke-width: 1.0;\"/><text fill=\"#000000\" font-family=\"sans-serif\" font-size=\"13\" lengthAdjust=\"spacingAndGlyphs\" textLength=\"64\" x=\"383\" y=\"259.7869\">«depend»</text></a><!--MD5=[1b7591eae5389033d8d09a9d6721a717]\n",
       "link E4 to E5--><a href=\"psysml:4580f085-b870-4b86-bde9-338fd4cc0a1d\" target=\"_top\" title=\"psysml:4580f085-b870-4b86-bde9-338fd4cc0a1d\" xlink:actuate=\"onRequest\" xlink:href=\"psysml:4580f085-b870-4b86-bde9-338fd4cc0a1d\" xlink:show=\"new\" xlink:title=\"psysml:4580f085-b870-4b86-bde9-338fd4cc0a1d\" xlink:type=\"simple\"><path d=\"M382,346.82 C382,366.52 382,393.94 382,415.45 \" fill=\"none\" id=\"E4-&gt;E5\" style=\"stroke: #383838; stroke-width: 1.0; stroke-dasharray: 7.0,7.0;\"/><polygon fill=\"#383838\" points=\"382,423.67,385,415.67,379,415.67,382,423.67\" style=\"stroke: #383838; stroke-width: 1.0;\"/><text fill=\"#000000\" font-family=\"sans-serif\" font-size=\"13\" lengthAdjust=\"spacingAndGlyphs\" textLength=\"64\" x=\"383\" y=\"389.7869\">«depend»</text></a><!--MD5=[c5e8897d989ce984f93528998a7150fe]\n",
       "link E8 to E6--><a href=\"psysml:ef6c4171-27e8-4274-afa9-e3f35902caaf\" target=\"_top\" title=\"psysml:ef6c4171-27e8-4274-afa9-e3f35902caaf\" xlink:actuate=\"onRequest\" xlink:href=\"psysml:ef6c4171-27e8-4274-afa9-e3f35902caaf\" xlink:show=\"new\" xlink:title=\"psysml:ef6c4171-27e8-4274-afa9-e3f35902caaf\" xlink:type=\"simple\"><path d=\"M97.42,213.32 C87.35,222.4 77.37,233.83 72,246.72 C66.5,259.92 66.66,275.66 68.54,289.1 \" fill=\"none\" id=\"E8-&gt;E6\" style=\"stroke: #383838; stroke-width: 1.0; stroke-dasharray: 7.0,7.0;\"/><polygon fill=\"#383838\" points=\"69.9,297.12,71.517,288.7304,65.6018,289.7359,69.9,297.12\" style=\"stroke: #383838; stroke-width: 1.0;\"/><text fill=\"#000000\" font-family=\"sans-serif\" font-size=\"13\" lengthAdjust=\"spacingAndGlyphs\" textLength=\"64\" x=\"73\" y=\"259.7869\">«depend»</text></a><!--MD5=[bfa3c8b0d15052fdf50ae9310b491027]\n",
       "link E8 to E7--><a href=\"psysml:ef6c4171-27e8-4274-afa9-e3f35902caaf\" target=\"_top\" title=\"psysml:ef6c4171-27e8-4274-afa9-e3f35902caaf\" xlink:actuate=\"onRequest\" xlink:href=\"psysml:ef6c4171-27e8-4274-afa9-e3f35902caaf\" xlink:show=\"new\" xlink:title=\"psysml:ef6c4171-27e8-4274-afa9-e3f35902caaf\" xlink:type=\"simple\"><path d=\"M137.28,213.22 C146.17,234.29 159.64,266.22 169.47,289.53 \" fill=\"none\" id=\"E8-&gt;E7\" style=\"stroke: #383838; stroke-width: 1.0; stroke-dasharray: 7.0,7.0;\"/><polygon fill=\"#383838\" points=\"172.66,297.07,172.3241,288.5326,166.7933,290.8585,172.66,297.07\" style=\"stroke: #383838; stroke-width: 1.0;\"/><text fill=\"#000000\" font-family=\"sans-serif\" font-size=\"13\" lengthAdjust=\"spacingAndGlyphs\" textLength=\"64\" x=\"159\" y=\"259.7869\">«depend»</text></a><!--MD5=[813909f4ceacd487a27c1241348baedb]\n",
       "@startuml\r\n",
       "skinparam monochrome true\r\n",
       "skinparam classbackgroundcolor white\r\n",
       "skinparam shadowing false\r\n",
       "skinparam wrapWidth 300\r\n",
       "hide circle\r\n",
       "\r\n",
       "package \"DependencyTest\" as E1  [[psysml:fa3e9fbf-effa-4977-80ec-fe6e8fa57f4d ]]  {\r\n",
       "package \"System\" as E2  [[psysml:10c1ae57-66e9-4db6-bc3d-37ac2db9914a ]]  {\r\n",
       "package \"Application Layer\" as E3  [[psysml:f00bbef0-e3df-4574-9254-08b97b82cdf9 ]]  {\r\n",
       "}\r\n",
       "package \"Service Layer\" as E4  [[psysml:ca2e3746-a8d0-4883-91df-79f98ad99c0c ]]  {\r\n",
       "}\r\n",
       "package \"Data Layer\" as E5  [[psysml:31612912-620e-4f5b-bfbe-0087437cb05d ]]  {\r\n",
       "}\r\n",
       "}\r\n",
       "comp usage \"x \" as E6  <<(T,blue) attribute>> [[psysml:af126b68-a763-4b5e-ae0f-74aa81d9e434 ]] {\r\n",
       "}\r\n",
       "comp usage \"y \" as E7  <<(T,blue) attribute>> [[psysml:a5153252-c77e-42e1-a87d-8eb1cf591399 ]] {\r\n",
       "}\r\n",
       "comp usage \"z \" as E8  <<(T,blue) attribute>> [[psysml:4fcd16ab-62c7-48db-8542-d458ee8b30b8 ]] {\r\n",
       "}\r\n",
       "}\r\n",
       "E1 ..> E2 [[psysml:feb54464-815e-4611-ad28-7085b6ccbd88 ]] : <<import>>*\r\n",
       "E3 ..>> E4 [[psysml:46e8547b-a8f1-46c9-aa96-df26a1cf1e34 ]] : <<depend>>\r\n",
       "E4 ..>> E5 [[psysml:4580f085-b870-4b86-bde9-338fd4cc0a1d ]] : <<depend>>\r\n",
       "E8 ..>> E6 [[psysml:ef6c4171-27e8-4274-afa9-e3f35902caaf ]] : <<depend>>\r\n",
       "E8 ..>> E7 [[psysml:ef6c4171-27e8-4274-afa9-e3f35902caaf ]] : <<depend>>\r\n",
       "@enduml\r\n",
       "\n",
       "PlantUML version 1.2020.13(Sat Jun 13 12:26:38 UTC 2020)\n",
       "(EPL source distribution)\n",
       "Java Runtime: OpenJDK Runtime Environment\n",
       "JVM: OpenJDK 64-Bit Server VM\n",
       "Default Encoding: UTF-8\n",
       "Language: en\n",
       "Country: null\n",
       "--></g></svg>"
      ]
     },
     "execution_count": 43,
     "metadata": {},
     "output_type": "execute_result"
    }
   ],
   "source": [
    "%viz --style=\"DEFAULT\" --view=\"MIXED\" \"DependencyTest\""
   ]
  },
  {
   "cell_type": "code",
   "execution_count": 44,
   "id": "e607dd23",
   "metadata": {
    "execution": {
     "iopub.execute_input": "2022-04-22T09:48:08.927605Z",
     "iopub.status.busy": "2022-04-22T09:48:08.927161Z",
     "iopub.status.idle": "2022-04-22T09:48:08.963146Z",
     "shell.execute_reply": "2022-04-22T09:48:08.962762Z"
    }
   },
   "outputs": [
    {
     "data": {
      "image/svg+xml": [
       "<?xml version=\"1.0\" encoding=\"UTF-8\" standalone=\"no\"?><svg xmlns=\"http://www.w3.org/2000/svg\" xmlns:xlink=\"http://www.w3.org/1999/xlink\" contentScriptType=\"application/ecmascript\" contentStyleType=\"text/css\" height=\"552px\" preserveAspectRatio=\"none\" style=\"width:536px;height:552px;\" version=\"1.1\" viewBox=\"0 0 536 552\" width=\"536px\" zoomAndPan=\"magnify\"><defs/><g><!--MD5=[fbc87193dbaf4d95561dea2c320d4a47]\n",
       "cluster E1--><a href=\"psysml:fa3e9fbf-effa-4977-80ec-fe6e8fa57f4d\" target=\"_top\" title=\"psysml:fa3e9fbf-effa-4977-80ec-fe6e8fa57f4d\" xlink:actuate=\"onRequest\" xlink:href=\"psysml:fa3e9fbf-effa-4977-80ec-fe6e8fa57f4d\" xlink:show=\"new\" xlink:title=\"psysml:fa3e9fbf-effa-4977-80ec-fe6e8fa57f4d\" xlink:type=\"simple\"><polygon fill=\"#FFFFFF\" points=\"16,6,142,6,149,28.2969,514,28.2969,514,540.72,16,540.72,16,6\" style=\"stroke: #000000; stroke-width: 1.5;\"/><line style=\"stroke: #000000; stroke-width: 1.5;\" x1=\"16\" x2=\"149\" y1=\"28.2969\" y2=\"28.2969\"/><text fill=\"#000000\" font-family=\"sans-serif\" font-size=\"14\" font-weight=\"bold\" lengthAdjust=\"spacingAndGlyphs\" textLength=\"120\" x=\"20\" y=\"20.9951\">DependencyTest</text></a><!--MD5=[e4f7fae6ed58524ba242bb0b0d3be6b7]\n",
       "cluster E2--><a href=\"psysml:10c1ae57-66e9-4db6-bc3d-37ac2db9914a\" target=\"_top\" title=\"psysml:10c1ae57-66e9-4db6-bc3d-37ac2db9914a\" xlink:actuate=\"onRequest\" xlink:href=\"psysml:10c1ae57-66e9-4db6-bc3d-37ac2db9914a\" xlink:show=\"new\" xlink:title=\"psysml:10c1ae57-66e9-4db6-bc3d-37ac2db9914a\" xlink:type=\"simple\"><polygon fill=\"#FFFFFF\" points=\"271,120.72,328,120.72,335,143.0169,474,143.0169,474,500.72,271,500.72,271,120.72\" style=\"stroke: #000000; stroke-width: 1.5;\"/><line style=\"stroke: #000000; stroke-width: 1.5;\" x1=\"271\" x2=\"335\" y1=\"143.0169\" y2=\"143.0169\"/><text fill=\"#000000\" font-family=\"sans-serif\" font-size=\"14\" font-weight=\"bold\" lengthAdjust=\"spacingAndGlyphs\" textLength=\"51\" x=\"275\" y=\"135.7151\">System</text></a><!--MD5=[60a26617385b1d2d0262a64233df1f8d]\n",
       "class E6--><a href=\"psysml:af126b68-a763-4b5e-ae0f-74aa81d9e434\" target=\"_top\" title=\"psysml:af126b68-a763-4b5e-ae0f-74aa81d9e434\" xlink:actuate=\"onRequest\" xlink:href=\"psysml:af126b68-a763-4b5e-ae0f-74aa81d9e434\" xlink:show=\"new\" xlink:title=\"psysml:af126b68-a763-4b5e-ae0f-74aa81d9e434\" xlink:type=\"simple\"><rect fill=\"#FFFFFF\" height=\"45.9375\" id=\"E6\" rx=\"10\" ry=\"10\" style=\"stroke: #383838; stroke-width: 1.5;\" width=\"71\" x=\"40.5\" y=\"297.22\"/><text fill=\"#000000\" font-family=\"sans-serif\" font-size=\"12\" font-style=\"italic\" lengthAdjust=\"spacingAndGlyphs\" textLength=\"69\" x=\"41.5\" y=\"313.3587\">«attribute»</text><text fill=\"#000000\" font-family=\"sans-serif\" font-size=\"12\" lengthAdjust=\"spacingAndGlyphs\" textLength=\"6\" x=\"71\" y=\"327.3274\">x</text><line style=\"stroke: #383838; stroke-width: 1.5;\" x1=\"41.5\" x2=\"110.5\" y1=\"335.1575\" y2=\"335.1575\"/></a><!--MD5=[2156ba9850f5573cc1fc38a6a4b2f02b]\n",
       "class E7--><a href=\"psysml:a5153252-c77e-42e1-a87d-8eb1cf591399\" target=\"_top\" title=\"psysml:a5153252-c77e-42e1-a87d-8eb1cf591399\" xlink:actuate=\"onRequest\" xlink:href=\"psysml:a5153252-c77e-42e1-a87d-8eb1cf591399\" xlink:show=\"new\" xlink:title=\"psysml:a5153252-c77e-42e1-a87d-8eb1cf591399\" xlink:type=\"simple\"><rect fill=\"#FFFFFF\" height=\"45.9375\" id=\"E7\" rx=\"10\" ry=\"10\" style=\"stroke: #383838; stroke-width: 1.5;\" width=\"71\" x=\"146.5\" y=\"297.22\"/><text fill=\"#000000\" font-family=\"sans-serif\" font-size=\"12\" font-style=\"italic\" lengthAdjust=\"spacingAndGlyphs\" textLength=\"69\" x=\"147.5\" y=\"313.3587\">«attribute»</text><text fill=\"#000000\" font-family=\"sans-serif\" font-size=\"12\" lengthAdjust=\"spacingAndGlyphs\" textLength=\"6\" x=\"177\" y=\"327.3274\">y</text><line style=\"stroke: #383838; stroke-width: 1.5;\" x1=\"147.5\" x2=\"216.5\" y1=\"335.1575\" y2=\"335.1575\"/></a><!--MD5=[b9389687b975829384b498ac4b7476b2]\n",
       "class E8--><a href=\"psysml:4fcd16ab-62c7-48db-8542-d458ee8b30b8\" target=\"_top\" title=\"psysml:4fcd16ab-62c7-48db-8542-d458ee8b30b8\" xlink:actuate=\"onRequest\" xlink:href=\"psysml:4fcd16ab-62c7-48db-8542-d458ee8b30b8\" xlink:show=\"new\" xlink:title=\"psysml:4fcd16ab-62c7-48db-8542-d458ee8b30b8\" xlink:type=\"simple\"><rect fill=\"#FFFFFF\" height=\"45.9375\" id=\"E8\" rx=\"10\" ry=\"10\" style=\"stroke: #383838; stroke-width: 1.5;\" width=\"71\" x=\"92.5\" y=\"167.22\"/><text fill=\"#000000\" font-family=\"sans-serif\" font-size=\"12\" font-style=\"italic\" lengthAdjust=\"spacingAndGlyphs\" textLength=\"69\" x=\"93.5\" y=\"183.3587\">«attribute»</text><text fill=\"#000000\" font-family=\"sans-serif\" font-size=\"12\" lengthAdjust=\"spacingAndGlyphs\" textLength=\"5\" x=\"123.5\" y=\"197.3274\">z</text><line style=\"stroke: #383838; stroke-width: 1.5;\" x1=\"93.5\" x2=\"162.5\" y1=\"205.1575\" y2=\"205.1575\"/></a><a href=\"psysml:f00bbef0-e3df-4574-9254-08b97b82cdf9\" target=\"_top\" title=\"psysml:f00bbef0-e3df-4574-9254-08b97b82cdf9\" xlink:actuate=\"onRequest\" xlink:href=\"psysml:f00bbef0-e3df-4574-9254-08b97b82cdf9\" xlink:show=\"new\" xlink:title=\"psysml:f00bbef0-e3df-4574-9254-08b97b82cdf9\" xlink:type=\"simple\"><polygon fill=\"#FFFFFF\" points=\"314.5,163.72,435.5,163.72,442.5,186.0169,449.5,186.0169,449.5,216.3138,314.5,216.3138,314.5,163.72\" style=\"stroke: #000000; stroke-width: 1.5;\"/><line style=\"stroke: #000000; stroke-width: 1.5;\" x1=\"314.5\" x2=\"442.5\" y1=\"186.0169\" y2=\"186.0169\"/><text fill=\"#000000\" font-family=\"sans-serif\" font-size=\"14\" font-weight=\"bold\" lengthAdjust=\"spacingAndGlyphs\" textLength=\"115\" x=\"318.5\" y=\"178.7151\">Application Layer</text></a><a href=\"psysml:ca2e3746-a8d0-4883-91df-79f98ad99c0c\" target=\"_top\" title=\"psysml:ca2e3746-a8d0-4883-91df-79f98ad99c0c\" xlink:actuate=\"onRequest\" xlink:href=\"psysml:ca2e3746-a8d0-4883-91df-79f98ad99c0c\" xlink:show=\"new\" xlink:title=\"psysml:ca2e3746-a8d0-4883-91df-79f98ad99c0c\" xlink:type=\"simple\"><polygon fill=\"#FFFFFF\" points=\"327,293.72,423,293.72,430,316.0169,437,316.0169,437,346.3138,327,346.3138,327,293.72\" style=\"stroke: #000000; stroke-width: 1.5;\"/><line style=\"stroke: #000000; stroke-width: 1.5;\" x1=\"327\" x2=\"430\" y1=\"316.0169\" y2=\"316.0169\"/><text fill=\"#000000\" font-family=\"sans-serif\" font-size=\"14\" font-weight=\"bold\" lengthAdjust=\"spacingAndGlyphs\" textLength=\"90\" x=\"331\" y=\"308.7151\">Service Layer</text></a><a href=\"psysml:31612912-620e-4f5b-bfbe-0087437cb05d\" target=\"_top\" title=\"psysml:31612912-620e-4f5b-bfbe-0087437cb05d\" xlink:actuate=\"onRequest\" xlink:href=\"psysml:31612912-620e-4f5b-bfbe-0087437cb05d\" xlink:show=\"new\" xlink:title=\"psysml:31612912-620e-4f5b-bfbe-0087437cb05d\" xlink:type=\"simple\"><polygon fill=\"#FFFFFF\" points=\"336,423.72,414,423.72,421,446.0169,428,446.0169,428,476.3138,336,476.3138,336,423.72\" style=\"stroke: #000000; stroke-width: 1.5;\"/><line style=\"stroke: #000000; stroke-width: 1.5;\" x1=\"336\" x2=\"421\" y1=\"446.0169\" y2=\"446.0169\"/><text fill=\"#000000\" font-family=\"sans-serif\" font-size=\"14\" font-weight=\"bold\" lengthAdjust=\"spacingAndGlyphs\" textLength=\"72\" x=\"340\" y=\"438.7151\">Data Layer</text></a><!--MD5=[1f1cd8e6dd4c1b2ca2aaccc9b9bcea6e]\n",
       "link E1 to E2--><a href=\"psysml:feb54464-815e-4611-ad28-7085b6ccbd88\" target=\"_top\" title=\"psysml:feb54464-815e-4611-ad28-7085b6ccbd88\" xlink:actuate=\"onRequest\" xlink:href=\"psysml:feb54464-815e-4611-ad28-7085b6ccbd88\" xlink:show=\"new\" xlink:title=\"psysml:feb54464-815e-4611-ad28-7085b6ccbd88\" xlink:type=\"simple\"><path d=\"M279,33.83 C279,36.15 279,73.83 279,111.5 C279,113.8544 279,116.2087 279,118.5544 C279,119.1408 279,119.7267 279,120.3119 \" fill=\"none\" id=\"E1-&gt;E2\" style=\"stroke: #383838; stroke-width: 1.0; stroke-dasharray: 7.0,7.0;\"/><polygon fill=\"#383838\" points=\"279,120.3119,283,111.3119,279,115.3119,275,111.3119,279,120.3119\" style=\"stroke: #383838; stroke-width: 1.0;\"/><text fill=\"#000000\" font-family=\"sans-serif\" font-size=\"13\" lengthAdjust=\"spacingAndGlyphs\" textLength=\"65\" x=\"280\" y=\"76.7869\">«import»*</text></a><!--MD5=[af87c684e3b0d8be13c1a698a818ef1e]\n",
       "link E3 to E4--><a href=\"psysml:46e8547b-a8f1-46c9-aa96-df26a1cf1e34\" target=\"_top\" title=\"psysml:46e8547b-a8f1-46c9-aa96-df26a1cf1e34\" xlink:actuate=\"onRequest\" xlink:href=\"psysml:46e8547b-a8f1-46c9-aa96-df26a1cf1e34\" xlink:show=\"new\" xlink:title=\"psysml:46e8547b-a8f1-46c9-aa96-df26a1cf1e34\" xlink:type=\"simple\"><path d=\"M382,216.82 C382,236.52 382,263.94 382,285.45 \" fill=\"none\" id=\"E3-&gt;E4\" style=\"stroke: #383838; stroke-width: 1.0; stroke-dasharray: 7.0,7.0;\"/><polygon fill=\"#383838\" points=\"382,293.67,385,285.67,379,285.67,382,293.67\" style=\"stroke: #383838; stroke-width: 1.0;\"/><text fill=\"#000000\" font-family=\"sans-serif\" font-size=\"13\" lengthAdjust=\"spacingAndGlyphs\" textLength=\"64\" x=\"383\" y=\"259.7869\">«depend»</text></a><!--MD5=[1b7591eae5389033d8d09a9d6721a717]\n",
       "link E4 to E5--><a href=\"psysml:4580f085-b870-4b86-bde9-338fd4cc0a1d\" target=\"_top\" title=\"psysml:4580f085-b870-4b86-bde9-338fd4cc0a1d\" xlink:actuate=\"onRequest\" xlink:href=\"psysml:4580f085-b870-4b86-bde9-338fd4cc0a1d\" xlink:show=\"new\" xlink:title=\"psysml:4580f085-b870-4b86-bde9-338fd4cc0a1d\" xlink:type=\"simple\"><path d=\"M382,346.82 C382,366.52 382,393.94 382,415.45 \" fill=\"none\" id=\"E4-&gt;E5\" style=\"stroke: #383838; stroke-width: 1.0; stroke-dasharray: 7.0,7.0;\"/><polygon fill=\"#383838\" points=\"382,423.67,385,415.67,379,415.67,382,423.67\" style=\"stroke: #383838; stroke-width: 1.0;\"/><text fill=\"#000000\" font-family=\"sans-serif\" font-size=\"13\" lengthAdjust=\"spacingAndGlyphs\" textLength=\"64\" x=\"383\" y=\"389.7869\">«depend»</text></a><!--MD5=[c5e8897d989ce984f93528998a7150fe]\n",
       "link E8 to E6--><a href=\"psysml:ef6c4171-27e8-4274-afa9-e3f35902caaf\" target=\"_top\" title=\"psysml:ef6c4171-27e8-4274-afa9-e3f35902caaf\" xlink:actuate=\"onRequest\" xlink:href=\"psysml:ef6c4171-27e8-4274-afa9-e3f35902caaf\" xlink:show=\"new\" xlink:title=\"psysml:ef6c4171-27e8-4274-afa9-e3f35902caaf\" xlink:type=\"simple\"><path d=\"M97.42,213.32 C87.35,222.4 77.37,233.83 72,246.72 C66.5,259.92 66.66,275.66 68.54,289.1 \" fill=\"none\" id=\"E8-&gt;E6\" style=\"stroke: #383838; stroke-width: 1.0; stroke-dasharray: 7.0,7.0;\"/><polygon fill=\"#383838\" points=\"69.9,297.12,71.517,288.7304,65.6018,289.7359,69.9,297.12\" style=\"stroke: #383838; stroke-width: 1.0;\"/><text fill=\"#000000\" font-family=\"sans-serif\" font-size=\"13\" lengthAdjust=\"spacingAndGlyphs\" textLength=\"64\" x=\"73\" y=\"259.7869\">«depend»</text></a><!--MD5=[bfa3c8b0d15052fdf50ae9310b491027]\n",
       "link E8 to E7--><a href=\"psysml:ef6c4171-27e8-4274-afa9-e3f35902caaf\" target=\"_top\" title=\"psysml:ef6c4171-27e8-4274-afa9-e3f35902caaf\" xlink:actuate=\"onRequest\" xlink:href=\"psysml:ef6c4171-27e8-4274-afa9-e3f35902caaf\" xlink:show=\"new\" xlink:title=\"psysml:ef6c4171-27e8-4274-afa9-e3f35902caaf\" xlink:type=\"simple\"><path d=\"M137.28,213.22 C146.17,234.29 159.64,266.22 169.47,289.53 \" fill=\"none\" id=\"E8-&gt;E7\" style=\"stroke: #383838; stroke-width: 1.0; stroke-dasharray: 7.0,7.0;\"/><polygon fill=\"#383838\" points=\"172.66,297.07,172.3241,288.5326,166.7933,290.8585,172.66,297.07\" style=\"stroke: #383838; stroke-width: 1.0;\"/><text fill=\"#000000\" font-family=\"sans-serif\" font-size=\"13\" lengthAdjust=\"spacingAndGlyphs\" textLength=\"64\" x=\"159\" y=\"259.7869\">«depend»</text></a><!--MD5=[054dfde049c74b9b43761703bcad3612]\n",
       "@startuml\r\n",
       "top to bottom direction\r\n",
       "skinparam monochrome true\r\n",
       "skinparam classbackgroundcolor white\r\n",
       "skinparam shadowing false\r\n",
       "skinparam wrapWidth 300\r\n",
       "hide circle\r\n",
       "\r\n",
       "package \"DependencyTest\" as E1  [[psysml:fa3e9fbf-effa-4977-80ec-fe6e8fa57f4d ]]  {\r\n",
       "package \"System\" as E2  [[psysml:10c1ae57-66e9-4db6-bc3d-37ac2db9914a ]]  {\r\n",
       "package \"Application Layer\" as E3  [[psysml:f00bbef0-e3df-4574-9254-08b97b82cdf9 ]]  {\r\n",
       "}\r\n",
       "package \"Service Layer\" as E4  [[psysml:ca2e3746-a8d0-4883-91df-79f98ad99c0c ]]  {\r\n",
       "}\r\n",
       "package \"Data Layer\" as E5  [[psysml:31612912-620e-4f5b-bfbe-0087437cb05d ]]  {\r\n",
       "}\r\n",
       "}\r\n",
       "comp usage \"x \" as E6  <<(T,blue) attribute>> [[psysml:af126b68-a763-4b5e-ae0f-74aa81d9e434 ]] {\r\n",
       "}\r\n",
       "comp usage \"y \" as E7  <<(T,blue) attribute>> [[psysml:a5153252-c77e-42e1-a87d-8eb1cf591399 ]] {\r\n",
       "}\r\n",
       "comp usage \"z \" as E8  <<(T,blue) attribute>> [[psysml:4fcd16ab-62c7-48db-8542-d458ee8b30b8 ]] {\r\n",
       "}\r\n",
       "}\r\n",
       "E1 ..> E2 [[psysml:feb54464-815e-4611-ad28-7085b6ccbd88 ]] : <<import>>*\r\n",
       "E3 ..>> E4 [[psysml:46e8547b-a8f1-46c9-aa96-df26a1cf1e34 ]] : <<depend>>\r\n",
       "E4 ..>> E5 [[psysml:4580f085-b870-4b86-bde9-338fd4cc0a1d ]] : <<depend>>\r\n",
       "E8 ..>> E6 [[psysml:ef6c4171-27e8-4274-afa9-e3f35902caaf ]] : <<depend>>\r\n",
       "E8 ..>> E7 [[psysml:ef6c4171-27e8-4274-afa9-e3f35902caaf ]] : <<depend>>\r\n",
       "@enduml\r\n",
       "\n",
       "PlantUML version 1.2020.13(Sat Jun 13 12:26:38 UTC 2020)\n",
       "(EPL source distribution)\n",
       "Java Runtime: OpenJDK Runtime Environment\n",
       "JVM: OpenJDK 64-Bit Server VM\n",
       "Default Encoding: UTF-8\n",
       "Language: en\n",
       "Country: null\n",
       "--></g></svg>"
      ]
     },
     "execution_count": 44,
     "metadata": {},
     "output_type": "execute_result"
    }
   ],
   "source": [
    "%viz --style=\"TB\" --view=\"Default\" \"DependencyTest\""
   ]
  },
  {
   "cell_type": "code",
   "execution_count": 45,
   "id": "898cb3a7",
   "metadata": {
    "execution": {
     "iopub.execute_input": "2022-04-22T09:48:09.012436Z",
     "iopub.status.busy": "2022-04-22T09:48:09.012017Z",
     "iopub.status.idle": "2022-04-22T09:48:09.050988Z",
     "shell.execute_reply": "2022-04-22T09:48:09.049536Z"
    }
   },
   "outputs": [
    {
     "data": {
      "image/svg+xml": [
       "<?xml version=\"1.0\" encoding=\"UTF-8\" standalone=\"no\"?><svg xmlns=\"http://www.w3.org/2000/svg\" xmlns:xlink=\"http://www.w3.org/1999/xlink\" contentScriptType=\"application/ecmascript\" contentStyleType=\"text/css\" height=\"552px\" preserveAspectRatio=\"none\" style=\"width:536px;height:552px;\" version=\"1.1\" viewBox=\"0 0 536 552\" width=\"536px\" zoomAndPan=\"magnify\"><defs/><g><!--MD5=[fbc87193dbaf4d95561dea2c320d4a47]\n",
       "cluster E1--><a href=\"psysml:fa3e9fbf-effa-4977-80ec-fe6e8fa57f4d\" target=\"_top\" title=\"psysml:fa3e9fbf-effa-4977-80ec-fe6e8fa57f4d\" xlink:actuate=\"onRequest\" xlink:href=\"psysml:fa3e9fbf-effa-4977-80ec-fe6e8fa57f4d\" xlink:show=\"new\" xlink:title=\"psysml:fa3e9fbf-effa-4977-80ec-fe6e8fa57f4d\" xlink:type=\"simple\"><polygon fill=\"#FFFFFF\" points=\"16,6,142,6,149,28.2969,514,28.2969,514,540.72,16,540.72,16,6\" style=\"stroke: #000000; stroke-width: 1.5;\"/><line style=\"stroke: #000000; stroke-width: 1.5;\" x1=\"16\" x2=\"149\" y1=\"28.2969\" y2=\"28.2969\"/><text fill=\"#000000\" font-family=\"sans-serif\" font-size=\"14\" font-weight=\"bold\" lengthAdjust=\"spacingAndGlyphs\" textLength=\"120\" x=\"20\" y=\"20.9951\">DependencyTest</text></a><!--MD5=[e4f7fae6ed58524ba242bb0b0d3be6b7]\n",
       "cluster E2--><a href=\"psysml:10c1ae57-66e9-4db6-bc3d-37ac2db9914a\" target=\"_top\" title=\"psysml:10c1ae57-66e9-4db6-bc3d-37ac2db9914a\" xlink:actuate=\"onRequest\" xlink:href=\"psysml:10c1ae57-66e9-4db6-bc3d-37ac2db9914a\" xlink:show=\"new\" xlink:title=\"psysml:10c1ae57-66e9-4db6-bc3d-37ac2db9914a\" xlink:type=\"simple\"><polygon fill=\"#FFFFFF\" points=\"271,120.72,328,120.72,335,143.0169,474,143.0169,474,500.72,271,500.72,271,120.72\" style=\"stroke: #000000; stroke-width: 1.5;\"/><line style=\"stroke: #000000; stroke-width: 1.5;\" x1=\"271\" x2=\"335\" y1=\"143.0169\" y2=\"143.0169\"/><text fill=\"#000000\" font-family=\"sans-serif\" font-size=\"14\" font-weight=\"bold\" lengthAdjust=\"spacingAndGlyphs\" textLength=\"51\" x=\"275\" y=\"135.7151\">System</text></a><!--MD5=[60a26617385b1d2d0262a64233df1f8d]\n",
       "class E6--><a href=\"psysml:af126b68-a763-4b5e-ae0f-74aa81d9e434\" target=\"_top\" title=\"psysml:af126b68-a763-4b5e-ae0f-74aa81d9e434\" xlink:actuate=\"onRequest\" xlink:href=\"psysml:af126b68-a763-4b5e-ae0f-74aa81d9e434\" xlink:show=\"new\" xlink:title=\"psysml:af126b68-a763-4b5e-ae0f-74aa81d9e434\" xlink:type=\"simple\"><rect fill=\"#FFFFFF\" height=\"45.9375\" id=\"E6\" rx=\"10\" ry=\"10\" style=\"stroke: #383838; stroke-width: 1.5;\" width=\"71\" x=\"40.5\" y=\"297.22\"/><text fill=\"#000000\" font-family=\"sans-serif\" font-size=\"12\" font-style=\"italic\" lengthAdjust=\"spacingAndGlyphs\" textLength=\"69\" x=\"41.5\" y=\"313.3587\">«attribute»</text><text fill=\"#000000\" font-family=\"sans-serif\" font-size=\"12\" lengthAdjust=\"spacingAndGlyphs\" textLength=\"6\" x=\"71\" y=\"327.3274\">x</text><line style=\"stroke: #383838; stroke-width: 1.5;\" x1=\"41.5\" x2=\"110.5\" y1=\"335.1575\" y2=\"335.1575\"/></a><!--MD5=[2156ba9850f5573cc1fc38a6a4b2f02b]\n",
       "class E7--><a href=\"psysml:a5153252-c77e-42e1-a87d-8eb1cf591399\" target=\"_top\" title=\"psysml:a5153252-c77e-42e1-a87d-8eb1cf591399\" xlink:actuate=\"onRequest\" xlink:href=\"psysml:a5153252-c77e-42e1-a87d-8eb1cf591399\" xlink:show=\"new\" xlink:title=\"psysml:a5153252-c77e-42e1-a87d-8eb1cf591399\" xlink:type=\"simple\"><rect fill=\"#FFFFFF\" height=\"45.9375\" id=\"E7\" rx=\"10\" ry=\"10\" style=\"stroke: #383838; stroke-width: 1.5;\" width=\"71\" x=\"146.5\" y=\"297.22\"/><text fill=\"#000000\" font-family=\"sans-serif\" font-size=\"12\" font-style=\"italic\" lengthAdjust=\"spacingAndGlyphs\" textLength=\"69\" x=\"147.5\" y=\"313.3587\">«attribute»</text><text fill=\"#000000\" font-family=\"sans-serif\" font-size=\"12\" lengthAdjust=\"spacingAndGlyphs\" textLength=\"6\" x=\"177\" y=\"327.3274\">y</text><line style=\"stroke: #383838; stroke-width: 1.5;\" x1=\"147.5\" x2=\"216.5\" y1=\"335.1575\" y2=\"335.1575\"/></a><!--MD5=[b9389687b975829384b498ac4b7476b2]\n",
       "class E8--><a href=\"psysml:4fcd16ab-62c7-48db-8542-d458ee8b30b8\" target=\"_top\" title=\"psysml:4fcd16ab-62c7-48db-8542-d458ee8b30b8\" xlink:actuate=\"onRequest\" xlink:href=\"psysml:4fcd16ab-62c7-48db-8542-d458ee8b30b8\" xlink:show=\"new\" xlink:title=\"psysml:4fcd16ab-62c7-48db-8542-d458ee8b30b8\" xlink:type=\"simple\"><rect fill=\"#FFFFFF\" height=\"45.9375\" id=\"E8\" rx=\"10\" ry=\"10\" style=\"stroke: #383838; stroke-width: 1.5;\" width=\"71\" x=\"92.5\" y=\"167.22\"/><text fill=\"#000000\" font-family=\"sans-serif\" font-size=\"12\" font-style=\"italic\" lengthAdjust=\"spacingAndGlyphs\" textLength=\"69\" x=\"93.5\" y=\"183.3587\">«attribute»</text><text fill=\"#000000\" font-family=\"sans-serif\" font-size=\"12\" lengthAdjust=\"spacingAndGlyphs\" textLength=\"5\" x=\"123.5\" y=\"197.3274\">z</text><line style=\"stroke: #383838; stroke-width: 1.5;\" x1=\"93.5\" x2=\"162.5\" y1=\"205.1575\" y2=\"205.1575\"/></a><a href=\"psysml:f00bbef0-e3df-4574-9254-08b97b82cdf9\" target=\"_top\" title=\"psysml:f00bbef0-e3df-4574-9254-08b97b82cdf9\" xlink:actuate=\"onRequest\" xlink:href=\"psysml:f00bbef0-e3df-4574-9254-08b97b82cdf9\" xlink:show=\"new\" xlink:title=\"psysml:f00bbef0-e3df-4574-9254-08b97b82cdf9\" xlink:type=\"simple\"><polygon fill=\"#FFFFFF\" points=\"314.5,163.72,435.5,163.72,442.5,186.0169,449.5,186.0169,449.5,216.3138,314.5,216.3138,314.5,163.72\" style=\"stroke: #000000; stroke-width: 1.5;\"/><line style=\"stroke: #000000; stroke-width: 1.5;\" x1=\"314.5\" x2=\"442.5\" y1=\"186.0169\" y2=\"186.0169\"/><text fill=\"#000000\" font-family=\"sans-serif\" font-size=\"14\" font-weight=\"bold\" lengthAdjust=\"spacingAndGlyphs\" textLength=\"115\" x=\"318.5\" y=\"178.7151\">Application Layer</text></a><a href=\"psysml:ca2e3746-a8d0-4883-91df-79f98ad99c0c\" target=\"_top\" title=\"psysml:ca2e3746-a8d0-4883-91df-79f98ad99c0c\" xlink:actuate=\"onRequest\" xlink:href=\"psysml:ca2e3746-a8d0-4883-91df-79f98ad99c0c\" xlink:show=\"new\" xlink:title=\"psysml:ca2e3746-a8d0-4883-91df-79f98ad99c0c\" xlink:type=\"simple\"><polygon fill=\"#FFFFFF\" points=\"327,293.72,423,293.72,430,316.0169,437,316.0169,437,346.3138,327,346.3138,327,293.72\" style=\"stroke: #000000; stroke-width: 1.5;\"/><line style=\"stroke: #000000; stroke-width: 1.5;\" x1=\"327\" x2=\"430\" y1=\"316.0169\" y2=\"316.0169\"/><text fill=\"#000000\" font-family=\"sans-serif\" font-size=\"14\" font-weight=\"bold\" lengthAdjust=\"spacingAndGlyphs\" textLength=\"90\" x=\"331\" y=\"308.7151\">Service Layer</text></a><a href=\"psysml:31612912-620e-4f5b-bfbe-0087437cb05d\" target=\"_top\" title=\"psysml:31612912-620e-4f5b-bfbe-0087437cb05d\" xlink:actuate=\"onRequest\" xlink:href=\"psysml:31612912-620e-4f5b-bfbe-0087437cb05d\" xlink:show=\"new\" xlink:title=\"psysml:31612912-620e-4f5b-bfbe-0087437cb05d\" xlink:type=\"simple\"><polygon fill=\"#FFFFFF\" points=\"336,423.72,414,423.72,421,446.0169,428,446.0169,428,476.3138,336,476.3138,336,423.72\" style=\"stroke: #000000; stroke-width: 1.5;\"/><line style=\"stroke: #000000; stroke-width: 1.5;\" x1=\"336\" x2=\"421\" y1=\"446.0169\" y2=\"446.0169\"/><text fill=\"#000000\" font-family=\"sans-serif\" font-size=\"14\" font-weight=\"bold\" lengthAdjust=\"spacingAndGlyphs\" textLength=\"72\" x=\"340\" y=\"438.7151\">Data Layer</text></a><!--MD5=[1f1cd8e6dd4c1b2ca2aaccc9b9bcea6e]\n",
       "link E1 to E2--><a href=\"psysml:feb54464-815e-4611-ad28-7085b6ccbd88\" target=\"_top\" title=\"psysml:feb54464-815e-4611-ad28-7085b6ccbd88\" xlink:actuate=\"onRequest\" xlink:href=\"psysml:feb54464-815e-4611-ad28-7085b6ccbd88\" xlink:show=\"new\" xlink:title=\"psysml:feb54464-815e-4611-ad28-7085b6ccbd88\" xlink:type=\"simple\"><path d=\"M279,33.83 C279,36.15 279,73.83 279,111.5 C279,113.8544 279,116.2087 279,118.5544 C279,119.1408 279,119.7267 279,120.3119 \" fill=\"none\" id=\"E1-&gt;E2\" style=\"stroke: #383838; stroke-width: 1.0; stroke-dasharray: 7.0,7.0;\"/><polygon fill=\"#383838\" points=\"279,120.3119,283,111.3119,279,115.3119,275,111.3119,279,120.3119\" style=\"stroke: #383838; stroke-width: 1.0;\"/><text fill=\"#000000\" font-family=\"sans-serif\" font-size=\"13\" lengthAdjust=\"spacingAndGlyphs\" textLength=\"65\" x=\"280\" y=\"76.7869\">«import»*</text></a><!--MD5=[af87c684e3b0d8be13c1a698a818ef1e]\n",
       "link E3 to E4--><a href=\"psysml:46e8547b-a8f1-46c9-aa96-df26a1cf1e34\" target=\"_top\" title=\"psysml:46e8547b-a8f1-46c9-aa96-df26a1cf1e34\" xlink:actuate=\"onRequest\" xlink:href=\"psysml:46e8547b-a8f1-46c9-aa96-df26a1cf1e34\" xlink:show=\"new\" xlink:title=\"psysml:46e8547b-a8f1-46c9-aa96-df26a1cf1e34\" xlink:type=\"simple\"><path d=\"M382,216.82 C382,236.52 382,263.94 382,285.45 \" fill=\"none\" id=\"E3-&gt;E4\" style=\"stroke: #383838; stroke-width: 1.0; stroke-dasharray: 7.0,7.0;\"/><polygon fill=\"#383838\" points=\"382,293.67,385,285.67,379,285.67,382,293.67\" style=\"stroke: #383838; stroke-width: 1.0;\"/><text fill=\"#000000\" font-family=\"sans-serif\" font-size=\"13\" lengthAdjust=\"spacingAndGlyphs\" textLength=\"64\" x=\"383\" y=\"259.7869\">«depend»</text></a><!--MD5=[1b7591eae5389033d8d09a9d6721a717]\n",
       "link E4 to E5--><a href=\"psysml:4580f085-b870-4b86-bde9-338fd4cc0a1d\" target=\"_top\" title=\"psysml:4580f085-b870-4b86-bde9-338fd4cc0a1d\" xlink:actuate=\"onRequest\" xlink:href=\"psysml:4580f085-b870-4b86-bde9-338fd4cc0a1d\" xlink:show=\"new\" xlink:title=\"psysml:4580f085-b870-4b86-bde9-338fd4cc0a1d\" xlink:type=\"simple\"><path d=\"M382,346.82 C382,366.52 382,393.94 382,415.45 \" fill=\"none\" id=\"E4-&gt;E5\" style=\"stroke: #383838; stroke-width: 1.0; stroke-dasharray: 7.0,7.0;\"/><polygon fill=\"#383838\" points=\"382,423.67,385,415.67,379,415.67,382,423.67\" style=\"stroke: #383838; stroke-width: 1.0;\"/><text fill=\"#000000\" font-family=\"sans-serif\" font-size=\"13\" lengthAdjust=\"spacingAndGlyphs\" textLength=\"64\" x=\"383\" y=\"389.7869\">«depend»</text></a><!--MD5=[c5e8897d989ce984f93528998a7150fe]\n",
       "link E8 to E6--><a href=\"psysml:ef6c4171-27e8-4274-afa9-e3f35902caaf\" target=\"_top\" title=\"psysml:ef6c4171-27e8-4274-afa9-e3f35902caaf\" xlink:actuate=\"onRequest\" xlink:href=\"psysml:ef6c4171-27e8-4274-afa9-e3f35902caaf\" xlink:show=\"new\" xlink:title=\"psysml:ef6c4171-27e8-4274-afa9-e3f35902caaf\" xlink:type=\"simple\"><path d=\"M97.42,213.32 C87.35,222.4 77.37,233.83 72,246.72 C66.5,259.92 66.66,275.66 68.54,289.1 \" fill=\"none\" id=\"E8-&gt;E6\" style=\"stroke: #383838; stroke-width: 1.0; stroke-dasharray: 7.0,7.0;\"/><polygon fill=\"#383838\" points=\"69.9,297.12,71.517,288.7304,65.6018,289.7359,69.9,297.12\" style=\"stroke: #383838; stroke-width: 1.0;\"/><text fill=\"#000000\" font-family=\"sans-serif\" font-size=\"13\" lengthAdjust=\"spacingAndGlyphs\" textLength=\"64\" x=\"73\" y=\"259.7869\">«depend»</text></a><!--MD5=[bfa3c8b0d15052fdf50ae9310b491027]\n",
       "link E8 to E7--><a href=\"psysml:ef6c4171-27e8-4274-afa9-e3f35902caaf\" target=\"_top\" title=\"psysml:ef6c4171-27e8-4274-afa9-e3f35902caaf\" xlink:actuate=\"onRequest\" xlink:href=\"psysml:ef6c4171-27e8-4274-afa9-e3f35902caaf\" xlink:show=\"new\" xlink:title=\"psysml:ef6c4171-27e8-4274-afa9-e3f35902caaf\" xlink:type=\"simple\"><path d=\"M137.28,213.22 C146.17,234.29 159.64,266.22 169.47,289.53 \" fill=\"none\" id=\"E8-&gt;E7\" style=\"stroke: #383838; stroke-width: 1.0; stroke-dasharray: 7.0,7.0;\"/><polygon fill=\"#383838\" points=\"172.66,297.07,172.3241,288.5326,166.7933,290.8585,172.66,297.07\" style=\"stroke: #383838; stroke-width: 1.0;\"/><text fill=\"#000000\" font-family=\"sans-serif\" font-size=\"13\" lengthAdjust=\"spacingAndGlyphs\" textLength=\"64\" x=\"159\" y=\"259.7869\">«depend»</text></a><!--MD5=[054dfde049c74b9b43761703bcad3612]\n",
       "@startuml\r\n",
       "top to bottom direction\r\n",
       "skinparam monochrome true\r\n",
       "skinparam classbackgroundcolor white\r\n",
       "skinparam shadowing false\r\n",
       "skinparam wrapWidth 300\r\n",
       "hide circle\r\n",
       "\r\n",
       "package \"DependencyTest\" as E1  [[psysml:fa3e9fbf-effa-4977-80ec-fe6e8fa57f4d ]]  {\r\n",
       "package \"System\" as E2  [[psysml:10c1ae57-66e9-4db6-bc3d-37ac2db9914a ]]  {\r\n",
       "package \"Application Layer\" as E3  [[psysml:f00bbef0-e3df-4574-9254-08b97b82cdf9 ]]  {\r\n",
       "}\r\n",
       "package \"Service Layer\" as E4  [[psysml:ca2e3746-a8d0-4883-91df-79f98ad99c0c ]]  {\r\n",
       "}\r\n",
       "package \"Data Layer\" as E5  [[psysml:31612912-620e-4f5b-bfbe-0087437cb05d ]]  {\r\n",
       "}\r\n",
       "}\r\n",
       "comp usage \"x \" as E6  <<(T,blue) attribute>> [[psysml:af126b68-a763-4b5e-ae0f-74aa81d9e434 ]] {\r\n",
       "}\r\n",
       "comp usage \"y \" as E7  <<(T,blue) attribute>> [[psysml:a5153252-c77e-42e1-a87d-8eb1cf591399 ]] {\r\n",
       "}\r\n",
       "comp usage \"z \" as E8  <<(T,blue) attribute>> [[psysml:4fcd16ab-62c7-48db-8542-d458ee8b30b8 ]] {\r\n",
       "}\r\n",
       "}\r\n",
       "E1 ..> E2 [[psysml:feb54464-815e-4611-ad28-7085b6ccbd88 ]] : <<import>>*\r\n",
       "E3 ..>> E4 [[psysml:46e8547b-a8f1-46c9-aa96-df26a1cf1e34 ]] : <<depend>>\r\n",
       "E4 ..>> E5 [[psysml:4580f085-b870-4b86-bde9-338fd4cc0a1d ]] : <<depend>>\r\n",
       "E8 ..>> E6 [[psysml:ef6c4171-27e8-4274-afa9-e3f35902caaf ]] : <<depend>>\r\n",
       "E8 ..>> E7 [[psysml:ef6c4171-27e8-4274-afa9-e3f35902caaf ]] : <<depend>>\r\n",
       "@enduml\r\n",
       "\n",
       "PlantUML version 1.2020.13(Sat Jun 13 12:26:38 UTC 2020)\n",
       "(EPL source distribution)\n",
       "Java Runtime: OpenJDK Runtime Environment\n",
       "JVM: OpenJDK 64-Bit Server VM\n",
       "Default Encoding: UTF-8\n",
       "Language: en\n",
       "Country: null\n",
       "--></g></svg>"
      ]
     },
     "execution_count": 45,
     "metadata": {},
     "output_type": "execute_result"
    }
   ],
   "source": [
    "%viz --style=\"TB\" --view=\"Tree\" \"DependencyTest\""
   ]
  },
  {
   "cell_type": "code",
   "execution_count": 46,
   "id": "11ef6013",
   "metadata": {
    "execution": {
     "iopub.execute_input": "2022-04-22T09:48:09.100284Z",
     "iopub.status.busy": "2022-04-22T09:48:09.099860Z",
     "iopub.status.idle": "2022-04-22T09:48:09.104775Z",
     "shell.execute_reply": "2022-04-22T09:48:09.104436Z"
    }
   },
   "outputs": [
    {
     "data": {
      "image/svg+xml": [
       "<?xml version=\"1.0\" encoding=\"UTF-8\" standalone=\"no\"?><svg xmlns=\"http://www.w3.org/2000/svg\" xmlns:xlink=\"http://www.w3.org/1999/xlink\" contentScriptType=\"application/ecmascript\" contentStyleType=\"text/css\" height=\"12px\" preserveAspectRatio=\"none\" style=\"width:12px;height:12px;\" version=\"1.1\" viewBox=\"0 0 12 12\" width=\"12px\" zoomAndPan=\"magnify\"><defs/><g><!--MD5=[f4ee21bc66e489b5061b7c3e9601fdef]\n",
       "@startuml\r\n",
       "top to bottom direction\r\n",
       "skinparam monochrome true\r\n",
       "skinparam classbackgroundcolor white\r\n",
       "skinparam shadowing false\r\n",
       "skinparam wrapWidth 300\r\n",
       "hide circle\r\n",
       "\r\n",
       "@enduml\r\n",
       "\n",
       "PlantUML version 1.2020.13(Sat Jun 13 12:26:38 UTC 2020)\n",
       "(EPL source distribution)\n",
       "Java Runtime: OpenJDK Runtime Environment\n",
       "JVM: OpenJDK 64-Bit Server VM\n",
       "Default Encoding: UTF-8\n",
       "Language: en\n",
       "Country: null\n",
       "--></g></svg>"
      ]
     },
     "execution_count": 46,
     "metadata": {},
     "output_type": "execute_result"
    }
   ],
   "source": [
    "%viz --style=\"TB\" --view=\"State\" \"DependencyTest\""
   ]
  },
  {
   "cell_type": "code",
   "execution_count": 47,
   "id": "4351ff20",
   "metadata": {
    "execution": {
     "iopub.execute_input": "2022-04-22T09:48:09.154787Z",
     "iopub.status.busy": "2022-04-22T09:48:09.154377Z",
     "iopub.status.idle": "2022-04-22T09:48:09.186338Z",
     "shell.execute_reply": "2022-04-22T09:48:09.185009Z"
    }
   },
   "outputs": [
    {
     "data": {
      "image/svg+xml": [
       "<?xml version=\"1.0\" encoding=\"UTF-8\" standalone=\"no\"?><svg xmlns=\"http://www.w3.org/2000/svg\" xmlns:xlink=\"http://www.w3.org/1999/xlink\" contentScriptType=\"application/ecmascript\" contentStyleType=\"text/css\" height=\"442px\" preserveAspectRatio=\"none\" style=\"width:536px;height:442px;\" version=\"1.1\" viewBox=\"0 0 536 442\" width=\"536px\" zoomAndPan=\"magnify\"><defs/><g><!--MD5=[fbc87193dbaf4d95561dea2c320d4a47]\n",
       "cluster E1--><a href=\"psysml:fa3e9fbf-effa-4977-80ec-fe6e8fa57f4d\" target=\"_top\" title=\"psysml:fa3e9fbf-effa-4977-80ec-fe6e8fa57f4d\" xlink:actuate=\"onRequest\" xlink:href=\"psysml:fa3e9fbf-effa-4977-80ec-fe6e8fa57f4d\" xlink:show=\"new\" xlink:title=\"psysml:fa3e9fbf-effa-4977-80ec-fe6e8fa57f4d\" xlink:type=\"simple\"><polygon fill=\"#FFFFFF\" points=\"16,6,142,6,149,28.2969,514,28.2969,514,430.72,16,430.72,16,6\" style=\"stroke: #000000; stroke-width: 1.5;\"/><line style=\"stroke: #000000; stroke-width: 1.5;\" x1=\"16\" x2=\"149\" y1=\"28.2969\" y2=\"28.2969\"/><text fill=\"#000000\" font-family=\"sans-serif\" font-size=\"14\" font-weight=\"bold\" lengthAdjust=\"spacingAndGlyphs\" textLength=\"120\" x=\"20\" y=\"20.9951\">DependencyTest</text></a><!--MD5=[e4f7fae6ed58524ba242bb0b0d3be6b7]\n",
       "cluster E2--><a href=\"psysml:10c1ae57-66e9-4db6-bc3d-37ac2db9914a\" target=\"_top\" title=\"psysml:10c1ae57-66e9-4db6-bc3d-37ac2db9914a\" xlink:actuate=\"onRequest\" xlink:href=\"psysml:10c1ae57-66e9-4db6-bc3d-37ac2db9914a\" xlink:show=\"new\" xlink:title=\"psysml:10c1ae57-66e9-4db6-bc3d-37ac2db9914a\" xlink:type=\"simple\"><polygon fill=\"#FFFFFF\" points=\"271,98.72,328,98.72,335,121.0169,474,121.0169,474,390.72,271,390.72,271,98.72\" style=\"stroke: #000000; stroke-width: 1.5;\"/><line style=\"stroke: #000000; stroke-width: 1.5;\" x1=\"271\" x2=\"335\" y1=\"121.0169\" y2=\"121.0169\"/><text fill=\"#000000\" font-family=\"sans-serif\" font-size=\"14\" font-weight=\"bold\" lengthAdjust=\"spacingAndGlyphs\" textLength=\"51\" x=\"275\" y=\"113.7151\">System</text></a><!--MD5=[60a26617385b1d2d0262a64233df1f8d]\n",
       "class E6--><a href=\"psysml:af126b68-a763-4b5e-ae0f-74aa81d9e434\" target=\"_top\" title=\"psysml:af126b68-a763-4b5e-ae0f-74aa81d9e434\" xlink:actuate=\"onRequest\" xlink:href=\"psysml:af126b68-a763-4b5e-ae0f-74aa81d9e434\" xlink:show=\"new\" xlink:title=\"psysml:af126b68-a763-4b5e-ae0f-74aa81d9e434\" xlink:type=\"simple\"><rect fill=\"#FFFFFF\" height=\"45.9375\" id=\"E6\" rx=\"10\" ry=\"10\" style=\"stroke: #383838; stroke-width: 1.5;\" width=\"71\" x=\"40.5\" y=\"231.22\"/><text fill=\"#000000\" font-family=\"sans-serif\" font-size=\"12\" font-style=\"italic\" lengthAdjust=\"spacingAndGlyphs\" textLength=\"69\" x=\"41.5\" y=\"247.3587\">«attribute»</text><text fill=\"#000000\" font-family=\"sans-serif\" font-size=\"12\" lengthAdjust=\"spacingAndGlyphs\" textLength=\"6\" x=\"71\" y=\"261.3274\">x</text><line style=\"stroke: #383838; stroke-width: 1.5;\" x1=\"41.5\" x2=\"110.5\" y1=\"269.1575\" y2=\"269.1575\"/></a><!--MD5=[2156ba9850f5573cc1fc38a6a4b2f02b]\n",
       "class E7--><a href=\"psysml:a5153252-c77e-42e1-a87d-8eb1cf591399\" target=\"_top\" title=\"psysml:a5153252-c77e-42e1-a87d-8eb1cf591399\" xlink:actuate=\"onRequest\" xlink:href=\"psysml:a5153252-c77e-42e1-a87d-8eb1cf591399\" xlink:show=\"new\" xlink:title=\"psysml:a5153252-c77e-42e1-a87d-8eb1cf591399\" xlink:type=\"simple\"><rect fill=\"#FFFFFF\" height=\"45.9375\" id=\"E7\" rx=\"10\" ry=\"10\" style=\"stroke: #383838; stroke-width: 1.5;\" width=\"71\" x=\"146.5\" y=\"231.22\"/><text fill=\"#000000\" font-family=\"sans-serif\" font-size=\"12\" font-style=\"italic\" lengthAdjust=\"spacingAndGlyphs\" textLength=\"69\" x=\"147.5\" y=\"247.3587\">«attribute»</text><text fill=\"#000000\" font-family=\"sans-serif\" font-size=\"12\" lengthAdjust=\"spacingAndGlyphs\" textLength=\"6\" x=\"177\" y=\"261.3274\">y</text><line style=\"stroke: #383838; stroke-width: 1.5;\" x1=\"147.5\" x2=\"216.5\" y1=\"269.1575\" y2=\"269.1575\"/></a><!--MD5=[b9389687b975829384b498ac4b7476b2]\n",
       "class E8--><a href=\"psysml:4fcd16ab-62c7-48db-8542-d458ee8b30b8\" target=\"_top\" title=\"psysml:4fcd16ab-62c7-48db-8542-d458ee8b30b8\" xlink:actuate=\"onRequest\" xlink:href=\"psysml:4fcd16ab-62c7-48db-8542-d458ee8b30b8\" xlink:show=\"new\" xlink:title=\"psysml:4fcd16ab-62c7-48db-8542-d458ee8b30b8\" xlink:type=\"simple\"><rect fill=\"#FFFFFF\" height=\"45.9375\" id=\"E8\" rx=\"10\" ry=\"10\" style=\"stroke: #383838; stroke-width: 1.5;\" width=\"71\" x=\"92.5\" y=\"145.22\"/><text fill=\"#000000\" font-family=\"sans-serif\" font-size=\"12\" font-style=\"italic\" lengthAdjust=\"spacingAndGlyphs\" textLength=\"69\" x=\"93.5\" y=\"161.3587\">«attribute»</text><text fill=\"#000000\" font-family=\"sans-serif\" font-size=\"12\" lengthAdjust=\"spacingAndGlyphs\" textLength=\"5\" x=\"123.5\" y=\"175.3274\">z</text><line style=\"stroke: #383838; stroke-width: 1.5;\" x1=\"93.5\" x2=\"162.5\" y1=\"183.1575\" y2=\"183.1575\"/></a><a href=\"psysml:f00bbef0-e3df-4574-9254-08b97b82cdf9\" target=\"_top\" title=\"psysml:f00bbef0-e3df-4574-9254-08b97b82cdf9\" xlink:actuate=\"onRequest\" xlink:href=\"psysml:f00bbef0-e3df-4574-9254-08b97b82cdf9\" xlink:show=\"new\" xlink:title=\"psysml:f00bbef0-e3df-4574-9254-08b97b82cdf9\" xlink:type=\"simple\"><polygon fill=\"#FFFFFF\" points=\"314.5,141.72,435.5,141.72,442.5,164.0169,449.5,164.0169,449.5,194.3138,314.5,194.3138,314.5,141.72\" style=\"stroke: #000000; stroke-width: 1.5;\"/><line style=\"stroke: #000000; stroke-width: 1.5;\" x1=\"314.5\" x2=\"442.5\" y1=\"164.0169\" y2=\"164.0169\"/><text fill=\"#000000\" font-family=\"sans-serif\" font-size=\"14\" font-weight=\"bold\" lengthAdjust=\"spacingAndGlyphs\" textLength=\"115\" x=\"318.5\" y=\"156.7151\">Application Layer</text></a><a href=\"psysml:ca2e3746-a8d0-4883-91df-79f98ad99c0c\" target=\"_top\" title=\"psysml:ca2e3746-a8d0-4883-91df-79f98ad99c0c\" xlink:actuate=\"onRequest\" xlink:href=\"psysml:ca2e3746-a8d0-4883-91df-79f98ad99c0c\" xlink:show=\"new\" xlink:title=\"psysml:ca2e3746-a8d0-4883-91df-79f98ad99c0c\" xlink:type=\"simple\"><polygon fill=\"#FFFFFF\" points=\"327,227.72,423,227.72,430,250.0169,437,250.0169,437,280.3138,327,280.3138,327,227.72\" style=\"stroke: #000000; stroke-width: 1.5;\"/><line style=\"stroke: #000000; stroke-width: 1.5;\" x1=\"327\" x2=\"430\" y1=\"250.0169\" y2=\"250.0169\"/><text fill=\"#000000\" font-family=\"sans-serif\" font-size=\"14\" font-weight=\"bold\" lengthAdjust=\"spacingAndGlyphs\" textLength=\"90\" x=\"331\" y=\"242.7151\">Service Layer</text></a><a href=\"psysml:31612912-620e-4f5b-bfbe-0087437cb05d\" target=\"_top\" title=\"psysml:31612912-620e-4f5b-bfbe-0087437cb05d\" xlink:actuate=\"onRequest\" xlink:href=\"psysml:31612912-620e-4f5b-bfbe-0087437cb05d\" xlink:show=\"new\" xlink:title=\"psysml:31612912-620e-4f5b-bfbe-0087437cb05d\" xlink:type=\"simple\"><polygon fill=\"#FFFFFF\" points=\"336,313.72,414,313.72,421,336.0169,428,336.0169,428,366.3138,336,366.3138,336,313.72\" style=\"stroke: #000000; stroke-width: 1.5;\"/><line style=\"stroke: #000000; stroke-width: 1.5;\" x1=\"336\" x2=\"421\" y1=\"336.0169\" y2=\"336.0169\"/><text fill=\"#000000\" font-family=\"sans-serif\" font-size=\"14\" font-weight=\"bold\" lengthAdjust=\"spacingAndGlyphs\" textLength=\"72\" x=\"340\" y=\"328.7151\">Data Layer</text></a><!--MD5=[1f1cd8e6dd4c1b2ca2aaccc9b9bcea6e]\n",
       "link E1 to E2--><a href=\"psysml:feb54464-815e-4611-ad28-7085b6ccbd88\" target=\"_top\" title=\"psysml:feb54464-815e-4611-ad28-7085b6ccbd88\" xlink:actuate=\"onRequest\" xlink:href=\"psysml:feb54464-815e-4611-ad28-7085b6ccbd88\" xlink:show=\"new\" xlink:title=\"psysml:feb54464-815e-4611-ad28-7085b6ccbd88\" xlink:type=\"simple\"><path d=\"M279,33.82 C279,34.815 279,43.3994 279,55.7775 C279,61.9666 279,69.1041 279,76.7155 C279,80.5213 279,84.4455 279,88.429 C279,90.4207 279,92.4272 279,94.4411 C279,95.448 279,96.4568 279,97.4665 C279,97.719 279,97.9714 279,98.224 \" fill=\"none\" id=\"E1-&gt;E2\" style=\"stroke: #383838; stroke-width: 1.0; stroke-dasharray: 7.0,7.0;\"/><polygon fill=\"#383838\" points=\"279,98.224,283,89.224,279,93.224,275,89.224,279,98.224\" style=\"stroke: #383838; stroke-width: 1.0;\"/><text fill=\"#000000\" font-family=\"sans-serif\" font-size=\"13\" lengthAdjust=\"spacingAndGlyphs\" textLength=\"65\" x=\"280\" y=\"54.7869\">«import»*</text></a><!--MD5=[af87c684e3b0d8be13c1a698a818ef1e]\n",
       "link E3 to E4--><a href=\"psysml:46e8547b-a8f1-46c9-aa96-df26a1cf1e34\" target=\"_top\" title=\"psysml:46e8547b-a8f1-46c9-aa96-df26a1cf1e34\" xlink:actuate=\"onRequest\" xlink:href=\"psysml:46e8547b-a8f1-46c9-aa96-df26a1cf1e34\" xlink:show=\"new\" xlink:title=\"psysml:46e8547b-a8f1-46c9-aa96-df26a1cf1e34\" xlink:type=\"simple\"><path d=\"M382,194.88 C382,202.7 382,211.41 382,219.66 \" fill=\"none\" id=\"E3-&gt;E4\" style=\"stroke: #383838; stroke-width: 1.0; stroke-dasharray: 7.0,7.0;\"/><polygon fill=\"#383838\" points=\"382,227.72,385,219.72,379,219.72,382,227.72\" style=\"stroke: #383838; stroke-width: 1.0;\"/><text fill=\"#000000\" font-family=\"sans-serif\" font-size=\"13\" lengthAdjust=\"spacingAndGlyphs\" textLength=\"64\" x=\"383\" y=\"215.7869\">«depend»</text></a><!--MD5=[1b7591eae5389033d8d09a9d6721a717]\n",
       "link E4 to E5--><a href=\"psysml:4580f085-b870-4b86-bde9-338fd4cc0a1d\" target=\"_top\" title=\"psysml:4580f085-b870-4b86-bde9-338fd4cc0a1d\" xlink:actuate=\"onRequest\" xlink:href=\"psysml:4580f085-b870-4b86-bde9-338fd4cc0a1d\" xlink:show=\"new\" xlink:title=\"psysml:4580f085-b870-4b86-bde9-338fd4cc0a1d\" xlink:type=\"simple\"><path d=\"M382,280.88 C382,288.7 382,297.41 382,305.66 \" fill=\"none\" id=\"E4-&gt;E5\" style=\"stroke: #383838; stroke-width: 1.0; stroke-dasharray: 7.0,7.0;\"/><polygon fill=\"#383838\" points=\"382,313.72,385,305.72,379,305.72,382,313.72\" style=\"stroke: #383838; stroke-width: 1.0;\"/><text fill=\"#000000\" font-family=\"sans-serif\" font-size=\"13\" lengthAdjust=\"spacingAndGlyphs\" textLength=\"64\" x=\"383\" y=\"301.7869\">«depend»</text></a><!--MD5=[c5e8897d989ce984f93528998a7150fe]\n",
       "link E8 to E6--><a href=\"psysml:ef6c4171-27e8-4274-afa9-e3f35902caaf\" target=\"_top\" title=\"psysml:ef6c4171-27e8-4274-afa9-e3f35902caaf\" xlink:actuate=\"onRequest\" xlink:href=\"psysml:ef6c4171-27e8-4274-afa9-e3f35902caaf\" xlink:show=\"new\" xlink:title=\"psysml:ef6c4171-27e8-4274-afa9-e3f35902caaf\" xlink:type=\"simple\"><path d=\"M92.49,183.06 C84.34,187.99 76.69,194.44 72,202.72 C68.54,208.82 67.62,216.03 68,223.05 \" fill=\"none\" id=\"E8-&gt;E6\" style=\"stroke: #383838; stroke-width: 1.0; stroke-dasharray: 7.0,7.0;\"/><polygon fill=\"#383838\" points=\"68.97,231.14,71.0061,222.8421,65.0479,223.5494,68.97,231.14\" style=\"stroke: #383838; stroke-width: 1.0;\"/><text fill=\"#000000\" font-family=\"sans-serif\" font-size=\"13\" lengthAdjust=\"spacingAndGlyphs\" textLength=\"64\" x=\"73\" y=\"215.7869\">«depend»</text></a><!--MD5=[bfa3c8b0d15052fdf50ae9310b491027]\n",
       "link E8 to E7--><a href=\"psysml:ef6c4171-27e8-4274-afa9-e3f35902caaf\" target=\"_top\" title=\"psysml:ef6c4171-27e8-4274-afa9-e3f35902caaf\" xlink:actuate=\"onRequest\" xlink:href=\"psysml:ef6c4171-27e8-4274-afa9-e3f35902caaf\" xlink:show=\"new\" xlink:title=\"psysml:ef6c4171-27e8-4274-afa9-e3f35902caaf\" xlink:type=\"simple\"><path d=\"M142.19,191.29 C148.65,201.34 156.38,213.37 163.31,224.14 \" fill=\"none\" id=\"E8-&gt;E7\" style=\"stroke: #383838; stroke-width: 1.0; stroke-dasharray: 7.0,7.0;\"/><polygon fill=\"#383838\" points=\"167.72,231.01,165.9148,222.6589,160.8688,225.905,167.72,231.01\" style=\"stroke: #383838; stroke-width: 1.0;\"/><text fill=\"#000000\" font-family=\"sans-serif\" font-size=\"13\" lengthAdjust=\"spacingAndGlyphs\" textLength=\"64\" x=\"160\" y=\"215.7869\">«depend»</text></a><!--MD5=[bc292731eeb7a312d3d296e231800af8]\n",
       "@startuml\r\n",
       "skinparam ranksep 10\r\n",
       "skinparam rectangle {\r\n",
       " backgroundColor<<block>> LightGreen\r\n",
       "}\r\n",
       "top to bottom direction\r\n",
       "skinparam monochrome true\r\n",
       "skinparam classbackgroundcolor white\r\n",
       "skinparam shadowing false\r\n",
       "skinparam wrapWidth 300\r\n",
       "hide circle\r\n",
       "\r\n",
       "package \"DependencyTest\" as E1  [[psysml:fa3e9fbf-effa-4977-80ec-fe6e8fa57f4d ]]  {\r\n",
       "package \"System\" as E2  [[psysml:10c1ae57-66e9-4db6-bc3d-37ac2db9914a ]]  {\r\n",
       "package \"Application Layer\" as E3  [[psysml:f00bbef0-e3df-4574-9254-08b97b82cdf9 ]]  {\r\n",
       "}\r\n",
       "package \"Service Layer\" as E4  [[psysml:ca2e3746-a8d0-4883-91df-79f98ad99c0c ]]  {\r\n",
       "}\r\n",
       "package \"Data Layer\" as E5  [[psysml:31612912-620e-4f5b-bfbe-0087437cb05d ]]  {\r\n",
       "}\r\n",
       "}\r\n",
       "comp usage \"x \" as E6  <<(T,blue) attribute>> [[psysml:af126b68-a763-4b5e-ae0f-74aa81d9e434 ]] {\r\n",
       "}\r\n",
       "comp usage \"y \" as E7  <<(T,blue) attribute>> [[psysml:a5153252-c77e-42e1-a87d-8eb1cf591399 ]] {\r\n",
       "}\r\n",
       "comp usage \"z \" as E8  <<(T,blue) attribute>> [[psysml:4fcd16ab-62c7-48db-8542-d458ee8b30b8 ]] {\r\n",
       "}\r\n",
       "}\r\n",
       "E1 ..> E2 [[psysml:feb54464-815e-4611-ad28-7085b6ccbd88 ]] : <<import>>*\r\n",
       "E3 ..>> E4 [[psysml:46e8547b-a8f1-46c9-aa96-df26a1cf1e34 ]] : <<depend>>\r\n",
       "E4 ..>> E5 [[psysml:4580f085-b870-4b86-bde9-338fd4cc0a1d ]] : <<depend>>\r\n",
       "E8 ..>> E6 [[psysml:ef6c4171-27e8-4274-afa9-e3f35902caaf ]] : <<depend>>\r\n",
       "E8 ..>> E7 [[psysml:ef6c4171-27e8-4274-afa9-e3f35902caaf ]] : <<depend>>\r\n",
       "@enduml\r\n",
       "\n",
       "PlantUML version 1.2020.13(Sat Jun 13 12:26:38 UTC 2020)\n",
       "(EPL source distribution)\n",
       "Java Runtime: OpenJDK Runtime Environment\n",
       "JVM: OpenJDK 64-Bit Server VM\n",
       "Default Encoding: UTF-8\n",
       "Language: en\n",
       "Country: null\n",
       "--></g></svg>"
      ]
     },
     "execution_count": 47,
     "metadata": {},
     "output_type": "execute_result"
    }
   ],
   "source": [
    "%viz --style=\"TB\" --view=\"Interconnection\" \"DependencyTest\""
   ]
  },
  {
   "cell_type": "code",
   "execution_count": 48,
   "id": "346d6f45",
   "metadata": {
    "execution": {
     "iopub.execute_input": "2022-04-22T09:48:09.235820Z",
     "iopub.status.busy": "2022-04-22T09:48:09.235410Z",
     "iopub.status.idle": "2022-04-22T09:48:09.238614Z",
     "shell.execute_reply": "2022-04-22T09:48:09.238228Z"
    }
   },
   "outputs": [
    {
     "data": {
      "image/svg+xml": [
       "<?xml version=\"1.0\" encoding=\"UTF-8\" standalone=\"no\"?><svg xmlns=\"http://www.w3.org/2000/svg\" xmlns:xlink=\"http://www.w3.org/1999/xlink\" contentScriptType=\"application/ecmascript\" contentStyleType=\"text/css\" height=\"12px\" preserveAspectRatio=\"none\" style=\"width:12px;height:12px;\" version=\"1.1\" viewBox=\"0 0 12 12\" width=\"12px\" zoomAndPan=\"magnify\"><defs/><g><!--MD5=[06afc254b03ac5e9d9fb7773b07d0800]\n",
       "@startuml\r\n",
       "skinparam ranksep 8\r\n",
       "top to bottom direction\r\n",
       "skinparam monochrome true\r\n",
       "skinparam classbackgroundcolor white\r\n",
       "skinparam shadowing false\r\n",
       "skinparam wrapWidth 300\r\n",
       "hide circle\r\n",
       "\r\n",
       "@enduml\r\n",
       "\n",
       "PlantUML version 1.2020.13(Sat Jun 13 12:26:38 UTC 2020)\n",
       "(EPL source distribution)\n",
       "Java Runtime: OpenJDK Runtime Environment\n",
       "JVM: OpenJDK 64-Bit Server VM\n",
       "Default Encoding: UTF-8\n",
       "Language: en\n",
       "Country: null\n",
       "--></g></svg>"
      ]
     },
     "execution_count": 48,
     "metadata": {},
     "output_type": "execute_result"
    }
   ],
   "source": [
    "%viz --style=\"TB\" --view=\"Action\" \"DependencyTest\""
   ]
  },
  {
   "cell_type": "code",
   "execution_count": 49,
   "id": "75c4c87b",
   "metadata": {
    "execution": {
     "iopub.execute_input": "2022-04-22T09:48:09.288454Z",
     "iopub.status.busy": "2022-04-22T09:48:09.288030Z",
     "iopub.status.idle": "2022-04-22T09:48:09.292372Z",
     "shell.execute_reply": "2022-04-22T09:48:09.292687Z"
    }
   },
   "outputs": [
    {
     "data": {
      "image/svg+xml": [
       "<?xml version=\"1.0\" encoding=\"UTF-8\" standalone=\"no\"?><svg xmlns=\"http://www.w3.org/2000/svg\" xmlns:xlink=\"http://www.w3.org/1999/xlink\" contentScriptType=\"application/ecmascript\" contentStyleType=\"text/css\" height=\"12px\" preserveAspectRatio=\"none\" style=\"width:12px;height:12px;\" version=\"1.1\" viewBox=\"0 0 12 12\" width=\"12px\" zoomAndPan=\"magnify\"><defs/><g><!--MD5=[e1ab0c84c44d2fef8bf5f140f2689906]\n",
       "@startuml\r\n",
       "skinparam roundcorner 20\r\n",
       "skinparam BoxPadding 20\r\n",
       "skinparam SequenceBoxBackgroundColor #white\r\n",
       "skinparam style strictuml\r\n",
       "skinparam maxMessageSize 100\r\n",
       "top to bottom direction\r\n",
       "skinparam monochrome true\r\n",
       "skinparam classbackgroundcolor white\r\n",
       "skinparam shadowing false\r\n",
       "skinparam wrapWidth 300\r\n",
       "hide circle\r\n",
       "\r\n",
       "@enduml\r\n",
       "\n",
       "PlantUML version 1.2020.13(Sat Jun 13 12:26:38 UTC 2020)\n",
       "(EPL source distribution)\n",
       "Java Runtime: OpenJDK Runtime Environment\n",
       "JVM: OpenJDK 64-Bit Server VM\n",
       "Default Encoding: UTF-8\n",
       "Language: en\n",
       "Country: null\n",
       "--></g></svg>"
      ]
     },
     "execution_count": 49,
     "metadata": {},
     "output_type": "execute_result"
    }
   ],
   "source": [
    "%viz --style=\"TB\" --view=\"Sequence\" \"DependencyTest\""
   ]
  },
  {
   "cell_type": "code",
   "execution_count": 50,
   "id": "479f5b2d",
   "metadata": {
    "execution": {
     "iopub.execute_input": "2022-04-22T09:48:09.343002Z",
     "iopub.status.busy": "2022-04-22T09:48:09.342602Z",
     "iopub.status.idle": "2022-04-22T09:48:09.373926Z",
     "shell.execute_reply": "2022-04-22T09:48:09.372508Z"
    }
   },
   "outputs": [
    {
     "data": {
      "image/svg+xml": [
       "<?xml version=\"1.0\" encoding=\"UTF-8\" standalone=\"no\"?><svg xmlns=\"http://www.w3.org/2000/svg\" xmlns:xlink=\"http://www.w3.org/1999/xlink\" contentScriptType=\"application/ecmascript\" contentStyleType=\"text/css\" height=\"552px\" preserveAspectRatio=\"none\" style=\"width:536px;height:552px;\" version=\"1.1\" viewBox=\"0 0 536 552\" width=\"536px\" zoomAndPan=\"magnify\"><defs/><g><!--MD5=[fbc87193dbaf4d95561dea2c320d4a47]\n",
       "cluster E1--><a href=\"psysml:fa3e9fbf-effa-4977-80ec-fe6e8fa57f4d\" target=\"_top\" title=\"psysml:fa3e9fbf-effa-4977-80ec-fe6e8fa57f4d\" xlink:actuate=\"onRequest\" xlink:href=\"psysml:fa3e9fbf-effa-4977-80ec-fe6e8fa57f4d\" xlink:show=\"new\" xlink:title=\"psysml:fa3e9fbf-effa-4977-80ec-fe6e8fa57f4d\" xlink:type=\"simple\"><polygon fill=\"#FFFFFF\" points=\"16,6,142,6,149,28.2969,514,28.2969,514,540.72,16,540.72,16,6\" style=\"stroke: #000000; stroke-width: 1.5;\"/><line style=\"stroke: #000000; stroke-width: 1.5;\" x1=\"16\" x2=\"149\" y1=\"28.2969\" y2=\"28.2969\"/><text fill=\"#000000\" font-family=\"sans-serif\" font-size=\"14\" font-weight=\"bold\" lengthAdjust=\"spacingAndGlyphs\" textLength=\"120\" x=\"20\" y=\"20.9951\">DependencyTest</text></a><!--MD5=[e4f7fae6ed58524ba242bb0b0d3be6b7]\n",
       "cluster E2--><a href=\"psysml:10c1ae57-66e9-4db6-bc3d-37ac2db9914a\" target=\"_top\" title=\"psysml:10c1ae57-66e9-4db6-bc3d-37ac2db9914a\" xlink:actuate=\"onRequest\" xlink:href=\"psysml:10c1ae57-66e9-4db6-bc3d-37ac2db9914a\" xlink:show=\"new\" xlink:title=\"psysml:10c1ae57-66e9-4db6-bc3d-37ac2db9914a\" xlink:type=\"simple\"><polygon fill=\"#FFFFFF\" points=\"271,120.72,328,120.72,335,143.0169,474,143.0169,474,500.72,271,500.72,271,120.72\" style=\"stroke: #000000; stroke-width: 1.5;\"/><line style=\"stroke: #000000; stroke-width: 1.5;\" x1=\"271\" x2=\"335\" y1=\"143.0169\" y2=\"143.0169\"/><text fill=\"#000000\" font-family=\"sans-serif\" font-size=\"14\" font-weight=\"bold\" lengthAdjust=\"spacingAndGlyphs\" textLength=\"51\" x=\"275\" y=\"135.7151\">System</text></a><!--MD5=[60a26617385b1d2d0262a64233df1f8d]\n",
       "class E6--><a href=\"psysml:af126b68-a763-4b5e-ae0f-74aa81d9e434\" target=\"_top\" title=\"psysml:af126b68-a763-4b5e-ae0f-74aa81d9e434\" xlink:actuate=\"onRequest\" xlink:href=\"psysml:af126b68-a763-4b5e-ae0f-74aa81d9e434\" xlink:show=\"new\" xlink:title=\"psysml:af126b68-a763-4b5e-ae0f-74aa81d9e434\" xlink:type=\"simple\"><rect fill=\"#FFFFFF\" height=\"45.9375\" id=\"E6\" rx=\"10\" ry=\"10\" style=\"stroke: #383838; stroke-width: 1.5;\" width=\"71\" x=\"40.5\" y=\"297.22\"/><text fill=\"#000000\" font-family=\"sans-serif\" font-size=\"12\" font-style=\"italic\" lengthAdjust=\"spacingAndGlyphs\" textLength=\"69\" x=\"41.5\" y=\"313.3587\">«attribute»</text><text fill=\"#000000\" font-family=\"sans-serif\" font-size=\"12\" lengthAdjust=\"spacingAndGlyphs\" textLength=\"6\" x=\"71\" y=\"327.3274\">x</text><line style=\"stroke: #383838; stroke-width: 1.5;\" x1=\"41.5\" x2=\"110.5\" y1=\"335.1575\" y2=\"335.1575\"/></a><!--MD5=[2156ba9850f5573cc1fc38a6a4b2f02b]\n",
       "class E7--><a href=\"psysml:a5153252-c77e-42e1-a87d-8eb1cf591399\" target=\"_top\" title=\"psysml:a5153252-c77e-42e1-a87d-8eb1cf591399\" xlink:actuate=\"onRequest\" xlink:href=\"psysml:a5153252-c77e-42e1-a87d-8eb1cf591399\" xlink:show=\"new\" xlink:title=\"psysml:a5153252-c77e-42e1-a87d-8eb1cf591399\" xlink:type=\"simple\"><rect fill=\"#FFFFFF\" height=\"45.9375\" id=\"E7\" rx=\"10\" ry=\"10\" style=\"stroke: #383838; stroke-width: 1.5;\" width=\"71\" x=\"146.5\" y=\"297.22\"/><text fill=\"#000000\" font-family=\"sans-serif\" font-size=\"12\" font-style=\"italic\" lengthAdjust=\"spacingAndGlyphs\" textLength=\"69\" x=\"147.5\" y=\"313.3587\">«attribute»</text><text fill=\"#000000\" font-family=\"sans-serif\" font-size=\"12\" lengthAdjust=\"spacingAndGlyphs\" textLength=\"6\" x=\"177\" y=\"327.3274\">y</text><line style=\"stroke: #383838; stroke-width: 1.5;\" x1=\"147.5\" x2=\"216.5\" y1=\"335.1575\" y2=\"335.1575\"/></a><!--MD5=[b9389687b975829384b498ac4b7476b2]\n",
       "class E8--><a href=\"psysml:4fcd16ab-62c7-48db-8542-d458ee8b30b8\" target=\"_top\" title=\"psysml:4fcd16ab-62c7-48db-8542-d458ee8b30b8\" xlink:actuate=\"onRequest\" xlink:href=\"psysml:4fcd16ab-62c7-48db-8542-d458ee8b30b8\" xlink:show=\"new\" xlink:title=\"psysml:4fcd16ab-62c7-48db-8542-d458ee8b30b8\" xlink:type=\"simple\"><rect fill=\"#FFFFFF\" height=\"45.9375\" id=\"E8\" rx=\"10\" ry=\"10\" style=\"stroke: #383838; stroke-width: 1.5;\" width=\"71\" x=\"92.5\" y=\"167.22\"/><text fill=\"#000000\" font-family=\"sans-serif\" font-size=\"12\" font-style=\"italic\" lengthAdjust=\"spacingAndGlyphs\" textLength=\"69\" x=\"93.5\" y=\"183.3587\">«attribute»</text><text fill=\"#000000\" font-family=\"sans-serif\" font-size=\"12\" lengthAdjust=\"spacingAndGlyphs\" textLength=\"5\" x=\"123.5\" y=\"197.3274\">z</text><line style=\"stroke: #383838; stroke-width: 1.5;\" x1=\"93.5\" x2=\"162.5\" y1=\"205.1575\" y2=\"205.1575\"/></a><a href=\"psysml:f00bbef0-e3df-4574-9254-08b97b82cdf9\" target=\"_top\" title=\"psysml:f00bbef0-e3df-4574-9254-08b97b82cdf9\" xlink:actuate=\"onRequest\" xlink:href=\"psysml:f00bbef0-e3df-4574-9254-08b97b82cdf9\" xlink:show=\"new\" xlink:title=\"psysml:f00bbef0-e3df-4574-9254-08b97b82cdf9\" xlink:type=\"simple\"><polygon fill=\"#FFFFFF\" points=\"314.5,163.72,435.5,163.72,442.5,186.0169,449.5,186.0169,449.5,216.3138,314.5,216.3138,314.5,163.72\" style=\"stroke: #000000; stroke-width: 1.5;\"/><line style=\"stroke: #000000; stroke-width: 1.5;\" x1=\"314.5\" x2=\"442.5\" y1=\"186.0169\" y2=\"186.0169\"/><text fill=\"#000000\" font-family=\"sans-serif\" font-size=\"14\" font-weight=\"bold\" lengthAdjust=\"spacingAndGlyphs\" textLength=\"115\" x=\"318.5\" y=\"178.7151\">Application Layer</text></a><a href=\"psysml:ca2e3746-a8d0-4883-91df-79f98ad99c0c\" target=\"_top\" title=\"psysml:ca2e3746-a8d0-4883-91df-79f98ad99c0c\" xlink:actuate=\"onRequest\" xlink:href=\"psysml:ca2e3746-a8d0-4883-91df-79f98ad99c0c\" xlink:show=\"new\" xlink:title=\"psysml:ca2e3746-a8d0-4883-91df-79f98ad99c0c\" xlink:type=\"simple\"><polygon fill=\"#FFFFFF\" points=\"327,293.72,423,293.72,430,316.0169,437,316.0169,437,346.3138,327,346.3138,327,293.72\" style=\"stroke: #000000; stroke-width: 1.5;\"/><line style=\"stroke: #000000; stroke-width: 1.5;\" x1=\"327\" x2=\"430\" y1=\"316.0169\" y2=\"316.0169\"/><text fill=\"#000000\" font-family=\"sans-serif\" font-size=\"14\" font-weight=\"bold\" lengthAdjust=\"spacingAndGlyphs\" textLength=\"90\" x=\"331\" y=\"308.7151\">Service Layer</text></a><a href=\"psysml:31612912-620e-4f5b-bfbe-0087437cb05d\" target=\"_top\" title=\"psysml:31612912-620e-4f5b-bfbe-0087437cb05d\" xlink:actuate=\"onRequest\" xlink:href=\"psysml:31612912-620e-4f5b-bfbe-0087437cb05d\" xlink:show=\"new\" xlink:title=\"psysml:31612912-620e-4f5b-bfbe-0087437cb05d\" xlink:type=\"simple\"><polygon fill=\"#FFFFFF\" points=\"336,423.72,414,423.72,421,446.0169,428,446.0169,428,476.3138,336,476.3138,336,423.72\" style=\"stroke: #000000; stroke-width: 1.5;\"/><line style=\"stroke: #000000; stroke-width: 1.5;\" x1=\"336\" x2=\"421\" y1=\"446.0169\" y2=\"446.0169\"/><text fill=\"#000000\" font-family=\"sans-serif\" font-size=\"14\" font-weight=\"bold\" lengthAdjust=\"spacingAndGlyphs\" textLength=\"72\" x=\"340\" y=\"438.7151\">Data Layer</text></a><!--MD5=[1f1cd8e6dd4c1b2ca2aaccc9b9bcea6e]\n",
       "link E1 to E2--><a href=\"psysml:feb54464-815e-4611-ad28-7085b6ccbd88\" target=\"_top\" title=\"psysml:feb54464-815e-4611-ad28-7085b6ccbd88\" xlink:actuate=\"onRequest\" xlink:href=\"psysml:feb54464-815e-4611-ad28-7085b6ccbd88\" xlink:show=\"new\" xlink:title=\"psysml:feb54464-815e-4611-ad28-7085b6ccbd88\" xlink:type=\"simple\"><path d=\"M279,33.83 C279,36.15 279,73.83 279,111.5 C279,113.8544 279,116.2087 279,118.5544 C279,119.1408 279,119.7267 279,120.3119 \" fill=\"none\" id=\"E1-&gt;E2\" style=\"stroke: #383838; stroke-width: 1.0; stroke-dasharray: 7.0,7.0;\"/><polygon fill=\"#383838\" points=\"279,120.3119,283,111.3119,279,115.3119,275,111.3119,279,120.3119\" style=\"stroke: #383838; stroke-width: 1.0;\"/><text fill=\"#000000\" font-family=\"sans-serif\" font-size=\"13\" lengthAdjust=\"spacingAndGlyphs\" textLength=\"65\" x=\"280\" y=\"76.7869\">«import»*</text></a><!--MD5=[af87c684e3b0d8be13c1a698a818ef1e]\n",
       "link E3 to E4--><a href=\"psysml:46e8547b-a8f1-46c9-aa96-df26a1cf1e34\" target=\"_top\" title=\"psysml:46e8547b-a8f1-46c9-aa96-df26a1cf1e34\" xlink:actuate=\"onRequest\" xlink:href=\"psysml:46e8547b-a8f1-46c9-aa96-df26a1cf1e34\" xlink:show=\"new\" xlink:title=\"psysml:46e8547b-a8f1-46c9-aa96-df26a1cf1e34\" xlink:type=\"simple\"><path d=\"M382,216.82 C382,236.52 382,263.94 382,285.45 \" fill=\"none\" id=\"E3-&gt;E4\" style=\"stroke: #383838; stroke-width: 1.0; stroke-dasharray: 7.0,7.0;\"/><polygon fill=\"#383838\" points=\"382,293.67,385,285.67,379,285.67,382,293.67\" style=\"stroke: #383838; stroke-width: 1.0;\"/><text fill=\"#000000\" font-family=\"sans-serif\" font-size=\"13\" lengthAdjust=\"spacingAndGlyphs\" textLength=\"64\" x=\"383\" y=\"259.7869\">«depend»</text></a><!--MD5=[1b7591eae5389033d8d09a9d6721a717]\n",
       "link E4 to E5--><a href=\"psysml:4580f085-b870-4b86-bde9-338fd4cc0a1d\" target=\"_top\" title=\"psysml:4580f085-b870-4b86-bde9-338fd4cc0a1d\" xlink:actuate=\"onRequest\" xlink:href=\"psysml:4580f085-b870-4b86-bde9-338fd4cc0a1d\" xlink:show=\"new\" xlink:title=\"psysml:4580f085-b870-4b86-bde9-338fd4cc0a1d\" xlink:type=\"simple\"><path d=\"M382,346.82 C382,366.52 382,393.94 382,415.45 \" fill=\"none\" id=\"E4-&gt;E5\" style=\"stroke: #383838; stroke-width: 1.0; stroke-dasharray: 7.0,7.0;\"/><polygon fill=\"#383838\" points=\"382,423.67,385,415.67,379,415.67,382,423.67\" style=\"stroke: #383838; stroke-width: 1.0;\"/><text fill=\"#000000\" font-family=\"sans-serif\" font-size=\"13\" lengthAdjust=\"spacingAndGlyphs\" textLength=\"64\" x=\"383\" y=\"389.7869\">«depend»</text></a><!--MD5=[c5e8897d989ce984f93528998a7150fe]\n",
       "link E8 to E6--><a href=\"psysml:ef6c4171-27e8-4274-afa9-e3f35902caaf\" target=\"_top\" title=\"psysml:ef6c4171-27e8-4274-afa9-e3f35902caaf\" xlink:actuate=\"onRequest\" xlink:href=\"psysml:ef6c4171-27e8-4274-afa9-e3f35902caaf\" xlink:show=\"new\" xlink:title=\"psysml:ef6c4171-27e8-4274-afa9-e3f35902caaf\" xlink:type=\"simple\"><path d=\"M97.42,213.32 C87.35,222.4 77.37,233.83 72,246.72 C66.5,259.92 66.66,275.66 68.54,289.1 \" fill=\"none\" id=\"E8-&gt;E6\" style=\"stroke: #383838; stroke-width: 1.0; stroke-dasharray: 7.0,7.0;\"/><polygon fill=\"#383838\" points=\"69.9,297.12,71.517,288.7304,65.6018,289.7359,69.9,297.12\" style=\"stroke: #383838; stroke-width: 1.0;\"/><text fill=\"#000000\" font-family=\"sans-serif\" font-size=\"13\" lengthAdjust=\"spacingAndGlyphs\" textLength=\"64\" x=\"73\" y=\"259.7869\">«depend»</text></a><!--MD5=[bfa3c8b0d15052fdf50ae9310b491027]\n",
       "link E8 to E7--><a href=\"psysml:ef6c4171-27e8-4274-afa9-e3f35902caaf\" target=\"_top\" title=\"psysml:ef6c4171-27e8-4274-afa9-e3f35902caaf\" xlink:actuate=\"onRequest\" xlink:href=\"psysml:ef6c4171-27e8-4274-afa9-e3f35902caaf\" xlink:show=\"new\" xlink:title=\"psysml:ef6c4171-27e8-4274-afa9-e3f35902caaf\" xlink:type=\"simple\"><path d=\"M137.28,213.22 C146.17,234.29 159.64,266.22 169.47,289.53 \" fill=\"none\" id=\"E8-&gt;E7\" style=\"stroke: #383838; stroke-width: 1.0; stroke-dasharray: 7.0,7.0;\"/><polygon fill=\"#383838\" points=\"172.66,297.07,172.3241,288.5326,166.7933,290.8585,172.66,297.07\" style=\"stroke: #383838; stroke-width: 1.0;\"/><text fill=\"#000000\" font-family=\"sans-serif\" font-size=\"13\" lengthAdjust=\"spacingAndGlyphs\" textLength=\"64\" x=\"159\" y=\"259.7869\">«depend»</text></a><!--MD5=[054dfde049c74b9b43761703bcad3612]\n",
       "@startuml\r\n",
       "top to bottom direction\r\n",
       "skinparam monochrome true\r\n",
       "skinparam classbackgroundcolor white\r\n",
       "skinparam shadowing false\r\n",
       "skinparam wrapWidth 300\r\n",
       "hide circle\r\n",
       "\r\n",
       "package \"DependencyTest\" as E1  [[psysml:fa3e9fbf-effa-4977-80ec-fe6e8fa57f4d ]]  {\r\n",
       "package \"System\" as E2  [[psysml:10c1ae57-66e9-4db6-bc3d-37ac2db9914a ]]  {\r\n",
       "package \"Application Layer\" as E3  [[psysml:f00bbef0-e3df-4574-9254-08b97b82cdf9 ]]  {\r\n",
       "}\r\n",
       "package \"Service Layer\" as E4  [[psysml:ca2e3746-a8d0-4883-91df-79f98ad99c0c ]]  {\r\n",
       "}\r\n",
       "package \"Data Layer\" as E5  [[psysml:31612912-620e-4f5b-bfbe-0087437cb05d ]]  {\r\n",
       "}\r\n",
       "}\r\n",
       "comp usage \"x \" as E6  <<(T,blue) attribute>> [[psysml:af126b68-a763-4b5e-ae0f-74aa81d9e434 ]] {\r\n",
       "}\r\n",
       "comp usage \"y \" as E7  <<(T,blue) attribute>> [[psysml:a5153252-c77e-42e1-a87d-8eb1cf591399 ]] {\r\n",
       "}\r\n",
       "comp usage \"z \" as E8  <<(T,blue) attribute>> [[psysml:4fcd16ab-62c7-48db-8542-d458ee8b30b8 ]] {\r\n",
       "}\r\n",
       "}\r\n",
       "E1 ..> E2 [[psysml:feb54464-815e-4611-ad28-7085b6ccbd88 ]] : <<import>>*\r\n",
       "E3 ..>> E4 [[psysml:46e8547b-a8f1-46c9-aa96-df26a1cf1e34 ]] : <<depend>>\r\n",
       "E4 ..>> E5 [[psysml:4580f085-b870-4b86-bde9-338fd4cc0a1d ]] : <<depend>>\r\n",
       "E8 ..>> E6 [[psysml:ef6c4171-27e8-4274-afa9-e3f35902caaf ]] : <<depend>>\r\n",
       "E8 ..>> E7 [[psysml:ef6c4171-27e8-4274-afa9-e3f35902caaf ]] : <<depend>>\r\n",
       "@enduml\r\n",
       "\n",
       "PlantUML version 1.2020.13(Sat Jun 13 12:26:38 UTC 2020)\n",
       "(EPL source distribution)\n",
       "Java Runtime: OpenJDK Runtime Environment\n",
       "JVM: OpenJDK 64-Bit Server VM\n",
       "Default Encoding: UTF-8\n",
       "Language: en\n",
       "Country: null\n",
       "--></g></svg>"
      ]
     },
     "execution_count": 50,
     "metadata": {},
     "output_type": "execute_result"
    }
   ],
   "source": [
    "%viz --style=\"TB\" --view=\"MIXED\" \"DependencyTest\""
   ]
  },
  {
   "cell_type": "code",
   "execution_count": 51,
   "id": "89462323",
   "metadata": {
    "execution": {
     "iopub.execute_input": "2022-04-22T09:48:09.423159Z",
     "iopub.status.busy": "2022-04-22T09:48:09.422704Z",
     "iopub.status.idle": "2022-04-22T09:48:09.455544Z",
     "shell.execute_reply": "2022-04-22T09:48:09.455133Z"
    }
   },
   "outputs": [
    {
     "data": {
      "image/svg+xml": [
       "<?xml version=\"1.0\" encoding=\"UTF-8\" standalone=\"no\"?><svg xmlns=\"http://www.w3.org/2000/svg\" xmlns:xlink=\"http://www.w3.org/1999/xlink\" contentScriptType=\"application/ecmascript\" contentStyleType=\"text/css\" height=\"552px\" preserveAspectRatio=\"none\" style=\"width:536px;height:552px;\" version=\"1.1\" viewBox=\"0 0 536 552\" width=\"536px\" zoomAndPan=\"magnify\"><defs/><g><!--MD5=[fbc87193dbaf4d95561dea2c320d4a47]\n",
       "cluster E1--><a href=\"psysml:fa3e9fbf-effa-4977-80ec-fe6e8fa57f4d\" target=\"_top\" title=\"psysml:fa3e9fbf-effa-4977-80ec-fe6e8fa57f4d\" xlink:actuate=\"onRequest\" xlink:href=\"psysml:fa3e9fbf-effa-4977-80ec-fe6e8fa57f4d\" xlink:show=\"new\" xlink:title=\"psysml:fa3e9fbf-effa-4977-80ec-fe6e8fa57f4d\" xlink:type=\"simple\"><polygon fill=\"#FFFFFF\" points=\"16,6,142,6,149,28.2969,514,28.2969,514,540.72,16,540.72,16,6\" style=\"stroke: #000000; stroke-width: 1.5;\"/><line style=\"stroke: #000000; stroke-width: 1.5;\" x1=\"16\" x2=\"149\" y1=\"28.2969\" y2=\"28.2969\"/><text fill=\"#000000\" font-family=\"sans-serif\" font-size=\"14\" font-weight=\"bold\" lengthAdjust=\"spacingAndGlyphs\" textLength=\"120\" x=\"20\" y=\"20.9951\">DependencyTest</text></a><!--MD5=[e4f7fae6ed58524ba242bb0b0d3be6b7]\n",
       "cluster E2--><a href=\"psysml:10c1ae57-66e9-4db6-bc3d-37ac2db9914a\" target=\"_top\" title=\"psysml:10c1ae57-66e9-4db6-bc3d-37ac2db9914a\" xlink:actuate=\"onRequest\" xlink:href=\"psysml:10c1ae57-66e9-4db6-bc3d-37ac2db9914a\" xlink:show=\"new\" xlink:title=\"psysml:10c1ae57-66e9-4db6-bc3d-37ac2db9914a\" xlink:type=\"simple\"><polygon fill=\"#FFFFFF\" points=\"271,120.72,328,120.72,335,143.0169,474,143.0169,474,500.72,271,500.72,271,120.72\" style=\"stroke: #000000; stroke-width: 1.5;\"/><line style=\"stroke: #000000; stroke-width: 1.5;\" x1=\"271\" x2=\"335\" y1=\"143.0169\" y2=\"143.0169\"/><text fill=\"#000000\" font-family=\"sans-serif\" font-size=\"14\" font-weight=\"bold\" lengthAdjust=\"spacingAndGlyphs\" textLength=\"51\" x=\"275\" y=\"135.7151\">System</text></a><!--MD5=[60a26617385b1d2d0262a64233df1f8d]\n",
       "class E6--><a href=\"psysml:af126b68-a763-4b5e-ae0f-74aa81d9e434\" target=\"_top\" title=\"psysml:af126b68-a763-4b5e-ae0f-74aa81d9e434\" xlink:actuate=\"onRequest\" xlink:href=\"psysml:af126b68-a763-4b5e-ae0f-74aa81d9e434\" xlink:show=\"new\" xlink:title=\"psysml:af126b68-a763-4b5e-ae0f-74aa81d9e434\" xlink:type=\"simple\"><rect fill=\"#FFFFFF\" height=\"45.9375\" id=\"E6\" rx=\"10\" ry=\"10\" style=\"stroke: #383838; stroke-width: 1.5;\" width=\"71\" x=\"40.5\" y=\"297.22\"/><text fill=\"#000000\" font-family=\"sans-serif\" font-size=\"12\" font-style=\"italic\" lengthAdjust=\"spacingAndGlyphs\" textLength=\"69\" x=\"41.5\" y=\"313.3587\">«attribute»</text><text fill=\"#000000\" font-family=\"sans-serif\" font-size=\"12\" lengthAdjust=\"spacingAndGlyphs\" textLength=\"6\" x=\"71\" y=\"327.3274\">x</text><line style=\"stroke: #383838; stroke-width: 1.5;\" x1=\"41.5\" x2=\"110.5\" y1=\"335.1575\" y2=\"335.1575\"/></a><!--MD5=[2156ba9850f5573cc1fc38a6a4b2f02b]\n",
       "class E7--><a href=\"psysml:a5153252-c77e-42e1-a87d-8eb1cf591399\" target=\"_top\" title=\"psysml:a5153252-c77e-42e1-a87d-8eb1cf591399\" xlink:actuate=\"onRequest\" xlink:href=\"psysml:a5153252-c77e-42e1-a87d-8eb1cf591399\" xlink:show=\"new\" xlink:title=\"psysml:a5153252-c77e-42e1-a87d-8eb1cf591399\" xlink:type=\"simple\"><rect fill=\"#FFFFFF\" height=\"45.9375\" id=\"E7\" rx=\"10\" ry=\"10\" style=\"stroke: #383838; stroke-width: 1.5;\" width=\"71\" x=\"146.5\" y=\"297.22\"/><text fill=\"#000000\" font-family=\"sans-serif\" font-size=\"12\" font-style=\"italic\" lengthAdjust=\"spacingAndGlyphs\" textLength=\"69\" x=\"147.5\" y=\"313.3587\">«attribute»</text><text fill=\"#000000\" font-family=\"sans-serif\" font-size=\"12\" lengthAdjust=\"spacingAndGlyphs\" textLength=\"6\" x=\"177\" y=\"327.3274\">y</text><line style=\"stroke: #383838; stroke-width: 1.5;\" x1=\"147.5\" x2=\"216.5\" y1=\"335.1575\" y2=\"335.1575\"/></a><!--MD5=[b9389687b975829384b498ac4b7476b2]\n",
       "class E8--><a href=\"psysml:4fcd16ab-62c7-48db-8542-d458ee8b30b8\" target=\"_top\" title=\"psysml:4fcd16ab-62c7-48db-8542-d458ee8b30b8\" xlink:actuate=\"onRequest\" xlink:href=\"psysml:4fcd16ab-62c7-48db-8542-d458ee8b30b8\" xlink:show=\"new\" xlink:title=\"psysml:4fcd16ab-62c7-48db-8542-d458ee8b30b8\" xlink:type=\"simple\"><rect fill=\"#FFFFFF\" height=\"45.9375\" id=\"E8\" rx=\"10\" ry=\"10\" style=\"stroke: #383838; stroke-width: 1.5;\" width=\"71\" x=\"92.5\" y=\"167.22\"/><text fill=\"#000000\" font-family=\"sans-serif\" font-size=\"12\" font-style=\"italic\" lengthAdjust=\"spacingAndGlyphs\" textLength=\"69\" x=\"93.5\" y=\"183.3587\">«attribute»</text><text fill=\"#000000\" font-family=\"sans-serif\" font-size=\"12\" lengthAdjust=\"spacingAndGlyphs\" textLength=\"5\" x=\"123.5\" y=\"197.3274\">z</text><line style=\"stroke: #383838; stroke-width: 1.5;\" x1=\"93.5\" x2=\"162.5\" y1=\"205.1575\" y2=\"205.1575\"/></a><a href=\"psysml:f00bbef0-e3df-4574-9254-08b97b82cdf9\" target=\"_top\" title=\"psysml:f00bbef0-e3df-4574-9254-08b97b82cdf9\" xlink:actuate=\"onRequest\" xlink:href=\"psysml:f00bbef0-e3df-4574-9254-08b97b82cdf9\" xlink:show=\"new\" xlink:title=\"psysml:f00bbef0-e3df-4574-9254-08b97b82cdf9\" xlink:type=\"simple\"><polygon fill=\"#FFFFFF\" points=\"314.5,163.72,435.5,163.72,442.5,186.0169,449.5,186.0169,449.5,216.3138,314.5,216.3138,314.5,163.72\" style=\"stroke: #000000; stroke-width: 1.5;\"/><line style=\"stroke: #000000; stroke-width: 1.5;\" x1=\"314.5\" x2=\"442.5\" y1=\"186.0169\" y2=\"186.0169\"/><text fill=\"#000000\" font-family=\"sans-serif\" font-size=\"14\" font-weight=\"bold\" lengthAdjust=\"spacingAndGlyphs\" textLength=\"115\" x=\"318.5\" y=\"178.7151\">Application Layer</text></a><a href=\"psysml:ca2e3746-a8d0-4883-91df-79f98ad99c0c\" target=\"_top\" title=\"psysml:ca2e3746-a8d0-4883-91df-79f98ad99c0c\" xlink:actuate=\"onRequest\" xlink:href=\"psysml:ca2e3746-a8d0-4883-91df-79f98ad99c0c\" xlink:show=\"new\" xlink:title=\"psysml:ca2e3746-a8d0-4883-91df-79f98ad99c0c\" xlink:type=\"simple\"><polygon fill=\"#FFFFFF\" points=\"327,293.72,423,293.72,430,316.0169,437,316.0169,437,346.3138,327,346.3138,327,293.72\" style=\"stroke: #000000; stroke-width: 1.5;\"/><line style=\"stroke: #000000; stroke-width: 1.5;\" x1=\"327\" x2=\"430\" y1=\"316.0169\" y2=\"316.0169\"/><text fill=\"#000000\" font-family=\"sans-serif\" font-size=\"14\" font-weight=\"bold\" lengthAdjust=\"spacingAndGlyphs\" textLength=\"90\" x=\"331\" y=\"308.7151\">Service Layer</text></a><a href=\"psysml:31612912-620e-4f5b-bfbe-0087437cb05d\" target=\"_top\" title=\"psysml:31612912-620e-4f5b-bfbe-0087437cb05d\" xlink:actuate=\"onRequest\" xlink:href=\"psysml:31612912-620e-4f5b-bfbe-0087437cb05d\" xlink:show=\"new\" xlink:title=\"psysml:31612912-620e-4f5b-bfbe-0087437cb05d\" xlink:type=\"simple\"><polygon fill=\"#FFFFFF\" points=\"336,423.72,414,423.72,421,446.0169,428,446.0169,428,476.3138,336,476.3138,336,423.72\" style=\"stroke: #000000; stroke-width: 1.5;\"/><line style=\"stroke: #000000; stroke-width: 1.5;\" x1=\"336\" x2=\"421\" y1=\"446.0169\" y2=\"446.0169\"/><text fill=\"#000000\" font-family=\"sans-serif\" font-size=\"14\" font-weight=\"bold\" lengthAdjust=\"spacingAndGlyphs\" textLength=\"72\" x=\"340\" y=\"438.7151\">Data Layer</text></a><!--MD5=[1f1cd8e6dd4c1b2ca2aaccc9b9bcea6e]\n",
       "link E1 to E2--><a href=\"psysml:feb54464-815e-4611-ad28-7085b6ccbd88\" target=\"_top\" title=\"psysml:feb54464-815e-4611-ad28-7085b6ccbd88\" xlink:actuate=\"onRequest\" xlink:href=\"psysml:feb54464-815e-4611-ad28-7085b6ccbd88\" xlink:show=\"new\" xlink:title=\"psysml:feb54464-815e-4611-ad28-7085b6ccbd88\" xlink:type=\"simple\"><path d=\"M279,33.81 C279,38.265 279,75.1 279,111.9025 C279,114.2027 279,116.5027 279,118.7947 C279,119.3677 279,119.9402 279,120.512 \" fill=\"none\" id=\"E1-&gt;E2\" style=\"stroke: #383838; stroke-width: 1.0; stroke-dasharray: 7.0,7.0;\"/><polygon fill=\"#383838\" points=\"279,120.512,283,111.512,279,115.512,275,111.512,279,120.512\" style=\"stroke: #383838; stroke-width: 1.0;\"/><text fill=\"#000000\" font-family=\"sans-serif\" font-size=\"13\" lengthAdjust=\"spacingAndGlyphs\" textLength=\"65\" x=\"280\" y=\"76.7869\">«import»*</text></a><!--MD5=[af87c684e3b0d8be13c1a698a818ef1e]\n",
       "link E3 to E4--><a href=\"psysml:46e8547b-a8f1-46c9-aa96-df26a1cf1e34\" target=\"_top\" title=\"psysml:46e8547b-a8f1-46c9-aa96-df26a1cf1e34\" xlink:actuate=\"onRequest\" xlink:href=\"psysml:46e8547b-a8f1-46c9-aa96-df26a1cf1e34\" xlink:show=\"new\" xlink:title=\"psysml:46e8547b-a8f1-46c9-aa96-df26a1cf1e34\" xlink:type=\"simple\"><path d=\"M382,216.84 C382,216.84 382,285.63 382,285.63 \" fill=\"none\" id=\"E3-&gt;E4\" style=\"stroke: #383838; stroke-width: 1.0; stroke-dasharray: 7.0,7.0;\"/><polygon fill=\"#383838\" points=\"382,293.63,385,285.63,379,285.63,382,293.63\" style=\"stroke: #383838; stroke-width: 1.0;\"/><text fill=\"#000000\" font-family=\"sans-serif\" font-size=\"13\" lengthAdjust=\"spacingAndGlyphs\" textLength=\"64\" x=\"383\" y=\"259.7869\">«depend»</text></a><!--MD5=[1b7591eae5389033d8d09a9d6721a717]\n",
       "link E4 to E5--><a href=\"psysml:4580f085-b870-4b86-bde9-338fd4cc0a1d\" target=\"_top\" title=\"psysml:4580f085-b870-4b86-bde9-338fd4cc0a1d\" xlink:actuate=\"onRequest\" xlink:href=\"psysml:4580f085-b870-4b86-bde9-338fd4cc0a1d\" xlink:show=\"new\" xlink:title=\"psysml:4580f085-b870-4b86-bde9-338fd4cc0a1d\" xlink:type=\"simple\"><path d=\"M382,346.84 C382,346.84 382,415.63 382,415.63 \" fill=\"none\" id=\"E4-&gt;E5\" style=\"stroke: #383838; stroke-width: 1.0; stroke-dasharray: 7.0,7.0;\"/><polygon fill=\"#383838\" points=\"382,423.63,385,415.63,379,415.63,382,423.63\" style=\"stroke: #383838; stroke-width: 1.0;\"/><text fill=\"#000000\" font-family=\"sans-serif\" font-size=\"13\" lengthAdjust=\"spacingAndGlyphs\" textLength=\"64\" x=\"383\" y=\"389.7869\">«depend»</text></a><!--MD5=[c5e8897d989ce984f93528998a7150fe]\n",
       "link E8 to E6--><a href=\"psysml:ef6c4171-27e8-4274-afa9-e3f35902caaf\" target=\"_top\" title=\"psysml:ef6c4171-27e8-4274-afa9-e3f35902caaf\" xlink:actuate=\"onRequest\" xlink:href=\"psysml:ef6c4171-27e8-4274-afa9-e3f35902caaf\" xlink:show=\"new\" xlink:title=\"psysml:ef6c4171-27e8-4274-afa9-e3f35902caaf\" xlink:type=\"simple\"><path d=\"M102,213.46 C102,213.46 102,289.18 102,289.18 \" fill=\"none\" id=\"E8-&gt;E6\" style=\"stroke: #383838; stroke-width: 1.0; stroke-dasharray: 7.0,7.0;\"/><polygon fill=\"#383838\" points=\"102,297.18,105,289.18,99,289.18,102,297.18\" style=\"stroke: #383838; stroke-width: 1.0;\"/><text fill=\"#000000\" font-family=\"sans-serif\" font-size=\"13\" lengthAdjust=\"spacingAndGlyphs\" textLength=\"64\" x=\"76\" y=\"259.7869\">«depend»</text></a><!--MD5=[bfa3c8b0d15052fdf50ae9310b491027]\n",
       "link E8 to E7--><a href=\"psysml:ef6c4171-27e8-4274-afa9-e3f35902caaf\" target=\"_top\" title=\"psysml:ef6c4171-27e8-4274-afa9-e3f35902caaf\" xlink:actuate=\"onRequest\" xlink:href=\"psysml:ef6c4171-27e8-4274-afa9-e3f35902caaf\" xlink:show=\"new\" xlink:title=\"psysml:ef6c4171-27e8-4274-afa9-e3f35902caaf\" xlink:type=\"simple\"><path d=\"M155,213.46 C155,213.46 155,289.18 155,289.18 \" fill=\"none\" id=\"E8-&gt;E7\" style=\"stroke: #383838; stroke-width: 1.0; stroke-dasharray: 7.0,7.0;\"/><polygon fill=\"#383838\" points=\"155,297.18,158,289.18,152,289.18,155,297.18\" style=\"stroke: #383838; stroke-width: 1.0;\"/><text fill=\"#000000\" font-family=\"sans-serif\" font-size=\"13\" lengthAdjust=\"spacingAndGlyphs\" textLength=\"64\" x=\"182\" y=\"259.7869\">«depend»</text></a><!--MD5=[b1418b79812473104ec2a0b6a9442ebd]\n",
       "@startuml\r\n",
       "skinparam linetype ortho\r\n",
       "skinparam monochrome true\r\n",
       "skinparam classbackgroundcolor white\r\n",
       "skinparam shadowing false\r\n",
       "skinparam wrapWidth 300\r\n",
       "hide circle\r\n",
       "\r\n",
       "package \"DependencyTest\" as E1  [[psysml:fa3e9fbf-effa-4977-80ec-fe6e8fa57f4d ]]  {\r\n",
       "package \"System\" as E2  [[psysml:10c1ae57-66e9-4db6-bc3d-37ac2db9914a ]]  {\r\n",
       "package \"Application Layer\" as E3  [[psysml:f00bbef0-e3df-4574-9254-08b97b82cdf9 ]]  {\r\n",
       "}\r\n",
       "package \"Service Layer\" as E4  [[psysml:ca2e3746-a8d0-4883-91df-79f98ad99c0c ]]  {\r\n",
       "}\r\n",
       "package \"Data Layer\" as E5  [[psysml:31612912-620e-4f5b-bfbe-0087437cb05d ]]  {\r\n",
       "}\r\n",
       "}\r\n",
       "comp usage \"x \" as E6  <<(T,blue) attribute>> [[psysml:af126b68-a763-4b5e-ae0f-74aa81d9e434 ]] {\r\n",
       "}\r\n",
       "comp usage \"y \" as E7  <<(T,blue) attribute>> [[psysml:a5153252-c77e-42e1-a87d-8eb1cf591399 ]] {\r\n",
       "}\r\n",
       "comp usage \"z \" as E8  <<(T,blue) attribute>> [[psysml:4fcd16ab-62c7-48db-8542-d458ee8b30b8 ]] {\r\n",
       "}\r\n",
       "}\r\n",
       "E1 ..> E2 [[psysml:feb54464-815e-4611-ad28-7085b6ccbd88 ]] : <<import>>*\r\n",
       "E3 ..>> E4 [[psysml:46e8547b-a8f1-46c9-aa96-df26a1cf1e34 ]] : <<depend>>\r\n",
       "E4 ..>> E5 [[psysml:4580f085-b870-4b86-bde9-338fd4cc0a1d ]] : <<depend>>\r\n",
       "E8 ..>> E6 [[psysml:ef6c4171-27e8-4274-afa9-e3f35902caaf ]] : <<depend>>\r\n",
       "E8 ..>> E7 [[psysml:ef6c4171-27e8-4274-afa9-e3f35902caaf ]] : <<depend>>\r\n",
       "@enduml\r\n",
       "\n",
       "PlantUML version 1.2020.13(Sat Jun 13 12:26:38 UTC 2020)\n",
       "(EPL source distribution)\n",
       "Java Runtime: OpenJDK Runtime Environment\n",
       "JVM: OpenJDK 64-Bit Server VM\n",
       "Default Encoding: UTF-8\n",
       "Language: en\n",
       "Country: null\n",
       "--></g></svg>"
      ]
     },
     "execution_count": 51,
     "metadata": {},
     "output_type": "execute_result"
    }
   ],
   "source": [
    "%viz --style=\"ORTHOLINE\" --view=\"Default\" \"DependencyTest\""
   ]
  },
  {
   "cell_type": "code",
   "execution_count": 52,
   "id": "d667e2b0",
   "metadata": {
    "execution": {
     "iopub.execute_input": "2022-04-22T09:48:09.505001Z",
     "iopub.status.busy": "2022-04-22T09:48:09.504589Z",
     "iopub.status.idle": "2022-04-22T09:48:09.538768Z",
     "shell.execute_reply": "2022-04-22T09:48:09.537318Z"
    }
   },
   "outputs": [
    {
     "data": {
      "image/svg+xml": [
       "<?xml version=\"1.0\" encoding=\"UTF-8\" standalone=\"no\"?><svg xmlns=\"http://www.w3.org/2000/svg\" xmlns:xlink=\"http://www.w3.org/1999/xlink\" contentScriptType=\"application/ecmascript\" contentStyleType=\"text/css\" height=\"552px\" preserveAspectRatio=\"none\" style=\"width:536px;height:552px;\" version=\"1.1\" viewBox=\"0 0 536 552\" width=\"536px\" zoomAndPan=\"magnify\"><defs/><g><!--MD5=[fbc87193dbaf4d95561dea2c320d4a47]\n",
       "cluster E1--><a href=\"psysml:fa3e9fbf-effa-4977-80ec-fe6e8fa57f4d\" target=\"_top\" title=\"psysml:fa3e9fbf-effa-4977-80ec-fe6e8fa57f4d\" xlink:actuate=\"onRequest\" xlink:href=\"psysml:fa3e9fbf-effa-4977-80ec-fe6e8fa57f4d\" xlink:show=\"new\" xlink:title=\"psysml:fa3e9fbf-effa-4977-80ec-fe6e8fa57f4d\" xlink:type=\"simple\"><polygon fill=\"#FFFFFF\" points=\"16,6,142,6,149,28.2969,514,28.2969,514,540.72,16,540.72,16,6\" style=\"stroke: #000000; stroke-width: 1.5;\"/><line style=\"stroke: #000000; stroke-width: 1.5;\" x1=\"16\" x2=\"149\" y1=\"28.2969\" y2=\"28.2969\"/><text fill=\"#000000\" font-family=\"sans-serif\" font-size=\"14\" font-weight=\"bold\" lengthAdjust=\"spacingAndGlyphs\" textLength=\"120\" x=\"20\" y=\"20.9951\">DependencyTest</text></a><!--MD5=[e4f7fae6ed58524ba242bb0b0d3be6b7]\n",
       "cluster E2--><a href=\"psysml:10c1ae57-66e9-4db6-bc3d-37ac2db9914a\" target=\"_top\" title=\"psysml:10c1ae57-66e9-4db6-bc3d-37ac2db9914a\" xlink:actuate=\"onRequest\" xlink:href=\"psysml:10c1ae57-66e9-4db6-bc3d-37ac2db9914a\" xlink:show=\"new\" xlink:title=\"psysml:10c1ae57-66e9-4db6-bc3d-37ac2db9914a\" xlink:type=\"simple\"><polygon fill=\"#FFFFFF\" points=\"271,120.72,328,120.72,335,143.0169,474,143.0169,474,500.72,271,500.72,271,120.72\" style=\"stroke: #000000; stroke-width: 1.5;\"/><line style=\"stroke: #000000; stroke-width: 1.5;\" x1=\"271\" x2=\"335\" y1=\"143.0169\" y2=\"143.0169\"/><text fill=\"#000000\" font-family=\"sans-serif\" font-size=\"14\" font-weight=\"bold\" lengthAdjust=\"spacingAndGlyphs\" textLength=\"51\" x=\"275\" y=\"135.7151\">System</text></a><!--MD5=[60a26617385b1d2d0262a64233df1f8d]\n",
       "class E6--><a href=\"psysml:af126b68-a763-4b5e-ae0f-74aa81d9e434\" target=\"_top\" title=\"psysml:af126b68-a763-4b5e-ae0f-74aa81d9e434\" xlink:actuate=\"onRequest\" xlink:href=\"psysml:af126b68-a763-4b5e-ae0f-74aa81d9e434\" xlink:show=\"new\" xlink:title=\"psysml:af126b68-a763-4b5e-ae0f-74aa81d9e434\" xlink:type=\"simple\"><rect fill=\"#FFFFFF\" height=\"45.9375\" id=\"E6\" rx=\"10\" ry=\"10\" style=\"stroke: #383838; stroke-width: 1.5;\" width=\"71\" x=\"40.5\" y=\"297.22\"/><text fill=\"#000000\" font-family=\"sans-serif\" font-size=\"12\" font-style=\"italic\" lengthAdjust=\"spacingAndGlyphs\" textLength=\"69\" x=\"41.5\" y=\"313.3587\">«attribute»</text><text fill=\"#000000\" font-family=\"sans-serif\" font-size=\"12\" lengthAdjust=\"spacingAndGlyphs\" textLength=\"6\" x=\"71\" y=\"327.3274\">x</text><line style=\"stroke: #383838; stroke-width: 1.5;\" x1=\"41.5\" x2=\"110.5\" y1=\"335.1575\" y2=\"335.1575\"/></a><!--MD5=[2156ba9850f5573cc1fc38a6a4b2f02b]\n",
       "class E7--><a href=\"psysml:a5153252-c77e-42e1-a87d-8eb1cf591399\" target=\"_top\" title=\"psysml:a5153252-c77e-42e1-a87d-8eb1cf591399\" xlink:actuate=\"onRequest\" xlink:href=\"psysml:a5153252-c77e-42e1-a87d-8eb1cf591399\" xlink:show=\"new\" xlink:title=\"psysml:a5153252-c77e-42e1-a87d-8eb1cf591399\" xlink:type=\"simple\"><rect fill=\"#FFFFFF\" height=\"45.9375\" id=\"E7\" rx=\"10\" ry=\"10\" style=\"stroke: #383838; stroke-width: 1.5;\" width=\"71\" x=\"146.5\" y=\"297.22\"/><text fill=\"#000000\" font-family=\"sans-serif\" font-size=\"12\" font-style=\"italic\" lengthAdjust=\"spacingAndGlyphs\" textLength=\"69\" x=\"147.5\" y=\"313.3587\">«attribute»</text><text fill=\"#000000\" font-family=\"sans-serif\" font-size=\"12\" lengthAdjust=\"spacingAndGlyphs\" textLength=\"6\" x=\"177\" y=\"327.3274\">y</text><line style=\"stroke: #383838; stroke-width: 1.5;\" x1=\"147.5\" x2=\"216.5\" y1=\"335.1575\" y2=\"335.1575\"/></a><!--MD5=[b9389687b975829384b498ac4b7476b2]\n",
       "class E8--><a href=\"psysml:4fcd16ab-62c7-48db-8542-d458ee8b30b8\" target=\"_top\" title=\"psysml:4fcd16ab-62c7-48db-8542-d458ee8b30b8\" xlink:actuate=\"onRequest\" xlink:href=\"psysml:4fcd16ab-62c7-48db-8542-d458ee8b30b8\" xlink:show=\"new\" xlink:title=\"psysml:4fcd16ab-62c7-48db-8542-d458ee8b30b8\" xlink:type=\"simple\"><rect fill=\"#FFFFFF\" height=\"45.9375\" id=\"E8\" rx=\"10\" ry=\"10\" style=\"stroke: #383838; stroke-width: 1.5;\" width=\"71\" x=\"92.5\" y=\"167.22\"/><text fill=\"#000000\" font-family=\"sans-serif\" font-size=\"12\" font-style=\"italic\" lengthAdjust=\"spacingAndGlyphs\" textLength=\"69\" x=\"93.5\" y=\"183.3587\">«attribute»</text><text fill=\"#000000\" font-family=\"sans-serif\" font-size=\"12\" lengthAdjust=\"spacingAndGlyphs\" textLength=\"5\" x=\"123.5\" y=\"197.3274\">z</text><line style=\"stroke: #383838; stroke-width: 1.5;\" x1=\"93.5\" x2=\"162.5\" y1=\"205.1575\" y2=\"205.1575\"/></a><a href=\"psysml:f00bbef0-e3df-4574-9254-08b97b82cdf9\" target=\"_top\" title=\"psysml:f00bbef0-e3df-4574-9254-08b97b82cdf9\" xlink:actuate=\"onRequest\" xlink:href=\"psysml:f00bbef0-e3df-4574-9254-08b97b82cdf9\" xlink:show=\"new\" xlink:title=\"psysml:f00bbef0-e3df-4574-9254-08b97b82cdf9\" xlink:type=\"simple\"><polygon fill=\"#FFFFFF\" points=\"314.5,163.72,435.5,163.72,442.5,186.0169,449.5,186.0169,449.5,216.3138,314.5,216.3138,314.5,163.72\" style=\"stroke: #000000; stroke-width: 1.5;\"/><line style=\"stroke: #000000; stroke-width: 1.5;\" x1=\"314.5\" x2=\"442.5\" y1=\"186.0169\" y2=\"186.0169\"/><text fill=\"#000000\" font-family=\"sans-serif\" font-size=\"14\" font-weight=\"bold\" lengthAdjust=\"spacingAndGlyphs\" textLength=\"115\" x=\"318.5\" y=\"178.7151\">Application Layer</text></a><a href=\"psysml:ca2e3746-a8d0-4883-91df-79f98ad99c0c\" target=\"_top\" title=\"psysml:ca2e3746-a8d0-4883-91df-79f98ad99c0c\" xlink:actuate=\"onRequest\" xlink:href=\"psysml:ca2e3746-a8d0-4883-91df-79f98ad99c0c\" xlink:show=\"new\" xlink:title=\"psysml:ca2e3746-a8d0-4883-91df-79f98ad99c0c\" xlink:type=\"simple\"><polygon fill=\"#FFFFFF\" points=\"327,293.72,423,293.72,430,316.0169,437,316.0169,437,346.3138,327,346.3138,327,293.72\" style=\"stroke: #000000; stroke-width: 1.5;\"/><line style=\"stroke: #000000; stroke-width: 1.5;\" x1=\"327\" x2=\"430\" y1=\"316.0169\" y2=\"316.0169\"/><text fill=\"#000000\" font-family=\"sans-serif\" font-size=\"14\" font-weight=\"bold\" lengthAdjust=\"spacingAndGlyphs\" textLength=\"90\" x=\"331\" y=\"308.7151\">Service Layer</text></a><a href=\"psysml:31612912-620e-4f5b-bfbe-0087437cb05d\" target=\"_top\" title=\"psysml:31612912-620e-4f5b-bfbe-0087437cb05d\" xlink:actuate=\"onRequest\" xlink:href=\"psysml:31612912-620e-4f5b-bfbe-0087437cb05d\" xlink:show=\"new\" xlink:title=\"psysml:31612912-620e-4f5b-bfbe-0087437cb05d\" xlink:type=\"simple\"><polygon fill=\"#FFFFFF\" points=\"336,423.72,414,423.72,421,446.0169,428,446.0169,428,476.3138,336,476.3138,336,423.72\" style=\"stroke: #000000; stroke-width: 1.5;\"/><line style=\"stroke: #000000; stroke-width: 1.5;\" x1=\"336\" x2=\"421\" y1=\"446.0169\" y2=\"446.0169\"/><text fill=\"#000000\" font-family=\"sans-serif\" font-size=\"14\" font-weight=\"bold\" lengthAdjust=\"spacingAndGlyphs\" textLength=\"72\" x=\"340\" y=\"438.7151\">Data Layer</text></a><!--MD5=[1f1cd8e6dd4c1b2ca2aaccc9b9bcea6e]\n",
       "link E1 to E2--><a href=\"psysml:feb54464-815e-4611-ad28-7085b6ccbd88\" target=\"_top\" title=\"psysml:feb54464-815e-4611-ad28-7085b6ccbd88\" xlink:actuate=\"onRequest\" xlink:href=\"psysml:feb54464-815e-4611-ad28-7085b6ccbd88\" xlink:show=\"new\" xlink:title=\"psysml:feb54464-815e-4611-ad28-7085b6ccbd88\" xlink:type=\"simple\"><path d=\"M279,33.81 C279,38.265 279,75.1 279,111.9025 C279,114.2027 279,116.5027 279,118.7947 C279,119.3677 279,119.9402 279,120.512 \" fill=\"none\" id=\"E1-&gt;E2\" style=\"stroke: #383838; stroke-width: 1.0; stroke-dasharray: 7.0,7.0;\"/><polygon fill=\"#383838\" points=\"279,120.512,283,111.512,279,115.512,275,111.512,279,120.512\" style=\"stroke: #383838; stroke-width: 1.0;\"/><text fill=\"#000000\" font-family=\"sans-serif\" font-size=\"13\" lengthAdjust=\"spacingAndGlyphs\" textLength=\"65\" x=\"280\" y=\"76.7869\">«import»*</text></a><!--MD5=[af87c684e3b0d8be13c1a698a818ef1e]\n",
       "link E3 to E4--><a href=\"psysml:46e8547b-a8f1-46c9-aa96-df26a1cf1e34\" target=\"_top\" title=\"psysml:46e8547b-a8f1-46c9-aa96-df26a1cf1e34\" xlink:actuate=\"onRequest\" xlink:href=\"psysml:46e8547b-a8f1-46c9-aa96-df26a1cf1e34\" xlink:show=\"new\" xlink:title=\"psysml:46e8547b-a8f1-46c9-aa96-df26a1cf1e34\" xlink:type=\"simple\"><path d=\"M382,216.84 C382,216.84 382,285.63 382,285.63 \" fill=\"none\" id=\"E3-&gt;E4\" style=\"stroke: #383838; stroke-width: 1.0; stroke-dasharray: 7.0,7.0;\"/><polygon fill=\"#383838\" points=\"382,293.63,385,285.63,379,285.63,382,293.63\" style=\"stroke: #383838; stroke-width: 1.0;\"/><text fill=\"#000000\" font-family=\"sans-serif\" font-size=\"13\" lengthAdjust=\"spacingAndGlyphs\" textLength=\"64\" x=\"383\" y=\"259.7869\">«depend»</text></a><!--MD5=[1b7591eae5389033d8d09a9d6721a717]\n",
       "link E4 to E5--><a href=\"psysml:4580f085-b870-4b86-bde9-338fd4cc0a1d\" target=\"_top\" title=\"psysml:4580f085-b870-4b86-bde9-338fd4cc0a1d\" xlink:actuate=\"onRequest\" xlink:href=\"psysml:4580f085-b870-4b86-bde9-338fd4cc0a1d\" xlink:show=\"new\" xlink:title=\"psysml:4580f085-b870-4b86-bde9-338fd4cc0a1d\" xlink:type=\"simple\"><path d=\"M382,346.84 C382,346.84 382,415.63 382,415.63 \" fill=\"none\" id=\"E4-&gt;E5\" style=\"stroke: #383838; stroke-width: 1.0; stroke-dasharray: 7.0,7.0;\"/><polygon fill=\"#383838\" points=\"382,423.63,385,415.63,379,415.63,382,423.63\" style=\"stroke: #383838; stroke-width: 1.0;\"/><text fill=\"#000000\" font-family=\"sans-serif\" font-size=\"13\" lengthAdjust=\"spacingAndGlyphs\" textLength=\"64\" x=\"383\" y=\"389.7869\">«depend»</text></a><!--MD5=[c5e8897d989ce984f93528998a7150fe]\n",
       "link E8 to E6--><a href=\"psysml:ef6c4171-27e8-4274-afa9-e3f35902caaf\" target=\"_top\" title=\"psysml:ef6c4171-27e8-4274-afa9-e3f35902caaf\" xlink:actuate=\"onRequest\" xlink:href=\"psysml:ef6c4171-27e8-4274-afa9-e3f35902caaf\" xlink:show=\"new\" xlink:title=\"psysml:ef6c4171-27e8-4274-afa9-e3f35902caaf\" xlink:type=\"simple\"><path d=\"M102,213.46 C102,213.46 102,289.18 102,289.18 \" fill=\"none\" id=\"E8-&gt;E6\" style=\"stroke: #383838; stroke-width: 1.0; stroke-dasharray: 7.0,7.0;\"/><polygon fill=\"#383838\" points=\"102,297.18,105,289.18,99,289.18,102,297.18\" style=\"stroke: #383838; stroke-width: 1.0;\"/><text fill=\"#000000\" font-family=\"sans-serif\" font-size=\"13\" lengthAdjust=\"spacingAndGlyphs\" textLength=\"64\" x=\"76\" y=\"259.7869\">«depend»</text></a><!--MD5=[bfa3c8b0d15052fdf50ae9310b491027]\n",
       "link E8 to E7--><a href=\"psysml:ef6c4171-27e8-4274-afa9-e3f35902caaf\" target=\"_top\" title=\"psysml:ef6c4171-27e8-4274-afa9-e3f35902caaf\" xlink:actuate=\"onRequest\" xlink:href=\"psysml:ef6c4171-27e8-4274-afa9-e3f35902caaf\" xlink:show=\"new\" xlink:title=\"psysml:ef6c4171-27e8-4274-afa9-e3f35902caaf\" xlink:type=\"simple\"><path d=\"M155,213.46 C155,213.46 155,289.18 155,289.18 \" fill=\"none\" id=\"E8-&gt;E7\" style=\"stroke: #383838; stroke-width: 1.0; stroke-dasharray: 7.0,7.0;\"/><polygon fill=\"#383838\" points=\"155,297.18,158,289.18,152,289.18,155,297.18\" style=\"stroke: #383838; stroke-width: 1.0;\"/><text fill=\"#000000\" font-family=\"sans-serif\" font-size=\"13\" lengthAdjust=\"spacingAndGlyphs\" textLength=\"64\" x=\"182\" y=\"259.7869\">«depend»</text></a><!--MD5=[b1418b79812473104ec2a0b6a9442ebd]\n",
       "@startuml\r\n",
       "skinparam linetype ortho\r\n",
       "skinparam monochrome true\r\n",
       "skinparam classbackgroundcolor white\r\n",
       "skinparam shadowing false\r\n",
       "skinparam wrapWidth 300\r\n",
       "hide circle\r\n",
       "\r\n",
       "package \"DependencyTest\" as E1  [[psysml:fa3e9fbf-effa-4977-80ec-fe6e8fa57f4d ]]  {\r\n",
       "package \"System\" as E2  [[psysml:10c1ae57-66e9-4db6-bc3d-37ac2db9914a ]]  {\r\n",
       "package \"Application Layer\" as E3  [[psysml:f00bbef0-e3df-4574-9254-08b97b82cdf9 ]]  {\r\n",
       "}\r\n",
       "package \"Service Layer\" as E4  [[psysml:ca2e3746-a8d0-4883-91df-79f98ad99c0c ]]  {\r\n",
       "}\r\n",
       "package \"Data Layer\" as E5  [[psysml:31612912-620e-4f5b-bfbe-0087437cb05d ]]  {\r\n",
       "}\r\n",
       "}\r\n",
       "comp usage \"x \" as E6  <<(T,blue) attribute>> [[psysml:af126b68-a763-4b5e-ae0f-74aa81d9e434 ]] {\r\n",
       "}\r\n",
       "comp usage \"y \" as E7  <<(T,blue) attribute>> [[psysml:a5153252-c77e-42e1-a87d-8eb1cf591399 ]] {\r\n",
       "}\r\n",
       "comp usage \"z \" as E8  <<(T,blue) attribute>> [[psysml:4fcd16ab-62c7-48db-8542-d458ee8b30b8 ]] {\r\n",
       "}\r\n",
       "}\r\n",
       "E1 ..> E2 [[psysml:feb54464-815e-4611-ad28-7085b6ccbd88 ]] : <<import>>*\r\n",
       "E3 ..>> E4 [[psysml:46e8547b-a8f1-46c9-aa96-df26a1cf1e34 ]] : <<depend>>\r\n",
       "E4 ..>> E5 [[psysml:4580f085-b870-4b86-bde9-338fd4cc0a1d ]] : <<depend>>\r\n",
       "E8 ..>> E6 [[psysml:ef6c4171-27e8-4274-afa9-e3f35902caaf ]] : <<depend>>\r\n",
       "E8 ..>> E7 [[psysml:ef6c4171-27e8-4274-afa9-e3f35902caaf ]] : <<depend>>\r\n",
       "@enduml\r\n",
       "\n",
       "PlantUML version 1.2020.13(Sat Jun 13 12:26:38 UTC 2020)\n",
       "(EPL source distribution)\n",
       "Java Runtime: OpenJDK Runtime Environment\n",
       "JVM: OpenJDK 64-Bit Server VM\n",
       "Default Encoding: UTF-8\n",
       "Language: en\n",
       "Country: null\n",
       "--></g></svg>"
      ]
     },
     "execution_count": 52,
     "metadata": {},
     "output_type": "execute_result"
    }
   ],
   "source": [
    "%viz --style=\"ORTHOLINE\" --view=\"Tree\" \"DependencyTest\""
   ]
  },
  {
   "cell_type": "code",
   "execution_count": 53,
   "id": "fd9225db",
   "metadata": {
    "execution": {
     "iopub.execute_input": "2022-04-22T09:48:09.587982Z",
     "iopub.status.busy": "2022-04-22T09:48:09.587573Z",
     "iopub.status.idle": "2022-04-22T09:48:09.593013Z",
     "shell.execute_reply": "2022-04-22T09:48:09.592659Z"
    }
   },
   "outputs": [
    {
     "data": {
      "image/svg+xml": [
       "<?xml version=\"1.0\" encoding=\"UTF-8\" standalone=\"no\"?><svg xmlns=\"http://www.w3.org/2000/svg\" xmlns:xlink=\"http://www.w3.org/1999/xlink\" contentScriptType=\"application/ecmascript\" contentStyleType=\"text/css\" height=\"12px\" preserveAspectRatio=\"none\" style=\"width:12px;height:12px;\" version=\"1.1\" viewBox=\"0 0 12 12\" width=\"12px\" zoomAndPan=\"magnify\"><defs/><g><!--MD5=[97d6f38768b311333d388e66b2b27985]\n",
       "@startuml\r\n",
       "skinparam linetype ortho\r\n",
       "skinparam monochrome true\r\n",
       "skinparam classbackgroundcolor white\r\n",
       "skinparam shadowing false\r\n",
       "skinparam wrapWidth 300\r\n",
       "hide circle\r\n",
       "\r\n",
       "@enduml\r\n",
       "\n",
       "PlantUML version 1.2020.13(Sat Jun 13 12:26:38 UTC 2020)\n",
       "(EPL source distribution)\n",
       "Java Runtime: OpenJDK Runtime Environment\n",
       "JVM: OpenJDK 64-Bit Server VM\n",
       "Default Encoding: UTF-8\n",
       "Language: en\n",
       "Country: null\n",
       "--></g></svg>"
      ]
     },
     "execution_count": 53,
     "metadata": {},
     "output_type": "execute_result"
    }
   ],
   "source": [
    "%viz --style=\"ORTHOLINE\" --view=\"State\" \"DependencyTest\""
   ]
  },
  {
   "cell_type": "code",
   "execution_count": 54,
   "id": "b0b0e239",
   "metadata": {
    "execution": {
     "iopub.execute_input": "2022-04-22T09:48:09.642420Z",
     "iopub.status.busy": "2022-04-22T09:48:09.642011Z",
     "iopub.status.idle": "2022-04-22T09:48:09.676547Z",
     "shell.execute_reply": "2022-04-22T09:48:09.676161Z"
    }
   },
   "outputs": [
    {
     "data": {
      "image/svg+xml": [
       "<?xml version=\"1.0\" encoding=\"UTF-8\" standalone=\"no\"?><svg xmlns=\"http://www.w3.org/2000/svg\" xmlns:xlink=\"http://www.w3.org/1999/xlink\" contentScriptType=\"application/ecmascript\" contentStyleType=\"text/css\" height=\"442px\" preserveAspectRatio=\"none\" style=\"width:536px;height:442px;\" version=\"1.1\" viewBox=\"0 0 536 442\" width=\"536px\" zoomAndPan=\"magnify\"><defs/><g><!--MD5=[fbc87193dbaf4d95561dea2c320d4a47]\n",
       "cluster E1--><a href=\"psysml:fa3e9fbf-effa-4977-80ec-fe6e8fa57f4d\" target=\"_top\" title=\"psysml:fa3e9fbf-effa-4977-80ec-fe6e8fa57f4d\" xlink:actuate=\"onRequest\" xlink:href=\"psysml:fa3e9fbf-effa-4977-80ec-fe6e8fa57f4d\" xlink:show=\"new\" xlink:title=\"psysml:fa3e9fbf-effa-4977-80ec-fe6e8fa57f4d\" xlink:type=\"simple\"><polygon fill=\"#FFFFFF\" points=\"16,6,142,6,149,28.2969,514,28.2969,514,430.72,16,430.72,16,6\" style=\"stroke: #000000; stroke-width: 1.5;\"/><line style=\"stroke: #000000; stroke-width: 1.5;\" x1=\"16\" x2=\"149\" y1=\"28.2969\" y2=\"28.2969\"/><text fill=\"#000000\" font-family=\"sans-serif\" font-size=\"14\" font-weight=\"bold\" lengthAdjust=\"spacingAndGlyphs\" textLength=\"120\" x=\"20\" y=\"20.9951\">DependencyTest</text></a><!--MD5=[e4f7fae6ed58524ba242bb0b0d3be6b7]\n",
       "cluster E2--><a href=\"psysml:10c1ae57-66e9-4db6-bc3d-37ac2db9914a\" target=\"_top\" title=\"psysml:10c1ae57-66e9-4db6-bc3d-37ac2db9914a\" xlink:actuate=\"onRequest\" xlink:href=\"psysml:10c1ae57-66e9-4db6-bc3d-37ac2db9914a\" xlink:show=\"new\" xlink:title=\"psysml:10c1ae57-66e9-4db6-bc3d-37ac2db9914a\" xlink:type=\"simple\"><polygon fill=\"#FFFFFF\" points=\"271,98.72,328,98.72,335,121.0169,474,121.0169,474,390.72,271,390.72,271,98.72\" style=\"stroke: #000000; stroke-width: 1.5;\"/><line style=\"stroke: #000000; stroke-width: 1.5;\" x1=\"271\" x2=\"335\" y1=\"121.0169\" y2=\"121.0169\"/><text fill=\"#000000\" font-family=\"sans-serif\" font-size=\"14\" font-weight=\"bold\" lengthAdjust=\"spacingAndGlyphs\" textLength=\"51\" x=\"275\" y=\"113.7151\">System</text></a><!--MD5=[60a26617385b1d2d0262a64233df1f8d]\n",
       "class E6--><a href=\"psysml:af126b68-a763-4b5e-ae0f-74aa81d9e434\" target=\"_top\" title=\"psysml:af126b68-a763-4b5e-ae0f-74aa81d9e434\" xlink:actuate=\"onRequest\" xlink:href=\"psysml:af126b68-a763-4b5e-ae0f-74aa81d9e434\" xlink:show=\"new\" xlink:title=\"psysml:af126b68-a763-4b5e-ae0f-74aa81d9e434\" xlink:type=\"simple\"><rect fill=\"#FFFFFF\" height=\"45.9375\" id=\"E6\" rx=\"10\" ry=\"10\" style=\"stroke: #383838; stroke-width: 1.5;\" width=\"71\" x=\"40.5\" y=\"231.22\"/><text fill=\"#000000\" font-family=\"sans-serif\" font-size=\"12\" font-style=\"italic\" lengthAdjust=\"spacingAndGlyphs\" textLength=\"69\" x=\"41.5\" y=\"247.3587\">«attribute»</text><text fill=\"#000000\" font-family=\"sans-serif\" font-size=\"12\" lengthAdjust=\"spacingAndGlyphs\" textLength=\"6\" x=\"71\" y=\"261.3274\">x</text><line style=\"stroke: #383838; stroke-width: 1.5;\" x1=\"41.5\" x2=\"110.5\" y1=\"269.1575\" y2=\"269.1575\"/></a><!--MD5=[2156ba9850f5573cc1fc38a6a4b2f02b]\n",
       "class E7--><a href=\"psysml:a5153252-c77e-42e1-a87d-8eb1cf591399\" target=\"_top\" title=\"psysml:a5153252-c77e-42e1-a87d-8eb1cf591399\" xlink:actuate=\"onRequest\" xlink:href=\"psysml:a5153252-c77e-42e1-a87d-8eb1cf591399\" xlink:show=\"new\" xlink:title=\"psysml:a5153252-c77e-42e1-a87d-8eb1cf591399\" xlink:type=\"simple\"><rect fill=\"#FFFFFF\" height=\"45.9375\" id=\"E7\" rx=\"10\" ry=\"10\" style=\"stroke: #383838; stroke-width: 1.5;\" width=\"71\" x=\"146.5\" y=\"231.22\"/><text fill=\"#000000\" font-family=\"sans-serif\" font-size=\"12\" font-style=\"italic\" lengthAdjust=\"spacingAndGlyphs\" textLength=\"69\" x=\"147.5\" y=\"247.3587\">«attribute»</text><text fill=\"#000000\" font-family=\"sans-serif\" font-size=\"12\" lengthAdjust=\"spacingAndGlyphs\" textLength=\"6\" x=\"177\" y=\"261.3274\">y</text><line style=\"stroke: #383838; stroke-width: 1.5;\" x1=\"147.5\" x2=\"216.5\" y1=\"269.1575\" y2=\"269.1575\"/></a><!--MD5=[b9389687b975829384b498ac4b7476b2]\n",
       "class E8--><a href=\"psysml:4fcd16ab-62c7-48db-8542-d458ee8b30b8\" target=\"_top\" title=\"psysml:4fcd16ab-62c7-48db-8542-d458ee8b30b8\" xlink:actuate=\"onRequest\" xlink:href=\"psysml:4fcd16ab-62c7-48db-8542-d458ee8b30b8\" xlink:show=\"new\" xlink:title=\"psysml:4fcd16ab-62c7-48db-8542-d458ee8b30b8\" xlink:type=\"simple\"><rect fill=\"#FFFFFF\" height=\"45.9375\" id=\"E8\" rx=\"10\" ry=\"10\" style=\"stroke: #383838; stroke-width: 1.5;\" width=\"71\" x=\"92.5\" y=\"145.22\"/><text fill=\"#000000\" font-family=\"sans-serif\" font-size=\"12\" font-style=\"italic\" lengthAdjust=\"spacingAndGlyphs\" textLength=\"69\" x=\"93.5\" y=\"161.3587\">«attribute»</text><text fill=\"#000000\" font-family=\"sans-serif\" font-size=\"12\" lengthAdjust=\"spacingAndGlyphs\" textLength=\"5\" x=\"123.5\" y=\"175.3274\">z</text><line style=\"stroke: #383838; stroke-width: 1.5;\" x1=\"93.5\" x2=\"162.5\" y1=\"183.1575\" y2=\"183.1575\"/></a><a href=\"psysml:f00bbef0-e3df-4574-9254-08b97b82cdf9\" target=\"_top\" title=\"psysml:f00bbef0-e3df-4574-9254-08b97b82cdf9\" xlink:actuate=\"onRequest\" xlink:href=\"psysml:f00bbef0-e3df-4574-9254-08b97b82cdf9\" xlink:show=\"new\" xlink:title=\"psysml:f00bbef0-e3df-4574-9254-08b97b82cdf9\" xlink:type=\"simple\"><polygon fill=\"#FFFFFF\" points=\"314.5,141.72,435.5,141.72,442.5,164.0169,449.5,164.0169,449.5,194.3138,314.5,194.3138,314.5,141.72\" style=\"stroke: #000000; stroke-width: 1.5;\"/><line style=\"stroke: #000000; stroke-width: 1.5;\" x1=\"314.5\" x2=\"442.5\" y1=\"164.0169\" y2=\"164.0169\"/><text fill=\"#000000\" font-family=\"sans-serif\" font-size=\"14\" font-weight=\"bold\" lengthAdjust=\"spacingAndGlyphs\" textLength=\"115\" x=\"318.5\" y=\"156.7151\">Application Layer</text></a><a href=\"psysml:ca2e3746-a8d0-4883-91df-79f98ad99c0c\" target=\"_top\" title=\"psysml:ca2e3746-a8d0-4883-91df-79f98ad99c0c\" xlink:actuate=\"onRequest\" xlink:href=\"psysml:ca2e3746-a8d0-4883-91df-79f98ad99c0c\" xlink:show=\"new\" xlink:title=\"psysml:ca2e3746-a8d0-4883-91df-79f98ad99c0c\" xlink:type=\"simple\"><polygon fill=\"#FFFFFF\" points=\"327,227.72,423,227.72,430,250.0169,437,250.0169,437,280.3138,327,280.3138,327,227.72\" style=\"stroke: #000000; stroke-width: 1.5;\"/><line style=\"stroke: #000000; stroke-width: 1.5;\" x1=\"327\" x2=\"430\" y1=\"250.0169\" y2=\"250.0169\"/><text fill=\"#000000\" font-family=\"sans-serif\" font-size=\"14\" font-weight=\"bold\" lengthAdjust=\"spacingAndGlyphs\" textLength=\"90\" x=\"331\" y=\"242.7151\">Service Layer</text></a><a href=\"psysml:31612912-620e-4f5b-bfbe-0087437cb05d\" target=\"_top\" title=\"psysml:31612912-620e-4f5b-bfbe-0087437cb05d\" xlink:actuate=\"onRequest\" xlink:href=\"psysml:31612912-620e-4f5b-bfbe-0087437cb05d\" xlink:show=\"new\" xlink:title=\"psysml:31612912-620e-4f5b-bfbe-0087437cb05d\" xlink:type=\"simple\"><polygon fill=\"#FFFFFF\" points=\"336,313.72,414,313.72,421,336.0169,428,336.0169,428,366.3138,336,366.3138,336,313.72\" style=\"stroke: #000000; stroke-width: 1.5;\"/><line style=\"stroke: #000000; stroke-width: 1.5;\" x1=\"336\" x2=\"421\" y1=\"336.0169\" y2=\"336.0169\"/><text fill=\"#000000\" font-family=\"sans-serif\" font-size=\"14\" font-weight=\"bold\" lengthAdjust=\"spacingAndGlyphs\" textLength=\"72\" x=\"340\" y=\"328.7151\">Data Layer</text></a><!--MD5=[1f1cd8e6dd4c1b2ca2aaccc9b9bcea6e]\n",
       "link E1 to E2--><a href=\"psysml:feb54464-815e-4611-ad28-7085b6ccbd88\" target=\"_top\" title=\"psysml:feb54464-815e-4611-ad28-7085b6ccbd88\" xlink:actuate=\"onRequest\" xlink:href=\"psysml:feb54464-815e-4611-ad28-7085b6ccbd88\" xlink:show=\"new\" xlink:title=\"psysml:feb54464-815e-4611-ad28-7085b6ccbd88\" xlink:type=\"simple\"><path d=\"M279,33.75 C279,35.665 279,44.54 279,56.8914 C279,63.0671 279,70.1119 279,77.5904 C279,81.3296 279,85.1772 279,89.0789 C279,91.0297 279,92.994 279,94.965 C279,95.9505 279,96.9377 279,97.9256 C279,98.1726 279,98.4197 279,98.6668 \" fill=\"none\" id=\"E1-&gt;E2\" style=\"stroke: #383838; stroke-width: 1.0; stroke-dasharray: 7.0,7.0;\"/><polygon fill=\"#383838\" points=\"279,98.6668,283,89.6668,279,93.6668,275,89.6668,279,98.6668\" style=\"stroke: #383838; stroke-width: 1.0;\"/><text fill=\"#000000\" font-family=\"sans-serif\" font-size=\"13\" lengthAdjust=\"spacingAndGlyphs\" textLength=\"65\" x=\"280\" y=\"54.7869\">«import»*</text></a><!--MD5=[af87c684e3b0d8be13c1a698a818ef1e]\n",
       "link E3 to E4--><a href=\"psysml:46e8547b-a8f1-46c9-aa96-df26a1cf1e34\" target=\"_top\" title=\"psysml:46e8547b-a8f1-46c9-aa96-df26a1cf1e34\" xlink:actuate=\"onRequest\" xlink:href=\"psysml:46e8547b-a8f1-46c9-aa96-df26a1cf1e34\" xlink:show=\"new\" xlink:title=\"psysml:46e8547b-a8f1-46c9-aa96-df26a1cf1e34\" xlink:type=\"simple\"><path d=\"M382,194.96 C382,194.96 382,219.5 382,219.5 \" fill=\"none\" id=\"E3-&gt;E4\" style=\"stroke: #383838; stroke-width: 1.0; stroke-dasharray: 7.0,7.0;\"/><polygon fill=\"#383838\" points=\"382,227.5,385,219.5,379,219.5,382,227.5\" style=\"stroke: #383838; stroke-width: 1.0;\"/><text fill=\"#000000\" font-family=\"sans-serif\" font-size=\"13\" lengthAdjust=\"spacingAndGlyphs\" textLength=\"64\" x=\"383\" y=\"215.7869\">«depend»</text></a><!--MD5=[1b7591eae5389033d8d09a9d6721a717]\n",
       "link E4 to E5--><a href=\"psysml:4580f085-b870-4b86-bde9-338fd4cc0a1d\" target=\"_top\" title=\"psysml:4580f085-b870-4b86-bde9-338fd4cc0a1d\" xlink:actuate=\"onRequest\" xlink:href=\"psysml:4580f085-b870-4b86-bde9-338fd4cc0a1d\" xlink:show=\"new\" xlink:title=\"psysml:4580f085-b870-4b86-bde9-338fd4cc0a1d\" xlink:type=\"simple\"><path d=\"M382,280.96 C382,280.96 382,305.5 382,305.5 \" fill=\"none\" id=\"E4-&gt;E5\" style=\"stroke: #383838; stroke-width: 1.0; stroke-dasharray: 7.0,7.0;\"/><polygon fill=\"#383838\" points=\"382,313.5,385,305.5,379,305.5,382,313.5\" style=\"stroke: #383838; stroke-width: 1.0;\"/><text fill=\"#000000\" font-family=\"sans-serif\" font-size=\"13\" lengthAdjust=\"spacingAndGlyphs\" textLength=\"64\" x=\"383\" y=\"301.7869\">«depend»</text></a><!--MD5=[c5e8897d989ce984f93528998a7150fe]\n",
       "link E8 to E6--><a href=\"psysml:ef6c4171-27e8-4274-afa9-e3f35902caaf\" target=\"_top\" title=\"psysml:ef6c4171-27e8-4274-afa9-e3f35902caaf\" xlink:actuate=\"onRequest\" xlink:href=\"psysml:ef6c4171-27e8-4274-afa9-e3f35902caaf\" xlink:show=\"new\" xlink:title=\"psysml:ef6c4171-27e8-4274-afa9-e3f35902caaf\" xlink:type=\"simple\"><path d=\"M102,191.27 C102,191.27 102,223.11 102,223.11 \" fill=\"none\" id=\"E8-&gt;E6\" style=\"stroke: #383838; stroke-width: 1.0; stroke-dasharray: 7.0,7.0;\"/><polygon fill=\"#383838\" points=\"102,231.11,105,223.11,99,223.11,102,231.11\" style=\"stroke: #383838; stroke-width: 1.0;\"/><text fill=\"#000000\" font-family=\"sans-serif\" font-size=\"13\" lengthAdjust=\"spacingAndGlyphs\" textLength=\"64\" x=\"76\" y=\"215.7869\">«depend»</text></a><!--MD5=[bfa3c8b0d15052fdf50ae9310b491027]\n",
       "link E8 to E7--><a href=\"psysml:ef6c4171-27e8-4274-afa9-e3f35902caaf\" target=\"_top\" title=\"psysml:ef6c4171-27e8-4274-afa9-e3f35902caaf\" xlink:actuate=\"onRequest\" xlink:href=\"psysml:ef6c4171-27e8-4274-afa9-e3f35902caaf\" xlink:show=\"new\" xlink:title=\"psysml:ef6c4171-27e8-4274-afa9-e3f35902caaf\" xlink:type=\"simple\"><path d=\"M155,191.27 C155,191.27 155,223.11 155,223.11 \" fill=\"none\" id=\"E8-&gt;E7\" style=\"stroke: #383838; stroke-width: 1.0; stroke-dasharray: 7.0,7.0;\"/><polygon fill=\"#383838\" points=\"155,231.11,158,223.11,152,223.11,155,231.11\" style=\"stroke: #383838; stroke-width: 1.0;\"/><text fill=\"#000000\" font-family=\"sans-serif\" font-size=\"13\" lengthAdjust=\"spacingAndGlyphs\" textLength=\"64\" x=\"182\" y=\"215.7869\">«depend»</text></a><!--MD5=[8c7d3e863cf4b7353e833d5e8ec0e77d]\n",
       "@startuml\r\n",
       "skinparam ranksep 10\r\n",
       "skinparam rectangle {\r\n",
       " backgroundColor<<block>> LightGreen\r\n",
       "}\r\n",
       "skinparam linetype ortho\r\n",
       "skinparam monochrome true\r\n",
       "skinparam classbackgroundcolor white\r\n",
       "skinparam shadowing false\r\n",
       "skinparam wrapWidth 300\r\n",
       "hide circle\r\n",
       "\r\n",
       "package \"DependencyTest\" as E1  [[psysml:fa3e9fbf-effa-4977-80ec-fe6e8fa57f4d ]]  {\r\n",
       "package \"System\" as E2  [[psysml:10c1ae57-66e9-4db6-bc3d-37ac2db9914a ]]  {\r\n",
       "package \"Application Layer\" as E3  [[psysml:f00bbef0-e3df-4574-9254-08b97b82cdf9 ]]  {\r\n",
       "}\r\n",
       "package \"Service Layer\" as E4  [[psysml:ca2e3746-a8d0-4883-91df-79f98ad99c0c ]]  {\r\n",
       "}\r\n",
       "package \"Data Layer\" as E5  [[psysml:31612912-620e-4f5b-bfbe-0087437cb05d ]]  {\r\n",
       "}\r\n",
       "}\r\n",
       "comp usage \"x \" as E6  <<(T,blue) attribute>> [[psysml:af126b68-a763-4b5e-ae0f-74aa81d9e434 ]] {\r\n",
       "}\r\n",
       "comp usage \"y \" as E7  <<(T,blue) attribute>> [[psysml:a5153252-c77e-42e1-a87d-8eb1cf591399 ]] {\r\n",
       "}\r\n",
       "comp usage \"z \" as E8  <<(T,blue) attribute>> [[psysml:4fcd16ab-62c7-48db-8542-d458ee8b30b8 ]] {\r\n",
       "}\r\n",
       "}\r\n",
       "E1 ..> E2 [[psysml:feb54464-815e-4611-ad28-7085b6ccbd88 ]] : <<import>>*\r\n",
       "E3 ..>> E4 [[psysml:46e8547b-a8f1-46c9-aa96-df26a1cf1e34 ]] : <<depend>>\r\n",
       "E4 ..>> E5 [[psysml:4580f085-b870-4b86-bde9-338fd4cc0a1d ]] : <<depend>>\r\n",
       "E8 ..>> E6 [[psysml:ef6c4171-27e8-4274-afa9-e3f35902caaf ]] : <<depend>>\r\n",
       "E8 ..>> E7 [[psysml:ef6c4171-27e8-4274-afa9-e3f35902caaf ]] : <<depend>>\r\n",
       "@enduml\r\n",
       "\n",
       "PlantUML version 1.2020.13(Sat Jun 13 12:26:38 UTC 2020)\n",
       "(EPL source distribution)\n",
       "Java Runtime: OpenJDK Runtime Environment\n",
       "JVM: OpenJDK 64-Bit Server VM\n",
       "Default Encoding: UTF-8\n",
       "Language: en\n",
       "Country: null\n",
       "--></g></svg>"
      ]
     },
     "execution_count": 54,
     "metadata": {},
     "output_type": "execute_result"
    }
   ],
   "source": [
    "%viz --style=\"ORTHOLINE\" --view=\"Interconnection\" \"DependencyTest\""
   ]
  },
  {
   "cell_type": "code",
   "execution_count": 55,
   "id": "686dda02",
   "metadata": {
    "execution": {
     "iopub.execute_input": "2022-04-22T09:48:09.726381Z",
     "iopub.status.busy": "2022-04-22T09:48:09.725887Z",
     "iopub.status.idle": "2022-04-22T09:48:09.730298Z",
     "shell.execute_reply": "2022-04-22T09:48:09.729939Z"
    }
   },
   "outputs": [
    {
     "data": {
      "image/svg+xml": [
       "<?xml version=\"1.0\" encoding=\"UTF-8\" standalone=\"no\"?><svg xmlns=\"http://www.w3.org/2000/svg\" xmlns:xlink=\"http://www.w3.org/1999/xlink\" contentScriptType=\"application/ecmascript\" contentStyleType=\"text/css\" height=\"12px\" preserveAspectRatio=\"none\" style=\"width:12px;height:12px;\" version=\"1.1\" viewBox=\"0 0 12 12\" width=\"12px\" zoomAndPan=\"magnify\"><defs/><g><!--MD5=[72934c63077099a26744516a776b4749]\n",
       "@startuml\r\n",
       "skinparam ranksep 8\r\n",
       "skinparam linetype ortho\r\n",
       "skinparam monochrome true\r\n",
       "skinparam classbackgroundcolor white\r\n",
       "skinparam shadowing false\r\n",
       "skinparam wrapWidth 300\r\n",
       "hide circle\r\n",
       "\r\n",
       "@enduml\r\n",
       "\n",
       "PlantUML version 1.2020.13(Sat Jun 13 12:26:38 UTC 2020)\n",
       "(EPL source distribution)\n",
       "Java Runtime: OpenJDK Runtime Environment\n",
       "JVM: OpenJDK 64-Bit Server VM\n",
       "Default Encoding: UTF-8\n",
       "Language: en\n",
       "Country: null\n",
       "--></g></svg>"
      ]
     },
     "execution_count": 55,
     "metadata": {},
     "output_type": "execute_result"
    }
   ],
   "source": [
    "%viz --style=\"ORTHOLINE\" --view=\"Action\" \"DependencyTest\""
   ]
  },
  {
   "cell_type": "code",
   "execution_count": 56,
   "id": "d2a45912",
   "metadata": {
    "execution": {
     "iopub.execute_input": "2022-04-22T09:48:09.780238Z",
     "iopub.status.busy": "2022-04-22T09:48:09.779809Z",
     "iopub.status.idle": "2022-04-22T09:48:09.784288Z",
     "shell.execute_reply": "2022-04-22T09:48:09.783928Z"
    }
   },
   "outputs": [
    {
     "data": {
      "image/svg+xml": [
       "<?xml version=\"1.0\" encoding=\"UTF-8\" standalone=\"no\"?><svg xmlns=\"http://www.w3.org/2000/svg\" xmlns:xlink=\"http://www.w3.org/1999/xlink\" contentScriptType=\"application/ecmascript\" contentStyleType=\"text/css\" height=\"12px\" preserveAspectRatio=\"none\" style=\"width:12px;height:12px;\" version=\"1.1\" viewBox=\"0 0 12 12\" width=\"12px\" zoomAndPan=\"magnify\"><defs/><g><!--MD5=[30fc1de5121c5abddedd55b44417fde8]\n",
       "@startuml\r\n",
       "skinparam roundcorner 20\r\n",
       "skinparam BoxPadding 20\r\n",
       "skinparam SequenceBoxBackgroundColor #white\r\n",
       "skinparam style strictuml\r\n",
       "skinparam maxMessageSize 100\r\n",
       "skinparam linetype ortho\r\n",
       "skinparam monochrome true\r\n",
       "skinparam classbackgroundcolor white\r\n",
       "skinparam shadowing false\r\n",
       "skinparam wrapWidth 300\r\n",
       "hide circle\r\n",
       "\r\n",
       "@enduml\r\n",
       "\n",
       "PlantUML version 1.2020.13(Sat Jun 13 12:26:38 UTC 2020)\n",
       "(EPL source distribution)\n",
       "Java Runtime: OpenJDK Runtime Environment\n",
       "JVM: OpenJDK 64-Bit Server VM\n",
       "Default Encoding: UTF-8\n",
       "Language: en\n",
       "Country: null\n",
       "--></g></svg>"
      ]
     },
     "execution_count": 56,
     "metadata": {},
     "output_type": "execute_result"
    }
   ],
   "source": [
    "%viz --style=\"ORTHOLINE\" --view=\"Sequence\" \"DependencyTest\""
   ]
  },
  {
   "cell_type": "code",
   "execution_count": 57,
   "id": "3da53f97",
   "metadata": {
    "execution": {
     "iopub.execute_input": "2022-04-22T09:48:09.834378Z",
     "iopub.status.busy": "2022-04-22T09:48:09.833920Z",
     "iopub.status.idle": "2022-04-22T09:48:09.867507Z",
     "shell.execute_reply": "2022-04-22T09:48:09.865865Z"
    }
   },
   "outputs": [
    {
     "data": {
      "image/svg+xml": [
       "<?xml version=\"1.0\" encoding=\"UTF-8\" standalone=\"no\"?><svg xmlns=\"http://www.w3.org/2000/svg\" xmlns:xlink=\"http://www.w3.org/1999/xlink\" contentScriptType=\"application/ecmascript\" contentStyleType=\"text/css\" height=\"552px\" preserveAspectRatio=\"none\" style=\"width:536px;height:552px;\" version=\"1.1\" viewBox=\"0 0 536 552\" width=\"536px\" zoomAndPan=\"magnify\"><defs/><g><!--MD5=[fbc87193dbaf4d95561dea2c320d4a47]\n",
       "cluster E1--><a href=\"psysml:fa3e9fbf-effa-4977-80ec-fe6e8fa57f4d\" target=\"_top\" title=\"psysml:fa3e9fbf-effa-4977-80ec-fe6e8fa57f4d\" xlink:actuate=\"onRequest\" xlink:href=\"psysml:fa3e9fbf-effa-4977-80ec-fe6e8fa57f4d\" xlink:show=\"new\" xlink:title=\"psysml:fa3e9fbf-effa-4977-80ec-fe6e8fa57f4d\" xlink:type=\"simple\"><polygon fill=\"#FFFFFF\" points=\"16,6,142,6,149,28.2969,514,28.2969,514,540.72,16,540.72,16,6\" style=\"stroke: #000000; stroke-width: 1.5;\"/><line style=\"stroke: #000000; stroke-width: 1.5;\" x1=\"16\" x2=\"149\" y1=\"28.2969\" y2=\"28.2969\"/><text fill=\"#000000\" font-family=\"sans-serif\" font-size=\"14\" font-weight=\"bold\" lengthAdjust=\"spacingAndGlyphs\" textLength=\"120\" x=\"20\" y=\"20.9951\">DependencyTest</text></a><!--MD5=[e4f7fae6ed58524ba242bb0b0d3be6b7]\n",
       "cluster E2--><a href=\"psysml:10c1ae57-66e9-4db6-bc3d-37ac2db9914a\" target=\"_top\" title=\"psysml:10c1ae57-66e9-4db6-bc3d-37ac2db9914a\" xlink:actuate=\"onRequest\" xlink:href=\"psysml:10c1ae57-66e9-4db6-bc3d-37ac2db9914a\" xlink:show=\"new\" xlink:title=\"psysml:10c1ae57-66e9-4db6-bc3d-37ac2db9914a\" xlink:type=\"simple\"><polygon fill=\"#FFFFFF\" points=\"271,120.72,328,120.72,335,143.0169,474,143.0169,474,500.72,271,500.72,271,120.72\" style=\"stroke: #000000; stroke-width: 1.5;\"/><line style=\"stroke: #000000; stroke-width: 1.5;\" x1=\"271\" x2=\"335\" y1=\"143.0169\" y2=\"143.0169\"/><text fill=\"#000000\" font-family=\"sans-serif\" font-size=\"14\" font-weight=\"bold\" lengthAdjust=\"spacingAndGlyphs\" textLength=\"51\" x=\"275\" y=\"135.7151\">System</text></a><!--MD5=[60a26617385b1d2d0262a64233df1f8d]\n",
       "class E6--><a href=\"psysml:af126b68-a763-4b5e-ae0f-74aa81d9e434\" target=\"_top\" title=\"psysml:af126b68-a763-4b5e-ae0f-74aa81d9e434\" xlink:actuate=\"onRequest\" xlink:href=\"psysml:af126b68-a763-4b5e-ae0f-74aa81d9e434\" xlink:show=\"new\" xlink:title=\"psysml:af126b68-a763-4b5e-ae0f-74aa81d9e434\" xlink:type=\"simple\"><rect fill=\"#FFFFFF\" height=\"45.9375\" id=\"E6\" rx=\"10\" ry=\"10\" style=\"stroke: #383838; stroke-width: 1.5;\" width=\"71\" x=\"40.5\" y=\"297.22\"/><text fill=\"#000000\" font-family=\"sans-serif\" font-size=\"12\" font-style=\"italic\" lengthAdjust=\"spacingAndGlyphs\" textLength=\"69\" x=\"41.5\" y=\"313.3587\">«attribute»</text><text fill=\"#000000\" font-family=\"sans-serif\" font-size=\"12\" lengthAdjust=\"spacingAndGlyphs\" textLength=\"6\" x=\"71\" y=\"327.3274\">x</text><line style=\"stroke: #383838; stroke-width: 1.5;\" x1=\"41.5\" x2=\"110.5\" y1=\"335.1575\" y2=\"335.1575\"/></a><!--MD5=[2156ba9850f5573cc1fc38a6a4b2f02b]\n",
       "class E7--><a href=\"psysml:a5153252-c77e-42e1-a87d-8eb1cf591399\" target=\"_top\" title=\"psysml:a5153252-c77e-42e1-a87d-8eb1cf591399\" xlink:actuate=\"onRequest\" xlink:href=\"psysml:a5153252-c77e-42e1-a87d-8eb1cf591399\" xlink:show=\"new\" xlink:title=\"psysml:a5153252-c77e-42e1-a87d-8eb1cf591399\" xlink:type=\"simple\"><rect fill=\"#FFFFFF\" height=\"45.9375\" id=\"E7\" rx=\"10\" ry=\"10\" style=\"stroke: #383838; stroke-width: 1.5;\" width=\"71\" x=\"146.5\" y=\"297.22\"/><text fill=\"#000000\" font-family=\"sans-serif\" font-size=\"12\" font-style=\"italic\" lengthAdjust=\"spacingAndGlyphs\" textLength=\"69\" x=\"147.5\" y=\"313.3587\">«attribute»</text><text fill=\"#000000\" font-family=\"sans-serif\" font-size=\"12\" lengthAdjust=\"spacingAndGlyphs\" textLength=\"6\" x=\"177\" y=\"327.3274\">y</text><line style=\"stroke: #383838; stroke-width: 1.5;\" x1=\"147.5\" x2=\"216.5\" y1=\"335.1575\" y2=\"335.1575\"/></a><!--MD5=[b9389687b975829384b498ac4b7476b2]\n",
       "class E8--><a href=\"psysml:4fcd16ab-62c7-48db-8542-d458ee8b30b8\" target=\"_top\" title=\"psysml:4fcd16ab-62c7-48db-8542-d458ee8b30b8\" xlink:actuate=\"onRequest\" xlink:href=\"psysml:4fcd16ab-62c7-48db-8542-d458ee8b30b8\" xlink:show=\"new\" xlink:title=\"psysml:4fcd16ab-62c7-48db-8542-d458ee8b30b8\" xlink:type=\"simple\"><rect fill=\"#FFFFFF\" height=\"45.9375\" id=\"E8\" rx=\"10\" ry=\"10\" style=\"stroke: #383838; stroke-width: 1.5;\" width=\"71\" x=\"92.5\" y=\"167.22\"/><text fill=\"#000000\" font-family=\"sans-serif\" font-size=\"12\" font-style=\"italic\" lengthAdjust=\"spacingAndGlyphs\" textLength=\"69\" x=\"93.5\" y=\"183.3587\">«attribute»</text><text fill=\"#000000\" font-family=\"sans-serif\" font-size=\"12\" lengthAdjust=\"spacingAndGlyphs\" textLength=\"5\" x=\"123.5\" y=\"197.3274\">z</text><line style=\"stroke: #383838; stroke-width: 1.5;\" x1=\"93.5\" x2=\"162.5\" y1=\"205.1575\" y2=\"205.1575\"/></a><a href=\"psysml:f00bbef0-e3df-4574-9254-08b97b82cdf9\" target=\"_top\" title=\"psysml:f00bbef0-e3df-4574-9254-08b97b82cdf9\" xlink:actuate=\"onRequest\" xlink:href=\"psysml:f00bbef0-e3df-4574-9254-08b97b82cdf9\" xlink:show=\"new\" xlink:title=\"psysml:f00bbef0-e3df-4574-9254-08b97b82cdf9\" xlink:type=\"simple\"><polygon fill=\"#FFFFFF\" points=\"314.5,163.72,435.5,163.72,442.5,186.0169,449.5,186.0169,449.5,216.3138,314.5,216.3138,314.5,163.72\" style=\"stroke: #000000; stroke-width: 1.5;\"/><line style=\"stroke: #000000; stroke-width: 1.5;\" x1=\"314.5\" x2=\"442.5\" y1=\"186.0169\" y2=\"186.0169\"/><text fill=\"#000000\" font-family=\"sans-serif\" font-size=\"14\" font-weight=\"bold\" lengthAdjust=\"spacingAndGlyphs\" textLength=\"115\" x=\"318.5\" y=\"178.7151\">Application Layer</text></a><a href=\"psysml:ca2e3746-a8d0-4883-91df-79f98ad99c0c\" target=\"_top\" title=\"psysml:ca2e3746-a8d0-4883-91df-79f98ad99c0c\" xlink:actuate=\"onRequest\" xlink:href=\"psysml:ca2e3746-a8d0-4883-91df-79f98ad99c0c\" xlink:show=\"new\" xlink:title=\"psysml:ca2e3746-a8d0-4883-91df-79f98ad99c0c\" xlink:type=\"simple\"><polygon fill=\"#FFFFFF\" points=\"327,293.72,423,293.72,430,316.0169,437,316.0169,437,346.3138,327,346.3138,327,293.72\" style=\"stroke: #000000; stroke-width: 1.5;\"/><line style=\"stroke: #000000; stroke-width: 1.5;\" x1=\"327\" x2=\"430\" y1=\"316.0169\" y2=\"316.0169\"/><text fill=\"#000000\" font-family=\"sans-serif\" font-size=\"14\" font-weight=\"bold\" lengthAdjust=\"spacingAndGlyphs\" textLength=\"90\" x=\"331\" y=\"308.7151\">Service Layer</text></a><a href=\"psysml:31612912-620e-4f5b-bfbe-0087437cb05d\" target=\"_top\" title=\"psysml:31612912-620e-4f5b-bfbe-0087437cb05d\" xlink:actuate=\"onRequest\" xlink:href=\"psysml:31612912-620e-4f5b-bfbe-0087437cb05d\" xlink:show=\"new\" xlink:title=\"psysml:31612912-620e-4f5b-bfbe-0087437cb05d\" xlink:type=\"simple\"><polygon fill=\"#FFFFFF\" points=\"336,423.72,414,423.72,421,446.0169,428,446.0169,428,476.3138,336,476.3138,336,423.72\" style=\"stroke: #000000; stroke-width: 1.5;\"/><line style=\"stroke: #000000; stroke-width: 1.5;\" x1=\"336\" x2=\"421\" y1=\"446.0169\" y2=\"446.0169\"/><text fill=\"#000000\" font-family=\"sans-serif\" font-size=\"14\" font-weight=\"bold\" lengthAdjust=\"spacingAndGlyphs\" textLength=\"72\" x=\"340\" y=\"438.7151\">Data Layer</text></a><!--MD5=[1f1cd8e6dd4c1b2ca2aaccc9b9bcea6e]\n",
       "link E1 to E2--><a href=\"psysml:feb54464-815e-4611-ad28-7085b6ccbd88\" target=\"_top\" title=\"psysml:feb54464-815e-4611-ad28-7085b6ccbd88\" xlink:actuate=\"onRequest\" xlink:href=\"psysml:feb54464-815e-4611-ad28-7085b6ccbd88\" xlink:show=\"new\" xlink:title=\"psysml:feb54464-815e-4611-ad28-7085b6ccbd88\" xlink:type=\"simple\"><path d=\"M279,33.81 C279,38.265 279,75.1 279,111.9025 C279,114.2027 279,116.5027 279,118.7947 C279,119.3677 279,119.9402 279,120.512 \" fill=\"none\" id=\"E1-&gt;E2\" style=\"stroke: #383838; stroke-width: 1.0; stroke-dasharray: 7.0,7.0;\"/><polygon fill=\"#383838\" points=\"279,120.512,283,111.512,279,115.512,275,111.512,279,120.512\" style=\"stroke: #383838; stroke-width: 1.0;\"/><text fill=\"#000000\" font-family=\"sans-serif\" font-size=\"13\" lengthAdjust=\"spacingAndGlyphs\" textLength=\"65\" x=\"280\" y=\"76.7869\">«import»*</text></a><!--MD5=[af87c684e3b0d8be13c1a698a818ef1e]\n",
       "link E3 to E4--><a href=\"psysml:46e8547b-a8f1-46c9-aa96-df26a1cf1e34\" target=\"_top\" title=\"psysml:46e8547b-a8f1-46c9-aa96-df26a1cf1e34\" xlink:actuate=\"onRequest\" xlink:href=\"psysml:46e8547b-a8f1-46c9-aa96-df26a1cf1e34\" xlink:show=\"new\" xlink:title=\"psysml:46e8547b-a8f1-46c9-aa96-df26a1cf1e34\" xlink:type=\"simple\"><path d=\"M382,216.84 C382,216.84 382,285.63 382,285.63 \" fill=\"none\" id=\"E3-&gt;E4\" style=\"stroke: #383838; stroke-width: 1.0; stroke-dasharray: 7.0,7.0;\"/><polygon fill=\"#383838\" points=\"382,293.63,385,285.63,379,285.63,382,293.63\" style=\"stroke: #383838; stroke-width: 1.0;\"/><text fill=\"#000000\" font-family=\"sans-serif\" font-size=\"13\" lengthAdjust=\"spacingAndGlyphs\" textLength=\"64\" x=\"383\" y=\"259.7869\">«depend»</text></a><!--MD5=[1b7591eae5389033d8d09a9d6721a717]\n",
       "link E4 to E5--><a href=\"psysml:4580f085-b870-4b86-bde9-338fd4cc0a1d\" target=\"_top\" title=\"psysml:4580f085-b870-4b86-bde9-338fd4cc0a1d\" xlink:actuate=\"onRequest\" xlink:href=\"psysml:4580f085-b870-4b86-bde9-338fd4cc0a1d\" xlink:show=\"new\" xlink:title=\"psysml:4580f085-b870-4b86-bde9-338fd4cc0a1d\" xlink:type=\"simple\"><path d=\"M382,346.84 C382,346.84 382,415.63 382,415.63 \" fill=\"none\" id=\"E4-&gt;E5\" style=\"stroke: #383838; stroke-width: 1.0; stroke-dasharray: 7.0,7.0;\"/><polygon fill=\"#383838\" points=\"382,423.63,385,415.63,379,415.63,382,423.63\" style=\"stroke: #383838; stroke-width: 1.0;\"/><text fill=\"#000000\" font-family=\"sans-serif\" font-size=\"13\" lengthAdjust=\"spacingAndGlyphs\" textLength=\"64\" x=\"383\" y=\"389.7869\">«depend»</text></a><!--MD5=[c5e8897d989ce984f93528998a7150fe]\n",
       "link E8 to E6--><a href=\"psysml:ef6c4171-27e8-4274-afa9-e3f35902caaf\" target=\"_top\" title=\"psysml:ef6c4171-27e8-4274-afa9-e3f35902caaf\" xlink:actuate=\"onRequest\" xlink:href=\"psysml:ef6c4171-27e8-4274-afa9-e3f35902caaf\" xlink:show=\"new\" xlink:title=\"psysml:ef6c4171-27e8-4274-afa9-e3f35902caaf\" xlink:type=\"simple\"><path d=\"M102,213.46 C102,213.46 102,289.18 102,289.18 \" fill=\"none\" id=\"E8-&gt;E6\" style=\"stroke: #383838; stroke-width: 1.0; stroke-dasharray: 7.0,7.0;\"/><polygon fill=\"#383838\" points=\"102,297.18,105,289.18,99,289.18,102,297.18\" style=\"stroke: #383838; stroke-width: 1.0;\"/><text fill=\"#000000\" font-family=\"sans-serif\" font-size=\"13\" lengthAdjust=\"spacingAndGlyphs\" textLength=\"64\" x=\"76\" y=\"259.7869\">«depend»</text></a><!--MD5=[bfa3c8b0d15052fdf50ae9310b491027]\n",
       "link E8 to E7--><a href=\"psysml:ef6c4171-27e8-4274-afa9-e3f35902caaf\" target=\"_top\" title=\"psysml:ef6c4171-27e8-4274-afa9-e3f35902caaf\" xlink:actuate=\"onRequest\" xlink:href=\"psysml:ef6c4171-27e8-4274-afa9-e3f35902caaf\" xlink:show=\"new\" xlink:title=\"psysml:ef6c4171-27e8-4274-afa9-e3f35902caaf\" xlink:type=\"simple\"><path d=\"M155,213.46 C155,213.46 155,289.18 155,289.18 \" fill=\"none\" id=\"E8-&gt;E7\" style=\"stroke: #383838; stroke-width: 1.0; stroke-dasharray: 7.0,7.0;\"/><polygon fill=\"#383838\" points=\"155,297.18,158,289.18,152,289.18,155,297.18\" style=\"stroke: #383838; stroke-width: 1.0;\"/><text fill=\"#000000\" font-family=\"sans-serif\" font-size=\"13\" lengthAdjust=\"spacingAndGlyphs\" textLength=\"64\" x=\"182\" y=\"259.7869\">«depend»</text></a><!--MD5=[b1418b79812473104ec2a0b6a9442ebd]\n",
       "@startuml\r\n",
       "skinparam linetype ortho\r\n",
       "skinparam monochrome true\r\n",
       "skinparam classbackgroundcolor white\r\n",
       "skinparam shadowing false\r\n",
       "skinparam wrapWidth 300\r\n",
       "hide circle\r\n",
       "\r\n",
       "package \"DependencyTest\" as E1  [[psysml:fa3e9fbf-effa-4977-80ec-fe6e8fa57f4d ]]  {\r\n",
       "package \"System\" as E2  [[psysml:10c1ae57-66e9-4db6-bc3d-37ac2db9914a ]]  {\r\n",
       "package \"Application Layer\" as E3  [[psysml:f00bbef0-e3df-4574-9254-08b97b82cdf9 ]]  {\r\n",
       "}\r\n",
       "package \"Service Layer\" as E4  [[psysml:ca2e3746-a8d0-4883-91df-79f98ad99c0c ]]  {\r\n",
       "}\r\n",
       "package \"Data Layer\" as E5  [[psysml:31612912-620e-4f5b-bfbe-0087437cb05d ]]  {\r\n",
       "}\r\n",
       "}\r\n",
       "comp usage \"x \" as E6  <<(T,blue) attribute>> [[psysml:af126b68-a763-4b5e-ae0f-74aa81d9e434 ]] {\r\n",
       "}\r\n",
       "comp usage \"y \" as E7  <<(T,blue) attribute>> [[psysml:a5153252-c77e-42e1-a87d-8eb1cf591399 ]] {\r\n",
       "}\r\n",
       "comp usage \"z \" as E8  <<(T,blue) attribute>> [[psysml:4fcd16ab-62c7-48db-8542-d458ee8b30b8 ]] {\r\n",
       "}\r\n",
       "}\r\n",
       "E1 ..> E2 [[psysml:feb54464-815e-4611-ad28-7085b6ccbd88 ]] : <<import>>*\r\n",
       "E3 ..>> E4 [[psysml:46e8547b-a8f1-46c9-aa96-df26a1cf1e34 ]] : <<depend>>\r\n",
       "E4 ..>> E5 [[psysml:4580f085-b870-4b86-bde9-338fd4cc0a1d ]] : <<depend>>\r\n",
       "E8 ..>> E6 [[psysml:ef6c4171-27e8-4274-afa9-e3f35902caaf ]] : <<depend>>\r\n",
       "E8 ..>> E7 [[psysml:ef6c4171-27e8-4274-afa9-e3f35902caaf ]] : <<depend>>\r\n",
       "@enduml\r\n",
       "\n",
       "PlantUML version 1.2020.13(Sat Jun 13 12:26:38 UTC 2020)\n",
       "(EPL source distribution)\n",
       "Java Runtime: OpenJDK Runtime Environment\n",
       "JVM: OpenJDK 64-Bit Server VM\n",
       "Default Encoding: UTF-8\n",
       "Language: en\n",
       "Country: null\n",
       "--></g></svg>"
      ]
     },
     "execution_count": 57,
     "metadata": {},
     "output_type": "execute_result"
    }
   ],
   "source": [
    "%viz --style=\"ORTHOLINE\" --view=\"MIXED\" \"DependencyTest\""
   ]
  }
 ],
 "metadata": {
  "kernelspec": {
   "display_name": "SysML",
   "language": "sysml",
   "name": "sysml"
  },
  "language_info": {
   "codemirror_mode": "sysml",
   "file_extension": ".sysml",
   "mimetype": "text/x-sysml",
   "name": "SysML",
   "pygments_lexer": "java",
   "version": "1.0.0"
  }
 },
 "nbformat": 4,
 "nbformat_minor": 5
}
