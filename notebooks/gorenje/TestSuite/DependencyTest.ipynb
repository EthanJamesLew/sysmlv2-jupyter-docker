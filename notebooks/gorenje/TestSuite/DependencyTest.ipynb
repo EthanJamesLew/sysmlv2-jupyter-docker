{
 "cells": [
  {
   "cell_type": "markdown",
   "id": "367b15d5",
   "metadata": {},
   "source": [
    "# SysML v2 Test Suite\n",
    "\n",
    "This can notebook can be cleared using menu `Edit --> Clear All Outputs` and then all cells can be\n",
    "run using menu `Run --> Run All Cells`.\n",
    "\n",
    "**WARNING**: This file is generated, all modifications here will be ignored.\n"
   ]
  },
  {
   "cell_type": "markdown",
   "id": "9973b78e",
   "metadata": {},
   "source": [
    "## File: ../../sysml/src/examples/Simple Tests/DependencyTest.sysml"
   ]
  },
  {
   "cell_type": "code",
   "execution_count": 1,
   "id": "bd4c10b9",
   "metadata": {
    "execution": {
     "iopub.execute_input": "2021-04-20T07:32:14.916951Z",
     "iopub.status.busy": "2021-04-20T07:32:14.916490Z",
     "iopub.status.idle": "2021-04-20T07:32:15.038955Z",
     "shell.execute_reply": "2021-04-20T07:32:15.037795Z"
    }
   },
   "outputs": [
    {
     "data": {
      "text/plain": [
       "Package DependencyTest (3d8fb1c4-bc1f-4006-aa40-695a9b378e1a)\n"
      ]
     },
     "execution_count": 1,
     "metadata": {},
     "output_type": "execute_result"
    }
   ],
   "source": [
    "package DependencyTest {\n",
    "\t\n",
    "\tpackage System {\n",
    "\t\tpackage 'Application Layer';\n",
    "\t\tpackage 'Service Layer';\n",
    "\t\tpackage 'Data Layer';\n",
    "\t}\n",
    "\t\n",
    "\timport System::*;\n",
    "\t\n",
    "\tdependency Use from 'Application Layer' to 'Service Layer';\n",
    "\tdependency from 'Service Layer' to 'Data Layer';\n",
    "\t\n",
    "\tattribute x;\n",
    "\tattribute y;\n",
    "\tattribute z;\n",
    "\t\n",
    "\tdependency z to x, y;\n",
    "\t\n",
    "}"
   ]
  },
  {
   "cell_type": "code",
   "execution_count": 2,
   "id": "f1becc1f",
   "metadata": {
    "execution": {
     "iopub.execute_input": "2021-04-20T07:32:15.092702Z",
     "iopub.status.busy": "2021-04-20T07:32:15.091685Z",
     "iopub.status.idle": "2021-04-20T07:32:16.194254Z",
     "shell.execute_reply": "2021-04-20T07:32:16.190853Z"
    }
   },
   "outputs": [
    {
     "data": {
      "image/svg+xml": [
       "<?xml version=\"1.0\" encoding=\"UTF-8\" standalone=\"no\"?><svg xmlns=\"http://www.w3.org/2000/svg\" xmlns:xlink=\"http://www.w3.org/1999/xlink\" contentScriptType=\"application/ecmascript\" contentStyleType=\"text/css\" height=\"449px\" preserveAspectRatio=\"none\" style=\"width:489px;height:449px;\" version=\"1.1\" viewBox=\"0 0 489 449\" width=\"489px\" zoomAndPan=\"magnify\"><defs/><g><!--MD5=[fbc87193dbaf4d95561dea2c320d4a47]\n",
       "cluster E1--><a href=\"psysml:d56232e2-0bee-4a1a-bb9b-8eb4f38b0dfa\" target=\"_top\" title=\"psysml:d56232e2-0bee-4a1a-bb9b-8eb4f38b0dfa\" xlink:actuate=\"onRequest\" xlink:href=\"psysml:d56232e2-0bee-4a1a-bb9b-8eb4f38b0dfa\" xlink:show=\"new\" xlink:title=\"psysml:d56232e2-0bee-4a1a-bb9b-8eb4f38b0dfa\" xlink:type=\"simple\"><polygon fill=\"#FFFFFF\" points=\"16,6,156,6,163,28.2969,467,28.2969,467,437,16,437,16,6\" style=\"stroke: #000000; stroke-width: 1.5;\"/><line style=\"stroke: #000000; stroke-width: 1.5;\" x1=\"16\" x2=\"163\" y1=\"28.2969\" y2=\"28.2969\"/><text fill=\"#000000\" font-family=\"sans-serif\" font-size=\"14\" font-weight=\"bold\" lengthAdjust=\"spacingAndGlyphs\" textLength=\"134\" x=\"20\" y=\"20.9951\">DependencyTest</text></a><!--MD5=[e4f7fae6ed58524ba242bb0b0d3be6b7]\n",
       "cluster E2--><a href=\"psysml:50d5e3ed-2307-46ca-b041-8429ee229b8d\" target=\"_top\" title=\"psysml:50d5e3ed-2307-46ca-b041-8429ee229b8d\" xlink:actuate=\"onRequest\" xlink:href=\"psysml:50d5e3ed-2307-46ca-b041-8429ee229b8d\" xlink:show=\"new\" xlink:title=\"psysml:50d5e3ed-2307-46ca-b041-8429ee229b8d\" xlink:type=\"simple\"><polygon fill=\"#FFFFFF\" points=\"255,49,319,49,326,71.2969,443,71.2969,443,413,255,413,255,49\" style=\"stroke: #000000; stroke-width: 1.5;\"/><line style=\"stroke: #000000; stroke-width: 1.5;\" x1=\"255\" x2=\"326\" y1=\"71.2969\" y2=\"71.2969\"/><text fill=\"#000000\" font-family=\"sans-serif\" font-size=\"14\" font-weight=\"bold\" lengthAdjust=\"spacingAndGlyphs\" textLength=\"58\" x=\"259\" y=\"63.9951\">System</text></a><!--MD5=[60a26617385b1d2d0262a64233df1f8d]\n",
       "class E6--><a href=\"psysml:ee6e66ae-6a4f-4999-8c9e-f85171cea95e\" target=\"_top\" title=\"psysml:ee6e66ae-6a4f-4999-8c9e-f85171cea95e\" xlink:actuate=\"onRequest\" xlink:href=\"psysml:ee6e66ae-6a4f-4999-8c9e-f85171cea95e\" xlink:show=\"new\" xlink:title=\"psysml:ee6e66ae-6a4f-4999-8c9e-f85171cea95e\" xlink:type=\"simple\"><rect fill=\"#FFFFFF\" height=\"45.9375\" id=\"E6\" rx=\"10\" ry=\"10\" style=\"stroke: #383838; stroke-width: 1.5;\" width=\"71\" x=\"32.5\" y=\"217.5\"/><text fill=\"#000000\" font-family=\"sans-serif\" font-size=\"12\" font-style=\"italic\" lengthAdjust=\"spacingAndGlyphs\" textLength=\"69\" x=\"33.5\" y=\"233.6387\">«attribute»</text><text fill=\"#000000\" font-family=\"sans-serif\" font-size=\"12\" lengthAdjust=\"spacingAndGlyphs\" textLength=\"6\" x=\"65\" y=\"247.6074\">x</text><line style=\"stroke: #383838; stroke-width: 1.5;\" x1=\"33.5\" x2=\"102.5\" y1=\"255.4375\" y2=\"255.4375\"/></a><!--MD5=[2156ba9850f5573cc1fc38a6a4b2f02b]\n",
       "class E7--><a href=\"psysml:da3973fb-164e-4f16-bb62-2f8eaef60bc8\" target=\"_top\" title=\"psysml:da3973fb-164e-4f16-bb62-2f8eaef60bc8\" xlink:actuate=\"onRequest\" xlink:href=\"psysml:da3973fb-164e-4f16-bb62-2f8eaef60bc8\" xlink:show=\"new\" xlink:title=\"psysml:da3973fb-164e-4f16-bb62-2f8eaef60bc8\" xlink:type=\"simple\"><rect fill=\"#FFFFFF\" height=\"45.9375\" id=\"E7\" rx=\"10\" ry=\"10\" style=\"stroke: #383838; stroke-width: 1.5;\" width=\"71\" x=\"138.5\" y=\"217.5\"/><text fill=\"#000000\" font-family=\"sans-serif\" font-size=\"12\" font-style=\"italic\" lengthAdjust=\"spacingAndGlyphs\" textLength=\"69\" x=\"139.5\" y=\"233.6387\">«attribute»</text><text fill=\"#000000\" font-family=\"sans-serif\" font-size=\"12\" lengthAdjust=\"spacingAndGlyphs\" textLength=\"6\" x=\"171\" y=\"247.6074\">y</text><line style=\"stroke: #383838; stroke-width: 1.5;\" x1=\"139.5\" x2=\"208.5\" y1=\"255.4375\" y2=\"255.4375\"/></a><!--MD5=[b9389687b975829384b498ac4b7476b2]\n",
       "class E8--><a href=\"psysml:8698e020-730f-4ac9-88e5-943d82c20ca0\" target=\"_top\" title=\"psysml:8698e020-730f-4ac9-88e5-943d82c20ca0\" xlink:actuate=\"onRequest\" xlink:href=\"psysml:8698e020-730f-4ac9-88e5-943d82c20ca0\" xlink:show=\"new\" xlink:title=\"psysml:8698e020-730f-4ac9-88e5-943d82c20ca0\" xlink:type=\"simple\"><rect fill=\"#FFFFFF\" height=\"45.9375\" id=\"E8\" rx=\"10\" ry=\"10\" style=\"stroke: #383838; stroke-width: 1.5;\" width=\"71\" x=\"84.5\" y=\"87.5\"/><text fill=\"#000000\" font-family=\"sans-serif\" font-size=\"12\" font-style=\"italic\" lengthAdjust=\"spacingAndGlyphs\" textLength=\"69\" x=\"85.5\" y=\"103.6387\">«attribute»</text><text fill=\"#000000\" font-family=\"sans-serif\" font-size=\"12\" lengthAdjust=\"spacingAndGlyphs\" textLength=\"5\" x=\"117.5\" y=\"117.6074\">z</text><line style=\"stroke: #383838; stroke-width: 1.5;\" x1=\"85.5\" x2=\"154.5\" y1=\"125.4375\" y2=\"125.4375\"/></a><a href=\"psysml:bf62b3a1-f030-4eff-b8ce-ffbdff107a6f\" target=\"_top\" title=\"psysml:bf62b3a1-f030-4eff-b8ce-ffbdff107a6f\" xlink:actuate=\"onRequest\" xlink:href=\"psysml:bf62b3a1-f030-4eff-b8ce-ffbdff107a6f\" xlink:show=\"new\" xlink:title=\"psysml:bf62b3a1-f030-4eff-b8ce-ffbdff107a6f\" xlink:type=\"simple\"><polygon fill=\"#FFFFFF\" points=\"271,84,413,84,420,106.2969,427,106.2969,427,136.5938,271,136.5938,271,84\" style=\"stroke: #000000; stroke-width: 1.5;\"/><line style=\"stroke: #000000; stroke-width: 1.5;\" x1=\"271\" x2=\"420\" y1=\"106.2969\" y2=\"106.2969\"/><text fill=\"#000000\" font-family=\"sans-serif\" font-size=\"14\" font-weight=\"bold\" lengthAdjust=\"spacingAndGlyphs\" textLength=\"136\" x=\"275\" y=\"98.9951\">Application Layer</text></a><a href=\"psysml:471b2f11-dcf9-418e-881d-688bae838b3f\" target=\"_top\" title=\"psysml:471b2f11-dcf9-418e-881d-688bae838b3f\" xlink:actuate=\"onRequest\" xlink:href=\"psysml:471b2f11-dcf9-418e-881d-688bae838b3f\" xlink:show=\"new\" xlink:title=\"psysml:471b2f11-dcf9-418e-881d-688bae838b3f\" xlink:type=\"simple\"><polygon fill=\"#FFFFFF\" points=\"285,214,399,214,406,236.2969,413,236.2969,413,266.5938,285,266.5938,285,214\" style=\"stroke: #000000; stroke-width: 1.5;\"/><line style=\"stroke: #000000; stroke-width: 1.5;\" x1=\"285\" x2=\"406\" y1=\"236.2969\" y2=\"236.2969\"/><text fill=\"#000000\" font-family=\"sans-serif\" font-size=\"14\" font-weight=\"bold\" lengthAdjust=\"spacingAndGlyphs\" textLength=\"108\" x=\"289\" y=\"228.9951\">Service Layer</text></a><a href=\"psysml:da794142-8c7c-4611-9580-abeb242da5ef\" target=\"_top\" title=\"psysml:da794142-8c7c-4611-9580-abeb242da5ef\" xlink:actuate=\"onRequest\" xlink:href=\"psysml:da794142-8c7c-4611-9580-abeb242da5ef\" xlink:show=\"new\" xlink:title=\"psysml:da794142-8c7c-4611-9580-abeb242da5ef\" xlink:type=\"simple\"><polygon fill=\"#FFFFFF\" points=\"297,344,387,344,394,366.2969,401,366.2969,401,396.5938,297,396.5938,297,344\" style=\"stroke: #000000; stroke-width: 1.5;\"/><line style=\"stroke: #000000; stroke-width: 1.5;\" x1=\"297\" x2=\"394\" y1=\"366.2969\" y2=\"366.2969\"/><text fill=\"#000000\" font-family=\"sans-serif\" font-size=\"14\" font-weight=\"bold\" lengthAdjust=\"spacingAndGlyphs\" textLength=\"84\" x=\"301\" y=\"358.9951\">Data Layer</text></a><!--MD5=[af87c684e3b0d8be13c1a698a818ef1e]\n",
       "link E3 to E4--><a href=\"psysml:f56c438f-52f0-4453-9ce2-0999d9bfb233\" target=\"_top\" title=\"psysml:f56c438f-52f0-4453-9ce2-0999d9bfb233\" xlink:actuate=\"onRequest\" xlink:href=\"psysml:f56c438f-52f0-4453-9ce2-0999d9bfb233\" xlink:show=\"new\" xlink:title=\"psysml:f56c438f-52f0-4453-9ce2-0999d9bfb233\" xlink:type=\"simple\"><path d=\"M349,137.1 C349,156.8 349,184.22 349,205.73 \" fill=\"none\" id=\"E3-&gt;E4\" style=\"stroke: #383838; stroke-width: 1.0; stroke-dasharray: 7.0,7.0;\"/><polygon fill=\"#383838\" points=\"349,213.95,352,205.95,346,205.95,349,213.95\" style=\"stroke: #383838; stroke-width: 1.0;\"/><text fill=\"#000000\" font-family=\"sans-serif\" font-size=\"13\" lengthAdjust=\"spacingAndGlyphs\" textLength=\"64\" x=\"350\" y=\"180.0669\">«depend»</text></a><!--MD5=[1b7591eae5389033d8d09a9d6721a717]\n",
       "link E4 to E5--><a href=\"psysml:149727ef-4884-4150-ac87-83ab56bc940c\" target=\"_top\" title=\"psysml:149727ef-4884-4150-ac87-83ab56bc940c\" xlink:actuate=\"onRequest\" xlink:href=\"psysml:149727ef-4884-4150-ac87-83ab56bc940c\" xlink:show=\"new\" xlink:title=\"psysml:149727ef-4884-4150-ac87-83ab56bc940c\" xlink:type=\"simple\"><path d=\"M349,267.1 C349,286.8 349,314.22 349,335.73 \" fill=\"none\" id=\"E4-&gt;E5\" style=\"stroke: #383838; stroke-width: 1.0; stroke-dasharray: 7.0,7.0;\"/><polygon fill=\"#383838\" points=\"349,343.95,352,335.95,346,335.95,349,343.95\" style=\"stroke: #383838; stroke-width: 1.0;\"/><text fill=\"#000000\" font-family=\"sans-serif\" font-size=\"13\" lengthAdjust=\"spacingAndGlyphs\" textLength=\"64\" x=\"350\" y=\"310.0669\">«depend»</text></a><!--MD5=[c5e8897d989ce984f93528998a7150fe]\n",
       "link E8 to E6--><a href=\"psysml:6d264d90-cc53-4d32-95c3-fe1ad979e012\" target=\"_top\" title=\"psysml:6d264d90-cc53-4d32-95c3-fe1ad979e012\" xlink:actuate=\"onRequest\" xlink:href=\"psysml:6d264d90-cc53-4d32-95c3-fe1ad979e012\" xlink:show=\"new\" xlink:title=\"psysml:6d264d90-cc53-4d32-95c3-fe1ad979e012\" xlink:type=\"simple\"><path d=\"M89.42,133.6 C79.35,142.68 69.37,154.11 64,167 C58.5,180.2 58.66,195.94 60.54,209.38 \" fill=\"none\" id=\"E8-&gt;E6\" style=\"stroke: #383838; stroke-width: 1.0; stroke-dasharray: 7.0,7.0;\"/><polygon fill=\"#383838\" points=\"61.9,217.4,63.517,209.0104,57.6018,210.0159,61.9,217.4\" style=\"stroke: #383838; stroke-width: 1.0;\"/><text fill=\"#000000\" font-family=\"sans-serif\" font-size=\"13\" lengthAdjust=\"spacingAndGlyphs\" textLength=\"64\" x=\"65\" y=\"180.0669\">«depend»</text></a><!--MD5=[bfa3c8b0d15052fdf50ae9310b491027]\n",
       "link E8 to E7--><a href=\"psysml:6d264d90-cc53-4d32-95c3-fe1ad979e012\" target=\"_top\" title=\"psysml:6d264d90-cc53-4d32-95c3-fe1ad979e012\" xlink:actuate=\"onRequest\" xlink:href=\"psysml:6d264d90-cc53-4d32-95c3-fe1ad979e012\" xlink:show=\"new\" xlink:title=\"psysml:6d264d90-cc53-4d32-95c3-fe1ad979e012\" xlink:type=\"simple\"><path d=\"M129.28,133.5 C138.17,154.57 151.64,186.5 161.47,209.81 \" fill=\"none\" id=\"E8-&gt;E7\" style=\"stroke: #383838; stroke-width: 1.0; stroke-dasharray: 7.0,7.0;\"/><polygon fill=\"#383838\" points=\"164.66,217.35,164.3241,208.8126,158.7933,211.1385,164.66,217.35\" style=\"stroke: #383838; stroke-width: 1.0;\"/><text fill=\"#000000\" font-family=\"sans-serif\" font-size=\"13\" lengthAdjust=\"spacingAndGlyphs\" textLength=\"64\" x=\"151\" y=\"180.0669\">«depend»</text></a><!--MD5=[a9ea1ad6d69712f828e161c5bc379590]\n",
       "@startuml\r\n",
       " skinparam monochrome true\r\n",
       "skinparam classbackgroundcolor white\r\n",
       "skinparam shadowing false\r\n",
       "skinparam wrapWidth 300\r\n",
       "hide circle\r\n",
       "\r\n",
       "package \"DependencyTest\" as E1  [[psysml:d56232e2-0bee-4a1a-bb9b-8eb4f38b0dfa ]]  {\r\n",
       "package \"System\" as E2  [[psysml:50d5e3ed-2307-46ca-b041-8429ee229b8d ]]  {\r\n",
       "package \"Application Layer\" as E3  [[psysml:bf62b3a1-f030-4eff-b8ce-ffbdff107a6f ]]  {\r\n",
       "}\r\n",
       "package \"Service Layer\" as E4  [[psysml:471b2f11-dcf9-418e-881d-688bae838b3f ]]  {\r\n",
       "}\r\n",
       "package \"Data Layer\" as E5  [[psysml:da794142-8c7c-4611-9580-abeb242da5ef ]]  {\r\n",
       "}\r\n",
       "}\r\n",
       "comp usage \"x\" as E6  <<(T,blue)attribute>> [[psysml:ee6e66ae-6a4f-4999-8c9e-f85171cea95e ]] {\r\n",
       "}\r\n",
       "comp usage \"y\" as E7  <<(T,blue)attribute>> [[psysml:da3973fb-164e-4f16-bb62-2f8eaef60bc8 ]] {\r\n",
       "}\r\n",
       "comp usage \"z\" as E8  <<(T,blue)attribute>> [[psysml:8698e020-730f-4ac9-88e5-943d82c20ca0 ]] {\r\n",
       "}\r\n",
       "E3 ..>> E4 [[psysml:f56c438f-52f0-4453-9ce2-0999d9bfb233 ]] : <<depend>>\r\n",
       "E4 ..>> E5 [[psysml:149727ef-4884-4150-ac87-83ab56bc940c ]] : <<depend>>\r\n",
       "E8 ..>> E6 [[psysml:6d264d90-cc53-4d32-95c3-fe1ad979e012 ]] : <<depend>>\r\n",
       "E8 ..>> E7 [[psysml:6d264d90-cc53-4d32-95c3-fe1ad979e012 ]] : <<depend>>\r\n",
       "}\r\n",
       "@enduml\r\n",
       "\n",
       "PlantUML version 1.2020.13(Sat Jun 13 12:26:38 UTC 2020)\n",
       "(EPL source distribution)\n",
       "Java Runtime: OpenJDK Runtime Environment\n",
       "JVM: OpenJDK 64-Bit Server VM\n",
       "Default Encoding: UTF-8\n",
       "Language: en\n",
       "Country: null\n",
       "--></g></svg>"
      ]
     },
     "execution_count": 2,
     "metadata": {},
     "output_type": "execute_result"
    }
   ],
   "source": [
    "%viz --style=\"COMPTREE\" --view=\"Default\" \"DependencyTest\""
   ]
  },
  {
   "cell_type": "code",
   "execution_count": 3,
   "id": "94640545",
   "metadata": {
    "execution": {
     "iopub.execute_input": "2021-04-20T07:32:16.244065Z",
     "iopub.status.busy": "2021-04-20T07:32:16.242855Z",
     "iopub.status.idle": "2021-04-20T07:32:16.386019Z",
     "shell.execute_reply": "2021-04-20T07:32:16.385626Z"
    }
   },
   "outputs": [
    {
     "data": {
      "image/svg+xml": [
       "<?xml version=\"1.0\" encoding=\"UTF-8\" standalone=\"no\"?><svg xmlns=\"http://www.w3.org/2000/svg\" xmlns:xlink=\"http://www.w3.org/1999/xlink\" contentScriptType=\"application/ecmascript\" contentStyleType=\"text/css\" height=\"449px\" preserveAspectRatio=\"none\" style=\"width:489px;height:449px;\" version=\"1.1\" viewBox=\"0 0 489 449\" width=\"489px\" zoomAndPan=\"magnify\"><defs/><g><!--MD5=[fbc87193dbaf4d95561dea2c320d4a47]\n",
       "cluster E1--><a href=\"psysml:d56232e2-0bee-4a1a-bb9b-8eb4f38b0dfa\" target=\"_top\" title=\"psysml:d56232e2-0bee-4a1a-bb9b-8eb4f38b0dfa\" xlink:actuate=\"onRequest\" xlink:href=\"psysml:d56232e2-0bee-4a1a-bb9b-8eb4f38b0dfa\" xlink:show=\"new\" xlink:title=\"psysml:d56232e2-0bee-4a1a-bb9b-8eb4f38b0dfa\" xlink:type=\"simple\"><polygon fill=\"#FFFFFF\" points=\"16,6,156,6,163,28.2969,467,28.2969,467,437,16,437,16,6\" style=\"stroke: #000000; stroke-width: 1.5;\"/><line style=\"stroke: #000000; stroke-width: 1.5;\" x1=\"16\" x2=\"163\" y1=\"28.2969\" y2=\"28.2969\"/><text fill=\"#000000\" font-family=\"sans-serif\" font-size=\"14\" font-weight=\"bold\" lengthAdjust=\"spacingAndGlyphs\" textLength=\"134\" x=\"20\" y=\"20.9951\">DependencyTest</text></a><!--MD5=[e4f7fae6ed58524ba242bb0b0d3be6b7]\n",
       "cluster E2--><a href=\"psysml:50d5e3ed-2307-46ca-b041-8429ee229b8d\" target=\"_top\" title=\"psysml:50d5e3ed-2307-46ca-b041-8429ee229b8d\" xlink:actuate=\"onRequest\" xlink:href=\"psysml:50d5e3ed-2307-46ca-b041-8429ee229b8d\" xlink:show=\"new\" xlink:title=\"psysml:50d5e3ed-2307-46ca-b041-8429ee229b8d\" xlink:type=\"simple\"><polygon fill=\"#FFFFFF\" points=\"255,49,319,49,326,71.2969,443,71.2969,443,413,255,413,255,49\" style=\"stroke: #000000; stroke-width: 1.5;\"/><line style=\"stroke: #000000; stroke-width: 1.5;\" x1=\"255\" x2=\"326\" y1=\"71.2969\" y2=\"71.2969\"/><text fill=\"#000000\" font-family=\"sans-serif\" font-size=\"14\" font-weight=\"bold\" lengthAdjust=\"spacingAndGlyphs\" textLength=\"58\" x=\"259\" y=\"63.9951\">System</text></a><!--MD5=[60a26617385b1d2d0262a64233df1f8d]\n",
       "class E6--><a href=\"psysml:ee6e66ae-6a4f-4999-8c9e-f85171cea95e\" target=\"_top\" title=\"psysml:ee6e66ae-6a4f-4999-8c9e-f85171cea95e\" xlink:actuate=\"onRequest\" xlink:href=\"psysml:ee6e66ae-6a4f-4999-8c9e-f85171cea95e\" xlink:show=\"new\" xlink:title=\"psysml:ee6e66ae-6a4f-4999-8c9e-f85171cea95e\" xlink:type=\"simple\"><rect fill=\"#FFFFFF\" height=\"45.9375\" id=\"E6\" rx=\"10\" ry=\"10\" style=\"stroke: #383838; stroke-width: 1.5;\" width=\"71\" x=\"32.5\" y=\"217.5\"/><text fill=\"#000000\" font-family=\"sans-serif\" font-size=\"12\" font-style=\"italic\" lengthAdjust=\"spacingAndGlyphs\" textLength=\"69\" x=\"33.5\" y=\"233.6387\">«attribute»</text><text fill=\"#000000\" font-family=\"sans-serif\" font-size=\"12\" lengthAdjust=\"spacingAndGlyphs\" textLength=\"6\" x=\"65\" y=\"247.6074\">x</text><line style=\"stroke: #383838; stroke-width: 1.5;\" x1=\"33.5\" x2=\"102.5\" y1=\"255.4375\" y2=\"255.4375\"/></a><!--MD5=[2156ba9850f5573cc1fc38a6a4b2f02b]\n",
       "class E7--><a href=\"psysml:da3973fb-164e-4f16-bb62-2f8eaef60bc8\" target=\"_top\" title=\"psysml:da3973fb-164e-4f16-bb62-2f8eaef60bc8\" xlink:actuate=\"onRequest\" xlink:href=\"psysml:da3973fb-164e-4f16-bb62-2f8eaef60bc8\" xlink:show=\"new\" xlink:title=\"psysml:da3973fb-164e-4f16-bb62-2f8eaef60bc8\" xlink:type=\"simple\"><rect fill=\"#FFFFFF\" height=\"45.9375\" id=\"E7\" rx=\"10\" ry=\"10\" style=\"stroke: #383838; stroke-width: 1.5;\" width=\"71\" x=\"138.5\" y=\"217.5\"/><text fill=\"#000000\" font-family=\"sans-serif\" font-size=\"12\" font-style=\"italic\" lengthAdjust=\"spacingAndGlyphs\" textLength=\"69\" x=\"139.5\" y=\"233.6387\">«attribute»</text><text fill=\"#000000\" font-family=\"sans-serif\" font-size=\"12\" lengthAdjust=\"spacingAndGlyphs\" textLength=\"6\" x=\"171\" y=\"247.6074\">y</text><line style=\"stroke: #383838; stroke-width: 1.5;\" x1=\"139.5\" x2=\"208.5\" y1=\"255.4375\" y2=\"255.4375\"/></a><!--MD5=[b9389687b975829384b498ac4b7476b2]\n",
       "class E8--><a href=\"psysml:8698e020-730f-4ac9-88e5-943d82c20ca0\" target=\"_top\" title=\"psysml:8698e020-730f-4ac9-88e5-943d82c20ca0\" xlink:actuate=\"onRequest\" xlink:href=\"psysml:8698e020-730f-4ac9-88e5-943d82c20ca0\" xlink:show=\"new\" xlink:title=\"psysml:8698e020-730f-4ac9-88e5-943d82c20ca0\" xlink:type=\"simple\"><rect fill=\"#FFFFFF\" height=\"45.9375\" id=\"E8\" rx=\"10\" ry=\"10\" style=\"stroke: #383838; stroke-width: 1.5;\" width=\"71\" x=\"84.5\" y=\"87.5\"/><text fill=\"#000000\" font-family=\"sans-serif\" font-size=\"12\" font-style=\"italic\" lengthAdjust=\"spacingAndGlyphs\" textLength=\"69\" x=\"85.5\" y=\"103.6387\">«attribute»</text><text fill=\"#000000\" font-family=\"sans-serif\" font-size=\"12\" lengthAdjust=\"spacingAndGlyphs\" textLength=\"5\" x=\"117.5\" y=\"117.6074\">z</text><line style=\"stroke: #383838; stroke-width: 1.5;\" x1=\"85.5\" x2=\"154.5\" y1=\"125.4375\" y2=\"125.4375\"/></a><a href=\"psysml:bf62b3a1-f030-4eff-b8ce-ffbdff107a6f\" target=\"_top\" title=\"psysml:bf62b3a1-f030-4eff-b8ce-ffbdff107a6f\" xlink:actuate=\"onRequest\" xlink:href=\"psysml:bf62b3a1-f030-4eff-b8ce-ffbdff107a6f\" xlink:show=\"new\" xlink:title=\"psysml:bf62b3a1-f030-4eff-b8ce-ffbdff107a6f\" xlink:type=\"simple\"><polygon fill=\"#FFFFFF\" points=\"271,84,413,84,420,106.2969,427,106.2969,427,136.5938,271,136.5938,271,84\" style=\"stroke: #000000; stroke-width: 1.5;\"/><line style=\"stroke: #000000; stroke-width: 1.5;\" x1=\"271\" x2=\"420\" y1=\"106.2969\" y2=\"106.2969\"/><text fill=\"#000000\" font-family=\"sans-serif\" font-size=\"14\" font-weight=\"bold\" lengthAdjust=\"spacingAndGlyphs\" textLength=\"136\" x=\"275\" y=\"98.9951\">Application Layer</text></a><a href=\"psysml:471b2f11-dcf9-418e-881d-688bae838b3f\" target=\"_top\" title=\"psysml:471b2f11-dcf9-418e-881d-688bae838b3f\" xlink:actuate=\"onRequest\" xlink:href=\"psysml:471b2f11-dcf9-418e-881d-688bae838b3f\" xlink:show=\"new\" xlink:title=\"psysml:471b2f11-dcf9-418e-881d-688bae838b3f\" xlink:type=\"simple\"><polygon fill=\"#FFFFFF\" points=\"285,214,399,214,406,236.2969,413,236.2969,413,266.5938,285,266.5938,285,214\" style=\"stroke: #000000; stroke-width: 1.5;\"/><line style=\"stroke: #000000; stroke-width: 1.5;\" x1=\"285\" x2=\"406\" y1=\"236.2969\" y2=\"236.2969\"/><text fill=\"#000000\" font-family=\"sans-serif\" font-size=\"14\" font-weight=\"bold\" lengthAdjust=\"spacingAndGlyphs\" textLength=\"108\" x=\"289\" y=\"228.9951\">Service Layer</text></a><a href=\"psysml:da794142-8c7c-4611-9580-abeb242da5ef\" target=\"_top\" title=\"psysml:da794142-8c7c-4611-9580-abeb242da5ef\" xlink:actuate=\"onRequest\" xlink:href=\"psysml:da794142-8c7c-4611-9580-abeb242da5ef\" xlink:show=\"new\" xlink:title=\"psysml:da794142-8c7c-4611-9580-abeb242da5ef\" xlink:type=\"simple\"><polygon fill=\"#FFFFFF\" points=\"297,344,387,344,394,366.2969,401,366.2969,401,396.5938,297,396.5938,297,344\" style=\"stroke: #000000; stroke-width: 1.5;\"/><line style=\"stroke: #000000; stroke-width: 1.5;\" x1=\"297\" x2=\"394\" y1=\"366.2969\" y2=\"366.2969\"/><text fill=\"#000000\" font-family=\"sans-serif\" font-size=\"14\" font-weight=\"bold\" lengthAdjust=\"spacingAndGlyphs\" textLength=\"84\" x=\"301\" y=\"358.9951\">Data Layer</text></a><!--MD5=[af87c684e3b0d8be13c1a698a818ef1e]\n",
       "link E3 to E4--><a href=\"psysml:f56c438f-52f0-4453-9ce2-0999d9bfb233\" target=\"_top\" title=\"psysml:f56c438f-52f0-4453-9ce2-0999d9bfb233\" xlink:actuate=\"onRequest\" xlink:href=\"psysml:f56c438f-52f0-4453-9ce2-0999d9bfb233\" xlink:show=\"new\" xlink:title=\"psysml:f56c438f-52f0-4453-9ce2-0999d9bfb233\" xlink:type=\"simple\"><path d=\"M349,137.1 C349,156.8 349,184.22 349,205.73 \" fill=\"none\" id=\"E3-&gt;E4\" style=\"stroke: #383838; stroke-width: 1.0; stroke-dasharray: 7.0,7.0;\"/><polygon fill=\"#383838\" points=\"349,213.95,352,205.95,346,205.95,349,213.95\" style=\"stroke: #383838; stroke-width: 1.0;\"/><text fill=\"#000000\" font-family=\"sans-serif\" font-size=\"13\" lengthAdjust=\"spacingAndGlyphs\" textLength=\"64\" x=\"350\" y=\"180.0669\">«depend»</text></a><!--MD5=[1b7591eae5389033d8d09a9d6721a717]\n",
       "link E4 to E5--><a href=\"psysml:149727ef-4884-4150-ac87-83ab56bc940c\" target=\"_top\" title=\"psysml:149727ef-4884-4150-ac87-83ab56bc940c\" xlink:actuate=\"onRequest\" xlink:href=\"psysml:149727ef-4884-4150-ac87-83ab56bc940c\" xlink:show=\"new\" xlink:title=\"psysml:149727ef-4884-4150-ac87-83ab56bc940c\" xlink:type=\"simple\"><path d=\"M349,267.1 C349,286.8 349,314.22 349,335.73 \" fill=\"none\" id=\"E4-&gt;E5\" style=\"stroke: #383838; stroke-width: 1.0; stroke-dasharray: 7.0,7.0;\"/><polygon fill=\"#383838\" points=\"349,343.95,352,335.95,346,335.95,349,343.95\" style=\"stroke: #383838; stroke-width: 1.0;\"/><text fill=\"#000000\" font-family=\"sans-serif\" font-size=\"13\" lengthAdjust=\"spacingAndGlyphs\" textLength=\"64\" x=\"350\" y=\"310.0669\">«depend»</text></a><!--MD5=[c5e8897d989ce984f93528998a7150fe]\n",
       "link E8 to E6--><a href=\"psysml:6d264d90-cc53-4d32-95c3-fe1ad979e012\" target=\"_top\" title=\"psysml:6d264d90-cc53-4d32-95c3-fe1ad979e012\" xlink:actuate=\"onRequest\" xlink:href=\"psysml:6d264d90-cc53-4d32-95c3-fe1ad979e012\" xlink:show=\"new\" xlink:title=\"psysml:6d264d90-cc53-4d32-95c3-fe1ad979e012\" xlink:type=\"simple\"><path d=\"M89.42,133.6 C79.35,142.68 69.37,154.11 64,167 C58.5,180.2 58.66,195.94 60.54,209.38 \" fill=\"none\" id=\"E8-&gt;E6\" style=\"stroke: #383838; stroke-width: 1.0; stroke-dasharray: 7.0,7.0;\"/><polygon fill=\"#383838\" points=\"61.9,217.4,63.517,209.0104,57.6018,210.0159,61.9,217.4\" style=\"stroke: #383838; stroke-width: 1.0;\"/><text fill=\"#000000\" font-family=\"sans-serif\" font-size=\"13\" lengthAdjust=\"spacingAndGlyphs\" textLength=\"64\" x=\"65\" y=\"180.0669\">«depend»</text></a><!--MD5=[bfa3c8b0d15052fdf50ae9310b491027]\n",
       "link E8 to E7--><a href=\"psysml:6d264d90-cc53-4d32-95c3-fe1ad979e012\" target=\"_top\" title=\"psysml:6d264d90-cc53-4d32-95c3-fe1ad979e012\" xlink:actuate=\"onRequest\" xlink:href=\"psysml:6d264d90-cc53-4d32-95c3-fe1ad979e012\" xlink:show=\"new\" xlink:title=\"psysml:6d264d90-cc53-4d32-95c3-fe1ad979e012\" xlink:type=\"simple\"><path d=\"M129.28,133.5 C138.17,154.57 151.64,186.5 161.47,209.81 \" fill=\"none\" id=\"E8-&gt;E7\" style=\"stroke: #383838; stroke-width: 1.0; stroke-dasharray: 7.0,7.0;\"/><polygon fill=\"#383838\" points=\"164.66,217.35,164.3241,208.8126,158.7933,211.1385,164.66,217.35\" style=\"stroke: #383838; stroke-width: 1.0;\"/><text fill=\"#000000\" font-family=\"sans-serif\" font-size=\"13\" lengthAdjust=\"spacingAndGlyphs\" textLength=\"64\" x=\"151\" y=\"180.0669\">«depend»</text></a><!--MD5=[a9ea1ad6d69712f828e161c5bc379590]\n",
       "@startuml\r\n",
       " skinparam monochrome true\r\n",
       "skinparam classbackgroundcolor white\r\n",
       "skinparam shadowing false\r\n",
       "skinparam wrapWidth 300\r\n",
       "hide circle\r\n",
       "\r\n",
       "package \"DependencyTest\" as E1  [[psysml:d56232e2-0bee-4a1a-bb9b-8eb4f38b0dfa ]]  {\r\n",
       "package \"System\" as E2  [[psysml:50d5e3ed-2307-46ca-b041-8429ee229b8d ]]  {\r\n",
       "package \"Application Layer\" as E3  [[psysml:bf62b3a1-f030-4eff-b8ce-ffbdff107a6f ]]  {\r\n",
       "}\r\n",
       "package \"Service Layer\" as E4  [[psysml:471b2f11-dcf9-418e-881d-688bae838b3f ]]  {\r\n",
       "}\r\n",
       "package \"Data Layer\" as E5  [[psysml:da794142-8c7c-4611-9580-abeb242da5ef ]]  {\r\n",
       "}\r\n",
       "}\r\n",
       "comp usage \"x\" as E6  <<(T,blue)attribute>> [[psysml:ee6e66ae-6a4f-4999-8c9e-f85171cea95e ]] {\r\n",
       "}\r\n",
       "comp usage \"y\" as E7  <<(T,blue)attribute>> [[psysml:da3973fb-164e-4f16-bb62-2f8eaef60bc8 ]] {\r\n",
       "}\r\n",
       "comp usage \"z\" as E8  <<(T,blue)attribute>> [[psysml:8698e020-730f-4ac9-88e5-943d82c20ca0 ]] {\r\n",
       "}\r\n",
       "E3 ..>> E4 [[psysml:f56c438f-52f0-4453-9ce2-0999d9bfb233 ]] : <<depend>>\r\n",
       "E4 ..>> E5 [[psysml:149727ef-4884-4150-ac87-83ab56bc940c ]] : <<depend>>\r\n",
       "E8 ..>> E6 [[psysml:6d264d90-cc53-4d32-95c3-fe1ad979e012 ]] : <<depend>>\r\n",
       "E8 ..>> E7 [[psysml:6d264d90-cc53-4d32-95c3-fe1ad979e012 ]] : <<depend>>\r\n",
       "}\r\n",
       "@enduml\r\n",
       "\n",
       "PlantUML version 1.2020.13(Sat Jun 13 12:26:38 UTC 2020)\n",
       "(EPL source distribution)\n",
       "Java Runtime: OpenJDK Runtime Environment\n",
       "JVM: OpenJDK 64-Bit Server VM\n",
       "Default Encoding: UTF-8\n",
       "Language: en\n",
       "Country: null\n",
       "--></g></svg>"
      ]
     },
     "execution_count": 3,
     "metadata": {},
     "output_type": "execute_result"
    }
   ],
   "source": [
    "%viz --style=\"COMPTREE\" --view=\"Tree\" \"DependencyTest\""
   ]
  },
  {
   "cell_type": "code",
   "execution_count": 4,
   "id": "58235477",
   "metadata": {
    "execution": {
     "iopub.execute_input": "2021-04-20T07:32:16.443437Z",
     "iopub.status.busy": "2021-04-20T07:32:16.442509Z",
     "iopub.status.idle": "2021-04-20T07:32:16.456242Z",
     "shell.execute_reply": "2021-04-20T07:32:16.455426Z"
    }
   },
   "outputs": [
    {
     "data": {
      "image/svg+xml": [
       "<?xml version=\"1.0\" encoding=\"UTF-8\" standalone=\"no\"?><svg xmlns=\"http://www.w3.org/2000/svg\" xmlns:xlink=\"http://www.w3.org/1999/xlink\" contentScriptType=\"application/ecmascript\" contentStyleType=\"text/css\" height=\"12px\" preserveAspectRatio=\"none\" style=\"width:12px;height:12px;\" version=\"1.1\" viewBox=\"0 0 12 12\" width=\"12px\" zoomAndPan=\"magnify\"><defs/><g><!--MD5=[f19188ef49e11757b5c46753f95d9edc]\n",
       "@startuml\r\n",
       " skinparam monochrome true\r\n",
       "skinparam classbackgroundcolor white\r\n",
       "skinparam shadowing false\r\n",
       "skinparam wrapWidth 300\r\n",
       "hide circle\r\n",
       "\r\n",
       "@enduml\r\n",
       "\n",
       "PlantUML version 1.2020.13(Sat Jun 13 12:26:38 UTC 2020)\n",
       "(EPL source distribution)\n",
       "Java Runtime: OpenJDK Runtime Environment\n",
       "JVM: OpenJDK 64-Bit Server VM\n",
       "Default Encoding: UTF-8\n",
       "Language: en\n",
       "Country: null\n",
       "--></g></svg>"
      ]
     },
     "execution_count": 4,
     "metadata": {},
     "output_type": "execute_result"
    }
   ],
   "source": [
    "%viz --style=\"COMPTREE\" --view=\"State\" \"DependencyTest\""
   ]
  },
  {
   "cell_type": "code",
   "execution_count": 5,
   "id": "25836881",
   "metadata": {
    "execution": {
     "iopub.execute_input": "2021-04-20T07:32:16.506583Z",
     "iopub.status.busy": "2021-04-20T07:32:16.504643Z",
     "iopub.status.idle": "2021-04-20T07:32:16.616750Z",
     "shell.execute_reply": "2021-04-20T07:32:16.615705Z"
    }
   },
   "outputs": [
    {
     "data": {
      "image/svg+xml": [
       "<?xml version=\"1.0\" encoding=\"UTF-8\" standalone=\"no\"?><svg xmlns=\"http://www.w3.org/2000/svg\" xmlns:xlink=\"http://www.w3.org/1999/xlink\" contentScriptType=\"application/ecmascript\" contentStyleType=\"text/css\" height=\"361px\" preserveAspectRatio=\"none\" style=\"width:489px;height:361px;\" version=\"1.1\" viewBox=\"0 0 489 361\" width=\"489px\" zoomAndPan=\"magnify\"><defs/><g><!--MD5=[fbc87193dbaf4d95561dea2c320d4a47]\n",
       "cluster E1--><a href=\"psysml:d56232e2-0bee-4a1a-bb9b-8eb4f38b0dfa\" target=\"_top\" title=\"psysml:d56232e2-0bee-4a1a-bb9b-8eb4f38b0dfa\" xlink:actuate=\"onRequest\" xlink:href=\"psysml:d56232e2-0bee-4a1a-bb9b-8eb4f38b0dfa\" xlink:show=\"new\" xlink:title=\"psysml:d56232e2-0bee-4a1a-bb9b-8eb4f38b0dfa\" xlink:type=\"simple\"><polygon fill=\"#FFFFFF\" points=\"16,6,156,6,163,28.2969,467,28.2969,467,349,16,349,16,6\" style=\"stroke: #000000; stroke-width: 1.5;\"/><line style=\"stroke: #000000; stroke-width: 1.5;\" x1=\"16\" x2=\"163\" y1=\"28.2969\" y2=\"28.2969\"/><text fill=\"#000000\" font-family=\"sans-serif\" font-size=\"14\" font-weight=\"bold\" lengthAdjust=\"spacingAndGlyphs\" textLength=\"134\" x=\"20\" y=\"20.9951\">DependencyTest</text></a><!--MD5=[e4f7fae6ed58524ba242bb0b0d3be6b7]\n",
       "cluster E2--><a href=\"psysml:50d5e3ed-2307-46ca-b041-8429ee229b8d\" target=\"_top\" title=\"psysml:50d5e3ed-2307-46ca-b041-8429ee229b8d\" xlink:actuate=\"onRequest\" xlink:href=\"psysml:50d5e3ed-2307-46ca-b041-8429ee229b8d\" xlink:show=\"new\" xlink:title=\"psysml:50d5e3ed-2307-46ca-b041-8429ee229b8d\" xlink:type=\"simple\"><polygon fill=\"#FFFFFF\" points=\"255,49,319,49,326,71.2969,443,71.2969,443,325,255,325,255,49\" style=\"stroke: #000000; stroke-width: 1.5;\"/><line style=\"stroke: #000000; stroke-width: 1.5;\" x1=\"255\" x2=\"326\" y1=\"71.2969\" y2=\"71.2969\"/><text fill=\"#000000\" font-family=\"sans-serif\" font-size=\"14\" font-weight=\"bold\" lengthAdjust=\"spacingAndGlyphs\" textLength=\"58\" x=\"259\" y=\"63.9951\">System</text></a><!--MD5=[60a26617385b1d2d0262a64233df1f8d]\n",
       "class E6--><a href=\"psysml:ee6e66ae-6a4f-4999-8c9e-f85171cea95e\" target=\"_top\" title=\"psysml:ee6e66ae-6a4f-4999-8c9e-f85171cea95e\" xlink:actuate=\"onRequest\" xlink:href=\"psysml:ee6e66ae-6a4f-4999-8c9e-f85171cea95e\" xlink:show=\"new\" xlink:title=\"psysml:ee6e66ae-6a4f-4999-8c9e-f85171cea95e\" xlink:type=\"simple\"><rect fill=\"#FFFFFF\" height=\"45.9375\" id=\"E6\" rx=\"10\" ry=\"10\" style=\"stroke: #383838; stroke-width: 1.5;\" width=\"71\" x=\"32.5\" y=\"173.5\"/><text fill=\"#000000\" font-family=\"sans-serif\" font-size=\"12\" font-style=\"italic\" lengthAdjust=\"spacingAndGlyphs\" textLength=\"69\" x=\"33.5\" y=\"189.6387\">«attribute»</text><text fill=\"#000000\" font-family=\"sans-serif\" font-size=\"12\" lengthAdjust=\"spacingAndGlyphs\" textLength=\"6\" x=\"65\" y=\"203.6074\">x</text><line style=\"stroke: #383838; stroke-width: 1.5;\" x1=\"33.5\" x2=\"102.5\" y1=\"211.4375\" y2=\"211.4375\"/></a><!--MD5=[2156ba9850f5573cc1fc38a6a4b2f02b]\n",
       "class E7--><a href=\"psysml:da3973fb-164e-4f16-bb62-2f8eaef60bc8\" target=\"_top\" title=\"psysml:da3973fb-164e-4f16-bb62-2f8eaef60bc8\" xlink:actuate=\"onRequest\" xlink:href=\"psysml:da3973fb-164e-4f16-bb62-2f8eaef60bc8\" xlink:show=\"new\" xlink:title=\"psysml:da3973fb-164e-4f16-bb62-2f8eaef60bc8\" xlink:type=\"simple\"><rect fill=\"#FFFFFF\" height=\"45.9375\" id=\"E7\" rx=\"10\" ry=\"10\" style=\"stroke: #383838; stroke-width: 1.5;\" width=\"71\" x=\"138.5\" y=\"173.5\"/><text fill=\"#000000\" font-family=\"sans-serif\" font-size=\"12\" font-style=\"italic\" lengthAdjust=\"spacingAndGlyphs\" textLength=\"69\" x=\"139.5\" y=\"189.6387\">«attribute»</text><text fill=\"#000000\" font-family=\"sans-serif\" font-size=\"12\" lengthAdjust=\"spacingAndGlyphs\" textLength=\"6\" x=\"171\" y=\"203.6074\">y</text><line style=\"stroke: #383838; stroke-width: 1.5;\" x1=\"139.5\" x2=\"208.5\" y1=\"211.4375\" y2=\"211.4375\"/></a><!--MD5=[b9389687b975829384b498ac4b7476b2]\n",
       "class E8--><a href=\"psysml:8698e020-730f-4ac9-88e5-943d82c20ca0\" target=\"_top\" title=\"psysml:8698e020-730f-4ac9-88e5-943d82c20ca0\" xlink:actuate=\"onRequest\" xlink:href=\"psysml:8698e020-730f-4ac9-88e5-943d82c20ca0\" xlink:show=\"new\" xlink:title=\"psysml:8698e020-730f-4ac9-88e5-943d82c20ca0\" xlink:type=\"simple\"><rect fill=\"#FFFFFF\" height=\"45.9375\" id=\"E8\" rx=\"10\" ry=\"10\" style=\"stroke: #383838; stroke-width: 1.5;\" width=\"71\" x=\"84.5\" y=\"87.5\"/><text fill=\"#000000\" font-family=\"sans-serif\" font-size=\"12\" font-style=\"italic\" lengthAdjust=\"spacingAndGlyphs\" textLength=\"69\" x=\"85.5\" y=\"103.6387\">«attribute»</text><text fill=\"#000000\" font-family=\"sans-serif\" font-size=\"12\" lengthAdjust=\"spacingAndGlyphs\" textLength=\"5\" x=\"117.5\" y=\"117.6074\">z</text><line style=\"stroke: #383838; stroke-width: 1.5;\" x1=\"85.5\" x2=\"154.5\" y1=\"125.4375\" y2=\"125.4375\"/></a><a href=\"psysml:bf62b3a1-f030-4eff-b8ce-ffbdff107a6f\" target=\"_top\" title=\"psysml:bf62b3a1-f030-4eff-b8ce-ffbdff107a6f\" xlink:actuate=\"onRequest\" xlink:href=\"psysml:bf62b3a1-f030-4eff-b8ce-ffbdff107a6f\" xlink:show=\"new\" xlink:title=\"psysml:bf62b3a1-f030-4eff-b8ce-ffbdff107a6f\" xlink:type=\"simple\"><polygon fill=\"#FFFFFF\" points=\"271,84,413,84,420,106.2969,427,106.2969,427,136.5938,271,136.5938,271,84\" style=\"stroke: #000000; stroke-width: 1.5;\"/><line style=\"stroke: #000000; stroke-width: 1.5;\" x1=\"271\" x2=\"420\" y1=\"106.2969\" y2=\"106.2969\"/><text fill=\"#000000\" font-family=\"sans-serif\" font-size=\"14\" font-weight=\"bold\" lengthAdjust=\"spacingAndGlyphs\" textLength=\"136\" x=\"275\" y=\"98.9951\">Application Layer</text></a><a href=\"psysml:471b2f11-dcf9-418e-881d-688bae838b3f\" target=\"_top\" title=\"psysml:471b2f11-dcf9-418e-881d-688bae838b3f\" xlink:actuate=\"onRequest\" xlink:href=\"psysml:471b2f11-dcf9-418e-881d-688bae838b3f\" xlink:show=\"new\" xlink:title=\"psysml:471b2f11-dcf9-418e-881d-688bae838b3f\" xlink:type=\"simple\"><polygon fill=\"#FFFFFF\" points=\"285,170,399,170,406,192.2969,413,192.2969,413,222.5938,285,222.5938,285,170\" style=\"stroke: #000000; stroke-width: 1.5;\"/><line style=\"stroke: #000000; stroke-width: 1.5;\" x1=\"285\" x2=\"406\" y1=\"192.2969\" y2=\"192.2969\"/><text fill=\"#000000\" font-family=\"sans-serif\" font-size=\"14\" font-weight=\"bold\" lengthAdjust=\"spacingAndGlyphs\" textLength=\"108\" x=\"289\" y=\"184.9951\">Service Layer</text></a><a href=\"psysml:da794142-8c7c-4611-9580-abeb242da5ef\" target=\"_top\" title=\"psysml:da794142-8c7c-4611-9580-abeb242da5ef\" xlink:actuate=\"onRequest\" xlink:href=\"psysml:da794142-8c7c-4611-9580-abeb242da5ef\" xlink:show=\"new\" xlink:title=\"psysml:da794142-8c7c-4611-9580-abeb242da5ef\" xlink:type=\"simple\"><polygon fill=\"#FFFFFF\" points=\"297,256,387,256,394,278.2969,401,278.2969,401,308.5938,297,308.5938,297,256\" style=\"stroke: #000000; stroke-width: 1.5;\"/><line style=\"stroke: #000000; stroke-width: 1.5;\" x1=\"297\" x2=\"394\" y1=\"278.2969\" y2=\"278.2969\"/><text fill=\"#000000\" font-family=\"sans-serif\" font-size=\"14\" font-weight=\"bold\" lengthAdjust=\"spacingAndGlyphs\" textLength=\"84\" x=\"301\" y=\"270.9951\">Data Layer</text></a><!--MD5=[af87c684e3b0d8be13c1a698a818ef1e]\n",
       "link E3 to E4--><a href=\"psysml:f56c438f-52f0-4453-9ce2-0999d9bfb233\" target=\"_top\" title=\"psysml:f56c438f-52f0-4453-9ce2-0999d9bfb233\" xlink:actuate=\"onRequest\" xlink:href=\"psysml:f56c438f-52f0-4453-9ce2-0999d9bfb233\" xlink:show=\"new\" xlink:title=\"psysml:f56c438f-52f0-4453-9ce2-0999d9bfb233\" xlink:type=\"simple\"><path d=\"M349,137.16 C349,144.98 349,153.69 349,161.94 \" fill=\"none\" id=\"E3-&gt;E4\" style=\"stroke: #383838; stroke-width: 1.0; stroke-dasharray: 7.0,7.0;\"/><polygon fill=\"#383838\" points=\"349,170,352,162,346,162,349,170\" style=\"stroke: #383838; stroke-width: 1.0;\"/><text fill=\"#000000\" font-family=\"sans-serif\" font-size=\"13\" lengthAdjust=\"spacingAndGlyphs\" textLength=\"64\" x=\"350\" y=\"158.0669\">«depend»</text></a><!--MD5=[1b7591eae5389033d8d09a9d6721a717]\n",
       "link E4 to E5--><a href=\"psysml:149727ef-4884-4150-ac87-83ab56bc940c\" target=\"_top\" title=\"psysml:149727ef-4884-4150-ac87-83ab56bc940c\" xlink:actuate=\"onRequest\" xlink:href=\"psysml:149727ef-4884-4150-ac87-83ab56bc940c\" xlink:show=\"new\" xlink:title=\"psysml:149727ef-4884-4150-ac87-83ab56bc940c\" xlink:type=\"simple\"><path d=\"M349,223.16 C349,230.98 349,239.69 349,247.94 \" fill=\"none\" id=\"E4-&gt;E5\" style=\"stroke: #383838; stroke-width: 1.0; stroke-dasharray: 7.0,7.0;\"/><polygon fill=\"#383838\" points=\"349,256,352,248,346,248,349,256\" style=\"stroke: #383838; stroke-width: 1.0;\"/><text fill=\"#000000\" font-family=\"sans-serif\" font-size=\"13\" lengthAdjust=\"spacingAndGlyphs\" textLength=\"64\" x=\"350\" y=\"244.0669\">«depend»</text></a><!--MD5=[c5e8897d989ce984f93528998a7150fe]\n",
       "link E8 to E6--><a href=\"psysml:6d264d90-cc53-4d32-95c3-fe1ad979e012\" target=\"_top\" title=\"psysml:6d264d90-cc53-4d32-95c3-fe1ad979e012\" xlink:actuate=\"onRequest\" xlink:href=\"psysml:6d264d90-cc53-4d32-95c3-fe1ad979e012\" xlink:show=\"new\" xlink:title=\"psysml:6d264d90-cc53-4d32-95c3-fe1ad979e012\" xlink:type=\"simple\"><path d=\"M84.49,125.34 C76.34,130.27 68.69,136.72 64,145 C60.54,151.1 59.62,158.31 60,165.33 \" fill=\"none\" id=\"E8-&gt;E6\" style=\"stroke: #383838; stroke-width: 1.0; stroke-dasharray: 7.0,7.0;\"/><polygon fill=\"#383838\" points=\"60.97,173.42,63.0061,165.1221,57.0479,165.8294,60.97,173.42\" style=\"stroke: #383838; stroke-width: 1.0;\"/><text fill=\"#000000\" font-family=\"sans-serif\" font-size=\"13\" lengthAdjust=\"spacingAndGlyphs\" textLength=\"64\" x=\"65\" y=\"158.0669\">«depend»</text></a><!--MD5=[bfa3c8b0d15052fdf50ae9310b491027]\n",
       "link E8 to E7--><a href=\"psysml:6d264d90-cc53-4d32-95c3-fe1ad979e012\" target=\"_top\" title=\"psysml:6d264d90-cc53-4d32-95c3-fe1ad979e012\" xlink:actuate=\"onRequest\" xlink:href=\"psysml:6d264d90-cc53-4d32-95c3-fe1ad979e012\" xlink:show=\"new\" xlink:title=\"psysml:6d264d90-cc53-4d32-95c3-fe1ad979e012\" xlink:type=\"simple\"><path d=\"M134.19,133.57 C140.65,143.62 148.38,155.65 155.31,166.42 \" fill=\"none\" id=\"E8-&gt;E7\" style=\"stroke: #383838; stroke-width: 1.0; stroke-dasharray: 7.0,7.0;\"/><polygon fill=\"#383838\" points=\"159.72,173.29,157.9148,164.9389,152.8688,168.185,159.72,173.29\" style=\"stroke: #383838; stroke-width: 1.0;\"/><text fill=\"#000000\" font-family=\"sans-serif\" font-size=\"13\" lengthAdjust=\"spacingAndGlyphs\" textLength=\"64\" x=\"152\" y=\"158.0669\">«depend»</text></a><!--MD5=[d924d3e6a672708571bd8209b36c9408]\n",
       "@startuml\r\n",
       "skinparam ranksep 10\r\n",
       "skinparam rectangle {\r\n",
       " backgroundColor<<block>> LightGreen\r\n",
       "}\r\n",
       " skinparam monochrome true\r\n",
       "skinparam classbackgroundcolor white\r\n",
       "skinparam shadowing false\r\n",
       "skinparam wrapWidth 300\r\n",
       "hide circle\r\n",
       "\r\n",
       "package \"DependencyTest\" as E1  [[psysml:d56232e2-0bee-4a1a-bb9b-8eb4f38b0dfa ]]  {\r\n",
       "package \"System\" as E2  [[psysml:50d5e3ed-2307-46ca-b041-8429ee229b8d ]]  {\r\n",
       "package \"Application Layer\" as E3  [[psysml:bf62b3a1-f030-4eff-b8ce-ffbdff107a6f ]]  {\r\n",
       "}\r\n",
       "package \"Service Layer\" as E4  [[psysml:471b2f11-dcf9-418e-881d-688bae838b3f ]]  {\r\n",
       "}\r\n",
       "package \"Data Layer\" as E5  [[psysml:da794142-8c7c-4611-9580-abeb242da5ef ]]  {\r\n",
       "}\r\n",
       "}\r\n",
       "comp usage \"x\" as E6  <<(T,blue)attribute>> [[psysml:ee6e66ae-6a4f-4999-8c9e-f85171cea95e ]] {\r\n",
       "}\r\n",
       "comp usage \"y\" as E7  <<(T,blue)attribute>> [[psysml:da3973fb-164e-4f16-bb62-2f8eaef60bc8 ]] {\r\n",
       "}\r\n",
       "comp usage \"z\" as E8  <<(T,blue)attribute>> [[psysml:8698e020-730f-4ac9-88e5-943d82c20ca0 ]] {\r\n",
       "}\r\n",
       "E3 ..>> E4 [[psysml:f56c438f-52f0-4453-9ce2-0999d9bfb233 ]] : <<depend>>\r\n",
       "E4 ..>> E5 [[psysml:149727ef-4884-4150-ac87-83ab56bc940c ]] : <<depend>>\r\n",
       "E8 ..>> E6 [[psysml:6d264d90-cc53-4d32-95c3-fe1ad979e012 ]] : <<depend>>\r\n",
       "E8 ..>> E7 [[psysml:6d264d90-cc53-4d32-95c3-fe1ad979e012 ]] : <<depend>>\r\n",
       "}\r\n",
       "@enduml\r\n",
       "\n",
       "PlantUML version 1.2020.13(Sat Jun 13 12:26:38 UTC 2020)\n",
       "(EPL source distribution)\n",
       "Java Runtime: OpenJDK Runtime Environment\n",
       "JVM: OpenJDK 64-Bit Server VM\n",
       "Default Encoding: UTF-8\n",
       "Language: en\n",
       "Country: null\n",
       "--></g></svg>"
      ]
     },
     "execution_count": 5,
     "metadata": {},
     "output_type": "execute_result"
    }
   ],
   "source": [
    "%viz --style=\"COMPTREE\" --view=\"Interconnection\" \"DependencyTest\""
   ]
  },
  {
   "cell_type": "code",
   "execution_count": 6,
   "id": "e204e666",
   "metadata": {
    "execution": {
     "iopub.execute_input": "2021-04-20T07:32:16.666714Z",
     "iopub.status.busy": "2021-04-20T07:32:16.665949Z",
     "iopub.status.idle": "2021-04-20T07:32:16.678976Z",
     "shell.execute_reply": "2021-04-20T07:32:16.678555Z"
    }
   },
   "outputs": [
    {
     "data": {
      "image/svg+xml": [
       "<?xml version=\"1.0\" encoding=\"UTF-8\" standalone=\"no\"?><svg xmlns=\"http://www.w3.org/2000/svg\" xmlns:xlink=\"http://www.w3.org/1999/xlink\" contentScriptType=\"application/ecmascript\" contentStyleType=\"text/css\" height=\"12px\" preserveAspectRatio=\"none\" style=\"width:12px;height:12px;\" version=\"1.1\" viewBox=\"0 0 12 12\" width=\"12px\" zoomAndPan=\"magnify\"><defs/><g><!--MD5=[655b888544ca4751ea36af1068543f84]\n",
       "@startuml\r\n",
       "skinparam ranksep 8\r\n",
       " skinparam monochrome true\r\n",
       "skinparam classbackgroundcolor white\r\n",
       "skinparam shadowing false\r\n",
       "skinparam wrapWidth 300\r\n",
       "hide circle\r\n",
       "\r\n",
       "@enduml\r\n",
       "\n",
       "PlantUML version 1.2020.13(Sat Jun 13 12:26:38 UTC 2020)\n",
       "(EPL source distribution)\n",
       "Java Runtime: OpenJDK Runtime Environment\n",
       "JVM: OpenJDK 64-Bit Server VM\n",
       "Default Encoding: UTF-8\n",
       "Language: en\n",
       "Country: null\n",
       "--></g></svg>"
      ]
     },
     "execution_count": 6,
     "metadata": {},
     "output_type": "execute_result"
    }
   ],
   "source": [
    "%viz --style=\"COMPTREE\" --view=\"Action\" \"DependencyTest\""
   ]
  },
  {
   "cell_type": "code",
   "execution_count": 7,
   "id": "49e76de4",
   "metadata": {
    "execution": {
     "iopub.execute_input": "2021-04-20T07:32:16.730157Z",
     "iopub.status.busy": "2021-04-20T07:32:16.728950Z",
     "iopub.status.idle": "2021-04-20T07:32:16.828567Z",
     "shell.execute_reply": "2021-04-20T07:32:16.825731Z"
    }
   },
   "outputs": [
    {
     "data": {
      "image/svg+xml": [
       "<?xml version=\"1.0\" encoding=\"UTF-8\" standalone=\"no\"?><svg xmlns=\"http://www.w3.org/2000/svg\" xmlns:xlink=\"http://www.w3.org/1999/xlink\" contentScriptType=\"application/ecmascript\" contentStyleType=\"text/css\" height=\"449px\" preserveAspectRatio=\"none\" style=\"width:489px;height:449px;\" version=\"1.1\" viewBox=\"0 0 489 449\" width=\"489px\" zoomAndPan=\"magnify\"><defs/><g><!--MD5=[fbc87193dbaf4d95561dea2c320d4a47]\n",
       "cluster E1--><a href=\"psysml:d56232e2-0bee-4a1a-bb9b-8eb4f38b0dfa\" target=\"_top\" title=\"psysml:d56232e2-0bee-4a1a-bb9b-8eb4f38b0dfa\" xlink:actuate=\"onRequest\" xlink:href=\"psysml:d56232e2-0bee-4a1a-bb9b-8eb4f38b0dfa\" xlink:show=\"new\" xlink:title=\"psysml:d56232e2-0bee-4a1a-bb9b-8eb4f38b0dfa\" xlink:type=\"simple\"><polygon fill=\"#FFFFFF\" points=\"16,6,156,6,163,28.2969,467,28.2969,467,437,16,437,16,6\" style=\"stroke: #000000; stroke-width: 1.5;\"/><line style=\"stroke: #000000; stroke-width: 1.5;\" x1=\"16\" x2=\"163\" y1=\"28.2969\" y2=\"28.2969\"/><text fill=\"#000000\" font-family=\"sans-serif\" font-size=\"14\" font-weight=\"bold\" lengthAdjust=\"spacingAndGlyphs\" textLength=\"134\" x=\"20\" y=\"20.9951\">DependencyTest</text></a><!--MD5=[e4f7fae6ed58524ba242bb0b0d3be6b7]\n",
       "cluster E2--><a href=\"psysml:50d5e3ed-2307-46ca-b041-8429ee229b8d\" target=\"_top\" title=\"psysml:50d5e3ed-2307-46ca-b041-8429ee229b8d\" xlink:actuate=\"onRequest\" xlink:href=\"psysml:50d5e3ed-2307-46ca-b041-8429ee229b8d\" xlink:show=\"new\" xlink:title=\"psysml:50d5e3ed-2307-46ca-b041-8429ee229b8d\" xlink:type=\"simple\"><polygon fill=\"#FFFFFF\" points=\"255,49,319,49,326,71.2969,443,71.2969,443,413,255,413,255,49\" style=\"stroke: #000000; stroke-width: 1.5;\"/><line style=\"stroke: #000000; stroke-width: 1.5;\" x1=\"255\" x2=\"326\" y1=\"71.2969\" y2=\"71.2969\"/><text fill=\"#000000\" font-family=\"sans-serif\" font-size=\"14\" font-weight=\"bold\" lengthAdjust=\"spacingAndGlyphs\" textLength=\"58\" x=\"259\" y=\"63.9951\">System</text></a><!--MD5=[60a26617385b1d2d0262a64233df1f8d]\n",
       "class E6--><a href=\"psysml:ee6e66ae-6a4f-4999-8c9e-f85171cea95e\" target=\"_top\" title=\"psysml:ee6e66ae-6a4f-4999-8c9e-f85171cea95e\" xlink:actuate=\"onRequest\" xlink:href=\"psysml:ee6e66ae-6a4f-4999-8c9e-f85171cea95e\" xlink:show=\"new\" xlink:title=\"psysml:ee6e66ae-6a4f-4999-8c9e-f85171cea95e\" xlink:type=\"simple\"><rect fill=\"#FFFFFF\" height=\"45.9375\" id=\"E6\" rx=\"10\" ry=\"10\" style=\"stroke: #383838; stroke-width: 1.5;\" width=\"71\" x=\"32.5\" y=\"217.5\"/><text fill=\"#000000\" font-family=\"sans-serif\" font-size=\"12\" font-style=\"italic\" lengthAdjust=\"spacingAndGlyphs\" textLength=\"69\" x=\"33.5\" y=\"233.6387\">«attribute»</text><text fill=\"#000000\" font-family=\"sans-serif\" font-size=\"12\" lengthAdjust=\"spacingAndGlyphs\" textLength=\"6\" x=\"65\" y=\"247.6074\">x</text><line style=\"stroke: #383838; stroke-width: 1.5;\" x1=\"33.5\" x2=\"102.5\" y1=\"255.4375\" y2=\"255.4375\"/></a><!--MD5=[2156ba9850f5573cc1fc38a6a4b2f02b]\n",
       "class E7--><a href=\"psysml:da3973fb-164e-4f16-bb62-2f8eaef60bc8\" target=\"_top\" title=\"psysml:da3973fb-164e-4f16-bb62-2f8eaef60bc8\" xlink:actuate=\"onRequest\" xlink:href=\"psysml:da3973fb-164e-4f16-bb62-2f8eaef60bc8\" xlink:show=\"new\" xlink:title=\"psysml:da3973fb-164e-4f16-bb62-2f8eaef60bc8\" xlink:type=\"simple\"><rect fill=\"#FFFFFF\" height=\"45.9375\" id=\"E7\" rx=\"10\" ry=\"10\" style=\"stroke: #383838; stroke-width: 1.5;\" width=\"71\" x=\"138.5\" y=\"217.5\"/><text fill=\"#000000\" font-family=\"sans-serif\" font-size=\"12\" font-style=\"italic\" lengthAdjust=\"spacingAndGlyphs\" textLength=\"69\" x=\"139.5\" y=\"233.6387\">«attribute»</text><text fill=\"#000000\" font-family=\"sans-serif\" font-size=\"12\" lengthAdjust=\"spacingAndGlyphs\" textLength=\"6\" x=\"171\" y=\"247.6074\">y</text><line style=\"stroke: #383838; stroke-width: 1.5;\" x1=\"139.5\" x2=\"208.5\" y1=\"255.4375\" y2=\"255.4375\"/></a><!--MD5=[b9389687b975829384b498ac4b7476b2]\n",
       "class E8--><a href=\"psysml:8698e020-730f-4ac9-88e5-943d82c20ca0\" target=\"_top\" title=\"psysml:8698e020-730f-4ac9-88e5-943d82c20ca0\" xlink:actuate=\"onRequest\" xlink:href=\"psysml:8698e020-730f-4ac9-88e5-943d82c20ca0\" xlink:show=\"new\" xlink:title=\"psysml:8698e020-730f-4ac9-88e5-943d82c20ca0\" xlink:type=\"simple\"><rect fill=\"#FFFFFF\" height=\"45.9375\" id=\"E8\" rx=\"10\" ry=\"10\" style=\"stroke: #383838; stroke-width: 1.5;\" width=\"71\" x=\"84.5\" y=\"87.5\"/><text fill=\"#000000\" font-family=\"sans-serif\" font-size=\"12\" font-style=\"italic\" lengthAdjust=\"spacingAndGlyphs\" textLength=\"69\" x=\"85.5\" y=\"103.6387\">«attribute»</text><text fill=\"#000000\" font-family=\"sans-serif\" font-size=\"12\" lengthAdjust=\"spacingAndGlyphs\" textLength=\"5\" x=\"117.5\" y=\"117.6074\">z</text><line style=\"stroke: #383838; stroke-width: 1.5;\" x1=\"85.5\" x2=\"154.5\" y1=\"125.4375\" y2=\"125.4375\"/></a><a href=\"psysml:bf62b3a1-f030-4eff-b8ce-ffbdff107a6f\" target=\"_top\" title=\"psysml:bf62b3a1-f030-4eff-b8ce-ffbdff107a6f\" xlink:actuate=\"onRequest\" xlink:href=\"psysml:bf62b3a1-f030-4eff-b8ce-ffbdff107a6f\" xlink:show=\"new\" xlink:title=\"psysml:bf62b3a1-f030-4eff-b8ce-ffbdff107a6f\" xlink:type=\"simple\"><polygon fill=\"#FFFFFF\" points=\"271,84,413,84,420,106.2969,427,106.2969,427,136.5938,271,136.5938,271,84\" style=\"stroke: #000000; stroke-width: 1.5;\"/><line style=\"stroke: #000000; stroke-width: 1.5;\" x1=\"271\" x2=\"420\" y1=\"106.2969\" y2=\"106.2969\"/><text fill=\"#000000\" font-family=\"sans-serif\" font-size=\"14\" font-weight=\"bold\" lengthAdjust=\"spacingAndGlyphs\" textLength=\"136\" x=\"275\" y=\"98.9951\">Application Layer</text></a><a href=\"psysml:471b2f11-dcf9-418e-881d-688bae838b3f\" target=\"_top\" title=\"psysml:471b2f11-dcf9-418e-881d-688bae838b3f\" xlink:actuate=\"onRequest\" xlink:href=\"psysml:471b2f11-dcf9-418e-881d-688bae838b3f\" xlink:show=\"new\" xlink:title=\"psysml:471b2f11-dcf9-418e-881d-688bae838b3f\" xlink:type=\"simple\"><polygon fill=\"#FFFFFF\" points=\"285,214,399,214,406,236.2969,413,236.2969,413,266.5938,285,266.5938,285,214\" style=\"stroke: #000000; stroke-width: 1.5;\"/><line style=\"stroke: #000000; stroke-width: 1.5;\" x1=\"285\" x2=\"406\" y1=\"236.2969\" y2=\"236.2969\"/><text fill=\"#000000\" font-family=\"sans-serif\" font-size=\"14\" font-weight=\"bold\" lengthAdjust=\"spacingAndGlyphs\" textLength=\"108\" x=\"289\" y=\"228.9951\">Service Layer</text></a><a href=\"psysml:da794142-8c7c-4611-9580-abeb242da5ef\" target=\"_top\" title=\"psysml:da794142-8c7c-4611-9580-abeb242da5ef\" xlink:actuate=\"onRequest\" xlink:href=\"psysml:da794142-8c7c-4611-9580-abeb242da5ef\" xlink:show=\"new\" xlink:title=\"psysml:da794142-8c7c-4611-9580-abeb242da5ef\" xlink:type=\"simple\"><polygon fill=\"#FFFFFF\" points=\"297,344,387,344,394,366.2969,401,366.2969,401,396.5938,297,396.5938,297,344\" style=\"stroke: #000000; stroke-width: 1.5;\"/><line style=\"stroke: #000000; stroke-width: 1.5;\" x1=\"297\" x2=\"394\" y1=\"366.2969\" y2=\"366.2969\"/><text fill=\"#000000\" font-family=\"sans-serif\" font-size=\"14\" font-weight=\"bold\" lengthAdjust=\"spacingAndGlyphs\" textLength=\"84\" x=\"301\" y=\"358.9951\">Data Layer</text></a><!--MD5=[af87c684e3b0d8be13c1a698a818ef1e]\n",
       "link E3 to E4--><a href=\"psysml:f56c438f-52f0-4453-9ce2-0999d9bfb233\" target=\"_top\" title=\"psysml:f56c438f-52f0-4453-9ce2-0999d9bfb233\" xlink:actuate=\"onRequest\" xlink:href=\"psysml:f56c438f-52f0-4453-9ce2-0999d9bfb233\" xlink:show=\"new\" xlink:title=\"psysml:f56c438f-52f0-4453-9ce2-0999d9bfb233\" xlink:type=\"simple\"><path d=\"M349,137.1 C349,156.8 349,184.22 349,205.73 \" fill=\"none\" id=\"E3-&gt;E4\" style=\"stroke: #383838; stroke-width: 1.0; stroke-dasharray: 7.0,7.0;\"/><polygon fill=\"#383838\" points=\"349,213.95,352,205.95,346,205.95,349,213.95\" style=\"stroke: #383838; stroke-width: 1.0;\"/><text fill=\"#000000\" font-family=\"sans-serif\" font-size=\"13\" lengthAdjust=\"spacingAndGlyphs\" textLength=\"64\" x=\"350\" y=\"180.0669\">«depend»</text></a><!--MD5=[1b7591eae5389033d8d09a9d6721a717]\n",
       "link E4 to E5--><a href=\"psysml:149727ef-4884-4150-ac87-83ab56bc940c\" target=\"_top\" title=\"psysml:149727ef-4884-4150-ac87-83ab56bc940c\" xlink:actuate=\"onRequest\" xlink:href=\"psysml:149727ef-4884-4150-ac87-83ab56bc940c\" xlink:show=\"new\" xlink:title=\"psysml:149727ef-4884-4150-ac87-83ab56bc940c\" xlink:type=\"simple\"><path d=\"M349,267.1 C349,286.8 349,314.22 349,335.73 \" fill=\"none\" id=\"E4-&gt;E5\" style=\"stroke: #383838; stroke-width: 1.0; stroke-dasharray: 7.0,7.0;\"/><polygon fill=\"#383838\" points=\"349,343.95,352,335.95,346,335.95,349,343.95\" style=\"stroke: #383838; stroke-width: 1.0;\"/><text fill=\"#000000\" font-family=\"sans-serif\" font-size=\"13\" lengthAdjust=\"spacingAndGlyphs\" textLength=\"64\" x=\"350\" y=\"310.0669\">«depend»</text></a><!--MD5=[c5e8897d989ce984f93528998a7150fe]\n",
       "link E8 to E6--><a href=\"psysml:6d264d90-cc53-4d32-95c3-fe1ad979e012\" target=\"_top\" title=\"psysml:6d264d90-cc53-4d32-95c3-fe1ad979e012\" xlink:actuate=\"onRequest\" xlink:href=\"psysml:6d264d90-cc53-4d32-95c3-fe1ad979e012\" xlink:show=\"new\" xlink:title=\"psysml:6d264d90-cc53-4d32-95c3-fe1ad979e012\" xlink:type=\"simple\"><path d=\"M89.42,133.6 C79.35,142.68 69.37,154.11 64,167 C58.5,180.2 58.66,195.94 60.54,209.38 \" fill=\"none\" id=\"E8-&gt;E6\" style=\"stroke: #383838; stroke-width: 1.0; stroke-dasharray: 7.0,7.0;\"/><polygon fill=\"#383838\" points=\"61.9,217.4,63.517,209.0104,57.6018,210.0159,61.9,217.4\" style=\"stroke: #383838; stroke-width: 1.0;\"/><text fill=\"#000000\" font-family=\"sans-serif\" font-size=\"13\" lengthAdjust=\"spacingAndGlyphs\" textLength=\"64\" x=\"65\" y=\"180.0669\">«depend»</text></a><!--MD5=[bfa3c8b0d15052fdf50ae9310b491027]\n",
       "link E8 to E7--><a href=\"psysml:6d264d90-cc53-4d32-95c3-fe1ad979e012\" target=\"_top\" title=\"psysml:6d264d90-cc53-4d32-95c3-fe1ad979e012\" xlink:actuate=\"onRequest\" xlink:href=\"psysml:6d264d90-cc53-4d32-95c3-fe1ad979e012\" xlink:show=\"new\" xlink:title=\"psysml:6d264d90-cc53-4d32-95c3-fe1ad979e012\" xlink:type=\"simple\"><path d=\"M129.28,133.5 C138.17,154.57 151.64,186.5 161.47,209.81 \" fill=\"none\" id=\"E8-&gt;E7\" style=\"stroke: #383838; stroke-width: 1.0; stroke-dasharray: 7.0,7.0;\"/><polygon fill=\"#383838\" points=\"164.66,217.35,164.3241,208.8126,158.7933,211.1385,164.66,217.35\" style=\"stroke: #383838; stroke-width: 1.0;\"/><text fill=\"#000000\" font-family=\"sans-serif\" font-size=\"13\" lengthAdjust=\"spacingAndGlyphs\" textLength=\"64\" x=\"151\" y=\"180.0669\">«depend»</text></a><!--MD5=[a9ea1ad6d69712f828e161c5bc379590]\n",
       "@startuml\r\n",
       " skinparam monochrome true\r\n",
       "skinparam classbackgroundcolor white\r\n",
       "skinparam shadowing false\r\n",
       "skinparam wrapWidth 300\r\n",
       "hide circle\r\n",
       "\r\n",
       "package \"DependencyTest\" as E1  [[psysml:d56232e2-0bee-4a1a-bb9b-8eb4f38b0dfa ]]  {\r\n",
       "package \"System\" as E2  [[psysml:50d5e3ed-2307-46ca-b041-8429ee229b8d ]]  {\r\n",
       "package \"Application Layer\" as E3  [[psysml:bf62b3a1-f030-4eff-b8ce-ffbdff107a6f ]]  {\r\n",
       "}\r\n",
       "package \"Service Layer\" as E4  [[psysml:471b2f11-dcf9-418e-881d-688bae838b3f ]]  {\r\n",
       "}\r\n",
       "package \"Data Layer\" as E5  [[psysml:da794142-8c7c-4611-9580-abeb242da5ef ]]  {\r\n",
       "}\r\n",
       "}\r\n",
       "comp usage \"x\" as E6  <<(T,blue)attribute>> [[psysml:ee6e66ae-6a4f-4999-8c9e-f85171cea95e ]] {\r\n",
       "}\r\n",
       "comp usage \"y\" as E7  <<(T,blue)attribute>> [[psysml:da3973fb-164e-4f16-bb62-2f8eaef60bc8 ]] {\r\n",
       "}\r\n",
       "comp usage \"z\" as E8  <<(T,blue)attribute>> [[psysml:8698e020-730f-4ac9-88e5-943d82c20ca0 ]] {\r\n",
       "}\r\n",
       "E3 ..>> E4 [[psysml:f56c438f-52f0-4453-9ce2-0999d9bfb233 ]] : <<depend>>\r\n",
       "E4 ..>> E5 [[psysml:149727ef-4884-4150-ac87-83ab56bc940c ]] : <<depend>>\r\n",
       "E8 ..>> E6 [[psysml:6d264d90-cc53-4d32-95c3-fe1ad979e012 ]] : <<depend>>\r\n",
       "E8 ..>> E7 [[psysml:6d264d90-cc53-4d32-95c3-fe1ad979e012 ]] : <<depend>>\r\n",
       "}\r\n",
       "@enduml\r\n",
       "\n",
       "PlantUML version 1.2020.13(Sat Jun 13 12:26:38 UTC 2020)\n",
       "(EPL source distribution)\n",
       "Java Runtime: OpenJDK Runtime Environment\n",
       "JVM: OpenJDK 64-Bit Server VM\n",
       "Default Encoding: UTF-8\n",
       "Language: en\n",
       "Country: null\n",
       "--></g></svg>"
      ]
     },
     "execution_count": 7,
     "metadata": {},
     "output_type": "execute_result"
    }
   ],
   "source": [
    "%viz --style=\"COMPTREE\" --view=\"Sequence\" \"DependencyTest\""
   ]
  },
  {
   "cell_type": "code",
   "execution_count": 8,
   "id": "0cabc1d5",
   "metadata": {
    "execution": {
     "iopub.execute_input": "2021-04-20T07:32:16.900289Z",
     "iopub.status.busy": "2021-04-20T07:32:16.899006Z",
     "iopub.status.idle": "2021-04-20T07:32:16.978608Z",
     "shell.execute_reply": "2021-04-20T07:32:16.976066Z"
    }
   },
   "outputs": [
    {
     "data": {
      "image/svg+xml": [
       "<?xml version=\"1.0\" encoding=\"UTF-8\" standalone=\"no\"?><svg xmlns=\"http://www.w3.org/2000/svg\" xmlns:xlink=\"http://www.w3.org/1999/xlink\" contentScriptType=\"application/ecmascript\" contentStyleType=\"text/css\" height=\"449px\" preserveAspectRatio=\"none\" style=\"width:489px;height:449px;\" version=\"1.1\" viewBox=\"0 0 489 449\" width=\"489px\" zoomAndPan=\"magnify\"><defs/><g><!--MD5=[fbc87193dbaf4d95561dea2c320d4a47]\n",
       "cluster E1--><a href=\"psysml:d56232e2-0bee-4a1a-bb9b-8eb4f38b0dfa\" target=\"_top\" title=\"psysml:d56232e2-0bee-4a1a-bb9b-8eb4f38b0dfa\" xlink:actuate=\"onRequest\" xlink:href=\"psysml:d56232e2-0bee-4a1a-bb9b-8eb4f38b0dfa\" xlink:show=\"new\" xlink:title=\"psysml:d56232e2-0bee-4a1a-bb9b-8eb4f38b0dfa\" xlink:type=\"simple\"><polygon fill=\"#FFFFFF\" points=\"16,6,156,6,163,28.2969,467,28.2969,467,437,16,437,16,6\" style=\"stroke: #000000; stroke-width: 1.5;\"/><line style=\"stroke: #000000; stroke-width: 1.5;\" x1=\"16\" x2=\"163\" y1=\"28.2969\" y2=\"28.2969\"/><text fill=\"#000000\" font-family=\"sans-serif\" font-size=\"14\" font-weight=\"bold\" lengthAdjust=\"spacingAndGlyphs\" textLength=\"134\" x=\"20\" y=\"20.9951\">DependencyTest</text></a><!--MD5=[e4f7fae6ed58524ba242bb0b0d3be6b7]\n",
       "cluster E2--><a href=\"psysml:50d5e3ed-2307-46ca-b041-8429ee229b8d\" target=\"_top\" title=\"psysml:50d5e3ed-2307-46ca-b041-8429ee229b8d\" xlink:actuate=\"onRequest\" xlink:href=\"psysml:50d5e3ed-2307-46ca-b041-8429ee229b8d\" xlink:show=\"new\" xlink:title=\"psysml:50d5e3ed-2307-46ca-b041-8429ee229b8d\" xlink:type=\"simple\"><polygon fill=\"#FFFFFF\" points=\"255,49,319,49,326,71.2969,443,71.2969,443,413,255,413,255,49\" style=\"stroke: #000000; stroke-width: 1.5;\"/><line style=\"stroke: #000000; stroke-width: 1.5;\" x1=\"255\" x2=\"326\" y1=\"71.2969\" y2=\"71.2969\"/><text fill=\"#000000\" font-family=\"sans-serif\" font-size=\"14\" font-weight=\"bold\" lengthAdjust=\"spacingAndGlyphs\" textLength=\"58\" x=\"259\" y=\"63.9951\">System</text></a><!--MD5=[60a26617385b1d2d0262a64233df1f8d]\n",
       "class E6--><a href=\"psysml:ee6e66ae-6a4f-4999-8c9e-f85171cea95e\" target=\"_top\" title=\"psysml:ee6e66ae-6a4f-4999-8c9e-f85171cea95e\" xlink:actuate=\"onRequest\" xlink:href=\"psysml:ee6e66ae-6a4f-4999-8c9e-f85171cea95e\" xlink:show=\"new\" xlink:title=\"psysml:ee6e66ae-6a4f-4999-8c9e-f85171cea95e\" xlink:type=\"simple\"><rect fill=\"#FFFFFF\" height=\"45.9375\" id=\"E6\" rx=\"10\" ry=\"10\" style=\"stroke: #383838; stroke-width: 1.5;\" width=\"71\" x=\"32.5\" y=\"217.5\"/><text fill=\"#000000\" font-family=\"sans-serif\" font-size=\"12\" font-style=\"italic\" lengthAdjust=\"spacingAndGlyphs\" textLength=\"69\" x=\"33.5\" y=\"233.6387\">«attribute»</text><text fill=\"#000000\" font-family=\"sans-serif\" font-size=\"12\" lengthAdjust=\"spacingAndGlyphs\" textLength=\"6\" x=\"65\" y=\"247.6074\">x</text><line style=\"stroke: #383838; stroke-width: 1.5;\" x1=\"33.5\" x2=\"102.5\" y1=\"255.4375\" y2=\"255.4375\"/></a><!--MD5=[2156ba9850f5573cc1fc38a6a4b2f02b]\n",
       "class E7--><a href=\"psysml:da3973fb-164e-4f16-bb62-2f8eaef60bc8\" target=\"_top\" title=\"psysml:da3973fb-164e-4f16-bb62-2f8eaef60bc8\" xlink:actuate=\"onRequest\" xlink:href=\"psysml:da3973fb-164e-4f16-bb62-2f8eaef60bc8\" xlink:show=\"new\" xlink:title=\"psysml:da3973fb-164e-4f16-bb62-2f8eaef60bc8\" xlink:type=\"simple\"><rect fill=\"#FFFFFF\" height=\"45.9375\" id=\"E7\" rx=\"10\" ry=\"10\" style=\"stroke: #383838; stroke-width: 1.5;\" width=\"71\" x=\"138.5\" y=\"217.5\"/><text fill=\"#000000\" font-family=\"sans-serif\" font-size=\"12\" font-style=\"italic\" lengthAdjust=\"spacingAndGlyphs\" textLength=\"69\" x=\"139.5\" y=\"233.6387\">«attribute»</text><text fill=\"#000000\" font-family=\"sans-serif\" font-size=\"12\" lengthAdjust=\"spacingAndGlyphs\" textLength=\"6\" x=\"171\" y=\"247.6074\">y</text><line style=\"stroke: #383838; stroke-width: 1.5;\" x1=\"139.5\" x2=\"208.5\" y1=\"255.4375\" y2=\"255.4375\"/></a><!--MD5=[b9389687b975829384b498ac4b7476b2]\n",
       "class E8--><a href=\"psysml:8698e020-730f-4ac9-88e5-943d82c20ca0\" target=\"_top\" title=\"psysml:8698e020-730f-4ac9-88e5-943d82c20ca0\" xlink:actuate=\"onRequest\" xlink:href=\"psysml:8698e020-730f-4ac9-88e5-943d82c20ca0\" xlink:show=\"new\" xlink:title=\"psysml:8698e020-730f-4ac9-88e5-943d82c20ca0\" xlink:type=\"simple\"><rect fill=\"#FFFFFF\" height=\"45.9375\" id=\"E8\" rx=\"10\" ry=\"10\" style=\"stroke: #383838; stroke-width: 1.5;\" width=\"71\" x=\"84.5\" y=\"87.5\"/><text fill=\"#000000\" font-family=\"sans-serif\" font-size=\"12\" font-style=\"italic\" lengthAdjust=\"spacingAndGlyphs\" textLength=\"69\" x=\"85.5\" y=\"103.6387\">«attribute»</text><text fill=\"#000000\" font-family=\"sans-serif\" font-size=\"12\" lengthAdjust=\"spacingAndGlyphs\" textLength=\"5\" x=\"117.5\" y=\"117.6074\">z</text><line style=\"stroke: #383838; stroke-width: 1.5;\" x1=\"85.5\" x2=\"154.5\" y1=\"125.4375\" y2=\"125.4375\"/></a><a href=\"psysml:bf62b3a1-f030-4eff-b8ce-ffbdff107a6f\" target=\"_top\" title=\"psysml:bf62b3a1-f030-4eff-b8ce-ffbdff107a6f\" xlink:actuate=\"onRequest\" xlink:href=\"psysml:bf62b3a1-f030-4eff-b8ce-ffbdff107a6f\" xlink:show=\"new\" xlink:title=\"psysml:bf62b3a1-f030-4eff-b8ce-ffbdff107a6f\" xlink:type=\"simple\"><polygon fill=\"#FFFFFF\" points=\"271,84,413,84,420,106.2969,427,106.2969,427,136.5938,271,136.5938,271,84\" style=\"stroke: #000000; stroke-width: 1.5;\"/><line style=\"stroke: #000000; stroke-width: 1.5;\" x1=\"271\" x2=\"420\" y1=\"106.2969\" y2=\"106.2969\"/><text fill=\"#000000\" font-family=\"sans-serif\" font-size=\"14\" font-weight=\"bold\" lengthAdjust=\"spacingAndGlyphs\" textLength=\"136\" x=\"275\" y=\"98.9951\">Application Layer</text></a><a href=\"psysml:471b2f11-dcf9-418e-881d-688bae838b3f\" target=\"_top\" title=\"psysml:471b2f11-dcf9-418e-881d-688bae838b3f\" xlink:actuate=\"onRequest\" xlink:href=\"psysml:471b2f11-dcf9-418e-881d-688bae838b3f\" xlink:show=\"new\" xlink:title=\"psysml:471b2f11-dcf9-418e-881d-688bae838b3f\" xlink:type=\"simple\"><polygon fill=\"#FFFFFF\" points=\"285,214,399,214,406,236.2969,413,236.2969,413,266.5938,285,266.5938,285,214\" style=\"stroke: #000000; stroke-width: 1.5;\"/><line style=\"stroke: #000000; stroke-width: 1.5;\" x1=\"285\" x2=\"406\" y1=\"236.2969\" y2=\"236.2969\"/><text fill=\"#000000\" font-family=\"sans-serif\" font-size=\"14\" font-weight=\"bold\" lengthAdjust=\"spacingAndGlyphs\" textLength=\"108\" x=\"289\" y=\"228.9951\">Service Layer</text></a><a href=\"psysml:da794142-8c7c-4611-9580-abeb242da5ef\" target=\"_top\" title=\"psysml:da794142-8c7c-4611-9580-abeb242da5ef\" xlink:actuate=\"onRequest\" xlink:href=\"psysml:da794142-8c7c-4611-9580-abeb242da5ef\" xlink:show=\"new\" xlink:title=\"psysml:da794142-8c7c-4611-9580-abeb242da5ef\" xlink:type=\"simple\"><polygon fill=\"#FFFFFF\" points=\"297,344,387,344,394,366.2969,401,366.2969,401,396.5938,297,396.5938,297,344\" style=\"stroke: #000000; stroke-width: 1.5;\"/><line style=\"stroke: #000000; stroke-width: 1.5;\" x1=\"297\" x2=\"394\" y1=\"366.2969\" y2=\"366.2969\"/><text fill=\"#000000\" font-family=\"sans-serif\" font-size=\"14\" font-weight=\"bold\" lengthAdjust=\"spacingAndGlyphs\" textLength=\"84\" x=\"301\" y=\"358.9951\">Data Layer</text></a><!--MD5=[af87c684e3b0d8be13c1a698a818ef1e]\n",
       "link E3 to E4--><a href=\"psysml:f56c438f-52f0-4453-9ce2-0999d9bfb233\" target=\"_top\" title=\"psysml:f56c438f-52f0-4453-9ce2-0999d9bfb233\" xlink:actuate=\"onRequest\" xlink:href=\"psysml:f56c438f-52f0-4453-9ce2-0999d9bfb233\" xlink:show=\"new\" xlink:title=\"psysml:f56c438f-52f0-4453-9ce2-0999d9bfb233\" xlink:type=\"simple\"><path d=\"M349,137.1 C349,156.8 349,184.22 349,205.73 \" fill=\"none\" id=\"E3-&gt;E4\" style=\"stroke: #383838; stroke-width: 1.0; stroke-dasharray: 7.0,7.0;\"/><polygon fill=\"#383838\" points=\"349,213.95,352,205.95,346,205.95,349,213.95\" style=\"stroke: #383838; stroke-width: 1.0;\"/><text fill=\"#000000\" font-family=\"sans-serif\" font-size=\"13\" lengthAdjust=\"spacingAndGlyphs\" textLength=\"64\" x=\"350\" y=\"180.0669\">«depend»</text></a><!--MD5=[1b7591eae5389033d8d09a9d6721a717]\n",
       "link E4 to E5--><a href=\"psysml:149727ef-4884-4150-ac87-83ab56bc940c\" target=\"_top\" title=\"psysml:149727ef-4884-4150-ac87-83ab56bc940c\" xlink:actuate=\"onRequest\" xlink:href=\"psysml:149727ef-4884-4150-ac87-83ab56bc940c\" xlink:show=\"new\" xlink:title=\"psysml:149727ef-4884-4150-ac87-83ab56bc940c\" xlink:type=\"simple\"><path d=\"M349,267.1 C349,286.8 349,314.22 349,335.73 \" fill=\"none\" id=\"E4-&gt;E5\" style=\"stroke: #383838; stroke-width: 1.0; stroke-dasharray: 7.0,7.0;\"/><polygon fill=\"#383838\" points=\"349,343.95,352,335.95,346,335.95,349,343.95\" style=\"stroke: #383838; stroke-width: 1.0;\"/><text fill=\"#000000\" font-family=\"sans-serif\" font-size=\"13\" lengthAdjust=\"spacingAndGlyphs\" textLength=\"64\" x=\"350\" y=\"310.0669\">«depend»</text></a><!--MD5=[c5e8897d989ce984f93528998a7150fe]\n",
       "link E8 to E6--><a href=\"psysml:6d264d90-cc53-4d32-95c3-fe1ad979e012\" target=\"_top\" title=\"psysml:6d264d90-cc53-4d32-95c3-fe1ad979e012\" xlink:actuate=\"onRequest\" xlink:href=\"psysml:6d264d90-cc53-4d32-95c3-fe1ad979e012\" xlink:show=\"new\" xlink:title=\"psysml:6d264d90-cc53-4d32-95c3-fe1ad979e012\" xlink:type=\"simple\"><path d=\"M89.42,133.6 C79.35,142.68 69.37,154.11 64,167 C58.5,180.2 58.66,195.94 60.54,209.38 \" fill=\"none\" id=\"E8-&gt;E6\" style=\"stroke: #383838; stroke-width: 1.0; stroke-dasharray: 7.0,7.0;\"/><polygon fill=\"#383838\" points=\"61.9,217.4,63.517,209.0104,57.6018,210.0159,61.9,217.4\" style=\"stroke: #383838; stroke-width: 1.0;\"/><text fill=\"#000000\" font-family=\"sans-serif\" font-size=\"13\" lengthAdjust=\"spacingAndGlyphs\" textLength=\"64\" x=\"65\" y=\"180.0669\">«depend»</text></a><!--MD5=[bfa3c8b0d15052fdf50ae9310b491027]\n",
       "link E8 to E7--><a href=\"psysml:6d264d90-cc53-4d32-95c3-fe1ad979e012\" target=\"_top\" title=\"psysml:6d264d90-cc53-4d32-95c3-fe1ad979e012\" xlink:actuate=\"onRequest\" xlink:href=\"psysml:6d264d90-cc53-4d32-95c3-fe1ad979e012\" xlink:show=\"new\" xlink:title=\"psysml:6d264d90-cc53-4d32-95c3-fe1ad979e012\" xlink:type=\"simple\"><path d=\"M129.28,133.5 C138.17,154.57 151.64,186.5 161.47,209.81 \" fill=\"none\" id=\"E8-&gt;E7\" style=\"stroke: #383838; stroke-width: 1.0; stroke-dasharray: 7.0,7.0;\"/><polygon fill=\"#383838\" points=\"164.66,217.35,164.3241,208.8126,158.7933,211.1385,164.66,217.35\" style=\"stroke: #383838; stroke-width: 1.0;\"/><text fill=\"#000000\" font-family=\"sans-serif\" font-size=\"13\" lengthAdjust=\"spacingAndGlyphs\" textLength=\"64\" x=\"151\" y=\"180.0669\">«depend»</text></a><!--MD5=[a9ea1ad6d69712f828e161c5bc379590]\n",
       "@startuml\r\n",
       " skinparam monochrome true\r\n",
       "skinparam classbackgroundcolor white\r\n",
       "skinparam shadowing false\r\n",
       "skinparam wrapWidth 300\r\n",
       "hide circle\r\n",
       "\r\n",
       "package \"DependencyTest\" as E1  [[psysml:d56232e2-0bee-4a1a-bb9b-8eb4f38b0dfa ]]  {\r\n",
       "package \"System\" as E2  [[psysml:50d5e3ed-2307-46ca-b041-8429ee229b8d ]]  {\r\n",
       "package \"Application Layer\" as E3  [[psysml:bf62b3a1-f030-4eff-b8ce-ffbdff107a6f ]]  {\r\n",
       "}\r\n",
       "package \"Service Layer\" as E4  [[psysml:471b2f11-dcf9-418e-881d-688bae838b3f ]]  {\r\n",
       "}\r\n",
       "package \"Data Layer\" as E5  [[psysml:da794142-8c7c-4611-9580-abeb242da5ef ]]  {\r\n",
       "}\r\n",
       "}\r\n",
       "comp usage \"x\" as E6  <<(T,blue)attribute>> [[psysml:ee6e66ae-6a4f-4999-8c9e-f85171cea95e ]] {\r\n",
       "}\r\n",
       "comp usage \"y\" as E7  <<(T,blue)attribute>> [[psysml:da3973fb-164e-4f16-bb62-2f8eaef60bc8 ]] {\r\n",
       "}\r\n",
       "comp usage \"z\" as E8  <<(T,blue)attribute>> [[psysml:8698e020-730f-4ac9-88e5-943d82c20ca0 ]] {\r\n",
       "}\r\n",
       "E3 ..>> E4 [[psysml:f56c438f-52f0-4453-9ce2-0999d9bfb233 ]] : <<depend>>\r\n",
       "E4 ..>> E5 [[psysml:149727ef-4884-4150-ac87-83ab56bc940c ]] : <<depend>>\r\n",
       "E8 ..>> E6 [[psysml:6d264d90-cc53-4d32-95c3-fe1ad979e012 ]] : <<depend>>\r\n",
       "E8 ..>> E7 [[psysml:6d264d90-cc53-4d32-95c3-fe1ad979e012 ]] : <<depend>>\r\n",
       "}\r\n",
       "@enduml\r\n",
       "\n",
       "PlantUML version 1.2020.13(Sat Jun 13 12:26:38 UTC 2020)\n",
       "(EPL source distribution)\n",
       "Java Runtime: OpenJDK Runtime Environment\n",
       "JVM: OpenJDK 64-Bit Server VM\n",
       "Default Encoding: UTF-8\n",
       "Language: en\n",
       "Country: null\n",
       "--></g></svg>"
      ]
     },
     "execution_count": 8,
     "metadata": {},
     "output_type": "execute_result"
    }
   ],
   "source": [
    "%viz --style=\"COMPTREE\" --view=\"MIXED\" \"DependencyTest\""
   ]
  },
  {
   "cell_type": "code",
   "execution_count": 9,
   "id": "f650b5c0",
   "metadata": {
    "execution": {
     "iopub.execute_input": "2021-04-20T07:32:17.037515Z",
     "iopub.status.busy": "2021-04-20T07:32:17.031223Z",
     "iopub.status.idle": "2021-04-20T07:32:17.118946Z",
     "shell.execute_reply": "2021-04-20T07:32:17.117810Z"
    }
   },
   "outputs": [
    {
     "data": {
      "image/svg+xml": [
       "<?xml version=\"1.0\" encoding=\"UTF-8\" standalone=\"no\"?><svg xmlns=\"http://www.w3.org/2000/svg\" xmlns:xlink=\"http://www.w3.org/1999/xlink\" contentScriptType=\"application/ecmascript\" contentStyleType=\"text/css\" height=\"449px\" preserveAspectRatio=\"none\" style=\"width:489px;height:449px;\" version=\"1.1\" viewBox=\"0 0 489 449\" width=\"489px\" zoomAndPan=\"magnify\"><defs/><g><!--MD5=[fbc87193dbaf4d95561dea2c320d4a47]\n",
       "cluster E1--><a href=\"psysml:d56232e2-0bee-4a1a-bb9b-8eb4f38b0dfa\" target=\"_top\" title=\"psysml:d56232e2-0bee-4a1a-bb9b-8eb4f38b0dfa\" xlink:actuate=\"onRequest\" xlink:href=\"psysml:d56232e2-0bee-4a1a-bb9b-8eb4f38b0dfa\" xlink:show=\"new\" xlink:title=\"psysml:d56232e2-0bee-4a1a-bb9b-8eb4f38b0dfa\" xlink:type=\"simple\"><polygon fill=\"#FFFFFF\" points=\"16,6,156,6,163,28.2969,467,28.2969,467,437,16,437,16,6\" style=\"stroke: #000000; stroke-width: 1.5;\"/><line style=\"stroke: #000000; stroke-width: 1.5;\" x1=\"16\" x2=\"163\" y1=\"28.2969\" y2=\"28.2969\"/><text fill=\"#000000\" font-family=\"sans-serif\" font-size=\"14\" font-weight=\"bold\" lengthAdjust=\"spacingAndGlyphs\" textLength=\"134\" x=\"20\" y=\"20.9951\">DependencyTest</text></a><!--MD5=[e4f7fae6ed58524ba242bb0b0d3be6b7]\n",
       "cluster E2--><a href=\"psysml:50d5e3ed-2307-46ca-b041-8429ee229b8d\" target=\"_top\" title=\"psysml:50d5e3ed-2307-46ca-b041-8429ee229b8d\" xlink:actuate=\"onRequest\" xlink:href=\"psysml:50d5e3ed-2307-46ca-b041-8429ee229b8d\" xlink:show=\"new\" xlink:title=\"psysml:50d5e3ed-2307-46ca-b041-8429ee229b8d\" xlink:type=\"simple\"><polygon fill=\"#FFFFFF\" points=\"255,49,319,49,326,71.2969,443,71.2969,443,413,255,413,255,49\" style=\"stroke: #000000; stroke-width: 1.5;\"/><line style=\"stroke: #000000; stroke-width: 1.5;\" x1=\"255\" x2=\"326\" y1=\"71.2969\" y2=\"71.2969\"/><text fill=\"#000000\" font-family=\"sans-serif\" font-size=\"14\" font-weight=\"bold\" lengthAdjust=\"spacingAndGlyphs\" textLength=\"58\" x=\"259\" y=\"63.9951\">System</text></a><!--MD5=[60a26617385b1d2d0262a64233df1f8d]\n",
       "class E6--><a href=\"psysml:ee6e66ae-6a4f-4999-8c9e-f85171cea95e\" target=\"_top\" title=\"psysml:ee6e66ae-6a4f-4999-8c9e-f85171cea95e\" xlink:actuate=\"onRequest\" xlink:href=\"psysml:ee6e66ae-6a4f-4999-8c9e-f85171cea95e\" xlink:show=\"new\" xlink:title=\"psysml:ee6e66ae-6a4f-4999-8c9e-f85171cea95e\" xlink:type=\"simple\"><rect fill=\"#FFFFFF\" height=\"45.9375\" id=\"E6\" rx=\"10\" ry=\"10\" style=\"stroke: #383838; stroke-width: 1.5;\" width=\"71\" x=\"32.5\" y=\"217.5\"/><text fill=\"#000000\" font-family=\"sans-serif\" font-size=\"12\" font-style=\"italic\" lengthAdjust=\"spacingAndGlyphs\" textLength=\"69\" x=\"33.5\" y=\"233.6387\">«attribute»</text><text fill=\"#000000\" font-family=\"sans-serif\" font-size=\"12\" lengthAdjust=\"spacingAndGlyphs\" textLength=\"6\" x=\"65\" y=\"247.6074\">x</text><line style=\"stroke: #383838; stroke-width: 1.5;\" x1=\"33.5\" x2=\"102.5\" y1=\"255.4375\" y2=\"255.4375\"/></a><!--MD5=[2156ba9850f5573cc1fc38a6a4b2f02b]\n",
       "class E7--><a href=\"psysml:da3973fb-164e-4f16-bb62-2f8eaef60bc8\" target=\"_top\" title=\"psysml:da3973fb-164e-4f16-bb62-2f8eaef60bc8\" xlink:actuate=\"onRequest\" xlink:href=\"psysml:da3973fb-164e-4f16-bb62-2f8eaef60bc8\" xlink:show=\"new\" xlink:title=\"psysml:da3973fb-164e-4f16-bb62-2f8eaef60bc8\" xlink:type=\"simple\"><rect fill=\"#FFFFFF\" height=\"45.9375\" id=\"E7\" rx=\"10\" ry=\"10\" style=\"stroke: #383838; stroke-width: 1.5;\" width=\"71\" x=\"138.5\" y=\"217.5\"/><text fill=\"#000000\" font-family=\"sans-serif\" font-size=\"12\" font-style=\"italic\" lengthAdjust=\"spacingAndGlyphs\" textLength=\"69\" x=\"139.5\" y=\"233.6387\">«attribute»</text><text fill=\"#000000\" font-family=\"sans-serif\" font-size=\"12\" lengthAdjust=\"spacingAndGlyphs\" textLength=\"6\" x=\"171\" y=\"247.6074\">y</text><line style=\"stroke: #383838; stroke-width: 1.5;\" x1=\"139.5\" x2=\"208.5\" y1=\"255.4375\" y2=\"255.4375\"/></a><!--MD5=[b9389687b975829384b498ac4b7476b2]\n",
       "class E8--><a href=\"psysml:8698e020-730f-4ac9-88e5-943d82c20ca0\" target=\"_top\" title=\"psysml:8698e020-730f-4ac9-88e5-943d82c20ca0\" xlink:actuate=\"onRequest\" xlink:href=\"psysml:8698e020-730f-4ac9-88e5-943d82c20ca0\" xlink:show=\"new\" xlink:title=\"psysml:8698e020-730f-4ac9-88e5-943d82c20ca0\" xlink:type=\"simple\"><rect fill=\"#FFFFFF\" height=\"45.9375\" id=\"E8\" rx=\"10\" ry=\"10\" style=\"stroke: #383838; stroke-width: 1.5;\" width=\"71\" x=\"84.5\" y=\"87.5\"/><text fill=\"#000000\" font-family=\"sans-serif\" font-size=\"12\" font-style=\"italic\" lengthAdjust=\"spacingAndGlyphs\" textLength=\"69\" x=\"85.5\" y=\"103.6387\">«attribute»</text><text fill=\"#000000\" font-family=\"sans-serif\" font-size=\"12\" lengthAdjust=\"spacingAndGlyphs\" textLength=\"5\" x=\"117.5\" y=\"117.6074\">z</text><line style=\"stroke: #383838; stroke-width: 1.5;\" x1=\"85.5\" x2=\"154.5\" y1=\"125.4375\" y2=\"125.4375\"/></a><a href=\"psysml:bf62b3a1-f030-4eff-b8ce-ffbdff107a6f\" target=\"_top\" title=\"psysml:bf62b3a1-f030-4eff-b8ce-ffbdff107a6f\" xlink:actuate=\"onRequest\" xlink:href=\"psysml:bf62b3a1-f030-4eff-b8ce-ffbdff107a6f\" xlink:show=\"new\" xlink:title=\"psysml:bf62b3a1-f030-4eff-b8ce-ffbdff107a6f\" xlink:type=\"simple\"><polygon fill=\"#FFFFFF\" points=\"271,84,413,84,420,106.2969,427,106.2969,427,136.5938,271,136.5938,271,84\" style=\"stroke: #000000; stroke-width: 1.5;\"/><line style=\"stroke: #000000; stroke-width: 1.5;\" x1=\"271\" x2=\"420\" y1=\"106.2969\" y2=\"106.2969\"/><text fill=\"#000000\" font-family=\"sans-serif\" font-size=\"14\" font-weight=\"bold\" lengthAdjust=\"spacingAndGlyphs\" textLength=\"136\" x=\"275\" y=\"98.9951\">Application Layer</text></a><a href=\"psysml:471b2f11-dcf9-418e-881d-688bae838b3f\" target=\"_top\" title=\"psysml:471b2f11-dcf9-418e-881d-688bae838b3f\" xlink:actuate=\"onRequest\" xlink:href=\"psysml:471b2f11-dcf9-418e-881d-688bae838b3f\" xlink:show=\"new\" xlink:title=\"psysml:471b2f11-dcf9-418e-881d-688bae838b3f\" xlink:type=\"simple\"><polygon fill=\"#FFFFFF\" points=\"285,214,399,214,406,236.2969,413,236.2969,413,266.5938,285,266.5938,285,214\" style=\"stroke: #000000; stroke-width: 1.5;\"/><line style=\"stroke: #000000; stroke-width: 1.5;\" x1=\"285\" x2=\"406\" y1=\"236.2969\" y2=\"236.2969\"/><text fill=\"#000000\" font-family=\"sans-serif\" font-size=\"14\" font-weight=\"bold\" lengthAdjust=\"spacingAndGlyphs\" textLength=\"108\" x=\"289\" y=\"228.9951\">Service Layer</text></a><a href=\"psysml:da794142-8c7c-4611-9580-abeb242da5ef\" target=\"_top\" title=\"psysml:da794142-8c7c-4611-9580-abeb242da5ef\" xlink:actuate=\"onRequest\" xlink:href=\"psysml:da794142-8c7c-4611-9580-abeb242da5ef\" xlink:show=\"new\" xlink:title=\"psysml:da794142-8c7c-4611-9580-abeb242da5ef\" xlink:type=\"simple\"><polygon fill=\"#FFFFFF\" points=\"297,344,387,344,394,366.2969,401,366.2969,401,396.5938,297,396.5938,297,344\" style=\"stroke: #000000; stroke-width: 1.5;\"/><line style=\"stroke: #000000; stroke-width: 1.5;\" x1=\"297\" x2=\"394\" y1=\"366.2969\" y2=\"366.2969\"/><text fill=\"#000000\" font-family=\"sans-serif\" font-size=\"14\" font-weight=\"bold\" lengthAdjust=\"spacingAndGlyphs\" textLength=\"84\" x=\"301\" y=\"358.9951\">Data Layer</text></a><!--MD5=[af87c684e3b0d8be13c1a698a818ef1e]\n",
       "link E3 to E4--><a href=\"psysml:f56c438f-52f0-4453-9ce2-0999d9bfb233\" target=\"_top\" title=\"psysml:f56c438f-52f0-4453-9ce2-0999d9bfb233\" xlink:actuate=\"onRequest\" xlink:href=\"psysml:f56c438f-52f0-4453-9ce2-0999d9bfb233\" xlink:show=\"new\" xlink:title=\"psysml:f56c438f-52f0-4453-9ce2-0999d9bfb233\" xlink:type=\"simple\"><path d=\"M349,137.1 C349,156.8 349,184.22 349,205.73 \" fill=\"none\" id=\"E3-&gt;E4\" style=\"stroke: #383838; stroke-width: 1.0; stroke-dasharray: 7.0,7.0;\"/><polygon fill=\"#383838\" points=\"349,213.95,352,205.95,346,205.95,349,213.95\" style=\"stroke: #383838; stroke-width: 1.0;\"/><text fill=\"#000000\" font-family=\"sans-serif\" font-size=\"13\" lengthAdjust=\"spacingAndGlyphs\" textLength=\"64\" x=\"350\" y=\"180.0669\">«depend»</text></a><!--MD5=[1b7591eae5389033d8d09a9d6721a717]\n",
       "link E4 to E5--><a href=\"psysml:149727ef-4884-4150-ac87-83ab56bc940c\" target=\"_top\" title=\"psysml:149727ef-4884-4150-ac87-83ab56bc940c\" xlink:actuate=\"onRequest\" xlink:href=\"psysml:149727ef-4884-4150-ac87-83ab56bc940c\" xlink:show=\"new\" xlink:title=\"psysml:149727ef-4884-4150-ac87-83ab56bc940c\" xlink:type=\"simple\"><path d=\"M349,267.1 C349,286.8 349,314.22 349,335.73 \" fill=\"none\" id=\"E4-&gt;E5\" style=\"stroke: #383838; stroke-width: 1.0; stroke-dasharray: 7.0,7.0;\"/><polygon fill=\"#383838\" points=\"349,343.95,352,335.95,346,335.95,349,343.95\" style=\"stroke: #383838; stroke-width: 1.0;\"/><text fill=\"#000000\" font-family=\"sans-serif\" font-size=\"13\" lengthAdjust=\"spacingAndGlyphs\" textLength=\"64\" x=\"350\" y=\"310.0669\">«depend»</text></a><!--MD5=[c5e8897d989ce984f93528998a7150fe]\n",
       "link E8 to E6--><a href=\"psysml:6d264d90-cc53-4d32-95c3-fe1ad979e012\" target=\"_top\" title=\"psysml:6d264d90-cc53-4d32-95c3-fe1ad979e012\" xlink:actuate=\"onRequest\" xlink:href=\"psysml:6d264d90-cc53-4d32-95c3-fe1ad979e012\" xlink:show=\"new\" xlink:title=\"psysml:6d264d90-cc53-4d32-95c3-fe1ad979e012\" xlink:type=\"simple\"><path d=\"M97.55,133.75 C81.97,149.19 64,167 64,167 C64,167 64,184 64,184 C64,184 64.88,196.21 65.81,209.18 \" fill=\"none\" id=\"E8-&gt;E6\" style=\"stroke: #383838; stroke-width: 1.0; stroke-dasharray: 7.0,7.0;\"/><polygon fill=\"#383838\" points=\"66.4,217.25,68.8203,209.056,62.8357,209.485,66.4,217.25\" style=\"stroke: #383838; stroke-width: 1.0;\"/><text fill=\"#000000\" font-family=\"sans-serif\" font-size=\"13\" lengthAdjust=\"spacingAndGlyphs\" textLength=\"64\" x=\"65\" y=\"180.0669\">«depend»</text></a><!--MD5=[bfa3c8b0d15052fdf50ae9310b491027]\n",
       "link E8 to E7--><a href=\"psysml:6d264d90-cc53-4d32-95c3-fe1ad979e012\" target=\"_top\" title=\"psysml:6d264d90-cc53-4d32-95c3-fe1ad979e012\" xlink:actuate=\"onRequest\" xlink:href=\"psysml:6d264d90-cc53-4d32-95c3-fe1ad979e012\" xlink:show=\"new\" xlink:title=\"psysml:6d264d90-cc53-4d32-95c3-fe1ad979e012\" xlink:type=\"simple\"><path d=\"M129.28,133.5 C138.17,154.57 151.64,186.5 161.47,209.81 \" fill=\"none\" id=\"E8-&gt;E7\" style=\"stroke: #383838; stroke-width: 1.0; stroke-dasharray: 7.0,7.0;\"/><polygon fill=\"#383838\" points=\"164.66,217.35,164.3241,208.8126,158.7933,211.1385,164.66,217.35\" style=\"stroke: #383838; stroke-width: 1.0;\"/><text fill=\"#000000\" font-family=\"sans-serif\" font-size=\"13\" lengthAdjust=\"spacingAndGlyphs\" textLength=\"64\" x=\"151\" y=\"180.0669\">«depend»</text></a><!--MD5=[afbd2558eb5da3e5b192e26cec9fb054]\n",
       "@startuml\r\n",
       "skinparam linetype polyline\r\n",
       "skinparam monochrome true\r\n",
       "skinparam classbackgroundcolor white\r\n",
       "skinparam shadowing false\r\n",
       "skinparam wrapWidth 300\r\n",
       "hide circle\r\n",
       "\r\n",
       "package \"DependencyTest\" as E1  [[psysml:d56232e2-0bee-4a1a-bb9b-8eb4f38b0dfa ]]  {\r\n",
       "package \"System\" as E2  [[psysml:50d5e3ed-2307-46ca-b041-8429ee229b8d ]]  {\r\n",
       "package \"Application Layer\" as E3  [[psysml:bf62b3a1-f030-4eff-b8ce-ffbdff107a6f ]]  {\r\n",
       "}\r\n",
       "package \"Service Layer\" as E4  [[psysml:471b2f11-dcf9-418e-881d-688bae838b3f ]]  {\r\n",
       "}\r\n",
       "package \"Data Layer\" as E5  [[psysml:da794142-8c7c-4611-9580-abeb242da5ef ]]  {\r\n",
       "}\r\n",
       "}\r\n",
       "comp usage \"x\" as E6  <<(T,blue)attribute>> [[psysml:ee6e66ae-6a4f-4999-8c9e-f85171cea95e ]] {\r\n",
       "}\r\n",
       "comp usage \"y\" as E7  <<(T,blue)attribute>> [[psysml:da3973fb-164e-4f16-bb62-2f8eaef60bc8 ]] {\r\n",
       "}\r\n",
       "comp usage \"z\" as E8  <<(T,blue)attribute>> [[psysml:8698e020-730f-4ac9-88e5-943d82c20ca0 ]] {\r\n",
       "}\r\n",
       "E3 ..>> E4 [[psysml:f56c438f-52f0-4453-9ce2-0999d9bfb233 ]] : <<depend>>\r\n",
       "E4 ..>> E5 [[psysml:149727ef-4884-4150-ac87-83ab56bc940c ]] : <<depend>>\r\n",
       "E8 ..>> E6 [[psysml:6d264d90-cc53-4d32-95c3-fe1ad979e012 ]] : <<depend>>\r\n",
       "E8 ..>> E7 [[psysml:6d264d90-cc53-4d32-95c3-fe1ad979e012 ]] : <<depend>>\r\n",
       "}\r\n",
       "@enduml\r\n",
       "\n",
       "PlantUML version 1.2020.13(Sat Jun 13 12:26:38 UTC 2020)\n",
       "(EPL source distribution)\n",
       "Java Runtime: OpenJDK Runtime Environment\n",
       "JVM: OpenJDK 64-Bit Server VM\n",
       "Default Encoding: UTF-8\n",
       "Language: en\n",
       "Country: null\n",
       "--></g></svg>"
      ]
     },
     "execution_count": 9,
     "metadata": {},
     "output_type": "execute_result"
    }
   ],
   "source": [
    "%viz --style=\"POLYLINE\" --view=\"Default\" \"DependencyTest\""
   ]
  },
  {
   "cell_type": "code",
   "execution_count": 10,
   "id": "6d0f1457",
   "metadata": {
    "execution": {
     "iopub.execute_input": "2021-04-20T07:32:17.171020Z",
     "iopub.status.busy": "2021-04-20T07:32:17.170540Z",
     "iopub.status.idle": "2021-04-20T07:32:17.259562Z",
     "shell.execute_reply": "2021-04-20T07:32:17.260761Z"
    }
   },
   "outputs": [
    {
     "data": {
      "image/svg+xml": [
       "<?xml version=\"1.0\" encoding=\"UTF-8\" standalone=\"no\"?><svg xmlns=\"http://www.w3.org/2000/svg\" xmlns:xlink=\"http://www.w3.org/1999/xlink\" contentScriptType=\"application/ecmascript\" contentStyleType=\"text/css\" height=\"449px\" preserveAspectRatio=\"none\" style=\"width:489px;height:449px;\" version=\"1.1\" viewBox=\"0 0 489 449\" width=\"489px\" zoomAndPan=\"magnify\"><defs/><g><!--MD5=[fbc87193dbaf4d95561dea2c320d4a47]\n",
       "cluster E1--><a href=\"psysml:d56232e2-0bee-4a1a-bb9b-8eb4f38b0dfa\" target=\"_top\" title=\"psysml:d56232e2-0bee-4a1a-bb9b-8eb4f38b0dfa\" xlink:actuate=\"onRequest\" xlink:href=\"psysml:d56232e2-0bee-4a1a-bb9b-8eb4f38b0dfa\" xlink:show=\"new\" xlink:title=\"psysml:d56232e2-0bee-4a1a-bb9b-8eb4f38b0dfa\" xlink:type=\"simple\"><polygon fill=\"#FFFFFF\" points=\"16,6,156,6,163,28.2969,467,28.2969,467,437,16,437,16,6\" style=\"stroke: #000000; stroke-width: 1.5;\"/><line style=\"stroke: #000000; stroke-width: 1.5;\" x1=\"16\" x2=\"163\" y1=\"28.2969\" y2=\"28.2969\"/><text fill=\"#000000\" font-family=\"sans-serif\" font-size=\"14\" font-weight=\"bold\" lengthAdjust=\"spacingAndGlyphs\" textLength=\"134\" x=\"20\" y=\"20.9951\">DependencyTest</text></a><!--MD5=[e4f7fae6ed58524ba242bb0b0d3be6b7]\n",
       "cluster E2--><a href=\"psysml:50d5e3ed-2307-46ca-b041-8429ee229b8d\" target=\"_top\" title=\"psysml:50d5e3ed-2307-46ca-b041-8429ee229b8d\" xlink:actuate=\"onRequest\" xlink:href=\"psysml:50d5e3ed-2307-46ca-b041-8429ee229b8d\" xlink:show=\"new\" xlink:title=\"psysml:50d5e3ed-2307-46ca-b041-8429ee229b8d\" xlink:type=\"simple\"><polygon fill=\"#FFFFFF\" points=\"255,49,319,49,326,71.2969,443,71.2969,443,413,255,413,255,49\" style=\"stroke: #000000; stroke-width: 1.5;\"/><line style=\"stroke: #000000; stroke-width: 1.5;\" x1=\"255\" x2=\"326\" y1=\"71.2969\" y2=\"71.2969\"/><text fill=\"#000000\" font-family=\"sans-serif\" font-size=\"14\" font-weight=\"bold\" lengthAdjust=\"spacingAndGlyphs\" textLength=\"58\" x=\"259\" y=\"63.9951\">System</text></a><!--MD5=[60a26617385b1d2d0262a64233df1f8d]\n",
       "class E6--><a href=\"psysml:ee6e66ae-6a4f-4999-8c9e-f85171cea95e\" target=\"_top\" title=\"psysml:ee6e66ae-6a4f-4999-8c9e-f85171cea95e\" xlink:actuate=\"onRequest\" xlink:href=\"psysml:ee6e66ae-6a4f-4999-8c9e-f85171cea95e\" xlink:show=\"new\" xlink:title=\"psysml:ee6e66ae-6a4f-4999-8c9e-f85171cea95e\" xlink:type=\"simple\"><rect fill=\"#FFFFFF\" height=\"45.9375\" id=\"E6\" rx=\"10\" ry=\"10\" style=\"stroke: #383838; stroke-width: 1.5;\" width=\"71\" x=\"32.5\" y=\"217.5\"/><text fill=\"#000000\" font-family=\"sans-serif\" font-size=\"12\" font-style=\"italic\" lengthAdjust=\"spacingAndGlyphs\" textLength=\"69\" x=\"33.5\" y=\"233.6387\">«attribute»</text><text fill=\"#000000\" font-family=\"sans-serif\" font-size=\"12\" lengthAdjust=\"spacingAndGlyphs\" textLength=\"6\" x=\"65\" y=\"247.6074\">x</text><line style=\"stroke: #383838; stroke-width: 1.5;\" x1=\"33.5\" x2=\"102.5\" y1=\"255.4375\" y2=\"255.4375\"/></a><!--MD5=[2156ba9850f5573cc1fc38a6a4b2f02b]\n",
       "class E7--><a href=\"psysml:da3973fb-164e-4f16-bb62-2f8eaef60bc8\" target=\"_top\" title=\"psysml:da3973fb-164e-4f16-bb62-2f8eaef60bc8\" xlink:actuate=\"onRequest\" xlink:href=\"psysml:da3973fb-164e-4f16-bb62-2f8eaef60bc8\" xlink:show=\"new\" xlink:title=\"psysml:da3973fb-164e-4f16-bb62-2f8eaef60bc8\" xlink:type=\"simple\"><rect fill=\"#FFFFFF\" height=\"45.9375\" id=\"E7\" rx=\"10\" ry=\"10\" style=\"stroke: #383838; stroke-width: 1.5;\" width=\"71\" x=\"138.5\" y=\"217.5\"/><text fill=\"#000000\" font-family=\"sans-serif\" font-size=\"12\" font-style=\"italic\" lengthAdjust=\"spacingAndGlyphs\" textLength=\"69\" x=\"139.5\" y=\"233.6387\">«attribute»</text><text fill=\"#000000\" font-family=\"sans-serif\" font-size=\"12\" lengthAdjust=\"spacingAndGlyphs\" textLength=\"6\" x=\"171\" y=\"247.6074\">y</text><line style=\"stroke: #383838; stroke-width: 1.5;\" x1=\"139.5\" x2=\"208.5\" y1=\"255.4375\" y2=\"255.4375\"/></a><!--MD5=[b9389687b975829384b498ac4b7476b2]\n",
       "class E8--><a href=\"psysml:8698e020-730f-4ac9-88e5-943d82c20ca0\" target=\"_top\" title=\"psysml:8698e020-730f-4ac9-88e5-943d82c20ca0\" xlink:actuate=\"onRequest\" xlink:href=\"psysml:8698e020-730f-4ac9-88e5-943d82c20ca0\" xlink:show=\"new\" xlink:title=\"psysml:8698e020-730f-4ac9-88e5-943d82c20ca0\" xlink:type=\"simple\"><rect fill=\"#FFFFFF\" height=\"45.9375\" id=\"E8\" rx=\"10\" ry=\"10\" style=\"stroke: #383838; stroke-width: 1.5;\" width=\"71\" x=\"84.5\" y=\"87.5\"/><text fill=\"#000000\" font-family=\"sans-serif\" font-size=\"12\" font-style=\"italic\" lengthAdjust=\"spacingAndGlyphs\" textLength=\"69\" x=\"85.5\" y=\"103.6387\">«attribute»</text><text fill=\"#000000\" font-family=\"sans-serif\" font-size=\"12\" lengthAdjust=\"spacingAndGlyphs\" textLength=\"5\" x=\"117.5\" y=\"117.6074\">z</text><line style=\"stroke: #383838; stroke-width: 1.5;\" x1=\"85.5\" x2=\"154.5\" y1=\"125.4375\" y2=\"125.4375\"/></a><a href=\"psysml:bf62b3a1-f030-4eff-b8ce-ffbdff107a6f\" target=\"_top\" title=\"psysml:bf62b3a1-f030-4eff-b8ce-ffbdff107a6f\" xlink:actuate=\"onRequest\" xlink:href=\"psysml:bf62b3a1-f030-4eff-b8ce-ffbdff107a6f\" xlink:show=\"new\" xlink:title=\"psysml:bf62b3a1-f030-4eff-b8ce-ffbdff107a6f\" xlink:type=\"simple\"><polygon fill=\"#FFFFFF\" points=\"271,84,413,84,420,106.2969,427,106.2969,427,136.5938,271,136.5938,271,84\" style=\"stroke: #000000; stroke-width: 1.5;\"/><line style=\"stroke: #000000; stroke-width: 1.5;\" x1=\"271\" x2=\"420\" y1=\"106.2969\" y2=\"106.2969\"/><text fill=\"#000000\" font-family=\"sans-serif\" font-size=\"14\" font-weight=\"bold\" lengthAdjust=\"spacingAndGlyphs\" textLength=\"136\" x=\"275\" y=\"98.9951\">Application Layer</text></a><a href=\"psysml:471b2f11-dcf9-418e-881d-688bae838b3f\" target=\"_top\" title=\"psysml:471b2f11-dcf9-418e-881d-688bae838b3f\" xlink:actuate=\"onRequest\" xlink:href=\"psysml:471b2f11-dcf9-418e-881d-688bae838b3f\" xlink:show=\"new\" xlink:title=\"psysml:471b2f11-dcf9-418e-881d-688bae838b3f\" xlink:type=\"simple\"><polygon fill=\"#FFFFFF\" points=\"285,214,399,214,406,236.2969,413,236.2969,413,266.5938,285,266.5938,285,214\" style=\"stroke: #000000; stroke-width: 1.5;\"/><line style=\"stroke: #000000; stroke-width: 1.5;\" x1=\"285\" x2=\"406\" y1=\"236.2969\" y2=\"236.2969\"/><text fill=\"#000000\" font-family=\"sans-serif\" font-size=\"14\" font-weight=\"bold\" lengthAdjust=\"spacingAndGlyphs\" textLength=\"108\" x=\"289\" y=\"228.9951\">Service Layer</text></a><a href=\"psysml:da794142-8c7c-4611-9580-abeb242da5ef\" target=\"_top\" title=\"psysml:da794142-8c7c-4611-9580-abeb242da5ef\" xlink:actuate=\"onRequest\" xlink:href=\"psysml:da794142-8c7c-4611-9580-abeb242da5ef\" xlink:show=\"new\" xlink:title=\"psysml:da794142-8c7c-4611-9580-abeb242da5ef\" xlink:type=\"simple\"><polygon fill=\"#FFFFFF\" points=\"297,344,387,344,394,366.2969,401,366.2969,401,396.5938,297,396.5938,297,344\" style=\"stroke: #000000; stroke-width: 1.5;\"/><line style=\"stroke: #000000; stroke-width: 1.5;\" x1=\"297\" x2=\"394\" y1=\"366.2969\" y2=\"366.2969\"/><text fill=\"#000000\" font-family=\"sans-serif\" font-size=\"14\" font-weight=\"bold\" lengthAdjust=\"spacingAndGlyphs\" textLength=\"84\" x=\"301\" y=\"358.9951\">Data Layer</text></a><!--MD5=[af87c684e3b0d8be13c1a698a818ef1e]\n",
       "link E3 to E4--><a href=\"psysml:f56c438f-52f0-4453-9ce2-0999d9bfb233\" target=\"_top\" title=\"psysml:f56c438f-52f0-4453-9ce2-0999d9bfb233\" xlink:actuate=\"onRequest\" xlink:href=\"psysml:f56c438f-52f0-4453-9ce2-0999d9bfb233\" xlink:show=\"new\" xlink:title=\"psysml:f56c438f-52f0-4453-9ce2-0999d9bfb233\" xlink:type=\"simple\"><path d=\"M349,137.1 C349,156.8 349,184.22 349,205.73 \" fill=\"none\" id=\"E3-&gt;E4\" style=\"stroke: #383838; stroke-width: 1.0; stroke-dasharray: 7.0,7.0;\"/><polygon fill=\"#383838\" points=\"349,213.95,352,205.95,346,205.95,349,213.95\" style=\"stroke: #383838; stroke-width: 1.0;\"/><text fill=\"#000000\" font-family=\"sans-serif\" font-size=\"13\" lengthAdjust=\"spacingAndGlyphs\" textLength=\"64\" x=\"350\" y=\"180.0669\">«depend»</text></a><!--MD5=[1b7591eae5389033d8d09a9d6721a717]\n",
       "link E4 to E5--><a href=\"psysml:149727ef-4884-4150-ac87-83ab56bc940c\" target=\"_top\" title=\"psysml:149727ef-4884-4150-ac87-83ab56bc940c\" xlink:actuate=\"onRequest\" xlink:href=\"psysml:149727ef-4884-4150-ac87-83ab56bc940c\" xlink:show=\"new\" xlink:title=\"psysml:149727ef-4884-4150-ac87-83ab56bc940c\" xlink:type=\"simple\"><path d=\"M349,267.1 C349,286.8 349,314.22 349,335.73 \" fill=\"none\" id=\"E4-&gt;E5\" style=\"stroke: #383838; stroke-width: 1.0; stroke-dasharray: 7.0,7.0;\"/><polygon fill=\"#383838\" points=\"349,343.95,352,335.95,346,335.95,349,343.95\" style=\"stroke: #383838; stroke-width: 1.0;\"/><text fill=\"#000000\" font-family=\"sans-serif\" font-size=\"13\" lengthAdjust=\"spacingAndGlyphs\" textLength=\"64\" x=\"350\" y=\"310.0669\">«depend»</text></a><!--MD5=[c5e8897d989ce984f93528998a7150fe]\n",
       "link E8 to E6--><a href=\"psysml:6d264d90-cc53-4d32-95c3-fe1ad979e012\" target=\"_top\" title=\"psysml:6d264d90-cc53-4d32-95c3-fe1ad979e012\" xlink:actuate=\"onRequest\" xlink:href=\"psysml:6d264d90-cc53-4d32-95c3-fe1ad979e012\" xlink:show=\"new\" xlink:title=\"psysml:6d264d90-cc53-4d32-95c3-fe1ad979e012\" xlink:type=\"simple\"><path d=\"M97.55,133.75 C81.97,149.19 64,167 64,167 C64,167 64,184 64,184 C64,184 64.88,196.21 65.81,209.18 \" fill=\"none\" id=\"E8-&gt;E6\" style=\"stroke: #383838; stroke-width: 1.0; stroke-dasharray: 7.0,7.0;\"/><polygon fill=\"#383838\" points=\"66.4,217.25,68.8203,209.056,62.8357,209.485,66.4,217.25\" style=\"stroke: #383838; stroke-width: 1.0;\"/><text fill=\"#000000\" font-family=\"sans-serif\" font-size=\"13\" lengthAdjust=\"spacingAndGlyphs\" textLength=\"64\" x=\"65\" y=\"180.0669\">«depend»</text></a><!--MD5=[bfa3c8b0d15052fdf50ae9310b491027]\n",
       "link E8 to E7--><a href=\"psysml:6d264d90-cc53-4d32-95c3-fe1ad979e012\" target=\"_top\" title=\"psysml:6d264d90-cc53-4d32-95c3-fe1ad979e012\" xlink:actuate=\"onRequest\" xlink:href=\"psysml:6d264d90-cc53-4d32-95c3-fe1ad979e012\" xlink:show=\"new\" xlink:title=\"psysml:6d264d90-cc53-4d32-95c3-fe1ad979e012\" xlink:type=\"simple\"><path d=\"M129.28,133.5 C138.17,154.57 151.64,186.5 161.47,209.81 \" fill=\"none\" id=\"E8-&gt;E7\" style=\"stroke: #383838; stroke-width: 1.0; stroke-dasharray: 7.0,7.0;\"/><polygon fill=\"#383838\" points=\"164.66,217.35,164.3241,208.8126,158.7933,211.1385,164.66,217.35\" style=\"stroke: #383838; stroke-width: 1.0;\"/><text fill=\"#000000\" font-family=\"sans-serif\" font-size=\"13\" lengthAdjust=\"spacingAndGlyphs\" textLength=\"64\" x=\"151\" y=\"180.0669\">«depend»</text></a><!--MD5=[afbd2558eb5da3e5b192e26cec9fb054]\n",
       "@startuml\r\n",
       "skinparam linetype polyline\r\n",
       "skinparam monochrome true\r\n",
       "skinparam classbackgroundcolor white\r\n",
       "skinparam shadowing false\r\n",
       "skinparam wrapWidth 300\r\n",
       "hide circle\r\n",
       "\r\n",
       "package \"DependencyTest\" as E1  [[psysml:d56232e2-0bee-4a1a-bb9b-8eb4f38b0dfa ]]  {\r\n",
       "package \"System\" as E2  [[psysml:50d5e3ed-2307-46ca-b041-8429ee229b8d ]]  {\r\n",
       "package \"Application Layer\" as E3  [[psysml:bf62b3a1-f030-4eff-b8ce-ffbdff107a6f ]]  {\r\n",
       "}\r\n",
       "package \"Service Layer\" as E4  [[psysml:471b2f11-dcf9-418e-881d-688bae838b3f ]]  {\r\n",
       "}\r\n",
       "package \"Data Layer\" as E5  [[psysml:da794142-8c7c-4611-9580-abeb242da5ef ]]  {\r\n",
       "}\r\n",
       "}\r\n",
       "comp usage \"x\" as E6  <<(T,blue)attribute>> [[psysml:ee6e66ae-6a4f-4999-8c9e-f85171cea95e ]] {\r\n",
       "}\r\n",
       "comp usage \"y\" as E7  <<(T,blue)attribute>> [[psysml:da3973fb-164e-4f16-bb62-2f8eaef60bc8 ]] {\r\n",
       "}\r\n",
       "comp usage \"z\" as E8  <<(T,blue)attribute>> [[psysml:8698e020-730f-4ac9-88e5-943d82c20ca0 ]] {\r\n",
       "}\r\n",
       "E3 ..>> E4 [[psysml:f56c438f-52f0-4453-9ce2-0999d9bfb233 ]] : <<depend>>\r\n",
       "E4 ..>> E5 [[psysml:149727ef-4884-4150-ac87-83ab56bc940c ]] : <<depend>>\r\n",
       "E8 ..>> E6 [[psysml:6d264d90-cc53-4d32-95c3-fe1ad979e012 ]] : <<depend>>\r\n",
       "E8 ..>> E7 [[psysml:6d264d90-cc53-4d32-95c3-fe1ad979e012 ]] : <<depend>>\r\n",
       "}\r\n",
       "@enduml\r\n",
       "\n",
       "PlantUML version 1.2020.13(Sat Jun 13 12:26:38 UTC 2020)\n",
       "(EPL source distribution)\n",
       "Java Runtime: OpenJDK Runtime Environment\n",
       "JVM: OpenJDK 64-Bit Server VM\n",
       "Default Encoding: UTF-8\n",
       "Language: en\n",
       "Country: null\n",
       "--></g></svg>"
      ]
     },
     "execution_count": 10,
     "metadata": {},
     "output_type": "execute_result"
    }
   ],
   "source": [
    "%viz --style=\"POLYLINE\" --view=\"Tree\" \"DependencyTest\""
   ]
  },
  {
   "cell_type": "code",
   "execution_count": 11,
   "id": "1ca4d92d",
   "metadata": {
    "execution": {
     "iopub.execute_input": "2021-04-20T07:32:17.311392Z",
     "iopub.status.busy": "2021-04-20T07:32:17.310161Z",
     "iopub.status.idle": "2021-04-20T07:32:17.320149Z",
     "shell.execute_reply": "2021-04-20T07:32:17.320513Z"
    }
   },
   "outputs": [
    {
     "data": {
      "image/svg+xml": [
       "<?xml version=\"1.0\" encoding=\"UTF-8\" standalone=\"no\"?><svg xmlns=\"http://www.w3.org/2000/svg\" xmlns:xlink=\"http://www.w3.org/1999/xlink\" contentScriptType=\"application/ecmascript\" contentStyleType=\"text/css\" height=\"12px\" preserveAspectRatio=\"none\" style=\"width:12px;height:12px;\" version=\"1.1\" viewBox=\"0 0 12 12\" width=\"12px\" zoomAndPan=\"magnify\"><defs/><g><!--MD5=[896ac0e7a515d8dd7765a661cb4ee08b]\n",
       "@startuml\r\n",
       "skinparam linetype polyline\r\n",
       "skinparam monochrome true\r\n",
       "skinparam classbackgroundcolor white\r\n",
       "skinparam shadowing false\r\n",
       "skinparam wrapWidth 300\r\n",
       "hide circle\r\n",
       "\r\n",
       "@enduml\r\n",
       "\n",
       "PlantUML version 1.2020.13(Sat Jun 13 12:26:38 UTC 2020)\n",
       "(EPL source distribution)\n",
       "Java Runtime: OpenJDK Runtime Environment\n",
       "JVM: OpenJDK 64-Bit Server VM\n",
       "Default Encoding: UTF-8\n",
       "Language: en\n",
       "Country: null\n",
       "--></g></svg>"
      ]
     },
     "execution_count": 11,
     "metadata": {},
     "output_type": "execute_result"
    }
   ],
   "source": [
    "%viz --style=\"POLYLINE\" --view=\"State\" \"DependencyTest\""
   ]
  },
  {
   "cell_type": "code",
   "execution_count": 12,
   "id": "6fe42391",
   "metadata": {
    "execution": {
     "iopub.execute_input": "2021-04-20T07:32:17.371234Z",
     "iopub.status.busy": "2021-04-20T07:32:17.370602Z",
     "iopub.status.idle": "2021-04-20T07:32:17.476236Z",
     "shell.execute_reply": "2021-04-20T07:32:17.475717Z"
    }
   },
   "outputs": [
    {
     "data": {
      "image/svg+xml": [
       "<?xml version=\"1.0\" encoding=\"UTF-8\" standalone=\"no\"?><svg xmlns=\"http://www.w3.org/2000/svg\" xmlns:xlink=\"http://www.w3.org/1999/xlink\" contentScriptType=\"application/ecmascript\" contentStyleType=\"text/css\" height=\"361px\" preserveAspectRatio=\"none\" style=\"width:489px;height:361px;\" version=\"1.1\" viewBox=\"0 0 489 361\" width=\"489px\" zoomAndPan=\"magnify\"><defs/><g><!--MD5=[fbc87193dbaf4d95561dea2c320d4a47]\n",
       "cluster E1--><a href=\"psysml:d56232e2-0bee-4a1a-bb9b-8eb4f38b0dfa\" target=\"_top\" title=\"psysml:d56232e2-0bee-4a1a-bb9b-8eb4f38b0dfa\" xlink:actuate=\"onRequest\" xlink:href=\"psysml:d56232e2-0bee-4a1a-bb9b-8eb4f38b0dfa\" xlink:show=\"new\" xlink:title=\"psysml:d56232e2-0bee-4a1a-bb9b-8eb4f38b0dfa\" xlink:type=\"simple\"><polygon fill=\"#FFFFFF\" points=\"16,6,156,6,163,28.2969,467,28.2969,467,349,16,349,16,6\" style=\"stroke: #000000; stroke-width: 1.5;\"/><line style=\"stroke: #000000; stroke-width: 1.5;\" x1=\"16\" x2=\"163\" y1=\"28.2969\" y2=\"28.2969\"/><text fill=\"#000000\" font-family=\"sans-serif\" font-size=\"14\" font-weight=\"bold\" lengthAdjust=\"spacingAndGlyphs\" textLength=\"134\" x=\"20\" y=\"20.9951\">DependencyTest</text></a><!--MD5=[e4f7fae6ed58524ba242bb0b0d3be6b7]\n",
       "cluster E2--><a href=\"psysml:50d5e3ed-2307-46ca-b041-8429ee229b8d\" target=\"_top\" title=\"psysml:50d5e3ed-2307-46ca-b041-8429ee229b8d\" xlink:actuate=\"onRequest\" xlink:href=\"psysml:50d5e3ed-2307-46ca-b041-8429ee229b8d\" xlink:show=\"new\" xlink:title=\"psysml:50d5e3ed-2307-46ca-b041-8429ee229b8d\" xlink:type=\"simple\"><polygon fill=\"#FFFFFF\" points=\"255,49,319,49,326,71.2969,443,71.2969,443,325,255,325,255,49\" style=\"stroke: #000000; stroke-width: 1.5;\"/><line style=\"stroke: #000000; stroke-width: 1.5;\" x1=\"255\" x2=\"326\" y1=\"71.2969\" y2=\"71.2969\"/><text fill=\"#000000\" font-family=\"sans-serif\" font-size=\"14\" font-weight=\"bold\" lengthAdjust=\"spacingAndGlyphs\" textLength=\"58\" x=\"259\" y=\"63.9951\">System</text></a><!--MD5=[60a26617385b1d2d0262a64233df1f8d]\n",
       "class E6--><a href=\"psysml:ee6e66ae-6a4f-4999-8c9e-f85171cea95e\" target=\"_top\" title=\"psysml:ee6e66ae-6a4f-4999-8c9e-f85171cea95e\" xlink:actuate=\"onRequest\" xlink:href=\"psysml:ee6e66ae-6a4f-4999-8c9e-f85171cea95e\" xlink:show=\"new\" xlink:title=\"psysml:ee6e66ae-6a4f-4999-8c9e-f85171cea95e\" xlink:type=\"simple\"><rect fill=\"#FFFFFF\" height=\"45.9375\" id=\"E6\" rx=\"10\" ry=\"10\" style=\"stroke: #383838; stroke-width: 1.5;\" width=\"71\" x=\"32.5\" y=\"173.5\"/><text fill=\"#000000\" font-family=\"sans-serif\" font-size=\"12\" font-style=\"italic\" lengthAdjust=\"spacingAndGlyphs\" textLength=\"69\" x=\"33.5\" y=\"189.6387\">«attribute»</text><text fill=\"#000000\" font-family=\"sans-serif\" font-size=\"12\" lengthAdjust=\"spacingAndGlyphs\" textLength=\"6\" x=\"65\" y=\"203.6074\">x</text><line style=\"stroke: #383838; stroke-width: 1.5;\" x1=\"33.5\" x2=\"102.5\" y1=\"211.4375\" y2=\"211.4375\"/></a><!--MD5=[2156ba9850f5573cc1fc38a6a4b2f02b]\n",
       "class E7--><a href=\"psysml:da3973fb-164e-4f16-bb62-2f8eaef60bc8\" target=\"_top\" title=\"psysml:da3973fb-164e-4f16-bb62-2f8eaef60bc8\" xlink:actuate=\"onRequest\" xlink:href=\"psysml:da3973fb-164e-4f16-bb62-2f8eaef60bc8\" xlink:show=\"new\" xlink:title=\"psysml:da3973fb-164e-4f16-bb62-2f8eaef60bc8\" xlink:type=\"simple\"><rect fill=\"#FFFFFF\" height=\"45.9375\" id=\"E7\" rx=\"10\" ry=\"10\" style=\"stroke: #383838; stroke-width: 1.5;\" width=\"71\" x=\"138.5\" y=\"173.5\"/><text fill=\"#000000\" font-family=\"sans-serif\" font-size=\"12\" font-style=\"italic\" lengthAdjust=\"spacingAndGlyphs\" textLength=\"69\" x=\"139.5\" y=\"189.6387\">«attribute»</text><text fill=\"#000000\" font-family=\"sans-serif\" font-size=\"12\" lengthAdjust=\"spacingAndGlyphs\" textLength=\"6\" x=\"171\" y=\"203.6074\">y</text><line style=\"stroke: #383838; stroke-width: 1.5;\" x1=\"139.5\" x2=\"208.5\" y1=\"211.4375\" y2=\"211.4375\"/></a><!--MD5=[b9389687b975829384b498ac4b7476b2]\n",
       "class E8--><a href=\"psysml:8698e020-730f-4ac9-88e5-943d82c20ca0\" target=\"_top\" title=\"psysml:8698e020-730f-4ac9-88e5-943d82c20ca0\" xlink:actuate=\"onRequest\" xlink:href=\"psysml:8698e020-730f-4ac9-88e5-943d82c20ca0\" xlink:show=\"new\" xlink:title=\"psysml:8698e020-730f-4ac9-88e5-943d82c20ca0\" xlink:type=\"simple\"><rect fill=\"#FFFFFF\" height=\"45.9375\" id=\"E8\" rx=\"10\" ry=\"10\" style=\"stroke: #383838; stroke-width: 1.5;\" width=\"71\" x=\"84.5\" y=\"87.5\"/><text fill=\"#000000\" font-family=\"sans-serif\" font-size=\"12\" font-style=\"italic\" lengthAdjust=\"spacingAndGlyphs\" textLength=\"69\" x=\"85.5\" y=\"103.6387\">«attribute»</text><text fill=\"#000000\" font-family=\"sans-serif\" font-size=\"12\" lengthAdjust=\"spacingAndGlyphs\" textLength=\"5\" x=\"117.5\" y=\"117.6074\">z</text><line style=\"stroke: #383838; stroke-width: 1.5;\" x1=\"85.5\" x2=\"154.5\" y1=\"125.4375\" y2=\"125.4375\"/></a><a href=\"psysml:bf62b3a1-f030-4eff-b8ce-ffbdff107a6f\" target=\"_top\" title=\"psysml:bf62b3a1-f030-4eff-b8ce-ffbdff107a6f\" xlink:actuate=\"onRequest\" xlink:href=\"psysml:bf62b3a1-f030-4eff-b8ce-ffbdff107a6f\" xlink:show=\"new\" xlink:title=\"psysml:bf62b3a1-f030-4eff-b8ce-ffbdff107a6f\" xlink:type=\"simple\"><polygon fill=\"#FFFFFF\" points=\"271,84,413,84,420,106.2969,427,106.2969,427,136.5938,271,136.5938,271,84\" style=\"stroke: #000000; stroke-width: 1.5;\"/><line style=\"stroke: #000000; stroke-width: 1.5;\" x1=\"271\" x2=\"420\" y1=\"106.2969\" y2=\"106.2969\"/><text fill=\"#000000\" font-family=\"sans-serif\" font-size=\"14\" font-weight=\"bold\" lengthAdjust=\"spacingAndGlyphs\" textLength=\"136\" x=\"275\" y=\"98.9951\">Application Layer</text></a><a href=\"psysml:471b2f11-dcf9-418e-881d-688bae838b3f\" target=\"_top\" title=\"psysml:471b2f11-dcf9-418e-881d-688bae838b3f\" xlink:actuate=\"onRequest\" xlink:href=\"psysml:471b2f11-dcf9-418e-881d-688bae838b3f\" xlink:show=\"new\" xlink:title=\"psysml:471b2f11-dcf9-418e-881d-688bae838b3f\" xlink:type=\"simple\"><polygon fill=\"#FFFFFF\" points=\"285,170,399,170,406,192.2969,413,192.2969,413,222.5938,285,222.5938,285,170\" style=\"stroke: #000000; stroke-width: 1.5;\"/><line style=\"stroke: #000000; stroke-width: 1.5;\" x1=\"285\" x2=\"406\" y1=\"192.2969\" y2=\"192.2969\"/><text fill=\"#000000\" font-family=\"sans-serif\" font-size=\"14\" font-weight=\"bold\" lengthAdjust=\"spacingAndGlyphs\" textLength=\"108\" x=\"289\" y=\"184.9951\">Service Layer</text></a><a href=\"psysml:da794142-8c7c-4611-9580-abeb242da5ef\" target=\"_top\" title=\"psysml:da794142-8c7c-4611-9580-abeb242da5ef\" xlink:actuate=\"onRequest\" xlink:href=\"psysml:da794142-8c7c-4611-9580-abeb242da5ef\" xlink:show=\"new\" xlink:title=\"psysml:da794142-8c7c-4611-9580-abeb242da5ef\" xlink:type=\"simple\"><polygon fill=\"#FFFFFF\" points=\"297,256,387,256,394,278.2969,401,278.2969,401,308.5938,297,308.5938,297,256\" style=\"stroke: #000000; stroke-width: 1.5;\"/><line style=\"stroke: #000000; stroke-width: 1.5;\" x1=\"297\" x2=\"394\" y1=\"278.2969\" y2=\"278.2969\"/><text fill=\"#000000\" font-family=\"sans-serif\" font-size=\"14\" font-weight=\"bold\" lengthAdjust=\"spacingAndGlyphs\" textLength=\"84\" x=\"301\" y=\"270.9951\">Data Layer</text></a><!--MD5=[af87c684e3b0d8be13c1a698a818ef1e]\n",
       "link E3 to E4--><a href=\"psysml:f56c438f-52f0-4453-9ce2-0999d9bfb233\" target=\"_top\" title=\"psysml:f56c438f-52f0-4453-9ce2-0999d9bfb233\" xlink:actuate=\"onRequest\" xlink:href=\"psysml:f56c438f-52f0-4453-9ce2-0999d9bfb233\" xlink:show=\"new\" xlink:title=\"psysml:f56c438f-52f0-4453-9ce2-0999d9bfb233\" xlink:type=\"simple\"><path d=\"M349,137.16 C349,144.98 349,153.69 349,161.94 \" fill=\"none\" id=\"E3-&gt;E4\" style=\"stroke: #383838; stroke-width: 1.0; stroke-dasharray: 7.0,7.0;\"/><polygon fill=\"#383838\" points=\"349,170,352,162,346,162,349,170\" style=\"stroke: #383838; stroke-width: 1.0;\"/><text fill=\"#000000\" font-family=\"sans-serif\" font-size=\"13\" lengthAdjust=\"spacingAndGlyphs\" textLength=\"64\" x=\"350\" y=\"158.0669\">«depend»</text></a><!--MD5=[1b7591eae5389033d8d09a9d6721a717]\n",
       "link E4 to E5--><a href=\"psysml:149727ef-4884-4150-ac87-83ab56bc940c\" target=\"_top\" title=\"psysml:149727ef-4884-4150-ac87-83ab56bc940c\" xlink:actuate=\"onRequest\" xlink:href=\"psysml:149727ef-4884-4150-ac87-83ab56bc940c\" xlink:show=\"new\" xlink:title=\"psysml:149727ef-4884-4150-ac87-83ab56bc940c\" xlink:type=\"simple\"><path d=\"M349,223.16 C349,230.98 349,239.69 349,247.94 \" fill=\"none\" id=\"E4-&gt;E5\" style=\"stroke: #383838; stroke-width: 1.0; stroke-dasharray: 7.0,7.0;\"/><polygon fill=\"#383838\" points=\"349,256,352,248,346,248,349,256\" style=\"stroke: #383838; stroke-width: 1.0;\"/><text fill=\"#000000\" font-family=\"sans-serif\" font-size=\"13\" lengthAdjust=\"spacingAndGlyphs\" textLength=\"64\" x=\"350\" y=\"244.0669\">«depend»</text></a><!--MD5=[c5e8897d989ce984f93528998a7150fe]\n",
       "link E8 to E6--><a href=\"psysml:6d264d90-cc53-4d32-95c3-fe1ad979e012\" target=\"_top\" title=\"psysml:6d264d90-cc53-4d32-95c3-fe1ad979e012\" xlink:actuate=\"onRequest\" xlink:href=\"psysml:6d264d90-cc53-4d32-95c3-fe1ad979e012\" xlink:show=\"new\" xlink:title=\"psysml:6d264d90-cc53-4d32-95c3-fe1ad979e012\" xlink:type=\"simple\"><path d=\"M84.22,132.91 C73.24,139.47 64,145 64,145 C64,145 64,162 64,162 C64,162 64.15,163.28 64.4,165.33 \" fill=\"none\" id=\"E8-&gt;E6\" style=\"stroke: #383838; stroke-width: 1.0; stroke-dasharray: 7.0,7.0;\"/><polygon fill=\"#383838\" points=\"65.35,173.34,67.3861,165.0421,61.4279,165.7494,65.35,173.34\" style=\"stroke: #383838; stroke-width: 1.0;\"/><text fill=\"#000000\" font-family=\"sans-serif\" font-size=\"13\" lengthAdjust=\"spacingAndGlyphs\" textLength=\"64\" x=\"65\" y=\"158.0669\">«depend»</text></a><!--MD5=[bfa3c8b0d15052fdf50ae9310b491027]\n",
       "link E8 to E7--><a href=\"psysml:6d264d90-cc53-4d32-95c3-fe1ad979e012\" target=\"_top\" title=\"psysml:6d264d90-cc53-4d32-95c3-fe1ad979e012\" xlink:actuate=\"onRequest\" xlink:href=\"psysml:6d264d90-cc53-4d32-95c3-fe1ad979e012\" xlink:show=\"new\" xlink:title=\"psysml:6d264d90-cc53-4d32-95c3-fe1ad979e012\" xlink:type=\"simple\"><path d=\"M134.19,133.57 C140.65,143.62 148.38,155.65 155.31,166.42 \" fill=\"none\" id=\"E8-&gt;E7\" style=\"stroke: #383838; stroke-width: 1.0; stroke-dasharray: 7.0,7.0;\"/><polygon fill=\"#383838\" points=\"159.72,173.29,157.9148,164.9389,152.8688,168.185,159.72,173.29\" style=\"stroke: #383838; stroke-width: 1.0;\"/><text fill=\"#000000\" font-family=\"sans-serif\" font-size=\"13\" lengthAdjust=\"spacingAndGlyphs\" textLength=\"64\" x=\"152\" y=\"158.0669\">«depend»</text></a><!--MD5=[fed30219f34c6a069e7b8c5f7faca3b2]\n",
       "@startuml\r\n",
       "skinparam ranksep 10\r\n",
       "skinparam rectangle {\r\n",
       " backgroundColor<<block>> LightGreen\r\n",
       "}\r\n",
       "skinparam linetype polyline\r\n",
       "skinparam monochrome true\r\n",
       "skinparam classbackgroundcolor white\r\n",
       "skinparam shadowing false\r\n",
       "skinparam wrapWidth 300\r\n",
       "hide circle\r\n",
       "\r\n",
       "package \"DependencyTest\" as E1  [[psysml:d56232e2-0bee-4a1a-bb9b-8eb4f38b0dfa ]]  {\r\n",
       "package \"System\" as E2  [[psysml:50d5e3ed-2307-46ca-b041-8429ee229b8d ]]  {\r\n",
       "package \"Application Layer\" as E3  [[psysml:bf62b3a1-f030-4eff-b8ce-ffbdff107a6f ]]  {\r\n",
       "}\r\n",
       "package \"Service Layer\" as E4  [[psysml:471b2f11-dcf9-418e-881d-688bae838b3f ]]  {\r\n",
       "}\r\n",
       "package \"Data Layer\" as E5  [[psysml:da794142-8c7c-4611-9580-abeb242da5ef ]]  {\r\n",
       "}\r\n",
       "}\r\n",
       "comp usage \"x\" as E6  <<(T,blue)attribute>> [[psysml:ee6e66ae-6a4f-4999-8c9e-f85171cea95e ]] {\r\n",
       "}\r\n",
       "comp usage \"y\" as E7  <<(T,blue)attribute>> [[psysml:da3973fb-164e-4f16-bb62-2f8eaef60bc8 ]] {\r\n",
       "}\r\n",
       "comp usage \"z\" as E8  <<(T,blue)attribute>> [[psysml:8698e020-730f-4ac9-88e5-943d82c20ca0 ]] {\r\n",
       "}\r\n",
       "E3 ..>> E4 [[psysml:f56c438f-52f0-4453-9ce2-0999d9bfb233 ]] : <<depend>>\r\n",
       "E4 ..>> E5 [[psysml:149727ef-4884-4150-ac87-83ab56bc940c ]] : <<depend>>\r\n",
       "E8 ..>> E6 [[psysml:6d264d90-cc53-4d32-95c3-fe1ad979e012 ]] : <<depend>>\r\n",
       "E8 ..>> E7 [[psysml:6d264d90-cc53-4d32-95c3-fe1ad979e012 ]] : <<depend>>\r\n",
       "}\r\n",
       "@enduml\r\n",
       "\n",
       "PlantUML version 1.2020.13(Sat Jun 13 12:26:38 UTC 2020)\n",
       "(EPL source distribution)\n",
       "Java Runtime: OpenJDK Runtime Environment\n",
       "JVM: OpenJDK 64-Bit Server VM\n",
       "Default Encoding: UTF-8\n",
       "Language: en\n",
       "Country: null\n",
       "--></g></svg>"
      ]
     },
     "execution_count": 12,
     "metadata": {},
     "output_type": "execute_result"
    }
   ],
   "source": [
    "%viz --style=\"POLYLINE\" --view=\"Interconnection\" \"DependencyTest\""
   ]
  },
  {
   "cell_type": "code",
   "execution_count": 13,
   "id": "1b703bac",
   "metadata": {
    "execution": {
     "iopub.execute_input": "2021-04-20T07:32:17.527022Z",
     "iopub.status.busy": "2021-04-20T07:32:17.526344Z",
     "iopub.status.idle": "2021-04-20T07:32:17.535647Z",
     "shell.execute_reply": "2021-04-20T07:32:17.536016Z"
    }
   },
   "outputs": [
    {
     "data": {
      "image/svg+xml": [
       "<?xml version=\"1.0\" encoding=\"UTF-8\" standalone=\"no\"?><svg xmlns=\"http://www.w3.org/2000/svg\" xmlns:xlink=\"http://www.w3.org/1999/xlink\" contentScriptType=\"application/ecmascript\" contentStyleType=\"text/css\" height=\"12px\" preserveAspectRatio=\"none\" style=\"width:12px;height:12px;\" version=\"1.1\" viewBox=\"0 0 12 12\" width=\"12px\" zoomAndPan=\"magnify\"><defs/><g><!--MD5=[97bbf32f66ccd50cbc40d92ea8f5a65e]\n",
       "@startuml\r\n",
       "skinparam ranksep 8\r\n",
       "skinparam linetype polyline\r\n",
       "skinparam monochrome true\r\n",
       "skinparam classbackgroundcolor white\r\n",
       "skinparam shadowing false\r\n",
       "skinparam wrapWidth 300\r\n",
       "hide circle\r\n",
       "\r\n",
       "@enduml\r\n",
       "\n",
       "PlantUML version 1.2020.13(Sat Jun 13 12:26:38 UTC 2020)\n",
       "(EPL source distribution)\n",
       "Java Runtime: OpenJDK Runtime Environment\n",
       "JVM: OpenJDK 64-Bit Server VM\n",
       "Default Encoding: UTF-8\n",
       "Language: en\n",
       "Country: null\n",
       "--></g></svg>"
      ]
     },
     "execution_count": 13,
     "metadata": {},
     "output_type": "execute_result"
    }
   ],
   "source": [
    "%viz --style=\"POLYLINE\" --view=\"Action\" \"DependencyTest\""
   ]
  },
  {
   "cell_type": "code",
   "execution_count": 14,
   "id": "f4d76321",
   "metadata": {
    "execution": {
     "iopub.execute_input": "2021-04-20T07:32:17.587176Z",
     "iopub.status.busy": "2021-04-20T07:32:17.586593Z",
     "iopub.status.idle": "2021-04-20T07:32:17.669949Z",
     "shell.execute_reply": "2021-04-20T07:32:17.668202Z"
    }
   },
   "outputs": [
    {
     "data": {
      "image/svg+xml": [
       "<?xml version=\"1.0\" encoding=\"UTF-8\" standalone=\"no\"?><svg xmlns=\"http://www.w3.org/2000/svg\" xmlns:xlink=\"http://www.w3.org/1999/xlink\" contentScriptType=\"application/ecmascript\" contentStyleType=\"text/css\" height=\"449px\" preserveAspectRatio=\"none\" style=\"width:489px;height:449px;\" version=\"1.1\" viewBox=\"0 0 489 449\" width=\"489px\" zoomAndPan=\"magnify\"><defs/><g><!--MD5=[fbc87193dbaf4d95561dea2c320d4a47]\n",
       "cluster E1--><a href=\"psysml:d56232e2-0bee-4a1a-bb9b-8eb4f38b0dfa\" target=\"_top\" title=\"psysml:d56232e2-0bee-4a1a-bb9b-8eb4f38b0dfa\" xlink:actuate=\"onRequest\" xlink:href=\"psysml:d56232e2-0bee-4a1a-bb9b-8eb4f38b0dfa\" xlink:show=\"new\" xlink:title=\"psysml:d56232e2-0bee-4a1a-bb9b-8eb4f38b0dfa\" xlink:type=\"simple\"><polygon fill=\"#FFFFFF\" points=\"16,6,156,6,163,28.2969,467,28.2969,467,437,16,437,16,6\" style=\"stroke: #000000; stroke-width: 1.5;\"/><line style=\"stroke: #000000; stroke-width: 1.5;\" x1=\"16\" x2=\"163\" y1=\"28.2969\" y2=\"28.2969\"/><text fill=\"#000000\" font-family=\"sans-serif\" font-size=\"14\" font-weight=\"bold\" lengthAdjust=\"spacingAndGlyphs\" textLength=\"134\" x=\"20\" y=\"20.9951\">DependencyTest</text></a><!--MD5=[e4f7fae6ed58524ba242bb0b0d3be6b7]\n",
       "cluster E2--><a href=\"psysml:50d5e3ed-2307-46ca-b041-8429ee229b8d\" target=\"_top\" title=\"psysml:50d5e3ed-2307-46ca-b041-8429ee229b8d\" xlink:actuate=\"onRequest\" xlink:href=\"psysml:50d5e3ed-2307-46ca-b041-8429ee229b8d\" xlink:show=\"new\" xlink:title=\"psysml:50d5e3ed-2307-46ca-b041-8429ee229b8d\" xlink:type=\"simple\"><polygon fill=\"#FFFFFF\" points=\"255,49,319,49,326,71.2969,443,71.2969,443,413,255,413,255,49\" style=\"stroke: #000000; stroke-width: 1.5;\"/><line style=\"stroke: #000000; stroke-width: 1.5;\" x1=\"255\" x2=\"326\" y1=\"71.2969\" y2=\"71.2969\"/><text fill=\"#000000\" font-family=\"sans-serif\" font-size=\"14\" font-weight=\"bold\" lengthAdjust=\"spacingAndGlyphs\" textLength=\"58\" x=\"259\" y=\"63.9951\">System</text></a><!--MD5=[60a26617385b1d2d0262a64233df1f8d]\n",
       "class E6--><a href=\"psysml:ee6e66ae-6a4f-4999-8c9e-f85171cea95e\" target=\"_top\" title=\"psysml:ee6e66ae-6a4f-4999-8c9e-f85171cea95e\" xlink:actuate=\"onRequest\" xlink:href=\"psysml:ee6e66ae-6a4f-4999-8c9e-f85171cea95e\" xlink:show=\"new\" xlink:title=\"psysml:ee6e66ae-6a4f-4999-8c9e-f85171cea95e\" xlink:type=\"simple\"><rect fill=\"#FFFFFF\" height=\"45.9375\" id=\"E6\" rx=\"10\" ry=\"10\" style=\"stroke: #383838; stroke-width: 1.5;\" width=\"71\" x=\"32.5\" y=\"217.5\"/><text fill=\"#000000\" font-family=\"sans-serif\" font-size=\"12\" font-style=\"italic\" lengthAdjust=\"spacingAndGlyphs\" textLength=\"69\" x=\"33.5\" y=\"233.6387\">«attribute»</text><text fill=\"#000000\" font-family=\"sans-serif\" font-size=\"12\" lengthAdjust=\"spacingAndGlyphs\" textLength=\"6\" x=\"65\" y=\"247.6074\">x</text><line style=\"stroke: #383838; stroke-width: 1.5;\" x1=\"33.5\" x2=\"102.5\" y1=\"255.4375\" y2=\"255.4375\"/></a><!--MD5=[2156ba9850f5573cc1fc38a6a4b2f02b]\n",
       "class E7--><a href=\"psysml:da3973fb-164e-4f16-bb62-2f8eaef60bc8\" target=\"_top\" title=\"psysml:da3973fb-164e-4f16-bb62-2f8eaef60bc8\" xlink:actuate=\"onRequest\" xlink:href=\"psysml:da3973fb-164e-4f16-bb62-2f8eaef60bc8\" xlink:show=\"new\" xlink:title=\"psysml:da3973fb-164e-4f16-bb62-2f8eaef60bc8\" xlink:type=\"simple\"><rect fill=\"#FFFFFF\" height=\"45.9375\" id=\"E7\" rx=\"10\" ry=\"10\" style=\"stroke: #383838; stroke-width: 1.5;\" width=\"71\" x=\"138.5\" y=\"217.5\"/><text fill=\"#000000\" font-family=\"sans-serif\" font-size=\"12\" font-style=\"italic\" lengthAdjust=\"spacingAndGlyphs\" textLength=\"69\" x=\"139.5\" y=\"233.6387\">«attribute»</text><text fill=\"#000000\" font-family=\"sans-serif\" font-size=\"12\" lengthAdjust=\"spacingAndGlyphs\" textLength=\"6\" x=\"171\" y=\"247.6074\">y</text><line style=\"stroke: #383838; stroke-width: 1.5;\" x1=\"139.5\" x2=\"208.5\" y1=\"255.4375\" y2=\"255.4375\"/></a><!--MD5=[b9389687b975829384b498ac4b7476b2]\n",
       "class E8--><a href=\"psysml:8698e020-730f-4ac9-88e5-943d82c20ca0\" target=\"_top\" title=\"psysml:8698e020-730f-4ac9-88e5-943d82c20ca0\" xlink:actuate=\"onRequest\" xlink:href=\"psysml:8698e020-730f-4ac9-88e5-943d82c20ca0\" xlink:show=\"new\" xlink:title=\"psysml:8698e020-730f-4ac9-88e5-943d82c20ca0\" xlink:type=\"simple\"><rect fill=\"#FFFFFF\" height=\"45.9375\" id=\"E8\" rx=\"10\" ry=\"10\" style=\"stroke: #383838; stroke-width: 1.5;\" width=\"71\" x=\"84.5\" y=\"87.5\"/><text fill=\"#000000\" font-family=\"sans-serif\" font-size=\"12\" font-style=\"italic\" lengthAdjust=\"spacingAndGlyphs\" textLength=\"69\" x=\"85.5\" y=\"103.6387\">«attribute»</text><text fill=\"#000000\" font-family=\"sans-serif\" font-size=\"12\" lengthAdjust=\"spacingAndGlyphs\" textLength=\"5\" x=\"117.5\" y=\"117.6074\">z</text><line style=\"stroke: #383838; stroke-width: 1.5;\" x1=\"85.5\" x2=\"154.5\" y1=\"125.4375\" y2=\"125.4375\"/></a><a href=\"psysml:bf62b3a1-f030-4eff-b8ce-ffbdff107a6f\" target=\"_top\" title=\"psysml:bf62b3a1-f030-4eff-b8ce-ffbdff107a6f\" xlink:actuate=\"onRequest\" xlink:href=\"psysml:bf62b3a1-f030-4eff-b8ce-ffbdff107a6f\" xlink:show=\"new\" xlink:title=\"psysml:bf62b3a1-f030-4eff-b8ce-ffbdff107a6f\" xlink:type=\"simple\"><polygon fill=\"#FFFFFF\" points=\"271,84,413,84,420,106.2969,427,106.2969,427,136.5938,271,136.5938,271,84\" style=\"stroke: #000000; stroke-width: 1.5;\"/><line style=\"stroke: #000000; stroke-width: 1.5;\" x1=\"271\" x2=\"420\" y1=\"106.2969\" y2=\"106.2969\"/><text fill=\"#000000\" font-family=\"sans-serif\" font-size=\"14\" font-weight=\"bold\" lengthAdjust=\"spacingAndGlyphs\" textLength=\"136\" x=\"275\" y=\"98.9951\">Application Layer</text></a><a href=\"psysml:471b2f11-dcf9-418e-881d-688bae838b3f\" target=\"_top\" title=\"psysml:471b2f11-dcf9-418e-881d-688bae838b3f\" xlink:actuate=\"onRequest\" xlink:href=\"psysml:471b2f11-dcf9-418e-881d-688bae838b3f\" xlink:show=\"new\" xlink:title=\"psysml:471b2f11-dcf9-418e-881d-688bae838b3f\" xlink:type=\"simple\"><polygon fill=\"#FFFFFF\" points=\"285,214,399,214,406,236.2969,413,236.2969,413,266.5938,285,266.5938,285,214\" style=\"stroke: #000000; stroke-width: 1.5;\"/><line style=\"stroke: #000000; stroke-width: 1.5;\" x1=\"285\" x2=\"406\" y1=\"236.2969\" y2=\"236.2969\"/><text fill=\"#000000\" font-family=\"sans-serif\" font-size=\"14\" font-weight=\"bold\" lengthAdjust=\"spacingAndGlyphs\" textLength=\"108\" x=\"289\" y=\"228.9951\">Service Layer</text></a><a href=\"psysml:da794142-8c7c-4611-9580-abeb242da5ef\" target=\"_top\" title=\"psysml:da794142-8c7c-4611-9580-abeb242da5ef\" xlink:actuate=\"onRequest\" xlink:href=\"psysml:da794142-8c7c-4611-9580-abeb242da5ef\" xlink:show=\"new\" xlink:title=\"psysml:da794142-8c7c-4611-9580-abeb242da5ef\" xlink:type=\"simple\"><polygon fill=\"#FFFFFF\" points=\"297,344,387,344,394,366.2969,401,366.2969,401,396.5938,297,396.5938,297,344\" style=\"stroke: #000000; stroke-width: 1.5;\"/><line style=\"stroke: #000000; stroke-width: 1.5;\" x1=\"297\" x2=\"394\" y1=\"366.2969\" y2=\"366.2969\"/><text fill=\"#000000\" font-family=\"sans-serif\" font-size=\"14\" font-weight=\"bold\" lengthAdjust=\"spacingAndGlyphs\" textLength=\"84\" x=\"301\" y=\"358.9951\">Data Layer</text></a><!--MD5=[af87c684e3b0d8be13c1a698a818ef1e]\n",
       "link E3 to E4--><a href=\"psysml:f56c438f-52f0-4453-9ce2-0999d9bfb233\" target=\"_top\" title=\"psysml:f56c438f-52f0-4453-9ce2-0999d9bfb233\" xlink:actuate=\"onRequest\" xlink:href=\"psysml:f56c438f-52f0-4453-9ce2-0999d9bfb233\" xlink:show=\"new\" xlink:title=\"psysml:f56c438f-52f0-4453-9ce2-0999d9bfb233\" xlink:type=\"simple\"><path d=\"M349,137.1 C349,156.8 349,184.22 349,205.73 \" fill=\"none\" id=\"E3-&gt;E4\" style=\"stroke: #383838; stroke-width: 1.0; stroke-dasharray: 7.0,7.0;\"/><polygon fill=\"#383838\" points=\"349,213.95,352,205.95,346,205.95,349,213.95\" style=\"stroke: #383838; stroke-width: 1.0;\"/><text fill=\"#000000\" font-family=\"sans-serif\" font-size=\"13\" lengthAdjust=\"spacingAndGlyphs\" textLength=\"64\" x=\"350\" y=\"180.0669\">«depend»</text></a><!--MD5=[1b7591eae5389033d8d09a9d6721a717]\n",
       "link E4 to E5--><a href=\"psysml:149727ef-4884-4150-ac87-83ab56bc940c\" target=\"_top\" title=\"psysml:149727ef-4884-4150-ac87-83ab56bc940c\" xlink:actuate=\"onRequest\" xlink:href=\"psysml:149727ef-4884-4150-ac87-83ab56bc940c\" xlink:show=\"new\" xlink:title=\"psysml:149727ef-4884-4150-ac87-83ab56bc940c\" xlink:type=\"simple\"><path d=\"M349,267.1 C349,286.8 349,314.22 349,335.73 \" fill=\"none\" id=\"E4-&gt;E5\" style=\"stroke: #383838; stroke-width: 1.0; stroke-dasharray: 7.0,7.0;\"/><polygon fill=\"#383838\" points=\"349,343.95,352,335.95,346,335.95,349,343.95\" style=\"stroke: #383838; stroke-width: 1.0;\"/><text fill=\"#000000\" font-family=\"sans-serif\" font-size=\"13\" lengthAdjust=\"spacingAndGlyphs\" textLength=\"64\" x=\"350\" y=\"310.0669\">«depend»</text></a><!--MD5=[c5e8897d989ce984f93528998a7150fe]\n",
       "link E8 to E6--><a href=\"psysml:6d264d90-cc53-4d32-95c3-fe1ad979e012\" target=\"_top\" title=\"psysml:6d264d90-cc53-4d32-95c3-fe1ad979e012\" xlink:actuate=\"onRequest\" xlink:href=\"psysml:6d264d90-cc53-4d32-95c3-fe1ad979e012\" xlink:show=\"new\" xlink:title=\"psysml:6d264d90-cc53-4d32-95c3-fe1ad979e012\" xlink:type=\"simple\"><path d=\"M97.55,133.75 C81.97,149.19 64,167 64,167 C64,167 64,184 64,184 C64,184 64.88,196.21 65.81,209.18 \" fill=\"none\" id=\"E8-&gt;E6\" style=\"stroke: #383838; stroke-width: 1.0; stroke-dasharray: 7.0,7.0;\"/><polygon fill=\"#383838\" points=\"66.4,217.25,68.8203,209.056,62.8357,209.485,66.4,217.25\" style=\"stroke: #383838; stroke-width: 1.0;\"/><text fill=\"#000000\" font-family=\"sans-serif\" font-size=\"13\" lengthAdjust=\"spacingAndGlyphs\" textLength=\"64\" x=\"65\" y=\"180.0669\">«depend»</text></a><!--MD5=[bfa3c8b0d15052fdf50ae9310b491027]\n",
       "link E8 to E7--><a href=\"psysml:6d264d90-cc53-4d32-95c3-fe1ad979e012\" target=\"_top\" title=\"psysml:6d264d90-cc53-4d32-95c3-fe1ad979e012\" xlink:actuate=\"onRequest\" xlink:href=\"psysml:6d264d90-cc53-4d32-95c3-fe1ad979e012\" xlink:show=\"new\" xlink:title=\"psysml:6d264d90-cc53-4d32-95c3-fe1ad979e012\" xlink:type=\"simple\"><path d=\"M129.28,133.5 C138.17,154.57 151.64,186.5 161.47,209.81 \" fill=\"none\" id=\"E8-&gt;E7\" style=\"stroke: #383838; stroke-width: 1.0; stroke-dasharray: 7.0,7.0;\"/><polygon fill=\"#383838\" points=\"164.66,217.35,164.3241,208.8126,158.7933,211.1385,164.66,217.35\" style=\"stroke: #383838; stroke-width: 1.0;\"/><text fill=\"#000000\" font-family=\"sans-serif\" font-size=\"13\" lengthAdjust=\"spacingAndGlyphs\" textLength=\"64\" x=\"151\" y=\"180.0669\">«depend»</text></a><!--MD5=[afbd2558eb5da3e5b192e26cec9fb054]\n",
       "@startuml\r\n",
       "skinparam linetype polyline\r\n",
       "skinparam monochrome true\r\n",
       "skinparam classbackgroundcolor white\r\n",
       "skinparam shadowing false\r\n",
       "skinparam wrapWidth 300\r\n",
       "hide circle\r\n",
       "\r\n",
       "package \"DependencyTest\" as E1  [[psysml:d56232e2-0bee-4a1a-bb9b-8eb4f38b0dfa ]]  {\r\n",
       "package \"System\" as E2  [[psysml:50d5e3ed-2307-46ca-b041-8429ee229b8d ]]  {\r\n",
       "package \"Application Layer\" as E3  [[psysml:bf62b3a1-f030-4eff-b8ce-ffbdff107a6f ]]  {\r\n",
       "}\r\n",
       "package \"Service Layer\" as E4  [[psysml:471b2f11-dcf9-418e-881d-688bae838b3f ]]  {\r\n",
       "}\r\n",
       "package \"Data Layer\" as E5  [[psysml:da794142-8c7c-4611-9580-abeb242da5ef ]]  {\r\n",
       "}\r\n",
       "}\r\n",
       "comp usage \"x\" as E6  <<(T,blue)attribute>> [[psysml:ee6e66ae-6a4f-4999-8c9e-f85171cea95e ]] {\r\n",
       "}\r\n",
       "comp usage \"y\" as E7  <<(T,blue)attribute>> [[psysml:da3973fb-164e-4f16-bb62-2f8eaef60bc8 ]] {\r\n",
       "}\r\n",
       "comp usage \"z\" as E8  <<(T,blue)attribute>> [[psysml:8698e020-730f-4ac9-88e5-943d82c20ca0 ]] {\r\n",
       "}\r\n",
       "E3 ..>> E4 [[psysml:f56c438f-52f0-4453-9ce2-0999d9bfb233 ]] : <<depend>>\r\n",
       "E4 ..>> E5 [[psysml:149727ef-4884-4150-ac87-83ab56bc940c ]] : <<depend>>\r\n",
       "E8 ..>> E6 [[psysml:6d264d90-cc53-4d32-95c3-fe1ad979e012 ]] : <<depend>>\r\n",
       "E8 ..>> E7 [[psysml:6d264d90-cc53-4d32-95c3-fe1ad979e012 ]] : <<depend>>\r\n",
       "}\r\n",
       "@enduml\r\n",
       "\n",
       "PlantUML version 1.2020.13(Sat Jun 13 12:26:38 UTC 2020)\n",
       "(EPL source distribution)\n",
       "Java Runtime: OpenJDK Runtime Environment\n",
       "JVM: OpenJDK 64-Bit Server VM\n",
       "Default Encoding: UTF-8\n",
       "Language: en\n",
       "Country: null\n",
       "--></g></svg>"
      ]
     },
     "execution_count": 14,
     "metadata": {},
     "output_type": "execute_result"
    }
   ],
   "source": [
    "%viz --style=\"POLYLINE\" --view=\"Sequence\" \"DependencyTest\""
   ]
  },
  {
   "cell_type": "code",
   "execution_count": 15,
   "id": "d0cb46de",
   "metadata": {
    "execution": {
     "iopub.execute_input": "2021-04-20T07:32:17.721987Z",
     "iopub.status.busy": "2021-04-20T07:32:17.720883Z",
     "iopub.status.idle": "2021-04-20T07:32:17.796929Z",
     "shell.execute_reply": "2021-04-20T07:32:17.797872Z"
    }
   },
   "outputs": [
    {
     "data": {
      "image/svg+xml": [
       "<?xml version=\"1.0\" encoding=\"UTF-8\" standalone=\"no\"?><svg xmlns=\"http://www.w3.org/2000/svg\" xmlns:xlink=\"http://www.w3.org/1999/xlink\" contentScriptType=\"application/ecmascript\" contentStyleType=\"text/css\" height=\"449px\" preserveAspectRatio=\"none\" style=\"width:489px;height:449px;\" version=\"1.1\" viewBox=\"0 0 489 449\" width=\"489px\" zoomAndPan=\"magnify\"><defs/><g><!--MD5=[fbc87193dbaf4d95561dea2c320d4a47]\n",
       "cluster E1--><a href=\"psysml:d56232e2-0bee-4a1a-bb9b-8eb4f38b0dfa\" target=\"_top\" title=\"psysml:d56232e2-0bee-4a1a-bb9b-8eb4f38b0dfa\" xlink:actuate=\"onRequest\" xlink:href=\"psysml:d56232e2-0bee-4a1a-bb9b-8eb4f38b0dfa\" xlink:show=\"new\" xlink:title=\"psysml:d56232e2-0bee-4a1a-bb9b-8eb4f38b0dfa\" xlink:type=\"simple\"><polygon fill=\"#FFFFFF\" points=\"16,6,156,6,163,28.2969,467,28.2969,467,437,16,437,16,6\" style=\"stroke: #000000; stroke-width: 1.5;\"/><line style=\"stroke: #000000; stroke-width: 1.5;\" x1=\"16\" x2=\"163\" y1=\"28.2969\" y2=\"28.2969\"/><text fill=\"#000000\" font-family=\"sans-serif\" font-size=\"14\" font-weight=\"bold\" lengthAdjust=\"spacingAndGlyphs\" textLength=\"134\" x=\"20\" y=\"20.9951\">DependencyTest</text></a><!--MD5=[e4f7fae6ed58524ba242bb0b0d3be6b7]\n",
       "cluster E2--><a href=\"psysml:50d5e3ed-2307-46ca-b041-8429ee229b8d\" target=\"_top\" title=\"psysml:50d5e3ed-2307-46ca-b041-8429ee229b8d\" xlink:actuate=\"onRequest\" xlink:href=\"psysml:50d5e3ed-2307-46ca-b041-8429ee229b8d\" xlink:show=\"new\" xlink:title=\"psysml:50d5e3ed-2307-46ca-b041-8429ee229b8d\" xlink:type=\"simple\"><polygon fill=\"#FFFFFF\" points=\"255,49,319,49,326,71.2969,443,71.2969,443,413,255,413,255,49\" style=\"stroke: #000000; stroke-width: 1.5;\"/><line style=\"stroke: #000000; stroke-width: 1.5;\" x1=\"255\" x2=\"326\" y1=\"71.2969\" y2=\"71.2969\"/><text fill=\"#000000\" font-family=\"sans-serif\" font-size=\"14\" font-weight=\"bold\" lengthAdjust=\"spacingAndGlyphs\" textLength=\"58\" x=\"259\" y=\"63.9951\">System</text></a><!--MD5=[60a26617385b1d2d0262a64233df1f8d]\n",
       "class E6--><a href=\"psysml:ee6e66ae-6a4f-4999-8c9e-f85171cea95e\" target=\"_top\" title=\"psysml:ee6e66ae-6a4f-4999-8c9e-f85171cea95e\" xlink:actuate=\"onRequest\" xlink:href=\"psysml:ee6e66ae-6a4f-4999-8c9e-f85171cea95e\" xlink:show=\"new\" xlink:title=\"psysml:ee6e66ae-6a4f-4999-8c9e-f85171cea95e\" xlink:type=\"simple\"><rect fill=\"#FFFFFF\" height=\"45.9375\" id=\"E6\" rx=\"10\" ry=\"10\" style=\"stroke: #383838; stroke-width: 1.5;\" width=\"71\" x=\"32.5\" y=\"217.5\"/><text fill=\"#000000\" font-family=\"sans-serif\" font-size=\"12\" font-style=\"italic\" lengthAdjust=\"spacingAndGlyphs\" textLength=\"69\" x=\"33.5\" y=\"233.6387\">«attribute»</text><text fill=\"#000000\" font-family=\"sans-serif\" font-size=\"12\" lengthAdjust=\"spacingAndGlyphs\" textLength=\"6\" x=\"65\" y=\"247.6074\">x</text><line style=\"stroke: #383838; stroke-width: 1.5;\" x1=\"33.5\" x2=\"102.5\" y1=\"255.4375\" y2=\"255.4375\"/></a><!--MD5=[2156ba9850f5573cc1fc38a6a4b2f02b]\n",
       "class E7--><a href=\"psysml:da3973fb-164e-4f16-bb62-2f8eaef60bc8\" target=\"_top\" title=\"psysml:da3973fb-164e-4f16-bb62-2f8eaef60bc8\" xlink:actuate=\"onRequest\" xlink:href=\"psysml:da3973fb-164e-4f16-bb62-2f8eaef60bc8\" xlink:show=\"new\" xlink:title=\"psysml:da3973fb-164e-4f16-bb62-2f8eaef60bc8\" xlink:type=\"simple\"><rect fill=\"#FFFFFF\" height=\"45.9375\" id=\"E7\" rx=\"10\" ry=\"10\" style=\"stroke: #383838; stroke-width: 1.5;\" width=\"71\" x=\"138.5\" y=\"217.5\"/><text fill=\"#000000\" font-family=\"sans-serif\" font-size=\"12\" font-style=\"italic\" lengthAdjust=\"spacingAndGlyphs\" textLength=\"69\" x=\"139.5\" y=\"233.6387\">«attribute»</text><text fill=\"#000000\" font-family=\"sans-serif\" font-size=\"12\" lengthAdjust=\"spacingAndGlyphs\" textLength=\"6\" x=\"171\" y=\"247.6074\">y</text><line style=\"stroke: #383838; stroke-width: 1.5;\" x1=\"139.5\" x2=\"208.5\" y1=\"255.4375\" y2=\"255.4375\"/></a><!--MD5=[b9389687b975829384b498ac4b7476b2]\n",
       "class E8--><a href=\"psysml:8698e020-730f-4ac9-88e5-943d82c20ca0\" target=\"_top\" title=\"psysml:8698e020-730f-4ac9-88e5-943d82c20ca0\" xlink:actuate=\"onRequest\" xlink:href=\"psysml:8698e020-730f-4ac9-88e5-943d82c20ca0\" xlink:show=\"new\" xlink:title=\"psysml:8698e020-730f-4ac9-88e5-943d82c20ca0\" xlink:type=\"simple\"><rect fill=\"#FFFFFF\" height=\"45.9375\" id=\"E8\" rx=\"10\" ry=\"10\" style=\"stroke: #383838; stroke-width: 1.5;\" width=\"71\" x=\"84.5\" y=\"87.5\"/><text fill=\"#000000\" font-family=\"sans-serif\" font-size=\"12\" font-style=\"italic\" lengthAdjust=\"spacingAndGlyphs\" textLength=\"69\" x=\"85.5\" y=\"103.6387\">«attribute»</text><text fill=\"#000000\" font-family=\"sans-serif\" font-size=\"12\" lengthAdjust=\"spacingAndGlyphs\" textLength=\"5\" x=\"117.5\" y=\"117.6074\">z</text><line style=\"stroke: #383838; stroke-width: 1.5;\" x1=\"85.5\" x2=\"154.5\" y1=\"125.4375\" y2=\"125.4375\"/></a><a href=\"psysml:bf62b3a1-f030-4eff-b8ce-ffbdff107a6f\" target=\"_top\" title=\"psysml:bf62b3a1-f030-4eff-b8ce-ffbdff107a6f\" xlink:actuate=\"onRequest\" xlink:href=\"psysml:bf62b3a1-f030-4eff-b8ce-ffbdff107a6f\" xlink:show=\"new\" xlink:title=\"psysml:bf62b3a1-f030-4eff-b8ce-ffbdff107a6f\" xlink:type=\"simple\"><polygon fill=\"#FFFFFF\" points=\"271,84,413,84,420,106.2969,427,106.2969,427,136.5938,271,136.5938,271,84\" style=\"stroke: #000000; stroke-width: 1.5;\"/><line style=\"stroke: #000000; stroke-width: 1.5;\" x1=\"271\" x2=\"420\" y1=\"106.2969\" y2=\"106.2969\"/><text fill=\"#000000\" font-family=\"sans-serif\" font-size=\"14\" font-weight=\"bold\" lengthAdjust=\"spacingAndGlyphs\" textLength=\"136\" x=\"275\" y=\"98.9951\">Application Layer</text></a><a href=\"psysml:471b2f11-dcf9-418e-881d-688bae838b3f\" target=\"_top\" title=\"psysml:471b2f11-dcf9-418e-881d-688bae838b3f\" xlink:actuate=\"onRequest\" xlink:href=\"psysml:471b2f11-dcf9-418e-881d-688bae838b3f\" xlink:show=\"new\" xlink:title=\"psysml:471b2f11-dcf9-418e-881d-688bae838b3f\" xlink:type=\"simple\"><polygon fill=\"#FFFFFF\" points=\"285,214,399,214,406,236.2969,413,236.2969,413,266.5938,285,266.5938,285,214\" style=\"stroke: #000000; stroke-width: 1.5;\"/><line style=\"stroke: #000000; stroke-width: 1.5;\" x1=\"285\" x2=\"406\" y1=\"236.2969\" y2=\"236.2969\"/><text fill=\"#000000\" font-family=\"sans-serif\" font-size=\"14\" font-weight=\"bold\" lengthAdjust=\"spacingAndGlyphs\" textLength=\"108\" x=\"289\" y=\"228.9951\">Service Layer</text></a><a href=\"psysml:da794142-8c7c-4611-9580-abeb242da5ef\" target=\"_top\" title=\"psysml:da794142-8c7c-4611-9580-abeb242da5ef\" xlink:actuate=\"onRequest\" xlink:href=\"psysml:da794142-8c7c-4611-9580-abeb242da5ef\" xlink:show=\"new\" xlink:title=\"psysml:da794142-8c7c-4611-9580-abeb242da5ef\" xlink:type=\"simple\"><polygon fill=\"#FFFFFF\" points=\"297,344,387,344,394,366.2969,401,366.2969,401,396.5938,297,396.5938,297,344\" style=\"stroke: #000000; stroke-width: 1.5;\"/><line style=\"stroke: #000000; stroke-width: 1.5;\" x1=\"297\" x2=\"394\" y1=\"366.2969\" y2=\"366.2969\"/><text fill=\"#000000\" font-family=\"sans-serif\" font-size=\"14\" font-weight=\"bold\" lengthAdjust=\"spacingAndGlyphs\" textLength=\"84\" x=\"301\" y=\"358.9951\">Data Layer</text></a><!--MD5=[af87c684e3b0d8be13c1a698a818ef1e]\n",
       "link E3 to E4--><a href=\"psysml:f56c438f-52f0-4453-9ce2-0999d9bfb233\" target=\"_top\" title=\"psysml:f56c438f-52f0-4453-9ce2-0999d9bfb233\" xlink:actuate=\"onRequest\" xlink:href=\"psysml:f56c438f-52f0-4453-9ce2-0999d9bfb233\" xlink:show=\"new\" xlink:title=\"psysml:f56c438f-52f0-4453-9ce2-0999d9bfb233\" xlink:type=\"simple\"><path d=\"M349,137.1 C349,156.8 349,184.22 349,205.73 \" fill=\"none\" id=\"E3-&gt;E4\" style=\"stroke: #383838; stroke-width: 1.0; stroke-dasharray: 7.0,7.0;\"/><polygon fill=\"#383838\" points=\"349,213.95,352,205.95,346,205.95,349,213.95\" style=\"stroke: #383838; stroke-width: 1.0;\"/><text fill=\"#000000\" font-family=\"sans-serif\" font-size=\"13\" lengthAdjust=\"spacingAndGlyphs\" textLength=\"64\" x=\"350\" y=\"180.0669\">«depend»</text></a><!--MD5=[1b7591eae5389033d8d09a9d6721a717]\n",
       "link E4 to E5--><a href=\"psysml:149727ef-4884-4150-ac87-83ab56bc940c\" target=\"_top\" title=\"psysml:149727ef-4884-4150-ac87-83ab56bc940c\" xlink:actuate=\"onRequest\" xlink:href=\"psysml:149727ef-4884-4150-ac87-83ab56bc940c\" xlink:show=\"new\" xlink:title=\"psysml:149727ef-4884-4150-ac87-83ab56bc940c\" xlink:type=\"simple\"><path d=\"M349,267.1 C349,286.8 349,314.22 349,335.73 \" fill=\"none\" id=\"E4-&gt;E5\" style=\"stroke: #383838; stroke-width: 1.0; stroke-dasharray: 7.0,7.0;\"/><polygon fill=\"#383838\" points=\"349,343.95,352,335.95,346,335.95,349,343.95\" style=\"stroke: #383838; stroke-width: 1.0;\"/><text fill=\"#000000\" font-family=\"sans-serif\" font-size=\"13\" lengthAdjust=\"spacingAndGlyphs\" textLength=\"64\" x=\"350\" y=\"310.0669\">«depend»</text></a><!--MD5=[c5e8897d989ce984f93528998a7150fe]\n",
       "link E8 to E6--><a href=\"psysml:6d264d90-cc53-4d32-95c3-fe1ad979e012\" target=\"_top\" title=\"psysml:6d264d90-cc53-4d32-95c3-fe1ad979e012\" xlink:actuate=\"onRequest\" xlink:href=\"psysml:6d264d90-cc53-4d32-95c3-fe1ad979e012\" xlink:show=\"new\" xlink:title=\"psysml:6d264d90-cc53-4d32-95c3-fe1ad979e012\" xlink:type=\"simple\"><path d=\"M97.55,133.75 C81.97,149.19 64,167 64,167 C64,167 64,184 64,184 C64,184 64.88,196.21 65.81,209.18 \" fill=\"none\" id=\"E8-&gt;E6\" style=\"stroke: #383838; stroke-width: 1.0; stroke-dasharray: 7.0,7.0;\"/><polygon fill=\"#383838\" points=\"66.4,217.25,68.8203,209.056,62.8357,209.485,66.4,217.25\" style=\"stroke: #383838; stroke-width: 1.0;\"/><text fill=\"#000000\" font-family=\"sans-serif\" font-size=\"13\" lengthAdjust=\"spacingAndGlyphs\" textLength=\"64\" x=\"65\" y=\"180.0669\">«depend»</text></a><!--MD5=[bfa3c8b0d15052fdf50ae9310b491027]\n",
       "link E8 to E7--><a href=\"psysml:6d264d90-cc53-4d32-95c3-fe1ad979e012\" target=\"_top\" title=\"psysml:6d264d90-cc53-4d32-95c3-fe1ad979e012\" xlink:actuate=\"onRequest\" xlink:href=\"psysml:6d264d90-cc53-4d32-95c3-fe1ad979e012\" xlink:show=\"new\" xlink:title=\"psysml:6d264d90-cc53-4d32-95c3-fe1ad979e012\" xlink:type=\"simple\"><path d=\"M129.28,133.5 C138.17,154.57 151.64,186.5 161.47,209.81 \" fill=\"none\" id=\"E8-&gt;E7\" style=\"stroke: #383838; stroke-width: 1.0; stroke-dasharray: 7.0,7.0;\"/><polygon fill=\"#383838\" points=\"164.66,217.35,164.3241,208.8126,158.7933,211.1385,164.66,217.35\" style=\"stroke: #383838; stroke-width: 1.0;\"/><text fill=\"#000000\" font-family=\"sans-serif\" font-size=\"13\" lengthAdjust=\"spacingAndGlyphs\" textLength=\"64\" x=\"151\" y=\"180.0669\">«depend»</text></a><!--MD5=[afbd2558eb5da3e5b192e26cec9fb054]\n",
       "@startuml\r\n",
       "skinparam linetype polyline\r\n",
       "skinparam monochrome true\r\n",
       "skinparam classbackgroundcolor white\r\n",
       "skinparam shadowing false\r\n",
       "skinparam wrapWidth 300\r\n",
       "hide circle\r\n",
       "\r\n",
       "package \"DependencyTest\" as E1  [[psysml:d56232e2-0bee-4a1a-bb9b-8eb4f38b0dfa ]]  {\r\n",
       "package \"System\" as E2  [[psysml:50d5e3ed-2307-46ca-b041-8429ee229b8d ]]  {\r\n",
       "package \"Application Layer\" as E3  [[psysml:bf62b3a1-f030-4eff-b8ce-ffbdff107a6f ]]  {\r\n",
       "}\r\n",
       "package \"Service Layer\" as E4  [[psysml:471b2f11-dcf9-418e-881d-688bae838b3f ]]  {\r\n",
       "}\r\n",
       "package \"Data Layer\" as E5  [[psysml:da794142-8c7c-4611-9580-abeb242da5ef ]]  {\r\n",
       "}\r\n",
       "}\r\n",
       "comp usage \"x\" as E6  <<(T,blue)attribute>> [[psysml:ee6e66ae-6a4f-4999-8c9e-f85171cea95e ]] {\r\n",
       "}\r\n",
       "comp usage \"y\" as E7  <<(T,blue)attribute>> [[psysml:da3973fb-164e-4f16-bb62-2f8eaef60bc8 ]] {\r\n",
       "}\r\n",
       "comp usage \"z\" as E8  <<(T,blue)attribute>> [[psysml:8698e020-730f-4ac9-88e5-943d82c20ca0 ]] {\r\n",
       "}\r\n",
       "E3 ..>> E4 [[psysml:f56c438f-52f0-4453-9ce2-0999d9bfb233 ]] : <<depend>>\r\n",
       "E4 ..>> E5 [[psysml:149727ef-4884-4150-ac87-83ab56bc940c ]] : <<depend>>\r\n",
       "E8 ..>> E6 [[psysml:6d264d90-cc53-4d32-95c3-fe1ad979e012 ]] : <<depend>>\r\n",
       "E8 ..>> E7 [[psysml:6d264d90-cc53-4d32-95c3-fe1ad979e012 ]] : <<depend>>\r\n",
       "}\r\n",
       "@enduml\r\n",
       "\n",
       "PlantUML version 1.2020.13(Sat Jun 13 12:26:38 UTC 2020)\n",
       "(EPL source distribution)\n",
       "Java Runtime: OpenJDK Runtime Environment\n",
       "JVM: OpenJDK 64-Bit Server VM\n",
       "Default Encoding: UTF-8\n",
       "Language: en\n",
       "Country: null\n",
       "--></g></svg>"
      ]
     },
     "execution_count": 15,
     "metadata": {},
     "output_type": "execute_result"
    }
   ],
   "source": [
    "%viz --style=\"POLYLINE\" --view=\"MIXED\" \"DependencyTest\""
   ]
  },
  {
   "cell_type": "code",
   "execution_count": 16,
   "id": "1da1a6ec",
   "metadata": {
    "execution": {
     "iopub.execute_input": "2021-04-20T07:32:17.852710Z",
     "iopub.status.busy": "2021-04-20T07:32:17.852164Z",
     "iopub.status.idle": "2021-04-20T07:32:17.929897Z",
     "shell.execute_reply": "2021-04-20T07:32:17.928139Z"
    }
   },
   "outputs": [
    {
     "data": {
      "image/svg+xml": [
       "<?xml version=\"1.0\" encoding=\"UTF-8\" standalone=\"no\"?><svg xmlns=\"http://www.w3.org/2000/svg\" xmlns:xlink=\"http://www.w3.org/1999/xlink\" contentScriptType=\"application/ecmascript\" contentStyleType=\"text/css\" height=\"328px\" preserveAspectRatio=\"none\" style=\"width:758px;height:328px;\" version=\"1.1\" viewBox=\"0 0 758 328\" width=\"758px\" zoomAndPan=\"magnify\"><defs/><g><!--MD5=[fbc87193dbaf4d95561dea2c320d4a47]\n",
       "cluster E1--><a href=\"psysml:d56232e2-0bee-4a1a-bb9b-8eb4f38b0dfa\" target=\"_top\" title=\"psysml:d56232e2-0bee-4a1a-bb9b-8eb4f38b0dfa\" xlink:actuate=\"onRequest\" xlink:href=\"psysml:d56232e2-0bee-4a1a-bb9b-8eb4f38b0dfa\" xlink:show=\"new\" xlink:title=\"psysml:d56232e2-0bee-4a1a-bb9b-8eb4f38b0dfa\" xlink:type=\"simple\"><polygon fill=\"#FFFFFF\" points=\"16,6,156,6,163,28.2969,736,28.2969,736,316,16,316,16,6\" style=\"stroke: #000000; stroke-width: 1.5;\"/><line style=\"stroke: #000000; stroke-width: 1.5;\" x1=\"16\" x2=\"163\" y1=\"28.2969\" y2=\"28.2969\"/><text fill=\"#000000\" font-family=\"sans-serif\" font-size=\"14\" font-weight=\"bold\" lengthAdjust=\"spacingAndGlyphs\" textLength=\"134\" x=\"20\" y=\"20.9951\">DependencyTest</text></a><!--MD5=[e4f7fae6ed58524ba242bb0b0d3be6b7]\n",
       "cluster E2--><a href=\"psysml:50d5e3ed-2307-46ca-b041-8429ee229b8d\" target=\"_top\" title=\"psysml:50d5e3ed-2307-46ca-b041-8429ee229b8d\" xlink:actuate=\"onRequest\" xlink:href=\"psysml:50d5e3ed-2307-46ca-b041-8429ee229b8d\" xlink:show=\"new\" xlink:title=\"psysml:50d5e3ed-2307-46ca-b041-8429ee229b8d\" xlink:type=\"simple\"><polygon fill=\"#FFFFFF\" points=\"40,49,104,49,111,71.2969,712,71.2969,712,154,40,154,40,49\" style=\"stroke: #000000; stroke-width: 1.5;\"/><line style=\"stroke: #000000; stroke-width: 1.5;\" x1=\"40\" x2=\"111\" y1=\"71.2969\" y2=\"71.2969\"/><text fill=\"#000000\" font-family=\"sans-serif\" font-size=\"14\" font-weight=\"bold\" lengthAdjust=\"spacingAndGlyphs\" textLength=\"58\" x=\"44\" y=\"63.9951\">System</text></a><!--MD5=[60a26617385b1d2d0262a64233df1f8d]\n",
       "class E6--><a href=\"psysml:ee6e66ae-6a4f-4999-8c9e-f85171cea95e\" target=\"_top\" title=\"psysml:ee6e66ae-6a4f-4999-8c9e-f85171cea95e\" xlink:actuate=\"onRequest\" xlink:href=\"psysml:ee6e66ae-6a4f-4999-8c9e-f85171cea95e\" xlink:show=\"new\" xlink:title=\"psysml:ee6e66ae-6a4f-4999-8c9e-f85171cea95e\" xlink:type=\"simple\"><rect fill=\"#FFFFFF\" height=\"45.9375\" id=\"E6\" rx=\"10\" ry=\"10\" style=\"stroke: #383838; stroke-width: 1.5;\" width=\"71\" x=\"366.5\" y=\"254\"/><text fill=\"#000000\" font-family=\"sans-serif\" font-size=\"12\" font-style=\"italic\" lengthAdjust=\"spacingAndGlyphs\" textLength=\"69\" x=\"367.5\" y=\"270.1387\">«attribute»</text><text fill=\"#000000\" font-family=\"sans-serif\" font-size=\"12\" lengthAdjust=\"spacingAndGlyphs\" textLength=\"6\" x=\"399\" y=\"284.1074\">x</text><line style=\"stroke: #383838; stroke-width: 1.5;\" x1=\"367.5\" x2=\"436.5\" y1=\"291.9375\" y2=\"291.9375\"/></a><!--MD5=[2156ba9850f5573cc1fc38a6a4b2f02b]\n",
       "class E7--><a href=\"psysml:da3973fb-164e-4f16-bb62-2f8eaef60bc8\" target=\"_top\" title=\"psysml:da3973fb-164e-4f16-bb62-2f8eaef60bc8\" xlink:actuate=\"onRequest\" xlink:href=\"psysml:da3973fb-164e-4f16-bb62-2f8eaef60bc8\" xlink:show=\"new\" xlink:title=\"psysml:da3973fb-164e-4f16-bb62-2f8eaef60bc8\" xlink:type=\"simple\"><rect fill=\"#FFFFFF\" height=\"45.9375\" id=\"E7\" rx=\"10\" ry=\"10\" style=\"stroke: #383838; stroke-width: 1.5;\" width=\"71\" x=\"366.5\" y=\"173\"/><text fill=\"#000000\" font-family=\"sans-serif\" font-size=\"12\" font-style=\"italic\" lengthAdjust=\"spacingAndGlyphs\" textLength=\"69\" x=\"367.5\" y=\"189.1387\">«attribute»</text><text fill=\"#000000\" font-family=\"sans-serif\" font-size=\"12\" lengthAdjust=\"spacingAndGlyphs\" textLength=\"6\" x=\"399\" y=\"203.1074\">y</text><line style=\"stroke: #383838; stroke-width: 1.5;\" x1=\"367.5\" x2=\"436.5\" y1=\"210.9375\" y2=\"210.9375\"/></a><!--MD5=[b9389687b975829384b498ac4b7476b2]\n",
       "class E8--><a href=\"psysml:8698e020-730f-4ac9-88e5-943d82c20ca0\" target=\"_top\" title=\"psysml:8698e020-730f-4ac9-88e5-943d82c20ca0\" xlink:actuate=\"onRequest\" xlink:href=\"psysml:8698e020-730f-4ac9-88e5-943d82c20ca0\" xlink:show=\"new\" xlink:title=\"psysml:8698e020-730f-4ac9-88e5-943d82c20ca0\" xlink:type=\"simple\"><rect fill=\"#FFFFFF\" height=\"45.9375\" id=\"E8\" rx=\"10\" ry=\"10\" style=\"stroke: #383838; stroke-width: 1.5;\" width=\"71\" x=\"98.5\" y=\"206\"/><text fill=\"#000000\" font-family=\"sans-serif\" font-size=\"12\" font-style=\"italic\" lengthAdjust=\"spacingAndGlyphs\" textLength=\"69\" x=\"99.5\" y=\"222.1387\">«attribute»</text><text fill=\"#000000\" font-family=\"sans-serif\" font-size=\"12\" lengthAdjust=\"spacingAndGlyphs\" textLength=\"5\" x=\"131.5\" y=\"236.1074\">z</text><line style=\"stroke: #383838; stroke-width: 1.5;\" x1=\"99.5\" x2=\"168.5\" y1=\"243.9375\" y2=\"243.9375\"/></a><a href=\"psysml:bf62b3a1-f030-4eff-b8ce-ffbdff107a6f\" target=\"_top\" title=\"psysml:bf62b3a1-f030-4eff-b8ce-ffbdff107a6f\" xlink:actuate=\"onRequest\" xlink:href=\"psysml:bf62b3a1-f030-4eff-b8ce-ffbdff107a6f\" xlink:show=\"new\" xlink:title=\"psysml:bf62b3a1-f030-4eff-b8ce-ffbdff107a6f\" xlink:type=\"simple\"><polygon fill=\"#FFFFFF\" points=\"56,84.5,198,84.5,205,106.7969,212,106.7969,212,137.0938,56,137.0938,56,84.5\" style=\"stroke: #000000; stroke-width: 1.5;\"/><line style=\"stroke: #000000; stroke-width: 1.5;\" x1=\"56\" x2=\"205\" y1=\"106.7969\" y2=\"106.7969\"/><text fill=\"#000000\" font-family=\"sans-serif\" font-size=\"14\" font-weight=\"bold\" lengthAdjust=\"spacingAndGlyphs\" textLength=\"136\" x=\"60\" y=\"99.4951\">Application Layer</text></a><a href=\"psysml:471b2f11-dcf9-418e-881d-688bae838b3f\" target=\"_top\" title=\"psysml:471b2f11-dcf9-418e-881d-688bae838b3f\" xlink:actuate=\"onRequest\" xlink:href=\"psysml:471b2f11-dcf9-418e-881d-688bae838b3f\" xlink:show=\"new\" xlink:title=\"psysml:471b2f11-dcf9-418e-881d-688bae838b3f\" xlink:type=\"simple\"><polygon fill=\"#FFFFFF\" points=\"338,84.5,452,84.5,459,106.7969,466,106.7969,466,137.0938,338,137.0938,338,84.5\" style=\"stroke: #000000; stroke-width: 1.5;\"/><line style=\"stroke: #000000; stroke-width: 1.5;\" x1=\"338\" x2=\"459\" y1=\"106.7969\" y2=\"106.7969\"/><text fill=\"#000000\" font-family=\"sans-serif\" font-size=\"14\" font-weight=\"bold\" lengthAdjust=\"spacingAndGlyphs\" textLength=\"108\" x=\"342\" y=\"99.4951\">Service Layer</text></a><a href=\"psysml:da794142-8c7c-4611-9580-abeb242da5ef\" target=\"_top\" title=\"psysml:da794142-8c7c-4611-9580-abeb242da5ef\" xlink:actuate=\"onRequest\" xlink:href=\"psysml:da794142-8c7c-4611-9580-abeb242da5ef\" xlink:show=\"new\" xlink:title=\"psysml:da794142-8c7c-4611-9580-abeb242da5ef\" xlink:type=\"simple\"><polygon fill=\"#FFFFFF\" points=\"592,84.5,682,84.5,689,106.7969,696,106.7969,696,137.0938,592,137.0938,592,84.5\" style=\"stroke: #000000; stroke-width: 1.5;\"/><line style=\"stroke: #000000; stroke-width: 1.5;\" x1=\"592\" x2=\"689\" y1=\"106.7969\" y2=\"106.7969\"/><text fill=\"#000000\" font-family=\"sans-serif\" font-size=\"14\" font-weight=\"bold\" lengthAdjust=\"spacingAndGlyphs\" textLength=\"84\" x=\"596\" y=\"99.4951\">Data Layer</text></a><!--MD5=[af87c684e3b0d8be13c1a698a818ef1e]\n",
       "link E3 to E4--><a href=\"psysml:f56c438f-52f0-4453-9ce2-0999d9bfb233\" target=\"_top\" title=\"psysml:f56c438f-52f0-4453-9ce2-0999d9bfb233\" xlink:actuate=\"onRequest\" xlink:href=\"psysml:f56c438f-52f0-4453-9ce2-0999d9bfb233\" xlink:show=\"new\" xlink:title=\"psysml:f56c438f-52f0-4453-9ce2-0999d9bfb233\" xlink:type=\"simple\"><path d=\"M212.3,111 C249.37,111 293.5,111 329.76,111 \" fill=\"none\" id=\"E3-&gt;E4\" style=\"stroke: #383838; stroke-width: 1.0; stroke-dasharray: 7.0,7.0;\"/><polygon fill=\"#383838\" points=\"337.84,111,329.84,108,329.84,114,337.84,111\" style=\"stroke: #383838; stroke-width: 1.0;\"/><text fill=\"#000000\" font-family=\"sans-serif\" font-size=\"13\" lengthAdjust=\"spacingAndGlyphs\" textLength=\"64\" x=\"243\" y=\"107.0669\">«depend»</text></a><!--MD5=[1b7591eae5389033d8d09a9d6721a717]\n",
       "link E4 to E5--><a href=\"psysml:149727ef-4884-4150-ac87-83ab56bc940c\" target=\"_top\" title=\"psysml:149727ef-4884-4150-ac87-83ab56bc940c\" xlink:actuate=\"onRequest\" xlink:href=\"psysml:149727ef-4884-4150-ac87-83ab56bc940c\" xlink:show=\"new\" xlink:title=\"psysml:149727ef-4884-4150-ac87-83ab56bc940c\" xlink:type=\"simple\"><path d=\"M466.06,111 C502.32,111 547.6,111 583.28,111 \" fill=\"none\" id=\"E4-&gt;E5\" style=\"stroke: #383838; stroke-width: 1.0; stroke-dasharray: 7.0,7.0;\"/><polygon fill=\"#383838\" points=\"591.67,111,583.67,108,583.67,114,591.67,111\" style=\"stroke: #383838; stroke-width: 1.0;\"/><text fill=\"#000000\" font-family=\"sans-serif\" font-size=\"13\" lengthAdjust=\"spacingAndGlyphs\" textLength=\"64\" x=\"497\" y=\"107.0669\">«depend»</text></a><!--MD5=[c5e8897d989ce984f93528998a7150fe]\n",
       "link E8 to E6--><a href=\"psysml:6d264d90-cc53-4d32-95c3-fe1ad979e012\" target=\"_top\" title=\"psysml:6d264d90-cc53-4d32-95c3-fe1ad979e012\" xlink:actuate=\"onRequest\" xlink:href=\"psysml:6d264d90-cc53-4d32-95c3-fe1ad979e012\" xlink:show=\"new\" xlink:title=\"psysml:6d264d90-cc53-4d32-95c3-fe1ad979e012\" xlink:type=\"simple\"><path d=\"M169.5,235.23 C217.81,243.94 305.54,259.77 358.03,269.25 \" fill=\"none\" id=\"E8-&gt;E6\" style=\"stroke: #383838; stroke-width: 1.0; stroke-dasharray: 7.0,7.0;\"/><polygon fill=\"#383838\" points=\"366.14,270.71,358.7966,266.3425,357.7356,272.248,366.14,270.71\" style=\"stroke: #383838; stroke-width: 1.0;\"/><text fill=\"#000000\" font-family=\"sans-serif\" font-size=\"13\" lengthAdjust=\"spacingAndGlyphs\" textLength=\"64\" x=\"243\" y=\"245.0669\">«depend»</text></a><!--MD5=[bfa3c8b0d15052fdf50ae9310b491027]\n",
       "link E8 to E7--><a href=\"psysml:6d264d90-cc53-4d32-95c3-fe1ad979e012\" target=\"_top\" title=\"psysml:6d264d90-cc53-4d32-95c3-fe1ad979e012\" xlink:actuate=\"onRequest\" xlink:href=\"psysml:6d264d90-cc53-4d32-95c3-fe1ad979e012\" xlink:show=\"new\" xlink:title=\"psysml:6d264d90-cc53-4d32-95c3-fe1ad979e012\" xlink:type=\"simple\"><path d=\"M169.5,224.72 C217.81,218.73 305.54,207.84 358.03,201.33 \" fill=\"none\" id=\"E8-&gt;E7\" style=\"stroke: #383838; stroke-width: 1.0; stroke-dasharray: 7.0,7.0;\"/><polygon fill=\"#383838\" points=\"366.14,200.33,357.8314,198.3381,358.5704,204.2924,366.14,200.33\" style=\"stroke: #383838; stroke-width: 1.0;\"/><text fill=\"#000000\" font-family=\"sans-serif\" font-size=\"13\" lengthAdjust=\"spacingAndGlyphs\" textLength=\"64\" x=\"243\" y=\"204.0669\">«depend»</text></a><!--MD5=[d725dcfb327667e8c2132f8ebe6c9c7d]\n",
       "@startuml\r\n",
       "left to right direction\r\n",
       "skinparam monochrome true\r\n",
       "skinparam classbackgroundcolor white\r\n",
       "skinparam shadowing false\r\n",
       "skinparam wrapWidth 300\r\n",
       "hide circle\r\n",
       "\r\n",
       "package \"DependencyTest\" as E1  [[psysml:d56232e2-0bee-4a1a-bb9b-8eb4f38b0dfa ]]  {\r\n",
       "package \"System\" as E2  [[psysml:50d5e3ed-2307-46ca-b041-8429ee229b8d ]]  {\r\n",
       "package \"Application Layer\" as E3  [[psysml:bf62b3a1-f030-4eff-b8ce-ffbdff107a6f ]]  {\r\n",
       "}\r\n",
       "package \"Service Layer\" as E4  [[psysml:471b2f11-dcf9-418e-881d-688bae838b3f ]]  {\r\n",
       "}\r\n",
       "package \"Data Layer\" as E5  [[psysml:da794142-8c7c-4611-9580-abeb242da5ef ]]  {\r\n",
       "}\r\n",
       "}\r\n",
       "comp usage \"x\" as E6  <<(T,blue)attribute>> [[psysml:ee6e66ae-6a4f-4999-8c9e-f85171cea95e ]] {\r\n",
       "}\r\n",
       "comp usage \"y\" as E7  <<(T,blue)attribute>> [[psysml:da3973fb-164e-4f16-bb62-2f8eaef60bc8 ]] {\r\n",
       "}\r\n",
       "comp usage \"z\" as E8  <<(T,blue)attribute>> [[psysml:8698e020-730f-4ac9-88e5-943d82c20ca0 ]] {\r\n",
       "}\r\n",
       "E3 ..>> E4 [[psysml:f56c438f-52f0-4453-9ce2-0999d9bfb233 ]] : <<depend>>\r\n",
       "E4 ..>> E5 [[psysml:149727ef-4884-4150-ac87-83ab56bc940c ]] : <<depend>>\r\n",
       "E8 ..>> E6 [[psysml:6d264d90-cc53-4d32-95c3-fe1ad979e012 ]] : <<depend>>\r\n",
       "E8 ..>> E7 [[psysml:6d264d90-cc53-4d32-95c3-fe1ad979e012 ]] : <<depend>>\r\n",
       "}\r\n",
       "@enduml\r\n",
       "\n",
       "PlantUML version 1.2020.13(Sat Jun 13 12:26:38 UTC 2020)\n",
       "(EPL source distribution)\n",
       "Java Runtime: OpenJDK Runtime Environment\n",
       "JVM: OpenJDK 64-Bit Server VM\n",
       "Default Encoding: UTF-8\n",
       "Language: en\n",
       "Country: null\n",
       "--></g></svg>"
      ]
     },
     "execution_count": 16,
     "metadata": {},
     "output_type": "execute_result"
    }
   ],
   "source": [
    "%viz --style=\"LR\" --view=\"Default\" \"DependencyTest\""
   ]
  },
  {
   "cell_type": "code",
   "execution_count": 17,
   "id": "f58465eb",
   "metadata": {
    "execution": {
     "iopub.execute_input": "2021-04-20T07:32:17.983646Z",
     "iopub.status.busy": "2021-04-20T07:32:17.982661Z",
     "iopub.status.idle": "2021-04-20T07:32:18.067655Z",
     "shell.execute_reply": "2021-04-20T07:32:18.064740Z"
    }
   },
   "outputs": [
    {
     "data": {
      "image/svg+xml": [
       "<?xml version=\"1.0\" encoding=\"UTF-8\" standalone=\"no\"?><svg xmlns=\"http://www.w3.org/2000/svg\" xmlns:xlink=\"http://www.w3.org/1999/xlink\" contentScriptType=\"application/ecmascript\" contentStyleType=\"text/css\" height=\"328px\" preserveAspectRatio=\"none\" style=\"width:758px;height:328px;\" version=\"1.1\" viewBox=\"0 0 758 328\" width=\"758px\" zoomAndPan=\"magnify\"><defs/><g><!--MD5=[fbc87193dbaf4d95561dea2c320d4a47]\n",
       "cluster E1--><a href=\"psysml:d56232e2-0bee-4a1a-bb9b-8eb4f38b0dfa\" target=\"_top\" title=\"psysml:d56232e2-0bee-4a1a-bb9b-8eb4f38b0dfa\" xlink:actuate=\"onRequest\" xlink:href=\"psysml:d56232e2-0bee-4a1a-bb9b-8eb4f38b0dfa\" xlink:show=\"new\" xlink:title=\"psysml:d56232e2-0bee-4a1a-bb9b-8eb4f38b0dfa\" xlink:type=\"simple\"><polygon fill=\"#FFFFFF\" points=\"16,6,156,6,163,28.2969,736,28.2969,736,316,16,316,16,6\" style=\"stroke: #000000; stroke-width: 1.5;\"/><line style=\"stroke: #000000; stroke-width: 1.5;\" x1=\"16\" x2=\"163\" y1=\"28.2969\" y2=\"28.2969\"/><text fill=\"#000000\" font-family=\"sans-serif\" font-size=\"14\" font-weight=\"bold\" lengthAdjust=\"spacingAndGlyphs\" textLength=\"134\" x=\"20\" y=\"20.9951\">DependencyTest</text></a><!--MD5=[e4f7fae6ed58524ba242bb0b0d3be6b7]\n",
       "cluster E2--><a href=\"psysml:50d5e3ed-2307-46ca-b041-8429ee229b8d\" target=\"_top\" title=\"psysml:50d5e3ed-2307-46ca-b041-8429ee229b8d\" xlink:actuate=\"onRequest\" xlink:href=\"psysml:50d5e3ed-2307-46ca-b041-8429ee229b8d\" xlink:show=\"new\" xlink:title=\"psysml:50d5e3ed-2307-46ca-b041-8429ee229b8d\" xlink:type=\"simple\"><polygon fill=\"#FFFFFF\" points=\"40,49,104,49,111,71.2969,712,71.2969,712,154,40,154,40,49\" style=\"stroke: #000000; stroke-width: 1.5;\"/><line style=\"stroke: #000000; stroke-width: 1.5;\" x1=\"40\" x2=\"111\" y1=\"71.2969\" y2=\"71.2969\"/><text fill=\"#000000\" font-family=\"sans-serif\" font-size=\"14\" font-weight=\"bold\" lengthAdjust=\"spacingAndGlyphs\" textLength=\"58\" x=\"44\" y=\"63.9951\">System</text></a><!--MD5=[60a26617385b1d2d0262a64233df1f8d]\n",
       "class E6--><a href=\"psysml:ee6e66ae-6a4f-4999-8c9e-f85171cea95e\" target=\"_top\" title=\"psysml:ee6e66ae-6a4f-4999-8c9e-f85171cea95e\" xlink:actuate=\"onRequest\" xlink:href=\"psysml:ee6e66ae-6a4f-4999-8c9e-f85171cea95e\" xlink:show=\"new\" xlink:title=\"psysml:ee6e66ae-6a4f-4999-8c9e-f85171cea95e\" xlink:type=\"simple\"><rect fill=\"#FFFFFF\" height=\"45.9375\" id=\"E6\" rx=\"10\" ry=\"10\" style=\"stroke: #383838; stroke-width: 1.5;\" width=\"71\" x=\"366.5\" y=\"254\"/><text fill=\"#000000\" font-family=\"sans-serif\" font-size=\"12\" font-style=\"italic\" lengthAdjust=\"spacingAndGlyphs\" textLength=\"69\" x=\"367.5\" y=\"270.1387\">«attribute»</text><text fill=\"#000000\" font-family=\"sans-serif\" font-size=\"12\" lengthAdjust=\"spacingAndGlyphs\" textLength=\"6\" x=\"399\" y=\"284.1074\">x</text><line style=\"stroke: #383838; stroke-width: 1.5;\" x1=\"367.5\" x2=\"436.5\" y1=\"291.9375\" y2=\"291.9375\"/></a><!--MD5=[2156ba9850f5573cc1fc38a6a4b2f02b]\n",
       "class E7--><a href=\"psysml:da3973fb-164e-4f16-bb62-2f8eaef60bc8\" target=\"_top\" title=\"psysml:da3973fb-164e-4f16-bb62-2f8eaef60bc8\" xlink:actuate=\"onRequest\" xlink:href=\"psysml:da3973fb-164e-4f16-bb62-2f8eaef60bc8\" xlink:show=\"new\" xlink:title=\"psysml:da3973fb-164e-4f16-bb62-2f8eaef60bc8\" xlink:type=\"simple\"><rect fill=\"#FFFFFF\" height=\"45.9375\" id=\"E7\" rx=\"10\" ry=\"10\" style=\"stroke: #383838; stroke-width: 1.5;\" width=\"71\" x=\"366.5\" y=\"173\"/><text fill=\"#000000\" font-family=\"sans-serif\" font-size=\"12\" font-style=\"italic\" lengthAdjust=\"spacingAndGlyphs\" textLength=\"69\" x=\"367.5\" y=\"189.1387\">«attribute»</text><text fill=\"#000000\" font-family=\"sans-serif\" font-size=\"12\" lengthAdjust=\"spacingAndGlyphs\" textLength=\"6\" x=\"399\" y=\"203.1074\">y</text><line style=\"stroke: #383838; stroke-width: 1.5;\" x1=\"367.5\" x2=\"436.5\" y1=\"210.9375\" y2=\"210.9375\"/></a><!--MD5=[b9389687b975829384b498ac4b7476b2]\n",
       "class E8--><a href=\"psysml:8698e020-730f-4ac9-88e5-943d82c20ca0\" target=\"_top\" title=\"psysml:8698e020-730f-4ac9-88e5-943d82c20ca0\" xlink:actuate=\"onRequest\" xlink:href=\"psysml:8698e020-730f-4ac9-88e5-943d82c20ca0\" xlink:show=\"new\" xlink:title=\"psysml:8698e020-730f-4ac9-88e5-943d82c20ca0\" xlink:type=\"simple\"><rect fill=\"#FFFFFF\" height=\"45.9375\" id=\"E8\" rx=\"10\" ry=\"10\" style=\"stroke: #383838; stroke-width: 1.5;\" width=\"71\" x=\"98.5\" y=\"206\"/><text fill=\"#000000\" font-family=\"sans-serif\" font-size=\"12\" font-style=\"italic\" lengthAdjust=\"spacingAndGlyphs\" textLength=\"69\" x=\"99.5\" y=\"222.1387\">«attribute»</text><text fill=\"#000000\" font-family=\"sans-serif\" font-size=\"12\" lengthAdjust=\"spacingAndGlyphs\" textLength=\"5\" x=\"131.5\" y=\"236.1074\">z</text><line style=\"stroke: #383838; stroke-width: 1.5;\" x1=\"99.5\" x2=\"168.5\" y1=\"243.9375\" y2=\"243.9375\"/></a><a href=\"psysml:bf62b3a1-f030-4eff-b8ce-ffbdff107a6f\" target=\"_top\" title=\"psysml:bf62b3a1-f030-4eff-b8ce-ffbdff107a6f\" xlink:actuate=\"onRequest\" xlink:href=\"psysml:bf62b3a1-f030-4eff-b8ce-ffbdff107a6f\" xlink:show=\"new\" xlink:title=\"psysml:bf62b3a1-f030-4eff-b8ce-ffbdff107a6f\" xlink:type=\"simple\"><polygon fill=\"#FFFFFF\" points=\"56,84.5,198,84.5,205,106.7969,212,106.7969,212,137.0938,56,137.0938,56,84.5\" style=\"stroke: #000000; stroke-width: 1.5;\"/><line style=\"stroke: #000000; stroke-width: 1.5;\" x1=\"56\" x2=\"205\" y1=\"106.7969\" y2=\"106.7969\"/><text fill=\"#000000\" font-family=\"sans-serif\" font-size=\"14\" font-weight=\"bold\" lengthAdjust=\"spacingAndGlyphs\" textLength=\"136\" x=\"60\" y=\"99.4951\">Application Layer</text></a><a href=\"psysml:471b2f11-dcf9-418e-881d-688bae838b3f\" target=\"_top\" title=\"psysml:471b2f11-dcf9-418e-881d-688bae838b3f\" xlink:actuate=\"onRequest\" xlink:href=\"psysml:471b2f11-dcf9-418e-881d-688bae838b3f\" xlink:show=\"new\" xlink:title=\"psysml:471b2f11-dcf9-418e-881d-688bae838b3f\" xlink:type=\"simple\"><polygon fill=\"#FFFFFF\" points=\"338,84.5,452,84.5,459,106.7969,466,106.7969,466,137.0938,338,137.0938,338,84.5\" style=\"stroke: #000000; stroke-width: 1.5;\"/><line style=\"stroke: #000000; stroke-width: 1.5;\" x1=\"338\" x2=\"459\" y1=\"106.7969\" y2=\"106.7969\"/><text fill=\"#000000\" font-family=\"sans-serif\" font-size=\"14\" font-weight=\"bold\" lengthAdjust=\"spacingAndGlyphs\" textLength=\"108\" x=\"342\" y=\"99.4951\">Service Layer</text></a><a href=\"psysml:da794142-8c7c-4611-9580-abeb242da5ef\" target=\"_top\" title=\"psysml:da794142-8c7c-4611-9580-abeb242da5ef\" xlink:actuate=\"onRequest\" xlink:href=\"psysml:da794142-8c7c-4611-9580-abeb242da5ef\" xlink:show=\"new\" xlink:title=\"psysml:da794142-8c7c-4611-9580-abeb242da5ef\" xlink:type=\"simple\"><polygon fill=\"#FFFFFF\" points=\"592,84.5,682,84.5,689,106.7969,696,106.7969,696,137.0938,592,137.0938,592,84.5\" style=\"stroke: #000000; stroke-width: 1.5;\"/><line style=\"stroke: #000000; stroke-width: 1.5;\" x1=\"592\" x2=\"689\" y1=\"106.7969\" y2=\"106.7969\"/><text fill=\"#000000\" font-family=\"sans-serif\" font-size=\"14\" font-weight=\"bold\" lengthAdjust=\"spacingAndGlyphs\" textLength=\"84\" x=\"596\" y=\"99.4951\">Data Layer</text></a><!--MD5=[af87c684e3b0d8be13c1a698a818ef1e]\n",
       "link E3 to E4--><a href=\"psysml:f56c438f-52f0-4453-9ce2-0999d9bfb233\" target=\"_top\" title=\"psysml:f56c438f-52f0-4453-9ce2-0999d9bfb233\" xlink:actuate=\"onRequest\" xlink:href=\"psysml:f56c438f-52f0-4453-9ce2-0999d9bfb233\" xlink:show=\"new\" xlink:title=\"psysml:f56c438f-52f0-4453-9ce2-0999d9bfb233\" xlink:type=\"simple\"><path d=\"M212.3,111 C249.37,111 293.5,111 329.76,111 \" fill=\"none\" id=\"E3-&gt;E4\" style=\"stroke: #383838; stroke-width: 1.0; stroke-dasharray: 7.0,7.0;\"/><polygon fill=\"#383838\" points=\"337.84,111,329.84,108,329.84,114,337.84,111\" style=\"stroke: #383838; stroke-width: 1.0;\"/><text fill=\"#000000\" font-family=\"sans-serif\" font-size=\"13\" lengthAdjust=\"spacingAndGlyphs\" textLength=\"64\" x=\"243\" y=\"107.0669\">«depend»</text></a><!--MD5=[1b7591eae5389033d8d09a9d6721a717]\n",
       "link E4 to E5--><a href=\"psysml:149727ef-4884-4150-ac87-83ab56bc940c\" target=\"_top\" title=\"psysml:149727ef-4884-4150-ac87-83ab56bc940c\" xlink:actuate=\"onRequest\" xlink:href=\"psysml:149727ef-4884-4150-ac87-83ab56bc940c\" xlink:show=\"new\" xlink:title=\"psysml:149727ef-4884-4150-ac87-83ab56bc940c\" xlink:type=\"simple\"><path d=\"M466.06,111 C502.32,111 547.6,111 583.28,111 \" fill=\"none\" id=\"E4-&gt;E5\" style=\"stroke: #383838; stroke-width: 1.0; stroke-dasharray: 7.0,7.0;\"/><polygon fill=\"#383838\" points=\"591.67,111,583.67,108,583.67,114,591.67,111\" style=\"stroke: #383838; stroke-width: 1.0;\"/><text fill=\"#000000\" font-family=\"sans-serif\" font-size=\"13\" lengthAdjust=\"spacingAndGlyphs\" textLength=\"64\" x=\"497\" y=\"107.0669\">«depend»</text></a><!--MD5=[c5e8897d989ce984f93528998a7150fe]\n",
       "link E8 to E6--><a href=\"psysml:6d264d90-cc53-4d32-95c3-fe1ad979e012\" target=\"_top\" title=\"psysml:6d264d90-cc53-4d32-95c3-fe1ad979e012\" xlink:actuate=\"onRequest\" xlink:href=\"psysml:6d264d90-cc53-4d32-95c3-fe1ad979e012\" xlink:show=\"new\" xlink:title=\"psysml:6d264d90-cc53-4d32-95c3-fe1ad979e012\" xlink:type=\"simple\"><path d=\"M169.5,235.23 C217.81,243.94 305.54,259.77 358.03,269.25 \" fill=\"none\" id=\"E8-&gt;E6\" style=\"stroke: #383838; stroke-width: 1.0; stroke-dasharray: 7.0,7.0;\"/><polygon fill=\"#383838\" points=\"366.14,270.71,358.7966,266.3425,357.7356,272.248,366.14,270.71\" style=\"stroke: #383838; stroke-width: 1.0;\"/><text fill=\"#000000\" font-family=\"sans-serif\" font-size=\"13\" lengthAdjust=\"spacingAndGlyphs\" textLength=\"64\" x=\"243\" y=\"245.0669\">«depend»</text></a><!--MD5=[bfa3c8b0d15052fdf50ae9310b491027]\n",
       "link E8 to E7--><a href=\"psysml:6d264d90-cc53-4d32-95c3-fe1ad979e012\" target=\"_top\" title=\"psysml:6d264d90-cc53-4d32-95c3-fe1ad979e012\" xlink:actuate=\"onRequest\" xlink:href=\"psysml:6d264d90-cc53-4d32-95c3-fe1ad979e012\" xlink:show=\"new\" xlink:title=\"psysml:6d264d90-cc53-4d32-95c3-fe1ad979e012\" xlink:type=\"simple\"><path d=\"M169.5,224.72 C217.81,218.73 305.54,207.84 358.03,201.33 \" fill=\"none\" id=\"E8-&gt;E7\" style=\"stroke: #383838; stroke-width: 1.0; stroke-dasharray: 7.0,7.0;\"/><polygon fill=\"#383838\" points=\"366.14,200.33,357.8314,198.3381,358.5704,204.2924,366.14,200.33\" style=\"stroke: #383838; stroke-width: 1.0;\"/><text fill=\"#000000\" font-family=\"sans-serif\" font-size=\"13\" lengthAdjust=\"spacingAndGlyphs\" textLength=\"64\" x=\"243\" y=\"204.0669\">«depend»</text></a><!--MD5=[d725dcfb327667e8c2132f8ebe6c9c7d]\n",
       "@startuml\r\n",
       "left to right direction\r\n",
       "skinparam monochrome true\r\n",
       "skinparam classbackgroundcolor white\r\n",
       "skinparam shadowing false\r\n",
       "skinparam wrapWidth 300\r\n",
       "hide circle\r\n",
       "\r\n",
       "package \"DependencyTest\" as E1  [[psysml:d56232e2-0bee-4a1a-bb9b-8eb4f38b0dfa ]]  {\r\n",
       "package \"System\" as E2  [[psysml:50d5e3ed-2307-46ca-b041-8429ee229b8d ]]  {\r\n",
       "package \"Application Layer\" as E3  [[psysml:bf62b3a1-f030-4eff-b8ce-ffbdff107a6f ]]  {\r\n",
       "}\r\n",
       "package \"Service Layer\" as E4  [[psysml:471b2f11-dcf9-418e-881d-688bae838b3f ]]  {\r\n",
       "}\r\n",
       "package \"Data Layer\" as E5  [[psysml:da794142-8c7c-4611-9580-abeb242da5ef ]]  {\r\n",
       "}\r\n",
       "}\r\n",
       "comp usage \"x\" as E6  <<(T,blue)attribute>> [[psysml:ee6e66ae-6a4f-4999-8c9e-f85171cea95e ]] {\r\n",
       "}\r\n",
       "comp usage \"y\" as E7  <<(T,blue)attribute>> [[psysml:da3973fb-164e-4f16-bb62-2f8eaef60bc8 ]] {\r\n",
       "}\r\n",
       "comp usage \"z\" as E8  <<(T,blue)attribute>> [[psysml:8698e020-730f-4ac9-88e5-943d82c20ca0 ]] {\r\n",
       "}\r\n",
       "E3 ..>> E4 [[psysml:f56c438f-52f0-4453-9ce2-0999d9bfb233 ]] : <<depend>>\r\n",
       "E4 ..>> E5 [[psysml:149727ef-4884-4150-ac87-83ab56bc940c ]] : <<depend>>\r\n",
       "E8 ..>> E6 [[psysml:6d264d90-cc53-4d32-95c3-fe1ad979e012 ]] : <<depend>>\r\n",
       "E8 ..>> E7 [[psysml:6d264d90-cc53-4d32-95c3-fe1ad979e012 ]] : <<depend>>\r\n",
       "}\r\n",
       "@enduml\r\n",
       "\n",
       "PlantUML version 1.2020.13(Sat Jun 13 12:26:38 UTC 2020)\n",
       "(EPL source distribution)\n",
       "Java Runtime: OpenJDK Runtime Environment\n",
       "JVM: OpenJDK 64-Bit Server VM\n",
       "Default Encoding: UTF-8\n",
       "Language: en\n",
       "Country: null\n",
       "--></g></svg>"
      ]
     },
     "execution_count": 17,
     "metadata": {},
     "output_type": "execute_result"
    }
   ],
   "source": [
    "%viz --style=\"LR\" --view=\"Tree\" \"DependencyTest\""
   ]
  },
  {
   "cell_type": "code",
   "execution_count": 18,
   "id": "c03b113a",
   "metadata": {
    "execution": {
     "iopub.execute_input": "2021-04-20T07:32:18.121896Z",
     "iopub.status.busy": "2021-04-20T07:32:18.120829Z",
     "iopub.status.idle": "2021-04-20T07:32:18.123513Z",
     "shell.execute_reply": "2021-04-20T07:32:18.121373Z"
    }
   },
   "outputs": [
    {
     "data": {
      "image/svg+xml": [
       "<?xml version=\"1.0\" encoding=\"UTF-8\" standalone=\"no\"?><svg xmlns=\"http://www.w3.org/2000/svg\" xmlns:xlink=\"http://www.w3.org/1999/xlink\" contentScriptType=\"application/ecmascript\" contentStyleType=\"text/css\" height=\"12px\" preserveAspectRatio=\"none\" style=\"width:12px;height:12px;\" version=\"1.1\" viewBox=\"0 0 12 12\" width=\"12px\" zoomAndPan=\"magnify\"><defs/><g><!--MD5=[19d285c9d72a204eba4e2cd117d745e8]\n",
       "@startuml\r\n",
       "left to right direction\r\n",
       "skinparam monochrome true\r\n",
       "skinparam classbackgroundcolor white\r\n",
       "skinparam shadowing false\r\n",
       "skinparam wrapWidth 300\r\n",
       "hide circle\r\n",
       "\r\n",
       "@enduml\r\n",
       "\n",
       "PlantUML version 1.2020.13(Sat Jun 13 12:26:38 UTC 2020)\n",
       "(EPL source distribution)\n",
       "Java Runtime: OpenJDK Runtime Environment\n",
       "JVM: OpenJDK 64-Bit Server VM\n",
       "Default Encoding: UTF-8\n",
       "Language: en\n",
       "Country: null\n",
       "--></g></svg>"
      ]
     },
     "execution_count": 18,
     "metadata": {},
     "output_type": "execute_result"
    }
   ],
   "source": [
    "%viz --style=\"LR\" --view=\"State\" \"DependencyTest\""
   ]
  },
  {
   "cell_type": "code",
   "execution_count": 19,
   "id": "28e7b539",
   "metadata": {
    "execution": {
     "iopub.execute_input": "2021-04-20T07:32:18.172782Z",
     "iopub.status.busy": "2021-04-20T07:32:18.172293Z",
     "iopub.status.idle": "2021-04-20T07:32:18.222826Z",
     "shell.execute_reply": "2021-04-20T07:32:18.221226Z"
    }
   },
   "outputs": [
    {
     "data": {
      "image/svg+xml": [
       "<?xml version=\"1.0\" encoding=\"UTF-8\" standalone=\"no\"?><svg xmlns=\"http://www.w3.org/2000/svg\" xmlns:xlink=\"http://www.w3.org/1999/xlink\" contentScriptType=\"application/ecmascript\" contentStyleType=\"text/css\" height=\"328px\" preserveAspectRatio=\"none\" style=\"width:670px;height:328px;\" version=\"1.1\" viewBox=\"0 0 670 328\" width=\"670px\" zoomAndPan=\"magnify\"><defs/><g><!--MD5=[fbc87193dbaf4d95561dea2c320d4a47]\n",
       "cluster E1--><a href=\"psysml:d56232e2-0bee-4a1a-bb9b-8eb4f38b0dfa\" target=\"_top\" title=\"psysml:d56232e2-0bee-4a1a-bb9b-8eb4f38b0dfa\" xlink:actuate=\"onRequest\" xlink:href=\"psysml:d56232e2-0bee-4a1a-bb9b-8eb4f38b0dfa\" xlink:show=\"new\" xlink:title=\"psysml:d56232e2-0bee-4a1a-bb9b-8eb4f38b0dfa\" xlink:type=\"simple\"><polygon fill=\"#FFFFFF\" points=\"16,6,156,6,163,28.2969,648,28.2969,648,316,16,316,16,6\" style=\"stroke: #000000; stroke-width: 1.5;\"/><line style=\"stroke: #000000; stroke-width: 1.5;\" x1=\"16\" x2=\"163\" y1=\"28.2969\" y2=\"28.2969\"/><text fill=\"#000000\" font-family=\"sans-serif\" font-size=\"14\" font-weight=\"bold\" lengthAdjust=\"spacingAndGlyphs\" textLength=\"134\" x=\"20\" y=\"20.9951\">DependencyTest</text></a><!--MD5=[e4f7fae6ed58524ba242bb0b0d3be6b7]\n",
       "cluster E2--><a href=\"psysml:50d5e3ed-2307-46ca-b041-8429ee229b8d\" target=\"_top\" title=\"psysml:50d5e3ed-2307-46ca-b041-8429ee229b8d\" xlink:actuate=\"onRequest\" xlink:href=\"psysml:50d5e3ed-2307-46ca-b041-8429ee229b8d\" xlink:show=\"new\" xlink:title=\"psysml:50d5e3ed-2307-46ca-b041-8429ee229b8d\" xlink:type=\"simple\"><polygon fill=\"#FFFFFF\" points=\"40,49,104,49,111,71.2969,624,71.2969,624,154,40,154,40,49\" style=\"stroke: #000000; stroke-width: 1.5;\"/><line style=\"stroke: #000000; stroke-width: 1.5;\" x1=\"40\" x2=\"111\" y1=\"71.2969\" y2=\"71.2969\"/><text fill=\"#000000\" font-family=\"sans-serif\" font-size=\"14\" font-weight=\"bold\" lengthAdjust=\"spacingAndGlyphs\" textLength=\"58\" x=\"44\" y=\"63.9951\">System</text></a><!--MD5=[60a26617385b1d2d0262a64233df1f8d]\n",
       "class E6--><a href=\"psysml:ee6e66ae-6a4f-4999-8c9e-f85171cea95e\" target=\"_top\" title=\"psysml:ee6e66ae-6a4f-4999-8c9e-f85171cea95e\" xlink:actuate=\"onRequest\" xlink:href=\"psysml:ee6e66ae-6a4f-4999-8c9e-f85171cea95e\" xlink:show=\"new\" xlink:title=\"psysml:ee6e66ae-6a4f-4999-8c9e-f85171cea95e\" xlink:type=\"simple\"><rect fill=\"#FFFFFF\" height=\"45.9375\" id=\"E6\" rx=\"10\" ry=\"10\" style=\"stroke: #383838; stroke-width: 1.5;\" width=\"71\" x=\"322.5\" y=\"254\"/><text fill=\"#000000\" font-family=\"sans-serif\" font-size=\"12\" font-style=\"italic\" lengthAdjust=\"spacingAndGlyphs\" textLength=\"69\" x=\"323.5\" y=\"270.1387\">«attribute»</text><text fill=\"#000000\" font-family=\"sans-serif\" font-size=\"12\" lengthAdjust=\"spacingAndGlyphs\" textLength=\"6\" x=\"355\" y=\"284.1074\">x</text><line style=\"stroke: #383838; stroke-width: 1.5;\" x1=\"323.5\" x2=\"392.5\" y1=\"291.9375\" y2=\"291.9375\"/></a><!--MD5=[2156ba9850f5573cc1fc38a6a4b2f02b]\n",
       "class E7--><a href=\"psysml:da3973fb-164e-4f16-bb62-2f8eaef60bc8\" target=\"_top\" title=\"psysml:da3973fb-164e-4f16-bb62-2f8eaef60bc8\" xlink:actuate=\"onRequest\" xlink:href=\"psysml:da3973fb-164e-4f16-bb62-2f8eaef60bc8\" xlink:show=\"new\" xlink:title=\"psysml:da3973fb-164e-4f16-bb62-2f8eaef60bc8\" xlink:type=\"simple\"><rect fill=\"#FFFFFF\" height=\"45.9375\" id=\"E7\" rx=\"10\" ry=\"10\" style=\"stroke: #383838; stroke-width: 1.5;\" width=\"71\" x=\"322.5\" y=\"173\"/><text fill=\"#000000\" font-family=\"sans-serif\" font-size=\"12\" font-style=\"italic\" lengthAdjust=\"spacingAndGlyphs\" textLength=\"69\" x=\"323.5\" y=\"189.1387\">«attribute»</text><text fill=\"#000000\" font-family=\"sans-serif\" font-size=\"12\" lengthAdjust=\"spacingAndGlyphs\" textLength=\"6\" x=\"355\" y=\"203.1074\">y</text><line style=\"stroke: #383838; stroke-width: 1.5;\" x1=\"323.5\" x2=\"392.5\" y1=\"210.9375\" y2=\"210.9375\"/></a><!--MD5=[b9389687b975829384b498ac4b7476b2]\n",
       "class E8--><a href=\"psysml:8698e020-730f-4ac9-88e5-943d82c20ca0\" target=\"_top\" title=\"psysml:8698e020-730f-4ac9-88e5-943d82c20ca0\" xlink:actuate=\"onRequest\" xlink:href=\"psysml:8698e020-730f-4ac9-88e5-943d82c20ca0\" xlink:show=\"new\" xlink:title=\"psysml:8698e020-730f-4ac9-88e5-943d82c20ca0\" xlink:type=\"simple\"><rect fill=\"#FFFFFF\" height=\"45.9375\" id=\"E8\" rx=\"10\" ry=\"10\" style=\"stroke: #383838; stroke-width: 1.5;\" width=\"71\" x=\"98.5\" y=\"206\"/><text fill=\"#000000\" font-family=\"sans-serif\" font-size=\"12\" font-style=\"italic\" lengthAdjust=\"spacingAndGlyphs\" textLength=\"69\" x=\"99.5\" y=\"222.1387\">«attribute»</text><text fill=\"#000000\" font-family=\"sans-serif\" font-size=\"12\" lengthAdjust=\"spacingAndGlyphs\" textLength=\"5\" x=\"131.5\" y=\"236.1074\">z</text><line style=\"stroke: #383838; stroke-width: 1.5;\" x1=\"99.5\" x2=\"168.5\" y1=\"243.9375\" y2=\"243.9375\"/></a><a href=\"psysml:bf62b3a1-f030-4eff-b8ce-ffbdff107a6f\" target=\"_top\" title=\"psysml:bf62b3a1-f030-4eff-b8ce-ffbdff107a6f\" xlink:actuate=\"onRequest\" xlink:href=\"psysml:bf62b3a1-f030-4eff-b8ce-ffbdff107a6f\" xlink:show=\"new\" xlink:title=\"psysml:bf62b3a1-f030-4eff-b8ce-ffbdff107a6f\" xlink:type=\"simple\"><polygon fill=\"#FFFFFF\" points=\"56,84.5,198,84.5,205,106.7969,212,106.7969,212,137.0938,56,137.0938,56,84.5\" style=\"stroke: #000000; stroke-width: 1.5;\"/><line style=\"stroke: #000000; stroke-width: 1.5;\" x1=\"56\" x2=\"205\" y1=\"106.7969\" y2=\"106.7969\"/><text fill=\"#000000\" font-family=\"sans-serif\" font-size=\"14\" font-weight=\"bold\" lengthAdjust=\"spacingAndGlyphs\" textLength=\"136\" x=\"60\" y=\"99.4951\">Application Layer</text></a><a href=\"psysml:471b2f11-dcf9-418e-881d-688bae838b3f\" target=\"_top\" title=\"psysml:471b2f11-dcf9-418e-881d-688bae838b3f\" xlink:actuate=\"onRequest\" xlink:href=\"psysml:471b2f11-dcf9-418e-881d-688bae838b3f\" xlink:show=\"new\" xlink:title=\"psysml:471b2f11-dcf9-418e-881d-688bae838b3f\" xlink:type=\"simple\"><polygon fill=\"#FFFFFF\" points=\"294,84.5,408,84.5,415,106.7969,422,106.7969,422,137.0938,294,137.0938,294,84.5\" style=\"stroke: #000000; stroke-width: 1.5;\"/><line style=\"stroke: #000000; stroke-width: 1.5;\" x1=\"294\" x2=\"415\" y1=\"106.7969\" y2=\"106.7969\"/><text fill=\"#000000\" font-family=\"sans-serif\" font-size=\"14\" font-weight=\"bold\" lengthAdjust=\"spacingAndGlyphs\" textLength=\"108\" x=\"298\" y=\"99.4951\">Service Layer</text></a><a href=\"psysml:da794142-8c7c-4611-9580-abeb242da5ef\" target=\"_top\" title=\"psysml:da794142-8c7c-4611-9580-abeb242da5ef\" xlink:actuate=\"onRequest\" xlink:href=\"psysml:da794142-8c7c-4611-9580-abeb242da5ef\" xlink:show=\"new\" xlink:title=\"psysml:da794142-8c7c-4611-9580-abeb242da5ef\" xlink:type=\"simple\"><polygon fill=\"#FFFFFF\" points=\"504,84.5,594,84.5,601,106.7969,608,106.7969,608,137.0938,504,137.0938,504,84.5\" style=\"stroke: #000000; stroke-width: 1.5;\"/><line style=\"stroke: #000000; stroke-width: 1.5;\" x1=\"504\" x2=\"601\" y1=\"106.7969\" y2=\"106.7969\"/><text fill=\"#000000\" font-family=\"sans-serif\" font-size=\"14\" font-weight=\"bold\" lengthAdjust=\"spacingAndGlyphs\" textLength=\"84\" x=\"508\" y=\"99.4951\">Data Layer</text></a><!--MD5=[af87c684e3b0d8be13c1a698a818ef1e]\n",
       "link E3 to E4--><a href=\"psysml:f56c438f-52f0-4453-9ce2-0999d9bfb233\" target=\"_top\" title=\"psysml:f56c438f-52f0-4453-9ce2-0999d9bfb233\" xlink:actuate=\"onRequest\" xlink:href=\"psysml:f56c438f-52f0-4453-9ce2-0999d9bfb233\" xlink:show=\"new\" xlink:title=\"psysml:f56c438f-52f0-4453-9ce2-0999d9bfb233\" xlink:type=\"simple\"><path d=\"M212.02,111 C235.88,111 262.06,111 285.53,111 \" fill=\"none\" id=\"E3-&gt;E4\" style=\"stroke: #383838; stroke-width: 1.0; stroke-dasharray: 7.0,7.0;\"/><polygon fill=\"#383838\" points=\"293.71,111,285.71,108,285.71,114,293.71,111\" style=\"stroke: #383838; stroke-width: 1.0;\"/><text fill=\"#000000\" font-family=\"sans-serif\" font-size=\"13\" lengthAdjust=\"spacingAndGlyphs\" textLength=\"64\" x=\"221\" y=\"107.0669\">«depend»</text></a><!--MD5=[1b7591eae5389033d8d09a9d6721a717]\n",
       "link E4 to E5--><a href=\"psysml:149727ef-4884-4150-ac87-83ab56bc940c\" target=\"_top\" title=\"psysml:149727ef-4884-4150-ac87-83ab56bc940c\" xlink:actuate=\"onRequest\" xlink:href=\"psysml:149727ef-4884-4150-ac87-83ab56bc940c\" xlink:show=\"new\" xlink:title=\"psysml:149727ef-4884-4150-ac87-83ab56bc940c\" xlink:type=\"simple\"><path d=\"M422.09,111 C445.72,111 472.46,111 495.72,111 \" fill=\"none\" id=\"E4-&gt;E5\" style=\"stroke: #383838; stroke-width: 1.0; stroke-dasharray: 7.0,7.0;\"/><polygon fill=\"#383838\" points=\"503.8,111,495.8,108,495.8,114,503.8,111\" style=\"stroke: #383838; stroke-width: 1.0;\"/><text fill=\"#000000\" font-family=\"sans-serif\" font-size=\"13\" lengthAdjust=\"spacingAndGlyphs\" textLength=\"64\" x=\"431\" y=\"107.0669\">«depend»</text></a><!--MD5=[c5e8897d989ce984f93528998a7150fe]\n",
       "link E8 to E6--><a href=\"psysml:6d264d90-cc53-4d32-95c3-fe1ad979e012\" target=\"_top\" title=\"psysml:6d264d90-cc53-4d32-95c3-fe1ad979e012\" xlink:actuate=\"onRequest\" xlink:href=\"psysml:6d264d90-cc53-4d32-95c3-fe1ad979e012\" xlink:show=\"new\" xlink:title=\"psysml:6d264d90-cc53-4d32-95c3-fe1ad979e012\" xlink:type=\"simple\"><path d=\"M169.69,236.5 C208.75,244.95 272.26,258.68 314.34,267.78 \" fill=\"none\" id=\"E8-&gt;E6\" style=\"stroke: #383838; stroke-width: 1.0; stroke-dasharray: 7.0,7.0;\"/><polygon fill=\"#383838\" points=\"322.19,269.47,315.0025,264.8505,313.7373,270.7156,322.19,269.47\" style=\"stroke: #383838; stroke-width: 1.0;\"/><text fill=\"#000000\" font-family=\"sans-serif\" font-size=\"13\" lengthAdjust=\"spacingAndGlyphs\" textLength=\"64\" x=\"221\" y=\"245.0669\">«depend»</text></a><!--MD5=[bfa3c8b0d15052fdf50ae9310b491027]\n",
       "link E8 to E7--><a href=\"psysml:6d264d90-cc53-4d32-95c3-fe1ad979e012\" target=\"_top\" title=\"psysml:6d264d90-cc53-4d32-95c3-fe1ad979e012\" xlink:actuate=\"onRequest\" xlink:href=\"psysml:6d264d90-cc53-4d32-95c3-fe1ad979e012\" xlink:show=\"new\" xlink:title=\"psysml:6d264d90-cc53-4d32-95c3-fe1ad979e012\" xlink:type=\"simple\"><path d=\"M169.69,223.84 C208.67,218.05 272,208.64 314.07,202.38 \" fill=\"none\" id=\"E8-&gt;E7\" style=\"stroke: #383838; stroke-width: 1.0; stroke-dasharray: 7.0,7.0;\"/><polygon fill=\"#383838\" points=\"322.19,201.17,313.837,199.3737,314.7155,205.309,322.19,201.17\" style=\"stroke: #383838; stroke-width: 1.0;\"/><text fill=\"#000000\" font-family=\"sans-serif\" font-size=\"13\" lengthAdjust=\"spacingAndGlyphs\" textLength=\"64\" x=\"221\" y=\"203.0669\">«depend»</text></a><!--MD5=[5405161e5e783c4362ee943e99e2efcd]\n",
       "@startuml\r\n",
       "skinparam ranksep 10\r\n",
       "skinparam rectangle {\r\n",
       " backgroundColor<<block>> LightGreen\r\n",
       "}\r\n",
       "left to right direction\r\n",
       "skinparam monochrome true\r\n",
       "skinparam classbackgroundcolor white\r\n",
       "skinparam shadowing false\r\n",
       "skinparam wrapWidth 300\r\n",
       "hide circle\r\n",
       "\r\n",
       "package \"DependencyTest\" as E1  [[psysml:d56232e2-0bee-4a1a-bb9b-8eb4f38b0dfa ]]  {\r\n",
       "package \"System\" as E2  [[psysml:50d5e3ed-2307-46ca-b041-8429ee229b8d ]]  {\r\n",
       "package \"Application Layer\" as E3  [[psysml:bf62b3a1-f030-4eff-b8ce-ffbdff107a6f ]]  {\r\n",
       "}\r\n",
       "package \"Service Layer\" as E4  [[psysml:471b2f11-dcf9-418e-881d-688bae838b3f ]]  {\r\n",
       "}\r\n",
       "package \"Data Layer\" as E5  [[psysml:da794142-8c7c-4611-9580-abeb242da5ef ]]  {\r\n",
       "}\r\n",
       "}\r\n",
       "comp usage \"x\" as E6  <<(T,blue)attribute>> [[psysml:ee6e66ae-6a4f-4999-8c9e-f85171cea95e ]] {\r\n",
       "}\r\n",
       "comp usage \"y\" as E7  <<(T,blue)attribute>> [[psysml:da3973fb-164e-4f16-bb62-2f8eaef60bc8 ]] {\r\n",
       "}\r\n",
       "comp usage \"z\" as E8  <<(T,blue)attribute>> [[psysml:8698e020-730f-4ac9-88e5-943d82c20ca0 ]] {\r\n",
       "}\r\n",
       "E3 ..>> E4 [[psysml:f56c438f-52f0-4453-9ce2-0999d9bfb233 ]] : <<depend>>\r\n",
       "E4 ..>> E5 [[psysml:149727ef-4884-4150-ac87-83ab56bc940c ]] : <<depend>>\r\n",
       "E8 ..>> E6 [[psysml:6d264d90-cc53-4d32-95c3-fe1ad979e012 ]] : <<depend>>\r\n",
       "E8 ..>> E7 [[psysml:6d264d90-cc53-4d32-95c3-fe1ad979e012 ]] : <<depend>>\r\n",
       "}\r\n",
       "@enduml\r\n",
       "\n",
       "PlantUML version 1.2020.13(Sat Jun 13 12:26:38 UTC 2020)\n",
       "(EPL source distribution)\n",
       "Java Runtime: OpenJDK Runtime Environment\n",
       "JVM: OpenJDK 64-Bit Server VM\n",
       "Default Encoding: UTF-8\n",
       "Language: en\n",
       "Country: null\n",
       "--></g></svg>"
      ]
     },
     "execution_count": 19,
     "metadata": {},
     "output_type": "execute_result"
    }
   ],
   "source": [
    "%viz --style=\"LR\" --view=\"Interconnection\" \"DependencyTest\""
   ]
  },
  {
   "cell_type": "code",
   "execution_count": 20,
   "id": "fbdceb6d",
   "metadata": {
    "execution": {
     "iopub.execute_input": "2021-04-20T07:32:18.274628Z",
     "iopub.status.busy": "2021-04-20T07:32:18.273708Z",
     "iopub.status.idle": "2021-04-20T07:32:18.280889Z",
     "shell.execute_reply": "2021-04-20T07:32:18.281260Z"
    }
   },
   "outputs": [
    {
     "data": {
      "image/svg+xml": [
       "<?xml version=\"1.0\" encoding=\"UTF-8\" standalone=\"no\"?><svg xmlns=\"http://www.w3.org/2000/svg\" xmlns:xlink=\"http://www.w3.org/1999/xlink\" contentScriptType=\"application/ecmascript\" contentStyleType=\"text/css\" height=\"12px\" preserveAspectRatio=\"none\" style=\"width:12px;height:12px;\" version=\"1.1\" viewBox=\"0 0 12 12\" width=\"12px\" zoomAndPan=\"magnify\"><defs/><g><!--MD5=[7aeb398939421629f6affaa4a1a7b125]\n",
       "@startuml\r\n",
       "skinparam ranksep 8\r\n",
       "left to right direction\r\n",
       "skinparam monochrome true\r\n",
       "skinparam classbackgroundcolor white\r\n",
       "skinparam shadowing false\r\n",
       "skinparam wrapWidth 300\r\n",
       "hide circle\r\n",
       "\r\n",
       "@enduml\r\n",
       "\n",
       "PlantUML version 1.2020.13(Sat Jun 13 12:26:38 UTC 2020)\n",
       "(EPL source distribution)\n",
       "Java Runtime: OpenJDK Runtime Environment\n",
       "JVM: OpenJDK 64-Bit Server VM\n",
       "Default Encoding: UTF-8\n",
       "Language: en\n",
       "Country: null\n",
       "--></g></svg>"
      ]
     },
     "execution_count": 20,
     "metadata": {},
     "output_type": "execute_result"
    }
   ],
   "source": [
    "%viz --style=\"LR\" --view=\"Action\" \"DependencyTest\""
   ]
  },
  {
   "cell_type": "code",
   "execution_count": 21,
   "id": "17c9c99d",
   "metadata": {
    "execution": {
     "iopub.execute_input": "2021-04-20T07:32:18.333735Z",
     "iopub.status.busy": "2021-04-20T07:32:18.333180Z",
     "iopub.status.idle": "2021-04-20T07:32:18.397365Z",
     "shell.execute_reply": "2021-04-20T07:32:18.397896Z"
    }
   },
   "outputs": [
    {
     "data": {
      "image/svg+xml": [
       "<?xml version=\"1.0\" encoding=\"UTF-8\" standalone=\"no\"?><svg xmlns=\"http://www.w3.org/2000/svg\" xmlns:xlink=\"http://www.w3.org/1999/xlink\" contentScriptType=\"application/ecmascript\" contentStyleType=\"text/css\" height=\"328px\" preserveAspectRatio=\"none\" style=\"width:758px;height:328px;\" version=\"1.1\" viewBox=\"0 0 758 328\" width=\"758px\" zoomAndPan=\"magnify\"><defs/><g><!--MD5=[fbc87193dbaf4d95561dea2c320d4a47]\n",
       "cluster E1--><a href=\"psysml:d56232e2-0bee-4a1a-bb9b-8eb4f38b0dfa\" target=\"_top\" title=\"psysml:d56232e2-0bee-4a1a-bb9b-8eb4f38b0dfa\" xlink:actuate=\"onRequest\" xlink:href=\"psysml:d56232e2-0bee-4a1a-bb9b-8eb4f38b0dfa\" xlink:show=\"new\" xlink:title=\"psysml:d56232e2-0bee-4a1a-bb9b-8eb4f38b0dfa\" xlink:type=\"simple\"><polygon fill=\"#FFFFFF\" points=\"16,6,156,6,163,28.2969,736,28.2969,736,316,16,316,16,6\" style=\"stroke: #000000; stroke-width: 1.5;\"/><line style=\"stroke: #000000; stroke-width: 1.5;\" x1=\"16\" x2=\"163\" y1=\"28.2969\" y2=\"28.2969\"/><text fill=\"#000000\" font-family=\"sans-serif\" font-size=\"14\" font-weight=\"bold\" lengthAdjust=\"spacingAndGlyphs\" textLength=\"134\" x=\"20\" y=\"20.9951\">DependencyTest</text></a><!--MD5=[e4f7fae6ed58524ba242bb0b0d3be6b7]\n",
       "cluster E2--><a href=\"psysml:50d5e3ed-2307-46ca-b041-8429ee229b8d\" target=\"_top\" title=\"psysml:50d5e3ed-2307-46ca-b041-8429ee229b8d\" xlink:actuate=\"onRequest\" xlink:href=\"psysml:50d5e3ed-2307-46ca-b041-8429ee229b8d\" xlink:show=\"new\" xlink:title=\"psysml:50d5e3ed-2307-46ca-b041-8429ee229b8d\" xlink:type=\"simple\"><polygon fill=\"#FFFFFF\" points=\"40,49,104,49,111,71.2969,712,71.2969,712,154,40,154,40,49\" style=\"stroke: #000000; stroke-width: 1.5;\"/><line style=\"stroke: #000000; stroke-width: 1.5;\" x1=\"40\" x2=\"111\" y1=\"71.2969\" y2=\"71.2969\"/><text fill=\"#000000\" font-family=\"sans-serif\" font-size=\"14\" font-weight=\"bold\" lengthAdjust=\"spacingAndGlyphs\" textLength=\"58\" x=\"44\" y=\"63.9951\">System</text></a><!--MD5=[60a26617385b1d2d0262a64233df1f8d]\n",
       "class E6--><a href=\"psysml:ee6e66ae-6a4f-4999-8c9e-f85171cea95e\" target=\"_top\" title=\"psysml:ee6e66ae-6a4f-4999-8c9e-f85171cea95e\" xlink:actuate=\"onRequest\" xlink:href=\"psysml:ee6e66ae-6a4f-4999-8c9e-f85171cea95e\" xlink:show=\"new\" xlink:title=\"psysml:ee6e66ae-6a4f-4999-8c9e-f85171cea95e\" xlink:type=\"simple\"><rect fill=\"#FFFFFF\" height=\"45.9375\" id=\"E6\" rx=\"10\" ry=\"10\" style=\"stroke: #383838; stroke-width: 1.5;\" width=\"71\" x=\"366.5\" y=\"254\"/><text fill=\"#000000\" font-family=\"sans-serif\" font-size=\"12\" font-style=\"italic\" lengthAdjust=\"spacingAndGlyphs\" textLength=\"69\" x=\"367.5\" y=\"270.1387\">«attribute»</text><text fill=\"#000000\" font-family=\"sans-serif\" font-size=\"12\" lengthAdjust=\"spacingAndGlyphs\" textLength=\"6\" x=\"399\" y=\"284.1074\">x</text><line style=\"stroke: #383838; stroke-width: 1.5;\" x1=\"367.5\" x2=\"436.5\" y1=\"291.9375\" y2=\"291.9375\"/></a><!--MD5=[2156ba9850f5573cc1fc38a6a4b2f02b]\n",
       "class E7--><a href=\"psysml:da3973fb-164e-4f16-bb62-2f8eaef60bc8\" target=\"_top\" title=\"psysml:da3973fb-164e-4f16-bb62-2f8eaef60bc8\" xlink:actuate=\"onRequest\" xlink:href=\"psysml:da3973fb-164e-4f16-bb62-2f8eaef60bc8\" xlink:show=\"new\" xlink:title=\"psysml:da3973fb-164e-4f16-bb62-2f8eaef60bc8\" xlink:type=\"simple\"><rect fill=\"#FFFFFF\" height=\"45.9375\" id=\"E7\" rx=\"10\" ry=\"10\" style=\"stroke: #383838; stroke-width: 1.5;\" width=\"71\" x=\"366.5\" y=\"173\"/><text fill=\"#000000\" font-family=\"sans-serif\" font-size=\"12\" font-style=\"italic\" lengthAdjust=\"spacingAndGlyphs\" textLength=\"69\" x=\"367.5\" y=\"189.1387\">«attribute»</text><text fill=\"#000000\" font-family=\"sans-serif\" font-size=\"12\" lengthAdjust=\"spacingAndGlyphs\" textLength=\"6\" x=\"399\" y=\"203.1074\">y</text><line style=\"stroke: #383838; stroke-width: 1.5;\" x1=\"367.5\" x2=\"436.5\" y1=\"210.9375\" y2=\"210.9375\"/></a><!--MD5=[b9389687b975829384b498ac4b7476b2]\n",
       "class E8--><a href=\"psysml:8698e020-730f-4ac9-88e5-943d82c20ca0\" target=\"_top\" title=\"psysml:8698e020-730f-4ac9-88e5-943d82c20ca0\" xlink:actuate=\"onRequest\" xlink:href=\"psysml:8698e020-730f-4ac9-88e5-943d82c20ca0\" xlink:show=\"new\" xlink:title=\"psysml:8698e020-730f-4ac9-88e5-943d82c20ca0\" xlink:type=\"simple\"><rect fill=\"#FFFFFF\" height=\"45.9375\" id=\"E8\" rx=\"10\" ry=\"10\" style=\"stroke: #383838; stroke-width: 1.5;\" width=\"71\" x=\"98.5\" y=\"206\"/><text fill=\"#000000\" font-family=\"sans-serif\" font-size=\"12\" font-style=\"italic\" lengthAdjust=\"spacingAndGlyphs\" textLength=\"69\" x=\"99.5\" y=\"222.1387\">«attribute»</text><text fill=\"#000000\" font-family=\"sans-serif\" font-size=\"12\" lengthAdjust=\"spacingAndGlyphs\" textLength=\"5\" x=\"131.5\" y=\"236.1074\">z</text><line style=\"stroke: #383838; stroke-width: 1.5;\" x1=\"99.5\" x2=\"168.5\" y1=\"243.9375\" y2=\"243.9375\"/></a><a href=\"psysml:bf62b3a1-f030-4eff-b8ce-ffbdff107a6f\" target=\"_top\" title=\"psysml:bf62b3a1-f030-4eff-b8ce-ffbdff107a6f\" xlink:actuate=\"onRequest\" xlink:href=\"psysml:bf62b3a1-f030-4eff-b8ce-ffbdff107a6f\" xlink:show=\"new\" xlink:title=\"psysml:bf62b3a1-f030-4eff-b8ce-ffbdff107a6f\" xlink:type=\"simple\"><polygon fill=\"#FFFFFF\" points=\"56,84.5,198,84.5,205,106.7969,212,106.7969,212,137.0938,56,137.0938,56,84.5\" style=\"stroke: #000000; stroke-width: 1.5;\"/><line style=\"stroke: #000000; stroke-width: 1.5;\" x1=\"56\" x2=\"205\" y1=\"106.7969\" y2=\"106.7969\"/><text fill=\"#000000\" font-family=\"sans-serif\" font-size=\"14\" font-weight=\"bold\" lengthAdjust=\"spacingAndGlyphs\" textLength=\"136\" x=\"60\" y=\"99.4951\">Application Layer</text></a><a href=\"psysml:471b2f11-dcf9-418e-881d-688bae838b3f\" target=\"_top\" title=\"psysml:471b2f11-dcf9-418e-881d-688bae838b3f\" xlink:actuate=\"onRequest\" xlink:href=\"psysml:471b2f11-dcf9-418e-881d-688bae838b3f\" xlink:show=\"new\" xlink:title=\"psysml:471b2f11-dcf9-418e-881d-688bae838b3f\" xlink:type=\"simple\"><polygon fill=\"#FFFFFF\" points=\"338,84.5,452,84.5,459,106.7969,466,106.7969,466,137.0938,338,137.0938,338,84.5\" style=\"stroke: #000000; stroke-width: 1.5;\"/><line style=\"stroke: #000000; stroke-width: 1.5;\" x1=\"338\" x2=\"459\" y1=\"106.7969\" y2=\"106.7969\"/><text fill=\"#000000\" font-family=\"sans-serif\" font-size=\"14\" font-weight=\"bold\" lengthAdjust=\"spacingAndGlyphs\" textLength=\"108\" x=\"342\" y=\"99.4951\">Service Layer</text></a><a href=\"psysml:da794142-8c7c-4611-9580-abeb242da5ef\" target=\"_top\" title=\"psysml:da794142-8c7c-4611-9580-abeb242da5ef\" xlink:actuate=\"onRequest\" xlink:href=\"psysml:da794142-8c7c-4611-9580-abeb242da5ef\" xlink:show=\"new\" xlink:title=\"psysml:da794142-8c7c-4611-9580-abeb242da5ef\" xlink:type=\"simple\"><polygon fill=\"#FFFFFF\" points=\"592,84.5,682,84.5,689,106.7969,696,106.7969,696,137.0938,592,137.0938,592,84.5\" style=\"stroke: #000000; stroke-width: 1.5;\"/><line style=\"stroke: #000000; stroke-width: 1.5;\" x1=\"592\" x2=\"689\" y1=\"106.7969\" y2=\"106.7969\"/><text fill=\"#000000\" font-family=\"sans-serif\" font-size=\"14\" font-weight=\"bold\" lengthAdjust=\"spacingAndGlyphs\" textLength=\"84\" x=\"596\" y=\"99.4951\">Data Layer</text></a><!--MD5=[af87c684e3b0d8be13c1a698a818ef1e]\n",
       "link E3 to E4--><a href=\"psysml:f56c438f-52f0-4453-9ce2-0999d9bfb233\" target=\"_top\" title=\"psysml:f56c438f-52f0-4453-9ce2-0999d9bfb233\" xlink:actuate=\"onRequest\" xlink:href=\"psysml:f56c438f-52f0-4453-9ce2-0999d9bfb233\" xlink:show=\"new\" xlink:title=\"psysml:f56c438f-52f0-4453-9ce2-0999d9bfb233\" xlink:type=\"simple\"><path d=\"M212.3,111 C249.37,111 293.5,111 329.76,111 \" fill=\"none\" id=\"E3-&gt;E4\" style=\"stroke: #383838; stroke-width: 1.0; stroke-dasharray: 7.0,7.0;\"/><polygon fill=\"#383838\" points=\"337.84,111,329.84,108,329.84,114,337.84,111\" style=\"stroke: #383838; stroke-width: 1.0;\"/><text fill=\"#000000\" font-family=\"sans-serif\" font-size=\"13\" lengthAdjust=\"spacingAndGlyphs\" textLength=\"64\" x=\"243\" y=\"107.0669\">«depend»</text></a><!--MD5=[1b7591eae5389033d8d09a9d6721a717]\n",
       "link E4 to E5--><a href=\"psysml:149727ef-4884-4150-ac87-83ab56bc940c\" target=\"_top\" title=\"psysml:149727ef-4884-4150-ac87-83ab56bc940c\" xlink:actuate=\"onRequest\" xlink:href=\"psysml:149727ef-4884-4150-ac87-83ab56bc940c\" xlink:show=\"new\" xlink:title=\"psysml:149727ef-4884-4150-ac87-83ab56bc940c\" xlink:type=\"simple\"><path d=\"M466.06,111 C502.32,111 547.6,111 583.28,111 \" fill=\"none\" id=\"E4-&gt;E5\" style=\"stroke: #383838; stroke-width: 1.0; stroke-dasharray: 7.0,7.0;\"/><polygon fill=\"#383838\" points=\"591.67,111,583.67,108,583.67,114,591.67,111\" style=\"stroke: #383838; stroke-width: 1.0;\"/><text fill=\"#000000\" font-family=\"sans-serif\" font-size=\"13\" lengthAdjust=\"spacingAndGlyphs\" textLength=\"64\" x=\"497\" y=\"107.0669\">«depend»</text></a><!--MD5=[c5e8897d989ce984f93528998a7150fe]\n",
       "link E8 to E6--><a href=\"psysml:6d264d90-cc53-4d32-95c3-fe1ad979e012\" target=\"_top\" title=\"psysml:6d264d90-cc53-4d32-95c3-fe1ad979e012\" xlink:actuate=\"onRequest\" xlink:href=\"psysml:6d264d90-cc53-4d32-95c3-fe1ad979e012\" xlink:show=\"new\" xlink:title=\"psysml:6d264d90-cc53-4d32-95c3-fe1ad979e012\" xlink:type=\"simple\"><path d=\"M169.5,235.23 C217.81,243.94 305.54,259.77 358.03,269.25 \" fill=\"none\" id=\"E8-&gt;E6\" style=\"stroke: #383838; stroke-width: 1.0; stroke-dasharray: 7.0,7.0;\"/><polygon fill=\"#383838\" points=\"366.14,270.71,358.7966,266.3425,357.7356,272.248,366.14,270.71\" style=\"stroke: #383838; stroke-width: 1.0;\"/><text fill=\"#000000\" font-family=\"sans-serif\" font-size=\"13\" lengthAdjust=\"spacingAndGlyphs\" textLength=\"64\" x=\"243\" y=\"245.0669\">«depend»</text></a><!--MD5=[bfa3c8b0d15052fdf50ae9310b491027]\n",
       "link E8 to E7--><a href=\"psysml:6d264d90-cc53-4d32-95c3-fe1ad979e012\" target=\"_top\" title=\"psysml:6d264d90-cc53-4d32-95c3-fe1ad979e012\" xlink:actuate=\"onRequest\" xlink:href=\"psysml:6d264d90-cc53-4d32-95c3-fe1ad979e012\" xlink:show=\"new\" xlink:title=\"psysml:6d264d90-cc53-4d32-95c3-fe1ad979e012\" xlink:type=\"simple\"><path d=\"M169.5,224.72 C217.81,218.73 305.54,207.84 358.03,201.33 \" fill=\"none\" id=\"E8-&gt;E7\" style=\"stroke: #383838; stroke-width: 1.0; stroke-dasharray: 7.0,7.0;\"/><polygon fill=\"#383838\" points=\"366.14,200.33,357.8314,198.3381,358.5704,204.2924,366.14,200.33\" style=\"stroke: #383838; stroke-width: 1.0;\"/><text fill=\"#000000\" font-family=\"sans-serif\" font-size=\"13\" lengthAdjust=\"spacingAndGlyphs\" textLength=\"64\" x=\"243\" y=\"204.0669\">«depend»</text></a><!--MD5=[d725dcfb327667e8c2132f8ebe6c9c7d]\n",
       "@startuml\r\n",
       "left to right direction\r\n",
       "skinparam monochrome true\r\n",
       "skinparam classbackgroundcolor white\r\n",
       "skinparam shadowing false\r\n",
       "skinparam wrapWidth 300\r\n",
       "hide circle\r\n",
       "\r\n",
       "package \"DependencyTest\" as E1  [[psysml:d56232e2-0bee-4a1a-bb9b-8eb4f38b0dfa ]]  {\r\n",
       "package \"System\" as E2  [[psysml:50d5e3ed-2307-46ca-b041-8429ee229b8d ]]  {\r\n",
       "package \"Application Layer\" as E3  [[psysml:bf62b3a1-f030-4eff-b8ce-ffbdff107a6f ]]  {\r\n",
       "}\r\n",
       "package \"Service Layer\" as E4  [[psysml:471b2f11-dcf9-418e-881d-688bae838b3f ]]  {\r\n",
       "}\r\n",
       "package \"Data Layer\" as E5  [[psysml:da794142-8c7c-4611-9580-abeb242da5ef ]]  {\r\n",
       "}\r\n",
       "}\r\n",
       "comp usage \"x\" as E6  <<(T,blue)attribute>> [[psysml:ee6e66ae-6a4f-4999-8c9e-f85171cea95e ]] {\r\n",
       "}\r\n",
       "comp usage \"y\" as E7  <<(T,blue)attribute>> [[psysml:da3973fb-164e-4f16-bb62-2f8eaef60bc8 ]] {\r\n",
       "}\r\n",
       "comp usage \"z\" as E8  <<(T,blue)attribute>> [[psysml:8698e020-730f-4ac9-88e5-943d82c20ca0 ]] {\r\n",
       "}\r\n",
       "E3 ..>> E4 [[psysml:f56c438f-52f0-4453-9ce2-0999d9bfb233 ]] : <<depend>>\r\n",
       "E4 ..>> E5 [[psysml:149727ef-4884-4150-ac87-83ab56bc940c ]] : <<depend>>\r\n",
       "E8 ..>> E6 [[psysml:6d264d90-cc53-4d32-95c3-fe1ad979e012 ]] : <<depend>>\r\n",
       "E8 ..>> E7 [[psysml:6d264d90-cc53-4d32-95c3-fe1ad979e012 ]] : <<depend>>\r\n",
       "}\r\n",
       "@enduml\r\n",
       "\n",
       "PlantUML version 1.2020.13(Sat Jun 13 12:26:38 UTC 2020)\n",
       "(EPL source distribution)\n",
       "Java Runtime: OpenJDK Runtime Environment\n",
       "JVM: OpenJDK 64-Bit Server VM\n",
       "Default Encoding: UTF-8\n",
       "Language: en\n",
       "Country: null\n",
       "--></g></svg>"
      ]
     },
     "execution_count": 21,
     "metadata": {},
     "output_type": "execute_result"
    }
   ],
   "source": [
    "%viz --style=\"LR\" --view=\"Sequence\" \"DependencyTest\""
   ]
  },
  {
   "cell_type": "code",
   "execution_count": 22,
   "id": "c0f409ad",
   "metadata": {
    "execution": {
     "iopub.execute_input": "2021-04-20T07:32:18.447880Z",
     "iopub.status.busy": "2021-04-20T07:32:18.447144Z",
     "iopub.status.idle": "2021-04-20T07:32:18.512318Z",
     "shell.execute_reply": "2021-04-20T07:32:18.511901Z"
    }
   },
   "outputs": [
    {
     "data": {
      "image/svg+xml": [
       "<?xml version=\"1.0\" encoding=\"UTF-8\" standalone=\"no\"?><svg xmlns=\"http://www.w3.org/2000/svg\" xmlns:xlink=\"http://www.w3.org/1999/xlink\" contentScriptType=\"application/ecmascript\" contentStyleType=\"text/css\" height=\"328px\" preserveAspectRatio=\"none\" style=\"width:758px;height:328px;\" version=\"1.1\" viewBox=\"0 0 758 328\" width=\"758px\" zoomAndPan=\"magnify\"><defs/><g><!--MD5=[fbc87193dbaf4d95561dea2c320d4a47]\n",
       "cluster E1--><a href=\"psysml:d56232e2-0bee-4a1a-bb9b-8eb4f38b0dfa\" target=\"_top\" title=\"psysml:d56232e2-0bee-4a1a-bb9b-8eb4f38b0dfa\" xlink:actuate=\"onRequest\" xlink:href=\"psysml:d56232e2-0bee-4a1a-bb9b-8eb4f38b0dfa\" xlink:show=\"new\" xlink:title=\"psysml:d56232e2-0bee-4a1a-bb9b-8eb4f38b0dfa\" xlink:type=\"simple\"><polygon fill=\"#FFFFFF\" points=\"16,6,156,6,163,28.2969,736,28.2969,736,316,16,316,16,6\" style=\"stroke: #000000; stroke-width: 1.5;\"/><line style=\"stroke: #000000; stroke-width: 1.5;\" x1=\"16\" x2=\"163\" y1=\"28.2969\" y2=\"28.2969\"/><text fill=\"#000000\" font-family=\"sans-serif\" font-size=\"14\" font-weight=\"bold\" lengthAdjust=\"spacingAndGlyphs\" textLength=\"134\" x=\"20\" y=\"20.9951\">DependencyTest</text></a><!--MD5=[e4f7fae6ed58524ba242bb0b0d3be6b7]\n",
       "cluster E2--><a href=\"psysml:50d5e3ed-2307-46ca-b041-8429ee229b8d\" target=\"_top\" title=\"psysml:50d5e3ed-2307-46ca-b041-8429ee229b8d\" xlink:actuate=\"onRequest\" xlink:href=\"psysml:50d5e3ed-2307-46ca-b041-8429ee229b8d\" xlink:show=\"new\" xlink:title=\"psysml:50d5e3ed-2307-46ca-b041-8429ee229b8d\" xlink:type=\"simple\"><polygon fill=\"#FFFFFF\" points=\"40,49,104,49,111,71.2969,712,71.2969,712,154,40,154,40,49\" style=\"stroke: #000000; stroke-width: 1.5;\"/><line style=\"stroke: #000000; stroke-width: 1.5;\" x1=\"40\" x2=\"111\" y1=\"71.2969\" y2=\"71.2969\"/><text fill=\"#000000\" font-family=\"sans-serif\" font-size=\"14\" font-weight=\"bold\" lengthAdjust=\"spacingAndGlyphs\" textLength=\"58\" x=\"44\" y=\"63.9951\">System</text></a><!--MD5=[60a26617385b1d2d0262a64233df1f8d]\n",
       "class E6--><a href=\"psysml:ee6e66ae-6a4f-4999-8c9e-f85171cea95e\" target=\"_top\" title=\"psysml:ee6e66ae-6a4f-4999-8c9e-f85171cea95e\" xlink:actuate=\"onRequest\" xlink:href=\"psysml:ee6e66ae-6a4f-4999-8c9e-f85171cea95e\" xlink:show=\"new\" xlink:title=\"psysml:ee6e66ae-6a4f-4999-8c9e-f85171cea95e\" xlink:type=\"simple\"><rect fill=\"#FFFFFF\" height=\"45.9375\" id=\"E6\" rx=\"10\" ry=\"10\" style=\"stroke: #383838; stroke-width: 1.5;\" width=\"71\" x=\"366.5\" y=\"254\"/><text fill=\"#000000\" font-family=\"sans-serif\" font-size=\"12\" font-style=\"italic\" lengthAdjust=\"spacingAndGlyphs\" textLength=\"69\" x=\"367.5\" y=\"270.1387\">«attribute»</text><text fill=\"#000000\" font-family=\"sans-serif\" font-size=\"12\" lengthAdjust=\"spacingAndGlyphs\" textLength=\"6\" x=\"399\" y=\"284.1074\">x</text><line style=\"stroke: #383838; stroke-width: 1.5;\" x1=\"367.5\" x2=\"436.5\" y1=\"291.9375\" y2=\"291.9375\"/></a><!--MD5=[2156ba9850f5573cc1fc38a6a4b2f02b]\n",
       "class E7--><a href=\"psysml:da3973fb-164e-4f16-bb62-2f8eaef60bc8\" target=\"_top\" title=\"psysml:da3973fb-164e-4f16-bb62-2f8eaef60bc8\" xlink:actuate=\"onRequest\" xlink:href=\"psysml:da3973fb-164e-4f16-bb62-2f8eaef60bc8\" xlink:show=\"new\" xlink:title=\"psysml:da3973fb-164e-4f16-bb62-2f8eaef60bc8\" xlink:type=\"simple\"><rect fill=\"#FFFFFF\" height=\"45.9375\" id=\"E7\" rx=\"10\" ry=\"10\" style=\"stroke: #383838; stroke-width: 1.5;\" width=\"71\" x=\"366.5\" y=\"173\"/><text fill=\"#000000\" font-family=\"sans-serif\" font-size=\"12\" font-style=\"italic\" lengthAdjust=\"spacingAndGlyphs\" textLength=\"69\" x=\"367.5\" y=\"189.1387\">«attribute»</text><text fill=\"#000000\" font-family=\"sans-serif\" font-size=\"12\" lengthAdjust=\"spacingAndGlyphs\" textLength=\"6\" x=\"399\" y=\"203.1074\">y</text><line style=\"stroke: #383838; stroke-width: 1.5;\" x1=\"367.5\" x2=\"436.5\" y1=\"210.9375\" y2=\"210.9375\"/></a><!--MD5=[b9389687b975829384b498ac4b7476b2]\n",
       "class E8--><a href=\"psysml:8698e020-730f-4ac9-88e5-943d82c20ca0\" target=\"_top\" title=\"psysml:8698e020-730f-4ac9-88e5-943d82c20ca0\" xlink:actuate=\"onRequest\" xlink:href=\"psysml:8698e020-730f-4ac9-88e5-943d82c20ca0\" xlink:show=\"new\" xlink:title=\"psysml:8698e020-730f-4ac9-88e5-943d82c20ca0\" xlink:type=\"simple\"><rect fill=\"#FFFFFF\" height=\"45.9375\" id=\"E8\" rx=\"10\" ry=\"10\" style=\"stroke: #383838; stroke-width: 1.5;\" width=\"71\" x=\"98.5\" y=\"206\"/><text fill=\"#000000\" font-family=\"sans-serif\" font-size=\"12\" font-style=\"italic\" lengthAdjust=\"spacingAndGlyphs\" textLength=\"69\" x=\"99.5\" y=\"222.1387\">«attribute»</text><text fill=\"#000000\" font-family=\"sans-serif\" font-size=\"12\" lengthAdjust=\"spacingAndGlyphs\" textLength=\"5\" x=\"131.5\" y=\"236.1074\">z</text><line style=\"stroke: #383838; stroke-width: 1.5;\" x1=\"99.5\" x2=\"168.5\" y1=\"243.9375\" y2=\"243.9375\"/></a><a href=\"psysml:bf62b3a1-f030-4eff-b8ce-ffbdff107a6f\" target=\"_top\" title=\"psysml:bf62b3a1-f030-4eff-b8ce-ffbdff107a6f\" xlink:actuate=\"onRequest\" xlink:href=\"psysml:bf62b3a1-f030-4eff-b8ce-ffbdff107a6f\" xlink:show=\"new\" xlink:title=\"psysml:bf62b3a1-f030-4eff-b8ce-ffbdff107a6f\" xlink:type=\"simple\"><polygon fill=\"#FFFFFF\" points=\"56,84.5,198,84.5,205,106.7969,212,106.7969,212,137.0938,56,137.0938,56,84.5\" style=\"stroke: #000000; stroke-width: 1.5;\"/><line style=\"stroke: #000000; stroke-width: 1.5;\" x1=\"56\" x2=\"205\" y1=\"106.7969\" y2=\"106.7969\"/><text fill=\"#000000\" font-family=\"sans-serif\" font-size=\"14\" font-weight=\"bold\" lengthAdjust=\"spacingAndGlyphs\" textLength=\"136\" x=\"60\" y=\"99.4951\">Application Layer</text></a><a href=\"psysml:471b2f11-dcf9-418e-881d-688bae838b3f\" target=\"_top\" title=\"psysml:471b2f11-dcf9-418e-881d-688bae838b3f\" xlink:actuate=\"onRequest\" xlink:href=\"psysml:471b2f11-dcf9-418e-881d-688bae838b3f\" xlink:show=\"new\" xlink:title=\"psysml:471b2f11-dcf9-418e-881d-688bae838b3f\" xlink:type=\"simple\"><polygon fill=\"#FFFFFF\" points=\"338,84.5,452,84.5,459,106.7969,466,106.7969,466,137.0938,338,137.0938,338,84.5\" style=\"stroke: #000000; stroke-width: 1.5;\"/><line style=\"stroke: #000000; stroke-width: 1.5;\" x1=\"338\" x2=\"459\" y1=\"106.7969\" y2=\"106.7969\"/><text fill=\"#000000\" font-family=\"sans-serif\" font-size=\"14\" font-weight=\"bold\" lengthAdjust=\"spacingAndGlyphs\" textLength=\"108\" x=\"342\" y=\"99.4951\">Service Layer</text></a><a href=\"psysml:da794142-8c7c-4611-9580-abeb242da5ef\" target=\"_top\" title=\"psysml:da794142-8c7c-4611-9580-abeb242da5ef\" xlink:actuate=\"onRequest\" xlink:href=\"psysml:da794142-8c7c-4611-9580-abeb242da5ef\" xlink:show=\"new\" xlink:title=\"psysml:da794142-8c7c-4611-9580-abeb242da5ef\" xlink:type=\"simple\"><polygon fill=\"#FFFFFF\" points=\"592,84.5,682,84.5,689,106.7969,696,106.7969,696,137.0938,592,137.0938,592,84.5\" style=\"stroke: #000000; stroke-width: 1.5;\"/><line style=\"stroke: #000000; stroke-width: 1.5;\" x1=\"592\" x2=\"689\" y1=\"106.7969\" y2=\"106.7969\"/><text fill=\"#000000\" font-family=\"sans-serif\" font-size=\"14\" font-weight=\"bold\" lengthAdjust=\"spacingAndGlyphs\" textLength=\"84\" x=\"596\" y=\"99.4951\">Data Layer</text></a><!--MD5=[af87c684e3b0d8be13c1a698a818ef1e]\n",
       "link E3 to E4--><a href=\"psysml:f56c438f-52f0-4453-9ce2-0999d9bfb233\" target=\"_top\" title=\"psysml:f56c438f-52f0-4453-9ce2-0999d9bfb233\" xlink:actuate=\"onRequest\" xlink:href=\"psysml:f56c438f-52f0-4453-9ce2-0999d9bfb233\" xlink:show=\"new\" xlink:title=\"psysml:f56c438f-52f0-4453-9ce2-0999d9bfb233\" xlink:type=\"simple\"><path d=\"M212.3,111 C249.37,111 293.5,111 329.76,111 \" fill=\"none\" id=\"E3-&gt;E4\" style=\"stroke: #383838; stroke-width: 1.0; stroke-dasharray: 7.0,7.0;\"/><polygon fill=\"#383838\" points=\"337.84,111,329.84,108,329.84,114,337.84,111\" style=\"stroke: #383838; stroke-width: 1.0;\"/><text fill=\"#000000\" font-family=\"sans-serif\" font-size=\"13\" lengthAdjust=\"spacingAndGlyphs\" textLength=\"64\" x=\"243\" y=\"107.0669\">«depend»</text></a><!--MD5=[1b7591eae5389033d8d09a9d6721a717]\n",
       "link E4 to E5--><a href=\"psysml:149727ef-4884-4150-ac87-83ab56bc940c\" target=\"_top\" title=\"psysml:149727ef-4884-4150-ac87-83ab56bc940c\" xlink:actuate=\"onRequest\" xlink:href=\"psysml:149727ef-4884-4150-ac87-83ab56bc940c\" xlink:show=\"new\" xlink:title=\"psysml:149727ef-4884-4150-ac87-83ab56bc940c\" xlink:type=\"simple\"><path d=\"M466.06,111 C502.32,111 547.6,111 583.28,111 \" fill=\"none\" id=\"E4-&gt;E5\" style=\"stroke: #383838; stroke-width: 1.0; stroke-dasharray: 7.0,7.0;\"/><polygon fill=\"#383838\" points=\"591.67,111,583.67,108,583.67,114,591.67,111\" style=\"stroke: #383838; stroke-width: 1.0;\"/><text fill=\"#000000\" font-family=\"sans-serif\" font-size=\"13\" lengthAdjust=\"spacingAndGlyphs\" textLength=\"64\" x=\"497\" y=\"107.0669\">«depend»</text></a><!--MD5=[c5e8897d989ce984f93528998a7150fe]\n",
       "link E8 to E6--><a href=\"psysml:6d264d90-cc53-4d32-95c3-fe1ad979e012\" target=\"_top\" title=\"psysml:6d264d90-cc53-4d32-95c3-fe1ad979e012\" xlink:actuate=\"onRequest\" xlink:href=\"psysml:6d264d90-cc53-4d32-95c3-fe1ad979e012\" xlink:show=\"new\" xlink:title=\"psysml:6d264d90-cc53-4d32-95c3-fe1ad979e012\" xlink:type=\"simple\"><path d=\"M169.5,235.23 C217.81,243.94 305.54,259.77 358.03,269.25 \" fill=\"none\" id=\"E8-&gt;E6\" style=\"stroke: #383838; stroke-width: 1.0; stroke-dasharray: 7.0,7.0;\"/><polygon fill=\"#383838\" points=\"366.14,270.71,358.7966,266.3425,357.7356,272.248,366.14,270.71\" style=\"stroke: #383838; stroke-width: 1.0;\"/><text fill=\"#000000\" font-family=\"sans-serif\" font-size=\"13\" lengthAdjust=\"spacingAndGlyphs\" textLength=\"64\" x=\"243\" y=\"245.0669\">«depend»</text></a><!--MD5=[bfa3c8b0d15052fdf50ae9310b491027]\n",
       "link E8 to E7--><a href=\"psysml:6d264d90-cc53-4d32-95c3-fe1ad979e012\" target=\"_top\" title=\"psysml:6d264d90-cc53-4d32-95c3-fe1ad979e012\" xlink:actuate=\"onRequest\" xlink:href=\"psysml:6d264d90-cc53-4d32-95c3-fe1ad979e012\" xlink:show=\"new\" xlink:title=\"psysml:6d264d90-cc53-4d32-95c3-fe1ad979e012\" xlink:type=\"simple\"><path d=\"M169.5,224.72 C217.81,218.73 305.54,207.84 358.03,201.33 \" fill=\"none\" id=\"E8-&gt;E7\" style=\"stroke: #383838; stroke-width: 1.0; stroke-dasharray: 7.0,7.0;\"/><polygon fill=\"#383838\" points=\"366.14,200.33,357.8314,198.3381,358.5704,204.2924,366.14,200.33\" style=\"stroke: #383838; stroke-width: 1.0;\"/><text fill=\"#000000\" font-family=\"sans-serif\" font-size=\"13\" lengthAdjust=\"spacingAndGlyphs\" textLength=\"64\" x=\"243\" y=\"204.0669\">«depend»</text></a><!--MD5=[d725dcfb327667e8c2132f8ebe6c9c7d]\n",
       "@startuml\r\n",
       "left to right direction\r\n",
       "skinparam monochrome true\r\n",
       "skinparam classbackgroundcolor white\r\n",
       "skinparam shadowing false\r\n",
       "skinparam wrapWidth 300\r\n",
       "hide circle\r\n",
       "\r\n",
       "package \"DependencyTest\" as E1  [[psysml:d56232e2-0bee-4a1a-bb9b-8eb4f38b0dfa ]]  {\r\n",
       "package \"System\" as E2  [[psysml:50d5e3ed-2307-46ca-b041-8429ee229b8d ]]  {\r\n",
       "package \"Application Layer\" as E3  [[psysml:bf62b3a1-f030-4eff-b8ce-ffbdff107a6f ]]  {\r\n",
       "}\r\n",
       "package \"Service Layer\" as E4  [[psysml:471b2f11-dcf9-418e-881d-688bae838b3f ]]  {\r\n",
       "}\r\n",
       "package \"Data Layer\" as E5  [[psysml:da794142-8c7c-4611-9580-abeb242da5ef ]]  {\r\n",
       "}\r\n",
       "}\r\n",
       "comp usage \"x\" as E6  <<(T,blue)attribute>> [[psysml:ee6e66ae-6a4f-4999-8c9e-f85171cea95e ]] {\r\n",
       "}\r\n",
       "comp usage \"y\" as E7  <<(T,blue)attribute>> [[psysml:da3973fb-164e-4f16-bb62-2f8eaef60bc8 ]] {\r\n",
       "}\r\n",
       "comp usage \"z\" as E8  <<(T,blue)attribute>> [[psysml:8698e020-730f-4ac9-88e5-943d82c20ca0 ]] {\r\n",
       "}\r\n",
       "E3 ..>> E4 [[psysml:f56c438f-52f0-4453-9ce2-0999d9bfb233 ]] : <<depend>>\r\n",
       "E4 ..>> E5 [[psysml:149727ef-4884-4150-ac87-83ab56bc940c ]] : <<depend>>\r\n",
       "E8 ..>> E6 [[psysml:6d264d90-cc53-4d32-95c3-fe1ad979e012 ]] : <<depend>>\r\n",
       "E8 ..>> E7 [[psysml:6d264d90-cc53-4d32-95c3-fe1ad979e012 ]] : <<depend>>\r\n",
       "}\r\n",
       "@enduml\r\n",
       "\n",
       "PlantUML version 1.2020.13(Sat Jun 13 12:26:38 UTC 2020)\n",
       "(EPL source distribution)\n",
       "Java Runtime: OpenJDK Runtime Environment\n",
       "JVM: OpenJDK 64-Bit Server VM\n",
       "Default Encoding: UTF-8\n",
       "Language: en\n",
       "Country: null\n",
       "--></g></svg>"
      ]
     },
     "execution_count": 22,
     "metadata": {},
     "output_type": "execute_result"
    }
   ],
   "source": [
    "%viz --style=\"LR\" --view=\"MIXED\" \"DependencyTest\""
   ]
  },
  {
   "cell_type": "code",
   "execution_count": 23,
   "id": "630199fb",
   "metadata": {
    "execution": {
     "iopub.execute_input": "2021-04-20T07:32:18.564628Z",
     "iopub.status.busy": "2021-04-20T07:32:18.563713Z",
     "iopub.status.idle": "2021-04-20T07:32:18.627900Z",
     "shell.execute_reply": "2021-04-20T07:32:18.627486Z"
    }
   },
   "outputs": [
    {
     "data": {
      "image/svg+xml": [
       "<?xml version=\"1.0\" encoding=\"UTF-8\" standalone=\"no\"?><svg xmlns=\"http://www.w3.org/2000/svg\" xmlns:xlink=\"http://www.w3.org/1999/xlink\" contentScriptType=\"application/ecmascript\" contentStyleType=\"text/css\" height=\"449px\" preserveAspectRatio=\"none\" style=\"width:489px;height:449px;\" version=\"1.1\" viewBox=\"0 0 489 449\" width=\"489px\" zoomAndPan=\"magnify\"><defs><filter height=\"300%\" id=\"faebtcgze2xcd\" width=\"300%\" x=\"-1\" y=\"-1\"><feGaussianBlur result=\"blurOut\" stdDeviation=\"2.0\"/><feColorMatrix in=\"blurOut\" result=\"blurOut2\" type=\"matrix\" values=\"0 0 0 0 0 0 0 0 0 0 0 0 0 0 0 0 0 0 .4 0\"/><feOffset dx=\"4.0\" dy=\"4.0\" in=\"blurOut2\" result=\"blurOut3\"/><feBlend in=\"SourceGraphic\" in2=\"blurOut3\" mode=\"normal\"/></filter></defs><g><!--MD5=[fbc87193dbaf4d95561dea2c320d4a47]\n",
       "cluster E1--><a href=\"psysml:d56232e2-0bee-4a1a-bb9b-8eb4f38b0dfa\" target=\"_top\" title=\"psysml:d56232e2-0bee-4a1a-bb9b-8eb4f38b0dfa\" xlink:actuate=\"onRequest\" xlink:href=\"psysml:d56232e2-0bee-4a1a-bb9b-8eb4f38b0dfa\" xlink:show=\"new\" xlink:title=\"psysml:d56232e2-0bee-4a1a-bb9b-8eb4f38b0dfa\" xlink:type=\"simple\"><polygon fill=\"#FFFFFF\" filter=\"url(#faebtcgze2xcd)\" points=\"16,6,156,6,163,28.2969,467,28.2969,467,437,16,437,16,6\" style=\"stroke: #000000; stroke-width: 1.5;\"/><line style=\"stroke: #000000; stroke-width: 1.5;\" x1=\"16\" x2=\"163\" y1=\"28.2969\" y2=\"28.2969\"/><text fill=\"#000000\" font-family=\"sans-serif\" font-size=\"14\" font-weight=\"bold\" lengthAdjust=\"spacingAndGlyphs\" textLength=\"134\" x=\"20\" y=\"20.9951\">DependencyTest</text></a><!--MD5=[e4f7fae6ed58524ba242bb0b0d3be6b7]\n",
       "cluster E2--><a href=\"psysml:50d5e3ed-2307-46ca-b041-8429ee229b8d\" target=\"_top\" title=\"psysml:50d5e3ed-2307-46ca-b041-8429ee229b8d\" xlink:actuate=\"onRequest\" xlink:href=\"psysml:50d5e3ed-2307-46ca-b041-8429ee229b8d\" xlink:show=\"new\" xlink:title=\"psysml:50d5e3ed-2307-46ca-b041-8429ee229b8d\" xlink:type=\"simple\"><polygon fill=\"#FFFFFF\" filter=\"url(#faebtcgze2xcd)\" points=\"255,49,319,49,326,71.2969,443,71.2969,443,413,255,413,255,49\" style=\"stroke: #000000; stroke-width: 1.5;\"/><line style=\"stroke: #000000; stroke-width: 1.5;\" x1=\"255\" x2=\"326\" y1=\"71.2969\" y2=\"71.2969\"/><text fill=\"#000000\" font-family=\"sans-serif\" font-size=\"14\" font-weight=\"bold\" lengthAdjust=\"spacingAndGlyphs\" textLength=\"58\" x=\"259\" y=\"63.9951\">System</text></a><!--MD5=[60a26617385b1d2d0262a64233df1f8d]\n",
       "class E6--><a href=\"psysml:ee6e66ae-6a4f-4999-8c9e-f85171cea95e\" target=\"_top\" title=\"psysml:ee6e66ae-6a4f-4999-8c9e-f85171cea95e\" xlink:actuate=\"onRequest\" xlink:href=\"psysml:ee6e66ae-6a4f-4999-8c9e-f85171cea95e\" xlink:show=\"new\" xlink:title=\"psysml:ee6e66ae-6a4f-4999-8c9e-f85171cea95e\" xlink:type=\"simple\"><rect fill=\"#FEFECE\" filter=\"url(#faebtcgze2xcd)\" height=\"45.9375\" id=\"E6\" rx=\"10\" ry=\"10\" style=\"stroke: #A80036; stroke-width: 1.5;\" width=\"71\" x=\"32.5\" y=\"217.5\"/><text fill=\"#000000\" font-family=\"sans-serif\" font-size=\"12\" font-style=\"italic\" lengthAdjust=\"spacingAndGlyphs\" textLength=\"69\" x=\"33.5\" y=\"233.6387\">«attribute»</text><text fill=\"#000000\" font-family=\"sans-serif\" font-size=\"12\" lengthAdjust=\"spacingAndGlyphs\" textLength=\"6\" x=\"65\" y=\"247.6074\">x</text><line style=\"stroke: #A80036; stroke-width: 1.5;\" x1=\"33.5\" x2=\"102.5\" y1=\"255.4375\" y2=\"255.4375\"/></a><!--MD5=[2156ba9850f5573cc1fc38a6a4b2f02b]\n",
       "class E7--><a href=\"psysml:da3973fb-164e-4f16-bb62-2f8eaef60bc8\" target=\"_top\" title=\"psysml:da3973fb-164e-4f16-bb62-2f8eaef60bc8\" xlink:actuate=\"onRequest\" xlink:href=\"psysml:da3973fb-164e-4f16-bb62-2f8eaef60bc8\" xlink:show=\"new\" xlink:title=\"psysml:da3973fb-164e-4f16-bb62-2f8eaef60bc8\" xlink:type=\"simple\"><rect fill=\"#FEFECE\" filter=\"url(#faebtcgze2xcd)\" height=\"45.9375\" id=\"E7\" rx=\"10\" ry=\"10\" style=\"stroke: #A80036; stroke-width: 1.5;\" width=\"71\" x=\"138.5\" y=\"217.5\"/><text fill=\"#000000\" font-family=\"sans-serif\" font-size=\"12\" font-style=\"italic\" lengthAdjust=\"spacingAndGlyphs\" textLength=\"69\" x=\"139.5\" y=\"233.6387\">«attribute»</text><text fill=\"#000000\" font-family=\"sans-serif\" font-size=\"12\" lengthAdjust=\"spacingAndGlyphs\" textLength=\"6\" x=\"171\" y=\"247.6074\">y</text><line style=\"stroke: #A80036; stroke-width: 1.5;\" x1=\"139.5\" x2=\"208.5\" y1=\"255.4375\" y2=\"255.4375\"/></a><!--MD5=[b9389687b975829384b498ac4b7476b2]\n",
       "class E8--><a href=\"psysml:8698e020-730f-4ac9-88e5-943d82c20ca0\" target=\"_top\" title=\"psysml:8698e020-730f-4ac9-88e5-943d82c20ca0\" xlink:actuate=\"onRequest\" xlink:href=\"psysml:8698e020-730f-4ac9-88e5-943d82c20ca0\" xlink:show=\"new\" xlink:title=\"psysml:8698e020-730f-4ac9-88e5-943d82c20ca0\" xlink:type=\"simple\"><rect fill=\"#FEFECE\" filter=\"url(#faebtcgze2xcd)\" height=\"45.9375\" id=\"E8\" rx=\"10\" ry=\"10\" style=\"stroke: #A80036; stroke-width: 1.5;\" width=\"71\" x=\"84.5\" y=\"87.5\"/><text fill=\"#000000\" font-family=\"sans-serif\" font-size=\"12\" font-style=\"italic\" lengthAdjust=\"spacingAndGlyphs\" textLength=\"69\" x=\"85.5\" y=\"103.6387\">«attribute»</text><text fill=\"#000000\" font-family=\"sans-serif\" font-size=\"12\" lengthAdjust=\"spacingAndGlyphs\" textLength=\"5\" x=\"117.5\" y=\"117.6074\">z</text><line style=\"stroke: #A80036; stroke-width: 1.5;\" x1=\"85.5\" x2=\"154.5\" y1=\"125.4375\" y2=\"125.4375\"/></a><a href=\"psysml:bf62b3a1-f030-4eff-b8ce-ffbdff107a6f\" target=\"_top\" title=\"psysml:bf62b3a1-f030-4eff-b8ce-ffbdff107a6f\" xlink:actuate=\"onRequest\" xlink:href=\"psysml:bf62b3a1-f030-4eff-b8ce-ffbdff107a6f\" xlink:show=\"new\" xlink:title=\"psysml:bf62b3a1-f030-4eff-b8ce-ffbdff107a6f\" xlink:type=\"simple\"><polygon fill=\"#FFFFFF\" filter=\"url(#faebtcgze2xcd)\" points=\"271,84,413,84,420,106.2969,427,106.2969,427,136.5938,271,136.5938,271,84\" style=\"stroke: #000000; stroke-width: 1.5;\"/><line style=\"stroke: #000000; stroke-width: 1.5;\" x1=\"271\" x2=\"420\" y1=\"106.2969\" y2=\"106.2969\"/><text fill=\"#000000\" font-family=\"sans-serif\" font-size=\"14\" font-weight=\"bold\" lengthAdjust=\"spacingAndGlyphs\" textLength=\"136\" x=\"275\" y=\"98.9951\">Application Layer</text></a><a href=\"psysml:471b2f11-dcf9-418e-881d-688bae838b3f\" target=\"_top\" title=\"psysml:471b2f11-dcf9-418e-881d-688bae838b3f\" xlink:actuate=\"onRequest\" xlink:href=\"psysml:471b2f11-dcf9-418e-881d-688bae838b3f\" xlink:show=\"new\" xlink:title=\"psysml:471b2f11-dcf9-418e-881d-688bae838b3f\" xlink:type=\"simple\"><polygon fill=\"#FFFFFF\" filter=\"url(#faebtcgze2xcd)\" points=\"285,214,399,214,406,236.2969,413,236.2969,413,266.5938,285,266.5938,285,214\" style=\"stroke: #000000; stroke-width: 1.5;\"/><line style=\"stroke: #000000; stroke-width: 1.5;\" x1=\"285\" x2=\"406\" y1=\"236.2969\" y2=\"236.2969\"/><text fill=\"#000000\" font-family=\"sans-serif\" font-size=\"14\" font-weight=\"bold\" lengthAdjust=\"spacingAndGlyphs\" textLength=\"108\" x=\"289\" y=\"228.9951\">Service Layer</text></a><a href=\"psysml:da794142-8c7c-4611-9580-abeb242da5ef\" target=\"_top\" title=\"psysml:da794142-8c7c-4611-9580-abeb242da5ef\" xlink:actuate=\"onRequest\" xlink:href=\"psysml:da794142-8c7c-4611-9580-abeb242da5ef\" xlink:show=\"new\" xlink:title=\"psysml:da794142-8c7c-4611-9580-abeb242da5ef\" xlink:type=\"simple\"><polygon fill=\"#FFFFFF\" filter=\"url(#faebtcgze2xcd)\" points=\"297,344,387,344,394,366.2969,401,366.2969,401,396.5938,297,396.5938,297,344\" style=\"stroke: #000000; stroke-width: 1.5;\"/><line style=\"stroke: #000000; stroke-width: 1.5;\" x1=\"297\" x2=\"394\" y1=\"366.2969\" y2=\"366.2969\"/><text fill=\"#000000\" font-family=\"sans-serif\" font-size=\"14\" font-weight=\"bold\" lengthAdjust=\"spacingAndGlyphs\" textLength=\"84\" x=\"301\" y=\"358.9951\">Data Layer</text></a><!--MD5=[af87c684e3b0d8be13c1a698a818ef1e]\n",
       "link E3 to E4--><a href=\"psysml:f56c438f-52f0-4453-9ce2-0999d9bfb233\" target=\"_top\" title=\"psysml:f56c438f-52f0-4453-9ce2-0999d9bfb233\" xlink:actuate=\"onRequest\" xlink:href=\"psysml:f56c438f-52f0-4453-9ce2-0999d9bfb233\" xlink:show=\"new\" xlink:title=\"psysml:f56c438f-52f0-4453-9ce2-0999d9bfb233\" xlink:type=\"simple\"><path d=\"M349,137.1 C349,156.8 349,184.22 349,205.73 \" fill=\"none\" id=\"E3-&gt;E4\" style=\"stroke: #A80036; stroke-width: 1.0; stroke-dasharray: 7.0,7.0;\"/><polygon fill=\"#A80036\" points=\"349,213.95,352,205.95,346,205.95,349,213.95\" style=\"stroke: #A80036; stroke-width: 1.0;\"/><text fill=\"#000000\" font-family=\"sans-serif\" font-size=\"13\" lengthAdjust=\"spacingAndGlyphs\" textLength=\"64\" x=\"350\" y=\"180.0669\">«depend»</text></a><!--MD5=[1b7591eae5389033d8d09a9d6721a717]\n",
       "link E4 to E5--><a href=\"psysml:149727ef-4884-4150-ac87-83ab56bc940c\" target=\"_top\" title=\"psysml:149727ef-4884-4150-ac87-83ab56bc940c\" xlink:actuate=\"onRequest\" xlink:href=\"psysml:149727ef-4884-4150-ac87-83ab56bc940c\" xlink:show=\"new\" xlink:title=\"psysml:149727ef-4884-4150-ac87-83ab56bc940c\" xlink:type=\"simple\"><path d=\"M349,267.1 C349,286.8 349,314.22 349,335.73 \" fill=\"none\" id=\"E4-&gt;E5\" style=\"stroke: #A80036; stroke-width: 1.0; stroke-dasharray: 7.0,7.0;\"/><polygon fill=\"#A80036\" points=\"349,343.95,352,335.95,346,335.95,349,343.95\" style=\"stroke: #A80036; stroke-width: 1.0;\"/><text fill=\"#000000\" font-family=\"sans-serif\" font-size=\"13\" lengthAdjust=\"spacingAndGlyphs\" textLength=\"64\" x=\"350\" y=\"310.0669\">«depend»</text></a><!--MD5=[c5e8897d989ce984f93528998a7150fe]\n",
       "link E8 to E6--><a href=\"psysml:6d264d90-cc53-4d32-95c3-fe1ad979e012\" target=\"_top\" title=\"psysml:6d264d90-cc53-4d32-95c3-fe1ad979e012\" xlink:actuate=\"onRequest\" xlink:href=\"psysml:6d264d90-cc53-4d32-95c3-fe1ad979e012\" xlink:show=\"new\" xlink:title=\"psysml:6d264d90-cc53-4d32-95c3-fe1ad979e012\" xlink:type=\"simple\"><path d=\"M89.42,133.6 C79.35,142.68 69.37,154.11 64,167 C58.5,180.2 58.66,195.94 60.54,209.38 \" fill=\"none\" id=\"E8-&gt;E6\" style=\"stroke: #A80036; stroke-width: 1.0; stroke-dasharray: 7.0,7.0;\"/><polygon fill=\"#A80036\" points=\"61.9,217.4,63.517,209.0104,57.6018,210.0159,61.9,217.4\" style=\"stroke: #A80036; stroke-width: 1.0;\"/><text fill=\"#000000\" font-family=\"sans-serif\" font-size=\"13\" lengthAdjust=\"spacingAndGlyphs\" textLength=\"64\" x=\"65\" y=\"180.0669\">«depend»</text></a><!--MD5=[bfa3c8b0d15052fdf50ae9310b491027]\n",
       "link E8 to E7--><a href=\"psysml:6d264d90-cc53-4d32-95c3-fe1ad979e012\" target=\"_top\" title=\"psysml:6d264d90-cc53-4d32-95c3-fe1ad979e012\" xlink:actuate=\"onRequest\" xlink:href=\"psysml:6d264d90-cc53-4d32-95c3-fe1ad979e012\" xlink:show=\"new\" xlink:title=\"psysml:6d264d90-cc53-4d32-95c3-fe1ad979e012\" xlink:type=\"simple\"><path d=\"M129.28,133.5 C138.17,154.57 151.64,186.5 161.47,209.81 \" fill=\"none\" id=\"E8-&gt;E7\" style=\"stroke: #A80036; stroke-width: 1.0; stroke-dasharray: 7.0,7.0;\"/><polygon fill=\"#A80036\" points=\"164.66,217.35,164.3241,208.8126,158.7933,211.1385,164.66,217.35\" style=\"stroke: #A80036; stroke-width: 1.0;\"/><text fill=\"#000000\" font-family=\"sans-serif\" font-size=\"13\" lengthAdjust=\"spacingAndGlyphs\" textLength=\"64\" x=\"151\" y=\"180.0669\">«depend»</text></a><!--MD5=[2c57d116dac507c63d0664bb0bcc6661]\n",
       "@startuml\r\n",
       "skinparam wrapWidth 300\r\n",
       "hide circle\r\n",
       "\r\n",
       "package \"DependencyTest\" as E1  [[psysml:d56232e2-0bee-4a1a-bb9b-8eb4f38b0dfa ]]  {\r\n",
       "package \"System\" as E2  [[psysml:50d5e3ed-2307-46ca-b041-8429ee229b8d ]]  {\r\n",
       "package \"Application Layer\" as E3  [[psysml:bf62b3a1-f030-4eff-b8ce-ffbdff107a6f ]]  {\r\n",
       "}\r\n",
       "package \"Service Layer\" as E4  [[psysml:471b2f11-dcf9-418e-881d-688bae838b3f ]]  {\r\n",
       "}\r\n",
       "package \"Data Layer\" as E5  [[psysml:da794142-8c7c-4611-9580-abeb242da5ef ]]  {\r\n",
       "}\r\n",
       "}\r\n",
       "comp usage \"x\" as E6  <<(T,blue)attribute>> [[psysml:ee6e66ae-6a4f-4999-8c9e-f85171cea95e ]] {\r\n",
       "}\r\n",
       "comp usage \"y\" as E7  <<(T,blue)attribute>> [[psysml:da3973fb-164e-4f16-bb62-2f8eaef60bc8 ]] {\r\n",
       "}\r\n",
       "comp usage \"z\" as E8  <<(T,blue)attribute>> [[psysml:8698e020-730f-4ac9-88e5-943d82c20ca0 ]] {\r\n",
       "}\r\n",
       "E3 ..>> E4 [[psysml:f56c438f-52f0-4453-9ce2-0999d9bfb233 ]] : <<depend>>\r\n",
       "E4 ..>> E5 [[psysml:149727ef-4884-4150-ac87-83ab56bc940c ]] : <<depend>>\r\n",
       "E8 ..>> E6 [[psysml:6d264d90-cc53-4d32-95c3-fe1ad979e012 ]] : <<depend>>\r\n",
       "E8 ..>> E7 [[psysml:6d264d90-cc53-4d32-95c3-fe1ad979e012 ]] : <<depend>>\r\n",
       "}\r\n",
       "@enduml\r\n",
       "\n",
       "PlantUML version 1.2020.13(Sat Jun 13 12:26:38 UTC 2020)\n",
       "(EPL source distribution)\n",
       "Java Runtime: OpenJDK Runtime Environment\n",
       "JVM: OpenJDK 64-Bit Server VM\n",
       "Default Encoding: UTF-8\n",
       "Language: en\n",
       "Country: null\n",
       "--></g></svg>"
      ]
     },
     "execution_count": 23,
     "metadata": {},
     "output_type": "execute_result"
    }
   ],
   "source": [
    "%viz --style=\"STDCOLOR\" --view=\"Default\" \"DependencyTest\""
   ]
  },
  {
   "cell_type": "code",
   "execution_count": 24,
   "id": "e24a855c",
   "metadata": {
    "execution": {
     "iopub.execute_input": "2021-04-20T07:32:18.677664Z",
     "iopub.status.busy": "2021-04-20T07:32:18.676988Z",
     "iopub.status.idle": "2021-04-20T07:32:18.729447Z",
     "shell.execute_reply": "2021-04-20T07:32:18.729027Z"
    }
   },
   "outputs": [
    {
     "data": {
      "image/svg+xml": [
       "<?xml version=\"1.0\" encoding=\"UTF-8\" standalone=\"no\"?><svg xmlns=\"http://www.w3.org/2000/svg\" xmlns:xlink=\"http://www.w3.org/1999/xlink\" contentScriptType=\"application/ecmascript\" contentStyleType=\"text/css\" height=\"449px\" preserveAspectRatio=\"none\" style=\"width:489px;height:449px;\" version=\"1.1\" viewBox=\"0 0 489 449\" width=\"489px\" zoomAndPan=\"magnify\"><defs><filter height=\"300%\" id=\"faebtcgze2xcd\" width=\"300%\" x=\"-1\" y=\"-1\"><feGaussianBlur result=\"blurOut\" stdDeviation=\"2.0\"/><feColorMatrix in=\"blurOut\" result=\"blurOut2\" type=\"matrix\" values=\"0 0 0 0 0 0 0 0 0 0 0 0 0 0 0 0 0 0 .4 0\"/><feOffset dx=\"4.0\" dy=\"4.0\" in=\"blurOut2\" result=\"blurOut3\"/><feBlend in=\"SourceGraphic\" in2=\"blurOut3\" mode=\"normal\"/></filter></defs><g><!--MD5=[fbc87193dbaf4d95561dea2c320d4a47]\n",
       "cluster E1--><a href=\"psysml:d56232e2-0bee-4a1a-bb9b-8eb4f38b0dfa\" target=\"_top\" title=\"psysml:d56232e2-0bee-4a1a-bb9b-8eb4f38b0dfa\" xlink:actuate=\"onRequest\" xlink:href=\"psysml:d56232e2-0bee-4a1a-bb9b-8eb4f38b0dfa\" xlink:show=\"new\" xlink:title=\"psysml:d56232e2-0bee-4a1a-bb9b-8eb4f38b0dfa\" xlink:type=\"simple\"><polygon fill=\"#FFFFFF\" filter=\"url(#faebtcgze2xcd)\" points=\"16,6,156,6,163,28.2969,467,28.2969,467,437,16,437,16,6\" style=\"stroke: #000000; stroke-width: 1.5;\"/><line style=\"stroke: #000000; stroke-width: 1.5;\" x1=\"16\" x2=\"163\" y1=\"28.2969\" y2=\"28.2969\"/><text fill=\"#000000\" font-family=\"sans-serif\" font-size=\"14\" font-weight=\"bold\" lengthAdjust=\"spacingAndGlyphs\" textLength=\"134\" x=\"20\" y=\"20.9951\">DependencyTest</text></a><!--MD5=[e4f7fae6ed58524ba242bb0b0d3be6b7]\n",
       "cluster E2--><a href=\"psysml:50d5e3ed-2307-46ca-b041-8429ee229b8d\" target=\"_top\" title=\"psysml:50d5e3ed-2307-46ca-b041-8429ee229b8d\" xlink:actuate=\"onRequest\" xlink:href=\"psysml:50d5e3ed-2307-46ca-b041-8429ee229b8d\" xlink:show=\"new\" xlink:title=\"psysml:50d5e3ed-2307-46ca-b041-8429ee229b8d\" xlink:type=\"simple\"><polygon fill=\"#FFFFFF\" filter=\"url(#faebtcgze2xcd)\" points=\"255,49,319,49,326,71.2969,443,71.2969,443,413,255,413,255,49\" style=\"stroke: #000000; stroke-width: 1.5;\"/><line style=\"stroke: #000000; stroke-width: 1.5;\" x1=\"255\" x2=\"326\" y1=\"71.2969\" y2=\"71.2969\"/><text fill=\"#000000\" font-family=\"sans-serif\" font-size=\"14\" font-weight=\"bold\" lengthAdjust=\"spacingAndGlyphs\" textLength=\"58\" x=\"259\" y=\"63.9951\">System</text></a><!--MD5=[60a26617385b1d2d0262a64233df1f8d]\n",
       "class E6--><a href=\"psysml:ee6e66ae-6a4f-4999-8c9e-f85171cea95e\" target=\"_top\" title=\"psysml:ee6e66ae-6a4f-4999-8c9e-f85171cea95e\" xlink:actuate=\"onRequest\" xlink:href=\"psysml:ee6e66ae-6a4f-4999-8c9e-f85171cea95e\" xlink:show=\"new\" xlink:title=\"psysml:ee6e66ae-6a4f-4999-8c9e-f85171cea95e\" xlink:type=\"simple\"><rect fill=\"#FEFECE\" filter=\"url(#faebtcgze2xcd)\" height=\"45.9375\" id=\"E6\" rx=\"10\" ry=\"10\" style=\"stroke: #A80036; stroke-width: 1.5;\" width=\"71\" x=\"32.5\" y=\"217.5\"/><text fill=\"#000000\" font-family=\"sans-serif\" font-size=\"12\" font-style=\"italic\" lengthAdjust=\"spacingAndGlyphs\" textLength=\"69\" x=\"33.5\" y=\"233.6387\">«attribute»</text><text fill=\"#000000\" font-family=\"sans-serif\" font-size=\"12\" lengthAdjust=\"spacingAndGlyphs\" textLength=\"6\" x=\"65\" y=\"247.6074\">x</text><line style=\"stroke: #A80036; stroke-width: 1.5;\" x1=\"33.5\" x2=\"102.5\" y1=\"255.4375\" y2=\"255.4375\"/></a><!--MD5=[2156ba9850f5573cc1fc38a6a4b2f02b]\n",
       "class E7--><a href=\"psysml:da3973fb-164e-4f16-bb62-2f8eaef60bc8\" target=\"_top\" title=\"psysml:da3973fb-164e-4f16-bb62-2f8eaef60bc8\" xlink:actuate=\"onRequest\" xlink:href=\"psysml:da3973fb-164e-4f16-bb62-2f8eaef60bc8\" xlink:show=\"new\" xlink:title=\"psysml:da3973fb-164e-4f16-bb62-2f8eaef60bc8\" xlink:type=\"simple\"><rect fill=\"#FEFECE\" filter=\"url(#faebtcgze2xcd)\" height=\"45.9375\" id=\"E7\" rx=\"10\" ry=\"10\" style=\"stroke: #A80036; stroke-width: 1.5;\" width=\"71\" x=\"138.5\" y=\"217.5\"/><text fill=\"#000000\" font-family=\"sans-serif\" font-size=\"12\" font-style=\"italic\" lengthAdjust=\"spacingAndGlyphs\" textLength=\"69\" x=\"139.5\" y=\"233.6387\">«attribute»</text><text fill=\"#000000\" font-family=\"sans-serif\" font-size=\"12\" lengthAdjust=\"spacingAndGlyphs\" textLength=\"6\" x=\"171\" y=\"247.6074\">y</text><line style=\"stroke: #A80036; stroke-width: 1.5;\" x1=\"139.5\" x2=\"208.5\" y1=\"255.4375\" y2=\"255.4375\"/></a><!--MD5=[b9389687b975829384b498ac4b7476b2]\n",
       "class E8--><a href=\"psysml:8698e020-730f-4ac9-88e5-943d82c20ca0\" target=\"_top\" title=\"psysml:8698e020-730f-4ac9-88e5-943d82c20ca0\" xlink:actuate=\"onRequest\" xlink:href=\"psysml:8698e020-730f-4ac9-88e5-943d82c20ca0\" xlink:show=\"new\" xlink:title=\"psysml:8698e020-730f-4ac9-88e5-943d82c20ca0\" xlink:type=\"simple\"><rect fill=\"#FEFECE\" filter=\"url(#faebtcgze2xcd)\" height=\"45.9375\" id=\"E8\" rx=\"10\" ry=\"10\" style=\"stroke: #A80036; stroke-width: 1.5;\" width=\"71\" x=\"84.5\" y=\"87.5\"/><text fill=\"#000000\" font-family=\"sans-serif\" font-size=\"12\" font-style=\"italic\" lengthAdjust=\"spacingAndGlyphs\" textLength=\"69\" x=\"85.5\" y=\"103.6387\">«attribute»</text><text fill=\"#000000\" font-family=\"sans-serif\" font-size=\"12\" lengthAdjust=\"spacingAndGlyphs\" textLength=\"5\" x=\"117.5\" y=\"117.6074\">z</text><line style=\"stroke: #A80036; stroke-width: 1.5;\" x1=\"85.5\" x2=\"154.5\" y1=\"125.4375\" y2=\"125.4375\"/></a><a href=\"psysml:bf62b3a1-f030-4eff-b8ce-ffbdff107a6f\" target=\"_top\" title=\"psysml:bf62b3a1-f030-4eff-b8ce-ffbdff107a6f\" xlink:actuate=\"onRequest\" xlink:href=\"psysml:bf62b3a1-f030-4eff-b8ce-ffbdff107a6f\" xlink:show=\"new\" xlink:title=\"psysml:bf62b3a1-f030-4eff-b8ce-ffbdff107a6f\" xlink:type=\"simple\"><polygon fill=\"#FFFFFF\" filter=\"url(#faebtcgze2xcd)\" points=\"271,84,413,84,420,106.2969,427,106.2969,427,136.5938,271,136.5938,271,84\" style=\"stroke: #000000; stroke-width: 1.5;\"/><line style=\"stroke: #000000; stroke-width: 1.5;\" x1=\"271\" x2=\"420\" y1=\"106.2969\" y2=\"106.2969\"/><text fill=\"#000000\" font-family=\"sans-serif\" font-size=\"14\" font-weight=\"bold\" lengthAdjust=\"spacingAndGlyphs\" textLength=\"136\" x=\"275\" y=\"98.9951\">Application Layer</text></a><a href=\"psysml:471b2f11-dcf9-418e-881d-688bae838b3f\" target=\"_top\" title=\"psysml:471b2f11-dcf9-418e-881d-688bae838b3f\" xlink:actuate=\"onRequest\" xlink:href=\"psysml:471b2f11-dcf9-418e-881d-688bae838b3f\" xlink:show=\"new\" xlink:title=\"psysml:471b2f11-dcf9-418e-881d-688bae838b3f\" xlink:type=\"simple\"><polygon fill=\"#FFFFFF\" filter=\"url(#faebtcgze2xcd)\" points=\"285,214,399,214,406,236.2969,413,236.2969,413,266.5938,285,266.5938,285,214\" style=\"stroke: #000000; stroke-width: 1.5;\"/><line style=\"stroke: #000000; stroke-width: 1.5;\" x1=\"285\" x2=\"406\" y1=\"236.2969\" y2=\"236.2969\"/><text fill=\"#000000\" font-family=\"sans-serif\" font-size=\"14\" font-weight=\"bold\" lengthAdjust=\"spacingAndGlyphs\" textLength=\"108\" x=\"289\" y=\"228.9951\">Service Layer</text></a><a href=\"psysml:da794142-8c7c-4611-9580-abeb242da5ef\" target=\"_top\" title=\"psysml:da794142-8c7c-4611-9580-abeb242da5ef\" xlink:actuate=\"onRequest\" xlink:href=\"psysml:da794142-8c7c-4611-9580-abeb242da5ef\" xlink:show=\"new\" xlink:title=\"psysml:da794142-8c7c-4611-9580-abeb242da5ef\" xlink:type=\"simple\"><polygon fill=\"#FFFFFF\" filter=\"url(#faebtcgze2xcd)\" points=\"297,344,387,344,394,366.2969,401,366.2969,401,396.5938,297,396.5938,297,344\" style=\"stroke: #000000; stroke-width: 1.5;\"/><line style=\"stroke: #000000; stroke-width: 1.5;\" x1=\"297\" x2=\"394\" y1=\"366.2969\" y2=\"366.2969\"/><text fill=\"#000000\" font-family=\"sans-serif\" font-size=\"14\" font-weight=\"bold\" lengthAdjust=\"spacingAndGlyphs\" textLength=\"84\" x=\"301\" y=\"358.9951\">Data Layer</text></a><!--MD5=[af87c684e3b0d8be13c1a698a818ef1e]\n",
       "link E3 to E4--><a href=\"psysml:f56c438f-52f0-4453-9ce2-0999d9bfb233\" target=\"_top\" title=\"psysml:f56c438f-52f0-4453-9ce2-0999d9bfb233\" xlink:actuate=\"onRequest\" xlink:href=\"psysml:f56c438f-52f0-4453-9ce2-0999d9bfb233\" xlink:show=\"new\" xlink:title=\"psysml:f56c438f-52f0-4453-9ce2-0999d9bfb233\" xlink:type=\"simple\"><path d=\"M349,137.1 C349,156.8 349,184.22 349,205.73 \" fill=\"none\" id=\"E3-&gt;E4\" style=\"stroke: #A80036; stroke-width: 1.0; stroke-dasharray: 7.0,7.0;\"/><polygon fill=\"#A80036\" points=\"349,213.95,352,205.95,346,205.95,349,213.95\" style=\"stroke: #A80036; stroke-width: 1.0;\"/><text fill=\"#000000\" font-family=\"sans-serif\" font-size=\"13\" lengthAdjust=\"spacingAndGlyphs\" textLength=\"64\" x=\"350\" y=\"180.0669\">«depend»</text></a><!--MD5=[1b7591eae5389033d8d09a9d6721a717]\n",
       "link E4 to E5--><a href=\"psysml:149727ef-4884-4150-ac87-83ab56bc940c\" target=\"_top\" title=\"psysml:149727ef-4884-4150-ac87-83ab56bc940c\" xlink:actuate=\"onRequest\" xlink:href=\"psysml:149727ef-4884-4150-ac87-83ab56bc940c\" xlink:show=\"new\" xlink:title=\"psysml:149727ef-4884-4150-ac87-83ab56bc940c\" xlink:type=\"simple\"><path d=\"M349,267.1 C349,286.8 349,314.22 349,335.73 \" fill=\"none\" id=\"E4-&gt;E5\" style=\"stroke: #A80036; stroke-width: 1.0; stroke-dasharray: 7.0,7.0;\"/><polygon fill=\"#A80036\" points=\"349,343.95,352,335.95,346,335.95,349,343.95\" style=\"stroke: #A80036; stroke-width: 1.0;\"/><text fill=\"#000000\" font-family=\"sans-serif\" font-size=\"13\" lengthAdjust=\"spacingAndGlyphs\" textLength=\"64\" x=\"350\" y=\"310.0669\">«depend»</text></a><!--MD5=[c5e8897d989ce984f93528998a7150fe]\n",
       "link E8 to E6--><a href=\"psysml:6d264d90-cc53-4d32-95c3-fe1ad979e012\" target=\"_top\" title=\"psysml:6d264d90-cc53-4d32-95c3-fe1ad979e012\" xlink:actuate=\"onRequest\" xlink:href=\"psysml:6d264d90-cc53-4d32-95c3-fe1ad979e012\" xlink:show=\"new\" xlink:title=\"psysml:6d264d90-cc53-4d32-95c3-fe1ad979e012\" xlink:type=\"simple\"><path d=\"M89.42,133.6 C79.35,142.68 69.37,154.11 64,167 C58.5,180.2 58.66,195.94 60.54,209.38 \" fill=\"none\" id=\"E8-&gt;E6\" style=\"stroke: #A80036; stroke-width: 1.0; stroke-dasharray: 7.0,7.0;\"/><polygon fill=\"#A80036\" points=\"61.9,217.4,63.517,209.0104,57.6018,210.0159,61.9,217.4\" style=\"stroke: #A80036; stroke-width: 1.0;\"/><text fill=\"#000000\" font-family=\"sans-serif\" font-size=\"13\" lengthAdjust=\"spacingAndGlyphs\" textLength=\"64\" x=\"65\" y=\"180.0669\">«depend»</text></a><!--MD5=[bfa3c8b0d15052fdf50ae9310b491027]\n",
       "link E8 to E7--><a href=\"psysml:6d264d90-cc53-4d32-95c3-fe1ad979e012\" target=\"_top\" title=\"psysml:6d264d90-cc53-4d32-95c3-fe1ad979e012\" xlink:actuate=\"onRequest\" xlink:href=\"psysml:6d264d90-cc53-4d32-95c3-fe1ad979e012\" xlink:show=\"new\" xlink:title=\"psysml:6d264d90-cc53-4d32-95c3-fe1ad979e012\" xlink:type=\"simple\"><path d=\"M129.28,133.5 C138.17,154.57 151.64,186.5 161.47,209.81 \" fill=\"none\" id=\"E8-&gt;E7\" style=\"stroke: #A80036; stroke-width: 1.0; stroke-dasharray: 7.0,7.0;\"/><polygon fill=\"#A80036\" points=\"164.66,217.35,164.3241,208.8126,158.7933,211.1385,164.66,217.35\" style=\"stroke: #A80036; stroke-width: 1.0;\"/><text fill=\"#000000\" font-family=\"sans-serif\" font-size=\"13\" lengthAdjust=\"spacingAndGlyphs\" textLength=\"64\" x=\"151\" y=\"180.0669\">«depend»</text></a><!--MD5=[2c57d116dac507c63d0664bb0bcc6661]\n",
       "@startuml\r\n",
       "skinparam wrapWidth 300\r\n",
       "hide circle\r\n",
       "\r\n",
       "package \"DependencyTest\" as E1  [[psysml:d56232e2-0bee-4a1a-bb9b-8eb4f38b0dfa ]]  {\r\n",
       "package \"System\" as E2  [[psysml:50d5e3ed-2307-46ca-b041-8429ee229b8d ]]  {\r\n",
       "package \"Application Layer\" as E3  [[psysml:bf62b3a1-f030-4eff-b8ce-ffbdff107a6f ]]  {\r\n",
       "}\r\n",
       "package \"Service Layer\" as E4  [[psysml:471b2f11-dcf9-418e-881d-688bae838b3f ]]  {\r\n",
       "}\r\n",
       "package \"Data Layer\" as E5  [[psysml:da794142-8c7c-4611-9580-abeb242da5ef ]]  {\r\n",
       "}\r\n",
       "}\r\n",
       "comp usage \"x\" as E6  <<(T,blue)attribute>> [[psysml:ee6e66ae-6a4f-4999-8c9e-f85171cea95e ]] {\r\n",
       "}\r\n",
       "comp usage \"y\" as E7  <<(T,blue)attribute>> [[psysml:da3973fb-164e-4f16-bb62-2f8eaef60bc8 ]] {\r\n",
       "}\r\n",
       "comp usage \"z\" as E8  <<(T,blue)attribute>> [[psysml:8698e020-730f-4ac9-88e5-943d82c20ca0 ]] {\r\n",
       "}\r\n",
       "E3 ..>> E4 [[psysml:f56c438f-52f0-4453-9ce2-0999d9bfb233 ]] : <<depend>>\r\n",
       "E4 ..>> E5 [[psysml:149727ef-4884-4150-ac87-83ab56bc940c ]] : <<depend>>\r\n",
       "E8 ..>> E6 [[psysml:6d264d90-cc53-4d32-95c3-fe1ad979e012 ]] : <<depend>>\r\n",
       "E8 ..>> E7 [[psysml:6d264d90-cc53-4d32-95c3-fe1ad979e012 ]] : <<depend>>\r\n",
       "}\r\n",
       "@enduml\r\n",
       "\n",
       "PlantUML version 1.2020.13(Sat Jun 13 12:26:38 UTC 2020)\n",
       "(EPL source distribution)\n",
       "Java Runtime: OpenJDK Runtime Environment\n",
       "JVM: OpenJDK 64-Bit Server VM\n",
       "Default Encoding: UTF-8\n",
       "Language: en\n",
       "Country: null\n",
       "--></g></svg>"
      ]
     },
     "execution_count": 24,
     "metadata": {},
     "output_type": "execute_result"
    }
   ],
   "source": [
    "%viz --style=\"STDCOLOR\" --view=\"Tree\" \"DependencyTest\""
   ]
  },
  {
   "cell_type": "code",
   "execution_count": 25,
   "id": "12de9a27",
   "metadata": {
    "execution": {
     "iopub.execute_input": "2021-04-20T07:32:18.779822Z",
     "iopub.status.busy": "2021-04-20T07:32:18.779207Z",
     "iopub.status.idle": "2021-04-20T07:32:18.785759Z",
     "shell.execute_reply": "2021-04-20T07:32:18.785390Z"
    }
   },
   "outputs": [
    {
     "data": {
      "image/svg+xml": [
       "<?xml version=\"1.0\" encoding=\"UTF-8\" standalone=\"no\"?><svg xmlns=\"http://www.w3.org/2000/svg\" xmlns:xlink=\"http://www.w3.org/1999/xlink\" contentScriptType=\"application/ecmascript\" contentStyleType=\"text/css\" height=\"12px\" preserveAspectRatio=\"none\" style=\"width:12px;height:12px;\" version=\"1.1\" viewBox=\"0 0 12 12\" width=\"12px\" zoomAndPan=\"magnify\"><defs/><g><!--MD5=[aeeef50f102b80d730deb6443d14f702]\n",
       "@startuml\r\n",
       "skinparam wrapWidth 300\r\n",
       "hide circle\r\n",
       "\r\n",
       "@enduml\r\n",
       "\n",
       "PlantUML version 1.2020.13(Sat Jun 13 12:26:38 UTC 2020)\n",
       "(EPL source distribution)\n",
       "Java Runtime: OpenJDK Runtime Environment\n",
       "JVM: OpenJDK 64-Bit Server VM\n",
       "Default Encoding: UTF-8\n",
       "Language: en\n",
       "Country: null\n",
       "--></g></svg>"
      ]
     },
     "execution_count": 25,
     "metadata": {},
     "output_type": "execute_result"
    }
   ],
   "source": [
    "%viz --style=\"STDCOLOR\" --view=\"State\" \"DependencyTest\""
   ]
  },
  {
   "cell_type": "code",
   "execution_count": 26,
   "id": "1052d6ae",
   "metadata": {
    "execution": {
     "iopub.execute_input": "2021-04-20T07:32:18.836385Z",
     "iopub.status.busy": "2021-04-20T07:32:18.835726Z",
     "iopub.status.idle": "2021-04-20T07:32:18.876288Z",
     "shell.execute_reply": "2021-04-20T07:32:18.874563Z"
    }
   },
   "outputs": [
    {
     "data": {
      "image/svg+xml": [
       "<?xml version=\"1.0\" encoding=\"UTF-8\" standalone=\"no\"?><svg xmlns=\"http://www.w3.org/2000/svg\" xmlns:xlink=\"http://www.w3.org/1999/xlink\" contentScriptType=\"application/ecmascript\" contentStyleType=\"text/css\" height=\"361px\" preserveAspectRatio=\"none\" style=\"width:489px;height:361px;\" version=\"1.1\" viewBox=\"0 0 489 361\" width=\"489px\" zoomAndPan=\"magnify\"><defs><filter height=\"300%\" id=\"f13og4mf5c59mg\" width=\"300%\" x=\"-1\" y=\"-1\"><feGaussianBlur result=\"blurOut\" stdDeviation=\"2.0\"/><feColorMatrix in=\"blurOut\" result=\"blurOut2\" type=\"matrix\" values=\"0 0 0 0 0 0 0 0 0 0 0 0 0 0 0 0 0 0 .4 0\"/><feOffset dx=\"4.0\" dy=\"4.0\" in=\"blurOut2\" result=\"blurOut3\"/><feBlend in=\"SourceGraphic\" in2=\"blurOut3\" mode=\"normal\"/></filter></defs><g><!--MD5=[fbc87193dbaf4d95561dea2c320d4a47]\n",
       "cluster E1--><a href=\"psysml:d56232e2-0bee-4a1a-bb9b-8eb4f38b0dfa\" target=\"_top\" title=\"psysml:d56232e2-0bee-4a1a-bb9b-8eb4f38b0dfa\" xlink:actuate=\"onRequest\" xlink:href=\"psysml:d56232e2-0bee-4a1a-bb9b-8eb4f38b0dfa\" xlink:show=\"new\" xlink:title=\"psysml:d56232e2-0bee-4a1a-bb9b-8eb4f38b0dfa\" xlink:type=\"simple\"><polygon fill=\"#FFFFFF\" filter=\"url(#f13og4mf5c59mg)\" points=\"16,6,156,6,163,28.2969,467,28.2969,467,349,16,349,16,6\" style=\"stroke: #000000; stroke-width: 1.5;\"/><line style=\"stroke: #000000; stroke-width: 1.5;\" x1=\"16\" x2=\"163\" y1=\"28.2969\" y2=\"28.2969\"/><text fill=\"#000000\" font-family=\"sans-serif\" font-size=\"14\" font-weight=\"bold\" lengthAdjust=\"spacingAndGlyphs\" textLength=\"134\" x=\"20\" y=\"20.9951\">DependencyTest</text></a><!--MD5=[e4f7fae6ed58524ba242bb0b0d3be6b7]\n",
       "cluster E2--><a href=\"psysml:50d5e3ed-2307-46ca-b041-8429ee229b8d\" target=\"_top\" title=\"psysml:50d5e3ed-2307-46ca-b041-8429ee229b8d\" xlink:actuate=\"onRequest\" xlink:href=\"psysml:50d5e3ed-2307-46ca-b041-8429ee229b8d\" xlink:show=\"new\" xlink:title=\"psysml:50d5e3ed-2307-46ca-b041-8429ee229b8d\" xlink:type=\"simple\"><polygon fill=\"#FFFFFF\" filter=\"url(#f13og4mf5c59mg)\" points=\"255,49,319,49,326,71.2969,443,71.2969,443,325,255,325,255,49\" style=\"stroke: #000000; stroke-width: 1.5;\"/><line style=\"stroke: #000000; stroke-width: 1.5;\" x1=\"255\" x2=\"326\" y1=\"71.2969\" y2=\"71.2969\"/><text fill=\"#000000\" font-family=\"sans-serif\" font-size=\"14\" font-weight=\"bold\" lengthAdjust=\"spacingAndGlyphs\" textLength=\"58\" x=\"259\" y=\"63.9951\">System</text></a><!--MD5=[60a26617385b1d2d0262a64233df1f8d]\n",
       "class E6--><a href=\"psysml:ee6e66ae-6a4f-4999-8c9e-f85171cea95e\" target=\"_top\" title=\"psysml:ee6e66ae-6a4f-4999-8c9e-f85171cea95e\" xlink:actuate=\"onRequest\" xlink:href=\"psysml:ee6e66ae-6a4f-4999-8c9e-f85171cea95e\" xlink:show=\"new\" xlink:title=\"psysml:ee6e66ae-6a4f-4999-8c9e-f85171cea95e\" xlink:type=\"simple\"><rect fill=\"#FEFECE\" filter=\"url(#f13og4mf5c59mg)\" height=\"45.9375\" id=\"E6\" rx=\"10\" ry=\"10\" style=\"stroke: #A80036; stroke-width: 1.5;\" width=\"71\" x=\"32.5\" y=\"173.5\"/><text fill=\"#000000\" font-family=\"sans-serif\" font-size=\"12\" font-style=\"italic\" lengthAdjust=\"spacingAndGlyphs\" textLength=\"69\" x=\"33.5\" y=\"189.6387\">«attribute»</text><text fill=\"#000000\" font-family=\"sans-serif\" font-size=\"12\" lengthAdjust=\"spacingAndGlyphs\" textLength=\"6\" x=\"65\" y=\"203.6074\">x</text><line style=\"stroke: #A80036; stroke-width: 1.5;\" x1=\"33.5\" x2=\"102.5\" y1=\"211.4375\" y2=\"211.4375\"/></a><!--MD5=[2156ba9850f5573cc1fc38a6a4b2f02b]\n",
       "class E7--><a href=\"psysml:da3973fb-164e-4f16-bb62-2f8eaef60bc8\" target=\"_top\" title=\"psysml:da3973fb-164e-4f16-bb62-2f8eaef60bc8\" xlink:actuate=\"onRequest\" xlink:href=\"psysml:da3973fb-164e-4f16-bb62-2f8eaef60bc8\" xlink:show=\"new\" xlink:title=\"psysml:da3973fb-164e-4f16-bb62-2f8eaef60bc8\" xlink:type=\"simple\"><rect fill=\"#FEFECE\" filter=\"url(#f13og4mf5c59mg)\" height=\"45.9375\" id=\"E7\" rx=\"10\" ry=\"10\" style=\"stroke: #A80036; stroke-width: 1.5;\" width=\"71\" x=\"138.5\" y=\"173.5\"/><text fill=\"#000000\" font-family=\"sans-serif\" font-size=\"12\" font-style=\"italic\" lengthAdjust=\"spacingAndGlyphs\" textLength=\"69\" x=\"139.5\" y=\"189.6387\">«attribute»</text><text fill=\"#000000\" font-family=\"sans-serif\" font-size=\"12\" lengthAdjust=\"spacingAndGlyphs\" textLength=\"6\" x=\"171\" y=\"203.6074\">y</text><line style=\"stroke: #A80036; stroke-width: 1.5;\" x1=\"139.5\" x2=\"208.5\" y1=\"211.4375\" y2=\"211.4375\"/></a><!--MD5=[b9389687b975829384b498ac4b7476b2]\n",
       "class E8--><a href=\"psysml:8698e020-730f-4ac9-88e5-943d82c20ca0\" target=\"_top\" title=\"psysml:8698e020-730f-4ac9-88e5-943d82c20ca0\" xlink:actuate=\"onRequest\" xlink:href=\"psysml:8698e020-730f-4ac9-88e5-943d82c20ca0\" xlink:show=\"new\" xlink:title=\"psysml:8698e020-730f-4ac9-88e5-943d82c20ca0\" xlink:type=\"simple\"><rect fill=\"#FEFECE\" filter=\"url(#f13og4mf5c59mg)\" height=\"45.9375\" id=\"E8\" rx=\"10\" ry=\"10\" style=\"stroke: #A80036; stroke-width: 1.5;\" width=\"71\" x=\"84.5\" y=\"87.5\"/><text fill=\"#000000\" font-family=\"sans-serif\" font-size=\"12\" font-style=\"italic\" lengthAdjust=\"spacingAndGlyphs\" textLength=\"69\" x=\"85.5\" y=\"103.6387\">«attribute»</text><text fill=\"#000000\" font-family=\"sans-serif\" font-size=\"12\" lengthAdjust=\"spacingAndGlyphs\" textLength=\"5\" x=\"117.5\" y=\"117.6074\">z</text><line style=\"stroke: #A80036; stroke-width: 1.5;\" x1=\"85.5\" x2=\"154.5\" y1=\"125.4375\" y2=\"125.4375\"/></a><a href=\"psysml:bf62b3a1-f030-4eff-b8ce-ffbdff107a6f\" target=\"_top\" title=\"psysml:bf62b3a1-f030-4eff-b8ce-ffbdff107a6f\" xlink:actuate=\"onRequest\" xlink:href=\"psysml:bf62b3a1-f030-4eff-b8ce-ffbdff107a6f\" xlink:show=\"new\" xlink:title=\"psysml:bf62b3a1-f030-4eff-b8ce-ffbdff107a6f\" xlink:type=\"simple\"><polygon fill=\"#FFFFFF\" filter=\"url(#f13og4mf5c59mg)\" points=\"271,84,413,84,420,106.2969,427,106.2969,427,136.5938,271,136.5938,271,84\" style=\"stroke: #000000; stroke-width: 1.5;\"/><line style=\"stroke: #000000; stroke-width: 1.5;\" x1=\"271\" x2=\"420\" y1=\"106.2969\" y2=\"106.2969\"/><text fill=\"#000000\" font-family=\"sans-serif\" font-size=\"14\" font-weight=\"bold\" lengthAdjust=\"spacingAndGlyphs\" textLength=\"136\" x=\"275\" y=\"98.9951\">Application Layer</text></a><a href=\"psysml:471b2f11-dcf9-418e-881d-688bae838b3f\" target=\"_top\" title=\"psysml:471b2f11-dcf9-418e-881d-688bae838b3f\" xlink:actuate=\"onRequest\" xlink:href=\"psysml:471b2f11-dcf9-418e-881d-688bae838b3f\" xlink:show=\"new\" xlink:title=\"psysml:471b2f11-dcf9-418e-881d-688bae838b3f\" xlink:type=\"simple\"><polygon fill=\"#FFFFFF\" filter=\"url(#f13og4mf5c59mg)\" points=\"285,170,399,170,406,192.2969,413,192.2969,413,222.5938,285,222.5938,285,170\" style=\"stroke: #000000; stroke-width: 1.5;\"/><line style=\"stroke: #000000; stroke-width: 1.5;\" x1=\"285\" x2=\"406\" y1=\"192.2969\" y2=\"192.2969\"/><text fill=\"#000000\" font-family=\"sans-serif\" font-size=\"14\" font-weight=\"bold\" lengthAdjust=\"spacingAndGlyphs\" textLength=\"108\" x=\"289\" y=\"184.9951\">Service Layer</text></a><a href=\"psysml:da794142-8c7c-4611-9580-abeb242da5ef\" target=\"_top\" title=\"psysml:da794142-8c7c-4611-9580-abeb242da5ef\" xlink:actuate=\"onRequest\" xlink:href=\"psysml:da794142-8c7c-4611-9580-abeb242da5ef\" xlink:show=\"new\" xlink:title=\"psysml:da794142-8c7c-4611-9580-abeb242da5ef\" xlink:type=\"simple\"><polygon fill=\"#FFFFFF\" filter=\"url(#f13og4mf5c59mg)\" points=\"297,256,387,256,394,278.2969,401,278.2969,401,308.5938,297,308.5938,297,256\" style=\"stroke: #000000; stroke-width: 1.5;\"/><line style=\"stroke: #000000; stroke-width: 1.5;\" x1=\"297\" x2=\"394\" y1=\"278.2969\" y2=\"278.2969\"/><text fill=\"#000000\" font-family=\"sans-serif\" font-size=\"14\" font-weight=\"bold\" lengthAdjust=\"spacingAndGlyphs\" textLength=\"84\" x=\"301\" y=\"270.9951\">Data Layer</text></a><!--MD5=[af87c684e3b0d8be13c1a698a818ef1e]\n",
       "link E3 to E4--><a href=\"psysml:f56c438f-52f0-4453-9ce2-0999d9bfb233\" target=\"_top\" title=\"psysml:f56c438f-52f0-4453-9ce2-0999d9bfb233\" xlink:actuate=\"onRequest\" xlink:href=\"psysml:f56c438f-52f0-4453-9ce2-0999d9bfb233\" xlink:show=\"new\" xlink:title=\"psysml:f56c438f-52f0-4453-9ce2-0999d9bfb233\" xlink:type=\"simple\"><path d=\"M349,137.16 C349,144.98 349,153.69 349,161.94 \" fill=\"none\" id=\"E3-&gt;E4\" style=\"stroke: #A80036; stroke-width: 1.0; stroke-dasharray: 7.0,7.0;\"/><polygon fill=\"#A80036\" points=\"349,170,352,162,346,162,349,170\" style=\"stroke: #A80036; stroke-width: 1.0;\"/><text fill=\"#000000\" font-family=\"sans-serif\" font-size=\"13\" lengthAdjust=\"spacingAndGlyphs\" textLength=\"64\" x=\"350\" y=\"158.0669\">«depend»</text></a><!--MD5=[1b7591eae5389033d8d09a9d6721a717]\n",
       "link E4 to E5--><a href=\"psysml:149727ef-4884-4150-ac87-83ab56bc940c\" target=\"_top\" title=\"psysml:149727ef-4884-4150-ac87-83ab56bc940c\" xlink:actuate=\"onRequest\" xlink:href=\"psysml:149727ef-4884-4150-ac87-83ab56bc940c\" xlink:show=\"new\" xlink:title=\"psysml:149727ef-4884-4150-ac87-83ab56bc940c\" xlink:type=\"simple\"><path d=\"M349,223.16 C349,230.98 349,239.69 349,247.94 \" fill=\"none\" id=\"E4-&gt;E5\" style=\"stroke: #A80036; stroke-width: 1.0; stroke-dasharray: 7.0,7.0;\"/><polygon fill=\"#A80036\" points=\"349,256,352,248,346,248,349,256\" style=\"stroke: #A80036; stroke-width: 1.0;\"/><text fill=\"#000000\" font-family=\"sans-serif\" font-size=\"13\" lengthAdjust=\"spacingAndGlyphs\" textLength=\"64\" x=\"350\" y=\"244.0669\">«depend»</text></a><!--MD5=[c5e8897d989ce984f93528998a7150fe]\n",
       "link E8 to E6--><a href=\"psysml:6d264d90-cc53-4d32-95c3-fe1ad979e012\" target=\"_top\" title=\"psysml:6d264d90-cc53-4d32-95c3-fe1ad979e012\" xlink:actuate=\"onRequest\" xlink:href=\"psysml:6d264d90-cc53-4d32-95c3-fe1ad979e012\" xlink:show=\"new\" xlink:title=\"psysml:6d264d90-cc53-4d32-95c3-fe1ad979e012\" xlink:type=\"simple\"><path d=\"M84.49,125.34 C76.34,130.27 68.69,136.72 64,145 C60.54,151.1 59.62,158.31 60,165.33 \" fill=\"none\" id=\"E8-&gt;E6\" style=\"stroke: #A80036; stroke-width: 1.0; stroke-dasharray: 7.0,7.0;\"/><polygon fill=\"#A80036\" points=\"60.97,173.42,63.0061,165.1221,57.0479,165.8294,60.97,173.42\" style=\"stroke: #A80036; stroke-width: 1.0;\"/><text fill=\"#000000\" font-family=\"sans-serif\" font-size=\"13\" lengthAdjust=\"spacingAndGlyphs\" textLength=\"64\" x=\"65\" y=\"158.0669\">«depend»</text></a><!--MD5=[bfa3c8b0d15052fdf50ae9310b491027]\n",
       "link E8 to E7--><a href=\"psysml:6d264d90-cc53-4d32-95c3-fe1ad979e012\" target=\"_top\" title=\"psysml:6d264d90-cc53-4d32-95c3-fe1ad979e012\" xlink:actuate=\"onRequest\" xlink:href=\"psysml:6d264d90-cc53-4d32-95c3-fe1ad979e012\" xlink:show=\"new\" xlink:title=\"psysml:6d264d90-cc53-4d32-95c3-fe1ad979e012\" xlink:type=\"simple\"><path d=\"M134.19,133.57 C140.65,143.62 148.38,155.65 155.31,166.42 \" fill=\"none\" id=\"E8-&gt;E7\" style=\"stroke: #A80036; stroke-width: 1.0; stroke-dasharray: 7.0,7.0;\"/><polygon fill=\"#A80036\" points=\"159.72,173.29,157.9148,164.9389,152.8688,168.185,159.72,173.29\" style=\"stroke: #A80036; stroke-width: 1.0;\"/><text fill=\"#000000\" font-family=\"sans-serif\" font-size=\"13\" lengthAdjust=\"spacingAndGlyphs\" textLength=\"64\" x=\"152\" y=\"158.0669\">«depend»</text></a><!--MD5=[a686b7f143eb8bf24f282bd99de8a23b]\n",
       "@startuml\r\n",
       "skinparam ranksep 10\r\n",
       "skinparam rectangle {\r\n",
       " backgroundColor<<block>> LightGreen\r\n",
       "}\r\n",
       "skinparam wrapWidth 300\r\n",
       "hide circle\r\n",
       "\r\n",
       "package \"DependencyTest\" as E1  [[psysml:d56232e2-0bee-4a1a-bb9b-8eb4f38b0dfa ]]  {\r\n",
       "package \"System\" as E2  [[psysml:50d5e3ed-2307-46ca-b041-8429ee229b8d ]]  {\r\n",
       "package \"Application Layer\" as E3  [[psysml:bf62b3a1-f030-4eff-b8ce-ffbdff107a6f ]]  {\r\n",
       "}\r\n",
       "package \"Service Layer\" as E4  [[psysml:471b2f11-dcf9-418e-881d-688bae838b3f ]]  {\r\n",
       "}\r\n",
       "package \"Data Layer\" as E5  [[psysml:da794142-8c7c-4611-9580-abeb242da5ef ]]  {\r\n",
       "}\r\n",
       "}\r\n",
       "comp usage \"x\" as E6  <<(T,blue)attribute>> [[psysml:ee6e66ae-6a4f-4999-8c9e-f85171cea95e ]] {\r\n",
       "}\r\n",
       "comp usage \"y\" as E7  <<(T,blue)attribute>> [[psysml:da3973fb-164e-4f16-bb62-2f8eaef60bc8 ]] {\r\n",
       "}\r\n",
       "comp usage \"z\" as E8  <<(T,blue)attribute>> [[psysml:8698e020-730f-4ac9-88e5-943d82c20ca0 ]] {\r\n",
       "}\r\n",
       "E3 ..>> E4 [[psysml:f56c438f-52f0-4453-9ce2-0999d9bfb233 ]] : <<depend>>\r\n",
       "E4 ..>> E5 [[psysml:149727ef-4884-4150-ac87-83ab56bc940c ]] : <<depend>>\r\n",
       "E8 ..>> E6 [[psysml:6d264d90-cc53-4d32-95c3-fe1ad979e012 ]] : <<depend>>\r\n",
       "E8 ..>> E7 [[psysml:6d264d90-cc53-4d32-95c3-fe1ad979e012 ]] : <<depend>>\r\n",
       "}\r\n",
       "@enduml\r\n",
       "\n",
       "PlantUML version 1.2020.13(Sat Jun 13 12:26:38 UTC 2020)\n",
       "(EPL source distribution)\n",
       "Java Runtime: OpenJDK Runtime Environment\n",
       "JVM: OpenJDK 64-Bit Server VM\n",
       "Default Encoding: UTF-8\n",
       "Language: en\n",
       "Country: null\n",
       "--></g></svg>"
      ]
     },
     "execution_count": 26,
     "metadata": {},
     "output_type": "execute_result"
    }
   ],
   "source": [
    "%viz --style=\"STDCOLOR\" --view=\"Interconnection\" \"DependencyTest\""
   ]
  },
  {
   "cell_type": "code",
   "execution_count": 27,
   "id": "27c26aa2",
   "metadata": {
    "execution": {
     "iopub.execute_input": "2021-04-20T07:32:18.926358Z",
     "iopub.status.busy": "2021-04-20T07:32:18.925700Z",
     "iopub.status.idle": "2021-04-20T07:32:18.931564Z",
     "shell.execute_reply": "2021-04-20T07:32:18.931110Z"
    }
   },
   "outputs": [
    {
     "data": {
      "image/svg+xml": [
       "<?xml version=\"1.0\" encoding=\"UTF-8\" standalone=\"no\"?><svg xmlns=\"http://www.w3.org/2000/svg\" xmlns:xlink=\"http://www.w3.org/1999/xlink\" contentScriptType=\"application/ecmascript\" contentStyleType=\"text/css\" height=\"12px\" preserveAspectRatio=\"none\" style=\"width:12px;height:12px;\" version=\"1.1\" viewBox=\"0 0 12 12\" width=\"12px\" zoomAndPan=\"magnify\"><defs/><g><!--MD5=[9863325348a96a77dacc89509d8ee65e]\n",
       "@startuml\r\n",
       "skinparam ranksep 8\r\n",
       "skinparam wrapWidth 300\r\n",
       "hide circle\r\n",
       "\r\n",
       "@enduml\r\n",
       "\n",
       "PlantUML version 1.2020.13(Sat Jun 13 12:26:38 UTC 2020)\n",
       "(EPL source distribution)\n",
       "Java Runtime: OpenJDK Runtime Environment\n",
       "JVM: OpenJDK 64-Bit Server VM\n",
       "Default Encoding: UTF-8\n",
       "Language: en\n",
       "Country: null\n",
       "--></g></svg>"
      ]
     },
     "execution_count": 27,
     "metadata": {},
     "output_type": "execute_result"
    }
   ],
   "source": [
    "%viz --style=\"STDCOLOR\" --view=\"Action\" \"DependencyTest\""
   ]
  },
  {
   "cell_type": "code",
   "execution_count": 28,
   "id": "fbae2b99",
   "metadata": {
    "execution": {
     "iopub.execute_input": "2021-04-20T07:32:18.982439Z",
     "iopub.status.busy": "2021-04-20T07:32:18.981897Z",
     "iopub.status.idle": "2021-04-20T07:32:19.024669Z",
     "shell.execute_reply": "2021-04-20T07:32:19.023049Z"
    }
   },
   "outputs": [
    {
     "data": {
      "image/svg+xml": [
       "<?xml version=\"1.0\" encoding=\"UTF-8\" standalone=\"no\"?><svg xmlns=\"http://www.w3.org/2000/svg\" xmlns:xlink=\"http://www.w3.org/1999/xlink\" contentScriptType=\"application/ecmascript\" contentStyleType=\"text/css\" height=\"449px\" preserveAspectRatio=\"none\" style=\"width:489px;height:449px;\" version=\"1.1\" viewBox=\"0 0 489 449\" width=\"489px\" zoomAndPan=\"magnify\"><defs><filter height=\"300%\" id=\"faebtcgze2xcd\" width=\"300%\" x=\"-1\" y=\"-1\"><feGaussianBlur result=\"blurOut\" stdDeviation=\"2.0\"/><feColorMatrix in=\"blurOut\" result=\"blurOut2\" type=\"matrix\" values=\"0 0 0 0 0 0 0 0 0 0 0 0 0 0 0 0 0 0 .4 0\"/><feOffset dx=\"4.0\" dy=\"4.0\" in=\"blurOut2\" result=\"blurOut3\"/><feBlend in=\"SourceGraphic\" in2=\"blurOut3\" mode=\"normal\"/></filter></defs><g><!--MD5=[fbc87193dbaf4d95561dea2c320d4a47]\n",
       "cluster E1--><a href=\"psysml:d56232e2-0bee-4a1a-bb9b-8eb4f38b0dfa\" target=\"_top\" title=\"psysml:d56232e2-0bee-4a1a-bb9b-8eb4f38b0dfa\" xlink:actuate=\"onRequest\" xlink:href=\"psysml:d56232e2-0bee-4a1a-bb9b-8eb4f38b0dfa\" xlink:show=\"new\" xlink:title=\"psysml:d56232e2-0bee-4a1a-bb9b-8eb4f38b0dfa\" xlink:type=\"simple\"><polygon fill=\"#FFFFFF\" filter=\"url(#faebtcgze2xcd)\" points=\"16,6,156,6,163,28.2969,467,28.2969,467,437,16,437,16,6\" style=\"stroke: #000000; stroke-width: 1.5;\"/><line style=\"stroke: #000000; stroke-width: 1.5;\" x1=\"16\" x2=\"163\" y1=\"28.2969\" y2=\"28.2969\"/><text fill=\"#000000\" font-family=\"sans-serif\" font-size=\"14\" font-weight=\"bold\" lengthAdjust=\"spacingAndGlyphs\" textLength=\"134\" x=\"20\" y=\"20.9951\">DependencyTest</text></a><!--MD5=[e4f7fae6ed58524ba242bb0b0d3be6b7]\n",
       "cluster E2--><a href=\"psysml:50d5e3ed-2307-46ca-b041-8429ee229b8d\" target=\"_top\" title=\"psysml:50d5e3ed-2307-46ca-b041-8429ee229b8d\" xlink:actuate=\"onRequest\" xlink:href=\"psysml:50d5e3ed-2307-46ca-b041-8429ee229b8d\" xlink:show=\"new\" xlink:title=\"psysml:50d5e3ed-2307-46ca-b041-8429ee229b8d\" xlink:type=\"simple\"><polygon fill=\"#FFFFFF\" filter=\"url(#faebtcgze2xcd)\" points=\"255,49,319,49,326,71.2969,443,71.2969,443,413,255,413,255,49\" style=\"stroke: #000000; stroke-width: 1.5;\"/><line style=\"stroke: #000000; stroke-width: 1.5;\" x1=\"255\" x2=\"326\" y1=\"71.2969\" y2=\"71.2969\"/><text fill=\"#000000\" font-family=\"sans-serif\" font-size=\"14\" font-weight=\"bold\" lengthAdjust=\"spacingAndGlyphs\" textLength=\"58\" x=\"259\" y=\"63.9951\">System</text></a><!--MD5=[60a26617385b1d2d0262a64233df1f8d]\n",
       "class E6--><a href=\"psysml:ee6e66ae-6a4f-4999-8c9e-f85171cea95e\" target=\"_top\" title=\"psysml:ee6e66ae-6a4f-4999-8c9e-f85171cea95e\" xlink:actuate=\"onRequest\" xlink:href=\"psysml:ee6e66ae-6a4f-4999-8c9e-f85171cea95e\" xlink:show=\"new\" xlink:title=\"psysml:ee6e66ae-6a4f-4999-8c9e-f85171cea95e\" xlink:type=\"simple\"><rect fill=\"#FEFECE\" filter=\"url(#faebtcgze2xcd)\" height=\"45.9375\" id=\"E6\" rx=\"10\" ry=\"10\" style=\"stroke: #A80036; stroke-width: 1.5;\" width=\"71\" x=\"32.5\" y=\"217.5\"/><text fill=\"#000000\" font-family=\"sans-serif\" font-size=\"12\" font-style=\"italic\" lengthAdjust=\"spacingAndGlyphs\" textLength=\"69\" x=\"33.5\" y=\"233.6387\">«attribute»</text><text fill=\"#000000\" font-family=\"sans-serif\" font-size=\"12\" lengthAdjust=\"spacingAndGlyphs\" textLength=\"6\" x=\"65\" y=\"247.6074\">x</text><line style=\"stroke: #A80036; stroke-width: 1.5;\" x1=\"33.5\" x2=\"102.5\" y1=\"255.4375\" y2=\"255.4375\"/></a><!--MD5=[2156ba9850f5573cc1fc38a6a4b2f02b]\n",
       "class E7--><a href=\"psysml:da3973fb-164e-4f16-bb62-2f8eaef60bc8\" target=\"_top\" title=\"psysml:da3973fb-164e-4f16-bb62-2f8eaef60bc8\" xlink:actuate=\"onRequest\" xlink:href=\"psysml:da3973fb-164e-4f16-bb62-2f8eaef60bc8\" xlink:show=\"new\" xlink:title=\"psysml:da3973fb-164e-4f16-bb62-2f8eaef60bc8\" xlink:type=\"simple\"><rect fill=\"#FEFECE\" filter=\"url(#faebtcgze2xcd)\" height=\"45.9375\" id=\"E7\" rx=\"10\" ry=\"10\" style=\"stroke: #A80036; stroke-width: 1.5;\" width=\"71\" x=\"138.5\" y=\"217.5\"/><text fill=\"#000000\" font-family=\"sans-serif\" font-size=\"12\" font-style=\"italic\" lengthAdjust=\"spacingAndGlyphs\" textLength=\"69\" x=\"139.5\" y=\"233.6387\">«attribute»</text><text fill=\"#000000\" font-family=\"sans-serif\" font-size=\"12\" lengthAdjust=\"spacingAndGlyphs\" textLength=\"6\" x=\"171\" y=\"247.6074\">y</text><line style=\"stroke: #A80036; stroke-width: 1.5;\" x1=\"139.5\" x2=\"208.5\" y1=\"255.4375\" y2=\"255.4375\"/></a><!--MD5=[b9389687b975829384b498ac4b7476b2]\n",
       "class E8--><a href=\"psysml:8698e020-730f-4ac9-88e5-943d82c20ca0\" target=\"_top\" title=\"psysml:8698e020-730f-4ac9-88e5-943d82c20ca0\" xlink:actuate=\"onRequest\" xlink:href=\"psysml:8698e020-730f-4ac9-88e5-943d82c20ca0\" xlink:show=\"new\" xlink:title=\"psysml:8698e020-730f-4ac9-88e5-943d82c20ca0\" xlink:type=\"simple\"><rect fill=\"#FEFECE\" filter=\"url(#faebtcgze2xcd)\" height=\"45.9375\" id=\"E8\" rx=\"10\" ry=\"10\" style=\"stroke: #A80036; stroke-width: 1.5;\" width=\"71\" x=\"84.5\" y=\"87.5\"/><text fill=\"#000000\" font-family=\"sans-serif\" font-size=\"12\" font-style=\"italic\" lengthAdjust=\"spacingAndGlyphs\" textLength=\"69\" x=\"85.5\" y=\"103.6387\">«attribute»</text><text fill=\"#000000\" font-family=\"sans-serif\" font-size=\"12\" lengthAdjust=\"spacingAndGlyphs\" textLength=\"5\" x=\"117.5\" y=\"117.6074\">z</text><line style=\"stroke: #A80036; stroke-width: 1.5;\" x1=\"85.5\" x2=\"154.5\" y1=\"125.4375\" y2=\"125.4375\"/></a><a href=\"psysml:bf62b3a1-f030-4eff-b8ce-ffbdff107a6f\" target=\"_top\" title=\"psysml:bf62b3a1-f030-4eff-b8ce-ffbdff107a6f\" xlink:actuate=\"onRequest\" xlink:href=\"psysml:bf62b3a1-f030-4eff-b8ce-ffbdff107a6f\" xlink:show=\"new\" xlink:title=\"psysml:bf62b3a1-f030-4eff-b8ce-ffbdff107a6f\" xlink:type=\"simple\"><polygon fill=\"#FFFFFF\" filter=\"url(#faebtcgze2xcd)\" points=\"271,84,413,84,420,106.2969,427,106.2969,427,136.5938,271,136.5938,271,84\" style=\"stroke: #000000; stroke-width: 1.5;\"/><line style=\"stroke: #000000; stroke-width: 1.5;\" x1=\"271\" x2=\"420\" y1=\"106.2969\" y2=\"106.2969\"/><text fill=\"#000000\" font-family=\"sans-serif\" font-size=\"14\" font-weight=\"bold\" lengthAdjust=\"spacingAndGlyphs\" textLength=\"136\" x=\"275\" y=\"98.9951\">Application Layer</text></a><a href=\"psysml:471b2f11-dcf9-418e-881d-688bae838b3f\" target=\"_top\" title=\"psysml:471b2f11-dcf9-418e-881d-688bae838b3f\" xlink:actuate=\"onRequest\" xlink:href=\"psysml:471b2f11-dcf9-418e-881d-688bae838b3f\" xlink:show=\"new\" xlink:title=\"psysml:471b2f11-dcf9-418e-881d-688bae838b3f\" xlink:type=\"simple\"><polygon fill=\"#FFFFFF\" filter=\"url(#faebtcgze2xcd)\" points=\"285,214,399,214,406,236.2969,413,236.2969,413,266.5938,285,266.5938,285,214\" style=\"stroke: #000000; stroke-width: 1.5;\"/><line style=\"stroke: #000000; stroke-width: 1.5;\" x1=\"285\" x2=\"406\" y1=\"236.2969\" y2=\"236.2969\"/><text fill=\"#000000\" font-family=\"sans-serif\" font-size=\"14\" font-weight=\"bold\" lengthAdjust=\"spacingAndGlyphs\" textLength=\"108\" x=\"289\" y=\"228.9951\">Service Layer</text></a><a href=\"psysml:da794142-8c7c-4611-9580-abeb242da5ef\" target=\"_top\" title=\"psysml:da794142-8c7c-4611-9580-abeb242da5ef\" xlink:actuate=\"onRequest\" xlink:href=\"psysml:da794142-8c7c-4611-9580-abeb242da5ef\" xlink:show=\"new\" xlink:title=\"psysml:da794142-8c7c-4611-9580-abeb242da5ef\" xlink:type=\"simple\"><polygon fill=\"#FFFFFF\" filter=\"url(#faebtcgze2xcd)\" points=\"297,344,387,344,394,366.2969,401,366.2969,401,396.5938,297,396.5938,297,344\" style=\"stroke: #000000; stroke-width: 1.5;\"/><line style=\"stroke: #000000; stroke-width: 1.5;\" x1=\"297\" x2=\"394\" y1=\"366.2969\" y2=\"366.2969\"/><text fill=\"#000000\" font-family=\"sans-serif\" font-size=\"14\" font-weight=\"bold\" lengthAdjust=\"spacingAndGlyphs\" textLength=\"84\" x=\"301\" y=\"358.9951\">Data Layer</text></a><!--MD5=[af87c684e3b0d8be13c1a698a818ef1e]\n",
       "link E3 to E4--><a href=\"psysml:f56c438f-52f0-4453-9ce2-0999d9bfb233\" target=\"_top\" title=\"psysml:f56c438f-52f0-4453-9ce2-0999d9bfb233\" xlink:actuate=\"onRequest\" xlink:href=\"psysml:f56c438f-52f0-4453-9ce2-0999d9bfb233\" xlink:show=\"new\" xlink:title=\"psysml:f56c438f-52f0-4453-9ce2-0999d9bfb233\" xlink:type=\"simple\"><path d=\"M349,137.1 C349,156.8 349,184.22 349,205.73 \" fill=\"none\" id=\"E3-&gt;E4\" style=\"stroke: #A80036; stroke-width: 1.0; stroke-dasharray: 7.0,7.0;\"/><polygon fill=\"#A80036\" points=\"349,213.95,352,205.95,346,205.95,349,213.95\" style=\"stroke: #A80036; stroke-width: 1.0;\"/><text fill=\"#000000\" font-family=\"sans-serif\" font-size=\"13\" lengthAdjust=\"spacingAndGlyphs\" textLength=\"64\" x=\"350\" y=\"180.0669\">«depend»</text></a><!--MD5=[1b7591eae5389033d8d09a9d6721a717]\n",
       "link E4 to E5--><a href=\"psysml:149727ef-4884-4150-ac87-83ab56bc940c\" target=\"_top\" title=\"psysml:149727ef-4884-4150-ac87-83ab56bc940c\" xlink:actuate=\"onRequest\" xlink:href=\"psysml:149727ef-4884-4150-ac87-83ab56bc940c\" xlink:show=\"new\" xlink:title=\"psysml:149727ef-4884-4150-ac87-83ab56bc940c\" xlink:type=\"simple\"><path d=\"M349,267.1 C349,286.8 349,314.22 349,335.73 \" fill=\"none\" id=\"E4-&gt;E5\" style=\"stroke: #A80036; stroke-width: 1.0; stroke-dasharray: 7.0,7.0;\"/><polygon fill=\"#A80036\" points=\"349,343.95,352,335.95,346,335.95,349,343.95\" style=\"stroke: #A80036; stroke-width: 1.0;\"/><text fill=\"#000000\" font-family=\"sans-serif\" font-size=\"13\" lengthAdjust=\"spacingAndGlyphs\" textLength=\"64\" x=\"350\" y=\"310.0669\">«depend»</text></a><!--MD5=[c5e8897d989ce984f93528998a7150fe]\n",
       "link E8 to E6--><a href=\"psysml:6d264d90-cc53-4d32-95c3-fe1ad979e012\" target=\"_top\" title=\"psysml:6d264d90-cc53-4d32-95c3-fe1ad979e012\" xlink:actuate=\"onRequest\" xlink:href=\"psysml:6d264d90-cc53-4d32-95c3-fe1ad979e012\" xlink:show=\"new\" xlink:title=\"psysml:6d264d90-cc53-4d32-95c3-fe1ad979e012\" xlink:type=\"simple\"><path d=\"M89.42,133.6 C79.35,142.68 69.37,154.11 64,167 C58.5,180.2 58.66,195.94 60.54,209.38 \" fill=\"none\" id=\"E8-&gt;E6\" style=\"stroke: #A80036; stroke-width: 1.0; stroke-dasharray: 7.0,7.0;\"/><polygon fill=\"#A80036\" points=\"61.9,217.4,63.517,209.0104,57.6018,210.0159,61.9,217.4\" style=\"stroke: #A80036; stroke-width: 1.0;\"/><text fill=\"#000000\" font-family=\"sans-serif\" font-size=\"13\" lengthAdjust=\"spacingAndGlyphs\" textLength=\"64\" x=\"65\" y=\"180.0669\">«depend»</text></a><!--MD5=[bfa3c8b0d15052fdf50ae9310b491027]\n",
       "link E8 to E7--><a href=\"psysml:6d264d90-cc53-4d32-95c3-fe1ad979e012\" target=\"_top\" title=\"psysml:6d264d90-cc53-4d32-95c3-fe1ad979e012\" xlink:actuate=\"onRequest\" xlink:href=\"psysml:6d264d90-cc53-4d32-95c3-fe1ad979e012\" xlink:show=\"new\" xlink:title=\"psysml:6d264d90-cc53-4d32-95c3-fe1ad979e012\" xlink:type=\"simple\"><path d=\"M129.28,133.5 C138.17,154.57 151.64,186.5 161.47,209.81 \" fill=\"none\" id=\"E8-&gt;E7\" style=\"stroke: #A80036; stroke-width: 1.0; stroke-dasharray: 7.0,7.0;\"/><polygon fill=\"#A80036\" points=\"164.66,217.35,164.3241,208.8126,158.7933,211.1385,164.66,217.35\" style=\"stroke: #A80036; stroke-width: 1.0;\"/><text fill=\"#000000\" font-family=\"sans-serif\" font-size=\"13\" lengthAdjust=\"spacingAndGlyphs\" textLength=\"64\" x=\"151\" y=\"180.0669\">«depend»</text></a><!--MD5=[2c57d116dac507c63d0664bb0bcc6661]\n",
       "@startuml\r\n",
       "skinparam wrapWidth 300\r\n",
       "hide circle\r\n",
       "\r\n",
       "package \"DependencyTest\" as E1  [[psysml:d56232e2-0bee-4a1a-bb9b-8eb4f38b0dfa ]]  {\r\n",
       "package \"System\" as E2  [[psysml:50d5e3ed-2307-46ca-b041-8429ee229b8d ]]  {\r\n",
       "package \"Application Layer\" as E3  [[psysml:bf62b3a1-f030-4eff-b8ce-ffbdff107a6f ]]  {\r\n",
       "}\r\n",
       "package \"Service Layer\" as E4  [[psysml:471b2f11-dcf9-418e-881d-688bae838b3f ]]  {\r\n",
       "}\r\n",
       "package \"Data Layer\" as E5  [[psysml:da794142-8c7c-4611-9580-abeb242da5ef ]]  {\r\n",
       "}\r\n",
       "}\r\n",
       "comp usage \"x\" as E6  <<(T,blue)attribute>> [[psysml:ee6e66ae-6a4f-4999-8c9e-f85171cea95e ]] {\r\n",
       "}\r\n",
       "comp usage \"y\" as E7  <<(T,blue)attribute>> [[psysml:da3973fb-164e-4f16-bb62-2f8eaef60bc8 ]] {\r\n",
       "}\r\n",
       "comp usage \"z\" as E8  <<(T,blue)attribute>> [[psysml:8698e020-730f-4ac9-88e5-943d82c20ca0 ]] {\r\n",
       "}\r\n",
       "E3 ..>> E4 [[psysml:f56c438f-52f0-4453-9ce2-0999d9bfb233 ]] : <<depend>>\r\n",
       "E4 ..>> E5 [[psysml:149727ef-4884-4150-ac87-83ab56bc940c ]] : <<depend>>\r\n",
       "E8 ..>> E6 [[psysml:6d264d90-cc53-4d32-95c3-fe1ad979e012 ]] : <<depend>>\r\n",
       "E8 ..>> E7 [[psysml:6d264d90-cc53-4d32-95c3-fe1ad979e012 ]] : <<depend>>\r\n",
       "}\r\n",
       "@enduml\r\n",
       "\n",
       "PlantUML version 1.2020.13(Sat Jun 13 12:26:38 UTC 2020)\n",
       "(EPL source distribution)\n",
       "Java Runtime: OpenJDK Runtime Environment\n",
       "JVM: OpenJDK 64-Bit Server VM\n",
       "Default Encoding: UTF-8\n",
       "Language: en\n",
       "Country: null\n",
       "--></g></svg>"
      ]
     },
     "execution_count": 28,
     "metadata": {},
     "output_type": "execute_result"
    }
   ],
   "source": [
    "%viz --style=\"STDCOLOR\" --view=\"Sequence\" \"DependencyTest\""
   ]
  },
  {
   "cell_type": "code",
   "execution_count": 29,
   "id": "7bb4e1a7",
   "metadata": {
    "execution": {
     "iopub.execute_input": "2021-04-20T07:32:19.073964Z",
     "iopub.status.busy": "2021-04-20T07:32:19.073369Z",
     "iopub.status.idle": "2021-04-20T07:32:19.120030Z",
     "shell.execute_reply": "2021-04-20T07:32:19.120394Z"
    }
   },
   "outputs": [
    {
     "data": {
      "image/svg+xml": [
       "<?xml version=\"1.0\" encoding=\"UTF-8\" standalone=\"no\"?><svg xmlns=\"http://www.w3.org/2000/svg\" xmlns:xlink=\"http://www.w3.org/1999/xlink\" contentScriptType=\"application/ecmascript\" contentStyleType=\"text/css\" height=\"449px\" preserveAspectRatio=\"none\" style=\"width:489px;height:449px;\" version=\"1.1\" viewBox=\"0 0 489 449\" width=\"489px\" zoomAndPan=\"magnify\"><defs><filter height=\"300%\" id=\"faebtcgze2xcd\" width=\"300%\" x=\"-1\" y=\"-1\"><feGaussianBlur result=\"blurOut\" stdDeviation=\"2.0\"/><feColorMatrix in=\"blurOut\" result=\"blurOut2\" type=\"matrix\" values=\"0 0 0 0 0 0 0 0 0 0 0 0 0 0 0 0 0 0 .4 0\"/><feOffset dx=\"4.0\" dy=\"4.0\" in=\"blurOut2\" result=\"blurOut3\"/><feBlend in=\"SourceGraphic\" in2=\"blurOut3\" mode=\"normal\"/></filter></defs><g><!--MD5=[fbc87193dbaf4d95561dea2c320d4a47]\n",
       "cluster E1--><a href=\"psysml:d56232e2-0bee-4a1a-bb9b-8eb4f38b0dfa\" target=\"_top\" title=\"psysml:d56232e2-0bee-4a1a-bb9b-8eb4f38b0dfa\" xlink:actuate=\"onRequest\" xlink:href=\"psysml:d56232e2-0bee-4a1a-bb9b-8eb4f38b0dfa\" xlink:show=\"new\" xlink:title=\"psysml:d56232e2-0bee-4a1a-bb9b-8eb4f38b0dfa\" xlink:type=\"simple\"><polygon fill=\"#FFFFFF\" filter=\"url(#faebtcgze2xcd)\" points=\"16,6,156,6,163,28.2969,467,28.2969,467,437,16,437,16,6\" style=\"stroke: #000000; stroke-width: 1.5;\"/><line style=\"stroke: #000000; stroke-width: 1.5;\" x1=\"16\" x2=\"163\" y1=\"28.2969\" y2=\"28.2969\"/><text fill=\"#000000\" font-family=\"sans-serif\" font-size=\"14\" font-weight=\"bold\" lengthAdjust=\"spacingAndGlyphs\" textLength=\"134\" x=\"20\" y=\"20.9951\">DependencyTest</text></a><!--MD5=[e4f7fae6ed58524ba242bb0b0d3be6b7]\n",
       "cluster E2--><a href=\"psysml:50d5e3ed-2307-46ca-b041-8429ee229b8d\" target=\"_top\" title=\"psysml:50d5e3ed-2307-46ca-b041-8429ee229b8d\" xlink:actuate=\"onRequest\" xlink:href=\"psysml:50d5e3ed-2307-46ca-b041-8429ee229b8d\" xlink:show=\"new\" xlink:title=\"psysml:50d5e3ed-2307-46ca-b041-8429ee229b8d\" xlink:type=\"simple\"><polygon fill=\"#FFFFFF\" filter=\"url(#faebtcgze2xcd)\" points=\"255,49,319,49,326,71.2969,443,71.2969,443,413,255,413,255,49\" style=\"stroke: #000000; stroke-width: 1.5;\"/><line style=\"stroke: #000000; stroke-width: 1.5;\" x1=\"255\" x2=\"326\" y1=\"71.2969\" y2=\"71.2969\"/><text fill=\"#000000\" font-family=\"sans-serif\" font-size=\"14\" font-weight=\"bold\" lengthAdjust=\"spacingAndGlyphs\" textLength=\"58\" x=\"259\" y=\"63.9951\">System</text></a><!--MD5=[60a26617385b1d2d0262a64233df1f8d]\n",
       "class E6--><a href=\"psysml:ee6e66ae-6a4f-4999-8c9e-f85171cea95e\" target=\"_top\" title=\"psysml:ee6e66ae-6a4f-4999-8c9e-f85171cea95e\" xlink:actuate=\"onRequest\" xlink:href=\"psysml:ee6e66ae-6a4f-4999-8c9e-f85171cea95e\" xlink:show=\"new\" xlink:title=\"psysml:ee6e66ae-6a4f-4999-8c9e-f85171cea95e\" xlink:type=\"simple\"><rect fill=\"#FEFECE\" filter=\"url(#faebtcgze2xcd)\" height=\"45.9375\" id=\"E6\" rx=\"10\" ry=\"10\" style=\"stroke: #A80036; stroke-width: 1.5;\" width=\"71\" x=\"32.5\" y=\"217.5\"/><text fill=\"#000000\" font-family=\"sans-serif\" font-size=\"12\" font-style=\"italic\" lengthAdjust=\"spacingAndGlyphs\" textLength=\"69\" x=\"33.5\" y=\"233.6387\">«attribute»</text><text fill=\"#000000\" font-family=\"sans-serif\" font-size=\"12\" lengthAdjust=\"spacingAndGlyphs\" textLength=\"6\" x=\"65\" y=\"247.6074\">x</text><line style=\"stroke: #A80036; stroke-width: 1.5;\" x1=\"33.5\" x2=\"102.5\" y1=\"255.4375\" y2=\"255.4375\"/></a><!--MD5=[2156ba9850f5573cc1fc38a6a4b2f02b]\n",
       "class E7--><a href=\"psysml:da3973fb-164e-4f16-bb62-2f8eaef60bc8\" target=\"_top\" title=\"psysml:da3973fb-164e-4f16-bb62-2f8eaef60bc8\" xlink:actuate=\"onRequest\" xlink:href=\"psysml:da3973fb-164e-4f16-bb62-2f8eaef60bc8\" xlink:show=\"new\" xlink:title=\"psysml:da3973fb-164e-4f16-bb62-2f8eaef60bc8\" xlink:type=\"simple\"><rect fill=\"#FEFECE\" filter=\"url(#faebtcgze2xcd)\" height=\"45.9375\" id=\"E7\" rx=\"10\" ry=\"10\" style=\"stroke: #A80036; stroke-width: 1.5;\" width=\"71\" x=\"138.5\" y=\"217.5\"/><text fill=\"#000000\" font-family=\"sans-serif\" font-size=\"12\" font-style=\"italic\" lengthAdjust=\"spacingAndGlyphs\" textLength=\"69\" x=\"139.5\" y=\"233.6387\">«attribute»</text><text fill=\"#000000\" font-family=\"sans-serif\" font-size=\"12\" lengthAdjust=\"spacingAndGlyphs\" textLength=\"6\" x=\"171\" y=\"247.6074\">y</text><line style=\"stroke: #A80036; stroke-width: 1.5;\" x1=\"139.5\" x2=\"208.5\" y1=\"255.4375\" y2=\"255.4375\"/></a><!--MD5=[b9389687b975829384b498ac4b7476b2]\n",
       "class E8--><a href=\"psysml:8698e020-730f-4ac9-88e5-943d82c20ca0\" target=\"_top\" title=\"psysml:8698e020-730f-4ac9-88e5-943d82c20ca0\" xlink:actuate=\"onRequest\" xlink:href=\"psysml:8698e020-730f-4ac9-88e5-943d82c20ca0\" xlink:show=\"new\" xlink:title=\"psysml:8698e020-730f-4ac9-88e5-943d82c20ca0\" xlink:type=\"simple\"><rect fill=\"#FEFECE\" filter=\"url(#faebtcgze2xcd)\" height=\"45.9375\" id=\"E8\" rx=\"10\" ry=\"10\" style=\"stroke: #A80036; stroke-width: 1.5;\" width=\"71\" x=\"84.5\" y=\"87.5\"/><text fill=\"#000000\" font-family=\"sans-serif\" font-size=\"12\" font-style=\"italic\" lengthAdjust=\"spacingAndGlyphs\" textLength=\"69\" x=\"85.5\" y=\"103.6387\">«attribute»</text><text fill=\"#000000\" font-family=\"sans-serif\" font-size=\"12\" lengthAdjust=\"spacingAndGlyphs\" textLength=\"5\" x=\"117.5\" y=\"117.6074\">z</text><line style=\"stroke: #A80036; stroke-width: 1.5;\" x1=\"85.5\" x2=\"154.5\" y1=\"125.4375\" y2=\"125.4375\"/></a><a href=\"psysml:bf62b3a1-f030-4eff-b8ce-ffbdff107a6f\" target=\"_top\" title=\"psysml:bf62b3a1-f030-4eff-b8ce-ffbdff107a6f\" xlink:actuate=\"onRequest\" xlink:href=\"psysml:bf62b3a1-f030-4eff-b8ce-ffbdff107a6f\" xlink:show=\"new\" xlink:title=\"psysml:bf62b3a1-f030-4eff-b8ce-ffbdff107a6f\" xlink:type=\"simple\"><polygon fill=\"#FFFFFF\" filter=\"url(#faebtcgze2xcd)\" points=\"271,84,413,84,420,106.2969,427,106.2969,427,136.5938,271,136.5938,271,84\" style=\"stroke: #000000; stroke-width: 1.5;\"/><line style=\"stroke: #000000; stroke-width: 1.5;\" x1=\"271\" x2=\"420\" y1=\"106.2969\" y2=\"106.2969\"/><text fill=\"#000000\" font-family=\"sans-serif\" font-size=\"14\" font-weight=\"bold\" lengthAdjust=\"spacingAndGlyphs\" textLength=\"136\" x=\"275\" y=\"98.9951\">Application Layer</text></a><a href=\"psysml:471b2f11-dcf9-418e-881d-688bae838b3f\" target=\"_top\" title=\"psysml:471b2f11-dcf9-418e-881d-688bae838b3f\" xlink:actuate=\"onRequest\" xlink:href=\"psysml:471b2f11-dcf9-418e-881d-688bae838b3f\" xlink:show=\"new\" xlink:title=\"psysml:471b2f11-dcf9-418e-881d-688bae838b3f\" xlink:type=\"simple\"><polygon fill=\"#FFFFFF\" filter=\"url(#faebtcgze2xcd)\" points=\"285,214,399,214,406,236.2969,413,236.2969,413,266.5938,285,266.5938,285,214\" style=\"stroke: #000000; stroke-width: 1.5;\"/><line style=\"stroke: #000000; stroke-width: 1.5;\" x1=\"285\" x2=\"406\" y1=\"236.2969\" y2=\"236.2969\"/><text fill=\"#000000\" font-family=\"sans-serif\" font-size=\"14\" font-weight=\"bold\" lengthAdjust=\"spacingAndGlyphs\" textLength=\"108\" x=\"289\" y=\"228.9951\">Service Layer</text></a><a href=\"psysml:da794142-8c7c-4611-9580-abeb242da5ef\" target=\"_top\" title=\"psysml:da794142-8c7c-4611-9580-abeb242da5ef\" xlink:actuate=\"onRequest\" xlink:href=\"psysml:da794142-8c7c-4611-9580-abeb242da5ef\" xlink:show=\"new\" xlink:title=\"psysml:da794142-8c7c-4611-9580-abeb242da5ef\" xlink:type=\"simple\"><polygon fill=\"#FFFFFF\" filter=\"url(#faebtcgze2xcd)\" points=\"297,344,387,344,394,366.2969,401,366.2969,401,396.5938,297,396.5938,297,344\" style=\"stroke: #000000; stroke-width: 1.5;\"/><line style=\"stroke: #000000; stroke-width: 1.5;\" x1=\"297\" x2=\"394\" y1=\"366.2969\" y2=\"366.2969\"/><text fill=\"#000000\" font-family=\"sans-serif\" font-size=\"14\" font-weight=\"bold\" lengthAdjust=\"spacingAndGlyphs\" textLength=\"84\" x=\"301\" y=\"358.9951\">Data Layer</text></a><!--MD5=[af87c684e3b0d8be13c1a698a818ef1e]\n",
       "link E3 to E4--><a href=\"psysml:f56c438f-52f0-4453-9ce2-0999d9bfb233\" target=\"_top\" title=\"psysml:f56c438f-52f0-4453-9ce2-0999d9bfb233\" xlink:actuate=\"onRequest\" xlink:href=\"psysml:f56c438f-52f0-4453-9ce2-0999d9bfb233\" xlink:show=\"new\" xlink:title=\"psysml:f56c438f-52f0-4453-9ce2-0999d9bfb233\" xlink:type=\"simple\"><path d=\"M349,137.1 C349,156.8 349,184.22 349,205.73 \" fill=\"none\" id=\"E3-&gt;E4\" style=\"stroke: #A80036; stroke-width: 1.0; stroke-dasharray: 7.0,7.0;\"/><polygon fill=\"#A80036\" points=\"349,213.95,352,205.95,346,205.95,349,213.95\" style=\"stroke: #A80036; stroke-width: 1.0;\"/><text fill=\"#000000\" font-family=\"sans-serif\" font-size=\"13\" lengthAdjust=\"spacingAndGlyphs\" textLength=\"64\" x=\"350\" y=\"180.0669\">«depend»</text></a><!--MD5=[1b7591eae5389033d8d09a9d6721a717]\n",
       "link E4 to E5--><a href=\"psysml:149727ef-4884-4150-ac87-83ab56bc940c\" target=\"_top\" title=\"psysml:149727ef-4884-4150-ac87-83ab56bc940c\" xlink:actuate=\"onRequest\" xlink:href=\"psysml:149727ef-4884-4150-ac87-83ab56bc940c\" xlink:show=\"new\" xlink:title=\"psysml:149727ef-4884-4150-ac87-83ab56bc940c\" xlink:type=\"simple\"><path d=\"M349,267.1 C349,286.8 349,314.22 349,335.73 \" fill=\"none\" id=\"E4-&gt;E5\" style=\"stroke: #A80036; stroke-width: 1.0; stroke-dasharray: 7.0,7.0;\"/><polygon fill=\"#A80036\" points=\"349,343.95,352,335.95,346,335.95,349,343.95\" style=\"stroke: #A80036; stroke-width: 1.0;\"/><text fill=\"#000000\" font-family=\"sans-serif\" font-size=\"13\" lengthAdjust=\"spacingAndGlyphs\" textLength=\"64\" x=\"350\" y=\"310.0669\">«depend»</text></a><!--MD5=[c5e8897d989ce984f93528998a7150fe]\n",
       "link E8 to E6--><a href=\"psysml:6d264d90-cc53-4d32-95c3-fe1ad979e012\" target=\"_top\" title=\"psysml:6d264d90-cc53-4d32-95c3-fe1ad979e012\" xlink:actuate=\"onRequest\" xlink:href=\"psysml:6d264d90-cc53-4d32-95c3-fe1ad979e012\" xlink:show=\"new\" xlink:title=\"psysml:6d264d90-cc53-4d32-95c3-fe1ad979e012\" xlink:type=\"simple\"><path d=\"M89.42,133.6 C79.35,142.68 69.37,154.11 64,167 C58.5,180.2 58.66,195.94 60.54,209.38 \" fill=\"none\" id=\"E8-&gt;E6\" style=\"stroke: #A80036; stroke-width: 1.0; stroke-dasharray: 7.0,7.0;\"/><polygon fill=\"#A80036\" points=\"61.9,217.4,63.517,209.0104,57.6018,210.0159,61.9,217.4\" style=\"stroke: #A80036; stroke-width: 1.0;\"/><text fill=\"#000000\" font-family=\"sans-serif\" font-size=\"13\" lengthAdjust=\"spacingAndGlyphs\" textLength=\"64\" x=\"65\" y=\"180.0669\">«depend»</text></a><!--MD5=[bfa3c8b0d15052fdf50ae9310b491027]\n",
       "link E8 to E7--><a href=\"psysml:6d264d90-cc53-4d32-95c3-fe1ad979e012\" target=\"_top\" title=\"psysml:6d264d90-cc53-4d32-95c3-fe1ad979e012\" xlink:actuate=\"onRequest\" xlink:href=\"psysml:6d264d90-cc53-4d32-95c3-fe1ad979e012\" xlink:show=\"new\" xlink:title=\"psysml:6d264d90-cc53-4d32-95c3-fe1ad979e012\" xlink:type=\"simple\"><path d=\"M129.28,133.5 C138.17,154.57 151.64,186.5 161.47,209.81 \" fill=\"none\" id=\"E8-&gt;E7\" style=\"stroke: #A80036; stroke-width: 1.0; stroke-dasharray: 7.0,7.0;\"/><polygon fill=\"#A80036\" points=\"164.66,217.35,164.3241,208.8126,158.7933,211.1385,164.66,217.35\" style=\"stroke: #A80036; stroke-width: 1.0;\"/><text fill=\"#000000\" font-family=\"sans-serif\" font-size=\"13\" lengthAdjust=\"spacingAndGlyphs\" textLength=\"64\" x=\"151\" y=\"180.0669\">«depend»</text></a><!--MD5=[2c57d116dac507c63d0664bb0bcc6661]\n",
       "@startuml\r\n",
       "skinparam wrapWidth 300\r\n",
       "hide circle\r\n",
       "\r\n",
       "package \"DependencyTest\" as E1  [[psysml:d56232e2-0bee-4a1a-bb9b-8eb4f38b0dfa ]]  {\r\n",
       "package \"System\" as E2  [[psysml:50d5e3ed-2307-46ca-b041-8429ee229b8d ]]  {\r\n",
       "package \"Application Layer\" as E3  [[psysml:bf62b3a1-f030-4eff-b8ce-ffbdff107a6f ]]  {\r\n",
       "}\r\n",
       "package \"Service Layer\" as E4  [[psysml:471b2f11-dcf9-418e-881d-688bae838b3f ]]  {\r\n",
       "}\r\n",
       "package \"Data Layer\" as E5  [[psysml:da794142-8c7c-4611-9580-abeb242da5ef ]]  {\r\n",
       "}\r\n",
       "}\r\n",
       "comp usage \"x\" as E6  <<(T,blue)attribute>> [[psysml:ee6e66ae-6a4f-4999-8c9e-f85171cea95e ]] {\r\n",
       "}\r\n",
       "comp usage \"y\" as E7  <<(T,blue)attribute>> [[psysml:da3973fb-164e-4f16-bb62-2f8eaef60bc8 ]] {\r\n",
       "}\r\n",
       "comp usage \"z\" as E8  <<(T,blue)attribute>> [[psysml:8698e020-730f-4ac9-88e5-943d82c20ca0 ]] {\r\n",
       "}\r\n",
       "E3 ..>> E4 [[psysml:f56c438f-52f0-4453-9ce2-0999d9bfb233 ]] : <<depend>>\r\n",
       "E4 ..>> E5 [[psysml:149727ef-4884-4150-ac87-83ab56bc940c ]] : <<depend>>\r\n",
       "E8 ..>> E6 [[psysml:6d264d90-cc53-4d32-95c3-fe1ad979e012 ]] : <<depend>>\r\n",
       "E8 ..>> E7 [[psysml:6d264d90-cc53-4d32-95c3-fe1ad979e012 ]] : <<depend>>\r\n",
       "}\r\n",
       "@enduml\r\n",
       "\n",
       "PlantUML version 1.2020.13(Sat Jun 13 12:26:38 UTC 2020)\n",
       "(EPL source distribution)\n",
       "Java Runtime: OpenJDK Runtime Environment\n",
       "JVM: OpenJDK 64-Bit Server VM\n",
       "Default Encoding: UTF-8\n",
       "Language: en\n",
       "Country: null\n",
       "--></g></svg>"
      ]
     },
     "execution_count": 29,
     "metadata": {},
     "output_type": "execute_result"
    }
   ],
   "source": [
    "%viz --style=\"STDCOLOR\" --view=\"MIXED\" \"DependencyTest\""
   ]
  },
  {
   "cell_type": "code",
   "execution_count": 30,
   "id": "b1db9b2e",
   "metadata": {
    "execution": {
     "iopub.execute_input": "2021-04-20T07:32:19.171605Z",
     "iopub.status.busy": "2021-04-20T07:32:19.171062Z",
     "iopub.status.idle": "2021-04-20T07:32:19.229084Z",
     "shell.execute_reply": "2021-04-20T07:32:19.228719Z"
    }
   },
   "outputs": [
    {
     "data": {
      "image/svg+xml": [
       "<?xml version=\"1.0\" encoding=\"UTF-8\" standalone=\"no\"?><svg xmlns=\"http://www.w3.org/2000/svg\" xmlns:xlink=\"http://www.w3.org/1999/xlink\" contentScriptType=\"application/ecmascript\" contentStyleType=\"text/css\" height=\"449px\" preserveAspectRatio=\"none\" style=\"width:510px;height:449px;\" version=\"1.1\" viewBox=\"0 0 510 449\" width=\"510px\" zoomAndPan=\"magnify\"><defs><filter height=\"300%\" id=\"fwhipltwsfidf\" width=\"300%\" x=\"-1\" y=\"-1\"><feGaussianBlur result=\"blurOut\" stdDeviation=\"2.0\"/><feColorMatrix in=\"blurOut\" result=\"blurOut2\" type=\"matrix\" values=\"0 0 0 0 0 0 0 0 0 0 0 0 0 0 0 0 0 0 .4 0\"/><feOffset dx=\"4.0\" dy=\"4.0\" in=\"blurOut2\" result=\"blurOut3\"/><feBlend in=\"SourceGraphic\" in2=\"blurOut3\" mode=\"normal\"/></filter></defs><g><!--MD5=[fbc87193dbaf4d95561dea2c320d4a47]\n",
       "cluster E1--><a href=\"psysml:d56232e2-0bee-4a1a-bb9b-8eb4f38b0dfa\" target=\"_top\" title=\"psysml:d56232e2-0bee-4a1a-bb9b-8eb4f38b0dfa\" xlink:actuate=\"onRequest\" xlink:href=\"psysml:d56232e2-0bee-4a1a-bb9b-8eb4f38b0dfa\" xlink:show=\"new\" xlink:title=\"psysml:d56232e2-0bee-4a1a-bb9b-8eb4f38b0dfa\" xlink:type=\"simple\"><polygon fill=\"#FFFFFF\" filter=\"url(#fwhipltwsfidf)\" points=\"16,6,156,6,163,28.2969,488,28.2969,488,437,16,437,16,6\" style=\"stroke: #000000; stroke-width: 1.5;\"/><line style=\"stroke: #000000; stroke-width: 1.5;\" x1=\"16\" x2=\"163\" y1=\"28.2969\" y2=\"28.2969\"/><text fill=\"#000000\" font-family=\"sans-serif\" font-size=\"14\" font-weight=\"bold\" lengthAdjust=\"spacingAndGlyphs\" textLength=\"134\" x=\"20\" y=\"20.9951\">DependencyTest</text></a><!--MD5=[e4f7fae6ed58524ba242bb0b0d3be6b7]\n",
       "cluster E2--><a href=\"psysml:50d5e3ed-2307-46ca-b041-8429ee229b8d\" target=\"_top\" title=\"psysml:50d5e3ed-2307-46ca-b041-8429ee229b8d\" xlink:actuate=\"onRequest\" xlink:href=\"psysml:50d5e3ed-2307-46ca-b041-8429ee229b8d\" xlink:show=\"new\" xlink:title=\"psysml:50d5e3ed-2307-46ca-b041-8429ee229b8d\" xlink:type=\"simple\"><polygon fill=\"#FFFFFF\" filter=\"url(#fwhipltwsfidf)\" points=\"276,49,340,49,347,71.2969,464,71.2969,464,413,276,413,276,49\" style=\"stroke: #000000; stroke-width: 1.5;\"/><line style=\"stroke: #000000; stroke-width: 1.5;\" x1=\"276\" x2=\"347\" y1=\"71.2969\" y2=\"71.2969\"/><text fill=\"#000000\" font-family=\"sans-serif\" font-size=\"14\" font-weight=\"bold\" lengthAdjust=\"spacingAndGlyphs\" textLength=\"58\" x=\"280\" y=\"63.9951\">System</text></a><!--MD5=[60a26617385b1d2d0262a64233df1f8d]\n",
       "class E6--><a href=\"psysml:ee6e66ae-6a4f-4999-8c9e-f85171cea95e\" target=\"_top\" title=\"psysml:ee6e66ae-6a4f-4999-8c9e-f85171cea95e\" xlink:actuate=\"onRequest\" xlink:href=\"psysml:ee6e66ae-6a4f-4999-8c9e-f85171cea95e\" xlink:show=\"new\" xlink:title=\"psysml:ee6e66ae-6a4f-4999-8c9e-f85171cea95e\" xlink:type=\"simple\"><rect fill=\"#FEFECE\" filter=\"url(#fwhipltwsfidf)\" height=\"45.9375\" id=\"E6\" rx=\"10\" ry=\"10\" style=\"stroke: #A80036; stroke-width: 1.5;\" width=\"97\" x=\"31.5\" y=\"217.5\"/><ellipse cx=\"46.5\" cy=\"236.4688\" fill=\"#FFA500\" rx=\"11\" ry=\"11\" style=\"stroke: #A80036; stroke-width: 1.0;\"/><path d=\"M42.375,238.3906 L42.375,230.5781 L44.8281,230.5781 L44.8281,239.0156 Q44.8281,239.9375 45.2969,240.4688 Q45.7813,241 46.6094,241 Q47.4531,241 47.9219,240.4688 Q48.3906,239.9375 48.3906,239.0156 L48.3906,230.5781 L50.8438,230.5781 L50.8438,238.3906 Q50.8438,240.9219 49.8438,242.0625 Q48.8438,243.2031 46.6094,243.2031 Q44.3906,243.2031 43.375,242.0625 Q42.375,240.9219 42.375,238.3906 Z \"/><text fill=\"#000000\" font-family=\"sans-serif\" font-size=\"12\" font-style=\"italic\" lengthAdjust=\"spacingAndGlyphs\" textLength=\"69\" x=\"58.5\" y=\"233.6387\">«attribute»</text><text fill=\"#000000\" font-family=\"sans-serif\" font-size=\"12\" lengthAdjust=\"spacingAndGlyphs\" textLength=\"6\" x=\"90\" y=\"247.6074\">x</text><line style=\"stroke: #A80036; stroke-width: 1.5;\" x1=\"32.5\" x2=\"127.5\" y1=\"255.4375\" y2=\"255.4375\"/></a><!--MD5=[2156ba9850f5573cc1fc38a6a4b2f02b]\n",
       "class E7--><a href=\"psysml:da3973fb-164e-4f16-bb62-2f8eaef60bc8\" target=\"_top\" title=\"psysml:da3973fb-164e-4f16-bb62-2f8eaef60bc8\" xlink:actuate=\"onRequest\" xlink:href=\"psysml:da3973fb-164e-4f16-bb62-2f8eaef60bc8\" xlink:show=\"new\" xlink:title=\"psysml:da3973fb-164e-4f16-bb62-2f8eaef60bc8\" xlink:type=\"simple\"><rect fill=\"#FEFECE\" filter=\"url(#fwhipltwsfidf)\" height=\"45.9375\" id=\"E7\" rx=\"10\" ry=\"10\" style=\"stroke: #A80036; stroke-width: 1.5;\" width=\"97\" x=\"163.5\" y=\"217.5\"/><ellipse cx=\"178.5\" cy=\"236.4688\" fill=\"#FFA500\" rx=\"11\" ry=\"11\" style=\"stroke: #A80036; stroke-width: 1.0;\"/><path d=\"M174.375,238.3906 L174.375,230.5781 L176.8281,230.5781 L176.8281,239.0156 Q176.8281,239.9375 177.2969,240.4688 Q177.7813,241 178.6094,241 Q179.4531,241 179.9219,240.4688 Q180.3906,239.9375 180.3906,239.0156 L180.3906,230.5781 L182.8438,230.5781 L182.8438,238.3906 Q182.8438,240.9219 181.8438,242.0625 Q180.8438,243.2031 178.6094,243.2031 Q176.3906,243.2031 175.375,242.0625 Q174.375,240.9219 174.375,238.3906 Z \"/><text fill=\"#000000\" font-family=\"sans-serif\" font-size=\"12\" font-style=\"italic\" lengthAdjust=\"spacingAndGlyphs\" textLength=\"69\" x=\"190.5\" y=\"233.6387\">«attribute»</text><text fill=\"#000000\" font-family=\"sans-serif\" font-size=\"12\" lengthAdjust=\"spacingAndGlyphs\" textLength=\"6\" x=\"222\" y=\"247.6074\">y</text><line style=\"stroke: #A80036; stroke-width: 1.5;\" x1=\"164.5\" x2=\"259.5\" y1=\"255.4375\" y2=\"255.4375\"/></a><!--MD5=[b9389687b975829384b498ac4b7476b2]\n",
       "class E8--><a href=\"psysml:8698e020-730f-4ac9-88e5-943d82c20ca0\" target=\"_top\" title=\"psysml:8698e020-730f-4ac9-88e5-943d82c20ca0\" xlink:actuate=\"onRequest\" xlink:href=\"psysml:8698e020-730f-4ac9-88e5-943d82c20ca0\" xlink:show=\"new\" xlink:title=\"psysml:8698e020-730f-4ac9-88e5-943d82c20ca0\" xlink:type=\"simple\"><rect fill=\"#FEFECE\" filter=\"url(#fwhipltwsfidf)\" height=\"45.9375\" id=\"E8\" rx=\"10\" ry=\"10\" style=\"stroke: #A80036; stroke-width: 1.5;\" width=\"97\" x=\"84.5\" y=\"87.5\"/><ellipse cx=\"99.5\" cy=\"106.4688\" fill=\"#FFA500\" rx=\"11\" ry=\"11\" style=\"stroke: #A80036; stroke-width: 1.0;\"/><path d=\"M95.375,108.3906 L95.375,100.5781 L97.8281,100.5781 L97.8281,109.0156 Q97.8281,109.9375 98.2969,110.4688 Q98.7813,111 99.6094,111 Q100.4531,111 100.9219,110.4688 Q101.3906,109.9375 101.3906,109.0156 L101.3906,100.5781 L103.8438,100.5781 L103.8438,108.3906 Q103.8438,110.9219 102.8438,112.0625 Q101.8438,113.2031 99.6094,113.2031 Q97.3906,113.2031 96.375,112.0625 Q95.375,110.9219 95.375,108.3906 Z \"/><text fill=\"#000000\" font-family=\"sans-serif\" font-size=\"12\" font-style=\"italic\" lengthAdjust=\"spacingAndGlyphs\" textLength=\"69\" x=\"111.5\" y=\"103.6387\">«attribute»</text><text fill=\"#000000\" font-family=\"sans-serif\" font-size=\"12\" lengthAdjust=\"spacingAndGlyphs\" textLength=\"5\" x=\"143.5\" y=\"117.6074\">z</text><line style=\"stroke: #A80036; stroke-width: 1.5;\" x1=\"85.5\" x2=\"180.5\" y1=\"125.4375\" y2=\"125.4375\"/></a><a href=\"psysml:bf62b3a1-f030-4eff-b8ce-ffbdff107a6f\" target=\"_top\" title=\"psysml:bf62b3a1-f030-4eff-b8ce-ffbdff107a6f\" xlink:actuate=\"onRequest\" xlink:href=\"psysml:bf62b3a1-f030-4eff-b8ce-ffbdff107a6f\" xlink:show=\"new\" xlink:title=\"psysml:bf62b3a1-f030-4eff-b8ce-ffbdff107a6f\" xlink:type=\"simple\"><polygon fill=\"#FFFFFF\" filter=\"url(#fwhipltwsfidf)\" points=\"292,84,434,84,441,106.2969,448,106.2969,448,136.5938,292,136.5938,292,84\" style=\"stroke: #000000; stroke-width: 1.5;\"/><line style=\"stroke: #000000; stroke-width: 1.5;\" x1=\"292\" x2=\"441\" y1=\"106.2969\" y2=\"106.2969\"/><text fill=\"#000000\" font-family=\"sans-serif\" font-size=\"14\" font-weight=\"bold\" lengthAdjust=\"spacingAndGlyphs\" textLength=\"136\" x=\"296\" y=\"98.9951\">Application Layer</text></a><a href=\"psysml:471b2f11-dcf9-418e-881d-688bae838b3f\" target=\"_top\" title=\"psysml:471b2f11-dcf9-418e-881d-688bae838b3f\" xlink:actuate=\"onRequest\" xlink:href=\"psysml:471b2f11-dcf9-418e-881d-688bae838b3f\" xlink:show=\"new\" xlink:title=\"psysml:471b2f11-dcf9-418e-881d-688bae838b3f\" xlink:type=\"simple\"><polygon fill=\"#FFFFFF\" filter=\"url(#fwhipltwsfidf)\" points=\"306,214,420,214,427,236.2969,434,236.2969,434,266.5938,306,266.5938,306,214\" style=\"stroke: #000000; stroke-width: 1.5;\"/><line style=\"stroke: #000000; stroke-width: 1.5;\" x1=\"306\" x2=\"427\" y1=\"236.2969\" y2=\"236.2969\"/><text fill=\"#000000\" font-family=\"sans-serif\" font-size=\"14\" font-weight=\"bold\" lengthAdjust=\"spacingAndGlyphs\" textLength=\"108\" x=\"310\" y=\"228.9951\">Service Layer</text></a><a href=\"psysml:da794142-8c7c-4611-9580-abeb242da5ef\" target=\"_top\" title=\"psysml:da794142-8c7c-4611-9580-abeb242da5ef\" xlink:actuate=\"onRequest\" xlink:href=\"psysml:da794142-8c7c-4611-9580-abeb242da5ef\" xlink:show=\"new\" xlink:title=\"psysml:da794142-8c7c-4611-9580-abeb242da5ef\" xlink:type=\"simple\"><polygon fill=\"#FFFFFF\" filter=\"url(#fwhipltwsfidf)\" points=\"318,344,408,344,415,366.2969,422,366.2969,422,396.5938,318,396.5938,318,344\" style=\"stroke: #000000; stroke-width: 1.5;\"/><line style=\"stroke: #000000; stroke-width: 1.5;\" x1=\"318\" x2=\"415\" y1=\"366.2969\" y2=\"366.2969\"/><text fill=\"#000000\" font-family=\"sans-serif\" font-size=\"14\" font-weight=\"bold\" lengthAdjust=\"spacingAndGlyphs\" textLength=\"84\" x=\"322\" y=\"358.9951\">Data Layer</text></a><!--MD5=[af87c684e3b0d8be13c1a698a818ef1e]\n",
       "link E3 to E4--><a href=\"psysml:f56c438f-52f0-4453-9ce2-0999d9bfb233\" target=\"_top\" title=\"psysml:f56c438f-52f0-4453-9ce2-0999d9bfb233\" xlink:actuate=\"onRequest\" xlink:href=\"psysml:f56c438f-52f0-4453-9ce2-0999d9bfb233\" xlink:show=\"new\" xlink:title=\"psysml:f56c438f-52f0-4453-9ce2-0999d9bfb233\" xlink:type=\"simple\"><path d=\"M370,137.1 C370,156.8 370,184.22 370,205.73 \" fill=\"none\" id=\"E3-&gt;E4\" style=\"stroke: #A80036; stroke-width: 1.0; stroke-dasharray: 7.0,7.0;\"/><polygon fill=\"#A80036\" points=\"370,213.95,373,205.95,367,205.95,370,213.95\" style=\"stroke: #A80036; stroke-width: 1.0;\"/><text fill=\"#000000\" font-family=\"sans-serif\" font-size=\"13\" lengthAdjust=\"spacingAndGlyphs\" textLength=\"64\" x=\"371\" y=\"180.0669\">«depend»</text></a><!--MD5=[1b7591eae5389033d8d09a9d6721a717]\n",
       "link E4 to E5--><a href=\"psysml:149727ef-4884-4150-ac87-83ab56bc940c\" target=\"_top\" title=\"psysml:149727ef-4884-4150-ac87-83ab56bc940c\" xlink:actuate=\"onRequest\" xlink:href=\"psysml:149727ef-4884-4150-ac87-83ab56bc940c\" xlink:show=\"new\" xlink:title=\"psysml:149727ef-4884-4150-ac87-83ab56bc940c\" xlink:type=\"simple\"><path d=\"M370,267.1 C370,286.8 370,314.22 370,335.73 \" fill=\"none\" id=\"E4-&gt;E5\" style=\"stroke: #A80036; stroke-width: 1.0; stroke-dasharray: 7.0,7.0;\"/><polygon fill=\"#A80036\" points=\"370,343.95,373,335.95,367,335.95,370,343.95\" style=\"stroke: #A80036; stroke-width: 1.0;\"/><text fill=\"#000000\" font-family=\"sans-serif\" font-size=\"13\" lengthAdjust=\"spacingAndGlyphs\" textLength=\"64\" x=\"371\" y=\"310.0669\">«depend»</text></a><!--MD5=[c5e8897d989ce984f93528998a7150fe]\n",
       "link E8 to E6--><a href=\"psysml:6d264d90-cc53-4d32-95c3-fe1ad979e012\" target=\"_top\" title=\"psysml:6d264d90-cc53-4d32-95c3-fe1ad979e012\" xlink:actuate=\"onRequest\" xlink:href=\"psysml:6d264d90-cc53-4d32-95c3-fe1ad979e012\" xlink:show=\"new\" xlink:title=\"psysml:6d264d90-cc53-4d32-95c3-fe1ad979e012\" xlink:type=\"simple\"><path d=\"M106.44,133.76 C97.3,143.01 88.09,154.51 83,167 C77.6,180.23 76.4,195.98 76.73,209.41 \" fill=\"none\" id=\"E8-&gt;E6\" style=\"stroke: #A80036; stroke-width: 1.0; stroke-dasharray: 7.0,7.0;\"/><polygon fill=\"#A80036\" points=\"77.12,217.43,79.7306,209.2946,73.7375,209.584,77.12,217.43\" style=\"stroke: #A80036; stroke-width: 1.0;\"/><text fill=\"#000000\" font-family=\"sans-serif\" font-size=\"13\" lengthAdjust=\"spacingAndGlyphs\" textLength=\"64\" x=\"84\" y=\"180.0669\">«depend»</text></a><!--MD5=[bfa3c8b0d15052fdf50ae9310b491027]\n",
       "link E8 to E7--><a href=\"psysml:6d264d90-cc53-4d32-95c3-fe1ad979e012\" target=\"_top\" title=\"psysml:6d264d90-cc53-4d32-95c3-fe1ad979e012\" xlink:actuate=\"onRequest\" xlink:href=\"psysml:6d264d90-cc53-4d32-95c3-fe1ad979e012\" xlink:show=\"new\" xlink:title=\"psysml:6d264d90-cc53-4d32-95c3-fe1ad979e012\" xlink:type=\"simple\"><path d=\"M146.58,133.5 C159.69,154.75 179.63,187.05 194.05,210.41 \" fill=\"none\" id=\"E8-&gt;E7\" style=\"stroke: #A80036; stroke-width: 1.0; stroke-dasharray: 7.0,7.0;\"/><polygon fill=\"#A80036\" points=\"198.33,217.35,196.6785,208.9671,191.5737,212.1201,198.33,217.35\" style=\"stroke: #A80036; stroke-width: 1.0;\"/><text fill=\"#000000\" font-family=\"sans-serif\" font-size=\"13\" lengthAdjust=\"spacingAndGlyphs\" textLength=\"64\" x=\"178\" y=\"180.0669\">«depend»</text></a><!--MD5=[d3230af7c699c7ec66201ccd53f43c55]\n",
       "@startuml\r\n",
       " \r\n",
       "package \"DependencyTest\" as E1  [[psysml:d56232e2-0bee-4a1a-bb9b-8eb4f38b0dfa ]]  {\r\n",
       "package \"System\" as E2  [[psysml:50d5e3ed-2307-46ca-b041-8429ee229b8d ]]  {\r\n",
       "package \"Application Layer\" as E3  [[psysml:bf62b3a1-f030-4eff-b8ce-ffbdff107a6f ]]  {\r\n",
       "}\r\n",
       "package \"Service Layer\" as E4  [[psysml:471b2f11-dcf9-418e-881d-688bae838b3f ]]  {\r\n",
       "}\r\n",
       "package \"Data Layer\" as E5  [[psysml:da794142-8c7c-4611-9580-abeb242da5ef ]]  {\r\n",
       "}\r\n",
       "}\r\n",
       "comp usage \"x\" as E6  <<(U,orange)attribute>> [[psysml:ee6e66ae-6a4f-4999-8c9e-f85171cea95e ]] {\r\n",
       "}\r\n",
       "comp usage \"y\" as E7  <<(U,orange)attribute>> [[psysml:da3973fb-164e-4f16-bb62-2f8eaef60bc8 ]] {\r\n",
       "}\r\n",
       "comp usage \"z\" as E8  <<(U,orange)attribute>> [[psysml:8698e020-730f-4ac9-88e5-943d82c20ca0 ]] {\r\n",
       "}\r\n",
       "E3 ..>> E4 [[psysml:f56c438f-52f0-4453-9ce2-0999d9bfb233 ]] : <<depend>>\r\n",
       "E4 ..>> E5 [[psysml:149727ef-4884-4150-ac87-83ab56bc940c ]] : <<depend>>\r\n",
       "E8 ..>> E6 [[psysml:6d264d90-cc53-4d32-95c3-fe1ad979e012 ]] : <<depend>>\r\n",
       "E8 ..>> E7 [[psysml:6d264d90-cc53-4d32-95c3-fe1ad979e012 ]] : <<depend>>\r\n",
       "}\r\n",
       "@enduml\r\n",
       "\n",
       "PlantUML version 1.2020.13(Sat Jun 13 12:26:38 UTC 2020)\n",
       "(EPL source distribution)\n",
       "Java Runtime: OpenJDK Runtime Environment\n",
       "JVM: OpenJDK 64-Bit Server VM\n",
       "Default Encoding: UTF-8\n",
       "Language: en\n",
       "Country: null\n",
       "--></g></svg>"
      ]
     },
     "execution_count": 30,
     "metadata": {},
     "output_type": "execute_result"
    }
   ],
   "source": [
    "%viz --style=\"PLANTUML\" --view=\"Default\" \"DependencyTest\""
   ]
  },
  {
   "cell_type": "code",
   "execution_count": 31,
   "id": "88aaf00b",
   "metadata": {
    "execution": {
     "iopub.execute_input": "2021-04-20T07:32:19.279228Z",
     "iopub.status.busy": "2021-04-20T07:32:19.278748Z",
     "iopub.status.idle": "2021-04-20T07:32:19.319444Z",
     "shell.execute_reply": "2021-04-20T07:32:19.317629Z"
    }
   },
   "outputs": [
    {
     "data": {
      "image/svg+xml": [
       "<?xml version=\"1.0\" encoding=\"UTF-8\" standalone=\"no\"?><svg xmlns=\"http://www.w3.org/2000/svg\" xmlns:xlink=\"http://www.w3.org/1999/xlink\" contentScriptType=\"application/ecmascript\" contentStyleType=\"text/css\" height=\"449px\" preserveAspectRatio=\"none\" style=\"width:510px;height:449px;\" version=\"1.1\" viewBox=\"0 0 510 449\" width=\"510px\" zoomAndPan=\"magnify\"><defs><filter height=\"300%\" id=\"fwhipltwsfidf\" width=\"300%\" x=\"-1\" y=\"-1\"><feGaussianBlur result=\"blurOut\" stdDeviation=\"2.0\"/><feColorMatrix in=\"blurOut\" result=\"blurOut2\" type=\"matrix\" values=\"0 0 0 0 0 0 0 0 0 0 0 0 0 0 0 0 0 0 .4 0\"/><feOffset dx=\"4.0\" dy=\"4.0\" in=\"blurOut2\" result=\"blurOut3\"/><feBlend in=\"SourceGraphic\" in2=\"blurOut3\" mode=\"normal\"/></filter></defs><g><!--MD5=[fbc87193dbaf4d95561dea2c320d4a47]\n",
       "cluster E1--><a href=\"psysml:d56232e2-0bee-4a1a-bb9b-8eb4f38b0dfa\" target=\"_top\" title=\"psysml:d56232e2-0bee-4a1a-bb9b-8eb4f38b0dfa\" xlink:actuate=\"onRequest\" xlink:href=\"psysml:d56232e2-0bee-4a1a-bb9b-8eb4f38b0dfa\" xlink:show=\"new\" xlink:title=\"psysml:d56232e2-0bee-4a1a-bb9b-8eb4f38b0dfa\" xlink:type=\"simple\"><polygon fill=\"#FFFFFF\" filter=\"url(#fwhipltwsfidf)\" points=\"16,6,156,6,163,28.2969,488,28.2969,488,437,16,437,16,6\" style=\"stroke: #000000; stroke-width: 1.5;\"/><line style=\"stroke: #000000; stroke-width: 1.5;\" x1=\"16\" x2=\"163\" y1=\"28.2969\" y2=\"28.2969\"/><text fill=\"#000000\" font-family=\"sans-serif\" font-size=\"14\" font-weight=\"bold\" lengthAdjust=\"spacingAndGlyphs\" textLength=\"134\" x=\"20\" y=\"20.9951\">DependencyTest</text></a><!--MD5=[e4f7fae6ed58524ba242bb0b0d3be6b7]\n",
       "cluster E2--><a href=\"psysml:50d5e3ed-2307-46ca-b041-8429ee229b8d\" target=\"_top\" title=\"psysml:50d5e3ed-2307-46ca-b041-8429ee229b8d\" xlink:actuate=\"onRequest\" xlink:href=\"psysml:50d5e3ed-2307-46ca-b041-8429ee229b8d\" xlink:show=\"new\" xlink:title=\"psysml:50d5e3ed-2307-46ca-b041-8429ee229b8d\" xlink:type=\"simple\"><polygon fill=\"#FFFFFF\" filter=\"url(#fwhipltwsfidf)\" points=\"276,49,340,49,347,71.2969,464,71.2969,464,413,276,413,276,49\" style=\"stroke: #000000; stroke-width: 1.5;\"/><line style=\"stroke: #000000; stroke-width: 1.5;\" x1=\"276\" x2=\"347\" y1=\"71.2969\" y2=\"71.2969\"/><text fill=\"#000000\" font-family=\"sans-serif\" font-size=\"14\" font-weight=\"bold\" lengthAdjust=\"spacingAndGlyphs\" textLength=\"58\" x=\"280\" y=\"63.9951\">System</text></a><!--MD5=[60a26617385b1d2d0262a64233df1f8d]\n",
       "class E6--><a href=\"psysml:ee6e66ae-6a4f-4999-8c9e-f85171cea95e\" target=\"_top\" title=\"psysml:ee6e66ae-6a4f-4999-8c9e-f85171cea95e\" xlink:actuate=\"onRequest\" xlink:href=\"psysml:ee6e66ae-6a4f-4999-8c9e-f85171cea95e\" xlink:show=\"new\" xlink:title=\"psysml:ee6e66ae-6a4f-4999-8c9e-f85171cea95e\" xlink:type=\"simple\"><rect fill=\"#FEFECE\" filter=\"url(#fwhipltwsfidf)\" height=\"45.9375\" id=\"E6\" rx=\"10\" ry=\"10\" style=\"stroke: #A80036; stroke-width: 1.5;\" width=\"97\" x=\"31.5\" y=\"217.5\"/><ellipse cx=\"46.5\" cy=\"236.4688\" fill=\"#FFA500\" rx=\"11\" ry=\"11\" style=\"stroke: #A80036; stroke-width: 1.0;\"/><path d=\"M42.375,238.3906 L42.375,230.5781 L44.8281,230.5781 L44.8281,239.0156 Q44.8281,239.9375 45.2969,240.4688 Q45.7813,241 46.6094,241 Q47.4531,241 47.9219,240.4688 Q48.3906,239.9375 48.3906,239.0156 L48.3906,230.5781 L50.8438,230.5781 L50.8438,238.3906 Q50.8438,240.9219 49.8438,242.0625 Q48.8438,243.2031 46.6094,243.2031 Q44.3906,243.2031 43.375,242.0625 Q42.375,240.9219 42.375,238.3906 Z \"/><text fill=\"#000000\" font-family=\"sans-serif\" font-size=\"12\" font-style=\"italic\" lengthAdjust=\"spacingAndGlyphs\" textLength=\"69\" x=\"58.5\" y=\"233.6387\">«attribute»</text><text fill=\"#000000\" font-family=\"sans-serif\" font-size=\"12\" lengthAdjust=\"spacingAndGlyphs\" textLength=\"6\" x=\"90\" y=\"247.6074\">x</text><line style=\"stroke: #A80036; stroke-width: 1.5;\" x1=\"32.5\" x2=\"127.5\" y1=\"255.4375\" y2=\"255.4375\"/></a><!--MD5=[2156ba9850f5573cc1fc38a6a4b2f02b]\n",
       "class E7--><a href=\"psysml:da3973fb-164e-4f16-bb62-2f8eaef60bc8\" target=\"_top\" title=\"psysml:da3973fb-164e-4f16-bb62-2f8eaef60bc8\" xlink:actuate=\"onRequest\" xlink:href=\"psysml:da3973fb-164e-4f16-bb62-2f8eaef60bc8\" xlink:show=\"new\" xlink:title=\"psysml:da3973fb-164e-4f16-bb62-2f8eaef60bc8\" xlink:type=\"simple\"><rect fill=\"#FEFECE\" filter=\"url(#fwhipltwsfidf)\" height=\"45.9375\" id=\"E7\" rx=\"10\" ry=\"10\" style=\"stroke: #A80036; stroke-width: 1.5;\" width=\"97\" x=\"163.5\" y=\"217.5\"/><ellipse cx=\"178.5\" cy=\"236.4688\" fill=\"#FFA500\" rx=\"11\" ry=\"11\" style=\"stroke: #A80036; stroke-width: 1.0;\"/><path d=\"M174.375,238.3906 L174.375,230.5781 L176.8281,230.5781 L176.8281,239.0156 Q176.8281,239.9375 177.2969,240.4688 Q177.7813,241 178.6094,241 Q179.4531,241 179.9219,240.4688 Q180.3906,239.9375 180.3906,239.0156 L180.3906,230.5781 L182.8438,230.5781 L182.8438,238.3906 Q182.8438,240.9219 181.8438,242.0625 Q180.8438,243.2031 178.6094,243.2031 Q176.3906,243.2031 175.375,242.0625 Q174.375,240.9219 174.375,238.3906 Z \"/><text fill=\"#000000\" font-family=\"sans-serif\" font-size=\"12\" font-style=\"italic\" lengthAdjust=\"spacingAndGlyphs\" textLength=\"69\" x=\"190.5\" y=\"233.6387\">«attribute»</text><text fill=\"#000000\" font-family=\"sans-serif\" font-size=\"12\" lengthAdjust=\"spacingAndGlyphs\" textLength=\"6\" x=\"222\" y=\"247.6074\">y</text><line style=\"stroke: #A80036; stroke-width: 1.5;\" x1=\"164.5\" x2=\"259.5\" y1=\"255.4375\" y2=\"255.4375\"/></a><!--MD5=[b9389687b975829384b498ac4b7476b2]\n",
       "class E8--><a href=\"psysml:8698e020-730f-4ac9-88e5-943d82c20ca0\" target=\"_top\" title=\"psysml:8698e020-730f-4ac9-88e5-943d82c20ca0\" xlink:actuate=\"onRequest\" xlink:href=\"psysml:8698e020-730f-4ac9-88e5-943d82c20ca0\" xlink:show=\"new\" xlink:title=\"psysml:8698e020-730f-4ac9-88e5-943d82c20ca0\" xlink:type=\"simple\"><rect fill=\"#FEFECE\" filter=\"url(#fwhipltwsfidf)\" height=\"45.9375\" id=\"E8\" rx=\"10\" ry=\"10\" style=\"stroke: #A80036; stroke-width: 1.5;\" width=\"97\" x=\"84.5\" y=\"87.5\"/><ellipse cx=\"99.5\" cy=\"106.4688\" fill=\"#FFA500\" rx=\"11\" ry=\"11\" style=\"stroke: #A80036; stroke-width: 1.0;\"/><path d=\"M95.375,108.3906 L95.375,100.5781 L97.8281,100.5781 L97.8281,109.0156 Q97.8281,109.9375 98.2969,110.4688 Q98.7813,111 99.6094,111 Q100.4531,111 100.9219,110.4688 Q101.3906,109.9375 101.3906,109.0156 L101.3906,100.5781 L103.8438,100.5781 L103.8438,108.3906 Q103.8438,110.9219 102.8438,112.0625 Q101.8438,113.2031 99.6094,113.2031 Q97.3906,113.2031 96.375,112.0625 Q95.375,110.9219 95.375,108.3906 Z \"/><text fill=\"#000000\" font-family=\"sans-serif\" font-size=\"12\" font-style=\"italic\" lengthAdjust=\"spacingAndGlyphs\" textLength=\"69\" x=\"111.5\" y=\"103.6387\">«attribute»</text><text fill=\"#000000\" font-family=\"sans-serif\" font-size=\"12\" lengthAdjust=\"spacingAndGlyphs\" textLength=\"5\" x=\"143.5\" y=\"117.6074\">z</text><line style=\"stroke: #A80036; stroke-width: 1.5;\" x1=\"85.5\" x2=\"180.5\" y1=\"125.4375\" y2=\"125.4375\"/></a><a href=\"psysml:bf62b3a1-f030-4eff-b8ce-ffbdff107a6f\" target=\"_top\" title=\"psysml:bf62b3a1-f030-4eff-b8ce-ffbdff107a6f\" xlink:actuate=\"onRequest\" xlink:href=\"psysml:bf62b3a1-f030-4eff-b8ce-ffbdff107a6f\" xlink:show=\"new\" xlink:title=\"psysml:bf62b3a1-f030-4eff-b8ce-ffbdff107a6f\" xlink:type=\"simple\"><polygon fill=\"#FFFFFF\" filter=\"url(#fwhipltwsfidf)\" points=\"292,84,434,84,441,106.2969,448,106.2969,448,136.5938,292,136.5938,292,84\" style=\"stroke: #000000; stroke-width: 1.5;\"/><line style=\"stroke: #000000; stroke-width: 1.5;\" x1=\"292\" x2=\"441\" y1=\"106.2969\" y2=\"106.2969\"/><text fill=\"#000000\" font-family=\"sans-serif\" font-size=\"14\" font-weight=\"bold\" lengthAdjust=\"spacingAndGlyphs\" textLength=\"136\" x=\"296\" y=\"98.9951\">Application Layer</text></a><a href=\"psysml:471b2f11-dcf9-418e-881d-688bae838b3f\" target=\"_top\" title=\"psysml:471b2f11-dcf9-418e-881d-688bae838b3f\" xlink:actuate=\"onRequest\" xlink:href=\"psysml:471b2f11-dcf9-418e-881d-688bae838b3f\" xlink:show=\"new\" xlink:title=\"psysml:471b2f11-dcf9-418e-881d-688bae838b3f\" xlink:type=\"simple\"><polygon fill=\"#FFFFFF\" filter=\"url(#fwhipltwsfidf)\" points=\"306,214,420,214,427,236.2969,434,236.2969,434,266.5938,306,266.5938,306,214\" style=\"stroke: #000000; stroke-width: 1.5;\"/><line style=\"stroke: #000000; stroke-width: 1.5;\" x1=\"306\" x2=\"427\" y1=\"236.2969\" y2=\"236.2969\"/><text fill=\"#000000\" font-family=\"sans-serif\" font-size=\"14\" font-weight=\"bold\" lengthAdjust=\"spacingAndGlyphs\" textLength=\"108\" x=\"310\" y=\"228.9951\">Service Layer</text></a><a href=\"psysml:da794142-8c7c-4611-9580-abeb242da5ef\" target=\"_top\" title=\"psysml:da794142-8c7c-4611-9580-abeb242da5ef\" xlink:actuate=\"onRequest\" xlink:href=\"psysml:da794142-8c7c-4611-9580-abeb242da5ef\" xlink:show=\"new\" xlink:title=\"psysml:da794142-8c7c-4611-9580-abeb242da5ef\" xlink:type=\"simple\"><polygon fill=\"#FFFFFF\" filter=\"url(#fwhipltwsfidf)\" points=\"318,344,408,344,415,366.2969,422,366.2969,422,396.5938,318,396.5938,318,344\" style=\"stroke: #000000; stroke-width: 1.5;\"/><line style=\"stroke: #000000; stroke-width: 1.5;\" x1=\"318\" x2=\"415\" y1=\"366.2969\" y2=\"366.2969\"/><text fill=\"#000000\" font-family=\"sans-serif\" font-size=\"14\" font-weight=\"bold\" lengthAdjust=\"spacingAndGlyphs\" textLength=\"84\" x=\"322\" y=\"358.9951\">Data Layer</text></a><!--MD5=[af87c684e3b0d8be13c1a698a818ef1e]\n",
       "link E3 to E4--><a href=\"psysml:f56c438f-52f0-4453-9ce2-0999d9bfb233\" target=\"_top\" title=\"psysml:f56c438f-52f0-4453-9ce2-0999d9bfb233\" xlink:actuate=\"onRequest\" xlink:href=\"psysml:f56c438f-52f0-4453-9ce2-0999d9bfb233\" xlink:show=\"new\" xlink:title=\"psysml:f56c438f-52f0-4453-9ce2-0999d9bfb233\" xlink:type=\"simple\"><path d=\"M370,137.1 C370,156.8 370,184.22 370,205.73 \" fill=\"none\" id=\"E3-&gt;E4\" style=\"stroke: #A80036; stroke-width: 1.0; stroke-dasharray: 7.0,7.0;\"/><polygon fill=\"#A80036\" points=\"370,213.95,373,205.95,367,205.95,370,213.95\" style=\"stroke: #A80036; stroke-width: 1.0;\"/><text fill=\"#000000\" font-family=\"sans-serif\" font-size=\"13\" lengthAdjust=\"spacingAndGlyphs\" textLength=\"64\" x=\"371\" y=\"180.0669\">«depend»</text></a><!--MD5=[1b7591eae5389033d8d09a9d6721a717]\n",
       "link E4 to E5--><a href=\"psysml:149727ef-4884-4150-ac87-83ab56bc940c\" target=\"_top\" title=\"psysml:149727ef-4884-4150-ac87-83ab56bc940c\" xlink:actuate=\"onRequest\" xlink:href=\"psysml:149727ef-4884-4150-ac87-83ab56bc940c\" xlink:show=\"new\" xlink:title=\"psysml:149727ef-4884-4150-ac87-83ab56bc940c\" xlink:type=\"simple\"><path d=\"M370,267.1 C370,286.8 370,314.22 370,335.73 \" fill=\"none\" id=\"E4-&gt;E5\" style=\"stroke: #A80036; stroke-width: 1.0; stroke-dasharray: 7.0,7.0;\"/><polygon fill=\"#A80036\" points=\"370,343.95,373,335.95,367,335.95,370,343.95\" style=\"stroke: #A80036; stroke-width: 1.0;\"/><text fill=\"#000000\" font-family=\"sans-serif\" font-size=\"13\" lengthAdjust=\"spacingAndGlyphs\" textLength=\"64\" x=\"371\" y=\"310.0669\">«depend»</text></a><!--MD5=[c5e8897d989ce984f93528998a7150fe]\n",
       "link E8 to E6--><a href=\"psysml:6d264d90-cc53-4d32-95c3-fe1ad979e012\" target=\"_top\" title=\"psysml:6d264d90-cc53-4d32-95c3-fe1ad979e012\" xlink:actuate=\"onRequest\" xlink:href=\"psysml:6d264d90-cc53-4d32-95c3-fe1ad979e012\" xlink:show=\"new\" xlink:title=\"psysml:6d264d90-cc53-4d32-95c3-fe1ad979e012\" xlink:type=\"simple\"><path d=\"M106.44,133.76 C97.3,143.01 88.09,154.51 83,167 C77.6,180.23 76.4,195.98 76.73,209.41 \" fill=\"none\" id=\"E8-&gt;E6\" style=\"stroke: #A80036; stroke-width: 1.0; stroke-dasharray: 7.0,7.0;\"/><polygon fill=\"#A80036\" points=\"77.12,217.43,79.7306,209.2946,73.7375,209.584,77.12,217.43\" style=\"stroke: #A80036; stroke-width: 1.0;\"/><text fill=\"#000000\" font-family=\"sans-serif\" font-size=\"13\" lengthAdjust=\"spacingAndGlyphs\" textLength=\"64\" x=\"84\" y=\"180.0669\">«depend»</text></a><!--MD5=[bfa3c8b0d15052fdf50ae9310b491027]\n",
       "link E8 to E7--><a href=\"psysml:6d264d90-cc53-4d32-95c3-fe1ad979e012\" target=\"_top\" title=\"psysml:6d264d90-cc53-4d32-95c3-fe1ad979e012\" xlink:actuate=\"onRequest\" xlink:href=\"psysml:6d264d90-cc53-4d32-95c3-fe1ad979e012\" xlink:show=\"new\" xlink:title=\"psysml:6d264d90-cc53-4d32-95c3-fe1ad979e012\" xlink:type=\"simple\"><path d=\"M146.58,133.5 C159.69,154.75 179.63,187.05 194.05,210.41 \" fill=\"none\" id=\"E8-&gt;E7\" style=\"stroke: #A80036; stroke-width: 1.0; stroke-dasharray: 7.0,7.0;\"/><polygon fill=\"#A80036\" points=\"198.33,217.35,196.6785,208.9671,191.5737,212.1201,198.33,217.35\" style=\"stroke: #A80036; stroke-width: 1.0;\"/><text fill=\"#000000\" font-family=\"sans-serif\" font-size=\"13\" lengthAdjust=\"spacingAndGlyphs\" textLength=\"64\" x=\"178\" y=\"180.0669\">«depend»</text></a><!--MD5=[d3230af7c699c7ec66201ccd53f43c55]\n",
       "@startuml\r\n",
       " \r\n",
       "package \"DependencyTest\" as E1  [[psysml:d56232e2-0bee-4a1a-bb9b-8eb4f38b0dfa ]]  {\r\n",
       "package \"System\" as E2  [[psysml:50d5e3ed-2307-46ca-b041-8429ee229b8d ]]  {\r\n",
       "package \"Application Layer\" as E3  [[psysml:bf62b3a1-f030-4eff-b8ce-ffbdff107a6f ]]  {\r\n",
       "}\r\n",
       "package \"Service Layer\" as E4  [[psysml:471b2f11-dcf9-418e-881d-688bae838b3f ]]  {\r\n",
       "}\r\n",
       "package \"Data Layer\" as E5  [[psysml:da794142-8c7c-4611-9580-abeb242da5ef ]]  {\r\n",
       "}\r\n",
       "}\r\n",
       "comp usage \"x\" as E6  <<(U,orange)attribute>> [[psysml:ee6e66ae-6a4f-4999-8c9e-f85171cea95e ]] {\r\n",
       "}\r\n",
       "comp usage \"y\" as E7  <<(U,orange)attribute>> [[psysml:da3973fb-164e-4f16-bb62-2f8eaef60bc8 ]] {\r\n",
       "}\r\n",
       "comp usage \"z\" as E8  <<(U,orange)attribute>> [[psysml:8698e020-730f-4ac9-88e5-943d82c20ca0 ]] {\r\n",
       "}\r\n",
       "E3 ..>> E4 [[psysml:f56c438f-52f0-4453-9ce2-0999d9bfb233 ]] : <<depend>>\r\n",
       "E4 ..>> E5 [[psysml:149727ef-4884-4150-ac87-83ab56bc940c ]] : <<depend>>\r\n",
       "E8 ..>> E6 [[psysml:6d264d90-cc53-4d32-95c3-fe1ad979e012 ]] : <<depend>>\r\n",
       "E8 ..>> E7 [[psysml:6d264d90-cc53-4d32-95c3-fe1ad979e012 ]] : <<depend>>\r\n",
       "}\r\n",
       "@enduml\r\n",
       "\n",
       "PlantUML version 1.2020.13(Sat Jun 13 12:26:38 UTC 2020)\n",
       "(EPL source distribution)\n",
       "Java Runtime: OpenJDK Runtime Environment\n",
       "JVM: OpenJDK 64-Bit Server VM\n",
       "Default Encoding: UTF-8\n",
       "Language: en\n",
       "Country: null\n",
       "--></g></svg>"
      ]
     },
     "execution_count": 31,
     "metadata": {},
     "output_type": "execute_result"
    }
   ],
   "source": [
    "%viz --style=\"PLANTUML\" --view=\"Tree\" \"DependencyTest\""
   ]
  },
  {
   "cell_type": "code",
   "execution_count": 32,
   "id": "1a6f3e93",
   "metadata": {
    "execution": {
     "iopub.execute_input": "2021-04-20T07:32:19.371989Z",
     "iopub.status.busy": "2021-04-20T07:32:19.371146Z",
     "iopub.status.idle": "2021-04-20T07:32:19.463772Z",
     "shell.execute_reply": "2021-04-20T07:32:19.462084Z"
    }
   },
   "outputs": [
    {
     "data": {
      "image/svg+xml": [
       "<?xml version=\"1.0\" encoding=\"UTF-8\" standalone=\"no\"?><svg xmlns=\"http://www.w3.org/2000/svg\" xmlns:xlink=\"http://www.w3.org/1999/xlink\" contentScriptType=\"application/ecmascript\" contentStyleType=\"text/css\" height=\"303px\" preserveAspectRatio=\"none\" style=\"width:603px;height:303px;background:#000000;\" version=\"1.1\" viewBox=\"0 0 603 303\" width=\"603px\" zoomAndPan=\"magnify\"><defs/><g><rect fill=\"#251C0A\" height=\"1\" style=\"stroke: #251C0A; stroke-width: 1.0;\" width=\"1\" x=\"0\" y=\"0\"/><rect fill=\"#FFFFFF\" height=\"205.5625\" style=\"stroke: #FFFFFF; stroke-width: 1.0;\" width=\"602\" x=\"0\" y=\"0\"/><text fill=\"#000000\" font-family=\"sans-serif\" font-size=\"12\" font-weight=\"bold\" lengthAdjust=\"spacingAndGlyphs\" textLength=\"159\" x=\"5\" y=\"16.1387\">Welcome to PlantUML!</text><text fill=\"#000000\" font-family=\"sans-serif\" font-size=\"12\" lengthAdjust=\"spacingAndGlyphs\" textLength=\"0\" x=\"9\" y=\"30.1074\"/><text fill=\"#000000\" font-family=\"sans-serif\" font-size=\"12\" lengthAdjust=\"spacingAndGlyphs\" textLength=\"293\" x=\"5\" y=\"44.0762\">If you use this software, you accept its license.</text><text fill=\"#000000\" font-family=\"sans-serif\" font-size=\"12\" lengthAdjust=\"spacingAndGlyphs\" textLength=\"107\" x=\"5\" y=\"58.0449\">(details by typing</text><text fill=\"#000000\" font-family=\"monospace\" font-size=\"12\" lengthAdjust=\"spacingAndGlyphs\" textLength=\"49\" x=\"116\" y=\"58.0449\">license</text><text fill=\"#000000\" font-family=\"sans-serif\" font-size=\"12\" lengthAdjust=\"spacingAndGlyphs\" textLength=\"56\" x=\"169\" y=\"58.0449\">keyword)</text><text fill=\"#000000\" font-family=\"sans-serif\" font-size=\"12\" lengthAdjust=\"spacingAndGlyphs\" textLength=\"0\" x=\"9\" y=\"72.0137\"/><text fill=\"#000000\" font-family=\"sans-serif\" font-size=\"12\" lengthAdjust=\"spacingAndGlyphs\" textLength=\"283\" x=\"5\" y=\"85.9824\">You can start with a simple UML Diagram like:</text><text fill=\"#000000\" font-family=\"sans-serif\" font-size=\"12\" lengthAdjust=\"spacingAndGlyphs\" textLength=\"0\" x=\"9\" y=\"99.9512\"/><text fill=\"#000000\" font-family=\"monospace\" font-size=\"12\" lengthAdjust=\"spacingAndGlyphs\" textLength=\"119\" x=\"5\" y=\"113.9199\">Bob-&gt;Alice: Hello</text><text fill=\"#000000\" font-family=\"sans-serif\" font-size=\"12\" lengthAdjust=\"spacingAndGlyphs\" textLength=\"0\" x=\"9\" y=\"127.8887\"/><text fill=\"#000000\" font-family=\"sans-serif\" font-size=\"12\" lengthAdjust=\"spacingAndGlyphs\" textLength=\"14\" x=\"5\" y=\"141.8574\">Or</text><text fill=\"#000000\" font-family=\"sans-serif\" font-size=\"12\" lengthAdjust=\"spacingAndGlyphs\" textLength=\"0\" x=\"9\" y=\"155.8262\"/><text fill=\"#000000\" font-family=\"monospace\" font-size=\"12\" lengthAdjust=\"spacingAndGlyphs\" textLength=\"91\" x=\"5\" y=\"169.7949\">class Example</text><text fill=\"#000000\" font-family=\"sans-serif\" font-size=\"12\" lengthAdjust=\"spacingAndGlyphs\" textLength=\"0\" x=\"9\" y=\"183.7637\"/><text fill=\"#000000\" font-family=\"sans-serif\" font-size=\"12\" lengthAdjust=\"spacingAndGlyphs\" textLength=\"349\" x=\"5\" y=\"197.7324\">You will find more information about PlantUML syntax on</text><text fill=\"#000000\" font-family=\"sans-serif\" font-size=\"12\" lengthAdjust=\"spacingAndGlyphs\" text-decoration=\"underline\" textLength=\"129\" x=\"358\" y=\"197.7324\">https://plantuml.com</text><image height=\"71\" width=\"80\" x=\"516\" xlink:href=\"data:image/png;base64,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\" y=\"6\"/><rect fill=\"#000000\" height=\"96.4844\" style=\"stroke: #000000; stroke-width: 1.0;\" width=\"602\" x=\"0\" y=\"205.5625\"/><rect fill=\"#33FF02\" height=\"21.2969\" style=\"stroke: #33FF02; stroke-width: 1.0;\" width=\"170\" x=\"5\" y=\"210.5625\"/><text fill=\"#000000\" font-family=\"sans-serif\" font-size=\"14\" font-weight=\"bold\" lengthAdjust=\"spacingAndGlyphs\" textLength=\"168\" x=\"6\" y=\"225.5625\">[From string (line 2) ]</text><text fill=\"#33FF02\" font-family=\"sans-serif\" font-size=\"14\" font-weight=\"bold\" lengthAdjust=\"spacingAndGlyphs\" textLength=\"0\" x=\"10\" y=\"245.8594\"/><text fill=\"#33FF02\" font-family=\"sans-serif\" font-size=\"14\" font-weight=\"bold\" lengthAdjust=\"spacingAndGlyphs\" textLength=\"79\" x=\"5\" y=\"262.1563\">@startuml</text><text fill=\"#33FF02\" font-family=\"sans-serif\" font-size=\"14\" font-weight=\"bold\" lengthAdjust=\"spacingAndGlyphs\" textLength=\"0\" x=\"10\" y=\"278.4531\"/><text fill=\"#FF0000\" font-family=\"sans-serif\" font-size=\"14\" font-weight=\"bold\" lengthAdjust=\"spacingAndGlyphs\" textLength=\"142\" x=\"10\" y=\"294.75\">Empty description</text><!--MD5=[f59edd8218d337f74d0c332fc6737304]\n",
       "@startuml\r\n",
       " \r\n",
       "@enduml\r\n",
       "\n",
       "PlantUML version 1.2020.13(Sat Jun 13 12:26:38 UTC 2020)\n",
       "(EPL source distribution)\n",
       "Java Runtime: OpenJDK Runtime Environment\n",
       "JVM: OpenJDK 64-Bit Server VM\n",
       "Default Encoding: UTF-8\n",
       "Language: en\n",
       "Country: null\n",
       "--></g></svg>"
      ]
     },
     "execution_count": 32,
     "metadata": {},
     "output_type": "execute_result"
    }
   ],
   "source": [
    "%viz --style=\"PLANTUML\" --view=\"State\" \"DependencyTest\""
   ]
  },
  {
   "cell_type": "code",
   "execution_count": 33,
   "id": "7f34a0a3",
   "metadata": {
    "execution": {
     "iopub.execute_input": "2021-04-20T07:32:19.515700Z",
     "iopub.status.busy": "2021-04-20T07:32:19.515229Z",
     "iopub.status.idle": "2021-04-20T07:32:19.553167Z",
     "shell.execute_reply": "2021-04-20T07:32:19.552833Z"
    }
   },
   "outputs": [
    {
     "data": {
      "image/svg+xml": [
       "<?xml version=\"1.0\" encoding=\"UTF-8\" standalone=\"no\"?><svg xmlns=\"http://www.w3.org/2000/svg\" xmlns:xlink=\"http://www.w3.org/1999/xlink\" contentScriptType=\"application/ecmascript\" contentStyleType=\"text/css\" height=\"361px\" preserveAspectRatio=\"none\" style=\"width:510px;height:361px;\" version=\"1.1\" viewBox=\"0 0 510 361\" width=\"510px\" zoomAndPan=\"magnify\"><defs><filter height=\"300%\" id=\"f7a3m3upfnbpq\" width=\"300%\" x=\"-1\" y=\"-1\"><feGaussianBlur result=\"blurOut\" stdDeviation=\"2.0\"/><feColorMatrix in=\"blurOut\" result=\"blurOut2\" type=\"matrix\" values=\"0 0 0 0 0 0 0 0 0 0 0 0 0 0 0 0 0 0 .4 0\"/><feOffset dx=\"4.0\" dy=\"4.0\" in=\"blurOut2\" result=\"blurOut3\"/><feBlend in=\"SourceGraphic\" in2=\"blurOut3\" mode=\"normal\"/></filter></defs><g><!--MD5=[fbc87193dbaf4d95561dea2c320d4a47]\n",
       "cluster E1--><a href=\"psysml:d56232e2-0bee-4a1a-bb9b-8eb4f38b0dfa\" target=\"_top\" title=\"psysml:d56232e2-0bee-4a1a-bb9b-8eb4f38b0dfa\" xlink:actuate=\"onRequest\" xlink:href=\"psysml:d56232e2-0bee-4a1a-bb9b-8eb4f38b0dfa\" xlink:show=\"new\" xlink:title=\"psysml:d56232e2-0bee-4a1a-bb9b-8eb4f38b0dfa\" xlink:type=\"simple\"><polygon fill=\"#FFFFFF\" filter=\"url(#f7a3m3upfnbpq)\" points=\"16,6,156,6,163,28.2969,488,28.2969,488,349,16,349,16,6\" style=\"stroke: #000000; stroke-width: 1.5;\"/><line style=\"stroke: #000000; stroke-width: 1.5;\" x1=\"16\" x2=\"163\" y1=\"28.2969\" y2=\"28.2969\"/><text fill=\"#000000\" font-family=\"sans-serif\" font-size=\"14\" font-weight=\"bold\" lengthAdjust=\"spacingAndGlyphs\" textLength=\"134\" x=\"20\" y=\"20.9951\">DependencyTest</text></a><!--MD5=[e4f7fae6ed58524ba242bb0b0d3be6b7]\n",
       "cluster E2--><a href=\"psysml:50d5e3ed-2307-46ca-b041-8429ee229b8d\" target=\"_top\" title=\"psysml:50d5e3ed-2307-46ca-b041-8429ee229b8d\" xlink:actuate=\"onRequest\" xlink:href=\"psysml:50d5e3ed-2307-46ca-b041-8429ee229b8d\" xlink:show=\"new\" xlink:title=\"psysml:50d5e3ed-2307-46ca-b041-8429ee229b8d\" xlink:type=\"simple\"><polygon fill=\"#FFFFFF\" filter=\"url(#f7a3m3upfnbpq)\" points=\"276,49,340,49,347,71.2969,464,71.2969,464,325,276,325,276,49\" style=\"stroke: #000000; stroke-width: 1.5;\"/><line style=\"stroke: #000000; stroke-width: 1.5;\" x1=\"276\" x2=\"347\" y1=\"71.2969\" y2=\"71.2969\"/><text fill=\"#000000\" font-family=\"sans-serif\" font-size=\"14\" font-weight=\"bold\" lengthAdjust=\"spacingAndGlyphs\" textLength=\"58\" x=\"280\" y=\"63.9951\">System</text></a><!--MD5=[60a26617385b1d2d0262a64233df1f8d]\n",
       "class E6--><a href=\"psysml:ee6e66ae-6a4f-4999-8c9e-f85171cea95e\" target=\"_top\" title=\"psysml:ee6e66ae-6a4f-4999-8c9e-f85171cea95e\" xlink:actuate=\"onRequest\" xlink:href=\"psysml:ee6e66ae-6a4f-4999-8c9e-f85171cea95e\" xlink:show=\"new\" xlink:title=\"psysml:ee6e66ae-6a4f-4999-8c9e-f85171cea95e\" xlink:type=\"simple\"><rect fill=\"#FEFECE\" filter=\"url(#f7a3m3upfnbpq)\" height=\"45.9375\" id=\"E6\" rx=\"10\" ry=\"10\" style=\"stroke: #A80036; stroke-width: 1.5;\" width=\"97\" x=\"31.5\" y=\"173.5\"/><ellipse cx=\"46.5\" cy=\"192.4688\" fill=\"#FFA500\" rx=\"11\" ry=\"11\" style=\"stroke: #A80036; stroke-width: 1.0;\"/><path d=\"M42.375,194.3906 L42.375,186.5781 L44.8281,186.5781 L44.8281,195.0156 Q44.8281,195.9375 45.2969,196.4688 Q45.7813,197 46.6094,197 Q47.4531,197 47.9219,196.4688 Q48.3906,195.9375 48.3906,195.0156 L48.3906,186.5781 L50.8438,186.5781 L50.8438,194.3906 Q50.8438,196.9219 49.8438,198.0625 Q48.8438,199.2031 46.6094,199.2031 Q44.3906,199.2031 43.375,198.0625 Q42.375,196.9219 42.375,194.3906 Z \"/><text fill=\"#000000\" font-family=\"sans-serif\" font-size=\"12\" font-style=\"italic\" lengthAdjust=\"spacingAndGlyphs\" textLength=\"69\" x=\"58.5\" y=\"189.6387\">«attribute»</text><text fill=\"#000000\" font-family=\"sans-serif\" font-size=\"12\" lengthAdjust=\"spacingAndGlyphs\" textLength=\"6\" x=\"90\" y=\"203.6074\">x</text><line style=\"stroke: #A80036; stroke-width: 1.5;\" x1=\"32.5\" x2=\"127.5\" y1=\"211.4375\" y2=\"211.4375\"/></a><!--MD5=[2156ba9850f5573cc1fc38a6a4b2f02b]\n",
       "class E7--><a href=\"psysml:da3973fb-164e-4f16-bb62-2f8eaef60bc8\" target=\"_top\" title=\"psysml:da3973fb-164e-4f16-bb62-2f8eaef60bc8\" xlink:actuate=\"onRequest\" xlink:href=\"psysml:da3973fb-164e-4f16-bb62-2f8eaef60bc8\" xlink:show=\"new\" xlink:title=\"psysml:da3973fb-164e-4f16-bb62-2f8eaef60bc8\" xlink:type=\"simple\"><rect fill=\"#FEFECE\" filter=\"url(#f7a3m3upfnbpq)\" height=\"45.9375\" id=\"E7\" rx=\"10\" ry=\"10\" style=\"stroke: #A80036; stroke-width: 1.5;\" width=\"97\" x=\"163.5\" y=\"173.5\"/><ellipse cx=\"178.5\" cy=\"192.4688\" fill=\"#FFA500\" rx=\"11\" ry=\"11\" style=\"stroke: #A80036; stroke-width: 1.0;\"/><path d=\"M174.375,194.3906 L174.375,186.5781 L176.8281,186.5781 L176.8281,195.0156 Q176.8281,195.9375 177.2969,196.4688 Q177.7813,197 178.6094,197 Q179.4531,197 179.9219,196.4688 Q180.3906,195.9375 180.3906,195.0156 L180.3906,186.5781 L182.8438,186.5781 L182.8438,194.3906 Q182.8438,196.9219 181.8438,198.0625 Q180.8438,199.2031 178.6094,199.2031 Q176.3906,199.2031 175.375,198.0625 Q174.375,196.9219 174.375,194.3906 Z \"/><text fill=\"#000000\" font-family=\"sans-serif\" font-size=\"12\" font-style=\"italic\" lengthAdjust=\"spacingAndGlyphs\" textLength=\"69\" x=\"190.5\" y=\"189.6387\">«attribute»</text><text fill=\"#000000\" font-family=\"sans-serif\" font-size=\"12\" lengthAdjust=\"spacingAndGlyphs\" textLength=\"6\" x=\"222\" y=\"203.6074\">y</text><line style=\"stroke: #A80036; stroke-width: 1.5;\" x1=\"164.5\" x2=\"259.5\" y1=\"211.4375\" y2=\"211.4375\"/></a><!--MD5=[b9389687b975829384b498ac4b7476b2]\n",
       "class E8--><a href=\"psysml:8698e020-730f-4ac9-88e5-943d82c20ca0\" target=\"_top\" title=\"psysml:8698e020-730f-4ac9-88e5-943d82c20ca0\" xlink:actuate=\"onRequest\" xlink:href=\"psysml:8698e020-730f-4ac9-88e5-943d82c20ca0\" xlink:show=\"new\" xlink:title=\"psysml:8698e020-730f-4ac9-88e5-943d82c20ca0\" xlink:type=\"simple\"><rect fill=\"#FEFECE\" filter=\"url(#f7a3m3upfnbpq)\" height=\"45.9375\" id=\"E8\" rx=\"10\" ry=\"10\" style=\"stroke: #A80036; stroke-width: 1.5;\" width=\"97\" x=\"84.5\" y=\"87.5\"/><ellipse cx=\"99.5\" cy=\"106.4688\" fill=\"#FFA500\" rx=\"11\" ry=\"11\" style=\"stroke: #A80036; stroke-width: 1.0;\"/><path d=\"M95.375,108.3906 L95.375,100.5781 L97.8281,100.5781 L97.8281,109.0156 Q97.8281,109.9375 98.2969,110.4688 Q98.7813,111 99.6094,111 Q100.4531,111 100.9219,110.4688 Q101.3906,109.9375 101.3906,109.0156 L101.3906,100.5781 L103.8438,100.5781 L103.8438,108.3906 Q103.8438,110.9219 102.8438,112.0625 Q101.8438,113.2031 99.6094,113.2031 Q97.3906,113.2031 96.375,112.0625 Q95.375,110.9219 95.375,108.3906 Z \"/><text fill=\"#000000\" font-family=\"sans-serif\" font-size=\"12\" font-style=\"italic\" lengthAdjust=\"spacingAndGlyphs\" textLength=\"69\" x=\"111.5\" y=\"103.6387\">«attribute»</text><text fill=\"#000000\" font-family=\"sans-serif\" font-size=\"12\" lengthAdjust=\"spacingAndGlyphs\" textLength=\"5\" x=\"143.5\" y=\"117.6074\">z</text><line style=\"stroke: #A80036; stroke-width: 1.5;\" x1=\"85.5\" x2=\"180.5\" y1=\"125.4375\" y2=\"125.4375\"/></a><a href=\"psysml:bf62b3a1-f030-4eff-b8ce-ffbdff107a6f\" target=\"_top\" title=\"psysml:bf62b3a1-f030-4eff-b8ce-ffbdff107a6f\" xlink:actuate=\"onRequest\" xlink:href=\"psysml:bf62b3a1-f030-4eff-b8ce-ffbdff107a6f\" xlink:show=\"new\" xlink:title=\"psysml:bf62b3a1-f030-4eff-b8ce-ffbdff107a6f\" xlink:type=\"simple\"><polygon fill=\"#FFFFFF\" filter=\"url(#f7a3m3upfnbpq)\" points=\"292,84,434,84,441,106.2969,448,106.2969,448,136.5938,292,136.5938,292,84\" style=\"stroke: #000000; stroke-width: 1.5;\"/><line style=\"stroke: #000000; stroke-width: 1.5;\" x1=\"292\" x2=\"441\" y1=\"106.2969\" y2=\"106.2969\"/><text fill=\"#000000\" font-family=\"sans-serif\" font-size=\"14\" font-weight=\"bold\" lengthAdjust=\"spacingAndGlyphs\" textLength=\"136\" x=\"296\" y=\"98.9951\">Application Layer</text></a><a href=\"psysml:471b2f11-dcf9-418e-881d-688bae838b3f\" target=\"_top\" title=\"psysml:471b2f11-dcf9-418e-881d-688bae838b3f\" xlink:actuate=\"onRequest\" xlink:href=\"psysml:471b2f11-dcf9-418e-881d-688bae838b3f\" xlink:show=\"new\" xlink:title=\"psysml:471b2f11-dcf9-418e-881d-688bae838b3f\" xlink:type=\"simple\"><polygon fill=\"#FFFFFF\" filter=\"url(#f7a3m3upfnbpq)\" points=\"306,170,420,170,427,192.2969,434,192.2969,434,222.5938,306,222.5938,306,170\" style=\"stroke: #000000; stroke-width: 1.5;\"/><line style=\"stroke: #000000; stroke-width: 1.5;\" x1=\"306\" x2=\"427\" y1=\"192.2969\" y2=\"192.2969\"/><text fill=\"#000000\" font-family=\"sans-serif\" font-size=\"14\" font-weight=\"bold\" lengthAdjust=\"spacingAndGlyphs\" textLength=\"108\" x=\"310\" y=\"184.9951\">Service Layer</text></a><a href=\"psysml:da794142-8c7c-4611-9580-abeb242da5ef\" target=\"_top\" title=\"psysml:da794142-8c7c-4611-9580-abeb242da5ef\" xlink:actuate=\"onRequest\" xlink:href=\"psysml:da794142-8c7c-4611-9580-abeb242da5ef\" xlink:show=\"new\" xlink:title=\"psysml:da794142-8c7c-4611-9580-abeb242da5ef\" xlink:type=\"simple\"><polygon fill=\"#FFFFFF\" filter=\"url(#f7a3m3upfnbpq)\" points=\"318,256,408,256,415,278.2969,422,278.2969,422,308.5938,318,308.5938,318,256\" style=\"stroke: #000000; stroke-width: 1.5;\"/><line style=\"stroke: #000000; stroke-width: 1.5;\" x1=\"318\" x2=\"415\" y1=\"278.2969\" y2=\"278.2969\"/><text fill=\"#000000\" font-family=\"sans-serif\" font-size=\"14\" font-weight=\"bold\" lengthAdjust=\"spacingAndGlyphs\" textLength=\"84\" x=\"322\" y=\"270.9951\">Data Layer</text></a><!--MD5=[af87c684e3b0d8be13c1a698a818ef1e]\n",
       "link E3 to E4--><a href=\"psysml:f56c438f-52f0-4453-9ce2-0999d9bfb233\" target=\"_top\" title=\"psysml:f56c438f-52f0-4453-9ce2-0999d9bfb233\" xlink:actuate=\"onRequest\" xlink:href=\"psysml:f56c438f-52f0-4453-9ce2-0999d9bfb233\" xlink:show=\"new\" xlink:title=\"psysml:f56c438f-52f0-4453-9ce2-0999d9bfb233\" xlink:type=\"simple\"><path d=\"M370,137.16 C370,144.98 370,153.69 370,161.94 \" fill=\"none\" id=\"E3-&gt;E4\" style=\"stroke: #A80036; stroke-width: 1.0; stroke-dasharray: 7.0,7.0;\"/><polygon fill=\"#A80036\" points=\"370,170,373,162,367,162,370,170\" style=\"stroke: #A80036; stroke-width: 1.0;\"/><text fill=\"#000000\" font-family=\"sans-serif\" font-size=\"13\" lengthAdjust=\"spacingAndGlyphs\" textLength=\"64\" x=\"371\" y=\"158.0669\">«depend»</text></a><!--MD5=[1b7591eae5389033d8d09a9d6721a717]\n",
       "link E4 to E5--><a href=\"psysml:149727ef-4884-4150-ac87-83ab56bc940c\" target=\"_top\" title=\"psysml:149727ef-4884-4150-ac87-83ab56bc940c\" xlink:actuate=\"onRequest\" xlink:href=\"psysml:149727ef-4884-4150-ac87-83ab56bc940c\" xlink:show=\"new\" xlink:title=\"psysml:149727ef-4884-4150-ac87-83ab56bc940c\" xlink:type=\"simple\"><path d=\"M370,223.16 C370,230.98 370,239.69 370,247.94 \" fill=\"none\" id=\"E4-&gt;E5\" style=\"stroke: #A80036; stroke-width: 1.0; stroke-dasharray: 7.0,7.0;\"/><polygon fill=\"#A80036\" points=\"370,256,373,248,367,248,370,256\" style=\"stroke: #A80036; stroke-width: 1.0;\"/><text fill=\"#000000\" font-family=\"sans-serif\" font-size=\"13\" lengthAdjust=\"spacingAndGlyphs\" textLength=\"64\" x=\"371\" y=\"244.0669\">«depend»</text></a><!--MD5=[c5e8897d989ce984f93528998a7150fe]\n",
       "link E8 to E6--><a href=\"psysml:6d264d90-cc53-4d32-95c3-fe1ad979e012\" target=\"_top\" title=\"psysml:6d264d90-cc53-4d32-95c3-fe1ad979e012\" xlink:actuate=\"onRequest\" xlink:href=\"psysml:6d264d90-cc53-4d32-95c3-fe1ad979e012\" xlink:show=\"new\" xlink:title=\"psysml:6d264d90-cc53-4d32-95c3-fe1ad979e012\" xlink:type=\"simple\"><path d=\"M92.08,133.72 C88.53,137.07 85.39,140.83 83,145 C79.52,151.08 77.92,158.28 77.36,165.3 \" fill=\"none\" id=\"E8-&gt;E6\" style=\"stroke: #A80036; stroke-width: 1.0; stroke-dasharray: 7.0,7.0;\"/><polygon fill=\"#A80036\" points=\"77.14,173.39,80.3531,165.4732,74.3553,165.3125,77.14,173.39\" style=\"stroke: #A80036; stroke-width: 1.0;\"/><text fill=\"#000000\" font-family=\"sans-serif\" font-size=\"13\" lengthAdjust=\"spacingAndGlyphs\" textLength=\"64\" x=\"84\" y=\"158.0669\">«depend»</text></a><!--MD5=[bfa3c8b0d15052fdf50ae9310b491027]\n",
       "link E8 to E7--><a href=\"psysml:6d264d90-cc53-4d32-95c3-fe1ad979e012\" target=\"_top\" title=\"psysml:6d264d90-cc53-4d32-95c3-fe1ad979e012\" xlink:actuate=\"onRequest\" xlink:href=\"psysml:6d264d90-cc53-4d32-95c3-fe1ad979e012\" xlink:show=\"new\" xlink:title=\"psysml:6d264d90-cc53-4d32-95c3-fe1ad979e012\" xlink:type=\"simple\"><path d=\"M153.76,133.57 C163.48,143.91 175.17,156.34 185.52,167.34 \" fill=\"none\" id=\"E8-&gt;E7\" style=\"stroke: #A80036; stroke-width: 1.0; stroke-dasharray: 7.0,7.0;\"/><polygon fill=\"#A80036\" points=\"191.11,173.29,187.8117,165.4083,183.4425,169.5205,191.11,173.29\" style=\"stroke: #A80036; stroke-width: 1.0;\"/><text fill=\"#000000\" font-family=\"sans-serif\" font-size=\"13\" lengthAdjust=\"spacingAndGlyphs\" textLength=\"64\" x=\"180\" y=\"158.0669\">«depend»</text></a><!--MD5=[442a3a4c84ac0f02d87e191d552e5406]\n",
       "@startuml\r\n",
       "skinparam ranksep 10\r\n",
       "skinparam rectangle {\r\n",
       " backgroundColor<<block>> LightGreen\r\n",
       "}\r\n",
       " \r\n",
       "package \"DependencyTest\" as E1  [[psysml:d56232e2-0bee-4a1a-bb9b-8eb4f38b0dfa ]]  {\r\n",
       "package \"System\" as E2  [[psysml:50d5e3ed-2307-46ca-b041-8429ee229b8d ]]  {\r\n",
       "package \"Application Layer\" as E3  [[psysml:bf62b3a1-f030-4eff-b8ce-ffbdff107a6f ]]  {\r\n",
       "}\r\n",
       "package \"Service Layer\" as E4  [[psysml:471b2f11-dcf9-418e-881d-688bae838b3f ]]  {\r\n",
       "}\r\n",
       "package \"Data Layer\" as E5  [[psysml:da794142-8c7c-4611-9580-abeb242da5ef ]]  {\r\n",
       "}\r\n",
       "}\r\n",
       "comp usage \"x\" as E6  <<(U,orange)attribute>> [[psysml:ee6e66ae-6a4f-4999-8c9e-f85171cea95e ]] {\r\n",
       "}\r\n",
       "comp usage \"y\" as E7  <<(U,orange)attribute>> [[psysml:da3973fb-164e-4f16-bb62-2f8eaef60bc8 ]] {\r\n",
       "}\r\n",
       "comp usage \"z\" as E8  <<(U,orange)attribute>> [[psysml:8698e020-730f-4ac9-88e5-943d82c20ca0 ]] {\r\n",
       "}\r\n",
       "E3 ..>> E4 [[psysml:f56c438f-52f0-4453-9ce2-0999d9bfb233 ]] : <<depend>>\r\n",
       "E4 ..>> E5 [[psysml:149727ef-4884-4150-ac87-83ab56bc940c ]] : <<depend>>\r\n",
       "E8 ..>> E6 [[psysml:6d264d90-cc53-4d32-95c3-fe1ad979e012 ]] : <<depend>>\r\n",
       "E8 ..>> E7 [[psysml:6d264d90-cc53-4d32-95c3-fe1ad979e012 ]] : <<depend>>\r\n",
       "}\r\n",
       "@enduml\r\n",
       "\n",
       "PlantUML version 1.2020.13(Sat Jun 13 12:26:38 UTC 2020)\n",
       "(EPL source distribution)\n",
       "Java Runtime: OpenJDK Runtime Environment\n",
       "JVM: OpenJDK 64-Bit Server VM\n",
       "Default Encoding: UTF-8\n",
       "Language: en\n",
       "Country: null\n",
       "--></g></svg>"
      ]
     },
     "execution_count": 33,
     "metadata": {},
     "output_type": "execute_result"
    }
   ],
   "source": [
    "%viz --style=\"PLANTUML\" --view=\"Interconnection\" \"DependencyTest\""
   ]
  },
  {
   "cell_type": "code",
   "execution_count": 34,
   "id": "4732c857",
   "metadata": {
    "execution": {
     "iopub.execute_input": "2021-04-20T07:32:19.601905Z",
     "iopub.status.busy": "2021-04-20T07:32:19.601255Z",
     "iopub.status.idle": "2021-04-20T07:32:19.606336Z",
     "shell.execute_reply": "2021-04-20T07:32:19.605919Z"
    }
   },
   "outputs": [
    {
     "data": {
      "image/svg+xml": [
       "<?xml version=\"1.0\" encoding=\"UTF-8\" standalone=\"no\"?><svg xmlns=\"http://www.w3.org/2000/svg\" xmlns:xlink=\"http://www.w3.org/1999/xlink\" contentScriptType=\"application/ecmascript\" contentStyleType=\"text/css\" height=\"12px\" preserveAspectRatio=\"none\" style=\"width:12px;height:12px;\" version=\"1.1\" viewBox=\"0 0 12 12\" width=\"12px\" zoomAndPan=\"magnify\"><defs/><g><!--MD5=[6a4cb978cab31700e1ce5529f947a75d]\n",
       "@startuml\r\n",
       "skinparam ranksep 8\r\n",
       " \r\n",
       "@enduml\r\n",
       "\n",
       "PlantUML version 1.2020.13(Sat Jun 13 12:26:38 UTC 2020)\n",
       "(EPL source distribution)\n",
       "Java Runtime: OpenJDK Runtime Environment\n",
       "JVM: OpenJDK 64-Bit Server VM\n",
       "Default Encoding: UTF-8\n",
       "Language: en\n",
       "Country: null\n",
       "--></g></svg>"
      ]
     },
     "execution_count": 34,
     "metadata": {},
     "output_type": "execute_result"
    }
   ],
   "source": [
    "%viz --style=\"PLANTUML\" --view=\"Action\" \"DependencyTest\""
   ]
  },
  {
   "cell_type": "code",
   "execution_count": 35,
   "id": "66bb46ee",
   "metadata": {
    "execution": {
     "iopub.execute_input": "2021-04-20T07:32:19.657385Z",
     "iopub.status.busy": "2021-04-20T07:32:19.656776Z",
     "iopub.status.idle": "2021-04-20T07:32:19.691327Z",
     "shell.execute_reply": "2021-04-20T07:32:19.689954Z"
    }
   },
   "outputs": [
    {
     "data": {
      "image/svg+xml": [
       "<?xml version=\"1.0\" encoding=\"UTF-8\" standalone=\"no\"?><svg xmlns=\"http://www.w3.org/2000/svg\" xmlns:xlink=\"http://www.w3.org/1999/xlink\" contentScriptType=\"application/ecmascript\" contentStyleType=\"text/css\" height=\"449px\" preserveAspectRatio=\"none\" style=\"width:510px;height:449px;\" version=\"1.1\" viewBox=\"0 0 510 449\" width=\"510px\" zoomAndPan=\"magnify\"><defs><filter height=\"300%\" id=\"fwhipltwsfidf\" width=\"300%\" x=\"-1\" y=\"-1\"><feGaussianBlur result=\"blurOut\" stdDeviation=\"2.0\"/><feColorMatrix in=\"blurOut\" result=\"blurOut2\" type=\"matrix\" values=\"0 0 0 0 0 0 0 0 0 0 0 0 0 0 0 0 0 0 .4 0\"/><feOffset dx=\"4.0\" dy=\"4.0\" in=\"blurOut2\" result=\"blurOut3\"/><feBlend in=\"SourceGraphic\" in2=\"blurOut3\" mode=\"normal\"/></filter></defs><g><!--MD5=[fbc87193dbaf4d95561dea2c320d4a47]\n",
       "cluster E1--><a href=\"psysml:d56232e2-0bee-4a1a-bb9b-8eb4f38b0dfa\" target=\"_top\" title=\"psysml:d56232e2-0bee-4a1a-bb9b-8eb4f38b0dfa\" xlink:actuate=\"onRequest\" xlink:href=\"psysml:d56232e2-0bee-4a1a-bb9b-8eb4f38b0dfa\" xlink:show=\"new\" xlink:title=\"psysml:d56232e2-0bee-4a1a-bb9b-8eb4f38b0dfa\" xlink:type=\"simple\"><polygon fill=\"#FFFFFF\" filter=\"url(#fwhipltwsfidf)\" points=\"16,6,156,6,163,28.2969,488,28.2969,488,437,16,437,16,6\" style=\"stroke: #000000; stroke-width: 1.5;\"/><line style=\"stroke: #000000; stroke-width: 1.5;\" x1=\"16\" x2=\"163\" y1=\"28.2969\" y2=\"28.2969\"/><text fill=\"#000000\" font-family=\"sans-serif\" font-size=\"14\" font-weight=\"bold\" lengthAdjust=\"spacingAndGlyphs\" textLength=\"134\" x=\"20\" y=\"20.9951\">DependencyTest</text></a><!--MD5=[e4f7fae6ed58524ba242bb0b0d3be6b7]\n",
       "cluster E2--><a href=\"psysml:50d5e3ed-2307-46ca-b041-8429ee229b8d\" target=\"_top\" title=\"psysml:50d5e3ed-2307-46ca-b041-8429ee229b8d\" xlink:actuate=\"onRequest\" xlink:href=\"psysml:50d5e3ed-2307-46ca-b041-8429ee229b8d\" xlink:show=\"new\" xlink:title=\"psysml:50d5e3ed-2307-46ca-b041-8429ee229b8d\" xlink:type=\"simple\"><polygon fill=\"#FFFFFF\" filter=\"url(#fwhipltwsfidf)\" points=\"276,49,340,49,347,71.2969,464,71.2969,464,413,276,413,276,49\" style=\"stroke: #000000; stroke-width: 1.5;\"/><line style=\"stroke: #000000; stroke-width: 1.5;\" x1=\"276\" x2=\"347\" y1=\"71.2969\" y2=\"71.2969\"/><text fill=\"#000000\" font-family=\"sans-serif\" font-size=\"14\" font-weight=\"bold\" lengthAdjust=\"spacingAndGlyphs\" textLength=\"58\" x=\"280\" y=\"63.9951\">System</text></a><!--MD5=[60a26617385b1d2d0262a64233df1f8d]\n",
       "class E6--><a href=\"psysml:ee6e66ae-6a4f-4999-8c9e-f85171cea95e\" target=\"_top\" title=\"psysml:ee6e66ae-6a4f-4999-8c9e-f85171cea95e\" xlink:actuate=\"onRequest\" xlink:href=\"psysml:ee6e66ae-6a4f-4999-8c9e-f85171cea95e\" xlink:show=\"new\" xlink:title=\"psysml:ee6e66ae-6a4f-4999-8c9e-f85171cea95e\" xlink:type=\"simple\"><rect fill=\"#FEFECE\" filter=\"url(#fwhipltwsfidf)\" height=\"45.9375\" id=\"E6\" rx=\"10\" ry=\"10\" style=\"stroke: #A80036; stroke-width: 1.5;\" width=\"97\" x=\"31.5\" y=\"217.5\"/><ellipse cx=\"46.5\" cy=\"236.4688\" fill=\"#FFA500\" rx=\"11\" ry=\"11\" style=\"stroke: #A80036; stroke-width: 1.0;\"/><path d=\"M42.375,238.3906 L42.375,230.5781 L44.8281,230.5781 L44.8281,239.0156 Q44.8281,239.9375 45.2969,240.4688 Q45.7813,241 46.6094,241 Q47.4531,241 47.9219,240.4688 Q48.3906,239.9375 48.3906,239.0156 L48.3906,230.5781 L50.8438,230.5781 L50.8438,238.3906 Q50.8438,240.9219 49.8438,242.0625 Q48.8438,243.2031 46.6094,243.2031 Q44.3906,243.2031 43.375,242.0625 Q42.375,240.9219 42.375,238.3906 Z \"/><text fill=\"#000000\" font-family=\"sans-serif\" font-size=\"12\" font-style=\"italic\" lengthAdjust=\"spacingAndGlyphs\" textLength=\"69\" x=\"58.5\" y=\"233.6387\">«attribute»</text><text fill=\"#000000\" font-family=\"sans-serif\" font-size=\"12\" lengthAdjust=\"spacingAndGlyphs\" textLength=\"6\" x=\"90\" y=\"247.6074\">x</text><line style=\"stroke: #A80036; stroke-width: 1.5;\" x1=\"32.5\" x2=\"127.5\" y1=\"255.4375\" y2=\"255.4375\"/></a><!--MD5=[2156ba9850f5573cc1fc38a6a4b2f02b]\n",
       "class E7--><a href=\"psysml:da3973fb-164e-4f16-bb62-2f8eaef60bc8\" target=\"_top\" title=\"psysml:da3973fb-164e-4f16-bb62-2f8eaef60bc8\" xlink:actuate=\"onRequest\" xlink:href=\"psysml:da3973fb-164e-4f16-bb62-2f8eaef60bc8\" xlink:show=\"new\" xlink:title=\"psysml:da3973fb-164e-4f16-bb62-2f8eaef60bc8\" xlink:type=\"simple\"><rect fill=\"#FEFECE\" filter=\"url(#fwhipltwsfidf)\" height=\"45.9375\" id=\"E7\" rx=\"10\" ry=\"10\" style=\"stroke: #A80036; stroke-width: 1.5;\" width=\"97\" x=\"163.5\" y=\"217.5\"/><ellipse cx=\"178.5\" cy=\"236.4688\" fill=\"#FFA500\" rx=\"11\" ry=\"11\" style=\"stroke: #A80036; stroke-width: 1.0;\"/><path d=\"M174.375,238.3906 L174.375,230.5781 L176.8281,230.5781 L176.8281,239.0156 Q176.8281,239.9375 177.2969,240.4688 Q177.7813,241 178.6094,241 Q179.4531,241 179.9219,240.4688 Q180.3906,239.9375 180.3906,239.0156 L180.3906,230.5781 L182.8438,230.5781 L182.8438,238.3906 Q182.8438,240.9219 181.8438,242.0625 Q180.8438,243.2031 178.6094,243.2031 Q176.3906,243.2031 175.375,242.0625 Q174.375,240.9219 174.375,238.3906 Z \"/><text fill=\"#000000\" font-family=\"sans-serif\" font-size=\"12\" font-style=\"italic\" lengthAdjust=\"spacingAndGlyphs\" textLength=\"69\" x=\"190.5\" y=\"233.6387\">«attribute»</text><text fill=\"#000000\" font-family=\"sans-serif\" font-size=\"12\" lengthAdjust=\"spacingAndGlyphs\" textLength=\"6\" x=\"222\" y=\"247.6074\">y</text><line style=\"stroke: #A80036; stroke-width: 1.5;\" x1=\"164.5\" x2=\"259.5\" y1=\"255.4375\" y2=\"255.4375\"/></a><!--MD5=[b9389687b975829384b498ac4b7476b2]\n",
       "class E8--><a href=\"psysml:8698e020-730f-4ac9-88e5-943d82c20ca0\" target=\"_top\" title=\"psysml:8698e020-730f-4ac9-88e5-943d82c20ca0\" xlink:actuate=\"onRequest\" xlink:href=\"psysml:8698e020-730f-4ac9-88e5-943d82c20ca0\" xlink:show=\"new\" xlink:title=\"psysml:8698e020-730f-4ac9-88e5-943d82c20ca0\" xlink:type=\"simple\"><rect fill=\"#FEFECE\" filter=\"url(#fwhipltwsfidf)\" height=\"45.9375\" id=\"E8\" rx=\"10\" ry=\"10\" style=\"stroke: #A80036; stroke-width: 1.5;\" width=\"97\" x=\"84.5\" y=\"87.5\"/><ellipse cx=\"99.5\" cy=\"106.4688\" fill=\"#FFA500\" rx=\"11\" ry=\"11\" style=\"stroke: #A80036; stroke-width: 1.0;\"/><path d=\"M95.375,108.3906 L95.375,100.5781 L97.8281,100.5781 L97.8281,109.0156 Q97.8281,109.9375 98.2969,110.4688 Q98.7813,111 99.6094,111 Q100.4531,111 100.9219,110.4688 Q101.3906,109.9375 101.3906,109.0156 L101.3906,100.5781 L103.8438,100.5781 L103.8438,108.3906 Q103.8438,110.9219 102.8438,112.0625 Q101.8438,113.2031 99.6094,113.2031 Q97.3906,113.2031 96.375,112.0625 Q95.375,110.9219 95.375,108.3906 Z \"/><text fill=\"#000000\" font-family=\"sans-serif\" font-size=\"12\" font-style=\"italic\" lengthAdjust=\"spacingAndGlyphs\" textLength=\"69\" x=\"111.5\" y=\"103.6387\">«attribute»</text><text fill=\"#000000\" font-family=\"sans-serif\" font-size=\"12\" lengthAdjust=\"spacingAndGlyphs\" textLength=\"5\" x=\"143.5\" y=\"117.6074\">z</text><line style=\"stroke: #A80036; stroke-width: 1.5;\" x1=\"85.5\" x2=\"180.5\" y1=\"125.4375\" y2=\"125.4375\"/></a><a href=\"psysml:bf62b3a1-f030-4eff-b8ce-ffbdff107a6f\" target=\"_top\" title=\"psysml:bf62b3a1-f030-4eff-b8ce-ffbdff107a6f\" xlink:actuate=\"onRequest\" xlink:href=\"psysml:bf62b3a1-f030-4eff-b8ce-ffbdff107a6f\" xlink:show=\"new\" xlink:title=\"psysml:bf62b3a1-f030-4eff-b8ce-ffbdff107a6f\" xlink:type=\"simple\"><polygon fill=\"#FFFFFF\" filter=\"url(#fwhipltwsfidf)\" points=\"292,84,434,84,441,106.2969,448,106.2969,448,136.5938,292,136.5938,292,84\" style=\"stroke: #000000; stroke-width: 1.5;\"/><line style=\"stroke: #000000; stroke-width: 1.5;\" x1=\"292\" x2=\"441\" y1=\"106.2969\" y2=\"106.2969\"/><text fill=\"#000000\" font-family=\"sans-serif\" font-size=\"14\" font-weight=\"bold\" lengthAdjust=\"spacingAndGlyphs\" textLength=\"136\" x=\"296\" y=\"98.9951\">Application Layer</text></a><a href=\"psysml:471b2f11-dcf9-418e-881d-688bae838b3f\" target=\"_top\" title=\"psysml:471b2f11-dcf9-418e-881d-688bae838b3f\" xlink:actuate=\"onRequest\" xlink:href=\"psysml:471b2f11-dcf9-418e-881d-688bae838b3f\" xlink:show=\"new\" xlink:title=\"psysml:471b2f11-dcf9-418e-881d-688bae838b3f\" xlink:type=\"simple\"><polygon fill=\"#FFFFFF\" filter=\"url(#fwhipltwsfidf)\" points=\"306,214,420,214,427,236.2969,434,236.2969,434,266.5938,306,266.5938,306,214\" style=\"stroke: #000000; stroke-width: 1.5;\"/><line style=\"stroke: #000000; stroke-width: 1.5;\" x1=\"306\" x2=\"427\" y1=\"236.2969\" y2=\"236.2969\"/><text fill=\"#000000\" font-family=\"sans-serif\" font-size=\"14\" font-weight=\"bold\" lengthAdjust=\"spacingAndGlyphs\" textLength=\"108\" x=\"310\" y=\"228.9951\">Service Layer</text></a><a href=\"psysml:da794142-8c7c-4611-9580-abeb242da5ef\" target=\"_top\" title=\"psysml:da794142-8c7c-4611-9580-abeb242da5ef\" xlink:actuate=\"onRequest\" xlink:href=\"psysml:da794142-8c7c-4611-9580-abeb242da5ef\" xlink:show=\"new\" xlink:title=\"psysml:da794142-8c7c-4611-9580-abeb242da5ef\" xlink:type=\"simple\"><polygon fill=\"#FFFFFF\" filter=\"url(#fwhipltwsfidf)\" points=\"318,344,408,344,415,366.2969,422,366.2969,422,396.5938,318,396.5938,318,344\" style=\"stroke: #000000; stroke-width: 1.5;\"/><line style=\"stroke: #000000; stroke-width: 1.5;\" x1=\"318\" x2=\"415\" y1=\"366.2969\" y2=\"366.2969\"/><text fill=\"#000000\" font-family=\"sans-serif\" font-size=\"14\" font-weight=\"bold\" lengthAdjust=\"spacingAndGlyphs\" textLength=\"84\" x=\"322\" y=\"358.9951\">Data Layer</text></a><!--MD5=[af87c684e3b0d8be13c1a698a818ef1e]\n",
       "link E3 to E4--><a href=\"psysml:f56c438f-52f0-4453-9ce2-0999d9bfb233\" target=\"_top\" title=\"psysml:f56c438f-52f0-4453-9ce2-0999d9bfb233\" xlink:actuate=\"onRequest\" xlink:href=\"psysml:f56c438f-52f0-4453-9ce2-0999d9bfb233\" xlink:show=\"new\" xlink:title=\"psysml:f56c438f-52f0-4453-9ce2-0999d9bfb233\" xlink:type=\"simple\"><path d=\"M370,137.1 C370,156.8 370,184.22 370,205.73 \" fill=\"none\" id=\"E3-&gt;E4\" style=\"stroke: #A80036; stroke-width: 1.0; stroke-dasharray: 7.0,7.0;\"/><polygon fill=\"#A80036\" points=\"370,213.95,373,205.95,367,205.95,370,213.95\" style=\"stroke: #A80036; stroke-width: 1.0;\"/><text fill=\"#000000\" font-family=\"sans-serif\" font-size=\"13\" lengthAdjust=\"spacingAndGlyphs\" textLength=\"64\" x=\"371\" y=\"180.0669\">«depend»</text></a><!--MD5=[1b7591eae5389033d8d09a9d6721a717]\n",
       "link E4 to E5--><a href=\"psysml:149727ef-4884-4150-ac87-83ab56bc940c\" target=\"_top\" title=\"psysml:149727ef-4884-4150-ac87-83ab56bc940c\" xlink:actuate=\"onRequest\" xlink:href=\"psysml:149727ef-4884-4150-ac87-83ab56bc940c\" xlink:show=\"new\" xlink:title=\"psysml:149727ef-4884-4150-ac87-83ab56bc940c\" xlink:type=\"simple\"><path d=\"M370,267.1 C370,286.8 370,314.22 370,335.73 \" fill=\"none\" id=\"E4-&gt;E5\" style=\"stroke: #A80036; stroke-width: 1.0; stroke-dasharray: 7.0,7.0;\"/><polygon fill=\"#A80036\" points=\"370,343.95,373,335.95,367,335.95,370,343.95\" style=\"stroke: #A80036; stroke-width: 1.0;\"/><text fill=\"#000000\" font-family=\"sans-serif\" font-size=\"13\" lengthAdjust=\"spacingAndGlyphs\" textLength=\"64\" x=\"371\" y=\"310.0669\">«depend»</text></a><!--MD5=[c5e8897d989ce984f93528998a7150fe]\n",
       "link E8 to E6--><a href=\"psysml:6d264d90-cc53-4d32-95c3-fe1ad979e012\" target=\"_top\" title=\"psysml:6d264d90-cc53-4d32-95c3-fe1ad979e012\" xlink:actuate=\"onRequest\" xlink:href=\"psysml:6d264d90-cc53-4d32-95c3-fe1ad979e012\" xlink:show=\"new\" xlink:title=\"psysml:6d264d90-cc53-4d32-95c3-fe1ad979e012\" xlink:type=\"simple\"><path d=\"M106.44,133.76 C97.3,143.01 88.09,154.51 83,167 C77.6,180.23 76.4,195.98 76.73,209.41 \" fill=\"none\" id=\"E8-&gt;E6\" style=\"stroke: #A80036; stroke-width: 1.0; stroke-dasharray: 7.0,7.0;\"/><polygon fill=\"#A80036\" points=\"77.12,217.43,79.7306,209.2946,73.7375,209.584,77.12,217.43\" style=\"stroke: #A80036; stroke-width: 1.0;\"/><text fill=\"#000000\" font-family=\"sans-serif\" font-size=\"13\" lengthAdjust=\"spacingAndGlyphs\" textLength=\"64\" x=\"84\" y=\"180.0669\">«depend»</text></a><!--MD5=[bfa3c8b0d15052fdf50ae9310b491027]\n",
       "link E8 to E7--><a href=\"psysml:6d264d90-cc53-4d32-95c3-fe1ad979e012\" target=\"_top\" title=\"psysml:6d264d90-cc53-4d32-95c3-fe1ad979e012\" xlink:actuate=\"onRequest\" xlink:href=\"psysml:6d264d90-cc53-4d32-95c3-fe1ad979e012\" xlink:show=\"new\" xlink:title=\"psysml:6d264d90-cc53-4d32-95c3-fe1ad979e012\" xlink:type=\"simple\"><path d=\"M146.58,133.5 C159.69,154.75 179.63,187.05 194.05,210.41 \" fill=\"none\" id=\"E8-&gt;E7\" style=\"stroke: #A80036; stroke-width: 1.0; stroke-dasharray: 7.0,7.0;\"/><polygon fill=\"#A80036\" points=\"198.33,217.35,196.6785,208.9671,191.5737,212.1201,198.33,217.35\" style=\"stroke: #A80036; stroke-width: 1.0;\"/><text fill=\"#000000\" font-family=\"sans-serif\" font-size=\"13\" lengthAdjust=\"spacingAndGlyphs\" textLength=\"64\" x=\"178\" y=\"180.0669\">«depend»</text></a><!--MD5=[d3230af7c699c7ec66201ccd53f43c55]\n",
       "@startuml\r\n",
       " \r\n",
       "package \"DependencyTest\" as E1  [[psysml:d56232e2-0bee-4a1a-bb9b-8eb4f38b0dfa ]]  {\r\n",
       "package \"System\" as E2  [[psysml:50d5e3ed-2307-46ca-b041-8429ee229b8d ]]  {\r\n",
       "package \"Application Layer\" as E3  [[psysml:bf62b3a1-f030-4eff-b8ce-ffbdff107a6f ]]  {\r\n",
       "}\r\n",
       "package \"Service Layer\" as E4  [[psysml:471b2f11-dcf9-418e-881d-688bae838b3f ]]  {\r\n",
       "}\r\n",
       "package \"Data Layer\" as E5  [[psysml:da794142-8c7c-4611-9580-abeb242da5ef ]]  {\r\n",
       "}\r\n",
       "}\r\n",
       "comp usage \"x\" as E6  <<(U,orange)attribute>> [[psysml:ee6e66ae-6a4f-4999-8c9e-f85171cea95e ]] {\r\n",
       "}\r\n",
       "comp usage \"y\" as E7  <<(U,orange)attribute>> [[psysml:da3973fb-164e-4f16-bb62-2f8eaef60bc8 ]] {\r\n",
       "}\r\n",
       "comp usage \"z\" as E8  <<(U,orange)attribute>> [[psysml:8698e020-730f-4ac9-88e5-943d82c20ca0 ]] {\r\n",
       "}\r\n",
       "E3 ..>> E4 [[psysml:f56c438f-52f0-4453-9ce2-0999d9bfb233 ]] : <<depend>>\r\n",
       "E4 ..>> E5 [[psysml:149727ef-4884-4150-ac87-83ab56bc940c ]] : <<depend>>\r\n",
       "E8 ..>> E6 [[psysml:6d264d90-cc53-4d32-95c3-fe1ad979e012 ]] : <<depend>>\r\n",
       "E8 ..>> E7 [[psysml:6d264d90-cc53-4d32-95c3-fe1ad979e012 ]] : <<depend>>\r\n",
       "}\r\n",
       "@enduml\r\n",
       "\n",
       "PlantUML version 1.2020.13(Sat Jun 13 12:26:38 UTC 2020)\n",
       "(EPL source distribution)\n",
       "Java Runtime: OpenJDK Runtime Environment\n",
       "JVM: OpenJDK 64-Bit Server VM\n",
       "Default Encoding: UTF-8\n",
       "Language: en\n",
       "Country: null\n",
       "--></g></svg>"
      ]
     },
     "execution_count": 35,
     "metadata": {},
     "output_type": "execute_result"
    }
   ],
   "source": [
    "%viz --style=\"PLANTUML\" --view=\"Sequence\" \"DependencyTest\""
   ]
  },
  {
   "cell_type": "code",
   "execution_count": 36,
   "id": "0993030f",
   "metadata": {
    "execution": {
     "iopub.execute_input": "2021-04-20T07:32:19.741780Z",
     "iopub.status.busy": "2021-04-20T07:32:19.741227Z",
     "iopub.status.idle": "2021-04-20T07:32:19.784984Z",
     "shell.execute_reply": "2021-04-20T07:32:19.781870Z"
    }
   },
   "outputs": [
    {
     "data": {
      "image/svg+xml": [
       "<?xml version=\"1.0\" encoding=\"UTF-8\" standalone=\"no\"?><svg xmlns=\"http://www.w3.org/2000/svg\" xmlns:xlink=\"http://www.w3.org/1999/xlink\" contentScriptType=\"application/ecmascript\" contentStyleType=\"text/css\" height=\"449px\" preserveAspectRatio=\"none\" style=\"width:510px;height:449px;\" version=\"1.1\" viewBox=\"0 0 510 449\" width=\"510px\" zoomAndPan=\"magnify\"><defs><filter height=\"300%\" id=\"fwhipltwsfidf\" width=\"300%\" x=\"-1\" y=\"-1\"><feGaussianBlur result=\"blurOut\" stdDeviation=\"2.0\"/><feColorMatrix in=\"blurOut\" result=\"blurOut2\" type=\"matrix\" values=\"0 0 0 0 0 0 0 0 0 0 0 0 0 0 0 0 0 0 .4 0\"/><feOffset dx=\"4.0\" dy=\"4.0\" in=\"blurOut2\" result=\"blurOut3\"/><feBlend in=\"SourceGraphic\" in2=\"blurOut3\" mode=\"normal\"/></filter></defs><g><!--MD5=[fbc87193dbaf4d95561dea2c320d4a47]\n",
       "cluster E1--><a href=\"psysml:d56232e2-0bee-4a1a-bb9b-8eb4f38b0dfa\" target=\"_top\" title=\"psysml:d56232e2-0bee-4a1a-bb9b-8eb4f38b0dfa\" xlink:actuate=\"onRequest\" xlink:href=\"psysml:d56232e2-0bee-4a1a-bb9b-8eb4f38b0dfa\" xlink:show=\"new\" xlink:title=\"psysml:d56232e2-0bee-4a1a-bb9b-8eb4f38b0dfa\" xlink:type=\"simple\"><polygon fill=\"#FFFFFF\" filter=\"url(#fwhipltwsfidf)\" points=\"16,6,156,6,163,28.2969,488,28.2969,488,437,16,437,16,6\" style=\"stroke: #000000; stroke-width: 1.5;\"/><line style=\"stroke: #000000; stroke-width: 1.5;\" x1=\"16\" x2=\"163\" y1=\"28.2969\" y2=\"28.2969\"/><text fill=\"#000000\" font-family=\"sans-serif\" font-size=\"14\" font-weight=\"bold\" lengthAdjust=\"spacingAndGlyphs\" textLength=\"134\" x=\"20\" y=\"20.9951\">DependencyTest</text></a><!--MD5=[e4f7fae6ed58524ba242bb0b0d3be6b7]\n",
       "cluster E2--><a href=\"psysml:50d5e3ed-2307-46ca-b041-8429ee229b8d\" target=\"_top\" title=\"psysml:50d5e3ed-2307-46ca-b041-8429ee229b8d\" xlink:actuate=\"onRequest\" xlink:href=\"psysml:50d5e3ed-2307-46ca-b041-8429ee229b8d\" xlink:show=\"new\" xlink:title=\"psysml:50d5e3ed-2307-46ca-b041-8429ee229b8d\" xlink:type=\"simple\"><polygon fill=\"#FFFFFF\" filter=\"url(#fwhipltwsfidf)\" points=\"276,49,340,49,347,71.2969,464,71.2969,464,413,276,413,276,49\" style=\"stroke: #000000; stroke-width: 1.5;\"/><line style=\"stroke: #000000; stroke-width: 1.5;\" x1=\"276\" x2=\"347\" y1=\"71.2969\" y2=\"71.2969\"/><text fill=\"#000000\" font-family=\"sans-serif\" font-size=\"14\" font-weight=\"bold\" lengthAdjust=\"spacingAndGlyphs\" textLength=\"58\" x=\"280\" y=\"63.9951\">System</text></a><!--MD5=[60a26617385b1d2d0262a64233df1f8d]\n",
       "class E6--><a href=\"psysml:ee6e66ae-6a4f-4999-8c9e-f85171cea95e\" target=\"_top\" title=\"psysml:ee6e66ae-6a4f-4999-8c9e-f85171cea95e\" xlink:actuate=\"onRequest\" xlink:href=\"psysml:ee6e66ae-6a4f-4999-8c9e-f85171cea95e\" xlink:show=\"new\" xlink:title=\"psysml:ee6e66ae-6a4f-4999-8c9e-f85171cea95e\" xlink:type=\"simple\"><rect fill=\"#FEFECE\" filter=\"url(#fwhipltwsfidf)\" height=\"45.9375\" id=\"E6\" rx=\"10\" ry=\"10\" style=\"stroke: #A80036; stroke-width: 1.5;\" width=\"97\" x=\"31.5\" y=\"217.5\"/><ellipse cx=\"46.5\" cy=\"236.4688\" fill=\"#FFA500\" rx=\"11\" ry=\"11\" style=\"stroke: #A80036; stroke-width: 1.0;\"/><path d=\"M42.375,238.3906 L42.375,230.5781 L44.8281,230.5781 L44.8281,239.0156 Q44.8281,239.9375 45.2969,240.4688 Q45.7813,241 46.6094,241 Q47.4531,241 47.9219,240.4688 Q48.3906,239.9375 48.3906,239.0156 L48.3906,230.5781 L50.8438,230.5781 L50.8438,238.3906 Q50.8438,240.9219 49.8438,242.0625 Q48.8438,243.2031 46.6094,243.2031 Q44.3906,243.2031 43.375,242.0625 Q42.375,240.9219 42.375,238.3906 Z \"/><text fill=\"#000000\" font-family=\"sans-serif\" font-size=\"12\" font-style=\"italic\" lengthAdjust=\"spacingAndGlyphs\" textLength=\"69\" x=\"58.5\" y=\"233.6387\">«attribute»</text><text fill=\"#000000\" font-family=\"sans-serif\" font-size=\"12\" lengthAdjust=\"spacingAndGlyphs\" textLength=\"6\" x=\"90\" y=\"247.6074\">x</text><line style=\"stroke: #A80036; stroke-width: 1.5;\" x1=\"32.5\" x2=\"127.5\" y1=\"255.4375\" y2=\"255.4375\"/></a><!--MD5=[2156ba9850f5573cc1fc38a6a4b2f02b]\n",
       "class E7--><a href=\"psysml:da3973fb-164e-4f16-bb62-2f8eaef60bc8\" target=\"_top\" title=\"psysml:da3973fb-164e-4f16-bb62-2f8eaef60bc8\" xlink:actuate=\"onRequest\" xlink:href=\"psysml:da3973fb-164e-4f16-bb62-2f8eaef60bc8\" xlink:show=\"new\" xlink:title=\"psysml:da3973fb-164e-4f16-bb62-2f8eaef60bc8\" xlink:type=\"simple\"><rect fill=\"#FEFECE\" filter=\"url(#fwhipltwsfidf)\" height=\"45.9375\" id=\"E7\" rx=\"10\" ry=\"10\" style=\"stroke: #A80036; stroke-width: 1.5;\" width=\"97\" x=\"163.5\" y=\"217.5\"/><ellipse cx=\"178.5\" cy=\"236.4688\" fill=\"#FFA500\" rx=\"11\" ry=\"11\" style=\"stroke: #A80036; stroke-width: 1.0;\"/><path d=\"M174.375,238.3906 L174.375,230.5781 L176.8281,230.5781 L176.8281,239.0156 Q176.8281,239.9375 177.2969,240.4688 Q177.7813,241 178.6094,241 Q179.4531,241 179.9219,240.4688 Q180.3906,239.9375 180.3906,239.0156 L180.3906,230.5781 L182.8438,230.5781 L182.8438,238.3906 Q182.8438,240.9219 181.8438,242.0625 Q180.8438,243.2031 178.6094,243.2031 Q176.3906,243.2031 175.375,242.0625 Q174.375,240.9219 174.375,238.3906 Z \"/><text fill=\"#000000\" font-family=\"sans-serif\" font-size=\"12\" font-style=\"italic\" lengthAdjust=\"spacingAndGlyphs\" textLength=\"69\" x=\"190.5\" y=\"233.6387\">«attribute»</text><text fill=\"#000000\" font-family=\"sans-serif\" font-size=\"12\" lengthAdjust=\"spacingAndGlyphs\" textLength=\"6\" x=\"222\" y=\"247.6074\">y</text><line style=\"stroke: #A80036; stroke-width: 1.5;\" x1=\"164.5\" x2=\"259.5\" y1=\"255.4375\" y2=\"255.4375\"/></a><!--MD5=[b9389687b975829384b498ac4b7476b2]\n",
       "class E8--><a href=\"psysml:8698e020-730f-4ac9-88e5-943d82c20ca0\" target=\"_top\" title=\"psysml:8698e020-730f-4ac9-88e5-943d82c20ca0\" xlink:actuate=\"onRequest\" xlink:href=\"psysml:8698e020-730f-4ac9-88e5-943d82c20ca0\" xlink:show=\"new\" xlink:title=\"psysml:8698e020-730f-4ac9-88e5-943d82c20ca0\" xlink:type=\"simple\"><rect fill=\"#FEFECE\" filter=\"url(#fwhipltwsfidf)\" height=\"45.9375\" id=\"E8\" rx=\"10\" ry=\"10\" style=\"stroke: #A80036; stroke-width: 1.5;\" width=\"97\" x=\"84.5\" y=\"87.5\"/><ellipse cx=\"99.5\" cy=\"106.4688\" fill=\"#FFA500\" rx=\"11\" ry=\"11\" style=\"stroke: #A80036; stroke-width: 1.0;\"/><path d=\"M95.375,108.3906 L95.375,100.5781 L97.8281,100.5781 L97.8281,109.0156 Q97.8281,109.9375 98.2969,110.4688 Q98.7813,111 99.6094,111 Q100.4531,111 100.9219,110.4688 Q101.3906,109.9375 101.3906,109.0156 L101.3906,100.5781 L103.8438,100.5781 L103.8438,108.3906 Q103.8438,110.9219 102.8438,112.0625 Q101.8438,113.2031 99.6094,113.2031 Q97.3906,113.2031 96.375,112.0625 Q95.375,110.9219 95.375,108.3906 Z \"/><text fill=\"#000000\" font-family=\"sans-serif\" font-size=\"12\" font-style=\"italic\" lengthAdjust=\"spacingAndGlyphs\" textLength=\"69\" x=\"111.5\" y=\"103.6387\">«attribute»</text><text fill=\"#000000\" font-family=\"sans-serif\" font-size=\"12\" lengthAdjust=\"spacingAndGlyphs\" textLength=\"5\" x=\"143.5\" y=\"117.6074\">z</text><line style=\"stroke: #A80036; stroke-width: 1.5;\" x1=\"85.5\" x2=\"180.5\" y1=\"125.4375\" y2=\"125.4375\"/></a><a href=\"psysml:bf62b3a1-f030-4eff-b8ce-ffbdff107a6f\" target=\"_top\" title=\"psysml:bf62b3a1-f030-4eff-b8ce-ffbdff107a6f\" xlink:actuate=\"onRequest\" xlink:href=\"psysml:bf62b3a1-f030-4eff-b8ce-ffbdff107a6f\" xlink:show=\"new\" xlink:title=\"psysml:bf62b3a1-f030-4eff-b8ce-ffbdff107a6f\" xlink:type=\"simple\"><polygon fill=\"#FFFFFF\" filter=\"url(#fwhipltwsfidf)\" points=\"292,84,434,84,441,106.2969,448,106.2969,448,136.5938,292,136.5938,292,84\" style=\"stroke: #000000; stroke-width: 1.5;\"/><line style=\"stroke: #000000; stroke-width: 1.5;\" x1=\"292\" x2=\"441\" y1=\"106.2969\" y2=\"106.2969\"/><text fill=\"#000000\" font-family=\"sans-serif\" font-size=\"14\" font-weight=\"bold\" lengthAdjust=\"spacingAndGlyphs\" textLength=\"136\" x=\"296\" y=\"98.9951\">Application Layer</text></a><a href=\"psysml:471b2f11-dcf9-418e-881d-688bae838b3f\" target=\"_top\" title=\"psysml:471b2f11-dcf9-418e-881d-688bae838b3f\" xlink:actuate=\"onRequest\" xlink:href=\"psysml:471b2f11-dcf9-418e-881d-688bae838b3f\" xlink:show=\"new\" xlink:title=\"psysml:471b2f11-dcf9-418e-881d-688bae838b3f\" xlink:type=\"simple\"><polygon fill=\"#FFFFFF\" filter=\"url(#fwhipltwsfidf)\" points=\"306,214,420,214,427,236.2969,434,236.2969,434,266.5938,306,266.5938,306,214\" style=\"stroke: #000000; stroke-width: 1.5;\"/><line style=\"stroke: #000000; stroke-width: 1.5;\" x1=\"306\" x2=\"427\" y1=\"236.2969\" y2=\"236.2969\"/><text fill=\"#000000\" font-family=\"sans-serif\" font-size=\"14\" font-weight=\"bold\" lengthAdjust=\"spacingAndGlyphs\" textLength=\"108\" x=\"310\" y=\"228.9951\">Service Layer</text></a><a href=\"psysml:da794142-8c7c-4611-9580-abeb242da5ef\" target=\"_top\" title=\"psysml:da794142-8c7c-4611-9580-abeb242da5ef\" xlink:actuate=\"onRequest\" xlink:href=\"psysml:da794142-8c7c-4611-9580-abeb242da5ef\" xlink:show=\"new\" xlink:title=\"psysml:da794142-8c7c-4611-9580-abeb242da5ef\" xlink:type=\"simple\"><polygon fill=\"#FFFFFF\" filter=\"url(#fwhipltwsfidf)\" points=\"318,344,408,344,415,366.2969,422,366.2969,422,396.5938,318,396.5938,318,344\" style=\"stroke: #000000; stroke-width: 1.5;\"/><line style=\"stroke: #000000; stroke-width: 1.5;\" x1=\"318\" x2=\"415\" y1=\"366.2969\" y2=\"366.2969\"/><text fill=\"#000000\" font-family=\"sans-serif\" font-size=\"14\" font-weight=\"bold\" lengthAdjust=\"spacingAndGlyphs\" textLength=\"84\" x=\"322\" y=\"358.9951\">Data Layer</text></a><!--MD5=[af87c684e3b0d8be13c1a698a818ef1e]\n",
       "link E3 to E4--><a href=\"psysml:f56c438f-52f0-4453-9ce2-0999d9bfb233\" target=\"_top\" title=\"psysml:f56c438f-52f0-4453-9ce2-0999d9bfb233\" xlink:actuate=\"onRequest\" xlink:href=\"psysml:f56c438f-52f0-4453-9ce2-0999d9bfb233\" xlink:show=\"new\" xlink:title=\"psysml:f56c438f-52f0-4453-9ce2-0999d9bfb233\" xlink:type=\"simple\"><path d=\"M370,137.1 C370,156.8 370,184.22 370,205.73 \" fill=\"none\" id=\"E3-&gt;E4\" style=\"stroke: #A80036; stroke-width: 1.0; stroke-dasharray: 7.0,7.0;\"/><polygon fill=\"#A80036\" points=\"370,213.95,373,205.95,367,205.95,370,213.95\" style=\"stroke: #A80036; stroke-width: 1.0;\"/><text fill=\"#000000\" font-family=\"sans-serif\" font-size=\"13\" lengthAdjust=\"spacingAndGlyphs\" textLength=\"64\" x=\"371\" y=\"180.0669\">«depend»</text></a><!--MD5=[1b7591eae5389033d8d09a9d6721a717]\n",
       "link E4 to E5--><a href=\"psysml:149727ef-4884-4150-ac87-83ab56bc940c\" target=\"_top\" title=\"psysml:149727ef-4884-4150-ac87-83ab56bc940c\" xlink:actuate=\"onRequest\" xlink:href=\"psysml:149727ef-4884-4150-ac87-83ab56bc940c\" xlink:show=\"new\" xlink:title=\"psysml:149727ef-4884-4150-ac87-83ab56bc940c\" xlink:type=\"simple\"><path d=\"M370,267.1 C370,286.8 370,314.22 370,335.73 \" fill=\"none\" id=\"E4-&gt;E5\" style=\"stroke: #A80036; stroke-width: 1.0; stroke-dasharray: 7.0,7.0;\"/><polygon fill=\"#A80036\" points=\"370,343.95,373,335.95,367,335.95,370,343.95\" style=\"stroke: #A80036; stroke-width: 1.0;\"/><text fill=\"#000000\" font-family=\"sans-serif\" font-size=\"13\" lengthAdjust=\"spacingAndGlyphs\" textLength=\"64\" x=\"371\" y=\"310.0669\">«depend»</text></a><!--MD5=[c5e8897d989ce984f93528998a7150fe]\n",
       "link E8 to E6--><a href=\"psysml:6d264d90-cc53-4d32-95c3-fe1ad979e012\" target=\"_top\" title=\"psysml:6d264d90-cc53-4d32-95c3-fe1ad979e012\" xlink:actuate=\"onRequest\" xlink:href=\"psysml:6d264d90-cc53-4d32-95c3-fe1ad979e012\" xlink:show=\"new\" xlink:title=\"psysml:6d264d90-cc53-4d32-95c3-fe1ad979e012\" xlink:type=\"simple\"><path d=\"M106.44,133.76 C97.3,143.01 88.09,154.51 83,167 C77.6,180.23 76.4,195.98 76.73,209.41 \" fill=\"none\" id=\"E8-&gt;E6\" style=\"stroke: #A80036; stroke-width: 1.0; stroke-dasharray: 7.0,7.0;\"/><polygon fill=\"#A80036\" points=\"77.12,217.43,79.7306,209.2946,73.7375,209.584,77.12,217.43\" style=\"stroke: #A80036; stroke-width: 1.0;\"/><text fill=\"#000000\" font-family=\"sans-serif\" font-size=\"13\" lengthAdjust=\"spacingAndGlyphs\" textLength=\"64\" x=\"84\" y=\"180.0669\">«depend»</text></a><!--MD5=[bfa3c8b0d15052fdf50ae9310b491027]\n",
       "link E8 to E7--><a href=\"psysml:6d264d90-cc53-4d32-95c3-fe1ad979e012\" target=\"_top\" title=\"psysml:6d264d90-cc53-4d32-95c3-fe1ad979e012\" xlink:actuate=\"onRequest\" xlink:href=\"psysml:6d264d90-cc53-4d32-95c3-fe1ad979e012\" xlink:show=\"new\" xlink:title=\"psysml:6d264d90-cc53-4d32-95c3-fe1ad979e012\" xlink:type=\"simple\"><path d=\"M146.58,133.5 C159.69,154.75 179.63,187.05 194.05,210.41 \" fill=\"none\" id=\"E8-&gt;E7\" style=\"stroke: #A80036; stroke-width: 1.0; stroke-dasharray: 7.0,7.0;\"/><polygon fill=\"#A80036\" points=\"198.33,217.35,196.6785,208.9671,191.5737,212.1201,198.33,217.35\" style=\"stroke: #A80036; stroke-width: 1.0;\"/><text fill=\"#000000\" font-family=\"sans-serif\" font-size=\"13\" lengthAdjust=\"spacingAndGlyphs\" textLength=\"64\" x=\"178\" y=\"180.0669\">«depend»</text></a><!--MD5=[d3230af7c699c7ec66201ccd53f43c55]\n",
       "@startuml\r\n",
       " \r\n",
       "package \"DependencyTest\" as E1  [[psysml:d56232e2-0bee-4a1a-bb9b-8eb4f38b0dfa ]]  {\r\n",
       "package \"System\" as E2  [[psysml:50d5e3ed-2307-46ca-b041-8429ee229b8d ]]  {\r\n",
       "package \"Application Layer\" as E3  [[psysml:bf62b3a1-f030-4eff-b8ce-ffbdff107a6f ]]  {\r\n",
       "}\r\n",
       "package \"Service Layer\" as E4  [[psysml:471b2f11-dcf9-418e-881d-688bae838b3f ]]  {\r\n",
       "}\r\n",
       "package \"Data Layer\" as E5  [[psysml:da794142-8c7c-4611-9580-abeb242da5ef ]]  {\r\n",
       "}\r\n",
       "}\r\n",
       "comp usage \"x\" as E6  <<(U,orange)attribute>> [[psysml:ee6e66ae-6a4f-4999-8c9e-f85171cea95e ]] {\r\n",
       "}\r\n",
       "comp usage \"y\" as E7  <<(U,orange)attribute>> [[psysml:da3973fb-164e-4f16-bb62-2f8eaef60bc8 ]] {\r\n",
       "}\r\n",
       "comp usage \"z\" as E8  <<(U,orange)attribute>> [[psysml:8698e020-730f-4ac9-88e5-943d82c20ca0 ]] {\r\n",
       "}\r\n",
       "E3 ..>> E4 [[psysml:f56c438f-52f0-4453-9ce2-0999d9bfb233 ]] : <<depend>>\r\n",
       "E4 ..>> E5 [[psysml:149727ef-4884-4150-ac87-83ab56bc940c ]] : <<depend>>\r\n",
       "E8 ..>> E6 [[psysml:6d264d90-cc53-4d32-95c3-fe1ad979e012 ]] : <<depend>>\r\n",
       "E8 ..>> E7 [[psysml:6d264d90-cc53-4d32-95c3-fe1ad979e012 ]] : <<depend>>\r\n",
       "}\r\n",
       "@enduml\r\n",
       "\n",
       "PlantUML version 1.2020.13(Sat Jun 13 12:26:38 UTC 2020)\n",
       "(EPL source distribution)\n",
       "Java Runtime: OpenJDK Runtime Environment\n",
       "JVM: OpenJDK 64-Bit Server VM\n",
       "Default Encoding: UTF-8\n",
       "Language: en\n",
       "Country: null\n",
       "--></g></svg>"
      ]
     },
     "execution_count": 36,
     "metadata": {},
     "output_type": "execute_result"
    }
   ],
   "source": [
    "%viz --style=\"PLANTUML\" --view=\"MIXED\" \"DependencyTest\""
   ]
  },
  {
   "cell_type": "code",
   "execution_count": 37,
   "id": "3edab4f7",
   "metadata": {
    "execution": {
     "iopub.execute_input": "2021-04-20T07:32:19.835119Z",
     "iopub.status.busy": "2021-04-20T07:32:19.834402Z",
     "iopub.status.idle": "2021-04-20T07:32:19.873610Z",
     "shell.execute_reply": "2021-04-20T07:32:19.872266Z"
    }
   },
   "outputs": [
    {
     "data": {
      "image/svg+xml": [
       "<?xml version=\"1.0\" encoding=\"UTF-8\" standalone=\"no\"?><svg xmlns=\"http://www.w3.org/2000/svg\" xmlns:xlink=\"http://www.w3.org/1999/xlink\" contentScriptType=\"application/ecmascript\" contentStyleType=\"text/css\" height=\"449px\" preserveAspectRatio=\"none\" style=\"width:489px;height:449px;\" version=\"1.1\" viewBox=\"0 0 489 449\" width=\"489px\" zoomAndPan=\"magnify\"><defs/><g><!--MD5=[fbc87193dbaf4d95561dea2c320d4a47]\n",
       "cluster E1--><a href=\"psysml:d56232e2-0bee-4a1a-bb9b-8eb4f38b0dfa\" target=\"_top\" title=\"psysml:d56232e2-0bee-4a1a-bb9b-8eb4f38b0dfa\" xlink:actuate=\"onRequest\" xlink:href=\"psysml:d56232e2-0bee-4a1a-bb9b-8eb4f38b0dfa\" xlink:show=\"new\" xlink:title=\"psysml:d56232e2-0bee-4a1a-bb9b-8eb4f38b0dfa\" xlink:type=\"simple\"><polygon fill=\"#FFFFFF\" points=\"16,6,156,6,163,28.2969,467,28.2969,467,437,16,437,16,6\" style=\"stroke: #000000; stroke-width: 1.5;\"/><line style=\"stroke: #000000; stroke-width: 1.5;\" x1=\"16\" x2=\"163\" y1=\"28.2969\" y2=\"28.2969\"/><text fill=\"#000000\" font-family=\"sans-serif\" font-size=\"14\" font-weight=\"bold\" lengthAdjust=\"spacingAndGlyphs\" textLength=\"134\" x=\"20\" y=\"20.9951\">DependencyTest</text></a><!--MD5=[e4f7fae6ed58524ba242bb0b0d3be6b7]\n",
       "cluster E2--><a href=\"psysml:50d5e3ed-2307-46ca-b041-8429ee229b8d\" target=\"_top\" title=\"psysml:50d5e3ed-2307-46ca-b041-8429ee229b8d\" xlink:actuate=\"onRequest\" xlink:href=\"psysml:50d5e3ed-2307-46ca-b041-8429ee229b8d\" xlink:show=\"new\" xlink:title=\"psysml:50d5e3ed-2307-46ca-b041-8429ee229b8d\" xlink:type=\"simple\"><polygon fill=\"#FFFFFF\" points=\"255,49,319,49,326,71.2969,443,71.2969,443,413,255,413,255,49\" style=\"stroke: #000000; stroke-width: 1.5;\"/><line style=\"stroke: #000000; stroke-width: 1.5;\" x1=\"255\" x2=\"326\" y1=\"71.2969\" y2=\"71.2969\"/><text fill=\"#000000\" font-family=\"sans-serif\" font-size=\"14\" font-weight=\"bold\" lengthAdjust=\"spacingAndGlyphs\" textLength=\"58\" x=\"259\" y=\"63.9951\">System</text></a><!--MD5=[60a26617385b1d2d0262a64233df1f8d]\n",
       "class E6--><a href=\"psysml:ee6e66ae-6a4f-4999-8c9e-f85171cea95e\" target=\"_top\" title=\"psysml:ee6e66ae-6a4f-4999-8c9e-f85171cea95e\" xlink:actuate=\"onRequest\" xlink:href=\"psysml:ee6e66ae-6a4f-4999-8c9e-f85171cea95e\" xlink:show=\"new\" xlink:title=\"psysml:ee6e66ae-6a4f-4999-8c9e-f85171cea95e\" xlink:type=\"simple\"><rect fill=\"#FFFFFF\" height=\"45.9375\" id=\"E6\" rx=\"10\" ry=\"10\" style=\"stroke: #383838; stroke-width: 1.5;\" width=\"71\" x=\"32.5\" y=\"217.5\"/><text fill=\"#000000\" font-family=\"sans-serif\" font-size=\"12\" font-style=\"italic\" lengthAdjust=\"spacingAndGlyphs\" textLength=\"69\" x=\"33.5\" y=\"233.6387\">«attribute»</text><text fill=\"#000000\" font-family=\"sans-serif\" font-size=\"12\" lengthAdjust=\"spacingAndGlyphs\" textLength=\"6\" x=\"65\" y=\"247.6074\">x</text><line style=\"stroke: #383838; stroke-width: 1.5;\" x1=\"33.5\" x2=\"102.5\" y1=\"255.4375\" y2=\"255.4375\"/></a><!--MD5=[2156ba9850f5573cc1fc38a6a4b2f02b]\n",
       "class E7--><a href=\"psysml:da3973fb-164e-4f16-bb62-2f8eaef60bc8\" target=\"_top\" title=\"psysml:da3973fb-164e-4f16-bb62-2f8eaef60bc8\" xlink:actuate=\"onRequest\" xlink:href=\"psysml:da3973fb-164e-4f16-bb62-2f8eaef60bc8\" xlink:show=\"new\" xlink:title=\"psysml:da3973fb-164e-4f16-bb62-2f8eaef60bc8\" xlink:type=\"simple\"><rect fill=\"#FFFFFF\" height=\"45.9375\" id=\"E7\" rx=\"10\" ry=\"10\" style=\"stroke: #383838; stroke-width: 1.5;\" width=\"71\" x=\"138.5\" y=\"217.5\"/><text fill=\"#000000\" font-family=\"sans-serif\" font-size=\"12\" font-style=\"italic\" lengthAdjust=\"spacingAndGlyphs\" textLength=\"69\" x=\"139.5\" y=\"233.6387\">«attribute»</text><text fill=\"#000000\" font-family=\"sans-serif\" font-size=\"12\" lengthAdjust=\"spacingAndGlyphs\" textLength=\"6\" x=\"171\" y=\"247.6074\">y</text><line style=\"stroke: #383838; stroke-width: 1.5;\" x1=\"139.5\" x2=\"208.5\" y1=\"255.4375\" y2=\"255.4375\"/></a><!--MD5=[b9389687b975829384b498ac4b7476b2]\n",
       "class E8--><a href=\"psysml:8698e020-730f-4ac9-88e5-943d82c20ca0\" target=\"_top\" title=\"psysml:8698e020-730f-4ac9-88e5-943d82c20ca0\" xlink:actuate=\"onRequest\" xlink:href=\"psysml:8698e020-730f-4ac9-88e5-943d82c20ca0\" xlink:show=\"new\" xlink:title=\"psysml:8698e020-730f-4ac9-88e5-943d82c20ca0\" xlink:type=\"simple\"><rect fill=\"#FFFFFF\" height=\"45.9375\" id=\"E8\" rx=\"10\" ry=\"10\" style=\"stroke: #383838; stroke-width: 1.5;\" width=\"71\" x=\"84.5\" y=\"87.5\"/><text fill=\"#000000\" font-family=\"sans-serif\" font-size=\"12\" font-style=\"italic\" lengthAdjust=\"spacingAndGlyphs\" textLength=\"69\" x=\"85.5\" y=\"103.6387\">«attribute»</text><text fill=\"#000000\" font-family=\"sans-serif\" font-size=\"12\" lengthAdjust=\"spacingAndGlyphs\" textLength=\"5\" x=\"117.5\" y=\"117.6074\">z</text><line style=\"stroke: #383838; stroke-width: 1.5;\" x1=\"85.5\" x2=\"154.5\" y1=\"125.4375\" y2=\"125.4375\"/></a><a href=\"psysml:bf62b3a1-f030-4eff-b8ce-ffbdff107a6f\" target=\"_top\" title=\"psysml:bf62b3a1-f030-4eff-b8ce-ffbdff107a6f\" xlink:actuate=\"onRequest\" xlink:href=\"psysml:bf62b3a1-f030-4eff-b8ce-ffbdff107a6f\" xlink:show=\"new\" xlink:title=\"psysml:bf62b3a1-f030-4eff-b8ce-ffbdff107a6f\" xlink:type=\"simple\"><polygon fill=\"#FFFFFF\" points=\"271,84,413,84,420,106.2969,427,106.2969,427,136.5938,271,136.5938,271,84\" style=\"stroke: #000000; stroke-width: 1.5;\"/><line style=\"stroke: #000000; stroke-width: 1.5;\" x1=\"271\" x2=\"420\" y1=\"106.2969\" y2=\"106.2969\"/><text fill=\"#000000\" font-family=\"sans-serif\" font-size=\"14\" font-weight=\"bold\" lengthAdjust=\"spacingAndGlyphs\" textLength=\"136\" x=\"275\" y=\"98.9951\">Application Layer</text></a><a href=\"psysml:471b2f11-dcf9-418e-881d-688bae838b3f\" target=\"_top\" title=\"psysml:471b2f11-dcf9-418e-881d-688bae838b3f\" xlink:actuate=\"onRequest\" xlink:href=\"psysml:471b2f11-dcf9-418e-881d-688bae838b3f\" xlink:show=\"new\" xlink:title=\"psysml:471b2f11-dcf9-418e-881d-688bae838b3f\" xlink:type=\"simple\"><polygon fill=\"#FFFFFF\" points=\"285,214,399,214,406,236.2969,413,236.2969,413,266.5938,285,266.5938,285,214\" style=\"stroke: #000000; stroke-width: 1.5;\"/><line style=\"stroke: #000000; stroke-width: 1.5;\" x1=\"285\" x2=\"406\" y1=\"236.2969\" y2=\"236.2969\"/><text fill=\"#000000\" font-family=\"sans-serif\" font-size=\"14\" font-weight=\"bold\" lengthAdjust=\"spacingAndGlyphs\" textLength=\"108\" x=\"289\" y=\"228.9951\">Service Layer</text></a><a href=\"psysml:da794142-8c7c-4611-9580-abeb242da5ef\" target=\"_top\" title=\"psysml:da794142-8c7c-4611-9580-abeb242da5ef\" xlink:actuate=\"onRequest\" xlink:href=\"psysml:da794142-8c7c-4611-9580-abeb242da5ef\" xlink:show=\"new\" xlink:title=\"psysml:da794142-8c7c-4611-9580-abeb242da5ef\" xlink:type=\"simple\"><polygon fill=\"#FFFFFF\" points=\"297,344,387,344,394,366.2969,401,366.2969,401,396.5938,297,396.5938,297,344\" style=\"stroke: #000000; stroke-width: 1.5;\"/><line style=\"stroke: #000000; stroke-width: 1.5;\" x1=\"297\" x2=\"394\" y1=\"366.2969\" y2=\"366.2969\"/><text fill=\"#000000\" font-family=\"sans-serif\" font-size=\"14\" font-weight=\"bold\" lengthAdjust=\"spacingAndGlyphs\" textLength=\"84\" x=\"301\" y=\"358.9951\">Data Layer</text></a><!--MD5=[af87c684e3b0d8be13c1a698a818ef1e]\n",
       "link E3 to E4--><a href=\"psysml:f56c438f-52f0-4453-9ce2-0999d9bfb233\" target=\"_top\" title=\"psysml:f56c438f-52f0-4453-9ce2-0999d9bfb233\" xlink:actuate=\"onRequest\" xlink:href=\"psysml:f56c438f-52f0-4453-9ce2-0999d9bfb233\" xlink:show=\"new\" xlink:title=\"psysml:f56c438f-52f0-4453-9ce2-0999d9bfb233\" xlink:type=\"simple\"><path d=\"M349,137.1 C349,156.8 349,184.22 349,205.73 \" fill=\"none\" id=\"E3-&gt;E4\" style=\"stroke: #383838; stroke-width: 1.0; stroke-dasharray: 7.0,7.0;\"/><polygon fill=\"#383838\" points=\"349,213.95,352,205.95,346,205.95,349,213.95\" style=\"stroke: #383838; stroke-width: 1.0;\"/><text fill=\"#000000\" font-family=\"sans-serif\" font-size=\"13\" lengthAdjust=\"spacingAndGlyphs\" textLength=\"64\" x=\"350\" y=\"180.0669\">«depend»</text></a><!--MD5=[1b7591eae5389033d8d09a9d6721a717]\n",
       "link E4 to E5--><a href=\"psysml:149727ef-4884-4150-ac87-83ab56bc940c\" target=\"_top\" title=\"psysml:149727ef-4884-4150-ac87-83ab56bc940c\" xlink:actuate=\"onRequest\" xlink:href=\"psysml:149727ef-4884-4150-ac87-83ab56bc940c\" xlink:show=\"new\" xlink:title=\"psysml:149727ef-4884-4150-ac87-83ab56bc940c\" xlink:type=\"simple\"><path d=\"M349,267.1 C349,286.8 349,314.22 349,335.73 \" fill=\"none\" id=\"E4-&gt;E5\" style=\"stroke: #383838; stroke-width: 1.0; stroke-dasharray: 7.0,7.0;\"/><polygon fill=\"#383838\" points=\"349,343.95,352,335.95,346,335.95,349,343.95\" style=\"stroke: #383838; stroke-width: 1.0;\"/><text fill=\"#000000\" font-family=\"sans-serif\" font-size=\"13\" lengthAdjust=\"spacingAndGlyphs\" textLength=\"64\" x=\"350\" y=\"310.0669\">«depend»</text></a><!--MD5=[c5e8897d989ce984f93528998a7150fe]\n",
       "link E8 to E6--><a href=\"psysml:6d264d90-cc53-4d32-95c3-fe1ad979e012\" target=\"_top\" title=\"psysml:6d264d90-cc53-4d32-95c3-fe1ad979e012\" xlink:actuate=\"onRequest\" xlink:href=\"psysml:6d264d90-cc53-4d32-95c3-fe1ad979e012\" xlink:show=\"new\" xlink:title=\"psysml:6d264d90-cc53-4d32-95c3-fe1ad979e012\" xlink:type=\"simple\"><path d=\"M89.42,133.6 C79.35,142.68 69.37,154.11 64,167 C58.5,180.2 58.66,195.94 60.54,209.38 \" fill=\"none\" id=\"E8-&gt;E6\" style=\"stroke: #383838; stroke-width: 1.0; stroke-dasharray: 7.0,7.0;\"/><polygon fill=\"#383838\" points=\"61.9,217.4,63.517,209.0104,57.6018,210.0159,61.9,217.4\" style=\"stroke: #383838; stroke-width: 1.0;\"/><text fill=\"#000000\" font-family=\"sans-serif\" font-size=\"13\" lengthAdjust=\"spacingAndGlyphs\" textLength=\"64\" x=\"65\" y=\"180.0669\">«depend»</text></a><!--MD5=[bfa3c8b0d15052fdf50ae9310b491027]\n",
       "link E8 to E7--><a href=\"psysml:6d264d90-cc53-4d32-95c3-fe1ad979e012\" target=\"_top\" title=\"psysml:6d264d90-cc53-4d32-95c3-fe1ad979e012\" xlink:actuate=\"onRequest\" xlink:href=\"psysml:6d264d90-cc53-4d32-95c3-fe1ad979e012\" xlink:show=\"new\" xlink:title=\"psysml:6d264d90-cc53-4d32-95c3-fe1ad979e012\" xlink:type=\"simple\"><path d=\"M129.28,133.5 C138.17,154.57 151.64,186.5 161.47,209.81 \" fill=\"none\" id=\"E8-&gt;E7\" style=\"stroke: #383838; stroke-width: 1.0; stroke-dasharray: 7.0,7.0;\"/><polygon fill=\"#383838\" points=\"164.66,217.35,164.3241,208.8126,158.7933,211.1385,164.66,217.35\" style=\"stroke: #383838; stroke-width: 1.0;\"/><text fill=\"#000000\" font-family=\"sans-serif\" font-size=\"13\" lengthAdjust=\"spacingAndGlyphs\" textLength=\"64\" x=\"151\" y=\"180.0669\">«depend»</text></a><!--MD5=[307df93f93ff8fef47f9d438365b9a44]\n",
       "@startuml\r\n",
       "skinparam monochrome true\r\n",
       "skinparam classbackgroundcolor white\r\n",
       "skinparam shadowing false\r\n",
       "skinparam wrapWidth 300\r\n",
       "hide circle\r\n",
       "\r\n",
       "package \"DependencyTest\" as E1  [[psysml:d56232e2-0bee-4a1a-bb9b-8eb4f38b0dfa ]]  {\r\n",
       "package \"System\" as E2  [[psysml:50d5e3ed-2307-46ca-b041-8429ee229b8d ]]  {\r\n",
       "package \"Application Layer\" as E3  [[psysml:bf62b3a1-f030-4eff-b8ce-ffbdff107a6f ]]  {\r\n",
       "}\r\n",
       "package \"Service Layer\" as E4  [[psysml:471b2f11-dcf9-418e-881d-688bae838b3f ]]  {\r\n",
       "}\r\n",
       "package \"Data Layer\" as E5  [[psysml:da794142-8c7c-4611-9580-abeb242da5ef ]]  {\r\n",
       "}\r\n",
       "}\r\n",
       "comp usage \"x\" as E6  <<(T,blue)attribute>> [[psysml:ee6e66ae-6a4f-4999-8c9e-f85171cea95e ]] {\r\n",
       "}\r\n",
       "comp usage \"y\" as E7  <<(T,blue)attribute>> [[psysml:da3973fb-164e-4f16-bb62-2f8eaef60bc8 ]] {\r\n",
       "}\r\n",
       "comp usage \"z\" as E8  <<(T,blue)attribute>> [[psysml:8698e020-730f-4ac9-88e5-943d82c20ca0 ]] {\r\n",
       "}\r\n",
       "E3 ..>> E4 [[psysml:f56c438f-52f0-4453-9ce2-0999d9bfb233 ]] : <<depend>>\r\n",
       "E4 ..>> E5 [[psysml:149727ef-4884-4150-ac87-83ab56bc940c ]] : <<depend>>\r\n",
       "E8 ..>> E6 [[psysml:6d264d90-cc53-4d32-95c3-fe1ad979e012 ]] : <<depend>>\r\n",
       "E8 ..>> E7 [[psysml:6d264d90-cc53-4d32-95c3-fe1ad979e012 ]] : <<depend>>\r\n",
       "}\r\n",
       "@enduml\r\n",
       "\n",
       "PlantUML version 1.2020.13(Sat Jun 13 12:26:38 UTC 2020)\n",
       "(EPL source distribution)\n",
       "Java Runtime: OpenJDK Runtime Environment\n",
       "JVM: OpenJDK 64-Bit Server VM\n",
       "Default Encoding: UTF-8\n",
       "Language: en\n",
       "Country: null\n",
       "--></g></svg>"
      ]
     },
     "execution_count": 37,
     "metadata": {},
     "output_type": "execute_result"
    }
   ],
   "source": [
    "%viz --style=\"DEFAULT\" --view=\"Default\" \"DependencyTest\""
   ]
  },
  {
   "cell_type": "code",
   "execution_count": 38,
   "id": "19f9f443",
   "metadata": {
    "execution": {
     "iopub.execute_input": "2021-04-20T07:32:19.924438Z",
     "iopub.status.busy": "2021-04-20T07:32:19.923884Z",
     "iopub.status.idle": "2021-04-20T07:32:19.957623Z",
     "shell.execute_reply": "2021-04-20T07:32:19.957324Z"
    }
   },
   "outputs": [
    {
     "data": {
      "image/svg+xml": [
       "<?xml version=\"1.0\" encoding=\"UTF-8\" standalone=\"no\"?><svg xmlns=\"http://www.w3.org/2000/svg\" xmlns:xlink=\"http://www.w3.org/1999/xlink\" contentScriptType=\"application/ecmascript\" contentStyleType=\"text/css\" height=\"449px\" preserveAspectRatio=\"none\" style=\"width:489px;height:449px;\" version=\"1.1\" viewBox=\"0 0 489 449\" width=\"489px\" zoomAndPan=\"magnify\"><defs/><g><!--MD5=[fbc87193dbaf4d95561dea2c320d4a47]\n",
       "cluster E1--><a href=\"psysml:d56232e2-0bee-4a1a-bb9b-8eb4f38b0dfa\" target=\"_top\" title=\"psysml:d56232e2-0bee-4a1a-bb9b-8eb4f38b0dfa\" xlink:actuate=\"onRequest\" xlink:href=\"psysml:d56232e2-0bee-4a1a-bb9b-8eb4f38b0dfa\" xlink:show=\"new\" xlink:title=\"psysml:d56232e2-0bee-4a1a-bb9b-8eb4f38b0dfa\" xlink:type=\"simple\"><polygon fill=\"#FFFFFF\" points=\"16,6,156,6,163,28.2969,467,28.2969,467,437,16,437,16,6\" style=\"stroke: #000000; stroke-width: 1.5;\"/><line style=\"stroke: #000000; stroke-width: 1.5;\" x1=\"16\" x2=\"163\" y1=\"28.2969\" y2=\"28.2969\"/><text fill=\"#000000\" font-family=\"sans-serif\" font-size=\"14\" font-weight=\"bold\" lengthAdjust=\"spacingAndGlyphs\" textLength=\"134\" x=\"20\" y=\"20.9951\">DependencyTest</text></a><!--MD5=[e4f7fae6ed58524ba242bb0b0d3be6b7]\n",
       "cluster E2--><a href=\"psysml:50d5e3ed-2307-46ca-b041-8429ee229b8d\" target=\"_top\" title=\"psysml:50d5e3ed-2307-46ca-b041-8429ee229b8d\" xlink:actuate=\"onRequest\" xlink:href=\"psysml:50d5e3ed-2307-46ca-b041-8429ee229b8d\" xlink:show=\"new\" xlink:title=\"psysml:50d5e3ed-2307-46ca-b041-8429ee229b8d\" xlink:type=\"simple\"><polygon fill=\"#FFFFFF\" points=\"255,49,319,49,326,71.2969,443,71.2969,443,413,255,413,255,49\" style=\"stroke: #000000; stroke-width: 1.5;\"/><line style=\"stroke: #000000; stroke-width: 1.5;\" x1=\"255\" x2=\"326\" y1=\"71.2969\" y2=\"71.2969\"/><text fill=\"#000000\" font-family=\"sans-serif\" font-size=\"14\" font-weight=\"bold\" lengthAdjust=\"spacingAndGlyphs\" textLength=\"58\" x=\"259\" y=\"63.9951\">System</text></a><!--MD5=[60a26617385b1d2d0262a64233df1f8d]\n",
       "class E6--><a href=\"psysml:ee6e66ae-6a4f-4999-8c9e-f85171cea95e\" target=\"_top\" title=\"psysml:ee6e66ae-6a4f-4999-8c9e-f85171cea95e\" xlink:actuate=\"onRequest\" xlink:href=\"psysml:ee6e66ae-6a4f-4999-8c9e-f85171cea95e\" xlink:show=\"new\" xlink:title=\"psysml:ee6e66ae-6a4f-4999-8c9e-f85171cea95e\" xlink:type=\"simple\"><rect fill=\"#FFFFFF\" height=\"45.9375\" id=\"E6\" rx=\"10\" ry=\"10\" style=\"stroke: #383838; stroke-width: 1.5;\" width=\"71\" x=\"32.5\" y=\"217.5\"/><text fill=\"#000000\" font-family=\"sans-serif\" font-size=\"12\" font-style=\"italic\" lengthAdjust=\"spacingAndGlyphs\" textLength=\"69\" x=\"33.5\" y=\"233.6387\">«attribute»</text><text fill=\"#000000\" font-family=\"sans-serif\" font-size=\"12\" lengthAdjust=\"spacingAndGlyphs\" textLength=\"6\" x=\"65\" y=\"247.6074\">x</text><line style=\"stroke: #383838; stroke-width: 1.5;\" x1=\"33.5\" x2=\"102.5\" y1=\"255.4375\" y2=\"255.4375\"/></a><!--MD5=[2156ba9850f5573cc1fc38a6a4b2f02b]\n",
       "class E7--><a href=\"psysml:da3973fb-164e-4f16-bb62-2f8eaef60bc8\" target=\"_top\" title=\"psysml:da3973fb-164e-4f16-bb62-2f8eaef60bc8\" xlink:actuate=\"onRequest\" xlink:href=\"psysml:da3973fb-164e-4f16-bb62-2f8eaef60bc8\" xlink:show=\"new\" xlink:title=\"psysml:da3973fb-164e-4f16-bb62-2f8eaef60bc8\" xlink:type=\"simple\"><rect fill=\"#FFFFFF\" height=\"45.9375\" id=\"E7\" rx=\"10\" ry=\"10\" style=\"stroke: #383838; stroke-width: 1.5;\" width=\"71\" x=\"138.5\" y=\"217.5\"/><text fill=\"#000000\" font-family=\"sans-serif\" font-size=\"12\" font-style=\"italic\" lengthAdjust=\"spacingAndGlyphs\" textLength=\"69\" x=\"139.5\" y=\"233.6387\">«attribute»</text><text fill=\"#000000\" font-family=\"sans-serif\" font-size=\"12\" lengthAdjust=\"spacingAndGlyphs\" textLength=\"6\" x=\"171\" y=\"247.6074\">y</text><line style=\"stroke: #383838; stroke-width: 1.5;\" x1=\"139.5\" x2=\"208.5\" y1=\"255.4375\" y2=\"255.4375\"/></a><!--MD5=[b9389687b975829384b498ac4b7476b2]\n",
       "class E8--><a href=\"psysml:8698e020-730f-4ac9-88e5-943d82c20ca0\" target=\"_top\" title=\"psysml:8698e020-730f-4ac9-88e5-943d82c20ca0\" xlink:actuate=\"onRequest\" xlink:href=\"psysml:8698e020-730f-4ac9-88e5-943d82c20ca0\" xlink:show=\"new\" xlink:title=\"psysml:8698e020-730f-4ac9-88e5-943d82c20ca0\" xlink:type=\"simple\"><rect fill=\"#FFFFFF\" height=\"45.9375\" id=\"E8\" rx=\"10\" ry=\"10\" style=\"stroke: #383838; stroke-width: 1.5;\" width=\"71\" x=\"84.5\" y=\"87.5\"/><text fill=\"#000000\" font-family=\"sans-serif\" font-size=\"12\" font-style=\"italic\" lengthAdjust=\"spacingAndGlyphs\" textLength=\"69\" x=\"85.5\" y=\"103.6387\">«attribute»</text><text fill=\"#000000\" font-family=\"sans-serif\" font-size=\"12\" lengthAdjust=\"spacingAndGlyphs\" textLength=\"5\" x=\"117.5\" y=\"117.6074\">z</text><line style=\"stroke: #383838; stroke-width: 1.5;\" x1=\"85.5\" x2=\"154.5\" y1=\"125.4375\" y2=\"125.4375\"/></a><a href=\"psysml:bf62b3a1-f030-4eff-b8ce-ffbdff107a6f\" target=\"_top\" title=\"psysml:bf62b3a1-f030-4eff-b8ce-ffbdff107a6f\" xlink:actuate=\"onRequest\" xlink:href=\"psysml:bf62b3a1-f030-4eff-b8ce-ffbdff107a6f\" xlink:show=\"new\" xlink:title=\"psysml:bf62b3a1-f030-4eff-b8ce-ffbdff107a6f\" xlink:type=\"simple\"><polygon fill=\"#FFFFFF\" points=\"271,84,413,84,420,106.2969,427,106.2969,427,136.5938,271,136.5938,271,84\" style=\"stroke: #000000; stroke-width: 1.5;\"/><line style=\"stroke: #000000; stroke-width: 1.5;\" x1=\"271\" x2=\"420\" y1=\"106.2969\" y2=\"106.2969\"/><text fill=\"#000000\" font-family=\"sans-serif\" font-size=\"14\" font-weight=\"bold\" lengthAdjust=\"spacingAndGlyphs\" textLength=\"136\" x=\"275\" y=\"98.9951\">Application Layer</text></a><a href=\"psysml:471b2f11-dcf9-418e-881d-688bae838b3f\" target=\"_top\" title=\"psysml:471b2f11-dcf9-418e-881d-688bae838b3f\" xlink:actuate=\"onRequest\" xlink:href=\"psysml:471b2f11-dcf9-418e-881d-688bae838b3f\" xlink:show=\"new\" xlink:title=\"psysml:471b2f11-dcf9-418e-881d-688bae838b3f\" xlink:type=\"simple\"><polygon fill=\"#FFFFFF\" points=\"285,214,399,214,406,236.2969,413,236.2969,413,266.5938,285,266.5938,285,214\" style=\"stroke: #000000; stroke-width: 1.5;\"/><line style=\"stroke: #000000; stroke-width: 1.5;\" x1=\"285\" x2=\"406\" y1=\"236.2969\" y2=\"236.2969\"/><text fill=\"#000000\" font-family=\"sans-serif\" font-size=\"14\" font-weight=\"bold\" lengthAdjust=\"spacingAndGlyphs\" textLength=\"108\" x=\"289\" y=\"228.9951\">Service Layer</text></a><a href=\"psysml:da794142-8c7c-4611-9580-abeb242da5ef\" target=\"_top\" title=\"psysml:da794142-8c7c-4611-9580-abeb242da5ef\" xlink:actuate=\"onRequest\" xlink:href=\"psysml:da794142-8c7c-4611-9580-abeb242da5ef\" xlink:show=\"new\" xlink:title=\"psysml:da794142-8c7c-4611-9580-abeb242da5ef\" xlink:type=\"simple\"><polygon fill=\"#FFFFFF\" points=\"297,344,387,344,394,366.2969,401,366.2969,401,396.5938,297,396.5938,297,344\" style=\"stroke: #000000; stroke-width: 1.5;\"/><line style=\"stroke: #000000; stroke-width: 1.5;\" x1=\"297\" x2=\"394\" y1=\"366.2969\" y2=\"366.2969\"/><text fill=\"#000000\" font-family=\"sans-serif\" font-size=\"14\" font-weight=\"bold\" lengthAdjust=\"spacingAndGlyphs\" textLength=\"84\" x=\"301\" y=\"358.9951\">Data Layer</text></a><!--MD5=[af87c684e3b0d8be13c1a698a818ef1e]\n",
       "link E3 to E4--><a href=\"psysml:f56c438f-52f0-4453-9ce2-0999d9bfb233\" target=\"_top\" title=\"psysml:f56c438f-52f0-4453-9ce2-0999d9bfb233\" xlink:actuate=\"onRequest\" xlink:href=\"psysml:f56c438f-52f0-4453-9ce2-0999d9bfb233\" xlink:show=\"new\" xlink:title=\"psysml:f56c438f-52f0-4453-9ce2-0999d9bfb233\" xlink:type=\"simple\"><path d=\"M349,137.1 C349,156.8 349,184.22 349,205.73 \" fill=\"none\" id=\"E3-&gt;E4\" style=\"stroke: #383838; stroke-width: 1.0; stroke-dasharray: 7.0,7.0;\"/><polygon fill=\"#383838\" points=\"349,213.95,352,205.95,346,205.95,349,213.95\" style=\"stroke: #383838; stroke-width: 1.0;\"/><text fill=\"#000000\" font-family=\"sans-serif\" font-size=\"13\" lengthAdjust=\"spacingAndGlyphs\" textLength=\"64\" x=\"350\" y=\"180.0669\">«depend»</text></a><!--MD5=[1b7591eae5389033d8d09a9d6721a717]\n",
       "link E4 to E5--><a href=\"psysml:149727ef-4884-4150-ac87-83ab56bc940c\" target=\"_top\" title=\"psysml:149727ef-4884-4150-ac87-83ab56bc940c\" xlink:actuate=\"onRequest\" xlink:href=\"psysml:149727ef-4884-4150-ac87-83ab56bc940c\" xlink:show=\"new\" xlink:title=\"psysml:149727ef-4884-4150-ac87-83ab56bc940c\" xlink:type=\"simple\"><path d=\"M349,267.1 C349,286.8 349,314.22 349,335.73 \" fill=\"none\" id=\"E4-&gt;E5\" style=\"stroke: #383838; stroke-width: 1.0; stroke-dasharray: 7.0,7.0;\"/><polygon fill=\"#383838\" points=\"349,343.95,352,335.95,346,335.95,349,343.95\" style=\"stroke: #383838; stroke-width: 1.0;\"/><text fill=\"#000000\" font-family=\"sans-serif\" font-size=\"13\" lengthAdjust=\"spacingAndGlyphs\" textLength=\"64\" x=\"350\" y=\"310.0669\">«depend»</text></a><!--MD5=[c5e8897d989ce984f93528998a7150fe]\n",
       "link E8 to E6--><a href=\"psysml:6d264d90-cc53-4d32-95c3-fe1ad979e012\" target=\"_top\" title=\"psysml:6d264d90-cc53-4d32-95c3-fe1ad979e012\" xlink:actuate=\"onRequest\" xlink:href=\"psysml:6d264d90-cc53-4d32-95c3-fe1ad979e012\" xlink:show=\"new\" xlink:title=\"psysml:6d264d90-cc53-4d32-95c3-fe1ad979e012\" xlink:type=\"simple\"><path d=\"M89.42,133.6 C79.35,142.68 69.37,154.11 64,167 C58.5,180.2 58.66,195.94 60.54,209.38 \" fill=\"none\" id=\"E8-&gt;E6\" style=\"stroke: #383838; stroke-width: 1.0; stroke-dasharray: 7.0,7.0;\"/><polygon fill=\"#383838\" points=\"61.9,217.4,63.517,209.0104,57.6018,210.0159,61.9,217.4\" style=\"stroke: #383838; stroke-width: 1.0;\"/><text fill=\"#000000\" font-family=\"sans-serif\" font-size=\"13\" lengthAdjust=\"spacingAndGlyphs\" textLength=\"64\" x=\"65\" y=\"180.0669\">«depend»</text></a><!--MD5=[bfa3c8b0d15052fdf50ae9310b491027]\n",
       "link E8 to E7--><a href=\"psysml:6d264d90-cc53-4d32-95c3-fe1ad979e012\" target=\"_top\" title=\"psysml:6d264d90-cc53-4d32-95c3-fe1ad979e012\" xlink:actuate=\"onRequest\" xlink:href=\"psysml:6d264d90-cc53-4d32-95c3-fe1ad979e012\" xlink:show=\"new\" xlink:title=\"psysml:6d264d90-cc53-4d32-95c3-fe1ad979e012\" xlink:type=\"simple\"><path d=\"M129.28,133.5 C138.17,154.57 151.64,186.5 161.47,209.81 \" fill=\"none\" id=\"E8-&gt;E7\" style=\"stroke: #383838; stroke-width: 1.0; stroke-dasharray: 7.0,7.0;\"/><polygon fill=\"#383838\" points=\"164.66,217.35,164.3241,208.8126,158.7933,211.1385,164.66,217.35\" style=\"stroke: #383838; stroke-width: 1.0;\"/><text fill=\"#000000\" font-family=\"sans-serif\" font-size=\"13\" lengthAdjust=\"spacingAndGlyphs\" textLength=\"64\" x=\"151\" y=\"180.0669\">«depend»</text></a><!--MD5=[307df93f93ff8fef47f9d438365b9a44]\n",
       "@startuml\r\n",
       "skinparam monochrome true\r\n",
       "skinparam classbackgroundcolor white\r\n",
       "skinparam shadowing false\r\n",
       "skinparam wrapWidth 300\r\n",
       "hide circle\r\n",
       "\r\n",
       "package \"DependencyTest\" as E1  [[psysml:d56232e2-0bee-4a1a-bb9b-8eb4f38b0dfa ]]  {\r\n",
       "package \"System\" as E2  [[psysml:50d5e3ed-2307-46ca-b041-8429ee229b8d ]]  {\r\n",
       "package \"Application Layer\" as E3  [[psysml:bf62b3a1-f030-4eff-b8ce-ffbdff107a6f ]]  {\r\n",
       "}\r\n",
       "package \"Service Layer\" as E4  [[psysml:471b2f11-dcf9-418e-881d-688bae838b3f ]]  {\r\n",
       "}\r\n",
       "package \"Data Layer\" as E5  [[psysml:da794142-8c7c-4611-9580-abeb242da5ef ]]  {\r\n",
       "}\r\n",
       "}\r\n",
       "comp usage \"x\" as E6  <<(T,blue)attribute>> [[psysml:ee6e66ae-6a4f-4999-8c9e-f85171cea95e ]] {\r\n",
       "}\r\n",
       "comp usage \"y\" as E7  <<(T,blue)attribute>> [[psysml:da3973fb-164e-4f16-bb62-2f8eaef60bc8 ]] {\r\n",
       "}\r\n",
       "comp usage \"z\" as E8  <<(T,blue)attribute>> [[psysml:8698e020-730f-4ac9-88e5-943d82c20ca0 ]] {\r\n",
       "}\r\n",
       "E3 ..>> E4 [[psysml:f56c438f-52f0-4453-9ce2-0999d9bfb233 ]] : <<depend>>\r\n",
       "E4 ..>> E5 [[psysml:149727ef-4884-4150-ac87-83ab56bc940c ]] : <<depend>>\r\n",
       "E8 ..>> E6 [[psysml:6d264d90-cc53-4d32-95c3-fe1ad979e012 ]] : <<depend>>\r\n",
       "E8 ..>> E7 [[psysml:6d264d90-cc53-4d32-95c3-fe1ad979e012 ]] : <<depend>>\r\n",
       "}\r\n",
       "@enduml\r\n",
       "\n",
       "PlantUML version 1.2020.13(Sat Jun 13 12:26:38 UTC 2020)\n",
       "(EPL source distribution)\n",
       "Java Runtime: OpenJDK Runtime Environment\n",
       "JVM: OpenJDK 64-Bit Server VM\n",
       "Default Encoding: UTF-8\n",
       "Language: en\n",
       "Country: null\n",
       "--></g></svg>"
      ]
     },
     "execution_count": 38,
     "metadata": {},
     "output_type": "execute_result"
    }
   ],
   "source": [
    "%viz --style=\"DEFAULT\" --view=\"Tree\" \"DependencyTest\""
   ]
  },
  {
   "cell_type": "code",
   "execution_count": 39,
   "id": "c05b16a0",
   "metadata": {
    "execution": {
     "iopub.execute_input": "2021-04-20T07:32:20.008091Z",
     "iopub.status.busy": "2021-04-20T07:32:20.007595Z",
     "iopub.status.idle": "2021-04-20T07:32:20.012735Z",
     "shell.execute_reply": "2021-04-20T07:32:20.012425Z"
    }
   },
   "outputs": [
    {
     "data": {
      "image/svg+xml": [
       "<?xml version=\"1.0\" encoding=\"UTF-8\" standalone=\"no\"?><svg xmlns=\"http://www.w3.org/2000/svg\" xmlns:xlink=\"http://www.w3.org/1999/xlink\" contentScriptType=\"application/ecmascript\" contentStyleType=\"text/css\" height=\"12px\" preserveAspectRatio=\"none\" style=\"width:12px;height:12px;\" version=\"1.1\" viewBox=\"0 0 12 12\" width=\"12px\" zoomAndPan=\"magnify\"><defs/><g><!--MD5=[c5f280e076d0d61ccf4b0f27871bda1d]\n",
       "@startuml\r\n",
       "skinparam monochrome true\r\n",
       "skinparam classbackgroundcolor white\r\n",
       "skinparam shadowing false\r\n",
       "skinparam wrapWidth 300\r\n",
       "hide circle\r\n",
       "\r\n",
       "@enduml\r\n",
       "\n",
       "PlantUML version 1.2020.13(Sat Jun 13 12:26:38 UTC 2020)\n",
       "(EPL source distribution)\n",
       "Java Runtime: OpenJDK Runtime Environment\n",
       "JVM: OpenJDK 64-Bit Server VM\n",
       "Default Encoding: UTF-8\n",
       "Language: en\n",
       "Country: null\n",
       "--></g></svg>"
      ]
     },
     "execution_count": 39,
     "metadata": {},
     "output_type": "execute_result"
    }
   ],
   "source": [
    "%viz --style=\"DEFAULT\" --view=\"State\" \"DependencyTest\""
   ]
  },
  {
   "cell_type": "code",
   "execution_count": 40,
   "id": "6686da85",
   "metadata": {
    "execution": {
     "iopub.execute_input": "2021-04-20T07:32:20.065224Z",
     "iopub.status.busy": "2021-04-20T07:32:20.064687Z",
     "iopub.status.idle": "2021-04-20T07:32:20.116213Z",
     "shell.execute_reply": "2021-04-20T07:32:20.109626Z"
    }
   },
   "outputs": [
    {
     "data": {
      "image/svg+xml": [
       "<?xml version=\"1.0\" encoding=\"UTF-8\" standalone=\"no\"?><svg xmlns=\"http://www.w3.org/2000/svg\" xmlns:xlink=\"http://www.w3.org/1999/xlink\" contentScriptType=\"application/ecmascript\" contentStyleType=\"text/css\" height=\"361px\" preserveAspectRatio=\"none\" style=\"width:489px;height:361px;\" version=\"1.1\" viewBox=\"0 0 489 361\" width=\"489px\" zoomAndPan=\"magnify\"><defs/><g><!--MD5=[fbc87193dbaf4d95561dea2c320d4a47]\n",
       "cluster E1--><a href=\"psysml:d56232e2-0bee-4a1a-bb9b-8eb4f38b0dfa\" target=\"_top\" title=\"psysml:d56232e2-0bee-4a1a-bb9b-8eb4f38b0dfa\" xlink:actuate=\"onRequest\" xlink:href=\"psysml:d56232e2-0bee-4a1a-bb9b-8eb4f38b0dfa\" xlink:show=\"new\" xlink:title=\"psysml:d56232e2-0bee-4a1a-bb9b-8eb4f38b0dfa\" xlink:type=\"simple\"><polygon fill=\"#FFFFFF\" points=\"16,6,156,6,163,28.2969,467,28.2969,467,349,16,349,16,6\" style=\"stroke: #000000; stroke-width: 1.5;\"/><line style=\"stroke: #000000; stroke-width: 1.5;\" x1=\"16\" x2=\"163\" y1=\"28.2969\" y2=\"28.2969\"/><text fill=\"#000000\" font-family=\"sans-serif\" font-size=\"14\" font-weight=\"bold\" lengthAdjust=\"spacingAndGlyphs\" textLength=\"134\" x=\"20\" y=\"20.9951\">DependencyTest</text></a><!--MD5=[e4f7fae6ed58524ba242bb0b0d3be6b7]\n",
       "cluster E2--><a href=\"psysml:50d5e3ed-2307-46ca-b041-8429ee229b8d\" target=\"_top\" title=\"psysml:50d5e3ed-2307-46ca-b041-8429ee229b8d\" xlink:actuate=\"onRequest\" xlink:href=\"psysml:50d5e3ed-2307-46ca-b041-8429ee229b8d\" xlink:show=\"new\" xlink:title=\"psysml:50d5e3ed-2307-46ca-b041-8429ee229b8d\" xlink:type=\"simple\"><polygon fill=\"#FFFFFF\" points=\"255,49,319,49,326,71.2969,443,71.2969,443,325,255,325,255,49\" style=\"stroke: #000000; stroke-width: 1.5;\"/><line style=\"stroke: #000000; stroke-width: 1.5;\" x1=\"255\" x2=\"326\" y1=\"71.2969\" y2=\"71.2969\"/><text fill=\"#000000\" font-family=\"sans-serif\" font-size=\"14\" font-weight=\"bold\" lengthAdjust=\"spacingAndGlyphs\" textLength=\"58\" x=\"259\" y=\"63.9951\">System</text></a><!--MD5=[60a26617385b1d2d0262a64233df1f8d]\n",
       "class E6--><a href=\"psysml:ee6e66ae-6a4f-4999-8c9e-f85171cea95e\" target=\"_top\" title=\"psysml:ee6e66ae-6a4f-4999-8c9e-f85171cea95e\" xlink:actuate=\"onRequest\" xlink:href=\"psysml:ee6e66ae-6a4f-4999-8c9e-f85171cea95e\" xlink:show=\"new\" xlink:title=\"psysml:ee6e66ae-6a4f-4999-8c9e-f85171cea95e\" xlink:type=\"simple\"><rect fill=\"#FFFFFF\" height=\"45.9375\" id=\"E6\" rx=\"10\" ry=\"10\" style=\"stroke: #383838; stroke-width: 1.5;\" width=\"71\" x=\"32.5\" y=\"173.5\"/><text fill=\"#000000\" font-family=\"sans-serif\" font-size=\"12\" font-style=\"italic\" lengthAdjust=\"spacingAndGlyphs\" textLength=\"69\" x=\"33.5\" y=\"189.6387\">«attribute»</text><text fill=\"#000000\" font-family=\"sans-serif\" font-size=\"12\" lengthAdjust=\"spacingAndGlyphs\" textLength=\"6\" x=\"65\" y=\"203.6074\">x</text><line style=\"stroke: #383838; stroke-width: 1.5;\" x1=\"33.5\" x2=\"102.5\" y1=\"211.4375\" y2=\"211.4375\"/></a><!--MD5=[2156ba9850f5573cc1fc38a6a4b2f02b]\n",
       "class E7--><a href=\"psysml:da3973fb-164e-4f16-bb62-2f8eaef60bc8\" target=\"_top\" title=\"psysml:da3973fb-164e-4f16-bb62-2f8eaef60bc8\" xlink:actuate=\"onRequest\" xlink:href=\"psysml:da3973fb-164e-4f16-bb62-2f8eaef60bc8\" xlink:show=\"new\" xlink:title=\"psysml:da3973fb-164e-4f16-bb62-2f8eaef60bc8\" xlink:type=\"simple\"><rect fill=\"#FFFFFF\" height=\"45.9375\" id=\"E7\" rx=\"10\" ry=\"10\" style=\"stroke: #383838; stroke-width: 1.5;\" width=\"71\" x=\"138.5\" y=\"173.5\"/><text fill=\"#000000\" font-family=\"sans-serif\" font-size=\"12\" font-style=\"italic\" lengthAdjust=\"spacingAndGlyphs\" textLength=\"69\" x=\"139.5\" y=\"189.6387\">«attribute»</text><text fill=\"#000000\" font-family=\"sans-serif\" font-size=\"12\" lengthAdjust=\"spacingAndGlyphs\" textLength=\"6\" x=\"171\" y=\"203.6074\">y</text><line style=\"stroke: #383838; stroke-width: 1.5;\" x1=\"139.5\" x2=\"208.5\" y1=\"211.4375\" y2=\"211.4375\"/></a><!--MD5=[b9389687b975829384b498ac4b7476b2]\n",
       "class E8--><a href=\"psysml:8698e020-730f-4ac9-88e5-943d82c20ca0\" target=\"_top\" title=\"psysml:8698e020-730f-4ac9-88e5-943d82c20ca0\" xlink:actuate=\"onRequest\" xlink:href=\"psysml:8698e020-730f-4ac9-88e5-943d82c20ca0\" xlink:show=\"new\" xlink:title=\"psysml:8698e020-730f-4ac9-88e5-943d82c20ca0\" xlink:type=\"simple\"><rect fill=\"#FFFFFF\" height=\"45.9375\" id=\"E8\" rx=\"10\" ry=\"10\" style=\"stroke: #383838; stroke-width: 1.5;\" width=\"71\" x=\"84.5\" y=\"87.5\"/><text fill=\"#000000\" font-family=\"sans-serif\" font-size=\"12\" font-style=\"italic\" lengthAdjust=\"spacingAndGlyphs\" textLength=\"69\" x=\"85.5\" y=\"103.6387\">«attribute»</text><text fill=\"#000000\" font-family=\"sans-serif\" font-size=\"12\" lengthAdjust=\"spacingAndGlyphs\" textLength=\"5\" x=\"117.5\" y=\"117.6074\">z</text><line style=\"stroke: #383838; stroke-width: 1.5;\" x1=\"85.5\" x2=\"154.5\" y1=\"125.4375\" y2=\"125.4375\"/></a><a href=\"psysml:bf62b3a1-f030-4eff-b8ce-ffbdff107a6f\" target=\"_top\" title=\"psysml:bf62b3a1-f030-4eff-b8ce-ffbdff107a6f\" xlink:actuate=\"onRequest\" xlink:href=\"psysml:bf62b3a1-f030-4eff-b8ce-ffbdff107a6f\" xlink:show=\"new\" xlink:title=\"psysml:bf62b3a1-f030-4eff-b8ce-ffbdff107a6f\" xlink:type=\"simple\"><polygon fill=\"#FFFFFF\" points=\"271,84,413,84,420,106.2969,427,106.2969,427,136.5938,271,136.5938,271,84\" style=\"stroke: #000000; stroke-width: 1.5;\"/><line style=\"stroke: #000000; stroke-width: 1.5;\" x1=\"271\" x2=\"420\" y1=\"106.2969\" y2=\"106.2969\"/><text fill=\"#000000\" font-family=\"sans-serif\" font-size=\"14\" font-weight=\"bold\" lengthAdjust=\"spacingAndGlyphs\" textLength=\"136\" x=\"275\" y=\"98.9951\">Application Layer</text></a><a href=\"psysml:471b2f11-dcf9-418e-881d-688bae838b3f\" target=\"_top\" title=\"psysml:471b2f11-dcf9-418e-881d-688bae838b3f\" xlink:actuate=\"onRequest\" xlink:href=\"psysml:471b2f11-dcf9-418e-881d-688bae838b3f\" xlink:show=\"new\" xlink:title=\"psysml:471b2f11-dcf9-418e-881d-688bae838b3f\" xlink:type=\"simple\"><polygon fill=\"#FFFFFF\" points=\"285,170,399,170,406,192.2969,413,192.2969,413,222.5938,285,222.5938,285,170\" style=\"stroke: #000000; stroke-width: 1.5;\"/><line style=\"stroke: #000000; stroke-width: 1.5;\" x1=\"285\" x2=\"406\" y1=\"192.2969\" y2=\"192.2969\"/><text fill=\"#000000\" font-family=\"sans-serif\" font-size=\"14\" font-weight=\"bold\" lengthAdjust=\"spacingAndGlyphs\" textLength=\"108\" x=\"289\" y=\"184.9951\">Service Layer</text></a><a href=\"psysml:da794142-8c7c-4611-9580-abeb242da5ef\" target=\"_top\" title=\"psysml:da794142-8c7c-4611-9580-abeb242da5ef\" xlink:actuate=\"onRequest\" xlink:href=\"psysml:da794142-8c7c-4611-9580-abeb242da5ef\" xlink:show=\"new\" xlink:title=\"psysml:da794142-8c7c-4611-9580-abeb242da5ef\" xlink:type=\"simple\"><polygon fill=\"#FFFFFF\" points=\"297,256,387,256,394,278.2969,401,278.2969,401,308.5938,297,308.5938,297,256\" style=\"stroke: #000000; stroke-width: 1.5;\"/><line style=\"stroke: #000000; stroke-width: 1.5;\" x1=\"297\" x2=\"394\" y1=\"278.2969\" y2=\"278.2969\"/><text fill=\"#000000\" font-family=\"sans-serif\" font-size=\"14\" font-weight=\"bold\" lengthAdjust=\"spacingAndGlyphs\" textLength=\"84\" x=\"301\" y=\"270.9951\">Data Layer</text></a><!--MD5=[af87c684e3b0d8be13c1a698a818ef1e]\n",
       "link E3 to E4--><a href=\"psysml:f56c438f-52f0-4453-9ce2-0999d9bfb233\" target=\"_top\" title=\"psysml:f56c438f-52f0-4453-9ce2-0999d9bfb233\" xlink:actuate=\"onRequest\" xlink:href=\"psysml:f56c438f-52f0-4453-9ce2-0999d9bfb233\" xlink:show=\"new\" xlink:title=\"psysml:f56c438f-52f0-4453-9ce2-0999d9bfb233\" xlink:type=\"simple\"><path d=\"M349,137.16 C349,144.98 349,153.69 349,161.94 \" fill=\"none\" id=\"E3-&gt;E4\" style=\"stroke: #383838; stroke-width: 1.0; stroke-dasharray: 7.0,7.0;\"/><polygon fill=\"#383838\" points=\"349,170,352,162,346,162,349,170\" style=\"stroke: #383838; stroke-width: 1.0;\"/><text fill=\"#000000\" font-family=\"sans-serif\" font-size=\"13\" lengthAdjust=\"spacingAndGlyphs\" textLength=\"64\" x=\"350\" y=\"158.0669\">«depend»</text></a><!--MD5=[1b7591eae5389033d8d09a9d6721a717]\n",
       "link E4 to E5--><a href=\"psysml:149727ef-4884-4150-ac87-83ab56bc940c\" target=\"_top\" title=\"psysml:149727ef-4884-4150-ac87-83ab56bc940c\" xlink:actuate=\"onRequest\" xlink:href=\"psysml:149727ef-4884-4150-ac87-83ab56bc940c\" xlink:show=\"new\" xlink:title=\"psysml:149727ef-4884-4150-ac87-83ab56bc940c\" xlink:type=\"simple\"><path d=\"M349,223.16 C349,230.98 349,239.69 349,247.94 \" fill=\"none\" id=\"E4-&gt;E5\" style=\"stroke: #383838; stroke-width: 1.0; stroke-dasharray: 7.0,7.0;\"/><polygon fill=\"#383838\" points=\"349,256,352,248,346,248,349,256\" style=\"stroke: #383838; stroke-width: 1.0;\"/><text fill=\"#000000\" font-family=\"sans-serif\" font-size=\"13\" lengthAdjust=\"spacingAndGlyphs\" textLength=\"64\" x=\"350\" y=\"244.0669\">«depend»</text></a><!--MD5=[c5e8897d989ce984f93528998a7150fe]\n",
       "link E8 to E6--><a href=\"psysml:6d264d90-cc53-4d32-95c3-fe1ad979e012\" target=\"_top\" title=\"psysml:6d264d90-cc53-4d32-95c3-fe1ad979e012\" xlink:actuate=\"onRequest\" xlink:href=\"psysml:6d264d90-cc53-4d32-95c3-fe1ad979e012\" xlink:show=\"new\" xlink:title=\"psysml:6d264d90-cc53-4d32-95c3-fe1ad979e012\" xlink:type=\"simple\"><path d=\"M84.49,125.34 C76.34,130.27 68.69,136.72 64,145 C60.54,151.1 59.62,158.31 60,165.33 \" fill=\"none\" id=\"E8-&gt;E6\" style=\"stroke: #383838; stroke-width: 1.0; stroke-dasharray: 7.0,7.0;\"/><polygon fill=\"#383838\" points=\"60.97,173.42,63.0061,165.1221,57.0479,165.8294,60.97,173.42\" style=\"stroke: #383838; stroke-width: 1.0;\"/><text fill=\"#000000\" font-family=\"sans-serif\" font-size=\"13\" lengthAdjust=\"spacingAndGlyphs\" textLength=\"64\" x=\"65\" y=\"158.0669\">«depend»</text></a><!--MD5=[bfa3c8b0d15052fdf50ae9310b491027]\n",
       "link E8 to E7--><a href=\"psysml:6d264d90-cc53-4d32-95c3-fe1ad979e012\" target=\"_top\" title=\"psysml:6d264d90-cc53-4d32-95c3-fe1ad979e012\" xlink:actuate=\"onRequest\" xlink:href=\"psysml:6d264d90-cc53-4d32-95c3-fe1ad979e012\" xlink:show=\"new\" xlink:title=\"psysml:6d264d90-cc53-4d32-95c3-fe1ad979e012\" xlink:type=\"simple\"><path d=\"M134.19,133.57 C140.65,143.62 148.38,155.65 155.31,166.42 \" fill=\"none\" id=\"E8-&gt;E7\" style=\"stroke: #383838; stroke-width: 1.0; stroke-dasharray: 7.0,7.0;\"/><polygon fill=\"#383838\" points=\"159.72,173.29,157.9148,164.9389,152.8688,168.185,159.72,173.29\" style=\"stroke: #383838; stroke-width: 1.0;\"/><text fill=\"#000000\" font-family=\"sans-serif\" font-size=\"13\" lengthAdjust=\"spacingAndGlyphs\" textLength=\"64\" x=\"152\" y=\"158.0669\">«depend»</text></a><!--MD5=[683e059c8d4201596aa17004061f291c]\n",
       "@startuml\r\n",
       "skinparam ranksep 10\r\n",
       "skinparam rectangle {\r\n",
       " backgroundColor<<block>> LightGreen\r\n",
       "}\r\n",
       "skinparam monochrome true\r\n",
       "skinparam classbackgroundcolor white\r\n",
       "skinparam shadowing false\r\n",
       "skinparam wrapWidth 300\r\n",
       "hide circle\r\n",
       "\r\n",
       "package \"DependencyTest\" as E1  [[psysml:d56232e2-0bee-4a1a-bb9b-8eb4f38b0dfa ]]  {\r\n",
       "package \"System\" as E2  [[psysml:50d5e3ed-2307-46ca-b041-8429ee229b8d ]]  {\r\n",
       "package \"Application Layer\" as E3  [[psysml:bf62b3a1-f030-4eff-b8ce-ffbdff107a6f ]]  {\r\n",
       "}\r\n",
       "package \"Service Layer\" as E4  [[psysml:471b2f11-dcf9-418e-881d-688bae838b3f ]]  {\r\n",
       "}\r\n",
       "package \"Data Layer\" as E5  [[psysml:da794142-8c7c-4611-9580-abeb242da5ef ]]  {\r\n",
       "}\r\n",
       "}\r\n",
       "comp usage \"x\" as E6  <<(T,blue)attribute>> [[psysml:ee6e66ae-6a4f-4999-8c9e-f85171cea95e ]] {\r\n",
       "}\r\n",
       "comp usage \"y\" as E7  <<(T,blue)attribute>> [[psysml:da3973fb-164e-4f16-bb62-2f8eaef60bc8 ]] {\r\n",
       "}\r\n",
       "comp usage \"z\" as E8  <<(T,blue)attribute>> [[psysml:8698e020-730f-4ac9-88e5-943d82c20ca0 ]] {\r\n",
       "}\r\n",
       "E3 ..>> E4 [[psysml:f56c438f-52f0-4453-9ce2-0999d9bfb233 ]] : <<depend>>\r\n",
       "E4 ..>> E5 [[psysml:149727ef-4884-4150-ac87-83ab56bc940c ]] : <<depend>>\r\n",
       "E8 ..>> E6 [[psysml:6d264d90-cc53-4d32-95c3-fe1ad979e012 ]] : <<depend>>\r\n",
       "E8 ..>> E7 [[psysml:6d264d90-cc53-4d32-95c3-fe1ad979e012 ]] : <<depend>>\r\n",
       "}\r\n",
       "@enduml\r\n",
       "\n",
       "PlantUML version 1.2020.13(Sat Jun 13 12:26:38 UTC 2020)\n",
       "(EPL source distribution)\n",
       "Java Runtime: OpenJDK Runtime Environment\n",
       "JVM: OpenJDK 64-Bit Server VM\n",
       "Default Encoding: UTF-8\n",
       "Language: en\n",
       "Country: null\n",
       "--></g></svg>"
      ]
     },
     "execution_count": 40,
     "metadata": {},
     "output_type": "execute_result"
    }
   ],
   "source": [
    "%viz --style=\"DEFAULT\" --view=\"Interconnection\" \"DependencyTest\""
   ]
  },
  {
   "cell_type": "code",
   "execution_count": 41,
   "id": "b9dd15e5",
   "metadata": {
    "execution": {
     "iopub.execute_input": "2021-04-20T07:32:20.164038Z",
     "iopub.status.busy": "2021-04-20T07:32:20.163529Z",
     "iopub.status.idle": "2021-04-20T07:32:20.168431Z",
     "shell.execute_reply": "2021-04-20T07:32:20.168135Z"
    }
   },
   "outputs": [
    {
     "data": {
      "image/svg+xml": [
       "<?xml version=\"1.0\" encoding=\"UTF-8\" standalone=\"no\"?><svg xmlns=\"http://www.w3.org/2000/svg\" xmlns:xlink=\"http://www.w3.org/1999/xlink\" contentScriptType=\"application/ecmascript\" contentStyleType=\"text/css\" height=\"12px\" preserveAspectRatio=\"none\" style=\"width:12px;height:12px;\" version=\"1.1\" viewBox=\"0 0 12 12\" width=\"12px\" zoomAndPan=\"magnify\"><defs/><g><!--MD5=[388f21188e31bfdd97050473b19af356]\n",
       "@startuml\r\n",
       "skinparam ranksep 8\r\n",
       "skinparam monochrome true\r\n",
       "skinparam classbackgroundcolor white\r\n",
       "skinparam shadowing false\r\n",
       "skinparam wrapWidth 300\r\n",
       "hide circle\r\n",
       "\r\n",
       "@enduml\r\n",
       "\n",
       "PlantUML version 1.2020.13(Sat Jun 13 12:26:38 UTC 2020)\n",
       "(EPL source distribution)\n",
       "Java Runtime: OpenJDK Runtime Environment\n",
       "JVM: OpenJDK 64-Bit Server VM\n",
       "Default Encoding: UTF-8\n",
       "Language: en\n",
       "Country: null\n",
       "--></g></svg>"
      ]
     },
     "execution_count": 41,
     "metadata": {},
     "output_type": "execute_result"
    }
   ],
   "source": [
    "%viz --style=\"DEFAULT\" --view=\"Action\" \"DependencyTest\""
   ]
  },
  {
   "cell_type": "code",
   "execution_count": 42,
   "id": "a61010d6",
   "metadata": {
    "execution": {
     "iopub.execute_input": "2021-04-20T07:32:20.220687Z",
     "iopub.status.busy": "2021-04-20T07:32:20.220292Z",
     "iopub.status.idle": "2021-04-20T07:32:20.254531Z",
     "shell.execute_reply": "2021-04-20T07:32:20.249629Z"
    }
   },
   "outputs": [
    {
     "data": {
      "image/svg+xml": [
       "<?xml version=\"1.0\" encoding=\"UTF-8\" standalone=\"no\"?><svg xmlns=\"http://www.w3.org/2000/svg\" xmlns:xlink=\"http://www.w3.org/1999/xlink\" contentScriptType=\"application/ecmascript\" contentStyleType=\"text/css\" height=\"449px\" preserveAspectRatio=\"none\" style=\"width:489px;height:449px;\" version=\"1.1\" viewBox=\"0 0 489 449\" width=\"489px\" zoomAndPan=\"magnify\"><defs/><g><!--MD5=[fbc87193dbaf4d95561dea2c320d4a47]\n",
       "cluster E1--><a href=\"psysml:d56232e2-0bee-4a1a-bb9b-8eb4f38b0dfa\" target=\"_top\" title=\"psysml:d56232e2-0bee-4a1a-bb9b-8eb4f38b0dfa\" xlink:actuate=\"onRequest\" xlink:href=\"psysml:d56232e2-0bee-4a1a-bb9b-8eb4f38b0dfa\" xlink:show=\"new\" xlink:title=\"psysml:d56232e2-0bee-4a1a-bb9b-8eb4f38b0dfa\" xlink:type=\"simple\"><polygon fill=\"#FFFFFF\" points=\"16,6,156,6,163,28.2969,467,28.2969,467,437,16,437,16,6\" style=\"stroke: #000000; stroke-width: 1.5;\"/><line style=\"stroke: #000000; stroke-width: 1.5;\" x1=\"16\" x2=\"163\" y1=\"28.2969\" y2=\"28.2969\"/><text fill=\"#000000\" font-family=\"sans-serif\" font-size=\"14\" font-weight=\"bold\" lengthAdjust=\"spacingAndGlyphs\" textLength=\"134\" x=\"20\" y=\"20.9951\">DependencyTest</text></a><!--MD5=[e4f7fae6ed58524ba242bb0b0d3be6b7]\n",
       "cluster E2--><a href=\"psysml:50d5e3ed-2307-46ca-b041-8429ee229b8d\" target=\"_top\" title=\"psysml:50d5e3ed-2307-46ca-b041-8429ee229b8d\" xlink:actuate=\"onRequest\" xlink:href=\"psysml:50d5e3ed-2307-46ca-b041-8429ee229b8d\" xlink:show=\"new\" xlink:title=\"psysml:50d5e3ed-2307-46ca-b041-8429ee229b8d\" xlink:type=\"simple\"><polygon fill=\"#FFFFFF\" points=\"255,49,319,49,326,71.2969,443,71.2969,443,413,255,413,255,49\" style=\"stroke: #000000; stroke-width: 1.5;\"/><line style=\"stroke: #000000; stroke-width: 1.5;\" x1=\"255\" x2=\"326\" y1=\"71.2969\" y2=\"71.2969\"/><text fill=\"#000000\" font-family=\"sans-serif\" font-size=\"14\" font-weight=\"bold\" lengthAdjust=\"spacingAndGlyphs\" textLength=\"58\" x=\"259\" y=\"63.9951\">System</text></a><!--MD5=[60a26617385b1d2d0262a64233df1f8d]\n",
       "class E6--><a href=\"psysml:ee6e66ae-6a4f-4999-8c9e-f85171cea95e\" target=\"_top\" title=\"psysml:ee6e66ae-6a4f-4999-8c9e-f85171cea95e\" xlink:actuate=\"onRequest\" xlink:href=\"psysml:ee6e66ae-6a4f-4999-8c9e-f85171cea95e\" xlink:show=\"new\" xlink:title=\"psysml:ee6e66ae-6a4f-4999-8c9e-f85171cea95e\" xlink:type=\"simple\"><rect fill=\"#FFFFFF\" height=\"45.9375\" id=\"E6\" rx=\"10\" ry=\"10\" style=\"stroke: #383838; stroke-width: 1.5;\" width=\"71\" x=\"32.5\" y=\"217.5\"/><text fill=\"#000000\" font-family=\"sans-serif\" font-size=\"12\" font-style=\"italic\" lengthAdjust=\"spacingAndGlyphs\" textLength=\"69\" x=\"33.5\" y=\"233.6387\">«attribute»</text><text fill=\"#000000\" font-family=\"sans-serif\" font-size=\"12\" lengthAdjust=\"spacingAndGlyphs\" textLength=\"6\" x=\"65\" y=\"247.6074\">x</text><line style=\"stroke: #383838; stroke-width: 1.5;\" x1=\"33.5\" x2=\"102.5\" y1=\"255.4375\" y2=\"255.4375\"/></a><!--MD5=[2156ba9850f5573cc1fc38a6a4b2f02b]\n",
       "class E7--><a href=\"psysml:da3973fb-164e-4f16-bb62-2f8eaef60bc8\" target=\"_top\" title=\"psysml:da3973fb-164e-4f16-bb62-2f8eaef60bc8\" xlink:actuate=\"onRequest\" xlink:href=\"psysml:da3973fb-164e-4f16-bb62-2f8eaef60bc8\" xlink:show=\"new\" xlink:title=\"psysml:da3973fb-164e-4f16-bb62-2f8eaef60bc8\" xlink:type=\"simple\"><rect fill=\"#FFFFFF\" height=\"45.9375\" id=\"E7\" rx=\"10\" ry=\"10\" style=\"stroke: #383838; stroke-width: 1.5;\" width=\"71\" x=\"138.5\" y=\"217.5\"/><text fill=\"#000000\" font-family=\"sans-serif\" font-size=\"12\" font-style=\"italic\" lengthAdjust=\"spacingAndGlyphs\" textLength=\"69\" x=\"139.5\" y=\"233.6387\">«attribute»</text><text fill=\"#000000\" font-family=\"sans-serif\" font-size=\"12\" lengthAdjust=\"spacingAndGlyphs\" textLength=\"6\" x=\"171\" y=\"247.6074\">y</text><line style=\"stroke: #383838; stroke-width: 1.5;\" x1=\"139.5\" x2=\"208.5\" y1=\"255.4375\" y2=\"255.4375\"/></a><!--MD5=[b9389687b975829384b498ac4b7476b2]\n",
       "class E8--><a href=\"psysml:8698e020-730f-4ac9-88e5-943d82c20ca0\" target=\"_top\" title=\"psysml:8698e020-730f-4ac9-88e5-943d82c20ca0\" xlink:actuate=\"onRequest\" xlink:href=\"psysml:8698e020-730f-4ac9-88e5-943d82c20ca0\" xlink:show=\"new\" xlink:title=\"psysml:8698e020-730f-4ac9-88e5-943d82c20ca0\" xlink:type=\"simple\"><rect fill=\"#FFFFFF\" height=\"45.9375\" id=\"E8\" rx=\"10\" ry=\"10\" style=\"stroke: #383838; stroke-width: 1.5;\" width=\"71\" x=\"84.5\" y=\"87.5\"/><text fill=\"#000000\" font-family=\"sans-serif\" font-size=\"12\" font-style=\"italic\" lengthAdjust=\"spacingAndGlyphs\" textLength=\"69\" x=\"85.5\" y=\"103.6387\">«attribute»</text><text fill=\"#000000\" font-family=\"sans-serif\" font-size=\"12\" lengthAdjust=\"spacingAndGlyphs\" textLength=\"5\" x=\"117.5\" y=\"117.6074\">z</text><line style=\"stroke: #383838; stroke-width: 1.5;\" x1=\"85.5\" x2=\"154.5\" y1=\"125.4375\" y2=\"125.4375\"/></a><a href=\"psysml:bf62b3a1-f030-4eff-b8ce-ffbdff107a6f\" target=\"_top\" title=\"psysml:bf62b3a1-f030-4eff-b8ce-ffbdff107a6f\" xlink:actuate=\"onRequest\" xlink:href=\"psysml:bf62b3a1-f030-4eff-b8ce-ffbdff107a6f\" xlink:show=\"new\" xlink:title=\"psysml:bf62b3a1-f030-4eff-b8ce-ffbdff107a6f\" xlink:type=\"simple\"><polygon fill=\"#FFFFFF\" points=\"271,84,413,84,420,106.2969,427,106.2969,427,136.5938,271,136.5938,271,84\" style=\"stroke: #000000; stroke-width: 1.5;\"/><line style=\"stroke: #000000; stroke-width: 1.5;\" x1=\"271\" x2=\"420\" y1=\"106.2969\" y2=\"106.2969\"/><text fill=\"#000000\" font-family=\"sans-serif\" font-size=\"14\" font-weight=\"bold\" lengthAdjust=\"spacingAndGlyphs\" textLength=\"136\" x=\"275\" y=\"98.9951\">Application Layer</text></a><a href=\"psysml:471b2f11-dcf9-418e-881d-688bae838b3f\" target=\"_top\" title=\"psysml:471b2f11-dcf9-418e-881d-688bae838b3f\" xlink:actuate=\"onRequest\" xlink:href=\"psysml:471b2f11-dcf9-418e-881d-688bae838b3f\" xlink:show=\"new\" xlink:title=\"psysml:471b2f11-dcf9-418e-881d-688bae838b3f\" xlink:type=\"simple\"><polygon fill=\"#FFFFFF\" points=\"285,214,399,214,406,236.2969,413,236.2969,413,266.5938,285,266.5938,285,214\" style=\"stroke: #000000; stroke-width: 1.5;\"/><line style=\"stroke: #000000; stroke-width: 1.5;\" x1=\"285\" x2=\"406\" y1=\"236.2969\" y2=\"236.2969\"/><text fill=\"#000000\" font-family=\"sans-serif\" font-size=\"14\" font-weight=\"bold\" lengthAdjust=\"spacingAndGlyphs\" textLength=\"108\" x=\"289\" y=\"228.9951\">Service Layer</text></a><a href=\"psysml:da794142-8c7c-4611-9580-abeb242da5ef\" target=\"_top\" title=\"psysml:da794142-8c7c-4611-9580-abeb242da5ef\" xlink:actuate=\"onRequest\" xlink:href=\"psysml:da794142-8c7c-4611-9580-abeb242da5ef\" xlink:show=\"new\" xlink:title=\"psysml:da794142-8c7c-4611-9580-abeb242da5ef\" xlink:type=\"simple\"><polygon fill=\"#FFFFFF\" points=\"297,344,387,344,394,366.2969,401,366.2969,401,396.5938,297,396.5938,297,344\" style=\"stroke: #000000; stroke-width: 1.5;\"/><line style=\"stroke: #000000; stroke-width: 1.5;\" x1=\"297\" x2=\"394\" y1=\"366.2969\" y2=\"366.2969\"/><text fill=\"#000000\" font-family=\"sans-serif\" font-size=\"14\" font-weight=\"bold\" lengthAdjust=\"spacingAndGlyphs\" textLength=\"84\" x=\"301\" y=\"358.9951\">Data Layer</text></a><!--MD5=[af87c684e3b0d8be13c1a698a818ef1e]\n",
       "link E3 to E4--><a href=\"psysml:f56c438f-52f0-4453-9ce2-0999d9bfb233\" target=\"_top\" title=\"psysml:f56c438f-52f0-4453-9ce2-0999d9bfb233\" xlink:actuate=\"onRequest\" xlink:href=\"psysml:f56c438f-52f0-4453-9ce2-0999d9bfb233\" xlink:show=\"new\" xlink:title=\"psysml:f56c438f-52f0-4453-9ce2-0999d9bfb233\" xlink:type=\"simple\"><path d=\"M349,137.1 C349,156.8 349,184.22 349,205.73 \" fill=\"none\" id=\"E3-&gt;E4\" style=\"stroke: #383838; stroke-width: 1.0; stroke-dasharray: 7.0,7.0;\"/><polygon fill=\"#383838\" points=\"349,213.95,352,205.95,346,205.95,349,213.95\" style=\"stroke: #383838; stroke-width: 1.0;\"/><text fill=\"#000000\" font-family=\"sans-serif\" font-size=\"13\" lengthAdjust=\"spacingAndGlyphs\" textLength=\"64\" x=\"350\" y=\"180.0669\">«depend»</text></a><!--MD5=[1b7591eae5389033d8d09a9d6721a717]\n",
       "link E4 to E5--><a href=\"psysml:149727ef-4884-4150-ac87-83ab56bc940c\" target=\"_top\" title=\"psysml:149727ef-4884-4150-ac87-83ab56bc940c\" xlink:actuate=\"onRequest\" xlink:href=\"psysml:149727ef-4884-4150-ac87-83ab56bc940c\" xlink:show=\"new\" xlink:title=\"psysml:149727ef-4884-4150-ac87-83ab56bc940c\" xlink:type=\"simple\"><path d=\"M349,267.1 C349,286.8 349,314.22 349,335.73 \" fill=\"none\" id=\"E4-&gt;E5\" style=\"stroke: #383838; stroke-width: 1.0; stroke-dasharray: 7.0,7.0;\"/><polygon fill=\"#383838\" points=\"349,343.95,352,335.95,346,335.95,349,343.95\" style=\"stroke: #383838; stroke-width: 1.0;\"/><text fill=\"#000000\" font-family=\"sans-serif\" font-size=\"13\" lengthAdjust=\"spacingAndGlyphs\" textLength=\"64\" x=\"350\" y=\"310.0669\">«depend»</text></a><!--MD5=[c5e8897d989ce984f93528998a7150fe]\n",
       "link E8 to E6--><a href=\"psysml:6d264d90-cc53-4d32-95c3-fe1ad979e012\" target=\"_top\" title=\"psysml:6d264d90-cc53-4d32-95c3-fe1ad979e012\" xlink:actuate=\"onRequest\" xlink:href=\"psysml:6d264d90-cc53-4d32-95c3-fe1ad979e012\" xlink:show=\"new\" xlink:title=\"psysml:6d264d90-cc53-4d32-95c3-fe1ad979e012\" xlink:type=\"simple\"><path d=\"M89.42,133.6 C79.35,142.68 69.37,154.11 64,167 C58.5,180.2 58.66,195.94 60.54,209.38 \" fill=\"none\" id=\"E8-&gt;E6\" style=\"stroke: #383838; stroke-width: 1.0; stroke-dasharray: 7.0,7.0;\"/><polygon fill=\"#383838\" points=\"61.9,217.4,63.517,209.0104,57.6018,210.0159,61.9,217.4\" style=\"stroke: #383838; stroke-width: 1.0;\"/><text fill=\"#000000\" font-family=\"sans-serif\" font-size=\"13\" lengthAdjust=\"spacingAndGlyphs\" textLength=\"64\" x=\"65\" y=\"180.0669\">«depend»</text></a><!--MD5=[bfa3c8b0d15052fdf50ae9310b491027]\n",
       "link E8 to E7--><a href=\"psysml:6d264d90-cc53-4d32-95c3-fe1ad979e012\" target=\"_top\" title=\"psysml:6d264d90-cc53-4d32-95c3-fe1ad979e012\" xlink:actuate=\"onRequest\" xlink:href=\"psysml:6d264d90-cc53-4d32-95c3-fe1ad979e012\" xlink:show=\"new\" xlink:title=\"psysml:6d264d90-cc53-4d32-95c3-fe1ad979e012\" xlink:type=\"simple\"><path d=\"M129.28,133.5 C138.17,154.57 151.64,186.5 161.47,209.81 \" fill=\"none\" id=\"E8-&gt;E7\" style=\"stroke: #383838; stroke-width: 1.0; stroke-dasharray: 7.0,7.0;\"/><polygon fill=\"#383838\" points=\"164.66,217.35,164.3241,208.8126,158.7933,211.1385,164.66,217.35\" style=\"stroke: #383838; stroke-width: 1.0;\"/><text fill=\"#000000\" font-family=\"sans-serif\" font-size=\"13\" lengthAdjust=\"spacingAndGlyphs\" textLength=\"64\" x=\"151\" y=\"180.0669\">«depend»</text></a><!--MD5=[307df93f93ff8fef47f9d438365b9a44]\n",
       "@startuml\r\n",
       "skinparam monochrome true\r\n",
       "skinparam classbackgroundcolor white\r\n",
       "skinparam shadowing false\r\n",
       "skinparam wrapWidth 300\r\n",
       "hide circle\r\n",
       "\r\n",
       "package \"DependencyTest\" as E1  [[psysml:d56232e2-0bee-4a1a-bb9b-8eb4f38b0dfa ]]  {\r\n",
       "package \"System\" as E2  [[psysml:50d5e3ed-2307-46ca-b041-8429ee229b8d ]]  {\r\n",
       "package \"Application Layer\" as E3  [[psysml:bf62b3a1-f030-4eff-b8ce-ffbdff107a6f ]]  {\r\n",
       "}\r\n",
       "package \"Service Layer\" as E4  [[psysml:471b2f11-dcf9-418e-881d-688bae838b3f ]]  {\r\n",
       "}\r\n",
       "package \"Data Layer\" as E5  [[psysml:da794142-8c7c-4611-9580-abeb242da5ef ]]  {\r\n",
       "}\r\n",
       "}\r\n",
       "comp usage \"x\" as E6  <<(T,blue)attribute>> [[psysml:ee6e66ae-6a4f-4999-8c9e-f85171cea95e ]] {\r\n",
       "}\r\n",
       "comp usage \"y\" as E7  <<(T,blue)attribute>> [[psysml:da3973fb-164e-4f16-bb62-2f8eaef60bc8 ]] {\r\n",
       "}\r\n",
       "comp usage \"z\" as E8  <<(T,blue)attribute>> [[psysml:8698e020-730f-4ac9-88e5-943d82c20ca0 ]] {\r\n",
       "}\r\n",
       "E3 ..>> E4 [[psysml:f56c438f-52f0-4453-9ce2-0999d9bfb233 ]] : <<depend>>\r\n",
       "E4 ..>> E5 [[psysml:149727ef-4884-4150-ac87-83ab56bc940c ]] : <<depend>>\r\n",
       "E8 ..>> E6 [[psysml:6d264d90-cc53-4d32-95c3-fe1ad979e012 ]] : <<depend>>\r\n",
       "E8 ..>> E7 [[psysml:6d264d90-cc53-4d32-95c3-fe1ad979e012 ]] : <<depend>>\r\n",
       "}\r\n",
       "@enduml\r\n",
       "\n",
       "PlantUML version 1.2020.13(Sat Jun 13 12:26:38 UTC 2020)\n",
       "(EPL source distribution)\n",
       "Java Runtime: OpenJDK Runtime Environment\n",
       "JVM: OpenJDK 64-Bit Server VM\n",
       "Default Encoding: UTF-8\n",
       "Language: en\n",
       "Country: null\n",
       "--></g></svg>"
      ]
     },
     "execution_count": 42,
     "metadata": {},
     "output_type": "execute_result"
    }
   ],
   "source": [
    "%viz --style=\"DEFAULT\" --view=\"Sequence\" \"DependencyTest\""
   ]
  },
  {
   "cell_type": "code",
   "execution_count": 43,
   "id": "f213743d",
   "metadata": {
    "execution": {
     "iopub.execute_input": "2021-04-20T07:32:20.301693Z",
     "iopub.status.busy": "2021-04-20T07:32:20.300938Z",
     "iopub.status.idle": "2021-04-20T07:32:20.338255Z",
     "shell.execute_reply": "2021-04-20T07:32:20.336813Z"
    }
   },
   "outputs": [
    {
     "data": {
      "image/svg+xml": [
       "<?xml version=\"1.0\" encoding=\"UTF-8\" standalone=\"no\"?><svg xmlns=\"http://www.w3.org/2000/svg\" xmlns:xlink=\"http://www.w3.org/1999/xlink\" contentScriptType=\"application/ecmascript\" contentStyleType=\"text/css\" height=\"449px\" preserveAspectRatio=\"none\" style=\"width:489px;height:449px;\" version=\"1.1\" viewBox=\"0 0 489 449\" width=\"489px\" zoomAndPan=\"magnify\"><defs/><g><!--MD5=[fbc87193dbaf4d95561dea2c320d4a47]\n",
       "cluster E1--><a href=\"psysml:d56232e2-0bee-4a1a-bb9b-8eb4f38b0dfa\" target=\"_top\" title=\"psysml:d56232e2-0bee-4a1a-bb9b-8eb4f38b0dfa\" xlink:actuate=\"onRequest\" xlink:href=\"psysml:d56232e2-0bee-4a1a-bb9b-8eb4f38b0dfa\" xlink:show=\"new\" xlink:title=\"psysml:d56232e2-0bee-4a1a-bb9b-8eb4f38b0dfa\" xlink:type=\"simple\"><polygon fill=\"#FFFFFF\" points=\"16,6,156,6,163,28.2969,467,28.2969,467,437,16,437,16,6\" style=\"stroke: #000000; stroke-width: 1.5;\"/><line style=\"stroke: #000000; stroke-width: 1.5;\" x1=\"16\" x2=\"163\" y1=\"28.2969\" y2=\"28.2969\"/><text fill=\"#000000\" font-family=\"sans-serif\" font-size=\"14\" font-weight=\"bold\" lengthAdjust=\"spacingAndGlyphs\" textLength=\"134\" x=\"20\" y=\"20.9951\">DependencyTest</text></a><!--MD5=[e4f7fae6ed58524ba242bb0b0d3be6b7]\n",
       "cluster E2--><a href=\"psysml:50d5e3ed-2307-46ca-b041-8429ee229b8d\" target=\"_top\" title=\"psysml:50d5e3ed-2307-46ca-b041-8429ee229b8d\" xlink:actuate=\"onRequest\" xlink:href=\"psysml:50d5e3ed-2307-46ca-b041-8429ee229b8d\" xlink:show=\"new\" xlink:title=\"psysml:50d5e3ed-2307-46ca-b041-8429ee229b8d\" xlink:type=\"simple\"><polygon fill=\"#FFFFFF\" points=\"255,49,319,49,326,71.2969,443,71.2969,443,413,255,413,255,49\" style=\"stroke: #000000; stroke-width: 1.5;\"/><line style=\"stroke: #000000; stroke-width: 1.5;\" x1=\"255\" x2=\"326\" y1=\"71.2969\" y2=\"71.2969\"/><text fill=\"#000000\" font-family=\"sans-serif\" font-size=\"14\" font-weight=\"bold\" lengthAdjust=\"spacingAndGlyphs\" textLength=\"58\" x=\"259\" y=\"63.9951\">System</text></a><!--MD5=[60a26617385b1d2d0262a64233df1f8d]\n",
       "class E6--><a href=\"psysml:ee6e66ae-6a4f-4999-8c9e-f85171cea95e\" target=\"_top\" title=\"psysml:ee6e66ae-6a4f-4999-8c9e-f85171cea95e\" xlink:actuate=\"onRequest\" xlink:href=\"psysml:ee6e66ae-6a4f-4999-8c9e-f85171cea95e\" xlink:show=\"new\" xlink:title=\"psysml:ee6e66ae-6a4f-4999-8c9e-f85171cea95e\" xlink:type=\"simple\"><rect fill=\"#FFFFFF\" height=\"45.9375\" id=\"E6\" rx=\"10\" ry=\"10\" style=\"stroke: #383838; stroke-width: 1.5;\" width=\"71\" x=\"32.5\" y=\"217.5\"/><text fill=\"#000000\" font-family=\"sans-serif\" font-size=\"12\" font-style=\"italic\" lengthAdjust=\"spacingAndGlyphs\" textLength=\"69\" x=\"33.5\" y=\"233.6387\">«attribute»</text><text fill=\"#000000\" font-family=\"sans-serif\" font-size=\"12\" lengthAdjust=\"spacingAndGlyphs\" textLength=\"6\" x=\"65\" y=\"247.6074\">x</text><line style=\"stroke: #383838; stroke-width: 1.5;\" x1=\"33.5\" x2=\"102.5\" y1=\"255.4375\" y2=\"255.4375\"/></a><!--MD5=[2156ba9850f5573cc1fc38a6a4b2f02b]\n",
       "class E7--><a href=\"psysml:da3973fb-164e-4f16-bb62-2f8eaef60bc8\" target=\"_top\" title=\"psysml:da3973fb-164e-4f16-bb62-2f8eaef60bc8\" xlink:actuate=\"onRequest\" xlink:href=\"psysml:da3973fb-164e-4f16-bb62-2f8eaef60bc8\" xlink:show=\"new\" xlink:title=\"psysml:da3973fb-164e-4f16-bb62-2f8eaef60bc8\" xlink:type=\"simple\"><rect fill=\"#FFFFFF\" height=\"45.9375\" id=\"E7\" rx=\"10\" ry=\"10\" style=\"stroke: #383838; stroke-width: 1.5;\" width=\"71\" x=\"138.5\" y=\"217.5\"/><text fill=\"#000000\" font-family=\"sans-serif\" font-size=\"12\" font-style=\"italic\" lengthAdjust=\"spacingAndGlyphs\" textLength=\"69\" x=\"139.5\" y=\"233.6387\">«attribute»</text><text fill=\"#000000\" font-family=\"sans-serif\" font-size=\"12\" lengthAdjust=\"spacingAndGlyphs\" textLength=\"6\" x=\"171\" y=\"247.6074\">y</text><line style=\"stroke: #383838; stroke-width: 1.5;\" x1=\"139.5\" x2=\"208.5\" y1=\"255.4375\" y2=\"255.4375\"/></a><!--MD5=[b9389687b975829384b498ac4b7476b2]\n",
       "class E8--><a href=\"psysml:8698e020-730f-4ac9-88e5-943d82c20ca0\" target=\"_top\" title=\"psysml:8698e020-730f-4ac9-88e5-943d82c20ca0\" xlink:actuate=\"onRequest\" xlink:href=\"psysml:8698e020-730f-4ac9-88e5-943d82c20ca0\" xlink:show=\"new\" xlink:title=\"psysml:8698e020-730f-4ac9-88e5-943d82c20ca0\" xlink:type=\"simple\"><rect fill=\"#FFFFFF\" height=\"45.9375\" id=\"E8\" rx=\"10\" ry=\"10\" style=\"stroke: #383838; stroke-width: 1.5;\" width=\"71\" x=\"84.5\" y=\"87.5\"/><text fill=\"#000000\" font-family=\"sans-serif\" font-size=\"12\" font-style=\"italic\" lengthAdjust=\"spacingAndGlyphs\" textLength=\"69\" x=\"85.5\" y=\"103.6387\">«attribute»</text><text fill=\"#000000\" font-family=\"sans-serif\" font-size=\"12\" lengthAdjust=\"spacingAndGlyphs\" textLength=\"5\" x=\"117.5\" y=\"117.6074\">z</text><line style=\"stroke: #383838; stroke-width: 1.5;\" x1=\"85.5\" x2=\"154.5\" y1=\"125.4375\" y2=\"125.4375\"/></a><a href=\"psysml:bf62b3a1-f030-4eff-b8ce-ffbdff107a6f\" target=\"_top\" title=\"psysml:bf62b3a1-f030-4eff-b8ce-ffbdff107a6f\" xlink:actuate=\"onRequest\" xlink:href=\"psysml:bf62b3a1-f030-4eff-b8ce-ffbdff107a6f\" xlink:show=\"new\" xlink:title=\"psysml:bf62b3a1-f030-4eff-b8ce-ffbdff107a6f\" xlink:type=\"simple\"><polygon fill=\"#FFFFFF\" points=\"271,84,413,84,420,106.2969,427,106.2969,427,136.5938,271,136.5938,271,84\" style=\"stroke: #000000; stroke-width: 1.5;\"/><line style=\"stroke: #000000; stroke-width: 1.5;\" x1=\"271\" x2=\"420\" y1=\"106.2969\" y2=\"106.2969\"/><text fill=\"#000000\" font-family=\"sans-serif\" font-size=\"14\" font-weight=\"bold\" lengthAdjust=\"spacingAndGlyphs\" textLength=\"136\" x=\"275\" y=\"98.9951\">Application Layer</text></a><a href=\"psysml:471b2f11-dcf9-418e-881d-688bae838b3f\" target=\"_top\" title=\"psysml:471b2f11-dcf9-418e-881d-688bae838b3f\" xlink:actuate=\"onRequest\" xlink:href=\"psysml:471b2f11-dcf9-418e-881d-688bae838b3f\" xlink:show=\"new\" xlink:title=\"psysml:471b2f11-dcf9-418e-881d-688bae838b3f\" xlink:type=\"simple\"><polygon fill=\"#FFFFFF\" points=\"285,214,399,214,406,236.2969,413,236.2969,413,266.5938,285,266.5938,285,214\" style=\"stroke: #000000; stroke-width: 1.5;\"/><line style=\"stroke: #000000; stroke-width: 1.5;\" x1=\"285\" x2=\"406\" y1=\"236.2969\" y2=\"236.2969\"/><text fill=\"#000000\" font-family=\"sans-serif\" font-size=\"14\" font-weight=\"bold\" lengthAdjust=\"spacingAndGlyphs\" textLength=\"108\" x=\"289\" y=\"228.9951\">Service Layer</text></a><a href=\"psysml:da794142-8c7c-4611-9580-abeb242da5ef\" target=\"_top\" title=\"psysml:da794142-8c7c-4611-9580-abeb242da5ef\" xlink:actuate=\"onRequest\" xlink:href=\"psysml:da794142-8c7c-4611-9580-abeb242da5ef\" xlink:show=\"new\" xlink:title=\"psysml:da794142-8c7c-4611-9580-abeb242da5ef\" xlink:type=\"simple\"><polygon fill=\"#FFFFFF\" points=\"297,344,387,344,394,366.2969,401,366.2969,401,396.5938,297,396.5938,297,344\" style=\"stroke: #000000; stroke-width: 1.5;\"/><line style=\"stroke: #000000; stroke-width: 1.5;\" x1=\"297\" x2=\"394\" y1=\"366.2969\" y2=\"366.2969\"/><text fill=\"#000000\" font-family=\"sans-serif\" font-size=\"14\" font-weight=\"bold\" lengthAdjust=\"spacingAndGlyphs\" textLength=\"84\" x=\"301\" y=\"358.9951\">Data Layer</text></a><!--MD5=[af87c684e3b0d8be13c1a698a818ef1e]\n",
       "link E3 to E4--><a href=\"psysml:f56c438f-52f0-4453-9ce2-0999d9bfb233\" target=\"_top\" title=\"psysml:f56c438f-52f0-4453-9ce2-0999d9bfb233\" xlink:actuate=\"onRequest\" xlink:href=\"psysml:f56c438f-52f0-4453-9ce2-0999d9bfb233\" xlink:show=\"new\" xlink:title=\"psysml:f56c438f-52f0-4453-9ce2-0999d9bfb233\" xlink:type=\"simple\"><path d=\"M349,137.1 C349,156.8 349,184.22 349,205.73 \" fill=\"none\" id=\"E3-&gt;E4\" style=\"stroke: #383838; stroke-width: 1.0; stroke-dasharray: 7.0,7.0;\"/><polygon fill=\"#383838\" points=\"349,213.95,352,205.95,346,205.95,349,213.95\" style=\"stroke: #383838; stroke-width: 1.0;\"/><text fill=\"#000000\" font-family=\"sans-serif\" font-size=\"13\" lengthAdjust=\"spacingAndGlyphs\" textLength=\"64\" x=\"350\" y=\"180.0669\">«depend»</text></a><!--MD5=[1b7591eae5389033d8d09a9d6721a717]\n",
       "link E4 to E5--><a href=\"psysml:149727ef-4884-4150-ac87-83ab56bc940c\" target=\"_top\" title=\"psysml:149727ef-4884-4150-ac87-83ab56bc940c\" xlink:actuate=\"onRequest\" xlink:href=\"psysml:149727ef-4884-4150-ac87-83ab56bc940c\" xlink:show=\"new\" xlink:title=\"psysml:149727ef-4884-4150-ac87-83ab56bc940c\" xlink:type=\"simple\"><path d=\"M349,267.1 C349,286.8 349,314.22 349,335.73 \" fill=\"none\" id=\"E4-&gt;E5\" style=\"stroke: #383838; stroke-width: 1.0; stroke-dasharray: 7.0,7.0;\"/><polygon fill=\"#383838\" points=\"349,343.95,352,335.95,346,335.95,349,343.95\" style=\"stroke: #383838; stroke-width: 1.0;\"/><text fill=\"#000000\" font-family=\"sans-serif\" font-size=\"13\" lengthAdjust=\"spacingAndGlyphs\" textLength=\"64\" x=\"350\" y=\"310.0669\">«depend»</text></a><!--MD5=[c5e8897d989ce984f93528998a7150fe]\n",
       "link E8 to E6--><a href=\"psysml:6d264d90-cc53-4d32-95c3-fe1ad979e012\" target=\"_top\" title=\"psysml:6d264d90-cc53-4d32-95c3-fe1ad979e012\" xlink:actuate=\"onRequest\" xlink:href=\"psysml:6d264d90-cc53-4d32-95c3-fe1ad979e012\" xlink:show=\"new\" xlink:title=\"psysml:6d264d90-cc53-4d32-95c3-fe1ad979e012\" xlink:type=\"simple\"><path d=\"M89.42,133.6 C79.35,142.68 69.37,154.11 64,167 C58.5,180.2 58.66,195.94 60.54,209.38 \" fill=\"none\" id=\"E8-&gt;E6\" style=\"stroke: #383838; stroke-width: 1.0; stroke-dasharray: 7.0,7.0;\"/><polygon fill=\"#383838\" points=\"61.9,217.4,63.517,209.0104,57.6018,210.0159,61.9,217.4\" style=\"stroke: #383838; stroke-width: 1.0;\"/><text fill=\"#000000\" font-family=\"sans-serif\" font-size=\"13\" lengthAdjust=\"spacingAndGlyphs\" textLength=\"64\" x=\"65\" y=\"180.0669\">«depend»</text></a><!--MD5=[bfa3c8b0d15052fdf50ae9310b491027]\n",
       "link E8 to E7--><a href=\"psysml:6d264d90-cc53-4d32-95c3-fe1ad979e012\" target=\"_top\" title=\"psysml:6d264d90-cc53-4d32-95c3-fe1ad979e012\" xlink:actuate=\"onRequest\" xlink:href=\"psysml:6d264d90-cc53-4d32-95c3-fe1ad979e012\" xlink:show=\"new\" xlink:title=\"psysml:6d264d90-cc53-4d32-95c3-fe1ad979e012\" xlink:type=\"simple\"><path d=\"M129.28,133.5 C138.17,154.57 151.64,186.5 161.47,209.81 \" fill=\"none\" id=\"E8-&gt;E7\" style=\"stroke: #383838; stroke-width: 1.0; stroke-dasharray: 7.0,7.0;\"/><polygon fill=\"#383838\" points=\"164.66,217.35,164.3241,208.8126,158.7933,211.1385,164.66,217.35\" style=\"stroke: #383838; stroke-width: 1.0;\"/><text fill=\"#000000\" font-family=\"sans-serif\" font-size=\"13\" lengthAdjust=\"spacingAndGlyphs\" textLength=\"64\" x=\"151\" y=\"180.0669\">«depend»</text></a><!--MD5=[307df93f93ff8fef47f9d438365b9a44]\n",
       "@startuml\r\n",
       "skinparam monochrome true\r\n",
       "skinparam classbackgroundcolor white\r\n",
       "skinparam shadowing false\r\n",
       "skinparam wrapWidth 300\r\n",
       "hide circle\r\n",
       "\r\n",
       "package \"DependencyTest\" as E1  [[psysml:d56232e2-0bee-4a1a-bb9b-8eb4f38b0dfa ]]  {\r\n",
       "package \"System\" as E2  [[psysml:50d5e3ed-2307-46ca-b041-8429ee229b8d ]]  {\r\n",
       "package \"Application Layer\" as E3  [[psysml:bf62b3a1-f030-4eff-b8ce-ffbdff107a6f ]]  {\r\n",
       "}\r\n",
       "package \"Service Layer\" as E4  [[psysml:471b2f11-dcf9-418e-881d-688bae838b3f ]]  {\r\n",
       "}\r\n",
       "package \"Data Layer\" as E5  [[psysml:da794142-8c7c-4611-9580-abeb242da5ef ]]  {\r\n",
       "}\r\n",
       "}\r\n",
       "comp usage \"x\" as E6  <<(T,blue)attribute>> [[psysml:ee6e66ae-6a4f-4999-8c9e-f85171cea95e ]] {\r\n",
       "}\r\n",
       "comp usage \"y\" as E7  <<(T,blue)attribute>> [[psysml:da3973fb-164e-4f16-bb62-2f8eaef60bc8 ]] {\r\n",
       "}\r\n",
       "comp usage \"z\" as E8  <<(T,blue)attribute>> [[psysml:8698e020-730f-4ac9-88e5-943d82c20ca0 ]] {\r\n",
       "}\r\n",
       "E3 ..>> E4 [[psysml:f56c438f-52f0-4453-9ce2-0999d9bfb233 ]] : <<depend>>\r\n",
       "E4 ..>> E5 [[psysml:149727ef-4884-4150-ac87-83ab56bc940c ]] : <<depend>>\r\n",
       "E8 ..>> E6 [[psysml:6d264d90-cc53-4d32-95c3-fe1ad979e012 ]] : <<depend>>\r\n",
       "E8 ..>> E7 [[psysml:6d264d90-cc53-4d32-95c3-fe1ad979e012 ]] : <<depend>>\r\n",
       "}\r\n",
       "@enduml\r\n",
       "\n",
       "PlantUML version 1.2020.13(Sat Jun 13 12:26:38 UTC 2020)\n",
       "(EPL source distribution)\n",
       "Java Runtime: OpenJDK Runtime Environment\n",
       "JVM: OpenJDK 64-Bit Server VM\n",
       "Default Encoding: UTF-8\n",
       "Language: en\n",
       "Country: null\n",
       "--></g></svg>"
      ]
     },
     "execution_count": 43,
     "metadata": {},
     "output_type": "execute_result"
    }
   ],
   "source": [
    "%viz --style=\"DEFAULT\" --view=\"MIXED\" \"DependencyTest\""
   ]
  },
  {
   "cell_type": "code",
   "execution_count": 44,
   "id": "dc0c95cf",
   "metadata": {
    "execution": {
     "iopub.execute_input": "2021-04-20T07:32:20.389905Z",
     "iopub.status.busy": "2021-04-20T07:32:20.388880Z",
     "iopub.status.idle": "2021-04-20T07:32:20.423003Z",
     "shell.execute_reply": "2021-04-20T07:32:20.421740Z"
    }
   },
   "outputs": [
    {
     "data": {
      "image/svg+xml": [
       "<?xml version=\"1.0\" encoding=\"UTF-8\" standalone=\"no\"?><svg xmlns=\"http://www.w3.org/2000/svg\" xmlns:xlink=\"http://www.w3.org/1999/xlink\" contentScriptType=\"application/ecmascript\" contentStyleType=\"text/css\" height=\"449px\" preserveAspectRatio=\"none\" style=\"width:489px;height:449px;\" version=\"1.1\" viewBox=\"0 0 489 449\" width=\"489px\" zoomAndPan=\"magnify\"><defs/><g><!--MD5=[fbc87193dbaf4d95561dea2c320d4a47]\n",
       "cluster E1--><a href=\"psysml:d56232e2-0bee-4a1a-bb9b-8eb4f38b0dfa\" target=\"_top\" title=\"psysml:d56232e2-0bee-4a1a-bb9b-8eb4f38b0dfa\" xlink:actuate=\"onRequest\" xlink:href=\"psysml:d56232e2-0bee-4a1a-bb9b-8eb4f38b0dfa\" xlink:show=\"new\" xlink:title=\"psysml:d56232e2-0bee-4a1a-bb9b-8eb4f38b0dfa\" xlink:type=\"simple\"><polygon fill=\"#FFFFFF\" points=\"16,6,156,6,163,28.2969,467,28.2969,467,437,16,437,16,6\" style=\"stroke: #000000; stroke-width: 1.5;\"/><line style=\"stroke: #000000; stroke-width: 1.5;\" x1=\"16\" x2=\"163\" y1=\"28.2969\" y2=\"28.2969\"/><text fill=\"#000000\" font-family=\"sans-serif\" font-size=\"14\" font-weight=\"bold\" lengthAdjust=\"spacingAndGlyphs\" textLength=\"134\" x=\"20\" y=\"20.9951\">DependencyTest</text></a><!--MD5=[e4f7fae6ed58524ba242bb0b0d3be6b7]\n",
       "cluster E2--><a href=\"psysml:50d5e3ed-2307-46ca-b041-8429ee229b8d\" target=\"_top\" title=\"psysml:50d5e3ed-2307-46ca-b041-8429ee229b8d\" xlink:actuate=\"onRequest\" xlink:href=\"psysml:50d5e3ed-2307-46ca-b041-8429ee229b8d\" xlink:show=\"new\" xlink:title=\"psysml:50d5e3ed-2307-46ca-b041-8429ee229b8d\" xlink:type=\"simple\"><polygon fill=\"#FFFFFF\" points=\"255,49,319,49,326,71.2969,443,71.2969,443,413,255,413,255,49\" style=\"stroke: #000000; stroke-width: 1.5;\"/><line style=\"stroke: #000000; stroke-width: 1.5;\" x1=\"255\" x2=\"326\" y1=\"71.2969\" y2=\"71.2969\"/><text fill=\"#000000\" font-family=\"sans-serif\" font-size=\"14\" font-weight=\"bold\" lengthAdjust=\"spacingAndGlyphs\" textLength=\"58\" x=\"259\" y=\"63.9951\">System</text></a><!--MD5=[60a26617385b1d2d0262a64233df1f8d]\n",
       "class E6--><a href=\"psysml:ee6e66ae-6a4f-4999-8c9e-f85171cea95e\" target=\"_top\" title=\"psysml:ee6e66ae-6a4f-4999-8c9e-f85171cea95e\" xlink:actuate=\"onRequest\" xlink:href=\"psysml:ee6e66ae-6a4f-4999-8c9e-f85171cea95e\" xlink:show=\"new\" xlink:title=\"psysml:ee6e66ae-6a4f-4999-8c9e-f85171cea95e\" xlink:type=\"simple\"><rect fill=\"#FFFFFF\" height=\"45.9375\" id=\"E6\" rx=\"10\" ry=\"10\" style=\"stroke: #383838; stroke-width: 1.5;\" width=\"71\" x=\"32.5\" y=\"217.5\"/><text fill=\"#000000\" font-family=\"sans-serif\" font-size=\"12\" font-style=\"italic\" lengthAdjust=\"spacingAndGlyphs\" textLength=\"69\" x=\"33.5\" y=\"233.6387\">«attribute»</text><text fill=\"#000000\" font-family=\"sans-serif\" font-size=\"12\" lengthAdjust=\"spacingAndGlyphs\" textLength=\"6\" x=\"65\" y=\"247.6074\">x</text><line style=\"stroke: #383838; stroke-width: 1.5;\" x1=\"33.5\" x2=\"102.5\" y1=\"255.4375\" y2=\"255.4375\"/></a><!--MD5=[2156ba9850f5573cc1fc38a6a4b2f02b]\n",
       "class E7--><a href=\"psysml:da3973fb-164e-4f16-bb62-2f8eaef60bc8\" target=\"_top\" title=\"psysml:da3973fb-164e-4f16-bb62-2f8eaef60bc8\" xlink:actuate=\"onRequest\" xlink:href=\"psysml:da3973fb-164e-4f16-bb62-2f8eaef60bc8\" xlink:show=\"new\" xlink:title=\"psysml:da3973fb-164e-4f16-bb62-2f8eaef60bc8\" xlink:type=\"simple\"><rect fill=\"#FFFFFF\" height=\"45.9375\" id=\"E7\" rx=\"10\" ry=\"10\" style=\"stroke: #383838; stroke-width: 1.5;\" width=\"71\" x=\"138.5\" y=\"217.5\"/><text fill=\"#000000\" font-family=\"sans-serif\" font-size=\"12\" font-style=\"italic\" lengthAdjust=\"spacingAndGlyphs\" textLength=\"69\" x=\"139.5\" y=\"233.6387\">«attribute»</text><text fill=\"#000000\" font-family=\"sans-serif\" font-size=\"12\" lengthAdjust=\"spacingAndGlyphs\" textLength=\"6\" x=\"171\" y=\"247.6074\">y</text><line style=\"stroke: #383838; stroke-width: 1.5;\" x1=\"139.5\" x2=\"208.5\" y1=\"255.4375\" y2=\"255.4375\"/></a><!--MD5=[b9389687b975829384b498ac4b7476b2]\n",
       "class E8--><a href=\"psysml:8698e020-730f-4ac9-88e5-943d82c20ca0\" target=\"_top\" title=\"psysml:8698e020-730f-4ac9-88e5-943d82c20ca0\" xlink:actuate=\"onRequest\" xlink:href=\"psysml:8698e020-730f-4ac9-88e5-943d82c20ca0\" xlink:show=\"new\" xlink:title=\"psysml:8698e020-730f-4ac9-88e5-943d82c20ca0\" xlink:type=\"simple\"><rect fill=\"#FFFFFF\" height=\"45.9375\" id=\"E8\" rx=\"10\" ry=\"10\" style=\"stroke: #383838; stroke-width: 1.5;\" width=\"71\" x=\"84.5\" y=\"87.5\"/><text fill=\"#000000\" font-family=\"sans-serif\" font-size=\"12\" font-style=\"italic\" lengthAdjust=\"spacingAndGlyphs\" textLength=\"69\" x=\"85.5\" y=\"103.6387\">«attribute»</text><text fill=\"#000000\" font-family=\"sans-serif\" font-size=\"12\" lengthAdjust=\"spacingAndGlyphs\" textLength=\"5\" x=\"117.5\" y=\"117.6074\">z</text><line style=\"stroke: #383838; stroke-width: 1.5;\" x1=\"85.5\" x2=\"154.5\" y1=\"125.4375\" y2=\"125.4375\"/></a><a href=\"psysml:bf62b3a1-f030-4eff-b8ce-ffbdff107a6f\" target=\"_top\" title=\"psysml:bf62b3a1-f030-4eff-b8ce-ffbdff107a6f\" xlink:actuate=\"onRequest\" xlink:href=\"psysml:bf62b3a1-f030-4eff-b8ce-ffbdff107a6f\" xlink:show=\"new\" xlink:title=\"psysml:bf62b3a1-f030-4eff-b8ce-ffbdff107a6f\" xlink:type=\"simple\"><polygon fill=\"#FFFFFF\" points=\"271,84,413,84,420,106.2969,427,106.2969,427,136.5938,271,136.5938,271,84\" style=\"stroke: #000000; stroke-width: 1.5;\"/><line style=\"stroke: #000000; stroke-width: 1.5;\" x1=\"271\" x2=\"420\" y1=\"106.2969\" y2=\"106.2969\"/><text fill=\"#000000\" font-family=\"sans-serif\" font-size=\"14\" font-weight=\"bold\" lengthAdjust=\"spacingAndGlyphs\" textLength=\"136\" x=\"275\" y=\"98.9951\">Application Layer</text></a><a href=\"psysml:471b2f11-dcf9-418e-881d-688bae838b3f\" target=\"_top\" title=\"psysml:471b2f11-dcf9-418e-881d-688bae838b3f\" xlink:actuate=\"onRequest\" xlink:href=\"psysml:471b2f11-dcf9-418e-881d-688bae838b3f\" xlink:show=\"new\" xlink:title=\"psysml:471b2f11-dcf9-418e-881d-688bae838b3f\" xlink:type=\"simple\"><polygon fill=\"#FFFFFF\" points=\"285,214,399,214,406,236.2969,413,236.2969,413,266.5938,285,266.5938,285,214\" style=\"stroke: #000000; stroke-width: 1.5;\"/><line style=\"stroke: #000000; stroke-width: 1.5;\" x1=\"285\" x2=\"406\" y1=\"236.2969\" y2=\"236.2969\"/><text fill=\"#000000\" font-family=\"sans-serif\" font-size=\"14\" font-weight=\"bold\" lengthAdjust=\"spacingAndGlyphs\" textLength=\"108\" x=\"289\" y=\"228.9951\">Service Layer</text></a><a href=\"psysml:da794142-8c7c-4611-9580-abeb242da5ef\" target=\"_top\" title=\"psysml:da794142-8c7c-4611-9580-abeb242da5ef\" xlink:actuate=\"onRequest\" xlink:href=\"psysml:da794142-8c7c-4611-9580-abeb242da5ef\" xlink:show=\"new\" xlink:title=\"psysml:da794142-8c7c-4611-9580-abeb242da5ef\" xlink:type=\"simple\"><polygon fill=\"#FFFFFF\" points=\"297,344,387,344,394,366.2969,401,366.2969,401,396.5938,297,396.5938,297,344\" style=\"stroke: #000000; stroke-width: 1.5;\"/><line style=\"stroke: #000000; stroke-width: 1.5;\" x1=\"297\" x2=\"394\" y1=\"366.2969\" y2=\"366.2969\"/><text fill=\"#000000\" font-family=\"sans-serif\" font-size=\"14\" font-weight=\"bold\" lengthAdjust=\"spacingAndGlyphs\" textLength=\"84\" x=\"301\" y=\"358.9951\">Data Layer</text></a><!--MD5=[af87c684e3b0d8be13c1a698a818ef1e]\n",
       "link E3 to E4--><a href=\"psysml:f56c438f-52f0-4453-9ce2-0999d9bfb233\" target=\"_top\" title=\"psysml:f56c438f-52f0-4453-9ce2-0999d9bfb233\" xlink:actuate=\"onRequest\" xlink:href=\"psysml:f56c438f-52f0-4453-9ce2-0999d9bfb233\" xlink:show=\"new\" xlink:title=\"psysml:f56c438f-52f0-4453-9ce2-0999d9bfb233\" xlink:type=\"simple\"><path d=\"M349,137.1 C349,156.8 349,184.22 349,205.73 \" fill=\"none\" id=\"E3-&gt;E4\" style=\"stroke: #383838; stroke-width: 1.0; stroke-dasharray: 7.0,7.0;\"/><polygon fill=\"#383838\" points=\"349,213.95,352,205.95,346,205.95,349,213.95\" style=\"stroke: #383838; stroke-width: 1.0;\"/><text fill=\"#000000\" font-family=\"sans-serif\" font-size=\"13\" lengthAdjust=\"spacingAndGlyphs\" textLength=\"64\" x=\"350\" y=\"180.0669\">«depend»</text></a><!--MD5=[1b7591eae5389033d8d09a9d6721a717]\n",
       "link E4 to E5--><a href=\"psysml:149727ef-4884-4150-ac87-83ab56bc940c\" target=\"_top\" title=\"psysml:149727ef-4884-4150-ac87-83ab56bc940c\" xlink:actuate=\"onRequest\" xlink:href=\"psysml:149727ef-4884-4150-ac87-83ab56bc940c\" xlink:show=\"new\" xlink:title=\"psysml:149727ef-4884-4150-ac87-83ab56bc940c\" xlink:type=\"simple\"><path d=\"M349,267.1 C349,286.8 349,314.22 349,335.73 \" fill=\"none\" id=\"E4-&gt;E5\" style=\"stroke: #383838; stroke-width: 1.0; stroke-dasharray: 7.0,7.0;\"/><polygon fill=\"#383838\" points=\"349,343.95,352,335.95,346,335.95,349,343.95\" style=\"stroke: #383838; stroke-width: 1.0;\"/><text fill=\"#000000\" font-family=\"sans-serif\" font-size=\"13\" lengthAdjust=\"spacingAndGlyphs\" textLength=\"64\" x=\"350\" y=\"310.0669\">«depend»</text></a><!--MD5=[c5e8897d989ce984f93528998a7150fe]\n",
       "link E8 to E6--><a href=\"psysml:6d264d90-cc53-4d32-95c3-fe1ad979e012\" target=\"_top\" title=\"psysml:6d264d90-cc53-4d32-95c3-fe1ad979e012\" xlink:actuate=\"onRequest\" xlink:href=\"psysml:6d264d90-cc53-4d32-95c3-fe1ad979e012\" xlink:show=\"new\" xlink:title=\"psysml:6d264d90-cc53-4d32-95c3-fe1ad979e012\" xlink:type=\"simple\"><path d=\"M89.42,133.6 C79.35,142.68 69.37,154.11 64,167 C58.5,180.2 58.66,195.94 60.54,209.38 \" fill=\"none\" id=\"E8-&gt;E6\" style=\"stroke: #383838; stroke-width: 1.0; stroke-dasharray: 7.0,7.0;\"/><polygon fill=\"#383838\" points=\"61.9,217.4,63.517,209.0104,57.6018,210.0159,61.9,217.4\" style=\"stroke: #383838; stroke-width: 1.0;\"/><text fill=\"#000000\" font-family=\"sans-serif\" font-size=\"13\" lengthAdjust=\"spacingAndGlyphs\" textLength=\"64\" x=\"65\" y=\"180.0669\">«depend»</text></a><!--MD5=[bfa3c8b0d15052fdf50ae9310b491027]\n",
       "link E8 to E7--><a href=\"psysml:6d264d90-cc53-4d32-95c3-fe1ad979e012\" target=\"_top\" title=\"psysml:6d264d90-cc53-4d32-95c3-fe1ad979e012\" xlink:actuate=\"onRequest\" xlink:href=\"psysml:6d264d90-cc53-4d32-95c3-fe1ad979e012\" xlink:show=\"new\" xlink:title=\"psysml:6d264d90-cc53-4d32-95c3-fe1ad979e012\" xlink:type=\"simple\"><path d=\"M129.28,133.5 C138.17,154.57 151.64,186.5 161.47,209.81 \" fill=\"none\" id=\"E8-&gt;E7\" style=\"stroke: #383838; stroke-width: 1.0; stroke-dasharray: 7.0,7.0;\"/><polygon fill=\"#383838\" points=\"164.66,217.35,164.3241,208.8126,158.7933,211.1385,164.66,217.35\" style=\"stroke: #383838; stroke-width: 1.0;\"/><text fill=\"#000000\" font-family=\"sans-serif\" font-size=\"13\" lengthAdjust=\"spacingAndGlyphs\" textLength=\"64\" x=\"151\" y=\"180.0669\">«depend»</text></a><!--MD5=[caba88968434f6050405a169327c4d4d]\n",
       "@startuml\r\n",
       "top to bottom direction\r\n",
       "skinparam monochrome true\r\n",
       "skinparam classbackgroundcolor white\r\n",
       "skinparam shadowing false\r\n",
       "skinparam wrapWidth 300\r\n",
       "hide circle\r\n",
       "\r\n",
       "package \"DependencyTest\" as E1  [[psysml:d56232e2-0bee-4a1a-bb9b-8eb4f38b0dfa ]]  {\r\n",
       "package \"System\" as E2  [[psysml:50d5e3ed-2307-46ca-b041-8429ee229b8d ]]  {\r\n",
       "package \"Application Layer\" as E3  [[psysml:bf62b3a1-f030-4eff-b8ce-ffbdff107a6f ]]  {\r\n",
       "}\r\n",
       "package \"Service Layer\" as E4  [[psysml:471b2f11-dcf9-418e-881d-688bae838b3f ]]  {\r\n",
       "}\r\n",
       "package \"Data Layer\" as E5  [[psysml:da794142-8c7c-4611-9580-abeb242da5ef ]]  {\r\n",
       "}\r\n",
       "}\r\n",
       "comp usage \"x\" as E6  <<(T,blue)attribute>> [[psysml:ee6e66ae-6a4f-4999-8c9e-f85171cea95e ]] {\r\n",
       "}\r\n",
       "comp usage \"y\" as E7  <<(T,blue)attribute>> [[psysml:da3973fb-164e-4f16-bb62-2f8eaef60bc8 ]] {\r\n",
       "}\r\n",
       "comp usage \"z\" as E8  <<(T,blue)attribute>> [[psysml:8698e020-730f-4ac9-88e5-943d82c20ca0 ]] {\r\n",
       "}\r\n",
       "E3 ..>> E4 [[psysml:f56c438f-52f0-4453-9ce2-0999d9bfb233 ]] : <<depend>>\r\n",
       "E4 ..>> E5 [[psysml:149727ef-4884-4150-ac87-83ab56bc940c ]] : <<depend>>\r\n",
       "E8 ..>> E6 [[psysml:6d264d90-cc53-4d32-95c3-fe1ad979e012 ]] : <<depend>>\r\n",
       "E8 ..>> E7 [[psysml:6d264d90-cc53-4d32-95c3-fe1ad979e012 ]] : <<depend>>\r\n",
       "}\r\n",
       "@enduml\r\n",
       "\n",
       "PlantUML version 1.2020.13(Sat Jun 13 12:26:38 UTC 2020)\n",
       "(EPL source distribution)\n",
       "Java Runtime: OpenJDK Runtime Environment\n",
       "JVM: OpenJDK 64-Bit Server VM\n",
       "Default Encoding: UTF-8\n",
       "Language: en\n",
       "Country: null\n",
       "--></g></svg>"
      ]
     },
     "execution_count": 44,
     "metadata": {},
     "output_type": "execute_result"
    }
   ],
   "source": [
    "%viz --style=\"TB\" --view=\"Default\" \"DependencyTest\""
   ]
  },
  {
   "cell_type": "code",
   "execution_count": 45,
   "id": "20d11a1f",
   "metadata": {
    "execution": {
     "iopub.execute_input": "2021-04-20T07:32:20.474492Z",
     "iopub.status.busy": "2021-04-20T07:32:20.474049Z",
     "iopub.status.idle": "2021-04-20T07:32:20.504633Z",
     "shell.execute_reply": "2021-04-20T07:32:20.504363Z"
    }
   },
   "outputs": [
    {
     "data": {
      "image/svg+xml": [
       "<?xml version=\"1.0\" encoding=\"UTF-8\" standalone=\"no\"?><svg xmlns=\"http://www.w3.org/2000/svg\" xmlns:xlink=\"http://www.w3.org/1999/xlink\" contentScriptType=\"application/ecmascript\" contentStyleType=\"text/css\" height=\"449px\" preserveAspectRatio=\"none\" style=\"width:489px;height:449px;\" version=\"1.1\" viewBox=\"0 0 489 449\" width=\"489px\" zoomAndPan=\"magnify\"><defs/><g><!--MD5=[fbc87193dbaf4d95561dea2c320d4a47]\n",
       "cluster E1--><a href=\"psysml:d56232e2-0bee-4a1a-bb9b-8eb4f38b0dfa\" target=\"_top\" title=\"psysml:d56232e2-0bee-4a1a-bb9b-8eb4f38b0dfa\" xlink:actuate=\"onRequest\" xlink:href=\"psysml:d56232e2-0bee-4a1a-bb9b-8eb4f38b0dfa\" xlink:show=\"new\" xlink:title=\"psysml:d56232e2-0bee-4a1a-bb9b-8eb4f38b0dfa\" xlink:type=\"simple\"><polygon fill=\"#FFFFFF\" points=\"16,6,156,6,163,28.2969,467,28.2969,467,437,16,437,16,6\" style=\"stroke: #000000; stroke-width: 1.5;\"/><line style=\"stroke: #000000; stroke-width: 1.5;\" x1=\"16\" x2=\"163\" y1=\"28.2969\" y2=\"28.2969\"/><text fill=\"#000000\" font-family=\"sans-serif\" font-size=\"14\" font-weight=\"bold\" lengthAdjust=\"spacingAndGlyphs\" textLength=\"134\" x=\"20\" y=\"20.9951\">DependencyTest</text></a><!--MD5=[e4f7fae6ed58524ba242bb0b0d3be6b7]\n",
       "cluster E2--><a href=\"psysml:50d5e3ed-2307-46ca-b041-8429ee229b8d\" target=\"_top\" title=\"psysml:50d5e3ed-2307-46ca-b041-8429ee229b8d\" xlink:actuate=\"onRequest\" xlink:href=\"psysml:50d5e3ed-2307-46ca-b041-8429ee229b8d\" xlink:show=\"new\" xlink:title=\"psysml:50d5e3ed-2307-46ca-b041-8429ee229b8d\" xlink:type=\"simple\"><polygon fill=\"#FFFFFF\" points=\"255,49,319,49,326,71.2969,443,71.2969,443,413,255,413,255,49\" style=\"stroke: #000000; stroke-width: 1.5;\"/><line style=\"stroke: #000000; stroke-width: 1.5;\" x1=\"255\" x2=\"326\" y1=\"71.2969\" y2=\"71.2969\"/><text fill=\"#000000\" font-family=\"sans-serif\" font-size=\"14\" font-weight=\"bold\" lengthAdjust=\"spacingAndGlyphs\" textLength=\"58\" x=\"259\" y=\"63.9951\">System</text></a><!--MD5=[60a26617385b1d2d0262a64233df1f8d]\n",
       "class E6--><a href=\"psysml:ee6e66ae-6a4f-4999-8c9e-f85171cea95e\" target=\"_top\" title=\"psysml:ee6e66ae-6a4f-4999-8c9e-f85171cea95e\" xlink:actuate=\"onRequest\" xlink:href=\"psysml:ee6e66ae-6a4f-4999-8c9e-f85171cea95e\" xlink:show=\"new\" xlink:title=\"psysml:ee6e66ae-6a4f-4999-8c9e-f85171cea95e\" xlink:type=\"simple\"><rect fill=\"#FFFFFF\" height=\"45.9375\" id=\"E6\" rx=\"10\" ry=\"10\" style=\"stroke: #383838; stroke-width: 1.5;\" width=\"71\" x=\"32.5\" y=\"217.5\"/><text fill=\"#000000\" font-family=\"sans-serif\" font-size=\"12\" font-style=\"italic\" lengthAdjust=\"spacingAndGlyphs\" textLength=\"69\" x=\"33.5\" y=\"233.6387\">«attribute»</text><text fill=\"#000000\" font-family=\"sans-serif\" font-size=\"12\" lengthAdjust=\"spacingAndGlyphs\" textLength=\"6\" x=\"65\" y=\"247.6074\">x</text><line style=\"stroke: #383838; stroke-width: 1.5;\" x1=\"33.5\" x2=\"102.5\" y1=\"255.4375\" y2=\"255.4375\"/></a><!--MD5=[2156ba9850f5573cc1fc38a6a4b2f02b]\n",
       "class E7--><a href=\"psysml:da3973fb-164e-4f16-bb62-2f8eaef60bc8\" target=\"_top\" title=\"psysml:da3973fb-164e-4f16-bb62-2f8eaef60bc8\" xlink:actuate=\"onRequest\" xlink:href=\"psysml:da3973fb-164e-4f16-bb62-2f8eaef60bc8\" xlink:show=\"new\" xlink:title=\"psysml:da3973fb-164e-4f16-bb62-2f8eaef60bc8\" xlink:type=\"simple\"><rect fill=\"#FFFFFF\" height=\"45.9375\" id=\"E7\" rx=\"10\" ry=\"10\" style=\"stroke: #383838; stroke-width: 1.5;\" width=\"71\" x=\"138.5\" y=\"217.5\"/><text fill=\"#000000\" font-family=\"sans-serif\" font-size=\"12\" font-style=\"italic\" lengthAdjust=\"spacingAndGlyphs\" textLength=\"69\" x=\"139.5\" y=\"233.6387\">«attribute»</text><text fill=\"#000000\" font-family=\"sans-serif\" font-size=\"12\" lengthAdjust=\"spacingAndGlyphs\" textLength=\"6\" x=\"171\" y=\"247.6074\">y</text><line style=\"stroke: #383838; stroke-width: 1.5;\" x1=\"139.5\" x2=\"208.5\" y1=\"255.4375\" y2=\"255.4375\"/></a><!--MD5=[b9389687b975829384b498ac4b7476b2]\n",
       "class E8--><a href=\"psysml:8698e020-730f-4ac9-88e5-943d82c20ca0\" target=\"_top\" title=\"psysml:8698e020-730f-4ac9-88e5-943d82c20ca0\" xlink:actuate=\"onRequest\" xlink:href=\"psysml:8698e020-730f-4ac9-88e5-943d82c20ca0\" xlink:show=\"new\" xlink:title=\"psysml:8698e020-730f-4ac9-88e5-943d82c20ca0\" xlink:type=\"simple\"><rect fill=\"#FFFFFF\" height=\"45.9375\" id=\"E8\" rx=\"10\" ry=\"10\" style=\"stroke: #383838; stroke-width: 1.5;\" width=\"71\" x=\"84.5\" y=\"87.5\"/><text fill=\"#000000\" font-family=\"sans-serif\" font-size=\"12\" font-style=\"italic\" lengthAdjust=\"spacingAndGlyphs\" textLength=\"69\" x=\"85.5\" y=\"103.6387\">«attribute»</text><text fill=\"#000000\" font-family=\"sans-serif\" font-size=\"12\" lengthAdjust=\"spacingAndGlyphs\" textLength=\"5\" x=\"117.5\" y=\"117.6074\">z</text><line style=\"stroke: #383838; stroke-width: 1.5;\" x1=\"85.5\" x2=\"154.5\" y1=\"125.4375\" y2=\"125.4375\"/></a><a href=\"psysml:bf62b3a1-f030-4eff-b8ce-ffbdff107a6f\" target=\"_top\" title=\"psysml:bf62b3a1-f030-4eff-b8ce-ffbdff107a6f\" xlink:actuate=\"onRequest\" xlink:href=\"psysml:bf62b3a1-f030-4eff-b8ce-ffbdff107a6f\" xlink:show=\"new\" xlink:title=\"psysml:bf62b3a1-f030-4eff-b8ce-ffbdff107a6f\" xlink:type=\"simple\"><polygon fill=\"#FFFFFF\" points=\"271,84,413,84,420,106.2969,427,106.2969,427,136.5938,271,136.5938,271,84\" style=\"stroke: #000000; stroke-width: 1.5;\"/><line style=\"stroke: #000000; stroke-width: 1.5;\" x1=\"271\" x2=\"420\" y1=\"106.2969\" y2=\"106.2969\"/><text fill=\"#000000\" font-family=\"sans-serif\" font-size=\"14\" font-weight=\"bold\" lengthAdjust=\"spacingAndGlyphs\" textLength=\"136\" x=\"275\" y=\"98.9951\">Application Layer</text></a><a href=\"psysml:471b2f11-dcf9-418e-881d-688bae838b3f\" target=\"_top\" title=\"psysml:471b2f11-dcf9-418e-881d-688bae838b3f\" xlink:actuate=\"onRequest\" xlink:href=\"psysml:471b2f11-dcf9-418e-881d-688bae838b3f\" xlink:show=\"new\" xlink:title=\"psysml:471b2f11-dcf9-418e-881d-688bae838b3f\" xlink:type=\"simple\"><polygon fill=\"#FFFFFF\" points=\"285,214,399,214,406,236.2969,413,236.2969,413,266.5938,285,266.5938,285,214\" style=\"stroke: #000000; stroke-width: 1.5;\"/><line style=\"stroke: #000000; stroke-width: 1.5;\" x1=\"285\" x2=\"406\" y1=\"236.2969\" y2=\"236.2969\"/><text fill=\"#000000\" font-family=\"sans-serif\" font-size=\"14\" font-weight=\"bold\" lengthAdjust=\"spacingAndGlyphs\" textLength=\"108\" x=\"289\" y=\"228.9951\">Service Layer</text></a><a href=\"psysml:da794142-8c7c-4611-9580-abeb242da5ef\" target=\"_top\" title=\"psysml:da794142-8c7c-4611-9580-abeb242da5ef\" xlink:actuate=\"onRequest\" xlink:href=\"psysml:da794142-8c7c-4611-9580-abeb242da5ef\" xlink:show=\"new\" xlink:title=\"psysml:da794142-8c7c-4611-9580-abeb242da5ef\" xlink:type=\"simple\"><polygon fill=\"#FFFFFF\" points=\"297,344,387,344,394,366.2969,401,366.2969,401,396.5938,297,396.5938,297,344\" style=\"stroke: #000000; stroke-width: 1.5;\"/><line style=\"stroke: #000000; stroke-width: 1.5;\" x1=\"297\" x2=\"394\" y1=\"366.2969\" y2=\"366.2969\"/><text fill=\"#000000\" font-family=\"sans-serif\" font-size=\"14\" font-weight=\"bold\" lengthAdjust=\"spacingAndGlyphs\" textLength=\"84\" x=\"301\" y=\"358.9951\">Data Layer</text></a><!--MD5=[af87c684e3b0d8be13c1a698a818ef1e]\n",
       "link E3 to E4--><a href=\"psysml:f56c438f-52f0-4453-9ce2-0999d9bfb233\" target=\"_top\" title=\"psysml:f56c438f-52f0-4453-9ce2-0999d9bfb233\" xlink:actuate=\"onRequest\" xlink:href=\"psysml:f56c438f-52f0-4453-9ce2-0999d9bfb233\" xlink:show=\"new\" xlink:title=\"psysml:f56c438f-52f0-4453-9ce2-0999d9bfb233\" xlink:type=\"simple\"><path d=\"M349,137.1 C349,156.8 349,184.22 349,205.73 \" fill=\"none\" id=\"E3-&gt;E4\" style=\"stroke: #383838; stroke-width: 1.0; stroke-dasharray: 7.0,7.0;\"/><polygon fill=\"#383838\" points=\"349,213.95,352,205.95,346,205.95,349,213.95\" style=\"stroke: #383838; stroke-width: 1.0;\"/><text fill=\"#000000\" font-family=\"sans-serif\" font-size=\"13\" lengthAdjust=\"spacingAndGlyphs\" textLength=\"64\" x=\"350\" y=\"180.0669\">«depend»</text></a><!--MD5=[1b7591eae5389033d8d09a9d6721a717]\n",
       "link E4 to E5--><a href=\"psysml:149727ef-4884-4150-ac87-83ab56bc940c\" target=\"_top\" title=\"psysml:149727ef-4884-4150-ac87-83ab56bc940c\" xlink:actuate=\"onRequest\" xlink:href=\"psysml:149727ef-4884-4150-ac87-83ab56bc940c\" xlink:show=\"new\" xlink:title=\"psysml:149727ef-4884-4150-ac87-83ab56bc940c\" xlink:type=\"simple\"><path d=\"M349,267.1 C349,286.8 349,314.22 349,335.73 \" fill=\"none\" id=\"E4-&gt;E5\" style=\"stroke: #383838; stroke-width: 1.0; stroke-dasharray: 7.0,7.0;\"/><polygon fill=\"#383838\" points=\"349,343.95,352,335.95,346,335.95,349,343.95\" style=\"stroke: #383838; stroke-width: 1.0;\"/><text fill=\"#000000\" font-family=\"sans-serif\" font-size=\"13\" lengthAdjust=\"spacingAndGlyphs\" textLength=\"64\" x=\"350\" y=\"310.0669\">«depend»</text></a><!--MD5=[c5e8897d989ce984f93528998a7150fe]\n",
       "link E8 to E6--><a href=\"psysml:6d264d90-cc53-4d32-95c3-fe1ad979e012\" target=\"_top\" title=\"psysml:6d264d90-cc53-4d32-95c3-fe1ad979e012\" xlink:actuate=\"onRequest\" xlink:href=\"psysml:6d264d90-cc53-4d32-95c3-fe1ad979e012\" xlink:show=\"new\" xlink:title=\"psysml:6d264d90-cc53-4d32-95c3-fe1ad979e012\" xlink:type=\"simple\"><path d=\"M89.42,133.6 C79.35,142.68 69.37,154.11 64,167 C58.5,180.2 58.66,195.94 60.54,209.38 \" fill=\"none\" id=\"E8-&gt;E6\" style=\"stroke: #383838; stroke-width: 1.0; stroke-dasharray: 7.0,7.0;\"/><polygon fill=\"#383838\" points=\"61.9,217.4,63.517,209.0104,57.6018,210.0159,61.9,217.4\" style=\"stroke: #383838; stroke-width: 1.0;\"/><text fill=\"#000000\" font-family=\"sans-serif\" font-size=\"13\" lengthAdjust=\"spacingAndGlyphs\" textLength=\"64\" x=\"65\" y=\"180.0669\">«depend»</text></a><!--MD5=[bfa3c8b0d15052fdf50ae9310b491027]\n",
       "link E8 to E7--><a href=\"psysml:6d264d90-cc53-4d32-95c3-fe1ad979e012\" target=\"_top\" title=\"psysml:6d264d90-cc53-4d32-95c3-fe1ad979e012\" xlink:actuate=\"onRequest\" xlink:href=\"psysml:6d264d90-cc53-4d32-95c3-fe1ad979e012\" xlink:show=\"new\" xlink:title=\"psysml:6d264d90-cc53-4d32-95c3-fe1ad979e012\" xlink:type=\"simple\"><path d=\"M129.28,133.5 C138.17,154.57 151.64,186.5 161.47,209.81 \" fill=\"none\" id=\"E8-&gt;E7\" style=\"stroke: #383838; stroke-width: 1.0; stroke-dasharray: 7.0,7.0;\"/><polygon fill=\"#383838\" points=\"164.66,217.35,164.3241,208.8126,158.7933,211.1385,164.66,217.35\" style=\"stroke: #383838; stroke-width: 1.0;\"/><text fill=\"#000000\" font-family=\"sans-serif\" font-size=\"13\" lengthAdjust=\"spacingAndGlyphs\" textLength=\"64\" x=\"151\" y=\"180.0669\">«depend»</text></a><!--MD5=[caba88968434f6050405a169327c4d4d]\n",
       "@startuml\r\n",
       "top to bottom direction\r\n",
       "skinparam monochrome true\r\n",
       "skinparam classbackgroundcolor white\r\n",
       "skinparam shadowing false\r\n",
       "skinparam wrapWidth 300\r\n",
       "hide circle\r\n",
       "\r\n",
       "package \"DependencyTest\" as E1  [[psysml:d56232e2-0bee-4a1a-bb9b-8eb4f38b0dfa ]]  {\r\n",
       "package \"System\" as E2  [[psysml:50d5e3ed-2307-46ca-b041-8429ee229b8d ]]  {\r\n",
       "package \"Application Layer\" as E3  [[psysml:bf62b3a1-f030-4eff-b8ce-ffbdff107a6f ]]  {\r\n",
       "}\r\n",
       "package \"Service Layer\" as E4  [[psysml:471b2f11-dcf9-418e-881d-688bae838b3f ]]  {\r\n",
       "}\r\n",
       "package \"Data Layer\" as E5  [[psysml:da794142-8c7c-4611-9580-abeb242da5ef ]]  {\r\n",
       "}\r\n",
       "}\r\n",
       "comp usage \"x\" as E6  <<(T,blue)attribute>> [[psysml:ee6e66ae-6a4f-4999-8c9e-f85171cea95e ]] {\r\n",
       "}\r\n",
       "comp usage \"y\" as E7  <<(T,blue)attribute>> [[psysml:da3973fb-164e-4f16-bb62-2f8eaef60bc8 ]] {\r\n",
       "}\r\n",
       "comp usage \"z\" as E8  <<(T,blue)attribute>> [[psysml:8698e020-730f-4ac9-88e5-943d82c20ca0 ]] {\r\n",
       "}\r\n",
       "E3 ..>> E4 [[psysml:f56c438f-52f0-4453-9ce2-0999d9bfb233 ]] : <<depend>>\r\n",
       "E4 ..>> E5 [[psysml:149727ef-4884-4150-ac87-83ab56bc940c ]] : <<depend>>\r\n",
       "E8 ..>> E6 [[psysml:6d264d90-cc53-4d32-95c3-fe1ad979e012 ]] : <<depend>>\r\n",
       "E8 ..>> E7 [[psysml:6d264d90-cc53-4d32-95c3-fe1ad979e012 ]] : <<depend>>\r\n",
       "}\r\n",
       "@enduml\r\n",
       "\n",
       "PlantUML version 1.2020.13(Sat Jun 13 12:26:38 UTC 2020)\n",
       "(EPL source distribution)\n",
       "Java Runtime: OpenJDK Runtime Environment\n",
       "JVM: OpenJDK 64-Bit Server VM\n",
       "Default Encoding: UTF-8\n",
       "Language: en\n",
       "Country: null\n",
       "--></g></svg>"
      ]
     },
     "execution_count": 45,
     "metadata": {},
     "output_type": "execute_result"
    }
   ],
   "source": [
    "%viz --style=\"TB\" --view=\"Tree\" \"DependencyTest\""
   ]
  },
  {
   "cell_type": "code",
   "execution_count": 46,
   "id": "cfd1b9e7",
   "metadata": {
    "execution": {
     "iopub.execute_input": "2021-04-20T07:32:20.554959Z",
     "iopub.status.busy": "2021-04-20T07:32:20.554536Z",
     "iopub.status.idle": "2021-04-20T07:32:20.558943Z",
     "shell.execute_reply": "2021-04-20T07:32:20.558613Z"
    }
   },
   "outputs": [
    {
     "data": {
      "image/svg+xml": [
       "<?xml version=\"1.0\" encoding=\"UTF-8\" standalone=\"no\"?><svg xmlns=\"http://www.w3.org/2000/svg\" xmlns:xlink=\"http://www.w3.org/1999/xlink\" contentScriptType=\"application/ecmascript\" contentStyleType=\"text/css\" height=\"12px\" preserveAspectRatio=\"none\" style=\"width:12px;height:12px;\" version=\"1.1\" viewBox=\"0 0 12 12\" width=\"12px\" zoomAndPan=\"magnify\"><defs/><g><!--MD5=[f4ee21bc66e489b5061b7c3e9601fdef]\n",
       "@startuml\r\n",
       "top to bottom direction\r\n",
       "skinparam monochrome true\r\n",
       "skinparam classbackgroundcolor white\r\n",
       "skinparam shadowing false\r\n",
       "skinparam wrapWidth 300\r\n",
       "hide circle\r\n",
       "\r\n",
       "@enduml\r\n",
       "\n",
       "PlantUML version 1.2020.13(Sat Jun 13 12:26:38 UTC 2020)\n",
       "(EPL source distribution)\n",
       "Java Runtime: OpenJDK Runtime Environment\n",
       "JVM: OpenJDK 64-Bit Server VM\n",
       "Default Encoding: UTF-8\n",
       "Language: en\n",
       "Country: null\n",
       "--></g></svg>"
      ]
     },
     "execution_count": 46,
     "metadata": {},
     "output_type": "execute_result"
    }
   ],
   "source": [
    "%viz --style=\"TB\" --view=\"State\" \"DependencyTest\""
   ]
  },
  {
   "cell_type": "code",
   "execution_count": 47,
   "id": "11c68be5",
   "metadata": {
    "execution": {
     "iopub.execute_input": "2021-04-20T07:32:20.610741Z",
     "iopub.status.busy": "2021-04-20T07:32:20.609942Z",
     "iopub.status.idle": "2021-04-20T07:32:20.667977Z",
     "shell.execute_reply": "2021-04-20T07:32:20.667311Z"
    }
   },
   "outputs": [
    {
     "data": {
      "image/svg+xml": [
       "<?xml version=\"1.0\" encoding=\"UTF-8\" standalone=\"no\"?><svg xmlns=\"http://www.w3.org/2000/svg\" xmlns:xlink=\"http://www.w3.org/1999/xlink\" contentScriptType=\"application/ecmascript\" contentStyleType=\"text/css\" height=\"361px\" preserveAspectRatio=\"none\" style=\"width:489px;height:361px;\" version=\"1.1\" viewBox=\"0 0 489 361\" width=\"489px\" zoomAndPan=\"magnify\"><defs/><g><!--MD5=[fbc87193dbaf4d95561dea2c320d4a47]\n",
       "cluster E1--><a href=\"psysml:d56232e2-0bee-4a1a-bb9b-8eb4f38b0dfa\" target=\"_top\" title=\"psysml:d56232e2-0bee-4a1a-bb9b-8eb4f38b0dfa\" xlink:actuate=\"onRequest\" xlink:href=\"psysml:d56232e2-0bee-4a1a-bb9b-8eb4f38b0dfa\" xlink:show=\"new\" xlink:title=\"psysml:d56232e2-0bee-4a1a-bb9b-8eb4f38b0dfa\" xlink:type=\"simple\"><polygon fill=\"#FFFFFF\" points=\"16,6,156,6,163,28.2969,467,28.2969,467,349,16,349,16,6\" style=\"stroke: #000000; stroke-width: 1.5;\"/><line style=\"stroke: #000000; stroke-width: 1.5;\" x1=\"16\" x2=\"163\" y1=\"28.2969\" y2=\"28.2969\"/><text fill=\"#000000\" font-family=\"sans-serif\" font-size=\"14\" font-weight=\"bold\" lengthAdjust=\"spacingAndGlyphs\" textLength=\"134\" x=\"20\" y=\"20.9951\">DependencyTest</text></a><!--MD5=[e4f7fae6ed58524ba242bb0b0d3be6b7]\n",
       "cluster E2--><a href=\"psysml:50d5e3ed-2307-46ca-b041-8429ee229b8d\" target=\"_top\" title=\"psysml:50d5e3ed-2307-46ca-b041-8429ee229b8d\" xlink:actuate=\"onRequest\" xlink:href=\"psysml:50d5e3ed-2307-46ca-b041-8429ee229b8d\" xlink:show=\"new\" xlink:title=\"psysml:50d5e3ed-2307-46ca-b041-8429ee229b8d\" xlink:type=\"simple\"><polygon fill=\"#FFFFFF\" points=\"255,49,319,49,326,71.2969,443,71.2969,443,325,255,325,255,49\" style=\"stroke: #000000; stroke-width: 1.5;\"/><line style=\"stroke: #000000; stroke-width: 1.5;\" x1=\"255\" x2=\"326\" y1=\"71.2969\" y2=\"71.2969\"/><text fill=\"#000000\" font-family=\"sans-serif\" font-size=\"14\" font-weight=\"bold\" lengthAdjust=\"spacingAndGlyphs\" textLength=\"58\" x=\"259\" y=\"63.9951\">System</text></a><!--MD5=[60a26617385b1d2d0262a64233df1f8d]\n",
       "class E6--><a href=\"psysml:ee6e66ae-6a4f-4999-8c9e-f85171cea95e\" target=\"_top\" title=\"psysml:ee6e66ae-6a4f-4999-8c9e-f85171cea95e\" xlink:actuate=\"onRequest\" xlink:href=\"psysml:ee6e66ae-6a4f-4999-8c9e-f85171cea95e\" xlink:show=\"new\" xlink:title=\"psysml:ee6e66ae-6a4f-4999-8c9e-f85171cea95e\" xlink:type=\"simple\"><rect fill=\"#FFFFFF\" height=\"45.9375\" id=\"E6\" rx=\"10\" ry=\"10\" style=\"stroke: #383838; stroke-width: 1.5;\" width=\"71\" x=\"32.5\" y=\"173.5\"/><text fill=\"#000000\" font-family=\"sans-serif\" font-size=\"12\" font-style=\"italic\" lengthAdjust=\"spacingAndGlyphs\" textLength=\"69\" x=\"33.5\" y=\"189.6387\">«attribute»</text><text fill=\"#000000\" font-family=\"sans-serif\" font-size=\"12\" lengthAdjust=\"spacingAndGlyphs\" textLength=\"6\" x=\"65\" y=\"203.6074\">x</text><line style=\"stroke: #383838; stroke-width: 1.5;\" x1=\"33.5\" x2=\"102.5\" y1=\"211.4375\" y2=\"211.4375\"/></a><!--MD5=[2156ba9850f5573cc1fc38a6a4b2f02b]\n",
       "class E7--><a href=\"psysml:da3973fb-164e-4f16-bb62-2f8eaef60bc8\" target=\"_top\" title=\"psysml:da3973fb-164e-4f16-bb62-2f8eaef60bc8\" xlink:actuate=\"onRequest\" xlink:href=\"psysml:da3973fb-164e-4f16-bb62-2f8eaef60bc8\" xlink:show=\"new\" xlink:title=\"psysml:da3973fb-164e-4f16-bb62-2f8eaef60bc8\" xlink:type=\"simple\"><rect fill=\"#FFFFFF\" height=\"45.9375\" id=\"E7\" rx=\"10\" ry=\"10\" style=\"stroke: #383838; stroke-width: 1.5;\" width=\"71\" x=\"138.5\" y=\"173.5\"/><text fill=\"#000000\" font-family=\"sans-serif\" font-size=\"12\" font-style=\"italic\" lengthAdjust=\"spacingAndGlyphs\" textLength=\"69\" x=\"139.5\" y=\"189.6387\">«attribute»</text><text fill=\"#000000\" font-family=\"sans-serif\" font-size=\"12\" lengthAdjust=\"spacingAndGlyphs\" textLength=\"6\" x=\"171\" y=\"203.6074\">y</text><line style=\"stroke: #383838; stroke-width: 1.5;\" x1=\"139.5\" x2=\"208.5\" y1=\"211.4375\" y2=\"211.4375\"/></a><!--MD5=[b9389687b975829384b498ac4b7476b2]\n",
       "class E8--><a href=\"psysml:8698e020-730f-4ac9-88e5-943d82c20ca0\" target=\"_top\" title=\"psysml:8698e020-730f-4ac9-88e5-943d82c20ca0\" xlink:actuate=\"onRequest\" xlink:href=\"psysml:8698e020-730f-4ac9-88e5-943d82c20ca0\" xlink:show=\"new\" xlink:title=\"psysml:8698e020-730f-4ac9-88e5-943d82c20ca0\" xlink:type=\"simple\"><rect fill=\"#FFFFFF\" height=\"45.9375\" id=\"E8\" rx=\"10\" ry=\"10\" style=\"stroke: #383838; stroke-width: 1.5;\" width=\"71\" x=\"84.5\" y=\"87.5\"/><text fill=\"#000000\" font-family=\"sans-serif\" font-size=\"12\" font-style=\"italic\" lengthAdjust=\"spacingAndGlyphs\" textLength=\"69\" x=\"85.5\" y=\"103.6387\">«attribute»</text><text fill=\"#000000\" font-family=\"sans-serif\" font-size=\"12\" lengthAdjust=\"spacingAndGlyphs\" textLength=\"5\" x=\"117.5\" y=\"117.6074\">z</text><line style=\"stroke: #383838; stroke-width: 1.5;\" x1=\"85.5\" x2=\"154.5\" y1=\"125.4375\" y2=\"125.4375\"/></a><a href=\"psysml:bf62b3a1-f030-4eff-b8ce-ffbdff107a6f\" target=\"_top\" title=\"psysml:bf62b3a1-f030-4eff-b8ce-ffbdff107a6f\" xlink:actuate=\"onRequest\" xlink:href=\"psysml:bf62b3a1-f030-4eff-b8ce-ffbdff107a6f\" xlink:show=\"new\" xlink:title=\"psysml:bf62b3a1-f030-4eff-b8ce-ffbdff107a6f\" xlink:type=\"simple\"><polygon fill=\"#FFFFFF\" points=\"271,84,413,84,420,106.2969,427,106.2969,427,136.5938,271,136.5938,271,84\" style=\"stroke: #000000; stroke-width: 1.5;\"/><line style=\"stroke: #000000; stroke-width: 1.5;\" x1=\"271\" x2=\"420\" y1=\"106.2969\" y2=\"106.2969\"/><text fill=\"#000000\" font-family=\"sans-serif\" font-size=\"14\" font-weight=\"bold\" lengthAdjust=\"spacingAndGlyphs\" textLength=\"136\" x=\"275\" y=\"98.9951\">Application Layer</text></a><a href=\"psysml:471b2f11-dcf9-418e-881d-688bae838b3f\" target=\"_top\" title=\"psysml:471b2f11-dcf9-418e-881d-688bae838b3f\" xlink:actuate=\"onRequest\" xlink:href=\"psysml:471b2f11-dcf9-418e-881d-688bae838b3f\" xlink:show=\"new\" xlink:title=\"psysml:471b2f11-dcf9-418e-881d-688bae838b3f\" xlink:type=\"simple\"><polygon fill=\"#FFFFFF\" points=\"285,170,399,170,406,192.2969,413,192.2969,413,222.5938,285,222.5938,285,170\" style=\"stroke: #000000; stroke-width: 1.5;\"/><line style=\"stroke: #000000; stroke-width: 1.5;\" x1=\"285\" x2=\"406\" y1=\"192.2969\" y2=\"192.2969\"/><text fill=\"#000000\" font-family=\"sans-serif\" font-size=\"14\" font-weight=\"bold\" lengthAdjust=\"spacingAndGlyphs\" textLength=\"108\" x=\"289\" y=\"184.9951\">Service Layer</text></a><a href=\"psysml:da794142-8c7c-4611-9580-abeb242da5ef\" target=\"_top\" title=\"psysml:da794142-8c7c-4611-9580-abeb242da5ef\" xlink:actuate=\"onRequest\" xlink:href=\"psysml:da794142-8c7c-4611-9580-abeb242da5ef\" xlink:show=\"new\" xlink:title=\"psysml:da794142-8c7c-4611-9580-abeb242da5ef\" xlink:type=\"simple\"><polygon fill=\"#FFFFFF\" points=\"297,256,387,256,394,278.2969,401,278.2969,401,308.5938,297,308.5938,297,256\" style=\"stroke: #000000; stroke-width: 1.5;\"/><line style=\"stroke: #000000; stroke-width: 1.5;\" x1=\"297\" x2=\"394\" y1=\"278.2969\" y2=\"278.2969\"/><text fill=\"#000000\" font-family=\"sans-serif\" font-size=\"14\" font-weight=\"bold\" lengthAdjust=\"spacingAndGlyphs\" textLength=\"84\" x=\"301\" y=\"270.9951\">Data Layer</text></a><!--MD5=[af87c684e3b0d8be13c1a698a818ef1e]\n",
       "link E3 to E4--><a href=\"psysml:f56c438f-52f0-4453-9ce2-0999d9bfb233\" target=\"_top\" title=\"psysml:f56c438f-52f0-4453-9ce2-0999d9bfb233\" xlink:actuate=\"onRequest\" xlink:href=\"psysml:f56c438f-52f0-4453-9ce2-0999d9bfb233\" xlink:show=\"new\" xlink:title=\"psysml:f56c438f-52f0-4453-9ce2-0999d9bfb233\" xlink:type=\"simple\"><path d=\"M349,137.16 C349,144.98 349,153.69 349,161.94 \" fill=\"none\" id=\"E3-&gt;E4\" style=\"stroke: #383838; stroke-width: 1.0; stroke-dasharray: 7.0,7.0;\"/><polygon fill=\"#383838\" points=\"349,170,352,162,346,162,349,170\" style=\"stroke: #383838; stroke-width: 1.0;\"/><text fill=\"#000000\" font-family=\"sans-serif\" font-size=\"13\" lengthAdjust=\"spacingAndGlyphs\" textLength=\"64\" x=\"350\" y=\"158.0669\">«depend»</text></a><!--MD5=[1b7591eae5389033d8d09a9d6721a717]\n",
       "link E4 to E5--><a href=\"psysml:149727ef-4884-4150-ac87-83ab56bc940c\" target=\"_top\" title=\"psysml:149727ef-4884-4150-ac87-83ab56bc940c\" xlink:actuate=\"onRequest\" xlink:href=\"psysml:149727ef-4884-4150-ac87-83ab56bc940c\" xlink:show=\"new\" xlink:title=\"psysml:149727ef-4884-4150-ac87-83ab56bc940c\" xlink:type=\"simple\"><path d=\"M349,223.16 C349,230.98 349,239.69 349,247.94 \" fill=\"none\" id=\"E4-&gt;E5\" style=\"stroke: #383838; stroke-width: 1.0; stroke-dasharray: 7.0,7.0;\"/><polygon fill=\"#383838\" points=\"349,256,352,248,346,248,349,256\" style=\"stroke: #383838; stroke-width: 1.0;\"/><text fill=\"#000000\" font-family=\"sans-serif\" font-size=\"13\" lengthAdjust=\"spacingAndGlyphs\" textLength=\"64\" x=\"350\" y=\"244.0669\">«depend»</text></a><!--MD5=[c5e8897d989ce984f93528998a7150fe]\n",
       "link E8 to E6--><a href=\"psysml:6d264d90-cc53-4d32-95c3-fe1ad979e012\" target=\"_top\" title=\"psysml:6d264d90-cc53-4d32-95c3-fe1ad979e012\" xlink:actuate=\"onRequest\" xlink:href=\"psysml:6d264d90-cc53-4d32-95c3-fe1ad979e012\" xlink:show=\"new\" xlink:title=\"psysml:6d264d90-cc53-4d32-95c3-fe1ad979e012\" xlink:type=\"simple\"><path d=\"M84.49,125.34 C76.34,130.27 68.69,136.72 64,145 C60.54,151.1 59.62,158.31 60,165.33 \" fill=\"none\" id=\"E8-&gt;E6\" style=\"stroke: #383838; stroke-width: 1.0; stroke-dasharray: 7.0,7.0;\"/><polygon fill=\"#383838\" points=\"60.97,173.42,63.0061,165.1221,57.0479,165.8294,60.97,173.42\" style=\"stroke: #383838; stroke-width: 1.0;\"/><text fill=\"#000000\" font-family=\"sans-serif\" font-size=\"13\" lengthAdjust=\"spacingAndGlyphs\" textLength=\"64\" x=\"65\" y=\"158.0669\">«depend»</text></a><!--MD5=[bfa3c8b0d15052fdf50ae9310b491027]\n",
       "link E8 to E7--><a href=\"psysml:6d264d90-cc53-4d32-95c3-fe1ad979e012\" target=\"_top\" title=\"psysml:6d264d90-cc53-4d32-95c3-fe1ad979e012\" xlink:actuate=\"onRequest\" xlink:href=\"psysml:6d264d90-cc53-4d32-95c3-fe1ad979e012\" xlink:show=\"new\" xlink:title=\"psysml:6d264d90-cc53-4d32-95c3-fe1ad979e012\" xlink:type=\"simple\"><path d=\"M134.19,133.57 C140.65,143.62 148.38,155.65 155.31,166.42 \" fill=\"none\" id=\"E8-&gt;E7\" style=\"stroke: #383838; stroke-width: 1.0; stroke-dasharray: 7.0,7.0;\"/><polygon fill=\"#383838\" points=\"159.72,173.29,157.9148,164.9389,152.8688,168.185,159.72,173.29\" style=\"stroke: #383838; stroke-width: 1.0;\"/><text fill=\"#000000\" font-family=\"sans-serif\" font-size=\"13\" lengthAdjust=\"spacingAndGlyphs\" textLength=\"64\" x=\"152\" y=\"158.0669\">«depend»</text></a><!--MD5=[ee19f03e3d8eec599998662c1e63de9d]\n",
       "@startuml\r\n",
       "skinparam ranksep 10\r\n",
       "skinparam rectangle {\r\n",
       " backgroundColor<<block>> LightGreen\r\n",
       "}\r\n",
       "top to bottom direction\r\n",
       "skinparam monochrome true\r\n",
       "skinparam classbackgroundcolor white\r\n",
       "skinparam shadowing false\r\n",
       "skinparam wrapWidth 300\r\n",
       "hide circle\r\n",
       "\r\n",
       "package \"DependencyTest\" as E1  [[psysml:d56232e2-0bee-4a1a-bb9b-8eb4f38b0dfa ]]  {\r\n",
       "package \"System\" as E2  [[psysml:50d5e3ed-2307-46ca-b041-8429ee229b8d ]]  {\r\n",
       "package \"Application Layer\" as E3  [[psysml:bf62b3a1-f030-4eff-b8ce-ffbdff107a6f ]]  {\r\n",
       "}\r\n",
       "package \"Service Layer\" as E4  [[psysml:471b2f11-dcf9-418e-881d-688bae838b3f ]]  {\r\n",
       "}\r\n",
       "package \"Data Layer\" as E5  [[psysml:da794142-8c7c-4611-9580-abeb242da5ef ]]  {\r\n",
       "}\r\n",
       "}\r\n",
       "comp usage \"x\" as E6  <<(T,blue)attribute>> [[psysml:ee6e66ae-6a4f-4999-8c9e-f85171cea95e ]] {\r\n",
       "}\r\n",
       "comp usage \"y\" as E7  <<(T,blue)attribute>> [[psysml:da3973fb-164e-4f16-bb62-2f8eaef60bc8 ]] {\r\n",
       "}\r\n",
       "comp usage \"z\" as E8  <<(T,blue)attribute>> [[psysml:8698e020-730f-4ac9-88e5-943d82c20ca0 ]] {\r\n",
       "}\r\n",
       "E3 ..>> E4 [[psysml:f56c438f-52f0-4453-9ce2-0999d9bfb233 ]] : <<depend>>\r\n",
       "E4 ..>> E5 [[psysml:149727ef-4884-4150-ac87-83ab56bc940c ]] : <<depend>>\r\n",
       "E8 ..>> E6 [[psysml:6d264d90-cc53-4d32-95c3-fe1ad979e012 ]] : <<depend>>\r\n",
       "E8 ..>> E7 [[psysml:6d264d90-cc53-4d32-95c3-fe1ad979e012 ]] : <<depend>>\r\n",
       "}\r\n",
       "@enduml\r\n",
       "\n",
       "PlantUML version 1.2020.13(Sat Jun 13 12:26:38 UTC 2020)\n",
       "(EPL source distribution)\n",
       "Java Runtime: OpenJDK Runtime Environment\n",
       "JVM: OpenJDK 64-Bit Server VM\n",
       "Default Encoding: UTF-8\n",
       "Language: en\n",
       "Country: null\n",
       "--></g></svg>"
      ]
     },
     "execution_count": 47,
     "metadata": {},
     "output_type": "execute_result"
    }
   ],
   "source": [
    "%viz --style=\"TB\" --view=\"Interconnection\" \"DependencyTest\""
   ]
  },
  {
   "cell_type": "code",
   "execution_count": 48,
   "id": "21ae81c8",
   "metadata": {
    "execution": {
     "iopub.execute_input": "2021-04-20T07:32:20.717492Z",
     "iopub.status.busy": "2021-04-20T07:32:20.716636Z",
     "iopub.status.idle": "2021-04-20T07:32:20.724670Z",
     "shell.execute_reply": "2021-04-20T07:32:20.723837Z"
    }
   },
   "outputs": [
    {
     "data": {
      "image/svg+xml": [
       "<?xml version=\"1.0\" encoding=\"UTF-8\" standalone=\"no\"?><svg xmlns=\"http://www.w3.org/2000/svg\" xmlns:xlink=\"http://www.w3.org/1999/xlink\" contentScriptType=\"application/ecmascript\" contentStyleType=\"text/css\" height=\"12px\" preserveAspectRatio=\"none\" style=\"width:12px;height:12px;\" version=\"1.1\" viewBox=\"0 0 12 12\" width=\"12px\" zoomAndPan=\"magnify\"><defs/><g><!--MD5=[06afc254b03ac5e9d9fb7773b07d0800]\n",
       "@startuml\r\n",
       "skinparam ranksep 8\r\n",
       "top to bottom direction\r\n",
       "skinparam monochrome true\r\n",
       "skinparam classbackgroundcolor white\r\n",
       "skinparam shadowing false\r\n",
       "skinparam wrapWidth 300\r\n",
       "hide circle\r\n",
       "\r\n",
       "@enduml\r\n",
       "\n",
       "PlantUML version 1.2020.13(Sat Jun 13 12:26:38 UTC 2020)\n",
       "(EPL source distribution)\n",
       "Java Runtime: OpenJDK Runtime Environment\n",
       "JVM: OpenJDK 64-Bit Server VM\n",
       "Default Encoding: UTF-8\n",
       "Language: en\n",
       "Country: null\n",
       "--></g></svg>"
      ]
     },
     "execution_count": 48,
     "metadata": {},
     "output_type": "execute_result"
    }
   ],
   "source": [
    "%viz --style=\"TB\" --view=\"Action\" \"DependencyTest\""
   ]
  },
  {
   "cell_type": "code",
   "execution_count": 49,
   "id": "344cddf9",
   "metadata": {
    "execution": {
     "iopub.execute_input": "2021-04-20T07:32:20.776096Z",
     "iopub.status.busy": "2021-04-20T07:32:20.775229Z",
     "iopub.status.idle": "2021-04-20T07:32:20.823047Z",
     "shell.execute_reply": "2021-04-20T07:32:20.822638Z"
    }
   },
   "outputs": [
    {
     "data": {
      "image/svg+xml": [
       "<?xml version=\"1.0\" encoding=\"UTF-8\" standalone=\"no\"?><svg xmlns=\"http://www.w3.org/2000/svg\" xmlns:xlink=\"http://www.w3.org/1999/xlink\" contentScriptType=\"application/ecmascript\" contentStyleType=\"text/css\" height=\"449px\" preserveAspectRatio=\"none\" style=\"width:489px;height:449px;\" version=\"1.1\" viewBox=\"0 0 489 449\" width=\"489px\" zoomAndPan=\"magnify\"><defs/><g><!--MD5=[fbc87193dbaf4d95561dea2c320d4a47]\n",
       "cluster E1--><a href=\"psysml:d56232e2-0bee-4a1a-bb9b-8eb4f38b0dfa\" target=\"_top\" title=\"psysml:d56232e2-0bee-4a1a-bb9b-8eb4f38b0dfa\" xlink:actuate=\"onRequest\" xlink:href=\"psysml:d56232e2-0bee-4a1a-bb9b-8eb4f38b0dfa\" xlink:show=\"new\" xlink:title=\"psysml:d56232e2-0bee-4a1a-bb9b-8eb4f38b0dfa\" xlink:type=\"simple\"><polygon fill=\"#FFFFFF\" points=\"16,6,156,6,163,28.2969,467,28.2969,467,437,16,437,16,6\" style=\"stroke: #000000; stroke-width: 1.5;\"/><line style=\"stroke: #000000; stroke-width: 1.5;\" x1=\"16\" x2=\"163\" y1=\"28.2969\" y2=\"28.2969\"/><text fill=\"#000000\" font-family=\"sans-serif\" font-size=\"14\" font-weight=\"bold\" lengthAdjust=\"spacingAndGlyphs\" textLength=\"134\" x=\"20\" y=\"20.9951\">DependencyTest</text></a><!--MD5=[e4f7fae6ed58524ba242bb0b0d3be6b7]\n",
       "cluster E2--><a href=\"psysml:50d5e3ed-2307-46ca-b041-8429ee229b8d\" target=\"_top\" title=\"psysml:50d5e3ed-2307-46ca-b041-8429ee229b8d\" xlink:actuate=\"onRequest\" xlink:href=\"psysml:50d5e3ed-2307-46ca-b041-8429ee229b8d\" xlink:show=\"new\" xlink:title=\"psysml:50d5e3ed-2307-46ca-b041-8429ee229b8d\" xlink:type=\"simple\"><polygon fill=\"#FFFFFF\" points=\"255,49,319,49,326,71.2969,443,71.2969,443,413,255,413,255,49\" style=\"stroke: #000000; stroke-width: 1.5;\"/><line style=\"stroke: #000000; stroke-width: 1.5;\" x1=\"255\" x2=\"326\" y1=\"71.2969\" y2=\"71.2969\"/><text fill=\"#000000\" font-family=\"sans-serif\" font-size=\"14\" font-weight=\"bold\" lengthAdjust=\"spacingAndGlyphs\" textLength=\"58\" x=\"259\" y=\"63.9951\">System</text></a><!--MD5=[60a26617385b1d2d0262a64233df1f8d]\n",
       "class E6--><a href=\"psysml:ee6e66ae-6a4f-4999-8c9e-f85171cea95e\" target=\"_top\" title=\"psysml:ee6e66ae-6a4f-4999-8c9e-f85171cea95e\" xlink:actuate=\"onRequest\" xlink:href=\"psysml:ee6e66ae-6a4f-4999-8c9e-f85171cea95e\" xlink:show=\"new\" xlink:title=\"psysml:ee6e66ae-6a4f-4999-8c9e-f85171cea95e\" xlink:type=\"simple\"><rect fill=\"#FFFFFF\" height=\"45.9375\" id=\"E6\" rx=\"10\" ry=\"10\" style=\"stroke: #383838; stroke-width: 1.5;\" width=\"71\" x=\"32.5\" y=\"217.5\"/><text fill=\"#000000\" font-family=\"sans-serif\" font-size=\"12\" font-style=\"italic\" lengthAdjust=\"spacingAndGlyphs\" textLength=\"69\" x=\"33.5\" y=\"233.6387\">«attribute»</text><text fill=\"#000000\" font-family=\"sans-serif\" font-size=\"12\" lengthAdjust=\"spacingAndGlyphs\" textLength=\"6\" x=\"65\" y=\"247.6074\">x</text><line style=\"stroke: #383838; stroke-width: 1.5;\" x1=\"33.5\" x2=\"102.5\" y1=\"255.4375\" y2=\"255.4375\"/></a><!--MD5=[2156ba9850f5573cc1fc38a6a4b2f02b]\n",
       "class E7--><a href=\"psysml:da3973fb-164e-4f16-bb62-2f8eaef60bc8\" target=\"_top\" title=\"psysml:da3973fb-164e-4f16-bb62-2f8eaef60bc8\" xlink:actuate=\"onRequest\" xlink:href=\"psysml:da3973fb-164e-4f16-bb62-2f8eaef60bc8\" xlink:show=\"new\" xlink:title=\"psysml:da3973fb-164e-4f16-bb62-2f8eaef60bc8\" xlink:type=\"simple\"><rect fill=\"#FFFFFF\" height=\"45.9375\" id=\"E7\" rx=\"10\" ry=\"10\" style=\"stroke: #383838; stroke-width: 1.5;\" width=\"71\" x=\"138.5\" y=\"217.5\"/><text fill=\"#000000\" font-family=\"sans-serif\" font-size=\"12\" font-style=\"italic\" lengthAdjust=\"spacingAndGlyphs\" textLength=\"69\" x=\"139.5\" y=\"233.6387\">«attribute»</text><text fill=\"#000000\" font-family=\"sans-serif\" font-size=\"12\" lengthAdjust=\"spacingAndGlyphs\" textLength=\"6\" x=\"171\" y=\"247.6074\">y</text><line style=\"stroke: #383838; stroke-width: 1.5;\" x1=\"139.5\" x2=\"208.5\" y1=\"255.4375\" y2=\"255.4375\"/></a><!--MD5=[b9389687b975829384b498ac4b7476b2]\n",
       "class E8--><a href=\"psysml:8698e020-730f-4ac9-88e5-943d82c20ca0\" target=\"_top\" title=\"psysml:8698e020-730f-4ac9-88e5-943d82c20ca0\" xlink:actuate=\"onRequest\" xlink:href=\"psysml:8698e020-730f-4ac9-88e5-943d82c20ca0\" xlink:show=\"new\" xlink:title=\"psysml:8698e020-730f-4ac9-88e5-943d82c20ca0\" xlink:type=\"simple\"><rect fill=\"#FFFFFF\" height=\"45.9375\" id=\"E8\" rx=\"10\" ry=\"10\" style=\"stroke: #383838; stroke-width: 1.5;\" width=\"71\" x=\"84.5\" y=\"87.5\"/><text fill=\"#000000\" font-family=\"sans-serif\" font-size=\"12\" font-style=\"italic\" lengthAdjust=\"spacingAndGlyphs\" textLength=\"69\" x=\"85.5\" y=\"103.6387\">«attribute»</text><text fill=\"#000000\" font-family=\"sans-serif\" font-size=\"12\" lengthAdjust=\"spacingAndGlyphs\" textLength=\"5\" x=\"117.5\" y=\"117.6074\">z</text><line style=\"stroke: #383838; stroke-width: 1.5;\" x1=\"85.5\" x2=\"154.5\" y1=\"125.4375\" y2=\"125.4375\"/></a><a href=\"psysml:bf62b3a1-f030-4eff-b8ce-ffbdff107a6f\" target=\"_top\" title=\"psysml:bf62b3a1-f030-4eff-b8ce-ffbdff107a6f\" xlink:actuate=\"onRequest\" xlink:href=\"psysml:bf62b3a1-f030-4eff-b8ce-ffbdff107a6f\" xlink:show=\"new\" xlink:title=\"psysml:bf62b3a1-f030-4eff-b8ce-ffbdff107a6f\" xlink:type=\"simple\"><polygon fill=\"#FFFFFF\" points=\"271,84,413,84,420,106.2969,427,106.2969,427,136.5938,271,136.5938,271,84\" style=\"stroke: #000000; stroke-width: 1.5;\"/><line style=\"stroke: #000000; stroke-width: 1.5;\" x1=\"271\" x2=\"420\" y1=\"106.2969\" y2=\"106.2969\"/><text fill=\"#000000\" font-family=\"sans-serif\" font-size=\"14\" font-weight=\"bold\" lengthAdjust=\"spacingAndGlyphs\" textLength=\"136\" x=\"275\" y=\"98.9951\">Application Layer</text></a><a href=\"psysml:471b2f11-dcf9-418e-881d-688bae838b3f\" target=\"_top\" title=\"psysml:471b2f11-dcf9-418e-881d-688bae838b3f\" xlink:actuate=\"onRequest\" xlink:href=\"psysml:471b2f11-dcf9-418e-881d-688bae838b3f\" xlink:show=\"new\" xlink:title=\"psysml:471b2f11-dcf9-418e-881d-688bae838b3f\" xlink:type=\"simple\"><polygon fill=\"#FFFFFF\" points=\"285,214,399,214,406,236.2969,413,236.2969,413,266.5938,285,266.5938,285,214\" style=\"stroke: #000000; stroke-width: 1.5;\"/><line style=\"stroke: #000000; stroke-width: 1.5;\" x1=\"285\" x2=\"406\" y1=\"236.2969\" y2=\"236.2969\"/><text fill=\"#000000\" font-family=\"sans-serif\" font-size=\"14\" font-weight=\"bold\" lengthAdjust=\"spacingAndGlyphs\" textLength=\"108\" x=\"289\" y=\"228.9951\">Service Layer</text></a><a href=\"psysml:da794142-8c7c-4611-9580-abeb242da5ef\" target=\"_top\" title=\"psysml:da794142-8c7c-4611-9580-abeb242da5ef\" xlink:actuate=\"onRequest\" xlink:href=\"psysml:da794142-8c7c-4611-9580-abeb242da5ef\" xlink:show=\"new\" xlink:title=\"psysml:da794142-8c7c-4611-9580-abeb242da5ef\" xlink:type=\"simple\"><polygon fill=\"#FFFFFF\" points=\"297,344,387,344,394,366.2969,401,366.2969,401,396.5938,297,396.5938,297,344\" style=\"stroke: #000000; stroke-width: 1.5;\"/><line style=\"stroke: #000000; stroke-width: 1.5;\" x1=\"297\" x2=\"394\" y1=\"366.2969\" y2=\"366.2969\"/><text fill=\"#000000\" font-family=\"sans-serif\" font-size=\"14\" font-weight=\"bold\" lengthAdjust=\"spacingAndGlyphs\" textLength=\"84\" x=\"301\" y=\"358.9951\">Data Layer</text></a><!--MD5=[af87c684e3b0d8be13c1a698a818ef1e]\n",
       "link E3 to E4--><a href=\"psysml:f56c438f-52f0-4453-9ce2-0999d9bfb233\" target=\"_top\" title=\"psysml:f56c438f-52f0-4453-9ce2-0999d9bfb233\" xlink:actuate=\"onRequest\" xlink:href=\"psysml:f56c438f-52f0-4453-9ce2-0999d9bfb233\" xlink:show=\"new\" xlink:title=\"psysml:f56c438f-52f0-4453-9ce2-0999d9bfb233\" xlink:type=\"simple\"><path d=\"M349,137.1 C349,156.8 349,184.22 349,205.73 \" fill=\"none\" id=\"E3-&gt;E4\" style=\"stroke: #383838; stroke-width: 1.0; stroke-dasharray: 7.0,7.0;\"/><polygon fill=\"#383838\" points=\"349,213.95,352,205.95,346,205.95,349,213.95\" style=\"stroke: #383838; stroke-width: 1.0;\"/><text fill=\"#000000\" font-family=\"sans-serif\" font-size=\"13\" lengthAdjust=\"spacingAndGlyphs\" textLength=\"64\" x=\"350\" y=\"180.0669\">«depend»</text></a><!--MD5=[1b7591eae5389033d8d09a9d6721a717]\n",
       "link E4 to E5--><a href=\"psysml:149727ef-4884-4150-ac87-83ab56bc940c\" target=\"_top\" title=\"psysml:149727ef-4884-4150-ac87-83ab56bc940c\" xlink:actuate=\"onRequest\" xlink:href=\"psysml:149727ef-4884-4150-ac87-83ab56bc940c\" xlink:show=\"new\" xlink:title=\"psysml:149727ef-4884-4150-ac87-83ab56bc940c\" xlink:type=\"simple\"><path d=\"M349,267.1 C349,286.8 349,314.22 349,335.73 \" fill=\"none\" id=\"E4-&gt;E5\" style=\"stroke: #383838; stroke-width: 1.0; stroke-dasharray: 7.0,7.0;\"/><polygon fill=\"#383838\" points=\"349,343.95,352,335.95,346,335.95,349,343.95\" style=\"stroke: #383838; stroke-width: 1.0;\"/><text fill=\"#000000\" font-family=\"sans-serif\" font-size=\"13\" lengthAdjust=\"spacingAndGlyphs\" textLength=\"64\" x=\"350\" y=\"310.0669\">«depend»</text></a><!--MD5=[c5e8897d989ce984f93528998a7150fe]\n",
       "link E8 to E6--><a href=\"psysml:6d264d90-cc53-4d32-95c3-fe1ad979e012\" target=\"_top\" title=\"psysml:6d264d90-cc53-4d32-95c3-fe1ad979e012\" xlink:actuate=\"onRequest\" xlink:href=\"psysml:6d264d90-cc53-4d32-95c3-fe1ad979e012\" xlink:show=\"new\" xlink:title=\"psysml:6d264d90-cc53-4d32-95c3-fe1ad979e012\" xlink:type=\"simple\"><path d=\"M89.42,133.6 C79.35,142.68 69.37,154.11 64,167 C58.5,180.2 58.66,195.94 60.54,209.38 \" fill=\"none\" id=\"E8-&gt;E6\" style=\"stroke: #383838; stroke-width: 1.0; stroke-dasharray: 7.0,7.0;\"/><polygon fill=\"#383838\" points=\"61.9,217.4,63.517,209.0104,57.6018,210.0159,61.9,217.4\" style=\"stroke: #383838; stroke-width: 1.0;\"/><text fill=\"#000000\" font-family=\"sans-serif\" font-size=\"13\" lengthAdjust=\"spacingAndGlyphs\" textLength=\"64\" x=\"65\" y=\"180.0669\">«depend»</text></a><!--MD5=[bfa3c8b0d15052fdf50ae9310b491027]\n",
       "link E8 to E7--><a href=\"psysml:6d264d90-cc53-4d32-95c3-fe1ad979e012\" target=\"_top\" title=\"psysml:6d264d90-cc53-4d32-95c3-fe1ad979e012\" xlink:actuate=\"onRequest\" xlink:href=\"psysml:6d264d90-cc53-4d32-95c3-fe1ad979e012\" xlink:show=\"new\" xlink:title=\"psysml:6d264d90-cc53-4d32-95c3-fe1ad979e012\" xlink:type=\"simple\"><path d=\"M129.28,133.5 C138.17,154.57 151.64,186.5 161.47,209.81 \" fill=\"none\" id=\"E8-&gt;E7\" style=\"stroke: #383838; stroke-width: 1.0; stroke-dasharray: 7.0,7.0;\"/><polygon fill=\"#383838\" points=\"164.66,217.35,164.3241,208.8126,158.7933,211.1385,164.66,217.35\" style=\"stroke: #383838; stroke-width: 1.0;\"/><text fill=\"#000000\" font-family=\"sans-serif\" font-size=\"13\" lengthAdjust=\"spacingAndGlyphs\" textLength=\"64\" x=\"151\" y=\"180.0669\">«depend»</text></a><!--MD5=[caba88968434f6050405a169327c4d4d]\n",
       "@startuml\r\n",
       "top to bottom direction\r\n",
       "skinparam monochrome true\r\n",
       "skinparam classbackgroundcolor white\r\n",
       "skinparam shadowing false\r\n",
       "skinparam wrapWidth 300\r\n",
       "hide circle\r\n",
       "\r\n",
       "package \"DependencyTest\" as E1  [[psysml:d56232e2-0bee-4a1a-bb9b-8eb4f38b0dfa ]]  {\r\n",
       "package \"System\" as E2  [[psysml:50d5e3ed-2307-46ca-b041-8429ee229b8d ]]  {\r\n",
       "package \"Application Layer\" as E3  [[psysml:bf62b3a1-f030-4eff-b8ce-ffbdff107a6f ]]  {\r\n",
       "}\r\n",
       "package \"Service Layer\" as E4  [[psysml:471b2f11-dcf9-418e-881d-688bae838b3f ]]  {\r\n",
       "}\r\n",
       "package \"Data Layer\" as E5  [[psysml:da794142-8c7c-4611-9580-abeb242da5ef ]]  {\r\n",
       "}\r\n",
       "}\r\n",
       "comp usage \"x\" as E6  <<(T,blue)attribute>> [[psysml:ee6e66ae-6a4f-4999-8c9e-f85171cea95e ]] {\r\n",
       "}\r\n",
       "comp usage \"y\" as E7  <<(T,blue)attribute>> [[psysml:da3973fb-164e-4f16-bb62-2f8eaef60bc8 ]] {\r\n",
       "}\r\n",
       "comp usage \"z\" as E8  <<(T,blue)attribute>> [[psysml:8698e020-730f-4ac9-88e5-943d82c20ca0 ]] {\r\n",
       "}\r\n",
       "E3 ..>> E4 [[psysml:f56c438f-52f0-4453-9ce2-0999d9bfb233 ]] : <<depend>>\r\n",
       "E4 ..>> E5 [[psysml:149727ef-4884-4150-ac87-83ab56bc940c ]] : <<depend>>\r\n",
       "E8 ..>> E6 [[psysml:6d264d90-cc53-4d32-95c3-fe1ad979e012 ]] : <<depend>>\r\n",
       "E8 ..>> E7 [[psysml:6d264d90-cc53-4d32-95c3-fe1ad979e012 ]] : <<depend>>\r\n",
       "}\r\n",
       "@enduml\r\n",
       "\n",
       "PlantUML version 1.2020.13(Sat Jun 13 12:26:38 UTC 2020)\n",
       "(EPL source distribution)\n",
       "Java Runtime: OpenJDK Runtime Environment\n",
       "JVM: OpenJDK 64-Bit Server VM\n",
       "Default Encoding: UTF-8\n",
       "Language: en\n",
       "Country: null\n",
       "--></g></svg>"
      ]
     },
     "execution_count": 49,
     "metadata": {},
     "output_type": "execute_result"
    }
   ],
   "source": [
    "%viz --style=\"TB\" --view=\"Sequence\" \"DependencyTest\""
   ]
  },
  {
   "cell_type": "code",
   "execution_count": 50,
   "id": "7dbc9770",
   "metadata": {
    "execution": {
     "iopub.execute_input": "2021-04-20T07:32:20.872669Z",
     "iopub.status.busy": "2021-04-20T07:32:20.871927Z",
     "iopub.status.idle": "2021-04-20T07:32:20.912151Z",
     "shell.execute_reply": "2021-04-20T07:32:20.912459Z"
    }
   },
   "outputs": [
    {
     "data": {
      "image/svg+xml": [
       "<?xml version=\"1.0\" encoding=\"UTF-8\" standalone=\"no\"?><svg xmlns=\"http://www.w3.org/2000/svg\" xmlns:xlink=\"http://www.w3.org/1999/xlink\" contentScriptType=\"application/ecmascript\" contentStyleType=\"text/css\" height=\"449px\" preserveAspectRatio=\"none\" style=\"width:489px;height:449px;\" version=\"1.1\" viewBox=\"0 0 489 449\" width=\"489px\" zoomAndPan=\"magnify\"><defs/><g><!--MD5=[fbc87193dbaf4d95561dea2c320d4a47]\n",
       "cluster E1--><a href=\"psysml:d56232e2-0bee-4a1a-bb9b-8eb4f38b0dfa\" target=\"_top\" title=\"psysml:d56232e2-0bee-4a1a-bb9b-8eb4f38b0dfa\" xlink:actuate=\"onRequest\" xlink:href=\"psysml:d56232e2-0bee-4a1a-bb9b-8eb4f38b0dfa\" xlink:show=\"new\" xlink:title=\"psysml:d56232e2-0bee-4a1a-bb9b-8eb4f38b0dfa\" xlink:type=\"simple\"><polygon fill=\"#FFFFFF\" points=\"16,6,156,6,163,28.2969,467,28.2969,467,437,16,437,16,6\" style=\"stroke: #000000; stroke-width: 1.5;\"/><line style=\"stroke: #000000; stroke-width: 1.5;\" x1=\"16\" x2=\"163\" y1=\"28.2969\" y2=\"28.2969\"/><text fill=\"#000000\" font-family=\"sans-serif\" font-size=\"14\" font-weight=\"bold\" lengthAdjust=\"spacingAndGlyphs\" textLength=\"134\" x=\"20\" y=\"20.9951\">DependencyTest</text></a><!--MD5=[e4f7fae6ed58524ba242bb0b0d3be6b7]\n",
       "cluster E2--><a href=\"psysml:50d5e3ed-2307-46ca-b041-8429ee229b8d\" target=\"_top\" title=\"psysml:50d5e3ed-2307-46ca-b041-8429ee229b8d\" xlink:actuate=\"onRequest\" xlink:href=\"psysml:50d5e3ed-2307-46ca-b041-8429ee229b8d\" xlink:show=\"new\" xlink:title=\"psysml:50d5e3ed-2307-46ca-b041-8429ee229b8d\" xlink:type=\"simple\"><polygon fill=\"#FFFFFF\" points=\"255,49,319,49,326,71.2969,443,71.2969,443,413,255,413,255,49\" style=\"stroke: #000000; stroke-width: 1.5;\"/><line style=\"stroke: #000000; stroke-width: 1.5;\" x1=\"255\" x2=\"326\" y1=\"71.2969\" y2=\"71.2969\"/><text fill=\"#000000\" font-family=\"sans-serif\" font-size=\"14\" font-weight=\"bold\" lengthAdjust=\"spacingAndGlyphs\" textLength=\"58\" x=\"259\" y=\"63.9951\">System</text></a><!--MD5=[60a26617385b1d2d0262a64233df1f8d]\n",
       "class E6--><a href=\"psysml:ee6e66ae-6a4f-4999-8c9e-f85171cea95e\" target=\"_top\" title=\"psysml:ee6e66ae-6a4f-4999-8c9e-f85171cea95e\" xlink:actuate=\"onRequest\" xlink:href=\"psysml:ee6e66ae-6a4f-4999-8c9e-f85171cea95e\" xlink:show=\"new\" xlink:title=\"psysml:ee6e66ae-6a4f-4999-8c9e-f85171cea95e\" xlink:type=\"simple\"><rect fill=\"#FFFFFF\" height=\"45.9375\" id=\"E6\" rx=\"10\" ry=\"10\" style=\"stroke: #383838; stroke-width: 1.5;\" width=\"71\" x=\"32.5\" y=\"217.5\"/><text fill=\"#000000\" font-family=\"sans-serif\" font-size=\"12\" font-style=\"italic\" lengthAdjust=\"spacingAndGlyphs\" textLength=\"69\" x=\"33.5\" y=\"233.6387\">«attribute»</text><text fill=\"#000000\" font-family=\"sans-serif\" font-size=\"12\" lengthAdjust=\"spacingAndGlyphs\" textLength=\"6\" x=\"65\" y=\"247.6074\">x</text><line style=\"stroke: #383838; stroke-width: 1.5;\" x1=\"33.5\" x2=\"102.5\" y1=\"255.4375\" y2=\"255.4375\"/></a><!--MD5=[2156ba9850f5573cc1fc38a6a4b2f02b]\n",
       "class E7--><a href=\"psysml:da3973fb-164e-4f16-bb62-2f8eaef60bc8\" target=\"_top\" title=\"psysml:da3973fb-164e-4f16-bb62-2f8eaef60bc8\" xlink:actuate=\"onRequest\" xlink:href=\"psysml:da3973fb-164e-4f16-bb62-2f8eaef60bc8\" xlink:show=\"new\" xlink:title=\"psysml:da3973fb-164e-4f16-bb62-2f8eaef60bc8\" xlink:type=\"simple\"><rect fill=\"#FFFFFF\" height=\"45.9375\" id=\"E7\" rx=\"10\" ry=\"10\" style=\"stroke: #383838; stroke-width: 1.5;\" width=\"71\" x=\"138.5\" y=\"217.5\"/><text fill=\"#000000\" font-family=\"sans-serif\" font-size=\"12\" font-style=\"italic\" lengthAdjust=\"spacingAndGlyphs\" textLength=\"69\" x=\"139.5\" y=\"233.6387\">«attribute»</text><text fill=\"#000000\" font-family=\"sans-serif\" font-size=\"12\" lengthAdjust=\"spacingAndGlyphs\" textLength=\"6\" x=\"171\" y=\"247.6074\">y</text><line style=\"stroke: #383838; stroke-width: 1.5;\" x1=\"139.5\" x2=\"208.5\" y1=\"255.4375\" y2=\"255.4375\"/></a><!--MD5=[b9389687b975829384b498ac4b7476b2]\n",
       "class E8--><a href=\"psysml:8698e020-730f-4ac9-88e5-943d82c20ca0\" target=\"_top\" title=\"psysml:8698e020-730f-4ac9-88e5-943d82c20ca0\" xlink:actuate=\"onRequest\" xlink:href=\"psysml:8698e020-730f-4ac9-88e5-943d82c20ca0\" xlink:show=\"new\" xlink:title=\"psysml:8698e020-730f-4ac9-88e5-943d82c20ca0\" xlink:type=\"simple\"><rect fill=\"#FFFFFF\" height=\"45.9375\" id=\"E8\" rx=\"10\" ry=\"10\" style=\"stroke: #383838; stroke-width: 1.5;\" width=\"71\" x=\"84.5\" y=\"87.5\"/><text fill=\"#000000\" font-family=\"sans-serif\" font-size=\"12\" font-style=\"italic\" lengthAdjust=\"spacingAndGlyphs\" textLength=\"69\" x=\"85.5\" y=\"103.6387\">«attribute»</text><text fill=\"#000000\" font-family=\"sans-serif\" font-size=\"12\" lengthAdjust=\"spacingAndGlyphs\" textLength=\"5\" x=\"117.5\" y=\"117.6074\">z</text><line style=\"stroke: #383838; stroke-width: 1.5;\" x1=\"85.5\" x2=\"154.5\" y1=\"125.4375\" y2=\"125.4375\"/></a><a href=\"psysml:bf62b3a1-f030-4eff-b8ce-ffbdff107a6f\" target=\"_top\" title=\"psysml:bf62b3a1-f030-4eff-b8ce-ffbdff107a6f\" xlink:actuate=\"onRequest\" xlink:href=\"psysml:bf62b3a1-f030-4eff-b8ce-ffbdff107a6f\" xlink:show=\"new\" xlink:title=\"psysml:bf62b3a1-f030-4eff-b8ce-ffbdff107a6f\" xlink:type=\"simple\"><polygon fill=\"#FFFFFF\" points=\"271,84,413,84,420,106.2969,427,106.2969,427,136.5938,271,136.5938,271,84\" style=\"stroke: #000000; stroke-width: 1.5;\"/><line style=\"stroke: #000000; stroke-width: 1.5;\" x1=\"271\" x2=\"420\" y1=\"106.2969\" y2=\"106.2969\"/><text fill=\"#000000\" font-family=\"sans-serif\" font-size=\"14\" font-weight=\"bold\" lengthAdjust=\"spacingAndGlyphs\" textLength=\"136\" x=\"275\" y=\"98.9951\">Application Layer</text></a><a href=\"psysml:471b2f11-dcf9-418e-881d-688bae838b3f\" target=\"_top\" title=\"psysml:471b2f11-dcf9-418e-881d-688bae838b3f\" xlink:actuate=\"onRequest\" xlink:href=\"psysml:471b2f11-dcf9-418e-881d-688bae838b3f\" xlink:show=\"new\" xlink:title=\"psysml:471b2f11-dcf9-418e-881d-688bae838b3f\" xlink:type=\"simple\"><polygon fill=\"#FFFFFF\" points=\"285,214,399,214,406,236.2969,413,236.2969,413,266.5938,285,266.5938,285,214\" style=\"stroke: #000000; stroke-width: 1.5;\"/><line style=\"stroke: #000000; stroke-width: 1.5;\" x1=\"285\" x2=\"406\" y1=\"236.2969\" y2=\"236.2969\"/><text fill=\"#000000\" font-family=\"sans-serif\" font-size=\"14\" font-weight=\"bold\" lengthAdjust=\"spacingAndGlyphs\" textLength=\"108\" x=\"289\" y=\"228.9951\">Service Layer</text></a><a href=\"psysml:da794142-8c7c-4611-9580-abeb242da5ef\" target=\"_top\" title=\"psysml:da794142-8c7c-4611-9580-abeb242da5ef\" xlink:actuate=\"onRequest\" xlink:href=\"psysml:da794142-8c7c-4611-9580-abeb242da5ef\" xlink:show=\"new\" xlink:title=\"psysml:da794142-8c7c-4611-9580-abeb242da5ef\" xlink:type=\"simple\"><polygon fill=\"#FFFFFF\" points=\"297,344,387,344,394,366.2969,401,366.2969,401,396.5938,297,396.5938,297,344\" style=\"stroke: #000000; stroke-width: 1.5;\"/><line style=\"stroke: #000000; stroke-width: 1.5;\" x1=\"297\" x2=\"394\" y1=\"366.2969\" y2=\"366.2969\"/><text fill=\"#000000\" font-family=\"sans-serif\" font-size=\"14\" font-weight=\"bold\" lengthAdjust=\"spacingAndGlyphs\" textLength=\"84\" x=\"301\" y=\"358.9951\">Data Layer</text></a><!--MD5=[af87c684e3b0d8be13c1a698a818ef1e]\n",
       "link E3 to E4--><a href=\"psysml:f56c438f-52f0-4453-9ce2-0999d9bfb233\" target=\"_top\" title=\"psysml:f56c438f-52f0-4453-9ce2-0999d9bfb233\" xlink:actuate=\"onRequest\" xlink:href=\"psysml:f56c438f-52f0-4453-9ce2-0999d9bfb233\" xlink:show=\"new\" xlink:title=\"psysml:f56c438f-52f0-4453-9ce2-0999d9bfb233\" xlink:type=\"simple\"><path d=\"M349,137.1 C349,156.8 349,184.22 349,205.73 \" fill=\"none\" id=\"E3-&gt;E4\" style=\"stroke: #383838; stroke-width: 1.0; stroke-dasharray: 7.0,7.0;\"/><polygon fill=\"#383838\" points=\"349,213.95,352,205.95,346,205.95,349,213.95\" style=\"stroke: #383838; stroke-width: 1.0;\"/><text fill=\"#000000\" font-family=\"sans-serif\" font-size=\"13\" lengthAdjust=\"spacingAndGlyphs\" textLength=\"64\" x=\"350\" y=\"180.0669\">«depend»</text></a><!--MD5=[1b7591eae5389033d8d09a9d6721a717]\n",
       "link E4 to E5--><a href=\"psysml:149727ef-4884-4150-ac87-83ab56bc940c\" target=\"_top\" title=\"psysml:149727ef-4884-4150-ac87-83ab56bc940c\" xlink:actuate=\"onRequest\" xlink:href=\"psysml:149727ef-4884-4150-ac87-83ab56bc940c\" xlink:show=\"new\" xlink:title=\"psysml:149727ef-4884-4150-ac87-83ab56bc940c\" xlink:type=\"simple\"><path d=\"M349,267.1 C349,286.8 349,314.22 349,335.73 \" fill=\"none\" id=\"E4-&gt;E5\" style=\"stroke: #383838; stroke-width: 1.0; stroke-dasharray: 7.0,7.0;\"/><polygon fill=\"#383838\" points=\"349,343.95,352,335.95,346,335.95,349,343.95\" style=\"stroke: #383838; stroke-width: 1.0;\"/><text fill=\"#000000\" font-family=\"sans-serif\" font-size=\"13\" lengthAdjust=\"spacingAndGlyphs\" textLength=\"64\" x=\"350\" y=\"310.0669\">«depend»</text></a><!--MD5=[c5e8897d989ce984f93528998a7150fe]\n",
       "link E8 to E6--><a href=\"psysml:6d264d90-cc53-4d32-95c3-fe1ad979e012\" target=\"_top\" title=\"psysml:6d264d90-cc53-4d32-95c3-fe1ad979e012\" xlink:actuate=\"onRequest\" xlink:href=\"psysml:6d264d90-cc53-4d32-95c3-fe1ad979e012\" xlink:show=\"new\" xlink:title=\"psysml:6d264d90-cc53-4d32-95c3-fe1ad979e012\" xlink:type=\"simple\"><path d=\"M89.42,133.6 C79.35,142.68 69.37,154.11 64,167 C58.5,180.2 58.66,195.94 60.54,209.38 \" fill=\"none\" id=\"E8-&gt;E6\" style=\"stroke: #383838; stroke-width: 1.0; stroke-dasharray: 7.0,7.0;\"/><polygon fill=\"#383838\" points=\"61.9,217.4,63.517,209.0104,57.6018,210.0159,61.9,217.4\" style=\"stroke: #383838; stroke-width: 1.0;\"/><text fill=\"#000000\" font-family=\"sans-serif\" font-size=\"13\" lengthAdjust=\"spacingAndGlyphs\" textLength=\"64\" x=\"65\" y=\"180.0669\">«depend»</text></a><!--MD5=[bfa3c8b0d15052fdf50ae9310b491027]\n",
       "link E8 to E7--><a href=\"psysml:6d264d90-cc53-4d32-95c3-fe1ad979e012\" target=\"_top\" title=\"psysml:6d264d90-cc53-4d32-95c3-fe1ad979e012\" xlink:actuate=\"onRequest\" xlink:href=\"psysml:6d264d90-cc53-4d32-95c3-fe1ad979e012\" xlink:show=\"new\" xlink:title=\"psysml:6d264d90-cc53-4d32-95c3-fe1ad979e012\" xlink:type=\"simple\"><path d=\"M129.28,133.5 C138.17,154.57 151.64,186.5 161.47,209.81 \" fill=\"none\" id=\"E8-&gt;E7\" style=\"stroke: #383838; stroke-width: 1.0; stroke-dasharray: 7.0,7.0;\"/><polygon fill=\"#383838\" points=\"164.66,217.35,164.3241,208.8126,158.7933,211.1385,164.66,217.35\" style=\"stroke: #383838; stroke-width: 1.0;\"/><text fill=\"#000000\" font-family=\"sans-serif\" font-size=\"13\" lengthAdjust=\"spacingAndGlyphs\" textLength=\"64\" x=\"151\" y=\"180.0669\">«depend»</text></a><!--MD5=[caba88968434f6050405a169327c4d4d]\n",
       "@startuml\r\n",
       "top to bottom direction\r\n",
       "skinparam monochrome true\r\n",
       "skinparam classbackgroundcolor white\r\n",
       "skinparam shadowing false\r\n",
       "skinparam wrapWidth 300\r\n",
       "hide circle\r\n",
       "\r\n",
       "package \"DependencyTest\" as E1  [[psysml:d56232e2-0bee-4a1a-bb9b-8eb4f38b0dfa ]]  {\r\n",
       "package \"System\" as E2  [[psysml:50d5e3ed-2307-46ca-b041-8429ee229b8d ]]  {\r\n",
       "package \"Application Layer\" as E3  [[psysml:bf62b3a1-f030-4eff-b8ce-ffbdff107a6f ]]  {\r\n",
       "}\r\n",
       "package \"Service Layer\" as E4  [[psysml:471b2f11-dcf9-418e-881d-688bae838b3f ]]  {\r\n",
       "}\r\n",
       "package \"Data Layer\" as E5  [[psysml:da794142-8c7c-4611-9580-abeb242da5ef ]]  {\r\n",
       "}\r\n",
       "}\r\n",
       "comp usage \"x\" as E6  <<(T,blue)attribute>> [[psysml:ee6e66ae-6a4f-4999-8c9e-f85171cea95e ]] {\r\n",
       "}\r\n",
       "comp usage \"y\" as E7  <<(T,blue)attribute>> [[psysml:da3973fb-164e-4f16-bb62-2f8eaef60bc8 ]] {\r\n",
       "}\r\n",
       "comp usage \"z\" as E8  <<(T,blue)attribute>> [[psysml:8698e020-730f-4ac9-88e5-943d82c20ca0 ]] {\r\n",
       "}\r\n",
       "E3 ..>> E4 [[psysml:f56c438f-52f0-4453-9ce2-0999d9bfb233 ]] : <<depend>>\r\n",
       "E4 ..>> E5 [[psysml:149727ef-4884-4150-ac87-83ab56bc940c ]] : <<depend>>\r\n",
       "E8 ..>> E6 [[psysml:6d264d90-cc53-4d32-95c3-fe1ad979e012 ]] : <<depend>>\r\n",
       "E8 ..>> E7 [[psysml:6d264d90-cc53-4d32-95c3-fe1ad979e012 ]] : <<depend>>\r\n",
       "}\r\n",
       "@enduml\r\n",
       "\n",
       "PlantUML version 1.2020.13(Sat Jun 13 12:26:38 UTC 2020)\n",
       "(EPL source distribution)\n",
       "Java Runtime: OpenJDK Runtime Environment\n",
       "JVM: OpenJDK 64-Bit Server VM\n",
       "Default Encoding: UTF-8\n",
       "Language: en\n",
       "Country: null\n",
       "--></g></svg>"
      ]
     },
     "execution_count": 50,
     "metadata": {},
     "output_type": "execute_result"
    }
   ],
   "source": [
    "%viz --style=\"TB\" --view=\"MIXED\" \"DependencyTest\""
   ]
  },
  {
   "cell_type": "code",
   "execution_count": 51,
   "id": "8a58ec5c",
   "metadata": {
    "execution": {
     "iopub.execute_input": "2021-04-20T07:32:20.962942Z",
     "iopub.status.busy": "2021-04-20T07:32:20.962540Z",
     "iopub.status.idle": "2021-04-20T07:32:20.994767Z",
     "shell.execute_reply": "2021-04-20T07:32:20.993422Z"
    }
   },
   "outputs": [
    {
     "data": {
      "image/svg+xml": [
       "<?xml version=\"1.0\" encoding=\"UTF-8\" standalone=\"no\"?><svg xmlns=\"http://www.w3.org/2000/svg\" xmlns:xlink=\"http://www.w3.org/1999/xlink\" contentScriptType=\"application/ecmascript\" contentStyleType=\"text/css\" height=\"449px\" preserveAspectRatio=\"none\" style=\"width:489px;height:449px;\" version=\"1.1\" viewBox=\"0 0 489 449\" width=\"489px\" zoomAndPan=\"magnify\"><defs/><g><!--MD5=[fbc87193dbaf4d95561dea2c320d4a47]\n",
       "cluster E1--><a href=\"psysml:d56232e2-0bee-4a1a-bb9b-8eb4f38b0dfa\" target=\"_top\" title=\"psysml:d56232e2-0bee-4a1a-bb9b-8eb4f38b0dfa\" xlink:actuate=\"onRequest\" xlink:href=\"psysml:d56232e2-0bee-4a1a-bb9b-8eb4f38b0dfa\" xlink:show=\"new\" xlink:title=\"psysml:d56232e2-0bee-4a1a-bb9b-8eb4f38b0dfa\" xlink:type=\"simple\"><polygon fill=\"#FFFFFF\" points=\"16,6,156,6,163,28.2969,467,28.2969,467,437,16,437,16,6\" style=\"stroke: #000000; stroke-width: 1.5;\"/><line style=\"stroke: #000000; stroke-width: 1.5;\" x1=\"16\" x2=\"163\" y1=\"28.2969\" y2=\"28.2969\"/><text fill=\"#000000\" font-family=\"sans-serif\" font-size=\"14\" font-weight=\"bold\" lengthAdjust=\"spacingAndGlyphs\" textLength=\"134\" x=\"20\" y=\"20.9951\">DependencyTest</text></a><!--MD5=[e4f7fae6ed58524ba242bb0b0d3be6b7]\n",
       "cluster E2--><a href=\"psysml:50d5e3ed-2307-46ca-b041-8429ee229b8d\" target=\"_top\" title=\"psysml:50d5e3ed-2307-46ca-b041-8429ee229b8d\" xlink:actuate=\"onRequest\" xlink:href=\"psysml:50d5e3ed-2307-46ca-b041-8429ee229b8d\" xlink:show=\"new\" xlink:title=\"psysml:50d5e3ed-2307-46ca-b041-8429ee229b8d\" xlink:type=\"simple\"><polygon fill=\"#FFFFFF\" points=\"255,49,319,49,326,71.2969,443,71.2969,443,413,255,413,255,49\" style=\"stroke: #000000; stroke-width: 1.5;\"/><line style=\"stroke: #000000; stroke-width: 1.5;\" x1=\"255\" x2=\"326\" y1=\"71.2969\" y2=\"71.2969\"/><text fill=\"#000000\" font-family=\"sans-serif\" font-size=\"14\" font-weight=\"bold\" lengthAdjust=\"spacingAndGlyphs\" textLength=\"58\" x=\"259\" y=\"63.9951\">System</text></a><!--MD5=[60a26617385b1d2d0262a64233df1f8d]\n",
       "class E6--><a href=\"psysml:ee6e66ae-6a4f-4999-8c9e-f85171cea95e\" target=\"_top\" title=\"psysml:ee6e66ae-6a4f-4999-8c9e-f85171cea95e\" xlink:actuate=\"onRequest\" xlink:href=\"psysml:ee6e66ae-6a4f-4999-8c9e-f85171cea95e\" xlink:show=\"new\" xlink:title=\"psysml:ee6e66ae-6a4f-4999-8c9e-f85171cea95e\" xlink:type=\"simple\"><rect fill=\"#FFFFFF\" height=\"45.9375\" id=\"E6\" rx=\"10\" ry=\"10\" style=\"stroke: #383838; stroke-width: 1.5;\" width=\"71\" x=\"32.5\" y=\"217.5\"/><text fill=\"#000000\" font-family=\"sans-serif\" font-size=\"12\" font-style=\"italic\" lengthAdjust=\"spacingAndGlyphs\" textLength=\"69\" x=\"33.5\" y=\"233.6387\">«attribute»</text><text fill=\"#000000\" font-family=\"sans-serif\" font-size=\"12\" lengthAdjust=\"spacingAndGlyphs\" textLength=\"6\" x=\"65\" y=\"247.6074\">x</text><line style=\"stroke: #383838; stroke-width: 1.5;\" x1=\"33.5\" x2=\"102.5\" y1=\"255.4375\" y2=\"255.4375\"/></a><!--MD5=[2156ba9850f5573cc1fc38a6a4b2f02b]\n",
       "class E7--><a href=\"psysml:da3973fb-164e-4f16-bb62-2f8eaef60bc8\" target=\"_top\" title=\"psysml:da3973fb-164e-4f16-bb62-2f8eaef60bc8\" xlink:actuate=\"onRequest\" xlink:href=\"psysml:da3973fb-164e-4f16-bb62-2f8eaef60bc8\" xlink:show=\"new\" xlink:title=\"psysml:da3973fb-164e-4f16-bb62-2f8eaef60bc8\" xlink:type=\"simple\"><rect fill=\"#FFFFFF\" height=\"45.9375\" id=\"E7\" rx=\"10\" ry=\"10\" style=\"stroke: #383838; stroke-width: 1.5;\" width=\"71\" x=\"138.5\" y=\"217.5\"/><text fill=\"#000000\" font-family=\"sans-serif\" font-size=\"12\" font-style=\"italic\" lengthAdjust=\"spacingAndGlyphs\" textLength=\"69\" x=\"139.5\" y=\"233.6387\">«attribute»</text><text fill=\"#000000\" font-family=\"sans-serif\" font-size=\"12\" lengthAdjust=\"spacingAndGlyphs\" textLength=\"6\" x=\"171\" y=\"247.6074\">y</text><line style=\"stroke: #383838; stroke-width: 1.5;\" x1=\"139.5\" x2=\"208.5\" y1=\"255.4375\" y2=\"255.4375\"/></a><!--MD5=[b9389687b975829384b498ac4b7476b2]\n",
       "class E8--><a href=\"psysml:8698e020-730f-4ac9-88e5-943d82c20ca0\" target=\"_top\" title=\"psysml:8698e020-730f-4ac9-88e5-943d82c20ca0\" xlink:actuate=\"onRequest\" xlink:href=\"psysml:8698e020-730f-4ac9-88e5-943d82c20ca0\" xlink:show=\"new\" xlink:title=\"psysml:8698e020-730f-4ac9-88e5-943d82c20ca0\" xlink:type=\"simple\"><rect fill=\"#FFFFFF\" height=\"45.9375\" id=\"E8\" rx=\"10\" ry=\"10\" style=\"stroke: #383838; stroke-width: 1.5;\" width=\"71\" x=\"84.5\" y=\"87.5\"/><text fill=\"#000000\" font-family=\"sans-serif\" font-size=\"12\" font-style=\"italic\" lengthAdjust=\"spacingAndGlyphs\" textLength=\"69\" x=\"85.5\" y=\"103.6387\">«attribute»</text><text fill=\"#000000\" font-family=\"sans-serif\" font-size=\"12\" lengthAdjust=\"spacingAndGlyphs\" textLength=\"5\" x=\"117.5\" y=\"117.6074\">z</text><line style=\"stroke: #383838; stroke-width: 1.5;\" x1=\"85.5\" x2=\"154.5\" y1=\"125.4375\" y2=\"125.4375\"/></a><a href=\"psysml:bf62b3a1-f030-4eff-b8ce-ffbdff107a6f\" target=\"_top\" title=\"psysml:bf62b3a1-f030-4eff-b8ce-ffbdff107a6f\" xlink:actuate=\"onRequest\" xlink:href=\"psysml:bf62b3a1-f030-4eff-b8ce-ffbdff107a6f\" xlink:show=\"new\" xlink:title=\"psysml:bf62b3a1-f030-4eff-b8ce-ffbdff107a6f\" xlink:type=\"simple\"><polygon fill=\"#FFFFFF\" points=\"271,84,413,84,420,106.2969,427,106.2969,427,136.5938,271,136.5938,271,84\" style=\"stroke: #000000; stroke-width: 1.5;\"/><line style=\"stroke: #000000; stroke-width: 1.5;\" x1=\"271\" x2=\"420\" y1=\"106.2969\" y2=\"106.2969\"/><text fill=\"#000000\" font-family=\"sans-serif\" font-size=\"14\" font-weight=\"bold\" lengthAdjust=\"spacingAndGlyphs\" textLength=\"136\" x=\"275\" y=\"98.9951\">Application Layer</text></a><a href=\"psysml:471b2f11-dcf9-418e-881d-688bae838b3f\" target=\"_top\" title=\"psysml:471b2f11-dcf9-418e-881d-688bae838b3f\" xlink:actuate=\"onRequest\" xlink:href=\"psysml:471b2f11-dcf9-418e-881d-688bae838b3f\" xlink:show=\"new\" xlink:title=\"psysml:471b2f11-dcf9-418e-881d-688bae838b3f\" xlink:type=\"simple\"><polygon fill=\"#FFFFFF\" points=\"285,214,399,214,406,236.2969,413,236.2969,413,266.5938,285,266.5938,285,214\" style=\"stroke: #000000; stroke-width: 1.5;\"/><line style=\"stroke: #000000; stroke-width: 1.5;\" x1=\"285\" x2=\"406\" y1=\"236.2969\" y2=\"236.2969\"/><text fill=\"#000000\" font-family=\"sans-serif\" font-size=\"14\" font-weight=\"bold\" lengthAdjust=\"spacingAndGlyphs\" textLength=\"108\" x=\"289\" y=\"228.9951\">Service Layer</text></a><a href=\"psysml:da794142-8c7c-4611-9580-abeb242da5ef\" target=\"_top\" title=\"psysml:da794142-8c7c-4611-9580-abeb242da5ef\" xlink:actuate=\"onRequest\" xlink:href=\"psysml:da794142-8c7c-4611-9580-abeb242da5ef\" xlink:show=\"new\" xlink:title=\"psysml:da794142-8c7c-4611-9580-abeb242da5ef\" xlink:type=\"simple\"><polygon fill=\"#FFFFFF\" points=\"297,344,387,344,394,366.2969,401,366.2969,401,396.5938,297,396.5938,297,344\" style=\"stroke: #000000; stroke-width: 1.5;\"/><line style=\"stroke: #000000; stroke-width: 1.5;\" x1=\"297\" x2=\"394\" y1=\"366.2969\" y2=\"366.2969\"/><text fill=\"#000000\" font-family=\"sans-serif\" font-size=\"14\" font-weight=\"bold\" lengthAdjust=\"spacingAndGlyphs\" textLength=\"84\" x=\"301\" y=\"358.9951\">Data Layer</text></a><!--MD5=[af87c684e3b0d8be13c1a698a818ef1e]\n",
       "link E3 to E4--><a href=\"psysml:f56c438f-52f0-4453-9ce2-0999d9bfb233\" target=\"_top\" title=\"psysml:f56c438f-52f0-4453-9ce2-0999d9bfb233\" xlink:actuate=\"onRequest\" xlink:href=\"psysml:f56c438f-52f0-4453-9ce2-0999d9bfb233\" xlink:show=\"new\" xlink:title=\"psysml:f56c438f-52f0-4453-9ce2-0999d9bfb233\" xlink:type=\"simple\"><path d=\"M349,137.12 C349,137.12 349,205.91 349,205.91 \" fill=\"none\" id=\"E3-&gt;E4\" style=\"stroke: #383838; stroke-width: 1.0; stroke-dasharray: 7.0,7.0;\"/><polygon fill=\"#383838\" points=\"349,213.91,352,205.91,346,205.91,349,213.91\" style=\"stroke: #383838; stroke-width: 1.0;\"/><text fill=\"#000000\" font-family=\"sans-serif\" font-size=\"13\" lengthAdjust=\"spacingAndGlyphs\" textLength=\"64\" x=\"350\" y=\"180.0669\">«depend»</text></a><!--MD5=[1b7591eae5389033d8d09a9d6721a717]\n",
       "link E4 to E5--><a href=\"psysml:149727ef-4884-4150-ac87-83ab56bc940c\" target=\"_top\" title=\"psysml:149727ef-4884-4150-ac87-83ab56bc940c\" xlink:actuate=\"onRequest\" xlink:href=\"psysml:149727ef-4884-4150-ac87-83ab56bc940c\" xlink:show=\"new\" xlink:title=\"psysml:149727ef-4884-4150-ac87-83ab56bc940c\" xlink:type=\"simple\"><path d=\"M349,267.12 C349,267.12 349,335.91 349,335.91 \" fill=\"none\" id=\"E4-&gt;E5\" style=\"stroke: #383838; stroke-width: 1.0; stroke-dasharray: 7.0,7.0;\"/><polygon fill=\"#383838\" points=\"349,343.91,352,335.91,346,335.91,349,343.91\" style=\"stroke: #383838; stroke-width: 1.0;\"/><text fill=\"#000000\" font-family=\"sans-serif\" font-size=\"13\" lengthAdjust=\"spacingAndGlyphs\" textLength=\"64\" x=\"350\" y=\"310.0669\">«depend»</text></a><!--MD5=[c5e8897d989ce984f93528998a7150fe]\n",
       "link E8 to E6--><a href=\"psysml:6d264d90-cc53-4d32-95c3-fe1ad979e012\" target=\"_top\" title=\"psysml:6d264d90-cc53-4d32-95c3-fe1ad979e012\" xlink:actuate=\"onRequest\" xlink:href=\"psysml:6d264d90-cc53-4d32-95c3-fe1ad979e012\" xlink:show=\"new\" xlink:title=\"psysml:6d264d90-cc53-4d32-95c3-fe1ad979e012\" xlink:type=\"simple\"><path d=\"M94,133.74 C94,133.74 94,209.46 94,209.46 \" fill=\"none\" id=\"E8-&gt;E6\" style=\"stroke: #383838; stroke-width: 1.0; stroke-dasharray: 7.0,7.0;\"/><polygon fill=\"#383838\" points=\"94,217.46,97,209.46,91,209.46,94,217.46\" style=\"stroke: #383838; stroke-width: 1.0;\"/><text fill=\"#000000\" font-family=\"sans-serif\" font-size=\"13\" lengthAdjust=\"spacingAndGlyphs\" textLength=\"64\" x=\"68\" y=\"180.0669\">«depend»</text></a><!--MD5=[bfa3c8b0d15052fdf50ae9310b491027]\n",
       "link E8 to E7--><a href=\"psysml:6d264d90-cc53-4d32-95c3-fe1ad979e012\" target=\"_top\" title=\"psysml:6d264d90-cc53-4d32-95c3-fe1ad979e012\" xlink:actuate=\"onRequest\" xlink:href=\"psysml:6d264d90-cc53-4d32-95c3-fe1ad979e012\" xlink:show=\"new\" xlink:title=\"psysml:6d264d90-cc53-4d32-95c3-fe1ad979e012\" xlink:type=\"simple\"><path d=\"M147,133.74 C147,133.74 147,209.46 147,209.46 \" fill=\"none\" id=\"E8-&gt;E7\" style=\"stroke: #383838; stroke-width: 1.0; stroke-dasharray: 7.0,7.0;\"/><polygon fill=\"#383838\" points=\"147,217.46,150,209.46,144,209.46,147,217.46\" style=\"stroke: #383838; stroke-width: 1.0;\"/><text fill=\"#000000\" font-family=\"sans-serif\" font-size=\"13\" lengthAdjust=\"spacingAndGlyphs\" textLength=\"64\" x=\"174\" y=\"180.0669\">«depend»</text></a><!--MD5=[a321fe37454c6bf5fd8172083dfd91f8]\n",
       "@startuml\r\n",
       "skinparam linetype ortho\r\n",
       "skinparam monochrome true\r\n",
       "skinparam classbackgroundcolor white\r\n",
       "skinparam shadowing false\r\n",
       "skinparam wrapWidth 300\r\n",
       "hide circle\r\n",
       "\r\n",
       "package \"DependencyTest\" as E1  [[psysml:d56232e2-0bee-4a1a-bb9b-8eb4f38b0dfa ]]  {\r\n",
       "package \"System\" as E2  [[psysml:50d5e3ed-2307-46ca-b041-8429ee229b8d ]]  {\r\n",
       "package \"Application Layer\" as E3  [[psysml:bf62b3a1-f030-4eff-b8ce-ffbdff107a6f ]]  {\r\n",
       "}\r\n",
       "package \"Service Layer\" as E4  [[psysml:471b2f11-dcf9-418e-881d-688bae838b3f ]]  {\r\n",
       "}\r\n",
       "package \"Data Layer\" as E5  [[psysml:da794142-8c7c-4611-9580-abeb242da5ef ]]  {\r\n",
       "}\r\n",
       "}\r\n",
       "comp usage \"x\" as E6  <<(T,blue)attribute>> [[psysml:ee6e66ae-6a4f-4999-8c9e-f85171cea95e ]] {\r\n",
       "}\r\n",
       "comp usage \"y\" as E7  <<(T,blue)attribute>> [[psysml:da3973fb-164e-4f16-bb62-2f8eaef60bc8 ]] {\r\n",
       "}\r\n",
       "comp usage \"z\" as E8  <<(T,blue)attribute>> [[psysml:8698e020-730f-4ac9-88e5-943d82c20ca0 ]] {\r\n",
       "}\r\n",
       "E3 ..>> E4 [[psysml:f56c438f-52f0-4453-9ce2-0999d9bfb233 ]] : <<depend>>\r\n",
       "E4 ..>> E5 [[psysml:149727ef-4884-4150-ac87-83ab56bc940c ]] : <<depend>>\r\n",
       "E8 ..>> E6 [[psysml:6d264d90-cc53-4d32-95c3-fe1ad979e012 ]] : <<depend>>\r\n",
       "E8 ..>> E7 [[psysml:6d264d90-cc53-4d32-95c3-fe1ad979e012 ]] : <<depend>>\r\n",
       "}\r\n",
       "@enduml\r\n",
       "\n",
       "PlantUML version 1.2020.13(Sat Jun 13 12:26:38 UTC 2020)\n",
       "(EPL source distribution)\n",
       "Java Runtime: OpenJDK Runtime Environment\n",
       "JVM: OpenJDK 64-Bit Server VM\n",
       "Default Encoding: UTF-8\n",
       "Language: en\n",
       "Country: null\n",
       "--></g></svg>"
      ]
     },
     "execution_count": 51,
     "metadata": {},
     "output_type": "execute_result"
    }
   ],
   "source": [
    "%viz --style=\"ORTHOLINE\" --view=\"Default\" \"DependencyTest\""
   ]
  },
  {
   "cell_type": "code",
   "execution_count": 52,
   "id": "c91b2504",
   "metadata": {
    "execution": {
     "iopub.execute_input": "2021-04-20T07:32:21.045013Z",
     "iopub.status.busy": "2021-04-20T07:32:21.044646Z",
     "iopub.status.idle": "2021-04-20T07:32:21.076384Z",
     "shell.execute_reply": "2021-04-20T07:32:21.075044Z"
    }
   },
   "outputs": [
    {
     "data": {
      "image/svg+xml": [
       "<?xml version=\"1.0\" encoding=\"UTF-8\" standalone=\"no\"?><svg xmlns=\"http://www.w3.org/2000/svg\" xmlns:xlink=\"http://www.w3.org/1999/xlink\" contentScriptType=\"application/ecmascript\" contentStyleType=\"text/css\" height=\"449px\" preserveAspectRatio=\"none\" style=\"width:489px;height:449px;\" version=\"1.1\" viewBox=\"0 0 489 449\" width=\"489px\" zoomAndPan=\"magnify\"><defs/><g><!--MD5=[fbc87193dbaf4d95561dea2c320d4a47]\n",
       "cluster E1--><a href=\"psysml:d56232e2-0bee-4a1a-bb9b-8eb4f38b0dfa\" target=\"_top\" title=\"psysml:d56232e2-0bee-4a1a-bb9b-8eb4f38b0dfa\" xlink:actuate=\"onRequest\" xlink:href=\"psysml:d56232e2-0bee-4a1a-bb9b-8eb4f38b0dfa\" xlink:show=\"new\" xlink:title=\"psysml:d56232e2-0bee-4a1a-bb9b-8eb4f38b0dfa\" xlink:type=\"simple\"><polygon fill=\"#FFFFFF\" points=\"16,6,156,6,163,28.2969,467,28.2969,467,437,16,437,16,6\" style=\"stroke: #000000; stroke-width: 1.5;\"/><line style=\"stroke: #000000; stroke-width: 1.5;\" x1=\"16\" x2=\"163\" y1=\"28.2969\" y2=\"28.2969\"/><text fill=\"#000000\" font-family=\"sans-serif\" font-size=\"14\" font-weight=\"bold\" lengthAdjust=\"spacingAndGlyphs\" textLength=\"134\" x=\"20\" y=\"20.9951\">DependencyTest</text></a><!--MD5=[e4f7fae6ed58524ba242bb0b0d3be6b7]\n",
       "cluster E2--><a href=\"psysml:50d5e3ed-2307-46ca-b041-8429ee229b8d\" target=\"_top\" title=\"psysml:50d5e3ed-2307-46ca-b041-8429ee229b8d\" xlink:actuate=\"onRequest\" xlink:href=\"psysml:50d5e3ed-2307-46ca-b041-8429ee229b8d\" xlink:show=\"new\" xlink:title=\"psysml:50d5e3ed-2307-46ca-b041-8429ee229b8d\" xlink:type=\"simple\"><polygon fill=\"#FFFFFF\" points=\"255,49,319,49,326,71.2969,443,71.2969,443,413,255,413,255,49\" style=\"stroke: #000000; stroke-width: 1.5;\"/><line style=\"stroke: #000000; stroke-width: 1.5;\" x1=\"255\" x2=\"326\" y1=\"71.2969\" y2=\"71.2969\"/><text fill=\"#000000\" font-family=\"sans-serif\" font-size=\"14\" font-weight=\"bold\" lengthAdjust=\"spacingAndGlyphs\" textLength=\"58\" x=\"259\" y=\"63.9951\">System</text></a><!--MD5=[60a26617385b1d2d0262a64233df1f8d]\n",
       "class E6--><a href=\"psysml:ee6e66ae-6a4f-4999-8c9e-f85171cea95e\" target=\"_top\" title=\"psysml:ee6e66ae-6a4f-4999-8c9e-f85171cea95e\" xlink:actuate=\"onRequest\" xlink:href=\"psysml:ee6e66ae-6a4f-4999-8c9e-f85171cea95e\" xlink:show=\"new\" xlink:title=\"psysml:ee6e66ae-6a4f-4999-8c9e-f85171cea95e\" xlink:type=\"simple\"><rect fill=\"#FFFFFF\" height=\"45.9375\" id=\"E6\" rx=\"10\" ry=\"10\" style=\"stroke: #383838; stroke-width: 1.5;\" width=\"71\" x=\"32.5\" y=\"217.5\"/><text fill=\"#000000\" font-family=\"sans-serif\" font-size=\"12\" font-style=\"italic\" lengthAdjust=\"spacingAndGlyphs\" textLength=\"69\" x=\"33.5\" y=\"233.6387\">«attribute»</text><text fill=\"#000000\" font-family=\"sans-serif\" font-size=\"12\" lengthAdjust=\"spacingAndGlyphs\" textLength=\"6\" x=\"65\" y=\"247.6074\">x</text><line style=\"stroke: #383838; stroke-width: 1.5;\" x1=\"33.5\" x2=\"102.5\" y1=\"255.4375\" y2=\"255.4375\"/></a><!--MD5=[2156ba9850f5573cc1fc38a6a4b2f02b]\n",
       "class E7--><a href=\"psysml:da3973fb-164e-4f16-bb62-2f8eaef60bc8\" target=\"_top\" title=\"psysml:da3973fb-164e-4f16-bb62-2f8eaef60bc8\" xlink:actuate=\"onRequest\" xlink:href=\"psysml:da3973fb-164e-4f16-bb62-2f8eaef60bc8\" xlink:show=\"new\" xlink:title=\"psysml:da3973fb-164e-4f16-bb62-2f8eaef60bc8\" xlink:type=\"simple\"><rect fill=\"#FFFFFF\" height=\"45.9375\" id=\"E7\" rx=\"10\" ry=\"10\" style=\"stroke: #383838; stroke-width: 1.5;\" width=\"71\" x=\"138.5\" y=\"217.5\"/><text fill=\"#000000\" font-family=\"sans-serif\" font-size=\"12\" font-style=\"italic\" lengthAdjust=\"spacingAndGlyphs\" textLength=\"69\" x=\"139.5\" y=\"233.6387\">«attribute»</text><text fill=\"#000000\" font-family=\"sans-serif\" font-size=\"12\" lengthAdjust=\"spacingAndGlyphs\" textLength=\"6\" x=\"171\" y=\"247.6074\">y</text><line style=\"stroke: #383838; stroke-width: 1.5;\" x1=\"139.5\" x2=\"208.5\" y1=\"255.4375\" y2=\"255.4375\"/></a><!--MD5=[b9389687b975829384b498ac4b7476b2]\n",
       "class E8--><a href=\"psysml:8698e020-730f-4ac9-88e5-943d82c20ca0\" target=\"_top\" title=\"psysml:8698e020-730f-4ac9-88e5-943d82c20ca0\" xlink:actuate=\"onRequest\" xlink:href=\"psysml:8698e020-730f-4ac9-88e5-943d82c20ca0\" xlink:show=\"new\" xlink:title=\"psysml:8698e020-730f-4ac9-88e5-943d82c20ca0\" xlink:type=\"simple\"><rect fill=\"#FFFFFF\" height=\"45.9375\" id=\"E8\" rx=\"10\" ry=\"10\" style=\"stroke: #383838; stroke-width: 1.5;\" width=\"71\" x=\"84.5\" y=\"87.5\"/><text fill=\"#000000\" font-family=\"sans-serif\" font-size=\"12\" font-style=\"italic\" lengthAdjust=\"spacingAndGlyphs\" textLength=\"69\" x=\"85.5\" y=\"103.6387\">«attribute»</text><text fill=\"#000000\" font-family=\"sans-serif\" font-size=\"12\" lengthAdjust=\"spacingAndGlyphs\" textLength=\"5\" x=\"117.5\" y=\"117.6074\">z</text><line style=\"stroke: #383838; stroke-width: 1.5;\" x1=\"85.5\" x2=\"154.5\" y1=\"125.4375\" y2=\"125.4375\"/></a><a href=\"psysml:bf62b3a1-f030-4eff-b8ce-ffbdff107a6f\" target=\"_top\" title=\"psysml:bf62b3a1-f030-4eff-b8ce-ffbdff107a6f\" xlink:actuate=\"onRequest\" xlink:href=\"psysml:bf62b3a1-f030-4eff-b8ce-ffbdff107a6f\" xlink:show=\"new\" xlink:title=\"psysml:bf62b3a1-f030-4eff-b8ce-ffbdff107a6f\" xlink:type=\"simple\"><polygon fill=\"#FFFFFF\" points=\"271,84,413,84,420,106.2969,427,106.2969,427,136.5938,271,136.5938,271,84\" style=\"stroke: #000000; stroke-width: 1.5;\"/><line style=\"stroke: #000000; stroke-width: 1.5;\" x1=\"271\" x2=\"420\" y1=\"106.2969\" y2=\"106.2969\"/><text fill=\"#000000\" font-family=\"sans-serif\" font-size=\"14\" font-weight=\"bold\" lengthAdjust=\"spacingAndGlyphs\" textLength=\"136\" x=\"275\" y=\"98.9951\">Application Layer</text></a><a href=\"psysml:471b2f11-dcf9-418e-881d-688bae838b3f\" target=\"_top\" title=\"psysml:471b2f11-dcf9-418e-881d-688bae838b3f\" xlink:actuate=\"onRequest\" xlink:href=\"psysml:471b2f11-dcf9-418e-881d-688bae838b3f\" xlink:show=\"new\" xlink:title=\"psysml:471b2f11-dcf9-418e-881d-688bae838b3f\" xlink:type=\"simple\"><polygon fill=\"#FFFFFF\" points=\"285,214,399,214,406,236.2969,413,236.2969,413,266.5938,285,266.5938,285,214\" style=\"stroke: #000000; stroke-width: 1.5;\"/><line style=\"stroke: #000000; stroke-width: 1.5;\" x1=\"285\" x2=\"406\" y1=\"236.2969\" y2=\"236.2969\"/><text fill=\"#000000\" font-family=\"sans-serif\" font-size=\"14\" font-weight=\"bold\" lengthAdjust=\"spacingAndGlyphs\" textLength=\"108\" x=\"289\" y=\"228.9951\">Service Layer</text></a><a href=\"psysml:da794142-8c7c-4611-9580-abeb242da5ef\" target=\"_top\" title=\"psysml:da794142-8c7c-4611-9580-abeb242da5ef\" xlink:actuate=\"onRequest\" xlink:href=\"psysml:da794142-8c7c-4611-9580-abeb242da5ef\" xlink:show=\"new\" xlink:title=\"psysml:da794142-8c7c-4611-9580-abeb242da5ef\" xlink:type=\"simple\"><polygon fill=\"#FFFFFF\" points=\"297,344,387,344,394,366.2969,401,366.2969,401,396.5938,297,396.5938,297,344\" style=\"stroke: #000000; stroke-width: 1.5;\"/><line style=\"stroke: #000000; stroke-width: 1.5;\" x1=\"297\" x2=\"394\" y1=\"366.2969\" y2=\"366.2969\"/><text fill=\"#000000\" font-family=\"sans-serif\" font-size=\"14\" font-weight=\"bold\" lengthAdjust=\"spacingAndGlyphs\" textLength=\"84\" x=\"301\" y=\"358.9951\">Data Layer</text></a><!--MD5=[af87c684e3b0d8be13c1a698a818ef1e]\n",
       "link E3 to E4--><a href=\"psysml:f56c438f-52f0-4453-9ce2-0999d9bfb233\" target=\"_top\" title=\"psysml:f56c438f-52f0-4453-9ce2-0999d9bfb233\" xlink:actuate=\"onRequest\" xlink:href=\"psysml:f56c438f-52f0-4453-9ce2-0999d9bfb233\" xlink:show=\"new\" xlink:title=\"psysml:f56c438f-52f0-4453-9ce2-0999d9bfb233\" xlink:type=\"simple\"><path d=\"M349,137.12 C349,137.12 349,205.91 349,205.91 \" fill=\"none\" id=\"E3-&gt;E4\" style=\"stroke: #383838; stroke-width: 1.0; stroke-dasharray: 7.0,7.0;\"/><polygon fill=\"#383838\" points=\"349,213.91,352,205.91,346,205.91,349,213.91\" style=\"stroke: #383838; stroke-width: 1.0;\"/><text fill=\"#000000\" font-family=\"sans-serif\" font-size=\"13\" lengthAdjust=\"spacingAndGlyphs\" textLength=\"64\" x=\"350\" y=\"180.0669\">«depend»</text></a><!--MD5=[1b7591eae5389033d8d09a9d6721a717]\n",
       "link E4 to E5--><a href=\"psysml:149727ef-4884-4150-ac87-83ab56bc940c\" target=\"_top\" title=\"psysml:149727ef-4884-4150-ac87-83ab56bc940c\" xlink:actuate=\"onRequest\" xlink:href=\"psysml:149727ef-4884-4150-ac87-83ab56bc940c\" xlink:show=\"new\" xlink:title=\"psysml:149727ef-4884-4150-ac87-83ab56bc940c\" xlink:type=\"simple\"><path d=\"M349,267.12 C349,267.12 349,335.91 349,335.91 \" fill=\"none\" id=\"E4-&gt;E5\" style=\"stroke: #383838; stroke-width: 1.0; stroke-dasharray: 7.0,7.0;\"/><polygon fill=\"#383838\" points=\"349,343.91,352,335.91,346,335.91,349,343.91\" style=\"stroke: #383838; stroke-width: 1.0;\"/><text fill=\"#000000\" font-family=\"sans-serif\" font-size=\"13\" lengthAdjust=\"spacingAndGlyphs\" textLength=\"64\" x=\"350\" y=\"310.0669\">«depend»</text></a><!--MD5=[c5e8897d989ce984f93528998a7150fe]\n",
       "link E8 to E6--><a href=\"psysml:6d264d90-cc53-4d32-95c3-fe1ad979e012\" target=\"_top\" title=\"psysml:6d264d90-cc53-4d32-95c3-fe1ad979e012\" xlink:actuate=\"onRequest\" xlink:href=\"psysml:6d264d90-cc53-4d32-95c3-fe1ad979e012\" xlink:show=\"new\" xlink:title=\"psysml:6d264d90-cc53-4d32-95c3-fe1ad979e012\" xlink:type=\"simple\"><path d=\"M94,133.74 C94,133.74 94,209.46 94,209.46 \" fill=\"none\" id=\"E8-&gt;E6\" style=\"stroke: #383838; stroke-width: 1.0; stroke-dasharray: 7.0,7.0;\"/><polygon fill=\"#383838\" points=\"94,217.46,97,209.46,91,209.46,94,217.46\" style=\"stroke: #383838; stroke-width: 1.0;\"/><text fill=\"#000000\" font-family=\"sans-serif\" font-size=\"13\" lengthAdjust=\"spacingAndGlyphs\" textLength=\"64\" x=\"68\" y=\"180.0669\">«depend»</text></a><!--MD5=[bfa3c8b0d15052fdf50ae9310b491027]\n",
       "link E8 to E7--><a href=\"psysml:6d264d90-cc53-4d32-95c3-fe1ad979e012\" target=\"_top\" title=\"psysml:6d264d90-cc53-4d32-95c3-fe1ad979e012\" xlink:actuate=\"onRequest\" xlink:href=\"psysml:6d264d90-cc53-4d32-95c3-fe1ad979e012\" xlink:show=\"new\" xlink:title=\"psysml:6d264d90-cc53-4d32-95c3-fe1ad979e012\" xlink:type=\"simple\"><path d=\"M147,133.74 C147,133.74 147,209.46 147,209.46 \" fill=\"none\" id=\"E8-&gt;E7\" style=\"stroke: #383838; stroke-width: 1.0; stroke-dasharray: 7.0,7.0;\"/><polygon fill=\"#383838\" points=\"147,217.46,150,209.46,144,209.46,147,217.46\" style=\"stroke: #383838; stroke-width: 1.0;\"/><text fill=\"#000000\" font-family=\"sans-serif\" font-size=\"13\" lengthAdjust=\"spacingAndGlyphs\" textLength=\"64\" x=\"174\" y=\"180.0669\">«depend»</text></a><!--MD5=[a321fe37454c6bf5fd8172083dfd91f8]\n",
       "@startuml\r\n",
       "skinparam linetype ortho\r\n",
       "skinparam monochrome true\r\n",
       "skinparam classbackgroundcolor white\r\n",
       "skinparam shadowing false\r\n",
       "skinparam wrapWidth 300\r\n",
       "hide circle\r\n",
       "\r\n",
       "package \"DependencyTest\" as E1  [[psysml:d56232e2-0bee-4a1a-bb9b-8eb4f38b0dfa ]]  {\r\n",
       "package \"System\" as E2  [[psysml:50d5e3ed-2307-46ca-b041-8429ee229b8d ]]  {\r\n",
       "package \"Application Layer\" as E3  [[psysml:bf62b3a1-f030-4eff-b8ce-ffbdff107a6f ]]  {\r\n",
       "}\r\n",
       "package \"Service Layer\" as E4  [[psysml:471b2f11-dcf9-418e-881d-688bae838b3f ]]  {\r\n",
       "}\r\n",
       "package \"Data Layer\" as E5  [[psysml:da794142-8c7c-4611-9580-abeb242da5ef ]]  {\r\n",
       "}\r\n",
       "}\r\n",
       "comp usage \"x\" as E6  <<(T,blue)attribute>> [[psysml:ee6e66ae-6a4f-4999-8c9e-f85171cea95e ]] {\r\n",
       "}\r\n",
       "comp usage \"y\" as E7  <<(T,blue)attribute>> [[psysml:da3973fb-164e-4f16-bb62-2f8eaef60bc8 ]] {\r\n",
       "}\r\n",
       "comp usage \"z\" as E8  <<(T,blue)attribute>> [[psysml:8698e020-730f-4ac9-88e5-943d82c20ca0 ]] {\r\n",
       "}\r\n",
       "E3 ..>> E4 [[psysml:f56c438f-52f0-4453-9ce2-0999d9bfb233 ]] : <<depend>>\r\n",
       "E4 ..>> E5 [[psysml:149727ef-4884-4150-ac87-83ab56bc940c ]] : <<depend>>\r\n",
       "E8 ..>> E6 [[psysml:6d264d90-cc53-4d32-95c3-fe1ad979e012 ]] : <<depend>>\r\n",
       "E8 ..>> E7 [[psysml:6d264d90-cc53-4d32-95c3-fe1ad979e012 ]] : <<depend>>\r\n",
       "}\r\n",
       "@enduml\r\n",
       "\n",
       "PlantUML version 1.2020.13(Sat Jun 13 12:26:38 UTC 2020)\n",
       "(EPL source distribution)\n",
       "Java Runtime: OpenJDK Runtime Environment\n",
       "JVM: OpenJDK 64-Bit Server VM\n",
       "Default Encoding: UTF-8\n",
       "Language: en\n",
       "Country: null\n",
       "--></g></svg>"
      ]
     },
     "execution_count": 52,
     "metadata": {},
     "output_type": "execute_result"
    }
   ],
   "source": [
    "%viz --style=\"ORTHOLINE\" --view=\"Tree\" \"DependencyTest\""
   ]
  },
  {
   "cell_type": "code",
   "execution_count": 53,
   "id": "0b958c25",
   "metadata": {
    "execution": {
     "iopub.execute_input": "2021-04-20T07:32:21.126384Z",
     "iopub.status.busy": "2021-04-20T07:32:21.125934Z",
     "iopub.status.idle": "2021-04-20T07:32:21.132464Z",
     "shell.execute_reply": "2021-04-20T07:32:21.132789Z"
    }
   },
   "outputs": [
    {
     "data": {
      "image/svg+xml": [
       "<?xml version=\"1.0\" encoding=\"UTF-8\" standalone=\"no\"?><svg xmlns=\"http://www.w3.org/2000/svg\" xmlns:xlink=\"http://www.w3.org/1999/xlink\" contentScriptType=\"application/ecmascript\" contentStyleType=\"text/css\" height=\"12px\" preserveAspectRatio=\"none\" style=\"width:12px;height:12px;\" version=\"1.1\" viewBox=\"0 0 12 12\" width=\"12px\" zoomAndPan=\"magnify\"><defs/><g><!--MD5=[97d6f38768b311333d388e66b2b27985]\n",
       "@startuml\r\n",
       "skinparam linetype ortho\r\n",
       "skinparam monochrome true\r\n",
       "skinparam classbackgroundcolor white\r\n",
       "skinparam shadowing false\r\n",
       "skinparam wrapWidth 300\r\n",
       "hide circle\r\n",
       "\r\n",
       "@enduml\r\n",
       "\n",
       "PlantUML version 1.2020.13(Sat Jun 13 12:26:38 UTC 2020)\n",
       "(EPL source distribution)\n",
       "Java Runtime: OpenJDK Runtime Environment\n",
       "JVM: OpenJDK 64-Bit Server VM\n",
       "Default Encoding: UTF-8\n",
       "Language: en\n",
       "Country: null\n",
       "--></g></svg>"
      ]
     },
     "execution_count": 53,
     "metadata": {},
     "output_type": "execute_result"
    }
   ],
   "source": [
    "%viz --style=\"ORTHOLINE\" --view=\"State\" \"DependencyTest\""
   ]
  },
  {
   "cell_type": "code",
   "execution_count": 54,
   "id": "86f418fb",
   "metadata": {
    "execution": {
     "iopub.execute_input": "2021-04-20T07:32:21.183643Z",
     "iopub.status.busy": "2021-04-20T07:32:21.183137Z",
     "iopub.status.idle": "2021-04-20T07:32:21.217522Z",
     "shell.execute_reply": "2021-04-20T07:32:21.217171Z"
    }
   },
   "outputs": [
    {
     "data": {
      "image/svg+xml": [
       "<?xml version=\"1.0\" encoding=\"UTF-8\" standalone=\"no\"?><svg xmlns=\"http://www.w3.org/2000/svg\" xmlns:xlink=\"http://www.w3.org/1999/xlink\" contentScriptType=\"application/ecmascript\" contentStyleType=\"text/css\" height=\"361px\" preserveAspectRatio=\"none\" style=\"width:489px;height:361px;\" version=\"1.1\" viewBox=\"0 0 489 361\" width=\"489px\" zoomAndPan=\"magnify\"><defs/><g><!--MD5=[fbc87193dbaf4d95561dea2c320d4a47]\n",
       "cluster E1--><a href=\"psysml:d56232e2-0bee-4a1a-bb9b-8eb4f38b0dfa\" target=\"_top\" title=\"psysml:d56232e2-0bee-4a1a-bb9b-8eb4f38b0dfa\" xlink:actuate=\"onRequest\" xlink:href=\"psysml:d56232e2-0bee-4a1a-bb9b-8eb4f38b0dfa\" xlink:show=\"new\" xlink:title=\"psysml:d56232e2-0bee-4a1a-bb9b-8eb4f38b0dfa\" xlink:type=\"simple\"><polygon fill=\"#FFFFFF\" points=\"16,6,156,6,163,28.2969,467,28.2969,467,349,16,349,16,6\" style=\"stroke: #000000; stroke-width: 1.5;\"/><line style=\"stroke: #000000; stroke-width: 1.5;\" x1=\"16\" x2=\"163\" y1=\"28.2969\" y2=\"28.2969\"/><text fill=\"#000000\" font-family=\"sans-serif\" font-size=\"14\" font-weight=\"bold\" lengthAdjust=\"spacingAndGlyphs\" textLength=\"134\" x=\"20\" y=\"20.9951\">DependencyTest</text></a><!--MD5=[e4f7fae6ed58524ba242bb0b0d3be6b7]\n",
       "cluster E2--><a href=\"psysml:50d5e3ed-2307-46ca-b041-8429ee229b8d\" target=\"_top\" title=\"psysml:50d5e3ed-2307-46ca-b041-8429ee229b8d\" xlink:actuate=\"onRequest\" xlink:href=\"psysml:50d5e3ed-2307-46ca-b041-8429ee229b8d\" xlink:show=\"new\" xlink:title=\"psysml:50d5e3ed-2307-46ca-b041-8429ee229b8d\" xlink:type=\"simple\"><polygon fill=\"#FFFFFF\" points=\"255,49,319,49,326,71.2969,443,71.2969,443,325,255,325,255,49\" style=\"stroke: #000000; stroke-width: 1.5;\"/><line style=\"stroke: #000000; stroke-width: 1.5;\" x1=\"255\" x2=\"326\" y1=\"71.2969\" y2=\"71.2969\"/><text fill=\"#000000\" font-family=\"sans-serif\" font-size=\"14\" font-weight=\"bold\" lengthAdjust=\"spacingAndGlyphs\" textLength=\"58\" x=\"259\" y=\"63.9951\">System</text></a><!--MD5=[60a26617385b1d2d0262a64233df1f8d]\n",
       "class E6--><a href=\"psysml:ee6e66ae-6a4f-4999-8c9e-f85171cea95e\" target=\"_top\" title=\"psysml:ee6e66ae-6a4f-4999-8c9e-f85171cea95e\" xlink:actuate=\"onRequest\" xlink:href=\"psysml:ee6e66ae-6a4f-4999-8c9e-f85171cea95e\" xlink:show=\"new\" xlink:title=\"psysml:ee6e66ae-6a4f-4999-8c9e-f85171cea95e\" xlink:type=\"simple\"><rect fill=\"#FFFFFF\" height=\"45.9375\" id=\"E6\" rx=\"10\" ry=\"10\" style=\"stroke: #383838; stroke-width: 1.5;\" width=\"71\" x=\"32.5\" y=\"173.5\"/><text fill=\"#000000\" font-family=\"sans-serif\" font-size=\"12\" font-style=\"italic\" lengthAdjust=\"spacingAndGlyphs\" textLength=\"69\" x=\"33.5\" y=\"189.6387\">«attribute»</text><text fill=\"#000000\" font-family=\"sans-serif\" font-size=\"12\" lengthAdjust=\"spacingAndGlyphs\" textLength=\"6\" x=\"65\" y=\"203.6074\">x</text><line style=\"stroke: #383838; stroke-width: 1.5;\" x1=\"33.5\" x2=\"102.5\" y1=\"211.4375\" y2=\"211.4375\"/></a><!--MD5=[2156ba9850f5573cc1fc38a6a4b2f02b]\n",
       "class E7--><a href=\"psysml:da3973fb-164e-4f16-bb62-2f8eaef60bc8\" target=\"_top\" title=\"psysml:da3973fb-164e-4f16-bb62-2f8eaef60bc8\" xlink:actuate=\"onRequest\" xlink:href=\"psysml:da3973fb-164e-4f16-bb62-2f8eaef60bc8\" xlink:show=\"new\" xlink:title=\"psysml:da3973fb-164e-4f16-bb62-2f8eaef60bc8\" xlink:type=\"simple\"><rect fill=\"#FFFFFF\" height=\"45.9375\" id=\"E7\" rx=\"10\" ry=\"10\" style=\"stroke: #383838; stroke-width: 1.5;\" width=\"71\" x=\"138.5\" y=\"173.5\"/><text fill=\"#000000\" font-family=\"sans-serif\" font-size=\"12\" font-style=\"italic\" lengthAdjust=\"spacingAndGlyphs\" textLength=\"69\" x=\"139.5\" y=\"189.6387\">«attribute»</text><text fill=\"#000000\" font-family=\"sans-serif\" font-size=\"12\" lengthAdjust=\"spacingAndGlyphs\" textLength=\"6\" x=\"171\" y=\"203.6074\">y</text><line style=\"stroke: #383838; stroke-width: 1.5;\" x1=\"139.5\" x2=\"208.5\" y1=\"211.4375\" y2=\"211.4375\"/></a><!--MD5=[b9389687b975829384b498ac4b7476b2]\n",
       "class E8--><a href=\"psysml:8698e020-730f-4ac9-88e5-943d82c20ca0\" target=\"_top\" title=\"psysml:8698e020-730f-4ac9-88e5-943d82c20ca0\" xlink:actuate=\"onRequest\" xlink:href=\"psysml:8698e020-730f-4ac9-88e5-943d82c20ca0\" xlink:show=\"new\" xlink:title=\"psysml:8698e020-730f-4ac9-88e5-943d82c20ca0\" xlink:type=\"simple\"><rect fill=\"#FFFFFF\" height=\"45.9375\" id=\"E8\" rx=\"10\" ry=\"10\" style=\"stroke: #383838; stroke-width: 1.5;\" width=\"71\" x=\"84.5\" y=\"87.5\"/><text fill=\"#000000\" font-family=\"sans-serif\" font-size=\"12\" font-style=\"italic\" lengthAdjust=\"spacingAndGlyphs\" textLength=\"69\" x=\"85.5\" y=\"103.6387\">«attribute»</text><text fill=\"#000000\" font-family=\"sans-serif\" font-size=\"12\" lengthAdjust=\"spacingAndGlyphs\" textLength=\"5\" x=\"117.5\" y=\"117.6074\">z</text><line style=\"stroke: #383838; stroke-width: 1.5;\" x1=\"85.5\" x2=\"154.5\" y1=\"125.4375\" y2=\"125.4375\"/></a><a href=\"psysml:bf62b3a1-f030-4eff-b8ce-ffbdff107a6f\" target=\"_top\" title=\"psysml:bf62b3a1-f030-4eff-b8ce-ffbdff107a6f\" xlink:actuate=\"onRequest\" xlink:href=\"psysml:bf62b3a1-f030-4eff-b8ce-ffbdff107a6f\" xlink:show=\"new\" xlink:title=\"psysml:bf62b3a1-f030-4eff-b8ce-ffbdff107a6f\" xlink:type=\"simple\"><polygon fill=\"#FFFFFF\" points=\"271,84,413,84,420,106.2969,427,106.2969,427,136.5938,271,136.5938,271,84\" style=\"stroke: #000000; stroke-width: 1.5;\"/><line style=\"stroke: #000000; stroke-width: 1.5;\" x1=\"271\" x2=\"420\" y1=\"106.2969\" y2=\"106.2969\"/><text fill=\"#000000\" font-family=\"sans-serif\" font-size=\"14\" font-weight=\"bold\" lengthAdjust=\"spacingAndGlyphs\" textLength=\"136\" x=\"275\" y=\"98.9951\">Application Layer</text></a><a href=\"psysml:471b2f11-dcf9-418e-881d-688bae838b3f\" target=\"_top\" title=\"psysml:471b2f11-dcf9-418e-881d-688bae838b3f\" xlink:actuate=\"onRequest\" xlink:href=\"psysml:471b2f11-dcf9-418e-881d-688bae838b3f\" xlink:show=\"new\" xlink:title=\"psysml:471b2f11-dcf9-418e-881d-688bae838b3f\" xlink:type=\"simple\"><polygon fill=\"#FFFFFF\" points=\"285,170,399,170,406,192.2969,413,192.2969,413,222.5938,285,222.5938,285,170\" style=\"stroke: #000000; stroke-width: 1.5;\"/><line style=\"stroke: #000000; stroke-width: 1.5;\" x1=\"285\" x2=\"406\" y1=\"192.2969\" y2=\"192.2969\"/><text fill=\"#000000\" font-family=\"sans-serif\" font-size=\"14\" font-weight=\"bold\" lengthAdjust=\"spacingAndGlyphs\" textLength=\"108\" x=\"289\" y=\"184.9951\">Service Layer</text></a><a href=\"psysml:da794142-8c7c-4611-9580-abeb242da5ef\" target=\"_top\" title=\"psysml:da794142-8c7c-4611-9580-abeb242da5ef\" xlink:actuate=\"onRequest\" xlink:href=\"psysml:da794142-8c7c-4611-9580-abeb242da5ef\" xlink:show=\"new\" xlink:title=\"psysml:da794142-8c7c-4611-9580-abeb242da5ef\" xlink:type=\"simple\"><polygon fill=\"#FFFFFF\" points=\"297,256,387,256,394,278.2969,401,278.2969,401,308.5938,297,308.5938,297,256\" style=\"stroke: #000000; stroke-width: 1.5;\"/><line style=\"stroke: #000000; stroke-width: 1.5;\" x1=\"297\" x2=\"394\" y1=\"278.2969\" y2=\"278.2969\"/><text fill=\"#000000\" font-family=\"sans-serif\" font-size=\"14\" font-weight=\"bold\" lengthAdjust=\"spacingAndGlyphs\" textLength=\"84\" x=\"301\" y=\"270.9951\">Data Layer</text></a><!--MD5=[af87c684e3b0d8be13c1a698a818ef1e]\n",
       "link E3 to E4--><a href=\"psysml:f56c438f-52f0-4453-9ce2-0999d9bfb233\" target=\"_top\" title=\"psysml:f56c438f-52f0-4453-9ce2-0999d9bfb233\" xlink:actuate=\"onRequest\" xlink:href=\"psysml:f56c438f-52f0-4453-9ce2-0999d9bfb233\" xlink:show=\"new\" xlink:title=\"psysml:f56c438f-52f0-4453-9ce2-0999d9bfb233\" xlink:type=\"simple\"><path d=\"M349,137.24 C349,137.24 349,161.78 349,161.78 \" fill=\"none\" id=\"E3-&gt;E4\" style=\"stroke: #383838; stroke-width: 1.0; stroke-dasharray: 7.0,7.0;\"/><polygon fill=\"#383838\" points=\"349,169.78,352,161.78,346,161.78,349,169.78\" style=\"stroke: #383838; stroke-width: 1.0;\"/><text fill=\"#000000\" font-family=\"sans-serif\" font-size=\"13\" lengthAdjust=\"spacingAndGlyphs\" textLength=\"64\" x=\"350\" y=\"158.0669\">«depend»</text></a><!--MD5=[1b7591eae5389033d8d09a9d6721a717]\n",
       "link E4 to E5--><a href=\"psysml:149727ef-4884-4150-ac87-83ab56bc940c\" target=\"_top\" title=\"psysml:149727ef-4884-4150-ac87-83ab56bc940c\" xlink:actuate=\"onRequest\" xlink:href=\"psysml:149727ef-4884-4150-ac87-83ab56bc940c\" xlink:show=\"new\" xlink:title=\"psysml:149727ef-4884-4150-ac87-83ab56bc940c\" xlink:type=\"simple\"><path d=\"M349,223.24 C349,223.24 349,247.78 349,247.78 \" fill=\"none\" id=\"E4-&gt;E5\" style=\"stroke: #383838; stroke-width: 1.0; stroke-dasharray: 7.0,7.0;\"/><polygon fill=\"#383838\" points=\"349,255.78,352,247.78,346,247.78,349,255.78\" style=\"stroke: #383838; stroke-width: 1.0;\"/><text fill=\"#000000\" font-family=\"sans-serif\" font-size=\"13\" lengthAdjust=\"spacingAndGlyphs\" textLength=\"64\" x=\"350\" y=\"244.0669\">«depend»</text></a><!--MD5=[c5e8897d989ce984f93528998a7150fe]\n",
       "link E8 to E6--><a href=\"psysml:6d264d90-cc53-4d32-95c3-fe1ad979e012\" target=\"_top\" title=\"psysml:6d264d90-cc53-4d32-95c3-fe1ad979e012\" xlink:actuate=\"onRequest\" xlink:href=\"psysml:6d264d90-cc53-4d32-95c3-fe1ad979e012\" xlink:show=\"new\" xlink:title=\"psysml:6d264d90-cc53-4d32-95c3-fe1ad979e012\" xlink:type=\"simple\"><path d=\"M94,133.55 C94,133.55 94,165.39 94,165.39 \" fill=\"none\" id=\"E8-&gt;E6\" style=\"stroke: #383838; stroke-width: 1.0; stroke-dasharray: 7.0,7.0;\"/><polygon fill=\"#383838\" points=\"94,173.39,97,165.39,91,165.39,94,173.39\" style=\"stroke: #383838; stroke-width: 1.0;\"/><text fill=\"#000000\" font-family=\"sans-serif\" font-size=\"13\" lengthAdjust=\"spacingAndGlyphs\" textLength=\"64\" x=\"68\" y=\"158.0669\">«depend»</text></a><!--MD5=[bfa3c8b0d15052fdf50ae9310b491027]\n",
       "link E8 to E7--><a href=\"psysml:6d264d90-cc53-4d32-95c3-fe1ad979e012\" target=\"_top\" title=\"psysml:6d264d90-cc53-4d32-95c3-fe1ad979e012\" xlink:actuate=\"onRequest\" xlink:href=\"psysml:6d264d90-cc53-4d32-95c3-fe1ad979e012\" xlink:show=\"new\" xlink:title=\"psysml:6d264d90-cc53-4d32-95c3-fe1ad979e012\" xlink:type=\"simple\"><path d=\"M147,133.55 C147,133.55 147,165.39 147,165.39 \" fill=\"none\" id=\"E8-&gt;E7\" style=\"stroke: #383838; stroke-width: 1.0; stroke-dasharray: 7.0,7.0;\"/><polygon fill=\"#383838\" points=\"147,173.39,150,165.39,144,165.39,147,173.39\" style=\"stroke: #383838; stroke-width: 1.0;\"/><text fill=\"#000000\" font-family=\"sans-serif\" font-size=\"13\" lengthAdjust=\"spacingAndGlyphs\" textLength=\"64\" x=\"174\" y=\"158.0669\">«depend»</text></a><!--MD5=[3f78298639eaaaa4b3ae7ab28c253b20]\n",
       "@startuml\r\n",
       "skinparam ranksep 10\r\n",
       "skinparam rectangle {\r\n",
       " backgroundColor<<block>> LightGreen\r\n",
       "}\r\n",
       "skinparam linetype ortho\r\n",
       "skinparam monochrome true\r\n",
       "skinparam classbackgroundcolor white\r\n",
       "skinparam shadowing false\r\n",
       "skinparam wrapWidth 300\r\n",
       "hide circle\r\n",
       "\r\n",
       "package \"DependencyTest\" as E1  [[psysml:d56232e2-0bee-4a1a-bb9b-8eb4f38b0dfa ]]  {\r\n",
       "package \"System\" as E2  [[psysml:50d5e3ed-2307-46ca-b041-8429ee229b8d ]]  {\r\n",
       "package \"Application Layer\" as E3  [[psysml:bf62b3a1-f030-4eff-b8ce-ffbdff107a6f ]]  {\r\n",
       "}\r\n",
       "package \"Service Layer\" as E4  [[psysml:471b2f11-dcf9-418e-881d-688bae838b3f ]]  {\r\n",
       "}\r\n",
       "package \"Data Layer\" as E5  [[psysml:da794142-8c7c-4611-9580-abeb242da5ef ]]  {\r\n",
       "}\r\n",
       "}\r\n",
       "comp usage \"x\" as E6  <<(T,blue)attribute>> [[psysml:ee6e66ae-6a4f-4999-8c9e-f85171cea95e ]] {\r\n",
       "}\r\n",
       "comp usage \"y\" as E7  <<(T,blue)attribute>> [[psysml:da3973fb-164e-4f16-bb62-2f8eaef60bc8 ]] {\r\n",
       "}\r\n",
       "comp usage \"z\" as E8  <<(T,blue)attribute>> [[psysml:8698e020-730f-4ac9-88e5-943d82c20ca0 ]] {\r\n",
       "}\r\n",
       "E3 ..>> E4 [[psysml:f56c438f-52f0-4453-9ce2-0999d9bfb233 ]] : <<depend>>\r\n",
       "E4 ..>> E5 [[psysml:149727ef-4884-4150-ac87-83ab56bc940c ]] : <<depend>>\r\n",
       "E8 ..>> E6 [[psysml:6d264d90-cc53-4d32-95c3-fe1ad979e012 ]] : <<depend>>\r\n",
       "E8 ..>> E7 [[psysml:6d264d90-cc53-4d32-95c3-fe1ad979e012 ]] : <<depend>>\r\n",
       "}\r\n",
       "@enduml\r\n",
       "\n",
       "PlantUML version 1.2020.13(Sat Jun 13 12:26:38 UTC 2020)\n",
       "(EPL source distribution)\n",
       "Java Runtime: OpenJDK Runtime Environment\n",
       "JVM: OpenJDK 64-Bit Server VM\n",
       "Default Encoding: UTF-8\n",
       "Language: en\n",
       "Country: null\n",
       "--></g></svg>"
      ]
     },
     "execution_count": 54,
     "metadata": {},
     "output_type": "execute_result"
    }
   ],
   "source": [
    "%viz --style=\"ORTHOLINE\" --view=\"Interconnection\" \"DependencyTest\""
   ]
  },
  {
   "cell_type": "code",
   "execution_count": 55,
   "id": "0ca20ec4",
   "metadata": {
    "execution": {
     "iopub.execute_input": "2021-04-20T07:32:21.268270Z",
     "iopub.status.busy": "2021-04-20T07:32:21.267796Z",
     "iopub.status.idle": "2021-04-20T07:32:21.273139Z",
     "shell.execute_reply": "2021-04-20T07:32:21.272649Z"
    }
   },
   "outputs": [
    {
     "data": {
      "image/svg+xml": [
       "<?xml version=\"1.0\" encoding=\"UTF-8\" standalone=\"no\"?><svg xmlns=\"http://www.w3.org/2000/svg\" xmlns:xlink=\"http://www.w3.org/1999/xlink\" contentScriptType=\"application/ecmascript\" contentStyleType=\"text/css\" height=\"12px\" preserveAspectRatio=\"none\" style=\"width:12px;height:12px;\" version=\"1.1\" viewBox=\"0 0 12 12\" width=\"12px\" zoomAndPan=\"magnify\"><defs/><g><!--MD5=[72934c63077099a26744516a776b4749]\n",
       "@startuml\r\n",
       "skinparam ranksep 8\r\n",
       "skinparam linetype ortho\r\n",
       "skinparam monochrome true\r\n",
       "skinparam classbackgroundcolor white\r\n",
       "skinparam shadowing false\r\n",
       "skinparam wrapWidth 300\r\n",
       "hide circle\r\n",
       "\r\n",
       "@enduml\r\n",
       "\n",
       "PlantUML version 1.2020.13(Sat Jun 13 12:26:38 UTC 2020)\n",
       "(EPL source distribution)\n",
       "Java Runtime: OpenJDK Runtime Environment\n",
       "JVM: OpenJDK 64-Bit Server VM\n",
       "Default Encoding: UTF-8\n",
       "Language: en\n",
       "Country: null\n",
       "--></g></svg>"
      ]
     },
     "execution_count": 55,
     "metadata": {},
     "output_type": "execute_result"
    }
   ],
   "source": [
    "%viz --style=\"ORTHOLINE\" --view=\"Action\" \"DependencyTest\""
   ]
  },
  {
   "cell_type": "code",
   "execution_count": 56,
   "id": "ce666443",
   "metadata": {
    "execution": {
     "iopub.execute_input": "2021-04-20T07:32:21.323832Z",
     "iopub.status.busy": "2021-04-20T07:32:21.323478Z",
     "iopub.status.idle": "2021-04-20T07:32:21.356578Z",
     "shell.execute_reply": "2021-04-20T07:32:21.354932Z"
    }
   },
   "outputs": [
    {
     "data": {
      "image/svg+xml": [
       "<?xml version=\"1.0\" encoding=\"UTF-8\" standalone=\"no\"?><svg xmlns=\"http://www.w3.org/2000/svg\" xmlns:xlink=\"http://www.w3.org/1999/xlink\" contentScriptType=\"application/ecmascript\" contentStyleType=\"text/css\" height=\"449px\" preserveAspectRatio=\"none\" style=\"width:489px;height:449px;\" version=\"1.1\" viewBox=\"0 0 489 449\" width=\"489px\" zoomAndPan=\"magnify\"><defs/><g><!--MD5=[fbc87193dbaf4d95561dea2c320d4a47]\n",
       "cluster E1--><a href=\"psysml:d56232e2-0bee-4a1a-bb9b-8eb4f38b0dfa\" target=\"_top\" title=\"psysml:d56232e2-0bee-4a1a-bb9b-8eb4f38b0dfa\" xlink:actuate=\"onRequest\" xlink:href=\"psysml:d56232e2-0bee-4a1a-bb9b-8eb4f38b0dfa\" xlink:show=\"new\" xlink:title=\"psysml:d56232e2-0bee-4a1a-bb9b-8eb4f38b0dfa\" xlink:type=\"simple\"><polygon fill=\"#FFFFFF\" points=\"16,6,156,6,163,28.2969,467,28.2969,467,437,16,437,16,6\" style=\"stroke: #000000; stroke-width: 1.5;\"/><line style=\"stroke: #000000; stroke-width: 1.5;\" x1=\"16\" x2=\"163\" y1=\"28.2969\" y2=\"28.2969\"/><text fill=\"#000000\" font-family=\"sans-serif\" font-size=\"14\" font-weight=\"bold\" lengthAdjust=\"spacingAndGlyphs\" textLength=\"134\" x=\"20\" y=\"20.9951\">DependencyTest</text></a><!--MD5=[e4f7fae6ed58524ba242bb0b0d3be6b7]\n",
       "cluster E2--><a href=\"psysml:50d5e3ed-2307-46ca-b041-8429ee229b8d\" target=\"_top\" title=\"psysml:50d5e3ed-2307-46ca-b041-8429ee229b8d\" xlink:actuate=\"onRequest\" xlink:href=\"psysml:50d5e3ed-2307-46ca-b041-8429ee229b8d\" xlink:show=\"new\" xlink:title=\"psysml:50d5e3ed-2307-46ca-b041-8429ee229b8d\" xlink:type=\"simple\"><polygon fill=\"#FFFFFF\" points=\"255,49,319,49,326,71.2969,443,71.2969,443,413,255,413,255,49\" style=\"stroke: #000000; stroke-width: 1.5;\"/><line style=\"stroke: #000000; stroke-width: 1.5;\" x1=\"255\" x2=\"326\" y1=\"71.2969\" y2=\"71.2969\"/><text fill=\"#000000\" font-family=\"sans-serif\" font-size=\"14\" font-weight=\"bold\" lengthAdjust=\"spacingAndGlyphs\" textLength=\"58\" x=\"259\" y=\"63.9951\">System</text></a><!--MD5=[60a26617385b1d2d0262a64233df1f8d]\n",
       "class E6--><a href=\"psysml:ee6e66ae-6a4f-4999-8c9e-f85171cea95e\" target=\"_top\" title=\"psysml:ee6e66ae-6a4f-4999-8c9e-f85171cea95e\" xlink:actuate=\"onRequest\" xlink:href=\"psysml:ee6e66ae-6a4f-4999-8c9e-f85171cea95e\" xlink:show=\"new\" xlink:title=\"psysml:ee6e66ae-6a4f-4999-8c9e-f85171cea95e\" xlink:type=\"simple\"><rect fill=\"#FFFFFF\" height=\"45.9375\" id=\"E6\" rx=\"10\" ry=\"10\" style=\"stroke: #383838; stroke-width: 1.5;\" width=\"71\" x=\"32.5\" y=\"217.5\"/><text fill=\"#000000\" font-family=\"sans-serif\" font-size=\"12\" font-style=\"italic\" lengthAdjust=\"spacingAndGlyphs\" textLength=\"69\" x=\"33.5\" y=\"233.6387\">«attribute»</text><text fill=\"#000000\" font-family=\"sans-serif\" font-size=\"12\" lengthAdjust=\"spacingAndGlyphs\" textLength=\"6\" x=\"65\" y=\"247.6074\">x</text><line style=\"stroke: #383838; stroke-width: 1.5;\" x1=\"33.5\" x2=\"102.5\" y1=\"255.4375\" y2=\"255.4375\"/></a><!--MD5=[2156ba9850f5573cc1fc38a6a4b2f02b]\n",
       "class E7--><a href=\"psysml:da3973fb-164e-4f16-bb62-2f8eaef60bc8\" target=\"_top\" title=\"psysml:da3973fb-164e-4f16-bb62-2f8eaef60bc8\" xlink:actuate=\"onRequest\" xlink:href=\"psysml:da3973fb-164e-4f16-bb62-2f8eaef60bc8\" xlink:show=\"new\" xlink:title=\"psysml:da3973fb-164e-4f16-bb62-2f8eaef60bc8\" xlink:type=\"simple\"><rect fill=\"#FFFFFF\" height=\"45.9375\" id=\"E7\" rx=\"10\" ry=\"10\" style=\"stroke: #383838; stroke-width: 1.5;\" width=\"71\" x=\"138.5\" y=\"217.5\"/><text fill=\"#000000\" font-family=\"sans-serif\" font-size=\"12\" font-style=\"italic\" lengthAdjust=\"spacingAndGlyphs\" textLength=\"69\" x=\"139.5\" y=\"233.6387\">«attribute»</text><text fill=\"#000000\" font-family=\"sans-serif\" font-size=\"12\" lengthAdjust=\"spacingAndGlyphs\" textLength=\"6\" x=\"171\" y=\"247.6074\">y</text><line style=\"stroke: #383838; stroke-width: 1.5;\" x1=\"139.5\" x2=\"208.5\" y1=\"255.4375\" y2=\"255.4375\"/></a><!--MD5=[b9389687b975829384b498ac4b7476b2]\n",
       "class E8--><a href=\"psysml:8698e020-730f-4ac9-88e5-943d82c20ca0\" target=\"_top\" title=\"psysml:8698e020-730f-4ac9-88e5-943d82c20ca0\" xlink:actuate=\"onRequest\" xlink:href=\"psysml:8698e020-730f-4ac9-88e5-943d82c20ca0\" xlink:show=\"new\" xlink:title=\"psysml:8698e020-730f-4ac9-88e5-943d82c20ca0\" xlink:type=\"simple\"><rect fill=\"#FFFFFF\" height=\"45.9375\" id=\"E8\" rx=\"10\" ry=\"10\" style=\"stroke: #383838; stroke-width: 1.5;\" width=\"71\" x=\"84.5\" y=\"87.5\"/><text fill=\"#000000\" font-family=\"sans-serif\" font-size=\"12\" font-style=\"italic\" lengthAdjust=\"spacingAndGlyphs\" textLength=\"69\" x=\"85.5\" y=\"103.6387\">«attribute»</text><text fill=\"#000000\" font-family=\"sans-serif\" font-size=\"12\" lengthAdjust=\"spacingAndGlyphs\" textLength=\"5\" x=\"117.5\" y=\"117.6074\">z</text><line style=\"stroke: #383838; stroke-width: 1.5;\" x1=\"85.5\" x2=\"154.5\" y1=\"125.4375\" y2=\"125.4375\"/></a><a href=\"psysml:bf62b3a1-f030-4eff-b8ce-ffbdff107a6f\" target=\"_top\" title=\"psysml:bf62b3a1-f030-4eff-b8ce-ffbdff107a6f\" xlink:actuate=\"onRequest\" xlink:href=\"psysml:bf62b3a1-f030-4eff-b8ce-ffbdff107a6f\" xlink:show=\"new\" xlink:title=\"psysml:bf62b3a1-f030-4eff-b8ce-ffbdff107a6f\" xlink:type=\"simple\"><polygon fill=\"#FFFFFF\" points=\"271,84,413,84,420,106.2969,427,106.2969,427,136.5938,271,136.5938,271,84\" style=\"stroke: #000000; stroke-width: 1.5;\"/><line style=\"stroke: #000000; stroke-width: 1.5;\" x1=\"271\" x2=\"420\" y1=\"106.2969\" y2=\"106.2969\"/><text fill=\"#000000\" font-family=\"sans-serif\" font-size=\"14\" font-weight=\"bold\" lengthAdjust=\"spacingAndGlyphs\" textLength=\"136\" x=\"275\" y=\"98.9951\">Application Layer</text></a><a href=\"psysml:471b2f11-dcf9-418e-881d-688bae838b3f\" target=\"_top\" title=\"psysml:471b2f11-dcf9-418e-881d-688bae838b3f\" xlink:actuate=\"onRequest\" xlink:href=\"psysml:471b2f11-dcf9-418e-881d-688bae838b3f\" xlink:show=\"new\" xlink:title=\"psysml:471b2f11-dcf9-418e-881d-688bae838b3f\" xlink:type=\"simple\"><polygon fill=\"#FFFFFF\" points=\"285,214,399,214,406,236.2969,413,236.2969,413,266.5938,285,266.5938,285,214\" style=\"stroke: #000000; stroke-width: 1.5;\"/><line style=\"stroke: #000000; stroke-width: 1.5;\" x1=\"285\" x2=\"406\" y1=\"236.2969\" y2=\"236.2969\"/><text fill=\"#000000\" font-family=\"sans-serif\" font-size=\"14\" font-weight=\"bold\" lengthAdjust=\"spacingAndGlyphs\" textLength=\"108\" x=\"289\" y=\"228.9951\">Service Layer</text></a><a href=\"psysml:da794142-8c7c-4611-9580-abeb242da5ef\" target=\"_top\" title=\"psysml:da794142-8c7c-4611-9580-abeb242da5ef\" xlink:actuate=\"onRequest\" xlink:href=\"psysml:da794142-8c7c-4611-9580-abeb242da5ef\" xlink:show=\"new\" xlink:title=\"psysml:da794142-8c7c-4611-9580-abeb242da5ef\" xlink:type=\"simple\"><polygon fill=\"#FFFFFF\" points=\"297,344,387,344,394,366.2969,401,366.2969,401,396.5938,297,396.5938,297,344\" style=\"stroke: #000000; stroke-width: 1.5;\"/><line style=\"stroke: #000000; stroke-width: 1.5;\" x1=\"297\" x2=\"394\" y1=\"366.2969\" y2=\"366.2969\"/><text fill=\"#000000\" font-family=\"sans-serif\" font-size=\"14\" font-weight=\"bold\" lengthAdjust=\"spacingAndGlyphs\" textLength=\"84\" x=\"301\" y=\"358.9951\">Data Layer</text></a><!--MD5=[af87c684e3b0d8be13c1a698a818ef1e]\n",
       "link E3 to E4--><a href=\"psysml:f56c438f-52f0-4453-9ce2-0999d9bfb233\" target=\"_top\" title=\"psysml:f56c438f-52f0-4453-9ce2-0999d9bfb233\" xlink:actuate=\"onRequest\" xlink:href=\"psysml:f56c438f-52f0-4453-9ce2-0999d9bfb233\" xlink:show=\"new\" xlink:title=\"psysml:f56c438f-52f0-4453-9ce2-0999d9bfb233\" xlink:type=\"simple\"><path d=\"M349,137.12 C349,137.12 349,205.91 349,205.91 \" fill=\"none\" id=\"E3-&gt;E4\" style=\"stroke: #383838; stroke-width: 1.0; stroke-dasharray: 7.0,7.0;\"/><polygon fill=\"#383838\" points=\"349,213.91,352,205.91,346,205.91,349,213.91\" style=\"stroke: #383838; stroke-width: 1.0;\"/><text fill=\"#000000\" font-family=\"sans-serif\" font-size=\"13\" lengthAdjust=\"spacingAndGlyphs\" textLength=\"64\" x=\"350\" y=\"180.0669\">«depend»</text></a><!--MD5=[1b7591eae5389033d8d09a9d6721a717]\n",
       "link E4 to E5--><a href=\"psysml:149727ef-4884-4150-ac87-83ab56bc940c\" target=\"_top\" title=\"psysml:149727ef-4884-4150-ac87-83ab56bc940c\" xlink:actuate=\"onRequest\" xlink:href=\"psysml:149727ef-4884-4150-ac87-83ab56bc940c\" xlink:show=\"new\" xlink:title=\"psysml:149727ef-4884-4150-ac87-83ab56bc940c\" xlink:type=\"simple\"><path d=\"M349,267.12 C349,267.12 349,335.91 349,335.91 \" fill=\"none\" id=\"E4-&gt;E5\" style=\"stroke: #383838; stroke-width: 1.0; stroke-dasharray: 7.0,7.0;\"/><polygon fill=\"#383838\" points=\"349,343.91,352,335.91,346,335.91,349,343.91\" style=\"stroke: #383838; stroke-width: 1.0;\"/><text fill=\"#000000\" font-family=\"sans-serif\" font-size=\"13\" lengthAdjust=\"spacingAndGlyphs\" textLength=\"64\" x=\"350\" y=\"310.0669\">«depend»</text></a><!--MD5=[c5e8897d989ce984f93528998a7150fe]\n",
       "link E8 to E6--><a href=\"psysml:6d264d90-cc53-4d32-95c3-fe1ad979e012\" target=\"_top\" title=\"psysml:6d264d90-cc53-4d32-95c3-fe1ad979e012\" xlink:actuate=\"onRequest\" xlink:href=\"psysml:6d264d90-cc53-4d32-95c3-fe1ad979e012\" xlink:show=\"new\" xlink:title=\"psysml:6d264d90-cc53-4d32-95c3-fe1ad979e012\" xlink:type=\"simple\"><path d=\"M94,133.74 C94,133.74 94,209.46 94,209.46 \" fill=\"none\" id=\"E8-&gt;E6\" style=\"stroke: #383838; stroke-width: 1.0; stroke-dasharray: 7.0,7.0;\"/><polygon fill=\"#383838\" points=\"94,217.46,97,209.46,91,209.46,94,217.46\" style=\"stroke: #383838; stroke-width: 1.0;\"/><text fill=\"#000000\" font-family=\"sans-serif\" font-size=\"13\" lengthAdjust=\"spacingAndGlyphs\" textLength=\"64\" x=\"68\" y=\"180.0669\">«depend»</text></a><!--MD5=[bfa3c8b0d15052fdf50ae9310b491027]\n",
       "link E8 to E7--><a href=\"psysml:6d264d90-cc53-4d32-95c3-fe1ad979e012\" target=\"_top\" title=\"psysml:6d264d90-cc53-4d32-95c3-fe1ad979e012\" xlink:actuate=\"onRequest\" xlink:href=\"psysml:6d264d90-cc53-4d32-95c3-fe1ad979e012\" xlink:show=\"new\" xlink:title=\"psysml:6d264d90-cc53-4d32-95c3-fe1ad979e012\" xlink:type=\"simple\"><path d=\"M147,133.74 C147,133.74 147,209.46 147,209.46 \" fill=\"none\" id=\"E8-&gt;E7\" style=\"stroke: #383838; stroke-width: 1.0; stroke-dasharray: 7.0,7.0;\"/><polygon fill=\"#383838\" points=\"147,217.46,150,209.46,144,209.46,147,217.46\" style=\"stroke: #383838; stroke-width: 1.0;\"/><text fill=\"#000000\" font-family=\"sans-serif\" font-size=\"13\" lengthAdjust=\"spacingAndGlyphs\" textLength=\"64\" x=\"174\" y=\"180.0669\">«depend»</text></a><!--MD5=[a321fe37454c6bf5fd8172083dfd91f8]\n",
       "@startuml\r\n",
       "skinparam linetype ortho\r\n",
       "skinparam monochrome true\r\n",
       "skinparam classbackgroundcolor white\r\n",
       "skinparam shadowing false\r\n",
       "skinparam wrapWidth 300\r\n",
       "hide circle\r\n",
       "\r\n",
       "package \"DependencyTest\" as E1  [[psysml:d56232e2-0bee-4a1a-bb9b-8eb4f38b0dfa ]]  {\r\n",
       "package \"System\" as E2  [[psysml:50d5e3ed-2307-46ca-b041-8429ee229b8d ]]  {\r\n",
       "package \"Application Layer\" as E3  [[psysml:bf62b3a1-f030-4eff-b8ce-ffbdff107a6f ]]  {\r\n",
       "}\r\n",
       "package \"Service Layer\" as E4  [[psysml:471b2f11-dcf9-418e-881d-688bae838b3f ]]  {\r\n",
       "}\r\n",
       "package \"Data Layer\" as E5  [[psysml:da794142-8c7c-4611-9580-abeb242da5ef ]]  {\r\n",
       "}\r\n",
       "}\r\n",
       "comp usage \"x\" as E6  <<(T,blue)attribute>> [[psysml:ee6e66ae-6a4f-4999-8c9e-f85171cea95e ]] {\r\n",
       "}\r\n",
       "comp usage \"y\" as E7  <<(T,blue)attribute>> [[psysml:da3973fb-164e-4f16-bb62-2f8eaef60bc8 ]] {\r\n",
       "}\r\n",
       "comp usage \"z\" as E8  <<(T,blue)attribute>> [[psysml:8698e020-730f-4ac9-88e5-943d82c20ca0 ]] {\r\n",
       "}\r\n",
       "E3 ..>> E4 [[psysml:f56c438f-52f0-4453-9ce2-0999d9bfb233 ]] : <<depend>>\r\n",
       "E4 ..>> E5 [[psysml:149727ef-4884-4150-ac87-83ab56bc940c ]] : <<depend>>\r\n",
       "E8 ..>> E6 [[psysml:6d264d90-cc53-4d32-95c3-fe1ad979e012 ]] : <<depend>>\r\n",
       "E8 ..>> E7 [[psysml:6d264d90-cc53-4d32-95c3-fe1ad979e012 ]] : <<depend>>\r\n",
       "}\r\n",
       "@enduml\r\n",
       "\n",
       "PlantUML version 1.2020.13(Sat Jun 13 12:26:38 UTC 2020)\n",
       "(EPL source distribution)\n",
       "Java Runtime: OpenJDK Runtime Environment\n",
       "JVM: OpenJDK 64-Bit Server VM\n",
       "Default Encoding: UTF-8\n",
       "Language: en\n",
       "Country: null\n",
       "--></g></svg>"
      ]
     },
     "execution_count": 56,
     "metadata": {},
     "output_type": "execute_result"
    }
   ],
   "source": [
    "%viz --style=\"ORTHOLINE\" --view=\"Sequence\" \"DependencyTest\""
   ]
  },
  {
   "cell_type": "code",
   "execution_count": 57,
   "id": "f87015df",
   "metadata": {
    "execution": {
     "iopub.execute_input": "2021-04-20T07:32:21.407444Z",
     "iopub.status.busy": "2021-04-20T07:32:21.406816Z",
     "iopub.status.idle": "2021-04-20T07:32:21.442947Z",
     "shell.execute_reply": "2021-04-20T07:32:21.441609Z"
    }
   },
   "outputs": [
    {
     "data": {
      "image/svg+xml": [
       "<?xml version=\"1.0\" encoding=\"UTF-8\" standalone=\"no\"?><svg xmlns=\"http://www.w3.org/2000/svg\" xmlns:xlink=\"http://www.w3.org/1999/xlink\" contentScriptType=\"application/ecmascript\" contentStyleType=\"text/css\" height=\"449px\" preserveAspectRatio=\"none\" style=\"width:489px;height:449px;\" version=\"1.1\" viewBox=\"0 0 489 449\" width=\"489px\" zoomAndPan=\"magnify\"><defs/><g><!--MD5=[fbc87193dbaf4d95561dea2c320d4a47]\n",
       "cluster E1--><a href=\"psysml:d56232e2-0bee-4a1a-bb9b-8eb4f38b0dfa\" target=\"_top\" title=\"psysml:d56232e2-0bee-4a1a-bb9b-8eb4f38b0dfa\" xlink:actuate=\"onRequest\" xlink:href=\"psysml:d56232e2-0bee-4a1a-bb9b-8eb4f38b0dfa\" xlink:show=\"new\" xlink:title=\"psysml:d56232e2-0bee-4a1a-bb9b-8eb4f38b0dfa\" xlink:type=\"simple\"><polygon fill=\"#FFFFFF\" points=\"16,6,156,6,163,28.2969,467,28.2969,467,437,16,437,16,6\" style=\"stroke: #000000; stroke-width: 1.5;\"/><line style=\"stroke: #000000; stroke-width: 1.5;\" x1=\"16\" x2=\"163\" y1=\"28.2969\" y2=\"28.2969\"/><text fill=\"#000000\" font-family=\"sans-serif\" font-size=\"14\" font-weight=\"bold\" lengthAdjust=\"spacingAndGlyphs\" textLength=\"134\" x=\"20\" y=\"20.9951\">DependencyTest</text></a><!--MD5=[e4f7fae6ed58524ba242bb0b0d3be6b7]\n",
       "cluster E2--><a href=\"psysml:50d5e3ed-2307-46ca-b041-8429ee229b8d\" target=\"_top\" title=\"psysml:50d5e3ed-2307-46ca-b041-8429ee229b8d\" xlink:actuate=\"onRequest\" xlink:href=\"psysml:50d5e3ed-2307-46ca-b041-8429ee229b8d\" xlink:show=\"new\" xlink:title=\"psysml:50d5e3ed-2307-46ca-b041-8429ee229b8d\" xlink:type=\"simple\"><polygon fill=\"#FFFFFF\" points=\"255,49,319,49,326,71.2969,443,71.2969,443,413,255,413,255,49\" style=\"stroke: #000000; stroke-width: 1.5;\"/><line style=\"stroke: #000000; stroke-width: 1.5;\" x1=\"255\" x2=\"326\" y1=\"71.2969\" y2=\"71.2969\"/><text fill=\"#000000\" font-family=\"sans-serif\" font-size=\"14\" font-weight=\"bold\" lengthAdjust=\"spacingAndGlyphs\" textLength=\"58\" x=\"259\" y=\"63.9951\">System</text></a><!--MD5=[60a26617385b1d2d0262a64233df1f8d]\n",
       "class E6--><a href=\"psysml:ee6e66ae-6a4f-4999-8c9e-f85171cea95e\" target=\"_top\" title=\"psysml:ee6e66ae-6a4f-4999-8c9e-f85171cea95e\" xlink:actuate=\"onRequest\" xlink:href=\"psysml:ee6e66ae-6a4f-4999-8c9e-f85171cea95e\" xlink:show=\"new\" xlink:title=\"psysml:ee6e66ae-6a4f-4999-8c9e-f85171cea95e\" xlink:type=\"simple\"><rect fill=\"#FFFFFF\" height=\"45.9375\" id=\"E6\" rx=\"10\" ry=\"10\" style=\"stroke: #383838; stroke-width: 1.5;\" width=\"71\" x=\"32.5\" y=\"217.5\"/><text fill=\"#000000\" font-family=\"sans-serif\" font-size=\"12\" font-style=\"italic\" lengthAdjust=\"spacingAndGlyphs\" textLength=\"69\" x=\"33.5\" y=\"233.6387\">«attribute»</text><text fill=\"#000000\" font-family=\"sans-serif\" font-size=\"12\" lengthAdjust=\"spacingAndGlyphs\" textLength=\"6\" x=\"65\" y=\"247.6074\">x</text><line style=\"stroke: #383838; stroke-width: 1.5;\" x1=\"33.5\" x2=\"102.5\" y1=\"255.4375\" y2=\"255.4375\"/></a><!--MD5=[2156ba9850f5573cc1fc38a6a4b2f02b]\n",
       "class E7--><a href=\"psysml:da3973fb-164e-4f16-bb62-2f8eaef60bc8\" target=\"_top\" title=\"psysml:da3973fb-164e-4f16-bb62-2f8eaef60bc8\" xlink:actuate=\"onRequest\" xlink:href=\"psysml:da3973fb-164e-4f16-bb62-2f8eaef60bc8\" xlink:show=\"new\" xlink:title=\"psysml:da3973fb-164e-4f16-bb62-2f8eaef60bc8\" xlink:type=\"simple\"><rect fill=\"#FFFFFF\" height=\"45.9375\" id=\"E7\" rx=\"10\" ry=\"10\" style=\"stroke: #383838; stroke-width: 1.5;\" width=\"71\" x=\"138.5\" y=\"217.5\"/><text fill=\"#000000\" font-family=\"sans-serif\" font-size=\"12\" font-style=\"italic\" lengthAdjust=\"spacingAndGlyphs\" textLength=\"69\" x=\"139.5\" y=\"233.6387\">«attribute»</text><text fill=\"#000000\" font-family=\"sans-serif\" font-size=\"12\" lengthAdjust=\"spacingAndGlyphs\" textLength=\"6\" x=\"171\" y=\"247.6074\">y</text><line style=\"stroke: #383838; stroke-width: 1.5;\" x1=\"139.5\" x2=\"208.5\" y1=\"255.4375\" y2=\"255.4375\"/></a><!--MD5=[b9389687b975829384b498ac4b7476b2]\n",
       "class E8--><a href=\"psysml:8698e020-730f-4ac9-88e5-943d82c20ca0\" target=\"_top\" title=\"psysml:8698e020-730f-4ac9-88e5-943d82c20ca0\" xlink:actuate=\"onRequest\" xlink:href=\"psysml:8698e020-730f-4ac9-88e5-943d82c20ca0\" xlink:show=\"new\" xlink:title=\"psysml:8698e020-730f-4ac9-88e5-943d82c20ca0\" xlink:type=\"simple\"><rect fill=\"#FFFFFF\" height=\"45.9375\" id=\"E8\" rx=\"10\" ry=\"10\" style=\"stroke: #383838; stroke-width: 1.5;\" width=\"71\" x=\"84.5\" y=\"87.5\"/><text fill=\"#000000\" font-family=\"sans-serif\" font-size=\"12\" font-style=\"italic\" lengthAdjust=\"spacingAndGlyphs\" textLength=\"69\" x=\"85.5\" y=\"103.6387\">«attribute»</text><text fill=\"#000000\" font-family=\"sans-serif\" font-size=\"12\" lengthAdjust=\"spacingAndGlyphs\" textLength=\"5\" x=\"117.5\" y=\"117.6074\">z</text><line style=\"stroke: #383838; stroke-width: 1.5;\" x1=\"85.5\" x2=\"154.5\" y1=\"125.4375\" y2=\"125.4375\"/></a><a href=\"psysml:bf62b3a1-f030-4eff-b8ce-ffbdff107a6f\" target=\"_top\" title=\"psysml:bf62b3a1-f030-4eff-b8ce-ffbdff107a6f\" xlink:actuate=\"onRequest\" xlink:href=\"psysml:bf62b3a1-f030-4eff-b8ce-ffbdff107a6f\" xlink:show=\"new\" xlink:title=\"psysml:bf62b3a1-f030-4eff-b8ce-ffbdff107a6f\" xlink:type=\"simple\"><polygon fill=\"#FFFFFF\" points=\"271,84,413,84,420,106.2969,427,106.2969,427,136.5938,271,136.5938,271,84\" style=\"stroke: #000000; stroke-width: 1.5;\"/><line style=\"stroke: #000000; stroke-width: 1.5;\" x1=\"271\" x2=\"420\" y1=\"106.2969\" y2=\"106.2969\"/><text fill=\"#000000\" font-family=\"sans-serif\" font-size=\"14\" font-weight=\"bold\" lengthAdjust=\"spacingAndGlyphs\" textLength=\"136\" x=\"275\" y=\"98.9951\">Application Layer</text></a><a href=\"psysml:471b2f11-dcf9-418e-881d-688bae838b3f\" target=\"_top\" title=\"psysml:471b2f11-dcf9-418e-881d-688bae838b3f\" xlink:actuate=\"onRequest\" xlink:href=\"psysml:471b2f11-dcf9-418e-881d-688bae838b3f\" xlink:show=\"new\" xlink:title=\"psysml:471b2f11-dcf9-418e-881d-688bae838b3f\" xlink:type=\"simple\"><polygon fill=\"#FFFFFF\" points=\"285,214,399,214,406,236.2969,413,236.2969,413,266.5938,285,266.5938,285,214\" style=\"stroke: #000000; stroke-width: 1.5;\"/><line style=\"stroke: #000000; stroke-width: 1.5;\" x1=\"285\" x2=\"406\" y1=\"236.2969\" y2=\"236.2969\"/><text fill=\"#000000\" font-family=\"sans-serif\" font-size=\"14\" font-weight=\"bold\" lengthAdjust=\"spacingAndGlyphs\" textLength=\"108\" x=\"289\" y=\"228.9951\">Service Layer</text></a><a href=\"psysml:da794142-8c7c-4611-9580-abeb242da5ef\" target=\"_top\" title=\"psysml:da794142-8c7c-4611-9580-abeb242da5ef\" xlink:actuate=\"onRequest\" xlink:href=\"psysml:da794142-8c7c-4611-9580-abeb242da5ef\" xlink:show=\"new\" xlink:title=\"psysml:da794142-8c7c-4611-9580-abeb242da5ef\" xlink:type=\"simple\"><polygon fill=\"#FFFFFF\" points=\"297,344,387,344,394,366.2969,401,366.2969,401,396.5938,297,396.5938,297,344\" style=\"stroke: #000000; stroke-width: 1.5;\"/><line style=\"stroke: #000000; stroke-width: 1.5;\" x1=\"297\" x2=\"394\" y1=\"366.2969\" y2=\"366.2969\"/><text fill=\"#000000\" font-family=\"sans-serif\" font-size=\"14\" font-weight=\"bold\" lengthAdjust=\"spacingAndGlyphs\" textLength=\"84\" x=\"301\" y=\"358.9951\">Data Layer</text></a><!--MD5=[af87c684e3b0d8be13c1a698a818ef1e]\n",
       "link E3 to E4--><a href=\"psysml:f56c438f-52f0-4453-9ce2-0999d9bfb233\" target=\"_top\" title=\"psysml:f56c438f-52f0-4453-9ce2-0999d9bfb233\" xlink:actuate=\"onRequest\" xlink:href=\"psysml:f56c438f-52f0-4453-9ce2-0999d9bfb233\" xlink:show=\"new\" xlink:title=\"psysml:f56c438f-52f0-4453-9ce2-0999d9bfb233\" xlink:type=\"simple\"><path d=\"M349,137.12 C349,137.12 349,205.91 349,205.91 \" fill=\"none\" id=\"E3-&gt;E4\" style=\"stroke: #383838; stroke-width: 1.0; stroke-dasharray: 7.0,7.0;\"/><polygon fill=\"#383838\" points=\"349,213.91,352,205.91,346,205.91,349,213.91\" style=\"stroke: #383838; stroke-width: 1.0;\"/><text fill=\"#000000\" font-family=\"sans-serif\" font-size=\"13\" lengthAdjust=\"spacingAndGlyphs\" textLength=\"64\" x=\"350\" y=\"180.0669\">«depend»</text></a><!--MD5=[1b7591eae5389033d8d09a9d6721a717]\n",
       "link E4 to E5--><a href=\"psysml:149727ef-4884-4150-ac87-83ab56bc940c\" target=\"_top\" title=\"psysml:149727ef-4884-4150-ac87-83ab56bc940c\" xlink:actuate=\"onRequest\" xlink:href=\"psysml:149727ef-4884-4150-ac87-83ab56bc940c\" xlink:show=\"new\" xlink:title=\"psysml:149727ef-4884-4150-ac87-83ab56bc940c\" xlink:type=\"simple\"><path d=\"M349,267.12 C349,267.12 349,335.91 349,335.91 \" fill=\"none\" id=\"E4-&gt;E5\" style=\"stroke: #383838; stroke-width: 1.0; stroke-dasharray: 7.0,7.0;\"/><polygon fill=\"#383838\" points=\"349,343.91,352,335.91,346,335.91,349,343.91\" style=\"stroke: #383838; stroke-width: 1.0;\"/><text fill=\"#000000\" font-family=\"sans-serif\" font-size=\"13\" lengthAdjust=\"spacingAndGlyphs\" textLength=\"64\" x=\"350\" y=\"310.0669\">«depend»</text></a><!--MD5=[c5e8897d989ce984f93528998a7150fe]\n",
       "link E8 to E6--><a href=\"psysml:6d264d90-cc53-4d32-95c3-fe1ad979e012\" target=\"_top\" title=\"psysml:6d264d90-cc53-4d32-95c3-fe1ad979e012\" xlink:actuate=\"onRequest\" xlink:href=\"psysml:6d264d90-cc53-4d32-95c3-fe1ad979e012\" xlink:show=\"new\" xlink:title=\"psysml:6d264d90-cc53-4d32-95c3-fe1ad979e012\" xlink:type=\"simple\"><path d=\"M94,133.74 C94,133.74 94,209.46 94,209.46 \" fill=\"none\" id=\"E8-&gt;E6\" style=\"stroke: #383838; stroke-width: 1.0; stroke-dasharray: 7.0,7.0;\"/><polygon fill=\"#383838\" points=\"94,217.46,97,209.46,91,209.46,94,217.46\" style=\"stroke: #383838; stroke-width: 1.0;\"/><text fill=\"#000000\" font-family=\"sans-serif\" font-size=\"13\" lengthAdjust=\"spacingAndGlyphs\" textLength=\"64\" x=\"68\" y=\"180.0669\">«depend»</text></a><!--MD5=[bfa3c8b0d15052fdf50ae9310b491027]\n",
       "link E8 to E7--><a href=\"psysml:6d264d90-cc53-4d32-95c3-fe1ad979e012\" target=\"_top\" title=\"psysml:6d264d90-cc53-4d32-95c3-fe1ad979e012\" xlink:actuate=\"onRequest\" xlink:href=\"psysml:6d264d90-cc53-4d32-95c3-fe1ad979e012\" xlink:show=\"new\" xlink:title=\"psysml:6d264d90-cc53-4d32-95c3-fe1ad979e012\" xlink:type=\"simple\"><path d=\"M147,133.74 C147,133.74 147,209.46 147,209.46 \" fill=\"none\" id=\"E8-&gt;E7\" style=\"stroke: #383838; stroke-width: 1.0; stroke-dasharray: 7.0,7.0;\"/><polygon fill=\"#383838\" points=\"147,217.46,150,209.46,144,209.46,147,217.46\" style=\"stroke: #383838; stroke-width: 1.0;\"/><text fill=\"#000000\" font-family=\"sans-serif\" font-size=\"13\" lengthAdjust=\"spacingAndGlyphs\" textLength=\"64\" x=\"174\" y=\"180.0669\">«depend»</text></a><!--MD5=[a321fe37454c6bf5fd8172083dfd91f8]\n",
       "@startuml\r\n",
       "skinparam linetype ortho\r\n",
       "skinparam monochrome true\r\n",
       "skinparam classbackgroundcolor white\r\n",
       "skinparam shadowing false\r\n",
       "skinparam wrapWidth 300\r\n",
       "hide circle\r\n",
       "\r\n",
       "package \"DependencyTest\" as E1  [[psysml:d56232e2-0bee-4a1a-bb9b-8eb4f38b0dfa ]]  {\r\n",
       "package \"System\" as E2  [[psysml:50d5e3ed-2307-46ca-b041-8429ee229b8d ]]  {\r\n",
       "package \"Application Layer\" as E3  [[psysml:bf62b3a1-f030-4eff-b8ce-ffbdff107a6f ]]  {\r\n",
       "}\r\n",
       "package \"Service Layer\" as E4  [[psysml:471b2f11-dcf9-418e-881d-688bae838b3f ]]  {\r\n",
       "}\r\n",
       "package \"Data Layer\" as E5  [[psysml:da794142-8c7c-4611-9580-abeb242da5ef ]]  {\r\n",
       "}\r\n",
       "}\r\n",
       "comp usage \"x\" as E6  <<(T,blue)attribute>> [[psysml:ee6e66ae-6a4f-4999-8c9e-f85171cea95e ]] {\r\n",
       "}\r\n",
       "comp usage \"y\" as E7  <<(T,blue)attribute>> [[psysml:da3973fb-164e-4f16-bb62-2f8eaef60bc8 ]] {\r\n",
       "}\r\n",
       "comp usage \"z\" as E8  <<(T,blue)attribute>> [[psysml:8698e020-730f-4ac9-88e5-943d82c20ca0 ]] {\r\n",
       "}\r\n",
       "E3 ..>> E4 [[psysml:f56c438f-52f0-4453-9ce2-0999d9bfb233 ]] : <<depend>>\r\n",
       "E4 ..>> E5 [[psysml:149727ef-4884-4150-ac87-83ab56bc940c ]] : <<depend>>\r\n",
       "E8 ..>> E6 [[psysml:6d264d90-cc53-4d32-95c3-fe1ad979e012 ]] : <<depend>>\r\n",
       "E8 ..>> E7 [[psysml:6d264d90-cc53-4d32-95c3-fe1ad979e012 ]] : <<depend>>\r\n",
       "}\r\n",
       "@enduml\r\n",
       "\n",
       "PlantUML version 1.2020.13(Sat Jun 13 12:26:38 UTC 2020)\n",
       "(EPL source distribution)\n",
       "Java Runtime: OpenJDK Runtime Environment\n",
       "JVM: OpenJDK 64-Bit Server VM\n",
       "Default Encoding: UTF-8\n",
       "Language: en\n",
       "Country: null\n",
       "--></g></svg>"
      ]
     },
     "execution_count": 57,
     "metadata": {},
     "output_type": "execute_result"
    }
   ],
   "source": [
    "%viz --style=\"ORTHOLINE\" --view=\"MIXED\" \"DependencyTest\""
   ]
  }
 ],
 "metadata": {
  "kernelspec": {
   "display_name": "SysML",
   "language": "sysml",
   "name": "sysml"
  },
  "language_info": {
   "codemirror_mode": "sysml",
   "file_extension": ".sysml",
   "mimetype": "text/x-sysml",
   "name": "SysML",
   "pygments_lexer": "java",
   "version": "1.0.0"
  }
 },
 "nbformat": 4,
 "nbformat_minor": 5
}
