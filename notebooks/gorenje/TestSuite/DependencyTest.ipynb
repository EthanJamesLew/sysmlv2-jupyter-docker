{
 "cells": [
  {
   "cell_type": "markdown",
   "id": "69f44a5e",
   "metadata": {},
   "source": [
    "# SysML v2 Test Suite\n",
    "\n",
    "This can notebook can be cleared using menu `Edit --> Clear All Outputs` and then all cells can be\n",
    "run using menu `Run --> Run All Cells`.\n",
    "\n",
    "**WARNING**: This file is generated, all modifications here will be ignored.\n"
   ]
  },
  {
   "cell_type": "markdown",
   "id": "755d6683",
   "metadata": {},
   "source": [
    "## File: ../../sysml/src/examples/Simple Tests/DependencyTest.sysml"
   ]
  },
  {
   "cell_type": "code",
   "execution_count": 1,
   "id": "cef62908",
   "metadata": {
    "execution": {
     "iopub.execute_input": "2021-12-15T15:15:18.374639Z",
     "iopub.status.busy": "2021-12-15T15:15:18.373386Z",
     "iopub.status.idle": "2021-12-15T15:15:18.458888Z",
     "shell.execute_reply": "2021-12-15T15:15:18.459141Z"
    }
   },
   "outputs": [
    {
     "data": {
      "text/plain": [
       "Package DependencyTest (15b97cdf-31fd-494a-b839-79c8d580b400)\n"
      ]
     },
     "execution_count": 1,
     "metadata": {},
     "output_type": "execute_result"
    }
   ],
   "source": [
    "package DependencyTest {\n",
    "\t\n",
    "\tpackage System {\n",
    "\t\tpackage 'Application Layer';\n",
    "\t\tpackage 'Service Layer';\n",
    "\t\tpackage 'Data Layer';\n",
    "\t}\n",
    "\t\n",
    "\timport System::*;\n",
    "\t\n",
    "\tdependency Use from 'Application Layer' to 'Service Layer';\n",
    "\tdependency from 'Service Layer' to 'Data Layer';\n",
    "\t\n",
    "\tattribute x;\n",
    "\tattribute y;\n",
    "\tattribute z;\n",
    "\t\n",
    "\tdependency z to x, y;\n",
    "\t\n",
    "}"
   ]
  },
  {
   "cell_type": "code",
   "execution_count": 2,
   "id": "f373eaaf",
   "metadata": {
    "execution": {
     "iopub.execute_input": "2021-12-15T15:15:18.510116Z",
     "iopub.status.busy": "2021-12-15T15:15:18.509712Z",
     "iopub.status.idle": "2021-12-15T15:15:18.969565Z",
     "shell.execute_reply": "2021-12-15T15:15:18.966929Z"
    }
   },
   "outputs": [
    {
     "data": {
      "image/svg+xml": [
       "<?xml version=\"1.0\" encoding=\"UTF-8\" standalone=\"no\"?><svg xmlns=\"http://www.w3.org/2000/svg\" xmlns:xlink=\"http://www.w3.org/1999/xlink\" contentScriptType=\"application/ecmascript\" contentStyleType=\"text/css\" height=\"449px\" preserveAspectRatio=\"none\" style=\"width:469px;height:449px;\" version=\"1.1\" viewBox=\"0 0 469 449\" width=\"469px\" zoomAndPan=\"magnify\"><defs/><g><!--MD5=[fbc87193dbaf4d95561dea2c320d4a47]\n",
       "cluster E1--><a href=\"psysml:79533e77-94c2-4bae-8455-1b4d9ad0ac19\" target=\"_top\" title=\"psysml:79533e77-94c2-4bae-8455-1b4d9ad0ac19\" xlink:actuate=\"onRequest\" xlink:href=\"psysml:79533e77-94c2-4bae-8455-1b4d9ad0ac19\" xlink:show=\"new\" xlink:title=\"psysml:79533e77-94c2-4bae-8455-1b4d9ad0ac19\" xlink:type=\"simple\"><polygon fill=\"#FFFFFF\" points=\"16,6,142,6,149,28.2969,447,28.2969,447,437,16,437,16,6\" style=\"stroke: #000000; stroke-width: 1.5;\"/><line style=\"stroke: #000000; stroke-width: 1.5;\" x1=\"16\" x2=\"149\" y1=\"28.2969\" y2=\"28.2969\"/><text fill=\"#000000\" font-family=\"sans-serif\" font-size=\"14\" font-weight=\"bold\" lengthAdjust=\"spacingAndGlyphs\" textLength=\"120\" x=\"20\" y=\"20.9951\">DependencyTest</text></a><!--MD5=[e4f7fae6ed58524ba242bb0b0d3be6b7]\n",
       "cluster E2--><a href=\"psysml:aa959c9d-de71-4dee-a328-dce50e2c2738\" target=\"_top\" title=\"psysml:aa959c9d-de71-4dee-a328-dce50e2c2738\" xlink:actuate=\"onRequest\" xlink:href=\"psysml:aa959c9d-de71-4dee-a328-dce50e2c2738\" xlink:show=\"new\" xlink:title=\"psysml:aa959c9d-de71-4dee-a328-dce50e2c2738\" xlink:type=\"simple\"><polygon fill=\"#FFFFFF\" points=\"255,49,312,49,319,71.2969,423,71.2969,423,413,255,413,255,49\" style=\"stroke: #000000; stroke-width: 1.5;\"/><line style=\"stroke: #000000; stroke-width: 1.5;\" x1=\"255\" x2=\"319\" y1=\"71.2969\" y2=\"71.2969\"/><text fill=\"#000000\" font-family=\"sans-serif\" font-size=\"14\" font-weight=\"bold\" lengthAdjust=\"spacingAndGlyphs\" textLength=\"51\" x=\"259\" y=\"63.9951\">System</text></a><!--MD5=[60a26617385b1d2d0262a64233df1f8d]\n",
       "class E6--><a href=\"psysml:002f54b6-1019-4822-b88b-c9a615e25b28\" target=\"_top\" title=\"psysml:002f54b6-1019-4822-b88b-c9a615e25b28\" xlink:actuate=\"onRequest\" xlink:href=\"psysml:002f54b6-1019-4822-b88b-c9a615e25b28\" xlink:show=\"new\" xlink:title=\"psysml:002f54b6-1019-4822-b88b-c9a615e25b28\" xlink:type=\"simple\"><rect fill=\"#FFFFFF\" height=\"45.9375\" id=\"E6\" rx=\"10\" ry=\"10\" style=\"stroke: #383838; stroke-width: 1.5;\" width=\"71\" x=\"32.5\" y=\"217.5\"/><text fill=\"#000000\" font-family=\"sans-serif\" font-size=\"12\" font-style=\"italic\" lengthAdjust=\"spacingAndGlyphs\" textLength=\"69\" x=\"33.5\" y=\"233.6387\">«attribute»</text><text fill=\"#000000\" font-family=\"sans-serif\" font-size=\"12\" lengthAdjust=\"spacingAndGlyphs\" textLength=\"6\" x=\"63\" y=\"247.6074\">x</text><line style=\"stroke: #383838; stroke-width: 1.5;\" x1=\"33.5\" x2=\"102.5\" y1=\"255.4375\" y2=\"255.4375\"/></a><!--MD5=[2156ba9850f5573cc1fc38a6a4b2f02b]\n",
       "class E7--><a href=\"psysml:5e659b03-2baa-4472-976b-b868f73bcda1\" target=\"_top\" title=\"psysml:5e659b03-2baa-4472-976b-b868f73bcda1\" xlink:actuate=\"onRequest\" xlink:href=\"psysml:5e659b03-2baa-4472-976b-b868f73bcda1\" xlink:show=\"new\" xlink:title=\"psysml:5e659b03-2baa-4472-976b-b868f73bcda1\" xlink:type=\"simple\"><rect fill=\"#FFFFFF\" height=\"45.9375\" id=\"E7\" rx=\"10\" ry=\"10\" style=\"stroke: #383838; stroke-width: 1.5;\" width=\"71\" x=\"138.5\" y=\"217.5\"/><text fill=\"#000000\" font-family=\"sans-serif\" font-size=\"12\" font-style=\"italic\" lengthAdjust=\"spacingAndGlyphs\" textLength=\"69\" x=\"139.5\" y=\"233.6387\">«attribute»</text><text fill=\"#000000\" font-family=\"sans-serif\" font-size=\"12\" lengthAdjust=\"spacingAndGlyphs\" textLength=\"6\" x=\"169\" y=\"247.6074\">y</text><line style=\"stroke: #383838; stroke-width: 1.5;\" x1=\"139.5\" x2=\"208.5\" y1=\"255.4375\" y2=\"255.4375\"/></a><!--MD5=[b9389687b975829384b498ac4b7476b2]\n",
       "class E8--><a href=\"psysml:17862b5a-aa19-4a09-bb5d-84a4c59b96ac\" target=\"_top\" title=\"psysml:17862b5a-aa19-4a09-bb5d-84a4c59b96ac\" xlink:actuate=\"onRequest\" xlink:href=\"psysml:17862b5a-aa19-4a09-bb5d-84a4c59b96ac\" xlink:show=\"new\" xlink:title=\"psysml:17862b5a-aa19-4a09-bb5d-84a4c59b96ac\" xlink:type=\"simple\"><rect fill=\"#FFFFFF\" height=\"45.9375\" id=\"E8\" rx=\"10\" ry=\"10\" style=\"stroke: #383838; stroke-width: 1.5;\" width=\"71\" x=\"84.5\" y=\"87.5\"/><text fill=\"#000000\" font-family=\"sans-serif\" font-size=\"12\" font-style=\"italic\" lengthAdjust=\"spacingAndGlyphs\" textLength=\"69\" x=\"85.5\" y=\"103.6387\">«attribute»</text><text fill=\"#000000\" font-family=\"sans-serif\" font-size=\"12\" lengthAdjust=\"spacingAndGlyphs\" textLength=\"5\" x=\"115.5\" y=\"117.6074\">z</text><line style=\"stroke: #383838; stroke-width: 1.5;\" x1=\"85.5\" x2=\"154.5\" y1=\"125.4375\" y2=\"125.4375\"/></a><a href=\"psysml:c86dacee-9d76-4d53-8a53-8574653b1f4e\" target=\"_top\" title=\"psysml:c86dacee-9d76-4d53-8a53-8574653b1f4e\" xlink:actuate=\"onRequest\" xlink:href=\"psysml:c86dacee-9d76-4d53-8a53-8574653b1f4e\" xlink:show=\"new\" xlink:title=\"psysml:c86dacee-9d76-4d53-8a53-8574653b1f4e\" xlink:type=\"simple\"><polygon fill=\"#FFFFFF\" points=\"271.5,84,392.5,84,399.5,106.2969,406.5,106.2969,406.5,136.5938,271.5,136.5938,271.5,84\" style=\"stroke: #000000; stroke-width: 1.5;\"/><line style=\"stroke: #000000; stroke-width: 1.5;\" x1=\"271.5\" x2=\"399.5\" y1=\"106.2969\" y2=\"106.2969\"/><text fill=\"#000000\" font-family=\"sans-serif\" font-size=\"14\" font-weight=\"bold\" lengthAdjust=\"spacingAndGlyphs\" textLength=\"115\" x=\"275.5\" y=\"98.9951\">Application Layer</text></a><a href=\"psysml:1c23a4b2-35e2-4e8a-96b6-0c0eddc8acf9\" target=\"_top\" title=\"psysml:1c23a4b2-35e2-4e8a-96b6-0c0eddc8acf9\" xlink:actuate=\"onRequest\" xlink:href=\"psysml:1c23a4b2-35e2-4e8a-96b6-0c0eddc8acf9\" xlink:show=\"new\" xlink:title=\"psysml:1c23a4b2-35e2-4e8a-96b6-0c0eddc8acf9\" xlink:type=\"simple\"><polygon fill=\"#FFFFFF\" points=\"284,214,380,214,387,236.2969,394,236.2969,394,266.5938,284,266.5938,284,214\" style=\"stroke: #000000; stroke-width: 1.5;\"/><line style=\"stroke: #000000; stroke-width: 1.5;\" x1=\"284\" x2=\"387\" y1=\"236.2969\" y2=\"236.2969\"/><text fill=\"#000000\" font-family=\"sans-serif\" font-size=\"14\" font-weight=\"bold\" lengthAdjust=\"spacingAndGlyphs\" textLength=\"90\" x=\"288\" y=\"228.9951\">Service Layer</text></a><a href=\"psysml:a642c0ba-468c-4345-a41b-ed6906c58c2e\" target=\"_top\" title=\"psysml:a642c0ba-468c-4345-a41b-ed6906c58c2e\" xlink:actuate=\"onRequest\" xlink:href=\"psysml:a642c0ba-468c-4345-a41b-ed6906c58c2e\" xlink:show=\"new\" xlink:title=\"psysml:a642c0ba-468c-4345-a41b-ed6906c58c2e\" xlink:type=\"simple\"><polygon fill=\"#FFFFFF\" points=\"293,344,371,344,378,366.2969,385,366.2969,385,396.5938,293,396.5938,293,344\" style=\"stroke: #000000; stroke-width: 1.5;\"/><line style=\"stroke: #000000; stroke-width: 1.5;\" x1=\"293\" x2=\"378\" y1=\"366.2969\" y2=\"366.2969\"/><text fill=\"#000000\" font-family=\"sans-serif\" font-size=\"14\" font-weight=\"bold\" lengthAdjust=\"spacingAndGlyphs\" textLength=\"72\" x=\"297\" y=\"358.9951\">Data Layer</text></a><!--MD5=[af87c684e3b0d8be13c1a698a818ef1e]\n",
       "link E3 to E4--><a href=\"psysml:e08fe20c-326f-4bf4-bdb1-9df0382c82e4\" target=\"_top\" title=\"psysml:e08fe20c-326f-4bf4-bdb1-9df0382c82e4\" xlink:actuate=\"onRequest\" xlink:href=\"psysml:e08fe20c-326f-4bf4-bdb1-9df0382c82e4\" xlink:show=\"new\" xlink:title=\"psysml:e08fe20c-326f-4bf4-bdb1-9df0382c82e4\" xlink:type=\"simple\"><path d=\"M339,137.1 C339,156.8 339,184.22 339,205.73 \" fill=\"none\" id=\"E3-&gt;E4\" style=\"stroke: #383838; stroke-width: 1.0; stroke-dasharray: 7.0,7.0;\"/><polygon fill=\"#383838\" points=\"339,213.95,342,205.95,336,205.95,339,213.95\" style=\"stroke: #383838; stroke-width: 1.0;\"/><text fill=\"#000000\" font-family=\"sans-serif\" font-size=\"13\" lengthAdjust=\"spacingAndGlyphs\" textLength=\"64\" x=\"340\" y=\"180.0669\">«depend»</text></a><!--MD5=[1b7591eae5389033d8d09a9d6721a717]\n",
       "link E4 to E5--><a href=\"psysml:3bcf17b2-ef7a-4ff9-b082-cb17e1124f6a\" target=\"_top\" title=\"psysml:3bcf17b2-ef7a-4ff9-b082-cb17e1124f6a\" xlink:actuate=\"onRequest\" xlink:href=\"psysml:3bcf17b2-ef7a-4ff9-b082-cb17e1124f6a\" xlink:show=\"new\" xlink:title=\"psysml:3bcf17b2-ef7a-4ff9-b082-cb17e1124f6a\" xlink:type=\"simple\"><path d=\"M339,267.1 C339,286.8 339,314.22 339,335.73 \" fill=\"none\" id=\"E4-&gt;E5\" style=\"stroke: #383838; stroke-width: 1.0; stroke-dasharray: 7.0,7.0;\"/><polygon fill=\"#383838\" points=\"339,343.95,342,335.95,336,335.95,339,343.95\" style=\"stroke: #383838; stroke-width: 1.0;\"/><text fill=\"#000000\" font-family=\"sans-serif\" font-size=\"13\" lengthAdjust=\"spacingAndGlyphs\" textLength=\"64\" x=\"340\" y=\"310.0669\">«depend»</text></a><!--MD5=[c5e8897d989ce984f93528998a7150fe]\n",
       "link E8 to E6--><a href=\"psysml:aa53d009-eedf-4466-a7b8-b270a2d13479\" target=\"_top\" title=\"psysml:aa53d009-eedf-4466-a7b8-b270a2d13479\" xlink:actuate=\"onRequest\" xlink:href=\"psysml:aa53d009-eedf-4466-a7b8-b270a2d13479\" xlink:show=\"new\" xlink:title=\"psysml:aa53d009-eedf-4466-a7b8-b270a2d13479\" xlink:type=\"simple\"><path d=\"M89.42,133.6 C79.35,142.68 69.37,154.11 64,167 C58.5,180.2 58.66,195.94 60.54,209.38 \" fill=\"none\" id=\"E8-&gt;E6\" style=\"stroke: #383838; stroke-width: 1.0; stroke-dasharray: 7.0,7.0;\"/><polygon fill=\"#383838\" points=\"61.9,217.4,63.517,209.0104,57.6018,210.0159,61.9,217.4\" style=\"stroke: #383838; stroke-width: 1.0;\"/><text fill=\"#000000\" font-family=\"sans-serif\" font-size=\"13\" lengthAdjust=\"spacingAndGlyphs\" textLength=\"64\" x=\"65\" y=\"180.0669\">«depend»</text></a><!--MD5=[bfa3c8b0d15052fdf50ae9310b491027]\n",
       "link E8 to E7--><a href=\"psysml:aa53d009-eedf-4466-a7b8-b270a2d13479\" target=\"_top\" title=\"psysml:aa53d009-eedf-4466-a7b8-b270a2d13479\" xlink:actuate=\"onRequest\" xlink:href=\"psysml:aa53d009-eedf-4466-a7b8-b270a2d13479\" xlink:show=\"new\" xlink:title=\"psysml:aa53d009-eedf-4466-a7b8-b270a2d13479\" xlink:type=\"simple\"><path d=\"M129.28,133.5 C138.17,154.57 151.64,186.5 161.47,209.81 \" fill=\"none\" id=\"E8-&gt;E7\" style=\"stroke: #383838; stroke-width: 1.0; stroke-dasharray: 7.0,7.0;\"/><polygon fill=\"#383838\" points=\"164.66,217.35,164.3241,208.8126,158.7933,211.1385,164.66,217.35\" style=\"stroke: #383838; stroke-width: 1.0;\"/><text fill=\"#000000\" font-family=\"sans-serif\" font-size=\"13\" lengthAdjust=\"spacingAndGlyphs\" textLength=\"64\" x=\"151\" y=\"180.0669\">«depend»</text></a><!--MD5=[9c62f593217f9b10c996e42ea63d5789]\n",
       "@startuml\r\n",
       " skinparam monochrome true\r\n",
       "skinparam classbackgroundcolor white\r\n",
       "skinparam shadowing false\r\n",
       "skinparam wrapWidth 300\r\n",
       "hide circle\r\n",
       "\r\n",
       "package \"DependencyTest\" as E1  [[psysml:79533e77-94c2-4bae-8455-1b4d9ad0ac19 ]]  {\r\n",
       "package \"System\" as E2  [[psysml:aa959c9d-de71-4dee-a328-dce50e2c2738 ]]  {\r\n",
       "package \"Application Layer\" as E3  [[psysml:c86dacee-9d76-4d53-8a53-8574653b1f4e ]]  {\r\n",
       "}\r\n",
       "package \"Service Layer\" as E4  [[psysml:1c23a4b2-35e2-4e8a-96b6-0c0eddc8acf9 ]]  {\r\n",
       "}\r\n",
       "package \"Data Layer\" as E5  [[psysml:a642c0ba-468c-4345-a41b-ed6906c58c2e ]]  {\r\n",
       "}\r\n",
       "}\r\n",
       "comp usage \"x \" as E6  <<(T,blue) attribute>> [[psysml:002f54b6-1019-4822-b88b-c9a615e25b28 ]] {\r\n",
       "}\r\n",
       "comp usage \"y \" as E7  <<(T,blue) attribute>> [[psysml:5e659b03-2baa-4472-976b-b868f73bcda1 ]] {\r\n",
       "}\r\n",
       "comp usage \"z \" as E8  <<(T,blue) attribute>> [[psysml:17862b5a-aa19-4a09-bb5d-84a4c59b96ac ]] {\r\n",
       "}\r\n",
       "}\r\n",
       "E3 ..>> E4 [[psysml:e08fe20c-326f-4bf4-bdb1-9df0382c82e4 ]] : <<depend>>\r\n",
       "E4 ..>> E5 [[psysml:3bcf17b2-ef7a-4ff9-b082-cb17e1124f6a ]] : <<depend>>\r\n",
       "E8 ..>> E6 [[psysml:aa53d009-eedf-4466-a7b8-b270a2d13479 ]] : <<depend>>\r\n",
       "E8 ..>> E7 [[psysml:aa53d009-eedf-4466-a7b8-b270a2d13479 ]] : <<depend>>\r\n",
       "@enduml\r\n",
       "\n",
       "PlantUML version 1.2020.13(Sat Jun 13 12:26:38 UTC 2020)\n",
       "(EPL source distribution)\n",
       "Java Runtime: OpenJDK Runtime Environment\n",
       "JVM: OpenJDK 64-Bit Server VM\n",
       "Default Encoding: UTF-8\n",
       "Language: en\n",
       "Country: null\n",
       "--></g></svg>"
      ]
     },
     "execution_count": 2,
     "metadata": {},
     "output_type": "execute_result"
    }
   ],
   "source": [
    "%viz --style=\"COMPTREE\" --view=\"Default\" \"DependencyTest\""
   ]
  },
  {
   "cell_type": "code",
   "execution_count": 3,
   "id": "ff8636de",
   "metadata": {
    "execution": {
     "iopub.execute_input": "2021-12-15T15:15:19.017869Z",
     "iopub.status.busy": "2021-12-15T15:15:19.017640Z",
     "iopub.status.idle": "2021-12-15T15:15:19.097250Z",
     "shell.execute_reply": "2021-12-15T15:15:19.096820Z"
    }
   },
   "outputs": [
    {
     "data": {
      "image/svg+xml": [
       "<?xml version=\"1.0\" encoding=\"UTF-8\" standalone=\"no\"?><svg xmlns=\"http://www.w3.org/2000/svg\" xmlns:xlink=\"http://www.w3.org/1999/xlink\" contentScriptType=\"application/ecmascript\" contentStyleType=\"text/css\" height=\"449px\" preserveAspectRatio=\"none\" style=\"width:469px;height:449px;\" version=\"1.1\" viewBox=\"0 0 469 449\" width=\"469px\" zoomAndPan=\"magnify\"><defs/><g><!--MD5=[fbc87193dbaf4d95561dea2c320d4a47]\n",
       "cluster E1--><a href=\"psysml:79533e77-94c2-4bae-8455-1b4d9ad0ac19\" target=\"_top\" title=\"psysml:79533e77-94c2-4bae-8455-1b4d9ad0ac19\" xlink:actuate=\"onRequest\" xlink:href=\"psysml:79533e77-94c2-4bae-8455-1b4d9ad0ac19\" xlink:show=\"new\" xlink:title=\"psysml:79533e77-94c2-4bae-8455-1b4d9ad0ac19\" xlink:type=\"simple\"><polygon fill=\"#FFFFFF\" points=\"16,6,142,6,149,28.2969,447,28.2969,447,437,16,437,16,6\" style=\"stroke: #000000; stroke-width: 1.5;\"/><line style=\"stroke: #000000; stroke-width: 1.5;\" x1=\"16\" x2=\"149\" y1=\"28.2969\" y2=\"28.2969\"/><text fill=\"#000000\" font-family=\"sans-serif\" font-size=\"14\" font-weight=\"bold\" lengthAdjust=\"spacingAndGlyphs\" textLength=\"120\" x=\"20\" y=\"20.9951\">DependencyTest</text></a><!--MD5=[e4f7fae6ed58524ba242bb0b0d3be6b7]\n",
       "cluster E2--><a href=\"psysml:aa959c9d-de71-4dee-a328-dce50e2c2738\" target=\"_top\" title=\"psysml:aa959c9d-de71-4dee-a328-dce50e2c2738\" xlink:actuate=\"onRequest\" xlink:href=\"psysml:aa959c9d-de71-4dee-a328-dce50e2c2738\" xlink:show=\"new\" xlink:title=\"psysml:aa959c9d-de71-4dee-a328-dce50e2c2738\" xlink:type=\"simple\"><polygon fill=\"#FFFFFF\" points=\"255,49,312,49,319,71.2969,423,71.2969,423,413,255,413,255,49\" style=\"stroke: #000000; stroke-width: 1.5;\"/><line style=\"stroke: #000000; stroke-width: 1.5;\" x1=\"255\" x2=\"319\" y1=\"71.2969\" y2=\"71.2969\"/><text fill=\"#000000\" font-family=\"sans-serif\" font-size=\"14\" font-weight=\"bold\" lengthAdjust=\"spacingAndGlyphs\" textLength=\"51\" x=\"259\" y=\"63.9951\">System</text></a><!--MD5=[60a26617385b1d2d0262a64233df1f8d]\n",
       "class E6--><a href=\"psysml:002f54b6-1019-4822-b88b-c9a615e25b28\" target=\"_top\" title=\"psysml:002f54b6-1019-4822-b88b-c9a615e25b28\" xlink:actuate=\"onRequest\" xlink:href=\"psysml:002f54b6-1019-4822-b88b-c9a615e25b28\" xlink:show=\"new\" xlink:title=\"psysml:002f54b6-1019-4822-b88b-c9a615e25b28\" xlink:type=\"simple\"><rect fill=\"#FFFFFF\" height=\"45.9375\" id=\"E6\" rx=\"10\" ry=\"10\" style=\"stroke: #383838; stroke-width: 1.5;\" width=\"71\" x=\"32.5\" y=\"217.5\"/><text fill=\"#000000\" font-family=\"sans-serif\" font-size=\"12\" font-style=\"italic\" lengthAdjust=\"spacingAndGlyphs\" textLength=\"69\" x=\"33.5\" y=\"233.6387\">«attribute»</text><text fill=\"#000000\" font-family=\"sans-serif\" font-size=\"12\" lengthAdjust=\"spacingAndGlyphs\" textLength=\"6\" x=\"63\" y=\"247.6074\">x</text><line style=\"stroke: #383838; stroke-width: 1.5;\" x1=\"33.5\" x2=\"102.5\" y1=\"255.4375\" y2=\"255.4375\"/></a><!--MD5=[2156ba9850f5573cc1fc38a6a4b2f02b]\n",
       "class E7--><a href=\"psysml:5e659b03-2baa-4472-976b-b868f73bcda1\" target=\"_top\" title=\"psysml:5e659b03-2baa-4472-976b-b868f73bcda1\" xlink:actuate=\"onRequest\" xlink:href=\"psysml:5e659b03-2baa-4472-976b-b868f73bcda1\" xlink:show=\"new\" xlink:title=\"psysml:5e659b03-2baa-4472-976b-b868f73bcda1\" xlink:type=\"simple\"><rect fill=\"#FFFFFF\" height=\"45.9375\" id=\"E7\" rx=\"10\" ry=\"10\" style=\"stroke: #383838; stroke-width: 1.5;\" width=\"71\" x=\"138.5\" y=\"217.5\"/><text fill=\"#000000\" font-family=\"sans-serif\" font-size=\"12\" font-style=\"italic\" lengthAdjust=\"spacingAndGlyphs\" textLength=\"69\" x=\"139.5\" y=\"233.6387\">«attribute»</text><text fill=\"#000000\" font-family=\"sans-serif\" font-size=\"12\" lengthAdjust=\"spacingAndGlyphs\" textLength=\"6\" x=\"169\" y=\"247.6074\">y</text><line style=\"stroke: #383838; stroke-width: 1.5;\" x1=\"139.5\" x2=\"208.5\" y1=\"255.4375\" y2=\"255.4375\"/></a><!--MD5=[b9389687b975829384b498ac4b7476b2]\n",
       "class E8--><a href=\"psysml:17862b5a-aa19-4a09-bb5d-84a4c59b96ac\" target=\"_top\" title=\"psysml:17862b5a-aa19-4a09-bb5d-84a4c59b96ac\" xlink:actuate=\"onRequest\" xlink:href=\"psysml:17862b5a-aa19-4a09-bb5d-84a4c59b96ac\" xlink:show=\"new\" xlink:title=\"psysml:17862b5a-aa19-4a09-bb5d-84a4c59b96ac\" xlink:type=\"simple\"><rect fill=\"#FFFFFF\" height=\"45.9375\" id=\"E8\" rx=\"10\" ry=\"10\" style=\"stroke: #383838; stroke-width: 1.5;\" width=\"71\" x=\"84.5\" y=\"87.5\"/><text fill=\"#000000\" font-family=\"sans-serif\" font-size=\"12\" font-style=\"italic\" lengthAdjust=\"spacingAndGlyphs\" textLength=\"69\" x=\"85.5\" y=\"103.6387\">«attribute»</text><text fill=\"#000000\" font-family=\"sans-serif\" font-size=\"12\" lengthAdjust=\"spacingAndGlyphs\" textLength=\"5\" x=\"115.5\" y=\"117.6074\">z</text><line style=\"stroke: #383838; stroke-width: 1.5;\" x1=\"85.5\" x2=\"154.5\" y1=\"125.4375\" y2=\"125.4375\"/></a><a href=\"psysml:c86dacee-9d76-4d53-8a53-8574653b1f4e\" target=\"_top\" title=\"psysml:c86dacee-9d76-4d53-8a53-8574653b1f4e\" xlink:actuate=\"onRequest\" xlink:href=\"psysml:c86dacee-9d76-4d53-8a53-8574653b1f4e\" xlink:show=\"new\" xlink:title=\"psysml:c86dacee-9d76-4d53-8a53-8574653b1f4e\" xlink:type=\"simple\"><polygon fill=\"#FFFFFF\" points=\"271.5,84,392.5,84,399.5,106.2969,406.5,106.2969,406.5,136.5938,271.5,136.5938,271.5,84\" style=\"stroke: #000000; stroke-width: 1.5;\"/><line style=\"stroke: #000000; stroke-width: 1.5;\" x1=\"271.5\" x2=\"399.5\" y1=\"106.2969\" y2=\"106.2969\"/><text fill=\"#000000\" font-family=\"sans-serif\" font-size=\"14\" font-weight=\"bold\" lengthAdjust=\"spacingAndGlyphs\" textLength=\"115\" x=\"275.5\" y=\"98.9951\">Application Layer</text></a><a href=\"psysml:1c23a4b2-35e2-4e8a-96b6-0c0eddc8acf9\" target=\"_top\" title=\"psysml:1c23a4b2-35e2-4e8a-96b6-0c0eddc8acf9\" xlink:actuate=\"onRequest\" xlink:href=\"psysml:1c23a4b2-35e2-4e8a-96b6-0c0eddc8acf9\" xlink:show=\"new\" xlink:title=\"psysml:1c23a4b2-35e2-4e8a-96b6-0c0eddc8acf9\" xlink:type=\"simple\"><polygon fill=\"#FFFFFF\" points=\"284,214,380,214,387,236.2969,394,236.2969,394,266.5938,284,266.5938,284,214\" style=\"stroke: #000000; stroke-width: 1.5;\"/><line style=\"stroke: #000000; stroke-width: 1.5;\" x1=\"284\" x2=\"387\" y1=\"236.2969\" y2=\"236.2969\"/><text fill=\"#000000\" font-family=\"sans-serif\" font-size=\"14\" font-weight=\"bold\" lengthAdjust=\"spacingAndGlyphs\" textLength=\"90\" x=\"288\" y=\"228.9951\">Service Layer</text></a><a href=\"psysml:a642c0ba-468c-4345-a41b-ed6906c58c2e\" target=\"_top\" title=\"psysml:a642c0ba-468c-4345-a41b-ed6906c58c2e\" xlink:actuate=\"onRequest\" xlink:href=\"psysml:a642c0ba-468c-4345-a41b-ed6906c58c2e\" xlink:show=\"new\" xlink:title=\"psysml:a642c0ba-468c-4345-a41b-ed6906c58c2e\" xlink:type=\"simple\"><polygon fill=\"#FFFFFF\" points=\"293,344,371,344,378,366.2969,385,366.2969,385,396.5938,293,396.5938,293,344\" style=\"stroke: #000000; stroke-width: 1.5;\"/><line style=\"stroke: #000000; stroke-width: 1.5;\" x1=\"293\" x2=\"378\" y1=\"366.2969\" y2=\"366.2969\"/><text fill=\"#000000\" font-family=\"sans-serif\" font-size=\"14\" font-weight=\"bold\" lengthAdjust=\"spacingAndGlyphs\" textLength=\"72\" x=\"297\" y=\"358.9951\">Data Layer</text></a><!--MD5=[af87c684e3b0d8be13c1a698a818ef1e]\n",
       "link E3 to E4--><a href=\"psysml:e08fe20c-326f-4bf4-bdb1-9df0382c82e4\" target=\"_top\" title=\"psysml:e08fe20c-326f-4bf4-bdb1-9df0382c82e4\" xlink:actuate=\"onRequest\" xlink:href=\"psysml:e08fe20c-326f-4bf4-bdb1-9df0382c82e4\" xlink:show=\"new\" xlink:title=\"psysml:e08fe20c-326f-4bf4-bdb1-9df0382c82e4\" xlink:type=\"simple\"><path d=\"M339,137.1 C339,156.8 339,184.22 339,205.73 \" fill=\"none\" id=\"E3-&gt;E4\" style=\"stroke: #383838; stroke-width: 1.0; stroke-dasharray: 7.0,7.0;\"/><polygon fill=\"#383838\" points=\"339,213.95,342,205.95,336,205.95,339,213.95\" style=\"stroke: #383838; stroke-width: 1.0;\"/><text fill=\"#000000\" font-family=\"sans-serif\" font-size=\"13\" lengthAdjust=\"spacingAndGlyphs\" textLength=\"64\" x=\"340\" y=\"180.0669\">«depend»</text></a><!--MD5=[1b7591eae5389033d8d09a9d6721a717]\n",
       "link E4 to E5--><a href=\"psysml:3bcf17b2-ef7a-4ff9-b082-cb17e1124f6a\" target=\"_top\" title=\"psysml:3bcf17b2-ef7a-4ff9-b082-cb17e1124f6a\" xlink:actuate=\"onRequest\" xlink:href=\"psysml:3bcf17b2-ef7a-4ff9-b082-cb17e1124f6a\" xlink:show=\"new\" xlink:title=\"psysml:3bcf17b2-ef7a-4ff9-b082-cb17e1124f6a\" xlink:type=\"simple\"><path d=\"M339,267.1 C339,286.8 339,314.22 339,335.73 \" fill=\"none\" id=\"E4-&gt;E5\" style=\"stroke: #383838; stroke-width: 1.0; stroke-dasharray: 7.0,7.0;\"/><polygon fill=\"#383838\" points=\"339,343.95,342,335.95,336,335.95,339,343.95\" style=\"stroke: #383838; stroke-width: 1.0;\"/><text fill=\"#000000\" font-family=\"sans-serif\" font-size=\"13\" lengthAdjust=\"spacingAndGlyphs\" textLength=\"64\" x=\"340\" y=\"310.0669\">«depend»</text></a><!--MD5=[c5e8897d989ce984f93528998a7150fe]\n",
       "link E8 to E6--><a href=\"psysml:aa53d009-eedf-4466-a7b8-b270a2d13479\" target=\"_top\" title=\"psysml:aa53d009-eedf-4466-a7b8-b270a2d13479\" xlink:actuate=\"onRequest\" xlink:href=\"psysml:aa53d009-eedf-4466-a7b8-b270a2d13479\" xlink:show=\"new\" xlink:title=\"psysml:aa53d009-eedf-4466-a7b8-b270a2d13479\" xlink:type=\"simple\"><path d=\"M89.42,133.6 C79.35,142.68 69.37,154.11 64,167 C58.5,180.2 58.66,195.94 60.54,209.38 \" fill=\"none\" id=\"E8-&gt;E6\" style=\"stroke: #383838; stroke-width: 1.0; stroke-dasharray: 7.0,7.0;\"/><polygon fill=\"#383838\" points=\"61.9,217.4,63.517,209.0104,57.6018,210.0159,61.9,217.4\" style=\"stroke: #383838; stroke-width: 1.0;\"/><text fill=\"#000000\" font-family=\"sans-serif\" font-size=\"13\" lengthAdjust=\"spacingAndGlyphs\" textLength=\"64\" x=\"65\" y=\"180.0669\">«depend»</text></a><!--MD5=[bfa3c8b0d15052fdf50ae9310b491027]\n",
       "link E8 to E7--><a href=\"psysml:aa53d009-eedf-4466-a7b8-b270a2d13479\" target=\"_top\" title=\"psysml:aa53d009-eedf-4466-a7b8-b270a2d13479\" xlink:actuate=\"onRequest\" xlink:href=\"psysml:aa53d009-eedf-4466-a7b8-b270a2d13479\" xlink:show=\"new\" xlink:title=\"psysml:aa53d009-eedf-4466-a7b8-b270a2d13479\" xlink:type=\"simple\"><path d=\"M129.28,133.5 C138.17,154.57 151.64,186.5 161.47,209.81 \" fill=\"none\" id=\"E8-&gt;E7\" style=\"stroke: #383838; stroke-width: 1.0; stroke-dasharray: 7.0,7.0;\"/><polygon fill=\"#383838\" points=\"164.66,217.35,164.3241,208.8126,158.7933,211.1385,164.66,217.35\" style=\"stroke: #383838; stroke-width: 1.0;\"/><text fill=\"#000000\" font-family=\"sans-serif\" font-size=\"13\" lengthAdjust=\"spacingAndGlyphs\" textLength=\"64\" x=\"151\" y=\"180.0669\">«depend»</text></a><!--MD5=[9c62f593217f9b10c996e42ea63d5789]\n",
       "@startuml\r\n",
       " skinparam monochrome true\r\n",
       "skinparam classbackgroundcolor white\r\n",
       "skinparam shadowing false\r\n",
       "skinparam wrapWidth 300\r\n",
       "hide circle\r\n",
       "\r\n",
       "package \"DependencyTest\" as E1  [[psysml:79533e77-94c2-4bae-8455-1b4d9ad0ac19 ]]  {\r\n",
       "package \"System\" as E2  [[psysml:aa959c9d-de71-4dee-a328-dce50e2c2738 ]]  {\r\n",
       "package \"Application Layer\" as E3  [[psysml:c86dacee-9d76-4d53-8a53-8574653b1f4e ]]  {\r\n",
       "}\r\n",
       "package \"Service Layer\" as E4  [[psysml:1c23a4b2-35e2-4e8a-96b6-0c0eddc8acf9 ]]  {\r\n",
       "}\r\n",
       "package \"Data Layer\" as E5  [[psysml:a642c0ba-468c-4345-a41b-ed6906c58c2e ]]  {\r\n",
       "}\r\n",
       "}\r\n",
       "comp usage \"x \" as E6  <<(T,blue) attribute>> [[psysml:002f54b6-1019-4822-b88b-c9a615e25b28 ]] {\r\n",
       "}\r\n",
       "comp usage \"y \" as E7  <<(T,blue) attribute>> [[psysml:5e659b03-2baa-4472-976b-b868f73bcda1 ]] {\r\n",
       "}\r\n",
       "comp usage \"z \" as E8  <<(T,blue) attribute>> [[psysml:17862b5a-aa19-4a09-bb5d-84a4c59b96ac ]] {\r\n",
       "}\r\n",
       "}\r\n",
       "E3 ..>> E4 [[psysml:e08fe20c-326f-4bf4-bdb1-9df0382c82e4 ]] : <<depend>>\r\n",
       "E4 ..>> E5 [[psysml:3bcf17b2-ef7a-4ff9-b082-cb17e1124f6a ]] : <<depend>>\r\n",
       "E8 ..>> E6 [[psysml:aa53d009-eedf-4466-a7b8-b270a2d13479 ]] : <<depend>>\r\n",
       "E8 ..>> E7 [[psysml:aa53d009-eedf-4466-a7b8-b270a2d13479 ]] : <<depend>>\r\n",
       "@enduml\r\n",
       "\n",
       "PlantUML version 1.2020.13(Sat Jun 13 12:26:38 UTC 2020)\n",
       "(EPL source distribution)\n",
       "Java Runtime: OpenJDK Runtime Environment\n",
       "JVM: OpenJDK 64-Bit Server VM\n",
       "Default Encoding: UTF-8\n",
       "Language: en\n",
       "Country: null\n",
       "--></g></svg>"
      ]
     },
     "execution_count": 3,
     "metadata": {},
     "output_type": "execute_result"
    }
   ],
   "source": [
    "%viz --style=\"COMPTREE\" --view=\"Tree\" \"DependencyTest\""
   ]
  },
  {
   "cell_type": "code",
   "execution_count": 4,
   "id": "f80effc6",
   "metadata": {
    "execution": {
     "iopub.execute_input": "2021-12-15T15:15:19.145651Z",
     "iopub.status.busy": "2021-12-15T15:15:19.145419Z",
     "iopub.status.idle": "2021-12-15T15:15:19.154385Z",
     "shell.execute_reply": "2021-12-15T15:15:19.154882Z"
    }
   },
   "outputs": [
    {
     "data": {
      "image/svg+xml": [
       "<?xml version=\"1.0\" encoding=\"UTF-8\" standalone=\"no\"?><svg xmlns=\"http://www.w3.org/2000/svg\" xmlns:xlink=\"http://www.w3.org/1999/xlink\" contentScriptType=\"application/ecmascript\" contentStyleType=\"text/css\" height=\"12px\" preserveAspectRatio=\"none\" style=\"width:12px;height:12px;\" version=\"1.1\" viewBox=\"0 0 12 12\" width=\"12px\" zoomAndPan=\"magnify\"><defs/><g><!--MD5=[f19188ef49e11757b5c46753f95d9edc]\n",
       "@startuml\r\n",
       " skinparam monochrome true\r\n",
       "skinparam classbackgroundcolor white\r\n",
       "skinparam shadowing false\r\n",
       "skinparam wrapWidth 300\r\n",
       "hide circle\r\n",
       "\r\n",
       "@enduml\r\n",
       "\n",
       "PlantUML version 1.2020.13(Sat Jun 13 12:26:38 UTC 2020)\n",
       "(EPL source distribution)\n",
       "Java Runtime: OpenJDK Runtime Environment\n",
       "JVM: OpenJDK 64-Bit Server VM\n",
       "Default Encoding: UTF-8\n",
       "Language: en\n",
       "Country: null\n",
       "--></g></svg>"
      ]
     },
     "execution_count": 4,
     "metadata": {},
     "output_type": "execute_result"
    }
   ],
   "source": [
    "%viz --style=\"COMPTREE\" --view=\"State\" \"DependencyTest\""
   ]
  },
  {
   "cell_type": "code",
   "execution_count": 5,
   "id": "c58fe8cd",
   "metadata": {
    "execution": {
     "iopub.execute_input": "2021-12-15T15:15:19.204447Z",
     "iopub.status.busy": "2021-12-15T15:15:19.203873Z",
     "iopub.status.idle": "2021-12-15T15:15:19.259476Z",
     "shell.execute_reply": "2021-12-15T15:15:19.259188Z"
    }
   },
   "outputs": [
    {
     "data": {
      "image/svg+xml": [
       "<?xml version=\"1.0\" encoding=\"UTF-8\" standalone=\"no\"?><svg xmlns=\"http://www.w3.org/2000/svg\" xmlns:xlink=\"http://www.w3.org/1999/xlink\" contentScriptType=\"application/ecmascript\" contentStyleType=\"text/css\" height=\"361px\" preserveAspectRatio=\"none\" style=\"width:469px;height:361px;\" version=\"1.1\" viewBox=\"0 0 469 361\" width=\"469px\" zoomAndPan=\"magnify\"><defs/><g><!--MD5=[fbc87193dbaf4d95561dea2c320d4a47]\n",
       "cluster E1--><a href=\"psysml:79533e77-94c2-4bae-8455-1b4d9ad0ac19\" target=\"_top\" title=\"psysml:79533e77-94c2-4bae-8455-1b4d9ad0ac19\" xlink:actuate=\"onRequest\" xlink:href=\"psysml:79533e77-94c2-4bae-8455-1b4d9ad0ac19\" xlink:show=\"new\" xlink:title=\"psysml:79533e77-94c2-4bae-8455-1b4d9ad0ac19\" xlink:type=\"simple\"><polygon fill=\"#FFFFFF\" points=\"16,6,142,6,149,28.2969,447,28.2969,447,349,16,349,16,6\" style=\"stroke: #000000; stroke-width: 1.5;\"/><line style=\"stroke: #000000; stroke-width: 1.5;\" x1=\"16\" x2=\"149\" y1=\"28.2969\" y2=\"28.2969\"/><text fill=\"#000000\" font-family=\"sans-serif\" font-size=\"14\" font-weight=\"bold\" lengthAdjust=\"spacingAndGlyphs\" textLength=\"120\" x=\"20\" y=\"20.9951\">DependencyTest</text></a><!--MD5=[e4f7fae6ed58524ba242bb0b0d3be6b7]\n",
       "cluster E2--><a href=\"psysml:aa959c9d-de71-4dee-a328-dce50e2c2738\" target=\"_top\" title=\"psysml:aa959c9d-de71-4dee-a328-dce50e2c2738\" xlink:actuate=\"onRequest\" xlink:href=\"psysml:aa959c9d-de71-4dee-a328-dce50e2c2738\" xlink:show=\"new\" xlink:title=\"psysml:aa959c9d-de71-4dee-a328-dce50e2c2738\" xlink:type=\"simple\"><polygon fill=\"#FFFFFF\" points=\"255,49,312,49,319,71.2969,423,71.2969,423,325,255,325,255,49\" style=\"stroke: #000000; stroke-width: 1.5;\"/><line style=\"stroke: #000000; stroke-width: 1.5;\" x1=\"255\" x2=\"319\" y1=\"71.2969\" y2=\"71.2969\"/><text fill=\"#000000\" font-family=\"sans-serif\" font-size=\"14\" font-weight=\"bold\" lengthAdjust=\"spacingAndGlyphs\" textLength=\"51\" x=\"259\" y=\"63.9951\">System</text></a><!--MD5=[60a26617385b1d2d0262a64233df1f8d]\n",
       "class E6--><a href=\"psysml:002f54b6-1019-4822-b88b-c9a615e25b28\" target=\"_top\" title=\"psysml:002f54b6-1019-4822-b88b-c9a615e25b28\" xlink:actuate=\"onRequest\" xlink:href=\"psysml:002f54b6-1019-4822-b88b-c9a615e25b28\" xlink:show=\"new\" xlink:title=\"psysml:002f54b6-1019-4822-b88b-c9a615e25b28\" xlink:type=\"simple\"><rect fill=\"#FFFFFF\" height=\"45.9375\" id=\"E6\" rx=\"10\" ry=\"10\" style=\"stroke: #383838; stroke-width: 1.5;\" width=\"71\" x=\"32.5\" y=\"173.5\"/><text fill=\"#000000\" font-family=\"sans-serif\" font-size=\"12\" font-style=\"italic\" lengthAdjust=\"spacingAndGlyphs\" textLength=\"69\" x=\"33.5\" y=\"189.6387\">«attribute»</text><text fill=\"#000000\" font-family=\"sans-serif\" font-size=\"12\" lengthAdjust=\"spacingAndGlyphs\" textLength=\"6\" x=\"63\" y=\"203.6074\">x</text><line style=\"stroke: #383838; stroke-width: 1.5;\" x1=\"33.5\" x2=\"102.5\" y1=\"211.4375\" y2=\"211.4375\"/></a><!--MD5=[2156ba9850f5573cc1fc38a6a4b2f02b]\n",
       "class E7--><a href=\"psysml:5e659b03-2baa-4472-976b-b868f73bcda1\" target=\"_top\" title=\"psysml:5e659b03-2baa-4472-976b-b868f73bcda1\" xlink:actuate=\"onRequest\" xlink:href=\"psysml:5e659b03-2baa-4472-976b-b868f73bcda1\" xlink:show=\"new\" xlink:title=\"psysml:5e659b03-2baa-4472-976b-b868f73bcda1\" xlink:type=\"simple\"><rect fill=\"#FFFFFF\" height=\"45.9375\" id=\"E7\" rx=\"10\" ry=\"10\" style=\"stroke: #383838; stroke-width: 1.5;\" width=\"71\" x=\"138.5\" y=\"173.5\"/><text fill=\"#000000\" font-family=\"sans-serif\" font-size=\"12\" font-style=\"italic\" lengthAdjust=\"spacingAndGlyphs\" textLength=\"69\" x=\"139.5\" y=\"189.6387\">«attribute»</text><text fill=\"#000000\" font-family=\"sans-serif\" font-size=\"12\" lengthAdjust=\"spacingAndGlyphs\" textLength=\"6\" x=\"169\" y=\"203.6074\">y</text><line style=\"stroke: #383838; stroke-width: 1.5;\" x1=\"139.5\" x2=\"208.5\" y1=\"211.4375\" y2=\"211.4375\"/></a><!--MD5=[b9389687b975829384b498ac4b7476b2]\n",
       "class E8--><a href=\"psysml:17862b5a-aa19-4a09-bb5d-84a4c59b96ac\" target=\"_top\" title=\"psysml:17862b5a-aa19-4a09-bb5d-84a4c59b96ac\" xlink:actuate=\"onRequest\" xlink:href=\"psysml:17862b5a-aa19-4a09-bb5d-84a4c59b96ac\" xlink:show=\"new\" xlink:title=\"psysml:17862b5a-aa19-4a09-bb5d-84a4c59b96ac\" xlink:type=\"simple\"><rect fill=\"#FFFFFF\" height=\"45.9375\" id=\"E8\" rx=\"10\" ry=\"10\" style=\"stroke: #383838; stroke-width: 1.5;\" width=\"71\" x=\"84.5\" y=\"87.5\"/><text fill=\"#000000\" font-family=\"sans-serif\" font-size=\"12\" font-style=\"italic\" lengthAdjust=\"spacingAndGlyphs\" textLength=\"69\" x=\"85.5\" y=\"103.6387\">«attribute»</text><text fill=\"#000000\" font-family=\"sans-serif\" font-size=\"12\" lengthAdjust=\"spacingAndGlyphs\" textLength=\"5\" x=\"115.5\" y=\"117.6074\">z</text><line style=\"stroke: #383838; stroke-width: 1.5;\" x1=\"85.5\" x2=\"154.5\" y1=\"125.4375\" y2=\"125.4375\"/></a><a href=\"psysml:c86dacee-9d76-4d53-8a53-8574653b1f4e\" target=\"_top\" title=\"psysml:c86dacee-9d76-4d53-8a53-8574653b1f4e\" xlink:actuate=\"onRequest\" xlink:href=\"psysml:c86dacee-9d76-4d53-8a53-8574653b1f4e\" xlink:show=\"new\" xlink:title=\"psysml:c86dacee-9d76-4d53-8a53-8574653b1f4e\" xlink:type=\"simple\"><polygon fill=\"#FFFFFF\" points=\"271.5,84,392.5,84,399.5,106.2969,406.5,106.2969,406.5,136.5938,271.5,136.5938,271.5,84\" style=\"stroke: #000000; stroke-width: 1.5;\"/><line style=\"stroke: #000000; stroke-width: 1.5;\" x1=\"271.5\" x2=\"399.5\" y1=\"106.2969\" y2=\"106.2969\"/><text fill=\"#000000\" font-family=\"sans-serif\" font-size=\"14\" font-weight=\"bold\" lengthAdjust=\"spacingAndGlyphs\" textLength=\"115\" x=\"275.5\" y=\"98.9951\">Application Layer</text></a><a href=\"psysml:1c23a4b2-35e2-4e8a-96b6-0c0eddc8acf9\" target=\"_top\" title=\"psysml:1c23a4b2-35e2-4e8a-96b6-0c0eddc8acf9\" xlink:actuate=\"onRequest\" xlink:href=\"psysml:1c23a4b2-35e2-4e8a-96b6-0c0eddc8acf9\" xlink:show=\"new\" xlink:title=\"psysml:1c23a4b2-35e2-4e8a-96b6-0c0eddc8acf9\" xlink:type=\"simple\"><polygon fill=\"#FFFFFF\" points=\"284,170,380,170,387,192.2969,394,192.2969,394,222.5938,284,222.5938,284,170\" style=\"stroke: #000000; stroke-width: 1.5;\"/><line style=\"stroke: #000000; stroke-width: 1.5;\" x1=\"284\" x2=\"387\" y1=\"192.2969\" y2=\"192.2969\"/><text fill=\"#000000\" font-family=\"sans-serif\" font-size=\"14\" font-weight=\"bold\" lengthAdjust=\"spacingAndGlyphs\" textLength=\"90\" x=\"288\" y=\"184.9951\">Service Layer</text></a><a href=\"psysml:a642c0ba-468c-4345-a41b-ed6906c58c2e\" target=\"_top\" title=\"psysml:a642c0ba-468c-4345-a41b-ed6906c58c2e\" xlink:actuate=\"onRequest\" xlink:href=\"psysml:a642c0ba-468c-4345-a41b-ed6906c58c2e\" xlink:show=\"new\" xlink:title=\"psysml:a642c0ba-468c-4345-a41b-ed6906c58c2e\" xlink:type=\"simple\"><polygon fill=\"#FFFFFF\" points=\"293,256,371,256,378,278.2969,385,278.2969,385,308.5938,293,308.5938,293,256\" style=\"stroke: #000000; stroke-width: 1.5;\"/><line style=\"stroke: #000000; stroke-width: 1.5;\" x1=\"293\" x2=\"378\" y1=\"278.2969\" y2=\"278.2969\"/><text fill=\"#000000\" font-family=\"sans-serif\" font-size=\"14\" font-weight=\"bold\" lengthAdjust=\"spacingAndGlyphs\" textLength=\"72\" x=\"297\" y=\"270.9951\">Data Layer</text></a><!--MD5=[af87c684e3b0d8be13c1a698a818ef1e]\n",
       "link E3 to E4--><a href=\"psysml:e08fe20c-326f-4bf4-bdb1-9df0382c82e4\" target=\"_top\" title=\"psysml:e08fe20c-326f-4bf4-bdb1-9df0382c82e4\" xlink:actuate=\"onRequest\" xlink:href=\"psysml:e08fe20c-326f-4bf4-bdb1-9df0382c82e4\" xlink:show=\"new\" xlink:title=\"psysml:e08fe20c-326f-4bf4-bdb1-9df0382c82e4\" xlink:type=\"simple\"><path d=\"M339,137.16 C339,144.98 339,153.69 339,161.94 \" fill=\"none\" id=\"E3-&gt;E4\" style=\"stroke: #383838; stroke-width: 1.0; stroke-dasharray: 7.0,7.0;\"/><polygon fill=\"#383838\" points=\"339,170,342,162,336,162,339,170\" style=\"stroke: #383838; stroke-width: 1.0;\"/><text fill=\"#000000\" font-family=\"sans-serif\" font-size=\"13\" lengthAdjust=\"spacingAndGlyphs\" textLength=\"64\" x=\"340\" y=\"158.0669\">«depend»</text></a><!--MD5=[1b7591eae5389033d8d09a9d6721a717]\n",
       "link E4 to E5--><a href=\"psysml:3bcf17b2-ef7a-4ff9-b082-cb17e1124f6a\" target=\"_top\" title=\"psysml:3bcf17b2-ef7a-4ff9-b082-cb17e1124f6a\" xlink:actuate=\"onRequest\" xlink:href=\"psysml:3bcf17b2-ef7a-4ff9-b082-cb17e1124f6a\" xlink:show=\"new\" xlink:title=\"psysml:3bcf17b2-ef7a-4ff9-b082-cb17e1124f6a\" xlink:type=\"simple\"><path d=\"M339,223.16 C339,230.98 339,239.69 339,247.94 \" fill=\"none\" id=\"E4-&gt;E5\" style=\"stroke: #383838; stroke-width: 1.0; stroke-dasharray: 7.0,7.0;\"/><polygon fill=\"#383838\" points=\"339,256,342,248,336,248,339,256\" style=\"stroke: #383838; stroke-width: 1.0;\"/><text fill=\"#000000\" font-family=\"sans-serif\" font-size=\"13\" lengthAdjust=\"spacingAndGlyphs\" textLength=\"64\" x=\"340\" y=\"244.0669\">«depend»</text></a><!--MD5=[c5e8897d989ce984f93528998a7150fe]\n",
       "link E8 to E6--><a href=\"psysml:aa53d009-eedf-4466-a7b8-b270a2d13479\" target=\"_top\" title=\"psysml:aa53d009-eedf-4466-a7b8-b270a2d13479\" xlink:actuate=\"onRequest\" xlink:href=\"psysml:aa53d009-eedf-4466-a7b8-b270a2d13479\" xlink:show=\"new\" xlink:title=\"psysml:aa53d009-eedf-4466-a7b8-b270a2d13479\" xlink:type=\"simple\"><path d=\"M84.49,125.34 C76.34,130.27 68.69,136.72 64,145 C60.54,151.1 59.62,158.31 60,165.33 \" fill=\"none\" id=\"E8-&gt;E6\" style=\"stroke: #383838; stroke-width: 1.0; stroke-dasharray: 7.0,7.0;\"/><polygon fill=\"#383838\" points=\"60.97,173.42,63.0061,165.1221,57.0479,165.8294,60.97,173.42\" style=\"stroke: #383838; stroke-width: 1.0;\"/><text fill=\"#000000\" font-family=\"sans-serif\" font-size=\"13\" lengthAdjust=\"spacingAndGlyphs\" textLength=\"64\" x=\"65\" y=\"158.0669\">«depend»</text></a><!--MD5=[bfa3c8b0d15052fdf50ae9310b491027]\n",
       "link E8 to E7--><a href=\"psysml:aa53d009-eedf-4466-a7b8-b270a2d13479\" target=\"_top\" title=\"psysml:aa53d009-eedf-4466-a7b8-b270a2d13479\" xlink:actuate=\"onRequest\" xlink:href=\"psysml:aa53d009-eedf-4466-a7b8-b270a2d13479\" xlink:show=\"new\" xlink:title=\"psysml:aa53d009-eedf-4466-a7b8-b270a2d13479\" xlink:type=\"simple\"><path d=\"M134.19,133.57 C140.65,143.62 148.38,155.65 155.31,166.42 \" fill=\"none\" id=\"E8-&gt;E7\" style=\"stroke: #383838; stroke-width: 1.0; stroke-dasharray: 7.0,7.0;\"/><polygon fill=\"#383838\" points=\"159.72,173.29,157.9148,164.9389,152.8688,168.185,159.72,173.29\" style=\"stroke: #383838; stroke-width: 1.0;\"/><text fill=\"#000000\" font-family=\"sans-serif\" font-size=\"13\" lengthAdjust=\"spacingAndGlyphs\" textLength=\"64\" x=\"152\" y=\"158.0669\">«depend»</text></a><!--MD5=[797d73933be50d05e69d3cefb8de7573]\n",
       "@startuml\r\n",
       "skinparam ranksep 10\r\n",
       "skinparam rectangle {\r\n",
       " backgroundColor<<block>> LightGreen\r\n",
       "}\r\n",
       " skinparam monochrome true\r\n",
       "skinparam classbackgroundcolor white\r\n",
       "skinparam shadowing false\r\n",
       "skinparam wrapWidth 300\r\n",
       "hide circle\r\n",
       "\r\n",
       "package \"DependencyTest\" as E1  [[psysml:79533e77-94c2-4bae-8455-1b4d9ad0ac19 ]]  {\r\n",
       "package \"System\" as E2  [[psysml:aa959c9d-de71-4dee-a328-dce50e2c2738 ]]  {\r\n",
       "package \"Application Layer\" as E3  [[psysml:c86dacee-9d76-4d53-8a53-8574653b1f4e ]]  {\r\n",
       "}\r\n",
       "package \"Service Layer\" as E4  [[psysml:1c23a4b2-35e2-4e8a-96b6-0c0eddc8acf9 ]]  {\r\n",
       "}\r\n",
       "package \"Data Layer\" as E5  [[psysml:a642c0ba-468c-4345-a41b-ed6906c58c2e ]]  {\r\n",
       "}\r\n",
       "}\r\n",
       "comp usage \"x \" as E6  <<(T,blue) attribute>> [[psysml:002f54b6-1019-4822-b88b-c9a615e25b28 ]] {\r\n",
       "}\r\n",
       "comp usage \"y \" as E7  <<(T,blue) attribute>> [[psysml:5e659b03-2baa-4472-976b-b868f73bcda1 ]] {\r\n",
       "}\r\n",
       "comp usage \"z \" as E8  <<(T,blue) attribute>> [[psysml:17862b5a-aa19-4a09-bb5d-84a4c59b96ac ]] {\r\n",
       "}\r\n",
       "}\r\n",
       "E3 ..>> E4 [[psysml:e08fe20c-326f-4bf4-bdb1-9df0382c82e4 ]] : <<depend>>\r\n",
       "E4 ..>> E5 [[psysml:3bcf17b2-ef7a-4ff9-b082-cb17e1124f6a ]] : <<depend>>\r\n",
       "E8 ..>> E6 [[psysml:aa53d009-eedf-4466-a7b8-b270a2d13479 ]] : <<depend>>\r\n",
       "E8 ..>> E7 [[psysml:aa53d009-eedf-4466-a7b8-b270a2d13479 ]] : <<depend>>\r\n",
       "@enduml\r\n",
       "\n",
       "PlantUML version 1.2020.13(Sat Jun 13 12:26:38 UTC 2020)\n",
       "(EPL source distribution)\n",
       "Java Runtime: OpenJDK Runtime Environment\n",
       "JVM: OpenJDK 64-Bit Server VM\n",
       "Default Encoding: UTF-8\n",
       "Language: en\n",
       "Country: null\n",
       "--></g></svg>"
      ]
     },
     "execution_count": 5,
     "metadata": {},
     "output_type": "execute_result"
    }
   ],
   "source": [
    "%viz --style=\"COMPTREE\" --view=\"Interconnection\" \"DependencyTest\""
   ]
  },
  {
   "cell_type": "code",
   "execution_count": 6,
   "id": "b4533690",
   "metadata": {
    "execution": {
     "iopub.execute_input": "2021-12-15T15:15:19.309352Z",
     "iopub.status.busy": "2021-12-15T15:15:19.308869Z",
     "iopub.status.idle": "2021-12-15T15:15:19.317498Z",
     "shell.execute_reply": "2021-12-15T15:15:19.317978Z"
    }
   },
   "outputs": [
    {
     "data": {
      "image/svg+xml": [
       "<?xml version=\"1.0\" encoding=\"UTF-8\" standalone=\"no\"?><svg xmlns=\"http://www.w3.org/2000/svg\" xmlns:xlink=\"http://www.w3.org/1999/xlink\" contentScriptType=\"application/ecmascript\" contentStyleType=\"text/css\" height=\"12px\" preserveAspectRatio=\"none\" style=\"width:12px;height:12px;\" version=\"1.1\" viewBox=\"0 0 12 12\" width=\"12px\" zoomAndPan=\"magnify\"><defs/><g><!--MD5=[655b888544ca4751ea36af1068543f84]\n",
       "@startuml\r\n",
       "skinparam ranksep 8\r\n",
       " skinparam monochrome true\r\n",
       "skinparam classbackgroundcolor white\r\n",
       "skinparam shadowing false\r\n",
       "skinparam wrapWidth 300\r\n",
       "hide circle\r\n",
       "\r\n",
       "@enduml\r\n",
       "\n",
       "PlantUML version 1.2020.13(Sat Jun 13 12:26:38 UTC 2020)\n",
       "(EPL source distribution)\n",
       "Java Runtime: OpenJDK Runtime Environment\n",
       "JVM: OpenJDK 64-Bit Server VM\n",
       "Default Encoding: UTF-8\n",
       "Language: en\n",
       "Country: null\n",
       "--></g></svg>"
      ]
     },
     "execution_count": 6,
     "metadata": {},
     "output_type": "execute_result"
    }
   ],
   "source": [
    "%viz --style=\"COMPTREE\" --view=\"Action\" \"DependencyTest\""
   ]
  },
  {
   "cell_type": "code",
   "execution_count": 7,
   "id": "dc907d54",
   "metadata": {
    "execution": {
     "iopub.execute_input": "2021-12-15T15:15:19.367611Z",
     "iopub.status.busy": "2021-12-15T15:15:19.366959Z",
     "iopub.status.idle": "2021-12-15T15:15:19.379321Z",
     "shell.execute_reply": "2021-12-15T15:15:19.379749Z"
    }
   },
   "outputs": [
    {
     "data": {
      "image/svg+xml": [
       "<?xml version=\"1.0\" encoding=\"UTF-8\" standalone=\"no\"?><svg xmlns=\"http://www.w3.org/2000/svg\" xmlns:xlink=\"http://www.w3.org/1999/xlink\" contentScriptType=\"application/ecmascript\" contentStyleType=\"text/css\" height=\"12px\" preserveAspectRatio=\"none\" style=\"width:12px;height:12px;\" version=\"1.1\" viewBox=\"0 0 12 12\" width=\"12px\" zoomAndPan=\"magnify\"><defs/><g><!--MD5=[803fc46c337be7a5c8a9831e35356779]\n",
       "@startuml\r\n",
       "skinparam roundcorner 20\r\n",
       "skinparam BoxPadding 20\r\n",
       "skinparam SequenceBoxBackgroundColor #white\r\n",
       "skinparam style strictuml\r\n",
       "skinparam maxMessageSize 100\r\n",
       " skinparam monochrome true\r\n",
       "skinparam classbackgroundcolor white\r\n",
       "skinparam shadowing false\r\n",
       "skinparam wrapWidth 300\r\n",
       "hide circle\r\n",
       "\r\n",
       "@enduml\r\n",
       "\n",
       "PlantUML version 1.2020.13(Sat Jun 13 12:26:38 UTC 2020)\n",
       "(EPL source distribution)\n",
       "Java Runtime: OpenJDK Runtime Environment\n",
       "JVM: OpenJDK 64-Bit Server VM\n",
       "Default Encoding: UTF-8\n",
       "Language: en\n",
       "Country: null\n",
       "--></g></svg>"
      ]
     },
     "execution_count": 7,
     "metadata": {},
     "output_type": "execute_result"
    }
   ],
   "source": [
    "%viz --style=\"COMPTREE\" --view=\"Sequence\" \"DependencyTest\""
   ]
  },
  {
   "cell_type": "code",
   "execution_count": 8,
   "id": "4c703f08",
   "metadata": {
    "execution": {
     "iopub.execute_input": "2021-12-15T15:15:19.428845Z",
     "iopub.status.busy": "2021-12-15T15:15:19.428592Z",
     "iopub.status.idle": "2021-12-15T15:15:19.481810Z",
     "shell.execute_reply": "2021-12-15T15:15:19.481302Z"
    }
   },
   "outputs": [
    {
     "data": {
      "image/svg+xml": [
       "<?xml version=\"1.0\" encoding=\"UTF-8\" standalone=\"no\"?><svg xmlns=\"http://www.w3.org/2000/svg\" xmlns:xlink=\"http://www.w3.org/1999/xlink\" contentScriptType=\"application/ecmascript\" contentStyleType=\"text/css\" height=\"449px\" preserveAspectRatio=\"none\" style=\"width:469px;height:449px;\" version=\"1.1\" viewBox=\"0 0 469 449\" width=\"469px\" zoomAndPan=\"magnify\"><defs/><g><!--MD5=[fbc87193dbaf4d95561dea2c320d4a47]\n",
       "cluster E1--><a href=\"psysml:79533e77-94c2-4bae-8455-1b4d9ad0ac19\" target=\"_top\" title=\"psysml:79533e77-94c2-4bae-8455-1b4d9ad0ac19\" xlink:actuate=\"onRequest\" xlink:href=\"psysml:79533e77-94c2-4bae-8455-1b4d9ad0ac19\" xlink:show=\"new\" xlink:title=\"psysml:79533e77-94c2-4bae-8455-1b4d9ad0ac19\" xlink:type=\"simple\"><polygon fill=\"#FFFFFF\" points=\"16,6,142,6,149,28.2969,447,28.2969,447,437,16,437,16,6\" style=\"stroke: #000000; stroke-width: 1.5;\"/><line style=\"stroke: #000000; stroke-width: 1.5;\" x1=\"16\" x2=\"149\" y1=\"28.2969\" y2=\"28.2969\"/><text fill=\"#000000\" font-family=\"sans-serif\" font-size=\"14\" font-weight=\"bold\" lengthAdjust=\"spacingAndGlyphs\" textLength=\"120\" x=\"20\" y=\"20.9951\">DependencyTest</text></a><!--MD5=[e4f7fae6ed58524ba242bb0b0d3be6b7]\n",
       "cluster E2--><a href=\"psysml:aa959c9d-de71-4dee-a328-dce50e2c2738\" target=\"_top\" title=\"psysml:aa959c9d-de71-4dee-a328-dce50e2c2738\" xlink:actuate=\"onRequest\" xlink:href=\"psysml:aa959c9d-de71-4dee-a328-dce50e2c2738\" xlink:show=\"new\" xlink:title=\"psysml:aa959c9d-de71-4dee-a328-dce50e2c2738\" xlink:type=\"simple\"><polygon fill=\"#FFFFFF\" points=\"255,49,312,49,319,71.2969,423,71.2969,423,413,255,413,255,49\" style=\"stroke: #000000; stroke-width: 1.5;\"/><line style=\"stroke: #000000; stroke-width: 1.5;\" x1=\"255\" x2=\"319\" y1=\"71.2969\" y2=\"71.2969\"/><text fill=\"#000000\" font-family=\"sans-serif\" font-size=\"14\" font-weight=\"bold\" lengthAdjust=\"spacingAndGlyphs\" textLength=\"51\" x=\"259\" y=\"63.9951\">System</text></a><!--MD5=[60a26617385b1d2d0262a64233df1f8d]\n",
       "class E6--><a href=\"psysml:002f54b6-1019-4822-b88b-c9a615e25b28\" target=\"_top\" title=\"psysml:002f54b6-1019-4822-b88b-c9a615e25b28\" xlink:actuate=\"onRequest\" xlink:href=\"psysml:002f54b6-1019-4822-b88b-c9a615e25b28\" xlink:show=\"new\" xlink:title=\"psysml:002f54b6-1019-4822-b88b-c9a615e25b28\" xlink:type=\"simple\"><rect fill=\"#FFFFFF\" height=\"45.9375\" id=\"E6\" rx=\"10\" ry=\"10\" style=\"stroke: #383838; stroke-width: 1.5;\" width=\"71\" x=\"32.5\" y=\"217.5\"/><text fill=\"#000000\" font-family=\"sans-serif\" font-size=\"12\" font-style=\"italic\" lengthAdjust=\"spacingAndGlyphs\" textLength=\"69\" x=\"33.5\" y=\"233.6387\">«attribute»</text><text fill=\"#000000\" font-family=\"sans-serif\" font-size=\"12\" lengthAdjust=\"spacingAndGlyphs\" textLength=\"6\" x=\"63\" y=\"247.6074\">x</text><line style=\"stroke: #383838; stroke-width: 1.5;\" x1=\"33.5\" x2=\"102.5\" y1=\"255.4375\" y2=\"255.4375\"/></a><!--MD5=[2156ba9850f5573cc1fc38a6a4b2f02b]\n",
       "class E7--><a href=\"psysml:5e659b03-2baa-4472-976b-b868f73bcda1\" target=\"_top\" title=\"psysml:5e659b03-2baa-4472-976b-b868f73bcda1\" xlink:actuate=\"onRequest\" xlink:href=\"psysml:5e659b03-2baa-4472-976b-b868f73bcda1\" xlink:show=\"new\" xlink:title=\"psysml:5e659b03-2baa-4472-976b-b868f73bcda1\" xlink:type=\"simple\"><rect fill=\"#FFFFFF\" height=\"45.9375\" id=\"E7\" rx=\"10\" ry=\"10\" style=\"stroke: #383838; stroke-width: 1.5;\" width=\"71\" x=\"138.5\" y=\"217.5\"/><text fill=\"#000000\" font-family=\"sans-serif\" font-size=\"12\" font-style=\"italic\" lengthAdjust=\"spacingAndGlyphs\" textLength=\"69\" x=\"139.5\" y=\"233.6387\">«attribute»</text><text fill=\"#000000\" font-family=\"sans-serif\" font-size=\"12\" lengthAdjust=\"spacingAndGlyphs\" textLength=\"6\" x=\"169\" y=\"247.6074\">y</text><line style=\"stroke: #383838; stroke-width: 1.5;\" x1=\"139.5\" x2=\"208.5\" y1=\"255.4375\" y2=\"255.4375\"/></a><!--MD5=[b9389687b975829384b498ac4b7476b2]\n",
       "class E8--><a href=\"psysml:17862b5a-aa19-4a09-bb5d-84a4c59b96ac\" target=\"_top\" title=\"psysml:17862b5a-aa19-4a09-bb5d-84a4c59b96ac\" xlink:actuate=\"onRequest\" xlink:href=\"psysml:17862b5a-aa19-4a09-bb5d-84a4c59b96ac\" xlink:show=\"new\" xlink:title=\"psysml:17862b5a-aa19-4a09-bb5d-84a4c59b96ac\" xlink:type=\"simple\"><rect fill=\"#FFFFFF\" height=\"45.9375\" id=\"E8\" rx=\"10\" ry=\"10\" style=\"stroke: #383838; stroke-width: 1.5;\" width=\"71\" x=\"84.5\" y=\"87.5\"/><text fill=\"#000000\" font-family=\"sans-serif\" font-size=\"12\" font-style=\"italic\" lengthAdjust=\"spacingAndGlyphs\" textLength=\"69\" x=\"85.5\" y=\"103.6387\">«attribute»</text><text fill=\"#000000\" font-family=\"sans-serif\" font-size=\"12\" lengthAdjust=\"spacingAndGlyphs\" textLength=\"5\" x=\"115.5\" y=\"117.6074\">z</text><line style=\"stroke: #383838; stroke-width: 1.5;\" x1=\"85.5\" x2=\"154.5\" y1=\"125.4375\" y2=\"125.4375\"/></a><a href=\"psysml:c86dacee-9d76-4d53-8a53-8574653b1f4e\" target=\"_top\" title=\"psysml:c86dacee-9d76-4d53-8a53-8574653b1f4e\" xlink:actuate=\"onRequest\" xlink:href=\"psysml:c86dacee-9d76-4d53-8a53-8574653b1f4e\" xlink:show=\"new\" xlink:title=\"psysml:c86dacee-9d76-4d53-8a53-8574653b1f4e\" xlink:type=\"simple\"><polygon fill=\"#FFFFFF\" points=\"271.5,84,392.5,84,399.5,106.2969,406.5,106.2969,406.5,136.5938,271.5,136.5938,271.5,84\" style=\"stroke: #000000; stroke-width: 1.5;\"/><line style=\"stroke: #000000; stroke-width: 1.5;\" x1=\"271.5\" x2=\"399.5\" y1=\"106.2969\" y2=\"106.2969\"/><text fill=\"#000000\" font-family=\"sans-serif\" font-size=\"14\" font-weight=\"bold\" lengthAdjust=\"spacingAndGlyphs\" textLength=\"115\" x=\"275.5\" y=\"98.9951\">Application Layer</text></a><a href=\"psysml:1c23a4b2-35e2-4e8a-96b6-0c0eddc8acf9\" target=\"_top\" title=\"psysml:1c23a4b2-35e2-4e8a-96b6-0c0eddc8acf9\" xlink:actuate=\"onRequest\" xlink:href=\"psysml:1c23a4b2-35e2-4e8a-96b6-0c0eddc8acf9\" xlink:show=\"new\" xlink:title=\"psysml:1c23a4b2-35e2-4e8a-96b6-0c0eddc8acf9\" xlink:type=\"simple\"><polygon fill=\"#FFFFFF\" points=\"284,214,380,214,387,236.2969,394,236.2969,394,266.5938,284,266.5938,284,214\" style=\"stroke: #000000; stroke-width: 1.5;\"/><line style=\"stroke: #000000; stroke-width: 1.5;\" x1=\"284\" x2=\"387\" y1=\"236.2969\" y2=\"236.2969\"/><text fill=\"#000000\" font-family=\"sans-serif\" font-size=\"14\" font-weight=\"bold\" lengthAdjust=\"spacingAndGlyphs\" textLength=\"90\" x=\"288\" y=\"228.9951\">Service Layer</text></a><a href=\"psysml:a642c0ba-468c-4345-a41b-ed6906c58c2e\" target=\"_top\" title=\"psysml:a642c0ba-468c-4345-a41b-ed6906c58c2e\" xlink:actuate=\"onRequest\" xlink:href=\"psysml:a642c0ba-468c-4345-a41b-ed6906c58c2e\" xlink:show=\"new\" xlink:title=\"psysml:a642c0ba-468c-4345-a41b-ed6906c58c2e\" xlink:type=\"simple\"><polygon fill=\"#FFFFFF\" points=\"293,344,371,344,378,366.2969,385,366.2969,385,396.5938,293,396.5938,293,344\" style=\"stroke: #000000; stroke-width: 1.5;\"/><line style=\"stroke: #000000; stroke-width: 1.5;\" x1=\"293\" x2=\"378\" y1=\"366.2969\" y2=\"366.2969\"/><text fill=\"#000000\" font-family=\"sans-serif\" font-size=\"14\" font-weight=\"bold\" lengthAdjust=\"spacingAndGlyphs\" textLength=\"72\" x=\"297\" y=\"358.9951\">Data Layer</text></a><!--MD5=[af87c684e3b0d8be13c1a698a818ef1e]\n",
       "link E3 to E4--><a href=\"psysml:e08fe20c-326f-4bf4-bdb1-9df0382c82e4\" target=\"_top\" title=\"psysml:e08fe20c-326f-4bf4-bdb1-9df0382c82e4\" xlink:actuate=\"onRequest\" xlink:href=\"psysml:e08fe20c-326f-4bf4-bdb1-9df0382c82e4\" xlink:show=\"new\" xlink:title=\"psysml:e08fe20c-326f-4bf4-bdb1-9df0382c82e4\" xlink:type=\"simple\"><path d=\"M339,137.1 C339,156.8 339,184.22 339,205.73 \" fill=\"none\" id=\"E3-&gt;E4\" style=\"stroke: #383838; stroke-width: 1.0; stroke-dasharray: 7.0,7.0;\"/><polygon fill=\"#383838\" points=\"339,213.95,342,205.95,336,205.95,339,213.95\" style=\"stroke: #383838; stroke-width: 1.0;\"/><text fill=\"#000000\" font-family=\"sans-serif\" font-size=\"13\" lengthAdjust=\"spacingAndGlyphs\" textLength=\"64\" x=\"340\" y=\"180.0669\">«depend»</text></a><!--MD5=[1b7591eae5389033d8d09a9d6721a717]\n",
       "link E4 to E5--><a href=\"psysml:3bcf17b2-ef7a-4ff9-b082-cb17e1124f6a\" target=\"_top\" title=\"psysml:3bcf17b2-ef7a-4ff9-b082-cb17e1124f6a\" xlink:actuate=\"onRequest\" xlink:href=\"psysml:3bcf17b2-ef7a-4ff9-b082-cb17e1124f6a\" xlink:show=\"new\" xlink:title=\"psysml:3bcf17b2-ef7a-4ff9-b082-cb17e1124f6a\" xlink:type=\"simple\"><path d=\"M339,267.1 C339,286.8 339,314.22 339,335.73 \" fill=\"none\" id=\"E4-&gt;E5\" style=\"stroke: #383838; stroke-width: 1.0; stroke-dasharray: 7.0,7.0;\"/><polygon fill=\"#383838\" points=\"339,343.95,342,335.95,336,335.95,339,343.95\" style=\"stroke: #383838; stroke-width: 1.0;\"/><text fill=\"#000000\" font-family=\"sans-serif\" font-size=\"13\" lengthAdjust=\"spacingAndGlyphs\" textLength=\"64\" x=\"340\" y=\"310.0669\">«depend»</text></a><!--MD5=[c5e8897d989ce984f93528998a7150fe]\n",
       "link E8 to E6--><a href=\"psysml:aa53d009-eedf-4466-a7b8-b270a2d13479\" target=\"_top\" title=\"psysml:aa53d009-eedf-4466-a7b8-b270a2d13479\" xlink:actuate=\"onRequest\" xlink:href=\"psysml:aa53d009-eedf-4466-a7b8-b270a2d13479\" xlink:show=\"new\" xlink:title=\"psysml:aa53d009-eedf-4466-a7b8-b270a2d13479\" xlink:type=\"simple\"><path d=\"M89.42,133.6 C79.35,142.68 69.37,154.11 64,167 C58.5,180.2 58.66,195.94 60.54,209.38 \" fill=\"none\" id=\"E8-&gt;E6\" style=\"stroke: #383838; stroke-width: 1.0; stroke-dasharray: 7.0,7.0;\"/><polygon fill=\"#383838\" points=\"61.9,217.4,63.517,209.0104,57.6018,210.0159,61.9,217.4\" style=\"stroke: #383838; stroke-width: 1.0;\"/><text fill=\"#000000\" font-family=\"sans-serif\" font-size=\"13\" lengthAdjust=\"spacingAndGlyphs\" textLength=\"64\" x=\"65\" y=\"180.0669\">«depend»</text></a><!--MD5=[bfa3c8b0d15052fdf50ae9310b491027]\n",
       "link E8 to E7--><a href=\"psysml:aa53d009-eedf-4466-a7b8-b270a2d13479\" target=\"_top\" title=\"psysml:aa53d009-eedf-4466-a7b8-b270a2d13479\" xlink:actuate=\"onRequest\" xlink:href=\"psysml:aa53d009-eedf-4466-a7b8-b270a2d13479\" xlink:show=\"new\" xlink:title=\"psysml:aa53d009-eedf-4466-a7b8-b270a2d13479\" xlink:type=\"simple\"><path d=\"M129.28,133.5 C138.17,154.57 151.64,186.5 161.47,209.81 \" fill=\"none\" id=\"E8-&gt;E7\" style=\"stroke: #383838; stroke-width: 1.0; stroke-dasharray: 7.0,7.0;\"/><polygon fill=\"#383838\" points=\"164.66,217.35,164.3241,208.8126,158.7933,211.1385,164.66,217.35\" style=\"stroke: #383838; stroke-width: 1.0;\"/><text fill=\"#000000\" font-family=\"sans-serif\" font-size=\"13\" lengthAdjust=\"spacingAndGlyphs\" textLength=\"64\" x=\"151\" y=\"180.0669\">«depend»</text></a><!--MD5=[9c62f593217f9b10c996e42ea63d5789]\n",
       "@startuml\r\n",
       " skinparam monochrome true\r\n",
       "skinparam classbackgroundcolor white\r\n",
       "skinparam shadowing false\r\n",
       "skinparam wrapWidth 300\r\n",
       "hide circle\r\n",
       "\r\n",
       "package \"DependencyTest\" as E1  [[psysml:79533e77-94c2-4bae-8455-1b4d9ad0ac19 ]]  {\r\n",
       "package \"System\" as E2  [[psysml:aa959c9d-de71-4dee-a328-dce50e2c2738 ]]  {\r\n",
       "package \"Application Layer\" as E3  [[psysml:c86dacee-9d76-4d53-8a53-8574653b1f4e ]]  {\r\n",
       "}\r\n",
       "package \"Service Layer\" as E4  [[psysml:1c23a4b2-35e2-4e8a-96b6-0c0eddc8acf9 ]]  {\r\n",
       "}\r\n",
       "package \"Data Layer\" as E5  [[psysml:a642c0ba-468c-4345-a41b-ed6906c58c2e ]]  {\r\n",
       "}\r\n",
       "}\r\n",
       "comp usage \"x \" as E6  <<(T,blue) attribute>> [[psysml:002f54b6-1019-4822-b88b-c9a615e25b28 ]] {\r\n",
       "}\r\n",
       "comp usage \"y \" as E7  <<(T,blue) attribute>> [[psysml:5e659b03-2baa-4472-976b-b868f73bcda1 ]] {\r\n",
       "}\r\n",
       "comp usage \"z \" as E8  <<(T,blue) attribute>> [[psysml:17862b5a-aa19-4a09-bb5d-84a4c59b96ac ]] {\r\n",
       "}\r\n",
       "}\r\n",
       "E3 ..>> E4 [[psysml:e08fe20c-326f-4bf4-bdb1-9df0382c82e4 ]] : <<depend>>\r\n",
       "E4 ..>> E5 [[psysml:3bcf17b2-ef7a-4ff9-b082-cb17e1124f6a ]] : <<depend>>\r\n",
       "E8 ..>> E6 [[psysml:aa53d009-eedf-4466-a7b8-b270a2d13479 ]] : <<depend>>\r\n",
       "E8 ..>> E7 [[psysml:aa53d009-eedf-4466-a7b8-b270a2d13479 ]] : <<depend>>\r\n",
       "@enduml\r\n",
       "\n",
       "PlantUML version 1.2020.13(Sat Jun 13 12:26:38 UTC 2020)\n",
       "(EPL source distribution)\n",
       "Java Runtime: OpenJDK Runtime Environment\n",
       "JVM: OpenJDK 64-Bit Server VM\n",
       "Default Encoding: UTF-8\n",
       "Language: en\n",
       "Country: null\n",
       "--></g></svg>"
      ]
     },
     "execution_count": 8,
     "metadata": {},
     "output_type": "execute_result"
    }
   ],
   "source": [
    "%viz --style=\"COMPTREE\" --view=\"MIXED\" \"DependencyTest\""
   ]
  },
  {
   "cell_type": "code",
   "execution_count": 9,
   "id": "8b44146e",
   "metadata": {
    "execution": {
     "iopub.execute_input": "2021-12-15T15:15:19.530320Z",
     "iopub.status.busy": "2021-12-15T15:15:19.529908Z",
     "iopub.status.idle": "2021-12-15T15:15:19.572615Z",
     "shell.execute_reply": "2021-12-15T15:15:19.570322Z"
    }
   },
   "outputs": [
    {
     "data": {
      "image/svg+xml": [
       "<?xml version=\"1.0\" encoding=\"UTF-8\" standalone=\"no\"?><svg xmlns=\"http://www.w3.org/2000/svg\" xmlns:xlink=\"http://www.w3.org/1999/xlink\" contentScriptType=\"application/ecmascript\" contentStyleType=\"text/css\" height=\"449px\" preserveAspectRatio=\"none\" style=\"width:469px;height:449px;\" version=\"1.1\" viewBox=\"0 0 469 449\" width=\"469px\" zoomAndPan=\"magnify\"><defs/><g><!--MD5=[fbc87193dbaf4d95561dea2c320d4a47]\n",
       "cluster E1--><a href=\"psysml:79533e77-94c2-4bae-8455-1b4d9ad0ac19\" target=\"_top\" title=\"psysml:79533e77-94c2-4bae-8455-1b4d9ad0ac19\" xlink:actuate=\"onRequest\" xlink:href=\"psysml:79533e77-94c2-4bae-8455-1b4d9ad0ac19\" xlink:show=\"new\" xlink:title=\"psysml:79533e77-94c2-4bae-8455-1b4d9ad0ac19\" xlink:type=\"simple\"><polygon fill=\"#FFFFFF\" points=\"16,6,142,6,149,28.2969,447,28.2969,447,437,16,437,16,6\" style=\"stroke: #000000; stroke-width: 1.5;\"/><line style=\"stroke: #000000; stroke-width: 1.5;\" x1=\"16\" x2=\"149\" y1=\"28.2969\" y2=\"28.2969\"/><text fill=\"#000000\" font-family=\"sans-serif\" font-size=\"14\" font-weight=\"bold\" lengthAdjust=\"spacingAndGlyphs\" textLength=\"120\" x=\"20\" y=\"20.9951\">DependencyTest</text></a><!--MD5=[e4f7fae6ed58524ba242bb0b0d3be6b7]\n",
       "cluster E2--><a href=\"psysml:aa959c9d-de71-4dee-a328-dce50e2c2738\" target=\"_top\" title=\"psysml:aa959c9d-de71-4dee-a328-dce50e2c2738\" xlink:actuate=\"onRequest\" xlink:href=\"psysml:aa959c9d-de71-4dee-a328-dce50e2c2738\" xlink:show=\"new\" xlink:title=\"psysml:aa959c9d-de71-4dee-a328-dce50e2c2738\" xlink:type=\"simple\"><polygon fill=\"#FFFFFF\" points=\"255,49,312,49,319,71.2969,423,71.2969,423,413,255,413,255,49\" style=\"stroke: #000000; stroke-width: 1.5;\"/><line style=\"stroke: #000000; stroke-width: 1.5;\" x1=\"255\" x2=\"319\" y1=\"71.2969\" y2=\"71.2969\"/><text fill=\"#000000\" font-family=\"sans-serif\" font-size=\"14\" font-weight=\"bold\" lengthAdjust=\"spacingAndGlyphs\" textLength=\"51\" x=\"259\" y=\"63.9951\">System</text></a><!--MD5=[60a26617385b1d2d0262a64233df1f8d]\n",
       "class E6--><a href=\"psysml:002f54b6-1019-4822-b88b-c9a615e25b28\" target=\"_top\" title=\"psysml:002f54b6-1019-4822-b88b-c9a615e25b28\" xlink:actuate=\"onRequest\" xlink:href=\"psysml:002f54b6-1019-4822-b88b-c9a615e25b28\" xlink:show=\"new\" xlink:title=\"psysml:002f54b6-1019-4822-b88b-c9a615e25b28\" xlink:type=\"simple\"><rect fill=\"#FFFFFF\" height=\"45.9375\" id=\"E6\" rx=\"10\" ry=\"10\" style=\"stroke: #383838; stroke-width: 1.5;\" width=\"71\" x=\"32.5\" y=\"217.5\"/><text fill=\"#000000\" font-family=\"sans-serif\" font-size=\"12\" font-style=\"italic\" lengthAdjust=\"spacingAndGlyphs\" textLength=\"69\" x=\"33.5\" y=\"233.6387\">«attribute»</text><text fill=\"#000000\" font-family=\"sans-serif\" font-size=\"12\" lengthAdjust=\"spacingAndGlyphs\" textLength=\"6\" x=\"63\" y=\"247.6074\">x</text><line style=\"stroke: #383838; stroke-width: 1.5;\" x1=\"33.5\" x2=\"102.5\" y1=\"255.4375\" y2=\"255.4375\"/></a><!--MD5=[2156ba9850f5573cc1fc38a6a4b2f02b]\n",
       "class E7--><a href=\"psysml:5e659b03-2baa-4472-976b-b868f73bcda1\" target=\"_top\" title=\"psysml:5e659b03-2baa-4472-976b-b868f73bcda1\" xlink:actuate=\"onRequest\" xlink:href=\"psysml:5e659b03-2baa-4472-976b-b868f73bcda1\" xlink:show=\"new\" xlink:title=\"psysml:5e659b03-2baa-4472-976b-b868f73bcda1\" xlink:type=\"simple\"><rect fill=\"#FFFFFF\" height=\"45.9375\" id=\"E7\" rx=\"10\" ry=\"10\" style=\"stroke: #383838; stroke-width: 1.5;\" width=\"71\" x=\"138.5\" y=\"217.5\"/><text fill=\"#000000\" font-family=\"sans-serif\" font-size=\"12\" font-style=\"italic\" lengthAdjust=\"spacingAndGlyphs\" textLength=\"69\" x=\"139.5\" y=\"233.6387\">«attribute»</text><text fill=\"#000000\" font-family=\"sans-serif\" font-size=\"12\" lengthAdjust=\"spacingAndGlyphs\" textLength=\"6\" x=\"169\" y=\"247.6074\">y</text><line style=\"stroke: #383838; stroke-width: 1.5;\" x1=\"139.5\" x2=\"208.5\" y1=\"255.4375\" y2=\"255.4375\"/></a><!--MD5=[b9389687b975829384b498ac4b7476b2]\n",
       "class E8--><a href=\"psysml:17862b5a-aa19-4a09-bb5d-84a4c59b96ac\" target=\"_top\" title=\"psysml:17862b5a-aa19-4a09-bb5d-84a4c59b96ac\" xlink:actuate=\"onRequest\" xlink:href=\"psysml:17862b5a-aa19-4a09-bb5d-84a4c59b96ac\" xlink:show=\"new\" xlink:title=\"psysml:17862b5a-aa19-4a09-bb5d-84a4c59b96ac\" xlink:type=\"simple\"><rect fill=\"#FFFFFF\" height=\"45.9375\" id=\"E8\" rx=\"10\" ry=\"10\" style=\"stroke: #383838; stroke-width: 1.5;\" width=\"71\" x=\"84.5\" y=\"87.5\"/><text fill=\"#000000\" font-family=\"sans-serif\" font-size=\"12\" font-style=\"italic\" lengthAdjust=\"spacingAndGlyphs\" textLength=\"69\" x=\"85.5\" y=\"103.6387\">«attribute»</text><text fill=\"#000000\" font-family=\"sans-serif\" font-size=\"12\" lengthAdjust=\"spacingAndGlyphs\" textLength=\"5\" x=\"115.5\" y=\"117.6074\">z</text><line style=\"stroke: #383838; stroke-width: 1.5;\" x1=\"85.5\" x2=\"154.5\" y1=\"125.4375\" y2=\"125.4375\"/></a><a href=\"psysml:c86dacee-9d76-4d53-8a53-8574653b1f4e\" target=\"_top\" title=\"psysml:c86dacee-9d76-4d53-8a53-8574653b1f4e\" xlink:actuate=\"onRequest\" xlink:href=\"psysml:c86dacee-9d76-4d53-8a53-8574653b1f4e\" xlink:show=\"new\" xlink:title=\"psysml:c86dacee-9d76-4d53-8a53-8574653b1f4e\" xlink:type=\"simple\"><polygon fill=\"#FFFFFF\" points=\"271.5,84,392.5,84,399.5,106.2969,406.5,106.2969,406.5,136.5938,271.5,136.5938,271.5,84\" style=\"stroke: #000000; stroke-width: 1.5;\"/><line style=\"stroke: #000000; stroke-width: 1.5;\" x1=\"271.5\" x2=\"399.5\" y1=\"106.2969\" y2=\"106.2969\"/><text fill=\"#000000\" font-family=\"sans-serif\" font-size=\"14\" font-weight=\"bold\" lengthAdjust=\"spacingAndGlyphs\" textLength=\"115\" x=\"275.5\" y=\"98.9951\">Application Layer</text></a><a href=\"psysml:1c23a4b2-35e2-4e8a-96b6-0c0eddc8acf9\" target=\"_top\" title=\"psysml:1c23a4b2-35e2-4e8a-96b6-0c0eddc8acf9\" xlink:actuate=\"onRequest\" xlink:href=\"psysml:1c23a4b2-35e2-4e8a-96b6-0c0eddc8acf9\" xlink:show=\"new\" xlink:title=\"psysml:1c23a4b2-35e2-4e8a-96b6-0c0eddc8acf9\" xlink:type=\"simple\"><polygon fill=\"#FFFFFF\" points=\"284,214,380,214,387,236.2969,394,236.2969,394,266.5938,284,266.5938,284,214\" style=\"stroke: #000000; stroke-width: 1.5;\"/><line style=\"stroke: #000000; stroke-width: 1.5;\" x1=\"284\" x2=\"387\" y1=\"236.2969\" y2=\"236.2969\"/><text fill=\"#000000\" font-family=\"sans-serif\" font-size=\"14\" font-weight=\"bold\" lengthAdjust=\"spacingAndGlyphs\" textLength=\"90\" x=\"288\" y=\"228.9951\">Service Layer</text></a><a href=\"psysml:a642c0ba-468c-4345-a41b-ed6906c58c2e\" target=\"_top\" title=\"psysml:a642c0ba-468c-4345-a41b-ed6906c58c2e\" xlink:actuate=\"onRequest\" xlink:href=\"psysml:a642c0ba-468c-4345-a41b-ed6906c58c2e\" xlink:show=\"new\" xlink:title=\"psysml:a642c0ba-468c-4345-a41b-ed6906c58c2e\" xlink:type=\"simple\"><polygon fill=\"#FFFFFF\" points=\"293,344,371,344,378,366.2969,385,366.2969,385,396.5938,293,396.5938,293,344\" style=\"stroke: #000000; stroke-width: 1.5;\"/><line style=\"stroke: #000000; stroke-width: 1.5;\" x1=\"293\" x2=\"378\" y1=\"366.2969\" y2=\"366.2969\"/><text fill=\"#000000\" font-family=\"sans-serif\" font-size=\"14\" font-weight=\"bold\" lengthAdjust=\"spacingAndGlyphs\" textLength=\"72\" x=\"297\" y=\"358.9951\">Data Layer</text></a><!--MD5=[af87c684e3b0d8be13c1a698a818ef1e]\n",
       "link E3 to E4--><a href=\"psysml:e08fe20c-326f-4bf4-bdb1-9df0382c82e4\" target=\"_top\" title=\"psysml:e08fe20c-326f-4bf4-bdb1-9df0382c82e4\" xlink:actuate=\"onRequest\" xlink:href=\"psysml:e08fe20c-326f-4bf4-bdb1-9df0382c82e4\" xlink:show=\"new\" xlink:title=\"psysml:e08fe20c-326f-4bf4-bdb1-9df0382c82e4\" xlink:type=\"simple\"><path d=\"M339,137.1 C339,156.8 339,184.22 339,205.73 \" fill=\"none\" id=\"E3-&gt;E4\" style=\"stroke: #383838; stroke-width: 1.0; stroke-dasharray: 7.0,7.0;\"/><polygon fill=\"#383838\" points=\"339,213.95,342,205.95,336,205.95,339,213.95\" style=\"stroke: #383838; stroke-width: 1.0;\"/><text fill=\"#000000\" font-family=\"sans-serif\" font-size=\"13\" lengthAdjust=\"spacingAndGlyphs\" textLength=\"64\" x=\"340\" y=\"180.0669\">«depend»</text></a><!--MD5=[1b7591eae5389033d8d09a9d6721a717]\n",
       "link E4 to E5--><a href=\"psysml:3bcf17b2-ef7a-4ff9-b082-cb17e1124f6a\" target=\"_top\" title=\"psysml:3bcf17b2-ef7a-4ff9-b082-cb17e1124f6a\" xlink:actuate=\"onRequest\" xlink:href=\"psysml:3bcf17b2-ef7a-4ff9-b082-cb17e1124f6a\" xlink:show=\"new\" xlink:title=\"psysml:3bcf17b2-ef7a-4ff9-b082-cb17e1124f6a\" xlink:type=\"simple\"><path d=\"M339,267.1 C339,286.8 339,314.22 339,335.73 \" fill=\"none\" id=\"E4-&gt;E5\" style=\"stroke: #383838; stroke-width: 1.0; stroke-dasharray: 7.0,7.0;\"/><polygon fill=\"#383838\" points=\"339,343.95,342,335.95,336,335.95,339,343.95\" style=\"stroke: #383838; stroke-width: 1.0;\"/><text fill=\"#000000\" font-family=\"sans-serif\" font-size=\"13\" lengthAdjust=\"spacingAndGlyphs\" textLength=\"64\" x=\"340\" y=\"310.0669\">«depend»</text></a><!--MD5=[c5e8897d989ce984f93528998a7150fe]\n",
       "link E8 to E6--><a href=\"psysml:aa53d009-eedf-4466-a7b8-b270a2d13479\" target=\"_top\" title=\"psysml:aa53d009-eedf-4466-a7b8-b270a2d13479\" xlink:actuate=\"onRequest\" xlink:href=\"psysml:aa53d009-eedf-4466-a7b8-b270a2d13479\" xlink:show=\"new\" xlink:title=\"psysml:aa53d009-eedf-4466-a7b8-b270a2d13479\" xlink:type=\"simple\"><path d=\"M97.55,133.75 C81.97,149.19 64,167 64,167 C64,167 64,184 64,184 C64,184 64.88,196.21 65.81,209.18 \" fill=\"none\" id=\"E8-&gt;E6\" style=\"stroke: #383838; stroke-width: 1.0; stroke-dasharray: 7.0,7.0;\"/><polygon fill=\"#383838\" points=\"66.4,217.25,68.8203,209.056,62.8357,209.485,66.4,217.25\" style=\"stroke: #383838; stroke-width: 1.0;\"/><text fill=\"#000000\" font-family=\"sans-serif\" font-size=\"13\" lengthAdjust=\"spacingAndGlyphs\" textLength=\"64\" x=\"65\" y=\"180.0669\">«depend»</text></a><!--MD5=[bfa3c8b0d15052fdf50ae9310b491027]\n",
       "link E8 to E7--><a href=\"psysml:aa53d009-eedf-4466-a7b8-b270a2d13479\" target=\"_top\" title=\"psysml:aa53d009-eedf-4466-a7b8-b270a2d13479\" xlink:actuate=\"onRequest\" xlink:href=\"psysml:aa53d009-eedf-4466-a7b8-b270a2d13479\" xlink:show=\"new\" xlink:title=\"psysml:aa53d009-eedf-4466-a7b8-b270a2d13479\" xlink:type=\"simple\"><path d=\"M129.28,133.5 C138.17,154.57 151.64,186.5 161.47,209.81 \" fill=\"none\" id=\"E8-&gt;E7\" style=\"stroke: #383838; stroke-width: 1.0; stroke-dasharray: 7.0,7.0;\"/><polygon fill=\"#383838\" points=\"164.66,217.35,164.3241,208.8126,158.7933,211.1385,164.66,217.35\" style=\"stroke: #383838; stroke-width: 1.0;\"/><text fill=\"#000000\" font-family=\"sans-serif\" font-size=\"13\" lengthAdjust=\"spacingAndGlyphs\" textLength=\"64\" x=\"151\" y=\"180.0669\">«depend»</text></a><!--MD5=[4f72fbd56a48ed7543b0db35451cdd3f]\n",
       "@startuml\r\n",
       "skinparam linetype polyline\r\n",
       "skinparam monochrome true\r\n",
       "skinparam classbackgroundcolor white\r\n",
       "skinparam shadowing false\r\n",
       "skinparam wrapWidth 300\r\n",
       "hide circle\r\n",
       "\r\n",
       "package \"DependencyTest\" as E1  [[psysml:79533e77-94c2-4bae-8455-1b4d9ad0ac19 ]]  {\r\n",
       "package \"System\" as E2  [[psysml:aa959c9d-de71-4dee-a328-dce50e2c2738 ]]  {\r\n",
       "package \"Application Layer\" as E3  [[psysml:c86dacee-9d76-4d53-8a53-8574653b1f4e ]]  {\r\n",
       "}\r\n",
       "package \"Service Layer\" as E4  [[psysml:1c23a4b2-35e2-4e8a-96b6-0c0eddc8acf9 ]]  {\r\n",
       "}\r\n",
       "package \"Data Layer\" as E5  [[psysml:a642c0ba-468c-4345-a41b-ed6906c58c2e ]]  {\r\n",
       "}\r\n",
       "}\r\n",
       "comp usage \"x \" as E6  <<(T,blue) attribute>> [[psysml:002f54b6-1019-4822-b88b-c9a615e25b28 ]] {\r\n",
       "}\r\n",
       "comp usage \"y \" as E7  <<(T,blue) attribute>> [[psysml:5e659b03-2baa-4472-976b-b868f73bcda1 ]] {\r\n",
       "}\r\n",
       "comp usage \"z \" as E8  <<(T,blue) attribute>> [[psysml:17862b5a-aa19-4a09-bb5d-84a4c59b96ac ]] {\r\n",
       "}\r\n",
       "}\r\n",
       "E3 ..>> E4 [[psysml:e08fe20c-326f-4bf4-bdb1-9df0382c82e4 ]] : <<depend>>\r\n",
       "E4 ..>> E5 [[psysml:3bcf17b2-ef7a-4ff9-b082-cb17e1124f6a ]] : <<depend>>\r\n",
       "E8 ..>> E6 [[psysml:aa53d009-eedf-4466-a7b8-b270a2d13479 ]] : <<depend>>\r\n",
       "E8 ..>> E7 [[psysml:aa53d009-eedf-4466-a7b8-b270a2d13479 ]] : <<depend>>\r\n",
       "@enduml\r\n",
       "\n",
       "PlantUML version 1.2020.13(Sat Jun 13 12:26:38 UTC 2020)\n",
       "(EPL source distribution)\n",
       "Java Runtime: OpenJDK Runtime Environment\n",
       "JVM: OpenJDK 64-Bit Server VM\n",
       "Default Encoding: UTF-8\n",
       "Language: en\n",
       "Country: null\n",
       "--></g></svg>"
      ]
     },
     "execution_count": 9,
     "metadata": {},
     "output_type": "execute_result"
    }
   ],
   "source": [
    "%viz --style=\"POLYLINE\" --view=\"Default\" \"DependencyTest\""
   ]
  },
  {
   "cell_type": "code",
   "execution_count": 10,
   "id": "937f971a",
   "metadata": {
    "execution": {
     "iopub.execute_input": "2021-12-15T15:15:19.620943Z",
     "iopub.status.busy": "2021-12-15T15:15:19.620486Z",
     "iopub.status.idle": "2021-12-15T15:15:19.658275Z",
     "shell.execute_reply": "2021-12-15T15:15:19.657802Z"
    }
   },
   "outputs": [
    {
     "data": {
      "image/svg+xml": [
       "<?xml version=\"1.0\" encoding=\"UTF-8\" standalone=\"no\"?><svg xmlns=\"http://www.w3.org/2000/svg\" xmlns:xlink=\"http://www.w3.org/1999/xlink\" contentScriptType=\"application/ecmascript\" contentStyleType=\"text/css\" height=\"449px\" preserveAspectRatio=\"none\" style=\"width:469px;height:449px;\" version=\"1.1\" viewBox=\"0 0 469 449\" width=\"469px\" zoomAndPan=\"magnify\"><defs/><g><!--MD5=[fbc87193dbaf4d95561dea2c320d4a47]\n",
       "cluster E1--><a href=\"psysml:79533e77-94c2-4bae-8455-1b4d9ad0ac19\" target=\"_top\" title=\"psysml:79533e77-94c2-4bae-8455-1b4d9ad0ac19\" xlink:actuate=\"onRequest\" xlink:href=\"psysml:79533e77-94c2-4bae-8455-1b4d9ad0ac19\" xlink:show=\"new\" xlink:title=\"psysml:79533e77-94c2-4bae-8455-1b4d9ad0ac19\" xlink:type=\"simple\"><polygon fill=\"#FFFFFF\" points=\"16,6,142,6,149,28.2969,447,28.2969,447,437,16,437,16,6\" style=\"stroke: #000000; stroke-width: 1.5;\"/><line style=\"stroke: #000000; stroke-width: 1.5;\" x1=\"16\" x2=\"149\" y1=\"28.2969\" y2=\"28.2969\"/><text fill=\"#000000\" font-family=\"sans-serif\" font-size=\"14\" font-weight=\"bold\" lengthAdjust=\"spacingAndGlyphs\" textLength=\"120\" x=\"20\" y=\"20.9951\">DependencyTest</text></a><!--MD5=[e4f7fae6ed58524ba242bb0b0d3be6b7]\n",
       "cluster E2--><a href=\"psysml:aa959c9d-de71-4dee-a328-dce50e2c2738\" target=\"_top\" title=\"psysml:aa959c9d-de71-4dee-a328-dce50e2c2738\" xlink:actuate=\"onRequest\" xlink:href=\"psysml:aa959c9d-de71-4dee-a328-dce50e2c2738\" xlink:show=\"new\" xlink:title=\"psysml:aa959c9d-de71-4dee-a328-dce50e2c2738\" xlink:type=\"simple\"><polygon fill=\"#FFFFFF\" points=\"255,49,312,49,319,71.2969,423,71.2969,423,413,255,413,255,49\" style=\"stroke: #000000; stroke-width: 1.5;\"/><line style=\"stroke: #000000; stroke-width: 1.5;\" x1=\"255\" x2=\"319\" y1=\"71.2969\" y2=\"71.2969\"/><text fill=\"#000000\" font-family=\"sans-serif\" font-size=\"14\" font-weight=\"bold\" lengthAdjust=\"spacingAndGlyphs\" textLength=\"51\" x=\"259\" y=\"63.9951\">System</text></a><!--MD5=[60a26617385b1d2d0262a64233df1f8d]\n",
       "class E6--><a href=\"psysml:002f54b6-1019-4822-b88b-c9a615e25b28\" target=\"_top\" title=\"psysml:002f54b6-1019-4822-b88b-c9a615e25b28\" xlink:actuate=\"onRequest\" xlink:href=\"psysml:002f54b6-1019-4822-b88b-c9a615e25b28\" xlink:show=\"new\" xlink:title=\"psysml:002f54b6-1019-4822-b88b-c9a615e25b28\" xlink:type=\"simple\"><rect fill=\"#FFFFFF\" height=\"45.9375\" id=\"E6\" rx=\"10\" ry=\"10\" style=\"stroke: #383838; stroke-width: 1.5;\" width=\"71\" x=\"32.5\" y=\"217.5\"/><text fill=\"#000000\" font-family=\"sans-serif\" font-size=\"12\" font-style=\"italic\" lengthAdjust=\"spacingAndGlyphs\" textLength=\"69\" x=\"33.5\" y=\"233.6387\">«attribute»</text><text fill=\"#000000\" font-family=\"sans-serif\" font-size=\"12\" lengthAdjust=\"spacingAndGlyphs\" textLength=\"6\" x=\"63\" y=\"247.6074\">x</text><line style=\"stroke: #383838; stroke-width: 1.5;\" x1=\"33.5\" x2=\"102.5\" y1=\"255.4375\" y2=\"255.4375\"/></a><!--MD5=[2156ba9850f5573cc1fc38a6a4b2f02b]\n",
       "class E7--><a href=\"psysml:5e659b03-2baa-4472-976b-b868f73bcda1\" target=\"_top\" title=\"psysml:5e659b03-2baa-4472-976b-b868f73bcda1\" xlink:actuate=\"onRequest\" xlink:href=\"psysml:5e659b03-2baa-4472-976b-b868f73bcda1\" xlink:show=\"new\" xlink:title=\"psysml:5e659b03-2baa-4472-976b-b868f73bcda1\" xlink:type=\"simple\"><rect fill=\"#FFFFFF\" height=\"45.9375\" id=\"E7\" rx=\"10\" ry=\"10\" style=\"stroke: #383838; stroke-width: 1.5;\" width=\"71\" x=\"138.5\" y=\"217.5\"/><text fill=\"#000000\" font-family=\"sans-serif\" font-size=\"12\" font-style=\"italic\" lengthAdjust=\"spacingAndGlyphs\" textLength=\"69\" x=\"139.5\" y=\"233.6387\">«attribute»</text><text fill=\"#000000\" font-family=\"sans-serif\" font-size=\"12\" lengthAdjust=\"spacingAndGlyphs\" textLength=\"6\" x=\"169\" y=\"247.6074\">y</text><line style=\"stroke: #383838; stroke-width: 1.5;\" x1=\"139.5\" x2=\"208.5\" y1=\"255.4375\" y2=\"255.4375\"/></a><!--MD5=[b9389687b975829384b498ac4b7476b2]\n",
       "class E8--><a href=\"psysml:17862b5a-aa19-4a09-bb5d-84a4c59b96ac\" target=\"_top\" title=\"psysml:17862b5a-aa19-4a09-bb5d-84a4c59b96ac\" xlink:actuate=\"onRequest\" xlink:href=\"psysml:17862b5a-aa19-4a09-bb5d-84a4c59b96ac\" xlink:show=\"new\" xlink:title=\"psysml:17862b5a-aa19-4a09-bb5d-84a4c59b96ac\" xlink:type=\"simple\"><rect fill=\"#FFFFFF\" height=\"45.9375\" id=\"E8\" rx=\"10\" ry=\"10\" style=\"stroke: #383838; stroke-width: 1.5;\" width=\"71\" x=\"84.5\" y=\"87.5\"/><text fill=\"#000000\" font-family=\"sans-serif\" font-size=\"12\" font-style=\"italic\" lengthAdjust=\"spacingAndGlyphs\" textLength=\"69\" x=\"85.5\" y=\"103.6387\">«attribute»</text><text fill=\"#000000\" font-family=\"sans-serif\" font-size=\"12\" lengthAdjust=\"spacingAndGlyphs\" textLength=\"5\" x=\"115.5\" y=\"117.6074\">z</text><line style=\"stroke: #383838; stroke-width: 1.5;\" x1=\"85.5\" x2=\"154.5\" y1=\"125.4375\" y2=\"125.4375\"/></a><a href=\"psysml:c86dacee-9d76-4d53-8a53-8574653b1f4e\" target=\"_top\" title=\"psysml:c86dacee-9d76-4d53-8a53-8574653b1f4e\" xlink:actuate=\"onRequest\" xlink:href=\"psysml:c86dacee-9d76-4d53-8a53-8574653b1f4e\" xlink:show=\"new\" xlink:title=\"psysml:c86dacee-9d76-4d53-8a53-8574653b1f4e\" xlink:type=\"simple\"><polygon fill=\"#FFFFFF\" points=\"271.5,84,392.5,84,399.5,106.2969,406.5,106.2969,406.5,136.5938,271.5,136.5938,271.5,84\" style=\"stroke: #000000; stroke-width: 1.5;\"/><line style=\"stroke: #000000; stroke-width: 1.5;\" x1=\"271.5\" x2=\"399.5\" y1=\"106.2969\" y2=\"106.2969\"/><text fill=\"#000000\" font-family=\"sans-serif\" font-size=\"14\" font-weight=\"bold\" lengthAdjust=\"spacingAndGlyphs\" textLength=\"115\" x=\"275.5\" y=\"98.9951\">Application Layer</text></a><a href=\"psysml:1c23a4b2-35e2-4e8a-96b6-0c0eddc8acf9\" target=\"_top\" title=\"psysml:1c23a4b2-35e2-4e8a-96b6-0c0eddc8acf9\" xlink:actuate=\"onRequest\" xlink:href=\"psysml:1c23a4b2-35e2-4e8a-96b6-0c0eddc8acf9\" xlink:show=\"new\" xlink:title=\"psysml:1c23a4b2-35e2-4e8a-96b6-0c0eddc8acf9\" xlink:type=\"simple\"><polygon fill=\"#FFFFFF\" points=\"284,214,380,214,387,236.2969,394,236.2969,394,266.5938,284,266.5938,284,214\" style=\"stroke: #000000; stroke-width: 1.5;\"/><line style=\"stroke: #000000; stroke-width: 1.5;\" x1=\"284\" x2=\"387\" y1=\"236.2969\" y2=\"236.2969\"/><text fill=\"#000000\" font-family=\"sans-serif\" font-size=\"14\" font-weight=\"bold\" lengthAdjust=\"spacingAndGlyphs\" textLength=\"90\" x=\"288\" y=\"228.9951\">Service Layer</text></a><a href=\"psysml:a642c0ba-468c-4345-a41b-ed6906c58c2e\" target=\"_top\" title=\"psysml:a642c0ba-468c-4345-a41b-ed6906c58c2e\" xlink:actuate=\"onRequest\" xlink:href=\"psysml:a642c0ba-468c-4345-a41b-ed6906c58c2e\" xlink:show=\"new\" xlink:title=\"psysml:a642c0ba-468c-4345-a41b-ed6906c58c2e\" xlink:type=\"simple\"><polygon fill=\"#FFFFFF\" points=\"293,344,371,344,378,366.2969,385,366.2969,385,396.5938,293,396.5938,293,344\" style=\"stroke: #000000; stroke-width: 1.5;\"/><line style=\"stroke: #000000; stroke-width: 1.5;\" x1=\"293\" x2=\"378\" y1=\"366.2969\" y2=\"366.2969\"/><text fill=\"#000000\" font-family=\"sans-serif\" font-size=\"14\" font-weight=\"bold\" lengthAdjust=\"spacingAndGlyphs\" textLength=\"72\" x=\"297\" y=\"358.9951\">Data Layer</text></a><!--MD5=[af87c684e3b0d8be13c1a698a818ef1e]\n",
       "link E3 to E4--><a href=\"psysml:e08fe20c-326f-4bf4-bdb1-9df0382c82e4\" target=\"_top\" title=\"psysml:e08fe20c-326f-4bf4-bdb1-9df0382c82e4\" xlink:actuate=\"onRequest\" xlink:href=\"psysml:e08fe20c-326f-4bf4-bdb1-9df0382c82e4\" xlink:show=\"new\" xlink:title=\"psysml:e08fe20c-326f-4bf4-bdb1-9df0382c82e4\" xlink:type=\"simple\"><path d=\"M339,137.1 C339,156.8 339,184.22 339,205.73 \" fill=\"none\" id=\"E3-&gt;E4\" style=\"stroke: #383838; stroke-width: 1.0; stroke-dasharray: 7.0,7.0;\"/><polygon fill=\"#383838\" points=\"339,213.95,342,205.95,336,205.95,339,213.95\" style=\"stroke: #383838; stroke-width: 1.0;\"/><text fill=\"#000000\" font-family=\"sans-serif\" font-size=\"13\" lengthAdjust=\"spacingAndGlyphs\" textLength=\"64\" x=\"340\" y=\"180.0669\">«depend»</text></a><!--MD5=[1b7591eae5389033d8d09a9d6721a717]\n",
       "link E4 to E5--><a href=\"psysml:3bcf17b2-ef7a-4ff9-b082-cb17e1124f6a\" target=\"_top\" title=\"psysml:3bcf17b2-ef7a-4ff9-b082-cb17e1124f6a\" xlink:actuate=\"onRequest\" xlink:href=\"psysml:3bcf17b2-ef7a-4ff9-b082-cb17e1124f6a\" xlink:show=\"new\" xlink:title=\"psysml:3bcf17b2-ef7a-4ff9-b082-cb17e1124f6a\" xlink:type=\"simple\"><path d=\"M339,267.1 C339,286.8 339,314.22 339,335.73 \" fill=\"none\" id=\"E4-&gt;E5\" style=\"stroke: #383838; stroke-width: 1.0; stroke-dasharray: 7.0,7.0;\"/><polygon fill=\"#383838\" points=\"339,343.95,342,335.95,336,335.95,339,343.95\" style=\"stroke: #383838; stroke-width: 1.0;\"/><text fill=\"#000000\" font-family=\"sans-serif\" font-size=\"13\" lengthAdjust=\"spacingAndGlyphs\" textLength=\"64\" x=\"340\" y=\"310.0669\">«depend»</text></a><!--MD5=[c5e8897d989ce984f93528998a7150fe]\n",
       "link E8 to E6--><a href=\"psysml:aa53d009-eedf-4466-a7b8-b270a2d13479\" target=\"_top\" title=\"psysml:aa53d009-eedf-4466-a7b8-b270a2d13479\" xlink:actuate=\"onRequest\" xlink:href=\"psysml:aa53d009-eedf-4466-a7b8-b270a2d13479\" xlink:show=\"new\" xlink:title=\"psysml:aa53d009-eedf-4466-a7b8-b270a2d13479\" xlink:type=\"simple\"><path d=\"M97.55,133.75 C81.97,149.19 64,167 64,167 C64,167 64,184 64,184 C64,184 64.88,196.21 65.81,209.18 \" fill=\"none\" id=\"E8-&gt;E6\" style=\"stroke: #383838; stroke-width: 1.0; stroke-dasharray: 7.0,7.0;\"/><polygon fill=\"#383838\" points=\"66.4,217.25,68.8203,209.056,62.8357,209.485,66.4,217.25\" style=\"stroke: #383838; stroke-width: 1.0;\"/><text fill=\"#000000\" font-family=\"sans-serif\" font-size=\"13\" lengthAdjust=\"spacingAndGlyphs\" textLength=\"64\" x=\"65\" y=\"180.0669\">«depend»</text></a><!--MD5=[bfa3c8b0d15052fdf50ae9310b491027]\n",
       "link E8 to E7--><a href=\"psysml:aa53d009-eedf-4466-a7b8-b270a2d13479\" target=\"_top\" title=\"psysml:aa53d009-eedf-4466-a7b8-b270a2d13479\" xlink:actuate=\"onRequest\" xlink:href=\"psysml:aa53d009-eedf-4466-a7b8-b270a2d13479\" xlink:show=\"new\" xlink:title=\"psysml:aa53d009-eedf-4466-a7b8-b270a2d13479\" xlink:type=\"simple\"><path d=\"M129.28,133.5 C138.17,154.57 151.64,186.5 161.47,209.81 \" fill=\"none\" id=\"E8-&gt;E7\" style=\"stroke: #383838; stroke-width: 1.0; stroke-dasharray: 7.0,7.0;\"/><polygon fill=\"#383838\" points=\"164.66,217.35,164.3241,208.8126,158.7933,211.1385,164.66,217.35\" style=\"stroke: #383838; stroke-width: 1.0;\"/><text fill=\"#000000\" font-family=\"sans-serif\" font-size=\"13\" lengthAdjust=\"spacingAndGlyphs\" textLength=\"64\" x=\"151\" y=\"180.0669\">«depend»</text></a><!--MD5=[4f72fbd56a48ed7543b0db35451cdd3f]\n",
       "@startuml\r\n",
       "skinparam linetype polyline\r\n",
       "skinparam monochrome true\r\n",
       "skinparam classbackgroundcolor white\r\n",
       "skinparam shadowing false\r\n",
       "skinparam wrapWidth 300\r\n",
       "hide circle\r\n",
       "\r\n",
       "package \"DependencyTest\" as E1  [[psysml:79533e77-94c2-4bae-8455-1b4d9ad0ac19 ]]  {\r\n",
       "package \"System\" as E2  [[psysml:aa959c9d-de71-4dee-a328-dce50e2c2738 ]]  {\r\n",
       "package \"Application Layer\" as E3  [[psysml:c86dacee-9d76-4d53-8a53-8574653b1f4e ]]  {\r\n",
       "}\r\n",
       "package \"Service Layer\" as E4  [[psysml:1c23a4b2-35e2-4e8a-96b6-0c0eddc8acf9 ]]  {\r\n",
       "}\r\n",
       "package \"Data Layer\" as E5  [[psysml:a642c0ba-468c-4345-a41b-ed6906c58c2e ]]  {\r\n",
       "}\r\n",
       "}\r\n",
       "comp usage \"x \" as E6  <<(T,blue) attribute>> [[psysml:002f54b6-1019-4822-b88b-c9a615e25b28 ]] {\r\n",
       "}\r\n",
       "comp usage \"y \" as E7  <<(T,blue) attribute>> [[psysml:5e659b03-2baa-4472-976b-b868f73bcda1 ]] {\r\n",
       "}\r\n",
       "comp usage \"z \" as E8  <<(T,blue) attribute>> [[psysml:17862b5a-aa19-4a09-bb5d-84a4c59b96ac ]] {\r\n",
       "}\r\n",
       "}\r\n",
       "E3 ..>> E4 [[psysml:e08fe20c-326f-4bf4-bdb1-9df0382c82e4 ]] : <<depend>>\r\n",
       "E4 ..>> E5 [[psysml:3bcf17b2-ef7a-4ff9-b082-cb17e1124f6a ]] : <<depend>>\r\n",
       "E8 ..>> E6 [[psysml:aa53d009-eedf-4466-a7b8-b270a2d13479 ]] : <<depend>>\r\n",
       "E8 ..>> E7 [[psysml:aa53d009-eedf-4466-a7b8-b270a2d13479 ]] : <<depend>>\r\n",
       "@enduml\r\n",
       "\n",
       "PlantUML version 1.2020.13(Sat Jun 13 12:26:38 UTC 2020)\n",
       "(EPL source distribution)\n",
       "Java Runtime: OpenJDK Runtime Environment\n",
       "JVM: OpenJDK 64-Bit Server VM\n",
       "Default Encoding: UTF-8\n",
       "Language: en\n",
       "Country: null\n",
       "--></g></svg>"
      ]
     },
     "execution_count": 10,
     "metadata": {},
     "output_type": "execute_result"
    }
   ],
   "source": [
    "%viz --style=\"POLYLINE\" --view=\"Tree\" \"DependencyTest\""
   ]
  },
  {
   "cell_type": "code",
   "execution_count": 11,
   "id": "5e0b771e",
   "metadata": {
    "execution": {
     "iopub.execute_input": "2021-12-15T15:15:19.707119Z",
     "iopub.status.busy": "2021-12-15T15:15:19.706560Z",
     "iopub.status.idle": "2021-12-15T15:15:19.712850Z",
     "shell.execute_reply": "2021-12-15T15:15:19.713218Z"
    }
   },
   "outputs": [
    {
     "data": {
      "image/svg+xml": [
       "<?xml version=\"1.0\" encoding=\"UTF-8\" standalone=\"no\"?><svg xmlns=\"http://www.w3.org/2000/svg\" xmlns:xlink=\"http://www.w3.org/1999/xlink\" contentScriptType=\"application/ecmascript\" contentStyleType=\"text/css\" height=\"12px\" preserveAspectRatio=\"none\" style=\"width:12px;height:12px;\" version=\"1.1\" viewBox=\"0 0 12 12\" width=\"12px\" zoomAndPan=\"magnify\"><defs/><g><!--MD5=[896ac0e7a515d8dd7765a661cb4ee08b]\n",
       "@startuml\r\n",
       "skinparam linetype polyline\r\n",
       "skinparam monochrome true\r\n",
       "skinparam classbackgroundcolor white\r\n",
       "skinparam shadowing false\r\n",
       "skinparam wrapWidth 300\r\n",
       "hide circle\r\n",
       "\r\n",
       "@enduml\r\n",
       "\n",
       "PlantUML version 1.2020.13(Sat Jun 13 12:26:38 UTC 2020)\n",
       "(EPL source distribution)\n",
       "Java Runtime: OpenJDK Runtime Environment\n",
       "JVM: OpenJDK 64-Bit Server VM\n",
       "Default Encoding: UTF-8\n",
       "Language: en\n",
       "Country: null\n",
       "--></g></svg>"
      ]
     },
     "execution_count": 11,
     "metadata": {},
     "output_type": "execute_result"
    }
   ],
   "source": [
    "%viz --style=\"POLYLINE\" --view=\"State\" \"DependencyTest\""
   ]
  },
  {
   "cell_type": "code",
   "execution_count": 12,
   "id": "696fed42",
   "metadata": {
    "execution": {
     "iopub.execute_input": "2021-12-15T15:15:19.762819Z",
     "iopub.status.busy": "2021-12-15T15:15:19.762178Z",
     "iopub.status.idle": "2021-12-15T15:15:19.808364Z",
     "shell.execute_reply": "2021-12-15T15:15:19.807955Z"
    }
   },
   "outputs": [
    {
     "data": {
      "image/svg+xml": [
       "<?xml version=\"1.0\" encoding=\"UTF-8\" standalone=\"no\"?><svg xmlns=\"http://www.w3.org/2000/svg\" xmlns:xlink=\"http://www.w3.org/1999/xlink\" contentScriptType=\"application/ecmascript\" contentStyleType=\"text/css\" height=\"361px\" preserveAspectRatio=\"none\" style=\"width:469px;height:361px;\" version=\"1.1\" viewBox=\"0 0 469 361\" width=\"469px\" zoomAndPan=\"magnify\"><defs/><g><!--MD5=[fbc87193dbaf4d95561dea2c320d4a47]\n",
       "cluster E1--><a href=\"psysml:79533e77-94c2-4bae-8455-1b4d9ad0ac19\" target=\"_top\" title=\"psysml:79533e77-94c2-4bae-8455-1b4d9ad0ac19\" xlink:actuate=\"onRequest\" xlink:href=\"psysml:79533e77-94c2-4bae-8455-1b4d9ad0ac19\" xlink:show=\"new\" xlink:title=\"psysml:79533e77-94c2-4bae-8455-1b4d9ad0ac19\" xlink:type=\"simple\"><polygon fill=\"#FFFFFF\" points=\"16,6,142,6,149,28.2969,447,28.2969,447,349,16,349,16,6\" style=\"stroke: #000000; stroke-width: 1.5;\"/><line style=\"stroke: #000000; stroke-width: 1.5;\" x1=\"16\" x2=\"149\" y1=\"28.2969\" y2=\"28.2969\"/><text fill=\"#000000\" font-family=\"sans-serif\" font-size=\"14\" font-weight=\"bold\" lengthAdjust=\"spacingAndGlyphs\" textLength=\"120\" x=\"20\" y=\"20.9951\">DependencyTest</text></a><!--MD5=[e4f7fae6ed58524ba242bb0b0d3be6b7]\n",
       "cluster E2--><a href=\"psysml:aa959c9d-de71-4dee-a328-dce50e2c2738\" target=\"_top\" title=\"psysml:aa959c9d-de71-4dee-a328-dce50e2c2738\" xlink:actuate=\"onRequest\" xlink:href=\"psysml:aa959c9d-de71-4dee-a328-dce50e2c2738\" xlink:show=\"new\" xlink:title=\"psysml:aa959c9d-de71-4dee-a328-dce50e2c2738\" xlink:type=\"simple\"><polygon fill=\"#FFFFFF\" points=\"255,49,312,49,319,71.2969,423,71.2969,423,325,255,325,255,49\" style=\"stroke: #000000; stroke-width: 1.5;\"/><line style=\"stroke: #000000; stroke-width: 1.5;\" x1=\"255\" x2=\"319\" y1=\"71.2969\" y2=\"71.2969\"/><text fill=\"#000000\" font-family=\"sans-serif\" font-size=\"14\" font-weight=\"bold\" lengthAdjust=\"spacingAndGlyphs\" textLength=\"51\" x=\"259\" y=\"63.9951\">System</text></a><!--MD5=[60a26617385b1d2d0262a64233df1f8d]\n",
       "class E6--><a href=\"psysml:002f54b6-1019-4822-b88b-c9a615e25b28\" target=\"_top\" title=\"psysml:002f54b6-1019-4822-b88b-c9a615e25b28\" xlink:actuate=\"onRequest\" xlink:href=\"psysml:002f54b6-1019-4822-b88b-c9a615e25b28\" xlink:show=\"new\" xlink:title=\"psysml:002f54b6-1019-4822-b88b-c9a615e25b28\" xlink:type=\"simple\"><rect fill=\"#FFFFFF\" height=\"45.9375\" id=\"E6\" rx=\"10\" ry=\"10\" style=\"stroke: #383838; stroke-width: 1.5;\" width=\"71\" x=\"32.5\" y=\"173.5\"/><text fill=\"#000000\" font-family=\"sans-serif\" font-size=\"12\" font-style=\"italic\" lengthAdjust=\"spacingAndGlyphs\" textLength=\"69\" x=\"33.5\" y=\"189.6387\">«attribute»</text><text fill=\"#000000\" font-family=\"sans-serif\" font-size=\"12\" lengthAdjust=\"spacingAndGlyphs\" textLength=\"6\" x=\"63\" y=\"203.6074\">x</text><line style=\"stroke: #383838; stroke-width: 1.5;\" x1=\"33.5\" x2=\"102.5\" y1=\"211.4375\" y2=\"211.4375\"/></a><!--MD5=[2156ba9850f5573cc1fc38a6a4b2f02b]\n",
       "class E7--><a href=\"psysml:5e659b03-2baa-4472-976b-b868f73bcda1\" target=\"_top\" title=\"psysml:5e659b03-2baa-4472-976b-b868f73bcda1\" xlink:actuate=\"onRequest\" xlink:href=\"psysml:5e659b03-2baa-4472-976b-b868f73bcda1\" xlink:show=\"new\" xlink:title=\"psysml:5e659b03-2baa-4472-976b-b868f73bcda1\" xlink:type=\"simple\"><rect fill=\"#FFFFFF\" height=\"45.9375\" id=\"E7\" rx=\"10\" ry=\"10\" style=\"stroke: #383838; stroke-width: 1.5;\" width=\"71\" x=\"138.5\" y=\"173.5\"/><text fill=\"#000000\" font-family=\"sans-serif\" font-size=\"12\" font-style=\"italic\" lengthAdjust=\"spacingAndGlyphs\" textLength=\"69\" x=\"139.5\" y=\"189.6387\">«attribute»</text><text fill=\"#000000\" font-family=\"sans-serif\" font-size=\"12\" lengthAdjust=\"spacingAndGlyphs\" textLength=\"6\" x=\"169\" y=\"203.6074\">y</text><line style=\"stroke: #383838; stroke-width: 1.5;\" x1=\"139.5\" x2=\"208.5\" y1=\"211.4375\" y2=\"211.4375\"/></a><!--MD5=[b9389687b975829384b498ac4b7476b2]\n",
       "class E8--><a href=\"psysml:17862b5a-aa19-4a09-bb5d-84a4c59b96ac\" target=\"_top\" title=\"psysml:17862b5a-aa19-4a09-bb5d-84a4c59b96ac\" xlink:actuate=\"onRequest\" xlink:href=\"psysml:17862b5a-aa19-4a09-bb5d-84a4c59b96ac\" xlink:show=\"new\" xlink:title=\"psysml:17862b5a-aa19-4a09-bb5d-84a4c59b96ac\" xlink:type=\"simple\"><rect fill=\"#FFFFFF\" height=\"45.9375\" id=\"E8\" rx=\"10\" ry=\"10\" style=\"stroke: #383838; stroke-width: 1.5;\" width=\"71\" x=\"84.5\" y=\"87.5\"/><text fill=\"#000000\" font-family=\"sans-serif\" font-size=\"12\" font-style=\"italic\" lengthAdjust=\"spacingAndGlyphs\" textLength=\"69\" x=\"85.5\" y=\"103.6387\">«attribute»</text><text fill=\"#000000\" font-family=\"sans-serif\" font-size=\"12\" lengthAdjust=\"spacingAndGlyphs\" textLength=\"5\" x=\"115.5\" y=\"117.6074\">z</text><line style=\"stroke: #383838; stroke-width: 1.5;\" x1=\"85.5\" x2=\"154.5\" y1=\"125.4375\" y2=\"125.4375\"/></a><a href=\"psysml:c86dacee-9d76-4d53-8a53-8574653b1f4e\" target=\"_top\" title=\"psysml:c86dacee-9d76-4d53-8a53-8574653b1f4e\" xlink:actuate=\"onRequest\" xlink:href=\"psysml:c86dacee-9d76-4d53-8a53-8574653b1f4e\" xlink:show=\"new\" xlink:title=\"psysml:c86dacee-9d76-4d53-8a53-8574653b1f4e\" xlink:type=\"simple\"><polygon fill=\"#FFFFFF\" points=\"271.5,84,392.5,84,399.5,106.2969,406.5,106.2969,406.5,136.5938,271.5,136.5938,271.5,84\" style=\"stroke: #000000; stroke-width: 1.5;\"/><line style=\"stroke: #000000; stroke-width: 1.5;\" x1=\"271.5\" x2=\"399.5\" y1=\"106.2969\" y2=\"106.2969\"/><text fill=\"#000000\" font-family=\"sans-serif\" font-size=\"14\" font-weight=\"bold\" lengthAdjust=\"spacingAndGlyphs\" textLength=\"115\" x=\"275.5\" y=\"98.9951\">Application Layer</text></a><a href=\"psysml:1c23a4b2-35e2-4e8a-96b6-0c0eddc8acf9\" target=\"_top\" title=\"psysml:1c23a4b2-35e2-4e8a-96b6-0c0eddc8acf9\" xlink:actuate=\"onRequest\" xlink:href=\"psysml:1c23a4b2-35e2-4e8a-96b6-0c0eddc8acf9\" xlink:show=\"new\" xlink:title=\"psysml:1c23a4b2-35e2-4e8a-96b6-0c0eddc8acf9\" xlink:type=\"simple\"><polygon fill=\"#FFFFFF\" points=\"284,170,380,170,387,192.2969,394,192.2969,394,222.5938,284,222.5938,284,170\" style=\"stroke: #000000; stroke-width: 1.5;\"/><line style=\"stroke: #000000; stroke-width: 1.5;\" x1=\"284\" x2=\"387\" y1=\"192.2969\" y2=\"192.2969\"/><text fill=\"#000000\" font-family=\"sans-serif\" font-size=\"14\" font-weight=\"bold\" lengthAdjust=\"spacingAndGlyphs\" textLength=\"90\" x=\"288\" y=\"184.9951\">Service Layer</text></a><a href=\"psysml:a642c0ba-468c-4345-a41b-ed6906c58c2e\" target=\"_top\" title=\"psysml:a642c0ba-468c-4345-a41b-ed6906c58c2e\" xlink:actuate=\"onRequest\" xlink:href=\"psysml:a642c0ba-468c-4345-a41b-ed6906c58c2e\" xlink:show=\"new\" xlink:title=\"psysml:a642c0ba-468c-4345-a41b-ed6906c58c2e\" xlink:type=\"simple\"><polygon fill=\"#FFFFFF\" points=\"293,256,371,256,378,278.2969,385,278.2969,385,308.5938,293,308.5938,293,256\" style=\"stroke: #000000; stroke-width: 1.5;\"/><line style=\"stroke: #000000; stroke-width: 1.5;\" x1=\"293\" x2=\"378\" y1=\"278.2969\" y2=\"278.2969\"/><text fill=\"#000000\" font-family=\"sans-serif\" font-size=\"14\" font-weight=\"bold\" lengthAdjust=\"spacingAndGlyphs\" textLength=\"72\" x=\"297\" y=\"270.9951\">Data Layer</text></a><!--MD5=[af87c684e3b0d8be13c1a698a818ef1e]\n",
       "link E3 to E4--><a href=\"psysml:e08fe20c-326f-4bf4-bdb1-9df0382c82e4\" target=\"_top\" title=\"psysml:e08fe20c-326f-4bf4-bdb1-9df0382c82e4\" xlink:actuate=\"onRequest\" xlink:href=\"psysml:e08fe20c-326f-4bf4-bdb1-9df0382c82e4\" xlink:show=\"new\" xlink:title=\"psysml:e08fe20c-326f-4bf4-bdb1-9df0382c82e4\" xlink:type=\"simple\"><path d=\"M339,137.16 C339,144.98 339,153.69 339,161.94 \" fill=\"none\" id=\"E3-&gt;E4\" style=\"stroke: #383838; stroke-width: 1.0; stroke-dasharray: 7.0,7.0;\"/><polygon fill=\"#383838\" points=\"339,170,342,162,336,162,339,170\" style=\"stroke: #383838; stroke-width: 1.0;\"/><text fill=\"#000000\" font-family=\"sans-serif\" font-size=\"13\" lengthAdjust=\"spacingAndGlyphs\" textLength=\"64\" x=\"340\" y=\"158.0669\">«depend»</text></a><!--MD5=[1b7591eae5389033d8d09a9d6721a717]\n",
       "link E4 to E5--><a href=\"psysml:3bcf17b2-ef7a-4ff9-b082-cb17e1124f6a\" target=\"_top\" title=\"psysml:3bcf17b2-ef7a-4ff9-b082-cb17e1124f6a\" xlink:actuate=\"onRequest\" xlink:href=\"psysml:3bcf17b2-ef7a-4ff9-b082-cb17e1124f6a\" xlink:show=\"new\" xlink:title=\"psysml:3bcf17b2-ef7a-4ff9-b082-cb17e1124f6a\" xlink:type=\"simple\"><path d=\"M339,223.16 C339,230.98 339,239.69 339,247.94 \" fill=\"none\" id=\"E4-&gt;E5\" style=\"stroke: #383838; stroke-width: 1.0; stroke-dasharray: 7.0,7.0;\"/><polygon fill=\"#383838\" points=\"339,256,342,248,336,248,339,256\" style=\"stroke: #383838; stroke-width: 1.0;\"/><text fill=\"#000000\" font-family=\"sans-serif\" font-size=\"13\" lengthAdjust=\"spacingAndGlyphs\" textLength=\"64\" x=\"340\" y=\"244.0669\">«depend»</text></a><!--MD5=[c5e8897d989ce984f93528998a7150fe]\n",
       "link E8 to E6--><a href=\"psysml:aa53d009-eedf-4466-a7b8-b270a2d13479\" target=\"_top\" title=\"psysml:aa53d009-eedf-4466-a7b8-b270a2d13479\" xlink:actuate=\"onRequest\" xlink:href=\"psysml:aa53d009-eedf-4466-a7b8-b270a2d13479\" xlink:show=\"new\" xlink:title=\"psysml:aa53d009-eedf-4466-a7b8-b270a2d13479\" xlink:type=\"simple\"><path d=\"M84.22,132.91 C73.24,139.47 64,145 64,145 C64,145 64,162 64,162 C64,162 64.15,163.28 64.4,165.33 \" fill=\"none\" id=\"E8-&gt;E6\" style=\"stroke: #383838; stroke-width: 1.0; stroke-dasharray: 7.0,7.0;\"/><polygon fill=\"#383838\" points=\"65.35,173.34,67.3861,165.0421,61.4279,165.7494,65.35,173.34\" style=\"stroke: #383838; stroke-width: 1.0;\"/><text fill=\"#000000\" font-family=\"sans-serif\" font-size=\"13\" lengthAdjust=\"spacingAndGlyphs\" textLength=\"64\" x=\"65\" y=\"158.0669\">«depend»</text></a><!--MD5=[bfa3c8b0d15052fdf50ae9310b491027]\n",
       "link E8 to E7--><a href=\"psysml:aa53d009-eedf-4466-a7b8-b270a2d13479\" target=\"_top\" title=\"psysml:aa53d009-eedf-4466-a7b8-b270a2d13479\" xlink:actuate=\"onRequest\" xlink:href=\"psysml:aa53d009-eedf-4466-a7b8-b270a2d13479\" xlink:show=\"new\" xlink:title=\"psysml:aa53d009-eedf-4466-a7b8-b270a2d13479\" xlink:type=\"simple\"><path d=\"M134.19,133.57 C140.65,143.62 148.38,155.65 155.31,166.42 \" fill=\"none\" id=\"E8-&gt;E7\" style=\"stroke: #383838; stroke-width: 1.0; stroke-dasharray: 7.0,7.0;\"/><polygon fill=\"#383838\" points=\"159.72,173.29,157.9148,164.9389,152.8688,168.185,159.72,173.29\" style=\"stroke: #383838; stroke-width: 1.0;\"/><text fill=\"#000000\" font-family=\"sans-serif\" font-size=\"13\" lengthAdjust=\"spacingAndGlyphs\" textLength=\"64\" x=\"152\" y=\"158.0669\">«depend»</text></a><!--MD5=[e8385a828a702b8d7643bff6e8149469]\n",
       "@startuml\r\n",
       "skinparam ranksep 10\r\n",
       "skinparam rectangle {\r\n",
       " backgroundColor<<block>> LightGreen\r\n",
       "}\r\n",
       "skinparam linetype polyline\r\n",
       "skinparam monochrome true\r\n",
       "skinparam classbackgroundcolor white\r\n",
       "skinparam shadowing false\r\n",
       "skinparam wrapWidth 300\r\n",
       "hide circle\r\n",
       "\r\n",
       "package \"DependencyTest\" as E1  [[psysml:79533e77-94c2-4bae-8455-1b4d9ad0ac19 ]]  {\r\n",
       "package \"System\" as E2  [[psysml:aa959c9d-de71-4dee-a328-dce50e2c2738 ]]  {\r\n",
       "package \"Application Layer\" as E3  [[psysml:c86dacee-9d76-4d53-8a53-8574653b1f4e ]]  {\r\n",
       "}\r\n",
       "package \"Service Layer\" as E4  [[psysml:1c23a4b2-35e2-4e8a-96b6-0c0eddc8acf9 ]]  {\r\n",
       "}\r\n",
       "package \"Data Layer\" as E5  [[psysml:a642c0ba-468c-4345-a41b-ed6906c58c2e ]]  {\r\n",
       "}\r\n",
       "}\r\n",
       "comp usage \"x \" as E6  <<(T,blue) attribute>> [[psysml:002f54b6-1019-4822-b88b-c9a615e25b28 ]] {\r\n",
       "}\r\n",
       "comp usage \"y \" as E7  <<(T,blue) attribute>> [[psysml:5e659b03-2baa-4472-976b-b868f73bcda1 ]] {\r\n",
       "}\r\n",
       "comp usage \"z \" as E8  <<(T,blue) attribute>> [[psysml:17862b5a-aa19-4a09-bb5d-84a4c59b96ac ]] {\r\n",
       "}\r\n",
       "}\r\n",
       "E3 ..>> E4 [[psysml:e08fe20c-326f-4bf4-bdb1-9df0382c82e4 ]] : <<depend>>\r\n",
       "E4 ..>> E5 [[psysml:3bcf17b2-ef7a-4ff9-b082-cb17e1124f6a ]] : <<depend>>\r\n",
       "E8 ..>> E6 [[psysml:aa53d009-eedf-4466-a7b8-b270a2d13479 ]] : <<depend>>\r\n",
       "E8 ..>> E7 [[psysml:aa53d009-eedf-4466-a7b8-b270a2d13479 ]] : <<depend>>\r\n",
       "@enduml\r\n",
       "\n",
       "PlantUML version 1.2020.13(Sat Jun 13 12:26:38 UTC 2020)\n",
       "(EPL source distribution)\n",
       "Java Runtime: OpenJDK Runtime Environment\n",
       "JVM: OpenJDK 64-Bit Server VM\n",
       "Default Encoding: UTF-8\n",
       "Language: en\n",
       "Country: null\n",
       "--></g></svg>"
      ]
     },
     "execution_count": 12,
     "metadata": {},
     "output_type": "execute_result"
    }
   ],
   "source": [
    "%viz --style=\"POLYLINE\" --view=\"Interconnection\" \"DependencyTest\""
   ]
  },
  {
   "cell_type": "code",
   "execution_count": 13,
   "id": "14eab170",
   "metadata": {
    "execution": {
     "iopub.execute_input": "2021-12-15T15:15:19.857162Z",
     "iopub.status.busy": "2021-12-15T15:15:19.856825Z",
     "iopub.status.idle": "2021-12-15T15:15:19.863173Z",
     "shell.execute_reply": "2021-12-15T15:15:19.863500Z"
    }
   },
   "outputs": [
    {
     "data": {
      "image/svg+xml": [
       "<?xml version=\"1.0\" encoding=\"UTF-8\" standalone=\"no\"?><svg xmlns=\"http://www.w3.org/2000/svg\" xmlns:xlink=\"http://www.w3.org/1999/xlink\" contentScriptType=\"application/ecmascript\" contentStyleType=\"text/css\" height=\"12px\" preserveAspectRatio=\"none\" style=\"width:12px;height:12px;\" version=\"1.1\" viewBox=\"0 0 12 12\" width=\"12px\" zoomAndPan=\"magnify\"><defs/><g><!--MD5=[97bbf32f66ccd50cbc40d92ea8f5a65e]\n",
       "@startuml\r\n",
       "skinparam ranksep 8\r\n",
       "skinparam linetype polyline\r\n",
       "skinparam monochrome true\r\n",
       "skinparam classbackgroundcolor white\r\n",
       "skinparam shadowing false\r\n",
       "skinparam wrapWidth 300\r\n",
       "hide circle\r\n",
       "\r\n",
       "@enduml\r\n",
       "\n",
       "PlantUML version 1.2020.13(Sat Jun 13 12:26:38 UTC 2020)\n",
       "(EPL source distribution)\n",
       "Java Runtime: OpenJDK Runtime Environment\n",
       "JVM: OpenJDK 64-Bit Server VM\n",
       "Default Encoding: UTF-8\n",
       "Language: en\n",
       "Country: null\n",
       "--></g></svg>"
      ]
     },
     "execution_count": 13,
     "metadata": {},
     "output_type": "execute_result"
    }
   ],
   "source": [
    "%viz --style=\"POLYLINE\" --view=\"Action\" \"DependencyTest\""
   ]
  },
  {
   "cell_type": "code",
   "execution_count": 14,
   "id": "30ad2706",
   "metadata": {
    "execution": {
     "iopub.execute_input": "2021-12-15T15:15:19.913146Z",
     "iopub.status.busy": "2021-12-15T15:15:19.912801Z",
     "iopub.status.idle": "2021-12-15T15:15:19.918973Z",
     "shell.execute_reply": "2021-12-15T15:15:19.919293Z"
    }
   },
   "outputs": [
    {
     "data": {
      "image/svg+xml": [
       "<?xml version=\"1.0\" encoding=\"UTF-8\" standalone=\"no\"?><svg xmlns=\"http://www.w3.org/2000/svg\" xmlns:xlink=\"http://www.w3.org/1999/xlink\" contentScriptType=\"application/ecmascript\" contentStyleType=\"text/css\" height=\"12px\" preserveAspectRatio=\"none\" style=\"width:12px;height:12px;\" version=\"1.1\" viewBox=\"0 0 12 12\" width=\"12px\" zoomAndPan=\"magnify\"><defs/><g><!--MD5=[dc938048236c351797870c36b62f92ad]\n",
       "@startuml\r\n",
       "skinparam roundcorner 20\r\n",
       "skinparam BoxPadding 20\r\n",
       "skinparam SequenceBoxBackgroundColor #white\r\n",
       "skinparam style strictuml\r\n",
       "skinparam maxMessageSize 100\r\n",
       "skinparam linetype polyline\r\n",
       "skinparam monochrome true\r\n",
       "skinparam classbackgroundcolor white\r\n",
       "skinparam shadowing false\r\n",
       "skinparam wrapWidth 300\r\n",
       "hide circle\r\n",
       "\r\n",
       "@enduml\r\n",
       "\n",
       "PlantUML version 1.2020.13(Sat Jun 13 12:26:38 UTC 2020)\n",
       "(EPL source distribution)\n",
       "Java Runtime: OpenJDK Runtime Environment\n",
       "JVM: OpenJDK 64-Bit Server VM\n",
       "Default Encoding: UTF-8\n",
       "Language: en\n",
       "Country: null\n",
       "--></g></svg>"
      ]
     },
     "execution_count": 14,
     "metadata": {},
     "output_type": "execute_result"
    }
   ],
   "source": [
    "%viz --style=\"POLYLINE\" --view=\"Sequence\" \"DependencyTest\""
   ]
  },
  {
   "cell_type": "code",
   "execution_count": 15,
   "id": "ee60e520",
   "metadata": {
    "execution": {
     "iopub.execute_input": "2021-12-15T15:15:19.968740Z",
     "iopub.status.busy": "2021-12-15T15:15:19.968483Z",
     "iopub.status.idle": "2021-12-15T15:15:20.010891Z",
     "shell.execute_reply": "2021-12-15T15:15:20.010596Z"
    }
   },
   "outputs": [
    {
     "data": {
      "image/svg+xml": [
       "<?xml version=\"1.0\" encoding=\"UTF-8\" standalone=\"no\"?><svg xmlns=\"http://www.w3.org/2000/svg\" xmlns:xlink=\"http://www.w3.org/1999/xlink\" contentScriptType=\"application/ecmascript\" contentStyleType=\"text/css\" height=\"449px\" preserveAspectRatio=\"none\" style=\"width:469px;height:449px;\" version=\"1.1\" viewBox=\"0 0 469 449\" width=\"469px\" zoomAndPan=\"magnify\"><defs/><g><!--MD5=[fbc87193dbaf4d95561dea2c320d4a47]\n",
       "cluster E1--><a href=\"psysml:79533e77-94c2-4bae-8455-1b4d9ad0ac19\" target=\"_top\" title=\"psysml:79533e77-94c2-4bae-8455-1b4d9ad0ac19\" xlink:actuate=\"onRequest\" xlink:href=\"psysml:79533e77-94c2-4bae-8455-1b4d9ad0ac19\" xlink:show=\"new\" xlink:title=\"psysml:79533e77-94c2-4bae-8455-1b4d9ad0ac19\" xlink:type=\"simple\"><polygon fill=\"#FFFFFF\" points=\"16,6,142,6,149,28.2969,447,28.2969,447,437,16,437,16,6\" style=\"stroke: #000000; stroke-width: 1.5;\"/><line style=\"stroke: #000000; stroke-width: 1.5;\" x1=\"16\" x2=\"149\" y1=\"28.2969\" y2=\"28.2969\"/><text fill=\"#000000\" font-family=\"sans-serif\" font-size=\"14\" font-weight=\"bold\" lengthAdjust=\"spacingAndGlyphs\" textLength=\"120\" x=\"20\" y=\"20.9951\">DependencyTest</text></a><!--MD5=[e4f7fae6ed58524ba242bb0b0d3be6b7]\n",
       "cluster E2--><a href=\"psysml:aa959c9d-de71-4dee-a328-dce50e2c2738\" target=\"_top\" title=\"psysml:aa959c9d-de71-4dee-a328-dce50e2c2738\" xlink:actuate=\"onRequest\" xlink:href=\"psysml:aa959c9d-de71-4dee-a328-dce50e2c2738\" xlink:show=\"new\" xlink:title=\"psysml:aa959c9d-de71-4dee-a328-dce50e2c2738\" xlink:type=\"simple\"><polygon fill=\"#FFFFFF\" points=\"255,49,312,49,319,71.2969,423,71.2969,423,413,255,413,255,49\" style=\"stroke: #000000; stroke-width: 1.5;\"/><line style=\"stroke: #000000; stroke-width: 1.5;\" x1=\"255\" x2=\"319\" y1=\"71.2969\" y2=\"71.2969\"/><text fill=\"#000000\" font-family=\"sans-serif\" font-size=\"14\" font-weight=\"bold\" lengthAdjust=\"spacingAndGlyphs\" textLength=\"51\" x=\"259\" y=\"63.9951\">System</text></a><!--MD5=[60a26617385b1d2d0262a64233df1f8d]\n",
       "class E6--><a href=\"psysml:002f54b6-1019-4822-b88b-c9a615e25b28\" target=\"_top\" title=\"psysml:002f54b6-1019-4822-b88b-c9a615e25b28\" xlink:actuate=\"onRequest\" xlink:href=\"psysml:002f54b6-1019-4822-b88b-c9a615e25b28\" xlink:show=\"new\" xlink:title=\"psysml:002f54b6-1019-4822-b88b-c9a615e25b28\" xlink:type=\"simple\"><rect fill=\"#FFFFFF\" height=\"45.9375\" id=\"E6\" rx=\"10\" ry=\"10\" style=\"stroke: #383838; stroke-width: 1.5;\" width=\"71\" x=\"32.5\" y=\"217.5\"/><text fill=\"#000000\" font-family=\"sans-serif\" font-size=\"12\" font-style=\"italic\" lengthAdjust=\"spacingAndGlyphs\" textLength=\"69\" x=\"33.5\" y=\"233.6387\">«attribute»</text><text fill=\"#000000\" font-family=\"sans-serif\" font-size=\"12\" lengthAdjust=\"spacingAndGlyphs\" textLength=\"6\" x=\"63\" y=\"247.6074\">x</text><line style=\"stroke: #383838; stroke-width: 1.5;\" x1=\"33.5\" x2=\"102.5\" y1=\"255.4375\" y2=\"255.4375\"/></a><!--MD5=[2156ba9850f5573cc1fc38a6a4b2f02b]\n",
       "class E7--><a href=\"psysml:5e659b03-2baa-4472-976b-b868f73bcda1\" target=\"_top\" title=\"psysml:5e659b03-2baa-4472-976b-b868f73bcda1\" xlink:actuate=\"onRequest\" xlink:href=\"psysml:5e659b03-2baa-4472-976b-b868f73bcda1\" xlink:show=\"new\" xlink:title=\"psysml:5e659b03-2baa-4472-976b-b868f73bcda1\" xlink:type=\"simple\"><rect fill=\"#FFFFFF\" height=\"45.9375\" id=\"E7\" rx=\"10\" ry=\"10\" style=\"stroke: #383838; stroke-width: 1.5;\" width=\"71\" x=\"138.5\" y=\"217.5\"/><text fill=\"#000000\" font-family=\"sans-serif\" font-size=\"12\" font-style=\"italic\" lengthAdjust=\"spacingAndGlyphs\" textLength=\"69\" x=\"139.5\" y=\"233.6387\">«attribute»</text><text fill=\"#000000\" font-family=\"sans-serif\" font-size=\"12\" lengthAdjust=\"spacingAndGlyphs\" textLength=\"6\" x=\"169\" y=\"247.6074\">y</text><line style=\"stroke: #383838; stroke-width: 1.5;\" x1=\"139.5\" x2=\"208.5\" y1=\"255.4375\" y2=\"255.4375\"/></a><!--MD5=[b9389687b975829384b498ac4b7476b2]\n",
       "class E8--><a href=\"psysml:17862b5a-aa19-4a09-bb5d-84a4c59b96ac\" target=\"_top\" title=\"psysml:17862b5a-aa19-4a09-bb5d-84a4c59b96ac\" xlink:actuate=\"onRequest\" xlink:href=\"psysml:17862b5a-aa19-4a09-bb5d-84a4c59b96ac\" xlink:show=\"new\" xlink:title=\"psysml:17862b5a-aa19-4a09-bb5d-84a4c59b96ac\" xlink:type=\"simple\"><rect fill=\"#FFFFFF\" height=\"45.9375\" id=\"E8\" rx=\"10\" ry=\"10\" style=\"stroke: #383838; stroke-width: 1.5;\" width=\"71\" x=\"84.5\" y=\"87.5\"/><text fill=\"#000000\" font-family=\"sans-serif\" font-size=\"12\" font-style=\"italic\" lengthAdjust=\"spacingAndGlyphs\" textLength=\"69\" x=\"85.5\" y=\"103.6387\">«attribute»</text><text fill=\"#000000\" font-family=\"sans-serif\" font-size=\"12\" lengthAdjust=\"spacingAndGlyphs\" textLength=\"5\" x=\"115.5\" y=\"117.6074\">z</text><line style=\"stroke: #383838; stroke-width: 1.5;\" x1=\"85.5\" x2=\"154.5\" y1=\"125.4375\" y2=\"125.4375\"/></a><a href=\"psysml:c86dacee-9d76-4d53-8a53-8574653b1f4e\" target=\"_top\" title=\"psysml:c86dacee-9d76-4d53-8a53-8574653b1f4e\" xlink:actuate=\"onRequest\" xlink:href=\"psysml:c86dacee-9d76-4d53-8a53-8574653b1f4e\" xlink:show=\"new\" xlink:title=\"psysml:c86dacee-9d76-4d53-8a53-8574653b1f4e\" xlink:type=\"simple\"><polygon fill=\"#FFFFFF\" points=\"271.5,84,392.5,84,399.5,106.2969,406.5,106.2969,406.5,136.5938,271.5,136.5938,271.5,84\" style=\"stroke: #000000; stroke-width: 1.5;\"/><line style=\"stroke: #000000; stroke-width: 1.5;\" x1=\"271.5\" x2=\"399.5\" y1=\"106.2969\" y2=\"106.2969\"/><text fill=\"#000000\" font-family=\"sans-serif\" font-size=\"14\" font-weight=\"bold\" lengthAdjust=\"spacingAndGlyphs\" textLength=\"115\" x=\"275.5\" y=\"98.9951\">Application Layer</text></a><a href=\"psysml:1c23a4b2-35e2-4e8a-96b6-0c0eddc8acf9\" target=\"_top\" title=\"psysml:1c23a4b2-35e2-4e8a-96b6-0c0eddc8acf9\" xlink:actuate=\"onRequest\" xlink:href=\"psysml:1c23a4b2-35e2-4e8a-96b6-0c0eddc8acf9\" xlink:show=\"new\" xlink:title=\"psysml:1c23a4b2-35e2-4e8a-96b6-0c0eddc8acf9\" xlink:type=\"simple\"><polygon fill=\"#FFFFFF\" points=\"284,214,380,214,387,236.2969,394,236.2969,394,266.5938,284,266.5938,284,214\" style=\"stroke: #000000; stroke-width: 1.5;\"/><line style=\"stroke: #000000; stroke-width: 1.5;\" x1=\"284\" x2=\"387\" y1=\"236.2969\" y2=\"236.2969\"/><text fill=\"#000000\" font-family=\"sans-serif\" font-size=\"14\" font-weight=\"bold\" lengthAdjust=\"spacingAndGlyphs\" textLength=\"90\" x=\"288\" y=\"228.9951\">Service Layer</text></a><a href=\"psysml:a642c0ba-468c-4345-a41b-ed6906c58c2e\" target=\"_top\" title=\"psysml:a642c0ba-468c-4345-a41b-ed6906c58c2e\" xlink:actuate=\"onRequest\" xlink:href=\"psysml:a642c0ba-468c-4345-a41b-ed6906c58c2e\" xlink:show=\"new\" xlink:title=\"psysml:a642c0ba-468c-4345-a41b-ed6906c58c2e\" xlink:type=\"simple\"><polygon fill=\"#FFFFFF\" points=\"293,344,371,344,378,366.2969,385,366.2969,385,396.5938,293,396.5938,293,344\" style=\"stroke: #000000; stroke-width: 1.5;\"/><line style=\"stroke: #000000; stroke-width: 1.5;\" x1=\"293\" x2=\"378\" y1=\"366.2969\" y2=\"366.2969\"/><text fill=\"#000000\" font-family=\"sans-serif\" font-size=\"14\" font-weight=\"bold\" lengthAdjust=\"spacingAndGlyphs\" textLength=\"72\" x=\"297\" y=\"358.9951\">Data Layer</text></a><!--MD5=[af87c684e3b0d8be13c1a698a818ef1e]\n",
       "link E3 to E4--><a href=\"psysml:e08fe20c-326f-4bf4-bdb1-9df0382c82e4\" target=\"_top\" title=\"psysml:e08fe20c-326f-4bf4-bdb1-9df0382c82e4\" xlink:actuate=\"onRequest\" xlink:href=\"psysml:e08fe20c-326f-4bf4-bdb1-9df0382c82e4\" xlink:show=\"new\" xlink:title=\"psysml:e08fe20c-326f-4bf4-bdb1-9df0382c82e4\" xlink:type=\"simple\"><path d=\"M339,137.1 C339,156.8 339,184.22 339,205.73 \" fill=\"none\" id=\"E3-&gt;E4\" style=\"stroke: #383838; stroke-width: 1.0; stroke-dasharray: 7.0,7.0;\"/><polygon fill=\"#383838\" points=\"339,213.95,342,205.95,336,205.95,339,213.95\" style=\"stroke: #383838; stroke-width: 1.0;\"/><text fill=\"#000000\" font-family=\"sans-serif\" font-size=\"13\" lengthAdjust=\"spacingAndGlyphs\" textLength=\"64\" x=\"340\" y=\"180.0669\">«depend»</text></a><!--MD5=[1b7591eae5389033d8d09a9d6721a717]\n",
       "link E4 to E5--><a href=\"psysml:3bcf17b2-ef7a-4ff9-b082-cb17e1124f6a\" target=\"_top\" title=\"psysml:3bcf17b2-ef7a-4ff9-b082-cb17e1124f6a\" xlink:actuate=\"onRequest\" xlink:href=\"psysml:3bcf17b2-ef7a-4ff9-b082-cb17e1124f6a\" xlink:show=\"new\" xlink:title=\"psysml:3bcf17b2-ef7a-4ff9-b082-cb17e1124f6a\" xlink:type=\"simple\"><path d=\"M339,267.1 C339,286.8 339,314.22 339,335.73 \" fill=\"none\" id=\"E4-&gt;E5\" style=\"stroke: #383838; stroke-width: 1.0; stroke-dasharray: 7.0,7.0;\"/><polygon fill=\"#383838\" points=\"339,343.95,342,335.95,336,335.95,339,343.95\" style=\"stroke: #383838; stroke-width: 1.0;\"/><text fill=\"#000000\" font-family=\"sans-serif\" font-size=\"13\" lengthAdjust=\"spacingAndGlyphs\" textLength=\"64\" x=\"340\" y=\"310.0669\">«depend»</text></a><!--MD5=[c5e8897d989ce984f93528998a7150fe]\n",
       "link E8 to E6--><a href=\"psysml:aa53d009-eedf-4466-a7b8-b270a2d13479\" target=\"_top\" title=\"psysml:aa53d009-eedf-4466-a7b8-b270a2d13479\" xlink:actuate=\"onRequest\" xlink:href=\"psysml:aa53d009-eedf-4466-a7b8-b270a2d13479\" xlink:show=\"new\" xlink:title=\"psysml:aa53d009-eedf-4466-a7b8-b270a2d13479\" xlink:type=\"simple\"><path d=\"M97.55,133.75 C81.97,149.19 64,167 64,167 C64,167 64,184 64,184 C64,184 64.88,196.21 65.81,209.18 \" fill=\"none\" id=\"E8-&gt;E6\" style=\"stroke: #383838; stroke-width: 1.0; stroke-dasharray: 7.0,7.0;\"/><polygon fill=\"#383838\" points=\"66.4,217.25,68.8203,209.056,62.8357,209.485,66.4,217.25\" style=\"stroke: #383838; stroke-width: 1.0;\"/><text fill=\"#000000\" font-family=\"sans-serif\" font-size=\"13\" lengthAdjust=\"spacingAndGlyphs\" textLength=\"64\" x=\"65\" y=\"180.0669\">«depend»</text></a><!--MD5=[bfa3c8b0d15052fdf50ae9310b491027]\n",
       "link E8 to E7--><a href=\"psysml:aa53d009-eedf-4466-a7b8-b270a2d13479\" target=\"_top\" title=\"psysml:aa53d009-eedf-4466-a7b8-b270a2d13479\" xlink:actuate=\"onRequest\" xlink:href=\"psysml:aa53d009-eedf-4466-a7b8-b270a2d13479\" xlink:show=\"new\" xlink:title=\"psysml:aa53d009-eedf-4466-a7b8-b270a2d13479\" xlink:type=\"simple\"><path d=\"M129.28,133.5 C138.17,154.57 151.64,186.5 161.47,209.81 \" fill=\"none\" id=\"E8-&gt;E7\" style=\"stroke: #383838; stroke-width: 1.0; stroke-dasharray: 7.0,7.0;\"/><polygon fill=\"#383838\" points=\"164.66,217.35,164.3241,208.8126,158.7933,211.1385,164.66,217.35\" style=\"stroke: #383838; stroke-width: 1.0;\"/><text fill=\"#000000\" font-family=\"sans-serif\" font-size=\"13\" lengthAdjust=\"spacingAndGlyphs\" textLength=\"64\" x=\"151\" y=\"180.0669\">«depend»</text></a><!--MD5=[4f72fbd56a48ed7543b0db35451cdd3f]\n",
       "@startuml\r\n",
       "skinparam linetype polyline\r\n",
       "skinparam monochrome true\r\n",
       "skinparam classbackgroundcolor white\r\n",
       "skinparam shadowing false\r\n",
       "skinparam wrapWidth 300\r\n",
       "hide circle\r\n",
       "\r\n",
       "package \"DependencyTest\" as E1  [[psysml:79533e77-94c2-4bae-8455-1b4d9ad0ac19 ]]  {\r\n",
       "package \"System\" as E2  [[psysml:aa959c9d-de71-4dee-a328-dce50e2c2738 ]]  {\r\n",
       "package \"Application Layer\" as E3  [[psysml:c86dacee-9d76-4d53-8a53-8574653b1f4e ]]  {\r\n",
       "}\r\n",
       "package \"Service Layer\" as E4  [[psysml:1c23a4b2-35e2-4e8a-96b6-0c0eddc8acf9 ]]  {\r\n",
       "}\r\n",
       "package \"Data Layer\" as E5  [[psysml:a642c0ba-468c-4345-a41b-ed6906c58c2e ]]  {\r\n",
       "}\r\n",
       "}\r\n",
       "comp usage \"x \" as E6  <<(T,blue) attribute>> [[psysml:002f54b6-1019-4822-b88b-c9a615e25b28 ]] {\r\n",
       "}\r\n",
       "comp usage \"y \" as E7  <<(T,blue) attribute>> [[psysml:5e659b03-2baa-4472-976b-b868f73bcda1 ]] {\r\n",
       "}\r\n",
       "comp usage \"z \" as E8  <<(T,blue) attribute>> [[psysml:17862b5a-aa19-4a09-bb5d-84a4c59b96ac ]] {\r\n",
       "}\r\n",
       "}\r\n",
       "E3 ..>> E4 [[psysml:e08fe20c-326f-4bf4-bdb1-9df0382c82e4 ]] : <<depend>>\r\n",
       "E4 ..>> E5 [[psysml:3bcf17b2-ef7a-4ff9-b082-cb17e1124f6a ]] : <<depend>>\r\n",
       "E8 ..>> E6 [[psysml:aa53d009-eedf-4466-a7b8-b270a2d13479 ]] : <<depend>>\r\n",
       "E8 ..>> E7 [[psysml:aa53d009-eedf-4466-a7b8-b270a2d13479 ]] : <<depend>>\r\n",
       "@enduml\r\n",
       "\n",
       "PlantUML version 1.2020.13(Sat Jun 13 12:26:38 UTC 2020)\n",
       "(EPL source distribution)\n",
       "Java Runtime: OpenJDK Runtime Environment\n",
       "JVM: OpenJDK 64-Bit Server VM\n",
       "Default Encoding: UTF-8\n",
       "Language: en\n",
       "Country: null\n",
       "--></g></svg>"
      ]
     },
     "execution_count": 15,
     "metadata": {},
     "output_type": "execute_result"
    }
   ],
   "source": [
    "%viz --style=\"POLYLINE\" --view=\"MIXED\" \"DependencyTest\""
   ]
  },
  {
   "cell_type": "code",
   "execution_count": 16,
   "id": "44a57e0c",
   "metadata": {
    "execution": {
     "iopub.execute_input": "2021-12-15T15:15:20.060593Z",
     "iopub.status.busy": "2021-12-15T15:15:20.060269Z",
     "iopub.status.idle": "2021-12-15T15:15:20.114083Z",
     "shell.execute_reply": "2021-12-15T15:15:20.113825Z"
    }
   },
   "outputs": [
    {
     "data": {
      "image/svg+xml": [
       "<?xml version=\"1.0\" encoding=\"UTF-8\" standalone=\"no\"?><svg xmlns=\"http://www.w3.org/2000/svg\" xmlns:xlink=\"http://www.w3.org/1999/xlink\" contentScriptType=\"application/ecmascript\" contentStyleType=\"text/css\" height=\"328px\" preserveAspectRatio=\"none\" style=\"width:707px;height:328px;\" version=\"1.1\" viewBox=\"0 0 707 328\" width=\"707px\" zoomAndPan=\"magnify\"><defs/><g><!--MD5=[fbc87193dbaf4d95561dea2c320d4a47]\n",
       "cluster E1--><a href=\"psysml:79533e77-94c2-4bae-8455-1b4d9ad0ac19\" target=\"_top\" title=\"psysml:79533e77-94c2-4bae-8455-1b4d9ad0ac19\" xlink:actuate=\"onRequest\" xlink:href=\"psysml:79533e77-94c2-4bae-8455-1b4d9ad0ac19\" xlink:show=\"new\" xlink:title=\"psysml:79533e77-94c2-4bae-8455-1b4d9ad0ac19\" xlink:type=\"simple\"><polygon fill=\"#FFFFFF\" points=\"16,6,142,6,149,28.2969,685,28.2969,685,316,16,316,16,6\" style=\"stroke: #000000; stroke-width: 1.5;\"/><line style=\"stroke: #000000; stroke-width: 1.5;\" x1=\"16\" x2=\"149\" y1=\"28.2969\" y2=\"28.2969\"/><text fill=\"#000000\" font-family=\"sans-serif\" font-size=\"14\" font-weight=\"bold\" lengthAdjust=\"spacingAndGlyphs\" textLength=\"120\" x=\"20\" y=\"20.9951\">DependencyTest</text></a><!--MD5=[e4f7fae6ed58524ba242bb0b0d3be6b7]\n",
       "cluster E2--><a href=\"psysml:aa959c9d-de71-4dee-a328-dce50e2c2738\" target=\"_top\" title=\"psysml:aa959c9d-de71-4dee-a328-dce50e2c2738\" xlink:actuate=\"onRequest\" xlink:href=\"psysml:aa959c9d-de71-4dee-a328-dce50e2c2738\" xlink:show=\"new\" xlink:title=\"psysml:aa959c9d-de71-4dee-a328-dce50e2c2738\" xlink:type=\"simple\"><polygon fill=\"#FFFFFF\" points=\"40,49,97,49,104,71.2969,661,71.2969,661,154,40,154,40,49\" style=\"stroke: #000000; stroke-width: 1.5;\"/><line style=\"stroke: #000000; stroke-width: 1.5;\" x1=\"40\" x2=\"104\" y1=\"71.2969\" y2=\"71.2969\"/><text fill=\"#000000\" font-family=\"sans-serif\" font-size=\"14\" font-weight=\"bold\" lengthAdjust=\"spacingAndGlyphs\" textLength=\"51\" x=\"44\" y=\"63.9951\">System</text></a><!--MD5=[60a26617385b1d2d0262a64233df1f8d]\n",
       "class E6--><a href=\"psysml:002f54b6-1019-4822-b88b-c9a615e25b28\" target=\"_top\" title=\"psysml:002f54b6-1019-4822-b88b-c9a615e25b28\" xlink:actuate=\"onRequest\" xlink:href=\"psysml:002f54b6-1019-4822-b88b-c9a615e25b28\" xlink:show=\"new\" xlink:title=\"psysml:002f54b6-1019-4822-b88b-c9a615e25b28\" xlink:type=\"simple\"><rect fill=\"#FFFFFF\" height=\"45.9375\" id=\"E6\" rx=\"10\" ry=\"10\" style=\"stroke: #383838; stroke-width: 1.5;\" width=\"71\" x=\"336.5\" y=\"254\"/><text fill=\"#000000\" font-family=\"sans-serif\" font-size=\"12\" font-style=\"italic\" lengthAdjust=\"spacingAndGlyphs\" textLength=\"69\" x=\"337.5\" y=\"270.1387\">«attribute»</text><text fill=\"#000000\" font-family=\"sans-serif\" font-size=\"12\" lengthAdjust=\"spacingAndGlyphs\" textLength=\"6\" x=\"367\" y=\"284.1074\">x</text><line style=\"stroke: #383838; stroke-width: 1.5;\" x1=\"337.5\" x2=\"406.5\" y1=\"291.9375\" y2=\"291.9375\"/></a><!--MD5=[2156ba9850f5573cc1fc38a6a4b2f02b]\n",
       "class E7--><a href=\"psysml:5e659b03-2baa-4472-976b-b868f73bcda1\" target=\"_top\" title=\"psysml:5e659b03-2baa-4472-976b-b868f73bcda1\" xlink:actuate=\"onRequest\" xlink:href=\"psysml:5e659b03-2baa-4472-976b-b868f73bcda1\" xlink:show=\"new\" xlink:title=\"psysml:5e659b03-2baa-4472-976b-b868f73bcda1\" xlink:type=\"simple\"><rect fill=\"#FFFFFF\" height=\"45.9375\" id=\"E7\" rx=\"10\" ry=\"10\" style=\"stroke: #383838; stroke-width: 1.5;\" width=\"71\" x=\"336.5\" y=\"173\"/><text fill=\"#000000\" font-family=\"sans-serif\" font-size=\"12\" font-style=\"italic\" lengthAdjust=\"spacingAndGlyphs\" textLength=\"69\" x=\"337.5\" y=\"189.1387\">«attribute»</text><text fill=\"#000000\" font-family=\"sans-serif\" font-size=\"12\" lengthAdjust=\"spacingAndGlyphs\" textLength=\"6\" x=\"367\" y=\"203.1074\">y</text><line style=\"stroke: #383838; stroke-width: 1.5;\" x1=\"337.5\" x2=\"406.5\" y1=\"210.9375\" y2=\"210.9375\"/></a><!--MD5=[b9389687b975829384b498ac4b7476b2]\n",
       "class E8--><a href=\"psysml:17862b5a-aa19-4a09-bb5d-84a4c59b96ac\" target=\"_top\" title=\"psysml:17862b5a-aa19-4a09-bb5d-84a4c59b96ac\" xlink:actuate=\"onRequest\" xlink:href=\"psysml:17862b5a-aa19-4a09-bb5d-84a4c59b96ac\" xlink:show=\"new\" xlink:title=\"psysml:17862b5a-aa19-4a09-bb5d-84a4c59b96ac\" xlink:type=\"simple\"><rect fill=\"#FFFFFF\" height=\"45.9375\" id=\"E8\" rx=\"10\" ry=\"10\" style=\"stroke: #383838; stroke-width: 1.5;\" width=\"71\" x=\"88\" y=\"206\"/><text fill=\"#000000\" font-family=\"sans-serif\" font-size=\"12\" font-style=\"italic\" lengthAdjust=\"spacingAndGlyphs\" textLength=\"69\" x=\"89\" y=\"222.1387\">«attribute»</text><text fill=\"#000000\" font-family=\"sans-serif\" font-size=\"12\" lengthAdjust=\"spacingAndGlyphs\" textLength=\"5\" x=\"119\" y=\"236.1074\">z</text><line style=\"stroke: #383838; stroke-width: 1.5;\" x1=\"89\" x2=\"158\" y1=\"243.9375\" y2=\"243.9375\"/></a><a href=\"psysml:c86dacee-9d76-4d53-8a53-8574653b1f4e\" target=\"_top\" title=\"psysml:c86dacee-9d76-4d53-8a53-8574653b1f4e\" xlink:actuate=\"onRequest\" xlink:href=\"psysml:c86dacee-9d76-4d53-8a53-8574653b1f4e\" xlink:show=\"new\" xlink:title=\"psysml:c86dacee-9d76-4d53-8a53-8574653b1f4e\" xlink:type=\"simple\"><polygon fill=\"#FFFFFF\" points=\"56,84.5,177,84.5,184,106.7969,191,106.7969,191,137.0938,56,137.0938,56,84.5\" style=\"stroke: #000000; stroke-width: 1.5;\"/><line style=\"stroke: #000000; stroke-width: 1.5;\" x1=\"56\" x2=\"184\" y1=\"106.7969\" y2=\"106.7969\"/><text fill=\"#000000\" font-family=\"sans-serif\" font-size=\"14\" font-weight=\"bold\" lengthAdjust=\"spacingAndGlyphs\" textLength=\"115\" x=\"60\" y=\"99.4951\">Application Layer</text></a><a href=\"psysml:1c23a4b2-35e2-4e8a-96b6-0c0eddc8acf9\" target=\"_top\" title=\"psysml:1c23a4b2-35e2-4e8a-96b6-0c0eddc8acf9\" xlink:actuate=\"onRequest\" xlink:href=\"psysml:1c23a4b2-35e2-4e8a-96b6-0c0eddc8acf9\" xlink:show=\"new\" xlink:title=\"psysml:1c23a4b2-35e2-4e8a-96b6-0c0eddc8acf9\" xlink:type=\"simple\"><polygon fill=\"#FFFFFF\" points=\"317,84.5,413,84.5,420,106.7969,427,106.7969,427,137.0938,317,137.0938,317,84.5\" style=\"stroke: #000000; stroke-width: 1.5;\"/><line style=\"stroke: #000000; stroke-width: 1.5;\" x1=\"317\" x2=\"420\" y1=\"106.7969\" y2=\"106.7969\"/><text fill=\"#000000\" font-family=\"sans-serif\" font-size=\"14\" font-weight=\"bold\" lengthAdjust=\"spacingAndGlyphs\" textLength=\"90\" x=\"321\" y=\"99.4951\">Service Layer</text></a><a href=\"psysml:a642c0ba-468c-4345-a41b-ed6906c58c2e\" target=\"_top\" title=\"psysml:a642c0ba-468c-4345-a41b-ed6906c58c2e\" xlink:actuate=\"onRequest\" xlink:href=\"psysml:a642c0ba-468c-4345-a41b-ed6906c58c2e\" xlink:show=\"new\" xlink:title=\"psysml:a642c0ba-468c-4345-a41b-ed6906c58c2e\" xlink:type=\"simple\"><polygon fill=\"#FFFFFF\" points=\"553,84.5,631,84.5,638,106.7969,645,106.7969,645,137.0938,553,137.0938,553,84.5\" style=\"stroke: #000000; stroke-width: 1.5;\"/><line style=\"stroke: #000000; stroke-width: 1.5;\" x1=\"553\" x2=\"638\" y1=\"106.7969\" y2=\"106.7969\"/><text fill=\"#000000\" font-family=\"sans-serif\" font-size=\"14\" font-weight=\"bold\" lengthAdjust=\"spacingAndGlyphs\" textLength=\"72\" x=\"557\" y=\"99.4951\">Data Layer</text></a><!--MD5=[af87c684e3b0d8be13c1a698a818ef1e]\n",
       "link E3 to E4--><a href=\"psysml:e08fe20c-326f-4bf4-bdb1-9df0382c82e4\" target=\"_top\" title=\"psysml:e08fe20c-326f-4bf4-bdb1-9df0382c82e4\" xlink:actuate=\"onRequest\" xlink:href=\"psysml:e08fe20c-326f-4bf4-bdb1-9df0382c82e4\" xlink:show=\"new\" xlink:title=\"psysml:e08fe20c-326f-4bf4-bdb1-9df0382c82e4\" xlink:type=\"simple\"><path d=\"M191.21,111 C227.64,111 272.49,111 308.28,111 \" fill=\"none\" id=\"E3-&gt;E4\" style=\"stroke: #383838; stroke-width: 1.0; stroke-dasharray: 7.0,7.0;\"/><polygon fill=\"#383838\" points=\"316.7,111,308.7,108,308.7,114,316.7,111\" style=\"stroke: #383838; stroke-width: 1.0;\"/><text fill=\"#000000\" font-family=\"sans-serif\" font-size=\"13\" lengthAdjust=\"spacingAndGlyphs\" textLength=\"64\" x=\"222\" y=\"107.0669\">«depend»</text></a><!--MD5=[1b7591eae5389033d8d09a9d6721a717]\n",
       "link E4 to E5--><a href=\"psysml:3bcf17b2-ef7a-4ff9-b082-cb17e1124f6a\" target=\"_top\" title=\"psysml:3bcf17b2-ef7a-4ff9-b082-cb17e1124f6a\" xlink:actuate=\"onRequest\" xlink:href=\"psysml:3bcf17b2-ef7a-4ff9-b082-cb17e1124f6a\" xlink:show=\"new\" xlink:title=\"psysml:3bcf17b2-ef7a-4ff9-b082-cb17e1124f6a\" xlink:type=\"simple\"><path d=\"M427.18,111 C462.81,111 509.24,111 544.69,111 \" fill=\"none\" id=\"E4-&gt;E5\" style=\"stroke: #383838; stroke-width: 1.0; stroke-dasharray: 7.0,7.0;\"/><polygon fill=\"#383838\" points=\"553,111,545,108,545,114,553,111\" style=\"stroke: #383838; stroke-width: 1.0;\"/><text fill=\"#000000\" font-family=\"sans-serif\" font-size=\"13\" lengthAdjust=\"spacingAndGlyphs\" textLength=\"64\" x=\"458\" y=\"107.0669\">«depend»</text></a><!--MD5=[c5e8897d989ce984f93528998a7150fe]\n",
       "link E8 to E6--><a href=\"psysml:aa53d009-eedf-4466-a7b8-b270a2d13479\" target=\"_top\" title=\"psysml:aa53d009-eedf-4466-a7b8-b270a2d13479\" xlink:actuate=\"onRequest\" xlink:href=\"psysml:aa53d009-eedf-4466-a7b8-b270a2d13479\" xlink:show=\"new\" xlink:title=\"psysml:aa53d009-eedf-4466-a7b8-b270a2d13479\" xlink:type=\"simple\"><path d=\"M159.03,235.72 C203.37,244.36 280.3,259.34 328.28,268.68 \" fill=\"none\" id=\"E8-&gt;E6\" style=\"stroke: #383838; stroke-width: 1.0; stroke-dasharray: 7.0,7.0;\"/><polygon fill=\"#383838\" points=\"336.3,270.24,329.0216,265.765,327.8738,271.6542,336.3,270.24\" style=\"stroke: #383838; stroke-width: 1.0;\"/><text fill=\"#000000\" font-family=\"sans-serif\" font-size=\"13\" lengthAdjust=\"spacingAndGlyphs\" textLength=\"64\" x=\"222\" y=\"245.0669\">«depend»</text></a><!--MD5=[bfa3c8b0d15052fdf50ae9310b491027]\n",
       "link E8 to E7--><a href=\"psysml:aa53d009-eedf-4466-a7b8-b270a2d13479\" target=\"_top\" title=\"psysml:aa53d009-eedf-4466-a7b8-b270a2d13479\" xlink:actuate=\"onRequest\" xlink:href=\"psysml:aa53d009-eedf-4466-a7b8-b270a2d13479\" xlink:show=\"new\" xlink:title=\"psysml:aa53d009-eedf-4466-a7b8-b270a2d13479\" xlink:type=\"simple\"><path d=\"M159.03,224.38 C203.37,218.44 280.3,208.14 328.28,201.72 \" fill=\"none\" id=\"E8-&gt;E7\" style=\"stroke: #383838; stroke-width: 1.0; stroke-dasharray: 7.0,7.0;\"/><polygon fill=\"#383838\" points=\"336.3,200.65,327.9737,198.7336,328.7667,204.681,336.3,200.65\" style=\"stroke: #383838; stroke-width: 1.0;\"/><text fill=\"#000000\" font-family=\"sans-serif\" font-size=\"13\" lengthAdjust=\"spacingAndGlyphs\" textLength=\"64\" x=\"222\" y=\"204.0669\">«depend»</text></a><!--MD5=[81ad75ced144f04ddfae6e4f227b5cad]\n",
       "@startuml\r\n",
       "left to right direction\r\n",
       "skinparam monochrome true\r\n",
       "skinparam classbackgroundcolor white\r\n",
       "skinparam shadowing false\r\n",
       "skinparam wrapWidth 300\r\n",
       "hide circle\r\n",
       "\r\n",
       "package \"DependencyTest\" as E1  [[psysml:79533e77-94c2-4bae-8455-1b4d9ad0ac19 ]]  {\r\n",
       "package \"System\" as E2  [[psysml:aa959c9d-de71-4dee-a328-dce50e2c2738 ]]  {\r\n",
       "package \"Application Layer\" as E3  [[psysml:c86dacee-9d76-4d53-8a53-8574653b1f4e ]]  {\r\n",
       "}\r\n",
       "package \"Service Layer\" as E4  [[psysml:1c23a4b2-35e2-4e8a-96b6-0c0eddc8acf9 ]]  {\r\n",
       "}\r\n",
       "package \"Data Layer\" as E5  [[psysml:a642c0ba-468c-4345-a41b-ed6906c58c2e ]]  {\r\n",
       "}\r\n",
       "}\r\n",
       "comp usage \"x \" as E6  <<(T,blue) attribute>> [[psysml:002f54b6-1019-4822-b88b-c9a615e25b28 ]] {\r\n",
       "}\r\n",
       "comp usage \"y \" as E7  <<(T,blue) attribute>> [[psysml:5e659b03-2baa-4472-976b-b868f73bcda1 ]] {\r\n",
       "}\r\n",
       "comp usage \"z \" as E8  <<(T,blue) attribute>> [[psysml:17862b5a-aa19-4a09-bb5d-84a4c59b96ac ]] {\r\n",
       "}\r\n",
       "}\r\n",
       "E3 ..>> E4 [[psysml:e08fe20c-326f-4bf4-bdb1-9df0382c82e4 ]] : <<depend>>\r\n",
       "E4 ..>> E5 [[psysml:3bcf17b2-ef7a-4ff9-b082-cb17e1124f6a ]] : <<depend>>\r\n",
       "E8 ..>> E6 [[psysml:aa53d009-eedf-4466-a7b8-b270a2d13479 ]] : <<depend>>\r\n",
       "E8 ..>> E7 [[psysml:aa53d009-eedf-4466-a7b8-b270a2d13479 ]] : <<depend>>\r\n",
       "@enduml\r\n",
       "\n",
       "PlantUML version 1.2020.13(Sat Jun 13 12:26:38 UTC 2020)\n",
       "(EPL source distribution)\n",
       "Java Runtime: OpenJDK Runtime Environment\n",
       "JVM: OpenJDK 64-Bit Server VM\n",
       "Default Encoding: UTF-8\n",
       "Language: en\n",
       "Country: null\n",
       "--></g></svg>"
      ]
     },
     "execution_count": 16,
     "metadata": {},
     "output_type": "execute_result"
    }
   ],
   "source": [
    "%viz --style=\"LR\" --view=\"Default\" \"DependencyTest\""
   ]
  },
  {
   "cell_type": "code",
   "execution_count": 17,
   "id": "94c45e62",
   "metadata": {
    "execution": {
     "iopub.execute_input": "2021-12-15T15:15:20.163892Z",
     "iopub.status.busy": "2021-12-15T15:15:20.163473Z",
     "iopub.status.idle": "2021-12-15T15:15:20.203294Z",
     "shell.execute_reply": "2021-12-15T15:15:20.202949Z"
    }
   },
   "outputs": [
    {
     "data": {
      "image/svg+xml": [
       "<?xml version=\"1.0\" encoding=\"UTF-8\" standalone=\"no\"?><svg xmlns=\"http://www.w3.org/2000/svg\" xmlns:xlink=\"http://www.w3.org/1999/xlink\" contentScriptType=\"application/ecmascript\" contentStyleType=\"text/css\" height=\"328px\" preserveAspectRatio=\"none\" style=\"width:707px;height:328px;\" version=\"1.1\" viewBox=\"0 0 707 328\" width=\"707px\" zoomAndPan=\"magnify\"><defs/><g><!--MD5=[fbc87193dbaf4d95561dea2c320d4a47]\n",
       "cluster E1--><a href=\"psysml:79533e77-94c2-4bae-8455-1b4d9ad0ac19\" target=\"_top\" title=\"psysml:79533e77-94c2-4bae-8455-1b4d9ad0ac19\" xlink:actuate=\"onRequest\" xlink:href=\"psysml:79533e77-94c2-4bae-8455-1b4d9ad0ac19\" xlink:show=\"new\" xlink:title=\"psysml:79533e77-94c2-4bae-8455-1b4d9ad0ac19\" xlink:type=\"simple\"><polygon fill=\"#FFFFFF\" points=\"16,6,142,6,149,28.2969,685,28.2969,685,316,16,316,16,6\" style=\"stroke: #000000; stroke-width: 1.5;\"/><line style=\"stroke: #000000; stroke-width: 1.5;\" x1=\"16\" x2=\"149\" y1=\"28.2969\" y2=\"28.2969\"/><text fill=\"#000000\" font-family=\"sans-serif\" font-size=\"14\" font-weight=\"bold\" lengthAdjust=\"spacingAndGlyphs\" textLength=\"120\" x=\"20\" y=\"20.9951\">DependencyTest</text></a><!--MD5=[e4f7fae6ed58524ba242bb0b0d3be6b7]\n",
       "cluster E2--><a href=\"psysml:aa959c9d-de71-4dee-a328-dce50e2c2738\" target=\"_top\" title=\"psysml:aa959c9d-de71-4dee-a328-dce50e2c2738\" xlink:actuate=\"onRequest\" xlink:href=\"psysml:aa959c9d-de71-4dee-a328-dce50e2c2738\" xlink:show=\"new\" xlink:title=\"psysml:aa959c9d-de71-4dee-a328-dce50e2c2738\" xlink:type=\"simple\"><polygon fill=\"#FFFFFF\" points=\"40,49,97,49,104,71.2969,661,71.2969,661,154,40,154,40,49\" style=\"stroke: #000000; stroke-width: 1.5;\"/><line style=\"stroke: #000000; stroke-width: 1.5;\" x1=\"40\" x2=\"104\" y1=\"71.2969\" y2=\"71.2969\"/><text fill=\"#000000\" font-family=\"sans-serif\" font-size=\"14\" font-weight=\"bold\" lengthAdjust=\"spacingAndGlyphs\" textLength=\"51\" x=\"44\" y=\"63.9951\">System</text></a><!--MD5=[60a26617385b1d2d0262a64233df1f8d]\n",
       "class E6--><a href=\"psysml:002f54b6-1019-4822-b88b-c9a615e25b28\" target=\"_top\" title=\"psysml:002f54b6-1019-4822-b88b-c9a615e25b28\" xlink:actuate=\"onRequest\" xlink:href=\"psysml:002f54b6-1019-4822-b88b-c9a615e25b28\" xlink:show=\"new\" xlink:title=\"psysml:002f54b6-1019-4822-b88b-c9a615e25b28\" xlink:type=\"simple\"><rect fill=\"#FFFFFF\" height=\"45.9375\" id=\"E6\" rx=\"10\" ry=\"10\" style=\"stroke: #383838; stroke-width: 1.5;\" width=\"71\" x=\"336.5\" y=\"254\"/><text fill=\"#000000\" font-family=\"sans-serif\" font-size=\"12\" font-style=\"italic\" lengthAdjust=\"spacingAndGlyphs\" textLength=\"69\" x=\"337.5\" y=\"270.1387\">«attribute»</text><text fill=\"#000000\" font-family=\"sans-serif\" font-size=\"12\" lengthAdjust=\"spacingAndGlyphs\" textLength=\"6\" x=\"367\" y=\"284.1074\">x</text><line style=\"stroke: #383838; stroke-width: 1.5;\" x1=\"337.5\" x2=\"406.5\" y1=\"291.9375\" y2=\"291.9375\"/></a><!--MD5=[2156ba9850f5573cc1fc38a6a4b2f02b]\n",
       "class E7--><a href=\"psysml:5e659b03-2baa-4472-976b-b868f73bcda1\" target=\"_top\" title=\"psysml:5e659b03-2baa-4472-976b-b868f73bcda1\" xlink:actuate=\"onRequest\" xlink:href=\"psysml:5e659b03-2baa-4472-976b-b868f73bcda1\" xlink:show=\"new\" xlink:title=\"psysml:5e659b03-2baa-4472-976b-b868f73bcda1\" xlink:type=\"simple\"><rect fill=\"#FFFFFF\" height=\"45.9375\" id=\"E7\" rx=\"10\" ry=\"10\" style=\"stroke: #383838; stroke-width: 1.5;\" width=\"71\" x=\"336.5\" y=\"173\"/><text fill=\"#000000\" font-family=\"sans-serif\" font-size=\"12\" font-style=\"italic\" lengthAdjust=\"spacingAndGlyphs\" textLength=\"69\" x=\"337.5\" y=\"189.1387\">«attribute»</text><text fill=\"#000000\" font-family=\"sans-serif\" font-size=\"12\" lengthAdjust=\"spacingAndGlyphs\" textLength=\"6\" x=\"367\" y=\"203.1074\">y</text><line style=\"stroke: #383838; stroke-width: 1.5;\" x1=\"337.5\" x2=\"406.5\" y1=\"210.9375\" y2=\"210.9375\"/></a><!--MD5=[b9389687b975829384b498ac4b7476b2]\n",
       "class E8--><a href=\"psysml:17862b5a-aa19-4a09-bb5d-84a4c59b96ac\" target=\"_top\" title=\"psysml:17862b5a-aa19-4a09-bb5d-84a4c59b96ac\" xlink:actuate=\"onRequest\" xlink:href=\"psysml:17862b5a-aa19-4a09-bb5d-84a4c59b96ac\" xlink:show=\"new\" xlink:title=\"psysml:17862b5a-aa19-4a09-bb5d-84a4c59b96ac\" xlink:type=\"simple\"><rect fill=\"#FFFFFF\" height=\"45.9375\" id=\"E8\" rx=\"10\" ry=\"10\" style=\"stroke: #383838; stroke-width: 1.5;\" width=\"71\" x=\"88\" y=\"206\"/><text fill=\"#000000\" font-family=\"sans-serif\" font-size=\"12\" font-style=\"italic\" lengthAdjust=\"spacingAndGlyphs\" textLength=\"69\" x=\"89\" y=\"222.1387\">«attribute»</text><text fill=\"#000000\" font-family=\"sans-serif\" font-size=\"12\" lengthAdjust=\"spacingAndGlyphs\" textLength=\"5\" x=\"119\" y=\"236.1074\">z</text><line style=\"stroke: #383838; stroke-width: 1.5;\" x1=\"89\" x2=\"158\" y1=\"243.9375\" y2=\"243.9375\"/></a><a href=\"psysml:c86dacee-9d76-4d53-8a53-8574653b1f4e\" target=\"_top\" title=\"psysml:c86dacee-9d76-4d53-8a53-8574653b1f4e\" xlink:actuate=\"onRequest\" xlink:href=\"psysml:c86dacee-9d76-4d53-8a53-8574653b1f4e\" xlink:show=\"new\" xlink:title=\"psysml:c86dacee-9d76-4d53-8a53-8574653b1f4e\" xlink:type=\"simple\"><polygon fill=\"#FFFFFF\" points=\"56,84.5,177,84.5,184,106.7969,191,106.7969,191,137.0938,56,137.0938,56,84.5\" style=\"stroke: #000000; stroke-width: 1.5;\"/><line style=\"stroke: #000000; stroke-width: 1.5;\" x1=\"56\" x2=\"184\" y1=\"106.7969\" y2=\"106.7969\"/><text fill=\"#000000\" font-family=\"sans-serif\" font-size=\"14\" font-weight=\"bold\" lengthAdjust=\"spacingAndGlyphs\" textLength=\"115\" x=\"60\" y=\"99.4951\">Application Layer</text></a><a href=\"psysml:1c23a4b2-35e2-4e8a-96b6-0c0eddc8acf9\" target=\"_top\" title=\"psysml:1c23a4b2-35e2-4e8a-96b6-0c0eddc8acf9\" xlink:actuate=\"onRequest\" xlink:href=\"psysml:1c23a4b2-35e2-4e8a-96b6-0c0eddc8acf9\" xlink:show=\"new\" xlink:title=\"psysml:1c23a4b2-35e2-4e8a-96b6-0c0eddc8acf9\" xlink:type=\"simple\"><polygon fill=\"#FFFFFF\" points=\"317,84.5,413,84.5,420,106.7969,427,106.7969,427,137.0938,317,137.0938,317,84.5\" style=\"stroke: #000000; stroke-width: 1.5;\"/><line style=\"stroke: #000000; stroke-width: 1.5;\" x1=\"317\" x2=\"420\" y1=\"106.7969\" y2=\"106.7969\"/><text fill=\"#000000\" font-family=\"sans-serif\" font-size=\"14\" font-weight=\"bold\" lengthAdjust=\"spacingAndGlyphs\" textLength=\"90\" x=\"321\" y=\"99.4951\">Service Layer</text></a><a href=\"psysml:a642c0ba-468c-4345-a41b-ed6906c58c2e\" target=\"_top\" title=\"psysml:a642c0ba-468c-4345-a41b-ed6906c58c2e\" xlink:actuate=\"onRequest\" xlink:href=\"psysml:a642c0ba-468c-4345-a41b-ed6906c58c2e\" xlink:show=\"new\" xlink:title=\"psysml:a642c0ba-468c-4345-a41b-ed6906c58c2e\" xlink:type=\"simple\"><polygon fill=\"#FFFFFF\" points=\"553,84.5,631,84.5,638,106.7969,645,106.7969,645,137.0938,553,137.0938,553,84.5\" style=\"stroke: #000000; stroke-width: 1.5;\"/><line style=\"stroke: #000000; stroke-width: 1.5;\" x1=\"553\" x2=\"638\" y1=\"106.7969\" y2=\"106.7969\"/><text fill=\"#000000\" font-family=\"sans-serif\" font-size=\"14\" font-weight=\"bold\" lengthAdjust=\"spacingAndGlyphs\" textLength=\"72\" x=\"557\" y=\"99.4951\">Data Layer</text></a><!--MD5=[af87c684e3b0d8be13c1a698a818ef1e]\n",
       "link E3 to E4--><a href=\"psysml:e08fe20c-326f-4bf4-bdb1-9df0382c82e4\" target=\"_top\" title=\"psysml:e08fe20c-326f-4bf4-bdb1-9df0382c82e4\" xlink:actuate=\"onRequest\" xlink:href=\"psysml:e08fe20c-326f-4bf4-bdb1-9df0382c82e4\" xlink:show=\"new\" xlink:title=\"psysml:e08fe20c-326f-4bf4-bdb1-9df0382c82e4\" xlink:type=\"simple\"><path d=\"M191.21,111 C227.64,111 272.49,111 308.28,111 \" fill=\"none\" id=\"E3-&gt;E4\" style=\"stroke: #383838; stroke-width: 1.0; stroke-dasharray: 7.0,7.0;\"/><polygon fill=\"#383838\" points=\"316.7,111,308.7,108,308.7,114,316.7,111\" style=\"stroke: #383838; stroke-width: 1.0;\"/><text fill=\"#000000\" font-family=\"sans-serif\" font-size=\"13\" lengthAdjust=\"spacingAndGlyphs\" textLength=\"64\" x=\"222\" y=\"107.0669\">«depend»</text></a><!--MD5=[1b7591eae5389033d8d09a9d6721a717]\n",
       "link E4 to E5--><a href=\"psysml:3bcf17b2-ef7a-4ff9-b082-cb17e1124f6a\" target=\"_top\" title=\"psysml:3bcf17b2-ef7a-4ff9-b082-cb17e1124f6a\" xlink:actuate=\"onRequest\" xlink:href=\"psysml:3bcf17b2-ef7a-4ff9-b082-cb17e1124f6a\" xlink:show=\"new\" xlink:title=\"psysml:3bcf17b2-ef7a-4ff9-b082-cb17e1124f6a\" xlink:type=\"simple\"><path d=\"M427.18,111 C462.81,111 509.24,111 544.69,111 \" fill=\"none\" id=\"E4-&gt;E5\" style=\"stroke: #383838; stroke-width: 1.0; stroke-dasharray: 7.0,7.0;\"/><polygon fill=\"#383838\" points=\"553,111,545,108,545,114,553,111\" style=\"stroke: #383838; stroke-width: 1.0;\"/><text fill=\"#000000\" font-family=\"sans-serif\" font-size=\"13\" lengthAdjust=\"spacingAndGlyphs\" textLength=\"64\" x=\"458\" y=\"107.0669\">«depend»</text></a><!--MD5=[c5e8897d989ce984f93528998a7150fe]\n",
       "link E8 to E6--><a href=\"psysml:aa53d009-eedf-4466-a7b8-b270a2d13479\" target=\"_top\" title=\"psysml:aa53d009-eedf-4466-a7b8-b270a2d13479\" xlink:actuate=\"onRequest\" xlink:href=\"psysml:aa53d009-eedf-4466-a7b8-b270a2d13479\" xlink:show=\"new\" xlink:title=\"psysml:aa53d009-eedf-4466-a7b8-b270a2d13479\" xlink:type=\"simple\"><path d=\"M159.03,235.72 C203.37,244.36 280.3,259.34 328.28,268.68 \" fill=\"none\" id=\"E8-&gt;E6\" style=\"stroke: #383838; stroke-width: 1.0; stroke-dasharray: 7.0,7.0;\"/><polygon fill=\"#383838\" points=\"336.3,270.24,329.0216,265.765,327.8738,271.6542,336.3,270.24\" style=\"stroke: #383838; stroke-width: 1.0;\"/><text fill=\"#000000\" font-family=\"sans-serif\" font-size=\"13\" lengthAdjust=\"spacingAndGlyphs\" textLength=\"64\" x=\"222\" y=\"245.0669\">«depend»</text></a><!--MD5=[bfa3c8b0d15052fdf50ae9310b491027]\n",
       "link E8 to E7--><a href=\"psysml:aa53d009-eedf-4466-a7b8-b270a2d13479\" target=\"_top\" title=\"psysml:aa53d009-eedf-4466-a7b8-b270a2d13479\" xlink:actuate=\"onRequest\" xlink:href=\"psysml:aa53d009-eedf-4466-a7b8-b270a2d13479\" xlink:show=\"new\" xlink:title=\"psysml:aa53d009-eedf-4466-a7b8-b270a2d13479\" xlink:type=\"simple\"><path d=\"M159.03,224.38 C203.37,218.44 280.3,208.14 328.28,201.72 \" fill=\"none\" id=\"E8-&gt;E7\" style=\"stroke: #383838; stroke-width: 1.0; stroke-dasharray: 7.0,7.0;\"/><polygon fill=\"#383838\" points=\"336.3,200.65,327.9737,198.7336,328.7667,204.681,336.3,200.65\" style=\"stroke: #383838; stroke-width: 1.0;\"/><text fill=\"#000000\" font-family=\"sans-serif\" font-size=\"13\" lengthAdjust=\"spacingAndGlyphs\" textLength=\"64\" x=\"222\" y=\"204.0669\">«depend»</text></a><!--MD5=[81ad75ced144f04ddfae6e4f227b5cad]\n",
       "@startuml\r\n",
       "left to right direction\r\n",
       "skinparam monochrome true\r\n",
       "skinparam classbackgroundcolor white\r\n",
       "skinparam shadowing false\r\n",
       "skinparam wrapWidth 300\r\n",
       "hide circle\r\n",
       "\r\n",
       "package \"DependencyTest\" as E1  [[psysml:79533e77-94c2-4bae-8455-1b4d9ad0ac19 ]]  {\r\n",
       "package \"System\" as E2  [[psysml:aa959c9d-de71-4dee-a328-dce50e2c2738 ]]  {\r\n",
       "package \"Application Layer\" as E3  [[psysml:c86dacee-9d76-4d53-8a53-8574653b1f4e ]]  {\r\n",
       "}\r\n",
       "package \"Service Layer\" as E4  [[psysml:1c23a4b2-35e2-4e8a-96b6-0c0eddc8acf9 ]]  {\r\n",
       "}\r\n",
       "package \"Data Layer\" as E5  [[psysml:a642c0ba-468c-4345-a41b-ed6906c58c2e ]]  {\r\n",
       "}\r\n",
       "}\r\n",
       "comp usage \"x \" as E6  <<(T,blue) attribute>> [[psysml:002f54b6-1019-4822-b88b-c9a615e25b28 ]] {\r\n",
       "}\r\n",
       "comp usage \"y \" as E7  <<(T,blue) attribute>> [[psysml:5e659b03-2baa-4472-976b-b868f73bcda1 ]] {\r\n",
       "}\r\n",
       "comp usage \"z \" as E8  <<(T,blue) attribute>> [[psysml:17862b5a-aa19-4a09-bb5d-84a4c59b96ac ]] {\r\n",
       "}\r\n",
       "}\r\n",
       "E3 ..>> E4 [[psysml:e08fe20c-326f-4bf4-bdb1-9df0382c82e4 ]] : <<depend>>\r\n",
       "E4 ..>> E5 [[psysml:3bcf17b2-ef7a-4ff9-b082-cb17e1124f6a ]] : <<depend>>\r\n",
       "E8 ..>> E6 [[psysml:aa53d009-eedf-4466-a7b8-b270a2d13479 ]] : <<depend>>\r\n",
       "E8 ..>> E7 [[psysml:aa53d009-eedf-4466-a7b8-b270a2d13479 ]] : <<depend>>\r\n",
       "@enduml\r\n",
       "\n",
       "PlantUML version 1.2020.13(Sat Jun 13 12:26:38 UTC 2020)\n",
       "(EPL source distribution)\n",
       "Java Runtime: OpenJDK Runtime Environment\n",
       "JVM: OpenJDK 64-Bit Server VM\n",
       "Default Encoding: UTF-8\n",
       "Language: en\n",
       "Country: null\n",
       "--></g></svg>"
      ]
     },
     "execution_count": 17,
     "metadata": {},
     "output_type": "execute_result"
    }
   ],
   "source": [
    "%viz --style=\"LR\" --view=\"Tree\" \"DependencyTest\""
   ]
  },
  {
   "cell_type": "code",
   "execution_count": 18,
   "id": "8e7f6cfa",
   "metadata": {
    "execution": {
     "iopub.execute_input": "2021-12-15T15:15:20.252389Z",
     "iopub.status.busy": "2021-12-15T15:15:20.251977Z",
     "iopub.status.idle": "2021-12-15T15:15:20.256928Z",
     "shell.execute_reply": "2021-12-15T15:15:20.257175Z"
    }
   },
   "outputs": [
    {
     "data": {
      "image/svg+xml": [
       "<?xml version=\"1.0\" encoding=\"UTF-8\" standalone=\"no\"?><svg xmlns=\"http://www.w3.org/2000/svg\" xmlns:xlink=\"http://www.w3.org/1999/xlink\" contentScriptType=\"application/ecmascript\" contentStyleType=\"text/css\" height=\"12px\" preserveAspectRatio=\"none\" style=\"width:12px;height:12px;\" version=\"1.1\" viewBox=\"0 0 12 12\" width=\"12px\" zoomAndPan=\"magnify\"><defs/><g><!--MD5=[19d285c9d72a204eba4e2cd117d745e8]\n",
       "@startuml\r\n",
       "left to right direction\r\n",
       "skinparam monochrome true\r\n",
       "skinparam classbackgroundcolor white\r\n",
       "skinparam shadowing false\r\n",
       "skinparam wrapWidth 300\r\n",
       "hide circle\r\n",
       "\r\n",
       "@enduml\r\n",
       "\n",
       "PlantUML version 1.2020.13(Sat Jun 13 12:26:38 UTC 2020)\n",
       "(EPL source distribution)\n",
       "Java Runtime: OpenJDK Runtime Environment\n",
       "JVM: OpenJDK 64-Bit Server VM\n",
       "Default Encoding: UTF-8\n",
       "Language: en\n",
       "Country: null\n",
       "--></g></svg>"
      ]
     },
     "execution_count": 18,
     "metadata": {},
     "output_type": "execute_result"
    }
   ],
   "source": [
    "%viz --style=\"LR\" --view=\"State\" \"DependencyTest\""
   ]
  },
  {
   "cell_type": "code",
   "execution_count": 19,
   "id": "2ab5be0e",
   "metadata": {
    "execution": {
     "iopub.execute_input": "2021-12-15T15:15:20.307149Z",
     "iopub.status.busy": "2021-12-15T15:15:20.306836Z",
     "iopub.status.idle": "2021-12-15T15:15:20.347745Z",
     "shell.execute_reply": "2021-12-15T15:15:20.347215Z"
    }
   },
   "outputs": [
    {
     "data": {
      "image/svg+xml": [
       "<?xml version=\"1.0\" encoding=\"UTF-8\" standalone=\"no\"?><svg xmlns=\"http://www.w3.org/2000/svg\" xmlns:xlink=\"http://www.w3.org/1999/xlink\" contentScriptType=\"application/ecmascript\" contentStyleType=\"text/css\" height=\"328px\" preserveAspectRatio=\"none\" style=\"width:619px;height:328px;\" version=\"1.1\" viewBox=\"0 0 619 328\" width=\"619px\" zoomAndPan=\"magnify\"><defs/><g><!--MD5=[fbc87193dbaf4d95561dea2c320d4a47]\n",
       "cluster E1--><a href=\"psysml:79533e77-94c2-4bae-8455-1b4d9ad0ac19\" target=\"_top\" title=\"psysml:79533e77-94c2-4bae-8455-1b4d9ad0ac19\" xlink:actuate=\"onRequest\" xlink:href=\"psysml:79533e77-94c2-4bae-8455-1b4d9ad0ac19\" xlink:show=\"new\" xlink:title=\"psysml:79533e77-94c2-4bae-8455-1b4d9ad0ac19\" xlink:type=\"simple\"><polygon fill=\"#FFFFFF\" points=\"16,6,142,6,149,28.2969,597,28.2969,597,316,16,316,16,6\" style=\"stroke: #000000; stroke-width: 1.5;\"/><line style=\"stroke: #000000; stroke-width: 1.5;\" x1=\"16\" x2=\"149\" y1=\"28.2969\" y2=\"28.2969\"/><text fill=\"#000000\" font-family=\"sans-serif\" font-size=\"14\" font-weight=\"bold\" lengthAdjust=\"spacingAndGlyphs\" textLength=\"120\" x=\"20\" y=\"20.9951\">DependencyTest</text></a><!--MD5=[e4f7fae6ed58524ba242bb0b0d3be6b7]\n",
       "cluster E2--><a href=\"psysml:aa959c9d-de71-4dee-a328-dce50e2c2738\" target=\"_top\" title=\"psysml:aa959c9d-de71-4dee-a328-dce50e2c2738\" xlink:actuate=\"onRequest\" xlink:href=\"psysml:aa959c9d-de71-4dee-a328-dce50e2c2738\" xlink:show=\"new\" xlink:title=\"psysml:aa959c9d-de71-4dee-a328-dce50e2c2738\" xlink:type=\"simple\"><polygon fill=\"#FFFFFF\" points=\"40,49,97,49,104,71.2969,573,71.2969,573,154,40,154,40,49\" style=\"stroke: #000000; stroke-width: 1.5;\"/><line style=\"stroke: #000000; stroke-width: 1.5;\" x1=\"40\" x2=\"104\" y1=\"71.2969\" y2=\"71.2969\"/><text fill=\"#000000\" font-family=\"sans-serif\" font-size=\"14\" font-weight=\"bold\" lengthAdjust=\"spacingAndGlyphs\" textLength=\"51\" x=\"44\" y=\"63.9951\">System</text></a><!--MD5=[60a26617385b1d2d0262a64233df1f8d]\n",
       "class E6--><a href=\"psysml:002f54b6-1019-4822-b88b-c9a615e25b28\" target=\"_top\" title=\"psysml:002f54b6-1019-4822-b88b-c9a615e25b28\" xlink:actuate=\"onRequest\" xlink:href=\"psysml:002f54b6-1019-4822-b88b-c9a615e25b28\" xlink:show=\"new\" xlink:title=\"psysml:002f54b6-1019-4822-b88b-c9a615e25b28\" xlink:type=\"simple\"><rect fill=\"#FFFFFF\" height=\"45.9375\" id=\"E6\" rx=\"10\" ry=\"10\" style=\"stroke: #383838; stroke-width: 1.5;\" width=\"71\" x=\"292.5\" y=\"254\"/><text fill=\"#000000\" font-family=\"sans-serif\" font-size=\"12\" font-style=\"italic\" lengthAdjust=\"spacingAndGlyphs\" textLength=\"69\" x=\"293.5\" y=\"270.1387\">«attribute»</text><text fill=\"#000000\" font-family=\"sans-serif\" font-size=\"12\" lengthAdjust=\"spacingAndGlyphs\" textLength=\"6\" x=\"323\" y=\"284.1074\">x</text><line style=\"stroke: #383838; stroke-width: 1.5;\" x1=\"293.5\" x2=\"362.5\" y1=\"291.9375\" y2=\"291.9375\"/></a><!--MD5=[2156ba9850f5573cc1fc38a6a4b2f02b]\n",
       "class E7--><a href=\"psysml:5e659b03-2baa-4472-976b-b868f73bcda1\" target=\"_top\" title=\"psysml:5e659b03-2baa-4472-976b-b868f73bcda1\" xlink:actuate=\"onRequest\" xlink:href=\"psysml:5e659b03-2baa-4472-976b-b868f73bcda1\" xlink:show=\"new\" xlink:title=\"psysml:5e659b03-2baa-4472-976b-b868f73bcda1\" xlink:type=\"simple\"><rect fill=\"#FFFFFF\" height=\"45.9375\" id=\"E7\" rx=\"10\" ry=\"10\" style=\"stroke: #383838; stroke-width: 1.5;\" width=\"71\" x=\"292.5\" y=\"173\"/><text fill=\"#000000\" font-family=\"sans-serif\" font-size=\"12\" font-style=\"italic\" lengthAdjust=\"spacingAndGlyphs\" textLength=\"69\" x=\"293.5\" y=\"189.1387\">«attribute»</text><text fill=\"#000000\" font-family=\"sans-serif\" font-size=\"12\" lengthAdjust=\"spacingAndGlyphs\" textLength=\"6\" x=\"323\" y=\"203.1074\">y</text><line style=\"stroke: #383838; stroke-width: 1.5;\" x1=\"293.5\" x2=\"362.5\" y1=\"210.9375\" y2=\"210.9375\"/></a><!--MD5=[b9389687b975829384b498ac4b7476b2]\n",
       "class E8--><a href=\"psysml:17862b5a-aa19-4a09-bb5d-84a4c59b96ac\" target=\"_top\" title=\"psysml:17862b5a-aa19-4a09-bb5d-84a4c59b96ac\" xlink:actuate=\"onRequest\" xlink:href=\"psysml:17862b5a-aa19-4a09-bb5d-84a4c59b96ac\" xlink:show=\"new\" xlink:title=\"psysml:17862b5a-aa19-4a09-bb5d-84a4c59b96ac\" xlink:type=\"simple\"><rect fill=\"#FFFFFF\" height=\"45.9375\" id=\"E8\" rx=\"10\" ry=\"10\" style=\"stroke: #383838; stroke-width: 1.5;\" width=\"71\" x=\"88\" y=\"206\"/><text fill=\"#000000\" font-family=\"sans-serif\" font-size=\"12\" font-style=\"italic\" lengthAdjust=\"spacingAndGlyphs\" textLength=\"69\" x=\"89\" y=\"222.1387\">«attribute»</text><text fill=\"#000000\" font-family=\"sans-serif\" font-size=\"12\" lengthAdjust=\"spacingAndGlyphs\" textLength=\"5\" x=\"119\" y=\"236.1074\">z</text><line style=\"stroke: #383838; stroke-width: 1.5;\" x1=\"89\" x2=\"158\" y1=\"243.9375\" y2=\"243.9375\"/></a><a href=\"psysml:c86dacee-9d76-4d53-8a53-8574653b1f4e\" target=\"_top\" title=\"psysml:c86dacee-9d76-4d53-8a53-8574653b1f4e\" xlink:actuate=\"onRequest\" xlink:href=\"psysml:c86dacee-9d76-4d53-8a53-8574653b1f4e\" xlink:show=\"new\" xlink:title=\"psysml:c86dacee-9d76-4d53-8a53-8574653b1f4e\" xlink:type=\"simple\"><polygon fill=\"#FFFFFF\" points=\"56,84.5,177,84.5,184,106.7969,191,106.7969,191,137.0938,56,137.0938,56,84.5\" style=\"stroke: #000000; stroke-width: 1.5;\"/><line style=\"stroke: #000000; stroke-width: 1.5;\" x1=\"56\" x2=\"184\" y1=\"106.7969\" y2=\"106.7969\"/><text fill=\"#000000\" font-family=\"sans-serif\" font-size=\"14\" font-weight=\"bold\" lengthAdjust=\"spacingAndGlyphs\" textLength=\"115\" x=\"60\" y=\"99.4951\">Application Layer</text></a><a href=\"psysml:1c23a4b2-35e2-4e8a-96b6-0c0eddc8acf9\" target=\"_top\" title=\"psysml:1c23a4b2-35e2-4e8a-96b6-0c0eddc8acf9\" xlink:actuate=\"onRequest\" xlink:href=\"psysml:1c23a4b2-35e2-4e8a-96b6-0c0eddc8acf9\" xlink:show=\"new\" xlink:title=\"psysml:1c23a4b2-35e2-4e8a-96b6-0c0eddc8acf9\" xlink:type=\"simple\"><polygon fill=\"#FFFFFF\" points=\"273,84.5,369,84.5,376,106.7969,383,106.7969,383,137.0938,273,137.0938,273,84.5\" style=\"stroke: #000000; stroke-width: 1.5;\"/><line style=\"stroke: #000000; stroke-width: 1.5;\" x1=\"273\" x2=\"376\" y1=\"106.7969\" y2=\"106.7969\"/><text fill=\"#000000\" font-family=\"sans-serif\" font-size=\"14\" font-weight=\"bold\" lengthAdjust=\"spacingAndGlyphs\" textLength=\"90\" x=\"277\" y=\"99.4951\">Service Layer</text></a><a href=\"psysml:a642c0ba-468c-4345-a41b-ed6906c58c2e\" target=\"_top\" title=\"psysml:a642c0ba-468c-4345-a41b-ed6906c58c2e\" xlink:actuate=\"onRequest\" xlink:href=\"psysml:a642c0ba-468c-4345-a41b-ed6906c58c2e\" xlink:show=\"new\" xlink:title=\"psysml:a642c0ba-468c-4345-a41b-ed6906c58c2e\" xlink:type=\"simple\"><polygon fill=\"#FFFFFF\" points=\"465,84.5,543,84.5,550,106.7969,557,106.7969,557,137.0938,465,137.0938,465,84.5\" style=\"stroke: #000000; stroke-width: 1.5;\"/><line style=\"stroke: #000000; stroke-width: 1.5;\" x1=\"465\" x2=\"550\" y1=\"106.7969\" y2=\"106.7969\"/><text fill=\"#000000\" font-family=\"sans-serif\" font-size=\"14\" font-weight=\"bold\" lengthAdjust=\"spacingAndGlyphs\" textLength=\"72\" x=\"469\" y=\"99.4951\">Data Layer</text></a><!--MD5=[af87c684e3b0d8be13c1a698a818ef1e]\n",
       "link E3 to E4--><a href=\"psysml:e08fe20c-326f-4bf4-bdb1-9df0382c82e4\" target=\"_top\" title=\"psysml:e08fe20c-326f-4bf4-bdb1-9df0382c82e4\" xlink:actuate=\"onRequest\" xlink:href=\"psysml:e08fe20c-326f-4bf4-bdb1-9df0382c82e4\" xlink:show=\"new\" xlink:title=\"psysml:e08fe20c-326f-4bf4-bdb1-9df0382c82e4\" xlink:type=\"simple\"><path d=\"M191.09,111 C214.8,111 241.41,111 264.75,111 \" fill=\"none\" id=\"E3-&gt;E4\" style=\"stroke: #383838; stroke-width: 1.0; stroke-dasharray: 7.0,7.0;\"/><polygon fill=\"#383838\" points=\"272.86,111,264.86,108,264.86,114,272.86,111\" style=\"stroke: #383838; stroke-width: 1.0;\"/><text fill=\"#000000\" font-family=\"sans-serif\" font-size=\"13\" lengthAdjust=\"spacingAndGlyphs\" textLength=\"64\" x=\"200\" y=\"107.0669\">«depend»</text></a><!--MD5=[1b7591eae5389033d8d09a9d6721a717]\n",
       "link E4 to E5--><a href=\"psysml:3bcf17b2-ef7a-4ff9-b082-cb17e1124f6a\" target=\"_top\" title=\"psysml:3bcf17b2-ef7a-4ff9-b082-cb17e1124f6a\" xlink:actuate=\"onRequest\" xlink:href=\"psysml:3bcf17b2-ef7a-4ff9-b082-cb17e1124f6a\" xlink:show=\"new\" xlink:title=\"psysml:3bcf17b2-ef7a-4ff9-b082-cb17e1124f6a\" xlink:type=\"simple\"><path d=\"M383.31,111 C406.59,111 433.71,111 456.86,111 \" fill=\"none\" id=\"E4-&gt;E5\" style=\"stroke: #383838; stroke-width: 1.0; stroke-dasharray: 7.0,7.0;\"/><polygon fill=\"#383838\" points=\"464.88,111,456.88,108,456.88,114,464.88,111\" style=\"stroke: #383838; stroke-width: 1.0;\"/><text fill=\"#000000\" font-family=\"sans-serif\" font-size=\"13\" lengthAdjust=\"spacingAndGlyphs\" textLength=\"64\" x=\"392\" y=\"107.0669\">«depend»</text></a><!--MD5=[c5e8897d989ce984f93528998a7150fe]\n",
       "link E8 to E6--><a href=\"psysml:aa53d009-eedf-4466-a7b8-b270a2d13479\" target=\"_top\" title=\"psysml:aa53d009-eedf-4466-a7b8-b270a2d13479\" xlink:actuate=\"onRequest\" xlink:href=\"psysml:aa53d009-eedf-4466-a7b8-b270a2d13479\" xlink:show=\"new\" xlink:title=\"psysml:aa53d009-eedf-4466-a7b8-b270a2d13479\" xlink:type=\"simple\"><path d=\"M159.31,237.25 C193.9,245.45 247.01,258.04 284.16,266.85 \" fill=\"none\" id=\"E8-&gt;E6\" style=\"stroke: #383838; stroke-width: 1.0; stroke-dasharray: 7.0,7.0;\"/><polygon fill=\"#383838\" points=\"292.31,268.78,285.2244,264.0057,283.8322,269.8419,292.31,268.78\" style=\"stroke: #383838; stroke-width: 1.0;\"/><text fill=\"#000000\" font-family=\"sans-serif\" font-size=\"13\" lengthAdjust=\"spacingAndGlyphs\" textLength=\"64\" x=\"200\" y=\"244.0669\">«depend»</text></a><!--MD5=[bfa3c8b0d15052fdf50ae9310b491027]\n",
       "link E8 to E7--><a href=\"psysml:aa53d009-eedf-4466-a7b8-b270a2d13479\" target=\"_top\" title=\"psysml:aa53d009-eedf-4466-a7b8-b270a2d13479\" xlink:actuate=\"onRequest\" xlink:href=\"psysml:aa53d009-eedf-4466-a7b8-b270a2d13479\" xlink:show=\"new\" xlink:title=\"psysml:aa53d009-eedf-4466-a7b8-b270a2d13479\" xlink:type=\"simple\"><path d=\"M159.31,223.33 C193.9,217.69 247.01,209.04 284.16,202.98 \" fill=\"none\" id=\"E8-&gt;E7\" style=\"stroke: #383838; stroke-width: 1.0; stroke-dasharray: 7.0,7.0;\"/><polygon fill=\"#383838\" points=\"292.31,201.65,283.9315,199.9764,284.897,205.8983,292.31,201.65\" style=\"stroke: #383838; stroke-width: 1.0;\"/><text fill=\"#000000\" font-family=\"sans-serif\" font-size=\"13\" lengthAdjust=\"spacingAndGlyphs\" textLength=\"64\" x=\"200\" y=\"203.0669\">«depend»</text></a><!--MD5=[f930774db98a355625c256fedaa24212]\n",
       "@startuml\r\n",
       "skinparam ranksep 10\r\n",
       "skinparam rectangle {\r\n",
       " backgroundColor<<block>> LightGreen\r\n",
       "}\r\n",
       "left to right direction\r\n",
       "skinparam monochrome true\r\n",
       "skinparam classbackgroundcolor white\r\n",
       "skinparam shadowing false\r\n",
       "skinparam wrapWidth 300\r\n",
       "hide circle\r\n",
       "\r\n",
       "package \"DependencyTest\" as E1  [[psysml:79533e77-94c2-4bae-8455-1b4d9ad0ac19 ]]  {\r\n",
       "package \"System\" as E2  [[psysml:aa959c9d-de71-4dee-a328-dce50e2c2738 ]]  {\r\n",
       "package \"Application Layer\" as E3  [[psysml:c86dacee-9d76-4d53-8a53-8574653b1f4e ]]  {\r\n",
       "}\r\n",
       "package \"Service Layer\" as E4  [[psysml:1c23a4b2-35e2-4e8a-96b6-0c0eddc8acf9 ]]  {\r\n",
       "}\r\n",
       "package \"Data Layer\" as E5  [[psysml:a642c0ba-468c-4345-a41b-ed6906c58c2e ]]  {\r\n",
       "}\r\n",
       "}\r\n",
       "comp usage \"x \" as E6  <<(T,blue) attribute>> [[psysml:002f54b6-1019-4822-b88b-c9a615e25b28 ]] {\r\n",
       "}\r\n",
       "comp usage \"y \" as E7  <<(T,blue) attribute>> [[psysml:5e659b03-2baa-4472-976b-b868f73bcda1 ]] {\r\n",
       "}\r\n",
       "comp usage \"z \" as E8  <<(T,blue) attribute>> [[psysml:17862b5a-aa19-4a09-bb5d-84a4c59b96ac ]] {\r\n",
       "}\r\n",
       "}\r\n",
       "E3 ..>> E4 [[psysml:e08fe20c-326f-4bf4-bdb1-9df0382c82e4 ]] : <<depend>>\r\n",
       "E4 ..>> E5 [[psysml:3bcf17b2-ef7a-4ff9-b082-cb17e1124f6a ]] : <<depend>>\r\n",
       "E8 ..>> E6 [[psysml:aa53d009-eedf-4466-a7b8-b270a2d13479 ]] : <<depend>>\r\n",
       "E8 ..>> E7 [[psysml:aa53d009-eedf-4466-a7b8-b270a2d13479 ]] : <<depend>>\r\n",
       "@enduml\r\n",
       "\n",
       "PlantUML version 1.2020.13(Sat Jun 13 12:26:38 UTC 2020)\n",
       "(EPL source distribution)\n",
       "Java Runtime: OpenJDK Runtime Environment\n",
       "JVM: OpenJDK 64-Bit Server VM\n",
       "Default Encoding: UTF-8\n",
       "Language: en\n",
       "Country: null\n",
       "--></g></svg>"
      ]
     },
     "execution_count": 19,
     "metadata": {},
     "output_type": "execute_result"
    }
   ],
   "source": [
    "%viz --style=\"LR\" --view=\"Interconnection\" \"DependencyTest\""
   ]
  },
  {
   "cell_type": "code",
   "execution_count": 20,
   "id": "7786d56a",
   "metadata": {
    "execution": {
     "iopub.execute_input": "2021-12-15T15:15:20.396783Z",
     "iopub.status.busy": "2021-12-15T15:15:20.396185Z",
     "iopub.status.idle": "2021-12-15T15:15:20.401815Z",
     "shell.execute_reply": "2021-12-15T15:15:20.402214Z"
    }
   },
   "outputs": [
    {
     "data": {
      "image/svg+xml": [
       "<?xml version=\"1.0\" encoding=\"UTF-8\" standalone=\"no\"?><svg xmlns=\"http://www.w3.org/2000/svg\" xmlns:xlink=\"http://www.w3.org/1999/xlink\" contentScriptType=\"application/ecmascript\" contentStyleType=\"text/css\" height=\"12px\" preserveAspectRatio=\"none\" style=\"width:12px;height:12px;\" version=\"1.1\" viewBox=\"0 0 12 12\" width=\"12px\" zoomAndPan=\"magnify\"><defs/><g><!--MD5=[7aeb398939421629f6affaa4a1a7b125]\n",
       "@startuml\r\n",
       "skinparam ranksep 8\r\n",
       "left to right direction\r\n",
       "skinparam monochrome true\r\n",
       "skinparam classbackgroundcolor white\r\n",
       "skinparam shadowing false\r\n",
       "skinparam wrapWidth 300\r\n",
       "hide circle\r\n",
       "\r\n",
       "@enduml\r\n",
       "\n",
       "PlantUML version 1.2020.13(Sat Jun 13 12:26:38 UTC 2020)\n",
       "(EPL source distribution)\n",
       "Java Runtime: OpenJDK Runtime Environment\n",
       "JVM: OpenJDK 64-Bit Server VM\n",
       "Default Encoding: UTF-8\n",
       "Language: en\n",
       "Country: null\n",
       "--></g></svg>"
      ]
     },
     "execution_count": 20,
     "metadata": {},
     "output_type": "execute_result"
    }
   ],
   "source": [
    "%viz --style=\"LR\" --view=\"Action\" \"DependencyTest\""
   ]
  },
  {
   "cell_type": "code",
   "execution_count": 21,
   "id": "57a30196",
   "metadata": {
    "execution": {
     "iopub.execute_input": "2021-12-15T15:15:20.451015Z",
     "iopub.status.busy": "2021-12-15T15:15:20.450550Z",
     "iopub.status.idle": "2021-12-15T15:15:20.456596Z",
     "shell.execute_reply": "2021-12-15T15:15:20.456913Z"
    }
   },
   "outputs": [
    {
     "data": {
      "image/svg+xml": [
       "<?xml version=\"1.0\" encoding=\"UTF-8\" standalone=\"no\"?><svg xmlns=\"http://www.w3.org/2000/svg\" xmlns:xlink=\"http://www.w3.org/1999/xlink\" contentScriptType=\"application/ecmascript\" contentStyleType=\"text/css\" height=\"12px\" preserveAspectRatio=\"none\" style=\"width:12px;height:12px;\" version=\"1.1\" viewBox=\"0 0 12 12\" width=\"12px\" zoomAndPan=\"magnify\"><defs/><g><!--MD5=[238c11ea2002f03115ad6b49a457d50e]\n",
       "@startuml\r\n",
       "skinparam roundcorner 20\r\n",
       "skinparam BoxPadding 20\r\n",
       "skinparam SequenceBoxBackgroundColor #white\r\n",
       "skinparam style strictuml\r\n",
       "skinparam maxMessageSize 100\r\n",
       "left to right direction\r\n",
       "skinparam monochrome true\r\n",
       "skinparam classbackgroundcolor white\r\n",
       "skinparam shadowing false\r\n",
       "skinparam wrapWidth 300\r\n",
       "hide circle\r\n",
       "\r\n",
       "@enduml\r\n",
       "\n",
       "PlantUML version 1.2020.13(Sat Jun 13 12:26:38 UTC 2020)\n",
       "(EPL source distribution)\n",
       "Java Runtime: OpenJDK Runtime Environment\n",
       "JVM: OpenJDK 64-Bit Server VM\n",
       "Default Encoding: UTF-8\n",
       "Language: en\n",
       "Country: null\n",
       "--></g></svg>"
      ]
     },
     "execution_count": 21,
     "metadata": {},
     "output_type": "execute_result"
    }
   ],
   "source": [
    "%viz --style=\"LR\" --view=\"Sequence\" \"DependencyTest\""
   ]
  },
  {
   "cell_type": "code",
   "execution_count": 22,
   "id": "f939887f",
   "metadata": {
    "execution": {
     "iopub.execute_input": "2021-12-15T15:15:20.506208Z",
     "iopub.status.busy": "2021-12-15T15:15:20.505865Z",
     "iopub.status.idle": "2021-12-15T15:15:20.545635Z",
     "shell.execute_reply": "2021-12-15T15:15:20.545148Z"
    }
   },
   "outputs": [
    {
     "data": {
      "image/svg+xml": [
       "<?xml version=\"1.0\" encoding=\"UTF-8\" standalone=\"no\"?><svg xmlns=\"http://www.w3.org/2000/svg\" xmlns:xlink=\"http://www.w3.org/1999/xlink\" contentScriptType=\"application/ecmascript\" contentStyleType=\"text/css\" height=\"328px\" preserveAspectRatio=\"none\" style=\"width:707px;height:328px;\" version=\"1.1\" viewBox=\"0 0 707 328\" width=\"707px\" zoomAndPan=\"magnify\"><defs/><g><!--MD5=[fbc87193dbaf4d95561dea2c320d4a47]\n",
       "cluster E1--><a href=\"psysml:79533e77-94c2-4bae-8455-1b4d9ad0ac19\" target=\"_top\" title=\"psysml:79533e77-94c2-4bae-8455-1b4d9ad0ac19\" xlink:actuate=\"onRequest\" xlink:href=\"psysml:79533e77-94c2-4bae-8455-1b4d9ad0ac19\" xlink:show=\"new\" xlink:title=\"psysml:79533e77-94c2-4bae-8455-1b4d9ad0ac19\" xlink:type=\"simple\"><polygon fill=\"#FFFFFF\" points=\"16,6,142,6,149,28.2969,685,28.2969,685,316,16,316,16,6\" style=\"stroke: #000000; stroke-width: 1.5;\"/><line style=\"stroke: #000000; stroke-width: 1.5;\" x1=\"16\" x2=\"149\" y1=\"28.2969\" y2=\"28.2969\"/><text fill=\"#000000\" font-family=\"sans-serif\" font-size=\"14\" font-weight=\"bold\" lengthAdjust=\"spacingAndGlyphs\" textLength=\"120\" x=\"20\" y=\"20.9951\">DependencyTest</text></a><!--MD5=[e4f7fae6ed58524ba242bb0b0d3be6b7]\n",
       "cluster E2--><a href=\"psysml:aa959c9d-de71-4dee-a328-dce50e2c2738\" target=\"_top\" title=\"psysml:aa959c9d-de71-4dee-a328-dce50e2c2738\" xlink:actuate=\"onRequest\" xlink:href=\"psysml:aa959c9d-de71-4dee-a328-dce50e2c2738\" xlink:show=\"new\" xlink:title=\"psysml:aa959c9d-de71-4dee-a328-dce50e2c2738\" xlink:type=\"simple\"><polygon fill=\"#FFFFFF\" points=\"40,49,97,49,104,71.2969,661,71.2969,661,154,40,154,40,49\" style=\"stroke: #000000; stroke-width: 1.5;\"/><line style=\"stroke: #000000; stroke-width: 1.5;\" x1=\"40\" x2=\"104\" y1=\"71.2969\" y2=\"71.2969\"/><text fill=\"#000000\" font-family=\"sans-serif\" font-size=\"14\" font-weight=\"bold\" lengthAdjust=\"spacingAndGlyphs\" textLength=\"51\" x=\"44\" y=\"63.9951\">System</text></a><!--MD5=[60a26617385b1d2d0262a64233df1f8d]\n",
       "class E6--><a href=\"psysml:002f54b6-1019-4822-b88b-c9a615e25b28\" target=\"_top\" title=\"psysml:002f54b6-1019-4822-b88b-c9a615e25b28\" xlink:actuate=\"onRequest\" xlink:href=\"psysml:002f54b6-1019-4822-b88b-c9a615e25b28\" xlink:show=\"new\" xlink:title=\"psysml:002f54b6-1019-4822-b88b-c9a615e25b28\" xlink:type=\"simple\"><rect fill=\"#FFFFFF\" height=\"45.9375\" id=\"E6\" rx=\"10\" ry=\"10\" style=\"stroke: #383838; stroke-width: 1.5;\" width=\"71\" x=\"336.5\" y=\"254\"/><text fill=\"#000000\" font-family=\"sans-serif\" font-size=\"12\" font-style=\"italic\" lengthAdjust=\"spacingAndGlyphs\" textLength=\"69\" x=\"337.5\" y=\"270.1387\">«attribute»</text><text fill=\"#000000\" font-family=\"sans-serif\" font-size=\"12\" lengthAdjust=\"spacingAndGlyphs\" textLength=\"6\" x=\"367\" y=\"284.1074\">x</text><line style=\"stroke: #383838; stroke-width: 1.5;\" x1=\"337.5\" x2=\"406.5\" y1=\"291.9375\" y2=\"291.9375\"/></a><!--MD5=[2156ba9850f5573cc1fc38a6a4b2f02b]\n",
       "class E7--><a href=\"psysml:5e659b03-2baa-4472-976b-b868f73bcda1\" target=\"_top\" title=\"psysml:5e659b03-2baa-4472-976b-b868f73bcda1\" xlink:actuate=\"onRequest\" xlink:href=\"psysml:5e659b03-2baa-4472-976b-b868f73bcda1\" xlink:show=\"new\" xlink:title=\"psysml:5e659b03-2baa-4472-976b-b868f73bcda1\" xlink:type=\"simple\"><rect fill=\"#FFFFFF\" height=\"45.9375\" id=\"E7\" rx=\"10\" ry=\"10\" style=\"stroke: #383838; stroke-width: 1.5;\" width=\"71\" x=\"336.5\" y=\"173\"/><text fill=\"#000000\" font-family=\"sans-serif\" font-size=\"12\" font-style=\"italic\" lengthAdjust=\"spacingAndGlyphs\" textLength=\"69\" x=\"337.5\" y=\"189.1387\">«attribute»</text><text fill=\"#000000\" font-family=\"sans-serif\" font-size=\"12\" lengthAdjust=\"spacingAndGlyphs\" textLength=\"6\" x=\"367\" y=\"203.1074\">y</text><line style=\"stroke: #383838; stroke-width: 1.5;\" x1=\"337.5\" x2=\"406.5\" y1=\"210.9375\" y2=\"210.9375\"/></a><!--MD5=[b9389687b975829384b498ac4b7476b2]\n",
       "class E8--><a href=\"psysml:17862b5a-aa19-4a09-bb5d-84a4c59b96ac\" target=\"_top\" title=\"psysml:17862b5a-aa19-4a09-bb5d-84a4c59b96ac\" xlink:actuate=\"onRequest\" xlink:href=\"psysml:17862b5a-aa19-4a09-bb5d-84a4c59b96ac\" xlink:show=\"new\" xlink:title=\"psysml:17862b5a-aa19-4a09-bb5d-84a4c59b96ac\" xlink:type=\"simple\"><rect fill=\"#FFFFFF\" height=\"45.9375\" id=\"E8\" rx=\"10\" ry=\"10\" style=\"stroke: #383838; stroke-width: 1.5;\" width=\"71\" x=\"88\" y=\"206\"/><text fill=\"#000000\" font-family=\"sans-serif\" font-size=\"12\" font-style=\"italic\" lengthAdjust=\"spacingAndGlyphs\" textLength=\"69\" x=\"89\" y=\"222.1387\">«attribute»</text><text fill=\"#000000\" font-family=\"sans-serif\" font-size=\"12\" lengthAdjust=\"spacingAndGlyphs\" textLength=\"5\" x=\"119\" y=\"236.1074\">z</text><line style=\"stroke: #383838; stroke-width: 1.5;\" x1=\"89\" x2=\"158\" y1=\"243.9375\" y2=\"243.9375\"/></a><a href=\"psysml:c86dacee-9d76-4d53-8a53-8574653b1f4e\" target=\"_top\" title=\"psysml:c86dacee-9d76-4d53-8a53-8574653b1f4e\" xlink:actuate=\"onRequest\" xlink:href=\"psysml:c86dacee-9d76-4d53-8a53-8574653b1f4e\" xlink:show=\"new\" xlink:title=\"psysml:c86dacee-9d76-4d53-8a53-8574653b1f4e\" xlink:type=\"simple\"><polygon fill=\"#FFFFFF\" points=\"56,84.5,177,84.5,184,106.7969,191,106.7969,191,137.0938,56,137.0938,56,84.5\" style=\"stroke: #000000; stroke-width: 1.5;\"/><line style=\"stroke: #000000; stroke-width: 1.5;\" x1=\"56\" x2=\"184\" y1=\"106.7969\" y2=\"106.7969\"/><text fill=\"#000000\" font-family=\"sans-serif\" font-size=\"14\" font-weight=\"bold\" lengthAdjust=\"spacingAndGlyphs\" textLength=\"115\" x=\"60\" y=\"99.4951\">Application Layer</text></a><a href=\"psysml:1c23a4b2-35e2-4e8a-96b6-0c0eddc8acf9\" target=\"_top\" title=\"psysml:1c23a4b2-35e2-4e8a-96b6-0c0eddc8acf9\" xlink:actuate=\"onRequest\" xlink:href=\"psysml:1c23a4b2-35e2-4e8a-96b6-0c0eddc8acf9\" xlink:show=\"new\" xlink:title=\"psysml:1c23a4b2-35e2-4e8a-96b6-0c0eddc8acf9\" xlink:type=\"simple\"><polygon fill=\"#FFFFFF\" points=\"317,84.5,413,84.5,420,106.7969,427,106.7969,427,137.0938,317,137.0938,317,84.5\" style=\"stroke: #000000; stroke-width: 1.5;\"/><line style=\"stroke: #000000; stroke-width: 1.5;\" x1=\"317\" x2=\"420\" y1=\"106.7969\" y2=\"106.7969\"/><text fill=\"#000000\" font-family=\"sans-serif\" font-size=\"14\" font-weight=\"bold\" lengthAdjust=\"spacingAndGlyphs\" textLength=\"90\" x=\"321\" y=\"99.4951\">Service Layer</text></a><a href=\"psysml:a642c0ba-468c-4345-a41b-ed6906c58c2e\" target=\"_top\" title=\"psysml:a642c0ba-468c-4345-a41b-ed6906c58c2e\" xlink:actuate=\"onRequest\" xlink:href=\"psysml:a642c0ba-468c-4345-a41b-ed6906c58c2e\" xlink:show=\"new\" xlink:title=\"psysml:a642c0ba-468c-4345-a41b-ed6906c58c2e\" xlink:type=\"simple\"><polygon fill=\"#FFFFFF\" points=\"553,84.5,631,84.5,638,106.7969,645,106.7969,645,137.0938,553,137.0938,553,84.5\" style=\"stroke: #000000; stroke-width: 1.5;\"/><line style=\"stroke: #000000; stroke-width: 1.5;\" x1=\"553\" x2=\"638\" y1=\"106.7969\" y2=\"106.7969\"/><text fill=\"#000000\" font-family=\"sans-serif\" font-size=\"14\" font-weight=\"bold\" lengthAdjust=\"spacingAndGlyphs\" textLength=\"72\" x=\"557\" y=\"99.4951\">Data Layer</text></a><!--MD5=[af87c684e3b0d8be13c1a698a818ef1e]\n",
       "link E3 to E4--><a href=\"psysml:e08fe20c-326f-4bf4-bdb1-9df0382c82e4\" target=\"_top\" title=\"psysml:e08fe20c-326f-4bf4-bdb1-9df0382c82e4\" xlink:actuate=\"onRequest\" xlink:href=\"psysml:e08fe20c-326f-4bf4-bdb1-9df0382c82e4\" xlink:show=\"new\" xlink:title=\"psysml:e08fe20c-326f-4bf4-bdb1-9df0382c82e4\" xlink:type=\"simple\"><path d=\"M191.21,111 C227.64,111 272.49,111 308.28,111 \" fill=\"none\" id=\"E3-&gt;E4\" style=\"stroke: #383838; stroke-width: 1.0; stroke-dasharray: 7.0,7.0;\"/><polygon fill=\"#383838\" points=\"316.7,111,308.7,108,308.7,114,316.7,111\" style=\"stroke: #383838; stroke-width: 1.0;\"/><text fill=\"#000000\" font-family=\"sans-serif\" font-size=\"13\" lengthAdjust=\"spacingAndGlyphs\" textLength=\"64\" x=\"222\" y=\"107.0669\">«depend»</text></a><!--MD5=[1b7591eae5389033d8d09a9d6721a717]\n",
       "link E4 to E5--><a href=\"psysml:3bcf17b2-ef7a-4ff9-b082-cb17e1124f6a\" target=\"_top\" title=\"psysml:3bcf17b2-ef7a-4ff9-b082-cb17e1124f6a\" xlink:actuate=\"onRequest\" xlink:href=\"psysml:3bcf17b2-ef7a-4ff9-b082-cb17e1124f6a\" xlink:show=\"new\" xlink:title=\"psysml:3bcf17b2-ef7a-4ff9-b082-cb17e1124f6a\" xlink:type=\"simple\"><path d=\"M427.18,111 C462.81,111 509.24,111 544.69,111 \" fill=\"none\" id=\"E4-&gt;E5\" style=\"stroke: #383838; stroke-width: 1.0; stroke-dasharray: 7.0,7.0;\"/><polygon fill=\"#383838\" points=\"553,111,545,108,545,114,553,111\" style=\"stroke: #383838; stroke-width: 1.0;\"/><text fill=\"#000000\" font-family=\"sans-serif\" font-size=\"13\" lengthAdjust=\"spacingAndGlyphs\" textLength=\"64\" x=\"458\" y=\"107.0669\">«depend»</text></a><!--MD5=[c5e8897d989ce984f93528998a7150fe]\n",
       "link E8 to E6--><a href=\"psysml:aa53d009-eedf-4466-a7b8-b270a2d13479\" target=\"_top\" title=\"psysml:aa53d009-eedf-4466-a7b8-b270a2d13479\" xlink:actuate=\"onRequest\" xlink:href=\"psysml:aa53d009-eedf-4466-a7b8-b270a2d13479\" xlink:show=\"new\" xlink:title=\"psysml:aa53d009-eedf-4466-a7b8-b270a2d13479\" xlink:type=\"simple\"><path d=\"M159.03,235.72 C203.37,244.36 280.3,259.34 328.28,268.68 \" fill=\"none\" id=\"E8-&gt;E6\" style=\"stroke: #383838; stroke-width: 1.0; stroke-dasharray: 7.0,7.0;\"/><polygon fill=\"#383838\" points=\"336.3,270.24,329.0216,265.765,327.8738,271.6542,336.3,270.24\" style=\"stroke: #383838; stroke-width: 1.0;\"/><text fill=\"#000000\" font-family=\"sans-serif\" font-size=\"13\" lengthAdjust=\"spacingAndGlyphs\" textLength=\"64\" x=\"222\" y=\"245.0669\">«depend»</text></a><!--MD5=[bfa3c8b0d15052fdf50ae9310b491027]\n",
       "link E8 to E7--><a href=\"psysml:aa53d009-eedf-4466-a7b8-b270a2d13479\" target=\"_top\" title=\"psysml:aa53d009-eedf-4466-a7b8-b270a2d13479\" xlink:actuate=\"onRequest\" xlink:href=\"psysml:aa53d009-eedf-4466-a7b8-b270a2d13479\" xlink:show=\"new\" xlink:title=\"psysml:aa53d009-eedf-4466-a7b8-b270a2d13479\" xlink:type=\"simple\"><path d=\"M159.03,224.38 C203.37,218.44 280.3,208.14 328.28,201.72 \" fill=\"none\" id=\"E8-&gt;E7\" style=\"stroke: #383838; stroke-width: 1.0; stroke-dasharray: 7.0,7.0;\"/><polygon fill=\"#383838\" points=\"336.3,200.65,327.9737,198.7336,328.7667,204.681,336.3,200.65\" style=\"stroke: #383838; stroke-width: 1.0;\"/><text fill=\"#000000\" font-family=\"sans-serif\" font-size=\"13\" lengthAdjust=\"spacingAndGlyphs\" textLength=\"64\" x=\"222\" y=\"204.0669\">«depend»</text></a><!--MD5=[81ad75ced144f04ddfae6e4f227b5cad]\n",
       "@startuml\r\n",
       "left to right direction\r\n",
       "skinparam monochrome true\r\n",
       "skinparam classbackgroundcolor white\r\n",
       "skinparam shadowing false\r\n",
       "skinparam wrapWidth 300\r\n",
       "hide circle\r\n",
       "\r\n",
       "package \"DependencyTest\" as E1  [[psysml:79533e77-94c2-4bae-8455-1b4d9ad0ac19 ]]  {\r\n",
       "package \"System\" as E2  [[psysml:aa959c9d-de71-4dee-a328-dce50e2c2738 ]]  {\r\n",
       "package \"Application Layer\" as E3  [[psysml:c86dacee-9d76-4d53-8a53-8574653b1f4e ]]  {\r\n",
       "}\r\n",
       "package \"Service Layer\" as E4  [[psysml:1c23a4b2-35e2-4e8a-96b6-0c0eddc8acf9 ]]  {\r\n",
       "}\r\n",
       "package \"Data Layer\" as E5  [[psysml:a642c0ba-468c-4345-a41b-ed6906c58c2e ]]  {\r\n",
       "}\r\n",
       "}\r\n",
       "comp usage \"x \" as E6  <<(T,blue) attribute>> [[psysml:002f54b6-1019-4822-b88b-c9a615e25b28 ]] {\r\n",
       "}\r\n",
       "comp usage \"y \" as E7  <<(T,blue) attribute>> [[psysml:5e659b03-2baa-4472-976b-b868f73bcda1 ]] {\r\n",
       "}\r\n",
       "comp usage \"z \" as E8  <<(T,blue) attribute>> [[psysml:17862b5a-aa19-4a09-bb5d-84a4c59b96ac ]] {\r\n",
       "}\r\n",
       "}\r\n",
       "E3 ..>> E4 [[psysml:e08fe20c-326f-4bf4-bdb1-9df0382c82e4 ]] : <<depend>>\r\n",
       "E4 ..>> E5 [[psysml:3bcf17b2-ef7a-4ff9-b082-cb17e1124f6a ]] : <<depend>>\r\n",
       "E8 ..>> E6 [[psysml:aa53d009-eedf-4466-a7b8-b270a2d13479 ]] : <<depend>>\r\n",
       "E8 ..>> E7 [[psysml:aa53d009-eedf-4466-a7b8-b270a2d13479 ]] : <<depend>>\r\n",
       "@enduml\r\n",
       "\n",
       "PlantUML version 1.2020.13(Sat Jun 13 12:26:38 UTC 2020)\n",
       "(EPL source distribution)\n",
       "Java Runtime: OpenJDK Runtime Environment\n",
       "JVM: OpenJDK 64-Bit Server VM\n",
       "Default Encoding: UTF-8\n",
       "Language: en\n",
       "Country: null\n",
       "--></g></svg>"
      ]
     },
     "execution_count": 22,
     "metadata": {},
     "output_type": "execute_result"
    }
   ],
   "source": [
    "%viz --style=\"LR\" --view=\"MIXED\" \"DependencyTest\""
   ]
  },
  {
   "cell_type": "code",
   "execution_count": 23,
   "id": "10456750",
   "metadata": {
    "execution": {
     "iopub.execute_input": "2021-12-15T15:15:20.594220Z",
     "iopub.status.busy": "2021-12-15T15:15:20.593790Z",
     "iopub.status.idle": "2021-12-15T15:15:20.631779Z",
     "shell.execute_reply": "2021-12-15T15:15:20.631476Z"
    }
   },
   "outputs": [
    {
     "data": {
      "image/svg+xml": [
       "<?xml version=\"1.0\" encoding=\"UTF-8\" standalone=\"no\"?><svg xmlns=\"http://www.w3.org/2000/svg\" xmlns:xlink=\"http://www.w3.org/1999/xlink\" contentScriptType=\"application/ecmascript\" contentStyleType=\"text/css\" height=\"449px\" preserveAspectRatio=\"none\" style=\"width:469px;height:449px;\" version=\"1.1\" viewBox=\"0 0 469 449\" width=\"469px\" zoomAndPan=\"magnify\"><defs><filter height=\"300%\" id=\"folsdx6h1dav3\" width=\"300%\" x=\"-1\" y=\"-1\"><feGaussianBlur result=\"blurOut\" stdDeviation=\"2.0\"/><feColorMatrix in=\"blurOut\" result=\"blurOut2\" type=\"matrix\" values=\"0 0 0 0 0 0 0 0 0 0 0 0 0 0 0 0 0 0 .4 0\"/><feOffset dx=\"4.0\" dy=\"4.0\" in=\"blurOut2\" result=\"blurOut3\"/><feBlend in=\"SourceGraphic\" in2=\"blurOut3\" mode=\"normal\"/></filter></defs><g><!--MD5=[fbc87193dbaf4d95561dea2c320d4a47]\n",
       "cluster E1--><a href=\"psysml:79533e77-94c2-4bae-8455-1b4d9ad0ac19\" target=\"_top\" title=\"psysml:79533e77-94c2-4bae-8455-1b4d9ad0ac19\" xlink:actuate=\"onRequest\" xlink:href=\"psysml:79533e77-94c2-4bae-8455-1b4d9ad0ac19\" xlink:show=\"new\" xlink:title=\"psysml:79533e77-94c2-4bae-8455-1b4d9ad0ac19\" xlink:type=\"simple\"><polygon fill=\"#FFFFFF\" filter=\"url(#folsdx6h1dav3)\" points=\"16,6,142,6,149,28.2969,447,28.2969,447,437,16,437,16,6\" style=\"stroke: #000000; stroke-width: 1.5;\"/><line style=\"stroke: #000000; stroke-width: 1.5;\" x1=\"16\" x2=\"149\" y1=\"28.2969\" y2=\"28.2969\"/><text fill=\"#000000\" font-family=\"sans-serif\" font-size=\"14\" font-weight=\"bold\" lengthAdjust=\"spacingAndGlyphs\" textLength=\"120\" x=\"20\" y=\"20.9951\">DependencyTest</text></a><!--MD5=[e4f7fae6ed58524ba242bb0b0d3be6b7]\n",
       "cluster E2--><a href=\"psysml:aa959c9d-de71-4dee-a328-dce50e2c2738\" target=\"_top\" title=\"psysml:aa959c9d-de71-4dee-a328-dce50e2c2738\" xlink:actuate=\"onRequest\" xlink:href=\"psysml:aa959c9d-de71-4dee-a328-dce50e2c2738\" xlink:show=\"new\" xlink:title=\"psysml:aa959c9d-de71-4dee-a328-dce50e2c2738\" xlink:type=\"simple\"><polygon fill=\"#FFFFFF\" filter=\"url(#folsdx6h1dav3)\" points=\"255,49,312,49,319,71.2969,423,71.2969,423,413,255,413,255,49\" style=\"stroke: #000000; stroke-width: 1.5;\"/><line style=\"stroke: #000000; stroke-width: 1.5;\" x1=\"255\" x2=\"319\" y1=\"71.2969\" y2=\"71.2969\"/><text fill=\"#000000\" font-family=\"sans-serif\" font-size=\"14\" font-weight=\"bold\" lengthAdjust=\"spacingAndGlyphs\" textLength=\"51\" x=\"259\" y=\"63.9951\">System</text></a><!--MD5=[60a26617385b1d2d0262a64233df1f8d]\n",
       "class E6--><a href=\"psysml:002f54b6-1019-4822-b88b-c9a615e25b28\" target=\"_top\" title=\"psysml:002f54b6-1019-4822-b88b-c9a615e25b28\" xlink:actuate=\"onRequest\" xlink:href=\"psysml:002f54b6-1019-4822-b88b-c9a615e25b28\" xlink:show=\"new\" xlink:title=\"psysml:002f54b6-1019-4822-b88b-c9a615e25b28\" xlink:type=\"simple\"><rect fill=\"#FEFECE\" filter=\"url(#folsdx6h1dav3)\" height=\"45.9375\" id=\"E6\" rx=\"10\" ry=\"10\" style=\"stroke: #A80036; stroke-width: 1.5;\" width=\"71\" x=\"32.5\" y=\"217.5\"/><text fill=\"#000000\" font-family=\"sans-serif\" font-size=\"12\" font-style=\"italic\" lengthAdjust=\"spacingAndGlyphs\" textLength=\"69\" x=\"33.5\" y=\"233.6387\">«attribute»</text><text fill=\"#000000\" font-family=\"sans-serif\" font-size=\"12\" lengthAdjust=\"spacingAndGlyphs\" textLength=\"6\" x=\"63\" y=\"247.6074\">x</text><line style=\"stroke: #A80036; stroke-width: 1.5;\" x1=\"33.5\" x2=\"102.5\" y1=\"255.4375\" y2=\"255.4375\"/></a><!--MD5=[2156ba9850f5573cc1fc38a6a4b2f02b]\n",
       "class E7--><a href=\"psysml:5e659b03-2baa-4472-976b-b868f73bcda1\" target=\"_top\" title=\"psysml:5e659b03-2baa-4472-976b-b868f73bcda1\" xlink:actuate=\"onRequest\" xlink:href=\"psysml:5e659b03-2baa-4472-976b-b868f73bcda1\" xlink:show=\"new\" xlink:title=\"psysml:5e659b03-2baa-4472-976b-b868f73bcda1\" xlink:type=\"simple\"><rect fill=\"#FEFECE\" filter=\"url(#folsdx6h1dav3)\" height=\"45.9375\" id=\"E7\" rx=\"10\" ry=\"10\" style=\"stroke: #A80036; stroke-width: 1.5;\" width=\"71\" x=\"138.5\" y=\"217.5\"/><text fill=\"#000000\" font-family=\"sans-serif\" font-size=\"12\" font-style=\"italic\" lengthAdjust=\"spacingAndGlyphs\" textLength=\"69\" x=\"139.5\" y=\"233.6387\">«attribute»</text><text fill=\"#000000\" font-family=\"sans-serif\" font-size=\"12\" lengthAdjust=\"spacingAndGlyphs\" textLength=\"6\" x=\"169\" y=\"247.6074\">y</text><line style=\"stroke: #A80036; stroke-width: 1.5;\" x1=\"139.5\" x2=\"208.5\" y1=\"255.4375\" y2=\"255.4375\"/></a><!--MD5=[b9389687b975829384b498ac4b7476b2]\n",
       "class E8--><a href=\"psysml:17862b5a-aa19-4a09-bb5d-84a4c59b96ac\" target=\"_top\" title=\"psysml:17862b5a-aa19-4a09-bb5d-84a4c59b96ac\" xlink:actuate=\"onRequest\" xlink:href=\"psysml:17862b5a-aa19-4a09-bb5d-84a4c59b96ac\" xlink:show=\"new\" xlink:title=\"psysml:17862b5a-aa19-4a09-bb5d-84a4c59b96ac\" xlink:type=\"simple\"><rect fill=\"#FEFECE\" filter=\"url(#folsdx6h1dav3)\" height=\"45.9375\" id=\"E8\" rx=\"10\" ry=\"10\" style=\"stroke: #A80036; stroke-width: 1.5;\" width=\"71\" x=\"84.5\" y=\"87.5\"/><text fill=\"#000000\" font-family=\"sans-serif\" font-size=\"12\" font-style=\"italic\" lengthAdjust=\"spacingAndGlyphs\" textLength=\"69\" x=\"85.5\" y=\"103.6387\">«attribute»</text><text fill=\"#000000\" font-family=\"sans-serif\" font-size=\"12\" lengthAdjust=\"spacingAndGlyphs\" textLength=\"5\" x=\"115.5\" y=\"117.6074\">z</text><line style=\"stroke: #A80036; stroke-width: 1.5;\" x1=\"85.5\" x2=\"154.5\" y1=\"125.4375\" y2=\"125.4375\"/></a><a href=\"psysml:c86dacee-9d76-4d53-8a53-8574653b1f4e\" target=\"_top\" title=\"psysml:c86dacee-9d76-4d53-8a53-8574653b1f4e\" xlink:actuate=\"onRequest\" xlink:href=\"psysml:c86dacee-9d76-4d53-8a53-8574653b1f4e\" xlink:show=\"new\" xlink:title=\"psysml:c86dacee-9d76-4d53-8a53-8574653b1f4e\" xlink:type=\"simple\"><polygon fill=\"#FFFFFF\" filter=\"url(#folsdx6h1dav3)\" points=\"271.5,84,392.5,84,399.5,106.2969,406.5,106.2969,406.5,136.5938,271.5,136.5938,271.5,84\" style=\"stroke: #000000; stroke-width: 1.5;\"/><line style=\"stroke: #000000; stroke-width: 1.5;\" x1=\"271.5\" x2=\"399.5\" y1=\"106.2969\" y2=\"106.2969\"/><text fill=\"#000000\" font-family=\"sans-serif\" font-size=\"14\" font-weight=\"bold\" lengthAdjust=\"spacingAndGlyphs\" textLength=\"115\" x=\"275.5\" y=\"98.9951\">Application Layer</text></a><a href=\"psysml:1c23a4b2-35e2-4e8a-96b6-0c0eddc8acf9\" target=\"_top\" title=\"psysml:1c23a4b2-35e2-4e8a-96b6-0c0eddc8acf9\" xlink:actuate=\"onRequest\" xlink:href=\"psysml:1c23a4b2-35e2-4e8a-96b6-0c0eddc8acf9\" xlink:show=\"new\" xlink:title=\"psysml:1c23a4b2-35e2-4e8a-96b6-0c0eddc8acf9\" xlink:type=\"simple\"><polygon fill=\"#FFFFFF\" filter=\"url(#folsdx6h1dav3)\" points=\"284,214,380,214,387,236.2969,394,236.2969,394,266.5938,284,266.5938,284,214\" style=\"stroke: #000000; stroke-width: 1.5;\"/><line style=\"stroke: #000000; stroke-width: 1.5;\" x1=\"284\" x2=\"387\" y1=\"236.2969\" y2=\"236.2969\"/><text fill=\"#000000\" font-family=\"sans-serif\" font-size=\"14\" font-weight=\"bold\" lengthAdjust=\"spacingAndGlyphs\" textLength=\"90\" x=\"288\" y=\"228.9951\">Service Layer</text></a><a href=\"psysml:a642c0ba-468c-4345-a41b-ed6906c58c2e\" target=\"_top\" title=\"psysml:a642c0ba-468c-4345-a41b-ed6906c58c2e\" xlink:actuate=\"onRequest\" xlink:href=\"psysml:a642c0ba-468c-4345-a41b-ed6906c58c2e\" xlink:show=\"new\" xlink:title=\"psysml:a642c0ba-468c-4345-a41b-ed6906c58c2e\" xlink:type=\"simple\"><polygon fill=\"#FFFFFF\" filter=\"url(#folsdx6h1dav3)\" points=\"293,344,371,344,378,366.2969,385,366.2969,385,396.5938,293,396.5938,293,344\" style=\"stroke: #000000; stroke-width: 1.5;\"/><line style=\"stroke: #000000; stroke-width: 1.5;\" x1=\"293\" x2=\"378\" y1=\"366.2969\" y2=\"366.2969\"/><text fill=\"#000000\" font-family=\"sans-serif\" font-size=\"14\" font-weight=\"bold\" lengthAdjust=\"spacingAndGlyphs\" textLength=\"72\" x=\"297\" y=\"358.9951\">Data Layer</text></a><!--MD5=[af87c684e3b0d8be13c1a698a818ef1e]\n",
       "link E3 to E4--><a href=\"psysml:e08fe20c-326f-4bf4-bdb1-9df0382c82e4\" target=\"_top\" title=\"psysml:e08fe20c-326f-4bf4-bdb1-9df0382c82e4\" xlink:actuate=\"onRequest\" xlink:href=\"psysml:e08fe20c-326f-4bf4-bdb1-9df0382c82e4\" xlink:show=\"new\" xlink:title=\"psysml:e08fe20c-326f-4bf4-bdb1-9df0382c82e4\" xlink:type=\"simple\"><path d=\"M339,137.1 C339,156.8 339,184.22 339,205.73 \" fill=\"none\" id=\"E3-&gt;E4\" style=\"stroke: #A80036; stroke-width: 1.0; stroke-dasharray: 7.0,7.0;\"/><polygon fill=\"#A80036\" points=\"339,213.95,342,205.95,336,205.95,339,213.95\" style=\"stroke: #A80036; stroke-width: 1.0;\"/><text fill=\"#000000\" font-family=\"sans-serif\" font-size=\"13\" lengthAdjust=\"spacingAndGlyphs\" textLength=\"64\" x=\"340\" y=\"180.0669\">«depend»</text></a><!--MD5=[1b7591eae5389033d8d09a9d6721a717]\n",
       "link E4 to E5--><a href=\"psysml:3bcf17b2-ef7a-4ff9-b082-cb17e1124f6a\" target=\"_top\" title=\"psysml:3bcf17b2-ef7a-4ff9-b082-cb17e1124f6a\" xlink:actuate=\"onRequest\" xlink:href=\"psysml:3bcf17b2-ef7a-4ff9-b082-cb17e1124f6a\" xlink:show=\"new\" xlink:title=\"psysml:3bcf17b2-ef7a-4ff9-b082-cb17e1124f6a\" xlink:type=\"simple\"><path d=\"M339,267.1 C339,286.8 339,314.22 339,335.73 \" fill=\"none\" id=\"E4-&gt;E5\" style=\"stroke: #A80036; stroke-width: 1.0; stroke-dasharray: 7.0,7.0;\"/><polygon fill=\"#A80036\" points=\"339,343.95,342,335.95,336,335.95,339,343.95\" style=\"stroke: #A80036; stroke-width: 1.0;\"/><text fill=\"#000000\" font-family=\"sans-serif\" font-size=\"13\" lengthAdjust=\"spacingAndGlyphs\" textLength=\"64\" x=\"340\" y=\"310.0669\">«depend»</text></a><!--MD5=[c5e8897d989ce984f93528998a7150fe]\n",
       "link E8 to E6--><a href=\"psysml:aa53d009-eedf-4466-a7b8-b270a2d13479\" target=\"_top\" title=\"psysml:aa53d009-eedf-4466-a7b8-b270a2d13479\" xlink:actuate=\"onRequest\" xlink:href=\"psysml:aa53d009-eedf-4466-a7b8-b270a2d13479\" xlink:show=\"new\" xlink:title=\"psysml:aa53d009-eedf-4466-a7b8-b270a2d13479\" xlink:type=\"simple\"><path d=\"M89.42,133.6 C79.35,142.68 69.37,154.11 64,167 C58.5,180.2 58.66,195.94 60.54,209.38 \" fill=\"none\" id=\"E8-&gt;E6\" style=\"stroke: #A80036; stroke-width: 1.0; stroke-dasharray: 7.0,7.0;\"/><polygon fill=\"#A80036\" points=\"61.9,217.4,63.517,209.0104,57.6018,210.0159,61.9,217.4\" style=\"stroke: #A80036; stroke-width: 1.0;\"/><text fill=\"#000000\" font-family=\"sans-serif\" font-size=\"13\" lengthAdjust=\"spacingAndGlyphs\" textLength=\"64\" x=\"65\" y=\"180.0669\">«depend»</text></a><!--MD5=[bfa3c8b0d15052fdf50ae9310b491027]\n",
       "link E8 to E7--><a href=\"psysml:aa53d009-eedf-4466-a7b8-b270a2d13479\" target=\"_top\" title=\"psysml:aa53d009-eedf-4466-a7b8-b270a2d13479\" xlink:actuate=\"onRequest\" xlink:href=\"psysml:aa53d009-eedf-4466-a7b8-b270a2d13479\" xlink:show=\"new\" xlink:title=\"psysml:aa53d009-eedf-4466-a7b8-b270a2d13479\" xlink:type=\"simple\"><path d=\"M129.28,133.5 C138.17,154.57 151.64,186.5 161.47,209.81 \" fill=\"none\" id=\"E8-&gt;E7\" style=\"stroke: #A80036; stroke-width: 1.0; stroke-dasharray: 7.0,7.0;\"/><polygon fill=\"#A80036\" points=\"164.66,217.35,164.3241,208.8126,158.7933,211.1385,164.66,217.35\" style=\"stroke: #A80036; stroke-width: 1.0;\"/><text fill=\"#000000\" font-family=\"sans-serif\" font-size=\"13\" lengthAdjust=\"spacingAndGlyphs\" textLength=\"64\" x=\"151\" y=\"180.0669\">«depend»</text></a><!--MD5=[c9b8358fade911e276193f040e37b5c6]\n",
       "@startuml\r\n",
       "skinparam wrapWidth 300\r\n",
       "hide circle\r\n",
       "\r\n",
       "package \"DependencyTest\" as E1  [[psysml:79533e77-94c2-4bae-8455-1b4d9ad0ac19 ]]  {\r\n",
       "package \"System\" as E2  [[psysml:aa959c9d-de71-4dee-a328-dce50e2c2738 ]]  {\r\n",
       "package \"Application Layer\" as E3  [[psysml:c86dacee-9d76-4d53-8a53-8574653b1f4e ]]  {\r\n",
       "}\r\n",
       "package \"Service Layer\" as E4  [[psysml:1c23a4b2-35e2-4e8a-96b6-0c0eddc8acf9 ]]  {\r\n",
       "}\r\n",
       "package \"Data Layer\" as E5  [[psysml:a642c0ba-468c-4345-a41b-ed6906c58c2e ]]  {\r\n",
       "}\r\n",
       "}\r\n",
       "comp usage \"x \" as E6  <<(T,blue) attribute>> [[psysml:002f54b6-1019-4822-b88b-c9a615e25b28 ]] {\r\n",
       "}\r\n",
       "comp usage \"y \" as E7  <<(T,blue) attribute>> [[psysml:5e659b03-2baa-4472-976b-b868f73bcda1 ]] {\r\n",
       "}\r\n",
       "comp usage \"z \" as E8  <<(T,blue) attribute>> [[psysml:17862b5a-aa19-4a09-bb5d-84a4c59b96ac ]] {\r\n",
       "}\r\n",
       "}\r\n",
       "E3 ..>> E4 [[psysml:e08fe20c-326f-4bf4-bdb1-9df0382c82e4 ]] : <<depend>>\r\n",
       "E4 ..>> E5 [[psysml:3bcf17b2-ef7a-4ff9-b082-cb17e1124f6a ]] : <<depend>>\r\n",
       "E8 ..>> E6 [[psysml:aa53d009-eedf-4466-a7b8-b270a2d13479 ]] : <<depend>>\r\n",
       "E8 ..>> E7 [[psysml:aa53d009-eedf-4466-a7b8-b270a2d13479 ]] : <<depend>>\r\n",
       "@enduml\r\n",
       "\n",
       "PlantUML version 1.2020.13(Sat Jun 13 12:26:38 UTC 2020)\n",
       "(EPL source distribution)\n",
       "Java Runtime: OpenJDK Runtime Environment\n",
       "JVM: OpenJDK 64-Bit Server VM\n",
       "Default Encoding: UTF-8\n",
       "Language: en\n",
       "Country: null\n",
       "--></g></svg>"
      ]
     },
     "execution_count": 23,
     "metadata": {},
     "output_type": "execute_result"
    }
   ],
   "source": [
    "%viz --style=\"STDCOLOR\" --view=\"Default\" \"DependencyTest\""
   ]
  },
  {
   "cell_type": "code",
   "execution_count": 24,
   "id": "432f6fa5",
   "metadata": {
    "execution": {
     "iopub.execute_input": "2021-12-15T15:15:20.681518Z",
     "iopub.status.busy": "2021-12-15T15:15:20.680995Z",
     "iopub.status.idle": "2021-12-15T15:15:20.714699Z",
     "shell.execute_reply": "2021-12-15T15:15:20.714337Z"
    }
   },
   "outputs": [
    {
     "data": {
      "image/svg+xml": [
       "<?xml version=\"1.0\" encoding=\"UTF-8\" standalone=\"no\"?><svg xmlns=\"http://www.w3.org/2000/svg\" xmlns:xlink=\"http://www.w3.org/1999/xlink\" contentScriptType=\"application/ecmascript\" contentStyleType=\"text/css\" height=\"449px\" preserveAspectRatio=\"none\" style=\"width:469px;height:449px;\" version=\"1.1\" viewBox=\"0 0 469 449\" width=\"469px\" zoomAndPan=\"magnify\"><defs><filter height=\"300%\" id=\"folsdx6h1dav3\" width=\"300%\" x=\"-1\" y=\"-1\"><feGaussianBlur result=\"blurOut\" stdDeviation=\"2.0\"/><feColorMatrix in=\"blurOut\" result=\"blurOut2\" type=\"matrix\" values=\"0 0 0 0 0 0 0 0 0 0 0 0 0 0 0 0 0 0 .4 0\"/><feOffset dx=\"4.0\" dy=\"4.0\" in=\"blurOut2\" result=\"blurOut3\"/><feBlend in=\"SourceGraphic\" in2=\"blurOut3\" mode=\"normal\"/></filter></defs><g><!--MD5=[fbc87193dbaf4d95561dea2c320d4a47]\n",
       "cluster E1--><a href=\"psysml:79533e77-94c2-4bae-8455-1b4d9ad0ac19\" target=\"_top\" title=\"psysml:79533e77-94c2-4bae-8455-1b4d9ad0ac19\" xlink:actuate=\"onRequest\" xlink:href=\"psysml:79533e77-94c2-4bae-8455-1b4d9ad0ac19\" xlink:show=\"new\" xlink:title=\"psysml:79533e77-94c2-4bae-8455-1b4d9ad0ac19\" xlink:type=\"simple\"><polygon fill=\"#FFFFFF\" filter=\"url(#folsdx6h1dav3)\" points=\"16,6,142,6,149,28.2969,447,28.2969,447,437,16,437,16,6\" style=\"stroke: #000000; stroke-width: 1.5;\"/><line style=\"stroke: #000000; stroke-width: 1.5;\" x1=\"16\" x2=\"149\" y1=\"28.2969\" y2=\"28.2969\"/><text fill=\"#000000\" font-family=\"sans-serif\" font-size=\"14\" font-weight=\"bold\" lengthAdjust=\"spacingAndGlyphs\" textLength=\"120\" x=\"20\" y=\"20.9951\">DependencyTest</text></a><!--MD5=[e4f7fae6ed58524ba242bb0b0d3be6b7]\n",
       "cluster E2--><a href=\"psysml:aa959c9d-de71-4dee-a328-dce50e2c2738\" target=\"_top\" title=\"psysml:aa959c9d-de71-4dee-a328-dce50e2c2738\" xlink:actuate=\"onRequest\" xlink:href=\"psysml:aa959c9d-de71-4dee-a328-dce50e2c2738\" xlink:show=\"new\" xlink:title=\"psysml:aa959c9d-de71-4dee-a328-dce50e2c2738\" xlink:type=\"simple\"><polygon fill=\"#FFFFFF\" filter=\"url(#folsdx6h1dav3)\" points=\"255,49,312,49,319,71.2969,423,71.2969,423,413,255,413,255,49\" style=\"stroke: #000000; stroke-width: 1.5;\"/><line style=\"stroke: #000000; stroke-width: 1.5;\" x1=\"255\" x2=\"319\" y1=\"71.2969\" y2=\"71.2969\"/><text fill=\"#000000\" font-family=\"sans-serif\" font-size=\"14\" font-weight=\"bold\" lengthAdjust=\"spacingAndGlyphs\" textLength=\"51\" x=\"259\" y=\"63.9951\">System</text></a><!--MD5=[60a26617385b1d2d0262a64233df1f8d]\n",
       "class E6--><a href=\"psysml:002f54b6-1019-4822-b88b-c9a615e25b28\" target=\"_top\" title=\"psysml:002f54b6-1019-4822-b88b-c9a615e25b28\" xlink:actuate=\"onRequest\" xlink:href=\"psysml:002f54b6-1019-4822-b88b-c9a615e25b28\" xlink:show=\"new\" xlink:title=\"psysml:002f54b6-1019-4822-b88b-c9a615e25b28\" xlink:type=\"simple\"><rect fill=\"#FEFECE\" filter=\"url(#folsdx6h1dav3)\" height=\"45.9375\" id=\"E6\" rx=\"10\" ry=\"10\" style=\"stroke: #A80036; stroke-width: 1.5;\" width=\"71\" x=\"32.5\" y=\"217.5\"/><text fill=\"#000000\" font-family=\"sans-serif\" font-size=\"12\" font-style=\"italic\" lengthAdjust=\"spacingAndGlyphs\" textLength=\"69\" x=\"33.5\" y=\"233.6387\">«attribute»</text><text fill=\"#000000\" font-family=\"sans-serif\" font-size=\"12\" lengthAdjust=\"spacingAndGlyphs\" textLength=\"6\" x=\"63\" y=\"247.6074\">x</text><line style=\"stroke: #A80036; stroke-width: 1.5;\" x1=\"33.5\" x2=\"102.5\" y1=\"255.4375\" y2=\"255.4375\"/></a><!--MD5=[2156ba9850f5573cc1fc38a6a4b2f02b]\n",
       "class E7--><a href=\"psysml:5e659b03-2baa-4472-976b-b868f73bcda1\" target=\"_top\" title=\"psysml:5e659b03-2baa-4472-976b-b868f73bcda1\" xlink:actuate=\"onRequest\" xlink:href=\"psysml:5e659b03-2baa-4472-976b-b868f73bcda1\" xlink:show=\"new\" xlink:title=\"psysml:5e659b03-2baa-4472-976b-b868f73bcda1\" xlink:type=\"simple\"><rect fill=\"#FEFECE\" filter=\"url(#folsdx6h1dav3)\" height=\"45.9375\" id=\"E7\" rx=\"10\" ry=\"10\" style=\"stroke: #A80036; stroke-width: 1.5;\" width=\"71\" x=\"138.5\" y=\"217.5\"/><text fill=\"#000000\" font-family=\"sans-serif\" font-size=\"12\" font-style=\"italic\" lengthAdjust=\"spacingAndGlyphs\" textLength=\"69\" x=\"139.5\" y=\"233.6387\">«attribute»</text><text fill=\"#000000\" font-family=\"sans-serif\" font-size=\"12\" lengthAdjust=\"spacingAndGlyphs\" textLength=\"6\" x=\"169\" y=\"247.6074\">y</text><line style=\"stroke: #A80036; stroke-width: 1.5;\" x1=\"139.5\" x2=\"208.5\" y1=\"255.4375\" y2=\"255.4375\"/></a><!--MD5=[b9389687b975829384b498ac4b7476b2]\n",
       "class E8--><a href=\"psysml:17862b5a-aa19-4a09-bb5d-84a4c59b96ac\" target=\"_top\" title=\"psysml:17862b5a-aa19-4a09-bb5d-84a4c59b96ac\" xlink:actuate=\"onRequest\" xlink:href=\"psysml:17862b5a-aa19-4a09-bb5d-84a4c59b96ac\" xlink:show=\"new\" xlink:title=\"psysml:17862b5a-aa19-4a09-bb5d-84a4c59b96ac\" xlink:type=\"simple\"><rect fill=\"#FEFECE\" filter=\"url(#folsdx6h1dav3)\" height=\"45.9375\" id=\"E8\" rx=\"10\" ry=\"10\" style=\"stroke: #A80036; stroke-width: 1.5;\" width=\"71\" x=\"84.5\" y=\"87.5\"/><text fill=\"#000000\" font-family=\"sans-serif\" font-size=\"12\" font-style=\"italic\" lengthAdjust=\"spacingAndGlyphs\" textLength=\"69\" x=\"85.5\" y=\"103.6387\">«attribute»</text><text fill=\"#000000\" font-family=\"sans-serif\" font-size=\"12\" lengthAdjust=\"spacingAndGlyphs\" textLength=\"5\" x=\"115.5\" y=\"117.6074\">z</text><line style=\"stroke: #A80036; stroke-width: 1.5;\" x1=\"85.5\" x2=\"154.5\" y1=\"125.4375\" y2=\"125.4375\"/></a><a href=\"psysml:c86dacee-9d76-4d53-8a53-8574653b1f4e\" target=\"_top\" title=\"psysml:c86dacee-9d76-4d53-8a53-8574653b1f4e\" xlink:actuate=\"onRequest\" xlink:href=\"psysml:c86dacee-9d76-4d53-8a53-8574653b1f4e\" xlink:show=\"new\" xlink:title=\"psysml:c86dacee-9d76-4d53-8a53-8574653b1f4e\" xlink:type=\"simple\"><polygon fill=\"#FFFFFF\" filter=\"url(#folsdx6h1dav3)\" points=\"271.5,84,392.5,84,399.5,106.2969,406.5,106.2969,406.5,136.5938,271.5,136.5938,271.5,84\" style=\"stroke: #000000; stroke-width: 1.5;\"/><line style=\"stroke: #000000; stroke-width: 1.5;\" x1=\"271.5\" x2=\"399.5\" y1=\"106.2969\" y2=\"106.2969\"/><text fill=\"#000000\" font-family=\"sans-serif\" font-size=\"14\" font-weight=\"bold\" lengthAdjust=\"spacingAndGlyphs\" textLength=\"115\" x=\"275.5\" y=\"98.9951\">Application Layer</text></a><a href=\"psysml:1c23a4b2-35e2-4e8a-96b6-0c0eddc8acf9\" target=\"_top\" title=\"psysml:1c23a4b2-35e2-4e8a-96b6-0c0eddc8acf9\" xlink:actuate=\"onRequest\" xlink:href=\"psysml:1c23a4b2-35e2-4e8a-96b6-0c0eddc8acf9\" xlink:show=\"new\" xlink:title=\"psysml:1c23a4b2-35e2-4e8a-96b6-0c0eddc8acf9\" xlink:type=\"simple\"><polygon fill=\"#FFFFFF\" filter=\"url(#folsdx6h1dav3)\" points=\"284,214,380,214,387,236.2969,394,236.2969,394,266.5938,284,266.5938,284,214\" style=\"stroke: #000000; stroke-width: 1.5;\"/><line style=\"stroke: #000000; stroke-width: 1.5;\" x1=\"284\" x2=\"387\" y1=\"236.2969\" y2=\"236.2969\"/><text fill=\"#000000\" font-family=\"sans-serif\" font-size=\"14\" font-weight=\"bold\" lengthAdjust=\"spacingAndGlyphs\" textLength=\"90\" x=\"288\" y=\"228.9951\">Service Layer</text></a><a href=\"psysml:a642c0ba-468c-4345-a41b-ed6906c58c2e\" target=\"_top\" title=\"psysml:a642c0ba-468c-4345-a41b-ed6906c58c2e\" xlink:actuate=\"onRequest\" xlink:href=\"psysml:a642c0ba-468c-4345-a41b-ed6906c58c2e\" xlink:show=\"new\" xlink:title=\"psysml:a642c0ba-468c-4345-a41b-ed6906c58c2e\" xlink:type=\"simple\"><polygon fill=\"#FFFFFF\" filter=\"url(#folsdx6h1dav3)\" points=\"293,344,371,344,378,366.2969,385,366.2969,385,396.5938,293,396.5938,293,344\" style=\"stroke: #000000; stroke-width: 1.5;\"/><line style=\"stroke: #000000; stroke-width: 1.5;\" x1=\"293\" x2=\"378\" y1=\"366.2969\" y2=\"366.2969\"/><text fill=\"#000000\" font-family=\"sans-serif\" font-size=\"14\" font-weight=\"bold\" lengthAdjust=\"spacingAndGlyphs\" textLength=\"72\" x=\"297\" y=\"358.9951\">Data Layer</text></a><!--MD5=[af87c684e3b0d8be13c1a698a818ef1e]\n",
       "link E3 to E4--><a href=\"psysml:e08fe20c-326f-4bf4-bdb1-9df0382c82e4\" target=\"_top\" title=\"psysml:e08fe20c-326f-4bf4-bdb1-9df0382c82e4\" xlink:actuate=\"onRequest\" xlink:href=\"psysml:e08fe20c-326f-4bf4-bdb1-9df0382c82e4\" xlink:show=\"new\" xlink:title=\"psysml:e08fe20c-326f-4bf4-bdb1-9df0382c82e4\" xlink:type=\"simple\"><path d=\"M339,137.1 C339,156.8 339,184.22 339,205.73 \" fill=\"none\" id=\"E3-&gt;E4\" style=\"stroke: #A80036; stroke-width: 1.0; stroke-dasharray: 7.0,7.0;\"/><polygon fill=\"#A80036\" points=\"339,213.95,342,205.95,336,205.95,339,213.95\" style=\"stroke: #A80036; stroke-width: 1.0;\"/><text fill=\"#000000\" font-family=\"sans-serif\" font-size=\"13\" lengthAdjust=\"spacingAndGlyphs\" textLength=\"64\" x=\"340\" y=\"180.0669\">«depend»</text></a><!--MD5=[1b7591eae5389033d8d09a9d6721a717]\n",
       "link E4 to E5--><a href=\"psysml:3bcf17b2-ef7a-4ff9-b082-cb17e1124f6a\" target=\"_top\" title=\"psysml:3bcf17b2-ef7a-4ff9-b082-cb17e1124f6a\" xlink:actuate=\"onRequest\" xlink:href=\"psysml:3bcf17b2-ef7a-4ff9-b082-cb17e1124f6a\" xlink:show=\"new\" xlink:title=\"psysml:3bcf17b2-ef7a-4ff9-b082-cb17e1124f6a\" xlink:type=\"simple\"><path d=\"M339,267.1 C339,286.8 339,314.22 339,335.73 \" fill=\"none\" id=\"E4-&gt;E5\" style=\"stroke: #A80036; stroke-width: 1.0; stroke-dasharray: 7.0,7.0;\"/><polygon fill=\"#A80036\" points=\"339,343.95,342,335.95,336,335.95,339,343.95\" style=\"stroke: #A80036; stroke-width: 1.0;\"/><text fill=\"#000000\" font-family=\"sans-serif\" font-size=\"13\" lengthAdjust=\"spacingAndGlyphs\" textLength=\"64\" x=\"340\" y=\"310.0669\">«depend»</text></a><!--MD5=[c5e8897d989ce984f93528998a7150fe]\n",
       "link E8 to E6--><a href=\"psysml:aa53d009-eedf-4466-a7b8-b270a2d13479\" target=\"_top\" title=\"psysml:aa53d009-eedf-4466-a7b8-b270a2d13479\" xlink:actuate=\"onRequest\" xlink:href=\"psysml:aa53d009-eedf-4466-a7b8-b270a2d13479\" xlink:show=\"new\" xlink:title=\"psysml:aa53d009-eedf-4466-a7b8-b270a2d13479\" xlink:type=\"simple\"><path d=\"M89.42,133.6 C79.35,142.68 69.37,154.11 64,167 C58.5,180.2 58.66,195.94 60.54,209.38 \" fill=\"none\" id=\"E8-&gt;E6\" style=\"stroke: #A80036; stroke-width: 1.0; stroke-dasharray: 7.0,7.0;\"/><polygon fill=\"#A80036\" points=\"61.9,217.4,63.517,209.0104,57.6018,210.0159,61.9,217.4\" style=\"stroke: #A80036; stroke-width: 1.0;\"/><text fill=\"#000000\" font-family=\"sans-serif\" font-size=\"13\" lengthAdjust=\"spacingAndGlyphs\" textLength=\"64\" x=\"65\" y=\"180.0669\">«depend»</text></a><!--MD5=[bfa3c8b0d15052fdf50ae9310b491027]\n",
       "link E8 to E7--><a href=\"psysml:aa53d009-eedf-4466-a7b8-b270a2d13479\" target=\"_top\" title=\"psysml:aa53d009-eedf-4466-a7b8-b270a2d13479\" xlink:actuate=\"onRequest\" xlink:href=\"psysml:aa53d009-eedf-4466-a7b8-b270a2d13479\" xlink:show=\"new\" xlink:title=\"psysml:aa53d009-eedf-4466-a7b8-b270a2d13479\" xlink:type=\"simple\"><path d=\"M129.28,133.5 C138.17,154.57 151.64,186.5 161.47,209.81 \" fill=\"none\" id=\"E8-&gt;E7\" style=\"stroke: #A80036; stroke-width: 1.0; stroke-dasharray: 7.0,7.0;\"/><polygon fill=\"#A80036\" points=\"164.66,217.35,164.3241,208.8126,158.7933,211.1385,164.66,217.35\" style=\"stroke: #A80036; stroke-width: 1.0;\"/><text fill=\"#000000\" font-family=\"sans-serif\" font-size=\"13\" lengthAdjust=\"spacingAndGlyphs\" textLength=\"64\" x=\"151\" y=\"180.0669\">«depend»</text></a><!--MD5=[c9b8358fade911e276193f040e37b5c6]\n",
       "@startuml\r\n",
       "skinparam wrapWidth 300\r\n",
       "hide circle\r\n",
       "\r\n",
       "package \"DependencyTest\" as E1  [[psysml:79533e77-94c2-4bae-8455-1b4d9ad0ac19 ]]  {\r\n",
       "package \"System\" as E2  [[psysml:aa959c9d-de71-4dee-a328-dce50e2c2738 ]]  {\r\n",
       "package \"Application Layer\" as E3  [[psysml:c86dacee-9d76-4d53-8a53-8574653b1f4e ]]  {\r\n",
       "}\r\n",
       "package \"Service Layer\" as E4  [[psysml:1c23a4b2-35e2-4e8a-96b6-0c0eddc8acf9 ]]  {\r\n",
       "}\r\n",
       "package \"Data Layer\" as E5  [[psysml:a642c0ba-468c-4345-a41b-ed6906c58c2e ]]  {\r\n",
       "}\r\n",
       "}\r\n",
       "comp usage \"x \" as E6  <<(T,blue) attribute>> [[psysml:002f54b6-1019-4822-b88b-c9a615e25b28 ]] {\r\n",
       "}\r\n",
       "comp usage \"y \" as E7  <<(T,blue) attribute>> [[psysml:5e659b03-2baa-4472-976b-b868f73bcda1 ]] {\r\n",
       "}\r\n",
       "comp usage \"z \" as E8  <<(T,blue) attribute>> [[psysml:17862b5a-aa19-4a09-bb5d-84a4c59b96ac ]] {\r\n",
       "}\r\n",
       "}\r\n",
       "E3 ..>> E4 [[psysml:e08fe20c-326f-4bf4-bdb1-9df0382c82e4 ]] : <<depend>>\r\n",
       "E4 ..>> E5 [[psysml:3bcf17b2-ef7a-4ff9-b082-cb17e1124f6a ]] : <<depend>>\r\n",
       "E8 ..>> E6 [[psysml:aa53d009-eedf-4466-a7b8-b270a2d13479 ]] : <<depend>>\r\n",
       "E8 ..>> E7 [[psysml:aa53d009-eedf-4466-a7b8-b270a2d13479 ]] : <<depend>>\r\n",
       "@enduml\r\n",
       "\n",
       "PlantUML version 1.2020.13(Sat Jun 13 12:26:38 UTC 2020)\n",
       "(EPL source distribution)\n",
       "Java Runtime: OpenJDK Runtime Environment\n",
       "JVM: OpenJDK 64-Bit Server VM\n",
       "Default Encoding: UTF-8\n",
       "Language: en\n",
       "Country: null\n",
       "--></g></svg>"
      ]
     },
     "execution_count": 24,
     "metadata": {},
     "output_type": "execute_result"
    }
   ],
   "source": [
    "%viz --style=\"STDCOLOR\" --view=\"Tree\" \"DependencyTest\""
   ]
  },
  {
   "cell_type": "code",
   "execution_count": 25,
   "id": "463f3981",
   "metadata": {
    "execution": {
     "iopub.execute_input": "2021-12-15T15:15:20.764044Z",
     "iopub.status.busy": "2021-12-15T15:15:20.763607Z",
     "iopub.status.idle": "2021-12-15T15:15:20.767997Z",
     "shell.execute_reply": "2021-12-15T15:15:20.768314Z"
    }
   },
   "outputs": [
    {
     "data": {
      "image/svg+xml": [
       "<?xml version=\"1.0\" encoding=\"UTF-8\" standalone=\"no\"?><svg xmlns=\"http://www.w3.org/2000/svg\" xmlns:xlink=\"http://www.w3.org/1999/xlink\" contentScriptType=\"application/ecmascript\" contentStyleType=\"text/css\" height=\"12px\" preserveAspectRatio=\"none\" style=\"width:12px;height:12px;\" version=\"1.1\" viewBox=\"0 0 12 12\" width=\"12px\" zoomAndPan=\"magnify\"><defs/><g><!--MD5=[aeeef50f102b80d730deb6443d14f702]\n",
       "@startuml\r\n",
       "skinparam wrapWidth 300\r\n",
       "hide circle\r\n",
       "\r\n",
       "@enduml\r\n",
       "\n",
       "PlantUML version 1.2020.13(Sat Jun 13 12:26:38 UTC 2020)\n",
       "(EPL source distribution)\n",
       "Java Runtime: OpenJDK Runtime Environment\n",
       "JVM: OpenJDK 64-Bit Server VM\n",
       "Default Encoding: UTF-8\n",
       "Language: en\n",
       "Country: null\n",
       "--></g></svg>"
      ]
     },
     "execution_count": 25,
     "metadata": {},
     "output_type": "execute_result"
    }
   ],
   "source": [
    "%viz --style=\"STDCOLOR\" --view=\"State\" \"DependencyTest\""
   ]
  },
  {
   "cell_type": "code",
   "execution_count": 26,
   "id": "af18f801",
   "metadata": {
    "execution": {
     "iopub.execute_input": "2021-12-15T15:15:20.817821Z",
     "iopub.status.busy": "2021-12-15T15:15:20.817421Z",
     "iopub.status.idle": "2021-12-15T15:15:20.851571Z",
     "shell.execute_reply": "2021-12-15T15:15:20.851186Z"
    }
   },
   "outputs": [
    {
     "data": {
      "image/svg+xml": [
       "<?xml version=\"1.0\" encoding=\"UTF-8\" standalone=\"no\"?><svg xmlns=\"http://www.w3.org/2000/svg\" xmlns:xlink=\"http://www.w3.org/1999/xlink\" contentScriptType=\"application/ecmascript\" contentStyleType=\"text/css\" height=\"361px\" preserveAspectRatio=\"none\" style=\"width:469px;height:361px;\" version=\"1.1\" viewBox=\"0 0 469 361\" width=\"469px\" zoomAndPan=\"magnify\"><defs><filter height=\"300%\" id=\"f1rj3ot6d0cymu\" width=\"300%\" x=\"-1\" y=\"-1\"><feGaussianBlur result=\"blurOut\" stdDeviation=\"2.0\"/><feColorMatrix in=\"blurOut\" result=\"blurOut2\" type=\"matrix\" values=\"0 0 0 0 0 0 0 0 0 0 0 0 0 0 0 0 0 0 .4 0\"/><feOffset dx=\"4.0\" dy=\"4.0\" in=\"blurOut2\" result=\"blurOut3\"/><feBlend in=\"SourceGraphic\" in2=\"blurOut3\" mode=\"normal\"/></filter></defs><g><!--MD5=[fbc87193dbaf4d95561dea2c320d4a47]\n",
       "cluster E1--><a href=\"psysml:79533e77-94c2-4bae-8455-1b4d9ad0ac19\" target=\"_top\" title=\"psysml:79533e77-94c2-4bae-8455-1b4d9ad0ac19\" xlink:actuate=\"onRequest\" xlink:href=\"psysml:79533e77-94c2-4bae-8455-1b4d9ad0ac19\" xlink:show=\"new\" xlink:title=\"psysml:79533e77-94c2-4bae-8455-1b4d9ad0ac19\" xlink:type=\"simple\"><polygon fill=\"#FFFFFF\" filter=\"url(#f1rj3ot6d0cymu)\" points=\"16,6,142,6,149,28.2969,447,28.2969,447,349,16,349,16,6\" style=\"stroke: #000000; stroke-width: 1.5;\"/><line style=\"stroke: #000000; stroke-width: 1.5;\" x1=\"16\" x2=\"149\" y1=\"28.2969\" y2=\"28.2969\"/><text fill=\"#000000\" font-family=\"sans-serif\" font-size=\"14\" font-weight=\"bold\" lengthAdjust=\"spacingAndGlyphs\" textLength=\"120\" x=\"20\" y=\"20.9951\">DependencyTest</text></a><!--MD5=[e4f7fae6ed58524ba242bb0b0d3be6b7]\n",
       "cluster E2--><a href=\"psysml:aa959c9d-de71-4dee-a328-dce50e2c2738\" target=\"_top\" title=\"psysml:aa959c9d-de71-4dee-a328-dce50e2c2738\" xlink:actuate=\"onRequest\" xlink:href=\"psysml:aa959c9d-de71-4dee-a328-dce50e2c2738\" xlink:show=\"new\" xlink:title=\"psysml:aa959c9d-de71-4dee-a328-dce50e2c2738\" xlink:type=\"simple\"><polygon fill=\"#FFFFFF\" filter=\"url(#f1rj3ot6d0cymu)\" points=\"255,49,312,49,319,71.2969,423,71.2969,423,325,255,325,255,49\" style=\"stroke: #000000; stroke-width: 1.5;\"/><line style=\"stroke: #000000; stroke-width: 1.5;\" x1=\"255\" x2=\"319\" y1=\"71.2969\" y2=\"71.2969\"/><text fill=\"#000000\" font-family=\"sans-serif\" font-size=\"14\" font-weight=\"bold\" lengthAdjust=\"spacingAndGlyphs\" textLength=\"51\" x=\"259\" y=\"63.9951\">System</text></a><!--MD5=[60a26617385b1d2d0262a64233df1f8d]\n",
       "class E6--><a href=\"psysml:002f54b6-1019-4822-b88b-c9a615e25b28\" target=\"_top\" title=\"psysml:002f54b6-1019-4822-b88b-c9a615e25b28\" xlink:actuate=\"onRequest\" xlink:href=\"psysml:002f54b6-1019-4822-b88b-c9a615e25b28\" xlink:show=\"new\" xlink:title=\"psysml:002f54b6-1019-4822-b88b-c9a615e25b28\" xlink:type=\"simple\"><rect fill=\"#FEFECE\" filter=\"url(#f1rj3ot6d0cymu)\" height=\"45.9375\" id=\"E6\" rx=\"10\" ry=\"10\" style=\"stroke: #A80036; stroke-width: 1.5;\" width=\"71\" x=\"32.5\" y=\"173.5\"/><text fill=\"#000000\" font-family=\"sans-serif\" font-size=\"12\" font-style=\"italic\" lengthAdjust=\"spacingAndGlyphs\" textLength=\"69\" x=\"33.5\" y=\"189.6387\">«attribute»</text><text fill=\"#000000\" font-family=\"sans-serif\" font-size=\"12\" lengthAdjust=\"spacingAndGlyphs\" textLength=\"6\" x=\"63\" y=\"203.6074\">x</text><line style=\"stroke: #A80036; stroke-width: 1.5;\" x1=\"33.5\" x2=\"102.5\" y1=\"211.4375\" y2=\"211.4375\"/></a><!--MD5=[2156ba9850f5573cc1fc38a6a4b2f02b]\n",
       "class E7--><a href=\"psysml:5e659b03-2baa-4472-976b-b868f73bcda1\" target=\"_top\" title=\"psysml:5e659b03-2baa-4472-976b-b868f73bcda1\" xlink:actuate=\"onRequest\" xlink:href=\"psysml:5e659b03-2baa-4472-976b-b868f73bcda1\" xlink:show=\"new\" xlink:title=\"psysml:5e659b03-2baa-4472-976b-b868f73bcda1\" xlink:type=\"simple\"><rect fill=\"#FEFECE\" filter=\"url(#f1rj3ot6d0cymu)\" height=\"45.9375\" id=\"E7\" rx=\"10\" ry=\"10\" style=\"stroke: #A80036; stroke-width: 1.5;\" width=\"71\" x=\"138.5\" y=\"173.5\"/><text fill=\"#000000\" font-family=\"sans-serif\" font-size=\"12\" font-style=\"italic\" lengthAdjust=\"spacingAndGlyphs\" textLength=\"69\" x=\"139.5\" y=\"189.6387\">«attribute»</text><text fill=\"#000000\" font-family=\"sans-serif\" font-size=\"12\" lengthAdjust=\"spacingAndGlyphs\" textLength=\"6\" x=\"169\" y=\"203.6074\">y</text><line style=\"stroke: #A80036; stroke-width: 1.5;\" x1=\"139.5\" x2=\"208.5\" y1=\"211.4375\" y2=\"211.4375\"/></a><!--MD5=[b9389687b975829384b498ac4b7476b2]\n",
       "class E8--><a href=\"psysml:17862b5a-aa19-4a09-bb5d-84a4c59b96ac\" target=\"_top\" title=\"psysml:17862b5a-aa19-4a09-bb5d-84a4c59b96ac\" xlink:actuate=\"onRequest\" xlink:href=\"psysml:17862b5a-aa19-4a09-bb5d-84a4c59b96ac\" xlink:show=\"new\" xlink:title=\"psysml:17862b5a-aa19-4a09-bb5d-84a4c59b96ac\" xlink:type=\"simple\"><rect fill=\"#FEFECE\" filter=\"url(#f1rj3ot6d0cymu)\" height=\"45.9375\" id=\"E8\" rx=\"10\" ry=\"10\" style=\"stroke: #A80036; stroke-width: 1.5;\" width=\"71\" x=\"84.5\" y=\"87.5\"/><text fill=\"#000000\" font-family=\"sans-serif\" font-size=\"12\" font-style=\"italic\" lengthAdjust=\"spacingAndGlyphs\" textLength=\"69\" x=\"85.5\" y=\"103.6387\">«attribute»</text><text fill=\"#000000\" font-family=\"sans-serif\" font-size=\"12\" lengthAdjust=\"spacingAndGlyphs\" textLength=\"5\" x=\"115.5\" y=\"117.6074\">z</text><line style=\"stroke: #A80036; stroke-width: 1.5;\" x1=\"85.5\" x2=\"154.5\" y1=\"125.4375\" y2=\"125.4375\"/></a><a href=\"psysml:c86dacee-9d76-4d53-8a53-8574653b1f4e\" target=\"_top\" title=\"psysml:c86dacee-9d76-4d53-8a53-8574653b1f4e\" xlink:actuate=\"onRequest\" xlink:href=\"psysml:c86dacee-9d76-4d53-8a53-8574653b1f4e\" xlink:show=\"new\" xlink:title=\"psysml:c86dacee-9d76-4d53-8a53-8574653b1f4e\" xlink:type=\"simple\"><polygon fill=\"#FFFFFF\" filter=\"url(#f1rj3ot6d0cymu)\" points=\"271.5,84,392.5,84,399.5,106.2969,406.5,106.2969,406.5,136.5938,271.5,136.5938,271.5,84\" style=\"stroke: #000000; stroke-width: 1.5;\"/><line style=\"stroke: #000000; stroke-width: 1.5;\" x1=\"271.5\" x2=\"399.5\" y1=\"106.2969\" y2=\"106.2969\"/><text fill=\"#000000\" font-family=\"sans-serif\" font-size=\"14\" font-weight=\"bold\" lengthAdjust=\"spacingAndGlyphs\" textLength=\"115\" x=\"275.5\" y=\"98.9951\">Application Layer</text></a><a href=\"psysml:1c23a4b2-35e2-4e8a-96b6-0c0eddc8acf9\" target=\"_top\" title=\"psysml:1c23a4b2-35e2-4e8a-96b6-0c0eddc8acf9\" xlink:actuate=\"onRequest\" xlink:href=\"psysml:1c23a4b2-35e2-4e8a-96b6-0c0eddc8acf9\" xlink:show=\"new\" xlink:title=\"psysml:1c23a4b2-35e2-4e8a-96b6-0c0eddc8acf9\" xlink:type=\"simple\"><polygon fill=\"#FFFFFF\" filter=\"url(#f1rj3ot6d0cymu)\" points=\"284,170,380,170,387,192.2969,394,192.2969,394,222.5938,284,222.5938,284,170\" style=\"stroke: #000000; stroke-width: 1.5;\"/><line style=\"stroke: #000000; stroke-width: 1.5;\" x1=\"284\" x2=\"387\" y1=\"192.2969\" y2=\"192.2969\"/><text fill=\"#000000\" font-family=\"sans-serif\" font-size=\"14\" font-weight=\"bold\" lengthAdjust=\"spacingAndGlyphs\" textLength=\"90\" x=\"288\" y=\"184.9951\">Service Layer</text></a><a href=\"psysml:a642c0ba-468c-4345-a41b-ed6906c58c2e\" target=\"_top\" title=\"psysml:a642c0ba-468c-4345-a41b-ed6906c58c2e\" xlink:actuate=\"onRequest\" xlink:href=\"psysml:a642c0ba-468c-4345-a41b-ed6906c58c2e\" xlink:show=\"new\" xlink:title=\"psysml:a642c0ba-468c-4345-a41b-ed6906c58c2e\" xlink:type=\"simple\"><polygon fill=\"#FFFFFF\" filter=\"url(#f1rj3ot6d0cymu)\" points=\"293,256,371,256,378,278.2969,385,278.2969,385,308.5938,293,308.5938,293,256\" style=\"stroke: #000000; stroke-width: 1.5;\"/><line style=\"stroke: #000000; stroke-width: 1.5;\" x1=\"293\" x2=\"378\" y1=\"278.2969\" y2=\"278.2969\"/><text fill=\"#000000\" font-family=\"sans-serif\" font-size=\"14\" font-weight=\"bold\" lengthAdjust=\"spacingAndGlyphs\" textLength=\"72\" x=\"297\" y=\"270.9951\">Data Layer</text></a><!--MD5=[af87c684e3b0d8be13c1a698a818ef1e]\n",
       "link E3 to E4--><a href=\"psysml:e08fe20c-326f-4bf4-bdb1-9df0382c82e4\" target=\"_top\" title=\"psysml:e08fe20c-326f-4bf4-bdb1-9df0382c82e4\" xlink:actuate=\"onRequest\" xlink:href=\"psysml:e08fe20c-326f-4bf4-bdb1-9df0382c82e4\" xlink:show=\"new\" xlink:title=\"psysml:e08fe20c-326f-4bf4-bdb1-9df0382c82e4\" xlink:type=\"simple\"><path d=\"M339,137.16 C339,144.98 339,153.69 339,161.94 \" fill=\"none\" id=\"E3-&gt;E4\" style=\"stroke: #A80036; stroke-width: 1.0; stroke-dasharray: 7.0,7.0;\"/><polygon fill=\"#A80036\" points=\"339,170,342,162,336,162,339,170\" style=\"stroke: #A80036; stroke-width: 1.0;\"/><text fill=\"#000000\" font-family=\"sans-serif\" font-size=\"13\" lengthAdjust=\"spacingAndGlyphs\" textLength=\"64\" x=\"340\" y=\"158.0669\">«depend»</text></a><!--MD5=[1b7591eae5389033d8d09a9d6721a717]\n",
       "link E4 to E5--><a href=\"psysml:3bcf17b2-ef7a-4ff9-b082-cb17e1124f6a\" target=\"_top\" title=\"psysml:3bcf17b2-ef7a-4ff9-b082-cb17e1124f6a\" xlink:actuate=\"onRequest\" xlink:href=\"psysml:3bcf17b2-ef7a-4ff9-b082-cb17e1124f6a\" xlink:show=\"new\" xlink:title=\"psysml:3bcf17b2-ef7a-4ff9-b082-cb17e1124f6a\" xlink:type=\"simple\"><path d=\"M339,223.16 C339,230.98 339,239.69 339,247.94 \" fill=\"none\" id=\"E4-&gt;E5\" style=\"stroke: #A80036; stroke-width: 1.0; stroke-dasharray: 7.0,7.0;\"/><polygon fill=\"#A80036\" points=\"339,256,342,248,336,248,339,256\" style=\"stroke: #A80036; stroke-width: 1.0;\"/><text fill=\"#000000\" font-family=\"sans-serif\" font-size=\"13\" lengthAdjust=\"spacingAndGlyphs\" textLength=\"64\" x=\"340\" y=\"244.0669\">«depend»</text></a><!--MD5=[c5e8897d989ce984f93528998a7150fe]\n",
       "link E8 to E6--><a href=\"psysml:aa53d009-eedf-4466-a7b8-b270a2d13479\" target=\"_top\" title=\"psysml:aa53d009-eedf-4466-a7b8-b270a2d13479\" xlink:actuate=\"onRequest\" xlink:href=\"psysml:aa53d009-eedf-4466-a7b8-b270a2d13479\" xlink:show=\"new\" xlink:title=\"psysml:aa53d009-eedf-4466-a7b8-b270a2d13479\" xlink:type=\"simple\"><path d=\"M84.49,125.34 C76.34,130.27 68.69,136.72 64,145 C60.54,151.1 59.62,158.31 60,165.33 \" fill=\"none\" id=\"E8-&gt;E6\" style=\"stroke: #A80036; stroke-width: 1.0; stroke-dasharray: 7.0,7.0;\"/><polygon fill=\"#A80036\" points=\"60.97,173.42,63.0061,165.1221,57.0479,165.8294,60.97,173.42\" style=\"stroke: #A80036; stroke-width: 1.0;\"/><text fill=\"#000000\" font-family=\"sans-serif\" font-size=\"13\" lengthAdjust=\"spacingAndGlyphs\" textLength=\"64\" x=\"65\" y=\"158.0669\">«depend»</text></a><!--MD5=[bfa3c8b0d15052fdf50ae9310b491027]\n",
       "link E8 to E7--><a href=\"psysml:aa53d009-eedf-4466-a7b8-b270a2d13479\" target=\"_top\" title=\"psysml:aa53d009-eedf-4466-a7b8-b270a2d13479\" xlink:actuate=\"onRequest\" xlink:href=\"psysml:aa53d009-eedf-4466-a7b8-b270a2d13479\" xlink:show=\"new\" xlink:title=\"psysml:aa53d009-eedf-4466-a7b8-b270a2d13479\" xlink:type=\"simple\"><path d=\"M134.19,133.57 C140.65,143.62 148.38,155.65 155.31,166.42 \" fill=\"none\" id=\"E8-&gt;E7\" style=\"stroke: #A80036; stroke-width: 1.0; stroke-dasharray: 7.0,7.0;\"/><polygon fill=\"#A80036\" points=\"159.72,173.29,157.9148,164.9389,152.8688,168.185,159.72,173.29\" style=\"stroke: #A80036; stroke-width: 1.0;\"/><text fill=\"#000000\" font-family=\"sans-serif\" font-size=\"13\" lengthAdjust=\"spacingAndGlyphs\" textLength=\"64\" x=\"152\" y=\"158.0669\">«depend»</text></a><!--MD5=[b4cc650ad061cf6ace5d79d88ffbb0d7]\n",
       "@startuml\r\n",
       "skinparam ranksep 10\r\n",
       "skinparam rectangle {\r\n",
       " backgroundColor<<block>> LightGreen\r\n",
       "}\r\n",
       "skinparam wrapWidth 300\r\n",
       "hide circle\r\n",
       "\r\n",
       "package \"DependencyTest\" as E1  [[psysml:79533e77-94c2-4bae-8455-1b4d9ad0ac19 ]]  {\r\n",
       "package \"System\" as E2  [[psysml:aa959c9d-de71-4dee-a328-dce50e2c2738 ]]  {\r\n",
       "package \"Application Layer\" as E3  [[psysml:c86dacee-9d76-4d53-8a53-8574653b1f4e ]]  {\r\n",
       "}\r\n",
       "package \"Service Layer\" as E4  [[psysml:1c23a4b2-35e2-4e8a-96b6-0c0eddc8acf9 ]]  {\r\n",
       "}\r\n",
       "package \"Data Layer\" as E5  [[psysml:a642c0ba-468c-4345-a41b-ed6906c58c2e ]]  {\r\n",
       "}\r\n",
       "}\r\n",
       "comp usage \"x \" as E6  <<(T,blue) attribute>> [[psysml:002f54b6-1019-4822-b88b-c9a615e25b28 ]] {\r\n",
       "}\r\n",
       "comp usage \"y \" as E7  <<(T,blue) attribute>> [[psysml:5e659b03-2baa-4472-976b-b868f73bcda1 ]] {\r\n",
       "}\r\n",
       "comp usage \"z \" as E8  <<(T,blue) attribute>> [[psysml:17862b5a-aa19-4a09-bb5d-84a4c59b96ac ]] {\r\n",
       "}\r\n",
       "}\r\n",
       "E3 ..>> E4 [[psysml:e08fe20c-326f-4bf4-bdb1-9df0382c82e4 ]] : <<depend>>\r\n",
       "E4 ..>> E5 [[psysml:3bcf17b2-ef7a-4ff9-b082-cb17e1124f6a ]] : <<depend>>\r\n",
       "E8 ..>> E6 [[psysml:aa53d009-eedf-4466-a7b8-b270a2d13479 ]] : <<depend>>\r\n",
       "E8 ..>> E7 [[psysml:aa53d009-eedf-4466-a7b8-b270a2d13479 ]] : <<depend>>\r\n",
       "@enduml\r\n",
       "\n",
       "PlantUML version 1.2020.13(Sat Jun 13 12:26:38 UTC 2020)\n",
       "(EPL source distribution)\n",
       "Java Runtime: OpenJDK Runtime Environment\n",
       "JVM: OpenJDK 64-Bit Server VM\n",
       "Default Encoding: UTF-8\n",
       "Language: en\n",
       "Country: null\n",
       "--></g></svg>"
      ]
     },
     "execution_count": 26,
     "metadata": {},
     "output_type": "execute_result"
    }
   ],
   "source": [
    "%viz --style=\"STDCOLOR\" --view=\"Interconnection\" \"DependencyTest\""
   ]
  },
  {
   "cell_type": "code",
   "execution_count": 27,
   "id": "0cd8e263",
   "metadata": {
    "execution": {
     "iopub.execute_input": "2021-12-15T15:15:20.900793Z",
     "iopub.status.busy": "2021-12-15T15:15:20.900344Z",
     "iopub.status.idle": "2021-12-15T15:15:20.905436Z",
     "shell.execute_reply": "2021-12-15T15:15:20.905762Z"
    }
   },
   "outputs": [
    {
     "data": {
      "image/svg+xml": [
       "<?xml version=\"1.0\" encoding=\"UTF-8\" standalone=\"no\"?><svg xmlns=\"http://www.w3.org/2000/svg\" xmlns:xlink=\"http://www.w3.org/1999/xlink\" contentScriptType=\"application/ecmascript\" contentStyleType=\"text/css\" height=\"12px\" preserveAspectRatio=\"none\" style=\"width:12px;height:12px;\" version=\"1.1\" viewBox=\"0 0 12 12\" width=\"12px\" zoomAndPan=\"magnify\"><defs/><g><!--MD5=[9863325348a96a77dacc89509d8ee65e]\n",
       "@startuml\r\n",
       "skinparam ranksep 8\r\n",
       "skinparam wrapWidth 300\r\n",
       "hide circle\r\n",
       "\r\n",
       "@enduml\r\n",
       "\n",
       "PlantUML version 1.2020.13(Sat Jun 13 12:26:38 UTC 2020)\n",
       "(EPL source distribution)\n",
       "Java Runtime: OpenJDK Runtime Environment\n",
       "JVM: OpenJDK 64-Bit Server VM\n",
       "Default Encoding: UTF-8\n",
       "Language: en\n",
       "Country: null\n",
       "--></g></svg>"
      ]
     },
     "execution_count": 27,
     "metadata": {},
     "output_type": "execute_result"
    }
   ],
   "source": [
    "%viz --style=\"STDCOLOR\" --view=\"Action\" \"DependencyTest\""
   ]
  },
  {
   "cell_type": "code",
   "execution_count": 28,
   "id": "bebe6a1e",
   "metadata": {
    "execution": {
     "iopub.execute_input": "2021-12-15T15:15:20.955338Z",
     "iopub.status.busy": "2021-12-15T15:15:20.954931Z",
     "iopub.status.idle": "2021-12-15T15:15:20.959927Z",
     "shell.execute_reply": "2021-12-15T15:15:20.960247Z"
    }
   },
   "outputs": [
    {
     "data": {
      "image/svg+xml": [
       "<?xml version=\"1.0\" encoding=\"UTF-8\" standalone=\"no\"?><svg xmlns=\"http://www.w3.org/2000/svg\" xmlns:xlink=\"http://www.w3.org/1999/xlink\" contentScriptType=\"application/ecmascript\" contentStyleType=\"text/css\" height=\"12px\" preserveAspectRatio=\"none\" style=\"width:12px;height:12px;\" version=\"1.1\" viewBox=\"0 0 12 12\" width=\"12px\" zoomAndPan=\"magnify\"><defs/><g><!--MD5=[6c4bca67b4d71758159a5a7f1f1e1fc2]\n",
       "@startuml\r\n",
       "skinparam roundcorner 20\r\n",
       "skinparam BoxPadding 20\r\n",
       "skinparam SequenceBoxBackgroundColor #white\r\n",
       "skinparam style strictuml\r\n",
       "skinparam maxMessageSize 100\r\n",
       "skinparam wrapWidth 300\r\n",
       "hide circle\r\n",
       "\r\n",
       "@enduml\r\n",
       "\n",
       "PlantUML version 1.2020.13(Sat Jun 13 12:26:38 UTC 2020)\n",
       "(EPL source distribution)\n",
       "Java Runtime: OpenJDK Runtime Environment\n",
       "JVM: OpenJDK 64-Bit Server VM\n",
       "Default Encoding: UTF-8\n",
       "Language: en\n",
       "Country: null\n",
       "--></g></svg>"
      ]
     },
     "execution_count": 28,
     "metadata": {},
     "output_type": "execute_result"
    }
   ],
   "source": [
    "%viz --style=\"STDCOLOR\" --view=\"Sequence\" \"DependencyTest\""
   ]
  },
  {
   "cell_type": "code",
   "execution_count": 29,
   "id": "46141349",
   "metadata": {
    "execution": {
     "iopub.execute_input": "2021-12-15T15:15:21.009965Z",
     "iopub.status.busy": "2021-12-15T15:15:21.009564Z",
     "iopub.status.idle": "2021-12-15T15:15:21.047886Z",
     "shell.execute_reply": "2021-12-15T15:15:21.046007Z"
    }
   },
   "outputs": [
    {
     "data": {
      "image/svg+xml": [
       "<?xml version=\"1.0\" encoding=\"UTF-8\" standalone=\"no\"?><svg xmlns=\"http://www.w3.org/2000/svg\" xmlns:xlink=\"http://www.w3.org/1999/xlink\" contentScriptType=\"application/ecmascript\" contentStyleType=\"text/css\" height=\"449px\" preserveAspectRatio=\"none\" style=\"width:469px;height:449px;\" version=\"1.1\" viewBox=\"0 0 469 449\" width=\"469px\" zoomAndPan=\"magnify\"><defs><filter height=\"300%\" id=\"folsdx6h1dav3\" width=\"300%\" x=\"-1\" y=\"-1\"><feGaussianBlur result=\"blurOut\" stdDeviation=\"2.0\"/><feColorMatrix in=\"blurOut\" result=\"blurOut2\" type=\"matrix\" values=\"0 0 0 0 0 0 0 0 0 0 0 0 0 0 0 0 0 0 .4 0\"/><feOffset dx=\"4.0\" dy=\"4.0\" in=\"blurOut2\" result=\"blurOut3\"/><feBlend in=\"SourceGraphic\" in2=\"blurOut3\" mode=\"normal\"/></filter></defs><g><!--MD5=[fbc87193dbaf4d95561dea2c320d4a47]\n",
       "cluster E1--><a href=\"psysml:79533e77-94c2-4bae-8455-1b4d9ad0ac19\" target=\"_top\" title=\"psysml:79533e77-94c2-4bae-8455-1b4d9ad0ac19\" xlink:actuate=\"onRequest\" xlink:href=\"psysml:79533e77-94c2-4bae-8455-1b4d9ad0ac19\" xlink:show=\"new\" xlink:title=\"psysml:79533e77-94c2-4bae-8455-1b4d9ad0ac19\" xlink:type=\"simple\"><polygon fill=\"#FFFFFF\" filter=\"url(#folsdx6h1dav3)\" points=\"16,6,142,6,149,28.2969,447,28.2969,447,437,16,437,16,6\" style=\"stroke: #000000; stroke-width: 1.5;\"/><line style=\"stroke: #000000; stroke-width: 1.5;\" x1=\"16\" x2=\"149\" y1=\"28.2969\" y2=\"28.2969\"/><text fill=\"#000000\" font-family=\"sans-serif\" font-size=\"14\" font-weight=\"bold\" lengthAdjust=\"spacingAndGlyphs\" textLength=\"120\" x=\"20\" y=\"20.9951\">DependencyTest</text></a><!--MD5=[e4f7fae6ed58524ba242bb0b0d3be6b7]\n",
       "cluster E2--><a href=\"psysml:aa959c9d-de71-4dee-a328-dce50e2c2738\" target=\"_top\" title=\"psysml:aa959c9d-de71-4dee-a328-dce50e2c2738\" xlink:actuate=\"onRequest\" xlink:href=\"psysml:aa959c9d-de71-4dee-a328-dce50e2c2738\" xlink:show=\"new\" xlink:title=\"psysml:aa959c9d-de71-4dee-a328-dce50e2c2738\" xlink:type=\"simple\"><polygon fill=\"#FFFFFF\" filter=\"url(#folsdx6h1dav3)\" points=\"255,49,312,49,319,71.2969,423,71.2969,423,413,255,413,255,49\" style=\"stroke: #000000; stroke-width: 1.5;\"/><line style=\"stroke: #000000; stroke-width: 1.5;\" x1=\"255\" x2=\"319\" y1=\"71.2969\" y2=\"71.2969\"/><text fill=\"#000000\" font-family=\"sans-serif\" font-size=\"14\" font-weight=\"bold\" lengthAdjust=\"spacingAndGlyphs\" textLength=\"51\" x=\"259\" y=\"63.9951\">System</text></a><!--MD5=[60a26617385b1d2d0262a64233df1f8d]\n",
       "class E6--><a href=\"psysml:002f54b6-1019-4822-b88b-c9a615e25b28\" target=\"_top\" title=\"psysml:002f54b6-1019-4822-b88b-c9a615e25b28\" xlink:actuate=\"onRequest\" xlink:href=\"psysml:002f54b6-1019-4822-b88b-c9a615e25b28\" xlink:show=\"new\" xlink:title=\"psysml:002f54b6-1019-4822-b88b-c9a615e25b28\" xlink:type=\"simple\"><rect fill=\"#FEFECE\" filter=\"url(#folsdx6h1dav3)\" height=\"45.9375\" id=\"E6\" rx=\"10\" ry=\"10\" style=\"stroke: #A80036; stroke-width: 1.5;\" width=\"71\" x=\"32.5\" y=\"217.5\"/><text fill=\"#000000\" font-family=\"sans-serif\" font-size=\"12\" font-style=\"italic\" lengthAdjust=\"spacingAndGlyphs\" textLength=\"69\" x=\"33.5\" y=\"233.6387\">«attribute»</text><text fill=\"#000000\" font-family=\"sans-serif\" font-size=\"12\" lengthAdjust=\"spacingAndGlyphs\" textLength=\"6\" x=\"63\" y=\"247.6074\">x</text><line style=\"stroke: #A80036; stroke-width: 1.5;\" x1=\"33.5\" x2=\"102.5\" y1=\"255.4375\" y2=\"255.4375\"/></a><!--MD5=[2156ba9850f5573cc1fc38a6a4b2f02b]\n",
       "class E7--><a href=\"psysml:5e659b03-2baa-4472-976b-b868f73bcda1\" target=\"_top\" title=\"psysml:5e659b03-2baa-4472-976b-b868f73bcda1\" xlink:actuate=\"onRequest\" xlink:href=\"psysml:5e659b03-2baa-4472-976b-b868f73bcda1\" xlink:show=\"new\" xlink:title=\"psysml:5e659b03-2baa-4472-976b-b868f73bcda1\" xlink:type=\"simple\"><rect fill=\"#FEFECE\" filter=\"url(#folsdx6h1dav3)\" height=\"45.9375\" id=\"E7\" rx=\"10\" ry=\"10\" style=\"stroke: #A80036; stroke-width: 1.5;\" width=\"71\" x=\"138.5\" y=\"217.5\"/><text fill=\"#000000\" font-family=\"sans-serif\" font-size=\"12\" font-style=\"italic\" lengthAdjust=\"spacingAndGlyphs\" textLength=\"69\" x=\"139.5\" y=\"233.6387\">«attribute»</text><text fill=\"#000000\" font-family=\"sans-serif\" font-size=\"12\" lengthAdjust=\"spacingAndGlyphs\" textLength=\"6\" x=\"169\" y=\"247.6074\">y</text><line style=\"stroke: #A80036; stroke-width: 1.5;\" x1=\"139.5\" x2=\"208.5\" y1=\"255.4375\" y2=\"255.4375\"/></a><!--MD5=[b9389687b975829384b498ac4b7476b2]\n",
       "class E8--><a href=\"psysml:17862b5a-aa19-4a09-bb5d-84a4c59b96ac\" target=\"_top\" title=\"psysml:17862b5a-aa19-4a09-bb5d-84a4c59b96ac\" xlink:actuate=\"onRequest\" xlink:href=\"psysml:17862b5a-aa19-4a09-bb5d-84a4c59b96ac\" xlink:show=\"new\" xlink:title=\"psysml:17862b5a-aa19-4a09-bb5d-84a4c59b96ac\" xlink:type=\"simple\"><rect fill=\"#FEFECE\" filter=\"url(#folsdx6h1dav3)\" height=\"45.9375\" id=\"E8\" rx=\"10\" ry=\"10\" style=\"stroke: #A80036; stroke-width: 1.5;\" width=\"71\" x=\"84.5\" y=\"87.5\"/><text fill=\"#000000\" font-family=\"sans-serif\" font-size=\"12\" font-style=\"italic\" lengthAdjust=\"spacingAndGlyphs\" textLength=\"69\" x=\"85.5\" y=\"103.6387\">«attribute»</text><text fill=\"#000000\" font-family=\"sans-serif\" font-size=\"12\" lengthAdjust=\"spacingAndGlyphs\" textLength=\"5\" x=\"115.5\" y=\"117.6074\">z</text><line style=\"stroke: #A80036; stroke-width: 1.5;\" x1=\"85.5\" x2=\"154.5\" y1=\"125.4375\" y2=\"125.4375\"/></a><a href=\"psysml:c86dacee-9d76-4d53-8a53-8574653b1f4e\" target=\"_top\" title=\"psysml:c86dacee-9d76-4d53-8a53-8574653b1f4e\" xlink:actuate=\"onRequest\" xlink:href=\"psysml:c86dacee-9d76-4d53-8a53-8574653b1f4e\" xlink:show=\"new\" xlink:title=\"psysml:c86dacee-9d76-4d53-8a53-8574653b1f4e\" xlink:type=\"simple\"><polygon fill=\"#FFFFFF\" filter=\"url(#folsdx6h1dav3)\" points=\"271.5,84,392.5,84,399.5,106.2969,406.5,106.2969,406.5,136.5938,271.5,136.5938,271.5,84\" style=\"stroke: #000000; stroke-width: 1.5;\"/><line style=\"stroke: #000000; stroke-width: 1.5;\" x1=\"271.5\" x2=\"399.5\" y1=\"106.2969\" y2=\"106.2969\"/><text fill=\"#000000\" font-family=\"sans-serif\" font-size=\"14\" font-weight=\"bold\" lengthAdjust=\"spacingAndGlyphs\" textLength=\"115\" x=\"275.5\" y=\"98.9951\">Application Layer</text></a><a href=\"psysml:1c23a4b2-35e2-4e8a-96b6-0c0eddc8acf9\" target=\"_top\" title=\"psysml:1c23a4b2-35e2-4e8a-96b6-0c0eddc8acf9\" xlink:actuate=\"onRequest\" xlink:href=\"psysml:1c23a4b2-35e2-4e8a-96b6-0c0eddc8acf9\" xlink:show=\"new\" xlink:title=\"psysml:1c23a4b2-35e2-4e8a-96b6-0c0eddc8acf9\" xlink:type=\"simple\"><polygon fill=\"#FFFFFF\" filter=\"url(#folsdx6h1dav3)\" points=\"284,214,380,214,387,236.2969,394,236.2969,394,266.5938,284,266.5938,284,214\" style=\"stroke: #000000; stroke-width: 1.5;\"/><line style=\"stroke: #000000; stroke-width: 1.5;\" x1=\"284\" x2=\"387\" y1=\"236.2969\" y2=\"236.2969\"/><text fill=\"#000000\" font-family=\"sans-serif\" font-size=\"14\" font-weight=\"bold\" lengthAdjust=\"spacingAndGlyphs\" textLength=\"90\" x=\"288\" y=\"228.9951\">Service Layer</text></a><a href=\"psysml:a642c0ba-468c-4345-a41b-ed6906c58c2e\" target=\"_top\" title=\"psysml:a642c0ba-468c-4345-a41b-ed6906c58c2e\" xlink:actuate=\"onRequest\" xlink:href=\"psysml:a642c0ba-468c-4345-a41b-ed6906c58c2e\" xlink:show=\"new\" xlink:title=\"psysml:a642c0ba-468c-4345-a41b-ed6906c58c2e\" xlink:type=\"simple\"><polygon fill=\"#FFFFFF\" filter=\"url(#folsdx6h1dav3)\" points=\"293,344,371,344,378,366.2969,385,366.2969,385,396.5938,293,396.5938,293,344\" style=\"stroke: #000000; stroke-width: 1.5;\"/><line style=\"stroke: #000000; stroke-width: 1.5;\" x1=\"293\" x2=\"378\" y1=\"366.2969\" y2=\"366.2969\"/><text fill=\"#000000\" font-family=\"sans-serif\" font-size=\"14\" font-weight=\"bold\" lengthAdjust=\"spacingAndGlyphs\" textLength=\"72\" x=\"297\" y=\"358.9951\">Data Layer</text></a><!--MD5=[af87c684e3b0d8be13c1a698a818ef1e]\n",
       "link E3 to E4--><a href=\"psysml:e08fe20c-326f-4bf4-bdb1-9df0382c82e4\" target=\"_top\" title=\"psysml:e08fe20c-326f-4bf4-bdb1-9df0382c82e4\" xlink:actuate=\"onRequest\" xlink:href=\"psysml:e08fe20c-326f-4bf4-bdb1-9df0382c82e4\" xlink:show=\"new\" xlink:title=\"psysml:e08fe20c-326f-4bf4-bdb1-9df0382c82e4\" xlink:type=\"simple\"><path d=\"M339,137.1 C339,156.8 339,184.22 339,205.73 \" fill=\"none\" id=\"E3-&gt;E4\" style=\"stroke: #A80036; stroke-width: 1.0; stroke-dasharray: 7.0,7.0;\"/><polygon fill=\"#A80036\" points=\"339,213.95,342,205.95,336,205.95,339,213.95\" style=\"stroke: #A80036; stroke-width: 1.0;\"/><text fill=\"#000000\" font-family=\"sans-serif\" font-size=\"13\" lengthAdjust=\"spacingAndGlyphs\" textLength=\"64\" x=\"340\" y=\"180.0669\">«depend»</text></a><!--MD5=[1b7591eae5389033d8d09a9d6721a717]\n",
       "link E4 to E5--><a href=\"psysml:3bcf17b2-ef7a-4ff9-b082-cb17e1124f6a\" target=\"_top\" title=\"psysml:3bcf17b2-ef7a-4ff9-b082-cb17e1124f6a\" xlink:actuate=\"onRequest\" xlink:href=\"psysml:3bcf17b2-ef7a-4ff9-b082-cb17e1124f6a\" xlink:show=\"new\" xlink:title=\"psysml:3bcf17b2-ef7a-4ff9-b082-cb17e1124f6a\" xlink:type=\"simple\"><path d=\"M339,267.1 C339,286.8 339,314.22 339,335.73 \" fill=\"none\" id=\"E4-&gt;E5\" style=\"stroke: #A80036; stroke-width: 1.0; stroke-dasharray: 7.0,7.0;\"/><polygon fill=\"#A80036\" points=\"339,343.95,342,335.95,336,335.95,339,343.95\" style=\"stroke: #A80036; stroke-width: 1.0;\"/><text fill=\"#000000\" font-family=\"sans-serif\" font-size=\"13\" lengthAdjust=\"spacingAndGlyphs\" textLength=\"64\" x=\"340\" y=\"310.0669\">«depend»</text></a><!--MD5=[c5e8897d989ce984f93528998a7150fe]\n",
       "link E8 to E6--><a href=\"psysml:aa53d009-eedf-4466-a7b8-b270a2d13479\" target=\"_top\" title=\"psysml:aa53d009-eedf-4466-a7b8-b270a2d13479\" xlink:actuate=\"onRequest\" xlink:href=\"psysml:aa53d009-eedf-4466-a7b8-b270a2d13479\" xlink:show=\"new\" xlink:title=\"psysml:aa53d009-eedf-4466-a7b8-b270a2d13479\" xlink:type=\"simple\"><path d=\"M89.42,133.6 C79.35,142.68 69.37,154.11 64,167 C58.5,180.2 58.66,195.94 60.54,209.38 \" fill=\"none\" id=\"E8-&gt;E6\" style=\"stroke: #A80036; stroke-width: 1.0; stroke-dasharray: 7.0,7.0;\"/><polygon fill=\"#A80036\" points=\"61.9,217.4,63.517,209.0104,57.6018,210.0159,61.9,217.4\" style=\"stroke: #A80036; stroke-width: 1.0;\"/><text fill=\"#000000\" font-family=\"sans-serif\" font-size=\"13\" lengthAdjust=\"spacingAndGlyphs\" textLength=\"64\" x=\"65\" y=\"180.0669\">«depend»</text></a><!--MD5=[bfa3c8b0d15052fdf50ae9310b491027]\n",
       "link E8 to E7--><a href=\"psysml:aa53d009-eedf-4466-a7b8-b270a2d13479\" target=\"_top\" title=\"psysml:aa53d009-eedf-4466-a7b8-b270a2d13479\" xlink:actuate=\"onRequest\" xlink:href=\"psysml:aa53d009-eedf-4466-a7b8-b270a2d13479\" xlink:show=\"new\" xlink:title=\"psysml:aa53d009-eedf-4466-a7b8-b270a2d13479\" xlink:type=\"simple\"><path d=\"M129.28,133.5 C138.17,154.57 151.64,186.5 161.47,209.81 \" fill=\"none\" id=\"E8-&gt;E7\" style=\"stroke: #A80036; stroke-width: 1.0; stroke-dasharray: 7.0,7.0;\"/><polygon fill=\"#A80036\" points=\"164.66,217.35,164.3241,208.8126,158.7933,211.1385,164.66,217.35\" style=\"stroke: #A80036; stroke-width: 1.0;\"/><text fill=\"#000000\" font-family=\"sans-serif\" font-size=\"13\" lengthAdjust=\"spacingAndGlyphs\" textLength=\"64\" x=\"151\" y=\"180.0669\">«depend»</text></a><!--MD5=[c9b8358fade911e276193f040e37b5c6]\n",
       "@startuml\r\n",
       "skinparam wrapWidth 300\r\n",
       "hide circle\r\n",
       "\r\n",
       "package \"DependencyTest\" as E1  [[psysml:79533e77-94c2-4bae-8455-1b4d9ad0ac19 ]]  {\r\n",
       "package \"System\" as E2  [[psysml:aa959c9d-de71-4dee-a328-dce50e2c2738 ]]  {\r\n",
       "package \"Application Layer\" as E3  [[psysml:c86dacee-9d76-4d53-8a53-8574653b1f4e ]]  {\r\n",
       "}\r\n",
       "package \"Service Layer\" as E4  [[psysml:1c23a4b2-35e2-4e8a-96b6-0c0eddc8acf9 ]]  {\r\n",
       "}\r\n",
       "package \"Data Layer\" as E5  [[psysml:a642c0ba-468c-4345-a41b-ed6906c58c2e ]]  {\r\n",
       "}\r\n",
       "}\r\n",
       "comp usage \"x \" as E6  <<(T,blue) attribute>> [[psysml:002f54b6-1019-4822-b88b-c9a615e25b28 ]] {\r\n",
       "}\r\n",
       "comp usage \"y \" as E7  <<(T,blue) attribute>> [[psysml:5e659b03-2baa-4472-976b-b868f73bcda1 ]] {\r\n",
       "}\r\n",
       "comp usage \"z \" as E8  <<(T,blue) attribute>> [[psysml:17862b5a-aa19-4a09-bb5d-84a4c59b96ac ]] {\r\n",
       "}\r\n",
       "}\r\n",
       "E3 ..>> E4 [[psysml:e08fe20c-326f-4bf4-bdb1-9df0382c82e4 ]] : <<depend>>\r\n",
       "E4 ..>> E5 [[psysml:3bcf17b2-ef7a-4ff9-b082-cb17e1124f6a ]] : <<depend>>\r\n",
       "E8 ..>> E6 [[psysml:aa53d009-eedf-4466-a7b8-b270a2d13479 ]] : <<depend>>\r\n",
       "E8 ..>> E7 [[psysml:aa53d009-eedf-4466-a7b8-b270a2d13479 ]] : <<depend>>\r\n",
       "@enduml\r\n",
       "\n",
       "PlantUML version 1.2020.13(Sat Jun 13 12:26:38 UTC 2020)\n",
       "(EPL source distribution)\n",
       "Java Runtime: OpenJDK Runtime Environment\n",
       "JVM: OpenJDK 64-Bit Server VM\n",
       "Default Encoding: UTF-8\n",
       "Language: en\n",
       "Country: null\n",
       "--></g></svg>"
      ]
     },
     "execution_count": 29,
     "metadata": {},
     "output_type": "execute_result"
    }
   ],
   "source": [
    "%viz --style=\"STDCOLOR\" --view=\"MIXED\" \"DependencyTest\""
   ]
  },
  {
   "cell_type": "code",
   "execution_count": 30,
   "id": "732965e1",
   "metadata": {
    "execution": {
     "iopub.execute_input": "2021-12-15T15:15:21.097178Z",
     "iopub.status.busy": "2021-12-15T15:15:21.096745Z",
     "iopub.status.idle": "2021-12-15T15:15:21.153408Z",
     "shell.execute_reply": "2021-12-15T15:15:21.153033Z"
    }
   },
   "outputs": [
    {
     "data": {
      "image/svg+xml": [
       "<?xml version=\"1.0\" encoding=\"UTF-8\" standalone=\"no\"?><svg xmlns=\"http://www.w3.org/2000/svg\" xmlns:xlink=\"http://www.w3.org/1999/xlink\" contentScriptType=\"application/ecmascript\" contentStyleType=\"text/css\" height=\"449px\" preserveAspectRatio=\"none\" style=\"width:490px;height:449px;\" version=\"1.1\" viewBox=\"0 0 490 449\" width=\"490px\" zoomAndPan=\"magnify\"><defs><filter height=\"300%\" id=\"f1q8ecqjzrysd3\" width=\"300%\" x=\"-1\" y=\"-1\"><feGaussianBlur result=\"blurOut\" stdDeviation=\"2.0\"/><feColorMatrix in=\"blurOut\" result=\"blurOut2\" type=\"matrix\" values=\"0 0 0 0 0 0 0 0 0 0 0 0 0 0 0 0 0 0 .4 0\"/><feOffset dx=\"4.0\" dy=\"4.0\" in=\"blurOut2\" result=\"blurOut3\"/><feBlend in=\"SourceGraphic\" in2=\"blurOut3\" mode=\"normal\"/></filter></defs><g><!--MD5=[fbc87193dbaf4d95561dea2c320d4a47]\n",
       "cluster E1--><a href=\"psysml:79533e77-94c2-4bae-8455-1b4d9ad0ac19\" target=\"_top\" title=\"psysml:79533e77-94c2-4bae-8455-1b4d9ad0ac19\" xlink:actuate=\"onRequest\" xlink:href=\"psysml:79533e77-94c2-4bae-8455-1b4d9ad0ac19\" xlink:show=\"new\" xlink:title=\"psysml:79533e77-94c2-4bae-8455-1b4d9ad0ac19\" xlink:type=\"simple\"><polygon fill=\"#FFFFFF\" filter=\"url(#f1q8ecqjzrysd3)\" points=\"16,6,142,6,149,28.2969,468,28.2969,468,437,16,437,16,6\" style=\"stroke: #000000; stroke-width: 1.5;\"/><line style=\"stroke: #000000; stroke-width: 1.5;\" x1=\"16\" x2=\"149\" y1=\"28.2969\" y2=\"28.2969\"/><text fill=\"#000000\" font-family=\"sans-serif\" font-size=\"14\" font-weight=\"bold\" lengthAdjust=\"spacingAndGlyphs\" textLength=\"120\" x=\"20\" y=\"20.9951\">DependencyTest</text></a><!--MD5=[e4f7fae6ed58524ba242bb0b0d3be6b7]\n",
       "cluster E2--><a href=\"psysml:aa959c9d-de71-4dee-a328-dce50e2c2738\" target=\"_top\" title=\"psysml:aa959c9d-de71-4dee-a328-dce50e2c2738\" xlink:actuate=\"onRequest\" xlink:href=\"psysml:aa959c9d-de71-4dee-a328-dce50e2c2738\" xlink:show=\"new\" xlink:title=\"psysml:aa959c9d-de71-4dee-a328-dce50e2c2738\" xlink:type=\"simple\"><polygon fill=\"#FFFFFF\" filter=\"url(#f1q8ecqjzrysd3)\" points=\"276,49,333,49,340,71.2969,444,71.2969,444,413,276,413,276,49\" style=\"stroke: #000000; stroke-width: 1.5;\"/><line style=\"stroke: #000000; stroke-width: 1.5;\" x1=\"276\" x2=\"340\" y1=\"71.2969\" y2=\"71.2969\"/><text fill=\"#000000\" font-family=\"sans-serif\" font-size=\"14\" font-weight=\"bold\" lengthAdjust=\"spacingAndGlyphs\" textLength=\"51\" x=\"280\" y=\"63.9951\">System</text></a><!--MD5=[60a26617385b1d2d0262a64233df1f8d]\n",
       "class E6--><a href=\"psysml:002f54b6-1019-4822-b88b-c9a615e25b28\" target=\"_top\" title=\"psysml:002f54b6-1019-4822-b88b-c9a615e25b28\" xlink:actuate=\"onRequest\" xlink:href=\"psysml:002f54b6-1019-4822-b88b-c9a615e25b28\" xlink:show=\"new\" xlink:title=\"psysml:002f54b6-1019-4822-b88b-c9a615e25b28\" xlink:type=\"simple\"><rect fill=\"#FEFECE\" filter=\"url(#f1q8ecqjzrysd3)\" height=\"45.9375\" id=\"E6\" rx=\"10\" ry=\"10\" style=\"stroke: #A80036; stroke-width: 1.5;\" width=\"97\" x=\"31.5\" y=\"217.5\"/><ellipse cx=\"46.5\" cy=\"236.4688\" fill=\"#FFA500\" rx=\"11\" ry=\"11\" style=\"stroke: #A80036; stroke-width: 1.0;\"/><path d=\"M46.25,241.9375 Q44.5,241.9375 43.5469,240.9063 Q42.6094,239.8594 42.6094,238.0156 L42.6094,231.125 L44.6719,231.125 L44.6719,231.2813 Q44.5781,231.375 44.5469,231.5156 Q44.5313,231.6406 44.5313,231.9063 L44.5313,238.0313 Q44.5313,239.125 44.9063,239.75 Q45.2813,240.375 46.2656,240.375 Q47.25,240.375 47.6406,239.75 Q48.0313,239.125 48.0313,237.9844 L48.0313,231.125 L49.9063,231.125 L49.9063,237.9688 Q49.9063,240 48.875,240.9688 Q47.8594,241.9375 46.25,241.9375 Z \"/><text fill=\"#000000\" font-family=\"sans-serif\" font-size=\"12\" font-style=\"italic\" lengthAdjust=\"spacingAndGlyphs\" textLength=\"69\" x=\"58.5\" y=\"233.6387\">«attribute»</text><text fill=\"#000000\" font-family=\"sans-serif\" font-size=\"12\" lengthAdjust=\"spacingAndGlyphs\" textLength=\"6\" x=\"88\" y=\"247.6074\">x</text><line style=\"stroke: #A80036; stroke-width: 1.5;\" x1=\"32.5\" x2=\"127.5\" y1=\"255.4375\" y2=\"255.4375\"/></a><!--MD5=[2156ba9850f5573cc1fc38a6a4b2f02b]\n",
       "class E7--><a href=\"psysml:5e659b03-2baa-4472-976b-b868f73bcda1\" target=\"_top\" title=\"psysml:5e659b03-2baa-4472-976b-b868f73bcda1\" xlink:actuate=\"onRequest\" xlink:href=\"psysml:5e659b03-2baa-4472-976b-b868f73bcda1\" xlink:show=\"new\" xlink:title=\"psysml:5e659b03-2baa-4472-976b-b868f73bcda1\" xlink:type=\"simple\"><rect fill=\"#FEFECE\" filter=\"url(#f1q8ecqjzrysd3)\" height=\"45.9375\" id=\"E7\" rx=\"10\" ry=\"10\" style=\"stroke: #A80036; stroke-width: 1.5;\" width=\"97\" x=\"163.5\" y=\"217.5\"/><ellipse cx=\"178.5\" cy=\"236.4688\" fill=\"#FFA500\" rx=\"11\" ry=\"11\" style=\"stroke: #A80036; stroke-width: 1.0;\"/><path d=\"M178.25,241.9375 Q176.5,241.9375 175.5469,240.9063 Q174.6094,239.8594 174.6094,238.0156 L174.6094,231.125 L176.6719,231.125 L176.6719,231.2813 Q176.5781,231.375 176.5469,231.5156 Q176.5313,231.6406 176.5313,231.9063 L176.5313,238.0313 Q176.5313,239.125 176.9063,239.75 Q177.2813,240.375 178.2656,240.375 Q179.25,240.375 179.6406,239.75 Q180.0313,239.125 180.0313,237.9844 L180.0313,231.125 L181.9063,231.125 L181.9063,237.9688 Q181.9063,240 180.875,240.9688 Q179.8594,241.9375 178.25,241.9375 Z \"/><text fill=\"#000000\" font-family=\"sans-serif\" font-size=\"12\" font-style=\"italic\" lengthAdjust=\"spacingAndGlyphs\" textLength=\"69\" x=\"190.5\" y=\"233.6387\">«attribute»</text><text fill=\"#000000\" font-family=\"sans-serif\" font-size=\"12\" lengthAdjust=\"spacingAndGlyphs\" textLength=\"6\" x=\"220\" y=\"247.6074\">y</text><line style=\"stroke: #A80036; stroke-width: 1.5;\" x1=\"164.5\" x2=\"259.5\" y1=\"255.4375\" y2=\"255.4375\"/></a><!--MD5=[b9389687b975829384b498ac4b7476b2]\n",
       "class E8--><a href=\"psysml:17862b5a-aa19-4a09-bb5d-84a4c59b96ac\" target=\"_top\" title=\"psysml:17862b5a-aa19-4a09-bb5d-84a4c59b96ac\" xlink:actuate=\"onRequest\" xlink:href=\"psysml:17862b5a-aa19-4a09-bb5d-84a4c59b96ac\" xlink:show=\"new\" xlink:title=\"psysml:17862b5a-aa19-4a09-bb5d-84a4c59b96ac\" xlink:type=\"simple\"><rect fill=\"#FEFECE\" filter=\"url(#f1q8ecqjzrysd3)\" height=\"45.9375\" id=\"E8\" rx=\"10\" ry=\"10\" style=\"stroke: #A80036; stroke-width: 1.5;\" width=\"97\" x=\"84.5\" y=\"87.5\"/><ellipse cx=\"99.5\" cy=\"106.4688\" fill=\"#FFA500\" rx=\"11\" ry=\"11\" style=\"stroke: #A80036; stroke-width: 1.0;\"/><path d=\"M99.25,111.9375 Q97.5,111.9375 96.5469,110.9063 Q95.6094,109.8594 95.6094,108.0156 L95.6094,101.125 L97.6719,101.125 L97.6719,101.2813 Q97.5781,101.375 97.5469,101.5156 Q97.5313,101.6406 97.5313,101.9063 L97.5313,108.0313 Q97.5313,109.125 97.9063,109.75 Q98.2813,110.375 99.2656,110.375 Q100.25,110.375 100.6406,109.75 Q101.0313,109.125 101.0313,107.9844 L101.0313,101.125 L102.9063,101.125 L102.9063,107.9688 Q102.9063,110 101.875,110.9688 Q100.8594,111.9375 99.25,111.9375 Z \"/><text fill=\"#000000\" font-family=\"sans-serif\" font-size=\"12\" font-style=\"italic\" lengthAdjust=\"spacingAndGlyphs\" textLength=\"69\" x=\"111.5\" y=\"103.6387\">«attribute»</text><text fill=\"#000000\" font-family=\"sans-serif\" font-size=\"12\" lengthAdjust=\"spacingAndGlyphs\" textLength=\"5\" x=\"141.5\" y=\"117.6074\">z</text><line style=\"stroke: #A80036; stroke-width: 1.5;\" x1=\"85.5\" x2=\"180.5\" y1=\"125.4375\" y2=\"125.4375\"/></a><a href=\"psysml:c86dacee-9d76-4d53-8a53-8574653b1f4e\" target=\"_top\" title=\"psysml:c86dacee-9d76-4d53-8a53-8574653b1f4e\" xlink:actuate=\"onRequest\" xlink:href=\"psysml:c86dacee-9d76-4d53-8a53-8574653b1f4e\" xlink:show=\"new\" xlink:title=\"psysml:c86dacee-9d76-4d53-8a53-8574653b1f4e\" xlink:type=\"simple\"><polygon fill=\"#FFFFFF\" filter=\"url(#f1q8ecqjzrysd3)\" points=\"292.5,84,413.5,84,420.5,106.2969,427.5,106.2969,427.5,136.5938,292.5,136.5938,292.5,84\" style=\"stroke: #000000; stroke-width: 1.5;\"/><line style=\"stroke: #000000; stroke-width: 1.5;\" x1=\"292.5\" x2=\"420.5\" y1=\"106.2969\" y2=\"106.2969\"/><text fill=\"#000000\" font-family=\"sans-serif\" font-size=\"14\" font-weight=\"bold\" lengthAdjust=\"spacingAndGlyphs\" textLength=\"115\" x=\"296.5\" y=\"98.9951\">Application Layer</text></a><a href=\"psysml:1c23a4b2-35e2-4e8a-96b6-0c0eddc8acf9\" target=\"_top\" title=\"psysml:1c23a4b2-35e2-4e8a-96b6-0c0eddc8acf9\" xlink:actuate=\"onRequest\" xlink:href=\"psysml:1c23a4b2-35e2-4e8a-96b6-0c0eddc8acf9\" xlink:show=\"new\" xlink:title=\"psysml:1c23a4b2-35e2-4e8a-96b6-0c0eddc8acf9\" xlink:type=\"simple\"><polygon fill=\"#FFFFFF\" filter=\"url(#f1q8ecqjzrysd3)\" points=\"305,214,401,214,408,236.2969,415,236.2969,415,266.5938,305,266.5938,305,214\" style=\"stroke: #000000; stroke-width: 1.5;\"/><line style=\"stroke: #000000; stroke-width: 1.5;\" x1=\"305\" x2=\"408\" y1=\"236.2969\" y2=\"236.2969\"/><text fill=\"#000000\" font-family=\"sans-serif\" font-size=\"14\" font-weight=\"bold\" lengthAdjust=\"spacingAndGlyphs\" textLength=\"90\" x=\"309\" y=\"228.9951\">Service Layer</text></a><a href=\"psysml:a642c0ba-468c-4345-a41b-ed6906c58c2e\" target=\"_top\" title=\"psysml:a642c0ba-468c-4345-a41b-ed6906c58c2e\" xlink:actuate=\"onRequest\" xlink:href=\"psysml:a642c0ba-468c-4345-a41b-ed6906c58c2e\" xlink:show=\"new\" xlink:title=\"psysml:a642c0ba-468c-4345-a41b-ed6906c58c2e\" xlink:type=\"simple\"><polygon fill=\"#FFFFFF\" filter=\"url(#f1q8ecqjzrysd3)\" points=\"314,344,392,344,399,366.2969,406,366.2969,406,396.5938,314,396.5938,314,344\" style=\"stroke: #000000; stroke-width: 1.5;\"/><line style=\"stroke: #000000; stroke-width: 1.5;\" x1=\"314\" x2=\"399\" y1=\"366.2969\" y2=\"366.2969\"/><text fill=\"#000000\" font-family=\"sans-serif\" font-size=\"14\" font-weight=\"bold\" lengthAdjust=\"spacingAndGlyphs\" textLength=\"72\" x=\"318\" y=\"358.9951\">Data Layer</text></a><!--MD5=[af87c684e3b0d8be13c1a698a818ef1e]\n",
       "link E3 to E4--><a href=\"psysml:e08fe20c-326f-4bf4-bdb1-9df0382c82e4\" target=\"_top\" title=\"psysml:e08fe20c-326f-4bf4-bdb1-9df0382c82e4\" xlink:actuate=\"onRequest\" xlink:href=\"psysml:e08fe20c-326f-4bf4-bdb1-9df0382c82e4\" xlink:show=\"new\" xlink:title=\"psysml:e08fe20c-326f-4bf4-bdb1-9df0382c82e4\" xlink:type=\"simple\"><path d=\"M360,137.1 C360,156.8 360,184.22 360,205.73 \" fill=\"none\" id=\"E3-&gt;E4\" style=\"stroke: #A80036; stroke-width: 1.0; stroke-dasharray: 7.0,7.0;\"/><polygon fill=\"#A80036\" points=\"360,213.95,363,205.95,357,205.95,360,213.95\" style=\"stroke: #A80036; stroke-width: 1.0;\"/><text fill=\"#000000\" font-family=\"sans-serif\" font-size=\"13\" lengthAdjust=\"spacingAndGlyphs\" textLength=\"64\" x=\"361\" y=\"180.0669\">«depend»</text></a><!--MD5=[1b7591eae5389033d8d09a9d6721a717]\n",
       "link E4 to E5--><a href=\"psysml:3bcf17b2-ef7a-4ff9-b082-cb17e1124f6a\" target=\"_top\" title=\"psysml:3bcf17b2-ef7a-4ff9-b082-cb17e1124f6a\" xlink:actuate=\"onRequest\" xlink:href=\"psysml:3bcf17b2-ef7a-4ff9-b082-cb17e1124f6a\" xlink:show=\"new\" xlink:title=\"psysml:3bcf17b2-ef7a-4ff9-b082-cb17e1124f6a\" xlink:type=\"simple\"><path d=\"M360,267.1 C360,286.8 360,314.22 360,335.73 \" fill=\"none\" id=\"E4-&gt;E5\" style=\"stroke: #A80036; stroke-width: 1.0; stroke-dasharray: 7.0,7.0;\"/><polygon fill=\"#A80036\" points=\"360,343.95,363,335.95,357,335.95,360,343.95\" style=\"stroke: #A80036; stroke-width: 1.0;\"/><text fill=\"#000000\" font-family=\"sans-serif\" font-size=\"13\" lengthAdjust=\"spacingAndGlyphs\" textLength=\"64\" x=\"361\" y=\"310.0669\">«depend»</text></a><!--MD5=[c5e8897d989ce984f93528998a7150fe]\n",
       "link E8 to E6--><a href=\"psysml:aa53d009-eedf-4466-a7b8-b270a2d13479\" target=\"_top\" title=\"psysml:aa53d009-eedf-4466-a7b8-b270a2d13479\" xlink:actuate=\"onRequest\" xlink:href=\"psysml:aa53d009-eedf-4466-a7b8-b270a2d13479\" xlink:show=\"new\" xlink:title=\"psysml:aa53d009-eedf-4466-a7b8-b270a2d13479\" xlink:type=\"simple\"><path d=\"M106.44,133.76 C97.3,143.01 88.09,154.51 83,167 C77.6,180.23 76.4,195.98 76.73,209.41 \" fill=\"none\" id=\"E8-&gt;E6\" style=\"stroke: #A80036; stroke-width: 1.0; stroke-dasharray: 7.0,7.0;\"/><polygon fill=\"#A80036\" points=\"77.12,217.43,79.7306,209.2946,73.7375,209.584,77.12,217.43\" style=\"stroke: #A80036; stroke-width: 1.0;\"/><text fill=\"#000000\" font-family=\"sans-serif\" font-size=\"13\" lengthAdjust=\"spacingAndGlyphs\" textLength=\"64\" x=\"84\" y=\"180.0669\">«depend»</text></a><!--MD5=[bfa3c8b0d15052fdf50ae9310b491027]\n",
       "link E8 to E7--><a href=\"psysml:aa53d009-eedf-4466-a7b8-b270a2d13479\" target=\"_top\" title=\"psysml:aa53d009-eedf-4466-a7b8-b270a2d13479\" xlink:actuate=\"onRequest\" xlink:href=\"psysml:aa53d009-eedf-4466-a7b8-b270a2d13479\" xlink:show=\"new\" xlink:title=\"psysml:aa53d009-eedf-4466-a7b8-b270a2d13479\" xlink:type=\"simple\"><path d=\"M146.58,133.5 C159.69,154.75 179.63,187.05 194.05,210.41 \" fill=\"none\" id=\"E8-&gt;E7\" style=\"stroke: #A80036; stroke-width: 1.0; stroke-dasharray: 7.0,7.0;\"/><polygon fill=\"#A80036\" points=\"198.33,217.35,196.6785,208.9671,191.5737,212.1201,198.33,217.35\" style=\"stroke: #A80036; stroke-width: 1.0;\"/><text fill=\"#000000\" font-family=\"sans-serif\" font-size=\"13\" lengthAdjust=\"spacingAndGlyphs\" textLength=\"64\" x=\"178\" y=\"180.0669\">«depend»</text></a><!--MD5=[f6552cea32b717dbbfc9eb24188fdf63]\n",
       "@startuml\r\n",
       " \r\n",
       "package \"DependencyTest\" as E1  [[psysml:79533e77-94c2-4bae-8455-1b4d9ad0ac19 ]]  {\r\n",
       "package \"System\" as E2  [[psysml:aa959c9d-de71-4dee-a328-dce50e2c2738 ]]  {\r\n",
       "package \"Application Layer\" as E3  [[psysml:c86dacee-9d76-4d53-8a53-8574653b1f4e ]]  {\r\n",
       "}\r\n",
       "package \"Service Layer\" as E4  [[psysml:1c23a4b2-35e2-4e8a-96b6-0c0eddc8acf9 ]]  {\r\n",
       "}\r\n",
       "package \"Data Layer\" as E5  [[psysml:a642c0ba-468c-4345-a41b-ed6906c58c2e ]]  {\r\n",
       "}\r\n",
       "}\r\n",
       "comp usage \"x \" as E6 << <<(U,orange) attribute>> [[psysml:002f54b6-1019-4822-b88b-c9a615e25b28 ]] {\r\n",
       "}\r\n",
       "comp usage \"y \" as E7 << <<(U,orange) attribute>> [[psysml:5e659b03-2baa-4472-976b-b868f73bcda1 ]] {\r\n",
       "}\r\n",
       "comp usage \"z \" as E8 << <<(U,orange) attribute>> [[psysml:17862b5a-aa19-4a09-bb5d-84a4c59b96ac ]] {\r\n",
       "}\r\n",
       "}\r\n",
       "E3 ..>> E4 [[psysml:e08fe20c-326f-4bf4-bdb1-9df0382c82e4 ]] : <<depend>>\r\n",
       "E4 ..>> E5 [[psysml:3bcf17b2-ef7a-4ff9-b082-cb17e1124f6a ]] : <<depend>>\r\n",
       "E8 ..>> E6 [[psysml:aa53d009-eedf-4466-a7b8-b270a2d13479 ]] : <<depend>>\r\n",
       "E8 ..>> E7 [[psysml:aa53d009-eedf-4466-a7b8-b270a2d13479 ]] : <<depend>>\r\n",
       "@enduml\r\n",
       "\n",
       "PlantUML version 1.2020.13(Sat Jun 13 12:26:38 UTC 2020)\n",
       "(EPL source distribution)\n",
       "Java Runtime: OpenJDK Runtime Environment\n",
       "JVM: OpenJDK 64-Bit Server VM\n",
       "Default Encoding: UTF-8\n",
       "Language: en\n",
       "Country: null\n",
       "--></g></svg>"
      ]
     },
     "execution_count": 30,
     "metadata": {},
     "output_type": "execute_result"
    }
   ],
   "source": [
    "%viz --style=\"PLANTUML\" --view=\"Default\" \"DependencyTest\""
   ]
  },
  {
   "cell_type": "code",
   "execution_count": 31,
   "id": "5b8d24a5",
   "metadata": {
    "execution": {
     "iopub.execute_input": "2021-12-15T15:15:21.202537Z",
     "iopub.status.busy": "2021-12-15T15:15:21.202064Z",
     "iopub.status.idle": "2021-12-15T15:15:21.238555Z",
     "shell.execute_reply": "2021-12-15T15:15:21.238879Z"
    }
   },
   "outputs": [
    {
     "data": {
      "image/svg+xml": [
       "<?xml version=\"1.0\" encoding=\"UTF-8\" standalone=\"no\"?><svg xmlns=\"http://www.w3.org/2000/svg\" xmlns:xlink=\"http://www.w3.org/1999/xlink\" contentScriptType=\"application/ecmascript\" contentStyleType=\"text/css\" height=\"449px\" preserveAspectRatio=\"none\" style=\"width:490px;height:449px;\" version=\"1.1\" viewBox=\"0 0 490 449\" width=\"490px\" zoomAndPan=\"magnify\"><defs><filter height=\"300%\" id=\"f1q8ecqjzrysd3\" width=\"300%\" x=\"-1\" y=\"-1\"><feGaussianBlur result=\"blurOut\" stdDeviation=\"2.0\"/><feColorMatrix in=\"blurOut\" result=\"blurOut2\" type=\"matrix\" values=\"0 0 0 0 0 0 0 0 0 0 0 0 0 0 0 0 0 0 .4 0\"/><feOffset dx=\"4.0\" dy=\"4.0\" in=\"blurOut2\" result=\"blurOut3\"/><feBlend in=\"SourceGraphic\" in2=\"blurOut3\" mode=\"normal\"/></filter></defs><g><!--MD5=[fbc87193dbaf4d95561dea2c320d4a47]\n",
       "cluster E1--><a href=\"psysml:79533e77-94c2-4bae-8455-1b4d9ad0ac19\" target=\"_top\" title=\"psysml:79533e77-94c2-4bae-8455-1b4d9ad0ac19\" xlink:actuate=\"onRequest\" xlink:href=\"psysml:79533e77-94c2-4bae-8455-1b4d9ad0ac19\" xlink:show=\"new\" xlink:title=\"psysml:79533e77-94c2-4bae-8455-1b4d9ad0ac19\" xlink:type=\"simple\"><polygon fill=\"#FFFFFF\" filter=\"url(#f1q8ecqjzrysd3)\" points=\"16,6,142,6,149,28.2969,468,28.2969,468,437,16,437,16,6\" style=\"stroke: #000000; stroke-width: 1.5;\"/><line style=\"stroke: #000000; stroke-width: 1.5;\" x1=\"16\" x2=\"149\" y1=\"28.2969\" y2=\"28.2969\"/><text fill=\"#000000\" font-family=\"sans-serif\" font-size=\"14\" font-weight=\"bold\" lengthAdjust=\"spacingAndGlyphs\" textLength=\"120\" x=\"20\" y=\"20.9951\">DependencyTest</text></a><!--MD5=[e4f7fae6ed58524ba242bb0b0d3be6b7]\n",
       "cluster E2--><a href=\"psysml:aa959c9d-de71-4dee-a328-dce50e2c2738\" target=\"_top\" title=\"psysml:aa959c9d-de71-4dee-a328-dce50e2c2738\" xlink:actuate=\"onRequest\" xlink:href=\"psysml:aa959c9d-de71-4dee-a328-dce50e2c2738\" xlink:show=\"new\" xlink:title=\"psysml:aa959c9d-de71-4dee-a328-dce50e2c2738\" xlink:type=\"simple\"><polygon fill=\"#FFFFFF\" filter=\"url(#f1q8ecqjzrysd3)\" points=\"276,49,333,49,340,71.2969,444,71.2969,444,413,276,413,276,49\" style=\"stroke: #000000; stroke-width: 1.5;\"/><line style=\"stroke: #000000; stroke-width: 1.5;\" x1=\"276\" x2=\"340\" y1=\"71.2969\" y2=\"71.2969\"/><text fill=\"#000000\" font-family=\"sans-serif\" font-size=\"14\" font-weight=\"bold\" lengthAdjust=\"spacingAndGlyphs\" textLength=\"51\" x=\"280\" y=\"63.9951\">System</text></a><!--MD5=[60a26617385b1d2d0262a64233df1f8d]\n",
       "class E6--><a href=\"psysml:002f54b6-1019-4822-b88b-c9a615e25b28\" target=\"_top\" title=\"psysml:002f54b6-1019-4822-b88b-c9a615e25b28\" xlink:actuate=\"onRequest\" xlink:href=\"psysml:002f54b6-1019-4822-b88b-c9a615e25b28\" xlink:show=\"new\" xlink:title=\"psysml:002f54b6-1019-4822-b88b-c9a615e25b28\" xlink:type=\"simple\"><rect fill=\"#FEFECE\" filter=\"url(#f1q8ecqjzrysd3)\" height=\"45.9375\" id=\"E6\" rx=\"10\" ry=\"10\" style=\"stroke: #A80036; stroke-width: 1.5;\" width=\"97\" x=\"31.5\" y=\"217.5\"/><ellipse cx=\"46.5\" cy=\"236.4688\" fill=\"#FFA500\" rx=\"11\" ry=\"11\" style=\"stroke: #A80036; stroke-width: 1.0;\"/><path d=\"M46.25,241.9375 Q44.5,241.9375 43.5469,240.9063 Q42.6094,239.8594 42.6094,238.0156 L42.6094,231.125 L44.6719,231.125 L44.6719,231.2813 Q44.5781,231.375 44.5469,231.5156 Q44.5313,231.6406 44.5313,231.9063 L44.5313,238.0313 Q44.5313,239.125 44.9063,239.75 Q45.2813,240.375 46.2656,240.375 Q47.25,240.375 47.6406,239.75 Q48.0313,239.125 48.0313,237.9844 L48.0313,231.125 L49.9063,231.125 L49.9063,237.9688 Q49.9063,240 48.875,240.9688 Q47.8594,241.9375 46.25,241.9375 Z \"/><text fill=\"#000000\" font-family=\"sans-serif\" font-size=\"12\" font-style=\"italic\" lengthAdjust=\"spacingAndGlyphs\" textLength=\"69\" x=\"58.5\" y=\"233.6387\">«attribute»</text><text fill=\"#000000\" font-family=\"sans-serif\" font-size=\"12\" lengthAdjust=\"spacingAndGlyphs\" textLength=\"6\" x=\"88\" y=\"247.6074\">x</text><line style=\"stroke: #A80036; stroke-width: 1.5;\" x1=\"32.5\" x2=\"127.5\" y1=\"255.4375\" y2=\"255.4375\"/></a><!--MD5=[2156ba9850f5573cc1fc38a6a4b2f02b]\n",
       "class E7--><a href=\"psysml:5e659b03-2baa-4472-976b-b868f73bcda1\" target=\"_top\" title=\"psysml:5e659b03-2baa-4472-976b-b868f73bcda1\" xlink:actuate=\"onRequest\" xlink:href=\"psysml:5e659b03-2baa-4472-976b-b868f73bcda1\" xlink:show=\"new\" xlink:title=\"psysml:5e659b03-2baa-4472-976b-b868f73bcda1\" xlink:type=\"simple\"><rect fill=\"#FEFECE\" filter=\"url(#f1q8ecqjzrysd3)\" height=\"45.9375\" id=\"E7\" rx=\"10\" ry=\"10\" style=\"stroke: #A80036; stroke-width: 1.5;\" width=\"97\" x=\"163.5\" y=\"217.5\"/><ellipse cx=\"178.5\" cy=\"236.4688\" fill=\"#FFA500\" rx=\"11\" ry=\"11\" style=\"stroke: #A80036; stroke-width: 1.0;\"/><path d=\"M178.25,241.9375 Q176.5,241.9375 175.5469,240.9063 Q174.6094,239.8594 174.6094,238.0156 L174.6094,231.125 L176.6719,231.125 L176.6719,231.2813 Q176.5781,231.375 176.5469,231.5156 Q176.5313,231.6406 176.5313,231.9063 L176.5313,238.0313 Q176.5313,239.125 176.9063,239.75 Q177.2813,240.375 178.2656,240.375 Q179.25,240.375 179.6406,239.75 Q180.0313,239.125 180.0313,237.9844 L180.0313,231.125 L181.9063,231.125 L181.9063,237.9688 Q181.9063,240 180.875,240.9688 Q179.8594,241.9375 178.25,241.9375 Z \"/><text fill=\"#000000\" font-family=\"sans-serif\" font-size=\"12\" font-style=\"italic\" lengthAdjust=\"spacingAndGlyphs\" textLength=\"69\" x=\"190.5\" y=\"233.6387\">«attribute»</text><text fill=\"#000000\" font-family=\"sans-serif\" font-size=\"12\" lengthAdjust=\"spacingAndGlyphs\" textLength=\"6\" x=\"220\" y=\"247.6074\">y</text><line style=\"stroke: #A80036; stroke-width: 1.5;\" x1=\"164.5\" x2=\"259.5\" y1=\"255.4375\" y2=\"255.4375\"/></a><!--MD5=[b9389687b975829384b498ac4b7476b2]\n",
       "class E8--><a href=\"psysml:17862b5a-aa19-4a09-bb5d-84a4c59b96ac\" target=\"_top\" title=\"psysml:17862b5a-aa19-4a09-bb5d-84a4c59b96ac\" xlink:actuate=\"onRequest\" xlink:href=\"psysml:17862b5a-aa19-4a09-bb5d-84a4c59b96ac\" xlink:show=\"new\" xlink:title=\"psysml:17862b5a-aa19-4a09-bb5d-84a4c59b96ac\" xlink:type=\"simple\"><rect fill=\"#FEFECE\" filter=\"url(#f1q8ecqjzrysd3)\" height=\"45.9375\" id=\"E8\" rx=\"10\" ry=\"10\" style=\"stroke: #A80036; stroke-width: 1.5;\" width=\"97\" x=\"84.5\" y=\"87.5\"/><ellipse cx=\"99.5\" cy=\"106.4688\" fill=\"#FFA500\" rx=\"11\" ry=\"11\" style=\"stroke: #A80036; stroke-width: 1.0;\"/><path d=\"M99.25,111.9375 Q97.5,111.9375 96.5469,110.9063 Q95.6094,109.8594 95.6094,108.0156 L95.6094,101.125 L97.6719,101.125 L97.6719,101.2813 Q97.5781,101.375 97.5469,101.5156 Q97.5313,101.6406 97.5313,101.9063 L97.5313,108.0313 Q97.5313,109.125 97.9063,109.75 Q98.2813,110.375 99.2656,110.375 Q100.25,110.375 100.6406,109.75 Q101.0313,109.125 101.0313,107.9844 L101.0313,101.125 L102.9063,101.125 L102.9063,107.9688 Q102.9063,110 101.875,110.9688 Q100.8594,111.9375 99.25,111.9375 Z \"/><text fill=\"#000000\" font-family=\"sans-serif\" font-size=\"12\" font-style=\"italic\" lengthAdjust=\"spacingAndGlyphs\" textLength=\"69\" x=\"111.5\" y=\"103.6387\">«attribute»</text><text fill=\"#000000\" font-family=\"sans-serif\" font-size=\"12\" lengthAdjust=\"spacingAndGlyphs\" textLength=\"5\" x=\"141.5\" y=\"117.6074\">z</text><line style=\"stroke: #A80036; stroke-width: 1.5;\" x1=\"85.5\" x2=\"180.5\" y1=\"125.4375\" y2=\"125.4375\"/></a><a href=\"psysml:c86dacee-9d76-4d53-8a53-8574653b1f4e\" target=\"_top\" title=\"psysml:c86dacee-9d76-4d53-8a53-8574653b1f4e\" xlink:actuate=\"onRequest\" xlink:href=\"psysml:c86dacee-9d76-4d53-8a53-8574653b1f4e\" xlink:show=\"new\" xlink:title=\"psysml:c86dacee-9d76-4d53-8a53-8574653b1f4e\" xlink:type=\"simple\"><polygon fill=\"#FFFFFF\" filter=\"url(#f1q8ecqjzrysd3)\" points=\"292.5,84,413.5,84,420.5,106.2969,427.5,106.2969,427.5,136.5938,292.5,136.5938,292.5,84\" style=\"stroke: #000000; stroke-width: 1.5;\"/><line style=\"stroke: #000000; stroke-width: 1.5;\" x1=\"292.5\" x2=\"420.5\" y1=\"106.2969\" y2=\"106.2969\"/><text fill=\"#000000\" font-family=\"sans-serif\" font-size=\"14\" font-weight=\"bold\" lengthAdjust=\"spacingAndGlyphs\" textLength=\"115\" x=\"296.5\" y=\"98.9951\">Application Layer</text></a><a href=\"psysml:1c23a4b2-35e2-4e8a-96b6-0c0eddc8acf9\" target=\"_top\" title=\"psysml:1c23a4b2-35e2-4e8a-96b6-0c0eddc8acf9\" xlink:actuate=\"onRequest\" xlink:href=\"psysml:1c23a4b2-35e2-4e8a-96b6-0c0eddc8acf9\" xlink:show=\"new\" xlink:title=\"psysml:1c23a4b2-35e2-4e8a-96b6-0c0eddc8acf9\" xlink:type=\"simple\"><polygon fill=\"#FFFFFF\" filter=\"url(#f1q8ecqjzrysd3)\" points=\"305,214,401,214,408,236.2969,415,236.2969,415,266.5938,305,266.5938,305,214\" style=\"stroke: #000000; stroke-width: 1.5;\"/><line style=\"stroke: #000000; stroke-width: 1.5;\" x1=\"305\" x2=\"408\" y1=\"236.2969\" y2=\"236.2969\"/><text fill=\"#000000\" font-family=\"sans-serif\" font-size=\"14\" font-weight=\"bold\" lengthAdjust=\"spacingAndGlyphs\" textLength=\"90\" x=\"309\" y=\"228.9951\">Service Layer</text></a><a href=\"psysml:a642c0ba-468c-4345-a41b-ed6906c58c2e\" target=\"_top\" title=\"psysml:a642c0ba-468c-4345-a41b-ed6906c58c2e\" xlink:actuate=\"onRequest\" xlink:href=\"psysml:a642c0ba-468c-4345-a41b-ed6906c58c2e\" xlink:show=\"new\" xlink:title=\"psysml:a642c0ba-468c-4345-a41b-ed6906c58c2e\" xlink:type=\"simple\"><polygon fill=\"#FFFFFF\" filter=\"url(#f1q8ecqjzrysd3)\" points=\"314,344,392,344,399,366.2969,406,366.2969,406,396.5938,314,396.5938,314,344\" style=\"stroke: #000000; stroke-width: 1.5;\"/><line style=\"stroke: #000000; stroke-width: 1.5;\" x1=\"314\" x2=\"399\" y1=\"366.2969\" y2=\"366.2969\"/><text fill=\"#000000\" font-family=\"sans-serif\" font-size=\"14\" font-weight=\"bold\" lengthAdjust=\"spacingAndGlyphs\" textLength=\"72\" x=\"318\" y=\"358.9951\">Data Layer</text></a><!--MD5=[af87c684e3b0d8be13c1a698a818ef1e]\n",
       "link E3 to E4--><a href=\"psysml:e08fe20c-326f-4bf4-bdb1-9df0382c82e4\" target=\"_top\" title=\"psysml:e08fe20c-326f-4bf4-bdb1-9df0382c82e4\" xlink:actuate=\"onRequest\" xlink:href=\"psysml:e08fe20c-326f-4bf4-bdb1-9df0382c82e4\" xlink:show=\"new\" xlink:title=\"psysml:e08fe20c-326f-4bf4-bdb1-9df0382c82e4\" xlink:type=\"simple\"><path d=\"M360,137.1 C360,156.8 360,184.22 360,205.73 \" fill=\"none\" id=\"E3-&gt;E4\" style=\"stroke: #A80036; stroke-width: 1.0; stroke-dasharray: 7.0,7.0;\"/><polygon fill=\"#A80036\" points=\"360,213.95,363,205.95,357,205.95,360,213.95\" style=\"stroke: #A80036; stroke-width: 1.0;\"/><text fill=\"#000000\" font-family=\"sans-serif\" font-size=\"13\" lengthAdjust=\"spacingAndGlyphs\" textLength=\"64\" x=\"361\" y=\"180.0669\">«depend»</text></a><!--MD5=[1b7591eae5389033d8d09a9d6721a717]\n",
       "link E4 to E5--><a href=\"psysml:3bcf17b2-ef7a-4ff9-b082-cb17e1124f6a\" target=\"_top\" title=\"psysml:3bcf17b2-ef7a-4ff9-b082-cb17e1124f6a\" xlink:actuate=\"onRequest\" xlink:href=\"psysml:3bcf17b2-ef7a-4ff9-b082-cb17e1124f6a\" xlink:show=\"new\" xlink:title=\"psysml:3bcf17b2-ef7a-4ff9-b082-cb17e1124f6a\" xlink:type=\"simple\"><path d=\"M360,267.1 C360,286.8 360,314.22 360,335.73 \" fill=\"none\" id=\"E4-&gt;E5\" style=\"stroke: #A80036; stroke-width: 1.0; stroke-dasharray: 7.0,7.0;\"/><polygon fill=\"#A80036\" points=\"360,343.95,363,335.95,357,335.95,360,343.95\" style=\"stroke: #A80036; stroke-width: 1.0;\"/><text fill=\"#000000\" font-family=\"sans-serif\" font-size=\"13\" lengthAdjust=\"spacingAndGlyphs\" textLength=\"64\" x=\"361\" y=\"310.0669\">«depend»</text></a><!--MD5=[c5e8897d989ce984f93528998a7150fe]\n",
       "link E8 to E6--><a href=\"psysml:aa53d009-eedf-4466-a7b8-b270a2d13479\" target=\"_top\" title=\"psysml:aa53d009-eedf-4466-a7b8-b270a2d13479\" xlink:actuate=\"onRequest\" xlink:href=\"psysml:aa53d009-eedf-4466-a7b8-b270a2d13479\" xlink:show=\"new\" xlink:title=\"psysml:aa53d009-eedf-4466-a7b8-b270a2d13479\" xlink:type=\"simple\"><path d=\"M106.44,133.76 C97.3,143.01 88.09,154.51 83,167 C77.6,180.23 76.4,195.98 76.73,209.41 \" fill=\"none\" id=\"E8-&gt;E6\" style=\"stroke: #A80036; stroke-width: 1.0; stroke-dasharray: 7.0,7.0;\"/><polygon fill=\"#A80036\" points=\"77.12,217.43,79.7306,209.2946,73.7375,209.584,77.12,217.43\" style=\"stroke: #A80036; stroke-width: 1.0;\"/><text fill=\"#000000\" font-family=\"sans-serif\" font-size=\"13\" lengthAdjust=\"spacingAndGlyphs\" textLength=\"64\" x=\"84\" y=\"180.0669\">«depend»</text></a><!--MD5=[bfa3c8b0d15052fdf50ae9310b491027]\n",
       "link E8 to E7--><a href=\"psysml:aa53d009-eedf-4466-a7b8-b270a2d13479\" target=\"_top\" title=\"psysml:aa53d009-eedf-4466-a7b8-b270a2d13479\" xlink:actuate=\"onRequest\" xlink:href=\"psysml:aa53d009-eedf-4466-a7b8-b270a2d13479\" xlink:show=\"new\" xlink:title=\"psysml:aa53d009-eedf-4466-a7b8-b270a2d13479\" xlink:type=\"simple\"><path d=\"M146.58,133.5 C159.69,154.75 179.63,187.05 194.05,210.41 \" fill=\"none\" id=\"E8-&gt;E7\" style=\"stroke: #A80036; stroke-width: 1.0; stroke-dasharray: 7.0,7.0;\"/><polygon fill=\"#A80036\" points=\"198.33,217.35,196.6785,208.9671,191.5737,212.1201,198.33,217.35\" style=\"stroke: #A80036; stroke-width: 1.0;\"/><text fill=\"#000000\" font-family=\"sans-serif\" font-size=\"13\" lengthAdjust=\"spacingAndGlyphs\" textLength=\"64\" x=\"178\" y=\"180.0669\">«depend»</text></a><!--MD5=[f6552cea32b717dbbfc9eb24188fdf63]\n",
       "@startuml\r\n",
       " \r\n",
       "package \"DependencyTest\" as E1  [[psysml:79533e77-94c2-4bae-8455-1b4d9ad0ac19 ]]  {\r\n",
       "package \"System\" as E2  [[psysml:aa959c9d-de71-4dee-a328-dce50e2c2738 ]]  {\r\n",
       "package \"Application Layer\" as E3  [[psysml:c86dacee-9d76-4d53-8a53-8574653b1f4e ]]  {\r\n",
       "}\r\n",
       "package \"Service Layer\" as E4  [[psysml:1c23a4b2-35e2-4e8a-96b6-0c0eddc8acf9 ]]  {\r\n",
       "}\r\n",
       "package \"Data Layer\" as E5  [[psysml:a642c0ba-468c-4345-a41b-ed6906c58c2e ]]  {\r\n",
       "}\r\n",
       "}\r\n",
       "comp usage \"x \" as E6 << <<(U,orange) attribute>> [[psysml:002f54b6-1019-4822-b88b-c9a615e25b28 ]] {\r\n",
       "}\r\n",
       "comp usage \"y \" as E7 << <<(U,orange) attribute>> [[psysml:5e659b03-2baa-4472-976b-b868f73bcda1 ]] {\r\n",
       "}\r\n",
       "comp usage \"z \" as E8 << <<(U,orange) attribute>> [[psysml:17862b5a-aa19-4a09-bb5d-84a4c59b96ac ]] {\r\n",
       "}\r\n",
       "}\r\n",
       "E3 ..>> E4 [[psysml:e08fe20c-326f-4bf4-bdb1-9df0382c82e4 ]] : <<depend>>\r\n",
       "E4 ..>> E5 [[psysml:3bcf17b2-ef7a-4ff9-b082-cb17e1124f6a ]] : <<depend>>\r\n",
       "E8 ..>> E6 [[psysml:aa53d009-eedf-4466-a7b8-b270a2d13479 ]] : <<depend>>\r\n",
       "E8 ..>> E7 [[psysml:aa53d009-eedf-4466-a7b8-b270a2d13479 ]] : <<depend>>\r\n",
       "@enduml\r\n",
       "\n",
       "PlantUML version 1.2020.13(Sat Jun 13 12:26:38 UTC 2020)\n",
       "(EPL source distribution)\n",
       "Java Runtime: OpenJDK Runtime Environment\n",
       "JVM: OpenJDK 64-Bit Server VM\n",
       "Default Encoding: UTF-8\n",
       "Language: en\n",
       "Country: null\n",
       "--></g></svg>"
      ]
     },
     "execution_count": 31,
     "metadata": {},
     "output_type": "execute_result"
    }
   ],
   "source": [
    "%viz --style=\"PLANTUML\" --view=\"Tree\" \"DependencyTest\""
   ]
  },
  {
   "cell_type": "code",
   "execution_count": 32,
   "id": "a5856fde",
   "metadata": {
    "execution": {
     "iopub.execute_input": "2021-12-15T15:15:21.288334Z",
     "iopub.status.busy": "2021-12-15T15:15:21.287872Z",
     "iopub.status.idle": "2021-12-15T15:15:21.438638Z",
     "shell.execute_reply": "2021-12-15T15:15:21.436764Z"
    }
   },
   "outputs": [
    {
     "data": {
      "image/svg+xml": [
       "<?xml version=\"1.0\" encoding=\"UTF-8\" standalone=\"no\"?><svg xmlns=\"http://www.w3.org/2000/svg\" xmlns:xlink=\"http://www.w3.org/1999/xlink\" contentScriptType=\"application/ecmascript\" contentStyleType=\"text/css\" height=\"417px\" preserveAspectRatio=\"none\" style=\"width:603px;height:417px;background:#000000;\" version=\"1.1\" viewBox=\"0 0 603 417\" width=\"603px\" zoomAndPan=\"magnify\"><defs/><g><rect fill=\"#080A1F\" height=\"1\" style=\"stroke: #080A1F; stroke-width: 1.0;\" width=\"1\" x=\"0\" y=\"0\"/><rect fill=\"#F6C914\" height=\"58\" style=\"stroke: #F6C914; stroke-width: 1.0;\" width=\"602\" x=\"0\" y=\"0\"/><image height=\"58\" width=\"454\" x=\"1\" xlink:href=\"data:image/png;base64,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\" y=\"1\"/><rect fill=\"#FFFFFF\" height=\"202.8012\" style=\"stroke: #FFFFFF; stroke-width: 1.0;\" width=\"602\" x=\"0\" y=\"58\"/><text fill=\"#000000\" font-family=\"sans-serif\" font-size=\"12\" font-weight=\"bold\" lengthAdjust=\"spacingAndGlyphs\" textLength=\"139\" x=\"5\" y=\"74.1387\">Welcome to PlantUML!</text><text fill=\"#000000\" font-family=\"sans-serif\" font-size=\"12\" lengthAdjust=\"spacingAndGlyphs\" textLength=\"0\" x=\"9\" y=\"88.1074\"/><text fill=\"#000000\" font-family=\"sans-serif\" font-size=\"12\" lengthAdjust=\"spacingAndGlyphs\" textLength=\"293\" x=\"5\" y=\"102.0762\">If you use this software, you accept its license.</text><text fill=\"#000000\" font-family=\"sans-serif\" font-size=\"12\" lengthAdjust=\"spacingAndGlyphs\" textLength=\"107\" x=\"5\" y=\"116.0449\">(details by typing</text><text fill=\"#000000\" font-family=\"monospace\" font-size=\"12\" lengthAdjust=\"spacingAndGlyphs\" textLength=\"42\" x=\"116\" y=\"116.595\">license</text><text fill=\"#000000\" font-family=\"sans-serif\" font-size=\"12\" lengthAdjust=\"spacingAndGlyphs\" textLength=\"56\" x=\"162\" y=\"116.0449\">keyword)</text><text fill=\"#000000\" font-family=\"sans-serif\" font-size=\"12\" lengthAdjust=\"spacingAndGlyphs\" textLength=\"0\" x=\"9\" y=\"130.0137\"/><text fill=\"#000000\" font-family=\"sans-serif\" font-size=\"12\" lengthAdjust=\"spacingAndGlyphs\" textLength=\"283\" x=\"5\" y=\"143.9824\">You can start with a simple UML Diagram like:</text><text fill=\"#000000\" font-family=\"sans-serif\" font-size=\"12\" lengthAdjust=\"spacingAndGlyphs\" textLength=\"0\" x=\"9\" y=\"157.9512\"/><text fill=\"#000000\" font-family=\"monospace\" font-size=\"12\" lengthAdjust=\"spacingAndGlyphs\" textLength=\"102\" x=\"5\" y=\"171.0893\">Bob-&gt;Alice: Hello</text><text fill=\"#000000\" font-family=\"sans-serif\" font-size=\"12\" lengthAdjust=\"spacingAndGlyphs\" textLength=\"0\" x=\"9\" y=\"184.508\"/><text fill=\"#000000\" font-family=\"sans-serif\" font-size=\"12\" lengthAdjust=\"spacingAndGlyphs\" textLength=\"14\" x=\"5\" y=\"198.4768\">Or</text><text fill=\"#000000\" font-family=\"sans-serif\" font-size=\"12\" lengthAdjust=\"spacingAndGlyphs\" textLength=\"0\" x=\"9\" y=\"212.4455\"/><text fill=\"#000000\" font-family=\"monospace\" font-size=\"12\" lengthAdjust=\"spacingAndGlyphs\" textLength=\"78\" x=\"5\" y=\"225.5837\">class Example</text><text fill=\"#000000\" font-family=\"sans-serif\" font-size=\"12\" lengthAdjust=\"spacingAndGlyphs\" textLength=\"0\" x=\"9\" y=\"239.0023\"/><text fill=\"#000000\" font-family=\"sans-serif\" font-size=\"12\" lengthAdjust=\"spacingAndGlyphs\" textLength=\"349\" x=\"5\" y=\"252.9711\">You will find more information about PlantUML syntax on</text><text fill=\"#000000\" font-family=\"sans-serif\" font-size=\"12\" lengthAdjust=\"spacingAndGlyphs\" text-decoration=\"underline\" textLength=\"129\" x=\"358\" y=\"252.9711\">https://plantuml.com</text><image height=\"71\" width=\"80\" x=\"516\" xlink:href=\"data:image/png;base64,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\" y=\"64\"/><rect fill=\"#000000\" height=\"96.4844\" style=\"stroke: #000000; stroke-width: 1.0;\" width=\"602\" x=\"0\" y=\"260.8012\"/><rect fill=\"#33FF02\" height=\"21.2969\" style=\"stroke: #33FF02; stroke-width: 1.0;\" width=\"145\" x=\"5\" y=\"265.8012\"/><text fill=\"#000000\" font-family=\"sans-serif\" font-size=\"14\" font-weight=\"bold\" lengthAdjust=\"spacingAndGlyphs\" textLength=\"143\" x=\"6\" y=\"280.8012\">[From string (line 2) ]</text><text fill=\"#33FF02\" font-family=\"sans-serif\" font-size=\"14\" font-weight=\"bold\" lengthAdjust=\"spacingAndGlyphs\" textLength=\"0\" x=\"9\" y=\"301.0981\"/><text fill=\"#33FF02\" font-family=\"sans-serif\" font-size=\"14\" font-weight=\"bold\" lengthAdjust=\"spacingAndGlyphs\" textLength=\"70\" x=\"5\" y=\"317.3949\">@startuml</text><text fill=\"#33FF02\" font-family=\"sans-serif\" font-size=\"14\" font-weight=\"bold\" lengthAdjust=\"spacingAndGlyphs\" textLength=\"0\" x=\"9\" y=\"333.6918\"/><text fill=\"#FF0000\" font-family=\"sans-serif\" font-size=\"14\" font-weight=\"bold\" lengthAdjust=\"spacingAndGlyphs\" textLength=\"124\" x=\"9\" y=\"349.9887\">Empty description</text><rect fill=\"#F6C914\" height=\"58\" style=\"stroke: #F6C914; stroke-width: 1.0;\" width=\"602\" x=\"0\" y=\"357.2856\"/><image height=\"58\" width=\"454\" x=\"1\" xlink:href=\"data:image/png;base64,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\" y=\"358.2856\"/><!--MD5=[f59edd8218d337f74d0c332fc6737304]\n",
       "@startuml\r\n",
       " \r\n",
       "@enduml\r\n",
       "\n",
       "PlantUML version 1.2020.13(Sat Jun 13 12:26:38 UTC 2020)\n",
       "(EPL source distribution)\n",
       "Java Runtime: OpenJDK Runtime Environment\n",
       "JVM: OpenJDK 64-Bit Server VM\n",
       "Default Encoding: UTF-8\n",
       "Language: en\n",
       "Country: null\n",
       "--></g></svg>"
      ]
     },
     "execution_count": 32,
     "metadata": {},
     "output_type": "execute_result"
    }
   ],
   "source": [
    "%viz --style=\"PLANTUML\" --view=\"State\" \"DependencyTest\""
   ]
  },
  {
   "cell_type": "code",
   "execution_count": 33,
   "id": "0f53d29d",
   "metadata": {
    "execution": {
     "iopub.execute_input": "2021-12-15T15:15:21.487572Z",
     "iopub.status.busy": "2021-12-15T15:15:21.487160Z",
     "iopub.status.idle": "2021-12-15T15:15:21.513965Z",
     "shell.execute_reply": "2021-12-15T15:15:21.513612Z"
    }
   },
   "outputs": [
    {
     "data": {
      "image/svg+xml": [
       "<?xml version=\"1.0\" encoding=\"UTF-8\" standalone=\"no\"?><svg xmlns=\"http://www.w3.org/2000/svg\" xmlns:xlink=\"http://www.w3.org/1999/xlink\" contentScriptType=\"application/ecmascript\" contentStyleType=\"text/css\" height=\"361px\" preserveAspectRatio=\"none\" style=\"width:490px;height:361px;\" version=\"1.1\" viewBox=\"0 0 490 361\" width=\"490px\" zoomAndPan=\"magnify\"><defs><filter height=\"300%\" id=\"fo4vwfkrdcd26\" width=\"300%\" x=\"-1\" y=\"-1\"><feGaussianBlur result=\"blurOut\" stdDeviation=\"2.0\"/><feColorMatrix in=\"blurOut\" result=\"blurOut2\" type=\"matrix\" values=\"0 0 0 0 0 0 0 0 0 0 0 0 0 0 0 0 0 0 .4 0\"/><feOffset dx=\"4.0\" dy=\"4.0\" in=\"blurOut2\" result=\"blurOut3\"/><feBlend in=\"SourceGraphic\" in2=\"blurOut3\" mode=\"normal\"/></filter></defs><g><!--MD5=[fbc87193dbaf4d95561dea2c320d4a47]\n",
       "cluster E1--><a href=\"psysml:79533e77-94c2-4bae-8455-1b4d9ad0ac19\" target=\"_top\" title=\"psysml:79533e77-94c2-4bae-8455-1b4d9ad0ac19\" xlink:actuate=\"onRequest\" xlink:href=\"psysml:79533e77-94c2-4bae-8455-1b4d9ad0ac19\" xlink:show=\"new\" xlink:title=\"psysml:79533e77-94c2-4bae-8455-1b4d9ad0ac19\" xlink:type=\"simple\"><polygon fill=\"#FFFFFF\" filter=\"url(#fo4vwfkrdcd26)\" points=\"16,6,142,6,149,28.2969,468,28.2969,468,349,16,349,16,6\" style=\"stroke: #000000; stroke-width: 1.5;\"/><line style=\"stroke: #000000; stroke-width: 1.5;\" x1=\"16\" x2=\"149\" y1=\"28.2969\" y2=\"28.2969\"/><text fill=\"#000000\" font-family=\"sans-serif\" font-size=\"14\" font-weight=\"bold\" lengthAdjust=\"spacingAndGlyphs\" textLength=\"120\" x=\"20\" y=\"20.9951\">DependencyTest</text></a><!--MD5=[e4f7fae6ed58524ba242bb0b0d3be6b7]\n",
       "cluster E2--><a href=\"psysml:aa959c9d-de71-4dee-a328-dce50e2c2738\" target=\"_top\" title=\"psysml:aa959c9d-de71-4dee-a328-dce50e2c2738\" xlink:actuate=\"onRequest\" xlink:href=\"psysml:aa959c9d-de71-4dee-a328-dce50e2c2738\" xlink:show=\"new\" xlink:title=\"psysml:aa959c9d-de71-4dee-a328-dce50e2c2738\" xlink:type=\"simple\"><polygon fill=\"#FFFFFF\" filter=\"url(#fo4vwfkrdcd26)\" points=\"276,49,333,49,340,71.2969,444,71.2969,444,325,276,325,276,49\" style=\"stroke: #000000; stroke-width: 1.5;\"/><line style=\"stroke: #000000; stroke-width: 1.5;\" x1=\"276\" x2=\"340\" y1=\"71.2969\" y2=\"71.2969\"/><text fill=\"#000000\" font-family=\"sans-serif\" font-size=\"14\" font-weight=\"bold\" lengthAdjust=\"spacingAndGlyphs\" textLength=\"51\" x=\"280\" y=\"63.9951\">System</text></a><!--MD5=[60a26617385b1d2d0262a64233df1f8d]\n",
       "class E6--><a href=\"psysml:002f54b6-1019-4822-b88b-c9a615e25b28\" target=\"_top\" title=\"psysml:002f54b6-1019-4822-b88b-c9a615e25b28\" xlink:actuate=\"onRequest\" xlink:href=\"psysml:002f54b6-1019-4822-b88b-c9a615e25b28\" xlink:show=\"new\" xlink:title=\"psysml:002f54b6-1019-4822-b88b-c9a615e25b28\" xlink:type=\"simple\"><rect fill=\"#FEFECE\" filter=\"url(#fo4vwfkrdcd26)\" height=\"45.9375\" id=\"E6\" rx=\"10\" ry=\"10\" style=\"stroke: #A80036; stroke-width: 1.5;\" width=\"97\" x=\"31.5\" y=\"173.5\"/><ellipse cx=\"46.5\" cy=\"192.4688\" fill=\"#FFA500\" rx=\"11\" ry=\"11\" style=\"stroke: #A80036; stroke-width: 1.0;\"/><path d=\"M46.25,197.9375 Q44.5,197.9375 43.5469,196.9063 Q42.6094,195.8594 42.6094,194.0156 L42.6094,187.125 L44.6719,187.125 L44.6719,187.2813 Q44.5781,187.375 44.5469,187.5156 Q44.5313,187.6406 44.5313,187.9063 L44.5313,194.0313 Q44.5313,195.125 44.9063,195.75 Q45.2813,196.375 46.2656,196.375 Q47.25,196.375 47.6406,195.75 Q48.0313,195.125 48.0313,193.9844 L48.0313,187.125 L49.9063,187.125 L49.9063,193.9688 Q49.9063,196 48.875,196.9688 Q47.8594,197.9375 46.25,197.9375 Z \"/><text fill=\"#000000\" font-family=\"sans-serif\" font-size=\"12\" font-style=\"italic\" lengthAdjust=\"spacingAndGlyphs\" textLength=\"69\" x=\"58.5\" y=\"189.6387\">«attribute»</text><text fill=\"#000000\" font-family=\"sans-serif\" font-size=\"12\" lengthAdjust=\"spacingAndGlyphs\" textLength=\"6\" x=\"88\" y=\"203.6074\">x</text><line style=\"stroke: #A80036; stroke-width: 1.5;\" x1=\"32.5\" x2=\"127.5\" y1=\"211.4375\" y2=\"211.4375\"/></a><!--MD5=[2156ba9850f5573cc1fc38a6a4b2f02b]\n",
       "class E7--><a href=\"psysml:5e659b03-2baa-4472-976b-b868f73bcda1\" target=\"_top\" title=\"psysml:5e659b03-2baa-4472-976b-b868f73bcda1\" xlink:actuate=\"onRequest\" xlink:href=\"psysml:5e659b03-2baa-4472-976b-b868f73bcda1\" xlink:show=\"new\" xlink:title=\"psysml:5e659b03-2baa-4472-976b-b868f73bcda1\" xlink:type=\"simple\"><rect fill=\"#FEFECE\" filter=\"url(#fo4vwfkrdcd26)\" height=\"45.9375\" id=\"E7\" rx=\"10\" ry=\"10\" style=\"stroke: #A80036; stroke-width: 1.5;\" width=\"97\" x=\"163.5\" y=\"173.5\"/><ellipse cx=\"178.5\" cy=\"192.4688\" fill=\"#FFA500\" rx=\"11\" ry=\"11\" style=\"stroke: #A80036; stroke-width: 1.0;\"/><path d=\"M178.25,197.9375 Q176.5,197.9375 175.5469,196.9063 Q174.6094,195.8594 174.6094,194.0156 L174.6094,187.125 L176.6719,187.125 L176.6719,187.2813 Q176.5781,187.375 176.5469,187.5156 Q176.5313,187.6406 176.5313,187.9063 L176.5313,194.0313 Q176.5313,195.125 176.9063,195.75 Q177.2813,196.375 178.2656,196.375 Q179.25,196.375 179.6406,195.75 Q180.0313,195.125 180.0313,193.9844 L180.0313,187.125 L181.9063,187.125 L181.9063,193.9688 Q181.9063,196 180.875,196.9688 Q179.8594,197.9375 178.25,197.9375 Z \"/><text fill=\"#000000\" font-family=\"sans-serif\" font-size=\"12\" font-style=\"italic\" lengthAdjust=\"spacingAndGlyphs\" textLength=\"69\" x=\"190.5\" y=\"189.6387\">«attribute»</text><text fill=\"#000000\" font-family=\"sans-serif\" font-size=\"12\" lengthAdjust=\"spacingAndGlyphs\" textLength=\"6\" x=\"220\" y=\"203.6074\">y</text><line style=\"stroke: #A80036; stroke-width: 1.5;\" x1=\"164.5\" x2=\"259.5\" y1=\"211.4375\" y2=\"211.4375\"/></a><!--MD5=[b9389687b975829384b498ac4b7476b2]\n",
       "class E8--><a href=\"psysml:17862b5a-aa19-4a09-bb5d-84a4c59b96ac\" target=\"_top\" title=\"psysml:17862b5a-aa19-4a09-bb5d-84a4c59b96ac\" xlink:actuate=\"onRequest\" xlink:href=\"psysml:17862b5a-aa19-4a09-bb5d-84a4c59b96ac\" xlink:show=\"new\" xlink:title=\"psysml:17862b5a-aa19-4a09-bb5d-84a4c59b96ac\" xlink:type=\"simple\"><rect fill=\"#FEFECE\" filter=\"url(#fo4vwfkrdcd26)\" height=\"45.9375\" id=\"E8\" rx=\"10\" ry=\"10\" style=\"stroke: #A80036; stroke-width: 1.5;\" width=\"97\" x=\"84.5\" y=\"87.5\"/><ellipse cx=\"99.5\" cy=\"106.4688\" fill=\"#FFA500\" rx=\"11\" ry=\"11\" style=\"stroke: #A80036; stroke-width: 1.0;\"/><path d=\"M99.25,111.9375 Q97.5,111.9375 96.5469,110.9063 Q95.6094,109.8594 95.6094,108.0156 L95.6094,101.125 L97.6719,101.125 L97.6719,101.2813 Q97.5781,101.375 97.5469,101.5156 Q97.5313,101.6406 97.5313,101.9063 L97.5313,108.0313 Q97.5313,109.125 97.9063,109.75 Q98.2813,110.375 99.2656,110.375 Q100.25,110.375 100.6406,109.75 Q101.0313,109.125 101.0313,107.9844 L101.0313,101.125 L102.9063,101.125 L102.9063,107.9688 Q102.9063,110 101.875,110.9688 Q100.8594,111.9375 99.25,111.9375 Z \"/><text fill=\"#000000\" font-family=\"sans-serif\" font-size=\"12\" font-style=\"italic\" lengthAdjust=\"spacingAndGlyphs\" textLength=\"69\" x=\"111.5\" y=\"103.6387\">«attribute»</text><text fill=\"#000000\" font-family=\"sans-serif\" font-size=\"12\" lengthAdjust=\"spacingAndGlyphs\" textLength=\"5\" x=\"141.5\" y=\"117.6074\">z</text><line style=\"stroke: #A80036; stroke-width: 1.5;\" x1=\"85.5\" x2=\"180.5\" y1=\"125.4375\" y2=\"125.4375\"/></a><a href=\"psysml:c86dacee-9d76-4d53-8a53-8574653b1f4e\" target=\"_top\" title=\"psysml:c86dacee-9d76-4d53-8a53-8574653b1f4e\" xlink:actuate=\"onRequest\" xlink:href=\"psysml:c86dacee-9d76-4d53-8a53-8574653b1f4e\" xlink:show=\"new\" xlink:title=\"psysml:c86dacee-9d76-4d53-8a53-8574653b1f4e\" xlink:type=\"simple\"><polygon fill=\"#FFFFFF\" filter=\"url(#fo4vwfkrdcd26)\" points=\"292.5,84,413.5,84,420.5,106.2969,427.5,106.2969,427.5,136.5938,292.5,136.5938,292.5,84\" style=\"stroke: #000000; stroke-width: 1.5;\"/><line style=\"stroke: #000000; stroke-width: 1.5;\" x1=\"292.5\" x2=\"420.5\" y1=\"106.2969\" y2=\"106.2969\"/><text fill=\"#000000\" font-family=\"sans-serif\" font-size=\"14\" font-weight=\"bold\" lengthAdjust=\"spacingAndGlyphs\" textLength=\"115\" x=\"296.5\" y=\"98.9951\">Application Layer</text></a><a href=\"psysml:1c23a4b2-35e2-4e8a-96b6-0c0eddc8acf9\" target=\"_top\" title=\"psysml:1c23a4b2-35e2-4e8a-96b6-0c0eddc8acf9\" xlink:actuate=\"onRequest\" xlink:href=\"psysml:1c23a4b2-35e2-4e8a-96b6-0c0eddc8acf9\" xlink:show=\"new\" xlink:title=\"psysml:1c23a4b2-35e2-4e8a-96b6-0c0eddc8acf9\" xlink:type=\"simple\"><polygon fill=\"#FFFFFF\" filter=\"url(#fo4vwfkrdcd26)\" points=\"305,170,401,170,408,192.2969,415,192.2969,415,222.5938,305,222.5938,305,170\" style=\"stroke: #000000; stroke-width: 1.5;\"/><line style=\"stroke: #000000; stroke-width: 1.5;\" x1=\"305\" x2=\"408\" y1=\"192.2969\" y2=\"192.2969\"/><text fill=\"#000000\" font-family=\"sans-serif\" font-size=\"14\" font-weight=\"bold\" lengthAdjust=\"spacingAndGlyphs\" textLength=\"90\" x=\"309\" y=\"184.9951\">Service Layer</text></a><a href=\"psysml:a642c0ba-468c-4345-a41b-ed6906c58c2e\" target=\"_top\" title=\"psysml:a642c0ba-468c-4345-a41b-ed6906c58c2e\" xlink:actuate=\"onRequest\" xlink:href=\"psysml:a642c0ba-468c-4345-a41b-ed6906c58c2e\" xlink:show=\"new\" xlink:title=\"psysml:a642c0ba-468c-4345-a41b-ed6906c58c2e\" xlink:type=\"simple\"><polygon fill=\"#FFFFFF\" filter=\"url(#fo4vwfkrdcd26)\" points=\"314,256,392,256,399,278.2969,406,278.2969,406,308.5938,314,308.5938,314,256\" style=\"stroke: #000000; stroke-width: 1.5;\"/><line style=\"stroke: #000000; stroke-width: 1.5;\" x1=\"314\" x2=\"399\" y1=\"278.2969\" y2=\"278.2969\"/><text fill=\"#000000\" font-family=\"sans-serif\" font-size=\"14\" font-weight=\"bold\" lengthAdjust=\"spacingAndGlyphs\" textLength=\"72\" x=\"318\" y=\"270.9951\">Data Layer</text></a><!--MD5=[af87c684e3b0d8be13c1a698a818ef1e]\n",
       "link E3 to E4--><a href=\"psysml:e08fe20c-326f-4bf4-bdb1-9df0382c82e4\" target=\"_top\" title=\"psysml:e08fe20c-326f-4bf4-bdb1-9df0382c82e4\" xlink:actuate=\"onRequest\" xlink:href=\"psysml:e08fe20c-326f-4bf4-bdb1-9df0382c82e4\" xlink:show=\"new\" xlink:title=\"psysml:e08fe20c-326f-4bf4-bdb1-9df0382c82e4\" xlink:type=\"simple\"><path d=\"M360,137.16 C360,144.98 360,153.69 360,161.94 \" fill=\"none\" id=\"E3-&gt;E4\" style=\"stroke: #A80036; stroke-width: 1.0; stroke-dasharray: 7.0,7.0;\"/><polygon fill=\"#A80036\" points=\"360,170,363,162,357,162,360,170\" style=\"stroke: #A80036; stroke-width: 1.0;\"/><text fill=\"#000000\" font-family=\"sans-serif\" font-size=\"13\" lengthAdjust=\"spacingAndGlyphs\" textLength=\"64\" x=\"361\" y=\"158.0669\">«depend»</text></a><!--MD5=[1b7591eae5389033d8d09a9d6721a717]\n",
       "link E4 to E5--><a href=\"psysml:3bcf17b2-ef7a-4ff9-b082-cb17e1124f6a\" target=\"_top\" title=\"psysml:3bcf17b2-ef7a-4ff9-b082-cb17e1124f6a\" xlink:actuate=\"onRequest\" xlink:href=\"psysml:3bcf17b2-ef7a-4ff9-b082-cb17e1124f6a\" xlink:show=\"new\" xlink:title=\"psysml:3bcf17b2-ef7a-4ff9-b082-cb17e1124f6a\" xlink:type=\"simple\"><path d=\"M360,223.16 C360,230.98 360,239.69 360,247.94 \" fill=\"none\" id=\"E4-&gt;E5\" style=\"stroke: #A80036; stroke-width: 1.0; stroke-dasharray: 7.0,7.0;\"/><polygon fill=\"#A80036\" points=\"360,256,363,248,357,248,360,256\" style=\"stroke: #A80036; stroke-width: 1.0;\"/><text fill=\"#000000\" font-family=\"sans-serif\" font-size=\"13\" lengthAdjust=\"spacingAndGlyphs\" textLength=\"64\" x=\"361\" y=\"244.0669\">«depend»</text></a><!--MD5=[c5e8897d989ce984f93528998a7150fe]\n",
       "link E8 to E6--><a href=\"psysml:aa53d009-eedf-4466-a7b8-b270a2d13479\" target=\"_top\" title=\"psysml:aa53d009-eedf-4466-a7b8-b270a2d13479\" xlink:actuate=\"onRequest\" xlink:href=\"psysml:aa53d009-eedf-4466-a7b8-b270a2d13479\" xlink:show=\"new\" xlink:title=\"psysml:aa53d009-eedf-4466-a7b8-b270a2d13479\" xlink:type=\"simple\"><path d=\"M92.08,133.72 C88.53,137.07 85.39,140.83 83,145 C79.52,151.08 77.92,158.28 77.36,165.3 \" fill=\"none\" id=\"E8-&gt;E6\" style=\"stroke: #A80036; stroke-width: 1.0; stroke-dasharray: 7.0,7.0;\"/><polygon fill=\"#A80036\" points=\"77.14,173.39,80.3531,165.4732,74.3553,165.3125,77.14,173.39\" style=\"stroke: #A80036; stroke-width: 1.0;\"/><text fill=\"#000000\" font-family=\"sans-serif\" font-size=\"13\" lengthAdjust=\"spacingAndGlyphs\" textLength=\"64\" x=\"84\" y=\"158.0669\">«depend»</text></a><!--MD5=[bfa3c8b0d15052fdf50ae9310b491027]\n",
       "link E8 to E7--><a href=\"psysml:aa53d009-eedf-4466-a7b8-b270a2d13479\" target=\"_top\" title=\"psysml:aa53d009-eedf-4466-a7b8-b270a2d13479\" xlink:actuate=\"onRequest\" xlink:href=\"psysml:aa53d009-eedf-4466-a7b8-b270a2d13479\" xlink:show=\"new\" xlink:title=\"psysml:aa53d009-eedf-4466-a7b8-b270a2d13479\" xlink:type=\"simple\"><path d=\"M153.76,133.57 C163.48,143.91 175.17,156.34 185.52,167.34 \" fill=\"none\" id=\"E8-&gt;E7\" style=\"stroke: #A80036; stroke-width: 1.0; stroke-dasharray: 7.0,7.0;\"/><polygon fill=\"#A80036\" points=\"191.11,173.29,187.8117,165.4083,183.4425,169.5205,191.11,173.29\" style=\"stroke: #A80036; stroke-width: 1.0;\"/><text fill=\"#000000\" font-family=\"sans-serif\" font-size=\"13\" lengthAdjust=\"spacingAndGlyphs\" textLength=\"64\" x=\"180\" y=\"158.0669\">«depend»</text></a><!--MD5=[2d5ea8366988dd5d0393af002e6f883d]\n",
       "@startuml\r\n",
       "skinparam ranksep 10\r\n",
       "skinparam rectangle {\r\n",
       " backgroundColor<<block>> LightGreen\r\n",
       "}\r\n",
       " \r\n",
       "package \"DependencyTest\" as E1  [[psysml:79533e77-94c2-4bae-8455-1b4d9ad0ac19 ]]  {\r\n",
       "package \"System\" as E2  [[psysml:aa959c9d-de71-4dee-a328-dce50e2c2738 ]]  {\r\n",
       "package \"Application Layer\" as E3  [[psysml:c86dacee-9d76-4d53-8a53-8574653b1f4e ]]  {\r\n",
       "}\r\n",
       "package \"Service Layer\" as E4  [[psysml:1c23a4b2-35e2-4e8a-96b6-0c0eddc8acf9 ]]  {\r\n",
       "}\r\n",
       "package \"Data Layer\" as E5  [[psysml:a642c0ba-468c-4345-a41b-ed6906c58c2e ]]  {\r\n",
       "}\r\n",
       "}\r\n",
       "comp usage \"x \" as E6 << <<(U,orange) attribute>> [[psysml:002f54b6-1019-4822-b88b-c9a615e25b28 ]] {\r\n",
       "}\r\n",
       "comp usage \"y \" as E7 << <<(U,orange) attribute>> [[psysml:5e659b03-2baa-4472-976b-b868f73bcda1 ]] {\r\n",
       "}\r\n",
       "comp usage \"z \" as E8 << <<(U,orange) attribute>> [[psysml:17862b5a-aa19-4a09-bb5d-84a4c59b96ac ]] {\r\n",
       "}\r\n",
       "}\r\n",
       "E3 ..>> E4 [[psysml:e08fe20c-326f-4bf4-bdb1-9df0382c82e4 ]] : <<depend>>\r\n",
       "E4 ..>> E5 [[psysml:3bcf17b2-ef7a-4ff9-b082-cb17e1124f6a ]] : <<depend>>\r\n",
       "E8 ..>> E6 [[psysml:aa53d009-eedf-4466-a7b8-b270a2d13479 ]] : <<depend>>\r\n",
       "E8 ..>> E7 [[psysml:aa53d009-eedf-4466-a7b8-b270a2d13479 ]] : <<depend>>\r\n",
       "@enduml\r\n",
       "\n",
       "PlantUML version 1.2020.13(Sat Jun 13 12:26:38 UTC 2020)\n",
       "(EPL source distribution)\n",
       "Java Runtime: OpenJDK Runtime Environment\n",
       "JVM: OpenJDK 64-Bit Server VM\n",
       "Default Encoding: UTF-8\n",
       "Language: en\n",
       "Country: null\n",
       "--></g></svg>"
      ]
     },
     "execution_count": 33,
     "metadata": {},
     "output_type": "execute_result"
    }
   ],
   "source": [
    "%viz --style=\"PLANTUML\" --view=\"Interconnection\" \"DependencyTest\""
   ]
  },
  {
   "cell_type": "code",
   "execution_count": 34,
   "id": "018d1944",
   "metadata": {
    "execution": {
     "iopub.execute_input": "2021-12-15T15:15:21.563664Z",
     "iopub.status.busy": "2021-12-15T15:15:21.563041Z",
     "iopub.status.idle": "2021-12-15T15:15:21.567568Z",
     "shell.execute_reply": "2021-12-15T15:15:21.566960Z"
    }
   },
   "outputs": [
    {
     "data": {
      "image/svg+xml": [
       "<?xml version=\"1.0\" encoding=\"UTF-8\" standalone=\"no\"?><svg xmlns=\"http://www.w3.org/2000/svg\" xmlns:xlink=\"http://www.w3.org/1999/xlink\" contentScriptType=\"application/ecmascript\" contentStyleType=\"text/css\" height=\"12px\" preserveAspectRatio=\"none\" style=\"width:12px;height:12px;\" version=\"1.1\" viewBox=\"0 0 12 12\" width=\"12px\" zoomAndPan=\"magnify\"><defs/><g><!--MD5=[6a4cb978cab31700e1ce5529f947a75d]\n",
       "@startuml\r\n",
       "skinparam ranksep 8\r\n",
       " \r\n",
       "@enduml\r\n",
       "\n",
       "PlantUML version 1.2020.13(Sat Jun 13 12:26:38 UTC 2020)\n",
       "(EPL source distribution)\n",
       "Java Runtime: OpenJDK Runtime Environment\n",
       "JVM: OpenJDK 64-Bit Server VM\n",
       "Default Encoding: UTF-8\n",
       "Language: en\n",
       "Country: null\n",
       "--></g></svg>"
      ]
     },
     "execution_count": 34,
     "metadata": {},
     "output_type": "execute_result"
    }
   ],
   "source": [
    "%viz --style=\"PLANTUML\" --view=\"Action\" \"DependencyTest\""
   ]
  },
  {
   "cell_type": "code",
   "execution_count": 35,
   "id": "692bc838",
   "metadata": {
    "execution": {
     "iopub.execute_input": "2021-12-15T15:15:21.615775Z",
     "iopub.status.busy": "2021-12-15T15:15:21.615343Z",
     "iopub.status.idle": "2021-12-15T15:15:21.620273Z",
     "shell.execute_reply": "2021-12-15T15:15:21.620589Z"
    }
   },
   "outputs": [
    {
     "data": {
      "image/svg+xml": [
       "<?xml version=\"1.0\" encoding=\"UTF-8\" standalone=\"no\"?><svg xmlns=\"http://www.w3.org/2000/svg\" xmlns:xlink=\"http://www.w3.org/1999/xlink\" contentScriptType=\"application/ecmascript\" contentStyleType=\"text/css\" height=\"12px\" preserveAspectRatio=\"none\" style=\"width:12px;height:12px;\" version=\"1.1\" viewBox=\"0 0 12 12\" width=\"12px\" zoomAndPan=\"magnify\"><defs/><g><!--MD5=[ca4faa0b02def275ea33c14ea7a1a98d]\n",
       "@startuml\r\n",
       "skinparam roundcorner 20\r\n",
       "skinparam BoxPadding 20\r\n",
       "skinparam SequenceBoxBackgroundColor #white\r\n",
       "skinparam style strictuml\r\n",
       "skinparam maxMessageSize 100\r\n",
       " \r\n",
       "@enduml\r\n",
       "\n",
       "PlantUML version 1.2020.13(Sat Jun 13 12:26:38 UTC 2020)\n",
       "(EPL source distribution)\n",
       "Java Runtime: OpenJDK Runtime Environment\n",
       "JVM: OpenJDK 64-Bit Server VM\n",
       "Default Encoding: UTF-8\n",
       "Language: en\n",
       "Country: null\n",
       "--></g></svg>"
      ]
     },
     "execution_count": 35,
     "metadata": {},
     "output_type": "execute_result"
    }
   ],
   "source": [
    "%viz --style=\"PLANTUML\" --view=\"Sequence\" \"DependencyTest\""
   ]
  },
  {
   "cell_type": "code",
   "execution_count": 36,
   "id": "074fe1d9",
   "metadata": {
    "execution": {
     "iopub.execute_input": "2021-12-15T15:15:21.669765Z",
     "iopub.status.busy": "2021-12-15T15:15:21.669343Z",
     "iopub.status.idle": "2021-12-15T15:15:21.704079Z",
     "shell.execute_reply": "2021-12-15T15:15:21.703721Z"
    }
   },
   "outputs": [
    {
     "data": {
      "image/svg+xml": [
       "<?xml version=\"1.0\" encoding=\"UTF-8\" standalone=\"no\"?><svg xmlns=\"http://www.w3.org/2000/svg\" xmlns:xlink=\"http://www.w3.org/1999/xlink\" contentScriptType=\"application/ecmascript\" contentStyleType=\"text/css\" height=\"449px\" preserveAspectRatio=\"none\" style=\"width:490px;height:449px;\" version=\"1.1\" viewBox=\"0 0 490 449\" width=\"490px\" zoomAndPan=\"magnify\"><defs><filter height=\"300%\" id=\"f1q8ecqjzrysd3\" width=\"300%\" x=\"-1\" y=\"-1\"><feGaussianBlur result=\"blurOut\" stdDeviation=\"2.0\"/><feColorMatrix in=\"blurOut\" result=\"blurOut2\" type=\"matrix\" values=\"0 0 0 0 0 0 0 0 0 0 0 0 0 0 0 0 0 0 .4 0\"/><feOffset dx=\"4.0\" dy=\"4.0\" in=\"blurOut2\" result=\"blurOut3\"/><feBlend in=\"SourceGraphic\" in2=\"blurOut3\" mode=\"normal\"/></filter></defs><g><!--MD5=[fbc87193dbaf4d95561dea2c320d4a47]\n",
       "cluster E1--><a href=\"psysml:79533e77-94c2-4bae-8455-1b4d9ad0ac19\" target=\"_top\" title=\"psysml:79533e77-94c2-4bae-8455-1b4d9ad0ac19\" xlink:actuate=\"onRequest\" xlink:href=\"psysml:79533e77-94c2-4bae-8455-1b4d9ad0ac19\" xlink:show=\"new\" xlink:title=\"psysml:79533e77-94c2-4bae-8455-1b4d9ad0ac19\" xlink:type=\"simple\"><polygon fill=\"#FFFFFF\" filter=\"url(#f1q8ecqjzrysd3)\" points=\"16,6,142,6,149,28.2969,468,28.2969,468,437,16,437,16,6\" style=\"stroke: #000000; stroke-width: 1.5;\"/><line style=\"stroke: #000000; stroke-width: 1.5;\" x1=\"16\" x2=\"149\" y1=\"28.2969\" y2=\"28.2969\"/><text fill=\"#000000\" font-family=\"sans-serif\" font-size=\"14\" font-weight=\"bold\" lengthAdjust=\"spacingAndGlyphs\" textLength=\"120\" x=\"20\" y=\"20.9951\">DependencyTest</text></a><!--MD5=[e4f7fae6ed58524ba242bb0b0d3be6b7]\n",
       "cluster E2--><a href=\"psysml:aa959c9d-de71-4dee-a328-dce50e2c2738\" target=\"_top\" title=\"psysml:aa959c9d-de71-4dee-a328-dce50e2c2738\" xlink:actuate=\"onRequest\" xlink:href=\"psysml:aa959c9d-de71-4dee-a328-dce50e2c2738\" xlink:show=\"new\" xlink:title=\"psysml:aa959c9d-de71-4dee-a328-dce50e2c2738\" xlink:type=\"simple\"><polygon fill=\"#FFFFFF\" filter=\"url(#f1q8ecqjzrysd3)\" points=\"276,49,333,49,340,71.2969,444,71.2969,444,413,276,413,276,49\" style=\"stroke: #000000; stroke-width: 1.5;\"/><line style=\"stroke: #000000; stroke-width: 1.5;\" x1=\"276\" x2=\"340\" y1=\"71.2969\" y2=\"71.2969\"/><text fill=\"#000000\" font-family=\"sans-serif\" font-size=\"14\" font-weight=\"bold\" lengthAdjust=\"spacingAndGlyphs\" textLength=\"51\" x=\"280\" y=\"63.9951\">System</text></a><!--MD5=[60a26617385b1d2d0262a64233df1f8d]\n",
       "class E6--><a href=\"psysml:002f54b6-1019-4822-b88b-c9a615e25b28\" target=\"_top\" title=\"psysml:002f54b6-1019-4822-b88b-c9a615e25b28\" xlink:actuate=\"onRequest\" xlink:href=\"psysml:002f54b6-1019-4822-b88b-c9a615e25b28\" xlink:show=\"new\" xlink:title=\"psysml:002f54b6-1019-4822-b88b-c9a615e25b28\" xlink:type=\"simple\"><rect fill=\"#FEFECE\" filter=\"url(#f1q8ecqjzrysd3)\" height=\"45.9375\" id=\"E6\" rx=\"10\" ry=\"10\" style=\"stroke: #A80036; stroke-width: 1.5;\" width=\"97\" x=\"31.5\" y=\"217.5\"/><ellipse cx=\"46.5\" cy=\"236.4688\" fill=\"#FFA500\" rx=\"11\" ry=\"11\" style=\"stroke: #A80036; stroke-width: 1.0;\"/><path d=\"M46.25,241.9375 Q44.5,241.9375 43.5469,240.9063 Q42.6094,239.8594 42.6094,238.0156 L42.6094,231.125 L44.6719,231.125 L44.6719,231.2813 Q44.5781,231.375 44.5469,231.5156 Q44.5313,231.6406 44.5313,231.9063 L44.5313,238.0313 Q44.5313,239.125 44.9063,239.75 Q45.2813,240.375 46.2656,240.375 Q47.25,240.375 47.6406,239.75 Q48.0313,239.125 48.0313,237.9844 L48.0313,231.125 L49.9063,231.125 L49.9063,237.9688 Q49.9063,240 48.875,240.9688 Q47.8594,241.9375 46.25,241.9375 Z \"/><text fill=\"#000000\" font-family=\"sans-serif\" font-size=\"12\" font-style=\"italic\" lengthAdjust=\"spacingAndGlyphs\" textLength=\"69\" x=\"58.5\" y=\"233.6387\">«attribute»</text><text fill=\"#000000\" font-family=\"sans-serif\" font-size=\"12\" lengthAdjust=\"spacingAndGlyphs\" textLength=\"6\" x=\"88\" y=\"247.6074\">x</text><line style=\"stroke: #A80036; stroke-width: 1.5;\" x1=\"32.5\" x2=\"127.5\" y1=\"255.4375\" y2=\"255.4375\"/></a><!--MD5=[2156ba9850f5573cc1fc38a6a4b2f02b]\n",
       "class E7--><a href=\"psysml:5e659b03-2baa-4472-976b-b868f73bcda1\" target=\"_top\" title=\"psysml:5e659b03-2baa-4472-976b-b868f73bcda1\" xlink:actuate=\"onRequest\" xlink:href=\"psysml:5e659b03-2baa-4472-976b-b868f73bcda1\" xlink:show=\"new\" xlink:title=\"psysml:5e659b03-2baa-4472-976b-b868f73bcda1\" xlink:type=\"simple\"><rect fill=\"#FEFECE\" filter=\"url(#f1q8ecqjzrysd3)\" height=\"45.9375\" id=\"E7\" rx=\"10\" ry=\"10\" style=\"stroke: #A80036; stroke-width: 1.5;\" width=\"97\" x=\"163.5\" y=\"217.5\"/><ellipse cx=\"178.5\" cy=\"236.4688\" fill=\"#FFA500\" rx=\"11\" ry=\"11\" style=\"stroke: #A80036; stroke-width: 1.0;\"/><path d=\"M178.25,241.9375 Q176.5,241.9375 175.5469,240.9063 Q174.6094,239.8594 174.6094,238.0156 L174.6094,231.125 L176.6719,231.125 L176.6719,231.2813 Q176.5781,231.375 176.5469,231.5156 Q176.5313,231.6406 176.5313,231.9063 L176.5313,238.0313 Q176.5313,239.125 176.9063,239.75 Q177.2813,240.375 178.2656,240.375 Q179.25,240.375 179.6406,239.75 Q180.0313,239.125 180.0313,237.9844 L180.0313,231.125 L181.9063,231.125 L181.9063,237.9688 Q181.9063,240 180.875,240.9688 Q179.8594,241.9375 178.25,241.9375 Z \"/><text fill=\"#000000\" font-family=\"sans-serif\" font-size=\"12\" font-style=\"italic\" lengthAdjust=\"spacingAndGlyphs\" textLength=\"69\" x=\"190.5\" y=\"233.6387\">«attribute»</text><text fill=\"#000000\" font-family=\"sans-serif\" font-size=\"12\" lengthAdjust=\"spacingAndGlyphs\" textLength=\"6\" x=\"220\" y=\"247.6074\">y</text><line style=\"stroke: #A80036; stroke-width: 1.5;\" x1=\"164.5\" x2=\"259.5\" y1=\"255.4375\" y2=\"255.4375\"/></a><!--MD5=[b9389687b975829384b498ac4b7476b2]\n",
       "class E8--><a href=\"psysml:17862b5a-aa19-4a09-bb5d-84a4c59b96ac\" target=\"_top\" title=\"psysml:17862b5a-aa19-4a09-bb5d-84a4c59b96ac\" xlink:actuate=\"onRequest\" xlink:href=\"psysml:17862b5a-aa19-4a09-bb5d-84a4c59b96ac\" xlink:show=\"new\" xlink:title=\"psysml:17862b5a-aa19-4a09-bb5d-84a4c59b96ac\" xlink:type=\"simple\"><rect fill=\"#FEFECE\" filter=\"url(#f1q8ecqjzrysd3)\" height=\"45.9375\" id=\"E8\" rx=\"10\" ry=\"10\" style=\"stroke: #A80036; stroke-width: 1.5;\" width=\"97\" x=\"84.5\" y=\"87.5\"/><ellipse cx=\"99.5\" cy=\"106.4688\" fill=\"#FFA500\" rx=\"11\" ry=\"11\" style=\"stroke: #A80036; stroke-width: 1.0;\"/><path d=\"M99.25,111.9375 Q97.5,111.9375 96.5469,110.9063 Q95.6094,109.8594 95.6094,108.0156 L95.6094,101.125 L97.6719,101.125 L97.6719,101.2813 Q97.5781,101.375 97.5469,101.5156 Q97.5313,101.6406 97.5313,101.9063 L97.5313,108.0313 Q97.5313,109.125 97.9063,109.75 Q98.2813,110.375 99.2656,110.375 Q100.25,110.375 100.6406,109.75 Q101.0313,109.125 101.0313,107.9844 L101.0313,101.125 L102.9063,101.125 L102.9063,107.9688 Q102.9063,110 101.875,110.9688 Q100.8594,111.9375 99.25,111.9375 Z \"/><text fill=\"#000000\" font-family=\"sans-serif\" font-size=\"12\" font-style=\"italic\" lengthAdjust=\"spacingAndGlyphs\" textLength=\"69\" x=\"111.5\" y=\"103.6387\">«attribute»</text><text fill=\"#000000\" font-family=\"sans-serif\" font-size=\"12\" lengthAdjust=\"spacingAndGlyphs\" textLength=\"5\" x=\"141.5\" y=\"117.6074\">z</text><line style=\"stroke: #A80036; stroke-width: 1.5;\" x1=\"85.5\" x2=\"180.5\" y1=\"125.4375\" y2=\"125.4375\"/></a><a href=\"psysml:c86dacee-9d76-4d53-8a53-8574653b1f4e\" target=\"_top\" title=\"psysml:c86dacee-9d76-4d53-8a53-8574653b1f4e\" xlink:actuate=\"onRequest\" xlink:href=\"psysml:c86dacee-9d76-4d53-8a53-8574653b1f4e\" xlink:show=\"new\" xlink:title=\"psysml:c86dacee-9d76-4d53-8a53-8574653b1f4e\" xlink:type=\"simple\"><polygon fill=\"#FFFFFF\" filter=\"url(#f1q8ecqjzrysd3)\" points=\"292.5,84,413.5,84,420.5,106.2969,427.5,106.2969,427.5,136.5938,292.5,136.5938,292.5,84\" style=\"stroke: #000000; stroke-width: 1.5;\"/><line style=\"stroke: #000000; stroke-width: 1.5;\" x1=\"292.5\" x2=\"420.5\" y1=\"106.2969\" y2=\"106.2969\"/><text fill=\"#000000\" font-family=\"sans-serif\" font-size=\"14\" font-weight=\"bold\" lengthAdjust=\"spacingAndGlyphs\" textLength=\"115\" x=\"296.5\" y=\"98.9951\">Application Layer</text></a><a href=\"psysml:1c23a4b2-35e2-4e8a-96b6-0c0eddc8acf9\" target=\"_top\" title=\"psysml:1c23a4b2-35e2-4e8a-96b6-0c0eddc8acf9\" xlink:actuate=\"onRequest\" xlink:href=\"psysml:1c23a4b2-35e2-4e8a-96b6-0c0eddc8acf9\" xlink:show=\"new\" xlink:title=\"psysml:1c23a4b2-35e2-4e8a-96b6-0c0eddc8acf9\" xlink:type=\"simple\"><polygon fill=\"#FFFFFF\" filter=\"url(#f1q8ecqjzrysd3)\" points=\"305,214,401,214,408,236.2969,415,236.2969,415,266.5938,305,266.5938,305,214\" style=\"stroke: #000000; stroke-width: 1.5;\"/><line style=\"stroke: #000000; stroke-width: 1.5;\" x1=\"305\" x2=\"408\" y1=\"236.2969\" y2=\"236.2969\"/><text fill=\"#000000\" font-family=\"sans-serif\" font-size=\"14\" font-weight=\"bold\" lengthAdjust=\"spacingAndGlyphs\" textLength=\"90\" x=\"309\" y=\"228.9951\">Service Layer</text></a><a href=\"psysml:a642c0ba-468c-4345-a41b-ed6906c58c2e\" target=\"_top\" title=\"psysml:a642c0ba-468c-4345-a41b-ed6906c58c2e\" xlink:actuate=\"onRequest\" xlink:href=\"psysml:a642c0ba-468c-4345-a41b-ed6906c58c2e\" xlink:show=\"new\" xlink:title=\"psysml:a642c0ba-468c-4345-a41b-ed6906c58c2e\" xlink:type=\"simple\"><polygon fill=\"#FFFFFF\" filter=\"url(#f1q8ecqjzrysd3)\" points=\"314,344,392,344,399,366.2969,406,366.2969,406,396.5938,314,396.5938,314,344\" style=\"stroke: #000000; stroke-width: 1.5;\"/><line style=\"stroke: #000000; stroke-width: 1.5;\" x1=\"314\" x2=\"399\" y1=\"366.2969\" y2=\"366.2969\"/><text fill=\"#000000\" font-family=\"sans-serif\" font-size=\"14\" font-weight=\"bold\" lengthAdjust=\"spacingAndGlyphs\" textLength=\"72\" x=\"318\" y=\"358.9951\">Data Layer</text></a><!--MD5=[af87c684e3b0d8be13c1a698a818ef1e]\n",
       "link E3 to E4--><a href=\"psysml:e08fe20c-326f-4bf4-bdb1-9df0382c82e4\" target=\"_top\" title=\"psysml:e08fe20c-326f-4bf4-bdb1-9df0382c82e4\" xlink:actuate=\"onRequest\" xlink:href=\"psysml:e08fe20c-326f-4bf4-bdb1-9df0382c82e4\" xlink:show=\"new\" xlink:title=\"psysml:e08fe20c-326f-4bf4-bdb1-9df0382c82e4\" xlink:type=\"simple\"><path d=\"M360,137.1 C360,156.8 360,184.22 360,205.73 \" fill=\"none\" id=\"E3-&gt;E4\" style=\"stroke: #A80036; stroke-width: 1.0; stroke-dasharray: 7.0,7.0;\"/><polygon fill=\"#A80036\" points=\"360,213.95,363,205.95,357,205.95,360,213.95\" style=\"stroke: #A80036; stroke-width: 1.0;\"/><text fill=\"#000000\" font-family=\"sans-serif\" font-size=\"13\" lengthAdjust=\"spacingAndGlyphs\" textLength=\"64\" x=\"361\" y=\"180.0669\">«depend»</text></a><!--MD5=[1b7591eae5389033d8d09a9d6721a717]\n",
       "link E4 to E5--><a href=\"psysml:3bcf17b2-ef7a-4ff9-b082-cb17e1124f6a\" target=\"_top\" title=\"psysml:3bcf17b2-ef7a-4ff9-b082-cb17e1124f6a\" xlink:actuate=\"onRequest\" xlink:href=\"psysml:3bcf17b2-ef7a-4ff9-b082-cb17e1124f6a\" xlink:show=\"new\" xlink:title=\"psysml:3bcf17b2-ef7a-4ff9-b082-cb17e1124f6a\" xlink:type=\"simple\"><path d=\"M360,267.1 C360,286.8 360,314.22 360,335.73 \" fill=\"none\" id=\"E4-&gt;E5\" style=\"stroke: #A80036; stroke-width: 1.0; stroke-dasharray: 7.0,7.0;\"/><polygon fill=\"#A80036\" points=\"360,343.95,363,335.95,357,335.95,360,343.95\" style=\"stroke: #A80036; stroke-width: 1.0;\"/><text fill=\"#000000\" font-family=\"sans-serif\" font-size=\"13\" lengthAdjust=\"spacingAndGlyphs\" textLength=\"64\" x=\"361\" y=\"310.0669\">«depend»</text></a><!--MD5=[c5e8897d989ce984f93528998a7150fe]\n",
       "link E8 to E6--><a href=\"psysml:aa53d009-eedf-4466-a7b8-b270a2d13479\" target=\"_top\" title=\"psysml:aa53d009-eedf-4466-a7b8-b270a2d13479\" xlink:actuate=\"onRequest\" xlink:href=\"psysml:aa53d009-eedf-4466-a7b8-b270a2d13479\" xlink:show=\"new\" xlink:title=\"psysml:aa53d009-eedf-4466-a7b8-b270a2d13479\" xlink:type=\"simple\"><path d=\"M106.44,133.76 C97.3,143.01 88.09,154.51 83,167 C77.6,180.23 76.4,195.98 76.73,209.41 \" fill=\"none\" id=\"E8-&gt;E6\" style=\"stroke: #A80036; stroke-width: 1.0; stroke-dasharray: 7.0,7.0;\"/><polygon fill=\"#A80036\" points=\"77.12,217.43,79.7306,209.2946,73.7375,209.584,77.12,217.43\" style=\"stroke: #A80036; stroke-width: 1.0;\"/><text fill=\"#000000\" font-family=\"sans-serif\" font-size=\"13\" lengthAdjust=\"spacingAndGlyphs\" textLength=\"64\" x=\"84\" y=\"180.0669\">«depend»</text></a><!--MD5=[bfa3c8b0d15052fdf50ae9310b491027]\n",
       "link E8 to E7--><a href=\"psysml:aa53d009-eedf-4466-a7b8-b270a2d13479\" target=\"_top\" title=\"psysml:aa53d009-eedf-4466-a7b8-b270a2d13479\" xlink:actuate=\"onRequest\" xlink:href=\"psysml:aa53d009-eedf-4466-a7b8-b270a2d13479\" xlink:show=\"new\" xlink:title=\"psysml:aa53d009-eedf-4466-a7b8-b270a2d13479\" xlink:type=\"simple\"><path d=\"M146.58,133.5 C159.69,154.75 179.63,187.05 194.05,210.41 \" fill=\"none\" id=\"E8-&gt;E7\" style=\"stroke: #A80036; stroke-width: 1.0; stroke-dasharray: 7.0,7.0;\"/><polygon fill=\"#A80036\" points=\"198.33,217.35,196.6785,208.9671,191.5737,212.1201,198.33,217.35\" style=\"stroke: #A80036; stroke-width: 1.0;\"/><text fill=\"#000000\" font-family=\"sans-serif\" font-size=\"13\" lengthAdjust=\"spacingAndGlyphs\" textLength=\"64\" x=\"178\" y=\"180.0669\">«depend»</text></a><!--MD5=[f6552cea32b717dbbfc9eb24188fdf63]\n",
       "@startuml\r\n",
       " \r\n",
       "package \"DependencyTest\" as E1  [[psysml:79533e77-94c2-4bae-8455-1b4d9ad0ac19 ]]  {\r\n",
       "package \"System\" as E2  [[psysml:aa959c9d-de71-4dee-a328-dce50e2c2738 ]]  {\r\n",
       "package \"Application Layer\" as E3  [[psysml:c86dacee-9d76-4d53-8a53-8574653b1f4e ]]  {\r\n",
       "}\r\n",
       "package \"Service Layer\" as E4  [[psysml:1c23a4b2-35e2-4e8a-96b6-0c0eddc8acf9 ]]  {\r\n",
       "}\r\n",
       "package \"Data Layer\" as E5  [[psysml:a642c0ba-468c-4345-a41b-ed6906c58c2e ]]  {\r\n",
       "}\r\n",
       "}\r\n",
       "comp usage \"x \" as E6 << <<(U,orange) attribute>> [[psysml:002f54b6-1019-4822-b88b-c9a615e25b28 ]] {\r\n",
       "}\r\n",
       "comp usage \"y \" as E7 << <<(U,orange) attribute>> [[psysml:5e659b03-2baa-4472-976b-b868f73bcda1 ]] {\r\n",
       "}\r\n",
       "comp usage \"z \" as E8 << <<(U,orange) attribute>> [[psysml:17862b5a-aa19-4a09-bb5d-84a4c59b96ac ]] {\r\n",
       "}\r\n",
       "}\r\n",
       "E3 ..>> E4 [[psysml:e08fe20c-326f-4bf4-bdb1-9df0382c82e4 ]] : <<depend>>\r\n",
       "E4 ..>> E5 [[psysml:3bcf17b2-ef7a-4ff9-b082-cb17e1124f6a ]] : <<depend>>\r\n",
       "E8 ..>> E6 [[psysml:aa53d009-eedf-4466-a7b8-b270a2d13479 ]] : <<depend>>\r\n",
       "E8 ..>> E7 [[psysml:aa53d009-eedf-4466-a7b8-b270a2d13479 ]] : <<depend>>\r\n",
       "@enduml\r\n",
       "\n",
       "PlantUML version 1.2020.13(Sat Jun 13 12:26:38 UTC 2020)\n",
       "(EPL source distribution)\n",
       "Java Runtime: OpenJDK Runtime Environment\n",
       "JVM: OpenJDK 64-Bit Server VM\n",
       "Default Encoding: UTF-8\n",
       "Language: en\n",
       "Country: null\n",
       "--></g></svg>"
      ]
     },
     "execution_count": 36,
     "metadata": {},
     "output_type": "execute_result"
    }
   ],
   "source": [
    "%viz --style=\"PLANTUML\" --view=\"MIXED\" \"DependencyTest\""
   ]
  },
  {
   "cell_type": "code",
   "execution_count": 37,
   "id": "065398d5",
   "metadata": {
    "execution": {
     "iopub.execute_input": "2021-12-15T15:15:21.753315Z",
     "iopub.status.busy": "2021-12-15T15:15:21.752920Z",
     "iopub.status.idle": "2021-12-15T15:15:21.787284Z",
     "shell.execute_reply": "2021-12-15T15:15:21.786926Z"
    }
   },
   "outputs": [
    {
     "data": {
      "image/svg+xml": [
       "<?xml version=\"1.0\" encoding=\"UTF-8\" standalone=\"no\"?><svg xmlns=\"http://www.w3.org/2000/svg\" xmlns:xlink=\"http://www.w3.org/1999/xlink\" contentScriptType=\"application/ecmascript\" contentStyleType=\"text/css\" height=\"449px\" preserveAspectRatio=\"none\" style=\"width:469px;height:449px;\" version=\"1.1\" viewBox=\"0 0 469 449\" width=\"469px\" zoomAndPan=\"magnify\"><defs/><g><!--MD5=[fbc87193dbaf4d95561dea2c320d4a47]\n",
       "cluster E1--><a href=\"psysml:79533e77-94c2-4bae-8455-1b4d9ad0ac19\" target=\"_top\" title=\"psysml:79533e77-94c2-4bae-8455-1b4d9ad0ac19\" xlink:actuate=\"onRequest\" xlink:href=\"psysml:79533e77-94c2-4bae-8455-1b4d9ad0ac19\" xlink:show=\"new\" xlink:title=\"psysml:79533e77-94c2-4bae-8455-1b4d9ad0ac19\" xlink:type=\"simple\"><polygon fill=\"#FFFFFF\" points=\"16,6,142,6,149,28.2969,447,28.2969,447,437,16,437,16,6\" style=\"stroke: #000000; stroke-width: 1.5;\"/><line style=\"stroke: #000000; stroke-width: 1.5;\" x1=\"16\" x2=\"149\" y1=\"28.2969\" y2=\"28.2969\"/><text fill=\"#000000\" font-family=\"sans-serif\" font-size=\"14\" font-weight=\"bold\" lengthAdjust=\"spacingAndGlyphs\" textLength=\"120\" x=\"20\" y=\"20.9951\">DependencyTest</text></a><!--MD5=[e4f7fae6ed58524ba242bb0b0d3be6b7]\n",
       "cluster E2--><a href=\"psysml:aa959c9d-de71-4dee-a328-dce50e2c2738\" target=\"_top\" title=\"psysml:aa959c9d-de71-4dee-a328-dce50e2c2738\" xlink:actuate=\"onRequest\" xlink:href=\"psysml:aa959c9d-de71-4dee-a328-dce50e2c2738\" xlink:show=\"new\" xlink:title=\"psysml:aa959c9d-de71-4dee-a328-dce50e2c2738\" xlink:type=\"simple\"><polygon fill=\"#FFFFFF\" points=\"255,49,312,49,319,71.2969,423,71.2969,423,413,255,413,255,49\" style=\"stroke: #000000; stroke-width: 1.5;\"/><line style=\"stroke: #000000; stroke-width: 1.5;\" x1=\"255\" x2=\"319\" y1=\"71.2969\" y2=\"71.2969\"/><text fill=\"#000000\" font-family=\"sans-serif\" font-size=\"14\" font-weight=\"bold\" lengthAdjust=\"spacingAndGlyphs\" textLength=\"51\" x=\"259\" y=\"63.9951\">System</text></a><!--MD5=[60a26617385b1d2d0262a64233df1f8d]\n",
       "class E6--><a href=\"psysml:002f54b6-1019-4822-b88b-c9a615e25b28\" target=\"_top\" title=\"psysml:002f54b6-1019-4822-b88b-c9a615e25b28\" xlink:actuate=\"onRequest\" xlink:href=\"psysml:002f54b6-1019-4822-b88b-c9a615e25b28\" xlink:show=\"new\" xlink:title=\"psysml:002f54b6-1019-4822-b88b-c9a615e25b28\" xlink:type=\"simple\"><rect fill=\"#FFFFFF\" height=\"45.9375\" id=\"E6\" rx=\"10\" ry=\"10\" style=\"stroke: #383838; stroke-width: 1.5;\" width=\"71\" x=\"32.5\" y=\"217.5\"/><text fill=\"#000000\" font-family=\"sans-serif\" font-size=\"12\" font-style=\"italic\" lengthAdjust=\"spacingAndGlyphs\" textLength=\"69\" x=\"33.5\" y=\"233.6387\">«attribute»</text><text fill=\"#000000\" font-family=\"sans-serif\" font-size=\"12\" lengthAdjust=\"spacingAndGlyphs\" textLength=\"6\" x=\"63\" y=\"247.6074\">x</text><line style=\"stroke: #383838; stroke-width: 1.5;\" x1=\"33.5\" x2=\"102.5\" y1=\"255.4375\" y2=\"255.4375\"/></a><!--MD5=[2156ba9850f5573cc1fc38a6a4b2f02b]\n",
       "class E7--><a href=\"psysml:5e659b03-2baa-4472-976b-b868f73bcda1\" target=\"_top\" title=\"psysml:5e659b03-2baa-4472-976b-b868f73bcda1\" xlink:actuate=\"onRequest\" xlink:href=\"psysml:5e659b03-2baa-4472-976b-b868f73bcda1\" xlink:show=\"new\" xlink:title=\"psysml:5e659b03-2baa-4472-976b-b868f73bcda1\" xlink:type=\"simple\"><rect fill=\"#FFFFFF\" height=\"45.9375\" id=\"E7\" rx=\"10\" ry=\"10\" style=\"stroke: #383838; stroke-width: 1.5;\" width=\"71\" x=\"138.5\" y=\"217.5\"/><text fill=\"#000000\" font-family=\"sans-serif\" font-size=\"12\" font-style=\"italic\" lengthAdjust=\"spacingAndGlyphs\" textLength=\"69\" x=\"139.5\" y=\"233.6387\">«attribute»</text><text fill=\"#000000\" font-family=\"sans-serif\" font-size=\"12\" lengthAdjust=\"spacingAndGlyphs\" textLength=\"6\" x=\"169\" y=\"247.6074\">y</text><line style=\"stroke: #383838; stroke-width: 1.5;\" x1=\"139.5\" x2=\"208.5\" y1=\"255.4375\" y2=\"255.4375\"/></a><!--MD5=[b9389687b975829384b498ac4b7476b2]\n",
       "class E8--><a href=\"psysml:17862b5a-aa19-4a09-bb5d-84a4c59b96ac\" target=\"_top\" title=\"psysml:17862b5a-aa19-4a09-bb5d-84a4c59b96ac\" xlink:actuate=\"onRequest\" xlink:href=\"psysml:17862b5a-aa19-4a09-bb5d-84a4c59b96ac\" xlink:show=\"new\" xlink:title=\"psysml:17862b5a-aa19-4a09-bb5d-84a4c59b96ac\" xlink:type=\"simple\"><rect fill=\"#FFFFFF\" height=\"45.9375\" id=\"E8\" rx=\"10\" ry=\"10\" style=\"stroke: #383838; stroke-width: 1.5;\" width=\"71\" x=\"84.5\" y=\"87.5\"/><text fill=\"#000000\" font-family=\"sans-serif\" font-size=\"12\" font-style=\"italic\" lengthAdjust=\"spacingAndGlyphs\" textLength=\"69\" x=\"85.5\" y=\"103.6387\">«attribute»</text><text fill=\"#000000\" font-family=\"sans-serif\" font-size=\"12\" lengthAdjust=\"spacingAndGlyphs\" textLength=\"5\" x=\"115.5\" y=\"117.6074\">z</text><line style=\"stroke: #383838; stroke-width: 1.5;\" x1=\"85.5\" x2=\"154.5\" y1=\"125.4375\" y2=\"125.4375\"/></a><a href=\"psysml:c86dacee-9d76-4d53-8a53-8574653b1f4e\" target=\"_top\" title=\"psysml:c86dacee-9d76-4d53-8a53-8574653b1f4e\" xlink:actuate=\"onRequest\" xlink:href=\"psysml:c86dacee-9d76-4d53-8a53-8574653b1f4e\" xlink:show=\"new\" xlink:title=\"psysml:c86dacee-9d76-4d53-8a53-8574653b1f4e\" xlink:type=\"simple\"><polygon fill=\"#FFFFFF\" points=\"271.5,84,392.5,84,399.5,106.2969,406.5,106.2969,406.5,136.5938,271.5,136.5938,271.5,84\" style=\"stroke: #000000; stroke-width: 1.5;\"/><line style=\"stroke: #000000; stroke-width: 1.5;\" x1=\"271.5\" x2=\"399.5\" y1=\"106.2969\" y2=\"106.2969\"/><text fill=\"#000000\" font-family=\"sans-serif\" font-size=\"14\" font-weight=\"bold\" lengthAdjust=\"spacingAndGlyphs\" textLength=\"115\" x=\"275.5\" y=\"98.9951\">Application Layer</text></a><a href=\"psysml:1c23a4b2-35e2-4e8a-96b6-0c0eddc8acf9\" target=\"_top\" title=\"psysml:1c23a4b2-35e2-4e8a-96b6-0c0eddc8acf9\" xlink:actuate=\"onRequest\" xlink:href=\"psysml:1c23a4b2-35e2-4e8a-96b6-0c0eddc8acf9\" xlink:show=\"new\" xlink:title=\"psysml:1c23a4b2-35e2-4e8a-96b6-0c0eddc8acf9\" xlink:type=\"simple\"><polygon fill=\"#FFFFFF\" points=\"284,214,380,214,387,236.2969,394,236.2969,394,266.5938,284,266.5938,284,214\" style=\"stroke: #000000; stroke-width: 1.5;\"/><line style=\"stroke: #000000; stroke-width: 1.5;\" x1=\"284\" x2=\"387\" y1=\"236.2969\" y2=\"236.2969\"/><text fill=\"#000000\" font-family=\"sans-serif\" font-size=\"14\" font-weight=\"bold\" lengthAdjust=\"spacingAndGlyphs\" textLength=\"90\" x=\"288\" y=\"228.9951\">Service Layer</text></a><a href=\"psysml:a642c0ba-468c-4345-a41b-ed6906c58c2e\" target=\"_top\" title=\"psysml:a642c0ba-468c-4345-a41b-ed6906c58c2e\" xlink:actuate=\"onRequest\" xlink:href=\"psysml:a642c0ba-468c-4345-a41b-ed6906c58c2e\" xlink:show=\"new\" xlink:title=\"psysml:a642c0ba-468c-4345-a41b-ed6906c58c2e\" xlink:type=\"simple\"><polygon fill=\"#FFFFFF\" points=\"293,344,371,344,378,366.2969,385,366.2969,385,396.5938,293,396.5938,293,344\" style=\"stroke: #000000; stroke-width: 1.5;\"/><line style=\"stroke: #000000; stroke-width: 1.5;\" x1=\"293\" x2=\"378\" y1=\"366.2969\" y2=\"366.2969\"/><text fill=\"#000000\" font-family=\"sans-serif\" font-size=\"14\" font-weight=\"bold\" lengthAdjust=\"spacingAndGlyphs\" textLength=\"72\" x=\"297\" y=\"358.9951\">Data Layer</text></a><!--MD5=[af87c684e3b0d8be13c1a698a818ef1e]\n",
       "link E3 to E4--><a href=\"psysml:e08fe20c-326f-4bf4-bdb1-9df0382c82e4\" target=\"_top\" title=\"psysml:e08fe20c-326f-4bf4-bdb1-9df0382c82e4\" xlink:actuate=\"onRequest\" xlink:href=\"psysml:e08fe20c-326f-4bf4-bdb1-9df0382c82e4\" xlink:show=\"new\" xlink:title=\"psysml:e08fe20c-326f-4bf4-bdb1-9df0382c82e4\" xlink:type=\"simple\"><path d=\"M339,137.1 C339,156.8 339,184.22 339,205.73 \" fill=\"none\" id=\"E3-&gt;E4\" style=\"stroke: #383838; stroke-width: 1.0; stroke-dasharray: 7.0,7.0;\"/><polygon fill=\"#383838\" points=\"339,213.95,342,205.95,336,205.95,339,213.95\" style=\"stroke: #383838; stroke-width: 1.0;\"/><text fill=\"#000000\" font-family=\"sans-serif\" font-size=\"13\" lengthAdjust=\"spacingAndGlyphs\" textLength=\"64\" x=\"340\" y=\"180.0669\">«depend»</text></a><!--MD5=[1b7591eae5389033d8d09a9d6721a717]\n",
       "link E4 to E5--><a href=\"psysml:3bcf17b2-ef7a-4ff9-b082-cb17e1124f6a\" target=\"_top\" title=\"psysml:3bcf17b2-ef7a-4ff9-b082-cb17e1124f6a\" xlink:actuate=\"onRequest\" xlink:href=\"psysml:3bcf17b2-ef7a-4ff9-b082-cb17e1124f6a\" xlink:show=\"new\" xlink:title=\"psysml:3bcf17b2-ef7a-4ff9-b082-cb17e1124f6a\" xlink:type=\"simple\"><path d=\"M339,267.1 C339,286.8 339,314.22 339,335.73 \" fill=\"none\" id=\"E4-&gt;E5\" style=\"stroke: #383838; stroke-width: 1.0; stroke-dasharray: 7.0,7.0;\"/><polygon fill=\"#383838\" points=\"339,343.95,342,335.95,336,335.95,339,343.95\" style=\"stroke: #383838; stroke-width: 1.0;\"/><text fill=\"#000000\" font-family=\"sans-serif\" font-size=\"13\" lengthAdjust=\"spacingAndGlyphs\" textLength=\"64\" x=\"340\" y=\"310.0669\">«depend»</text></a><!--MD5=[c5e8897d989ce984f93528998a7150fe]\n",
       "link E8 to E6--><a href=\"psysml:aa53d009-eedf-4466-a7b8-b270a2d13479\" target=\"_top\" title=\"psysml:aa53d009-eedf-4466-a7b8-b270a2d13479\" xlink:actuate=\"onRequest\" xlink:href=\"psysml:aa53d009-eedf-4466-a7b8-b270a2d13479\" xlink:show=\"new\" xlink:title=\"psysml:aa53d009-eedf-4466-a7b8-b270a2d13479\" xlink:type=\"simple\"><path d=\"M89.42,133.6 C79.35,142.68 69.37,154.11 64,167 C58.5,180.2 58.66,195.94 60.54,209.38 \" fill=\"none\" id=\"E8-&gt;E6\" style=\"stroke: #383838; stroke-width: 1.0; stroke-dasharray: 7.0,7.0;\"/><polygon fill=\"#383838\" points=\"61.9,217.4,63.517,209.0104,57.6018,210.0159,61.9,217.4\" style=\"stroke: #383838; stroke-width: 1.0;\"/><text fill=\"#000000\" font-family=\"sans-serif\" font-size=\"13\" lengthAdjust=\"spacingAndGlyphs\" textLength=\"64\" x=\"65\" y=\"180.0669\">«depend»</text></a><!--MD5=[bfa3c8b0d15052fdf50ae9310b491027]\n",
       "link E8 to E7--><a href=\"psysml:aa53d009-eedf-4466-a7b8-b270a2d13479\" target=\"_top\" title=\"psysml:aa53d009-eedf-4466-a7b8-b270a2d13479\" xlink:actuate=\"onRequest\" xlink:href=\"psysml:aa53d009-eedf-4466-a7b8-b270a2d13479\" xlink:show=\"new\" xlink:title=\"psysml:aa53d009-eedf-4466-a7b8-b270a2d13479\" xlink:type=\"simple\"><path d=\"M129.28,133.5 C138.17,154.57 151.64,186.5 161.47,209.81 \" fill=\"none\" id=\"E8-&gt;E7\" style=\"stroke: #383838; stroke-width: 1.0; stroke-dasharray: 7.0,7.0;\"/><polygon fill=\"#383838\" points=\"164.66,217.35,164.3241,208.8126,158.7933,211.1385,164.66,217.35\" style=\"stroke: #383838; stroke-width: 1.0;\"/><text fill=\"#000000\" font-family=\"sans-serif\" font-size=\"13\" lengthAdjust=\"spacingAndGlyphs\" textLength=\"64\" x=\"151\" y=\"180.0669\">«depend»</text></a><!--MD5=[15d157a7a583c1b6a76fbaa202562426]\n",
       "@startuml\r\n",
       "skinparam monochrome true\r\n",
       "skinparam classbackgroundcolor white\r\n",
       "skinparam shadowing false\r\n",
       "skinparam wrapWidth 300\r\n",
       "hide circle\r\n",
       "\r\n",
       "package \"DependencyTest\" as E1  [[psysml:79533e77-94c2-4bae-8455-1b4d9ad0ac19 ]]  {\r\n",
       "package \"System\" as E2  [[psysml:aa959c9d-de71-4dee-a328-dce50e2c2738 ]]  {\r\n",
       "package \"Application Layer\" as E3  [[psysml:c86dacee-9d76-4d53-8a53-8574653b1f4e ]]  {\r\n",
       "}\r\n",
       "package \"Service Layer\" as E4  [[psysml:1c23a4b2-35e2-4e8a-96b6-0c0eddc8acf9 ]]  {\r\n",
       "}\r\n",
       "package \"Data Layer\" as E5  [[psysml:a642c0ba-468c-4345-a41b-ed6906c58c2e ]]  {\r\n",
       "}\r\n",
       "}\r\n",
       "comp usage \"x \" as E6  <<(T,blue) attribute>> [[psysml:002f54b6-1019-4822-b88b-c9a615e25b28 ]] {\r\n",
       "}\r\n",
       "comp usage \"y \" as E7  <<(T,blue) attribute>> [[psysml:5e659b03-2baa-4472-976b-b868f73bcda1 ]] {\r\n",
       "}\r\n",
       "comp usage \"z \" as E8  <<(T,blue) attribute>> [[psysml:17862b5a-aa19-4a09-bb5d-84a4c59b96ac ]] {\r\n",
       "}\r\n",
       "}\r\n",
       "E3 ..>> E4 [[psysml:e08fe20c-326f-4bf4-bdb1-9df0382c82e4 ]] : <<depend>>\r\n",
       "E4 ..>> E5 [[psysml:3bcf17b2-ef7a-4ff9-b082-cb17e1124f6a ]] : <<depend>>\r\n",
       "E8 ..>> E6 [[psysml:aa53d009-eedf-4466-a7b8-b270a2d13479 ]] : <<depend>>\r\n",
       "E8 ..>> E7 [[psysml:aa53d009-eedf-4466-a7b8-b270a2d13479 ]] : <<depend>>\r\n",
       "@enduml\r\n",
       "\n",
       "PlantUML version 1.2020.13(Sat Jun 13 12:26:38 UTC 2020)\n",
       "(EPL source distribution)\n",
       "Java Runtime: OpenJDK Runtime Environment\n",
       "JVM: OpenJDK 64-Bit Server VM\n",
       "Default Encoding: UTF-8\n",
       "Language: en\n",
       "Country: null\n",
       "--></g></svg>"
      ]
     },
     "execution_count": 37,
     "metadata": {},
     "output_type": "execute_result"
    }
   ],
   "source": [
    "%viz --style=\"DEFAULT\" --view=\"Default\" \"DependencyTest\""
   ]
  },
  {
   "cell_type": "code",
   "execution_count": 38,
   "id": "f4614112",
   "metadata": {
    "execution": {
     "iopub.execute_input": "2021-12-15T15:15:21.836705Z",
     "iopub.status.busy": "2021-12-15T15:15:21.836313Z",
     "iopub.status.idle": "2021-12-15T15:15:21.876547Z",
     "shell.execute_reply": "2021-12-15T15:15:21.876863Z"
    }
   },
   "outputs": [
    {
     "data": {
      "image/svg+xml": [
       "<?xml version=\"1.0\" encoding=\"UTF-8\" standalone=\"no\"?><svg xmlns=\"http://www.w3.org/2000/svg\" xmlns:xlink=\"http://www.w3.org/1999/xlink\" contentScriptType=\"application/ecmascript\" contentStyleType=\"text/css\" height=\"449px\" preserveAspectRatio=\"none\" style=\"width:469px;height:449px;\" version=\"1.1\" viewBox=\"0 0 469 449\" width=\"469px\" zoomAndPan=\"magnify\"><defs/><g><!--MD5=[fbc87193dbaf4d95561dea2c320d4a47]\n",
       "cluster E1--><a href=\"psysml:79533e77-94c2-4bae-8455-1b4d9ad0ac19\" target=\"_top\" title=\"psysml:79533e77-94c2-4bae-8455-1b4d9ad0ac19\" xlink:actuate=\"onRequest\" xlink:href=\"psysml:79533e77-94c2-4bae-8455-1b4d9ad0ac19\" xlink:show=\"new\" xlink:title=\"psysml:79533e77-94c2-4bae-8455-1b4d9ad0ac19\" xlink:type=\"simple\"><polygon fill=\"#FFFFFF\" points=\"16,6,142,6,149,28.2969,447,28.2969,447,437,16,437,16,6\" style=\"stroke: #000000; stroke-width: 1.5;\"/><line style=\"stroke: #000000; stroke-width: 1.5;\" x1=\"16\" x2=\"149\" y1=\"28.2969\" y2=\"28.2969\"/><text fill=\"#000000\" font-family=\"sans-serif\" font-size=\"14\" font-weight=\"bold\" lengthAdjust=\"spacingAndGlyphs\" textLength=\"120\" x=\"20\" y=\"20.9951\">DependencyTest</text></a><!--MD5=[e4f7fae6ed58524ba242bb0b0d3be6b7]\n",
       "cluster E2--><a href=\"psysml:aa959c9d-de71-4dee-a328-dce50e2c2738\" target=\"_top\" title=\"psysml:aa959c9d-de71-4dee-a328-dce50e2c2738\" xlink:actuate=\"onRequest\" xlink:href=\"psysml:aa959c9d-de71-4dee-a328-dce50e2c2738\" xlink:show=\"new\" xlink:title=\"psysml:aa959c9d-de71-4dee-a328-dce50e2c2738\" xlink:type=\"simple\"><polygon fill=\"#FFFFFF\" points=\"255,49,312,49,319,71.2969,423,71.2969,423,413,255,413,255,49\" style=\"stroke: #000000; stroke-width: 1.5;\"/><line style=\"stroke: #000000; stroke-width: 1.5;\" x1=\"255\" x2=\"319\" y1=\"71.2969\" y2=\"71.2969\"/><text fill=\"#000000\" font-family=\"sans-serif\" font-size=\"14\" font-weight=\"bold\" lengthAdjust=\"spacingAndGlyphs\" textLength=\"51\" x=\"259\" y=\"63.9951\">System</text></a><!--MD5=[60a26617385b1d2d0262a64233df1f8d]\n",
       "class E6--><a href=\"psysml:002f54b6-1019-4822-b88b-c9a615e25b28\" target=\"_top\" title=\"psysml:002f54b6-1019-4822-b88b-c9a615e25b28\" xlink:actuate=\"onRequest\" xlink:href=\"psysml:002f54b6-1019-4822-b88b-c9a615e25b28\" xlink:show=\"new\" xlink:title=\"psysml:002f54b6-1019-4822-b88b-c9a615e25b28\" xlink:type=\"simple\"><rect fill=\"#FFFFFF\" height=\"45.9375\" id=\"E6\" rx=\"10\" ry=\"10\" style=\"stroke: #383838; stroke-width: 1.5;\" width=\"71\" x=\"32.5\" y=\"217.5\"/><text fill=\"#000000\" font-family=\"sans-serif\" font-size=\"12\" font-style=\"italic\" lengthAdjust=\"spacingAndGlyphs\" textLength=\"69\" x=\"33.5\" y=\"233.6387\">«attribute»</text><text fill=\"#000000\" font-family=\"sans-serif\" font-size=\"12\" lengthAdjust=\"spacingAndGlyphs\" textLength=\"6\" x=\"63\" y=\"247.6074\">x</text><line style=\"stroke: #383838; stroke-width: 1.5;\" x1=\"33.5\" x2=\"102.5\" y1=\"255.4375\" y2=\"255.4375\"/></a><!--MD5=[2156ba9850f5573cc1fc38a6a4b2f02b]\n",
       "class E7--><a href=\"psysml:5e659b03-2baa-4472-976b-b868f73bcda1\" target=\"_top\" title=\"psysml:5e659b03-2baa-4472-976b-b868f73bcda1\" xlink:actuate=\"onRequest\" xlink:href=\"psysml:5e659b03-2baa-4472-976b-b868f73bcda1\" xlink:show=\"new\" xlink:title=\"psysml:5e659b03-2baa-4472-976b-b868f73bcda1\" xlink:type=\"simple\"><rect fill=\"#FFFFFF\" height=\"45.9375\" id=\"E7\" rx=\"10\" ry=\"10\" style=\"stroke: #383838; stroke-width: 1.5;\" width=\"71\" x=\"138.5\" y=\"217.5\"/><text fill=\"#000000\" font-family=\"sans-serif\" font-size=\"12\" font-style=\"italic\" lengthAdjust=\"spacingAndGlyphs\" textLength=\"69\" x=\"139.5\" y=\"233.6387\">«attribute»</text><text fill=\"#000000\" font-family=\"sans-serif\" font-size=\"12\" lengthAdjust=\"spacingAndGlyphs\" textLength=\"6\" x=\"169\" y=\"247.6074\">y</text><line style=\"stroke: #383838; stroke-width: 1.5;\" x1=\"139.5\" x2=\"208.5\" y1=\"255.4375\" y2=\"255.4375\"/></a><!--MD5=[b9389687b975829384b498ac4b7476b2]\n",
       "class E8--><a href=\"psysml:17862b5a-aa19-4a09-bb5d-84a4c59b96ac\" target=\"_top\" title=\"psysml:17862b5a-aa19-4a09-bb5d-84a4c59b96ac\" xlink:actuate=\"onRequest\" xlink:href=\"psysml:17862b5a-aa19-4a09-bb5d-84a4c59b96ac\" xlink:show=\"new\" xlink:title=\"psysml:17862b5a-aa19-4a09-bb5d-84a4c59b96ac\" xlink:type=\"simple\"><rect fill=\"#FFFFFF\" height=\"45.9375\" id=\"E8\" rx=\"10\" ry=\"10\" style=\"stroke: #383838; stroke-width: 1.5;\" width=\"71\" x=\"84.5\" y=\"87.5\"/><text fill=\"#000000\" font-family=\"sans-serif\" font-size=\"12\" font-style=\"italic\" lengthAdjust=\"spacingAndGlyphs\" textLength=\"69\" x=\"85.5\" y=\"103.6387\">«attribute»</text><text fill=\"#000000\" font-family=\"sans-serif\" font-size=\"12\" lengthAdjust=\"spacingAndGlyphs\" textLength=\"5\" x=\"115.5\" y=\"117.6074\">z</text><line style=\"stroke: #383838; stroke-width: 1.5;\" x1=\"85.5\" x2=\"154.5\" y1=\"125.4375\" y2=\"125.4375\"/></a><a href=\"psysml:c86dacee-9d76-4d53-8a53-8574653b1f4e\" target=\"_top\" title=\"psysml:c86dacee-9d76-4d53-8a53-8574653b1f4e\" xlink:actuate=\"onRequest\" xlink:href=\"psysml:c86dacee-9d76-4d53-8a53-8574653b1f4e\" xlink:show=\"new\" xlink:title=\"psysml:c86dacee-9d76-4d53-8a53-8574653b1f4e\" xlink:type=\"simple\"><polygon fill=\"#FFFFFF\" points=\"271.5,84,392.5,84,399.5,106.2969,406.5,106.2969,406.5,136.5938,271.5,136.5938,271.5,84\" style=\"stroke: #000000; stroke-width: 1.5;\"/><line style=\"stroke: #000000; stroke-width: 1.5;\" x1=\"271.5\" x2=\"399.5\" y1=\"106.2969\" y2=\"106.2969\"/><text fill=\"#000000\" font-family=\"sans-serif\" font-size=\"14\" font-weight=\"bold\" lengthAdjust=\"spacingAndGlyphs\" textLength=\"115\" x=\"275.5\" y=\"98.9951\">Application Layer</text></a><a href=\"psysml:1c23a4b2-35e2-4e8a-96b6-0c0eddc8acf9\" target=\"_top\" title=\"psysml:1c23a4b2-35e2-4e8a-96b6-0c0eddc8acf9\" xlink:actuate=\"onRequest\" xlink:href=\"psysml:1c23a4b2-35e2-4e8a-96b6-0c0eddc8acf9\" xlink:show=\"new\" xlink:title=\"psysml:1c23a4b2-35e2-4e8a-96b6-0c0eddc8acf9\" xlink:type=\"simple\"><polygon fill=\"#FFFFFF\" points=\"284,214,380,214,387,236.2969,394,236.2969,394,266.5938,284,266.5938,284,214\" style=\"stroke: #000000; stroke-width: 1.5;\"/><line style=\"stroke: #000000; stroke-width: 1.5;\" x1=\"284\" x2=\"387\" y1=\"236.2969\" y2=\"236.2969\"/><text fill=\"#000000\" font-family=\"sans-serif\" font-size=\"14\" font-weight=\"bold\" lengthAdjust=\"spacingAndGlyphs\" textLength=\"90\" x=\"288\" y=\"228.9951\">Service Layer</text></a><a href=\"psysml:a642c0ba-468c-4345-a41b-ed6906c58c2e\" target=\"_top\" title=\"psysml:a642c0ba-468c-4345-a41b-ed6906c58c2e\" xlink:actuate=\"onRequest\" xlink:href=\"psysml:a642c0ba-468c-4345-a41b-ed6906c58c2e\" xlink:show=\"new\" xlink:title=\"psysml:a642c0ba-468c-4345-a41b-ed6906c58c2e\" xlink:type=\"simple\"><polygon fill=\"#FFFFFF\" points=\"293,344,371,344,378,366.2969,385,366.2969,385,396.5938,293,396.5938,293,344\" style=\"stroke: #000000; stroke-width: 1.5;\"/><line style=\"stroke: #000000; stroke-width: 1.5;\" x1=\"293\" x2=\"378\" y1=\"366.2969\" y2=\"366.2969\"/><text fill=\"#000000\" font-family=\"sans-serif\" font-size=\"14\" font-weight=\"bold\" lengthAdjust=\"spacingAndGlyphs\" textLength=\"72\" x=\"297\" y=\"358.9951\">Data Layer</text></a><!--MD5=[af87c684e3b0d8be13c1a698a818ef1e]\n",
       "link E3 to E4--><a href=\"psysml:e08fe20c-326f-4bf4-bdb1-9df0382c82e4\" target=\"_top\" title=\"psysml:e08fe20c-326f-4bf4-bdb1-9df0382c82e4\" xlink:actuate=\"onRequest\" xlink:href=\"psysml:e08fe20c-326f-4bf4-bdb1-9df0382c82e4\" xlink:show=\"new\" xlink:title=\"psysml:e08fe20c-326f-4bf4-bdb1-9df0382c82e4\" xlink:type=\"simple\"><path d=\"M339,137.1 C339,156.8 339,184.22 339,205.73 \" fill=\"none\" id=\"E3-&gt;E4\" style=\"stroke: #383838; stroke-width: 1.0; stroke-dasharray: 7.0,7.0;\"/><polygon fill=\"#383838\" points=\"339,213.95,342,205.95,336,205.95,339,213.95\" style=\"stroke: #383838; stroke-width: 1.0;\"/><text fill=\"#000000\" font-family=\"sans-serif\" font-size=\"13\" lengthAdjust=\"spacingAndGlyphs\" textLength=\"64\" x=\"340\" y=\"180.0669\">«depend»</text></a><!--MD5=[1b7591eae5389033d8d09a9d6721a717]\n",
       "link E4 to E5--><a href=\"psysml:3bcf17b2-ef7a-4ff9-b082-cb17e1124f6a\" target=\"_top\" title=\"psysml:3bcf17b2-ef7a-4ff9-b082-cb17e1124f6a\" xlink:actuate=\"onRequest\" xlink:href=\"psysml:3bcf17b2-ef7a-4ff9-b082-cb17e1124f6a\" xlink:show=\"new\" xlink:title=\"psysml:3bcf17b2-ef7a-4ff9-b082-cb17e1124f6a\" xlink:type=\"simple\"><path d=\"M339,267.1 C339,286.8 339,314.22 339,335.73 \" fill=\"none\" id=\"E4-&gt;E5\" style=\"stroke: #383838; stroke-width: 1.0; stroke-dasharray: 7.0,7.0;\"/><polygon fill=\"#383838\" points=\"339,343.95,342,335.95,336,335.95,339,343.95\" style=\"stroke: #383838; stroke-width: 1.0;\"/><text fill=\"#000000\" font-family=\"sans-serif\" font-size=\"13\" lengthAdjust=\"spacingAndGlyphs\" textLength=\"64\" x=\"340\" y=\"310.0669\">«depend»</text></a><!--MD5=[c5e8897d989ce984f93528998a7150fe]\n",
       "link E8 to E6--><a href=\"psysml:aa53d009-eedf-4466-a7b8-b270a2d13479\" target=\"_top\" title=\"psysml:aa53d009-eedf-4466-a7b8-b270a2d13479\" xlink:actuate=\"onRequest\" xlink:href=\"psysml:aa53d009-eedf-4466-a7b8-b270a2d13479\" xlink:show=\"new\" xlink:title=\"psysml:aa53d009-eedf-4466-a7b8-b270a2d13479\" xlink:type=\"simple\"><path d=\"M89.42,133.6 C79.35,142.68 69.37,154.11 64,167 C58.5,180.2 58.66,195.94 60.54,209.38 \" fill=\"none\" id=\"E8-&gt;E6\" style=\"stroke: #383838; stroke-width: 1.0; stroke-dasharray: 7.0,7.0;\"/><polygon fill=\"#383838\" points=\"61.9,217.4,63.517,209.0104,57.6018,210.0159,61.9,217.4\" style=\"stroke: #383838; stroke-width: 1.0;\"/><text fill=\"#000000\" font-family=\"sans-serif\" font-size=\"13\" lengthAdjust=\"spacingAndGlyphs\" textLength=\"64\" x=\"65\" y=\"180.0669\">«depend»</text></a><!--MD5=[bfa3c8b0d15052fdf50ae9310b491027]\n",
       "link E8 to E7--><a href=\"psysml:aa53d009-eedf-4466-a7b8-b270a2d13479\" target=\"_top\" title=\"psysml:aa53d009-eedf-4466-a7b8-b270a2d13479\" xlink:actuate=\"onRequest\" xlink:href=\"psysml:aa53d009-eedf-4466-a7b8-b270a2d13479\" xlink:show=\"new\" xlink:title=\"psysml:aa53d009-eedf-4466-a7b8-b270a2d13479\" xlink:type=\"simple\"><path d=\"M129.28,133.5 C138.17,154.57 151.64,186.5 161.47,209.81 \" fill=\"none\" id=\"E8-&gt;E7\" style=\"stroke: #383838; stroke-width: 1.0; stroke-dasharray: 7.0,7.0;\"/><polygon fill=\"#383838\" points=\"164.66,217.35,164.3241,208.8126,158.7933,211.1385,164.66,217.35\" style=\"stroke: #383838; stroke-width: 1.0;\"/><text fill=\"#000000\" font-family=\"sans-serif\" font-size=\"13\" lengthAdjust=\"spacingAndGlyphs\" textLength=\"64\" x=\"151\" y=\"180.0669\">«depend»</text></a><!--MD5=[15d157a7a583c1b6a76fbaa202562426]\n",
       "@startuml\r\n",
       "skinparam monochrome true\r\n",
       "skinparam classbackgroundcolor white\r\n",
       "skinparam shadowing false\r\n",
       "skinparam wrapWidth 300\r\n",
       "hide circle\r\n",
       "\r\n",
       "package \"DependencyTest\" as E1  [[psysml:79533e77-94c2-4bae-8455-1b4d9ad0ac19 ]]  {\r\n",
       "package \"System\" as E2  [[psysml:aa959c9d-de71-4dee-a328-dce50e2c2738 ]]  {\r\n",
       "package \"Application Layer\" as E3  [[psysml:c86dacee-9d76-4d53-8a53-8574653b1f4e ]]  {\r\n",
       "}\r\n",
       "package \"Service Layer\" as E4  [[psysml:1c23a4b2-35e2-4e8a-96b6-0c0eddc8acf9 ]]  {\r\n",
       "}\r\n",
       "package \"Data Layer\" as E5  [[psysml:a642c0ba-468c-4345-a41b-ed6906c58c2e ]]  {\r\n",
       "}\r\n",
       "}\r\n",
       "comp usage \"x \" as E6  <<(T,blue) attribute>> [[psysml:002f54b6-1019-4822-b88b-c9a615e25b28 ]] {\r\n",
       "}\r\n",
       "comp usage \"y \" as E7  <<(T,blue) attribute>> [[psysml:5e659b03-2baa-4472-976b-b868f73bcda1 ]] {\r\n",
       "}\r\n",
       "comp usage \"z \" as E8  <<(T,blue) attribute>> [[psysml:17862b5a-aa19-4a09-bb5d-84a4c59b96ac ]] {\r\n",
       "}\r\n",
       "}\r\n",
       "E3 ..>> E4 [[psysml:e08fe20c-326f-4bf4-bdb1-9df0382c82e4 ]] : <<depend>>\r\n",
       "E4 ..>> E5 [[psysml:3bcf17b2-ef7a-4ff9-b082-cb17e1124f6a ]] : <<depend>>\r\n",
       "E8 ..>> E6 [[psysml:aa53d009-eedf-4466-a7b8-b270a2d13479 ]] : <<depend>>\r\n",
       "E8 ..>> E7 [[psysml:aa53d009-eedf-4466-a7b8-b270a2d13479 ]] : <<depend>>\r\n",
       "@enduml\r\n",
       "\n",
       "PlantUML version 1.2020.13(Sat Jun 13 12:26:38 UTC 2020)\n",
       "(EPL source distribution)\n",
       "Java Runtime: OpenJDK Runtime Environment\n",
       "JVM: OpenJDK 64-Bit Server VM\n",
       "Default Encoding: UTF-8\n",
       "Language: en\n",
       "Country: null\n",
       "--></g></svg>"
      ]
     },
     "execution_count": 38,
     "metadata": {},
     "output_type": "execute_result"
    }
   ],
   "source": [
    "%viz --style=\"DEFAULT\" --view=\"Tree\" \"DependencyTest\""
   ]
  },
  {
   "cell_type": "code",
   "execution_count": 39,
   "id": "c15f3a2f",
   "metadata": {
    "execution": {
     "iopub.execute_input": "2021-12-15T15:15:21.926684Z",
     "iopub.status.busy": "2021-12-15T15:15:21.926265Z",
     "iopub.status.idle": "2021-12-15T15:15:21.930351Z",
     "shell.execute_reply": "2021-12-15T15:15:21.930668Z"
    }
   },
   "outputs": [
    {
     "data": {
      "image/svg+xml": [
       "<?xml version=\"1.0\" encoding=\"UTF-8\" standalone=\"no\"?><svg xmlns=\"http://www.w3.org/2000/svg\" xmlns:xlink=\"http://www.w3.org/1999/xlink\" contentScriptType=\"application/ecmascript\" contentStyleType=\"text/css\" height=\"12px\" preserveAspectRatio=\"none\" style=\"width:12px;height:12px;\" version=\"1.1\" viewBox=\"0 0 12 12\" width=\"12px\" zoomAndPan=\"magnify\"><defs/><g><!--MD5=[c5f280e076d0d61ccf4b0f27871bda1d]\n",
       "@startuml\r\n",
       "skinparam monochrome true\r\n",
       "skinparam classbackgroundcolor white\r\n",
       "skinparam shadowing false\r\n",
       "skinparam wrapWidth 300\r\n",
       "hide circle\r\n",
       "\r\n",
       "@enduml\r\n",
       "\n",
       "PlantUML version 1.2020.13(Sat Jun 13 12:26:38 UTC 2020)\n",
       "(EPL source distribution)\n",
       "Java Runtime: OpenJDK Runtime Environment\n",
       "JVM: OpenJDK 64-Bit Server VM\n",
       "Default Encoding: UTF-8\n",
       "Language: en\n",
       "Country: null\n",
       "--></g></svg>"
      ]
     },
     "execution_count": 39,
     "metadata": {},
     "output_type": "execute_result"
    }
   ],
   "source": [
    "%viz --style=\"DEFAULT\" --view=\"State\" \"DependencyTest\""
   ]
  },
  {
   "cell_type": "code",
   "execution_count": 40,
   "id": "5e27f20f",
   "metadata": {
    "execution": {
     "iopub.execute_input": "2021-12-15T15:15:21.980370Z",
     "iopub.status.busy": "2021-12-15T15:15:21.979954Z",
     "iopub.status.idle": "2021-12-15T15:15:22.001664Z",
     "shell.execute_reply": "2021-12-15T15:15:22.001301Z"
    }
   },
   "outputs": [
    {
     "data": {
      "image/svg+xml": [
       "<?xml version=\"1.0\" encoding=\"UTF-8\" standalone=\"no\"?><svg xmlns=\"http://www.w3.org/2000/svg\" xmlns:xlink=\"http://www.w3.org/1999/xlink\" contentScriptType=\"application/ecmascript\" contentStyleType=\"text/css\" height=\"361px\" preserveAspectRatio=\"none\" style=\"width:469px;height:361px;\" version=\"1.1\" viewBox=\"0 0 469 361\" width=\"469px\" zoomAndPan=\"magnify\"><defs/><g><!--MD5=[fbc87193dbaf4d95561dea2c320d4a47]\n",
       "cluster E1--><a href=\"psysml:79533e77-94c2-4bae-8455-1b4d9ad0ac19\" target=\"_top\" title=\"psysml:79533e77-94c2-4bae-8455-1b4d9ad0ac19\" xlink:actuate=\"onRequest\" xlink:href=\"psysml:79533e77-94c2-4bae-8455-1b4d9ad0ac19\" xlink:show=\"new\" xlink:title=\"psysml:79533e77-94c2-4bae-8455-1b4d9ad0ac19\" xlink:type=\"simple\"><polygon fill=\"#FFFFFF\" points=\"16,6,142,6,149,28.2969,447,28.2969,447,349,16,349,16,6\" style=\"stroke: #000000; stroke-width: 1.5;\"/><line style=\"stroke: #000000; stroke-width: 1.5;\" x1=\"16\" x2=\"149\" y1=\"28.2969\" y2=\"28.2969\"/><text fill=\"#000000\" font-family=\"sans-serif\" font-size=\"14\" font-weight=\"bold\" lengthAdjust=\"spacingAndGlyphs\" textLength=\"120\" x=\"20\" y=\"20.9951\">DependencyTest</text></a><!--MD5=[e4f7fae6ed58524ba242bb0b0d3be6b7]\n",
       "cluster E2--><a href=\"psysml:aa959c9d-de71-4dee-a328-dce50e2c2738\" target=\"_top\" title=\"psysml:aa959c9d-de71-4dee-a328-dce50e2c2738\" xlink:actuate=\"onRequest\" xlink:href=\"psysml:aa959c9d-de71-4dee-a328-dce50e2c2738\" xlink:show=\"new\" xlink:title=\"psysml:aa959c9d-de71-4dee-a328-dce50e2c2738\" xlink:type=\"simple\"><polygon fill=\"#FFFFFF\" points=\"255,49,312,49,319,71.2969,423,71.2969,423,325,255,325,255,49\" style=\"stroke: #000000; stroke-width: 1.5;\"/><line style=\"stroke: #000000; stroke-width: 1.5;\" x1=\"255\" x2=\"319\" y1=\"71.2969\" y2=\"71.2969\"/><text fill=\"#000000\" font-family=\"sans-serif\" font-size=\"14\" font-weight=\"bold\" lengthAdjust=\"spacingAndGlyphs\" textLength=\"51\" x=\"259\" y=\"63.9951\">System</text></a><!--MD5=[60a26617385b1d2d0262a64233df1f8d]\n",
       "class E6--><a href=\"psysml:002f54b6-1019-4822-b88b-c9a615e25b28\" target=\"_top\" title=\"psysml:002f54b6-1019-4822-b88b-c9a615e25b28\" xlink:actuate=\"onRequest\" xlink:href=\"psysml:002f54b6-1019-4822-b88b-c9a615e25b28\" xlink:show=\"new\" xlink:title=\"psysml:002f54b6-1019-4822-b88b-c9a615e25b28\" xlink:type=\"simple\"><rect fill=\"#FFFFFF\" height=\"45.9375\" id=\"E6\" rx=\"10\" ry=\"10\" style=\"stroke: #383838; stroke-width: 1.5;\" width=\"71\" x=\"32.5\" y=\"173.5\"/><text fill=\"#000000\" font-family=\"sans-serif\" font-size=\"12\" font-style=\"italic\" lengthAdjust=\"spacingAndGlyphs\" textLength=\"69\" x=\"33.5\" y=\"189.6387\">«attribute»</text><text fill=\"#000000\" font-family=\"sans-serif\" font-size=\"12\" lengthAdjust=\"spacingAndGlyphs\" textLength=\"6\" x=\"63\" y=\"203.6074\">x</text><line style=\"stroke: #383838; stroke-width: 1.5;\" x1=\"33.5\" x2=\"102.5\" y1=\"211.4375\" y2=\"211.4375\"/></a><!--MD5=[2156ba9850f5573cc1fc38a6a4b2f02b]\n",
       "class E7--><a href=\"psysml:5e659b03-2baa-4472-976b-b868f73bcda1\" target=\"_top\" title=\"psysml:5e659b03-2baa-4472-976b-b868f73bcda1\" xlink:actuate=\"onRequest\" xlink:href=\"psysml:5e659b03-2baa-4472-976b-b868f73bcda1\" xlink:show=\"new\" xlink:title=\"psysml:5e659b03-2baa-4472-976b-b868f73bcda1\" xlink:type=\"simple\"><rect fill=\"#FFFFFF\" height=\"45.9375\" id=\"E7\" rx=\"10\" ry=\"10\" style=\"stroke: #383838; stroke-width: 1.5;\" width=\"71\" x=\"138.5\" y=\"173.5\"/><text fill=\"#000000\" font-family=\"sans-serif\" font-size=\"12\" font-style=\"italic\" lengthAdjust=\"spacingAndGlyphs\" textLength=\"69\" x=\"139.5\" y=\"189.6387\">«attribute»</text><text fill=\"#000000\" font-family=\"sans-serif\" font-size=\"12\" lengthAdjust=\"spacingAndGlyphs\" textLength=\"6\" x=\"169\" y=\"203.6074\">y</text><line style=\"stroke: #383838; stroke-width: 1.5;\" x1=\"139.5\" x2=\"208.5\" y1=\"211.4375\" y2=\"211.4375\"/></a><!--MD5=[b9389687b975829384b498ac4b7476b2]\n",
       "class E8--><a href=\"psysml:17862b5a-aa19-4a09-bb5d-84a4c59b96ac\" target=\"_top\" title=\"psysml:17862b5a-aa19-4a09-bb5d-84a4c59b96ac\" xlink:actuate=\"onRequest\" xlink:href=\"psysml:17862b5a-aa19-4a09-bb5d-84a4c59b96ac\" xlink:show=\"new\" xlink:title=\"psysml:17862b5a-aa19-4a09-bb5d-84a4c59b96ac\" xlink:type=\"simple\"><rect fill=\"#FFFFFF\" height=\"45.9375\" id=\"E8\" rx=\"10\" ry=\"10\" style=\"stroke: #383838; stroke-width: 1.5;\" width=\"71\" x=\"84.5\" y=\"87.5\"/><text fill=\"#000000\" font-family=\"sans-serif\" font-size=\"12\" font-style=\"italic\" lengthAdjust=\"spacingAndGlyphs\" textLength=\"69\" x=\"85.5\" y=\"103.6387\">«attribute»</text><text fill=\"#000000\" font-family=\"sans-serif\" font-size=\"12\" lengthAdjust=\"spacingAndGlyphs\" textLength=\"5\" x=\"115.5\" y=\"117.6074\">z</text><line style=\"stroke: #383838; stroke-width: 1.5;\" x1=\"85.5\" x2=\"154.5\" y1=\"125.4375\" y2=\"125.4375\"/></a><a href=\"psysml:c86dacee-9d76-4d53-8a53-8574653b1f4e\" target=\"_top\" title=\"psysml:c86dacee-9d76-4d53-8a53-8574653b1f4e\" xlink:actuate=\"onRequest\" xlink:href=\"psysml:c86dacee-9d76-4d53-8a53-8574653b1f4e\" xlink:show=\"new\" xlink:title=\"psysml:c86dacee-9d76-4d53-8a53-8574653b1f4e\" xlink:type=\"simple\"><polygon fill=\"#FFFFFF\" points=\"271.5,84,392.5,84,399.5,106.2969,406.5,106.2969,406.5,136.5938,271.5,136.5938,271.5,84\" style=\"stroke: #000000; stroke-width: 1.5;\"/><line style=\"stroke: #000000; stroke-width: 1.5;\" x1=\"271.5\" x2=\"399.5\" y1=\"106.2969\" y2=\"106.2969\"/><text fill=\"#000000\" font-family=\"sans-serif\" font-size=\"14\" font-weight=\"bold\" lengthAdjust=\"spacingAndGlyphs\" textLength=\"115\" x=\"275.5\" y=\"98.9951\">Application Layer</text></a><a href=\"psysml:1c23a4b2-35e2-4e8a-96b6-0c0eddc8acf9\" target=\"_top\" title=\"psysml:1c23a4b2-35e2-4e8a-96b6-0c0eddc8acf9\" xlink:actuate=\"onRequest\" xlink:href=\"psysml:1c23a4b2-35e2-4e8a-96b6-0c0eddc8acf9\" xlink:show=\"new\" xlink:title=\"psysml:1c23a4b2-35e2-4e8a-96b6-0c0eddc8acf9\" xlink:type=\"simple\"><polygon fill=\"#FFFFFF\" points=\"284,170,380,170,387,192.2969,394,192.2969,394,222.5938,284,222.5938,284,170\" style=\"stroke: #000000; stroke-width: 1.5;\"/><line style=\"stroke: #000000; stroke-width: 1.5;\" x1=\"284\" x2=\"387\" y1=\"192.2969\" y2=\"192.2969\"/><text fill=\"#000000\" font-family=\"sans-serif\" font-size=\"14\" font-weight=\"bold\" lengthAdjust=\"spacingAndGlyphs\" textLength=\"90\" x=\"288\" y=\"184.9951\">Service Layer</text></a><a href=\"psysml:a642c0ba-468c-4345-a41b-ed6906c58c2e\" target=\"_top\" title=\"psysml:a642c0ba-468c-4345-a41b-ed6906c58c2e\" xlink:actuate=\"onRequest\" xlink:href=\"psysml:a642c0ba-468c-4345-a41b-ed6906c58c2e\" xlink:show=\"new\" xlink:title=\"psysml:a642c0ba-468c-4345-a41b-ed6906c58c2e\" xlink:type=\"simple\"><polygon fill=\"#FFFFFF\" points=\"293,256,371,256,378,278.2969,385,278.2969,385,308.5938,293,308.5938,293,256\" style=\"stroke: #000000; stroke-width: 1.5;\"/><line style=\"stroke: #000000; stroke-width: 1.5;\" x1=\"293\" x2=\"378\" y1=\"278.2969\" y2=\"278.2969\"/><text fill=\"#000000\" font-family=\"sans-serif\" font-size=\"14\" font-weight=\"bold\" lengthAdjust=\"spacingAndGlyphs\" textLength=\"72\" x=\"297\" y=\"270.9951\">Data Layer</text></a><!--MD5=[af87c684e3b0d8be13c1a698a818ef1e]\n",
       "link E3 to E4--><a href=\"psysml:e08fe20c-326f-4bf4-bdb1-9df0382c82e4\" target=\"_top\" title=\"psysml:e08fe20c-326f-4bf4-bdb1-9df0382c82e4\" xlink:actuate=\"onRequest\" xlink:href=\"psysml:e08fe20c-326f-4bf4-bdb1-9df0382c82e4\" xlink:show=\"new\" xlink:title=\"psysml:e08fe20c-326f-4bf4-bdb1-9df0382c82e4\" xlink:type=\"simple\"><path d=\"M339,137.16 C339,144.98 339,153.69 339,161.94 \" fill=\"none\" id=\"E3-&gt;E4\" style=\"stroke: #383838; stroke-width: 1.0; stroke-dasharray: 7.0,7.0;\"/><polygon fill=\"#383838\" points=\"339,170,342,162,336,162,339,170\" style=\"stroke: #383838; stroke-width: 1.0;\"/><text fill=\"#000000\" font-family=\"sans-serif\" font-size=\"13\" lengthAdjust=\"spacingAndGlyphs\" textLength=\"64\" x=\"340\" y=\"158.0669\">«depend»</text></a><!--MD5=[1b7591eae5389033d8d09a9d6721a717]\n",
       "link E4 to E5--><a href=\"psysml:3bcf17b2-ef7a-4ff9-b082-cb17e1124f6a\" target=\"_top\" title=\"psysml:3bcf17b2-ef7a-4ff9-b082-cb17e1124f6a\" xlink:actuate=\"onRequest\" xlink:href=\"psysml:3bcf17b2-ef7a-4ff9-b082-cb17e1124f6a\" xlink:show=\"new\" xlink:title=\"psysml:3bcf17b2-ef7a-4ff9-b082-cb17e1124f6a\" xlink:type=\"simple\"><path d=\"M339,223.16 C339,230.98 339,239.69 339,247.94 \" fill=\"none\" id=\"E4-&gt;E5\" style=\"stroke: #383838; stroke-width: 1.0; stroke-dasharray: 7.0,7.0;\"/><polygon fill=\"#383838\" points=\"339,256,342,248,336,248,339,256\" style=\"stroke: #383838; stroke-width: 1.0;\"/><text fill=\"#000000\" font-family=\"sans-serif\" font-size=\"13\" lengthAdjust=\"spacingAndGlyphs\" textLength=\"64\" x=\"340\" y=\"244.0669\">«depend»</text></a><!--MD5=[c5e8897d989ce984f93528998a7150fe]\n",
       "link E8 to E6--><a href=\"psysml:aa53d009-eedf-4466-a7b8-b270a2d13479\" target=\"_top\" title=\"psysml:aa53d009-eedf-4466-a7b8-b270a2d13479\" xlink:actuate=\"onRequest\" xlink:href=\"psysml:aa53d009-eedf-4466-a7b8-b270a2d13479\" xlink:show=\"new\" xlink:title=\"psysml:aa53d009-eedf-4466-a7b8-b270a2d13479\" xlink:type=\"simple\"><path d=\"M84.49,125.34 C76.34,130.27 68.69,136.72 64,145 C60.54,151.1 59.62,158.31 60,165.33 \" fill=\"none\" id=\"E8-&gt;E6\" style=\"stroke: #383838; stroke-width: 1.0; stroke-dasharray: 7.0,7.0;\"/><polygon fill=\"#383838\" points=\"60.97,173.42,63.0061,165.1221,57.0479,165.8294,60.97,173.42\" style=\"stroke: #383838; stroke-width: 1.0;\"/><text fill=\"#000000\" font-family=\"sans-serif\" font-size=\"13\" lengthAdjust=\"spacingAndGlyphs\" textLength=\"64\" x=\"65\" y=\"158.0669\">«depend»</text></a><!--MD5=[bfa3c8b0d15052fdf50ae9310b491027]\n",
       "link E8 to E7--><a href=\"psysml:aa53d009-eedf-4466-a7b8-b270a2d13479\" target=\"_top\" title=\"psysml:aa53d009-eedf-4466-a7b8-b270a2d13479\" xlink:actuate=\"onRequest\" xlink:href=\"psysml:aa53d009-eedf-4466-a7b8-b270a2d13479\" xlink:show=\"new\" xlink:title=\"psysml:aa53d009-eedf-4466-a7b8-b270a2d13479\" xlink:type=\"simple\"><path d=\"M134.19,133.57 C140.65,143.62 148.38,155.65 155.31,166.42 \" fill=\"none\" id=\"E8-&gt;E7\" style=\"stroke: #383838; stroke-width: 1.0; stroke-dasharray: 7.0,7.0;\"/><polygon fill=\"#383838\" points=\"159.72,173.29,157.9148,164.9389,152.8688,168.185,159.72,173.29\" style=\"stroke: #383838; stroke-width: 1.0;\"/><text fill=\"#000000\" font-family=\"sans-serif\" font-size=\"13\" lengthAdjust=\"spacingAndGlyphs\" textLength=\"64\" x=\"152\" y=\"158.0669\">«depend»</text></a><!--MD5=[f9e23101c138849813a5bb42d07022d4]\n",
       "@startuml\r\n",
       "skinparam ranksep 10\r\n",
       "skinparam rectangle {\r\n",
       " backgroundColor<<block>> LightGreen\r\n",
       "}\r\n",
       "skinparam monochrome true\r\n",
       "skinparam classbackgroundcolor white\r\n",
       "skinparam shadowing false\r\n",
       "skinparam wrapWidth 300\r\n",
       "hide circle\r\n",
       "\r\n",
       "package \"DependencyTest\" as E1  [[psysml:79533e77-94c2-4bae-8455-1b4d9ad0ac19 ]]  {\r\n",
       "package \"System\" as E2  [[psysml:aa959c9d-de71-4dee-a328-dce50e2c2738 ]]  {\r\n",
       "package \"Application Layer\" as E3  [[psysml:c86dacee-9d76-4d53-8a53-8574653b1f4e ]]  {\r\n",
       "}\r\n",
       "package \"Service Layer\" as E4  [[psysml:1c23a4b2-35e2-4e8a-96b6-0c0eddc8acf9 ]]  {\r\n",
       "}\r\n",
       "package \"Data Layer\" as E5  [[psysml:a642c0ba-468c-4345-a41b-ed6906c58c2e ]]  {\r\n",
       "}\r\n",
       "}\r\n",
       "comp usage \"x \" as E6  <<(T,blue) attribute>> [[psysml:002f54b6-1019-4822-b88b-c9a615e25b28 ]] {\r\n",
       "}\r\n",
       "comp usage \"y \" as E7  <<(T,blue) attribute>> [[psysml:5e659b03-2baa-4472-976b-b868f73bcda1 ]] {\r\n",
       "}\r\n",
       "comp usage \"z \" as E8  <<(T,blue) attribute>> [[psysml:17862b5a-aa19-4a09-bb5d-84a4c59b96ac ]] {\r\n",
       "}\r\n",
       "}\r\n",
       "E3 ..>> E4 [[psysml:e08fe20c-326f-4bf4-bdb1-9df0382c82e4 ]] : <<depend>>\r\n",
       "E4 ..>> E5 [[psysml:3bcf17b2-ef7a-4ff9-b082-cb17e1124f6a ]] : <<depend>>\r\n",
       "E8 ..>> E6 [[psysml:aa53d009-eedf-4466-a7b8-b270a2d13479 ]] : <<depend>>\r\n",
       "E8 ..>> E7 [[psysml:aa53d009-eedf-4466-a7b8-b270a2d13479 ]] : <<depend>>\r\n",
       "@enduml\r\n",
       "\n",
       "PlantUML version 1.2020.13(Sat Jun 13 12:26:38 UTC 2020)\n",
       "(EPL source distribution)\n",
       "Java Runtime: OpenJDK Runtime Environment\n",
       "JVM: OpenJDK 64-Bit Server VM\n",
       "Default Encoding: UTF-8\n",
       "Language: en\n",
       "Country: null\n",
       "--></g></svg>"
      ]
     },
     "execution_count": 40,
     "metadata": {},
     "output_type": "execute_result"
    }
   ],
   "source": [
    "%viz --style=\"DEFAULT\" --view=\"Interconnection\" \"DependencyTest\""
   ]
  },
  {
   "cell_type": "code",
   "execution_count": 41,
   "id": "36569f26",
   "metadata": {
    "execution": {
     "iopub.execute_input": "2021-12-15T15:15:22.051139Z",
     "iopub.status.busy": "2021-12-15T15:15:22.050709Z",
     "iopub.status.idle": "2021-12-15T15:15:22.055164Z",
     "shell.execute_reply": "2021-12-15T15:15:22.054821Z"
    }
   },
   "outputs": [
    {
     "data": {
      "image/svg+xml": [
       "<?xml version=\"1.0\" encoding=\"UTF-8\" standalone=\"no\"?><svg xmlns=\"http://www.w3.org/2000/svg\" xmlns:xlink=\"http://www.w3.org/1999/xlink\" contentScriptType=\"application/ecmascript\" contentStyleType=\"text/css\" height=\"12px\" preserveAspectRatio=\"none\" style=\"width:12px;height:12px;\" version=\"1.1\" viewBox=\"0 0 12 12\" width=\"12px\" zoomAndPan=\"magnify\"><defs/><g><!--MD5=[388f21188e31bfdd97050473b19af356]\n",
       "@startuml\r\n",
       "skinparam ranksep 8\r\n",
       "skinparam monochrome true\r\n",
       "skinparam classbackgroundcolor white\r\n",
       "skinparam shadowing false\r\n",
       "skinparam wrapWidth 300\r\n",
       "hide circle\r\n",
       "\r\n",
       "@enduml\r\n",
       "\n",
       "PlantUML version 1.2020.13(Sat Jun 13 12:26:38 UTC 2020)\n",
       "(EPL source distribution)\n",
       "Java Runtime: OpenJDK Runtime Environment\n",
       "JVM: OpenJDK 64-Bit Server VM\n",
       "Default Encoding: UTF-8\n",
       "Language: en\n",
       "Country: null\n",
       "--></g></svg>"
      ]
     },
     "execution_count": 41,
     "metadata": {},
     "output_type": "execute_result"
    }
   ],
   "source": [
    "%viz --style=\"DEFAULT\" --view=\"Action\" \"DependencyTest\""
   ]
  },
  {
   "cell_type": "code",
   "execution_count": 42,
   "id": "730cb36d",
   "metadata": {
    "execution": {
     "iopub.execute_input": "2021-12-15T15:15:22.105030Z",
     "iopub.status.busy": "2021-12-15T15:15:22.104604Z",
     "iopub.status.idle": "2021-12-15T15:15:22.109694Z",
     "shell.execute_reply": "2021-12-15T15:15:22.109350Z"
    }
   },
   "outputs": [
    {
     "data": {
      "image/svg+xml": [
       "<?xml version=\"1.0\" encoding=\"UTF-8\" standalone=\"no\"?><svg xmlns=\"http://www.w3.org/2000/svg\" xmlns:xlink=\"http://www.w3.org/1999/xlink\" contentScriptType=\"application/ecmascript\" contentStyleType=\"text/css\" height=\"12px\" preserveAspectRatio=\"none\" style=\"width:12px;height:12px;\" version=\"1.1\" viewBox=\"0 0 12 12\" width=\"12px\" zoomAndPan=\"magnify\"><defs/><g><!--MD5=[0b72472770326784bf6c2b53246e1e64]\n",
       "@startuml\r\n",
       "skinparam roundcorner 20\r\n",
       "skinparam BoxPadding 20\r\n",
       "skinparam SequenceBoxBackgroundColor #white\r\n",
       "skinparam style strictuml\r\n",
       "skinparam maxMessageSize 100\r\n",
       "skinparam monochrome true\r\n",
       "skinparam classbackgroundcolor white\r\n",
       "skinparam shadowing false\r\n",
       "skinparam wrapWidth 300\r\n",
       "hide circle\r\n",
       "\r\n",
       "@enduml\r\n",
       "\n",
       "PlantUML version 1.2020.13(Sat Jun 13 12:26:38 UTC 2020)\n",
       "(EPL source distribution)\n",
       "Java Runtime: OpenJDK Runtime Environment\n",
       "JVM: OpenJDK 64-Bit Server VM\n",
       "Default Encoding: UTF-8\n",
       "Language: en\n",
       "Country: null\n",
       "--></g></svg>"
      ]
     },
     "execution_count": 42,
     "metadata": {},
     "output_type": "execute_result"
    }
   ],
   "source": [
    "%viz --style=\"DEFAULT\" --view=\"Sequence\" \"DependencyTest\""
   ]
  },
  {
   "cell_type": "code",
   "execution_count": 43,
   "id": "4ca84614",
   "metadata": {
    "execution": {
     "iopub.execute_input": "2021-12-15T15:15:22.159048Z",
     "iopub.status.busy": "2021-12-15T15:15:22.158653Z",
     "iopub.status.idle": "2021-12-15T15:15:22.187193Z",
     "shell.execute_reply": "2021-12-15T15:15:22.186849Z"
    }
   },
   "outputs": [
    {
     "data": {
      "image/svg+xml": [
       "<?xml version=\"1.0\" encoding=\"UTF-8\" standalone=\"no\"?><svg xmlns=\"http://www.w3.org/2000/svg\" xmlns:xlink=\"http://www.w3.org/1999/xlink\" contentScriptType=\"application/ecmascript\" contentStyleType=\"text/css\" height=\"449px\" preserveAspectRatio=\"none\" style=\"width:469px;height:449px;\" version=\"1.1\" viewBox=\"0 0 469 449\" width=\"469px\" zoomAndPan=\"magnify\"><defs/><g><!--MD5=[fbc87193dbaf4d95561dea2c320d4a47]\n",
       "cluster E1--><a href=\"psysml:79533e77-94c2-4bae-8455-1b4d9ad0ac19\" target=\"_top\" title=\"psysml:79533e77-94c2-4bae-8455-1b4d9ad0ac19\" xlink:actuate=\"onRequest\" xlink:href=\"psysml:79533e77-94c2-4bae-8455-1b4d9ad0ac19\" xlink:show=\"new\" xlink:title=\"psysml:79533e77-94c2-4bae-8455-1b4d9ad0ac19\" xlink:type=\"simple\"><polygon fill=\"#FFFFFF\" points=\"16,6,142,6,149,28.2969,447,28.2969,447,437,16,437,16,6\" style=\"stroke: #000000; stroke-width: 1.5;\"/><line style=\"stroke: #000000; stroke-width: 1.5;\" x1=\"16\" x2=\"149\" y1=\"28.2969\" y2=\"28.2969\"/><text fill=\"#000000\" font-family=\"sans-serif\" font-size=\"14\" font-weight=\"bold\" lengthAdjust=\"spacingAndGlyphs\" textLength=\"120\" x=\"20\" y=\"20.9951\">DependencyTest</text></a><!--MD5=[e4f7fae6ed58524ba242bb0b0d3be6b7]\n",
       "cluster E2--><a href=\"psysml:aa959c9d-de71-4dee-a328-dce50e2c2738\" target=\"_top\" title=\"psysml:aa959c9d-de71-4dee-a328-dce50e2c2738\" xlink:actuate=\"onRequest\" xlink:href=\"psysml:aa959c9d-de71-4dee-a328-dce50e2c2738\" xlink:show=\"new\" xlink:title=\"psysml:aa959c9d-de71-4dee-a328-dce50e2c2738\" xlink:type=\"simple\"><polygon fill=\"#FFFFFF\" points=\"255,49,312,49,319,71.2969,423,71.2969,423,413,255,413,255,49\" style=\"stroke: #000000; stroke-width: 1.5;\"/><line style=\"stroke: #000000; stroke-width: 1.5;\" x1=\"255\" x2=\"319\" y1=\"71.2969\" y2=\"71.2969\"/><text fill=\"#000000\" font-family=\"sans-serif\" font-size=\"14\" font-weight=\"bold\" lengthAdjust=\"spacingAndGlyphs\" textLength=\"51\" x=\"259\" y=\"63.9951\">System</text></a><!--MD5=[60a26617385b1d2d0262a64233df1f8d]\n",
       "class E6--><a href=\"psysml:002f54b6-1019-4822-b88b-c9a615e25b28\" target=\"_top\" title=\"psysml:002f54b6-1019-4822-b88b-c9a615e25b28\" xlink:actuate=\"onRequest\" xlink:href=\"psysml:002f54b6-1019-4822-b88b-c9a615e25b28\" xlink:show=\"new\" xlink:title=\"psysml:002f54b6-1019-4822-b88b-c9a615e25b28\" xlink:type=\"simple\"><rect fill=\"#FFFFFF\" height=\"45.9375\" id=\"E6\" rx=\"10\" ry=\"10\" style=\"stroke: #383838; stroke-width: 1.5;\" width=\"71\" x=\"32.5\" y=\"217.5\"/><text fill=\"#000000\" font-family=\"sans-serif\" font-size=\"12\" font-style=\"italic\" lengthAdjust=\"spacingAndGlyphs\" textLength=\"69\" x=\"33.5\" y=\"233.6387\">«attribute»</text><text fill=\"#000000\" font-family=\"sans-serif\" font-size=\"12\" lengthAdjust=\"spacingAndGlyphs\" textLength=\"6\" x=\"63\" y=\"247.6074\">x</text><line style=\"stroke: #383838; stroke-width: 1.5;\" x1=\"33.5\" x2=\"102.5\" y1=\"255.4375\" y2=\"255.4375\"/></a><!--MD5=[2156ba9850f5573cc1fc38a6a4b2f02b]\n",
       "class E7--><a href=\"psysml:5e659b03-2baa-4472-976b-b868f73bcda1\" target=\"_top\" title=\"psysml:5e659b03-2baa-4472-976b-b868f73bcda1\" xlink:actuate=\"onRequest\" xlink:href=\"psysml:5e659b03-2baa-4472-976b-b868f73bcda1\" xlink:show=\"new\" xlink:title=\"psysml:5e659b03-2baa-4472-976b-b868f73bcda1\" xlink:type=\"simple\"><rect fill=\"#FFFFFF\" height=\"45.9375\" id=\"E7\" rx=\"10\" ry=\"10\" style=\"stroke: #383838; stroke-width: 1.5;\" width=\"71\" x=\"138.5\" y=\"217.5\"/><text fill=\"#000000\" font-family=\"sans-serif\" font-size=\"12\" font-style=\"italic\" lengthAdjust=\"spacingAndGlyphs\" textLength=\"69\" x=\"139.5\" y=\"233.6387\">«attribute»</text><text fill=\"#000000\" font-family=\"sans-serif\" font-size=\"12\" lengthAdjust=\"spacingAndGlyphs\" textLength=\"6\" x=\"169\" y=\"247.6074\">y</text><line style=\"stroke: #383838; stroke-width: 1.5;\" x1=\"139.5\" x2=\"208.5\" y1=\"255.4375\" y2=\"255.4375\"/></a><!--MD5=[b9389687b975829384b498ac4b7476b2]\n",
       "class E8--><a href=\"psysml:17862b5a-aa19-4a09-bb5d-84a4c59b96ac\" target=\"_top\" title=\"psysml:17862b5a-aa19-4a09-bb5d-84a4c59b96ac\" xlink:actuate=\"onRequest\" xlink:href=\"psysml:17862b5a-aa19-4a09-bb5d-84a4c59b96ac\" xlink:show=\"new\" xlink:title=\"psysml:17862b5a-aa19-4a09-bb5d-84a4c59b96ac\" xlink:type=\"simple\"><rect fill=\"#FFFFFF\" height=\"45.9375\" id=\"E8\" rx=\"10\" ry=\"10\" style=\"stroke: #383838; stroke-width: 1.5;\" width=\"71\" x=\"84.5\" y=\"87.5\"/><text fill=\"#000000\" font-family=\"sans-serif\" font-size=\"12\" font-style=\"italic\" lengthAdjust=\"spacingAndGlyphs\" textLength=\"69\" x=\"85.5\" y=\"103.6387\">«attribute»</text><text fill=\"#000000\" font-family=\"sans-serif\" font-size=\"12\" lengthAdjust=\"spacingAndGlyphs\" textLength=\"5\" x=\"115.5\" y=\"117.6074\">z</text><line style=\"stroke: #383838; stroke-width: 1.5;\" x1=\"85.5\" x2=\"154.5\" y1=\"125.4375\" y2=\"125.4375\"/></a><a href=\"psysml:c86dacee-9d76-4d53-8a53-8574653b1f4e\" target=\"_top\" title=\"psysml:c86dacee-9d76-4d53-8a53-8574653b1f4e\" xlink:actuate=\"onRequest\" xlink:href=\"psysml:c86dacee-9d76-4d53-8a53-8574653b1f4e\" xlink:show=\"new\" xlink:title=\"psysml:c86dacee-9d76-4d53-8a53-8574653b1f4e\" xlink:type=\"simple\"><polygon fill=\"#FFFFFF\" points=\"271.5,84,392.5,84,399.5,106.2969,406.5,106.2969,406.5,136.5938,271.5,136.5938,271.5,84\" style=\"stroke: #000000; stroke-width: 1.5;\"/><line style=\"stroke: #000000; stroke-width: 1.5;\" x1=\"271.5\" x2=\"399.5\" y1=\"106.2969\" y2=\"106.2969\"/><text fill=\"#000000\" font-family=\"sans-serif\" font-size=\"14\" font-weight=\"bold\" lengthAdjust=\"spacingAndGlyphs\" textLength=\"115\" x=\"275.5\" y=\"98.9951\">Application Layer</text></a><a href=\"psysml:1c23a4b2-35e2-4e8a-96b6-0c0eddc8acf9\" target=\"_top\" title=\"psysml:1c23a4b2-35e2-4e8a-96b6-0c0eddc8acf9\" xlink:actuate=\"onRequest\" xlink:href=\"psysml:1c23a4b2-35e2-4e8a-96b6-0c0eddc8acf9\" xlink:show=\"new\" xlink:title=\"psysml:1c23a4b2-35e2-4e8a-96b6-0c0eddc8acf9\" xlink:type=\"simple\"><polygon fill=\"#FFFFFF\" points=\"284,214,380,214,387,236.2969,394,236.2969,394,266.5938,284,266.5938,284,214\" style=\"stroke: #000000; stroke-width: 1.5;\"/><line style=\"stroke: #000000; stroke-width: 1.5;\" x1=\"284\" x2=\"387\" y1=\"236.2969\" y2=\"236.2969\"/><text fill=\"#000000\" font-family=\"sans-serif\" font-size=\"14\" font-weight=\"bold\" lengthAdjust=\"spacingAndGlyphs\" textLength=\"90\" x=\"288\" y=\"228.9951\">Service Layer</text></a><a href=\"psysml:a642c0ba-468c-4345-a41b-ed6906c58c2e\" target=\"_top\" title=\"psysml:a642c0ba-468c-4345-a41b-ed6906c58c2e\" xlink:actuate=\"onRequest\" xlink:href=\"psysml:a642c0ba-468c-4345-a41b-ed6906c58c2e\" xlink:show=\"new\" xlink:title=\"psysml:a642c0ba-468c-4345-a41b-ed6906c58c2e\" xlink:type=\"simple\"><polygon fill=\"#FFFFFF\" points=\"293,344,371,344,378,366.2969,385,366.2969,385,396.5938,293,396.5938,293,344\" style=\"stroke: #000000; stroke-width: 1.5;\"/><line style=\"stroke: #000000; stroke-width: 1.5;\" x1=\"293\" x2=\"378\" y1=\"366.2969\" y2=\"366.2969\"/><text fill=\"#000000\" font-family=\"sans-serif\" font-size=\"14\" font-weight=\"bold\" lengthAdjust=\"spacingAndGlyphs\" textLength=\"72\" x=\"297\" y=\"358.9951\">Data Layer</text></a><!--MD5=[af87c684e3b0d8be13c1a698a818ef1e]\n",
       "link E3 to E4--><a href=\"psysml:e08fe20c-326f-4bf4-bdb1-9df0382c82e4\" target=\"_top\" title=\"psysml:e08fe20c-326f-4bf4-bdb1-9df0382c82e4\" xlink:actuate=\"onRequest\" xlink:href=\"psysml:e08fe20c-326f-4bf4-bdb1-9df0382c82e4\" xlink:show=\"new\" xlink:title=\"psysml:e08fe20c-326f-4bf4-bdb1-9df0382c82e4\" xlink:type=\"simple\"><path d=\"M339,137.1 C339,156.8 339,184.22 339,205.73 \" fill=\"none\" id=\"E3-&gt;E4\" style=\"stroke: #383838; stroke-width: 1.0; stroke-dasharray: 7.0,7.0;\"/><polygon fill=\"#383838\" points=\"339,213.95,342,205.95,336,205.95,339,213.95\" style=\"stroke: #383838; stroke-width: 1.0;\"/><text fill=\"#000000\" font-family=\"sans-serif\" font-size=\"13\" lengthAdjust=\"spacingAndGlyphs\" textLength=\"64\" x=\"340\" y=\"180.0669\">«depend»</text></a><!--MD5=[1b7591eae5389033d8d09a9d6721a717]\n",
       "link E4 to E5--><a href=\"psysml:3bcf17b2-ef7a-4ff9-b082-cb17e1124f6a\" target=\"_top\" title=\"psysml:3bcf17b2-ef7a-4ff9-b082-cb17e1124f6a\" xlink:actuate=\"onRequest\" xlink:href=\"psysml:3bcf17b2-ef7a-4ff9-b082-cb17e1124f6a\" xlink:show=\"new\" xlink:title=\"psysml:3bcf17b2-ef7a-4ff9-b082-cb17e1124f6a\" xlink:type=\"simple\"><path d=\"M339,267.1 C339,286.8 339,314.22 339,335.73 \" fill=\"none\" id=\"E4-&gt;E5\" style=\"stroke: #383838; stroke-width: 1.0; stroke-dasharray: 7.0,7.0;\"/><polygon fill=\"#383838\" points=\"339,343.95,342,335.95,336,335.95,339,343.95\" style=\"stroke: #383838; stroke-width: 1.0;\"/><text fill=\"#000000\" font-family=\"sans-serif\" font-size=\"13\" lengthAdjust=\"spacingAndGlyphs\" textLength=\"64\" x=\"340\" y=\"310.0669\">«depend»</text></a><!--MD5=[c5e8897d989ce984f93528998a7150fe]\n",
       "link E8 to E6--><a href=\"psysml:aa53d009-eedf-4466-a7b8-b270a2d13479\" target=\"_top\" title=\"psysml:aa53d009-eedf-4466-a7b8-b270a2d13479\" xlink:actuate=\"onRequest\" xlink:href=\"psysml:aa53d009-eedf-4466-a7b8-b270a2d13479\" xlink:show=\"new\" xlink:title=\"psysml:aa53d009-eedf-4466-a7b8-b270a2d13479\" xlink:type=\"simple\"><path d=\"M89.42,133.6 C79.35,142.68 69.37,154.11 64,167 C58.5,180.2 58.66,195.94 60.54,209.38 \" fill=\"none\" id=\"E8-&gt;E6\" style=\"stroke: #383838; stroke-width: 1.0; stroke-dasharray: 7.0,7.0;\"/><polygon fill=\"#383838\" points=\"61.9,217.4,63.517,209.0104,57.6018,210.0159,61.9,217.4\" style=\"stroke: #383838; stroke-width: 1.0;\"/><text fill=\"#000000\" font-family=\"sans-serif\" font-size=\"13\" lengthAdjust=\"spacingAndGlyphs\" textLength=\"64\" x=\"65\" y=\"180.0669\">«depend»</text></a><!--MD5=[bfa3c8b0d15052fdf50ae9310b491027]\n",
       "link E8 to E7--><a href=\"psysml:aa53d009-eedf-4466-a7b8-b270a2d13479\" target=\"_top\" title=\"psysml:aa53d009-eedf-4466-a7b8-b270a2d13479\" xlink:actuate=\"onRequest\" xlink:href=\"psysml:aa53d009-eedf-4466-a7b8-b270a2d13479\" xlink:show=\"new\" xlink:title=\"psysml:aa53d009-eedf-4466-a7b8-b270a2d13479\" xlink:type=\"simple\"><path d=\"M129.28,133.5 C138.17,154.57 151.64,186.5 161.47,209.81 \" fill=\"none\" id=\"E8-&gt;E7\" style=\"stroke: #383838; stroke-width: 1.0; stroke-dasharray: 7.0,7.0;\"/><polygon fill=\"#383838\" points=\"164.66,217.35,164.3241,208.8126,158.7933,211.1385,164.66,217.35\" style=\"stroke: #383838; stroke-width: 1.0;\"/><text fill=\"#000000\" font-family=\"sans-serif\" font-size=\"13\" lengthAdjust=\"spacingAndGlyphs\" textLength=\"64\" x=\"151\" y=\"180.0669\">«depend»</text></a><!--MD5=[15d157a7a583c1b6a76fbaa202562426]\n",
       "@startuml\r\n",
       "skinparam monochrome true\r\n",
       "skinparam classbackgroundcolor white\r\n",
       "skinparam shadowing false\r\n",
       "skinparam wrapWidth 300\r\n",
       "hide circle\r\n",
       "\r\n",
       "package \"DependencyTest\" as E1  [[psysml:79533e77-94c2-4bae-8455-1b4d9ad0ac19 ]]  {\r\n",
       "package \"System\" as E2  [[psysml:aa959c9d-de71-4dee-a328-dce50e2c2738 ]]  {\r\n",
       "package \"Application Layer\" as E3  [[psysml:c86dacee-9d76-4d53-8a53-8574653b1f4e ]]  {\r\n",
       "}\r\n",
       "package \"Service Layer\" as E4  [[psysml:1c23a4b2-35e2-4e8a-96b6-0c0eddc8acf9 ]]  {\r\n",
       "}\r\n",
       "package \"Data Layer\" as E5  [[psysml:a642c0ba-468c-4345-a41b-ed6906c58c2e ]]  {\r\n",
       "}\r\n",
       "}\r\n",
       "comp usage \"x \" as E6  <<(T,blue) attribute>> [[psysml:002f54b6-1019-4822-b88b-c9a615e25b28 ]] {\r\n",
       "}\r\n",
       "comp usage \"y \" as E7  <<(T,blue) attribute>> [[psysml:5e659b03-2baa-4472-976b-b868f73bcda1 ]] {\r\n",
       "}\r\n",
       "comp usage \"z \" as E8  <<(T,blue) attribute>> [[psysml:17862b5a-aa19-4a09-bb5d-84a4c59b96ac ]] {\r\n",
       "}\r\n",
       "}\r\n",
       "E3 ..>> E4 [[psysml:e08fe20c-326f-4bf4-bdb1-9df0382c82e4 ]] : <<depend>>\r\n",
       "E4 ..>> E5 [[psysml:3bcf17b2-ef7a-4ff9-b082-cb17e1124f6a ]] : <<depend>>\r\n",
       "E8 ..>> E6 [[psysml:aa53d009-eedf-4466-a7b8-b270a2d13479 ]] : <<depend>>\r\n",
       "E8 ..>> E7 [[psysml:aa53d009-eedf-4466-a7b8-b270a2d13479 ]] : <<depend>>\r\n",
       "@enduml\r\n",
       "\n",
       "PlantUML version 1.2020.13(Sat Jun 13 12:26:38 UTC 2020)\n",
       "(EPL source distribution)\n",
       "Java Runtime: OpenJDK Runtime Environment\n",
       "JVM: OpenJDK 64-Bit Server VM\n",
       "Default Encoding: UTF-8\n",
       "Language: en\n",
       "Country: null\n",
       "--></g></svg>"
      ]
     },
     "execution_count": 43,
     "metadata": {},
     "output_type": "execute_result"
    }
   ],
   "source": [
    "%viz --style=\"DEFAULT\" --view=\"MIXED\" \"DependencyTest\""
   ]
  },
  {
   "cell_type": "code",
   "execution_count": 44,
   "id": "019ec41c",
   "metadata": {
    "execution": {
     "iopub.execute_input": "2021-12-15T15:15:22.236531Z",
     "iopub.status.busy": "2021-12-15T15:15:22.236138Z",
     "iopub.status.idle": "2021-12-15T15:15:22.267965Z",
     "shell.execute_reply": "2021-12-15T15:15:22.267618Z"
    }
   },
   "outputs": [
    {
     "data": {
      "image/svg+xml": [
       "<?xml version=\"1.0\" encoding=\"UTF-8\" standalone=\"no\"?><svg xmlns=\"http://www.w3.org/2000/svg\" xmlns:xlink=\"http://www.w3.org/1999/xlink\" contentScriptType=\"application/ecmascript\" contentStyleType=\"text/css\" height=\"449px\" preserveAspectRatio=\"none\" style=\"width:469px;height:449px;\" version=\"1.1\" viewBox=\"0 0 469 449\" width=\"469px\" zoomAndPan=\"magnify\"><defs/><g><!--MD5=[fbc87193dbaf4d95561dea2c320d4a47]\n",
       "cluster E1--><a href=\"psysml:79533e77-94c2-4bae-8455-1b4d9ad0ac19\" target=\"_top\" title=\"psysml:79533e77-94c2-4bae-8455-1b4d9ad0ac19\" xlink:actuate=\"onRequest\" xlink:href=\"psysml:79533e77-94c2-4bae-8455-1b4d9ad0ac19\" xlink:show=\"new\" xlink:title=\"psysml:79533e77-94c2-4bae-8455-1b4d9ad0ac19\" xlink:type=\"simple\"><polygon fill=\"#FFFFFF\" points=\"16,6,142,6,149,28.2969,447,28.2969,447,437,16,437,16,6\" style=\"stroke: #000000; stroke-width: 1.5;\"/><line style=\"stroke: #000000; stroke-width: 1.5;\" x1=\"16\" x2=\"149\" y1=\"28.2969\" y2=\"28.2969\"/><text fill=\"#000000\" font-family=\"sans-serif\" font-size=\"14\" font-weight=\"bold\" lengthAdjust=\"spacingAndGlyphs\" textLength=\"120\" x=\"20\" y=\"20.9951\">DependencyTest</text></a><!--MD5=[e4f7fae6ed58524ba242bb0b0d3be6b7]\n",
       "cluster E2--><a href=\"psysml:aa959c9d-de71-4dee-a328-dce50e2c2738\" target=\"_top\" title=\"psysml:aa959c9d-de71-4dee-a328-dce50e2c2738\" xlink:actuate=\"onRequest\" xlink:href=\"psysml:aa959c9d-de71-4dee-a328-dce50e2c2738\" xlink:show=\"new\" xlink:title=\"psysml:aa959c9d-de71-4dee-a328-dce50e2c2738\" xlink:type=\"simple\"><polygon fill=\"#FFFFFF\" points=\"255,49,312,49,319,71.2969,423,71.2969,423,413,255,413,255,49\" style=\"stroke: #000000; stroke-width: 1.5;\"/><line style=\"stroke: #000000; stroke-width: 1.5;\" x1=\"255\" x2=\"319\" y1=\"71.2969\" y2=\"71.2969\"/><text fill=\"#000000\" font-family=\"sans-serif\" font-size=\"14\" font-weight=\"bold\" lengthAdjust=\"spacingAndGlyphs\" textLength=\"51\" x=\"259\" y=\"63.9951\">System</text></a><!--MD5=[60a26617385b1d2d0262a64233df1f8d]\n",
       "class E6--><a href=\"psysml:002f54b6-1019-4822-b88b-c9a615e25b28\" target=\"_top\" title=\"psysml:002f54b6-1019-4822-b88b-c9a615e25b28\" xlink:actuate=\"onRequest\" xlink:href=\"psysml:002f54b6-1019-4822-b88b-c9a615e25b28\" xlink:show=\"new\" xlink:title=\"psysml:002f54b6-1019-4822-b88b-c9a615e25b28\" xlink:type=\"simple\"><rect fill=\"#FFFFFF\" height=\"45.9375\" id=\"E6\" rx=\"10\" ry=\"10\" style=\"stroke: #383838; stroke-width: 1.5;\" width=\"71\" x=\"32.5\" y=\"217.5\"/><text fill=\"#000000\" font-family=\"sans-serif\" font-size=\"12\" font-style=\"italic\" lengthAdjust=\"spacingAndGlyphs\" textLength=\"69\" x=\"33.5\" y=\"233.6387\">«attribute»</text><text fill=\"#000000\" font-family=\"sans-serif\" font-size=\"12\" lengthAdjust=\"spacingAndGlyphs\" textLength=\"6\" x=\"63\" y=\"247.6074\">x</text><line style=\"stroke: #383838; stroke-width: 1.5;\" x1=\"33.5\" x2=\"102.5\" y1=\"255.4375\" y2=\"255.4375\"/></a><!--MD5=[2156ba9850f5573cc1fc38a6a4b2f02b]\n",
       "class E7--><a href=\"psysml:5e659b03-2baa-4472-976b-b868f73bcda1\" target=\"_top\" title=\"psysml:5e659b03-2baa-4472-976b-b868f73bcda1\" xlink:actuate=\"onRequest\" xlink:href=\"psysml:5e659b03-2baa-4472-976b-b868f73bcda1\" xlink:show=\"new\" xlink:title=\"psysml:5e659b03-2baa-4472-976b-b868f73bcda1\" xlink:type=\"simple\"><rect fill=\"#FFFFFF\" height=\"45.9375\" id=\"E7\" rx=\"10\" ry=\"10\" style=\"stroke: #383838; stroke-width: 1.5;\" width=\"71\" x=\"138.5\" y=\"217.5\"/><text fill=\"#000000\" font-family=\"sans-serif\" font-size=\"12\" font-style=\"italic\" lengthAdjust=\"spacingAndGlyphs\" textLength=\"69\" x=\"139.5\" y=\"233.6387\">«attribute»</text><text fill=\"#000000\" font-family=\"sans-serif\" font-size=\"12\" lengthAdjust=\"spacingAndGlyphs\" textLength=\"6\" x=\"169\" y=\"247.6074\">y</text><line style=\"stroke: #383838; stroke-width: 1.5;\" x1=\"139.5\" x2=\"208.5\" y1=\"255.4375\" y2=\"255.4375\"/></a><!--MD5=[b9389687b975829384b498ac4b7476b2]\n",
       "class E8--><a href=\"psysml:17862b5a-aa19-4a09-bb5d-84a4c59b96ac\" target=\"_top\" title=\"psysml:17862b5a-aa19-4a09-bb5d-84a4c59b96ac\" xlink:actuate=\"onRequest\" xlink:href=\"psysml:17862b5a-aa19-4a09-bb5d-84a4c59b96ac\" xlink:show=\"new\" xlink:title=\"psysml:17862b5a-aa19-4a09-bb5d-84a4c59b96ac\" xlink:type=\"simple\"><rect fill=\"#FFFFFF\" height=\"45.9375\" id=\"E8\" rx=\"10\" ry=\"10\" style=\"stroke: #383838; stroke-width: 1.5;\" width=\"71\" x=\"84.5\" y=\"87.5\"/><text fill=\"#000000\" font-family=\"sans-serif\" font-size=\"12\" font-style=\"italic\" lengthAdjust=\"spacingAndGlyphs\" textLength=\"69\" x=\"85.5\" y=\"103.6387\">«attribute»</text><text fill=\"#000000\" font-family=\"sans-serif\" font-size=\"12\" lengthAdjust=\"spacingAndGlyphs\" textLength=\"5\" x=\"115.5\" y=\"117.6074\">z</text><line style=\"stroke: #383838; stroke-width: 1.5;\" x1=\"85.5\" x2=\"154.5\" y1=\"125.4375\" y2=\"125.4375\"/></a><a href=\"psysml:c86dacee-9d76-4d53-8a53-8574653b1f4e\" target=\"_top\" title=\"psysml:c86dacee-9d76-4d53-8a53-8574653b1f4e\" xlink:actuate=\"onRequest\" xlink:href=\"psysml:c86dacee-9d76-4d53-8a53-8574653b1f4e\" xlink:show=\"new\" xlink:title=\"psysml:c86dacee-9d76-4d53-8a53-8574653b1f4e\" xlink:type=\"simple\"><polygon fill=\"#FFFFFF\" points=\"271.5,84,392.5,84,399.5,106.2969,406.5,106.2969,406.5,136.5938,271.5,136.5938,271.5,84\" style=\"stroke: #000000; stroke-width: 1.5;\"/><line style=\"stroke: #000000; stroke-width: 1.5;\" x1=\"271.5\" x2=\"399.5\" y1=\"106.2969\" y2=\"106.2969\"/><text fill=\"#000000\" font-family=\"sans-serif\" font-size=\"14\" font-weight=\"bold\" lengthAdjust=\"spacingAndGlyphs\" textLength=\"115\" x=\"275.5\" y=\"98.9951\">Application Layer</text></a><a href=\"psysml:1c23a4b2-35e2-4e8a-96b6-0c0eddc8acf9\" target=\"_top\" title=\"psysml:1c23a4b2-35e2-4e8a-96b6-0c0eddc8acf9\" xlink:actuate=\"onRequest\" xlink:href=\"psysml:1c23a4b2-35e2-4e8a-96b6-0c0eddc8acf9\" xlink:show=\"new\" xlink:title=\"psysml:1c23a4b2-35e2-4e8a-96b6-0c0eddc8acf9\" xlink:type=\"simple\"><polygon fill=\"#FFFFFF\" points=\"284,214,380,214,387,236.2969,394,236.2969,394,266.5938,284,266.5938,284,214\" style=\"stroke: #000000; stroke-width: 1.5;\"/><line style=\"stroke: #000000; stroke-width: 1.5;\" x1=\"284\" x2=\"387\" y1=\"236.2969\" y2=\"236.2969\"/><text fill=\"#000000\" font-family=\"sans-serif\" font-size=\"14\" font-weight=\"bold\" lengthAdjust=\"spacingAndGlyphs\" textLength=\"90\" x=\"288\" y=\"228.9951\">Service Layer</text></a><a href=\"psysml:a642c0ba-468c-4345-a41b-ed6906c58c2e\" target=\"_top\" title=\"psysml:a642c0ba-468c-4345-a41b-ed6906c58c2e\" xlink:actuate=\"onRequest\" xlink:href=\"psysml:a642c0ba-468c-4345-a41b-ed6906c58c2e\" xlink:show=\"new\" xlink:title=\"psysml:a642c0ba-468c-4345-a41b-ed6906c58c2e\" xlink:type=\"simple\"><polygon fill=\"#FFFFFF\" points=\"293,344,371,344,378,366.2969,385,366.2969,385,396.5938,293,396.5938,293,344\" style=\"stroke: #000000; stroke-width: 1.5;\"/><line style=\"stroke: #000000; stroke-width: 1.5;\" x1=\"293\" x2=\"378\" y1=\"366.2969\" y2=\"366.2969\"/><text fill=\"#000000\" font-family=\"sans-serif\" font-size=\"14\" font-weight=\"bold\" lengthAdjust=\"spacingAndGlyphs\" textLength=\"72\" x=\"297\" y=\"358.9951\">Data Layer</text></a><!--MD5=[af87c684e3b0d8be13c1a698a818ef1e]\n",
       "link E3 to E4--><a href=\"psysml:e08fe20c-326f-4bf4-bdb1-9df0382c82e4\" target=\"_top\" title=\"psysml:e08fe20c-326f-4bf4-bdb1-9df0382c82e4\" xlink:actuate=\"onRequest\" xlink:href=\"psysml:e08fe20c-326f-4bf4-bdb1-9df0382c82e4\" xlink:show=\"new\" xlink:title=\"psysml:e08fe20c-326f-4bf4-bdb1-9df0382c82e4\" xlink:type=\"simple\"><path d=\"M339,137.1 C339,156.8 339,184.22 339,205.73 \" fill=\"none\" id=\"E3-&gt;E4\" style=\"stroke: #383838; stroke-width: 1.0; stroke-dasharray: 7.0,7.0;\"/><polygon fill=\"#383838\" points=\"339,213.95,342,205.95,336,205.95,339,213.95\" style=\"stroke: #383838; stroke-width: 1.0;\"/><text fill=\"#000000\" font-family=\"sans-serif\" font-size=\"13\" lengthAdjust=\"spacingAndGlyphs\" textLength=\"64\" x=\"340\" y=\"180.0669\">«depend»</text></a><!--MD5=[1b7591eae5389033d8d09a9d6721a717]\n",
       "link E4 to E5--><a href=\"psysml:3bcf17b2-ef7a-4ff9-b082-cb17e1124f6a\" target=\"_top\" title=\"psysml:3bcf17b2-ef7a-4ff9-b082-cb17e1124f6a\" xlink:actuate=\"onRequest\" xlink:href=\"psysml:3bcf17b2-ef7a-4ff9-b082-cb17e1124f6a\" xlink:show=\"new\" xlink:title=\"psysml:3bcf17b2-ef7a-4ff9-b082-cb17e1124f6a\" xlink:type=\"simple\"><path d=\"M339,267.1 C339,286.8 339,314.22 339,335.73 \" fill=\"none\" id=\"E4-&gt;E5\" style=\"stroke: #383838; stroke-width: 1.0; stroke-dasharray: 7.0,7.0;\"/><polygon fill=\"#383838\" points=\"339,343.95,342,335.95,336,335.95,339,343.95\" style=\"stroke: #383838; stroke-width: 1.0;\"/><text fill=\"#000000\" font-family=\"sans-serif\" font-size=\"13\" lengthAdjust=\"spacingAndGlyphs\" textLength=\"64\" x=\"340\" y=\"310.0669\">«depend»</text></a><!--MD5=[c5e8897d989ce984f93528998a7150fe]\n",
       "link E8 to E6--><a href=\"psysml:aa53d009-eedf-4466-a7b8-b270a2d13479\" target=\"_top\" title=\"psysml:aa53d009-eedf-4466-a7b8-b270a2d13479\" xlink:actuate=\"onRequest\" xlink:href=\"psysml:aa53d009-eedf-4466-a7b8-b270a2d13479\" xlink:show=\"new\" xlink:title=\"psysml:aa53d009-eedf-4466-a7b8-b270a2d13479\" xlink:type=\"simple\"><path d=\"M89.42,133.6 C79.35,142.68 69.37,154.11 64,167 C58.5,180.2 58.66,195.94 60.54,209.38 \" fill=\"none\" id=\"E8-&gt;E6\" style=\"stroke: #383838; stroke-width: 1.0; stroke-dasharray: 7.0,7.0;\"/><polygon fill=\"#383838\" points=\"61.9,217.4,63.517,209.0104,57.6018,210.0159,61.9,217.4\" style=\"stroke: #383838; stroke-width: 1.0;\"/><text fill=\"#000000\" font-family=\"sans-serif\" font-size=\"13\" lengthAdjust=\"spacingAndGlyphs\" textLength=\"64\" x=\"65\" y=\"180.0669\">«depend»</text></a><!--MD5=[bfa3c8b0d15052fdf50ae9310b491027]\n",
       "link E8 to E7--><a href=\"psysml:aa53d009-eedf-4466-a7b8-b270a2d13479\" target=\"_top\" title=\"psysml:aa53d009-eedf-4466-a7b8-b270a2d13479\" xlink:actuate=\"onRequest\" xlink:href=\"psysml:aa53d009-eedf-4466-a7b8-b270a2d13479\" xlink:show=\"new\" xlink:title=\"psysml:aa53d009-eedf-4466-a7b8-b270a2d13479\" xlink:type=\"simple\"><path d=\"M129.28,133.5 C138.17,154.57 151.64,186.5 161.47,209.81 \" fill=\"none\" id=\"E8-&gt;E7\" style=\"stroke: #383838; stroke-width: 1.0; stroke-dasharray: 7.0,7.0;\"/><polygon fill=\"#383838\" points=\"164.66,217.35,164.3241,208.8126,158.7933,211.1385,164.66,217.35\" style=\"stroke: #383838; stroke-width: 1.0;\"/><text fill=\"#000000\" font-family=\"sans-serif\" font-size=\"13\" lengthAdjust=\"spacingAndGlyphs\" textLength=\"64\" x=\"151\" y=\"180.0669\">«depend»</text></a><!--MD5=[973489bd7a54f002fa70b620a4887471]\n",
       "@startuml\r\n",
       "top to bottom direction\r\n",
       "skinparam monochrome true\r\n",
       "skinparam classbackgroundcolor white\r\n",
       "skinparam shadowing false\r\n",
       "skinparam wrapWidth 300\r\n",
       "hide circle\r\n",
       "\r\n",
       "package \"DependencyTest\" as E1  [[psysml:79533e77-94c2-4bae-8455-1b4d9ad0ac19 ]]  {\r\n",
       "package \"System\" as E2  [[psysml:aa959c9d-de71-4dee-a328-dce50e2c2738 ]]  {\r\n",
       "package \"Application Layer\" as E3  [[psysml:c86dacee-9d76-4d53-8a53-8574653b1f4e ]]  {\r\n",
       "}\r\n",
       "package \"Service Layer\" as E4  [[psysml:1c23a4b2-35e2-4e8a-96b6-0c0eddc8acf9 ]]  {\r\n",
       "}\r\n",
       "package \"Data Layer\" as E5  [[psysml:a642c0ba-468c-4345-a41b-ed6906c58c2e ]]  {\r\n",
       "}\r\n",
       "}\r\n",
       "comp usage \"x \" as E6  <<(T,blue) attribute>> [[psysml:002f54b6-1019-4822-b88b-c9a615e25b28 ]] {\r\n",
       "}\r\n",
       "comp usage \"y \" as E7  <<(T,blue) attribute>> [[psysml:5e659b03-2baa-4472-976b-b868f73bcda1 ]] {\r\n",
       "}\r\n",
       "comp usage \"z \" as E8  <<(T,blue) attribute>> [[psysml:17862b5a-aa19-4a09-bb5d-84a4c59b96ac ]] {\r\n",
       "}\r\n",
       "}\r\n",
       "E3 ..>> E4 [[psysml:e08fe20c-326f-4bf4-bdb1-9df0382c82e4 ]] : <<depend>>\r\n",
       "E4 ..>> E5 [[psysml:3bcf17b2-ef7a-4ff9-b082-cb17e1124f6a ]] : <<depend>>\r\n",
       "E8 ..>> E6 [[psysml:aa53d009-eedf-4466-a7b8-b270a2d13479 ]] : <<depend>>\r\n",
       "E8 ..>> E7 [[psysml:aa53d009-eedf-4466-a7b8-b270a2d13479 ]] : <<depend>>\r\n",
       "@enduml\r\n",
       "\n",
       "PlantUML version 1.2020.13(Sat Jun 13 12:26:38 UTC 2020)\n",
       "(EPL source distribution)\n",
       "Java Runtime: OpenJDK Runtime Environment\n",
       "JVM: OpenJDK 64-Bit Server VM\n",
       "Default Encoding: UTF-8\n",
       "Language: en\n",
       "Country: null\n",
       "--></g></svg>"
      ]
     },
     "execution_count": 44,
     "metadata": {},
     "output_type": "execute_result"
    }
   ],
   "source": [
    "%viz --style=\"TB\" --view=\"Default\" \"DependencyTest\""
   ]
  },
  {
   "cell_type": "code",
   "execution_count": 45,
   "id": "5d315d4b",
   "metadata": {
    "execution": {
     "iopub.execute_input": "2021-12-15T15:15:22.317295Z",
     "iopub.status.busy": "2021-12-15T15:15:22.316902Z",
     "iopub.status.idle": "2021-12-15T15:15:22.349486Z",
     "shell.execute_reply": "2021-12-15T15:15:22.349138Z"
    }
   },
   "outputs": [
    {
     "data": {
      "image/svg+xml": [
       "<?xml version=\"1.0\" encoding=\"UTF-8\" standalone=\"no\"?><svg xmlns=\"http://www.w3.org/2000/svg\" xmlns:xlink=\"http://www.w3.org/1999/xlink\" contentScriptType=\"application/ecmascript\" contentStyleType=\"text/css\" height=\"449px\" preserveAspectRatio=\"none\" style=\"width:469px;height:449px;\" version=\"1.1\" viewBox=\"0 0 469 449\" width=\"469px\" zoomAndPan=\"magnify\"><defs/><g><!--MD5=[fbc87193dbaf4d95561dea2c320d4a47]\n",
       "cluster E1--><a href=\"psysml:79533e77-94c2-4bae-8455-1b4d9ad0ac19\" target=\"_top\" title=\"psysml:79533e77-94c2-4bae-8455-1b4d9ad0ac19\" xlink:actuate=\"onRequest\" xlink:href=\"psysml:79533e77-94c2-4bae-8455-1b4d9ad0ac19\" xlink:show=\"new\" xlink:title=\"psysml:79533e77-94c2-4bae-8455-1b4d9ad0ac19\" xlink:type=\"simple\"><polygon fill=\"#FFFFFF\" points=\"16,6,142,6,149,28.2969,447,28.2969,447,437,16,437,16,6\" style=\"stroke: #000000; stroke-width: 1.5;\"/><line style=\"stroke: #000000; stroke-width: 1.5;\" x1=\"16\" x2=\"149\" y1=\"28.2969\" y2=\"28.2969\"/><text fill=\"#000000\" font-family=\"sans-serif\" font-size=\"14\" font-weight=\"bold\" lengthAdjust=\"spacingAndGlyphs\" textLength=\"120\" x=\"20\" y=\"20.9951\">DependencyTest</text></a><!--MD5=[e4f7fae6ed58524ba242bb0b0d3be6b7]\n",
       "cluster E2--><a href=\"psysml:aa959c9d-de71-4dee-a328-dce50e2c2738\" target=\"_top\" title=\"psysml:aa959c9d-de71-4dee-a328-dce50e2c2738\" xlink:actuate=\"onRequest\" xlink:href=\"psysml:aa959c9d-de71-4dee-a328-dce50e2c2738\" xlink:show=\"new\" xlink:title=\"psysml:aa959c9d-de71-4dee-a328-dce50e2c2738\" xlink:type=\"simple\"><polygon fill=\"#FFFFFF\" points=\"255,49,312,49,319,71.2969,423,71.2969,423,413,255,413,255,49\" style=\"stroke: #000000; stroke-width: 1.5;\"/><line style=\"stroke: #000000; stroke-width: 1.5;\" x1=\"255\" x2=\"319\" y1=\"71.2969\" y2=\"71.2969\"/><text fill=\"#000000\" font-family=\"sans-serif\" font-size=\"14\" font-weight=\"bold\" lengthAdjust=\"spacingAndGlyphs\" textLength=\"51\" x=\"259\" y=\"63.9951\">System</text></a><!--MD5=[60a26617385b1d2d0262a64233df1f8d]\n",
       "class E6--><a href=\"psysml:002f54b6-1019-4822-b88b-c9a615e25b28\" target=\"_top\" title=\"psysml:002f54b6-1019-4822-b88b-c9a615e25b28\" xlink:actuate=\"onRequest\" xlink:href=\"psysml:002f54b6-1019-4822-b88b-c9a615e25b28\" xlink:show=\"new\" xlink:title=\"psysml:002f54b6-1019-4822-b88b-c9a615e25b28\" xlink:type=\"simple\"><rect fill=\"#FFFFFF\" height=\"45.9375\" id=\"E6\" rx=\"10\" ry=\"10\" style=\"stroke: #383838; stroke-width: 1.5;\" width=\"71\" x=\"32.5\" y=\"217.5\"/><text fill=\"#000000\" font-family=\"sans-serif\" font-size=\"12\" font-style=\"italic\" lengthAdjust=\"spacingAndGlyphs\" textLength=\"69\" x=\"33.5\" y=\"233.6387\">«attribute»</text><text fill=\"#000000\" font-family=\"sans-serif\" font-size=\"12\" lengthAdjust=\"spacingAndGlyphs\" textLength=\"6\" x=\"63\" y=\"247.6074\">x</text><line style=\"stroke: #383838; stroke-width: 1.5;\" x1=\"33.5\" x2=\"102.5\" y1=\"255.4375\" y2=\"255.4375\"/></a><!--MD5=[2156ba9850f5573cc1fc38a6a4b2f02b]\n",
       "class E7--><a href=\"psysml:5e659b03-2baa-4472-976b-b868f73bcda1\" target=\"_top\" title=\"psysml:5e659b03-2baa-4472-976b-b868f73bcda1\" xlink:actuate=\"onRequest\" xlink:href=\"psysml:5e659b03-2baa-4472-976b-b868f73bcda1\" xlink:show=\"new\" xlink:title=\"psysml:5e659b03-2baa-4472-976b-b868f73bcda1\" xlink:type=\"simple\"><rect fill=\"#FFFFFF\" height=\"45.9375\" id=\"E7\" rx=\"10\" ry=\"10\" style=\"stroke: #383838; stroke-width: 1.5;\" width=\"71\" x=\"138.5\" y=\"217.5\"/><text fill=\"#000000\" font-family=\"sans-serif\" font-size=\"12\" font-style=\"italic\" lengthAdjust=\"spacingAndGlyphs\" textLength=\"69\" x=\"139.5\" y=\"233.6387\">«attribute»</text><text fill=\"#000000\" font-family=\"sans-serif\" font-size=\"12\" lengthAdjust=\"spacingAndGlyphs\" textLength=\"6\" x=\"169\" y=\"247.6074\">y</text><line style=\"stroke: #383838; stroke-width: 1.5;\" x1=\"139.5\" x2=\"208.5\" y1=\"255.4375\" y2=\"255.4375\"/></a><!--MD5=[b9389687b975829384b498ac4b7476b2]\n",
       "class E8--><a href=\"psysml:17862b5a-aa19-4a09-bb5d-84a4c59b96ac\" target=\"_top\" title=\"psysml:17862b5a-aa19-4a09-bb5d-84a4c59b96ac\" xlink:actuate=\"onRequest\" xlink:href=\"psysml:17862b5a-aa19-4a09-bb5d-84a4c59b96ac\" xlink:show=\"new\" xlink:title=\"psysml:17862b5a-aa19-4a09-bb5d-84a4c59b96ac\" xlink:type=\"simple\"><rect fill=\"#FFFFFF\" height=\"45.9375\" id=\"E8\" rx=\"10\" ry=\"10\" style=\"stroke: #383838; stroke-width: 1.5;\" width=\"71\" x=\"84.5\" y=\"87.5\"/><text fill=\"#000000\" font-family=\"sans-serif\" font-size=\"12\" font-style=\"italic\" lengthAdjust=\"spacingAndGlyphs\" textLength=\"69\" x=\"85.5\" y=\"103.6387\">«attribute»</text><text fill=\"#000000\" font-family=\"sans-serif\" font-size=\"12\" lengthAdjust=\"spacingAndGlyphs\" textLength=\"5\" x=\"115.5\" y=\"117.6074\">z</text><line style=\"stroke: #383838; stroke-width: 1.5;\" x1=\"85.5\" x2=\"154.5\" y1=\"125.4375\" y2=\"125.4375\"/></a><a href=\"psysml:c86dacee-9d76-4d53-8a53-8574653b1f4e\" target=\"_top\" title=\"psysml:c86dacee-9d76-4d53-8a53-8574653b1f4e\" xlink:actuate=\"onRequest\" xlink:href=\"psysml:c86dacee-9d76-4d53-8a53-8574653b1f4e\" xlink:show=\"new\" xlink:title=\"psysml:c86dacee-9d76-4d53-8a53-8574653b1f4e\" xlink:type=\"simple\"><polygon fill=\"#FFFFFF\" points=\"271.5,84,392.5,84,399.5,106.2969,406.5,106.2969,406.5,136.5938,271.5,136.5938,271.5,84\" style=\"stroke: #000000; stroke-width: 1.5;\"/><line style=\"stroke: #000000; stroke-width: 1.5;\" x1=\"271.5\" x2=\"399.5\" y1=\"106.2969\" y2=\"106.2969\"/><text fill=\"#000000\" font-family=\"sans-serif\" font-size=\"14\" font-weight=\"bold\" lengthAdjust=\"spacingAndGlyphs\" textLength=\"115\" x=\"275.5\" y=\"98.9951\">Application Layer</text></a><a href=\"psysml:1c23a4b2-35e2-4e8a-96b6-0c0eddc8acf9\" target=\"_top\" title=\"psysml:1c23a4b2-35e2-4e8a-96b6-0c0eddc8acf9\" xlink:actuate=\"onRequest\" xlink:href=\"psysml:1c23a4b2-35e2-4e8a-96b6-0c0eddc8acf9\" xlink:show=\"new\" xlink:title=\"psysml:1c23a4b2-35e2-4e8a-96b6-0c0eddc8acf9\" xlink:type=\"simple\"><polygon fill=\"#FFFFFF\" points=\"284,214,380,214,387,236.2969,394,236.2969,394,266.5938,284,266.5938,284,214\" style=\"stroke: #000000; stroke-width: 1.5;\"/><line style=\"stroke: #000000; stroke-width: 1.5;\" x1=\"284\" x2=\"387\" y1=\"236.2969\" y2=\"236.2969\"/><text fill=\"#000000\" font-family=\"sans-serif\" font-size=\"14\" font-weight=\"bold\" lengthAdjust=\"spacingAndGlyphs\" textLength=\"90\" x=\"288\" y=\"228.9951\">Service Layer</text></a><a href=\"psysml:a642c0ba-468c-4345-a41b-ed6906c58c2e\" target=\"_top\" title=\"psysml:a642c0ba-468c-4345-a41b-ed6906c58c2e\" xlink:actuate=\"onRequest\" xlink:href=\"psysml:a642c0ba-468c-4345-a41b-ed6906c58c2e\" xlink:show=\"new\" xlink:title=\"psysml:a642c0ba-468c-4345-a41b-ed6906c58c2e\" xlink:type=\"simple\"><polygon fill=\"#FFFFFF\" points=\"293,344,371,344,378,366.2969,385,366.2969,385,396.5938,293,396.5938,293,344\" style=\"stroke: #000000; stroke-width: 1.5;\"/><line style=\"stroke: #000000; stroke-width: 1.5;\" x1=\"293\" x2=\"378\" y1=\"366.2969\" y2=\"366.2969\"/><text fill=\"#000000\" font-family=\"sans-serif\" font-size=\"14\" font-weight=\"bold\" lengthAdjust=\"spacingAndGlyphs\" textLength=\"72\" x=\"297\" y=\"358.9951\">Data Layer</text></a><!--MD5=[af87c684e3b0d8be13c1a698a818ef1e]\n",
       "link E3 to E4--><a href=\"psysml:e08fe20c-326f-4bf4-bdb1-9df0382c82e4\" target=\"_top\" title=\"psysml:e08fe20c-326f-4bf4-bdb1-9df0382c82e4\" xlink:actuate=\"onRequest\" xlink:href=\"psysml:e08fe20c-326f-4bf4-bdb1-9df0382c82e4\" xlink:show=\"new\" xlink:title=\"psysml:e08fe20c-326f-4bf4-bdb1-9df0382c82e4\" xlink:type=\"simple\"><path d=\"M339,137.1 C339,156.8 339,184.22 339,205.73 \" fill=\"none\" id=\"E3-&gt;E4\" style=\"stroke: #383838; stroke-width: 1.0; stroke-dasharray: 7.0,7.0;\"/><polygon fill=\"#383838\" points=\"339,213.95,342,205.95,336,205.95,339,213.95\" style=\"stroke: #383838; stroke-width: 1.0;\"/><text fill=\"#000000\" font-family=\"sans-serif\" font-size=\"13\" lengthAdjust=\"spacingAndGlyphs\" textLength=\"64\" x=\"340\" y=\"180.0669\">«depend»</text></a><!--MD5=[1b7591eae5389033d8d09a9d6721a717]\n",
       "link E4 to E5--><a href=\"psysml:3bcf17b2-ef7a-4ff9-b082-cb17e1124f6a\" target=\"_top\" title=\"psysml:3bcf17b2-ef7a-4ff9-b082-cb17e1124f6a\" xlink:actuate=\"onRequest\" xlink:href=\"psysml:3bcf17b2-ef7a-4ff9-b082-cb17e1124f6a\" xlink:show=\"new\" xlink:title=\"psysml:3bcf17b2-ef7a-4ff9-b082-cb17e1124f6a\" xlink:type=\"simple\"><path d=\"M339,267.1 C339,286.8 339,314.22 339,335.73 \" fill=\"none\" id=\"E4-&gt;E5\" style=\"stroke: #383838; stroke-width: 1.0; stroke-dasharray: 7.0,7.0;\"/><polygon fill=\"#383838\" points=\"339,343.95,342,335.95,336,335.95,339,343.95\" style=\"stroke: #383838; stroke-width: 1.0;\"/><text fill=\"#000000\" font-family=\"sans-serif\" font-size=\"13\" lengthAdjust=\"spacingAndGlyphs\" textLength=\"64\" x=\"340\" y=\"310.0669\">«depend»</text></a><!--MD5=[c5e8897d989ce984f93528998a7150fe]\n",
       "link E8 to E6--><a href=\"psysml:aa53d009-eedf-4466-a7b8-b270a2d13479\" target=\"_top\" title=\"psysml:aa53d009-eedf-4466-a7b8-b270a2d13479\" xlink:actuate=\"onRequest\" xlink:href=\"psysml:aa53d009-eedf-4466-a7b8-b270a2d13479\" xlink:show=\"new\" xlink:title=\"psysml:aa53d009-eedf-4466-a7b8-b270a2d13479\" xlink:type=\"simple\"><path d=\"M89.42,133.6 C79.35,142.68 69.37,154.11 64,167 C58.5,180.2 58.66,195.94 60.54,209.38 \" fill=\"none\" id=\"E8-&gt;E6\" style=\"stroke: #383838; stroke-width: 1.0; stroke-dasharray: 7.0,7.0;\"/><polygon fill=\"#383838\" points=\"61.9,217.4,63.517,209.0104,57.6018,210.0159,61.9,217.4\" style=\"stroke: #383838; stroke-width: 1.0;\"/><text fill=\"#000000\" font-family=\"sans-serif\" font-size=\"13\" lengthAdjust=\"spacingAndGlyphs\" textLength=\"64\" x=\"65\" y=\"180.0669\">«depend»</text></a><!--MD5=[bfa3c8b0d15052fdf50ae9310b491027]\n",
       "link E8 to E7--><a href=\"psysml:aa53d009-eedf-4466-a7b8-b270a2d13479\" target=\"_top\" title=\"psysml:aa53d009-eedf-4466-a7b8-b270a2d13479\" xlink:actuate=\"onRequest\" xlink:href=\"psysml:aa53d009-eedf-4466-a7b8-b270a2d13479\" xlink:show=\"new\" xlink:title=\"psysml:aa53d009-eedf-4466-a7b8-b270a2d13479\" xlink:type=\"simple\"><path d=\"M129.28,133.5 C138.17,154.57 151.64,186.5 161.47,209.81 \" fill=\"none\" id=\"E8-&gt;E7\" style=\"stroke: #383838; stroke-width: 1.0; stroke-dasharray: 7.0,7.0;\"/><polygon fill=\"#383838\" points=\"164.66,217.35,164.3241,208.8126,158.7933,211.1385,164.66,217.35\" style=\"stroke: #383838; stroke-width: 1.0;\"/><text fill=\"#000000\" font-family=\"sans-serif\" font-size=\"13\" lengthAdjust=\"spacingAndGlyphs\" textLength=\"64\" x=\"151\" y=\"180.0669\">«depend»</text></a><!--MD5=[973489bd7a54f002fa70b620a4887471]\n",
       "@startuml\r\n",
       "top to bottom direction\r\n",
       "skinparam monochrome true\r\n",
       "skinparam classbackgroundcolor white\r\n",
       "skinparam shadowing false\r\n",
       "skinparam wrapWidth 300\r\n",
       "hide circle\r\n",
       "\r\n",
       "package \"DependencyTest\" as E1  [[psysml:79533e77-94c2-4bae-8455-1b4d9ad0ac19 ]]  {\r\n",
       "package \"System\" as E2  [[psysml:aa959c9d-de71-4dee-a328-dce50e2c2738 ]]  {\r\n",
       "package \"Application Layer\" as E3  [[psysml:c86dacee-9d76-4d53-8a53-8574653b1f4e ]]  {\r\n",
       "}\r\n",
       "package \"Service Layer\" as E4  [[psysml:1c23a4b2-35e2-4e8a-96b6-0c0eddc8acf9 ]]  {\r\n",
       "}\r\n",
       "package \"Data Layer\" as E5  [[psysml:a642c0ba-468c-4345-a41b-ed6906c58c2e ]]  {\r\n",
       "}\r\n",
       "}\r\n",
       "comp usage \"x \" as E6  <<(T,blue) attribute>> [[psysml:002f54b6-1019-4822-b88b-c9a615e25b28 ]] {\r\n",
       "}\r\n",
       "comp usage \"y \" as E7  <<(T,blue) attribute>> [[psysml:5e659b03-2baa-4472-976b-b868f73bcda1 ]] {\r\n",
       "}\r\n",
       "comp usage \"z \" as E8  <<(T,blue) attribute>> [[psysml:17862b5a-aa19-4a09-bb5d-84a4c59b96ac ]] {\r\n",
       "}\r\n",
       "}\r\n",
       "E3 ..>> E4 [[psysml:e08fe20c-326f-4bf4-bdb1-9df0382c82e4 ]] : <<depend>>\r\n",
       "E4 ..>> E5 [[psysml:3bcf17b2-ef7a-4ff9-b082-cb17e1124f6a ]] : <<depend>>\r\n",
       "E8 ..>> E6 [[psysml:aa53d009-eedf-4466-a7b8-b270a2d13479 ]] : <<depend>>\r\n",
       "E8 ..>> E7 [[psysml:aa53d009-eedf-4466-a7b8-b270a2d13479 ]] : <<depend>>\r\n",
       "@enduml\r\n",
       "\n",
       "PlantUML version 1.2020.13(Sat Jun 13 12:26:38 UTC 2020)\n",
       "(EPL source distribution)\n",
       "Java Runtime: OpenJDK Runtime Environment\n",
       "JVM: OpenJDK 64-Bit Server VM\n",
       "Default Encoding: UTF-8\n",
       "Language: en\n",
       "Country: null\n",
       "--></g></svg>"
      ]
     },
     "execution_count": 45,
     "metadata": {},
     "output_type": "execute_result"
    }
   ],
   "source": [
    "%viz --style=\"TB\" --view=\"Tree\" \"DependencyTest\""
   ]
  },
  {
   "cell_type": "code",
   "execution_count": 46,
   "id": "46d0188a",
   "metadata": {
    "execution": {
     "iopub.execute_input": "2021-12-15T15:15:22.398607Z",
     "iopub.status.busy": "2021-12-15T15:15:22.398216Z",
     "iopub.status.idle": "2021-12-15T15:15:22.402873Z",
     "shell.execute_reply": "2021-12-15T15:15:22.403183Z"
    }
   },
   "outputs": [
    {
     "data": {
      "image/svg+xml": [
       "<?xml version=\"1.0\" encoding=\"UTF-8\" standalone=\"no\"?><svg xmlns=\"http://www.w3.org/2000/svg\" xmlns:xlink=\"http://www.w3.org/1999/xlink\" contentScriptType=\"application/ecmascript\" contentStyleType=\"text/css\" height=\"12px\" preserveAspectRatio=\"none\" style=\"width:12px;height:12px;\" version=\"1.1\" viewBox=\"0 0 12 12\" width=\"12px\" zoomAndPan=\"magnify\"><defs/><g><!--MD5=[f4ee21bc66e489b5061b7c3e9601fdef]\n",
       "@startuml\r\n",
       "top to bottom direction\r\n",
       "skinparam monochrome true\r\n",
       "skinparam classbackgroundcolor white\r\n",
       "skinparam shadowing false\r\n",
       "skinparam wrapWidth 300\r\n",
       "hide circle\r\n",
       "\r\n",
       "@enduml\r\n",
       "\n",
       "PlantUML version 1.2020.13(Sat Jun 13 12:26:38 UTC 2020)\n",
       "(EPL source distribution)\n",
       "Java Runtime: OpenJDK Runtime Environment\n",
       "JVM: OpenJDK 64-Bit Server VM\n",
       "Default Encoding: UTF-8\n",
       "Language: en\n",
       "Country: null\n",
       "--></g></svg>"
      ]
     },
     "execution_count": 46,
     "metadata": {},
     "output_type": "execute_result"
    }
   ],
   "source": [
    "%viz --style=\"TB\" --view=\"State\" \"DependencyTest\""
   ]
  },
  {
   "cell_type": "code",
   "execution_count": 47,
   "id": "18e6fde4",
   "metadata": {
    "execution": {
     "iopub.execute_input": "2021-12-15T15:15:22.452963Z",
     "iopub.status.busy": "2021-12-15T15:15:22.452570Z",
     "iopub.status.idle": "2021-12-15T15:15:22.485030Z",
     "shell.execute_reply": "2021-12-15T15:15:22.484652Z"
    }
   },
   "outputs": [
    {
     "data": {
      "image/svg+xml": [
       "<?xml version=\"1.0\" encoding=\"UTF-8\" standalone=\"no\"?><svg xmlns=\"http://www.w3.org/2000/svg\" xmlns:xlink=\"http://www.w3.org/1999/xlink\" contentScriptType=\"application/ecmascript\" contentStyleType=\"text/css\" height=\"361px\" preserveAspectRatio=\"none\" style=\"width:469px;height:361px;\" version=\"1.1\" viewBox=\"0 0 469 361\" width=\"469px\" zoomAndPan=\"magnify\"><defs/><g><!--MD5=[fbc87193dbaf4d95561dea2c320d4a47]\n",
       "cluster E1--><a href=\"psysml:79533e77-94c2-4bae-8455-1b4d9ad0ac19\" target=\"_top\" title=\"psysml:79533e77-94c2-4bae-8455-1b4d9ad0ac19\" xlink:actuate=\"onRequest\" xlink:href=\"psysml:79533e77-94c2-4bae-8455-1b4d9ad0ac19\" xlink:show=\"new\" xlink:title=\"psysml:79533e77-94c2-4bae-8455-1b4d9ad0ac19\" xlink:type=\"simple\"><polygon fill=\"#FFFFFF\" points=\"16,6,142,6,149,28.2969,447,28.2969,447,349,16,349,16,6\" style=\"stroke: #000000; stroke-width: 1.5;\"/><line style=\"stroke: #000000; stroke-width: 1.5;\" x1=\"16\" x2=\"149\" y1=\"28.2969\" y2=\"28.2969\"/><text fill=\"#000000\" font-family=\"sans-serif\" font-size=\"14\" font-weight=\"bold\" lengthAdjust=\"spacingAndGlyphs\" textLength=\"120\" x=\"20\" y=\"20.9951\">DependencyTest</text></a><!--MD5=[e4f7fae6ed58524ba242bb0b0d3be6b7]\n",
       "cluster E2--><a href=\"psysml:aa959c9d-de71-4dee-a328-dce50e2c2738\" target=\"_top\" title=\"psysml:aa959c9d-de71-4dee-a328-dce50e2c2738\" xlink:actuate=\"onRequest\" xlink:href=\"psysml:aa959c9d-de71-4dee-a328-dce50e2c2738\" xlink:show=\"new\" xlink:title=\"psysml:aa959c9d-de71-4dee-a328-dce50e2c2738\" xlink:type=\"simple\"><polygon fill=\"#FFFFFF\" points=\"255,49,312,49,319,71.2969,423,71.2969,423,325,255,325,255,49\" style=\"stroke: #000000; stroke-width: 1.5;\"/><line style=\"stroke: #000000; stroke-width: 1.5;\" x1=\"255\" x2=\"319\" y1=\"71.2969\" y2=\"71.2969\"/><text fill=\"#000000\" font-family=\"sans-serif\" font-size=\"14\" font-weight=\"bold\" lengthAdjust=\"spacingAndGlyphs\" textLength=\"51\" x=\"259\" y=\"63.9951\">System</text></a><!--MD5=[60a26617385b1d2d0262a64233df1f8d]\n",
       "class E6--><a href=\"psysml:002f54b6-1019-4822-b88b-c9a615e25b28\" target=\"_top\" title=\"psysml:002f54b6-1019-4822-b88b-c9a615e25b28\" xlink:actuate=\"onRequest\" xlink:href=\"psysml:002f54b6-1019-4822-b88b-c9a615e25b28\" xlink:show=\"new\" xlink:title=\"psysml:002f54b6-1019-4822-b88b-c9a615e25b28\" xlink:type=\"simple\"><rect fill=\"#FFFFFF\" height=\"45.9375\" id=\"E6\" rx=\"10\" ry=\"10\" style=\"stroke: #383838; stroke-width: 1.5;\" width=\"71\" x=\"32.5\" y=\"173.5\"/><text fill=\"#000000\" font-family=\"sans-serif\" font-size=\"12\" font-style=\"italic\" lengthAdjust=\"spacingAndGlyphs\" textLength=\"69\" x=\"33.5\" y=\"189.6387\">«attribute»</text><text fill=\"#000000\" font-family=\"sans-serif\" font-size=\"12\" lengthAdjust=\"spacingAndGlyphs\" textLength=\"6\" x=\"63\" y=\"203.6074\">x</text><line style=\"stroke: #383838; stroke-width: 1.5;\" x1=\"33.5\" x2=\"102.5\" y1=\"211.4375\" y2=\"211.4375\"/></a><!--MD5=[2156ba9850f5573cc1fc38a6a4b2f02b]\n",
       "class E7--><a href=\"psysml:5e659b03-2baa-4472-976b-b868f73bcda1\" target=\"_top\" title=\"psysml:5e659b03-2baa-4472-976b-b868f73bcda1\" xlink:actuate=\"onRequest\" xlink:href=\"psysml:5e659b03-2baa-4472-976b-b868f73bcda1\" xlink:show=\"new\" xlink:title=\"psysml:5e659b03-2baa-4472-976b-b868f73bcda1\" xlink:type=\"simple\"><rect fill=\"#FFFFFF\" height=\"45.9375\" id=\"E7\" rx=\"10\" ry=\"10\" style=\"stroke: #383838; stroke-width: 1.5;\" width=\"71\" x=\"138.5\" y=\"173.5\"/><text fill=\"#000000\" font-family=\"sans-serif\" font-size=\"12\" font-style=\"italic\" lengthAdjust=\"spacingAndGlyphs\" textLength=\"69\" x=\"139.5\" y=\"189.6387\">«attribute»</text><text fill=\"#000000\" font-family=\"sans-serif\" font-size=\"12\" lengthAdjust=\"spacingAndGlyphs\" textLength=\"6\" x=\"169\" y=\"203.6074\">y</text><line style=\"stroke: #383838; stroke-width: 1.5;\" x1=\"139.5\" x2=\"208.5\" y1=\"211.4375\" y2=\"211.4375\"/></a><!--MD5=[b9389687b975829384b498ac4b7476b2]\n",
       "class E8--><a href=\"psysml:17862b5a-aa19-4a09-bb5d-84a4c59b96ac\" target=\"_top\" title=\"psysml:17862b5a-aa19-4a09-bb5d-84a4c59b96ac\" xlink:actuate=\"onRequest\" xlink:href=\"psysml:17862b5a-aa19-4a09-bb5d-84a4c59b96ac\" xlink:show=\"new\" xlink:title=\"psysml:17862b5a-aa19-4a09-bb5d-84a4c59b96ac\" xlink:type=\"simple\"><rect fill=\"#FFFFFF\" height=\"45.9375\" id=\"E8\" rx=\"10\" ry=\"10\" style=\"stroke: #383838; stroke-width: 1.5;\" width=\"71\" x=\"84.5\" y=\"87.5\"/><text fill=\"#000000\" font-family=\"sans-serif\" font-size=\"12\" font-style=\"italic\" lengthAdjust=\"spacingAndGlyphs\" textLength=\"69\" x=\"85.5\" y=\"103.6387\">«attribute»</text><text fill=\"#000000\" font-family=\"sans-serif\" font-size=\"12\" lengthAdjust=\"spacingAndGlyphs\" textLength=\"5\" x=\"115.5\" y=\"117.6074\">z</text><line style=\"stroke: #383838; stroke-width: 1.5;\" x1=\"85.5\" x2=\"154.5\" y1=\"125.4375\" y2=\"125.4375\"/></a><a href=\"psysml:c86dacee-9d76-4d53-8a53-8574653b1f4e\" target=\"_top\" title=\"psysml:c86dacee-9d76-4d53-8a53-8574653b1f4e\" xlink:actuate=\"onRequest\" xlink:href=\"psysml:c86dacee-9d76-4d53-8a53-8574653b1f4e\" xlink:show=\"new\" xlink:title=\"psysml:c86dacee-9d76-4d53-8a53-8574653b1f4e\" xlink:type=\"simple\"><polygon fill=\"#FFFFFF\" points=\"271.5,84,392.5,84,399.5,106.2969,406.5,106.2969,406.5,136.5938,271.5,136.5938,271.5,84\" style=\"stroke: #000000; stroke-width: 1.5;\"/><line style=\"stroke: #000000; stroke-width: 1.5;\" x1=\"271.5\" x2=\"399.5\" y1=\"106.2969\" y2=\"106.2969\"/><text fill=\"#000000\" font-family=\"sans-serif\" font-size=\"14\" font-weight=\"bold\" lengthAdjust=\"spacingAndGlyphs\" textLength=\"115\" x=\"275.5\" y=\"98.9951\">Application Layer</text></a><a href=\"psysml:1c23a4b2-35e2-4e8a-96b6-0c0eddc8acf9\" target=\"_top\" title=\"psysml:1c23a4b2-35e2-4e8a-96b6-0c0eddc8acf9\" xlink:actuate=\"onRequest\" xlink:href=\"psysml:1c23a4b2-35e2-4e8a-96b6-0c0eddc8acf9\" xlink:show=\"new\" xlink:title=\"psysml:1c23a4b2-35e2-4e8a-96b6-0c0eddc8acf9\" xlink:type=\"simple\"><polygon fill=\"#FFFFFF\" points=\"284,170,380,170,387,192.2969,394,192.2969,394,222.5938,284,222.5938,284,170\" style=\"stroke: #000000; stroke-width: 1.5;\"/><line style=\"stroke: #000000; stroke-width: 1.5;\" x1=\"284\" x2=\"387\" y1=\"192.2969\" y2=\"192.2969\"/><text fill=\"#000000\" font-family=\"sans-serif\" font-size=\"14\" font-weight=\"bold\" lengthAdjust=\"spacingAndGlyphs\" textLength=\"90\" x=\"288\" y=\"184.9951\">Service Layer</text></a><a href=\"psysml:a642c0ba-468c-4345-a41b-ed6906c58c2e\" target=\"_top\" title=\"psysml:a642c0ba-468c-4345-a41b-ed6906c58c2e\" xlink:actuate=\"onRequest\" xlink:href=\"psysml:a642c0ba-468c-4345-a41b-ed6906c58c2e\" xlink:show=\"new\" xlink:title=\"psysml:a642c0ba-468c-4345-a41b-ed6906c58c2e\" xlink:type=\"simple\"><polygon fill=\"#FFFFFF\" points=\"293,256,371,256,378,278.2969,385,278.2969,385,308.5938,293,308.5938,293,256\" style=\"stroke: #000000; stroke-width: 1.5;\"/><line style=\"stroke: #000000; stroke-width: 1.5;\" x1=\"293\" x2=\"378\" y1=\"278.2969\" y2=\"278.2969\"/><text fill=\"#000000\" font-family=\"sans-serif\" font-size=\"14\" font-weight=\"bold\" lengthAdjust=\"spacingAndGlyphs\" textLength=\"72\" x=\"297\" y=\"270.9951\">Data Layer</text></a><!--MD5=[af87c684e3b0d8be13c1a698a818ef1e]\n",
       "link E3 to E4--><a href=\"psysml:e08fe20c-326f-4bf4-bdb1-9df0382c82e4\" target=\"_top\" title=\"psysml:e08fe20c-326f-4bf4-bdb1-9df0382c82e4\" xlink:actuate=\"onRequest\" xlink:href=\"psysml:e08fe20c-326f-4bf4-bdb1-9df0382c82e4\" xlink:show=\"new\" xlink:title=\"psysml:e08fe20c-326f-4bf4-bdb1-9df0382c82e4\" xlink:type=\"simple\"><path d=\"M339,137.16 C339,144.98 339,153.69 339,161.94 \" fill=\"none\" id=\"E3-&gt;E4\" style=\"stroke: #383838; stroke-width: 1.0; stroke-dasharray: 7.0,7.0;\"/><polygon fill=\"#383838\" points=\"339,170,342,162,336,162,339,170\" style=\"stroke: #383838; stroke-width: 1.0;\"/><text fill=\"#000000\" font-family=\"sans-serif\" font-size=\"13\" lengthAdjust=\"spacingAndGlyphs\" textLength=\"64\" x=\"340\" y=\"158.0669\">«depend»</text></a><!--MD5=[1b7591eae5389033d8d09a9d6721a717]\n",
       "link E4 to E5--><a href=\"psysml:3bcf17b2-ef7a-4ff9-b082-cb17e1124f6a\" target=\"_top\" title=\"psysml:3bcf17b2-ef7a-4ff9-b082-cb17e1124f6a\" xlink:actuate=\"onRequest\" xlink:href=\"psysml:3bcf17b2-ef7a-4ff9-b082-cb17e1124f6a\" xlink:show=\"new\" xlink:title=\"psysml:3bcf17b2-ef7a-4ff9-b082-cb17e1124f6a\" xlink:type=\"simple\"><path d=\"M339,223.16 C339,230.98 339,239.69 339,247.94 \" fill=\"none\" id=\"E4-&gt;E5\" style=\"stroke: #383838; stroke-width: 1.0; stroke-dasharray: 7.0,7.0;\"/><polygon fill=\"#383838\" points=\"339,256,342,248,336,248,339,256\" style=\"stroke: #383838; stroke-width: 1.0;\"/><text fill=\"#000000\" font-family=\"sans-serif\" font-size=\"13\" lengthAdjust=\"spacingAndGlyphs\" textLength=\"64\" x=\"340\" y=\"244.0669\">«depend»</text></a><!--MD5=[c5e8897d989ce984f93528998a7150fe]\n",
       "link E8 to E6--><a href=\"psysml:aa53d009-eedf-4466-a7b8-b270a2d13479\" target=\"_top\" title=\"psysml:aa53d009-eedf-4466-a7b8-b270a2d13479\" xlink:actuate=\"onRequest\" xlink:href=\"psysml:aa53d009-eedf-4466-a7b8-b270a2d13479\" xlink:show=\"new\" xlink:title=\"psysml:aa53d009-eedf-4466-a7b8-b270a2d13479\" xlink:type=\"simple\"><path d=\"M84.49,125.34 C76.34,130.27 68.69,136.72 64,145 C60.54,151.1 59.62,158.31 60,165.33 \" fill=\"none\" id=\"E8-&gt;E6\" style=\"stroke: #383838; stroke-width: 1.0; stroke-dasharray: 7.0,7.0;\"/><polygon fill=\"#383838\" points=\"60.97,173.42,63.0061,165.1221,57.0479,165.8294,60.97,173.42\" style=\"stroke: #383838; stroke-width: 1.0;\"/><text fill=\"#000000\" font-family=\"sans-serif\" font-size=\"13\" lengthAdjust=\"spacingAndGlyphs\" textLength=\"64\" x=\"65\" y=\"158.0669\">«depend»</text></a><!--MD5=[bfa3c8b0d15052fdf50ae9310b491027]\n",
       "link E8 to E7--><a href=\"psysml:aa53d009-eedf-4466-a7b8-b270a2d13479\" target=\"_top\" title=\"psysml:aa53d009-eedf-4466-a7b8-b270a2d13479\" xlink:actuate=\"onRequest\" xlink:href=\"psysml:aa53d009-eedf-4466-a7b8-b270a2d13479\" xlink:show=\"new\" xlink:title=\"psysml:aa53d009-eedf-4466-a7b8-b270a2d13479\" xlink:type=\"simple\"><path d=\"M134.19,133.57 C140.65,143.62 148.38,155.65 155.31,166.42 \" fill=\"none\" id=\"E8-&gt;E7\" style=\"stroke: #383838; stroke-width: 1.0; stroke-dasharray: 7.0,7.0;\"/><polygon fill=\"#383838\" points=\"159.72,173.29,157.9148,164.9389,152.8688,168.185,159.72,173.29\" style=\"stroke: #383838; stroke-width: 1.0;\"/><text fill=\"#000000\" font-family=\"sans-serif\" font-size=\"13\" lengthAdjust=\"spacingAndGlyphs\" textLength=\"64\" x=\"152\" y=\"158.0669\">«depend»</text></a><!--MD5=[e56fe932a6e9976030b2235b2d43b7e8]\n",
       "@startuml\r\n",
       "skinparam ranksep 10\r\n",
       "skinparam rectangle {\r\n",
       " backgroundColor<<block>> LightGreen\r\n",
       "}\r\n",
       "top to bottom direction\r\n",
       "skinparam monochrome true\r\n",
       "skinparam classbackgroundcolor white\r\n",
       "skinparam shadowing false\r\n",
       "skinparam wrapWidth 300\r\n",
       "hide circle\r\n",
       "\r\n",
       "package \"DependencyTest\" as E1  [[psysml:79533e77-94c2-4bae-8455-1b4d9ad0ac19 ]]  {\r\n",
       "package \"System\" as E2  [[psysml:aa959c9d-de71-4dee-a328-dce50e2c2738 ]]  {\r\n",
       "package \"Application Layer\" as E3  [[psysml:c86dacee-9d76-4d53-8a53-8574653b1f4e ]]  {\r\n",
       "}\r\n",
       "package \"Service Layer\" as E4  [[psysml:1c23a4b2-35e2-4e8a-96b6-0c0eddc8acf9 ]]  {\r\n",
       "}\r\n",
       "package \"Data Layer\" as E5  [[psysml:a642c0ba-468c-4345-a41b-ed6906c58c2e ]]  {\r\n",
       "}\r\n",
       "}\r\n",
       "comp usage \"x \" as E6  <<(T,blue) attribute>> [[psysml:002f54b6-1019-4822-b88b-c9a615e25b28 ]] {\r\n",
       "}\r\n",
       "comp usage \"y \" as E7  <<(T,blue) attribute>> [[psysml:5e659b03-2baa-4472-976b-b868f73bcda1 ]] {\r\n",
       "}\r\n",
       "comp usage \"z \" as E8  <<(T,blue) attribute>> [[psysml:17862b5a-aa19-4a09-bb5d-84a4c59b96ac ]] {\r\n",
       "}\r\n",
       "}\r\n",
       "E3 ..>> E4 [[psysml:e08fe20c-326f-4bf4-bdb1-9df0382c82e4 ]] : <<depend>>\r\n",
       "E4 ..>> E5 [[psysml:3bcf17b2-ef7a-4ff9-b082-cb17e1124f6a ]] : <<depend>>\r\n",
       "E8 ..>> E6 [[psysml:aa53d009-eedf-4466-a7b8-b270a2d13479 ]] : <<depend>>\r\n",
       "E8 ..>> E7 [[psysml:aa53d009-eedf-4466-a7b8-b270a2d13479 ]] : <<depend>>\r\n",
       "@enduml\r\n",
       "\n",
       "PlantUML version 1.2020.13(Sat Jun 13 12:26:38 UTC 2020)\n",
       "(EPL source distribution)\n",
       "Java Runtime: OpenJDK Runtime Environment\n",
       "JVM: OpenJDK 64-Bit Server VM\n",
       "Default Encoding: UTF-8\n",
       "Language: en\n",
       "Country: null\n",
       "--></g></svg>"
      ]
     },
     "execution_count": 47,
     "metadata": {},
     "output_type": "execute_result"
    }
   ],
   "source": [
    "%viz --style=\"TB\" --view=\"Interconnection\" \"DependencyTest\""
   ]
  },
  {
   "cell_type": "code",
   "execution_count": 48,
   "id": "9d8229d6",
   "metadata": {
    "execution": {
     "iopub.execute_input": "2021-12-15T15:15:22.534399Z",
     "iopub.status.busy": "2021-12-15T15:15:22.534005Z",
     "iopub.status.idle": "2021-12-15T15:15:22.539374Z",
     "shell.execute_reply": "2021-12-15T15:15:22.539051Z"
    }
   },
   "outputs": [
    {
     "data": {
      "image/svg+xml": [
       "<?xml version=\"1.0\" encoding=\"UTF-8\" standalone=\"no\"?><svg xmlns=\"http://www.w3.org/2000/svg\" xmlns:xlink=\"http://www.w3.org/1999/xlink\" contentScriptType=\"application/ecmascript\" contentStyleType=\"text/css\" height=\"12px\" preserveAspectRatio=\"none\" style=\"width:12px;height:12px;\" version=\"1.1\" viewBox=\"0 0 12 12\" width=\"12px\" zoomAndPan=\"magnify\"><defs/><g><!--MD5=[06afc254b03ac5e9d9fb7773b07d0800]\n",
       "@startuml\r\n",
       "skinparam ranksep 8\r\n",
       "top to bottom direction\r\n",
       "skinparam monochrome true\r\n",
       "skinparam classbackgroundcolor white\r\n",
       "skinparam shadowing false\r\n",
       "skinparam wrapWidth 300\r\n",
       "hide circle\r\n",
       "\r\n",
       "@enduml\r\n",
       "\n",
       "PlantUML version 1.2020.13(Sat Jun 13 12:26:38 UTC 2020)\n",
       "(EPL source distribution)\n",
       "Java Runtime: OpenJDK Runtime Environment\n",
       "JVM: OpenJDK 64-Bit Server VM\n",
       "Default Encoding: UTF-8\n",
       "Language: en\n",
       "Country: null\n",
       "--></g></svg>"
      ]
     },
     "execution_count": 48,
     "metadata": {},
     "output_type": "execute_result"
    }
   ],
   "source": [
    "%viz --style=\"TB\" --view=\"Action\" \"DependencyTest\""
   ]
  },
  {
   "cell_type": "code",
   "execution_count": 49,
   "id": "9cda3718",
   "metadata": {
    "execution": {
     "iopub.execute_input": "2021-12-15T15:15:22.589382Z",
     "iopub.status.busy": "2021-12-15T15:15:22.588807Z",
     "iopub.status.idle": "2021-12-15T15:15:22.594207Z",
     "shell.execute_reply": "2021-12-15T15:15:22.594653Z"
    }
   },
   "outputs": [
    {
     "data": {
      "image/svg+xml": [
       "<?xml version=\"1.0\" encoding=\"UTF-8\" standalone=\"no\"?><svg xmlns=\"http://www.w3.org/2000/svg\" xmlns:xlink=\"http://www.w3.org/1999/xlink\" contentScriptType=\"application/ecmascript\" contentStyleType=\"text/css\" height=\"12px\" preserveAspectRatio=\"none\" style=\"width:12px;height:12px;\" version=\"1.1\" viewBox=\"0 0 12 12\" width=\"12px\" zoomAndPan=\"magnify\"><defs/><g><!--MD5=[e1ab0c84c44d2fef8bf5f140f2689906]\n",
       "@startuml\r\n",
       "skinparam roundcorner 20\r\n",
       "skinparam BoxPadding 20\r\n",
       "skinparam SequenceBoxBackgroundColor #white\r\n",
       "skinparam style strictuml\r\n",
       "skinparam maxMessageSize 100\r\n",
       "top to bottom direction\r\n",
       "skinparam monochrome true\r\n",
       "skinparam classbackgroundcolor white\r\n",
       "skinparam shadowing false\r\n",
       "skinparam wrapWidth 300\r\n",
       "hide circle\r\n",
       "\r\n",
       "@enduml\r\n",
       "\n",
       "PlantUML version 1.2020.13(Sat Jun 13 12:26:38 UTC 2020)\n",
       "(EPL source distribution)\n",
       "Java Runtime: OpenJDK Runtime Environment\n",
       "JVM: OpenJDK 64-Bit Server VM\n",
       "Default Encoding: UTF-8\n",
       "Language: en\n",
       "Country: null\n",
       "--></g></svg>"
      ]
     },
     "execution_count": 49,
     "metadata": {},
     "output_type": "execute_result"
    }
   ],
   "source": [
    "%viz --style=\"TB\" --view=\"Sequence\" \"DependencyTest\""
   ]
  },
  {
   "cell_type": "code",
   "execution_count": 50,
   "id": "5c5c8941",
   "metadata": {
    "execution": {
     "iopub.execute_input": "2021-12-15T15:15:22.644014Z",
     "iopub.status.busy": "2021-12-15T15:15:22.643577Z",
     "iopub.status.idle": "2021-12-15T15:15:22.676061Z",
     "shell.execute_reply": "2021-12-15T15:15:22.674288Z"
    }
   },
   "outputs": [
    {
     "data": {
      "image/svg+xml": [
       "<?xml version=\"1.0\" encoding=\"UTF-8\" standalone=\"no\"?><svg xmlns=\"http://www.w3.org/2000/svg\" xmlns:xlink=\"http://www.w3.org/1999/xlink\" contentScriptType=\"application/ecmascript\" contentStyleType=\"text/css\" height=\"449px\" preserveAspectRatio=\"none\" style=\"width:469px;height:449px;\" version=\"1.1\" viewBox=\"0 0 469 449\" width=\"469px\" zoomAndPan=\"magnify\"><defs/><g><!--MD5=[fbc87193dbaf4d95561dea2c320d4a47]\n",
       "cluster E1--><a href=\"psysml:79533e77-94c2-4bae-8455-1b4d9ad0ac19\" target=\"_top\" title=\"psysml:79533e77-94c2-4bae-8455-1b4d9ad0ac19\" xlink:actuate=\"onRequest\" xlink:href=\"psysml:79533e77-94c2-4bae-8455-1b4d9ad0ac19\" xlink:show=\"new\" xlink:title=\"psysml:79533e77-94c2-4bae-8455-1b4d9ad0ac19\" xlink:type=\"simple\"><polygon fill=\"#FFFFFF\" points=\"16,6,142,6,149,28.2969,447,28.2969,447,437,16,437,16,6\" style=\"stroke: #000000; stroke-width: 1.5;\"/><line style=\"stroke: #000000; stroke-width: 1.5;\" x1=\"16\" x2=\"149\" y1=\"28.2969\" y2=\"28.2969\"/><text fill=\"#000000\" font-family=\"sans-serif\" font-size=\"14\" font-weight=\"bold\" lengthAdjust=\"spacingAndGlyphs\" textLength=\"120\" x=\"20\" y=\"20.9951\">DependencyTest</text></a><!--MD5=[e4f7fae6ed58524ba242bb0b0d3be6b7]\n",
       "cluster E2--><a href=\"psysml:aa959c9d-de71-4dee-a328-dce50e2c2738\" target=\"_top\" title=\"psysml:aa959c9d-de71-4dee-a328-dce50e2c2738\" xlink:actuate=\"onRequest\" xlink:href=\"psysml:aa959c9d-de71-4dee-a328-dce50e2c2738\" xlink:show=\"new\" xlink:title=\"psysml:aa959c9d-de71-4dee-a328-dce50e2c2738\" xlink:type=\"simple\"><polygon fill=\"#FFFFFF\" points=\"255,49,312,49,319,71.2969,423,71.2969,423,413,255,413,255,49\" style=\"stroke: #000000; stroke-width: 1.5;\"/><line style=\"stroke: #000000; stroke-width: 1.5;\" x1=\"255\" x2=\"319\" y1=\"71.2969\" y2=\"71.2969\"/><text fill=\"#000000\" font-family=\"sans-serif\" font-size=\"14\" font-weight=\"bold\" lengthAdjust=\"spacingAndGlyphs\" textLength=\"51\" x=\"259\" y=\"63.9951\">System</text></a><!--MD5=[60a26617385b1d2d0262a64233df1f8d]\n",
       "class E6--><a href=\"psysml:002f54b6-1019-4822-b88b-c9a615e25b28\" target=\"_top\" title=\"psysml:002f54b6-1019-4822-b88b-c9a615e25b28\" xlink:actuate=\"onRequest\" xlink:href=\"psysml:002f54b6-1019-4822-b88b-c9a615e25b28\" xlink:show=\"new\" xlink:title=\"psysml:002f54b6-1019-4822-b88b-c9a615e25b28\" xlink:type=\"simple\"><rect fill=\"#FFFFFF\" height=\"45.9375\" id=\"E6\" rx=\"10\" ry=\"10\" style=\"stroke: #383838; stroke-width: 1.5;\" width=\"71\" x=\"32.5\" y=\"217.5\"/><text fill=\"#000000\" font-family=\"sans-serif\" font-size=\"12\" font-style=\"italic\" lengthAdjust=\"spacingAndGlyphs\" textLength=\"69\" x=\"33.5\" y=\"233.6387\">«attribute»</text><text fill=\"#000000\" font-family=\"sans-serif\" font-size=\"12\" lengthAdjust=\"spacingAndGlyphs\" textLength=\"6\" x=\"63\" y=\"247.6074\">x</text><line style=\"stroke: #383838; stroke-width: 1.5;\" x1=\"33.5\" x2=\"102.5\" y1=\"255.4375\" y2=\"255.4375\"/></a><!--MD5=[2156ba9850f5573cc1fc38a6a4b2f02b]\n",
       "class E7--><a href=\"psysml:5e659b03-2baa-4472-976b-b868f73bcda1\" target=\"_top\" title=\"psysml:5e659b03-2baa-4472-976b-b868f73bcda1\" xlink:actuate=\"onRequest\" xlink:href=\"psysml:5e659b03-2baa-4472-976b-b868f73bcda1\" xlink:show=\"new\" xlink:title=\"psysml:5e659b03-2baa-4472-976b-b868f73bcda1\" xlink:type=\"simple\"><rect fill=\"#FFFFFF\" height=\"45.9375\" id=\"E7\" rx=\"10\" ry=\"10\" style=\"stroke: #383838; stroke-width: 1.5;\" width=\"71\" x=\"138.5\" y=\"217.5\"/><text fill=\"#000000\" font-family=\"sans-serif\" font-size=\"12\" font-style=\"italic\" lengthAdjust=\"spacingAndGlyphs\" textLength=\"69\" x=\"139.5\" y=\"233.6387\">«attribute»</text><text fill=\"#000000\" font-family=\"sans-serif\" font-size=\"12\" lengthAdjust=\"spacingAndGlyphs\" textLength=\"6\" x=\"169\" y=\"247.6074\">y</text><line style=\"stroke: #383838; stroke-width: 1.5;\" x1=\"139.5\" x2=\"208.5\" y1=\"255.4375\" y2=\"255.4375\"/></a><!--MD5=[b9389687b975829384b498ac4b7476b2]\n",
       "class E8--><a href=\"psysml:17862b5a-aa19-4a09-bb5d-84a4c59b96ac\" target=\"_top\" title=\"psysml:17862b5a-aa19-4a09-bb5d-84a4c59b96ac\" xlink:actuate=\"onRequest\" xlink:href=\"psysml:17862b5a-aa19-4a09-bb5d-84a4c59b96ac\" xlink:show=\"new\" xlink:title=\"psysml:17862b5a-aa19-4a09-bb5d-84a4c59b96ac\" xlink:type=\"simple\"><rect fill=\"#FFFFFF\" height=\"45.9375\" id=\"E8\" rx=\"10\" ry=\"10\" style=\"stroke: #383838; stroke-width: 1.5;\" width=\"71\" x=\"84.5\" y=\"87.5\"/><text fill=\"#000000\" font-family=\"sans-serif\" font-size=\"12\" font-style=\"italic\" lengthAdjust=\"spacingAndGlyphs\" textLength=\"69\" x=\"85.5\" y=\"103.6387\">«attribute»</text><text fill=\"#000000\" font-family=\"sans-serif\" font-size=\"12\" lengthAdjust=\"spacingAndGlyphs\" textLength=\"5\" x=\"115.5\" y=\"117.6074\">z</text><line style=\"stroke: #383838; stroke-width: 1.5;\" x1=\"85.5\" x2=\"154.5\" y1=\"125.4375\" y2=\"125.4375\"/></a><a href=\"psysml:c86dacee-9d76-4d53-8a53-8574653b1f4e\" target=\"_top\" title=\"psysml:c86dacee-9d76-4d53-8a53-8574653b1f4e\" xlink:actuate=\"onRequest\" xlink:href=\"psysml:c86dacee-9d76-4d53-8a53-8574653b1f4e\" xlink:show=\"new\" xlink:title=\"psysml:c86dacee-9d76-4d53-8a53-8574653b1f4e\" xlink:type=\"simple\"><polygon fill=\"#FFFFFF\" points=\"271.5,84,392.5,84,399.5,106.2969,406.5,106.2969,406.5,136.5938,271.5,136.5938,271.5,84\" style=\"stroke: #000000; stroke-width: 1.5;\"/><line style=\"stroke: #000000; stroke-width: 1.5;\" x1=\"271.5\" x2=\"399.5\" y1=\"106.2969\" y2=\"106.2969\"/><text fill=\"#000000\" font-family=\"sans-serif\" font-size=\"14\" font-weight=\"bold\" lengthAdjust=\"spacingAndGlyphs\" textLength=\"115\" x=\"275.5\" y=\"98.9951\">Application Layer</text></a><a href=\"psysml:1c23a4b2-35e2-4e8a-96b6-0c0eddc8acf9\" target=\"_top\" title=\"psysml:1c23a4b2-35e2-4e8a-96b6-0c0eddc8acf9\" xlink:actuate=\"onRequest\" xlink:href=\"psysml:1c23a4b2-35e2-4e8a-96b6-0c0eddc8acf9\" xlink:show=\"new\" xlink:title=\"psysml:1c23a4b2-35e2-4e8a-96b6-0c0eddc8acf9\" xlink:type=\"simple\"><polygon fill=\"#FFFFFF\" points=\"284,214,380,214,387,236.2969,394,236.2969,394,266.5938,284,266.5938,284,214\" style=\"stroke: #000000; stroke-width: 1.5;\"/><line style=\"stroke: #000000; stroke-width: 1.5;\" x1=\"284\" x2=\"387\" y1=\"236.2969\" y2=\"236.2969\"/><text fill=\"#000000\" font-family=\"sans-serif\" font-size=\"14\" font-weight=\"bold\" lengthAdjust=\"spacingAndGlyphs\" textLength=\"90\" x=\"288\" y=\"228.9951\">Service Layer</text></a><a href=\"psysml:a642c0ba-468c-4345-a41b-ed6906c58c2e\" target=\"_top\" title=\"psysml:a642c0ba-468c-4345-a41b-ed6906c58c2e\" xlink:actuate=\"onRequest\" xlink:href=\"psysml:a642c0ba-468c-4345-a41b-ed6906c58c2e\" xlink:show=\"new\" xlink:title=\"psysml:a642c0ba-468c-4345-a41b-ed6906c58c2e\" xlink:type=\"simple\"><polygon fill=\"#FFFFFF\" points=\"293,344,371,344,378,366.2969,385,366.2969,385,396.5938,293,396.5938,293,344\" style=\"stroke: #000000; stroke-width: 1.5;\"/><line style=\"stroke: #000000; stroke-width: 1.5;\" x1=\"293\" x2=\"378\" y1=\"366.2969\" y2=\"366.2969\"/><text fill=\"#000000\" font-family=\"sans-serif\" font-size=\"14\" font-weight=\"bold\" lengthAdjust=\"spacingAndGlyphs\" textLength=\"72\" x=\"297\" y=\"358.9951\">Data Layer</text></a><!--MD5=[af87c684e3b0d8be13c1a698a818ef1e]\n",
       "link E3 to E4--><a href=\"psysml:e08fe20c-326f-4bf4-bdb1-9df0382c82e4\" target=\"_top\" title=\"psysml:e08fe20c-326f-4bf4-bdb1-9df0382c82e4\" xlink:actuate=\"onRequest\" xlink:href=\"psysml:e08fe20c-326f-4bf4-bdb1-9df0382c82e4\" xlink:show=\"new\" xlink:title=\"psysml:e08fe20c-326f-4bf4-bdb1-9df0382c82e4\" xlink:type=\"simple\"><path d=\"M339,137.1 C339,156.8 339,184.22 339,205.73 \" fill=\"none\" id=\"E3-&gt;E4\" style=\"stroke: #383838; stroke-width: 1.0; stroke-dasharray: 7.0,7.0;\"/><polygon fill=\"#383838\" points=\"339,213.95,342,205.95,336,205.95,339,213.95\" style=\"stroke: #383838; stroke-width: 1.0;\"/><text fill=\"#000000\" font-family=\"sans-serif\" font-size=\"13\" lengthAdjust=\"spacingAndGlyphs\" textLength=\"64\" x=\"340\" y=\"180.0669\">«depend»</text></a><!--MD5=[1b7591eae5389033d8d09a9d6721a717]\n",
       "link E4 to E5--><a href=\"psysml:3bcf17b2-ef7a-4ff9-b082-cb17e1124f6a\" target=\"_top\" title=\"psysml:3bcf17b2-ef7a-4ff9-b082-cb17e1124f6a\" xlink:actuate=\"onRequest\" xlink:href=\"psysml:3bcf17b2-ef7a-4ff9-b082-cb17e1124f6a\" xlink:show=\"new\" xlink:title=\"psysml:3bcf17b2-ef7a-4ff9-b082-cb17e1124f6a\" xlink:type=\"simple\"><path d=\"M339,267.1 C339,286.8 339,314.22 339,335.73 \" fill=\"none\" id=\"E4-&gt;E5\" style=\"stroke: #383838; stroke-width: 1.0; stroke-dasharray: 7.0,7.0;\"/><polygon fill=\"#383838\" points=\"339,343.95,342,335.95,336,335.95,339,343.95\" style=\"stroke: #383838; stroke-width: 1.0;\"/><text fill=\"#000000\" font-family=\"sans-serif\" font-size=\"13\" lengthAdjust=\"spacingAndGlyphs\" textLength=\"64\" x=\"340\" y=\"310.0669\">«depend»</text></a><!--MD5=[c5e8897d989ce984f93528998a7150fe]\n",
       "link E8 to E6--><a href=\"psysml:aa53d009-eedf-4466-a7b8-b270a2d13479\" target=\"_top\" title=\"psysml:aa53d009-eedf-4466-a7b8-b270a2d13479\" xlink:actuate=\"onRequest\" xlink:href=\"psysml:aa53d009-eedf-4466-a7b8-b270a2d13479\" xlink:show=\"new\" xlink:title=\"psysml:aa53d009-eedf-4466-a7b8-b270a2d13479\" xlink:type=\"simple\"><path d=\"M89.42,133.6 C79.35,142.68 69.37,154.11 64,167 C58.5,180.2 58.66,195.94 60.54,209.38 \" fill=\"none\" id=\"E8-&gt;E6\" style=\"stroke: #383838; stroke-width: 1.0; stroke-dasharray: 7.0,7.0;\"/><polygon fill=\"#383838\" points=\"61.9,217.4,63.517,209.0104,57.6018,210.0159,61.9,217.4\" style=\"stroke: #383838; stroke-width: 1.0;\"/><text fill=\"#000000\" font-family=\"sans-serif\" font-size=\"13\" lengthAdjust=\"spacingAndGlyphs\" textLength=\"64\" x=\"65\" y=\"180.0669\">«depend»</text></a><!--MD5=[bfa3c8b0d15052fdf50ae9310b491027]\n",
       "link E8 to E7--><a href=\"psysml:aa53d009-eedf-4466-a7b8-b270a2d13479\" target=\"_top\" title=\"psysml:aa53d009-eedf-4466-a7b8-b270a2d13479\" xlink:actuate=\"onRequest\" xlink:href=\"psysml:aa53d009-eedf-4466-a7b8-b270a2d13479\" xlink:show=\"new\" xlink:title=\"psysml:aa53d009-eedf-4466-a7b8-b270a2d13479\" xlink:type=\"simple\"><path d=\"M129.28,133.5 C138.17,154.57 151.64,186.5 161.47,209.81 \" fill=\"none\" id=\"E8-&gt;E7\" style=\"stroke: #383838; stroke-width: 1.0; stroke-dasharray: 7.0,7.0;\"/><polygon fill=\"#383838\" points=\"164.66,217.35,164.3241,208.8126,158.7933,211.1385,164.66,217.35\" style=\"stroke: #383838; stroke-width: 1.0;\"/><text fill=\"#000000\" font-family=\"sans-serif\" font-size=\"13\" lengthAdjust=\"spacingAndGlyphs\" textLength=\"64\" x=\"151\" y=\"180.0669\">«depend»</text></a><!--MD5=[973489bd7a54f002fa70b620a4887471]\n",
       "@startuml\r\n",
       "top to bottom direction\r\n",
       "skinparam monochrome true\r\n",
       "skinparam classbackgroundcolor white\r\n",
       "skinparam shadowing false\r\n",
       "skinparam wrapWidth 300\r\n",
       "hide circle\r\n",
       "\r\n",
       "package \"DependencyTest\" as E1  [[psysml:79533e77-94c2-4bae-8455-1b4d9ad0ac19 ]]  {\r\n",
       "package \"System\" as E2  [[psysml:aa959c9d-de71-4dee-a328-dce50e2c2738 ]]  {\r\n",
       "package \"Application Layer\" as E3  [[psysml:c86dacee-9d76-4d53-8a53-8574653b1f4e ]]  {\r\n",
       "}\r\n",
       "package \"Service Layer\" as E4  [[psysml:1c23a4b2-35e2-4e8a-96b6-0c0eddc8acf9 ]]  {\r\n",
       "}\r\n",
       "package \"Data Layer\" as E5  [[psysml:a642c0ba-468c-4345-a41b-ed6906c58c2e ]]  {\r\n",
       "}\r\n",
       "}\r\n",
       "comp usage \"x \" as E6  <<(T,blue) attribute>> [[psysml:002f54b6-1019-4822-b88b-c9a615e25b28 ]] {\r\n",
       "}\r\n",
       "comp usage \"y \" as E7  <<(T,blue) attribute>> [[psysml:5e659b03-2baa-4472-976b-b868f73bcda1 ]] {\r\n",
       "}\r\n",
       "comp usage \"z \" as E8  <<(T,blue) attribute>> [[psysml:17862b5a-aa19-4a09-bb5d-84a4c59b96ac ]] {\r\n",
       "}\r\n",
       "}\r\n",
       "E3 ..>> E4 [[psysml:e08fe20c-326f-4bf4-bdb1-9df0382c82e4 ]] : <<depend>>\r\n",
       "E4 ..>> E5 [[psysml:3bcf17b2-ef7a-4ff9-b082-cb17e1124f6a ]] : <<depend>>\r\n",
       "E8 ..>> E6 [[psysml:aa53d009-eedf-4466-a7b8-b270a2d13479 ]] : <<depend>>\r\n",
       "E8 ..>> E7 [[psysml:aa53d009-eedf-4466-a7b8-b270a2d13479 ]] : <<depend>>\r\n",
       "@enduml\r\n",
       "\n",
       "PlantUML version 1.2020.13(Sat Jun 13 12:26:38 UTC 2020)\n",
       "(EPL source distribution)\n",
       "Java Runtime: OpenJDK Runtime Environment\n",
       "JVM: OpenJDK 64-Bit Server VM\n",
       "Default Encoding: UTF-8\n",
       "Language: en\n",
       "Country: null\n",
       "--></g></svg>"
      ]
     },
     "execution_count": 50,
     "metadata": {},
     "output_type": "execute_result"
    }
   ],
   "source": [
    "%viz --style=\"TB\" --view=\"MIXED\" \"DependencyTest\""
   ]
  },
  {
   "cell_type": "code",
   "execution_count": 51,
   "id": "21e042b4",
   "metadata": {
    "execution": {
     "iopub.execute_input": "2021-12-15T15:15:22.725206Z",
     "iopub.status.busy": "2021-12-15T15:15:22.724818Z",
     "iopub.status.idle": "2021-12-15T15:15:22.756757Z",
     "shell.execute_reply": "2021-12-15T15:15:22.756416Z"
    }
   },
   "outputs": [
    {
     "data": {
      "image/svg+xml": [
       "<?xml version=\"1.0\" encoding=\"UTF-8\" standalone=\"no\"?><svg xmlns=\"http://www.w3.org/2000/svg\" xmlns:xlink=\"http://www.w3.org/1999/xlink\" contentScriptType=\"application/ecmascript\" contentStyleType=\"text/css\" height=\"449px\" preserveAspectRatio=\"none\" style=\"width:469px;height:449px;\" version=\"1.1\" viewBox=\"0 0 469 449\" width=\"469px\" zoomAndPan=\"magnify\"><defs/><g><!--MD5=[fbc87193dbaf4d95561dea2c320d4a47]\n",
       "cluster E1--><a href=\"psysml:79533e77-94c2-4bae-8455-1b4d9ad0ac19\" target=\"_top\" title=\"psysml:79533e77-94c2-4bae-8455-1b4d9ad0ac19\" xlink:actuate=\"onRequest\" xlink:href=\"psysml:79533e77-94c2-4bae-8455-1b4d9ad0ac19\" xlink:show=\"new\" xlink:title=\"psysml:79533e77-94c2-4bae-8455-1b4d9ad0ac19\" xlink:type=\"simple\"><polygon fill=\"#FFFFFF\" points=\"16,6,142,6,149,28.2969,447,28.2969,447,437,16,437,16,6\" style=\"stroke: #000000; stroke-width: 1.5;\"/><line style=\"stroke: #000000; stroke-width: 1.5;\" x1=\"16\" x2=\"149\" y1=\"28.2969\" y2=\"28.2969\"/><text fill=\"#000000\" font-family=\"sans-serif\" font-size=\"14\" font-weight=\"bold\" lengthAdjust=\"spacingAndGlyphs\" textLength=\"120\" x=\"20\" y=\"20.9951\">DependencyTest</text></a><!--MD5=[e4f7fae6ed58524ba242bb0b0d3be6b7]\n",
       "cluster E2--><a href=\"psysml:aa959c9d-de71-4dee-a328-dce50e2c2738\" target=\"_top\" title=\"psysml:aa959c9d-de71-4dee-a328-dce50e2c2738\" xlink:actuate=\"onRequest\" xlink:href=\"psysml:aa959c9d-de71-4dee-a328-dce50e2c2738\" xlink:show=\"new\" xlink:title=\"psysml:aa959c9d-de71-4dee-a328-dce50e2c2738\" xlink:type=\"simple\"><polygon fill=\"#FFFFFF\" points=\"255,49,312,49,319,71.2969,423,71.2969,423,413,255,413,255,49\" style=\"stroke: #000000; stroke-width: 1.5;\"/><line style=\"stroke: #000000; stroke-width: 1.5;\" x1=\"255\" x2=\"319\" y1=\"71.2969\" y2=\"71.2969\"/><text fill=\"#000000\" font-family=\"sans-serif\" font-size=\"14\" font-weight=\"bold\" lengthAdjust=\"spacingAndGlyphs\" textLength=\"51\" x=\"259\" y=\"63.9951\">System</text></a><!--MD5=[60a26617385b1d2d0262a64233df1f8d]\n",
       "class E6--><a href=\"psysml:002f54b6-1019-4822-b88b-c9a615e25b28\" target=\"_top\" title=\"psysml:002f54b6-1019-4822-b88b-c9a615e25b28\" xlink:actuate=\"onRequest\" xlink:href=\"psysml:002f54b6-1019-4822-b88b-c9a615e25b28\" xlink:show=\"new\" xlink:title=\"psysml:002f54b6-1019-4822-b88b-c9a615e25b28\" xlink:type=\"simple\"><rect fill=\"#FFFFFF\" height=\"45.9375\" id=\"E6\" rx=\"10\" ry=\"10\" style=\"stroke: #383838; stroke-width: 1.5;\" width=\"71\" x=\"32.5\" y=\"217.5\"/><text fill=\"#000000\" font-family=\"sans-serif\" font-size=\"12\" font-style=\"italic\" lengthAdjust=\"spacingAndGlyphs\" textLength=\"69\" x=\"33.5\" y=\"233.6387\">«attribute»</text><text fill=\"#000000\" font-family=\"sans-serif\" font-size=\"12\" lengthAdjust=\"spacingAndGlyphs\" textLength=\"6\" x=\"63\" y=\"247.6074\">x</text><line style=\"stroke: #383838; stroke-width: 1.5;\" x1=\"33.5\" x2=\"102.5\" y1=\"255.4375\" y2=\"255.4375\"/></a><!--MD5=[2156ba9850f5573cc1fc38a6a4b2f02b]\n",
       "class E7--><a href=\"psysml:5e659b03-2baa-4472-976b-b868f73bcda1\" target=\"_top\" title=\"psysml:5e659b03-2baa-4472-976b-b868f73bcda1\" xlink:actuate=\"onRequest\" xlink:href=\"psysml:5e659b03-2baa-4472-976b-b868f73bcda1\" xlink:show=\"new\" xlink:title=\"psysml:5e659b03-2baa-4472-976b-b868f73bcda1\" xlink:type=\"simple\"><rect fill=\"#FFFFFF\" height=\"45.9375\" id=\"E7\" rx=\"10\" ry=\"10\" style=\"stroke: #383838; stroke-width: 1.5;\" width=\"71\" x=\"138.5\" y=\"217.5\"/><text fill=\"#000000\" font-family=\"sans-serif\" font-size=\"12\" font-style=\"italic\" lengthAdjust=\"spacingAndGlyphs\" textLength=\"69\" x=\"139.5\" y=\"233.6387\">«attribute»</text><text fill=\"#000000\" font-family=\"sans-serif\" font-size=\"12\" lengthAdjust=\"spacingAndGlyphs\" textLength=\"6\" x=\"169\" y=\"247.6074\">y</text><line style=\"stroke: #383838; stroke-width: 1.5;\" x1=\"139.5\" x2=\"208.5\" y1=\"255.4375\" y2=\"255.4375\"/></a><!--MD5=[b9389687b975829384b498ac4b7476b2]\n",
       "class E8--><a href=\"psysml:17862b5a-aa19-4a09-bb5d-84a4c59b96ac\" target=\"_top\" title=\"psysml:17862b5a-aa19-4a09-bb5d-84a4c59b96ac\" xlink:actuate=\"onRequest\" xlink:href=\"psysml:17862b5a-aa19-4a09-bb5d-84a4c59b96ac\" xlink:show=\"new\" xlink:title=\"psysml:17862b5a-aa19-4a09-bb5d-84a4c59b96ac\" xlink:type=\"simple\"><rect fill=\"#FFFFFF\" height=\"45.9375\" id=\"E8\" rx=\"10\" ry=\"10\" style=\"stroke: #383838; stroke-width: 1.5;\" width=\"71\" x=\"84.5\" y=\"87.5\"/><text fill=\"#000000\" font-family=\"sans-serif\" font-size=\"12\" font-style=\"italic\" lengthAdjust=\"spacingAndGlyphs\" textLength=\"69\" x=\"85.5\" y=\"103.6387\">«attribute»</text><text fill=\"#000000\" font-family=\"sans-serif\" font-size=\"12\" lengthAdjust=\"spacingAndGlyphs\" textLength=\"5\" x=\"115.5\" y=\"117.6074\">z</text><line style=\"stroke: #383838; stroke-width: 1.5;\" x1=\"85.5\" x2=\"154.5\" y1=\"125.4375\" y2=\"125.4375\"/></a><a href=\"psysml:c86dacee-9d76-4d53-8a53-8574653b1f4e\" target=\"_top\" title=\"psysml:c86dacee-9d76-4d53-8a53-8574653b1f4e\" xlink:actuate=\"onRequest\" xlink:href=\"psysml:c86dacee-9d76-4d53-8a53-8574653b1f4e\" xlink:show=\"new\" xlink:title=\"psysml:c86dacee-9d76-4d53-8a53-8574653b1f4e\" xlink:type=\"simple\"><polygon fill=\"#FFFFFF\" points=\"271.5,84,392.5,84,399.5,106.2969,406.5,106.2969,406.5,136.5938,271.5,136.5938,271.5,84\" style=\"stroke: #000000; stroke-width: 1.5;\"/><line style=\"stroke: #000000; stroke-width: 1.5;\" x1=\"271.5\" x2=\"399.5\" y1=\"106.2969\" y2=\"106.2969\"/><text fill=\"#000000\" font-family=\"sans-serif\" font-size=\"14\" font-weight=\"bold\" lengthAdjust=\"spacingAndGlyphs\" textLength=\"115\" x=\"275.5\" y=\"98.9951\">Application Layer</text></a><a href=\"psysml:1c23a4b2-35e2-4e8a-96b6-0c0eddc8acf9\" target=\"_top\" title=\"psysml:1c23a4b2-35e2-4e8a-96b6-0c0eddc8acf9\" xlink:actuate=\"onRequest\" xlink:href=\"psysml:1c23a4b2-35e2-4e8a-96b6-0c0eddc8acf9\" xlink:show=\"new\" xlink:title=\"psysml:1c23a4b2-35e2-4e8a-96b6-0c0eddc8acf9\" xlink:type=\"simple\"><polygon fill=\"#FFFFFF\" points=\"284,214,380,214,387,236.2969,394,236.2969,394,266.5938,284,266.5938,284,214\" style=\"stroke: #000000; stroke-width: 1.5;\"/><line style=\"stroke: #000000; stroke-width: 1.5;\" x1=\"284\" x2=\"387\" y1=\"236.2969\" y2=\"236.2969\"/><text fill=\"#000000\" font-family=\"sans-serif\" font-size=\"14\" font-weight=\"bold\" lengthAdjust=\"spacingAndGlyphs\" textLength=\"90\" x=\"288\" y=\"228.9951\">Service Layer</text></a><a href=\"psysml:a642c0ba-468c-4345-a41b-ed6906c58c2e\" target=\"_top\" title=\"psysml:a642c0ba-468c-4345-a41b-ed6906c58c2e\" xlink:actuate=\"onRequest\" xlink:href=\"psysml:a642c0ba-468c-4345-a41b-ed6906c58c2e\" xlink:show=\"new\" xlink:title=\"psysml:a642c0ba-468c-4345-a41b-ed6906c58c2e\" xlink:type=\"simple\"><polygon fill=\"#FFFFFF\" points=\"293,344,371,344,378,366.2969,385,366.2969,385,396.5938,293,396.5938,293,344\" style=\"stroke: #000000; stroke-width: 1.5;\"/><line style=\"stroke: #000000; stroke-width: 1.5;\" x1=\"293\" x2=\"378\" y1=\"366.2969\" y2=\"366.2969\"/><text fill=\"#000000\" font-family=\"sans-serif\" font-size=\"14\" font-weight=\"bold\" lengthAdjust=\"spacingAndGlyphs\" textLength=\"72\" x=\"297\" y=\"358.9951\">Data Layer</text></a><!--MD5=[af87c684e3b0d8be13c1a698a818ef1e]\n",
       "link E3 to E4--><a href=\"psysml:e08fe20c-326f-4bf4-bdb1-9df0382c82e4\" target=\"_top\" title=\"psysml:e08fe20c-326f-4bf4-bdb1-9df0382c82e4\" xlink:actuate=\"onRequest\" xlink:href=\"psysml:e08fe20c-326f-4bf4-bdb1-9df0382c82e4\" xlink:show=\"new\" xlink:title=\"psysml:e08fe20c-326f-4bf4-bdb1-9df0382c82e4\" xlink:type=\"simple\"><path d=\"M339,137.12 C339,137.12 339,205.91 339,205.91 \" fill=\"none\" id=\"E3-&gt;E4\" style=\"stroke: #383838; stroke-width: 1.0; stroke-dasharray: 7.0,7.0;\"/><polygon fill=\"#383838\" points=\"339,213.91,342,205.91,336,205.91,339,213.91\" style=\"stroke: #383838; stroke-width: 1.0;\"/><text fill=\"#000000\" font-family=\"sans-serif\" font-size=\"13\" lengthAdjust=\"spacingAndGlyphs\" textLength=\"64\" x=\"340\" y=\"180.0669\">«depend»</text></a><!--MD5=[1b7591eae5389033d8d09a9d6721a717]\n",
       "link E4 to E5--><a href=\"psysml:3bcf17b2-ef7a-4ff9-b082-cb17e1124f6a\" target=\"_top\" title=\"psysml:3bcf17b2-ef7a-4ff9-b082-cb17e1124f6a\" xlink:actuate=\"onRequest\" xlink:href=\"psysml:3bcf17b2-ef7a-4ff9-b082-cb17e1124f6a\" xlink:show=\"new\" xlink:title=\"psysml:3bcf17b2-ef7a-4ff9-b082-cb17e1124f6a\" xlink:type=\"simple\"><path d=\"M339,267.12 C339,267.12 339,335.91 339,335.91 \" fill=\"none\" id=\"E4-&gt;E5\" style=\"stroke: #383838; stroke-width: 1.0; stroke-dasharray: 7.0,7.0;\"/><polygon fill=\"#383838\" points=\"339,343.91,342,335.91,336,335.91,339,343.91\" style=\"stroke: #383838; stroke-width: 1.0;\"/><text fill=\"#000000\" font-family=\"sans-serif\" font-size=\"13\" lengthAdjust=\"spacingAndGlyphs\" textLength=\"64\" x=\"340\" y=\"310.0669\">«depend»</text></a><!--MD5=[c5e8897d989ce984f93528998a7150fe]\n",
       "link E8 to E6--><a href=\"psysml:aa53d009-eedf-4466-a7b8-b270a2d13479\" target=\"_top\" title=\"psysml:aa53d009-eedf-4466-a7b8-b270a2d13479\" xlink:actuate=\"onRequest\" xlink:href=\"psysml:aa53d009-eedf-4466-a7b8-b270a2d13479\" xlink:show=\"new\" xlink:title=\"psysml:aa53d009-eedf-4466-a7b8-b270a2d13479\" xlink:type=\"simple\"><path d=\"M94,133.74 C94,133.74 94,209.46 94,209.46 \" fill=\"none\" id=\"E8-&gt;E6\" style=\"stroke: #383838; stroke-width: 1.0; stroke-dasharray: 7.0,7.0;\"/><polygon fill=\"#383838\" points=\"94,217.46,97,209.46,91,209.46,94,217.46\" style=\"stroke: #383838; stroke-width: 1.0;\"/><text fill=\"#000000\" font-family=\"sans-serif\" font-size=\"13\" lengthAdjust=\"spacingAndGlyphs\" textLength=\"64\" x=\"68\" y=\"180.0669\">«depend»</text></a><!--MD5=[bfa3c8b0d15052fdf50ae9310b491027]\n",
       "link E8 to E7--><a href=\"psysml:aa53d009-eedf-4466-a7b8-b270a2d13479\" target=\"_top\" title=\"psysml:aa53d009-eedf-4466-a7b8-b270a2d13479\" xlink:actuate=\"onRequest\" xlink:href=\"psysml:aa53d009-eedf-4466-a7b8-b270a2d13479\" xlink:show=\"new\" xlink:title=\"psysml:aa53d009-eedf-4466-a7b8-b270a2d13479\" xlink:type=\"simple\"><path d=\"M147,133.74 C147,133.74 147,209.46 147,209.46 \" fill=\"none\" id=\"E8-&gt;E7\" style=\"stroke: #383838; stroke-width: 1.0; stroke-dasharray: 7.0,7.0;\"/><polygon fill=\"#383838\" points=\"147,217.46,150,209.46,144,209.46,147,217.46\" style=\"stroke: #383838; stroke-width: 1.0;\"/><text fill=\"#000000\" font-family=\"sans-serif\" font-size=\"13\" lengthAdjust=\"spacingAndGlyphs\" textLength=\"64\" x=\"174\" y=\"180.0669\">«depend»</text></a><!--MD5=[7e9350db52cd76132857cea2f890ee5b]\n",
       "@startuml\r\n",
       "skinparam linetype ortho\r\n",
       "skinparam monochrome true\r\n",
       "skinparam classbackgroundcolor white\r\n",
       "skinparam shadowing false\r\n",
       "skinparam wrapWidth 300\r\n",
       "hide circle\r\n",
       "\r\n",
       "package \"DependencyTest\" as E1  [[psysml:79533e77-94c2-4bae-8455-1b4d9ad0ac19 ]]  {\r\n",
       "package \"System\" as E2  [[psysml:aa959c9d-de71-4dee-a328-dce50e2c2738 ]]  {\r\n",
       "package \"Application Layer\" as E3  [[psysml:c86dacee-9d76-4d53-8a53-8574653b1f4e ]]  {\r\n",
       "}\r\n",
       "package \"Service Layer\" as E4  [[psysml:1c23a4b2-35e2-4e8a-96b6-0c0eddc8acf9 ]]  {\r\n",
       "}\r\n",
       "package \"Data Layer\" as E5  [[psysml:a642c0ba-468c-4345-a41b-ed6906c58c2e ]]  {\r\n",
       "}\r\n",
       "}\r\n",
       "comp usage \"x \" as E6  <<(T,blue) attribute>> [[psysml:002f54b6-1019-4822-b88b-c9a615e25b28 ]] {\r\n",
       "}\r\n",
       "comp usage \"y \" as E7  <<(T,blue) attribute>> [[psysml:5e659b03-2baa-4472-976b-b868f73bcda1 ]] {\r\n",
       "}\r\n",
       "comp usage \"z \" as E8  <<(T,blue) attribute>> [[psysml:17862b5a-aa19-4a09-bb5d-84a4c59b96ac ]] {\r\n",
       "}\r\n",
       "}\r\n",
       "E3 ..>> E4 [[psysml:e08fe20c-326f-4bf4-bdb1-9df0382c82e4 ]] : <<depend>>\r\n",
       "E4 ..>> E5 [[psysml:3bcf17b2-ef7a-4ff9-b082-cb17e1124f6a ]] : <<depend>>\r\n",
       "E8 ..>> E6 [[psysml:aa53d009-eedf-4466-a7b8-b270a2d13479 ]] : <<depend>>\r\n",
       "E8 ..>> E7 [[psysml:aa53d009-eedf-4466-a7b8-b270a2d13479 ]] : <<depend>>\r\n",
       "@enduml\r\n",
       "\n",
       "PlantUML version 1.2020.13(Sat Jun 13 12:26:38 UTC 2020)\n",
       "(EPL source distribution)\n",
       "Java Runtime: OpenJDK Runtime Environment\n",
       "JVM: OpenJDK 64-Bit Server VM\n",
       "Default Encoding: UTF-8\n",
       "Language: en\n",
       "Country: null\n",
       "--></g></svg>"
      ]
     },
     "execution_count": 51,
     "metadata": {},
     "output_type": "execute_result"
    }
   ],
   "source": [
    "%viz --style=\"ORTHOLINE\" --view=\"Default\" \"DependencyTest\""
   ]
  },
  {
   "cell_type": "code",
   "execution_count": 52,
   "id": "7e5e697e",
   "metadata": {
    "execution": {
     "iopub.execute_input": "2021-12-15T15:15:22.805827Z",
     "iopub.status.busy": "2021-12-15T15:15:22.805441Z",
     "iopub.status.idle": "2021-12-15T15:15:22.835827Z",
     "shell.execute_reply": "2021-12-15T15:15:22.835474Z"
    }
   },
   "outputs": [
    {
     "data": {
      "image/svg+xml": [
       "<?xml version=\"1.0\" encoding=\"UTF-8\" standalone=\"no\"?><svg xmlns=\"http://www.w3.org/2000/svg\" xmlns:xlink=\"http://www.w3.org/1999/xlink\" contentScriptType=\"application/ecmascript\" contentStyleType=\"text/css\" height=\"449px\" preserveAspectRatio=\"none\" style=\"width:469px;height:449px;\" version=\"1.1\" viewBox=\"0 0 469 449\" width=\"469px\" zoomAndPan=\"magnify\"><defs/><g><!--MD5=[fbc87193dbaf4d95561dea2c320d4a47]\n",
       "cluster E1--><a href=\"psysml:79533e77-94c2-4bae-8455-1b4d9ad0ac19\" target=\"_top\" title=\"psysml:79533e77-94c2-4bae-8455-1b4d9ad0ac19\" xlink:actuate=\"onRequest\" xlink:href=\"psysml:79533e77-94c2-4bae-8455-1b4d9ad0ac19\" xlink:show=\"new\" xlink:title=\"psysml:79533e77-94c2-4bae-8455-1b4d9ad0ac19\" xlink:type=\"simple\"><polygon fill=\"#FFFFFF\" points=\"16,6,142,6,149,28.2969,447,28.2969,447,437,16,437,16,6\" style=\"stroke: #000000; stroke-width: 1.5;\"/><line style=\"stroke: #000000; stroke-width: 1.5;\" x1=\"16\" x2=\"149\" y1=\"28.2969\" y2=\"28.2969\"/><text fill=\"#000000\" font-family=\"sans-serif\" font-size=\"14\" font-weight=\"bold\" lengthAdjust=\"spacingAndGlyphs\" textLength=\"120\" x=\"20\" y=\"20.9951\">DependencyTest</text></a><!--MD5=[e4f7fae6ed58524ba242bb0b0d3be6b7]\n",
       "cluster E2--><a href=\"psysml:aa959c9d-de71-4dee-a328-dce50e2c2738\" target=\"_top\" title=\"psysml:aa959c9d-de71-4dee-a328-dce50e2c2738\" xlink:actuate=\"onRequest\" xlink:href=\"psysml:aa959c9d-de71-4dee-a328-dce50e2c2738\" xlink:show=\"new\" xlink:title=\"psysml:aa959c9d-de71-4dee-a328-dce50e2c2738\" xlink:type=\"simple\"><polygon fill=\"#FFFFFF\" points=\"255,49,312,49,319,71.2969,423,71.2969,423,413,255,413,255,49\" style=\"stroke: #000000; stroke-width: 1.5;\"/><line style=\"stroke: #000000; stroke-width: 1.5;\" x1=\"255\" x2=\"319\" y1=\"71.2969\" y2=\"71.2969\"/><text fill=\"#000000\" font-family=\"sans-serif\" font-size=\"14\" font-weight=\"bold\" lengthAdjust=\"spacingAndGlyphs\" textLength=\"51\" x=\"259\" y=\"63.9951\">System</text></a><!--MD5=[60a26617385b1d2d0262a64233df1f8d]\n",
       "class E6--><a href=\"psysml:002f54b6-1019-4822-b88b-c9a615e25b28\" target=\"_top\" title=\"psysml:002f54b6-1019-4822-b88b-c9a615e25b28\" xlink:actuate=\"onRequest\" xlink:href=\"psysml:002f54b6-1019-4822-b88b-c9a615e25b28\" xlink:show=\"new\" xlink:title=\"psysml:002f54b6-1019-4822-b88b-c9a615e25b28\" xlink:type=\"simple\"><rect fill=\"#FFFFFF\" height=\"45.9375\" id=\"E6\" rx=\"10\" ry=\"10\" style=\"stroke: #383838; stroke-width: 1.5;\" width=\"71\" x=\"32.5\" y=\"217.5\"/><text fill=\"#000000\" font-family=\"sans-serif\" font-size=\"12\" font-style=\"italic\" lengthAdjust=\"spacingAndGlyphs\" textLength=\"69\" x=\"33.5\" y=\"233.6387\">«attribute»</text><text fill=\"#000000\" font-family=\"sans-serif\" font-size=\"12\" lengthAdjust=\"spacingAndGlyphs\" textLength=\"6\" x=\"63\" y=\"247.6074\">x</text><line style=\"stroke: #383838; stroke-width: 1.5;\" x1=\"33.5\" x2=\"102.5\" y1=\"255.4375\" y2=\"255.4375\"/></a><!--MD5=[2156ba9850f5573cc1fc38a6a4b2f02b]\n",
       "class E7--><a href=\"psysml:5e659b03-2baa-4472-976b-b868f73bcda1\" target=\"_top\" title=\"psysml:5e659b03-2baa-4472-976b-b868f73bcda1\" xlink:actuate=\"onRequest\" xlink:href=\"psysml:5e659b03-2baa-4472-976b-b868f73bcda1\" xlink:show=\"new\" xlink:title=\"psysml:5e659b03-2baa-4472-976b-b868f73bcda1\" xlink:type=\"simple\"><rect fill=\"#FFFFFF\" height=\"45.9375\" id=\"E7\" rx=\"10\" ry=\"10\" style=\"stroke: #383838; stroke-width: 1.5;\" width=\"71\" x=\"138.5\" y=\"217.5\"/><text fill=\"#000000\" font-family=\"sans-serif\" font-size=\"12\" font-style=\"italic\" lengthAdjust=\"spacingAndGlyphs\" textLength=\"69\" x=\"139.5\" y=\"233.6387\">«attribute»</text><text fill=\"#000000\" font-family=\"sans-serif\" font-size=\"12\" lengthAdjust=\"spacingAndGlyphs\" textLength=\"6\" x=\"169\" y=\"247.6074\">y</text><line style=\"stroke: #383838; stroke-width: 1.5;\" x1=\"139.5\" x2=\"208.5\" y1=\"255.4375\" y2=\"255.4375\"/></a><!--MD5=[b9389687b975829384b498ac4b7476b2]\n",
       "class E8--><a href=\"psysml:17862b5a-aa19-4a09-bb5d-84a4c59b96ac\" target=\"_top\" title=\"psysml:17862b5a-aa19-4a09-bb5d-84a4c59b96ac\" xlink:actuate=\"onRequest\" xlink:href=\"psysml:17862b5a-aa19-4a09-bb5d-84a4c59b96ac\" xlink:show=\"new\" xlink:title=\"psysml:17862b5a-aa19-4a09-bb5d-84a4c59b96ac\" xlink:type=\"simple\"><rect fill=\"#FFFFFF\" height=\"45.9375\" id=\"E8\" rx=\"10\" ry=\"10\" style=\"stroke: #383838; stroke-width: 1.5;\" width=\"71\" x=\"84.5\" y=\"87.5\"/><text fill=\"#000000\" font-family=\"sans-serif\" font-size=\"12\" font-style=\"italic\" lengthAdjust=\"spacingAndGlyphs\" textLength=\"69\" x=\"85.5\" y=\"103.6387\">«attribute»</text><text fill=\"#000000\" font-family=\"sans-serif\" font-size=\"12\" lengthAdjust=\"spacingAndGlyphs\" textLength=\"5\" x=\"115.5\" y=\"117.6074\">z</text><line style=\"stroke: #383838; stroke-width: 1.5;\" x1=\"85.5\" x2=\"154.5\" y1=\"125.4375\" y2=\"125.4375\"/></a><a href=\"psysml:c86dacee-9d76-4d53-8a53-8574653b1f4e\" target=\"_top\" title=\"psysml:c86dacee-9d76-4d53-8a53-8574653b1f4e\" xlink:actuate=\"onRequest\" xlink:href=\"psysml:c86dacee-9d76-4d53-8a53-8574653b1f4e\" xlink:show=\"new\" xlink:title=\"psysml:c86dacee-9d76-4d53-8a53-8574653b1f4e\" xlink:type=\"simple\"><polygon fill=\"#FFFFFF\" points=\"271.5,84,392.5,84,399.5,106.2969,406.5,106.2969,406.5,136.5938,271.5,136.5938,271.5,84\" style=\"stroke: #000000; stroke-width: 1.5;\"/><line style=\"stroke: #000000; stroke-width: 1.5;\" x1=\"271.5\" x2=\"399.5\" y1=\"106.2969\" y2=\"106.2969\"/><text fill=\"#000000\" font-family=\"sans-serif\" font-size=\"14\" font-weight=\"bold\" lengthAdjust=\"spacingAndGlyphs\" textLength=\"115\" x=\"275.5\" y=\"98.9951\">Application Layer</text></a><a href=\"psysml:1c23a4b2-35e2-4e8a-96b6-0c0eddc8acf9\" target=\"_top\" title=\"psysml:1c23a4b2-35e2-4e8a-96b6-0c0eddc8acf9\" xlink:actuate=\"onRequest\" xlink:href=\"psysml:1c23a4b2-35e2-4e8a-96b6-0c0eddc8acf9\" xlink:show=\"new\" xlink:title=\"psysml:1c23a4b2-35e2-4e8a-96b6-0c0eddc8acf9\" xlink:type=\"simple\"><polygon fill=\"#FFFFFF\" points=\"284,214,380,214,387,236.2969,394,236.2969,394,266.5938,284,266.5938,284,214\" style=\"stroke: #000000; stroke-width: 1.5;\"/><line style=\"stroke: #000000; stroke-width: 1.5;\" x1=\"284\" x2=\"387\" y1=\"236.2969\" y2=\"236.2969\"/><text fill=\"#000000\" font-family=\"sans-serif\" font-size=\"14\" font-weight=\"bold\" lengthAdjust=\"spacingAndGlyphs\" textLength=\"90\" x=\"288\" y=\"228.9951\">Service Layer</text></a><a href=\"psysml:a642c0ba-468c-4345-a41b-ed6906c58c2e\" target=\"_top\" title=\"psysml:a642c0ba-468c-4345-a41b-ed6906c58c2e\" xlink:actuate=\"onRequest\" xlink:href=\"psysml:a642c0ba-468c-4345-a41b-ed6906c58c2e\" xlink:show=\"new\" xlink:title=\"psysml:a642c0ba-468c-4345-a41b-ed6906c58c2e\" xlink:type=\"simple\"><polygon fill=\"#FFFFFF\" points=\"293,344,371,344,378,366.2969,385,366.2969,385,396.5938,293,396.5938,293,344\" style=\"stroke: #000000; stroke-width: 1.5;\"/><line style=\"stroke: #000000; stroke-width: 1.5;\" x1=\"293\" x2=\"378\" y1=\"366.2969\" y2=\"366.2969\"/><text fill=\"#000000\" font-family=\"sans-serif\" font-size=\"14\" font-weight=\"bold\" lengthAdjust=\"spacingAndGlyphs\" textLength=\"72\" x=\"297\" y=\"358.9951\">Data Layer</text></a><!--MD5=[af87c684e3b0d8be13c1a698a818ef1e]\n",
       "link E3 to E4--><a href=\"psysml:e08fe20c-326f-4bf4-bdb1-9df0382c82e4\" target=\"_top\" title=\"psysml:e08fe20c-326f-4bf4-bdb1-9df0382c82e4\" xlink:actuate=\"onRequest\" xlink:href=\"psysml:e08fe20c-326f-4bf4-bdb1-9df0382c82e4\" xlink:show=\"new\" xlink:title=\"psysml:e08fe20c-326f-4bf4-bdb1-9df0382c82e4\" xlink:type=\"simple\"><path d=\"M339,137.12 C339,137.12 339,205.91 339,205.91 \" fill=\"none\" id=\"E3-&gt;E4\" style=\"stroke: #383838; stroke-width: 1.0; stroke-dasharray: 7.0,7.0;\"/><polygon fill=\"#383838\" points=\"339,213.91,342,205.91,336,205.91,339,213.91\" style=\"stroke: #383838; stroke-width: 1.0;\"/><text fill=\"#000000\" font-family=\"sans-serif\" font-size=\"13\" lengthAdjust=\"spacingAndGlyphs\" textLength=\"64\" x=\"340\" y=\"180.0669\">«depend»</text></a><!--MD5=[1b7591eae5389033d8d09a9d6721a717]\n",
       "link E4 to E5--><a href=\"psysml:3bcf17b2-ef7a-4ff9-b082-cb17e1124f6a\" target=\"_top\" title=\"psysml:3bcf17b2-ef7a-4ff9-b082-cb17e1124f6a\" xlink:actuate=\"onRequest\" xlink:href=\"psysml:3bcf17b2-ef7a-4ff9-b082-cb17e1124f6a\" xlink:show=\"new\" xlink:title=\"psysml:3bcf17b2-ef7a-4ff9-b082-cb17e1124f6a\" xlink:type=\"simple\"><path d=\"M339,267.12 C339,267.12 339,335.91 339,335.91 \" fill=\"none\" id=\"E4-&gt;E5\" style=\"stroke: #383838; stroke-width: 1.0; stroke-dasharray: 7.0,7.0;\"/><polygon fill=\"#383838\" points=\"339,343.91,342,335.91,336,335.91,339,343.91\" style=\"stroke: #383838; stroke-width: 1.0;\"/><text fill=\"#000000\" font-family=\"sans-serif\" font-size=\"13\" lengthAdjust=\"spacingAndGlyphs\" textLength=\"64\" x=\"340\" y=\"310.0669\">«depend»</text></a><!--MD5=[c5e8897d989ce984f93528998a7150fe]\n",
       "link E8 to E6--><a href=\"psysml:aa53d009-eedf-4466-a7b8-b270a2d13479\" target=\"_top\" title=\"psysml:aa53d009-eedf-4466-a7b8-b270a2d13479\" xlink:actuate=\"onRequest\" xlink:href=\"psysml:aa53d009-eedf-4466-a7b8-b270a2d13479\" xlink:show=\"new\" xlink:title=\"psysml:aa53d009-eedf-4466-a7b8-b270a2d13479\" xlink:type=\"simple\"><path d=\"M94,133.74 C94,133.74 94,209.46 94,209.46 \" fill=\"none\" id=\"E8-&gt;E6\" style=\"stroke: #383838; stroke-width: 1.0; stroke-dasharray: 7.0,7.0;\"/><polygon fill=\"#383838\" points=\"94,217.46,97,209.46,91,209.46,94,217.46\" style=\"stroke: #383838; stroke-width: 1.0;\"/><text fill=\"#000000\" font-family=\"sans-serif\" font-size=\"13\" lengthAdjust=\"spacingAndGlyphs\" textLength=\"64\" x=\"68\" y=\"180.0669\">«depend»</text></a><!--MD5=[bfa3c8b0d15052fdf50ae9310b491027]\n",
       "link E8 to E7--><a href=\"psysml:aa53d009-eedf-4466-a7b8-b270a2d13479\" target=\"_top\" title=\"psysml:aa53d009-eedf-4466-a7b8-b270a2d13479\" xlink:actuate=\"onRequest\" xlink:href=\"psysml:aa53d009-eedf-4466-a7b8-b270a2d13479\" xlink:show=\"new\" xlink:title=\"psysml:aa53d009-eedf-4466-a7b8-b270a2d13479\" xlink:type=\"simple\"><path d=\"M147,133.74 C147,133.74 147,209.46 147,209.46 \" fill=\"none\" id=\"E8-&gt;E7\" style=\"stroke: #383838; stroke-width: 1.0; stroke-dasharray: 7.0,7.0;\"/><polygon fill=\"#383838\" points=\"147,217.46,150,209.46,144,209.46,147,217.46\" style=\"stroke: #383838; stroke-width: 1.0;\"/><text fill=\"#000000\" font-family=\"sans-serif\" font-size=\"13\" lengthAdjust=\"spacingAndGlyphs\" textLength=\"64\" x=\"174\" y=\"180.0669\">«depend»</text></a><!--MD5=[7e9350db52cd76132857cea2f890ee5b]\n",
       "@startuml\r\n",
       "skinparam linetype ortho\r\n",
       "skinparam monochrome true\r\n",
       "skinparam classbackgroundcolor white\r\n",
       "skinparam shadowing false\r\n",
       "skinparam wrapWidth 300\r\n",
       "hide circle\r\n",
       "\r\n",
       "package \"DependencyTest\" as E1  [[psysml:79533e77-94c2-4bae-8455-1b4d9ad0ac19 ]]  {\r\n",
       "package \"System\" as E2  [[psysml:aa959c9d-de71-4dee-a328-dce50e2c2738 ]]  {\r\n",
       "package \"Application Layer\" as E3  [[psysml:c86dacee-9d76-4d53-8a53-8574653b1f4e ]]  {\r\n",
       "}\r\n",
       "package \"Service Layer\" as E4  [[psysml:1c23a4b2-35e2-4e8a-96b6-0c0eddc8acf9 ]]  {\r\n",
       "}\r\n",
       "package \"Data Layer\" as E5  [[psysml:a642c0ba-468c-4345-a41b-ed6906c58c2e ]]  {\r\n",
       "}\r\n",
       "}\r\n",
       "comp usage \"x \" as E6  <<(T,blue) attribute>> [[psysml:002f54b6-1019-4822-b88b-c9a615e25b28 ]] {\r\n",
       "}\r\n",
       "comp usage \"y \" as E7  <<(T,blue) attribute>> [[psysml:5e659b03-2baa-4472-976b-b868f73bcda1 ]] {\r\n",
       "}\r\n",
       "comp usage \"z \" as E8  <<(T,blue) attribute>> [[psysml:17862b5a-aa19-4a09-bb5d-84a4c59b96ac ]] {\r\n",
       "}\r\n",
       "}\r\n",
       "E3 ..>> E4 [[psysml:e08fe20c-326f-4bf4-bdb1-9df0382c82e4 ]] : <<depend>>\r\n",
       "E4 ..>> E5 [[psysml:3bcf17b2-ef7a-4ff9-b082-cb17e1124f6a ]] : <<depend>>\r\n",
       "E8 ..>> E6 [[psysml:aa53d009-eedf-4466-a7b8-b270a2d13479 ]] : <<depend>>\r\n",
       "E8 ..>> E7 [[psysml:aa53d009-eedf-4466-a7b8-b270a2d13479 ]] : <<depend>>\r\n",
       "@enduml\r\n",
       "\n",
       "PlantUML version 1.2020.13(Sat Jun 13 12:26:38 UTC 2020)\n",
       "(EPL source distribution)\n",
       "Java Runtime: OpenJDK Runtime Environment\n",
       "JVM: OpenJDK 64-Bit Server VM\n",
       "Default Encoding: UTF-8\n",
       "Language: en\n",
       "Country: null\n",
       "--></g></svg>"
      ]
     },
     "execution_count": 52,
     "metadata": {},
     "output_type": "execute_result"
    }
   ],
   "source": [
    "%viz --style=\"ORTHOLINE\" --view=\"Tree\" \"DependencyTest\""
   ]
  },
  {
   "cell_type": "code",
   "execution_count": 53,
   "id": "a8077bae",
   "metadata": {
    "execution": {
     "iopub.execute_input": "2021-12-15T15:15:22.884995Z",
     "iopub.status.busy": "2021-12-15T15:15:22.884606Z",
     "iopub.status.idle": "2021-12-15T15:15:22.892408Z",
     "shell.execute_reply": "2021-12-15T15:15:22.892030Z"
    }
   },
   "outputs": [
    {
     "data": {
      "image/svg+xml": [
       "<?xml version=\"1.0\" encoding=\"UTF-8\" standalone=\"no\"?><svg xmlns=\"http://www.w3.org/2000/svg\" xmlns:xlink=\"http://www.w3.org/1999/xlink\" contentScriptType=\"application/ecmascript\" contentStyleType=\"text/css\" height=\"12px\" preserveAspectRatio=\"none\" style=\"width:12px;height:12px;\" version=\"1.1\" viewBox=\"0 0 12 12\" width=\"12px\" zoomAndPan=\"magnify\"><defs/><g><!--MD5=[97d6f38768b311333d388e66b2b27985]\n",
       "@startuml\r\n",
       "skinparam linetype ortho\r\n",
       "skinparam monochrome true\r\n",
       "skinparam classbackgroundcolor white\r\n",
       "skinparam shadowing false\r\n",
       "skinparam wrapWidth 300\r\n",
       "hide circle\r\n",
       "\r\n",
       "@enduml\r\n",
       "\n",
       "PlantUML version 1.2020.13(Sat Jun 13 12:26:38 UTC 2020)\n",
       "(EPL source distribution)\n",
       "Java Runtime: OpenJDK Runtime Environment\n",
       "JVM: OpenJDK 64-Bit Server VM\n",
       "Default Encoding: UTF-8\n",
       "Language: en\n",
       "Country: null\n",
       "--></g></svg>"
      ]
     },
     "execution_count": 53,
     "metadata": {},
     "output_type": "execute_result"
    }
   ],
   "source": [
    "%viz --style=\"ORTHOLINE\" --view=\"State\" \"DependencyTest\""
   ]
  },
  {
   "cell_type": "code",
   "execution_count": 54,
   "id": "a7b6c6ea",
   "metadata": {
    "execution": {
     "iopub.execute_input": "2021-12-15T15:15:22.939921Z",
     "iopub.status.busy": "2021-12-15T15:15:22.939495Z",
     "iopub.status.idle": "2021-12-15T15:15:22.972695Z",
     "shell.execute_reply": "2021-12-15T15:15:22.972261Z"
    }
   },
   "outputs": [
    {
     "data": {
      "image/svg+xml": [
       "<?xml version=\"1.0\" encoding=\"UTF-8\" standalone=\"no\"?><svg xmlns=\"http://www.w3.org/2000/svg\" xmlns:xlink=\"http://www.w3.org/1999/xlink\" contentScriptType=\"application/ecmascript\" contentStyleType=\"text/css\" height=\"361px\" preserveAspectRatio=\"none\" style=\"width:469px;height:361px;\" version=\"1.1\" viewBox=\"0 0 469 361\" width=\"469px\" zoomAndPan=\"magnify\"><defs/><g><!--MD5=[fbc87193dbaf4d95561dea2c320d4a47]\n",
       "cluster E1--><a href=\"psysml:79533e77-94c2-4bae-8455-1b4d9ad0ac19\" target=\"_top\" title=\"psysml:79533e77-94c2-4bae-8455-1b4d9ad0ac19\" xlink:actuate=\"onRequest\" xlink:href=\"psysml:79533e77-94c2-4bae-8455-1b4d9ad0ac19\" xlink:show=\"new\" xlink:title=\"psysml:79533e77-94c2-4bae-8455-1b4d9ad0ac19\" xlink:type=\"simple\"><polygon fill=\"#FFFFFF\" points=\"16,6,142,6,149,28.2969,447,28.2969,447,349,16,349,16,6\" style=\"stroke: #000000; stroke-width: 1.5;\"/><line style=\"stroke: #000000; stroke-width: 1.5;\" x1=\"16\" x2=\"149\" y1=\"28.2969\" y2=\"28.2969\"/><text fill=\"#000000\" font-family=\"sans-serif\" font-size=\"14\" font-weight=\"bold\" lengthAdjust=\"spacingAndGlyphs\" textLength=\"120\" x=\"20\" y=\"20.9951\">DependencyTest</text></a><!--MD5=[e4f7fae6ed58524ba242bb0b0d3be6b7]\n",
       "cluster E2--><a href=\"psysml:aa959c9d-de71-4dee-a328-dce50e2c2738\" target=\"_top\" title=\"psysml:aa959c9d-de71-4dee-a328-dce50e2c2738\" xlink:actuate=\"onRequest\" xlink:href=\"psysml:aa959c9d-de71-4dee-a328-dce50e2c2738\" xlink:show=\"new\" xlink:title=\"psysml:aa959c9d-de71-4dee-a328-dce50e2c2738\" xlink:type=\"simple\"><polygon fill=\"#FFFFFF\" points=\"255,49,312,49,319,71.2969,423,71.2969,423,325,255,325,255,49\" style=\"stroke: #000000; stroke-width: 1.5;\"/><line style=\"stroke: #000000; stroke-width: 1.5;\" x1=\"255\" x2=\"319\" y1=\"71.2969\" y2=\"71.2969\"/><text fill=\"#000000\" font-family=\"sans-serif\" font-size=\"14\" font-weight=\"bold\" lengthAdjust=\"spacingAndGlyphs\" textLength=\"51\" x=\"259\" y=\"63.9951\">System</text></a><!--MD5=[60a26617385b1d2d0262a64233df1f8d]\n",
       "class E6--><a href=\"psysml:002f54b6-1019-4822-b88b-c9a615e25b28\" target=\"_top\" title=\"psysml:002f54b6-1019-4822-b88b-c9a615e25b28\" xlink:actuate=\"onRequest\" xlink:href=\"psysml:002f54b6-1019-4822-b88b-c9a615e25b28\" xlink:show=\"new\" xlink:title=\"psysml:002f54b6-1019-4822-b88b-c9a615e25b28\" xlink:type=\"simple\"><rect fill=\"#FFFFFF\" height=\"45.9375\" id=\"E6\" rx=\"10\" ry=\"10\" style=\"stroke: #383838; stroke-width: 1.5;\" width=\"71\" x=\"32.5\" y=\"173.5\"/><text fill=\"#000000\" font-family=\"sans-serif\" font-size=\"12\" font-style=\"italic\" lengthAdjust=\"spacingAndGlyphs\" textLength=\"69\" x=\"33.5\" y=\"189.6387\">«attribute»</text><text fill=\"#000000\" font-family=\"sans-serif\" font-size=\"12\" lengthAdjust=\"spacingAndGlyphs\" textLength=\"6\" x=\"63\" y=\"203.6074\">x</text><line style=\"stroke: #383838; stroke-width: 1.5;\" x1=\"33.5\" x2=\"102.5\" y1=\"211.4375\" y2=\"211.4375\"/></a><!--MD5=[2156ba9850f5573cc1fc38a6a4b2f02b]\n",
       "class E7--><a href=\"psysml:5e659b03-2baa-4472-976b-b868f73bcda1\" target=\"_top\" title=\"psysml:5e659b03-2baa-4472-976b-b868f73bcda1\" xlink:actuate=\"onRequest\" xlink:href=\"psysml:5e659b03-2baa-4472-976b-b868f73bcda1\" xlink:show=\"new\" xlink:title=\"psysml:5e659b03-2baa-4472-976b-b868f73bcda1\" xlink:type=\"simple\"><rect fill=\"#FFFFFF\" height=\"45.9375\" id=\"E7\" rx=\"10\" ry=\"10\" style=\"stroke: #383838; stroke-width: 1.5;\" width=\"71\" x=\"138.5\" y=\"173.5\"/><text fill=\"#000000\" font-family=\"sans-serif\" font-size=\"12\" font-style=\"italic\" lengthAdjust=\"spacingAndGlyphs\" textLength=\"69\" x=\"139.5\" y=\"189.6387\">«attribute»</text><text fill=\"#000000\" font-family=\"sans-serif\" font-size=\"12\" lengthAdjust=\"spacingAndGlyphs\" textLength=\"6\" x=\"169\" y=\"203.6074\">y</text><line style=\"stroke: #383838; stroke-width: 1.5;\" x1=\"139.5\" x2=\"208.5\" y1=\"211.4375\" y2=\"211.4375\"/></a><!--MD5=[b9389687b975829384b498ac4b7476b2]\n",
       "class E8--><a href=\"psysml:17862b5a-aa19-4a09-bb5d-84a4c59b96ac\" target=\"_top\" title=\"psysml:17862b5a-aa19-4a09-bb5d-84a4c59b96ac\" xlink:actuate=\"onRequest\" xlink:href=\"psysml:17862b5a-aa19-4a09-bb5d-84a4c59b96ac\" xlink:show=\"new\" xlink:title=\"psysml:17862b5a-aa19-4a09-bb5d-84a4c59b96ac\" xlink:type=\"simple\"><rect fill=\"#FFFFFF\" height=\"45.9375\" id=\"E8\" rx=\"10\" ry=\"10\" style=\"stroke: #383838; stroke-width: 1.5;\" width=\"71\" x=\"84.5\" y=\"87.5\"/><text fill=\"#000000\" font-family=\"sans-serif\" font-size=\"12\" font-style=\"italic\" lengthAdjust=\"spacingAndGlyphs\" textLength=\"69\" x=\"85.5\" y=\"103.6387\">«attribute»</text><text fill=\"#000000\" font-family=\"sans-serif\" font-size=\"12\" lengthAdjust=\"spacingAndGlyphs\" textLength=\"5\" x=\"115.5\" y=\"117.6074\">z</text><line style=\"stroke: #383838; stroke-width: 1.5;\" x1=\"85.5\" x2=\"154.5\" y1=\"125.4375\" y2=\"125.4375\"/></a><a href=\"psysml:c86dacee-9d76-4d53-8a53-8574653b1f4e\" target=\"_top\" title=\"psysml:c86dacee-9d76-4d53-8a53-8574653b1f4e\" xlink:actuate=\"onRequest\" xlink:href=\"psysml:c86dacee-9d76-4d53-8a53-8574653b1f4e\" xlink:show=\"new\" xlink:title=\"psysml:c86dacee-9d76-4d53-8a53-8574653b1f4e\" xlink:type=\"simple\"><polygon fill=\"#FFFFFF\" points=\"271.5,84,392.5,84,399.5,106.2969,406.5,106.2969,406.5,136.5938,271.5,136.5938,271.5,84\" style=\"stroke: #000000; stroke-width: 1.5;\"/><line style=\"stroke: #000000; stroke-width: 1.5;\" x1=\"271.5\" x2=\"399.5\" y1=\"106.2969\" y2=\"106.2969\"/><text fill=\"#000000\" font-family=\"sans-serif\" font-size=\"14\" font-weight=\"bold\" lengthAdjust=\"spacingAndGlyphs\" textLength=\"115\" x=\"275.5\" y=\"98.9951\">Application Layer</text></a><a href=\"psysml:1c23a4b2-35e2-4e8a-96b6-0c0eddc8acf9\" target=\"_top\" title=\"psysml:1c23a4b2-35e2-4e8a-96b6-0c0eddc8acf9\" xlink:actuate=\"onRequest\" xlink:href=\"psysml:1c23a4b2-35e2-4e8a-96b6-0c0eddc8acf9\" xlink:show=\"new\" xlink:title=\"psysml:1c23a4b2-35e2-4e8a-96b6-0c0eddc8acf9\" xlink:type=\"simple\"><polygon fill=\"#FFFFFF\" points=\"284,170,380,170,387,192.2969,394,192.2969,394,222.5938,284,222.5938,284,170\" style=\"stroke: #000000; stroke-width: 1.5;\"/><line style=\"stroke: #000000; stroke-width: 1.5;\" x1=\"284\" x2=\"387\" y1=\"192.2969\" y2=\"192.2969\"/><text fill=\"#000000\" font-family=\"sans-serif\" font-size=\"14\" font-weight=\"bold\" lengthAdjust=\"spacingAndGlyphs\" textLength=\"90\" x=\"288\" y=\"184.9951\">Service Layer</text></a><a href=\"psysml:a642c0ba-468c-4345-a41b-ed6906c58c2e\" target=\"_top\" title=\"psysml:a642c0ba-468c-4345-a41b-ed6906c58c2e\" xlink:actuate=\"onRequest\" xlink:href=\"psysml:a642c0ba-468c-4345-a41b-ed6906c58c2e\" xlink:show=\"new\" xlink:title=\"psysml:a642c0ba-468c-4345-a41b-ed6906c58c2e\" xlink:type=\"simple\"><polygon fill=\"#FFFFFF\" points=\"293,256,371,256,378,278.2969,385,278.2969,385,308.5938,293,308.5938,293,256\" style=\"stroke: #000000; stroke-width: 1.5;\"/><line style=\"stroke: #000000; stroke-width: 1.5;\" x1=\"293\" x2=\"378\" y1=\"278.2969\" y2=\"278.2969\"/><text fill=\"#000000\" font-family=\"sans-serif\" font-size=\"14\" font-weight=\"bold\" lengthAdjust=\"spacingAndGlyphs\" textLength=\"72\" x=\"297\" y=\"270.9951\">Data Layer</text></a><!--MD5=[af87c684e3b0d8be13c1a698a818ef1e]\n",
       "link E3 to E4--><a href=\"psysml:e08fe20c-326f-4bf4-bdb1-9df0382c82e4\" target=\"_top\" title=\"psysml:e08fe20c-326f-4bf4-bdb1-9df0382c82e4\" xlink:actuate=\"onRequest\" xlink:href=\"psysml:e08fe20c-326f-4bf4-bdb1-9df0382c82e4\" xlink:show=\"new\" xlink:title=\"psysml:e08fe20c-326f-4bf4-bdb1-9df0382c82e4\" xlink:type=\"simple\"><path d=\"M339,137.24 C339,137.24 339,161.78 339,161.78 \" fill=\"none\" id=\"E3-&gt;E4\" style=\"stroke: #383838; stroke-width: 1.0; stroke-dasharray: 7.0,7.0;\"/><polygon fill=\"#383838\" points=\"339,169.78,342,161.78,336,161.78,339,169.78\" style=\"stroke: #383838; stroke-width: 1.0;\"/><text fill=\"#000000\" font-family=\"sans-serif\" font-size=\"13\" lengthAdjust=\"spacingAndGlyphs\" textLength=\"64\" x=\"340\" y=\"158.0669\">«depend»</text></a><!--MD5=[1b7591eae5389033d8d09a9d6721a717]\n",
       "link E4 to E5--><a href=\"psysml:3bcf17b2-ef7a-4ff9-b082-cb17e1124f6a\" target=\"_top\" title=\"psysml:3bcf17b2-ef7a-4ff9-b082-cb17e1124f6a\" xlink:actuate=\"onRequest\" xlink:href=\"psysml:3bcf17b2-ef7a-4ff9-b082-cb17e1124f6a\" xlink:show=\"new\" xlink:title=\"psysml:3bcf17b2-ef7a-4ff9-b082-cb17e1124f6a\" xlink:type=\"simple\"><path d=\"M339,223.24 C339,223.24 339,247.78 339,247.78 \" fill=\"none\" id=\"E4-&gt;E5\" style=\"stroke: #383838; stroke-width: 1.0; stroke-dasharray: 7.0,7.0;\"/><polygon fill=\"#383838\" points=\"339,255.78,342,247.78,336,247.78,339,255.78\" style=\"stroke: #383838; stroke-width: 1.0;\"/><text fill=\"#000000\" font-family=\"sans-serif\" font-size=\"13\" lengthAdjust=\"spacingAndGlyphs\" textLength=\"64\" x=\"340\" y=\"244.0669\">«depend»</text></a><!--MD5=[c5e8897d989ce984f93528998a7150fe]\n",
       "link E8 to E6--><a href=\"psysml:aa53d009-eedf-4466-a7b8-b270a2d13479\" target=\"_top\" title=\"psysml:aa53d009-eedf-4466-a7b8-b270a2d13479\" xlink:actuate=\"onRequest\" xlink:href=\"psysml:aa53d009-eedf-4466-a7b8-b270a2d13479\" xlink:show=\"new\" xlink:title=\"psysml:aa53d009-eedf-4466-a7b8-b270a2d13479\" xlink:type=\"simple\"><path d=\"M94,133.55 C94,133.55 94,165.39 94,165.39 \" fill=\"none\" id=\"E8-&gt;E6\" style=\"stroke: #383838; stroke-width: 1.0; stroke-dasharray: 7.0,7.0;\"/><polygon fill=\"#383838\" points=\"94,173.39,97,165.39,91,165.39,94,173.39\" style=\"stroke: #383838; stroke-width: 1.0;\"/><text fill=\"#000000\" font-family=\"sans-serif\" font-size=\"13\" lengthAdjust=\"spacingAndGlyphs\" textLength=\"64\" x=\"68\" y=\"158.0669\">«depend»</text></a><!--MD5=[bfa3c8b0d15052fdf50ae9310b491027]\n",
       "link E8 to E7--><a href=\"psysml:aa53d009-eedf-4466-a7b8-b270a2d13479\" target=\"_top\" title=\"psysml:aa53d009-eedf-4466-a7b8-b270a2d13479\" xlink:actuate=\"onRequest\" xlink:href=\"psysml:aa53d009-eedf-4466-a7b8-b270a2d13479\" xlink:show=\"new\" xlink:title=\"psysml:aa53d009-eedf-4466-a7b8-b270a2d13479\" xlink:type=\"simple\"><path d=\"M147,133.55 C147,133.55 147,165.39 147,165.39 \" fill=\"none\" id=\"E8-&gt;E7\" style=\"stroke: #383838; stroke-width: 1.0; stroke-dasharray: 7.0,7.0;\"/><polygon fill=\"#383838\" points=\"147,173.39,150,165.39,144,165.39,147,173.39\" style=\"stroke: #383838; stroke-width: 1.0;\"/><text fill=\"#000000\" font-family=\"sans-serif\" font-size=\"13\" lengthAdjust=\"spacingAndGlyphs\" textLength=\"64\" x=\"174\" y=\"158.0669\">«depend»</text></a><!--MD5=[3449aed2bba6f6b217d774372cb9af80]\n",
       "@startuml\r\n",
       "skinparam ranksep 10\r\n",
       "skinparam rectangle {\r\n",
       " backgroundColor<<block>> LightGreen\r\n",
       "}\r\n",
       "skinparam linetype ortho\r\n",
       "skinparam monochrome true\r\n",
       "skinparam classbackgroundcolor white\r\n",
       "skinparam shadowing false\r\n",
       "skinparam wrapWidth 300\r\n",
       "hide circle\r\n",
       "\r\n",
       "package \"DependencyTest\" as E1  [[psysml:79533e77-94c2-4bae-8455-1b4d9ad0ac19 ]]  {\r\n",
       "package \"System\" as E2  [[psysml:aa959c9d-de71-4dee-a328-dce50e2c2738 ]]  {\r\n",
       "package \"Application Layer\" as E3  [[psysml:c86dacee-9d76-4d53-8a53-8574653b1f4e ]]  {\r\n",
       "}\r\n",
       "package \"Service Layer\" as E4  [[psysml:1c23a4b2-35e2-4e8a-96b6-0c0eddc8acf9 ]]  {\r\n",
       "}\r\n",
       "package \"Data Layer\" as E5  [[psysml:a642c0ba-468c-4345-a41b-ed6906c58c2e ]]  {\r\n",
       "}\r\n",
       "}\r\n",
       "comp usage \"x \" as E6  <<(T,blue) attribute>> [[psysml:002f54b6-1019-4822-b88b-c9a615e25b28 ]] {\r\n",
       "}\r\n",
       "comp usage \"y \" as E7  <<(T,blue) attribute>> [[psysml:5e659b03-2baa-4472-976b-b868f73bcda1 ]] {\r\n",
       "}\r\n",
       "comp usage \"z \" as E8  <<(T,blue) attribute>> [[psysml:17862b5a-aa19-4a09-bb5d-84a4c59b96ac ]] {\r\n",
       "}\r\n",
       "}\r\n",
       "E3 ..>> E4 [[psysml:e08fe20c-326f-4bf4-bdb1-9df0382c82e4 ]] : <<depend>>\r\n",
       "E4 ..>> E5 [[psysml:3bcf17b2-ef7a-4ff9-b082-cb17e1124f6a ]] : <<depend>>\r\n",
       "E8 ..>> E6 [[psysml:aa53d009-eedf-4466-a7b8-b270a2d13479 ]] : <<depend>>\r\n",
       "E8 ..>> E7 [[psysml:aa53d009-eedf-4466-a7b8-b270a2d13479 ]] : <<depend>>\r\n",
       "@enduml\r\n",
       "\n",
       "PlantUML version 1.2020.13(Sat Jun 13 12:26:38 UTC 2020)\n",
       "(EPL source distribution)\n",
       "Java Runtime: OpenJDK Runtime Environment\n",
       "JVM: OpenJDK 64-Bit Server VM\n",
       "Default Encoding: UTF-8\n",
       "Language: en\n",
       "Country: null\n",
       "--></g></svg>"
      ]
     },
     "execution_count": 54,
     "metadata": {},
     "output_type": "execute_result"
    }
   ],
   "source": [
    "%viz --style=\"ORTHOLINE\" --view=\"Interconnection\" \"DependencyTest\""
   ]
  },
  {
   "cell_type": "code",
   "execution_count": 55,
   "id": "d2656145",
   "metadata": {
    "execution": {
     "iopub.execute_input": "2021-12-15T15:15:23.021781Z",
     "iopub.status.busy": "2021-12-15T15:15:23.021331Z",
     "iopub.status.idle": "2021-12-15T15:15:23.026779Z",
     "shell.execute_reply": "2021-12-15T15:15:23.026414Z"
    }
   },
   "outputs": [
    {
     "data": {
      "image/svg+xml": [
       "<?xml version=\"1.0\" encoding=\"UTF-8\" standalone=\"no\"?><svg xmlns=\"http://www.w3.org/2000/svg\" xmlns:xlink=\"http://www.w3.org/1999/xlink\" contentScriptType=\"application/ecmascript\" contentStyleType=\"text/css\" height=\"12px\" preserveAspectRatio=\"none\" style=\"width:12px;height:12px;\" version=\"1.1\" viewBox=\"0 0 12 12\" width=\"12px\" zoomAndPan=\"magnify\"><defs/><g><!--MD5=[72934c63077099a26744516a776b4749]\n",
       "@startuml\r\n",
       "skinparam ranksep 8\r\n",
       "skinparam linetype ortho\r\n",
       "skinparam monochrome true\r\n",
       "skinparam classbackgroundcolor white\r\n",
       "skinparam shadowing false\r\n",
       "skinparam wrapWidth 300\r\n",
       "hide circle\r\n",
       "\r\n",
       "@enduml\r\n",
       "\n",
       "PlantUML version 1.2020.13(Sat Jun 13 12:26:38 UTC 2020)\n",
       "(EPL source distribution)\n",
       "Java Runtime: OpenJDK Runtime Environment\n",
       "JVM: OpenJDK 64-Bit Server VM\n",
       "Default Encoding: UTF-8\n",
       "Language: en\n",
       "Country: null\n",
       "--></g></svg>"
      ]
     },
     "execution_count": 55,
     "metadata": {},
     "output_type": "execute_result"
    }
   ],
   "source": [
    "%viz --style=\"ORTHOLINE\" --view=\"Action\" \"DependencyTest\""
   ]
  },
  {
   "cell_type": "code",
   "execution_count": 56,
   "id": "2c280f14",
   "metadata": {
    "execution": {
     "iopub.execute_input": "2021-12-15T15:15:23.076166Z",
     "iopub.status.busy": "2021-12-15T15:15:23.075747Z",
     "iopub.status.idle": "2021-12-15T15:15:23.081429Z",
     "shell.execute_reply": "2021-12-15T15:15:23.081095Z"
    }
   },
   "outputs": [
    {
     "data": {
      "image/svg+xml": [
       "<?xml version=\"1.0\" encoding=\"UTF-8\" standalone=\"no\"?><svg xmlns=\"http://www.w3.org/2000/svg\" xmlns:xlink=\"http://www.w3.org/1999/xlink\" contentScriptType=\"application/ecmascript\" contentStyleType=\"text/css\" height=\"12px\" preserveAspectRatio=\"none\" style=\"width:12px;height:12px;\" version=\"1.1\" viewBox=\"0 0 12 12\" width=\"12px\" zoomAndPan=\"magnify\"><defs/><g><!--MD5=[30fc1de5121c5abddedd55b44417fde8]\n",
       "@startuml\r\n",
       "skinparam roundcorner 20\r\n",
       "skinparam BoxPadding 20\r\n",
       "skinparam SequenceBoxBackgroundColor #white\r\n",
       "skinparam style strictuml\r\n",
       "skinparam maxMessageSize 100\r\n",
       "skinparam linetype ortho\r\n",
       "skinparam monochrome true\r\n",
       "skinparam classbackgroundcolor white\r\n",
       "skinparam shadowing false\r\n",
       "skinparam wrapWidth 300\r\n",
       "hide circle\r\n",
       "\r\n",
       "@enduml\r\n",
       "\n",
       "PlantUML version 1.2020.13(Sat Jun 13 12:26:38 UTC 2020)\n",
       "(EPL source distribution)\n",
       "Java Runtime: OpenJDK Runtime Environment\n",
       "JVM: OpenJDK 64-Bit Server VM\n",
       "Default Encoding: UTF-8\n",
       "Language: en\n",
       "Country: null\n",
       "--></g></svg>"
      ]
     },
     "execution_count": 56,
     "metadata": {},
     "output_type": "execute_result"
    }
   ],
   "source": [
    "%viz --style=\"ORTHOLINE\" --view=\"Sequence\" \"DependencyTest\""
   ]
  },
  {
   "cell_type": "code",
   "execution_count": 57,
   "id": "66bd7035",
   "metadata": {
    "execution": {
     "iopub.execute_input": "2021-12-15T15:15:23.131115Z",
     "iopub.status.busy": "2021-12-15T15:15:23.130703Z",
     "iopub.status.idle": "2021-12-15T15:15:23.168394Z",
     "shell.execute_reply": "2021-12-15T15:15:23.167980Z"
    }
   },
   "outputs": [
    {
     "data": {
      "image/svg+xml": [
       "<?xml version=\"1.0\" encoding=\"UTF-8\" standalone=\"no\"?><svg xmlns=\"http://www.w3.org/2000/svg\" xmlns:xlink=\"http://www.w3.org/1999/xlink\" contentScriptType=\"application/ecmascript\" contentStyleType=\"text/css\" height=\"449px\" preserveAspectRatio=\"none\" style=\"width:469px;height:449px;\" version=\"1.1\" viewBox=\"0 0 469 449\" width=\"469px\" zoomAndPan=\"magnify\"><defs/><g><!--MD5=[fbc87193dbaf4d95561dea2c320d4a47]\n",
       "cluster E1--><a href=\"psysml:79533e77-94c2-4bae-8455-1b4d9ad0ac19\" target=\"_top\" title=\"psysml:79533e77-94c2-4bae-8455-1b4d9ad0ac19\" xlink:actuate=\"onRequest\" xlink:href=\"psysml:79533e77-94c2-4bae-8455-1b4d9ad0ac19\" xlink:show=\"new\" xlink:title=\"psysml:79533e77-94c2-4bae-8455-1b4d9ad0ac19\" xlink:type=\"simple\"><polygon fill=\"#FFFFFF\" points=\"16,6,142,6,149,28.2969,447,28.2969,447,437,16,437,16,6\" style=\"stroke: #000000; stroke-width: 1.5;\"/><line style=\"stroke: #000000; stroke-width: 1.5;\" x1=\"16\" x2=\"149\" y1=\"28.2969\" y2=\"28.2969\"/><text fill=\"#000000\" font-family=\"sans-serif\" font-size=\"14\" font-weight=\"bold\" lengthAdjust=\"spacingAndGlyphs\" textLength=\"120\" x=\"20\" y=\"20.9951\">DependencyTest</text></a><!--MD5=[e4f7fae6ed58524ba242bb0b0d3be6b7]\n",
       "cluster E2--><a href=\"psysml:aa959c9d-de71-4dee-a328-dce50e2c2738\" target=\"_top\" title=\"psysml:aa959c9d-de71-4dee-a328-dce50e2c2738\" xlink:actuate=\"onRequest\" xlink:href=\"psysml:aa959c9d-de71-4dee-a328-dce50e2c2738\" xlink:show=\"new\" xlink:title=\"psysml:aa959c9d-de71-4dee-a328-dce50e2c2738\" xlink:type=\"simple\"><polygon fill=\"#FFFFFF\" points=\"255,49,312,49,319,71.2969,423,71.2969,423,413,255,413,255,49\" style=\"stroke: #000000; stroke-width: 1.5;\"/><line style=\"stroke: #000000; stroke-width: 1.5;\" x1=\"255\" x2=\"319\" y1=\"71.2969\" y2=\"71.2969\"/><text fill=\"#000000\" font-family=\"sans-serif\" font-size=\"14\" font-weight=\"bold\" lengthAdjust=\"spacingAndGlyphs\" textLength=\"51\" x=\"259\" y=\"63.9951\">System</text></a><!--MD5=[60a26617385b1d2d0262a64233df1f8d]\n",
       "class E6--><a href=\"psysml:002f54b6-1019-4822-b88b-c9a615e25b28\" target=\"_top\" title=\"psysml:002f54b6-1019-4822-b88b-c9a615e25b28\" xlink:actuate=\"onRequest\" xlink:href=\"psysml:002f54b6-1019-4822-b88b-c9a615e25b28\" xlink:show=\"new\" xlink:title=\"psysml:002f54b6-1019-4822-b88b-c9a615e25b28\" xlink:type=\"simple\"><rect fill=\"#FFFFFF\" height=\"45.9375\" id=\"E6\" rx=\"10\" ry=\"10\" style=\"stroke: #383838; stroke-width: 1.5;\" width=\"71\" x=\"32.5\" y=\"217.5\"/><text fill=\"#000000\" font-family=\"sans-serif\" font-size=\"12\" font-style=\"italic\" lengthAdjust=\"spacingAndGlyphs\" textLength=\"69\" x=\"33.5\" y=\"233.6387\">«attribute»</text><text fill=\"#000000\" font-family=\"sans-serif\" font-size=\"12\" lengthAdjust=\"spacingAndGlyphs\" textLength=\"6\" x=\"63\" y=\"247.6074\">x</text><line style=\"stroke: #383838; stroke-width: 1.5;\" x1=\"33.5\" x2=\"102.5\" y1=\"255.4375\" y2=\"255.4375\"/></a><!--MD5=[2156ba9850f5573cc1fc38a6a4b2f02b]\n",
       "class E7--><a href=\"psysml:5e659b03-2baa-4472-976b-b868f73bcda1\" target=\"_top\" title=\"psysml:5e659b03-2baa-4472-976b-b868f73bcda1\" xlink:actuate=\"onRequest\" xlink:href=\"psysml:5e659b03-2baa-4472-976b-b868f73bcda1\" xlink:show=\"new\" xlink:title=\"psysml:5e659b03-2baa-4472-976b-b868f73bcda1\" xlink:type=\"simple\"><rect fill=\"#FFFFFF\" height=\"45.9375\" id=\"E7\" rx=\"10\" ry=\"10\" style=\"stroke: #383838; stroke-width: 1.5;\" width=\"71\" x=\"138.5\" y=\"217.5\"/><text fill=\"#000000\" font-family=\"sans-serif\" font-size=\"12\" font-style=\"italic\" lengthAdjust=\"spacingAndGlyphs\" textLength=\"69\" x=\"139.5\" y=\"233.6387\">«attribute»</text><text fill=\"#000000\" font-family=\"sans-serif\" font-size=\"12\" lengthAdjust=\"spacingAndGlyphs\" textLength=\"6\" x=\"169\" y=\"247.6074\">y</text><line style=\"stroke: #383838; stroke-width: 1.5;\" x1=\"139.5\" x2=\"208.5\" y1=\"255.4375\" y2=\"255.4375\"/></a><!--MD5=[b9389687b975829384b498ac4b7476b2]\n",
       "class E8--><a href=\"psysml:17862b5a-aa19-4a09-bb5d-84a4c59b96ac\" target=\"_top\" title=\"psysml:17862b5a-aa19-4a09-bb5d-84a4c59b96ac\" xlink:actuate=\"onRequest\" xlink:href=\"psysml:17862b5a-aa19-4a09-bb5d-84a4c59b96ac\" xlink:show=\"new\" xlink:title=\"psysml:17862b5a-aa19-4a09-bb5d-84a4c59b96ac\" xlink:type=\"simple\"><rect fill=\"#FFFFFF\" height=\"45.9375\" id=\"E8\" rx=\"10\" ry=\"10\" style=\"stroke: #383838; stroke-width: 1.5;\" width=\"71\" x=\"84.5\" y=\"87.5\"/><text fill=\"#000000\" font-family=\"sans-serif\" font-size=\"12\" font-style=\"italic\" lengthAdjust=\"spacingAndGlyphs\" textLength=\"69\" x=\"85.5\" y=\"103.6387\">«attribute»</text><text fill=\"#000000\" font-family=\"sans-serif\" font-size=\"12\" lengthAdjust=\"spacingAndGlyphs\" textLength=\"5\" x=\"115.5\" y=\"117.6074\">z</text><line style=\"stroke: #383838; stroke-width: 1.5;\" x1=\"85.5\" x2=\"154.5\" y1=\"125.4375\" y2=\"125.4375\"/></a><a href=\"psysml:c86dacee-9d76-4d53-8a53-8574653b1f4e\" target=\"_top\" title=\"psysml:c86dacee-9d76-4d53-8a53-8574653b1f4e\" xlink:actuate=\"onRequest\" xlink:href=\"psysml:c86dacee-9d76-4d53-8a53-8574653b1f4e\" xlink:show=\"new\" xlink:title=\"psysml:c86dacee-9d76-4d53-8a53-8574653b1f4e\" xlink:type=\"simple\"><polygon fill=\"#FFFFFF\" points=\"271.5,84,392.5,84,399.5,106.2969,406.5,106.2969,406.5,136.5938,271.5,136.5938,271.5,84\" style=\"stroke: #000000; stroke-width: 1.5;\"/><line style=\"stroke: #000000; stroke-width: 1.5;\" x1=\"271.5\" x2=\"399.5\" y1=\"106.2969\" y2=\"106.2969\"/><text fill=\"#000000\" font-family=\"sans-serif\" font-size=\"14\" font-weight=\"bold\" lengthAdjust=\"spacingAndGlyphs\" textLength=\"115\" x=\"275.5\" y=\"98.9951\">Application Layer</text></a><a href=\"psysml:1c23a4b2-35e2-4e8a-96b6-0c0eddc8acf9\" target=\"_top\" title=\"psysml:1c23a4b2-35e2-4e8a-96b6-0c0eddc8acf9\" xlink:actuate=\"onRequest\" xlink:href=\"psysml:1c23a4b2-35e2-4e8a-96b6-0c0eddc8acf9\" xlink:show=\"new\" xlink:title=\"psysml:1c23a4b2-35e2-4e8a-96b6-0c0eddc8acf9\" xlink:type=\"simple\"><polygon fill=\"#FFFFFF\" points=\"284,214,380,214,387,236.2969,394,236.2969,394,266.5938,284,266.5938,284,214\" style=\"stroke: #000000; stroke-width: 1.5;\"/><line style=\"stroke: #000000; stroke-width: 1.5;\" x1=\"284\" x2=\"387\" y1=\"236.2969\" y2=\"236.2969\"/><text fill=\"#000000\" font-family=\"sans-serif\" font-size=\"14\" font-weight=\"bold\" lengthAdjust=\"spacingAndGlyphs\" textLength=\"90\" x=\"288\" y=\"228.9951\">Service Layer</text></a><a href=\"psysml:a642c0ba-468c-4345-a41b-ed6906c58c2e\" target=\"_top\" title=\"psysml:a642c0ba-468c-4345-a41b-ed6906c58c2e\" xlink:actuate=\"onRequest\" xlink:href=\"psysml:a642c0ba-468c-4345-a41b-ed6906c58c2e\" xlink:show=\"new\" xlink:title=\"psysml:a642c0ba-468c-4345-a41b-ed6906c58c2e\" xlink:type=\"simple\"><polygon fill=\"#FFFFFF\" points=\"293,344,371,344,378,366.2969,385,366.2969,385,396.5938,293,396.5938,293,344\" style=\"stroke: #000000; stroke-width: 1.5;\"/><line style=\"stroke: #000000; stroke-width: 1.5;\" x1=\"293\" x2=\"378\" y1=\"366.2969\" y2=\"366.2969\"/><text fill=\"#000000\" font-family=\"sans-serif\" font-size=\"14\" font-weight=\"bold\" lengthAdjust=\"spacingAndGlyphs\" textLength=\"72\" x=\"297\" y=\"358.9951\">Data Layer</text></a><!--MD5=[af87c684e3b0d8be13c1a698a818ef1e]\n",
       "link E3 to E4--><a href=\"psysml:e08fe20c-326f-4bf4-bdb1-9df0382c82e4\" target=\"_top\" title=\"psysml:e08fe20c-326f-4bf4-bdb1-9df0382c82e4\" xlink:actuate=\"onRequest\" xlink:href=\"psysml:e08fe20c-326f-4bf4-bdb1-9df0382c82e4\" xlink:show=\"new\" xlink:title=\"psysml:e08fe20c-326f-4bf4-bdb1-9df0382c82e4\" xlink:type=\"simple\"><path d=\"M339,137.12 C339,137.12 339,205.91 339,205.91 \" fill=\"none\" id=\"E3-&gt;E4\" style=\"stroke: #383838; stroke-width: 1.0; stroke-dasharray: 7.0,7.0;\"/><polygon fill=\"#383838\" points=\"339,213.91,342,205.91,336,205.91,339,213.91\" style=\"stroke: #383838; stroke-width: 1.0;\"/><text fill=\"#000000\" font-family=\"sans-serif\" font-size=\"13\" lengthAdjust=\"spacingAndGlyphs\" textLength=\"64\" x=\"340\" y=\"180.0669\">«depend»</text></a><!--MD5=[1b7591eae5389033d8d09a9d6721a717]\n",
       "link E4 to E5--><a href=\"psysml:3bcf17b2-ef7a-4ff9-b082-cb17e1124f6a\" target=\"_top\" title=\"psysml:3bcf17b2-ef7a-4ff9-b082-cb17e1124f6a\" xlink:actuate=\"onRequest\" xlink:href=\"psysml:3bcf17b2-ef7a-4ff9-b082-cb17e1124f6a\" xlink:show=\"new\" xlink:title=\"psysml:3bcf17b2-ef7a-4ff9-b082-cb17e1124f6a\" xlink:type=\"simple\"><path d=\"M339,267.12 C339,267.12 339,335.91 339,335.91 \" fill=\"none\" id=\"E4-&gt;E5\" style=\"stroke: #383838; stroke-width: 1.0; stroke-dasharray: 7.0,7.0;\"/><polygon fill=\"#383838\" points=\"339,343.91,342,335.91,336,335.91,339,343.91\" style=\"stroke: #383838; stroke-width: 1.0;\"/><text fill=\"#000000\" font-family=\"sans-serif\" font-size=\"13\" lengthAdjust=\"spacingAndGlyphs\" textLength=\"64\" x=\"340\" y=\"310.0669\">«depend»</text></a><!--MD5=[c5e8897d989ce984f93528998a7150fe]\n",
       "link E8 to E6--><a href=\"psysml:aa53d009-eedf-4466-a7b8-b270a2d13479\" target=\"_top\" title=\"psysml:aa53d009-eedf-4466-a7b8-b270a2d13479\" xlink:actuate=\"onRequest\" xlink:href=\"psysml:aa53d009-eedf-4466-a7b8-b270a2d13479\" xlink:show=\"new\" xlink:title=\"psysml:aa53d009-eedf-4466-a7b8-b270a2d13479\" xlink:type=\"simple\"><path d=\"M94,133.74 C94,133.74 94,209.46 94,209.46 \" fill=\"none\" id=\"E8-&gt;E6\" style=\"stroke: #383838; stroke-width: 1.0; stroke-dasharray: 7.0,7.0;\"/><polygon fill=\"#383838\" points=\"94,217.46,97,209.46,91,209.46,94,217.46\" style=\"stroke: #383838; stroke-width: 1.0;\"/><text fill=\"#000000\" font-family=\"sans-serif\" font-size=\"13\" lengthAdjust=\"spacingAndGlyphs\" textLength=\"64\" x=\"68\" y=\"180.0669\">«depend»</text></a><!--MD5=[bfa3c8b0d15052fdf50ae9310b491027]\n",
       "link E8 to E7--><a href=\"psysml:aa53d009-eedf-4466-a7b8-b270a2d13479\" target=\"_top\" title=\"psysml:aa53d009-eedf-4466-a7b8-b270a2d13479\" xlink:actuate=\"onRequest\" xlink:href=\"psysml:aa53d009-eedf-4466-a7b8-b270a2d13479\" xlink:show=\"new\" xlink:title=\"psysml:aa53d009-eedf-4466-a7b8-b270a2d13479\" xlink:type=\"simple\"><path d=\"M147,133.74 C147,133.74 147,209.46 147,209.46 \" fill=\"none\" id=\"E8-&gt;E7\" style=\"stroke: #383838; stroke-width: 1.0; stroke-dasharray: 7.0,7.0;\"/><polygon fill=\"#383838\" points=\"147,217.46,150,209.46,144,209.46,147,217.46\" style=\"stroke: #383838; stroke-width: 1.0;\"/><text fill=\"#000000\" font-family=\"sans-serif\" font-size=\"13\" lengthAdjust=\"spacingAndGlyphs\" textLength=\"64\" x=\"174\" y=\"180.0669\">«depend»</text></a><!--MD5=[7e9350db52cd76132857cea2f890ee5b]\n",
       "@startuml\r\n",
       "skinparam linetype ortho\r\n",
       "skinparam monochrome true\r\n",
       "skinparam classbackgroundcolor white\r\n",
       "skinparam shadowing false\r\n",
       "skinparam wrapWidth 300\r\n",
       "hide circle\r\n",
       "\r\n",
       "package \"DependencyTest\" as E1  [[psysml:79533e77-94c2-4bae-8455-1b4d9ad0ac19 ]]  {\r\n",
       "package \"System\" as E2  [[psysml:aa959c9d-de71-4dee-a328-dce50e2c2738 ]]  {\r\n",
       "package \"Application Layer\" as E3  [[psysml:c86dacee-9d76-4d53-8a53-8574653b1f4e ]]  {\r\n",
       "}\r\n",
       "package \"Service Layer\" as E4  [[psysml:1c23a4b2-35e2-4e8a-96b6-0c0eddc8acf9 ]]  {\r\n",
       "}\r\n",
       "package \"Data Layer\" as E5  [[psysml:a642c0ba-468c-4345-a41b-ed6906c58c2e ]]  {\r\n",
       "}\r\n",
       "}\r\n",
       "comp usage \"x \" as E6  <<(T,blue) attribute>> [[psysml:002f54b6-1019-4822-b88b-c9a615e25b28 ]] {\r\n",
       "}\r\n",
       "comp usage \"y \" as E7  <<(T,blue) attribute>> [[psysml:5e659b03-2baa-4472-976b-b868f73bcda1 ]] {\r\n",
       "}\r\n",
       "comp usage \"z \" as E8  <<(T,blue) attribute>> [[psysml:17862b5a-aa19-4a09-bb5d-84a4c59b96ac ]] {\r\n",
       "}\r\n",
       "}\r\n",
       "E3 ..>> E4 [[psysml:e08fe20c-326f-4bf4-bdb1-9df0382c82e4 ]] : <<depend>>\r\n",
       "E4 ..>> E5 [[psysml:3bcf17b2-ef7a-4ff9-b082-cb17e1124f6a ]] : <<depend>>\r\n",
       "E8 ..>> E6 [[psysml:aa53d009-eedf-4466-a7b8-b270a2d13479 ]] : <<depend>>\r\n",
       "E8 ..>> E7 [[psysml:aa53d009-eedf-4466-a7b8-b270a2d13479 ]] : <<depend>>\r\n",
       "@enduml\r\n",
       "\n",
       "PlantUML version 1.2020.13(Sat Jun 13 12:26:38 UTC 2020)\n",
       "(EPL source distribution)\n",
       "Java Runtime: OpenJDK Runtime Environment\n",
       "JVM: OpenJDK 64-Bit Server VM\n",
       "Default Encoding: UTF-8\n",
       "Language: en\n",
       "Country: null\n",
       "--></g></svg>"
      ]
     },
     "execution_count": 57,
     "metadata": {},
     "output_type": "execute_result"
    }
   ],
   "source": [
    "%viz --style=\"ORTHOLINE\" --view=\"MIXED\" \"DependencyTest\""
   ]
  }
 ],
 "metadata": {
  "kernelspec": {
   "display_name": "SysML",
   "language": "sysml",
   "name": "sysml"
  },
  "language_info": {
   "codemirror_mode": "sysml",
   "file_extension": ".sysml",
   "mimetype": "text/x-sysml",
   "name": "SysML",
   "pygments_lexer": "java",
   "version": "1.0.0"
  }
 },
 "nbformat": 4,
 "nbformat_minor": 5
}
