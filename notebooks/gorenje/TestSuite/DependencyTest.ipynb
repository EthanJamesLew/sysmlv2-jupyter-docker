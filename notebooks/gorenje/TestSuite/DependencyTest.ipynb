{
 "cells": [
  {
   "cell_type": "markdown",
   "id": "4aa03262",
   "metadata": {},
   "source": [
    "# SysML v2 Test Suite\n",
    "\n",
    "This can notebook can be cleared using menu `Edit --> Clear All Outputs` and then all cells can be\n",
    "run using menu `Run --> Run All Cells`.\n",
    "\n",
    "**WARNING**: This file is generated, all modifications here will be ignored.\n"
   ]
  },
  {
   "cell_type": "markdown",
   "id": "72ac9b70",
   "metadata": {},
   "source": [
    "## File: ../../sysml/src/examples/Simple Tests/DependencyTest.sysml"
   ]
  },
  {
   "cell_type": "code",
   "execution_count": 1,
   "id": "d8de5bd9",
   "metadata": {
    "execution": {
     "iopub.execute_input": "2021-10-25T08:20:43.161448Z",
     "iopub.status.busy": "2021-10-25T08:20:43.160153Z",
     "iopub.status.idle": "2021-10-25T08:20:43.262113Z",
     "shell.execute_reply": "2021-10-25T08:20:43.262285Z"
    }
   },
   "outputs": [
    {
     "data": {
      "text/plain": [
       "Package DependencyTest (6d6e052e-7dbf-416d-856b-fc974f9b93f2)\n"
      ]
     },
     "execution_count": 1,
     "metadata": {},
     "output_type": "execute_result"
    }
   ],
   "source": [
    "package DependencyTest {\n",
    "\t\n",
    "\tpackage System {\n",
    "\t\tpackage 'Application Layer';\n",
    "\t\tpackage 'Service Layer';\n",
    "\t\tpackage 'Data Layer';\n",
    "\t}\n",
    "\t\n",
    "\timport System::*;\n",
    "\t\n",
    "\tdependency Use from 'Application Layer' to 'Service Layer';\n",
    "\tdependency from 'Service Layer' to 'Data Layer';\n",
    "\t\n",
    "\tattribute x;\n",
    "\tattribute y;\n",
    "\tattribute z;\n",
    "\t\n",
    "\tdependency z to x, y;\n",
    "\t\n",
    "}"
   ]
  },
  {
   "cell_type": "code",
   "execution_count": 2,
   "id": "8c5d29d0",
   "metadata": {
    "execution": {
     "iopub.execute_input": "2021-10-25T08:20:43.313669Z",
     "iopub.status.busy": "2021-10-25T08:20:43.313367Z",
     "iopub.status.idle": "2021-10-25T08:20:43.764538Z",
     "shell.execute_reply": "2021-10-25T08:20:43.762506Z"
    }
   },
   "outputs": [
    {
     "data": {
      "image/svg+xml": [
       "<?xml version=\"1.0\" encoding=\"UTF-8\" standalone=\"no\"?><svg xmlns=\"http://www.w3.org/2000/svg\" xmlns:xlink=\"http://www.w3.org/1999/xlink\" contentScriptType=\"application/ecmascript\" contentStyleType=\"text/css\" height=\"449px\" preserveAspectRatio=\"none\" style=\"width:469px;height:449px;\" version=\"1.1\" viewBox=\"0 0 469 449\" width=\"469px\" zoomAndPan=\"magnify\"><defs/><g><!--MD5=[fbc87193dbaf4d95561dea2c320d4a47]\n",
       "cluster E1--><a href=\"psysml:eac58141-1d30-4dd4-8de7-f3beae76540f\" target=\"_top\" title=\"psysml:eac58141-1d30-4dd4-8de7-f3beae76540f\" xlink:actuate=\"onRequest\" xlink:href=\"psysml:eac58141-1d30-4dd4-8de7-f3beae76540f\" xlink:show=\"new\" xlink:title=\"psysml:eac58141-1d30-4dd4-8de7-f3beae76540f\" xlink:type=\"simple\"><polygon fill=\"#FFFFFF\" points=\"16,6,142,6,149,28.2969,447,28.2969,447,437,16,437,16,6\" style=\"stroke: #000000; stroke-width: 1.5;\"/><line style=\"stroke: #000000; stroke-width: 1.5;\" x1=\"16\" x2=\"149\" y1=\"28.2969\" y2=\"28.2969\"/><text fill=\"#000000\" font-family=\"sans-serif\" font-size=\"14\" font-weight=\"bold\" lengthAdjust=\"spacingAndGlyphs\" textLength=\"120\" x=\"20\" y=\"20.9951\">DependencyTest</text></a><!--MD5=[e4f7fae6ed58524ba242bb0b0d3be6b7]\n",
       "cluster E2--><a href=\"psysml:13805519-bfbc-4c0f-88c4-787529a25875\" target=\"_top\" title=\"psysml:13805519-bfbc-4c0f-88c4-787529a25875\" xlink:actuate=\"onRequest\" xlink:href=\"psysml:13805519-bfbc-4c0f-88c4-787529a25875\" xlink:show=\"new\" xlink:title=\"psysml:13805519-bfbc-4c0f-88c4-787529a25875\" xlink:type=\"simple\"><polygon fill=\"#FFFFFF\" points=\"255,49,312,49,319,71.2969,423,71.2969,423,413,255,413,255,49\" style=\"stroke: #000000; stroke-width: 1.5;\"/><line style=\"stroke: #000000; stroke-width: 1.5;\" x1=\"255\" x2=\"319\" y1=\"71.2969\" y2=\"71.2969\"/><text fill=\"#000000\" font-family=\"sans-serif\" font-size=\"14\" font-weight=\"bold\" lengthAdjust=\"spacingAndGlyphs\" textLength=\"51\" x=\"259\" y=\"63.9951\">System</text></a><!--MD5=[60a26617385b1d2d0262a64233df1f8d]\n",
       "class E6--><a href=\"psysml:d1a2f8b3-43fe-4bb6-bcd1-ae6c73505f04\" target=\"_top\" title=\"psysml:d1a2f8b3-43fe-4bb6-bcd1-ae6c73505f04\" xlink:actuate=\"onRequest\" xlink:href=\"psysml:d1a2f8b3-43fe-4bb6-bcd1-ae6c73505f04\" xlink:show=\"new\" xlink:title=\"psysml:d1a2f8b3-43fe-4bb6-bcd1-ae6c73505f04\" xlink:type=\"simple\"><rect fill=\"#FFFFFF\" height=\"45.9375\" id=\"E6\" rx=\"10\" ry=\"10\" style=\"stroke: #383838; stroke-width: 1.5;\" width=\"71\" x=\"32.5\" y=\"217.5\"/><text fill=\"#000000\" font-family=\"sans-serif\" font-size=\"12\" font-style=\"italic\" lengthAdjust=\"spacingAndGlyphs\" textLength=\"69\" x=\"33.5\" y=\"233.6387\">«attribute»</text><text fill=\"#000000\" font-family=\"sans-serif\" font-size=\"12\" lengthAdjust=\"spacingAndGlyphs\" textLength=\"6\" x=\"65\" y=\"247.6074\">x</text><line style=\"stroke: #383838; stroke-width: 1.5;\" x1=\"33.5\" x2=\"102.5\" y1=\"255.4375\" y2=\"255.4375\"/></a><!--MD5=[2156ba9850f5573cc1fc38a6a4b2f02b]\n",
       "class E7--><a href=\"psysml:ad948c0a-adc5-4c23-9b66-20666ae7e933\" target=\"_top\" title=\"psysml:ad948c0a-adc5-4c23-9b66-20666ae7e933\" xlink:actuate=\"onRequest\" xlink:href=\"psysml:ad948c0a-adc5-4c23-9b66-20666ae7e933\" xlink:show=\"new\" xlink:title=\"psysml:ad948c0a-adc5-4c23-9b66-20666ae7e933\" xlink:type=\"simple\"><rect fill=\"#FFFFFF\" height=\"45.9375\" id=\"E7\" rx=\"10\" ry=\"10\" style=\"stroke: #383838; stroke-width: 1.5;\" width=\"71\" x=\"138.5\" y=\"217.5\"/><text fill=\"#000000\" font-family=\"sans-serif\" font-size=\"12\" font-style=\"italic\" lengthAdjust=\"spacingAndGlyphs\" textLength=\"69\" x=\"139.5\" y=\"233.6387\">«attribute»</text><text fill=\"#000000\" font-family=\"sans-serif\" font-size=\"12\" lengthAdjust=\"spacingAndGlyphs\" textLength=\"6\" x=\"171\" y=\"247.6074\">y</text><line style=\"stroke: #383838; stroke-width: 1.5;\" x1=\"139.5\" x2=\"208.5\" y1=\"255.4375\" y2=\"255.4375\"/></a><!--MD5=[b9389687b975829384b498ac4b7476b2]\n",
       "class E8--><a href=\"psysml:4e191771-f0c3-4f18-930e-d8147bece3b0\" target=\"_top\" title=\"psysml:4e191771-f0c3-4f18-930e-d8147bece3b0\" xlink:actuate=\"onRequest\" xlink:href=\"psysml:4e191771-f0c3-4f18-930e-d8147bece3b0\" xlink:show=\"new\" xlink:title=\"psysml:4e191771-f0c3-4f18-930e-d8147bece3b0\" xlink:type=\"simple\"><rect fill=\"#FFFFFF\" height=\"45.9375\" id=\"E8\" rx=\"10\" ry=\"10\" style=\"stroke: #383838; stroke-width: 1.5;\" width=\"71\" x=\"84.5\" y=\"87.5\"/><text fill=\"#000000\" font-family=\"sans-serif\" font-size=\"12\" font-style=\"italic\" lengthAdjust=\"spacingAndGlyphs\" textLength=\"69\" x=\"85.5\" y=\"103.6387\">«attribute»</text><text fill=\"#000000\" font-family=\"sans-serif\" font-size=\"12\" lengthAdjust=\"spacingAndGlyphs\" textLength=\"5\" x=\"117.5\" y=\"117.6074\">z</text><line style=\"stroke: #383838; stroke-width: 1.5;\" x1=\"85.5\" x2=\"154.5\" y1=\"125.4375\" y2=\"125.4375\"/></a><a href=\"psysml:5348c3d7-5f8d-4656-8805-8961159c09b6\" target=\"_top\" title=\"psysml:5348c3d7-5f8d-4656-8805-8961159c09b6\" xlink:actuate=\"onRequest\" xlink:href=\"psysml:5348c3d7-5f8d-4656-8805-8961159c09b6\" xlink:show=\"new\" xlink:title=\"psysml:5348c3d7-5f8d-4656-8805-8961159c09b6\" xlink:type=\"simple\"><polygon fill=\"#FFFFFF\" points=\"271.5,84,392.5,84,399.5,106.2969,406.5,106.2969,406.5,136.5938,271.5,136.5938,271.5,84\" style=\"stroke: #000000; stroke-width: 1.5;\"/><line style=\"stroke: #000000; stroke-width: 1.5;\" x1=\"271.5\" x2=\"399.5\" y1=\"106.2969\" y2=\"106.2969\"/><text fill=\"#000000\" font-family=\"sans-serif\" font-size=\"14\" font-weight=\"bold\" lengthAdjust=\"spacingAndGlyphs\" textLength=\"115\" x=\"275.5\" y=\"98.9951\">Application Layer</text></a><a href=\"psysml:e92bea40-a3a7-48d4-b6b8-5548cc937669\" target=\"_top\" title=\"psysml:e92bea40-a3a7-48d4-b6b8-5548cc937669\" xlink:actuate=\"onRequest\" xlink:href=\"psysml:e92bea40-a3a7-48d4-b6b8-5548cc937669\" xlink:show=\"new\" xlink:title=\"psysml:e92bea40-a3a7-48d4-b6b8-5548cc937669\" xlink:type=\"simple\"><polygon fill=\"#FFFFFF\" points=\"284,214,380,214,387,236.2969,394,236.2969,394,266.5938,284,266.5938,284,214\" style=\"stroke: #000000; stroke-width: 1.5;\"/><line style=\"stroke: #000000; stroke-width: 1.5;\" x1=\"284\" x2=\"387\" y1=\"236.2969\" y2=\"236.2969\"/><text fill=\"#000000\" font-family=\"sans-serif\" font-size=\"14\" font-weight=\"bold\" lengthAdjust=\"spacingAndGlyphs\" textLength=\"90\" x=\"288\" y=\"228.9951\">Service Layer</text></a><a href=\"psysml:9210d902-7ba4-4a43-8b80-75376691e6d0\" target=\"_top\" title=\"psysml:9210d902-7ba4-4a43-8b80-75376691e6d0\" xlink:actuate=\"onRequest\" xlink:href=\"psysml:9210d902-7ba4-4a43-8b80-75376691e6d0\" xlink:show=\"new\" xlink:title=\"psysml:9210d902-7ba4-4a43-8b80-75376691e6d0\" xlink:type=\"simple\"><polygon fill=\"#FFFFFF\" points=\"293,344,371,344,378,366.2969,385,366.2969,385,396.5938,293,396.5938,293,344\" style=\"stroke: #000000; stroke-width: 1.5;\"/><line style=\"stroke: #000000; stroke-width: 1.5;\" x1=\"293\" x2=\"378\" y1=\"366.2969\" y2=\"366.2969\"/><text fill=\"#000000\" font-family=\"sans-serif\" font-size=\"14\" font-weight=\"bold\" lengthAdjust=\"spacingAndGlyphs\" textLength=\"72\" x=\"297\" y=\"358.9951\">Data Layer</text></a><!--MD5=[af87c684e3b0d8be13c1a698a818ef1e]\n",
       "link E3 to E4--><a href=\"psysml:43ea743a-a860-452f-b433-717c56c39b79\" target=\"_top\" title=\"psysml:43ea743a-a860-452f-b433-717c56c39b79\" xlink:actuate=\"onRequest\" xlink:href=\"psysml:43ea743a-a860-452f-b433-717c56c39b79\" xlink:show=\"new\" xlink:title=\"psysml:43ea743a-a860-452f-b433-717c56c39b79\" xlink:type=\"simple\"><path d=\"M339,137.1 C339,156.8 339,184.22 339,205.73 \" fill=\"none\" id=\"E3-&gt;E4\" style=\"stroke: #383838; stroke-width: 1.0; stroke-dasharray: 7.0,7.0;\"/><polygon fill=\"#383838\" points=\"339,213.95,342,205.95,336,205.95,339,213.95\" style=\"stroke: #383838; stroke-width: 1.0;\"/><text fill=\"#000000\" font-family=\"sans-serif\" font-size=\"13\" lengthAdjust=\"spacingAndGlyphs\" textLength=\"64\" x=\"340\" y=\"180.0669\">«depend»</text></a><!--MD5=[1b7591eae5389033d8d09a9d6721a717]\n",
       "link E4 to E5--><a href=\"psysml:2fd6f227-cfe3-4fe1-af5d-016c5bccfb5b\" target=\"_top\" title=\"psysml:2fd6f227-cfe3-4fe1-af5d-016c5bccfb5b\" xlink:actuate=\"onRequest\" xlink:href=\"psysml:2fd6f227-cfe3-4fe1-af5d-016c5bccfb5b\" xlink:show=\"new\" xlink:title=\"psysml:2fd6f227-cfe3-4fe1-af5d-016c5bccfb5b\" xlink:type=\"simple\"><path d=\"M339,267.1 C339,286.8 339,314.22 339,335.73 \" fill=\"none\" id=\"E4-&gt;E5\" style=\"stroke: #383838; stroke-width: 1.0; stroke-dasharray: 7.0,7.0;\"/><polygon fill=\"#383838\" points=\"339,343.95,342,335.95,336,335.95,339,343.95\" style=\"stroke: #383838; stroke-width: 1.0;\"/><text fill=\"#000000\" font-family=\"sans-serif\" font-size=\"13\" lengthAdjust=\"spacingAndGlyphs\" textLength=\"64\" x=\"340\" y=\"310.0669\">«depend»</text></a><!--MD5=[c5e8897d989ce984f93528998a7150fe]\n",
       "link E8 to E6--><a href=\"psysml:209e6958-61b2-4a39-8cf0-69b60dbfdefc\" target=\"_top\" title=\"psysml:209e6958-61b2-4a39-8cf0-69b60dbfdefc\" xlink:actuate=\"onRequest\" xlink:href=\"psysml:209e6958-61b2-4a39-8cf0-69b60dbfdefc\" xlink:show=\"new\" xlink:title=\"psysml:209e6958-61b2-4a39-8cf0-69b60dbfdefc\" xlink:type=\"simple\"><path d=\"M89.42,133.6 C79.35,142.68 69.37,154.11 64,167 C58.5,180.2 58.66,195.94 60.54,209.38 \" fill=\"none\" id=\"E8-&gt;E6\" style=\"stroke: #383838; stroke-width: 1.0; stroke-dasharray: 7.0,7.0;\"/><polygon fill=\"#383838\" points=\"61.9,217.4,63.517,209.0104,57.6018,210.0159,61.9,217.4\" style=\"stroke: #383838; stroke-width: 1.0;\"/><text fill=\"#000000\" font-family=\"sans-serif\" font-size=\"13\" lengthAdjust=\"spacingAndGlyphs\" textLength=\"64\" x=\"65\" y=\"180.0669\">«depend»</text></a><!--MD5=[bfa3c8b0d15052fdf50ae9310b491027]\n",
       "link E8 to E7--><a href=\"psysml:209e6958-61b2-4a39-8cf0-69b60dbfdefc\" target=\"_top\" title=\"psysml:209e6958-61b2-4a39-8cf0-69b60dbfdefc\" xlink:actuate=\"onRequest\" xlink:href=\"psysml:209e6958-61b2-4a39-8cf0-69b60dbfdefc\" xlink:show=\"new\" xlink:title=\"psysml:209e6958-61b2-4a39-8cf0-69b60dbfdefc\" xlink:type=\"simple\"><path d=\"M129.28,133.5 C138.17,154.57 151.64,186.5 161.47,209.81 \" fill=\"none\" id=\"E8-&gt;E7\" style=\"stroke: #383838; stroke-width: 1.0; stroke-dasharray: 7.0,7.0;\"/><polygon fill=\"#383838\" points=\"164.66,217.35,164.3241,208.8126,158.7933,211.1385,164.66,217.35\" style=\"stroke: #383838; stroke-width: 1.0;\"/><text fill=\"#000000\" font-family=\"sans-serif\" font-size=\"13\" lengthAdjust=\"spacingAndGlyphs\" textLength=\"64\" x=\"151\" y=\"180.0669\">«depend»</text></a><!--MD5=[b6ff26bac8a0d70c4f3fb067c11217a1]\n",
       "@startuml\r\n",
       " skinparam monochrome true\r\n",
       "skinparam classbackgroundcolor white\r\n",
       "skinparam shadowing false\r\n",
       "skinparam wrapWidth 300\r\n",
       "hide circle\r\n",
       "\r\n",
       "package \"DependencyTest\" as E1  [[psysml:eac58141-1d30-4dd4-8de7-f3beae76540f ]]  {\r\n",
       "package \"System\" as E2  [[psysml:13805519-bfbc-4c0f-88c4-787529a25875 ]]  {\r\n",
       "package \"Application Layer\" as E3  [[psysml:5348c3d7-5f8d-4656-8805-8961159c09b6 ]]  {\r\n",
       "}\r\n",
       "package \"Service Layer\" as E4  [[psysml:e92bea40-a3a7-48d4-b6b8-5548cc937669 ]]  {\r\n",
       "}\r\n",
       "package \"Data Layer\" as E5  [[psysml:9210d902-7ba4-4a43-8b80-75376691e6d0 ]]  {\r\n",
       "}\r\n",
       "}\r\n",
       "comp usage \"x\" as E6  <<(T,blue) attribute>> [[psysml:d1a2f8b3-43fe-4bb6-bcd1-ae6c73505f04 ]] {\r\n",
       "}\r\n",
       "comp usage \"y\" as E7  <<(T,blue) attribute>> [[psysml:ad948c0a-adc5-4c23-9b66-20666ae7e933 ]] {\r\n",
       "}\r\n",
       "comp usage \"z\" as E8  <<(T,blue) attribute>> [[psysml:4e191771-f0c3-4f18-930e-d8147bece3b0 ]] {\r\n",
       "}\r\n",
       "}\r\n",
       "E3 ..>> E4 [[psysml:43ea743a-a860-452f-b433-717c56c39b79 ]] : <<depend>>\r\n",
       "E4 ..>> E5 [[psysml:2fd6f227-cfe3-4fe1-af5d-016c5bccfb5b ]] : <<depend>>\r\n",
       "E8 ..>> E6 [[psysml:209e6958-61b2-4a39-8cf0-69b60dbfdefc ]] : <<depend>>\r\n",
       "E8 ..>> E7 [[psysml:209e6958-61b2-4a39-8cf0-69b60dbfdefc ]] : <<depend>>\r\n",
       "@enduml\r\n",
       "\n",
       "PlantUML version 1.2020.13(Sat Jun 13 12:26:38 UTC 2020)\n",
       "(EPL source distribution)\n",
       "Java Runtime: OpenJDK Runtime Environment\n",
       "JVM: OpenJDK 64-Bit Server VM\n",
       "Default Encoding: UTF-8\n",
       "Language: en\n",
       "Country: null\n",
       "--></g></svg>"
      ]
     },
     "execution_count": 2,
     "metadata": {},
     "output_type": "execute_result"
    }
   ],
   "source": [
    "%viz --style=\"COMPTREE\" --view=\"Default\" \"DependencyTest\""
   ]
  },
  {
   "cell_type": "code",
   "execution_count": 3,
   "id": "77a53dc1",
   "metadata": {
    "execution": {
     "iopub.execute_input": "2021-10-25T08:20:43.813547Z",
     "iopub.status.busy": "2021-10-25T08:20:43.813110Z",
     "iopub.status.idle": "2021-10-25T08:20:43.858237Z",
     "shell.execute_reply": "2021-10-25T08:20:43.856305Z"
    }
   },
   "outputs": [
    {
     "data": {
      "image/svg+xml": [
       "<?xml version=\"1.0\" encoding=\"UTF-8\" standalone=\"no\"?><svg xmlns=\"http://www.w3.org/2000/svg\" xmlns:xlink=\"http://www.w3.org/1999/xlink\" contentScriptType=\"application/ecmascript\" contentStyleType=\"text/css\" height=\"449px\" preserveAspectRatio=\"none\" style=\"width:469px;height:449px;\" version=\"1.1\" viewBox=\"0 0 469 449\" width=\"469px\" zoomAndPan=\"magnify\"><defs/><g><!--MD5=[fbc87193dbaf4d95561dea2c320d4a47]\n",
       "cluster E1--><a href=\"psysml:eac58141-1d30-4dd4-8de7-f3beae76540f\" target=\"_top\" title=\"psysml:eac58141-1d30-4dd4-8de7-f3beae76540f\" xlink:actuate=\"onRequest\" xlink:href=\"psysml:eac58141-1d30-4dd4-8de7-f3beae76540f\" xlink:show=\"new\" xlink:title=\"psysml:eac58141-1d30-4dd4-8de7-f3beae76540f\" xlink:type=\"simple\"><polygon fill=\"#FFFFFF\" points=\"16,6,142,6,149,28.2969,447,28.2969,447,437,16,437,16,6\" style=\"stroke: #000000; stroke-width: 1.5;\"/><line style=\"stroke: #000000; stroke-width: 1.5;\" x1=\"16\" x2=\"149\" y1=\"28.2969\" y2=\"28.2969\"/><text fill=\"#000000\" font-family=\"sans-serif\" font-size=\"14\" font-weight=\"bold\" lengthAdjust=\"spacingAndGlyphs\" textLength=\"120\" x=\"20\" y=\"20.9951\">DependencyTest</text></a><!--MD5=[e4f7fae6ed58524ba242bb0b0d3be6b7]\n",
       "cluster E2--><a href=\"psysml:13805519-bfbc-4c0f-88c4-787529a25875\" target=\"_top\" title=\"psysml:13805519-bfbc-4c0f-88c4-787529a25875\" xlink:actuate=\"onRequest\" xlink:href=\"psysml:13805519-bfbc-4c0f-88c4-787529a25875\" xlink:show=\"new\" xlink:title=\"psysml:13805519-bfbc-4c0f-88c4-787529a25875\" xlink:type=\"simple\"><polygon fill=\"#FFFFFF\" points=\"255,49,312,49,319,71.2969,423,71.2969,423,413,255,413,255,49\" style=\"stroke: #000000; stroke-width: 1.5;\"/><line style=\"stroke: #000000; stroke-width: 1.5;\" x1=\"255\" x2=\"319\" y1=\"71.2969\" y2=\"71.2969\"/><text fill=\"#000000\" font-family=\"sans-serif\" font-size=\"14\" font-weight=\"bold\" lengthAdjust=\"spacingAndGlyphs\" textLength=\"51\" x=\"259\" y=\"63.9951\">System</text></a><!--MD5=[60a26617385b1d2d0262a64233df1f8d]\n",
       "class E6--><a href=\"psysml:d1a2f8b3-43fe-4bb6-bcd1-ae6c73505f04\" target=\"_top\" title=\"psysml:d1a2f8b3-43fe-4bb6-bcd1-ae6c73505f04\" xlink:actuate=\"onRequest\" xlink:href=\"psysml:d1a2f8b3-43fe-4bb6-bcd1-ae6c73505f04\" xlink:show=\"new\" xlink:title=\"psysml:d1a2f8b3-43fe-4bb6-bcd1-ae6c73505f04\" xlink:type=\"simple\"><rect fill=\"#FFFFFF\" height=\"45.9375\" id=\"E6\" rx=\"10\" ry=\"10\" style=\"stroke: #383838; stroke-width: 1.5;\" width=\"71\" x=\"32.5\" y=\"217.5\"/><text fill=\"#000000\" font-family=\"sans-serif\" font-size=\"12\" font-style=\"italic\" lengthAdjust=\"spacingAndGlyphs\" textLength=\"69\" x=\"33.5\" y=\"233.6387\">«attribute»</text><text fill=\"#000000\" font-family=\"sans-serif\" font-size=\"12\" lengthAdjust=\"spacingAndGlyphs\" textLength=\"6\" x=\"65\" y=\"247.6074\">x</text><line style=\"stroke: #383838; stroke-width: 1.5;\" x1=\"33.5\" x2=\"102.5\" y1=\"255.4375\" y2=\"255.4375\"/></a><!--MD5=[2156ba9850f5573cc1fc38a6a4b2f02b]\n",
       "class E7--><a href=\"psysml:ad948c0a-adc5-4c23-9b66-20666ae7e933\" target=\"_top\" title=\"psysml:ad948c0a-adc5-4c23-9b66-20666ae7e933\" xlink:actuate=\"onRequest\" xlink:href=\"psysml:ad948c0a-adc5-4c23-9b66-20666ae7e933\" xlink:show=\"new\" xlink:title=\"psysml:ad948c0a-adc5-4c23-9b66-20666ae7e933\" xlink:type=\"simple\"><rect fill=\"#FFFFFF\" height=\"45.9375\" id=\"E7\" rx=\"10\" ry=\"10\" style=\"stroke: #383838; stroke-width: 1.5;\" width=\"71\" x=\"138.5\" y=\"217.5\"/><text fill=\"#000000\" font-family=\"sans-serif\" font-size=\"12\" font-style=\"italic\" lengthAdjust=\"spacingAndGlyphs\" textLength=\"69\" x=\"139.5\" y=\"233.6387\">«attribute»</text><text fill=\"#000000\" font-family=\"sans-serif\" font-size=\"12\" lengthAdjust=\"spacingAndGlyphs\" textLength=\"6\" x=\"171\" y=\"247.6074\">y</text><line style=\"stroke: #383838; stroke-width: 1.5;\" x1=\"139.5\" x2=\"208.5\" y1=\"255.4375\" y2=\"255.4375\"/></a><!--MD5=[b9389687b975829384b498ac4b7476b2]\n",
       "class E8--><a href=\"psysml:4e191771-f0c3-4f18-930e-d8147bece3b0\" target=\"_top\" title=\"psysml:4e191771-f0c3-4f18-930e-d8147bece3b0\" xlink:actuate=\"onRequest\" xlink:href=\"psysml:4e191771-f0c3-4f18-930e-d8147bece3b0\" xlink:show=\"new\" xlink:title=\"psysml:4e191771-f0c3-4f18-930e-d8147bece3b0\" xlink:type=\"simple\"><rect fill=\"#FFFFFF\" height=\"45.9375\" id=\"E8\" rx=\"10\" ry=\"10\" style=\"stroke: #383838; stroke-width: 1.5;\" width=\"71\" x=\"84.5\" y=\"87.5\"/><text fill=\"#000000\" font-family=\"sans-serif\" font-size=\"12\" font-style=\"italic\" lengthAdjust=\"spacingAndGlyphs\" textLength=\"69\" x=\"85.5\" y=\"103.6387\">«attribute»</text><text fill=\"#000000\" font-family=\"sans-serif\" font-size=\"12\" lengthAdjust=\"spacingAndGlyphs\" textLength=\"5\" x=\"117.5\" y=\"117.6074\">z</text><line style=\"stroke: #383838; stroke-width: 1.5;\" x1=\"85.5\" x2=\"154.5\" y1=\"125.4375\" y2=\"125.4375\"/></a><a href=\"psysml:5348c3d7-5f8d-4656-8805-8961159c09b6\" target=\"_top\" title=\"psysml:5348c3d7-5f8d-4656-8805-8961159c09b6\" xlink:actuate=\"onRequest\" xlink:href=\"psysml:5348c3d7-5f8d-4656-8805-8961159c09b6\" xlink:show=\"new\" xlink:title=\"psysml:5348c3d7-5f8d-4656-8805-8961159c09b6\" xlink:type=\"simple\"><polygon fill=\"#FFFFFF\" points=\"271.5,84,392.5,84,399.5,106.2969,406.5,106.2969,406.5,136.5938,271.5,136.5938,271.5,84\" style=\"stroke: #000000; stroke-width: 1.5;\"/><line style=\"stroke: #000000; stroke-width: 1.5;\" x1=\"271.5\" x2=\"399.5\" y1=\"106.2969\" y2=\"106.2969\"/><text fill=\"#000000\" font-family=\"sans-serif\" font-size=\"14\" font-weight=\"bold\" lengthAdjust=\"spacingAndGlyphs\" textLength=\"115\" x=\"275.5\" y=\"98.9951\">Application Layer</text></a><a href=\"psysml:e92bea40-a3a7-48d4-b6b8-5548cc937669\" target=\"_top\" title=\"psysml:e92bea40-a3a7-48d4-b6b8-5548cc937669\" xlink:actuate=\"onRequest\" xlink:href=\"psysml:e92bea40-a3a7-48d4-b6b8-5548cc937669\" xlink:show=\"new\" xlink:title=\"psysml:e92bea40-a3a7-48d4-b6b8-5548cc937669\" xlink:type=\"simple\"><polygon fill=\"#FFFFFF\" points=\"284,214,380,214,387,236.2969,394,236.2969,394,266.5938,284,266.5938,284,214\" style=\"stroke: #000000; stroke-width: 1.5;\"/><line style=\"stroke: #000000; stroke-width: 1.5;\" x1=\"284\" x2=\"387\" y1=\"236.2969\" y2=\"236.2969\"/><text fill=\"#000000\" font-family=\"sans-serif\" font-size=\"14\" font-weight=\"bold\" lengthAdjust=\"spacingAndGlyphs\" textLength=\"90\" x=\"288\" y=\"228.9951\">Service Layer</text></a><a href=\"psysml:9210d902-7ba4-4a43-8b80-75376691e6d0\" target=\"_top\" title=\"psysml:9210d902-7ba4-4a43-8b80-75376691e6d0\" xlink:actuate=\"onRequest\" xlink:href=\"psysml:9210d902-7ba4-4a43-8b80-75376691e6d0\" xlink:show=\"new\" xlink:title=\"psysml:9210d902-7ba4-4a43-8b80-75376691e6d0\" xlink:type=\"simple\"><polygon fill=\"#FFFFFF\" points=\"293,344,371,344,378,366.2969,385,366.2969,385,396.5938,293,396.5938,293,344\" style=\"stroke: #000000; stroke-width: 1.5;\"/><line style=\"stroke: #000000; stroke-width: 1.5;\" x1=\"293\" x2=\"378\" y1=\"366.2969\" y2=\"366.2969\"/><text fill=\"#000000\" font-family=\"sans-serif\" font-size=\"14\" font-weight=\"bold\" lengthAdjust=\"spacingAndGlyphs\" textLength=\"72\" x=\"297\" y=\"358.9951\">Data Layer</text></a><!--MD5=[af87c684e3b0d8be13c1a698a818ef1e]\n",
       "link E3 to E4--><a href=\"psysml:43ea743a-a860-452f-b433-717c56c39b79\" target=\"_top\" title=\"psysml:43ea743a-a860-452f-b433-717c56c39b79\" xlink:actuate=\"onRequest\" xlink:href=\"psysml:43ea743a-a860-452f-b433-717c56c39b79\" xlink:show=\"new\" xlink:title=\"psysml:43ea743a-a860-452f-b433-717c56c39b79\" xlink:type=\"simple\"><path d=\"M339,137.1 C339,156.8 339,184.22 339,205.73 \" fill=\"none\" id=\"E3-&gt;E4\" style=\"stroke: #383838; stroke-width: 1.0; stroke-dasharray: 7.0,7.0;\"/><polygon fill=\"#383838\" points=\"339,213.95,342,205.95,336,205.95,339,213.95\" style=\"stroke: #383838; stroke-width: 1.0;\"/><text fill=\"#000000\" font-family=\"sans-serif\" font-size=\"13\" lengthAdjust=\"spacingAndGlyphs\" textLength=\"64\" x=\"340\" y=\"180.0669\">«depend»</text></a><!--MD5=[1b7591eae5389033d8d09a9d6721a717]\n",
       "link E4 to E5--><a href=\"psysml:2fd6f227-cfe3-4fe1-af5d-016c5bccfb5b\" target=\"_top\" title=\"psysml:2fd6f227-cfe3-4fe1-af5d-016c5bccfb5b\" xlink:actuate=\"onRequest\" xlink:href=\"psysml:2fd6f227-cfe3-4fe1-af5d-016c5bccfb5b\" xlink:show=\"new\" xlink:title=\"psysml:2fd6f227-cfe3-4fe1-af5d-016c5bccfb5b\" xlink:type=\"simple\"><path d=\"M339,267.1 C339,286.8 339,314.22 339,335.73 \" fill=\"none\" id=\"E4-&gt;E5\" style=\"stroke: #383838; stroke-width: 1.0; stroke-dasharray: 7.0,7.0;\"/><polygon fill=\"#383838\" points=\"339,343.95,342,335.95,336,335.95,339,343.95\" style=\"stroke: #383838; stroke-width: 1.0;\"/><text fill=\"#000000\" font-family=\"sans-serif\" font-size=\"13\" lengthAdjust=\"spacingAndGlyphs\" textLength=\"64\" x=\"340\" y=\"310.0669\">«depend»</text></a><!--MD5=[c5e8897d989ce984f93528998a7150fe]\n",
       "link E8 to E6--><a href=\"psysml:209e6958-61b2-4a39-8cf0-69b60dbfdefc\" target=\"_top\" title=\"psysml:209e6958-61b2-4a39-8cf0-69b60dbfdefc\" xlink:actuate=\"onRequest\" xlink:href=\"psysml:209e6958-61b2-4a39-8cf0-69b60dbfdefc\" xlink:show=\"new\" xlink:title=\"psysml:209e6958-61b2-4a39-8cf0-69b60dbfdefc\" xlink:type=\"simple\"><path d=\"M89.42,133.6 C79.35,142.68 69.37,154.11 64,167 C58.5,180.2 58.66,195.94 60.54,209.38 \" fill=\"none\" id=\"E8-&gt;E6\" style=\"stroke: #383838; stroke-width: 1.0; stroke-dasharray: 7.0,7.0;\"/><polygon fill=\"#383838\" points=\"61.9,217.4,63.517,209.0104,57.6018,210.0159,61.9,217.4\" style=\"stroke: #383838; stroke-width: 1.0;\"/><text fill=\"#000000\" font-family=\"sans-serif\" font-size=\"13\" lengthAdjust=\"spacingAndGlyphs\" textLength=\"64\" x=\"65\" y=\"180.0669\">«depend»</text></a><!--MD5=[bfa3c8b0d15052fdf50ae9310b491027]\n",
       "link E8 to E7--><a href=\"psysml:209e6958-61b2-4a39-8cf0-69b60dbfdefc\" target=\"_top\" title=\"psysml:209e6958-61b2-4a39-8cf0-69b60dbfdefc\" xlink:actuate=\"onRequest\" xlink:href=\"psysml:209e6958-61b2-4a39-8cf0-69b60dbfdefc\" xlink:show=\"new\" xlink:title=\"psysml:209e6958-61b2-4a39-8cf0-69b60dbfdefc\" xlink:type=\"simple\"><path d=\"M129.28,133.5 C138.17,154.57 151.64,186.5 161.47,209.81 \" fill=\"none\" id=\"E8-&gt;E7\" style=\"stroke: #383838; stroke-width: 1.0; stroke-dasharray: 7.0,7.0;\"/><polygon fill=\"#383838\" points=\"164.66,217.35,164.3241,208.8126,158.7933,211.1385,164.66,217.35\" style=\"stroke: #383838; stroke-width: 1.0;\"/><text fill=\"#000000\" font-family=\"sans-serif\" font-size=\"13\" lengthAdjust=\"spacingAndGlyphs\" textLength=\"64\" x=\"151\" y=\"180.0669\">«depend»</text></a><!--MD5=[b6ff26bac8a0d70c4f3fb067c11217a1]\n",
       "@startuml\r\n",
       " skinparam monochrome true\r\n",
       "skinparam classbackgroundcolor white\r\n",
       "skinparam shadowing false\r\n",
       "skinparam wrapWidth 300\r\n",
       "hide circle\r\n",
       "\r\n",
       "package \"DependencyTest\" as E1  [[psysml:eac58141-1d30-4dd4-8de7-f3beae76540f ]]  {\r\n",
       "package \"System\" as E2  [[psysml:13805519-bfbc-4c0f-88c4-787529a25875 ]]  {\r\n",
       "package \"Application Layer\" as E3  [[psysml:5348c3d7-5f8d-4656-8805-8961159c09b6 ]]  {\r\n",
       "}\r\n",
       "package \"Service Layer\" as E4  [[psysml:e92bea40-a3a7-48d4-b6b8-5548cc937669 ]]  {\r\n",
       "}\r\n",
       "package \"Data Layer\" as E5  [[psysml:9210d902-7ba4-4a43-8b80-75376691e6d0 ]]  {\r\n",
       "}\r\n",
       "}\r\n",
       "comp usage \"x\" as E6  <<(T,blue) attribute>> [[psysml:d1a2f8b3-43fe-4bb6-bcd1-ae6c73505f04 ]] {\r\n",
       "}\r\n",
       "comp usage \"y\" as E7  <<(T,blue) attribute>> [[psysml:ad948c0a-adc5-4c23-9b66-20666ae7e933 ]] {\r\n",
       "}\r\n",
       "comp usage \"z\" as E8  <<(T,blue) attribute>> [[psysml:4e191771-f0c3-4f18-930e-d8147bece3b0 ]] {\r\n",
       "}\r\n",
       "}\r\n",
       "E3 ..>> E4 [[psysml:43ea743a-a860-452f-b433-717c56c39b79 ]] : <<depend>>\r\n",
       "E4 ..>> E5 [[psysml:2fd6f227-cfe3-4fe1-af5d-016c5bccfb5b ]] : <<depend>>\r\n",
       "E8 ..>> E6 [[psysml:209e6958-61b2-4a39-8cf0-69b60dbfdefc ]] : <<depend>>\r\n",
       "E8 ..>> E7 [[psysml:209e6958-61b2-4a39-8cf0-69b60dbfdefc ]] : <<depend>>\r\n",
       "@enduml\r\n",
       "\n",
       "PlantUML version 1.2020.13(Sat Jun 13 12:26:38 UTC 2020)\n",
       "(EPL source distribution)\n",
       "Java Runtime: OpenJDK Runtime Environment\n",
       "JVM: OpenJDK 64-Bit Server VM\n",
       "Default Encoding: UTF-8\n",
       "Language: en\n",
       "Country: null\n",
       "--></g></svg>"
      ]
     },
     "execution_count": 3,
     "metadata": {},
     "output_type": "execute_result"
    }
   ],
   "source": [
    "%viz --style=\"COMPTREE\" --view=\"Tree\" \"DependencyTest\""
   ]
  },
  {
   "cell_type": "code",
   "execution_count": 4,
   "id": "e486e73e",
   "metadata": {
    "execution": {
     "iopub.execute_input": "2021-10-25T08:20:43.907375Z",
     "iopub.status.busy": "2021-10-25T08:20:43.906950Z",
     "iopub.status.idle": "2021-10-25T08:20:43.913968Z",
     "shell.execute_reply": "2021-10-25T08:20:43.914291Z"
    }
   },
   "outputs": [
    {
     "data": {
      "image/svg+xml": [
       "<?xml version=\"1.0\" encoding=\"UTF-8\" standalone=\"no\"?><svg xmlns=\"http://www.w3.org/2000/svg\" xmlns:xlink=\"http://www.w3.org/1999/xlink\" contentScriptType=\"application/ecmascript\" contentStyleType=\"text/css\" height=\"12px\" preserveAspectRatio=\"none\" style=\"width:12px;height:12px;\" version=\"1.1\" viewBox=\"0 0 12 12\" width=\"12px\" zoomAndPan=\"magnify\"><defs/><g><!--MD5=[f19188ef49e11757b5c46753f95d9edc]\n",
       "@startuml\r\n",
       " skinparam monochrome true\r\n",
       "skinparam classbackgroundcolor white\r\n",
       "skinparam shadowing false\r\n",
       "skinparam wrapWidth 300\r\n",
       "hide circle\r\n",
       "\r\n",
       "@enduml\r\n",
       "\n",
       "PlantUML version 1.2020.13(Sat Jun 13 12:26:38 UTC 2020)\n",
       "(EPL source distribution)\n",
       "Java Runtime: OpenJDK Runtime Environment\n",
       "JVM: OpenJDK 64-Bit Server VM\n",
       "Default Encoding: UTF-8\n",
       "Language: en\n",
       "Country: null\n",
       "--></g></svg>"
      ]
     },
     "execution_count": 4,
     "metadata": {},
     "output_type": "execute_result"
    }
   ],
   "source": [
    "%viz --style=\"COMPTREE\" --view=\"State\" \"DependencyTest\""
   ]
  },
  {
   "cell_type": "code",
   "execution_count": 5,
   "id": "e97a8e26",
   "metadata": {
    "execution": {
     "iopub.execute_input": "2021-10-25T08:20:43.964282Z",
     "iopub.status.busy": "2021-10-25T08:20:43.963852Z",
     "iopub.status.idle": "2021-10-25T08:20:44.013967Z",
     "shell.execute_reply": "2021-10-25T08:20:44.013597Z"
    }
   },
   "outputs": [
    {
     "data": {
      "image/svg+xml": [
       "<?xml version=\"1.0\" encoding=\"UTF-8\" standalone=\"no\"?><svg xmlns=\"http://www.w3.org/2000/svg\" xmlns:xlink=\"http://www.w3.org/1999/xlink\" contentScriptType=\"application/ecmascript\" contentStyleType=\"text/css\" height=\"361px\" preserveAspectRatio=\"none\" style=\"width:469px;height:361px;\" version=\"1.1\" viewBox=\"0 0 469 361\" width=\"469px\" zoomAndPan=\"magnify\"><defs/><g><!--MD5=[fbc87193dbaf4d95561dea2c320d4a47]\n",
       "cluster E1--><a href=\"psysml:eac58141-1d30-4dd4-8de7-f3beae76540f\" target=\"_top\" title=\"psysml:eac58141-1d30-4dd4-8de7-f3beae76540f\" xlink:actuate=\"onRequest\" xlink:href=\"psysml:eac58141-1d30-4dd4-8de7-f3beae76540f\" xlink:show=\"new\" xlink:title=\"psysml:eac58141-1d30-4dd4-8de7-f3beae76540f\" xlink:type=\"simple\"><polygon fill=\"#FFFFFF\" points=\"16,6,142,6,149,28.2969,447,28.2969,447,349,16,349,16,6\" style=\"stroke: #000000; stroke-width: 1.5;\"/><line style=\"stroke: #000000; stroke-width: 1.5;\" x1=\"16\" x2=\"149\" y1=\"28.2969\" y2=\"28.2969\"/><text fill=\"#000000\" font-family=\"sans-serif\" font-size=\"14\" font-weight=\"bold\" lengthAdjust=\"spacingAndGlyphs\" textLength=\"120\" x=\"20\" y=\"20.9951\">DependencyTest</text></a><!--MD5=[e4f7fae6ed58524ba242bb0b0d3be6b7]\n",
       "cluster E2--><a href=\"psysml:13805519-bfbc-4c0f-88c4-787529a25875\" target=\"_top\" title=\"psysml:13805519-bfbc-4c0f-88c4-787529a25875\" xlink:actuate=\"onRequest\" xlink:href=\"psysml:13805519-bfbc-4c0f-88c4-787529a25875\" xlink:show=\"new\" xlink:title=\"psysml:13805519-bfbc-4c0f-88c4-787529a25875\" xlink:type=\"simple\"><polygon fill=\"#FFFFFF\" points=\"255,49,312,49,319,71.2969,423,71.2969,423,325,255,325,255,49\" style=\"stroke: #000000; stroke-width: 1.5;\"/><line style=\"stroke: #000000; stroke-width: 1.5;\" x1=\"255\" x2=\"319\" y1=\"71.2969\" y2=\"71.2969\"/><text fill=\"#000000\" font-family=\"sans-serif\" font-size=\"14\" font-weight=\"bold\" lengthAdjust=\"spacingAndGlyphs\" textLength=\"51\" x=\"259\" y=\"63.9951\">System</text></a><!--MD5=[60a26617385b1d2d0262a64233df1f8d]\n",
       "class E6--><a href=\"psysml:d1a2f8b3-43fe-4bb6-bcd1-ae6c73505f04\" target=\"_top\" title=\"psysml:d1a2f8b3-43fe-4bb6-bcd1-ae6c73505f04\" xlink:actuate=\"onRequest\" xlink:href=\"psysml:d1a2f8b3-43fe-4bb6-bcd1-ae6c73505f04\" xlink:show=\"new\" xlink:title=\"psysml:d1a2f8b3-43fe-4bb6-bcd1-ae6c73505f04\" xlink:type=\"simple\"><rect fill=\"#FFFFFF\" height=\"45.9375\" id=\"E6\" rx=\"10\" ry=\"10\" style=\"stroke: #383838; stroke-width: 1.5;\" width=\"71\" x=\"32.5\" y=\"173.5\"/><text fill=\"#000000\" font-family=\"sans-serif\" font-size=\"12\" font-style=\"italic\" lengthAdjust=\"spacingAndGlyphs\" textLength=\"69\" x=\"33.5\" y=\"189.6387\">«attribute»</text><text fill=\"#000000\" font-family=\"sans-serif\" font-size=\"12\" lengthAdjust=\"spacingAndGlyphs\" textLength=\"6\" x=\"65\" y=\"203.6074\">x</text><line style=\"stroke: #383838; stroke-width: 1.5;\" x1=\"33.5\" x2=\"102.5\" y1=\"211.4375\" y2=\"211.4375\"/></a><!--MD5=[2156ba9850f5573cc1fc38a6a4b2f02b]\n",
       "class E7--><a href=\"psysml:ad948c0a-adc5-4c23-9b66-20666ae7e933\" target=\"_top\" title=\"psysml:ad948c0a-adc5-4c23-9b66-20666ae7e933\" xlink:actuate=\"onRequest\" xlink:href=\"psysml:ad948c0a-adc5-4c23-9b66-20666ae7e933\" xlink:show=\"new\" xlink:title=\"psysml:ad948c0a-adc5-4c23-9b66-20666ae7e933\" xlink:type=\"simple\"><rect fill=\"#FFFFFF\" height=\"45.9375\" id=\"E7\" rx=\"10\" ry=\"10\" style=\"stroke: #383838; stroke-width: 1.5;\" width=\"71\" x=\"138.5\" y=\"173.5\"/><text fill=\"#000000\" font-family=\"sans-serif\" font-size=\"12\" font-style=\"italic\" lengthAdjust=\"spacingAndGlyphs\" textLength=\"69\" x=\"139.5\" y=\"189.6387\">«attribute»</text><text fill=\"#000000\" font-family=\"sans-serif\" font-size=\"12\" lengthAdjust=\"spacingAndGlyphs\" textLength=\"6\" x=\"171\" y=\"203.6074\">y</text><line style=\"stroke: #383838; stroke-width: 1.5;\" x1=\"139.5\" x2=\"208.5\" y1=\"211.4375\" y2=\"211.4375\"/></a><!--MD5=[b9389687b975829384b498ac4b7476b2]\n",
       "class E8--><a href=\"psysml:4e191771-f0c3-4f18-930e-d8147bece3b0\" target=\"_top\" title=\"psysml:4e191771-f0c3-4f18-930e-d8147bece3b0\" xlink:actuate=\"onRequest\" xlink:href=\"psysml:4e191771-f0c3-4f18-930e-d8147bece3b0\" xlink:show=\"new\" xlink:title=\"psysml:4e191771-f0c3-4f18-930e-d8147bece3b0\" xlink:type=\"simple\"><rect fill=\"#FFFFFF\" height=\"45.9375\" id=\"E8\" rx=\"10\" ry=\"10\" style=\"stroke: #383838; stroke-width: 1.5;\" width=\"71\" x=\"84.5\" y=\"87.5\"/><text fill=\"#000000\" font-family=\"sans-serif\" font-size=\"12\" font-style=\"italic\" lengthAdjust=\"spacingAndGlyphs\" textLength=\"69\" x=\"85.5\" y=\"103.6387\">«attribute»</text><text fill=\"#000000\" font-family=\"sans-serif\" font-size=\"12\" lengthAdjust=\"spacingAndGlyphs\" textLength=\"5\" x=\"117.5\" y=\"117.6074\">z</text><line style=\"stroke: #383838; stroke-width: 1.5;\" x1=\"85.5\" x2=\"154.5\" y1=\"125.4375\" y2=\"125.4375\"/></a><a href=\"psysml:5348c3d7-5f8d-4656-8805-8961159c09b6\" target=\"_top\" title=\"psysml:5348c3d7-5f8d-4656-8805-8961159c09b6\" xlink:actuate=\"onRequest\" xlink:href=\"psysml:5348c3d7-5f8d-4656-8805-8961159c09b6\" xlink:show=\"new\" xlink:title=\"psysml:5348c3d7-5f8d-4656-8805-8961159c09b6\" xlink:type=\"simple\"><polygon fill=\"#FFFFFF\" points=\"271.5,84,392.5,84,399.5,106.2969,406.5,106.2969,406.5,136.5938,271.5,136.5938,271.5,84\" style=\"stroke: #000000; stroke-width: 1.5;\"/><line style=\"stroke: #000000; stroke-width: 1.5;\" x1=\"271.5\" x2=\"399.5\" y1=\"106.2969\" y2=\"106.2969\"/><text fill=\"#000000\" font-family=\"sans-serif\" font-size=\"14\" font-weight=\"bold\" lengthAdjust=\"spacingAndGlyphs\" textLength=\"115\" x=\"275.5\" y=\"98.9951\">Application Layer</text></a><a href=\"psysml:e92bea40-a3a7-48d4-b6b8-5548cc937669\" target=\"_top\" title=\"psysml:e92bea40-a3a7-48d4-b6b8-5548cc937669\" xlink:actuate=\"onRequest\" xlink:href=\"psysml:e92bea40-a3a7-48d4-b6b8-5548cc937669\" xlink:show=\"new\" xlink:title=\"psysml:e92bea40-a3a7-48d4-b6b8-5548cc937669\" xlink:type=\"simple\"><polygon fill=\"#FFFFFF\" points=\"284,170,380,170,387,192.2969,394,192.2969,394,222.5938,284,222.5938,284,170\" style=\"stroke: #000000; stroke-width: 1.5;\"/><line style=\"stroke: #000000; stroke-width: 1.5;\" x1=\"284\" x2=\"387\" y1=\"192.2969\" y2=\"192.2969\"/><text fill=\"#000000\" font-family=\"sans-serif\" font-size=\"14\" font-weight=\"bold\" lengthAdjust=\"spacingAndGlyphs\" textLength=\"90\" x=\"288\" y=\"184.9951\">Service Layer</text></a><a href=\"psysml:9210d902-7ba4-4a43-8b80-75376691e6d0\" target=\"_top\" title=\"psysml:9210d902-7ba4-4a43-8b80-75376691e6d0\" xlink:actuate=\"onRequest\" xlink:href=\"psysml:9210d902-7ba4-4a43-8b80-75376691e6d0\" xlink:show=\"new\" xlink:title=\"psysml:9210d902-7ba4-4a43-8b80-75376691e6d0\" xlink:type=\"simple\"><polygon fill=\"#FFFFFF\" points=\"293,256,371,256,378,278.2969,385,278.2969,385,308.5938,293,308.5938,293,256\" style=\"stroke: #000000; stroke-width: 1.5;\"/><line style=\"stroke: #000000; stroke-width: 1.5;\" x1=\"293\" x2=\"378\" y1=\"278.2969\" y2=\"278.2969\"/><text fill=\"#000000\" font-family=\"sans-serif\" font-size=\"14\" font-weight=\"bold\" lengthAdjust=\"spacingAndGlyphs\" textLength=\"72\" x=\"297\" y=\"270.9951\">Data Layer</text></a><!--MD5=[af87c684e3b0d8be13c1a698a818ef1e]\n",
       "link E3 to E4--><a href=\"psysml:43ea743a-a860-452f-b433-717c56c39b79\" target=\"_top\" title=\"psysml:43ea743a-a860-452f-b433-717c56c39b79\" xlink:actuate=\"onRequest\" xlink:href=\"psysml:43ea743a-a860-452f-b433-717c56c39b79\" xlink:show=\"new\" xlink:title=\"psysml:43ea743a-a860-452f-b433-717c56c39b79\" xlink:type=\"simple\"><path d=\"M339,137.16 C339,144.98 339,153.69 339,161.94 \" fill=\"none\" id=\"E3-&gt;E4\" style=\"stroke: #383838; stroke-width: 1.0; stroke-dasharray: 7.0,7.0;\"/><polygon fill=\"#383838\" points=\"339,170,342,162,336,162,339,170\" style=\"stroke: #383838; stroke-width: 1.0;\"/><text fill=\"#000000\" font-family=\"sans-serif\" font-size=\"13\" lengthAdjust=\"spacingAndGlyphs\" textLength=\"64\" x=\"340\" y=\"158.0669\">«depend»</text></a><!--MD5=[1b7591eae5389033d8d09a9d6721a717]\n",
       "link E4 to E5--><a href=\"psysml:2fd6f227-cfe3-4fe1-af5d-016c5bccfb5b\" target=\"_top\" title=\"psysml:2fd6f227-cfe3-4fe1-af5d-016c5bccfb5b\" xlink:actuate=\"onRequest\" xlink:href=\"psysml:2fd6f227-cfe3-4fe1-af5d-016c5bccfb5b\" xlink:show=\"new\" xlink:title=\"psysml:2fd6f227-cfe3-4fe1-af5d-016c5bccfb5b\" xlink:type=\"simple\"><path d=\"M339,223.16 C339,230.98 339,239.69 339,247.94 \" fill=\"none\" id=\"E4-&gt;E5\" style=\"stroke: #383838; stroke-width: 1.0; stroke-dasharray: 7.0,7.0;\"/><polygon fill=\"#383838\" points=\"339,256,342,248,336,248,339,256\" style=\"stroke: #383838; stroke-width: 1.0;\"/><text fill=\"#000000\" font-family=\"sans-serif\" font-size=\"13\" lengthAdjust=\"spacingAndGlyphs\" textLength=\"64\" x=\"340\" y=\"244.0669\">«depend»</text></a><!--MD5=[c5e8897d989ce984f93528998a7150fe]\n",
       "link E8 to E6--><a href=\"psysml:209e6958-61b2-4a39-8cf0-69b60dbfdefc\" target=\"_top\" title=\"psysml:209e6958-61b2-4a39-8cf0-69b60dbfdefc\" xlink:actuate=\"onRequest\" xlink:href=\"psysml:209e6958-61b2-4a39-8cf0-69b60dbfdefc\" xlink:show=\"new\" xlink:title=\"psysml:209e6958-61b2-4a39-8cf0-69b60dbfdefc\" xlink:type=\"simple\"><path d=\"M84.49,125.34 C76.34,130.27 68.69,136.72 64,145 C60.54,151.1 59.62,158.31 60,165.33 \" fill=\"none\" id=\"E8-&gt;E6\" style=\"stroke: #383838; stroke-width: 1.0; stroke-dasharray: 7.0,7.0;\"/><polygon fill=\"#383838\" points=\"60.97,173.42,63.0061,165.1221,57.0479,165.8294,60.97,173.42\" style=\"stroke: #383838; stroke-width: 1.0;\"/><text fill=\"#000000\" font-family=\"sans-serif\" font-size=\"13\" lengthAdjust=\"spacingAndGlyphs\" textLength=\"64\" x=\"65\" y=\"158.0669\">«depend»</text></a><!--MD5=[bfa3c8b0d15052fdf50ae9310b491027]\n",
       "link E8 to E7--><a href=\"psysml:209e6958-61b2-4a39-8cf0-69b60dbfdefc\" target=\"_top\" title=\"psysml:209e6958-61b2-4a39-8cf0-69b60dbfdefc\" xlink:actuate=\"onRequest\" xlink:href=\"psysml:209e6958-61b2-4a39-8cf0-69b60dbfdefc\" xlink:show=\"new\" xlink:title=\"psysml:209e6958-61b2-4a39-8cf0-69b60dbfdefc\" xlink:type=\"simple\"><path d=\"M134.19,133.57 C140.65,143.62 148.38,155.65 155.31,166.42 \" fill=\"none\" id=\"E8-&gt;E7\" style=\"stroke: #383838; stroke-width: 1.0; stroke-dasharray: 7.0,7.0;\"/><polygon fill=\"#383838\" points=\"159.72,173.29,157.9148,164.9389,152.8688,168.185,159.72,173.29\" style=\"stroke: #383838; stroke-width: 1.0;\"/><text fill=\"#000000\" font-family=\"sans-serif\" font-size=\"13\" lengthAdjust=\"spacingAndGlyphs\" textLength=\"64\" x=\"152\" y=\"158.0669\">«depend»</text></a><!--MD5=[75192aa87c5d6ad2c8a4db2b2a5ddac0]\n",
       "@startuml\r\n",
       "skinparam ranksep 10\r\n",
       "skinparam rectangle {\r\n",
       " backgroundColor<<block>> LightGreen\r\n",
       "}\r\n",
       " skinparam monochrome true\r\n",
       "skinparam classbackgroundcolor white\r\n",
       "skinparam shadowing false\r\n",
       "skinparam wrapWidth 300\r\n",
       "hide circle\r\n",
       "\r\n",
       "package \"DependencyTest\" as E1  [[psysml:eac58141-1d30-4dd4-8de7-f3beae76540f ]]  {\r\n",
       "package \"System\" as E2  [[psysml:13805519-bfbc-4c0f-88c4-787529a25875 ]]  {\r\n",
       "package \"Application Layer\" as E3  [[psysml:5348c3d7-5f8d-4656-8805-8961159c09b6 ]]  {\r\n",
       "}\r\n",
       "package \"Service Layer\" as E4  [[psysml:e92bea40-a3a7-48d4-b6b8-5548cc937669 ]]  {\r\n",
       "}\r\n",
       "package \"Data Layer\" as E5  [[psysml:9210d902-7ba4-4a43-8b80-75376691e6d0 ]]  {\r\n",
       "}\r\n",
       "}\r\n",
       "comp usage \"x\" as E6  <<(T,blue) attribute>> [[psysml:d1a2f8b3-43fe-4bb6-bcd1-ae6c73505f04 ]] {\r\n",
       "}\r\n",
       "comp usage \"y\" as E7  <<(T,blue) attribute>> [[psysml:ad948c0a-adc5-4c23-9b66-20666ae7e933 ]] {\r\n",
       "}\r\n",
       "comp usage \"z\" as E8  <<(T,blue) attribute>> [[psysml:4e191771-f0c3-4f18-930e-d8147bece3b0 ]] {\r\n",
       "}\r\n",
       "}\r\n",
       "E3 ..>> E4 [[psysml:43ea743a-a860-452f-b433-717c56c39b79 ]] : <<depend>>\r\n",
       "E4 ..>> E5 [[psysml:2fd6f227-cfe3-4fe1-af5d-016c5bccfb5b ]] : <<depend>>\r\n",
       "E8 ..>> E6 [[psysml:209e6958-61b2-4a39-8cf0-69b60dbfdefc ]] : <<depend>>\r\n",
       "E8 ..>> E7 [[psysml:209e6958-61b2-4a39-8cf0-69b60dbfdefc ]] : <<depend>>\r\n",
       "@enduml\r\n",
       "\n",
       "PlantUML version 1.2020.13(Sat Jun 13 12:26:38 UTC 2020)\n",
       "(EPL source distribution)\n",
       "Java Runtime: OpenJDK Runtime Environment\n",
       "JVM: OpenJDK 64-Bit Server VM\n",
       "Default Encoding: UTF-8\n",
       "Language: en\n",
       "Country: null\n",
       "--></g></svg>"
      ]
     },
     "execution_count": 5,
     "metadata": {},
     "output_type": "execute_result"
    }
   ],
   "source": [
    "%viz --style=\"COMPTREE\" --view=\"Interconnection\" \"DependencyTest\""
   ]
  },
  {
   "cell_type": "code",
   "execution_count": 6,
   "id": "6c6f3401",
   "metadata": {
    "execution": {
     "iopub.execute_input": "2021-10-25T08:20:44.063167Z",
     "iopub.status.busy": "2021-10-25T08:20:44.062720Z",
     "iopub.status.idle": "2021-10-25T08:20:44.067885Z",
     "shell.execute_reply": "2021-10-25T08:20:44.068178Z"
    }
   },
   "outputs": [
    {
     "data": {
      "image/svg+xml": [
       "<?xml version=\"1.0\" encoding=\"UTF-8\" standalone=\"no\"?><svg xmlns=\"http://www.w3.org/2000/svg\" xmlns:xlink=\"http://www.w3.org/1999/xlink\" contentScriptType=\"application/ecmascript\" contentStyleType=\"text/css\" height=\"12px\" preserveAspectRatio=\"none\" style=\"width:12px;height:12px;\" version=\"1.1\" viewBox=\"0 0 12 12\" width=\"12px\" zoomAndPan=\"magnify\"><defs/><g><!--MD5=[655b888544ca4751ea36af1068543f84]\n",
       "@startuml\r\n",
       "skinparam ranksep 8\r\n",
       " skinparam monochrome true\r\n",
       "skinparam classbackgroundcolor white\r\n",
       "skinparam shadowing false\r\n",
       "skinparam wrapWidth 300\r\n",
       "hide circle\r\n",
       "\r\n",
       "@enduml\r\n",
       "\n",
       "PlantUML version 1.2020.13(Sat Jun 13 12:26:38 UTC 2020)\n",
       "(EPL source distribution)\n",
       "Java Runtime: OpenJDK Runtime Environment\n",
       "JVM: OpenJDK 64-Bit Server VM\n",
       "Default Encoding: UTF-8\n",
       "Language: en\n",
       "Country: null\n",
       "--></g></svg>"
      ]
     },
     "execution_count": 6,
     "metadata": {},
     "output_type": "execute_result"
    }
   ],
   "source": [
    "%viz --style=\"COMPTREE\" --view=\"Action\" \"DependencyTest\""
   ]
  },
  {
   "cell_type": "code",
   "execution_count": 7,
   "id": "a2868528",
   "metadata": {
    "execution": {
     "iopub.execute_input": "2021-10-25T08:20:44.117975Z",
     "iopub.status.busy": "2021-10-25T08:20:44.117497Z",
     "iopub.status.idle": "2021-10-25T08:20:44.127972Z",
     "shell.execute_reply": "2021-10-25T08:20:44.127579Z"
    }
   },
   "outputs": [
    {
     "data": {
      "image/svg+xml": [
       "<?xml version=\"1.0\" encoding=\"UTF-8\" standalone=\"no\"?><svg xmlns=\"http://www.w3.org/2000/svg\" xmlns:xlink=\"http://www.w3.org/1999/xlink\" contentScriptType=\"application/ecmascript\" contentStyleType=\"text/css\" height=\"12px\" preserveAspectRatio=\"none\" style=\"width:12px;height:12px;\" version=\"1.1\" viewBox=\"0 0 12 12\" width=\"12px\" zoomAndPan=\"magnify\"><defs/><g><!--MD5=[803fc46c337be7a5c8a9831e35356779]\n",
       "@startuml\r\n",
       "skinparam roundcorner 20\r\n",
       "skinparam BoxPadding 20\r\n",
       "skinparam SequenceBoxBackgroundColor #white\r\n",
       "skinparam style strictuml\r\n",
       "skinparam maxMessageSize 100\r\n",
       " skinparam monochrome true\r\n",
       "skinparam classbackgroundcolor white\r\n",
       "skinparam shadowing false\r\n",
       "skinparam wrapWidth 300\r\n",
       "hide circle\r\n",
       "\r\n",
       "@enduml\r\n",
       "\n",
       "PlantUML version 1.2020.13(Sat Jun 13 12:26:38 UTC 2020)\n",
       "(EPL source distribution)\n",
       "Java Runtime: OpenJDK Runtime Environment\n",
       "JVM: OpenJDK 64-Bit Server VM\n",
       "Default Encoding: UTF-8\n",
       "Language: en\n",
       "Country: null\n",
       "--></g></svg>"
      ]
     },
     "execution_count": 7,
     "metadata": {},
     "output_type": "execute_result"
    }
   ],
   "source": [
    "%viz --style=\"COMPTREE\" --view=\"Sequence\" \"DependencyTest\""
   ]
  },
  {
   "cell_type": "code",
   "execution_count": 8,
   "id": "3966c801",
   "metadata": {
    "execution": {
     "iopub.execute_input": "2021-10-25T08:20:44.177133Z",
     "iopub.status.busy": "2021-10-25T08:20:44.176697Z",
     "iopub.status.idle": "2021-10-25T08:20:44.211198Z",
     "shell.execute_reply": "2021-10-25T08:20:44.210855Z"
    }
   },
   "outputs": [
    {
     "data": {
      "image/svg+xml": [
       "<?xml version=\"1.0\" encoding=\"UTF-8\" standalone=\"no\"?><svg xmlns=\"http://www.w3.org/2000/svg\" xmlns:xlink=\"http://www.w3.org/1999/xlink\" contentScriptType=\"application/ecmascript\" contentStyleType=\"text/css\" height=\"449px\" preserveAspectRatio=\"none\" style=\"width:469px;height:449px;\" version=\"1.1\" viewBox=\"0 0 469 449\" width=\"469px\" zoomAndPan=\"magnify\"><defs/><g><!--MD5=[fbc87193dbaf4d95561dea2c320d4a47]\n",
       "cluster E1--><a href=\"psysml:eac58141-1d30-4dd4-8de7-f3beae76540f\" target=\"_top\" title=\"psysml:eac58141-1d30-4dd4-8de7-f3beae76540f\" xlink:actuate=\"onRequest\" xlink:href=\"psysml:eac58141-1d30-4dd4-8de7-f3beae76540f\" xlink:show=\"new\" xlink:title=\"psysml:eac58141-1d30-4dd4-8de7-f3beae76540f\" xlink:type=\"simple\"><polygon fill=\"#FFFFFF\" points=\"16,6,142,6,149,28.2969,447,28.2969,447,437,16,437,16,6\" style=\"stroke: #000000; stroke-width: 1.5;\"/><line style=\"stroke: #000000; stroke-width: 1.5;\" x1=\"16\" x2=\"149\" y1=\"28.2969\" y2=\"28.2969\"/><text fill=\"#000000\" font-family=\"sans-serif\" font-size=\"14\" font-weight=\"bold\" lengthAdjust=\"spacingAndGlyphs\" textLength=\"120\" x=\"20\" y=\"20.9951\">DependencyTest</text></a><!--MD5=[e4f7fae6ed58524ba242bb0b0d3be6b7]\n",
       "cluster E2--><a href=\"psysml:13805519-bfbc-4c0f-88c4-787529a25875\" target=\"_top\" title=\"psysml:13805519-bfbc-4c0f-88c4-787529a25875\" xlink:actuate=\"onRequest\" xlink:href=\"psysml:13805519-bfbc-4c0f-88c4-787529a25875\" xlink:show=\"new\" xlink:title=\"psysml:13805519-bfbc-4c0f-88c4-787529a25875\" xlink:type=\"simple\"><polygon fill=\"#FFFFFF\" points=\"255,49,312,49,319,71.2969,423,71.2969,423,413,255,413,255,49\" style=\"stroke: #000000; stroke-width: 1.5;\"/><line style=\"stroke: #000000; stroke-width: 1.5;\" x1=\"255\" x2=\"319\" y1=\"71.2969\" y2=\"71.2969\"/><text fill=\"#000000\" font-family=\"sans-serif\" font-size=\"14\" font-weight=\"bold\" lengthAdjust=\"spacingAndGlyphs\" textLength=\"51\" x=\"259\" y=\"63.9951\">System</text></a><!--MD5=[60a26617385b1d2d0262a64233df1f8d]\n",
       "class E6--><a href=\"psysml:d1a2f8b3-43fe-4bb6-bcd1-ae6c73505f04\" target=\"_top\" title=\"psysml:d1a2f8b3-43fe-4bb6-bcd1-ae6c73505f04\" xlink:actuate=\"onRequest\" xlink:href=\"psysml:d1a2f8b3-43fe-4bb6-bcd1-ae6c73505f04\" xlink:show=\"new\" xlink:title=\"psysml:d1a2f8b3-43fe-4bb6-bcd1-ae6c73505f04\" xlink:type=\"simple\"><rect fill=\"#FFFFFF\" height=\"45.9375\" id=\"E6\" rx=\"10\" ry=\"10\" style=\"stroke: #383838; stroke-width: 1.5;\" width=\"71\" x=\"32.5\" y=\"217.5\"/><text fill=\"#000000\" font-family=\"sans-serif\" font-size=\"12\" font-style=\"italic\" lengthAdjust=\"spacingAndGlyphs\" textLength=\"69\" x=\"33.5\" y=\"233.6387\">«attribute»</text><text fill=\"#000000\" font-family=\"sans-serif\" font-size=\"12\" lengthAdjust=\"spacingAndGlyphs\" textLength=\"6\" x=\"65\" y=\"247.6074\">x</text><line style=\"stroke: #383838; stroke-width: 1.5;\" x1=\"33.5\" x2=\"102.5\" y1=\"255.4375\" y2=\"255.4375\"/></a><!--MD5=[2156ba9850f5573cc1fc38a6a4b2f02b]\n",
       "class E7--><a href=\"psysml:ad948c0a-adc5-4c23-9b66-20666ae7e933\" target=\"_top\" title=\"psysml:ad948c0a-adc5-4c23-9b66-20666ae7e933\" xlink:actuate=\"onRequest\" xlink:href=\"psysml:ad948c0a-adc5-4c23-9b66-20666ae7e933\" xlink:show=\"new\" xlink:title=\"psysml:ad948c0a-adc5-4c23-9b66-20666ae7e933\" xlink:type=\"simple\"><rect fill=\"#FFFFFF\" height=\"45.9375\" id=\"E7\" rx=\"10\" ry=\"10\" style=\"stroke: #383838; stroke-width: 1.5;\" width=\"71\" x=\"138.5\" y=\"217.5\"/><text fill=\"#000000\" font-family=\"sans-serif\" font-size=\"12\" font-style=\"italic\" lengthAdjust=\"spacingAndGlyphs\" textLength=\"69\" x=\"139.5\" y=\"233.6387\">«attribute»</text><text fill=\"#000000\" font-family=\"sans-serif\" font-size=\"12\" lengthAdjust=\"spacingAndGlyphs\" textLength=\"6\" x=\"171\" y=\"247.6074\">y</text><line style=\"stroke: #383838; stroke-width: 1.5;\" x1=\"139.5\" x2=\"208.5\" y1=\"255.4375\" y2=\"255.4375\"/></a><!--MD5=[b9389687b975829384b498ac4b7476b2]\n",
       "class E8--><a href=\"psysml:4e191771-f0c3-4f18-930e-d8147bece3b0\" target=\"_top\" title=\"psysml:4e191771-f0c3-4f18-930e-d8147bece3b0\" xlink:actuate=\"onRequest\" xlink:href=\"psysml:4e191771-f0c3-4f18-930e-d8147bece3b0\" xlink:show=\"new\" xlink:title=\"psysml:4e191771-f0c3-4f18-930e-d8147bece3b0\" xlink:type=\"simple\"><rect fill=\"#FFFFFF\" height=\"45.9375\" id=\"E8\" rx=\"10\" ry=\"10\" style=\"stroke: #383838; stroke-width: 1.5;\" width=\"71\" x=\"84.5\" y=\"87.5\"/><text fill=\"#000000\" font-family=\"sans-serif\" font-size=\"12\" font-style=\"italic\" lengthAdjust=\"spacingAndGlyphs\" textLength=\"69\" x=\"85.5\" y=\"103.6387\">«attribute»</text><text fill=\"#000000\" font-family=\"sans-serif\" font-size=\"12\" lengthAdjust=\"spacingAndGlyphs\" textLength=\"5\" x=\"117.5\" y=\"117.6074\">z</text><line style=\"stroke: #383838; stroke-width: 1.5;\" x1=\"85.5\" x2=\"154.5\" y1=\"125.4375\" y2=\"125.4375\"/></a><a href=\"psysml:5348c3d7-5f8d-4656-8805-8961159c09b6\" target=\"_top\" title=\"psysml:5348c3d7-5f8d-4656-8805-8961159c09b6\" xlink:actuate=\"onRequest\" xlink:href=\"psysml:5348c3d7-5f8d-4656-8805-8961159c09b6\" xlink:show=\"new\" xlink:title=\"psysml:5348c3d7-5f8d-4656-8805-8961159c09b6\" xlink:type=\"simple\"><polygon fill=\"#FFFFFF\" points=\"271.5,84,392.5,84,399.5,106.2969,406.5,106.2969,406.5,136.5938,271.5,136.5938,271.5,84\" style=\"stroke: #000000; stroke-width: 1.5;\"/><line style=\"stroke: #000000; stroke-width: 1.5;\" x1=\"271.5\" x2=\"399.5\" y1=\"106.2969\" y2=\"106.2969\"/><text fill=\"#000000\" font-family=\"sans-serif\" font-size=\"14\" font-weight=\"bold\" lengthAdjust=\"spacingAndGlyphs\" textLength=\"115\" x=\"275.5\" y=\"98.9951\">Application Layer</text></a><a href=\"psysml:e92bea40-a3a7-48d4-b6b8-5548cc937669\" target=\"_top\" title=\"psysml:e92bea40-a3a7-48d4-b6b8-5548cc937669\" xlink:actuate=\"onRequest\" xlink:href=\"psysml:e92bea40-a3a7-48d4-b6b8-5548cc937669\" xlink:show=\"new\" xlink:title=\"psysml:e92bea40-a3a7-48d4-b6b8-5548cc937669\" xlink:type=\"simple\"><polygon fill=\"#FFFFFF\" points=\"284,214,380,214,387,236.2969,394,236.2969,394,266.5938,284,266.5938,284,214\" style=\"stroke: #000000; stroke-width: 1.5;\"/><line style=\"stroke: #000000; stroke-width: 1.5;\" x1=\"284\" x2=\"387\" y1=\"236.2969\" y2=\"236.2969\"/><text fill=\"#000000\" font-family=\"sans-serif\" font-size=\"14\" font-weight=\"bold\" lengthAdjust=\"spacingAndGlyphs\" textLength=\"90\" x=\"288\" y=\"228.9951\">Service Layer</text></a><a href=\"psysml:9210d902-7ba4-4a43-8b80-75376691e6d0\" target=\"_top\" title=\"psysml:9210d902-7ba4-4a43-8b80-75376691e6d0\" xlink:actuate=\"onRequest\" xlink:href=\"psysml:9210d902-7ba4-4a43-8b80-75376691e6d0\" xlink:show=\"new\" xlink:title=\"psysml:9210d902-7ba4-4a43-8b80-75376691e6d0\" xlink:type=\"simple\"><polygon fill=\"#FFFFFF\" points=\"293,344,371,344,378,366.2969,385,366.2969,385,396.5938,293,396.5938,293,344\" style=\"stroke: #000000; stroke-width: 1.5;\"/><line style=\"stroke: #000000; stroke-width: 1.5;\" x1=\"293\" x2=\"378\" y1=\"366.2969\" y2=\"366.2969\"/><text fill=\"#000000\" font-family=\"sans-serif\" font-size=\"14\" font-weight=\"bold\" lengthAdjust=\"spacingAndGlyphs\" textLength=\"72\" x=\"297\" y=\"358.9951\">Data Layer</text></a><!--MD5=[af87c684e3b0d8be13c1a698a818ef1e]\n",
       "link E3 to E4--><a href=\"psysml:43ea743a-a860-452f-b433-717c56c39b79\" target=\"_top\" title=\"psysml:43ea743a-a860-452f-b433-717c56c39b79\" xlink:actuate=\"onRequest\" xlink:href=\"psysml:43ea743a-a860-452f-b433-717c56c39b79\" xlink:show=\"new\" xlink:title=\"psysml:43ea743a-a860-452f-b433-717c56c39b79\" xlink:type=\"simple\"><path d=\"M339,137.1 C339,156.8 339,184.22 339,205.73 \" fill=\"none\" id=\"E3-&gt;E4\" style=\"stroke: #383838; stroke-width: 1.0; stroke-dasharray: 7.0,7.0;\"/><polygon fill=\"#383838\" points=\"339,213.95,342,205.95,336,205.95,339,213.95\" style=\"stroke: #383838; stroke-width: 1.0;\"/><text fill=\"#000000\" font-family=\"sans-serif\" font-size=\"13\" lengthAdjust=\"spacingAndGlyphs\" textLength=\"64\" x=\"340\" y=\"180.0669\">«depend»</text></a><!--MD5=[1b7591eae5389033d8d09a9d6721a717]\n",
       "link E4 to E5--><a href=\"psysml:2fd6f227-cfe3-4fe1-af5d-016c5bccfb5b\" target=\"_top\" title=\"psysml:2fd6f227-cfe3-4fe1-af5d-016c5bccfb5b\" xlink:actuate=\"onRequest\" xlink:href=\"psysml:2fd6f227-cfe3-4fe1-af5d-016c5bccfb5b\" xlink:show=\"new\" xlink:title=\"psysml:2fd6f227-cfe3-4fe1-af5d-016c5bccfb5b\" xlink:type=\"simple\"><path d=\"M339,267.1 C339,286.8 339,314.22 339,335.73 \" fill=\"none\" id=\"E4-&gt;E5\" style=\"stroke: #383838; stroke-width: 1.0; stroke-dasharray: 7.0,7.0;\"/><polygon fill=\"#383838\" points=\"339,343.95,342,335.95,336,335.95,339,343.95\" style=\"stroke: #383838; stroke-width: 1.0;\"/><text fill=\"#000000\" font-family=\"sans-serif\" font-size=\"13\" lengthAdjust=\"spacingAndGlyphs\" textLength=\"64\" x=\"340\" y=\"310.0669\">«depend»</text></a><!--MD5=[c5e8897d989ce984f93528998a7150fe]\n",
       "link E8 to E6--><a href=\"psysml:209e6958-61b2-4a39-8cf0-69b60dbfdefc\" target=\"_top\" title=\"psysml:209e6958-61b2-4a39-8cf0-69b60dbfdefc\" xlink:actuate=\"onRequest\" xlink:href=\"psysml:209e6958-61b2-4a39-8cf0-69b60dbfdefc\" xlink:show=\"new\" xlink:title=\"psysml:209e6958-61b2-4a39-8cf0-69b60dbfdefc\" xlink:type=\"simple\"><path d=\"M89.42,133.6 C79.35,142.68 69.37,154.11 64,167 C58.5,180.2 58.66,195.94 60.54,209.38 \" fill=\"none\" id=\"E8-&gt;E6\" style=\"stroke: #383838; stroke-width: 1.0; stroke-dasharray: 7.0,7.0;\"/><polygon fill=\"#383838\" points=\"61.9,217.4,63.517,209.0104,57.6018,210.0159,61.9,217.4\" style=\"stroke: #383838; stroke-width: 1.0;\"/><text fill=\"#000000\" font-family=\"sans-serif\" font-size=\"13\" lengthAdjust=\"spacingAndGlyphs\" textLength=\"64\" x=\"65\" y=\"180.0669\">«depend»</text></a><!--MD5=[bfa3c8b0d15052fdf50ae9310b491027]\n",
       "link E8 to E7--><a href=\"psysml:209e6958-61b2-4a39-8cf0-69b60dbfdefc\" target=\"_top\" title=\"psysml:209e6958-61b2-4a39-8cf0-69b60dbfdefc\" xlink:actuate=\"onRequest\" xlink:href=\"psysml:209e6958-61b2-4a39-8cf0-69b60dbfdefc\" xlink:show=\"new\" xlink:title=\"psysml:209e6958-61b2-4a39-8cf0-69b60dbfdefc\" xlink:type=\"simple\"><path d=\"M129.28,133.5 C138.17,154.57 151.64,186.5 161.47,209.81 \" fill=\"none\" id=\"E8-&gt;E7\" style=\"stroke: #383838; stroke-width: 1.0; stroke-dasharray: 7.0,7.0;\"/><polygon fill=\"#383838\" points=\"164.66,217.35,164.3241,208.8126,158.7933,211.1385,164.66,217.35\" style=\"stroke: #383838; stroke-width: 1.0;\"/><text fill=\"#000000\" font-family=\"sans-serif\" font-size=\"13\" lengthAdjust=\"spacingAndGlyphs\" textLength=\"64\" x=\"151\" y=\"180.0669\">«depend»</text></a><!--MD5=[b6ff26bac8a0d70c4f3fb067c11217a1]\n",
       "@startuml\r\n",
       " skinparam monochrome true\r\n",
       "skinparam classbackgroundcolor white\r\n",
       "skinparam shadowing false\r\n",
       "skinparam wrapWidth 300\r\n",
       "hide circle\r\n",
       "\r\n",
       "package \"DependencyTest\" as E1  [[psysml:eac58141-1d30-4dd4-8de7-f3beae76540f ]]  {\r\n",
       "package \"System\" as E2  [[psysml:13805519-bfbc-4c0f-88c4-787529a25875 ]]  {\r\n",
       "package \"Application Layer\" as E3  [[psysml:5348c3d7-5f8d-4656-8805-8961159c09b6 ]]  {\r\n",
       "}\r\n",
       "package \"Service Layer\" as E4  [[psysml:e92bea40-a3a7-48d4-b6b8-5548cc937669 ]]  {\r\n",
       "}\r\n",
       "package \"Data Layer\" as E5  [[psysml:9210d902-7ba4-4a43-8b80-75376691e6d0 ]]  {\r\n",
       "}\r\n",
       "}\r\n",
       "comp usage \"x\" as E6  <<(T,blue) attribute>> [[psysml:d1a2f8b3-43fe-4bb6-bcd1-ae6c73505f04 ]] {\r\n",
       "}\r\n",
       "comp usage \"y\" as E7  <<(T,blue) attribute>> [[psysml:ad948c0a-adc5-4c23-9b66-20666ae7e933 ]] {\r\n",
       "}\r\n",
       "comp usage \"z\" as E8  <<(T,blue) attribute>> [[psysml:4e191771-f0c3-4f18-930e-d8147bece3b0 ]] {\r\n",
       "}\r\n",
       "}\r\n",
       "E3 ..>> E4 [[psysml:43ea743a-a860-452f-b433-717c56c39b79 ]] : <<depend>>\r\n",
       "E4 ..>> E5 [[psysml:2fd6f227-cfe3-4fe1-af5d-016c5bccfb5b ]] : <<depend>>\r\n",
       "E8 ..>> E6 [[psysml:209e6958-61b2-4a39-8cf0-69b60dbfdefc ]] : <<depend>>\r\n",
       "E8 ..>> E7 [[psysml:209e6958-61b2-4a39-8cf0-69b60dbfdefc ]] : <<depend>>\r\n",
       "@enduml\r\n",
       "\n",
       "PlantUML version 1.2020.13(Sat Jun 13 12:26:38 UTC 2020)\n",
       "(EPL source distribution)\n",
       "Java Runtime: OpenJDK Runtime Environment\n",
       "JVM: OpenJDK 64-Bit Server VM\n",
       "Default Encoding: UTF-8\n",
       "Language: en\n",
       "Country: null\n",
       "--></g></svg>"
      ]
     },
     "execution_count": 8,
     "metadata": {},
     "output_type": "execute_result"
    }
   ],
   "source": [
    "%viz --style=\"COMPTREE\" --view=\"MIXED\" \"DependencyTest\""
   ]
  },
  {
   "cell_type": "code",
   "execution_count": 9,
   "id": "9f5c1777",
   "metadata": {
    "execution": {
     "iopub.execute_input": "2021-10-25T08:20:44.260461Z",
     "iopub.status.busy": "2021-10-25T08:20:44.260003Z",
     "iopub.status.idle": "2021-10-25T08:20:44.299738Z",
     "shell.execute_reply": "2021-10-25T08:20:44.297839Z"
    }
   },
   "outputs": [
    {
     "data": {
      "image/svg+xml": [
       "<?xml version=\"1.0\" encoding=\"UTF-8\" standalone=\"no\"?><svg xmlns=\"http://www.w3.org/2000/svg\" xmlns:xlink=\"http://www.w3.org/1999/xlink\" contentScriptType=\"application/ecmascript\" contentStyleType=\"text/css\" height=\"449px\" preserveAspectRatio=\"none\" style=\"width:469px;height:449px;\" version=\"1.1\" viewBox=\"0 0 469 449\" width=\"469px\" zoomAndPan=\"magnify\"><defs/><g><!--MD5=[fbc87193dbaf4d95561dea2c320d4a47]\n",
       "cluster E1--><a href=\"psysml:eac58141-1d30-4dd4-8de7-f3beae76540f\" target=\"_top\" title=\"psysml:eac58141-1d30-4dd4-8de7-f3beae76540f\" xlink:actuate=\"onRequest\" xlink:href=\"psysml:eac58141-1d30-4dd4-8de7-f3beae76540f\" xlink:show=\"new\" xlink:title=\"psysml:eac58141-1d30-4dd4-8de7-f3beae76540f\" xlink:type=\"simple\"><polygon fill=\"#FFFFFF\" points=\"16,6,142,6,149,28.2969,447,28.2969,447,437,16,437,16,6\" style=\"stroke: #000000; stroke-width: 1.5;\"/><line style=\"stroke: #000000; stroke-width: 1.5;\" x1=\"16\" x2=\"149\" y1=\"28.2969\" y2=\"28.2969\"/><text fill=\"#000000\" font-family=\"sans-serif\" font-size=\"14\" font-weight=\"bold\" lengthAdjust=\"spacingAndGlyphs\" textLength=\"120\" x=\"20\" y=\"20.9951\">DependencyTest</text></a><!--MD5=[e4f7fae6ed58524ba242bb0b0d3be6b7]\n",
       "cluster E2--><a href=\"psysml:13805519-bfbc-4c0f-88c4-787529a25875\" target=\"_top\" title=\"psysml:13805519-bfbc-4c0f-88c4-787529a25875\" xlink:actuate=\"onRequest\" xlink:href=\"psysml:13805519-bfbc-4c0f-88c4-787529a25875\" xlink:show=\"new\" xlink:title=\"psysml:13805519-bfbc-4c0f-88c4-787529a25875\" xlink:type=\"simple\"><polygon fill=\"#FFFFFF\" points=\"255,49,312,49,319,71.2969,423,71.2969,423,413,255,413,255,49\" style=\"stroke: #000000; stroke-width: 1.5;\"/><line style=\"stroke: #000000; stroke-width: 1.5;\" x1=\"255\" x2=\"319\" y1=\"71.2969\" y2=\"71.2969\"/><text fill=\"#000000\" font-family=\"sans-serif\" font-size=\"14\" font-weight=\"bold\" lengthAdjust=\"spacingAndGlyphs\" textLength=\"51\" x=\"259\" y=\"63.9951\">System</text></a><!--MD5=[60a26617385b1d2d0262a64233df1f8d]\n",
       "class E6--><a href=\"psysml:d1a2f8b3-43fe-4bb6-bcd1-ae6c73505f04\" target=\"_top\" title=\"psysml:d1a2f8b3-43fe-4bb6-bcd1-ae6c73505f04\" xlink:actuate=\"onRequest\" xlink:href=\"psysml:d1a2f8b3-43fe-4bb6-bcd1-ae6c73505f04\" xlink:show=\"new\" xlink:title=\"psysml:d1a2f8b3-43fe-4bb6-bcd1-ae6c73505f04\" xlink:type=\"simple\"><rect fill=\"#FFFFFF\" height=\"45.9375\" id=\"E6\" rx=\"10\" ry=\"10\" style=\"stroke: #383838; stroke-width: 1.5;\" width=\"71\" x=\"32.5\" y=\"217.5\"/><text fill=\"#000000\" font-family=\"sans-serif\" font-size=\"12\" font-style=\"italic\" lengthAdjust=\"spacingAndGlyphs\" textLength=\"69\" x=\"33.5\" y=\"233.6387\">«attribute»</text><text fill=\"#000000\" font-family=\"sans-serif\" font-size=\"12\" lengthAdjust=\"spacingAndGlyphs\" textLength=\"6\" x=\"65\" y=\"247.6074\">x</text><line style=\"stroke: #383838; stroke-width: 1.5;\" x1=\"33.5\" x2=\"102.5\" y1=\"255.4375\" y2=\"255.4375\"/></a><!--MD5=[2156ba9850f5573cc1fc38a6a4b2f02b]\n",
       "class E7--><a href=\"psysml:ad948c0a-adc5-4c23-9b66-20666ae7e933\" target=\"_top\" title=\"psysml:ad948c0a-adc5-4c23-9b66-20666ae7e933\" xlink:actuate=\"onRequest\" xlink:href=\"psysml:ad948c0a-adc5-4c23-9b66-20666ae7e933\" xlink:show=\"new\" xlink:title=\"psysml:ad948c0a-adc5-4c23-9b66-20666ae7e933\" xlink:type=\"simple\"><rect fill=\"#FFFFFF\" height=\"45.9375\" id=\"E7\" rx=\"10\" ry=\"10\" style=\"stroke: #383838; stroke-width: 1.5;\" width=\"71\" x=\"138.5\" y=\"217.5\"/><text fill=\"#000000\" font-family=\"sans-serif\" font-size=\"12\" font-style=\"italic\" lengthAdjust=\"spacingAndGlyphs\" textLength=\"69\" x=\"139.5\" y=\"233.6387\">«attribute»</text><text fill=\"#000000\" font-family=\"sans-serif\" font-size=\"12\" lengthAdjust=\"spacingAndGlyphs\" textLength=\"6\" x=\"171\" y=\"247.6074\">y</text><line style=\"stroke: #383838; stroke-width: 1.5;\" x1=\"139.5\" x2=\"208.5\" y1=\"255.4375\" y2=\"255.4375\"/></a><!--MD5=[b9389687b975829384b498ac4b7476b2]\n",
       "class E8--><a href=\"psysml:4e191771-f0c3-4f18-930e-d8147bece3b0\" target=\"_top\" title=\"psysml:4e191771-f0c3-4f18-930e-d8147bece3b0\" xlink:actuate=\"onRequest\" xlink:href=\"psysml:4e191771-f0c3-4f18-930e-d8147bece3b0\" xlink:show=\"new\" xlink:title=\"psysml:4e191771-f0c3-4f18-930e-d8147bece3b0\" xlink:type=\"simple\"><rect fill=\"#FFFFFF\" height=\"45.9375\" id=\"E8\" rx=\"10\" ry=\"10\" style=\"stroke: #383838; stroke-width: 1.5;\" width=\"71\" x=\"84.5\" y=\"87.5\"/><text fill=\"#000000\" font-family=\"sans-serif\" font-size=\"12\" font-style=\"italic\" lengthAdjust=\"spacingAndGlyphs\" textLength=\"69\" x=\"85.5\" y=\"103.6387\">«attribute»</text><text fill=\"#000000\" font-family=\"sans-serif\" font-size=\"12\" lengthAdjust=\"spacingAndGlyphs\" textLength=\"5\" x=\"117.5\" y=\"117.6074\">z</text><line style=\"stroke: #383838; stroke-width: 1.5;\" x1=\"85.5\" x2=\"154.5\" y1=\"125.4375\" y2=\"125.4375\"/></a><a href=\"psysml:5348c3d7-5f8d-4656-8805-8961159c09b6\" target=\"_top\" title=\"psysml:5348c3d7-5f8d-4656-8805-8961159c09b6\" xlink:actuate=\"onRequest\" xlink:href=\"psysml:5348c3d7-5f8d-4656-8805-8961159c09b6\" xlink:show=\"new\" xlink:title=\"psysml:5348c3d7-5f8d-4656-8805-8961159c09b6\" xlink:type=\"simple\"><polygon fill=\"#FFFFFF\" points=\"271.5,84,392.5,84,399.5,106.2969,406.5,106.2969,406.5,136.5938,271.5,136.5938,271.5,84\" style=\"stroke: #000000; stroke-width: 1.5;\"/><line style=\"stroke: #000000; stroke-width: 1.5;\" x1=\"271.5\" x2=\"399.5\" y1=\"106.2969\" y2=\"106.2969\"/><text fill=\"#000000\" font-family=\"sans-serif\" font-size=\"14\" font-weight=\"bold\" lengthAdjust=\"spacingAndGlyphs\" textLength=\"115\" x=\"275.5\" y=\"98.9951\">Application Layer</text></a><a href=\"psysml:e92bea40-a3a7-48d4-b6b8-5548cc937669\" target=\"_top\" title=\"psysml:e92bea40-a3a7-48d4-b6b8-5548cc937669\" xlink:actuate=\"onRequest\" xlink:href=\"psysml:e92bea40-a3a7-48d4-b6b8-5548cc937669\" xlink:show=\"new\" xlink:title=\"psysml:e92bea40-a3a7-48d4-b6b8-5548cc937669\" xlink:type=\"simple\"><polygon fill=\"#FFFFFF\" points=\"284,214,380,214,387,236.2969,394,236.2969,394,266.5938,284,266.5938,284,214\" style=\"stroke: #000000; stroke-width: 1.5;\"/><line style=\"stroke: #000000; stroke-width: 1.5;\" x1=\"284\" x2=\"387\" y1=\"236.2969\" y2=\"236.2969\"/><text fill=\"#000000\" font-family=\"sans-serif\" font-size=\"14\" font-weight=\"bold\" lengthAdjust=\"spacingAndGlyphs\" textLength=\"90\" x=\"288\" y=\"228.9951\">Service Layer</text></a><a href=\"psysml:9210d902-7ba4-4a43-8b80-75376691e6d0\" target=\"_top\" title=\"psysml:9210d902-7ba4-4a43-8b80-75376691e6d0\" xlink:actuate=\"onRequest\" xlink:href=\"psysml:9210d902-7ba4-4a43-8b80-75376691e6d0\" xlink:show=\"new\" xlink:title=\"psysml:9210d902-7ba4-4a43-8b80-75376691e6d0\" xlink:type=\"simple\"><polygon fill=\"#FFFFFF\" points=\"293,344,371,344,378,366.2969,385,366.2969,385,396.5938,293,396.5938,293,344\" style=\"stroke: #000000; stroke-width: 1.5;\"/><line style=\"stroke: #000000; stroke-width: 1.5;\" x1=\"293\" x2=\"378\" y1=\"366.2969\" y2=\"366.2969\"/><text fill=\"#000000\" font-family=\"sans-serif\" font-size=\"14\" font-weight=\"bold\" lengthAdjust=\"spacingAndGlyphs\" textLength=\"72\" x=\"297\" y=\"358.9951\">Data Layer</text></a><!--MD5=[af87c684e3b0d8be13c1a698a818ef1e]\n",
       "link E3 to E4--><a href=\"psysml:43ea743a-a860-452f-b433-717c56c39b79\" target=\"_top\" title=\"psysml:43ea743a-a860-452f-b433-717c56c39b79\" xlink:actuate=\"onRequest\" xlink:href=\"psysml:43ea743a-a860-452f-b433-717c56c39b79\" xlink:show=\"new\" xlink:title=\"psysml:43ea743a-a860-452f-b433-717c56c39b79\" xlink:type=\"simple\"><path d=\"M339,137.1 C339,156.8 339,184.22 339,205.73 \" fill=\"none\" id=\"E3-&gt;E4\" style=\"stroke: #383838; stroke-width: 1.0; stroke-dasharray: 7.0,7.0;\"/><polygon fill=\"#383838\" points=\"339,213.95,342,205.95,336,205.95,339,213.95\" style=\"stroke: #383838; stroke-width: 1.0;\"/><text fill=\"#000000\" font-family=\"sans-serif\" font-size=\"13\" lengthAdjust=\"spacingAndGlyphs\" textLength=\"64\" x=\"340\" y=\"180.0669\">«depend»</text></a><!--MD5=[1b7591eae5389033d8d09a9d6721a717]\n",
       "link E4 to E5--><a href=\"psysml:2fd6f227-cfe3-4fe1-af5d-016c5bccfb5b\" target=\"_top\" title=\"psysml:2fd6f227-cfe3-4fe1-af5d-016c5bccfb5b\" xlink:actuate=\"onRequest\" xlink:href=\"psysml:2fd6f227-cfe3-4fe1-af5d-016c5bccfb5b\" xlink:show=\"new\" xlink:title=\"psysml:2fd6f227-cfe3-4fe1-af5d-016c5bccfb5b\" xlink:type=\"simple\"><path d=\"M339,267.1 C339,286.8 339,314.22 339,335.73 \" fill=\"none\" id=\"E4-&gt;E5\" style=\"stroke: #383838; stroke-width: 1.0; stroke-dasharray: 7.0,7.0;\"/><polygon fill=\"#383838\" points=\"339,343.95,342,335.95,336,335.95,339,343.95\" style=\"stroke: #383838; stroke-width: 1.0;\"/><text fill=\"#000000\" font-family=\"sans-serif\" font-size=\"13\" lengthAdjust=\"spacingAndGlyphs\" textLength=\"64\" x=\"340\" y=\"310.0669\">«depend»</text></a><!--MD5=[c5e8897d989ce984f93528998a7150fe]\n",
       "link E8 to E6--><a href=\"psysml:209e6958-61b2-4a39-8cf0-69b60dbfdefc\" target=\"_top\" title=\"psysml:209e6958-61b2-4a39-8cf0-69b60dbfdefc\" xlink:actuate=\"onRequest\" xlink:href=\"psysml:209e6958-61b2-4a39-8cf0-69b60dbfdefc\" xlink:show=\"new\" xlink:title=\"psysml:209e6958-61b2-4a39-8cf0-69b60dbfdefc\" xlink:type=\"simple\"><path d=\"M97.55,133.75 C81.97,149.19 64,167 64,167 C64,167 64,184 64,184 C64,184 64.88,196.21 65.81,209.18 \" fill=\"none\" id=\"E8-&gt;E6\" style=\"stroke: #383838; stroke-width: 1.0; stroke-dasharray: 7.0,7.0;\"/><polygon fill=\"#383838\" points=\"66.4,217.25,68.8203,209.056,62.8357,209.485,66.4,217.25\" style=\"stroke: #383838; stroke-width: 1.0;\"/><text fill=\"#000000\" font-family=\"sans-serif\" font-size=\"13\" lengthAdjust=\"spacingAndGlyphs\" textLength=\"64\" x=\"65\" y=\"180.0669\">«depend»</text></a><!--MD5=[bfa3c8b0d15052fdf50ae9310b491027]\n",
       "link E8 to E7--><a href=\"psysml:209e6958-61b2-4a39-8cf0-69b60dbfdefc\" target=\"_top\" title=\"psysml:209e6958-61b2-4a39-8cf0-69b60dbfdefc\" xlink:actuate=\"onRequest\" xlink:href=\"psysml:209e6958-61b2-4a39-8cf0-69b60dbfdefc\" xlink:show=\"new\" xlink:title=\"psysml:209e6958-61b2-4a39-8cf0-69b60dbfdefc\" xlink:type=\"simple\"><path d=\"M129.28,133.5 C138.17,154.57 151.64,186.5 161.47,209.81 \" fill=\"none\" id=\"E8-&gt;E7\" style=\"stroke: #383838; stroke-width: 1.0; stroke-dasharray: 7.0,7.0;\"/><polygon fill=\"#383838\" points=\"164.66,217.35,164.3241,208.8126,158.7933,211.1385,164.66,217.35\" style=\"stroke: #383838; stroke-width: 1.0;\"/><text fill=\"#000000\" font-family=\"sans-serif\" font-size=\"13\" lengthAdjust=\"spacingAndGlyphs\" textLength=\"64\" x=\"151\" y=\"180.0669\">«depend»</text></a><!--MD5=[0fb274dbe7c82c6dabb8d0057472e90b]\n",
       "@startuml\r\n",
       "skinparam linetype polyline\r\n",
       "skinparam monochrome true\r\n",
       "skinparam classbackgroundcolor white\r\n",
       "skinparam shadowing false\r\n",
       "skinparam wrapWidth 300\r\n",
       "hide circle\r\n",
       "\r\n",
       "package \"DependencyTest\" as E1  [[psysml:eac58141-1d30-4dd4-8de7-f3beae76540f ]]  {\r\n",
       "package \"System\" as E2  [[psysml:13805519-bfbc-4c0f-88c4-787529a25875 ]]  {\r\n",
       "package \"Application Layer\" as E3  [[psysml:5348c3d7-5f8d-4656-8805-8961159c09b6 ]]  {\r\n",
       "}\r\n",
       "package \"Service Layer\" as E4  [[psysml:e92bea40-a3a7-48d4-b6b8-5548cc937669 ]]  {\r\n",
       "}\r\n",
       "package \"Data Layer\" as E5  [[psysml:9210d902-7ba4-4a43-8b80-75376691e6d0 ]]  {\r\n",
       "}\r\n",
       "}\r\n",
       "comp usage \"x\" as E6  <<(T,blue) attribute>> [[psysml:d1a2f8b3-43fe-4bb6-bcd1-ae6c73505f04 ]] {\r\n",
       "}\r\n",
       "comp usage \"y\" as E7  <<(T,blue) attribute>> [[psysml:ad948c0a-adc5-4c23-9b66-20666ae7e933 ]] {\r\n",
       "}\r\n",
       "comp usage \"z\" as E8  <<(T,blue) attribute>> [[psysml:4e191771-f0c3-4f18-930e-d8147bece3b0 ]] {\r\n",
       "}\r\n",
       "}\r\n",
       "E3 ..>> E4 [[psysml:43ea743a-a860-452f-b433-717c56c39b79 ]] : <<depend>>\r\n",
       "E4 ..>> E5 [[psysml:2fd6f227-cfe3-4fe1-af5d-016c5bccfb5b ]] : <<depend>>\r\n",
       "E8 ..>> E6 [[psysml:209e6958-61b2-4a39-8cf0-69b60dbfdefc ]] : <<depend>>\r\n",
       "E8 ..>> E7 [[psysml:209e6958-61b2-4a39-8cf0-69b60dbfdefc ]] : <<depend>>\r\n",
       "@enduml\r\n",
       "\n",
       "PlantUML version 1.2020.13(Sat Jun 13 12:26:38 UTC 2020)\n",
       "(EPL source distribution)\n",
       "Java Runtime: OpenJDK Runtime Environment\n",
       "JVM: OpenJDK 64-Bit Server VM\n",
       "Default Encoding: UTF-8\n",
       "Language: en\n",
       "Country: null\n",
       "--></g></svg>"
      ]
     },
     "execution_count": 9,
     "metadata": {},
     "output_type": "execute_result"
    }
   ],
   "source": [
    "%viz --style=\"POLYLINE\" --view=\"Default\" \"DependencyTest\""
   ]
  },
  {
   "cell_type": "code",
   "execution_count": 10,
   "id": "c6ebaac3",
   "metadata": {
    "execution": {
     "iopub.execute_input": "2021-10-25T08:20:44.349009Z",
     "iopub.status.busy": "2021-10-25T08:20:44.348520Z",
     "iopub.status.idle": "2021-10-25T08:20:44.389677Z",
     "shell.execute_reply": "2021-10-25T08:20:44.389146Z"
    }
   },
   "outputs": [
    {
     "data": {
      "image/svg+xml": [
       "<?xml version=\"1.0\" encoding=\"UTF-8\" standalone=\"no\"?><svg xmlns=\"http://www.w3.org/2000/svg\" xmlns:xlink=\"http://www.w3.org/1999/xlink\" contentScriptType=\"application/ecmascript\" contentStyleType=\"text/css\" height=\"449px\" preserveAspectRatio=\"none\" style=\"width:469px;height:449px;\" version=\"1.1\" viewBox=\"0 0 469 449\" width=\"469px\" zoomAndPan=\"magnify\"><defs/><g><!--MD5=[fbc87193dbaf4d95561dea2c320d4a47]\n",
       "cluster E1--><a href=\"psysml:eac58141-1d30-4dd4-8de7-f3beae76540f\" target=\"_top\" title=\"psysml:eac58141-1d30-4dd4-8de7-f3beae76540f\" xlink:actuate=\"onRequest\" xlink:href=\"psysml:eac58141-1d30-4dd4-8de7-f3beae76540f\" xlink:show=\"new\" xlink:title=\"psysml:eac58141-1d30-4dd4-8de7-f3beae76540f\" xlink:type=\"simple\"><polygon fill=\"#FFFFFF\" points=\"16,6,142,6,149,28.2969,447,28.2969,447,437,16,437,16,6\" style=\"stroke: #000000; stroke-width: 1.5;\"/><line style=\"stroke: #000000; stroke-width: 1.5;\" x1=\"16\" x2=\"149\" y1=\"28.2969\" y2=\"28.2969\"/><text fill=\"#000000\" font-family=\"sans-serif\" font-size=\"14\" font-weight=\"bold\" lengthAdjust=\"spacingAndGlyphs\" textLength=\"120\" x=\"20\" y=\"20.9951\">DependencyTest</text></a><!--MD5=[e4f7fae6ed58524ba242bb0b0d3be6b7]\n",
       "cluster E2--><a href=\"psysml:13805519-bfbc-4c0f-88c4-787529a25875\" target=\"_top\" title=\"psysml:13805519-bfbc-4c0f-88c4-787529a25875\" xlink:actuate=\"onRequest\" xlink:href=\"psysml:13805519-bfbc-4c0f-88c4-787529a25875\" xlink:show=\"new\" xlink:title=\"psysml:13805519-bfbc-4c0f-88c4-787529a25875\" xlink:type=\"simple\"><polygon fill=\"#FFFFFF\" points=\"255,49,312,49,319,71.2969,423,71.2969,423,413,255,413,255,49\" style=\"stroke: #000000; stroke-width: 1.5;\"/><line style=\"stroke: #000000; stroke-width: 1.5;\" x1=\"255\" x2=\"319\" y1=\"71.2969\" y2=\"71.2969\"/><text fill=\"#000000\" font-family=\"sans-serif\" font-size=\"14\" font-weight=\"bold\" lengthAdjust=\"spacingAndGlyphs\" textLength=\"51\" x=\"259\" y=\"63.9951\">System</text></a><!--MD5=[60a26617385b1d2d0262a64233df1f8d]\n",
       "class E6--><a href=\"psysml:d1a2f8b3-43fe-4bb6-bcd1-ae6c73505f04\" target=\"_top\" title=\"psysml:d1a2f8b3-43fe-4bb6-bcd1-ae6c73505f04\" xlink:actuate=\"onRequest\" xlink:href=\"psysml:d1a2f8b3-43fe-4bb6-bcd1-ae6c73505f04\" xlink:show=\"new\" xlink:title=\"psysml:d1a2f8b3-43fe-4bb6-bcd1-ae6c73505f04\" xlink:type=\"simple\"><rect fill=\"#FFFFFF\" height=\"45.9375\" id=\"E6\" rx=\"10\" ry=\"10\" style=\"stroke: #383838; stroke-width: 1.5;\" width=\"71\" x=\"32.5\" y=\"217.5\"/><text fill=\"#000000\" font-family=\"sans-serif\" font-size=\"12\" font-style=\"italic\" lengthAdjust=\"spacingAndGlyphs\" textLength=\"69\" x=\"33.5\" y=\"233.6387\">«attribute»</text><text fill=\"#000000\" font-family=\"sans-serif\" font-size=\"12\" lengthAdjust=\"spacingAndGlyphs\" textLength=\"6\" x=\"65\" y=\"247.6074\">x</text><line style=\"stroke: #383838; stroke-width: 1.5;\" x1=\"33.5\" x2=\"102.5\" y1=\"255.4375\" y2=\"255.4375\"/></a><!--MD5=[2156ba9850f5573cc1fc38a6a4b2f02b]\n",
       "class E7--><a href=\"psysml:ad948c0a-adc5-4c23-9b66-20666ae7e933\" target=\"_top\" title=\"psysml:ad948c0a-adc5-4c23-9b66-20666ae7e933\" xlink:actuate=\"onRequest\" xlink:href=\"psysml:ad948c0a-adc5-4c23-9b66-20666ae7e933\" xlink:show=\"new\" xlink:title=\"psysml:ad948c0a-adc5-4c23-9b66-20666ae7e933\" xlink:type=\"simple\"><rect fill=\"#FFFFFF\" height=\"45.9375\" id=\"E7\" rx=\"10\" ry=\"10\" style=\"stroke: #383838; stroke-width: 1.5;\" width=\"71\" x=\"138.5\" y=\"217.5\"/><text fill=\"#000000\" font-family=\"sans-serif\" font-size=\"12\" font-style=\"italic\" lengthAdjust=\"spacingAndGlyphs\" textLength=\"69\" x=\"139.5\" y=\"233.6387\">«attribute»</text><text fill=\"#000000\" font-family=\"sans-serif\" font-size=\"12\" lengthAdjust=\"spacingAndGlyphs\" textLength=\"6\" x=\"171\" y=\"247.6074\">y</text><line style=\"stroke: #383838; stroke-width: 1.5;\" x1=\"139.5\" x2=\"208.5\" y1=\"255.4375\" y2=\"255.4375\"/></a><!--MD5=[b9389687b975829384b498ac4b7476b2]\n",
       "class E8--><a href=\"psysml:4e191771-f0c3-4f18-930e-d8147bece3b0\" target=\"_top\" title=\"psysml:4e191771-f0c3-4f18-930e-d8147bece3b0\" xlink:actuate=\"onRequest\" xlink:href=\"psysml:4e191771-f0c3-4f18-930e-d8147bece3b0\" xlink:show=\"new\" xlink:title=\"psysml:4e191771-f0c3-4f18-930e-d8147bece3b0\" xlink:type=\"simple\"><rect fill=\"#FFFFFF\" height=\"45.9375\" id=\"E8\" rx=\"10\" ry=\"10\" style=\"stroke: #383838; stroke-width: 1.5;\" width=\"71\" x=\"84.5\" y=\"87.5\"/><text fill=\"#000000\" font-family=\"sans-serif\" font-size=\"12\" font-style=\"italic\" lengthAdjust=\"spacingAndGlyphs\" textLength=\"69\" x=\"85.5\" y=\"103.6387\">«attribute»</text><text fill=\"#000000\" font-family=\"sans-serif\" font-size=\"12\" lengthAdjust=\"spacingAndGlyphs\" textLength=\"5\" x=\"117.5\" y=\"117.6074\">z</text><line style=\"stroke: #383838; stroke-width: 1.5;\" x1=\"85.5\" x2=\"154.5\" y1=\"125.4375\" y2=\"125.4375\"/></a><a href=\"psysml:5348c3d7-5f8d-4656-8805-8961159c09b6\" target=\"_top\" title=\"psysml:5348c3d7-5f8d-4656-8805-8961159c09b6\" xlink:actuate=\"onRequest\" xlink:href=\"psysml:5348c3d7-5f8d-4656-8805-8961159c09b6\" xlink:show=\"new\" xlink:title=\"psysml:5348c3d7-5f8d-4656-8805-8961159c09b6\" xlink:type=\"simple\"><polygon fill=\"#FFFFFF\" points=\"271.5,84,392.5,84,399.5,106.2969,406.5,106.2969,406.5,136.5938,271.5,136.5938,271.5,84\" style=\"stroke: #000000; stroke-width: 1.5;\"/><line style=\"stroke: #000000; stroke-width: 1.5;\" x1=\"271.5\" x2=\"399.5\" y1=\"106.2969\" y2=\"106.2969\"/><text fill=\"#000000\" font-family=\"sans-serif\" font-size=\"14\" font-weight=\"bold\" lengthAdjust=\"spacingAndGlyphs\" textLength=\"115\" x=\"275.5\" y=\"98.9951\">Application Layer</text></a><a href=\"psysml:e92bea40-a3a7-48d4-b6b8-5548cc937669\" target=\"_top\" title=\"psysml:e92bea40-a3a7-48d4-b6b8-5548cc937669\" xlink:actuate=\"onRequest\" xlink:href=\"psysml:e92bea40-a3a7-48d4-b6b8-5548cc937669\" xlink:show=\"new\" xlink:title=\"psysml:e92bea40-a3a7-48d4-b6b8-5548cc937669\" xlink:type=\"simple\"><polygon fill=\"#FFFFFF\" points=\"284,214,380,214,387,236.2969,394,236.2969,394,266.5938,284,266.5938,284,214\" style=\"stroke: #000000; stroke-width: 1.5;\"/><line style=\"stroke: #000000; stroke-width: 1.5;\" x1=\"284\" x2=\"387\" y1=\"236.2969\" y2=\"236.2969\"/><text fill=\"#000000\" font-family=\"sans-serif\" font-size=\"14\" font-weight=\"bold\" lengthAdjust=\"spacingAndGlyphs\" textLength=\"90\" x=\"288\" y=\"228.9951\">Service Layer</text></a><a href=\"psysml:9210d902-7ba4-4a43-8b80-75376691e6d0\" target=\"_top\" title=\"psysml:9210d902-7ba4-4a43-8b80-75376691e6d0\" xlink:actuate=\"onRequest\" xlink:href=\"psysml:9210d902-7ba4-4a43-8b80-75376691e6d0\" xlink:show=\"new\" xlink:title=\"psysml:9210d902-7ba4-4a43-8b80-75376691e6d0\" xlink:type=\"simple\"><polygon fill=\"#FFFFFF\" points=\"293,344,371,344,378,366.2969,385,366.2969,385,396.5938,293,396.5938,293,344\" style=\"stroke: #000000; stroke-width: 1.5;\"/><line style=\"stroke: #000000; stroke-width: 1.5;\" x1=\"293\" x2=\"378\" y1=\"366.2969\" y2=\"366.2969\"/><text fill=\"#000000\" font-family=\"sans-serif\" font-size=\"14\" font-weight=\"bold\" lengthAdjust=\"spacingAndGlyphs\" textLength=\"72\" x=\"297\" y=\"358.9951\">Data Layer</text></a><!--MD5=[af87c684e3b0d8be13c1a698a818ef1e]\n",
       "link E3 to E4--><a href=\"psysml:43ea743a-a860-452f-b433-717c56c39b79\" target=\"_top\" title=\"psysml:43ea743a-a860-452f-b433-717c56c39b79\" xlink:actuate=\"onRequest\" xlink:href=\"psysml:43ea743a-a860-452f-b433-717c56c39b79\" xlink:show=\"new\" xlink:title=\"psysml:43ea743a-a860-452f-b433-717c56c39b79\" xlink:type=\"simple\"><path d=\"M339,137.1 C339,156.8 339,184.22 339,205.73 \" fill=\"none\" id=\"E3-&gt;E4\" style=\"stroke: #383838; stroke-width: 1.0; stroke-dasharray: 7.0,7.0;\"/><polygon fill=\"#383838\" points=\"339,213.95,342,205.95,336,205.95,339,213.95\" style=\"stroke: #383838; stroke-width: 1.0;\"/><text fill=\"#000000\" font-family=\"sans-serif\" font-size=\"13\" lengthAdjust=\"spacingAndGlyphs\" textLength=\"64\" x=\"340\" y=\"180.0669\">«depend»</text></a><!--MD5=[1b7591eae5389033d8d09a9d6721a717]\n",
       "link E4 to E5--><a href=\"psysml:2fd6f227-cfe3-4fe1-af5d-016c5bccfb5b\" target=\"_top\" title=\"psysml:2fd6f227-cfe3-4fe1-af5d-016c5bccfb5b\" xlink:actuate=\"onRequest\" xlink:href=\"psysml:2fd6f227-cfe3-4fe1-af5d-016c5bccfb5b\" xlink:show=\"new\" xlink:title=\"psysml:2fd6f227-cfe3-4fe1-af5d-016c5bccfb5b\" xlink:type=\"simple\"><path d=\"M339,267.1 C339,286.8 339,314.22 339,335.73 \" fill=\"none\" id=\"E4-&gt;E5\" style=\"stroke: #383838; stroke-width: 1.0; stroke-dasharray: 7.0,7.0;\"/><polygon fill=\"#383838\" points=\"339,343.95,342,335.95,336,335.95,339,343.95\" style=\"stroke: #383838; stroke-width: 1.0;\"/><text fill=\"#000000\" font-family=\"sans-serif\" font-size=\"13\" lengthAdjust=\"spacingAndGlyphs\" textLength=\"64\" x=\"340\" y=\"310.0669\">«depend»</text></a><!--MD5=[c5e8897d989ce984f93528998a7150fe]\n",
       "link E8 to E6--><a href=\"psysml:209e6958-61b2-4a39-8cf0-69b60dbfdefc\" target=\"_top\" title=\"psysml:209e6958-61b2-4a39-8cf0-69b60dbfdefc\" xlink:actuate=\"onRequest\" xlink:href=\"psysml:209e6958-61b2-4a39-8cf0-69b60dbfdefc\" xlink:show=\"new\" xlink:title=\"psysml:209e6958-61b2-4a39-8cf0-69b60dbfdefc\" xlink:type=\"simple\"><path d=\"M97.55,133.75 C81.97,149.19 64,167 64,167 C64,167 64,184 64,184 C64,184 64.88,196.21 65.81,209.18 \" fill=\"none\" id=\"E8-&gt;E6\" style=\"stroke: #383838; stroke-width: 1.0; stroke-dasharray: 7.0,7.0;\"/><polygon fill=\"#383838\" points=\"66.4,217.25,68.8203,209.056,62.8357,209.485,66.4,217.25\" style=\"stroke: #383838; stroke-width: 1.0;\"/><text fill=\"#000000\" font-family=\"sans-serif\" font-size=\"13\" lengthAdjust=\"spacingAndGlyphs\" textLength=\"64\" x=\"65\" y=\"180.0669\">«depend»</text></a><!--MD5=[bfa3c8b0d15052fdf50ae9310b491027]\n",
       "link E8 to E7--><a href=\"psysml:209e6958-61b2-4a39-8cf0-69b60dbfdefc\" target=\"_top\" title=\"psysml:209e6958-61b2-4a39-8cf0-69b60dbfdefc\" xlink:actuate=\"onRequest\" xlink:href=\"psysml:209e6958-61b2-4a39-8cf0-69b60dbfdefc\" xlink:show=\"new\" xlink:title=\"psysml:209e6958-61b2-4a39-8cf0-69b60dbfdefc\" xlink:type=\"simple\"><path d=\"M129.28,133.5 C138.17,154.57 151.64,186.5 161.47,209.81 \" fill=\"none\" id=\"E8-&gt;E7\" style=\"stroke: #383838; stroke-width: 1.0; stroke-dasharray: 7.0,7.0;\"/><polygon fill=\"#383838\" points=\"164.66,217.35,164.3241,208.8126,158.7933,211.1385,164.66,217.35\" style=\"stroke: #383838; stroke-width: 1.0;\"/><text fill=\"#000000\" font-family=\"sans-serif\" font-size=\"13\" lengthAdjust=\"spacingAndGlyphs\" textLength=\"64\" x=\"151\" y=\"180.0669\">«depend»</text></a><!--MD5=[0fb274dbe7c82c6dabb8d0057472e90b]\n",
       "@startuml\r\n",
       "skinparam linetype polyline\r\n",
       "skinparam monochrome true\r\n",
       "skinparam classbackgroundcolor white\r\n",
       "skinparam shadowing false\r\n",
       "skinparam wrapWidth 300\r\n",
       "hide circle\r\n",
       "\r\n",
       "package \"DependencyTest\" as E1  [[psysml:eac58141-1d30-4dd4-8de7-f3beae76540f ]]  {\r\n",
       "package \"System\" as E2  [[psysml:13805519-bfbc-4c0f-88c4-787529a25875 ]]  {\r\n",
       "package \"Application Layer\" as E3  [[psysml:5348c3d7-5f8d-4656-8805-8961159c09b6 ]]  {\r\n",
       "}\r\n",
       "package \"Service Layer\" as E4  [[psysml:e92bea40-a3a7-48d4-b6b8-5548cc937669 ]]  {\r\n",
       "}\r\n",
       "package \"Data Layer\" as E5  [[psysml:9210d902-7ba4-4a43-8b80-75376691e6d0 ]]  {\r\n",
       "}\r\n",
       "}\r\n",
       "comp usage \"x\" as E6  <<(T,blue) attribute>> [[psysml:d1a2f8b3-43fe-4bb6-bcd1-ae6c73505f04 ]] {\r\n",
       "}\r\n",
       "comp usage \"y\" as E7  <<(T,blue) attribute>> [[psysml:ad948c0a-adc5-4c23-9b66-20666ae7e933 ]] {\r\n",
       "}\r\n",
       "comp usage \"z\" as E8  <<(T,blue) attribute>> [[psysml:4e191771-f0c3-4f18-930e-d8147bece3b0 ]] {\r\n",
       "}\r\n",
       "}\r\n",
       "E3 ..>> E4 [[psysml:43ea743a-a860-452f-b433-717c56c39b79 ]] : <<depend>>\r\n",
       "E4 ..>> E5 [[psysml:2fd6f227-cfe3-4fe1-af5d-016c5bccfb5b ]] : <<depend>>\r\n",
       "E8 ..>> E6 [[psysml:209e6958-61b2-4a39-8cf0-69b60dbfdefc ]] : <<depend>>\r\n",
       "E8 ..>> E7 [[psysml:209e6958-61b2-4a39-8cf0-69b60dbfdefc ]] : <<depend>>\r\n",
       "@enduml\r\n",
       "\n",
       "PlantUML version 1.2020.13(Sat Jun 13 12:26:38 UTC 2020)\n",
       "(EPL source distribution)\n",
       "Java Runtime: OpenJDK Runtime Environment\n",
       "JVM: OpenJDK 64-Bit Server VM\n",
       "Default Encoding: UTF-8\n",
       "Language: en\n",
       "Country: null\n",
       "--></g></svg>"
      ]
     },
     "execution_count": 10,
     "metadata": {},
     "output_type": "execute_result"
    }
   ],
   "source": [
    "%viz --style=\"POLYLINE\" --view=\"Tree\" \"DependencyTest\""
   ]
  },
  {
   "cell_type": "code",
   "execution_count": 11,
   "id": "0a18df37",
   "metadata": {
    "execution": {
     "iopub.execute_input": "2021-10-25T08:20:44.437895Z",
     "iopub.status.busy": "2021-10-25T08:20:44.437659Z",
     "iopub.status.idle": "2021-10-25T08:20:44.445608Z",
     "shell.execute_reply": "2021-10-25T08:20:44.445996Z"
    }
   },
   "outputs": [
    {
     "data": {
      "image/svg+xml": [
       "<?xml version=\"1.0\" encoding=\"UTF-8\" standalone=\"no\"?><svg xmlns=\"http://www.w3.org/2000/svg\" xmlns:xlink=\"http://www.w3.org/1999/xlink\" contentScriptType=\"application/ecmascript\" contentStyleType=\"text/css\" height=\"12px\" preserveAspectRatio=\"none\" style=\"width:12px;height:12px;\" version=\"1.1\" viewBox=\"0 0 12 12\" width=\"12px\" zoomAndPan=\"magnify\"><defs/><g><!--MD5=[896ac0e7a515d8dd7765a661cb4ee08b]\n",
       "@startuml\r\n",
       "skinparam linetype polyline\r\n",
       "skinparam monochrome true\r\n",
       "skinparam classbackgroundcolor white\r\n",
       "skinparam shadowing false\r\n",
       "skinparam wrapWidth 300\r\n",
       "hide circle\r\n",
       "\r\n",
       "@enduml\r\n",
       "\n",
       "PlantUML version 1.2020.13(Sat Jun 13 12:26:38 UTC 2020)\n",
       "(EPL source distribution)\n",
       "Java Runtime: OpenJDK Runtime Environment\n",
       "JVM: OpenJDK 64-Bit Server VM\n",
       "Default Encoding: UTF-8\n",
       "Language: en\n",
       "Country: null\n",
       "--></g></svg>"
      ]
     },
     "execution_count": 11,
     "metadata": {},
     "output_type": "execute_result"
    }
   ],
   "source": [
    "%viz --style=\"POLYLINE\" --view=\"State\" \"DependencyTest\""
   ]
  },
  {
   "cell_type": "code",
   "execution_count": 12,
   "id": "246baede",
   "metadata": {
    "execution": {
     "iopub.execute_input": "2021-10-25T08:20:44.495380Z",
     "iopub.status.busy": "2021-10-25T08:20:44.495160Z",
     "iopub.status.idle": "2021-10-25T08:20:44.558702Z",
     "shell.execute_reply": "2021-10-25T08:20:44.556049Z"
    }
   },
   "outputs": [
    {
     "data": {
      "image/svg+xml": [
       "<?xml version=\"1.0\" encoding=\"UTF-8\" standalone=\"no\"?><svg xmlns=\"http://www.w3.org/2000/svg\" xmlns:xlink=\"http://www.w3.org/1999/xlink\" contentScriptType=\"application/ecmascript\" contentStyleType=\"text/css\" height=\"361px\" preserveAspectRatio=\"none\" style=\"width:469px;height:361px;\" version=\"1.1\" viewBox=\"0 0 469 361\" width=\"469px\" zoomAndPan=\"magnify\"><defs/><g><!--MD5=[fbc87193dbaf4d95561dea2c320d4a47]\n",
       "cluster E1--><a href=\"psysml:eac58141-1d30-4dd4-8de7-f3beae76540f\" target=\"_top\" title=\"psysml:eac58141-1d30-4dd4-8de7-f3beae76540f\" xlink:actuate=\"onRequest\" xlink:href=\"psysml:eac58141-1d30-4dd4-8de7-f3beae76540f\" xlink:show=\"new\" xlink:title=\"psysml:eac58141-1d30-4dd4-8de7-f3beae76540f\" xlink:type=\"simple\"><polygon fill=\"#FFFFFF\" points=\"16,6,142,6,149,28.2969,447,28.2969,447,349,16,349,16,6\" style=\"stroke: #000000; stroke-width: 1.5;\"/><line style=\"stroke: #000000; stroke-width: 1.5;\" x1=\"16\" x2=\"149\" y1=\"28.2969\" y2=\"28.2969\"/><text fill=\"#000000\" font-family=\"sans-serif\" font-size=\"14\" font-weight=\"bold\" lengthAdjust=\"spacingAndGlyphs\" textLength=\"120\" x=\"20\" y=\"20.9951\">DependencyTest</text></a><!--MD5=[e4f7fae6ed58524ba242bb0b0d3be6b7]\n",
       "cluster E2--><a href=\"psysml:13805519-bfbc-4c0f-88c4-787529a25875\" target=\"_top\" title=\"psysml:13805519-bfbc-4c0f-88c4-787529a25875\" xlink:actuate=\"onRequest\" xlink:href=\"psysml:13805519-bfbc-4c0f-88c4-787529a25875\" xlink:show=\"new\" xlink:title=\"psysml:13805519-bfbc-4c0f-88c4-787529a25875\" xlink:type=\"simple\"><polygon fill=\"#FFFFFF\" points=\"255,49,312,49,319,71.2969,423,71.2969,423,325,255,325,255,49\" style=\"stroke: #000000; stroke-width: 1.5;\"/><line style=\"stroke: #000000; stroke-width: 1.5;\" x1=\"255\" x2=\"319\" y1=\"71.2969\" y2=\"71.2969\"/><text fill=\"#000000\" font-family=\"sans-serif\" font-size=\"14\" font-weight=\"bold\" lengthAdjust=\"spacingAndGlyphs\" textLength=\"51\" x=\"259\" y=\"63.9951\">System</text></a><!--MD5=[60a26617385b1d2d0262a64233df1f8d]\n",
       "class E6--><a href=\"psysml:d1a2f8b3-43fe-4bb6-bcd1-ae6c73505f04\" target=\"_top\" title=\"psysml:d1a2f8b3-43fe-4bb6-bcd1-ae6c73505f04\" xlink:actuate=\"onRequest\" xlink:href=\"psysml:d1a2f8b3-43fe-4bb6-bcd1-ae6c73505f04\" xlink:show=\"new\" xlink:title=\"psysml:d1a2f8b3-43fe-4bb6-bcd1-ae6c73505f04\" xlink:type=\"simple\"><rect fill=\"#FFFFFF\" height=\"45.9375\" id=\"E6\" rx=\"10\" ry=\"10\" style=\"stroke: #383838; stroke-width: 1.5;\" width=\"71\" x=\"32.5\" y=\"173.5\"/><text fill=\"#000000\" font-family=\"sans-serif\" font-size=\"12\" font-style=\"italic\" lengthAdjust=\"spacingAndGlyphs\" textLength=\"69\" x=\"33.5\" y=\"189.6387\">«attribute»</text><text fill=\"#000000\" font-family=\"sans-serif\" font-size=\"12\" lengthAdjust=\"spacingAndGlyphs\" textLength=\"6\" x=\"65\" y=\"203.6074\">x</text><line style=\"stroke: #383838; stroke-width: 1.5;\" x1=\"33.5\" x2=\"102.5\" y1=\"211.4375\" y2=\"211.4375\"/></a><!--MD5=[2156ba9850f5573cc1fc38a6a4b2f02b]\n",
       "class E7--><a href=\"psysml:ad948c0a-adc5-4c23-9b66-20666ae7e933\" target=\"_top\" title=\"psysml:ad948c0a-adc5-4c23-9b66-20666ae7e933\" xlink:actuate=\"onRequest\" xlink:href=\"psysml:ad948c0a-adc5-4c23-9b66-20666ae7e933\" xlink:show=\"new\" xlink:title=\"psysml:ad948c0a-adc5-4c23-9b66-20666ae7e933\" xlink:type=\"simple\"><rect fill=\"#FFFFFF\" height=\"45.9375\" id=\"E7\" rx=\"10\" ry=\"10\" style=\"stroke: #383838; stroke-width: 1.5;\" width=\"71\" x=\"138.5\" y=\"173.5\"/><text fill=\"#000000\" font-family=\"sans-serif\" font-size=\"12\" font-style=\"italic\" lengthAdjust=\"spacingAndGlyphs\" textLength=\"69\" x=\"139.5\" y=\"189.6387\">«attribute»</text><text fill=\"#000000\" font-family=\"sans-serif\" font-size=\"12\" lengthAdjust=\"spacingAndGlyphs\" textLength=\"6\" x=\"171\" y=\"203.6074\">y</text><line style=\"stroke: #383838; stroke-width: 1.5;\" x1=\"139.5\" x2=\"208.5\" y1=\"211.4375\" y2=\"211.4375\"/></a><!--MD5=[b9389687b975829384b498ac4b7476b2]\n",
       "class E8--><a href=\"psysml:4e191771-f0c3-4f18-930e-d8147bece3b0\" target=\"_top\" title=\"psysml:4e191771-f0c3-4f18-930e-d8147bece3b0\" xlink:actuate=\"onRequest\" xlink:href=\"psysml:4e191771-f0c3-4f18-930e-d8147bece3b0\" xlink:show=\"new\" xlink:title=\"psysml:4e191771-f0c3-4f18-930e-d8147bece3b0\" xlink:type=\"simple\"><rect fill=\"#FFFFFF\" height=\"45.9375\" id=\"E8\" rx=\"10\" ry=\"10\" style=\"stroke: #383838; stroke-width: 1.5;\" width=\"71\" x=\"84.5\" y=\"87.5\"/><text fill=\"#000000\" font-family=\"sans-serif\" font-size=\"12\" font-style=\"italic\" lengthAdjust=\"spacingAndGlyphs\" textLength=\"69\" x=\"85.5\" y=\"103.6387\">«attribute»</text><text fill=\"#000000\" font-family=\"sans-serif\" font-size=\"12\" lengthAdjust=\"spacingAndGlyphs\" textLength=\"5\" x=\"117.5\" y=\"117.6074\">z</text><line style=\"stroke: #383838; stroke-width: 1.5;\" x1=\"85.5\" x2=\"154.5\" y1=\"125.4375\" y2=\"125.4375\"/></a><a href=\"psysml:5348c3d7-5f8d-4656-8805-8961159c09b6\" target=\"_top\" title=\"psysml:5348c3d7-5f8d-4656-8805-8961159c09b6\" xlink:actuate=\"onRequest\" xlink:href=\"psysml:5348c3d7-5f8d-4656-8805-8961159c09b6\" xlink:show=\"new\" xlink:title=\"psysml:5348c3d7-5f8d-4656-8805-8961159c09b6\" xlink:type=\"simple\"><polygon fill=\"#FFFFFF\" points=\"271.5,84,392.5,84,399.5,106.2969,406.5,106.2969,406.5,136.5938,271.5,136.5938,271.5,84\" style=\"stroke: #000000; stroke-width: 1.5;\"/><line style=\"stroke: #000000; stroke-width: 1.5;\" x1=\"271.5\" x2=\"399.5\" y1=\"106.2969\" y2=\"106.2969\"/><text fill=\"#000000\" font-family=\"sans-serif\" font-size=\"14\" font-weight=\"bold\" lengthAdjust=\"spacingAndGlyphs\" textLength=\"115\" x=\"275.5\" y=\"98.9951\">Application Layer</text></a><a href=\"psysml:e92bea40-a3a7-48d4-b6b8-5548cc937669\" target=\"_top\" title=\"psysml:e92bea40-a3a7-48d4-b6b8-5548cc937669\" xlink:actuate=\"onRequest\" xlink:href=\"psysml:e92bea40-a3a7-48d4-b6b8-5548cc937669\" xlink:show=\"new\" xlink:title=\"psysml:e92bea40-a3a7-48d4-b6b8-5548cc937669\" xlink:type=\"simple\"><polygon fill=\"#FFFFFF\" points=\"284,170,380,170,387,192.2969,394,192.2969,394,222.5938,284,222.5938,284,170\" style=\"stroke: #000000; stroke-width: 1.5;\"/><line style=\"stroke: #000000; stroke-width: 1.5;\" x1=\"284\" x2=\"387\" y1=\"192.2969\" y2=\"192.2969\"/><text fill=\"#000000\" font-family=\"sans-serif\" font-size=\"14\" font-weight=\"bold\" lengthAdjust=\"spacingAndGlyphs\" textLength=\"90\" x=\"288\" y=\"184.9951\">Service Layer</text></a><a href=\"psysml:9210d902-7ba4-4a43-8b80-75376691e6d0\" target=\"_top\" title=\"psysml:9210d902-7ba4-4a43-8b80-75376691e6d0\" xlink:actuate=\"onRequest\" xlink:href=\"psysml:9210d902-7ba4-4a43-8b80-75376691e6d0\" xlink:show=\"new\" xlink:title=\"psysml:9210d902-7ba4-4a43-8b80-75376691e6d0\" xlink:type=\"simple\"><polygon fill=\"#FFFFFF\" points=\"293,256,371,256,378,278.2969,385,278.2969,385,308.5938,293,308.5938,293,256\" style=\"stroke: #000000; stroke-width: 1.5;\"/><line style=\"stroke: #000000; stroke-width: 1.5;\" x1=\"293\" x2=\"378\" y1=\"278.2969\" y2=\"278.2969\"/><text fill=\"#000000\" font-family=\"sans-serif\" font-size=\"14\" font-weight=\"bold\" lengthAdjust=\"spacingAndGlyphs\" textLength=\"72\" x=\"297\" y=\"270.9951\">Data Layer</text></a><!--MD5=[af87c684e3b0d8be13c1a698a818ef1e]\n",
       "link E3 to E4--><a href=\"psysml:43ea743a-a860-452f-b433-717c56c39b79\" target=\"_top\" title=\"psysml:43ea743a-a860-452f-b433-717c56c39b79\" xlink:actuate=\"onRequest\" xlink:href=\"psysml:43ea743a-a860-452f-b433-717c56c39b79\" xlink:show=\"new\" xlink:title=\"psysml:43ea743a-a860-452f-b433-717c56c39b79\" xlink:type=\"simple\"><path d=\"M339,137.16 C339,144.98 339,153.69 339,161.94 \" fill=\"none\" id=\"E3-&gt;E4\" style=\"stroke: #383838; stroke-width: 1.0; stroke-dasharray: 7.0,7.0;\"/><polygon fill=\"#383838\" points=\"339,170,342,162,336,162,339,170\" style=\"stroke: #383838; stroke-width: 1.0;\"/><text fill=\"#000000\" font-family=\"sans-serif\" font-size=\"13\" lengthAdjust=\"spacingAndGlyphs\" textLength=\"64\" x=\"340\" y=\"158.0669\">«depend»</text></a><!--MD5=[1b7591eae5389033d8d09a9d6721a717]\n",
       "link E4 to E5--><a href=\"psysml:2fd6f227-cfe3-4fe1-af5d-016c5bccfb5b\" target=\"_top\" title=\"psysml:2fd6f227-cfe3-4fe1-af5d-016c5bccfb5b\" xlink:actuate=\"onRequest\" xlink:href=\"psysml:2fd6f227-cfe3-4fe1-af5d-016c5bccfb5b\" xlink:show=\"new\" xlink:title=\"psysml:2fd6f227-cfe3-4fe1-af5d-016c5bccfb5b\" xlink:type=\"simple\"><path d=\"M339,223.16 C339,230.98 339,239.69 339,247.94 \" fill=\"none\" id=\"E4-&gt;E5\" style=\"stroke: #383838; stroke-width: 1.0; stroke-dasharray: 7.0,7.0;\"/><polygon fill=\"#383838\" points=\"339,256,342,248,336,248,339,256\" style=\"stroke: #383838; stroke-width: 1.0;\"/><text fill=\"#000000\" font-family=\"sans-serif\" font-size=\"13\" lengthAdjust=\"spacingAndGlyphs\" textLength=\"64\" x=\"340\" y=\"244.0669\">«depend»</text></a><!--MD5=[c5e8897d989ce984f93528998a7150fe]\n",
       "link E8 to E6--><a href=\"psysml:209e6958-61b2-4a39-8cf0-69b60dbfdefc\" target=\"_top\" title=\"psysml:209e6958-61b2-4a39-8cf0-69b60dbfdefc\" xlink:actuate=\"onRequest\" xlink:href=\"psysml:209e6958-61b2-4a39-8cf0-69b60dbfdefc\" xlink:show=\"new\" xlink:title=\"psysml:209e6958-61b2-4a39-8cf0-69b60dbfdefc\" xlink:type=\"simple\"><path d=\"M84.22,132.91 C73.24,139.47 64,145 64,145 C64,145 64,162 64,162 C64,162 64.15,163.28 64.4,165.33 \" fill=\"none\" id=\"E8-&gt;E6\" style=\"stroke: #383838; stroke-width: 1.0; stroke-dasharray: 7.0,7.0;\"/><polygon fill=\"#383838\" points=\"65.35,173.34,67.3861,165.0421,61.4279,165.7494,65.35,173.34\" style=\"stroke: #383838; stroke-width: 1.0;\"/><text fill=\"#000000\" font-family=\"sans-serif\" font-size=\"13\" lengthAdjust=\"spacingAndGlyphs\" textLength=\"64\" x=\"65\" y=\"158.0669\">«depend»</text></a><!--MD5=[bfa3c8b0d15052fdf50ae9310b491027]\n",
       "link E8 to E7--><a href=\"psysml:209e6958-61b2-4a39-8cf0-69b60dbfdefc\" target=\"_top\" title=\"psysml:209e6958-61b2-4a39-8cf0-69b60dbfdefc\" xlink:actuate=\"onRequest\" xlink:href=\"psysml:209e6958-61b2-4a39-8cf0-69b60dbfdefc\" xlink:show=\"new\" xlink:title=\"psysml:209e6958-61b2-4a39-8cf0-69b60dbfdefc\" xlink:type=\"simple\"><path d=\"M134.19,133.57 C140.65,143.62 148.38,155.65 155.31,166.42 \" fill=\"none\" id=\"E8-&gt;E7\" style=\"stroke: #383838; stroke-width: 1.0; stroke-dasharray: 7.0,7.0;\"/><polygon fill=\"#383838\" points=\"159.72,173.29,157.9148,164.9389,152.8688,168.185,159.72,173.29\" style=\"stroke: #383838; stroke-width: 1.0;\"/><text fill=\"#000000\" font-family=\"sans-serif\" font-size=\"13\" lengthAdjust=\"spacingAndGlyphs\" textLength=\"64\" x=\"152\" y=\"158.0669\">«depend»</text></a><!--MD5=[f81aeafa9f7a694fdbbc705189db3064]\n",
       "@startuml\r\n",
       "skinparam ranksep 10\r\n",
       "skinparam rectangle {\r\n",
       " backgroundColor<<block>> LightGreen\r\n",
       "}\r\n",
       "skinparam linetype polyline\r\n",
       "skinparam monochrome true\r\n",
       "skinparam classbackgroundcolor white\r\n",
       "skinparam shadowing false\r\n",
       "skinparam wrapWidth 300\r\n",
       "hide circle\r\n",
       "\r\n",
       "package \"DependencyTest\" as E1  [[psysml:eac58141-1d30-4dd4-8de7-f3beae76540f ]]  {\r\n",
       "package \"System\" as E2  [[psysml:13805519-bfbc-4c0f-88c4-787529a25875 ]]  {\r\n",
       "package \"Application Layer\" as E3  [[psysml:5348c3d7-5f8d-4656-8805-8961159c09b6 ]]  {\r\n",
       "}\r\n",
       "package \"Service Layer\" as E4  [[psysml:e92bea40-a3a7-48d4-b6b8-5548cc937669 ]]  {\r\n",
       "}\r\n",
       "package \"Data Layer\" as E5  [[psysml:9210d902-7ba4-4a43-8b80-75376691e6d0 ]]  {\r\n",
       "}\r\n",
       "}\r\n",
       "comp usage \"x\" as E6  <<(T,blue) attribute>> [[psysml:d1a2f8b3-43fe-4bb6-bcd1-ae6c73505f04 ]] {\r\n",
       "}\r\n",
       "comp usage \"y\" as E7  <<(T,blue) attribute>> [[psysml:ad948c0a-adc5-4c23-9b66-20666ae7e933 ]] {\r\n",
       "}\r\n",
       "comp usage \"z\" as E8  <<(T,blue) attribute>> [[psysml:4e191771-f0c3-4f18-930e-d8147bece3b0 ]] {\r\n",
       "}\r\n",
       "}\r\n",
       "E3 ..>> E4 [[psysml:43ea743a-a860-452f-b433-717c56c39b79 ]] : <<depend>>\r\n",
       "E4 ..>> E5 [[psysml:2fd6f227-cfe3-4fe1-af5d-016c5bccfb5b ]] : <<depend>>\r\n",
       "E8 ..>> E6 [[psysml:209e6958-61b2-4a39-8cf0-69b60dbfdefc ]] : <<depend>>\r\n",
       "E8 ..>> E7 [[psysml:209e6958-61b2-4a39-8cf0-69b60dbfdefc ]] : <<depend>>\r\n",
       "@enduml\r\n",
       "\n",
       "PlantUML version 1.2020.13(Sat Jun 13 12:26:38 UTC 2020)\n",
       "(EPL source distribution)\n",
       "Java Runtime: OpenJDK Runtime Environment\n",
       "JVM: OpenJDK 64-Bit Server VM\n",
       "Default Encoding: UTF-8\n",
       "Language: en\n",
       "Country: null\n",
       "--></g></svg>"
      ]
     },
     "execution_count": 12,
     "metadata": {},
     "output_type": "execute_result"
    }
   ],
   "source": [
    "%viz --style=\"POLYLINE\" --view=\"Interconnection\" \"DependencyTest\""
   ]
  },
  {
   "cell_type": "code",
   "execution_count": 13,
   "id": "1d10b258",
   "metadata": {
    "execution": {
     "iopub.execute_input": "2021-10-25T08:20:44.606602Z",
     "iopub.status.busy": "2021-10-25T08:20:44.606365Z",
     "iopub.status.idle": "2021-10-25T08:20:44.610743Z",
     "shell.execute_reply": "2021-10-25T08:20:44.610916Z"
    }
   },
   "outputs": [
    {
     "data": {
      "image/svg+xml": [
       "<?xml version=\"1.0\" encoding=\"UTF-8\" standalone=\"no\"?><svg xmlns=\"http://www.w3.org/2000/svg\" xmlns:xlink=\"http://www.w3.org/1999/xlink\" contentScriptType=\"application/ecmascript\" contentStyleType=\"text/css\" height=\"12px\" preserveAspectRatio=\"none\" style=\"width:12px;height:12px;\" version=\"1.1\" viewBox=\"0 0 12 12\" width=\"12px\" zoomAndPan=\"magnify\"><defs/><g><!--MD5=[97bbf32f66ccd50cbc40d92ea8f5a65e]\n",
       "@startuml\r\n",
       "skinparam ranksep 8\r\n",
       "skinparam linetype polyline\r\n",
       "skinparam monochrome true\r\n",
       "skinparam classbackgroundcolor white\r\n",
       "skinparam shadowing false\r\n",
       "skinparam wrapWidth 300\r\n",
       "hide circle\r\n",
       "\r\n",
       "@enduml\r\n",
       "\n",
       "PlantUML version 1.2020.13(Sat Jun 13 12:26:38 UTC 2020)\n",
       "(EPL source distribution)\n",
       "Java Runtime: OpenJDK Runtime Environment\n",
       "JVM: OpenJDK 64-Bit Server VM\n",
       "Default Encoding: UTF-8\n",
       "Language: en\n",
       "Country: null\n",
       "--></g></svg>"
      ]
     },
     "execution_count": 13,
     "metadata": {},
     "output_type": "execute_result"
    }
   ],
   "source": [
    "%viz --style=\"POLYLINE\" --view=\"Action\" \"DependencyTest\""
   ]
  },
  {
   "cell_type": "code",
   "execution_count": 14,
   "id": "46198031",
   "metadata": {
    "execution": {
     "iopub.execute_input": "2021-10-25T08:20:44.661083Z",
     "iopub.status.busy": "2021-10-25T08:20:44.660826Z",
     "iopub.status.idle": "2021-10-25T08:20:44.667961Z",
     "shell.execute_reply": "2021-10-25T08:20:44.668282Z"
    }
   },
   "outputs": [
    {
     "data": {
      "image/svg+xml": [
       "<?xml version=\"1.0\" encoding=\"UTF-8\" standalone=\"no\"?><svg xmlns=\"http://www.w3.org/2000/svg\" xmlns:xlink=\"http://www.w3.org/1999/xlink\" contentScriptType=\"application/ecmascript\" contentStyleType=\"text/css\" height=\"12px\" preserveAspectRatio=\"none\" style=\"width:12px;height:12px;\" version=\"1.1\" viewBox=\"0 0 12 12\" width=\"12px\" zoomAndPan=\"magnify\"><defs/><g><!--MD5=[dc938048236c351797870c36b62f92ad]\n",
       "@startuml\r\n",
       "skinparam roundcorner 20\r\n",
       "skinparam BoxPadding 20\r\n",
       "skinparam SequenceBoxBackgroundColor #white\r\n",
       "skinparam style strictuml\r\n",
       "skinparam maxMessageSize 100\r\n",
       "skinparam linetype polyline\r\n",
       "skinparam monochrome true\r\n",
       "skinparam classbackgroundcolor white\r\n",
       "skinparam shadowing false\r\n",
       "skinparam wrapWidth 300\r\n",
       "hide circle\r\n",
       "\r\n",
       "@enduml\r\n",
       "\n",
       "PlantUML version 1.2020.13(Sat Jun 13 12:26:38 UTC 2020)\n",
       "(EPL source distribution)\n",
       "Java Runtime: OpenJDK Runtime Environment\n",
       "JVM: OpenJDK 64-Bit Server VM\n",
       "Default Encoding: UTF-8\n",
       "Language: en\n",
       "Country: null\n",
       "--></g></svg>"
      ]
     },
     "execution_count": 14,
     "metadata": {},
     "output_type": "execute_result"
    }
   ],
   "source": [
    "%viz --style=\"POLYLINE\" --view=\"Sequence\" \"DependencyTest\""
   ]
  },
  {
   "cell_type": "code",
   "execution_count": 15,
   "id": "97ff50cf",
   "metadata": {
    "execution": {
     "iopub.execute_input": "2021-10-25T08:20:44.718075Z",
     "iopub.status.busy": "2021-10-25T08:20:44.717650Z",
     "iopub.status.idle": "2021-10-25T08:20:44.762363Z",
     "shell.execute_reply": "2021-10-25T08:20:44.762525Z"
    }
   },
   "outputs": [
    {
     "data": {
      "image/svg+xml": [
       "<?xml version=\"1.0\" encoding=\"UTF-8\" standalone=\"no\"?><svg xmlns=\"http://www.w3.org/2000/svg\" xmlns:xlink=\"http://www.w3.org/1999/xlink\" contentScriptType=\"application/ecmascript\" contentStyleType=\"text/css\" height=\"449px\" preserveAspectRatio=\"none\" style=\"width:469px;height:449px;\" version=\"1.1\" viewBox=\"0 0 469 449\" width=\"469px\" zoomAndPan=\"magnify\"><defs/><g><!--MD5=[fbc87193dbaf4d95561dea2c320d4a47]\n",
       "cluster E1--><a href=\"psysml:eac58141-1d30-4dd4-8de7-f3beae76540f\" target=\"_top\" title=\"psysml:eac58141-1d30-4dd4-8de7-f3beae76540f\" xlink:actuate=\"onRequest\" xlink:href=\"psysml:eac58141-1d30-4dd4-8de7-f3beae76540f\" xlink:show=\"new\" xlink:title=\"psysml:eac58141-1d30-4dd4-8de7-f3beae76540f\" xlink:type=\"simple\"><polygon fill=\"#FFFFFF\" points=\"16,6,142,6,149,28.2969,447,28.2969,447,437,16,437,16,6\" style=\"stroke: #000000; stroke-width: 1.5;\"/><line style=\"stroke: #000000; stroke-width: 1.5;\" x1=\"16\" x2=\"149\" y1=\"28.2969\" y2=\"28.2969\"/><text fill=\"#000000\" font-family=\"sans-serif\" font-size=\"14\" font-weight=\"bold\" lengthAdjust=\"spacingAndGlyphs\" textLength=\"120\" x=\"20\" y=\"20.9951\">DependencyTest</text></a><!--MD5=[e4f7fae6ed58524ba242bb0b0d3be6b7]\n",
       "cluster E2--><a href=\"psysml:13805519-bfbc-4c0f-88c4-787529a25875\" target=\"_top\" title=\"psysml:13805519-bfbc-4c0f-88c4-787529a25875\" xlink:actuate=\"onRequest\" xlink:href=\"psysml:13805519-bfbc-4c0f-88c4-787529a25875\" xlink:show=\"new\" xlink:title=\"psysml:13805519-bfbc-4c0f-88c4-787529a25875\" xlink:type=\"simple\"><polygon fill=\"#FFFFFF\" points=\"255,49,312,49,319,71.2969,423,71.2969,423,413,255,413,255,49\" style=\"stroke: #000000; stroke-width: 1.5;\"/><line style=\"stroke: #000000; stroke-width: 1.5;\" x1=\"255\" x2=\"319\" y1=\"71.2969\" y2=\"71.2969\"/><text fill=\"#000000\" font-family=\"sans-serif\" font-size=\"14\" font-weight=\"bold\" lengthAdjust=\"spacingAndGlyphs\" textLength=\"51\" x=\"259\" y=\"63.9951\">System</text></a><!--MD5=[60a26617385b1d2d0262a64233df1f8d]\n",
       "class E6--><a href=\"psysml:d1a2f8b3-43fe-4bb6-bcd1-ae6c73505f04\" target=\"_top\" title=\"psysml:d1a2f8b3-43fe-4bb6-bcd1-ae6c73505f04\" xlink:actuate=\"onRequest\" xlink:href=\"psysml:d1a2f8b3-43fe-4bb6-bcd1-ae6c73505f04\" xlink:show=\"new\" xlink:title=\"psysml:d1a2f8b3-43fe-4bb6-bcd1-ae6c73505f04\" xlink:type=\"simple\"><rect fill=\"#FFFFFF\" height=\"45.9375\" id=\"E6\" rx=\"10\" ry=\"10\" style=\"stroke: #383838; stroke-width: 1.5;\" width=\"71\" x=\"32.5\" y=\"217.5\"/><text fill=\"#000000\" font-family=\"sans-serif\" font-size=\"12\" font-style=\"italic\" lengthAdjust=\"spacingAndGlyphs\" textLength=\"69\" x=\"33.5\" y=\"233.6387\">«attribute»</text><text fill=\"#000000\" font-family=\"sans-serif\" font-size=\"12\" lengthAdjust=\"spacingAndGlyphs\" textLength=\"6\" x=\"65\" y=\"247.6074\">x</text><line style=\"stroke: #383838; stroke-width: 1.5;\" x1=\"33.5\" x2=\"102.5\" y1=\"255.4375\" y2=\"255.4375\"/></a><!--MD5=[2156ba9850f5573cc1fc38a6a4b2f02b]\n",
       "class E7--><a href=\"psysml:ad948c0a-adc5-4c23-9b66-20666ae7e933\" target=\"_top\" title=\"psysml:ad948c0a-adc5-4c23-9b66-20666ae7e933\" xlink:actuate=\"onRequest\" xlink:href=\"psysml:ad948c0a-adc5-4c23-9b66-20666ae7e933\" xlink:show=\"new\" xlink:title=\"psysml:ad948c0a-adc5-4c23-9b66-20666ae7e933\" xlink:type=\"simple\"><rect fill=\"#FFFFFF\" height=\"45.9375\" id=\"E7\" rx=\"10\" ry=\"10\" style=\"stroke: #383838; stroke-width: 1.5;\" width=\"71\" x=\"138.5\" y=\"217.5\"/><text fill=\"#000000\" font-family=\"sans-serif\" font-size=\"12\" font-style=\"italic\" lengthAdjust=\"spacingAndGlyphs\" textLength=\"69\" x=\"139.5\" y=\"233.6387\">«attribute»</text><text fill=\"#000000\" font-family=\"sans-serif\" font-size=\"12\" lengthAdjust=\"spacingAndGlyphs\" textLength=\"6\" x=\"171\" y=\"247.6074\">y</text><line style=\"stroke: #383838; stroke-width: 1.5;\" x1=\"139.5\" x2=\"208.5\" y1=\"255.4375\" y2=\"255.4375\"/></a><!--MD5=[b9389687b975829384b498ac4b7476b2]\n",
       "class E8--><a href=\"psysml:4e191771-f0c3-4f18-930e-d8147bece3b0\" target=\"_top\" title=\"psysml:4e191771-f0c3-4f18-930e-d8147bece3b0\" xlink:actuate=\"onRequest\" xlink:href=\"psysml:4e191771-f0c3-4f18-930e-d8147bece3b0\" xlink:show=\"new\" xlink:title=\"psysml:4e191771-f0c3-4f18-930e-d8147bece3b0\" xlink:type=\"simple\"><rect fill=\"#FFFFFF\" height=\"45.9375\" id=\"E8\" rx=\"10\" ry=\"10\" style=\"stroke: #383838; stroke-width: 1.5;\" width=\"71\" x=\"84.5\" y=\"87.5\"/><text fill=\"#000000\" font-family=\"sans-serif\" font-size=\"12\" font-style=\"italic\" lengthAdjust=\"spacingAndGlyphs\" textLength=\"69\" x=\"85.5\" y=\"103.6387\">«attribute»</text><text fill=\"#000000\" font-family=\"sans-serif\" font-size=\"12\" lengthAdjust=\"spacingAndGlyphs\" textLength=\"5\" x=\"117.5\" y=\"117.6074\">z</text><line style=\"stroke: #383838; stroke-width: 1.5;\" x1=\"85.5\" x2=\"154.5\" y1=\"125.4375\" y2=\"125.4375\"/></a><a href=\"psysml:5348c3d7-5f8d-4656-8805-8961159c09b6\" target=\"_top\" title=\"psysml:5348c3d7-5f8d-4656-8805-8961159c09b6\" xlink:actuate=\"onRequest\" xlink:href=\"psysml:5348c3d7-5f8d-4656-8805-8961159c09b6\" xlink:show=\"new\" xlink:title=\"psysml:5348c3d7-5f8d-4656-8805-8961159c09b6\" xlink:type=\"simple\"><polygon fill=\"#FFFFFF\" points=\"271.5,84,392.5,84,399.5,106.2969,406.5,106.2969,406.5,136.5938,271.5,136.5938,271.5,84\" style=\"stroke: #000000; stroke-width: 1.5;\"/><line style=\"stroke: #000000; stroke-width: 1.5;\" x1=\"271.5\" x2=\"399.5\" y1=\"106.2969\" y2=\"106.2969\"/><text fill=\"#000000\" font-family=\"sans-serif\" font-size=\"14\" font-weight=\"bold\" lengthAdjust=\"spacingAndGlyphs\" textLength=\"115\" x=\"275.5\" y=\"98.9951\">Application Layer</text></a><a href=\"psysml:e92bea40-a3a7-48d4-b6b8-5548cc937669\" target=\"_top\" title=\"psysml:e92bea40-a3a7-48d4-b6b8-5548cc937669\" xlink:actuate=\"onRequest\" xlink:href=\"psysml:e92bea40-a3a7-48d4-b6b8-5548cc937669\" xlink:show=\"new\" xlink:title=\"psysml:e92bea40-a3a7-48d4-b6b8-5548cc937669\" xlink:type=\"simple\"><polygon fill=\"#FFFFFF\" points=\"284,214,380,214,387,236.2969,394,236.2969,394,266.5938,284,266.5938,284,214\" style=\"stroke: #000000; stroke-width: 1.5;\"/><line style=\"stroke: #000000; stroke-width: 1.5;\" x1=\"284\" x2=\"387\" y1=\"236.2969\" y2=\"236.2969\"/><text fill=\"#000000\" font-family=\"sans-serif\" font-size=\"14\" font-weight=\"bold\" lengthAdjust=\"spacingAndGlyphs\" textLength=\"90\" x=\"288\" y=\"228.9951\">Service Layer</text></a><a href=\"psysml:9210d902-7ba4-4a43-8b80-75376691e6d0\" target=\"_top\" title=\"psysml:9210d902-7ba4-4a43-8b80-75376691e6d0\" xlink:actuate=\"onRequest\" xlink:href=\"psysml:9210d902-7ba4-4a43-8b80-75376691e6d0\" xlink:show=\"new\" xlink:title=\"psysml:9210d902-7ba4-4a43-8b80-75376691e6d0\" xlink:type=\"simple\"><polygon fill=\"#FFFFFF\" points=\"293,344,371,344,378,366.2969,385,366.2969,385,396.5938,293,396.5938,293,344\" style=\"stroke: #000000; stroke-width: 1.5;\"/><line style=\"stroke: #000000; stroke-width: 1.5;\" x1=\"293\" x2=\"378\" y1=\"366.2969\" y2=\"366.2969\"/><text fill=\"#000000\" font-family=\"sans-serif\" font-size=\"14\" font-weight=\"bold\" lengthAdjust=\"spacingAndGlyphs\" textLength=\"72\" x=\"297\" y=\"358.9951\">Data Layer</text></a><!--MD5=[af87c684e3b0d8be13c1a698a818ef1e]\n",
       "link E3 to E4--><a href=\"psysml:43ea743a-a860-452f-b433-717c56c39b79\" target=\"_top\" title=\"psysml:43ea743a-a860-452f-b433-717c56c39b79\" xlink:actuate=\"onRequest\" xlink:href=\"psysml:43ea743a-a860-452f-b433-717c56c39b79\" xlink:show=\"new\" xlink:title=\"psysml:43ea743a-a860-452f-b433-717c56c39b79\" xlink:type=\"simple\"><path d=\"M339,137.1 C339,156.8 339,184.22 339,205.73 \" fill=\"none\" id=\"E3-&gt;E4\" style=\"stroke: #383838; stroke-width: 1.0; stroke-dasharray: 7.0,7.0;\"/><polygon fill=\"#383838\" points=\"339,213.95,342,205.95,336,205.95,339,213.95\" style=\"stroke: #383838; stroke-width: 1.0;\"/><text fill=\"#000000\" font-family=\"sans-serif\" font-size=\"13\" lengthAdjust=\"spacingAndGlyphs\" textLength=\"64\" x=\"340\" y=\"180.0669\">«depend»</text></a><!--MD5=[1b7591eae5389033d8d09a9d6721a717]\n",
       "link E4 to E5--><a href=\"psysml:2fd6f227-cfe3-4fe1-af5d-016c5bccfb5b\" target=\"_top\" title=\"psysml:2fd6f227-cfe3-4fe1-af5d-016c5bccfb5b\" xlink:actuate=\"onRequest\" xlink:href=\"psysml:2fd6f227-cfe3-4fe1-af5d-016c5bccfb5b\" xlink:show=\"new\" xlink:title=\"psysml:2fd6f227-cfe3-4fe1-af5d-016c5bccfb5b\" xlink:type=\"simple\"><path d=\"M339,267.1 C339,286.8 339,314.22 339,335.73 \" fill=\"none\" id=\"E4-&gt;E5\" style=\"stroke: #383838; stroke-width: 1.0; stroke-dasharray: 7.0,7.0;\"/><polygon fill=\"#383838\" points=\"339,343.95,342,335.95,336,335.95,339,343.95\" style=\"stroke: #383838; stroke-width: 1.0;\"/><text fill=\"#000000\" font-family=\"sans-serif\" font-size=\"13\" lengthAdjust=\"spacingAndGlyphs\" textLength=\"64\" x=\"340\" y=\"310.0669\">«depend»</text></a><!--MD5=[c5e8897d989ce984f93528998a7150fe]\n",
       "link E8 to E6--><a href=\"psysml:209e6958-61b2-4a39-8cf0-69b60dbfdefc\" target=\"_top\" title=\"psysml:209e6958-61b2-4a39-8cf0-69b60dbfdefc\" xlink:actuate=\"onRequest\" xlink:href=\"psysml:209e6958-61b2-4a39-8cf0-69b60dbfdefc\" xlink:show=\"new\" xlink:title=\"psysml:209e6958-61b2-4a39-8cf0-69b60dbfdefc\" xlink:type=\"simple\"><path d=\"M97.55,133.75 C81.97,149.19 64,167 64,167 C64,167 64,184 64,184 C64,184 64.88,196.21 65.81,209.18 \" fill=\"none\" id=\"E8-&gt;E6\" style=\"stroke: #383838; stroke-width: 1.0; stroke-dasharray: 7.0,7.0;\"/><polygon fill=\"#383838\" points=\"66.4,217.25,68.8203,209.056,62.8357,209.485,66.4,217.25\" style=\"stroke: #383838; stroke-width: 1.0;\"/><text fill=\"#000000\" font-family=\"sans-serif\" font-size=\"13\" lengthAdjust=\"spacingAndGlyphs\" textLength=\"64\" x=\"65\" y=\"180.0669\">«depend»</text></a><!--MD5=[bfa3c8b0d15052fdf50ae9310b491027]\n",
       "link E8 to E7--><a href=\"psysml:209e6958-61b2-4a39-8cf0-69b60dbfdefc\" target=\"_top\" title=\"psysml:209e6958-61b2-4a39-8cf0-69b60dbfdefc\" xlink:actuate=\"onRequest\" xlink:href=\"psysml:209e6958-61b2-4a39-8cf0-69b60dbfdefc\" xlink:show=\"new\" xlink:title=\"psysml:209e6958-61b2-4a39-8cf0-69b60dbfdefc\" xlink:type=\"simple\"><path d=\"M129.28,133.5 C138.17,154.57 151.64,186.5 161.47,209.81 \" fill=\"none\" id=\"E8-&gt;E7\" style=\"stroke: #383838; stroke-width: 1.0; stroke-dasharray: 7.0,7.0;\"/><polygon fill=\"#383838\" points=\"164.66,217.35,164.3241,208.8126,158.7933,211.1385,164.66,217.35\" style=\"stroke: #383838; stroke-width: 1.0;\"/><text fill=\"#000000\" font-family=\"sans-serif\" font-size=\"13\" lengthAdjust=\"spacingAndGlyphs\" textLength=\"64\" x=\"151\" y=\"180.0669\">«depend»</text></a><!--MD5=[0fb274dbe7c82c6dabb8d0057472e90b]\n",
       "@startuml\r\n",
       "skinparam linetype polyline\r\n",
       "skinparam monochrome true\r\n",
       "skinparam classbackgroundcolor white\r\n",
       "skinparam shadowing false\r\n",
       "skinparam wrapWidth 300\r\n",
       "hide circle\r\n",
       "\r\n",
       "package \"DependencyTest\" as E1  [[psysml:eac58141-1d30-4dd4-8de7-f3beae76540f ]]  {\r\n",
       "package \"System\" as E2  [[psysml:13805519-bfbc-4c0f-88c4-787529a25875 ]]  {\r\n",
       "package \"Application Layer\" as E3  [[psysml:5348c3d7-5f8d-4656-8805-8961159c09b6 ]]  {\r\n",
       "}\r\n",
       "package \"Service Layer\" as E4  [[psysml:e92bea40-a3a7-48d4-b6b8-5548cc937669 ]]  {\r\n",
       "}\r\n",
       "package \"Data Layer\" as E5  [[psysml:9210d902-7ba4-4a43-8b80-75376691e6d0 ]]  {\r\n",
       "}\r\n",
       "}\r\n",
       "comp usage \"x\" as E6  <<(T,blue) attribute>> [[psysml:d1a2f8b3-43fe-4bb6-bcd1-ae6c73505f04 ]] {\r\n",
       "}\r\n",
       "comp usage \"y\" as E7  <<(T,blue) attribute>> [[psysml:ad948c0a-adc5-4c23-9b66-20666ae7e933 ]] {\r\n",
       "}\r\n",
       "comp usage \"z\" as E8  <<(T,blue) attribute>> [[psysml:4e191771-f0c3-4f18-930e-d8147bece3b0 ]] {\r\n",
       "}\r\n",
       "}\r\n",
       "E3 ..>> E4 [[psysml:43ea743a-a860-452f-b433-717c56c39b79 ]] : <<depend>>\r\n",
       "E4 ..>> E5 [[psysml:2fd6f227-cfe3-4fe1-af5d-016c5bccfb5b ]] : <<depend>>\r\n",
       "E8 ..>> E6 [[psysml:209e6958-61b2-4a39-8cf0-69b60dbfdefc ]] : <<depend>>\r\n",
       "E8 ..>> E7 [[psysml:209e6958-61b2-4a39-8cf0-69b60dbfdefc ]] : <<depend>>\r\n",
       "@enduml\r\n",
       "\n",
       "PlantUML version 1.2020.13(Sat Jun 13 12:26:38 UTC 2020)\n",
       "(EPL source distribution)\n",
       "Java Runtime: OpenJDK Runtime Environment\n",
       "JVM: OpenJDK 64-Bit Server VM\n",
       "Default Encoding: UTF-8\n",
       "Language: en\n",
       "Country: null\n",
       "--></g></svg>"
      ]
     },
     "execution_count": 15,
     "metadata": {},
     "output_type": "execute_result"
    }
   ],
   "source": [
    "%viz --style=\"POLYLINE\" --view=\"MIXED\" \"DependencyTest\""
   ]
  },
  {
   "cell_type": "code",
   "execution_count": 16,
   "id": "5b72a10d",
   "metadata": {
    "execution": {
     "iopub.execute_input": "2021-10-25T08:20:44.812839Z",
     "iopub.status.busy": "2021-10-25T08:20:44.812583Z",
     "iopub.status.idle": "2021-10-25T08:20:44.861959Z",
     "shell.execute_reply": "2021-10-25T08:20:44.861770Z"
    }
   },
   "outputs": [
    {
     "data": {
      "image/svg+xml": [
       "<?xml version=\"1.0\" encoding=\"UTF-8\" standalone=\"no\"?><svg xmlns=\"http://www.w3.org/2000/svg\" xmlns:xlink=\"http://www.w3.org/1999/xlink\" contentScriptType=\"application/ecmascript\" contentStyleType=\"text/css\" height=\"328px\" preserveAspectRatio=\"none\" style=\"width:707px;height:328px;\" version=\"1.1\" viewBox=\"0 0 707 328\" width=\"707px\" zoomAndPan=\"magnify\"><defs/><g><!--MD5=[fbc87193dbaf4d95561dea2c320d4a47]\n",
       "cluster E1--><a href=\"psysml:eac58141-1d30-4dd4-8de7-f3beae76540f\" target=\"_top\" title=\"psysml:eac58141-1d30-4dd4-8de7-f3beae76540f\" xlink:actuate=\"onRequest\" xlink:href=\"psysml:eac58141-1d30-4dd4-8de7-f3beae76540f\" xlink:show=\"new\" xlink:title=\"psysml:eac58141-1d30-4dd4-8de7-f3beae76540f\" xlink:type=\"simple\"><polygon fill=\"#FFFFFF\" points=\"16,6,142,6,149,28.2969,685,28.2969,685,316,16,316,16,6\" style=\"stroke: #000000; stroke-width: 1.5;\"/><line style=\"stroke: #000000; stroke-width: 1.5;\" x1=\"16\" x2=\"149\" y1=\"28.2969\" y2=\"28.2969\"/><text fill=\"#000000\" font-family=\"sans-serif\" font-size=\"14\" font-weight=\"bold\" lengthAdjust=\"spacingAndGlyphs\" textLength=\"120\" x=\"20\" y=\"20.9951\">DependencyTest</text></a><!--MD5=[e4f7fae6ed58524ba242bb0b0d3be6b7]\n",
       "cluster E2--><a href=\"psysml:13805519-bfbc-4c0f-88c4-787529a25875\" target=\"_top\" title=\"psysml:13805519-bfbc-4c0f-88c4-787529a25875\" xlink:actuate=\"onRequest\" xlink:href=\"psysml:13805519-bfbc-4c0f-88c4-787529a25875\" xlink:show=\"new\" xlink:title=\"psysml:13805519-bfbc-4c0f-88c4-787529a25875\" xlink:type=\"simple\"><polygon fill=\"#FFFFFF\" points=\"40,49,97,49,104,71.2969,661,71.2969,661,154,40,154,40,49\" style=\"stroke: #000000; stroke-width: 1.5;\"/><line style=\"stroke: #000000; stroke-width: 1.5;\" x1=\"40\" x2=\"104\" y1=\"71.2969\" y2=\"71.2969\"/><text fill=\"#000000\" font-family=\"sans-serif\" font-size=\"14\" font-weight=\"bold\" lengthAdjust=\"spacingAndGlyphs\" textLength=\"51\" x=\"44\" y=\"63.9951\">System</text></a><!--MD5=[60a26617385b1d2d0262a64233df1f8d]\n",
       "class E6--><a href=\"psysml:d1a2f8b3-43fe-4bb6-bcd1-ae6c73505f04\" target=\"_top\" title=\"psysml:d1a2f8b3-43fe-4bb6-bcd1-ae6c73505f04\" xlink:actuate=\"onRequest\" xlink:href=\"psysml:d1a2f8b3-43fe-4bb6-bcd1-ae6c73505f04\" xlink:show=\"new\" xlink:title=\"psysml:d1a2f8b3-43fe-4bb6-bcd1-ae6c73505f04\" xlink:type=\"simple\"><rect fill=\"#FFFFFF\" height=\"45.9375\" id=\"E6\" rx=\"10\" ry=\"10\" style=\"stroke: #383838; stroke-width: 1.5;\" width=\"71\" x=\"336.5\" y=\"254\"/><text fill=\"#000000\" font-family=\"sans-serif\" font-size=\"12\" font-style=\"italic\" lengthAdjust=\"spacingAndGlyphs\" textLength=\"69\" x=\"337.5\" y=\"270.1387\">«attribute»</text><text fill=\"#000000\" font-family=\"sans-serif\" font-size=\"12\" lengthAdjust=\"spacingAndGlyphs\" textLength=\"6\" x=\"369\" y=\"284.1074\">x</text><line style=\"stroke: #383838; stroke-width: 1.5;\" x1=\"337.5\" x2=\"406.5\" y1=\"291.9375\" y2=\"291.9375\"/></a><!--MD5=[2156ba9850f5573cc1fc38a6a4b2f02b]\n",
       "class E7--><a href=\"psysml:ad948c0a-adc5-4c23-9b66-20666ae7e933\" target=\"_top\" title=\"psysml:ad948c0a-adc5-4c23-9b66-20666ae7e933\" xlink:actuate=\"onRequest\" xlink:href=\"psysml:ad948c0a-adc5-4c23-9b66-20666ae7e933\" xlink:show=\"new\" xlink:title=\"psysml:ad948c0a-adc5-4c23-9b66-20666ae7e933\" xlink:type=\"simple\"><rect fill=\"#FFFFFF\" height=\"45.9375\" id=\"E7\" rx=\"10\" ry=\"10\" style=\"stroke: #383838; stroke-width: 1.5;\" width=\"71\" x=\"336.5\" y=\"173\"/><text fill=\"#000000\" font-family=\"sans-serif\" font-size=\"12\" font-style=\"italic\" lengthAdjust=\"spacingAndGlyphs\" textLength=\"69\" x=\"337.5\" y=\"189.1387\">«attribute»</text><text fill=\"#000000\" font-family=\"sans-serif\" font-size=\"12\" lengthAdjust=\"spacingAndGlyphs\" textLength=\"6\" x=\"369\" y=\"203.1074\">y</text><line style=\"stroke: #383838; stroke-width: 1.5;\" x1=\"337.5\" x2=\"406.5\" y1=\"210.9375\" y2=\"210.9375\"/></a><!--MD5=[b9389687b975829384b498ac4b7476b2]\n",
       "class E8--><a href=\"psysml:4e191771-f0c3-4f18-930e-d8147bece3b0\" target=\"_top\" title=\"psysml:4e191771-f0c3-4f18-930e-d8147bece3b0\" xlink:actuate=\"onRequest\" xlink:href=\"psysml:4e191771-f0c3-4f18-930e-d8147bece3b0\" xlink:show=\"new\" xlink:title=\"psysml:4e191771-f0c3-4f18-930e-d8147bece3b0\" xlink:type=\"simple\"><rect fill=\"#FFFFFF\" height=\"45.9375\" id=\"E8\" rx=\"10\" ry=\"10\" style=\"stroke: #383838; stroke-width: 1.5;\" width=\"71\" x=\"88\" y=\"206\"/><text fill=\"#000000\" font-family=\"sans-serif\" font-size=\"12\" font-style=\"italic\" lengthAdjust=\"spacingAndGlyphs\" textLength=\"69\" x=\"89\" y=\"222.1387\">«attribute»</text><text fill=\"#000000\" font-family=\"sans-serif\" font-size=\"12\" lengthAdjust=\"spacingAndGlyphs\" textLength=\"5\" x=\"121\" y=\"236.1074\">z</text><line style=\"stroke: #383838; stroke-width: 1.5;\" x1=\"89\" x2=\"158\" y1=\"243.9375\" y2=\"243.9375\"/></a><a href=\"psysml:5348c3d7-5f8d-4656-8805-8961159c09b6\" target=\"_top\" title=\"psysml:5348c3d7-5f8d-4656-8805-8961159c09b6\" xlink:actuate=\"onRequest\" xlink:href=\"psysml:5348c3d7-5f8d-4656-8805-8961159c09b6\" xlink:show=\"new\" xlink:title=\"psysml:5348c3d7-5f8d-4656-8805-8961159c09b6\" xlink:type=\"simple\"><polygon fill=\"#FFFFFF\" points=\"56,84.5,177,84.5,184,106.7969,191,106.7969,191,137.0938,56,137.0938,56,84.5\" style=\"stroke: #000000; stroke-width: 1.5;\"/><line style=\"stroke: #000000; stroke-width: 1.5;\" x1=\"56\" x2=\"184\" y1=\"106.7969\" y2=\"106.7969\"/><text fill=\"#000000\" font-family=\"sans-serif\" font-size=\"14\" font-weight=\"bold\" lengthAdjust=\"spacingAndGlyphs\" textLength=\"115\" x=\"60\" y=\"99.4951\">Application Layer</text></a><a href=\"psysml:e92bea40-a3a7-48d4-b6b8-5548cc937669\" target=\"_top\" title=\"psysml:e92bea40-a3a7-48d4-b6b8-5548cc937669\" xlink:actuate=\"onRequest\" xlink:href=\"psysml:e92bea40-a3a7-48d4-b6b8-5548cc937669\" xlink:show=\"new\" xlink:title=\"psysml:e92bea40-a3a7-48d4-b6b8-5548cc937669\" xlink:type=\"simple\"><polygon fill=\"#FFFFFF\" points=\"317,84.5,413,84.5,420,106.7969,427,106.7969,427,137.0938,317,137.0938,317,84.5\" style=\"stroke: #000000; stroke-width: 1.5;\"/><line style=\"stroke: #000000; stroke-width: 1.5;\" x1=\"317\" x2=\"420\" y1=\"106.7969\" y2=\"106.7969\"/><text fill=\"#000000\" font-family=\"sans-serif\" font-size=\"14\" font-weight=\"bold\" lengthAdjust=\"spacingAndGlyphs\" textLength=\"90\" x=\"321\" y=\"99.4951\">Service Layer</text></a><a href=\"psysml:9210d902-7ba4-4a43-8b80-75376691e6d0\" target=\"_top\" title=\"psysml:9210d902-7ba4-4a43-8b80-75376691e6d0\" xlink:actuate=\"onRequest\" xlink:href=\"psysml:9210d902-7ba4-4a43-8b80-75376691e6d0\" xlink:show=\"new\" xlink:title=\"psysml:9210d902-7ba4-4a43-8b80-75376691e6d0\" xlink:type=\"simple\"><polygon fill=\"#FFFFFF\" points=\"553,84.5,631,84.5,638,106.7969,645,106.7969,645,137.0938,553,137.0938,553,84.5\" style=\"stroke: #000000; stroke-width: 1.5;\"/><line style=\"stroke: #000000; stroke-width: 1.5;\" x1=\"553\" x2=\"638\" y1=\"106.7969\" y2=\"106.7969\"/><text fill=\"#000000\" font-family=\"sans-serif\" font-size=\"14\" font-weight=\"bold\" lengthAdjust=\"spacingAndGlyphs\" textLength=\"72\" x=\"557\" y=\"99.4951\">Data Layer</text></a><!--MD5=[af87c684e3b0d8be13c1a698a818ef1e]\n",
       "link E3 to E4--><a href=\"psysml:43ea743a-a860-452f-b433-717c56c39b79\" target=\"_top\" title=\"psysml:43ea743a-a860-452f-b433-717c56c39b79\" xlink:actuate=\"onRequest\" xlink:href=\"psysml:43ea743a-a860-452f-b433-717c56c39b79\" xlink:show=\"new\" xlink:title=\"psysml:43ea743a-a860-452f-b433-717c56c39b79\" xlink:type=\"simple\"><path d=\"M191.21,111 C227.64,111 272.49,111 308.28,111 \" fill=\"none\" id=\"E3-&gt;E4\" style=\"stroke: #383838; stroke-width: 1.0; stroke-dasharray: 7.0,7.0;\"/><polygon fill=\"#383838\" points=\"316.7,111,308.7,108,308.7,114,316.7,111\" style=\"stroke: #383838; stroke-width: 1.0;\"/><text fill=\"#000000\" font-family=\"sans-serif\" font-size=\"13\" lengthAdjust=\"spacingAndGlyphs\" textLength=\"64\" x=\"222\" y=\"107.0669\">«depend»</text></a><!--MD5=[1b7591eae5389033d8d09a9d6721a717]\n",
       "link E4 to E5--><a href=\"psysml:2fd6f227-cfe3-4fe1-af5d-016c5bccfb5b\" target=\"_top\" title=\"psysml:2fd6f227-cfe3-4fe1-af5d-016c5bccfb5b\" xlink:actuate=\"onRequest\" xlink:href=\"psysml:2fd6f227-cfe3-4fe1-af5d-016c5bccfb5b\" xlink:show=\"new\" xlink:title=\"psysml:2fd6f227-cfe3-4fe1-af5d-016c5bccfb5b\" xlink:type=\"simple\"><path d=\"M427.18,111 C462.81,111 509.24,111 544.69,111 \" fill=\"none\" id=\"E4-&gt;E5\" style=\"stroke: #383838; stroke-width: 1.0; stroke-dasharray: 7.0,7.0;\"/><polygon fill=\"#383838\" points=\"553,111,545,108,545,114,553,111\" style=\"stroke: #383838; stroke-width: 1.0;\"/><text fill=\"#000000\" font-family=\"sans-serif\" font-size=\"13\" lengthAdjust=\"spacingAndGlyphs\" textLength=\"64\" x=\"458\" y=\"107.0669\">«depend»</text></a><!--MD5=[c5e8897d989ce984f93528998a7150fe]\n",
       "link E8 to E6--><a href=\"psysml:209e6958-61b2-4a39-8cf0-69b60dbfdefc\" target=\"_top\" title=\"psysml:209e6958-61b2-4a39-8cf0-69b60dbfdefc\" xlink:actuate=\"onRequest\" xlink:href=\"psysml:209e6958-61b2-4a39-8cf0-69b60dbfdefc\" xlink:show=\"new\" xlink:title=\"psysml:209e6958-61b2-4a39-8cf0-69b60dbfdefc\" xlink:type=\"simple\"><path d=\"M159.03,235.72 C203.37,244.36 280.3,259.34 328.28,268.68 \" fill=\"none\" id=\"E8-&gt;E6\" style=\"stroke: #383838; stroke-width: 1.0; stroke-dasharray: 7.0,7.0;\"/><polygon fill=\"#383838\" points=\"336.3,270.24,329.0216,265.765,327.8738,271.6542,336.3,270.24\" style=\"stroke: #383838; stroke-width: 1.0;\"/><text fill=\"#000000\" font-family=\"sans-serif\" font-size=\"13\" lengthAdjust=\"spacingAndGlyphs\" textLength=\"64\" x=\"222\" y=\"245.0669\">«depend»</text></a><!--MD5=[bfa3c8b0d15052fdf50ae9310b491027]\n",
       "link E8 to E7--><a href=\"psysml:209e6958-61b2-4a39-8cf0-69b60dbfdefc\" target=\"_top\" title=\"psysml:209e6958-61b2-4a39-8cf0-69b60dbfdefc\" xlink:actuate=\"onRequest\" xlink:href=\"psysml:209e6958-61b2-4a39-8cf0-69b60dbfdefc\" xlink:show=\"new\" xlink:title=\"psysml:209e6958-61b2-4a39-8cf0-69b60dbfdefc\" xlink:type=\"simple\"><path d=\"M159.03,224.38 C203.37,218.44 280.3,208.14 328.28,201.72 \" fill=\"none\" id=\"E8-&gt;E7\" style=\"stroke: #383838; stroke-width: 1.0; stroke-dasharray: 7.0,7.0;\"/><polygon fill=\"#383838\" points=\"336.3,200.65,327.9737,198.7336,328.7667,204.681,336.3,200.65\" style=\"stroke: #383838; stroke-width: 1.0;\"/><text fill=\"#000000\" font-family=\"sans-serif\" font-size=\"13\" lengthAdjust=\"spacingAndGlyphs\" textLength=\"64\" x=\"222\" y=\"204.0669\">«depend»</text></a><!--MD5=[f9f67e2e21c60b5bd754216fcbde90f7]\n",
       "@startuml\r\n",
       "left to right direction\r\n",
       "skinparam monochrome true\r\n",
       "skinparam classbackgroundcolor white\r\n",
       "skinparam shadowing false\r\n",
       "skinparam wrapWidth 300\r\n",
       "hide circle\r\n",
       "\r\n",
       "package \"DependencyTest\" as E1  [[psysml:eac58141-1d30-4dd4-8de7-f3beae76540f ]]  {\r\n",
       "package \"System\" as E2  [[psysml:13805519-bfbc-4c0f-88c4-787529a25875 ]]  {\r\n",
       "package \"Application Layer\" as E3  [[psysml:5348c3d7-5f8d-4656-8805-8961159c09b6 ]]  {\r\n",
       "}\r\n",
       "package \"Service Layer\" as E4  [[psysml:e92bea40-a3a7-48d4-b6b8-5548cc937669 ]]  {\r\n",
       "}\r\n",
       "package \"Data Layer\" as E5  [[psysml:9210d902-7ba4-4a43-8b80-75376691e6d0 ]]  {\r\n",
       "}\r\n",
       "}\r\n",
       "comp usage \"x\" as E6  <<(T,blue) attribute>> [[psysml:d1a2f8b3-43fe-4bb6-bcd1-ae6c73505f04 ]] {\r\n",
       "}\r\n",
       "comp usage \"y\" as E7  <<(T,blue) attribute>> [[psysml:ad948c0a-adc5-4c23-9b66-20666ae7e933 ]] {\r\n",
       "}\r\n",
       "comp usage \"z\" as E8  <<(T,blue) attribute>> [[psysml:4e191771-f0c3-4f18-930e-d8147bece3b0 ]] {\r\n",
       "}\r\n",
       "}\r\n",
       "E3 ..>> E4 [[psysml:43ea743a-a860-452f-b433-717c56c39b79 ]] : <<depend>>\r\n",
       "E4 ..>> E5 [[psysml:2fd6f227-cfe3-4fe1-af5d-016c5bccfb5b ]] : <<depend>>\r\n",
       "E8 ..>> E6 [[psysml:209e6958-61b2-4a39-8cf0-69b60dbfdefc ]] : <<depend>>\r\n",
       "E8 ..>> E7 [[psysml:209e6958-61b2-4a39-8cf0-69b60dbfdefc ]] : <<depend>>\r\n",
       "@enduml\r\n",
       "\n",
       "PlantUML version 1.2020.13(Sat Jun 13 12:26:38 UTC 2020)\n",
       "(EPL source distribution)\n",
       "Java Runtime: OpenJDK Runtime Environment\n",
       "JVM: OpenJDK 64-Bit Server VM\n",
       "Default Encoding: UTF-8\n",
       "Language: en\n",
       "Country: null\n",
       "--></g></svg>"
      ]
     },
     "execution_count": 16,
     "metadata": {},
     "output_type": "execute_result"
    }
   ],
   "source": [
    "%viz --style=\"LR\" --view=\"Default\" \"DependencyTest\""
   ]
  },
  {
   "cell_type": "code",
   "execution_count": 17,
   "id": "016b5cd0",
   "metadata": {
    "execution": {
     "iopub.execute_input": "2021-10-25T08:20:44.912019Z",
     "iopub.status.busy": "2021-10-25T08:20:44.911712Z",
     "iopub.status.idle": "2021-10-25T08:20:44.954336Z",
     "shell.execute_reply": "2021-10-25T08:20:44.953970Z"
    }
   },
   "outputs": [
    {
     "data": {
      "image/svg+xml": [
       "<?xml version=\"1.0\" encoding=\"UTF-8\" standalone=\"no\"?><svg xmlns=\"http://www.w3.org/2000/svg\" xmlns:xlink=\"http://www.w3.org/1999/xlink\" contentScriptType=\"application/ecmascript\" contentStyleType=\"text/css\" height=\"328px\" preserveAspectRatio=\"none\" style=\"width:707px;height:328px;\" version=\"1.1\" viewBox=\"0 0 707 328\" width=\"707px\" zoomAndPan=\"magnify\"><defs/><g><!--MD5=[fbc87193dbaf4d95561dea2c320d4a47]\n",
       "cluster E1--><a href=\"psysml:eac58141-1d30-4dd4-8de7-f3beae76540f\" target=\"_top\" title=\"psysml:eac58141-1d30-4dd4-8de7-f3beae76540f\" xlink:actuate=\"onRequest\" xlink:href=\"psysml:eac58141-1d30-4dd4-8de7-f3beae76540f\" xlink:show=\"new\" xlink:title=\"psysml:eac58141-1d30-4dd4-8de7-f3beae76540f\" xlink:type=\"simple\"><polygon fill=\"#FFFFFF\" points=\"16,6,142,6,149,28.2969,685,28.2969,685,316,16,316,16,6\" style=\"stroke: #000000; stroke-width: 1.5;\"/><line style=\"stroke: #000000; stroke-width: 1.5;\" x1=\"16\" x2=\"149\" y1=\"28.2969\" y2=\"28.2969\"/><text fill=\"#000000\" font-family=\"sans-serif\" font-size=\"14\" font-weight=\"bold\" lengthAdjust=\"spacingAndGlyphs\" textLength=\"120\" x=\"20\" y=\"20.9951\">DependencyTest</text></a><!--MD5=[e4f7fae6ed58524ba242bb0b0d3be6b7]\n",
       "cluster E2--><a href=\"psysml:13805519-bfbc-4c0f-88c4-787529a25875\" target=\"_top\" title=\"psysml:13805519-bfbc-4c0f-88c4-787529a25875\" xlink:actuate=\"onRequest\" xlink:href=\"psysml:13805519-bfbc-4c0f-88c4-787529a25875\" xlink:show=\"new\" xlink:title=\"psysml:13805519-bfbc-4c0f-88c4-787529a25875\" xlink:type=\"simple\"><polygon fill=\"#FFFFFF\" points=\"40,49,97,49,104,71.2969,661,71.2969,661,154,40,154,40,49\" style=\"stroke: #000000; stroke-width: 1.5;\"/><line style=\"stroke: #000000; stroke-width: 1.5;\" x1=\"40\" x2=\"104\" y1=\"71.2969\" y2=\"71.2969\"/><text fill=\"#000000\" font-family=\"sans-serif\" font-size=\"14\" font-weight=\"bold\" lengthAdjust=\"spacingAndGlyphs\" textLength=\"51\" x=\"44\" y=\"63.9951\">System</text></a><!--MD5=[60a26617385b1d2d0262a64233df1f8d]\n",
       "class E6--><a href=\"psysml:d1a2f8b3-43fe-4bb6-bcd1-ae6c73505f04\" target=\"_top\" title=\"psysml:d1a2f8b3-43fe-4bb6-bcd1-ae6c73505f04\" xlink:actuate=\"onRequest\" xlink:href=\"psysml:d1a2f8b3-43fe-4bb6-bcd1-ae6c73505f04\" xlink:show=\"new\" xlink:title=\"psysml:d1a2f8b3-43fe-4bb6-bcd1-ae6c73505f04\" xlink:type=\"simple\"><rect fill=\"#FFFFFF\" height=\"45.9375\" id=\"E6\" rx=\"10\" ry=\"10\" style=\"stroke: #383838; stroke-width: 1.5;\" width=\"71\" x=\"336.5\" y=\"254\"/><text fill=\"#000000\" font-family=\"sans-serif\" font-size=\"12\" font-style=\"italic\" lengthAdjust=\"spacingAndGlyphs\" textLength=\"69\" x=\"337.5\" y=\"270.1387\">«attribute»</text><text fill=\"#000000\" font-family=\"sans-serif\" font-size=\"12\" lengthAdjust=\"spacingAndGlyphs\" textLength=\"6\" x=\"369\" y=\"284.1074\">x</text><line style=\"stroke: #383838; stroke-width: 1.5;\" x1=\"337.5\" x2=\"406.5\" y1=\"291.9375\" y2=\"291.9375\"/></a><!--MD5=[2156ba9850f5573cc1fc38a6a4b2f02b]\n",
       "class E7--><a href=\"psysml:ad948c0a-adc5-4c23-9b66-20666ae7e933\" target=\"_top\" title=\"psysml:ad948c0a-adc5-4c23-9b66-20666ae7e933\" xlink:actuate=\"onRequest\" xlink:href=\"psysml:ad948c0a-adc5-4c23-9b66-20666ae7e933\" xlink:show=\"new\" xlink:title=\"psysml:ad948c0a-adc5-4c23-9b66-20666ae7e933\" xlink:type=\"simple\"><rect fill=\"#FFFFFF\" height=\"45.9375\" id=\"E7\" rx=\"10\" ry=\"10\" style=\"stroke: #383838; stroke-width: 1.5;\" width=\"71\" x=\"336.5\" y=\"173\"/><text fill=\"#000000\" font-family=\"sans-serif\" font-size=\"12\" font-style=\"italic\" lengthAdjust=\"spacingAndGlyphs\" textLength=\"69\" x=\"337.5\" y=\"189.1387\">«attribute»</text><text fill=\"#000000\" font-family=\"sans-serif\" font-size=\"12\" lengthAdjust=\"spacingAndGlyphs\" textLength=\"6\" x=\"369\" y=\"203.1074\">y</text><line style=\"stroke: #383838; stroke-width: 1.5;\" x1=\"337.5\" x2=\"406.5\" y1=\"210.9375\" y2=\"210.9375\"/></a><!--MD5=[b9389687b975829384b498ac4b7476b2]\n",
       "class E8--><a href=\"psysml:4e191771-f0c3-4f18-930e-d8147bece3b0\" target=\"_top\" title=\"psysml:4e191771-f0c3-4f18-930e-d8147bece3b0\" xlink:actuate=\"onRequest\" xlink:href=\"psysml:4e191771-f0c3-4f18-930e-d8147bece3b0\" xlink:show=\"new\" xlink:title=\"psysml:4e191771-f0c3-4f18-930e-d8147bece3b0\" xlink:type=\"simple\"><rect fill=\"#FFFFFF\" height=\"45.9375\" id=\"E8\" rx=\"10\" ry=\"10\" style=\"stroke: #383838; stroke-width: 1.5;\" width=\"71\" x=\"88\" y=\"206\"/><text fill=\"#000000\" font-family=\"sans-serif\" font-size=\"12\" font-style=\"italic\" lengthAdjust=\"spacingAndGlyphs\" textLength=\"69\" x=\"89\" y=\"222.1387\">«attribute»</text><text fill=\"#000000\" font-family=\"sans-serif\" font-size=\"12\" lengthAdjust=\"spacingAndGlyphs\" textLength=\"5\" x=\"121\" y=\"236.1074\">z</text><line style=\"stroke: #383838; stroke-width: 1.5;\" x1=\"89\" x2=\"158\" y1=\"243.9375\" y2=\"243.9375\"/></a><a href=\"psysml:5348c3d7-5f8d-4656-8805-8961159c09b6\" target=\"_top\" title=\"psysml:5348c3d7-5f8d-4656-8805-8961159c09b6\" xlink:actuate=\"onRequest\" xlink:href=\"psysml:5348c3d7-5f8d-4656-8805-8961159c09b6\" xlink:show=\"new\" xlink:title=\"psysml:5348c3d7-5f8d-4656-8805-8961159c09b6\" xlink:type=\"simple\"><polygon fill=\"#FFFFFF\" points=\"56,84.5,177,84.5,184,106.7969,191,106.7969,191,137.0938,56,137.0938,56,84.5\" style=\"stroke: #000000; stroke-width: 1.5;\"/><line style=\"stroke: #000000; stroke-width: 1.5;\" x1=\"56\" x2=\"184\" y1=\"106.7969\" y2=\"106.7969\"/><text fill=\"#000000\" font-family=\"sans-serif\" font-size=\"14\" font-weight=\"bold\" lengthAdjust=\"spacingAndGlyphs\" textLength=\"115\" x=\"60\" y=\"99.4951\">Application Layer</text></a><a href=\"psysml:e92bea40-a3a7-48d4-b6b8-5548cc937669\" target=\"_top\" title=\"psysml:e92bea40-a3a7-48d4-b6b8-5548cc937669\" xlink:actuate=\"onRequest\" xlink:href=\"psysml:e92bea40-a3a7-48d4-b6b8-5548cc937669\" xlink:show=\"new\" xlink:title=\"psysml:e92bea40-a3a7-48d4-b6b8-5548cc937669\" xlink:type=\"simple\"><polygon fill=\"#FFFFFF\" points=\"317,84.5,413,84.5,420,106.7969,427,106.7969,427,137.0938,317,137.0938,317,84.5\" style=\"stroke: #000000; stroke-width: 1.5;\"/><line style=\"stroke: #000000; stroke-width: 1.5;\" x1=\"317\" x2=\"420\" y1=\"106.7969\" y2=\"106.7969\"/><text fill=\"#000000\" font-family=\"sans-serif\" font-size=\"14\" font-weight=\"bold\" lengthAdjust=\"spacingAndGlyphs\" textLength=\"90\" x=\"321\" y=\"99.4951\">Service Layer</text></a><a href=\"psysml:9210d902-7ba4-4a43-8b80-75376691e6d0\" target=\"_top\" title=\"psysml:9210d902-7ba4-4a43-8b80-75376691e6d0\" xlink:actuate=\"onRequest\" xlink:href=\"psysml:9210d902-7ba4-4a43-8b80-75376691e6d0\" xlink:show=\"new\" xlink:title=\"psysml:9210d902-7ba4-4a43-8b80-75376691e6d0\" xlink:type=\"simple\"><polygon fill=\"#FFFFFF\" points=\"553,84.5,631,84.5,638,106.7969,645,106.7969,645,137.0938,553,137.0938,553,84.5\" style=\"stroke: #000000; stroke-width: 1.5;\"/><line style=\"stroke: #000000; stroke-width: 1.5;\" x1=\"553\" x2=\"638\" y1=\"106.7969\" y2=\"106.7969\"/><text fill=\"#000000\" font-family=\"sans-serif\" font-size=\"14\" font-weight=\"bold\" lengthAdjust=\"spacingAndGlyphs\" textLength=\"72\" x=\"557\" y=\"99.4951\">Data Layer</text></a><!--MD5=[af87c684e3b0d8be13c1a698a818ef1e]\n",
       "link E3 to E4--><a href=\"psysml:43ea743a-a860-452f-b433-717c56c39b79\" target=\"_top\" title=\"psysml:43ea743a-a860-452f-b433-717c56c39b79\" xlink:actuate=\"onRequest\" xlink:href=\"psysml:43ea743a-a860-452f-b433-717c56c39b79\" xlink:show=\"new\" xlink:title=\"psysml:43ea743a-a860-452f-b433-717c56c39b79\" xlink:type=\"simple\"><path d=\"M191.21,111 C227.64,111 272.49,111 308.28,111 \" fill=\"none\" id=\"E3-&gt;E4\" style=\"stroke: #383838; stroke-width: 1.0; stroke-dasharray: 7.0,7.0;\"/><polygon fill=\"#383838\" points=\"316.7,111,308.7,108,308.7,114,316.7,111\" style=\"stroke: #383838; stroke-width: 1.0;\"/><text fill=\"#000000\" font-family=\"sans-serif\" font-size=\"13\" lengthAdjust=\"spacingAndGlyphs\" textLength=\"64\" x=\"222\" y=\"107.0669\">«depend»</text></a><!--MD5=[1b7591eae5389033d8d09a9d6721a717]\n",
       "link E4 to E5--><a href=\"psysml:2fd6f227-cfe3-4fe1-af5d-016c5bccfb5b\" target=\"_top\" title=\"psysml:2fd6f227-cfe3-4fe1-af5d-016c5bccfb5b\" xlink:actuate=\"onRequest\" xlink:href=\"psysml:2fd6f227-cfe3-4fe1-af5d-016c5bccfb5b\" xlink:show=\"new\" xlink:title=\"psysml:2fd6f227-cfe3-4fe1-af5d-016c5bccfb5b\" xlink:type=\"simple\"><path d=\"M427.18,111 C462.81,111 509.24,111 544.69,111 \" fill=\"none\" id=\"E4-&gt;E5\" style=\"stroke: #383838; stroke-width: 1.0; stroke-dasharray: 7.0,7.0;\"/><polygon fill=\"#383838\" points=\"553,111,545,108,545,114,553,111\" style=\"stroke: #383838; stroke-width: 1.0;\"/><text fill=\"#000000\" font-family=\"sans-serif\" font-size=\"13\" lengthAdjust=\"spacingAndGlyphs\" textLength=\"64\" x=\"458\" y=\"107.0669\">«depend»</text></a><!--MD5=[c5e8897d989ce984f93528998a7150fe]\n",
       "link E8 to E6--><a href=\"psysml:209e6958-61b2-4a39-8cf0-69b60dbfdefc\" target=\"_top\" title=\"psysml:209e6958-61b2-4a39-8cf0-69b60dbfdefc\" xlink:actuate=\"onRequest\" xlink:href=\"psysml:209e6958-61b2-4a39-8cf0-69b60dbfdefc\" xlink:show=\"new\" xlink:title=\"psysml:209e6958-61b2-4a39-8cf0-69b60dbfdefc\" xlink:type=\"simple\"><path d=\"M159.03,235.72 C203.37,244.36 280.3,259.34 328.28,268.68 \" fill=\"none\" id=\"E8-&gt;E6\" style=\"stroke: #383838; stroke-width: 1.0; stroke-dasharray: 7.0,7.0;\"/><polygon fill=\"#383838\" points=\"336.3,270.24,329.0216,265.765,327.8738,271.6542,336.3,270.24\" style=\"stroke: #383838; stroke-width: 1.0;\"/><text fill=\"#000000\" font-family=\"sans-serif\" font-size=\"13\" lengthAdjust=\"spacingAndGlyphs\" textLength=\"64\" x=\"222\" y=\"245.0669\">«depend»</text></a><!--MD5=[bfa3c8b0d15052fdf50ae9310b491027]\n",
       "link E8 to E7--><a href=\"psysml:209e6958-61b2-4a39-8cf0-69b60dbfdefc\" target=\"_top\" title=\"psysml:209e6958-61b2-4a39-8cf0-69b60dbfdefc\" xlink:actuate=\"onRequest\" xlink:href=\"psysml:209e6958-61b2-4a39-8cf0-69b60dbfdefc\" xlink:show=\"new\" xlink:title=\"psysml:209e6958-61b2-4a39-8cf0-69b60dbfdefc\" xlink:type=\"simple\"><path d=\"M159.03,224.38 C203.37,218.44 280.3,208.14 328.28,201.72 \" fill=\"none\" id=\"E8-&gt;E7\" style=\"stroke: #383838; stroke-width: 1.0; stroke-dasharray: 7.0,7.0;\"/><polygon fill=\"#383838\" points=\"336.3,200.65,327.9737,198.7336,328.7667,204.681,336.3,200.65\" style=\"stroke: #383838; stroke-width: 1.0;\"/><text fill=\"#000000\" font-family=\"sans-serif\" font-size=\"13\" lengthAdjust=\"spacingAndGlyphs\" textLength=\"64\" x=\"222\" y=\"204.0669\">«depend»</text></a><!--MD5=[f9f67e2e21c60b5bd754216fcbde90f7]\n",
       "@startuml\r\n",
       "left to right direction\r\n",
       "skinparam monochrome true\r\n",
       "skinparam classbackgroundcolor white\r\n",
       "skinparam shadowing false\r\n",
       "skinparam wrapWidth 300\r\n",
       "hide circle\r\n",
       "\r\n",
       "package \"DependencyTest\" as E1  [[psysml:eac58141-1d30-4dd4-8de7-f3beae76540f ]]  {\r\n",
       "package \"System\" as E2  [[psysml:13805519-bfbc-4c0f-88c4-787529a25875 ]]  {\r\n",
       "package \"Application Layer\" as E3  [[psysml:5348c3d7-5f8d-4656-8805-8961159c09b6 ]]  {\r\n",
       "}\r\n",
       "package \"Service Layer\" as E4  [[psysml:e92bea40-a3a7-48d4-b6b8-5548cc937669 ]]  {\r\n",
       "}\r\n",
       "package \"Data Layer\" as E5  [[psysml:9210d902-7ba4-4a43-8b80-75376691e6d0 ]]  {\r\n",
       "}\r\n",
       "}\r\n",
       "comp usage \"x\" as E6  <<(T,blue) attribute>> [[psysml:d1a2f8b3-43fe-4bb6-bcd1-ae6c73505f04 ]] {\r\n",
       "}\r\n",
       "comp usage \"y\" as E7  <<(T,blue) attribute>> [[psysml:ad948c0a-adc5-4c23-9b66-20666ae7e933 ]] {\r\n",
       "}\r\n",
       "comp usage \"z\" as E8  <<(T,blue) attribute>> [[psysml:4e191771-f0c3-4f18-930e-d8147bece3b0 ]] {\r\n",
       "}\r\n",
       "}\r\n",
       "E3 ..>> E4 [[psysml:43ea743a-a860-452f-b433-717c56c39b79 ]] : <<depend>>\r\n",
       "E4 ..>> E5 [[psysml:2fd6f227-cfe3-4fe1-af5d-016c5bccfb5b ]] : <<depend>>\r\n",
       "E8 ..>> E6 [[psysml:209e6958-61b2-4a39-8cf0-69b60dbfdefc ]] : <<depend>>\r\n",
       "E8 ..>> E7 [[psysml:209e6958-61b2-4a39-8cf0-69b60dbfdefc ]] : <<depend>>\r\n",
       "@enduml\r\n",
       "\n",
       "PlantUML version 1.2020.13(Sat Jun 13 12:26:38 UTC 2020)\n",
       "(EPL source distribution)\n",
       "Java Runtime: OpenJDK Runtime Environment\n",
       "JVM: OpenJDK 64-Bit Server VM\n",
       "Default Encoding: UTF-8\n",
       "Language: en\n",
       "Country: null\n",
       "--></g></svg>"
      ]
     },
     "execution_count": 17,
     "metadata": {},
     "output_type": "execute_result"
    }
   ],
   "source": [
    "%viz --style=\"LR\" --view=\"Tree\" \"DependencyTest\""
   ]
  },
  {
   "cell_type": "code",
   "execution_count": 18,
   "id": "985d9ef9",
   "metadata": {
    "execution": {
     "iopub.execute_input": "2021-10-25T08:20:45.003860Z",
     "iopub.status.busy": "2021-10-25T08:20:45.003152Z",
     "iopub.status.idle": "2021-10-25T08:20:45.009234Z",
     "shell.execute_reply": "2021-10-25T08:20:45.009391Z"
    }
   },
   "outputs": [
    {
     "data": {
      "image/svg+xml": [
       "<?xml version=\"1.0\" encoding=\"UTF-8\" standalone=\"no\"?><svg xmlns=\"http://www.w3.org/2000/svg\" xmlns:xlink=\"http://www.w3.org/1999/xlink\" contentScriptType=\"application/ecmascript\" contentStyleType=\"text/css\" height=\"12px\" preserveAspectRatio=\"none\" style=\"width:12px;height:12px;\" version=\"1.1\" viewBox=\"0 0 12 12\" width=\"12px\" zoomAndPan=\"magnify\"><defs/><g><!--MD5=[19d285c9d72a204eba4e2cd117d745e8]\n",
       "@startuml\r\n",
       "left to right direction\r\n",
       "skinparam monochrome true\r\n",
       "skinparam classbackgroundcolor white\r\n",
       "skinparam shadowing false\r\n",
       "skinparam wrapWidth 300\r\n",
       "hide circle\r\n",
       "\r\n",
       "@enduml\r\n",
       "\n",
       "PlantUML version 1.2020.13(Sat Jun 13 12:26:38 UTC 2020)\n",
       "(EPL source distribution)\n",
       "Java Runtime: OpenJDK Runtime Environment\n",
       "JVM: OpenJDK 64-Bit Server VM\n",
       "Default Encoding: UTF-8\n",
       "Language: en\n",
       "Country: null\n",
       "--></g></svg>"
      ]
     },
     "execution_count": 18,
     "metadata": {},
     "output_type": "execute_result"
    }
   ],
   "source": [
    "%viz --style=\"LR\" --view=\"State\" \"DependencyTest\""
   ]
  },
  {
   "cell_type": "code",
   "execution_count": 19,
   "id": "b3704e08",
   "metadata": {
    "execution": {
     "iopub.execute_input": "2021-10-25T08:20:45.059379Z",
     "iopub.status.busy": "2021-10-25T08:20:45.059156Z",
     "iopub.status.idle": "2021-10-25T08:20:45.099542Z",
     "shell.execute_reply": "2021-10-25T08:20:45.099171Z"
    }
   },
   "outputs": [
    {
     "data": {
      "image/svg+xml": [
       "<?xml version=\"1.0\" encoding=\"UTF-8\" standalone=\"no\"?><svg xmlns=\"http://www.w3.org/2000/svg\" xmlns:xlink=\"http://www.w3.org/1999/xlink\" contentScriptType=\"application/ecmascript\" contentStyleType=\"text/css\" height=\"328px\" preserveAspectRatio=\"none\" style=\"width:619px;height:328px;\" version=\"1.1\" viewBox=\"0 0 619 328\" width=\"619px\" zoomAndPan=\"magnify\"><defs/><g><!--MD5=[fbc87193dbaf4d95561dea2c320d4a47]\n",
       "cluster E1--><a href=\"psysml:eac58141-1d30-4dd4-8de7-f3beae76540f\" target=\"_top\" title=\"psysml:eac58141-1d30-4dd4-8de7-f3beae76540f\" xlink:actuate=\"onRequest\" xlink:href=\"psysml:eac58141-1d30-4dd4-8de7-f3beae76540f\" xlink:show=\"new\" xlink:title=\"psysml:eac58141-1d30-4dd4-8de7-f3beae76540f\" xlink:type=\"simple\"><polygon fill=\"#FFFFFF\" points=\"16,6,142,6,149,28.2969,597,28.2969,597,316,16,316,16,6\" style=\"stroke: #000000; stroke-width: 1.5;\"/><line style=\"stroke: #000000; stroke-width: 1.5;\" x1=\"16\" x2=\"149\" y1=\"28.2969\" y2=\"28.2969\"/><text fill=\"#000000\" font-family=\"sans-serif\" font-size=\"14\" font-weight=\"bold\" lengthAdjust=\"spacingAndGlyphs\" textLength=\"120\" x=\"20\" y=\"20.9951\">DependencyTest</text></a><!--MD5=[e4f7fae6ed58524ba242bb0b0d3be6b7]\n",
       "cluster E2--><a href=\"psysml:13805519-bfbc-4c0f-88c4-787529a25875\" target=\"_top\" title=\"psysml:13805519-bfbc-4c0f-88c4-787529a25875\" xlink:actuate=\"onRequest\" xlink:href=\"psysml:13805519-bfbc-4c0f-88c4-787529a25875\" xlink:show=\"new\" xlink:title=\"psysml:13805519-bfbc-4c0f-88c4-787529a25875\" xlink:type=\"simple\"><polygon fill=\"#FFFFFF\" points=\"40,49,97,49,104,71.2969,573,71.2969,573,154,40,154,40,49\" style=\"stroke: #000000; stroke-width: 1.5;\"/><line style=\"stroke: #000000; stroke-width: 1.5;\" x1=\"40\" x2=\"104\" y1=\"71.2969\" y2=\"71.2969\"/><text fill=\"#000000\" font-family=\"sans-serif\" font-size=\"14\" font-weight=\"bold\" lengthAdjust=\"spacingAndGlyphs\" textLength=\"51\" x=\"44\" y=\"63.9951\">System</text></a><!--MD5=[60a26617385b1d2d0262a64233df1f8d]\n",
       "class E6--><a href=\"psysml:d1a2f8b3-43fe-4bb6-bcd1-ae6c73505f04\" target=\"_top\" title=\"psysml:d1a2f8b3-43fe-4bb6-bcd1-ae6c73505f04\" xlink:actuate=\"onRequest\" xlink:href=\"psysml:d1a2f8b3-43fe-4bb6-bcd1-ae6c73505f04\" xlink:show=\"new\" xlink:title=\"psysml:d1a2f8b3-43fe-4bb6-bcd1-ae6c73505f04\" xlink:type=\"simple\"><rect fill=\"#FFFFFF\" height=\"45.9375\" id=\"E6\" rx=\"10\" ry=\"10\" style=\"stroke: #383838; stroke-width: 1.5;\" width=\"71\" x=\"292.5\" y=\"254\"/><text fill=\"#000000\" font-family=\"sans-serif\" font-size=\"12\" font-style=\"italic\" lengthAdjust=\"spacingAndGlyphs\" textLength=\"69\" x=\"293.5\" y=\"270.1387\">«attribute»</text><text fill=\"#000000\" font-family=\"sans-serif\" font-size=\"12\" lengthAdjust=\"spacingAndGlyphs\" textLength=\"6\" x=\"325\" y=\"284.1074\">x</text><line style=\"stroke: #383838; stroke-width: 1.5;\" x1=\"293.5\" x2=\"362.5\" y1=\"291.9375\" y2=\"291.9375\"/></a><!--MD5=[2156ba9850f5573cc1fc38a6a4b2f02b]\n",
       "class E7--><a href=\"psysml:ad948c0a-adc5-4c23-9b66-20666ae7e933\" target=\"_top\" title=\"psysml:ad948c0a-adc5-4c23-9b66-20666ae7e933\" xlink:actuate=\"onRequest\" xlink:href=\"psysml:ad948c0a-adc5-4c23-9b66-20666ae7e933\" xlink:show=\"new\" xlink:title=\"psysml:ad948c0a-adc5-4c23-9b66-20666ae7e933\" xlink:type=\"simple\"><rect fill=\"#FFFFFF\" height=\"45.9375\" id=\"E7\" rx=\"10\" ry=\"10\" style=\"stroke: #383838; stroke-width: 1.5;\" width=\"71\" x=\"292.5\" y=\"173\"/><text fill=\"#000000\" font-family=\"sans-serif\" font-size=\"12\" font-style=\"italic\" lengthAdjust=\"spacingAndGlyphs\" textLength=\"69\" x=\"293.5\" y=\"189.1387\">«attribute»</text><text fill=\"#000000\" font-family=\"sans-serif\" font-size=\"12\" lengthAdjust=\"spacingAndGlyphs\" textLength=\"6\" x=\"325\" y=\"203.1074\">y</text><line style=\"stroke: #383838; stroke-width: 1.5;\" x1=\"293.5\" x2=\"362.5\" y1=\"210.9375\" y2=\"210.9375\"/></a><!--MD5=[b9389687b975829384b498ac4b7476b2]\n",
       "class E8--><a href=\"psysml:4e191771-f0c3-4f18-930e-d8147bece3b0\" target=\"_top\" title=\"psysml:4e191771-f0c3-4f18-930e-d8147bece3b0\" xlink:actuate=\"onRequest\" xlink:href=\"psysml:4e191771-f0c3-4f18-930e-d8147bece3b0\" xlink:show=\"new\" xlink:title=\"psysml:4e191771-f0c3-4f18-930e-d8147bece3b0\" xlink:type=\"simple\"><rect fill=\"#FFFFFF\" height=\"45.9375\" id=\"E8\" rx=\"10\" ry=\"10\" style=\"stroke: #383838; stroke-width: 1.5;\" width=\"71\" x=\"88\" y=\"206\"/><text fill=\"#000000\" font-family=\"sans-serif\" font-size=\"12\" font-style=\"italic\" lengthAdjust=\"spacingAndGlyphs\" textLength=\"69\" x=\"89\" y=\"222.1387\">«attribute»</text><text fill=\"#000000\" font-family=\"sans-serif\" font-size=\"12\" lengthAdjust=\"spacingAndGlyphs\" textLength=\"5\" x=\"121\" y=\"236.1074\">z</text><line style=\"stroke: #383838; stroke-width: 1.5;\" x1=\"89\" x2=\"158\" y1=\"243.9375\" y2=\"243.9375\"/></a><a href=\"psysml:5348c3d7-5f8d-4656-8805-8961159c09b6\" target=\"_top\" title=\"psysml:5348c3d7-5f8d-4656-8805-8961159c09b6\" xlink:actuate=\"onRequest\" xlink:href=\"psysml:5348c3d7-5f8d-4656-8805-8961159c09b6\" xlink:show=\"new\" xlink:title=\"psysml:5348c3d7-5f8d-4656-8805-8961159c09b6\" xlink:type=\"simple\"><polygon fill=\"#FFFFFF\" points=\"56,84.5,177,84.5,184,106.7969,191,106.7969,191,137.0938,56,137.0938,56,84.5\" style=\"stroke: #000000; stroke-width: 1.5;\"/><line style=\"stroke: #000000; stroke-width: 1.5;\" x1=\"56\" x2=\"184\" y1=\"106.7969\" y2=\"106.7969\"/><text fill=\"#000000\" font-family=\"sans-serif\" font-size=\"14\" font-weight=\"bold\" lengthAdjust=\"spacingAndGlyphs\" textLength=\"115\" x=\"60\" y=\"99.4951\">Application Layer</text></a><a href=\"psysml:e92bea40-a3a7-48d4-b6b8-5548cc937669\" target=\"_top\" title=\"psysml:e92bea40-a3a7-48d4-b6b8-5548cc937669\" xlink:actuate=\"onRequest\" xlink:href=\"psysml:e92bea40-a3a7-48d4-b6b8-5548cc937669\" xlink:show=\"new\" xlink:title=\"psysml:e92bea40-a3a7-48d4-b6b8-5548cc937669\" xlink:type=\"simple\"><polygon fill=\"#FFFFFF\" points=\"273,84.5,369,84.5,376,106.7969,383,106.7969,383,137.0938,273,137.0938,273,84.5\" style=\"stroke: #000000; stroke-width: 1.5;\"/><line style=\"stroke: #000000; stroke-width: 1.5;\" x1=\"273\" x2=\"376\" y1=\"106.7969\" y2=\"106.7969\"/><text fill=\"#000000\" font-family=\"sans-serif\" font-size=\"14\" font-weight=\"bold\" lengthAdjust=\"spacingAndGlyphs\" textLength=\"90\" x=\"277\" y=\"99.4951\">Service Layer</text></a><a href=\"psysml:9210d902-7ba4-4a43-8b80-75376691e6d0\" target=\"_top\" title=\"psysml:9210d902-7ba4-4a43-8b80-75376691e6d0\" xlink:actuate=\"onRequest\" xlink:href=\"psysml:9210d902-7ba4-4a43-8b80-75376691e6d0\" xlink:show=\"new\" xlink:title=\"psysml:9210d902-7ba4-4a43-8b80-75376691e6d0\" xlink:type=\"simple\"><polygon fill=\"#FFFFFF\" points=\"465,84.5,543,84.5,550,106.7969,557,106.7969,557,137.0938,465,137.0938,465,84.5\" style=\"stroke: #000000; stroke-width: 1.5;\"/><line style=\"stroke: #000000; stroke-width: 1.5;\" x1=\"465\" x2=\"550\" y1=\"106.7969\" y2=\"106.7969\"/><text fill=\"#000000\" font-family=\"sans-serif\" font-size=\"14\" font-weight=\"bold\" lengthAdjust=\"spacingAndGlyphs\" textLength=\"72\" x=\"469\" y=\"99.4951\">Data Layer</text></a><!--MD5=[af87c684e3b0d8be13c1a698a818ef1e]\n",
       "link E3 to E4--><a href=\"psysml:43ea743a-a860-452f-b433-717c56c39b79\" target=\"_top\" title=\"psysml:43ea743a-a860-452f-b433-717c56c39b79\" xlink:actuate=\"onRequest\" xlink:href=\"psysml:43ea743a-a860-452f-b433-717c56c39b79\" xlink:show=\"new\" xlink:title=\"psysml:43ea743a-a860-452f-b433-717c56c39b79\" xlink:type=\"simple\"><path d=\"M191.09,111 C214.8,111 241.41,111 264.75,111 \" fill=\"none\" id=\"E3-&gt;E4\" style=\"stroke: #383838; stroke-width: 1.0; stroke-dasharray: 7.0,7.0;\"/><polygon fill=\"#383838\" points=\"272.86,111,264.86,108,264.86,114,272.86,111\" style=\"stroke: #383838; stroke-width: 1.0;\"/><text fill=\"#000000\" font-family=\"sans-serif\" font-size=\"13\" lengthAdjust=\"spacingAndGlyphs\" textLength=\"64\" x=\"200\" y=\"107.0669\">«depend»</text></a><!--MD5=[1b7591eae5389033d8d09a9d6721a717]\n",
       "link E4 to E5--><a href=\"psysml:2fd6f227-cfe3-4fe1-af5d-016c5bccfb5b\" target=\"_top\" title=\"psysml:2fd6f227-cfe3-4fe1-af5d-016c5bccfb5b\" xlink:actuate=\"onRequest\" xlink:href=\"psysml:2fd6f227-cfe3-4fe1-af5d-016c5bccfb5b\" xlink:show=\"new\" xlink:title=\"psysml:2fd6f227-cfe3-4fe1-af5d-016c5bccfb5b\" xlink:type=\"simple\"><path d=\"M383.31,111 C406.59,111 433.71,111 456.86,111 \" fill=\"none\" id=\"E4-&gt;E5\" style=\"stroke: #383838; stroke-width: 1.0; stroke-dasharray: 7.0,7.0;\"/><polygon fill=\"#383838\" points=\"464.88,111,456.88,108,456.88,114,464.88,111\" style=\"stroke: #383838; stroke-width: 1.0;\"/><text fill=\"#000000\" font-family=\"sans-serif\" font-size=\"13\" lengthAdjust=\"spacingAndGlyphs\" textLength=\"64\" x=\"392\" y=\"107.0669\">«depend»</text></a><!--MD5=[c5e8897d989ce984f93528998a7150fe]\n",
       "link E8 to E6--><a href=\"psysml:209e6958-61b2-4a39-8cf0-69b60dbfdefc\" target=\"_top\" title=\"psysml:209e6958-61b2-4a39-8cf0-69b60dbfdefc\" xlink:actuate=\"onRequest\" xlink:href=\"psysml:209e6958-61b2-4a39-8cf0-69b60dbfdefc\" xlink:show=\"new\" xlink:title=\"psysml:209e6958-61b2-4a39-8cf0-69b60dbfdefc\" xlink:type=\"simple\"><path d=\"M159.31,237.25 C193.9,245.45 247.01,258.04 284.16,266.85 \" fill=\"none\" id=\"E8-&gt;E6\" style=\"stroke: #383838; stroke-width: 1.0; stroke-dasharray: 7.0,7.0;\"/><polygon fill=\"#383838\" points=\"292.31,268.78,285.2244,264.0057,283.8322,269.8419,292.31,268.78\" style=\"stroke: #383838; stroke-width: 1.0;\"/><text fill=\"#000000\" font-family=\"sans-serif\" font-size=\"13\" lengthAdjust=\"spacingAndGlyphs\" textLength=\"64\" x=\"200\" y=\"244.0669\">«depend»</text></a><!--MD5=[bfa3c8b0d15052fdf50ae9310b491027]\n",
       "link E8 to E7--><a href=\"psysml:209e6958-61b2-4a39-8cf0-69b60dbfdefc\" target=\"_top\" title=\"psysml:209e6958-61b2-4a39-8cf0-69b60dbfdefc\" xlink:actuate=\"onRequest\" xlink:href=\"psysml:209e6958-61b2-4a39-8cf0-69b60dbfdefc\" xlink:show=\"new\" xlink:title=\"psysml:209e6958-61b2-4a39-8cf0-69b60dbfdefc\" xlink:type=\"simple\"><path d=\"M159.31,223.33 C193.9,217.69 247.01,209.04 284.16,202.98 \" fill=\"none\" id=\"E8-&gt;E7\" style=\"stroke: #383838; stroke-width: 1.0; stroke-dasharray: 7.0,7.0;\"/><polygon fill=\"#383838\" points=\"292.31,201.65,283.9315,199.9764,284.897,205.8983,292.31,201.65\" style=\"stroke: #383838; stroke-width: 1.0;\"/><text fill=\"#000000\" font-family=\"sans-serif\" font-size=\"13\" lengthAdjust=\"spacingAndGlyphs\" textLength=\"64\" x=\"200\" y=\"203.0669\">«depend»</text></a><!--MD5=[8b38972d619b6abd9adfeeb628f3969b]\n",
       "@startuml\r\n",
       "skinparam ranksep 10\r\n",
       "skinparam rectangle {\r\n",
       " backgroundColor<<block>> LightGreen\r\n",
       "}\r\n",
       "left to right direction\r\n",
       "skinparam monochrome true\r\n",
       "skinparam classbackgroundcolor white\r\n",
       "skinparam shadowing false\r\n",
       "skinparam wrapWidth 300\r\n",
       "hide circle\r\n",
       "\r\n",
       "package \"DependencyTest\" as E1  [[psysml:eac58141-1d30-4dd4-8de7-f3beae76540f ]]  {\r\n",
       "package \"System\" as E2  [[psysml:13805519-bfbc-4c0f-88c4-787529a25875 ]]  {\r\n",
       "package \"Application Layer\" as E3  [[psysml:5348c3d7-5f8d-4656-8805-8961159c09b6 ]]  {\r\n",
       "}\r\n",
       "package \"Service Layer\" as E4  [[psysml:e92bea40-a3a7-48d4-b6b8-5548cc937669 ]]  {\r\n",
       "}\r\n",
       "package \"Data Layer\" as E5  [[psysml:9210d902-7ba4-4a43-8b80-75376691e6d0 ]]  {\r\n",
       "}\r\n",
       "}\r\n",
       "comp usage \"x\" as E6  <<(T,blue) attribute>> [[psysml:d1a2f8b3-43fe-4bb6-bcd1-ae6c73505f04 ]] {\r\n",
       "}\r\n",
       "comp usage \"y\" as E7  <<(T,blue) attribute>> [[psysml:ad948c0a-adc5-4c23-9b66-20666ae7e933 ]] {\r\n",
       "}\r\n",
       "comp usage \"z\" as E8  <<(T,blue) attribute>> [[psysml:4e191771-f0c3-4f18-930e-d8147bece3b0 ]] {\r\n",
       "}\r\n",
       "}\r\n",
       "E3 ..>> E4 [[psysml:43ea743a-a860-452f-b433-717c56c39b79 ]] : <<depend>>\r\n",
       "E4 ..>> E5 [[psysml:2fd6f227-cfe3-4fe1-af5d-016c5bccfb5b ]] : <<depend>>\r\n",
       "E8 ..>> E6 [[psysml:209e6958-61b2-4a39-8cf0-69b60dbfdefc ]] : <<depend>>\r\n",
       "E8 ..>> E7 [[psysml:209e6958-61b2-4a39-8cf0-69b60dbfdefc ]] : <<depend>>\r\n",
       "@enduml\r\n",
       "\n",
       "PlantUML version 1.2020.13(Sat Jun 13 12:26:38 UTC 2020)\n",
       "(EPL source distribution)\n",
       "Java Runtime: OpenJDK Runtime Environment\n",
       "JVM: OpenJDK 64-Bit Server VM\n",
       "Default Encoding: UTF-8\n",
       "Language: en\n",
       "Country: null\n",
       "--></g></svg>"
      ]
     },
     "execution_count": 19,
     "metadata": {},
     "output_type": "execute_result"
    }
   ],
   "source": [
    "%viz --style=\"LR\" --view=\"Interconnection\" \"DependencyTest\""
   ]
  },
  {
   "cell_type": "code",
   "execution_count": 20,
   "id": "fb5fcb26",
   "metadata": {
    "execution": {
     "iopub.execute_input": "2021-10-25T08:20:45.148800Z",
     "iopub.status.busy": "2021-10-25T08:20:45.148344Z",
     "iopub.status.idle": "2021-10-25T08:20:45.154798Z",
     "shell.execute_reply": "2021-10-25T08:20:45.154409Z"
    }
   },
   "outputs": [
    {
     "data": {
      "image/svg+xml": [
       "<?xml version=\"1.0\" encoding=\"UTF-8\" standalone=\"no\"?><svg xmlns=\"http://www.w3.org/2000/svg\" xmlns:xlink=\"http://www.w3.org/1999/xlink\" contentScriptType=\"application/ecmascript\" contentStyleType=\"text/css\" height=\"12px\" preserveAspectRatio=\"none\" style=\"width:12px;height:12px;\" version=\"1.1\" viewBox=\"0 0 12 12\" width=\"12px\" zoomAndPan=\"magnify\"><defs/><g><!--MD5=[7aeb398939421629f6affaa4a1a7b125]\n",
       "@startuml\r\n",
       "skinparam ranksep 8\r\n",
       "left to right direction\r\n",
       "skinparam monochrome true\r\n",
       "skinparam classbackgroundcolor white\r\n",
       "skinparam shadowing false\r\n",
       "skinparam wrapWidth 300\r\n",
       "hide circle\r\n",
       "\r\n",
       "@enduml\r\n",
       "\n",
       "PlantUML version 1.2020.13(Sat Jun 13 12:26:38 UTC 2020)\n",
       "(EPL source distribution)\n",
       "Java Runtime: OpenJDK Runtime Environment\n",
       "JVM: OpenJDK 64-Bit Server VM\n",
       "Default Encoding: UTF-8\n",
       "Language: en\n",
       "Country: null\n",
       "--></g></svg>"
      ]
     },
     "execution_count": 20,
     "metadata": {},
     "output_type": "execute_result"
    }
   ],
   "source": [
    "%viz --style=\"LR\" --view=\"Action\" \"DependencyTest\""
   ]
  },
  {
   "cell_type": "code",
   "execution_count": 21,
   "id": "82fd19be",
   "metadata": {
    "execution": {
     "iopub.execute_input": "2021-10-25T08:20:45.204040Z",
     "iopub.status.busy": "2021-10-25T08:20:45.203552Z",
     "iopub.status.idle": "2021-10-25T08:20:45.209704Z",
     "shell.execute_reply": "2021-10-25T08:20:45.210005Z"
    }
   },
   "outputs": [
    {
     "data": {
      "image/svg+xml": [
       "<?xml version=\"1.0\" encoding=\"UTF-8\" standalone=\"no\"?><svg xmlns=\"http://www.w3.org/2000/svg\" xmlns:xlink=\"http://www.w3.org/1999/xlink\" contentScriptType=\"application/ecmascript\" contentStyleType=\"text/css\" height=\"12px\" preserveAspectRatio=\"none\" style=\"width:12px;height:12px;\" version=\"1.1\" viewBox=\"0 0 12 12\" width=\"12px\" zoomAndPan=\"magnify\"><defs/><g><!--MD5=[238c11ea2002f03115ad6b49a457d50e]\n",
       "@startuml\r\n",
       "skinparam roundcorner 20\r\n",
       "skinparam BoxPadding 20\r\n",
       "skinparam SequenceBoxBackgroundColor #white\r\n",
       "skinparam style strictuml\r\n",
       "skinparam maxMessageSize 100\r\n",
       "left to right direction\r\n",
       "skinparam monochrome true\r\n",
       "skinparam classbackgroundcolor white\r\n",
       "skinparam shadowing false\r\n",
       "skinparam wrapWidth 300\r\n",
       "hide circle\r\n",
       "\r\n",
       "@enduml\r\n",
       "\n",
       "PlantUML version 1.2020.13(Sat Jun 13 12:26:38 UTC 2020)\n",
       "(EPL source distribution)\n",
       "Java Runtime: OpenJDK Runtime Environment\n",
       "JVM: OpenJDK 64-Bit Server VM\n",
       "Default Encoding: UTF-8\n",
       "Language: en\n",
       "Country: null\n",
       "--></g></svg>"
      ]
     },
     "execution_count": 21,
     "metadata": {},
     "output_type": "execute_result"
    }
   ],
   "source": [
    "%viz --style=\"LR\" --view=\"Sequence\" \"DependencyTest\""
   ]
  },
  {
   "cell_type": "code",
   "execution_count": 22,
   "id": "b6ca0c40",
   "metadata": {
    "execution": {
     "iopub.execute_input": "2021-10-25T08:20:45.259626Z",
     "iopub.status.busy": "2021-10-25T08:20:45.259195Z",
     "iopub.status.idle": "2021-10-25T08:20:45.299378Z",
     "shell.execute_reply": "2021-10-25T08:20:45.298938Z"
    }
   },
   "outputs": [
    {
     "data": {
      "image/svg+xml": [
       "<?xml version=\"1.0\" encoding=\"UTF-8\" standalone=\"no\"?><svg xmlns=\"http://www.w3.org/2000/svg\" xmlns:xlink=\"http://www.w3.org/1999/xlink\" contentScriptType=\"application/ecmascript\" contentStyleType=\"text/css\" height=\"328px\" preserveAspectRatio=\"none\" style=\"width:707px;height:328px;\" version=\"1.1\" viewBox=\"0 0 707 328\" width=\"707px\" zoomAndPan=\"magnify\"><defs/><g><!--MD5=[fbc87193dbaf4d95561dea2c320d4a47]\n",
       "cluster E1--><a href=\"psysml:eac58141-1d30-4dd4-8de7-f3beae76540f\" target=\"_top\" title=\"psysml:eac58141-1d30-4dd4-8de7-f3beae76540f\" xlink:actuate=\"onRequest\" xlink:href=\"psysml:eac58141-1d30-4dd4-8de7-f3beae76540f\" xlink:show=\"new\" xlink:title=\"psysml:eac58141-1d30-4dd4-8de7-f3beae76540f\" xlink:type=\"simple\"><polygon fill=\"#FFFFFF\" points=\"16,6,142,6,149,28.2969,685,28.2969,685,316,16,316,16,6\" style=\"stroke: #000000; stroke-width: 1.5;\"/><line style=\"stroke: #000000; stroke-width: 1.5;\" x1=\"16\" x2=\"149\" y1=\"28.2969\" y2=\"28.2969\"/><text fill=\"#000000\" font-family=\"sans-serif\" font-size=\"14\" font-weight=\"bold\" lengthAdjust=\"spacingAndGlyphs\" textLength=\"120\" x=\"20\" y=\"20.9951\">DependencyTest</text></a><!--MD5=[e4f7fae6ed58524ba242bb0b0d3be6b7]\n",
       "cluster E2--><a href=\"psysml:13805519-bfbc-4c0f-88c4-787529a25875\" target=\"_top\" title=\"psysml:13805519-bfbc-4c0f-88c4-787529a25875\" xlink:actuate=\"onRequest\" xlink:href=\"psysml:13805519-bfbc-4c0f-88c4-787529a25875\" xlink:show=\"new\" xlink:title=\"psysml:13805519-bfbc-4c0f-88c4-787529a25875\" xlink:type=\"simple\"><polygon fill=\"#FFFFFF\" points=\"40,49,97,49,104,71.2969,661,71.2969,661,154,40,154,40,49\" style=\"stroke: #000000; stroke-width: 1.5;\"/><line style=\"stroke: #000000; stroke-width: 1.5;\" x1=\"40\" x2=\"104\" y1=\"71.2969\" y2=\"71.2969\"/><text fill=\"#000000\" font-family=\"sans-serif\" font-size=\"14\" font-weight=\"bold\" lengthAdjust=\"spacingAndGlyphs\" textLength=\"51\" x=\"44\" y=\"63.9951\">System</text></a><!--MD5=[60a26617385b1d2d0262a64233df1f8d]\n",
       "class E6--><a href=\"psysml:d1a2f8b3-43fe-4bb6-bcd1-ae6c73505f04\" target=\"_top\" title=\"psysml:d1a2f8b3-43fe-4bb6-bcd1-ae6c73505f04\" xlink:actuate=\"onRequest\" xlink:href=\"psysml:d1a2f8b3-43fe-4bb6-bcd1-ae6c73505f04\" xlink:show=\"new\" xlink:title=\"psysml:d1a2f8b3-43fe-4bb6-bcd1-ae6c73505f04\" xlink:type=\"simple\"><rect fill=\"#FFFFFF\" height=\"45.9375\" id=\"E6\" rx=\"10\" ry=\"10\" style=\"stroke: #383838; stroke-width: 1.5;\" width=\"71\" x=\"336.5\" y=\"254\"/><text fill=\"#000000\" font-family=\"sans-serif\" font-size=\"12\" font-style=\"italic\" lengthAdjust=\"spacingAndGlyphs\" textLength=\"69\" x=\"337.5\" y=\"270.1387\">«attribute»</text><text fill=\"#000000\" font-family=\"sans-serif\" font-size=\"12\" lengthAdjust=\"spacingAndGlyphs\" textLength=\"6\" x=\"369\" y=\"284.1074\">x</text><line style=\"stroke: #383838; stroke-width: 1.5;\" x1=\"337.5\" x2=\"406.5\" y1=\"291.9375\" y2=\"291.9375\"/></a><!--MD5=[2156ba9850f5573cc1fc38a6a4b2f02b]\n",
       "class E7--><a href=\"psysml:ad948c0a-adc5-4c23-9b66-20666ae7e933\" target=\"_top\" title=\"psysml:ad948c0a-adc5-4c23-9b66-20666ae7e933\" xlink:actuate=\"onRequest\" xlink:href=\"psysml:ad948c0a-adc5-4c23-9b66-20666ae7e933\" xlink:show=\"new\" xlink:title=\"psysml:ad948c0a-adc5-4c23-9b66-20666ae7e933\" xlink:type=\"simple\"><rect fill=\"#FFFFFF\" height=\"45.9375\" id=\"E7\" rx=\"10\" ry=\"10\" style=\"stroke: #383838; stroke-width: 1.5;\" width=\"71\" x=\"336.5\" y=\"173\"/><text fill=\"#000000\" font-family=\"sans-serif\" font-size=\"12\" font-style=\"italic\" lengthAdjust=\"spacingAndGlyphs\" textLength=\"69\" x=\"337.5\" y=\"189.1387\">«attribute»</text><text fill=\"#000000\" font-family=\"sans-serif\" font-size=\"12\" lengthAdjust=\"spacingAndGlyphs\" textLength=\"6\" x=\"369\" y=\"203.1074\">y</text><line style=\"stroke: #383838; stroke-width: 1.5;\" x1=\"337.5\" x2=\"406.5\" y1=\"210.9375\" y2=\"210.9375\"/></a><!--MD5=[b9389687b975829384b498ac4b7476b2]\n",
       "class E8--><a href=\"psysml:4e191771-f0c3-4f18-930e-d8147bece3b0\" target=\"_top\" title=\"psysml:4e191771-f0c3-4f18-930e-d8147bece3b0\" xlink:actuate=\"onRequest\" xlink:href=\"psysml:4e191771-f0c3-4f18-930e-d8147bece3b0\" xlink:show=\"new\" xlink:title=\"psysml:4e191771-f0c3-4f18-930e-d8147bece3b0\" xlink:type=\"simple\"><rect fill=\"#FFFFFF\" height=\"45.9375\" id=\"E8\" rx=\"10\" ry=\"10\" style=\"stroke: #383838; stroke-width: 1.5;\" width=\"71\" x=\"88\" y=\"206\"/><text fill=\"#000000\" font-family=\"sans-serif\" font-size=\"12\" font-style=\"italic\" lengthAdjust=\"spacingAndGlyphs\" textLength=\"69\" x=\"89\" y=\"222.1387\">«attribute»</text><text fill=\"#000000\" font-family=\"sans-serif\" font-size=\"12\" lengthAdjust=\"spacingAndGlyphs\" textLength=\"5\" x=\"121\" y=\"236.1074\">z</text><line style=\"stroke: #383838; stroke-width: 1.5;\" x1=\"89\" x2=\"158\" y1=\"243.9375\" y2=\"243.9375\"/></a><a href=\"psysml:5348c3d7-5f8d-4656-8805-8961159c09b6\" target=\"_top\" title=\"psysml:5348c3d7-5f8d-4656-8805-8961159c09b6\" xlink:actuate=\"onRequest\" xlink:href=\"psysml:5348c3d7-5f8d-4656-8805-8961159c09b6\" xlink:show=\"new\" xlink:title=\"psysml:5348c3d7-5f8d-4656-8805-8961159c09b6\" xlink:type=\"simple\"><polygon fill=\"#FFFFFF\" points=\"56,84.5,177,84.5,184,106.7969,191,106.7969,191,137.0938,56,137.0938,56,84.5\" style=\"stroke: #000000; stroke-width: 1.5;\"/><line style=\"stroke: #000000; stroke-width: 1.5;\" x1=\"56\" x2=\"184\" y1=\"106.7969\" y2=\"106.7969\"/><text fill=\"#000000\" font-family=\"sans-serif\" font-size=\"14\" font-weight=\"bold\" lengthAdjust=\"spacingAndGlyphs\" textLength=\"115\" x=\"60\" y=\"99.4951\">Application Layer</text></a><a href=\"psysml:e92bea40-a3a7-48d4-b6b8-5548cc937669\" target=\"_top\" title=\"psysml:e92bea40-a3a7-48d4-b6b8-5548cc937669\" xlink:actuate=\"onRequest\" xlink:href=\"psysml:e92bea40-a3a7-48d4-b6b8-5548cc937669\" xlink:show=\"new\" xlink:title=\"psysml:e92bea40-a3a7-48d4-b6b8-5548cc937669\" xlink:type=\"simple\"><polygon fill=\"#FFFFFF\" points=\"317,84.5,413,84.5,420,106.7969,427,106.7969,427,137.0938,317,137.0938,317,84.5\" style=\"stroke: #000000; stroke-width: 1.5;\"/><line style=\"stroke: #000000; stroke-width: 1.5;\" x1=\"317\" x2=\"420\" y1=\"106.7969\" y2=\"106.7969\"/><text fill=\"#000000\" font-family=\"sans-serif\" font-size=\"14\" font-weight=\"bold\" lengthAdjust=\"spacingAndGlyphs\" textLength=\"90\" x=\"321\" y=\"99.4951\">Service Layer</text></a><a href=\"psysml:9210d902-7ba4-4a43-8b80-75376691e6d0\" target=\"_top\" title=\"psysml:9210d902-7ba4-4a43-8b80-75376691e6d0\" xlink:actuate=\"onRequest\" xlink:href=\"psysml:9210d902-7ba4-4a43-8b80-75376691e6d0\" xlink:show=\"new\" xlink:title=\"psysml:9210d902-7ba4-4a43-8b80-75376691e6d0\" xlink:type=\"simple\"><polygon fill=\"#FFFFFF\" points=\"553,84.5,631,84.5,638,106.7969,645,106.7969,645,137.0938,553,137.0938,553,84.5\" style=\"stroke: #000000; stroke-width: 1.5;\"/><line style=\"stroke: #000000; stroke-width: 1.5;\" x1=\"553\" x2=\"638\" y1=\"106.7969\" y2=\"106.7969\"/><text fill=\"#000000\" font-family=\"sans-serif\" font-size=\"14\" font-weight=\"bold\" lengthAdjust=\"spacingAndGlyphs\" textLength=\"72\" x=\"557\" y=\"99.4951\">Data Layer</text></a><!--MD5=[af87c684e3b0d8be13c1a698a818ef1e]\n",
       "link E3 to E4--><a href=\"psysml:43ea743a-a860-452f-b433-717c56c39b79\" target=\"_top\" title=\"psysml:43ea743a-a860-452f-b433-717c56c39b79\" xlink:actuate=\"onRequest\" xlink:href=\"psysml:43ea743a-a860-452f-b433-717c56c39b79\" xlink:show=\"new\" xlink:title=\"psysml:43ea743a-a860-452f-b433-717c56c39b79\" xlink:type=\"simple\"><path d=\"M191.21,111 C227.64,111 272.49,111 308.28,111 \" fill=\"none\" id=\"E3-&gt;E4\" style=\"stroke: #383838; stroke-width: 1.0; stroke-dasharray: 7.0,7.0;\"/><polygon fill=\"#383838\" points=\"316.7,111,308.7,108,308.7,114,316.7,111\" style=\"stroke: #383838; stroke-width: 1.0;\"/><text fill=\"#000000\" font-family=\"sans-serif\" font-size=\"13\" lengthAdjust=\"spacingAndGlyphs\" textLength=\"64\" x=\"222\" y=\"107.0669\">«depend»</text></a><!--MD5=[1b7591eae5389033d8d09a9d6721a717]\n",
       "link E4 to E5--><a href=\"psysml:2fd6f227-cfe3-4fe1-af5d-016c5bccfb5b\" target=\"_top\" title=\"psysml:2fd6f227-cfe3-4fe1-af5d-016c5bccfb5b\" xlink:actuate=\"onRequest\" xlink:href=\"psysml:2fd6f227-cfe3-4fe1-af5d-016c5bccfb5b\" xlink:show=\"new\" xlink:title=\"psysml:2fd6f227-cfe3-4fe1-af5d-016c5bccfb5b\" xlink:type=\"simple\"><path d=\"M427.18,111 C462.81,111 509.24,111 544.69,111 \" fill=\"none\" id=\"E4-&gt;E5\" style=\"stroke: #383838; stroke-width: 1.0; stroke-dasharray: 7.0,7.0;\"/><polygon fill=\"#383838\" points=\"553,111,545,108,545,114,553,111\" style=\"stroke: #383838; stroke-width: 1.0;\"/><text fill=\"#000000\" font-family=\"sans-serif\" font-size=\"13\" lengthAdjust=\"spacingAndGlyphs\" textLength=\"64\" x=\"458\" y=\"107.0669\">«depend»</text></a><!--MD5=[c5e8897d989ce984f93528998a7150fe]\n",
       "link E8 to E6--><a href=\"psysml:209e6958-61b2-4a39-8cf0-69b60dbfdefc\" target=\"_top\" title=\"psysml:209e6958-61b2-4a39-8cf0-69b60dbfdefc\" xlink:actuate=\"onRequest\" xlink:href=\"psysml:209e6958-61b2-4a39-8cf0-69b60dbfdefc\" xlink:show=\"new\" xlink:title=\"psysml:209e6958-61b2-4a39-8cf0-69b60dbfdefc\" xlink:type=\"simple\"><path d=\"M159.03,235.72 C203.37,244.36 280.3,259.34 328.28,268.68 \" fill=\"none\" id=\"E8-&gt;E6\" style=\"stroke: #383838; stroke-width: 1.0; stroke-dasharray: 7.0,7.0;\"/><polygon fill=\"#383838\" points=\"336.3,270.24,329.0216,265.765,327.8738,271.6542,336.3,270.24\" style=\"stroke: #383838; stroke-width: 1.0;\"/><text fill=\"#000000\" font-family=\"sans-serif\" font-size=\"13\" lengthAdjust=\"spacingAndGlyphs\" textLength=\"64\" x=\"222\" y=\"245.0669\">«depend»</text></a><!--MD5=[bfa3c8b0d15052fdf50ae9310b491027]\n",
       "link E8 to E7--><a href=\"psysml:209e6958-61b2-4a39-8cf0-69b60dbfdefc\" target=\"_top\" title=\"psysml:209e6958-61b2-4a39-8cf0-69b60dbfdefc\" xlink:actuate=\"onRequest\" xlink:href=\"psysml:209e6958-61b2-4a39-8cf0-69b60dbfdefc\" xlink:show=\"new\" xlink:title=\"psysml:209e6958-61b2-4a39-8cf0-69b60dbfdefc\" xlink:type=\"simple\"><path d=\"M159.03,224.38 C203.37,218.44 280.3,208.14 328.28,201.72 \" fill=\"none\" id=\"E8-&gt;E7\" style=\"stroke: #383838; stroke-width: 1.0; stroke-dasharray: 7.0,7.0;\"/><polygon fill=\"#383838\" points=\"336.3,200.65,327.9737,198.7336,328.7667,204.681,336.3,200.65\" style=\"stroke: #383838; stroke-width: 1.0;\"/><text fill=\"#000000\" font-family=\"sans-serif\" font-size=\"13\" lengthAdjust=\"spacingAndGlyphs\" textLength=\"64\" x=\"222\" y=\"204.0669\">«depend»</text></a><!--MD5=[f9f67e2e21c60b5bd754216fcbde90f7]\n",
       "@startuml\r\n",
       "left to right direction\r\n",
       "skinparam monochrome true\r\n",
       "skinparam classbackgroundcolor white\r\n",
       "skinparam shadowing false\r\n",
       "skinparam wrapWidth 300\r\n",
       "hide circle\r\n",
       "\r\n",
       "package \"DependencyTest\" as E1  [[psysml:eac58141-1d30-4dd4-8de7-f3beae76540f ]]  {\r\n",
       "package \"System\" as E2  [[psysml:13805519-bfbc-4c0f-88c4-787529a25875 ]]  {\r\n",
       "package \"Application Layer\" as E3  [[psysml:5348c3d7-5f8d-4656-8805-8961159c09b6 ]]  {\r\n",
       "}\r\n",
       "package \"Service Layer\" as E4  [[psysml:e92bea40-a3a7-48d4-b6b8-5548cc937669 ]]  {\r\n",
       "}\r\n",
       "package \"Data Layer\" as E5  [[psysml:9210d902-7ba4-4a43-8b80-75376691e6d0 ]]  {\r\n",
       "}\r\n",
       "}\r\n",
       "comp usage \"x\" as E6  <<(T,blue) attribute>> [[psysml:d1a2f8b3-43fe-4bb6-bcd1-ae6c73505f04 ]] {\r\n",
       "}\r\n",
       "comp usage \"y\" as E7  <<(T,blue) attribute>> [[psysml:ad948c0a-adc5-4c23-9b66-20666ae7e933 ]] {\r\n",
       "}\r\n",
       "comp usage \"z\" as E8  <<(T,blue) attribute>> [[psysml:4e191771-f0c3-4f18-930e-d8147bece3b0 ]] {\r\n",
       "}\r\n",
       "}\r\n",
       "E3 ..>> E4 [[psysml:43ea743a-a860-452f-b433-717c56c39b79 ]] : <<depend>>\r\n",
       "E4 ..>> E5 [[psysml:2fd6f227-cfe3-4fe1-af5d-016c5bccfb5b ]] : <<depend>>\r\n",
       "E8 ..>> E6 [[psysml:209e6958-61b2-4a39-8cf0-69b60dbfdefc ]] : <<depend>>\r\n",
       "E8 ..>> E7 [[psysml:209e6958-61b2-4a39-8cf0-69b60dbfdefc ]] : <<depend>>\r\n",
       "@enduml\r\n",
       "\n",
       "PlantUML version 1.2020.13(Sat Jun 13 12:26:38 UTC 2020)\n",
       "(EPL source distribution)\n",
       "Java Runtime: OpenJDK Runtime Environment\n",
       "JVM: OpenJDK 64-Bit Server VM\n",
       "Default Encoding: UTF-8\n",
       "Language: en\n",
       "Country: null\n",
       "--></g></svg>"
      ]
     },
     "execution_count": 22,
     "metadata": {},
     "output_type": "execute_result"
    }
   ],
   "source": [
    "%viz --style=\"LR\" --view=\"MIXED\" \"DependencyTest\""
   ]
  },
  {
   "cell_type": "code",
   "execution_count": 23,
   "id": "07429510",
   "metadata": {
    "execution": {
     "iopub.execute_input": "2021-10-25T08:20:45.348117Z",
     "iopub.status.busy": "2021-10-25T08:20:45.347699Z",
     "iopub.status.idle": "2021-10-25T08:20:45.384863Z",
     "shell.execute_reply": "2021-10-25T08:20:45.384472Z"
    }
   },
   "outputs": [
    {
     "data": {
      "image/svg+xml": [
       "<?xml version=\"1.0\" encoding=\"UTF-8\" standalone=\"no\"?><svg xmlns=\"http://www.w3.org/2000/svg\" xmlns:xlink=\"http://www.w3.org/1999/xlink\" contentScriptType=\"application/ecmascript\" contentStyleType=\"text/css\" height=\"449px\" preserveAspectRatio=\"none\" style=\"width:469px;height:449px;\" version=\"1.1\" viewBox=\"0 0 469 449\" width=\"469px\" zoomAndPan=\"magnify\"><defs><filter height=\"300%\" id=\"f1e5w6khah0gsp\" width=\"300%\" x=\"-1\" y=\"-1\"><feGaussianBlur result=\"blurOut\" stdDeviation=\"2.0\"/><feColorMatrix in=\"blurOut\" result=\"blurOut2\" type=\"matrix\" values=\"0 0 0 0 0 0 0 0 0 0 0 0 0 0 0 0 0 0 .4 0\"/><feOffset dx=\"4.0\" dy=\"4.0\" in=\"blurOut2\" result=\"blurOut3\"/><feBlend in=\"SourceGraphic\" in2=\"blurOut3\" mode=\"normal\"/></filter></defs><g><!--MD5=[fbc87193dbaf4d95561dea2c320d4a47]\n",
       "cluster E1--><a href=\"psysml:eac58141-1d30-4dd4-8de7-f3beae76540f\" target=\"_top\" title=\"psysml:eac58141-1d30-4dd4-8de7-f3beae76540f\" xlink:actuate=\"onRequest\" xlink:href=\"psysml:eac58141-1d30-4dd4-8de7-f3beae76540f\" xlink:show=\"new\" xlink:title=\"psysml:eac58141-1d30-4dd4-8de7-f3beae76540f\" xlink:type=\"simple\"><polygon fill=\"#FFFFFF\" filter=\"url(#f1e5w6khah0gsp)\" points=\"16,6,142,6,149,28.2969,447,28.2969,447,437,16,437,16,6\" style=\"stroke: #000000; stroke-width: 1.5;\"/><line style=\"stroke: #000000; stroke-width: 1.5;\" x1=\"16\" x2=\"149\" y1=\"28.2969\" y2=\"28.2969\"/><text fill=\"#000000\" font-family=\"sans-serif\" font-size=\"14\" font-weight=\"bold\" lengthAdjust=\"spacingAndGlyphs\" textLength=\"120\" x=\"20\" y=\"20.9951\">DependencyTest</text></a><!--MD5=[e4f7fae6ed58524ba242bb0b0d3be6b7]\n",
       "cluster E2--><a href=\"psysml:13805519-bfbc-4c0f-88c4-787529a25875\" target=\"_top\" title=\"psysml:13805519-bfbc-4c0f-88c4-787529a25875\" xlink:actuate=\"onRequest\" xlink:href=\"psysml:13805519-bfbc-4c0f-88c4-787529a25875\" xlink:show=\"new\" xlink:title=\"psysml:13805519-bfbc-4c0f-88c4-787529a25875\" xlink:type=\"simple\"><polygon fill=\"#FFFFFF\" filter=\"url(#f1e5w6khah0gsp)\" points=\"255,49,312,49,319,71.2969,423,71.2969,423,413,255,413,255,49\" style=\"stroke: #000000; stroke-width: 1.5;\"/><line style=\"stroke: #000000; stroke-width: 1.5;\" x1=\"255\" x2=\"319\" y1=\"71.2969\" y2=\"71.2969\"/><text fill=\"#000000\" font-family=\"sans-serif\" font-size=\"14\" font-weight=\"bold\" lengthAdjust=\"spacingAndGlyphs\" textLength=\"51\" x=\"259\" y=\"63.9951\">System</text></a><!--MD5=[60a26617385b1d2d0262a64233df1f8d]\n",
       "class E6--><a href=\"psysml:d1a2f8b3-43fe-4bb6-bcd1-ae6c73505f04\" target=\"_top\" title=\"psysml:d1a2f8b3-43fe-4bb6-bcd1-ae6c73505f04\" xlink:actuate=\"onRequest\" xlink:href=\"psysml:d1a2f8b3-43fe-4bb6-bcd1-ae6c73505f04\" xlink:show=\"new\" xlink:title=\"psysml:d1a2f8b3-43fe-4bb6-bcd1-ae6c73505f04\" xlink:type=\"simple\"><rect fill=\"#FEFECE\" filter=\"url(#f1e5w6khah0gsp)\" height=\"45.9375\" id=\"E6\" rx=\"10\" ry=\"10\" style=\"stroke: #A80036; stroke-width: 1.5;\" width=\"71\" x=\"32.5\" y=\"217.5\"/><text fill=\"#000000\" font-family=\"sans-serif\" font-size=\"12\" font-style=\"italic\" lengthAdjust=\"spacingAndGlyphs\" textLength=\"69\" x=\"33.5\" y=\"233.6387\">«attribute»</text><text fill=\"#000000\" font-family=\"sans-serif\" font-size=\"12\" lengthAdjust=\"spacingAndGlyphs\" textLength=\"6\" x=\"65\" y=\"247.6074\">x</text><line style=\"stroke: #A80036; stroke-width: 1.5;\" x1=\"33.5\" x2=\"102.5\" y1=\"255.4375\" y2=\"255.4375\"/></a><!--MD5=[2156ba9850f5573cc1fc38a6a4b2f02b]\n",
       "class E7--><a href=\"psysml:ad948c0a-adc5-4c23-9b66-20666ae7e933\" target=\"_top\" title=\"psysml:ad948c0a-adc5-4c23-9b66-20666ae7e933\" xlink:actuate=\"onRequest\" xlink:href=\"psysml:ad948c0a-adc5-4c23-9b66-20666ae7e933\" xlink:show=\"new\" xlink:title=\"psysml:ad948c0a-adc5-4c23-9b66-20666ae7e933\" xlink:type=\"simple\"><rect fill=\"#FEFECE\" filter=\"url(#f1e5w6khah0gsp)\" height=\"45.9375\" id=\"E7\" rx=\"10\" ry=\"10\" style=\"stroke: #A80036; stroke-width: 1.5;\" width=\"71\" x=\"138.5\" y=\"217.5\"/><text fill=\"#000000\" font-family=\"sans-serif\" font-size=\"12\" font-style=\"italic\" lengthAdjust=\"spacingAndGlyphs\" textLength=\"69\" x=\"139.5\" y=\"233.6387\">«attribute»</text><text fill=\"#000000\" font-family=\"sans-serif\" font-size=\"12\" lengthAdjust=\"spacingAndGlyphs\" textLength=\"6\" x=\"171\" y=\"247.6074\">y</text><line style=\"stroke: #A80036; stroke-width: 1.5;\" x1=\"139.5\" x2=\"208.5\" y1=\"255.4375\" y2=\"255.4375\"/></a><!--MD5=[b9389687b975829384b498ac4b7476b2]\n",
       "class E8--><a href=\"psysml:4e191771-f0c3-4f18-930e-d8147bece3b0\" target=\"_top\" title=\"psysml:4e191771-f0c3-4f18-930e-d8147bece3b0\" xlink:actuate=\"onRequest\" xlink:href=\"psysml:4e191771-f0c3-4f18-930e-d8147bece3b0\" xlink:show=\"new\" xlink:title=\"psysml:4e191771-f0c3-4f18-930e-d8147bece3b0\" xlink:type=\"simple\"><rect fill=\"#FEFECE\" filter=\"url(#f1e5w6khah0gsp)\" height=\"45.9375\" id=\"E8\" rx=\"10\" ry=\"10\" style=\"stroke: #A80036; stroke-width: 1.5;\" width=\"71\" x=\"84.5\" y=\"87.5\"/><text fill=\"#000000\" font-family=\"sans-serif\" font-size=\"12\" font-style=\"italic\" lengthAdjust=\"spacingAndGlyphs\" textLength=\"69\" x=\"85.5\" y=\"103.6387\">«attribute»</text><text fill=\"#000000\" font-family=\"sans-serif\" font-size=\"12\" lengthAdjust=\"spacingAndGlyphs\" textLength=\"5\" x=\"117.5\" y=\"117.6074\">z</text><line style=\"stroke: #A80036; stroke-width: 1.5;\" x1=\"85.5\" x2=\"154.5\" y1=\"125.4375\" y2=\"125.4375\"/></a><a href=\"psysml:5348c3d7-5f8d-4656-8805-8961159c09b6\" target=\"_top\" title=\"psysml:5348c3d7-5f8d-4656-8805-8961159c09b6\" xlink:actuate=\"onRequest\" xlink:href=\"psysml:5348c3d7-5f8d-4656-8805-8961159c09b6\" xlink:show=\"new\" xlink:title=\"psysml:5348c3d7-5f8d-4656-8805-8961159c09b6\" xlink:type=\"simple\"><polygon fill=\"#FFFFFF\" filter=\"url(#f1e5w6khah0gsp)\" points=\"271.5,84,392.5,84,399.5,106.2969,406.5,106.2969,406.5,136.5938,271.5,136.5938,271.5,84\" style=\"stroke: #000000; stroke-width: 1.5;\"/><line style=\"stroke: #000000; stroke-width: 1.5;\" x1=\"271.5\" x2=\"399.5\" y1=\"106.2969\" y2=\"106.2969\"/><text fill=\"#000000\" font-family=\"sans-serif\" font-size=\"14\" font-weight=\"bold\" lengthAdjust=\"spacingAndGlyphs\" textLength=\"115\" x=\"275.5\" y=\"98.9951\">Application Layer</text></a><a href=\"psysml:e92bea40-a3a7-48d4-b6b8-5548cc937669\" target=\"_top\" title=\"psysml:e92bea40-a3a7-48d4-b6b8-5548cc937669\" xlink:actuate=\"onRequest\" xlink:href=\"psysml:e92bea40-a3a7-48d4-b6b8-5548cc937669\" xlink:show=\"new\" xlink:title=\"psysml:e92bea40-a3a7-48d4-b6b8-5548cc937669\" xlink:type=\"simple\"><polygon fill=\"#FFFFFF\" filter=\"url(#f1e5w6khah0gsp)\" points=\"284,214,380,214,387,236.2969,394,236.2969,394,266.5938,284,266.5938,284,214\" style=\"stroke: #000000; stroke-width: 1.5;\"/><line style=\"stroke: #000000; stroke-width: 1.5;\" x1=\"284\" x2=\"387\" y1=\"236.2969\" y2=\"236.2969\"/><text fill=\"#000000\" font-family=\"sans-serif\" font-size=\"14\" font-weight=\"bold\" lengthAdjust=\"spacingAndGlyphs\" textLength=\"90\" x=\"288\" y=\"228.9951\">Service Layer</text></a><a href=\"psysml:9210d902-7ba4-4a43-8b80-75376691e6d0\" target=\"_top\" title=\"psysml:9210d902-7ba4-4a43-8b80-75376691e6d0\" xlink:actuate=\"onRequest\" xlink:href=\"psysml:9210d902-7ba4-4a43-8b80-75376691e6d0\" xlink:show=\"new\" xlink:title=\"psysml:9210d902-7ba4-4a43-8b80-75376691e6d0\" xlink:type=\"simple\"><polygon fill=\"#FFFFFF\" filter=\"url(#f1e5w6khah0gsp)\" points=\"293,344,371,344,378,366.2969,385,366.2969,385,396.5938,293,396.5938,293,344\" style=\"stroke: #000000; stroke-width: 1.5;\"/><line style=\"stroke: #000000; stroke-width: 1.5;\" x1=\"293\" x2=\"378\" y1=\"366.2969\" y2=\"366.2969\"/><text fill=\"#000000\" font-family=\"sans-serif\" font-size=\"14\" font-weight=\"bold\" lengthAdjust=\"spacingAndGlyphs\" textLength=\"72\" x=\"297\" y=\"358.9951\">Data Layer</text></a><!--MD5=[af87c684e3b0d8be13c1a698a818ef1e]\n",
       "link E3 to E4--><a href=\"psysml:43ea743a-a860-452f-b433-717c56c39b79\" target=\"_top\" title=\"psysml:43ea743a-a860-452f-b433-717c56c39b79\" xlink:actuate=\"onRequest\" xlink:href=\"psysml:43ea743a-a860-452f-b433-717c56c39b79\" xlink:show=\"new\" xlink:title=\"psysml:43ea743a-a860-452f-b433-717c56c39b79\" xlink:type=\"simple\"><path d=\"M339,137.1 C339,156.8 339,184.22 339,205.73 \" fill=\"none\" id=\"E3-&gt;E4\" style=\"stroke: #A80036; stroke-width: 1.0; stroke-dasharray: 7.0,7.0;\"/><polygon fill=\"#A80036\" points=\"339,213.95,342,205.95,336,205.95,339,213.95\" style=\"stroke: #A80036; stroke-width: 1.0;\"/><text fill=\"#000000\" font-family=\"sans-serif\" font-size=\"13\" lengthAdjust=\"spacingAndGlyphs\" textLength=\"64\" x=\"340\" y=\"180.0669\">«depend»</text></a><!--MD5=[1b7591eae5389033d8d09a9d6721a717]\n",
       "link E4 to E5--><a href=\"psysml:2fd6f227-cfe3-4fe1-af5d-016c5bccfb5b\" target=\"_top\" title=\"psysml:2fd6f227-cfe3-4fe1-af5d-016c5bccfb5b\" xlink:actuate=\"onRequest\" xlink:href=\"psysml:2fd6f227-cfe3-4fe1-af5d-016c5bccfb5b\" xlink:show=\"new\" xlink:title=\"psysml:2fd6f227-cfe3-4fe1-af5d-016c5bccfb5b\" xlink:type=\"simple\"><path d=\"M339,267.1 C339,286.8 339,314.22 339,335.73 \" fill=\"none\" id=\"E4-&gt;E5\" style=\"stroke: #A80036; stroke-width: 1.0; stroke-dasharray: 7.0,7.0;\"/><polygon fill=\"#A80036\" points=\"339,343.95,342,335.95,336,335.95,339,343.95\" style=\"stroke: #A80036; stroke-width: 1.0;\"/><text fill=\"#000000\" font-family=\"sans-serif\" font-size=\"13\" lengthAdjust=\"spacingAndGlyphs\" textLength=\"64\" x=\"340\" y=\"310.0669\">«depend»</text></a><!--MD5=[c5e8897d989ce984f93528998a7150fe]\n",
       "link E8 to E6--><a href=\"psysml:209e6958-61b2-4a39-8cf0-69b60dbfdefc\" target=\"_top\" title=\"psysml:209e6958-61b2-4a39-8cf0-69b60dbfdefc\" xlink:actuate=\"onRequest\" xlink:href=\"psysml:209e6958-61b2-4a39-8cf0-69b60dbfdefc\" xlink:show=\"new\" xlink:title=\"psysml:209e6958-61b2-4a39-8cf0-69b60dbfdefc\" xlink:type=\"simple\"><path d=\"M89.42,133.6 C79.35,142.68 69.37,154.11 64,167 C58.5,180.2 58.66,195.94 60.54,209.38 \" fill=\"none\" id=\"E8-&gt;E6\" style=\"stroke: #A80036; stroke-width: 1.0; stroke-dasharray: 7.0,7.0;\"/><polygon fill=\"#A80036\" points=\"61.9,217.4,63.517,209.0104,57.6018,210.0159,61.9,217.4\" style=\"stroke: #A80036; stroke-width: 1.0;\"/><text fill=\"#000000\" font-family=\"sans-serif\" font-size=\"13\" lengthAdjust=\"spacingAndGlyphs\" textLength=\"64\" x=\"65\" y=\"180.0669\">«depend»</text></a><!--MD5=[bfa3c8b0d15052fdf50ae9310b491027]\n",
       "link E8 to E7--><a href=\"psysml:209e6958-61b2-4a39-8cf0-69b60dbfdefc\" target=\"_top\" title=\"psysml:209e6958-61b2-4a39-8cf0-69b60dbfdefc\" xlink:actuate=\"onRequest\" xlink:href=\"psysml:209e6958-61b2-4a39-8cf0-69b60dbfdefc\" xlink:show=\"new\" xlink:title=\"psysml:209e6958-61b2-4a39-8cf0-69b60dbfdefc\" xlink:type=\"simple\"><path d=\"M129.28,133.5 C138.17,154.57 151.64,186.5 161.47,209.81 \" fill=\"none\" id=\"E8-&gt;E7\" style=\"stroke: #A80036; stroke-width: 1.0; stroke-dasharray: 7.0,7.0;\"/><polygon fill=\"#A80036\" points=\"164.66,217.35,164.3241,208.8126,158.7933,211.1385,164.66,217.35\" style=\"stroke: #A80036; stroke-width: 1.0;\"/><text fill=\"#000000\" font-family=\"sans-serif\" font-size=\"13\" lengthAdjust=\"spacingAndGlyphs\" textLength=\"64\" x=\"151\" y=\"180.0669\">«depend»</text></a><!--MD5=[b0674793f131670aaff01ede2575544b]\n",
       "@startuml\r\n",
       "skinparam wrapWidth 300\r\n",
       "hide circle\r\n",
       "\r\n",
       "package \"DependencyTest\" as E1  [[psysml:eac58141-1d30-4dd4-8de7-f3beae76540f ]]  {\r\n",
       "package \"System\" as E2  [[psysml:13805519-bfbc-4c0f-88c4-787529a25875 ]]  {\r\n",
       "package \"Application Layer\" as E3  [[psysml:5348c3d7-5f8d-4656-8805-8961159c09b6 ]]  {\r\n",
       "}\r\n",
       "package \"Service Layer\" as E4  [[psysml:e92bea40-a3a7-48d4-b6b8-5548cc937669 ]]  {\r\n",
       "}\r\n",
       "package \"Data Layer\" as E5  [[psysml:9210d902-7ba4-4a43-8b80-75376691e6d0 ]]  {\r\n",
       "}\r\n",
       "}\r\n",
       "comp usage \"x\" as E6  <<(T,blue) attribute>> [[psysml:d1a2f8b3-43fe-4bb6-bcd1-ae6c73505f04 ]] {\r\n",
       "}\r\n",
       "comp usage \"y\" as E7  <<(T,blue) attribute>> [[psysml:ad948c0a-adc5-4c23-9b66-20666ae7e933 ]] {\r\n",
       "}\r\n",
       "comp usage \"z\" as E8  <<(T,blue) attribute>> [[psysml:4e191771-f0c3-4f18-930e-d8147bece3b0 ]] {\r\n",
       "}\r\n",
       "}\r\n",
       "E3 ..>> E4 [[psysml:43ea743a-a860-452f-b433-717c56c39b79 ]] : <<depend>>\r\n",
       "E4 ..>> E5 [[psysml:2fd6f227-cfe3-4fe1-af5d-016c5bccfb5b ]] : <<depend>>\r\n",
       "E8 ..>> E6 [[psysml:209e6958-61b2-4a39-8cf0-69b60dbfdefc ]] : <<depend>>\r\n",
       "E8 ..>> E7 [[psysml:209e6958-61b2-4a39-8cf0-69b60dbfdefc ]] : <<depend>>\r\n",
       "@enduml\r\n",
       "\n",
       "PlantUML version 1.2020.13(Sat Jun 13 12:26:38 UTC 2020)\n",
       "(EPL source distribution)\n",
       "Java Runtime: OpenJDK Runtime Environment\n",
       "JVM: OpenJDK 64-Bit Server VM\n",
       "Default Encoding: UTF-8\n",
       "Language: en\n",
       "Country: null\n",
       "--></g></svg>"
      ]
     },
     "execution_count": 23,
     "metadata": {},
     "output_type": "execute_result"
    }
   ],
   "source": [
    "%viz --style=\"STDCOLOR\" --view=\"Default\" \"DependencyTest\""
   ]
  },
  {
   "cell_type": "code",
   "execution_count": 24,
   "id": "f1464196",
   "metadata": {
    "execution": {
     "iopub.execute_input": "2021-10-25T08:20:45.433851Z",
     "iopub.status.busy": "2021-10-25T08:20:45.433431Z",
     "iopub.status.idle": "2021-10-25T08:20:45.468588Z",
     "shell.execute_reply": "2021-10-25T08:20:45.468199Z"
    }
   },
   "outputs": [
    {
     "data": {
      "image/svg+xml": [
       "<?xml version=\"1.0\" encoding=\"UTF-8\" standalone=\"no\"?><svg xmlns=\"http://www.w3.org/2000/svg\" xmlns:xlink=\"http://www.w3.org/1999/xlink\" contentScriptType=\"application/ecmascript\" contentStyleType=\"text/css\" height=\"449px\" preserveAspectRatio=\"none\" style=\"width:469px;height:449px;\" version=\"1.1\" viewBox=\"0 0 469 449\" width=\"469px\" zoomAndPan=\"magnify\"><defs><filter height=\"300%\" id=\"f1e5w6khah0gsp\" width=\"300%\" x=\"-1\" y=\"-1\"><feGaussianBlur result=\"blurOut\" stdDeviation=\"2.0\"/><feColorMatrix in=\"blurOut\" result=\"blurOut2\" type=\"matrix\" values=\"0 0 0 0 0 0 0 0 0 0 0 0 0 0 0 0 0 0 .4 0\"/><feOffset dx=\"4.0\" dy=\"4.0\" in=\"blurOut2\" result=\"blurOut3\"/><feBlend in=\"SourceGraphic\" in2=\"blurOut3\" mode=\"normal\"/></filter></defs><g><!--MD5=[fbc87193dbaf4d95561dea2c320d4a47]\n",
       "cluster E1--><a href=\"psysml:eac58141-1d30-4dd4-8de7-f3beae76540f\" target=\"_top\" title=\"psysml:eac58141-1d30-4dd4-8de7-f3beae76540f\" xlink:actuate=\"onRequest\" xlink:href=\"psysml:eac58141-1d30-4dd4-8de7-f3beae76540f\" xlink:show=\"new\" xlink:title=\"psysml:eac58141-1d30-4dd4-8de7-f3beae76540f\" xlink:type=\"simple\"><polygon fill=\"#FFFFFF\" filter=\"url(#f1e5w6khah0gsp)\" points=\"16,6,142,6,149,28.2969,447,28.2969,447,437,16,437,16,6\" style=\"stroke: #000000; stroke-width: 1.5;\"/><line style=\"stroke: #000000; stroke-width: 1.5;\" x1=\"16\" x2=\"149\" y1=\"28.2969\" y2=\"28.2969\"/><text fill=\"#000000\" font-family=\"sans-serif\" font-size=\"14\" font-weight=\"bold\" lengthAdjust=\"spacingAndGlyphs\" textLength=\"120\" x=\"20\" y=\"20.9951\">DependencyTest</text></a><!--MD5=[e4f7fae6ed58524ba242bb0b0d3be6b7]\n",
       "cluster E2--><a href=\"psysml:13805519-bfbc-4c0f-88c4-787529a25875\" target=\"_top\" title=\"psysml:13805519-bfbc-4c0f-88c4-787529a25875\" xlink:actuate=\"onRequest\" xlink:href=\"psysml:13805519-bfbc-4c0f-88c4-787529a25875\" xlink:show=\"new\" xlink:title=\"psysml:13805519-bfbc-4c0f-88c4-787529a25875\" xlink:type=\"simple\"><polygon fill=\"#FFFFFF\" filter=\"url(#f1e5w6khah0gsp)\" points=\"255,49,312,49,319,71.2969,423,71.2969,423,413,255,413,255,49\" style=\"stroke: #000000; stroke-width: 1.5;\"/><line style=\"stroke: #000000; stroke-width: 1.5;\" x1=\"255\" x2=\"319\" y1=\"71.2969\" y2=\"71.2969\"/><text fill=\"#000000\" font-family=\"sans-serif\" font-size=\"14\" font-weight=\"bold\" lengthAdjust=\"spacingAndGlyphs\" textLength=\"51\" x=\"259\" y=\"63.9951\">System</text></a><!--MD5=[60a26617385b1d2d0262a64233df1f8d]\n",
       "class E6--><a href=\"psysml:d1a2f8b3-43fe-4bb6-bcd1-ae6c73505f04\" target=\"_top\" title=\"psysml:d1a2f8b3-43fe-4bb6-bcd1-ae6c73505f04\" xlink:actuate=\"onRequest\" xlink:href=\"psysml:d1a2f8b3-43fe-4bb6-bcd1-ae6c73505f04\" xlink:show=\"new\" xlink:title=\"psysml:d1a2f8b3-43fe-4bb6-bcd1-ae6c73505f04\" xlink:type=\"simple\"><rect fill=\"#FEFECE\" filter=\"url(#f1e5w6khah0gsp)\" height=\"45.9375\" id=\"E6\" rx=\"10\" ry=\"10\" style=\"stroke: #A80036; stroke-width: 1.5;\" width=\"71\" x=\"32.5\" y=\"217.5\"/><text fill=\"#000000\" font-family=\"sans-serif\" font-size=\"12\" font-style=\"italic\" lengthAdjust=\"spacingAndGlyphs\" textLength=\"69\" x=\"33.5\" y=\"233.6387\">«attribute»</text><text fill=\"#000000\" font-family=\"sans-serif\" font-size=\"12\" lengthAdjust=\"spacingAndGlyphs\" textLength=\"6\" x=\"65\" y=\"247.6074\">x</text><line style=\"stroke: #A80036; stroke-width: 1.5;\" x1=\"33.5\" x2=\"102.5\" y1=\"255.4375\" y2=\"255.4375\"/></a><!--MD5=[2156ba9850f5573cc1fc38a6a4b2f02b]\n",
       "class E7--><a href=\"psysml:ad948c0a-adc5-4c23-9b66-20666ae7e933\" target=\"_top\" title=\"psysml:ad948c0a-adc5-4c23-9b66-20666ae7e933\" xlink:actuate=\"onRequest\" xlink:href=\"psysml:ad948c0a-adc5-4c23-9b66-20666ae7e933\" xlink:show=\"new\" xlink:title=\"psysml:ad948c0a-adc5-4c23-9b66-20666ae7e933\" xlink:type=\"simple\"><rect fill=\"#FEFECE\" filter=\"url(#f1e5w6khah0gsp)\" height=\"45.9375\" id=\"E7\" rx=\"10\" ry=\"10\" style=\"stroke: #A80036; stroke-width: 1.5;\" width=\"71\" x=\"138.5\" y=\"217.5\"/><text fill=\"#000000\" font-family=\"sans-serif\" font-size=\"12\" font-style=\"italic\" lengthAdjust=\"spacingAndGlyphs\" textLength=\"69\" x=\"139.5\" y=\"233.6387\">«attribute»</text><text fill=\"#000000\" font-family=\"sans-serif\" font-size=\"12\" lengthAdjust=\"spacingAndGlyphs\" textLength=\"6\" x=\"171\" y=\"247.6074\">y</text><line style=\"stroke: #A80036; stroke-width: 1.5;\" x1=\"139.5\" x2=\"208.5\" y1=\"255.4375\" y2=\"255.4375\"/></a><!--MD5=[b9389687b975829384b498ac4b7476b2]\n",
       "class E8--><a href=\"psysml:4e191771-f0c3-4f18-930e-d8147bece3b0\" target=\"_top\" title=\"psysml:4e191771-f0c3-4f18-930e-d8147bece3b0\" xlink:actuate=\"onRequest\" xlink:href=\"psysml:4e191771-f0c3-4f18-930e-d8147bece3b0\" xlink:show=\"new\" xlink:title=\"psysml:4e191771-f0c3-4f18-930e-d8147bece3b0\" xlink:type=\"simple\"><rect fill=\"#FEFECE\" filter=\"url(#f1e5w6khah0gsp)\" height=\"45.9375\" id=\"E8\" rx=\"10\" ry=\"10\" style=\"stroke: #A80036; stroke-width: 1.5;\" width=\"71\" x=\"84.5\" y=\"87.5\"/><text fill=\"#000000\" font-family=\"sans-serif\" font-size=\"12\" font-style=\"italic\" lengthAdjust=\"spacingAndGlyphs\" textLength=\"69\" x=\"85.5\" y=\"103.6387\">«attribute»</text><text fill=\"#000000\" font-family=\"sans-serif\" font-size=\"12\" lengthAdjust=\"spacingAndGlyphs\" textLength=\"5\" x=\"117.5\" y=\"117.6074\">z</text><line style=\"stroke: #A80036; stroke-width: 1.5;\" x1=\"85.5\" x2=\"154.5\" y1=\"125.4375\" y2=\"125.4375\"/></a><a href=\"psysml:5348c3d7-5f8d-4656-8805-8961159c09b6\" target=\"_top\" title=\"psysml:5348c3d7-5f8d-4656-8805-8961159c09b6\" xlink:actuate=\"onRequest\" xlink:href=\"psysml:5348c3d7-5f8d-4656-8805-8961159c09b6\" xlink:show=\"new\" xlink:title=\"psysml:5348c3d7-5f8d-4656-8805-8961159c09b6\" xlink:type=\"simple\"><polygon fill=\"#FFFFFF\" filter=\"url(#f1e5w6khah0gsp)\" points=\"271.5,84,392.5,84,399.5,106.2969,406.5,106.2969,406.5,136.5938,271.5,136.5938,271.5,84\" style=\"stroke: #000000; stroke-width: 1.5;\"/><line style=\"stroke: #000000; stroke-width: 1.5;\" x1=\"271.5\" x2=\"399.5\" y1=\"106.2969\" y2=\"106.2969\"/><text fill=\"#000000\" font-family=\"sans-serif\" font-size=\"14\" font-weight=\"bold\" lengthAdjust=\"spacingAndGlyphs\" textLength=\"115\" x=\"275.5\" y=\"98.9951\">Application Layer</text></a><a href=\"psysml:e92bea40-a3a7-48d4-b6b8-5548cc937669\" target=\"_top\" title=\"psysml:e92bea40-a3a7-48d4-b6b8-5548cc937669\" xlink:actuate=\"onRequest\" xlink:href=\"psysml:e92bea40-a3a7-48d4-b6b8-5548cc937669\" xlink:show=\"new\" xlink:title=\"psysml:e92bea40-a3a7-48d4-b6b8-5548cc937669\" xlink:type=\"simple\"><polygon fill=\"#FFFFFF\" filter=\"url(#f1e5w6khah0gsp)\" points=\"284,214,380,214,387,236.2969,394,236.2969,394,266.5938,284,266.5938,284,214\" style=\"stroke: #000000; stroke-width: 1.5;\"/><line style=\"stroke: #000000; stroke-width: 1.5;\" x1=\"284\" x2=\"387\" y1=\"236.2969\" y2=\"236.2969\"/><text fill=\"#000000\" font-family=\"sans-serif\" font-size=\"14\" font-weight=\"bold\" lengthAdjust=\"spacingAndGlyphs\" textLength=\"90\" x=\"288\" y=\"228.9951\">Service Layer</text></a><a href=\"psysml:9210d902-7ba4-4a43-8b80-75376691e6d0\" target=\"_top\" title=\"psysml:9210d902-7ba4-4a43-8b80-75376691e6d0\" xlink:actuate=\"onRequest\" xlink:href=\"psysml:9210d902-7ba4-4a43-8b80-75376691e6d0\" xlink:show=\"new\" xlink:title=\"psysml:9210d902-7ba4-4a43-8b80-75376691e6d0\" xlink:type=\"simple\"><polygon fill=\"#FFFFFF\" filter=\"url(#f1e5w6khah0gsp)\" points=\"293,344,371,344,378,366.2969,385,366.2969,385,396.5938,293,396.5938,293,344\" style=\"stroke: #000000; stroke-width: 1.5;\"/><line style=\"stroke: #000000; stroke-width: 1.5;\" x1=\"293\" x2=\"378\" y1=\"366.2969\" y2=\"366.2969\"/><text fill=\"#000000\" font-family=\"sans-serif\" font-size=\"14\" font-weight=\"bold\" lengthAdjust=\"spacingAndGlyphs\" textLength=\"72\" x=\"297\" y=\"358.9951\">Data Layer</text></a><!--MD5=[af87c684e3b0d8be13c1a698a818ef1e]\n",
       "link E3 to E4--><a href=\"psysml:43ea743a-a860-452f-b433-717c56c39b79\" target=\"_top\" title=\"psysml:43ea743a-a860-452f-b433-717c56c39b79\" xlink:actuate=\"onRequest\" xlink:href=\"psysml:43ea743a-a860-452f-b433-717c56c39b79\" xlink:show=\"new\" xlink:title=\"psysml:43ea743a-a860-452f-b433-717c56c39b79\" xlink:type=\"simple\"><path d=\"M339,137.1 C339,156.8 339,184.22 339,205.73 \" fill=\"none\" id=\"E3-&gt;E4\" style=\"stroke: #A80036; stroke-width: 1.0; stroke-dasharray: 7.0,7.0;\"/><polygon fill=\"#A80036\" points=\"339,213.95,342,205.95,336,205.95,339,213.95\" style=\"stroke: #A80036; stroke-width: 1.0;\"/><text fill=\"#000000\" font-family=\"sans-serif\" font-size=\"13\" lengthAdjust=\"spacingAndGlyphs\" textLength=\"64\" x=\"340\" y=\"180.0669\">«depend»</text></a><!--MD5=[1b7591eae5389033d8d09a9d6721a717]\n",
       "link E4 to E5--><a href=\"psysml:2fd6f227-cfe3-4fe1-af5d-016c5bccfb5b\" target=\"_top\" title=\"psysml:2fd6f227-cfe3-4fe1-af5d-016c5bccfb5b\" xlink:actuate=\"onRequest\" xlink:href=\"psysml:2fd6f227-cfe3-4fe1-af5d-016c5bccfb5b\" xlink:show=\"new\" xlink:title=\"psysml:2fd6f227-cfe3-4fe1-af5d-016c5bccfb5b\" xlink:type=\"simple\"><path d=\"M339,267.1 C339,286.8 339,314.22 339,335.73 \" fill=\"none\" id=\"E4-&gt;E5\" style=\"stroke: #A80036; stroke-width: 1.0; stroke-dasharray: 7.0,7.0;\"/><polygon fill=\"#A80036\" points=\"339,343.95,342,335.95,336,335.95,339,343.95\" style=\"stroke: #A80036; stroke-width: 1.0;\"/><text fill=\"#000000\" font-family=\"sans-serif\" font-size=\"13\" lengthAdjust=\"spacingAndGlyphs\" textLength=\"64\" x=\"340\" y=\"310.0669\">«depend»</text></a><!--MD5=[c5e8897d989ce984f93528998a7150fe]\n",
       "link E8 to E6--><a href=\"psysml:209e6958-61b2-4a39-8cf0-69b60dbfdefc\" target=\"_top\" title=\"psysml:209e6958-61b2-4a39-8cf0-69b60dbfdefc\" xlink:actuate=\"onRequest\" xlink:href=\"psysml:209e6958-61b2-4a39-8cf0-69b60dbfdefc\" xlink:show=\"new\" xlink:title=\"psysml:209e6958-61b2-4a39-8cf0-69b60dbfdefc\" xlink:type=\"simple\"><path d=\"M89.42,133.6 C79.35,142.68 69.37,154.11 64,167 C58.5,180.2 58.66,195.94 60.54,209.38 \" fill=\"none\" id=\"E8-&gt;E6\" style=\"stroke: #A80036; stroke-width: 1.0; stroke-dasharray: 7.0,7.0;\"/><polygon fill=\"#A80036\" points=\"61.9,217.4,63.517,209.0104,57.6018,210.0159,61.9,217.4\" style=\"stroke: #A80036; stroke-width: 1.0;\"/><text fill=\"#000000\" font-family=\"sans-serif\" font-size=\"13\" lengthAdjust=\"spacingAndGlyphs\" textLength=\"64\" x=\"65\" y=\"180.0669\">«depend»</text></a><!--MD5=[bfa3c8b0d15052fdf50ae9310b491027]\n",
       "link E8 to E7--><a href=\"psysml:209e6958-61b2-4a39-8cf0-69b60dbfdefc\" target=\"_top\" title=\"psysml:209e6958-61b2-4a39-8cf0-69b60dbfdefc\" xlink:actuate=\"onRequest\" xlink:href=\"psysml:209e6958-61b2-4a39-8cf0-69b60dbfdefc\" xlink:show=\"new\" xlink:title=\"psysml:209e6958-61b2-4a39-8cf0-69b60dbfdefc\" xlink:type=\"simple\"><path d=\"M129.28,133.5 C138.17,154.57 151.64,186.5 161.47,209.81 \" fill=\"none\" id=\"E8-&gt;E7\" style=\"stroke: #A80036; stroke-width: 1.0; stroke-dasharray: 7.0,7.0;\"/><polygon fill=\"#A80036\" points=\"164.66,217.35,164.3241,208.8126,158.7933,211.1385,164.66,217.35\" style=\"stroke: #A80036; stroke-width: 1.0;\"/><text fill=\"#000000\" font-family=\"sans-serif\" font-size=\"13\" lengthAdjust=\"spacingAndGlyphs\" textLength=\"64\" x=\"151\" y=\"180.0669\">«depend»</text></a><!--MD5=[b0674793f131670aaff01ede2575544b]\n",
       "@startuml\r\n",
       "skinparam wrapWidth 300\r\n",
       "hide circle\r\n",
       "\r\n",
       "package \"DependencyTest\" as E1  [[psysml:eac58141-1d30-4dd4-8de7-f3beae76540f ]]  {\r\n",
       "package \"System\" as E2  [[psysml:13805519-bfbc-4c0f-88c4-787529a25875 ]]  {\r\n",
       "package \"Application Layer\" as E3  [[psysml:5348c3d7-5f8d-4656-8805-8961159c09b6 ]]  {\r\n",
       "}\r\n",
       "package \"Service Layer\" as E4  [[psysml:e92bea40-a3a7-48d4-b6b8-5548cc937669 ]]  {\r\n",
       "}\r\n",
       "package \"Data Layer\" as E5  [[psysml:9210d902-7ba4-4a43-8b80-75376691e6d0 ]]  {\r\n",
       "}\r\n",
       "}\r\n",
       "comp usage \"x\" as E6  <<(T,blue) attribute>> [[psysml:d1a2f8b3-43fe-4bb6-bcd1-ae6c73505f04 ]] {\r\n",
       "}\r\n",
       "comp usage \"y\" as E7  <<(T,blue) attribute>> [[psysml:ad948c0a-adc5-4c23-9b66-20666ae7e933 ]] {\r\n",
       "}\r\n",
       "comp usage \"z\" as E8  <<(T,blue) attribute>> [[psysml:4e191771-f0c3-4f18-930e-d8147bece3b0 ]] {\r\n",
       "}\r\n",
       "}\r\n",
       "E3 ..>> E4 [[psysml:43ea743a-a860-452f-b433-717c56c39b79 ]] : <<depend>>\r\n",
       "E4 ..>> E5 [[psysml:2fd6f227-cfe3-4fe1-af5d-016c5bccfb5b ]] : <<depend>>\r\n",
       "E8 ..>> E6 [[psysml:209e6958-61b2-4a39-8cf0-69b60dbfdefc ]] : <<depend>>\r\n",
       "E8 ..>> E7 [[psysml:209e6958-61b2-4a39-8cf0-69b60dbfdefc ]] : <<depend>>\r\n",
       "@enduml\r\n",
       "\n",
       "PlantUML version 1.2020.13(Sat Jun 13 12:26:38 UTC 2020)\n",
       "(EPL source distribution)\n",
       "Java Runtime: OpenJDK Runtime Environment\n",
       "JVM: OpenJDK 64-Bit Server VM\n",
       "Default Encoding: UTF-8\n",
       "Language: en\n",
       "Country: null\n",
       "--></g></svg>"
      ]
     },
     "execution_count": 24,
     "metadata": {},
     "output_type": "execute_result"
    }
   ],
   "source": [
    "%viz --style=\"STDCOLOR\" --view=\"Tree\" \"DependencyTest\""
   ]
  },
  {
   "cell_type": "code",
   "execution_count": 25,
   "id": "bbf36f88",
   "metadata": {
    "execution": {
     "iopub.execute_input": "2021-10-25T08:20:45.517839Z",
     "iopub.status.busy": "2021-10-25T08:20:45.517425Z",
     "iopub.status.idle": "2021-10-25T08:20:45.522988Z",
     "shell.execute_reply": "2021-10-25T08:20:45.522620Z"
    }
   },
   "outputs": [
    {
     "data": {
      "image/svg+xml": [
       "<?xml version=\"1.0\" encoding=\"UTF-8\" standalone=\"no\"?><svg xmlns=\"http://www.w3.org/2000/svg\" xmlns:xlink=\"http://www.w3.org/1999/xlink\" contentScriptType=\"application/ecmascript\" contentStyleType=\"text/css\" height=\"12px\" preserveAspectRatio=\"none\" style=\"width:12px;height:12px;\" version=\"1.1\" viewBox=\"0 0 12 12\" width=\"12px\" zoomAndPan=\"magnify\"><defs/><g><!--MD5=[aeeef50f102b80d730deb6443d14f702]\n",
       "@startuml\r\n",
       "skinparam wrapWidth 300\r\n",
       "hide circle\r\n",
       "\r\n",
       "@enduml\r\n",
       "\n",
       "PlantUML version 1.2020.13(Sat Jun 13 12:26:38 UTC 2020)\n",
       "(EPL source distribution)\n",
       "Java Runtime: OpenJDK Runtime Environment\n",
       "JVM: OpenJDK 64-Bit Server VM\n",
       "Default Encoding: UTF-8\n",
       "Language: en\n",
       "Country: null\n",
       "--></g></svg>"
      ]
     },
     "execution_count": 25,
     "metadata": {},
     "output_type": "execute_result"
    }
   ],
   "source": [
    "%viz --style=\"STDCOLOR\" --view=\"State\" \"DependencyTest\""
   ]
  },
  {
   "cell_type": "code",
   "execution_count": 26,
   "id": "e409f848",
   "metadata": {
    "execution": {
     "iopub.execute_input": "2021-10-25T08:20:45.572343Z",
     "iopub.status.busy": "2021-10-25T08:20:45.571935Z",
     "iopub.status.idle": "2021-10-25T08:20:45.608789Z",
     "shell.execute_reply": "2021-10-25T08:20:45.608492Z"
    }
   },
   "outputs": [
    {
     "data": {
      "image/svg+xml": [
       "<?xml version=\"1.0\" encoding=\"UTF-8\" standalone=\"no\"?><svg xmlns=\"http://www.w3.org/2000/svg\" xmlns:xlink=\"http://www.w3.org/1999/xlink\" contentScriptType=\"application/ecmascript\" contentStyleType=\"text/css\" height=\"361px\" preserveAspectRatio=\"none\" style=\"width:469px;height:361px;\" version=\"1.1\" viewBox=\"0 0 469 361\" width=\"469px\" zoomAndPan=\"magnify\"><defs><filter height=\"300%\" id=\"f1wdkbo6j5yphe\" width=\"300%\" x=\"-1\" y=\"-1\"><feGaussianBlur result=\"blurOut\" stdDeviation=\"2.0\"/><feColorMatrix in=\"blurOut\" result=\"blurOut2\" type=\"matrix\" values=\"0 0 0 0 0 0 0 0 0 0 0 0 0 0 0 0 0 0 .4 0\"/><feOffset dx=\"4.0\" dy=\"4.0\" in=\"blurOut2\" result=\"blurOut3\"/><feBlend in=\"SourceGraphic\" in2=\"blurOut3\" mode=\"normal\"/></filter></defs><g><!--MD5=[fbc87193dbaf4d95561dea2c320d4a47]\n",
       "cluster E1--><a href=\"psysml:eac58141-1d30-4dd4-8de7-f3beae76540f\" target=\"_top\" title=\"psysml:eac58141-1d30-4dd4-8de7-f3beae76540f\" xlink:actuate=\"onRequest\" xlink:href=\"psysml:eac58141-1d30-4dd4-8de7-f3beae76540f\" xlink:show=\"new\" xlink:title=\"psysml:eac58141-1d30-4dd4-8de7-f3beae76540f\" xlink:type=\"simple\"><polygon fill=\"#FFFFFF\" filter=\"url(#f1wdkbo6j5yphe)\" points=\"16,6,142,6,149,28.2969,447,28.2969,447,349,16,349,16,6\" style=\"stroke: #000000; stroke-width: 1.5;\"/><line style=\"stroke: #000000; stroke-width: 1.5;\" x1=\"16\" x2=\"149\" y1=\"28.2969\" y2=\"28.2969\"/><text fill=\"#000000\" font-family=\"sans-serif\" font-size=\"14\" font-weight=\"bold\" lengthAdjust=\"spacingAndGlyphs\" textLength=\"120\" x=\"20\" y=\"20.9951\">DependencyTest</text></a><!--MD5=[e4f7fae6ed58524ba242bb0b0d3be6b7]\n",
       "cluster E2--><a href=\"psysml:13805519-bfbc-4c0f-88c4-787529a25875\" target=\"_top\" title=\"psysml:13805519-bfbc-4c0f-88c4-787529a25875\" xlink:actuate=\"onRequest\" xlink:href=\"psysml:13805519-bfbc-4c0f-88c4-787529a25875\" xlink:show=\"new\" xlink:title=\"psysml:13805519-bfbc-4c0f-88c4-787529a25875\" xlink:type=\"simple\"><polygon fill=\"#FFFFFF\" filter=\"url(#f1wdkbo6j5yphe)\" points=\"255,49,312,49,319,71.2969,423,71.2969,423,325,255,325,255,49\" style=\"stroke: #000000; stroke-width: 1.5;\"/><line style=\"stroke: #000000; stroke-width: 1.5;\" x1=\"255\" x2=\"319\" y1=\"71.2969\" y2=\"71.2969\"/><text fill=\"#000000\" font-family=\"sans-serif\" font-size=\"14\" font-weight=\"bold\" lengthAdjust=\"spacingAndGlyphs\" textLength=\"51\" x=\"259\" y=\"63.9951\">System</text></a><!--MD5=[60a26617385b1d2d0262a64233df1f8d]\n",
       "class E6--><a href=\"psysml:d1a2f8b3-43fe-4bb6-bcd1-ae6c73505f04\" target=\"_top\" title=\"psysml:d1a2f8b3-43fe-4bb6-bcd1-ae6c73505f04\" xlink:actuate=\"onRequest\" xlink:href=\"psysml:d1a2f8b3-43fe-4bb6-bcd1-ae6c73505f04\" xlink:show=\"new\" xlink:title=\"psysml:d1a2f8b3-43fe-4bb6-bcd1-ae6c73505f04\" xlink:type=\"simple\"><rect fill=\"#FEFECE\" filter=\"url(#f1wdkbo6j5yphe)\" height=\"45.9375\" id=\"E6\" rx=\"10\" ry=\"10\" style=\"stroke: #A80036; stroke-width: 1.5;\" width=\"71\" x=\"32.5\" y=\"173.5\"/><text fill=\"#000000\" font-family=\"sans-serif\" font-size=\"12\" font-style=\"italic\" lengthAdjust=\"spacingAndGlyphs\" textLength=\"69\" x=\"33.5\" y=\"189.6387\">«attribute»</text><text fill=\"#000000\" font-family=\"sans-serif\" font-size=\"12\" lengthAdjust=\"spacingAndGlyphs\" textLength=\"6\" x=\"65\" y=\"203.6074\">x</text><line style=\"stroke: #A80036; stroke-width: 1.5;\" x1=\"33.5\" x2=\"102.5\" y1=\"211.4375\" y2=\"211.4375\"/></a><!--MD5=[2156ba9850f5573cc1fc38a6a4b2f02b]\n",
       "class E7--><a href=\"psysml:ad948c0a-adc5-4c23-9b66-20666ae7e933\" target=\"_top\" title=\"psysml:ad948c0a-adc5-4c23-9b66-20666ae7e933\" xlink:actuate=\"onRequest\" xlink:href=\"psysml:ad948c0a-adc5-4c23-9b66-20666ae7e933\" xlink:show=\"new\" xlink:title=\"psysml:ad948c0a-adc5-4c23-9b66-20666ae7e933\" xlink:type=\"simple\"><rect fill=\"#FEFECE\" filter=\"url(#f1wdkbo6j5yphe)\" height=\"45.9375\" id=\"E7\" rx=\"10\" ry=\"10\" style=\"stroke: #A80036; stroke-width: 1.5;\" width=\"71\" x=\"138.5\" y=\"173.5\"/><text fill=\"#000000\" font-family=\"sans-serif\" font-size=\"12\" font-style=\"italic\" lengthAdjust=\"spacingAndGlyphs\" textLength=\"69\" x=\"139.5\" y=\"189.6387\">«attribute»</text><text fill=\"#000000\" font-family=\"sans-serif\" font-size=\"12\" lengthAdjust=\"spacingAndGlyphs\" textLength=\"6\" x=\"171\" y=\"203.6074\">y</text><line style=\"stroke: #A80036; stroke-width: 1.5;\" x1=\"139.5\" x2=\"208.5\" y1=\"211.4375\" y2=\"211.4375\"/></a><!--MD5=[b9389687b975829384b498ac4b7476b2]\n",
       "class E8--><a href=\"psysml:4e191771-f0c3-4f18-930e-d8147bece3b0\" target=\"_top\" title=\"psysml:4e191771-f0c3-4f18-930e-d8147bece3b0\" xlink:actuate=\"onRequest\" xlink:href=\"psysml:4e191771-f0c3-4f18-930e-d8147bece3b0\" xlink:show=\"new\" xlink:title=\"psysml:4e191771-f0c3-4f18-930e-d8147bece3b0\" xlink:type=\"simple\"><rect fill=\"#FEFECE\" filter=\"url(#f1wdkbo6j5yphe)\" height=\"45.9375\" id=\"E8\" rx=\"10\" ry=\"10\" style=\"stroke: #A80036; stroke-width: 1.5;\" width=\"71\" x=\"84.5\" y=\"87.5\"/><text fill=\"#000000\" font-family=\"sans-serif\" font-size=\"12\" font-style=\"italic\" lengthAdjust=\"spacingAndGlyphs\" textLength=\"69\" x=\"85.5\" y=\"103.6387\">«attribute»</text><text fill=\"#000000\" font-family=\"sans-serif\" font-size=\"12\" lengthAdjust=\"spacingAndGlyphs\" textLength=\"5\" x=\"117.5\" y=\"117.6074\">z</text><line style=\"stroke: #A80036; stroke-width: 1.5;\" x1=\"85.5\" x2=\"154.5\" y1=\"125.4375\" y2=\"125.4375\"/></a><a href=\"psysml:5348c3d7-5f8d-4656-8805-8961159c09b6\" target=\"_top\" title=\"psysml:5348c3d7-5f8d-4656-8805-8961159c09b6\" xlink:actuate=\"onRequest\" xlink:href=\"psysml:5348c3d7-5f8d-4656-8805-8961159c09b6\" xlink:show=\"new\" xlink:title=\"psysml:5348c3d7-5f8d-4656-8805-8961159c09b6\" xlink:type=\"simple\"><polygon fill=\"#FFFFFF\" filter=\"url(#f1wdkbo6j5yphe)\" points=\"271.5,84,392.5,84,399.5,106.2969,406.5,106.2969,406.5,136.5938,271.5,136.5938,271.5,84\" style=\"stroke: #000000; stroke-width: 1.5;\"/><line style=\"stroke: #000000; stroke-width: 1.5;\" x1=\"271.5\" x2=\"399.5\" y1=\"106.2969\" y2=\"106.2969\"/><text fill=\"#000000\" font-family=\"sans-serif\" font-size=\"14\" font-weight=\"bold\" lengthAdjust=\"spacingAndGlyphs\" textLength=\"115\" x=\"275.5\" y=\"98.9951\">Application Layer</text></a><a href=\"psysml:e92bea40-a3a7-48d4-b6b8-5548cc937669\" target=\"_top\" title=\"psysml:e92bea40-a3a7-48d4-b6b8-5548cc937669\" xlink:actuate=\"onRequest\" xlink:href=\"psysml:e92bea40-a3a7-48d4-b6b8-5548cc937669\" xlink:show=\"new\" xlink:title=\"psysml:e92bea40-a3a7-48d4-b6b8-5548cc937669\" xlink:type=\"simple\"><polygon fill=\"#FFFFFF\" filter=\"url(#f1wdkbo6j5yphe)\" points=\"284,170,380,170,387,192.2969,394,192.2969,394,222.5938,284,222.5938,284,170\" style=\"stroke: #000000; stroke-width: 1.5;\"/><line style=\"stroke: #000000; stroke-width: 1.5;\" x1=\"284\" x2=\"387\" y1=\"192.2969\" y2=\"192.2969\"/><text fill=\"#000000\" font-family=\"sans-serif\" font-size=\"14\" font-weight=\"bold\" lengthAdjust=\"spacingAndGlyphs\" textLength=\"90\" x=\"288\" y=\"184.9951\">Service Layer</text></a><a href=\"psysml:9210d902-7ba4-4a43-8b80-75376691e6d0\" target=\"_top\" title=\"psysml:9210d902-7ba4-4a43-8b80-75376691e6d0\" xlink:actuate=\"onRequest\" xlink:href=\"psysml:9210d902-7ba4-4a43-8b80-75376691e6d0\" xlink:show=\"new\" xlink:title=\"psysml:9210d902-7ba4-4a43-8b80-75376691e6d0\" xlink:type=\"simple\"><polygon fill=\"#FFFFFF\" filter=\"url(#f1wdkbo6j5yphe)\" points=\"293,256,371,256,378,278.2969,385,278.2969,385,308.5938,293,308.5938,293,256\" style=\"stroke: #000000; stroke-width: 1.5;\"/><line style=\"stroke: #000000; stroke-width: 1.5;\" x1=\"293\" x2=\"378\" y1=\"278.2969\" y2=\"278.2969\"/><text fill=\"#000000\" font-family=\"sans-serif\" font-size=\"14\" font-weight=\"bold\" lengthAdjust=\"spacingAndGlyphs\" textLength=\"72\" x=\"297\" y=\"270.9951\">Data Layer</text></a><!--MD5=[af87c684e3b0d8be13c1a698a818ef1e]\n",
       "link E3 to E4--><a href=\"psysml:43ea743a-a860-452f-b433-717c56c39b79\" target=\"_top\" title=\"psysml:43ea743a-a860-452f-b433-717c56c39b79\" xlink:actuate=\"onRequest\" xlink:href=\"psysml:43ea743a-a860-452f-b433-717c56c39b79\" xlink:show=\"new\" xlink:title=\"psysml:43ea743a-a860-452f-b433-717c56c39b79\" xlink:type=\"simple\"><path d=\"M339,137.16 C339,144.98 339,153.69 339,161.94 \" fill=\"none\" id=\"E3-&gt;E4\" style=\"stroke: #A80036; stroke-width: 1.0; stroke-dasharray: 7.0,7.0;\"/><polygon fill=\"#A80036\" points=\"339,170,342,162,336,162,339,170\" style=\"stroke: #A80036; stroke-width: 1.0;\"/><text fill=\"#000000\" font-family=\"sans-serif\" font-size=\"13\" lengthAdjust=\"spacingAndGlyphs\" textLength=\"64\" x=\"340\" y=\"158.0669\">«depend»</text></a><!--MD5=[1b7591eae5389033d8d09a9d6721a717]\n",
       "link E4 to E5--><a href=\"psysml:2fd6f227-cfe3-4fe1-af5d-016c5bccfb5b\" target=\"_top\" title=\"psysml:2fd6f227-cfe3-4fe1-af5d-016c5bccfb5b\" xlink:actuate=\"onRequest\" xlink:href=\"psysml:2fd6f227-cfe3-4fe1-af5d-016c5bccfb5b\" xlink:show=\"new\" xlink:title=\"psysml:2fd6f227-cfe3-4fe1-af5d-016c5bccfb5b\" xlink:type=\"simple\"><path d=\"M339,223.16 C339,230.98 339,239.69 339,247.94 \" fill=\"none\" id=\"E4-&gt;E5\" style=\"stroke: #A80036; stroke-width: 1.0; stroke-dasharray: 7.0,7.0;\"/><polygon fill=\"#A80036\" points=\"339,256,342,248,336,248,339,256\" style=\"stroke: #A80036; stroke-width: 1.0;\"/><text fill=\"#000000\" font-family=\"sans-serif\" font-size=\"13\" lengthAdjust=\"spacingAndGlyphs\" textLength=\"64\" x=\"340\" y=\"244.0669\">«depend»</text></a><!--MD5=[c5e8897d989ce984f93528998a7150fe]\n",
       "link E8 to E6--><a href=\"psysml:209e6958-61b2-4a39-8cf0-69b60dbfdefc\" target=\"_top\" title=\"psysml:209e6958-61b2-4a39-8cf0-69b60dbfdefc\" xlink:actuate=\"onRequest\" xlink:href=\"psysml:209e6958-61b2-4a39-8cf0-69b60dbfdefc\" xlink:show=\"new\" xlink:title=\"psysml:209e6958-61b2-4a39-8cf0-69b60dbfdefc\" xlink:type=\"simple\"><path d=\"M84.49,125.34 C76.34,130.27 68.69,136.72 64,145 C60.54,151.1 59.62,158.31 60,165.33 \" fill=\"none\" id=\"E8-&gt;E6\" style=\"stroke: #A80036; stroke-width: 1.0; stroke-dasharray: 7.0,7.0;\"/><polygon fill=\"#A80036\" points=\"60.97,173.42,63.0061,165.1221,57.0479,165.8294,60.97,173.42\" style=\"stroke: #A80036; stroke-width: 1.0;\"/><text fill=\"#000000\" font-family=\"sans-serif\" font-size=\"13\" lengthAdjust=\"spacingAndGlyphs\" textLength=\"64\" x=\"65\" y=\"158.0669\">«depend»</text></a><!--MD5=[bfa3c8b0d15052fdf50ae9310b491027]\n",
       "link E8 to E7--><a href=\"psysml:209e6958-61b2-4a39-8cf0-69b60dbfdefc\" target=\"_top\" title=\"psysml:209e6958-61b2-4a39-8cf0-69b60dbfdefc\" xlink:actuate=\"onRequest\" xlink:href=\"psysml:209e6958-61b2-4a39-8cf0-69b60dbfdefc\" xlink:show=\"new\" xlink:title=\"psysml:209e6958-61b2-4a39-8cf0-69b60dbfdefc\" xlink:type=\"simple\"><path d=\"M134.19,133.57 C140.65,143.62 148.38,155.65 155.31,166.42 \" fill=\"none\" id=\"E8-&gt;E7\" style=\"stroke: #A80036; stroke-width: 1.0; stroke-dasharray: 7.0,7.0;\"/><polygon fill=\"#A80036\" points=\"159.72,173.29,157.9148,164.9389,152.8688,168.185,159.72,173.29\" style=\"stroke: #A80036; stroke-width: 1.0;\"/><text fill=\"#000000\" font-family=\"sans-serif\" font-size=\"13\" lengthAdjust=\"spacingAndGlyphs\" textLength=\"64\" x=\"152\" y=\"158.0669\">«depend»</text></a><!--MD5=[45f1a69c0a23c671222870b2155cd35e]\n",
       "@startuml\r\n",
       "skinparam ranksep 10\r\n",
       "skinparam rectangle {\r\n",
       " backgroundColor<<block>> LightGreen\r\n",
       "}\r\n",
       "skinparam wrapWidth 300\r\n",
       "hide circle\r\n",
       "\r\n",
       "package \"DependencyTest\" as E1  [[psysml:eac58141-1d30-4dd4-8de7-f3beae76540f ]]  {\r\n",
       "package \"System\" as E2  [[psysml:13805519-bfbc-4c0f-88c4-787529a25875 ]]  {\r\n",
       "package \"Application Layer\" as E3  [[psysml:5348c3d7-5f8d-4656-8805-8961159c09b6 ]]  {\r\n",
       "}\r\n",
       "package \"Service Layer\" as E4  [[psysml:e92bea40-a3a7-48d4-b6b8-5548cc937669 ]]  {\r\n",
       "}\r\n",
       "package \"Data Layer\" as E5  [[psysml:9210d902-7ba4-4a43-8b80-75376691e6d0 ]]  {\r\n",
       "}\r\n",
       "}\r\n",
       "comp usage \"x\" as E6  <<(T,blue) attribute>> [[psysml:d1a2f8b3-43fe-4bb6-bcd1-ae6c73505f04 ]] {\r\n",
       "}\r\n",
       "comp usage \"y\" as E7  <<(T,blue) attribute>> [[psysml:ad948c0a-adc5-4c23-9b66-20666ae7e933 ]] {\r\n",
       "}\r\n",
       "comp usage \"z\" as E8  <<(T,blue) attribute>> [[psysml:4e191771-f0c3-4f18-930e-d8147bece3b0 ]] {\r\n",
       "}\r\n",
       "}\r\n",
       "E3 ..>> E4 [[psysml:43ea743a-a860-452f-b433-717c56c39b79 ]] : <<depend>>\r\n",
       "E4 ..>> E5 [[psysml:2fd6f227-cfe3-4fe1-af5d-016c5bccfb5b ]] : <<depend>>\r\n",
       "E8 ..>> E6 [[psysml:209e6958-61b2-4a39-8cf0-69b60dbfdefc ]] : <<depend>>\r\n",
       "E8 ..>> E7 [[psysml:209e6958-61b2-4a39-8cf0-69b60dbfdefc ]] : <<depend>>\r\n",
       "@enduml\r\n",
       "\n",
       "PlantUML version 1.2020.13(Sat Jun 13 12:26:38 UTC 2020)\n",
       "(EPL source distribution)\n",
       "Java Runtime: OpenJDK Runtime Environment\n",
       "JVM: OpenJDK 64-Bit Server VM\n",
       "Default Encoding: UTF-8\n",
       "Language: en\n",
       "Country: null\n",
       "--></g></svg>"
      ]
     },
     "execution_count": 26,
     "metadata": {},
     "output_type": "execute_result"
    }
   ],
   "source": [
    "%viz --style=\"STDCOLOR\" --view=\"Interconnection\" \"DependencyTest\""
   ]
  },
  {
   "cell_type": "code",
   "execution_count": 27,
   "id": "44c589fe",
   "metadata": {
    "execution": {
     "iopub.execute_input": "2021-10-25T08:20:45.658382Z",
     "iopub.status.busy": "2021-10-25T08:20:45.657960Z",
     "iopub.status.idle": "2021-10-25T08:20:45.663291Z",
     "shell.execute_reply": "2021-10-25T08:20:45.662946Z"
    }
   },
   "outputs": [
    {
     "data": {
      "image/svg+xml": [
       "<?xml version=\"1.0\" encoding=\"UTF-8\" standalone=\"no\"?><svg xmlns=\"http://www.w3.org/2000/svg\" xmlns:xlink=\"http://www.w3.org/1999/xlink\" contentScriptType=\"application/ecmascript\" contentStyleType=\"text/css\" height=\"12px\" preserveAspectRatio=\"none\" style=\"width:12px;height:12px;\" version=\"1.1\" viewBox=\"0 0 12 12\" width=\"12px\" zoomAndPan=\"magnify\"><defs/><g><!--MD5=[9863325348a96a77dacc89509d8ee65e]\n",
       "@startuml\r\n",
       "skinparam ranksep 8\r\n",
       "skinparam wrapWidth 300\r\n",
       "hide circle\r\n",
       "\r\n",
       "@enduml\r\n",
       "\n",
       "PlantUML version 1.2020.13(Sat Jun 13 12:26:38 UTC 2020)\n",
       "(EPL source distribution)\n",
       "Java Runtime: OpenJDK Runtime Environment\n",
       "JVM: OpenJDK 64-Bit Server VM\n",
       "Default Encoding: UTF-8\n",
       "Language: en\n",
       "Country: null\n",
       "--></g></svg>"
      ]
     },
     "execution_count": 27,
     "metadata": {},
     "output_type": "execute_result"
    }
   ],
   "source": [
    "%viz --style=\"STDCOLOR\" --view=\"Action\" \"DependencyTest\""
   ]
  },
  {
   "cell_type": "code",
   "execution_count": 28,
   "id": "d24ac6ce",
   "metadata": {
    "execution": {
     "iopub.execute_input": "2021-10-25T08:20:45.712898Z",
     "iopub.status.busy": "2021-10-25T08:20:45.712483Z",
     "iopub.status.idle": "2021-10-25T08:20:45.718961Z",
     "shell.execute_reply": "2021-10-25T08:20:45.718561Z"
    }
   },
   "outputs": [
    {
     "data": {
      "image/svg+xml": [
       "<?xml version=\"1.0\" encoding=\"UTF-8\" standalone=\"no\"?><svg xmlns=\"http://www.w3.org/2000/svg\" xmlns:xlink=\"http://www.w3.org/1999/xlink\" contentScriptType=\"application/ecmascript\" contentStyleType=\"text/css\" height=\"12px\" preserveAspectRatio=\"none\" style=\"width:12px;height:12px;\" version=\"1.1\" viewBox=\"0 0 12 12\" width=\"12px\" zoomAndPan=\"magnify\"><defs/><g><!--MD5=[6c4bca67b4d71758159a5a7f1f1e1fc2]\n",
       "@startuml\r\n",
       "skinparam roundcorner 20\r\n",
       "skinparam BoxPadding 20\r\n",
       "skinparam SequenceBoxBackgroundColor #white\r\n",
       "skinparam style strictuml\r\n",
       "skinparam maxMessageSize 100\r\n",
       "skinparam wrapWidth 300\r\n",
       "hide circle\r\n",
       "\r\n",
       "@enduml\r\n",
       "\n",
       "PlantUML version 1.2020.13(Sat Jun 13 12:26:38 UTC 2020)\n",
       "(EPL source distribution)\n",
       "Java Runtime: OpenJDK Runtime Environment\n",
       "JVM: OpenJDK 64-Bit Server VM\n",
       "Default Encoding: UTF-8\n",
       "Language: en\n",
       "Country: null\n",
       "--></g></svg>"
      ]
     },
     "execution_count": 28,
     "metadata": {},
     "output_type": "execute_result"
    }
   ],
   "source": [
    "%viz --style=\"STDCOLOR\" --view=\"Sequence\" \"DependencyTest\""
   ]
  },
  {
   "cell_type": "code",
   "execution_count": 29,
   "id": "0e3541a8",
   "metadata": {
    "execution": {
     "iopub.execute_input": "2021-10-25T08:20:45.768370Z",
     "iopub.status.busy": "2021-10-25T08:20:45.767957Z",
     "iopub.status.idle": "2021-10-25T08:20:45.803716Z",
     "shell.execute_reply": "2021-10-25T08:20:45.803345Z"
    }
   },
   "outputs": [
    {
     "data": {
      "image/svg+xml": [
       "<?xml version=\"1.0\" encoding=\"UTF-8\" standalone=\"no\"?><svg xmlns=\"http://www.w3.org/2000/svg\" xmlns:xlink=\"http://www.w3.org/1999/xlink\" contentScriptType=\"application/ecmascript\" contentStyleType=\"text/css\" height=\"449px\" preserveAspectRatio=\"none\" style=\"width:469px;height:449px;\" version=\"1.1\" viewBox=\"0 0 469 449\" width=\"469px\" zoomAndPan=\"magnify\"><defs><filter height=\"300%\" id=\"f1e5w6khah0gsp\" width=\"300%\" x=\"-1\" y=\"-1\"><feGaussianBlur result=\"blurOut\" stdDeviation=\"2.0\"/><feColorMatrix in=\"blurOut\" result=\"blurOut2\" type=\"matrix\" values=\"0 0 0 0 0 0 0 0 0 0 0 0 0 0 0 0 0 0 .4 0\"/><feOffset dx=\"4.0\" dy=\"4.0\" in=\"blurOut2\" result=\"blurOut3\"/><feBlend in=\"SourceGraphic\" in2=\"blurOut3\" mode=\"normal\"/></filter></defs><g><!--MD5=[fbc87193dbaf4d95561dea2c320d4a47]\n",
       "cluster E1--><a href=\"psysml:eac58141-1d30-4dd4-8de7-f3beae76540f\" target=\"_top\" title=\"psysml:eac58141-1d30-4dd4-8de7-f3beae76540f\" xlink:actuate=\"onRequest\" xlink:href=\"psysml:eac58141-1d30-4dd4-8de7-f3beae76540f\" xlink:show=\"new\" xlink:title=\"psysml:eac58141-1d30-4dd4-8de7-f3beae76540f\" xlink:type=\"simple\"><polygon fill=\"#FFFFFF\" filter=\"url(#f1e5w6khah0gsp)\" points=\"16,6,142,6,149,28.2969,447,28.2969,447,437,16,437,16,6\" style=\"stroke: #000000; stroke-width: 1.5;\"/><line style=\"stroke: #000000; stroke-width: 1.5;\" x1=\"16\" x2=\"149\" y1=\"28.2969\" y2=\"28.2969\"/><text fill=\"#000000\" font-family=\"sans-serif\" font-size=\"14\" font-weight=\"bold\" lengthAdjust=\"spacingAndGlyphs\" textLength=\"120\" x=\"20\" y=\"20.9951\">DependencyTest</text></a><!--MD5=[e4f7fae6ed58524ba242bb0b0d3be6b7]\n",
       "cluster E2--><a href=\"psysml:13805519-bfbc-4c0f-88c4-787529a25875\" target=\"_top\" title=\"psysml:13805519-bfbc-4c0f-88c4-787529a25875\" xlink:actuate=\"onRequest\" xlink:href=\"psysml:13805519-bfbc-4c0f-88c4-787529a25875\" xlink:show=\"new\" xlink:title=\"psysml:13805519-bfbc-4c0f-88c4-787529a25875\" xlink:type=\"simple\"><polygon fill=\"#FFFFFF\" filter=\"url(#f1e5w6khah0gsp)\" points=\"255,49,312,49,319,71.2969,423,71.2969,423,413,255,413,255,49\" style=\"stroke: #000000; stroke-width: 1.5;\"/><line style=\"stroke: #000000; stroke-width: 1.5;\" x1=\"255\" x2=\"319\" y1=\"71.2969\" y2=\"71.2969\"/><text fill=\"#000000\" font-family=\"sans-serif\" font-size=\"14\" font-weight=\"bold\" lengthAdjust=\"spacingAndGlyphs\" textLength=\"51\" x=\"259\" y=\"63.9951\">System</text></a><!--MD5=[60a26617385b1d2d0262a64233df1f8d]\n",
       "class E6--><a href=\"psysml:d1a2f8b3-43fe-4bb6-bcd1-ae6c73505f04\" target=\"_top\" title=\"psysml:d1a2f8b3-43fe-4bb6-bcd1-ae6c73505f04\" xlink:actuate=\"onRequest\" xlink:href=\"psysml:d1a2f8b3-43fe-4bb6-bcd1-ae6c73505f04\" xlink:show=\"new\" xlink:title=\"psysml:d1a2f8b3-43fe-4bb6-bcd1-ae6c73505f04\" xlink:type=\"simple\"><rect fill=\"#FEFECE\" filter=\"url(#f1e5w6khah0gsp)\" height=\"45.9375\" id=\"E6\" rx=\"10\" ry=\"10\" style=\"stroke: #A80036; stroke-width: 1.5;\" width=\"71\" x=\"32.5\" y=\"217.5\"/><text fill=\"#000000\" font-family=\"sans-serif\" font-size=\"12\" font-style=\"italic\" lengthAdjust=\"spacingAndGlyphs\" textLength=\"69\" x=\"33.5\" y=\"233.6387\">«attribute»</text><text fill=\"#000000\" font-family=\"sans-serif\" font-size=\"12\" lengthAdjust=\"spacingAndGlyphs\" textLength=\"6\" x=\"65\" y=\"247.6074\">x</text><line style=\"stroke: #A80036; stroke-width: 1.5;\" x1=\"33.5\" x2=\"102.5\" y1=\"255.4375\" y2=\"255.4375\"/></a><!--MD5=[2156ba9850f5573cc1fc38a6a4b2f02b]\n",
       "class E7--><a href=\"psysml:ad948c0a-adc5-4c23-9b66-20666ae7e933\" target=\"_top\" title=\"psysml:ad948c0a-adc5-4c23-9b66-20666ae7e933\" xlink:actuate=\"onRequest\" xlink:href=\"psysml:ad948c0a-adc5-4c23-9b66-20666ae7e933\" xlink:show=\"new\" xlink:title=\"psysml:ad948c0a-adc5-4c23-9b66-20666ae7e933\" xlink:type=\"simple\"><rect fill=\"#FEFECE\" filter=\"url(#f1e5w6khah0gsp)\" height=\"45.9375\" id=\"E7\" rx=\"10\" ry=\"10\" style=\"stroke: #A80036; stroke-width: 1.5;\" width=\"71\" x=\"138.5\" y=\"217.5\"/><text fill=\"#000000\" font-family=\"sans-serif\" font-size=\"12\" font-style=\"italic\" lengthAdjust=\"spacingAndGlyphs\" textLength=\"69\" x=\"139.5\" y=\"233.6387\">«attribute»</text><text fill=\"#000000\" font-family=\"sans-serif\" font-size=\"12\" lengthAdjust=\"spacingAndGlyphs\" textLength=\"6\" x=\"171\" y=\"247.6074\">y</text><line style=\"stroke: #A80036; stroke-width: 1.5;\" x1=\"139.5\" x2=\"208.5\" y1=\"255.4375\" y2=\"255.4375\"/></a><!--MD5=[b9389687b975829384b498ac4b7476b2]\n",
       "class E8--><a href=\"psysml:4e191771-f0c3-4f18-930e-d8147bece3b0\" target=\"_top\" title=\"psysml:4e191771-f0c3-4f18-930e-d8147bece3b0\" xlink:actuate=\"onRequest\" xlink:href=\"psysml:4e191771-f0c3-4f18-930e-d8147bece3b0\" xlink:show=\"new\" xlink:title=\"psysml:4e191771-f0c3-4f18-930e-d8147bece3b0\" xlink:type=\"simple\"><rect fill=\"#FEFECE\" filter=\"url(#f1e5w6khah0gsp)\" height=\"45.9375\" id=\"E8\" rx=\"10\" ry=\"10\" style=\"stroke: #A80036; stroke-width: 1.5;\" width=\"71\" x=\"84.5\" y=\"87.5\"/><text fill=\"#000000\" font-family=\"sans-serif\" font-size=\"12\" font-style=\"italic\" lengthAdjust=\"spacingAndGlyphs\" textLength=\"69\" x=\"85.5\" y=\"103.6387\">«attribute»</text><text fill=\"#000000\" font-family=\"sans-serif\" font-size=\"12\" lengthAdjust=\"spacingAndGlyphs\" textLength=\"5\" x=\"117.5\" y=\"117.6074\">z</text><line style=\"stroke: #A80036; stroke-width: 1.5;\" x1=\"85.5\" x2=\"154.5\" y1=\"125.4375\" y2=\"125.4375\"/></a><a href=\"psysml:5348c3d7-5f8d-4656-8805-8961159c09b6\" target=\"_top\" title=\"psysml:5348c3d7-5f8d-4656-8805-8961159c09b6\" xlink:actuate=\"onRequest\" xlink:href=\"psysml:5348c3d7-5f8d-4656-8805-8961159c09b6\" xlink:show=\"new\" xlink:title=\"psysml:5348c3d7-5f8d-4656-8805-8961159c09b6\" xlink:type=\"simple\"><polygon fill=\"#FFFFFF\" filter=\"url(#f1e5w6khah0gsp)\" points=\"271.5,84,392.5,84,399.5,106.2969,406.5,106.2969,406.5,136.5938,271.5,136.5938,271.5,84\" style=\"stroke: #000000; stroke-width: 1.5;\"/><line style=\"stroke: #000000; stroke-width: 1.5;\" x1=\"271.5\" x2=\"399.5\" y1=\"106.2969\" y2=\"106.2969\"/><text fill=\"#000000\" font-family=\"sans-serif\" font-size=\"14\" font-weight=\"bold\" lengthAdjust=\"spacingAndGlyphs\" textLength=\"115\" x=\"275.5\" y=\"98.9951\">Application Layer</text></a><a href=\"psysml:e92bea40-a3a7-48d4-b6b8-5548cc937669\" target=\"_top\" title=\"psysml:e92bea40-a3a7-48d4-b6b8-5548cc937669\" xlink:actuate=\"onRequest\" xlink:href=\"psysml:e92bea40-a3a7-48d4-b6b8-5548cc937669\" xlink:show=\"new\" xlink:title=\"psysml:e92bea40-a3a7-48d4-b6b8-5548cc937669\" xlink:type=\"simple\"><polygon fill=\"#FFFFFF\" filter=\"url(#f1e5w6khah0gsp)\" points=\"284,214,380,214,387,236.2969,394,236.2969,394,266.5938,284,266.5938,284,214\" style=\"stroke: #000000; stroke-width: 1.5;\"/><line style=\"stroke: #000000; stroke-width: 1.5;\" x1=\"284\" x2=\"387\" y1=\"236.2969\" y2=\"236.2969\"/><text fill=\"#000000\" font-family=\"sans-serif\" font-size=\"14\" font-weight=\"bold\" lengthAdjust=\"spacingAndGlyphs\" textLength=\"90\" x=\"288\" y=\"228.9951\">Service Layer</text></a><a href=\"psysml:9210d902-7ba4-4a43-8b80-75376691e6d0\" target=\"_top\" title=\"psysml:9210d902-7ba4-4a43-8b80-75376691e6d0\" xlink:actuate=\"onRequest\" xlink:href=\"psysml:9210d902-7ba4-4a43-8b80-75376691e6d0\" xlink:show=\"new\" xlink:title=\"psysml:9210d902-7ba4-4a43-8b80-75376691e6d0\" xlink:type=\"simple\"><polygon fill=\"#FFFFFF\" filter=\"url(#f1e5w6khah0gsp)\" points=\"293,344,371,344,378,366.2969,385,366.2969,385,396.5938,293,396.5938,293,344\" style=\"stroke: #000000; stroke-width: 1.5;\"/><line style=\"stroke: #000000; stroke-width: 1.5;\" x1=\"293\" x2=\"378\" y1=\"366.2969\" y2=\"366.2969\"/><text fill=\"#000000\" font-family=\"sans-serif\" font-size=\"14\" font-weight=\"bold\" lengthAdjust=\"spacingAndGlyphs\" textLength=\"72\" x=\"297\" y=\"358.9951\">Data Layer</text></a><!--MD5=[af87c684e3b0d8be13c1a698a818ef1e]\n",
       "link E3 to E4--><a href=\"psysml:43ea743a-a860-452f-b433-717c56c39b79\" target=\"_top\" title=\"psysml:43ea743a-a860-452f-b433-717c56c39b79\" xlink:actuate=\"onRequest\" xlink:href=\"psysml:43ea743a-a860-452f-b433-717c56c39b79\" xlink:show=\"new\" xlink:title=\"psysml:43ea743a-a860-452f-b433-717c56c39b79\" xlink:type=\"simple\"><path d=\"M339,137.1 C339,156.8 339,184.22 339,205.73 \" fill=\"none\" id=\"E3-&gt;E4\" style=\"stroke: #A80036; stroke-width: 1.0; stroke-dasharray: 7.0,7.0;\"/><polygon fill=\"#A80036\" points=\"339,213.95,342,205.95,336,205.95,339,213.95\" style=\"stroke: #A80036; stroke-width: 1.0;\"/><text fill=\"#000000\" font-family=\"sans-serif\" font-size=\"13\" lengthAdjust=\"spacingAndGlyphs\" textLength=\"64\" x=\"340\" y=\"180.0669\">«depend»</text></a><!--MD5=[1b7591eae5389033d8d09a9d6721a717]\n",
       "link E4 to E5--><a href=\"psysml:2fd6f227-cfe3-4fe1-af5d-016c5bccfb5b\" target=\"_top\" title=\"psysml:2fd6f227-cfe3-4fe1-af5d-016c5bccfb5b\" xlink:actuate=\"onRequest\" xlink:href=\"psysml:2fd6f227-cfe3-4fe1-af5d-016c5bccfb5b\" xlink:show=\"new\" xlink:title=\"psysml:2fd6f227-cfe3-4fe1-af5d-016c5bccfb5b\" xlink:type=\"simple\"><path d=\"M339,267.1 C339,286.8 339,314.22 339,335.73 \" fill=\"none\" id=\"E4-&gt;E5\" style=\"stroke: #A80036; stroke-width: 1.0; stroke-dasharray: 7.0,7.0;\"/><polygon fill=\"#A80036\" points=\"339,343.95,342,335.95,336,335.95,339,343.95\" style=\"stroke: #A80036; stroke-width: 1.0;\"/><text fill=\"#000000\" font-family=\"sans-serif\" font-size=\"13\" lengthAdjust=\"spacingAndGlyphs\" textLength=\"64\" x=\"340\" y=\"310.0669\">«depend»</text></a><!--MD5=[c5e8897d989ce984f93528998a7150fe]\n",
       "link E8 to E6--><a href=\"psysml:209e6958-61b2-4a39-8cf0-69b60dbfdefc\" target=\"_top\" title=\"psysml:209e6958-61b2-4a39-8cf0-69b60dbfdefc\" xlink:actuate=\"onRequest\" xlink:href=\"psysml:209e6958-61b2-4a39-8cf0-69b60dbfdefc\" xlink:show=\"new\" xlink:title=\"psysml:209e6958-61b2-4a39-8cf0-69b60dbfdefc\" xlink:type=\"simple\"><path d=\"M89.42,133.6 C79.35,142.68 69.37,154.11 64,167 C58.5,180.2 58.66,195.94 60.54,209.38 \" fill=\"none\" id=\"E8-&gt;E6\" style=\"stroke: #A80036; stroke-width: 1.0; stroke-dasharray: 7.0,7.0;\"/><polygon fill=\"#A80036\" points=\"61.9,217.4,63.517,209.0104,57.6018,210.0159,61.9,217.4\" style=\"stroke: #A80036; stroke-width: 1.0;\"/><text fill=\"#000000\" font-family=\"sans-serif\" font-size=\"13\" lengthAdjust=\"spacingAndGlyphs\" textLength=\"64\" x=\"65\" y=\"180.0669\">«depend»</text></a><!--MD5=[bfa3c8b0d15052fdf50ae9310b491027]\n",
       "link E8 to E7--><a href=\"psysml:209e6958-61b2-4a39-8cf0-69b60dbfdefc\" target=\"_top\" title=\"psysml:209e6958-61b2-4a39-8cf0-69b60dbfdefc\" xlink:actuate=\"onRequest\" xlink:href=\"psysml:209e6958-61b2-4a39-8cf0-69b60dbfdefc\" xlink:show=\"new\" xlink:title=\"psysml:209e6958-61b2-4a39-8cf0-69b60dbfdefc\" xlink:type=\"simple\"><path d=\"M129.28,133.5 C138.17,154.57 151.64,186.5 161.47,209.81 \" fill=\"none\" id=\"E8-&gt;E7\" style=\"stroke: #A80036; stroke-width: 1.0; stroke-dasharray: 7.0,7.0;\"/><polygon fill=\"#A80036\" points=\"164.66,217.35,164.3241,208.8126,158.7933,211.1385,164.66,217.35\" style=\"stroke: #A80036; stroke-width: 1.0;\"/><text fill=\"#000000\" font-family=\"sans-serif\" font-size=\"13\" lengthAdjust=\"spacingAndGlyphs\" textLength=\"64\" x=\"151\" y=\"180.0669\">«depend»</text></a><!--MD5=[b0674793f131670aaff01ede2575544b]\n",
       "@startuml\r\n",
       "skinparam wrapWidth 300\r\n",
       "hide circle\r\n",
       "\r\n",
       "package \"DependencyTest\" as E1  [[psysml:eac58141-1d30-4dd4-8de7-f3beae76540f ]]  {\r\n",
       "package \"System\" as E2  [[psysml:13805519-bfbc-4c0f-88c4-787529a25875 ]]  {\r\n",
       "package \"Application Layer\" as E3  [[psysml:5348c3d7-5f8d-4656-8805-8961159c09b6 ]]  {\r\n",
       "}\r\n",
       "package \"Service Layer\" as E4  [[psysml:e92bea40-a3a7-48d4-b6b8-5548cc937669 ]]  {\r\n",
       "}\r\n",
       "package \"Data Layer\" as E5  [[psysml:9210d902-7ba4-4a43-8b80-75376691e6d0 ]]  {\r\n",
       "}\r\n",
       "}\r\n",
       "comp usage \"x\" as E6  <<(T,blue) attribute>> [[psysml:d1a2f8b3-43fe-4bb6-bcd1-ae6c73505f04 ]] {\r\n",
       "}\r\n",
       "comp usage \"y\" as E7  <<(T,blue) attribute>> [[psysml:ad948c0a-adc5-4c23-9b66-20666ae7e933 ]] {\r\n",
       "}\r\n",
       "comp usage \"z\" as E8  <<(T,blue) attribute>> [[psysml:4e191771-f0c3-4f18-930e-d8147bece3b0 ]] {\r\n",
       "}\r\n",
       "}\r\n",
       "E3 ..>> E4 [[psysml:43ea743a-a860-452f-b433-717c56c39b79 ]] : <<depend>>\r\n",
       "E4 ..>> E5 [[psysml:2fd6f227-cfe3-4fe1-af5d-016c5bccfb5b ]] : <<depend>>\r\n",
       "E8 ..>> E6 [[psysml:209e6958-61b2-4a39-8cf0-69b60dbfdefc ]] : <<depend>>\r\n",
       "E8 ..>> E7 [[psysml:209e6958-61b2-4a39-8cf0-69b60dbfdefc ]] : <<depend>>\r\n",
       "@enduml\r\n",
       "\n",
       "PlantUML version 1.2020.13(Sat Jun 13 12:26:38 UTC 2020)\n",
       "(EPL source distribution)\n",
       "Java Runtime: OpenJDK Runtime Environment\n",
       "JVM: OpenJDK 64-Bit Server VM\n",
       "Default Encoding: UTF-8\n",
       "Language: en\n",
       "Country: null\n",
       "--></g></svg>"
      ]
     },
     "execution_count": 29,
     "metadata": {},
     "output_type": "execute_result"
    }
   ],
   "source": [
    "%viz --style=\"STDCOLOR\" --view=\"MIXED\" \"DependencyTest\""
   ]
  },
  {
   "cell_type": "code",
   "execution_count": 30,
   "id": "96ec71ee",
   "metadata": {
    "execution": {
     "iopub.execute_input": "2021-10-25T08:20:45.852857Z",
     "iopub.status.busy": "2021-10-25T08:20:45.852432Z",
     "iopub.status.idle": "2021-10-25T08:20:45.912249Z",
     "shell.execute_reply": "2021-10-25T08:20:45.911880Z"
    }
   },
   "outputs": [
    {
     "data": {
      "image/svg+xml": [
       "<?xml version=\"1.0\" encoding=\"UTF-8\" standalone=\"no\"?><svg xmlns=\"http://www.w3.org/2000/svg\" xmlns:xlink=\"http://www.w3.org/1999/xlink\" contentScriptType=\"application/ecmascript\" contentStyleType=\"text/css\" height=\"449px\" preserveAspectRatio=\"none\" style=\"width:490px;height:449px;\" version=\"1.1\" viewBox=\"0 0 490 449\" width=\"490px\" zoomAndPan=\"magnify\"><defs><filter height=\"300%\" id=\"fa4p75o5ahpqr\" width=\"300%\" x=\"-1\" y=\"-1\"><feGaussianBlur result=\"blurOut\" stdDeviation=\"2.0\"/><feColorMatrix in=\"blurOut\" result=\"blurOut2\" type=\"matrix\" values=\"0 0 0 0 0 0 0 0 0 0 0 0 0 0 0 0 0 0 .4 0\"/><feOffset dx=\"4.0\" dy=\"4.0\" in=\"blurOut2\" result=\"blurOut3\"/><feBlend in=\"SourceGraphic\" in2=\"blurOut3\" mode=\"normal\"/></filter></defs><g><!--MD5=[fbc87193dbaf4d95561dea2c320d4a47]\n",
       "cluster E1--><a href=\"psysml:eac58141-1d30-4dd4-8de7-f3beae76540f\" target=\"_top\" title=\"psysml:eac58141-1d30-4dd4-8de7-f3beae76540f\" xlink:actuate=\"onRequest\" xlink:href=\"psysml:eac58141-1d30-4dd4-8de7-f3beae76540f\" xlink:show=\"new\" xlink:title=\"psysml:eac58141-1d30-4dd4-8de7-f3beae76540f\" xlink:type=\"simple\"><polygon fill=\"#FFFFFF\" filter=\"url(#fa4p75o5ahpqr)\" points=\"16,6,142,6,149,28.2969,468,28.2969,468,437,16,437,16,6\" style=\"stroke: #000000; stroke-width: 1.5;\"/><line style=\"stroke: #000000; stroke-width: 1.5;\" x1=\"16\" x2=\"149\" y1=\"28.2969\" y2=\"28.2969\"/><text fill=\"#000000\" font-family=\"sans-serif\" font-size=\"14\" font-weight=\"bold\" lengthAdjust=\"spacingAndGlyphs\" textLength=\"120\" x=\"20\" y=\"20.9951\">DependencyTest</text></a><!--MD5=[e4f7fae6ed58524ba242bb0b0d3be6b7]\n",
       "cluster E2--><a href=\"psysml:13805519-bfbc-4c0f-88c4-787529a25875\" target=\"_top\" title=\"psysml:13805519-bfbc-4c0f-88c4-787529a25875\" xlink:actuate=\"onRequest\" xlink:href=\"psysml:13805519-bfbc-4c0f-88c4-787529a25875\" xlink:show=\"new\" xlink:title=\"psysml:13805519-bfbc-4c0f-88c4-787529a25875\" xlink:type=\"simple\"><polygon fill=\"#FFFFFF\" filter=\"url(#fa4p75o5ahpqr)\" points=\"276,49,333,49,340,71.2969,444,71.2969,444,413,276,413,276,49\" style=\"stroke: #000000; stroke-width: 1.5;\"/><line style=\"stroke: #000000; stroke-width: 1.5;\" x1=\"276\" x2=\"340\" y1=\"71.2969\" y2=\"71.2969\"/><text fill=\"#000000\" font-family=\"sans-serif\" font-size=\"14\" font-weight=\"bold\" lengthAdjust=\"spacingAndGlyphs\" textLength=\"51\" x=\"280\" y=\"63.9951\">System</text></a><!--MD5=[60a26617385b1d2d0262a64233df1f8d]\n",
       "class E6--><a href=\"psysml:d1a2f8b3-43fe-4bb6-bcd1-ae6c73505f04\" target=\"_top\" title=\"psysml:d1a2f8b3-43fe-4bb6-bcd1-ae6c73505f04\" xlink:actuate=\"onRequest\" xlink:href=\"psysml:d1a2f8b3-43fe-4bb6-bcd1-ae6c73505f04\" xlink:show=\"new\" xlink:title=\"psysml:d1a2f8b3-43fe-4bb6-bcd1-ae6c73505f04\" xlink:type=\"simple\"><rect fill=\"#FEFECE\" filter=\"url(#fa4p75o5ahpqr)\" height=\"45.9375\" id=\"E6\" rx=\"10\" ry=\"10\" style=\"stroke: #A80036; stroke-width: 1.5;\" width=\"97\" x=\"31.5\" y=\"217.5\"/><ellipse cx=\"46.5\" cy=\"236.4688\" fill=\"#FFA500\" rx=\"11\" ry=\"11\" style=\"stroke: #A80036; stroke-width: 1.0;\"/><path d=\"M46.25,241.9375 Q44.5,241.9375 43.5469,240.9063 Q42.6094,239.8594 42.6094,238.0156 L42.6094,231.125 L44.6719,231.125 L44.6719,231.2813 Q44.5781,231.375 44.5469,231.5156 Q44.5313,231.6406 44.5313,231.9063 L44.5313,238.0313 Q44.5313,239.125 44.9063,239.75 Q45.2813,240.375 46.2656,240.375 Q47.25,240.375 47.6406,239.75 Q48.0313,239.125 48.0313,237.9844 L48.0313,231.125 L49.9063,231.125 L49.9063,237.9688 Q49.9063,240 48.875,240.9688 Q47.8594,241.9375 46.25,241.9375 Z \"/><text fill=\"#000000\" font-family=\"sans-serif\" font-size=\"12\" font-style=\"italic\" lengthAdjust=\"spacingAndGlyphs\" textLength=\"69\" x=\"58.5\" y=\"233.6387\">«attribute»</text><text fill=\"#000000\" font-family=\"sans-serif\" font-size=\"12\" lengthAdjust=\"spacingAndGlyphs\" textLength=\"6\" x=\"90\" y=\"247.6074\">x</text><line style=\"stroke: #A80036; stroke-width: 1.5;\" x1=\"32.5\" x2=\"127.5\" y1=\"255.4375\" y2=\"255.4375\"/></a><!--MD5=[2156ba9850f5573cc1fc38a6a4b2f02b]\n",
       "class E7--><a href=\"psysml:ad948c0a-adc5-4c23-9b66-20666ae7e933\" target=\"_top\" title=\"psysml:ad948c0a-adc5-4c23-9b66-20666ae7e933\" xlink:actuate=\"onRequest\" xlink:href=\"psysml:ad948c0a-adc5-4c23-9b66-20666ae7e933\" xlink:show=\"new\" xlink:title=\"psysml:ad948c0a-adc5-4c23-9b66-20666ae7e933\" xlink:type=\"simple\"><rect fill=\"#FEFECE\" filter=\"url(#fa4p75o5ahpqr)\" height=\"45.9375\" id=\"E7\" rx=\"10\" ry=\"10\" style=\"stroke: #A80036; stroke-width: 1.5;\" width=\"97\" x=\"163.5\" y=\"217.5\"/><ellipse cx=\"178.5\" cy=\"236.4688\" fill=\"#FFA500\" rx=\"11\" ry=\"11\" style=\"stroke: #A80036; stroke-width: 1.0;\"/><path d=\"M178.25,241.9375 Q176.5,241.9375 175.5469,240.9063 Q174.6094,239.8594 174.6094,238.0156 L174.6094,231.125 L176.6719,231.125 L176.6719,231.2813 Q176.5781,231.375 176.5469,231.5156 Q176.5313,231.6406 176.5313,231.9063 L176.5313,238.0313 Q176.5313,239.125 176.9063,239.75 Q177.2813,240.375 178.2656,240.375 Q179.25,240.375 179.6406,239.75 Q180.0313,239.125 180.0313,237.9844 L180.0313,231.125 L181.9063,231.125 L181.9063,237.9688 Q181.9063,240 180.875,240.9688 Q179.8594,241.9375 178.25,241.9375 Z \"/><text fill=\"#000000\" font-family=\"sans-serif\" font-size=\"12\" font-style=\"italic\" lengthAdjust=\"spacingAndGlyphs\" textLength=\"69\" x=\"190.5\" y=\"233.6387\">«attribute»</text><text fill=\"#000000\" font-family=\"sans-serif\" font-size=\"12\" lengthAdjust=\"spacingAndGlyphs\" textLength=\"6\" x=\"222\" y=\"247.6074\">y</text><line style=\"stroke: #A80036; stroke-width: 1.5;\" x1=\"164.5\" x2=\"259.5\" y1=\"255.4375\" y2=\"255.4375\"/></a><!--MD5=[b9389687b975829384b498ac4b7476b2]\n",
       "class E8--><a href=\"psysml:4e191771-f0c3-4f18-930e-d8147bece3b0\" target=\"_top\" title=\"psysml:4e191771-f0c3-4f18-930e-d8147bece3b0\" xlink:actuate=\"onRequest\" xlink:href=\"psysml:4e191771-f0c3-4f18-930e-d8147bece3b0\" xlink:show=\"new\" xlink:title=\"psysml:4e191771-f0c3-4f18-930e-d8147bece3b0\" xlink:type=\"simple\"><rect fill=\"#FEFECE\" filter=\"url(#fa4p75o5ahpqr)\" height=\"45.9375\" id=\"E8\" rx=\"10\" ry=\"10\" style=\"stroke: #A80036; stroke-width: 1.5;\" width=\"97\" x=\"84.5\" y=\"87.5\"/><ellipse cx=\"99.5\" cy=\"106.4688\" fill=\"#FFA500\" rx=\"11\" ry=\"11\" style=\"stroke: #A80036; stroke-width: 1.0;\"/><path d=\"M99.25,111.9375 Q97.5,111.9375 96.5469,110.9063 Q95.6094,109.8594 95.6094,108.0156 L95.6094,101.125 L97.6719,101.125 L97.6719,101.2813 Q97.5781,101.375 97.5469,101.5156 Q97.5313,101.6406 97.5313,101.9063 L97.5313,108.0313 Q97.5313,109.125 97.9063,109.75 Q98.2813,110.375 99.2656,110.375 Q100.25,110.375 100.6406,109.75 Q101.0313,109.125 101.0313,107.9844 L101.0313,101.125 L102.9063,101.125 L102.9063,107.9688 Q102.9063,110 101.875,110.9688 Q100.8594,111.9375 99.25,111.9375 Z \"/><text fill=\"#000000\" font-family=\"sans-serif\" font-size=\"12\" font-style=\"italic\" lengthAdjust=\"spacingAndGlyphs\" textLength=\"69\" x=\"111.5\" y=\"103.6387\">«attribute»</text><text fill=\"#000000\" font-family=\"sans-serif\" font-size=\"12\" lengthAdjust=\"spacingAndGlyphs\" textLength=\"5\" x=\"143.5\" y=\"117.6074\">z</text><line style=\"stroke: #A80036; stroke-width: 1.5;\" x1=\"85.5\" x2=\"180.5\" y1=\"125.4375\" y2=\"125.4375\"/></a><a href=\"psysml:5348c3d7-5f8d-4656-8805-8961159c09b6\" target=\"_top\" title=\"psysml:5348c3d7-5f8d-4656-8805-8961159c09b6\" xlink:actuate=\"onRequest\" xlink:href=\"psysml:5348c3d7-5f8d-4656-8805-8961159c09b6\" xlink:show=\"new\" xlink:title=\"psysml:5348c3d7-5f8d-4656-8805-8961159c09b6\" xlink:type=\"simple\"><polygon fill=\"#FFFFFF\" filter=\"url(#fa4p75o5ahpqr)\" points=\"292.5,84,413.5,84,420.5,106.2969,427.5,106.2969,427.5,136.5938,292.5,136.5938,292.5,84\" style=\"stroke: #000000; stroke-width: 1.5;\"/><line style=\"stroke: #000000; stroke-width: 1.5;\" x1=\"292.5\" x2=\"420.5\" y1=\"106.2969\" y2=\"106.2969\"/><text fill=\"#000000\" font-family=\"sans-serif\" font-size=\"14\" font-weight=\"bold\" lengthAdjust=\"spacingAndGlyphs\" textLength=\"115\" x=\"296.5\" y=\"98.9951\">Application Layer</text></a><a href=\"psysml:e92bea40-a3a7-48d4-b6b8-5548cc937669\" target=\"_top\" title=\"psysml:e92bea40-a3a7-48d4-b6b8-5548cc937669\" xlink:actuate=\"onRequest\" xlink:href=\"psysml:e92bea40-a3a7-48d4-b6b8-5548cc937669\" xlink:show=\"new\" xlink:title=\"psysml:e92bea40-a3a7-48d4-b6b8-5548cc937669\" xlink:type=\"simple\"><polygon fill=\"#FFFFFF\" filter=\"url(#fa4p75o5ahpqr)\" points=\"305,214,401,214,408,236.2969,415,236.2969,415,266.5938,305,266.5938,305,214\" style=\"stroke: #000000; stroke-width: 1.5;\"/><line style=\"stroke: #000000; stroke-width: 1.5;\" x1=\"305\" x2=\"408\" y1=\"236.2969\" y2=\"236.2969\"/><text fill=\"#000000\" font-family=\"sans-serif\" font-size=\"14\" font-weight=\"bold\" lengthAdjust=\"spacingAndGlyphs\" textLength=\"90\" x=\"309\" y=\"228.9951\">Service Layer</text></a><a href=\"psysml:9210d902-7ba4-4a43-8b80-75376691e6d0\" target=\"_top\" title=\"psysml:9210d902-7ba4-4a43-8b80-75376691e6d0\" xlink:actuate=\"onRequest\" xlink:href=\"psysml:9210d902-7ba4-4a43-8b80-75376691e6d0\" xlink:show=\"new\" xlink:title=\"psysml:9210d902-7ba4-4a43-8b80-75376691e6d0\" xlink:type=\"simple\"><polygon fill=\"#FFFFFF\" filter=\"url(#fa4p75o5ahpqr)\" points=\"314,344,392,344,399,366.2969,406,366.2969,406,396.5938,314,396.5938,314,344\" style=\"stroke: #000000; stroke-width: 1.5;\"/><line style=\"stroke: #000000; stroke-width: 1.5;\" x1=\"314\" x2=\"399\" y1=\"366.2969\" y2=\"366.2969\"/><text fill=\"#000000\" font-family=\"sans-serif\" font-size=\"14\" font-weight=\"bold\" lengthAdjust=\"spacingAndGlyphs\" textLength=\"72\" x=\"318\" y=\"358.9951\">Data Layer</text></a><!--MD5=[af87c684e3b0d8be13c1a698a818ef1e]\n",
       "link E3 to E4--><a href=\"psysml:43ea743a-a860-452f-b433-717c56c39b79\" target=\"_top\" title=\"psysml:43ea743a-a860-452f-b433-717c56c39b79\" xlink:actuate=\"onRequest\" xlink:href=\"psysml:43ea743a-a860-452f-b433-717c56c39b79\" xlink:show=\"new\" xlink:title=\"psysml:43ea743a-a860-452f-b433-717c56c39b79\" xlink:type=\"simple\"><path d=\"M360,137.1 C360,156.8 360,184.22 360,205.73 \" fill=\"none\" id=\"E3-&gt;E4\" style=\"stroke: #A80036; stroke-width: 1.0; stroke-dasharray: 7.0,7.0;\"/><polygon fill=\"#A80036\" points=\"360,213.95,363,205.95,357,205.95,360,213.95\" style=\"stroke: #A80036; stroke-width: 1.0;\"/><text fill=\"#000000\" font-family=\"sans-serif\" font-size=\"13\" lengthAdjust=\"spacingAndGlyphs\" textLength=\"64\" x=\"361\" y=\"180.0669\">«depend»</text></a><!--MD5=[1b7591eae5389033d8d09a9d6721a717]\n",
       "link E4 to E5--><a href=\"psysml:2fd6f227-cfe3-4fe1-af5d-016c5bccfb5b\" target=\"_top\" title=\"psysml:2fd6f227-cfe3-4fe1-af5d-016c5bccfb5b\" xlink:actuate=\"onRequest\" xlink:href=\"psysml:2fd6f227-cfe3-4fe1-af5d-016c5bccfb5b\" xlink:show=\"new\" xlink:title=\"psysml:2fd6f227-cfe3-4fe1-af5d-016c5bccfb5b\" xlink:type=\"simple\"><path d=\"M360,267.1 C360,286.8 360,314.22 360,335.73 \" fill=\"none\" id=\"E4-&gt;E5\" style=\"stroke: #A80036; stroke-width: 1.0; stroke-dasharray: 7.0,7.0;\"/><polygon fill=\"#A80036\" points=\"360,343.95,363,335.95,357,335.95,360,343.95\" style=\"stroke: #A80036; stroke-width: 1.0;\"/><text fill=\"#000000\" font-family=\"sans-serif\" font-size=\"13\" lengthAdjust=\"spacingAndGlyphs\" textLength=\"64\" x=\"361\" y=\"310.0669\">«depend»</text></a><!--MD5=[c5e8897d989ce984f93528998a7150fe]\n",
       "link E8 to E6--><a href=\"psysml:209e6958-61b2-4a39-8cf0-69b60dbfdefc\" target=\"_top\" title=\"psysml:209e6958-61b2-4a39-8cf0-69b60dbfdefc\" xlink:actuate=\"onRequest\" xlink:href=\"psysml:209e6958-61b2-4a39-8cf0-69b60dbfdefc\" xlink:show=\"new\" xlink:title=\"psysml:209e6958-61b2-4a39-8cf0-69b60dbfdefc\" xlink:type=\"simple\"><path d=\"M106.44,133.76 C97.3,143.01 88.09,154.51 83,167 C77.6,180.23 76.4,195.98 76.73,209.41 \" fill=\"none\" id=\"E8-&gt;E6\" style=\"stroke: #A80036; stroke-width: 1.0; stroke-dasharray: 7.0,7.0;\"/><polygon fill=\"#A80036\" points=\"77.12,217.43,79.7306,209.2946,73.7375,209.584,77.12,217.43\" style=\"stroke: #A80036; stroke-width: 1.0;\"/><text fill=\"#000000\" font-family=\"sans-serif\" font-size=\"13\" lengthAdjust=\"spacingAndGlyphs\" textLength=\"64\" x=\"84\" y=\"180.0669\">«depend»</text></a><!--MD5=[bfa3c8b0d15052fdf50ae9310b491027]\n",
       "link E8 to E7--><a href=\"psysml:209e6958-61b2-4a39-8cf0-69b60dbfdefc\" target=\"_top\" title=\"psysml:209e6958-61b2-4a39-8cf0-69b60dbfdefc\" xlink:actuate=\"onRequest\" xlink:href=\"psysml:209e6958-61b2-4a39-8cf0-69b60dbfdefc\" xlink:show=\"new\" xlink:title=\"psysml:209e6958-61b2-4a39-8cf0-69b60dbfdefc\" xlink:type=\"simple\"><path d=\"M146.58,133.5 C159.69,154.75 179.63,187.05 194.05,210.41 \" fill=\"none\" id=\"E8-&gt;E7\" style=\"stroke: #A80036; stroke-width: 1.0; stroke-dasharray: 7.0,7.0;\"/><polygon fill=\"#A80036\" points=\"198.33,217.35,196.6785,208.9671,191.5737,212.1201,198.33,217.35\" style=\"stroke: #A80036; stroke-width: 1.0;\"/><text fill=\"#000000\" font-family=\"sans-serif\" font-size=\"13\" lengthAdjust=\"spacingAndGlyphs\" textLength=\"64\" x=\"178\" y=\"180.0669\">«depend»</text></a><!--MD5=[2cd5f565acabb782be9e0afaa848a1b8]\n",
       "@startuml\r\n",
       " \r\n",
       "package \"DependencyTest\" as E1  [[psysml:eac58141-1d30-4dd4-8de7-f3beae76540f ]]  {\r\n",
       "package \"System\" as E2  [[psysml:13805519-bfbc-4c0f-88c4-787529a25875 ]]  {\r\n",
       "package \"Application Layer\" as E3  [[psysml:5348c3d7-5f8d-4656-8805-8961159c09b6 ]]  {\r\n",
       "}\r\n",
       "package \"Service Layer\" as E4  [[psysml:e92bea40-a3a7-48d4-b6b8-5548cc937669 ]]  {\r\n",
       "}\r\n",
       "package \"Data Layer\" as E5  [[psysml:9210d902-7ba4-4a43-8b80-75376691e6d0 ]]  {\r\n",
       "}\r\n",
       "}\r\n",
       "comp usage \"x\" as E6 << <<(U,orange) attribute>> [[psysml:d1a2f8b3-43fe-4bb6-bcd1-ae6c73505f04 ]] {\r\n",
       "}\r\n",
       "comp usage \"y\" as E7 << <<(U,orange) attribute>> [[psysml:ad948c0a-adc5-4c23-9b66-20666ae7e933 ]] {\r\n",
       "}\r\n",
       "comp usage \"z\" as E8 << <<(U,orange) attribute>> [[psysml:4e191771-f0c3-4f18-930e-d8147bece3b0 ]] {\r\n",
       "}\r\n",
       "}\r\n",
       "E3 ..>> E4 [[psysml:43ea743a-a860-452f-b433-717c56c39b79 ]] : <<depend>>\r\n",
       "E4 ..>> E5 [[psysml:2fd6f227-cfe3-4fe1-af5d-016c5bccfb5b ]] : <<depend>>\r\n",
       "E8 ..>> E6 [[psysml:209e6958-61b2-4a39-8cf0-69b60dbfdefc ]] : <<depend>>\r\n",
       "E8 ..>> E7 [[psysml:209e6958-61b2-4a39-8cf0-69b60dbfdefc ]] : <<depend>>\r\n",
       "@enduml\r\n",
       "\n",
       "PlantUML version 1.2020.13(Sat Jun 13 12:26:38 UTC 2020)\n",
       "(EPL source distribution)\n",
       "Java Runtime: OpenJDK Runtime Environment\n",
       "JVM: OpenJDK 64-Bit Server VM\n",
       "Default Encoding: UTF-8\n",
       "Language: en\n",
       "Country: null\n",
       "--></g></svg>"
      ]
     },
     "execution_count": 30,
     "metadata": {},
     "output_type": "execute_result"
    }
   ],
   "source": [
    "%viz --style=\"PLANTUML\" --view=\"Default\" \"DependencyTest\""
   ]
  },
  {
   "cell_type": "code",
   "execution_count": 31,
   "id": "4af18802",
   "metadata": {
    "execution": {
     "iopub.execute_input": "2021-10-25T08:20:45.961031Z",
     "iopub.status.busy": "2021-10-25T08:20:45.960628Z",
     "iopub.status.idle": "2021-10-25T08:20:45.997960Z",
     "shell.execute_reply": "2021-10-25T08:20:45.997589Z"
    }
   },
   "outputs": [
    {
     "data": {
      "image/svg+xml": [
       "<?xml version=\"1.0\" encoding=\"UTF-8\" standalone=\"no\"?><svg xmlns=\"http://www.w3.org/2000/svg\" xmlns:xlink=\"http://www.w3.org/1999/xlink\" contentScriptType=\"application/ecmascript\" contentStyleType=\"text/css\" height=\"449px\" preserveAspectRatio=\"none\" style=\"width:490px;height:449px;\" version=\"1.1\" viewBox=\"0 0 490 449\" width=\"490px\" zoomAndPan=\"magnify\"><defs><filter height=\"300%\" id=\"fa4p75o5ahpqr\" width=\"300%\" x=\"-1\" y=\"-1\"><feGaussianBlur result=\"blurOut\" stdDeviation=\"2.0\"/><feColorMatrix in=\"blurOut\" result=\"blurOut2\" type=\"matrix\" values=\"0 0 0 0 0 0 0 0 0 0 0 0 0 0 0 0 0 0 .4 0\"/><feOffset dx=\"4.0\" dy=\"4.0\" in=\"blurOut2\" result=\"blurOut3\"/><feBlend in=\"SourceGraphic\" in2=\"blurOut3\" mode=\"normal\"/></filter></defs><g><!--MD5=[fbc87193dbaf4d95561dea2c320d4a47]\n",
       "cluster E1--><a href=\"psysml:eac58141-1d30-4dd4-8de7-f3beae76540f\" target=\"_top\" title=\"psysml:eac58141-1d30-4dd4-8de7-f3beae76540f\" xlink:actuate=\"onRequest\" xlink:href=\"psysml:eac58141-1d30-4dd4-8de7-f3beae76540f\" xlink:show=\"new\" xlink:title=\"psysml:eac58141-1d30-4dd4-8de7-f3beae76540f\" xlink:type=\"simple\"><polygon fill=\"#FFFFFF\" filter=\"url(#fa4p75o5ahpqr)\" points=\"16,6,142,6,149,28.2969,468,28.2969,468,437,16,437,16,6\" style=\"stroke: #000000; stroke-width: 1.5;\"/><line style=\"stroke: #000000; stroke-width: 1.5;\" x1=\"16\" x2=\"149\" y1=\"28.2969\" y2=\"28.2969\"/><text fill=\"#000000\" font-family=\"sans-serif\" font-size=\"14\" font-weight=\"bold\" lengthAdjust=\"spacingAndGlyphs\" textLength=\"120\" x=\"20\" y=\"20.9951\">DependencyTest</text></a><!--MD5=[e4f7fae6ed58524ba242bb0b0d3be6b7]\n",
       "cluster E2--><a href=\"psysml:13805519-bfbc-4c0f-88c4-787529a25875\" target=\"_top\" title=\"psysml:13805519-bfbc-4c0f-88c4-787529a25875\" xlink:actuate=\"onRequest\" xlink:href=\"psysml:13805519-bfbc-4c0f-88c4-787529a25875\" xlink:show=\"new\" xlink:title=\"psysml:13805519-bfbc-4c0f-88c4-787529a25875\" xlink:type=\"simple\"><polygon fill=\"#FFFFFF\" filter=\"url(#fa4p75o5ahpqr)\" points=\"276,49,333,49,340,71.2969,444,71.2969,444,413,276,413,276,49\" style=\"stroke: #000000; stroke-width: 1.5;\"/><line style=\"stroke: #000000; stroke-width: 1.5;\" x1=\"276\" x2=\"340\" y1=\"71.2969\" y2=\"71.2969\"/><text fill=\"#000000\" font-family=\"sans-serif\" font-size=\"14\" font-weight=\"bold\" lengthAdjust=\"spacingAndGlyphs\" textLength=\"51\" x=\"280\" y=\"63.9951\">System</text></a><!--MD5=[60a26617385b1d2d0262a64233df1f8d]\n",
       "class E6--><a href=\"psysml:d1a2f8b3-43fe-4bb6-bcd1-ae6c73505f04\" target=\"_top\" title=\"psysml:d1a2f8b3-43fe-4bb6-bcd1-ae6c73505f04\" xlink:actuate=\"onRequest\" xlink:href=\"psysml:d1a2f8b3-43fe-4bb6-bcd1-ae6c73505f04\" xlink:show=\"new\" xlink:title=\"psysml:d1a2f8b3-43fe-4bb6-bcd1-ae6c73505f04\" xlink:type=\"simple\"><rect fill=\"#FEFECE\" filter=\"url(#fa4p75o5ahpqr)\" height=\"45.9375\" id=\"E6\" rx=\"10\" ry=\"10\" style=\"stroke: #A80036; stroke-width: 1.5;\" width=\"97\" x=\"31.5\" y=\"217.5\"/><ellipse cx=\"46.5\" cy=\"236.4688\" fill=\"#FFA500\" rx=\"11\" ry=\"11\" style=\"stroke: #A80036; stroke-width: 1.0;\"/><path d=\"M46.25,241.9375 Q44.5,241.9375 43.5469,240.9063 Q42.6094,239.8594 42.6094,238.0156 L42.6094,231.125 L44.6719,231.125 L44.6719,231.2813 Q44.5781,231.375 44.5469,231.5156 Q44.5313,231.6406 44.5313,231.9063 L44.5313,238.0313 Q44.5313,239.125 44.9063,239.75 Q45.2813,240.375 46.2656,240.375 Q47.25,240.375 47.6406,239.75 Q48.0313,239.125 48.0313,237.9844 L48.0313,231.125 L49.9063,231.125 L49.9063,237.9688 Q49.9063,240 48.875,240.9688 Q47.8594,241.9375 46.25,241.9375 Z \"/><text fill=\"#000000\" font-family=\"sans-serif\" font-size=\"12\" font-style=\"italic\" lengthAdjust=\"spacingAndGlyphs\" textLength=\"69\" x=\"58.5\" y=\"233.6387\">«attribute»</text><text fill=\"#000000\" font-family=\"sans-serif\" font-size=\"12\" lengthAdjust=\"spacingAndGlyphs\" textLength=\"6\" x=\"90\" y=\"247.6074\">x</text><line style=\"stroke: #A80036; stroke-width: 1.5;\" x1=\"32.5\" x2=\"127.5\" y1=\"255.4375\" y2=\"255.4375\"/></a><!--MD5=[2156ba9850f5573cc1fc38a6a4b2f02b]\n",
       "class E7--><a href=\"psysml:ad948c0a-adc5-4c23-9b66-20666ae7e933\" target=\"_top\" title=\"psysml:ad948c0a-adc5-4c23-9b66-20666ae7e933\" xlink:actuate=\"onRequest\" xlink:href=\"psysml:ad948c0a-adc5-4c23-9b66-20666ae7e933\" xlink:show=\"new\" xlink:title=\"psysml:ad948c0a-adc5-4c23-9b66-20666ae7e933\" xlink:type=\"simple\"><rect fill=\"#FEFECE\" filter=\"url(#fa4p75o5ahpqr)\" height=\"45.9375\" id=\"E7\" rx=\"10\" ry=\"10\" style=\"stroke: #A80036; stroke-width: 1.5;\" width=\"97\" x=\"163.5\" y=\"217.5\"/><ellipse cx=\"178.5\" cy=\"236.4688\" fill=\"#FFA500\" rx=\"11\" ry=\"11\" style=\"stroke: #A80036; stroke-width: 1.0;\"/><path d=\"M178.25,241.9375 Q176.5,241.9375 175.5469,240.9063 Q174.6094,239.8594 174.6094,238.0156 L174.6094,231.125 L176.6719,231.125 L176.6719,231.2813 Q176.5781,231.375 176.5469,231.5156 Q176.5313,231.6406 176.5313,231.9063 L176.5313,238.0313 Q176.5313,239.125 176.9063,239.75 Q177.2813,240.375 178.2656,240.375 Q179.25,240.375 179.6406,239.75 Q180.0313,239.125 180.0313,237.9844 L180.0313,231.125 L181.9063,231.125 L181.9063,237.9688 Q181.9063,240 180.875,240.9688 Q179.8594,241.9375 178.25,241.9375 Z \"/><text fill=\"#000000\" font-family=\"sans-serif\" font-size=\"12\" font-style=\"italic\" lengthAdjust=\"spacingAndGlyphs\" textLength=\"69\" x=\"190.5\" y=\"233.6387\">«attribute»</text><text fill=\"#000000\" font-family=\"sans-serif\" font-size=\"12\" lengthAdjust=\"spacingAndGlyphs\" textLength=\"6\" x=\"222\" y=\"247.6074\">y</text><line style=\"stroke: #A80036; stroke-width: 1.5;\" x1=\"164.5\" x2=\"259.5\" y1=\"255.4375\" y2=\"255.4375\"/></a><!--MD5=[b9389687b975829384b498ac4b7476b2]\n",
       "class E8--><a href=\"psysml:4e191771-f0c3-4f18-930e-d8147bece3b0\" target=\"_top\" title=\"psysml:4e191771-f0c3-4f18-930e-d8147bece3b0\" xlink:actuate=\"onRequest\" xlink:href=\"psysml:4e191771-f0c3-4f18-930e-d8147bece3b0\" xlink:show=\"new\" xlink:title=\"psysml:4e191771-f0c3-4f18-930e-d8147bece3b0\" xlink:type=\"simple\"><rect fill=\"#FEFECE\" filter=\"url(#fa4p75o5ahpqr)\" height=\"45.9375\" id=\"E8\" rx=\"10\" ry=\"10\" style=\"stroke: #A80036; stroke-width: 1.5;\" width=\"97\" x=\"84.5\" y=\"87.5\"/><ellipse cx=\"99.5\" cy=\"106.4688\" fill=\"#FFA500\" rx=\"11\" ry=\"11\" style=\"stroke: #A80036; stroke-width: 1.0;\"/><path d=\"M99.25,111.9375 Q97.5,111.9375 96.5469,110.9063 Q95.6094,109.8594 95.6094,108.0156 L95.6094,101.125 L97.6719,101.125 L97.6719,101.2813 Q97.5781,101.375 97.5469,101.5156 Q97.5313,101.6406 97.5313,101.9063 L97.5313,108.0313 Q97.5313,109.125 97.9063,109.75 Q98.2813,110.375 99.2656,110.375 Q100.25,110.375 100.6406,109.75 Q101.0313,109.125 101.0313,107.9844 L101.0313,101.125 L102.9063,101.125 L102.9063,107.9688 Q102.9063,110 101.875,110.9688 Q100.8594,111.9375 99.25,111.9375 Z \"/><text fill=\"#000000\" font-family=\"sans-serif\" font-size=\"12\" font-style=\"italic\" lengthAdjust=\"spacingAndGlyphs\" textLength=\"69\" x=\"111.5\" y=\"103.6387\">«attribute»</text><text fill=\"#000000\" font-family=\"sans-serif\" font-size=\"12\" lengthAdjust=\"spacingAndGlyphs\" textLength=\"5\" x=\"143.5\" y=\"117.6074\">z</text><line style=\"stroke: #A80036; stroke-width: 1.5;\" x1=\"85.5\" x2=\"180.5\" y1=\"125.4375\" y2=\"125.4375\"/></a><a href=\"psysml:5348c3d7-5f8d-4656-8805-8961159c09b6\" target=\"_top\" title=\"psysml:5348c3d7-5f8d-4656-8805-8961159c09b6\" xlink:actuate=\"onRequest\" xlink:href=\"psysml:5348c3d7-5f8d-4656-8805-8961159c09b6\" xlink:show=\"new\" xlink:title=\"psysml:5348c3d7-5f8d-4656-8805-8961159c09b6\" xlink:type=\"simple\"><polygon fill=\"#FFFFFF\" filter=\"url(#fa4p75o5ahpqr)\" points=\"292.5,84,413.5,84,420.5,106.2969,427.5,106.2969,427.5,136.5938,292.5,136.5938,292.5,84\" style=\"stroke: #000000; stroke-width: 1.5;\"/><line style=\"stroke: #000000; stroke-width: 1.5;\" x1=\"292.5\" x2=\"420.5\" y1=\"106.2969\" y2=\"106.2969\"/><text fill=\"#000000\" font-family=\"sans-serif\" font-size=\"14\" font-weight=\"bold\" lengthAdjust=\"spacingAndGlyphs\" textLength=\"115\" x=\"296.5\" y=\"98.9951\">Application Layer</text></a><a href=\"psysml:e92bea40-a3a7-48d4-b6b8-5548cc937669\" target=\"_top\" title=\"psysml:e92bea40-a3a7-48d4-b6b8-5548cc937669\" xlink:actuate=\"onRequest\" xlink:href=\"psysml:e92bea40-a3a7-48d4-b6b8-5548cc937669\" xlink:show=\"new\" xlink:title=\"psysml:e92bea40-a3a7-48d4-b6b8-5548cc937669\" xlink:type=\"simple\"><polygon fill=\"#FFFFFF\" filter=\"url(#fa4p75o5ahpqr)\" points=\"305,214,401,214,408,236.2969,415,236.2969,415,266.5938,305,266.5938,305,214\" style=\"stroke: #000000; stroke-width: 1.5;\"/><line style=\"stroke: #000000; stroke-width: 1.5;\" x1=\"305\" x2=\"408\" y1=\"236.2969\" y2=\"236.2969\"/><text fill=\"#000000\" font-family=\"sans-serif\" font-size=\"14\" font-weight=\"bold\" lengthAdjust=\"spacingAndGlyphs\" textLength=\"90\" x=\"309\" y=\"228.9951\">Service Layer</text></a><a href=\"psysml:9210d902-7ba4-4a43-8b80-75376691e6d0\" target=\"_top\" title=\"psysml:9210d902-7ba4-4a43-8b80-75376691e6d0\" xlink:actuate=\"onRequest\" xlink:href=\"psysml:9210d902-7ba4-4a43-8b80-75376691e6d0\" xlink:show=\"new\" xlink:title=\"psysml:9210d902-7ba4-4a43-8b80-75376691e6d0\" xlink:type=\"simple\"><polygon fill=\"#FFFFFF\" filter=\"url(#fa4p75o5ahpqr)\" points=\"314,344,392,344,399,366.2969,406,366.2969,406,396.5938,314,396.5938,314,344\" style=\"stroke: #000000; stroke-width: 1.5;\"/><line style=\"stroke: #000000; stroke-width: 1.5;\" x1=\"314\" x2=\"399\" y1=\"366.2969\" y2=\"366.2969\"/><text fill=\"#000000\" font-family=\"sans-serif\" font-size=\"14\" font-weight=\"bold\" lengthAdjust=\"spacingAndGlyphs\" textLength=\"72\" x=\"318\" y=\"358.9951\">Data Layer</text></a><!--MD5=[af87c684e3b0d8be13c1a698a818ef1e]\n",
       "link E3 to E4--><a href=\"psysml:43ea743a-a860-452f-b433-717c56c39b79\" target=\"_top\" title=\"psysml:43ea743a-a860-452f-b433-717c56c39b79\" xlink:actuate=\"onRequest\" xlink:href=\"psysml:43ea743a-a860-452f-b433-717c56c39b79\" xlink:show=\"new\" xlink:title=\"psysml:43ea743a-a860-452f-b433-717c56c39b79\" xlink:type=\"simple\"><path d=\"M360,137.1 C360,156.8 360,184.22 360,205.73 \" fill=\"none\" id=\"E3-&gt;E4\" style=\"stroke: #A80036; stroke-width: 1.0; stroke-dasharray: 7.0,7.0;\"/><polygon fill=\"#A80036\" points=\"360,213.95,363,205.95,357,205.95,360,213.95\" style=\"stroke: #A80036; stroke-width: 1.0;\"/><text fill=\"#000000\" font-family=\"sans-serif\" font-size=\"13\" lengthAdjust=\"spacingAndGlyphs\" textLength=\"64\" x=\"361\" y=\"180.0669\">«depend»</text></a><!--MD5=[1b7591eae5389033d8d09a9d6721a717]\n",
       "link E4 to E5--><a href=\"psysml:2fd6f227-cfe3-4fe1-af5d-016c5bccfb5b\" target=\"_top\" title=\"psysml:2fd6f227-cfe3-4fe1-af5d-016c5bccfb5b\" xlink:actuate=\"onRequest\" xlink:href=\"psysml:2fd6f227-cfe3-4fe1-af5d-016c5bccfb5b\" xlink:show=\"new\" xlink:title=\"psysml:2fd6f227-cfe3-4fe1-af5d-016c5bccfb5b\" xlink:type=\"simple\"><path d=\"M360,267.1 C360,286.8 360,314.22 360,335.73 \" fill=\"none\" id=\"E4-&gt;E5\" style=\"stroke: #A80036; stroke-width: 1.0; stroke-dasharray: 7.0,7.0;\"/><polygon fill=\"#A80036\" points=\"360,343.95,363,335.95,357,335.95,360,343.95\" style=\"stroke: #A80036; stroke-width: 1.0;\"/><text fill=\"#000000\" font-family=\"sans-serif\" font-size=\"13\" lengthAdjust=\"spacingAndGlyphs\" textLength=\"64\" x=\"361\" y=\"310.0669\">«depend»</text></a><!--MD5=[c5e8897d989ce984f93528998a7150fe]\n",
       "link E8 to E6--><a href=\"psysml:209e6958-61b2-4a39-8cf0-69b60dbfdefc\" target=\"_top\" title=\"psysml:209e6958-61b2-4a39-8cf0-69b60dbfdefc\" xlink:actuate=\"onRequest\" xlink:href=\"psysml:209e6958-61b2-4a39-8cf0-69b60dbfdefc\" xlink:show=\"new\" xlink:title=\"psysml:209e6958-61b2-4a39-8cf0-69b60dbfdefc\" xlink:type=\"simple\"><path d=\"M106.44,133.76 C97.3,143.01 88.09,154.51 83,167 C77.6,180.23 76.4,195.98 76.73,209.41 \" fill=\"none\" id=\"E8-&gt;E6\" style=\"stroke: #A80036; stroke-width: 1.0; stroke-dasharray: 7.0,7.0;\"/><polygon fill=\"#A80036\" points=\"77.12,217.43,79.7306,209.2946,73.7375,209.584,77.12,217.43\" style=\"stroke: #A80036; stroke-width: 1.0;\"/><text fill=\"#000000\" font-family=\"sans-serif\" font-size=\"13\" lengthAdjust=\"spacingAndGlyphs\" textLength=\"64\" x=\"84\" y=\"180.0669\">«depend»</text></a><!--MD5=[bfa3c8b0d15052fdf50ae9310b491027]\n",
       "link E8 to E7--><a href=\"psysml:209e6958-61b2-4a39-8cf0-69b60dbfdefc\" target=\"_top\" title=\"psysml:209e6958-61b2-4a39-8cf0-69b60dbfdefc\" xlink:actuate=\"onRequest\" xlink:href=\"psysml:209e6958-61b2-4a39-8cf0-69b60dbfdefc\" xlink:show=\"new\" xlink:title=\"psysml:209e6958-61b2-4a39-8cf0-69b60dbfdefc\" xlink:type=\"simple\"><path d=\"M146.58,133.5 C159.69,154.75 179.63,187.05 194.05,210.41 \" fill=\"none\" id=\"E8-&gt;E7\" style=\"stroke: #A80036; stroke-width: 1.0; stroke-dasharray: 7.0,7.0;\"/><polygon fill=\"#A80036\" points=\"198.33,217.35,196.6785,208.9671,191.5737,212.1201,198.33,217.35\" style=\"stroke: #A80036; stroke-width: 1.0;\"/><text fill=\"#000000\" font-family=\"sans-serif\" font-size=\"13\" lengthAdjust=\"spacingAndGlyphs\" textLength=\"64\" x=\"178\" y=\"180.0669\">«depend»</text></a><!--MD5=[2cd5f565acabb782be9e0afaa848a1b8]\n",
       "@startuml\r\n",
       " \r\n",
       "package \"DependencyTest\" as E1  [[psysml:eac58141-1d30-4dd4-8de7-f3beae76540f ]]  {\r\n",
       "package \"System\" as E2  [[psysml:13805519-bfbc-4c0f-88c4-787529a25875 ]]  {\r\n",
       "package \"Application Layer\" as E3  [[psysml:5348c3d7-5f8d-4656-8805-8961159c09b6 ]]  {\r\n",
       "}\r\n",
       "package \"Service Layer\" as E4  [[psysml:e92bea40-a3a7-48d4-b6b8-5548cc937669 ]]  {\r\n",
       "}\r\n",
       "package \"Data Layer\" as E5  [[psysml:9210d902-7ba4-4a43-8b80-75376691e6d0 ]]  {\r\n",
       "}\r\n",
       "}\r\n",
       "comp usage \"x\" as E6 << <<(U,orange) attribute>> [[psysml:d1a2f8b3-43fe-4bb6-bcd1-ae6c73505f04 ]] {\r\n",
       "}\r\n",
       "comp usage \"y\" as E7 << <<(U,orange) attribute>> [[psysml:ad948c0a-adc5-4c23-9b66-20666ae7e933 ]] {\r\n",
       "}\r\n",
       "comp usage \"z\" as E8 << <<(U,orange) attribute>> [[psysml:4e191771-f0c3-4f18-930e-d8147bece3b0 ]] {\r\n",
       "}\r\n",
       "}\r\n",
       "E3 ..>> E4 [[psysml:43ea743a-a860-452f-b433-717c56c39b79 ]] : <<depend>>\r\n",
       "E4 ..>> E5 [[psysml:2fd6f227-cfe3-4fe1-af5d-016c5bccfb5b ]] : <<depend>>\r\n",
       "E8 ..>> E6 [[psysml:209e6958-61b2-4a39-8cf0-69b60dbfdefc ]] : <<depend>>\r\n",
       "E8 ..>> E7 [[psysml:209e6958-61b2-4a39-8cf0-69b60dbfdefc ]] : <<depend>>\r\n",
       "@enduml\r\n",
       "\n",
       "PlantUML version 1.2020.13(Sat Jun 13 12:26:38 UTC 2020)\n",
       "(EPL source distribution)\n",
       "Java Runtime: OpenJDK Runtime Environment\n",
       "JVM: OpenJDK 64-Bit Server VM\n",
       "Default Encoding: UTF-8\n",
       "Language: en\n",
       "Country: null\n",
       "--></g></svg>"
      ]
     },
     "execution_count": 31,
     "metadata": {},
     "output_type": "execute_result"
    }
   ],
   "source": [
    "%viz --style=\"PLANTUML\" --view=\"Tree\" \"DependencyTest\""
   ]
  },
  {
   "cell_type": "code",
   "execution_count": 32,
   "id": "8fb97fe4",
   "metadata": {
    "execution": {
     "iopub.execute_input": "2021-10-25T08:20:46.047112Z",
     "iopub.status.busy": "2021-10-25T08:20:46.046698Z",
     "iopub.status.idle": "2021-10-25T08:20:46.141540Z",
     "shell.execute_reply": "2021-10-25T08:20:46.139745Z"
    }
   },
   "outputs": [
    {
     "data": {
      "image/svg+xml": [
       "<?xml version=\"1.0\" encoding=\"UTF-8\" standalone=\"no\"?><svg xmlns=\"http://www.w3.org/2000/svg\" xmlns:xlink=\"http://www.w3.org/1999/xlink\" contentScriptType=\"application/ecmascript\" contentStyleType=\"text/css\" height=\"300px\" preserveAspectRatio=\"none\" style=\"width:603px;height:300px;background:#000000;\" version=\"1.1\" viewBox=\"0 0 603 300\" width=\"603px\" zoomAndPan=\"magnify\"><defs/><g><rect fill=\"#24001F\" height=\"1\" style=\"stroke: #24001F; stroke-width: 1.0;\" width=\"1\" x=\"0\" y=\"0\"/><rect fill=\"#FFFFFF\" height=\"202.8012\" style=\"stroke: #FFFFFF; stroke-width: 1.0;\" width=\"602\" x=\"0\" y=\"0\"/><text fill=\"#000000\" font-family=\"sans-serif\" font-size=\"12\" font-weight=\"bold\" lengthAdjust=\"spacingAndGlyphs\" textLength=\"139\" x=\"5\" y=\"16.1387\">Welcome to PlantUML!</text><text fill=\"#000000\" font-family=\"sans-serif\" font-size=\"12\" lengthAdjust=\"spacingAndGlyphs\" textLength=\"0\" x=\"9\" y=\"30.1074\"/><text fill=\"#000000\" font-family=\"sans-serif\" font-size=\"12\" lengthAdjust=\"spacingAndGlyphs\" textLength=\"293\" x=\"5\" y=\"44.0762\">If you use this software, you accept its license.</text><text fill=\"#000000\" font-family=\"sans-serif\" font-size=\"12\" lengthAdjust=\"spacingAndGlyphs\" textLength=\"107\" x=\"5\" y=\"58.0449\">(details by typing</text><text fill=\"#000000\" font-family=\"monospace\" font-size=\"12\" lengthAdjust=\"spacingAndGlyphs\" textLength=\"42\" x=\"116\" y=\"58.595\">license</text><text fill=\"#000000\" font-family=\"sans-serif\" font-size=\"12\" lengthAdjust=\"spacingAndGlyphs\" textLength=\"56\" x=\"162\" y=\"58.0449\">keyword)</text><text fill=\"#000000\" font-family=\"sans-serif\" font-size=\"12\" lengthAdjust=\"spacingAndGlyphs\" textLength=\"0\" x=\"9\" y=\"72.0137\"/><text fill=\"#000000\" font-family=\"sans-serif\" font-size=\"12\" lengthAdjust=\"spacingAndGlyphs\" textLength=\"283\" x=\"5\" y=\"85.9824\">You can start with a simple UML Diagram like:</text><text fill=\"#000000\" font-family=\"sans-serif\" font-size=\"12\" lengthAdjust=\"spacingAndGlyphs\" textLength=\"0\" x=\"9\" y=\"99.9512\"/><text fill=\"#000000\" font-family=\"monospace\" font-size=\"12\" lengthAdjust=\"spacingAndGlyphs\" textLength=\"102\" x=\"5\" y=\"113.0893\">Bob-&gt;Alice: Hello</text><text fill=\"#000000\" font-family=\"sans-serif\" font-size=\"12\" lengthAdjust=\"spacingAndGlyphs\" textLength=\"0\" x=\"9\" y=\"126.508\"/><text fill=\"#000000\" font-family=\"sans-serif\" font-size=\"12\" lengthAdjust=\"spacingAndGlyphs\" textLength=\"14\" x=\"5\" y=\"140.4768\">Or</text><text fill=\"#000000\" font-family=\"sans-serif\" font-size=\"12\" lengthAdjust=\"spacingAndGlyphs\" textLength=\"0\" x=\"9\" y=\"154.4455\"/><text fill=\"#000000\" font-family=\"monospace\" font-size=\"12\" lengthAdjust=\"spacingAndGlyphs\" textLength=\"78\" x=\"5\" y=\"167.5837\">class Example</text><text fill=\"#000000\" font-family=\"sans-serif\" font-size=\"12\" lengthAdjust=\"spacingAndGlyphs\" textLength=\"0\" x=\"9\" y=\"181.0023\"/><text fill=\"#000000\" font-family=\"sans-serif\" font-size=\"12\" lengthAdjust=\"spacingAndGlyphs\" textLength=\"349\" x=\"5\" y=\"194.9711\">You will find more information about PlantUML syntax on</text><text fill=\"#000000\" font-family=\"sans-serif\" font-size=\"12\" lengthAdjust=\"spacingAndGlyphs\" text-decoration=\"underline\" textLength=\"129\" x=\"358\" y=\"194.9711\">https://plantuml.com</text><image height=\"71\" width=\"80\" x=\"516\" xlink:href=\"data:image/png;base64,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\" y=\"6\"/><rect fill=\"#000000\" height=\"96.4844\" style=\"stroke: #000000; stroke-width: 1.0;\" width=\"602\" x=\"0\" y=\"202.8012\"/><rect fill=\"#33FF02\" height=\"21.2969\" style=\"stroke: #33FF02; stroke-width: 1.0;\" width=\"145\" x=\"5\" y=\"207.8012\"/><text fill=\"#000000\" font-family=\"sans-serif\" font-size=\"14\" font-weight=\"bold\" lengthAdjust=\"spacingAndGlyphs\" textLength=\"143\" x=\"6\" y=\"222.8012\">[From string (line 2) ]</text><text fill=\"#33FF02\" font-family=\"sans-serif\" font-size=\"14\" font-weight=\"bold\" lengthAdjust=\"spacingAndGlyphs\" textLength=\"0\" x=\"9\" y=\"243.0981\"/><text fill=\"#33FF02\" font-family=\"sans-serif\" font-size=\"14\" font-weight=\"bold\" lengthAdjust=\"spacingAndGlyphs\" textLength=\"70\" x=\"5\" y=\"259.3949\">@startuml</text><text fill=\"#33FF02\" font-family=\"sans-serif\" font-size=\"14\" font-weight=\"bold\" lengthAdjust=\"spacingAndGlyphs\" textLength=\"0\" x=\"9\" y=\"275.6918\"/><text fill=\"#FF0000\" font-family=\"sans-serif\" font-size=\"14\" font-weight=\"bold\" lengthAdjust=\"spacingAndGlyphs\" textLength=\"124\" x=\"9\" y=\"291.9887\">Empty description</text><!--MD5=[f59edd8218d337f74d0c332fc6737304]\n",
       "@startuml\r\n",
       " \r\n",
       "@enduml\r\n",
       "\n",
       "PlantUML version 1.2020.13(Sat Jun 13 12:26:38 UTC 2020)\n",
       "(EPL source distribution)\n",
       "Java Runtime: OpenJDK Runtime Environment\n",
       "JVM: OpenJDK 64-Bit Server VM\n",
       "Default Encoding: UTF-8\n",
       "Language: en\n",
       "Country: null\n",
       "--></g></svg>"
      ]
     },
     "execution_count": 32,
     "metadata": {},
     "output_type": "execute_result"
    }
   ],
   "source": [
    "%viz --style=\"PLANTUML\" --view=\"State\" \"DependencyTest\""
   ]
  },
  {
   "cell_type": "code",
   "execution_count": 33,
   "id": "4781b35c",
   "metadata": {
    "execution": {
     "iopub.execute_input": "2021-10-25T08:20:46.190279Z",
     "iopub.status.busy": "2021-10-25T08:20:46.189883Z",
     "iopub.status.idle": "2021-10-25T08:20:46.234358Z",
     "shell.execute_reply": "2021-10-25T08:20:46.233992Z"
    }
   },
   "outputs": [
    {
     "data": {
      "image/svg+xml": [
       "<?xml version=\"1.0\" encoding=\"UTF-8\" standalone=\"no\"?><svg xmlns=\"http://www.w3.org/2000/svg\" xmlns:xlink=\"http://www.w3.org/1999/xlink\" contentScriptType=\"application/ecmascript\" contentStyleType=\"text/css\" height=\"361px\" preserveAspectRatio=\"none\" style=\"width:490px;height:361px;\" version=\"1.1\" viewBox=\"0 0 490 361\" width=\"490px\" zoomAndPan=\"magnify\"><defs><filter height=\"300%\" id=\"fh1ld5jlj69oe\" width=\"300%\" x=\"-1\" y=\"-1\"><feGaussianBlur result=\"blurOut\" stdDeviation=\"2.0\"/><feColorMatrix in=\"blurOut\" result=\"blurOut2\" type=\"matrix\" values=\"0 0 0 0 0 0 0 0 0 0 0 0 0 0 0 0 0 0 .4 0\"/><feOffset dx=\"4.0\" dy=\"4.0\" in=\"blurOut2\" result=\"blurOut3\"/><feBlend in=\"SourceGraphic\" in2=\"blurOut3\" mode=\"normal\"/></filter></defs><g><!--MD5=[fbc87193dbaf4d95561dea2c320d4a47]\n",
       "cluster E1--><a href=\"psysml:eac58141-1d30-4dd4-8de7-f3beae76540f\" target=\"_top\" title=\"psysml:eac58141-1d30-4dd4-8de7-f3beae76540f\" xlink:actuate=\"onRequest\" xlink:href=\"psysml:eac58141-1d30-4dd4-8de7-f3beae76540f\" xlink:show=\"new\" xlink:title=\"psysml:eac58141-1d30-4dd4-8de7-f3beae76540f\" xlink:type=\"simple\"><polygon fill=\"#FFFFFF\" filter=\"url(#fh1ld5jlj69oe)\" points=\"16,6,142,6,149,28.2969,468,28.2969,468,349,16,349,16,6\" style=\"stroke: #000000; stroke-width: 1.5;\"/><line style=\"stroke: #000000; stroke-width: 1.5;\" x1=\"16\" x2=\"149\" y1=\"28.2969\" y2=\"28.2969\"/><text fill=\"#000000\" font-family=\"sans-serif\" font-size=\"14\" font-weight=\"bold\" lengthAdjust=\"spacingAndGlyphs\" textLength=\"120\" x=\"20\" y=\"20.9951\">DependencyTest</text></a><!--MD5=[e4f7fae6ed58524ba242bb0b0d3be6b7]\n",
       "cluster E2--><a href=\"psysml:13805519-bfbc-4c0f-88c4-787529a25875\" target=\"_top\" title=\"psysml:13805519-bfbc-4c0f-88c4-787529a25875\" xlink:actuate=\"onRequest\" xlink:href=\"psysml:13805519-bfbc-4c0f-88c4-787529a25875\" xlink:show=\"new\" xlink:title=\"psysml:13805519-bfbc-4c0f-88c4-787529a25875\" xlink:type=\"simple\"><polygon fill=\"#FFFFFF\" filter=\"url(#fh1ld5jlj69oe)\" points=\"276,49,333,49,340,71.2969,444,71.2969,444,325,276,325,276,49\" style=\"stroke: #000000; stroke-width: 1.5;\"/><line style=\"stroke: #000000; stroke-width: 1.5;\" x1=\"276\" x2=\"340\" y1=\"71.2969\" y2=\"71.2969\"/><text fill=\"#000000\" font-family=\"sans-serif\" font-size=\"14\" font-weight=\"bold\" lengthAdjust=\"spacingAndGlyphs\" textLength=\"51\" x=\"280\" y=\"63.9951\">System</text></a><!--MD5=[60a26617385b1d2d0262a64233df1f8d]\n",
       "class E6--><a href=\"psysml:d1a2f8b3-43fe-4bb6-bcd1-ae6c73505f04\" target=\"_top\" title=\"psysml:d1a2f8b3-43fe-4bb6-bcd1-ae6c73505f04\" xlink:actuate=\"onRequest\" xlink:href=\"psysml:d1a2f8b3-43fe-4bb6-bcd1-ae6c73505f04\" xlink:show=\"new\" xlink:title=\"psysml:d1a2f8b3-43fe-4bb6-bcd1-ae6c73505f04\" xlink:type=\"simple\"><rect fill=\"#FEFECE\" filter=\"url(#fh1ld5jlj69oe)\" height=\"45.9375\" id=\"E6\" rx=\"10\" ry=\"10\" style=\"stroke: #A80036; stroke-width: 1.5;\" width=\"97\" x=\"31.5\" y=\"173.5\"/><ellipse cx=\"46.5\" cy=\"192.4688\" fill=\"#FFA500\" rx=\"11\" ry=\"11\" style=\"stroke: #A80036; stroke-width: 1.0;\"/><path d=\"M46.25,197.9375 Q44.5,197.9375 43.5469,196.9063 Q42.6094,195.8594 42.6094,194.0156 L42.6094,187.125 L44.6719,187.125 L44.6719,187.2813 Q44.5781,187.375 44.5469,187.5156 Q44.5313,187.6406 44.5313,187.9063 L44.5313,194.0313 Q44.5313,195.125 44.9063,195.75 Q45.2813,196.375 46.2656,196.375 Q47.25,196.375 47.6406,195.75 Q48.0313,195.125 48.0313,193.9844 L48.0313,187.125 L49.9063,187.125 L49.9063,193.9688 Q49.9063,196 48.875,196.9688 Q47.8594,197.9375 46.25,197.9375 Z \"/><text fill=\"#000000\" font-family=\"sans-serif\" font-size=\"12\" font-style=\"italic\" lengthAdjust=\"spacingAndGlyphs\" textLength=\"69\" x=\"58.5\" y=\"189.6387\">«attribute»</text><text fill=\"#000000\" font-family=\"sans-serif\" font-size=\"12\" lengthAdjust=\"spacingAndGlyphs\" textLength=\"6\" x=\"90\" y=\"203.6074\">x</text><line style=\"stroke: #A80036; stroke-width: 1.5;\" x1=\"32.5\" x2=\"127.5\" y1=\"211.4375\" y2=\"211.4375\"/></a><!--MD5=[2156ba9850f5573cc1fc38a6a4b2f02b]\n",
       "class E7--><a href=\"psysml:ad948c0a-adc5-4c23-9b66-20666ae7e933\" target=\"_top\" title=\"psysml:ad948c0a-adc5-4c23-9b66-20666ae7e933\" xlink:actuate=\"onRequest\" xlink:href=\"psysml:ad948c0a-adc5-4c23-9b66-20666ae7e933\" xlink:show=\"new\" xlink:title=\"psysml:ad948c0a-adc5-4c23-9b66-20666ae7e933\" xlink:type=\"simple\"><rect fill=\"#FEFECE\" filter=\"url(#fh1ld5jlj69oe)\" height=\"45.9375\" id=\"E7\" rx=\"10\" ry=\"10\" style=\"stroke: #A80036; stroke-width: 1.5;\" width=\"97\" x=\"163.5\" y=\"173.5\"/><ellipse cx=\"178.5\" cy=\"192.4688\" fill=\"#FFA500\" rx=\"11\" ry=\"11\" style=\"stroke: #A80036; stroke-width: 1.0;\"/><path d=\"M178.25,197.9375 Q176.5,197.9375 175.5469,196.9063 Q174.6094,195.8594 174.6094,194.0156 L174.6094,187.125 L176.6719,187.125 L176.6719,187.2813 Q176.5781,187.375 176.5469,187.5156 Q176.5313,187.6406 176.5313,187.9063 L176.5313,194.0313 Q176.5313,195.125 176.9063,195.75 Q177.2813,196.375 178.2656,196.375 Q179.25,196.375 179.6406,195.75 Q180.0313,195.125 180.0313,193.9844 L180.0313,187.125 L181.9063,187.125 L181.9063,193.9688 Q181.9063,196 180.875,196.9688 Q179.8594,197.9375 178.25,197.9375 Z \"/><text fill=\"#000000\" font-family=\"sans-serif\" font-size=\"12\" font-style=\"italic\" lengthAdjust=\"spacingAndGlyphs\" textLength=\"69\" x=\"190.5\" y=\"189.6387\">«attribute»</text><text fill=\"#000000\" font-family=\"sans-serif\" font-size=\"12\" lengthAdjust=\"spacingAndGlyphs\" textLength=\"6\" x=\"222\" y=\"203.6074\">y</text><line style=\"stroke: #A80036; stroke-width: 1.5;\" x1=\"164.5\" x2=\"259.5\" y1=\"211.4375\" y2=\"211.4375\"/></a><!--MD5=[b9389687b975829384b498ac4b7476b2]\n",
       "class E8--><a href=\"psysml:4e191771-f0c3-4f18-930e-d8147bece3b0\" target=\"_top\" title=\"psysml:4e191771-f0c3-4f18-930e-d8147bece3b0\" xlink:actuate=\"onRequest\" xlink:href=\"psysml:4e191771-f0c3-4f18-930e-d8147bece3b0\" xlink:show=\"new\" xlink:title=\"psysml:4e191771-f0c3-4f18-930e-d8147bece3b0\" xlink:type=\"simple\"><rect fill=\"#FEFECE\" filter=\"url(#fh1ld5jlj69oe)\" height=\"45.9375\" id=\"E8\" rx=\"10\" ry=\"10\" style=\"stroke: #A80036; stroke-width: 1.5;\" width=\"97\" x=\"84.5\" y=\"87.5\"/><ellipse cx=\"99.5\" cy=\"106.4688\" fill=\"#FFA500\" rx=\"11\" ry=\"11\" style=\"stroke: #A80036; stroke-width: 1.0;\"/><path d=\"M99.25,111.9375 Q97.5,111.9375 96.5469,110.9063 Q95.6094,109.8594 95.6094,108.0156 L95.6094,101.125 L97.6719,101.125 L97.6719,101.2813 Q97.5781,101.375 97.5469,101.5156 Q97.5313,101.6406 97.5313,101.9063 L97.5313,108.0313 Q97.5313,109.125 97.9063,109.75 Q98.2813,110.375 99.2656,110.375 Q100.25,110.375 100.6406,109.75 Q101.0313,109.125 101.0313,107.9844 L101.0313,101.125 L102.9063,101.125 L102.9063,107.9688 Q102.9063,110 101.875,110.9688 Q100.8594,111.9375 99.25,111.9375 Z \"/><text fill=\"#000000\" font-family=\"sans-serif\" font-size=\"12\" font-style=\"italic\" lengthAdjust=\"spacingAndGlyphs\" textLength=\"69\" x=\"111.5\" y=\"103.6387\">«attribute»</text><text fill=\"#000000\" font-family=\"sans-serif\" font-size=\"12\" lengthAdjust=\"spacingAndGlyphs\" textLength=\"5\" x=\"143.5\" y=\"117.6074\">z</text><line style=\"stroke: #A80036; stroke-width: 1.5;\" x1=\"85.5\" x2=\"180.5\" y1=\"125.4375\" y2=\"125.4375\"/></a><a href=\"psysml:5348c3d7-5f8d-4656-8805-8961159c09b6\" target=\"_top\" title=\"psysml:5348c3d7-5f8d-4656-8805-8961159c09b6\" xlink:actuate=\"onRequest\" xlink:href=\"psysml:5348c3d7-5f8d-4656-8805-8961159c09b6\" xlink:show=\"new\" xlink:title=\"psysml:5348c3d7-5f8d-4656-8805-8961159c09b6\" xlink:type=\"simple\"><polygon fill=\"#FFFFFF\" filter=\"url(#fh1ld5jlj69oe)\" points=\"292.5,84,413.5,84,420.5,106.2969,427.5,106.2969,427.5,136.5938,292.5,136.5938,292.5,84\" style=\"stroke: #000000; stroke-width: 1.5;\"/><line style=\"stroke: #000000; stroke-width: 1.5;\" x1=\"292.5\" x2=\"420.5\" y1=\"106.2969\" y2=\"106.2969\"/><text fill=\"#000000\" font-family=\"sans-serif\" font-size=\"14\" font-weight=\"bold\" lengthAdjust=\"spacingAndGlyphs\" textLength=\"115\" x=\"296.5\" y=\"98.9951\">Application Layer</text></a><a href=\"psysml:e92bea40-a3a7-48d4-b6b8-5548cc937669\" target=\"_top\" title=\"psysml:e92bea40-a3a7-48d4-b6b8-5548cc937669\" xlink:actuate=\"onRequest\" xlink:href=\"psysml:e92bea40-a3a7-48d4-b6b8-5548cc937669\" xlink:show=\"new\" xlink:title=\"psysml:e92bea40-a3a7-48d4-b6b8-5548cc937669\" xlink:type=\"simple\"><polygon fill=\"#FFFFFF\" filter=\"url(#fh1ld5jlj69oe)\" points=\"305,170,401,170,408,192.2969,415,192.2969,415,222.5938,305,222.5938,305,170\" style=\"stroke: #000000; stroke-width: 1.5;\"/><line style=\"stroke: #000000; stroke-width: 1.5;\" x1=\"305\" x2=\"408\" y1=\"192.2969\" y2=\"192.2969\"/><text fill=\"#000000\" font-family=\"sans-serif\" font-size=\"14\" font-weight=\"bold\" lengthAdjust=\"spacingAndGlyphs\" textLength=\"90\" x=\"309\" y=\"184.9951\">Service Layer</text></a><a href=\"psysml:9210d902-7ba4-4a43-8b80-75376691e6d0\" target=\"_top\" title=\"psysml:9210d902-7ba4-4a43-8b80-75376691e6d0\" xlink:actuate=\"onRequest\" xlink:href=\"psysml:9210d902-7ba4-4a43-8b80-75376691e6d0\" xlink:show=\"new\" xlink:title=\"psysml:9210d902-7ba4-4a43-8b80-75376691e6d0\" xlink:type=\"simple\"><polygon fill=\"#FFFFFF\" filter=\"url(#fh1ld5jlj69oe)\" points=\"314,256,392,256,399,278.2969,406,278.2969,406,308.5938,314,308.5938,314,256\" style=\"stroke: #000000; stroke-width: 1.5;\"/><line style=\"stroke: #000000; stroke-width: 1.5;\" x1=\"314\" x2=\"399\" y1=\"278.2969\" y2=\"278.2969\"/><text fill=\"#000000\" font-family=\"sans-serif\" font-size=\"14\" font-weight=\"bold\" lengthAdjust=\"spacingAndGlyphs\" textLength=\"72\" x=\"318\" y=\"270.9951\">Data Layer</text></a><!--MD5=[af87c684e3b0d8be13c1a698a818ef1e]\n",
       "link E3 to E4--><a href=\"psysml:43ea743a-a860-452f-b433-717c56c39b79\" target=\"_top\" title=\"psysml:43ea743a-a860-452f-b433-717c56c39b79\" xlink:actuate=\"onRequest\" xlink:href=\"psysml:43ea743a-a860-452f-b433-717c56c39b79\" xlink:show=\"new\" xlink:title=\"psysml:43ea743a-a860-452f-b433-717c56c39b79\" xlink:type=\"simple\"><path d=\"M360,137.16 C360,144.98 360,153.69 360,161.94 \" fill=\"none\" id=\"E3-&gt;E4\" style=\"stroke: #A80036; stroke-width: 1.0; stroke-dasharray: 7.0,7.0;\"/><polygon fill=\"#A80036\" points=\"360,170,363,162,357,162,360,170\" style=\"stroke: #A80036; stroke-width: 1.0;\"/><text fill=\"#000000\" font-family=\"sans-serif\" font-size=\"13\" lengthAdjust=\"spacingAndGlyphs\" textLength=\"64\" x=\"361\" y=\"158.0669\">«depend»</text></a><!--MD5=[1b7591eae5389033d8d09a9d6721a717]\n",
       "link E4 to E5--><a href=\"psysml:2fd6f227-cfe3-4fe1-af5d-016c5bccfb5b\" target=\"_top\" title=\"psysml:2fd6f227-cfe3-4fe1-af5d-016c5bccfb5b\" xlink:actuate=\"onRequest\" xlink:href=\"psysml:2fd6f227-cfe3-4fe1-af5d-016c5bccfb5b\" xlink:show=\"new\" xlink:title=\"psysml:2fd6f227-cfe3-4fe1-af5d-016c5bccfb5b\" xlink:type=\"simple\"><path d=\"M360,223.16 C360,230.98 360,239.69 360,247.94 \" fill=\"none\" id=\"E4-&gt;E5\" style=\"stroke: #A80036; stroke-width: 1.0; stroke-dasharray: 7.0,7.0;\"/><polygon fill=\"#A80036\" points=\"360,256,363,248,357,248,360,256\" style=\"stroke: #A80036; stroke-width: 1.0;\"/><text fill=\"#000000\" font-family=\"sans-serif\" font-size=\"13\" lengthAdjust=\"spacingAndGlyphs\" textLength=\"64\" x=\"361\" y=\"244.0669\">«depend»</text></a><!--MD5=[c5e8897d989ce984f93528998a7150fe]\n",
       "link E8 to E6--><a href=\"psysml:209e6958-61b2-4a39-8cf0-69b60dbfdefc\" target=\"_top\" title=\"psysml:209e6958-61b2-4a39-8cf0-69b60dbfdefc\" xlink:actuate=\"onRequest\" xlink:href=\"psysml:209e6958-61b2-4a39-8cf0-69b60dbfdefc\" xlink:show=\"new\" xlink:title=\"psysml:209e6958-61b2-4a39-8cf0-69b60dbfdefc\" xlink:type=\"simple\"><path d=\"M92.08,133.72 C88.53,137.07 85.39,140.83 83,145 C79.52,151.08 77.92,158.28 77.36,165.3 \" fill=\"none\" id=\"E8-&gt;E6\" style=\"stroke: #A80036; stroke-width: 1.0; stroke-dasharray: 7.0,7.0;\"/><polygon fill=\"#A80036\" points=\"77.14,173.39,80.3531,165.4732,74.3553,165.3125,77.14,173.39\" style=\"stroke: #A80036; stroke-width: 1.0;\"/><text fill=\"#000000\" font-family=\"sans-serif\" font-size=\"13\" lengthAdjust=\"spacingAndGlyphs\" textLength=\"64\" x=\"84\" y=\"158.0669\">«depend»</text></a><!--MD5=[bfa3c8b0d15052fdf50ae9310b491027]\n",
       "link E8 to E7--><a href=\"psysml:209e6958-61b2-4a39-8cf0-69b60dbfdefc\" target=\"_top\" title=\"psysml:209e6958-61b2-4a39-8cf0-69b60dbfdefc\" xlink:actuate=\"onRequest\" xlink:href=\"psysml:209e6958-61b2-4a39-8cf0-69b60dbfdefc\" xlink:show=\"new\" xlink:title=\"psysml:209e6958-61b2-4a39-8cf0-69b60dbfdefc\" xlink:type=\"simple\"><path d=\"M153.76,133.57 C163.48,143.91 175.17,156.34 185.52,167.34 \" fill=\"none\" id=\"E8-&gt;E7\" style=\"stroke: #A80036; stroke-width: 1.0; stroke-dasharray: 7.0,7.0;\"/><polygon fill=\"#A80036\" points=\"191.11,173.29,187.8117,165.4083,183.4425,169.5205,191.11,173.29\" style=\"stroke: #A80036; stroke-width: 1.0;\"/><text fill=\"#000000\" font-family=\"sans-serif\" font-size=\"13\" lengthAdjust=\"spacingAndGlyphs\" textLength=\"64\" x=\"180\" y=\"158.0669\">«depend»</text></a><!--MD5=[43582e1ac228fa53b1a277f63ff7cc27]\n",
       "@startuml\r\n",
       "skinparam ranksep 10\r\n",
       "skinparam rectangle {\r\n",
       " backgroundColor<<block>> LightGreen\r\n",
       "}\r\n",
       " \r\n",
       "package \"DependencyTest\" as E1  [[psysml:eac58141-1d30-4dd4-8de7-f3beae76540f ]]  {\r\n",
       "package \"System\" as E2  [[psysml:13805519-bfbc-4c0f-88c4-787529a25875 ]]  {\r\n",
       "package \"Application Layer\" as E3  [[psysml:5348c3d7-5f8d-4656-8805-8961159c09b6 ]]  {\r\n",
       "}\r\n",
       "package \"Service Layer\" as E4  [[psysml:e92bea40-a3a7-48d4-b6b8-5548cc937669 ]]  {\r\n",
       "}\r\n",
       "package \"Data Layer\" as E5  [[psysml:9210d902-7ba4-4a43-8b80-75376691e6d0 ]]  {\r\n",
       "}\r\n",
       "}\r\n",
       "comp usage \"x\" as E6 << <<(U,orange) attribute>> [[psysml:d1a2f8b3-43fe-4bb6-bcd1-ae6c73505f04 ]] {\r\n",
       "}\r\n",
       "comp usage \"y\" as E7 << <<(U,orange) attribute>> [[psysml:ad948c0a-adc5-4c23-9b66-20666ae7e933 ]] {\r\n",
       "}\r\n",
       "comp usage \"z\" as E8 << <<(U,orange) attribute>> [[psysml:4e191771-f0c3-4f18-930e-d8147bece3b0 ]] {\r\n",
       "}\r\n",
       "}\r\n",
       "E3 ..>> E4 [[psysml:43ea743a-a860-452f-b433-717c56c39b79 ]] : <<depend>>\r\n",
       "E4 ..>> E5 [[psysml:2fd6f227-cfe3-4fe1-af5d-016c5bccfb5b ]] : <<depend>>\r\n",
       "E8 ..>> E6 [[psysml:209e6958-61b2-4a39-8cf0-69b60dbfdefc ]] : <<depend>>\r\n",
       "E8 ..>> E7 [[psysml:209e6958-61b2-4a39-8cf0-69b60dbfdefc ]] : <<depend>>\r\n",
       "@enduml\r\n",
       "\n",
       "PlantUML version 1.2020.13(Sat Jun 13 12:26:38 UTC 2020)\n",
       "(EPL source distribution)\n",
       "Java Runtime: OpenJDK Runtime Environment\n",
       "JVM: OpenJDK 64-Bit Server VM\n",
       "Default Encoding: UTF-8\n",
       "Language: en\n",
       "Country: null\n",
       "--></g></svg>"
      ]
     },
     "execution_count": 33,
     "metadata": {},
     "output_type": "execute_result"
    }
   ],
   "source": [
    "%viz --style=\"PLANTUML\" --view=\"Interconnection\" \"DependencyTest\""
   ]
  },
  {
   "cell_type": "code",
   "execution_count": 34,
   "id": "ef1b1e3d",
   "metadata": {
    "execution": {
     "iopub.execute_input": "2021-10-25T08:20:46.283812Z",
     "iopub.status.busy": "2021-10-25T08:20:46.283201Z",
     "iopub.status.idle": "2021-10-25T08:20:46.288790Z",
     "shell.execute_reply": "2021-10-25T08:20:46.288434Z"
    }
   },
   "outputs": [
    {
     "data": {
      "image/svg+xml": [
       "<?xml version=\"1.0\" encoding=\"UTF-8\" standalone=\"no\"?><svg xmlns=\"http://www.w3.org/2000/svg\" xmlns:xlink=\"http://www.w3.org/1999/xlink\" contentScriptType=\"application/ecmascript\" contentStyleType=\"text/css\" height=\"12px\" preserveAspectRatio=\"none\" style=\"width:12px;height:12px;\" version=\"1.1\" viewBox=\"0 0 12 12\" width=\"12px\" zoomAndPan=\"magnify\"><defs/><g><!--MD5=[6a4cb978cab31700e1ce5529f947a75d]\n",
       "@startuml\r\n",
       "skinparam ranksep 8\r\n",
       " \r\n",
       "@enduml\r\n",
       "\n",
       "PlantUML version 1.2020.13(Sat Jun 13 12:26:38 UTC 2020)\n",
       "(EPL source distribution)\n",
       "Java Runtime: OpenJDK Runtime Environment\n",
       "JVM: OpenJDK 64-Bit Server VM\n",
       "Default Encoding: UTF-8\n",
       "Language: en\n",
       "Country: null\n",
       "--></g></svg>"
      ]
     },
     "execution_count": 34,
     "metadata": {},
     "output_type": "execute_result"
    }
   ],
   "source": [
    "%viz --style=\"PLANTUML\" --view=\"Action\" \"DependencyTest\""
   ]
  },
  {
   "cell_type": "code",
   "execution_count": 35,
   "id": "fcc01a5e",
   "metadata": {
    "execution": {
     "iopub.execute_input": "2021-10-25T08:20:46.338519Z",
     "iopub.status.busy": "2021-10-25T08:20:46.337927Z",
     "iopub.status.idle": "2021-10-25T08:20:46.343527Z",
     "shell.execute_reply": "2021-10-25T08:20:46.343165Z"
    }
   },
   "outputs": [
    {
     "data": {
      "image/svg+xml": [
       "<?xml version=\"1.0\" encoding=\"UTF-8\" standalone=\"no\"?><svg xmlns=\"http://www.w3.org/2000/svg\" xmlns:xlink=\"http://www.w3.org/1999/xlink\" contentScriptType=\"application/ecmascript\" contentStyleType=\"text/css\" height=\"12px\" preserveAspectRatio=\"none\" style=\"width:12px;height:12px;\" version=\"1.1\" viewBox=\"0 0 12 12\" width=\"12px\" zoomAndPan=\"magnify\"><defs/><g><!--MD5=[ca4faa0b02def275ea33c14ea7a1a98d]\n",
       "@startuml\r\n",
       "skinparam roundcorner 20\r\n",
       "skinparam BoxPadding 20\r\n",
       "skinparam SequenceBoxBackgroundColor #white\r\n",
       "skinparam style strictuml\r\n",
       "skinparam maxMessageSize 100\r\n",
       " \r\n",
       "@enduml\r\n",
       "\n",
       "PlantUML version 1.2020.13(Sat Jun 13 12:26:38 UTC 2020)\n",
       "(EPL source distribution)\n",
       "Java Runtime: OpenJDK Runtime Environment\n",
       "JVM: OpenJDK 64-Bit Server VM\n",
       "Default Encoding: UTF-8\n",
       "Language: en\n",
       "Country: null\n",
       "--></g></svg>"
      ]
     },
     "execution_count": 35,
     "metadata": {},
     "output_type": "execute_result"
    }
   ],
   "source": [
    "%viz --style=\"PLANTUML\" --view=\"Sequence\" \"DependencyTest\""
   ]
  },
  {
   "cell_type": "code",
   "execution_count": 36,
   "id": "054f95fa",
   "metadata": {
    "execution": {
     "iopub.execute_input": "2021-10-25T08:20:46.393304Z",
     "iopub.status.busy": "2021-10-25T08:20:46.392677Z",
     "iopub.status.idle": "2021-10-25T08:20:46.426557Z",
     "shell.execute_reply": "2021-10-25T08:20:46.424312Z"
    }
   },
   "outputs": [
    {
     "data": {
      "image/svg+xml": [
       "<?xml version=\"1.0\" encoding=\"UTF-8\" standalone=\"no\"?><svg xmlns=\"http://www.w3.org/2000/svg\" xmlns:xlink=\"http://www.w3.org/1999/xlink\" contentScriptType=\"application/ecmascript\" contentStyleType=\"text/css\" height=\"449px\" preserveAspectRatio=\"none\" style=\"width:490px;height:449px;\" version=\"1.1\" viewBox=\"0 0 490 449\" width=\"490px\" zoomAndPan=\"magnify\"><defs><filter height=\"300%\" id=\"fa4p75o5ahpqr\" width=\"300%\" x=\"-1\" y=\"-1\"><feGaussianBlur result=\"blurOut\" stdDeviation=\"2.0\"/><feColorMatrix in=\"blurOut\" result=\"blurOut2\" type=\"matrix\" values=\"0 0 0 0 0 0 0 0 0 0 0 0 0 0 0 0 0 0 .4 0\"/><feOffset dx=\"4.0\" dy=\"4.0\" in=\"blurOut2\" result=\"blurOut3\"/><feBlend in=\"SourceGraphic\" in2=\"blurOut3\" mode=\"normal\"/></filter></defs><g><!--MD5=[fbc87193dbaf4d95561dea2c320d4a47]\n",
       "cluster E1--><a href=\"psysml:eac58141-1d30-4dd4-8de7-f3beae76540f\" target=\"_top\" title=\"psysml:eac58141-1d30-4dd4-8de7-f3beae76540f\" xlink:actuate=\"onRequest\" xlink:href=\"psysml:eac58141-1d30-4dd4-8de7-f3beae76540f\" xlink:show=\"new\" xlink:title=\"psysml:eac58141-1d30-4dd4-8de7-f3beae76540f\" xlink:type=\"simple\"><polygon fill=\"#FFFFFF\" filter=\"url(#fa4p75o5ahpqr)\" points=\"16,6,142,6,149,28.2969,468,28.2969,468,437,16,437,16,6\" style=\"stroke: #000000; stroke-width: 1.5;\"/><line style=\"stroke: #000000; stroke-width: 1.5;\" x1=\"16\" x2=\"149\" y1=\"28.2969\" y2=\"28.2969\"/><text fill=\"#000000\" font-family=\"sans-serif\" font-size=\"14\" font-weight=\"bold\" lengthAdjust=\"spacingAndGlyphs\" textLength=\"120\" x=\"20\" y=\"20.9951\">DependencyTest</text></a><!--MD5=[e4f7fae6ed58524ba242bb0b0d3be6b7]\n",
       "cluster E2--><a href=\"psysml:13805519-bfbc-4c0f-88c4-787529a25875\" target=\"_top\" title=\"psysml:13805519-bfbc-4c0f-88c4-787529a25875\" xlink:actuate=\"onRequest\" xlink:href=\"psysml:13805519-bfbc-4c0f-88c4-787529a25875\" xlink:show=\"new\" xlink:title=\"psysml:13805519-bfbc-4c0f-88c4-787529a25875\" xlink:type=\"simple\"><polygon fill=\"#FFFFFF\" filter=\"url(#fa4p75o5ahpqr)\" points=\"276,49,333,49,340,71.2969,444,71.2969,444,413,276,413,276,49\" style=\"stroke: #000000; stroke-width: 1.5;\"/><line style=\"stroke: #000000; stroke-width: 1.5;\" x1=\"276\" x2=\"340\" y1=\"71.2969\" y2=\"71.2969\"/><text fill=\"#000000\" font-family=\"sans-serif\" font-size=\"14\" font-weight=\"bold\" lengthAdjust=\"spacingAndGlyphs\" textLength=\"51\" x=\"280\" y=\"63.9951\">System</text></a><!--MD5=[60a26617385b1d2d0262a64233df1f8d]\n",
       "class E6--><a href=\"psysml:d1a2f8b3-43fe-4bb6-bcd1-ae6c73505f04\" target=\"_top\" title=\"psysml:d1a2f8b3-43fe-4bb6-bcd1-ae6c73505f04\" xlink:actuate=\"onRequest\" xlink:href=\"psysml:d1a2f8b3-43fe-4bb6-bcd1-ae6c73505f04\" xlink:show=\"new\" xlink:title=\"psysml:d1a2f8b3-43fe-4bb6-bcd1-ae6c73505f04\" xlink:type=\"simple\"><rect fill=\"#FEFECE\" filter=\"url(#fa4p75o5ahpqr)\" height=\"45.9375\" id=\"E6\" rx=\"10\" ry=\"10\" style=\"stroke: #A80036; stroke-width: 1.5;\" width=\"97\" x=\"31.5\" y=\"217.5\"/><ellipse cx=\"46.5\" cy=\"236.4688\" fill=\"#FFA500\" rx=\"11\" ry=\"11\" style=\"stroke: #A80036; stroke-width: 1.0;\"/><path d=\"M46.25,241.9375 Q44.5,241.9375 43.5469,240.9063 Q42.6094,239.8594 42.6094,238.0156 L42.6094,231.125 L44.6719,231.125 L44.6719,231.2813 Q44.5781,231.375 44.5469,231.5156 Q44.5313,231.6406 44.5313,231.9063 L44.5313,238.0313 Q44.5313,239.125 44.9063,239.75 Q45.2813,240.375 46.2656,240.375 Q47.25,240.375 47.6406,239.75 Q48.0313,239.125 48.0313,237.9844 L48.0313,231.125 L49.9063,231.125 L49.9063,237.9688 Q49.9063,240 48.875,240.9688 Q47.8594,241.9375 46.25,241.9375 Z \"/><text fill=\"#000000\" font-family=\"sans-serif\" font-size=\"12\" font-style=\"italic\" lengthAdjust=\"spacingAndGlyphs\" textLength=\"69\" x=\"58.5\" y=\"233.6387\">«attribute»</text><text fill=\"#000000\" font-family=\"sans-serif\" font-size=\"12\" lengthAdjust=\"spacingAndGlyphs\" textLength=\"6\" x=\"90\" y=\"247.6074\">x</text><line style=\"stroke: #A80036; stroke-width: 1.5;\" x1=\"32.5\" x2=\"127.5\" y1=\"255.4375\" y2=\"255.4375\"/></a><!--MD5=[2156ba9850f5573cc1fc38a6a4b2f02b]\n",
       "class E7--><a href=\"psysml:ad948c0a-adc5-4c23-9b66-20666ae7e933\" target=\"_top\" title=\"psysml:ad948c0a-adc5-4c23-9b66-20666ae7e933\" xlink:actuate=\"onRequest\" xlink:href=\"psysml:ad948c0a-adc5-4c23-9b66-20666ae7e933\" xlink:show=\"new\" xlink:title=\"psysml:ad948c0a-adc5-4c23-9b66-20666ae7e933\" xlink:type=\"simple\"><rect fill=\"#FEFECE\" filter=\"url(#fa4p75o5ahpqr)\" height=\"45.9375\" id=\"E7\" rx=\"10\" ry=\"10\" style=\"stroke: #A80036; stroke-width: 1.5;\" width=\"97\" x=\"163.5\" y=\"217.5\"/><ellipse cx=\"178.5\" cy=\"236.4688\" fill=\"#FFA500\" rx=\"11\" ry=\"11\" style=\"stroke: #A80036; stroke-width: 1.0;\"/><path d=\"M178.25,241.9375 Q176.5,241.9375 175.5469,240.9063 Q174.6094,239.8594 174.6094,238.0156 L174.6094,231.125 L176.6719,231.125 L176.6719,231.2813 Q176.5781,231.375 176.5469,231.5156 Q176.5313,231.6406 176.5313,231.9063 L176.5313,238.0313 Q176.5313,239.125 176.9063,239.75 Q177.2813,240.375 178.2656,240.375 Q179.25,240.375 179.6406,239.75 Q180.0313,239.125 180.0313,237.9844 L180.0313,231.125 L181.9063,231.125 L181.9063,237.9688 Q181.9063,240 180.875,240.9688 Q179.8594,241.9375 178.25,241.9375 Z \"/><text fill=\"#000000\" font-family=\"sans-serif\" font-size=\"12\" font-style=\"italic\" lengthAdjust=\"spacingAndGlyphs\" textLength=\"69\" x=\"190.5\" y=\"233.6387\">«attribute»</text><text fill=\"#000000\" font-family=\"sans-serif\" font-size=\"12\" lengthAdjust=\"spacingAndGlyphs\" textLength=\"6\" x=\"222\" y=\"247.6074\">y</text><line style=\"stroke: #A80036; stroke-width: 1.5;\" x1=\"164.5\" x2=\"259.5\" y1=\"255.4375\" y2=\"255.4375\"/></a><!--MD5=[b9389687b975829384b498ac4b7476b2]\n",
       "class E8--><a href=\"psysml:4e191771-f0c3-4f18-930e-d8147bece3b0\" target=\"_top\" title=\"psysml:4e191771-f0c3-4f18-930e-d8147bece3b0\" xlink:actuate=\"onRequest\" xlink:href=\"psysml:4e191771-f0c3-4f18-930e-d8147bece3b0\" xlink:show=\"new\" xlink:title=\"psysml:4e191771-f0c3-4f18-930e-d8147bece3b0\" xlink:type=\"simple\"><rect fill=\"#FEFECE\" filter=\"url(#fa4p75o5ahpqr)\" height=\"45.9375\" id=\"E8\" rx=\"10\" ry=\"10\" style=\"stroke: #A80036; stroke-width: 1.5;\" width=\"97\" x=\"84.5\" y=\"87.5\"/><ellipse cx=\"99.5\" cy=\"106.4688\" fill=\"#FFA500\" rx=\"11\" ry=\"11\" style=\"stroke: #A80036; stroke-width: 1.0;\"/><path d=\"M99.25,111.9375 Q97.5,111.9375 96.5469,110.9063 Q95.6094,109.8594 95.6094,108.0156 L95.6094,101.125 L97.6719,101.125 L97.6719,101.2813 Q97.5781,101.375 97.5469,101.5156 Q97.5313,101.6406 97.5313,101.9063 L97.5313,108.0313 Q97.5313,109.125 97.9063,109.75 Q98.2813,110.375 99.2656,110.375 Q100.25,110.375 100.6406,109.75 Q101.0313,109.125 101.0313,107.9844 L101.0313,101.125 L102.9063,101.125 L102.9063,107.9688 Q102.9063,110 101.875,110.9688 Q100.8594,111.9375 99.25,111.9375 Z \"/><text fill=\"#000000\" font-family=\"sans-serif\" font-size=\"12\" font-style=\"italic\" lengthAdjust=\"spacingAndGlyphs\" textLength=\"69\" x=\"111.5\" y=\"103.6387\">«attribute»</text><text fill=\"#000000\" font-family=\"sans-serif\" font-size=\"12\" lengthAdjust=\"spacingAndGlyphs\" textLength=\"5\" x=\"143.5\" y=\"117.6074\">z</text><line style=\"stroke: #A80036; stroke-width: 1.5;\" x1=\"85.5\" x2=\"180.5\" y1=\"125.4375\" y2=\"125.4375\"/></a><a href=\"psysml:5348c3d7-5f8d-4656-8805-8961159c09b6\" target=\"_top\" title=\"psysml:5348c3d7-5f8d-4656-8805-8961159c09b6\" xlink:actuate=\"onRequest\" xlink:href=\"psysml:5348c3d7-5f8d-4656-8805-8961159c09b6\" xlink:show=\"new\" xlink:title=\"psysml:5348c3d7-5f8d-4656-8805-8961159c09b6\" xlink:type=\"simple\"><polygon fill=\"#FFFFFF\" filter=\"url(#fa4p75o5ahpqr)\" points=\"292.5,84,413.5,84,420.5,106.2969,427.5,106.2969,427.5,136.5938,292.5,136.5938,292.5,84\" style=\"stroke: #000000; stroke-width: 1.5;\"/><line style=\"stroke: #000000; stroke-width: 1.5;\" x1=\"292.5\" x2=\"420.5\" y1=\"106.2969\" y2=\"106.2969\"/><text fill=\"#000000\" font-family=\"sans-serif\" font-size=\"14\" font-weight=\"bold\" lengthAdjust=\"spacingAndGlyphs\" textLength=\"115\" x=\"296.5\" y=\"98.9951\">Application Layer</text></a><a href=\"psysml:e92bea40-a3a7-48d4-b6b8-5548cc937669\" target=\"_top\" title=\"psysml:e92bea40-a3a7-48d4-b6b8-5548cc937669\" xlink:actuate=\"onRequest\" xlink:href=\"psysml:e92bea40-a3a7-48d4-b6b8-5548cc937669\" xlink:show=\"new\" xlink:title=\"psysml:e92bea40-a3a7-48d4-b6b8-5548cc937669\" xlink:type=\"simple\"><polygon fill=\"#FFFFFF\" filter=\"url(#fa4p75o5ahpqr)\" points=\"305,214,401,214,408,236.2969,415,236.2969,415,266.5938,305,266.5938,305,214\" style=\"stroke: #000000; stroke-width: 1.5;\"/><line style=\"stroke: #000000; stroke-width: 1.5;\" x1=\"305\" x2=\"408\" y1=\"236.2969\" y2=\"236.2969\"/><text fill=\"#000000\" font-family=\"sans-serif\" font-size=\"14\" font-weight=\"bold\" lengthAdjust=\"spacingAndGlyphs\" textLength=\"90\" x=\"309\" y=\"228.9951\">Service Layer</text></a><a href=\"psysml:9210d902-7ba4-4a43-8b80-75376691e6d0\" target=\"_top\" title=\"psysml:9210d902-7ba4-4a43-8b80-75376691e6d0\" xlink:actuate=\"onRequest\" xlink:href=\"psysml:9210d902-7ba4-4a43-8b80-75376691e6d0\" xlink:show=\"new\" xlink:title=\"psysml:9210d902-7ba4-4a43-8b80-75376691e6d0\" xlink:type=\"simple\"><polygon fill=\"#FFFFFF\" filter=\"url(#fa4p75o5ahpqr)\" points=\"314,344,392,344,399,366.2969,406,366.2969,406,396.5938,314,396.5938,314,344\" style=\"stroke: #000000; stroke-width: 1.5;\"/><line style=\"stroke: #000000; stroke-width: 1.5;\" x1=\"314\" x2=\"399\" y1=\"366.2969\" y2=\"366.2969\"/><text fill=\"#000000\" font-family=\"sans-serif\" font-size=\"14\" font-weight=\"bold\" lengthAdjust=\"spacingAndGlyphs\" textLength=\"72\" x=\"318\" y=\"358.9951\">Data Layer</text></a><!--MD5=[af87c684e3b0d8be13c1a698a818ef1e]\n",
       "link E3 to E4--><a href=\"psysml:43ea743a-a860-452f-b433-717c56c39b79\" target=\"_top\" title=\"psysml:43ea743a-a860-452f-b433-717c56c39b79\" xlink:actuate=\"onRequest\" xlink:href=\"psysml:43ea743a-a860-452f-b433-717c56c39b79\" xlink:show=\"new\" xlink:title=\"psysml:43ea743a-a860-452f-b433-717c56c39b79\" xlink:type=\"simple\"><path d=\"M360,137.1 C360,156.8 360,184.22 360,205.73 \" fill=\"none\" id=\"E3-&gt;E4\" style=\"stroke: #A80036; stroke-width: 1.0; stroke-dasharray: 7.0,7.0;\"/><polygon fill=\"#A80036\" points=\"360,213.95,363,205.95,357,205.95,360,213.95\" style=\"stroke: #A80036; stroke-width: 1.0;\"/><text fill=\"#000000\" font-family=\"sans-serif\" font-size=\"13\" lengthAdjust=\"spacingAndGlyphs\" textLength=\"64\" x=\"361\" y=\"180.0669\">«depend»</text></a><!--MD5=[1b7591eae5389033d8d09a9d6721a717]\n",
       "link E4 to E5--><a href=\"psysml:2fd6f227-cfe3-4fe1-af5d-016c5bccfb5b\" target=\"_top\" title=\"psysml:2fd6f227-cfe3-4fe1-af5d-016c5bccfb5b\" xlink:actuate=\"onRequest\" xlink:href=\"psysml:2fd6f227-cfe3-4fe1-af5d-016c5bccfb5b\" xlink:show=\"new\" xlink:title=\"psysml:2fd6f227-cfe3-4fe1-af5d-016c5bccfb5b\" xlink:type=\"simple\"><path d=\"M360,267.1 C360,286.8 360,314.22 360,335.73 \" fill=\"none\" id=\"E4-&gt;E5\" style=\"stroke: #A80036; stroke-width: 1.0; stroke-dasharray: 7.0,7.0;\"/><polygon fill=\"#A80036\" points=\"360,343.95,363,335.95,357,335.95,360,343.95\" style=\"stroke: #A80036; stroke-width: 1.0;\"/><text fill=\"#000000\" font-family=\"sans-serif\" font-size=\"13\" lengthAdjust=\"spacingAndGlyphs\" textLength=\"64\" x=\"361\" y=\"310.0669\">«depend»</text></a><!--MD5=[c5e8897d989ce984f93528998a7150fe]\n",
       "link E8 to E6--><a href=\"psysml:209e6958-61b2-4a39-8cf0-69b60dbfdefc\" target=\"_top\" title=\"psysml:209e6958-61b2-4a39-8cf0-69b60dbfdefc\" xlink:actuate=\"onRequest\" xlink:href=\"psysml:209e6958-61b2-4a39-8cf0-69b60dbfdefc\" xlink:show=\"new\" xlink:title=\"psysml:209e6958-61b2-4a39-8cf0-69b60dbfdefc\" xlink:type=\"simple\"><path d=\"M106.44,133.76 C97.3,143.01 88.09,154.51 83,167 C77.6,180.23 76.4,195.98 76.73,209.41 \" fill=\"none\" id=\"E8-&gt;E6\" style=\"stroke: #A80036; stroke-width: 1.0; stroke-dasharray: 7.0,7.0;\"/><polygon fill=\"#A80036\" points=\"77.12,217.43,79.7306,209.2946,73.7375,209.584,77.12,217.43\" style=\"stroke: #A80036; stroke-width: 1.0;\"/><text fill=\"#000000\" font-family=\"sans-serif\" font-size=\"13\" lengthAdjust=\"spacingAndGlyphs\" textLength=\"64\" x=\"84\" y=\"180.0669\">«depend»</text></a><!--MD5=[bfa3c8b0d15052fdf50ae9310b491027]\n",
       "link E8 to E7--><a href=\"psysml:209e6958-61b2-4a39-8cf0-69b60dbfdefc\" target=\"_top\" title=\"psysml:209e6958-61b2-4a39-8cf0-69b60dbfdefc\" xlink:actuate=\"onRequest\" xlink:href=\"psysml:209e6958-61b2-4a39-8cf0-69b60dbfdefc\" xlink:show=\"new\" xlink:title=\"psysml:209e6958-61b2-4a39-8cf0-69b60dbfdefc\" xlink:type=\"simple\"><path d=\"M146.58,133.5 C159.69,154.75 179.63,187.05 194.05,210.41 \" fill=\"none\" id=\"E8-&gt;E7\" style=\"stroke: #A80036; stroke-width: 1.0; stroke-dasharray: 7.0,7.0;\"/><polygon fill=\"#A80036\" points=\"198.33,217.35,196.6785,208.9671,191.5737,212.1201,198.33,217.35\" style=\"stroke: #A80036; stroke-width: 1.0;\"/><text fill=\"#000000\" font-family=\"sans-serif\" font-size=\"13\" lengthAdjust=\"spacingAndGlyphs\" textLength=\"64\" x=\"178\" y=\"180.0669\">«depend»</text></a><!--MD5=[2cd5f565acabb782be9e0afaa848a1b8]\n",
       "@startuml\r\n",
       " \r\n",
       "package \"DependencyTest\" as E1  [[psysml:eac58141-1d30-4dd4-8de7-f3beae76540f ]]  {\r\n",
       "package \"System\" as E2  [[psysml:13805519-bfbc-4c0f-88c4-787529a25875 ]]  {\r\n",
       "package \"Application Layer\" as E3  [[psysml:5348c3d7-5f8d-4656-8805-8961159c09b6 ]]  {\r\n",
       "}\r\n",
       "package \"Service Layer\" as E4  [[psysml:e92bea40-a3a7-48d4-b6b8-5548cc937669 ]]  {\r\n",
       "}\r\n",
       "package \"Data Layer\" as E5  [[psysml:9210d902-7ba4-4a43-8b80-75376691e6d0 ]]  {\r\n",
       "}\r\n",
       "}\r\n",
       "comp usage \"x\" as E6 << <<(U,orange) attribute>> [[psysml:d1a2f8b3-43fe-4bb6-bcd1-ae6c73505f04 ]] {\r\n",
       "}\r\n",
       "comp usage \"y\" as E7 << <<(U,orange) attribute>> [[psysml:ad948c0a-adc5-4c23-9b66-20666ae7e933 ]] {\r\n",
       "}\r\n",
       "comp usage \"z\" as E8 << <<(U,orange) attribute>> [[psysml:4e191771-f0c3-4f18-930e-d8147bece3b0 ]] {\r\n",
       "}\r\n",
       "}\r\n",
       "E3 ..>> E4 [[psysml:43ea743a-a860-452f-b433-717c56c39b79 ]] : <<depend>>\r\n",
       "E4 ..>> E5 [[psysml:2fd6f227-cfe3-4fe1-af5d-016c5bccfb5b ]] : <<depend>>\r\n",
       "E8 ..>> E6 [[psysml:209e6958-61b2-4a39-8cf0-69b60dbfdefc ]] : <<depend>>\r\n",
       "E8 ..>> E7 [[psysml:209e6958-61b2-4a39-8cf0-69b60dbfdefc ]] : <<depend>>\r\n",
       "@enduml\r\n",
       "\n",
       "PlantUML version 1.2020.13(Sat Jun 13 12:26:38 UTC 2020)\n",
       "(EPL source distribution)\n",
       "Java Runtime: OpenJDK Runtime Environment\n",
       "JVM: OpenJDK 64-Bit Server VM\n",
       "Default Encoding: UTF-8\n",
       "Language: en\n",
       "Country: null\n",
       "--></g></svg>"
      ]
     },
     "execution_count": 36,
     "metadata": {},
     "output_type": "execute_result"
    }
   ],
   "source": [
    "%viz --style=\"PLANTUML\" --view=\"MIXED\" \"DependencyTest\""
   ]
  },
  {
   "cell_type": "code",
   "execution_count": 37,
   "id": "e81948cf",
   "metadata": {
    "execution": {
     "iopub.execute_input": "2021-10-25T08:20:46.475395Z",
     "iopub.status.busy": "2021-10-25T08:20:46.474767Z",
     "iopub.status.idle": "2021-10-25T08:20:46.503001Z",
     "shell.execute_reply": "2021-10-25T08:20:46.501963Z"
    }
   },
   "outputs": [
    {
     "data": {
      "image/svg+xml": [
       "<?xml version=\"1.0\" encoding=\"UTF-8\" standalone=\"no\"?><svg xmlns=\"http://www.w3.org/2000/svg\" xmlns:xlink=\"http://www.w3.org/1999/xlink\" contentScriptType=\"application/ecmascript\" contentStyleType=\"text/css\" height=\"449px\" preserveAspectRatio=\"none\" style=\"width:469px;height:449px;\" version=\"1.1\" viewBox=\"0 0 469 449\" width=\"469px\" zoomAndPan=\"magnify\"><defs/><g><!--MD5=[fbc87193dbaf4d95561dea2c320d4a47]\n",
       "cluster E1--><a href=\"psysml:eac58141-1d30-4dd4-8de7-f3beae76540f\" target=\"_top\" title=\"psysml:eac58141-1d30-4dd4-8de7-f3beae76540f\" xlink:actuate=\"onRequest\" xlink:href=\"psysml:eac58141-1d30-4dd4-8de7-f3beae76540f\" xlink:show=\"new\" xlink:title=\"psysml:eac58141-1d30-4dd4-8de7-f3beae76540f\" xlink:type=\"simple\"><polygon fill=\"#FFFFFF\" points=\"16,6,142,6,149,28.2969,447,28.2969,447,437,16,437,16,6\" style=\"stroke: #000000; stroke-width: 1.5;\"/><line style=\"stroke: #000000; stroke-width: 1.5;\" x1=\"16\" x2=\"149\" y1=\"28.2969\" y2=\"28.2969\"/><text fill=\"#000000\" font-family=\"sans-serif\" font-size=\"14\" font-weight=\"bold\" lengthAdjust=\"spacingAndGlyphs\" textLength=\"120\" x=\"20\" y=\"20.9951\">DependencyTest</text></a><!--MD5=[e4f7fae6ed58524ba242bb0b0d3be6b7]\n",
       "cluster E2--><a href=\"psysml:13805519-bfbc-4c0f-88c4-787529a25875\" target=\"_top\" title=\"psysml:13805519-bfbc-4c0f-88c4-787529a25875\" xlink:actuate=\"onRequest\" xlink:href=\"psysml:13805519-bfbc-4c0f-88c4-787529a25875\" xlink:show=\"new\" xlink:title=\"psysml:13805519-bfbc-4c0f-88c4-787529a25875\" xlink:type=\"simple\"><polygon fill=\"#FFFFFF\" points=\"255,49,312,49,319,71.2969,423,71.2969,423,413,255,413,255,49\" style=\"stroke: #000000; stroke-width: 1.5;\"/><line style=\"stroke: #000000; stroke-width: 1.5;\" x1=\"255\" x2=\"319\" y1=\"71.2969\" y2=\"71.2969\"/><text fill=\"#000000\" font-family=\"sans-serif\" font-size=\"14\" font-weight=\"bold\" lengthAdjust=\"spacingAndGlyphs\" textLength=\"51\" x=\"259\" y=\"63.9951\">System</text></a><!--MD5=[60a26617385b1d2d0262a64233df1f8d]\n",
       "class E6--><a href=\"psysml:d1a2f8b3-43fe-4bb6-bcd1-ae6c73505f04\" target=\"_top\" title=\"psysml:d1a2f8b3-43fe-4bb6-bcd1-ae6c73505f04\" xlink:actuate=\"onRequest\" xlink:href=\"psysml:d1a2f8b3-43fe-4bb6-bcd1-ae6c73505f04\" xlink:show=\"new\" xlink:title=\"psysml:d1a2f8b3-43fe-4bb6-bcd1-ae6c73505f04\" xlink:type=\"simple\"><rect fill=\"#FFFFFF\" height=\"45.9375\" id=\"E6\" rx=\"10\" ry=\"10\" style=\"stroke: #383838; stroke-width: 1.5;\" width=\"71\" x=\"32.5\" y=\"217.5\"/><text fill=\"#000000\" font-family=\"sans-serif\" font-size=\"12\" font-style=\"italic\" lengthAdjust=\"spacingAndGlyphs\" textLength=\"69\" x=\"33.5\" y=\"233.6387\">«attribute»</text><text fill=\"#000000\" font-family=\"sans-serif\" font-size=\"12\" lengthAdjust=\"spacingAndGlyphs\" textLength=\"6\" x=\"65\" y=\"247.6074\">x</text><line style=\"stroke: #383838; stroke-width: 1.5;\" x1=\"33.5\" x2=\"102.5\" y1=\"255.4375\" y2=\"255.4375\"/></a><!--MD5=[2156ba9850f5573cc1fc38a6a4b2f02b]\n",
       "class E7--><a href=\"psysml:ad948c0a-adc5-4c23-9b66-20666ae7e933\" target=\"_top\" title=\"psysml:ad948c0a-adc5-4c23-9b66-20666ae7e933\" xlink:actuate=\"onRequest\" xlink:href=\"psysml:ad948c0a-adc5-4c23-9b66-20666ae7e933\" xlink:show=\"new\" xlink:title=\"psysml:ad948c0a-adc5-4c23-9b66-20666ae7e933\" xlink:type=\"simple\"><rect fill=\"#FFFFFF\" height=\"45.9375\" id=\"E7\" rx=\"10\" ry=\"10\" style=\"stroke: #383838; stroke-width: 1.5;\" width=\"71\" x=\"138.5\" y=\"217.5\"/><text fill=\"#000000\" font-family=\"sans-serif\" font-size=\"12\" font-style=\"italic\" lengthAdjust=\"spacingAndGlyphs\" textLength=\"69\" x=\"139.5\" y=\"233.6387\">«attribute»</text><text fill=\"#000000\" font-family=\"sans-serif\" font-size=\"12\" lengthAdjust=\"spacingAndGlyphs\" textLength=\"6\" x=\"171\" y=\"247.6074\">y</text><line style=\"stroke: #383838; stroke-width: 1.5;\" x1=\"139.5\" x2=\"208.5\" y1=\"255.4375\" y2=\"255.4375\"/></a><!--MD5=[b9389687b975829384b498ac4b7476b2]\n",
       "class E8--><a href=\"psysml:4e191771-f0c3-4f18-930e-d8147bece3b0\" target=\"_top\" title=\"psysml:4e191771-f0c3-4f18-930e-d8147bece3b0\" xlink:actuate=\"onRequest\" xlink:href=\"psysml:4e191771-f0c3-4f18-930e-d8147bece3b0\" xlink:show=\"new\" xlink:title=\"psysml:4e191771-f0c3-4f18-930e-d8147bece3b0\" xlink:type=\"simple\"><rect fill=\"#FFFFFF\" height=\"45.9375\" id=\"E8\" rx=\"10\" ry=\"10\" style=\"stroke: #383838; stroke-width: 1.5;\" width=\"71\" x=\"84.5\" y=\"87.5\"/><text fill=\"#000000\" font-family=\"sans-serif\" font-size=\"12\" font-style=\"italic\" lengthAdjust=\"spacingAndGlyphs\" textLength=\"69\" x=\"85.5\" y=\"103.6387\">«attribute»</text><text fill=\"#000000\" font-family=\"sans-serif\" font-size=\"12\" lengthAdjust=\"spacingAndGlyphs\" textLength=\"5\" x=\"117.5\" y=\"117.6074\">z</text><line style=\"stroke: #383838; stroke-width: 1.5;\" x1=\"85.5\" x2=\"154.5\" y1=\"125.4375\" y2=\"125.4375\"/></a><a href=\"psysml:5348c3d7-5f8d-4656-8805-8961159c09b6\" target=\"_top\" title=\"psysml:5348c3d7-5f8d-4656-8805-8961159c09b6\" xlink:actuate=\"onRequest\" xlink:href=\"psysml:5348c3d7-5f8d-4656-8805-8961159c09b6\" xlink:show=\"new\" xlink:title=\"psysml:5348c3d7-5f8d-4656-8805-8961159c09b6\" xlink:type=\"simple\"><polygon fill=\"#FFFFFF\" points=\"271.5,84,392.5,84,399.5,106.2969,406.5,106.2969,406.5,136.5938,271.5,136.5938,271.5,84\" style=\"stroke: #000000; stroke-width: 1.5;\"/><line style=\"stroke: #000000; stroke-width: 1.5;\" x1=\"271.5\" x2=\"399.5\" y1=\"106.2969\" y2=\"106.2969\"/><text fill=\"#000000\" font-family=\"sans-serif\" font-size=\"14\" font-weight=\"bold\" lengthAdjust=\"spacingAndGlyphs\" textLength=\"115\" x=\"275.5\" y=\"98.9951\">Application Layer</text></a><a href=\"psysml:e92bea40-a3a7-48d4-b6b8-5548cc937669\" target=\"_top\" title=\"psysml:e92bea40-a3a7-48d4-b6b8-5548cc937669\" xlink:actuate=\"onRequest\" xlink:href=\"psysml:e92bea40-a3a7-48d4-b6b8-5548cc937669\" xlink:show=\"new\" xlink:title=\"psysml:e92bea40-a3a7-48d4-b6b8-5548cc937669\" xlink:type=\"simple\"><polygon fill=\"#FFFFFF\" points=\"284,214,380,214,387,236.2969,394,236.2969,394,266.5938,284,266.5938,284,214\" style=\"stroke: #000000; stroke-width: 1.5;\"/><line style=\"stroke: #000000; stroke-width: 1.5;\" x1=\"284\" x2=\"387\" y1=\"236.2969\" y2=\"236.2969\"/><text fill=\"#000000\" font-family=\"sans-serif\" font-size=\"14\" font-weight=\"bold\" lengthAdjust=\"spacingAndGlyphs\" textLength=\"90\" x=\"288\" y=\"228.9951\">Service Layer</text></a><a href=\"psysml:9210d902-7ba4-4a43-8b80-75376691e6d0\" target=\"_top\" title=\"psysml:9210d902-7ba4-4a43-8b80-75376691e6d0\" xlink:actuate=\"onRequest\" xlink:href=\"psysml:9210d902-7ba4-4a43-8b80-75376691e6d0\" xlink:show=\"new\" xlink:title=\"psysml:9210d902-7ba4-4a43-8b80-75376691e6d0\" xlink:type=\"simple\"><polygon fill=\"#FFFFFF\" points=\"293,344,371,344,378,366.2969,385,366.2969,385,396.5938,293,396.5938,293,344\" style=\"stroke: #000000; stroke-width: 1.5;\"/><line style=\"stroke: #000000; stroke-width: 1.5;\" x1=\"293\" x2=\"378\" y1=\"366.2969\" y2=\"366.2969\"/><text fill=\"#000000\" font-family=\"sans-serif\" font-size=\"14\" font-weight=\"bold\" lengthAdjust=\"spacingAndGlyphs\" textLength=\"72\" x=\"297\" y=\"358.9951\">Data Layer</text></a><!--MD5=[af87c684e3b0d8be13c1a698a818ef1e]\n",
       "link E3 to E4--><a href=\"psysml:43ea743a-a860-452f-b433-717c56c39b79\" target=\"_top\" title=\"psysml:43ea743a-a860-452f-b433-717c56c39b79\" xlink:actuate=\"onRequest\" xlink:href=\"psysml:43ea743a-a860-452f-b433-717c56c39b79\" xlink:show=\"new\" xlink:title=\"psysml:43ea743a-a860-452f-b433-717c56c39b79\" xlink:type=\"simple\"><path d=\"M339,137.1 C339,156.8 339,184.22 339,205.73 \" fill=\"none\" id=\"E3-&gt;E4\" style=\"stroke: #383838; stroke-width: 1.0; stroke-dasharray: 7.0,7.0;\"/><polygon fill=\"#383838\" points=\"339,213.95,342,205.95,336,205.95,339,213.95\" style=\"stroke: #383838; stroke-width: 1.0;\"/><text fill=\"#000000\" font-family=\"sans-serif\" font-size=\"13\" lengthAdjust=\"spacingAndGlyphs\" textLength=\"64\" x=\"340\" y=\"180.0669\">«depend»</text></a><!--MD5=[1b7591eae5389033d8d09a9d6721a717]\n",
       "link E4 to E5--><a href=\"psysml:2fd6f227-cfe3-4fe1-af5d-016c5bccfb5b\" target=\"_top\" title=\"psysml:2fd6f227-cfe3-4fe1-af5d-016c5bccfb5b\" xlink:actuate=\"onRequest\" xlink:href=\"psysml:2fd6f227-cfe3-4fe1-af5d-016c5bccfb5b\" xlink:show=\"new\" xlink:title=\"psysml:2fd6f227-cfe3-4fe1-af5d-016c5bccfb5b\" xlink:type=\"simple\"><path d=\"M339,267.1 C339,286.8 339,314.22 339,335.73 \" fill=\"none\" id=\"E4-&gt;E5\" style=\"stroke: #383838; stroke-width: 1.0; stroke-dasharray: 7.0,7.0;\"/><polygon fill=\"#383838\" points=\"339,343.95,342,335.95,336,335.95,339,343.95\" style=\"stroke: #383838; stroke-width: 1.0;\"/><text fill=\"#000000\" font-family=\"sans-serif\" font-size=\"13\" lengthAdjust=\"spacingAndGlyphs\" textLength=\"64\" x=\"340\" y=\"310.0669\">«depend»</text></a><!--MD5=[c5e8897d989ce984f93528998a7150fe]\n",
       "link E8 to E6--><a href=\"psysml:209e6958-61b2-4a39-8cf0-69b60dbfdefc\" target=\"_top\" title=\"psysml:209e6958-61b2-4a39-8cf0-69b60dbfdefc\" xlink:actuate=\"onRequest\" xlink:href=\"psysml:209e6958-61b2-4a39-8cf0-69b60dbfdefc\" xlink:show=\"new\" xlink:title=\"psysml:209e6958-61b2-4a39-8cf0-69b60dbfdefc\" xlink:type=\"simple\"><path d=\"M89.42,133.6 C79.35,142.68 69.37,154.11 64,167 C58.5,180.2 58.66,195.94 60.54,209.38 \" fill=\"none\" id=\"E8-&gt;E6\" style=\"stroke: #383838; stroke-width: 1.0; stroke-dasharray: 7.0,7.0;\"/><polygon fill=\"#383838\" points=\"61.9,217.4,63.517,209.0104,57.6018,210.0159,61.9,217.4\" style=\"stroke: #383838; stroke-width: 1.0;\"/><text fill=\"#000000\" font-family=\"sans-serif\" font-size=\"13\" lengthAdjust=\"spacingAndGlyphs\" textLength=\"64\" x=\"65\" y=\"180.0669\">«depend»</text></a><!--MD5=[bfa3c8b0d15052fdf50ae9310b491027]\n",
       "link E8 to E7--><a href=\"psysml:209e6958-61b2-4a39-8cf0-69b60dbfdefc\" target=\"_top\" title=\"psysml:209e6958-61b2-4a39-8cf0-69b60dbfdefc\" xlink:actuate=\"onRequest\" xlink:href=\"psysml:209e6958-61b2-4a39-8cf0-69b60dbfdefc\" xlink:show=\"new\" xlink:title=\"psysml:209e6958-61b2-4a39-8cf0-69b60dbfdefc\" xlink:type=\"simple\"><path d=\"M129.28,133.5 C138.17,154.57 151.64,186.5 161.47,209.81 \" fill=\"none\" id=\"E8-&gt;E7\" style=\"stroke: #383838; stroke-width: 1.0; stroke-dasharray: 7.0,7.0;\"/><polygon fill=\"#383838\" points=\"164.66,217.35,164.3241,208.8126,158.7933,211.1385,164.66,217.35\" style=\"stroke: #383838; stroke-width: 1.0;\"/><text fill=\"#000000\" font-family=\"sans-serif\" font-size=\"13\" lengthAdjust=\"spacingAndGlyphs\" textLength=\"64\" x=\"151\" y=\"180.0669\">«depend»</text></a><!--MD5=[84bddaf9c38da6bcc311d3cb1e336b2e]\n",
       "@startuml\r\n",
       "skinparam monochrome true\r\n",
       "skinparam classbackgroundcolor white\r\n",
       "skinparam shadowing false\r\n",
       "skinparam wrapWidth 300\r\n",
       "hide circle\r\n",
       "\r\n",
       "package \"DependencyTest\" as E1  [[psysml:eac58141-1d30-4dd4-8de7-f3beae76540f ]]  {\r\n",
       "package \"System\" as E2  [[psysml:13805519-bfbc-4c0f-88c4-787529a25875 ]]  {\r\n",
       "package \"Application Layer\" as E3  [[psysml:5348c3d7-5f8d-4656-8805-8961159c09b6 ]]  {\r\n",
       "}\r\n",
       "package \"Service Layer\" as E4  [[psysml:e92bea40-a3a7-48d4-b6b8-5548cc937669 ]]  {\r\n",
       "}\r\n",
       "package \"Data Layer\" as E5  [[psysml:9210d902-7ba4-4a43-8b80-75376691e6d0 ]]  {\r\n",
       "}\r\n",
       "}\r\n",
       "comp usage \"x\" as E6  <<(T,blue) attribute>> [[psysml:d1a2f8b3-43fe-4bb6-bcd1-ae6c73505f04 ]] {\r\n",
       "}\r\n",
       "comp usage \"y\" as E7  <<(T,blue) attribute>> [[psysml:ad948c0a-adc5-4c23-9b66-20666ae7e933 ]] {\r\n",
       "}\r\n",
       "comp usage \"z\" as E8  <<(T,blue) attribute>> [[psysml:4e191771-f0c3-4f18-930e-d8147bece3b0 ]] {\r\n",
       "}\r\n",
       "}\r\n",
       "E3 ..>> E4 [[psysml:43ea743a-a860-452f-b433-717c56c39b79 ]] : <<depend>>\r\n",
       "E4 ..>> E5 [[psysml:2fd6f227-cfe3-4fe1-af5d-016c5bccfb5b ]] : <<depend>>\r\n",
       "E8 ..>> E6 [[psysml:209e6958-61b2-4a39-8cf0-69b60dbfdefc ]] : <<depend>>\r\n",
       "E8 ..>> E7 [[psysml:209e6958-61b2-4a39-8cf0-69b60dbfdefc ]] : <<depend>>\r\n",
       "@enduml\r\n",
       "\n",
       "PlantUML version 1.2020.13(Sat Jun 13 12:26:38 UTC 2020)\n",
       "(EPL source distribution)\n",
       "Java Runtime: OpenJDK Runtime Environment\n",
       "JVM: OpenJDK 64-Bit Server VM\n",
       "Default Encoding: UTF-8\n",
       "Language: en\n",
       "Country: null\n",
       "--></g></svg>"
      ]
     },
     "execution_count": 37,
     "metadata": {},
     "output_type": "execute_result"
    }
   ],
   "source": [
    "%viz --style=\"DEFAULT\" --view=\"Default\" \"DependencyTest\""
   ]
  },
  {
   "cell_type": "code",
   "execution_count": 38,
   "id": "9dee6eb1",
   "metadata": {
    "execution": {
     "iopub.execute_input": "2021-10-25T08:20:46.552714Z",
     "iopub.status.busy": "2021-10-25T08:20:46.552370Z",
     "iopub.status.idle": "2021-10-25T08:20:46.575559Z",
     "shell.execute_reply": "2021-10-25T08:20:46.574521Z"
    }
   },
   "outputs": [
    {
     "data": {
      "image/svg+xml": [
       "<?xml version=\"1.0\" encoding=\"UTF-8\" standalone=\"no\"?><svg xmlns=\"http://www.w3.org/2000/svg\" xmlns:xlink=\"http://www.w3.org/1999/xlink\" contentScriptType=\"application/ecmascript\" contentStyleType=\"text/css\" height=\"449px\" preserveAspectRatio=\"none\" style=\"width:469px;height:449px;\" version=\"1.1\" viewBox=\"0 0 469 449\" width=\"469px\" zoomAndPan=\"magnify\"><defs/><g><!--MD5=[fbc87193dbaf4d95561dea2c320d4a47]\n",
       "cluster E1--><a href=\"psysml:eac58141-1d30-4dd4-8de7-f3beae76540f\" target=\"_top\" title=\"psysml:eac58141-1d30-4dd4-8de7-f3beae76540f\" xlink:actuate=\"onRequest\" xlink:href=\"psysml:eac58141-1d30-4dd4-8de7-f3beae76540f\" xlink:show=\"new\" xlink:title=\"psysml:eac58141-1d30-4dd4-8de7-f3beae76540f\" xlink:type=\"simple\"><polygon fill=\"#FFFFFF\" points=\"16,6,142,6,149,28.2969,447,28.2969,447,437,16,437,16,6\" style=\"stroke: #000000; stroke-width: 1.5;\"/><line style=\"stroke: #000000; stroke-width: 1.5;\" x1=\"16\" x2=\"149\" y1=\"28.2969\" y2=\"28.2969\"/><text fill=\"#000000\" font-family=\"sans-serif\" font-size=\"14\" font-weight=\"bold\" lengthAdjust=\"spacingAndGlyphs\" textLength=\"120\" x=\"20\" y=\"20.9951\">DependencyTest</text></a><!--MD5=[e4f7fae6ed58524ba242bb0b0d3be6b7]\n",
       "cluster E2--><a href=\"psysml:13805519-bfbc-4c0f-88c4-787529a25875\" target=\"_top\" title=\"psysml:13805519-bfbc-4c0f-88c4-787529a25875\" xlink:actuate=\"onRequest\" xlink:href=\"psysml:13805519-bfbc-4c0f-88c4-787529a25875\" xlink:show=\"new\" xlink:title=\"psysml:13805519-bfbc-4c0f-88c4-787529a25875\" xlink:type=\"simple\"><polygon fill=\"#FFFFFF\" points=\"255,49,312,49,319,71.2969,423,71.2969,423,413,255,413,255,49\" style=\"stroke: #000000; stroke-width: 1.5;\"/><line style=\"stroke: #000000; stroke-width: 1.5;\" x1=\"255\" x2=\"319\" y1=\"71.2969\" y2=\"71.2969\"/><text fill=\"#000000\" font-family=\"sans-serif\" font-size=\"14\" font-weight=\"bold\" lengthAdjust=\"spacingAndGlyphs\" textLength=\"51\" x=\"259\" y=\"63.9951\">System</text></a><!--MD5=[60a26617385b1d2d0262a64233df1f8d]\n",
       "class E6--><a href=\"psysml:d1a2f8b3-43fe-4bb6-bcd1-ae6c73505f04\" target=\"_top\" title=\"psysml:d1a2f8b3-43fe-4bb6-bcd1-ae6c73505f04\" xlink:actuate=\"onRequest\" xlink:href=\"psysml:d1a2f8b3-43fe-4bb6-bcd1-ae6c73505f04\" xlink:show=\"new\" xlink:title=\"psysml:d1a2f8b3-43fe-4bb6-bcd1-ae6c73505f04\" xlink:type=\"simple\"><rect fill=\"#FFFFFF\" height=\"45.9375\" id=\"E6\" rx=\"10\" ry=\"10\" style=\"stroke: #383838; stroke-width: 1.5;\" width=\"71\" x=\"32.5\" y=\"217.5\"/><text fill=\"#000000\" font-family=\"sans-serif\" font-size=\"12\" font-style=\"italic\" lengthAdjust=\"spacingAndGlyphs\" textLength=\"69\" x=\"33.5\" y=\"233.6387\">«attribute»</text><text fill=\"#000000\" font-family=\"sans-serif\" font-size=\"12\" lengthAdjust=\"spacingAndGlyphs\" textLength=\"6\" x=\"65\" y=\"247.6074\">x</text><line style=\"stroke: #383838; stroke-width: 1.5;\" x1=\"33.5\" x2=\"102.5\" y1=\"255.4375\" y2=\"255.4375\"/></a><!--MD5=[2156ba9850f5573cc1fc38a6a4b2f02b]\n",
       "class E7--><a href=\"psysml:ad948c0a-adc5-4c23-9b66-20666ae7e933\" target=\"_top\" title=\"psysml:ad948c0a-adc5-4c23-9b66-20666ae7e933\" xlink:actuate=\"onRequest\" xlink:href=\"psysml:ad948c0a-adc5-4c23-9b66-20666ae7e933\" xlink:show=\"new\" xlink:title=\"psysml:ad948c0a-adc5-4c23-9b66-20666ae7e933\" xlink:type=\"simple\"><rect fill=\"#FFFFFF\" height=\"45.9375\" id=\"E7\" rx=\"10\" ry=\"10\" style=\"stroke: #383838; stroke-width: 1.5;\" width=\"71\" x=\"138.5\" y=\"217.5\"/><text fill=\"#000000\" font-family=\"sans-serif\" font-size=\"12\" font-style=\"italic\" lengthAdjust=\"spacingAndGlyphs\" textLength=\"69\" x=\"139.5\" y=\"233.6387\">«attribute»</text><text fill=\"#000000\" font-family=\"sans-serif\" font-size=\"12\" lengthAdjust=\"spacingAndGlyphs\" textLength=\"6\" x=\"171\" y=\"247.6074\">y</text><line style=\"stroke: #383838; stroke-width: 1.5;\" x1=\"139.5\" x2=\"208.5\" y1=\"255.4375\" y2=\"255.4375\"/></a><!--MD5=[b9389687b975829384b498ac4b7476b2]\n",
       "class E8--><a href=\"psysml:4e191771-f0c3-4f18-930e-d8147bece3b0\" target=\"_top\" title=\"psysml:4e191771-f0c3-4f18-930e-d8147bece3b0\" xlink:actuate=\"onRequest\" xlink:href=\"psysml:4e191771-f0c3-4f18-930e-d8147bece3b0\" xlink:show=\"new\" xlink:title=\"psysml:4e191771-f0c3-4f18-930e-d8147bece3b0\" xlink:type=\"simple\"><rect fill=\"#FFFFFF\" height=\"45.9375\" id=\"E8\" rx=\"10\" ry=\"10\" style=\"stroke: #383838; stroke-width: 1.5;\" width=\"71\" x=\"84.5\" y=\"87.5\"/><text fill=\"#000000\" font-family=\"sans-serif\" font-size=\"12\" font-style=\"italic\" lengthAdjust=\"spacingAndGlyphs\" textLength=\"69\" x=\"85.5\" y=\"103.6387\">«attribute»</text><text fill=\"#000000\" font-family=\"sans-serif\" font-size=\"12\" lengthAdjust=\"spacingAndGlyphs\" textLength=\"5\" x=\"117.5\" y=\"117.6074\">z</text><line style=\"stroke: #383838; stroke-width: 1.5;\" x1=\"85.5\" x2=\"154.5\" y1=\"125.4375\" y2=\"125.4375\"/></a><a href=\"psysml:5348c3d7-5f8d-4656-8805-8961159c09b6\" target=\"_top\" title=\"psysml:5348c3d7-5f8d-4656-8805-8961159c09b6\" xlink:actuate=\"onRequest\" xlink:href=\"psysml:5348c3d7-5f8d-4656-8805-8961159c09b6\" xlink:show=\"new\" xlink:title=\"psysml:5348c3d7-5f8d-4656-8805-8961159c09b6\" xlink:type=\"simple\"><polygon fill=\"#FFFFFF\" points=\"271.5,84,392.5,84,399.5,106.2969,406.5,106.2969,406.5,136.5938,271.5,136.5938,271.5,84\" style=\"stroke: #000000; stroke-width: 1.5;\"/><line style=\"stroke: #000000; stroke-width: 1.5;\" x1=\"271.5\" x2=\"399.5\" y1=\"106.2969\" y2=\"106.2969\"/><text fill=\"#000000\" font-family=\"sans-serif\" font-size=\"14\" font-weight=\"bold\" lengthAdjust=\"spacingAndGlyphs\" textLength=\"115\" x=\"275.5\" y=\"98.9951\">Application Layer</text></a><a href=\"psysml:e92bea40-a3a7-48d4-b6b8-5548cc937669\" target=\"_top\" title=\"psysml:e92bea40-a3a7-48d4-b6b8-5548cc937669\" xlink:actuate=\"onRequest\" xlink:href=\"psysml:e92bea40-a3a7-48d4-b6b8-5548cc937669\" xlink:show=\"new\" xlink:title=\"psysml:e92bea40-a3a7-48d4-b6b8-5548cc937669\" xlink:type=\"simple\"><polygon fill=\"#FFFFFF\" points=\"284,214,380,214,387,236.2969,394,236.2969,394,266.5938,284,266.5938,284,214\" style=\"stroke: #000000; stroke-width: 1.5;\"/><line style=\"stroke: #000000; stroke-width: 1.5;\" x1=\"284\" x2=\"387\" y1=\"236.2969\" y2=\"236.2969\"/><text fill=\"#000000\" font-family=\"sans-serif\" font-size=\"14\" font-weight=\"bold\" lengthAdjust=\"spacingAndGlyphs\" textLength=\"90\" x=\"288\" y=\"228.9951\">Service Layer</text></a><a href=\"psysml:9210d902-7ba4-4a43-8b80-75376691e6d0\" target=\"_top\" title=\"psysml:9210d902-7ba4-4a43-8b80-75376691e6d0\" xlink:actuate=\"onRequest\" xlink:href=\"psysml:9210d902-7ba4-4a43-8b80-75376691e6d0\" xlink:show=\"new\" xlink:title=\"psysml:9210d902-7ba4-4a43-8b80-75376691e6d0\" xlink:type=\"simple\"><polygon fill=\"#FFFFFF\" points=\"293,344,371,344,378,366.2969,385,366.2969,385,396.5938,293,396.5938,293,344\" style=\"stroke: #000000; stroke-width: 1.5;\"/><line style=\"stroke: #000000; stroke-width: 1.5;\" x1=\"293\" x2=\"378\" y1=\"366.2969\" y2=\"366.2969\"/><text fill=\"#000000\" font-family=\"sans-serif\" font-size=\"14\" font-weight=\"bold\" lengthAdjust=\"spacingAndGlyphs\" textLength=\"72\" x=\"297\" y=\"358.9951\">Data Layer</text></a><!--MD5=[af87c684e3b0d8be13c1a698a818ef1e]\n",
       "link E3 to E4--><a href=\"psysml:43ea743a-a860-452f-b433-717c56c39b79\" target=\"_top\" title=\"psysml:43ea743a-a860-452f-b433-717c56c39b79\" xlink:actuate=\"onRequest\" xlink:href=\"psysml:43ea743a-a860-452f-b433-717c56c39b79\" xlink:show=\"new\" xlink:title=\"psysml:43ea743a-a860-452f-b433-717c56c39b79\" xlink:type=\"simple\"><path d=\"M339,137.1 C339,156.8 339,184.22 339,205.73 \" fill=\"none\" id=\"E3-&gt;E4\" style=\"stroke: #383838; stroke-width: 1.0; stroke-dasharray: 7.0,7.0;\"/><polygon fill=\"#383838\" points=\"339,213.95,342,205.95,336,205.95,339,213.95\" style=\"stroke: #383838; stroke-width: 1.0;\"/><text fill=\"#000000\" font-family=\"sans-serif\" font-size=\"13\" lengthAdjust=\"spacingAndGlyphs\" textLength=\"64\" x=\"340\" y=\"180.0669\">«depend»</text></a><!--MD5=[1b7591eae5389033d8d09a9d6721a717]\n",
       "link E4 to E5--><a href=\"psysml:2fd6f227-cfe3-4fe1-af5d-016c5bccfb5b\" target=\"_top\" title=\"psysml:2fd6f227-cfe3-4fe1-af5d-016c5bccfb5b\" xlink:actuate=\"onRequest\" xlink:href=\"psysml:2fd6f227-cfe3-4fe1-af5d-016c5bccfb5b\" xlink:show=\"new\" xlink:title=\"psysml:2fd6f227-cfe3-4fe1-af5d-016c5bccfb5b\" xlink:type=\"simple\"><path d=\"M339,267.1 C339,286.8 339,314.22 339,335.73 \" fill=\"none\" id=\"E4-&gt;E5\" style=\"stroke: #383838; stroke-width: 1.0; stroke-dasharray: 7.0,7.0;\"/><polygon fill=\"#383838\" points=\"339,343.95,342,335.95,336,335.95,339,343.95\" style=\"stroke: #383838; stroke-width: 1.0;\"/><text fill=\"#000000\" font-family=\"sans-serif\" font-size=\"13\" lengthAdjust=\"spacingAndGlyphs\" textLength=\"64\" x=\"340\" y=\"310.0669\">«depend»</text></a><!--MD5=[c5e8897d989ce984f93528998a7150fe]\n",
       "link E8 to E6--><a href=\"psysml:209e6958-61b2-4a39-8cf0-69b60dbfdefc\" target=\"_top\" title=\"psysml:209e6958-61b2-4a39-8cf0-69b60dbfdefc\" xlink:actuate=\"onRequest\" xlink:href=\"psysml:209e6958-61b2-4a39-8cf0-69b60dbfdefc\" xlink:show=\"new\" xlink:title=\"psysml:209e6958-61b2-4a39-8cf0-69b60dbfdefc\" xlink:type=\"simple\"><path d=\"M89.42,133.6 C79.35,142.68 69.37,154.11 64,167 C58.5,180.2 58.66,195.94 60.54,209.38 \" fill=\"none\" id=\"E8-&gt;E6\" style=\"stroke: #383838; stroke-width: 1.0; stroke-dasharray: 7.0,7.0;\"/><polygon fill=\"#383838\" points=\"61.9,217.4,63.517,209.0104,57.6018,210.0159,61.9,217.4\" style=\"stroke: #383838; stroke-width: 1.0;\"/><text fill=\"#000000\" font-family=\"sans-serif\" font-size=\"13\" lengthAdjust=\"spacingAndGlyphs\" textLength=\"64\" x=\"65\" y=\"180.0669\">«depend»</text></a><!--MD5=[bfa3c8b0d15052fdf50ae9310b491027]\n",
       "link E8 to E7--><a href=\"psysml:209e6958-61b2-4a39-8cf0-69b60dbfdefc\" target=\"_top\" title=\"psysml:209e6958-61b2-4a39-8cf0-69b60dbfdefc\" xlink:actuate=\"onRequest\" xlink:href=\"psysml:209e6958-61b2-4a39-8cf0-69b60dbfdefc\" xlink:show=\"new\" xlink:title=\"psysml:209e6958-61b2-4a39-8cf0-69b60dbfdefc\" xlink:type=\"simple\"><path d=\"M129.28,133.5 C138.17,154.57 151.64,186.5 161.47,209.81 \" fill=\"none\" id=\"E8-&gt;E7\" style=\"stroke: #383838; stroke-width: 1.0; stroke-dasharray: 7.0,7.0;\"/><polygon fill=\"#383838\" points=\"164.66,217.35,164.3241,208.8126,158.7933,211.1385,164.66,217.35\" style=\"stroke: #383838; stroke-width: 1.0;\"/><text fill=\"#000000\" font-family=\"sans-serif\" font-size=\"13\" lengthAdjust=\"spacingAndGlyphs\" textLength=\"64\" x=\"151\" y=\"180.0669\">«depend»</text></a><!--MD5=[84bddaf9c38da6bcc311d3cb1e336b2e]\n",
       "@startuml\r\n",
       "skinparam monochrome true\r\n",
       "skinparam classbackgroundcolor white\r\n",
       "skinparam shadowing false\r\n",
       "skinparam wrapWidth 300\r\n",
       "hide circle\r\n",
       "\r\n",
       "package \"DependencyTest\" as E1  [[psysml:eac58141-1d30-4dd4-8de7-f3beae76540f ]]  {\r\n",
       "package \"System\" as E2  [[psysml:13805519-bfbc-4c0f-88c4-787529a25875 ]]  {\r\n",
       "package \"Application Layer\" as E3  [[psysml:5348c3d7-5f8d-4656-8805-8961159c09b6 ]]  {\r\n",
       "}\r\n",
       "package \"Service Layer\" as E4  [[psysml:e92bea40-a3a7-48d4-b6b8-5548cc937669 ]]  {\r\n",
       "}\r\n",
       "package \"Data Layer\" as E5  [[psysml:9210d902-7ba4-4a43-8b80-75376691e6d0 ]]  {\r\n",
       "}\r\n",
       "}\r\n",
       "comp usage \"x\" as E6  <<(T,blue) attribute>> [[psysml:d1a2f8b3-43fe-4bb6-bcd1-ae6c73505f04 ]] {\r\n",
       "}\r\n",
       "comp usage \"y\" as E7  <<(T,blue) attribute>> [[psysml:ad948c0a-adc5-4c23-9b66-20666ae7e933 ]] {\r\n",
       "}\r\n",
       "comp usage \"z\" as E8  <<(T,blue) attribute>> [[psysml:4e191771-f0c3-4f18-930e-d8147bece3b0 ]] {\r\n",
       "}\r\n",
       "}\r\n",
       "E3 ..>> E4 [[psysml:43ea743a-a860-452f-b433-717c56c39b79 ]] : <<depend>>\r\n",
       "E4 ..>> E5 [[psysml:2fd6f227-cfe3-4fe1-af5d-016c5bccfb5b ]] : <<depend>>\r\n",
       "E8 ..>> E6 [[psysml:209e6958-61b2-4a39-8cf0-69b60dbfdefc ]] : <<depend>>\r\n",
       "E8 ..>> E7 [[psysml:209e6958-61b2-4a39-8cf0-69b60dbfdefc ]] : <<depend>>\r\n",
       "@enduml\r\n",
       "\n",
       "PlantUML version 1.2020.13(Sat Jun 13 12:26:38 UTC 2020)\n",
       "(EPL source distribution)\n",
       "Java Runtime: OpenJDK Runtime Environment\n",
       "JVM: OpenJDK 64-Bit Server VM\n",
       "Default Encoding: UTF-8\n",
       "Language: en\n",
       "Country: null\n",
       "--></g></svg>"
      ]
     },
     "execution_count": 38,
     "metadata": {},
     "output_type": "execute_result"
    }
   ],
   "source": [
    "%viz --style=\"DEFAULT\" --view=\"Tree\" \"DependencyTest\""
   ]
  },
  {
   "cell_type": "code",
   "execution_count": 39,
   "id": "b6e56c65",
   "metadata": {
    "execution": {
     "iopub.execute_input": "2021-10-25T08:20:46.625224Z",
     "iopub.status.busy": "2021-10-25T08:20:46.624854Z",
     "iopub.status.idle": "2021-10-25T08:20:46.630262Z",
     "shell.execute_reply": "2021-10-25T08:20:46.629925Z"
    }
   },
   "outputs": [
    {
     "data": {
      "image/svg+xml": [
       "<?xml version=\"1.0\" encoding=\"UTF-8\" standalone=\"no\"?><svg xmlns=\"http://www.w3.org/2000/svg\" xmlns:xlink=\"http://www.w3.org/1999/xlink\" contentScriptType=\"application/ecmascript\" contentStyleType=\"text/css\" height=\"12px\" preserveAspectRatio=\"none\" style=\"width:12px;height:12px;\" version=\"1.1\" viewBox=\"0 0 12 12\" width=\"12px\" zoomAndPan=\"magnify\"><defs/><g><!--MD5=[c5f280e076d0d61ccf4b0f27871bda1d]\n",
       "@startuml\r\n",
       "skinparam monochrome true\r\n",
       "skinparam classbackgroundcolor white\r\n",
       "skinparam shadowing false\r\n",
       "skinparam wrapWidth 300\r\n",
       "hide circle\r\n",
       "\r\n",
       "@enduml\r\n",
       "\n",
       "PlantUML version 1.2020.13(Sat Jun 13 12:26:38 UTC 2020)\n",
       "(EPL source distribution)\n",
       "Java Runtime: OpenJDK Runtime Environment\n",
       "JVM: OpenJDK 64-Bit Server VM\n",
       "Default Encoding: UTF-8\n",
       "Language: en\n",
       "Country: null\n",
       "--></g></svg>"
      ]
     },
     "execution_count": 39,
     "metadata": {},
     "output_type": "execute_result"
    }
   ],
   "source": [
    "%viz --style=\"DEFAULT\" --view=\"State\" \"DependencyTest\""
   ]
  },
  {
   "cell_type": "code",
   "execution_count": 40,
   "id": "90e471a1",
   "metadata": {
    "execution": {
     "iopub.execute_input": "2021-10-25T08:20:46.680084Z",
     "iopub.status.busy": "2021-10-25T08:20:46.679459Z",
     "iopub.status.idle": "2021-10-25T08:20:46.713411Z",
     "shell.execute_reply": "2021-10-25T08:20:46.713005Z"
    }
   },
   "outputs": [
    {
     "data": {
      "image/svg+xml": [
       "<?xml version=\"1.0\" encoding=\"UTF-8\" standalone=\"no\"?><svg xmlns=\"http://www.w3.org/2000/svg\" xmlns:xlink=\"http://www.w3.org/1999/xlink\" contentScriptType=\"application/ecmascript\" contentStyleType=\"text/css\" height=\"361px\" preserveAspectRatio=\"none\" style=\"width:469px;height:361px;\" version=\"1.1\" viewBox=\"0 0 469 361\" width=\"469px\" zoomAndPan=\"magnify\"><defs/><g><!--MD5=[fbc87193dbaf4d95561dea2c320d4a47]\n",
       "cluster E1--><a href=\"psysml:eac58141-1d30-4dd4-8de7-f3beae76540f\" target=\"_top\" title=\"psysml:eac58141-1d30-4dd4-8de7-f3beae76540f\" xlink:actuate=\"onRequest\" xlink:href=\"psysml:eac58141-1d30-4dd4-8de7-f3beae76540f\" xlink:show=\"new\" xlink:title=\"psysml:eac58141-1d30-4dd4-8de7-f3beae76540f\" xlink:type=\"simple\"><polygon fill=\"#FFFFFF\" points=\"16,6,142,6,149,28.2969,447,28.2969,447,349,16,349,16,6\" style=\"stroke: #000000; stroke-width: 1.5;\"/><line style=\"stroke: #000000; stroke-width: 1.5;\" x1=\"16\" x2=\"149\" y1=\"28.2969\" y2=\"28.2969\"/><text fill=\"#000000\" font-family=\"sans-serif\" font-size=\"14\" font-weight=\"bold\" lengthAdjust=\"spacingAndGlyphs\" textLength=\"120\" x=\"20\" y=\"20.9951\">DependencyTest</text></a><!--MD5=[e4f7fae6ed58524ba242bb0b0d3be6b7]\n",
       "cluster E2--><a href=\"psysml:13805519-bfbc-4c0f-88c4-787529a25875\" target=\"_top\" title=\"psysml:13805519-bfbc-4c0f-88c4-787529a25875\" xlink:actuate=\"onRequest\" xlink:href=\"psysml:13805519-bfbc-4c0f-88c4-787529a25875\" xlink:show=\"new\" xlink:title=\"psysml:13805519-bfbc-4c0f-88c4-787529a25875\" xlink:type=\"simple\"><polygon fill=\"#FFFFFF\" points=\"255,49,312,49,319,71.2969,423,71.2969,423,325,255,325,255,49\" style=\"stroke: #000000; stroke-width: 1.5;\"/><line style=\"stroke: #000000; stroke-width: 1.5;\" x1=\"255\" x2=\"319\" y1=\"71.2969\" y2=\"71.2969\"/><text fill=\"#000000\" font-family=\"sans-serif\" font-size=\"14\" font-weight=\"bold\" lengthAdjust=\"spacingAndGlyphs\" textLength=\"51\" x=\"259\" y=\"63.9951\">System</text></a><!--MD5=[60a26617385b1d2d0262a64233df1f8d]\n",
       "class E6--><a href=\"psysml:d1a2f8b3-43fe-4bb6-bcd1-ae6c73505f04\" target=\"_top\" title=\"psysml:d1a2f8b3-43fe-4bb6-bcd1-ae6c73505f04\" xlink:actuate=\"onRequest\" xlink:href=\"psysml:d1a2f8b3-43fe-4bb6-bcd1-ae6c73505f04\" xlink:show=\"new\" xlink:title=\"psysml:d1a2f8b3-43fe-4bb6-bcd1-ae6c73505f04\" xlink:type=\"simple\"><rect fill=\"#FFFFFF\" height=\"45.9375\" id=\"E6\" rx=\"10\" ry=\"10\" style=\"stroke: #383838; stroke-width: 1.5;\" width=\"71\" x=\"32.5\" y=\"173.5\"/><text fill=\"#000000\" font-family=\"sans-serif\" font-size=\"12\" font-style=\"italic\" lengthAdjust=\"spacingAndGlyphs\" textLength=\"69\" x=\"33.5\" y=\"189.6387\">«attribute»</text><text fill=\"#000000\" font-family=\"sans-serif\" font-size=\"12\" lengthAdjust=\"spacingAndGlyphs\" textLength=\"6\" x=\"65\" y=\"203.6074\">x</text><line style=\"stroke: #383838; stroke-width: 1.5;\" x1=\"33.5\" x2=\"102.5\" y1=\"211.4375\" y2=\"211.4375\"/></a><!--MD5=[2156ba9850f5573cc1fc38a6a4b2f02b]\n",
       "class E7--><a href=\"psysml:ad948c0a-adc5-4c23-9b66-20666ae7e933\" target=\"_top\" title=\"psysml:ad948c0a-adc5-4c23-9b66-20666ae7e933\" xlink:actuate=\"onRequest\" xlink:href=\"psysml:ad948c0a-adc5-4c23-9b66-20666ae7e933\" xlink:show=\"new\" xlink:title=\"psysml:ad948c0a-adc5-4c23-9b66-20666ae7e933\" xlink:type=\"simple\"><rect fill=\"#FFFFFF\" height=\"45.9375\" id=\"E7\" rx=\"10\" ry=\"10\" style=\"stroke: #383838; stroke-width: 1.5;\" width=\"71\" x=\"138.5\" y=\"173.5\"/><text fill=\"#000000\" font-family=\"sans-serif\" font-size=\"12\" font-style=\"italic\" lengthAdjust=\"spacingAndGlyphs\" textLength=\"69\" x=\"139.5\" y=\"189.6387\">«attribute»</text><text fill=\"#000000\" font-family=\"sans-serif\" font-size=\"12\" lengthAdjust=\"spacingAndGlyphs\" textLength=\"6\" x=\"171\" y=\"203.6074\">y</text><line style=\"stroke: #383838; stroke-width: 1.5;\" x1=\"139.5\" x2=\"208.5\" y1=\"211.4375\" y2=\"211.4375\"/></a><!--MD5=[b9389687b975829384b498ac4b7476b2]\n",
       "class E8--><a href=\"psysml:4e191771-f0c3-4f18-930e-d8147bece3b0\" target=\"_top\" title=\"psysml:4e191771-f0c3-4f18-930e-d8147bece3b0\" xlink:actuate=\"onRequest\" xlink:href=\"psysml:4e191771-f0c3-4f18-930e-d8147bece3b0\" xlink:show=\"new\" xlink:title=\"psysml:4e191771-f0c3-4f18-930e-d8147bece3b0\" xlink:type=\"simple\"><rect fill=\"#FFFFFF\" height=\"45.9375\" id=\"E8\" rx=\"10\" ry=\"10\" style=\"stroke: #383838; stroke-width: 1.5;\" width=\"71\" x=\"84.5\" y=\"87.5\"/><text fill=\"#000000\" font-family=\"sans-serif\" font-size=\"12\" font-style=\"italic\" lengthAdjust=\"spacingAndGlyphs\" textLength=\"69\" x=\"85.5\" y=\"103.6387\">«attribute»</text><text fill=\"#000000\" font-family=\"sans-serif\" font-size=\"12\" lengthAdjust=\"spacingAndGlyphs\" textLength=\"5\" x=\"117.5\" y=\"117.6074\">z</text><line style=\"stroke: #383838; stroke-width: 1.5;\" x1=\"85.5\" x2=\"154.5\" y1=\"125.4375\" y2=\"125.4375\"/></a><a href=\"psysml:5348c3d7-5f8d-4656-8805-8961159c09b6\" target=\"_top\" title=\"psysml:5348c3d7-5f8d-4656-8805-8961159c09b6\" xlink:actuate=\"onRequest\" xlink:href=\"psysml:5348c3d7-5f8d-4656-8805-8961159c09b6\" xlink:show=\"new\" xlink:title=\"psysml:5348c3d7-5f8d-4656-8805-8961159c09b6\" xlink:type=\"simple\"><polygon fill=\"#FFFFFF\" points=\"271.5,84,392.5,84,399.5,106.2969,406.5,106.2969,406.5,136.5938,271.5,136.5938,271.5,84\" style=\"stroke: #000000; stroke-width: 1.5;\"/><line style=\"stroke: #000000; stroke-width: 1.5;\" x1=\"271.5\" x2=\"399.5\" y1=\"106.2969\" y2=\"106.2969\"/><text fill=\"#000000\" font-family=\"sans-serif\" font-size=\"14\" font-weight=\"bold\" lengthAdjust=\"spacingAndGlyphs\" textLength=\"115\" x=\"275.5\" y=\"98.9951\">Application Layer</text></a><a href=\"psysml:e92bea40-a3a7-48d4-b6b8-5548cc937669\" target=\"_top\" title=\"psysml:e92bea40-a3a7-48d4-b6b8-5548cc937669\" xlink:actuate=\"onRequest\" xlink:href=\"psysml:e92bea40-a3a7-48d4-b6b8-5548cc937669\" xlink:show=\"new\" xlink:title=\"psysml:e92bea40-a3a7-48d4-b6b8-5548cc937669\" xlink:type=\"simple\"><polygon fill=\"#FFFFFF\" points=\"284,170,380,170,387,192.2969,394,192.2969,394,222.5938,284,222.5938,284,170\" style=\"stroke: #000000; stroke-width: 1.5;\"/><line style=\"stroke: #000000; stroke-width: 1.5;\" x1=\"284\" x2=\"387\" y1=\"192.2969\" y2=\"192.2969\"/><text fill=\"#000000\" font-family=\"sans-serif\" font-size=\"14\" font-weight=\"bold\" lengthAdjust=\"spacingAndGlyphs\" textLength=\"90\" x=\"288\" y=\"184.9951\">Service Layer</text></a><a href=\"psysml:9210d902-7ba4-4a43-8b80-75376691e6d0\" target=\"_top\" title=\"psysml:9210d902-7ba4-4a43-8b80-75376691e6d0\" xlink:actuate=\"onRequest\" xlink:href=\"psysml:9210d902-7ba4-4a43-8b80-75376691e6d0\" xlink:show=\"new\" xlink:title=\"psysml:9210d902-7ba4-4a43-8b80-75376691e6d0\" xlink:type=\"simple\"><polygon fill=\"#FFFFFF\" points=\"293,256,371,256,378,278.2969,385,278.2969,385,308.5938,293,308.5938,293,256\" style=\"stroke: #000000; stroke-width: 1.5;\"/><line style=\"stroke: #000000; stroke-width: 1.5;\" x1=\"293\" x2=\"378\" y1=\"278.2969\" y2=\"278.2969\"/><text fill=\"#000000\" font-family=\"sans-serif\" font-size=\"14\" font-weight=\"bold\" lengthAdjust=\"spacingAndGlyphs\" textLength=\"72\" x=\"297\" y=\"270.9951\">Data Layer</text></a><!--MD5=[af87c684e3b0d8be13c1a698a818ef1e]\n",
       "link E3 to E4--><a href=\"psysml:43ea743a-a860-452f-b433-717c56c39b79\" target=\"_top\" title=\"psysml:43ea743a-a860-452f-b433-717c56c39b79\" xlink:actuate=\"onRequest\" xlink:href=\"psysml:43ea743a-a860-452f-b433-717c56c39b79\" xlink:show=\"new\" xlink:title=\"psysml:43ea743a-a860-452f-b433-717c56c39b79\" xlink:type=\"simple\"><path d=\"M339,137.16 C339,144.98 339,153.69 339,161.94 \" fill=\"none\" id=\"E3-&gt;E4\" style=\"stroke: #383838; stroke-width: 1.0; stroke-dasharray: 7.0,7.0;\"/><polygon fill=\"#383838\" points=\"339,170,342,162,336,162,339,170\" style=\"stroke: #383838; stroke-width: 1.0;\"/><text fill=\"#000000\" font-family=\"sans-serif\" font-size=\"13\" lengthAdjust=\"spacingAndGlyphs\" textLength=\"64\" x=\"340\" y=\"158.0669\">«depend»</text></a><!--MD5=[1b7591eae5389033d8d09a9d6721a717]\n",
       "link E4 to E5--><a href=\"psysml:2fd6f227-cfe3-4fe1-af5d-016c5bccfb5b\" target=\"_top\" title=\"psysml:2fd6f227-cfe3-4fe1-af5d-016c5bccfb5b\" xlink:actuate=\"onRequest\" xlink:href=\"psysml:2fd6f227-cfe3-4fe1-af5d-016c5bccfb5b\" xlink:show=\"new\" xlink:title=\"psysml:2fd6f227-cfe3-4fe1-af5d-016c5bccfb5b\" xlink:type=\"simple\"><path d=\"M339,223.16 C339,230.98 339,239.69 339,247.94 \" fill=\"none\" id=\"E4-&gt;E5\" style=\"stroke: #383838; stroke-width: 1.0; stroke-dasharray: 7.0,7.0;\"/><polygon fill=\"#383838\" points=\"339,256,342,248,336,248,339,256\" style=\"stroke: #383838; stroke-width: 1.0;\"/><text fill=\"#000000\" font-family=\"sans-serif\" font-size=\"13\" lengthAdjust=\"spacingAndGlyphs\" textLength=\"64\" x=\"340\" y=\"244.0669\">«depend»</text></a><!--MD5=[c5e8897d989ce984f93528998a7150fe]\n",
       "link E8 to E6--><a href=\"psysml:209e6958-61b2-4a39-8cf0-69b60dbfdefc\" target=\"_top\" title=\"psysml:209e6958-61b2-4a39-8cf0-69b60dbfdefc\" xlink:actuate=\"onRequest\" xlink:href=\"psysml:209e6958-61b2-4a39-8cf0-69b60dbfdefc\" xlink:show=\"new\" xlink:title=\"psysml:209e6958-61b2-4a39-8cf0-69b60dbfdefc\" xlink:type=\"simple\"><path d=\"M84.49,125.34 C76.34,130.27 68.69,136.72 64,145 C60.54,151.1 59.62,158.31 60,165.33 \" fill=\"none\" id=\"E8-&gt;E6\" style=\"stroke: #383838; stroke-width: 1.0; stroke-dasharray: 7.0,7.0;\"/><polygon fill=\"#383838\" points=\"60.97,173.42,63.0061,165.1221,57.0479,165.8294,60.97,173.42\" style=\"stroke: #383838; stroke-width: 1.0;\"/><text fill=\"#000000\" font-family=\"sans-serif\" font-size=\"13\" lengthAdjust=\"spacingAndGlyphs\" textLength=\"64\" x=\"65\" y=\"158.0669\">«depend»</text></a><!--MD5=[bfa3c8b0d15052fdf50ae9310b491027]\n",
       "link E8 to E7--><a href=\"psysml:209e6958-61b2-4a39-8cf0-69b60dbfdefc\" target=\"_top\" title=\"psysml:209e6958-61b2-4a39-8cf0-69b60dbfdefc\" xlink:actuate=\"onRequest\" xlink:href=\"psysml:209e6958-61b2-4a39-8cf0-69b60dbfdefc\" xlink:show=\"new\" xlink:title=\"psysml:209e6958-61b2-4a39-8cf0-69b60dbfdefc\" xlink:type=\"simple\"><path d=\"M134.19,133.57 C140.65,143.62 148.38,155.65 155.31,166.42 \" fill=\"none\" id=\"E8-&gt;E7\" style=\"stroke: #383838; stroke-width: 1.0; stroke-dasharray: 7.0,7.0;\"/><polygon fill=\"#383838\" points=\"159.72,173.29,157.9148,164.9389,152.8688,168.185,159.72,173.29\" style=\"stroke: #383838; stroke-width: 1.0;\"/><text fill=\"#000000\" font-family=\"sans-serif\" font-size=\"13\" lengthAdjust=\"spacingAndGlyphs\" textLength=\"64\" x=\"152\" y=\"158.0669\">«depend»</text></a><!--MD5=[1aa42baf2993858380f07d7e29ae4d93]\n",
       "@startuml\r\n",
       "skinparam ranksep 10\r\n",
       "skinparam rectangle {\r\n",
       " backgroundColor<<block>> LightGreen\r\n",
       "}\r\n",
       "skinparam monochrome true\r\n",
       "skinparam classbackgroundcolor white\r\n",
       "skinparam shadowing false\r\n",
       "skinparam wrapWidth 300\r\n",
       "hide circle\r\n",
       "\r\n",
       "package \"DependencyTest\" as E1  [[psysml:eac58141-1d30-4dd4-8de7-f3beae76540f ]]  {\r\n",
       "package \"System\" as E2  [[psysml:13805519-bfbc-4c0f-88c4-787529a25875 ]]  {\r\n",
       "package \"Application Layer\" as E3  [[psysml:5348c3d7-5f8d-4656-8805-8961159c09b6 ]]  {\r\n",
       "}\r\n",
       "package \"Service Layer\" as E4  [[psysml:e92bea40-a3a7-48d4-b6b8-5548cc937669 ]]  {\r\n",
       "}\r\n",
       "package \"Data Layer\" as E5  [[psysml:9210d902-7ba4-4a43-8b80-75376691e6d0 ]]  {\r\n",
       "}\r\n",
       "}\r\n",
       "comp usage \"x\" as E6  <<(T,blue) attribute>> [[psysml:d1a2f8b3-43fe-4bb6-bcd1-ae6c73505f04 ]] {\r\n",
       "}\r\n",
       "comp usage \"y\" as E7  <<(T,blue) attribute>> [[psysml:ad948c0a-adc5-4c23-9b66-20666ae7e933 ]] {\r\n",
       "}\r\n",
       "comp usage \"z\" as E8  <<(T,blue) attribute>> [[psysml:4e191771-f0c3-4f18-930e-d8147bece3b0 ]] {\r\n",
       "}\r\n",
       "}\r\n",
       "E3 ..>> E4 [[psysml:43ea743a-a860-452f-b433-717c56c39b79 ]] : <<depend>>\r\n",
       "E4 ..>> E5 [[psysml:2fd6f227-cfe3-4fe1-af5d-016c5bccfb5b ]] : <<depend>>\r\n",
       "E8 ..>> E6 [[psysml:209e6958-61b2-4a39-8cf0-69b60dbfdefc ]] : <<depend>>\r\n",
       "E8 ..>> E7 [[psysml:209e6958-61b2-4a39-8cf0-69b60dbfdefc ]] : <<depend>>\r\n",
       "@enduml\r\n",
       "\n",
       "PlantUML version 1.2020.13(Sat Jun 13 12:26:38 UTC 2020)\n",
       "(EPL source distribution)\n",
       "Java Runtime: OpenJDK Runtime Environment\n",
       "JVM: OpenJDK 64-Bit Server VM\n",
       "Default Encoding: UTF-8\n",
       "Language: en\n",
       "Country: null\n",
       "--></g></svg>"
      ]
     },
     "execution_count": 40,
     "metadata": {},
     "output_type": "execute_result"
    }
   ],
   "source": [
    "%viz --style=\"DEFAULT\" --view=\"Interconnection\" \"DependencyTest\""
   ]
  },
  {
   "cell_type": "code",
   "execution_count": 41,
   "id": "5206088b",
   "metadata": {
    "execution": {
     "iopub.execute_input": "2021-10-25T08:20:46.762589Z",
     "iopub.status.busy": "2021-10-25T08:20:46.761996Z",
     "iopub.status.idle": "2021-10-25T08:20:46.767642Z",
     "shell.execute_reply": "2021-10-25T08:20:46.767282Z"
    }
   },
   "outputs": [
    {
     "data": {
      "image/svg+xml": [
       "<?xml version=\"1.0\" encoding=\"UTF-8\" standalone=\"no\"?><svg xmlns=\"http://www.w3.org/2000/svg\" xmlns:xlink=\"http://www.w3.org/1999/xlink\" contentScriptType=\"application/ecmascript\" contentStyleType=\"text/css\" height=\"12px\" preserveAspectRatio=\"none\" style=\"width:12px;height:12px;\" version=\"1.1\" viewBox=\"0 0 12 12\" width=\"12px\" zoomAndPan=\"magnify\"><defs/><g><!--MD5=[388f21188e31bfdd97050473b19af356]\n",
       "@startuml\r\n",
       "skinparam ranksep 8\r\n",
       "skinparam monochrome true\r\n",
       "skinparam classbackgroundcolor white\r\n",
       "skinparam shadowing false\r\n",
       "skinparam wrapWidth 300\r\n",
       "hide circle\r\n",
       "\r\n",
       "@enduml\r\n",
       "\n",
       "PlantUML version 1.2020.13(Sat Jun 13 12:26:38 UTC 2020)\n",
       "(EPL source distribution)\n",
       "Java Runtime: OpenJDK Runtime Environment\n",
       "JVM: OpenJDK 64-Bit Server VM\n",
       "Default Encoding: UTF-8\n",
       "Language: en\n",
       "Country: null\n",
       "--></g></svg>"
      ]
     },
     "execution_count": 41,
     "metadata": {},
     "output_type": "execute_result"
    }
   ],
   "source": [
    "%viz --style=\"DEFAULT\" --view=\"Action\" \"DependencyTest\""
   ]
  },
  {
   "cell_type": "code",
   "execution_count": 42,
   "id": "6c8ed3da",
   "metadata": {
    "execution": {
     "iopub.execute_input": "2021-10-25T08:20:46.817376Z",
     "iopub.status.busy": "2021-10-25T08:20:46.816782Z",
     "iopub.status.idle": "2021-10-25T08:20:46.822592Z",
     "shell.execute_reply": "2021-10-25T08:20:46.822233Z"
    }
   },
   "outputs": [
    {
     "data": {
      "image/svg+xml": [
       "<?xml version=\"1.0\" encoding=\"UTF-8\" standalone=\"no\"?><svg xmlns=\"http://www.w3.org/2000/svg\" xmlns:xlink=\"http://www.w3.org/1999/xlink\" contentScriptType=\"application/ecmascript\" contentStyleType=\"text/css\" height=\"12px\" preserveAspectRatio=\"none\" style=\"width:12px;height:12px;\" version=\"1.1\" viewBox=\"0 0 12 12\" width=\"12px\" zoomAndPan=\"magnify\"><defs/><g><!--MD5=[0b72472770326784bf6c2b53246e1e64]\n",
       "@startuml\r\n",
       "skinparam roundcorner 20\r\n",
       "skinparam BoxPadding 20\r\n",
       "skinparam SequenceBoxBackgroundColor #white\r\n",
       "skinparam style strictuml\r\n",
       "skinparam maxMessageSize 100\r\n",
       "skinparam monochrome true\r\n",
       "skinparam classbackgroundcolor white\r\n",
       "skinparam shadowing false\r\n",
       "skinparam wrapWidth 300\r\n",
       "hide circle\r\n",
       "\r\n",
       "@enduml\r\n",
       "\n",
       "PlantUML version 1.2020.13(Sat Jun 13 12:26:38 UTC 2020)\n",
       "(EPL source distribution)\n",
       "Java Runtime: OpenJDK Runtime Environment\n",
       "JVM: OpenJDK 64-Bit Server VM\n",
       "Default Encoding: UTF-8\n",
       "Language: en\n",
       "Country: null\n",
       "--></g></svg>"
      ]
     },
     "execution_count": 42,
     "metadata": {},
     "output_type": "execute_result"
    }
   ],
   "source": [
    "%viz --style=\"DEFAULT\" --view=\"Sequence\" \"DependencyTest\""
   ]
  },
  {
   "cell_type": "code",
   "execution_count": 43,
   "id": "8fa01237",
   "metadata": {
    "execution": {
     "iopub.execute_input": "2021-10-25T08:20:46.872413Z",
     "iopub.status.busy": "2021-10-25T08:20:46.871778Z",
     "iopub.status.idle": "2021-10-25T08:20:46.904318Z",
     "shell.execute_reply": "2021-10-25T08:20:46.902469Z"
    }
   },
   "outputs": [
    {
     "data": {
      "image/svg+xml": [
       "<?xml version=\"1.0\" encoding=\"UTF-8\" standalone=\"no\"?><svg xmlns=\"http://www.w3.org/2000/svg\" xmlns:xlink=\"http://www.w3.org/1999/xlink\" contentScriptType=\"application/ecmascript\" contentStyleType=\"text/css\" height=\"449px\" preserveAspectRatio=\"none\" style=\"width:469px;height:449px;\" version=\"1.1\" viewBox=\"0 0 469 449\" width=\"469px\" zoomAndPan=\"magnify\"><defs/><g><!--MD5=[fbc87193dbaf4d95561dea2c320d4a47]\n",
       "cluster E1--><a href=\"psysml:eac58141-1d30-4dd4-8de7-f3beae76540f\" target=\"_top\" title=\"psysml:eac58141-1d30-4dd4-8de7-f3beae76540f\" xlink:actuate=\"onRequest\" xlink:href=\"psysml:eac58141-1d30-4dd4-8de7-f3beae76540f\" xlink:show=\"new\" xlink:title=\"psysml:eac58141-1d30-4dd4-8de7-f3beae76540f\" xlink:type=\"simple\"><polygon fill=\"#FFFFFF\" points=\"16,6,142,6,149,28.2969,447,28.2969,447,437,16,437,16,6\" style=\"stroke: #000000; stroke-width: 1.5;\"/><line style=\"stroke: #000000; stroke-width: 1.5;\" x1=\"16\" x2=\"149\" y1=\"28.2969\" y2=\"28.2969\"/><text fill=\"#000000\" font-family=\"sans-serif\" font-size=\"14\" font-weight=\"bold\" lengthAdjust=\"spacingAndGlyphs\" textLength=\"120\" x=\"20\" y=\"20.9951\">DependencyTest</text></a><!--MD5=[e4f7fae6ed58524ba242bb0b0d3be6b7]\n",
       "cluster E2--><a href=\"psysml:13805519-bfbc-4c0f-88c4-787529a25875\" target=\"_top\" title=\"psysml:13805519-bfbc-4c0f-88c4-787529a25875\" xlink:actuate=\"onRequest\" xlink:href=\"psysml:13805519-bfbc-4c0f-88c4-787529a25875\" xlink:show=\"new\" xlink:title=\"psysml:13805519-bfbc-4c0f-88c4-787529a25875\" xlink:type=\"simple\"><polygon fill=\"#FFFFFF\" points=\"255,49,312,49,319,71.2969,423,71.2969,423,413,255,413,255,49\" style=\"stroke: #000000; stroke-width: 1.5;\"/><line style=\"stroke: #000000; stroke-width: 1.5;\" x1=\"255\" x2=\"319\" y1=\"71.2969\" y2=\"71.2969\"/><text fill=\"#000000\" font-family=\"sans-serif\" font-size=\"14\" font-weight=\"bold\" lengthAdjust=\"spacingAndGlyphs\" textLength=\"51\" x=\"259\" y=\"63.9951\">System</text></a><!--MD5=[60a26617385b1d2d0262a64233df1f8d]\n",
       "class E6--><a href=\"psysml:d1a2f8b3-43fe-4bb6-bcd1-ae6c73505f04\" target=\"_top\" title=\"psysml:d1a2f8b3-43fe-4bb6-bcd1-ae6c73505f04\" xlink:actuate=\"onRequest\" xlink:href=\"psysml:d1a2f8b3-43fe-4bb6-bcd1-ae6c73505f04\" xlink:show=\"new\" xlink:title=\"psysml:d1a2f8b3-43fe-4bb6-bcd1-ae6c73505f04\" xlink:type=\"simple\"><rect fill=\"#FFFFFF\" height=\"45.9375\" id=\"E6\" rx=\"10\" ry=\"10\" style=\"stroke: #383838; stroke-width: 1.5;\" width=\"71\" x=\"32.5\" y=\"217.5\"/><text fill=\"#000000\" font-family=\"sans-serif\" font-size=\"12\" font-style=\"italic\" lengthAdjust=\"spacingAndGlyphs\" textLength=\"69\" x=\"33.5\" y=\"233.6387\">«attribute»</text><text fill=\"#000000\" font-family=\"sans-serif\" font-size=\"12\" lengthAdjust=\"spacingAndGlyphs\" textLength=\"6\" x=\"65\" y=\"247.6074\">x</text><line style=\"stroke: #383838; stroke-width: 1.5;\" x1=\"33.5\" x2=\"102.5\" y1=\"255.4375\" y2=\"255.4375\"/></a><!--MD5=[2156ba9850f5573cc1fc38a6a4b2f02b]\n",
       "class E7--><a href=\"psysml:ad948c0a-adc5-4c23-9b66-20666ae7e933\" target=\"_top\" title=\"psysml:ad948c0a-adc5-4c23-9b66-20666ae7e933\" xlink:actuate=\"onRequest\" xlink:href=\"psysml:ad948c0a-adc5-4c23-9b66-20666ae7e933\" xlink:show=\"new\" xlink:title=\"psysml:ad948c0a-adc5-4c23-9b66-20666ae7e933\" xlink:type=\"simple\"><rect fill=\"#FFFFFF\" height=\"45.9375\" id=\"E7\" rx=\"10\" ry=\"10\" style=\"stroke: #383838; stroke-width: 1.5;\" width=\"71\" x=\"138.5\" y=\"217.5\"/><text fill=\"#000000\" font-family=\"sans-serif\" font-size=\"12\" font-style=\"italic\" lengthAdjust=\"spacingAndGlyphs\" textLength=\"69\" x=\"139.5\" y=\"233.6387\">«attribute»</text><text fill=\"#000000\" font-family=\"sans-serif\" font-size=\"12\" lengthAdjust=\"spacingAndGlyphs\" textLength=\"6\" x=\"171\" y=\"247.6074\">y</text><line style=\"stroke: #383838; stroke-width: 1.5;\" x1=\"139.5\" x2=\"208.5\" y1=\"255.4375\" y2=\"255.4375\"/></a><!--MD5=[b9389687b975829384b498ac4b7476b2]\n",
       "class E8--><a href=\"psysml:4e191771-f0c3-4f18-930e-d8147bece3b0\" target=\"_top\" title=\"psysml:4e191771-f0c3-4f18-930e-d8147bece3b0\" xlink:actuate=\"onRequest\" xlink:href=\"psysml:4e191771-f0c3-4f18-930e-d8147bece3b0\" xlink:show=\"new\" xlink:title=\"psysml:4e191771-f0c3-4f18-930e-d8147bece3b0\" xlink:type=\"simple\"><rect fill=\"#FFFFFF\" height=\"45.9375\" id=\"E8\" rx=\"10\" ry=\"10\" style=\"stroke: #383838; stroke-width: 1.5;\" width=\"71\" x=\"84.5\" y=\"87.5\"/><text fill=\"#000000\" font-family=\"sans-serif\" font-size=\"12\" font-style=\"italic\" lengthAdjust=\"spacingAndGlyphs\" textLength=\"69\" x=\"85.5\" y=\"103.6387\">«attribute»</text><text fill=\"#000000\" font-family=\"sans-serif\" font-size=\"12\" lengthAdjust=\"spacingAndGlyphs\" textLength=\"5\" x=\"117.5\" y=\"117.6074\">z</text><line style=\"stroke: #383838; stroke-width: 1.5;\" x1=\"85.5\" x2=\"154.5\" y1=\"125.4375\" y2=\"125.4375\"/></a><a href=\"psysml:5348c3d7-5f8d-4656-8805-8961159c09b6\" target=\"_top\" title=\"psysml:5348c3d7-5f8d-4656-8805-8961159c09b6\" xlink:actuate=\"onRequest\" xlink:href=\"psysml:5348c3d7-5f8d-4656-8805-8961159c09b6\" xlink:show=\"new\" xlink:title=\"psysml:5348c3d7-5f8d-4656-8805-8961159c09b6\" xlink:type=\"simple\"><polygon fill=\"#FFFFFF\" points=\"271.5,84,392.5,84,399.5,106.2969,406.5,106.2969,406.5,136.5938,271.5,136.5938,271.5,84\" style=\"stroke: #000000; stroke-width: 1.5;\"/><line style=\"stroke: #000000; stroke-width: 1.5;\" x1=\"271.5\" x2=\"399.5\" y1=\"106.2969\" y2=\"106.2969\"/><text fill=\"#000000\" font-family=\"sans-serif\" font-size=\"14\" font-weight=\"bold\" lengthAdjust=\"spacingAndGlyphs\" textLength=\"115\" x=\"275.5\" y=\"98.9951\">Application Layer</text></a><a href=\"psysml:e92bea40-a3a7-48d4-b6b8-5548cc937669\" target=\"_top\" title=\"psysml:e92bea40-a3a7-48d4-b6b8-5548cc937669\" xlink:actuate=\"onRequest\" xlink:href=\"psysml:e92bea40-a3a7-48d4-b6b8-5548cc937669\" xlink:show=\"new\" xlink:title=\"psysml:e92bea40-a3a7-48d4-b6b8-5548cc937669\" xlink:type=\"simple\"><polygon fill=\"#FFFFFF\" points=\"284,214,380,214,387,236.2969,394,236.2969,394,266.5938,284,266.5938,284,214\" style=\"stroke: #000000; stroke-width: 1.5;\"/><line style=\"stroke: #000000; stroke-width: 1.5;\" x1=\"284\" x2=\"387\" y1=\"236.2969\" y2=\"236.2969\"/><text fill=\"#000000\" font-family=\"sans-serif\" font-size=\"14\" font-weight=\"bold\" lengthAdjust=\"spacingAndGlyphs\" textLength=\"90\" x=\"288\" y=\"228.9951\">Service Layer</text></a><a href=\"psysml:9210d902-7ba4-4a43-8b80-75376691e6d0\" target=\"_top\" title=\"psysml:9210d902-7ba4-4a43-8b80-75376691e6d0\" xlink:actuate=\"onRequest\" xlink:href=\"psysml:9210d902-7ba4-4a43-8b80-75376691e6d0\" xlink:show=\"new\" xlink:title=\"psysml:9210d902-7ba4-4a43-8b80-75376691e6d0\" xlink:type=\"simple\"><polygon fill=\"#FFFFFF\" points=\"293,344,371,344,378,366.2969,385,366.2969,385,396.5938,293,396.5938,293,344\" style=\"stroke: #000000; stroke-width: 1.5;\"/><line style=\"stroke: #000000; stroke-width: 1.5;\" x1=\"293\" x2=\"378\" y1=\"366.2969\" y2=\"366.2969\"/><text fill=\"#000000\" font-family=\"sans-serif\" font-size=\"14\" font-weight=\"bold\" lengthAdjust=\"spacingAndGlyphs\" textLength=\"72\" x=\"297\" y=\"358.9951\">Data Layer</text></a><!--MD5=[af87c684e3b0d8be13c1a698a818ef1e]\n",
       "link E3 to E4--><a href=\"psysml:43ea743a-a860-452f-b433-717c56c39b79\" target=\"_top\" title=\"psysml:43ea743a-a860-452f-b433-717c56c39b79\" xlink:actuate=\"onRequest\" xlink:href=\"psysml:43ea743a-a860-452f-b433-717c56c39b79\" xlink:show=\"new\" xlink:title=\"psysml:43ea743a-a860-452f-b433-717c56c39b79\" xlink:type=\"simple\"><path d=\"M339,137.1 C339,156.8 339,184.22 339,205.73 \" fill=\"none\" id=\"E3-&gt;E4\" style=\"stroke: #383838; stroke-width: 1.0; stroke-dasharray: 7.0,7.0;\"/><polygon fill=\"#383838\" points=\"339,213.95,342,205.95,336,205.95,339,213.95\" style=\"stroke: #383838; stroke-width: 1.0;\"/><text fill=\"#000000\" font-family=\"sans-serif\" font-size=\"13\" lengthAdjust=\"spacingAndGlyphs\" textLength=\"64\" x=\"340\" y=\"180.0669\">«depend»</text></a><!--MD5=[1b7591eae5389033d8d09a9d6721a717]\n",
       "link E4 to E5--><a href=\"psysml:2fd6f227-cfe3-4fe1-af5d-016c5bccfb5b\" target=\"_top\" title=\"psysml:2fd6f227-cfe3-4fe1-af5d-016c5bccfb5b\" xlink:actuate=\"onRequest\" xlink:href=\"psysml:2fd6f227-cfe3-4fe1-af5d-016c5bccfb5b\" xlink:show=\"new\" xlink:title=\"psysml:2fd6f227-cfe3-4fe1-af5d-016c5bccfb5b\" xlink:type=\"simple\"><path d=\"M339,267.1 C339,286.8 339,314.22 339,335.73 \" fill=\"none\" id=\"E4-&gt;E5\" style=\"stroke: #383838; stroke-width: 1.0; stroke-dasharray: 7.0,7.0;\"/><polygon fill=\"#383838\" points=\"339,343.95,342,335.95,336,335.95,339,343.95\" style=\"stroke: #383838; stroke-width: 1.0;\"/><text fill=\"#000000\" font-family=\"sans-serif\" font-size=\"13\" lengthAdjust=\"spacingAndGlyphs\" textLength=\"64\" x=\"340\" y=\"310.0669\">«depend»</text></a><!--MD5=[c5e8897d989ce984f93528998a7150fe]\n",
       "link E8 to E6--><a href=\"psysml:209e6958-61b2-4a39-8cf0-69b60dbfdefc\" target=\"_top\" title=\"psysml:209e6958-61b2-4a39-8cf0-69b60dbfdefc\" xlink:actuate=\"onRequest\" xlink:href=\"psysml:209e6958-61b2-4a39-8cf0-69b60dbfdefc\" xlink:show=\"new\" xlink:title=\"psysml:209e6958-61b2-4a39-8cf0-69b60dbfdefc\" xlink:type=\"simple\"><path d=\"M89.42,133.6 C79.35,142.68 69.37,154.11 64,167 C58.5,180.2 58.66,195.94 60.54,209.38 \" fill=\"none\" id=\"E8-&gt;E6\" style=\"stroke: #383838; stroke-width: 1.0; stroke-dasharray: 7.0,7.0;\"/><polygon fill=\"#383838\" points=\"61.9,217.4,63.517,209.0104,57.6018,210.0159,61.9,217.4\" style=\"stroke: #383838; stroke-width: 1.0;\"/><text fill=\"#000000\" font-family=\"sans-serif\" font-size=\"13\" lengthAdjust=\"spacingAndGlyphs\" textLength=\"64\" x=\"65\" y=\"180.0669\">«depend»</text></a><!--MD5=[bfa3c8b0d15052fdf50ae9310b491027]\n",
       "link E8 to E7--><a href=\"psysml:209e6958-61b2-4a39-8cf0-69b60dbfdefc\" target=\"_top\" title=\"psysml:209e6958-61b2-4a39-8cf0-69b60dbfdefc\" xlink:actuate=\"onRequest\" xlink:href=\"psysml:209e6958-61b2-4a39-8cf0-69b60dbfdefc\" xlink:show=\"new\" xlink:title=\"psysml:209e6958-61b2-4a39-8cf0-69b60dbfdefc\" xlink:type=\"simple\"><path d=\"M129.28,133.5 C138.17,154.57 151.64,186.5 161.47,209.81 \" fill=\"none\" id=\"E8-&gt;E7\" style=\"stroke: #383838; stroke-width: 1.0; stroke-dasharray: 7.0,7.0;\"/><polygon fill=\"#383838\" points=\"164.66,217.35,164.3241,208.8126,158.7933,211.1385,164.66,217.35\" style=\"stroke: #383838; stroke-width: 1.0;\"/><text fill=\"#000000\" font-family=\"sans-serif\" font-size=\"13\" lengthAdjust=\"spacingAndGlyphs\" textLength=\"64\" x=\"151\" y=\"180.0669\">«depend»</text></a><!--MD5=[84bddaf9c38da6bcc311d3cb1e336b2e]\n",
       "@startuml\r\n",
       "skinparam monochrome true\r\n",
       "skinparam classbackgroundcolor white\r\n",
       "skinparam shadowing false\r\n",
       "skinparam wrapWidth 300\r\n",
       "hide circle\r\n",
       "\r\n",
       "package \"DependencyTest\" as E1  [[psysml:eac58141-1d30-4dd4-8de7-f3beae76540f ]]  {\r\n",
       "package \"System\" as E2  [[psysml:13805519-bfbc-4c0f-88c4-787529a25875 ]]  {\r\n",
       "package \"Application Layer\" as E3  [[psysml:5348c3d7-5f8d-4656-8805-8961159c09b6 ]]  {\r\n",
       "}\r\n",
       "package \"Service Layer\" as E4  [[psysml:e92bea40-a3a7-48d4-b6b8-5548cc937669 ]]  {\r\n",
       "}\r\n",
       "package \"Data Layer\" as E5  [[psysml:9210d902-7ba4-4a43-8b80-75376691e6d0 ]]  {\r\n",
       "}\r\n",
       "}\r\n",
       "comp usage \"x\" as E6  <<(T,blue) attribute>> [[psysml:d1a2f8b3-43fe-4bb6-bcd1-ae6c73505f04 ]] {\r\n",
       "}\r\n",
       "comp usage \"y\" as E7  <<(T,blue) attribute>> [[psysml:ad948c0a-adc5-4c23-9b66-20666ae7e933 ]] {\r\n",
       "}\r\n",
       "comp usage \"z\" as E8  <<(T,blue) attribute>> [[psysml:4e191771-f0c3-4f18-930e-d8147bece3b0 ]] {\r\n",
       "}\r\n",
       "}\r\n",
       "E3 ..>> E4 [[psysml:43ea743a-a860-452f-b433-717c56c39b79 ]] : <<depend>>\r\n",
       "E4 ..>> E5 [[psysml:2fd6f227-cfe3-4fe1-af5d-016c5bccfb5b ]] : <<depend>>\r\n",
       "E8 ..>> E6 [[psysml:209e6958-61b2-4a39-8cf0-69b60dbfdefc ]] : <<depend>>\r\n",
       "E8 ..>> E7 [[psysml:209e6958-61b2-4a39-8cf0-69b60dbfdefc ]] : <<depend>>\r\n",
       "@enduml\r\n",
       "\n",
       "PlantUML version 1.2020.13(Sat Jun 13 12:26:38 UTC 2020)\n",
       "(EPL source distribution)\n",
       "Java Runtime: OpenJDK Runtime Environment\n",
       "JVM: OpenJDK 64-Bit Server VM\n",
       "Default Encoding: UTF-8\n",
       "Language: en\n",
       "Country: null\n",
       "--></g></svg>"
      ]
     },
     "execution_count": 43,
     "metadata": {},
     "output_type": "execute_result"
    }
   ],
   "source": [
    "%viz --style=\"DEFAULT\" --view=\"MIXED\" \"DependencyTest\""
   ]
  },
  {
   "cell_type": "code",
   "execution_count": 44,
   "id": "0332de64",
   "metadata": {
    "execution": {
     "iopub.execute_input": "2021-10-25T08:20:46.953546Z",
     "iopub.status.busy": "2021-10-25T08:20:46.952928Z",
     "iopub.status.idle": "2021-10-25T08:20:46.984917Z",
     "shell.execute_reply": "2021-10-25T08:20:46.984548Z"
    }
   },
   "outputs": [
    {
     "data": {
      "image/svg+xml": [
       "<?xml version=\"1.0\" encoding=\"UTF-8\" standalone=\"no\"?><svg xmlns=\"http://www.w3.org/2000/svg\" xmlns:xlink=\"http://www.w3.org/1999/xlink\" contentScriptType=\"application/ecmascript\" contentStyleType=\"text/css\" height=\"449px\" preserveAspectRatio=\"none\" style=\"width:469px;height:449px;\" version=\"1.1\" viewBox=\"0 0 469 449\" width=\"469px\" zoomAndPan=\"magnify\"><defs/><g><!--MD5=[fbc87193dbaf4d95561dea2c320d4a47]\n",
       "cluster E1--><a href=\"psysml:eac58141-1d30-4dd4-8de7-f3beae76540f\" target=\"_top\" title=\"psysml:eac58141-1d30-4dd4-8de7-f3beae76540f\" xlink:actuate=\"onRequest\" xlink:href=\"psysml:eac58141-1d30-4dd4-8de7-f3beae76540f\" xlink:show=\"new\" xlink:title=\"psysml:eac58141-1d30-4dd4-8de7-f3beae76540f\" xlink:type=\"simple\"><polygon fill=\"#FFFFFF\" points=\"16,6,142,6,149,28.2969,447,28.2969,447,437,16,437,16,6\" style=\"stroke: #000000; stroke-width: 1.5;\"/><line style=\"stroke: #000000; stroke-width: 1.5;\" x1=\"16\" x2=\"149\" y1=\"28.2969\" y2=\"28.2969\"/><text fill=\"#000000\" font-family=\"sans-serif\" font-size=\"14\" font-weight=\"bold\" lengthAdjust=\"spacingAndGlyphs\" textLength=\"120\" x=\"20\" y=\"20.9951\">DependencyTest</text></a><!--MD5=[e4f7fae6ed58524ba242bb0b0d3be6b7]\n",
       "cluster E2--><a href=\"psysml:13805519-bfbc-4c0f-88c4-787529a25875\" target=\"_top\" title=\"psysml:13805519-bfbc-4c0f-88c4-787529a25875\" xlink:actuate=\"onRequest\" xlink:href=\"psysml:13805519-bfbc-4c0f-88c4-787529a25875\" xlink:show=\"new\" xlink:title=\"psysml:13805519-bfbc-4c0f-88c4-787529a25875\" xlink:type=\"simple\"><polygon fill=\"#FFFFFF\" points=\"255,49,312,49,319,71.2969,423,71.2969,423,413,255,413,255,49\" style=\"stroke: #000000; stroke-width: 1.5;\"/><line style=\"stroke: #000000; stroke-width: 1.5;\" x1=\"255\" x2=\"319\" y1=\"71.2969\" y2=\"71.2969\"/><text fill=\"#000000\" font-family=\"sans-serif\" font-size=\"14\" font-weight=\"bold\" lengthAdjust=\"spacingAndGlyphs\" textLength=\"51\" x=\"259\" y=\"63.9951\">System</text></a><!--MD5=[60a26617385b1d2d0262a64233df1f8d]\n",
       "class E6--><a href=\"psysml:d1a2f8b3-43fe-4bb6-bcd1-ae6c73505f04\" target=\"_top\" title=\"psysml:d1a2f8b3-43fe-4bb6-bcd1-ae6c73505f04\" xlink:actuate=\"onRequest\" xlink:href=\"psysml:d1a2f8b3-43fe-4bb6-bcd1-ae6c73505f04\" xlink:show=\"new\" xlink:title=\"psysml:d1a2f8b3-43fe-4bb6-bcd1-ae6c73505f04\" xlink:type=\"simple\"><rect fill=\"#FFFFFF\" height=\"45.9375\" id=\"E6\" rx=\"10\" ry=\"10\" style=\"stroke: #383838; stroke-width: 1.5;\" width=\"71\" x=\"32.5\" y=\"217.5\"/><text fill=\"#000000\" font-family=\"sans-serif\" font-size=\"12\" font-style=\"italic\" lengthAdjust=\"spacingAndGlyphs\" textLength=\"69\" x=\"33.5\" y=\"233.6387\">«attribute»</text><text fill=\"#000000\" font-family=\"sans-serif\" font-size=\"12\" lengthAdjust=\"spacingAndGlyphs\" textLength=\"6\" x=\"65\" y=\"247.6074\">x</text><line style=\"stroke: #383838; stroke-width: 1.5;\" x1=\"33.5\" x2=\"102.5\" y1=\"255.4375\" y2=\"255.4375\"/></a><!--MD5=[2156ba9850f5573cc1fc38a6a4b2f02b]\n",
       "class E7--><a href=\"psysml:ad948c0a-adc5-4c23-9b66-20666ae7e933\" target=\"_top\" title=\"psysml:ad948c0a-adc5-4c23-9b66-20666ae7e933\" xlink:actuate=\"onRequest\" xlink:href=\"psysml:ad948c0a-adc5-4c23-9b66-20666ae7e933\" xlink:show=\"new\" xlink:title=\"psysml:ad948c0a-adc5-4c23-9b66-20666ae7e933\" xlink:type=\"simple\"><rect fill=\"#FFFFFF\" height=\"45.9375\" id=\"E7\" rx=\"10\" ry=\"10\" style=\"stroke: #383838; stroke-width: 1.5;\" width=\"71\" x=\"138.5\" y=\"217.5\"/><text fill=\"#000000\" font-family=\"sans-serif\" font-size=\"12\" font-style=\"italic\" lengthAdjust=\"spacingAndGlyphs\" textLength=\"69\" x=\"139.5\" y=\"233.6387\">«attribute»</text><text fill=\"#000000\" font-family=\"sans-serif\" font-size=\"12\" lengthAdjust=\"spacingAndGlyphs\" textLength=\"6\" x=\"171\" y=\"247.6074\">y</text><line style=\"stroke: #383838; stroke-width: 1.5;\" x1=\"139.5\" x2=\"208.5\" y1=\"255.4375\" y2=\"255.4375\"/></a><!--MD5=[b9389687b975829384b498ac4b7476b2]\n",
       "class E8--><a href=\"psysml:4e191771-f0c3-4f18-930e-d8147bece3b0\" target=\"_top\" title=\"psysml:4e191771-f0c3-4f18-930e-d8147bece3b0\" xlink:actuate=\"onRequest\" xlink:href=\"psysml:4e191771-f0c3-4f18-930e-d8147bece3b0\" xlink:show=\"new\" xlink:title=\"psysml:4e191771-f0c3-4f18-930e-d8147bece3b0\" xlink:type=\"simple\"><rect fill=\"#FFFFFF\" height=\"45.9375\" id=\"E8\" rx=\"10\" ry=\"10\" style=\"stroke: #383838; stroke-width: 1.5;\" width=\"71\" x=\"84.5\" y=\"87.5\"/><text fill=\"#000000\" font-family=\"sans-serif\" font-size=\"12\" font-style=\"italic\" lengthAdjust=\"spacingAndGlyphs\" textLength=\"69\" x=\"85.5\" y=\"103.6387\">«attribute»</text><text fill=\"#000000\" font-family=\"sans-serif\" font-size=\"12\" lengthAdjust=\"spacingAndGlyphs\" textLength=\"5\" x=\"117.5\" y=\"117.6074\">z</text><line style=\"stroke: #383838; stroke-width: 1.5;\" x1=\"85.5\" x2=\"154.5\" y1=\"125.4375\" y2=\"125.4375\"/></a><a href=\"psysml:5348c3d7-5f8d-4656-8805-8961159c09b6\" target=\"_top\" title=\"psysml:5348c3d7-5f8d-4656-8805-8961159c09b6\" xlink:actuate=\"onRequest\" xlink:href=\"psysml:5348c3d7-5f8d-4656-8805-8961159c09b6\" xlink:show=\"new\" xlink:title=\"psysml:5348c3d7-5f8d-4656-8805-8961159c09b6\" xlink:type=\"simple\"><polygon fill=\"#FFFFFF\" points=\"271.5,84,392.5,84,399.5,106.2969,406.5,106.2969,406.5,136.5938,271.5,136.5938,271.5,84\" style=\"stroke: #000000; stroke-width: 1.5;\"/><line style=\"stroke: #000000; stroke-width: 1.5;\" x1=\"271.5\" x2=\"399.5\" y1=\"106.2969\" y2=\"106.2969\"/><text fill=\"#000000\" font-family=\"sans-serif\" font-size=\"14\" font-weight=\"bold\" lengthAdjust=\"spacingAndGlyphs\" textLength=\"115\" x=\"275.5\" y=\"98.9951\">Application Layer</text></a><a href=\"psysml:e92bea40-a3a7-48d4-b6b8-5548cc937669\" target=\"_top\" title=\"psysml:e92bea40-a3a7-48d4-b6b8-5548cc937669\" xlink:actuate=\"onRequest\" xlink:href=\"psysml:e92bea40-a3a7-48d4-b6b8-5548cc937669\" xlink:show=\"new\" xlink:title=\"psysml:e92bea40-a3a7-48d4-b6b8-5548cc937669\" xlink:type=\"simple\"><polygon fill=\"#FFFFFF\" points=\"284,214,380,214,387,236.2969,394,236.2969,394,266.5938,284,266.5938,284,214\" style=\"stroke: #000000; stroke-width: 1.5;\"/><line style=\"stroke: #000000; stroke-width: 1.5;\" x1=\"284\" x2=\"387\" y1=\"236.2969\" y2=\"236.2969\"/><text fill=\"#000000\" font-family=\"sans-serif\" font-size=\"14\" font-weight=\"bold\" lengthAdjust=\"spacingAndGlyphs\" textLength=\"90\" x=\"288\" y=\"228.9951\">Service Layer</text></a><a href=\"psysml:9210d902-7ba4-4a43-8b80-75376691e6d0\" target=\"_top\" title=\"psysml:9210d902-7ba4-4a43-8b80-75376691e6d0\" xlink:actuate=\"onRequest\" xlink:href=\"psysml:9210d902-7ba4-4a43-8b80-75376691e6d0\" xlink:show=\"new\" xlink:title=\"psysml:9210d902-7ba4-4a43-8b80-75376691e6d0\" xlink:type=\"simple\"><polygon fill=\"#FFFFFF\" points=\"293,344,371,344,378,366.2969,385,366.2969,385,396.5938,293,396.5938,293,344\" style=\"stroke: #000000; stroke-width: 1.5;\"/><line style=\"stroke: #000000; stroke-width: 1.5;\" x1=\"293\" x2=\"378\" y1=\"366.2969\" y2=\"366.2969\"/><text fill=\"#000000\" font-family=\"sans-serif\" font-size=\"14\" font-weight=\"bold\" lengthAdjust=\"spacingAndGlyphs\" textLength=\"72\" x=\"297\" y=\"358.9951\">Data Layer</text></a><!--MD5=[af87c684e3b0d8be13c1a698a818ef1e]\n",
       "link E3 to E4--><a href=\"psysml:43ea743a-a860-452f-b433-717c56c39b79\" target=\"_top\" title=\"psysml:43ea743a-a860-452f-b433-717c56c39b79\" xlink:actuate=\"onRequest\" xlink:href=\"psysml:43ea743a-a860-452f-b433-717c56c39b79\" xlink:show=\"new\" xlink:title=\"psysml:43ea743a-a860-452f-b433-717c56c39b79\" xlink:type=\"simple\"><path d=\"M339,137.1 C339,156.8 339,184.22 339,205.73 \" fill=\"none\" id=\"E3-&gt;E4\" style=\"stroke: #383838; stroke-width: 1.0; stroke-dasharray: 7.0,7.0;\"/><polygon fill=\"#383838\" points=\"339,213.95,342,205.95,336,205.95,339,213.95\" style=\"stroke: #383838; stroke-width: 1.0;\"/><text fill=\"#000000\" font-family=\"sans-serif\" font-size=\"13\" lengthAdjust=\"spacingAndGlyphs\" textLength=\"64\" x=\"340\" y=\"180.0669\">«depend»</text></a><!--MD5=[1b7591eae5389033d8d09a9d6721a717]\n",
       "link E4 to E5--><a href=\"psysml:2fd6f227-cfe3-4fe1-af5d-016c5bccfb5b\" target=\"_top\" title=\"psysml:2fd6f227-cfe3-4fe1-af5d-016c5bccfb5b\" xlink:actuate=\"onRequest\" xlink:href=\"psysml:2fd6f227-cfe3-4fe1-af5d-016c5bccfb5b\" xlink:show=\"new\" xlink:title=\"psysml:2fd6f227-cfe3-4fe1-af5d-016c5bccfb5b\" xlink:type=\"simple\"><path d=\"M339,267.1 C339,286.8 339,314.22 339,335.73 \" fill=\"none\" id=\"E4-&gt;E5\" style=\"stroke: #383838; stroke-width: 1.0; stroke-dasharray: 7.0,7.0;\"/><polygon fill=\"#383838\" points=\"339,343.95,342,335.95,336,335.95,339,343.95\" style=\"stroke: #383838; stroke-width: 1.0;\"/><text fill=\"#000000\" font-family=\"sans-serif\" font-size=\"13\" lengthAdjust=\"spacingAndGlyphs\" textLength=\"64\" x=\"340\" y=\"310.0669\">«depend»</text></a><!--MD5=[c5e8897d989ce984f93528998a7150fe]\n",
       "link E8 to E6--><a href=\"psysml:209e6958-61b2-4a39-8cf0-69b60dbfdefc\" target=\"_top\" title=\"psysml:209e6958-61b2-4a39-8cf0-69b60dbfdefc\" xlink:actuate=\"onRequest\" xlink:href=\"psysml:209e6958-61b2-4a39-8cf0-69b60dbfdefc\" xlink:show=\"new\" xlink:title=\"psysml:209e6958-61b2-4a39-8cf0-69b60dbfdefc\" xlink:type=\"simple\"><path d=\"M89.42,133.6 C79.35,142.68 69.37,154.11 64,167 C58.5,180.2 58.66,195.94 60.54,209.38 \" fill=\"none\" id=\"E8-&gt;E6\" style=\"stroke: #383838; stroke-width: 1.0; stroke-dasharray: 7.0,7.0;\"/><polygon fill=\"#383838\" points=\"61.9,217.4,63.517,209.0104,57.6018,210.0159,61.9,217.4\" style=\"stroke: #383838; stroke-width: 1.0;\"/><text fill=\"#000000\" font-family=\"sans-serif\" font-size=\"13\" lengthAdjust=\"spacingAndGlyphs\" textLength=\"64\" x=\"65\" y=\"180.0669\">«depend»</text></a><!--MD5=[bfa3c8b0d15052fdf50ae9310b491027]\n",
       "link E8 to E7--><a href=\"psysml:209e6958-61b2-4a39-8cf0-69b60dbfdefc\" target=\"_top\" title=\"psysml:209e6958-61b2-4a39-8cf0-69b60dbfdefc\" xlink:actuate=\"onRequest\" xlink:href=\"psysml:209e6958-61b2-4a39-8cf0-69b60dbfdefc\" xlink:show=\"new\" xlink:title=\"psysml:209e6958-61b2-4a39-8cf0-69b60dbfdefc\" xlink:type=\"simple\"><path d=\"M129.28,133.5 C138.17,154.57 151.64,186.5 161.47,209.81 \" fill=\"none\" id=\"E8-&gt;E7\" style=\"stroke: #383838; stroke-width: 1.0; stroke-dasharray: 7.0,7.0;\"/><polygon fill=\"#383838\" points=\"164.66,217.35,164.3241,208.8126,158.7933,211.1385,164.66,217.35\" style=\"stroke: #383838; stroke-width: 1.0;\"/><text fill=\"#000000\" font-family=\"sans-serif\" font-size=\"13\" lengthAdjust=\"spacingAndGlyphs\" textLength=\"64\" x=\"151\" y=\"180.0669\">«depend»</text></a><!--MD5=[d43e075afc118a774691e139c297330f]\n",
       "@startuml\r\n",
       "top to bottom direction\r\n",
       "skinparam monochrome true\r\n",
       "skinparam classbackgroundcolor white\r\n",
       "skinparam shadowing false\r\n",
       "skinparam wrapWidth 300\r\n",
       "hide circle\r\n",
       "\r\n",
       "package \"DependencyTest\" as E1  [[psysml:eac58141-1d30-4dd4-8de7-f3beae76540f ]]  {\r\n",
       "package \"System\" as E2  [[psysml:13805519-bfbc-4c0f-88c4-787529a25875 ]]  {\r\n",
       "package \"Application Layer\" as E3  [[psysml:5348c3d7-5f8d-4656-8805-8961159c09b6 ]]  {\r\n",
       "}\r\n",
       "package \"Service Layer\" as E4  [[psysml:e92bea40-a3a7-48d4-b6b8-5548cc937669 ]]  {\r\n",
       "}\r\n",
       "package \"Data Layer\" as E5  [[psysml:9210d902-7ba4-4a43-8b80-75376691e6d0 ]]  {\r\n",
       "}\r\n",
       "}\r\n",
       "comp usage \"x\" as E6  <<(T,blue) attribute>> [[psysml:d1a2f8b3-43fe-4bb6-bcd1-ae6c73505f04 ]] {\r\n",
       "}\r\n",
       "comp usage \"y\" as E7  <<(T,blue) attribute>> [[psysml:ad948c0a-adc5-4c23-9b66-20666ae7e933 ]] {\r\n",
       "}\r\n",
       "comp usage \"z\" as E8  <<(T,blue) attribute>> [[psysml:4e191771-f0c3-4f18-930e-d8147bece3b0 ]] {\r\n",
       "}\r\n",
       "}\r\n",
       "E3 ..>> E4 [[psysml:43ea743a-a860-452f-b433-717c56c39b79 ]] : <<depend>>\r\n",
       "E4 ..>> E5 [[psysml:2fd6f227-cfe3-4fe1-af5d-016c5bccfb5b ]] : <<depend>>\r\n",
       "E8 ..>> E6 [[psysml:209e6958-61b2-4a39-8cf0-69b60dbfdefc ]] : <<depend>>\r\n",
       "E8 ..>> E7 [[psysml:209e6958-61b2-4a39-8cf0-69b60dbfdefc ]] : <<depend>>\r\n",
       "@enduml\r\n",
       "\n",
       "PlantUML version 1.2020.13(Sat Jun 13 12:26:38 UTC 2020)\n",
       "(EPL source distribution)\n",
       "Java Runtime: OpenJDK Runtime Environment\n",
       "JVM: OpenJDK 64-Bit Server VM\n",
       "Default Encoding: UTF-8\n",
       "Language: en\n",
       "Country: null\n",
       "--></g></svg>"
      ]
     },
     "execution_count": 44,
     "metadata": {},
     "output_type": "execute_result"
    }
   ],
   "source": [
    "%viz --style=\"TB\" --view=\"Default\" \"DependencyTest\""
   ]
  },
  {
   "cell_type": "code",
   "execution_count": 45,
   "id": "76ec134e",
   "metadata": {
    "execution": {
     "iopub.execute_input": "2021-10-25T08:20:47.033902Z",
     "iopub.status.busy": "2021-10-25T08:20:47.033496Z",
     "iopub.status.idle": "2021-10-25T08:20:47.065875Z",
     "shell.execute_reply": "2021-10-25T08:20:47.065509Z"
    }
   },
   "outputs": [
    {
     "data": {
      "image/svg+xml": [
       "<?xml version=\"1.0\" encoding=\"UTF-8\" standalone=\"no\"?><svg xmlns=\"http://www.w3.org/2000/svg\" xmlns:xlink=\"http://www.w3.org/1999/xlink\" contentScriptType=\"application/ecmascript\" contentStyleType=\"text/css\" height=\"449px\" preserveAspectRatio=\"none\" style=\"width:469px;height:449px;\" version=\"1.1\" viewBox=\"0 0 469 449\" width=\"469px\" zoomAndPan=\"magnify\"><defs/><g><!--MD5=[fbc87193dbaf4d95561dea2c320d4a47]\n",
       "cluster E1--><a href=\"psysml:eac58141-1d30-4dd4-8de7-f3beae76540f\" target=\"_top\" title=\"psysml:eac58141-1d30-4dd4-8de7-f3beae76540f\" xlink:actuate=\"onRequest\" xlink:href=\"psysml:eac58141-1d30-4dd4-8de7-f3beae76540f\" xlink:show=\"new\" xlink:title=\"psysml:eac58141-1d30-4dd4-8de7-f3beae76540f\" xlink:type=\"simple\"><polygon fill=\"#FFFFFF\" points=\"16,6,142,6,149,28.2969,447,28.2969,447,437,16,437,16,6\" style=\"stroke: #000000; stroke-width: 1.5;\"/><line style=\"stroke: #000000; stroke-width: 1.5;\" x1=\"16\" x2=\"149\" y1=\"28.2969\" y2=\"28.2969\"/><text fill=\"#000000\" font-family=\"sans-serif\" font-size=\"14\" font-weight=\"bold\" lengthAdjust=\"spacingAndGlyphs\" textLength=\"120\" x=\"20\" y=\"20.9951\">DependencyTest</text></a><!--MD5=[e4f7fae6ed58524ba242bb0b0d3be6b7]\n",
       "cluster E2--><a href=\"psysml:13805519-bfbc-4c0f-88c4-787529a25875\" target=\"_top\" title=\"psysml:13805519-bfbc-4c0f-88c4-787529a25875\" xlink:actuate=\"onRequest\" xlink:href=\"psysml:13805519-bfbc-4c0f-88c4-787529a25875\" xlink:show=\"new\" xlink:title=\"psysml:13805519-bfbc-4c0f-88c4-787529a25875\" xlink:type=\"simple\"><polygon fill=\"#FFFFFF\" points=\"255,49,312,49,319,71.2969,423,71.2969,423,413,255,413,255,49\" style=\"stroke: #000000; stroke-width: 1.5;\"/><line style=\"stroke: #000000; stroke-width: 1.5;\" x1=\"255\" x2=\"319\" y1=\"71.2969\" y2=\"71.2969\"/><text fill=\"#000000\" font-family=\"sans-serif\" font-size=\"14\" font-weight=\"bold\" lengthAdjust=\"spacingAndGlyphs\" textLength=\"51\" x=\"259\" y=\"63.9951\">System</text></a><!--MD5=[60a26617385b1d2d0262a64233df1f8d]\n",
       "class E6--><a href=\"psysml:d1a2f8b3-43fe-4bb6-bcd1-ae6c73505f04\" target=\"_top\" title=\"psysml:d1a2f8b3-43fe-4bb6-bcd1-ae6c73505f04\" xlink:actuate=\"onRequest\" xlink:href=\"psysml:d1a2f8b3-43fe-4bb6-bcd1-ae6c73505f04\" xlink:show=\"new\" xlink:title=\"psysml:d1a2f8b3-43fe-4bb6-bcd1-ae6c73505f04\" xlink:type=\"simple\"><rect fill=\"#FFFFFF\" height=\"45.9375\" id=\"E6\" rx=\"10\" ry=\"10\" style=\"stroke: #383838; stroke-width: 1.5;\" width=\"71\" x=\"32.5\" y=\"217.5\"/><text fill=\"#000000\" font-family=\"sans-serif\" font-size=\"12\" font-style=\"italic\" lengthAdjust=\"spacingAndGlyphs\" textLength=\"69\" x=\"33.5\" y=\"233.6387\">«attribute»</text><text fill=\"#000000\" font-family=\"sans-serif\" font-size=\"12\" lengthAdjust=\"spacingAndGlyphs\" textLength=\"6\" x=\"65\" y=\"247.6074\">x</text><line style=\"stroke: #383838; stroke-width: 1.5;\" x1=\"33.5\" x2=\"102.5\" y1=\"255.4375\" y2=\"255.4375\"/></a><!--MD5=[2156ba9850f5573cc1fc38a6a4b2f02b]\n",
       "class E7--><a href=\"psysml:ad948c0a-adc5-4c23-9b66-20666ae7e933\" target=\"_top\" title=\"psysml:ad948c0a-adc5-4c23-9b66-20666ae7e933\" xlink:actuate=\"onRequest\" xlink:href=\"psysml:ad948c0a-adc5-4c23-9b66-20666ae7e933\" xlink:show=\"new\" xlink:title=\"psysml:ad948c0a-adc5-4c23-9b66-20666ae7e933\" xlink:type=\"simple\"><rect fill=\"#FFFFFF\" height=\"45.9375\" id=\"E7\" rx=\"10\" ry=\"10\" style=\"stroke: #383838; stroke-width: 1.5;\" width=\"71\" x=\"138.5\" y=\"217.5\"/><text fill=\"#000000\" font-family=\"sans-serif\" font-size=\"12\" font-style=\"italic\" lengthAdjust=\"spacingAndGlyphs\" textLength=\"69\" x=\"139.5\" y=\"233.6387\">«attribute»</text><text fill=\"#000000\" font-family=\"sans-serif\" font-size=\"12\" lengthAdjust=\"spacingAndGlyphs\" textLength=\"6\" x=\"171\" y=\"247.6074\">y</text><line style=\"stroke: #383838; stroke-width: 1.5;\" x1=\"139.5\" x2=\"208.5\" y1=\"255.4375\" y2=\"255.4375\"/></a><!--MD5=[b9389687b975829384b498ac4b7476b2]\n",
       "class E8--><a href=\"psysml:4e191771-f0c3-4f18-930e-d8147bece3b0\" target=\"_top\" title=\"psysml:4e191771-f0c3-4f18-930e-d8147bece3b0\" xlink:actuate=\"onRequest\" xlink:href=\"psysml:4e191771-f0c3-4f18-930e-d8147bece3b0\" xlink:show=\"new\" xlink:title=\"psysml:4e191771-f0c3-4f18-930e-d8147bece3b0\" xlink:type=\"simple\"><rect fill=\"#FFFFFF\" height=\"45.9375\" id=\"E8\" rx=\"10\" ry=\"10\" style=\"stroke: #383838; stroke-width: 1.5;\" width=\"71\" x=\"84.5\" y=\"87.5\"/><text fill=\"#000000\" font-family=\"sans-serif\" font-size=\"12\" font-style=\"italic\" lengthAdjust=\"spacingAndGlyphs\" textLength=\"69\" x=\"85.5\" y=\"103.6387\">«attribute»</text><text fill=\"#000000\" font-family=\"sans-serif\" font-size=\"12\" lengthAdjust=\"spacingAndGlyphs\" textLength=\"5\" x=\"117.5\" y=\"117.6074\">z</text><line style=\"stroke: #383838; stroke-width: 1.5;\" x1=\"85.5\" x2=\"154.5\" y1=\"125.4375\" y2=\"125.4375\"/></a><a href=\"psysml:5348c3d7-5f8d-4656-8805-8961159c09b6\" target=\"_top\" title=\"psysml:5348c3d7-5f8d-4656-8805-8961159c09b6\" xlink:actuate=\"onRequest\" xlink:href=\"psysml:5348c3d7-5f8d-4656-8805-8961159c09b6\" xlink:show=\"new\" xlink:title=\"psysml:5348c3d7-5f8d-4656-8805-8961159c09b6\" xlink:type=\"simple\"><polygon fill=\"#FFFFFF\" points=\"271.5,84,392.5,84,399.5,106.2969,406.5,106.2969,406.5,136.5938,271.5,136.5938,271.5,84\" style=\"stroke: #000000; stroke-width: 1.5;\"/><line style=\"stroke: #000000; stroke-width: 1.5;\" x1=\"271.5\" x2=\"399.5\" y1=\"106.2969\" y2=\"106.2969\"/><text fill=\"#000000\" font-family=\"sans-serif\" font-size=\"14\" font-weight=\"bold\" lengthAdjust=\"spacingAndGlyphs\" textLength=\"115\" x=\"275.5\" y=\"98.9951\">Application Layer</text></a><a href=\"psysml:e92bea40-a3a7-48d4-b6b8-5548cc937669\" target=\"_top\" title=\"psysml:e92bea40-a3a7-48d4-b6b8-5548cc937669\" xlink:actuate=\"onRequest\" xlink:href=\"psysml:e92bea40-a3a7-48d4-b6b8-5548cc937669\" xlink:show=\"new\" xlink:title=\"psysml:e92bea40-a3a7-48d4-b6b8-5548cc937669\" xlink:type=\"simple\"><polygon fill=\"#FFFFFF\" points=\"284,214,380,214,387,236.2969,394,236.2969,394,266.5938,284,266.5938,284,214\" style=\"stroke: #000000; stroke-width: 1.5;\"/><line style=\"stroke: #000000; stroke-width: 1.5;\" x1=\"284\" x2=\"387\" y1=\"236.2969\" y2=\"236.2969\"/><text fill=\"#000000\" font-family=\"sans-serif\" font-size=\"14\" font-weight=\"bold\" lengthAdjust=\"spacingAndGlyphs\" textLength=\"90\" x=\"288\" y=\"228.9951\">Service Layer</text></a><a href=\"psysml:9210d902-7ba4-4a43-8b80-75376691e6d0\" target=\"_top\" title=\"psysml:9210d902-7ba4-4a43-8b80-75376691e6d0\" xlink:actuate=\"onRequest\" xlink:href=\"psysml:9210d902-7ba4-4a43-8b80-75376691e6d0\" xlink:show=\"new\" xlink:title=\"psysml:9210d902-7ba4-4a43-8b80-75376691e6d0\" xlink:type=\"simple\"><polygon fill=\"#FFFFFF\" points=\"293,344,371,344,378,366.2969,385,366.2969,385,396.5938,293,396.5938,293,344\" style=\"stroke: #000000; stroke-width: 1.5;\"/><line style=\"stroke: #000000; stroke-width: 1.5;\" x1=\"293\" x2=\"378\" y1=\"366.2969\" y2=\"366.2969\"/><text fill=\"#000000\" font-family=\"sans-serif\" font-size=\"14\" font-weight=\"bold\" lengthAdjust=\"spacingAndGlyphs\" textLength=\"72\" x=\"297\" y=\"358.9951\">Data Layer</text></a><!--MD5=[af87c684e3b0d8be13c1a698a818ef1e]\n",
       "link E3 to E4--><a href=\"psysml:43ea743a-a860-452f-b433-717c56c39b79\" target=\"_top\" title=\"psysml:43ea743a-a860-452f-b433-717c56c39b79\" xlink:actuate=\"onRequest\" xlink:href=\"psysml:43ea743a-a860-452f-b433-717c56c39b79\" xlink:show=\"new\" xlink:title=\"psysml:43ea743a-a860-452f-b433-717c56c39b79\" xlink:type=\"simple\"><path d=\"M339,137.1 C339,156.8 339,184.22 339,205.73 \" fill=\"none\" id=\"E3-&gt;E4\" style=\"stroke: #383838; stroke-width: 1.0; stroke-dasharray: 7.0,7.0;\"/><polygon fill=\"#383838\" points=\"339,213.95,342,205.95,336,205.95,339,213.95\" style=\"stroke: #383838; stroke-width: 1.0;\"/><text fill=\"#000000\" font-family=\"sans-serif\" font-size=\"13\" lengthAdjust=\"spacingAndGlyphs\" textLength=\"64\" x=\"340\" y=\"180.0669\">«depend»</text></a><!--MD5=[1b7591eae5389033d8d09a9d6721a717]\n",
       "link E4 to E5--><a href=\"psysml:2fd6f227-cfe3-4fe1-af5d-016c5bccfb5b\" target=\"_top\" title=\"psysml:2fd6f227-cfe3-4fe1-af5d-016c5bccfb5b\" xlink:actuate=\"onRequest\" xlink:href=\"psysml:2fd6f227-cfe3-4fe1-af5d-016c5bccfb5b\" xlink:show=\"new\" xlink:title=\"psysml:2fd6f227-cfe3-4fe1-af5d-016c5bccfb5b\" xlink:type=\"simple\"><path d=\"M339,267.1 C339,286.8 339,314.22 339,335.73 \" fill=\"none\" id=\"E4-&gt;E5\" style=\"stroke: #383838; stroke-width: 1.0; stroke-dasharray: 7.0,7.0;\"/><polygon fill=\"#383838\" points=\"339,343.95,342,335.95,336,335.95,339,343.95\" style=\"stroke: #383838; stroke-width: 1.0;\"/><text fill=\"#000000\" font-family=\"sans-serif\" font-size=\"13\" lengthAdjust=\"spacingAndGlyphs\" textLength=\"64\" x=\"340\" y=\"310.0669\">«depend»</text></a><!--MD5=[c5e8897d989ce984f93528998a7150fe]\n",
       "link E8 to E6--><a href=\"psysml:209e6958-61b2-4a39-8cf0-69b60dbfdefc\" target=\"_top\" title=\"psysml:209e6958-61b2-4a39-8cf0-69b60dbfdefc\" xlink:actuate=\"onRequest\" xlink:href=\"psysml:209e6958-61b2-4a39-8cf0-69b60dbfdefc\" xlink:show=\"new\" xlink:title=\"psysml:209e6958-61b2-4a39-8cf0-69b60dbfdefc\" xlink:type=\"simple\"><path d=\"M89.42,133.6 C79.35,142.68 69.37,154.11 64,167 C58.5,180.2 58.66,195.94 60.54,209.38 \" fill=\"none\" id=\"E8-&gt;E6\" style=\"stroke: #383838; stroke-width: 1.0; stroke-dasharray: 7.0,7.0;\"/><polygon fill=\"#383838\" points=\"61.9,217.4,63.517,209.0104,57.6018,210.0159,61.9,217.4\" style=\"stroke: #383838; stroke-width: 1.0;\"/><text fill=\"#000000\" font-family=\"sans-serif\" font-size=\"13\" lengthAdjust=\"spacingAndGlyphs\" textLength=\"64\" x=\"65\" y=\"180.0669\">«depend»</text></a><!--MD5=[bfa3c8b0d15052fdf50ae9310b491027]\n",
       "link E8 to E7--><a href=\"psysml:209e6958-61b2-4a39-8cf0-69b60dbfdefc\" target=\"_top\" title=\"psysml:209e6958-61b2-4a39-8cf0-69b60dbfdefc\" xlink:actuate=\"onRequest\" xlink:href=\"psysml:209e6958-61b2-4a39-8cf0-69b60dbfdefc\" xlink:show=\"new\" xlink:title=\"psysml:209e6958-61b2-4a39-8cf0-69b60dbfdefc\" xlink:type=\"simple\"><path d=\"M129.28,133.5 C138.17,154.57 151.64,186.5 161.47,209.81 \" fill=\"none\" id=\"E8-&gt;E7\" style=\"stroke: #383838; stroke-width: 1.0; stroke-dasharray: 7.0,7.0;\"/><polygon fill=\"#383838\" points=\"164.66,217.35,164.3241,208.8126,158.7933,211.1385,164.66,217.35\" style=\"stroke: #383838; stroke-width: 1.0;\"/><text fill=\"#000000\" font-family=\"sans-serif\" font-size=\"13\" lengthAdjust=\"spacingAndGlyphs\" textLength=\"64\" x=\"151\" y=\"180.0669\">«depend»</text></a><!--MD5=[d43e075afc118a774691e139c297330f]\n",
       "@startuml\r\n",
       "top to bottom direction\r\n",
       "skinparam monochrome true\r\n",
       "skinparam classbackgroundcolor white\r\n",
       "skinparam shadowing false\r\n",
       "skinparam wrapWidth 300\r\n",
       "hide circle\r\n",
       "\r\n",
       "package \"DependencyTest\" as E1  [[psysml:eac58141-1d30-4dd4-8de7-f3beae76540f ]]  {\r\n",
       "package \"System\" as E2  [[psysml:13805519-bfbc-4c0f-88c4-787529a25875 ]]  {\r\n",
       "package \"Application Layer\" as E3  [[psysml:5348c3d7-5f8d-4656-8805-8961159c09b6 ]]  {\r\n",
       "}\r\n",
       "package \"Service Layer\" as E4  [[psysml:e92bea40-a3a7-48d4-b6b8-5548cc937669 ]]  {\r\n",
       "}\r\n",
       "package \"Data Layer\" as E5  [[psysml:9210d902-7ba4-4a43-8b80-75376691e6d0 ]]  {\r\n",
       "}\r\n",
       "}\r\n",
       "comp usage \"x\" as E6  <<(T,blue) attribute>> [[psysml:d1a2f8b3-43fe-4bb6-bcd1-ae6c73505f04 ]] {\r\n",
       "}\r\n",
       "comp usage \"y\" as E7  <<(T,blue) attribute>> [[psysml:ad948c0a-adc5-4c23-9b66-20666ae7e933 ]] {\r\n",
       "}\r\n",
       "comp usage \"z\" as E8  <<(T,blue) attribute>> [[psysml:4e191771-f0c3-4f18-930e-d8147bece3b0 ]] {\r\n",
       "}\r\n",
       "}\r\n",
       "E3 ..>> E4 [[psysml:43ea743a-a860-452f-b433-717c56c39b79 ]] : <<depend>>\r\n",
       "E4 ..>> E5 [[psysml:2fd6f227-cfe3-4fe1-af5d-016c5bccfb5b ]] : <<depend>>\r\n",
       "E8 ..>> E6 [[psysml:209e6958-61b2-4a39-8cf0-69b60dbfdefc ]] : <<depend>>\r\n",
       "E8 ..>> E7 [[psysml:209e6958-61b2-4a39-8cf0-69b60dbfdefc ]] : <<depend>>\r\n",
       "@enduml\r\n",
       "\n",
       "PlantUML version 1.2020.13(Sat Jun 13 12:26:38 UTC 2020)\n",
       "(EPL source distribution)\n",
       "Java Runtime: OpenJDK Runtime Environment\n",
       "JVM: OpenJDK 64-Bit Server VM\n",
       "Default Encoding: UTF-8\n",
       "Language: en\n",
       "Country: null\n",
       "--></g></svg>"
      ]
     },
     "execution_count": 45,
     "metadata": {},
     "output_type": "execute_result"
    }
   ],
   "source": [
    "%viz --style=\"TB\" --view=\"Tree\" \"DependencyTest\""
   ]
  },
  {
   "cell_type": "code",
   "execution_count": 46,
   "id": "e0fbfb56",
   "metadata": {
    "execution": {
     "iopub.execute_input": "2021-10-25T08:20:47.114852Z",
     "iopub.status.busy": "2021-10-25T08:20:47.114449Z",
     "iopub.status.idle": "2021-10-25T08:20:47.118997Z",
     "shell.execute_reply": "2021-10-25T08:20:47.119291Z"
    }
   },
   "outputs": [
    {
     "data": {
      "image/svg+xml": [
       "<?xml version=\"1.0\" encoding=\"UTF-8\" standalone=\"no\"?><svg xmlns=\"http://www.w3.org/2000/svg\" xmlns:xlink=\"http://www.w3.org/1999/xlink\" contentScriptType=\"application/ecmascript\" contentStyleType=\"text/css\" height=\"12px\" preserveAspectRatio=\"none\" style=\"width:12px;height:12px;\" version=\"1.1\" viewBox=\"0 0 12 12\" width=\"12px\" zoomAndPan=\"magnify\"><defs/><g><!--MD5=[f4ee21bc66e489b5061b7c3e9601fdef]\n",
       "@startuml\r\n",
       "top to bottom direction\r\n",
       "skinparam monochrome true\r\n",
       "skinparam classbackgroundcolor white\r\n",
       "skinparam shadowing false\r\n",
       "skinparam wrapWidth 300\r\n",
       "hide circle\r\n",
       "\r\n",
       "@enduml\r\n",
       "\n",
       "PlantUML version 1.2020.13(Sat Jun 13 12:26:38 UTC 2020)\n",
       "(EPL source distribution)\n",
       "Java Runtime: OpenJDK Runtime Environment\n",
       "JVM: OpenJDK 64-Bit Server VM\n",
       "Default Encoding: UTF-8\n",
       "Language: en\n",
       "Country: null\n",
       "--></g></svg>"
      ]
     },
     "execution_count": 46,
     "metadata": {},
     "output_type": "execute_result"
    }
   ],
   "source": [
    "%viz --style=\"TB\" --view=\"State\" \"DependencyTest\""
   ]
  },
  {
   "cell_type": "code",
   "execution_count": 47,
   "id": "2aeffdf0",
   "metadata": {
    "execution": {
     "iopub.execute_input": "2021-10-25T08:20:47.168791Z",
     "iopub.status.busy": "2021-10-25T08:20:47.168397Z",
     "iopub.status.idle": "2021-10-25T08:20:47.200817Z",
     "shell.execute_reply": "2021-10-25T08:20:47.199003Z"
    }
   },
   "outputs": [
    {
     "data": {
      "image/svg+xml": [
       "<?xml version=\"1.0\" encoding=\"UTF-8\" standalone=\"no\"?><svg xmlns=\"http://www.w3.org/2000/svg\" xmlns:xlink=\"http://www.w3.org/1999/xlink\" contentScriptType=\"application/ecmascript\" contentStyleType=\"text/css\" height=\"361px\" preserveAspectRatio=\"none\" style=\"width:469px;height:361px;\" version=\"1.1\" viewBox=\"0 0 469 361\" width=\"469px\" zoomAndPan=\"magnify\"><defs/><g><!--MD5=[fbc87193dbaf4d95561dea2c320d4a47]\n",
       "cluster E1--><a href=\"psysml:eac58141-1d30-4dd4-8de7-f3beae76540f\" target=\"_top\" title=\"psysml:eac58141-1d30-4dd4-8de7-f3beae76540f\" xlink:actuate=\"onRequest\" xlink:href=\"psysml:eac58141-1d30-4dd4-8de7-f3beae76540f\" xlink:show=\"new\" xlink:title=\"psysml:eac58141-1d30-4dd4-8de7-f3beae76540f\" xlink:type=\"simple\"><polygon fill=\"#FFFFFF\" points=\"16,6,142,6,149,28.2969,447,28.2969,447,349,16,349,16,6\" style=\"stroke: #000000; stroke-width: 1.5;\"/><line style=\"stroke: #000000; stroke-width: 1.5;\" x1=\"16\" x2=\"149\" y1=\"28.2969\" y2=\"28.2969\"/><text fill=\"#000000\" font-family=\"sans-serif\" font-size=\"14\" font-weight=\"bold\" lengthAdjust=\"spacingAndGlyphs\" textLength=\"120\" x=\"20\" y=\"20.9951\">DependencyTest</text></a><!--MD5=[e4f7fae6ed58524ba242bb0b0d3be6b7]\n",
       "cluster E2--><a href=\"psysml:13805519-bfbc-4c0f-88c4-787529a25875\" target=\"_top\" title=\"psysml:13805519-bfbc-4c0f-88c4-787529a25875\" xlink:actuate=\"onRequest\" xlink:href=\"psysml:13805519-bfbc-4c0f-88c4-787529a25875\" xlink:show=\"new\" xlink:title=\"psysml:13805519-bfbc-4c0f-88c4-787529a25875\" xlink:type=\"simple\"><polygon fill=\"#FFFFFF\" points=\"255,49,312,49,319,71.2969,423,71.2969,423,325,255,325,255,49\" style=\"stroke: #000000; stroke-width: 1.5;\"/><line style=\"stroke: #000000; stroke-width: 1.5;\" x1=\"255\" x2=\"319\" y1=\"71.2969\" y2=\"71.2969\"/><text fill=\"#000000\" font-family=\"sans-serif\" font-size=\"14\" font-weight=\"bold\" lengthAdjust=\"spacingAndGlyphs\" textLength=\"51\" x=\"259\" y=\"63.9951\">System</text></a><!--MD5=[60a26617385b1d2d0262a64233df1f8d]\n",
       "class E6--><a href=\"psysml:d1a2f8b3-43fe-4bb6-bcd1-ae6c73505f04\" target=\"_top\" title=\"psysml:d1a2f8b3-43fe-4bb6-bcd1-ae6c73505f04\" xlink:actuate=\"onRequest\" xlink:href=\"psysml:d1a2f8b3-43fe-4bb6-bcd1-ae6c73505f04\" xlink:show=\"new\" xlink:title=\"psysml:d1a2f8b3-43fe-4bb6-bcd1-ae6c73505f04\" xlink:type=\"simple\"><rect fill=\"#FFFFFF\" height=\"45.9375\" id=\"E6\" rx=\"10\" ry=\"10\" style=\"stroke: #383838; stroke-width: 1.5;\" width=\"71\" x=\"32.5\" y=\"173.5\"/><text fill=\"#000000\" font-family=\"sans-serif\" font-size=\"12\" font-style=\"italic\" lengthAdjust=\"spacingAndGlyphs\" textLength=\"69\" x=\"33.5\" y=\"189.6387\">«attribute»</text><text fill=\"#000000\" font-family=\"sans-serif\" font-size=\"12\" lengthAdjust=\"spacingAndGlyphs\" textLength=\"6\" x=\"65\" y=\"203.6074\">x</text><line style=\"stroke: #383838; stroke-width: 1.5;\" x1=\"33.5\" x2=\"102.5\" y1=\"211.4375\" y2=\"211.4375\"/></a><!--MD5=[2156ba9850f5573cc1fc38a6a4b2f02b]\n",
       "class E7--><a href=\"psysml:ad948c0a-adc5-4c23-9b66-20666ae7e933\" target=\"_top\" title=\"psysml:ad948c0a-adc5-4c23-9b66-20666ae7e933\" xlink:actuate=\"onRequest\" xlink:href=\"psysml:ad948c0a-adc5-4c23-9b66-20666ae7e933\" xlink:show=\"new\" xlink:title=\"psysml:ad948c0a-adc5-4c23-9b66-20666ae7e933\" xlink:type=\"simple\"><rect fill=\"#FFFFFF\" height=\"45.9375\" id=\"E7\" rx=\"10\" ry=\"10\" style=\"stroke: #383838; stroke-width: 1.5;\" width=\"71\" x=\"138.5\" y=\"173.5\"/><text fill=\"#000000\" font-family=\"sans-serif\" font-size=\"12\" font-style=\"italic\" lengthAdjust=\"spacingAndGlyphs\" textLength=\"69\" x=\"139.5\" y=\"189.6387\">«attribute»</text><text fill=\"#000000\" font-family=\"sans-serif\" font-size=\"12\" lengthAdjust=\"spacingAndGlyphs\" textLength=\"6\" x=\"171\" y=\"203.6074\">y</text><line style=\"stroke: #383838; stroke-width: 1.5;\" x1=\"139.5\" x2=\"208.5\" y1=\"211.4375\" y2=\"211.4375\"/></a><!--MD5=[b9389687b975829384b498ac4b7476b2]\n",
       "class E8--><a href=\"psysml:4e191771-f0c3-4f18-930e-d8147bece3b0\" target=\"_top\" title=\"psysml:4e191771-f0c3-4f18-930e-d8147bece3b0\" xlink:actuate=\"onRequest\" xlink:href=\"psysml:4e191771-f0c3-4f18-930e-d8147bece3b0\" xlink:show=\"new\" xlink:title=\"psysml:4e191771-f0c3-4f18-930e-d8147bece3b0\" xlink:type=\"simple\"><rect fill=\"#FFFFFF\" height=\"45.9375\" id=\"E8\" rx=\"10\" ry=\"10\" style=\"stroke: #383838; stroke-width: 1.5;\" width=\"71\" x=\"84.5\" y=\"87.5\"/><text fill=\"#000000\" font-family=\"sans-serif\" font-size=\"12\" font-style=\"italic\" lengthAdjust=\"spacingAndGlyphs\" textLength=\"69\" x=\"85.5\" y=\"103.6387\">«attribute»</text><text fill=\"#000000\" font-family=\"sans-serif\" font-size=\"12\" lengthAdjust=\"spacingAndGlyphs\" textLength=\"5\" x=\"117.5\" y=\"117.6074\">z</text><line style=\"stroke: #383838; stroke-width: 1.5;\" x1=\"85.5\" x2=\"154.5\" y1=\"125.4375\" y2=\"125.4375\"/></a><a href=\"psysml:5348c3d7-5f8d-4656-8805-8961159c09b6\" target=\"_top\" title=\"psysml:5348c3d7-5f8d-4656-8805-8961159c09b6\" xlink:actuate=\"onRequest\" xlink:href=\"psysml:5348c3d7-5f8d-4656-8805-8961159c09b6\" xlink:show=\"new\" xlink:title=\"psysml:5348c3d7-5f8d-4656-8805-8961159c09b6\" xlink:type=\"simple\"><polygon fill=\"#FFFFFF\" points=\"271.5,84,392.5,84,399.5,106.2969,406.5,106.2969,406.5,136.5938,271.5,136.5938,271.5,84\" style=\"stroke: #000000; stroke-width: 1.5;\"/><line style=\"stroke: #000000; stroke-width: 1.5;\" x1=\"271.5\" x2=\"399.5\" y1=\"106.2969\" y2=\"106.2969\"/><text fill=\"#000000\" font-family=\"sans-serif\" font-size=\"14\" font-weight=\"bold\" lengthAdjust=\"spacingAndGlyphs\" textLength=\"115\" x=\"275.5\" y=\"98.9951\">Application Layer</text></a><a href=\"psysml:e92bea40-a3a7-48d4-b6b8-5548cc937669\" target=\"_top\" title=\"psysml:e92bea40-a3a7-48d4-b6b8-5548cc937669\" xlink:actuate=\"onRequest\" xlink:href=\"psysml:e92bea40-a3a7-48d4-b6b8-5548cc937669\" xlink:show=\"new\" xlink:title=\"psysml:e92bea40-a3a7-48d4-b6b8-5548cc937669\" xlink:type=\"simple\"><polygon fill=\"#FFFFFF\" points=\"284,170,380,170,387,192.2969,394,192.2969,394,222.5938,284,222.5938,284,170\" style=\"stroke: #000000; stroke-width: 1.5;\"/><line style=\"stroke: #000000; stroke-width: 1.5;\" x1=\"284\" x2=\"387\" y1=\"192.2969\" y2=\"192.2969\"/><text fill=\"#000000\" font-family=\"sans-serif\" font-size=\"14\" font-weight=\"bold\" lengthAdjust=\"spacingAndGlyphs\" textLength=\"90\" x=\"288\" y=\"184.9951\">Service Layer</text></a><a href=\"psysml:9210d902-7ba4-4a43-8b80-75376691e6d0\" target=\"_top\" title=\"psysml:9210d902-7ba4-4a43-8b80-75376691e6d0\" xlink:actuate=\"onRequest\" xlink:href=\"psysml:9210d902-7ba4-4a43-8b80-75376691e6d0\" xlink:show=\"new\" xlink:title=\"psysml:9210d902-7ba4-4a43-8b80-75376691e6d0\" xlink:type=\"simple\"><polygon fill=\"#FFFFFF\" points=\"293,256,371,256,378,278.2969,385,278.2969,385,308.5938,293,308.5938,293,256\" style=\"stroke: #000000; stroke-width: 1.5;\"/><line style=\"stroke: #000000; stroke-width: 1.5;\" x1=\"293\" x2=\"378\" y1=\"278.2969\" y2=\"278.2969\"/><text fill=\"#000000\" font-family=\"sans-serif\" font-size=\"14\" font-weight=\"bold\" lengthAdjust=\"spacingAndGlyphs\" textLength=\"72\" x=\"297\" y=\"270.9951\">Data Layer</text></a><!--MD5=[af87c684e3b0d8be13c1a698a818ef1e]\n",
       "link E3 to E4--><a href=\"psysml:43ea743a-a860-452f-b433-717c56c39b79\" target=\"_top\" title=\"psysml:43ea743a-a860-452f-b433-717c56c39b79\" xlink:actuate=\"onRequest\" xlink:href=\"psysml:43ea743a-a860-452f-b433-717c56c39b79\" xlink:show=\"new\" xlink:title=\"psysml:43ea743a-a860-452f-b433-717c56c39b79\" xlink:type=\"simple\"><path d=\"M339,137.16 C339,144.98 339,153.69 339,161.94 \" fill=\"none\" id=\"E3-&gt;E4\" style=\"stroke: #383838; stroke-width: 1.0; stroke-dasharray: 7.0,7.0;\"/><polygon fill=\"#383838\" points=\"339,170,342,162,336,162,339,170\" style=\"stroke: #383838; stroke-width: 1.0;\"/><text fill=\"#000000\" font-family=\"sans-serif\" font-size=\"13\" lengthAdjust=\"spacingAndGlyphs\" textLength=\"64\" x=\"340\" y=\"158.0669\">«depend»</text></a><!--MD5=[1b7591eae5389033d8d09a9d6721a717]\n",
       "link E4 to E5--><a href=\"psysml:2fd6f227-cfe3-4fe1-af5d-016c5bccfb5b\" target=\"_top\" title=\"psysml:2fd6f227-cfe3-4fe1-af5d-016c5bccfb5b\" xlink:actuate=\"onRequest\" xlink:href=\"psysml:2fd6f227-cfe3-4fe1-af5d-016c5bccfb5b\" xlink:show=\"new\" xlink:title=\"psysml:2fd6f227-cfe3-4fe1-af5d-016c5bccfb5b\" xlink:type=\"simple\"><path d=\"M339,223.16 C339,230.98 339,239.69 339,247.94 \" fill=\"none\" id=\"E4-&gt;E5\" style=\"stroke: #383838; stroke-width: 1.0; stroke-dasharray: 7.0,7.0;\"/><polygon fill=\"#383838\" points=\"339,256,342,248,336,248,339,256\" style=\"stroke: #383838; stroke-width: 1.0;\"/><text fill=\"#000000\" font-family=\"sans-serif\" font-size=\"13\" lengthAdjust=\"spacingAndGlyphs\" textLength=\"64\" x=\"340\" y=\"244.0669\">«depend»</text></a><!--MD5=[c5e8897d989ce984f93528998a7150fe]\n",
       "link E8 to E6--><a href=\"psysml:209e6958-61b2-4a39-8cf0-69b60dbfdefc\" target=\"_top\" title=\"psysml:209e6958-61b2-4a39-8cf0-69b60dbfdefc\" xlink:actuate=\"onRequest\" xlink:href=\"psysml:209e6958-61b2-4a39-8cf0-69b60dbfdefc\" xlink:show=\"new\" xlink:title=\"psysml:209e6958-61b2-4a39-8cf0-69b60dbfdefc\" xlink:type=\"simple\"><path d=\"M84.49,125.34 C76.34,130.27 68.69,136.72 64,145 C60.54,151.1 59.62,158.31 60,165.33 \" fill=\"none\" id=\"E8-&gt;E6\" style=\"stroke: #383838; stroke-width: 1.0; stroke-dasharray: 7.0,7.0;\"/><polygon fill=\"#383838\" points=\"60.97,173.42,63.0061,165.1221,57.0479,165.8294,60.97,173.42\" style=\"stroke: #383838; stroke-width: 1.0;\"/><text fill=\"#000000\" font-family=\"sans-serif\" font-size=\"13\" lengthAdjust=\"spacingAndGlyphs\" textLength=\"64\" x=\"65\" y=\"158.0669\">«depend»</text></a><!--MD5=[bfa3c8b0d15052fdf50ae9310b491027]\n",
       "link E8 to E7--><a href=\"psysml:209e6958-61b2-4a39-8cf0-69b60dbfdefc\" target=\"_top\" title=\"psysml:209e6958-61b2-4a39-8cf0-69b60dbfdefc\" xlink:actuate=\"onRequest\" xlink:href=\"psysml:209e6958-61b2-4a39-8cf0-69b60dbfdefc\" xlink:show=\"new\" xlink:title=\"psysml:209e6958-61b2-4a39-8cf0-69b60dbfdefc\" xlink:type=\"simple\"><path d=\"M134.19,133.57 C140.65,143.62 148.38,155.65 155.31,166.42 \" fill=\"none\" id=\"E8-&gt;E7\" style=\"stroke: #383838; stroke-width: 1.0; stroke-dasharray: 7.0,7.0;\"/><polygon fill=\"#383838\" points=\"159.72,173.29,157.9148,164.9389,152.8688,168.185,159.72,173.29\" style=\"stroke: #383838; stroke-width: 1.0;\"/><text fill=\"#000000\" font-family=\"sans-serif\" font-size=\"13\" lengthAdjust=\"spacingAndGlyphs\" textLength=\"64\" x=\"152\" y=\"158.0669\">«depend»</text></a><!--MD5=[d2c8fe72aeb0328a401a4fe9fb2ed772]\n",
       "@startuml\r\n",
       "skinparam ranksep 10\r\n",
       "skinparam rectangle {\r\n",
       " backgroundColor<<block>> LightGreen\r\n",
       "}\r\n",
       "top to bottom direction\r\n",
       "skinparam monochrome true\r\n",
       "skinparam classbackgroundcolor white\r\n",
       "skinparam shadowing false\r\n",
       "skinparam wrapWidth 300\r\n",
       "hide circle\r\n",
       "\r\n",
       "package \"DependencyTest\" as E1  [[psysml:eac58141-1d30-4dd4-8de7-f3beae76540f ]]  {\r\n",
       "package \"System\" as E2  [[psysml:13805519-bfbc-4c0f-88c4-787529a25875 ]]  {\r\n",
       "package \"Application Layer\" as E3  [[psysml:5348c3d7-5f8d-4656-8805-8961159c09b6 ]]  {\r\n",
       "}\r\n",
       "package \"Service Layer\" as E4  [[psysml:e92bea40-a3a7-48d4-b6b8-5548cc937669 ]]  {\r\n",
       "}\r\n",
       "package \"Data Layer\" as E5  [[psysml:9210d902-7ba4-4a43-8b80-75376691e6d0 ]]  {\r\n",
       "}\r\n",
       "}\r\n",
       "comp usage \"x\" as E6  <<(T,blue) attribute>> [[psysml:d1a2f8b3-43fe-4bb6-bcd1-ae6c73505f04 ]] {\r\n",
       "}\r\n",
       "comp usage \"y\" as E7  <<(T,blue) attribute>> [[psysml:ad948c0a-adc5-4c23-9b66-20666ae7e933 ]] {\r\n",
       "}\r\n",
       "comp usage \"z\" as E8  <<(T,blue) attribute>> [[psysml:4e191771-f0c3-4f18-930e-d8147bece3b0 ]] {\r\n",
       "}\r\n",
       "}\r\n",
       "E3 ..>> E4 [[psysml:43ea743a-a860-452f-b433-717c56c39b79 ]] : <<depend>>\r\n",
       "E4 ..>> E5 [[psysml:2fd6f227-cfe3-4fe1-af5d-016c5bccfb5b ]] : <<depend>>\r\n",
       "E8 ..>> E6 [[psysml:209e6958-61b2-4a39-8cf0-69b60dbfdefc ]] : <<depend>>\r\n",
       "E8 ..>> E7 [[psysml:209e6958-61b2-4a39-8cf0-69b60dbfdefc ]] : <<depend>>\r\n",
       "@enduml\r\n",
       "\n",
       "PlantUML version 1.2020.13(Sat Jun 13 12:26:38 UTC 2020)\n",
       "(EPL source distribution)\n",
       "Java Runtime: OpenJDK Runtime Environment\n",
       "JVM: OpenJDK 64-Bit Server VM\n",
       "Default Encoding: UTF-8\n",
       "Language: en\n",
       "Country: null\n",
       "--></g></svg>"
      ]
     },
     "execution_count": 47,
     "metadata": {},
     "output_type": "execute_result"
    }
   ],
   "source": [
    "%viz --style=\"TB\" --view=\"Interconnection\" \"DependencyTest\""
   ]
  },
  {
   "cell_type": "code",
   "execution_count": 48,
   "id": "cbe5ec64",
   "metadata": {
    "execution": {
     "iopub.execute_input": "2021-10-25T08:20:47.249963Z",
     "iopub.status.busy": "2021-10-25T08:20:47.249550Z",
     "iopub.status.idle": "2021-10-25T08:20:47.254600Z",
     "shell.execute_reply": "2021-10-25T08:20:47.254916Z"
    }
   },
   "outputs": [
    {
     "data": {
      "image/svg+xml": [
       "<?xml version=\"1.0\" encoding=\"UTF-8\" standalone=\"no\"?><svg xmlns=\"http://www.w3.org/2000/svg\" xmlns:xlink=\"http://www.w3.org/1999/xlink\" contentScriptType=\"application/ecmascript\" contentStyleType=\"text/css\" height=\"12px\" preserveAspectRatio=\"none\" style=\"width:12px;height:12px;\" version=\"1.1\" viewBox=\"0 0 12 12\" width=\"12px\" zoomAndPan=\"magnify\"><defs/><g><!--MD5=[06afc254b03ac5e9d9fb7773b07d0800]\n",
       "@startuml\r\n",
       "skinparam ranksep 8\r\n",
       "top to bottom direction\r\n",
       "skinparam monochrome true\r\n",
       "skinparam classbackgroundcolor white\r\n",
       "skinparam shadowing false\r\n",
       "skinparam wrapWidth 300\r\n",
       "hide circle\r\n",
       "\r\n",
       "@enduml\r\n",
       "\n",
       "PlantUML version 1.2020.13(Sat Jun 13 12:26:38 UTC 2020)\n",
       "(EPL source distribution)\n",
       "Java Runtime: OpenJDK Runtime Environment\n",
       "JVM: OpenJDK 64-Bit Server VM\n",
       "Default Encoding: UTF-8\n",
       "Language: en\n",
       "Country: null\n",
       "--></g></svg>"
      ]
     },
     "execution_count": 48,
     "metadata": {},
     "output_type": "execute_result"
    }
   ],
   "source": [
    "%viz --style=\"TB\" --view=\"Action\" \"DependencyTest\""
   ]
  },
  {
   "cell_type": "code",
   "execution_count": 49,
   "id": "7958670b",
   "metadata": {
    "execution": {
     "iopub.execute_input": "2021-10-25T08:20:47.304554Z",
     "iopub.status.busy": "2021-10-25T08:20:47.304132Z",
     "iopub.status.idle": "2021-10-25T08:20:47.309305Z",
     "shell.execute_reply": "2021-10-25T08:20:47.309614Z"
    }
   },
   "outputs": [
    {
     "data": {
      "image/svg+xml": [
       "<?xml version=\"1.0\" encoding=\"UTF-8\" standalone=\"no\"?><svg xmlns=\"http://www.w3.org/2000/svg\" xmlns:xlink=\"http://www.w3.org/1999/xlink\" contentScriptType=\"application/ecmascript\" contentStyleType=\"text/css\" height=\"12px\" preserveAspectRatio=\"none\" style=\"width:12px;height:12px;\" version=\"1.1\" viewBox=\"0 0 12 12\" width=\"12px\" zoomAndPan=\"magnify\"><defs/><g><!--MD5=[e1ab0c84c44d2fef8bf5f140f2689906]\n",
       "@startuml\r\n",
       "skinparam roundcorner 20\r\n",
       "skinparam BoxPadding 20\r\n",
       "skinparam SequenceBoxBackgroundColor #white\r\n",
       "skinparam style strictuml\r\n",
       "skinparam maxMessageSize 100\r\n",
       "top to bottom direction\r\n",
       "skinparam monochrome true\r\n",
       "skinparam classbackgroundcolor white\r\n",
       "skinparam shadowing false\r\n",
       "skinparam wrapWidth 300\r\n",
       "hide circle\r\n",
       "\r\n",
       "@enduml\r\n",
       "\n",
       "PlantUML version 1.2020.13(Sat Jun 13 12:26:38 UTC 2020)\n",
       "(EPL source distribution)\n",
       "Java Runtime: OpenJDK Runtime Environment\n",
       "JVM: OpenJDK 64-Bit Server VM\n",
       "Default Encoding: UTF-8\n",
       "Language: en\n",
       "Country: null\n",
       "--></g></svg>"
      ]
     },
     "execution_count": 49,
     "metadata": {},
     "output_type": "execute_result"
    }
   ],
   "source": [
    "%viz --style=\"TB\" --view=\"Sequence\" \"DependencyTest\""
   ]
  },
  {
   "cell_type": "code",
   "execution_count": 50,
   "id": "564d458d",
   "metadata": {
    "execution": {
     "iopub.execute_input": "2021-10-25T08:20:47.359445Z",
     "iopub.status.busy": "2021-10-25T08:20:47.359049Z",
     "iopub.status.idle": "2021-10-25T08:20:47.389649Z",
     "shell.execute_reply": "2021-10-25T08:20:47.389288Z"
    }
   },
   "outputs": [
    {
     "data": {
      "image/svg+xml": [
       "<?xml version=\"1.0\" encoding=\"UTF-8\" standalone=\"no\"?><svg xmlns=\"http://www.w3.org/2000/svg\" xmlns:xlink=\"http://www.w3.org/1999/xlink\" contentScriptType=\"application/ecmascript\" contentStyleType=\"text/css\" height=\"449px\" preserveAspectRatio=\"none\" style=\"width:469px;height:449px;\" version=\"1.1\" viewBox=\"0 0 469 449\" width=\"469px\" zoomAndPan=\"magnify\"><defs/><g><!--MD5=[fbc87193dbaf4d95561dea2c320d4a47]\n",
       "cluster E1--><a href=\"psysml:eac58141-1d30-4dd4-8de7-f3beae76540f\" target=\"_top\" title=\"psysml:eac58141-1d30-4dd4-8de7-f3beae76540f\" xlink:actuate=\"onRequest\" xlink:href=\"psysml:eac58141-1d30-4dd4-8de7-f3beae76540f\" xlink:show=\"new\" xlink:title=\"psysml:eac58141-1d30-4dd4-8de7-f3beae76540f\" xlink:type=\"simple\"><polygon fill=\"#FFFFFF\" points=\"16,6,142,6,149,28.2969,447,28.2969,447,437,16,437,16,6\" style=\"stroke: #000000; stroke-width: 1.5;\"/><line style=\"stroke: #000000; stroke-width: 1.5;\" x1=\"16\" x2=\"149\" y1=\"28.2969\" y2=\"28.2969\"/><text fill=\"#000000\" font-family=\"sans-serif\" font-size=\"14\" font-weight=\"bold\" lengthAdjust=\"spacingAndGlyphs\" textLength=\"120\" x=\"20\" y=\"20.9951\">DependencyTest</text></a><!--MD5=[e4f7fae6ed58524ba242bb0b0d3be6b7]\n",
       "cluster E2--><a href=\"psysml:13805519-bfbc-4c0f-88c4-787529a25875\" target=\"_top\" title=\"psysml:13805519-bfbc-4c0f-88c4-787529a25875\" xlink:actuate=\"onRequest\" xlink:href=\"psysml:13805519-bfbc-4c0f-88c4-787529a25875\" xlink:show=\"new\" xlink:title=\"psysml:13805519-bfbc-4c0f-88c4-787529a25875\" xlink:type=\"simple\"><polygon fill=\"#FFFFFF\" points=\"255,49,312,49,319,71.2969,423,71.2969,423,413,255,413,255,49\" style=\"stroke: #000000; stroke-width: 1.5;\"/><line style=\"stroke: #000000; stroke-width: 1.5;\" x1=\"255\" x2=\"319\" y1=\"71.2969\" y2=\"71.2969\"/><text fill=\"#000000\" font-family=\"sans-serif\" font-size=\"14\" font-weight=\"bold\" lengthAdjust=\"spacingAndGlyphs\" textLength=\"51\" x=\"259\" y=\"63.9951\">System</text></a><!--MD5=[60a26617385b1d2d0262a64233df1f8d]\n",
       "class E6--><a href=\"psysml:d1a2f8b3-43fe-4bb6-bcd1-ae6c73505f04\" target=\"_top\" title=\"psysml:d1a2f8b3-43fe-4bb6-bcd1-ae6c73505f04\" xlink:actuate=\"onRequest\" xlink:href=\"psysml:d1a2f8b3-43fe-4bb6-bcd1-ae6c73505f04\" xlink:show=\"new\" xlink:title=\"psysml:d1a2f8b3-43fe-4bb6-bcd1-ae6c73505f04\" xlink:type=\"simple\"><rect fill=\"#FFFFFF\" height=\"45.9375\" id=\"E6\" rx=\"10\" ry=\"10\" style=\"stroke: #383838; stroke-width: 1.5;\" width=\"71\" x=\"32.5\" y=\"217.5\"/><text fill=\"#000000\" font-family=\"sans-serif\" font-size=\"12\" font-style=\"italic\" lengthAdjust=\"spacingAndGlyphs\" textLength=\"69\" x=\"33.5\" y=\"233.6387\">«attribute»</text><text fill=\"#000000\" font-family=\"sans-serif\" font-size=\"12\" lengthAdjust=\"spacingAndGlyphs\" textLength=\"6\" x=\"65\" y=\"247.6074\">x</text><line style=\"stroke: #383838; stroke-width: 1.5;\" x1=\"33.5\" x2=\"102.5\" y1=\"255.4375\" y2=\"255.4375\"/></a><!--MD5=[2156ba9850f5573cc1fc38a6a4b2f02b]\n",
       "class E7--><a href=\"psysml:ad948c0a-adc5-4c23-9b66-20666ae7e933\" target=\"_top\" title=\"psysml:ad948c0a-adc5-4c23-9b66-20666ae7e933\" xlink:actuate=\"onRequest\" xlink:href=\"psysml:ad948c0a-adc5-4c23-9b66-20666ae7e933\" xlink:show=\"new\" xlink:title=\"psysml:ad948c0a-adc5-4c23-9b66-20666ae7e933\" xlink:type=\"simple\"><rect fill=\"#FFFFFF\" height=\"45.9375\" id=\"E7\" rx=\"10\" ry=\"10\" style=\"stroke: #383838; stroke-width: 1.5;\" width=\"71\" x=\"138.5\" y=\"217.5\"/><text fill=\"#000000\" font-family=\"sans-serif\" font-size=\"12\" font-style=\"italic\" lengthAdjust=\"spacingAndGlyphs\" textLength=\"69\" x=\"139.5\" y=\"233.6387\">«attribute»</text><text fill=\"#000000\" font-family=\"sans-serif\" font-size=\"12\" lengthAdjust=\"spacingAndGlyphs\" textLength=\"6\" x=\"171\" y=\"247.6074\">y</text><line style=\"stroke: #383838; stroke-width: 1.5;\" x1=\"139.5\" x2=\"208.5\" y1=\"255.4375\" y2=\"255.4375\"/></a><!--MD5=[b9389687b975829384b498ac4b7476b2]\n",
       "class E8--><a href=\"psysml:4e191771-f0c3-4f18-930e-d8147bece3b0\" target=\"_top\" title=\"psysml:4e191771-f0c3-4f18-930e-d8147bece3b0\" xlink:actuate=\"onRequest\" xlink:href=\"psysml:4e191771-f0c3-4f18-930e-d8147bece3b0\" xlink:show=\"new\" xlink:title=\"psysml:4e191771-f0c3-4f18-930e-d8147bece3b0\" xlink:type=\"simple\"><rect fill=\"#FFFFFF\" height=\"45.9375\" id=\"E8\" rx=\"10\" ry=\"10\" style=\"stroke: #383838; stroke-width: 1.5;\" width=\"71\" x=\"84.5\" y=\"87.5\"/><text fill=\"#000000\" font-family=\"sans-serif\" font-size=\"12\" font-style=\"italic\" lengthAdjust=\"spacingAndGlyphs\" textLength=\"69\" x=\"85.5\" y=\"103.6387\">«attribute»</text><text fill=\"#000000\" font-family=\"sans-serif\" font-size=\"12\" lengthAdjust=\"spacingAndGlyphs\" textLength=\"5\" x=\"117.5\" y=\"117.6074\">z</text><line style=\"stroke: #383838; stroke-width: 1.5;\" x1=\"85.5\" x2=\"154.5\" y1=\"125.4375\" y2=\"125.4375\"/></a><a href=\"psysml:5348c3d7-5f8d-4656-8805-8961159c09b6\" target=\"_top\" title=\"psysml:5348c3d7-5f8d-4656-8805-8961159c09b6\" xlink:actuate=\"onRequest\" xlink:href=\"psysml:5348c3d7-5f8d-4656-8805-8961159c09b6\" xlink:show=\"new\" xlink:title=\"psysml:5348c3d7-5f8d-4656-8805-8961159c09b6\" xlink:type=\"simple\"><polygon fill=\"#FFFFFF\" points=\"271.5,84,392.5,84,399.5,106.2969,406.5,106.2969,406.5,136.5938,271.5,136.5938,271.5,84\" style=\"stroke: #000000; stroke-width: 1.5;\"/><line style=\"stroke: #000000; stroke-width: 1.5;\" x1=\"271.5\" x2=\"399.5\" y1=\"106.2969\" y2=\"106.2969\"/><text fill=\"#000000\" font-family=\"sans-serif\" font-size=\"14\" font-weight=\"bold\" lengthAdjust=\"spacingAndGlyphs\" textLength=\"115\" x=\"275.5\" y=\"98.9951\">Application Layer</text></a><a href=\"psysml:e92bea40-a3a7-48d4-b6b8-5548cc937669\" target=\"_top\" title=\"psysml:e92bea40-a3a7-48d4-b6b8-5548cc937669\" xlink:actuate=\"onRequest\" xlink:href=\"psysml:e92bea40-a3a7-48d4-b6b8-5548cc937669\" xlink:show=\"new\" xlink:title=\"psysml:e92bea40-a3a7-48d4-b6b8-5548cc937669\" xlink:type=\"simple\"><polygon fill=\"#FFFFFF\" points=\"284,214,380,214,387,236.2969,394,236.2969,394,266.5938,284,266.5938,284,214\" style=\"stroke: #000000; stroke-width: 1.5;\"/><line style=\"stroke: #000000; stroke-width: 1.5;\" x1=\"284\" x2=\"387\" y1=\"236.2969\" y2=\"236.2969\"/><text fill=\"#000000\" font-family=\"sans-serif\" font-size=\"14\" font-weight=\"bold\" lengthAdjust=\"spacingAndGlyphs\" textLength=\"90\" x=\"288\" y=\"228.9951\">Service Layer</text></a><a href=\"psysml:9210d902-7ba4-4a43-8b80-75376691e6d0\" target=\"_top\" title=\"psysml:9210d902-7ba4-4a43-8b80-75376691e6d0\" xlink:actuate=\"onRequest\" xlink:href=\"psysml:9210d902-7ba4-4a43-8b80-75376691e6d0\" xlink:show=\"new\" xlink:title=\"psysml:9210d902-7ba4-4a43-8b80-75376691e6d0\" xlink:type=\"simple\"><polygon fill=\"#FFFFFF\" points=\"293,344,371,344,378,366.2969,385,366.2969,385,396.5938,293,396.5938,293,344\" style=\"stroke: #000000; stroke-width: 1.5;\"/><line style=\"stroke: #000000; stroke-width: 1.5;\" x1=\"293\" x2=\"378\" y1=\"366.2969\" y2=\"366.2969\"/><text fill=\"#000000\" font-family=\"sans-serif\" font-size=\"14\" font-weight=\"bold\" lengthAdjust=\"spacingAndGlyphs\" textLength=\"72\" x=\"297\" y=\"358.9951\">Data Layer</text></a><!--MD5=[af87c684e3b0d8be13c1a698a818ef1e]\n",
       "link E3 to E4--><a href=\"psysml:43ea743a-a860-452f-b433-717c56c39b79\" target=\"_top\" title=\"psysml:43ea743a-a860-452f-b433-717c56c39b79\" xlink:actuate=\"onRequest\" xlink:href=\"psysml:43ea743a-a860-452f-b433-717c56c39b79\" xlink:show=\"new\" xlink:title=\"psysml:43ea743a-a860-452f-b433-717c56c39b79\" xlink:type=\"simple\"><path d=\"M339,137.1 C339,156.8 339,184.22 339,205.73 \" fill=\"none\" id=\"E3-&gt;E4\" style=\"stroke: #383838; stroke-width: 1.0; stroke-dasharray: 7.0,7.0;\"/><polygon fill=\"#383838\" points=\"339,213.95,342,205.95,336,205.95,339,213.95\" style=\"stroke: #383838; stroke-width: 1.0;\"/><text fill=\"#000000\" font-family=\"sans-serif\" font-size=\"13\" lengthAdjust=\"spacingAndGlyphs\" textLength=\"64\" x=\"340\" y=\"180.0669\">«depend»</text></a><!--MD5=[1b7591eae5389033d8d09a9d6721a717]\n",
       "link E4 to E5--><a href=\"psysml:2fd6f227-cfe3-4fe1-af5d-016c5bccfb5b\" target=\"_top\" title=\"psysml:2fd6f227-cfe3-4fe1-af5d-016c5bccfb5b\" xlink:actuate=\"onRequest\" xlink:href=\"psysml:2fd6f227-cfe3-4fe1-af5d-016c5bccfb5b\" xlink:show=\"new\" xlink:title=\"psysml:2fd6f227-cfe3-4fe1-af5d-016c5bccfb5b\" xlink:type=\"simple\"><path d=\"M339,267.1 C339,286.8 339,314.22 339,335.73 \" fill=\"none\" id=\"E4-&gt;E5\" style=\"stroke: #383838; stroke-width: 1.0; stroke-dasharray: 7.0,7.0;\"/><polygon fill=\"#383838\" points=\"339,343.95,342,335.95,336,335.95,339,343.95\" style=\"stroke: #383838; stroke-width: 1.0;\"/><text fill=\"#000000\" font-family=\"sans-serif\" font-size=\"13\" lengthAdjust=\"spacingAndGlyphs\" textLength=\"64\" x=\"340\" y=\"310.0669\">«depend»</text></a><!--MD5=[c5e8897d989ce984f93528998a7150fe]\n",
       "link E8 to E6--><a href=\"psysml:209e6958-61b2-4a39-8cf0-69b60dbfdefc\" target=\"_top\" title=\"psysml:209e6958-61b2-4a39-8cf0-69b60dbfdefc\" xlink:actuate=\"onRequest\" xlink:href=\"psysml:209e6958-61b2-4a39-8cf0-69b60dbfdefc\" xlink:show=\"new\" xlink:title=\"psysml:209e6958-61b2-4a39-8cf0-69b60dbfdefc\" xlink:type=\"simple\"><path d=\"M89.42,133.6 C79.35,142.68 69.37,154.11 64,167 C58.5,180.2 58.66,195.94 60.54,209.38 \" fill=\"none\" id=\"E8-&gt;E6\" style=\"stroke: #383838; stroke-width: 1.0; stroke-dasharray: 7.0,7.0;\"/><polygon fill=\"#383838\" points=\"61.9,217.4,63.517,209.0104,57.6018,210.0159,61.9,217.4\" style=\"stroke: #383838; stroke-width: 1.0;\"/><text fill=\"#000000\" font-family=\"sans-serif\" font-size=\"13\" lengthAdjust=\"spacingAndGlyphs\" textLength=\"64\" x=\"65\" y=\"180.0669\">«depend»</text></a><!--MD5=[bfa3c8b0d15052fdf50ae9310b491027]\n",
       "link E8 to E7--><a href=\"psysml:209e6958-61b2-4a39-8cf0-69b60dbfdefc\" target=\"_top\" title=\"psysml:209e6958-61b2-4a39-8cf0-69b60dbfdefc\" xlink:actuate=\"onRequest\" xlink:href=\"psysml:209e6958-61b2-4a39-8cf0-69b60dbfdefc\" xlink:show=\"new\" xlink:title=\"psysml:209e6958-61b2-4a39-8cf0-69b60dbfdefc\" xlink:type=\"simple\"><path d=\"M129.28,133.5 C138.17,154.57 151.64,186.5 161.47,209.81 \" fill=\"none\" id=\"E8-&gt;E7\" style=\"stroke: #383838; stroke-width: 1.0; stroke-dasharray: 7.0,7.0;\"/><polygon fill=\"#383838\" points=\"164.66,217.35,164.3241,208.8126,158.7933,211.1385,164.66,217.35\" style=\"stroke: #383838; stroke-width: 1.0;\"/><text fill=\"#000000\" font-family=\"sans-serif\" font-size=\"13\" lengthAdjust=\"spacingAndGlyphs\" textLength=\"64\" x=\"151\" y=\"180.0669\">«depend»</text></a><!--MD5=[d43e075afc118a774691e139c297330f]\n",
       "@startuml\r\n",
       "top to bottom direction\r\n",
       "skinparam monochrome true\r\n",
       "skinparam classbackgroundcolor white\r\n",
       "skinparam shadowing false\r\n",
       "skinparam wrapWidth 300\r\n",
       "hide circle\r\n",
       "\r\n",
       "package \"DependencyTest\" as E1  [[psysml:eac58141-1d30-4dd4-8de7-f3beae76540f ]]  {\r\n",
       "package \"System\" as E2  [[psysml:13805519-bfbc-4c0f-88c4-787529a25875 ]]  {\r\n",
       "package \"Application Layer\" as E3  [[psysml:5348c3d7-5f8d-4656-8805-8961159c09b6 ]]  {\r\n",
       "}\r\n",
       "package \"Service Layer\" as E4  [[psysml:e92bea40-a3a7-48d4-b6b8-5548cc937669 ]]  {\r\n",
       "}\r\n",
       "package \"Data Layer\" as E5  [[psysml:9210d902-7ba4-4a43-8b80-75376691e6d0 ]]  {\r\n",
       "}\r\n",
       "}\r\n",
       "comp usage \"x\" as E6  <<(T,blue) attribute>> [[psysml:d1a2f8b3-43fe-4bb6-bcd1-ae6c73505f04 ]] {\r\n",
       "}\r\n",
       "comp usage \"y\" as E7  <<(T,blue) attribute>> [[psysml:ad948c0a-adc5-4c23-9b66-20666ae7e933 ]] {\r\n",
       "}\r\n",
       "comp usage \"z\" as E8  <<(T,blue) attribute>> [[psysml:4e191771-f0c3-4f18-930e-d8147bece3b0 ]] {\r\n",
       "}\r\n",
       "}\r\n",
       "E3 ..>> E4 [[psysml:43ea743a-a860-452f-b433-717c56c39b79 ]] : <<depend>>\r\n",
       "E4 ..>> E5 [[psysml:2fd6f227-cfe3-4fe1-af5d-016c5bccfb5b ]] : <<depend>>\r\n",
       "E8 ..>> E6 [[psysml:209e6958-61b2-4a39-8cf0-69b60dbfdefc ]] : <<depend>>\r\n",
       "E8 ..>> E7 [[psysml:209e6958-61b2-4a39-8cf0-69b60dbfdefc ]] : <<depend>>\r\n",
       "@enduml\r\n",
       "\n",
       "PlantUML version 1.2020.13(Sat Jun 13 12:26:38 UTC 2020)\n",
       "(EPL source distribution)\n",
       "Java Runtime: OpenJDK Runtime Environment\n",
       "JVM: OpenJDK 64-Bit Server VM\n",
       "Default Encoding: UTF-8\n",
       "Language: en\n",
       "Country: null\n",
       "--></g></svg>"
      ]
     },
     "execution_count": 50,
     "metadata": {},
     "output_type": "execute_result"
    }
   ],
   "source": [
    "%viz --style=\"TB\" --view=\"MIXED\" \"DependencyTest\""
   ]
  },
  {
   "cell_type": "code",
   "execution_count": 51,
   "id": "0956dd12",
   "metadata": {
    "execution": {
     "iopub.execute_input": "2021-10-25T08:20:47.438605Z",
     "iopub.status.busy": "2021-10-25T08:20:47.438202Z",
     "iopub.status.idle": "2021-10-25T08:20:47.469406Z",
     "shell.execute_reply": "2021-10-25T08:20:47.467597Z"
    }
   },
   "outputs": [
    {
     "data": {
      "image/svg+xml": [
       "<?xml version=\"1.0\" encoding=\"UTF-8\" standalone=\"no\"?><svg xmlns=\"http://www.w3.org/2000/svg\" xmlns:xlink=\"http://www.w3.org/1999/xlink\" contentScriptType=\"application/ecmascript\" contentStyleType=\"text/css\" height=\"449px\" preserveAspectRatio=\"none\" style=\"width:469px;height:449px;\" version=\"1.1\" viewBox=\"0 0 469 449\" width=\"469px\" zoomAndPan=\"magnify\"><defs/><g><!--MD5=[fbc87193dbaf4d95561dea2c320d4a47]\n",
       "cluster E1--><a href=\"psysml:eac58141-1d30-4dd4-8de7-f3beae76540f\" target=\"_top\" title=\"psysml:eac58141-1d30-4dd4-8de7-f3beae76540f\" xlink:actuate=\"onRequest\" xlink:href=\"psysml:eac58141-1d30-4dd4-8de7-f3beae76540f\" xlink:show=\"new\" xlink:title=\"psysml:eac58141-1d30-4dd4-8de7-f3beae76540f\" xlink:type=\"simple\"><polygon fill=\"#FFFFFF\" points=\"16,6,142,6,149,28.2969,447,28.2969,447,437,16,437,16,6\" style=\"stroke: #000000; stroke-width: 1.5;\"/><line style=\"stroke: #000000; stroke-width: 1.5;\" x1=\"16\" x2=\"149\" y1=\"28.2969\" y2=\"28.2969\"/><text fill=\"#000000\" font-family=\"sans-serif\" font-size=\"14\" font-weight=\"bold\" lengthAdjust=\"spacingAndGlyphs\" textLength=\"120\" x=\"20\" y=\"20.9951\">DependencyTest</text></a><!--MD5=[e4f7fae6ed58524ba242bb0b0d3be6b7]\n",
       "cluster E2--><a href=\"psysml:13805519-bfbc-4c0f-88c4-787529a25875\" target=\"_top\" title=\"psysml:13805519-bfbc-4c0f-88c4-787529a25875\" xlink:actuate=\"onRequest\" xlink:href=\"psysml:13805519-bfbc-4c0f-88c4-787529a25875\" xlink:show=\"new\" xlink:title=\"psysml:13805519-bfbc-4c0f-88c4-787529a25875\" xlink:type=\"simple\"><polygon fill=\"#FFFFFF\" points=\"255,49,312,49,319,71.2969,423,71.2969,423,413,255,413,255,49\" style=\"stroke: #000000; stroke-width: 1.5;\"/><line style=\"stroke: #000000; stroke-width: 1.5;\" x1=\"255\" x2=\"319\" y1=\"71.2969\" y2=\"71.2969\"/><text fill=\"#000000\" font-family=\"sans-serif\" font-size=\"14\" font-weight=\"bold\" lengthAdjust=\"spacingAndGlyphs\" textLength=\"51\" x=\"259\" y=\"63.9951\">System</text></a><!--MD5=[60a26617385b1d2d0262a64233df1f8d]\n",
       "class E6--><a href=\"psysml:d1a2f8b3-43fe-4bb6-bcd1-ae6c73505f04\" target=\"_top\" title=\"psysml:d1a2f8b3-43fe-4bb6-bcd1-ae6c73505f04\" xlink:actuate=\"onRequest\" xlink:href=\"psysml:d1a2f8b3-43fe-4bb6-bcd1-ae6c73505f04\" xlink:show=\"new\" xlink:title=\"psysml:d1a2f8b3-43fe-4bb6-bcd1-ae6c73505f04\" xlink:type=\"simple\"><rect fill=\"#FFFFFF\" height=\"45.9375\" id=\"E6\" rx=\"10\" ry=\"10\" style=\"stroke: #383838; stroke-width: 1.5;\" width=\"71\" x=\"32.5\" y=\"217.5\"/><text fill=\"#000000\" font-family=\"sans-serif\" font-size=\"12\" font-style=\"italic\" lengthAdjust=\"spacingAndGlyphs\" textLength=\"69\" x=\"33.5\" y=\"233.6387\">«attribute»</text><text fill=\"#000000\" font-family=\"sans-serif\" font-size=\"12\" lengthAdjust=\"spacingAndGlyphs\" textLength=\"6\" x=\"65\" y=\"247.6074\">x</text><line style=\"stroke: #383838; stroke-width: 1.5;\" x1=\"33.5\" x2=\"102.5\" y1=\"255.4375\" y2=\"255.4375\"/></a><!--MD5=[2156ba9850f5573cc1fc38a6a4b2f02b]\n",
       "class E7--><a href=\"psysml:ad948c0a-adc5-4c23-9b66-20666ae7e933\" target=\"_top\" title=\"psysml:ad948c0a-adc5-4c23-9b66-20666ae7e933\" xlink:actuate=\"onRequest\" xlink:href=\"psysml:ad948c0a-adc5-4c23-9b66-20666ae7e933\" xlink:show=\"new\" xlink:title=\"psysml:ad948c0a-adc5-4c23-9b66-20666ae7e933\" xlink:type=\"simple\"><rect fill=\"#FFFFFF\" height=\"45.9375\" id=\"E7\" rx=\"10\" ry=\"10\" style=\"stroke: #383838; stroke-width: 1.5;\" width=\"71\" x=\"138.5\" y=\"217.5\"/><text fill=\"#000000\" font-family=\"sans-serif\" font-size=\"12\" font-style=\"italic\" lengthAdjust=\"spacingAndGlyphs\" textLength=\"69\" x=\"139.5\" y=\"233.6387\">«attribute»</text><text fill=\"#000000\" font-family=\"sans-serif\" font-size=\"12\" lengthAdjust=\"spacingAndGlyphs\" textLength=\"6\" x=\"171\" y=\"247.6074\">y</text><line style=\"stroke: #383838; stroke-width: 1.5;\" x1=\"139.5\" x2=\"208.5\" y1=\"255.4375\" y2=\"255.4375\"/></a><!--MD5=[b9389687b975829384b498ac4b7476b2]\n",
       "class E8--><a href=\"psysml:4e191771-f0c3-4f18-930e-d8147bece3b0\" target=\"_top\" title=\"psysml:4e191771-f0c3-4f18-930e-d8147bece3b0\" xlink:actuate=\"onRequest\" xlink:href=\"psysml:4e191771-f0c3-4f18-930e-d8147bece3b0\" xlink:show=\"new\" xlink:title=\"psysml:4e191771-f0c3-4f18-930e-d8147bece3b0\" xlink:type=\"simple\"><rect fill=\"#FFFFFF\" height=\"45.9375\" id=\"E8\" rx=\"10\" ry=\"10\" style=\"stroke: #383838; stroke-width: 1.5;\" width=\"71\" x=\"84.5\" y=\"87.5\"/><text fill=\"#000000\" font-family=\"sans-serif\" font-size=\"12\" font-style=\"italic\" lengthAdjust=\"spacingAndGlyphs\" textLength=\"69\" x=\"85.5\" y=\"103.6387\">«attribute»</text><text fill=\"#000000\" font-family=\"sans-serif\" font-size=\"12\" lengthAdjust=\"spacingAndGlyphs\" textLength=\"5\" x=\"117.5\" y=\"117.6074\">z</text><line style=\"stroke: #383838; stroke-width: 1.5;\" x1=\"85.5\" x2=\"154.5\" y1=\"125.4375\" y2=\"125.4375\"/></a><a href=\"psysml:5348c3d7-5f8d-4656-8805-8961159c09b6\" target=\"_top\" title=\"psysml:5348c3d7-5f8d-4656-8805-8961159c09b6\" xlink:actuate=\"onRequest\" xlink:href=\"psysml:5348c3d7-5f8d-4656-8805-8961159c09b6\" xlink:show=\"new\" xlink:title=\"psysml:5348c3d7-5f8d-4656-8805-8961159c09b6\" xlink:type=\"simple\"><polygon fill=\"#FFFFFF\" points=\"271.5,84,392.5,84,399.5,106.2969,406.5,106.2969,406.5,136.5938,271.5,136.5938,271.5,84\" style=\"stroke: #000000; stroke-width: 1.5;\"/><line style=\"stroke: #000000; stroke-width: 1.5;\" x1=\"271.5\" x2=\"399.5\" y1=\"106.2969\" y2=\"106.2969\"/><text fill=\"#000000\" font-family=\"sans-serif\" font-size=\"14\" font-weight=\"bold\" lengthAdjust=\"spacingAndGlyphs\" textLength=\"115\" x=\"275.5\" y=\"98.9951\">Application Layer</text></a><a href=\"psysml:e92bea40-a3a7-48d4-b6b8-5548cc937669\" target=\"_top\" title=\"psysml:e92bea40-a3a7-48d4-b6b8-5548cc937669\" xlink:actuate=\"onRequest\" xlink:href=\"psysml:e92bea40-a3a7-48d4-b6b8-5548cc937669\" xlink:show=\"new\" xlink:title=\"psysml:e92bea40-a3a7-48d4-b6b8-5548cc937669\" xlink:type=\"simple\"><polygon fill=\"#FFFFFF\" points=\"284,214,380,214,387,236.2969,394,236.2969,394,266.5938,284,266.5938,284,214\" style=\"stroke: #000000; stroke-width: 1.5;\"/><line style=\"stroke: #000000; stroke-width: 1.5;\" x1=\"284\" x2=\"387\" y1=\"236.2969\" y2=\"236.2969\"/><text fill=\"#000000\" font-family=\"sans-serif\" font-size=\"14\" font-weight=\"bold\" lengthAdjust=\"spacingAndGlyphs\" textLength=\"90\" x=\"288\" y=\"228.9951\">Service Layer</text></a><a href=\"psysml:9210d902-7ba4-4a43-8b80-75376691e6d0\" target=\"_top\" title=\"psysml:9210d902-7ba4-4a43-8b80-75376691e6d0\" xlink:actuate=\"onRequest\" xlink:href=\"psysml:9210d902-7ba4-4a43-8b80-75376691e6d0\" xlink:show=\"new\" xlink:title=\"psysml:9210d902-7ba4-4a43-8b80-75376691e6d0\" xlink:type=\"simple\"><polygon fill=\"#FFFFFF\" points=\"293,344,371,344,378,366.2969,385,366.2969,385,396.5938,293,396.5938,293,344\" style=\"stroke: #000000; stroke-width: 1.5;\"/><line style=\"stroke: #000000; stroke-width: 1.5;\" x1=\"293\" x2=\"378\" y1=\"366.2969\" y2=\"366.2969\"/><text fill=\"#000000\" font-family=\"sans-serif\" font-size=\"14\" font-weight=\"bold\" lengthAdjust=\"spacingAndGlyphs\" textLength=\"72\" x=\"297\" y=\"358.9951\">Data Layer</text></a><!--MD5=[af87c684e3b0d8be13c1a698a818ef1e]\n",
       "link E3 to E4--><a href=\"psysml:43ea743a-a860-452f-b433-717c56c39b79\" target=\"_top\" title=\"psysml:43ea743a-a860-452f-b433-717c56c39b79\" xlink:actuate=\"onRequest\" xlink:href=\"psysml:43ea743a-a860-452f-b433-717c56c39b79\" xlink:show=\"new\" xlink:title=\"psysml:43ea743a-a860-452f-b433-717c56c39b79\" xlink:type=\"simple\"><path d=\"M339,137.12 C339,137.12 339,205.91 339,205.91 \" fill=\"none\" id=\"E3-&gt;E4\" style=\"stroke: #383838; stroke-width: 1.0; stroke-dasharray: 7.0,7.0;\"/><polygon fill=\"#383838\" points=\"339,213.91,342,205.91,336,205.91,339,213.91\" style=\"stroke: #383838; stroke-width: 1.0;\"/><text fill=\"#000000\" font-family=\"sans-serif\" font-size=\"13\" lengthAdjust=\"spacingAndGlyphs\" textLength=\"64\" x=\"340\" y=\"180.0669\">«depend»</text></a><!--MD5=[1b7591eae5389033d8d09a9d6721a717]\n",
       "link E4 to E5--><a href=\"psysml:2fd6f227-cfe3-4fe1-af5d-016c5bccfb5b\" target=\"_top\" title=\"psysml:2fd6f227-cfe3-4fe1-af5d-016c5bccfb5b\" xlink:actuate=\"onRequest\" xlink:href=\"psysml:2fd6f227-cfe3-4fe1-af5d-016c5bccfb5b\" xlink:show=\"new\" xlink:title=\"psysml:2fd6f227-cfe3-4fe1-af5d-016c5bccfb5b\" xlink:type=\"simple\"><path d=\"M339,267.12 C339,267.12 339,335.91 339,335.91 \" fill=\"none\" id=\"E4-&gt;E5\" style=\"stroke: #383838; stroke-width: 1.0; stroke-dasharray: 7.0,7.0;\"/><polygon fill=\"#383838\" points=\"339,343.91,342,335.91,336,335.91,339,343.91\" style=\"stroke: #383838; stroke-width: 1.0;\"/><text fill=\"#000000\" font-family=\"sans-serif\" font-size=\"13\" lengthAdjust=\"spacingAndGlyphs\" textLength=\"64\" x=\"340\" y=\"310.0669\">«depend»</text></a><!--MD5=[c5e8897d989ce984f93528998a7150fe]\n",
       "link E8 to E6--><a href=\"psysml:209e6958-61b2-4a39-8cf0-69b60dbfdefc\" target=\"_top\" title=\"psysml:209e6958-61b2-4a39-8cf0-69b60dbfdefc\" xlink:actuate=\"onRequest\" xlink:href=\"psysml:209e6958-61b2-4a39-8cf0-69b60dbfdefc\" xlink:show=\"new\" xlink:title=\"psysml:209e6958-61b2-4a39-8cf0-69b60dbfdefc\" xlink:type=\"simple\"><path d=\"M94,133.74 C94,133.74 94,209.46 94,209.46 \" fill=\"none\" id=\"E8-&gt;E6\" style=\"stroke: #383838; stroke-width: 1.0; stroke-dasharray: 7.0,7.0;\"/><polygon fill=\"#383838\" points=\"94,217.46,97,209.46,91,209.46,94,217.46\" style=\"stroke: #383838; stroke-width: 1.0;\"/><text fill=\"#000000\" font-family=\"sans-serif\" font-size=\"13\" lengthAdjust=\"spacingAndGlyphs\" textLength=\"64\" x=\"68\" y=\"180.0669\">«depend»</text></a><!--MD5=[bfa3c8b0d15052fdf50ae9310b491027]\n",
       "link E8 to E7--><a href=\"psysml:209e6958-61b2-4a39-8cf0-69b60dbfdefc\" target=\"_top\" title=\"psysml:209e6958-61b2-4a39-8cf0-69b60dbfdefc\" xlink:actuate=\"onRequest\" xlink:href=\"psysml:209e6958-61b2-4a39-8cf0-69b60dbfdefc\" xlink:show=\"new\" xlink:title=\"psysml:209e6958-61b2-4a39-8cf0-69b60dbfdefc\" xlink:type=\"simple\"><path d=\"M147,133.74 C147,133.74 147,209.46 147,209.46 \" fill=\"none\" id=\"E8-&gt;E7\" style=\"stroke: #383838; stroke-width: 1.0; stroke-dasharray: 7.0,7.0;\"/><polygon fill=\"#383838\" points=\"147,217.46,150,209.46,144,209.46,147,217.46\" style=\"stroke: #383838; stroke-width: 1.0;\"/><text fill=\"#000000\" font-family=\"sans-serif\" font-size=\"13\" lengthAdjust=\"spacingAndGlyphs\" textLength=\"64\" x=\"174\" y=\"180.0669\">«depend»</text></a><!--MD5=[61c8247d224ac3767aa4f2da44f1461a]\n",
       "@startuml\r\n",
       "skinparam linetype ortho\r\n",
       "skinparam monochrome true\r\n",
       "skinparam classbackgroundcolor white\r\n",
       "skinparam shadowing false\r\n",
       "skinparam wrapWidth 300\r\n",
       "hide circle\r\n",
       "\r\n",
       "package \"DependencyTest\" as E1  [[psysml:eac58141-1d30-4dd4-8de7-f3beae76540f ]]  {\r\n",
       "package \"System\" as E2  [[psysml:13805519-bfbc-4c0f-88c4-787529a25875 ]]  {\r\n",
       "package \"Application Layer\" as E3  [[psysml:5348c3d7-5f8d-4656-8805-8961159c09b6 ]]  {\r\n",
       "}\r\n",
       "package \"Service Layer\" as E4  [[psysml:e92bea40-a3a7-48d4-b6b8-5548cc937669 ]]  {\r\n",
       "}\r\n",
       "package \"Data Layer\" as E5  [[psysml:9210d902-7ba4-4a43-8b80-75376691e6d0 ]]  {\r\n",
       "}\r\n",
       "}\r\n",
       "comp usage \"x\" as E6  <<(T,blue) attribute>> [[psysml:d1a2f8b3-43fe-4bb6-bcd1-ae6c73505f04 ]] {\r\n",
       "}\r\n",
       "comp usage \"y\" as E7  <<(T,blue) attribute>> [[psysml:ad948c0a-adc5-4c23-9b66-20666ae7e933 ]] {\r\n",
       "}\r\n",
       "comp usage \"z\" as E8  <<(T,blue) attribute>> [[psysml:4e191771-f0c3-4f18-930e-d8147bece3b0 ]] {\r\n",
       "}\r\n",
       "}\r\n",
       "E3 ..>> E4 [[psysml:43ea743a-a860-452f-b433-717c56c39b79 ]] : <<depend>>\r\n",
       "E4 ..>> E5 [[psysml:2fd6f227-cfe3-4fe1-af5d-016c5bccfb5b ]] : <<depend>>\r\n",
       "E8 ..>> E6 [[psysml:209e6958-61b2-4a39-8cf0-69b60dbfdefc ]] : <<depend>>\r\n",
       "E8 ..>> E7 [[psysml:209e6958-61b2-4a39-8cf0-69b60dbfdefc ]] : <<depend>>\r\n",
       "@enduml\r\n",
       "\n",
       "PlantUML version 1.2020.13(Sat Jun 13 12:26:38 UTC 2020)\n",
       "(EPL source distribution)\n",
       "Java Runtime: OpenJDK Runtime Environment\n",
       "JVM: OpenJDK 64-Bit Server VM\n",
       "Default Encoding: UTF-8\n",
       "Language: en\n",
       "Country: null\n",
       "--></g></svg>"
      ]
     },
     "execution_count": 51,
     "metadata": {},
     "output_type": "execute_result"
    }
   ],
   "source": [
    "%viz --style=\"ORTHOLINE\" --view=\"Default\" \"DependencyTest\""
   ]
  },
  {
   "cell_type": "code",
   "execution_count": 52,
   "id": "a041396e",
   "metadata": {
    "execution": {
     "iopub.execute_input": "2021-10-25T08:20:47.518233Z",
     "iopub.status.busy": "2021-10-25T08:20:47.517836Z",
     "iopub.status.idle": "2021-10-25T08:20:47.549640Z",
     "shell.execute_reply": "2021-10-25T08:20:47.547626Z"
    }
   },
   "outputs": [
    {
     "data": {
      "image/svg+xml": [
       "<?xml version=\"1.0\" encoding=\"UTF-8\" standalone=\"no\"?><svg xmlns=\"http://www.w3.org/2000/svg\" xmlns:xlink=\"http://www.w3.org/1999/xlink\" contentScriptType=\"application/ecmascript\" contentStyleType=\"text/css\" height=\"449px\" preserveAspectRatio=\"none\" style=\"width:469px;height:449px;\" version=\"1.1\" viewBox=\"0 0 469 449\" width=\"469px\" zoomAndPan=\"magnify\"><defs/><g><!--MD5=[fbc87193dbaf4d95561dea2c320d4a47]\n",
       "cluster E1--><a href=\"psysml:eac58141-1d30-4dd4-8de7-f3beae76540f\" target=\"_top\" title=\"psysml:eac58141-1d30-4dd4-8de7-f3beae76540f\" xlink:actuate=\"onRequest\" xlink:href=\"psysml:eac58141-1d30-4dd4-8de7-f3beae76540f\" xlink:show=\"new\" xlink:title=\"psysml:eac58141-1d30-4dd4-8de7-f3beae76540f\" xlink:type=\"simple\"><polygon fill=\"#FFFFFF\" points=\"16,6,142,6,149,28.2969,447,28.2969,447,437,16,437,16,6\" style=\"stroke: #000000; stroke-width: 1.5;\"/><line style=\"stroke: #000000; stroke-width: 1.5;\" x1=\"16\" x2=\"149\" y1=\"28.2969\" y2=\"28.2969\"/><text fill=\"#000000\" font-family=\"sans-serif\" font-size=\"14\" font-weight=\"bold\" lengthAdjust=\"spacingAndGlyphs\" textLength=\"120\" x=\"20\" y=\"20.9951\">DependencyTest</text></a><!--MD5=[e4f7fae6ed58524ba242bb0b0d3be6b7]\n",
       "cluster E2--><a href=\"psysml:13805519-bfbc-4c0f-88c4-787529a25875\" target=\"_top\" title=\"psysml:13805519-bfbc-4c0f-88c4-787529a25875\" xlink:actuate=\"onRequest\" xlink:href=\"psysml:13805519-bfbc-4c0f-88c4-787529a25875\" xlink:show=\"new\" xlink:title=\"psysml:13805519-bfbc-4c0f-88c4-787529a25875\" xlink:type=\"simple\"><polygon fill=\"#FFFFFF\" points=\"255,49,312,49,319,71.2969,423,71.2969,423,413,255,413,255,49\" style=\"stroke: #000000; stroke-width: 1.5;\"/><line style=\"stroke: #000000; stroke-width: 1.5;\" x1=\"255\" x2=\"319\" y1=\"71.2969\" y2=\"71.2969\"/><text fill=\"#000000\" font-family=\"sans-serif\" font-size=\"14\" font-weight=\"bold\" lengthAdjust=\"spacingAndGlyphs\" textLength=\"51\" x=\"259\" y=\"63.9951\">System</text></a><!--MD5=[60a26617385b1d2d0262a64233df1f8d]\n",
       "class E6--><a href=\"psysml:d1a2f8b3-43fe-4bb6-bcd1-ae6c73505f04\" target=\"_top\" title=\"psysml:d1a2f8b3-43fe-4bb6-bcd1-ae6c73505f04\" xlink:actuate=\"onRequest\" xlink:href=\"psysml:d1a2f8b3-43fe-4bb6-bcd1-ae6c73505f04\" xlink:show=\"new\" xlink:title=\"psysml:d1a2f8b3-43fe-4bb6-bcd1-ae6c73505f04\" xlink:type=\"simple\"><rect fill=\"#FFFFFF\" height=\"45.9375\" id=\"E6\" rx=\"10\" ry=\"10\" style=\"stroke: #383838; stroke-width: 1.5;\" width=\"71\" x=\"32.5\" y=\"217.5\"/><text fill=\"#000000\" font-family=\"sans-serif\" font-size=\"12\" font-style=\"italic\" lengthAdjust=\"spacingAndGlyphs\" textLength=\"69\" x=\"33.5\" y=\"233.6387\">«attribute»</text><text fill=\"#000000\" font-family=\"sans-serif\" font-size=\"12\" lengthAdjust=\"spacingAndGlyphs\" textLength=\"6\" x=\"65\" y=\"247.6074\">x</text><line style=\"stroke: #383838; stroke-width: 1.5;\" x1=\"33.5\" x2=\"102.5\" y1=\"255.4375\" y2=\"255.4375\"/></a><!--MD5=[2156ba9850f5573cc1fc38a6a4b2f02b]\n",
       "class E7--><a href=\"psysml:ad948c0a-adc5-4c23-9b66-20666ae7e933\" target=\"_top\" title=\"psysml:ad948c0a-adc5-4c23-9b66-20666ae7e933\" xlink:actuate=\"onRequest\" xlink:href=\"psysml:ad948c0a-adc5-4c23-9b66-20666ae7e933\" xlink:show=\"new\" xlink:title=\"psysml:ad948c0a-adc5-4c23-9b66-20666ae7e933\" xlink:type=\"simple\"><rect fill=\"#FFFFFF\" height=\"45.9375\" id=\"E7\" rx=\"10\" ry=\"10\" style=\"stroke: #383838; stroke-width: 1.5;\" width=\"71\" x=\"138.5\" y=\"217.5\"/><text fill=\"#000000\" font-family=\"sans-serif\" font-size=\"12\" font-style=\"italic\" lengthAdjust=\"spacingAndGlyphs\" textLength=\"69\" x=\"139.5\" y=\"233.6387\">«attribute»</text><text fill=\"#000000\" font-family=\"sans-serif\" font-size=\"12\" lengthAdjust=\"spacingAndGlyphs\" textLength=\"6\" x=\"171\" y=\"247.6074\">y</text><line style=\"stroke: #383838; stroke-width: 1.5;\" x1=\"139.5\" x2=\"208.5\" y1=\"255.4375\" y2=\"255.4375\"/></a><!--MD5=[b9389687b975829384b498ac4b7476b2]\n",
       "class E8--><a href=\"psysml:4e191771-f0c3-4f18-930e-d8147bece3b0\" target=\"_top\" title=\"psysml:4e191771-f0c3-4f18-930e-d8147bece3b0\" xlink:actuate=\"onRequest\" xlink:href=\"psysml:4e191771-f0c3-4f18-930e-d8147bece3b0\" xlink:show=\"new\" xlink:title=\"psysml:4e191771-f0c3-4f18-930e-d8147bece3b0\" xlink:type=\"simple\"><rect fill=\"#FFFFFF\" height=\"45.9375\" id=\"E8\" rx=\"10\" ry=\"10\" style=\"stroke: #383838; stroke-width: 1.5;\" width=\"71\" x=\"84.5\" y=\"87.5\"/><text fill=\"#000000\" font-family=\"sans-serif\" font-size=\"12\" font-style=\"italic\" lengthAdjust=\"spacingAndGlyphs\" textLength=\"69\" x=\"85.5\" y=\"103.6387\">«attribute»</text><text fill=\"#000000\" font-family=\"sans-serif\" font-size=\"12\" lengthAdjust=\"spacingAndGlyphs\" textLength=\"5\" x=\"117.5\" y=\"117.6074\">z</text><line style=\"stroke: #383838; stroke-width: 1.5;\" x1=\"85.5\" x2=\"154.5\" y1=\"125.4375\" y2=\"125.4375\"/></a><a href=\"psysml:5348c3d7-5f8d-4656-8805-8961159c09b6\" target=\"_top\" title=\"psysml:5348c3d7-5f8d-4656-8805-8961159c09b6\" xlink:actuate=\"onRequest\" xlink:href=\"psysml:5348c3d7-5f8d-4656-8805-8961159c09b6\" xlink:show=\"new\" xlink:title=\"psysml:5348c3d7-5f8d-4656-8805-8961159c09b6\" xlink:type=\"simple\"><polygon fill=\"#FFFFFF\" points=\"271.5,84,392.5,84,399.5,106.2969,406.5,106.2969,406.5,136.5938,271.5,136.5938,271.5,84\" style=\"stroke: #000000; stroke-width: 1.5;\"/><line style=\"stroke: #000000; stroke-width: 1.5;\" x1=\"271.5\" x2=\"399.5\" y1=\"106.2969\" y2=\"106.2969\"/><text fill=\"#000000\" font-family=\"sans-serif\" font-size=\"14\" font-weight=\"bold\" lengthAdjust=\"spacingAndGlyphs\" textLength=\"115\" x=\"275.5\" y=\"98.9951\">Application Layer</text></a><a href=\"psysml:e92bea40-a3a7-48d4-b6b8-5548cc937669\" target=\"_top\" title=\"psysml:e92bea40-a3a7-48d4-b6b8-5548cc937669\" xlink:actuate=\"onRequest\" xlink:href=\"psysml:e92bea40-a3a7-48d4-b6b8-5548cc937669\" xlink:show=\"new\" xlink:title=\"psysml:e92bea40-a3a7-48d4-b6b8-5548cc937669\" xlink:type=\"simple\"><polygon fill=\"#FFFFFF\" points=\"284,214,380,214,387,236.2969,394,236.2969,394,266.5938,284,266.5938,284,214\" style=\"stroke: #000000; stroke-width: 1.5;\"/><line style=\"stroke: #000000; stroke-width: 1.5;\" x1=\"284\" x2=\"387\" y1=\"236.2969\" y2=\"236.2969\"/><text fill=\"#000000\" font-family=\"sans-serif\" font-size=\"14\" font-weight=\"bold\" lengthAdjust=\"spacingAndGlyphs\" textLength=\"90\" x=\"288\" y=\"228.9951\">Service Layer</text></a><a href=\"psysml:9210d902-7ba4-4a43-8b80-75376691e6d0\" target=\"_top\" title=\"psysml:9210d902-7ba4-4a43-8b80-75376691e6d0\" xlink:actuate=\"onRequest\" xlink:href=\"psysml:9210d902-7ba4-4a43-8b80-75376691e6d0\" xlink:show=\"new\" xlink:title=\"psysml:9210d902-7ba4-4a43-8b80-75376691e6d0\" xlink:type=\"simple\"><polygon fill=\"#FFFFFF\" points=\"293,344,371,344,378,366.2969,385,366.2969,385,396.5938,293,396.5938,293,344\" style=\"stroke: #000000; stroke-width: 1.5;\"/><line style=\"stroke: #000000; stroke-width: 1.5;\" x1=\"293\" x2=\"378\" y1=\"366.2969\" y2=\"366.2969\"/><text fill=\"#000000\" font-family=\"sans-serif\" font-size=\"14\" font-weight=\"bold\" lengthAdjust=\"spacingAndGlyphs\" textLength=\"72\" x=\"297\" y=\"358.9951\">Data Layer</text></a><!--MD5=[af87c684e3b0d8be13c1a698a818ef1e]\n",
       "link E3 to E4--><a href=\"psysml:43ea743a-a860-452f-b433-717c56c39b79\" target=\"_top\" title=\"psysml:43ea743a-a860-452f-b433-717c56c39b79\" xlink:actuate=\"onRequest\" xlink:href=\"psysml:43ea743a-a860-452f-b433-717c56c39b79\" xlink:show=\"new\" xlink:title=\"psysml:43ea743a-a860-452f-b433-717c56c39b79\" xlink:type=\"simple\"><path d=\"M339,137.12 C339,137.12 339,205.91 339,205.91 \" fill=\"none\" id=\"E3-&gt;E4\" style=\"stroke: #383838; stroke-width: 1.0; stroke-dasharray: 7.0,7.0;\"/><polygon fill=\"#383838\" points=\"339,213.91,342,205.91,336,205.91,339,213.91\" style=\"stroke: #383838; stroke-width: 1.0;\"/><text fill=\"#000000\" font-family=\"sans-serif\" font-size=\"13\" lengthAdjust=\"spacingAndGlyphs\" textLength=\"64\" x=\"340\" y=\"180.0669\">«depend»</text></a><!--MD5=[1b7591eae5389033d8d09a9d6721a717]\n",
       "link E4 to E5--><a href=\"psysml:2fd6f227-cfe3-4fe1-af5d-016c5bccfb5b\" target=\"_top\" title=\"psysml:2fd6f227-cfe3-4fe1-af5d-016c5bccfb5b\" xlink:actuate=\"onRequest\" xlink:href=\"psysml:2fd6f227-cfe3-4fe1-af5d-016c5bccfb5b\" xlink:show=\"new\" xlink:title=\"psysml:2fd6f227-cfe3-4fe1-af5d-016c5bccfb5b\" xlink:type=\"simple\"><path d=\"M339,267.12 C339,267.12 339,335.91 339,335.91 \" fill=\"none\" id=\"E4-&gt;E5\" style=\"stroke: #383838; stroke-width: 1.0; stroke-dasharray: 7.0,7.0;\"/><polygon fill=\"#383838\" points=\"339,343.91,342,335.91,336,335.91,339,343.91\" style=\"stroke: #383838; stroke-width: 1.0;\"/><text fill=\"#000000\" font-family=\"sans-serif\" font-size=\"13\" lengthAdjust=\"spacingAndGlyphs\" textLength=\"64\" x=\"340\" y=\"310.0669\">«depend»</text></a><!--MD5=[c5e8897d989ce984f93528998a7150fe]\n",
       "link E8 to E6--><a href=\"psysml:209e6958-61b2-4a39-8cf0-69b60dbfdefc\" target=\"_top\" title=\"psysml:209e6958-61b2-4a39-8cf0-69b60dbfdefc\" xlink:actuate=\"onRequest\" xlink:href=\"psysml:209e6958-61b2-4a39-8cf0-69b60dbfdefc\" xlink:show=\"new\" xlink:title=\"psysml:209e6958-61b2-4a39-8cf0-69b60dbfdefc\" xlink:type=\"simple\"><path d=\"M94,133.74 C94,133.74 94,209.46 94,209.46 \" fill=\"none\" id=\"E8-&gt;E6\" style=\"stroke: #383838; stroke-width: 1.0; stroke-dasharray: 7.0,7.0;\"/><polygon fill=\"#383838\" points=\"94,217.46,97,209.46,91,209.46,94,217.46\" style=\"stroke: #383838; stroke-width: 1.0;\"/><text fill=\"#000000\" font-family=\"sans-serif\" font-size=\"13\" lengthAdjust=\"spacingAndGlyphs\" textLength=\"64\" x=\"68\" y=\"180.0669\">«depend»</text></a><!--MD5=[bfa3c8b0d15052fdf50ae9310b491027]\n",
       "link E8 to E7--><a href=\"psysml:209e6958-61b2-4a39-8cf0-69b60dbfdefc\" target=\"_top\" title=\"psysml:209e6958-61b2-4a39-8cf0-69b60dbfdefc\" xlink:actuate=\"onRequest\" xlink:href=\"psysml:209e6958-61b2-4a39-8cf0-69b60dbfdefc\" xlink:show=\"new\" xlink:title=\"psysml:209e6958-61b2-4a39-8cf0-69b60dbfdefc\" xlink:type=\"simple\"><path d=\"M147,133.74 C147,133.74 147,209.46 147,209.46 \" fill=\"none\" id=\"E8-&gt;E7\" style=\"stroke: #383838; stroke-width: 1.0; stroke-dasharray: 7.0,7.0;\"/><polygon fill=\"#383838\" points=\"147,217.46,150,209.46,144,209.46,147,217.46\" style=\"stroke: #383838; stroke-width: 1.0;\"/><text fill=\"#000000\" font-family=\"sans-serif\" font-size=\"13\" lengthAdjust=\"spacingAndGlyphs\" textLength=\"64\" x=\"174\" y=\"180.0669\">«depend»</text></a><!--MD5=[61c8247d224ac3767aa4f2da44f1461a]\n",
       "@startuml\r\n",
       "skinparam linetype ortho\r\n",
       "skinparam monochrome true\r\n",
       "skinparam classbackgroundcolor white\r\n",
       "skinparam shadowing false\r\n",
       "skinparam wrapWidth 300\r\n",
       "hide circle\r\n",
       "\r\n",
       "package \"DependencyTest\" as E1  [[psysml:eac58141-1d30-4dd4-8de7-f3beae76540f ]]  {\r\n",
       "package \"System\" as E2  [[psysml:13805519-bfbc-4c0f-88c4-787529a25875 ]]  {\r\n",
       "package \"Application Layer\" as E3  [[psysml:5348c3d7-5f8d-4656-8805-8961159c09b6 ]]  {\r\n",
       "}\r\n",
       "package \"Service Layer\" as E4  [[psysml:e92bea40-a3a7-48d4-b6b8-5548cc937669 ]]  {\r\n",
       "}\r\n",
       "package \"Data Layer\" as E5  [[psysml:9210d902-7ba4-4a43-8b80-75376691e6d0 ]]  {\r\n",
       "}\r\n",
       "}\r\n",
       "comp usage \"x\" as E6  <<(T,blue) attribute>> [[psysml:d1a2f8b3-43fe-4bb6-bcd1-ae6c73505f04 ]] {\r\n",
       "}\r\n",
       "comp usage \"y\" as E7  <<(T,blue) attribute>> [[psysml:ad948c0a-adc5-4c23-9b66-20666ae7e933 ]] {\r\n",
       "}\r\n",
       "comp usage \"z\" as E8  <<(T,blue) attribute>> [[psysml:4e191771-f0c3-4f18-930e-d8147bece3b0 ]] {\r\n",
       "}\r\n",
       "}\r\n",
       "E3 ..>> E4 [[psysml:43ea743a-a860-452f-b433-717c56c39b79 ]] : <<depend>>\r\n",
       "E4 ..>> E5 [[psysml:2fd6f227-cfe3-4fe1-af5d-016c5bccfb5b ]] : <<depend>>\r\n",
       "E8 ..>> E6 [[psysml:209e6958-61b2-4a39-8cf0-69b60dbfdefc ]] : <<depend>>\r\n",
       "E8 ..>> E7 [[psysml:209e6958-61b2-4a39-8cf0-69b60dbfdefc ]] : <<depend>>\r\n",
       "@enduml\r\n",
       "\n",
       "PlantUML version 1.2020.13(Sat Jun 13 12:26:38 UTC 2020)\n",
       "(EPL source distribution)\n",
       "Java Runtime: OpenJDK Runtime Environment\n",
       "JVM: OpenJDK 64-Bit Server VM\n",
       "Default Encoding: UTF-8\n",
       "Language: en\n",
       "Country: null\n",
       "--></g></svg>"
      ]
     },
     "execution_count": 52,
     "metadata": {},
     "output_type": "execute_result"
    }
   ],
   "source": [
    "%viz --style=\"ORTHOLINE\" --view=\"Tree\" \"DependencyTest\""
   ]
  },
  {
   "cell_type": "code",
   "execution_count": 53,
   "id": "08ac1e9a",
   "metadata": {
    "execution": {
     "iopub.execute_input": "2021-10-25T08:20:47.598357Z",
     "iopub.status.busy": "2021-10-25T08:20:47.597932Z",
     "iopub.status.idle": "2021-10-25T08:20:47.603304Z",
     "shell.execute_reply": "2021-10-25T08:20:47.602963Z"
    }
   },
   "outputs": [
    {
     "data": {
      "image/svg+xml": [
       "<?xml version=\"1.0\" encoding=\"UTF-8\" standalone=\"no\"?><svg xmlns=\"http://www.w3.org/2000/svg\" xmlns:xlink=\"http://www.w3.org/1999/xlink\" contentScriptType=\"application/ecmascript\" contentStyleType=\"text/css\" height=\"12px\" preserveAspectRatio=\"none\" style=\"width:12px;height:12px;\" version=\"1.1\" viewBox=\"0 0 12 12\" width=\"12px\" zoomAndPan=\"magnify\"><defs/><g><!--MD5=[97d6f38768b311333d388e66b2b27985]\n",
       "@startuml\r\n",
       "skinparam linetype ortho\r\n",
       "skinparam monochrome true\r\n",
       "skinparam classbackgroundcolor white\r\n",
       "skinparam shadowing false\r\n",
       "skinparam wrapWidth 300\r\n",
       "hide circle\r\n",
       "\r\n",
       "@enduml\r\n",
       "\n",
       "PlantUML version 1.2020.13(Sat Jun 13 12:26:38 UTC 2020)\n",
       "(EPL source distribution)\n",
       "Java Runtime: OpenJDK Runtime Environment\n",
       "JVM: OpenJDK 64-Bit Server VM\n",
       "Default Encoding: UTF-8\n",
       "Language: en\n",
       "Country: null\n",
       "--></g></svg>"
      ]
     },
     "execution_count": 53,
     "metadata": {},
     "output_type": "execute_result"
    }
   ],
   "source": [
    "%viz --style=\"ORTHOLINE\" --view=\"State\" \"DependencyTest\""
   ]
  },
  {
   "cell_type": "code",
   "execution_count": 54,
   "id": "c8957710",
   "metadata": {
    "execution": {
     "iopub.execute_input": "2021-10-25T08:20:47.652883Z",
     "iopub.status.busy": "2021-10-25T08:20:47.652469Z",
     "iopub.status.idle": "2021-10-25T08:20:47.686579Z",
     "shell.execute_reply": "2021-10-25T08:20:47.682594Z"
    }
   },
   "outputs": [
    {
     "data": {
      "image/svg+xml": [
       "<?xml version=\"1.0\" encoding=\"UTF-8\" standalone=\"no\"?><svg xmlns=\"http://www.w3.org/2000/svg\" xmlns:xlink=\"http://www.w3.org/1999/xlink\" contentScriptType=\"application/ecmascript\" contentStyleType=\"text/css\" height=\"361px\" preserveAspectRatio=\"none\" style=\"width:469px;height:361px;\" version=\"1.1\" viewBox=\"0 0 469 361\" width=\"469px\" zoomAndPan=\"magnify\"><defs/><g><!--MD5=[fbc87193dbaf4d95561dea2c320d4a47]\n",
       "cluster E1--><a href=\"psysml:eac58141-1d30-4dd4-8de7-f3beae76540f\" target=\"_top\" title=\"psysml:eac58141-1d30-4dd4-8de7-f3beae76540f\" xlink:actuate=\"onRequest\" xlink:href=\"psysml:eac58141-1d30-4dd4-8de7-f3beae76540f\" xlink:show=\"new\" xlink:title=\"psysml:eac58141-1d30-4dd4-8de7-f3beae76540f\" xlink:type=\"simple\"><polygon fill=\"#FFFFFF\" points=\"16,6,142,6,149,28.2969,447,28.2969,447,349,16,349,16,6\" style=\"stroke: #000000; stroke-width: 1.5;\"/><line style=\"stroke: #000000; stroke-width: 1.5;\" x1=\"16\" x2=\"149\" y1=\"28.2969\" y2=\"28.2969\"/><text fill=\"#000000\" font-family=\"sans-serif\" font-size=\"14\" font-weight=\"bold\" lengthAdjust=\"spacingAndGlyphs\" textLength=\"120\" x=\"20\" y=\"20.9951\">DependencyTest</text></a><!--MD5=[e4f7fae6ed58524ba242bb0b0d3be6b7]\n",
       "cluster E2--><a href=\"psysml:13805519-bfbc-4c0f-88c4-787529a25875\" target=\"_top\" title=\"psysml:13805519-bfbc-4c0f-88c4-787529a25875\" xlink:actuate=\"onRequest\" xlink:href=\"psysml:13805519-bfbc-4c0f-88c4-787529a25875\" xlink:show=\"new\" xlink:title=\"psysml:13805519-bfbc-4c0f-88c4-787529a25875\" xlink:type=\"simple\"><polygon fill=\"#FFFFFF\" points=\"255,49,312,49,319,71.2969,423,71.2969,423,325,255,325,255,49\" style=\"stroke: #000000; stroke-width: 1.5;\"/><line style=\"stroke: #000000; stroke-width: 1.5;\" x1=\"255\" x2=\"319\" y1=\"71.2969\" y2=\"71.2969\"/><text fill=\"#000000\" font-family=\"sans-serif\" font-size=\"14\" font-weight=\"bold\" lengthAdjust=\"spacingAndGlyphs\" textLength=\"51\" x=\"259\" y=\"63.9951\">System</text></a><!--MD5=[60a26617385b1d2d0262a64233df1f8d]\n",
       "class E6--><a href=\"psysml:d1a2f8b3-43fe-4bb6-bcd1-ae6c73505f04\" target=\"_top\" title=\"psysml:d1a2f8b3-43fe-4bb6-bcd1-ae6c73505f04\" xlink:actuate=\"onRequest\" xlink:href=\"psysml:d1a2f8b3-43fe-4bb6-bcd1-ae6c73505f04\" xlink:show=\"new\" xlink:title=\"psysml:d1a2f8b3-43fe-4bb6-bcd1-ae6c73505f04\" xlink:type=\"simple\"><rect fill=\"#FFFFFF\" height=\"45.9375\" id=\"E6\" rx=\"10\" ry=\"10\" style=\"stroke: #383838; stroke-width: 1.5;\" width=\"71\" x=\"32.5\" y=\"173.5\"/><text fill=\"#000000\" font-family=\"sans-serif\" font-size=\"12\" font-style=\"italic\" lengthAdjust=\"spacingAndGlyphs\" textLength=\"69\" x=\"33.5\" y=\"189.6387\">«attribute»</text><text fill=\"#000000\" font-family=\"sans-serif\" font-size=\"12\" lengthAdjust=\"spacingAndGlyphs\" textLength=\"6\" x=\"65\" y=\"203.6074\">x</text><line style=\"stroke: #383838; stroke-width: 1.5;\" x1=\"33.5\" x2=\"102.5\" y1=\"211.4375\" y2=\"211.4375\"/></a><!--MD5=[2156ba9850f5573cc1fc38a6a4b2f02b]\n",
       "class E7--><a href=\"psysml:ad948c0a-adc5-4c23-9b66-20666ae7e933\" target=\"_top\" title=\"psysml:ad948c0a-adc5-4c23-9b66-20666ae7e933\" xlink:actuate=\"onRequest\" xlink:href=\"psysml:ad948c0a-adc5-4c23-9b66-20666ae7e933\" xlink:show=\"new\" xlink:title=\"psysml:ad948c0a-adc5-4c23-9b66-20666ae7e933\" xlink:type=\"simple\"><rect fill=\"#FFFFFF\" height=\"45.9375\" id=\"E7\" rx=\"10\" ry=\"10\" style=\"stroke: #383838; stroke-width: 1.5;\" width=\"71\" x=\"138.5\" y=\"173.5\"/><text fill=\"#000000\" font-family=\"sans-serif\" font-size=\"12\" font-style=\"italic\" lengthAdjust=\"spacingAndGlyphs\" textLength=\"69\" x=\"139.5\" y=\"189.6387\">«attribute»</text><text fill=\"#000000\" font-family=\"sans-serif\" font-size=\"12\" lengthAdjust=\"spacingAndGlyphs\" textLength=\"6\" x=\"171\" y=\"203.6074\">y</text><line style=\"stroke: #383838; stroke-width: 1.5;\" x1=\"139.5\" x2=\"208.5\" y1=\"211.4375\" y2=\"211.4375\"/></a><!--MD5=[b9389687b975829384b498ac4b7476b2]\n",
       "class E8--><a href=\"psysml:4e191771-f0c3-4f18-930e-d8147bece3b0\" target=\"_top\" title=\"psysml:4e191771-f0c3-4f18-930e-d8147bece3b0\" xlink:actuate=\"onRequest\" xlink:href=\"psysml:4e191771-f0c3-4f18-930e-d8147bece3b0\" xlink:show=\"new\" xlink:title=\"psysml:4e191771-f0c3-4f18-930e-d8147bece3b0\" xlink:type=\"simple\"><rect fill=\"#FFFFFF\" height=\"45.9375\" id=\"E8\" rx=\"10\" ry=\"10\" style=\"stroke: #383838; stroke-width: 1.5;\" width=\"71\" x=\"84.5\" y=\"87.5\"/><text fill=\"#000000\" font-family=\"sans-serif\" font-size=\"12\" font-style=\"italic\" lengthAdjust=\"spacingAndGlyphs\" textLength=\"69\" x=\"85.5\" y=\"103.6387\">«attribute»</text><text fill=\"#000000\" font-family=\"sans-serif\" font-size=\"12\" lengthAdjust=\"spacingAndGlyphs\" textLength=\"5\" x=\"117.5\" y=\"117.6074\">z</text><line style=\"stroke: #383838; stroke-width: 1.5;\" x1=\"85.5\" x2=\"154.5\" y1=\"125.4375\" y2=\"125.4375\"/></a><a href=\"psysml:5348c3d7-5f8d-4656-8805-8961159c09b6\" target=\"_top\" title=\"psysml:5348c3d7-5f8d-4656-8805-8961159c09b6\" xlink:actuate=\"onRequest\" xlink:href=\"psysml:5348c3d7-5f8d-4656-8805-8961159c09b6\" xlink:show=\"new\" xlink:title=\"psysml:5348c3d7-5f8d-4656-8805-8961159c09b6\" xlink:type=\"simple\"><polygon fill=\"#FFFFFF\" points=\"271.5,84,392.5,84,399.5,106.2969,406.5,106.2969,406.5,136.5938,271.5,136.5938,271.5,84\" style=\"stroke: #000000; stroke-width: 1.5;\"/><line style=\"stroke: #000000; stroke-width: 1.5;\" x1=\"271.5\" x2=\"399.5\" y1=\"106.2969\" y2=\"106.2969\"/><text fill=\"#000000\" font-family=\"sans-serif\" font-size=\"14\" font-weight=\"bold\" lengthAdjust=\"spacingAndGlyphs\" textLength=\"115\" x=\"275.5\" y=\"98.9951\">Application Layer</text></a><a href=\"psysml:e92bea40-a3a7-48d4-b6b8-5548cc937669\" target=\"_top\" title=\"psysml:e92bea40-a3a7-48d4-b6b8-5548cc937669\" xlink:actuate=\"onRequest\" xlink:href=\"psysml:e92bea40-a3a7-48d4-b6b8-5548cc937669\" xlink:show=\"new\" xlink:title=\"psysml:e92bea40-a3a7-48d4-b6b8-5548cc937669\" xlink:type=\"simple\"><polygon fill=\"#FFFFFF\" points=\"284,170,380,170,387,192.2969,394,192.2969,394,222.5938,284,222.5938,284,170\" style=\"stroke: #000000; stroke-width: 1.5;\"/><line style=\"stroke: #000000; stroke-width: 1.5;\" x1=\"284\" x2=\"387\" y1=\"192.2969\" y2=\"192.2969\"/><text fill=\"#000000\" font-family=\"sans-serif\" font-size=\"14\" font-weight=\"bold\" lengthAdjust=\"spacingAndGlyphs\" textLength=\"90\" x=\"288\" y=\"184.9951\">Service Layer</text></a><a href=\"psysml:9210d902-7ba4-4a43-8b80-75376691e6d0\" target=\"_top\" title=\"psysml:9210d902-7ba4-4a43-8b80-75376691e6d0\" xlink:actuate=\"onRequest\" xlink:href=\"psysml:9210d902-7ba4-4a43-8b80-75376691e6d0\" xlink:show=\"new\" xlink:title=\"psysml:9210d902-7ba4-4a43-8b80-75376691e6d0\" xlink:type=\"simple\"><polygon fill=\"#FFFFFF\" points=\"293,256,371,256,378,278.2969,385,278.2969,385,308.5938,293,308.5938,293,256\" style=\"stroke: #000000; stroke-width: 1.5;\"/><line style=\"stroke: #000000; stroke-width: 1.5;\" x1=\"293\" x2=\"378\" y1=\"278.2969\" y2=\"278.2969\"/><text fill=\"#000000\" font-family=\"sans-serif\" font-size=\"14\" font-weight=\"bold\" lengthAdjust=\"spacingAndGlyphs\" textLength=\"72\" x=\"297\" y=\"270.9951\">Data Layer</text></a><!--MD5=[af87c684e3b0d8be13c1a698a818ef1e]\n",
       "link E3 to E4--><a href=\"psysml:43ea743a-a860-452f-b433-717c56c39b79\" target=\"_top\" title=\"psysml:43ea743a-a860-452f-b433-717c56c39b79\" xlink:actuate=\"onRequest\" xlink:href=\"psysml:43ea743a-a860-452f-b433-717c56c39b79\" xlink:show=\"new\" xlink:title=\"psysml:43ea743a-a860-452f-b433-717c56c39b79\" xlink:type=\"simple\"><path d=\"M339,137.24 C339,137.24 339,161.78 339,161.78 \" fill=\"none\" id=\"E3-&gt;E4\" style=\"stroke: #383838; stroke-width: 1.0; stroke-dasharray: 7.0,7.0;\"/><polygon fill=\"#383838\" points=\"339,169.78,342,161.78,336,161.78,339,169.78\" style=\"stroke: #383838; stroke-width: 1.0;\"/><text fill=\"#000000\" font-family=\"sans-serif\" font-size=\"13\" lengthAdjust=\"spacingAndGlyphs\" textLength=\"64\" x=\"340\" y=\"158.0669\">«depend»</text></a><!--MD5=[1b7591eae5389033d8d09a9d6721a717]\n",
       "link E4 to E5--><a href=\"psysml:2fd6f227-cfe3-4fe1-af5d-016c5bccfb5b\" target=\"_top\" title=\"psysml:2fd6f227-cfe3-4fe1-af5d-016c5bccfb5b\" xlink:actuate=\"onRequest\" xlink:href=\"psysml:2fd6f227-cfe3-4fe1-af5d-016c5bccfb5b\" xlink:show=\"new\" xlink:title=\"psysml:2fd6f227-cfe3-4fe1-af5d-016c5bccfb5b\" xlink:type=\"simple\"><path d=\"M339,223.24 C339,223.24 339,247.78 339,247.78 \" fill=\"none\" id=\"E4-&gt;E5\" style=\"stroke: #383838; stroke-width: 1.0; stroke-dasharray: 7.0,7.0;\"/><polygon fill=\"#383838\" points=\"339,255.78,342,247.78,336,247.78,339,255.78\" style=\"stroke: #383838; stroke-width: 1.0;\"/><text fill=\"#000000\" font-family=\"sans-serif\" font-size=\"13\" lengthAdjust=\"spacingAndGlyphs\" textLength=\"64\" x=\"340\" y=\"244.0669\">«depend»</text></a><!--MD5=[c5e8897d989ce984f93528998a7150fe]\n",
       "link E8 to E6--><a href=\"psysml:209e6958-61b2-4a39-8cf0-69b60dbfdefc\" target=\"_top\" title=\"psysml:209e6958-61b2-4a39-8cf0-69b60dbfdefc\" xlink:actuate=\"onRequest\" xlink:href=\"psysml:209e6958-61b2-4a39-8cf0-69b60dbfdefc\" xlink:show=\"new\" xlink:title=\"psysml:209e6958-61b2-4a39-8cf0-69b60dbfdefc\" xlink:type=\"simple\"><path d=\"M94,133.55 C94,133.55 94,165.39 94,165.39 \" fill=\"none\" id=\"E8-&gt;E6\" style=\"stroke: #383838; stroke-width: 1.0; stroke-dasharray: 7.0,7.0;\"/><polygon fill=\"#383838\" points=\"94,173.39,97,165.39,91,165.39,94,173.39\" style=\"stroke: #383838; stroke-width: 1.0;\"/><text fill=\"#000000\" font-family=\"sans-serif\" font-size=\"13\" lengthAdjust=\"spacingAndGlyphs\" textLength=\"64\" x=\"68\" y=\"158.0669\">«depend»</text></a><!--MD5=[bfa3c8b0d15052fdf50ae9310b491027]\n",
       "link E8 to E7--><a href=\"psysml:209e6958-61b2-4a39-8cf0-69b60dbfdefc\" target=\"_top\" title=\"psysml:209e6958-61b2-4a39-8cf0-69b60dbfdefc\" xlink:actuate=\"onRequest\" xlink:href=\"psysml:209e6958-61b2-4a39-8cf0-69b60dbfdefc\" xlink:show=\"new\" xlink:title=\"psysml:209e6958-61b2-4a39-8cf0-69b60dbfdefc\" xlink:type=\"simple\"><path d=\"M147,133.55 C147,133.55 147,165.39 147,165.39 \" fill=\"none\" id=\"E8-&gt;E7\" style=\"stroke: #383838; stroke-width: 1.0; stroke-dasharray: 7.0,7.0;\"/><polygon fill=\"#383838\" points=\"147,173.39,150,165.39,144,165.39,147,173.39\" style=\"stroke: #383838; stroke-width: 1.0;\"/><text fill=\"#000000\" font-family=\"sans-serif\" font-size=\"13\" lengthAdjust=\"spacingAndGlyphs\" textLength=\"64\" x=\"174\" y=\"158.0669\">«depend»</text></a><!--MD5=[16b36eced564e0d6b3407474a0294700]\n",
       "@startuml\r\n",
       "skinparam ranksep 10\r\n",
       "skinparam rectangle {\r\n",
       " backgroundColor<<block>> LightGreen\r\n",
       "}\r\n",
       "skinparam linetype ortho\r\n",
       "skinparam monochrome true\r\n",
       "skinparam classbackgroundcolor white\r\n",
       "skinparam shadowing false\r\n",
       "skinparam wrapWidth 300\r\n",
       "hide circle\r\n",
       "\r\n",
       "package \"DependencyTest\" as E1  [[psysml:eac58141-1d30-4dd4-8de7-f3beae76540f ]]  {\r\n",
       "package \"System\" as E2  [[psysml:13805519-bfbc-4c0f-88c4-787529a25875 ]]  {\r\n",
       "package \"Application Layer\" as E3  [[psysml:5348c3d7-5f8d-4656-8805-8961159c09b6 ]]  {\r\n",
       "}\r\n",
       "package \"Service Layer\" as E4  [[psysml:e92bea40-a3a7-48d4-b6b8-5548cc937669 ]]  {\r\n",
       "}\r\n",
       "package \"Data Layer\" as E5  [[psysml:9210d902-7ba4-4a43-8b80-75376691e6d0 ]]  {\r\n",
       "}\r\n",
       "}\r\n",
       "comp usage \"x\" as E6  <<(T,blue) attribute>> [[psysml:d1a2f8b3-43fe-4bb6-bcd1-ae6c73505f04 ]] {\r\n",
       "}\r\n",
       "comp usage \"y\" as E7  <<(T,blue) attribute>> [[psysml:ad948c0a-adc5-4c23-9b66-20666ae7e933 ]] {\r\n",
       "}\r\n",
       "comp usage \"z\" as E8  <<(T,blue) attribute>> [[psysml:4e191771-f0c3-4f18-930e-d8147bece3b0 ]] {\r\n",
       "}\r\n",
       "}\r\n",
       "E3 ..>> E4 [[psysml:43ea743a-a860-452f-b433-717c56c39b79 ]] : <<depend>>\r\n",
       "E4 ..>> E5 [[psysml:2fd6f227-cfe3-4fe1-af5d-016c5bccfb5b ]] : <<depend>>\r\n",
       "E8 ..>> E6 [[psysml:209e6958-61b2-4a39-8cf0-69b60dbfdefc ]] : <<depend>>\r\n",
       "E8 ..>> E7 [[psysml:209e6958-61b2-4a39-8cf0-69b60dbfdefc ]] : <<depend>>\r\n",
       "@enduml\r\n",
       "\n",
       "PlantUML version 1.2020.13(Sat Jun 13 12:26:38 UTC 2020)\n",
       "(EPL source distribution)\n",
       "Java Runtime: OpenJDK Runtime Environment\n",
       "JVM: OpenJDK 64-Bit Server VM\n",
       "Default Encoding: UTF-8\n",
       "Language: en\n",
       "Country: null\n",
       "--></g></svg>"
      ]
     },
     "execution_count": 54,
     "metadata": {},
     "output_type": "execute_result"
    }
   ],
   "source": [
    "%viz --style=\"ORTHOLINE\" --view=\"Interconnection\" \"DependencyTest\""
   ]
  },
  {
   "cell_type": "code",
   "execution_count": 55,
   "id": "a3048bea",
   "metadata": {
    "execution": {
     "iopub.execute_input": "2021-10-25T08:20:47.733347Z",
     "iopub.status.busy": "2021-10-25T08:20:47.732924Z",
     "iopub.status.idle": "2021-10-25T08:20:47.737970Z",
     "shell.execute_reply": "2021-10-25T08:20:47.737627Z"
    }
   },
   "outputs": [
    {
     "data": {
      "image/svg+xml": [
       "<?xml version=\"1.0\" encoding=\"UTF-8\" standalone=\"no\"?><svg xmlns=\"http://www.w3.org/2000/svg\" xmlns:xlink=\"http://www.w3.org/1999/xlink\" contentScriptType=\"application/ecmascript\" contentStyleType=\"text/css\" height=\"12px\" preserveAspectRatio=\"none\" style=\"width:12px;height:12px;\" version=\"1.1\" viewBox=\"0 0 12 12\" width=\"12px\" zoomAndPan=\"magnify\"><defs/><g><!--MD5=[72934c63077099a26744516a776b4749]\n",
       "@startuml\r\n",
       "skinparam ranksep 8\r\n",
       "skinparam linetype ortho\r\n",
       "skinparam monochrome true\r\n",
       "skinparam classbackgroundcolor white\r\n",
       "skinparam shadowing false\r\n",
       "skinparam wrapWidth 300\r\n",
       "hide circle\r\n",
       "\r\n",
       "@enduml\r\n",
       "\n",
       "PlantUML version 1.2020.13(Sat Jun 13 12:26:38 UTC 2020)\n",
       "(EPL source distribution)\n",
       "Java Runtime: OpenJDK Runtime Environment\n",
       "JVM: OpenJDK 64-Bit Server VM\n",
       "Default Encoding: UTF-8\n",
       "Language: en\n",
       "Country: null\n",
       "--></g></svg>"
      ]
     },
     "execution_count": 55,
     "metadata": {},
     "output_type": "execute_result"
    }
   ],
   "source": [
    "%viz --style=\"ORTHOLINE\" --view=\"Action\" \"DependencyTest\""
   ]
  },
  {
   "cell_type": "code",
   "execution_count": 56,
   "id": "af510ffd",
   "metadata": {
    "execution": {
     "iopub.execute_input": "2021-10-25T08:20:47.787413Z",
     "iopub.status.busy": "2021-10-25T08:20:47.786998Z",
     "iopub.status.idle": "2021-10-25T08:20:47.792230Z",
     "shell.execute_reply": "2021-10-25T08:20:47.791894Z"
    }
   },
   "outputs": [
    {
     "data": {
      "image/svg+xml": [
       "<?xml version=\"1.0\" encoding=\"UTF-8\" standalone=\"no\"?><svg xmlns=\"http://www.w3.org/2000/svg\" xmlns:xlink=\"http://www.w3.org/1999/xlink\" contentScriptType=\"application/ecmascript\" contentStyleType=\"text/css\" height=\"12px\" preserveAspectRatio=\"none\" style=\"width:12px;height:12px;\" version=\"1.1\" viewBox=\"0 0 12 12\" width=\"12px\" zoomAndPan=\"magnify\"><defs/><g><!--MD5=[30fc1de5121c5abddedd55b44417fde8]\n",
       "@startuml\r\n",
       "skinparam roundcorner 20\r\n",
       "skinparam BoxPadding 20\r\n",
       "skinparam SequenceBoxBackgroundColor #white\r\n",
       "skinparam style strictuml\r\n",
       "skinparam maxMessageSize 100\r\n",
       "skinparam linetype ortho\r\n",
       "skinparam monochrome true\r\n",
       "skinparam classbackgroundcolor white\r\n",
       "skinparam shadowing false\r\n",
       "skinparam wrapWidth 300\r\n",
       "hide circle\r\n",
       "\r\n",
       "@enduml\r\n",
       "\n",
       "PlantUML version 1.2020.13(Sat Jun 13 12:26:38 UTC 2020)\n",
       "(EPL source distribution)\n",
       "Java Runtime: OpenJDK Runtime Environment\n",
       "JVM: OpenJDK 64-Bit Server VM\n",
       "Default Encoding: UTF-8\n",
       "Language: en\n",
       "Country: null\n",
       "--></g></svg>"
      ]
     },
     "execution_count": 56,
     "metadata": {},
     "output_type": "execute_result"
    }
   ],
   "source": [
    "%viz --style=\"ORTHOLINE\" --view=\"Sequence\" \"DependencyTest\""
   ]
  },
  {
   "cell_type": "code",
   "execution_count": 57,
   "id": "5818f914",
   "metadata": {
    "execution": {
     "iopub.execute_input": "2021-10-25T08:20:47.841661Z",
     "iopub.status.busy": "2021-10-25T08:20:47.841254Z",
     "iopub.status.idle": "2021-10-25T08:20:47.872848Z",
     "shell.execute_reply": "2021-10-25T08:20:47.871132Z"
    }
   },
   "outputs": [
    {
     "data": {
      "image/svg+xml": [
       "<?xml version=\"1.0\" encoding=\"UTF-8\" standalone=\"no\"?><svg xmlns=\"http://www.w3.org/2000/svg\" xmlns:xlink=\"http://www.w3.org/1999/xlink\" contentScriptType=\"application/ecmascript\" contentStyleType=\"text/css\" height=\"449px\" preserveAspectRatio=\"none\" style=\"width:469px;height:449px;\" version=\"1.1\" viewBox=\"0 0 469 449\" width=\"469px\" zoomAndPan=\"magnify\"><defs/><g><!--MD5=[fbc87193dbaf4d95561dea2c320d4a47]\n",
       "cluster E1--><a href=\"psysml:eac58141-1d30-4dd4-8de7-f3beae76540f\" target=\"_top\" title=\"psysml:eac58141-1d30-4dd4-8de7-f3beae76540f\" xlink:actuate=\"onRequest\" xlink:href=\"psysml:eac58141-1d30-4dd4-8de7-f3beae76540f\" xlink:show=\"new\" xlink:title=\"psysml:eac58141-1d30-4dd4-8de7-f3beae76540f\" xlink:type=\"simple\"><polygon fill=\"#FFFFFF\" points=\"16,6,142,6,149,28.2969,447,28.2969,447,437,16,437,16,6\" style=\"stroke: #000000; stroke-width: 1.5;\"/><line style=\"stroke: #000000; stroke-width: 1.5;\" x1=\"16\" x2=\"149\" y1=\"28.2969\" y2=\"28.2969\"/><text fill=\"#000000\" font-family=\"sans-serif\" font-size=\"14\" font-weight=\"bold\" lengthAdjust=\"spacingAndGlyphs\" textLength=\"120\" x=\"20\" y=\"20.9951\">DependencyTest</text></a><!--MD5=[e4f7fae6ed58524ba242bb0b0d3be6b7]\n",
       "cluster E2--><a href=\"psysml:13805519-bfbc-4c0f-88c4-787529a25875\" target=\"_top\" title=\"psysml:13805519-bfbc-4c0f-88c4-787529a25875\" xlink:actuate=\"onRequest\" xlink:href=\"psysml:13805519-bfbc-4c0f-88c4-787529a25875\" xlink:show=\"new\" xlink:title=\"psysml:13805519-bfbc-4c0f-88c4-787529a25875\" xlink:type=\"simple\"><polygon fill=\"#FFFFFF\" points=\"255,49,312,49,319,71.2969,423,71.2969,423,413,255,413,255,49\" style=\"stroke: #000000; stroke-width: 1.5;\"/><line style=\"stroke: #000000; stroke-width: 1.5;\" x1=\"255\" x2=\"319\" y1=\"71.2969\" y2=\"71.2969\"/><text fill=\"#000000\" font-family=\"sans-serif\" font-size=\"14\" font-weight=\"bold\" lengthAdjust=\"spacingAndGlyphs\" textLength=\"51\" x=\"259\" y=\"63.9951\">System</text></a><!--MD5=[60a26617385b1d2d0262a64233df1f8d]\n",
       "class E6--><a href=\"psysml:d1a2f8b3-43fe-4bb6-bcd1-ae6c73505f04\" target=\"_top\" title=\"psysml:d1a2f8b3-43fe-4bb6-bcd1-ae6c73505f04\" xlink:actuate=\"onRequest\" xlink:href=\"psysml:d1a2f8b3-43fe-4bb6-bcd1-ae6c73505f04\" xlink:show=\"new\" xlink:title=\"psysml:d1a2f8b3-43fe-4bb6-bcd1-ae6c73505f04\" xlink:type=\"simple\"><rect fill=\"#FFFFFF\" height=\"45.9375\" id=\"E6\" rx=\"10\" ry=\"10\" style=\"stroke: #383838; stroke-width: 1.5;\" width=\"71\" x=\"32.5\" y=\"217.5\"/><text fill=\"#000000\" font-family=\"sans-serif\" font-size=\"12\" font-style=\"italic\" lengthAdjust=\"spacingAndGlyphs\" textLength=\"69\" x=\"33.5\" y=\"233.6387\">«attribute»</text><text fill=\"#000000\" font-family=\"sans-serif\" font-size=\"12\" lengthAdjust=\"spacingAndGlyphs\" textLength=\"6\" x=\"65\" y=\"247.6074\">x</text><line style=\"stroke: #383838; stroke-width: 1.5;\" x1=\"33.5\" x2=\"102.5\" y1=\"255.4375\" y2=\"255.4375\"/></a><!--MD5=[2156ba9850f5573cc1fc38a6a4b2f02b]\n",
       "class E7--><a href=\"psysml:ad948c0a-adc5-4c23-9b66-20666ae7e933\" target=\"_top\" title=\"psysml:ad948c0a-adc5-4c23-9b66-20666ae7e933\" xlink:actuate=\"onRequest\" xlink:href=\"psysml:ad948c0a-adc5-4c23-9b66-20666ae7e933\" xlink:show=\"new\" xlink:title=\"psysml:ad948c0a-adc5-4c23-9b66-20666ae7e933\" xlink:type=\"simple\"><rect fill=\"#FFFFFF\" height=\"45.9375\" id=\"E7\" rx=\"10\" ry=\"10\" style=\"stroke: #383838; stroke-width: 1.5;\" width=\"71\" x=\"138.5\" y=\"217.5\"/><text fill=\"#000000\" font-family=\"sans-serif\" font-size=\"12\" font-style=\"italic\" lengthAdjust=\"spacingAndGlyphs\" textLength=\"69\" x=\"139.5\" y=\"233.6387\">«attribute»</text><text fill=\"#000000\" font-family=\"sans-serif\" font-size=\"12\" lengthAdjust=\"spacingAndGlyphs\" textLength=\"6\" x=\"171\" y=\"247.6074\">y</text><line style=\"stroke: #383838; stroke-width: 1.5;\" x1=\"139.5\" x2=\"208.5\" y1=\"255.4375\" y2=\"255.4375\"/></a><!--MD5=[b9389687b975829384b498ac4b7476b2]\n",
       "class E8--><a href=\"psysml:4e191771-f0c3-4f18-930e-d8147bece3b0\" target=\"_top\" title=\"psysml:4e191771-f0c3-4f18-930e-d8147bece3b0\" xlink:actuate=\"onRequest\" xlink:href=\"psysml:4e191771-f0c3-4f18-930e-d8147bece3b0\" xlink:show=\"new\" xlink:title=\"psysml:4e191771-f0c3-4f18-930e-d8147bece3b0\" xlink:type=\"simple\"><rect fill=\"#FFFFFF\" height=\"45.9375\" id=\"E8\" rx=\"10\" ry=\"10\" style=\"stroke: #383838; stroke-width: 1.5;\" width=\"71\" x=\"84.5\" y=\"87.5\"/><text fill=\"#000000\" font-family=\"sans-serif\" font-size=\"12\" font-style=\"italic\" lengthAdjust=\"spacingAndGlyphs\" textLength=\"69\" x=\"85.5\" y=\"103.6387\">«attribute»</text><text fill=\"#000000\" font-family=\"sans-serif\" font-size=\"12\" lengthAdjust=\"spacingAndGlyphs\" textLength=\"5\" x=\"117.5\" y=\"117.6074\">z</text><line style=\"stroke: #383838; stroke-width: 1.5;\" x1=\"85.5\" x2=\"154.5\" y1=\"125.4375\" y2=\"125.4375\"/></a><a href=\"psysml:5348c3d7-5f8d-4656-8805-8961159c09b6\" target=\"_top\" title=\"psysml:5348c3d7-5f8d-4656-8805-8961159c09b6\" xlink:actuate=\"onRequest\" xlink:href=\"psysml:5348c3d7-5f8d-4656-8805-8961159c09b6\" xlink:show=\"new\" xlink:title=\"psysml:5348c3d7-5f8d-4656-8805-8961159c09b6\" xlink:type=\"simple\"><polygon fill=\"#FFFFFF\" points=\"271.5,84,392.5,84,399.5,106.2969,406.5,106.2969,406.5,136.5938,271.5,136.5938,271.5,84\" style=\"stroke: #000000; stroke-width: 1.5;\"/><line style=\"stroke: #000000; stroke-width: 1.5;\" x1=\"271.5\" x2=\"399.5\" y1=\"106.2969\" y2=\"106.2969\"/><text fill=\"#000000\" font-family=\"sans-serif\" font-size=\"14\" font-weight=\"bold\" lengthAdjust=\"spacingAndGlyphs\" textLength=\"115\" x=\"275.5\" y=\"98.9951\">Application Layer</text></a><a href=\"psysml:e92bea40-a3a7-48d4-b6b8-5548cc937669\" target=\"_top\" title=\"psysml:e92bea40-a3a7-48d4-b6b8-5548cc937669\" xlink:actuate=\"onRequest\" xlink:href=\"psysml:e92bea40-a3a7-48d4-b6b8-5548cc937669\" xlink:show=\"new\" xlink:title=\"psysml:e92bea40-a3a7-48d4-b6b8-5548cc937669\" xlink:type=\"simple\"><polygon fill=\"#FFFFFF\" points=\"284,214,380,214,387,236.2969,394,236.2969,394,266.5938,284,266.5938,284,214\" style=\"stroke: #000000; stroke-width: 1.5;\"/><line style=\"stroke: #000000; stroke-width: 1.5;\" x1=\"284\" x2=\"387\" y1=\"236.2969\" y2=\"236.2969\"/><text fill=\"#000000\" font-family=\"sans-serif\" font-size=\"14\" font-weight=\"bold\" lengthAdjust=\"spacingAndGlyphs\" textLength=\"90\" x=\"288\" y=\"228.9951\">Service Layer</text></a><a href=\"psysml:9210d902-7ba4-4a43-8b80-75376691e6d0\" target=\"_top\" title=\"psysml:9210d902-7ba4-4a43-8b80-75376691e6d0\" xlink:actuate=\"onRequest\" xlink:href=\"psysml:9210d902-7ba4-4a43-8b80-75376691e6d0\" xlink:show=\"new\" xlink:title=\"psysml:9210d902-7ba4-4a43-8b80-75376691e6d0\" xlink:type=\"simple\"><polygon fill=\"#FFFFFF\" points=\"293,344,371,344,378,366.2969,385,366.2969,385,396.5938,293,396.5938,293,344\" style=\"stroke: #000000; stroke-width: 1.5;\"/><line style=\"stroke: #000000; stroke-width: 1.5;\" x1=\"293\" x2=\"378\" y1=\"366.2969\" y2=\"366.2969\"/><text fill=\"#000000\" font-family=\"sans-serif\" font-size=\"14\" font-weight=\"bold\" lengthAdjust=\"spacingAndGlyphs\" textLength=\"72\" x=\"297\" y=\"358.9951\">Data Layer</text></a><!--MD5=[af87c684e3b0d8be13c1a698a818ef1e]\n",
       "link E3 to E4--><a href=\"psysml:43ea743a-a860-452f-b433-717c56c39b79\" target=\"_top\" title=\"psysml:43ea743a-a860-452f-b433-717c56c39b79\" xlink:actuate=\"onRequest\" xlink:href=\"psysml:43ea743a-a860-452f-b433-717c56c39b79\" xlink:show=\"new\" xlink:title=\"psysml:43ea743a-a860-452f-b433-717c56c39b79\" xlink:type=\"simple\"><path d=\"M339,137.12 C339,137.12 339,205.91 339,205.91 \" fill=\"none\" id=\"E3-&gt;E4\" style=\"stroke: #383838; stroke-width: 1.0; stroke-dasharray: 7.0,7.0;\"/><polygon fill=\"#383838\" points=\"339,213.91,342,205.91,336,205.91,339,213.91\" style=\"stroke: #383838; stroke-width: 1.0;\"/><text fill=\"#000000\" font-family=\"sans-serif\" font-size=\"13\" lengthAdjust=\"spacingAndGlyphs\" textLength=\"64\" x=\"340\" y=\"180.0669\">«depend»</text></a><!--MD5=[1b7591eae5389033d8d09a9d6721a717]\n",
       "link E4 to E5--><a href=\"psysml:2fd6f227-cfe3-4fe1-af5d-016c5bccfb5b\" target=\"_top\" title=\"psysml:2fd6f227-cfe3-4fe1-af5d-016c5bccfb5b\" xlink:actuate=\"onRequest\" xlink:href=\"psysml:2fd6f227-cfe3-4fe1-af5d-016c5bccfb5b\" xlink:show=\"new\" xlink:title=\"psysml:2fd6f227-cfe3-4fe1-af5d-016c5bccfb5b\" xlink:type=\"simple\"><path d=\"M339,267.12 C339,267.12 339,335.91 339,335.91 \" fill=\"none\" id=\"E4-&gt;E5\" style=\"stroke: #383838; stroke-width: 1.0; stroke-dasharray: 7.0,7.0;\"/><polygon fill=\"#383838\" points=\"339,343.91,342,335.91,336,335.91,339,343.91\" style=\"stroke: #383838; stroke-width: 1.0;\"/><text fill=\"#000000\" font-family=\"sans-serif\" font-size=\"13\" lengthAdjust=\"spacingAndGlyphs\" textLength=\"64\" x=\"340\" y=\"310.0669\">«depend»</text></a><!--MD5=[c5e8897d989ce984f93528998a7150fe]\n",
       "link E8 to E6--><a href=\"psysml:209e6958-61b2-4a39-8cf0-69b60dbfdefc\" target=\"_top\" title=\"psysml:209e6958-61b2-4a39-8cf0-69b60dbfdefc\" xlink:actuate=\"onRequest\" xlink:href=\"psysml:209e6958-61b2-4a39-8cf0-69b60dbfdefc\" xlink:show=\"new\" xlink:title=\"psysml:209e6958-61b2-4a39-8cf0-69b60dbfdefc\" xlink:type=\"simple\"><path d=\"M94,133.74 C94,133.74 94,209.46 94,209.46 \" fill=\"none\" id=\"E8-&gt;E6\" style=\"stroke: #383838; stroke-width: 1.0; stroke-dasharray: 7.0,7.0;\"/><polygon fill=\"#383838\" points=\"94,217.46,97,209.46,91,209.46,94,217.46\" style=\"stroke: #383838; stroke-width: 1.0;\"/><text fill=\"#000000\" font-family=\"sans-serif\" font-size=\"13\" lengthAdjust=\"spacingAndGlyphs\" textLength=\"64\" x=\"68\" y=\"180.0669\">«depend»</text></a><!--MD5=[bfa3c8b0d15052fdf50ae9310b491027]\n",
       "link E8 to E7--><a href=\"psysml:209e6958-61b2-4a39-8cf0-69b60dbfdefc\" target=\"_top\" title=\"psysml:209e6958-61b2-4a39-8cf0-69b60dbfdefc\" xlink:actuate=\"onRequest\" xlink:href=\"psysml:209e6958-61b2-4a39-8cf0-69b60dbfdefc\" xlink:show=\"new\" xlink:title=\"psysml:209e6958-61b2-4a39-8cf0-69b60dbfdefc\" xlink:type=\"simple\"><path d=\"M147,133.74 C147,133.74 147,209.46 147,209.46 \" fill=\"none\" id=\"E8-&gt;E7\" style=\"stroke: #383838; stroke-width: 1.0; stroke-dasharray: 7.0,7.0;\"/><polygon fill=\"#383838\" points=\"147,217.46,150,209.46,144,209.46,147,217.46\" style=\"stroke: #383838; stroke-width: 1.0;\"/><text fill=\"#000000\" font-family=\"sans-serif\" font-size=\"13\" lengthAdjust=\"spacingAndGlyphs\" textLength=\"64\" x=\"174\" y=\"180.0669\">«depend»</text></a><!--MD5=[61c8247d224ac3767aa4f2da44f1461a]\n",
       "@startuml\r\n",
       "skinparam linetype ortho\r\n",
       "skinparam monochrome true\r\n",
       "skinparam classbackgroundcolor white\r\n",
       "skinparam shadowing false\r\n",
       "skinparam wrapWidth 300\r\n",
       "hide circle\r\n",
       "\r\n",
       "package \"DependencyTest\" as E1  [[psysml:eac58141-1d30-4dd4-8de7-f3beae76540f ]]  {\r\n",
       "package \"System\" as E2  [[psysml:13805519-bfbc-4c0f-88c4-787529a25875 ]]  {\r\n",
       "package \"Application Layer\" as E3  [[psysml:5348c3d7-5f8d-4656-8805-8961159c09b6 ]]  {\r\n",
       "}\r\n",
       "package \"Service Layer\" as E4  [[psysml:e92bea40-a3a7-48d4-b6b8-5548cc937669 ]]  {\r\n",
       "}\r\n",
       "package \"Data Layer\" as E5  [[psysml:9210d902-7ba4-4a43-8b80-75376691e6d0 ]]  {\r\n",
       "}\r\n",
       "}\r\n",
       "comp usage \"x\" as E6  <<(T,blue) attribute>> [[psysml:d1a2f8b3-43fe-4bb6-bcd1-ae6c73505f04 ]] {\r\n",
       "}\r\n",
       "comp usage \"y\" as E7  <<(T,blue) attribute>> [[psysml:ad948c0a-adc5-4c23-9b66-20666ae7e933 ]] {\r\n",
       "}\r\n",
       "comp usage \"z\" as E8  <<(T,blue) attribute>> [[psysml:4e191771-f0c3-4f18-930e-d8147bece3b0 ]] {\r\n",
       "}\r\n",
       "}\r\n",
       "E3 ..>> E4 [[psysml:43ea743a-a860-452f-b433-717c56c39b79 ]] : <<depend>>\r\n",
       "E4 ..>> E5 [[psysml:2fd6f227-cfe3-4fe1-af5d-016c5bccfb5b ]] : <<depend>>\r\n",
       "E8 ..>> E6 [[psysml:209e6958-61b2-4a39-8cf0-69b60dbfdefc ]] : <<depend>>\r\n",
       "E8 ..>> E7 [[psysml:209e6958-61b2-4a39-8cf0-69b60dbfdefc ]] : <<depend>>\r\n",
       "@enduml\r\n",
       "\n",
       "PlantUML version 1.2020.13(Sat Jun 13 12:26:38 UTC 2020)\n",
       "(EPL source distribution)\n",
       "Java Runtime: OpenJDK Runtime Environment\n",
       "JVM: OpenJDK 64-Bit Server VM\n",
       "Default Encoding: UTF-8\n",
       "Language: en\n",
       "Country: null\n",
       "--></g></svg>"
      ]
     },
     "execution_count": 57,
     "metadata": {},
     "output_type": "execute_result"
    }
   ],
   "source": [
    "%viz --style=\"ORTHOLINE\" --view=\"MIXED\" \"DependencyTest\""
   ]
  }
 ],
 "metadata": {
  "kernelspec": {
   "display_name": "SysML",
   "language": "sysml",
   "name": "sysml"
  },
  "language_info": {
   "codemirror_mode": "sysml",
   "file_extension": ".sysml",
   "mimetype": "text/x-sysml",
   "name": "SysML",
   "pygments_lexer": "java",
   "version": "1.0.0"
  }
 },
 "nbformat": 4,
 "nbformat_minor": 5
}
