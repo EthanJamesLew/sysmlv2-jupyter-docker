{
 "cells": [
  {
   "cell_type": "markdown",
   "id": "b49fcd99",
   "metadata": {},
   "source": [
    "# SysML v2 Test Suite\n",
    "\n",
    "This can notebook can be cleared using menu `Edit --> Clear All Outputs` and then all cells can be\n",
    "run using menu `Run --> Run All Cells`.\n",
    "\n",
    "**WARNING**: This file is generated, all modifications here will be ignored.\n"
   ]
  },
  {
   "cell_type": "markdown",
   "id": "34fa2445",
   "metadata": {},
   "source": [
    "## File: ../../sysml/src/examples/Simple Tests/DependencyTest.sysml"
   ]
  },
  {
   "cell_type": "code",
   "execution_count": 1,
   "id": "da202fec",
   "metadata": {
    "execution": {
     "iopub.execute_input": "2021-05-27T06:11:44.978905Z",
     "iopub.status.busy": "2021-05-27T06:11:44.978017Z",
     "iopub.status.idle": "2021-05-27T06:11:45.047165Z",
     "shell.execute_reply": "2021-05-27T06:11:45.046701Z"
    }
   },
   "outputs": [
    {
     "data": {
      "text/plain": [
       "Package DependencyTest (eeefc143-40f2-4c9c-a6ba-1222031d9014)\n"
      ]
     },
     "execution_count": 1,
     "metadata": {},
     "output_type": "execute_result"
    }
   ],
   "source": [
    "package DependencyTest {\n",
    "\t\n",
    "\tpackage System {\n",
    "\t\tpackage 'Application Layer';\n",
    "\t\tpackage 'Service Layer';\n",
    "\t\tpackage 'Data Layer';\n",
    "\t}\n",
    "\t\n",
    "\timport System::*;\n",
    "\t\n",
    "\tdependency Use from 'Application Layer' to 'Service Layer';\n",
    "\tdependency from 'Service Layer' to 'Data Layer';\n",
    "\t\n",
    "\tattribute x;\n",
    "\tattribute y;\n",
    "\tattribute z;\n",
    "\t\n",
    "\tdependency z to x, y;\n",
    "\t\n",
    "}"
   ]
  },
  {
   "cell_type": "code",
   "execution_count": 2,
   "id": "768bc783",
   "metadata": {
    "execution": {
     "iopub.execute_input": "2021-05-27T06:11:45.099109Z",
     "iopub.status.busy": "2021-05-27T06:11:45.098708Z",
     "iopub.status.idle": "2021-05-27T06:11:45.676170Z",
     "shell.execute_reply": "2021-05-27T06:11:45.674774Z"
    }
   },
   "outputs": [
    {
     "data": {
      "image/svg+xml": [
       "<?xml version=\"1.0\" encoding=\"UTF-8\" standalone=\"no\"?><svg xmlns=\"http://www.w3.org/2000/svg\" xmlns:xlink=\"http://www.w3.org/1999/xlink\" contentScriptType=\"application/ecmascript\" contentStyleType=\"text/css\" height=\"449px\" preserveAspectRatio=\"none\" style=\"width:489px;height:449px;\" version=\"1.1\" viewBox=\"0 0 489 449\" width=\"489px\" zoomAndPan=\"magnify\"><defs/><g><!--MD5=[fbc87193dbaf4d95561dea2c320d4a47]\n",
       "cluster E1--><a href=\"psysml:f9a8e327-3c68-43cc-8fc4-f0fda4441472\" target=\"_top\" title=\"psysml:f9a8e327-3c68-43cc-8fc4-f0fda4441472\" xlink:actuate=\"onRequest\" xlink:href=\"psysml:f9a8e327-3c68-43cc-8fc4-f0fda4441472\" xlink:show=\"new\" xlink:title=\"psysml:f9a8e327-3c68-43cc-8fc4-f0fda4441472\" xlink:type=\"simple\"><polygon fill=\"#FFFFFF\" points=\"16,6,156,6,163,28.2969,467,28.2969,467,437,16,437,16,6\" style=\"stroke: #000000; stroke-width: 1.5;\"/><line style=\"stroke: #000000; stroke-width: 1.5;\" x1=\"16\" x2=\"163\" y1=\"28.2969\" y2=\"28.2969\"/><text fill=\"#000000\" font-family=\"sans-serif\" font-size=\"14\" font-weight=\"bold\" lengthAdjust=\"spacingAndGlyphs\" textLength=\"134\" x=\"20\" y=\"20.9951\">DependencyTest</text></a><!--MD5=[e4f7fae6ed58524ba242bb0b0d3be6b7]\n",
       "cluster E2--><a href=\"psysml:5e0f80f7-1058-4b47-9f4f-e59769b1dff5\" target=\"_top\" title=\"psysml:5e0f80f7-1058-4b47-9f4f-e59769b1dff5\" xlink:actuate=\"onRequest\" xlink:href=\"psysml:5e0f80f7-1058-4b47-9f4f-e59769b1dff5\" xlink:show=\"new\" xlink:title=\"psysml:5e0f80f7-1058-4b47-9f4f-e59769b1dff5\" xlink:type=\"simple\"><polygon fill=\"#FFFFFF\" points=\"255,49,319,49,326,71.2969,443,71.2969,443,413,255,413,255,49\" style=\"stroke: #000000; stroke-width: 1.5;\"/><line style=\"stroke: #000000; stroke-width: 1.5;\" x1=\"255\" x2=\"326\" y1=\"71.2969\" y2=\"71.2969\"/><text fill=\"#000000\" font-family=\"sans-serif\" font-size=\"14\" font-weight=\"bold\" lengthAdjust=\"spacingAndGlyphs\" textLength=\"58\" x=\"259\" y=\"63.9951\">System</text></a><!--MD5=[60a26617385b1d2d0262a64233df1f8d]\n",
       "class E6--><a href=\"psysml:52169dc2-f588-4d36-bb4d-934125a8defa\" target=\"_top\" title=\"psysml:52169dc2-f588-4d36-bb4d-934125a8defa\" xlink:actuate=\"onRequest\" xlink:href=\"psysml:52169dc2-f588-4d36-bb4d-934125a8defa\" xlink:show=\"new\" xlink:title=\"psysml:52169dc2-f588-4d36-bb4d-934125a8defa\" xlink:type=\"simple\"><rect fill=\"#FFFFFF\" height=\"45.9375\" id=\"E6\" rx=\"10\" ry=\"10\" style=\"stroke: #383838; stroke-width: 1.5;\" width=\"71\" x=\"32.5\" y=\"217.5\"/><text fill=\"#000000\" font-family=\"sans-serif\" font-size=\"12\" font-style=\"italic\" lengthAdjust=\"spacingAndGlyphs\" textLength=\"69\" x=\"33.5\" y=\"233.6387\">«attribute»</text><text fill=\"#000000\" font-family=\"sans-serif\" font-size=\"12\" lengthAdjust=\"spacingAndGlyphs\" textLength=\"6\" x=\"65\" y=\"247.6074\">x</text><line style=\"stroke: #383838; stroke-width: 1.5;\" x1=\"33.5\" x2=\"102.5\" y1=\"255.4375\" y2=\"255.4375\"/></a><!--MD5=[2156ba9850f5573cc1fc38a6a4b2f02b]\n",
       "class E7--><a href=\"psysml:638ee95e-a488-4c6b-8aa7-581f6cf4c2fe\" target=\"_top\" title=\"psysml:638ee95e-a488-4c6b-8aa7-581f6cf4c2fe\" xlink:actuate=\"onRequest\" xlink:href=\"psysml:638ee95e-a488-4c6b-8aa7-581f6cf4c2fe\" xlink:show=\"new\" xlink:title=\"psysml:638ee95e-a488-4c6b-8aa7-581f6cf4c2fe\" xlink:type=\"simple\"><rect fill=\"#FFFFFF\" height=\"45.9375\" id=\"E7\" rx=\"10\" ry=\"10\" style=\"stroke: #383838; stroke-width: 1.5;\" width=\"71\" x=\"138.5\" y=\"217.5\"/><text fill=\"#000000\" font-family=\"sans-serif\" font-size=\"12\" font-style=\"italic\" lengthAdjust=\"spacingAndGlyphs\" textLength=\"69\" x=\"139.5\" y=\"233.6387\">«attribute»</text><text fill=\"#000000\" font-family=\"sans-serif\" font-size=\"12\" lengthAdjust=\"spacingAndGlyphs\" textLength=\"6\" x=\"171\" y=\"247.6074\">y</text><line style=\"stroke: #383838; stroke-width: 1.5;\" x1=\"139.5\" x2=\"208.5\" y1=\"255.4375\" y2=\"255.4375\"/></a><!--MD5=[b9389687b975829384b498ac4b7476b2]\n",
       "class E8--><a href=\"psysml:267f67df-ceab-4f9b-9288-379f8b6d76cc\" target=\"_top\" title=\"psysml:267f67df-ceab-4f9b-9288-379f8b6d76cc\" xlink:actuate=\"onRequest\" xlink:href=\"psysml:267f67df-ceab-4f9b-9288-379f8b6d76cc\" xlink:show=\"new\" xlink:title=\"psysml:267f67df-ceab-4f9b-9288-379f8b6d76cc\" xlink:type=\"simple\"><rect fill=\"#FFFFFF\" height=\"45.9375\" id=\"E8\" rx=\"10\" ry=\"10\" style=\"stroke: #383838; stroke-width: 1.5;\" width=\"71\" x=\"84.5\" y=\"87.5\"/><text fill=\"#000000\" font-family=\"sans-serif\" font-size=\"12\" font-style=\"italic\" lengthAdjust=\"spacingAndGlyphs\" textLength=\"69\" x=\"85.5\" y=\"103.6387\">«attribute»</text><text fill=\"#000000\" font-family=\"sans-serif\" font-size=\"12\" lengthAdjust=\"spacingAndGlyphs\" textLength=\"5\" x=\"117.5\" y=\"117.6074\">z</text><line style=\"stroke: #383838; stroke-width: 1.5;\" x1=\"85.5\" x2=\"154.5\" y1=\"125.4375\" y2=\"125.4375\"/></a><a href=\"psysml:d7cd1111-165d-4c09-9c1d-1c6e69d6b628\" target=\"_top\" title=\"psysml:d7cd1111-165d-4c09-9c1d-1c6e69d6b628\" xlink:actuate=\"onRequest\" xlink:href=\"psysml:d7cd1111-165d-4c09-9c1d-1c6e69d6b628\" xlink:show=\"new\" xlink:title=\"psysml:d7cd1111-165d-4c09-9c1d-1c6e69d6b628\" xlink:type=\"simple\"><polygon fill=\"#FFFFFF\" points=\"271,84,413,84,420,106.2969,427,106.2969,427,136.5938,271,136.5938,271,84\" style=\"stroke: #000000; stroke-width: 1.5;\"/><line style=\"stroke: #000000; stroke-width: 1.5;\" x1=\"271\" x2=\"420\" y1=\"106.2969\" y2=\"106.2969\"/><text fill=\"#000000\" font-family=\"sans-serif\" font-size=\"14\" font-weight=\"bold\" lengthAdjust=\"spacingAndGlyphs\" textLength=\"136\" x=\"275\" y=\"98.9951\">Application Layer</text></a><a href=\"psysml:4fd532ef-c056-48ed-b57e-c34d41c7d9b0\" target=\"_top\" title=\"psysml:4fd532ef-c056-48ed-b57e-c34d41c7d9b0\" xlink:actuate=\"onRequest\" xlink:href=\"psysml:4fd532ef-c056-48ed-b57e-c34d41c7d9b0\" xlink:show=\"new\" xlink:title=\"psysml:4fd532ef-c056-48ed-b57e-c34d41c7d9b0\" xlink:type=\"simple\"><polygon fill=\"#FFFFFF\" points=\"285,214,399,214,406,236.2969,413,236.2969,413,266.5938,285,266.5938,285,214\" style=\"stroke: #000000; stroke-width: 1.5;\"/><line style=\"stroke: #000000; stroke-width: 1.5;\" x1=\"285\" x2=\"406\" y1=\"236.2969\" y2=\"236.2969\"/><text fill=\"#000000\" font-family=\"sans-serif\" font-size=\"14\" font-weight=\"bold\" lengthAdjust=\"spacingAndGlyphs\" textLength=\"108\" x=\"289\" y=\"228.9951\">Service Layer</text></a><a href=\"psysml:f10bbfff-f917-435f-bbe7-eedf9b14a34c\" target=\"_top\" title=\"psysml:f10bbfff-f917-435f-bbe7-eedf9b14a34c\" xlink:actuate=\"onRequest\" xlink:href=\"psysml:f10bbfff-f917-435f-bbe7-eedf9b14a34c\" xlink:show=\"new\" xlink:title=\"psysml:f10bbfff-f917-435f-bbe7-eedf9b14a34c\" xlink:type=\"simple\"><polygon fill=\"#FFFFFF\" points=\"297,344,387,344,394,366.2969,401,366.2969,401,396.5938,297,396.5938,297,344\" style=\"stroke: #000000; stroke-width: 1.5;\"/><line style=\"stroke: #000000; stroke-width: 1.5;\" x1=\"297\" x2=\"394\" y1=\"366.2969\" y2=\"366.2969\"/><text fill=\"#000000\" font-family=\"sans-serif\" font-size=\"14\" font-weight=\"bold\" lengthAdjust=\"spacingAndGlyphs\" textLength=\"84\" x=\"301\" y=\"358.9951\">Data Layer</text></a><!--MD5=[af87c684e3b0d8be13c1a698a818ef1e]\n",
       "link E3 to E4--><a href=\"psysml:d6fef634-817c-4ef1-96de-f37bb594aaea\" target=\"_top\" title=\"psysml:d6fef634-817c-4ef1-96de-f37bb594aaea\" xlink:actuate=\"onRequest\" xlink:href=\"psysml:d6fef634-817c-4ef1-96de-f37bb594aaea\" xlink:show=\"new\" xlink:title=\"psysml:d6fef634-817c-4ef1-96de-f37bb594aaea\" xlink:type=\"simple\"><path d=\"M349,137.1 C349,156.8 349,184.22 349,205.73 \" fill=\"none\" id=\"E3-&gt;E4\" style=\"stroke: #383838; stroke-width: 1.0; stroke-dasharray: 7.0,7.0;\"/><polygon fill=\"#383838\" points=\"349,213.95,352,205.95,346,205.95,349,213.95\" style=\"stroke: #383838; stroke-width: 1.0;\"/><text fill=\"#000000\" font-family=\"sans-serif\" font-size=\"13\" lengthAdjust=\"spacingAndGlyphs\" textLength=\"64\" x=\"350\" y=\"180.0669\">«depend»</text></a><!--MD5=[1b7591eae5389033d8d09a9d6721a717]\n",
       "link E4 to E5--><a href=\"psysml:d4b689e0-de38-42ab-a0b3-2a8bf82e0669\" target=\"_top\" title=\"psysml:d4b689e0-de38-42ab-a0b3-2a8bf82e0669\" xlink:actuate=\"onRequest\" xlink:href=\"psysml:d4b689e0-de38-42ab-a0b3-2a8bf82e0669\" xlink:show=\"new\" xlink:title=\"psysml:d4b689e0-de38-42ab-a0b3-2a8bf82e0669\" xlink:type=\"simple\"><path d=\"M349,267.1 C349,286.8 349,314.22 349,335.73 \" fill=\"none\" id=\"E4-&gt;E5\" style=\"stroke: #383838; stroke-width: 1.0; stroke-dasharray: 7.0,7.0;\"/><polygon fill=\"#383838\" points=\"349,343.95,352,335.95,346,335.95,349,343.95\" style=\"stroke: #383838; stroke-width: 1.0;\"/><text fill=\"#000000\" font-family=\"sans-serif\" font-size=\"13\" lengthAdjust=\"spacingAndGlyphs\" textLength=\"64\" x=\"350\" y=\"310.0669\">«depend»</text></a><!--MD5=[c5e8897d989ce984f93528998a7150fe]\n",
       "link E8 to E6--><a href=\"psysml:c74e1bf4-ee72-40a7-b163-07732e38ed67\" target=\"_top\" title=\"psysml:c74e1bf4-ee72-40a7-b163-07732e38ed67\" xlink:actuate=\"onRequest\" xlink:href=\"psysml:c74e1bf4-ee72-40a7-b163-07732e38ed67\" xlink:show=\"new\" xlink:title=\"psysml:c74e1bf4-ee72-40a7-b163-07732e38ed67\" xlink:type=\"simple\"><path d=\"M89.42,133.6 C79.35,142.68 69.37,154.11 64,167 C58.5,180.2 58.66,195.94 60.54,209.38 \" fill=\"none\" id=\"E8-&gt;E6\" style=\"stroke: #383838; stroke-width: 1.0; stroke-dasharray: 7.0,7.0;\"/><polygon fill=\"#383838\" points=\"61.9,217.4,63.517,209.0104,57.6018,210.0159,61.9,217.4\" style=\"stroke: #383838; stroke-width: 1.0;\"/><text fill=\"#000000\" font-family=\"sans-serif\" font-size=\"13\" lengthAdjust=\"spacingAndGlyphs\" textLength=\"64\" x=\"65\" y=\"180.0669\">«depend»</text></a><!--MD5=[bfa3c8b0d15052fdf50ae9310b491027]\n",
       "link E8 to E7--><a href=\"psysml:c74e1bf4-ee72-40a7-b163-07732e38ed67\" target=\"_top\" title=\"psysml:c74e1bf4-ee72-40a7-b163-07732e38ed67\" xlink:actuate=\"onRequest\" xlink:href=\"psysml:c74e1bf4-ee72-40a7-b163-07732e38ed67\" xlink:show=\"new\" xlink:title=\"psysml:c74e1bf4-ee72-40a7-b163-07732e38ed67\" xlink:type=\"simple\"><path d=\"M129.28,133.5 C138.17,154.57 151.64,186.5 161.47,209.81 \" fill=\"none\" id=\"E8-&gt;E7\" style=\"stroke: #383838; stroke-width: 1.0; stroke-dasharray: 7.0,7.0;\"/><polygon fill=\"#383838\" points=\"164.66,217.35,164.3241,208.8126,158.7933,211.1385,164.66,217.35\" style=\"stroke: #383838; stroke-width: 1.0;\"/><text fill=\"#000000\" font-family=\"sans-serif\" font-size=\"13\" lengthAdjust=\"spacingAndGlyphs\" textLength=\"64\" x=\"151\" y=\"180.0669\">«depend»</text></a><!--MD5=[2b42853ec520351b77f32cabd86a92f6]\n",
       "@startuml\r\n",
       " skinparam monochrome true\r\n",
       "skinparam classbackgroundcolor white\r\n",
       "skinparam shadowing false\r\n",
       "skinparam wrapWidth 300\r\n",
       "hide circle\r\n",
       "\r\n",
       "package \"DependencyTest\" as E1  [[psysml:f9a8e327-3c68-43cc-8fc4-f0fda4441472 ]]  {\r\n",
       "package \"System\" as E2  [[psysml:5e0f80f7-1058-4b47-9f4f-e59769b1dff5 ]]  {\r\n",
       "package \"Application Layer\" as E3  [[psysml:d7cd1111-165d-4c09-9c1d-1c6e69d6b628 ]]  {\r\n",
       "}\r\n",
       "package \"Service Layer\" as E4  [[psysml:4fd532ef-c056-48ed-b57e-c34d41c7d9b0 ]]  {\r\n",
       "}\r\n",
       "package \"Data Layer\" as E5  [[psysml:f10bbfff-f917-435f-bbe7-eedf9b14a34c ]]  {\r\n",
       "}\r\n",
       "}\r\n",
       "comp usage \"x\" as E6  <<(T,blue)attribute>> [[psysml:52169dc2-f588-4d36-bb4d-934125a8defa ]] {\r\n",
       "}\r\n",
       "comp usage \"y\" as E7  <<(T,blue)attribute>> [[psysml:638ee95e-a488-4c6b-8aa7-581f6cf4c2fe ]] {\r\n",
       "}\r\n",
       "comp usage \"z\" as E8  <<(T,blue)attribute>> [[psysml:267f67df-ceab-4f9b-9288-379f8b6d76cc ]] {\r\n",
       "}\r\n",
       "E3 ..>> E4 [[psysml:d6fef634-817c-4ef1-96de-f37bb594aaea ]] : <<depend>>\r\n",
       "E4 ..>> E5 [[psysml:d4b689e0-de38-42ab-a0b3-2a8bf82e0669 ]] : <<depend>>\r\n",
       "E8 ..>> E6 [[psysml:c74e1bf4-ee72-40a7-b163-07732e38ed67 ]] : <<depend>>\r\n",
       "E8 ..>> E7 [[psysml:c74e1bf4-ee72-40a7-b163-07732e38ed67 ]] : <<depend>>\r\n",
       "}\r\n",
       "@enduml\r\n",
       "\n",
       "PlantUML version 1.2020.13(Sat Jun 13 12:26:38 UTC 2020)\n",
       "(EPL source distribution)\n",
       "Java Runtime: OpenJDK Runtime Environment\n",
       "JVM: OpenJDK 64-Bit Server VM\n",
       "Default Encoding: UTF-8\n",
       "Language: en\n",
       "Country: null\n",
       "--></g></svg>"
      ]
     },
     "execution_count": 2,
     "metadata": {},
     "output_type": "execute_result"
    }
   ],
   "source": [
    "%viz --style=\"COMPTREE\" --view=\"Default\" \"DependencyTest\""
   ]
  },
  {
   "cell_type": "code",
   "execution_count": 3,
   "id": "a148b14f",
   "metadata": {
    "execution": {
     "iopub.execute_input": "2021-05-27T06:11:45.731405Z",
     "iopub.status.busy": "2021-05-27T06:11:45.731035Z",
     "iopub.status.idle": "2021-05-27T06:11:45.789402Z",
     "shell.execute_reply": "2021-05-27T06:11:45.788352Z"
    }
   },
   "outputs": [
    {
     "data": {
      "image/svg+xml": [
       "<?xml version=\"1.0\" encoding=\"UTF-8\" standalone=\"no\"?><svg xmlns=\"http://www.w3.org/2000/svg\" xmlns:xlink=\"http://www.w3.org/1999/xlink\" contentScriptType=\"application/ecmascript\" contentStyleType=\"text/css\" height=\"449px\" preserveAspectRatio=\"none\" style=\"width:489px;height:449px;\" version=\"1.1\" viewBox=\"0 0 489 449\" width=\"489px\" zoomAndPan=\"magnify\"><defs/><g><!--MD5=[fbc87193dbaf4d95561dea2c320d4a47]\n",
       "cluster E1--><a href=\"psysml:f9a8e327-3c68-43cc-8fc4-f0fda4441472\" target=\"_top\" title=\"psysml:f9a8e327-3c68-43cc-8fc4-f0fda4441472\" xlink:actuate=\"onRequest\" xlink:href=\"psysml:f9a8e327-3c68-43cc-8fc4-f0fda4441472\" xlink:show=\"new\" xlink:title=\"psysml:f9a8e327-3c68-43cc-8fc4-f0fda4441472\" xlink:type=\"simple\"><polygon fill=\"#FFFFFF\" points=\"16,6,156,6,163,28.2969,467,28.2969,467,437,16,437,16,6\" style=\"stroke: #000000; stroke-width: 1.5;\"/><line style=\"stroke: #000000; stroke-width: 1.5;\" x1=\"16\" x2=\"163\" y1=\"28.2969\" y2=\"28.2969\"/><text fill=\"#000000\" font-family=\"sans-serif\" font-size=\"14\" font-weight=\"bold\" lengthAdjust=\"spacingAndGlyphs\" textLength=\"134\" x=\"20\" y=\"20.9951\">DependencyTest</text></a><!--MD5=[e4f7fae6ed58524ba242bb0b0d3be6b7]\n",
       "cluster E2--><a href=\"psysml:5e0f80f7-1058-4b47-9f4f-e59769b1dff5\" target=\"_top\" title=\"psysml:5e0f80f7-1058-4b47-9f4f-e59769b1dff5\" xlink:actuate=\"onRequest\" xlink:href=\"psysml:5e0f80f7-1058-4b47-9f4f-e59769b1dff5\" xlink:show=\"new\" xlink:title=\"psysml:5e0f80f7-1058-4b47-9f4f-e59769b1dff5\" xlink:type=\"simple\"><polygon fill=\"#FFFFFF\" points=\"255,49,319,49,326,71.2969,443,71.2969,443,413,255,413,255,49\" style=\"stroke: #000000; stroke-width: 1.5;\"/><line style=\"stroke: #000000; stroke-width: 1.5;\" x1=\"255\" x2=\"326\" y1=\"71.2969\" y2=\"71.2969\"/><text fill=\"#000000\" font-family=\"sans-serif\" font-size=\"14\" font-weight=\"bold\" lengthAdjust=\"spacingAndGlyphs\" textLength=\"58\" x=\"259\" y=\"63.9951\">System</text></a><!--MD5=[60a26617385b1d2d0262a64233df1f8d]\n",
       "class E6--><a href=\"psysml:52169dc2-f588-4d36-bb4d-934125a8defa\" target=\"_top\" title=\"psysml:52169dc2-f588-4d36-bb4d-934125a8defa\" xlink:actuate=\"onRequest\" xlink:href=\"psysml:52169dc2-f588-4d36-bb4d-934125a8defa\" xlink:show=\"new\" xlink:title=\"psysml:52169dc2-f588-4d36-bb4d-934125a8defa\" xlink:type=\"simple\"><rect fill=\"#FFFFFF\" height=\"45.9375\" id=\"E6\" rx=\"10\" ry=\"10\" style=\"stroke: #383838; stroke-width: 1.5;\" width=\"71\" x=\"32.5\" y=\"217.5\"/><text fill=\"#000000\" font-family=\"sans-serif\" font-size=\"12\" font-style=\"italic\" lengthAdjust=\"spacingAndGlyphs\" textLength=\"69\" x=\"33.5\" y=\"233.6387\">«attribute»</text><text fill=\"#000000\" font-family=\"sans-serif\" font-size=\"12\" lengthAdjust=\"spacingAndGlyphs\" textLength=\"6\" x=\"65\" y=\"247.6074\">x</text><line style=\"stroke: #383838; stroke-width: 1.5;\" x1=\"33.5\" x2=\"102.5\" y1=\"255.4375\" y2=\"255.4375\"/></a><!--MD5=[2156ba9850f5573cc1fc38a6a4b2f02b]\n",
       "class E7--><a href=\"psysml:638ee95e-a488-4c6b-8aa7-581f6cf4c2fe\" target=\"_top\" title=\"psysml:638ee95e-a488-4c6b-8aa7-581f6cf4c2fe\" xlink:actuate=\"onRequest\" xlink:href=\"psysml:638ee95e-a488-4c6b-8aa7-581f6cf4c2fe\" xlink:show=\"new\" xlink:title=\"psysml:638ee95e-a488-4c6b-8aa7-581f6cf4c2fe\" xlink:type=\"simple\"><rect fill=\"#FFFFFF\" height=\"45.9375\" id=\"E7\" rx=\"10\" ry=\"10\" style=\"stroke: #383838; stroke-width: 1.5;\" width=\"71\" x=\"138.5\" y=\"217.5\"/><text fill=\"#000000\" font-family=\"sans-serif\" font-size=\"12\" font-style=\"italic\" lengthAdjust=\"spacingAndGlyphs\" textLength=\"69\" x=\"139.5\" y=\"233.6387\">«attribute»</text><text fill=\"#000000\" font-family=\"sans-serif\" font-size=\"12\" lengthAdjust=\"spacingAndGlyphs\" textLength=\"6\" x=\"171\" y=\"247.6074\">y</text><line style=\"stroke: #383838; stroke-width: 1.5;\" x1=\"139.5\" x2=\"208.5\" y1=\"255.4375\" y2=\"255.4375\"/></a><!--MD5=[b9389687b975829384b498ac4b7476b2]\n",
       "class E8--><a href=\"psysml:267f67df-ceab-4f9b-9288-379f8b6d76cc\" target=\"_top\" title=\"psysml:267f67df-ceab-4f9b-9288-379f8b6d76cc\" xlink:actuate=\"onRequest\" xlink:href=\"psysml:267f67df-ceab-4f9b-9288-379f8b6d76cc\" xlink:show=\"new\" xlink:title=\"psysml:267f67df-ceab-4f9b-9288-379f8b6d76cc\" xlink:type=\"simple\"><rect fill=\"#FFFFFF\" height=\"45.9375\" id=\"E8\" rx=\"10\" ry=\"10\" style=\"stroke: #383838; stroke-width: 1.5;\" width=\"71\" x=\"84.5\" y=\"87.5\"/><text fill=\"#000000\" font-family=\"sans-serif\" font-size=\"12\" font-style=\"italic\" lengthAdjust=\"spacingAndGlyphs\" textLength=\"69\" x=\"85.5\" y=\"103.6387\">«attribute»</text><text fill=\"#000000\" font-family=\"sans-serif\" font-size=\"12\" lengthAdjust=\"spacingAndGlyphs\" textLength=\"5\" x=\"117.5\" y=\"117.6074\">z</text><line style=\"stroke: #383838; stroke-width: 1.5;\" x1=\"85.5\" x2=\"154.5\" y1=\"125.4375\" y2=\"125.4375\"/></a><a href=\"psysml:d7cd1111-165d-4c09-9c1d-1c6e69d6b628\" target=\"_top\" title=\"psysml:d7cd1111-165d-4c09-9c1d-1c6e69d6b628\" xlink:actuate=\"onRequest\" xlink:href=\"psysml:d7cd1111-165d-4c09-9c1d-1c6e69d6b628\" xlink:show=\"new\" xlink:title=\"psysml:d7cd1111-165d-4c09-9c1d-1c6e69d6b628\" xlink:type=\"simple\"><polygon fill=\"#FFFFFF\" points=\"271,84,413,84,420,106.2969,427,106.2969,427,136.5938,271,136.5938,271,84\" style=\"stroke: #000000; stroke-width: 1.5;\"/><line style=\"stroke: #000000; stroke-width: 1.5;\" x1=\"271\" x2=\"420\" y1=\"106.2969\" y2=\"106.2969\"/><text fill=\"#000000\" font-family=\"sans-serif\" font-size=\"14\" font-weight=\"bold\" lengthAdjust=\"spacingAndGlyphs\" textLength=\"136\" x=\"275\" y=\"98.9951\">Application Layer</text></a><a href=\"psysml:4fd532ef-c056-48ed-b57e-c34d41c7d9b0\" target=\"_top\" title=\"psysml:4fd532ef-c056-48ed-b57e-c34d41c7d9b0\" xlink:actuate=\"onRequest\" xlink:href=\"psysml:4fd532ef-c056-48ed-b57e-c34d41c7d9b0\" xlink:show=\"new\" xlink:title=\"psysml:4fd532ef-c056-48ed-b57e-c34d41c7d9b0\" xlink:type=\"simple\"><polygon fill=\"#FFFFFF\" points=\"285,214,399,214,406,236.2969,413,236.2969,413,266.5938,285,266.5938,285,214\" style=\"stroke: #000000; stroke-width: 1.5;\"/><line style=\"stroke: #000000; stroke-width: 1.5;\" x1=\"285\" x2=\"406\" y1=\"236.2969\" y2=\"236.2969\"/><text fill=\"#000000\" font-family=\"sans-serif\" font-size=\"14\" font-weight=\"bold\" lengthAdjust=\"spacingAndGlyphs\" textLength=\"108\" x=\"289\" y=\"228.9951\">Service Layer</text></a><a href=\"psysml:f10bbfff-f917-435f-bbe7-eedf9b14a34c\" target=\"_top\" title=\"psysml:f10bbfff-f917-435f-bbe7-eedf9b14a34c\" xlink:actuate=\"onRequest\" xlink:href=\"psysml:f10bbfff-f917-435f-bbe7-eedf9b14a34c\" xlink:show=\"new\" xlink:title=\"psysml:f10bbfff-f917-435f-bbe7-eedf9b14a34c\" xlink:type=\"simple\"><polygon fill=\"#FFFFFF\" points=\"297,344,387,344,394,366.2969,401,366.2969,401,396.5938,297,396.5938,297,344\" style=\"stroke: #000000; stroke-width: 1.5;\"/><line style=\"stroke: #000000; stroke-width: 1.5;\" x1=\"297\" x2=\"394\" y1=\"366.2969\" y2=\"366.2969\"/><text fill=\"#000000\" font-family=\"sans-serif\" font-size=\"14\" font-weight=\"bold\" lengthAdjust=\"spacingAndGlyphs\" textLength=\"84\" x=\"301\" y=\"358.9951\">Data Layer</text></a><!--MD5=[af87c684e3b0d8be13c1a698a818ef1e]\n",
       "link E3 to E4--><a href=\"psysml:d6fef634-817c-4ef1-96de-f37bb594aaea\" target=\"_top\" title=\"psysml:d6fef634-817c-4ef1-96de-f37bb594aaea\" xlink:actuate=\"onRequest\" xlink:href=\"psysml:d6fef634-817c-4ef1-96de-f37bb594aaea\" xlink:show=\"new\" xlink:title=\"psysml:d6fef634-817c-4ef1-96de-f37bb594aaea\" xlink:type=\"simple\"><path d=\"M349,137.1 C349,156.8 349,184.22 349,205.73 \" fill=\"none\" id=\"E3-&gt;E4\" style=\"stroke: #383838; stroke-width: 1.0; stroke-dasharray: 7.0,7.0;\"/><polygon fill=\"#383838\" points=\"349,213.95,352,205.95,346,205.95,349,213.95\" style=\"stroke: #383838; stroke-width: 1.0;\"/><text fill=\"#000000\" font-family=\"sans-serif\" font-size=\"13\" lengthAdjust=\"spacingAndGlyphs\" textLength=\"64\" x=\"350\" y=\"180.0669\">«depend»</text></a><!--MD5=[1b7591eae5389033d8d09a9d6721a717]\n",
       "link E4 to E5--><a href=\"psysml:d4b689e0-de38-42ab-a0b3-2a8bf82e0669\" target=\"_top\" title=\"psysml:d4b689e0-de38-42ab-a0b3-2a8bf82e0669\" xlink:actuate=\"onRequest\" xlink:href=\"psysml:d4b689e0-de38-42ab-a0b3-2a8bf82e0669\" xlink:show=\"new\" xlink:title=\"psysml:d4b689e0-de38-42ab-a0b3-2a8bf82e0669\" xlink:type=\"simple\"><path d=\"M349,267.1 C349,286.8 349,314.22 349,335.73 \" fill=\"none\" id=\"E4-&gt;E5\" style=\"stroke: #383838; stroke-width: 1.0; stroke-dasharray: 7.0,7.0;\"/><polygon fill=\"#383838\" points=\"349,343.95,352,335.95,346,335.95,349,343.95\" style=\"stroke: #383838; stroke-width: 1.0;\"/><text fill=\"#000000\" font-family=\"sans-serif\" font-size=\"13\" lengthAdjust=\"spacingAndGlyphs\" textLength=\"64\" x=\"350\" y=\"310.0669\">«depend»</text></a><!--MD5=[c5e8897d989ce984f93528998a7150fe]\n",
       "link E8 to E6--><a href=\"psysml:c74e1bf4-ee72-40a7-b163-07732e38ed67\" target=\"_top\" title=\"psysml:c74e1bf4-ee72-40a7-b163-07732e38ed67\" xlink:actuate=\"onRequest\" xlink:href=\"psysml:c74e1bf4-ee72-40a7-b163-07732e38ed67\" xlink:show=\"new\" xlink:title=\"psysml:c74e1bf4-ee72-40a7-b163-07732e38ed67\" xlink:type=\"simple\"><path d=\"M89.42,133.6 C79.35,142.68 69.37,154.11 64,167 C58.5,180.2 58.66,195.94 60.54,209.38 \" fill=\"none\" id=\"E8-&gt;E6\" style=\"stroke: #383838; stroke-width: 1.0; stroke-dasharray: 7.0,7.0;\"/><polygon fill=\"#383838\" points=\"61.9,217.4,63.517,209.0104,57.6018,210.0159,61.9,217.4\" style=\"stroke: #383838; stroke-width: 1.0;\"/><text fill=\"#000000\" font-family=\"sans-serif\" font-size=\"13\" lengthAdjust=\"spacingAndGlyphs\" textLength=\"64\" x=\"65\" y=\"180.0669\">«depend»</text></a><!--MD5=[bfa3c8b0d15052fdf50ae9310b491027]\n",
       "link E8 to E7--><a href=\"psysml:c74e1bf4-ee72-40a7-b163-07732e38ed67\" target=\"_top\" title=\"psysml:c74e1bf4-ee72-40a7-b163-07732e38ed67\" xlink:actuate=\"onRequest\" xlink:href=\"psysml:c74e1bf4-ee72-40a7-b163-07732e38ed67\" xlink:show=\"new\" xlink:title=\"psysml:c74e1bf4-ee72-40a7-b163-07732e38ed67\" xlink:type=\"simple\"><path d=\"M129.28,133.5 C138.17,154.57 151.64,186.5 161.47,209.81 \" fill=\"none\" id=\"E8-&gt;E7\" style=\"stroke: #383838; stroke-width: 1.0; stroke-dasharray: 7.0,7.0;\"/><polygon fill=\"#383838\" points=\"164.66,217.35,164.3241,208.8126,158.7933,211.1385,164.66,217.35\" style=\"stroke: #383838; stroke-width: 1.0;\"/><text fill=\"#000000\" font-family=\"sans-serif\" font-size=\"13\" lengthAdjust=\"spacingAndGlyphs\" textLength=\"64\" x=\"151\" y=\"180.0669\">«depend»</text></a><!--MD5=[2b42853ec520351b77f32cabd86a92f6]\n",
       "@startuml\r\n",
       " skinparam monochrome true\r\n",
       "skinparam classbackgroundcolor white\r\n",
       "skinparam shadowing false\r\n",
       "skinparam wrapWidth 300\r\n",
       "hide circle\r\n",
       "\r\n",
       "package \"DependencyTest\" as E1  [[psysml:f9a8e327-3c68-43cc-8fc4-f0fda4441472 ]]  {\r\n",
       "package \"System\" as E2  [[psysml:5e0f80f7-1058-4b47-9f4f-e59769b1dff5 ]]  {\r\n",
       "package \"Application Layer\" as E3  [[psysml:d7cd1111-165d-4c09-9c1d-1c6e69d6b628 ]]  {\r\n",
       "}\r\n",
       "package \"Service Layer\" as E4  [[psysml:4fd532ef-c056-48ed-b57e-c34d41c7d9b0 ]]  {\r\n",
       "}\r\n",
       "package \"Data Layer\" as E5  [[psysml:f10bbfff-f917-435f-bbe7-eedf9b14a34c ]]  {\r\n",
       "}\r\n",
       "}\r\n",
       "comp usage \"x\" as E6  <<(T,blue)attribute>> [[psysml:52169dc2-f588-4d36-bb4d-934125a8defa ]] {\r\n",
       "}\r\n",
       "comp usage \"y\" as E7  <<(T,blue)attribute>> [[psysml:638ee95e-a488-4c6b-8aa7-581f6cf4c2fe ]] {\r\n",
       "}\r\n",
       "comp usage \"z\" as E8  <<(T,blue)attribute>> [[psysml:267f67df-ceab-4f9b-9288-379f8b6d76cc ]] {\r\n",
       "}\r\n",
       "E3 ..>> E4 [[psysml:d6fef634-817c-4ef1-96de-f37bb594aaea ]] : <<depend>>\r\n",
       "E4 ..>> E5 [[psysml:d4b689e0-de38-42ab-a0b3-2a8bf82e0669 ]] : <<depend>>\r\n",
       "E8 ..>> E6 [[psysml:c74e1bf4-ee72-40a7-b163-07732e38ed67 ]] : <<depend>>\r\n",
       "E8 ..>> E7 [[psysml:c74e1bf4-ee72-40a7-b163-07732e38ed67 ]] : <<depend>>\r\n",
       "}\r\n",
       "@enduml\r\n",
       "\n",
       "PlantUML version 1.2020.13(Sat Jun 13 12:26:38 UTC 2020)\n",
       "(EPL source distribution)\n",
       "Java Runtime: OpenJDK Runtime Environment\n",
       "JVM: OpenJDK 64-Bit Server VM\n",
       "Default Encoding: UTF-8\n",
       "Language: en\n",
       "Country: null\n",
       "--></g></svg>"
      ]
     },
     "execution_count": 3,
     "metadata": {},
     "output_type": "execute_result"
    }
   ],
   "source": [
    "%viz --style=\"COMPTREE\" --view=\"Tree\" \"DependencyTest\""
   ]
  },
  {
   "cell_type": "code",
   "execution_count": 4,
   "id": "fc67003c",
   "metadata": {
    "execution": {
     "iopub.execute_input": "2021-05-27T06:11:45.844052Z",
     "iopub.status.busy": "2021-05-27T06:11:45.843242Z",
     "iopub.status.idle": "2021-05-27T06:11:45.864154Z",
     "shell.execute_reply": "2021-05-27T06:11:45.864532Z"
    }
   },
   "outputs": [
    {
     "data": {
      "image/svg+xml": [
       "<?xml version=\"1.0\" encoding=\"UTF-8\" standalone=\"no\"?><svg xmlns=\"http://www.w3.org/2000/svg\" xmlns:xlink=\"http://www.w3.org/1999/xlink\" contentScriptType=\"application/ecmascript\" contentStyleType=\"text/css\" height=\"12px\" preserveAspectRatio=\"none\" style=\"width:12px;height:12px;\" version=\"1.1\" viewBox=\"0 0 12 12\" width=\"12px\" zoomAndPan=\"magnify\"><defs/><g><!--MD5=[f19188ef49e11757b5c46753f95d9edc]\n",
       "@startuml\r\n",
       " skinparam monochrome true\r\n",
       "skinparam classbackgroundcolor white\r\n",
       "skinparam shadowing false\r\n",
       "skinparam wrapWidth 300\r\n",
       "hide circle\r\n",
       "\r\n",
       "@enduml\r\n",
       "\n",
       "PlantUML version 1.2020.13(Sat Jun 13 12:26:38 UTC 2020)\n",
       "(EPL source distribution)\n",
       "Java Runtime: OpenJDK Runtime Environment\n",
       "JVM: OpenJDK 64-Bit Server VM\n",
       "Default Encoding: UTF-8\n",
       "Language: en\n",
       "Country: null\n",
       "--></g></svg>"
      ]
     },
     "execution_count": 4,
     "metadata": {},
     "output_type": "execute_result"
    }
   ],
   "source": [
    "%viz --style=\"COMPTREE\" --view=\"State\" \"DependencyTest\""
   ]
  },
  {
   "cell_type": "code",
   "execution_count": 5,
   "id": "1004d233",
   "metadata": {
    "execution": {
     "iopub.execute_input": "2021-05-27T06:11:45.915866Z",
     "iopub.status.busy": "2021-05-27T06:11:45.915470Z",
     "iopub.status.idle": "2021-05-27T06:11:45.972672Z",
     "shell.execute_reply": "2021-05-27T06:11:45.972392Z"
    }
   },
   "outputs": [
    {
     "data": {
      "image/svg+xml": [
       "<?xml version=\"1.0\" encoding=\"UTF-8\" standalone=\"no\"?><svg xmlns=\"http://www.w3.org/2000/svg\" xmlns:xlink=\"http://www.w3.org/1999/xlink\" contentScriptType=\"application/ecmascript\" contentStyleType=\"text/css\" height=\"361px\" preserveAspectRatio=\"none\" style=\"width:489px;height:361px;\" version=\"1.1\" viewBox=\"0 0 489 361\" width=\"489px\" zoomAndPan=\"magnify\"><defs/><g><!--MD5=[fbc87193dbaf4d95561dea2c320d4a47]\n",
       "cluster E1--><a href=\"psysml:f9a8e327-3c68-43cc-8fc4-f0fda4441472\" target=\"_top\" title=\"psysml:f9a8e327-3c68-43cc-8fc4-f0fda4441472\" xlink:actuate=\"onRequest\" xlink:href=\"psysml:f9a8e327-3c68-43cc-8fc4-f0fda4441472\" xlink:show=\"new\" xlink:title=\"psysml:f9a8e327-3c68-43cc-8fc4-f0fda4441472\" xlink:type=\"simple\"><polygon fill=\"#FFFFFF\" points=\"16,6,156,6,163,28.2969,467,28.2969,467,349,16,349,16,6\" style=\"stroke: #000000; stroke-width: 1.5;\"/><line style=\"stroke: #000000; stroke-width: 1.5;\" x1=\"16\" x2=\"163\" y1=\"28.2969\" y2=\"28.2969\"/><text fill=\"#000000\" font-family=\"sans-serif\" font-size=\"14\" font-weight=\"bold\" lengthAdjust=\"spacingAndGlyphs\" textLength=\"134\" x=\"20\" y=\"20.9951\">DependencyTest</text></a><!--MD5=[e4f7fae6ed58524ba242bb0b0d3be6b7]\n",
       "cluster E2--><a href=\"psysml:5e0f80f7-1058-4b47-9f4f-e59769b1dff5\" target=\"_top\" title=\"psysml:5e0f80f7-1058-4b47-9f4f-e59769b1dff5\" xlink:actuate=\"onRequest\" xlink:href=\"psysml:5e0f80f7-1058-4b47-9f4f-e59769b1dff5\" xlink:show=\"new\" xlink:title=\"psysml:5e0f80f7-1058-4b47-9f4f-e59769b1dff5\" xlink:type=\"simple\"><polygon fill=\"#FFFFFF\" points=\"255,49,319,49,326,71.2969,443,71.2969,443,325,255,325,255,49\" style=\"stroke: #000000; stroke-width: 1.5;\"/><line style=\"stroke: #000000; stroke-width: 1.5;\" x1=\"255\" x2=\"326\" y1=\"71.2969\" y2=\"71.2969\"/><text fill=\"#000000\" font-family=\"sans-serif\" font-size=\"14\" font-weight=\"bold\" lengthAdjust=\"spacingAndGlyphs\" textLength=\"58\" x=\"259\" y=\"63.9951\">System</text></a><!--MD5=[60a26617385b1d2d0262a64233df1f8d]\n",
       "class E6--><a href=\"psysml:52169dc2-f588-4d36-bb4d-934125a8defa\" target=\"_top\" title=\"psysml:52169dc2-f588-4d36-bb4d-934125a8defa\" xlink:actuate=\"onRequest\" xlink:href=\"psysml:52169dc2-f588-4d36-bb4d-934125a8defa\" xlink:show=\"new\" xlink:title=\"psysml:52169dc2-f588-4d36-bb4d-934125a8defa\" xlink:type=\"simple\"><rect fill=\"#FFFFFF\" height=\"45.9375\" id=\"E6\" rx=\"10\" ry=\"10\" style=\"stroke: #383838; stroke-width: 1.5;\" width=\"71\" x=\"32.5\" y=\"173.5\"/><text fill=\"#000000\" font-family=\"sans-serif\" font-size=\"12\" font-style=\"italic\" lengthAdjust=\"spacingAndGlyphs\" textLength=\"69\" x=\"33.5\" y=\"189.6387\">«attribute»</text><text fill=\"#000000\" font-family=\"sans-serif\" font-size=\"12\" lengthAdjust=\"spacingAndGlyphs\" textLength=\"6\" x=\"65\" y=\"203.6074\">x</text><line style=\"stroke: #383838; stroke-width: 1.5;\" x1=\"33.5\" x2=\"102.5\" y1=\"211.4375\" y2=\"211.4375\"/></a><!--MD5=[2156ba9850f5573cc1fc38a6a4b2f02b]\n",
       "class E7--><a href=\"psysml:638ee95e-a488-4c6b-8aa7-581f6cf4c2fe\" target=\"_top\" title=\"psysml:638ee95e-a488-4c6b-8aa7-581f6cf4c2fe\" xlink:actuate=\"onRequest\" xlink:href=\"psysml:638ee95e-a488-4c6b-8aa7-581f6cf4c2fe\" xlink:show=\"new\" xlink:title=\"psysml:638ee95e-a488-4c6b-8aa7-581f6cf4c2fe\" xlink:type=\"simple\"><rect fill=\"#FFFFFF\" height=\"45.9375\" id=\"E7\" rx=\"10\" ry=\"10\" style=\"stroke: #383838; stroke-width: 1.5;\" width=\"71\" x=\"138.5\" y=\"173.5\"/><text fill=\"#000000\" font-family=\"sans-serif\" font-size=\"12\" font-style=\"italic\" lengthAdjust=\"spacingAndGlyphs\" textLength=\"69\" x=\"139.5\" y=\"189.6387\">«attribute»</text><text fill=\"#000000\" font-family=\"sans-serif\" font-size=\"12\" lengthAdjust=\"spacingAndGlyphs\" textLength=\"6\" x=\"171\" y=\"203.6074\">y</text><line style=\"stroke: #383838; stroke-width: 1.5;\" x1=\"139.5\" x2=\"208.5\" y1=\"211.4375\" y2=\"211.4375\"/></a><!--MD5=[b9389687b975829384b498ac4b7476b2]\n",
       "class E8--><a href=\"psysml:267f67df-ceab-4f9b-9288-379f8b6d76cc\" target=\"_top\" title=\"psysml:267f67df-ceab-4f9b-9288-379f8b6d76cc\" xlink:actuate=\"onRequest\" xlink:href=\"psysml:267f67df-ceab-4f9b-9288-379f8b6d76cc\" xlink:show=\"new\" xlink:title=\"psysml:267f67df-ceab-4f9b-9288-379f8b6d76cc\" xlink:type=\"simple\"><rect fill=\"#FFFFFF\" height=\"45.9375\" id=\"E8\" rx=\"10\" ry=\"10\" style=\"stroke: #383838; stroke-width: 1.5;\" width=\"71\" x=\"84.5\" y=\"87.5\"/><text fill=\"#000000\" font-family=\"sans-serif\" font-size=\"12\" font-style=\"italic\" lengthAdjust=\"spacingAndGlyphs\" textLength=\"69\" x=\"85.5\" y=\"103.6387\">«attribute»</text><text fill=\"#000000\" font-family=\"sans-serif\" font-size=\"12\" lengthAdjust=\"spacingAndGlyphs\" textLength=\"5\" x=\"117.5\" y=\"117.6074\">z</text><line style=\"stroke: #383838; stroke-width: 1.5;\" x1=\"85.5\" x2=\"154.5\" y1=\"125.4375\" y2=\"125.4375\"/></a><a href=\"psysml:d7cd1111-165d-4c09-9c1d-1c6e69d6b628\" target=\"_top\" title=\"psysml:d7cd1111-165d-4c09-9c1d-1c6e69d6b628\" xlink:actuate=\"onRequest\" xlink:href=\"psysml:d7cd1111-165d-4c09-9c1d-1c6e69d6b628\" xlink:show=\"new\" xlink:title=\"psysml:d7cd1111-165d-4c09-9c1d-1c6e69d6b628\" xlink:type=\"simple\"><polygon fill=\"#FFFFFF\" points=\"271,84,413,84,420,106.2969,427,106.2969,427,136.5938,271,136.5938,271,84\" style=\"stroke: #000000; stroke-width: 1.5;\"/><line style=\"stroke: #000000; stroke-width: 1.5;\" x1=\"271\" x2=\"420\" y1=\"106.2969\" y2=\"106.2969\"/><text fill=\"#000000\" font-family=\"sans-serif\" font-size=\"14\" font-weight=\"bold\" lengthAdjust=\"spacingAndGlyphs\" textLength=\"136\" x=\"275\" y=\"98.9951\">Application Layer</text></a><a href=\"psysml:4fd532ef-c056-48ed-b57e-c34d41c7d9b0\" target=\"_top\" title=\"psysml:4fd532ef-c056-48ed-b57e-c34d41c7d9b0\" xlink:actuate=\"onRequest\" xlink:href=\"psysml:4fd532ef-c056-48ed-b57e-c34d41c7d9b0\" xlink:show=\"new\" xlink:title=\"psysml:4fd532ef-c056-48ed-b57e-c34d41c7d9b0\" xlink:type=\"simple\"><polygon fill=\"#FFFFFF\" points=\"285,170,399,170,406,192.2969,413,192.2969,413,222.5938,285,222.5938,285,170\" style=\"stroke: #000000; stroke-width: 1.5;\"/><line style=\"stroke: #000000; stroke-width: 1.5;\" x1=\"285\" x2=\"406\" y1=\"192.2969\" y2=\"192.2969\"/><text fill=\"#000000\" font-family=\"sans-serif\" font-size=\"14\" font-weight=\"bold\" lengthAdjust=\"spacingAndGlyphs\" textLength=\"108\" x=\"289\" y=\"184.9951\">Service Layer</text></a><a href=\"psysml:f10bbfff-f917-435f-bbe7-eedf9b14a34c\" target=\"_top\" title=\"psysml:f10bbfff-f917-435f-bbe7-eedf9b14a34c\" xlink:actuate=\"onRequest\" xlink:href=\"psysml:f10bbfff-f917-435f-bbe7-eedf9b14a34c\" xlink:show=\"new\" xlink:title=\"psysml:f10bbfff-f917-435f-bbe7-eedf9b14a34c\" xlink:type=\"simple\"><polygon fill=\"#FFFFFF\" points=\"297,256,387,256,394,278.2969,401,278.2969,401,308.5938,297,308.5938,297,256\" style=\"stroke: #000000; stroke-width: 1.5;\"/><line style=\"stroke: #000000; stroke-width: 1.5;\" x1=\"297\" x2=\"394\" y1=\"278.2969\" y2=\"278.2969\"/><text fill=\"#000000\" font-family=\"sans-serif\" font-size=\"14\" font-weight=\"bold\" lengthAdjust=\"spacingAndGlyphs\" textLength=\"84\" x=\"301\" y=\"270.9951\">Data Layer</text></a><!--MD5=[af87c684e3b0d8be13c1a698a818ef1e]\n",
       "link E3 to E4--><a href=\"psysml:d6fef634-817c-4ef1-96de-f37bb594aaea\" target=\"_top\" title=\"psysml:d6fef634-817c-4ef1-96de-f37bb594aaea\" xlink:actuate=\"onRequest\" xlink:href=\"psysml:d6fef634-817c-4ef1-96de-f37bb594aaea\" xlink:show=\"new\" xlink:title=\"psysml:d6fef634-817c-4ef1-96de-f37bb594aaea\" xlink:type=\"simple\"><path d=\"M349,137.16 C349,144.98 349,153.69 349,161.94 \" fill=\"none\" id=\"E3-&gt;E4\" style=\"stroke: #383838; stroke-width: 1.0; stroke-dasharray: 7.0,7.0;\"/><polygon fill=\"#383838\" points=\"349,170,352,162,346,162,349,170\" style=\"stroke: #383838; stroke-width: 1.0;\"/><text fill=\"#000000\" font-family=\"sans-serif\" font-size=\"13\" lengthAdjust=\"spacingAndGlyphs\" textLength=\"64\" x=\"350\" y=\"158.0669\">«depend»</text></a><!--MD5=[1b7591eae5389033d8d09a9d6721a717]\n",
       "link E4 to E5--><a href=\"psysml:d4b689e0-de38-42ab-a0b3-2a8bf82e0669\" target=\"_top\" title=\"psysml:d4b689e0-de38-42ab-a0b3-2a8bf82e0669\" xlink:actuate=\"onRequest\" xlink:href=\"psysml:d4b689e0-de38-42ab-a0b3-2a8bf82e0669\" xlink:show=\"new\" xlink:title=\"psysml:d4b689e0-de38-42ab-a0b3-2a8bf82e0669\" xlink:type=\"simple\"><path d=\"M349,223.16 C349,230.98 349,239.69 349,247.94 \" fill=\"none\" id=\"E4-&gt;E5\" style=\"stroke: #383838; stroke-width: 1.0; stroke-dasharray: 7.0,7.0;\"/><polygon fill=\"#383838\" points=\"349,256,352,248,346,248,349,256\" style=\"stroke: #383838; stroke-width: 1.0;\"/><text fill=\"#000000\" font-family=\"sans-serif\" font-size=\"13\" lengthAdjust=\"spacingAndGlyphs\" textLength=\"64\" x=\"350\" y=\"244.0669\">«depend»</text></a><!--MD5=[c5e8897d989ce984f93528998a7150fe]\n",
       "link E8 to E6--><a href=\"psysml:c74e1bf4-ee72-40a7-b163-07732e38ed67\" target=\"_top\" title=\"psysml:c74e1bf4-ee72-40a7-b163-07732e38ed67\" xlink:actuate=\"onRequest\" xlink:href=\"psysml:c74e1bf4-ee72-40a7-b163-07732e38ed67\" xlink:show=\"new\" xlink:title=\"psysml:c74e1bf4-ee72-40a7-b163-07732e38ed67\" xlink:type=\"simple\"><path d=\"M84.49,125.34 C76.34,130.27 68.69,136.72 64,145 C60.54,151.1 59.62,158.31 60,165.33 \" fill=\"none\" id=\"E8-&gt;E6\" style=\"stroke: #383838; stroke-width: 1.0; stroke-dasharray: 7.0,7.0;\"/><polygon fill=\"#383838\" points=\"60.97,173.42,63.0061,165.1221,57.0479,165.8294,60.97,173.42\" style=\"stroke: #383838; stroke-width: 1.0;\"/><text fill=\"#000000\" font-family=\"sans-serif\" font-size=\"13\" lengthAdjust=\"spacingAndGlyphs\" textLength=\"64\" x=\"65\" y=\"158.0669\">«depend»</text></a><!--MD5=[bfa3c8b0d15052fdf50ae9310b491027]\n",
       "link E8 to E7--><a href=\"psysml:c74e1bf4-ee72-40a7-b163-07732e38ed67\" target=\"_top\" title=\"psysml:c74e1bf4-ee72-40a7-b163-07732e38ed67\" xlink:actuate=\"onRequest\" xlink:href=\"psysml:c74e1bf4-ee72-40a7-b163-07732e38ed67\" xlink:show=\"new\" xlink:title=\"psysml:c74e1bf4-ee72-40a7-b163-07732e38ed67\" xlink:type=\"simple\"><path d=\"M134.19,133.57 C140.65,143.62 148.38,155.65 155.31,166.42 \" fill=\"none\" id=\"E8-&gt;E7\" style=\"stroke: #383838; stroke-width: 1.0; stroke-dasharray: 7.0,7.0;\"/><polygon fill=\"#383838\" points=\"159.72,173.29,157.9148,164.9389,152.8688,168.185,159.72,173.29\" style=\"stroke: #383838; stroke-width: 1.0;\"/><text fill=\"#000000\" font-family=\"sans-serif\" font-size=\"13\" lengthAdjust=\"spacingAndGlyphs\" textLength=\"64\" x=\"152\" y=\"158.0669\">«depend»</text></a><!--MD5=[aa78b00caaeba90f426541ed79975d95]\n",
       "@startuml\r\n",
       "skinparam ranksep 10\r\n",
       "skinparam rectangle {\r\n",
       " backgroundColor<<block>> LightGreen\r\n",
       "}\r\n",
       " skinparam monochrome true\r\n",
       "skinparam classbackgroundcolor white\r\n",
       "skinparam shadowing false\r\n",
       "skinparam wrapWidth 300\r\n",
       "hide circle\r\n",
       "\r\n",
       "package \"DependencyTest\" as E1  [[psysml:f9a8e327-3c68-43cc-8fc4-f0fda4441472 ]]  {\r\n",
       "package \"System\" as E2  [[psysml:5e0f80f7-1058-4b47-9f4f-e59769b1dff5 ]]  {\r\n",
       "package \"Application Layer\" as E3  [[psysml:d7cd1111-165d-4c09-9c1d-1c6e69d6b628 ]]  {\r\n",
       "}\r\n",
       "package \"Service Layer\" as E4  [[psysml:4fd532ef-c056-48ed-b57e-c34d41c7d9b0 ]]  {\r\n",
       "}\r\n",
       "package \"Data Layer\" as E5  [[psysml:f10bbfff-f917-435f-bbe7-eedf9b14a34c ]]  {\r\n",
       "}\r\n",
       "}\r\n",
       "comp usage \"x\" as E6  <<(T,blue)attribute>> [[psysml:52169dc2-f588-4d36-bb4d-934125a8defa ]] {\r\n",
       "}\r\n",
       "comp usage \"y\" as E7  <<(T,blue)attribute>> [[psysml:638ee95e-a488-4c6b-8aa7-581f6cf4c2fe ]] {\r\n",
       "}\r\n",
       "comp usage \"z\" as E8  <<(T,blue)attribute>> [[psysml:267f67df-ceab-4f9b-9288-379f8b6d76cc ]] {\r\n",
       "}\r\n",
       "E3 ..>> E4 [[psysml:d6fef634-817c-4ef1-96de-f37bb594aaea ]] : <<depend>>\r\n",
       "E4 ..>> E5 [[psysml:d4b689e0-de38-42ab-a0b3-2a8bf82e0669 ]] : <<depend>>\r\n",
       "E8 ..>> E6 [[psysml:c74e1bf4-ee72-40a7-b163-07732e38ed67 ]] : <<depend>>\r\n",
       "E8 ..>> E7 [[psysml:c74e1bf4-ee72-40a7-b163-07732e38ed67 ]] : <<depend>>\r\n",
       "}\r\n",
       "@enduml\r\n",
       "\n",
       "PlantUML version 1.2020.13(Sat Jun 13 12:26:38 UTC 2020)\n",
       "(EPL source distribution)\n",
       "Java Runtime: OpenJDK Runtime Environment\n",
       "JVM: OpenJDK 64-Bit Server VM\n",
       "Default Encoding: UTF-8\n",
       "Language: en\n",
       "Country: null\n",
       "--></g></svg>"
      ]
     },
     "execution_count": 5,
     "metadata": {},
     "output_type": "execute_result"
    }
   ],
   "source": [
    "%viz --style=\"COMPTREE\" --view=\"Interconnection\" \"DependencyTest\""
   ]
  },
  {
   "cell_type": "code",
   "execution_count": 6,
   "id": "8aa4606a",
   "metadata": {
    "execution": {
     "iopub.execute_input": "2021-05-27T06:11:46.023667Z",
     "iopub.status.busy": "2021-05-27T06:11:46.023249Z",
     "iopub.status.idle": "2021-05-27T06:11:46.029415Z",
     "shell.execute_reply": "2021-05-27T06:11:46.029048Z"
    }
   },
   "outputs": [
    {
     "data": {
      "image/svg+xml": [
       "<?xml version=\"1.0\" encoding=\"UTF-8\" standalone=\"no\"?><svg xmlns=\"http://www.w3.org/2000/svg\" xmlns:xlink=\"http://www.w3.org/1999/xlink\" contentScriptType=\"application/ecmascript\" contentStyleType=\"text/css\" height=\"12px\" preserveAspectRatio=\"none\" style=\"width:12px;height:12px;\" version=\"1.1\" viewBox=\"0 0 12 12\" width=\"12px\" zoomAndPan=\"magnify\"><defs/><g><!--MD5=[655b888544ca4751ea36af1068543f84]\n",
       "@startuml\r\n",
       "skinparam ranksep 8\r\n",
       " skinparam monochrome true\r\n",
       "skinparam classbackgroundcolor white\r\n",
       "skinparam shadowing false\r\n",
       "skinparam wrapWidth 300\r\n",
       "hide circle\r\n",
       "\r\n",
       "@enduml\r\n",
       "\n",
       "PlantUML version 1.2020.13(Sat Jun 13 12:26:38 UTC 2020)\n",
       "(EPL source distribution)\n",
       "Java Runtime: OpenJDK Runtime Environment\n",
       "JVM: OpenJDK 64-Bit Server VM\n",
       "Default Encoding: UTF-8\n",
       "Language: en\n",
       "Country: null\n",
       "--></g></svg>"
      ]
     },
     "execution_count": 6,
     "metadata": {},
     "output_type": "execute_result"
    }
   ],
   "source": [
    "%viz --style=\"COMPTREE\" --view=\"Action\" \"DependencyTest\""
   ]
  },
  {
   "cell_type": "code",
   "execution_count": 7,
   "id": "c590106c",
   "metadata": {
    "execution": {
     "iopub.execute_input": "2021-05-27T06:11:46.082829Z",
     "iopub.status.busy": "2021-05-27T06:11:46.082183Z",
     "iopub.status.idle": "2021-05-27T06:11:46.128824Z",
     "shell.execute_reply": "2021-05-27T06:11:46.127620Z"
    }
   },
   "outputs": [
    {
     "data": {
      "image/svg+xml": [
       "<?xml version=\"1.0\" encoding=\"UTF-8\" standalone=\"no\"?><svg xmlns=\"http://www.w3.org/2000/svg\" xmlns:xlink=\"http://www.w3.org/1999/xlink\" contentScriptType=\"application/ecmascript\" contentStyleType=\"text/css\" height=\"449px\" preserveAspectRatio=\"none\" style=\"width:489px;height:449px;\" version=\"1.1\" viewBox=\"0 0 489 449\" width=\"489px\" zoomAndPan=\"magnify\"><defs/><g><!--MD5=[fbc87193dbaf4d95561dea2c320d4a47]\n",
       "cluster E1--><a href=\"psysml:f9a8e327-3c68-43cc-8fc4-f0fda4441472\" target=\"_top\" title=\"psysml:f9a8e327-3c68-43cc-8fc4-f0fda4441472\" xlink:actuate=\"onRequest\" xlink:href=\"psysml:f9a8e327-3c68-43cc-8fc4-f0fda4441472\" xlink:show=\"new\" xlink:title=\"psysml:f9a8e327-3c68-43cc-8fc4-f0fda4441472\" xlink:type=\"simple\"><polygon fill=\"#FFFFFF\" points=\"16,6,156,6,163,28.2969,467,28.2969,467,437,16,437,16,6\" style=\"stroke: #000000; stroke-width: 1.5;\"/><line style=\"stroke: #000000; stroke-width: 1.5;\" x1=\"16\" x2=\"163\" y1=\"28.2969\" y2=\"28.2969\"/><text fill=\"#000000\" font-family=\"sans-serif\" font-size=\"14\" font-weight=\"bold\" lengthAdjust=\"spacingAndGlyphs\" textLength=\"134\" x=\"20\" y=\"20.9951\">DependencyTest</text></a><!--MD5=[e4f7fae6ed58524ba242bb0b0d3be6b7]\n",
       "cluster E2--><a href=\"psysml:5e0f80f7-1058-4b47-9f4f-e59769b1dff5\" target=\"_top\" title=\"psysml:5e0f80f7-1058-4b47-9f4f-e59769b1dff5\" xlink:actuate=\"onRequest\" xlink:href=\"psysml:5e0f80f7-1058-4b47-9f4f-e59769b1dff5\" xlink:show=\"new\" xlink:title=\"psysml:5e0f80f7-1058-4b47-9f4f-e59769b1dff5\" xlink:type=\"simple\"><polygon fill=\"#FFFFFF\" points=\"255,49,319,49,326,71.2969,443,71.2969,443,413,255,413,255,49\" style=\"stroke: #000000; stroke-width: 1.5;\"/><line style=\"stroke: #000000; stroke-width: 1.5;\" x1=\"255\" x2=\"326\" y1=\"71.2969\" y2=\"71.2969\"/><text fill=\"#000000\" font-family=\"sans-serif\" font-size=\"14\" font-weight=\"bold\" lengthAdjust=\"spacingAndGlyphs\" textLength=\"58\" x=\"259\" y=\"63.9951\">System</text></a><!--MD5=[60a26617385b1d2d0262a64233df1f8d]\n",
       "class E6--><a href=\"psysml:52169dc2-f588-4d36-bb4d-934125a8defa\" target=\"_top\" title=\"psysml:52169dc2-f588-4d36-bb4d-934125a8defa\" xlink:actuate=\"onRequest\" xlink:href=\"psysml:52169dc2-f588-4d36-bb4d-934125a8defa\" xlink:show=\"new\" xlink:title=\"psysml:52169dc2-f588-4d36-bb4d-934125a8defa\" xlink:type=\"simple\"><rect fill=\"#FFFFFF\" height=\"45.9375\" id=\"E6\" rx=\"10\" ry=\"10\" style=\"stroke: #383838; stroke-width: 1.5;\" width=\"71\" x=\"32.5\" y=\"217.5\"/><text fill=\"#000000\" font-family=\"sans-serif\" font-size=\"12\" font-style=\"italic\" lengthAdjust=\"spacingAndGlyphs\" textLength=\"69\" x=\"33.5\" y=\"233.6387\">«attribute»</text><text fill=\"#000000\" font-family=\"sans-serif\" font-size=\"12\" lengthAdjust=\"spacingAndGlyphs\" textLength=\"6\" x=\"65\" y=\"247.6074\">x</text><line style=\"stroke: #383838; stroke-width: 1.5;\" x1=\"33.5\" x2=\"102.5\" y1=\"255.4375\" y2=\"255.4375\"/></a><!--MD5=[2156ba9850f5573cc1fc38a6a4b2f02b]\n",
       "class E7--><a href=\"psysml:638ee95e-a488-4c6b-8aa7-581f6cf4c2fe\" target=\"_top\" title=\"psysml:638ee95e-a488-4c6b-8aa7-581f6cf4c2fe\" xlink:actuate=\"onRequest\" xlink:href=\"psysml:638ee95e-a488-4c6b-8aa7-581f6cf4c2fe\" xlink:show=\"new\" xlink:title=\"psysml:638ee95e-a488-4c6b-8aa7-581f6cf4c2fe\" xlink:type=\"simple\"><rect fill=\"#FFFFFF\" height=\"45.9375\" id=\"E7\" rx=\"10\" ry=\"10\" style=\"stroke: #383838; stroke-width: 1.5;\" width=\"71\" x=\"138.5\" y=\"217.5\"/><text fill=\"#000000\" font-family=\"sans-serif\" font-size=\"12\" font-style=\"italic\" lengthAdjust=\"spacingAndGlyphs\" textLength=\"69\" x=\"139.5\" y=\"233.6387\">«attribute»</text><text fill=\"#000000\" font-family=\"sans-serif\" font-size=\"12\" lengthAdjust=\"spacingAndGlyphs\" textLength=\"6\" x=\"171\" y=\"247.6074\">y</text><line style=\"stroke: #383838; stroke-width: 1.5;\" x1=\"139.5\" x2=\"208.5\" y1=\"255.4375\" y2=\"255.4375\"/></a><!--MD5=[b9389687b975829384b498ac4b7476b2]\n",
       "class E8--><a href=\"psysml:267f67df-ceab-4f9b-9288-379f8b6d76cc\" target=\"_top\" title=\"psysml:267f67df-ceab-4f9b-9288-379f8b6d76cc\" xlink:actuate=\"onRequest\" xlink:href=\"psysml:267f67df-ceab-4f9b-9288-379f8b6d76cc\" xlink:show=\"new\" xlink:title=\"psysml:267f67df-ceab-4f9b-9288-379f8b6d76cc\" xlink:type=\"simple\"><rect fill=\"#FFFFFF\" height=\"45.9375\" id=\"E8\" rx=\"10\" ry=\"10\" style=\"stroke: #383838; stroke-width: 1.5;\" width=\"71\" x=\"84.5\" y=\"87.5\"/><text fill=\"#000000\" font-family=\"sans-serif\" font-size=\"12\" font-style=\"italic\" lengthAdjust=\"spacingAndGlyphs\" textLength=\"69\" x=\"85.5\" y=\"103.6387\">«attribute»</text><text fill=\"#000000\" font-family=\"sans-serif\" font-size=\"12\" lengthAdjust=\"spacingAndGlyphs\" textLength=\"5\" x=\"117.5\" y=\"117.6074\">z</text><line style=\"stroke: #383838; stroke-width: 1.5;\" x1=\"85.5\" x2=\"154.5\" y1=\"125.4375\" y2=\"125.4375\"/></a><a href=\"psysml:d7cd1111-165d-4c09-9c1d-1c6e69d6b628\" target=\"_top\" title=\"psysml:d7cd1111-165d-4c09-9c1d-1c6e69d6b628\" xlink:actuate=\"onRequest\" xlink:href=\"psysml:d7cd1111-165d-4c09-9c1d-1c6e69d6b628\" xlink:show=\"new\" xlink:title=\"psysml:d7cd1111-165d-4c09-9c1d-1c6e69d6b628\" xlink:type=\"simple\"><polygon fill=\"#FFFFFF\" points=\"271,84,413,84,420,106.2969,427,106.2969,427,136.5938,271,136.5938,271,84\" style=\"stroke: #000000; stroke-width: 1.5;\"/><line style=\"stroke: #000000; stroke-width: 1.5;\" x1=\"271\" x2=\"420\" y1=\"106.2969\" y2=\"106.2969\"/><text fill=\"#000000\" font-family=\"sans-serif\" font-size=\"14\" font-weight=\"bold\" lengthAdjust=\"spacingAndGlyphs\" textLength=\"136\" x=\"275\" y=\"98.9951\">Application Layer</text></a><a href=\"psysml:4fd532ef-c056-48ed-b57e-c34d41c7d9b0\" target=\"_top\" title=\"psysml:4fd532ef-c056-48ed-b57e-c34d41c7d9b0\" xlink:actuate=\"onRequest\" xlink:href=\"psysml:4fd532ef-c056-48ed-b57e-c34d41c7d9b0\" xlink:show=\"new\" xlink:title=\"psysml:4fd532ef-c056-48ed-b57e-c34d41c7d9b0\" xlink:type=\"simple\"><polygon fill=\"#FFFFFF\" points=\"285,214,399,214,406,236.2969,413,236.2969,413,266.5938,285,266.5938,285,214\" style=\"stroke: #000000; stroke-width: 1.5;\"/><line style=\"stroke: #000000; stroke-width: 1.5;\" x1=\"285\" x2=\"406\" y1=\"236.2969\" y2=\"236.2969\"/><text fill=\"#000000\" font-family=\"sans-serif\" font-size=\"14\" font-weight=\"bold\" lengthAdjust=\"spacingAndGlyphs\" textLength=\"108\" x=\"289\" y=\"228.9951\">Service Layer</text></a><a href=\"psysml:f10bbfff-f917-435f-bbe7-eedf9b14a34c\" target=\"_top\" title=\"psysml:f10bbfff-f917-435f-bbe7-eedf9b14a34c\" xlink:actuate=\"onRequest\" xlink:href=\"psysml:f10bbfff-f917-435f-bbe7-eedf9b14a34c\" xlink:show=\"new\" xlink:title=\"psysml:f10bbfff-f917-435f-bbe7-eedf9b14a34c\" xlink:type=\"simple\"><polygon fill=\"#FFFFFF\" points=\"297,344,387,344,394,366.2969,401,366.2969,401,396.5938,297,396.5938,297,344\" style=\"stroke: #000000; stroke-width: 1.5;\"/><line style=\"stroke: #000000; stroke-width: 1.5;\" x1=\"297\" x2=\"394\" y1=\"366.2969\" y2=\"366.2969\"/><text fill=\"#000000\" font-family=\"sans-serif\" font-size=\"14\" font-weight=\"bold\" lengthAdjust=\"spacingAndGlyphs\" textLength=\"84\" x=\"301\" y=\"358.9951\">Data Layer</text></a><!--MD5=[af87c684e3b0d8be13c1a698a818ef1e]\n",
       "link E3 to E4--><a href=\"psysml:d6fef634-817c-4ef1-96de-f37bb594aaea\" target=\"_top\" title=\"psysml:d6fef634-817c-4ef1-96de-f37bb594aaea\" xlink:actuate=\"onRequest\" xlink:href=\"psysml:d6fef634-817c-4ef1-96de-f37bb594aaea\" xlink:show=\"new\" xlink:title=\"psysml:d6fef634-817c-4ef1-96de-f37bb594aaea\" xlink:type=\"simple\"><path d=\"M349,137.1 C349,156.8 349,184.22 349,205.73 \" fill=\"none\" id=\"E3-&gt;E4\" style=\"stroke: #383838; stroke-width: 1.0; stroke-dasharray: 7.0,7.0;\"/><polygon fill=\"#383838\" points=\"349,213.95,352,205.95,346,205.95,349,213.95\" style=\"stroke: #383838; stroke-width: 1.0;\"/><text fill=\"#000000\" font-family=\"sans-serif\" font-size=\"13\" lengthAdjust=\"spacingAndGlyphs\" textLength=\"64\" x=\"350\" y=\"180.0669\">«depend»</text></a><!--MD5=[1b7591eae5389033d8d09a9d6721a717]\n",
       "link E4 to E5--><a href=\"psysml:d4b689e0-de38-42ab-a0b3-2a8bf82e0669\" target=\"_top\" title=\"psysml:d4b689e0-de38-42ab-a0b3-2a8bf82e0669\" xlink:actuate=\"onRequest\" xlink:href=\"psysml:d4b689e0-de38-42ab-a0b3-2a8bf82e0669\" xlink:show=\"new\" xlink:title=\"psysml:d4b689e0-de38-42ab-a0b3-2a8bf82e0669\" xlink:type=\"simple\"><path d=\"M349,267.1 C349,286.8 349,314.22 349,335.73 \" fill=\"none\" id=\"E4-&gt;E5\" style=\"stroke: #383838; stroke-width: 1.0; stroke-dasharray: 7.0,7.0;\"/><polygon fill=\"#383838\" points=\"349,343.95,352,335.95,346,335.95,349,343.95\" style=\"stroke: #383838; stroke-width: 1.0;\"/><text fill=\"#000000\" font-family=\"sans-serif\" font-size=\"13\" lengthAdjust=\"spacingAndGlyphs\" textLength=\"64\" x=\"350\" y=\"310.0669\">«depend»</text></a><!--MD5=[c5e8897d989ce984f93528998a7150fe]\n",
       "link E8 to E6--><a href=\"psysml:c74e1bf4-ee72-40a7-b163-07732e38ed67\" target=\"_top\" title=\"psysml:c74e1bf4-ee72-40a7-b163-07732e38ed67\" xlink:actuate=\"onRequest\" xlink:href=\"psysml:c74e1bf4-ee72-40a7-b163-07732e38ed67\" xlink:show=\"new\" xlink:title=\"psysml:c74e1bf4-ee72-40a7-b163-07732e38ed67\" xlink:type=\"simple\"><path d=\"M89.42,133.6 C79.35,142.68 69.37,154.11 64,167 C58.5,180.2 58.66,195.94 60.54,209.38 \" fill=\"none\" id=\"E8-&gt;E6\" style=\"stroke: #383838; stroke-width: 1.0; stroke-dasharray: 7.0,7.0;\"/><polygon fill=\"#383838\" points=\"61.9,217.4,63.517,209.0104,57.6018,210.0159,61.9,217.4\" style=\"stroke: #383838; stroke-width: 1.0;\"/><text fill=\"#000000\" font-family=\"sans-serif\" font-size=\"13\" lengthAdjust=\"spacingAndGlyphs\" textLength=\"64\" x=\"65\" y=\"180.0669\">«depend»</text></a><!--MD5=[bfa3c8b0d15052fdf50ae9310b491027]\n",
       "link E8 to E7--><a href=\"psysml:c74e1bf4-ee72-40a7-b163-07732e38ed67\" target=\"_top\" title=\"psysml:c74e1bf4-ee72-40a7-b163-07732e38ed67\" xlink:actuate=\"onRequest\" xlink:href=\"psysml:c74e1bf4-ee72-40a7-b163-07732e38ed67\" xlink:show=\"new\" xlink:title=\"psysml:c74e1bf4-ee72-40a7-b163-07732e38ed67\" xlink:type=\"simple\"><path d=\"M129.28,133.5 C138.17,154.57 151.64,186.5 161.47,209.81 \" fill=\"none\" id=\"E8-&gt;E7\" style=\"stroke: #383838; stroke-width: 1.0; stroke-dasharray: 7.0,7.0;\"/><polygon fill=\"#383838\" points=\"164.66,217.35,164.3241,208.8126,158.7933,211.1385,164.66,217.35\" style=\"stroke: #383838; stroke-width: 1.0;\"/><text fill=\"#000000\" font-family=\"sans-serif\" font-size=\"13\" lengthAdjust=\"spacingAndGlyphs\" textLength=\"64\" x=\"151\" y=\"180.0669\">«depend»</text></a><!--MD5=[2b42853ec520351b77f32cabd86a92f6]\n",
       "@startuml\r\n",
       " skinparam monochrome true\r\n",
       "skinparam classbackgroundcolor white\r\n",
       "skinparam shadowing false\r\n",
       "skinparam wrapWidth 300\r\n",
       "hide circle\r\n",
       "\r\n",
       "package \"DependencyTest\" as E1  [[psysml:f9a8e327-3c68-43cc-8fc4-f0fda4441472 ]]  {\r\n",
       "package \"System\" as E2  [[psysml:5e0f80f7-1058-4b47-9f4f-e59769b1dff5 ]]  {\r\n",
       "package \"Application Layer\" as E3  [[psysml:d7cd1111-165d-4c09-9c1d-1c6e69d6b628 ]]  {\r\n",
       "}\r\n",
       "package \"Service Layer\" as E4  [[psysml:4fd532ef-c056-48ed-b57e-c34d41c7d9b0 ]]  {\r\n",
       "}\r\n",
       "package \"Data Layer\" as E5  [[psysml:f10bbfff-f917-435f-bbe7-eedf9b14a34c ]]  {\r\n",
       "}\r\n",
       "}\r\n",
       "comp usage \"x\" as E6  <<(T,blue)attribute>> [[psysml:52169dc2-f588-4d36-bb4d-934125a8defa ]] {\r\n",
       "}\r\n",
       "comp usage \"y\" as E7  <<(T,blue)attribute>> [[psysml:638ee95e-a488-4c6b-8aa7-581f6cf4c2fe ]] {\r\n",
       "}\r\n",
       "comp usage \"z\" as E8  <<(T,blue)attribute>> [[psysml:267f67df-ceab-4f9b-9288-379f8b6d76cc ]] {\r\n",
       "}\r\n",
       "E3 ..>> E4 [[psysml:d6fef634-817c-4ef1-96de-f37bb594aaea ]] : <<depend>>\r\n",
       "E4 ..>> E5 [[psysml:d4b689e0-de38-42ab-a0b3-2a8bf82e0669 ]] : <<depend>>\r\n",
       "E8 ..>> E6 [[psysml:c74e1bf4-ee72-40a7-b163-07732e38ed67 ]] : <<depend>>\r\n",
       "E8 ..>> E7 [[psysml:c74e1bf4-ee72-40a7-b163-07732e38ed67 ]] : <<depend>>\r\n",
       "}\r\n",
       "@enduml\r\n",
       "\n",
       "PlantUML version 1.2020.13(Sat Jun 13 12:26:38 UTC 2020)\n",
       "(EPL source distribution)\n",
       "Java Runtime: OpenJDK Runtime Environment\n",
       "JVM: OpenJDK 64-Bit Server VM\n",
       "Default Encoding: UTF-8\n",
       "Language: en\n",
       "Country: null\n",
       "--></g></svg>"
      ]
     },
     "execution_count": 7,
     "metadata": {},
     "output_type": "execute_result"
    }
   ],
   "source": [
    "%viz --style=\"COMPTREE\" --view=\"Sequence\" \"DependencyTest\""
   ]
  },
  {
   "cell_type": "code",
   "execution_count": 8,
   "id": "3f3ad423",
   "metadata": {
    "execution": {
     "iopub.execute_input": "2021-05-27T06:11:46.181410Z",
     "iopub.status.busy": "2021-05-27T06:11:46.180706Z",
     "iopub.status.idle": "2021-05-27T06:11:46.225658Z",
     "shell.execute_reply": "2021-05-27T06:11:46.225370Z"
    }
   },
   "outputs": [
    {
     "data": {
      "image/svg+xml": [
       "<?xml version=\"1.0\" encoding=\"UTF-8\" standalone=\"no\"?><svg xmlns=\"http://www.w3.org/2000/svg\" xmlns:xlink=\"http://www.w3.org/1999/xlink\" contentScriptType=\"application/ecmascript\" contentStyleType=\"text/css\" height=\"449px\" preserveAspectRatio=\"none\" style=\"width:489px;height:449px;\" version=\"1.1\" viewBox=\"0 0 489 449\" width=\"489px\" zoomAndPan=\"magnify\"><defs/><g><!--MD5=[fbc87193dbaf4d95561dea2c320d4a47]\n",
       "cluster E1--><a href=\"psysml:f9a8e327-3c68-43cc-8fc4-f0fda4441472\" target=\"_top\" title=\"psysml:f9a8e327-3c68-43cc-8fc4-f0fda4441472\" xlink:actuate=\"onRequest\" xlink:href=\"psysml:f9a8e327-3c68-43cc-8fc4-f0fda4441472\" xlink:show=\"new\" xlink:title=\"psysml:f9a8e327-3c68-43cc-8fc4-f0fda4441472\" xlink:type=\"simple\"><polygon fill=\"#FFFFFF\" points=\"16,6,156,6,163,28.2969,467,28.2969,467,437,16,437,16,6\" style=\"stroke: #000000; stroke-width: 1.5;\"/><line style=\"stroke: #000000; stroke-width: 1.5;\" x1=\"16\" x2=\"163\" y1=\"28.2969\" y2=\"28.2969\"/><text fill=\"#000000\" font-family=\"sans-serif\" font-size=\"14\" font-weight=\"bold\" lengthAdjust=\"spacingAndGlyphs\" textLength=\"134\" x=\"20\" y=\"20.9951\">DependencyTest</text></a><!--MD5=[e4f7fae6ed58524ba242bb0b0d3be6b7]\n",
       "cluster E2--><a href=\"psysml:5e0f80f7-1058-4b47-9f4f-e59769b1dff5\" target=\"_top\" title=\"psysml:5e0f80f7-1058-4b47-9f4f-e59769b1dff5\" xlink:actuate=\"onRequest\" xlink:href=\"psysml:5e0f80f7-1058-4b47-9f4f-e59769b1dff5\" xlink:show=\"new\" xlink:title=\"psysml:5e0f80f7-1058-4b47-9f4f-e59769b1dff5\" xlink:type=\"simple\"><polygon fill=\"#FFFFFF\" points=\"255,49,319,49,326,71.2969,443,71.2969,443,413,255,413,255,49\" style=\"stroke: #000000; stroke-width: 1.5;\"/><line style=\"stroke: #000000; stroke-width: 1.5;\" x1=\"255\" x2=\"326\" y1=\"71.2969\" y2=\"71.2969\"/><text fill=\"#000000\" font-family=\"sans-serif\" font-size=\"14\" font-weight=\"bold\" lengthAdjust=\"spacingAndGlyphs\" textLength=\"58\" x=\"259\" y=\"63.9951\">System</text></a><!--MD5=[60a26617385b1d2d0262a64233df1f8d]\n",
       "class E6--><a href=\"psysml:52169dc2-f588-4d36-bb4d-934125a8defa\" target=\"_top\" title=\"psysml:52169dc2-f588-4d36-bb4d-934125a8defa\" xlink:actuate=\"onRequest\" xlink:href=\"psysml:52169dc2-f588-4d36-bb4d-934125a8defa\" xlink:show=\"new\" xlink:title=\"psysml:52169dc2-f588-4d36-bb4d-934125a8defa\" xlink:type=\"simple\"><rect fill=\"#FFFFFF\" height=\"45.9375\" id=\"E6\" rx=\"10\" ry=\"10\" style=\"stroke: #383838; stroke-width: 1.5;\" width=\"71\" x=\"32.5\" y=\"217.5\"/><text fill=\"#000000\" font-family=\"sans-serif\" font-size=\"12\" font-style=\"italic\" lengthAdjust=\"spacingAndGlyphs\" textLength=\"69\" x=\"33.5\" y=\"233.6387\">«attribute»</text><text fill=\"#000000\" font-family=\"sans-serif\" font-size=\"12\" lengthAdjust=\"spacingAndGlyphs\" textLength=\"6\" x=\"65\" y=\"247.6074\">x</text><line style=\"stroke: #383838; stroke-width: 1.5;\" x1=\"33.5\" x2=\"102.5\" y1=\"255.4375\" y2=\"255.4375\"/></a><!--MD5=[2156ba9850f5573cc1fc38a6a4b2f02b]\n",
       "class E7--><a href=\"psysml:638ee95e-a488-4c6b-8aa7-581f6cf4c2fe\" target=\"_top\" title=\"psysml:638ee95e-a488-4c6b-8aa7-581f6cf4c2fe\" xlink:actuate=\"onRequest\" xlink:href=\"psysml:638ee95e-a488-4c6b-8aa7-581f6cf4c2fe\" xlink:show=\"new\" xlink:title=\"psysml:638ee95e-a488-4c6b-8aa7-581f6cf4c2fe\" xlink:type=\"simple\"><rect fill=\"#FFFFFF\" height=\"45.9375\" id=\"E7\" rx=\"10\" ry=\"10\" style=\"stroke: #383838; stroke-width: 1.5;\" width=\"71\" x=\"138.5\" y=\"217.5\"/><text fill=\"#000000\" font-family=\"sans-serif\" font-size=\"12\" font-style=\"italic\" lengthAdjust=\"spacingAndGlyphs\" textLength=\"69\" x=\"139.5\" y=\"233.6387\">«attribute»</text><text fill=\"#000000\" font-family=\"sans-serif\" font-size=\"12\" lengthAdjust=\"spacingAndGlyphs\" textLength=\"6\" x=\"171\" y=\"247.6074\">y</text><line style=\"stroke: #383838; stroke-width: 1.5;\" x1=\"139.5\" x2=\"208.5\" y1=\"255.4375\" y2=\"255.4375\"/></a><!--MD5=[b9389687b975829384b498ac4b7476b2]\n",
       "class E8--><a href=\"psysml:267f67df-ceab-4f9b-9288-379f8b6d76cc\" target=\"_top\" title=\"psysml:267f67df-ceab-4f9b-9288-379f8b6d76cc\" xlink:actuate=\"onRequest\" xlink:href=\"psysml:267f67df-ceab-4f9b-9288-379f8b6d76cc\" xlink:show=\"new\" xlink:title=\"psysml:267f67df-ceab-4f9b-9288-379f8b6d76cc\" xlink:type=\"simple\"><rect fill=\"#FFFFFF\" height=\"45.9375\" id=\"E8\" rx=\"10\" ry=\"10\" style=\"stroke: #383838; stroke-width: 1.5;\" width=\"71\" x=\"84.5\" y=\"87.5\"/><text fill=\"#000000\" font-family=\"sans-serif\" font-size=\"12\" font-style=\"italic\" lengthAdjust=\"spacingAndGlyphs\" textLength=\"69\" x=\"85.5\" y=\"103.6387\">«attribute»</text><text fill=\"#000000\" font-family=\"sans-serif\" font-size=\"12\" lengthAdjust=\"spacingAndGlyphs\" textLength=\"5\" x=\"117.5\" y=\"117.6074\">z</text><line style=\"stroke: #383838; stroke-width: 1.5;\" x1=\"85.5\" x2=\"154.5\" y1=\"125.4375\" y2=\"125.4375\"/></a><a href=\"psysml:d7cd1111-165d-4c09-9c1d-1c6e69d6b628\" target=\"_top\" title=\"psysml:d7cd1111-165d-4c09-9c1d-1c6e69d6b628\" xlink:actuate=\"onRequest\" xlink:href=\"psysml:d7cd1111-165d-4c09-9c1d-1c6e69d6b628\" xlink:show=\"new\" xlink:title=\"psysml:d7cd1111-165d-4c09-9c1d-1c6e69d6b628\" xlink:type=\"simple\"><polygon fill=\"#FFFFFF\" points=\"271,84,413,84,420,106.2969,427,106.2969,427,136.5938,271,136.5938,271,84\" style=\"stroke: #000000; stroke-width: 1.5;\"/><line style=\"stroke: #000000; stroke-width: 1.5;\" x1=\"271\" x2=\"420\" y1=\"106.2969\" y2=\"106.2969\"/><text fill=\"#000000\" font-family=\"sans-serif\" font-size=\"14\" font-weight=\"bold\" lengthAdjust=\"spacingAndGlyphs\" textLength=\"136\" x=\"275\" y=\"98.9951\">Application Layer</text></a><a href=\"psysml:4fd532ef-c056-48ed-b57e-c34d41c7d9b0\" target=\"_top\" title=\"psysml:4fd532ef-c056-48ed-b57e-c34d41c7d9b0\" xlink:actuate=\"onRequest\" xlink:href=\"psysml:4fd532ef-c056-48ed-b57e-c34d41c7d9b0\" xlink:show=\"new\" xlink:title=\"psysml:4fd532ef-c056-48ed-b57e-c34d41c7d9b0\" xlink:type=\"simple\"><polygon fill=\"#FFFFFF\" points=\"285,214,399,214,406,236.2969,413,236.2969,413,266.5938,285,266.5938,285,214\" style=\"stroke: #000000; stroke-width: 1.5;\"/><line style=\"stroke: #000000; stroke-width: 1.5;\" x1=\"285\" x2=\"406\" y1=\"236.2969\" y2=\"236.2969\"/><text fill=\"#000000\" font-family=\"sans-serif\" font-size=\"14\" font-weight=\"bold\" lengthAdjust=\"spacingAndGlyphs\" textLength=\"108\" x=\"289\" y=\"228.9951\">Service Layer</text></a><a href=\"psysml:f10bbfff-f917-435f-bbe7-eedf9b14a34c\" target=\"_top\" title=\"psysml:f10bbfff-f917-435f-bbe7-eedf9b14a34c\" xlink:actuate=\"onRequest\" xlink:href=\"psysml:f10bbfff-f917-435f-bbe7-eedf9b14a34c\" xlink:show=\"new\" xlink:title=\"psysml:f10bbfff-f917-435f-bbe7-eedf9b14a34c\" xlink:type=\"simple\"><polygon fill=\"#FFFFFF\" points=\"297,344,387,344,394,366.2969,401,366.2969,401,396.5938,297,396.5938,297,344\" style=\"stroke: #000000; stroke-width: 1.5;\"/><line style=\"stroke: #000000; stroke-width: 1.5;\" x1=\"297\" x2=\"394\" y1=\"366.2969\" y2=\"366.2969\"/><text fill=\"#000000\" font-family=\"sans-serif\" font-size=\"14\" font-weight=\"bold\" lengthAdjust=\"spacingAndGlyphs\" textLength=\"84\" x=\"301\" y=\"358.9951\">Data Layer</text></a><!--MD5=[af87c684e3b0d8be13c1a698a818ef1e]\n",
       "link E3 to E4--><a href=\"psysml:d6fef634-817c-4ef1-96de-f37bb594aaea\" target=\"_top\" title=\"psysml:d6fef634-817c-4ef1-96de-f37bb594aaea\" xlink:actuate=\"onRequest\" xlink:href=\"psysml:d6fef634-817c-4ef1-96de-f37bb594aaea\" xlink:show=\"new\" xlink:title=\"psysml:d6fef634-817c-4ef1-96de-f37bb594aaea\" xlink:type=\"simple\"><path d=\"M349,137.1 C349,156.8 349,184.22 349,205.73 \" fill=\"none\" id=\"E3-&gt;E4\" style=\"stroke: #383838; stroke-width: 1.0; stroke-dasharray: 7.0,7.0;\"/><polygon fill=\"#383838\" points=\"349,213.95,352,205.95,346,205.95,349,213.95\" style=\"stroke: #383838; stroke-width: 1.0;\"/><text fill=\"#000000\" font-family=\"sans-serif\" font-size=\"13\" lengthAdjust=\"spacingAndGlyphs\" textLength=\"64\" x=\"350\" y=\"180.0669\">«depend»</text></a><!--MD5=[1b7591eae5389033d8d09a9d6721a717]\n",
       "link E4 to E5--><a href=\"psysml:d4b689e0-de38-42ab-a0b3-2a8bf82e0669\" target=\"_top\" title=\"psysml:d4b689e0-de38-42ab-a0b3-2a8bf82e0669\" xlink:actuate=\"onRequest\" xlink:href=\"psysml:d4b689e0-de38-42ab-a0b3-2a8bf82e0669\" xlink:show=\"new\" xlink:title=\"psysml:d4b689e0-de38-42ab-a0b3-2a8bf82e0669\" xlink:type=\"simple\"><path d=\"M349,267.1 C349,286.8 349,314.22 349,335.73 \" fill=\"none\" id=\"E4-&gt;E5\" style=\"stroke: #383838; stroke-width: 1.0; stroke-dasharray: 7.0,7.0;\"/><polygon fill=\"#383838\" points=\"349,343.95,352,335.95,346,335.95,349,343.95\" style=\"stroke: #383838; stroke-width: 1.0;\"/><text fill=\"#000000\" font-family=\"sans-serif\" font-size=\"13\" lengthAdjust=\"spacingAndGlyphs\" textLength=\"64\" x=\"350\" y=\"310.0669\">«depend»</text></a><!--MD5=[c5e8897d989ce984f93528998a7150fe]\n",
       "link E8 to E6--><a href=\"psysml:c74e1bf4-ee72-40a7-b163-07732e38ed67\" target=\"_top\" title=\"psysml:c74e1bf4-ee72-40a7-b163-07732e38ed67\" xlink:actuate=\"onRequest\" xlink:href=\"psysml:c74e1bf4-ee72-40a7-b163-07732e38ed67\" xlink:show=\"new\" xlink:title=\"psysml:c74e1bf4-ee72-40a7-b163-07732e38ed67\" xlink:type=\"simple\"><path d=\"M89.42,133.6 C79.35,142.68 69.37,154.11 64,167 C58.5,180.2 58.66,195.94 60.54,209.38 \" fill=\"none\" id=\"E8-&gt;E6\" style=\"stroke: #383838; stroke-width: 1.0; stroke-dasharray: 7.0,7.0;\"/><polygon fill=\"#383838\" points=\"61.9,217.4,63.517,209.0104,57.6018,210.0159,61.9,217.4\" style=\"stroke: #383838; stroke-width: 1.0;\"/><text fill=\"#000000\" font-family=\"sans-serif\" font-size=\"13\" lengthAdjust=\"spacingAndGlyphs\" textLength=\"64\" x=\"65\" y=\"180.0669\">«depend»</text></a><!--MD5=[bfa3c8b0d15052fdf50ae9310b491027]\n",
       "link E8 to E7--><a href=\"psysml:c74e1bf4-ee72-40a7-b163-07732e38ed67\" target=\"_top\" title=\"psysml:c74e1bf4-ee72-40a7-b163-07732e38ed67\" xlink:actuate=\"onRequest\" xlink:href=\"psysml:c74e1bf4-ee72-40a7-b163-07732e38ed67\" xlink:show=\"new\" xlink:title=\"psysml:c74e1bf4-ee72-40a7-b163-07732e38ed67\" xlink:type=\"simple\"><path d=\"M129.28,133.5 C138.17,154.57 151.64,186.5 161.47,209.81 \" fill=\"none\" id=\"E8-&gt;E7\" style=\"stroke: #383838; stroke-width: 1.0; stroke-dasharray: 7.0,7.0;\"/><polygon fill=\"#383838\" points=\"164.66,217.35,164.3241,208.8126,158.7933,211.1385,164.66,217.35\" style=\"stroke: #383838; stroke-width: 1.0;\"/><text fill=\"#000000\" font-family=\"sans-serif\" font-size=\"13\" lengthAdjust=\"spacingAndGlyphs\" textLength=\"64\" x=\"151\" y=\"180.0669\">«depend»</text></a><!--MD5=[2b42853ec520351b77f32cabd86a92f6]\n",
       "@startuml\r\n",
       " skinparam monochrome true\r\n",
       "skinparam classbackgroundcolor white\r\n",
       "skinparam shadowing false\r\n",
       "skinparam wrapWidth 300\r\n",
       "hide circle\r\n",
       "\r\n",
       "package \"DependencyTest\" as E1  [[psysml:f9a8e327-3c68-43cc-8fc4-f0fda4441472 ]]  {\r\n",
       "package \"System\" as E2  [[psysml:5e0f80f7-1058-4b47-9f4f-e59769b1dff5 ]]  {\r\n",
       "package \"Application Layer\" as E3  [[psysml:d7cd1111-165d-4c09-9c1d-1c6e69d6b628 ]]  {\r\n",
       "}\r\n",
       "package \"Service Layer\" as E4  [[psysml:4fd532ef-c056-48ed-b57e-c34d41c7d9b0 ]]  {\r\n",
       "}\r\n",
       "package \"Data Layer\" as E5  [[psysml:f10bbfff-f917-435f-bbe7-eedf9b14a34c ]]  {\r\n",
       "}\r\n",
       "}\r\n",
       "comp usage \"x\" as E6  <<(T,blue)attribute>> [[psysml:52169dc2-f588-4d36-bb4d-934125a8defa ]] {\r\n",
       "}\r\n",
       "comp usage \"y\" as E7  <<(T,blue)attribute>> [[psysml:638ee95e-a488-4c6b-8aa7-581f6cf4c2fe ]] {\r\n",
       "}\r\n",
       "comp usage \"z\" as E8  <<(T,blue)attribute>> [[psysml:267f67df-ceab-4f9b-9288-379f8b6d76cc ]] {\r\n",
       "}\r\n",
       "E3 ..>> E4 [[psysml:d6fef634-817c-4ef1-96de-f37bb594aaea ]] : <<depend>>\r\n",
       "E4 ..>> E5 [[psysml:d4b689e0-de38-42ab-a0b3-2a8bf82e0669 ]] : <<depend>>\r\n",
       "E8 ..>> E6 [[psysml:c74e1bf4-ee72-40a7-b163-07732e38ed67 ]] : <<depend>>\r\n",
       "E8 ..>> E7 [[psysml:c74e1bf4-ee72-40a7-b163-07732e38ed67 ]] : <<depend>>\r\n",
       "}\r\n",
       "@enduml\r\n",
       "\n",
       "PlantUML version 1.2020.13(Sat Jun 13 12:26:38 UTC 2020)\n",
       "(EPL source distribution)\n",
       "Java Runtime: OpenJDK Runtime Environment\n",
       "JVM: OpenJDK 64-Bit Server VM\n",
       "Default Encoding: UTF-8\n",
       "Language: en\n",
       "Country: null\n",
       "--></g></svg>"
      ]
     },
     "execution_count": 8,
     "metadata": {},
     "output_type": "execute_result"
    }
   ],
   "source": [
    "%viz --style=\"COMPTREE\" --view=\"MIXED\" \"DependencyTest\""
   ]
  },
  {
   "cell_type": "code",
   "execution_count": 9,
   "id": "bec8d2f8",
   "metadata": {
    "execution": {
     "iopub.execute_input": "2021-05-27T06:11:46.279118Z",
     "iopub.status.busy": "2021-05-27T06:11:46.277062Z",
     "iopub.status.idle": "2021-05-27T06:11:46.320822Z",
     "shell.execute_reply": "2021-05-27T06:11:46.319537Z"
    }
   },
   "outputs": [
    {
     "data": {
      "image/svg+xml": [
       "<?xml version=\"1.0\" encoding=\"UTF-8\" standalone=\"no\"?><svg xmlns=\"http://www.w3.org/2000/svg\" xmlns:xlink=\"http://www.w3.org/1999/xlink\" contentScriptType=\"application/ecmascript\" contentStyleType=\"text/css\" height=\"449px\" preserveAspectRatio=\"none\" style=\"width:489px;height:449px;\" version=\"1.1\" viewBox=\"0 0 489 449\" width=\"489px\" zoomAndPan=\"magnify\"><defs/><g><!--MD5=[fbc87193dbaf4d95561dea2c320d4a47]\n",
       "cluster E1--><a href=\"psysml:f9a8e327-3c68-43cc-8fc4-f0fda4441472\" target=\"_top\" title=\"psysml:f9a8e327-3c68-43cc-8fc4-f0fda4441472\" xlink:actuate=\"onRequest\" xlink:href=\"psysml:f9a8e327-3c68-43cc-8fc4-f0fda4441472\" xlink:show=\"new\" xlink:title=\"psysml:f9a8e327-3c68-43cc-8fc4-f0fda4441472\" xlink:type=\"simple\"><polygon fill=\"#FFFFFF\" points=\"16,6,156,6,163,28.2969,467,28.2969,467,437,16,437,16,6\" style=\"stroke: #000000; stroke-width: 1.5;\"/><line style=\"stroke: #000000; stroke-width: 1.5;\" x1=\"16\" x2=\"163\" y1=\"28.2969\" y2=\"28.2969\"/><text fill=\"#000000\" font-family=\"sans-serif\" font-size=\"14\" font-weight=\"bold\" lengthAdjust=\"spacingAndGlyphs\" textLength=\"134\" x=\"20\" y=\"20.9951\">DependencyTest</text></a><!--MD5=[e4f7fae6ed58524ba242bb0b0d3be6b7]\n",
       "cluster E2--><a href=\"psysml:5e0f80f7-1058-4b47-9f4f-e59769b1dff5\" target=\"_top\" title=\"psysml:5e0f80f7-1058-4b47-9f4f-e59769b1dff5\" xlink:actuate=\"onRequest\" xlink:href=\"psysml:5e0f80f7-1058-4b47-9f4f-e59769b1dff5\" xlink:show=\"new\" xlink:title=\"psysml:5e0f80f7-1058-4b47-9f4f-e59769b1dff5\" xlink:type=\"simple\"><polygon fill=\"#FFFFFF\" points=\"255,49,319,49,326,71.2969,443,71.2969,443,413,255,413,255,49\" style=\"stroke: #000000; stroke-width: 1.5;\"/><line style=\"stroke: #000000; stroke-width: 1.5;\" x1=\"255\" x2=\"326\" y1=\"71.2969\" y2=\"71.2969\"/><text fill=\"#000000\" font-family=\"sans-serif\" font-size=\"14\" font-weight=\"bold\" lengthAdjust=\"spacingAndGlyphs\" textLength=\"58\" x=\"259\" y=\"63.9951\">System</text></a><!--MD5=[60a26617385b1d2d0262a64233df1f8d]\n",
       "class E6--><a href=\"psysml:52169dc2-f588-4d36-bb4d-934125a8defa\" target=\"_top\" title=\"psysml:52169dc2-f588-4d36-bb4d-934125a8defa\" xlink:actuate=\"onRequest\" xlink:href=\"psysml:52169dc2-f588-4d36-bb4d-934125a8defa\" xlink:show=\"new\" xlink:title=\"psysml:52169dc2-f588-4d36-bb4d-934125a8defa\" xlink:type=\"simple\"><rect fill=\"#FFFFFF\" height=\"45.9375\" id=\"E6\" rx=\"10\" ry=\"10\" style=\"stroke: #383838; stroke-width: 1.5;\" width=\"71\" x=\"32.5\" y=\"217.5\"/><text fill=\"#000000\" font-family=\"sans-serif\" font-size=\"12\" font-style=\"italic\" lengthAdjust=\"spacingAndGlyphs\" textLength=\"69\" x=\"33.5\" y=\"233.6387\">«attribute»</text><text fill=\"#000000\" font-family=\"sans-serif\" font-size=\"12\" lengthAdjust=\"spacingAndGlyphs\" textLength=\"6\" x=\"65\" y=\"247.6074\">x</text><line style=\"stroke: #383838; stroke-width: 1.5;\" x1=\"33.5\" x2=\"102.5\" y1=\"255.4375\" y2=\"255.4375\"/></a><!--MD5=[2156ba9850f5573cc1fc38a6a4b2f02b]\n",
       "class E7--><a href=\"psysml:638ee95e-a488-4c6b-8aa7-581f6cf4c2fe\" target=\"_top\" title=\"psysml:638ee95e-a488-4c6b-8aa7-581f6cf4c2fe\" xlink:actuate=\"onRequest\" xlink:href=\"psysml:638ee95e-a488-4c6b-8aa7-581f6cf4c2fe\" xlink:show=\"new\" xlink:title=\"psysml:638ee95e-a488-4c6b-8aa7-581f6cf4c2fe\" xlink:type=\"simple\"><rect fill=\"#FFFFFF\" height=\"45.9375\" id=\"E7\" rx=\"10\" ry=\"10\" style=\"stroke: #383838; stroke-width: 1.5;\" width=\"71\" x=\"138.5\" y=\"217.5\"/><text fill=\"#000000\" font-family=\"sans-serif\" font-size=\"12\" font-style=\"italic\" lengthAdjust=\"spacingAndGlyphs\" textLength=\"69\" x=\"139.5\" y=\"233.6387\">«attribute»</text><text fill=\"#000000\" font-family=\"sans-serif\" font-size=\"12\" lengthAdjust=\"spacingAndGlyphs\" textLength=\"6\" x=\"171\" y=\"247.6074\">y</text><line style=\"stroke: #383838; stroke-width: 1.5;\" x1=\"139.5\" x2=\"208.5\" y1=\"255.4375\" y2=\"255.4375\"/></a><!--MD5=[b9389687b975829384b498ac4b7476b2]\n",
       "class E8--><a href=\"psysml:267f67df-ceab-4f9b-9288-379f8b6d76cc\" target=\"_top\" title=\"psysml:267f67df-ceab-4f9b-9288-379f8b6d76cc\" xlink:actuate=\"onRequest\" xlink:href=\"psysml:267f67df-ceab-4f9b-9288-379f8b6d76cc\" xlink:show=\"new\" xlink:title=\"psysml:267f67df-ceab-4f9b-9288-379f8b6d76cc\" xlink:type=\"simple\"><rect fill=\"#FFFFFF\" height=\"45.9375\" id=\"E8\" rx=\"10\" ry=\"10\" style=\"stroke: #383838; stroke-width: 1.5;\" width=\"71\" x=\"84.5\" y=\"87.5\"/><text fill=\"#000000\" font-family=\"sans-serif\" font-size=\"12\" font-style=\"italic\" lengthAdjust=\"spacingAndGlyphs\" textLength=\"69\" x=\"85.5\" y=\"103.6387\">«attribute»</text><text fill=\"#000000\" font-family=\"sans-serif\" font-size=\"12\" lengthAdjust=\"spacingAndGlyphs\" textLength=\"5\" x=\"117.5\" y=\"117.6074\">z</text><line style=\"stroke: #383838; stroke-width: 1.5;\" x1=\"85.5\" x2=\"154.5\" y1=\"125.4375\" y2=\"125.4375\"/></a><a href=\"psysml:d7cd1111-165d-4c09-9c1d-1c6e69d6b628\" target=\"_top\" title=\"psysml:d7cd1111-165d-4c09-9c1d-1c6e69d6b628\" xlink:actuate=\"onRequest\" xlink:href=\"psysml:d7cd1111-165d-4c09-9c1d-1c6e69d6b628\" xlink:show=\"new\" xlink:title=\"psysml:d7cd1111-165d-4c09-9c1d-1c6e69d6b628\" xlink:type=\"simple\"><polygon fill=\"#FFFFFF\" points=\"271,84,413,84,420,106.2969,427,106.2969,427,136.5938,271,136.5938,271,84\" style=\"stroke: #000000; stroke-width: 1.5;\"/><line style=\"stroke: #000000; stroke-width: 1.5;\" x1=\"271\" x2=\"420\" y1=\"106.2969\" y2=\"106.2969\"/><text fill=\"#000000\" font-family=\"sans-serif\" font-size=\"14\" font-weight=\"bold\" lengthAdjust=\"spacingAndGlyphs\" textLength=\"136\" x=\"275\" y=\"98.9951\">Application Layer</text></a><a href=\"psysml:4fd532ef-c056-48ed-b57e-c34d41c7d9b0\" target=\"_top\" title=\"psysml:4fd532ef-c056-48ed-b57e-c34d41c7d9b0\" xlink:actuate=\"onRequest\" xlink:href=\"psysml:4fd532ef-c056-48ed-b57e-c34d41c7d9b0\" xlink:show=\"new\" xlink:title=\"psysml:4fd532ef-c056-48ed-b57e-c34d41c7d9b0\" xlink:type=\"simple\"><polygon fill=\"#FFFFFF\" points=\"285,214,399,214,406,236.2969,413,236.2969,413,266.5938,285,266.5938,285,214\" style=\"stroke: #000000; stroke-width: 1.5;\"/><line style=\"stroke: #000000; stroke-width: 1.5;\" x1=\"285\" x2=\"406\" y1=\"236.2969\" y2=\"236.2969\"/><text fill=\"#000000\" font-family=\"sans-serif\" font-size=\"14\" font-weight=\"bold\" lengthAdjust=\"spacingAndGlyphs\" textLength=\"108\" x=\"289\" y=\"228.9951\">Service Layer</text></a><a href=\"psysml:f10bbfff-f917-435f-bbe7-eedf9b14a34c\" target=\"_top\" title=\"psysml:f10bbfff-f917-435f-bbe7-eedf9b14a34c\" xlink:actuate=\"onRequest\" xlink:href=\"psysml:f10bbfff-f917-435f-bbe7-eedf9b14a34c\" xlink:show=\"new\" xlink:title=\"psysml:f10bbfff-f917-435f-bbe7-eedf9b14a34c\" xlink:type=\"simple\"><polygon fill=\"#FFFFFF\" points=\"297,344,387,344,394,366.2969,401,366.2969,401,396.5938,297,396.5938,297,344\" style=\"stroke: #000000; stroke-width: 1.5;\"/><line style=\"stroke: #000000; stroke-width: 1.5;\" x1=\"297\" x2=\"394\" y1=\"366.2969\" y2=\"366.2969\"/><text fill=\"#000000\" font-family=\"sans-serif\" font-size=\"14\" font-weight=\"bold\" lengthAdjust=\"spacingAndGlyphs\" textLength=\"84\" x=\"301\" y=\"358.9951\">Data Layer</text></a><!--MD5=[af87c684e3b0d8be13c1a698a818ef1e]\n",
       "link E3 to E4--><a href=\"psysml:d6fef634-817c-4ef1-96de-f37bb594aaea\" target=\"_top\" title=\"psysml:d6fef634-817c-4ef1-96de-f37bb594aaea\" xlink:actuate=\"onRequest\" xlink:href=\"psysml:d6fef634-817c-4ef1-96de-f37bb594aaea\" xlink:show=\"new\" xlink:title=\"psysml:d6fef634-817c-4ef1-96de-f37bb594aaea\" xlink:type=\"simple\"><path d=\"M349,137.1 C349,156.8 349,184.22 349,205.73 \" fill=\"none\" id=\"E3-&gt;E4\" style=\"stroke: #383838; stroke-width: 1.0; stroke-dasharray: 7.0,7.0;\"/><polygon fill=\"#383838\" points=\"349,213.95,352,205.95,346,205.95,349,213.95\" style=\"stroke: #383838; stroke-width: 1.0;\"/><text fill=\"#000000\" font-family=\"sans-serif\" font-size=\"13\" lengthAdjust=\"spacingAndGlyphs\" textLength=\"64\" x=\"350\" y=\"180.0669\">«depend»</text></a><!--MD5=[1b7591eae5389033d8d09a9d6721a717]\n",
       "link E4 to E5--><a href=\"psysml:d4b689e0-de38-42ab-a0b3-2a8bf82e0669\" target=\"_top\" title=\"psysml:d4b689e0-de38-42ab-a0b3-2a8bf82e0669\" xlink:actuate=\"onRequest\" xlink:href=\"psysml:d4b689e0-de38-42ab-a0b3-2a8bf82e0669\" xlink:show=\"new\" xlink:title=\"psysml:d4b689e0-de38-42ab-a0b3-2a8bf82e0669\" xlink:type=\"simple\"><path d=\"M349,267.1 C349,286.8 349,314.22 349,335.73 \" fill=\"none\" id=\"E4-&gt;E5\" style=\"stroke: #383838; stroke-width: 1.0; stroke-dasharray: 7.0,7.0;\"/><polygon fill=\"#383838\" points=\"349,343.95,352,335.95,346,335.95,349,343.95\" style=\"stroke: #383838; stroke-width: 1.0;\"/><text fill=\"#000000\" font-family=\"sans-serif\" font-size=\"13\" lengthAdjust=\"spacingAndGlyphs\" textLength=\"64\" x=\"350\" y=\"310.0669\">«depend»</text></a><!--MD5=[c5e8897d989ce984f93528998a7150fe]\n",
       "link E8 to E6--><a href=\"psysml:c74e1bf4-ee72-40a7-b163-07732e38ed67\" target=\"_top\" title=\"psysml:c74e1bf4-ee72-40a7-b163-07732e38ed67\" xlink:actuate=\"onRequest\" xlink:href=\"psysml:c74e1bf4-ee72-40a7-b163-07732e38ed67\" xlink:show=\"new\" xlink:title=\"psysml:c74e1bf4-ee72-40a7-b163-07732e38ed67\" xlink:type=\"simple\"><path d=\"M97.55,133.75 C81.97,149.19 64,167 64,167 C64,167 64,184 64,184 C64,184 64.88,196.21 65.81,209.18 \" fill=\"none\" id=\"E8-&gt;E6\" style=\"stroke: #383838; stroke-width: 1.0; stroke-dasharray: 7.0,7.0;\"/><polygon fill=\"#383838\" points=\"66.4,217.25,68.8203,209.056,62.8357,209.485,66.4,217.25\" style=\"stroke: #383838; stroke-width: 1.0;\"/><text fill=\"#000000\" font-family=\"sans-serif\" font-size=\"13\" lengthAdjust=\"spacingAndGlyphs\" textLength=\"64\" x=\"65\" y=\"180.0669\">«depend»</text></a><!--MD5=[bfa3c8b0d15052fdf50ae9310b491027]\n",
       "link E8 to E7--><a href=\"psysml:c74e1bf4-ee72-40a7-b163-07732e38ed67\" target=\"_top\" title=\"psysml:c74e1bf4-ee72-40a7-b163-07732e38ed67\" xlink:actuate=\"onRequest\" xlink:href=\"psysml:c74e1bf4-ee72-40a7-b163-07732e38ed67\" xlink:show=\"new\" xlink:title=\"psysml:c74e1bf4-ee72-40a7-b163-07732e38ed67\" xlink:type=\"simple\"><path d=\"M129.28,133.5 C138.17,154.57 151.64,186.5 161.47,209.81 \" fill=\"none\" id=\"E8-&gt;E7\" style=\"stroke: #383838; stroke-width: 1.0; stroke-dasharray: 7.0,7.0;\"/><polygon fill=\"#383838\" points=\"164.66,217.35,164.3241,208.8126,158.7933,211.1385,164.66,217.35\" style=\"stroke: #383838; stroke-width: 1.0;\"/><text fill=\"#000000\" font-family=\"sans-serif\" font-size=\"13\" lengthAdjust=\"spacingAndGlyphs\" textLength=\"64\" x=\"151\" y=\"180.0669\">«depend»</text></a><!--MD5=[756e30c5392ddba256095eabde062531]\n",
       "@startuml\r\n",
       "skinparam linetype polyline\r\n",
       "skinparam monochrome true\r\n",
       "skinparam classbackgroundcolor white\r\n",
       "skinparam shadowing false\r\n",
       "skinparam wrapWidth 300\r\n",
       "hide circle\r\n",
       "\r\n",
       "package \"DependencyTest\" as E1  [[psysml:f9a8e327-3c68-43cc-8fc4-f0fda4441472 ]]  {\r\n",
       "package \"System\" as E2  [[psysml:5e0f80f7-1058-4b47-9f4f-e59769b1dff5 ]]  {\r\n",
       "package \"Application Layer\" as E3  [[psysml:d7cd1111-165d-4c09-9c1d-1c6e69d6b628 ]]  {\r\n",
       "}\r\n",
       "package \"Service Layer\" as E4  [[psysml:4fd532ef-c056-48ed-b57e-c34d41c7d9b0 ]]  {\r\n",
       "}\r\n",
       "package \"Data Layer\" as E5  [[psysml:f10bbfff-f917-435f-bbe7-eedf9b14a34c ]]  {\r\n",
       "}\r\n",
       "}\r\n",
       "comp usage \"x\" as E6  <<(T,blue)attribute>> [[psysml:52169dc2-f588-4d36-bb4d-934125a8defa ]] {\r\n",
       "}\r\n",
       "comp usage \"y\" as E7  <<(T,blue)attribute>> [[psysml:638ee95e-a488-4c6b-8aa7-581f6cf4c2fe ]] {\r\n",
       "}\r\n",
       "comp usage \"z\" as E8  <<(T,blue)attribute>> [[psysml:267f67df-ceab-4f9b-9288-379f8b6d76cc ]] {\r\n",
       "}\r\n",
       "E3 ..>> E4 [[psysml:d6fef634-817c-4ef1-96de-f37bb594aaea ]] : <<depend>>\r\n",
       "E4 ..>> E5 [[psysml:d4b689e0-de38-42ab-a0b3-2a8bf82e0669 ]] : <<depend>>\r\n",
       "E8 ..>> E6 [[psysml:c74e1bf4-ee72-40a7-b163-07732e38ed67 ]] : <<depend>>\r\n",
       "E8 ..>> E7 [[psysml:c74e1bf4-ee72-40a7-b163-07732e38ed67 ]] : <<depend>>\r\n",
       "}\r\n",
       "@enduml\r\n",
       "\n",
       "PlantUML version 1.2020.13(Sat Jun 13 12:26:38 UTC 2020)\n",
       "(EPL source distribution)\n",
       "Java Runtime: OpenJDK Runtime Environment\n",
       "JVM: OpenJDK 64-Bit Server VM\n",
       "Default Encoding: UTF-8\n",
       "Language: en\n",
       "Country: null\n",
       "--></g></svg>"
      ]
     },
     "execution_count": 9,
     "metadata": {},
     "output_type": "execute_result"
    }
   ],
   "source": [
    "%viz --style=\"POLYLINE\" --view=\"Default\" \"DependencyTest\""
   ]
  },
  {
   "cell_type": "code",
   "execution_count": 10,
   "id": "773cabe4",
   "metadata": {
    "execution": {
     "iopub.execute_input": "2021-05-27T06:11:46.373801Z",
     "iopub.status.busy": "2021-05-27T06:11:46.373353Z",
     "iopub.status.idle": "2021-05-27T06:11:46.416409Z",
     "shell.execute_reply": "2021-05-27T06:11:46.416052Z"
    }
   },
   "outputs": [
    {
     "data": {
      "image/svg+xml": [
       "<?xml version=\"1.0\" encoding=\"UTF-8\" standalone=\"no\"?><svg xmlns=\"http://www.w3.org/2000/svg\" xmlns:xlink=\"http://www.w3.org/1999/xlink\" contentScriptType=\"application/ecmascript\" contentStyleType=\"text/css\" height=\"449px\" preserveAspectRatio=\"none\" style=\"width:489px;height:449px;\" version=\"1.1\" viewBox=\"0 0 489 449\" width=\"489px\" zoomAndPan=\"magnify\"><defs/><g><!--MD5=[fbc87193dbaf4d95561dea2c320d4a47]\n",
       "cluster E1--><a href=\"psysml:f9a8e327-3c68-43cc-8fc4-f0fda4441472\" target=\"_top\" title=\"psysml:f9a8e327-3c68-43cc-8fc4-f0fda4441472\" xlink:actuate=\"onRequest\" xlink:href=\"psysml:f9a8e327-3c68-43cc-8fc4-f0fda4441472\" xlink:show=\"new\" xlink:title=\"psysml:f9a8e327-3c68-43cc-8fc4-f0fda4441472\" xlink:type=\"simple\"><polygon fill=\"#FFFFFF\" points=\"16,6,156,6,163,28.2969,467,28.2969,467,437,16,437,16,6\" style=\"stroke: #000000; stroke-width: 1.5;\"/><line style=\"stroke: #000000; stroke-width: 1.5;\" x1=\"16\" x2=\"163\" y1=\"28.2969\" y2=\"28.2969\"/><text fill=\"#000000\" font-family=\"sans-serif\" font-size=\"14\" font-weight=\"bold\" lengthAdjust=\"spacingAndGlyphs\" textLength=\"134\" x=\"20\" y=\"20.9951\">DependencyTest</text></a><!--MD5=[e4f7fae6ed58524ba242bb0b0d3be6b7]\n",
       "cluster E2--><a href=\"psysml:5e0f80f7-1058-4b47-9f4f-e59769b1dff5\" target=\"_top\" title=\"psysml:5e0f80f7-1058-4b47-9f4f-e59769b1dff5\" xlink:actuate=\"onRequest\" xlink:href=\"psysml:5e0f80f7-1058-4b47-9f4f-e59769b1dff5\" xlink:show=\"new\" xlink:title=\"psysml:5e0f80f7-1058-4b47-9f4f-e59769b1dff5\" xlink:type=\"simple\"><polygon fill=\"#FFFFFF\" points=\"255,49,319,49,326,71.2969,443,71.2969,443,413,255,413,255,49\" style=\"stroke: #000000; stroke-width: 1.5;\"/><line style=\"stroke: #000000; stroke-width: 1.5;\" x1=\"255\" x2=\"326\" y1=\"71.2969\" y2=\"71.2969\"/><text fill=\"#000000\" font-family=\"sans-serif\" font-size=\"14\" font-weight=\"bold\" lengthAdjust=\"spacingAndGlyphs\" textLength=\"58\" x=\"259\" y=\"63.9951\">System</text></a><!--MD5=[60a26617385b1d2d0262a64233df1f8d]\n",
       "class E6--><a href=\"psysml:52169dc2-f588-4d36-bb4d-934125a8defa\" target=\"_top\" title=\"psysml:52169dc2-f588-4d36-bb4d-934125a8defa\" xlink:actuate=\"onRequest\" xlink:href=\"psysml:52169dc2-f588-4d36-bb4d-934125a8defa\" xlink:show=\"new\" xlink:title=\"psysml:52169dc2-f588-4d36-bb4d-934125a8defa\" xlink:type=\"simple\"><rect fill=\"#FFFFFF\" height=\"45.9375\" id=\"E6\" rx=\"10\" ry=\"10\" style=\"stroke: #383838; stroke-width: 1.5;\" width=\"71\" x=\"32.5\" y=\"217.5\"/><text fill=\"#000000\" font-family=\"sans-serif\" font-size=\"12\" font-style=\"italic\" lengthAdjust=\"spacingAndGlyphs\" textLength=\"69\" x=\"33.5\" y=\"233.6387\">«attribute»</text><text fill=\"#000000\" font-family=\"sans-serif\" font-size=\"12\" lengthAdjust=\"spacingAndGlyphs\" textLength=\"6\" x=\"65\" y=\"247.6074\">x</text><line style=\"stroke: #383838; stroke-width: 1.5;\" x1=\"33.5\" x2=\"102.5\" y1=\"255.4375\" y2=\"255.4375\"/></a><!--MD5=[2156ba9850f5573cc1fc38a6a4b2f02b]\n",
       "class E7--><a href=\"psysml:638ee95e-a488-4c6b-8aa7-581f6cf4c2fe\" target=\"_top\" title=\"psysml:638ee95e-a488-4c6b-8aa7-581f6cf4c2fe\" xlink:actuate=\"onRequest\" xlink:href=\"psysml:638ee95e-a488-4c6b-8aa7-581f6cf4c2fe\" xlink:show=\"new\" xlink:title=\"psysml:638ee95e-a488-4c6b-8aa7-581f6cf4c2fe\" xlink:type=\"simple\"><rect fill=\"#FFFFFF\" height=\"45.9375\" id=\"E7\" rx=\"10\" ry=\"10\" style=\"stroke: #383838; stroke-width: 1.5;\" width=\"71\" x=\"138.5\" y=\"217.5\"/><text fill=\"#000000\" font-family=\"sans-serif\" font-size=\"12\" font-style=\"italic\" lengthAdjust=\"spacingAndGlyphs\" textLength=\"69\" x=\"139.5\" y=\"233.6387\">«attribute»</text><text fill=\"#000000\" font-family=\"sans-serif\" font-size=\"12\" lengthAdjust=\"spacingAndGlyphs\" textLength=\"6\" x=\"171\" y=\"247.6074\">y</text><line style=\"stroke: #383838; stroke-width: 1.5;\" x1=\"139.5\" x2=\"208.5\" y1=\"255.4375\" y2=\"255.4375\"/></a><!--MD5=[b9389687b975829384b498ac4b7476b2]\n",
       "class E8--><a href=\"psysml:267f67df-ceab-4f9b-9288-379f8b6d76cc\" target=\"_top\" title=\"psysml:267f67df-ceab-4f9b-9288-379f8b6d76cc\" xlink:actuate=\"onRequest\" xlink:href=\"psysml:267f67df-ceab-4f9b-9288-379f8b6d76cc\" xlink:show=\"new\" xlink:title=\"psysml:267f67df-ceab-4f9b-9288-379f8b6d76cc\" xlink:type=\"simple\"><rect fill=\"#FFFFFF\" height=\"45.9375\" id=\"E8\" rx=\"10\" ry=\"10\" style=\"stroke: #383838; stroke-width: 1.5;\" width=\"71\" x=\"84.5\" y=\"87.5\"/><text fill=\"#000000\" font-family=\"sans-serif\" font-size=\"12\" font-style=\"italic\" lengthAdjust=\"spacingAndGlyphs\" textLength=\"69\" x=\"85.5\" y=\"103.6387\">«attribute»</text><text fill=\"#000000\" font-family=\"sans-serif\" font-size=\"12\" lengthAdjust=\"spacingAndGlyphs\" textLength=\"5\" x=\"117.5\" y=\"117.6074\">z</text><line style=\"stroke: #383838; stroke-width: 1.5;\" x1=\"85.5\" x2=\"154.5\" y1=\"125.4375\" y2=\"125.4375\"/></a><a href=\"psysml:d7cd1111-165d-4c09-9c1d-1c6e69d6b628\" target=\"_top\" title=\"psysml:d7cd1111-165d-4c09-9c1d-1c6e69d6b628\" xlink:actuate=\"onRequest\" xlink:href=\"psysml:d7cd1111-165d-4c09-9c1d-1c6e69d6b628\" xlink:show=\"new\" xlink:title=\"psysml:d7cd1111-165d-4c09-9c1d-1c6e69d6b628\" xlink:type=\"simple\"><polygon fill=\"#FFFFFF\" points=\"271,84,413,84,420,106.2969,427,106.2969,427,136.5938,271,136.5938,271,84\" style=\"stroke: #000000; stroke-width: 1.5;\"/><line style=\"stroke: #000000; stroke-width: 1.5;\" x1=\"271\" x2=\"420\" y1=\"106.2969\" y2=\"106.2969\"/><text fill=\"#000000\" font-family=\"sans-serif\" font-size=\"14\" font-weight=\"bold\" lengthAdjust=\"spacingAndGlyphs\" textLength=\"136\" x=\"275\" y=\"98.9951\">Application Layer</text></a><a href=\"psysml:4fd532ef-c056-48ed-b57e-c34d41c7d9b0\" target=\"_top\" title=\"psysml:4fd532ef-c056-48ed-b57e-c34d41c7d9b0\" xlink:actuate=\"onRequest\" xlink:href=\"psysml:4fd532ef-c056-48ed-b57e-c34d41c7d9b0\" xlink:show=\"new\" xlink:title=\"psysml:4fd532ef-c056-48ed-b57e-c34d41c7d9b0\" xlink:type=\"simple\"><polygon fill=\"#FFFFFF\" points=\"285,214,399,214,406,236.2969,413,236.2969,413,266.5938,285,266.5938,285,214\" style=\"stroke: #000000; stroke-width: 1.5;\"/><line style=\"stroke: #000000; stroke-width: 1.5;\" x1=\"285\" x2=\"406\" y1=\"236.2969\" y2=\"236.2969\"/><text fill=\"#000000\" font-family=\"sans-serif\" font-size=\"14\" font-weight=\"bold\" lengthAdjust=\"spacingAndGlyphs\" textLength=\"108\" x=\"289\" y=\"228.9951\">Service Layer</text></a><a href=\"psysml:f10bbfff-f917-435f-bbe7-eedf9b14a34c\" target=\"_top\" title=\"psysml:f10bbfff-f917-435f-bbe7-eedf9b14a34c\" xlink:actuate=\"onRequest\" xlink:href=\"psysml:f10bbfff-f917-435f-bbe7-eedf9b14a34c\" xlink:show=\"new\" xlink:title=\"psysml:f10bbfff-f917-435f-bbe7-eedf9b14a34c\" xlink:type=\"simple\"><polygon fill=\"#FFFFFF\" points=\"297,344,387,344,394,366.2969,401,366.2969,401,396.5938,297,396.5938,297,344\" style=\"stroke: #000000; stroke-width: 1.5;\"/><line style=\"stroke: #000000; stroke-width: 1.5;\" x1=\"297\" x2=\"394\" y1=\"366.2969\" y2=\"366.2969\"/><text fill=\"#000000\" font-family=\"sans-serif\" font-size=\"14\" font-weight=\"bold\" lengthAdjust=\"spacingAndGlyphs\" textLength=\"84\" x=\"301\" y=\"358.9951\">Data Layer</text></a><!--MD5=[af87c684e3b0d8be13c1a698a818ef1e]\n",
       "link E3 to E4--><a href=\"psysml:d6fef634-817c-4ef1-96de-f37bb594aaea\" target=\"_top\" title=\"psysml:d6fef634-817c-4ef1-96de-f37bb594aaea\" xlink:actuate=\"onRequest\" xlink:href=\"psysml:d6fef634-817c-4ef1-96de-f37bb594aaea\" xlink:show=\"new\" xlink:title=\"psysml:d6fef634-817c-4ef1-96de-f37bb594aaea\" xlink:type=\"simple\"><path d=\"M349,137.1 C349,156.8 349,184.22 349,205.73 \" fill=\"none\" id=\"E3-&gt;E4\" style=\"stroke: #383838; stroke-width: 1.0; stroke-dasharray: 7.0,7.0;\"/><polygon fill=\"#383838\" points=\"349,213.95,352,205.95,346,205.95,349,213.95\" style=\"stroke: #383838; stroke-width: 1.0;\"/><text fill=\"#000000\" font-family=\"sans-serif\" font-size=\"13\" lengthAdjust=\"spacingAndGlyphs\" textLength=\"64\" x=\"350\" y=\"180.0669\">«depend»</text></a><!--MD5=[1b7591eae5389033d8d09a9d6721a717]\n",
       "link E4 to E5--><a href=\"psysml:d4b689e0-de38-42ab-a0b3-2a8bf82e0669\" target=\"_top\" title=\"psysml:d4b689e0-de38-42ab-a0b3-2a8bf82e0669\" xlink:actuate=\"onRequest\" xlink:href=\"psysml:d4b689e0-de38-42ab-a0b3-2a8bf82e0669\" xlink:show=\"new\" xlink:title=\"psysml:d4b689e0-de38-42ab-a0b3-2a8bf82e0669\" xlink:type=\"simple\"><path d=\"M349,267.1 C349,286.8 349,314.22 349,335.73 \" fill=\"none\" id=\"E4-&gt;E5\" style=\"stroke: #383838; stroke-width: 1.0; stroke-dasharray: 7.0,7.0;\"/><polygon fill=\"#383838\" points=\"349,343.95,352,335.95,346,335.95,349,343.95\" style=\"stroke: #383838; stroke-width: 1.0;\"/><text fill=\"#000000\" font-family=\"sans-serif\" font-size=\"13\" lengthAdjust=\"spacingAndGlyphs\" textLength=\"64\" x=\"350\" y=\"310.0669\">«depend»</text></a><!--MD5=[c5e8897d989ce984f93528998a7150fe]\n",
       "link E8 to E6--><a href=\"psysml:c74e1bf4-ee72-40a7-b163-07732e38ed67\" target=\"_top\" title=\"psysml:c74e1bf4-ee72-40a7-b163-07732e38ed67\" xlink:actuate=\"onRequest\" xlink:href=\"psysml:c74e1bf4-ee72-40a7-b163-07732e38ed67\" xlink:show=\"new\" xlink:title=\"psysml:c74e1bf4-ee72-40a7-b163-07732e38ed67\" xlink:type=\"simple\"><path d=\"M97.55,133.75 C81.97,149.19 64,167 64,167 C64,167 64,184 64,184 C64,184 64.88,196.21 65.81,209.18 \" fill=\"none\" id=\"E8-&gt;E6\" style=\"stroke: #383838; stroke-width: 1.0; stroke-dasharray: 7.0,7.0;\"/><polygon fill=\"#383838\" points=\"66.4,217.25,68.8203,209.056,62.8357,209.485,66.4,217.25\" style=\"stroke: #383838; stroke-width: 1.0;\"/><text fill=\"#000000\" font-family=\"sans-serif\" font-size=\"13\" lengthAdjust=\"spacingAndGlyphs\" textLength=\"64\" x=\"65\" y=\"180.0669\">«depend»</text></a><!--MD5=[bfa3c8b0d15052fdf50ae9310b491027]\n",
       "link E8 to E7--><a href=\"psysml:c74e1bf4-ee72-40a7-b163-07732e38ed67\" target=\"_top\" title=\"psysml:c74e1bf4-ee72-40a7-b163-07732e38ed67\" xlink:actuate=\"onRequest\" xlink:href=\"psysml:c74e1bf4-ee72-40a7-b163-07732e38ed67\" xlink:show=\"new\" xlink:title=\"psysml:c74e1bf4-ee72-40a7-b163-07732e38ed67\" xlink:type=\"simple\"><path d=\"M129.28,133.5 C138.17,154.57 151.64,186.5 161.47,209.81 \" fill=\"none\" id=\"E8-&gt;E7\" style=\"stroke: #383838; stroke-width: 1.0; stroke-dasharray: 7.0,7.0;\"/><polygon fill=\"#383838\" points=\"164.66,217.35,164.3241,208.8126,158.7933,211.1385,164.66,217.35\" style=\"stroke: #383838; stroke-width: 1.0;\"/><text fill=\"#000000\" font-family=\"sans-serif\" font-size=\"13\" lengthAdjust=\"spacingAndGlyphs\" textLength=\"64\" x=\"151\" y=\"180.0669\">«depend»</text></a><!--MD5=[756e30c5392ddba256095eabde062531]\n",
       "@startuml\r\n",
       "skinparam linetype polyline\r\n",
       "skinparam monochrome true\r\n",
       "skinparam classbackgroundcolor white\r\n",
       "skinparam shadowing false\r\n",
       "skinparam wrapWidth 300\r\n",
       "hide circle\r\n",
       "\r\n",
       "package \"DependencyTest\" as E1  [[psysml:f9a8e327-3c68-43cc-8fc4-f0fda4441472 ]]  {\r\n",
       "package \"System\" as E2  [[psysml:5e0f80f7-1058-4b47-9f4f-e59769b1dff5 ]]  {\r\n",
       "package \"Application Layer\" as E3  [[psysml:d7cd1111-165d-4c09-9c1d-1c6e69d6b628 ]]  {\r\n",
       "}\r\n",
       "package \"Service Layer\" as E4  [[psysml:4fd532ef-c056-48ed-b57e-c34d41c7d9b0 ]]  {\r\n",
       "}\r\n",
       "package \"Data Layer\" as E5  [[psysml:f10bbfff-f917-435f-bbe7-eedf9b14a34c ]]  {\r\n",
       "}\r\n",
       "}\r\n",
       "comp usage \"x\" as E6  <<(T,blue)attribute>> [[psysml:52169dc2-f588-4d36-bb4d-934125a8defa ]] {\r\n",
       "}\r\n",
       "comp usage \"y\" as E7  <<(T,blue)attribute>> [[psysml:638ee95e-a488-4c6b-8aa7-581f6cf4c2fe ]] {\r\n",
       "}\r\n",
       "comp usage \"z\" as E8  <<(T,blue)attribute>> [[psysml:267f67df-ceab-4f9b-9288-379f8b6d76cc ]] {\r\n",
       "}\r\n",
       "E3 ..>> E4 [[psysml:d6fef634-817c-4ef1-96de-f37bb594aaea ]] : <<depend>>\r\n",
       "E4 ..>> E5 [[psysml:d4b689e0-de38-42ab-a0b3-2a8bf82e0669 ]] : <<depend>>\r\n",
       "E8 ..>> E6 [[psysml:c74e1bf4-ee72-40a7-b163-07732e38ed67 ]] : <<depend>>\r\n",
       "E8 ..>> E7 [[psysml:c74e1bf4-ee72-40a7-b163-07732e38ed67 ]] : <<depend>>\r\n",
       "}\r\n",
       "@enduml\r\n",
       "\n",
       "PlantUML version 1.2020.13(Sat Jun 13 12:26:38 UTC 2020)\n",
       "(EPL source distribution)\n",
       "Java Runtime: OpenJDK Runtime Environment\n",
       "JVM: OpenJDK 64-Bit Server VM\n",
       "Default Encoding: UTF-8\n",
       "Language: en\n",
       "Country: null\n",
       "--></g></svg>"
      ]
     },
     "execution_count": 10,
     "metadata": {},
     "output_type": "execute_result"
    }
   ],
   "source": [
    "%viz --style=\"POLYLINE\" --view=\"Tree\" \"DependencyTest\""
   ]
  },
  {
   "cell_type": "code",
   "execution_count": 11,
   "id": "2e1aba56",
   "metadata": {
    "execution": {
     "iopub.execute_input": "2021-05-27T06:11:46.467356Z",
     "iopub.status.busy": "2021-05-27T06:11:46.466920Z",
     "iopub.status.idle": "2021-05-27T06:11:46.475067Z",
     "shell.execute_reply": "2021-05-27T06:11:46.474706Z"
    }
   },
   "outputs": [
    {
     "data": {
      "image/svg+xml": [
       "<?xml version=\"1.0\" encoding=\"UTF-8\" standalone=\"no\"?><svg xmlns=\"http://www.w3.org/2000/svg\" xmlns:xlink=\"http://www.w3.org/1999/xlink\" contentScriptType=\"application/ecmascript\" contentStyleType=\"text/css\" height=\"12px\" preserveAspectRatio=\"none\" style=\"width:12px;height:12px;\" version=\"1.1\" viewBox=\"0 0 12 12\" width=\"12px\" zoomAndPan=\"magnify\"><defs/><g><!--MD5=[896ac0e7a515d8dd7765a661cb4ee08b]\n",
       "@startuml\r\n",
       "skinparam linetype polyline\r\n",
       "skinparam monochrome true\r\n",
       "skinparam classbackgroundcolor white\r\n",
       "skinparam shadowing false\r\n",
       "skinparam wrapWidth 300\r\n",
       "hide circle\r\n",
       "\r\n",
       "@enduml\r\n",
       "\n",
       "PlantUML version 1.2020.13(Sat Jun 13 12:26:38 UTC 2020)\n",
       "(EPL source distribution)\n",
       "Java Runtime: OpenJDK Runtime Environment\n",
       "JVM: OpenJDK 64-Bit Server VM\n",
       "Default Encoding: UTF-8\n",
       "Language: en\n",
       "Country: null\n",
       "--></g></svg>"
      ]
     },
     "execution_count": 11,
     "metadata": {},
     "output_type": "execute_result"
    }
   ],
   "source": [
    "%viz --style=\"POLYLINE\" --view=\"State\" \"DependencyTest\""
   ]
  },
  {
   "cell_type": "code",
   "execution_count": 12,
   "id": "d6050742",
   "metadata": {
    "execution": {
     "iopub.execute_input": "2021-05-27T06:11:46.525572Z",
     "iopub.status.busy": "2021-05-27T06:11:46.524677Z",
     "iopub.status.idle": "2021-05-27T06:11:46.569277Z",
     "shell.execute_reply": "2021-05-27T06:11:46.567974Z"
    }
   },
   "outputs": [
    {
     "data": {
      "image/svg+xml": [
       "<?xml version=\"1.0\" encoding=\"UTF-8\" standalone=\"no\"?><svg xmlns=\"http://www.w3.org/2000/svg\" xmlns:xlink=\"http://www.w3.org/1999/xlink\" contentScriptType=\"application/ecmascript\" contentStyleType=\"text/css\" height=\"361px\" preserveAspectRatio=\"none\" style=\"width:489px;height:361px;\" version=\"1.1\" viewBox=\"0 0 489 361\" width=\"489px\" zoomAndPan=\"magnify\"><defs/><g><!--MD5=[fbc87193dbaf4d95561dea2c320d4a47]\n",
       "cluster E1--><a href=\"psysml:f9a8e327-3c68-43cc-8fc4-f0fda4441472\" target=\"_top\" title=\"psysml:f9a8e327-3c68-43cc-8fc4-f0fda4441472\" xlink:actuate=\"onRequest\" xlink:href=\"psysml:f9a8e327-3c68-43cc-8fc4-f0fda4441472\" xlink:show=\"new\" xlink:title=\"psysml:f9a8e327-3c68-43cc-8fc4-f0fda4441472\" xlink:type=\"simple\"><polygon fill=\"#FFFFFF\" points=\"16,6,156,6,163,28.2969,467,28.2969,467,349,16,349,16,6\" style=\"stroke: #000000; stroke-width: 1.5;\"/><line style=\"stroke: #000000; stroke-width: 1.5;\" x1=\"16\" x2=\"163\" y1=\"28.2969\" y2=\"28.2969\"/><text fill=\"#000000\" font-family=\"sans-serif\" font-size=\"14\" font-weight=\"bold\" lengthAdjust=\"spacingAndGlyphs\" textLength=\"134\" x=\"20\" y=\"20.9951\">DependencyTest</text></a><!--MD5=[e4f7fae6ed58524ba242bb0b0d3be6b7]\n",
       "cluster E2--><a href=\"psysml:5e0f80f7-1058-4b47-9f4f-e59769b1dff5\" target=\"_top\" title=\"psysml:5e0f80f7-1058-4b47-9f4f-e59769b1dff5\" xlink:actuate=\"onRequest\" xlink:href=\"psysml:5e0f80f7-1058-4b47-9f4f-e59769b1dff5\" xlink:show=\"new\" xlink:title=\"psysml:5e0f80f7-1058-4b47-9f4f-e59769b1dff5\" xlink:type=\"simple\"><polygon fill=\"#FFFFFF\" points=\"255,49,319,49,326,71.2969,443,71.2969,443,325,255,325,255,49\" style=\"stroke: #000000; stroke-width: 1.5;\"/><line style=\"stroke: #000000; stroke-width: 1.5;\" x1=\"255\" x2=\"326\" y1=\"71.2969\" y2=\"71.2969\"/><text fill=\"#000000\" font-family=\"sans-serif\" font-size=\"14\" font-weight=\"bold\" lengthAdjust=\"spacingAndGlyphs\" textLength=\"58\" x=\"259\" y=\"63.9951\">System</text></a><!--MD5=[60a26617385b1d2d0262a64233df1f8d]\n",
       "class E6--><a href=\"psysml:52169dc2-f588-4d36-bb4d-934125a8defa\" target=\"_top\" title=\"psysml:52169dc2-f588-4d36-bb4d-934125a8defa\" xlink:actuate=\"onRequest\" xlink:href=\"psysml:52169dc2-f588-4d36-bb4d-934125a8defa\" xlink:show=\"new\" xlink:title=\"psysml:52169dc2-f588-4d36-bb4d-934125a8defa\" xlink:type=\"simple\"><rect fill=\"#FFFFFF\" height=\"45.9375\" id=\"E6\" rx=\"10\" ry=\"10\" style=\"stroke: #383838; stroke-width: 1.5;\" width=\"71\" x=\"32.5\" y=\"173.5\"/><text fill=\"#000000\" font-family=\"sans-serif\" font-size=\"12\" font-style=\"italic\" lengthAdjust=\"spacingAndGlyphs\" textLength=\"69\" x=\"33.5\" y=\"189.6387\">«attribute»</text><text fill=\"#000000\" font-family=\"sans-serif\" font-size=\"12\" lengthAdjust=\"spacingAndGlyphs\" textLength=\"6\" x=\"65\" y=\"203.6074\">x</text><line style=\"stroke: #383838; stroke-width: 1.5;\" x1=\"33.5\" x2=\"102.5\" y1=\"211.4375\" y2=\"211.4375\"/></a><!--MD5=[2156ba9850f5573cc1fc38a6a4b2f02b]\n",
       "class E7--><a href=\"psysml:638ee95e-a488-4c6b-8aa7-581f6cf4c2fe\" target=\"_top\" title=\"psysml:638ee95e-a488-4c6b-8aa7-581f6cf4c2fe\" xlink:actuate=\"onRequest\" xlink:href=\"psysml:638ee95e-a488-4c6b-8aa7-581f6cf4c2fe\" xlink:show=\"new\" xlink:title=\"psysml:638ee95e-a488-4c6b-8aa7-581f6cf4c2fe\" xlink:type=\"simple\"><rect fill=\"#FFFFFF\" height=\"45.9375\" id=\"E7\" rx=\"10\" ry=\"10\" style=\"stroke: #383838; stroke-width: 1.5;\" width=\"71\" x=\"138.5\" y=\"173.5\"/><text fill=\"#000000\" font-family=\"sans-serif\" font-size=\"12\" font-style=\"italic\" lengthAdjust=\"spacingAndGlyphs\" textLength=\"69\" x=\"139.5\" y=\"189.6387\">«attribute»</text><text fill=\"#000000\" font-family=\"sans-serif\" font-size=\"12\" lengthAdjust=\"spacingAndGlyphs\" textLength=\"6\" x=\"171\" y=\"203.6074\">y</text><line style=\"stroke: #383838; stroke-width: 1.5;\" x1=\"139.5\" x2=\"208.5\" y1=\"211.4375\" y2=\"211.4375\"/></a><!--MD5=[b9389687b975829384b498ac4b7476b2]\n",
       "class E8--><a href=\"psysml:267f67df-ceab-4f9b-9288-379f8b6d76cc\" target=\"_top\" title=\"psysml:267f67df-ceab-4f9b-9288-379f8b6d76cc\" xlink:actuate=\"onRequest\" xlink:href=\"psysml:267f67df-ceab-4f9b-9288-379f8b6d76cc\" xlink:show=\"new\" xlink:title=\"psysml:267f67df-ceab-4f9b-9288-379f8b6d76cc\" xlink:type=\"simple\"><rect fill=\"#FFFFFF\" height=\"45.9375\" id=\"E8\" rx=\"10\" ry=\"10\" style=\"stroke: #383838; stroke-width: 1.5;\" width=\"71\" x=\"84.5\" y=\"87.5\"/><text fill=\"#000000\" font-family=\"sans-serif\" font-size=\"12\" font-style=\"italic\" lengthAdjust=\"spacingAndGlyphs\" textLength=\"69\" x=\"85.5\" y=\"103.6387\">«attribute»</text><text fill=\"#000000\" font-family=\"sans-serif\" font-size=\"12\" lengthAdjust=\"spacingAndGlyphs\" textLength=\"5\" x=\"117.5\" y=\"117.6074\">z</text><line style=\"stroke: #383838; stroke-width: 1.5;\" x1=\"85.5\" x2=\"154.5\" y1=\"125.4375\" y2=\"125.4375\"/></a><a href=\"psysml:d7cd1111-165d-4c09-9c1d-1c6e69d6b628\" target=\"_top\" title=\"psysml:d7cd1111-165d-4c09-9c1d-1c6e69d6b628\" xlink:actuate=\"onRequest\" xlink:href=\"psysml:d7cd1111-165d-4c09-9c1d-1c6e69d6b628\" xlink:show=\"new\" xlink:title=\"psysml:d7cd1111-165d-4c09-9c1d-1c6e69d6b628\" xlink:type=\"simple\"><polygon fill=\"#FFFFFF\" points=\"271,84,413,84,420,106.2969,427,106.2969,427,136.5938,271,136.5938,271,84\" style=\"stroke: #000000; stroke-width: 1.5;\"/><line style=\"stroke: #000000; stroke-width: 1.5;\" x1=\"271\" x2=\"420\" y1=\"106.2969\" y2=\"106.2969\"/><text fill=\"#000000\" font-family=\"sans-serif\" font-size=\"14\" font-weight=\"bold\" lengthAdjust=\"spacingAndGlyphs\" textLength=\"136\" x=\"275\" y=\"98.9951\">Application Layer</text></a><a href=\"psysml:4fd532ef-c056-48ed-b57e-c34d41c7d9b0\" target=\"_top\" title=\"psysml:4fd532ef-c056-48ed-b57e-c34d41c7d9b0\" xlink:actuate=\"onRequest\" xlink:href=\"psysml:4fd532ef-c056-48ed-b57e-c34d41c7d9b0\" xlink:show=\"new\" xlink:title=\"psysml:4fd532ef-c056-48ed-b57e-c34d41c7d9b0\" xlink:type=\"simple\"><polygon fill=\"#FFFFFF\" points=\"285,170,399,170,406,192.2969,413,192.2969,413,222.5938,285,222.5938,285,170\" style=\"stroke: #000000; stroke-width: 1.5;\"/><line style=\"stroke: #000000; stroke-width: 1.5;\" x1=\"285\" x2=\"406\" y1=\"192.2969\" y2=\"192.2969\"/><text fill=\"#000000\" font-family=\"sans-serif\" font-size=\"14\" font-weight=\"bold\" lengthAdjust=\"spacingAndGlyphs\" textLength=\"108\" x=\"289\" y=\"184.9951\">Service Layer</text></a><a href=\"psysml:f10bbfff-f917-435f-bbe7-eedf9b14a34c\" target=\"_top\" title=\"psysml:f10bbfff-f917-435f-bbe7-eedf9b14a34c\" xlink:actuate=\"onRequest\" xlink:href=\"psysml:f10bbfff-f917-435f-bbe7-eedf9b14a34c\" xlink:show=\"new\" xlink:title=\"psysml:f10bbfff-f917-435f-bbe7-eedf9b14a34c\" xlink:type=\"simple\"><polygon fill=\"#FFFFFF\" points=\"297,256,387,256,394,278.2969,401,278.2969,401,308.5938,297,308.5938,297,256\" style=\"stroke: #000000; stroke-width: 1.5;\"/><line style=\"stroke: #000000; stroke-width: 1.5;\" x1=\"297\" x2=\"394\" y1=\"278.2969\" y2=\"278.2969\"/><text fill=\"#000000\" font-family=\"sans-serif\" font-size=\"14\" font-weight=\"bold\" lengthAdjust=\"spacingAndGlyphs\" textLength=\"84\" x=\"301\" y=\"270.9951\">Data Layer</text></a><!--MD5=[af87c684e3b0d8be13c1a698a818ef1e]\n",
       "link E3 to E4--><a href=\"psysml:d6fef634-817c-4ef1-96de-f37bb594aaea\" target=\"_top\" title=\"psysml:d6fef634-817c-4ef1-96de-f37bb594aaea\" xlink:actuate=\"onRequest\" xlink:href=\"psysml:d6fef634-817c-4ef1-96de-f37bb594aaea\" xlink:show=\"new\" xlink:title=\"psysml:d6fef634-817c-4ef1-96de-f37bb594aaea\" xlink:type=\"simple\"><path d=\"M349,137.16 C349,144.98 349,153.69 349,161.94 \" fill=\"none\" id=\"E3-&gt;E4\" style=\"stroke: #383838; stroke-width: 1.0; stroke-dasharray: 7.0,7.0;\"/><polygon fill=\"#383838\" points=\"349,170,352,162,346,162,349,170\" style=\"stroke: #383838; stroke-width: 1.0;\"/><text fill=\"#000000\" font-family=\"sans-serif\" font-size=\"13\" lengthAdjust=\"spacingAndGlyphs\" textLength=\"64\" x=\"350\" y=\"158.0669\">«depend»</text></a><!--MD5=[1b7591eae5389033d8d09a9d6721a717]\n",
       "link E4 to E5--><a href=\"psysml:d4b689e0-de38-42ab-a0b3-2a8bf82e0669\" target=\"_top\" title=\"psysml:d4b689e0-de38-42ab-a0b3-2a8bf82e0669\" xlink:actuate=\"onRequest\" xlink:href=\"psysml:d4b689e0-de38-42ab-a0b3-2a8bf82e0669\" xlink:show=\"new\" xlink:title=\"psysml:d4b689e0-de38-42ab-a0b3-2a8bf82e0669\" xlink:type=\"simple\"><path d=\"M349,223.16 C349,230.98 349,239.69 349,247.94 \" fill=\"none\" id=\"E4-&gt;E5\" style=\"stroke: #383838; stroke-width: 1.0; stroke-dasharray: 7.0,7.0;\"/><polygon fill=\"#383838\" points=\"349,256,352,248,346,248,349,256\" style=\"stroke: #383838; stroke-width: 1.0;\"/><text fill=\"#000000\" font-family=\"sans-serif\" font-size=\"13\" lengthAdjust=\"spacingAndGlyphs\" textLength=\"64\" x=\"350\" y=\"244.0669\">«depend»</text></a><!--MD5=[c5e8897d989ce984f93528998a7150fe]\n",
       "link E8 to E6--><a href=\"psysml:c74e1bf4-ee72-40a7-b163-07732e38ed67\" target=\"_top\" title=\"psysml:c74e1bf4-ee72-40a7-b163-07732e38ed67\" xlink:actuate=\"onRequest\" xlink:href=\"psysml:c74e1bf4-ee72-40a7-b163-07732e38ed67\" xlink:show=\"new\" xlink:title=\"psysml:c74e1bf4-ee72-40a7-b163-07732e38ed67\" xlink:type=\"simple\"><path d=\"M84.22,132.91 C73.24,139.47 64,145 64,145 C64,145 64,162 64,162 C64,162 64.15,163.28 64.4,165.33 \" fill=\"none\" id=\"E8-&gt;E6\" style=\"stroke: #383838; stroke-width: 1.0; stroke-dasharray: 7.0,7.0;\"/><polygon fill=\"#383838\" points=\"65.35,173.34,67.3861,165.0421,61.4279,165.7494,65.35,173.34\" style=\"stroke: #383838; stroke-width: 1.0;\"/><text fill=\"#000000\" font-family=\"sans-serif\" font-size=\"13\" lengthAdjust=\"spacingAndGlyphs\" textLength=\"64\" x=\"65\" y=\"158.0669\">«depend»</text></a><!--MD5=[bfa3c8b0d15052fdf50ae9310b491027]\n",
       "link E8 to E7--><a href=\"psysml:c74e1bf4-ee72-40a7-b163-07732e38ed67\" target=\"_top\" title=\"psysml:c74e1bf4-ee72-40a7-b163-07732e38ed67\" xlink:actuate=\"onRequest\" xlink:href=\"psysml:c74e1bf4-ee72-40a7-b163-07732e38ed67\" xlink:show=\"new\" xlink:title=\"psysml:c74e1bf4-ee72-40a7-b163-07732e38ed67\" xlink:type=\"simple\"><path d=\"M134.19,133.57 C140.65,143.62 148.38,155.65 155.31,166.42 \" fill=\"none\" id=\"E8-&gt;E7\" style=\"stroke: #383838; stroke-width: 1.0; stroke-dasharray: 7.0,7.0;\"/><polygon fill=\"#383838\" points=\"159.72,173.29,157.9148,164.9389,152.8688,168.185,159.72,173.29\" style=\"stroke: #383838; stroke-width: 1.0;\"/><text fill=\"#000000\" font-family=\"sans-serif\" font-size=\"13\" lengthAdjust=\"spacingAndGlyphs\" textLength=\"64\" x=\"152\" y=\"158.0669\">«depend»</text></a><!--MD5=[4b6cddf32797daf4a89c1d349769c15c]\n",
       "@startuml\r\n",
       "skinparam ranksep 10\r\n",
       "skinparam rectangle {\r\n",
       " backgroundColor<<block>> LightGreen\r\n",
       "}\r\n",
       "skinparam linetype polyline\r\n",
       "skinparam monochrome true\r\n",
       "skinparam classbackgroundcolor white\r\n",
       "skinparam shadowing false\r\n",
       "skinparam wrapWidth 300\r\n",
       "hide circle\r\n",
       "\r\n",
       "package \"DependencyTest\" as E1  [[psysml:f9a8e327-3c68-43cc-8fc4-f0fda4441472 ]]  {\r\n",
       "package \"System\" as E2  [[psysml:5e0f80f7-1058-4b47-9f4f-e59769b1dff5 ]]  {\r\n",
       "package \"Application Layer\" as E3  [[psysml:d7cd1111-165d-4c09-9c1d-1c6e69d6b628 ]]  {\r\n",
       "}\r\n",
       "package \"Service Layer\" as E4  [[psysml:4fd532ef-c056-48ed-b57e-c34d41c7d9b0 ]]  {\r\n",
       "}\r\n",
       "package \"Data Layer\" as E5  [[psysml:f10bbfff-f917-435f-bbe7-eedf9b14a34c ]]  {\r\n",
       "}\r\n",
       "}\r\n",
       "comp usage \"x\" as E6  <<(T,blue)attribute>> [[psysml:52169dc2-f588-4d36-bb4d-934125a8defa ]] {\r\n",
       "}\r\n",
       "comp usage \"y\" as E7  <<(T,blue)attribute>> [[psysml:638ee95e-a488-4c6b-8aa7-581f6cf4c2fe ]] {\r\n",
       "}\r\n",
       "comp usage \"z\" as E8  <<(T,blue)attribute>> [[psysml:267f67df-ceab-4f9b-9288-379f8b6d76cc ]] {\r\n",
       "}\r\n",
       "E3 ..>> E4 [[psysml:d6fef634-817c-4ef1-96de-f37bb594aaea ]] : <<depend>>\r\n",
       "E4 ..>> E5 [[psysml:d4b689e0-de38-42ab-a0b3-2a8bf82e0669 ]] : <<depend>>\r\n",
       "E8 ..>> E6 [[psysml:c74e1bf4-ee72-40a7-b163-07732e38ed67 ]] : <<depend>>\r\n",
       "E8 ..>> E7 [[psysml:c74e1bf4-ee72-40a7-b163-07732e38ed67 ]] : <<depend>>\r\n",
       "}\r\n",
       "@enduml\r\n",
       "\n",
       "PlantUML version 1.2020.13(Sat Jun 13 12:26:38 UTC 2020)\n",
       "(EPL source distribution)\n",
       "Java Runtime: OpenJDK Runtime Environment\n",
       "JVM: OpenJDK 64-Bit Server VM\n",
       "Default Encoding: UTF-8\n",
       "Language: en\n",
       "Country: null\n",
       "--></g></svg>"
      ]
     },
     "execution_count": 12,
     "metadata": {},
     "output_type": "execute_result"
    }
   ],
   "source": [
    "%viz --style=\"POLYLINE\" --view=\"Interconnection\" \"DependencyTest\""
   ]
  },
  {
   "cell_type": "code",
   "execution_count": 13,
   "id": "91c441fd",
   "metadata": {
    "execution": {
     "iopub.execute_input": "2021-05-27T06:11:46.622055Z",
     "iopub.status.busy": "2021-05-27T06:11:46.621240Z",
     "iopub.status.idle": "2021-05-27T06:11:46.629034Z",
     "shell.execute_reply": "2021-05-27T06:11:46.628676Z"
    }
   },
   "outputs": [
    {
     "data": {
      "image/svg+xml": [
       "<?xml version=\"1.0\" encoding=\"UTF-8\" standalone=\"no\"?><svg xmlns=\"http://www.w3.org/2000/svg\" xmlns:xlink=\"http://www.w3.org/1999/xlink\" contentScriptType=\"application/ecmascript\" contentStyleType=\"text/css\" height=\"12px\" preserveAspectRatio=\"none\" style=\"width:12px;height:12px;\" version=\"1.1\" viewBox=\"0 0 12 12\" width=\"12px\" zoomAndPan=\"magnify\"><defs/><g><!--MD5=[97bbf32f66ccd50cbc40d92ea8f5a65e]\n",
       "@startuml\r\n",
       "skinparam ranksep 8\r\n",
       "skinparam linetype polyline\r\n",
       "skinparam monochrome true\r\n",
       "skinparam classbackgroundcolor white\r\n",
       "skinparam shadowing false\r\n",
       "skinparam wrapWidth 300\r\n",
       "hide circle\r\n",
       "\r\n",
       "@enduml\r\n",
       "\n",
       "PlantUML version 1.2020.13(Sat Jun 13 12:26:38 UTC 2020)\n",
       "(EPL source distribution)\n",
       "Java Runtime: OpenJDK Runtime Environment\n",
       "JVM: OpenJDK 64-Bit Server VM\n",
       "Default Encoding: UTF-8\n",
       "Language: en\n",
       "Country: null\n",
       "--></g></svg>"
      ]
     },
     "execution_count": 13,
     "metadata": {},
     "output_type": "execute_result"
    }
   ],
   "source": [
    "%viz --style=\"POLYLINE\" --view=\"Action\" \"DependencyTest\""
   ]
  },
  {
   "cell_type": "code",
   "execution_count": 14,
   "id": "36cf83e8",
   "metadata": {
    "execution": {
     "iopub.execute_input": "2021-05-27T06:11:46.680423Z",
     "iopub.status.busy": "2021-05-27T06:11:46.679884Z",
     "iopub.status.idle": "2021-05-27T06:11:46.735426Z",
     "shell.execute_reply": "2021-05-27T06:11:46.735066Z"
    }
   },
   "outputs": [
    {
     "data": {
      "image/svg+xml": [
       "<?xml version=\"1.0\" encoding=\"UTF-8\" standalone=\"no\"?><svg xmlns=\"http://www.w3.org/2000/svg\" xmlns:xlink=\"http://www.w3.org/1999/xlink\" contentScriptType=\"application/ecmascript\" contentStyleType=\"text/css\" height=\"449px\" preserveAspectRatio=\"none\" style=\"width:489px;height:449px;\" version=\"1.1\" viewBox=\"0 0 489 449\" width=\"489px\" zoomAndPan=\"magnify\"><defs/><g><!--MD5=[fbc87193dbaf4d95561dea2c320d4a47]\n",
       "cluster E1--><a href=\"psysml:f9a8e327-3c68-43cc-8fc4-f0fda4441472\" target=\"_top\" title=\"psysml:f9a8e327-3c68-43cc-8fc4-f0fda4441472\" xlink:actuate=\"onRequest\" xlink:href=\"psysml:f9a8e327-3c68-43cc-8fc4-f0fda4441472\" xlink:show=\"new\" xlink:title=\"psysml:f9a8e327-3c68-43cc-8fc4-f0fda4441472\" xlink:type=\"simple\"><polygon fill=\"#FFFFFF\" points=\"16,6,156,6,163,28.2969,467,28.2969,467,437,16,437,16,6\" style=\"stroke: #000000; stroke-width: 1.5;\"/><line style=\"stroke: #000000; stroke-width: 1.5;\" x1=\"16\" x2=\"163\" y1=\"28.2969\" y2=\"28.2969\"/><text fill=\"#000000\" font-family=\"sans-serif\" font-size=\"14\" font-weight=\"bold\" lengthAdjust=\"spacingAndGlyphs\" textLength=\"134\" x=\"20\" y=\"20.9951\">DependencyTest</text></a><!--MD5=[e4f7fae6ed58524ba242bb0b0d3be6b7]\n",
       "cluster E2--><a href=\"psysml:5e0f80f7-1058-4b47-9f4f-e59769b1dff5\" target=\"_top\" title=\"psysml:5e0f80f7-1058-4b47-9f4f-e59769b1dff5\" xlink:actuate=\"onRequest\" xlink:href=\"psysml:5e0f80f7-1058-4b47-9f4f-e59769b1dff5\" xlink:show=\"new\" xlink:title=\"psysml:5e0f80f7-1058-4b47-9f4f-e59769b1dff5\" xlink:type=\"simple\"><polygon fill=\"#FFFFFF\" points=\"255,49,319,49,326,71.2969,443,71.2969,443,413,255,413,255,49\" style=\"stroke: #000000; stroke-width: 1.5;\"/><line style=\"stroke: #000000; stroke-width: 1.5;\" x1=\"255\" x2=\"326\" y1=\"71.2969\" y2=\"71.2969\"/><text fill=\"#000000\" font-family=\"sans-serif\" font-size=\"14\" font-weight=\"bold\" lengthAdjust=\"spacingAndGlyphs\" textLength=\"58\" x=\"259\" y=\"63.9951\">System</text></a><!--MD5=[60a26617385b1d2d0262a64233df1f8d]\n",
       "class E6--><a href=\"psysml:52169dc2-f588-4d36-bb4d-934125a8defa\" target=\"_top\" title=\"psysml:52169dc2-f588-4d36-bb4d-934125a8defa\" xlink:actuate=\"onRequest\" xlink:href=\"psysml:52169dc2-f588-4d36-bb4d-934125a8defa\" xlink:show=\"new\" xlink:title=\"psysml:52169dc2-f588-4d36-bb4d-934125a8defa\" xlink:type=\"simple\"><rect fill=\"#FFFFFF\" height=\"45.9375\" id=\"E6\" rx=\"10\" ry=\"10\" style=\"stroke: #383838; stroke-width: 1.5;\" width=\"71\" x=\"32.5\" y=\"217.5\"/><text fill=\"#000000\" font-family=\"sans-serif\" font-size=\"12\" font-style=\"italic\" lengthAdjust=\"spacingAndGlyphs\" textLength=\"69\" x=\"33.5\" y=\"233.6387\">«attribute»</text><text fill=\"#000000\" font-family=\"sans-serif\" font-size=\"12\" lengthAdjust=\"spacingAndGlyphs\" textLength=\"6\" x=\"65\" y=\"247.6074\">x</text><line style=\"stroke: #383838; stroke-width: 1.5;\" x1=\"33.5\" x2=\"102.5\" y1=\"255.4375\" y2=\"255.4375\"/></a><!--MD5=[2156ba9850f5573cc1fc38a6a4b2f02b]\n",
       "class E7--><a href=\"psysml:638ee95e-a488-4c6b-8aa7-581f6cf4c2fe\" target=\"_top\" title=\"psysml:638ee95e-a488-4c6b-8aa7-581f6cf4c2fe\" xlink:actuate=\"onRequest\" xlink:href=\"psysml:638ee95e-a488-4c6b-8aa7-581f6cf4c2fe\" xlink:show=\"new\" xlink:title=\"psysml:638ee95e-a488-4c6b-8aa7-581f6cf4c2fe\" xlink:type=\"simple\"><rect fill=\"#FFFFFF\" height=\"45.9375\" id=\"E7\" rx=\"10\" ry=\"10\" style=\"stroke: #383838; stroke-width: 1.5;\" width=\"71\" x=\"138.5\" y=\"217.5\"/><text fill=\"#000000\" font-family=\"sans-serif\" font-size=\"12\" font-style=\"italic\" lengthAdjust=\"spacingAndGlyphs\" textLength=\"69\" x=\"139.5\" y=\"233.6387\">«attribute»</text><text fill=\"#000000\" font-family=\"sans-serif\" font-size=\"12\" lengthAdjust=\"spacingAndGlyphs\" textLength=\"6\" x=\"171\" y=\"247.6074\">y</text><line style=\"stroke: #383838; stroke-width: 1.5;\" x1=\"139.5\" x2=\"208.5\" y1=\"255.4375\" y2=\"255.4375\"/></a><!--MD5=[b9389687b975829384b498ac4b7476b2]\n",
       "class E8--><a href=\"psysml:267f67df-ceab-4f9b-9288-379f8b6d76cc\" target=\"_top\" title=\"psysml:267f67df-ceab-4f9b-9288-379f8b6d76cc\" xlink:actuate=\"onRequest\" xlink:href=\"psysml:267f67df-ceab-4f9b-9288-379f8b6d76cc\" xlink:show=\"new\" xlink:title=\"psysml:267f67df-ceab-4f9b-9288-379f8b6d76cc\" xlink:type=\"simple\"><rect fill=\"#FFFFFF\" height=\"45.9375\" id=\"E8\" rx=\"10\" ry=\"10\" style=\"stroke: #383838; stroke-width: 1.5;\" width=\"71\" x=\"84.5\" y=\"87.5\"/><text fill=\"#000000\" font-family=\"sans-serif\" font-size=\"12\" font-style=\"italic\" lengthAdjust=\"spacingAndGlyphs\" textLength=\"69\" x=\"85.5\" y=\"103.6387\">«attribute»</text><text fill=\"#000000\" font-family=\"sans-serif\" font-size=\"12\" lengthAdjust=\"spacingAndGlyphs\" textLength=\"5\" x=\"117.5\" y=\"117.6074\">z</text><line style=\"stroke: #383838; stroke-width: 1.5;\" x1=\"85.5\" x2=\"154.5\" y1=\"125.4375\" y2=\"125.4375\"/></a><a href=\"psysml:d7cd1111-165d-4c09-9c1d-1c6e69d6b628\" target=\"_top\" title=\"psysml:d7cd1111-165d-4c09-9c1d-1c6e69d6b628\" xlink:actuate=\"onRequest\" xlink:href=\"psysml:d7cd1111-165d-4c09-9c1d-1c6e69d6b628\" xlink:show=\"new\" xlink:title=\"psysml:d7cd1111-165d-4c09-9c1d-1c6e69d6b628\" xlink:type=\"simple\"><polygon fill=\"#FFFFFF\" points=\"271,84,413,84,420,106.2969,427,106.2969,427,136.5938,271,136.5938,271,84\" style=\"stroke: #000000; stroke-width: 1.5;\"/><line style=\"stroke: #000000; stroke-width: 1.5;\" x1=\"271\" x2=\"420\" y1=\"106.2969\" y2=\"106.2969\"/><text fill=\"#000000\" font-family=\"sans-serif\" font-size=\"14\" font-weight=\"bold\" lengthAdjust=\"spacingAndGlyphs\" textLength=\"136\" x=\"275\" y=\"98.9951\">Application Layer</text></a><a href=\"psysml:4fd532ef-c056-48ed-b57e-c34d41c7d9b0\" target=\"_top\" title=\"psysml:4fd532ef-c056-48ed-b57e-c34d41c7d9b0\" xlink:actuate=\"onRequest\" xlink:href=\"psysml:4fd532ef-c056-48ed-b57e-c34d41c7d9b0\" xlink:show=\"new\" xlink:title=\"psysml:4fd532ef-c056-48ed-b57e-c34d41c7d9b0\" xlink:type=\"simple\"><polygon fill=\"#FFFFFF\" points=\"285,214,399,214,406,236.2969,413,236.2969,413,266.5938,285,266.5938,285,214\" style=\"stroke: #000000; stroke-width: 1.5;\"/><line style=\"stroke: #000000; stroke-width: 1.5;\" x1=\"285\" x2=\"406\" y1=\"236.2969\" y2=\"236.2969\"/><text fill=\"#000000\" font-family=\"sans-serif\" font-size=\"14\" font-weight=\"bold\" lengthAdjust=\"spacingAndGlyphs\" textLength=\"108\" x=\"289\" y=\"228.9951\">Service Layer</text></a><a href=\"psysml:f10bbfff-f917-435f-bbe7-eedf9b14a34c\" target=\"_top\" title=\"psysml:f10bbfff-f917-435f-bbe7-eedf9b14a34c\" xlink:actuate=\"onRequest\" xlink:href=\"psysml:f10bbfff-f917-435f-bbe7-eedf9b14a34c\" xlink:show=\"new\" xlink:title=\"psysml:f10bbfff-f917-435f-bbe7-eedf9b14a34c\" xlink:type=\"simple\"><polygon fill=\"#FFFFFF\" points=\"297,344,387,344,394,366.2969,401,366.2969,401,396.5938,297,396.5938,297,344\" style=\"stroke: #000000; stroke-width: 1.5;\"/><line style=\"stroke: #000000; stroke-width: 1.5;\" x1=\"297\" x2=\"394\" y1=\"366.2969\" y2=\"366.2969\"/><text fill=\"#000000\" font-family=\"sans-serif\" font-size=\"14\" font-weight=\"bold\" lengthAdjust=\"spacingAndGlyphs\" textLength=\"84\" x=\"301\" y=\"358.9951\">Data Layer</text></a><!--MD5=[af87c684e3b0d8be13c1a698a818ef1e]\n",
       "link E3 to E4--><a href=\"psysml:d6fef634-817c-4ef1-96de-f37bb594aaea\" target=\"_top\" title=\"psysml:d6fef634-817c-4ef1-96de-f37bb594aaea\" xlink:actuate=\"onRequest\" xlink:href=\"psysml:d6fef634-817c-4ef1-96de-f37bb594aaea\" xlink:show=\"new\" xlink:title=\"psysml:d6fef634-817c-4ef1-96de-f37bb594aaea\" xlink:type=\"simple\"><path d=\"M349,137.1 C349,156.8 349,184.22 349,205.73 \" fill=\"none\" id=\"E3-&gt;E4\" style=\"stroke: #383838; stroke-width: 1.0; stroke-dasharray: 7.0,7.0;\"/><polygon fill=\"#383838\" points=\"349,213.95,352,205.95,346,205.95,349,213.95\" style=\"stroke: #383838; stroke-width: 1.0;\"/><text fill=\"#000000\" font-family=\"sans-serif\" font-size=\"13\" lengthAdjust=\"spacingAndGlyphs\" textLength=\"64\" x=\"350\" y=\"180.0669\">«depend»</text></a><!--MD5=[1b7591eae5389033d8d09a9d6721a717]\n",
       "link E4 to E5--><a href=\"psysml:d4b689e0-de38-42ab-a0b3-2a8bf82e0669\" target=\"_top\" title=\"psysml:d4b689e0-de38-42ab-a0b3-2a8bf82e0669\" xlink:actuate=\"onRequest\" xlink:href=\"psysml:d4b689e0-de38-42ab-a0b3-2a8bf82e0669\" xlink:show=\"new\" xlink:title=\"psysml:d4b689e0-de38-42ab-a0b3-2a8bf82e0669\" xlink:type=\"simple\"><path d=\"M349,267.1 C349,286.8 349,314.22 349,335.73 \" fill=\"none\" id=\"E4-&gt;E5\" style=\"stroke: #383838; stroke-width: 1.0; stroke-dasharray: 7.0,7.0;\"/><polygon fill=\"#383838\" points=\"349,343.95,352,335.95,346,335.95,349,343.95\" style=\"stroke: #383838; stroke-width: 1.0;\"/><text fill=\"#000000\" font-family=\"sans-serif\" font-size=\"13\" lengthAdjust=\"spacingAndGlyphs\" textLength=\"64\" x=\"350\" y=\"310.0669\">«depend»</text></a><!--MD5=[c5e8897d989ce984f93528998a7150fe]\n",
       "link E8 to E6--><a href=\"psysml:c74e1bf4-ee72-40a7-b163-07732e38ed67\" target=\"_top\" title=\"psysml:c74e1bf4-ee72-40a7-b163-07732e38ed67\" xlink:actuate=\"onRequest\" xlink:href=\"psysml:c74e1bf4-ee72-40a7-b163-07732e38ed67\" xlink:show=\"new\" xlink:title=\"psysml:c74e1bf4-ee72-40a7-b163-07732e38ed67\" xlink:type=\"simple\"><path d=\"M97.55,133.75 C81.97,149.19 64,167 64,167 C64,167 64,184 64,184 C64,184 64.88,196.21 65.81,209.18 \" fill=\"none\" id=\"E8-&gt;E6\" style=\"stroke: #383838; stroke-width: 1.0; stroke-dasharray: 7.0,7.0;\"/><polygon fill=\"#383838\" points=\"66.4,217.25,68.8203,209.056,62.8357,209.485,66.4,217.25\" style=\"stroke: #383838; stroke-width: 1.0;\"/><text fill=\"#000000\" font-family=\"sans-serif\" font-size=\"13\" lengthAdjust=\"spacingAndGlyphs\" textLength=\"64\" x=\"65\" y=\"180.0669\">«depend»</text></a><!--MD5=[bfa3c8b0d15052fdf50ae9310b491027]\n",
       "link E8 to E7--><a href=\"psysml:c74e1bf4-ee72-40a7-b163-07732e38ed67\" target=\"_top\" title=\"psysml:c74e1bf4-ee72-40a7-b163-07732e38ed67\" xlink:actuate=\"onRequest\" xlink:href=\"psysml:c74e1bf4-ee72-40a7-b163-07732e38ed67\" xlink:show=\"new\" xlink:title=\"psysml:c74e1bf4-ee72-40a7-b163-07732e38ed67\" xlink:type=\"simple\"><path d=\"M129.28,133.5 C138.17,154.57 151.64,186.5 161.47,209.81 \" fill=\"none\" id=\"E8-&gt;E7\" style=\"stroke: #383838; stroke-width: 1.0; stroke-dasharray: 7.0,7.0;\"/><polygon fill=\"#383838\" points=\"164.66,217.35,164.3241,208.8126,158.7933,211.1385,164.66,217.35\" style=\"stroke: #383838; stroke-width: 1.0;\"/><text fill=\"#000000\" font-family=\"sans-serif\" font-size=\"13\" lengthAdjust=\"spacingAndGlyphs\" textLength=\"64\" x=\"151\" y=\"180.0669\">«depend»</text></a><!--MD5=[756e30c5392ddba256095eabde062531]\n",
       "@startuml\r\n",
       "skinparam linetype polyline\r\n",
       "skinparam monochrome true\r\n",
       "skinparam classbackgroundcolor white\r\n",
       "skinparam shadowing false\r\n",
       "skinparam wrapWidth 300\r\n",
       "hide circle\r\n",
       "\r\n",
       "package \"DependencyTest\" as E1  [[psysml:f9a8e327-3c68-43cc-8fc4-f0fda4441472 ]]  {\r\n",
       "package \"System\" as E2  [[psysml:5e0f80f7-1058-4b47-9f4f-e59769b1dff5 ]]  {\r\n",
       "package \"Application Layer\" as E3  [[psysml:d7cd1111-165d-4c09-9c1d-1c6e69d6b628 ]]  {\r\n",
       "}\r\n",
       "package \"Service Layer\" as E4  [[psysml:4fd532ef-c056-48ed-b57e-c34d41c7d9b0 ]]  {\r\n",
       "}\r\n",
       "package \"Data Layer\" as E5  [[psysml:f10bbfff-f917-435f-bbe7-eedf9b14a34c ]]  {\r\n",
       "}\r\n",
       "}\r\n",
       "comp usage \"x\" as E6  <<(T,blue)attribute>> [[psysml:52169dc2-f588-4d36-bb4d-934125a8defa ]] {\r\n",
       "}\r\n",
       "comp usage \"y\" as E7  <<(T,blue)attribute>> [[psysml:638ee95e-a488-4c6b-8aa7-581f6cf4c2fe ]] {\r\n",
       "}\r\n",
       "comp usage \"z\" as E8  <<(T,blue)attribute>> [[psysml:267f67df-ceab-4f9b-9288-379f8b6d76cc ]] {\r\n",
       "}\r\n",
       "E3 ..>> E4 [[psysml:d6fef634-817c-4ef1-96de-f37bb594aaea ]] : <<depend>>\r\n",
       "E4 ..>> E5 [[psysml:d4b689e0-de38-42ab-a0b3-2a8bf82e0669 ]] : <<depend>>\r\n",
       "E8 ..>> E6 [[psysml:c74e1bf4-ee72-40a7-b163-07732e38ed67 ]] : <<depend>>\r\n",
       "E8 ..>> E7 [[psysml:c74e1bf4-ee72-40a7-b163-07732e38ed67 ]] : <<depend>>\r\n",
       "}\r\n",
       "@enduml\r\n",
       "\n",
       "PlantUML version 1.2020.13(Sat Jun 13 12:26:38 UTC 2020)\n",
       "(EPL source distribution)\n",
       "Java Runtime: OpenJDK Runtime Environment\n",
       "JVM: OpenJDK 64-Bit Server VM\n",
       "Default Encoding: UTF-8\n",
       "Language: en\n",
       "Country: null\n",
       "--></g></svg>"
      ]
     },
     "execution_count": 14,
     "metadata": {},
     "output_type": "execute_result"
    }
   ],
   "source": [
    "%viz --style=\"POLYLINE\" --view=\"Sequence\" \"DependencyTest\""
   ]
  },
  {
   "cell_type": "code",
   "execution_count": 15,
   "id": "232cbbb5",
   "metadata": {
    "execution": {
     "iopub.execute_input": "2021-05-27T06:11:46.785950Z",
     "iopub.status.busy": "2021-05-27T06:11:46.785604Z",
     "iopub.status.idle": "2021-05-27T06:11:46.822741Z",
     "shell.execute_reply": "2021-05-27T06:11:46.821472Z"
    }
   },
   "outputs": [
    {
     "data": {
      "image/svg+xml": [
       "<?xml version=\"1.0\" encoding=\"UTF-8\" standalone=\"no\"?><svg xmlns=\"http://www.w3.org/2000/svg\" xmlns:xlink=\"http://www.w3.org/1999/xlink\" contentScriptType=\"application/ecmascript\" contentStyleType=\"text/css\" height=\"449px\" preserveAspectRatio=\"none\" style=\"width:489px;height:449px;\" version=\"1.1\" viewBox=\"0 0 489 449\" width=\"489px\" zoomAndPan=\"magnify\"><defs/><g><!--MD5=[fbc87193dbaf4d95561dea2c320d4a47]\n",
       "cluster E1--><a href=\"psysml:f9a8e327-3c68-43cc-8fc4-f0fda4441472\" target=\"_top\" title=\"psysml:f9a8e327-3c68-43cc-8fc4-f0fda4441472\" xlink:actuate=\"onRequest\" xlink:href=\"psysml:f9a8e327-3c68-43cc-8fc4-f0fda4441472\" xlink:show=\"new\" xlink:title=\"psysml:f9a8e327-3c68-43cc-8fc4-f0fda4441472\" xlink:type=\"simple\"><polygon fill=\"#FFFFFF\" points=\"16,6,156,6,163,28.2969,467,28.2969,467,437,16,437,16,6\" style=\"stroke: #000000; stroke-width: 1.5;\"/><line style=\"stroke: #000000; stroke-width: 1.5;\" x1=\"16\" x2=\"163\" y1=\"28.2969\" y2=\"28.2969\"/><text fill=\"#000000\" font-family=\"sans-serif\" font-size=\"14\" font-weight=\"bold\" lengthAdjust=\"spacingAndGlyphs\" textLength=\"134\" x=\"20\" y=\"20.9951\">DependencyTest</text></a><!--MD5=[e4f7fae6ed58524ba242bb0b0d3be6b7]\n",
       "cluster E2--><a href=\"psysml:5e0f80f7-1058-4b47-9f4f-e59769b1dff5\" target=\"_top\" title=\"psysml:5e0f80f7-1058-4b47-9f4f-e59769b1dff5\" xlink:actuate=\"onRequest\" xlink:href=\"psysml:5e0f80f7-1058-4b47-9f4f-e59769b1dff5\" xlink:show=\"new\" xlink:title=\"psysml:5e0f80f7-1058-4b47-9f4f-e59769b1dff5\" xlink:type=\"simple\"><polygon fill=\"#FFFFFF\" points=\"255,49,319,49,326,71.2969,443,71.2969,443,413,255,413,255,49\" style=\"stroke: #000000; stroke-width: 1.5;\"/><line style=\"stroke: #000000; stroke-width: 1.5;\" x1=\"255\" x2=\"326\" y1=\"71.2969\" y2=\"71.2969\"/><text fill=\"#000000\" font-family=\"sans-serif\" font-size=\"14\" font-weight=\"bold\" lengthAdjust=\"spacingAndGlyphs\" textLength=\"58\" x=\"259\" y=\"63.9951\">System</text></a><!--MD5=[60a26617385b1d2d0262a64233df1f8d]\n",
       "class E6--><a href=\"psysml:52169dc2-f588-4d36-bb4d-934125a8defa\" target=\"_top\" title=\"psysml:52169dc2-f588-4d36-bb4d-934125a8defa\" xlink:actuate=\"onRequest\" xlink:href=\"psysml:52169dc2-f588-4d36-bb4d-934125a8defa\" xlink:show=\"new\" xlink:title=\"psysml:52169dc2-f588-4d36-bb4d-934125a8defa\" xlink:type=\"simple\"><rect fill=\"#FFFFFF\" height=\"45.9375\" id=\"E6\" rx=\"10\" ry=\"10\" style=\"stroke: #383838; stroke-width: 1.5;\" width=\"71\" x=\"32.5\" y=\"217.5\"/><text fill=\"#000000\" font-family=\"sans-serif\" font-size=\"12\" font-style=\"italic\" lengthAdjust=\"spacingAndGlyphs\" textLength=\"69\" x=\"33.5\" y=\"233.6387\">«attribute»</text><text fill=\"#000000\" font-family=\"sans-serif\" font-size=\"12\" lengthAdjust=\"spacingAndGlyphs\" textLength=\"6\" x=\"65\" y=\"247.6074\">x</text><line style=\"stroke: #383838; stroke-width: 1.5;\" x1=\"33.5\" x2=\"102.5\" y1=\"255.4375\" y2=\"255.4375\"/></a><!--MD5=[2156ba9850f5573cc1fc38a6a4b2f02b]\n",
       "class E7--><a href=\"psysml:638ee95e-a488-4c6b-8aa7-581f6cf4c2fe\" target=\"_top\" title=\"psysml:638ee95e-a488-4c6b-8aa7-581f6cf4c2fe\" xlink:actuate=\"onRequest\" xlink:href=\"psysml:638ee95e-a488-4c6b-8aa7-581f6cf4c2fe\" xlink:show=\"new\" xlink:title=\"psysml:638ee95e-a488-4c6b-8aa7-581f6cf4c2fe\" xlink:type=\"simple\"><rect fill=\"#FFFFFF\" height=\"45.9375\" id=\"E7\" rx=\"10\" ry=\"10\" style=\"stroke: #383838; stroke-width: 1.5;\" width=\"71\" x=\"138.5\" y=\"217.5\"/><text fill=\"#000000\" font-family=\"sans-serif\" font-size=\"12\" font-style=\"italic\" lengthAdjust=\"spacingAndGlyphs\" textLength=\"69\" x=\"139.5\" y=\"233.6387\">«attribute»</text><text fill=\"#000000\" font-family=\"sans-serif\" font-size=\"12\" lengthAdjust=\"spacingAndGlyphs\" textLength=\"6\" x=\"171\" y=\"247.6074\">y</text><line style=\"stroke: #383838; stroke-width: 1.5;\" x1=\"139.5\" x2=\"208.5\" y1=\"255.4375\" y2=\"255.4375\"/></a><!--MD5=[b9389687b975829384b498ac4b7476b2]\n",
       "class E8--><a href=\"psysml:267f67df-ceab-4f9b-9288-379f8b6d76cc\" target=\"_top\" title=\"psysml:267f67df-ceab-4f9b-9288-379f8b6d76cc\" xlink:actuate=\"onRequest\" xlink:href=\"psysml:267f67df-ceab-4f9b-9288-379f8b6d76cc\" xlink:show=\"new\" xlink:title=\"psysml:267f67df-ceab-4f9b-9288-379f8b6d76cc\" xlink:type=\"simple\"><rect fill=\"#FFFFFF\" height=\"45.9375\" id=\"E8\" rx=\"10\" ry=\"10\" style=\"stroke: #383838; stroke-width: 1.5;\" width=\"71\" x=\"84.5\" y=\"87.5\"/><text fill=\"#000000\" font-family=\"sans-serif\" font-size=\"12\" font-style=\"italic\" lengthAdjust=\"spacingAndGlyphs\" textLength=\"69\" x=\"85.5\" y=\"103.6387\">«attribute»</text><text fill=\"#000000\" font-family=\"sans-serif\" font-size=\"12\" lengthAdjust=\"spacingAndGlyphs\" textLength=\"5\" x=\"117.5\" y=\"117.6074\">z</text><line style=\"stroke: #383838; stroke-width: 1.5;\" x1=\"85.5\" x2=\"154.5\" y1=\"125.4375\" y2=\"125.4375\"/></a><a href=\"psysml:d7cd1111-165d-4c09-9c1d-1c6e69d6b628\" target=\"_top\" title=\"psysml:d7cd1111-165d-4c09-9c1d-1c6e69d6b628\" xlink:actuate=\"onRequest\" xlink:href=\"psysml:d7cd1111-165d-4c09-9c1d-1c6e69d6b628\" xlink:show=\"new\" xlink:title=\"psysml:d7cd1111-165d-4c09-9c1d-1c6e69d6b628\" xlink:type=\"simple\"><polygon fill=\"#FFFFFF\" points=\"271,84,413,84,420,106.2969,427,106.2969,427,136.5938,271,136.5938,271,84\" style=\"stroke: #000000; stroke-width: 1.5;\"/><line style=\"stroke: #000000; stroke-width: 1.5;\" x1=\"271\" x2=\"420\" y1=\"106.2969\" y2=\"106.2969\"/><text fill=\"#000000\" font-family=\"sans-serif\" font-size=\"14\" font-weight=\"bold\" lengthAdjust=\"spacingAndGlyphs\" textLength=\"136\" x=\"275\" y=\"98.9951\">Application Layer</text></a><a href=\"psysml:4fd532ef-c056-48ed-b57e-c34d41c7d9b0\" target=\"_top\" title=\"psysml:4fd532ef-c056-48ed-b57e-c34d41c7d9b0\" xlink:actuate=\"onRequest\" xlink:href=\"psysml:4fd532ef-c056-48ed-b57e-c34d41c7d9b0\" xlink:show=\"new\" xlink:title=\"psysml:4fd532ef-c056-48ed-b57e-c34d41c7d9b0\" xlink:type=\"simple\"><polygon fill=\"#FFFFFF\" points=\"285,214,399,214,406,236.2969,413,236.2969,413,266.5938,285,266.5938,285,214\" style=\"stroke: #000000; stroke-width: 1.5;\"/><line style=\"stroke: #000000; stroke-width: 1.5;\" x1=\"285\" x2=\"406\" y1=\"236.2969\" y2=\"236.2969\"/><text fill=\"#000000\" font-family=\"sans-serif\" font-size=\"14\" font-weight=\"bold\" lengthAdjust=\"spacingAndGlyphs\" textLength=\"108\" x=\"289\" y=\"228.9951\">Service Layer</text></a><a href=\"psysml:f10bbfff-f917-435f-bbe7-eedf9b14a34c\" target=\"_top\" title=\"psysml:f10bbfff-f917-435f-bbe7-eedf9b14a34c\" xlink:actuate=\"onRequest\" xlink:href=\"psysml:f10bbfff-f917-435f-bbe7-eedf9b14a34c\" xlink:show=\"new\" xlink:title=\"psysml:f10bbfff-f917-435f-bbe7-eedf9b14a34c\" xlink:type=\"simple\"><polygon fill=\"#FFFFFF\" points=\"297,344,387,344,394,366.2969,401,366.2969,401,396.5938,297,396.5938,297,344\" style=\"stroke: #000000; stroke-width: 1.5;\"/><line style=\"stroke: #000000; stroke-width: 1.5;\" x1=\"297\" x2=\"394\" y1=\"366.2969\" y2=\"366.2969\"/><text fill=\"#000000\" font-family=\"sans-serif\" font-size=\"14\" font-weight=\"bold\" lengthAdjust=\"spacingAndGlyphs\" textLength=\"84\" x=\"301\" y=\"358.9951\">Data Layer</text></a><!--MD5=[af87c684e3b0d8be13c1a698a818ef1e]\n",
       "link E3 to E4--><a href=\"psysml:d6fef634-817c-4ef1-96de-f37bb594aaea\" target=\"_top\" title=\"psysml:d6fef634-817c-4ef1-96de-f37bb594aaea\" xlink:actuate=\"onRequest\" xlink:href=\"psysml:d6fef634-817c-4ef1-96de-f37bb594aaea\" xlink:show=\"new\" xlink:title=\"psysml:d6fef634-817c-4ef1-96de-f37bb594aaea\" xlink:type=\"simple\"><path d=\"M349,137.1 C349,156.8 349,184.22 349,205.73 \" fill=\"none\" id=\"E3-&gt;E4\" style=\"stroke: #383838; stroke-width: 1.0; stroke-dasharray: 7.0,7.0;\"/><polygon fill=\"#383838\" points=\"349,213.95,352,205.95,346,205.95,349,213.95\" style=\"stroke: #383838; stroke-width: 1.0;\"/><text fill=\"#000000\" font-family=\"sans-serif\" font-size=\"13\" lengthAdjust=\"spacingAndGlyphs\" textLength=\"64\" x=\"350\" y=\"180.0669\">«depend»</text></a><!--MD5=[1b7591eae5389033d8d09a9d6721a717]\n",
       "link E4 to E5--><a href=\"psysml:d4b689e0-de38-42ab-a0b3-2a8bf82e0669\" target=\"_top\" title=\"psysml:d4b689e0-de38-42ab-a0b3-2a8bf82e0669\" xlink:actuate=\"onRequest\" xlink:href=\"psysml:d4b689e0-de38-42ab-a0b3-2a8bf82e0669\" xlink:show=\"new\" xlink:title=\"psysml:d4b689e0-de38-42ab-a0b3-2a8bf82e0669\" xlink:type=\"simple\"><path d=\"M349,267.1 C349,286.8 349,314.22 349,335.73 \" fill=\"none\" id=\"E4-&gt;E5\" style=\"stroke: #383838; stroke-width: 1.0; stroke-dasharray: 7.0,7.0;\"/><polygon fill=\"#383838\" points=\"349,343.95,352,335.95,346,335.95,349,343.95\" style=\"stroke: #383838; stroke-width: 1.0;\"/><text fill=\"#000000\" font-family=\"sans-serif\" font-size=\"13\" lengthAdjust=\"spacingAndGlyphs\" textLength=\"64\" x=\"350\" y=\"310.0669\">«depend»</text></a><!--MD5=[c5e8897d989ce984f93528998a7150fe]\n",
       "link E8 to E6--><a href=\"psysml:c74e1bf4-ee72-40a7-b163-07732e38ed67\" target=\"_top\" title=\"psysml:c74e1bf4-ee72-40a7-b163-07732e38ed67\" xlink:actuate=\"onRequest\" xlink:href=\"psysml:c74e1bf4-ee72-40a7-b163-07732e38ed67\" xlink:show=\"new\" xlink:title=\"psysml:c74e1bf4-ee72-40a7-b163-07732e38ed67\" xlink:type=\"simple\"><path d=\"M97.55,133.75 C81.97,149.19 64,167 64,167 C64,167 64,184 64,184 C64,184 64.88,196.21 65.81,209.18 \" fill=\"none\" id=\"E8-&gt;E6\" style=\"stroke: #383838; stroke-width: 1.0; stroke-dasharray: 7.0,7.0;\"/><polygon fill=\"#383838\" points=\"66.4,217.25,68.8203,209.056,62.8357,209.485,66.4,217.25\" style=\"stroke: #383838; stroke-width: 1.0;\"/><text fill=\"#000000\" font-family=\"sans-serif\" font-size=\"13\" lengthAdjust=\"spacingAndGlyphs\" textLength=\"64\" x=\"65\" y=\"180.0669\">«depend»</text></a><!--MD5=[bfa3c8b0d15052fdf50ae9310b491027]\n",
       "link E8 to E7--><a href=\"psysml:c74e1bf4-ee72-40a7-b163-07732e38ed67\" target=\"_top\" title=\"psysml:c74e1bf4-ee72-40a7-b163-07732e38ed67\" xlink:actuate=\"onRequest\" xlink:href=\"psysml:c74e1bf4-ee72-40a7-b163-07732e38ed67\" xlink:show=\"new\" xlink:title=\"psysml:c74e1bf4-ee72-40a7-b163-07732e38ed67\" xlink:type=\"simple\"><path d=\"M129.28,133.5 C138.17,154.57 151.64,186.5 161.47,209.81 \" fill=\"none\" id=\"E8-&gt;E7\" style=\"stroke: #383838; stroke-width: 1.0; stroke-dasharray: 7.0,7.0;\"/><polygon fill=\"#383838\" points=\"164.66,217.35,164.3241,208.8126,158.7933,211.1385,164.66,217.35\" style=\"stroke: #383838; stroke-width: 1.0;\"/><text fill=\"#000000\" font-family=\"sans-serif\" font-size=\"13\" lengthAdjust=\"spacingAndGlyphs\" textLength=\"64\" x=\"151\" y=\"180.0669\">«depend»</text></a><!--MD5=[756e30c5392ddba256095eabde062531]\n",
       "@startuml\r\n",
       "skinparam linetype polyline\r\n",
       "skinparam monochrome true\r\n",
       "skinparam classbackgroundcolor white\r\n",
       "skinparam shadowing false\r\n",
       "skinparam wrapWidth 300\r\n",
       "hide circle\r\n",
       "\r\n",
       "package \"DependencyTest\" as E1  [[psysml:f9a8e327-3c68-43cc-8fc4-f0fda4441472 ]]  {\r\n",
       "package \"System\" as E2  [[psysml:5e0f80f7-1058-4b47-9f4f-e59769b1dff5 ]]  {\r\n",
       "package \"Application Layer\" as E3  [[psysml:d7cd1111-165d-4c09-9c1d-1c6e69d6b628 ]]  {\r\n",
       "}\r\n",
       "package \"Service Layer\" as E4  [[psysml:4fd532ef-c056-48ed-b57e-c34d41c7d9b0 ]]  {\r\n",
       "}\r\n",
       "package \"Data Layer\" as E5  [[psysml:f10bbfff-f917-435f-bbe7-eedf9b14a34c ]]  {\r\n",
       "}\r\n",
       "}\r\n",
       "comp usage \"x\" as E6  <<(T,blue)attribute>> [[psysml:52169dc2-f588-4d36-bb4d-934125a8defa ]] {\r\n",
       "}\r\n",
       "comp usage \"y\" as E7  <<(T,blue)attribute>> [[psysml:638ee95e-a488-4c6b-8aa7-581f6cf4c2fe ]] {\r\n",
       "}\r\n",
       "comp usage \"z\" as E8  <<(T,blue)attribute>> [[psysml:267f67df-ceab-4f9b-9288-379f8b6d76cc ]] {\r\n",
       "}\r\n",
       "E3 ..>> E4 [[psysml:d6fef634-817c-4ef1-96de-f37bb594aaea ]] : <<depend>>\r\n",
       "E4 ..>> E5 [[psysml:d4b689e0-de38-42ab-a0b3-2a8bf82e0669 ]] : <<depend>>\r\n",
       "E8 ..>> E6 [[psysml:c74e1bf4-ee72-40a7-b163-07732e38ed67 ]] : <<depend>>\r\n",
       "E8 ..>> E7 [[psysml:c74e1bf4-ee72-40a7-b163-07732e38ed67 ]] : <<depend>>\r\n",
       "}\r\n",
       "@enduml\r\n",
       "\n",
       "PlantUML version 1.2020.13(Sat Jun 13 12:26:38 UTC 2020)\n",
       "(EPL source distribution)\n",
       "Java Runtime: OpenJDK Runtime Environment\n",
       "JVM: OpenJDK 64-Bit Server VM\n",
       "Default Encoding: UTF-8\n",
       "Language: en\n",
       "Country: null\n",
       "--></g></svg>"
      ]
     },
     "execution_count": 15,
     "metadata": {},
     "output_type": "execute_result"
    }
   ],
   "source": [
    "%viz --style=\"POLYLINE\" --view=\"MIXED\" \"DependencyTest\""
   ]
  },
  {
   "cell_type": "code",
   "execution_count": 16,
   "id": "b637cb3a",
   "metadata": {
    "execution": {
     "iopub.execute_input": "2021-05-27T06:11:46.873027Z",
     "iopub.status.busy": "2021-05-27T06:11:46.872688Z",
     "iopub.status.idle": "2021-05-27T06:11:46.907621Z",
     "shell.execute_reply": "2021-05-27T06:11:46.907284Z"
    }
   },
   "outputs": [
    {
     "data": {
      "image/svg+xml": [
       "<?xml version=\"1.0\" encoding=\"UTF-8\" standalone=\"no\"?><svg xmlns=\"http://www.w3.org/2000/svg\" xmlns:xlink=\"http://www.w3.org/1999/xlink\" contentScriptType=\"application/ecmascript\" contentStyleType=\"text/css\" height=\"328px\" preserveAspectRatio=\"none\" style=\"width:758px;height:328px;\" version=\"1.1\" viewBox=\"0 0 758 328\" width=\"758px\" zoomAndPan=\"magnify\"><defs/><g><!--MD5=[fbc87193dbaf4d95561dea2c320d4a47]\n",
       "cluster E1--><a href=\"psysml:f9a8e327-3c68-43cc-8fc4-f0fda4441472\" target=\"_top\" title=\"psysml:f9a8e327-3c68-43cc-8fc4-f0fda4441472\" xlink:actuate=\"onRequest\" xlink:href=\"psysml:f9a8e327-3c68-43cc-8fc4-f0fda4441472\" xlink:show=\"new\" xlink:title=\"psysml:f9a8e327-3c68-43cc-8fc4-f0fda4441472\" xlink:type=\"simple\"><polygon fill=\"#FFFFFF\" points=\"16,6,156,6,163,28.2969,736,28.2969,736,316,16,316,16,6\" style=\"stroke: #000000; stroke-width: 1.5;\"/><line style=\"stroke: #000000; stroke-width: 1.5;\" x1=\"16\" x2=\"163\" y1=\"28.2969\" y2=\"28.2969\"/><text fill=\"#000000\" font-family=\"sans-serif\" font-size=\"14\" font-weight=\"bold\" lengthAdjust=\"spacingAndGlyphs\" textLength=\"134\" x=\"20\" y=\"20.9951\">DependencyTest</text></a><!--MD5=[e4f7fae6ed58524ba242bb0b0d3be6b7]\n",
       "cluster E2--><a href=\"psysml:5e0f80f7-1058-4b47-9f4f-e59769b1dff5\" target=\"_top\" title=\"psysml:5e0f80f7-1058-4b47-9f4f-e59769b1dff5\" xlink:actuate=\"onRequest\" xlink:href=\"psysml:5e0f80f7-1058-4b47-9f4f-e59769b1dff5\" xlink:show=\"new\" xlink:title=\"psysml:5e0f80f7-1058-4b47-9f4f-e59769b1dff5\" xlink:type=\"simple\"><polygon fill=\"#FFFFFF\" points=\"40,49,104,49,111,71.2969,712,71.2969,712,154,40,154,40,49\" style=\"stroke: #000000; stroke-width: 1.5;\"/><line style=\"stroke: #000000; stroke-width: 1.5;\" x1=\"40\" x2=\"111\" y1=\"71.2969\" y2=\"71.2969\"/><text fill=\"#000000\" font-family=\"sans-serif\" font-size=\"14\" font-weight=\"bold\" lengthAdjust=\"spacingAndGlyphs\" textLength=\"58\" x=\"44\" y=\"63.9951\">System</text></a><!--MD5=[60a26617385b1d2d0262a64233df1f8d]\n",
       "class E6--><a href=\"psysml:52169dc2-f588-4d36-bb4d-934125a8defa\" target=\"_top\" title=\"psysml:52169dc2-f588-4d36-bb4d-934125a8defa\" xlink:actuate=\"onRequest\" xlink:href=\"psysml:52169dc2-f588-4d36-bb4d-934125a8defa\" xlink:show=\"new\" xlink:title=\"psysml:52169dc2-f588-4d36-bb4d-934125a8defa\" xlink:type=\"simple\"><rect fill=\"#FFFFFF\" height=\"45.9375\" id=\"E6\" rx=\"10\" ry=\"10\" style=\"stroke: #383838; stroke-width: 1.5;\" width=\"71\" x=\"366.5\" y=\"254\"/><text fill=\"#000000\" font-family=\"sans-serif\" font-size=\"12\" font-style=\"italic\" lengthAdjust=\"spacingAndGlyphs\" textLength=\"69\" x=\"367.5\" y=\"270.1387\">«attribute»</text><text fill=\"#000000\" font-family=\"sans-serif\" font-size=\"12\" lengthAdjust=\"spacingAndGlyphs\" textLength=\"6\" x=\"399\" y=\"284.1074\">x</text><line style=\"stroke: #383838; stroke-width: 1.5;\" x1=\"367.5\" x2=\"436.5\" y1=\"291.9375\" y2=\"291.9375\"/></a><!--MD5=[2156ba9850f5573cc1fc38a6a4b2f02b]\n",
       "class E7--><a href=\"psysml:638ee95e-a488-4c6b-8aa7-581f6cf4c2fe\" target=\"_top\" title=\"psysml:638ee95e-a488-4c6b-8aa7-581f6cf4c2fe\" xlink:actuate=\"onRequest\" xlink:href=\"psysml:638ee95e-a488-4c6b-8aa7-581f6cf4c2fe\" xlink:show=\"new\" xlink:title=\"psysml:638ee95e-a488-4c6b-8aa7-581f6cf4c2fe\" xlink:type=\"simple\"><rect fill=\"#FFFFFF\" height=\"45.9375\" id=\"E7\" rx=\"10\" ry=\"10\" style=\"stroke: #383838; stroke-width: 1.5;\" width=\"71\" x=\"366.5\" y=\"173\"/><text fill=\"#000000\" font-family=\"sans-serif\" font-size=\"12\" font-style=\"italic\" lengthAdjust=\"spacingAndGlyphs\" textLength=\"69\" x=\"367.5\" y=\"189.1387\">«attribute»</text><text fill=\"#000000\" font-family=\"sans-serif\" font-size=\"12\" lengthAdjust=\"spacingAndGlyphs\" textLength=\"6\" x=\"399\" y=\"203.1074\">y</text><line style=\"stroke: #383838; stroke-width: 1.5;\" x1=\"367.5\" x2=\"436.5\" y1=\"210.9375\" y2=\"210.9375\"/></a><!--MD5=[b9389687b975829384b498ac4b7476b2]\n",
       "class E8--><a href=\"psysml:267f67df-ceab-4f9b-9288-379f8b6d76cc\" target=\"_top\" title=\"psysml:267f67df-ceab-4f9b-9288-379f8b6d76cc\" xlink:actuate=\"onRequest\" xlink:href=\"psysml:267f67df-ceab-4f9b-9288-379f8b6d76cc\" xlink:show=\"new\" xlink:title=\"psysml:267f67df-ceab-4f9b-9288-379f8b6d76cc\" xlink:type=\"simple\"><rect fill=\"#FFFFFF\" height=\"45.9375\" id=\"E8\" rx=\"10\" ry=\"10\" style=\"stroke: #383838; stroke-width: 1.5;\" width=\"71\" x=\"98.5\" y=\"206\"/><text fill=\"#000000\" font-family=\"sans-serif\" font-size=\"12\" font-style=\"italic\" lengthAdjust=\"spacingAndGlyphs\" textLength=\"69\" x=\"99.5\" y=\"222.1387\">«attribute»</text><text fill=\"#000000\" font-family=\"sans-serif\" font-size=\"12\" lengthAdjust=\"spacingAndGlyphs\" textLength=\"5\" x=\"131.5\" y=\"236.1074\">z</text><line style=\"stroke: #383838; stroke-width: 1.5;\" x1=\"99.5\" x2=\"168.5\" y1=\"243.9375\" y2=\"243.9375\"/></a><a href=\"psysml:d7cd1111-165d-4c09-9c1d-1c6e69d6b628\" target=\"_top\" title=\"psysml:d7cd1111-165d-4c09-9c1d-1c6e69d6b628\" xlink:actuate=\"onRequest\" xlink:href=\"psysml:d7cd1111-165d-4c09-9c1d-1c6e69d6b628\" xlink:show=\"new\" xlink:title=\"psysml:d7cd1111-165d-4c09-9c1d-1c6e69d6b628\" xlink:type=\"simple\"><polygon fill=\"#FFFFFF\" points=\"56,84.5,198,84.5,205,106.7969,212,106.7969,212,137.0938,56,137.0938,56,84.5\" style=\"stroke: #000000; stroke-width: 1.5;\"/><line style=\"stroke: #000000; stroke-width: 1.5;\" x1=\"56\" x2=\"205\" y1=\"106.7969\" y2=\"106.7969\"/><text fill=\"#000000\" font-family=\"sans-serif\" font-size=\"14\" font-weight=\"bold\" lengthAdjust=\"spacingAndGlyphs\" textLength=\"136\" x=\"60\" y=\"99.4951\">Application Layer</text></a><a href=\"psysml:4fd532ef-c056-48ed-b57e-c34d41c7d9b0\" target=\"_top\" title=\"psysml:4fd532ef-c056-48ed-b57e-c34d41c7d9b0\" xlink:actuate=\"onRequest\" xlink:href=\"psysml:4fd532ef-c056-48ed-b57e-c34d41c7d9b0\" xlink:show=\"new\" xlink:title=\"psysml:4fd532ef-c056-48ed-b57e-c34d41c7d9b0\" xlink:type=\"simple\"><polygon fill=\"#FFFFFF\" points=\"338,84.5,452,84.5,459,106.7969,466,106.7969,466,137.0938,338,137.0938,338,84.5\" style=\"stroke: #000000; stroke-width: 1.5;\"/><line style=\"stroke: #000000; stroke-width: 1.5;\" x1=\"338\" x2=\"459\" y1=\"106.7969\" y2=\"106.7969\"/><text fill=\"#000000\" font-family=\"sans-serif\" font-size=\"14\" font-weight=\"bold\" lengthAdjust=\"spacingAndGlyphs\" textLength=\"108\" x=\"342\" y=\"99.4951\">Service Layer</text></a><a href=\"psysml:f10bbfff-f917-435f-bbe7-eedf9b14a34c\" target=\"_top\" title=\"psysml:f10bbfff-f917-435f-bbe7-eedf9b14a34c\" xlink:actuate=\"onRequest\" xlink:href=\"psysml:f10bbfff-f917-435f-bbe7-eedf9b14a34c\" xlink:show=\"new\" xlink:title=\"psysml:f10bbfff-f917-435f-bbe7-eedf9b14a34c\" xlink:type=\"simple\"><polygon fill=\"#FFFFFF\" points=\"592,84.5,682,84.5,689,106.7969,696,106.7969,696,137.0938,592,137.0938,592,84.5\" style=\"stroke: #000000; stroke-width: 1.5;\"/><line style=\"stroke: #000000; stroke-width: 1.5;\" x1=\"592\" x2=\"689\" y1=\"106.7969\" y2=\"106.7969\"/><text fill=\"#000000\" font-family=\"sans-serif\" font-size=\"14\" font-weight=\"bold\" lengthAdjust=\"spacingAndGlyphs\" textLength=\"84\" x=\"596\" y=\"99.4951\">Data Layer</text></a><!--MD5=[af87c684e3b0d8be13c1a698a818ef1e]\n",
       "link E3 to E4--><a href=\"psysml:d6fef634-817c-4ef1-96de-f37bb594aaea\" target=\"_top\" title=\"psysml:d6fef634-817c-4ef1-96de-f37bb594aaea\" xlink:actuate=\"onRequest\" xlink:href=\"psysml:d6fef634-817c-4ef1-96de-f37bb594aaea\" xlink:show=\"new\" xlink:title=\"psysml:d6fef634-817c-4ef1-96de-f37bb594aaea\" xlink:type=\"simple\"><path d=\"M212.3,111 C249.37,111 293.5,111 329.76,111 \" fill=\"none\" id=\"E3-&gt;E4\" style=\"stroke: #383838; stroke-width: 1.0; stroke-dasharray: 7.0,7.0;\"/><polygon fill=\"#383838\" points=\"337.84,111,329.84,108,329.84,114,337.84,111\" style=\"stroke: #383838; stroke-width: 1.0;\"/><text fill=\"#000000\" font-family=\"sans-serif\" font-size=\"13\" lengthAdjust=\"spacingAndGlyphs\" textLength=\"64\" x=\"243\" y=\"107.0669\">«depend»</text></a><!--MD5=[1b7591eae5389033d8d09a9d6721a717]\n",
       "link E4 to E5--><a href=\"psysml:d4b689e0-de38-42ab-a0b3-2a8bf82e0669\" target=\"_top\" title=\"psysml:d4b689e0-de38-42ab-a0b3-2a8bf82e0669\" xlink:actuate=\"onRequest\" xlink:href=\"psysml:d4b689e0-de38-42ab-a0b3-2a8bf82e0669\" xlink:show=\"new\" xlink:title=\"psysml:d4b689e0-de38-42ab-a0b3-2a8bf82e0669\" xlink:type=\"simple\"><path d=\"M466.06,111 C502.32,111 547.6,111 583.28,111 \" fill=\"none\" id=\"E4-&gt;E5\" style=\"stroke: #383838; stroke-width: 1.0; stroke-dasharray: 7.0,7.0;\"/><polygon fill=\"#383838\" points=\"591.67,111,583.67,108,583.67,114,591.67,111\" style=\"stroke: #383838; stroke-width: 1.0;\"/><text fill=\"#000000\" font-family=\"sans-serif\" font-size=\"13\" lengthAdjust=\"spacingAndGlyphs\" textLength=\"64\" x=\"497\" y=\"107.0669\">«depend»</text></a><!--MD5=[c5e8897d989ce984f93528998a7150fe]\n",
       "link E8 to E6--><a href=\"psysml:c74e1bf4-ee72-40a7-b163-07732e38ed67\" target=\"_top\" title=\"psysml:c74e1bf4-ee72-40a7-b163-07732e38ed67\" xlink:actuate=\"onRequest\" xlink:href=\"psysml:c74e1bf4-ee72-40a7-b163-07732e38ed67\" xlink:show=\"new\" xlink:title=\"psysml:c74e1bf4-ee72-40a7-b163-07732e38ed67\" xlink:type=\"simple\"><path d=\"M169.5,235.23 C217.81,243.94 305.54,259.77 358.03,269.25 \" fill=\"none\" id=\"E8-&gt;E6\" style=\"stroke: #383838; stroke-width: 1.0; stroke-dasharray: 7.0,7.0;\"/><polygon fill=\"#383838\" points=\"366.14,270.71,358.7966,266.3425,357.7356,272.248,366.14,270.71\" style=\"stroke: #383838; stroke-width: 1.0;\"/><text fill=\"#000000\" font-family=\"sans-serif\" font-size=\"13\" lengthAdjust=\"spacingAndGlyphs\" textLength=\"64\" x=\"243\" y=\"245.0669\">«depend»</text></a><!--MD5=[bfa3c8b0d15052fdf50ae9310b491027]\n",
       "link E8 to E7--><a href=\"psysml:c74e1bf4-ee72-40a7-b163-07732e38ed67\" target=\"_top\" title=\"psysml:c74e1bf4-ee72-40a7-b163-07732e38ed67\" xlink:actuate=\"onRequest\" xlink:href=\"psysml:c74e1bf4-ee72-40a7-b163-07732e38ed67\" xlink:show=\"new\" xlink:title=\"psysml:c74e1bf4-ee72-40a7-b163-07732e38ed67\" xlink:type=\"simple\"><path d=\"M169.5,224.72 C217.81,218.73 305.54,207.84 358.03,201.33 \" fill=\"none\" id=\"E8-&gt;E7\" style=\"stroke: #383838; stroke-width: 1.0; stroke-dasharray: 7.0,7.0;\"/><polygon fill=\"#383838\" points=\"366.14,200.33,357.8314,198.3381,358.5704,204.2924,366.14,200.33\" style=\"stroke: #383838; stroke-width: 1.0;\"/><text fill=\"#000000\" font-family=\"sans-serif\" font-size=\"13\" lengthAdjust=\"spacingAndGlyphs\" textLength=\"64\" x=\"243\" y=\"204.0669\">«depend»</text></a><!--MD5=[508fb42afceb6a951d69b79b2fdeae2e]\n",
       "@startuml\r\n",
       "left to right direction\r\n",
       "skinparam monochrome true\r\n",
       "skinparam classbackgroundcolor white\r\n",
       "skinparam shadowing false\r\n",
       "skinparam wrapWidth 300\r\n",
       "hide circle\r\n",
       "\r\n",
       "package \"DependencyTest\" as E1  [[psysml:f9a8e327-3c68-43cc-8fc4-f0fda4441472 ]]  {\r\n",
       "package \"System\" as E2  [[psysml:5e0f80f7-1058-4b47-9f4f-e59769b1dff5 ]]  {\r\n",
       "package \"Application Layer\" as E3  [[psysml:d7cd1111-165d-4c09-9c1d-1c6e69d6b628 ]]  {\r\n",
       "}\r\n",
       "package \"Service Layer\" as E4  [[psysml:4fd532ef-c056-48ed-b57e-c34d41c7d9b0 ]]  {\r\n",
       "}\r\n",
       "package \"Data Layer\" as E5  [[psysml:f10bbfff-f917-435f-bbe7-eedf9b14a34c ]]  {\r\n",
       "}\r\n",
       "}\r\n",
       "comp usage \"x\" as E6  <<(T,blue)attribute>> [[psysml:52169dc2-f588-4d36-bb4d-934125a8defa ]] {\r\n",
       "}\r\n",
       "comp usage \"y\" as E7  <<(T,blue)attribute>> [[psysml:638ee95e-a488-4c6b-8aa7-581f6cf4c2fe ]] {\r\n",
       "}\r\n",
       "comp usage \"z\" as E8  <<(T,blue)attribute>> [[psysml:267f67df-ceab-4f9b-9288-379f8b6d76cc ]] {\r\n",
       "}\r\n",
       "E3 ..>> E4 [[psysml:d6fef634-817c-4ef1-96de-f37bb594aaea ]] : <<depend>>\r\n",
       "E4 ..>> E5 [[psysml:d4b689e0-de38-42ab-a0b3-2a8bf82e0669 ]] : <<depend>>\r\n",
       "E8 ..>> E6 [[psysml:c74e1bf4-ee72-40a7-b163-07732e38ed67 ]] : <<depend>>\r\n",
       "E8 ..>> E7 [[psysml:c74e1bf4-ee72-40a7-b163-07732e38ed67 ]] : <<depend>>\r\n",
       "}\r\n",
       "@enduml\r\n",
       "\n",
       "PlantUML version 1.2020.13(Sat Jun 13 12:26:38 UTC 2020)\n",
       "(EPL source distribution)\n",
       "Java Runtime: OpenJDK Runtime Environment\n",
       "JVM: OpenJDK 64-Bit Server VM\n",
       "Default Encoding: UTF-8\n",
       "Language: en\n",
       "Country: null\n",
       "--></g></svg>"
      ]
     },
     "execution_count": 16,
     "metadata": {},
     "output_type": "execute_result"
    }
   ],
   "source": [
    "%viz --style=\"LR\" --view=\"Default\" \"DependencyTest\""
   ]
  },
  {
   "cell_type": "code",
   "execution_count": 17,
   "id": "1814c0c4",
   "metadata": {
    "execution": {
     "iopub.execute_input": "2021-05-27T06:11:46.958396Z",
     "iopub.status.busy": "2021-05-27T06:11:46.957966Z",
     "iopub.status.idle": "2021-05-27T06:11:46.992829Z",
     "shell.execute_reply": "2021-05-27T06:11:46.992482Z"
    }
   },
   "outputs": [
    {
     "data": {
      "image/svg+xml": [
       "<?xml version=\"1.0\" encoding=\"UTF-8\" standalone=\"no\"?><svg xmlns=\"http://www.w3.org/2000/svg\" xmlns:xlink=\"http://www.w3.org/1999/xlink\" contentScriptType=\"application/ecmascript\" contentStyleType=\"text/css\" height=\"328px\" preserveAspectRatio=\"none\" style=\"width:758px;height:328px;\" version=\"1.1\" viewBox=\"0 0 758 328\" width=\"758px\" zoomAndPan=\"magnify\"><defs/><g><!--MD5=[fbc87193dbaf4d95561dea2c320d4a47]\n",
       "cluster E1--><a href=\"psysml:f9a8e327-3c68-43cc-8fc4-f0fda4441472\" target=\"_top\" title=\"psysml:f9a8e327-3c68-43cc-8fc4-f0fda4441472\" xlink:actuate=\"onRequest\" xlink:href=\"psysml:f9a8e327-3c68-43cc-8fc4-f0fda4441472\" xlink:show=\"new\" xlink:title=\"psysml:f9a8e327-3c68-43cc-8fc4-f0fda4441472\" xlink:type=\"simple\"><polygon fill=\"#FFFFFF\" points=\"16,6,156,6,163,28.2969,736,28.2969,736,316,16,316,16,6\" style=\"stroke: #000000; stroke-width: 1.5;\"/><line style=\"stroke: #000000; stroke-width: 1.5;\" x1=\"16\" x2=\"163\" y1=\"28.2969\" y2=\"28.2969\"/><text fill=\"#000000\" font-family=\"sans-serif\" font-size=\"14\" font-weight=\"bold\" lengthAdjust=\"spacingAndGlyphs\" textLength=\"134\" x=\"20\" y=\"20.9951\">DependencyTest</text></a><!--MD5=[e4f7fae6ed58524ba242bb0b0d3be6b7]\n",
       "cluster E2--><a href=\"psysml:5e0f80f7-1058-4b47-9f4f-e59769b1dff5\" target=\"_top\" title=\"psysml:5e0f80f7-1058-4b47-9f4f-e59769b1dff5\" xlink:actuate=\"onRequest\" xlink:href=\"psysml:5e0f80f7-1058-4b47-9f4f-e59769b1dff5\" xlink:show=\"new\" xlink:title=\"psysml:5e0f80f7-1058-4b47-9f4f-e59769b1dff5\" xlink:type=\"simple\"><polygon fill=\"#FFFFFF\" points=\"40,49,104,49,111,71.2969,712,71.2969,712,154,40,154,40,49\" style=\"stroke: #000000; stroke-width: 1.5;\"/><line style=\"stroke: #000000; stroke-width: 1.5;\" x1=\"40\" x2=\"111\" y1=\"71.2969\" y2=\"71.2969\"/><text fill=\"#000000\" font-family=\"sans-serif\" font-size=\"14\" font-weight=\"bold\" lengthAdjust=\"spacingAndGlyphs\" textLength=\"58\" x=\"44\" y=\"63.9951\">System</text></a><!--MD5=[60a26617385b1d2d0262a64233df1f8d]\n",
       "class E6--><a href=\"psysml:52169dc2-f588-4d36-bb4d-934125a8defa\" target=\"_top\" title=\"psysml:52169dc2-f588-4d36-bb4d-934125a8defa\" xlink:actuate=\"onRequest\" xlink:href=\"psysml:52169dc2-f588-4d36-bb4d-934125a8defa\" xlink:show=\"new\" xlink:title=\"psysml:52169dc2-f588-4d36-bb4d-934125a8defa\" xlink:type=\"simple\"><rect fill=\"#FFFFFF\" height=\"45.9375\" id=\"E6\" rx=\"10\" ry=\"10\" style=\"stroke: #383838; stroke-width: 1.5;\" width=\"71\" x=\"366.5\" y=\"254\"/><text fill=\"#000000\" font-family=\"sans-serif\" font-size=\"12\" font-style=\"italic\" lengthAdjust=\"spacingAndGlyphs\" textLength=\"69\" x=\"367.5\" y=\"270.1387\">«attribute»</text><text fill=\"#000000\" font-family=\"sans-serif\" font-size=\"12\" lengthAdjust=\"spacingAndGlyphs\" textLength=\"6\" x=\"399\" y=\"284.1074\">x</text><line style=\"stroke: #383838; stroke-width: 1.5;\" x1=\"367.5\" x2=\"436.5\" y1=\"291.9375\" y2=\"291.9375\"/></a><!--MD5=[2156ba9850f5573cc1fc38a6a4b2f02b]\n",
       "class E7--><a href=\"psysml:638ee95e-a488-4c6b-8aa7-581f6cf4c2fe\" target=\"_top\" title=\"psysml:638ee95e-a488-4c6b-8aa7-581f6cf4c2fe\" xlink:actuate=\"onRequest\" xlink:href=\"psysml:638ee95e-a488-4c6b-8aa7-581f6cf4c2fe\" xlink:show=\"new\" xlink:title=\"psysml:638ee95e-a488-4c6b-8aa7-581f6cf4c2fe\" xlink:type=\"simple\"><rect fill=\"#FFFFFF\" height=\"45.9375\" id=\"E7\" rx=\"10\" ry=\"10\" style=\"stroke: #383838; stroke-width: 1.5;\" width=\"71\" x=\"366.5\" y=\"173\"/><text fill=\"#000000\" font-family=\"sans-serif\" font-size=\"12\" font-style=\"italic\" lengthAdjust=\"spacingAndGlyphs\" textLength=\"69\" x=\"367.5\" y=\"189.1387\">«attribute»</text><text fill=\"#000000\" font-family=\"sans-serif\" font-size=\"12\" lengthAdjust=\"spacingAndGlyphs\" textLength=\"6\" x=\"399\" y=\"203.1074\">y</text><line style=\"stroke: #383838; stroke-width: 1.5;\" x1=\"367.5\" x2=\"436.5\" y1=\"210.9375\" y2=\"210.9375\"/></a><!--MD5=[b9389687b975829384b498ac4b7476b2]\n",
       "class E8--><a href=\"psysml:267f67df-ceab-4f9b-9288-379f8b6d76cc\" target=\"_top\" title=\"psysml:267f67df-ceab-4f9b-9288-379f8b6d76cc\" xlink:actuate=\"onRequest\" xlink:href=\"psysml:267f67df-ceab-4f9b-9288-379f8b6d76cc\" xlink:show=\"new\" xlink:title=\"psysml:267f67df-ceab-4f9b-9288-379f8b6d76cc\" xlink:type=\"simple\"><rect fill=\"#FFFFFF\" height=\"45.9375\" id=\"E8\" rx=\"10\" ry=\"10\" style=\"stroke: #383838; stroke-width: 1.5;\" width=\"71\" x=\"98.5\" y=\"206\"/><text fill=\"#000000\" font-family=\"sans-serif\" font-size=\"12\" font-style=\"italic\" lengthAdjust=\"spacingAndGlyphs\" textLength=\"69\" x=\"99.5\" y=\"222.1387\">«attribute»</text><text fill=\"#000000\" font-family=\"sans-serif\" font-size=\"12\" lengthAdjust=\"spacingAndGlyphs\" textLength=\"5\" x=\"131.5\" y=\"236.1074\">z</text><line style=\"stroke: #383838; stroke-width: 1.5;\" x1=\"99.5\" x2=\"168.5\" y1=\"243.9375\" y2=\"243.9375\"/></a><a href=\"psysml:d7cd1111-165d-4c09-9c1d-1c6e69d6b628\" target=\"_top\" title=\"psysml:d7cd1111-165d-4c09-9c1d-1c6e69d6b628\" xlink:actuate=\"onRequest\" xlink:href=\"psysml:d7cd1111-165d-4c09-9c1d-1c6e69d6b628\" xlink:show=\"new\" xlink:title=\"psysml:d7cd1111-165d-4c09-9c1d-1c6e69d6b628\" xlink:type=\"simple\"><polygon fill=\"#FFFFFF\" points=\"56,84.5,198,84.5,205,106.7969,212,106.7969,212,137.0938,56,137.0938,56,84.5\" style=\"stroke: #000000; stroke-width: 1.5;\"/><line style=\"stroke: #000000; stroke-width: 1.5;\" x1=\"56\" x2=\"205\" y1=\"106.7969\" y2=\"106.7969\"/><text fill=\"#000000\" font-family=\"sans-serif\" font-size=\"14\" font-weight=\"bold\" lengthAdjust=\"spacingAndGlyphs\" textLength=\"136\" x=\"60\" y=\"99.4951\">Application Layer</text></a><a href=\"psysml:4fd532ef-c056-48ed-b57e-c34d41c7d9b0\" target=\"_top\" title=\"psysml:4fd532ef-c056-48ed-b57e-c34d41c7d9b0\" xlink:actuate=\"onRequest\" xlink:href=\"psysml:4fd532ef-c056-48ed-b57e-c34d41c7d9b0\" xlink:show=\"new\" xlink:title=\"psysml:4fd532ef-c056-48ed-b57e-c34d41c7d9b0\" xlink:type=\"simple\"><polygon fill=\"#FFFFFF\" points=\"338,84.5,452,84.5,459,106.7969,466,106.7969,466,137.0938,338,137.0938,338,84.5\" style=\"stroke: #000000; stroke-width: 1.5;\"/><line style=\"stroke: #000000; stroke-width: 1.5;\" x1=\"338\" x2=\"459\" y1=\"106.7969\" y2=\"106.7969\"/><text fill=\"#000000\" font-family=\"sans-serif\" font-size=\"14\" font-weight=\"bold\" lengthAdjust=\"spacingAndGlyphs\" textLength=\"108\" x=\"342\" y=\"99.4951\">Service Layer</text></a><a href=\"psysml:f10bbfff-f917-435f-bbe7-eedf9b14a34c\" target=\"_top\" title=\"psysml:f10bbfff-f917-435f-bbe7-eedf9b14a34c\" xlink:actuate=\"onRequest\" xlink:href=\"psysml:f10bbfff-f917-435f-bbe7-eedf9b14a34c\" xlink:show=\"new\" xlink:title=\"psysml:f10bbfff-f917-435f-bbe7-eedf9b14a34c\" xlink:type=\"simple\"><polygon fill=\"#FFFFFF\" points=\"592,84.5,682,84.5,689,106.7969,696,106.7969,696,137.0938,592,137.0938,592,84.5\" style=\"stroke: #000000; stroke-width: 1.5;\"/><line style=\"stroke: #000000; stroke-width: 1.5;\" x1=\"592\" x2=\"689\" y1=\"106.7969\" y2=\"106.7969\"/><text fill=\"#000000\" font-family=\"sans-serif\" font-size=\"14\" font-weight=\"bold\" lengthAdjust=\"spacingAndGlyphs\" textLength=\"84\" x=\"596\" y=\"99.4951\">Data Layer</text></a><!--MD5=[af87c684e3b0d8be13c1a698a818ef1e]\n",
       "link E3 to E4--><a href=\"psysml:d6fef634-817c-4ef1-96de-f37bb594aaea\" target=\"_top\" title=\"psysml:d6fef634-817c-4ef1-96de-f37bb594aaea\" xlink:actuate=\"onRequest\" xlink:href=\"psysml:d6fef634-817c-4ef1-96de-f37bb594aaea\" xlink:show=\"new\" xlink:title=\"psysml:d6fef634-817c-4ef1-96de-f37bb594aaea\" xlink:type=\"simple\"><path d=\"M212.3,111 C249.37,111 293.5,111 329.76,111 \" fill=\"none\" id=\"E3-&gt;E4\" style=\"stroke: #383838; stroke-width: 1.0; stroke-dasharray: 7.0,7.0;\"/><polygon fill=\"#383838\" points=\"337.84,111,329.84,108,329.84,114,337.84,111\" style=\"stroke: #383838; stroke-width: 1.0;\"/><text fill=\"#000000\" font-family=\"sans-serif\" font-size=\"13\" lengthAdjust=\"spacingAndGlyphs\" textLength=\"64\" x=\"243\" y=\"107.0669\">«depend»</text></a><!--MD5=[1b7591eae5389033d8d09a9d6721a717]\n",
       "link E4 to E5--><a href=\"psysml:d4b689e0-de38-42ab-a0b3-2a8bf82e0669\" target=\"_top\" title=\"psysml:d4b689e0-de38-42ab-a0b3-2a8bf82e0669\" xlink:actuate=\"onRequest\" xlink:href=\"psysml:d4b689e0-de38-42ab-a0b3-2a8bf82e0669\" xlink:show=\"new\" xlink:title=\"psysml:d4b689e0-de38-42ab-a0b3-2a8bf82e0669\" xlink:type=\"simple\"><path d=\"M466.06,111 C502.32,111 547.6,111 583.28,111 \" fill=\"none\" id=\"E4-&gt;E5\" style=\"stroke: #383838; stroke-width: 1.0; stroke-dasharray: 7.0,7.0;\"/><polygon fill=\"#383838\" points=\"591.67,111,583.67,108,583.67,114,591.67,111\" style=\"stroke: #383838; stroke-width: 1.0;\"/><text fill=\"#000000\" font-family=\"sans-serif\" font-size=\"13\" lengthAdjust=\"spacingAndGlyphs\" textLength=\"64\" x=\"497\" y=\"107.0669\">«depend»</text></a><!--MD5=[c5e8897d989ce984f93528998a7150fe]\n",
       "link E8 to E6--><a href=\"psysml:c74e1bf4-ee72-40a7-b163-07732e38ed67\" target=\"_top\" title=\"psysml:c74e1bf4-ee72-40a7-b163-07732e38ed67\" xlink:actuate=\"onRequest\" xlink:href=\"psysml:c74e1bf4-ee72-40a7-b163-07732e38ed67\" xlink:show=\"new\" xlink:title=\"psysml:c74e1bf4-ee72-40a7-b163-07732e38ed67\" xlink:type=\"simple\"><path d=\"M169.5,235.23 C217.81,243.94 305.54,259.77 358.03,269.25 \" fill=\"none\" id=\"E8-&gt;E6\" style=\"stroke: #383838; stroke-width: 1.0; stroke-dasharray: 7.0,7.0;\"/><polygon fill=\"#383838\" points=\"366.14,270.71,358.7966,266.3425,357.7356,272.248,366.14,270.71\" style=\"stroke: #383838; stroke-width: 1.0;\"/><text fill=\"#000000\" font-family=\"sans-serif\" font-size=\"13\" lengthAdjust=\"spacingAndGlyphs\" textLength=\"64\" x=\"243\" y=\"245.0669\">«depend»</text></a><!--MD5=[bfa3c8b0d15052fdf50ae9310b491027]\n",
       "link E8 to E7--><a href=\"psysml:c74e1bf4-ee72-40a7-b163-07732e38ed67\" target=\"_top\" title=\"psysml:c74e1bf4-ee72-40a7-b163-07732e38ed67\" xlink:actuate=\"onRequest\" xlink:href=\"psysml:c74e1bf4-ee72-40a7-b163-07732e38ed67\" xlink:show=\"new\" xlink:title=\"psysml:c74e1bf4-ee72-40a7-b163-07732e38ed67\" xlink:type=\"simple\"><path d=\"M169.5,224.72 C217.81,218.73 305.54,207.84 358.03,201.33 \" fill=\"none\" id=\"E8-&gt;E7\" style=\"stroke: #383838; stroke-width: 1.0; stroke-dasharray: 7.0,7.0;\"/><polygon fill=\"#383838\" points=\"366.14,200.33,357.8314,198.3381,358.5704,204.2924,366.14,200.33\" style=\"stroke: #383838; stroke-width: 1.0;\"/><text fill=\"#000000\" font-family=\"sans-serif\" font-size=\"13\" lengthAdjust=\"spacingAndGlyphs\" textLength=\"64\" x=\"243\" y=\"204.0669\">«depend»</text></a><!--MD5=[508fb42afceb6a951d69b79b2fdeae2e]\n",
       "@startuml\r\n",
       "left to right direction\r\n",
       "skinparam monochrome true\r\n",
       "skinparam classbackgroundcolor white\r\n",
       "skinparam shadowing false\r\n",
       "skinparam wrapWidth 300\r\n",
       "hide circle\r\n",
       "\r\n",
       "package \"DependencyTest\" as E1  [[psysml:f9a8e327-3c68-43cc-8fc4-f0fda4441472 ]]  {\r\n",
       "package \"System\" as E2  [[psysml:5e0f80f7-1058-4b47-9f4f-e59769b1dff5 ]]  {\r\n",
       "package \"Application Layer\" as E3  [[psysml:d7cd1111-165d-4c09-9c1d-1c6e69d6b628 ]]  {\r\n",
       "}\r\n",
       "package \"Service Layer\" as E4  [[psysml:4fd532ef-c056-48ed-b57e-c34d41c7d9b0 ]]  {\r\n",
       "}\r\n",
       "package \"Data Layer\" as E5  [[psysml:f10bbfff-f917-435f-bbe7-eedf9b14a34c ]]  {\r\n",
       "}\r\n",
       "}\r\n",
       "comp usage \"x\" as E6  <<(T,blue)attribute>> [[psysml:52169dc2-f588-4d36-bb4d-934125a8defa ]] {\r\n",
       "}\r\n",
       "comp usage \"y\" as E7  <<(T,blue)attribute>> [[psysml:638ee95e-a488-4c6b-8aa7-581f6cf4c2fe ]] {\r\n",
       "}\r\n",
       "comp usage \"z\" as E8  <<(T,blue)attribute>> [[psysml:267f67df-ceab-4f9b-9288-379f8b6d76cc ]] {\r\n",
       "}\r\n",
       "E3 ..>> E4 [[psysml:d6fef634-817c-4ef1-96de-f37bb594aaea ]] : <<depend>>\r\n",
       "E4 ..>> E5 [[psysml:d4b689e0-de38-42ab-a0b3-2a8bf82e0669 ]] : <<depend>>\r\n",
       "E8 ..>> E6 [[psysml:c74e1bf4-ee72-40a7-b163-07732e38ed67 ]] : <<depend>>\r\n",
       "E8 ..>> E7 [[psysml:c74e1bf4-ee72-40a7-b163-07732e38ed67 ]] : <<depend>>\r\n",
       "}\r\n",
       "@enduml\r\n",
       "\n",
       "PlantUML version 1.2020.13(Sat Jun 13 12:26:38 UTC 2020)\n",
       "(EPL source distribution)\n",
       "Java Runtime: OpenJDK Runtime Environment\n",
       "JVM: OpenJDK 64-Bit Server VM\n",
       "Default Encoding: UTF-8\n",
       "Language: en\n",
       "Country: null\n",
       "--></g></svg>"
      ]
     },
     "execution_count": 17,
     "metadata": {},
     "output_type": "execute_result"
    }
   ],
   "source": [
    "%viz --style=\"LR\" --view=\"Tree\" \"DependencyTest\""
   ]
  },
  {
   "cell_type": "code",
   "execution_count": 18,
   "id": "75c5bc98",
   "metadata": {
    "execution": {
     "iopub.execute_input": "2021-05-27T06:11:47.045086Z",
     "iopub.status.busy": "2021-05-27T06:11:47.044276Z",
     "iopub.status.idle": "2021-05-27T06:11:47.050679Z",
     "shell.execute_reply": "2021-05-27T06:11:47.050315Z"
    }
   },
   "outputs": [
    {
     "data": {
      "image/svg+xml": [
       "<?xml version=\"1.0\" encoding=\"UTF-8\" standalone=\"no\"?><svg xmlns=\"http://www.w3.org/2000/svg\" xmlns:xlink=\"http://www.w3.org/1999/xlink\" contentScriptType=\"application/ecmascript\" contentStyleType=\"text/css\" height=\"12px\" preserveAspectRatio=\"none\" style=\"width:12px;height:12px;\" version=\"1.1\" viewBox=\"0 0 12 12\" width=\"12px\" zoomAndPan=\"magnify\"><defs/><g><!--MD5=[19d285c9d72a204eba4e2cd117d745e8]\n",
       "@startuml\r\n",
       "left to right direction\r\n",
       "skinparam monochrome true\r\n",
       "skinparam classbackgroundcolor white\r\n",
       "skinparam shadowing false\r\n",
       "skinparam wrapWidth 300\r\n",
       "hide circle\r\n",
       "\r\n",
       "@enduml\r\n",
       "\n",
       "PlantUML version 1.2020.13(Sat Jun 13 12:26:38 UTC 2020)\n",
       "(EPL source distribution)\n",
       "Java Runtime: OpenJDK Runtime Environment\n",
       "JVM: OpenJDK 64-Bit Server VM\n",
       "Default Encoding: UTF-8\n",
       "Language: en\n",
       "Country: null\n",
       "--></g></svg>"
      ]
     },
     "execution_count": 18,
     "metadata": {},
     "output_type": "execute_result"
    }
   ],
   "source": [
    "%viz --style=\"LR\" --view=\"State\" \"DependencyTest\""
   ]
  },
  {
   "cell_type": "code",
   "execution_count": 19,
   "id": "6f71ae4e",
   "metadata": {
    "execution": {
     "iopub.execute_input": "2021-05-27T06:11:47.103913Z",
     "iopub.status.busy": "2021-05-27T06:11:47.103100Z",
     "iopub.status.idle": "2021-05-27T06:11:47.145072Z",
     "shell.execute_reply": "2021-05-27T06:11:47.144793Z"
    }
   },
   "outputs": [
    {
     "data": {
      "image/svg+xml": [
       "<?xml version=\"1.0\" encoding=\"UTF-8\" standalone=\"no\"?><svg xmlns=\"http://www.w3.org/2000/svg\" xmlns:xlink=\"http://www.w3.org/1999/xlink\" contentScriptType=\"application/ecmascript\" contentStyleType=\"text/css\" height=\"328px\" preserveAspectRatio=\"none\" style=\"width:670px;height:328px;\" version=\"1.1\" viewBox=\"0 0 670 328\" width=\"670px\" zoomAndPan=\"magnify\"><defs/><g><!--MD5=[fbc87193dbaf4d95561dea2c320d4a47]\n",
       "cluster E1--><a href=\"psysml:f9a8e327-3c68-43cc-8fc4-f0fda4441472\" target=\"_top\" title=\"psysml:f9a8e327-3c68-43cc-8fc4-f0fda4441472\" xlink:actuate=\"onRequest\" xlink:href=\"psysml:f9a8e327-3c68-43cc-8fc4-f0fda4441472\" xlink:show=\"new\" xlink:title=\"psysml:f9a8e327-3c68-43cc-8fc4-f0fda4441472\" xlink:type=\"simple\"><polygon fill=\"#FFFFFF\" points=\"16,6,156,6,163,28.2969,648,28.2969,648,316,16,316,16,6\" style=\"stroke: #000000; stroke-width: 1.5;\"/><line style=\"stroke: #000000; stroke-width: 1.5;\" x1=\"16\" x2=\"163\" y1=\"28.2969\" y2=\"28.2969\"/><text fill=\"#000000\" font-family=\"sans-serif\" font-size=\"14\" font-weight=\"bold\" lengthAdjust=\"spacingAndGlyphs\" textLength=\"134\" x=\"20\" y=\"20.9951\">DependencyTest</text></a><!--MD5=[e4f7fae6ed58524ba242bb0b0d3be6b7]\n",
       "cluster E2--><a href=\"psysml:5e0f80f7-1058-4b47-9f4f-e59769b1dff5\" target=\"_top\" title=\"psysml:5e0f80f7-1058-4b47-9f4f-e59769b1dff5\" xlink:actuate=\"onRequest\" xlink:href=\"psysml:5e0f80f7-1058-4b47-9f4f-e59769b1dff5\" xlink:show=\"new\" xlink:title=\"psysml:5e0f80f7-1058-4b47-9f4f-e59769b1dff5\" xlink:type=\"simple\"><polygon fill=\"#FFFFFF\" points=\"40,49,104,49,111,71.2969,624,71.2969,624,154,40,154,40,49\" style=\"stroke: #000000; stroke-width: 1.5;\"/><line style=\"stroke: #000000; stroke-width: 1.5;\" x1=\"40\" x2=\"111\" y1=\"71.2969\" y2=\"71.2969\"/><text fill=\"#000000\" font-family=\"sans-serif\" font-size=\"14\" font-weight=\"bold\" lengthAdjust=\"spacingAndGlyphs\" textLength=\"58\" x=\"44\" y=\"63.9951\">System</text></a><!--MD5=[60a26617385b1d2d0262a64233df1f8d]\n",
       "class E6--><a href=\"psysml:52169dc2-f588-4d36-bb4d-934125a8defa\" target=\"_top\" title=\"psysml:52169dc2-f588-4d36-bb4d-934125a8defa\" xlink:actuate=\"onRequest\" xlink:href=\"psysml:52169dc2-f588-4d36-bb4d-934125a8defa\" xlink:show=\"new\" xlink:title=\"psysml:52169dc2-f588-4d36-bb4d-934125a8defa\" xlink:type=\"simple\"><rect fill=\"#FFFFFF\" height=\"45.9375\" id=\"E6\" rx=\"10\" ry=\"10\" style=\"stroke: #383838; stroke-width: 1.5;\" width=\"71\" x=\"322.5\" y=\"254\"/><text fill=\"#000000\" font-family=\"sans-serif\" font-size=\"12\" font-style=\"italic\" lengthAdjust=\"spacingAndGlyphs\" textLength=\"69\" x=\"323.5\" y=\"270.1387\">«attribute»</text><text fill=\"#000000\" font-family=\"sans-serif\" font-size=\"12\" lengthAdjust=\"spacingAndGlyphs\" textLength=\"6\" x=\"355\" y=\"284.1074\">x</text><line style=\"stroke: #383838; stroke-width: 1.5;\" x1=\"323.5\" x2=\"392.5\" y1=\"291.9375\" y2=\"291.9375\"/></a><!--MD5=[2156ba9850f5573cc1fc38a6a4b2f02b]\n",
       "class E7--><a href=\"psysml:638ee95e-a488-4c6b-8aa7-581f6cf4c2fe\" target=\"_top\" title=\"psysml:638ee95e-a488-4c6b-8aa7-581f6cf4c2fe\" xlink:actuate=\"onRequest\" xlink:href=\"psysml:638ee95e-a488-4c6b-8aa7-581f6cf4c2fe\" xlink:show=\"new\" xlink:title=\"psysml:638ee95e-a488-4c6b-8aa7-581f6cf4c2fe\" xlink:type=\"simple\"><rect fill=\"#FFFFFF\" height=\"45.9375\" id=\"E7\" rx=\"10\" ry=\"10\" style=\"stroke: #383838; stroke-width: 1.5;\" width=\"71\" x=\"322.5\" y=\"173\"/><text fill=\"#000000\" font-family=\"sans-serif\" font-size=\"12\" font-style=\"italic\" lengthAdjust=\"spacingAndGlyphs\" textLength=\"69\" x=\"323.5\" y=\"189.1387\">«attribute»</text><text fill=\"#000000\" font-family=\"sans-serif\" font-size=\"12\" lengthAdjust=\"spacingAndGlyphs\" textLength=\"6\" x=\"355\" y=\"203.1074\">y</text><line style=\"stroke: #383838; stroke-width: 1.5;\" x1=\"323.5\" x2=\"392.5\" y1=\"210.9375\" y2=\"210.9375\"/></a><!--MD5=[b9389687b975829384b498ac4b7476b2]\n",
       "class E8--><a href=\"psysml:267f67df-ceab-4f9b-9288-379f8b6d76cc\" target=\"_top\" title=\"psysml:267f67df-ceab-4f9b-9288-379f8b6d76cc\" xlink:actuate=\"onRequest\" xlink:href=\"psysml:267f67df-ceab-4f9b-9288-379f8b6d76cc\" xlink:show=\"new\" xlink:title=\"psysml:267f67df-ceab-4f9b-9288-379f8b6d76cc\" xlink:type=\"simple\"><rect fill=\"#FFFFFF\" height=\"45.9375\" id=\"E8\" rx=\"10\" ry=\"10\" style=\"stroke: #383838; stroke-width: 1.5;\" width=\"71\" x=\"98.5\" y=\"206\"/><text fill=\"#000000\" font-family=\"sans-serif\" font-size=\"12\" font-style=\"italic\" lengthAdjust=\"spacingAndGlyphs\" textLength=\"69\" x=\"99.5\" y=\"222.1387\">«attribute»</text><text fill=\"#000000\" font-family=\"sans-serif\" font-size=\"12\" lengthAdjust=\"spacingAndGlyphs\" textLength=\"5\" x=\"131.5\" y=\"236.1074\">z</text><line style=\"stroke: #383838; stroke-width: 1.5;\" x1=\"99.5\" x2=\"168.5\" y1=\"243.9375\" y2=\"243.9375\"/></a><a href=\"psysml:d7cd1111-165d-4c09-9c1d-1c6e69d6b628\" target=\"_top\" title=\"psysml:d7cd1111-165d-4c09-9c1d-1c6e69d6b628\" xlink:actuate=\"onRequest\" xlink:href=\"psysml:d7cd1111-165d-4c09-9c1d-1c6e69d6b628\" xlink:show=\"new\" xlink:title=\"psysml:d7cd1111-165d-4c09-9c1d-1c6e69d6b628\" xlink:type=\"simple\"><polygon fill=\"#FFFFFF\" points=\"56,84.5,198,84.5,205,106.7969,212,106.7969,212,137.0938,56,137.0938,56,84.5\" style=\"stroke: #000000; stroke-width: 1.5;\"/><line style=\"stroke: #000000; stroke-width: 1.5;\" x1=\"56\" x2=\"205\" y1=\"106.7969\" y2=\"106.7969\"/><text fill=\"#000000\" font-family=\"sans-serif\" font-size=\"14\" font-weight=\"bold\" lengthAdjust=\"spacingAndGlyphs\" textLength=\"136\" x=\"60\" y=\"99.4951\">Application Layer</text></a><a href=\"psysml:4fd532ef-c056-48ed-b57e-c34d41c7d9b0\" target=\"_top\" title=\"psysml:4fd532ef-c056-48ed-b57e-c34d41c7d9b0\" xlink:actuate=\"onRequest\" xlink:href=\"psysml:4fd532ef-c056-48ed-b57e-c34d41c7d9b0\" xlink:show=\"new\" xlink:title=\"psysml:4fd532ef-c056-48ed-b57e-c34d41c7d9b0\" xlink:type=\"simple\"><polygon fill=\"#FFFFFF\" points=\"294,84.5,408,84.5,415,106.7969,422,106.7969,422,137.0938,294,137.0938,294,84.5\" style=\"stroke: #000000; stroke-width: 1.5;\"/><line style=\"stroke: #000000; stroke-width: 1.5;\" x1=\"294\" x2=\"415\" y1=\"106.7969\" y2=\"106.7969\"/><text fill=\"#000000\" font-family=\"sans-serif\" font-size=\"14\" font-weight=\"bold\" lengthAdjust=\"spacingAndGlyphs\" textLength=\"108\" x=\"298\" y=\"99.4951\">Service Layer</text></a><a href=\"psysml:f10bbfff-f917-435f-bbe7-eedf9b14a34c\" target=\"_top\" title=\"psysml:f10bbfff-f917-435f-bbe7-eedf9b14a34c\" xlink:actuate=\"onRequest\" xlink:href=\"psysml:f10bbfff-f917-435f-bbe7-eedf9b14a34c\" xlink:show=\"new\" xlink:title=\"psysml:f10bbfff-f917-435f-bbe7-eedf9b14a34c\" xlink:type=\"simple\"><polygon fill=\"#FFFFFF\" points=\"504,84.5,594,84.5,601,106.7969,608,106.7969,608,137.0938,504,137.0938,504,84.5\" style=\"stroke: #000000; stroke-width: 1.5;\"/><line style=\"stroke: #000000; stroke-width: 1.5;\" x1=\"504\" x2=\"601\" y1=\"106.7969\" y2=\"106.7969\"/><text fill=\"#000000\" font-family=\"sans-serif\" font-size=\"14\" font-weight=\"bold\" lengthAdjust=\"spacingAndGlyphs\" textLength=\"84\" x=\"508\" y=\"99.4951\">Data Layer</text></a><!--MD5=[af87c684e3b0d8be13c1a698a818ef1e]\n",
       "link E3 to E4--><a href=\"psysml:d6fef634-817c-4ef1-96de-f37bb594aaea\" target=\"_top\" title=\"psysml:d6fef634-817c-4ef1-96de-f37bb594aaea\" xlink:actuate=\"onRequest\" xlink:href=\"psysml:d6fef634-817c-4ef1-96de-f37bb594aaea\" xlink:show=\"new\" xlink:title=\"psysml:d6fef634-817c-4ef1-96de-f37bb594aaea\" xlink:type=\"simple\"><path d=\"M212.02,111 C235.88,111 262.06,111 285.53,111 \" fill=\"none\" id=\"E3-&gt;E4\" style=\"stroke: #383838; stroke-width: 1.0; stroke-dasharray: 7.0,7.0;\"/><polygon fill=\"#383838\" points=\"293.71,111,285.71,108,285.71,114,293.71,111\" style=\"stroke: #383838; stroke-width: 1.0;\"/><text fill=\"#000000\" font-family=\"sans-serif\" font-size=\"13\" lengthAdjust=\"spacingAndGlyphs\" textLength=\"64\" x=\"221\" y=\"107.0669\">«depend»</text></a><!--MD5=[1b7591eae5389033d8d09a9d6721a717]\n",
       "link E4 to E5--><a href=\"psysml:d4b689e0-de38-42ab-a0b3-2a8bf82e0669\" target=\"_top\" title=\"psysml:d4b689e0-de38-42ab-a0b3-2a8bf82e0669\" xlink:actuate=\"onRequest\" xlink:href=\"psysml:d4b689e0-de38-42ab-a0b3-2a8bf82e0669\" xlink:show=\"new\" xlink:title=\"psysml:d4b689e0-de38-42ab-a0b3-2a8bf82e0669\" xlink:type=\"simple\"><path d=\"M422.09,111 C445.72,111 472.46,111 495.72,111 \" fill=\"none\" id=\"E4-&gt;E5\" style=\"stroke: #383838; stroke-width: 1.0; stroke-dasharray: 7.0,7.0;\"/><polygon fill=\"#383838\" points=\"503.8,111,495.8,108,495.8,114,503.8,111\" style=\"stroke: #383838; stroke-width: 1.0;\"/><text fill=\"#000000\" font-family=\"sans-serif\" font-size=\"13\" lengthAdjust=\"spacingAndGlyphs\" textLength=\"64\" x=\"431\" y=\"107.0669\">«depend»</text></a><!--MD5=[c5e8897d989ce984f93528998a7150fe]\n",
       "link E8 to E6--><a href=\"psysml:c74e1bf4-ee72-40a7-b163-07732e38ed67\" target=\"_top\" title=\"psysml:c74e1bf4-ee72-40a7-b163-07732e38ed67\" xlink:actuate=\"onRequest\" xlink:href=\"psysml:c74e1bf4-ee72-40a7-b163-07732e38ed67\" xlink:show=\"new\" xlink:title=\"psysml:c74e1bf4-ee72-40a7-b163-07732e38ed67\" xlink:type=\"simple\"><path d=\"M169.69,236.5 C208.75,244.95 272.26,258.68 314.34,267.78 \" fill=\"none\" id=\"E8-&gt;E6\" style=\"stroke: #383838; stroke-width: 1.0; stroke-dasharray: 7.0,7.0;\"/><polygon fill=\"#383838\" points=\"322.19,269.47,315.0025,264.8505,313.7373,270.7156,322.19,269.47\" style=\"stroke: #383838; stroke-width: 1.0;\"/><text fill=\"#000000\" font-family=\"sans-serif\" font-size=\"13\" lengthAdjust=\"spacingAndGlyphs\" textLength=\"64\" x=\"221\" y=\"245.0669\">«depend»</text></a><!--MD5=[bfa3c8b0d15052fdf50ae9310b491027]\n",
       "link E8 to E7--><a href=\"psysml:c74e1bf4-ee72-40a7-b163-07732e38ed67\" target=\"_top\" title=\"psysml:c74e1bf4-ee72-40a7-b163-07732e38ed67\" xlink:actuate=\"onRequest\" xlink:href=\"psysml:c74e1bf4-ee72-40a7-b163-07732e38ed67\" xlink:show=\"new\" xlink:title=\"psysml:c74e1bf4-ee72-40a7-b163-07732e38ed67\" xlink:type=\"simple\"><path d=\"M169.69,223.84 C208.67,218.05 272,208.64 314.07,202.38 \" fill=\"none\" id=\"E8-&gt;E7\" style=\"stroke: #383838; stroke-width: 1.0; stroke-dasharray: 7.0,7.0;\"/><polygon fill=\"#383838\" points=\"322.19,201.17,313.837,199.3737,314.7155,205.309,322.19,201.17\" style=\"stroke: #383838; stroke-width: 1.0;\"/><text fill=\"#000000\" font-family=\"sans-serif\" font-size=\"13\" lengthAdjust=\"spacingAndGlyphs\" textLength=\"64\" x=\"221\" y=\"203.0669\">«depend»</text></a><!--MD5=[ef280f8f4daa876d87a216ed3ca993f2]\n",
       "@startuml\r\n",
       "skinparam ranksep 10\r\n",
       "skinparam rectangle {\r\n",
       " backgroundColor<<block>> LightGreen\r\n",
       "}\r\n",
       "left to right direction\r\n",
       "skinparam monochrome true\r\n",
       "skinparam classbackgroundcolor white\r\n",
       "skinparam shadowing false\r\n",
       "skinparam wrapWidth 300\r\n",
       "hide circle\r\n",
       "\r\n",
       "package \"DependencyTest\" as E1  [[psysml:f9a8e327-3c68-43cc-8fc4-f0fda4441472 ]]  {\r\n",
       "package \"System\" as E2  [[psysml:5e0f80f7-1058-4b47-9f4f-e59769b1dff5 ]]  {\r\n",
       "package \"Application Layer\" as E3  [[psysml:d7cd1111-165d-4c09-9c1d-1c6e69d6b628 ]]  {\r\n",
       "}\r\n",
       "package \"Service Layer\" as E4  [[psysml:4fd532ef-c056-48ed-b57e-c34d41c7d9b0 ]]  {\r\n",
       "}\r\n",
       "package \"Data Layer\" as E5  [[psysml:f10bbfff-f917-435f-bbe7-eedf9b14a34c ]]  {\r\n",
       "}\r\n",
       "}\r\n",
       "comp usage \"x\" as E6  <<(T,blue)attribute>> [[psysml:52169dc2-f588-4d36-bb4d-934125a8defa ]] {\r\n",
       "}\r\n",
       "comp usage \"y\" as E7  <<(T,blue)attribute>> [[psysml:638ee95e-a488-4c6b-8aa7-581f6cf4c2fe ]] {\r\n",
       "}\r\n",
       "comp usage \"z\" as E8  <<(T,blue)attribute>> [[psysml:267f67df-ceab-4f9b-9288-379f8b6d76cc ]] {\r\n",
       "}\r\n",
       "E3 ..>> E4 [[psysml:d6fef634-817c-4ef1-96de-f37bb594aaea ]] : <<depend>>\r\n",
       "E4 ..>> E5 [[psysml:d4b689e0-de38-42ab-a0b3-2a8bf82e0669 ]] : <<depend>>\r\n",
       "E8 ..>> E6 [[psysml:c74e1bf4-ee72-40a7-b163-07732e38ed67 ]] : <<depend>>\r\n",
       "E8 ..>> E7 [[psysml:c74e1bf4-ee72-40a7-b163-07732e38ed67 ]] : <<depend>>\r\n",
       "}\r\n",
       "@enduml\r\n",
       "\n",
       "PlantUML version 1.2020.13(Sat Jun 13 12:26:38 UTC 2020)\n",
       "(EPL source distribution)\n",
       "Java Runtime: OpenJDK Runtime Environment\n",
       "JVM: OpenJDK 64-Bit Server VM\n",
       "Default Encoding: UTF-8\n",
       "Language: en\n",
       "Country: null\n",
       "--></g></svg>"
      ]
     },
     "execution_count": 19,
     "metadata": {},
     "output_type": "execute_result"
    }
   ],
   "source": [
    "%viz --style=\"LR\" --view=\"Interconnection\" \"DependencyTest\""
   ]
  },
  {
   "cell_type": "code",
   "execution_count": 20,
   "id": "d5a3b710",
   "metadata": {
    "execution": {
     "iopub.execute_input": "2021-05-27T06:11:47.196284Z",
     "iopub.status.busy": "2021-05-27T06:11:47.195589Z",
     "iopub.status.idle": "2021-05-27T06:11:47.201071Z",
     "shell.execute_reply": "2021-05-27T06:11:47.200789Z"
    }
   },
   "outputs": [
    {
     "data": {
      "image/svg+xml": [
       "<?xml version=\"1.0\" encoding=\"UTF-8\" standalone=\"no\"?><svg xmlns=\"http://www.w3.org/2000/svg\" xmlns:xlink=\"http://www.w3.org/1999/xlink\" contentScriptType=\"application/ecmascript\" contentStyleType=\"text/css\" height=\"12px\" preserveAspectRatio=\"none\" style=\"width:12px;height:12px;\" version=\"1.1\" viewBox=\"0 0 12 12\" width=\"12px\" zoomAndPan=\"magnify\"><defs/><g><!--MD5=[7aeb398939421629f6affaa4a1a7b125]\n",
       "@startuml\r\n",
       "skinparam ranksep 8\r\n",
       "left to right direction\r\n",
       "skinparam monochrome true\r\n",
       "skinparam classbackgroundcolor white\r\n",
       "skinparam shadowing false\r\n",
       "skinparam wrapWidth 300\r\n",
       "hide circle\r\n",
       "\r\n",
       "@enduml\r\n",
       "\n",
       "PlantUML version 1.2020.13(Sat Jun 13 12:26:38 UTC 2020)\n",
       "(EPL source distribution)\n",
       "Java Runtime: OpenJDK Runtime Environment\n",
       "JVM: OpenJDK 64-Bit Server VM\n",
       "Default Encoding: UTF-8\n",
       "Language: en\n",
       "Country: null\n",
       "--></g></svg>"
      ]
     },
     "execution_count": 20,
     "metadata": {},
     "output_type": "execute_result"
    }
   ],
   "source": [
    "%viz --style=\"LR\" --view=\"Action\" \"DependencyTest\""
   ]
  },
  {
   "cell_type": "code",
   "execution_count": 21,
   "id": "6b155489",
   "metadata": {
    "execution": {
     "iopub.execute_input": "2021-05-27T06:11:47.252303Z",
     "iopub.status.busy": "2021-05-27T06:11:47.251795Z",
     "iopub.status.idle": "2021-05-27T06:11:47.285184Z",
     "shell.execute_reply": "2021-05-27T06:11:47.283408Z"
    }
   },
   "outputs": [
    {
     "data": {
      "image/svg+xml": [
       "<?xml version=\"1.0\" encoding=\"UTF-8\" standalone=\"no\"?><svg xmlns=\"http://www.w3.org/2000/svg\" xmlns:xlink=\"http://www.w3.org/1999/xlink\" contentScriptType=\"application/ecmascript\" contentStyleType=\"text/css\" height=\"328px\" preserveAspectRatio=\"none\" style=\"width:758px;height:328px;\" version=\"1.1\" viewBox=\"0 0 758 328\" width=\"758px\" zoomAndPan=\"magnify\"><defs/><g><!--MD5=[fbc87193dbaf4d95561dea2c320d4a47]\n",
       "cluster E1--><a href=\"psysml:f9a8e327-3c68-43cc-8fc4-f0fda4441472\" target=\"_top\" title=\"psysml:f9a8e327-3c68-43cc-8fc4-f0fda4441472\" xlink:actuate=\"onRequest\" xlink:href=\"psysml:f9a8e327-3c68-43cc-8fc4-f0fda4441472\" xlink:show=\"new\" xlink:title=\"psysml:f9a8e327-3c68-43cc-8fc4-f0fda4441472\" xlink:type=\"simple\"><polygon fill=\"#FFFFFF\" points=\"16,6,156,6,163,28.2969,736,28.2969,736,316,16,316,16,6\" style=\"stroke: #000000; stroke-width: 1.5;\"/><line style=\"stroke: #000000; stroke-width: 1.5;\" x1=\"16\" x2=\"163\" y1=\"28.2969\" y2=\"28.2969\"/><text fill=\"#000000\" font-family=\"sans-serif\" font-size=\"14\" font-weight=\"bold\" lengthAdjust=\"spacingAndGlyphs\" textLength=\"134\" x=\"20\" y=\"20.9951\">DependencyTest</text></a><!--MD5=[e4f7fae6ed58524ba242bb0b0d3be6b7]\n",
       "cluster E2--><a href=\"psysml:5e0f80f7-1058-4b47-9f4f-e59769b1dff5\" target=\"_top\" title=\"psysml:5e0f80f7-1058-4b47-9f4f-e59769b1dff5\" xlink:actuate=\"onRequest\" xlink:href=\"psysml:5e0f80f7-1058-4b47-9f4f-e59769b1dff5\" xlink:show=\"new\" xlink:title=\"psysml:5e0f80f7-1058-4b47-9f4f-e59769b1dff5\" xlink:type=\"simple\"><polygon fill=\"#FFFFFF\" points=\"40,49,104,49,111,71.2969,712,71.2969,712,154,40,154,40,49\" style=\"stroke: #000000; stroke-width: 1.5;\"/><line style=\"stroke: #000000; stroke-width: 1.5;\" x1=\"40\" x2=\"111\" y1=\"71.2969\" y2=\"71.2969\"/><text fill=\"#000000\" font-family=\"sans-serif\" font-size=\"14\" font-weight=\"bold\" lengthAdjust=\"spacingAndGlyphs\" textLength=\"58\" x=\"44\" y=\"63.9951\">System</text></a><!--MD5=[60a26617385b1d2d0262a64233df1f8d]\n",
       "class E6--><a href=\"psysml:52169dc2-f588-4d36-bb4d-934125a8defa\" target=\"_top\" title=\"psysml:52169dc2-f588-4d36-bb4d-934125a8defa\" xlink:actuate=\"onRequest\" xlink:href=\"psysml:52169dc2-f588-4d36-bb4d-934125a8defa\" xlink:show=\"new\" xlink:title=\"psysml:52169dc2-f588-4d36-bb4d-934125a8defa\" xlink:type=\"simple\"><rect fill=\"#FFFFFF\" height=\"45.9375\" id=\"E6\" rx=\"10\" ry=\"10\" style=\"stroke: #383838; stroke-width: 1.5;\" width=\"71\" x=\"366.5\" y=\"254\"/><text fill=\"#000000\" font-family=\"sans-serif\" font-size=\"12\" font-style=\"italic\" lengthAdjust=\"spacingAndGlyphs\" textLength=\"69\" x=\"367.5\" y=\"270.1387\">«attribute»</text><text fill=\"#000000\" font-family=\"sans-serif\" font-size=\"12\" lengthAdjust=\"spacingAndGlyphs\" textLength=\"6\" x=\"399\" y=\"284.1074\">x</text><line style=\"stroke: #383838; stroke-width: 1.5;\" x1=\"367.5\" x2=\"436.5\" y1=\"291.9375\" y2=\"291.9375\"/></a><!--MD5=[2156ba9850f5573cc1fc38a6a4b2f02b]\n",
       "class E7--><a href=\"psysml:638ee95e-a488-4c6b-8aa7-581f6cf4c2fe\" target=\"_top\" title=\"psysml:638ee95e-a488-4c6b-8aa7-581f6cf4c2fe\" xlink:actuate=\"onRequest\" xlink:href=\"psysml:638ee95e-a488-4c6b-8aa7-581f6cf4c2fe\" xlink:show=\"new\" xlink:title=\"psysml:638ee95e-a488-4c6b-8aa7-581f6cf4c2fe\" xlink:type=\"simple\"><rect fill=\"#FFFFFF\" height=\"45.9375\" id=\"E7\" rx=\"10\" ry=\"10\" style=\"stroke: #383838; stroke-width: 1.5;\" width=\"71\" x=\"366.5\" y=\"173\"/><text fill=\"#000000\" font-family=\"sans-serif\" font-size=\"12\" font-style=\"italic\" lengthAdjust=\"spacingAndGlyphs\" textLength=\"69\" x=\"367.5\" y=\"189.1387\">«attribute»</text><text fill=\"#000000\" font-family=\"sans-serif\" font-size=\"12\" lengthAdjust=\"spacingAndGlyphs\" textLength=\"6\" x=\"399\" y=\"203.1074\">y</text><line style=\"stroke: #383838; stroke-width: 1.5;\" x1=\"367.5\" x2=\"436.5\" y1=\"210.9375\" y2=\"210.9375\"/></a><!--MD5=[b9389687b975829384b498ac4b7476b2]\n",
       "class E8--><a href=\"psysml:267f67df-ceab-4f9b-9288-379f8b6d76cc\" target=\"_top\" title=\"psysml:267f67df-ceab-4f9b-9288-379f8b6d76cc\" xlink:actuate=\"onRequest\" xlink:href=\"psysml:267f67df-ceab-4f9b-9288-379f8b6d76cc\" xlink:show=\"new\" xlink:title=\"psysml:267f67df-ceab-4f9b-9288-379f8b6d76cc\" xlink:type=\"simple\"><rect fill=\"#FFFFFF\" height=\"45.9375\" id=\"E8\" rx=\"10\" ry=\"10\" style=\"stroke: #383838; stroke-width: 1.5;\" width=\"71\" x=\"98.5\" y=\"206\"/><text fill=\"#000000\" font-family=\"sans-serif\" font-size=\"12\" font-style=\"italic\" lengthAdjust=\"spacingAndGlyphs\" textLength=\"69\" x=\"99.5\" y=\"222.1387\">«attribute»</text><text fill=\"#000000\" font-family=\"sans-serif\" font-size=\"12\" lengthAdjust=\"spacingAndGlyphs\" textLength=\"5\" x=\"131.5\" y=\"236.1074\">z</text><line style=\"stroke: #383838; stroke-width: 1.5;\" x1=\"99.5\" x2=\"168.5\" y1=\"243.9375\" y2=\"243.9375\"/></a><a href=\"psysml:d7cd1111-165d-4c09-9c1d-1c6e69d6b628\" target=\"_top\" title=\"psysml:d7cd1111-165d-4c09-9c1d-1c6e69d6b628\" xlink:actuate=\"onRequest\" xlink:href=\"psysml:d7cd1111-165d-4c09-9c1d-1c6e69d6b628\" xlink:show=\"new\" xlink:title=\"psysml:d7cd1111-165d-4c09-9c1d-1c6e69d6b628\" xlink:type=\"simple\"><polygon fill=\"#FFFFFF\" points=\"56,84.5,198,84.5,205,106.7969,212,106.7969,212,137.0938,56,137.0938,56,84.5\" style=\"stroke: #000000; stroke-width: 1.5;\"/><line style=\"stroke: #000000; stroke-width: 1.5;\" x1=\"56\" x2=\"205\" y1=\"106.7969\" y2=\"106.7969\"/><text fill=\"#000000\" font-family=\"sans-serif\" font-size=\"14\" font-weight=\"bold\" lengthAdjust=\"spacingAndGlyphs\" textLength=\"136\" x=\"60\" y=\"99.4951\">Application Layer</text></a><a href=\"psysml:4fd532ef-c056-48ed-b57e-c34d41c7d9b0\" target=\"_top\" title=\"psysml:4fd532ef-c056-48ed-b57e-c34d41c7d9b0\" xlink:actuate=\"onRequest\" xlink:href=\"psysml:4fd532ef-c056-48ed-b57e-c34d41c7d9b0\" xlink:show=\"new\" xlink:title=\"psysml:4fd532ef-c056-48ed-b57e-c34d41c7d9b0\" xlink:type=\"simple\"><polygon fill=\"#FFFFFF\" points=\"338,84.5,452,84.5,459,106.7969,466,106.7969,466,137.0938,338,137.0938,338,84.5\" style=\"stroke: #000000; stroke-width: 1.5;\"/><line style=\"stroke: #000000; stroke-width: 1.5;\" x1=\"338\" x2=\"459\" y1=\"106.7969\" y2=\"106.7969\"/><text fill=\"#000000\" font-family=\"sans-serif\" font-size=\"14\" font-weight=\"bold\" lengthAdjust=\"spacingAndGlyphs\" textLength=\"108\" x=\"342\" y=\"99.4951\">Service Layer</text></a><a href=\"psysml:f10bbfff-f917-435f-bbe7-eedf9b14a34c\" target=\"_top\" title=\"psysml:f10bbfff-f917-435f-bbe7-eedf9b14a34c\" xlink:actuate=\"onRequest\" xlink:href=\"psysml:f10bbfff-f917-435f-bbe7-eedf9b14a34c\" xlink:show=\"new\" xlink:title=\"psysml:f10bbfff-f917-435f-bbe7-eedf9b14a34c\" xlink:type=\"simple\"><polygon fill=\"#FFFFFF\" points=\"592,84.5,682,84.5,689,106.7969,696,106.7969,696,137.0938,592,137.0938,592,84.5\" style=\"stroke: #000000; stroke-width: 1.5;\"/><line style=\"stroke: #000000; stroke-width: 1.5;\" x1=\"592\" x2=\"689\" y1=\"106.7969\" y2=\"106.7969\"/><text fill=\"#000000\" font-family=\"sans-serif\" font-size=\"14\" font-weight=\"bold\" lengthAdjust=\"spacingAndGlyphs\" textLength=\"84\" x=\"596\" y=\"99.4951\">Data Layer</text></a><!--MD5=[af87c684e3b0d8be13c1a698a818ef1e]\n",
       "link E3 to E4--><a href=\"psysml:d6fef634-817c-4ef1-96de-f37bb594aaea\" target=\"_top\" title=\"psysml:d6fef634-817c-4ef1-96de-f37bb594aaea\" xlink:actuate=\"onRequest\" xlink:href=\"psysml:d6fef634-817c-4ef1-96de-f37bb594aaea\" xlink:show=\"new\" xlink:title=\"psysml:d6fef634-817c-4ef1-96de-f37bb594aaea\" xlink:type=\"simple\"><path d=\"M212.3,111 C249.37,111 293.5,111 329.76,111 \" fill=\"none\" id=\"E3-&gt;E4\" style=\"stroke: #383838; stroke-width: 1.0; stroke-dasharray: 7.0,7.0;\"/><polygon fill=\"#383838\" points=\"337.84,111,329.84,108,329.84,114,337.84,111\" style=\"stroke: #383838; stroke-width: 1.0;\"/><text fill=\"#000000\" font-family=\"sans-serif\" font-size=\"13\" lengthAdjust=\"spacingAndGlyphs\" textLength=\"64\" x=\"243\" y=\"107.0669\">«depend»</text></a><!--MD5=[1b7591eae5389033d8d09a9d6721a717]\n",
       "link E4 to E5--><a href=\"psysml:d4b689e0-de38-42ab-a0b3-2a8bf82e0669\" target=\"_top\" title=\"psysml:d4b689e0-de38-42ab-a0b3-2a8bf82e0669\" xlink:actuate=\"onRequest\" xlink:href=\"psysml:d4b689e0-de38-42ab-a0b3-2a8bf82e0669\" xlink:show=\"new\" xlink:title=\"psysml:d4b689e0-de38-42ab-a0b3-2a8bf82e0669\" xlink:type=\"simple\"><path d=\"M466.06,111 C502.32,111 547.6,111 583.28,111 \" fill=\"none\" id=\"E4-&gt;E5\" style=\"stroke: #383838; stroke-width: 1.0; stroke-dasharray: 7.0,7.0;\"/><polygon fill=\"#383838\" points=\"591.67,111,583.67,108,583.67,114,591.67,111\" style=\"stroke: #383838; stroke-width: 1.0;\"/><text fill=\"#000000\" font-family=\"sans-serif\" font-size=\"13\" lengthAdjust=\"spacingAndGlyphs\" textLength=\"64\" x=\"497\" y=\"107.0669\">«depend»</text></a><!--MD5=[c5e8897d989ce984f93528998a7150fe]\n",
       "link E8 to E6--><a href=\"psysml:c74e1bf4-ee72-40a7-b163-07732e38ed67\" target=\"_top\" title=\"psysml:c74e1bf4-ee72-40a7-b163-07732e38ed67\" xlink:actuate=\"onRequest\" xlink:href=\"psysml:c74e1bf4-ee72-40a7-b163-07732e38ed67\" xlink:show=\"new\" xlink:title=\"psysml:c74e1bf4-ee72-40a7-b163-07732e38ed67\" xlink:type=\"simple\"><path d=\"M169.5,235.23 C217.81,243.94 305.54,259.77 358.03,269.25 \" fill=\"none\" id=\"E8-&gt;E6\" style=\"stroke: #383838; stroke-width: 1.0; stroke-dasharray: 7.0,7.0;\"/><polygon fill=\"#383838\" points=\"366.14,270.71,358.7966,266.3425,357.7356,272.248,366.14,270.71\" style=\"stroke: #383838; stroke-width: 1.0;\"/><text fill=\"#000000\" font-family=\"sans-serif\" font-size=\"13\" lengthAdjust=\"spacingAndGlyphs\" textLength=\"64\" x=\"243\" y=\"245.0669\">«depend»</text></a><!--MD5=[bfa3c8b0d15052fdf50ae9310b491027]\n",
       "link E8 to E7--><a href=\"psysml:c74e1bf4-ee72-40a7-b163-07732e38ed67\" target=\"_top\" title=\"psysml:c74e1bf4-ee72-40a7-b163-07732e38ed67\" xlink:actuate=\"onRequest\" xlink:href=\"psysml:c74e1bf4-ee72-40a7-b163-07732e38ed67\" xlink:show=\"new\" xlink:title=\"psysml:c74e1bf4-ee72-40a7-b163-07732e38ed67\" xlink:type=\"simple\"><path d=\"M169.5,224.72 C217.81,218.73 305.54,207.84 358.03,201.33 \" fill=\"none\" id=\"E8-&gt;E7\" style=\"stroke: #383838; stroke-width: 1.0; stroke-dasharray: 7.0,7.0;\"/><polygon fill=\"#383838\" points=\"366.14,200.33,357.8314,198.3381,358.5704,204.2924,366.14,200.33\" style=\"stroke: #383838; stroke-width: 1.0;\"/><text fill=\"#000000\" font-family=\"sans-serif\" font-size=\"13\" lengthAdjust=\"spacingAndGlyphs\" textLength=\"64\" x=\"243\" y=\"204.0669\">«depend»</text></a><!--MD5=[508fb42afceb6a951d69b79b2fdeae2e]\n",
       "@startuml\r\n",
       "left to right direction\r\n",
       "skinparam monochrome true\r\n",
       "skinparam classbackgroundcolor white\r\n",
       "skinparam shadowing false\r\n",
       "skinparam wrapWidth 300\r\n",
       "hide circle\r\n",
       "\r\n",
       "package \"DependencyTest\" as E1  [[psysml:f9a8e327-3c68-43cc-8fc4-f0fda4441472 ]]  {\r\n",
       "package \"System\" as E2  [[psysml:5e0f80f7-1058-4b47-9f4f-e59769b1dff5 ]]  {\r\n",
       "package \"Application Layer\" as E3  [[psysml:d7cd1111-165d-4c09-9c1d-1c6e69d6b628 ]]  {\r\n",
       "}\r\n",
       "package \"Service Layer\" as E4  [[psysml:4fd532ef-c056-48ed-b57e-c34d41c7d9b0 ]]  {\r\n",
       "}\r\n",
       "package \"Data Layer\" as E5  [[psysml:f10bbfff-f917-435f-bbe7-eedf9b14a34c ]]  {\r\n",
       "}\r\n",
       "}\r\n",
       "comp usage \"x\" as E6  <<(T,blue)attribute>> [[psysml:52169dc2-f588-4d36-bb4d-934125a8defa ]] {\r\n",
       "}\r\n",
       "comp usage \"y\" as E7  <<(T,blue)attribute>> [[psysml:638ee95e-a488-4c6b-8aa7-581f6cf4c2fe ]] {\r\n",
       "}\r\n",
       "comp usage \"z\" as E8  <<(T,blue)attribute>> [[psysml:267f67df-ceab-4f9b-9288-379f8b6d76cc ]] {\r\n",
       "}\r\n",
       "E3 ..>> E4 [[psysml:d6fef634-817c-4ef1-96de-f37bb594aaea ]] : <<depend>>\r\n",
       "E4 ..>> E5 [[psysml:d4b689e0-de38-42ab-a0b3-2a8bf82e0669 ]] : <<depend>>\r\n",
       "E8 ..>> E6 [[psysml:c74e1bf4-ee72-40a7-b163-07732e38ed67 ]] : <<depend>>\r\n",
       "E8 ..>> E7 [[psysml:c74e1bf4-ee72-40a7-b163-07732e38ed67 ]] : <<depend>>\r\n",
       "}\r\n",
       "@enduml\r\n",
       "\n",
       "PlantUML version 1.2020.13(Sat Jun 13 12:26:38 UTC 2020)\n",
       "(EPL source distribution)\n",
       "Java Runtime: OpenJDK Runtime Environment\n",
       "JVM: OpenJDK 64-Bit Server VM\n",
       "Default Encoding: UTF-8\n",
       "Language: en\n",
       "Country: null\n",
       "--></g></svg>"
      ]
     },
     "execution_count": 21,
     "metadata": {},
     "output_type": "execute_result"
    }
   ],
   "source": [
    "%viz --style=\"LR\" --view=\"Sequence\" \"DependencyTest\""
   ]
  },
  {
   "cell_type": "code",
   "execution_count": 22,
   "id": "9f20ecef",
   "metadata": {
    "execution": {
     "iopub.execute_input": "2021-05-27T06:11:47.337383Z",
     "iopub.status.busy": "2021-05-27T06:11:47.336586Z",
     "iopub.status.idle": "2021-05-27T06:11:47.369308Z",
     "shell.execute_reply": "2021-05-27T06:11:47.367969Z"
    }
   },
   "outputs": [
    {
     "data": {
      "image/svg+xml": [
       "<?xml version=\"1.0\" encoding=\"UTF-8\" standalone=\"no\"?><svg xmlns=\"http://www.w3.org/2000/svg\" xmlns:xlink=\"http://www.w3.org/1999/xlink\" contentScriptType=\"application/ecmascript\" contentStyleType=\"text/css\" height=\"328px\" preserveAspectRatio=\"none\" style=\"width:758px;height:328px;\" version=\"1.1\" viewBox=\"0 0 758 328\" width=\"758px\" zoomAndPan=\"magnify\"><defs/><g><!--MD5=[fbc87193dbaf4d95561dea2c320d4a47]\n",
       "cluster E1--><a href=\"psysml:f9a8e327-3c68-43cc-8fc4-f0fda4441472\" target=\"_top\" title=\"psysml:f9a8e327-3c68-43cc-8fc4-f0fda4441472\" xlink:actuate=\"onRequest\" xlink:href=\"psysml:f9a8e327-3c68-43cc-8fc4-f0fda4441472\" xlink:show=\"new\" xlink:title=\"psysml:f9a8e327-3c68-43cc-8fc4-f0fda4441472\" xlink:type=\"simple\"><polygon fill=\"#FFFFFF\" points=\"16,6,156,6,163,28.2969,736,28.2969,736,316,16,316,16,6\" style=\"stroke: #000000; stroke-width: 1.5;\"/><line style=\"stroke: #000000; stroke-width: 1.5;\" x1=\"16\" x2=\"163\" y1=\"28.2969\" y2=\"28.2969\"/><text fill=\"#000000\" font-family=\"sans-serif\" font-size=\"14\" font-weight=\"bold\" lengthAdjust=\"spacingAndGlyphs\" textLength=\"134\" x=\"20\" y=\"20.9951\">DependencyTest</text></a><!--MD5=[e4f7fae6ed58524ba242bb0b0d3be6b7]\n",
       "cluster E2--><a href=\"psysml:5e0f80f7-1058-4b47-9f4f-e59769b1dff5\" target=\"_top\" title=\"psysml:5e0f80f7-1058-4b47-9f4f-e59769b1dff5\" xlink:actuate=\"onRequest\" xlink:href=\"psysml:5e0f80f7-1058-4b47-9f4f-e59769b1dff5\" xlink:show=\"new\" xlink:title=\"psysml:5e0f80f7-1058-4b47-9f4f-e59769b1dff5\" xlink:type=\"simple\"><polygon fill=\"#FFFFFF\" points=\"40,49,104,49,111,71.2969,712,71.2969,712,154,40,154,40,49\" style=\"stroke: #000000; stroke-width: 1.5;\"/><line style=\"stroke: #000000; stroke-width: 1.5;\" x1=\"40\" x2=\"111\" y1=\"71.2969\" y2=\"71.2969\"/><text fill=\"#000000\" font-family=\"sans-serif\" font-size=\"14\" font-weight=\"bold\" lengthAdjust=\"spacingAndGlyphs\" textLength=\"58\" x=\"44\" y=\"63.9951\">System</text></a><!--MD5=[60a26617385b1d2d0262a64233df1f8d]\n",
       "class E6--><a href=\"psysml:52169dc2-f588-4d36-bb4d-934125a8defa\" target=\"_top\" title=\"psysml:52169dc2-f588-4d36-bb4d-934125a8defa\" xlink:actuate=\"onRequest\" xlink:href=\"psysml:52169dc2-f588-4d36-bb4d-934125a8defa\" xlink:show=\"new\" xlink:title=\"psysml:52169dc2-f588-4d36-bb4d-934125a8defa\" xlink:type=\"simple\"><rect fill=\"#FFFFFF\" height=\"45.9375\" id=\"E6\" rx=\"10\" ry=\"10\" style=\"stroke: #383838; stroke-width: 1.5;\" width=\"71\" x=\"366.5\" y=\"254\"/><text fill=\"#000000\" font-family=\"sans-serif\" font-size=\"12\" font-style=\"italic\" lengthAdjust=\"spacingAndGlyphs\" textLength=\"69\" x=\"367.5\" y=\"270.1387\">«attribute»</text><text fill=\"#000000\" font-family=\"sans-serif\" font-size=\"12\" lengthAdjust=\"spacingAndGlyphs\" textLength=\"6\" x=\"399\" y=\"284.1074\">x</text><line style=\"stroke: #383838; stroke-width: 1.5;\" x1=\"367.5\" x2=\"436.5\" y1=\"291.9375\" y2=\"291.9375\"/></a><!--MD5=[2156ba9850f5573cc1fc38a6a4b2f02b]\n",
       "class E7--><a href=\"psysml:638ee95e-a488-4c6b-8aa7-581f6cf4c2fe\" target=\"_top\" title=\"psysml:638ee95e-a488-4c6b-8aa7-581f6cf4c2fe\" xlink:actuate=\"onRequest\" xlink:href=\"psysml:638ee95e-a488-4c6b-8aa7-581f6cf4c2fe\" xlink:show=\"new\" xlink:title=\"psysml:638ee95e-a488-4c6b-8aa7-581f6cf4c2fe\" xlink:type=\"simple\"><rect fill=\"#FFFFFF\" height=\"45.9375\" id=\"E7\" rx=\"10\" ry=\"10\" style=\"stroke: #383838; stroke-width: 1.5;\" width=\"71\" x=\"366.5\" y=\"173\"/><text fill=\"#000000\" font-family=\"sans-serif\" font-size=\"12\" font-style=\"italic\" lengthAdjust=\"spacingAndGlyphs\" textLength=\"69\" x=\"367.5\" y=\"189.1387\">«attribute»</text><text fill=\"#000000\" font-family=\"sans-serif\" font-size=\"12\" lengthAdjust=\"spacingAndGlyphs\" textLength=\"6\" x=\"399\" y=\"203.1074\">y</text><line style=\"stroke: #383838; stroke-width: 1.5;\" x1=\"367.5\" x2=\"436.5\" y1=\"210.9375\" y2=\"210.9375\"/></a><!--MD5=[b9389687b975829384b498ac4b7476b2]\n",
       "class E8--><a href=\"psysml:267f67df-ceab-4f9b-9288-379f8b6d76cc\" target=\"_top\" title=\"psysml:267f67df-ceab-4f9b-9288-379f8b6d76cc\" xlink:actuate=\"onRequest\" xlink:href=\"psysml:267f67df-ceab-4f9b-9288-379f8b6d76cc\" xlink:show=\"new\" xlink:title=\"psysml:267f67df-ceab-4f9b-9288-379f8b6d76cc\" xlink:type=\"simple\"><rect fill=\"#FFFFFF\" height=\"45.9375\" id=\"E8\" rx=\"10\" ry=\"10\" style=\"stroke: #383838; stroke-width: 1.5;\" width=\"71\" x=\"98.5\" y=\"206\"/><text fill=\"#000000\" font-family=\"sans-serif\" font-size=\"12\" font-style=\"italic\" lengthAdjust=\"spacingAndGlyphs\" textLength=\"69\" x=\"99.5\" y=\"222.1387\">«attribute»</text><text fill=\"#000000\" font-family=\"sans-serif\" font-size=\"12\" lengthAdjust=\"spacingAndGlyphs\" textLength=\"5\" x=\"131.5\" y=\"236.1074\">z</text><line style=\"stroke: #383838; stroke-width: 1.5;\" x1=\"99.5\" x2=\"168.5\" y1=\"243.9375\" y2=\"243.9375\"/></a><a href=\"psysml:d7cd1111-165d-4c09-9c1d-1c6e69d6b628\" target=\"_top\" title=\"psysml:d7cd1111-165d-4c09-9c1d-1c6e69d6b628\" xlink:actuate=\"onRequest\" xlink:href=\"psysml:d7cd1111-165d-4c09-9c1d-1c6e69d6b628\" xlink:show=\"new\" xlink:title=\"psysml:d7cd1111-165d-4c09-9c1d-1c6e69d6b628\" xlink:type=\"simple\"><polygon fill=\"#FFFFFF\" points=\"56,84.5,198,84.5,205,106.7969,212,106.7969,212,137.0938,56,137.0938,56,84.5\" style=\"stroke: #000000; stroke-width: 1.5;\"/><line style=\"stroke: #000000; stroke-width: 1.5;\" x1=\"56\" x2=\"205\" y1=\"106.7969\" y2=\"106.7969\"/><text fill=\"#000000\" font-family=\"sans-serif\" font-size=\"14\" font-weight=\"bold\" lengthAdjust=\"spacingAndGlyphs\" textLength=\"136\" x=\"60\" y=\"99.4951\">Application Layer</text></a><a href=\"psysml:4fd532ef-c056-48ed-b57e-c34d41c7d9b0\" target=\"_top\" title=\"psysml:4fd532ef-c056-48ed-b57e-c34d41c7d9b0\" xlink:actuate=\"onRequest\" xlink:href=\"psysml:4fd532ef-c056-48ed-b57e-c34d41c7d9b0\" xlink:show=\"new\" xlink:title=\"psysml:4fd532ef-c056-48ed-b57e-c34d41c7d9b0\" xlink:type=\"simple\"><polygon fill=\"#FFFFFF\" points=\"338,84.5,452,84.5,459,106.7969,466,106.7969,466,137.0938,338,137.0938,338,84.5\" style=\"stroke: #000000; stroke-width: 1.5;\"/><line style=\"stroke: #000000; stroke-width: 1.5;\" x1=\"338\" x2=\"459\" y1=\"106.7969\" y2=\"106.7969\"/><text fill=\"#000000\" font-family=\"sans-serif\" font-size=\"14\" font-weight=\"bold\" lengthAdjust=\"spacingAndGlyphs\" textLength=\"108\" x=\"342\" y=\"99.4951\">Service Layer</text></a><a href=\"psysml:f10bbfff-f917-435f-bbe7-eedf9b14a34c\" target=\"_top\" title=\"psysml:f10bbfff-f917-435f-bbe7-eedf9b14a34c\" xlink:actuate=\"onRequest\" xlink:href=\"psysml:f10bbfff-f917-435f-bbe7-eedf9b14a34c\" xlink:show=\"new\" xlink:title=\"psysml:f10bbfff-f917-435f-bbe7-eedf9b14a34c\" xlink:type=\"simple\"><polygon fill=\"#FFFFFF\" points=\"592,84.5,682,84.5,689,106.7969,696,106.7969,696,137.0938,592,137.0938,592,84.5\" style=\"stroke: #000000; stroke-width: 1.5;\"/><line style=\"stroke: #000000; stroke-width: 1.5;\" x1=\"592\" x2=\"689\" y1=\"106.7969\" y2=\"106.7969\"/><text fill=\"#000000\" font-family=\"sans-serif\" font-size=\"14\" font-weight=\"bold\" lengthAdjust=\"spacingAndGlyphs\" textLength=\"84\" x=\"596\" y=\"99.4951\">Data Layer</text></a><!--MD5=[af87c684e3b0d8be13c1a698a818ef1e]\n",
       "link E3 to E4--><a href=\"psysml:d6fef634-817c-4ef1-96de-f37bb594aaea\" target=\"_top\" title=\"psysml:d6fef634-817c-4ef1-96de-f37bb594aaea\" xlink:actuate=\"onRequest\" xlink:href=\"psysml:d6fef634-817c-4ef1-96de-f37bb594aaea\" xlink:show=\"new\" xlink:title=\"psysml:d6fef634-817c-4ef1-96de-f37bb594aaea\" xlink:type=\"simple\"><path d=\"M212.3,111 C249.37,111 293.5,111 329.76,111 \" fill=\"none\" id=\"E3-&gt;E4\" style=\"stroke: #383838; stroke-width: 1.0; stroke-dasharray: 7.0,7.0;\"/><polygon fill=\"#383838\" points=\"337.84,111,329.84,108,329.84,114,337.84,111\" style=\"stroke: #383838; stroke-width: 1.0;\"/><text fill=\"#000000\" font-family=\"sans-serif\" font-size=\"13\" lengthAdjust=\"spacingAndGlyphs\" textLength=\"64\" x=\"243\" y=\"107.0669\">«depend»</text></a><!--MD5=[1b7591eae5389033d8d09a9d6721a717]\n",
       "link E4 to E5--><a href=\"psysml:d4b689e0-de38-42ab-a0b3-2a8bf82e0669\" target=\"_top\" title=\"psysml:d4b689e0-de38-42ab-a0b3-2a8bf82e0669\" xlink:actuate=\"onRequest\" xlink:href=\"psysml:d4b689e0-de38-42ab-a0b3-2a8bf82e0669\" xlink:show=\"new\" xlink:title=\"psysml:d4b689e0-de38-42ab-a0b3-2a8bf82e0669\" xlink:type=\"simple\"><path d=\"M466.06,111 C502.32,111 547.6,111 583.28,111 \" fill=\"none\" id=\"E4-&gt;E5\" style=\"stroke: #383838; stroke-width: 1.0; stroke-dasharray: 7.0,7.0;\"/><polygon fill=\"#383838\" points=\"591.67,111,583.67,108,583.67,114,591.67,111\" style=\"stroke: #383838; stroke-width: 1.0;\"/><text fill=\"#000000\" font-family=\"sans-serif\" font-size=\"13\" lengthAdjust=\"spacingAndGlyphs\" textLength=\"64\" x=\"497\" y=\"107.0669\">«depend»</text></a><!--MD5=[c5e8897d989ce984f93528998a7150fe]\n",
       "link E8 to E6--><a href=\"psysml:c74e1bf4-ee72-40a7-b163-07732e38ed67\" target=\"_top\" title=\"psysml:c74e1bf4-ee72-40a7-b163-07732e38ed67\" xlink:actuate=\"onRequest\" xlink:href=\"psysml:c74e1bf4-ee72-40a7-b163-07732e38ed67\" xlink:show=\"new\" xlink:title=\"psysml:c74e1bf4-ee72-40a7-b163-07732e38ed67\" xlink:type=\"simple\"><path d=\"M169.5,235.23 C217.81,243.94 305.54,259.77 358.03,269.25 \" fill=\"none\" id=\"E8-&gt;E6\" style=\"stroke: #383838; stroke-width: 1.0; stroke-dasharray: 7.0,7.0;\"/><polygon fill=\"#383838\" points=\"366.14,270.71,358.7966,266.3425,357.7356,272.248,366.14,270.71\" style=\"stroke: #383838; stroke-width: 1.0;\"/><text fill=\"#000000\" font-family=\"sans-serif\" font-size=\"13\" lengthAdjust=\"spacingAndGlyphs\" textLength=\"64\" x=\"243\" y=\"245.0669\">«depend»</text></a><!--MD5=[bfa3c8b0d15052fdf50ae9310b491027]\n",
       "link E8 to E7--><a href=\"psysml:c74e1bf4-ee72-40a7-b163-07732e38ed67\" target=\"_top\" title=\"psysml:c74e1bf4-ee72-40a7-b163-07732e38ed67\" xlink:actuate=\"onRequest\" xlink:href=\"psysml:c74e1bf4-ee72-40a7-b163-07732e38ed67\" xlink:show=\"new\" xlink:title=\"psysml:c74e1bf4-ee72-40a7-b163-07732e38ed67\" xlink:type=\"simple\"><path d=\"M169.5,224.72 C217.81,218.73 305.54,207.84 358.03,201.33 \" fill=\"none\" id=\"E8-&gt;E7\" style=\"stroke: #383838; stroke-width: 1.0; stroke-dasharray: 7.0,7.0;\"/><polygon fill=\"#383838\" points=\"366.14,200.33,357.8314,198.3381,358.5704,204.2924,366.14,200.33\" style=\"stroke: #383838; stroke-width: 1.0;\"/><text fill=\"#000000\" font-family=\"sans-serif\" font-size=\"13\" lengthAdjust=\"spacingAndGlyphs\" textLength=\"64\" x=\"243\" y=\"204.0669\">«depend»</text></a><!--MD5=[508fb42afceb6a951d69b79b2fdeae2e]\n",
       "@startuml\r\n",
       "left to right direction\r\n",
       "skinparam monochrome true\r\n",
       "skinparam classbackgroundcolor white\r\n",
       "skinparam shadowing false\r\n",
       "skinparam wrapWidth 300\r\n",
       "hide circle\r\n",
       "\r\n",
       "package \"DependencyTest\" as E1  [[psysml:f9a8e327-3c68-43cc-8fc4-f0fda4441472 ]]  {\r\n",
       "package \"System\" as E2  [[psysml:5e0f80f7-1058-4b47-9f4f-e59769b1dff5 ]]  {\r\n",
       "package \"Application Layer\" as E3  [[psysml:d7cd1111-165d-4c09-9c1d-1c6e69d6b628 ]]  {\r\n",
       "}\r\n",
       "package \"Service Layer\" as E4  [[psysml:4fd532ef-c056-48ed-b57e-c34d41c7d9b0 ]]  {\r\n",
       "}\r\n",
       "package \"Data Layer\" as E5  [[psysml:f10bbfff-f917-435f-bbe7-eedf9b14a34c ]]  {\r\n",
       "}\r\n",
       "}\r\n",
       "comp usage \"x\" as E6  <<(T,blue)attribute>> [[psysml:52169dc2-f588-4d36-bb4d-934125a8defa ]] {\r\n",
       "}\r\n",
       "comp usage \"y\" as E7  <<(T,blue)attribute>> [[psysml:638ee95e-a488-4c6b-8aa7-581f6cf4c2fe ]] {\r\n",
       "}\r\n",
       "comp usage \"z\" as E8  <<(T,blue)attribute>> [[psysml:267f67df-ceab-4f9b-9288-379f8b6d76cc ]] {\r\n",
       "}\r\n",
       "E3 ..>> E4 [[psysml:d6fef634-817c-4ef1-96de-f37bb594aaea ]] : <<depend>>\r\n",
       "E4 ..>> E5 [[psysml:d4b689e0-de38-42ab-a0b3-2a8bf82e0669 ]] : <<depend>>\r\n",
       "E8 ..>> E6 [[psysml:c74e1bf4-ee72-40a7-b163-07732e38ed67 ]] : <<depend>>\r\n",
       "E8 ..>> E7 [[psysml:c74e1bf4-ee72-40a7-b163-07732e38ed67 ]] : <<depend>>\r\n",
       "}\r\n",
       "@enduml\r\n",
       "\n",
       "PlantUML version 1.2020.13(Sat Jun 13 12:26:38 UTC 2020)\n",
       "(EPL source distribution)\n",
       "Java Runtime: OpenJDK Runtime Environment\n",
       "JVM: OpenJDK 64-Bit Server VM\n",
       "Default Encoding: UTF-8\n",
       "Language: en\n",
       "Country: null\n",
       "--></g></svg>"
      ]
     },
     "execution_count": 22,
     "metadata": {},
     "output_type": "execute_result"
    }
   ],
   "source": [
    "%viz --style=\"LR\" --view=\"MIXED\" \"DependencyTest\""
   ]
  },
  {
   "cell_type": "code",
   "execution_count": 23,
   "id": "e7d83ea4",
   "metadata": {
    "execution": {
     "iopub.execute_input": "2021-05-27T06:11:47.419006Z",
     "iopub.status.busy": "2021-05-27T06:11:47.418558Z",
     "iopub.status.idle": "2021-05-27T06:11:47.472047Z",
     "shell.execute_reply": "2021-05-27T06:11:47.470811Z"
    }
   },
   "outputs": [
    {
     "data": {
      "image/svg+xml": [
       "<?xml version=\"1.0\" encoding=\"UTF-8\" standalone=\"no\"?><svg xmlns=\"http://www.w3.org/2000/svg\" xmlns:xlink=\"http://www.w3.org/1999/xlink\" contentScriptType=\"application/ecmascript\" contentStyleType=\"text/css\" height=\"449px\" preserveAspectRatio=\"none\" style=\"width:489px;height:449px;\" version=\"1.1\" viewBox=\"0 0 489 449\" width=\"489px\" zoomAndPan=\"magnify\"><defs><filter height=\"300%\" id=\"f1vazmxef8qevf\" width=\"300%\" x=\"-1\" y=\"-1\"><feGaussianBlur result=\"blurOut\" stdDeviation=\"2.0\"/><feColorMatrix in=\"blurOut\" result=\"blurOut2\" type=\"matrix\" values=\"0 0 0 0 0 0 0 0 0 0 0 0 0 0 0 0 0 0 .4 0\"/><feOffset dx=\"4.0\" dy=\"4.0\" in=\"blurOut2\" result=\"blurOut3\"/><feBlend in=\"SourceGraphic\" in2=\"blurOut3\" mode=\"normal\"/></filter></defs><g><!--MD5=[fbc87193dbaf4d95561dea2c320d4a47]\n",
       "cluster E1--><a href=\"psysml:f9a8e327-3c68-43cc-8fc4-f0fda4441472\" target=\"_top\" title=\"psysml:f9a8e327-3c68-43cc-8fc4-f0fda4441472\" xlink:actuate=\"onRequest\" xlink:href=\"psysml:f9a8e327-3c68-43cc-8fc4-f0fda4441472\" xlink:show=\"new\" xlink:title=\"psysml:f9a8e327-3c68-43cc-8fc4-f0fda4441472\" xlink:type=\"simple\"><polygon fill=\"#FFFFFF\" filter=\"url(#f1vazmxef8qevf)\" points=\"16,6,156,6,163,28.2969,467,28.2969,467,437,16,437,16,6\" style=\"stroke: #000000; stroke-width: 1.5;\"/><line style=\"stroke: #000000; stroke-width: 1.5;\" x1=\"16\" x2=\"163\" y1=\"28.2969\" y2=\"28.2969\"/><text fill=\"#000000\" font-family=\"sans-serif\" font-size=\"14\" font-weight=\"bold\" lengthAdjust=\"spacingAndGlyphs\" textLength=\"134\" x=\"20\" y=\"20.9951\">DependencyTest</text></a><!--MD5=[e4f7fae6ed58524ba242bb0b0d3be6b7]\n",
       "cluster E2--><a href=\"psysml:5e0f80f7-1058-4b47-9f4f-e59769b1dff5\" target=\"_top\" title=\"psysml:5e0f80f7-1058-4b47-9f4f-e59769b1dff5\" xlink:actuate=\"onRequest\" xlink:href=\"psysml:5e0f80f7-1058-4b47-9f4f-e59769b1dff5\" xlink:show=\"new\" xlink:title=\"psysml:5e0f80f7-1058-4b47-9f4f-e59769b1dff5\" xlink:type=\"simple\"><polygon fill=\"#FFFFFF\" filter=\"url(#f1vazmxef8qevf)\" points=\"255,49,319,49,326,71.2969,443,71.2969,443,413,255,413,255,49\" style=\"stroke: #000000; stroke-width: 1.5;\"/><line style=\"stroke: #000000; stroke-width: 1.5;\" x1=\"255\" x2=\"326\" y1=\"71.2969\" y2=\"71.2969\"/><text fill=\"#000000\" font-family=\"sans-serif\" font-size=\"14\" font-weight=\"bold\" lengthAdjust=\"spacingAndGlyphs\" textLength=\"58\" x=\"259\" y=\"63.9951\">System</text></a><!--MD5=[60a26617385b1d2d0262a64233df1f8d]\n",
       "class E6--><a href=\"psysml:52169dc2-f588-4d36-bb4d-934125a8defa\" target=\"_top\" title=\"psysml:52169dc2-f588-4d36-bb4d-934125a8defa\" xlink:actuate=\"onRequest\" xlink:href=\"psysml:52169dc2-f588-4d36-bb4d-934125a8defa\" xlink:show=\"new\" xlink:title=\"psysml:52169dc2-f588-4d36-bb4d-934125a8defa\" xlink:type=\"simple\"><rect fill=\"#FEFECE\" filter=\"url(#f1vazmxef8qevf)\" height=\"45.9375\" id=\"E6\" rx=\"10\" ry=\"10\" style=\"stroke: #A80036; stroke-width: 1.5;\" width=\"71\" x=\"32.5\" y=\"217.5\"/><text fill=\"#000000\" font-family=\"sans-serif\" font-size=\"12\" font-style=\"italic\" lengthAdjust=\"spacingAndGlyphs\" textLength=\"69\" x=\"33.5\" y=\"233.6387\">«attribute»</text><text fill=\"#000000\" font-family=\"sans-serif\" font-size=\"12\" lengthAdjust=\"spacingAndGlyphs\" textLength=\"6\" x=\"65\" y=\"247.6074\">x</text><line style=\"stroke: #A80036; stroke-width: 1.5;\" x1=\"33.5\" x2=\"102.5\" y1=\"255.4375\" y2=\"255.4375\"/></a><!--MD5=[2156ba9850f5573cc1fc38a6a4b2f02b]\n",
       "class E7--><a href=\"psysml:638ee95e-a488-4c6b-8aa7-581f6cf4c2fe\" target=\"_top\" title=\"psysml:638ee95e-a488-4c6b-8aa7-581f6cf4c2fe\" xlink:actuate=\"onRequest\" xlink:href=\"psysml:638ee95e-a488-4c6b-8aa7-581f6cf4c2fe\" xlink:show=\"new\" xlink:title=\"psysml:638ee95e-a488-4c6b-8aa7-581f6cf4c2fe\" xlink:type=\"simple\"><rect fill=\"#FEFECE\" filter=\"url(#f1vazmxef8qevf)\" height=\"45.9375\" id=\"E7\" rx=\"10\" ry=\"10\" style=\"stroke: #A80036; stroke-width: 1.5;\" width=\"71\" x=\"138.5\" y=\"217.5\"/><text fill=\"#000000\" font-family=\"sans-serif\" font-size=\"12\" font-style=\"italic\" lengthAdjust=\"spacingAndGlyphs\" textLength=\"69\" x=\"139.5\" y=\"233.6387\">«attribute»</text><text fill=\"#000000\" font-family=\"sans-serif\" font-size=\"12\" lengthAdjust=\"spacingAndGlyphs\" textLength=\"6\" x=\"171\" y=\"247.6074\">y</text><line style=\"stroke: #A80036; stroke-width: 1.5;\" x1=\"139.5\" x2=\"208.5\" y1=\"255.4375\" y2=\"255.4375\"/></a><!--MD5=[b9389687b975829384b498ac4b7476b2]\n",
       "class E8--><a href=\"psysml:267f67df-ceab-4f9b-9288-379f8b6d76cc\" target=\"_top\" title=\"psysml:267f67df-ceab-4f9b-9288-379f8b6d76cc\" xlink:actuate=\"onRequest\" xlink:href=\"psysml:267f67df-ceab-4f9b-9288-379f8b6d76cc\" xlink:show=\"new\" xlink:title=\"psysml:267f67df-ceab-4f9b-9288-379f8b6d76cc\" xlink:type=\"simple\"><rect fill=\"#FEFECE\" filter=\"url(#f1vazmxef8qevf)\" height=\"45.9375\" id=\"E8\" rx=\"10\" ry=\"10\" style=\"stroke: #A80036; stroke-width: 1.5;\" width=\"71\" x=\"84.5\" y=\"87.5\"/><text fill=\"#000000\" font-family=\"sans-serif\" font-size=\"12\" font-style=\"italic\" lengthAdjust=\"spacingAndGlyphs\" textLength=\"69\" x=\"85.5\" y=\"103.6387\">«attribute»</text><text fill=\"#000000\" font-family=\"sans-serif\" font-size=\"12\" lengthAdjust=\"spacingAndGlyphs\" textLength=\"5\" x=\"117.5\" y=\"117.6074\">z</text><line style=\"stroke: #A80036; stroke-width: 1.5;\" x1=\"85.5\" x2=\"154.5\" y1=\"125.4375\" y2=\"125.4375\"/></a><a href=\"psysml:d7cd1111-165d-4c09-9c1d-1c6e69d6b628\" target=\"_top\" title=\"psysml:d7cd1111-165d-4c09-9c1d-1c6e69d6b628\" xlink:actuate=\"onRequest\" xlink:href=\"psysml:d7cd1111-165d-4c09-9c1d-1c6e69d6b628\" xlink:show=\"new\" xlink:title=\"psysml:d7cd1111-165d-4c09-9c1d-1c6e69d6b628\" xlink:type=\"simple\"><polygon fill=\"#FFFFFF\" filter=\"url(#f1vazmxef8qevf)\" points=\"271,84,413,84,420,106.2969,427,106.2969,427,136.5938,271,136.5938,271,84\" style=\"stroke: #000000; stroke-width: 1.5;\"/><line style=\"stroke: #000000; stroke-width: 1.5;\" x1=\"271\" x2=\"420\" y1=\"106.2969\" y2=\"106.2969\"/><text fill=\"#000000\" font-family=\"sans-serif\" font-size=\"14\" font-weight=\"bold\" lengthAdjust=\"spacingAndGlyphs\" textLength=\"136\" x=\"275\" y=\"98.9951\">Application Layer</text></a><a href=\"psysml:4fd532ef-c056-48ed-b57e-c34d41c7d9b0\" target=\"_top\" title=\"psysml:4fd532ef-c056-48ed-b57e-c34d41c7d9b0\" xlink:actuate=\"onRequest\" xlink:href=\"psysml:4fd532ef-c056-48ed-b57e-c34d41c7d9b0\" xlink:show=\"new\" xlink:title=\"psysml:4fd532ef-c056-48ed-b57e-c34d41c7d9b0\" xlink:type=\"simple\"><polygon fill=\"#FFFFFF\" filter=\"url(#f1vazmxef8qevf)\" points=\"285,214,399,214,406,236.2969,413,236.2969,413,266.5938,285,266.5938,285,214\" style=\"stroke: #000000; stroke-width: 1.5;\"/><line style=\"stroke: #000000; stroke-width: 1.5;\" x1=\"285\" x2=\"406\" y1=\"236.2969\" y2=\"236.2969\"/><text fill=\"#000000\" font-family=\"sans-serif\" font-size=\"14\" font-weight=\"bold\" lengthAdjust=\"spacingAndGlyphs\" textLength=\"108\" x=\"289\" y=\"228.9951\">Service Layer</text></a><a href=\"psysml:f10bbfff-f917-435f-bbe7-eedf9b14a34c\" target=\"_top\" title=\"psysml:f10bbfff-f917-435f-bbe7-eedf9b14a34c\" xlink:actuate=\"onRequest\" xlink:href=\"psysml:f10bbfff-f917-435f-bbe7-eedf9b14a34c\" xlink:show=\"new\" xlink:title=\"psysml:f10bbfff-f917-435f-bbe7-eedf9b14a34c\" xlink:type=\"simple\"><polygon fill=\"#FFFFFF\" filter=\"url(#f1vazmxef8qevf)\" points=\"297,344,387,344,394,366.2969,401,366.2969,401,396.5938,297,396.5938,297,344\" style=\"stroke: #000000; stroke-width: 1.5;\"/><line style=\"stroke: #000000; stroke-width: 1.5;\" x1=\"297\" x2=\"394\" y1=\"366.2969\" y2=\"366.2969\"/><text fill=\"#000000\" font-family=\"sans-serif\" font-size=\"14\" font-weight=\"bold\" lengthAdjust=\"spacingAndGlyphs\" textLength=\"84\" x=\"301\" y=\"358.9951\">Data Layer</text></a><!--MD5=[af87c684e3b0d8be13c1a698a818ef1e]\n",
       "link E3 to E4--><a href=\"psysml:d6fef634-817c-4ef1-96de-f37bb594aaea\" target=\"_top\" title=\"psysml:d6fef634-817c-4ef1-96de-f37bb594aaea\" xlink:actuate=\"onRequest\" xlink:href=\"psysml:d6fef634-817c-4ef1-96de-f37bb594aaea\" xlink:show=\"new\" xlink:title=\"psysml:d6fef634-817c-4ef1-96de-f37bb594aaea\" xlink:type=\"simple\"><path d=\"M349,137.1 C349,156.8 349,184.22 349,205.73 \" fill=\"none\" id=\"E3-&gt;E4\" style=\"stroke: #A80036; stroke-width: 1.0; stroke-dasharray: 7.0,7.0;\"/><polygon fill=\"#A80036\" points=\"349,213.95,352,205.95,346,205.95,349,213.95\" style=\"stroke: #A80036; stroke-width: 1.0;\"/><text fill=\"#000000\" font-family=\"sans-serif\" font-size=\"13\" lengthAdjust=\"spacingAndGlyphs\" textLength=\"64\" x=\"350\" y=\"180.0669\">«depend»</text></a><!--MD5=[1b7591eae5389033d8d09a9d6721a717]\n",
       "link E4 to E5--><a href=\"psysml:d4b689e0-de38-42ab-a0b3-2a8bf82e0669\" target=\"_top\" title=\"psysml:d4b689e0-de38-42ab-a0b3-2a8bf82e0669\" xlink:actuate=\"onRequest\" xlink:href=\"psysml:d4b689e0-de38-42ab-a0b3-2a8bf82e0669\" xlink:show=\"new\" xlink:title=\"psysml:d4b689e0-de38-42ab-a0b3-2a8bf82e0669\" xlink:type=\"simple\"><path d=\"M349,267.1 C349,286.8 349,314.22 349,335.73 \" fill=\"none\" id=\"E4-&gt;E5\" style=\"stroke: #A80036; stroke-width: 1.0; stroke-dasharray: 7.0,7.0;\"/><polygon fill=\"#A80036\" points=\"349,343.95,352,335.95,346,335.95,349,343.95\" style=\"stroke: #A80036; stroke-width: 1.0;\"/><text fill=\"#000000\" font-family=\"sans-serif\" font-size=\"13\" lengthAdjust=\"spacingAndGlyphs\" textLength=\"64\" x=\"350\" y=\"310.0669\">«depend»</text></a><!--MD5=[c5e8897d989ce984f93528998a7150fe]\n",
       "link E8 to E6--><a href=\"psysml:c74e1bf4-ee72-40a7-b163-07732e38ed67\" target=\"_top\" title=\"psysml:c74e1bf4-ee72-40a7-b163-07732e38ed67\" xlink:actuate=\"onRequest\" xlink:href=\"psysml:c74e1bf4-ee72-40a7-b163-07732e38ed67\" xlink:show=\"new\" xlink:title=\"psysml:c74e1bf4-ee72-40a7-b163-07732e38ed67\" xlink:type=\"simple\"><path d=\"M89.42,133.6 C79.35,142.68 69.37,154.11 64,167 C58.5,180.2 58.66,195.94 60.54,209.38 \" fill=\"none\" id=\"E8-&gt;E6\" style=\"stroke: #A80036; stroke-width: 1.0; stroke-dasharray: 7.0,7.0;\"/><polygon fill=\"#A80036\" points=\"61.9,217.4,63.517,209.0104,57.6018,210.0159,61.9,217.4\" style=\"stroke: #A80036; stroke-width: 1.0;\"/><text fill=\"#000000\" font-family=\"sans-serif\" font-size=\"13\" lengthAdjust=\"spacingAndGlyphs\" textLength=\"64\" x=\"65\" y=\"180.0669\">«depend»</text></a><!--MD5=[bfa3c8b0d15052fdf50ae9310b491027]\n",
       "link E8 to E7--><a href=\"psysml:c74e1bf4-ee72-40a7-b163-07732e38ed67\" target=\"_top\" title=\"psysml:c74e1bf4-ee72-40a7-b163-07732e38ed67\" xlink:actuate=\"onRequest\" xlink:href=\"psysml:c74e1bf4-ee72-40a7-b163-07732e38ed67\" xlink:show=\"new\" xlink:title=\"psysml:c74e1bf4-ee72-40a7-b163-07732e38ed67\" xlink:type=\"simple\"><path d=\"M129.28,133.5 C138.17,154.57 151.64,186.5 161.47,209.81 \" fill=\"none\" id=\"E8-&gt;E7\" style=\"stroke: #A80036; stroke-width: 1.0; stroke-dasharray: 7.0,7.0;\"/><polygon fill=\"#A80036\" points=\"164.66,217.35,164.3241,208.8126,158.7933,211.1385,164.66,217.35\" style=\"stroke: #A80036; stroke-width: 1.0;\"/><text fill=\"#000000\" font-family=\"sans-serif\" font-size=\"13\" lengthAdjust=\"spacingAndGlyphs\" textLength=\"64\" x=\"151\" y=\"180.0669\">«depend»</text></a><!--MD5=[1d39e676eec0a527037883adf6eb0b87]\n",
       "@startuml\r\n",
       "skinparam wrapWidth 300\r\n",
       "hide circle\r\n",
       "\r\n",
       "package \"DependencyTest\" as E1  [[psysml:f9a8e327-3c68-43cc-8fc4-f0fda4441472 ]]  {\r\n",
       "package \"System\" as E2  [[psysml:5e0f80f7-1058-4b47-9f4f-e59769b1dff5 ]]  {\r\n",
       "package \"Application Layer\" as E3  [[psysml:d7cd1111-165d-4c09-9c1d-1c6e69d6b628 ]]  {\r\n",
       "}\r\n",
       "package \"Service Layer\" as E4  [[psysml:4fd532ef-c056-48ed-b57e-c34d41c7d9b0 ]]  {\r\n",
       "}\r\n",
       "package \"Data Layer\" as E5  [[psysml:f10bbfff-f917-435f-bbe7-eedf9b14a34c ]]  {\r\n",
       "}\r\n",
       "}\r\n",
       "comp usage \"x\" as E6  <<(T,blue)attribute>> [[psysml:52169dc2-f588-4d36-bb4d-934125a8defa ]] {\r\n",
       "}\r\n",
       "comp usage \"y\" as E7  <<(T,blue)attribute>> [[psysml:638ee95e-a488-4c6b-8aa7-581f6cf4c2fe ]] {\r\n",
       "}\r\n",
       "comp usage \"z\" as E8  <<(T,blue)attribute>> [[psysml:267f67df-ceab-4f9b-9288-379f8b6d76cc ]] {\r\n",
       "}\r\n",
       "E3 ..>> E4 [[psysml:d6fef634-817c-4ef1-96de-f37bb594aaea ]] : <<depend>>\r\n",
       "E4 ..>> E5 [[psysml:d4b689e0-de38-42ab-a0b3-2a8bf82e0669 ]] : <<depend>>\r\n",
       "E8 ..>> E6 [[psysml:c74e1bf4-ee72-40a7-b163-07732e38ed67 ]] : <<depend>>\r\n",
       "E8 ..>> E7 [[psysml:c74e1bf4-ee72-40a7-b163-07732e38ed67 ]] : <<depend>>\r\n",
       "}\r\n",
       "@enduml\r\n",
       "\n",
       "PlantUML version 1.2020.13(Sat Jun 13 12:26:38 UTC 2020)\n",
       "(EPL source distribution)\n",
       "Java Runtime: OpenJDK Runtime Environment\n",
       "JVM: OpenJDK 64-Bit Server VM\n",
       "Default Encoding: UTF-8\n",
       "Language: en\n",
       "Country: null\n",
       "--></g></svg>"
      ]
     },
     "execution_count": 23,
     "metadata": {},
     "output_type": "execute_result"
    }
   ],
   "source": [
    "%viz --style=\"STDCOLOR\" --view=\"Default\" \"DependencyTest\""
   ]
  },
  {
   "cell_type": "code",
   "execution_count": 24,
   "id": "8ba13752",
   "metadata": {
    "execution": {
     "iopub.execute_input": "2021-05-27T06:11:47.529546Z",
     "iopub.status.busy": "2021-05-27T06:11:47.529163Z",
     "iopub.status.idle": "2021-05-27T06:11:47.559928Z",
     "shell.execute_reply": "2021-05-27T06:11:47.559497Z"
    }
   },
   "outputs": [
    {
     "data": {
      "image/svg+xml": [
       "<?xml version=\"1.0\" encoding=\"UTF-8\" standalone=\"no\"?><svg xmlns=\"http://www.w3.org/2000/svg\" xmlns:xlink=\"http://www.w3.org/1999/xlink\" contentScriptType=\"application/ecmascript\" contentStyleType=\"text/css\" height=\"449px\" preserveAspectRatio=\"none\" style=\"width:489px;height:449px;\" version=\"1.1\" viewBox=\"0 0 489 449\" width=\"489px\" zoomAndPan=\"magnify\"><defs><filter height=\"300%\" id=\"f1vazmxef8qevf\" width=\"300%\" x=\"-1\" y=\"-1\"><feGaussianBlur result=\"blurOut\" stdDeviation=\"2.0\"/><feColorMatrix in=\"blurOut\" result=\"blurOut2\" type=\"matrix\" values=\"0 0 0 0 0 0 0 0 0 0 0 0 0 0 0 0 0 0 .4 0\"/><feOffset dx=\"4.0\" dy=\"4.0\" in=\"blurOut2\" result=\"blurOut3\"/><feBlend in=\"SourceGraphic\" in2=\"blurOut3\" mode=\"normal\"/></filter></defs><g><!--MD5=[fbc87193dbaf4d95561dea2c320d4a47]\n",
       "cluster E1--><a href=\"psysml:f9a8e327-3c68-43cc-8fc4-f0fda4441472\" target=\"_top\" title=\"psysml:f9a8e327-3c68-43cc-8fc4-f0fda4441472\" xlink:actuate=\"onRequest\" xlink:href=\"psysml:f9a8e327-3c68-43cc-8fc4-f0fda4441472\" xlink:show=\"new\" xlink:title=\"psysml:f9a8e327-3c68-43cc-8fc4-f0fda4441472\" xlink:type=\"simple\"><polygon fill=\"#FFFFFF\" filter=\"url(#f1vazmxef8qevf)\" points=\"16,6,156,6,163,28.2969,467,28.2969,467,437,16,437,16,6\" style=\"stroke: #000000; stroke-width: 1.5;\"/><line style=\"stroke: #000000; stroke-width: 1.5;\" x1=\"16\" x2=\"163\" y1=\"28.2969\" y2=\"28.2969\"/><text fill=\"#000000\" font-family=\"sans-serif\" font-size=\"14\" font-weight=\"bold\" lengthAdjust=\"spacingAndGlyphs\" textLength=\"134\" x=\"20\" y=\"20.9951\">DependencyTest</text></a><!--MD5=[e4f7fae6ed58524ba242bb0b0d3be6b7]\n",
       "cluster E2--><a href=\"psysml:5e0f80f7-1058-4b47-9f4f-e59769b1dff5\" target=\"_top\" title=\"psysml:5e0f80f7-1058-4b47-9f4f-e59769b1dff5\" xlink:actuate=\"onRequest\" xlink:href=\"psysml:5e0f80f7-1058-4b47-9f4f-e59769b1dff5\" xlink:show=\"new\" xlink:title=\"psysml:5e0f80f7-1058-4b47-9f4f-e59769b1dff5\" xlink:type=\"simple\"><polygon fill=\"#FFFFFF\" filter=\"url(#f1vazmxef8qevf)\" points=\"255,49,319,49,326,71.2969,443,71.2969,443,413,255,413,255,49\" style=\"stroke: #000000; stroke-width: 1.5;\"/><line style=\"stroke: #000000; stroke-width: 1.5;\" x1=\"255\" x2=\"326\" y1=\"71.2969\" y2=\"71.2969\"/><text fill=\"#000000\" font-family=\"sans-serif\" font-size=\"14\" font-weight=\"bold\" lengthAdjust=\"spacingAndGlyphs\" textLength=\"58\" x=\"259\" y=\"63.9951\">System</text></a><!--MD5=[60a26617385b1d2d0262a64233df1f8d]\n",
       "class E6--><a href=\"psysml:52169dc2-f588-4d36-bb4d-934125a8defa\" target=\"_top\" title=\"psysml:52169dc2-f588-4d36-bb4d-934125a8defa\" xlink:actuate=\"onRequest\" xlink:href=\"psysml:52169dc2-f588-4d36-bb4d-934125a8defa\" xlink:show=\"new\" xlink:title=\"psysml:52169dc2-f588-4d36-bb4d-934125a8defa\" xlink:type=\"simple\"><rect fill=\"#FEFECE\" filter=\"url(#f1vazmxef8qevf)\" height=\"45.9375\" id=\"E6\" rx=\"10\" ry=\"10\" style=\"stroke: #A80036; stroke-width: 1.5;\" width=\"71\" x=\"32.5\" y=\"217.5\"/><text fill=\"#000000\" font-family=\"sans-serif\" font-size=\"12\" font-style=\"italic\" lengthAdjust=\"spacingAndGlyphs\" textLength=\"69\" x=\"33.5\" y=\"233.6387\">«attribute»</text><text fill=\"#000000\" font-family=\"sans-serif\" font-size=\"12\" lengthAdjust=\"spacingAndGlyphs\" textLength=\"6\" x=\"65\" y=\"247.6074\">x</text><line style=\"stroke: #A80036; stroke-width: 1.5;\" x1=\"33.5\" x2=\"102.5\" y1=\"255.4375\" y2=\"255.4375\"/></a><!--MD5=[2156ba9850f5573cc1fc38a6a4b2f02b]\n",
       "class E7--><a href=\"psysml:638ee95e-a488-4c6b-8aa7-581f6cf4c2fe\" target=\"_top\" title=\"psysml:638ee95e-a488-4c6b-8aa7-581f6cf4c2fe\" xlink:actuate=\"onRequest\" xlink:href=\"psysml:638ee95e-a488-4c6b-8aa7-581f6cf4c2fe\" xlink:show=\"new\" xlink:title=\"psysml:638ee95e-a488-4c6b-8aa7-581f6cf4c2fe\" xlink:type=\"simple\"><rect fill=\"#FEFECE\" filter=\"url(#f1vazmxef8qevf)\" height=\"45.9375\" id=\"E7\" rx=\"10\" ry=\"10\" style=\"stroke: #A80036; stroke-width: 1.5;\" width=\"71\" x=\"138.5\" y=\"217.5\"/><text fill=\"#000000\" font-family=\"sans-serif\" font-size=\"12\" font-style=\"italic\" lengthAdjust=\"spacingAndGlyphs\" textLength=\"69\" x=\"139.5\" y=\"233.6387\">«attribute»</text><text fill=\"#000000\" font-family=\"sans-serif\" font-size=\"12\" lengthAdjust=\"spacingAndGlyphs\" textLength=\"6\" x=\"171\" y=\"247.6074\">y</text><line style=\"stroke: #A80036; stroke-width: 1.5;\" x1=\"139.5\" x2=\"208.5\" y1=\"255.4375\" y2=\"255.4375\"/></a><!--MD5=[b9389687b975829384b498ac4b7476b2]\n",
       "class E8--><a href=\"psysml:267f67df-ceab-4f9b-9288-379f8b6d76cc\" target=\"_top\" title=\"psysml:267f67df-ceab-4f9b-9288-379f8b6d76cc\" xlink:actuate=\"onRequest\" xlink:href=\"psysml:267f67df-ceab-4f9b-9288-379f8b6d76cc\" xlink:show=\"new\" xlink:title=\"psysml:267f67df-ceab-4f9b-9288-379f8b6d76cc\" xlink:type=\"simple\"><rect fill=\"#FEFECE\" filter=\"url(#f1vazmxef8qevf)\" height=\"45.9375\" id=\"E8\" rx=\"10\" ry=\"10\" style=\"stroke: #A80036; stroke-width: 1.5;\" width=\"71\" x=\"84.5\" y=\"87.5\"/><text fill=\"#000000\" font-family=\"sans-serif\" font-size=\"12\" font-style=\"italic\" lengthAdjust=\"spacingAndGlyphs\" textLength=\"69\" x=\"85.5\" y=\"103.6387\">«attribute»</text><text fill=\"#000000\" font-family=\"sans-serif\" font-size=\"12\" lengthAdjust=\"spacingAndGlyphs\" textLength=\"5\" x=\"117.5\" y=\"117.6074\">z</text><line style=\"stroke: #A80036; stroke-width: 1.5;\" x1=\"85.5\" x2=\"154.5\" y1=\"125.4375\" y2=\"125.4375\"/></a><a href=\"psysml:d7cd1111-165d-4c09-9c1d-1c6e69d6b628\" target=\"_top\" title=\"psysml:d7cd1111-165d-4c09-9c1d-1c6e69d6b628\" xlink:actuate=\"onRequest\" xlink:href=\"psysml:d7cd1111-165d-4c09-9c1d-1c6e69d6b628\" xlink:show=\"new\" xlink:title=\"psysml:d7cd1111-165d-4c09-9c1d-1c6e69d6b628\" xlink:type=\"simple\"><polygon fill=\"#FFFFFF\" filter=\"url(#f1vazmxef8qevf)\" points=\"271,84,413,84,420,106.2969,427,106.2969,427,136.5938,271,136.5938,271,84\" style=\"stroke: #000000; stroke-width: 1.5;\"/><line style=\"stroke: #000000; stroke-width: 1.5;\" x1=\"271\" x2=\"420\" y1=\"106.2969\" y2=\"106.2969\"/><text fill=\"#000000\" font-family=\"sans-serif\" font-size=\"14\" font-weight=\"bold\" lengthAdjust=\"spacingAndGlyphs\" textLength=\"136\" x=\"275\" y=\"98.9951\">Application Layer</text></a><a href=\"psysml:4fd532ef-c056-48ed-b57e-c34d41c7d9b0\" target=\"_top\" title=\"psysml:4fd532ef-c056-48ed-b57e-c34d41c7d9b0\" xlink:actuate=\"onRequest\" xlink:href=\"psysml:4fd532ef-c056-48ed-b57e-c34d41c7d9b0\" xlink:show=\"new\" xlink:title=\"psysml:4fd532ef-c056-48ed-b57e-c34d41c7d9b0\" xlink:type=\"simple\"><polygon fill=\"#FFFFFF\" filter=\"url(#f1vazmxef8qevf)\" points=\"285,214,399,214,406,236.2969,413,236.2969,413,266.5938,285,266.5938,285,214\" style=\"stroke: #000000; stroke-width: 1.5;\"/><line style=\"stroke: #000000; stroke-width: 1.5;\" x1=\"285\" x2=\"406\" y1=\"236.2969\" y2=\"236.2969\"/><text fill=\"#000000\" font-family=\"sans-serif\" font-size=\"14\" font-weight=\"bold\" lengthAdjust=\"spacingAndGlyphs\" textLength=\"108\" x=\"289\" y=\"228.9951\">Service Layer</text></a><a href=\"psysml:f10bbfff-f917-435f-bbe7-eedf9b14a34c\" target=\"_top\" title=\"psysml:f10bbfff-f917-435f-bbe7-eedf9b14a34c\" xlink:actuate=\"onRequest\" xlink:href=\"psysml:f10bbfff-f917-435f-bbe7-eedf9b14a34c\" xlink:show=\"new\" xlink:title=\"psysml:f10bbfff-f917-435f-bbe7-eedf9b14a34c\" xlink:type=\"simple\"><polygon fill=\"#FFFFFF\" filter=\"url(#f1vazmxef8qevf)\" points=\"297,344,387,344,394,366.2969,401,366.2969,401,396.5938,297,396.5938,297,344\" style=\"stroke: #000000; stroke-width: 1.5;\"/><line style=\"stroke: #000000; stroke-width: 1.5;\" x1=\"297\" x2=\"394\" y1=\"366.2969\" y2=\"366.2969\"/><text fill=\"#000000\" font-family=\"sans-serif\" font-size=\"14\" font-weight=\"bold\" lengthAdjust=\"spacingAndGlyphs\" textLength=\"84\" x=\"301\" y=\"358.9951\">Data Layer</text></a><!--MD5=[af87c684e3b0d8be13c1a698a818ef1e]\n",
       "link E3 to E4--><a href=\"psysml:d6fef634-817c-4ef1-96de-f37bb594aaea\" target=\"_top\" title=\"psysml:d6fef634-817c-4ef1-96de-f37bb594aaea\" xlink:actuate=\"onRequest\" xlink:href=\"psysml:d6fef634-817c-4ef1-96de-f37bb594aaea\" xlink:show=\"new\" xlink:title=\"psysml:d6fef634-817c-4ef1-96de-f37bb594aaea\" xlink:type=\"simple\"><path d=\"M349,137.1 C349,156.8 349,184.22 349,205.73 \" fill=\"none\" id=\"E3-&gt;E4\" style=\"stroke: #A80036; stroke-width: 1.0; stroke-dasharray: 7.0,7.0;\"/><polygon fill=\"#A80036\" points=\"349,213.95,352,205.95,346,205.95,349,213.95\" style=\"stroke: #A80036; stroke-width: 1.0;\"/><text fill=\"#000000\" font-family=\"sans-serif\" font-size=\"13\" lengthAdjust=\"spacingAndGlyphs\" textLength=\"64\" x=\"350\" y=\"180.0669\">«depend»</text></a><!--MD5=[1b7591eae5389033d8d09a9d6721a717]\n",
       "link E4 to E5--><a href=\"psysml:d4b689e0-de38-42ab-a0b3-2a8bf82e0669\" target=\"_top\" title=\"psysml:d4b689e0-de38-42ab-a0b3-2a8bf82e0669\" xlink:actuate=\"onRequest\" xlink:href=\"psysml:d4b689e0-de38-42ab-a0b3-2a8bf82e0669\" xlink:show=\"new\" xlink:title=\"psysml:d4b689e0-de38-42ab-a0b3-2a8bf82e0669\" xlink:type=\"simple\"><path d=\"M349,267.1 C349,286.8 349,314.22 349,335.73 \" fill=\"none\" id=\"E4-&gt;E5\" style=\"stroke: #A80036; stroke-width: 1.0; stroke-dasharray: 7.0,7.0;\"/><polygon fill=\"#A80036\" points=\"349,343.95,352,335.95,346,335.95,349,343.95\" style=\"stroke: #A80036; stroke-width: 1.0;\"/><text fill=\"#000000\" font-family=\"sans-serif\" font-size=\"13\" lengthAdjust=\"spacingAndGlyphs\" textLength=\"64\" x=\"350\" y=\"310.0669\">«depend»</text></a><!--MD5=[c5e8897d989ce984f93528998a7150fe]\n",
       "link E8 to E6--><a href=\"psysml:c74e1bf4-ee72-40a7-b163-07732e38ed67\" target=\"_top\" title=\"psysml:c74e1bf4-ee72-40a7-b163-07732e38ed67\" xlink:actuate=\"onRequest\" xlink:href=\"psysml:c74e1bf4-ee72-40a7-b163-07732e38ed67\" xlink:show=\"new\" xlink:title=\"psysml:c74e1bf4-ee72-40a7-b163-07732e38ed67\" xlink:type=\"simple\"><path d=\"M89.42,133.6 C79.35,142.68 69.37,154.11 64,167 C58.5,180.2 58.66,195.94 60.54,209.38 \" fill=\"none\" id=\"E8-&gt;E6\" style=\"stroke: #A80036; stroke-width: 1.0; stroke-dasharray: 7.0,7.0;\"/><polygon fill=\"#A80036\" points=\"61.9,217.4,63.517,209.0104,57.6018,210.0159,61.9,217.4\" style=\"stroke: #A80036; stroke-width: 1.0;\"/><text fill=\"#000000\" font-family=\"sans-serif\" font-size=\"13\" lengthAdjust=\"spacingAndGlyphs\" textLength=\"64\" x=\"65\" y=\"180.0669\">«depend»</text></a><!--MD5=[bfa3c8b0d15052fdf50ae9310b491027]\n",
       "link E8 to E7--><a href=\"psysml:c74e1bf4-ee72-40a7-b163-07732e38ed67\" target=\"_top\" title=\"psysml:c74e1bf4-ee72-40a7-b163-07732e38ed67\" xlink:actuate=\"onRequest\" xlink:href=\"psysml:c74e1bf4-ee72-40a7-b163-07732e38ed67\" xlink:show=\"new\" xlink:title=\"psysml:c74e1bf4-ee72-40a7-b163-07732e38ed67\" xlink:type=\"simple\"><path d=\"M129.28,133.5 C138.17,154.57 151.64,186.5 161.47,209.81 \" fill=\"none\" id=\"E8-&gt;E7\" style=\"stroke: #A80036; stroke-width: 1.0; stroke-dasharray: 7.0,7.0;\"/><polygon fill=\"#A80036\" points=\"164.66,217.35,164.3241,208.8126,158.7933,211.1385,164.66,217.35\" style=\"stroke: #A80036; stroke-width: 1.0;\"/><text fill=\"#000000\" font-family=\"sans-serif\" font-size=\"13\" lengthAdjust=\"spacingAndGlyphs\" textLength=\"64\" x=\"151\" y=\"180.0669\">«depend»</text></a><!--MD5=[1d39e676eec0a527037883adf6eb0b87]\n",
       "@startuml\r\n",
       "skinparam wrapWidth 300\r\n",
       "hide circle\r\n",
       "\r\n",
       "package \"DependencyTest\" as E1  [[psysml:f9a8e327-3c68-43cc-8fc4-f0fda4441472 ]]  {\r\n",
       "package \"System\" as E2  [[psysml:5e0f80f7-1058-4b47-9f4f-e59769b1dff5 ]]  {\r\n",
       "package \"Application Layer\" as E3  [[psysml:d7cd1111-165d-4c09-9c1d-1c6e69d6b628 ]]  {\r\n",
       "}\r\n",
       "package \"Service Layer\" as E4  [[psysml:4fd532ef-c056-48ed-b57e-c34d41c7d9b0 ]]  {\r\n",
       "}\r\n",
       "package \"Data Layer\" as E5  [[psysml:f10bbfff-f917-435f-bbe7-eedf9b14a34c ]]  {\r\n",
       "}\r\n",
       "}\r\n",
       "comp usage \"x\" as E6  <<(T,blue)attribute>> [[psysml:52169dc2-f588-4d36-bb4d-934125a8defa ]] {\r\n",
       "}\r\n",
       "comp usage \"y\" as E7  <<(T,blue)attribute>> [[psysml:638ee95e-a488-4c6b-8aa7-581f6cf4c2fe ]] {\r\n",
       "}\r\n",
       "comp usage \"z\" as E8  <<(T,blue)attribute>> [[psysml:267f67df-ceab-4f9b-9288-379f8b6d76cc ]] {\r\n",
       "}\r\n",
       "E3 ..>> E4 [[psysml:d6fef634-817c-4ef1-96de-f37bb594aaea ]] : <<depend>>\r\n",
       "E4 ..>> E5 [[psysml:d4b689e0-de38-42ab-a0b3-2a8bf82e0669 ]] : <<depend>>\r\n",
       "E8 ..>> E6 [[psysml:c74e1bf4-ee72-40a7-b163-07732e38ed67 ]] : <<depend>>\r\n",
       "E8 ..>> E7 [[psysml:c74e1bf4-ee72-40a7-b163-07732e38ed67 ]] : <<depend>>\r\n",
       "}\r\n",
       "@enduml\r\n",
       "\n",
       "PlantUML version 1.2020.13(Sat Jun 13 12:26:38 UTC 2020)\n",
       "(EPL source distribution)\n",
       "Java Runtime: OpenJDK Runtime Environment\n",
       "JVM: OpenJDK 64-Bit Server VM\n",
       "Default Encoding: UTF-8\n",
       "Language: en\n",
       "Country: null\n",
       "--></g></svg>"
      ]
     },
     "execution_count": 24,
     "metadata": {},
     "output_type": "execute_result"
    }
   ],
   "source": [
    "%viz --style=\"STDCOLOR\" --view=\"Tree\" \"DependencyTest\""
   ]
  },
  {
   "cell_type": "code",
   "execution_count": 25,
   "id": "d3c43d97",
   "metadata": {
    "execution": {
     "iopub.execute_input": "2021-05-27T06:11:47.610228Z",
     "iopub.status.busy": "2021-05-27T06:11:47.609783Z",
     "iopub.status.idle": "2021-05-27T06:11:47.615886Z",
     "shell.execute_reply": "2021-05-27T06:11:47.615114Z"
    }
   },
   "outputs": [
    {
     "data": {
      "image/svg+xml": [
       "<?xml version=\"1.0\" encoding=\"UTF-8\" standalone=\"no\"?><svg xmlns=\"http://www.w3.org/2000/svg\" xmlns:xlink=\"http://www.w3.org/1999/xlink\" contentScriptType=\"application/ecmascript\" contentStyleType=\"text/css\" height=\"12px\" preserveAspectRatio=\"none\" style=\"width:12px;height:12px;\" version=\"1.1\" viewBox=\"0 0 12 12\" width=\"12px\" zoomAndPan=\"magnify\"><defs/><g><!--MD5=[aeeef50f102b80d730deb6443d14f702]\n",
       "@startuml\r\n",
       "skinparam wrapWidth 300\r\n",
       "hide circle\r\n",
       "\r\n",
       "@enduml\r\n",
       "\n",
       "PlantUML version 1.2020.13(Sat Jun 13 12:26:38 UTC 2020)\n",
       "(EPL source distribution)\n",
       "Java Runtime: OpenJDK Runtime Environment\n",
       "JVM: OpenJDK 64-Bit Server VM\n",
       "Default Encoding: UTF-8\n",
       "Language: en\n",
       "Country: null\n",
       "--></g></svg>"
      ]
     },
     "execution_count": 25,
     "metadata": {},
     "output_type": "execute_result"
    }
   ],
   "source": [
    "%viz --style=\"STDCOLOR\" --view=\"State\" \"DependencyTest\""
   ]
  },
  {
   "cell_type": "code",
   "execution_count": 26,
   "id": "d6a4fc77",
   "metadata": {
    "execution": {
     "iopub.execute_input": "2021-05-27T06:11:47.667442Z",
     "iopub.status.busy": "2021-05-27T06:11:47.666997Z",
     "iopub.status.idle": "2021-05-27T06:11:47.699652Z",
     "shell.execute_reply": "2021-05-27T06:11:47.699309Z"
    }
   },
   "outputs": [
    {
     "data": {
      "image/svg+xml": [
       "<?xml version=\"1.0\" encoding=\"UTF-8\" standalone=\"no\"?><svg xmlns=\"http://www.w3.org/2000/svg\" xmlns:xlink=\"http://www.w3.org/1999/xlink\" contentScriptType=\"application/ecmascript\" contentStyleType=\"text/css\" height=\"361px\" preserveAspectRatio=\"none\" style=\"width:489px;height:361px;\" version=\"1.1\" viewBox=\"0 0 489 361\" width=\"489px\" zoomAndPan=\"magnify\"><defs><filter height=\"300%\" id=\"f17ka2tpkxzpmy\" width=\"300%\" x=\"-1\" y=\"-1\"><feGaussianBlur result=\"blurOut\" stdDeviation=\"2.0\"/><feColorMatrix in=\"blurOut\" result=\"blurOut2\" type=\"matrix\" values=\"0 0 0 0 0 0 0 0 0 0 0 0 0 0 0 0 0 0 .4 0\"/><feOffset dx=\"4.0\" dy=\"4.0\" in=\"blurOut2\" result=\"blurOut3\"/><feBlend in=\"SourceGraphic\" in2=\"blurOut3\" mode=\"normal\"/></filter></defs><g><!--MD5=[fbc87193dbaf4d95561dea2c320d4a47]\n",
       "cluster E1--><a href=\"psysml:f9a8e327-3c68-43cc-8fc4-f0fda4441472\" target=\"_top\" title=\"psysml:f9a8e327-3c68-43cc-8fc4-f0fda4441472\" xlink:actuate=\"onRequest\" xlink:href=\"psysml:f9a8e327-3c68-43cc-8fc4-f0fda4441472\" xlink:show=\"new\" xlink:title=\"psysml:f9a8e327-3c68-43cc-8fc4-f0fda4441472\" xlink:type=\"simple\"><polygon fill=\"#FFFFFF\" filter=\"url(#f17ka2tpkxzpmy)\" points=\"16,6,156,6,163,28.2969,467,28.2969,467,349,16,349,16,6\" style=\"stroke: #000000; stroke-width: 1.5;\"/><line style=\"stroke: #000000; stroke-width: 1.5;\" x1=\"16\" x2=\"163\" y1=\"28.2969\" y2=\"28.2969\"/><text fill=\"#000000\" font-family=\"sans-serif\" font-size=\"14\" font-weight=\"bold\" lengthAdjust=\"spacingAndGlyphs\" textLength=\"134\" x=\"20\" y=\"20.9951\">DependencyTest</text></a><!--MD5=[e4f7fae6ed58524ba242bb0b0d3be6b7]\n",
       "cluster E2--><a href=\"psysml:5e0f80f7-1058-4b47-9f4f-e59769b1dff5\" target=\"_top\" title=\"psysml:5e0f80f7-1058-4b47-9f4f-e59769b1dff5\" xlink:actuate=\"onRequest\" xlink:href=\"psysml:5e0f80f7-1058-4b47-9f4f-e59769b1dff5\" xlink:show=\"new\" xlink:title=\"psysml:5e0f80f7-1058-4b47-9f4f-e59769b1dff5\" xlink:type=\"simple\"><polygon fill=\"#FFFFFF\" filter=\"url(#f17ka2tpkxzpmy)\" points=\"255,49,319,49,326,71.2969,443,71.2969,443,325,255,325,255,49\" style=\"stroke: #000000; stroke-width: 1.5;\"/><line style=\"stroke: #000000; stroke-width: 1.5;\" x1=\"255\" x2=\"326\" y1=\"71.2969\" y2=\"71.2969\"/><text fill=\"#000000\" font-family=\"sans-serif\" font-size=\"14\" font-weight=\"bold\" lengthAdjust=\"spacingAndGlyphs\" textLength=\"58\" x=\"259\" y=\"63.9951\">System</text></a><!--MD5=[60a26617385b1d2d0262a64233df1f8d]\n",
       "class E6--><a href=\"psysml:52169dc2-f588-4d36-bb4d-934125a8defa\" target=\"_top\" title=\"psysml:52169dc2-f588-4d36-bb4d-934125a8defa\" xlink:actuate=\"onRequest\" xlink:href=\"psysml:52169dc2-f588-4d36-bb4d-934125a8defa\" xlink:show=\"new\" xlink:title=\"psysml:52169dc2-f588-4d36-bb4d-934125a8defa\" xlink:type=\"simple\"><rect fill=\"#FEFECE\" filter=\"url(#f17ka2tpkxzpmy)\" height=\"45.9375\" id=\"E6\" rx=\"10\" ry=\"10\" style=\"stroke: #A80036; stroke-width: 1.5;\" width=\"71\" x=\"32.5\" y=\"173.5\"/><text fill=\"#000000\" font-family=\"sans-serif\" font-size=\"12\" font-style=\"italic\" lengthAdjust=\"spacingAndGlyphs\" textLength=\"69\" x=\"33.5\" y=\"189.6387\">«attribute»</text><text fill=\"#000000\" font-family=\"sans-serif\" font-size=\"12\" lengthAdjust=\"spacingAndGlyphs\" textLength=\"6\" x=\"65\" y=\"203.6074\">x</text><line style=\"stroke: #A80036; stroke-width: 1.5;\" x1=\"33.5\" x2=\"102.5\" y1=\"211.4375\" y2=\"211.4375\"/></a><!--MD5=[2156ba9850f5573cc1fc38a6a4b2f02b]\n",
       "class E7--><a href=\"psysml:638ee95e-a488-4c6b-8aa7-581f6cf4c2fe\" target=\"_top\" title=\"psysml:638ee95e-a488-4c6b-8aa7-581f6cf4c2fe\" xlink:actuate=\"onRequest\" xlink:href=\"psysml:638ee95e-a488-4c6b-8aa7-581f6cf4c2fe\" xlink:show=\"new\" xlink:title=\"psysml:638ee95e-a488-4c6b-8aa7-581f6cf4c2fe\" xlink:type=\"simple\"><rect fill=\"#FEFECE\" filter=\"url(#f17ka2tpkxzpmy)\" height=\"45.9375\" id=\"E7\" rx=\"10\" ry=\"10\" style=\"stroke: #A80036; stroke-width: 1.5;\" width=\"71\" x=\"138.5\" y=\"173.5\"/><text fill=\"#000000\" font-family=\"sans-serif\" font-size=\"12\" font-style=\"italic\" lengthAdjust=\"spacingAndGlyphs\" textLength=\"69\" x=\"139.5\" y=\"189.6387\">«attribute»</text><text fill=\"#000000\" font-family=\"sans-serif\" font-size=\"12\" lengthAdjust=\"spacingAndGlyphs\" textLength=\"6\" x=\"171\" y=\"203.6074\">y</text><line style=\"stroke: #A80036; stroke-width: 1.5;\" x1=\"139.5\" x2=\"208.5\" y1=\"211.4375\" y2=\"211.4375\"/></a><!--MD5=[b9389687b975829384b498ac4b7476b2]\n",
       "class E8--><a href=\"psysml:267f67df-ceab-4f9b-9288-379f8b6d76cc\" target=\"_top\" title=\"psysml:267f67df-ceab-4f9b-9288-379f8b6d76cc\" xlink:actuate=\"onRequest\" xlink:href=\"psysml:267f67df-ceab-4f9b-9288-379f8b6d76cc\" xlink:show=\"new\" xlink:title=\"psysml:267f67df-ceab-4f9b-9288-379f8b6d76cc\" xlink:type=\"simple\"><rect fill=\"#FEFECE\" filter=\"url(#f17ka2tpkxzpmy)\" height=\"45.9375\" id=\"E8\" rx=\"10\" ry=\"10\" style=\"stroke: #A80036; stroke-width: 1.5;\" width=\"71\" x=\"84.5\" y=\"87.5\"/><text fill=\"#000000\" font-family=\"sans-serif\" font-size=\"12\" font-style=\"italic\" lengthAdjust=\"spacingAndGlyphs\" textLength=\"69\" x=\"85.5\" y=\"103.6387\">«attribute»</text><text fill=\"#000000\" font-family=\"sans-serif\" font-size=\"12\" lengthAdjust=\"spacingAndGlyphs\" textLength=\"5\" x=\"117.5\" y=\"117.6074\">z</text><line style=\"stroke: #A80036; stroke-width: 1.5;\" x1=\"85.5\" x2=\"154.5\" y1=\"125.4375\" y2=\"125.4375\"/></a><a href=\"psysml:d7cd1111-165d-4c09-9c1d-1c6e69d6b628\" target=\"_top\" title=\"psysml:d7cd1111-165d-4c09-9c1d-1c6e69d6b628\" xlink:actuate=\"onRequest\" xlink:href=\"psysml:d7cd1111-165d-4c09-9c1d-1c6e69d6b628\" xlink:show=\"new\" xlink:title=\"psysml:d7cd1111-165d-4c09-9c1d-1c6e69d6b628\" xlink:type=\"simple\"><polygon fill=\"#FFFFFF\" filter=\"url(#f17ka2tpkxzpmy)\" points=\"271,84,413,84,420,106.2969,427,106.2969,427,136.5938,271,136.5938,271,84\" style=\"stroke: #000000; stroke-width: 1.5;\"/><line style=\"stroke: #000000; stroke-width: 1.5;\" x1=\"271\" x2=\"420\" y1=\"106.2969\" y2=\"106.2969\"/><text fill=\"#000000\" font-family=\"sans-serif\" font-size=\"14\" font-weight=\"bold\" lengthAdjust=\"spacingAndGlyphs\" textLength=\"136\" x=\"275\" y=\"98.9951\">Application Layer</text></a><a href=\"psysml:4fd532ef-c056-48ed-b57e-c34d41c7d9b0\" target=\"_top\" title=\"psysml:4fd532ef-c056-48ed-b57e-c34d41c7d9b0\" xlink:actuate=\"onRequest\" xlink:href=\"psysml:4fd532ef-c056-48ed-b57e-c34d41c7d9b0\" xlink:show=\"new\" xlink:title=\"psysml:4fd532ef-c056-48ed-b57e-c34d41c7d9b0\" xlink:type=\"simple\"><polygon fill=\"#FFFFFF\" filter=\"url(#f17ka2tpkxzpmy)\" points=\"285,170,399,170,406,192.2969,413,192.2969,413,222.5938,285,222.5938,285,170\" style=\"stroke: #000000; stroke-width: 1.5;\"/><line style=\"stroke: #000000; stroke-width: 1.5;\" x1=\"285\" x2=\"406\" y1=\"192.2969\" y2=\"192.2969\"/><text fill=\"#000000\" font-family=\"sans-serif\" font-size=\"14\" font-weight=\"bold\" lengthAdjust=\"spacingAndGlyphs\" textLength=\"108\" x=\"289\" y=\"184.9951\">Service Layer</text></a><a href=\"psysml:f10bbfff-f917-435f-bbe7-eedf9b14a34c\" target=\"_top\" title=\"psysml:f10bbfff-f917-435f-bbe7-eedf9b14a34c\" xlink:actuate=\"onRequest\" xlink:href=\"psysml:f10bbfff-f917-435f-bbe7-eedf9b14a34c\" xlink:show=\"new\" xlink:title=\"psysml:f10bbfff-f917-435f-bbe7-eedf9b14a34c\" xlink:type=\"simple\"><polygon fill=\"#FFFFFF\" filter=\"url(#f17ka2tpkxzpmy)\" points=\"297,256,387,256,394,278.2969,401,278.2969,401,308.5938,297,308.5938,297,256\" style=\"stroke: #000000; stroke-width: 1.5;\"/><line style=\"stroke: #000000; stroke-width: 1.5;\" x1=\"297\" x2=\"394\" y1=\"278.2969\" y2=\"278.2969\"/><text fill=\"#000000\" font-family=\"sans-serif\" font-size=\"14\" font-weight=\"bold\" lengthAdjust=\"spacingAndGlyphs\" textLength=\"84\" x=\"301\" y=\"270.9951\">Data Layer</text></a><!--MD5=[af87c684e3b0d8be13c1a698a818ef1e]\n",
       "link E3 to E4--><a href=\"psysml:d6fef634-817c-4ef1-96de-f37bb594aaea\" target=\"_top\" title=\"psysml:d6fef634-817c-4ef1-96de-f37bb594aaea\" xlink:actuate=\"onRequest\" xlink:href=\"psysml:d6fef634-817c-4ef1-96de-f37bb594aaea\" xlink:show=\"new\" xlink:title=\"psysml:d6fef634-817c-4ef1-96de-f37bb594aaea\" xlink:type=\"simple\"><path d=\"M349,137.16 C349,144.98 349,153.69 349,161.94 \" fill=\"none\" id=\"E3-&gt;E4\" style=\"stroke: #A80036; stroke-width: 1.0; stroke-dasharray: 7.0,7.0;\"/><polygon fill=\"#A80036\" points=\"349,170,352,162,346,162,349,170\" style=\"stroke: #A80036; stroke-width: 1.0;\"/><text fill=\"#000000\" font-family=\"sans-serif\" font-size=\"13\" lengthAdjust=\"spacingAndGlyphs\" textLength=\"64\" x=\"350\" y=\"158.0669\">«depend»</text></a><!--MD5=[1b7591eae5389033d8d09a9d6721a717]\n",
       "link E4 to E5--><a href=\"psysml:d4b689e0-de38-42ab-a0b3-2a8bf82e0669\" target=\"_top\" title=\"psysml:d4b689e0-de38-42ab-a0b3-2a8bf82e0669\" xlink:actuate=\"onRequest\" xlink:href=\"psysml:d4b689e0-de38-42ab-a0b3-2a8bf82e0669\" xlink:show=\"new\" xlink:title=\"psysml:d4b689e0-de38-42ab-a0b3-2a8bf82e0669\" xlink:type=\"simple\"><path d=\"M349,223.16 C349,230.98 349,239.69 349,247.94 \" fill=\"none\" id=\"E4-&gt;E5\" style=\"stroke: #A80036; stroke-width: 1.0; stroke-dasharray: 7.0,7.0;\"/><polygon fill=\"#A80036\" points=\"349,256,352,248,346,248,349,256\" style=\"stroke: #A80036; stroke-width: 1.0;\"/><text fill=\"#000000\" font-family=\"sans-serif\" font-size=\"13\" lengthAdjust=\"spacingAndGlyphs\" textLength=\"64\" x=\"350\" y=\"244.0669\">«depend»</text></a><!--MD5=[c5e8897d989ce984f93528998a7150fe]\n",
       "link E8 to E6--><a href=\"psysml:c74e1bf4-ee72-40a7-b163-07732e38ed67\" target=\"_top\" title=\"psysml:c74e1bf4-ee72-40a7-b163-07732e38ed67\" xlink:actuate=\"onRequest\" xlink:href=\"psysml:c74e1bf4-ee72-40a7-b163-07732e38ed67\" xlink:show=\"new\" xlink:title=\"psysml:c74e1bf4-ee72-40a7-b163-07732e38ed67\" xlink:type=\"simple\"><path d=\"M84.49,125.34 C76.34,130.27 68.69,136.72 64,145 C60.54,151.1 59.62,158.31 60,165.33 \" fill=\"none\" id=\"E8-&gt;E6\" style=\"stroke: #A80036; stroke-width: 1.0; stroke-dasharray: 7.0,7.0;\"/><polygon fill=\"#A80036\" points=\"60.97,173.42,63.0061,165.1221,57.0479,165.8294,60.97,173.42\" style=\"stroke: #A80036; stroke-width: 1.0;\"/><text fill=\"#000000\" font-family=\"sans-serif\" font-size=\"13\" lengthAdjust=\"spacingAndGlyphs\" textLength=\"64\" x=\"65\" y=\"158.0669\">«depend»</text></a><!--MD5=[bfa3c8b0d15052fdf50ae9310b491027]\n",
       "link E8 to E7--><a href=\"psysml:c74e1bf4-ee72-40a7-b163-07732e38ed67\" target=\"_top\" title=\"psysml:c74e1bf4-ee72-40a7-b163-07732e38ed67\" xlink:actuate=\"onRequest\" xlink:href=\"psysml:c74e1bf4-ee72-40a7-b163-07732e38ed67\" xlink:show=\"new\" xlink:title=\"psysml:c74e1bf4-ee72-40a7-b163-07732e38ed67\" xlink:type=\"simple\"><path d=\"M134.19,133.57 C140.65,143.62 148.38,155.65 155.31,166.42 \" fill=\"none\" id=\"E8-&gt;E7\" style=\"stroke: #A80036; stroke-width: 1.0; stroke-dasharray: 7.0,7.0;\"/><polygon fill=\"#A80036\" points=\"159.72,173.29,157.9148,164.9389,152.8688,168.185,159.72,173.29\" style=\"stroke: #A80036; stroke-width: 1.0;\"/><text fill=\"#000000\" font-family=\"sans-serif\" font-size=\"13\" lengthAdjust=\"spacingAndGlyphs\" textLength=\"64\" x=\"152\" y=\"158.0669\">«depend»</text></a><!--MD5=[fb7e0e41f494de3b94d1669c4f7e26ed]\n",
       "@startuml\r\n",
       "skinparam ranksep 10\r\n",
       "skinparam rectangle {\r\n",
       " backgroundColor<<block>> LightGreen\r\n",
       "}\r\n",
       "skinparam wrapWidth 300\r\n",
       "hide circle\r\n",
       "\r\n",
       "package \"DependencyTest\" as E1  [[psysml:f9a8e327-3c68-43cc-8fc4-f0fda4441472 ]]  {\r\n",
       "package \"System\" as E2  [[psysml:5e0f80f7-1058-4b47-9f4f-e59769b1dff5 ]]  {\r\n",
       "package \"Application Layer\" as E3  [[psysml:d7cd1111-165d-4c09-9c1d-1c6e69d6b628 ]]  {\r\n",
       "}\r\n",
       "package \"Service Layer\" as E4  [[psysml:4fd532ef-c056-48ed-b57e-c34d41c7d9b0 ]]  {\r\n",
       "}\r\n",
       "package \"Data Layer\" as E5  [[psysml:f10bbfff-f917-435f-bbe7-eedf9b14a34c ]]  {\r\n",
       "}\r\n",
       "}\r\n",
       "comp usage \"x\" as E6  <<(T,blue)attribute>> [[psysml:52169dc2-f588-4d36-bb4d-934125a8defa ]] {\r\n",
       "}\r\n",
       "comp usage \"y\" as E7  <<(T,blue)attribute>> [[psysml:638ee95e-a488-4c6b-8aa7-581f6cf4c2fe ]] {\r\n",
       "}\r\n",
       "comp usage \"z\" as E8  <<(T,blue)attribute>> [[psysml:267f67df-ceab-4f9b-9288-379f8b6d76cc ]] {\r\n",
       "}\r\n",
       "E3 ..>> E4 [[psysml:d6fef634-817c-4ef1-96de-f37bb594aaea ]] : <<depend>>\r\n",
       "E4 ..>> E5 [[psysml:d4b689e0-de38-42ab-a0b3-2a8bf82e0669 ]] : <<depend>>\r\n",
       "E8 ..>> E6 [[psysml:c74e1bf4-ee72-40a7-b163-07732e38ed67 ]] : <<depend>>\r\n",
       "E8 ..>> E7 [[psysml:c74e1bf4-ee72-40a7-b163-07732e38ed67 ]] : <<depend>>\r\n",
       "}\r\n",
       "@enduml\r\n",
       "\n",
       "PlantUML version 1.2020.13(Sat Jun 13 12:26:38 UTC 2020)\n",
       "(EPL source distribution)\n",
       "Java Runtime: OpenJDK Runtime Environment\n",
       "JVM: OpenJDK 64-Bit Server VM\n",
       "Default Encoding: UTF-8\n",
       "Language: en\n",
       "Country: null\n",
       "--></g></svg>"
      ]
     },
     "execution_count": 26,
     "metadata": {},
     "output_type": "execute_result"
    }
   ],
   "source": [
    "%viz --style=\"STDCOLOR\" --view=\"Interconnection\" \"DependencyTest\""
   ]
  },
  {
   "cell_type": "code",
   "execution_count": 27,
   "id": "a7dda46f",
   "metadata": {
    "execution": {
     "iopub.execute_input": "2021-05-27T06:11:47.749522Z",
     "iopub.status.busy": "2021-05-27T06:11:47.749104Z",
     "iopub.status.idle": "2021-05-27T06:11:47.754044Z",
     "shell.execute_reply": "2021-05-27T06:11:47.753753Z"
    }
   },
   "outputs": [
    {
     "data": {
      "image/svg+xml": [
       "<?xml version=\"1.0\" encoding=\"UTF-8\" standalone=\"no\"?><svg xmlns=\"http://www.w3.org/2000/svg\" xmlns:xlink=\"http://www.w3.org/1999/xlink\" contentScriptType=\"application/ecmascript\" contentStyleType=\"text/css\" height=\"12px\" preserveAspectRatio=\"none\" style=\"width:12px;height:12px;\" version=\"1.1\" viewBox=\"0 0 12 12\" width=\"12px\" zoomAndPan=\"magnify\"><defs/><g><!--MD5=[9863325348a96a77dacc89509d8ee65e]\n",
       "@startuml\r\n",
       "skinparam ranksep 8\r\n",
       "skinparam wrapWidth 300\r\n",
       "hide circle\r\n",
       "\r\n",
       "@enduml\r\n",
       "\n",
       "PlantUML version 1.2020.13(Sat Jun 13 12:26:38 UTC 2020)\n",
       "(EPL source distribution)\n",
       "Java Runtime: OpenJDK Runtime Environment\n",
       "JVM: OpenJDK 64-Bit Server VM\n",
       "Default Encoding: UTF-8\n",
       "Language: en\n",
       "Country: null\n",
       "--></g></svg>"
      ]
     },
     "execution_count": 27,
     "metadata": {},
     "output_type": "execute_result"
    }
   ],
   "source": [
    "%viz --style=\"STDCOLOR\" --view=\"Action\" \"DependencyTest\""
   ]
  },
  {
   "cell_type": "code",
   "execution_count": 28,
   "id": "38012ed9",
   "metadata": {
    "execution": {
     "iopub.execute_input": "2021-05-27T06:11:47.809574Z",
     "iopub.status.busy": "2021-05-27T06:11:47.808839Z",
     "iopub.status.idle": "2021-05-27T06:11:47.856042Z",
     "shell.execute_reply": "2021-05-27T06:11:47.855762Z"
    }
   },
   "outputs": [
    {
     "data": {
      "image/svg+xml": [
       "<?xml version=\"1.0\" encoding=\"UTF-8\" standalone=\"no\"?><svg xmlns=\"http://www.w3.org/2000/svg\" xmlns:xlink=\"http://www.w3.org/1999/xlink\" contentScriptType=\"application/ecmascript\" contentStyleType=\"text/css\" height=\"449px\" preserveAspectRatio=\"none\" style=\"width:489px;height:449px;\" version=\"1.1\" viewBox=\"0 0 489 449\" width=\"489px\" zoomAndPan=\"magnify\"><defs><filter height=\"300%\" id=\"f1vazmxef8qevf\" width=\"300%\" x=\"-1\" y=\"-1\"><feGaussianBlur result=\"blurOut\" stdDeviation=\"2.0\"/><feColorMatrix in=\"blurOut\" result=\"blurOut2\" type=\"matrix\" values=\"0 0 0 0 0 0 0 0 0 0 0 0 0 0 0 0 0 0 .4 0\"/><feOffset dx=\"4.0\" dy=\"4.0\" in=\"blurOut2\" result=\"blurOut3\"/><feBlend in=\"SourceGraphic\" in2=\"blurOut3\" mode=\"normal\"/></filter></defs><g><!--MD5=[fbc87193dbaf4d95561dea2c320d4a47]\n",
       "cluster E1--><a href=\"psysml:f9a8e327-3c68-43cc-8fc4-f0fda4441472\" target=\"_top\" title=\"psysml:f9a8e327-3c68-43cc-8fc4-f0fda4441472\" xlink:actuate=\"onRequest\" xlink:href=\"psysml:f9a8e327-3c68-43cc-8fc4-f0fda4441472\" xlink:show=\"new\" xlink:title=\"psysml:f9a8e327-3c68-43cc-8fc4-f0fda4441472\" xlink:type=\"simple\"><polygon fill=\"#FFFFFF\" filter=\"url(#f1vazmxef8qevf)\" points=\"16,6,156,6,163,28.2969,467,28.2969,467,437,16,437,16,6\" style=\"stroke: #000000; stroke-width: 1.5;\"/><line style=\"stroke: #000000; stroke-width: 1.5;\" x1=\"16\" x2=\"163\" y1=\"28.2969\" y2=\"28.2969\"/><text fill=\"#000000\" font-family=\"sans-serif\" font-size=\"14\" font-weight=\"bold\" lengthAdjust=\"spacingAndGlyphs\" textLength=\"134\" x=\"20\" y=\"20.9951\">DependencyTest</text></a><!--MD5=[e4f7fae6ed58524ba242bb0b0d3be6b7]\n",
       "cluster E2--><a href=\"psysml:5e0f80f7-1058-4b47-9f4f-e59769b1dff5\" target=\"_top\" title=\"psysml:5e0f80f7-1058-4b47-9f4f-e59769b1dff5\" xlink:actuate=\"onRequest\" xlink:href=\"psysml:5e0f80f7-1058-4b47-9f4f-e59769b1dff5\" xlink:show=\"new\" xlink:title=\"psysml:5e0f80f7-1058-4b47-9f4f-e59769b1dff5\" xlink:type=\"simple\"><polygon fill=\"#FFFFFF\" filter=\"url(#f1vazmxef8qevf)\" points=\"255,49,319,49,326,71.2969,443,71.2969,443,413,255,413,255,49\" style=\"stroke: #000000; stroke-width: 1.5;\"/><line style=\"stroke: #000000; stroke-width: 1.5;\" x1=\"255\" x2=\"326\" y1=\"71.2969\" y2=\"71.2969\"/><text fill=\"#000000\" font-family=\"sans-serif\" font-size=\"14\" font-weight=\"bold\" lengthAdjust=\"spacingAndGlyphs\" textLength=\"58\" x=\"259\" y=\"63.9951\">System</text></a><!--MD5=[60a26617385b1d2d0262a64233df1f8d]\n",
       "class E6--><a href=\"psysml:52169dc2-f588-4d36-bb4d-934125a8defa\" target=\"_top\" title=\"psysml:52169dc2-f588-4d36-bb4d-934125a8defa\" xlink:actuate=\"onRequest\" xlink:href=\"psysml:52169dc2-f588-4d36-bb4d-934125a8defa\" xlink:show=\"new\" xlink:title=\"psysml:52169dc2-f588-4d36-bb4d-934125a8defa\" xlink:type=\"simple\"><rect fill=\"#FEFECE\" filter=\"url(#f1vazmxef8qevf)\" height=\"45.9375\" id=\"E6\" rx=\"10\" ry=\"10\" style=\"stroke: #A80036; stroke-width: 1.5;\" width=\"71\" x=\"32.5\" y=\"217.5\"/><text fill=\"#000000\" font-family=\"sans-serif\" font-size=\"12\" font-style=\"italic\" lengthAdjust=\"spacingAndGlyphs\" textLength=\"69\" x=\"33.5\" y=\"233.6387\">«attribute»</text><text fill=\"#000000\" font-family=\"sans-serif\" font-size=\"12\" lengthAdjust=\"spacingAndGlyphs\" textLength=\"6\" x=\"65\" y=\"247.6074\">x</text><line style=\"stroke: #A80036; stroke-width: 1.5;\" x1=\"33.5\" x2=\"102.5\" y1=\"255.4375\" y2=\"255.4375\"/></a><!--MD5=[2156ba9850f5573cc1fc38a6a4b2f02b]\n",
       "class E7--><a href=\"psysml:638ee95e-a488-4c6b-8aa7-581f6cf4c2fe\" target=\"_top\" title=\"psysml:638ee95e-a488-4c6b-8aa7-581f6cf4c2fe\" xlink:actuate=\"onRequest\" xlink:href=\"psysml:638ee95e-a488-4c6b-8aa7-581f6cf4c2fe\" xlink:show=\"new\" xlink:title=\"psysml:638ee95e-a488-4c6b-8aa7-581f6cf4c2fe\" xlink:type=\"simple\"><rect fill=\"#FEFECE\" filter=\"url(#f1vazmxef8qevf)\" height=\"45.9375\" id=\"E7\" rx=\"10\" ry=\"10\" style=\"stroke: #A80036; stroke-width: 1.5;\" width=\"71\" x=\"138.5\" y=\"217.5\"/><text fill=\"#000000\" font-family=\"sans-serif\" font-size=\"12\" font-style=\"italic\" lengthAdjust=\"spacingAndGlyphs\" textLength=\"69\" x=\"139.5\" y=\"233.6387\">«attribute»</text><text fill=\"#000000\" font-family=\"sans-serif\" font-size=\"12\" lengthAdjust=\"spacingAndGlyphs\" textLength=\"6\" x=\"171\" y=\"247.6074\">y</text><line style=\"stroke: #A80036; stroke-width: 1.5;\" x1=\"139.5\" x2=\"208.5\" y1=\"255.4375\" y2=\"255.4375\"/></a><!--MD5=[b9389687b975829384b498ac4b7476b2]\n",
       "class E8--><a href=\"psysml:267f67df-ceab-4f9b-9288-379f8b6d76cc\" target=\"_top\" title=\"psysml:267f67df-ceab-4f9b-9288-379f8b6d76cc\" xlink:actuate=\"onRequest\" xlink:href=\"psysml:267f67df-ceab-4f9b-9288-379f8b6d76cc\" xlink:show=\"new\" xlink:title=\"psysml:267f67df-ceab-4f9b-9288-379f8b6d76cc\" xlink:type=\"simple\"><rect fill=\"#FEFECE\" filter=\"url(#f1vazmxef8qevf)\" height=\"45.9375\" id=\"E8\" rx=\"10\" ry=\"10\" style=\"stroke: #A80036; stroke-width: 1.5;\" width=\"71\" x=\"84.5\" y=\"87.5\"/><text fill=\"#000000\" font-family=\"sans-serif\" font-size=\"12\" font-style=\"italic\" lengthAdjust=\"spacingAndGlyphs\" textLength=\"69\" x=\"85.5\" y=\"103.6387\">«attribute»</text><text fill=\"#000000\" font-family=\"sans-serif\" font-size=\"12\" lengthAdjust=\"spacingAndGlyphs\" textLength=\"5\" x=\"117.5\" y=\"117.6074\">z</text><line style=\"stroke: #A80036; stroke-width: 1.5;\" x1=\"85.5\" x2=\"154.5\" y1=\"125.4375\" y2=\"125.4375\"/></a><a href=\"psysml:d7cd1111-165d-4c09-9c1d-1c6e69d6b628\" target=\"_top\" title=\"psysml:d7cd1111-165d-4c09-9c1d-1c6e69d6b628\" xlink:actuate=\"onRequest\" xlink:href=\"psysml:d7cd1111-165d-4c09-9c1d-1c6e69d6b628\" xlink:show=\"new\" xlink:title=\"psysml:d7cd1111-165d-4c09-9c1d-1c6e69d6b628\" xlink:type=\"simple\"><polygon fill=\"#FFFFFF\" filter=\"url(#f1vazmxef8qevf)\" points=\"271,84,413,84,420,106.2969,427,106.2969,427,136.5938,271,136.5938,271,84\" style=\"stroke: #000000; stroke-width: 1.5;\"/><line style=\"stroke: #000000; stroke-width: 1.5;\" x1=\"271\" x2=\"420\" y1=\"106.2969\" y2=\"106.2969\"/><text fill=\"#000000\" font-family=\"sans-serif\" font-size=\"14\" font-weight=\"bold\" lengthAdjust=\"spacingAndGlyphs\" textLength=\"136\" x=\"275\" y=\"98.9951\">Application Layer</text></a><a href=\"psysml:4fd532ef-c056-48ed-b57e-c34d41c7d9b0\" target=\"_top\" title=\"psysml:4fd532ef-c056-48ed-b57e-c34d41c7d9b0\" xlink:actuate=\"onRequest\" xlink:href=\"psysml:4fd532ef-c056-48ed-b57e-c34d41c7d9b0\" xlink:show=\"new\" xlink:title=\"psysml:4fd532ef-c056-48ed-b57e-c34d41c7d9b0\" xlink:type=\"simple\"><polygon fill=\"#FFFFFF\" filter=\"url(#f1vazmxef8qevf)\" points=\"285,214,399,214,406,236.2969,413,236.2969,413,266.5938,285,266.5938,285,214\" style=\"stroke: #000000; stroke-width: 1.5;\"/><line style=\"stroke: #000000; stroke-width: 1.5;\" x1=\"285\" x2=\"406\" y1=\"236.2969\" y2=\"236.2969\"/><text fill=\"#000000\" font-family=\"sans-serif\" font-size=\"14\" font-weight=\"bold\" lengthAdjust=\"spacingAndGlyphs\" textLength=\"108\" x=\"289\" y=\"228.9951\">Service Layer</text></a><a href=\"psysml:f10bbfff-f917-435f-bbe7-eedf9b14a34c\" target=\"_top\" title=\"psysml:f10bbfff-f917-435f-bbe7-eedf9b14a34c\" xlink:actuate=\"onRequest\" xlink:href=\"psysml:f10bbfff-f917-435f-bbe7-eedf9b14a34c\" xlink:show=\"new\" xlink:title=\"psysml:f10bbfff-f917-435f-bbe7-eedf9b14a34c\" xlink:type=\"simple\"><polygon fill=\"#FFFFFF\" filter=\"url(#f1vazmxef8qevf)\" points=\"297,344,387,344,394,366.2969,401,366.2969,401,396.5938,297,396.5938,297,344\" style=\"stroke: #000000; stroke-width: 1.5;\"/><line style=\"stroke: #000000; stroke-width: 1.5;\" x1=\"297\" x2=\"394\" y1=\"366.2969\" y2=\"366.2969\"/><text fill=\"#000000\" font-family=\"sans-serif\" font-size=\"14\" font-weight=\"bold\" lengthAdjust=\"spacingAndGlyphs\" textLength=\"84\" x=\"301\" y=\"358.9951\">Data Layer</text></a><!--MD5=[af87c684e3b0d8be13c1a698a818ef1e]\n",
       "link E3 to E4--><a href=\"psysml:d6fef634-817c-4ef1-96de-f37bb594aaea\" target=\"_top\" title=\"psysml:d6fef634-817c-4ef1-96de-f37bb594aaea\" xlink:actuate=\"onRequest\" xlink:href=\"psysml:d6fef634-817c-4ef1-96de-f37bb594aaea\" xlink:show=\"new\" xlink:title=\"psysml:d6fef634-817c-4ef1-96de-f37bb594aaea\" xlink:type=\"simple\"><path d=\"M349,137.1 C349,156.8 349,184.22 349,205.73 \" fill=\"none\" id=\"E3-&gt;E4\" style=\"stroke: #A80036; stroke-width: 1.0; stroke-dasharray: 7.0,7.0;\"/><polygon fill=\"#A80036\" points=\"349,213.95,352,205.95,346,205.95,349,213.95\" style=\"stroke: #A80036; stroke-width: 1.0;\"/><text fill=\"#000000\" font-family=\"sans-serif\" font-size=\"13\" lengthAdjust=\"spacingAndGlyphs\" textLength=\"64\" x=\"350\" y=\"180.0669\">«depend»</text></a><!--MD5=[1b7591eae5389033d8d09a9d6721a717]\n",
       "link E4 to E5--><a href=\"psysml:d4b689e0-de38-42ab-a0b3-2a8bf82e0669\" target=\"_top\" title=\"psysml:d4b689e0-de38-42ab-a0b3-2a8bf82e0669\" xlink:actuate=\"onRequest\" xlink:href=\"psysml:d4b689e0-de38-42ab-a0b3-2a8bf82e0669\" xlink:show=\"new\" xlink:title=\"psysml:d4b689e0-de38-42ab-a0b3-2a8bf82e0669\" xlink:type=\"simple\"><path d=\"M349,267.1 C349,286.8 349,314.22 349,335.73 \" fill=\"none\" id=\"E4-&gt;E5\" style=\"stroke: #A80036; stroke-width: 1.0; stroke-dasharray: 7.0,7.0;\"/><polygon fill=\"#A80036\" points=\"349,343.95,352,335.95,346,335.95,349,343.95\" style=\"stroke: #A80036; stroke-width: 1.0;\"/><text fill=\"#000000\" font-family=\"sans-serif\" font-size=\"13\" lengthAdjust=\"spacingAndGlyphs\" textLength=\"64\" x=\"350\" y=\"310.0669\">«depend»</text></a><!--MD5=[c5e8897d989ce984f93528998a7150fe]\n",
       "link E8 to E6--><a href=\"psysml:c74e1bf4-ee72-40a7-b163-07732e38ed67\" target=\"_top\" title=\"psysml:c74e1bf4-ee72-40a7-b163-07732e38ed67\" xlink:actuate=\"onRequest\" xlink:href=\"psysml:c74e1bf4-ee72-40a7-b163-07732e38ed67\" xlink:show=\"new\" xlink:title=\"psysml:c74e1bf4-ee72-40a7-b163-07732e38ed67\" xlink:type=\"simple\"><path d=\"M89.42,133.6 C79.35,142.68 69.37,154.11 64,167 C58.5,180.2 58.66,195.94 60.54,209.38 \" fill=\"none\" id=\"E8-&gt;E6\" style=\"stroke: #A80036; stroke-width: 1.0; stroke-dasharray: 7.0,7.0;\"/><polygon fill=\"#A80036\" points=\"61.9,217.4,63.517,209.0104,57.6018,210.0159,61.9,217.4\" style=\"stroke: #A80036; stroke-width: 1.0;\"/><text fill=\"#000000\" font-family=\"sans-serif\" font-size=\"13\" lengthAdjust=\"spacingAndGlyphs\" textLength=\"64\" x=\"65\" y=\"180.0669\">«depend»</text></a><!--MD5=[bfa3c8b0d15052fdf50ae9310b491027]\n",
       "link E8 to E7--><a href=\"psysml:c74e1bf4-ee72-40a7-b163-07732e38ed67\" target=\"_top\" title=\"psysml:c74e1bf4-ee72-40a7-b163-07732e38ed67\" xlink:actuate=\"onRequest\" xlink:href=\"psysml:c74e1bf4-ee72-40a7-b163-07732e38ed67\" xlink:show=\"new\" xlink:title=\"psysml:c74e1bf4-ee72-40a7-b163-07732e38ed67\" xlink:type=\"simple\"><path d=\"M129.28,133.5 C138.17,154.57 151.64,186.5 161.47,209.81 \" fill=\"none\" id=\"E8-&gt;E7\" style=\"stroke: #A80036; stroke-width: 1.0; stroke-dasharray: 7.0,7.0;\"/><polygon fill=\"#A80036\" points=\"164.66,217.35,164.3241,208.8126,158.7933,211.1385,164.66,217.35\" style=\"stroke: #A80036; stroke-width: 1.0;\"/><text fill=\"#000000\" font-family=\"sans-serif\" font-size=\"13\" lengthAdjust=\"spacingAndGlyphs\" textLength=\"64\" x=\"151\" y=\"180.0669\">«depend»</text></a><!--MD5=[1d39e676eec0a527037883adf6eb0b87]\n",
       "@startuml\r\n",
       "skinparam wrapWidth 300\r\n",
       "hide circle\r\n",
       "\r\n",
       "package \"DependencyTest\" as E1  [[psysml:f9a8e327-3c68-43cc-8fc4-f0fda4441472 ]]  {\r\n",
       "package \"System\" as E2  [[psysml:5e0f80f7-1058-4b47-9f4f-e59769b1dff5 ]]  {\r\n",
       "package \"Application Layer\" as E3  [[psysml:d7cd1111-165d-4c09-9c1d-1c6e69d6b628 ]]  {\r\n",
       "}\r\n",
       "package \"Service Layer\" as E4  [[psysml:4fd532ef-c056-48ed-b57e-c34d41c7d9b0 ]]  {\r\n",
       "}\r\n",
       "package \"Data Layer\" as E5  [[psysml:f10bbfff-f917-435f-bbe7-eedf9b14a34c ]]  {\r\n",
       "}\r\n",
       "}\r\n",
       "comp usage \"x\" as E6  <<(T,blue)attribute>> [[psysml:52169dc2-f588-4d36-bb4d-934125a8defa ]] {\r\n",
       "}\r\n",
       "comp usage \"y\" as E7  <<(T,blue)attribute>> [[psysml:638ee95e-a488-4c6b-8aa7-581f6cf4c2fe ]] {\r\n",
       "}\r\n",
       "comp usage \"z\" as E8  <<(T,blue)attribute>> [[psysml:267f67df-ceab-4f9b-9288-379f8b6d76cc ]] {\r\n",
       "}\r\n",
       "E3 ..>> E4 [[psysml:d6fef634-817c-4ef1-96de-f37bb594aaea ]] : <<depend>>\r\n",
       "E4 ..>> E5 [[psysml:d4b689e0-de38-42ab-a0b3-2a8bf82e0669 ]] : <<depend>>\r\n",
       "E8 ..>> E6 [[psysml:c74e1bf4-ee72-40a7-b163-07732e38ed67 ]] : <<depend>>\r\n",
       "E8 ..>> E7 [[psysml:c74e1bf4-ee72-40a7-b163-07732e38ed67 ]] : <<depend>>\r\n",
       "}\r\n",
       "@enduml\r\n",
       "\n",
       "PlantUML version 1.2020.13(Sat Jun 13 12:26:38 UTC 2020)\n",
       "(EPL source distribution)\n",
       "Java Runtime: OpenJDK Runtime Environment\n",
       "JVM: OpenJDK 64-Bit Server VM\n",
       "Default Encoding: UTF-8\n",
       "Language: en\n",
       "Country: null\n",
       "--></g></svg>"
      ]
     },
     "execution_count": 28,
     "metadata": {},
     "output_type": "execute_result"
    }
   ],
   "source": [
    "%viz --style=\"STDCOLOR\" --view=\"Sequence\" \"DependencyTest\""
   ]
  },
  {
   "cell_type": "code",
   "execution_count": 29,
   "id": "92147ed4",
   "metadata": {
    "execution": {
     "iopub.execute_input": "2021-05-27T06:11:47.906887Z",
     "iopub.status.busy": "2021-05-27T06:11:47.906511Z",
     "iopub.status.idle": "2021-05-27T06:11:47.939181Z",
     "shell.execute_reply": "2021-05-27T06:11:47.938461Z"
    }
   },
   "outputs": [
    {
     "data": {
      "image/svg+xml": [
       "<?xml version=\"1.0\" encoding=\"UTF-8\" standalone=\"no\"?><svg xmlns=\"http://www.w3.org/2000/svg\" xmlns:xlink=\"http://www.w3.org/1999/xlink\" contentScriptType=\"application/ecmascript\" contentStyleType=\"text/css\" height=\"449px\" preserveAspectRatio=\"none\" style=\"width:489px;height:449px;\" version=\"1.1\" viewBox=\"0 0 489 449\" width=\"489px\" zoomAndPan=\"magnify\"><defs><filter height=\"300%\" id=\"f1vazmxef8qevf\" width=\"300%\" x=\"-1\" y=\"-1\"><feGaussianBlur result=\"blurOut\" stdDeviation=\"2.0\"/><feColorMatrix in=\"blurOut\" result=\"blurOut2\" type=\"matrix\" values=\"0 0 0 0 0 0 0 0 0 0 0 0 0 0 0 0 0 0 .4 0\"/><feOffset dx=\"4.0\" dy=\"4.0\" in=\"blurOut2\" result=\"blurOut3\"/><feBlend in=\"SourceGraphic\" in2=\"blurOut3\" mode=\"normal\"/></filter></defs><g><!--MD5=[fbc87193dbaf4d95561dea2c320d4a47]\n",
       "cluster E1--><a href=\"psysml:f9a8e327-3c68-43cc-8fc4-f0fda4441472\" target=\"_top\" title=\"psysml:f9a8e327-3c68-43cc-8fc4-f0fda4441472\" xlink:actuate=\"onRequest\" xlink:href=\"psysml:f9a8e327-3c68-43cc-8fc4-f0fda4441472\" xlink:show=\"new\" xlink:title=\"psysml:f9a8e327-3c68-43cc-8fc4-f0fda4441472\" xlink:type=\"simple\"><polygon fill=\"#FFFFFF\" filter=\"url(#f1vazmxef8qevf)\" points=\"16,6,156,6,163,28.2969,467,28.2969,467,437,16,437,16,6\" style=\"stroke: #000000; stroke-width: 1.5;\"/><line style=\"stroke: #000000; stroke-width: 1.5;\" x1=\"16\" x2=\"163\" y1=\"28.2969\" y2=\"28.2969\"/><text fill=\"#000000\" font-family=\"sans-serif\" font-size=\"14\" font-weight=\"bold\" lengthAdjust=\"spacingAndGlyphs\" textLength=\"134\" x=\"20\" y=\"20.9951\">DependencyTest</text></a><!--MD5=[e4f7fae6ed58524ba242bb0b0d3be6b7]\n",
       "cluster E2--><a href=\"psysml:5e0f80f7-1058-4b47-9f4f-e59769b1dff5\" target=\"_top\" title=\"psysml:5e0f80f7-1058-4b47-9f4f-e59769b1dff5\" xlink:actuate=\"onRequest\" xlink:href=\"psysml:5e0f80f7-1058-4b47-9f4f-e59769b1dff5\" xlink:show=\"new\" xlink:title=\"psysml:5e0f80f7-1058-4b47-9f4f-e59769b1dff5\" xlink:type=\"simple\"><polygon fill=\"#FFFFFF\" filter=\"url(#f1vazmxef8qevf)\" points=\"255,49,319,49,326,71.2969,443,71.2969,443,413,255,413,255,49\" style=\"stroke: #000000; stroke-width: 1.5;\"/><line style=\"stroke: #000000; stroke-width: 1.5;\" x1=\"255\" x2=\"326\" y1=\"71.2969\" y2=\"71.2969\"/><text fill=\"#000000\" font-family=\"sans-serif\" font-size=\"14\" font-weight=\"bold\" lengthAdjust=\"spacingAndGlyphs\" textLength=\"58\" x=\"259\" y=\"63.9951\">System</text></a><!--MD5=[60a26617385b1d2d0262a64233df1f8d]\n",
       "class E6--><a href=\"psysml:52169dc2-f588-4d36-bb4d-934125a8defa\" target=\"_top\" title=\"psysml:52169dc2-f588-4d36-bb4d-934125a8defa\" xlink:actuate=\"onRequest\" xlink:href=\"psysml:52169dc2-f588-4d36-bb4d-934125a8defa\" xlink:show=\"new\" xlink:title=\"psysml:52169dc2-f588-4d36-bb4d-934125a8defa\" xlink:type=\"simple\"><rect fill=\"#FEFECE\" filter=\"url(#f1vazmxef8qevf)\" height=\"45.9375\" id=\"E6\" rx=\"10\" ry=\"10\" style=\"stroke: #A80036; stroke-width: 1.5;\" width=\"71\" x=\"32.5\" y=\"217.5\"/><text fill=\"#000000\" font-family=\"sans-serif\" font-size=\"12\" font-style=\"italic\" lengthAdjust=\"spacingAndGlyphs\" textLength=\"69\" x=\"33.5\" y=\"233.6387\">«attribute»</text><text fill=\"#000000\" font-family=\"sans-serif\" font-size=\"12\" lengthAdjust=\"spacingAndGlyphs\" textLength=\"6\" x=\"65\" y=\"247.6074\">x</text><line style=\"stroke: #A80036; stroke-width: 1.5;\" x1=\"33.5\" x2=\"102.5\" y1=\"255.4375\" y2=\"255.4375\"/></a><!--MD5=[2156ba9850f5573cc1fc38a6a4b2f02b]\n",
       "class E7--><a href=\"psysml:638ee95e-a488-4c6b-8aa7-581f6cf4c2fe\" target=\"_top\" title=\"psysml:638ee95e-a488-4c6b-8aa7-581f6cf4c2fe\" xlink:actuate=\"onRequest\" xlink:href=\"psysml:638ee95e-a488-4c6b-8aa7-581f6cf4c2fe\" xlink:show=\"new\" xlink:title=\"psysml:638ee95e-a488-4c6b-8aa7-581f6cf4c2fe\" xlink:type=\"simple\"><rect fill=\"#FEFECE\" filter=\"url(#f1vazmxef8qevf)\" height=\"45.9375\" id=\"E7\" rx=\"10\" ry=\"10\" style=\"stroke: #A80036; stroke-width: 1.5;\" width=\"71\" x=\"138.5\" y=\"217.5\"/><text fill=\"#000000\" font-family=\"sans-serif\" font-size=\"12\" font-style=\"italic\" lengthAdjust=\"spacingAndGlyphs\" textLength=\"69\" x=\"139.5\" y=\"233.6387\">«attribute»</text><text fill=\"#000000\" font-family=\"sans-serif\" font-size=\"12\" lengthAdjust=\"spacingAndGlyphs\" textLength=\"6\" x=\"171\" y=\"247.6074\">y</text><line style=\"stroke: #A80036; stroke-width: 1.5;\" x1=\"139.5\" x2=\"208.5\" y1=\"255.4375\" y2=\"255.4375\"/></a><!--MD5=[b9389687b975829384b498ac4b7476b2]\n",
       "class E8--><a href=\"psysml:267f67df-ceab-4f9b-9288-379f8b6d76cc\" target=\"_top\" title=\"psysml:267f67df-ceab-4f9b-9288-379f8b6d76cc\" xlink:actuate=\"onRequest\" xlink:href=\"psysml:267f67df-ceab-4f9b-9288-379f8b6d76cc\" xlink:show=\"new\" xlink:title=\"psysml:267f67df-ceab-4f9b-9288-379f8b6d76cc\" xlink:type=\"simple\"><rect fill=\"#FEFECE\" filter=\"url(#f1vazmxef8qevf)\" height=\"45.9375\" id=\"E8\" rx=\"10\" ry=\"10\" style=\"stroke: #A80036; stroke-width: 1.5;\" width=\"71\" x=\"84.5\" y=\"87.5\"/><text fill=\"#000000\" font-family=\"sans-serif\" font-size=\"12\" font-style=\"italic\" lengthAdjust=\"spacingAndGlyphs\" textLength=\"69\" x=\"85.5\" y=\"103.6387\">«attribute»</text><text fill=\"#000000\" font-family=\"sans-serif\" font-size=\"12\" lengthAdjust=\"spacingAndGlyphs\" textLength=\"5\" x=\"117.5\" y=\"117.6074\">z</text><line style=\"stroke: #A80036; stroke-width: 1.5;\" x1=\"85.5\" x2=\"154.5\" y1=\"125.4375\" y2=\"125.4375\"/></a><a href=\"psysml:d7cd1111-165d-4c09-9c1d-1c6e69d6b628\" target=\"_top\" title=\"psysml:d7cd1111-165d-4c09-9c1d-1c6e69d6b628\" xlink:actuate=\"onRequest\" xlink:href=\"psysml:d7cd1111-165d-4c09-9c1d-1c6e69d6b628\" xlink:show=\"new\" xlink:title=\"psysml:d7cd1111-165d-4c09-9c1d-1c6e69d6b628\" xlink:type=\"simple\"><polygon fill=\"#FFFFFF\" filter=\"url(#f1vazmxef8qevf)\" points=\"271,84,413,84,420,106.2969,427,106.2969,427,136.5938,271,136.5938,271,84\" style=\"stroke: #000000; stroke-width: 1.5;\"/><line style=\"stroke: #000000; stroke-width: 1.5;\" x1=\"271\" x2=\"420\" y1=\"106.2969\" y2=\"106.2969\"/><text fill=\"#000000\" font-family=\"sans-serif\" font-size=\"14\" font-weight=\"bold\" lengthAdjust=\"spacingAndGlyphs\" textLength=\"136\" x=\"275\" y=\"98.9951\">Application Layer</text></a><a href=\"psysml:4fd532ef-c056-48ed-b57e-c34d41c7d9b0\" target=\"_top\" title=\"psysml:4fd532ef-c056-48ed-b57e-c34d41c7d9b0\" xlink:actuate=\"onRequest\" xlink:href=\"psysml:4fd532ef-c056-48ed-b57e-c34d41c7d9b0\" xlink:show=\"new\" xlink:title=\"psysml:4fd532ef-c056-48ed-b57e-c34d41c7d9b0\" xlink:type=\"simple\"><polygon fill=\"#FFFFFF\" filter=\"url(#f1vazmxef8qevf)\" points=\"285,214,399,214,406,236.2969,413,236.2969,413,266.5938,285,266.5938,285,214\" style=\"stroke: #000000; stroke-width: 1.5;\"/><line style=\"stroke: #000000; stroke-width: 1.5;\" x1=\"285\" x2=\"406\" y1=\"236.2969\" y2=\"236.2969\"/><text fill=\"#000000\" font-family=\"sans-serif\" font-size=\"14\" font-weight=\"bold\" lengthAdjust=\"spacingAndGlyphs\" textLength=\"108\" x=\"289\" y=\"228.9951\">Service Layer</text></a><a href=\"psysml:f10bbfff-f917-435f-bbe7-eedf9b14a34c\" target=\"_top\" title=\"psysml:f10bbfff-f917-435f-bbe7-eedf9b14a34c\" xlink:actuate=\"onRequest\" xlink:href=\"psysml:f10bbfff-f917-435f-bbe7-eedf9b14a34c\" xlink:show=\"new\" xlink:title=\"psysml:f10bbfff-f917-435f-bbe7-eedf9b14a34c\" xlink:type=\"simple\"><polygon fill=\"#FFFFFF\" filter=\"url(#f1vazmxef8qevf)\" points=\"297,344,387,344,394,366.2969,401,366.2969,401,396.5938,297,396.5938,297,344\" style=\"stroke: #000000; stroke-width: 1.5;\"/><line style=\"stroke: #000000; stroke-width: 1.5;\" x1=\"297\" x2=\"394\" y1=\"366.2969\" y2=\"366.2969\"/><text fill=\"#000000\" font-family=\"sans-serif\" font-size=\"14\" font-weight=\"bold\" lengthAdjust=\"spacingAndGlyphs\" textLength=\"84\" x=\"301\" y=\"358.9951\">Data Layer</text></a><!--MD5=[af87c684e3b0d8be13c1a698a818ef1e]\n",
       "link E3 to E4--><a href=\"psysml:d6fef634-817c-4ef1-96de-f37bb594aaea\" target=\"_top\" title=\"psysml:d6fef634-817c-4ef1-96de-f37bb594aaea\" xlink:actuate=\"onRequest\" xlink:href=\"psysml:d6fef634-817c-4ef1-96de-f37bb594aaea\" xlink:show=\"new\" xlink:title=\"psysml:d6fef634-817c-4ef1-96de-f37bb594aaea\" xlink:type=\"simple\"><path d=\"M349,137.1 C349,156.8 349,184.22 349,205.73 \" fill=\"none\" id=\"E3-&gt;E4\" style=\"stroke: #A80036; stroke-width: 1.0; stroke-dasharray: 7.0,7.0;\"/><polygon fill=\"#A80036\" points=\"349,213.95,352,205.95,346,205.95,349,213.95\" style=\"stroke: #A80036; stroke-width: 1.0;\"/><text fill=\"#000000\" font-family=\"sans-serif\" font-size=\"13\" lengthAdjust=\"spacingAndGlyphs\" textLength=\"64\" x=\"350\" y=\"180.0669\">«depend»</text></a><!--MD5=[1b7591eae5389033d8d09a9d6721a717]\n",
       "link E4 to E5--><a href=\"psysml:d4b689e0-de38-42ab-a0b3-2a8bf82e0669\" target=\"_top\" title=\"psysml:d4b689e0-de38-42ab-a0b3-2a8bf82e0669\" xlink:actuate=\"onRequest\" xlink:href=\"psysml:d4b689e0-de38-42ab-a0b3-2a8bf82e0669\" xlink:show=\"new\" xlink:title=\"psysml:d4b689e0-de38-42ab-a0b3-2a8bf82e0669\" xlink:type=\"simple\"><path d=\"M349,267.1 C349,286.8 349,314.22 349,335.73 \" fill=\"none\" id=\"E4-&gt;E5\" style=\"stroke: #A80036; stroke-width: 1.0; stroke-dasharray: 7.0,7.0;\"/><polygon fill=\"#A80036\" points=\"349,343.95,352,335.95,346,335.95,349,343.95\" style=\"stroke: #A80036; stroke-width: 1.0;\"/><text fill=\"#000000\" font-family=\"sans-serif\" font-size=\"13\" lengthAdjust=\"spacingAndGlyphs\" textLength=\"64\" x=\"350\" y=\"310.0669\">«depend»</text></a><!--MD5=[c5e8897d989ce984f93528998a7150fe]\n",
       "link E8 to E6--><a href=\"psysml:c74e1bf4-ee72-40a7-b163-07732e38ed67\" target=\"_top\" title=\"psysml:c74e1bf4-ee72-40a7-b163-07732e38ed67\" xlink:actuate=\"onRequest\" xlink:href=\"psysml:c74e1bf4-ee72-40a7-b163-07732e38ed67\" xlink:show=\"new\" xlink:title=\"psysml:c74e1bf4-ee72-40a7-b163-07732e38ed67\" xlink:type=\"simple\"><path d=\"M89.42,133.6 C79.35,142.68 69.37,154.11 64,167 C58.5,180.2 58.66,195.94 60.54,209.38 \" fill=\"none\" id=\"E8-&gt;E6\" style=\"stroke: #A80036; stroke-width: 1.0; stroke-dasharray: 7.0,7.0;\"/><polygon fill=\"#A80036\" points=\"61.9,217.4,63.517,209.0104,57.6018,210.0159,61.9,217.4\" style=\"stroke: #A80036; stroke-width: 1.0;\"/><text fill=\"#000000\" font-family=\"sans-serif\" font-size=\"13\" lengthAdjust=\"spacingAndGlyphs\" textLength=\"64\" x=\"65\" y=\"180.0669\">«depend»</text></a><!--MD5=[bfa3c8b0d15052fdf50ae9310b491027]\n",
       "link E8 to E7--><a href=\"psysml:c74e1bf4-ee72-40a7-b163-07732e38ed67\" target=\"_top\" title=\"psysml:c74e1bf4-ee72-40a7-b163-07732e38ed67\" xlink:actuate=\"onRequest\" xlink:href=\"psysml:c74e1bf4-ee72-40a7-b163-07732e38ed67\" xlink:show=\"new\" xlink:title=\"psysml:c74e1bf4-ee72-40a7-b163-07732e38ed67\" xlink:type=\"simple\"><path d=\"M129.28,133.5 C138.17,154.57 151.64,186.5 161.47,209.81 \" fill=\"none\" id=\"E8-&gt;E7\" style=\"stroke: #A80036; stroke-width: 1.0; stroke-dasharray: 7.0,7.0;\"/><polygon fill=\"#A80036\" points=\"164.66,217.35,164.3241,208.8126,158.7933,211.1385,164.66,217.35\" style=\"stroke: #A80036; stroke-width: 1.0;\"/><text fill=\"#000000\" font-family=\"sans-serif\" font-size=\"13\" lengthAdjust=\"spacingAndGlyphs\" textLength=\"64\" x=\"151\" y=\"180.0669\">«depend»</text></a><!--MD5=[1d39e676eec0a527037883adf6eb0b87]\n",
       "@startuml\r\n",
       "skinparam wrapWidth 300\r\n",
       "hide circle\r\n",
       "\r\n",
       "package \"DependencyTest\" as E1  [[psysml:f9a8e327-3c68-43cc-8fc4-f0fda4441472 ]]  {\r\n",
       "package \"System\" as E2  [[psysml:5e0f80f7-1058-4b47-9f4f-e59769b1dff5 ]]  {\r\n",
       "package \"Application Layer\" as E3  [[psysml:d7cd1111-165d-4c09-9c1d-1c6e69d6b628 ]]  {\r\n",
       "}\r\n",
       "package \"Service Layer\" as E4  [[psysml:4fd532ef-c056-48ed-b57e-c34d41c7d9b0 ]]  {\r\n",
       "}\r\n",
       "package \"Data Layer\" as E5  [[psysml:f10bbfff-f917-435f-bbe7-eedf9b14a34c ]]  {\r\n",
       "}\r\n",
       "}\r\n",
       "comp usage \"x\" as E6  <<(T,blue)attribute>> [[psysml:52169dc2-f588-4d36-bb4d-934125a8defa ]] {\r\n",
       "}\r\n",
       "comp usage \"y\" as E7  <<(T,blue)attribute>> [[psysml:638ee95e-a488-4c6b-8aa7-581f6cf4c2fe ]] {\r\n",
       "}\r\n",
       "comp usage \"z\" as E8  <<(T,blue)attribute>> [[psysml:267f67df-ceab-4f9b-9288-379f8b6d76cc ]] {\r\n",
       "}\r\n",
       "E3 ..>> E4 [[psysml:d6fef634-817c-4ef1-96de-f37bb594aaea ]] : <<depend>>\r\n",
       "E4 ..>> E5 [[psysml:d4b689e0-de38-42ab-a0b3-2a8bf82e0669 ]] : <<depend>>\r\n",
       "E8 ..>> E6 [[psysml:c74e1bf4-ee72-40a7-b163-07732e38ed67 ]] : <<depend>>\r\n",
       "E8 ..>> E7 [[psysml:c74e1bf4-ee72-40a7-b163-07732e38ed67 ]] : <<depend>>\r\n",
       "}\r\n",
       "@enduml\r\n",
       "\n",
       "PlantUML version 1.2020.13(Sat Jun 13 12:26:38 UTC 2020)\n",
       "(EPL source distribution)\n",
       "Java Runtime: OpenJDK Runtime Environment\n",
       "JVM: OpenJDK 64-Bit Server VM\n",
       "Default Encoding: UTF-8\n",
       "Language: en\n",
       "Country: null\n",
       "--></g></svg>"
      ]
     },
     "execution_count": 29,
     "metadata": {},
     "output_type": "execute_result"
    }
   ],
   "source": [
    "%viz --style=\"STDCOLOR\" --view=\"MIXED\" \"DependencyTest\""
   ]
  },
  {
   "cell_type": "code",
   "execution_count": 30,
   "id": "cbe50b54",
   "metadata": {
    "execution": {
     "iopub.execute_input": "2021-05-27T06:11:47.991509Z",
     "iopub.status.busy": "2021-05-27T06:11:47.990751Z",
     "iopub.status.idle": "2021-05-27T06:11:48.040003Z",
     "shell.execute_reply": "2021-05-27T06:11:48.038691Z"
    }
   },
   "outputs": [
    {
     "data": {
      "image/svg+xml": [
       "<?xml version=\"1.0\" encoding=\"UTF-8\" standalone=\"no\"?><svg xmlns=\"http://www.w3.org/2000/svg\" xmlns:xlink=\"http://www.w3.org/1999/xlink\" contentScriptType=\"application/ecmascript\" contentStyleType=\"text/css\" height=\"449px\" preserveAspectRatio=\"none\" style=\"width:510px;height:449px;\" version=\"1.1\" viewBox=\"0 0 510 449\" width=\"510px\" zoomAndPan=\"magnify\"><defs><filter height=\"300%\" id=\"ffo6ijvvvk117\" width=\"300%\" x=\"-1\" y=\"-1\"><feGaussianBlur result=\"blurOut\" stdDeviation=\"2.0\"/><feColorMatrix in=\"blurOut\" result=\"blurOut2\" type=\"matrix\" values=\"0 0 0 0 0 0 0 0 0 0 0 0 0 0 0 0 0 0 .4 0\"/><feOffset dx=\"4.0\" dy=\"4.0\" in=\"blurOut2\" result=\"blurOut3\"/><feBlend in=\"SourceGraphic\" in2=\"blurOut3\" mode=\"normal\"/></filter></defs><g><!--MD5=[fbc87193dbaf4d95561dea2c320d4a47]\n",
       "cluster E1--><a href=\"psysml:f9a8e327-3c68-43cc-8fc4-f0fda4441472\" target=\"_top\" title=\"psysml:f9a8e327-3c68-43cc-8fc4-f0fda4441472\" xlink:actuate=\"onRequest\" xlink:href=\"psysml:f9a8e327-3c68-43cc-8fc4-f0fda4441472\" xlink:show=\"new\" xlink:title=\"psysml:f9a8e327-3c68-43cc-8fc4-f0fda4441472\" xlink:type=\"simple\"><polygon fill=\"#FFFFFF\" filter=\"url(#ffo6ijvvvk117)\" points=\"16,6,156,6,163,28.2969,488,28.2969,488,437,16,437,16,6\" style=\"stroke: #000000; stroke-width: 1.5;\"/><line style=\"stroke: #000000; stroke-width: 1.5;\" x1=\"16\" x2=\"163\" y1=\"28.2969\" y2=\"28.2969\"/><text fill=\"#000000\" font-family=\"sans-serif\" font-size=\"14\" font-weight=\"bold\" lengthAdjust=\"spacingAndGlyphs\" textLength=\"134\" x=\"20\" y=\"20.9951\">DependencyTest</text></a><!--MD5=[e4f7fae6ed58524ba242bb0b0d3be6b7]\n",
       "cluster E2--><a href=\"psysml:5e0f80f7-1058-4b47-9f4f-e59769b1dff5\" target=\"_top\" title=\"psysml:5e0f80f7-1058-4b47-9f4f-e59769b1dff5\" xlink:actuate=\"onRequest\" xlink:href=\"psysml:5e0f80f7-1058-4b47-9f4f-e59769b1dff5\" xlink:show=\"new\" xlink:title=\"psysml:5e0f80f7-1058-4b47-9f4f-e59769b1dff5\" xlink:type=\"simple\"><polygon fill=\"#FFFFFF\" filter=\"url(#ffo6ijvvvk117)\" points=\"276,49,340,49,347,71.2969,464,71.2969,464,413,276,413,276,49\" style=\"stroke: #000000; stroke-width: 1.5;\"/><line style=\"stroke: #000000; stroke-width: 1.5;\" x1=\"276\" x2=\"347\" y1=\"71.2969\" y2=\"71.2969\"/><text fill=\"#000000\" font-family=\"sans-serif\" font-size=\"14\" font-weight=\"bold\" lengthAdjust=\"spacingAndGlyphs\" textLength=\"58\" x=\"280\" y=\"63.9951\">System</text></a><!--MD5=[60a26617385b1d2d0262a64233df1f8d]\n",
       "class E6--><a href=\"psysml:52169dc2-f588-4d36-bb4d-934125a8defa\" target=\"_top\" title=\"psysml:52169dc2-f588-4d36-bb4d-934125a8defa\" xlink:actuate=\"onRequest\" xlink:href=\"psysml:52169dc2-f588-4d36-bb4d-934125a8defa\" xlink:show=\"new\" xlink:title=\"psysml:52169dc2-f588-4d36-bb4d-934125a8defa\" xlink:type=\"simple\"><rect fill=\"#FEFECE\" filter=\"url(#ffo6ijvvvk117)\" height=\"45.9375\" id=\"E6\" rx=\"10\" ry=\"10\" style=\"stroke: #A80036; stroke-width: 1.5;\" width=\"97\" x=\"31.5\" y=\"217.5\"/><ellipse cx=\"46.5\" cy=\"236.4688\" fill=\"#FFA500\" rx=\"11\" ry=\"11\" style=\"stroke: #A80036; stroke-width: 1.0;\"/><path d=\"M42.375,238.3906 L42.375,230.5781 L44.8281,230.5781 L44.8281,239.0156 Q44.8281,239.9375 45.2969,240.4688 Q45.7813,241 46.6094,241 Q47.4531,241 47.9219,240.4688 Q48.3906,239.9375 48.3906,239.0156 L48.3906,230.5781 L50.8438,230.5781 L50.8438,238.3906 Q50.8438,240.9219 49.8438,242.0625 Q48.8438,243.2031 46.6094,243.2031 Q44.3906,243.2031 43.375,242.0625 Q42.375,240.9219 42.375,238.3906 Z \"/><text fill=\"#000000\" font-family=\"sans-serif\" font-size=\"12\" font-style=\"italic\" lengthAdjust=\"spacingAndGlyphs\" textLength=\"69\" x=\"58.5\" y=\"233.6387\">«attribute»</text><text fill=\"#000000\" font-family=\"sans-serif\" font-size=\"12\" lengthAdjust=\"spacingAndGlyphs\" textLength=\"6\" x=\"90\" y=\"247.6074\">x</text><line style=\"stroke: #A80036; stroke-width: 1.5;\" x1=\"32.5\" x2=\"127.5\" y1=\"255.4375\" y2=\"255.4375\"/></a><!--MD5=[2156ba9850f5573cc1fc38a6a4b2f02b]\n",
       "class E7--><a href=\"psysml:638ee95e-a488-4c6b-8aa7-581f6cf4c2fe\" target=\"_top\" title=\"psysml:638ee95e-a488-4c6b-8aa7-581f6cf4c2fe\" xlink:actuate=\"onRequest\" xlink:href=\"psysml:638ee95e-a488-4c6b-8aa7-581f6cf4c2fe\" xlink:show=\"new\" xlink:title=\"psysml:638ee95e-a488-4c6b-8aa7-581f6cf4c2fe\" xlink:type=\"simple\"><rect fill=\"#FEFECE\" filter=\"url(#ffo6ijvvvk117)\" height=\"45.9375\" id=\"E7\" rx=\"10\" ry=\"10\" style=\"stroke: #A80036; stroke-width: 1.5;\" width=\"97\" x=\"163.5\" y=\"217.5\"/><ellipse cx=\"178.5\" cy=\"236.4688\" fill=\"#FFA500\" rx=\"11\" ry=\"11\" style=\"stroke: #A80036; stroke-width: 1.0;\"/><path d=\"M174.375,238.3906 L174.375,230.5781 L176.8281,230.5781 L176.8281,239.0156 Q176.8281,239.9375 177.2969,240.4688 Q177.7813,241 178.6094,241 Q179.4531,241 179.9219,240.4688 Q180.3906,239.9375 180.3906,239.0156 L180.3906,230.5781 L182.8438,230.5781 L182.8438,238.3906 Q182.8438,240.9219 181.8438,242.0625 Q180.8438,243.2031 178.6094,243.2031 Q176.3906,243.2031 175.375,242.0625 Q174.375,240.9219 174.375,238.3906 Z \"/><text fill=\"#000000\" font-family=\"sans-serif\" font-size=\"12\" font-style=\"italic\" lengthAdjust=\"spacingAndGlyphs\" textLength=\"69\" x=\"190.5\" y=\"233.6387\">«attribute»</text><text fill=\"#000000\" font-family=\"sans-serif\" font-size=\"12\" lengthAdjust=\"spacingAndGlyphs\" textLength=\"6\" x=\"222\" y=\"247.6074\">y</text><line style=\"stroke: #A80036; stroke-width: 1.5;\" x1=\"164.5\" x2=\"259.5\" y1=\"255.4375\" y2=\"255.4375\"/></a><!--MD5=[b9389687b975829384b498ac4b7476b2]\n",
       "class E8--><a href=\"psysml:267f67df-ceab-4f9b-9288-379f8b6d76cc\" target=\"_top\" title=\"psysml:267f67df-ceab-4f9b-9288-379f8b6d76cc\" xlink:actuate=\"onRequest\" xlink:href=\"psysml:267f67df-ceab-4f9b-9288-379f8b6d76cc\" xlink:show=\"new\" xlink:title=\"psysml:267f67df-ceab-4f9b-9288-379f8b6d76cc\" xlink:type=\"simple\"><rect fill=\"#FEFECE\" filter=\"url(#ffo6ijvvvk117)\" height=\"45.9375\" id=\"E8\" rx=\"10\" ry=\"10\" style=\"stroke: #A80036; stroke-width: 1.5;\" width=\"97\" x=\"84.5\" y=\"87.5\"/><ellipse cx=\"99.5\" cy=\"106.4688\" fill=\"#FFA500\" rx=\"11\" ry=\"11\" style=\"stroke: #A80036; stroke-width: 1.0;\"/><path d=\"M95.375,108.3906 L95.375,100.5781 L97.8281,100.5781 L97.8281,109.0156 Q97.8281,109.9375 98.2969,110.4688 Q98.7813,111 99.6094,111 Q100.4531,111 100.9219,110.4688 Q101.3906,109.9375 101.3906,109.0156 L101.3906,100.5781 L103.8438,100.5781 L103.8438,108.3906 Q103.8438,110.9219 102.8438,112.0625 Q101.8438,113.2031 99.6094,113.2031 Q97.3906,113.2031 96.375,112.0625 Q95.375,110.9219 95.375,108.3906 Z \"/><text fill=\"#000000\" font-family=\"sans-serif\" font-size=\"12\" font-style=\"italic\" lengthAdjust=\"spacingAndGlyphs\" textLength=\"69\" x=\"111.5\" y=\"103.6387\">«attribute»</text><text fill=\"#000000\" font-family=\"sans-serif\" font-size=\"12\" lengthAdjust=\"spacingAndGlyphs\" textLength=\"5\" x=\"143.5\" y=\"117.6074\">z</text><line style=\"stroke: #A80036; stroke-width: 1.5;\" x1=\"85.5\" x2=\"180.5\" y1=\"125.4375\" y2=\"125.4375\"/></a><a href=\"psysml:d7cd1111-165d-4c09-9c1d-1c6e69d6b628\" target=\"_top\" title=\"psysml:d7cd1111-165d-4c09-9c1d-1c6e69d6b628\" xlink:actuate=\"onRequest\" xlink:href=\"psysml:d7cd1111-165d-4c09-9c1d-1c6e69d6b628\" xlink:show=\"new\" xlink:title=\"psysml:d7cd1111-165d-4c09-9c1d-1c6e69d6b628\" xlink:type=\"simple\"><polygon fill=\"#FFFFFF\" filter=\"url(#ffo6ijvvvk117)\" points=\"292,84,434,84,441,106.2969,448,106.2969,448,136.5938,292,136.5938,292,84\" style=\"stroke: #000000; stroke-width: 1.5;\"/><line style=\"stroke: #000000; stroke-width: 1.5;\" x1=\"292\" x2=\"441\" y1=\"106.2969\" y2=\"106.2969\"/><text fill=\"#000000\" font-family=\"sans-serif\" font-size=\"14\" font-weight=\"bold\" lengthAdjust=\"spacingAndGlyphs\" textLength=\"136\" x=\"296\" y=\"98.9951\">Application Layer</text></a><a href=\"psysml:4fd532ef-c056-48ed-b57e-c34d41c7d9b0\" target=\"_top\" title=\"psysml:4fd532ef-c056-48ed-b57e-c34d41c7d9b0\" xlink:actuate=\"onRequest\" xlink:href=\"psysml:4fd532ef-c056-48ed-b57e-c34d41c7d9b0\" xlink:show=\"new\" xlink:title=\"psysml:4fd532ef-c056-48ed-b57e-c34d41c7d9b0\" xlink:type=\"simple\"><polygon fill=\"#FFFFFF\" filter=\"url(#ffo6ijvvvk117)\" points=\"306,214,420,214,427,236.2969,434,236.2969,434,266.5938,306,266.5938,306,214\" style=\"stroke: #000000; stroke-width: 1.5;\"/><line style=\"stroke: #000000; stroke-width: 1.5;\" x1=\"306\" x2=\"427\" y1=\"236.2969\" y2=\"236.2969\"/><text fill=\"#000000\" font-family=\"sans-serif\" font-size=\"14\" font-weight=\"bold\" lengthAdjust=\"spacingAndGlyphs\" textLength=\"108\" x=\"310\" y=\"228.9951\">Service Layer</text></a><a href=\"psysml:f10bbfff-f917-435f-bbe7-eedf9b14a34c\" target=\"_top\" title=\"psysml:f10bbfff-f917-435f-bbe7-eedf9b14a34c\" xlink:actuate=\"onRequest\" xlink:href=\"psysml:f10bbfff-f917-435f-bbe7-eedf9b14a34c\" xlink:show=\"new\" xlink:title=\"psysml:f10bbfff-f917-435f-bbe7-eedf9b14a34c\" xlink:type=\"simple\"><polygon fill=\"#FFFFFF\" filter=\"url(#ffo6ijvvvk117)\" points=\"318,344,408,344,415,366.2969,422,366.2969,422,396.5938,318,396.5938,318,344\" style=\"stroke: #000000; stroke-width: 1.5;\"/><line style=\"stroke: #000000; stroke-width: 1.5;\" x1=\"318\" x2=\"415\" y1=\"366.2969\" y2=\"366.2969\"/><text fill=\"#000000\" font-family=\"sans-serif\" font-size=\"14\" font-weight=\"bold\" lengthAdjust=\"spacingAndGlyphs\" textLength=\"84\" x=\"322\" y=\"358.9951\">Data Layer</text></a><!--MD5=[af87c684e3b0d8be13c1a698a818ef1e]\n",
       "link E3 to E4--><a href=\"psysml:d6fef634-817c-4ef1-96de-f37bb594aaea\" target=\"_top\" title=\"psysml:d6fef634-817c-4ef1-96de-f37bb594aaea\" xlink:actuate=\"onRequest\" xlink:href=\"psysml:d6fef634-817c-4ef1-96de-f37bb594aaea\" xlink:show=\"new\" xlink:title=\"psysml:d6fef634-817c-4ef1-96de-f37bb594aaea\" xlink:type=\"simple\"><path d=\"M370,137.1 C370,156.8 370,184.22 370,205.73 \" fill=\"none\" id=\"E3-&gt;E4\" style=\"stroke: #A80036; stroke-width: 1.0; stroke-dasharray: 7.0,7.0;\"/><polygon fill=\"#A80036\" points=\"370,213.95,373,205.95,367,205.95,370,213.95\" style=\"stroke: #A80036; stroke-width: 1.0;\"/><text fill=\"#000000\" font-family=\"sans-serif\" font-size=\"13\" lengthAdjust=\"spacingAndGlyphs\" textLength=\"64\" x=\"371\" y=\"180.0669\">«depend»</text></a><!--MD5=[1b7591eae5389033d8d09a9d6721a717]\n",
       "link E4 to E5--><a href=\"psysml:d4b689e0-de38-42ab-a0b3-2a8bf82e0669\" target=\"_top\" title=\"psysml:d4b689e0-de38-42ab-a0b3-2a8bf82e0669\" xlink:actuate=\"onRequest\" xlink:href=\"psysml:d4b689e0-de38-42ab-a0b3-2a8bf82e0669\" xlink:show=\"new\" xlink:title=\"psysml:d4b689e0-de38-42ab-a0b3-2a8bf82e0669\" xlink:type=\"simple\"><path d=\"M370,267.1 C370,286.8 370,314.22 370,335.73 \" fill=\"none\" id=\"E4-&gt;E5\" style=\"stroke: #A80036; stroke-width: 1.0; stroke-dasharray: 7.0,7.0;\"/><polygon fill=\"#A80036\" points=\"370,343.95,373,335.95,367,335.95,370,343.95\" style=\"stroke: #A80036; stroke-width: 1.0;\"/><text fill=\"#000000\" font-family=\"sans-serif\" font-size=\"13\" lengthAdjust=\"spacingAndGlyphs\" textLength=\"64\" x=\"371\" y=\"310.0669\">«depend»</text></a><!--MD5=[c5e8897d989ce984f93528998a7150fe]\n",
       "link E8 to E6--><a href=\"psysml:c74e1bf4-ee72-40a7-b163-07732e38ed67\" target=\"_top\" title=\"psysml:c74e1bf4-ee72-40a7-b163-07732e38ed67\" xlink:actuate=\"onRequest\" xlink:href=\"psysml:c74e1bf4-ee72-40a7-b163-07732e38ed67\" xlink:show=\"new\" xlink:title=\"psysml:c74e1bf4-ee72-40a7-b163-07732e38ed67\" xlink:type=\"simple\"><path d=\"M106.44,133.76 C97.3,143.01 88.09,154.51 83,167 C77.6,180.23 76.4,195.98 76.73,209.41 \" fill=\"none\" id=\"E8-&gt;E6\" style=\"stroke: #A80036; stroke-width: 1.0; stroke-dasharray: 7.0,7.0;\"/><polygon fill=\"#A80036\" points=\"77.12,217.43,79.7306,209.2946,73.7375,209.584,77.12,217.43\" style=\"stroke: #A80036; stroke-width: 1.0;\"/><text fill=\"#000000\" font-family=\"sans-serif\" font-size=\"13\" lengthAdjust=\"spacingAndGlyphs\" textLength=\"64\" x=\"84\" y=\"180.0669\">«depend»</text></a><!--MD5=[bfa3c8b0d15052fdf50ae9310b491027]\n",
       "link E8 to E7--><a href=\"psysml:c74e1bf4-ee72-40a7-b163-07732e38ed67\" target=\"_top\" title=\"psysml:c74e1bf4-ee72-40a7-b163-07732e38ed67\" xlink:actuate=\"onRequest\" xlink:href=\"psysml:c74e1bf4-ee72-40a7-b163-07732e38ed67\" xlink:show=\"new\" xlink:title=\"psysml:c74e1bf4-ee72-40a7-b163-07732e38ed67\" xlink:type=\"simple\"><path d=\"M146.58,133.5 C159.69,154.75 179.63,187.05 194.05,210.41 \" fill=\"none\" id=\"E8-&gt;E7\" style=\"stroke: #A80036; stroke-width: 1.0; stroke-dasharray: 7.0,7.0;\"/><polygon fill=\"#A80036\" points=\"198.33,217.35,196.6785,208.9671,191.5737,212.1201,198.33,217.35\" style=\"stroke: #A80036; stroke-width: 1.0;\"/><text fill=\"#000000\" font-family=\"sans-serif\" font-size=\"13\" lengthAdjust=\"spacingAndGlyphs\" textLength=\"64\" x=\"178\" y=\"180.0669\">«depend»</text></a><!--MD5=[1062c3f3b7c23ce4e4aab97b477b2c44]\n",
       "@startuml\r\n",
       " \r\n",
       "package \"DependencyTest\" as E1  [[psysml:f9a8e327-3c68-43cc-8fc4-f0fda4441472 ]]  {\r\n",
       "package \"System\" as E2  [[psysml:5e0f80f7-1058-4b47-9f4f-e59769b1dff5 ]]  {\r\n",
       "package \"Application Layer\" as E3  [[psysml:d7cd1111-165d-4c09-9c1d-1c6e69d6b628 ]]  {\r\n",
       "}\r\n",
       "package \"Service Layer\" as E4  [[psysml:4fd532ef-c056-48ed-b57e-c34d41c7d9b0 ]]  {\r\n",
       "}\r\n",
       "package \"Data Layer\" as E5  [[psysml:f10bbfff-f917-435f-bbe7-eedf9b14a34c ]]  {\r\n",
       "}\r\n",
       "}\r\n",
       "comp usage \"x\" as E6  <<(U,orange)attribute>> [[psysml:52169dc2-f588-4d36-bb4d-934125a8defa ]] {\r\n",
       "}\r\n",
       "comp usage \"y\" as E7  <<(U,orange)attribute>> [[psysml:638ee95e-a488-4c6b-8aa7-581f6cf4c2fe ]] {\r\n",
       "}\r\n",
       "comp usage \"z\" as E8  <<(U,orange)attribute>> [[psysml:267f67df-ceab-4f9b-9288-379f8b6d76cc ]] {\r\n",
       "}\r\n",
       "E3 ..>> E4 [[psysml:d6fef634-817c-4ef1-96de-f37bb594aaea ]] : <<depend>>\r\n",
       "E4 ..>> E5 [[psysml:d4b689e0-de38-42ab-a0b3-2a8bf82e0669 ]] : <<depend>>\r\n",
       "E8 ..>> E6 [[psysml:c74e1bf4-ee72-40a7-b163-07732e38ed67 ]] : <<depend>>\r\n",
       "E8 ..>> E7 [[psysml:c74e1bf4-ee72-40a7-b163-07732e38ed67 ]] : <<depend>>\r\n",
       "}\r\n",
       "@enduml\r\n",
       "\n",
       "PlantUML version 1.2020.13(Sat Jun 13 12:26:38 UTC 2020)\n",
       "(EPL source distribution)\n",
       "Java Runtime: OpenJDK Runtime Environment\n",
       "JVM: OpenJDK 64-Bit Server VM\n",
       "Default Encoding: UTF-8\n",
       "Language: en\n",
       "Country: null\n",
       "--></g></svg>"
      ]
     },
     "execution_count": 30,
     "metadata": {},
     "output_type": "execute_result"
    }
   ],
   "source": [
    "%viz --style=\"PLANTUML\" --view=\"Default\" \"DependencyTest\""
   ]
  },
  {
   "cell_type": "code",
   "execution_count": 31,
   "id": "ca194eb3",
   "metadata": {
    "execution": {
     "iopub.execute_input": "2021-05-27T06:11:48.092932Z",
     "iopub.status.busy": "2021-05-27T06:11:48.092080Z",
     "iopub.status.idle": "2021-05-27T06:11:48.126138Z",
     "shell.execute_reply": "2021-05-27T06:11:48.125793Z"
    }
   },
   "outputs": [
    {
     "data": {
      "image/svg+xml": [
       "<?xml version=\"1.0\" encoding=\"UTF-8\" standalone=\"no\"?><svg xmlns=\"http://www.w3.org/2000/svg\" xmlns:xlink=\"http://www.w3.org/1999/xlink\" contentScriptType=\"application/ecmascript\" contentStyleType=\"text/css\" height=\"449px\" preserveAspectRatio=\"none\" style=\"width:510px;height:449px;\" version=\"1.1\" viewBox=\"0 0 510 449\" width=\"510px\" zoomAndPan=\"magnify\"><defs><filter height=\"300%\" id=\"ffo6ijvvvk117\" width=\"300%\" x=\"-1\" y=\"-1\"><feGaussianBlur result=\"blurOut\" stdDeviation=\"2.0\"/><feColorMatrix in=\"blurOut\" result=\"blurOut2\" type=\"matrix\" values=\"0 0 0 0 0 0 0 0 0 0 0 0 0 0 0 0 0 0 .4 0\"/><feOffset dx=\"4.0\" dy=\"4.0\" in=\"blurOut2\" result=\"blurOut3\"/><feBlend in=\"SourceGraphic\" in2=\"blurOut3\" mode=\"normal\"/></filter></defs><g><!--MD5=[fbc87193dbaf4d95561dea2c320d4a47]\n",
       "cluster E1--><a href=\"psysml:f9a8e327-3c68-43cc-8fc4-f0fda4441472\" target=\"_top\" title=\"psysml:f9a8e327-3c68-43cc-8fc4-f0fda4441472\" xlink:actuate=\"onRequest\" xlink:href=\"psysml:f9a8e327-3c68-43cc-8fc4-f0fda4441472\" xlink:show=\"new\" xlink:title=\"psysml:f9a8e327-3c68-43cc-8fc4-f0fda4441472\" xlink:type=\"simple\"><polygon fill=\"#FFFFFF\" filter=\"url(#ffo6ijvvvk117)\" points=\"16,6,156,6,163,28.2969,488,28.2969,488,437,16,437,16,6\" style=\"stroke: #000000; stroke-width: 1.5;\"/><line style=\"stroke: #000000; stroke-width: 1.5;\" x1=\"16\" x2=\"163\" y1=\"28.2969\" y2=\"28.2969\"/><text fill=\"#000000\" font-family=\"sans-serif\" font-size=\"14\" font-weight=\"bold\" lengthAdjust=\"spacingAndGlyphs\" textLength=\"134\" x=\"20\" y=\"20.9951\">DependencyTest</text></a><!--MD5=[e4f7fae6ed58524ba242bb0b0d3be6b7]\n",
       "cluster E2--><a href=\"psysml:5e0f80f7-1058-4b47-9f4f-e59769b1dff5\" target=\"_top\" title=\"psysml:5e0f80f7-1058-4b47-9f4f-e59769b1dff5\" xlink:actuate=\"onRequest\" xlink:href=\"psysml:5e0f80f7-1058-4b47-9f4f-e59769b1dff5\" xlink:show=\"new\" xlink:title=\"psysml:5e0f80f7-1058-4b47-9f4f-e59769b1dff5\" xlink:type=\"simple\"><polygon fill=\"#FFFFFF\" filter=\"url(#ffo6ijvvvk117)\" points=\"276,49,340,49,347,71.2969,464,71.2969,464,413,276,413,276,49\" style=\"stroke: #000000; stroke-width: 1.5;\"/><line style=\"stroke: #000000; stroke-width: 1.5;\" x1=\"276\" x2=\"347\" y1=\"71.2969\" y2=\"71.2969\"/><text fill=\"#000000\" font-family=\"sans-serif\" font-size=\"14\" font-weight=\"bold\" lengthAdjust=\"spacingAndGlyphs\" textLength=\"58\" x=\"280\" y=\"63.9951\">System</text></a><!--MD5=[60a26617385b1d2d0262a64233df1f8d]\n",
       "class E6--><a href=\"psysml:52169dc2-f588-4d36-bb4d-934125a8defa\" target=\"_top\" title=\"psysml:52169dc2-f588-4d36-bb4d-934125a8defa\" xlink:actuate=\"onRequest\" xlink:href=\"psysml:52169dc2-f588-4d36-bb4d-934125a8defa\" xlink:show=\"new\" xlink:title=\"psysml:52169dc2-f588-4d36-bb4d-934125a8defa\" xlink:type=\"simple\"><rect fill=\"#FEFECE\" filter=\"url(#ffo6ijvvvk117)\" height=\"45.9375\" id=\"E6\" rx=\"10\" ry=\"10\" style=\"stroke: #A80036; stroke-width: 1.5;\" width=\"97\" x=\"31.5\" y=\"217.5\"/><ellipse cx=\"46.5\" cy=\"236.4688\" fill=\"#FFA500\" rx=\"11\" ry=\"11\" style=\"stroke: #A80036; stroke-width: 1.0;\"/><path d=\"M42.375,238.3906 L42.375,230.5781 L44.8281,230.5781 L44.8281,239.0156 Q44.8281,239.9375 45.2969,240.4688 Q45.7813,241 46.6094,241 Q47.4531,241 47.9219,240.4688 Q48.3906,239.9375 48.3906,239.0156 L48.3906,230.5781 L50.8438,230.5781 L50.8438,238.3906 Q50.8438,240.9219 49.8438,242.0625 Q48.8438,243.2031 46.6094,243.2031 Q44.3906,243.2031 43.375,242.0625 Q42.375,240.9219 42.375,238.3906 Z \"/><text fill=\"#000000\" font-family=\"sans-serif\" font-size=\"12\" font-style=\"italic\" lengthAdjust=\"spacingAndGlyphs\" textLength=\"69\" x=\"58.5\" y=\"233.6387\">«attribute»</text><text fill=\"#000000\" font-family=\"sans-serif\" font-size=\"12\" lengthAdjust=\"spacingAndGlyphs\" textLength=\"6\" x=\"90\" y=\"247.6074\">x</text><line style=\"stroke: #A80036; stroke-width: 1.5;\" x1=\"32.5\" x2=\"127.5\" y1=\"255.4375\" y2=\"255.4375\"/></a><!--MD5=[2156ba9850f5573cc1fc38a6a4b2f02b]\n",
       "class E7--><a href=\"psysml:638ee95e-a488-4c6b-8aa7-581f6cf4c2fe\" target=\"_top\" title=\"psysml:638ee95e-a488-4c6b-8aa7-581f6cf4c2fe\" xlink:actuate=\"onRequest\" xlink:href=\"psysml:638ee95e-a488-4c6b-8aa7-581f6cf4c2fe\" xlink:show=\"new\" xlink:title=\"psysml:638ee95e-a488-4c6b-8aa7-581f6cf4c2fe\" xlink:type=\"simple\"><rect fill=\"#FEFECE\" filter=\"url(#ffo6ijvvvk117)\" height=\"45.9375\" id=\"E7\" rx=\"10\" ry=\"10\" style=\"stroke: #A80036; stroke-width: 1.5;\" width=\"97\" x=\"163.5\" y=\"217.5\"/><ellipse cx=\"178.5\" cy=\"236.4688\" fill=\"#FFA500\" rx=\"11\" ry=\"11\" style=\"stroke: #A80036; stroke-width: 1.0;\"/><path d=\"M174.375,238.3906 L174.375,230.5781 L176.8281,230.5781 L176.8281,239.0156 Q176.8281,239.9375 177.2969,240.4688 Q177.7813,241 178.6094,241 Q179.4531,241 179.9219,240.4688 Q180.3906,239.9375 180.3906,239.0156 L180.3906,230.5781 L182.8438,230.5781 L182.8438,238.3906 Q182.8438,240.9219 181.8438,242.0625 Q180.8438,243.2031 178.6094,243.2031 Q176.3906,243.2031 175.375,242.0625 Q174.375,240.9219 174.375,238.3906 Z \"/><text fill=\"#000000\" font-family=\"sans-serif\" font-size=\"12\" font-style=\"italic\" lengthAdjust=\"spacingAndGlyphs\" textLength=\"69\" x=\"190.5\" y=\"233.6387\">«attribute»</text><text fill=\"#000000\" font-family=\"sans-serif\" font-size=\"12\" lengthAdjust=\"spacingAndGlyphs\" textLength=\"6\" x=\"222\" y=\"247.6074\">y</text><line style=\"stroke: #A80036; stroke-width: 1.5;\" x1=\"164.5\" x2=\"259.5\" y1=\"255.4375\" y2=\"255.4375\"/></a><!--MD5=[b9389687b975829384b498ac4b7476b2]\n",
       "class E8--><a href=\"psysml:267f67df-ceab-4f9b-9288-379f8b6d76cc\" target=\"_top\" title=\"psysml:267f67df-ceab-4f9b-9288-379f8b6d76cc\" xlink:actuate=\"onRequest\" xlink:href=\"psysml:267f67df-ceab-4f9b-9288-379f8b6d76cc\" xlink:show=\"new\" xlink:title=\"psysml:267f67df-ceab-4f9b-9288-379f8b6d76cc\" xlink:type=\"simple\"><rect fill=\"#FEFECE\" filter=\"url(#ffo6ijvvvk117)\" height=\"45.9375\" id=\"E8\" rx=\"10\" ry=\"10\" style=\"stroke: #A80036; stroke-width: 1.5;\" width=\"97\" x=\"84.5\" y=\"87.5\"/><ellipse cx=\"99.5\" cy=\"106.4688\" fill=\"#FFA500\" rx=\"11\" ry=\"11\" style=\"stroke: #A80036; stroke-width: 1.0;\"/><path d=\"M95.375,108.3906 L95.375,100.5781 L97.8281,100.5781 L97.8281,109.0156 Q97.8281,109.9375 98.2969,110.4688 Q98.7813,111 99.6094,111 Q100.4531,111 100.9219,110.4688 Q101.3906,109.9375 101.3906,109.0156 L101.3906,100.5781 L103.8438,100.5781 L103.8438,108.3906 Q103.8438,110.9219 102.8438,112.0625 Q101.8438,113.2031 99.6094,113.2031 Q97.3906,113.2031 96.375,112.0625 Q95.375,110.9219 95.375,108.3906 Z \"/><text fill=\"#000000\" font-family=\"sans-serif\" font-size=\"12\" font-style=\"italic\" lengthAdjust=\"spacingAndGlyphs\" textLength=\"69\" x=\"111.5\" y=\"103.6387\">«attribute»</text><text fill=\"#000000\" font-family=\"sans-serif\" font-size=\"12\" lengthAdjust=\"spacingAndGlyphs\" textLength=\"5\" x=\"143.5\" y=\"117.6074\">z</text><line style=\"stroke: #A80036; stroke-width: 1.5;\" x1=\"85.5\" x2=\"180.5\" y1=\"125.4375\" y2=\"125.4375\"/></a><a href=\"psysml:d7cd1111-165d-4c09-9c1d-1c6e69d6b628\" target=\"_top\" title=\"psysml:d7cd1111-165d-4c09-9c1d-1c6e69d6b628\" xlink:actuate=\"onRequest\" xlink:href=\"psysml:d7cd1111-165d-4c09-9c1d-1c6e69d6b628\" xlink:show=\"new\" xlink:title=\"psysml:d7cd1111-165d-4c09-9c1d-1c6e69d6b628\" xlink:type=\"simple\"><polygon fill=\"#FFFFFF\" filter=\"url(#ffo6ijvvvk117)\" points=\"292,84,434,84,441,106.2969,448,106.2969,448,136.5938,292,136.5938,292,84\" style=\"stroke: #000000; stroke-width: 1.5;\"/><line style=\"stroke: #000000; stroke-width: 1.5;\" x1=\"292\" x2=\"441\" y1=\"106.2969\" y2=\"106.2969\"/><text fill=\"#000000\" font-family=\"sans-serif\" font-size=\"14\" font-weight=\"bold\" lengthAdjust=\"spacingAndGlyphs\" textLength=\"136\" x=\"296\" y=\"98.9951\">Application Layer</text></a><a href=\"psysml:4fd532ef-c056-48ed-b57e-c34d41c7d9b0\" target=\"_top\" title=\"psysml:4fd532ef-c056-48ed-b57e-c34d41c7d9b0\" xlink:actuate=\"onRequest\" xlink:href=\"psysml:4fd532ef-c056-48ed-b57e-c34d41c7d9b0\" xlink:show=\"new\" xlink:title=\"psysml:4fd532ef-c056-48ed-b57e-c34d41c7d9b0\" xlink:type=\"simple\"><polygon fill=\"#FFFFFF\" filter=\"url(#ffo6ijvvvk117)\" points=\"306,214,420,214,427,236.2969,434,236.2969,434,266.5938,306,266.5938,306,214\" style=\"stroke: #000000; stroke-width: 1.5;\"/><line style=\"stroke: #000000; stroke-width: 1.5;\" x1=\"306\" x2=\"427\" y1=\"236.2969\" y2=\"236.2969\"/><text fill=\"#000000\" font-family=\"sans-serif\" font-size=\"14\" font-weight=\"bold\" lengthAdjust=\"spacingAndGlyphs\" textLength=\"108\" x=\"310\" y=\"228.9951\">Service Layer</text></a><a href=\"psysml:f10bbfff-f917-435f-bbe7-eedf9b14a34c\" target=\"_top\" title=\"psysml:f10bbfff-f917-435f-bbe7-eedf9b14a34c\" xlink:actuate=\"onRequest\" xlink:href=\"psysml:f10bbfff-f917-435f-bbe7-eedf9b14a34c\" xlink:show=\"new\" xlink:title=\"psysml:f10bbfff-f917-435f-bbe7-eedf9b14a34c\" xlink:type=\"simple\"><polygon fill=\"#FFFFFF\" filter=\"url(#ffo6ijvvvk117)\" points=\"318,344,408,344,415,366.2969,422,366.2969,422,396.5938,318,396.5938,318,344\" style=\"stroke: #000000; stroke-width: 1.5;\"/><line style=\"stroke: #000000; stroke-width: 1.5;\" x1=\"318\" x2=\"415\" y1=\"366.2969\" y2=\"366.2969\"/><text fill=\"#000000\" font-family=\"sans-serif\" font-size=\"14\" font-weight=\"bold\" lengthAdjust=\"spacingAndGlyphs\" textLength=\"84\" x=\"322\" y=\"358.9951\">Data Layer</text></a><!--MD5=[af87c684e3b0d8be13c1a698a818ef1e]\n",
       "link E3 to E4--><a href=\"psysml:d6fef634-817c-4ef1-96de-f37bb594aaea\" target=\"_top\" title=\"psysml:d6fef634-817c-4ef1-96de-f37bb594aaea\" xlink:actuate=\"onRequest\" xlink:href=\"psysml:d6fef634-817c-4ef1-96de-f37bb594aaea\" xlink:show=\"new\" xlink:title=\"psysml:d6fef634-817c-4ef1-96de-f37bb594aaea\" xlink:type=\"simple\"><path d=\"M370,137.1 C370,156.8 370,184.22 370,205.73 \" fill=\"none\" id=\"E3-&gt;E4\" style=\"stroke: #A80036; stroke-width: 1.0; stroke-dasharray: 7.0,7.0;\"/><polygon fill=\"#A80036\" points=\"370,213.95,373,205.95,367,205.95,370,213.95\" style=\"stroke: #A80036; stroke-width: 1.0;\"/><text fill=\"#000000\" font-family=\"sans-serif\" font-size=\"13\" lengthAdjust=\"spacingAndGlyphs\" textLength=\"64\" x=\"371\" y=\"180.0669\">«depend»</text></a><!--MD5=[1b7591eae5389033d8d09a9d6721a717]\n",
       "link E4 to E5--><a href=\"psysml:d4b689e0-de38-42ab-a0b3-2a8bf82e0669\" target=\"_top\" title=\"psysml:d4b689e0-de38-42ab-a0b3-2a8bf82e0669\" xlink:actuate=\"onRequest\" xlink:href=\"psysml:d4b689e0-de38-42ab-a0b3-2a8bf82e0669\" xlink:show=\"new\" xlink:title=\"psysml:d4b689e0-de38-42ab-a0b3-2a8bf82e0669\" xlink:type=\"simple\"><path d=\"M370,267.1 C370,286.8 370,314.22 370,335.73 \" fill=\"none\" id=\"E4-&gt;E5\" style=\"stroke: #A80036; stroke-width: 1.0; stroke-dasharray: 7.0,7.0;\"/><polygon fill=\"#A80036\" points=\"370,343.95,373,335.95,367,335.95,370,343.95\" style=\"stroke: #A80036; stroke-width: 1.0;\"/><text fill=\"#000000\" font-family=\"sans-serif\" font-size=\"13\" lengthAdjust=\"spacingAndGlyphs\" textLength=\"64\" x=\"371\" y=\"310.0669\">«depend»</text></a><!--MD5=[c5e8897d989ce984f93528998a7150fe]\n",
       "link E8 to E6--><a href=\"psysml:c74e1bf4-ee72-40a7-b163-07732e38ed67\" target=\"_top\" title=\"psysml:c74e1bf4-ee72-40a7-b163-07732e38ed67\" xlink:actuate=\"onRequest\" xlink:href=\"psysml:c74e1bf4-ee72-40a7-b163-07732e38ed67\" xlink:show=\"new\" xlink:title=\"psysml:c74e1bf4-ee72-40a7-b163-07732e38ed67\" xlink:type=\"simple\"><path d=\"M106.44,133.76 C97.3,143.01 88.09,154.51 83,167 C77.6,180.23 76.4,195.98 76.73,209.41 \" fill=\"none\" id=\"E8-&gt;E6\" style=\"stroke: #A80036; stroke-width: 1.0; stroke-dasharray: 7.0,7.0;\"/><polygon fill=\"#A80036\" points=\"77.12,217.43,79.7306,209.2946,73.7375,209.584,77.12,217.43\" style=\"stroke: #A80036; stroke-width: 1.0;\"/><text fill=\"#000000\" font-family=\"sans-serif\" font-size=\"13\" lengthAdjust=\"spacingAndGlyphs\" textLength=\"64\" x=\"84\" y=\"180.0669\">«depend»</text></a><!--MD5=[bfa3c8b0d15052fdf50ae9310b491027]\n",
       "link E8 to E7--><a href=\"psysml:c74e1bf4-ee72-40a7-b163-07732e38ed67\" target=\"_top\" title=\"psysml:c74e1bf4-ee72-40a7-b163-07732e38ed67\" xlink:actuate=\"onRequest\" xlink:href=\"psysml:c74e1bf4-ee72-40a7-b163-07732e38ed67\" xlink:show=\"new\" xlink:title=\"psysml:c74e1bf4-ee72-40a7-b163-07732e38ed67\" xlink:type=\"simple\"><path d=\"M146.58,133.5 C159.69,154.75 179.63,187.05 194.05,210.41 \" fill=\"none\" id=\"E8-&gt;E7\" style=\"stroke: #A80036; stroke-width: 1.0; stroke-dasharray: 7.0,7.0;\"/><polygon fill=\"#A80036\" points=\"198.33,217.35,196.6785,208.9671,191.5737,212.1201,198.33,217.35\" style=\"stroke: #A80036; stroke-width: 1.0;\"/><text fill=\"#000000\" font-family=\"sans-serif\" font-size=\"13\" lengthAdjust=\"spacingAndGlyphs\" textLength=\"64\" x=\"178\" y=\"180.0669\">«depend»</text></a><!--MD5=[1062c3f3b7c23ce4e4aab97b477b2c44]\n",
       "@startuml\r\n",
       " \r\n",
       "package \"DependencyTest\" as E1  [[psysml:f9a8e327-3c68-43cc-8fc4-f0fda4441472 ]]  {\r\n",
       "package \"System\" as E2  [[psysml:5e0f80f7-1058-4b47-9f4f-e59769b1dff5 ]]  {\r\n",
       "package \"Application Layer\" as E3  [[psysml:d7cd1111-165d-4c09-9c1d-1c6e69d6b628 ]]  {\r\n",
       "}\r\n",
       "package \"Service Layer\" as E4  [[psysml:4fd532ef-c056-48ed-b57e-c34d41c7d9b0 ]]  {\r\n",
       "}\r\n",
       "package \"Data Layer\" as E5  [[psysml:f10bbfff-f917-435f-bbe7-eedf9b14a34c ]]  {\r\n",
       "}\r\n",
       "}\r\n",
       "comp usage \"x\" as E6  <<(U,orange)attribute>> [[psysml:52169dc2-f588-4d36-bb4d-934125a8defa ]] {\r\n",
       "}\r\n",
       "comp usage \"y\" as E7  <<(U,orange)attribute>> [[psysml:638ee95e-a488-4c6b-8aa7-581f6cf4c2fe ]] {\r\n",
       "}\r\n",
       "comp usage \"z\" as E8  <<(U,orange)attribute>> [[psysml:267f67df-ceab-4f9b-9288-379f8b6d76cc ]] {\r\n",
       "}\r\n",
       "E3 ..>> E4 [[psysml:d6fef634-817c-4ef1-96de-f37bb594aaea ]] : <<depend>>\r\n",
       "E4 ..>> E5 [[psysml:d4b689e0-de38-42ab-a0b3-2a8bf82e0669 ]] : <<depend>>\r\n",
       "E8 ..>> E6 [[psysml:c74e1bf4-ee72-40a7-b163-07732e38ed67 ]] : <<depend>>\r\n",
       "E8 ..>> E7 [[psysml:c74e1bf4-ee72-40a7-b163-07732e38ed67 ]] : <<depend>>\r\n",
       "}\r\n",
       "@enduml\r\n",
       "\n",
       "PlantUML version 1.2020.13(Sat Jun 13 12:26:38 UTC 2020)\n",
       "(EPL source distribution)\n",
       "Java Runtime: OpenJDK Runtime Environment\n",
       "JVM: OpenJDK 64-Bit Server VM\n",
       "Default Encoding: UTF-8\n",
       "Language: en\n",
       "Country: null\n",
       "--></g></svg>"
      ]
     },
     "execution_count": 31,
     "metadata": {},
     "output_type": "execute_result"
    }
   ],
   "source": [
    "%viz --style=\"PLANTUML\" --view=\"Tree\" \"DependencyTest\""
   ]
  },
  {
   "cell_type": "code",
   "execution_count": 32,
   "id": "1a47af9d",
   "metadata": {
    "execution": {
     "iopub.execute_input": "2021-05-27T06:11:48.179446Z",
     "iopub.status.busy": "2021-05-27T06:11:48.178766Z",
     "iopub.status.idle": "2021-05-27T06:11:48.268217Z",
     "shell.execute_reply": "2021-05-27T06:11:48.267956Z"
    }
   },
   "outputs": [
    {
     "data": {
      "image/svg+xml": [
       "<?xml version=\"1.0\" encoding=\"UTF-8\" standalone=\"no\"?><svg xmlns=\"http://www.w3.org/2000/svg\" xmlns:xlink=\"http://www.w3.org/1999/xlink\" contentScriptType=\"application/ecmascript\" contentStyleType=\"text/css\" height=\"303px\" preserveAspectRatio=\"none\" style=\"width:603px;height:303px;background:#000000;\" version=\"1.1\" viewBox=\"0 0 603 303\" width=\"603px\" zoomAndPan=\"magnify\"><defs/><g><rect fill=\"#0E0821\" height=\"1\" style=\"stroke: #0E0821; stroke-width: 1.0;\" width=\"1\" x=\"0\" y=\"0\"/><rect fill=\"#FFFFFF\" height=\"205.5625\" style=\"stroke: #FFFFFF; stroke-width: 1.0;\" width=\"602\" x=\"0\" y=\"0\"/><text fill=\"#000000\" font-family=\"sans-serif\" font-size=\"12\" font-weight=\"bold\" lengthAdjust=\"spacingAndGlyphs\" textLength=\"159\" x=\"5\" y=\"16.1387\">Welcome to PlantUML!</text><text fill=\"#000000\" font-family=\"sans-serif\" font-size=\"12\" lengthAdjust=\"spacingAndGlyphs\" textLength=\"0\" x=\"9\" y=\"30.1074\"/><text fill=\"#000000\" font-family=\"sans-serif\" font-size=\"12\" lengthAdjust=\"spacingAndGlyphs\" textLength=\"293\" x=\"5\" y=\"44.0762\">If you use this software, you accept its license.</text><text fill=\"#000000\" font-family=\"sans-serif\" font-size=\"12\" lengthAdjust=\"spacingAndGlyphs\" textLength=\"107\" x=\"5\" y=\"58.0449\">(details by typing</text><text fill=\"#000000\" font-family=\"monospace\" font-size=\"12\" lengthAdjust=\"spacingAndGlyphs\" textLength=\"49\" x=\"116\" y=\"58.0449\">license</text><text fill=\"#000000\" font-family=\"sans-serif\" font-size=\"12\" lengthAdjust=\"spacingAndGlyphs\" textLength=\"56\" x=\"169\" y=\"58.0449\">keyword)</text><text fill=\"#000000\" font-family=\"sans-serif\" font-size=\"12\" lengthAdjust=\"spacingAndGlyphs\" textLength=\"0\" x=\"9\" y=\"72.0137\"/><text fill=\"#000000\" font-family=\"sans-serif\" font-size=\"12\" lengthAdjust=\"spacingAndGlyphs\" textLength=\"283\" x=\"5\" y=\"85.9824\">You can start with a simple UML Diagram like:</text><text fill=\"#000000\" font-family=\"sans-serif\" font-size=\"12\" lengthAdjust=\"spacingAndGlyphs\" textLength=\"0\" x=\"9\" y=\"99.9512\"/><text fill=\"#000000\" font-family=\"monospace\" font-size=\"12\" lengthAdjust=\"spacingAndGlyphs\" textLength=\"119\" x=\"5\" y=\"113.9199\">Bob-&gt;Alice: Hello</text><text fill=\"#000000\" font-family=\"sans-serif\" font-size=\"12\" lengthAdjust=\"spacingAndGlyphs\" textLength=\"0\" x=\"9\" y=\"127.8887\"/><text fill=\"#000000\" font-family=\"sans-serif\" font-size=\"12\" lengthAdjust=\"spacingAndGlyphs\" textLength=\"14\" x=\"5\" y=\"141.8574\">Or</text><text fill=\"#000000\" font-family=\"sans-serif\" font-size=\"12\" lengthAdjust=\"spacingAndGlyphs\" textLength=\"0\" x=\"9\" y=\"155.8262\"/><text fill=\"#000000\" font-family=\"monospace\" font-size=\"12\" lengthAdjust=\"spacingAndGlyphs\" textLength=\"91\" x=\"5\" y=\"169.7949\">class Example</text><text fill=\"#000000\" font-family=\"sans-serif\" font-size=\"12\" lengthAdjust=\"spacingAndGlyphs\" textLength=\"0\" x=\"9\" y=\"183.7637\"/><text fill=\"#000000\" font-family=\"sans-serif\" font-size=\"12\" lengthAdjust=\"spacingAndGlyphs\" textLength=\"349\" x=\"5\" y=\"197.7324\">You will find more information about PlantUML syntax on</text><text fill=\"#000000\" font-family=\"sans-serif\" font-size=\"12\" lengthAdjust=\"spacingAndGlyphs\" text-decoration=\"underline\" textLength=\"129\" x=\"358\" y=\"197.7324\">https://plantuml.com</text><image height=\"71\" width=\"80\" x=\"516\" xlink:href=\"data:image/png;base64,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\" y=\"6\"/><rect fill=\"#000000\" height=\"96.4844\" style=\"stroke: #000000; stroke-width: 1.0;\" width=\"602\" x=\"0\" y=\"205.5625\"/><rect fill=\"#33FF02\" height=\"21.2969\" style=\"stroke: #33FF02; stroke-width: 1.0;\" width=\"170\" x=\"5\" y=\"210.5625\"/><text fill=\"#000000\" font-family=\"sans-serif\" font-size=\"14\" font-weight=\"bold\" lengthAdjust=\"spacingAndGlyphs\" textLength=\"168\" x=\"6\" y=\"225.5625\">[From string (line 2) ]</text><text fill=\"#33FF02\" font-family=\"sans-serif\" font-size=\"14\" font-weight=\"bold\" lengthAdjust=\"spacingAndGlyphs\" textLength=\"0\" x=\"10\" y=\"245.8594\"/><text fill=\"#33FF02\" font-family=\"sans-serif\" font-size=\"14\" font-weight=\"bold\" lengthAdjust=\"spacingAndGlyphs\" textLength=\"79\" x=\"5\" y=\"262.1563\">@startuml</text><text fill=\"#33FF02\" font-family=\"sans-serif\" font-size=\"14\" font-weight=\"bold\" lengthAdjust=\"spacingAndGlyphs\" textLength=\"0\" x=\"10\" y=\"278.4531\"/><text fill=\"#FF0000\" font-family=\"sans-serif\" font-size=\"14\" font-weight=\"bold\" lengthAdjust=\"spacingAndGlyphs\" textLength=\"142\" x=\"10\" y=\"294.75\">Empty description</text><!--MD5=[f59edd8218d337f74d0c332fc6737304]\n",
       "@startuml\r\n",
       " \r\n",
       "@enduml\r\n",
       "\n",
       "PlantUML version 1.2020.13(Sat Jun 13 12:26:38 UTC 2020)\n",
       "(EPL source distribution)\n",
       "Java Runtime: OpenJDK Runtime Environment\n",
       "JVM: OpenJDK 64-Bit Server VM\n",
       "Default Encoding: UTF-8\n",
       "Language: en\n",
       "Country: null\n",
       "--></g></svg>"
      ]
     },
     "execution_count": 32,
     "metadata": {},
     "output_type": "execute_result"
    }
   ],
   "source": [
    "%viz --style=\"PLANTUML\" --view=\"State\" \"DependencyTest\""
   ]
  },
  {
   "cell_type": "code",
   "execution_count": 33,
   "id": "e8b74ca7",
   "metadata": {
    "execution": {
     "iopub.execute_input": "2021-05-27T06:11:48.319316Z",
     "iopub.status.busy": "2021-05-27T06:11:48.318905Z",
     "iopub.status.idle": "2021-05-27T06:11:48.349135Z",
     "shell.execute_reply": "2021-05-27T06:11:48.347787Z"
    }
   },
   "outputs": [
    {
     "data": {
      "image/svg+xml": [
       "<?xml version=\"1.0\" encoding=\"UTF-8\" standalone=\"no\"?><svg xmlns=\"http://www.w3.org/2000/svg\" xmlns:xlink=\"http://www.w3.org/1999/xlink\" contentScriptType=\"application/ecmascript\" contentStyleType=\"text/css\" height=\"361px\" preserveAspectRatio=\"none\" style=\"width:510px;height:361px;\" version=\"1.1\" viewBox=\"0 0 510 361\" width=\"510px\" zoomAndPan=\"magnify\"><defs><filter height=\"300%\" id=\"f14vlm1v38c7ow\" width=\"300%\" x=\"-1\" y=\"-1\"><feGaussianBlur result=\"blurOut\" stdDeviation=\"2.0\"/><feColorMatrix in=\"blurOut\" result=\"blurOut2\" type=\"matrix\" values=\"0 0 0 0 0 0 0 0 0 0 0 0 0 0 0 0 0 0 .4 0\"/><feOffset dx=\"4.0\" dy=\"4.0\" in=\"blurOut2\" result=\"blurOut3\"/><feBlend in=\"SourceGraphic\" in2=\"blurOut3\" mode=\"normal\"/></filter></defs><g><!--MD5=[fbc87193dbaf4d95561dea2c320d4a47]\n",
       "cluster E1--><a href=\"psysml:f9a8e327-3c68-43cc-8fc4-f0fda4441472\" target=\"_top\" title=\"psysml:f9a8e327-3c68-43cc-8fc4-f0fda4441472\" xlink:actuate=\"onRequest\" xlink:href=\"psysml:f9a8e327-3c68-43cc-8fc4-f0fda4441472\" xlink:show=\"new\" xlink:title=\"psysml:f9a8e327-3c68-43cc-8fc4-f0fda4441472\" xlink:type=\"simple\"><polygon fill=\"#FFFFFF\" filter=\"url(#f14vlm1v38c7ow)\" points=\"16,6,156,6,163,28.2969,488,28.2969,488,349,16,349,16,6\" style=\"stroke: #000000; stroke-width: 1.5;\"/><line style=\"stroke: #000000; stroke-width: 1.5;\" x1=\"16\" x2=\"163\" y1=\"28.2969\" y2=\"28.2969\"/><text fill=\"#000000\" font-family=\"sans-serif\" font-size=\"14\" font-weight=\"bold\" lengthAdjust=\"spacingAndGlyphs\" textLength=\"134\" x=\"20\" y=\"20.9951\">DependencyTest</text></a><!--MD5=[e4f7fae6ed58524ba242bb0b0d3be6b7]\n",
       "cluster E2--><a href=\"psysml:5e0f80f7-1058-4b47-9f4f-e59769b1dff5\" target=\"_top\" title=\"psysml:5e0f80f7-1058-4b47-9f4f-e59769b1dff5\" xlink:actuate=\"onRequest\" xlink:href=\"psysml:5e0f80f7-1058-4b47-9f4f-e59769b1dff5\" xlink:show=\"new\" xlink:title=\"psysml:5e0f80f7-1058-4b47-9f4f-e59769b1dff5\" xlink:type=\"simple\"><polygon fill=\"#FFFFFF\" filter=\"url(#f14vlm1v38c7ow)\" points=\"276,49,340,49,347,71.2969,464,71.2969,464,325,276,325,276,49\" style=\"stroke: #000000; stroke-width: 1.5;\"/><line style=\"stroke: #000000; stroke-width: 1.5;\" x1=\"276\" x2=\"347\" y1=\"71.2969\" y2=\"71.2969\"/><text fill=\"#000000\" font-family=\"sans-serif\" font-size=\"14\" font-weight=\"bold\" lengthAdjust=\"spacingAndGlyphs\" textLength=\"58\" x=\"280\" y=\"63.9951\">System</text></a><!--MD5=[60a26617385b1d2d0262a64233df1f8d]\n",
       "class E6--><a href=\"psysml:52169dc2-f588-4d36-bb4d-934125a8defa\" target=\"_top\" title=\"psysml:52169dc2-f588-4d36-bb4d-934125a8defa\" xlink:actuate=\"onRequest\" xlink:href=\"psysml:52169dc2-f588-4d36-bb4d-934125a8defa\" xlink:show=\"new\" xlink:title=\"psysml:52169dc2-f588-4d36-bb4d-934125a8defa\" xlink:type=\"simple\"><rect fill=\"#FEFECE\" filter=\"url(#f14vlm1v38c7ow)\" height=\"45.9375\" id=\"E6\" rx=\"10\" ry=\"10\" style=\"stroke: #A80036; stroke-width: 1.5;\" width=\"97\" x=\"31.5\" y=\"173.5\"/><ellipse cx=\"46.5\" cy=\"192.4688\" fill=\"#FFA500\" rx=\"11\" ry=\"11\" style=\"stroke: #A80036; stroke-width: 1.0;\"/><path d=\"M42.375,194.3906 L42.375,186.5781 L44.8281,186.5781 L44.8281,195.0156 Q44.8281,195.9375 45.2969,196.4688 Q45.7813,197 46.6094,197 Q47.4531,197 47.9219,196.4688 Q48.3906,195.9375 48.3906,195.0156 L48.3906,186.5781 L50.8438,186.5781 L50.8438,194.3906 Q50.8438,196.9219 49.8438,198.0625 Q48.8438,199.2031 46.6094,199.2031 Q44.3906,199.2031 43.375,198.0625 Q42.375,196.9219 42.375,194.3906 Z \"/><text fill=\"#000000\" font-family=\"sans-serif\" font-size=\"12\" font-style=\"italic\" lengthAdjust=\"spacingAndGlyphs\" textLength=\"69\" x=\"58.5\" y=\"189.6387\">«attribute»</text><text fill=\"#000000\" font-family=\"sans-serif\" font-size=\"12\" lengthAdjust=\"spacingAndGlyphs\" textLength=\"6\" x=\"90\" y=\"203.6074\">x</text><line style=\"stroke: #A80036; stroke-width: 1.5;\" x1=\"32.5\" x2=\"127.5\" y1=\"211.4375\" y2=\"211.4375\"/></a><!--MD5=[2156ba9850f5573cc1fc38a6a4b2f02b]\n",
       "class E7--><a href=\"psysml:638ee95e-a488-4c6b-8aa7-581f6cf4c2fe\" target=\"_top\" title=\"psysml:638ee95e-a488-4c6b-8aa7-581f6cf4c2fe\" xlink:actuate=\"onRequest\" xlink:href=\"psysml:638ee95e-a488-4c6b-8aa7-581f6cf4c2fe\" xlink:show=\"new\" xlink:title=\"psysml:638ee95e-a488-4c6b-8aa7-581f6cf4c2fe\" xlink:type=\"simple\"><rect fill=\"#FEFECE\" filter=\"url(#f14vlm1v38c7ow)\" height=\"45.9375\" id=\"E7\" rx=\"10\" ry=\"10\" style=\"stroke: #A80036; stroke-width: 1.5;\" width=\"97\" x=\"163.5\" y=\"173.5\"/><ellipse cx=\"178.5\" cy=\"192.4688\" fill=\"#FFA500\" rx=\"11\" ry=\"11\" style=\"stroke: #A80036; stroke-width: 1.0;\"/><path d=\"M174.375,194.3906 L174.375,186.5781 L176.8281,186.5781 L176.8281,195.0156 Q176.8281,195.9375 177.2969,196.4688 Q177.7813,197 178.6094,197 Q179.4531,197 179.9219,196.4688 Q180.3906,195.9375 180.3906,195.0156 L180.3906,186.5781 L182.8438,186.5781 L182.8438,194.3906 Q182.8438,196.9219 181.8438,198.0625 Q180.8438,199.2031 178.6094,199.2031 Q176.3906,199.2031 175.375,198.0625 Q174.375,196.9219 174.375,194.3906 Z \"/><text fill=\"#000000\" font-family=\"sans-serif\" font-size=\"12\" font-style=\"italic\" lengthAdjust=\"spacingAndGlyphs\" textLength=\"69\" x=\"190.5\" y=\"189.6387\">«attribute»</text><text fill=\"#000000\" font-family=\"sans-serif\" font-size=\"12\" lengthAdjust=\"spacingAndGlyphs\" textLength=\"6\" x=\"222\" y=\"203.6074\">y</text><line style=\"stroke: #A80036; stroke-width: 1.5;\" x1=\"164.5\" x2=\"259.5\" y1=\"211.4375\" y2=\"211.4375\"/></a><!--MD5=[b9389687b975829384b498ac4b7476b2]\n",
       "class E8--><a href=\"psysml:267f67df-ceab-4f9b-9288-379f8b6d76cc\" target=\"_top\" title=\"psysml:267f67df-ceab-4f9b-9288-379f8b6d76cc\" xlink:actuate=\"onRequest\" xlink:href=\"psysml:267f67df-ceab-4f9b-9288-379f8b6d76cc\" xlink:show=\"new\" xlink:title=\"psysml:267f67df-ceab-4f9b-9288-379f8b6d76cc\" xlink:type=\"simple\"><rect fill=\"#FEFECE\" filter=\"url(#f14vlm1v38c7ow)\" height=\"45.9375\" id=\"E8\" rx=\"10\" ry=\"10\" style=\"stroke: #A80036; stroke-width: 1.5;\" width=\"97\" x=\"84.5\" y=\"87.5\"/><ellipse cx=\"99.5\" cy=\"106.4688\" fill=\"#FFA500\" rx=\"11\" ry=\"11\" style=\"stroke: #A80036; stroke-width: 1.0;\"/><path d=\"M95.375,108.3906 L95.375,100.5781 L97.8281,100.5781 L97.8281,109.0156 Q97.8281,109.9375 98.2969,110.4688 Q98.7813,111 99.6094,111 Q100.4531,111 100.9219,110.4688 Q101.3906,109.9375 101.3906,109.0156 L101.3906,100.5781 L103.8438,100.5781 L103.8438,108.3906 Q103.8438,110.9219 102.8438,112.0625 Q101.8438,113.2031 99.6094,113.2031 Q97.3906,113.2031 96.375,112.0625 Q95.375,110.9219 95.375,108.3906 Z \"/><text fill=\"#000000\" font-family=\"sans-serif\" font-size=\"12\" font-style=\"italic\" lengthAdjust=\"spacingAndGlyphs\" textLength=\"69\" x=\"111.5\" y=\"103.6387\">«attribute»</text><text fill=\"#000000\" font-family=\"sans-serif\" font-size=\"12\" lengthAdjust=\"spacingAndGlyphs\" textLength=\"5\" x=\"143.5\" y=\"117.6074\">z</text><line style=\"stroke: #A80036; stroke-width: 1.5;\" x1=\"85.5\" x2=\"180.5\" y1=\"125.4375\" y2=\"125.4375\"/></a><a href=\"psysml:d7cd1111-165d-4c09-9c1d-1c6e69d6b628\" target=\"_top\" title=\"psysml:d7cd1111-165d-4c09-9c1d-1c6e69d6b628\" xlink:actuate=\"onRequest\" xlink:href=\"psysml:d7cd1111-165d-4c09-9c1d-1c6e69d6b628\" xlink:show=\"new\" xlink:title=\"psysml:d7cd1111-165d-4c09-9c1d-1c6e69d6b628\" xlink:type=\"simple\"><polygon fill=\"#FFFFFF\" filter=\"url(#f14vlm1v38c7ow)\" points=\"292,84,434,84,441,106.2969,448,106.2969,448,136.5938,292,136.5938,292,84\" style=\"stroke: #000000; stroke-width: 1.5;\"/><line style=\"stroke: #000000; stroke-width: 1.5;\" x1=\"292\" x2=\"441\" y1=\"106.2969\" y2=\"106.2969\"/><text fill=\"#000000\" font-family=\"sans-serif\" font-size=\"14\" font-weight=\"bold\" lengthAdjust=\"spacingAndGlyphs\" textLength=\"136\" x=\"296\" y=\"98.9951\">Application Layer</text></a><a href=\"psysml:4fd532ef-c056-48ed-b57e-c34d41c7d9b0\" target=\"_top\" title=\"psysml:4fd532ef-c056-48ed-b57e-c34d41c7d9b0\" xlink:actuate=\"onRequest\" xlink:href=\"psysml:4fd532ef-c056-48ed-b57e-c34d41c7d9b0\" xlink:show=\"new\" xlink:title=\"psysml:4fd532ef-c056-48ed-b57e-c34d41c7d9b0\" xlink:type=\"simple\"><polygon fill=\"#FFFFFF\" filter=\"url(#f14vlm1v38c7ow)\" points=\"306,170,420,170,427,192.2969,434,192.2969,434,222.5938,306,222.5938,306,170\" style=\"stroke: #000000; stroke-width: 1.5;\"/><line style=\"stroke: #000000; stroke-width: 1.5;\" x1=\"306\" x2=\"427\" y1=\"192.2969\" y2=\"192.2969\"/><text fill=\"#000000\" font-family=\"sans-serif\" font-size=\"14\" font-weight=\"bold\" lengthAdjust=\"spacingAndGlyphs\" textLength=\"108\" x=\"310\" y=\"184.9951\">Service Layer</text></a><a href=\"psysml:f10bbfff-f917-435f-bbe7-eedf9b14a34c\" target=\"_top\" title=\"psysml:f10bbfff-f917-435f-bbe7-eedf9b14a34c\" xlink:actuate=\"onRequest\" xlink:href=\"psysml:f10bbfff-f917-435f-bbe7-eedf9b14a34c\" xlink:show=\"new\" xlink:title=\"psysml:f10bbfff-f917-435f-bbe7-eedf9b14a34c\" xlink:type=\"simple\"><polygon fill=\"#FFFFFF\" filter=\"url(#f14vlm1v38c7ow)\" points=\"318,256,408,256,415,278.2969,422,278.2969,422,308.5938,318,308.5938,318,256\" style=\"stroke: #000000; stroke-width: 1.5;\"/><line style=\"stroke: #000000; stroke-width: 1.5;\" x1=\"318\" x2=\"415\" y1=\"278.2969\" y2=\"278.2969\"/><text fill=\"#000000\" font-family=\"sans-serif\" font-size=\"14\" font-weight=\"bold\" lengthAdjust=\"spacingAndGlyphs\" textLength=\"84\" x=\"322\" y=\"270.9951\">Data Layer</text></a><!--MD5=[af87c684e3b0d8be13c1a698a818ef1e]\n",
       "link E3 to E4--><a href=\"psysml:d6fef634-817c-4ef1-96de-f37bb594aaea\" target=\"_top\" title=\"psysml:d6fef634-817c-4ef1-96de-f37bb594aaea\" xlink:actuate=\"onRequest\" xlink:href=\"psysml:d6fef634-817c-4ef1-96de-f37bb594aaea\" xlink:show=\"new\" xlink:title=\"psysml:d6fef634-817c-4ef1-96de-f37bb594aaea\" xlink:type=\"simple\"><path d=\"M370,137.16 C370,144.98 370,153.69 370,161.94 \" fill=\"none\" id=\"E3-&gt;E4\" style=\"stroke: #A80036; stroke-width: 1.0; stroke-dasharray: 7.0,7.0;\"/><polygon fill=\"#A80036\" points=\"370,170,373,162,367,162,370,170\" style=\"stroke: #A80036; stroke-width: 1.0;\"/><text fill=\"#000000\" font-family=\"sans-serif\" font-size=\"13\" lengthAdjust=\"spacingAndGlyphs\" textLength=\"64\" x=\"371\" y=\"158.0669\">«depend»</text></a><!--MD5=[1b7591eae5389033d8d09a9d6721a717]\n",
       "link E4 to E5--><a href=\"psysml:d4b689e0-de38-42ab-a0b3-2a8bf82e0669\" target=\"_top\" title=\"psysml:d4b689e0-de38-42ab-a0b3-2a8bf82e0669\" xlink:actuate=\"onRequest\" xlink:href=\"psysml:d4b689e0-de38-42ab-a0b3-2a8bf82e0669\" xlink:show=\"new\" xlink:title=\"psysml:d4b689e0-de38-42ab-a0b3-2a8bf82e0669\" xlink:type=\"simple\"><path d=\"M370,223.16 C370,230.98 370,239.69 370,247.94 \" fill=\"none\" id=\"E4-&gt;E5\" style=\"stroke: #A80036; stroke-width: 1.0; stroke-dasharray: 7.0,7.0;\"/><polygon fill=\"#A80036\" points=\"370,256,373,248,367,248,370,256\" style=\"stroke: #A80036; stroke-width: 1.0;\"/><text fill=\"#000000\" font-family=\"sans-serif\" font-size=\"13\" lengthAdjust=\"spacingAndGlyphs\" textLength=\"64\" x=\"371\" y=\"244.0669\">«depend»</text></a><!--MD5=[c5e8897d989ce984f93528998a7150fe]\n",
       "link E8 to E6--><a href=\"psysml:c74e1bf4-ee72-40a7-b163-07732e38ed67\" target=\"_top\" title=\"psysml:c74e1bf4-ee72-40a7-b163-07732e38ed67\" xlink:actuate=\"onRequest\" xlink:href=\"psysml:c74e1bf4-ee72-40a7-b163-07732e38ed67\" xlink:show=\"new\" xlink:title=\"psysml:c74e1bf4-ee72-40a7-b163-07732e38ed67\" xlink:type=\"simple\"><path d=\"M92.08,133.72 C88.53,137.07 85.39,140.83 83,145 C79.52,151.08 77.92,158.28 77.36,165.3 \" fill=\"none\" id=\"E8-&gt;E6\" style=\"stroke: #A80036; stroke-width: 1.0; stroke-dasharray: 7.0,7.0;\"/><polygon fill=\"#A80036\" points=\"77.14,173.39,80.3531,165.4732,74.3553,165.3125,77.14,173.39\" style=\"stroke: #A80036; stroke-width: 1.0;\"/><text fill=\"#000000\" font-family=\"sans-serif\" font-size=\"13\" lengthAdjust=\"spacingAndGlyphs\" textLength=\"64\" x=\"84\" y=\"158.0669\">«depend»</text></a><!--MD5=[bfa3c8b0d15052fdf50ae9310b491027]\n",
       "link E8 to E7--><a href=\"psysml:c74e1bf4-ee72-40a7-b163-07732e38ed67\" target=\"_top\" title=\"psysml:c74e1bf4-ee72-40a7-b163-07732e38ed67\" xlink:actuate=\"onRequest\" xlink:href=\"psysml:c74e1bf4-ee72-40a7-b163-07732e38ed67\" xlink:show=\"new\" xlink:title=\"psysml:c74e1bf4-ee72-40a7-b163-07732e38ed67\" xlink:type=\"simple\"><path d=\"M153.76,133.57 C163.48,143.91 175.17,156.34 185.52,167.34 \" fill=\"none\" id=\"E8-&gt;E7\" style=\"stroke: #A80036; stroke-width: 1.0; stroke-dasharray: 7.0,7.0;\"/><polygon fill=\"#A80036\" points=\"191.11,173.29,187.8117,165.4083,183.4425,169.5205,191.11,173.29\" style=\"stroke: #A80036; stroke-width: 1.0;\"/><text fill=\"#000000\" font-family=\"sans-serif\" font-size=\"13\" lengthAdjust=\"spacingAndGlyphs\" textLength=\"64\" x=\"180\" y=\"158.0669\">«depend»</text></a><!--MD5=[32ae8fed9b0195334f4278ce38dd2aa5]\n",
       "@startuml\r\n",
       "skinparam ranksep 10\r\n",
       "skinparam rectangle {\r\n",
       " backgroundColor<<block>> LightGreen\r\n",
       "}\r\n",
       " \r\n",
       "package \"DependencyTest\" as E1  [[psysml:f9a8e327-3c68-43cc-8fc4-f0fda4441472 ]]  {\r\n",
       "package \"System\" as E2  [[psysml:5e0f80f7-1058-4b47-9f4f-e59769b1dff5 ]]  {\r\n",
       "package \"Application Layer\" as E3  [[psysml:d7cd1111-165d-4c09-9c1d-1c6e69d6b628 ]]  {\r\n",
       "}\r\n",
       "package \"Service Layer\" as E4  [[psysml:4fd532ef-c056-48ed-b57e-c34d41c7d9b0 ]]  {\r\n",
       "}\r\n",
       "package \"Data Layer\" as E5  [[psysml:f10bbfff-f917-435f-bbe7-eedf9b14a34c ]]  {\r\n",
       "}\r\n",
       "}\r\n",
       "comp usage \"x\" as E6  <<(U,orange)attribute>> [[psysml:52169dc2-f588-4d36-bb4d-934125a8defa ]] {\r\n",
       "}\r\n",
       "comp usage \"y\" as E7  <<(U,orange)attribute>> [[psysml:638ee95e-a488-4c6b-8aa7-581f6cf4c2fe ]] {\r\n",
       "}\r\n",
       "comp usage \"z\" as E8  <<(U,orange)attribute>> [[psysml:267f67df-ceab-4f9b-9288-379f8b6d76cc ]] {\r\n",
       "}\r\n",
       "E3 ..>> E4 [[psysml:d6fef634-817c-4ef1-96de-f37bb594aaea ]] : <<depend>>\r\n",
       "E4 ..>> E5 [[psysml:d4b689e0-de38-42ab-a0b3-2a8bf82e0669 ]] : <<depend>>\r\n",
       "E8 ..>> E6 [[psysml:c74e1bf4-ee72-40a7-b163-07732e38ed67 ]] : <<depend>>\r\n",
       "E8 ..>> E7 [[psysml:c74e1bf4-ee72-40a7-b163-07732e38ed67 ]] : <<depend>>\r\n",
       "}\r\n",
       "@enduml\r\n",
       "\n",
       "PlantUML version 1.2020.13(Sat Jun 13 12:26:38 UTC 2020)\n",
       "(EPL source distribution)\n",
       "Java Runtime: OpenJDK Runtime Environment\n",
       "JVM: OpenJDK 64-Bit Server VM\n",
       "Default Encoding: UTF-8\n",
       "Language: en\n",
       "Country: null\n",
       "--></g></svg>"
      ]
     },
     "execution_count": 33,
     "metadata": {},
     "output_type": "execute_result"
    }
   ],
   "source": [
    "%viz --style=\"PLANTUML\" --view=\"Interconnection\" \"DependencyTest\""
   ]
  },
  {
   "cell_type": "code",
   "execution_count": 34,
   "id": "520ddf45",
   "metadata": {
    "execution": {
     "iopub.execute_input": "2021-05-27T06:11:48.399450Z",
     "iopub.status.busy": "2021-05-27T06:11:48.398583Z",
     "iopub.status.idle": "2021-05-27T06:11:48.402562Z",
     "shell.execute_reply": "2021-05-27T06:11:48.402173Z"
    }
   },
   "outputs": [
    {
     "data": {
      "image/svg+xml": [
       "<?xml version=\"1.0\" encoding=\"UTF-8\" standalone=\"no\"?><svg xmlns=\"http://www.w3.org/2000/svg\" xmlns:xlink=\"http://www.w3.org/1999/xlink\" contentScriptType=\"application/ecmascript\" contentStyleType=\"text/css\" height=\"12px\" preserveAspectRatio=\"none\" style=\"width:12px;height:12px;\" version=\"1.1\" viewBox=\"0 0 12 12\" width=\"12px\" zoomAndPan=\"magnify\"><defs/><g><!--MD5=[6a4cb978cab31700e1ce5529f947a75d]\n",
       "@startuml\r\n",
       "skinparam ranksep 8\r\n",
       " \r\n",
       "@enduml\r\n",
       "\n",
       "PlantUML version 1.2020.13(Sat Jun 13 12:26:38 UTC 2020)\n",
       "(EPL source distribution)\n",
       "Java Runtime: OpenJDK Runtime Environment\n",
       "JVM: OpenJDK 64-Bit Server VM\n",
       "Default Encoding: UTF-8\n",
       "Language: en\n",
       "Country: null\n",
       "--></g></svg>"
      ]
     },
     "execution_count": 34,
     "metadata": {},
     "output_type": "execute_result"
    }
   ],
   "source": [
    "%viz --style=\"PLANTUML\" --view=\"Action\" \"DependencyTest\""
   ]
  },
  {
   "cell_type": "code",
   "execution_count": 35,
   "id": "4cae9cdd",
   "metadata": {
    "execution": {
     "iopub.execute_input": "2021-05-27T06:11:48.453496Z",
     "iopub.status.busy": "2021-05-27T06:11:48.453072Z",
     "iopub.status.idle": "2021-05-27T06:11:48.483149Z",
     "shell.execute_reply": "2021-05-27T06:11:48.481837Z"
    }
   },
   "outputs": [
    {
     "data": {
      "image/svg+xml": [
       "<?xml version=\"1.0\" encoding=\"UTF-8\" standalone=\"no\"?><svg xmlns=\"http://www.w3.org/2000/svg\" xmlns:xlink=\"http://www.w3.org/1999/xlink\" contentScriptType=\"application/ecmascript\" contentStyleType=\"text/css\" height=\"449px\" preserveAspectRatio=\"none\" style=\"width:510px;height:449px;\" version=\"1.1\" viewBox=\"0 0 510 449\" width=\"510px\" zoomAndPan=\"magnify\"><defs><filter height=\"300%\" id=\"ffo6ijvvvk117\" width=\"300%\" x=\"-1\" y=\"-1\"><feGaussianBlur result=\"blurOut\" stdDeviation=\"2.0\"/><feColorMatrix in=\"blurOut\" result=\"blurOut2\" type=\"matrix\" values=\"0 0 0 0 0 0 0 0 0 0 0 0 0 0 0 0 0 0 .4 0\"/><feOffset dx=\"4.0\" dy=\"4.0\" in=\"blurOut2\" result=\"blurOut3\"/><feBlend in=\"SourceGraphic\" in2=\"blurOut3\" mode=\"normal\"/></filter></defs><g><!--MD5=[fbc87193dbaf4d95561dea2c320d4a47]\n",
       "cluster E1--><a href=\"psysml:f9a8e327-3c68-43cc-8fc4-f0fda4441472\" target=\"_top\" title=\"psysml:f9a8e327-3c68-43cc-8fc4-f0fda4441472\" xlink:actuate=\"onRequest\" xlink:href=\"psysml:f9a8e327-3c68-43cc-8fc4-f0fda4441472\" xlink:show=\"new\" xlink:title=\"psysml:f9a8e327-3c68-43cc-8fc4-f0fda4441472\" xlink:type=\"simple\"><polygon fill=\"#FFFFFF\" filter=\"url(#ffo6ijvvvk117)\" points=\"16,6,156,6,163,28.2969,488,28.2969,488,437,16,437,16,6\" style=\"stroke: #000000; stroke-width: 1.5;\"/><line style=\"stroke: #000000; stroke-width: 1.5;\" x1=\"16\" x2=\"163\" y1=\"28.2969\" y2=\"28.2969\"/><text fill=\"#000000\" font-family=\"sans-serif\" font-size=\"14\" font-weight=\"bold\" lengthAdjust=\"spacingAndGlyphs\" textLength=\"134\" x=\"20\" y=\"20.9951\">DependencyTest</text></a><!--MD5=[e4f7fae6ed58524ba242bb0b0d3be6b7]\n",
       "cluster E2--><a href=\"psysml:5e0f80f7-1058-4b47-9f4f-e59769b1dff5\" target=\"_top\" title=\"psysml:5e0f80f7-1058-4b47-9f4f-e59769b1dff5\" xlink:actuate=\"onRequest\" xlink:href=\"psysml:5e0f80f7-1058-4b47-9f4f-e59769b1dff5\" xlink:show=\"new\" xlink:title=\"psysml:5e0f80f7-1058-4b47-9f4f-e59769b1dff5\" xlink:type=\"simple\"><polygon fill=\"#FFFFFF\" filter=\"url(#ffo6ijvvvk117)\" points=\"276,49,340,49,347,71.2969,464,71.2969,464,413,276,413,276,49\" style=\"stroke: #000000; stroke-width: 1.5;\"/><line style=\"stroke: #000000; stroke-width: 1.5;\" x1=\"276\" x2=\"347\" y1=\"71.2969\" y2=\"71.2969\"/><text fill=\"#000000\" font-family=\"sans-serif\" font-size=\"14\" font-weight=\"bold\" lengthAdjust=\"spacingAndGlyphs\" textLength=\"58\" x=\"280\" y=\"63.9951\">System</text></a><!--MD5=[60a26617385b1d2d0262a64233df1f8d]\n",
       "class E6--><a href=\"psysml:52169dc2-f588-4d36-bb4d-934125a8defa\" target=\"_top\" title=\"psysml:52169dc2-f588-4d36-bb4d-934125a8defa\" xlink:actuate=\"onRequest\" xlink:href=\"psysml:52169dc2-f588-4d36-bb4d-934125a8defa\" xlink:show=\"new\" xlink:title=\"psysml:52169dc2-f588-4d36-bb4d-934125a8defa\" xlink:type=\"simple\"><rect fill=\"#FEFECE\" filter=\"url(#ffo6ijvvvk117)\" height=\"45.9375\" id=\"E6\" rx=\"10\" ry=\"10\" style=\"stroke: #A80036; stroke-width: 1.5;\" width=\"97\" x=\"31.5\" y=\"217.5\"/><ellipse cx=\"46.5\" cy=\"236.4688\" fill=\"#FFA500\" rx=\"11\" ry=\"11\" style=\"stroke: #A80036; stroke-width: 1.0;\"/><path d=\"M42.375,238.3906 L42.375,230.5781 L44.8281,230.5781 L44.8281,239.0156 Q44.8281,239.9375 45.2969,240.4688 Q45.7813,241 46.6094,241 Q47.4531,241 47.9219,240.4688 Q48.3906,239.9375 48.3906,239.0156 L48.3906,230.5781 L50.8438,230.5781 L50.8438,238.3906 Q50.8438,240.9219 49.8438,242.0625 Q48.8438,243.2031 46.6094,243.2031 Q44.3906,243.2031 43.375,242.0625 Q42.375,240.9219 42.375,238.3906 Z \"/><text fill=\"#000000\" font-family=\"sans-serif\" font-size=\"12\" font-style=\"italic\" lengthAdjust=\"spacingAndGlyphs\" textLength=\"69\" x=\"58.5\" y=\"233.6387\">«attribute»</text><text fill=\"#000000\" font-family=\"sans-serif\" font-size=\"12\" lengthAdjust=\"spacingAndGlyphs\" textLength=\"6\" x=\"90\" y=\"247.6074\">x</text><line style=\"stroke: #A80036; stroke-width: 1.5;\" x1=\"32.5\" x2=\"127.5\" y1=\"255.4375\" y2=\"255.4375\"/></a><!--MD5=[2156ba9850f5573cc1fc38a6a4b2f02b]\n",
       "class E7--><a href=\"psysml:638ee95e-a488-4c6b-8aa7-581f6cf4c2fe\" target=\"_top\" title=\"psysml:638ee95e-a488-4c6b-8aa7-581f6cf4c2fe\" xlink:actuate=\"onRequest\" xlink:href=\"psysml:638ee95e-a488-4c6b-8aa7-581f6cf4c2fe\" xlink:show=\"new\" xlink:title=\"psysml:638ee95e-a488-4c6b-8aa7-581f6cf4c2fe\" xlink:type=\"simple\"><rect fill=\"#FEFECE\" filter=\"url(#ffo6ijvvvk117)\" height=\"45.9375\" id=\"E7\" rx=\"10\" ry=\"10\" style=\"stroke: #A80036; stroke-width: 1.5;\" width=\"97\" x=\"163.5\" y=\"217.5\"/><ellipse cx=\"178.5\" cy=\"236.4688\" fill=\"#FFA500\" rx=\"11\" ry=\"11\" style=\"stroke: #A80036; stroke-width: 1.0;\"/><path d=\"M174.375,238.3906 L174.375,230.5781 L176.8281,230.5781 L176.8281,239.0156 Q176.8281,239.9375 177.2969,240.4688 Q177.7813,241 178.6094,241 Q179.4531,241 179.9219,240.4688 Q180.3906,239.9375 180.3906,239.0156 L180.3906,230.5781 L182.8438,230.5781 L182.8438,238.3906 Q182.8438,240.9219 181.8438,242.0625 Q180.8438,243.2031 178.6094,243.2031 Q176.3906,243.2031 175.375,242.0625 Q174.375,240.9219 174.375,238.3906 Z \"/><text fill=\"#000000\" font-family=\"sans-serif\" font-size=\"12\" font-style=\"italic\" lengthAdjust=\"spacingAndGlyphs\" textLength=\"69\" x=\"190.5\" y=\"233.6387\">«attribute»</text><text fill=\"#000000\" font-family=\"sans-serif\" font-size=\"12\" lengthAdjust=\"spacingAndGlyphs\" textLength=\"6\" x=\"222\" y=\"247.6074\">y</text><line style=\"stroke: #A80036; stroke-width: 1.5;\" x1=\"164.5\" x2=\"259.5\" y1=\"255.4375\" y2=\"255.4375\"/></a><!--MD5=[b9389687b975829384b498ac4b7476b2]\n",
       "class E8--><a href=\"psysml:267f67df-ceab-4f9b-9288-379f8b6d76cc\" target=\"_top\" title=\"psysml:267f67df-ceab-4f9b-9288-379f8b6d76cc\" xlink:actuate=\"onRequest\" xlink:href=\"psysml:267f67df-ceab-4f9b-9288-379f8b6d76cc\" xlink:show=\"new\" xlink:title=\"psysml:267f67df-ceab-4f9b-9288-379f8b6d76cc\" xlink:type=\"simple\"><rect fill=\"#FEFECE\" filter=\"url(#ffo6ijvvvk117)\" height=\"45.9375\" id=\"E8\" rx=\"10\" ry=\"10\" style=\"stroke: #A80036; stroke-width: 1.5;\" width=\"97\" x=\"84.5\" y=\"87.5\"/><ellipse cx=\"99.5\" cy=\"106.4688\" fill=\"#FFA500\" rx=\"11\" ry=\"11\" style=\"stroke: #A80036; stroke-width: 1.0;\"/><path d=\"M95.375,108.3906 L95.375,100.5781 L97.8281,100.5781 L97.8281,109.0156 Q97.8281,109.9375 98.2969,110.4688 Q98.7813,111 99.6094,111 Q100.4531,111 100.9219,110.4688 Q101.3906,109.9375 101.3906,109.0156 L101.3906,100.5781 L103.8438,100.5781 L103.8438,108.3906 Q103.8438,110.9219 102.8438,112.0625 Q101.8438,113.2031 99.6094,113.2031 Q97.3906,113.2031 96.375,112.0625 Q95.375,110.9219 95.375,108.3906 Z \"/><text fill=\"#000000\" font-family=\"sans-serif\" font-size=\"12\" font-style=\"italic\" lengthAdjust=\"spacingAndGlyphs\" textLength=\"69\" x=\"111.5\" y=\"103.6387\">«attribute»</text><text fill=\"#000000\" font-family=\"sans-serif\" font-size=\"12\" lengthAdjust=\"spacingAndGlyphs\" textLength=\"5\" x=\"143.5\" y=\"117.6074\">z</text><line style=\"stroke: #A80036; stroke-width: 1.5;\" x1=\"85.5\" x2=\"180.5\" y1=\"125.4375\" y2=\"125.4375\"/></a><a href=\"psysml:d7cd1111-165d-4c09-9c1d-1c6e69d6b628\" target=\"_top\" title=\"psysml:d7cd1111-165d-4c09-9c1d-1c6e69d6b628\" xlink:actuate=\"onRequest\" xlink:href=\"psysml:d7cd1111-165d-4c09-9c1d-1c6e69d6b628\" xlink:show=\"new\" xlink:title=\"psysml:d7cd1111-165d-4c09-9c1d-1c6e69d6b628\" xlink:type=\"simple\"><polygon fill=\"#FFFFFF\" filter=\"url(#ffo6ijvvvk117)\" points=\"292,84,434,84,441,106.2969,448,106.2969,448,136.5938,292,136.5938,292,84\" style=\"stroke: #000000; stroke-width: 1.5;\"/><line style=\"stroke: #000000; stroke-width: 1.5;\" x1=\"292\" x2=\"441\" y1=\"106.2969\" y2=\"106.2969\"/><text fill=\"#000000\" font-family=\"sans-serif\" font-size=\"14\" font-weight=\"bold\" lengthAdjust=\"spacingAndGlyphs\" textLength=\"136\" x=\"296\" y=\"98.9951\">Application Layer</text></a><a href=\"psysml:4fd532ef-c056-48ed-b57e-c34d41c7d9b0\" target=\"_top\" title=\"psysml:4fd532ef-c056-48ed-b57e-c34d41c7d9b0\" xlink:actuate=\"onRequest\" xlink:href=\"psysml:4fd532ef-c056-48ed-b57e-c34d41c7d9b0\" xlink:show=\"new\" xlink:title=\"psysml:4fd532ef-c056-48ed-b57e-c34d41c7d9b0\" xlink:type=\"simple\"><polygon fill=\"#FFFFFF\" filter=\"url(#ffo6ijvvvk117)\" points=\"306,214,420,214,427,236.2969,434,236.2969,434,266.5938,306,266.5938,306,214\" style=\"stroke: #000000; stroke-width: 1.5;\"/><line style=\"stroke: #000000; stroke-width: 1.5;\" x1=\"306\" x2=\"427\" y1=\"236.2969\" y2=\"236.2969\"/><text fill=\"#000000\" font-family=\"sans-serif\" font-size=\"14\" font-weight=\"bold\" lengthAdjust=\"spacingAndGlyphs\" textLength=\"108\" x=\"310\" y=\"228.9951\">Service Layer</text></a><a href=\"psysml:f10bbfff-f917-435f-bbe7-eedf9b14a34c\" target=\"_top\" title=\"psysml:f10bbfff-f917-435f-bbe7-eedf9b14a34c\" xlink:actuate=\"onRequest\" xlink:href=\"psysml:f10bbfff-f917-435f-bbe7-eedf9b14a34c\" xlink:show=\"new\" xlink:title=\"psysml:f10bbfff-f917-435f-bbe7-eedf9b14a34c\" xlink:type=\"simple\"><polygon fill=\"#FFFFFF\" filter=\"url(#ffo6ijvvvk117)\" points=\"318,344,408,344,415,366.2969,422,366.2969,422,396.5938,318,396.5938,318,344\" style=\"stroke: #000000; stroke-width: 1.5;\"/><line style=\"stroke: #000000; stroke-width: 1.5;\" x1=\"318\" x2=\"415\" y1=\"366.2969\" y2=\"366.2969\"/><text fill=\"#000000\" font-family=\"sans-serif\" font-size=\"14\" font-weight=\"bold\" lengthAdjust=\"spacingAndGlyphs\" textLength=\"84\" x=\"322\" y=\"358.9951\">Data Layer</text></a><!--MD5=[af87c684e3b0d8be13c1a698a818ef1e]\n",
       "link E3 to E4--><a href=\"psysml:d6fef634-817c-4ef1-96de-f37bb594aaea\" target=\"_top\" title=\"psysml:d6fef634-817c-4ef1-96de-f37bb594aaea\" xlink:actuate=\"onRequest\" xlink:href=\"psysml:d6fef634-817c-4ef1-96de-f37bb594aaea\" xlink:show=\"new\" xlink:title=\"psysml:d6fef634-817c-4ef1-96de-f37bb594aaea\" xlink:type=\"simple\"><path d=\"M370,137.1 C370,156.8 370,184.22 370,205.73 \" fill=\"none\" id=\"E3-&gt;E4\" style=\"stroke: #A80036; stroke-width: 1.0; stroke-dasharray: 7.0,7.0;\"/><polygon fill=\"#A80036\" points=\"370,213.95,373,205.95,367,205.95,370,213.95\" style=\"stroke: #A80036; stroke-width: 1.0;\"/><text fill=\"#000000\" font-family=\"sans-serif\" font-size=\"13\" lengthAdjust=\"spacingAndGlyphs\" textLength=\"64\" x=\"371\" y=\"180.0669\">«depend»</text></a><!--MD5=[1b7591eae5389033d8d09a9d6721a717]\n",
       "link E4 to E5--><a href=\"psysml:d4b689e0-de38-42ab-a0b3-2a8bf82e0669\" target=\"_top\" title=\"psysml:d4b689e0-de38-42ab-a0b3-2a8bf82e0669\" xlink:actuate=\"onRequest\" xlink:href=\"psysml:d4b689e0-de38-42ab-a0b3-2a8bf82e0669\" xlink:show=\"new\" xlink:title=\"psysml:d4b689e0-de38-42ab-a0b3-2a8bf82e0669\" xlink:type=\"simple\"><path d=\"M370,267.1 C370,286.8 370,314.22 370,335.73 \" fill=\"none\" id=\"E4-&gt;E5\" style=\"stroke: #A80036; stroke-width: 1.0; stroke-dasharray: 7.0,7.0;\"/><polygon fill=\"#A80036\" points=\"370,343.95,373,335.95,367,335.95,370,343.95\" style=\"stroke: #A80036; stroke-width: 1.0;\"/><text fill=\"#000000\" font-family=\"sans-serif\" font-size=\"13\" lengthAdjust=\"spacingAndGlyphs\" textLength=\"64\" x=\"371\" y=\"310.0669\">«depend»</text></a><!--MD5=[c5e8897d989ce984f93528998a7150fe]\n",
       "link E8 to E6--><a href=\"psysml:c74e1bf4-ee72-40a7-b163-07732e38ed67\" target=\"_top\" title=\"psysml:c74e1bf4-ee72-40a7-b163-07732e38ed67\" xlink:actuate=\"onRequest\" xlink:href=\"psysml:c74e1bf4-ee72-40a7-b163-07732e38ed67\" xlink:show=\"new\" xlink:title=\"psysml:c74e1bf4-ee72-40a7-b163-07732e38ed67\" xlink:type=\"simple\"><path d=\"M106.44,133.76 C97.3,143.01 88.09,154.51 83,167 C77.6,180.23 76.4,195.98 76.73,209.41 \" fill=\"none\" id=\"E8-&gt;E6\" style=\"stroke: #A80036; stroke-width: 1.0; stroke-dasharray: 7.0,7.0;\"/><polygon fill=\"#A80036\" points=\"77.12,217.43,79.7306,209.2946,73.7375,209.584,77.12,217.43\" style=\"stroke: #A80036; stroke-width: 1.0;\"/><text fill=\"#000000\" font-family=\"sans-serif\" font-size=\"13\" lengthAdjust=\"spacingAndGlyphs\" textLength=\"64\" x=\"84\" y=\"180.0669\">«depend»</text></a><!--MD5=[bfa3c8b0d15052fdf50ae9310b491027]\n",
       "link E8 to E7--><a href=\"psysml:c74e1bf4-ee72-40a7-b163-07732e38ed67\" target=\"_top\" title=\"psysml:c74e1bf4-ee72-40a7-b163-07732e38ed67\" xlink:actuate=\"onRequest\" xlink:href=\"psysml:c74e1bf4-ee72-40a7-b163-07732e38ed67\" xlink:show=\"new\" xlink:title=\"psysml:c74e1bf4-ee72-40a7-b163-07732e38ed67\" xlink:type=\"simple\"><path d=\"M146.58,133.5 C159.69,154.75 179.63,187.05 194.05,210.41 \" fill=\"none\" id=\"E8-&gt;E7\" style=\"stroke: #A80036; stroke-width: 1.0; stroke-dasharray: 7.0,7.0;\"/><polygon fill=\"#A80036\" points=\"198.33,217.35,196.6785,208.9671,191.5737,212.1201,198.33,217.35\" style=\"stroke: #A80036; stroke-width: 1.0;\"/><text fill=\"#000000\" font-family=\"sans-serif\" font-size=\"13\" lengthAdjust=\"spacingAndGlyphs\" textLength=\"64\" x=\"178\" y=\"180.0669\">«depend»</text></a><!--MD5=[1062c3f3b7c23ce4e4aab97b477b2c44]\n",
       "@startuml\r\n",
       " \r\n",
       "package \"DependencyTest\" as E1  [[psysml:f9a8e327-3c68-43cc-8fc4-f0fda4441472 ]]  {\r\n",
       "package \"System\" as E2  [[psysml:5e0f80f7-1058-4b47-9f4f-e59769b1dff5 ]]  {\r\n",
       "package \"Application Layer\" as E3  [[psysml:d7cd1111-165d-4c09-9c1d-1c6e69d6b628 ]]  {\r\n",
       "}\r\n",
       "package \"Service Layer\" as E4  [[psysml:4fd532ef-c056-48ed-b57e-c34d41c7d9b0 ]]  {\r\n",
       "}\r\n",
       "package \"Data Layer\" as E5  [[psysml:f10bbfff-f917-435f-bbe7-eedf9b14a34c ]]  {\r\n",
       "}\r\n",
       "}\r\n",
       "comp usage \"x\" as E6  <<(U,orange)attribute>> [[psysml:52169dc2-f588-4d36-bb4d-934125a8defa ]] {\r\n",
       "}\r\n",
       "comp usage \"y\" as E7  <<(U,orange)attribute>> [[psysml:638ee95e-a488-4c6b-8aa7-581f6cf4c2fe ]] {\r\n",
       "}\r\n",
       "comp usage \"z\" as E8  <<(U,orange)attribute>> [[psysml:267f67df-ceab-4f9b-9288-379f8b6d76cc ]] {\r\n",
       "}\r\n",
       "E3 ..>> E4 [[psysml:d6fef634-817c-4ef1-96de-f37bb594aaea ]] : <<depend>>\r\n",
       "E4 ..>> E5 [[psysml:d4b689e0-de38-42ab-a0b3-2a8bf82e0669 ]] : <<depend>>\r\n",
       "E8 ..>> E6 [[psysml:c74e1bf4-ee72-40a7-b163-07732e38ed67 ]] : <<depend>>\r\n",
       "E8 ..>> E7 [[psysml:c74e1bf4-ee72-40a7-b163-07732e38ed67 ]] : <<depend>>\r\n",
       "}\r\n",
       "@enduml\r\n",
       "\n",
       "PlantUML version 1.2020.13(Sat Jun 13 12:26:38 UTC 2020)\n",
       "(EPL source distribution)\n",
       "Java Runtime: OpenJDK Runtime Environment\n",
       "JVM: OpenJDK 64-Bit Server VM\n",
       "Default Encoding: UTF-8\n",
       "Language: en\n",
       "Country: null\n",
       "--></g></svg>"
      ]
     },
     "execution_count": 35,
     "metadata": {},
     "output_type": "execute_result"
    }
   ],
   "source": [
    "%viz --style=\"PLANTUML\" --view=\"Sequence\" \"DependencyTest\""
   ]
  },
  {
   "cell_type": "code",
   "execution_count": 36,
   "id": "bab3cf72",
   "metadata": {
    "execution": {
     "iopub.execute_input": "2021-05-27T06:11:48.534956Z",
     "iopub.status.busy": "2021-05-27T06:11:48.534478Z",
     "iopub.status.idle": "2021-05-27T06:11:48.571591Z",
     "shell.execute_reply": "2021-05-27T06:11:48.570212Z"
    }
   },
   "outputs": [
    {
     "data": {
      "image/svg+xml": [
       "<?xml version=\"1.0\" encoding=\"UTF-8\" standalone=\"no\"?><svg xmlns=\"http://www.w3.org/2000/svg\" xmlns:xlink=\"http://www.w3.org/1999/xlink\" contentScriptType=\"application/ecmascript\" contentStyleType=\"text/css\" height=\"449px\" preserveAspectRatio=\"none\" style=\"width:510px;height:449px;\" version=\"1.1\" viewBox=\"0 0 510 449\" width=\"510px\" zoomAndPan=\"magnify\"><defs><filter height=\"300%\" id=\"ffo6ijvvvk117\" width=\"300%\" x=\"-1\" y=\"-1\"><feGaussianBlur result=\"blurOut\" stdDeviation=\"2.0\"/><feColorMatrix in=\"blurOut\" result=\"blurOut2\" type=\"matrix\" values=\"0 0 0 0 0 0 0 0 0 0 0 0 0 0 0 0 0 0 .4 0\"/><feOffset dx=\"4.0\" dy=\"4.0\" in=\"blurOut2\" result=\"blurOut3\"/><feBlend in=\"SourceGraphic\" in2=\"blurOut3\" mode=\"normal\"/></filter></defs><g><!--MD5=[fbc87193dbaf4d95561dea2c320d4a47]\n",
       "cluster E1--><a href=\"psysml:f9a8e327-3c68-43cc-8fc4-f0fda4441472\" target=\"_top\" title=\"psysml:f9a8e327-3c68-43cc-8fc4-f0fda4441472\" xlink:actuate=\"onRequest\" xlink:href=\"psysml:f9a8e327-3c68-43cc-8fc4-f0fda4441472\" xlink:show=\"new\" xlink:title=\"psysml:f9a8e327-3c68-43cc-8fc4-f0fda4441472\" xlink:type=\"simple\"><polygon fill=\"#FFFFFF\" filter=\"url(#ffo6ijvvvk117)\" points=\"16,6,156,6,163,28.2969,488,28.2969,488,437,16,437,16,6\" style=\"stroke: #000000; stroke-width: 1.5;\"/><line style=\"stroke: #000000; stroke-width: 1.5;\" x1=\"16\" x2=\"163\" y1=\"28.2969\" y2=\"28.2969\"/><text fill=\"#000000\" font-family=\"sans-serif\" font-size=\"14\" font-weight=\"bold\" lengthAdjust=\"spacingAndGlyphs\" textLength=\"134\" x=\"20\" y=\"20.9951\">DependencyTest</text></a><!--MD5=[e4f7fae6ed58524ba242bb0b0d3be6b7]\n",
       "cluster E2--><a href=\"psysml:5e0f80f7-1058-4b47-9f4f-e59769b1dff5\" target=\"_top\" title=\"psysml:5e0f80f7-1058-4b47-9f4f-e59769b1dff5\" xlink:actuate=\"onRequest\" xlink:href=\"psysml:5e0f80f7-1058-4b47-9f4f-e59769b1dff5\" xlink:show=\"new\" xlink:title=\"psysml:5e0f80f7-1058-4b47-9f4f-e59769b1dff5\" xlink:type=\"simple\"><polygon fill=\"#FFFFFF\" filter=\"url(#ffo6ijvvvk117)\" points=\"276,49,340,49,347,71.2969,464,71.2969,464,413,276,413,276,49\" style=\"stroke: #000000; stroke-width: 1.5;\"/><line style=\"stroke: #000000; stroke-width: 1.5;\" x1=\"276\" x2=\"347\" y1=\"71.2969\" y2=\"71.2969\"/><text fill=\"#000000\" font-family=\"sans-serif\" font-size=\"14\" font-weight=\"bold\" lengthAdjust=\"spacingAndGlyphs\" textLength=\"58\" x=\"280\" y=\"63.9951\">System</text></a><!--MD5=[60a26617385b1d2d0262a64233df1f8d]\n",
       "class E6--><a href=\"psysml:52169dc2-f588-4d36-bb4d-934125a8defa\" target=\"_top\" title=\"psysml:52169dc2-f588-4d36-bb4d-934125a8defa\" xlink:actuate=\"onRequest\" xlink:href=\"psysml:52169dc2-f588-4d36-bb4d-934125a8defa\" xlink:show=\"new\" xlink:title=\"psysml:52169dc2-f588-4d36-bb4d-934125a8defa\" xlink:type=\"simple\"><rect fill=\"#FEFECE\" filter=\"url(#ffo6ijvvvk117)\" height=\"45.9375\" id=\"E6\" rx=\"10\" ry=\"10\" style=\"stroke: #A80036; stroke-width: 1.5;\" width=\"97\" x=\"31.5\" y=\"217.5\"/><ellipse cx=\"46.5\" cy=\"236.4688\" fill=\"#FFA500\" rx=\"11\" ry=\"11\" style=\"stroke: #A80036; stroke-width: 1.0;\"/><path d=\"M42.375,238.3906 L42.375,230.5781 L44.8281,230.5781 L44.8281,239.0156 Q44.8281,239.9375 45.2969,240.4688 Q45.7813,241 46.6094,241 Q47.4531,241 47.9219,240.4688 Q48.3906,239.9375 48.3906,239.0156 L48.3906,230.5781 L50.8438,230.5781 L50.8438,238.3906 Q50.8438,240.9219 49.8438,242.0625 Q48.8438,243.2031 46.6094,243.2031 Q44.3906,243.2031 43.375,242.0625 Q42.375,240.9219 42.375,238.3906 Z \"/><text fill=\"#000000\" font-family=\"sans-serif\" font-size=\"12\" font-style=\"italic\" lengthAdjust=\"spacingAndGlyphs\" textLength=\"69\" x=\"58.5\" y=\"233.6387\">«attribute»</text><text fill=\"#000000\" font-family=\"sans-serif\" font-size=\"12\" lengthAdjust=\"spacingAndGlyphs\" textLength=\"6\" x=\"90\" y=\"247.6074\">x</text><line style=\"stroke: #A80036; stroke-width: 1.5;\" x1=\"32.5\" x2=\"127.5\" y1=\"255.4375\" y2=\"255.4375\"/></a><!--MD5=[2156ba9850f5573cc1fc38a6a4b2f02b]\n",
       "class E7--><a href=\"psysml:638ee95e-a488-4c6b-8aa7-581f6cf4c2fe\" target=\"_top\" title=\"psysml:638ee95e-a488-4c6b-8aa7-581f6cf4c2fe\" xlink:actuate=\"onRequest\" xlink:href=\"psysml:638ee95e-a488-4c6b-8aa7-581f6cf4c2fe\" xlink:show=\"new\" xlink:title=\"psysml:638ee95e-a488-4c6b-8aa7-581f6cf4c2fe\" xlink:type=\"simple\"><rect fill=\"#FEFECE\" filter=\"url(#ffo6ijvvvk117)\" height=\"45.9375\" id=\"E7\" rx=\"10\" ry=\"10\" style=\"stroke: #A80036; stroke-width: 1.5;\" width=\"97\" x=\"163.5\" y=\"217.5\"/><ellipse cx=\"178.5\" cy=\"236.4688\" fill=\"#FFA500\" rx=\"11\" ry=\"11\" style=\"stroke: #A80036; stroke-width: 1.0;\"/><path d=\"M174.375,238.3906 L174.375,230.5781 L176.8281,230.5781 L176.8281,239.0156 Q176.8281,239.9375 177.2969,240.4688 Q177.7813,241 178.6094,241 Q179.4531,241 179.9219,240.4688 Q180.3906,239.9375 180.3906,239.0156 L180.3906,230.5781 L182.8438,230.5781 L182.8438,238.3906 Q182.8438,240.9219 181.8438,242.0625 Q180.8438,243.2031 178.6094,243.2031 Q176.3906,243.2031 175.375,242.0625 Q174.375,240.9219 174.375,238.3906 Z \"/><text fill=\"#000000\" font-family=\"sans-serif\" font-size=\"12\" font-style=\"italic\" lengthAdjust=\"spacingAndGlyphs\" textLength=\"69\" x=\"190.5\" y=\"233.6387\">«attribute»</text><text fill=\"#000000\" font-family=\"sans-serif\" font-size=\"12\" lengthAdjust=\"spacingAndGlyphs\" textLength=\"6\" x=\"222\" y=\"247.6074\">y</text><line style=\"stroke: #A80036; stroke-width: 1.5;\" x1=\"164.5\" x2=\"259.5\" y1=\"255.4375\" y2=\"255.4375\"/></a><!--MD5=[b9389687b975829384b498ac4b7476b2]\n",
       "class E8--><a href=\"psysml:267f67df-ceab-4f9b-9288-379f8b6d76cc\" target=\"_top\" title=\"psysml:267f67df-ceab-4f9b-9288-379f8b6d76cc\" xlink:actuate=\"onRequest\" xlink:href=\"psysml:267f67df-ceab-4f9b-9288-379f8b6d76cc\" xlink:show=\"new\" xlink:title=\"psysml:267f67df-ceab-4f9b-9288-379f8b6d76cc\" xlink:type=\"simple\"><rect fill=\"#FEFECE\" filter=\"url(#ffo6ijvvvk117)\" height=\"45.9375\" id=\"E8\" rx=\"10\" ry=\"10\" style=\"stroke: #A80036; stroke-width: 1.5;\" width=\"97\" x=\"84.5\" y=\"87.5\"/><ellipse cx=\"99.5\" cy=\"106.4688\" fill=\"#FFA500\" rx=\"11\" ry=\"11\" style=\"stroke: #A80036; stroke-width: 1.0;\"/><path d=\"M95.375,108.3906 L95.375,100.5781 L97.8281,100.5781 L97.8281,109.0156 Q97.8281,109.9375 98.2969,110.4688 Q98.7813,111 99.6094,111 Q100.4531,111 100.9219,110.4688 Q101.3906,109.9375 101.3906,109.0156 L101.3906,100.5781 L103.8438,100.5781 L103.8438,108.3906 Q103.8438,110.9219 102.8438,112.0625 Q101.8438,113.2031 99.6094,113.2031 Q97.3906,113.2031 96.375,112.0625 Q95.375,110.9219 95.375,108.3906 Z \"/><text fill=\"#000000\" font-family=\"sans-serif\" font-size=\"12\" font-style=\"italic\" lengthAdjust=\"spacingAndGlyphs\" textLength=\"69\" x=\"111.5\" y=\"103.6387\">«attribute»</text><text fill=\"#000000\" font-family=\"sans-serif\" font-size=\"12\" lengthAdjust=\"spacingAndGlyphs\" textLength=\"5\" x=\"143.5\" y=\"117.6074\">z</text><line style=\"stroke: #A80036; stroke-width: 1.5;\" x1=\"85.5\" x2=\"180.5\" y1=\"125.4375\" y2=\"125.4375\"/></a><a href=\"psysml:d7cd1111-165d-4c09-9c1d-1c6e69d6b628\" target=\"_top\" title=\"psysml:d7cd1111-165d-4c09-9c1d-1c6e69d6b628\" xlink:actuate=\"onRequest\" xlink:href=\"psysml:d7cd1111-165d-4c09-9c1d-1c6e69d6b628\" xlink:show=\"new\" xlink:title=\"psysml:d7cd1111-165d-4c09-9c1d-1c6e69d6b628\" xlink:type=\"simple\"><polygon fill=\"#FFFFFF\" filter=\"url(#ffo6ijvvvk117)\" points=\"292,84,434,84,441,106.2969,448,106.2969,448,136.5938,292,136.5938,292,84\" style=\"stroke: #000000; stroke-width: 1.5;\"/><line style=\"stroke: #000000; stroke-width: 1.5;\" x1=\"292\" x2=\"441\" y1=\"106.2969\" y2=\"106.2969\"/><text fill=\"#000000\" font-family=\"sans-serif\" font-size=\"14\" font-weight=\"bold\" lengthAdjust=\"spacingAndGlyphs\" textLength=\"136\" x=\"296\" y=\"98.9951\">Application Layer</text></a><a href=\"psysml:4fd532ef-c056-48ed-b57e-c34d41c7d9b0\" target=\"_top\" title=\"psysml:4fd532ef-c056-48ed-b57e-c34d41c7d9b0\" xlink:actuate=\"onRequest\" xlink:href=\"psysml:4fd532ef-c056-48ed-b57e-c34d41c7d9b0\" xlink:show=\"new\" xlink:title=\"psysml:4fd532ef-c056-48ed-b57e-c34d41c7d9b0\" xlink:type=\"simple\"><polygon fill=\"#FFFFFF\" filter=\"url(#ffo6ijvvvk117)\" points=\"306,214,420,214,427,236.2969,434,236.2969,434,266.5938,306,266.5938,306,214\" style=\"stroke: #000000; stroke-width: 1.5;\"/><line style=\"stroke: #000000; stroke-width: 1.5;\" x1=\"306\" x2=\"427\" y1=\"236.2969\" y2=\"236.2969\"/><text fill=\"#000000\" font-family=\"sans-serif\" font-size=\"14\" font-weight=\"bold\" lengthAdjust=\"spacingAndGlyphs\" textLength=\"108\" x=\"310\" y=\"228.9951\">Service Layer</text></a><a href=\"psysml:f10bbfff-f917-435f-bbe7-eedf9b14a34c\" target=\"_top\" title=\"psysml:f10bbfff-f917-435f-bbe7-eedf9b14a34c\" xlink:actuate=\"onRequest\" xlink:href=\"psysml:f10bbfff-f917-435f-bbe7-eedf9b14a34c\" xlink:show=\"new\" xlink:title=\"psysml:f10bbfff-f917-435f-bbe7-eedf9b14a34c\" xlink:type=\"simple\"><polygon fill=\"#FFFFFF\" filter=\"url(#ffo6ijvvvk117)\" points=\"318,344,408,344,415,366.2969,422,366.2969,422,396.5938,318,396.5938,318,344\" style=\"stroke: #000000; stroke-width: 1.5;\"/><line style=\"stroke: #000000; stroke-width: 1.5;\" x1=\"318\" x2=\"415\" y1=\"366.2969\" y2=\"366.2969\"/><text fill=\"#000000\" font-family=\"sans-serif\" font-size=\"14\" font-weight=\"bold\" lengthAdjust=\"spacingAndGlyphs\" textLength=\"84\" x=\"322\" y=\"358.9951\">Data Layer</text></a><!--MD5=[af87c684e3b0d8be13c1a698a818ef1e]\n",
       "link E3 to E4--><a href=\"psysml:d6fef634-817c-4ef1-96de-f37bb594aaea\" target=\"_top\" title=\"psysml:d6fef634-817c-4ef1-96de-f37bb594aaea\" xlink:actuate=\"onRequest\" xlink:href=\"psysml:d6fef634-817c-4ef1-96de-f37bb594aaea\" xlink:show=\"new\" xlink:title=\"psysml:d6fef634-817c-4ef1-96de-f37bb594aaea\" xlink:type=\"simple\"><path d=\"M370,137.1 C370,156.8 370,184.22 370,205.73 \" fill=\"none\" id=\"E3-&gt;E4\" style=\"stroke: #A80036; stroke-width: 1.0; stroke-dasharray: 7.0,7.0;\"/><polygon fill=\"#A80036\" points=\"370,213.95,373,205.95,367,205.95,370,213.95\" style=\"stroke: #A80036; stroke-width: 1.0;\"/><text fill=\"#000000\" font-family=\"sans-serif\" font-size=\"13\" lengthAdjust=\"spacingAndGlyphs\" textLength=\"64\" x=\"371\" y=\"180.0669\">«depend»</text></a><!--MD5=[1b7591eae5389033d8d09a9d6721a717]\n",
       "link E4 to E5--><a href=\"psysml:d4b689e0-de38-42ab-a0b3-2a8bf82e0669\" target=\"_top\" title=\"psysml:d4b689e0-de38-42ab-a0b3-2a8bf82e0669\" xlink:actuate=\"onRequest\" xlink:href=\"psysml:d4b689e0-de38-42ab-a0b3-2a8bf82e0669\" xlink:show=\"new\" xlink:title=\"psysml:d4b689e0-de38-42ab-a0b3-2a8bf82e0669\" xlink:type=\"simple\"><path d=\"M370,267.1 C370,286.8 370,314.22 370,335.73 \" fill=\"none\" id=\"E4-&gt;E5\" style=\"stroke: #A80036; stroke-width: 1.0; stroke-dasharray: 7.0,7.0;\"/><polygon fill=\"#A80036\" points=\"370,343.95,373,335.95,367,335.95,370,343.95\" style=\"stroke: #A80036; stroke-width: 1.0;\"/><text fill=\"#000000\" font-family=\"sans-serif\" font-size=\"13\" lengthAdjust=\"spacingAndGlyphs\" textLength=\"64\" x=\"371\" y=\"310.0669\">«depend»</text></a><!--MD5=[c5e8897d989ce984f93528998a7150fe]\n",
       "link E8 to E6--><a href=\"psysml:c74e1bf4-ee72-40a7-b163-07732e38ed67\" target=\"_top\" title=\"psysml:c74e1bf4-ee72-40a7-b163-07732e38ed67\" xlink:actuate=\"onRequest\" xlink:href=\"psysml:c74e1bf4-ee72-40a7-b163-07732e38ed67\" xlink:show=\"new\" xlink:title=\"psysml:c74e1bf4-ee72-40a7-b163-07732e38ed67\" xlink:type=\"simple\"><path d=\"M106.44,133.76 C97.3,143.01 88.09,154.51 83,167 C77.6,180.23 76.4,195.98 76.73,209.41 \" fill=\"none\" id=\"E8-&gt;E6\" style=\"stroke: #A80036; stroke-width: 1.0; stroke-dasharray: 7.0,7.0;\"/><polygon fill=\"#A80036\" points=\"77.12,217.43,79.7306,209.2946,73.7375,209.584,77.12,217.43\" style=\"stroke: #A80036; stroke-width: 1.0;\"/><text fill=\"#000000\" font-family=\"sans-serif\" font-size=\"13\" lengthAdjust=\"spacingAndGlyphs\" textLength=\"64\" x=\"84\" y=\"180.0669\">«depend»</text></a><!--MD5=[bfa3c8b0d15052fdf50ae9310b491027]\n",
       "link E8 to E7--><a href=\"psysml:c74e1bf4-ee72-40a7-b163-07732e38ed67\" target=\"_top\" title=\"psysml:c74e1bf4-ee72-40a7-b163-07732e38ed67\" xlink:actuate=\"onRequest\" xlink:href=\"psysml:c74e1bf4-ee72-40a7-b163-07732e38ed67\" xlink:show=\"new\" xlink:title=\"psysml:c74e1bf4-ee72-40a7-b163-07732e38ed67\" xlink:type=\"simple\"><path d=\"M146.58,133.5 C159.69,154.75 179.63,187.05 194.05,210.41 \" fill=\"none\" id=\"E8-&gt;E7\" style=\"stroke: #A80036; stroke-width: 1.0; stroke-dasharray: 7.0,7.0;\"/><polygon fill=\"#A80036\" points=\"198.33,217.35,196.6785,208.9671,191.5737,212.1201,198.33,217.35\" style=\"stroke: #A80036; stroke-width: 1.0;\"/><text fill=\"#000000\" font-family=\"sans-serif\" font-size=\"13\" lengthAdjust=\"spacingAndGlyphs\" textLength=\"64\" x=\"178\" y=\"180.0669\">«depend»</text></a><!--MD5=[1062c3f3b7c23ce4e4aab97b477b2c44]\n",
       "@startuml\r\n",
       " \r\n",
       "package \"DependencyTest\" as E1  [[psysml:f9a8e327-3c68-43cc-8fc4-f0fda4441472 ]]  {\r\n",
       "package \"System\" as E2  [[psysml:5e0f80f7-1058-4b47-9f4f-e59769b1dff5 ]]  {\r\n",
       "package \"Application Layer\" as E3  [[psysml:d7cd1111-165d-4c09-9c1d-1c6e69d6b628 ]]  {\r\n",
       "}\r\n",
       "package \"Service Layer\" as E4  [[psysml:4fd532ef-c056-48ed-b57e-c34d41c7d9b0 ]]  {\r\n",
       "}\r\n",
       "package \"Data Layer\" as E5  [[psysml:f10bbfff-f917-435f-bbe7-eedf9b14a34c ]]  {\r\n",
       "}\r\n",
       "}\r\n",
       "comp usage \"x\" as E6  <<(U,orange)attribute>> [[psysml:52169dc2-f588-4d36-bb4d-934125a8defa ]] {\r\n",
       "}\r\n",
       "comp usage \"y\" as E7  <<(U,orange)attribute>> [[psysml:638ee95e-a488-4c6b-8aa7-581f6cf4c2fe ]] {\r\n",
       "}\r\n",
       "comp usage \"z\" as E8  <<(U,orange)attribute>> [[psysml:267f67df-ceab-4f9b-9288-379f8b6d76cc ]] {\r\n",
       "}\r\n",
       "E3 ..>> E4 [[psysml:d6fef634-817c-4ef1-96de-f37bb594aaea ]] : <<depend>>\r\n",
       "E4 ..>> E5 [[psysml:d4b689e0-de38-42ab-a0b3-2a8bf82e0669 ]] : <<depend>>\r\n",
       "E8 ..>> E6 [[psysml:c74e1bf4-ee72-40a7-b163-07732e38ed67 ]] : <<depend>>\r\n",
       "E8 ..>> E7 [[psysml:c74e1bf4-ee72-40a7-b163-07732e38ed67 ]] : <<depend>>\r\n",
       "}\r\n",
       "@enduml\r\n",
       "\n",
       "PlantUML version 1.2020.13(Sat Jun 13 12:26:38 UTC 2020)\n",
       "(EPL source distribution)\n",
       "Java Runtime: OpenJDK Runtime Environment\n",
       "JVM: OpenJDK 64-Bit Server VM\n",
       "Default Encoding: UTF-8\n",
       "Language: en\n",
       "Country: null\n",
       "--></g></svg>"
      ]
     },
     "execution_count": 36,
     "metadata": {},
     "output_type": "execute_result"
    }
   ],
   "source": [
    "%viz --style=\"PLANTUML\" --view=\"MIXED\" \"DependencyTest\""
   ]
  },
  {
   "cell_type": "code",
   "execution_count": 37,
   "id": "10835acc",
   "metadata": {
    "execution": {
     "iopub.execute_input": "2021-05-27T06:11:48.621925Z",
     "iopub.status.busy": "2021-05-27T06:11:48.621564Z",
     "iopub.status.idle": "2021-05-27T06:11:48.653734Z",
     "shell.execute_reply": "2021-05-27T06:11:48.652508Z"
    }
   },
   "outputs": [
    {
     "data": {
      "image/svg+xml": [
       "<?xml version=\"1.0\" encoding=\"UTF-8\" standalone=\"no\"?><svg xmlns=\"http://www.w3.org/2000/svg\" xmlns:xlink=\"http://www.w3.org/1999/xlink\" contentScriptType=\"application/ecmascript\" contentStyleType=\"text/css\" height=\"449px\" preserveAspectRatio=\"none\" style=\"width:489px;height:449px;\" version=\"1.1\" viewBox=\"0 0 489 449\" width=\"489px\" zoomAndPan=\"magnify\"><defs/><g><!--MD5=[fbc87193dbaf4d95561dea2c320d4a47]\n",
       "cluster E1--><a href=\"psysml:f9a8e327-3c68-43cc-8fc4-f0fda4441472\" target=\"_top\" title=\"psysml:f9a8e327-3c68-43cc-8fc4-f0fda4441472\" xlink:actuate=\"onRequest\" xlink:href=\"psysml:f9a8e327-3c68-43cc-8fc4-f0fda4441472\" xlink:show=\"new\" xlink:title=\"psysml:f9a8e327-3c68-43cc-8fc4-f0fda4441472\" xlink:type=\"simple\"><polygon fill=\"#FFFFFF\" points=\"16,6,156,6,163,28.2969,467,28.2969,467,437,16,437,16,6\" style=\"stroke: #000000; stroke-width: 1.5;\"/><line style=\"stroke: #000000; stroke-width: 1.5;\" x1=\"16\" x2=\"163\" y1=\"28.2969\" y2=\"28.2969\"/><text fill=\"#000000\" font-family=\"sans-serif\" font-size=\"14\" font-weight=\"bold\" lengthAdjust=\"spacingAndGlyphs\" textLength=\"134\" x=\"20\" y=\"20.9951\">DependencyTest</text></a><!--MD5=[e4f7fae6ed58524ba242bb0b0d3be6b7]\n",
       "cluster E2--><a href=\"psysml:5e0f80f7-1058-4b47-9f4f-e59769b1dff5\" target=\"_top\" title=\"psysml:5e0f80f7-1058-4b47-9f4f-e59769b1dff5\" xlink:actuate=\"onRequest\" xlink:href=\"psysml:5e0f80f7-1058-4b47-9f4f-e59769b1dff5\" xlink:show=\"new\" xlink:title=\"psysml:5e0f80f7-1058-4b47-9f4f-e59769b1dff5\" xlink:type=\"simple\"><polygon fill=\"#FFFFFF\" points=\"255,49,319,49,326,71.2969,443,71.2969,443,413,255,413,255,49\" style=\"stroke: #000000; stroke-width: 1.5;\"/><line style=\"stroke: #000000; stroke-width: 1.5;\" x1=\"255\" x2=\"326\" y1=\"71.2969\" y2=\"71.2969\"/><text fill=\"#000000\" font-family=\"sans-serif\" font-size=\"14\" font-weight=\"bold\" lengthAdjust=\"spacingAndGlyphs\" textLength=\"58\" x=\"259\" y=\"63.9951\">System</text></a><!--MD5=[60a26617385b1d2d0262a64233df1f8d]\n",
       "class E6--><a href=\"psysml:52169dc2-f588-4d36-bb4d-934125a8defa\" target=\"_top\" title=\"psysml:52169dc2-f588-4d36-bb4d-934125a8defa\" xlink:actuate=\"onRequest\" xlink:href=\"psysml:52169dc2-f588-4d36-bb4d-934125a8defa\" xlink:show=\"new\" xlink:title=\"psysml:52169dc2-f588-4d36-bb4d-934125a8defa\" xlink:type=\"simple\"><rect fill=\"#FFFFFF\" height=\"45.9375\" id=\"E6\" rx=\"10\" ry=\"10\" style=\"stroke: #383838; stroke-width: 1.5;\" width=\"71\" x=\"32.5\" y=\"217.5\"/><text fill=\"#000000\" font-family=\"sans-serif\" font-size=\"12\" font-style=\"italic\" lengthAdjust=\"spacingAndGlyphs\" textLength=\"69\" x=\"33.5\" y=\"233.6387\">«attribute»</text><text fill=\"#000000\" font-family=\"sans-serif\" font-size=\"12\" lengthAdjust=\"spacingAndGlyphs\" textLength=\"6\" x=\"65\" y=\"247.6074\">x</text><line style=\"stroke: #383838; stroke-width: 1.5;\" x1=\"33.5\" x2=\"102.5\" y1=\"255.4375\" y2=\"255.4375\"/></a><!--MD5=[2156ba9850f5573cc1fc38a6a4b2f02b]\n",
       "class E7--><a href=\"psysml:638ee95e-a488-4c6b-8aa7-581f6cf4c2fe\" target=\"_top\" title=\"psysml:638ee95e-a488-4c6b-8aa7-581f6cf4c2fe\" xlink:actuate=\"onRequest\" xlink:href=\"psysml:638ee95e-a488-4c6b-8aa7-581f6cf4c2fe\" xlink:show=\"new\" xlink:title=\"psysml:638ee95e-a488-4c6b-8aa7-581f6cf4c2fe\" xlink:type=\"simple\"><rect fill=\"#FFFFFF\" height=\"45.9375\" id=\"E7\" rx=\"10\" ry=\"10\" style=\"stroke: #383838; stroke-width: 1.5;\" width=\"71\" x=\"138.5\" y=\"217.5\"/><text fill=\"#000000\" font-family=\"sans-serif\" font-size=\"12\" font-style=\"italic\" lengthAdjust=\"spacingAndGlyphs\" textLength=\"69\" x=\"139.5\" y=\"233.6387\">«attribute»</text><text fill=\"#000000\" font-family=\"sans-serif\" font-size=\"12\" lengthAdjust=\"spacingAndGlyphs\" textLength=\"6\" x=\"171\" y=\"247.6074\">y</text><line style=\"stroke: #383838; stroke-width: 1.5;\" x1=\"139.5\" x2=\"208.5\" y1=\"255.4375\" y2=\"255.4375\"/></a><!--MD5=[b9389687b975829384b498ac4b7476b2]\n",
       "class E8--><a href=\"psysml:267f67df-ceab-4f9b-9288-379f8b6d76cc\" target=\"_top\" title=\"psysml:267f67df-ceab-4f9b-9288-379f8b6d76cc\" xlink:actuate=\"onRequest\" xlink:href=\"psysml:267f67df-ceab-4f9b-9288-379f8b6d76cc\" xlink:show=\"new\" xlink:title=\"psysml:267f67df-ceab-4f9b-9288-379f8b6d76cc\" xlink:type=\"simple\"><rect fill=\"#FFFFFF\" height=\"45.9375\" id=\"E8\" rx=\"10\" ry=\"10\" style=\"stroke: #383838; stroke-width: 1.5;\" width=\"71\" x=\"84.5\" y=\"87.5\"/><text fill=\"#000000\" font-family=\"sans-serif\" font-size=\"12\" font-style=\"italic\" lengthAdjust=\"spacingAndGlyphs\" textLength=\"69\" x=\"85.5\" y=\"103.6387\">«attribute»</text><text fill=\"#000000\" font-family=\"sans-serif\" font-size=\"12\" lengthAdjust=\"spacingAndGlyphs\" textLength=\"5\" x=\"117.5\" y=\"117.6074\">z</text><line style=\"stroke: #383838; stroke-width: 1.5;\" x1=\"85.5\" x2=\"154.5\" y1=\"125.4375\" y2=\"125.4375\"/></a><a href=\"psysml:d7cd1111-165d-4c09-9c1d-1c6e69d6b628\" target=\"_top\" title=\"psysml:d7cd1111-165d-4c09-9c1d-1c6e69d6b628\" xlink:actuate=\"onRequest\" xlink:href=\"psysml:d7cd1111-165d-4c09-9c1d-1c6e69d6b628\" xlink:show=\"new\" xlink:title=\"psysml:d7cd1111-165d-4c09-9c1d-1c6e69d6b628\" xlink:type=\"simple\"><polygon fill=\"#FFFFFF\" points=\"271,84,413,84,420,106.2969,427,106.2969,427,136.5938,271,136.5938,271,84\" style=\"stroke: #000000; stroke-width: 1.5;\"/><line style=\"stroke: #000000; stroke-width: 1.5;\" x1=\"271\" x2=\"420\" y1=\"106.2969\" y2=\"106.2969\"/><text fill=\"#000000\" font-family=\"sans-serif\" font-size=\"14\" font-weight=\"bold\" lengthAdjust=\"spacingAndGlyphs\" textLength=\"136\" x=\"275\" y=\"98.9951\">Application Layer</text></a><a href=\"psysml:4fd532ef-c056-48ed-b57e-c34d41c7d9b0\" target=\"_top\" title=\"psysml:4fd532ef-c056-48ed-b57e-c34d41c7d9b0\" xlink:actuate=\"onRequest\" xlink:href=\"psysml:4fd532ef-c056-48ed-b57e-c34d41c7d9b0\" xlink:show=\"new\" xlink:title=\"psysml:4fd532ef-c056-48ed-b57e-c34d41c7d9b0\" xlink:type=\"simple\"><polygon fill=\"#FFFFFF\" points=\"285,214,399,214,406,236.2969,413,236.2969,413,266.5938,285,266.5938,285,214\" style=\"stroke: #000000; stroke-width: 1.5;\"/><line style=\"stroke: #000000; stroke-width: 1.5;\" x1=\"285\" x2=\"406\" y1=\"236.2969\" y2=\"236.2969\"/><text fill=\"#000000\" font-family=\"sans-serif\" font-size=\"14\" font-weight=\"bold\" lengthAdjust=\"spacingAndGlyphs\" textLength=\"108\" x=\"289\" y=\"228.9951\">Service Layer</text></a><a href=\"psysml:f10bbfff-f917-435f-bbe7-eedf9b14a34c\" target=\"_top\" title=\"psysml:f10bbfff-f917-435f-bbe7-eedf9b14a34c\" xlink:actuate=\"onRequest\" xlink:href=\"psysml:f10bbfff-f917-435f-bbe7-eedf9b14a34c\" xlink:show=\"new\" xlink:title=\"psysml:f10bbfff-f917-435f-bbe7-eedf9b14a34c\" xlink:type=\"simple\"><polygon fill=\"#FFFFFF\" points=\"297,344,387,344,394,366.2969,401,366.2969,401,396.5938,297,396.5938,297,344\" style=\"stroke: #000000; stroke-width: 1.5;\"/><line style=\"stroke: #000000; stroke-width: 1.5;\" x1=\"297\" x2=\"394\" y1=\"366.2969\" y2=\"366.2969\"/><text fill=\"#000000\" font-family=\"sans-serif\" font-size=\"14\" font-weight=\"bold\" lengthAdjust=\"spacingAndGlyphs\" textLength=\"84\" x=\"301\" y=\"358.9951\">Data Layer</text></a><!--MD5=[af87c684e3b0d8be13c1a698a818ef1e]\n",
       "link E3 to E4--><a href=\"psysml:d6fef634-817c-4ef1-96de-f37bb594aaea\" target=\"_top\" title=\"psysml:d6fef634-817c-4ef1-96de-f37bb594aaea\" xlink:actuate=\"onRequest\" xlink:href=\"psysml:d6fef634-817c-4ef1-96de-f37bb594aaea\" xlink:show=\"new\" xlink:title=\"psysml:d6fef634-817c-4ef1-96de-f37bb594aaea\" xlink:type=\"simple\"><path d=\"M349,137.1 C349,156.8 349,184.22 349,205.73 \" fill=\"none\" id=\"E3-&gt;E4\" style=\"stroke: #383838; stroke-width: 1.0; stroke-dasharray: 7.0,7.0;\"/><polygon fill=\"#383838\" points=\"349,213.95,352,205.95,346,205.95,349,213.95\" style=\"stroke: #383838; stroke-width: 1.0;\"/><text fill=\"#000000\" font-family=\"sans-serif\" font-size=\"13\" lengthAdjust=\"spacingAndGlyphs\" textLength=\"64\" x=\"350\" y=\"180.0669\">«depend»</text></a><!--MD5=[1b7591eae5389033d8d09a9d6721a717]\n",
       "link E4 to E5--><a href=\"psysml:d4b689e0-de38-42ab-a0b3-2a8bf82e0669\" target=\"_top\" title=\"psysml:d4b689e0-de38-42ab-a0b3-2a8bf82e0669\" xlink:actuate=\"onRequest\" xlink:href=\"psysml:d4b689e0-de38-42ab-a0b3-2a8bf82e0669\" xlink:show=\"new\" xlink:title=\"psysml:d4b689e0-de38-42ab-a0b3-2a8bf82e0669\" xlink:type=\"simple\"><path d=\"M349,267.1 C349,286.8 349,314.22 349,335.73 \" fill=\"none\" id=\"E4-&gt;E5\" style=\"stroke: #383838; stroke-width: 1.0; stroke-dasharray: 7.0,7.0;\"/><polygon fill=\"#383838\" points=\"349,343.95,352,335.95,346,335.95,349,343.95\" style=\"stroke: #383838; stroke-width: 1.0;\"/><text fill=\"#000000\" font-family=\"sans-serif\" font-size=\"13\" lengthAdjust=\"spacingAndGlyphs\" textLength=\"64\" x=\"350\" y=\"310.0669\">«depend»</text></a><!--MD5=[c5e8897d989ce984f93528998a7150fe]\n",
       "link E8 to E6--><a href=\"psysml:c74e1bf4-ee72-40a7-b163-07732e38ed67\" target=\"_top\" title=\"psysml:c74e1bf4-ee72-40a7-b163-07732e38ed67\" xlink:actuate=\"onRequest\" xlink:href=\"psysml:c74e1bf4-ee72-40a7-b163-07732e38ed67\" xlink:show=\"new\" xlink:title=\"psysml:c74e1bf4-ee72-40a7-b163-07732e38ed67\" xlink:type=\"simple\"><path d=\"M89.42,133.6 C79.35,142.68 69.37,154.11 64,167 C58.5,180.2 58.66,195.94 60.54,209.38 \" fill=\"none\" id=\"E8-&gt;E6\" style=\"stroke: #383838; stroke-width: 1.0; stroke-dasharray: 7.0,7.0;\"/><polygon fill=\"#383838\" points=\"61.9,217.4,63.517,209.0104,57.6018,210.0159,61.9,217.4\" style=\"stroke: #383838; stroke-width: 1.0;\"/><text fill=\"#000000\" font-family=\"sans-serif\" font-size=\"13\" lengthAdjust=\"spacingAndGlyphs\" textLength=\"64\" x=\"65\" y=\"180.0669\">«depend»</text></a><!--MD5=[bfa3c8b0d15052fdf50ae9310b491027]\n",
       "link E8 to E7--><a href=\"psysml:c74e1bf4-ee72-40a7-b163-07732e38ed67\" target=\"_top\" title=\"psysml:c74e1bf4-ee72-40a7-b163-07732e38ed67\" xlink:actuate=\"onRequest\" xlink:href=\"psysml:c74e1bf4-ee72-40a7-b163-07732e38ed67\" xlink:show=\"new\" xlink:title=\"psysml:c74e1bf4-ee72-40a7-b163-07732e38ed67\" xlink:type=\"simple\"><path d=\"M129.28,133.5 C138.17,154.57 151.64,186.5 161.47,209.81 \" fill=\"none\" id=\"E8-&gt;E7\" style=\"stroke: #383838; stroke-width: 1.0; stroke-dasharray: 7.0,7.0;\"/><polygon fill=\"#383838\" points=\"164.66,217.35,164.3241,208.8126,158.7933,211.1385,164.66,217.35\" style=\"stroke: #383838; stroke-width: 1.0;\"/><text fill=\"#000000\" font-family=\"sans-serif\" font-size=\"13\" lengthAdjust=\"spacingAndGlyphs\" textLength=\"64\" x=\"151\" y=\"180.0669\">«depend»</text></a><!--MD5=[59c853afe22770b164b1bca3786be158]\n",
       "@startuml\r\n",
       "skinparam monochrome true\r\n",
       "skinparam classbackgroundcolor white\r\n",
       "skinparam shadowing false\r\n",
       "skinparam wrapWidth 300\r\n",
       "hide circle\r\n",
       "\r\n",
       "package \"DependencyTest\" as E1  [[psysml:f9a8e327-3c68-43cc-8fc4-f0fda4441472 ]]  {\r\n",
       "package \"System\" as E2  [[psysml:5e0f80f7-1058-4b47-9f4f-e59769b1dff5 ]]  {\r\n",
       "package \"Application Layer\" as E3  [[psysml:d7cd1111-165d-4c09-9c1d-1c6e69d6b628 ]]  {\r\n",
       "}\r\n",
       "package \"Service Layer\" as E4  [[psysml:4fd532ef-c056-48ed-b57e-c34d41c7d9b0 ]]  {\r\n",
       "}\r\n",
       "package \"Data Layer\" as E5  [[psysml:f10bbfff-f917-435f-bbe7-eedf9b14a34c ]]  {\r\n",
       "}\r\n",
       "}\r\n",
       "comp usage \"x\" as E6  <<(T,blue)attribute>> [[psysml:52169dc2-f588-4d36-bb4d-934125a8defa ]] {\r\n",
       "}\r\n",
       "comp usage \"y\" as E7  <<(T,blue)attribute>> [[psysml:638ee95e-a488-4c6b-8aa7-581f6cf4c2fe ]] {\r\n",
       "}\r\n",
       "comp usage \"z\" as E8  <<(T,blue)attribute>> [[psysml:267f67df-ceab-4f9b-9288-379f8b6d76cc ]] {\r\n",
       "}\r\n",
       "E3 ..>> E4 [[psysml:d6fef634-817c-4ef1-96de-f37bb594aaea ]] : <<depend>>\r\n",
       "E4 ..>> E5 [[psysml:d4b689e0-de38-42ab-a0b3-2a8bf82e0669 ]] : <<depend>>\r\n",
       "E8 ..>> E6 [[psysml:c74e1bf4-ee72-40a7-b163-07732e38ed67 ]] : <<depend>>\r\n",
       "E8 ..>> E7 [[psysml:c74e1bf4-ee72-40a7-b163-07732e38ed67 ]] : <<depend>>\r\n",
       "}\r\n",
       "@enduml\r\n",
       "\n",
       "PlantUML version 1.2020.13(Sat Jun 13 12:26:38 UTC 2020)\n",
       "(EPL source distribution)\n",
       "Java Runtime: OpenJDK Runtime Environment\n",
       "JVM: OpenJDK 64-Bit Server VM\n",
       "Default Encoding: UTF-8\n",
       "Language: en\n",
       "Country: null\n",
       "--></g></svg>"
      ]
     },
     "execution_count": 37,
     "metadata": {},
     "output_type": "execute_result"
    }
   ],
   "source": [
    "%viz --style=\"DEFAULT\" --view=\"Default\" \"DependencyTest\""
   ]
  },
  {
   "cell_type": "code",
   "execution_count": 38,
   "id": "5686ecc2",
   "metadata": {
    "execution": {
     "iopub.execute_input": "2021-05-27T06:11:48.704079Z",
     "iopub.status.busy": "2021-05-27T06:11:48.703713Z",
     "iopub.status.idle": "2021-05-27T06:11:48.733023Z",
     "shell.execute_reply": "2021-05-27T06:11:48.731834Z"
    }
   },
   "outputs": [
    {
     "data": {
      "image/svg+xml": [
       "<?xml version=\"1.0\" encoding=\"UTF-8\" standalone=\"no\"?><svg xmlns=\"http://www.w3.org/2000/svg\" xmlns:xlink=\"http://www.w3.org/1999/xlink\" contentScriptType=\"application/ecmascript\" contentStyleType=\"text/css\" height=\"449px\" preserveAspectRatio=\"none\" style=\"width:489px;height:449px;\" version=\"1.1\" viewBox=\"0 0 489 449\" width=\"489px\" zoomAndPan=\"magnify\"><defs/><g><!--MD5=[fbc87193dbaf4d95561dea2c320d4a47]\n",
       "cluster E1--><a href=\"psysml:f9a8e327-3c68-43cc-8fc4-f0fda4441472\" target=\"_top\" title=\"psysml:f9a8e327-3c68-43cc-8fc4-f0fda4441472\" xlink:actuate=\"onRequest\" xlink:href=\"psysml:f9a8e327-3c68-43cc-8fc4-f0fda4441472\" xlink:show=\"new\" xlink:title=\"psysml:f9a8e327-3c68-43cc-8fc4-f0fda4441472\" xlink:type=\"simple\"><polygon fill=\"#FFFFFF\" points=\"16,6,156,6,163,28.2969,467,28.2969,467,437,16,437,16,6\" style=\"stroke: #000000; stroke-width: 1.5;\"/><line style=\"stroke: #000000; stroke-width: 1.5;\" x1=\"16\" x2=\"163\" y1=\"28.2969\" y2=\"28.2969\"/><text fill=\"#000000\" font-family=\"sans-serif\" font-size=\"14\" font-weight=\"bold\" lengthAdjust=\"spacingAndGlyphs\" textLength=\"134\" x=\"20\" y=\"20.9951\">DependencyTest</text></a><!--MD5=[e4f7fae6ed58524ba242bb0b0d3be6b7]\n",
       "cluster E2--><a href=\"psysml:5e0f80f7-1058-4b47-9f4f-e59769b1dff5\" target=\"_top\" title=\"psysml:5e0f80f7-1058-4b47-9f4f-e59769b1dff5\" xlink:actuate=\"onRequest\" xlink:href=\"psysml:5e0f80f7-1058-4b47-9f4f-e59769b1dff5\" xlink:show=\"new\" xlink:title=\"psysml:5e0f80f7-1058-4b47-9f4f-e59769b1dff5\" xlink:type=\"simple\"><polygon fill=\"#FFFFFF\" points=\"255,49,319,49,326,71.2969,443,71.2969,443,413,255,413,255,49\" style=\"stroke: #000000; stroke-width: 1.5;\"/><line style=\"stroke: #000000; stroke-width: 1.5;\" x1=\"255\" x2=\"326\" y1=\"71.2969\" y2=\"71.2969\"/><text fill=\"#000000\" font-family=\"sans-serif\" font-size=\"14\" font-weight=\"bold\" lengthAdjust=\"spacingAndGlyphs\" textLength=\"58\" x=\"259\" y=\"63.9951\">System</text></a><!--MD5=[60a26617385b1d2d0262a64233df1f8d]\n",
       "class E6--><a href=\"psysml:52169dc2-f588-4d36-bb4d-934125a8defa\" target=\"_top\" title=\"psysml:52169dc2-f588-4d36-bb4d-934125a8defa\" xlink:actuate=\"onRequest\" xlink:href=\"psysml:52169dc2-f588-4d36-bb4d-934125a8defa\" xlink:show=\"new\" xlink:title=\"psysml:52169dc2-f588-4d36-bb4d-934125a8defa\" xlink:type=\"simple\"><rect fill=\"#FFFFFF\" height=\"45.9375\" id=\"E6\" rx=\"10\" ry=\"10\" style=\"stroke: #383838; stroke-width: 1.5;\" width=\"71\" x=\"32.5\" y=\"217.5\"/><text fill=\"#000000\" font-family=\"sans-serif\" font-size=\"12\" font-style=\"italic\" lengthAdjust=\"spacingAndGlyphs\" textLength=\"69\" x=\"33.5\" y=\"233.6387\">«attribute»</text><text fill=\"#000000\" font-family=\"sans-serif\" font-size=\"12\" lengthAdjust=\"spacingAndGlyphs\" textLength=\"6\" x=\"65\" y=\"247.6074\">x</text><line style=\"stroke: #383838; stroke-width: 1.5;\" x1=\"33.5\" x2=\"102.5\" y1=\"255.4375\" y2=\"255.4375\"/></a><!--MD5=[2156ba9850f5573cc1fc38a6a4b2f02b]\n",
       "class E7--><a href=\"psysml:638ee95e-a488-4c6b-8aa7-581f6cf4c2fe\" target=\"_top\" title=\"psysml:638ee95e-a488-4c6b-8aa7-581f6cf4c2fe\" xlink:actuate=\"onRequest\" xlink:href=\"psysml:638ee95e-a488-4c6b-8aa7-581f6cf4c2fe\" xlink:show=\"new\" xlink:title=\"psysml:638ee95e-a488-4c6b-8aa7-581f6cf4c2fe\" xlink:type=\"simple\"><rect fill=\"#FFFFFF\" height=\"45.9375\" id=\"E7\" rx=\"10\" ry=\"10\" style=\"stroke: #383838; stroke-width: 1.5;\" width=\"71\" x=\"138.5\" y=\"217.5\"/><text fill=\"#000000\" font-family=\"sans-serif\" font-size=\"12\" font-style=\"italic\" lengthAdjust=\"spacingAndGlyphs\" textLength=\"69\" x=\"139.5\" y=\"233.6387\">«attribute»</text><text fill=\"#000000\" font-family=\"sans-serif\" font-size=\"12\" lengthAdjust=\"spacingAndGlyphs\" textLength=\"6\" x=\"171\" y=\"247.6074\">y</text><line style=\"stroke: #383838; stroke-width: 1.5;\" x1=\"139.5\" x2=\"208.5\" y1=\"255.4375\" y2=\"255.4375\"/></a><!--MD5=[b9389687b975829384b498ac4b7476b2]\n",
       "class E8--><a href=\"psysml:267f67df-ceab-4f9b-9288-379f8b6d76cc\" target=\"_top\" title=\"psysml:267f67df-ceab-4f9b-9288-379f8b6d76cc\" xlink:actuate=\"onRequest\" xlink:href=\"psysml:267f67df-ceab-4f9b-9288-379f8b6d76cc\" xlink:show=\"new\" xlink:title=\"psysml:267f67df-ceab-4f9b-9288-379f8b6d76cc\" xlink:type=\"simple\"><rect fill=\"#FFFFFF\" height=\"45.9375\" id=\"E8\" rx=\"10\" ry=\"10\" style=\"stroke: #383838; stroke-width: 1.5;\" width=\"71\" x=\"84.5\" y=\"87.5\"/><text fill=\"#000000\" font-family=\"sans-serif\" font-size=\"12\" font-style=\"italic\" lengthAdjust=\"spacingAndGlyphs\" textLength=\"69\" x=\"85.5\" y=\"103.6387\">«attribute»</text><text fill=\"#000000\" font-family=\"sans-serif\" font-size=\"12\" lengthAdjust=\"spacingAndGlyphs\" textLength=\"5\" x=\"117.5\" y=\"117.6074\">z</text><line style=\"stroke: #383838; stroke-width: 1.5;\" x1=\"85.5\" x2=\"154.5\" y1=\"125.4375\" y2=\"125.4375\"/></a><a href=\"psysml:d7cd1111-165d-4c09-9c1d-1c6e69d6b628\" target=\"_top\" title=\"psysml:d7cd1111-165d-4c09-9c1d-1c6e69d6b628\" xlink:actuate=\"onRequest\" xlink:href=\"psysml:d7cd1111-165d-4c09-9c1d-1c6e69d6b628\" xlink:show=\"new\" xlink:title=\"psysml:d7cd1111-165d-4c09-9c1d-1c6e69d6b628\" xlink:type=\"simple\"><polygon fill=\"#FFFFFF\" points=\"271,84,413,84,420,106.2969,427,106.2969,427,136.5938,271,136.5938,271,84\" style=\"stroke: #000000; stroke-width: 1.5;\"/><line style=\"stroke: #000000; stroke-width: 1.5;\" x1=\"271\" x2=\"420\" y1=\"106.2969\" y2=\"106.2969\"/><text fill=\"#000000\" font-family=\"sans-serif\" font-size=\"14\" font-weight=\"bold\" lengthAdjust=\"spacingAndGlyphs\" textLength=\"136\" x=\"275\" y=\"98.9951\">Application Layer</text></a><a href=\"psysml:4fd532ef-c056-48ed-b57e-c34d41c7d9b0\" target=\"_top\" title=\"psysml:4fd532ef-c056-48ed-b57e-c34d41c7d9b0\" xlink:actuate=\"onRequest\" xlink:href=\"psysml:4fd532ef-c056-48ed-b57e-c34d41c7d9b0\" xlink:show=\"new\" xlink:title=\"psysml:4fd532ef-c056-48ed-b57e-c34d41c7d9b0\" xlink:type=\"simple\"><polygon fill=\"#FFFFFF\" points=\"285,214,399,214,406,236.2969,413,236.2969,413,266.5938,285,266.5938,285,214\" style=\"stroke: #000000; stroke-width: 1.5;\"/><line style=\"stroke: #000000; stroke-width: 1.5;\" x1=\"285\" x2=\"406\" y1=\"236.2969\" y2=\"236.2969\"/><text fill=\"#000000\" font-family=\"sans-serif\" font-size=\"14\" font-weight=\"bold\" lengthAdjust=\"spacingAndGlyphs\" textLength=\"108\" x=\"289\" y=\"228.9951\">Service Layer</text></a><a href=\"psysml:f10bbfff-f917-435f-bbe7-eedf9b14a34c\" target=\"_top\" title=\"psysml:f10bbfff-f917-435f-bbe7-eedf9b14a34c\" xlink:actuate=\"onRequest\" xlink:href=\"psysml:f10bbfff-f917-435f-bbe7-eedf9b14a34c\" xlink:show=\"new\" xlink:title=\"psysml:f10bbfff-f917-435f-bbe7-eedf9b14a34c\" xlink:type=\"simple\"><polygon fill=\"#FFFFFF\" points=\"297,344,387,344,394,366.2969,401,366.2969,401,396.5938,297,396.5938,297,344\" style=\"stroke: #000000; stroke-width: 1.5;\"/><line style=\"stroke: #000000; stroke-width: 1.5;\" x1=\"297\" x2=\"394\" y1=\"366.2969\" y2=\"366.2969\"/><text fill=\"#000000\" font-family=\"sans-serif\" font-size=\"14\" font-weight=\"bold\" lengthAdjust=\"spacingAndGlyphs\" textLength=\"84\" x=\"301\" y=\"358.9951\">Data Layer</text></a><!--MD5=[af87c684e3b0d8be13c1a698a818ef1e]\n",
       "link E3 to E4--><a href=\"psysml:d6fef634-817c-4ef1-96de-f37bb594aaea\" target=\"_top\" title=\"psysml:d6fef634-817c-4ef1-96de-f37bb594aaea\" xlink:actuate=\"onRequest\" xlink:href=\"psysml:d6fef634-817c-4ef1-96de-f37bb594aaea\" xlink:show=\"new\" xlink:title=\"psysml:d6fef634-817c-4ef1-96de-f37bb594aaea\" xlink:type=\"simple\"><path d=\"M349,137.1 C349,156.8 349,184.22 349,205.73 \" fill=\"none\" id=\"E3-&gt;E4\" style=\"stroke: #383838; stroke-width: 1.0; stroke-dasharray: 7.0,7.0;\"/><polygon fill=\"#383838\" points=\"349,213.95,352,205.95,346,205.95,349,213.95\" style=\"stroke: #383838; stroke-width: 1.0;\"/><text fill=\"#000000\" font-family=\"sans-serif\" font-size=\"13\" lengthAdjust=\"spacingAndGlyphs\" textLength=\"64\" x=\"350\" y=\"180.0669\">«depend»</text></a><!--MD5=[1b7591eae5389033d8d09a9d6721a717]\n",
       "link E4 to E5--><a href=\"psysml:d4b689e0-de38-42ab-a0b3-2a8bf82e0669\" target=\"_top\" title=\"psysml:d4b689e0-de38-42ab-a0b3-2a8bf82e0669\" xlink:actuate=\"onRequest\" xlink:href=\"psysml:d4b689e0-de38-42ab-a0b3-2a8bf82e0669\" xlink:show=\"new\" xlink:title=\"psysml:d4b689e0-de38-42ab-a0b3-2a8bf82e0669\" xlink:type=\"simple\"><path d=\"M349,267.1 C349,286.8 349,314.22 349,335.73 \" fill=\"none\" id=\"E4-&gt;E5\" style=\"stroke: #383838; stroke-width: 1.0; stroke-dasharray: 7.0,7.0;\"/><polygon fill=\"#383838\" points=\"349,343.95,352,335.95,346,335.95,349,343.95\" style=\"stroke: #383838; stroke-width: 1.0;\"/><text fill=\"#000000\" font-family=\"sans-serif\" font-size=\"13\" lengthAdjust=\"spacingAndGlyphs\" textLength=\"64\" x=\"350\" y=\"310.0669\">«depend»</text></a><!--MD5=[c5e8897d989ce984f93528998a7150fe]\n",
       "link E8 to E6--><a href=\"psysml:c74e1bf4-ee72-40a7-b163-07732e38ed67\" target=\"_top\" title=\"psysml:c74e1bf4-ee72-40a7-b163-07732e38ed67\" xlink:actuate=\"onRequest\" xlink:href=\"psysml:c74e1bf4-ee72-40a7-b163-07732e38ed67\" xlink:show=\"new\" xlink:title=\"psysml:c74e1bf4-ee72-40a7-b163-07732e38ed67\" xlink:type=\"simple\"><path d=\"M89.42,133.6 C79.35,142.68 69.37,154.11 64,167 C58.5,180.2 58.66,195.94 60.54,209.38 \" fill=\"none\" id=\"E8-&gt;E6\" style=\"stroke: #383838; stroke-width: 1.0; stroke-dasharray: 7.0,7.0;\"/><polygon fill=\"#383838\" points=\"61.9,217.4,63.517,209.0104,57.6018,210.0159,61.9,217.4\" style=\"stroke: #383838; stroke-width: 1.0;\"/><text fill=\"#000000\" font-family=\"sans-serif\" font-size=\"13\" lengthAdjust=\"spacingAndGlyphs\" textLength=\"64\" x=\"65\" y=\"180.0669\">«depend»</text></a><!--MD5=[bfa3c8b0d15052fdf50ae9310b491027]\n",
       "link E8 to E7--><a href=\"psysml:c74e1bf4-ee72-40a7-b163-07732e38ed67\" target=\"_top\" title=\"psysml:c74e1bf4-ee72-40a7-b163-07732e38ed67\" xlink:actuate=\"onRequest\" xlink:href=\"psysml:c74e1bf4-ee72-40a7-b163-07732e38ed67\" xlink:show=\"new\" xlink:title=\"psysml:c74e1bf4-ee72-40a7-b163-07732e38ed67\" xlink:type=\"simple\"><path d=\"M129.28,133.5 C138.17,154.57 151.64,186.5 161.47,209.81 \" fill=\"none\" id=\"E8-&gt;E7\" style=\"stroke: #383838; stroke-width: 1.0; stroke-dasharray: 7.0,7.0;\"/><polygon fill=\"#383838\" points=\"164.66,217.35,164.3241,208.8126,158.7933,211.1385,164.66,217.35\" style=\"stroke: #383838; stroke-width: 1.0;\"/><text fill=\"#000000\" font-family=\"sans-serif\" font-size=\"13\" lengthAdjust=\"spacingAndGlyphs\" textLength=\"64\" x=\"151\" y=\"180.0669\">«depend»</text></a><!--MD5=[59c853afe22770b164b1bca3786be158]\n",
       "@startuml\r\n",
       "skinparam monochrome true\r\n",
       "skinparam classbackgroundcolor white\r\n",
       "skinparam shadowing false\r\n",
       "skinparam wrapWidth 300\r\n",
       "hide circle\r\n",
       "\r\n",
       "package \"DependencyTest\" as E1  [[psysml:f9a8e327-3c68-43cc-8fc4-f0fda4441472 ]]  {\r\n",
       "package \"System\" as E2  [[psysml:5e0f80f7-1058-4b47-9f4f-e59769b1dff5 ]]  {\r\n",
       "package \"Application Layer\" as E3  [[psysml:d7cd1111-165d-4c09-9c1d-1c6e69d6b628 ]]  {\r\n",
       "}\r\n",
       "package \"Service Layer\" as E4  [[psysml:4fd532ef-c056-48ed-b57e-c34d41c7d9b0 ]]  {\r\n",
       "}\r\n",
       "package \"Data Layer\" as E5  [[psysml:f10bbfff-f917-435f-bbe7-eedf9b14a34c ]]  {\r\n",
       "}\r\n",
       "}\r\n",
       "comp usage \"x\" as E6  <<(T,blue)attribute>> [[psysml:52169dc2-f588-4d36-bb4d-934125a8defa ]] {\r\n",
       "}\r\n",
       "comp usage \"y\" as E7  <<(T,blue)attribute>> [[psysml:638ee95e-a488-4c6b-8aa7-581f6cf4c2fe ]] {\r\n",
       "}\r\n",
       "comp usage \"z\" as E8  <<(T,blue)attribute>> [[psysml:267f67df-ceab-4f9b-9288-379f8b6d76cc ]] {\r\n",
       "}\r\n",
       "E3 ..>> E4 [[psysml:d6fef634-817c-4ef1-96de-f37bb594aaea ]] : <<depend>>\r\n",
       "E4 ..>> E5 [[psysml:d4b689e0-de38-42ab-a0b3-2a8bf82e0669 ]] : <<depend>>\r\n",
       "E8 ..>> E6 [[psysml:c74e1bf4-ee72-40a7-b163-07732e38ed67 ]] : <<depend>>\r\n",
       "E8 ..>> E7 [[psysml:c74e1bf4-ee72-40a7-b163-07732e38ed67 ]] : <<depend>>\r\n",
       "}\r\n",
       "@enduml\r\n",
       "\n",
       "PlantUML version 1.2020.13(Sat Jun 13 12:26:38 UTC 2020)\n",
       "(EPL source distribution)\n",
       "Java Runtime: OpenJDK Runtime Environment\n",
       "JVM: OpenJDK 64-Bit Server VM\n",
       "Default Encoding: UTF-8\n",
       "Language: en\n",
       "Country: null\n",
       "--></g></svg>"
      ]
     },
     "execution_count": 38,
     "metadata": {},
     "output_type": "execute_result"
    }
   ],
   "source": [
    "%viz --style=\"DEFAULT\" --view=\"Tree\" \"DependencyTest\""
   ]
  },
  {
   "cell_type": "code",
   "execution_count": 39,
   "id": "8d569fa8",
   "metadata": {
    "execution": {
     "iopub.execute_input": "2021-05-27T06:11:48.783642Z",
     "iopub.status.busy": "2021-05-27T06:11:48.783322Z",
     "iopub.status.idle": "2021-05-27T06:11:48.786752Z",
     "shell.execute_reply": "2021-05-27T06:11:48.786485Z"
    }
   },
   "outputs": [
    {
     "data": {
      "image/svg+xml": [
       "<?xml version=\"1.0\" encoding=\"UTF-8\" standalone=\"no\"?><svg xmlns=\"http://www.w3.org/2000/svg\" xmlns:xlink=\"http://www.w3.org/1999/xlink\" contentScriptType=\"application/ecmascript\" contentStyleType=\"text/css\" height=\"12px\" preserveAspectRatio=\"none\" style=\"width:12px;height:12px;\" version=\"1.1\" viewBox=\"0 0 12 12\" width=\"12px\" zoomAndPan=\"magnify\"><defs/><g><!--MD5=[c5f280e076d0d61ccf4b0f27871bda1d]\n",
       "@startuml\r\n",
       "skinparam monochrome true\r\n",
       "skinparam classbackgroundcolor white\r\n",
       "skinparam shadowing false\r\n",
       "skinparam wrapWidth 300\r\n",
       "hide circle\r\n",
       "\r\n",
       "@enduml\r\n",
       "\n",
       "PlantUML version 1.2020.13(Sat Jun 13 12:26:38 UTC 2020)\n",
       "(EPL source distribution)\n",
       "Java Runtime: OpenJDK Runtime Environment\n",
       "JVM: OpenJDK 64-Bit Server VM\n",
       "Default Encoding: UTF-8\n",
       "Language: en\n",
       "Country: null\n",
       "--></g></svg>"
      ]
     },
     "execution_count": 39,
     "metadata": {},
     "output_type": "execute_result"
    }
   ],
   "source": [
    "%viz --style=\"DEFAULT\" --view=\"State\" \"DependencyTest\""
   ]
  },
  {
   "cell_type": "code",
   "execution_count": 40,
   "id": "98d6d96a",
   "metadata": {
    "execution": {
     "iopub.execute_input": "2021-05-27T06:11:48.838745Z",
     "iopub.status.busy": "2021-05-27T06:11:48.838037Z",
     "iopub.status.idle": "2021-05-27T06:11:48.865640Z",
     "shell.execute_reply": "2021-05-27T06:11:48.864463Z"
    }
   },
   "outputs": [
    {
     "data": {
      "image/svg+xml": [
       "<?xml version=\"1.0\" encoding=\"UTF-8\" standalone=\"no\"?><svg xmlns=\"http://www.w3.org/2000/svg\" xmlns:xlink=\"http://www.w3.org/1999/xlink\" contentScriptType=\"application/ecmascript\" contentStyleType=\"text/css\" height=\"361px\" preserveAspectRatio=\"none\" style=\"width:489px;height:361px;\" version=\"1.1\" viewBox=\"0 0 489 361\" width=\"489px\" zoomAndPan=\"magnify\"><defs/><g><!--MD5=[fbc87193dbaf4d95561dea2c320d4a47]\n",
       "cluster E1--><a href=\"psysml:f9a8e327-3c68-43cc-8fc4-f0fda4441472\" target=\"_top\" title=\"psysml:f9a8e327-3c68-43cc-8fc4-f0fda4441472\" xlink:actuate=\"onRequest\" xlink:href=\"psysml:f9a8e327-3c68-43cc-8fc4-f0fda4441472\" xlink:show=\"new\" xlink:title=\"psysml:f9a8e327-3c68-43cc-8fc4-f0fda4441472\" xlink:type=\"simple\"><polygon fill=\"#FFFFFF\" points=\"16,6,156,6,163,28.2969,467,28.2969,467,349,16,349,16,6\" style=\"stroke: #000000; stroke-width: 1.5;\"/><line style=\"stroke: #000000; stroke-width: 1.5;\" x1=\"16\" x2=\"163\" y1=\"28.2969\" y2=\"28.2969\"/><text fill=\"#000000\" font-family=\"sans-serif\" font-size=\"14\" font-weight=\"bold\" lengthAdjust=\"spacingAndGlyphs\" textLength=\"134\" x=\"20\" y=\"20.9951\">DependencyTest</text></a><!--MD5=[e4f7fae6ed58524ba242bb0b0d3be6b7]\n",
       "cluster E2--><a href=\"psysml:5e0f80f7-1058-4b47-9f4f-e59769b1dff5\" target=\"_top\" title=\"psysml:5e0f80f7-1058-4b47-9f4f-e59769b1dff5\" xlink:actuate=\"onRequest\" xlink:href=\"psysml:5e0f80f7-1058-4b47-9f4f-e59769b1dff5\" xlink:show=\"new\" xlink:title=\"psysml:5e0f80f7-1058-4b47-9f4f-e59769b1dff5\" xlink:type=\"simple\"><polygon fill=\"#FFFFFF\" points=\"255,49,319,49,326,71.2969,443,71.2969,443,325,255,325,255,49\" style=\"stroke: #000000; stroke-width: 1.5;\"/><line style=\"stroke: #000000; stroke-width: 1.5;\" x1=\"255\" x2=\"326\" y1=\"71.2969\" y2=\"71.2969\"/><text fill=\"#000000\" font-family=\"sans-serif\" font-size=\"14\" font-weight=\"bold\" lengthAdjust=\"spacingAndGlyphs\" textLength=\"58\" x=\"259\" y=\"63.9951\">System</text></a><!--MD5=[60a26617385b1d2d0262a64233df1f8d]\n",
       "class E6--><a href=\"psysml:52169dc2-f588-4d36-bb4d-934125a8defa\" target=\"_top\" title=\"psysml:52169dc2-f588-4d36-bb4d-934125a8defa\" xlink:actuate=\"onRequest\" xlink:href=\"psysml:52169dc2-f588-4d36-bb4d-934125a8defa\" xlink:show=\"new\" xlink:title=\"psysml:52169dc2-f588-4d36-bb4d-934125a8defa\" xlink:type=\"simple\"><rect fill=\"#FFFFFF\" height=\"45.9375\" id=\"E6\" rx=\"10\" ry=\"10\" style=\"stroke: #383838; stroke-width: 1.5;\" width=\"71\" x=\"32.5\" y=\"173.5\"/><text fill=\"#000000\" font-family=\"sans-serif\" font-size=\"12\" font-style=\"italic\" lengthAdjust=\"spacingAndGlyphs\" textLength=\"69\" x=\"33.5\" y=\"189.6387\">«attribute»</text><text fill=\"#000000\" font-family=\"sans-serif\" font-size=\"12\" lengthAdjust=\"spacingAndGlyphs\" textLength=\"6\" x=\"65\" y=\"203.6074\">x</text><line style=\"stroke: #383838; stroke-width: 1.5;\" x1=\"33.5\" x2=\"102.5\" y1=\"211.4375\" y2=\"211.4375\"/></a><!--MD5=[2156ba9850f5573cc1fc38a6a4b2f02b]\n",
       "class E7--><a href=\"psysml:638ee95e-a488-4c6b-8aa7-581f6cf4c2fe\" target=\"_top\" title=\"psysml:638ee95e-a488-4c6b-8aa7-581f6cf4c2fe\" xlink:actuate=\"onRequest\" xlink:href=\"psysml:638ee95e-a488-4c6b-8aa7-581f6cf4c2fe\" xlink:show=\"new\" xlink:title=\"psysml:638ee95e-a488-4c6b-8aa7-581f6cf4c2fe\" xlink:type=\"simple\"><rect fill=\"#FFFFFF\" height=\"45.9375\" id=\"E7\" rx=\"10\" ry=\"10\" style=\"stroke: #383838; stroke-width: 1.5;\" width=\"71\" x=\"138.5\" y=\"173.5\"/><text fill=\"#000000\" font-family=\"sans-serif\" font-size=\"12\" font-style=\"italic\" lengthAdjust=\"spacingAndGlyphs\" textLength=\"69\" x=\"139.5\" y=\"189.6387\">«attribute»</text><text fill=\"#000000\" font-family=\"sans-serif\" font-size=\"12\" lengthAdjust=\"spacingAndGlyphs\" textLength=\"6\" x=\"171\" y=\"203.6074\">y</text><line style=\"stroke: #383838; stroke-width: 1.5;\" x1=\"139.5\" x2=\"208.5\" y1=\"211.4375\" y2=\"211.4375\"/></a><!--MD5=[b9389687b975829384b498ac4b7476b2]\n",
       "class E8--><a href=\"psysml:267f67df-ceab-4f9b-9288-379f8b6d76cc\" target=\"_top\" title=\"psysml:267f67df-ceab-4f9b-9288-379f8b6d76cc\" xlink:actuate=\"onRequest\" xlink:href=\"psysml:267f67df-ceab-4f9b-9288-379f8b6d76cc\" xlink:show=\"new\" xlink:title=\"psysml:267f67df-ceab-4f9b-9288-379f8b6d76cc\" xlink:type=\"simple\"><rect fill=\"#FFFFFF\" height=\"45.9375\" id=\"E8\" rx=\"10\" ry=\"10\" style=\"stroke: #383838; stroke-width: 1.5;\" width=\"71\" x=\"84.5\" y=\"87.5\"/><text fill=\"#000000\" font-family=\"sans-serif\" font-size=\"12\" font-style=\"italic\" lengthAdjust=\"spacingAndGlyphs\" textLength=\"69\" x=\"85.5\" y=\"103.6387\">«attribute»</text><text fill=\"#000000\" font-family=\"sans-serif\" font-size=\"12\" lengthAdjust=\"spacingAndGlyphs\" textLength=\"5\" x=\"117.5\" y=\"117.6074\">z</text><line style=\"stroke: #383838; stroke-width: 1.5;\" x1=\"85.5\" x2=\"154.5\" y1=\"125.4375\" y2=\"125.4375\"/></a><a href=\"psysml:d7cd1111-165d-4c09-9c1d-1c6e69d6b628\" target=\"_top\" title=\"psysml:d7cd1111-165d-4c09-9c1d-1c6e69d6b628\" xlink:actuate=\"onRequest\" xlink:href=\"psysml:d7cd1111-165d-4c09-9c1d-1c6e69d6b628\" xlink:show=\"new\" xlink:title=\"psysml:d7cd1111-165d-4c09-9c1d-1c6e69d6b628\" xlink:type=\"simple\"><polygon fill=\"#FFFFFF\" points=\"271,84,413,84,420,106.2969,427,106.2969,427,136.5938,271,136.5938,271,84\" style=\"stroke: #000000; stroke-width: 1.5;\"/><line style=\"stroke: #000000; stroke-width: 1.5;\" x1=\"271\" x2=\"420\" y1=\"106.2969\" y2=\"106.2969\"/><text fill=\"#000000\" font-family=\"sans-serif\" font-size=\"14\" font-weight=\"bold\" lengthAdjust=\"spacingAndGlyphs\" textLength=\"136\" x=\"275\" y=\"98.9951\">Application Layer</text></a><a href=\"psysml:4fd532ef-c056-48ed-b57e-c34d41c7d9b0\" target=\"_top\" title=\"psysml:4fd532ef-c056-48ed-b57e-c34d41c7d9b0\" xlink:actuate=\"onRequest\" xlink:href=\"psysml:4fd532ef-c056-48ed-b57e-c34d41c7d9b0\" xlink:show=\"new\" xlink:title=\"psysml:4fd532ef-c056-48ed-b57e-c34d41c7d9b0\" xlink:type=\"simple\"><polygon fill=\"#FFFFFF\" points=\"285,170,399,170,406,192.2969,413,192.2969,413,222.5938,285,222.5938,285,170\" style=\"stroke: #000000; stroke-width: 1.5;\"/><line style=\"stroke: #000000; stroke-width: 1.5;\" x1=\"285\" x2=\"406\" y1=\"192.2969\" y2=\"192.2969\"/><text fill=\"#000000\" font-family=\"sans-serif\" font-size=\"14\" font-weight=\"bold\" lengthAdjust=\"spacingAndGlyphs\" textLength=\"108\" x=\"289\" y=\"184.9951\">Service Layer</text></a><a href=\"psysml:f10bbfff-f917-435f-bbe7-eedf9b14a34c\" target=\"_top\" title=\"psysml:f10bbfff-f917-435f-bbe7-eedf9b14a34c\" xlink:actuate=\"onRequest\" xlink:href=\"psysml:f10bbfff-f917-435f-bbe7-eedf9b14a34c\" xlink:show=\"new\" xlink:title=\"psysml:f10bbfff-f917-435f-bbe7-eedf9b14a34c\" xlink:type=\"simple\"><polygon fill=\"#FFFFFF\" points=\"297,256,387,256,394,278.2969,401,278.2969,401,308.5938,297,308.5938,297,256\" style=\"stroke: #000000; stroke-width: 1.5;\"/><line style=\"stroke: #000000; stroke-width: 1.5;\" x1=\"297\" x2=\"394\" y1=\"278.2969\" y2=\"278.2969\"/><text fill=\"#000000\" font-family=\"sans-serif\" font-size=\"14\" font-weight=\"bold\" lengthAdjust=\"spacingAndGlyphs\" textLength=\"84\" x=\"301\" y=\"270.9951\">Data Layer</text></a><!--MD5=[af87c684e3b0d8be13c1a698a818ef1e]\n",
       "link E3 to E4--><a href=\"psysml:d6fef634-817c-4ef1-96de-f37bb594aaea\" target=\"_top\" title=\"psysml:d6fef634-817c-4ef1-96de-f37bb594aaea\" xlink:actuate=\"onRequest\" xlink:href=\"psysml:d6fef634-817c-4ef1-96de-f37bb594aaea\" xlink:show=\"new\" xlink:title=\"psysml:d6fef634-817c-4ef1-96de-f37bb594aaea\" xlink:type=\"simple\"><path d=\"M349,137.16 C349,144.98 349,153.69 349,161.94 \" fill=\"none\" id=\"E3-&gt;E4\" style=\"stroke: #383838; stroke-width: 1.0; stroke-dasharray: 7.0,7.0;\"/><polygon fill=\"#383838\" points=\"349,170,352,162,346,162,349,170\" style=\"stroke: #383838; stroke-width: 1.0;\"/><text fill=\"#000000\" font-family=\"sans-serif\" font-size=\"13\" lengthAdjust=\"spacingAndGlyphs\" textLength=\"64\" x=\"350\" y=\"158.0669\">«depend»</text></a><!--MD5=[1b7591eae5389033d8d09a9d6721a717]\n",
       "link E4 to E5--><a href=\"psysml:d4b689e0-de38-42ab-a0b3-2a8bf82e0669\" target=\"_top\" title=\"psysml:d4b689e0-de38-42ab-a0b3-2a8bf82e0669\" xlink:actuate=\"onRequest\" xlink:href=\"psysml:d4b689e0-de38-42ab-a0b3-2a8bf82e0669\" xlink:show=\"new\" xlink:title=\"psysml:d4b689e0-de38-42ab-a0b3-2a8bf82e0669\" xlink:type=\"simple\"><path d=\"M349,223.16 C349,230.98 349,239.69 349,247.94 \" fill=\"none\" id=\"E4-&gt;E5\" style=\"stroke: #383838; stroke-width: 1.0; stroke-dasharray: 7.0,7.0;\"/><polygon fill=\"#383838\" points=\"349,256,352,248,346,248,349,256\" style=\"stroke: #383838; stroke-width: 1.0;\"/><text fill=\"#000000\" font-family=\"sans-serif\" font-size=\"13\" lengthAdjust=\"spacingAndGlyphs\" textLength=\"64\" x=\"350\" y=\"244.0669\">«depend»</text></a><!--MD5=[c5e8897d989ce984f93528998a7150fe]\n",
       "link E8 to E6--><a href=\"psysml:c74e1bf4-ee72-40a7-b163-07732e38ed67\" target=\"_top\" title=\"psysml:c74e1bf4-ee72-40a7-b163-07732e38ed67\" xlink:actuate=\"onRequest\" xlink:href=\"psysml:c74e1bf4-ee72-40a7-b163-07732e38ed67\" xlink:show=\"new\" xlink:title=\"psysml:c74e1bf4-ee72-40a7-b163-07732e38ed67\" xlink:type=\"simple\"><path d=\"M84.49,125.34 C76.34,130.27 68.69,136.72 64,145 C60.54,151.1 59.62,158.31 60,165.33 \" fill=\"none\" id=\"E8-&gt;E6\" style=\"stroke: #383838; stroke-width: 1.0; stroke-dasharray: 7.0,7.0;\"/><polygon fill=\"#383838\" points=\"60.97,173.42,63.0061,165.1221,57.0479,165.8294,60.97,173.42\" style=\"stroke: #383838; stroke-width: 1.0;\"/><text fill=\"#000000\" font-family=\"sans-serif\" font-size=\"13\" lengthAdjust=\"spacingAndGlyphs\" textLength=\"64\" x=\"65\" y=\"158.0669\">«depend»</text></a><!--MD5=[bfa3c8b0d15052fdf50ae9310b491027]\n",
       "link E8 to E7--><a href=\"psysml:c74e1bf4-ee72-40a7-b163-07732e38ed67\" target=\"_top\" title=\"psysml:c74e1bf4-ee72-40a7-b163-07732e38ed67\" xlink:actuate=\"onRequest\" xlink:href=\"psysml:c74e1bf4-ee72-40a7-b163-07732e38ed67\" xlink:show=\"new\" xlink:title=\"psysml:c74e1bf4-ee72-40a7-b163-07732e38ed67\" xlink:type=\"simple\"><path d=\"M134.19,133.57 C140.65,143.62 148.38,155.65 155.31,166.42 \" fill=\"none\" id=\"E8-&gt;E7\" style=\"stroke: #383838; stroke-width: 1.0; stroke-dasharray: 7.0,7.0;\"/><polygon fill=\"#383838\" points=\"159.72,173.29,157.9148,164.9389,152.8688,168.185,159.72,173.29\" style=\"stroke: #383838; stroke-width: 1.0;\"/><text fill=\"#000000\" font-family=\"sans-serif\" font-size=\"13\" lengthAdjust=\"spacingAndGlyphs\" textLength=\"64\" x=\"152\" y=\"158.0669\">«depend»</text></a><!--MD5=[0d91746a62a20b24b5fc0f5393a52194]\n",
       "@startuml\r\n",
       "skinparam ranksep 10\r\n",
       "skinparam rectangle {\r\n",
       " backgroundColor<<block>> LightGreen\r\n",
       "}\r\n",
       "skinparam monochrome true\r\n",
       "skinparam classbackgroundcolor white\r\n",
       "skinparam shadowing false\r\n",
       "skinparam wrapWidth 300\r\n",
       "hide circle\r\n",
       "\r\n",
       "package \"DependencyTest\" as E1  [[psysml:f9a8e327-3c68-43cc-8fc4-f0fda4441472 ]]  {\r\n",
       "package \"System\" as E2  [[psysml:5e0f80f7-1058-4b47-9f4f-e59769b1dff5 ]]  {\r\n",
       "package \"Application Layer\" as E3  [[psysml:d7cd1111-165d-4c09-9c1d-1c6e69d6b628 ]]  {\r\n",
       "}\r\n",
       "package \"Service Layer\" as E4  [[psysml:4fd532ef-c056-48ed-b57e-c34d41c7d9b0 ]]  {\r\n",
       "}\r\n",
       "package \"Data Layer\" as E5  [[psysml:f10bbfff-f917-435f-bbe7-eedf9b14a34c ]]  {\r\n",
       "}\r\n",
       "}\r\n",
       "comp usage \"x\" as E6  <<(T,blue)attribute>> [[psysml:52169dc2-f588-4d36-bb4d-934125a8defa ]] {\r\n",
       "}\r\n",
       "comp usage \"y\" as E7  <<(T,blue)attribute>> [[psysml:638ee95e-a488-4c6b-8aa7-581f6cf4c2fe ]] {\r\n",
       "}\r\n",
       "comp usage \"z\" as E8  <<(T,blue)attribute>> [[psysml:267f67df-ceab-4f9b-9288-379f8b6d76cc ]] {\r\n",
       "}\r\n",
       "E3 ..>> E4 [[psysml:d6fef634-817c-4ef1-96de-f37bb594aaea ]] : <<depend>>\r\n",
       "E4 ..>> E5 [[psysml:d4b689e0-de38-42ab-a0b3-2a8bf82e0669 ]] : <<depend>>\r\n",
       "E8 ..>> E6 [[psysml:c74e1bf4-ee72-40a7-b163-07732e38ed67 ]] : <<depend>>\r\n",
       "E8 ..>> E7 [[psysml:c74e1bf4-ee72-40a7-b163-07732e38ed67 ]] : <<depend>>\r\n",
       "}\r\n",
       "@enduml\r\n",
       "\n",
       "PlantUML version 1.2020.13(Sat Jun 13 12:26:38 UTC 2020)\n",
       "(EPL source distribution)\n",
       "Java Runtime: OpenJDK Runtime Environment\n",
       "JVM: OpenJDK 64-Bit Server VM\n",
       "Default Encoding: UTF-8\n",
       "Language: en\n",
       "Country: null\n",
       "--></g></svg>"
      ]
     },
     "execution_count": 40,
     "metadata": {},
     "output_type": "execute_result"
    }
   ],
   "source": [
    "%viz --style=\"DEFAULT\" --view=\"Interconnection\" \"DependencyTest\""
   ]
  },
  {
   "cell_type": "code",
   "execution_count": 41,
   "id": "4de7ff7e",
   "metadata": {
    "execution": {
     "iopub.execute_input": "2021-05-27T06:11:48.917680Z",
     "iopub.status.busy": "2021-05-27T06:11:48.917182Z",
     "iopub.status.idle": "2021-05-27T06:11:48.923171Z",
     "shell.execute_reply": "2021-05-27T06:11:48.923528Z"
    }
   },
   "outputs": [
    {
     "data": {
      "image/svg+xml": [
       "<?xml version=\"1.0\" encoding=\"UTF-8\" standalone=\"no\"?><svg xmlns=\"http://www.w3.org/2000/svg\" xmlns:xlink=\"http://www.w3.org/1999/xlink\" contentScriptType=\"application/ecmascript\" contentStyleType=\"text/css\" height=\"12px\" preserveAspectRatio=\"none\" style=\"width:12px;height:12px;\" version=\"1.1\" viewBox=\"0 0 12 12\" width=\"12px\" zoomAndPan=\"magnify\"><defs/><g><!--MD5=[388f21188e31bfdd97050473b19af356]\n",
       "@startuml\r\n",
       "skinparam ranksep 8\r\n",
       "skinparam monochrome true\r\n",
       "skinparam classbackgroundcolor white\r\n",
       "skinparam shadowing false\r\n",
       "skinparam wrapWidth 300\r\n",
       "hide circle\r\n",
       "\r\n",
       "@enduml\r\n",
       "\n",
       "PlantUML version 1.2020.13(Sat Jun 13 12:26:38 UTC 2020)\n",
       "(EPL source distribution)\n",
       "Java Runtime: OpenJDK Runtime Environment\n",
       "JVM: OpenJDK 64-Bit Server VM\n",
       "Default Encoding: UTF-8\n",
       "Language: en\n",
       "Country: null\n",
       "--></g></svg>"
      ]
     },
     "execution_count": 41,
     "metadata": {},
     "output_type": "execute_result"
    }
   ],
   "source": [
    "%viz --style=\"DEFAULT\" --view=\"Action\" \"DependencyTest\""
   ]
  },
  {
   "cell_type": "code",
   "execution_count": 42,
   "id": "c900724c",
   "metadata": {
    "execution": {
     "iopub.execute_input": "2021-05-27T06:11:48.977552Z",
     "iopub.status.busy": "2021-05-27T06:11:48.977011Z",
     "iopub.status.idle": "2021-05-27T06:11:49.004965Z",
     "shell.execute_reply": "2021-05-27T06:11:49.003750Z"
    }
   },
   "outputs": [
    {
     "data": {
      "image/svg+xml": [
       "<?xml version=\"1.0\" encoding=\"UTF-8\" standalone=\"no\"?><svg xmlns=\"http://www.w3.org/2000/svg\" xmlns:xlink=\"http://www.w3.org/1999/xlink\" contentScriptType=\"application/ecmascript\" contentStyleType=\"text/css\" height=\"449px\" preserveAspectRatio=\"none\" style=\"width:489px;height:449px;\" version=\"1.1\" viewBox=\"0 0 489 449\" width=\"489px\" zoomAndPan=\"magnify\"><defs/><g><!--MD5=[fbc87193dbaf4d95561dea2c320d4a47]\n",
       "cluster E1--><a href=\"psysml:f9a8e327-3c68-43cc-8fc4-f0fda4441472\" target=\"_top\" title=\"psysml:f9a8e327-3c68-43cc-8fc4-f0fda4441472\" xlink:actuate=\"onRequest\" xlink:href=\"psysml:f9a8e327-3c68-43cc-8fc4-f0fda4441472\" xlink:show=\"new\" xlink:title=\"psysml:f9a8e327-3c68-43cc-8fc4-f0fda4441472\" xlink:type=\"simple\"><polygon fill=\"#FFFFFF\" points=\"16,6,156,6,163,28.2969,467,28.2969,467,437,16,437,16,6\" style=\"stroke: #000000; stroke-width: 1.5;\"/><line style=\"stroke: #000000; stroke-width: 1.5;\" x1=\"16\" x2=\"163\" y1=\"28.2969\" y2=\"28.2969\"/><text fill=\"#000000\" font-family=\"sans-serif\" font-size=\"14\" font-weight=\"bold\" lengthAdjust=\"spacingAndGlyphs\" textLength=\"134\" x=\"20\" y=\"20.9951\">DependencyTest</text></a><!--MD5=[e4f7fae6ed58524ba242bb0b0d3be6b7]\n",
       "cluster E2--><a href=\"psysml:5e0f80f7-1058-4b47-9f4f-e59769b1dff5\" target=\"_top\" title=\"psysml:5e0f80f7-1058-4b47-9f4f-e59769b1dff5\" xlink:actuate=\"onRequest\" xlink:href=\"psysml:5e0f80f7-1058-4b47-9f4f-e59769b1dff5\" xlink:show=\"new\" xlink:title=\"psysml:5e0f80f7-1058-4b47-9f4f-e59769b1dff5\" xlink:type=\"simple\"><polygon fill=\"#FFFFFF\" points=\"255,49,319,49,326,71.2969,443,71.2969,443,413,255,413,255,49\" style=\"stroke: #000000; stroke-width: 1.5;\"/><line style=\"stroke: #000000; stroke-width: 1.5;\" x1=\"255\" x2=\"326\" y1=\"71.2969\" y2=\"71.2969\"/><text fill=\"#000000\" font-family=\"sans-serif\" font-size=\"14\" font-weight=\"bold\" lengthAdjust=\"spacingAndGlyphs\" textLength=\"58\" x=\"259\" y=\"63.9951\">System</text></a><!--MD5=[60a26617385b1d2d0262a64233df1f8d]\n",
       "class E6--><a href=\"psysml:52169dc2-f588-4d36-bb4d-934125a8defa\" target=\"_top\" title=\"psysml:52169dc2-f588-4d36-bb4d-934125a8defa\" xlink:actuate=\"onRequest\" xlink:href=\"psysml:52169dc2-f588-4d36-bb4d-934125a8defa\" xlink:show=\"new\" xlink:title=\"psysml:52169dc2-f588-4d36-bb4d-934125a8defa\" xlink:type=\"simple\"><rect fill=\"#FFFFFF\" height=\"45.9375\" id=\"E6\" rx=\"10\" ry=\"10\" style=\"stroke: #383838; stroke-width: 1.5;\" width=\"71\" x=\"32.5\" y=\"217.5\"/><text fill=\"#000000\" font-family=\"sans-serif\" font-size=\"12\" font-style=\"italic\" lengthAdjust=\"spacingAndGlyphs\" textLength=\"69\" x=\"33.5\" y=\"233.6387\">«attribute»</text><text fill=\"#000000\" font-family=\"sans-serif\" font-size=\"12\" lengthAdjust=\"spacingAndGlyphs\" textLength=\"6\" x=\"65\" y=\"247.6074\">x</text><line style=\"stroke: #383838; stroke-width: 1.5;\" x1=\"33.5\" x2=\"102.5\" y1=\"255.4375\" y2=\"255.4375\"/></a><!--MD5=[2156ba9850f5573cc1fc38a6a4b2f02b]\n",
       "class E7--><a href=\"psysml:638ee95e-a488-4c6b-8aa7-581f6cf4c2fe\" target=\"_top\" title=\"psysml:638ee95e-a488-4c6b-8aa7-581f6cf4c2fe\" xlink:actuate=\"onRequest\" xlink:href=\"psysml:638ee95e-a488-4c6b-8aa7-581f6cf4c2fe\" xlink:show=\"new\" xlink:title=\"psysml:638ee95e-a488-4c6b-8aa7-581f6cf4c2fe\" xlink:type=\"simple\"><rect fill=\"#FFFFFF\" height=\"45.9375\" id=\"E7\" rx=\"10\" ry=\"10\" style=\"stroke: #383838; stroke-width: 1.5;\" width=\"71\" x=\"138.5\" y=\"217.5\"/><text fill=\"#000000\" font-family=\"sans-serif\" font-size=\"12\" font-style=\"italic\" lengthAdjust=\"spacingAndGlyphs\" textLength=\"69\" x=\"139.5\" y=\"233.6387\">«attribute»</text><text fill=\"#000000\" font-family=\"sans-serif\" font-size=\"12\" lengthAdjust=\"spacingAndGlyphs\" textLength=\"6\" x=\"171\" y=\"247.6074\">y</text><line style=\"stroke: #383838; stroke-width: 1.5;\" x1=\"139.5\" x2=\"208.5\" y1=\"255.4375\" y2=\"255.4375\"/></a><!--MD5=[b9389687b975829384b498ac4b7476b2]\n",
       "class E8--><a href=\"psysml:267f67df-ceab-4f9b-9288-379f8b6d76cc\" target=\"_top\" title=\"psysml:267f67df-ceab-4f9b-9288-379f8b6d76cc\" xlink:actuate=\"onRequest\" xlink:href=\"psysml:267f67df-ceab-4f9b-9288-379f8b6d76cc\" xlink:show=\"new\" xlink:title=\"psysml:267f67df-ceab-4f9b-9288-379f8b6d76cc\" xlink:type=\"simple\"><rect fill=\"#FFFFFF\" height=\"45.9375\" id=\"E8\" rx=\"10\" ry=\"10\" style=\"stroke: #383838; stroke-width: 1.5;\" width=\"71\" x=\"84.5\" y=\"87.5\"/><text fill=\"#000000\" font-family=\"sans-serif\" font-size=\"12\" font-style=\"italic\" lengthAdjust=\"spacingAndGlyphs\" textLength=\"69\" x=\"85.5\" y=\"103.6387\">«attribute»</text><text fill=\"#000000\" font-family=\"sans-serif\" font-size=\"12\" lengthAdjust=\"spacingAndGlyphs\" textLength=\"5\" x=\"117.5\" y=\"117.6074\">z</text><line style=\"stroke: #383838; stroke-width: 1.5;\" x1=\"85.5\" x2=\"154.5\" y1=\"125.4375\" y2=\"125.4375\"/></a><a href=\"psysml:d7cd1111-165d-4c09-9c1d-1c6e69d6b628\" target=\"_top\" title=\"psysml:d7cd1111-165d-4c09-9c1d-1c6e69d6b628\" xlink:actuate=\"onRequest\" xlink:href=\"psysml:d7cd1111-165d-4c09-9c1d-1c6e69d6b628\" xlink:show=\"new\" xlink:title=\"psysml:d7cd1111-165d-4c09-9c1d-1c6e69d6b628\" xlink:type=\"simple\"><polygon fill=\"#FFFFFF\" points=\"271,84,413,84,420,106.2969,427,106.2969,427,136.5938,271,136.5938,271,84\" style=\"stroke: #000000; stroke-width: 1.5;\"/><line style=\"stroke: #000000; stroke-width: 1.5;\" x1=\"271\" x2=\"420\" y1=\"106.2969\" y2=\"106.2969\"/><text fill=\"#000000\" font-family=\"sans-serif\" font-size=\"14\" font-weight=\"bold\" lengthAdjust=\"spacingAndGlyphs\" textLength=\"136\" x=\"275\" y=\"98.9951\">Application Layer</text></a><a href=\"psysml:4fd532ef-c056-48ed-b57e-c34d41c7d9b0\" target=\"_top\" title=\"psysml:4fd532ef-c056-48ed-b57e-c34d41c7d9b0\" xlink:actuate=\"onRequest\" xlink:href=\"psysml:4fd532ef-c056-48ed-b57e-c34d41c7d9b0\" xlink:show=\"new\" xlink:title=\"psysml:4fd532ef-c056-48ed-b57e-c34d41c7d9b0\" xlink:type=\"simple\"><polygon fill=\"#FFFFFF\" points=\"285,214,399,214,406,236.2969,413,236.2969,413,266.5938,285,266.5938,285,214\" style=\"stroke: #000000; stroke-width: 1.5;\"/><line style=\"stroke: #000000; stroke-width: 1.5;\" x1=\"285\" x2=\"406\" y1=\"236.2969\" y2=\"236.2969\"/><text fill=\"#000000\" font-family=\"sans-serif\" font-size=\"14\" font-weight=\"bold\" lengthAdjust=\"spacingAndGlyphs\" textLength=\"108\" x=\"289\" y=\"228.9951\">Service Layer</text></a><a href=\"psysml:f10bbfff-f917-435f-bbe7-eedf9b14a34c\" target=\"_top\" title=\"psysml:f10bbfff-f917-435f-bbe7-eedf9b14a34c\" xlink:actuate=\"onRequest\" xlink:href=\"psysml:f10bbfff-f917-435f-bbe7-eedf9b14a34c\" xlink:show=\"new\" xlink:title=\"psysml:f10bbfff-f917-435f-bbe7-eedf9b14a34c\" xlink:type=\"simple\"><polygon fill=\"#FFFFFF\" points=\"297,344,387,344,394,366.2969,401,366.2969,401,396.5938,297,396.5938,297,344\" style=\"stroke: #000000; stroke-width: 1.5;\"/><line style=\"stroke: #000000; stroke-width: 1.5;\" x1=\"297\" x2=\"394\" y1=\"366.2969\" y2=\"366.2969\"/><text fill=\"#000000\" font-family=\"sans-serif\" font-size=\"14\" font-weight=\"bold\" lengthAdjust=\"spacingAndGlyphs\" textLength=\"84\" x=\"301\" y=\"358.9951\">Data Layer</text></a><!--MD5=[af87c684e3b0d8be13c1a698a818ef1e]\n",
       "link E3 to E4--><a href=\"psysml:d6fef634-817c-4ef1-96de-f37bb594aaea\" target=\"_top\" title=\"psysml:d6fef634-817c-4ef1-96de-f37bb594aaea\" xlink:actuate=\"onRequest\" xlink:href=\"psysml:d6fef634-817c-4ef1-96de-f37bb594aaea\" xlink:show=\"new\" xlink:title=\"psysml:d6fef634-817c-4ef1-96de-f37bb594aaea\" xlink:type=\"simple\"><path d=\"M349,137.1 C349,156.8 349,184.22 349,205.73 \" fill=\"none\" id=\"E3-&gt;E4\" style=\"stroke: #383838; stroke-width: 1.0; stroke-dasharray: 7.0,7.0;\"/><polygon fill=\"#383838\" points=\"349,213.95,352,205.95,346,205.95,349,213.95\" style=\"stroke: #383838; stroke-width: 1.0;\"/><text fill=\"#000000\" font-family=\"sans-serif\" font-size=\"13\" lengthAdjust=\"spacingAndGlyphs\" textLength=\"64\" x=\"350\" y=\"180.0669\">«depend»</text></a><!--MD5=[1b7591eae5389033d8d09a9d6721a717]\n",
       "link E4 to E5--><a href=\"psysml:d4b689e0-de38-42ab-a0b3-2a8bf82e0669\" target=\"_top\" title=\"psysml:d4b689e0-de38-42ab-a0b3-2a8bf82e0669\" xlink:actuate=\"onRequest\" xlink:href=\"psysml:d4b689e0-de38-42ab-a0b3-2a8bf82e0669\" xlink:show=\"new\" xlink:title=\"psysml:d4b689e0-de38-42ab-a0b3-2a8bf82e0669\" xlink:type=\"simple\"><path d=\"M349,267.1 C349,286.8 349,314.22 349,335.73 \" fill=\"none\" id=\"E4-&gt;E5\" style=\"stroke: #383838; stroke-width: 1.0; stroke-dasharray: 7.0,7.0;\"/><polygon fill=\"#383838\" points=\"349,343.95,352,335.95,346,335.95,349,343.95\" style=\"stroke: #383838; stroke-width: 1.0;\"/><text fill=\"#000000\" font-family=\"sans-serif\" font-size=\"13\" lengthAdjust=\"spacingAndGlyphs\" textLength=\"64\" x=\"350\" y=\"310.0669\">«depend»</text></a><!--MD5=[c5e8897d989ce984f93528998a7150fe]\n",
       "link E8 to E6--><a href=\"psysml:c74e1bf4-ee72-40a7-b163-07732e38ed67\" target=\"_top\" title=\"psysml:c74e1bf4-ee72-40a7-b163-07732e38ed67\" xlink:actuate=\"onRequest\" xlink:href=\"psysml:c74e1bf4-ee72-40a7-b163-07732e38ed67\" xlink:show=\"new\" xlink:title=\"psysml:c74e1bf4-ee72-40a7-b163-07732e38ed67\" xlink:type=\"simple\"><path d=\"M89.42,133.6 C79.35,142.68 69.37,154.11 64,167 C58.5,180.2 58.66,195.94 60.54,209.38 \" fill=\"none\" id=\"E8-&gt;E6\" style=\"stroke: #383838; stroke-width: 1.0; stroke-dasharray: 7.0,7.0;\"/><polygon fill=\"#383838\" points=\"61.9,217.4,63.517,209.0104,57.6018,210.0159,61.9,217.4\" style=\"stroke: #383838; stroke-width: 1.0;\"/><text fill=\"#000000\" font-family=\"sans-serif\" font-size=\"13\" lengthAdjust=\"spacingAndGlyphs\" textLength=\"64\" x=\"65\" y=\"180.0669\">«depend»</text></a><!--MD5=[bfa3c8b0d15052fdf50ae9310b491027]\n",
       "link E8 to E7--><a href=\"psysml:c74e1bf4-ee72-40a7-b163-07732e38ed67\" target=\"_top\" title=\"psysml:c74e1bf4-ee72-40a7-b163-07732e38ed67\" xlink:actuate=\"onRequest\" xlink:href=\"psysml:c74e1bf4-ee72-40a7-b163-07732e38ed67\" xlink:show=\"new\" xlink:title=\"psysml:c74e1bf4-ee72-40a7-b163-07732e38ed67\" xlink:type=\"simple\"><path d=\"M129.28,133.5 C138.17,154.57 151.64,186.5 161.47,209.81 \" fill=\"none\" id=\"E8-&gt;E7\" style=\"stroke: #383838; stroke-width: 1.0; stroke-dasharray: 7.0,7.0;\"/><polygon fill=\"#383838\" points=\"164.66,217.35,164.3241,208.8126,158.7933,211.1385,164.66,217.35\" style=\"stroke: #383838; stroke-width: 1.0;\"/><text fill=\"#000000\" font-family=\"sans-serif\" font-size=\"13\" lengthAdjust=\"spacingAndGlyphs\" textLength=\"64\" x=\"151\" y=\"180.0669\">«depend»</text></a><!--MD5=[59c853afe22770b164b1bca3786be158]\n",
       "@startuml\r\n",
       "skinparam monochrome true\r\n",
       "skinparam classbackgroundcolor white\r\n",
       "skinparam shadowing false\r\n",
       "skinparam wrapWidth 300\r\n",
       "hide circle\r\n",
       "\r\n",
       "package \"DependencyTest\" as E1  [[psysml:f9a8e327-3c68-43cc-8fc4-f0fda4441472 ]]  {\r\n",
       "package \"System\" as E2  [[psysml:5e0f80f7-1058-4b47-9f4f-e59769b1dff5 ]]  {\r\n",
       "package \"Application Layer\" as E3  [[psysml:d7cd1111-165d-4c09-9c1d-1c6e69d6b628 ]]  {\r\n",
       "}\r\n",
       "package \"Service Layer\" as E4  [[psysml:4fd532ef-c056-48ed-b57e-c34d41c7d9b0 ]]  {\r\n",
       "}\r\n",
       "package \"Data Layer\" as E5  [[psysml:f10bbfff-f917-435f-bbe7-eedf9b14a34c ]]  {\r\n",
       "}\r\n",
       "}\r\n",
       "comp usage \"x\" as E6  <<(T,blue)attribute>> [[psysml:52169dc2-f588-4d36-bb4d-934125a8defa ]] {\r\n",
       "}\r\n",
       "comp usage \"y\" as E7  <<(T,blue)attribute>> [[psysml:638ee95e-a488-4c6b-8aa7-581f6cf4c2fe ]] {\r\n",
       "}\r\n",
       "comp usage \"z\" as E8  <<(T,blue)attribute>> [[psysml:267f67df-ceab-4f9b-9288-379f8b6d76cc ]] {\r\n",
       "}\r\n",
       "E3 ..>> E4 [[psysml:d6fef634-817c-4ef1-96de-f37bb594aaea ]] : <<depend>>\r\n",
       "E4 ..>> E5 [[psysml:d4b689e0-de38-42ab-a0b3-2a8bf82e0669 ]] : <<depend>>\r\n",
       "E8 ..>> E6 [[psysml:c74e1bf4-ee72-40a7-b163-07732e38ed67 ]] : <<depend>>\r\n",
       "E8 ..>> E7 [[psysml:c74e1bf4-ee72-40a7-b163-07732e38ed67 ]] : <<depend>>\r\n",
       "}\r\n",
       "@enduml\r\n",
       "\n",
       "PlantUML version 1.2020.13(Sat Jun 13 12:26:38 UTC 2020)\n",
       "(EPL source distribution)\n",
       "Java Runtime: OpenJDK Runtime Environment\n",
       "JVM: OpenJDK 64-Bit Server VM\n",
       "Default Encoding: UTF-8\n",
       "Language: en\n",
       "Country: null\n",
       "--></g></svg>"
      ]
     },
     "execution_count": 42,
     "metadata": {},
     "output_type": "execute_result"
    }
   ],
   "source": [
    "%viz --style=\"DEFAULT\" --view=\"Sequence\" \"DependencyTest\""
   ]
  },
  {
   "cell_type": "code",
   "execution_count": 43,
   "id": "cf81e01e",
   "metadata": {
    "execution": {
     "iopub.execute_input": "2021-05-27T06:11:49.055326Z",
     "iopub.status.busy": "2021-05-27T06:11:49.054875Z",
     "iopub.status.idle": "2021-05-27T06:11:49.084688Z",
     "shell.execute_reply": "2021-05-27T06:11:49.083494Z"
    }
   },
   "outputs": [
    {
     "data": {
      "image/svg+xml": [
       "<?xml version=\"1.0\" encoding=\"UTF-8\" standalone=\"no\"?><svg xmlns=\"http://www.w3.org/2000/svg\" xmlns:xlink=\"http://www.w3.org/1999/xlink\" contentScriptType=\"application/ecmascript\" contentStyleType=\"text/css\" height=\"449px\" preserveAspectRatio=\"none\" style=\"width:489px;height:449px;\" version=\"1.1\" viewBox=\"0 0 489 449\" width=\"489px\" zoomAndPan=\"magnify\"><defs/><g><!--MD5=[fbc87193dbaf4d95561dea2c320d4a47]\n",
       "cluster E1--><a href=\"psysml:f9a8e327-3c68-43cc-8fc4-f0fda4441472\" target=\"_top\" title=\"psysml:f9a8e327-3c68-43cc-8fc4-f0fda4441472\" xlink:actuate=\"onRequest\" xlink:href=\"psysml:f9a8e327-3c68-43cc-8fc4-f0fda4441472\" xlink:show=\"new\" xlink:title=\"psysml:f9a8e327-3c68-43cc-8fc4-f0fda4441472\" xlink:type=\"simple\"><polygon fill=\"#FFFFFF\" points=\"16,6,156,6,163,28.2969,467,28.2969,467,437,16,437,16,6\" style=\"stroke: #000000; stroke-width: 1.5;\"/><line style=\"stroke: #000000; stroke-width: 1.5;\" x1=\"16\" x2=\"163\" y1=\"28.2969\" y2=\"28.2969\"/><text fill=\"#000000\" font-family=\"sans-serif\" font-size=\"14\" font-weight=\"bold\" lengthAdjust=\"spacingAndGlyphs\" textLength=\"134\" x=\"20\" y=\"20.9951\">DependencyTest</text></a><!--MD5=[e4f7fae6ed58524ba242bb0b0d3be6b7]\n",
       "cluster E2--><a href=\"psysml:5e0f80f7-1058-4b47-9f4f-e59769b1dff5\" target=\"_top\" title=\"psysml:5e0f80f7-1058-4b47-9f4f-e59769b1dff5\" xlink:actuate=\"onRequest\" xlink:href=\"psysml:5e0f80f7-1058-4b47-9f4f-e59769b1dff5\" xlink:show=\"new\" xlink:title=\"psysml:5e0f80f7-1058-4b47-9f4f-e59769b1dff5\" xlink:type=\"simple\"><polygon fill=\"#FFFFFF\" points=\"255,49,319,49,326,71.2969,443,71.2969,443,413,255,413,255,49\" style=\"stroke: #000000; stroke-width: 1.5;\"/><line style=\"stroke: #000000; stroke-width: 1.5;\" x1=\"255\" x2=\"326\" y1=\"71.2969\" y2=\"71.2969\"/><text fill=\"#000000\" font-family=\"sans-serif\" font-size=\"14\" font-weight=\"bold\" lengthAdjust=\"spacingAndGlyphs\" textLength=\"58\" x=\"259\" y=\"63.9951\">System</text></a><!--MD5=[60a26617385b1d2d0262a64233df1f8d]\n",
       "class E6--><a href=\"psysml:52169dc2-f588-4d36-bb4d-934125a8defa\" target=\"_top\" title=\"psysml:52169dc2-f588-4d36-bb4d-934125a8defa\" xlink:actuate=\"onRequest\" xlink:href=\"psysml:52169dc2-f588-4d36-bb4d-934125a8defa\" xlink:show=\"new\" xlink:title=\"psysml:52169dc2-f588-4d36-bb4d-934125a8defa\" xlink:type=\"simple\"><rect fill=\"#FFFFFF\" height=\"45.9375\" id=\"E6\" rx=\"10\" ry=\"10\" style=\"stroke: #383838; stroke-width: 1.5;\" width=\"71\" x=\"32.5\" y=\"217.5\"/><text fill=\"#000000\" font-family=\"sans-serif\" font-size=\"12\" font-style=\"italic\" lengthAdjust=\"spacingAndGlyphs\" textLength=\"69\" x=\"33.5\" y=\"233.6387\">«attribute»</text><text fill=\"#000000\" font-family=\"sans-serif\" font-size=\"12\" lengthAdjust=\"spacingAndGlyphs\" textLength=\"6\" x=\"65\" y=\"247.6074\">x</text><line style=\"stroke: #383838; stroke-width: 1.5;\" x1=\"33.5\" x2=\"102.5\" y1=\"255.4375\" y2=\"255.4375\"/></a><!--MD5=[2156ba9850f5573cc1fc38a6a4b2f02b]\n",
       "class E7--><a href=\"psysml:638ee95e-a488-4c6b-8aa7-581f6cf4c2fe\" target=\"_top\" title=\"psysml:638ee95e-a488-4c6b-8aa7-581f6cf4c2fe\" xlink:actuate=\"onRequest\" xlink:href=\"psysml:638ee95e-a488-4c6b-8aa7-581f6cf4c2fe\" xlink:show=\"new\" xlink:title=\"psysml:638ee95e-a488-4c6b-8aa7-581f6cf4c2fe\" xlink:type=\"simple\"><rect fill=\"#FFFFFF\" height=\"45.9375\" id=\"E7\" rx=\"10\" ry=\"10\" style=\"stroke: #383838; stroke-width: 1.5;\" width=\"71\" x=\"138.5\" y=\"217.5\"/><text fill=\"#000000\" font-family=\"sans-serif\" font-size=\"12\" font-style=\"italic\" lengthAdjust=\"spacingAndGlyphs\" textLength=\"69\" x=\"139.5\" y=\"233.6387\">«attribute»</text><text fill=\"#000000\" font-family=\"sans-serif\" font-size=\"12\" lengthAdjust=\"spacingAndGlyphs\" textLength=\"6\" x=\"171\" y=\"247.6074\">y</text><line style=\"stroke: #383838; stroke-width: 1.5;\" x1=\"139.5\" x2=\"208.5\" y1=\"255.4375\" y2=\"255.4375\"/></a><!--MD5=[b9389687b975829384b498ac4b7476b2]\n",
       "class E8--><a href=\"psysml:267f67df-ceab-4f9b-9288-379f8b6d76cc\" target=\"_top\" title=\"psysml:267f67df-ceab-4f9b-9288-379f8b6d76cc\" xlink:actuate=\"onRequest\" xlink:href=\"psysml:267f67df-ceab-4f9b-9288-379f8b6d76cc\" xlink:show=\"new\" xlink:title=\"psysml:267f67df-ceab-4f9b-9288-379f8b6d76cc\" xlink:type=\"simple\"><rect fill=\"#FFFFFF\" height=\"45.9375\" id=\"E8\" rx=\"10\" ry=\"10\" style=\"stroke: #383838; stroke-width: 1.5;\" width=\"71\" x=\"84.5\" y=\"87.5\"/><text fill=\"#000000\" font-family=\"sans-serif\" font-size=\"12\" font-style=\"italic\" lengthAdjust=\"spacingAndGlyphs\" textLength=\"69\" x=\"85.5\" y=\"103.6387\">«attribute»</text><text fill=\"#000000\" font-family=\"sans-serif\" font-size=\"12\" lengthAdjust=\"spacingAndGlyphs\" textLength=\"5\" x=\"117.5\" y=\"117.6074\">z</text><line style=\"stroke: #383838; stroke-width: 1.5;\" x1=\"85.5\" x2=\"154.5\" y1=\"125.4375\" y2=\"125.4375\"/></a><a href=\"psysml:d7cd1111-165d-4c09-9c1d-1c6e69d6b628\" target=\"_top\" title=\"psysml:d7cd1111-165d-4c09-9c1d-1c6e69d6b628\" xlink:actuate=\"onRequest\" xlink:href=\"psysml:d7cd1111-165d-4c09-9c1d-1c6e69d6b628\" xlink:show=\"new\" xlink:title=\"psysml:d7cd1111-165d-4c09-9c1d-1c6e69d6b628\" xlink:type=\"simple\"><polygon fill=\"#FFFFFF\" points=\"271,84,413,84,420,106.2969,427,106.2969,427,136.5938,271,136.5938,271,84\" style=\"stroke: #000000; stroke-width: 1.5;\"/><line style=\"stroke: #000000; stroke-width: 1.5;\" x1=\"271\" x2=\"420\" y1=\"106.2969\" y2=\"106.2969\"/><text fill=\"#000000\" font-family=\"sans-serif\" font-size=\"14\" font-weight=\"bold\" lengthAdjust=\"spacingAndGlyphs\" textLength=\"136\" x=\"275\" y=\"98.9951\">Application Layer</text></a><a href=\"psysml:4fd532ef-c056-48ed-b57e-c34d41c7d9b0\" target=\"_top\" title=\"psysml:4fd532ef-c056-48ed-b57e-c34d41c7d9b0\" xlink:actuate=\"onRequest\" xlink:href=\"psysml:4fd532ef-c056-48ed-b57e-c34d41c7d9b0\" xlink:show=\"new\" xlink:title=\"psysml:4fd532ef-c056-48ed-b57e-c34d41c7d9b0\" xlink:type=\"simple\"><polygon fill=\"#FFFFFF\" points=\"285,214,399,214,406,236.2969,413,236.2969,413,266.5938,285,266.5938,285,214\" style=\"stroke: #000000; stroke-width: 1.5;\"/><line style=\"stroke: #000000; stroke-width: 1.5;\" x1=\"285\" x2=\"406\" y1=\"236.2969\" y2=\"236.2969\"/><text fill=\"#000000\" font-family=\"sans-serif\" font-size=\"14\" font-weight=\"bold\" lengthAdjust=\"spacingAndGlyphs\" textLength=\"108\" x=\"289\" y=\"228.9951\">Service Layer</text></a><a href=\"psysml:f10bbfff-f917-435f-bbe7-eedf9b14a34c\" target=\"_top\" title=\"psysml:f10bbfff-f917-435f-bbe7-eedf9b14a34c\" xlink:actuate=\"onRequest\" xlink:href=\"psysml:f10bbfff-f917-435f-bbe7-eedf9b14a34c\" xlink:show=\"new\" xlink:title=\"psysml:f10bbfff-f917-435f-bbe7-eedf9b14a34c\" xlink:type=\"simple\"><polygon fill=\"#FFFFFF\" points=\"297,344,387,344,394,366.2969,401,366.2969,401,396.5938,297,396.5938,297,344\" style=\"stroke: #000000; stroke-width: 1.5;\"/><line style=\"stroke: #000000; stroke-width: 1.5;\" x1=\"297\" x2=\"394\" y1=\"366.2969\" y2=\"366.2969\"/><text fill=\"#000000\" font-family=\"sans-serif\" font-size=\"14\" font-weight=\"bold\" lengthAdjust=\"spacingAndGlyphs\" textLength=\"84\" x=\"301\" y=\"358.9951\">Data Layer</text></a><!--MD5=[af87c684e3b0d8be13c1a698a818ef1e]\n",
       "link E3 to E4--><a href=\"psysml:d6fef634-817c-4ef1-96de-f37bb594aaea\" target=\"_top\" title=\"psysml:d6fef634-817c-4ef1-96de-f37bb594aaea\" xlink:actuate=\"onRequest\" xlink:href=\"psysml:d6fef634-817c-4ef1-96de-f37bb594aaea\" xlink:show=\"new\" xlink:title=\"psysml:d6fef634-817c-4ef1-96de-f37bb594aaea\" xlink:type=\"simple\"><path d=\"M349,137.1 C349,156.8 349,184.22 349,205.73 \" fill=\"none\" id=\"E3-&gt;E4\" style=\"stroke: #383838; stroke-width: 1.0; stroke-dasharray: 7.0,7.0;\"/><polygon fill=\"#383838\" points=\"349,213.95,352,205.95,346,205.95,349,213.95\" style=\"stroke: #383838; stroke-width: 1.0;\"/><text fill=\"#000000\" font-family=\"sans-serif\" font-size=\"13\" lengthAdjust=\"spacingAndGlyphs\" textLength=\"64\" x=\"350\" y=\"180.0669\">«depend»</text></a><!--MD5=[1b7591eae5389033d8d09a9d6721a717]\n",
       "link E4 to E5--><a href=\"psysml:d4b689e0-de38-42ab-a0b3-2a8bf82e0669\" target=\"_top\" title=\"psysml:d4b689e0-de38-42ab-a0b3-2a8bf82e0669\" xlink:actuate=\"onRequest\" xlink:href=\"psysml:d4b689e0-de38-42ab-a0b3-2a8bf82e0669\" xlink:show=\"new\" xlink:title=\"psysml:d4b689e0-de38-42ab-a0b3-2a8bf82e0669\" xlink:type=\"simple\"><path d=\"M349,267.1 C349,286.8 349,314.22 349,335.73 \" fill=\"none\" id=\"E4-&gt;E5\" style=\"stroke: #383838; stroke-width: 1.0; stroke-dasharray: 7.0,7.0;\"/><polygon fill=\"#383838\" points=\"349,343.95,352,335.95,346,335.95,349,343.95\" style=\"stroke: #383838; stroke-width: 1.0;\"/><text fill=\"#000000\" font-family=\"sans-serif\" font-size=\"13\" lengthAdjust=\"spacingAndGlyphs\" textLength=\"64\" x=\"350\" y=\"310.0669\">«depend»</text></a><!--MD5=[c5e8897d989ce984f93528998a7150fe]\n",
       "link E8 to E6--><a href=\"psysml:c74e1bf4-ee72-40a7-b163-07732e38ed67\" target=\"_top\" title=\"psysml:c74e1bf4-ee72-40a7-b163-07732e38ed67\" xlink:actuate=\"onRequest\" xlink:href=\"psysml:c74e1bf4-ee72-40a7-b163-07732e38ed67\" xlink:show=\"new\" xlink:title=\"psysml:c74e1bf4-ee72-40a7-b163-07732e38ed67\" xlink:type=\"simple\"><path d=\"M89.42,133.6 C79.35,142.68 69.37,154.11 64,167 C58.5,180.2 58.66,195.94 60.54,209.38 \" fill=\"none\" id=\"E8-&gt;E6\" style=\"stroke: #383838; stroke-width: 1.0; stroke-dasharray: 7.0,7.0;\"/><polygon fill=\"#383838\" points=\"61.9,217.4,63.517,209.0104,57.6018,210.0159,61.9,217.4\" style=\"stroke: #383838; stroke-width: 1.0;\"/><text fill=\"#000000\" font-family=\"sans-serif\" font-size=\"13\" lengthAdjust=\"spacingAndGlyphs\" textLength=\"64\" x=\"65\" y=\"180.0669\">«depend»</text></a><!--MD5=[bfa3c8b0d15052fdf50ae9310b491027]\n",
       "link E8 to E7--><a href=\"psysml:c74e1bf4-ee72-40a7-b163-07732e38ed67\" target=\"_top\" title=\"psysml:c74e1bf4-ee72-40a7-b163-07732e38ed67\" xlink:actuate=\"onRequest\" xlink:href=\"psysml:c74e1bf4-ee72-40a7-b163-07732e38ed67\" xlink:show=\"new\" xlink:title=\"psysml:c74e1bf4-ee72-40a7-b163-07732e38ed67\" xlink:type=\"simple\"><path d=\"M129.28,133.5 C138.17,154.57 151.64,186.5 161.47,209.81 \" fill=\"none\" id=\"E8-&gt;E7\" style=\"stroke: #383838; stroke-width: 1.0; stroke-dasharray: 7.0,7.0;\"/><polygon fill=\"#383838\" points=\"164.66,217.35,164.3241,208.8126,158.7933,211.1385,164.66,217.35\" style=\"stroke: #383838; stroke-width: 1.0;\"/><text fill=\"#000000\" font-family=\"sans-serif\" font-size=\"13\" lengthAdjust=\"spacingAndGlyphs\" textLength=\"64\" x=\"151\" y=\"180.0669\">«depend»</text></a><!--MD5=[59c853afe22770b164b1bca3786be158]\n",
       "@startuml\r\n",
       "skinparam monochrome true\r\n",
       "skinparam classbackgroundcolor white\r\n",
       "skinparam shadowing false\r\n",
       "skinparam wrapWidth 300\r\n",
       "hide circle\r\n",
       "\r\n",
       "package \"DependencyTest\" as E1  [[psysml:f9a8e327-3c68-43cc-8fc4-f0fda4441472 ]]  {\r\n",
       "package \"System\" as E2  [[psysml:5e0f80f7-1058-4b47-9f4f-e59769b1dff5 ]]  {\r\n",
       "package \"Application Layer\" as E3  [[psysml:d7cd1111-165d-4c09-9c1d-1c6e69d6b628 ]]  {\r\n",
       "}\r\n",
       "package \"Service Layer\" as E4  [[psysml:4fd532ef-c056-48ed-b57e-c34d41c7d9b0 ]]  {\r\n",
       "}\r\n",
       "package \"Data Layer\" as E5  [[psysml:f10bbfff-f917-435f-bbe7-eedf9b14a34c ]]  {\r\n",
       "}\r\n",
       "}\r\n",
       "comp usage \"x\" as E6  <<(T,blue)attribute>> [[psysml:52169dc2-f588-4d36-bb4d-934125a8defa ]] {\r\n",
       "}\r\n",
       "comp usage \"y\" as E7  <<(T,blue)attribute>> [[psysml:638ee95e-a488-4c6b-8aa7-581f6cf4c2fe ]] {\r\n",
       "}\r\n",
       "comp usage \"z\" as E8  <<(T,blue)attribute>> [[psysml:267f67df-ceab-4f9b-9288-379f8b6d76cc ]] {\r\n",
       "}\r\n",
       "E3 ..>> E4 [[psysml:d6fef634-817c-4ef1-96de-f37bb594aaea ]] : <<depend>>\r\n",
       "E4 ..>> E5 [[psysml:d4b689e0-de38-42ab-a0b3-2a8bf82e0669 ]] : <<depend>>\r\n",
       "E8 ..>> E6 [[psysml:c74e1bf4-ee72-40a7-b163-07732e38ed67 ]] : <<depend>>\r\n",
       "E8 ..>> E7 [[psysml:c74e1bf4-ee72-40a7-b163-07732e38ed67 ]] : <<depend>>\r\n",
       "}\r\n",
       "@enduml\r\n",
       "\n",
       "PlantUML version 1.2020.13(Sat Jun 13 12:26:38 UTC 2020)\n",
       "(EPL source distribution)\n",
       "Java Runtime: OpenJDK Runtime Environment\n",
       "JVM: OpenJDK 64-Bit Server VM\n",
       "Default Encoding: UTF-8\n",
       "Language: en\n",
       "Country: null\n",
       "--></g></svg>"
      ]
     },
     "execution_count": 43,
     "metadata": {},
     "output_type": "execute_result"
    }
   ],
   "source": [
    "%viz --style=\"DEFAULT\" --view=\"MIXED\" \"DependencyTest\""
   ]
  },
  {
   "cell_type": "code",
   "execution_count": 44,
   "id": "4ed5e988",
   "metadata": {
    "execution": {
     "iopub.execute_input": "2021-05-27T06:11:49.134298Z",
     "iopub.status.busy": "2021-05-27T06:11:49.133872Z",
     "iopub.status.idle": "2021-05-27T06:11:49.162486Z",
     "shell.execute_reply": "2021-05-27T06:11:49.161213Z"
    }
   },
   "outputs": [
    {
     "data": {
      "image/svg+xml": [
       "<?xml version=\"1.0\" encoding=\"UTF-8\" standalone=\"no\"?><svg xmlns=\"http://www.w3.org/2000/svg\" xmlns:xlink=\"http://www.w3.org/1999/xlink\" contentScriptType=\"application/ecmascript\" contentStyleType=\"text/css\" height=\"449px\" preserveAspectRatio=\"none\" style=\"width:489px;height:449px;\" version=\"1.1\" viewBox=\"0 0 489 449\" width=\"489px\" zoomAndPan=\"magnify\"><defs/><g><!--MD5=[fbc87193dbaf4d95561dea2c320d4a47]\n",
       "cluster E1--><a href=\"psysml:f9a8e327-3c68-43cc-8fc4-f0fda4441472\" target=\"_top\" title=\"psysml:f9a8e327-3c68-43cc-8fc4-f0fda4441472\" xlink:actuate=\"onRequest\" xlink:href=\"psysml:f9a8e327-3c68-43cc-8fc4-f0fda4441472\" xlink:show=\"new\" xlink:title=\"psysml:f9a8e327-3c68-43cc-8fc4-f0fda4441472\" xlink:type=\"simple\"><polygon fill=\"#FFFFFF\" points=\"16,6,156,6,163,28.2969,467,28.2969,467,437,16,437,16,6\" style=\"stroke: #000000; stroke-width: 1.5;\"/><line style=\"stroke: #000000; stroke-width: 1.5;\" x1=\"16\" x2=\"163\" y1=\"28.2969\" y2=\"28.2969\"/><text fill=\"#000000\" font-family=\"sans-serif\" font-size=\"14\" font-weight=\"bold\" lengthAdjust=\"spacingAndGlyphs\" textLength=\"134\" x=\"20\" y=\"20.9951\">DependencyTest</text></a><!--MD5=[e4f7fae6ed58524ba242bb0b0d3be6b7]\n",
       "cluster E2--><a href=\"psysml:5e0f80f7-1058-4b47-9f4f-e59769b1dff5\" target=\"_top\" title=\"psysml:5e0f80f7-1058-4b47-9f4f-e59769b1dff5\" xlink:actuate=\"onRequest\" xlink:href=\"psysml:5e0f80f7-1058-4b47-9f4f-e59769b1dff5\" xlink:show=\"new\" xlink:title=\"psysml:5e0f80f7-1058-4b47-9f4f-e59769b1dff5\" xlink:type=\"simple\"><polygon fill=\"#FFFFFF\" points=\"255,49,319,49,326,71.2969,443,71.2969,443,413,255,413,255,49\" style=\"stroke: #000000; stroke-width: 1.5;\"/><line style=\"stroke: #000000; stroke-width: 1.5;\" x1=\"255\" x2=\"326\" y1=\"71.2969\" y2=\"71.2969\"/><text fill=\"#000000\" font-family=\"sans-serif\" font-size=\"14\" font-weight=\"bold\" lengthAdjust=\"spacingAndGlyphs\" textLength=\"58\" x=\"259\" y=\"63.9951\">System</text></a><!--MD5=[60a26617385b1d2d0262a64233df1f8d]\n",
       "class E6--><a href=\"psysml:52169dc2-f588-4d36-bb4d-934125a8defa\" target=\"_top\" title=\"psysml:52169dc2-f588-4d36-bb4d-934125a8defa\" xlink:actuate=\"onRequest\" xlink:href=\"psysml:52169dc2-f588-4d36-bb4d-934125a8defa\" xlink:show=\"new\" xlink:title=\"psysml:52169dc2-f588-4d36-bb4d-934125a8defa\" xlink:type=\"simple\"><rect fill=\"#FFFFFF\" height=\"45.9375\" id=\"E6\" rx=\"10\" ry=\"10\" style=\"stroke: #383838; stroke-width: 1.5;\" width=\"71\" x=\"32.5\" y=\"217.5\"/><text fill=\"#000000\" font-family=\"sans-serif\" font-size=\"12\" font-style=\"italic\" lengthAdjust=\"spacingAndGlyphs\" textLength=\"69\" x=\"33.5\" y=\"233.6387\">«attribute»</text><text fill=\"#000000\" font-family=\"sans-serif\" font-size=\"12\" lengthAdjust=\"spacingAndGlyphs\" textLength=\"6\" x=\"65\" y=\"247.6074\">x</text><line style=\"stroke: #383838; stroke-width: 1.5;\" x1=\"33.5\" x2=\"102.5\" y1=\"255.4375\" y2=\"255.4375\"/></a><!--MD5=[2156ba9850f5573cc1fc38a6a4b2f02b]\n",
       "class E7--><a href=\"psysml:638ee95e-a488-4c6b-8aa7-581f6cf4c2fe\" target=\"_top\" title=\"psysml:638ee95e-a488-4c6b-8aa7-581f6cf4c2fe\" xlink:actuate=\"onRequest\" xlink:href=\"psysml:638ee95e-a488-4c6b-8aa7-581f6cf4c2fe\" xlink:show=\"new\" xlink:title=\"psysml:638ee95e-a488-4c6b-8aa7-581f6cf4c2fe\" xlink:type=\"simple\"><rect fill=\"#FFFFFF\" height=\"45.9375\" id=\"E7\" rx=\"10\" ry=\"10\" style=\"stroke: #383838; stroke-width: 1.5;\" width=\"71\" x=\"138.5\" y=\"217.5\"/><text fill=\"#000000\" font-family=\"sans-serif\" font-size=\"12\" font-style=\"italic\" lengthAdjust=\"spacingAndGlyphs\" textLength=\"69\" x=\"139.5\" y=\"233.6387\">«attribute»</text><text fill=\"#000000\" font-family=\"sans-serif\" font-size=\"12\" lengthAdjust=\"spacingAndGlyphs\" textLength=\"6\" x=\"171\" y=\"247.6074\">y</text><line style=\"stroke: #383838; stroke-width: 1.5;\" x1=\"139.5\" x2=\"208.5\" y1=\"255.4375\" y2=\"255.4375\"/></a><!--MD5=[b9389687b975829384b498ac4b7476b2]\n",
       "class E8--><a href=\"psysml:267f67df-ceab-4f9b-9288-379f8b6d76cc\" target=\"_top\" title=\"psysml:267f67df-ceab-4f9b-9288-379f8b6d76cc\" xlink:actuate=\"onRequest\" xlink:href=\"psysml:267f67df-ceab-4f9b-9288-379f8b6d76cc\" xlink:show=\"new\" xlink:title=\"psysml:267f67df-ceab-4f9b-9288-379f8b6d76cc\" xlink:type=\"simple\"><rect fill=\"#FFFFFF\" height=\"45.9375\" id=\"E8\" rx=\"10\" ry=\"10\" style=\"stroke: #383838; stroke-width: 1.5;\" width=\"71\" x=\"84.5\" y=\"87.5\"/><text fill=\"#000000\" font-family=\"sans-serif\" font-size=\"12\" font-style=\"italic\" lengthAdjust=\"spacingAndGlyphs\" textLength=\"69\" x=\"85.5\" y=\"103.6387\">«attribute»</text><text fill=\"#000000\" font-family=\"sans-serif\" font-size=\"12\" lengthAdjust=\"spacingAndGlyphs\" textLength=\"5\" x=\"117.5\" y=\"117.6074\">z</text><line style=\"stroke: #383838; stroke-width: 1.5;\" x1=\"85.5\" x2=\"154.5\" y1=\"125.4375\" y2=\"125.4375\"/></a><a href=\"psysml:d7cd1111-165d-4c09-9c1d-1c6e69d6b628\" target=\"_top\" title=\"psysml:d7cd1111-165d-4c09-9c1d-1c6e69d6b628\" xlink:actuate=\"onRequest\" xlink:href=\"psysml:d7cd1111-165d-4c09-9c1d-1c6e69d6b628\" xlink:show=\"new\" xlink:title=\"psysml:d7cd1111-165d-4c09-9c1d-1c6e69d6b628\" xlink:type=\"simple\"><polygon fill=\"#FFFFFF\" points=\"271,84,413,84,420,106.2969,427,106.2969,427,136.5938,271,136.5938,271,84\" style=\"stroke: #000000; stroke-width: 1.5;\"/><line style=\"stroke: #000000; stroke-width: 1.5;\" x1=\"271\" x2=\"420\" y1=\"106.2969\" y2=\"106.2969\"/><text fill=\"#000000\" font-family=\"sans-serif\" font-size=\"14\" font-weight=\"bold\" lengthAdjust=\"spacingAndGlyphs\" textLength=\"136\" x=\"275\" y=\"98.9951\">Application Layer</text></a><a href=\"psysml:4fd532ef-c056-48ed-b57e-c34d41c7d9b0\" target=\"_top\" title=\"psysml:4fd532ef-c056-48ed-b57e-c34d41c7d9b0\" xlink:actuate=\"onRequest\" xlink:href=\"psysml:4fd532ef-c056-48ed-b57e-c34d41c7d9b0\" xlink:show=\"new\" xlink:title=\"psysml:4fd532ef-c056-48ed-b57e-c34d41c7d9b0\" xlink:type=\"simple\"><polygon fill=\"#FFFFFF\" points=\"285,214,399,214,406,236.2969,413,236.2969,413,266.5938,285,266.5938,285,214\" style=\"stroke: #000000; stroke-width: 1.5;\"/><line style=\"stroke: #000000; stroke-width: 1.5;\" x1=\"285\" x2=\"406\" y1=\"236.2969\" y2=\"236.2969\"/><text fill=\"#000000\" font-family=\"sans-serif\" font-size=\"14\" font-weight=\"bold\" lengthAdjust=\"spacingAndGlyphs\" textLength=\"108\" x=\"289\" y=\"228.9951\">Service Layer</text></a><a href=\"psysml:f10bbfff-f917-435f-bbe7-eedf9b14a34c\" target=\"_top\" title=\"psysml:f10bbfff-f917-435f-bbe7-eedf9b14a34c\" xlink:actuate=\"onRequest\" xlink:href=\"psysml:f10bbfff-f917-435f-bbe7-eedf9b14a34c\" xlink:show=\"new\" xlink:title=\"psysml:f10bbfff-f917-435f-bbe7-eedf9b14a34c\" xlink:type=\"simple\"><polygon fill=\"#FFFFFF\" points=\"297,344,387,344,394,366.2969,401,366.2969,401,396.5938,297,396.5938,297,344\" style=\"stroke: #000000; stroke-width: 1.5;\"/><line style=\"stroke: #000000; stroke-width: 1.5;\" x1=\"297\" x2=\"394\" y1=\"366.2969\" y2=\"366.2969\"/><text fill=\"#000000\" font-family=\"sans-serif\" font-size=\"14\" font-weight=\"bold\" lengthAdjust=\"spacingAndGlyphs\" textLength=\"84\" x=\"301\" y=\"358.9951\">Data Layer</text></a><!--MD5=[af87c684e3b0d8be13c1a698a818ef1e]\n",
       "link E3 to E4--><a href=\"psysml:d6fef634-817c-4ef1-96de-f37bb594aaea\" target=\"_top\" title=\"psysml:d6fef634-817c-4ef1-96de-f37bb594aaea\" xlink:actuate=\"onRequest\" xlink:href=\"psysml:d6fef634-817c-4ef1-96de-f37bb594aaea\" xlink:show=\"new\" xlink:title=\"psysml:d6fef634-817c-4ef1-96de-f37bb594aaea\" xlink:type=\"simple\"><path d=\"M349,137.1 C349,156.8 349,184.22 349,205.73 \" fill=\"none\" id=\"E3-&gt;E4\" style=\"stroke: #383838; stroke-width: 1.0; stroke-dasharray: 7.0,7.0;\"/><polygon fill=\"#383838\" points=\"349,213.95,352,205.95,346,205.95,349,213.95\" style=\"stroke: #383838; stroke-width: 1.0;\"/><text fill=\"#000000\" font-family=\"sans-serif\" font-size=\"13\" lengthAdjust=\"spacingAndGlyphs\" textLength=\"64\" x=\"350\" y=\"180.0669\">«depend»</text></a><!--MD5=[1b7591eae5389033d8d09a9d6721a717]\n",
       "link E4 to E5--><a href=\"psysml:d4b689e0-de38-42ab-a0b3-2a8bf82e0669\" target=\"_top\" title=\"psysml:d4b689e0-de38-42ab-a0b3-2a8bf82e0669\" xlink:actuate=\"onRequest\" xlink:href=\"psysml:d4b689e0-de38-42ab-a0b3-2a8bf82e0669\" xlink:show=\"new\" xlink:title=\"psysml:d4b689e0-de38-42ab-a0b3-2a8bf82e0669\" xlink:type=\"simple\"><path d=\"M349,267.1 C349,286.8 349,314.22 349,335.73 \" fill=\"none\" id=\"E4-&gt;E5\" style=\"stroke: #383838; stroke-width: 1.0; stroke-dasharray: 7.0,7.0;\"/><polygon fill=\"#383838\" points=\"349,343.95,352,335.95,346,335.95,349,343.95\" style=\"stroke: #383838; stroke-width: 1.0;\"/><text fill=\"#000000\" font-family=\"sans-serif\" font-size=\"13\" lengthAdjust=\"spacingAndGlyphs\" textLength=\"64\" x=\"350\" y=\"310.0669\">«depend»</text></a><!--MD5=[c5e8897d989ce984f93528998a7150fe]\n",
       "link E8 to E6--><a href=\"psysml:c74e1bf4-ee72-40a7-b163-07732e38ed67\" target=\"_top\" title=\"psysml:c74e1bf4-ee72-40a7-b163-07732e38ed67\" xlink:actuate=\"onRequest\" xlink:href=\"psysml:c74e1bf4-ee72-40a7-b163-07732e38ed67\" xlink:show=\"new\" xlink:title=\"psysml:c74e1bf4-ee72-40a7-b163-07732e38ed67\" xlink:type=\"simple\"><path d=\"M89.42,133.6 C79.35,142.68 69.37,154.11 64,167 C58.5,180.2 58.66,195.94 60.54,209.38 \" fill=\"none\" id=\"E8-&gt;E6\" style=\"stroke: #383838; stroke-width: 1.0; stroke-dasharray: 7.0,7.0;\"/><polygon fill=\"#383838\" points=\"61.9,217.4,63.517,209.0104,57.6018,210.0159,61.9,217.4\" style=\"stroke: #383838; stroke-width: 1.0;\"/><text fill=\"#000000\" font-family=\"sans-serif\" font-size=\"13\" lengthAdjust=\"spacingAndGlyphs\" textLength=\"64\" x=\"65\" y=\"180.0669\">«depend»</text></a><!--MD5=[bfa3c8b0d15052fdf50ae9310b491027]\n",
       "link E8 to E7--><a href=\"psysml:c74e1bf4-ee72-40a7-b163-07732e38ed67\" target=\"_top\" title=\"psysml:c74e1bf4-ee72-40a7-b163-07732e38ed67\" xlink:actuate=\"onRequest\" xlink:href=\"psysml:c74e1bf4-ee72-40a7-b163-07732e38ed67\" xlink:show=\"new\" xlink:title=\"psysml:c74e1bf4-ee72-40a7-b163-07732e38ed67\" xlink:type=\"simple\"><path d=\"M129.28,133.5 C138.17,154.57 151.64,186.5 161.47,209.81 \" fill=\"none\" id=\"E8-&gt;E7\" style=\"stroke: #383838; stroke-width: 1.0; stroke-dasharray: 7.0,7.0;\"/><polygon fill=\"#383838\" points=\"164.66,217.35,164.3241,208.8126,158.7933,211.1385,164.66,217.35\" style=\"stroke: #383838; stroke-width: 1.0;\"/><text fill=\"#000000\" font-family=\"sans-serif\" font-size=\"13\" lengthAdjust=\"spacingAndGlyphs\" textLength=\"64\" x=\"151\" y=\"180.0669\">«depend»</text></a><!--MD5=[f62799f5fdddecfbe1d9494b9a777dc7]\n",
       "@startuml\r\n",
       "top to bottom direction\r\n",
       "skinparam monochrome true\r\n",
       "skinparam classbackgroundcolor white\r\n",
       "skinparam shadowing false\r\n",
       "skinparam wrapWidth 300\r\n",
       "hide circle\r\n",
       "\r\n",
       "package \"DependencyTest\" as E1  [[psysml:f9a8e327-3c68-43cc-8fc4-f0fda4441472 ]]  {\r\n",
       "package \"System\" as E2  [[psysml:5e0f80f7-1058-4b47-9f4f-e59769b1dff5 ]]  {\r\n",
       "package \"Application Layer\" as E3  [[psysml:d7cd1111-165d-4c09-9c1d-1c6e69d6b628 ]]  {\r\n",
       "}\r\n",
       "package \"Service Layer\" as E4  [[psysml:4fd532ef-c056-48ed-b57e-c34d41c7d9b0 ]]  {\r\n",
       "}\r\n",
       "package \"Data Layer\" as E5  [[psysml:f10bbfff-f917-435f-bbe7-eedf9b14a34c ]]  {\r\n",
       "}\r\n",
       "}\r\n",
       "comp usage \"x\" as E6  <<(T,blue)attribute>> [[psysml:52169dc2-f588-4d36-bb4d-934125a8defa ]] {\r\n",
       "}\r\n",
       "comp usage \"y\" as E7  <<(T,blue)attribute>> [[psysml:638ee95e-a488-4c6b-8aa7-581f6cf4c2fe ]] {\r\n",
       "}\r\n",
       "comp usage \"z\" as E8  <<(T,blue)attribute>> [[psysml:267f67df-ceab-4f9b-9288-379f8b6d76cc ]] {\r\n",
       "}\r\n",
       "E3 ..>> E4 [[psysml:d6fef634-817c-4ef1-96de-f37bb594aaea ]] : <<depend>>\r\n",
       "E4 ..>> E5 [[psysml:d4b689e0-de38-42ab-a0b3-2a8bf82e0669 ]] : <<depend>>\r\n",
       "E8 ..>> E6 [[psysml:c74e1bf4-ee72-40a7-b163-07732e38ed67 ]] : <<depend>>\r\n",
       "E8 ..>> E7 [[psysml:c74e1bf4-ee72-40a7-b163-07732e38ed67 ]] : <<depend>>\r\n",
       "}\r\n",
       "@enduml\r\n",
       "\n",
       "PlantUML version 1.2020.13(Sat Jun 13 12:26:38 UTC 2020)\n",
       "(EPL source distribution)\n",
       "Java Runtime: OpenJDK Runtime Environment\n",
       "JVM: OpenJDK 64-Bit Server VM\n",
       "Default Encoding: UTF-8\n",
       "Language: en\n",
       "Country: null\n",
       "--></g></svg>"
      ]
     },
     "execution_count": 44,
     "metadata": {},
     "output_type": "execute_result"
    }
   ],
   "source": [
    "%viz --style=\"TB\" --view=\"Default\" \"DependencyTest\""
   ]
  },
  {
   "cell_type": "code",
   "execution_count": 45,
   "id": "21c26998",
   "metadata": {
    "execution": {
     "iopub.execute_input": "2021-05-27T06:11:49.214528Z",
     "iopub.status.busy": "2021-05-27T06:11:49.213957Z",
     "iopub.status.idle": "2021-05-27T06:11:49.244660Z",
     "shell.execute_reply": "2021-05-27T06:11:49.243013Z"
    }
   },
   "outputs": [
    {
     "data": {
      "image/svg+xml": [
       "<?xml version=\"1.0\" encoding=\"UTF-8\" standalone=\"no\"?><svg xmlns=\"http://www.w3.org/2000/svg\" xmlns:xlink=\"http://www.w3.org/1999/xlink\" contentScriptType=\"application/ecmascript\" contentStyleType=\"text/css\" height=\"449px\" preserveAspectRatio=\"none\" style=\"width:489px;height:449px;\" version=\"1.1\" viewBox=\"0 0 489 449\" width=\"489px\" zoomAndPan=\"magnify\"><defs/><g><!--MD5=[fbc87193dbaf4d95561dea2c320d4a47]\n",
       "cluster E1--><a href=\"psysml:f9a8e327-3c68-43cc-8fc4-f0fda4441472\" target=\"_top\" title=\"psysml:f9a8e327-3c68-43cc-8fc4-f0fda4441472\" xlink:actuate=\"onRequest\" xlink:href=\"psysml:f9a8e327-3c68-43cc-8fc4-f0fda4441472\" xlink:show=\"new\" xlink:title=\"psysml:f9a8e327-3c68-43cc-8fc4-f0fda4441472\" xlink:type=\"simple\"><polygon fill=\"#FFFFFF\" points=\"16,6,156,6,163,28.2969,467,28.2969,467,437,16,437,16,6\" style=\"stroke: #000000; stroke-width: 1.5;\"/><line style=\"stroke: #000000; stroke-width: 1.5;\" x1=\"16\" x2=\"163\" y1=\"28.2969\" y2=\"28.2969\"/><text fill=\"#000000\" font-family=\"sans-serif\" font-size=\"14\" font-weight=\"bold\" lengthAdjust=\"spacingAndGlyphs\" textLength=\"134\" x=\"20\" y=\"20.9951\">DependencyTest</text></a><!--MD5=[e4f7fae6ed58524ba242bb0b0d3be6b7]\n",
       "cluster E2--><a href=\"psysml:5e0f80f7-1058-4b47-9f4f-e59769b1dff5\" target=\"_top\" title=\"psysml:5e0f80f7-1058-4b47-9f4f-e59769b1dff5\" xlink:actuate=\"onRequest\" xlink:href=\"psysml:5e0f80f7-1058-4b47-9f4f-e59769b1dff5\" xlink:show=\"new\" xlink:title=\"psysml:5e0f80f7-1058-4b47-9f4f-e59769b1dff5\" xlink:type=\"simple\"><polygon fill=\"#FFFFFF\" points=\"255,49,319,49,326,71.2969,443,71.2969,443,413,255,413,255,49\" style=\"stroke: #000000; stroke-width: 1.5;\"/><line style=\"stroke: #000000; stroke-width: 1.5;\" x1=\"255\" x2=\"326\" y1=\"71.2969\" y2=\"71.2969\"/><text fill=\"#000000\" font-family=\"sans-serif\" font-size=\"14\" font-weight=\"bold\" lengthAdjust=\"spacingAndGlyphs\" textLength=\"58\" x=\"259\" y=\"63.9951\">System</text></a><!--MD5=[60a26617385b1d2d0262a64233df1f8d]\n",
       "class E6--><a href=\"psysml:52169dc2-f588-4d36-bb4d-934125a8defa\" target=\"_top\" title=\"psysml:52169dc2-f588-4d36-bb4d-934125a8defa\" xlink:actuate=\"onRequest\" xlink:href=\"psysml:52169dc2-f588-4d36-bb4d-934125a8defa\" xlink:show=\"new\" xlink:title=\"psysml:52169dc2-f588-4d36-bb4d-934125a8defa\" xlink:type=\"simple\"><rect fill=\"#FFFFFF\" height=\"45.9375\" id=\"E6\" rx=\"10\" ry=\"10\" style=\"stroke: #383838; stroke-width: 1.5;\" width=\"71\" x=\"32.5\" y=\"217.5\"/><text fill=\"#000000\" font-family=\"sans-serif\" font-size=\"12\" font-style=\"italic\" lengthAdjust=\"spacingAndGlyphs\" textLength=\"69\" x=\"33.5\" y=\"233.6387\">«attribute»</text><text fill=\"#000000\" font-family=\"sans-serif\" font-size=\"12\" lengthAdjust=\"spacingAndGlyphs\" textLength=\"6\" x=\"65\" y=\"247.6074\">x</text><line style=\"stroke: #383838; stroke-width: 1.5;\" x1=\"33.5\" x2=\"102.5\" y1=\"255.4375\" y2=\"255.4375\"/></a><!--MD5=[2156ba9850f5573cc1fc38a6a4b2f02b]\n",
       "class E7--><a href=\"psysml:638ee95e-a488-4c6b-8aa7-581f6cf4c2fe\" target=\"_top\" title=\"psysml:638ee95e-a488-4c6b-8aa7-581f6cf4c2fe\" xlink:actuate=\"onRequest\" xlink:href=\"psysml:638ee95e-a488-4c6b-8aa7-581f6cf4c2fe\" xlink:show=\"new\" xlink:title=\"psysml:638ee95e-a488-4c6b-8aa7-581f6cf4c2fe\" xlink:type=\"simple\"><rect fill=\"#FFFFFF\" height=\"45.9375\" id=\"E7\" rx=\"10\" ry=\"10\" style=\"stroke: #383838; stroke-width: 1.5;\" width=\"71\" x=\"138.5\" y=\"217.5\"/><text fill=\"#000000\" font-family=\"sans-serif\" font-size=\"12\" font-style=\"italic\" lengthAdjust=\"spacingAndGlyphs\" textLength=\"69\" x=\"139.5\" y=\"233.6387\">«attribute»</text><text fill=\"#000000\" font-family=\"sans-serif\" font-size=\"12\" lengthAdjust=\"spacingAndGlyphs\" textLength=\"6\" x=\"171\" y=\"247.6074\">y</text><line style=\"stroke: #383838; stroke-width: 1.5;\" x1=\"139.5\" x2=\"208.5\" y1=\"255.4375\" y2=\"255.4375\"/></a><!--MD5=[b9389687b975829384b498ac4b7476b2]\n",
       "class E8--><a href=\"psysml:267f67df-ceab-4f9b-9288-379f8b6d76cc\" target=\"_top\" title=\"psysml:267f67df-ceab-4f9b-9288-379f8b6d76cc\" xlink:actuate=\"onRequest\" xlink:href=\"psysml:267f67df-ceab-4f9b-9288-379f8b6d76cc\" xlink:show=\"new\" xlink:title=\"psysml:267f67df-ceab-4f9b-9288-379f8b6d76cc\" xlink:type=\"simple\"><rect fill=\"#FFFFFF\" height=\"45.9375\" id=\"E8\" rx=\"10\" ry=\"10\" style=\"stroke: #383838; stroke-width: 1.5;\" width=\"71\" x=\"84.5\" y=\"87.5\"/><text fill=\"#000000\" font-family=\"sans-serif\" font-size=\"12\" font-style=\"italic\" lengthAdjust=\"spacingAndGlyphs\" textLength=\"69\" x=\"85.5\" y=\"103.6387\">«attribute»</text><text fill=\"#000000\" font-family=\"sans-serif\" font-size=\"12\" lengthAdjust=\"spacingAndGlyphs\" textLength=\"5\" x=\"117.5\" y=\"117.6074\">z</text><line style=\"stroke: #383838; stroke-width: 1.5;\" x1=\"85.5\" x2=\"154.5\" y1=\"125.4375\" y2=\"125.4375\"/></a><a href=\"psysml:d7cd1111-165d-4c09-9c1d-1c6e69d6b628\" target=\"_top\" title=\"psysml:d7cd1111-165d-4c09-9c1d-1c6e69d6b628\" xlink:actuate=\"onRequest\" xlink:href=\"psysml:d7cd1111-165d-4c09-9c1d-1c6e69d6b628\" xlink:show=\"new\" xlink:title=\"psysml:d7cd1111-165d-4c09-9c1d-1c6e69d6b628\" xlink:type=\"simple\"><polygon fill=\"#FFFFFF\" points=\"271,84,413,84,420,106.2969,427,106.2969,427,136.5938,271,136.5938,271,84\" style=\"stroke: #000000; stroke-width: 1.5;\"/><line style=\"stroke: #000000; stroke-width: 1.5;\" x1=\"271\" x2=\"420\" y1=\"106.2969\" y2=\"106.2969\"/><text fill=\"#000000\" font-family=\"sans-serif\" font-size=\"14\" font-weight=\"bold\" lengthAdjust=\"spacingAndGlyphs\" textLength=\"136\" x=\"275\" y=\"98.9951\">Application Layer</text></a><a href=\"psysml:4fd532ef-c056-48ed-b57e-c34d41c7d9b0\" target=\"_top\" title=\"psysml:4fd532ef-c056-48ed-b57e-c34d41c7d9b0\" xlink:actuate=\"onRequest\" xlink:href=\"psysml:4fd532ef-c056-48ed-b57e-c34d41c7d9b0\" xlink:show=\"new\" xlink:title=\"psysml:4fd532ef-c056-48ed-b57e-c34d41c7d9b0\" xlink:type=\"simple\"><polygon fill=\"#FFFFFF\" points=\"285,214,399,214,406,236.2969,413,236.2969,413,266.5938,285,266.5938,285,214\" style=\"stroke: #000000; stroke-width: 1.5;\"/><line style=\"stroke: #000000; stroke-width: 1.5;\" x1=\"285\" x2=\"406\" y1=\"236.2969\" y2=\"236.2969\"/><text fill=\"#000000\" font-family=\"sans-serif\" font-size=\"14\" font-weight=\"bold\" lengthAdjust=\"spacingAndGlyphs\" textLength=\"108\" x=\"289\" y=\"228.9951\">Service Layer</text></a><a href=\"psysml:f10bbfff-f917-435f-bbe7-eedf9b14a34c\" target=\"_top\" title=\"psysml:f10bbfff-f917-435f-bbe7-eedf9b14a34c\" xlink:actuate=\"onRequest\" xlink:href=\"psysml:f10bbfff-f917-435f-bbe7-eedf9b14a34c\" xlink:show=\"new\" xlink:title=\"psysml:f10bbfff-f917-435f-bbe7-eedf9b14a34c\" xlink:type=\"simple\"><polygon fill=\"#FFFFFF\" points=\"297,344,387,344,394,366.2969,401,366.2969,401,396.5938,297,396.5938,297,344\" style=\"stroke: #000000; stroke-width: 1.5;\"/><line style=\"stroke: #000000; stroke-width: 1.5;\" x1=\"297\" x2=\"394\" y1=\"366.2969\" y2=\"366.2969\"/><text fill=\"#000000\" font-family=\"sans-serif\" font-size=\"14\" font-weight=\"bold\" lengthAdjust=\"spacingAndGlyphs\" textLength=\"84\" x=\"301\" y=\"358.9951\">Data Layer</text></a><!--MD5=[af87c684e3b0d8be13c1a698a818ef1e]\n",
       "link E3 to E4--><a href=\"psysml:d6fef634-817c-4ef1-96de-f37bb594aaea\" target=\"_top\" title=\"psysml:d6fef634-817c-4ef1-96de-f37bb594aaea\" xlink:actuate=\"onRequest\" xlink:href=\"psysml:d6fef634-817c-4ef1-96de-f37bb594aaea\" xlink:show=\"new\" xlink:title=\"psysml:d6fef634-817c-4ef1-96de-f37bb594aaea\" xlink:type=\"simple\"><path d=\"M349,137.1 C349,156.8 349,184.22 349,205.73 \" fill=\"none\" id=\"E3-&gt;E4\" style=\"stroke: #383838; stroke-width: 1.0; stroke-dasharray: 7.0,7.0;\"/><polygon fill=\"#383838\" points=\"349,213.95,352,205.95,346,205.95,349,213.95\" style=\"stroke: #383838; stroke-width: 1.0;\"/><text fill=\"#000000\" font-family=\"sans-serif\" font-size=\"13\" lengthAdjust=\"spacingAndGlyphs\" textLength=\"64\" x=\"350\" y=\"180.0669\">«depend»</text></a><!--MD5=[1b7591eae5389033d8d09a9d6721a717]\n",
       "link E4 to E5--><a href=\"psysml:d4b689e0-de38-42ab-a0b3-2a8bf82e0669\" target=\"_top\" title=\"psysml:d4b689e0-de38-42ab-a0b3-2a8bf82e0669\" xlink:actuate=\"onRequest\" xlink:href=\"psysml:d4b689e0-de38-42ab-a0b3-2a8bf82e0669\" xlink:show=\"new\" xlink:title=\"psysml:d4b689e0-de38-42ab-a0b3-2a8bf82e0669\" xlink:type=\"simple\"><path d=\"M349,267.1 C349,286.8 349,314.22 349,335.73 \" fill=\"none\" id=\"E4-&gt;E5\" style=\"stroke: #383838; stroke-width: 1.0; stroke-dasharray: 7.0,7.0;\"/><polygon fill=\"#383838\" points=\"349,343.95,352,335.95,346,335.95,349,343.95\" style=\"stroke: #383838; stroke-width: 1.0;\"/><text fill=\"#000000\" font-family=\"sans-serif\" font-size=\"13\" lengthAdjust=\"spacingAndGlyphs\" textLength=\"64\" x=\"350\" y=\"310.0669\">«depend»</text></a><!--MD5=[c5e8897d989ce984f93528998a7150fe]\n",
       "link E8 to E6--><a href=\"psysml:c74e1bf4-ee72-40a7-b163-07732e38ed67\" target=\"_top\" title=\"psysml:c74e1bf4-ee72-40a7-b163-07732e38ed67\" xlink:actuate=\"onRequest\" xlink:href=\"psysml:c74e1bf4-ee72-40a7-b163-07732e38ed67\" xlink:show=\"new\" xlink:title=\"psysml:c74e1bf4-ee72-40a7-b163-07732e38ed67\" xlink:type=\"simple\"><path d=\"M89.42,133.6 C79.35,142.68 69.37,154.11 64,167 C58.5,180.2 58.66,195.94 60.54,209.38 \" fill=\"none\" id=\"E8-&gt;E6\" style=\"stroke: #383838; stroke-width: 1.0; stroke-dasharray: 7.0,7.0;\"/><polygon fill=\"#383838\" points=\"61.9,217.4,63.517,209.0104,57.6018,210.0159,61.9,217.4\" style=\"stroke: #383838; stroke-width: 1.0;\"/><text fill=\"#000000\" font-family=\"sans-serif\" font-size=\"13\" lengthAdjust=\"spacingAndGlyphs\" textLength=\"64\" x=\"65\" y=\"180.0669\">«depend»</text></a><!--MD5=[bfa3c8b0d15052fdf50ae9310b491027]\n",
       "link E8 to E7--><a href=\"psysml:c74e1bf4-ee72-40a7-b163-07732e38ed67\" target=\"_top\" title=\"psysml:c74e1bf4-ee72-40a7-b163-07732e38ed67\" xlink:actuate=\"onRequest\" xlink:href=\"psysml:c74e1bf4-ee72-40a7-b163-07732e38ed67\" xlink:show=\"new\" xlink:title=\"psysml:c74e1bf4-ee72-40a7-b163-07732e38ed67\" xlink:type=\"simple\"><path d=\"M129.28,133.5 C138.17,154.57 151.64,186.5 161.47,209.81 \" fill=\"none\" id=\"E8-&gt;E7\" style=\"stroke: #383838; stroke-width: 1.0; stroke-dasharray: 7.0,7.0;\"/><polygon fill=\"#383838\" points=\"164.66,217.35,164.3241,208.8126,158.7933,211.1385,164.66,217.35\" style=\"stroke: #383838; stroke-width: 1.0;\"/><text fill=\"#000000\" font-family=\"sans-serif\" font-size=\"13\" lengthAdjust=\"spacingAndGlyphs\" textLength=\"64\" x=\"151\" y=\"180.0669\">«depend»</text></a><!--MD5=[f62799f5fdddecfbe1d9494b9a777dc7]\n",
       "@startuml\r\n",
       "top to bottom direction\r\n",
       "skinparam monochrome true\r\n",
       "skinparam classbackgroundcolor white\r\n",
       "skinparam shadowing false\r\n",
       "skinparam wrapWidth 300\r\n",
       "hide circle\r\n",
       "\r\n",
       "package \"DependencyTest\" as E1  [[psysml:f9a8e327-3c68-43cc-8fc4-f0fda4441472 ]]  {\r\n",
       "package \"System\" as E2  [[psysml:5e0f80f7-1058-4b47-9f4f-e59769b1dff5 ]]  {\r\n",
       "package \"Application Layer\" as E3  [[psysml:d7cd1111-165d-4c09-9c1d-1c6e69d6b628 ]]  {\r\n",
       "}\r\n",
       "package \"Service Layer\" as E4  [[psysml:4fd532ef-c056-48ed-b57e-c34d41c7d9b0 ]]  {\r\n",
       "}\r\n",
       "package \"Data Layer\" as E5  [[psysml:f10bbfff-f917-435f-bbe7-eedf9b14a34c ]]  {\r\n",
       "}\r\n",
       "}\r\n",
       "comp usage \"x\" as E6  <<(T,blue)attribute>> [[psysml:52169dc2-f588-4d36-bb4d-934125a8defa ]] {\r\n",
       "}\r\n",
       "comp usage \"y\" as E7  <<(T,blue)attribute>> [[psysml:638ee95e-a488-4c6b-8aa7-581f6cf4c2fe ]] {\r\n",
       "}\r\n",
       "comp usage \"z\" as E8  <<(T,blue)attribute>> [[psysml:267f67df-ceab-4f9b-9288-379f8b6d76cc ]] {\r\n",
       "}\r\n",
       "E3 ..>> E4 [[psysml:d6fef634-817c-4ef1-96de-f37bb594aaea ]] : <<depend>>\r\n",
       "E4 ..>> E5 [[psysml:d4b689e0-de38-42ab-a0b3-2a8bf82e0669 ]] : <<depend>>\r\n",
       "E8 ..>> E6 [[psysml:c74e1bf4-ee72-40a7-b163-07732e38ed67 ]] : <<depend>>\r\n",
       "E8 ..>> E7 [[psysml:c74e1bf4-ee72-40a7-b163-07732e38ed67 ]] : <<depend>>\r\n",
       "}\r\n",
       "@enduml\r\n",
       "\n",
       "PlantUML version 1.2020.13(Sat Jun 13 12:26:38 UTC 2020)\n",
       "(EPL source distribution)\n",
       "Java Runtime: OpenJDK Runtime Environment\n",
       "JVM: OpenJDK 64-Bit Server VM\n",
       "Default Encoding: UTF-8\n",
       "Language: en\n",
       "Country: null\n",
       "--></g></svg>"
      ]
     },
     "execution_count": 45,
     "metadata": {},
     "output_type": "execute_result"
    }
   ],
   "source": [
    "%viz --style=\"TB\" --view=\"Tree\" \"DependencyTest\""
   ]
  },
  {
   "cell_type": "code",
   "execution_count": 46,
   "id": "6eecda5d",
   "metadata": {
    "execution": {
     "iopub.execute_input": "2021-05-27T06:11:49.294732Z",
     "iopub.status.busy": "2021-05-27T06:11:49.294355Z",
     "iopub.status.idle": "2021-05-27T06:11:49.299765Z",
     "shell.execute_reply": "2021-05-27T06:11:49.299449Z"
    }
   },
   "outputs": [
    {
     "data": {
      "image/svg+xml": [
       "<?xml version=\"1.0\" encoding=\"UTF-8\" standalone=\"no\"?><svg xmlns=\"http://www.w3.org/2000/svg\" xmlns:xlink=\"http://www.w3.org/1999/xlink\" contentScriptType=\"application/ecmascript\" contentStyleType=\"text/css\" height=\"12px\" preserveAspectRatio=\"none\" style=\"width:12px;height:12px;\" version=\"1.1\" viewBox=\"0 0 12 12\" width=\"12px\" zoomAndPan=\"magnify\"><defs/><g><!--MD5=[f4ee21bc66e489b5061b7c3e9601fdef]\n",
       "@startuml\r\n",
       "top to bottom direction\r\n",
       "skinparam monochrome true\r\n",
       "skinparam classbackgroundcolor white\r\n",
       "skinparam shadowing false\r\n",
       "skinparam wrapWidth 300\r\n",
       "hide circle\r\n",
       "\r\n",
       "@enduml\r\n",
       "\n",
       "PlantUML version 1.2020.13(Sat Jun 13 12:26:38 UTC 2020)\n",
       "(EPL source distribution)\n",
       "Java Runtime: OpenJDK Runtime Environment\n",
       "JVM: OpenJDK 64-Bit Server VM\n",
       "Default Encoding: UTF-8\n",
       "Language: en\n",
       "Country: null\n",
       "--></g></svg>"
      ]
     },
     "execution_count": 46,
     "metadata": {},
     "output_type": "execute_result"
    }
   ],
   "source": [
    "%viz --style=\"TB\" --view=\"State\" \"DependencyTest\""
   ]
  },
  {
   "cell_type": "code",
   "execution_count": 47,
   "id": "7cbf48cf",
   "metadata": {
    "execution": {
     "iopub.execute_input": "2021-05-27T06:11:49.352772Z",
     "iopub.status.busy": "2021-05-27T06:11:49.352435Z",
     "iopub.status.idle": "2021-05-27T06:11:49.380742Z",
     "shell.execute_reply": "2021-05-27T06:11:49.379145Z"
    }
   },
   "outputs": [
    {
     "data": {
      "image/svg+xml": [
       "<?xml version=\"1.0\" encoding=\"UTF-8\" standalone=\"no\"?><svg xmlns=\"http://www.w3.org/2000/svg\" xmlns:xlink=\"http://www.w3.org/1999/xlink\" contentScriptType=\"application/ecmascript\" contentStyleType=\"text/css\" height=\"361px\" preserveAspectRatio=\"none\" style=\"width:489px;height:361px;\" version=\"1.1\" viewBox=\"0 0 489 361\" width=\"489px\" zoomAndPan=\"magnify\"><defs/><g><!--MD5=[fbc87193dbaf4d95561dea2c320d4a47]\n",
       "cluster E1--><a href=\"psysml:f9a8e327-3c68-43cc-8fc4-f0fda4441472\" target=\"_top\" title=\"psysml:f9a8e327-3c68-43cc-8fc4-f0fda4441472\" xlink:actuate=\"onRequest\" xlink:href=\"psysml:f9a8e327-3c68-43cc-8fc4-f0fda4441472\" xlink:show=\"new\" xlink:title=\"psysml:f9a8e327-3c68-43cc-8fc4-f0fda4441472\" xlink:type=\"simple\"><polygon fill=\"#FFFFFF\" points=\"16,6,156,6,163,28.2969,467,28.2969,467,349,16,349,16,6\" style=\"stroke: #000000; stroke-width: 1.5;\"/><line style=\"stroke: #000000; stroke-width: 1.5;\" x1=\"16\" x2=\"163\" y1=\"28.2969\" y2=\"28.2969\"/><text fill=\"#000000\" font-family=\"sans-serif\" font-size=\"14\" font-weight=\"bold\" lengthAdjust=\"spacingAndGlyphs\" textLength=\"134\" x=\"20\" y=\"20.9951\">DependencyTest</text></a><!--MD5=[e4f7fae6ed58524ba242bb0b0d3be6b7]\n",
       "cluster E2--><a href=\"psysml:5e0f80f7-1058-4b47-9f4f-e59769b1dff5\" target=\"_top\" title=\"psysml:5e0f80f7-1058-4b47-9f4f-e59769b1dff5\" xlink:actuate=\"onRequest\" xlink:href=\"psysml:5e0f80f7-1058-4b47-9f4f-e59769b1dff5\" xlink:show=\"new\" xlink:title=\"psysml:5e0f80f7-1058-4b47-9f4f-e59769b1dff5\" xlink:type=\"simple\"><polygon fill=\"#FFFFFF\" points=\"255,49,319,49,326,71.2969,443,71.2969,443,325,255,325,255,49\" style=\"stroke: #000000; stroke-width: 1.5;\"/><line style=\"stroke: #000000; stroke-width: 1.5;\" x1=\"255\" x2=\"326\" y1=\"71.2969\" y2=\"71.2969\"/><text fill=\"#000000\" font-family=\"sans-serif\" font-size=\"14\" font-weight=\"bold\" lengthAdjust=\"spacingAndGlyphs\" textLength=\"58\" x=\"259\" y=\"63.9951\">System</text></a><!--MD5=[60a26617385b1d2d0262a64233df1f8d]\n",
       "class E6--><a href=\"psysml:52169dc2-f588-4d36-bb4d-934125a8defa\" target=\"_top\" title=\"psysml:52169dc2-f588-4d36-bb4d-934125a8defa\" xlink:actuate=\"onRequest\" xlink:href=\"psysml:52169dc2-f588-4d36-bb4d-934125a8defa\" xlink:show=\"new\" xlink:title=\"psysml:52169dc2-f588-4d36-bb4d-934125a8defa\" xlink:type=\"simple\"><rect fill=\"#FFFFFF\" height=\"45.9375\" id=\"E6\" rx=\"10\" ry=\"10\" style=\"stroke: #383838; stroke-width: 1.5;\" width=\"71\" x=\"32.5\" y=\"173.5\"/><text fill=\"#000000\" font-family=\"sans-serif\" font-size=\"12\" font-style=\"italic\" lengthAdjust=\"spacingAndGlyphs\" textLength=\"69\" x=\"33.5\" y=\"189.6387\">«attribute»</text><text fill=\"#000000\" font-family=\"sans-serif\" font-size=\"12\" lengthAdjust=\"spacingAndGlyphs\" textLength=\"6\" x=\"65\" y=\"203.6074\">x</text><line style=\"stroke: #383838; stroke-width: 1.5;\" x1=\"33.5\" x2=\"102.5\" y1=\"211.4375\" y2=\"211.4375\"/></a><!--MD5=[2156ba9850f5573cc1fc38a6a4b2f02b]\n",
       "class E7--><a href=\"psysml:638ee95e-a488-4c6b-8aa7-581f6cf4c2fe\" target=\"_top\" title=\"psysml:638ee95e-a488-4c6b-8aa7-581f6cf4c2fe\" xlink:actuate=\"onRequest\" xlink:href=\"psysml:638ee95e-a488-4c6b-8aa7-581f6cf4c2fe\" xlink:show=\"new\" xlink:title=\"psysml:638ee95e-a488-4c6b-8aa7-581f6cf4c2fe\" xlink:type=\"simple\"><rect fill=\"#FFFFFF\" height=\"45.9375\" id=\"E7\" rx=\"10\" ry=\"10\" style=\"stroke: #383838; stroke-width: 1.5;\" width=\"71\" x=\"138.5\" y=\"173.5\"/><text fill=\"#000000\" font-family=\"sans-serif\" font-size=\"12\" font-style=\"italic\" lengthAdjust=\"spacingAndGlyphs\" textLength=\"69\" x=\"139.5\" y=\"189.6387\">«attribute»</text><text fill=\"#000000\" font-family=\"sans-serif\" font-size=\"12\" lengthAdjust=\"spacingAndGlyphs\" textLength=\"6\" x=\"171\" y=\"203.6074\">y</text><line style=\"stroke: #383838; stroke-width: 1.5;\" x1=\"139.5\" x2=\"208.5\" y1=\"211.4375\" y2=\"211.4375\"/></a><!--MD5=[b9389687b975829384b498ac4b7476b2]\n",
       "class E8--><a href=\"psysml:267f67df-ceab-4f9b-9288-379f8b6d76cc\" target=\"_top\" title=\"psysml:267f67df-ceab-4f9b-9288-379f8b6d76cc\" xlink:actuate=\"onRequest\" xlink:href=\"psysml:267f67df-ceab-4f9b-9288-379f8b6d76cc\" xlink:show=\"new\" xlink:title=\"psysml:267f67df-ceab-4f9b-9288-379f8b6d76cc\" xlink:type=\"simple\"><rect fill=\"#FFFFFF\" height=\"45.9375\" id=\"E8\" rx=\"10\" ry=\"10\" style=\"stroke: #383838; stroke-width: 1.5;\" width=\"71\" x=\"84.5\" y=\"87.5\"/><text fill=\"#000000\" font-family=\"sans-serif\" font-size=\"12\" font-style=\"italic\" lengthAdjust=\"spacingAndGlyphs\" textLength=\"69\" x=\"85.5\" y=\"103.6387\">«attribute»</text><text fill=\"#000000\" font-family=\"sans-serif\" font-size=\"12\" lengthAdjust=\"spacingAndGlyphs\" textLength=\"5\" x=\"117.5\" y=\"117.6074\">z</text><line style=\"stroke: #383838; stroke-width: 1.5;\" x1=\"85.5\" x2=\"154.5\" y1=\"125.4375\" y2=\"125.4375\"/></a><a href=\"psysml:d7cd1111-165d-4c09-9c1d-1c6e69d6b628\" target=\"_top\" title=\"psysml:d7cd1111-165d-4c09-9c1d-1c6e69d6b628\" xlink:actuate=\"onRequest\" xlink:href=\"psysml:d7cd1111-165d-4c09-9c1d-1c6e69d6b628\" xlink:show=\"new\" xlink:title=\"psysml:d7cd1111-165d-4c09-9c1d-1c6e69d6b628\" xlink:type=\"simple\"><polygon fill=\"#FFFFFF\" points=\"271,84,413,84,420,106.2969,427,106.2969,427,136.5938,271,136.5938,271,84\" style=\"stroke: #000000; stroke-width: 1.5;\"/><line style=\"stroke: #000000; stroke-width: 1.5;\" x1=\"271\" x2=\"420\" y1=\"106.2969\" y2=\"106.2969\"/><text fill=\"#000000\" font-family=\"sans-serif\" font-size=\"14\" font-weight=\"bold\" lengthAdjust=\"spacingAndGlyphs\" textLength=\"136\" x=\"275\" y=\"98.9951\">Application Layer</text></a><a href=\"psysml:4fd532ef-c056-48ed-b57e-c34d41c7d9b0\" target=\"_top\" title=\"psysml:4fd532ef-c056-48ed-b57e-c34d41c7d9b0\" xlink:actuate=\"onRequest\" xlink:href=\"psysml:4fd532ef-c056-48ed-b57e-c34d41c7d9b0\" xlink:show=\"new\" xlink:title=\"psysml:4fd532ef-c056-48ed-b57e-c34d41c7d9b0\" xlink:type=\"simple\"><polygon fill=\"#FFFFFF\" points=\"285,170,399,170,406,192.2969,413,192.2969,413,222.5938,285,222.5938,285,170\" style=\"stroke: #000000; stroke-width: 1.5;\"/><line style=\"stroke: #000000; stroke-width: 1.5;\" x1=\"285\" x2=\"406\" y1=\"192.2969\" y2=\"192.2969\"/><text fill=\"#000000\" font-family=\"sans-serif\" font-size=\"14\" font-weight=\"bold\" lengthAdjust=\"spacingAndGlyphs\" textLength=\"108\" x=\"289\" y=\"184.9951\">Service Layer</text></a><a href=\"psysml:f10bbfff-f917-435f-bbe7-eedf9b14a34c\" target=\"_top\" title=\"psysml:f10bbfff-f917-435f-bbe7-eedf9b14a34c\" xlink:actuate=\"onRequest\" xlink:href=\"psysml:f10bbfff-f917-435f-bbe7-eedf9b14a34c\" xlink:show=\"new\" xlink:title=\"psysml:f10bbfff-f917-435f-bbe7-eedf9b14a34c\" xlink:type=\"simple\"><polygon fill=\"#FFFFFF\" points=\"297,256,387,256,394,278.2969,401,278.2969,401,308.5938,297,308.5938,297,256\" style=\"stroke: #000000; stroke-width: 1.5;\"/><line style=\"stroke: #000000; stroke-width: 1.5;\" x1=\"297\" x2=\"394\" y1=\"278.2969\" y2=\"278.2969\"/><text fill=\"#000000\" font-family=\"sans-serif\" font-size=\"14\" font-weight=\"bold\" lengthAdjust=\"spacingAndGlyphs\" textLength=\"84\" x=\"301\" y=\"270.9951\">Data Layer</text></a><!--MD5=[af87c684e3b0d8be13c1a698a818ef1e]\n",
       "link E3 to E4--><a href=\"psysml:d6fef634-817c-4ef1-96de-f37bb594aaea\" target=\"_top\" title=\"psysml:d6fef634-817c-4ef1-96de-f37bb594aaea\" xlink:actuate=\"onRequest\" xlink:href=\"psysml:d6fef634-817c-4ef1-96de-f37bb594aaea\" xlink:show=\"new\" xlink:title=\"psysml:d6fef634-817c-4ef1-96de-f37bb594aaea\" xlink:type=\"simple\"><path d=\"M349,137.16 C349,144.98 349,153.69 349,161.94 \" fill=\"none\" id=\"E3-&gt;E4\" style=\"stroke: #383838; stroke-width: 1.0; stroke-dasharray: 7.0,7.0;\"/><polygon fill=\"#383838\" points=\"349,170,352,162,346,162,349,170\" style=\"stroke: #383838; stroke-width: 1.0;\"/><text fill=\"#000000\" font-family=\"sans-serif\" font-size=\"13\" lengthAdjust=\"spacingAndGlyphs\" textLength=\"64\" x=\"350\" y=\"158.0669\">«depend»</text></a><!--MD5=[1b7591eae5389033d8d09a9d6721a717]\n",
       "link E4 to E5--><a href=\"psysml:d4b689e0-de38-42ab-a0b3-2a8bf82e0669\" target=\"_top\" title=\"psysml:d4b689e0-de38-42ab-a0b3-2a8bf82e0669\" xlink:actuate=\"onRequest\" xlink:href=\"psysml:d4b689e0-de38-42ab-a0b3-2a8bf82e0669\" xlink:show=\"new\" xlink:title=\"psysml:d4b689e0-de38-42ab-a0b3-2a8bf82e0669\" xlink:type=\"simple\"><path d=\"M349,223.16 C349,230.98 349,239.69 349,247.94 \" fill=\"none\" id=\"E4-&gt;E5\" style=\"stroke: #383838; stroke-width: 1.0; stroke-dasharray: 7.0,7.0;\"/><polygon fill=\"#383838\" points=\"349,256,352,248,346,248,349,256\" style=\"stroke: #383838; stroke-width: 1.0;\"/><text fill=\"#000000\" font-family=\"sans-serif\" font-size=\"13\" lengthAdjust=\"spacingAndGlyphs\" textLength=\"64\" x=\"350\" y=\"244.0669\">«depend»</text></a><!--MD5=[c5e8897d989ce984f93528998a7150fe]\n",
       "link E8 to E6--><a href=\"psysml:c74e1bf4-ee72-40a7-b163-07732e38ed67\" target=\"_top\" title=\"psysml:c74e1bf4-ee72-40a7-b163-07732e38ed67\" xlink:actuate=\"onRequest\" xlink:href=\"psysml:c74e1bf4-ee72-40a7-b163-07732e38ed67\" xlink:show=\"new\" xlink:title=\"psysml:c74e1bf4-ee72-40a7-b163-07732e38ed67\" xlink:type=\"simple\"><path d=\"M84.49,125.34 C76.34,130.27 68.69,136.72 64,145 C60.54,151.1 59.62,158.31 60,165.33 \" fill=\"none\" id=\"E8-&gt;E6\" style=\"stroke: #383838; stroke-width: 1.0; stroke-dasharray: 7.0,7.0;\"/><polygon fill=\"#383838\" points=\"60.97,173.42,63.0061,165.1221,57.0479,165.8294,60.97,173.42\" style=\"stroke: #383838; stroke-width: 1.0;\"/><text fill=\"#000000\" font-family=\"sans-serif\" font-size=\"13\" lengthAdjust=\"spacingAndGlyphs\" textLength=\"64\" x=\"65\" y=\"158.0669\">«depend»</text></a><!--MD5=[bfa3c8b0d15052fdf50ae9310b491027]\n",
       "link E8 to E7--><a href=\"psysml:c74e1bf4-ee72-40a7-b163-07732e38ed67\" target=\"_top\" title=\"psysml:c74e1bf4-ee72-40a7-b163-07732e38ed67\" xlink:actuate=\"onRequest\" xlink:href=\"psysml:c74e1bf4-ee72-40a7-b163-07732e38ed67\" xlink:show=\"new\" xlink:title=\"psysml:c74e1bf4-ee72-40a7-b163-07732e38ed67\" xlink:type=\"simple\"><path d=\"M134.19,133.57 C140.65,143.62 148.38,155.65 155.31,166.42 \" fill=\"none\" id=\"E8-&gt;E7\" style=\"stroke: #383838; stroke-width: 1.0; stroke-dasharray: 7.0,7.0;\"/><polygon fill=\"#383838\" points=\"159.72,173.29,157.9148,164.9389,152.8688,168.185,159.72,173.29\" style=\"stroke: #383838; stroke-width: 1.0;\"/><text fill=\"#000000\" font-family=\"sans-serif\" font-size=\"13\" lengthAdjust=\"spacingAndGlyphs\" textLength=\"64\" x=\"152\" y=\"158.0669\">«depend»</text></a><!--MD5=[0c869c5bea7ddad360f779541bf92ac5]\n",
       "@startuml\r\n",
       "skinparam ranksep 10\r\n",
       "skinparam rectangle {\r\n",
       " backgroundColor<<block>> LightGreen\r\n",
       "}\r\n",
       "top to bottom direction\r\n",
       "skinparam monochrome true\r\n",
       "skinparam classbackgroundcolor white\r\n",
       "skinparam shadowing false\r\n",
       "skinparam wrapWidth 300\r\n",
       "hide circle\r\n",
       "\r\n",
       "package \"DependencyTest\" as E1  [[psysml:f9a8e327-3c68-43cc-8fc4-f0fda4441472 ]]  {\r\n",
       "package \"System\" as E2  [[psysml:5e0f80f7-1058-4b47-9f4f-e59769b1dff5 ]]  {\r\n",
       "package \"Application Layer\" as E3  [[psysml:d7cd1111-165d-4c09-9c1d-1c6e69d6b628 ]]  {\r\n",
       "}\r\n",
       "package \"Service Layer\" as E4  [[psysml:4fd532ef-c056-48ed-b57e-c34d41c7d9b0 ]]  {\r\n",
       "}\r\n",
       "package \"Data Layer\" as E5  [[psysml:f10bbfff-f917-435f-bbe7-eedf9b14a34c ]]  {\r\n",
       "}\r\n",
       "}\r\n",
       "comp usage \"x\" as E6  <<(T,blue)attribute>> [[psysml:52169dc2-f588-4d36-bb4d-934125a8defa ]] {\r\n",
       "}\r\n",
       "comp usage \"y\" as E7  <<(T,blue)attribute>> [[psysml:638ee95e-a488-4c6b-8aa7-581f6cf4c2fe ]] {\r\n",
       "}\r\n",
       "comp usage \"z\" as E8  <<(T,blue)attribute>> [[psysml:267f67df-ceab-4f9b-9288-379f8b6d76cc ]] {\r\n",
       "}\r\n",
       "E3 ..>> E4 [[psysml:d6fef634-817c-4ef1-96de-f37bb594aaea ]] : <<depend>>\r\n",
       "E4 ..>> E5 [[psysml:d4b689e0-de38-42ab-a0b3-2a8bf82e0669 ]] : <<depend>>\r\n",
       "E8 ..>> E6 [[psysml:c74e1bf4-ee72-40a7-b163-07732e38ed67 ]] : <<depend>>\r\n",
       "E8 ..>> E7 [[psysml:c74e1bf4-ee72-40a7-b163-07732e38ed67 ]] : <<depend>>\r\n",
       "}\r\n",
       "@enduml\r\n",
       "\n",
       "PlantUML version 1.2020.13(Sat Jun 13 12:26:38 UTC 2020)\n",
       "(EPL source distribution)\n",
       "Java Runtime: OpenJDK Runtime Environment\n",
       "JVM: OpenJDK 64-Bit Server VM\n",
       "Default Encoding: UTF-8\n",
       "Language: en\n",
       "Country: null\n",
       "--></g></svg>"
      ]
     },
     "execution_count": 47,
     "metadata": {},
     "output_type": "execute_result"
    }
   ],
   "source": [
    "%viz --style=\"TB\" --view=\"Interconnection\" \"DependencyTest\""
   ]
  },
  {
   "cell_type": "code",
   "execution_count": 48,
   "id": "e9a5815c",
   "metadata": {
    "execution": {
     "iopub.execute_input": "2021-05-27T06:11:49.438147Z",
     "iopub.status.busy": "2021-05-27T06:11:49.434562Z",
     "iopub.status.idle": "2021-05-27T06:11:49.444647Z",
     "shell.execute_reply": "2021-05-27T06:11:49.444364Z"
    }
   },
   "outputs": [
    {
     "data": {
      "image/svg+xml": [
       "<?xml version=\"1.0\" encoding=\"UTF-8\" standalone=\"no\"?><svg xmlns=\"http://www.w3.org/2000/svg\" xmlns:xlink=\"http://www.w3.org/1999/xlink\" contentScriptType=\"application/ecmascript\" contentStyleType=\"text/css\" height=\"12px\" preserveAspectRatio=\"none\" style=\"width:12px;height:12px;\" version=\"1.1\" viewBox=\"0 0 12 12\" width=\"12px\" zoomAndPan=\"magnify\"><defs/><g><!--MD5=[06afc254b03ac5e9d9fb7773b07d0800]\n",
       "@startuml\r\n",
       "skinparam ranksep 8\r\n",
       "top to bottom direction\r\n",
       "skinparam monochrome true\r\n",
       "skinparam classbackgroundcolor white\r\n",
       "skinparam shadowing false\r\n",
       "skinparam wrapWidth 300\r\n",
       "hide circle\r\n",
       "\r\n",
       "@enduml\r\n",
       "\n",
       "PlantUML version 1.2020.13(Sat Jun 13 12:26:38 UTC 2020)\n",
       "(EPL source distribution)\n",
       "Java Runtime: OpenJDK Runtime Environment\n",
       "JVM: OpenJDK 64-Bit Server VM\n",
       "Default Encoding: UTF-8\n",
       "Language: en\n",
       "Country: null\n",
       "--></g></svg>"
      ]
     },
     "execution_count": 48,
     "metadata": {},
     "output_type": "execute_result"
    }
   ],
   "source": [
    "%viz --style=\"TB\" --view=\"Action\" \"DependencyTest\""
   ]
  },
  {
   "cell_type": "code",
   "execution_count": 49,
   "id": "ecf2ff8a",
   "metadata": {
    "execution": {
     "iopub.execute_input": "2021-05-27T06:11:49.497954Z",
     "iopub.status.busy": "2021-05-27T06:11:49.497401Z",
     "iopub.status.idle": "2021-05-27T06:11:49.528015Z",
     "shell.execute_reply": "2021-05-27T06:11:49.526852Z"
    }
   },
   "outputs": [
    {
     "data": {
      "image/svg+xml": [
       "<?xml version=\"1.0\" encoding=\"UTF-8\" standalone=\"no\"?><svg xmlns=\"http://www.w3.org/2000/svg\" xmlns:xlink=\"http://www.w3.org/1999/xlink\" contentScriptType=\"application/ecmascript\" contentStyleType=\"text/css\" height=\"449px\" preserveAspectRatio=\"none\" style=\"width:489px;height:449px;\" version=\"1.1\" viewBox=\"0 0 489 449\" width=\"489px\" zoomAndPan=\"magnify\"><defs/><g><!--MD5=[fbc87193dbaf4d95561dea2c320d4a47]\n",
       "cluster E1--><a href=\"psysml:f9a8e327-3c68-43cc-8fc4-f0fda4441472\" target=\"_top\" title=\"psysml:f9a8e327-3c68-43cc-8fc4-f0fda4441472\" xlink:actuate=\"onRequest\" xlink:href=\"psysml:f9a8e327-3c68-43cc-8fc4-f0fda4441472\" xlink:show=\"new\" xlink:title=\"psysml:f9a8e327-3c68-43cc-8fc4-f0fda4441472\" xlink:type=\"simple\"><polygon fill=\"#FFFFFF\" points=\"16,6,156,6,163,28.2969,467,28.2969,467,437,16,437,16,6\" style=\"stroke: #000000; stroke-width: 1.5;\"/><line style=\"stroke: #000000; stroke-width: 1.5;\" x1=\"16\" x2=\"163\" y1=\"28.2969\" y2=\"28.2969\"/><text fill=\"#000000\" font-family=\"sans-serif\" font-size=\"14\" font-weight=\"bold\" lengthAdjust=\"spacingAndGlyphs\" textLength=\"134\" x=\"20\" y=\"20.9951\">DependencyTest</text></a><!--MD5=[e4f7fae6ed58524ba242bb0b0d3be6b7]\n",
       "cluster E2--><a href=\"psysml:5e0f80f7-1058-4b47-9f4f-e59769b1dff5\" target=\"_top\" title=\"psysml:5e0f80f7-1058-4b47-9f4f-e59769b1dff5\" xlink:actuate=\"onRequest\" xlink:href=\"psysml:5e0f80f7-1058-4b47-9f4f-e59769b1dff5\" xlink:show=\"new\" xlink:title=\"psysml:5e0f80f7-1058-4b47-9f4f-e59769b1dff5\" xlink:type=\"simple\"><polygon fill=\"#FFFFFF\" points=\"255,49,319,49,326,71.2969,443,71.2969,443,413,255,413,255,49\" style=\"stroke: #000000; stroke-width: 1.5;\"/><line style=\"stroke: #000000; stroke-width: 1.5;\" x1=\"255\" x2=\"326\" y1=\"71.2969\" y2=\"71.2969\"/><text fill=\"#000000\" font-family=\"sans-serif\" font-size=\"14\" font-weight=\"bold\" lengthAdjust=\"spacingAndGlyphs\" textLength=\"58\" x=\"259\" y=\"63.9951\">System</text></a><!--MD5=[60a26617385b1d2d0262a64233df1f8d]\n",
       "class E6--><a href=\"psysml:52169dc2-f588-4d36-bb4d-934125a8defa\" target=\"_top\" title=\"psysml:52169dc2-f588-4d36-bb4d-934125a8defa\" xlink:actuate=\"onRequest\" xlink:href=\"psysml:52169dc2-f588-4d36-bb4d-934125a8defa\" xlink:show=\"new\" xlink:title=\"psysml:52169dc2-f588-4d36-bb4d-934125a8defa\" xlink:type=\"simple\"><rect fill=\"#FFFFFF\" height=\"45.9375\" id=\"E6\" rx=\"10\" ry=\"10\" style=\"stroke: #383838; stroke-width: 1.5;\" width=\"71\" x=\"32.5\" y=\"217.5\"/><text fill=\"#000000\" font-family=\"sans-serif\" font-size=\"12\" font-style=\"italic\" lengthAdjust=\"spacingAndGlyphs\" textLength=\"69\" x=\"33.5\" y=\"233.6387\">«attribute»</text><text fill=\"#000000\" font-family=\"sans-serif\" font-size=\"12\" lengthAdjust=\"spacingAndGlyphs\" textLength=\"6\" x=\"65\" y=\"247.6074\">x</text><line style=\"stroke: #383838; stroke-width: 1.5;\" x1=\"33.5\" x2=\"102.5\" y1=\"255.4375\" y2=\"255.4375\"/></a><!--MD5=[2156ba9850f5573cc1fc38a6a4b2f02b]\n",
       "class E7--><a href=\"psysml:638ee95e-a488-4c6b-8aa7-581f6cf4c2fe\" target=\"_top\" title=\"psysml:638ee95e-a488-4c6b-8aa7-581f6cf4c2fe\" xlink:actuate=\"onRequest\" xlink:href=\"psysml:638ee95e-a488-4c6b-8aa7-581f6cf4c2fe\" xlink:show=\"new\" xlink:title=\"psysml:638ee95e-a488-4c6b-8aa7-581f6cf4c2fe\" xlink:type=\"simple\"><rect fill=\"#FFFFFF\" height=\"45.9375\" id=\"E7\" rx=\"10\" ry=\"10\" style=\"stroke: #383838; stroke-width: 1.5;\" width=\"71\" x=\"138.5\" y=\"217.5\"/><text fill=\"#000000\" font-family=\"sans-serif\" font-size=\"12\" font-style=\"italic\" lengthAdjust=\"spacingAndGlyphs\" textLength=\"69\" x=\"139.5\" y=\"233.6387\">«attribute»</text><text fill=\"#000000\" font-family=\"sans-serif\" font-size=\"12\" lengthAdjust=\"spacingAndGlyphs\" textLength=\"6\" x=\"171\" y=\"247.6074\">y</text><line style=\"stroke: #383838; stroke-width: 1.5;\" x1=\"139.5\" x2=\"208.5\" y1=\"255.4375\" y2=\"255.4375\"/></a><!--MD5=[b9389687b975829384b498ac4b7476b2]\n",
       "class E8--><a href=\"psysml:267f67df-ceab-4f9b-9288-379f8b6d76cc\" target=\"_top\" title=\"psysml:267f67df-ceab-4f9b-9288-379f8b6d76cc\" xlink:actuate=\"onRequest\" xlink:href=\"psysml:267f67df-ceab-4f9b-9288-379f8b6d76cc\" xlink:show=\"new\" xlink:title=\"psysml:267f67df-ceab-4f9b-9288-379f8b6d76cc\" xlink:type=\"simple\"><rect fill=\"#FFFFFF\" height=\"45.9375\" id=\"E8\" rx=\"10\" ry=\"10\" style=\"stroke: #383838; stroke-width: 1.5;\" width=\"71\" x=\"84.5\" y=\"87.5\"/><text fill=\"#000000\" font-family=\"sans-serif\" font-size=\"12\" font-style=\"italic\" lengthAdjust=\"spacingAndGlyphs\" textLength=\"69\" x=\"85.5\" y=\"103.6387\">«attribute»</text><text fill=\"#000000\" font-family=\"sans-serif\" font-size=\"12\" lengthAdjust=\"spacingAndGlyphs\" textLength=\"5\" x=\"117.5\" y=\"117.6074\">z</text><line style=\"stroke: #383838; stroke-width: 1.5;\" x1=\"85.5\" x2=\"154.5\" y1=\"125.4375\" y2=\"125.4375\"/></a><a href=\"psysml:d7cd1111-165d-4c09-9c1d-1c6e69d6b628\" target=\"_top\" title=\"psysml:d7cd1111-165d-4c09-9c1d-1c6e69d6b628\" xlink:actuate=\"onRequest\" xlink:href=\"psysml:d7cd1111-165d-4c09-9c1d-1c6e69d6b628\" xlink:show=\"new\" xlink:title=\"psysml:d7cd1111-165d-4c09-9c1d-1c6e69d6b628\" xlink:type=\"simple\"><polygon fill=\"#FFFFFF\" points=\"271,84,413,84,420,106.2969,427,106.2969,427,136.5938,271,136.5938,271,84\" style=\"stroke: #000000; stroke-width: 1.5;\"/><line style=\"stroke: #000000; stroke-width: 1.5;\" x1=\"271\" x2=\"420\" y1=\"106.2969\" y2=\"106.2969\"/><text fill=\"#000000\" font-family=\"sans-serif\" font-size=\"14\" font-weight=\"bold\" lengthAdjust=\"spacingAndGlyphs\" textLength=\"136\" x=\"275\" y=\"98.9951\">Application Layer</text></a><a href=\"psysml:4fd532ef-c056-48ed-b57e-c34d41c7d9b0\" target=\"_top\" title=\"psysml:4fd532ef-c056-48ed-b57e-c34d41c7d9b0\" xlink:actuate=\"onRequest\" xlink:href=\"psysml:4fd532ef-c056-48ed-b57e-c34d41c7d9b0\" xlink:show=\"new\" xlink:title=\"psysml:4fd532ef-c056-48ed-b57e-c34d41c7d9b0\" xlink:type=\"simple\"><polygon fill=\"#FFFFFF\" points=\"285,214,399,214,406,236.2969,413,236.2969,413,266.5938,285,266.5938,285,214\" style=\"stroke: #000000; stroke-width: 1.5;\"/><line style=\"stroke: #000000; stroke-width: 1.5;\" x1=\"285\" x2=\"406\" y1=\"236.2969\" y2=\"236.2969\"/><text fill=\"#000000\" font-family=\"sans-serif\" font-size=\"14\" font-weight=\"bold\" lengthAdjust=\"spacingAndGlyphs\" textLength=\"108\" x=\"289\" y=\"228.9951\">Service Layer</text></a><a href=\"psysml:f10bbfff-f917-435f-bbe7-eedf9b14a34c\" target=\"_top\" title=\"psysml:f10bbfff-f917-435f-bbe7-eedf9b14a34c\" xlink:actuate=\"onRequest\" xlink:href=\"psysml:f10bbfff-f917-435f-bbe7-eedf9b14a34c\" xlink:show=\"new\" xlink:title=\"psysml:f10bbfff-f917-435f-bbe7-eedf9b14a34c\" xlink:type=\"simple\"><polygon fill=\"#FFFFFF\" points=\"297,344,387,344,394,366.2969,401,366.2969,401,396.5938,297,396.5938,297,344\" style=\"stroke: #000000; stroke-width: 1.5;\"/><line style=\"stroke: #000000; stroke-width: 1.5;\" x1=\"297\" x2=\"394\" y1=\"366.2969\" y2=\"366.2969\"/><text fill=\"#000000\" font-family=\"sans-serif\" font-size=\"14\" font-weight=\"bold\" lengthAdjust=\"spacingAndGlyphs\" textLength=\"84\" x=\"301\" y=\"358.9951\">Data Layer</text></a><!--MD5=[af87c684e3b0d8be13c1a698a818ef1e]\n",
       "link E3 to E4--><a href=\"psysml:d6fef634-817c-4ef1-96de-f37bb594aaea\" target=\"_top\" title=\"psysml:d6fef634-817c-4ef1-96de-f37bb594aaea\" xlink:actuate=\"onRequest\" xlink:href=\"psysml:d6fef634-817c-4ef1-96de-f37bb594aaea\" xlink:show=\"new\" xlink:title=\"psysml:d6fef634-817c-4ef1-96de-f37bb594aaea\" xlink:type=\"simple\"><path d=\"M349,137.1 C349,156.8 349,184.22 349,205.73 \" fill=\"none\" id=\"E3-&gt;E4\" style=\"stroke: #383838; stroke-width: 1.0; stroke-dasharray: 7.0,7.0;\"/><polygon fill=\"#383838\" points=\"349,213.95,352,205.95,346,205.95,349,213.95\" style=\"stroke: #383838; stroke-width: 1.0;\"/><text fill=\"#000000\" font-family=\"sans-serif\" font-size=\"13\" lengthAdjust=\"spacingAndGlyphs\" textLength=\"64\" x=\"350\" y=\"180.0669\">«depend»</text></a><!--MD5=[1b7591eae5389033d8d09a9d6721a717]\n",
       "link E4 to E5--><a href=\"psysml:d4b689e0-de38-42ab-a0b3-2a8bf82e0669\" target=\"_top\" title=\"psysml:d4b689e0-de38-42ab-a0b3-2a8bf82e0669\" xlink:actuate=\"onRequest\" xlink:href=\"psysml:d4b689e0-de38-42ab-a0b3-2a8bf82e0669\" xlink:show=\"new\" xlink:title=\"psysml:d4b689e0-de38-42ab-a0b3-2a8bf82e0669\" xlink:type=\"simple\"><path d=\"M349,267.1 C349,286.8 349,314.22 349,335.73 \" fill=\"none\" id=\"E4-&gt;E5\" style=\"stroke: #383838; stroke-width: 1.0; stroke-dasharray: 7.0,7.0;\"/><polygon fill=\"#383838\" points=\"349,343.95,352,335.95,346,335.95,349,343.95\" style=\"stroke: #383838; stroke-width: 1.0;\"/><text fill=\"#000000\" font-family=\"sans-serif\" font-size=\"13\" lengthAdjust=\"spacingAndGlyphs\" textLength=\"64\" x=\"350\" y=\"310.0669\">«depend»</text></a><!--MD5=[c5e8897d989ce984f93528998a7150fe]\n",
       "link E8 to E6--><a href=\"psysml:c74e1bf4-ee72-40a7-b163-07732e38ed67\" target=\"_top\" title=\"psysml:c74e1bf4-ee72-40a7-b163-07732e38ed67\" xlink:actuate=\"onRequest\" xlink:href=\"psysml:c74e1bf4-ee72-40a7-b163-07732e38ed67\" xlink:show=\"new\" xlink:title=\"psysml:c74e1bf4-ee72-40a7-b163-07732e38ed67\" xlink:type=\"simple\"><path d=\"M89.42,133.6 C79.35,142.68 69.37,154.11 64,167 C58.5,180.2 58.66,195.94 60.54,209.38 \" fill=\"none\" id=\"E8-&gt;E6\" style=\"stroke: #383838; stroke-width: 1.0; stroke-dasharray: 7.0,7.0;\"/><polygon fill=\"#383838\" points=\"61.9,217.4,63.517,209.0104,57.6018,210.0159,61.9,217.4\" style=\"stroke: #383838; stroke-width: 1.0;\"/><text fill=\"#000000\" font-family=\"sans-serif\" font-size=\"13\" lengthAdjust=\"spacingAndGlyphs\" textLength=\"64\" x=\"65\" y=\"180.0669\">«depend»</text></a><!--MD5=[bfa3c8b0d15052fdf50ae9310b491027]\n",
       "link E8 to E7--><a href=\"psysml:c74e1bf4-ee72-40a7-b163-07732e38ed67\" target=\"_top\" title=\"psysml:c74e1bf4-ee72-40a7-b163-07732e38ed67\" xlink:actuate=\"onRequest\" xlink:href=\"psysml:c74e1bf4-ee72-40a7-b163-07732e38ed67\" xlink:show=\"new\" xlink:title=\"psysml:c74e1bf4-ee72-40a7-b163-07732e38ed67\" xlink:type=\"simple\"><path d=\"M129.28,133.5 C138.17,154.57 151.64,186.5 161.47,209.81 \" fill=\"none\" id=\"E8-&gt;E7\" style=\"stroke: #383838; stroke-width: 1.0; stroke-dasharray: 7.0,7.0;\"/><polygon fill=\"#383838\" points=\"164.66,217.35,164.3241,208.8126,158.7933,211.1385,164.66,217.35\" style=\"stroke: #383838; stroke-width: 1.0;\"/><text fill=\"#000000\" font-family=\"sans-serif\" font-size=\"13\" lengthAdjust=\"spacingAndGlyphs\" textLength=\"64\" x=\"151\" y=\"180.0669\">«depend»</text></a><!--MD5=[f62799f5fdddecfbe1d9494b9a777dc7]\n",
       "@startuml\r\n",
       "top to bottom direction\r\n",
       "skinparam monochrome true\r\n",
       "skinparam classbackgroundcolor white\r\n",
       "skinparam shadowing false\r\n",
       "skinparam wrapWidth 300\r\n",
       "hide circle\r\n",
       "\r\n",
       "package \"DependencyTest\" as E1  [[psysml:f9a8e327-3c68-43cc-8fc4-f0fda4441472 ]]  {\r\n",
       "package \"System\" as E2  [[psysml:5e0f80f7-1058-4b47-9f4f-e59769b1dff5 ]]  {\r\n",
       "package \"Application Layer\" as E3  [[psysml:d7cd1111-165d-4c09-9c1d-1c6e69d6b628 ]]  {\r\n",
       "}\r\n",
       "package \"Service Layer\" as E4  [[psysml:4fd532ef-c056-48ed-b57e-c34d41c7d9b0 ]]  {\r\n",
       "}\r\n",
       "package \"Data Layer\" as E5  [[psysml:f10bbfff-f917-435f-bbe7-eedf9b14a34c ]]  {\r\n",
       "}\r\n",
       "}\r\n",
       "comp usage \"x\" as E6  <<(T,blue)attribute>> [[psysml:52169dc2-f588-4d36-bb4d-934125a8defa ]] {\r\n",
       "}\r\n",
       "comp usage \"y\" as E7  <<(T,blue)attribute>> [[psysml:638ee95e-a488-4c6b-8aa7-581f6cf4c2fe ]] {\r\n",
       "}\r\n",
       "comp usage \"z\" as E8  <<(T,blue)attribute>> [[psysml:267f67df-ceab-4f9b-9288-379f8b6d76cc ]] {\r\n",
       "}\r\n",
       "E3 ..>> E4 [[psysml:d6fef634-817c-4ef1-96de-f37bb594aaea ]] : <<depend>>\r\n",
       "E4 ..>> E5 [[psysml:d4b689e0-de38-42ab-a0b3-2a8bf82e0669 ]] : <<depend>>\r\n",
       "E8 ..>> E6 [[psysml:c74e1bf4-ee72-40a7-b163-07732e38ed67 ]] : <<depend>>\r\n",
       "E8 ..>> E7 [[psysml:c74e1bf4-ee72-40a7-b163-07732e38ed67 ]] : <<depend>>\r\n",
       "}\r\n",
       "@enduml\r\n",
       "\n",
       "PlantUML version 1.2020.13(Sat Jun 13 12:26:38 UTC 2020)\n",
       "(EPL source distribution)\n",
       "Java Runtime: OpenJDK Runtime Environment\n",
       "JVM: OpenJDK 64-Bit Server VM\n",
       "Default Encoding: UTF-8\n",
       "Language: en\n",
       "Country: null\n",
       "--></g></svg>"
      ]
     },
     "execution_count": 49,
     "metadata": {},
     "output_type": "execute_result"
    }
   ],
   "source": [
    "%viz --style=\"TB\" --view=\"Sequence\" \"DependencyTest\""
   ]
  },
  {
   "cell_type": "code",
   "execution_count": 50,
   "id": "43cd4760",
   "metadata": {
    "execution": {
     "iopub.execute_input": "2021-05-27T06:11:49.580237Z",
     "iopub.status.busy": "2021-05-27T06:11:49.579387Z",
     "iopub.status.idle": "2021-05-27T06:11:49.611921Z",
     "shell.execute_reply": "2021-05-27T06:11:49.610554Z"
    }
   },
   "outputs": [
    {
     "data": {
      "image/svg+xml": [
       "<?xml version=\"1.0\" encoding=\"UTF-8\" standalone=\"no\"?><svg xmlns=\"http://www.w3.org/2000/svg\" xmlns:xlink=\"http://www.w3.org/1999/xlink\" contentScriptType=\"application/ecmascript\" contentStyleType=\"text/css\" height=\"449px\" preserveAspectRatio=\"none\" style=\"width:489px;height:449px;\" version=\"1.1\" viewBox=\"0 0 489 449\" width=\"489px\" zoomAndPan=\"magnify\"><defs/><g><!--MD5=[fbc87193dbaf4d95561dea2c320d4a47]\n",
       "cluster E1--><a href=\"psysml:f9a8e327-3c68-43cc-8fc4-f0fda4441472\" target=\"_top\" title=\"psysml:f9a8e327-3c68-43cc-8fc4-f0fda4441472\" xlink:actuate=\"onRequest\" xlink:href=\"psysml:f9a8e327-3c68-43cc-8fc4-f0fda4441472\" xlink:show=\"new\" xlink:title=\"psysml:f9a8e327-3c68-43cc-8fc4-f0fda4441472\" xlink:type=\"simple\"><polygon fill=\"#FFFFFF\" points=\"16,6,156,6,163,28.2969,467,28.2969,467,437,16,437,16,6\" style=\"stroke: #000000; stroke-width: 1.5;\"/><line style=\"stroke: #000000; stroke-width: 1.5;\" x1=\"16\" x2=\"163\" y1=\"28.2969\" y2=\"28.2969\"/><text fill=\"#000000\" font-family=\"sans-serif\" font-size=\"14\" font-weight=\"bold\" lengthAdjust=\"spacingAndGlyphs\" textLength=\"134\" x=\"20\" y=\"20.9951\">DependencyTest</text></a><!--MD5=[e4f7fae6ed58524ba242bb0b0d3be6b7]\n",
       "cluster E2--><a href=\"psysml:5e0f80f7-1058-4b47-9f4f-e59769b1dff5\" target=\"_top\" title=\"psysml:5e0f80f7-1058-4b47-9f4f-e59769b1dff5\" xlink:actuate=\"onRequest\" xlink:href=\"psysml:5e0f80f7-1058-4b47-9f4f-e59769b1dff5\" xlink:show=\"new\" xlink:title=\"psysml:5e0f80f7-1058-4b47-9f4f-e59769b1dff5\" xlink:type=\"simple\"><polygon fill=\"#FFFFFF\" points=\"255,49,319,49,326,71.2969,443,71.2969,443,413,255,413,255,49\" style=\"stroke: #000000; stroke-width: 1.5;\"/><line style=\"stroke: #000000; stroke-width: 1.5;\" x1=\"255\" x2=\"326\" y1=\"71.2969\" y2=\"71.2969\"/><text fill=\"#000000\" font-family=\"sans-serif\" font-size=\"14\" font-weight=\"bold\" lengthAdjust=\"spacingAndGlyphs\" textLength=\"58\" x=\"259\" y=\"63.9951\">System</text></a><!--MD5=[60a26617385b1d2d0262a64233df1f8d]\n",
       "class E6--><a href=\"psysml:52169dc2-f588-4d36-bb4d-934125a8defa\" target=\"_top\" title=\"psysml:52169dc2-f588-4d36-bb4d-934125a8defa\" xlink:actuate=\"onRequest\" xlink:href=\"psysml:52169dc2-f588-4d36-bb4d-934125a8defa\" xlink:show=\"new\" xlink:title=\"psysml:52169dc2-f588-4d36-bb4d-934125a8defa\" xlink:type=\"simple\"><rect fill=\"#FFFFFF\" height=\"45.9375\" id=\"E6\" rx=\"10\" ry=\"10\" style=\"stroke: #383838; stroke-width: 1.5;\" width=\"71\" x=\"32.5\" y=\"217.5\"/><text fill=\"#000000\" font-family=\"sans-serif\" font-size=\"12\" font-style=\"italic\" lengthAdjust=\"spacingAndGlyphs\" textLength=\"69\" x=\"33.5\" y=\"233.6387\">«attribute»</text><text fill=\"#000000\" font-family=\"sans-serif\" font-size=\"12\" lengthAdjust=\"spacingAndGlyphs\" textLength=\"6\" x=\"65\" y=\"247.6074\">x</text><line style=\"stroke: #383838; stroke-width: 1.5;\" x1=\"33.5\" x2=\"102.5\" y1=\"255.4375\" y2=\"255.4375\"/></a><!--MD5=[2156ba9850f5573cc1fc38a6a4b2f02b]\n",
       "class E7--><a href=\"psysml:638ee95e-a488-4c6b-8aa7-581f6cf4c2fe\" target=\"_top\" title=\"psysml:638ee95e-a488-4c6b-8aa7-581f6cf4c2fe\" xlink:actuate=\"onRequest\" xlink:href=\"psysml:638ee95e-a488-4c6b-8aa7-581f6cf4c2fe\" xlink:show=\"new\" xlink:title=\"psysml:638ee95e-a488-4c6b-8aa7-581f6cf4c2fe\" xlink:type=\"simple\"><rect fill=\"#FFFFFF\" height=\"45.9375\" id=\"E7\" rx=\"10\" ry=\"10\" style=\"stroke: #383838; stroke-width: 1.5;\" width=\"71\" x=\"138.5\" y=\"217.5\"/><text fill=\"#000000\" font-family=\"sans-serif\" font-size=\"12\" font-style=\"italic\" lengthAdjust=\"spacingAndGlyphs\" textLength=\"69\" x=\"139.5\" y=\"233.6387\">«attribute»</text><text fill=\"#000000\" font-family=\"sans-serif\" font-size=\"12\" lengthAdjust=\"spacingAndGlyphs\" textLength=\"6\" x=\"171\" y=\"247.6074\">y</text><line style=\"stroke: #383838; stroke-width: 1.5;\" x1=\"139.5\" x2=\"208.5\" y1=\"255.4375\" y2=\"255.4375\"/></a><!--MD5=[b9389687b975829384b498ac4b7476b2]\n",
       "class E8--><a href=\"psysml:267f67df-ceab-4f9b-9288-379f8b6d76cc\" target=\"_top\" title=\"psysml:267f67df-ceab-4f9b-9288-379f8b6d76cc\" xlink:actuate=\"onRequest\" xlink:href=\"psysml:267f67df-ceab-4f9b-9288-379f8b6d76cc\" xlink:show=\"new\" xlink:title=\"psysml:267f67df-ceab-4f9b-9288-379f8b6d76cc\" xlink:type=\"simple\"><rect fill=\"#FFFFFF\" height=\"45.9375\" id=\"E8\" rx=\"10\" ry=\"10\" style=\"stroke: #383838; stroke-width: 1.5;\" width=\"71\" x=\"84.5\" y=\"87.5\"/><text fill=\"#000000\" font-family=\"sans-serif\" font-size=\"12\" font-style=\"italic\" lengthAdjust=\"spacingAndGlyphs\" textLength=\"69\" x=\"85.5\" y=\"103.6387\">«attribute»</text><text fill=\"#000000\" font-family=\"sans-serif\" font-size=\"12\" lengthAdjust=\"spacingAndGlyphs\" textLength=\"5\" x=\"117.5\" y=\"117.6074\">z</text><line style=\"stroke: #383838; stroke-width: 1.5;\" x1=\"85.5\" x2=\"154.5\" y1=\"125.4375\" y2=\"125.4375\"/></a><a href=\"psysml:d7cd1111-165d-4c09-9c1d-1c6e69d6b628\" target=\"_top\" title=\"psysml:d7cd1111-165d-4c09-9c1d-1c6e69d6b628\" xlink:actuate=\"onRequest\" xlink:href=\"psysml:d7cd1111-165d-4c09-9c1d-1c6e69d6b628\" xlink:show=\"new\" xlink:title=\"psysml:d7cd1111-165d-4c09-9c1d-1c6e69d6b628\" xlink:type=\"simple\"><polygon fill=\"#FFFFFF\" points=\"271,84,413,84,420,106.2969,427,106.2969,427,136.5938,271,136.5938,271,84\" style=\"stroke: #000000; stroke-width: 1.5;\"/><line style=\"stroke: #000000; stroke-width: 1.5;\" x1=\"271\" x2=\"420\" y1=\"106.2969\" y2=\"106.2969\"/><text fill=\"#000000\" font-family=\"sans-serif\" font-size=\"14\" font-weight=\"bold\" lengthAdjust=\"spacingAndGlyphs\" textLength=\"136\" x=\"275\" y=\"98.9951\">Application Layer</text></a><a href=\"psysml:4fd532ef-c056-48ed-b57e-c34d41c7d9b0\" target=\"_top\" title=\"psysml:4fd532ef-c056-48ed-b57e-c34d41c7d9b0\" xlink:actuate=\"onRequest\" xlink:href=\"psysml:4fd532ef-c056-48ed-b57e-c34d41c7d9b0\" xlink:show=\"new\" xlink:title=\"psysml:4fd532ef-c056-48ed-b57e-c34d41c7d9b0\" xlink:type=\"simple\"><polygon fill=\"#FFFFFF\" points=\"285,214,399,214,406,236.2969,413,236.2969,413,266.5938,285,266.5938,285,214\" style=\"stroke: #000000; stroke-width: 1.5;\"/><line style=\"stroke: #000000; stroke-width: 1.5;\" x1=\"285\" x2=\"406\" y1=\"236.2969\" y2=\"236.2969\"/><text fill=\"#000000\" font-family=\"sans-serif\" font-size=\"14\" font-weight=\"bold\" lengthAdjust=\"spacingAndGlyphs\" textLength=\"108\" x=\"289\" y=\"228.9951\">Service Layer</text></a><a href=\"psysml:f10bbfff-f917-435f-bbe7-eedf9b14a34c\" target=\"_top\" title=\"psysml:f10bbfff-f917-435f-bbe7-eedf9b14a34c\" xlink:actuate=\"onRequest\" xlink:href=\"psysml:f10bbfff-f917-435f-bbe7-eedf9b14a34c\" xlink:show=\"new\" xlink:title=\"psysml:f10bbfff-f917-435f-bbe7-eedf9b14a34c\" xlink:type=\"simple\"><polygon fill=\"#FFFFFF\" points=\"297,344,387,344,394,366.2969,401,366.2969,401,396.5938,297,396.5938,297,344\" style=\"stroke: #000000; stroke-width: 1.5;\"/><line style=\"stroke: #000000; stroke-width: 1.5;\" x1=\"297\" x2=\"394\" y1=\"366.2969\" y2=\"366.2969\"/><text fill=\"#000000\" font-family=\"sans-serif\" font-size=\"14\" font-weight=\"bold\" lengthAdjust=\"spacingAndGlyphs\" textLength=\"84\" x=\"301\" y=\"358.9951\">Data Layer</text></a><!--MD5=[af87c684e3b0d8be13c1a698a818ef1e]\n",
       "link E3 to E4--><a href=\"psysml:d6fef634-817c-4ef1-96de-f37bb594aaea\" target=\"_top\" title=\"psysml:d6fef634-817c-4ef1-96de-f37bb594aaea\" xlink:actuate=\"onRequest\" xlink:href=\"psysml:d6fef634-817c-4ef1-96de-f37bb594aaea\" xlink:show=\"new\" xlink:title=\"psysml:d6fef634-817c-4ef1-96de-f37bb594aaea\" xlink:type=\"simple\"><path d=\"M349,137.1 C349,156.8 349,184.22 349,205.73 \" fill=\"none\" id=\"E3-&gt;E4\" style=\"stroke: #383838; stroke-width: 1.0; stroke-dasharray: 7.0,7.0;\"/><polygon fill=\"#383838\" points=\"349,213.95,352,205.95,346,205.95,349,213.95\" style=\"stroke: #383838; stroke-width: 1.0;\"/><text fill=\"#000000\" font-family=\"sans-serif\" font-size=\"13\" lengthAdjust=\"spacingAndGlyphs\" textLength=\"64\" x=\"350\" y=\"180.0669\">«depend»</text></a><!--MD5=[1b7591eae5389033d8d09a9d6721a717]\n",
       "link E4 to E5--><a href=\"psysml:d4b689e0-de38-42ab-a0b3-2a8bf82e0669\" target=\"_top\" title=\"psysml:d4b689e0-de38-42ab-a0b3-2a8bf82e0669\" xlink:actuate=\"onRequest\" xlink:href=\"psysml:d4b689e0-de38-42ab-a0b3-2a8bf82e0669\" xlink:show=\"new\" xlink:title=\"psysml:d4b689e0-de38-42ab-a0b3-2a8bf82e0669\" xlink:type=\"simple\"><path d=\"M349,267.1 C349,286.8 349,314.22 349,335.73 \" fill=\"none\" id=\"E4-&gt;E5\" style=\"stroke: #383838; stroke-width: 1.0; stroke-dasharray: 7.0,7.0;\"/><polygon fill=\"#383838\" points=\"349,343.95,352,335.95,346,335.95,349,343.95\" style=\"stroke: #383838; stroke-width: 1.0;\"/><text fill=\"#000000\" font-family=\"sans-serif\" font-size=\"13\" lengthAdjust=\"spacingAndGlyphs\" textLength=\"64\" x=\"350\" y=\"310.0669\">«depend»</text></a><!--MD5=[c5e8897d989ce984f93528998a7150fe]\n",
       "link E8 to E6--><a href=\"psysml:c74e1bf4-ee72-40a7-b163-07732e38ed67\" target=\"_top\" title=\"psysml:c74e1bf4-ee72-40a7-b163-07732e38ed67\" xlink:actuate=\"onRequest\" xlink:href=\"psysml:c74e1bf4-ee72-40a7-b163-07732e38ed67\" xlink:show=\"new\" xlink:title=\"psysml:c74e1bf4-ee72-40a7-b163-07732e38ed67\" xlink:type=\"simple\"><path d=\"M89.42,133.6 C79.35,142.68 69.37,154.11 64,167 C58.5,180.2 58.66,195.94 60.54,209.38 \" fill=\"none\" id=\"E8-&gt;E6\" style=\"stroke: #383838; stroke-width: 1.0; stroke-dasharray: 7.0,7.0;\"/><polygon fill=\"#383838\" points=\"61.9,217.4,63.517,209.0104,57.6018,210.0159,61.9,217.4\" style=\"stroke: #383838; stroke-width: 1.0;\"/><text fill=\"#000000\" font-family=\"sans-serif\" font-size=\"13\" lengthAdjust=\"spacingAndGlyphs\" textLength=\"64\" x=\"65\" y=\"180.0669\">«depend»</text></a><!--MD5=[bfa3c8b0d15052fdf50ae9310b491027]\n",
       "link E8 to E7--><a href=\"psysml:c74e1bf4-ee72-40a7-b163-07732e38ed67\" target=\"_top\" title=\"psysml:c74e1bf4-ee72-40a7-b163-07732e38ed67\" xlink:actuate=\"onRequest\" xlink:href=\"psysml:c74e1bf4-ee72-40a7-b163-07732e38ed67\" xlink:show=\"new\" xlink:title=\"psysml:c74e1bf4-ee72-40a7-b163-07732e38ed67\" xlink:type=\"simple\"><path d=\"M129.28,133.5 C138.17,154.57 151.64,186.5 161.47,209.81 \" fill=\"none\" id=\"E8-&gt;E7\" style=\"stroke: #383838; stroke-width: 1.0; stroke-dasharray: 7.0,7.0;\"/><polygon fill=\"#383838\" points=\"164.66,217.35,164.3241,208.8126,158.7933,211.1385,164.66,217.35\" style=\"stroke: #383838; stroke-width: 1.0;\"/><text fill=\"#000000\" font-family=\"sans-serif\" font-size=\"13\" lengthAdjust=\"spacingAndGlyphs\" textLength=\"64\" x=\"151\" y=\"180.0669\">«depend»</text></a><!--MD5=[f62799f5fdddecfbe1d9494b9a777dc7]\n",
       "@startuml\r\n",
       "top to bottom direction\r\n",
       "skinparam monochrome true\r\n",
       "skinparam classbackgroundcolor white\r\n",
       "skinparam shadowing false\r\n",
       "skinparam wrapWidth 300\r\n",
       "hide circle\r\n",
       "\r\n",
       "package \"DependencyTest\" as E1  [[psysml:f9a8e327-3c68-43cc-8fc4-f0fda4441472 ]]  {\r\n",
       "package \"System\" as E2  [[psysml:5e0f80f7-1058-4b47-9f4f-e59769b1dff5 ]]  {\r\n",
       "package \"Application Layer\" as E3  [[psysml:d7cd1111-165d-4c09-9c1d-1c6e69d6b628 ]]  {\r\n",
       "}\r\n",
       "package \"Service Layer\" as E4  [[psysml:4fd532ef-c056-48ed-b57e-c34d41c7d9b0 ]]  {\r\n",
       "}\r\n",
       "package \"Data Layer\" as E5  [[psysml:f10bbfff-f917-435f-bbe7-eedf9b14a34c ]]  {\r\n",
       "}\r\n",
       "}\r\n",
       "comp usage \"x\" as E6  <<(T,blue)attribute>> [[psysml:52169dc2-f588-4d36-bb4d-934125a8defa ]] {\r\n",
       "}\r\n",
       "comp usage \"y\" as E7  <<(T,blue)attribute>> [[psysml:638ee95e-a488-4c6b-8aa7-581f6cf4c2fe ]] {\r\n",
       "}\r\n",
       "comp usage \"z\" as E8  <<(T,blue)attribute>> [[psysml:267f67df-ceab-4f9b-9288-379f8b6d76cc ]] {\r\n",
       "}\r\n",
       "E3 ..>> E4 [[psysml:d6fef634-817c-4ef1-96de-f37bb594aaea ]] : <<depend>>\r\n",
       "E4 ..>> E5 [[psysml:d4b689e0-de38-42ab-a0b3-2a8bf82e0669 ]] : <<depend>>\r\n",
       "E8 ..>> E6 [[psysml:c74e1bf4-ee72-40a7-b163-07732e38ed67 ]] : <<depend>>\r\n",
       "E8 ..>> E7 [[psysml:c74e1bf4-ee72-40a7-b163-07732e38ed67 ]] : <<depend>>\r\n",
       "}\r\n",
       "@enduml\r\n",
       "\n",
       "PlantUML version 1.2020.13(Sat Jun 13 12:26:38 UTC 2020)\n",
       "(EPL source distribution)\n",
       "Java Runtime: OpenJDK Runtime Environment\n",
       "JVM: OpenJDK 64-Bit Server VM\n",
       "Default Encoding: UTF-8\n",
       "Language: en\n",
       "Country: null\n",
       "--></g></svg>"
      ]
     },
     "execution_count": 50,
     "metadata": {},
     "output_type": "execute_result"
    }
   ],
   "source": [
    "%viz --style=\"TB\" --view=\"MIXED\" \"DependencyTest\""
   ]
  },
  {
   "cell_type": "code",
   "execution_count": 51,
   "id": "98ca49c2",
   "metadata": {
    "execution": {
     "iopub.execute_input": "2021-05-27T06:11:49.664639Z",
     "iopub.status.busy": "2021-05-27T06:11:49.664157Z",
     "iopub.status.idle": "2021-05-27T06:11:49.688404Z",
     "shell.execute_reply": "2021-05-27T06:11:49.687248Z"
    }
   },
   "outputs": [
    {
     "data": {
      "image/svg+xml": [
       "<?xml version=\"1.0\" encoding=\"UTF-8\" standalone=\"no\"?><svg xmlns=\"http://www.w3.org/2000/svg\" xmlns:xlink=\"http://www.w3.org/1999/xlink\" contentScriptType=\"application/ecmascript\" contentStyleType=\"text/css\" height=\"449px\" preserveAspectRatio=\"none\" style=\"width:489px;height:449px;\" version=\"1.1\" viewBox=\"0 0 489 449\" width=\"489px\" zoomAndPan=\"magnify\"><defs/><g><!--MD5=[fbc87193dbaf4d95561dea2c320d4a47]\n",
       "cluster E1--><a href=\"psysml:f9a8e327-3c68-43cc-8fc4-f0fda4441472\" target=\"_top\" title=\"psysml:f9a8e327-3c68-43cc-8fc4-f0fda4441472\" xlink:actuate=\"onRequest\" xlink:href=\"psysml:f9a8e327-3c68-43cc-8fc4-f0fda4441472\" xlink:show=\"new\" xlink:title=\"psysml:f9a8e327-3c68-43cc-8fc4-f0fda4441472\" xlink:type=\"simple\"><polygon fill=\"#FFFFFF\" points=\"16,6,156,6,163,28.2969,467,28.2969,467,437,16,437,16,6\" style=\"stroke: #000000; stroke-width: 1.5;\"/><line style=\"stroke: #000000; stroke-width: 1.5;\" x1=\"16\" x2=\"163\" y1=\"28.2969\" y2=\"28.2969\"/><text fill=\"#000000\" font-family=\"sans-serif\" font-size=\"14\" font-weight=\"bold\" lengthAdjust=\"spacingAndGlyphs\" textLength=\"134\" x=\"20\" y=\"20.9951\">DependencyTest</text></a><!--MD5=[e4f7fae6ed58524ba242bb0b0d3be6b7]\n",
       "cluster E2--><a href=\"psysml:5e0f80f7-1058-4b47-9f4f-e59769b1dff5\" target=\"_top\" title=\"psysml:5e0f80f7-1058-4b47-9f4f-e59769b1dff5\" xlink:actuate=\"onRequest\" xlink:href=\"psysml:5e0f80f7-1058-4b47-9f4f-e59769b1dff5\" xlink:show=\"new\" xlink:title=\"psysml:5e0f80f7-1058-4b47-9f4f-e59769b1dff5\" xlink:type=\"simple\"><polygon fill=\"#FFFFFF\" points=\"255,49,319,49,326,71.2969,443,71.2969,443,413,255,413,255,49\" style=\"stroke: #000000; stroke-width: 1.5;\"/><line style=\"stroke: #000000; stroke-width: 1.5;\" x1=\"255\" x2=\"326\" y1=\"71.2969\" y2=\"71.2969\"/><text fill=\"#000000\" font-family=\"sans-serif\" font-size=\"14\" font-weight=\"bold\" lengthAdjust=\"spacingAndGlyphs\" textLength=\"58\" x=\"259\" y=\"63.9951\">System</text></a><!--MD5=[60a26617385b1d2d0262a64233df1f8d]\n",
       "class E6--><a href=\"psysml:52169dc2-f588-4d36-bb4d-934125a8defa\" target=\"_top\" title=\"psysml:52169dc2-f588-4d36-bb4d-934125a8defa\" xlink:actuate=\"onRequest\" xlink:href=\"psysml:52169dc2-f588-4d36-bb4d-934125a8defa\" xlink:show=\"new\" xlink:title=\"psysml:52169dc2-f588-4d36-bb4d-934125a8defa\" xlink:type=\"simple\"><rect fill=\"#FFFFFF\" height=\"45.9375\" id=\"E6\" rx=\"10\" ry=\"10\" style=\"stroke: #383838; stroke-width: 1.5;\" width=\"71\" x=\"32.5\" y=\"217.5\"/><text fill=\"#000000\" font-family=\"sans-serif\" font-size=\"12\" font-style=\"italic\" lengthAdjust=\"spacingAndGlyphs\" textLength=\"69\" x=\"33.5\" y=\"233.6387\">«attribute»</text><text fill=\"#000000\" font-family=\"sans-serif\" font-size=\"12\" lengthAdjust=\"spacingAndGlyphs\" textLength=\"6\" x=\"65\" y=\"247.6074\">x</text><line style=\"stroke: #383838; stroke-width: 1.5;\" x1=\"33.5\" x2=\"102.5\" y1=\"255.4375\" y2=\"255.4375\"/></a><!--MD5=[2156ba9850f5573cc1fc38a6a4b2f02b]\n",
       "class E7--><a href=\"psysml:638ee95e-a488-4c6b-8aa7-581f6cf4c2fe\" target=\"_top\" title=\"psysml:638ee95e-a488-4c6b-8aa7-581f6cf4c2fe\" xlink:actuate=\"onRequest\" xlink:href=\"psysml:638ee95e-a488-4c6b-8aa7-581f6cf4c2fe\" xlink:show=\"new\" xlink:title=\"psysml:638ee95e-a488-4c6b-8aa7-581f6cf4c2fe\" xlink:type=\"simple\"><rect fill=\"#FFFFFF\" height=\"45.9375\" id=\"E7\" rx=\"10\" ry=\"10\" style=\"stroke: #383838; stroke-width: 1.5;\" width=\"71\" x=\"138.5\" y=\"217.5\"/><text fill=\"#000000\" font-family=\"sans-serif\" font-size=\"12\" font-style=\"italic\" lengthAdjust=\"spacingAndGlyphs\" textLength=\"69\" x=\"139.5\" y=\"233.6387\">«attribute»</text><text fill=\"#000000\" font-family=\"sans-serif\" font-size=\"12\" lengthAdjust=\"spacingAndGlyphs\" textLength=\"6\" x=\"171\" y=\"247.6074\">y</text><line style=\"stroke: #383838; stroke-width: 1.5;\" x1=\"139.5\" x2=\"208.5\" y1=\"255.4375\" y2=\"255.4375\"/></a><!--MD5=[b9389687b975829384b498ac4b7476b2]\n",
       "class E8--><a href=\"psysml:267f67df-ceab-4f9b-9288-379f8b6d76cc\" target=\"_top\" title=\"psysml:267f67df-ceab-4f9b-9288-379f8b6d76cc\" xlink:actuate=\"onRequest\" xlink:href=\"psysml:267f67df-ceab-4f9b-9288-379f8b6d76cc\" xlink:show=\"new\" xlink:title=\"psysml:267f67df-ceab-4f9b-9288-379f8b6d76cc\" xlink:type=\"simple\"><rect fill=\"#FFFFFF\" height=\"45.9375\" id=\"E8\" rx=\"10\" ry=\"10\" style=\"stroke: #383838; stroke-width: 1.5;\" width=\"71\" x=\"84.5\" y=\"87.5\"/><text fill=\"#000000\" font-family=\"sans-serif\" font-size=\"12\" font-style=\"italic\" lengthAdjust=\"spacingAndGlyphs\" textLength=\"69\" x=\"85.5\" y=\"103.6387\">«attribute»</text><text fill=\"#000000\" font-family=\"sans-serif\" font-size=\"12\" lengthAdjust=\"spacingAndGlyphs\" textLength=\"5\" x=\"117.5\" y=\"117.6074\">z</text><line style=\"stroke: #383838; stroke-width: 1.5;\" x1=\"85.5\" x2=\"154.5\" y1=\"125.4375\" y2=\"125.4375\"/></a><a href=\"psysml:d7cd1111-165d-4c09-9c1d-1c6e69d6b628\" target=\"_top\" title=\"psysml:d7cd1111-165d-4c09-9c1d-1c6e69d6b628\" xlink:actuate=\"onRequest\" xlink:href=\"psysml:d7cd1111-165d-4c09-9c1d-1c6e69d6b628\" xlink:show=\"new\" xlink:title=\"psysml:d7cd1111-165d-4c09-9c1d-1c6e69d6b628\" xlink:type=\"simple\"><polygon fill=\"#FFFFFF\" points=\"271,84,413,84,420,106.2969,427,106.2969,427,136.5938,271,136.5938,271,84\" style=\"stroke: #000000; stroke-width: 1.5;\"/><line style=\"stroke: #000000; stroke-width: 1.5;\" x1=\"271\" x2=\"420\" y1=\"106.2969\" y2=\"106.2969\"/><text fill=\"#000000\" font-family=\"sans-serif\" font-size=\"14\" font-weight=\"bold\" lengthAdjust=\"spacingAndGlyphs\" textLength=\"136\" x=\"275\" y=\"98.9951\">Application Layer</text></a><a href=\"psysml:4fd532ef-c056-48ed-b57e-c34d41c7d9b0\" target=\"_top\" title=\"psysml:4fd532ef-c056-48ed-b57e-c34d41c7d9b0\" xlink:actuate=\"onRequest\" xlink:href=\"psysml:4fd532ef-c056-48ed-b57e-c34d41c7d9b0\" xlink:show=\"new\" xlink:title=\"psysml:4fd532ef-c056-48ed-b57e-c34d41c7d9b0\" xlink:type=\"simple\"><polygon fill=\"#FFFFFF\" points=\"285,214,399,214,406,236.2969,413,236.2969,413,266.5938,285,266.5938,285,214\" style=\"stroke: #000000; stroke-width: 1.5;\"/><line style=\"stroke: #000000; stroke-width: 1.5;\" x1=\"285\" x2=\"406\" y1=\"236.2969\" y2=\"236.2969\"/><text fill=\"#000000\" font-family=\"sans-serif\" font-size=\"14\" font-weight=\"bold\" lengthAdjust=\"spacingAndGlyphs\" textLength=\"108\" x=\"289\" y=\"228.9951\">Service Layer</text></a><a href=\"psysml:f10bbfff-f917-435f-bbe7-eedf9b14a34c\" target=\"_top\" title=\"psysml:f10bbfff-f917-435f-bbe7-eedf9b14a34c\" xlink:actuate=\"onRequest\" xlink:href=\"psysml:f10bbfff-f917-435f-bbe7-eedf9b14a34c\" xlink:show=\"new\" xlink:title=\"psysml:f10bbfff-f917-435f-bbe7-eedf9b14a34c\" xlink:type=\"simple\"><polygon fill=\"#FFFFFF\" points=\"297,344,387,344,394,366.2969,401,366.2969,401,396.5938,297,396.5938,297,344\" style=\"stroke: #000000; stroke-width: 1.5;\"/><line style=\"stroke: #000000; stroke-width: 1.5;\" x1=\"297\" x2=\"394\" y1=\"366.2969\" y2=\"366.2969\"/><text fill=\"#000000\" font-family=\"sans-serif\" font-size=\"14\" font-weight=\"bold\" lengthAdjust=\"spacingAndGlyphs\" textLength=\"84\" x=\"301\" y=\"358.9951\">Data Layer</text></a><!--MD5=[af87c684e3b0d8be13c1a698a818ef1e]\n",
       "link E3 to E4--><a href=\"psysml:d6fef634-817c-4ef1-96de-f37bb594aaea\" target=\"_top\" title=\"psysml:d6fef634-817c-4ef1-96de-f37bb594aaea\" xlink:actuate=\"onRequest\" xlink:href=\"psysml:d6fef634-817c-4ef1-96de-f37bb594aaea\" xlink:show=\"new\" xlink:title=\"psysml:d6fef634-817c-4ef1-96de-f37bb594aaea\" xlink:type=\"simple\"><path d=\"M349,137.12 C349,137.12 349,205.91 349,205.91 \" fill=\"none\" id=\"E3-&gt;E4\" style=\"stroke: #383838; stroke-width: 1.0; stroke-dasharray: 7.0,7.0;\"/><polygon fill=\"#383838\" points=\"349,213.91,352,205.91,346,205.91,349,213.91\" style=\"stroke: #383838; stroke-width: 1.0;\"/><text fill=\"#000000\" font-family=\"sans-serif\" font-size=\"13\" lengthAdjust=\"spacingAndGlyphs\" textLength=\"64\" x=\"350\" y=\"180.0669\">«depend»</text></a><!--MD5=[1b7591eae5389033d8d09a9d6721a717]\n",
       "link E4 to E5--><a href=\"psysml:d4b689e0-de38-42ab-a0b3-2a8bf82e0669\" target=\"_top\" title=\"psysml:d4b689e0-de38-42ab-a0b3-2a8bf82e0669\" xlink:actuate=\"onRequest\" xlink:href=\"psysml:d4b689e0-de38-42ab-a0b3-2a8bf82e0669\" xlink:show=\"new\" xlink:title=\"psysml:d4b689e0-de38-42ab-a0b3-2a8bf82e0669\" xlink:type=\"simple\"><path d=\"M349,267.12 C349,267.12 349,335.91 349,335.91 \" fill=\"none\" id=\"E4-&gt;E5\" style=\"stroke: #383838; stroke-width: 1.0; stroke-dasharray: 7.0,7.0;\"/><polygon fill=\"#383838\" points=\"349,343.91,352,335.91,346,335.91,349,343.91\" style=\"stroke: #383838; stroke-width: 1.0;\"/><text fill=\"#000000\" font-family=\"sans-serif\" font-size=\"13\" lengthAdjust=\"spacingAndGlyphs\" textLength=\"64\" x=\"350\" y=\"310.0669\">«depend»</text></a><!--MD5=[c5e8897d989ce984f93528998a7150fe]\n",
       "link E8 to E6--><a href=\"psysml:c74e1bf4-ee72-40a7-b163-07732e38ed67\" target=\"_top\" title=\"psysml:c74e1bf4-ee72-40a7-b163-07732e38ed67\" xlink:actuate=\"onRequest\" xlink:href=\"psysml:c74e1bf4-ee72-40a7-b163-07732e38ed67\" xlink:show=\"new\" xlink:title=\"psysml:c74e1bf4-ee72-40a7-b163-07732e38ed67\" xlink:type=\"simple\"><path d=\"M94,133.74 C94,133.74 94,209.46 94,209.46 \" fill=\"none\" id=\"E8-&gt;E6\" style=\"stroke: #383838; stroke-width: 1.0; stroke-dasharray: 7.0,7.0;\"/><polygon fill=\"#383838\" points=\"94,217.46,97,209.46,91,209.46,94,217.46\" style=\"stroke: #383838; stroke-width: 1.0;\"/><text fill=\"#000000\" font-family=\"sans-serif\" font-size=\"13\" lengthAdjust=\"spacingAndGlyphs\" textLength=\"64\" x=\"68\" y=\"180.0669\">«depend»</text></a><!--MD5=[bfa3c8b0d15052fdf50ae9310b491027]\n",
       "link E8 to E7--><a href=\"psysml:c74e1bf4-ee72-40a7-b163-07732e38ed67\" target=\"_top\" title=\"psysml:c74e1bf4-ee72-40a7-b163-07732e38ed67\" xlink:actuate=\"onRequest\" xlink:href=\"psysml:c74e1bf4-ee72-40a7-b163-07732e38ed67\" xlink:show=\"new\" xlink:title=\"psysml:c74e1bf4-ee72-40a7-b163-07732e38ed67\" xlink:type=\"simple\"><path d=\"M147,133.74 C147,133.74 147,209.46 147,209.46 \" fill=\"none\" id=\"E8-&gt;E7\" style=\"stroke: #383838; stroke-width: 1.0; stroke-dasharray: 7.0,7.0;\"/><polygon fill=\"#383838\" points=\"147,217.46,150,209.46,144,209.46,147,217.46\" style=\"stroke: #383838; stroke-width: 1.0;\"/><text fill=\"#000000\" font-family=\"sans-serif\" font-size=\"13\" lengthAdjust=\"spacingAndGlyphs\" textLength=\"64\" x=\"174\" y=\"180.0669\">«depend»</text></a><!--MD5=[6212958d044692edd298a5a0e18a1770]\n",
       "@startuml\r\n",
       "skinparam linetype ortho\r\n",
       "skinparam monochrome true\r\n",
       "skinparam classbackgroundcolor white\r\n",
       "skinparam shadowing false\r\n",
       "skinparam wrapWidth 300\r\n",
       "hide circle\r\n",
       "\r\n",
       "package \"DependencyTest\" as E1  [[psysml:f9a8e327-3c68-43cc-8fc4-f0fda4441472 ]]  {\r\n",
       "package \"System\" as E2  [[psysml:5e0f80f7-1058-4b47-9f4f-e59769b1dff5 ]]  {\r\n",
       "package \"Application Layer\" as E3  [[psysml:d7cd1111-165d-4c09-9c1d-1c6e69d6b628 ]]  {\r\n",
       "}\r\n",
       "package \"Service Layer\" as E4  [[psysml:4fd532ef-c056-48ed-b57e-c34d41c7d9b0 ]]  {\r\n",
       "}\r\n",
       "package \"Data Layer\" as E5  [[psysml:f10bbfff-f917-435f-bbe7-eedf9b14a34c ]]  {\r\n",
       "}\r\n",
       "}\r\n",
       "comp usage \"x\" as E6  <<(T,blue)attribute>> [[psysml:52169dc2-f588-4d36-bb4d-934125a8defa ]] {\r\n",
       "}\r\n",
       "comp usage \"y\" as E7  <<(T,blue)attribute>> [[psysml:638ee95e-a488-4c6b-8aa7-581f6cf4c2fe ]] {\r\n",
       "}\r\n",
       "comp usage \"z\" as E8  <<(T,blue)attribute>> [[psysml:267f67df-ceab-4f9b-9288-379f8b6d76cc ]] {\r\n",
       "}\r\n",
       "E3 ..>> E4 [[psysml:d6fef634-817c-4ef1-96de-f37bb594aaea ]] : <<depend>>\r\n",
       "E4 ..>> E5 [[psysml:d4b689e0-de38-42ab-a0b3-2a8bf82e0669 ]] : <<depend>>\r\n",
       "E8 ..>> E6 [[psysml:c74e1bf4-ee72-40a7-b163-07732e38ed67 ]] : <<depend>>\r\n",
       "E8 ..>> E7 [[psysml:c74e1bf4-ee72-40a7-b163-07732e38ed67 ]] : <<depend>>\r\n",
       "}\r\n",
       "@enduml\r\n",
       "\n",
       "PlantUML version 1.2020.13(Sat Jun 13 12:26:38 UTC 2020)\n",
       "(EPL source distribution)\n",
       "Java Runtime: OpenJDK Runtime Environment\n",
       "JVM: OpenJDK 64-Bit Server VM\n",
       "Default Encoding: UTF-8\n",
       "Language: en\n",
       "Country: null\n",
       "--></g></svg>"
      ]
     },
     "execution_count": 51,
     "metadata": {},
     "output_type": "execute_result"
    }
   ],
   "source": [
    "%viz --style=\"ORTHOLINE\" --view=\"Default\" \"DependencyTest\""
   ]
  },
  {
   "cell_type": "code",
   "execution_count": 52,
   "id": "9fb91c1e",
   "metadata": {
    "execution": {
     "iopub.execute_input": "2021-05-27T06:11:49.741632Z",
     "iopub.status.busy": "2021-05-27T06:11:49.740826Z",
     "iopub.status.idle": "2021-05-27T06:11:49.770857Z",
     "shell.execute_reply": "2021-05-27T06:11:49.769658Z"
    }
   },
   "outputs": [
    {
     "data": {
      "image/svg+xml": [
       "<?xml version=\"1.0\" encoding=\"UTF-8\" standalone=\"no\"?><svg xmlns=\"http://www.w3.org/2000/svg\" xmlns:xlink=\"http://www.w3.org/1999/xlink\" contentScriptType=\"application/ecmascript\" contentStyleType=\"text/css\" height=\"449px\" preserveAspectRatio=\"none\" style=\"width:489px;height:449px;\" version=\"1.1\" viewBox=\"0 0 489 449\" width=\"489px\" zoomAndPan=\"magnify\"><defs/><g><!--MD5=[fbc87193dbaf4d95561dea2c320d4a47]\n",
       "cluster E1--><a href=\"psysml:f9a8e327-3c68-43cc-8fc4-f0fda4441472\" target=\"_top\" title=\"psysml:f9a8e327-3c68-43cc-8fc4-f0fda4441472\" xlink:actuate=\"onRequest\" xlink:href=\"psysml:f9a8e327-3c68-43cc-8fc4-f0fda4441472\" xlink:show=\"new\" xlink:title=\"psysml:f9a8e327-3c68-43cc-8fc4-f0fda4441472\" xlink:type=\"simple\"><polygon fill=\"#FFFFFF\" points=\"16,6,156,6,163,28.2969,467,28.2969,467,437,16,437,16,6\" style=\"stroke: #000000; stroke-width: 1.5;\"/><line style=\"stroke: #000000; stroke-width: 1.5;\" x1=\"16\" x2=\"163\" y1=\"28.2969\" y2=\"28.2969\"/><text fill=\"#000000\" font-family=\"sans-serif\" font-size=\"14\" font-weight=\"bold\" lengthAdjust=\"spacingAndGlyphs\" textLength=\"134\" x=\"20\" y=\"20.9951\">DependencyTest</text></a><!--MD5=[e4f7fae6ed58524ba242bb0b0d3be6b7]\n",
       "cluster E2--><a href=\"psysml:5e0f80f7-1058-4b47-9f4f-e59769b1dff5\" target=\"_top\" title=\"psysml:5e0f80f7-1058-4b47-9f4f-e59769b1dff5\" xlink:actuate=\"onRequest\" xlink:href=\"psysml:5e0f80f7-1058-4b47-9f4f-e59769b1dff5\" xlink:show=\"new\" xlink:title=\"psysml:5e0f80f7-1058-4b47-9f4f-e59769b1dff5\" xlink:type=\"simple\"><polygon fill=\"#FFFFFF\" points=\"255,49,319,49,326,71.2969,443,71.2969,443,413,255,413,255,49\" style=\"stroke: #000000; stroke-width: 1.5;\"/><line style=\"stroke: #000000; stroke-width: 1.5;\" x1=\"255\" x2=\"326\" y1=\"71.2969\" y2=\"71.2969\"/><text fill=\"#000000\" font-family=\"sans-serif\" font-size=\"14\" font-weight=\"bold\" lengthAdjust=\"spacingAndGlyphs\" textLength=\"58\" x=\"259\" y=\"63.9951\">System</text></a><!--MD5=[60a26617385b1d2d0262a64233df1f8d]\n",
       "class E6--><a href=\"psysml:52169dc2-f588-4d36-bb4d-934125a8defa\" target=\"_top\" title=\"psysml:52169dc2-f588-4d36-bb4d-934125a8defa\" xlink:actuate=\"onRequest\" xlink:href=\"psysml:52169dc2-f588-4d36-bb4d-934125a8defa\" xlink:show=\"new\" xlink:title=\"psysml:52169dc2-f588-4d36-bb4d-934125a8defa\" xlink:type=\"simple\"><rect fill=\"#FFFFFF\" height=\"45.9375\" id=\"E6\" rx=\"10\" ry=\"10\" style=\"stroke: #383838; stroke-width: 1.5;\" width=\"71\" x=\"32.5\" y=\"217.5\"/><text fill=\"#000000\" font-family=\"sans-serif\" font-size=\"12\" font-style=\"italic\" lengthAdjust=\"spacingAndGlyphs\" textLength=\"69\" x=\"33.5\" y=\"233.6387\">«attribute»</text><text fill=\"#000000\" font-family=\"sans-serif\" font-size=\"12\" lengthAdjust=\"spacingAndGlyphs\" textLength=\"6\" x=\"65\" y=\"247.6074\">x</text><line style=\"stroke: #383838; stroke-width: 1.5;\" x1=\"33.5\" x2=\"102.5\" y1=\"255.4375\" y2=\"255.4375\"/></a><!--MD5=[2156ba9850f5573cc1fc38a6a4b2f02b]\n",
       "class E7--><a href=\"psysml:638ee95e-a488-4c6b-8aa7-581f6cf4c2fe\" target=\"_top\" title=\"psysml:638ee95e-a488-4c6b-8aa7-581f6cf4c2fe\" xlink:actuate=\"onRequest\" xlink:href=\"psysml:638ee95e-a488-4c6b-8aa7-581f6cf4c2fe\" xlink:show=\"new\" xlink:title=\"psysml:638ee95e-a488-4c6b-8aa7-581f6cf4c2fe\" xlink:type=\"simple\"><rect fill=\"#FFFFFF\" height=\"45.9375\" id=\"E7\" rx=\"10\" ry=\"10\" style=\"stroke: #383838; stroke-width: 1.5;\" width=\"71\" x=\"138.5\" y=\"217.5\"/><text fill=\"#000000\" font-family=\"sans-serif\" font-size=\"12\" font-style=\"italic\" lengthAdjust=\"spacingAndGlyphs\" textLength=\"69\" x=\"139.5\" y=\"233.6387\">«attribute»</text><text fill=\"#000000\" font-family=\"sans-serif\" font-size=\"12\" lengthAdjust=\"spacingAndGlyphs\" textLength=\"6\" x=\"171\" y=\"247.6074\">y</text><line style=\"stroke: #383838; stroke-width: 1.5;\" x1=\"139.5\" x2=\"208.5\" y1=\"255.4375\" y2=\"255.4375\"/></a><!--MD5=[b9389687b975829384b498ac4b7476b2]\n",
       "class E8--><a href=\"psysml:267f67df-ceab-4f9b-9288-379f8b6d76cc\" target=\"_top\" title=\"psysml:267f67df-ceab-4f9b-9288-379f8b6d76cc\" xlink:actuate=\"onRequest\" xlink:href=\"psysml:267f67df-ceab-4f9b-9288-379f8b6d76cc\" xlink:show=\"new\" xlink:title=\"psysml:267f67df-ceab-4f9b-9288-379f8b6d76cc\" xlink:type=\"simple\"><rect fill=\"#FFFFFF\" height=\"45.9375\" id=\"E8\" rx=\"10\" ry=\"10\" style=\"stroke: #383838; stroke-width: 1.5;\" width=\"71\" x=\"84.5\" y=\"87.5\"/><text fill=\"#000000\" font-family=\"sans-serif\" font-size=\"12\" font-style=\"italic\" lengthAdjust=\"spacingAndGlyphs\" textLength=\"69\" x=\"85.5\" y=\"103.6387\">«attribute»</text><text fill=\"#000000\" font-family=\"sans-serif\" font-size=\"12\" lengthAdjust=\"spacingAndGlyphs\" textLength=\"5\" x=\"117.5\" y=\"117.6074\">z</text><line style=\"stroke: #383838; stroke-width: 1.5;\" x1=\"85.5\" x2=\"154.5\" y1=\"125.4375\" y2=\"125.4375\"/></a><a href=\"psysml:d7cd1111-165d-4c09-9c1d-1c6e69d6b628\" target=\"_top\" title=\"psysml:d7cd1111-165d-4c09-9c1d-1c6e69d6b628\" xlink:actuate=\"onRequest\" xlink:href=\"psysml:d7cd1111-165d-4c09-9c1d-1c6e69d6b628\" xlink:show=\"new\" xlink:title=\"psysml:d7cd1111-165d-4c09-9c1d-1c6e69d6b628\" xlink:type=\"simple\"><polygon fill=\"#FFFFFF\" points=\"271,84,413,84,420,106.2969,427,106.2969,427,136.5938,271,136.5938,271,84\" style=\"stroke: #000000; stroke-width: 1.5;\"/><line style=\"stroke: #000000; stroke-width: 1.5;\" x1=\"271\" x2=\"420\" y1=\"106.2969\" y2=\"106.2969\"/><text fill=\"#000000\" font-family=\"sans-serif\" font-size=\"14\" font-weight=\"bold\" lengthAdjust=\"spacingAndGlyphs\" textLength=\"136\" x=\"275\" y=\"98.9951\">Application Layer</text></a><a href=\"psysml:4fd532ef-c056-48ed-b57e-c34d41c7d9b0\" target=\"_top\" title=\"psysml:4fd532ef-c056-48ed-b57e-c34d41c7d9b0\" xlink:actuate=\"onRequest\" xlink:href=\"psysml:4fd532ef-c056-48ed-b57e-c34d41c7d9b0\" xlink:show=\"new\" xlink:title=\"psysml:4fd532ef-c056-48ed-b57e-c34d41c7d9b0\" xlink:type=\"simple\"><polygon fill=\"#FFFFFF\" points=\"285,214,399,214,406,236.2969,413,236.2969,413,266.5938,285,266.5938,285,214\" style=\"stroke: #000000; stroke-width: 1.5;\"/><line style=\"stroke: #000000; stroke-width: 1.5;\" x1=\"285\" x2=\"406\" y1=\"236.2969\" y2=\"236.2969\"/><text fill=\"#000000\" font-family=\"sans-serif\" font-size=\"14\" font-weight=\"bold\" lengthAdjust=\"spacingAndGlyphs\" textLength=\"108\" x=\"289\" y=\"228.9951\">Service Layer</text></a><a href=\"psysml:f10bbfff-f917-435f-bbe7-eedf9b14a34c\" target=\"_top\" title=\"psysml:f10bbfff-f917-435f-bbe7-eedf9b14a34c\" xlink:actuate=\"onRequest\" xlink:href=\"psysml:f10bbfff-f917-435f-bbe7-eedf9b14a34c\" xlink:show=\"new\" xlink:title=\"psysml:f10bbfff-f917-435f-bbe7-eedf9b14a34c\" xlink:type=\"simple\"><polygon fill=\"#FFFFFF\" points=\"297,344,387,344,394,366.2969,401,366.2969,401,396.5938,297,396.5938,297,344\" style=\"stroke: #000000; stroke-width: 1.5;\"/><line style=\"stroke: #000000; stroke-width: 1.5;\" x1=\"297\" x2=\"394\" y1=\"366.2969\" y2=\"366.2969\"/><text fill=\"#000000\" font-family=\"sans-serif\" font-size=\"14\" font-weight=\"bold\" lengthAdjust=\"spacingAndGlyphs\" textLength=\"84\" x=\"301\" y=\"358.9951\">Data Layer</text></a><!--MD5=[af87c684e3b0d8be13c1a698a818ef1e]\n",
       "link E3 to E4--><a href=\"psysml:d6fef634-817c-4ef1-96de-f37bb594aaea\" target=\"_top\" title=\"psysml:d6fef634-817c-4ef1-96de-f37bb594aaea\" xlink:actuate=\"onRequest\" xlink:href=\"psysml:d6fef634-817c-4ef1-96de-f37bb594aaea\" xlink:show=\"new\" xlink:title=\"psysml:d6fef634-817c-4ef1-96de-f37bb594aaea\" xlink:type=\"simple\"><path d=\"M349,137.12 C349,137.12 349,205.91 349,205.91 \" fill=\"none\" id=\"E3-&gt;E4\" style=\"stroke: #383838; stroke-width: 1.0; stroke-dasharray: 7.0,7.0;\"/><polygon fill=\"#383838\" points=\"349,213.91,352,205.91,346,205.91,349,213.91\" style=\"stroke: #383838; stroke-width: 1.0;\"/><text fill=\"#000000\" font-family=\"sans-serif\" font-size=\"13\" lengthAdjust=\"spacingAndGlyphs\" textLength=\"64\" x=\"350\" y=\"180.0669\">«depend»</text></a><!--MD5=[1b7591eae5389033d8d09a9d6721a717]\n",
       "link E4 to E5--><a href=\"psysml:d4b689e0-de38-42ab-a0b3-2a8bf82e0669\" target=\"_top\" title=\"psysml:d4b689e0-de38-42ab-a0b3-2a8bf82e0669\" xlink:actuate=\"onRequest\" xlink:href=\"psysml:d4b689e0-de38-42ab-a0b3-2a8bf82e0669\" xlink:show=\"new\" xlink:title=\"psysml:d4b689e0-de38-42ab-a0b3-2a8bf82e0669\" xlink:type=\"simple\"><path d=\"M349,267.12 C349,267.12 349,335.91 349,335.91 \" fill=\"none\" id=\"E4-&gt;E5\" style=\"stroke: #383838; stroke-width: 1.0; stroke-dasharray: 7.0,7.0;\"/><polygon fill=\"#383838\" points=\"349,343.91,352,335.91,346,335.91,349,343.91\" style=\"stroke: #383838; stroke-width: 1.0;\"/><text fill=\"#000000\" font-family=\"sans-serif\" font-size=\"13\" lengthAdjust=\"spacingAndGlyphs\" textLength=\"64\" x=\"350\" y=\"310.0669\">«depend»</text></a><!--MD5=[c5e8897d989ce984f93528998a7150fe]\n",
       "link E8 to E6--><a href=\"psysml:c74e1bf4-ee72-40a7-b163-07732e38ed67\" target=\"_top\" title=\"psysml:c74e1bf4-ee72-40a7-b163-07732e38ed67\" xlink:actuate=\"onRequest\" xlink:href=\"psysml:c74e1bf4-ee72-40a7-b163-07732e38ed67\" xlink:show=\"new\" xlink:title=\"psysml:c74e1bf4-ee72-40a7-b163-07732e38ed67\" xlink:type=\"simple\"><path d=\"M94,133.74 C94,133.74 94,209.46 94,209.46 \" fill=\"none\" id=\"E8-&gt;E6\" style=\"stroke: #383838; stroke-width: 1.0; stroke-dasharray: 7.0,7.0;\"/><polygon fill=\"#383838\" points=\"94,217.46,97,209.46,91,209.46,94,217.46\" style=\"stroke: #383838; stroke-width: 1.0;\"/><text fill=\"#000000\" font-family=\"sans-serif\" font-size=\"13\" lengthAdjust=\"spacingAndGlyphs\" textLength=\"64\" x=\"68\" y=\"180.0669\">«depend»</text></a><!--MD5=[bfa3c8b0d15052fdf50ae9310b491027]\n",
       "link E8 to E7--><a href=\"psysml:c74e1bf4-ee72-40a7-b163-07732e38ed67\" target=\"_top\" title=\"psysml:c74e1bf4-ee72-40a7-b163-07732e38ed67\" xlink:actuate=\"onRequest\" xlink:href=\"psysml:c74e1bf4-ee72-40a7-b163-07732e38ed67\" xlink:show=\"new\" xlink:title=\"psysml:c74e1bf4-ee72-40a7-b163-07732e38ed67\" xlink:type=\"simple\"><path d=\"M147,133.74 C147,133.74 147,209.46 147,209.46 \" fill=\"none\" id=\"E8-&gt;E7\" style=\"stroke: #383838; stroke-width: 1.0; stroke-dasharray: 7.0,7.0;\"/><polygon fill=\"#383838\" points=\"147,217.46,150,209.46,144,209.46,147,217.46\" style=\"stroke: #383838; stroke-width: 1.0;\"/><text fill=\"#000000\" font-family=\"sans-serif\" font-size=\"13\" lengthAdjust=\"spacingAndGlyphs\" textLength=\"64\" x=\"174\" y=\"180.0669\">«depend»</text></a><!--MD5=[6212958d044692edd298a5a0e18a1770]\n",
       "@startuml\r\n",
       "skinparam linetype ortho\r\n",
       "skinparam monochrome true\r\n",
       "skinparam classbackgroundcolor white\r\n",
       "skinparam shadowing false\r\n",
       "skinparam wrapWidth 300\r\n",
       "hide circle\r\n",
       "\r\n",
       "package \"DependencyTest\" as E1  [[psysml:f9a8e327-3c68-43cc-8fc4-f0fda4441472 ]]  {\r\n",
       "package \"System\" as E2  [[psysml:5e0f80f7-1058-4b47-9f4f-e59769b1dff5 ]]  {\r\n",
       "package \"Application Layer\" as E3  [[psysml:d7cd1111-165d-4c09-9c1d-1c6e69d6b628 ]]  {\r\n",
       "}\r\n",
       "package \"Service Layer\" as E4  [[psysml:4fd532ef-c056-48ed-b57e-c34d41c7d9b0 ]]  {\r\n",
       "}\r\n",
       "package \"Data Layer\" as E5  [[psysml:f10bbfff-f917-435f-bbe7-eedf9b14a34c ]]  {\r\n",
       "}\r\n",
       "}\r\n",
       "comp usage \"x\" as E6  <<(T,blue)attribute>> [[psysml:52169dc2-f588-4d36-bb4d-934125a8defa ]] {\r\n",
       "}\r\n",
       "comp usage \"y\" as E7  <<(T,blue)attribute>> [[psysml:638ee95e-a488-4c6b-8aa7-581f6cf4c2fe ]] {\r\n",
       "}\r\n",
       "comp usage \"z\" as E8  <<(T,blue)attribute>> [[psysml:267f67df-ceab-4f9b-9288-379f8b6d76cc ]] {\r\n",
       "}\r\n",
       "E3 ..>> E4 [[psysml:d6fef634-817c-4ef1-96de-f37bb594aaea ]] : <<depend>>\r\n",
       "E4 ..>> E5 [[psysml:d4b689e0-de38-42ab-a0b3-2a8bf82e0669 ]] : <<depend>>\r\n",
       "E8 ..>> E6 [[psysml:c74e1bf4-ee72-40a7-b163-07732e38ed67 ]] : <<depend>>\r\n",
       "E8 ..>> E7 [[psysml:c74e1bf4-ee72-40a7-b163-07732e38ed67 ]] : <<depend>>\r\n",
       "}\r\n",
       "@enduml\r\n",
       "\n",
       "PlantUML version 1.2020.13(Sat Jun 13 12:26:38 UTC 2020)\n",
       "(EPL source distribution)\n",
       "Java Runtime: OpenJDK Runtime Environment\n",
       "JVM: OpenJDK 64-Bit Server VM\n",
       "Default Encoding: UTF-8\n",
       "Language: en\n",
       "Country: null\n",
       "--></g></svg>"
      ]
     },
     "execution_count": 52,
     "metadata": {},
     "output_type": "execute_result"
    }
   ],
   "source": [
    "%viz --style=\"ORTHOLINE\" --view=\"Tree\" \"DependencyTest\""
   ]
  },
  {
   "cell_type": "code",
   "execution_count": 53,
   "id": "d61463c6",
   "metadata": {
    "execution": {
     "iopub.execute_input": "2021-05-27T06:11:49.823417Z",
     "iopub.status.busy": "2021-05-27T06:11:49.822531Z",
     "iopub.status.idle": "2021-05-27T06:11:49.828350Z",
     "shell.execute_reply": "2021-05-27T06:11:49.827944Z"
    }
   },
   "outputs": [
    {
     "data": {
      "image/svg+xml": [
       "<?xml version=\"1.0\" encoding=\"UTF-8\" standalone=\"no\"?><svg xmlns=\"http://www.w3.org/2000/svg\" xmlns:xlink=\"http://www.w3.org/1999/xlink\" contentScriptType=\"application/ecmascript\" contentStyleType=\"text/css\" height=\"12px\" preserveAspectRatio=\"none\" style=\"width:12px;height:12px;\" version=\"1.1\" viewBox=\"0 0 12 12\" width=\"12px\" zoomAndPan=\"magnify\"><defs/><g><!--MD5=[97d6f38768b311333d388e66b2b27985]\n",
       "@startuml\r\n",
       "skinparam linetype ortho\r\n",
       "skinparam monochrome true\r\n",
       "skinparam classbackgroundcolor white\r\n",
       "skinparam shadowing false\r\n",
       "skinparam wrapWidth 300\r\n",
       "hide circle\r\n",
       "\r\n",
       "@enduml\r\n",
       "\n",
       "PlantUML version 1.2020.13(Sat Jun 13 12:26:38 UTC 2020)\n",
       "(EPL source distribution)\n",
       "Java Runtime: OpenJDK Runtime Environment\n",
       "JVM: OpenJDK 64-Bit Server VM\n",
       "Default Encoding: UTF-8\n",
       "Language: en\n",
       "Country: null\n",
       "--></g></svg>"
      ]
     },
     "execution_count": 53,
     "metadata": {},
     "output_type": "execute_result"
    }
   ],
   "source": [
    "%viz --style=\"ORTHOLINE\" --view=\"State\" \"DependencyTest\""
   ]
  },
  {
   "cell_type": "code",
   "execution_count": 54,
   "id": "94c29109",
   "metadata": {
    "execution": {
     "iopub.execute_input": "2021-05-27T06:11:49.881265Z",
     "iopub.status.busy": "2021-05-27T06:11:49.880432Z",
     "iopub.status.idle": "2021-05-27T06:11:49.911165Z",
     "shell.execute_reply": "2021-05-27T06:11:49.909961Z"
    }
   },
   "outputs": [
    {
     "data": {
      "image/svg+xml": [
       "<?xml version=\"1.0\" encoding=\"UTF-8\" standalone=\"no\"?><svg xmlns=\"http://www.w3.org/2000/svg\" xmlns:xlink=\"http://www.w3.org/1999/xlink\" contentScriptType=\"application/ecmascript\" contentStyleType=\"text/css\" height=\"361px\" preserveAspectRatio=\"none\" style=\"width:489px;height:361px;\" version=\"1.1\" viewBox=\"0 0 489 361\" width=\"489px\" zoomAndPan=\"magnify\"><defs/><g><!--MD5=[fbc87193dbaf4d95561dea2c320d4a47]\n",
       "cluster E1--><a href=\"psysml:f9a8e327-3c68-43cc-8fc4-f0fda4441472\" target=\"_top\" title=\"psysml:f9a8e327-3c68-43cc-8fc4-f0fda4441472\" xlink:actuate=\"onRequest\" xlink:href=\"psysml:f9a8e327-3c68-43cc-8fc4-f0fda4441472\" xlink:show=\"new\" xlink:title=\"psysml:f9a8e327-3c68-43cc-8fc4-f0fda4441472\" xlink:type=\"simple\"><polygon fill=\"#FFFFFF\" points=\"16,6,156,6,163,28.2969,467,28.2969,467,349,16,349,16,6\" style=\"stroke: #000000; stroke-width: 1.5;\"/><line style=\"stroke: #000000; stroke-width: 1.5;\" x1=\"16\" x2=\"163\" y1=\"28.2969\" y2=\"28.2969\"/><text fill=\"#000000\" font-family=\"sans-serif\" font-size=\"14\" font-weight=\"bold\" lengthAdjust=\"spacingAndGlyphs\" textLength=\"134\" x=\"20\" y=\"20.9951\">DependencyTest</text></a><!--MD5=[e4f7fae6ed58524ba242bb0b0d3be6b7]\n",
       "cluster E2--><a href=\"psysml:5e0f80f7-1058-4b47-9f4f-e59769b1dff5\" target=\"_top\" title=\"psysml:5e0f80f7-1058-4b47-9f4f-e59769b1dff5\" xlink:actuate=\"onRequest\" xlink:href=\"psysml:5e0f80f7-1058-4b47-9f4f-e59769b1dff5\" xlink:show=\"new\" xlink:title=\"psysml:5e0f80f7-1058-4b47-9f4f-e59769b1dff5\" xlink:type=\"simple\"><polygon fill=\"#FFFFFF\" points=\"255,49,319,49,326,71.2969,443,71.2969,443,325,255,325,255,49\" style=\"stroke: #000000; stroke-width: 1.5;\"/><line style=\"stroke: #000000; stroke-width: 1.5;\" x1=\"255\" x2=\"326\" y1=\"71.2969\" y2=\"71.2969\"/><text fill=\"#000000\" font-family=\"sans-serif\" font-size=\"14\" font-weight=\"bold\" lengthAdjust=\"spacingAndGlyphs\" textLength=\"58\" x=\"259\" y=\"63.9951\">System</text></a><!--MD5=[60a26617385b1d2d0262a64233df1f8d]\n",
       "class E6--><a href=\"psysml:52169dc2-f588-4d36-bb4d-934125a8defa\" target=\"_top\" title=\"psysml:52169dc2-f588-4d36-bb4d-934125a8defa\" xlink:actuate=\"onRequest\" xlink:href=\"psysml:52169dc2-f588-4d36-bb4d-934125a8defa\" xlink:show=\"new\" xlink:title=\"psysml:52169dc2-f588-4d36-bb4d-934125a8defa\" xlink:type=\"simple\"><rect fill=\"#FFFFFF\" height=\"45.9375\" id=\"E6\" rx=\"10\" ry=\"10\" style=\"stroke: #383838; stroke-width: 1.5;\" width=\"71\" x=\"32.5\" y=\"173.5\"/><text fill=\"#000000\" font-family=\"sans-serif\" font-size=\"12\" font-style=\"italic\" lengthAdjust=\"spacingAndGlyphs\" textLength=\"69\" x=\"33.5\" y=\"189.6387\">«attribute»</text><text fill=\"#000000\" font-family=\"sans-serif\" font-size=\"12\" lengthAdjust=\"spacingAndGlyphs\" textLength=\"6\" x=\"65\" y=\"203.6074\">x</text><line style=\"stroke: #383838; stroke-width: 1.5;\" x1=\"33.5\" x2=\"102.5\" y1=\"211.4375\" y2=\"211.4375\"/></a><!--MD5=[2156ba9850f5573cc1fc38a6a4b2f02b]\n",
       "class E7--><a href=\"psysml:638ee95e-a488-4c6b-8aa7-581f6cf4c2fe\" target=\"_top\" title=\"psysml:638ee95e-a488-4c6b-8aa7-581f6cf4c2fe\" xlink:actuate=\"onRequest\" xlink:href=\"psysml:638ee95e-a488-4c6b-8aa7-581f6cf4c2fe\" xlink:show=\"new\" xlink:title=\"psysml:638ee95e-a488-4c6b-8aa7-581f6cf4c2fe\" xlink:type=\"simple\"><rect fill=\"#FFFFFF\" height=\"45.9375\" id=\"E7\" rx=\"10\" ry=\"10\" style=\"stroke: #383838; stroke-width: 1.5;\" width=\"71\" x=\"138.5\" y=\"173.5\"/><text fill=\"#000000\" font-family=\"sans-serif\" font-size=\"12\" font-style=\"italic\" lengthAdjust=\"spacingAndGlyphs\" textLength=\"69\" x=\"139.5\" y=\"189.6387\">«attribute»</text><text fill=\"#000000\" font-family=\"sans-serif\" font-size=\"12\" lengthAdjust=\"spacingAndGlyphs\" textLength=\"6\" x=\"171\" y=\"203.6074\">y</text><line style=\"stroke: #383838; stroke-width: 1.5;\" x1=\"139.5\" x2=\"208.5\" y1=\"211.4375\" y2=\"211.4375\"/></a><!--MD5=[b9389687b975829384b498ac4b7476b2]\n",
       "class E8--><a href=\"psysml:267f67df-ceab-4f9b-9288-379f8b6d76cc\" target=\"_top\" title=\"psysml:267f67df-ceab-4f9b-9288-379f8b6d76cc\" xlink:actuate=\"onRequest\" xlink:href=\"psysml:267f67df-ceab-4f9b-9288-379f8b6d76cc\" xlink:show=\"new\" xlink:title=\"psysml:267f67df-ceab-4f9b-9288-379f8b6d76cc\" xlink:type=\"simple\"><rect fill=\"#FFFFFF\" height=\"45.9375\" id=\"E8\" rx=\"10\" ry=\"10\" style=\"stroke: #383838; stroke-width: 1.5;\" width=\"71\" x=\"84.5\" y=\"87.5\"/><text fill=\"#000000\" font-family=\"sans-serif\" font-size=\"12\" font-style=\"italic\" lengthAdjust=\"spacingAndGlyphs\" textLength=\"69\" x=\"85.5\" y=\"103.6387\">«attribute»</text><text fill=\"#000000\" font-family=\"sans-serif\" font-size=\"12\" lengthAdjust=\"spacingAndGlyphs\" textLength=\"5\" x=\"117.5\" y=\"117.6074\">z</text><line style=\"stroke: #383838; stroke-width: 1.5;\" x1=\"85.5\" x2=\"154.5\" y1=\"125.4375\" y2=\"125.4375\"/></a><a href=\"psysml:d7cd1111-165d-4c09-9c1d-1c6e69d6b628\" target=\"_top\" title=\"psysml:d7cd1111-165d-4c09-9c1d-1c6e69d6b628\" xlink:actuate=\"onRequest\" xlink:href=\"psysml:d7cd1111-165d-4c09-9c1d-1c6e69d6b628\" xlink:show=\"new\" xlink:title=\"psysml:d7cd1111-165d-4c09-9c1d-1c6e69d6b628\" xlink:type=\"simple\"><polygon fill=\"#FFFFFF\" points=\"271,84,413,84,420,106.2969,427,106.2969,427,136.5938,271,136.5938,271,84\" style=\"stroke: #000000; stroke-width: 1.5;\"/><line style=\"stroke: #000000; stroke-width: 1.5;\" x1=\"271\" x2=\"420\" y1=\"106.2969\" y2=\"106.2969\"/><text fill=\"#000000\" font-family=\"sans-serif\" font-size=\"14\" font-weight=\"bold\" lengthAdjust=\"spacingAndGlyphs\" textLength=\"136\" x=\"275\" y=\"98.9951\">Application Layer</text></a><a href=\"psysml:4fd532ef-c056-48ed-b57e-c34d41c7d9b0\" target=\"_top\" title=\"psysml:4fd532ef-c056-48ed-b57e-c34d41c7d9b0\" xlink:actuate=\"onRequest\" xlink:href=\"psysml:4fd532ef-c056-48ed-b57e-c34d41c7d9b0\" xlink:show=\"new\" xlink:title=\"psysml:4fd532ef-c056-48ed-b57e-c34d41c7d9b0\" xlink:type=\"simple\"><polygon fill=\"#FFFFFF\" points=\"285,170,399,170,406,192.2969,413,192.2969,413,222.5938,285,222.5938,285,170\" style=\"stroke: #000000; stroke-width: 1.5;\"/><line style=\"stroke: #000000; stroke-width: 1.5;\" x1=\"285\" x2=\"406\" y1=\"192.2969\" y2=\"192.2969\"/><text fill=\"#000000\" font-family=\"sans-serif\" font-size=\"14\" font-weight=\"bold\" lengthAdjust=\"spacingAndGlyphs\" textLength=\"108\" x=\"289\" y=\"184.9951\">Service Layer</text></a><a href=\"psysml:f10bbfff-f917-435f-bbe7-eedf9b14a34c\" target=\"_top\" title=\"psysml:f10bbfff-f917-435f-bbe7-eedf9b14a34c\" xlink:actuate=\"onRequest\" xlink:href=\"psysml:f10bbfff-f917-435f-bbe7-eedf9b14a34c\" xlink:show=\"new\" xlink:title=\"psysml:f10bbfff-f917-435f-bbe7-eedf9b14a34c\" xlink:type=\"simple\"><polygon fill=\"#FFFFFF\" points=\"297,256,387,256,394,278.2969,401,278.2969,401,308.5938,297,308.5938,297,256\" style=\"stroke: #000000; stroke-width: 1.5;\"/><line style=\"stroke: #000000; stroke-width: 1.5;\" x1=\"297\" x2=\"394\" y1=\"278.2969\" y2=\"278.2969\"/><text fill=\"#000000\" font-family=\"sans-serif\" font-size=\"14\" font-weight=\"bold\" lengthAdjust=\"spacingAndGlyphs\" textLength=\"84\" x=\"301\" y=\"270.9951\">Data Layer</text></a><!--MD5=[af87c684e3b0d8be13c1a698a818ef1e]\n",
       "link E3 to E4--><a href=\"psysml:d6fef634-817c-4ef1-96de-f37bb594aaea\" target=\"_top\" title=\"psysml:d6fef634-817c-4ef1-96de-f37bb594aaea\" xlink:actuate=\"onRequest\" xlink:href=\"psysml:d6fef634-817c-4ef1-96de-f37bb594aaea\" xlink:show=\"new\" xlink:title=\"psysml:d6fef634-817c-4ef1-96de-f37bb594aaea\" xlink:type=\"simple\"><path d=\"M349,137.24 C349,137.24 349,161.78 349,161.78 \" fill=\"none\" id=\"E3-&gt;E4\" style=\"stroke: #383838; stroke-width: 1.0; stroke-dasharray: 7.0,7.0;\"/><polygon fill=\"#383838\" points=\"349,169.78,352,161.78,346,161.78,349,169.78\" style=\"stroke: #383838; stroke-width: 1.0;\"/><text fill=\"#000000\" font-family=\"sans-serif\" font-size=\"13\" lengthAdjust=\"spacingAndGlyphs\" textLength=\"64\" x=\"350\" y=\"158.0669\">«depend»</text></a><!--MD5=[1b7591eae5389033d8d09a9d6721a717]\n",
       "link E4 to E5--><a href=\"psysml:d4b689e0-de38-42ab-a0b3-2a8bf82e0669\" target=\"_top\" title=\"psysml:d4b689e0-de38-42ab-a0b3-2a8bf82e0669\" xlink:actuate=\"onRequest\" xlink:href=\"psysml:d4b689e0-de38-42ab-a0b3-2a8bf82e0669\" xlink:show=\"new\" xlink:title=\"psysml:d4b689e0-de38-42ab-a0b3-2a8bf82e0669\" xlink:type=\"simple\"><path d=\"M349,223.24 C349,223.24 349,247.78 349,247.78 \" fill=\"none\" id=\"E4-&gt;E5\" style=\"stroke: #383838; stroke-width: 1.0; stroke-dasharray: 7.0,7.0;\"/><polygon fill=\"#383838\" points=\"349,255.78,352,247.78,346,247.78,349,255.78\" style=\"stroke: #383838; stroke-width: 1.0;\"/><text fill=\"#000000\" font-family=\"sans-serif\" font-size=\"13\" lengthAdjust=\"spacingAndGlyphs\" textLength=\"64\" x=\"350\" y=\"244.0669\">«depend»</text></a><!--MD5=[c5e8897d989ce984f93528998a7150fe]\n",
       "link E8 to E6--><a href=\"psysml:c74e1bf4-ee72-40a7-b163-07732e38ed67\" target=\"_top\" title=\"psysml:c74e1bf4-ee72-40a7-b163-07732e38ed67\" xlink:actuate=\"onRequest\" xlink:href=\"psysml:c74e1bf4-ee72-40a7-b163-07732e38ed67\" xlink:show=\"new\" xlink:title=\"psysml:c74e1bf4-ee72-40a7-b163-07732e38ed67\" xlink:type=\"simple\"><path d=\"M94,133.55 C94,133.55 94,165.39 94,165.39 \" fill=\"none\" id=\"E8-&gt;E6\" style=\"stroke: #383838; stroke-width: 1.0; stroke-dasharray: 7.0,7.0;\"/><polygon fill=\"#383838\" points=\"94,173.39,97,165.39,91,165.39,94,173.39\" style=\"stroke: #383838; stroke-width: 1.0;\"/><text fill=\"#000000\" font-family=\"sans-serif\" font-size=\"13\" lengthAdjust=\"spacingAndGlyphs\" textLength=\"64\" x=\"68\" y=\"158.0669\">«depend»</text></a><!--MD5=[bfa3c8b0d15052fdf50ae9310b491027]\n",
       "link E8 to E7--><a href=\"psysml:c74e1bf4-ee72-40a7-b163-07732e38ed67\" target=\"_top\" title=\"psysml:c74e1bf4-ee72-40a7-b163-07732e38ed67\" xlink:actuate=\"onRequest\" xlink:href=\"psysml:c74e1bf4-ee72-40a7-b163-07732e38ed67\" xlink:show=\"new\" xlink:title=\"psysml:c74e1bf4-ee72-40a7-b163-07732e38ed67\" xlink:type=\"simple\"><path d=\"M147,133.55 C147,133.55 147,165.39 147,165.39 \" fill=\"none\" id=\"E8-&gt;E7\" style=\"stroke: #383838; stroke-width: 1.0; stroke-dasharray: 7.0,7.0;\"/><polygon fill=\"#383838\" points=\"147,173.39,150,165.39,144,165.39,147,173.39\" style=\"stroke: #383838; stroke-width: 1.0;\"/><text fill=\"#000000\" font-family=\"sans-serif\" font-size=\"13\" lengthAdjust=\"spacingAndGlyphs\" textLength=\"64\" x=\"174\" y=\"158.0669\">«depend»</text></a><!--MD5=[a4d14914aa8c71d5288769d8fa38db02]\n",
       "@startuml\r\n",
       "skinparam ranksep 10\r\n",
       "skinparam rectangle {\r\n",
       " backgroundColor<<block>> LightGreen\r\n",
       "}\r\n",
       "skinparam linetype ortho\r\n",
       "skinparam monochrome true\r\n",
       "skinparam classbackgroundcolor white\r\n",
       "skinparam shadowing false\r\n",
       "skinparam wrapWidth 300\r\n",
       "hide circle\r\n",
       "\r\n",
       "package \"DependencyTest\" as E1  [[psysml:f9a8e327-3c68-43cc-8fc4-f0fda4441472 ]]  {\r\n",
       "package \"System\" as E2  [[psysml:5e0f80f7-1058-4b47-9f4f-e59769b1dff5 ]]  {\r\n",
       "package \"Application Layer\" as E3  [[psysml:d7cd1111-165d-4c09-9c1d-1c6e69d6b628 ]]  {\r\n",
       "}\r\n",
       "package \"Service Layer\" as E4  [[psysml:4fd532ef-c056-48ed-b57e-c34d41c7d9b0 ]]  {\r\n",
       "}\r\n",
       "package \"Data Layer\" as E5  [[psysml:f10bbfff-f917-435f-bbe7-eedf9b14a34c ]]  {\r\n",
       "}\r\n",
       "}\r\n",
       "comp usage \"x\" as E6  <<(T,blue)attribute>> [[psysml:52169dc2-f588-4d36-bb4d-934125a8defa ]] {\r\n",
       "}\r\n",
       "comp usage \"y\" as E7  <<(T,blue)attribute>> [[psysml:638ee95e-a488-4c6b-8aa7-581f6cf4c2fe ]] {\r\n",
       "}\r\n",
       "comp usage \"z\" as E8  <<(T,blue)attribute>> [[psysml:267f67df-ceab-4f9b-9288-379f8b6d76cc ]] {\r\n",
       "}\r\n",
       "E3 ..>> E4 [[psysml:d6fef634-817c-4ef1-96de-f37bb594aaea ]] : <<depend>>\r\n",
       "E4 ..>> E5 [[psysml:d4b689e0-de38-42ab-a0b3-2a8bf82e0669 ]] : <<depend>>\r\n",
       "E8 ..>> E6 [[psysml:c74e1bf4-ee72-40a7-b163-07732e38ed67 ]] : <<depend>>\r\n",
       "E8 ..>> E7 [[psysml:c74e1bf4-ee72-40a7-b163-07732e38ed67 ]] : <<depend>>\r\n",
       "}\r\n",
       "@enduml\r\n",
       "\n",
       "PlantUML version 1.2020.13(Sat Jun 13 12:26:38 UTC 2020)\n",
       "(EPL source distribution)\n",
       "Java Runtime: OpenJDK Runtime Environment\n",
       "JVM: OpenJDK 64-Bit Server VM\n",
       "Default Encoding: UTF-8\n",
       "Language: en\n",
       "Country: null\n",
       "--></g></svg>"
      ]
     },
     "execution_count": 54,
     "metadata": {},
     "output_type": "execute_result"
    }
   ],
   "source": [
    "%viz --style=\"ORTHOLINE\" --view=\"Interconnection\" \"DependencyTest\""
   ]
  },
  {
   "cell_type": "code",
   "execution_count": 55,
   "id": "34271ccb",
   "metadata": {
    "execution": {
     "iopub.execute_input": "2021-05-27T06:11:49.961807Z",
     "iopub.status.busy": "2021-05-27T06:11:49.961410Z",
     "iopub.status.idle": "2021-05-27T06:11:49.965315Z",
     "shell.execute_reply": "2021-05-27T06:11:49.964964Z"
    }
   },
   "outputs": [
    {
     "data": {
      "image/svg+xml": [
       "<?xml version=\"1.0\" encoding=\"UTF-8\" standalone=\"no\"?><svg xmlns=\"http://www.w3.org/2000/svg\" xmlns:xlink=\"http://www.w3.org/1999/xlink\" contentScriptType=\"application/ecmascript\" contentStyleType=\"text/css\" height=\"12px\" preserveAspectRatio=\"none\" style=\"width:12px;height:12px;\" version=\"1.1\" viewBox=\"0 0 12 12\" width=\"12px\" zoomAndPan=\"magnify\"><defs/><g><!--MD5=[72934c63077099a26744516a776b4749]\n",
       "@startuml\r\n",
       "skinparam ranksep 8\r\n",
       "skinparam linetype ortho\r\n",
       "skinparam monochrome true\r\n",
       "skinparam classbackgroundcolor white\r\n",
       "skinparam shadowing false\r\n",
       "skinparam wrapWidth 300\r\n",
       "hide circle\r\n",
       "\r\n",
       "@enduml\r\n",
       "\n",
       "PlantUML version 1.2020.13(Sat Jun 13 12:26:38 UTC 2020)\n",
       "(EPL source distribution)\n",
       "Java Runtime: OpenJDK Runtime Environment\n",
       "JVM: OpenJDK 64-Bit Server VM\n",
       "Default Encoding: UTF-8\n",
       "Language: en\n",
       "Country: null\n",
       "--></g></svg>"
      ]
     },
     "execution_count": 55,
     "metadata": {},
     "output_type": "execute_result"
    }
   ],
   "source": [
    "%viz --style=\"ORTHOLINE\" --view=\"Action\" \"DependencyTest\""
   ]
  },
  {
   "cell_type": "code",
   "execution_count": 56,
   "id": "89d1d777",
   "metadata": {
    "execution": {
     "iopub.execute_input": "2021-05-27T06:11:50.016261Z",
     "iopub.status.busy": "2021-05-27T06:11:50.015847Z",
     "iopub.status.idle": "2021-05-27T06:11:50.044554Z",
     "shell.execute_reply": "2021-05-27T06:11:50.043402Z"
    }
   },
   "outputs": [
    {
     "data": {
      "image/svg+xml": [
       "<?xml version=\"1.0\" encoding=\"UTF-8\" standalone=\"no\"?><svg xmlns=\"http://www.w3.org/2000/svg\" xmlns:xlink=\"http://www.w3.org/1999/xlink\" contentScriptType=\"application/ecmascript\" contentStyleType=\"text/css\" height=\"449px\" preserveAspectRatio=\"none\" style=\"width:489px;height:449px;\" version=\"1.1\" viewBox=\"0 0 489 449\" width=\"489px\" zoomAndPan=\"magnify\"><defs/><g><!--MD5=[fbc87193dbaf4d95561dea2c320d4a47]\n",
       "cluster E1--><a href=\"psysml:f9a8e327-3c68-43cc-8fc4-f0fda4441472\" target=\"_top\" title=\"psysml:f9a8e327-3c68-43cc-8fc4-f0fda4441472\" xlink:actuate=\"onRequest\" xlink:href=\"psysml:f9a8e327-3c68-43cc-8fc4-f0fda4441472\" xlink:show=\"new\" xlink:title=\"psysml:f9a8e327-3c68-43cc-8fc4-f0fda4441472\" xlink:type=\"simple\"><polygon fill=\"#FFFFFF\" points=\"16,6,156,6,163,28.2969,467,28.2969,467,437,16,437,16,6\" style=\"stroke: #000000; stroke-width: 1.5;\"/><line style=\"stroke: #000000; stroke-width: 1.5;\" x1=\"16\" x2=\"163\" y1=\"28.2969\" y2=\"28.2969\"/><text fill=\"#000000\" font-family=\"sans-serif\" font-size=\"14\" font-weight=\"bold\" lengthAdjust=\"spacingAndGlyphs\" textLength=\"134\" x=\"20\" y=\"20.9951\">DependencyTest</text></a><!--MD5=[e4f7fae6ed58524ba242bb0b0d3be6b7]\n",
       "cluster E2--><a href=\"psysml:5e0f80f7-1058-4b47-9f4f-e59769b1dff5\" target=\"_top\" title=\"psysml:5e0f80f7-1058-4b47-9f4f-e59769b1dff5\" xlink:actuate=\"onRequest\" xlink:href=\"psysml:5e0f80f7-1058-4b47-9f4f-e59769b1dff5\" xlink:show=\"new\" xlink:title=\"psysml:5e0f80f7-1058-4b47-9f4f-e59769b1dff5\" xlink:type=\"simple\"><polygon fill=\"#FFFFFF\" points=\"255,49,319,49,326,71.2969,443,71.2969,443,413,255,413,255,49\" style=\"stroke: #000000; stroke-width: 1.5;\"/><line style=\"stroke: #000000; stroke-width: 1.5;\" x1=\"255\" x2=\"326\" y1=\"71.2969\" y2=\"71.2969\"/><text fill=\"#000000\" font-family=\"sans-serif\" font-size=\"14\" font-weight=\"bold\" lengthAdjust=\"spacingAndGlyphs\" textLength=\"58\" x=\"259\" y=\"63.9951\">System</text></a><!--MD5=[60a26617385b1d2d0262a64233df1f8d]\n",
       "class E6--><a href=\"psysml:52169dc2-f588-4d36-bb4d-934125a8defa\" target=\"_top\" title=\"psysml:52169dc2-f588-4d36-bb4d-934125a8defa\" xlink:actuate=\"onRequest\" xlink:href=\"psysml:52169dc2-f588-4d36-bb4d-934125a8defa\" xlink:show=\"new\" xlink:title=\"psysml:52169dc2-f588-4d36-bb4d-934125a8defa\" xlink:type=\"simple\"><rect fill=\"#FFFFFF\" height=\"45.9375\" id=\"E6\" rx=\"10\" ry=\"10\" style=\"stroke: #383838; stroke-width: 1.5;\" width=\"71\" x=\"32.5\" y=\"217.5\"/><text fill=\"#000000\" font-family=\"sans-serif\" font-size=\"12\" font-style=\"italic\" lengthAdjust=\"spacingAndGlyphs\" textLength=\"69\" x=\"33.5\" y=\"233.6387\">«attribute»</text><text fill=\"#000000\" font-family=\"sans-serif\" font-size=\"12\" lengthAdjust=\"spacingAndGlyphs\" textLength=\"6\" x=\"65\" y=\"247.6074\">x</text><line style=\"stroke: #383838; stroke-width: 1.5;\" x1=\"33.5\" x2=\"102.5\" y1=\"255.4375\" y2=\"255.4375\"/></a><!--MD5=[2156ba9850f5573cc1fc38a6a4b2f02b]\n",
       "class E7--><a href=\"psysml:638ee95e-a488-4c6b-8aa7-581f6cf4c2fe\" target=\"_top\" title=\"psysml:638ee95e-a488-4c6b-8aa7-581f6cf4c2fe\" xlink:actuate=\"onRequest\" xlink:href=\"psysml:638ee95e-a488-4c6b-8aa7-581f6cf4c2fe\" xlink:show=\"new\" xlink:title=\"psysml:638ee95e-a488-4c6b-8aa7-581f6cf4c2fe\" xlink:type=\"simple\"><rect fill=\"#FFFFFF\" height=\"45.9375\" id=\"E7\" rx=\"10\" ry=\"10\" style=\"stroke: #383838; stroke-width: 1.5;\" width=\"71\" x=\"138.5\" y=\"217.5\"/><text fill=\"#000000\" font-family=\"sans-serif\" font-size=\"12\" font-style=\"italic\" lengthAdjust=\"spacingAndGlyphs\" textLength=\"69\" x=\"139.5\" y=\"233.6387\">«attribute»</text><text fill=\"#000000\" font-family=\"sans-serif\" font-size=\"12\" lengthAdjust=\"spacingAndGlyphs\" textLength=\"6\" x=\"171\" y=\"247.6074\">y</text><line style=\"stroke: #383838; stroke-width: 1.5;\" x1=\"139.5\" x2=\"208.5\" y1=\"255.4375\" y2=\"255.4375\"/></a><!--MD5=[b9389687b975829384b498ac4b7476b2]\n",
       "class E8--><a href=\"psysml:267f67df-ceab-4f9b-9288-379f8b6d76cc\" target=\"_top\" title=\"psysml:267f67df-ceab-4f9b-9288-379f8b6d76cc\" xlink:actuate=\"onRequest\" xlink:href=\"psysml:267f67df-ceab-4f9b-9288-379f8b6d76cc\" xlink:show=\"new\" xlink:title=\"psysml:267f67df-ceab-4f9b-9288-379f8b6d76cc\" xlink:type=\"simple\"><rect fill=\"#FFFFFF\" height=\"45.9375\" id=\"E8\" rx=\"10\" ry=\"10\" style=\"stroke: #383838; stroke-width: 1.5;\" width=\"71\" x=\"84.5\" y=\"87.5\"/><text fill=\"#000000\" font-family=\"sans-serif\" font-size=\"12\" font-style=\"italic\" lengthAdjust=\"spacingAndGlyphs\" textLength=\"69\" x=\"85.5\" y=\"103.6387\">«attribute»</text><text fill=\"#000000\" font-family=\"sans-serif\" font-size=\"12\" lengthAdjust=\"spacingAndGlyphs\" textLength=\"5\" x=\"117.5\" y=\"117.6074\">z</text><line style=\"stroke: #383838; stroke-width: 1.5;\" x1=\"85.5\" x2=\"154.5\" y1=\"125.4375\" y2=\"125.4375\"/></a><a href=\"psysml:d7cd1111-165d-4c09-9c1d-1c6e69d6b628\" target=\"_top\" title=\"psysml:d7cd1111-165d-4c09-9c1d-1c6e69d6b628\" xlink:actuate=\"onRequest\" xlink:href=\"psysml:d7cd1111-165d-4c09-9c1d-1c6e69d6b628\" xlink:show=\"new\" xlink:title=\"psysml:d7cd1111-165d-4c09-9c1d-1c6e69d6b628\" xlink:type=\"simple\"><polygon fill=\"#FFFFFF\" points=\"271,84,413,84,420,106.2969,427,106.2969,427,136.5938,271,136.5938,271,84\" style=\"stroke: #000000; stroke-width: 1.5;\"/><line style=\"stroke: #000000; stroke-width: 1.5;\" x1=\"271\" x2=\"420\" y1=\"106.2969\" y2=\"106.2969\"/><text fill=\"#000000\" font-family=\"sans-serif\" font-size=\"14\" font-weight=\"bold\" lengthAdjust=\"spacingAndGlyphs\" textLength=\"136\" x=\"275\" y=\"98.9951\">Application Layer</text></a><a href=\"psysml:4fd532ef-c056-48ed-b57e-c34d41c7d9b0\" target=\"_top\" title=\"psysml:4fd532ef-c056-48ed-b57e-c34d41c7d9b0\" xlink:actuate=\"onRequest\" xlink:href=\"psysml:4fd532ef-c056-48ed-b57e-c34d41c7d9b0\" xlink:show=\"new\" xlink:title=\"psysml:4fd532ef-c056-48ed-b57e-c34d41c7d9b0\" xlink:type=\"simple\"><polygon fill=\"#FFFFFF\" points=\"285,214,399,214,406,236.2969,413,236.2969,413,266.5938,285,266.5938,285,214\" style=\"stroke: #000000; stroke-width: 1.5;\"/><line style=\"stroke: #000000; stroke-width: 1.5;\" x1=\"285\" x2=\"406\" y1=\"236.2969\" y2=\"236.2969\"/><text fill=\"#000000\" font-family=\"sans-serif\" font-size=\"14\" font-weight=\"bold\" lengthAdjust=\"spacingAndGlyphs\" textLength=\"108\" x=\"289\" y=\"228.9951\">Service Layer</text></a><a href=\"psysml:f10bbfff-f917-435f-bbe7-eedf9b14a34c\" target=\"_top\" title=\"psysml:f10bbfff-f917-435f-bbe7-eedf9b14a34c\" xlink:actuate=\"onRequest\" xlink:href=\"psysml:f10bbfff-f917-435f-bbe7-eedf9b14a34c\" xlink:show=\"new\" xlink:title=\"psysml:f10bbfff-f917-435f-bbe7-eedf9b14a34c\" xlink:type=\"simple\"><polygon fill=\"#FFFFFF\" points=\"297,344,387,344,394,366.2969,401,366.2969,401,396.5938,297,396.5938,297,344\" style=\"stroke: #000000; stroke-width: 1.5;\"/><line style=\"stroke: #000000; stroke-width: 1.5;\" x1=\"297\" x2=\"394\" y1=\"366.2969\" y2=\"366.2969\"/><text fill=\"#000000\" font-family=\"sans-serif\" font-size=\"14\" font-weight=\"bold\" lengthAdjust=\"spacingAndGlyphs\" textLength=\"84\" x=\"301\" y=\"358.9951\">Data Layer</text></a><!--MD5=[af87c684e3b0d8be13c1a698a818ef1e]\n",
       "link E3 to E4--><a href=\"psysml:d6fef634-817c-4ef1-96de-f37bb594aaea\" target=\"_top\" title=\"psysml:d6fef634-817c-4ef1-96de-f37bb594aaea\" xlink:actuate=\"onRequest\" xlink:href=\"psysml:d6fef634-817c-4ef1-96de-f37bb594aaea\" xlink:show=\"new\" xlink:title=\"psysml:d6fef634-817c-4ef1-96de-f37bb594aaea\" xlink:type=\"simple\"><path d=\"M349,137.12 C349,137.12 349,205.91 349,205.91 \" fill=\"none\" id=\"E3-&gt;E4\" style=\"stroke: #383838; stroke-width: 1.0; stroke-dasharray: 7.0,7.0;\"/><polygon fill=\"#383838\" points=\"349,213.91,352,205.91,346,205.91,349,213.91\" style=\"stroke: #383838; stroke-width: 1.0;\"/><text fill=\"#000000\" font-family=\"sans-serif\" font-size=\"13\" lengthAdjust=\"spacingAndGlyphs\" textLength=\"64\" x=\"350\" y=\"180.0669\">«depend»</text></a><!--MD5=[1b7591eae5389033d8d09a9d6721a717]\n",
       "link E4 to E5--><a href=\"psysml:d4b689e0-de38-42ab-a0b3-2a8bf82e0669\" target=\"_top\" title=\"psysml:d4b689e0-de38-42ab-a0b3-2a8bf82e0669\" xlink:actuate=\"onRequest\" xlink:href=\"psysml:d4b689e0-de38-42ab-a0b3-2a8bf82e0669\" xlink:show=\"new\" xlink:title=\"psysml:d4b689e0-de38-42ab-a0b3-2a8bf82e0669\" xlink:type=\"simple\"><path d=\"M349,267.12 C349,267.12 349,335.91 349,335.91 \" fill=\"none\" id=\"E4-&gt;E5\" style=\"stroke: #383838; stroke-width: 1.0; stroke-dasharray: 7.0,7.0;\"/><polygon fill=\"#383838\" points=\"349,343.91,352,335.91,346,335.91,349,343.91\" style=\"stroke: #383838; stroke-width: 1.0;\"/><text fill=\"#000000\" font-family=\"sans-serif\" font-size=\"13\" lengthAdjust=\"spacingAndGlyphs\" textLength=\"64\" x=\"350\" y=\"310.0669\">«depend»</text></a><!--MD5=[c5e8897d989ce984f93528998a7150fe]\n",
       "link E8 to E6--><a href=\"psysml:c74e1bf4-ee72-40a7-b163-07732e38ed67\" target=\"_top\" title=\"psysml:c74e1bf4-ee72-40a7-b163-07732e38ed67\" xlink:actuate=\"onRequest\" xlink:href=\"psysml:c74e1bf4-ee72-40a7-b163-07732e38ed67\" xlink:show=\"new\" xlink:title=\"psysml:c74e1bf4-ee72-40a7-b163-07732e38ed67\" xlink:type=\"simple\"><path d=\"M94,133.74 C94,133.74 94,209.46 94,209.46 \" fill=\"none\" id=\"E8-&gt;E6\" style=\"stroke: #383838; stroke-width: 1.0; stroke-dasharray: 7.0,7.0;\"/><polygon fill=\"#383838\" points=\"94,217.46,97,209.46,91,209.46,94,217.46\" style=\"stroke: #383838; stroke-width: 1.0;\"/><text fill=\"#000000\" font-family=\"sans-serif\" font-size=\"13\" lengthAdjust=\"spacingAndGlyphs\" textLength=\"64\" x=\"68\" y=\"180.0669\">«depend»</text></a><!--MD5=[bfa3c8b0d15052fdf50ae9310b491027]\n",
       "link E8 to E7--><a href=\"psysml:c74e1bf4-ee72-40a7-b163-07732e38ed67\" target=\"_top\" title=\"psysml:c74e1bf4-ee72-40a7-b163-07732e38ed67\" xlink:actuate=\"onRequest\" xlink:href=\"psysml:c74e1bf4-ee72-40a7-b163-07732e38ed67\" xlink:show=\"new\" xlink:title=\"psysml:c74e1bf4-ee72-40a7-b163-07732e38ed67\" xlink:type=\"simple\"><path d=\"M147,133.74 C147,133.74 147,209.46 147,209.46 \" fill=\"none\" id=\"E8-&gt;E7\" style=\"stroke: #383838; stroke-width: 1.0; stroke-dasharray: 7.0,7.0;\"/><polygon fill=\"#383838\" points=\"147,217.46,150,209.46,144,209.46,147,217.46\" style=\"stroke: #383838; stroke-width: 1.0;\"/><text fill=\"#000000\" font-family=\"sans-serif\" font-size=\"13\" lengthAdjust=\"spacingAndGlyphs\" textLength=\"64\" x=\"174\" y=\"180.0669\">«depend»</text></a><!--MD5=[6212958d044692edd298a5a0e18a1770]\n",
       "@startuml\r\n",
       "skinparam linetype ortho\r\n",
       "skinparam monochrome true\r\n",
       "skinparam classbackgroundcolor white\r\n",
       "skinparam shadowing false\r\n",
       "skinparam wrapWidth 300\r\n",
       "hide circle\r\n",
       "\r\n",
       "package \"DependencyTest\" as E1  [[psysml:f9a8e327-3c68-43cc-8fc4-f0fda4441472 ]]  {\r\n",
       "package \"System\" as E2  [[psysml:5e0f80f7-1058-4b47-9f4f-e59769b1dff5 ]]  {\r\n",
       "package \"Application Layer\" as E3  [[psysml:d7cd1111-165d-4c09-9c1d-1c6e69d6b628 ]]  {\r\n",
       "}\r\n",
       "package \"Service Layer\" as E4  [[psysml:4fd532ef-c056-48ed-b57e-c34d41c7d9b0 ]]  {\r\n",
       "}\r\n",
       "package \"Data Layer\" as E5  [[psysml:f10bbfff-f917-435f-bbe7-eedf9b14a34c ]]  {\r\n",
       "}\r\n",
       "}\r\n",
       "comp usage \"x\" as E6  <<(T,blue)attribute>> [[psysml:52169dc2-f588-4d36-bb4d-934125a8defa ]] {\r\n",
       "}\r\n",
       "comp usage \"y\" as E7  <<(T,blue)attribute>> [[psysml:638ee95e-a488-4c6b-8aa7-581f6cf4c2fe ]] {\r\n",
       "}\r\n",
       "comp usage \"z\" as E8  <<(T,blue)attribute>> [[psysml:267f67df-ceab-4f9b-9288-379f8b6d76cc ]] {\r\n",
       "}\r\n",
       "E3 ..>> E4 [[psysml:d6fef634-817c-4ef1-96de-f37bb594aaea ]] : <<depend>>\r\n",
       "E4 ..>> E5 [[psysml:d4b689e0-de38-42ab-a0b3-2a8bf82e0669 ]] : <<depend>>\r\n",
       "E8 ..>> E6 [[psysml:c74e1bf4-ee72-40a7-b163-07732e38ed67 ]] : <<depend>>\r\n",
       "E8 ..>> E7 [[psysml:c74e1bf4-ee72-40a7-b163-07732e38ed67 ]] : <<depend>>\r\n",
       "}\r\n",
       "@enduml\r\n",
       "\n",
       "PlantUML version 1.2020.13(Sat Jun 13 12:26:38 UTC 2020)\n",
       "(EPL source distribution)\n",
       "Java Runtime: OpenJDK Runtime Environment\n",
       "JVM: OpenJDK 64-Bit Server VM\n",
       "Default Encoding: UTF-8\n",
       "Language: en\n",
       "Country: null\n",
       "--></g></svg>"
      ]
     },
     "execution_count": 56,
     "metadata": {},
     "output_type": "execute_result"
    }
   ],
   "source": [
    "%viz --style=\"ORTHOLINE\" --view=\"Sequence\" \"DependencyTest\""
   ]
  },
  {
   "cell_type": "code",
   "execution_count": 57,
   "id": "473f692d",
   "metadata": {
    "execution": {
     "iopub.execute_input": "2021-05-27T06:11:50.092035Z",
     "iopub.status.busy": "2021-05-27T06:11:50.091683Z",
     "iopub.status.idle": "2021-05-27T06:11:50.126684Z",
     "shell.execute_reply": "2021-05-27T06:11:50.126346Z"
    }
   },
   "outputs": [
    {
     "data": {
      "image/svg+xml": [
       "<?xml version=\"1.0\" encoding=\"UTF-8\" standalone=\"no\"?><svg xmlns=\"http://www.w3.org/2000/svg\" xmlns:xlink=\"http://www.w3.org/1999/xlink\" contentScriptType=\"application/ecmascript\" contentStyleType=\"text/css\" height=\"449px\" preserveAspectRatio=\"none\" style=\"width:489px;height:449px;\" version=\"1.1\" viewBox=\"0 0 489 449\" width=\"489px\" zoomAndPan=\"magnify\"><defs/><g><!--MD5=[fbc87193dbaf4d95561dea2c320d4a47]\n",
       "cluster E1--><a href=\"psysml:f9a8e327-3c68-43cc-8fc4-f0fda4441472\" target=\"_top\" title=\"psysml:f9a8e327-3c68-43cc-8fc4-f0fda4441472\" xlink:actuate=\"onRequest\" xlink:href=\"psysml:f9a8e327-3c68-43cc-8fc4-f0fda4441472\" xlink:show=\"new\" xlink:title=\"psysml:f9a8e327-3c68-43cc-8fc4-f0fda4441472\" xlink:type=\"simple\"><polygon fill=\"#FFFFFF\" points=\"16,6,156,6,163,28.2969,467,28.2969,467,437,16,437,16,6\" style=\"stroke: #000000; stroke-width: 1.5;\"/><line style=\"stroke: #000000; stroke-width: 1.5;\" x1=\"16\" x2=\"163\" y1=\"28.2969\" y2=\"28.2969\"/><text fill=\"#000000\" font-family=\"sans-serif\" font-size=\"14\" font-weight=\"bold\" lengthAdjust=\"spacingAndGlyphs\" textLength=\"134\" x=\"20\" y=\"20.9951\">DependencyTest</text></a><!--MD5=[e4f7fae6ed58524ba242bb0b0d3be6b7]\n",
       "cluster E2--><a href=\"psysml:5e0f80f7-1058-4b47-9f4f-e59769b1dff5\" target=\"_top\" title=\"psysml:5e0f80f7-1058-4b47-9f4f-e59769b1dff5\" xlink:actuate=\"onRequest\" xlink:href=\"psysml:5e0f80f7-1058-4b47-9f4f-e59769b1dff5\" xlink:show=\"new\" xlink:title=\"psysml:5e0f80f7-1058-4b47-9f4f-e59769b1dff5\" xlink:type=\"simple\"><polygon fill=\"#FFFFFF\" points=\"255,49,319,49,326,71.2969,443,71.2969,443,413,255,413,255,49\" style=\"stroke: #000000; stroke-width: 1.5;\"/><line style=\"stroke: #000000; stroke-width: 1.5;\" x1=\"255\" x2=\"326\" y1=\"71.2969\" y2=\"71.2969\"/><text fill=\"#000000\" font-family=\"sans-serif\" font-size=\"14\" font-weight=\"bold\" lengthAdjust=\"spacingAndGlyphs\" textLength=\"58\" x=\"259\" y=\"63.9951\">System</text></a><!--MD5=[60a26617385b1d2d0262a64233df1f8d]\n",
       "class E6--><a href=\"psysml:52169dc2-f588-4d36-bb4d-934125a8defa\" target=\"_top\" title=\"psysml:52169dc2-f588-4d36-bb4d-934125a8defa\" xlink:actuate=\"onRequest\" xlink:href=\"psysml:52169dc2-f588-4d36-bb4d-934125a8defa\" xlink:show=\"new\" xlink:title=\"psysml:52169dc2-f588-4d36-bb4d-934125a8defa\" xlink:type=\"simple\"><rect fill=\"#FFFFFF\" height=\"45.9375\" id=\"E6\" rx=\"10\" ry=\"10\" style=\"stroke: #383838; stroke-width: 1.5;\" width=\"71\" x=\"32.5\" y=\"217.5\"/><text fill=\"#000000\" font-family=\"sans-serif\" font-size=\"12\" font-style=\"italic\" lengthAdjust=\"spacingAndGlyphs\" textLength=\"69\" x=\"33.5\" y=\"233.6387\">«attribute»</text><text fill=\"#000000\" font-family=\"sans-serif\" font-size=\"12\" lengthAdjust=\"spacingAndGlyphs\" textLength=\"6\" x=\"65\" y=\"247.6074\">x</text><line style=\"stroke: #383838; stroke-width: 1.5;\" x1=\"33.5\" x2=\"102.5\" y1=\"255.4375\" y2=\"255.4375\"/></a><!--MD5=[2156ba9850f5573cc1fc38a6a4b2f02b]\n",
       "class E7--><a href=\"psysml:638ee95e-a488-4c6b-8aa7-581f6cf4c2fe\" target=\"_top\" title=\"psysml:638ee95e-a488-4c6b-8aa7-581f6cf4c2fe\" xlink:actuate=\"onRequest\" xlink:href=\"psysml:638ee95e-a488-4c6b-8aa7-581f6cf4c2fe\" xlink:show=\"new\" xlink:title=\"psysml:638ee95e-a488-4c6b-8aa7-581f6cf4c2fe\" xlink:type=\"simple\"><rect fill=\"#FFFFFF\" height=\"45.9375\" id=\"E7\" rx=\"10\" ry=\"10\" style=\"stroke: #383838; stroke-width: 1.5;\" width=\"71\" x=\"138.5\" y=\"217.5\"/><text fill=\"#000000\" font-family=\"sans-serif\" font-size=\"12\" font-style=\"italic\" lengthAdjust=\"spacingAndGlyphs\" textLength=\"69\" x=\"139.5\" y=\"233.6387\">«attribute»</text><text fill=\"#000000\" font-family=\"sans-serif\" font-size=\"12\" lengthAdjust=\"spacingAndGlyphs\" textLength=\"6\" x=\"171\" y=\"247.6074\">y</text><line style=\"stroke: #383838; stroke-width: 1.5;\" x1=\"139.5\" x2=\"208.5\" y1=\"255.4375\" y2=\"255.4375\"/></a><!--MD5=[b9389687b975829384b498ac4b7476b2]\n",
       "class E8--><a href=\"psysml:267f67df-ceab-4f9b-9288-379f8b6d76cc\" target=\"_top\" title=\"psysml:267f67df-ceab-4f9b-9288-379f8b6d76cc\" xlink:actuate=\"onRequest\" xlink:href=\"psysml:267f67df-ceab-4f9b-9288-379f8b6d76cc\" xlink:show=\"new\" xlink:title=\"psysml:267f67df-ceab-4f9b-9288-379f8b6d76cc\" xlink:type=\"simple\"><rect fill=\"#FFFFFF\" height=\"45.9375\" id=\"E8\" rx=\"10\" ry=\"10\" style=\"stroke: #383838; stroke-width: 1.5;\" width=\"71\" x=\"84.5\" y=\"87.5\"/><text fill=\"#000000\" font-family=\"sans-serif\" font-size=\"12\" font-style=\"italic\" lengthAdjust=\"spacingAndGlyphs\" textLength=\"69\" x=\"85.5\" y=\"103.6387\">«attribute»</text><text fill=\"#000000\" font-family=\"sans-serif\" font-size=\"12\" lengthAdjust=\"spacingAndGlyphs\" textLength=\"5\" x=\"117.5\" y=\"117.6074\">z</text><line style=\"stroke: #383838; stroke-width: 1.5;\" x1=\"85.5\" x2=\"154.5\" y1=\"125.4375\" y2=\"125.4375\"/></a><a href=\"psysml:d7cd1111-165d-4c09-9c1d-1c6e69d6b628\" target=\"_top\" title=\"psysml:d7cd1111-165d-4c09-9c1d-1c6e69d6b628\" xlink:actuate=\"onRequest\" xlink:href=\"psysml:d7cd1111-165d-4c09-9c1d-1c6e69d6b628\" xlink:show=\"new\" xlink:title=\"psysml:d7cd1111-165d-4c09-9c1d-1c6e69d6b628\" xlink:type=\"simple\"><polygon fill=\"#FFFFFF\" points=\"271,84,413,84,420,106.2969,427,106.2969,427,136.5938,271,136.5938,271,84\" style=\"stroke: #000000; stroke-width: 1.5;\"/><line style=\"stroke: #000000; stroke-width: 1.5;\" x1=\"271\" x2=\"420\" y1=\"106.2969\" y2=\"106.2969\"/><text fill=\"#000000\" font-family=\"sans-serif\" font-size=\"14\" font-weight=\"bold\" lengthAdjust=\"spacingAndGlyphs\" textLength=\"136\" x=\"275\" y=\"98.9951\">Application Layer</text></a><a href=\"psysml:4fd532ef-c056-48ed-b57e-c34d41c7d9b0\" target=\"_top\" title=\"psysml:4fd532ef-c056-48ed-b57e-c34d41c7d9b0\" xlink:actuate=\"onRequest\" xlink:href=\"psysml:4fd532ef-c056-48ed-b57e-c34d41c7d9b0\" xlink:show=\"new\" xlink:title=\"psysml:4fd532ef-c056-48ed-b57e-c34d41c7d9b0\" xlink:type=\"simple\"><polygon fill=\"#FFFFFF\" points=\"285,214,399,214,406,236.2969,413,236.2969,413,266.5938,285,266.5938,285,214\" style=\"stroke: #000000; stroke-width: 1.5;\"/><line style=\"stroke: #000000; stroke-width: 1.5;\" x1=\"285\" x2=\"406\" y1=\"236.2969\" y2=\"236.2969\"/><text fill=\"#000000\" font-family=\"sans-serif\" font-size=\"14\" font-weight=\"bold\" lengthAdjust=\"spacingAndGlyphs\" textLength=\"108\" x=\"289\" y=\"228.9951\">Service Layer</text></a><a href=\"psysml:f10bbfff-f917-435f-bbe7-eedf9b14a34c\" target=\"_top\" title=\"psysml:f10bbfff-f917-435f-bbe7-eedf9b14a34c\" xlink:actuate=\"onRequest\" xlink:href=\"psysml:f10bbfff-f917-435f-bbe7-eedf9b14a34c\" xlink:show=\"new\" xlink:title=\"psysml:f10bbfff-f917-435f-bbe7-eedf9b14a34c\" xlink:type=\"simple\"><polygon fill=\"#FFFFFF\" points=\"297,344,387,344,394,366.2969,401,366.2969,401,396.5938,297,396.5938,297,344\" style=\"stroke: #000000; stroke-width: 1.5;\"/><line style=\"stroke: #000000; stroke-width: 1.5;\" x1=\"297\" x2=\"394\" y1=\"366.2969\" y2=\"366.2969\"/><text fill=\"#000000\" font-family=\"sans-serif\" font-size=\"14\" font-weight=\"bold\" lengthAdjust=\"spacingAndGlyphs\" textLength=\"84\" x=\"301\" y=\"358.9951\">Data Layer</text></a><!--MD5=[af87c684e3b0d8be13c1a698a818ef1e]\n",
       "link E3 to E4--><a href=\"psysml:d6fef634-817c-4ef1-96de-f37bb594aaea\" target=\"_top\" title=\"psysml:d6fef634-817c-4ef1-96de-f37bb594aaea\" xlink:actuate=\"onRequest\" xlink:href=\"psysml:d6fef634-817c-4ef1-96de-f37bb594aaea\" xlink:show=\"new\" xlink:title=\"psysml:d6fef634-817c-4ef1-96de-f37bb594aaea\" xlink:type=\"simple\"><path d=\"M349,137.12 C349,137.12 349,205.91 349,205.91 \" fill=\"none\" id=\"E3-&gt;E4\" style=\"stroke: #383838; stroke-width: 1.0; stroke-dasharray: 7.0,7.0;\"/><polygon fill=\"#383838\" points=\"349,213.91,352,205.91,346,205.91,349,213.91\" style=\"stroke: #383838; stroke-width: 1.0;\"/><text fill=\"#000000\" font-family=\"sans-serif\" font-size=\"13\" lengthAdjust=\"spacingAndGlyphs\" textLength=\"64\" x=\"350\" y=\"180.0669\">«depend»</text></a><!--MD5=[1b7591eae5389033d8d09a9d6721a717]\n",
       "link E4 to E5--><a href=\"psysml:d4b689e0-de38-42ab-a0b3-2a8bf82e0669\" target=\"_top\" title=\"psysml:d4b689e0-de38-42ab-a0b3-2a8bf82e0669\" xlink:actuate=\"onRequest\" xlink:href=\"psysml:d4b689e0-de38-42ab-a0b3-2a8bf82e0669\" xlink:show=\"new\" xlink:title=\"psysml:d4b689e0-de38-42ab-a0b3-2a8bf82e0669\" xlink:type=\"simple\"><path d=\"M349,267.12 C349,267.12 349,335.91 349,335.91 \" fill=\"none\" id=\"E4-&gt;E5\" style=\"stroke: #383838; stroke-width: 1.0; stroke-dasharray: 7.0,7.0;\"/><polygon fill=\"#383838\" points=\"349,343.91,352,335.91,346,335.91,349,343.91\" style=\"stroke: #383838; stroke-width: 1.0;\"/><text fill=\"#000000\" font-family=\"sans-serif\" font-size=\"13\" lengthAdjust=\"spacingAndGlyphs\" textLength=\"64\" x=\"350\" y=\"310.0669\">«depend»</text></a><!--MD5=[c5e8897d989ce984f93528998a7150fe]\n",
       "link E8 to E6--><a href=\"psysml:c74e1bf4-ee72-40a7-b163-07732e38ed67\" target=\"_top\" title=\"psysml:c74e1bf4-ee72-40a7-b163-07732e38ed67\" xlink:actuate=\"onRequest\" xlink:href=\"psysml:c74e1bf4-ee72-40a7-b163-07732e38ed67\" xlink:show=\"new\" xlink:title=\"psysml:c74e1bf4-ee72-40a7-b163-07732e38ed67\" xlink:type=\"simple\"><path d=\"M94,133.74 C94,133.74 94,209.46 94,209.46 \" fill=\"none\" id=\"E8-&gt;E6\" style=\"stroke: #383838; stroke-width: 1.0; stroke-dasharray: 7.0,7.0;\"/><polygon fill=\"#383838\" points=\"94,217.46,97,209.46,91,209.46,94,217.46\" style=\"stroke: #383838; stroke-width: 1.0;\"/><text fill=\"#000000\" font-family=\"sans-serif\" font-size=\"13\" lengthAdjust=\"spacingAndGlyphs\" textLength=\"64\" x=\"68\" y=\"180.0669\">«depend»</text></a><!--MD5=[bfa3c8b0d15052fdf50ae9310b491027]\n",
       "link E8 to E7--><a href=\"psysml:c74e1bf4-ee72-40a7-b163-07732e38ed67\" target=\"_top\" title=\"psysml:c74e1bf4-ee72-40a7-b163-07732e38ed67\" xlink:actuate=\"onRequest\" xlink:href=\"psysml:c74e1bf4-ee72-40a7-b163-07732e38ed67\" xlink:show=\"new\" xlink:title=\"psysml:c74e1bf4-ee72-40a7-b163-07732e38ed67\" xlink:type=\"simple\"><path d=\"M147,133.74 C147,133.74 147,209.46 147,209.46 \" fill=\"none\" id=\"E8-&gt;E7\" style=\"stroke: #383838; stroke-width: 1.0; stroke-dasharray: 7.0,7.0;\"/><polygon fill=\"#383838\" points=\"147,217.46,150,209.46,144,209.46,147,217.46\" style=\"stroke: #383838; stroke-width: 1.0;\"/><text fill=\"#000000\" font-family=\"sans-serif\" font-size=\"13\" lengthAdjust=\"spacingAndGlyphs\" textLength=\"64\" x=\"174\" y=\"180.0669\">«depend»</text></a><!--MD5=[6212958d044692edd298a5a0e18a1770]\n",
       "@startuml\r\n",
       "skinparam linetype ortho\r\n",
       "skinparam monochrome true\r\n",
       "skinparam classbackgroundcolor white\r\n",
       "skinparam shadowing false\r\n",
       "skinparam wrapWidth 300\r\n",
       "hide circle\r\n",
       "\r\n",
       "package \"DependencyTest\" as E1  [[psysml:f9a8e327-3c68-43cc-8fc4-f0fda4441472 ]]  {\r\n",
       "package \"System\" as E2  [[psysml:5e0f80f7-1058-4b47-9f4f-e59769b1dff5 ]]  {\r\n",
       "package \"Application Layer\" as E3  [[psysml:d7cd1111-165d-4c09-9c1d-1c6e69d6b628 ]]  {\r\n",
       "}\r\n",
       "package \"Service Layer\" as E4  [[psysml:4fd532ef-c056-48ed-b57e-c34d41c7d9b0 ]]  {\r\n",
       "}\r\n",
       "package \"Data Layer\" as E5  [[psysml:f10bbfff-f917-435f-bbe7-eedf9b14a34c ]]  {\r\n",
       "}\r\n",
       "}\r\n",
       "comp usage \"x\" as E6  <<(T,blue)attribute>> [[psysml:52169dc2-f588-4d36-bb4d-934125a8defa ]] {\r\n",
       "}\r\n",
       "comp usage \"y\" as E7  <<(T,blue)attribute>> [[psysml:638ee95e-a488-4c6b-8aa7-581f6cf4c2fe ]] {\r\n",
       "}\r\n",
       "comp usage \"z\" as E8  <<(T,blue)attribute>> [[psysml:267f67df-ceab-4f9b-9288-379f8b6d76cc ]] {\r\n",
       "}\r\n",
       "E3 ..>> E4 [[psysml:d6fef634-817c-4ef1-96de-f37bb594aaea ]] : <<depend>>\r\n",
       "E4 ..>> E5 [[psysml:d4b689e0-de38-42ab-a0b3-2a8bf82e0669 ]] : <<depend>>\r\n",
       "E8 ..>> E6 [[psysml:c74e1bf4-ee72-40a7-b163-07732e38ed67 ]] : <<depend>>\r\n",
       "E8 ..>> E7 [[psysml:c74e1bf4-ee72-40a7-b163-07732e38ed67 ]] : <<depend>>\r\n",
       "}\r\n",
       "@enduml\r\n",
       "\n",
       "PlantUML version 1.2020.13(Sat Jun 13 12:26:38 UTC 2020)\n",
       "(EPL source distribution)\n",
       "Java Runtime: OpenJDK Runtime Environment\n",
       "JVM: OpenJDK 64-Bit Server VM\n",
       "Default Encoding: UTF-8\n",
       "Language: en\n",
       "Country: null\n",
       "--></g></svg>"
      ]
     },
     "execution_count": 57,
     "metadata": {},
     "output_type": "execute_result"
    }
   ],
   "source": [
    "%viz --style=\"ORTHOLINE\" --view=\"MIXED\" \"DependencyTest\""
   ]
  }
 ],
 "metadata": {
  "kernelspec": {
   "display_name": "SysML",
   "language": "sysml",
   "name": "sysml"
  },
  "language_info": {
   "codemirror_mode": "sysml",
   "file_extension": ".sysml",
   "mimetype": "text/x-sysml",
   "name": "SysML",
   "pygments_lexer": "java",
   "version": "1.0.0"
  }
 },
 "nbformat": 4,
 "nbformat_minor": 5
}
