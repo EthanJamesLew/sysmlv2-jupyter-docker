{
 "cells": [
  {
   "cell_type": "markdown",
   "id": "b05d5648",
   "metadata": {},
   "source": [
    "# SysML v2 Test Suite\n",
    "\n",
    "This can notebook can be cleared using menu `Edit --> Clear All Outputs` and then all cells can be\n",
    "run using menu `Run --> Run All Cells`.\n",
    "\n",
    "**WARNING**: This file is generated, all modifications here will be ignored.\n"
   ]
  },
  {
   "cell_type": "markdown",
   "id": "a35b60cf",
   "metadata": {},
   "source": [
    "## File: ../../sysml/src/examples/Simple Tests/DependencyTest.sysml"
   ]
  },
  {
   "cell_type": "code",
   "execution_count": 1,
   "id": "af056d0c",
   "metadata": {
    "execution": {
     "iopub.execute_input": "2021-04-20T07:03:22.026259Z",
     "iopub.status.busy": "2021-04-20T07:03:22.024994Z",
     "iopub.status.idle": "2021-04-20T07:03:22.098408Z",
     "shell.execute_reply": "2021-04-20T07:03:22.097941Z"
    }
   },
   "outputs": [
    {
     "data": {
      "text/plain": [
       "Package DependencyTest (27cc28a9-6c30-4abf-86fe-3ab00d0a0983)\n"
      ]
     },
     "execution_count": 1,
     "metadata": {},
     "output_type": "execute_result"
    }
   ],
   "source": [
    "package DependencyTest {\n",
    "\t\n",
    "\tpackage System {\n",
    "\t\tpackage 'Application Layer';\n",
    "\t\tpackage 'Service Layer';\n",
    "\t\tpackage 'Data Layer';\n",
    "\t}\n",
    "\t\n",
    "\timport System::*;\n",
    "\t\n",
    "\tdependency Use from 'Application Layer' to 'Service Layer';\n",
    "\tdependency from 'Service Layer' to 'Data Layer';\n",
    "\t\n",
    "\tattribute x;\n",
    "\tattribute y;\n",
    "\tattribute z;\n",
    "\t\n",
    "\tdependency z to x, y;\n",
    "\t\n",
    "}"
   ]
  },
  {
   "cell_type": "code",
   "execution_count": 2,
   "id": "c4ea956a",
   "metadata": {
    "execution": {
     "iopub.execute_input": "2021-04-20T07:03:22.151236Z",
     "iopub.status.busy": "2021-04-20T07:03:22.150808Z",
     "iopub.status.idle": "2021-04-20T07:03:22.782431Z",
     "shell.execute_reply": "2021-04-20T07:03:22.781951Z"
    }
   },
   "outputs": [
    {
     "data": {
      "image/svg+xml": [
       "<?xml version=\"1.0\" encoding=\"UTF-8\" standalone=\"no\"?><svg xmlns=\"http://www.w3.org/2000/svg\" xmlns:xlink=\"http://www.w3.org/1999/xlink\" contentScriptType=\"application/ecmascript\" contentStyleType=\"text/css\" height=\"449px\" preserveAspectRatio=\"none\" style=\"width:489px;height:449px;\" version=\"1.1\" viewBox=\"0 0 489 449\" width=\"489px\" zoomAndPan=\"magnify\"><defs/><g><!--MD5=[fbc87193dbaf4d95561dea2c320d4a47]\n",
       "cluster E1--><a href=\"psysml:cb8a6054-43e9-4191-a3b4-d53f2df2fcdf\" target=\"_top\" title=\"psysml:cb8a6054-43e9-4191-a3b4-d53f2df2fcdf\" xlink:actuate=\"onRequest\" xlink:href=\"psysml:cb8a6054-43e9-4191-a3b4-d53f2df2fcdf\" xlink:show=\"new\" xlink:title=\"psysml:cb8a6054-43e9-4191-a3b4-d53f2df2fcdf\" xlink:type=\"simple\"><polygon fill=\"#FFFFFF\" points=\"16,6,156,6,163,28.2969,467,28.2969,467,437,16,437,16,6\" style=\"stroke: #000000; stroke-width: 1.5;\"/><line style=\"stroke: #000000; stroke-width: 1.5;\" x1=\"16\" x2=\"163\" y1=\"28.2969\" y2=\"28.2969\"/><text fill=\"#000000\" font-family=\"sans-serif\" font-size=\"14\" font-weight=\"bold\" lengthAdjust=\"spacingAndGlyphs\" textLength=\"134\" x=\"20\" y=\"20.9951\">DependencyTest</text></a><!--MD5=[e4f7fae6ed58524ba242bb0b0d3be6b7]\n",
       "cluster E2--><a href=\"psysml:b8ece1dd-151a-4631-92e5-c2dbf563fb8b\" target=\"_top\" title=\"psysml:b8ece1dd-151a-4631-92e5-c2dbf563fb8b\" xlink:actuate=\"onRequest\" xlink:href=\"psysml:b8ece1dd-151a-4631-92e5-c2dbf563fb8b\" xlink:show=\"new\" xlink:title=\"psysml:b8ece1dd-151a-4631-92e5-c2dbf563fb8b\" xlink:type=\"simple\"><polygon fill=\"#FFFFFF\" points=\"255,49,319,49,326,71.2969,443,71.2969,443,413,255,413,255,49\" style=\"stroke: #000000; stroke-width: 1.5;\"/><line style=\"stroke: #000000; stroke-width: 1.5;\" x1=\"255\" x2=\"326\" y1=\"71.2969\" y2=\"71.2969\"/><text fill=\"#000000\" font-family=\"sans-serif\" font-size=\"14\" font-weight=\"bold\" lengthAdjust=\"spacingAndGlyphs\" textLength=\"58\" x=\"259\" y=\"63.9951\">System</text></a><!--MD5=[60a26617385b1d2d0262a64233df1f8d]\n",
       "class E6--><a href=\"psysml:3db867e9-a237-498d-9697-66a5ca6752eb\" target=\"_top\" title=\"psysml:3db867e9-a237-498d-9697-66a5ca6752eb\" xlink:actuate=\"onRequest\" xlink:href=\"psysml:3db867e9-a237-498d-9697-66a5ca6752eb\" xlink:show=\"new\" xlink:title=\"psysml:3db867e9-a237-498d-9697-66a5ca6752eb\" xlink:type=\"simple\"><rect fill=\"#FFFFFF\" height=\"45.9375\" id=\"E6\" rx=\"10\" ry=\"10\" style=\"stroke: #383838; stroke-width: 1.5;\" width=\"71\" x=\"32.5\" y=\"217.5\"/><text fill=\"#000000\" font-family=\"sans-serif\" font-size=\"12\" font-style=\"italic\" lengthAdjust=\"spacingAndGlyphs\" textLength=\"69\" x=\"33.5\" y=\"233.6387\">«attribute»</text><text fill=\"#000000\" font-family=\"sans-serif\" font-size=\"12\" lengthAdjust=\"spacingAndGlyphs\" textLength=\"6\" x=\"65\" y=\"247.6074\">x</text><line style=\"stroke: #383838; stroke-width: 1.5;\" x1=\"33.5\" x2=\"102.5\" y1=\"255.4375\" y2=\"255.4375\"/></a><!--MD5=[2156ba9850f5573cc1fc38a6a4b2f02b]\n",
       "class E7--><a href=\"psysml:c548d046-cadc-4301-a44e-d185972c752b\" target=\"_top\" title=\"psysml:c548d046-cadc-4301-a44e-d185972c752b\" xlink:actuate=\"onRequest\" xlink:href=\"psysml:c548d046-cadc-4301-a44e-d185972c752b\" xlink:show=\"new\" xlink:title=\"psysml:c548d046-cadc-4301-a44e-d185972c752b\" xlink:type=\"simple\"><rect fill=\"#FFFFFF\" height=\"45.9375\" id=\"E7\" rx=\"10\" ry=\"10\" style=\"stroke: #383838; stroke-width: 1.5;\" width=\"71\" x=\"138.5\" y=\"217.5\"/><text fill=\"#000000\" font-family=\"sans-serif\" font-size=\"12\" font-style=\"italic\" lengthAdjust=\"spacingAndGlyphs\" textLength=\"69\" x=\"139.5\" y=\"233.6387\">«attribute»</text><text fill=\"#000000\" font-family=\"sans-serif\" font-size=\"12\" lengthAdjust=\"spacingAndGlyphs\" textLength=\"6\" x=\"171\" y=\"247.6074\">y</text><line style=\"stroke: #383838; stroke-width: 1.5;\" x1=\"139.5\" x2=\"208.5\" y1=\"255.4375\" y2=\"255.4375\"/></a><!--MD5=[b9389687b975829384b498ac4b7476b2]\n",
       "class E8--><a href=\"psysml:47dc4f88-d05c-4598-a7e7-ecfe5751dc87\" target=\"_top\" title=\"psysml:47dc4f88-d05c-4598-a7e7-ecfe5751dc87\" xlink:actuate=\"onRequest\" xlink:href=\"psysml:47dc4f88-d05c-4598-a7e7-ecfe5751dc87\" xlink:show=\"new\" xlink:title=\"psysml:47dc4f88-d05c-4598-a7e7-ecfe5751dc87\" xlink:type=\"simple\"><rect fill=\"#FFFFFF\" height=\"45.9375\" id=\"E8\" rx=\"10\" ry=\"10\" style=\"stroke: #383838; stroke-width: 1.5;\" width=\"71\" x=\"84.5\" y=\"87.5\"/><text fill=\"#000000\" font-family=\"sans-serif\" font-size=\"12\" font-style=\"italic\" lengthAdjust=\"spacingAndGlyphs\" textLength=\"69\" x=\"85.5\" y=\"103.6387\">«attribute»</text><text fill=\"#000000\" font-family=\"sans-serif\" font-size=\"12\" lengthAdjust=\"spacingAndGlyphs\" textLength=\"5\" x=\"117.5\" y=\"117.6074\">z</text><line style=\"stroke: #383838; stroke-width: 1.5;\" x1=\"85.5\" x2=\"154.5\" y1=\"125.4375\" y2=\"125.4375\"/></a><a href=\"psysml:59f5b99d-24d3-4acd-853e-8f7f0b563d54\" target=\"_top\" title=\"psysml:59f5b99d-24d3-4acd-853e-8f7f0b563d54\" xlink:actuate=\"onRequest\" xlink:href=\"psysml:59f5b99d-24d3-4acd-853e-8f7f0b563d54\" xlink:show=\"new\" xlink:title=\"psysml:59f5b99d-24d3-4acd-853e-8f7f0b563d54\" xlink:type=\"simple\"><polygon fill=\"#FFFFFF\" points=\"271,84,413,84,420,106.2969,427,106.2969,427,136.5938,271,136.5938,271,84\" style=\"stroke: #000000; stroke-width: 1.5;\"/><line style=\"stroke: #000000; stroke-width: 1.5;\" x1=\"271\" x2=\"420\" y1=\"106.2969\" y2=\"106.2969\"/><text fill=\"#000000\" font-family=\"sans-serif\" font-size=\"14\" font-weight=\"bold\" lengthAdjust=\"spacingAndGlyphs\" textLength=\"136\" x=\"275\" y=\"98.9951\">Application Layer</text></a><a href=\"psysml:5cfbc3a5-c556-4af2-acf6-f60fe409e97c\" target=\"_top\" title=\"psysml:5cfbc3a5-c556-4af2-acf6-f60fe409e97c\" xlink:actuate=\"onRequest\" xlink:href=\"psysml:5cfbc3a5-c556-4af2-acf6-f60fe409e97c\" xlink:show=\"new\" xlink:title=\"psysml:5cfbc3a5-c556-4af2-acf6-f60fe409e97c\" xlink:type=\"simple\"><polygon fill=\"#FFFFFF\" points=\"285,214,399,214,406,236.2969,413,236.2969,413,266.5938,285,266.5938,285,214\" style=\"stroke: #000000; stroke-width: 1.5;\"/><line style=\"stroke: #000000; stroke-width: 1.5;\" x1=\"285\" x2=\"406\" y1=\"236.2969\" y2=\"236.2969\"/><text fill=\"#000000\" font-family=\"sans-serif\" font-size=\"14\" font-weight=\"bold\" lengthAdjust=\"spacingAndGlyphs\" textLength=\"108\" x=\"289\" y=\"228.9951\">Service Layer</text></a><a href=\"psysml:acb31344-a810-41ff-bc38-efd03bbf6ecb\" target=\"_top\" title=\"psysml:acb31344-a810-41ff-bc38-efd03bbf6ecb\" xlink:actuate=\"onRequest\" xlink:href=\"psysml:acb31344-a810-41ff-bc38-efd03bbf6ecb\" xlink:show=\"new\" xlink:title=\"psysml:acb31344-a810-41ff-bc38-efd03bbf6ecb\" xlink:type=\"simple\"><polygon fill=\"#FFFFFF\" points=\"297,344,387,344,394,366.2969,401,366.2969,401,396.5938,297,396.5938,297,344\" style=\"stroke: #000000; stroke-width: 1.5;\"/><line style=\"stroke: #000000; stroke-width: 1.5;\" x1=\"297\" x2=\"394\" y1=\"366.2969\" y2=\"366.2969\"/><text fill=\"#000000\" font-family=\"sans-serif\" font-size=\"14\" font-weight=\"bold\" lengthAdjust=\"spacingAndGlyphs\" textLength=\"84\" x=\"301\" y=\"358.9951\">Data Layer</text></a><!--MD5=[af87c684e3b0d8be13c1a698a818ef1e]\n",
       "link E3 to E4--><a href=\"psysml:952f286e-4b84-47c6-949f-c687a4b4f029\" target=\"_top\" title=\"psysml:952f286e-4b84-47c6-949f-c687a4b4f029\" xlink:actuate=\"onRequest\" xlink:href=\"psysml:952f286e-4b84-47c6-949f-c687a4b4f029\" xlink:show=\"new\" xlink:title=\"psysml:952f286e-4b84-47c6-949f-c687a4b4f029\" xlink:type=\"simple\"><path d=\"M349,137.1 C349,156.8 349,184.22 349,205.73 \" fill=\"none\" id=\"E3-&gt;E4\" style=\"stroke: #383838; stroke-width: 1.0; stroke-dasharray: 7.0,7.0;\"/><polygon fill=\"#383838\" points=\"349,213.95,352,205.95,346,205.95,349,213.95\" style=\"stroke: #383838; stroke-width: 1.0;\"/><text fill=\"#000000\" font-family=\"sans-serif\" font-size=\"13\" lengthAdjust=\"spacingAndGlyphs\" textLength=\"64\" x=\"350\" y=\"180.0669\">«depend»</text></a><!--MD5=[1b7591eae5389033d8d09a9d6721a717]\n",
       "link E4 to E5--><a href=\"psysml:7352021b-a74c-4755-9a9f-544f5d5618ed\" target=\"_top\" title=\"psysml:7352021b-a74c-4755-9a9f-544f5d5618ed\" xlink:actuate=\"onRequest\" xlink:href=\"psysml:7352021b-a74c-4755-9a9f-544f5d5618ed\" xlink:show=\"new\" xlink:title=\"psysml:7352021b-a74c-4755-9a9f-544f5d5618ed\" xlink:type=\"simple\"><path d=\"M349,267.1 C349,286.8 349,314.22 349,335.73 \" fill=\"none\" id=\"E4-&gt;E5\" style=\"stroke: #383838; stroke-width: 1.0; stroke-dasharray: 7.0,7.0;\"/><polygon fill=\"#383838\" points=\"349,343.95,352,335.95,346,335.95,349,343.95\" style=\"stroke: #383838; stroke-width: 1.0;\"/><text fill=\"#000000\" font-family=\"sans-serif\" font-size=\"13\" lengthAdjust=\"spacingAndGlyphs\" textLength=\"64\" x=\"350\" y=\"310.0669\">«depend»</text></a><!--MD5=[c5e8897d989ce984f93528998a7150fe]\n",
       "link E8 to E6--><a href=\"psysml:c2ca5ac6-1591-4e08-969e-b115a3bed697\" target=\"_top\" title=\"psysml:c2ca5ac6-1591-4e08-969e-b115a3bed697\" xlink:actuate=\"onRequest\" xlink:href=\"psysml:c2ca5ac6-1591-4e08-969e-b115a3bed697\" xlink:show=\"new\" xlink:title=\"psysml:c2ca5ac6-1591-4e08-969e-b115a3bed697\" xlink:type=\"simple\"><path d=\"M89.42,133.6 C79.35,142.68 69.37,154.11 64,167 C58.5,180.2 58.66,195.94 60.54,209.38 \" fill=\"none\" id=\"E8-&gt;E6\" style=\"stroke: #383838; stroke-width: 1.0; stroke-dasharray: 7.0,7.0;\"/><polygon fill=\"#383838\" points=\"61.9,217.4,63.517,209.0104,57.6018,210.0159,61.9,217.4\" style=\"stroke: #383838; stroke-width: 1.0;\"/><text fill=\"#000000\" font-family=\"sans-serif\" font-size=\"13\" lengthAdjust=\"spacingAndGlyphs\" textLength=\"64\" x=\"65\" y=\"180.0669\">«depend»</text></a><!--MD5=[bfa3c8b0d15052fdf50ae9310b491027]\n",
       "link E8 to E7--><a href=\"psysml:c2ca5ac6-1591-4e08-969e-b115a3bed697\" target=\"_top\" title=\"psysml:c2ca5ac6-1591-4e08-969e-b115a3bed697\" xlink:actuate=\"onRequest\" xlink:href=\"psysml:c2ca5ac6-1591-4e08-969e-b115a3bed697\" xlink:show=\"new\" xlink:title=\"psysml:c2ca5ac6-1591-4e08-969e-b115a3bed697\" xlink:type=\"simple\"><path d=\"M129.28,133.5 C138.17,154.57 151.64,186.5 161.47,209.81 \" fill=\"none\" id=\"E8-&gt;E7\" style=\"stroke: #383838; stroke-width: 1.0; stroke-dasharray: 7.0,7.0;\"/><polygon fill=\"#383838\" points=\"164.66,217.35,164.3241,208.8126,158.7933,211.1385,164.66,217.35\" style=\"stroke: #383838; stroke-width: 1.0;\"/><text fill=\"#000000\" font-family=\"sans-serif\" font-size=\"13\" lengthAdjust=\"spacingAndGlyphs\" textLength=\"64\" x=\"151\" y=\"180.0669\">«depend»</text></a><!--MD5=[500e26fc550adf0259a604195c066221]\n",
       "@startuml\r\n",
       " skinparam monochrome true\r\n",
       "skinparam classbackgroundcolor white\r\n",
       "skinparam shadowing false\r\n",
       "skinparam wrapWidth 300\r\n",
       "hide circle\r\n",
       "\r\n",
       "package \"DependencyTest\" as E1  [[psysml:cb8a6054-43e9-4191-a3b4-d53f2df2fcdf ]]  {\r\n",
       "package \"System\" as E2  [[psysml:b8ece1dd-151a-4631-92e5-c2dbf563fb8b ]]  {\r\n",
       "package \"Application Layer\" as E3  [[psysml:59f5b99d-24d3-4acd-853e-8f7f0b563d54 ]]  {\r\n",
       "}\r\n",
       "package \"Service Layer\" as E4  [[psysml:5cfbc3a5-c556-4af2-acf6-f60fe409e97c ]]  {\r\n",
       "}\r\n",
       "package \"Data Layer\" as E5  [[psysml:acb31344-a810-41ff-bc38-efd03bbf6ecb ]]  {\r\n",
       "}\r\n",
       "}\r\n",
       "comp usage \"x\" as E6  <<(T,blue)attribute>> [[psysml:3db867e9-a237-498d-9697-66a5ca6752eb ]] {\r\n",
       "}\r\n",
       "comp usage \"y\" as E7  <<(T,blue)attribute>> [[psysml:c548d046-cadc-4301-a44e-d185972c752b ]] {\r\n",
       "}\r\n",
       "comp usage \"z\" as E8  <<(T,blue)attribute>> [[psysml:47dc4f88-d05c-4598-a7e7-ecfe5751dc87 ]] {\r\n",
       "}\r\n",
       "E3 ..>> E4 [[psysml:952f286e-4b84-47c6-949f-c687a4b4f029 ]] : <<depend>>\r\n",
       "E4 ..>> E5 [[psysml:7352021b-a74c-4755-9a9f-544f5d5618ed ]] : <<depend>>\r\n",
       "E8 ..>> E6 [[psysml:c2ca5ac6-1591-4e08-969e-b115a3bed697 ]] : <<depend>>\r\n",
       "E8 ..>> E7 [[psysml:c2ca5ac6-1591-4e08-969e-b115a3bed697 ]] : <<depend>>\r\n",
       "}\r\n",
       "@enduml\r\n",
       "\n",
       "PlantUML version 1.2020.13(Sat Jun 13 12:26:38 UTC 2020)\n",
       "(EPL source distribution)\n",
       "Java Runtime: OpenJDK Runtime Environment\n",
       "JVM: OpenJDK 64-Bit Server VM\n",
       "Default Encoding: UTF-8\n",
       "Language: en\n",
       "Country: null\n",
       "--></g></svg>"
      ]
     },
     "execution_count": 2,
     "metadata": {},
     "output_type": "execute_result"
    }
   ],
   "source": [
    "%viz --style=\"COMPTREE\" --view=\"Default\" \"DependencyTest\""
   ]
  },
  {
   "cell_type": "code",
   "execution_count": 3,
   "id": "bc4125e2",
   "metadata": {
    "execution": {
     "iopub.execute_input": "2021-04-20T07:03:22.838876Z",
     "iopub.status.busy": "2021-04-20T07:03:22.838434Z",
     "iopub.status.idle": "2021-04-20T07:03:22.905286Z",
     "shell.execute_reply": "2021-04-20T07:03:22.904874Z"
    }
   },
   "outputs": [
    {
     "data": {
      "image/svg+xml": [
       "<?xml version=\"1.0\" encoding=\"UTF-8\" standalone=\"no\"?><svg xmlns=\"http://www.w3.org/2000/svg\" xmlns:xlink=\"http://www.w3.org/1999/xlink\" contentScriptType=\"application/ecmascript\" contentStyleType=\"text/css\" height=\"449px\" preserveAspectRatio=\"none\" style=\"width:489px;height:449px;\" version=\"1.1\" viewBox=\"0 0 489 449\" width=\"489px\" zoomAndPan=\"magnify\"><defs/><g><!--MD5=[fbc87193dbaf4d95561dea2c320d4a47]\n",
       "cluster E1--><a href=\"psysml:cb8a6054-43e9-4191-a3b4-d53f2df2fcdf\" target=\"_top\" title=\"psysml:cb8a6054-43e9-4191-a3b4-d53f2df2fcdf\" xlink:actuate=\"onRequest\" xlink:href=\"psysml:cb8a6054-43e9-4191-a3b4-d53f2df2fcdf\" xlink:show=\"new\" xlink:title=\"psysml:cb8a6054-43e9-4191-a3b4-d53f2df2fcdf\" xlink:type=\"simple\"><polygon fill=\"#FFFFFF\" points=\"16,6,156,6,163,28.2969,467,28.2969,467,437,16,437,16,6\" style=\"stroke: #000000; stroke-width: 1.5;\"/><line style=\"stroke: #000000; stroke-width: 1.5;\" x1=\"16\" x2=\"163\" y1=\"28.2969\" y2=\"28.2969\"/><text fill=\"#000000\" font-family=\"sans-serif\" font-size=\"14\" font-weight=\"bold\" lengthAdjust=\"spacingAndGlyphs\" textLength=\"134\" x=\"20\" y=\"20.9951\">DependencyTest</text></a><!--MD5=[e4f7fae6ed58524ba242bb0b0d3be6b7]\n",
       "cluster E2--><a href=\"psysml:b8ece1dd-151a-4631-92e5-c2dbf563fb8b\" target=\"_top\" title=\"psysml:b8ece1dd-151a-4631-92e5-c2dbf563fb8b\" xlink:actuate=\"onRequest\" xlink:href=\"psysml:b8ece1dd-151a-4631-92e5-c2dbf563fb8b\" xlink:show=\"new\" xlink:title=\"psysml:b8ece1dd-151a-4631-92e5-c2dbf563fb8b\" xlink:type=\"simple\"><polygon fill=\"#FFFFFF\" points=\"255,49,319,49,326,71.2969,443,71.2969,443,413,255,413,255,49\" style=\"stroke: #000000; stroke-width: 1.5;\"/><line style=\"stroke: #000000; stroke-width: 1.5;\" x1=\"255\" x2=\"326\" y1=\"71.2969\" y2=\"71.2969\"/><text fill=\"#000000\" font-family=\"sans-serif\" font-size=\"14\" font-weight=\"bold\" lengthAdjust=\"spacingAndGlyphs\" textLength=\"58\" x=\"259\" y=\"63.9951\">System</text></a><!--MD5=[60a26617385b1d2d0262a64233df1f8d]\n",
       "class E6--><a href=\"psysml:3db867e9-a237-498d-9697-66a5ca6752eb\" target=\"_top\" title=\"psysml:3db867e9-a237-498d-9697-66a5ca6752eb\" xlink:actuate=\"onRequest\" xlink:href=\"psysml:3db867e9-a237-498d-9697-66a5ca6752eb\" xlink:show=\"new\" xlink:title=\"psysml:3db867e9-a237-498d-9697-66a5ca6752eb\" xlink:type=\"simple\"><rect fill=\"#FFFFFF\" height=\"45.9375\" id=\"E6\" rx=\"10\" ry=\"10\" style=\"stroke: #383838; stroke-width: 1.5;\" width=\"71\" x=\"32.5\" y=\"217.5\"/><text fill=\"#000000\" font-family=\"sans-serif\" font-size=\"12\" font-style=\"italic\" lengthAdjust=\"spacingAndGlyphs\" textLength=\"69\" x=\"33.5\" y=\"233.6387\">«attribute»</text><text fill=\"#000000\" font-family=\"sans-serif\" font-size=\"12\" lengthAdjust=\"spacingAndGlyphs\" textLength=\"6\" x=\"65\" y=\"247.6074\">x</text><line style=\"stroke: #383838; stroke-width: 1.5;\" x1=\"33.5\" x2=\"102.5\" y1=\"255.4375\" y2=\"255.4375\"/></a><!--MD5=[2156ba9850f5573cc1fc38a6a4b2f02b]\n",
       "class E7--><a href=\"psysml:c548d046-cadc-4301-a44e-d185972c752b\" target=\"_top\" title=\"psysml:c548d046-cadc-4301-a44e-d185972c752b\" xlink:actuate=\"onRequest\" xlink:href=\"psysml:c548d046-cadc-4301-a44e-d185972c752b\" xlink:show=\"new\" xlink:title=\"psysml:c548d046-cadc-4301-a44e-d185972c752b\" xlink:type=\"simple\"><rect fill=\"#FFFFFF\" height=\"45.9375\" id=\"E7\" rx=\"10\" ry=\"10\" style=\"stroke: #383838; stroke-width: 1.5;\" width=\"71\" x=\"138.5\" y=\"217.5\"/><text fill=\"#000000\" font-family=\"sans-serif\" font-size=\"12\" font-style=\"italic\" lengthAdjust=\"spacingAndGlyphs\" textLength=\"69\" x=\"139.5\" y=\"233.6387\">«attribute»</text><text fill=\"#000000\" font-family=\"sans-serif\" font-size=\"12\" lengthAdjust=\"spacingAndGlyphs\" textLength=\"6\" x=\"171\" y=\"247.6074\">y</text><line style=\"stroke: #383838; stroke-width: 1.5;\" x1=\"139.5\" x2=\"208.5\" y1=\"255.4375\" y2=\"255.4375\"/></a><!--MD5=[b9389687b975829384b498ac4b7476b2]\n",
       "class E8--><a href=\"psysml:47dc4f88-d05c-4598-a7e7-ecfe5751dc87\" target=\"_top\" title=\"psysml:47dc4f88-d05c-4598-a7e7-ecfe5751dc87\" xlink:actuate=\"onRequest\" xlink:href=\"psysml:47dc4f88-d05c-4598-a7e7-ecfe5751dc87\" xlink:show=\"new\" xlink:title=\"psysml:47dc4f88-d05c-4598-a7e7-ecfe5751dc87\" xlink:type=\"simple\"><rect fill=\"#FFFFFF\" height=\"45.9375\" id=\"E8\" rx=\"10\" ry=\"10\" style=\"stroke: #383838; stroke-width: 1.5;\" width=\"71\" x=\"84.5\" y=\"87.5\"/><text fill=\"#000000\" font-family=\"sans-serif\" font-size=\"12\" font-style=\"italic\" lengthAdjust=\"spacingAndGlyphs\" textLength=\"69\" x=\"85.5\" y=\"103.6387\">«attribute»</text><text fill=\"#000000\" font-family=\"sans-serif\" font-size=\"12\" lengthAdjust=\"spacingAndGlyphs\" textLength=\"5\" x=\"117.5\" y=\"117.6074\">z</text><line style=\"stroke: #383838; stroke-width: 1.5;\" x1=\"85.5\" x2=\"154.5\" y1=\"125.4375\" y2=\"125.4375\"/></a><a href=\"psysml:59f5b99d-24d3-4acd-853e-8f7f0b563d54\" target=\"_top\" title=\"psysml:59f5b99d-24d3-4acd-853e-8f7f0b563d54\" xlink:actuate=\"onRequest\" xlink:href=\"psysml:59f5b99d-24d3-4acd-853e-8f7f0b563d54\" xlink:show=\"new\" xlink:title=\"psysml:59f5b99d-24d3-4acd-853e-8f7f0b563d54\" xlink:type=\"simple\"><polygon fill=\"#FFFFFF\" points=\"271,84,413,84,420,106.2969,427,106.2969,427,136.5938,271,136.5938,271,84\" style=\"stroke: #000000; stroke-width: 1.5;\"/><line style=\"stroke: #000000; stroke-width: 1.5;\" x1=\"271\" x2=\"420\" y1=\"106.2969\" y2=\"106.2969\"/><text fill=\"#000000\" font-family=\"sans-serif\" font-size=\"14\" font-weight=\"bold\" lengthAdjust=\"spacingAndGlyphs\" textLength=\"136\" x=\"275\" y=\"98.9951\">Application Layer</text></a><a href=\"psysml:5cfbc3a5-c556-4af2-acf6-f60fe409e97c\" target=\"_top\" title=\"psysml:5cfbc3a5-c556-4af2-acf6-f60fe409e97c\" xlink:actuate=\"onRequest\" xlink:href=\"psysml:5cfbc3a5-c556-4af2-acf6-f60fe409e97c\" xlink:show=\"new\" xlink:title=\"psysml:5cfbc3a5-c556-4af2-acf6-f60fe409e97c\" xlink:type=\"simple\"><polygon fill=\"#FFFFFF\" points=\"285,214,399,214,406,236.2969,413,236.2969,413,266.5938,285,266.5938,285,214\" style=\"stroke: #000000; stroke-width: 1.5;\"/><line style=\"stroke: #000000; stroke-width: 1.5;\" x1=\"285\" x2=\"406\" y1=\"236.2969\" y2=\"236.2969\"/><text fill=\"#000000\" font-family=\"sans-serif\" font-size=\"14\" font-weight=\"bold\" lengthAdjust=\"spacingAndGlyphs\" textLength=\"108\" x=\"289\" y=\"228.9951\">Service Layer</text></a><a href=\"psysml:acb31344-a810-41ff-bc38-efd03bbf6ecb\" target=\"_top\" title=\"psysml:acb31344-a810-41ff-bc38-efd03bbf6ecb\" xlink:actuate=\"onRequest\" xlink:href=\"psysml:acb31344-a810-41ff-bc38-efd03bbf6ecb\" xlink:show=\"new\" xlink:title=\"psysml:acb31344-a810-41ff-bc38-efd03bbf6ecb\" xlink:type=\"simple\"><polygon fill=\"#FFFFFF\" points=\"297,344,387,344,394,366.2969,401,366.2969,401,396.5938,297,396.5938,297,344\" style=\"stroke: #000000; stroke-width: 1.5;\"/><line style=\"stroke: #000000; stroke-width: 1.5;\" x1=\"297\" x2=\"394\" y1=\"366.2969\" y2=\"366.2969\"/><text fill=\"#000000\" font-family=\"sans-serif\" font-size=\"14\" font-weight=\"bold\" lengthAdjust=\"spacingAndGlyphs\" textLength=\"84\" x=\"301\" y=\"358.9951\">Data Layer</text></a><!--MD5=[af87c684e3b0d8be13c1a698a818ef1e]\n",
       "link E3 to E4--><a href=\"psysml:952f286e-4b84-47c6-949f-c687a4b4f029\" target=\"_top\" title=\"psysml:952f286e-4b84-47c6-949f-c687a4b4f029\" xlink:actuate=\"onRequest\" xlink:href=\"psysml:952f286e-4b84-47c6-949f-c687a4b4f029\" xlink:show=\"new\" xlink:title=\"psysml:952f286e-4b84-47c6-949f-c687a4b4f029\" xlink:type=\"simple\"><path d=\"M349,137.1 C349,156.8 349,184.22 349,205.73 \" fill=\"none\" id=\"E3-&gt;E4\" style=\"stroke: #383838; stroke-width: 1.0; stroke-dasharray: 7.0,7.0;\"/><polygon fill=\"#383838\" points=\"349,213.95,352,205.95,346,205.95,349,213.95\" style=\"stroke: #383838; stroke-width: 1.0;\"/><text fill=\"#000000\" font-family=\"sans-serif\" font-size=\"13\" lengthAdjust=\"spacingAndGlyphs\" textLength=\"64\" x=\"350\" y=\"180.0669\">«depend»</text></a><!--MD5=[1b7591eae5389033d8d09a9d6721a717]\n",
       "link E4 to E5--><a href=\"psysml:7352021b-a74c-4755-9a9f-544f5d5618ed\" target=\"_top\" title=\"psysml:7352021b-a74c-4755-9a9f-544f5d5618ed\" xlink:actuate=\"onRequest\" xlink:href=\"psysml:7352021b-a74c-4755-9a9f-544f5d5618ed\" xlink:show=\"new\" xlink:title=\"psysml:7352021b-a74c-4755-9a9f-544f5d5618ed\" xlink:type=\"simple\"><path d=\"M349,267.1 C349,286.8 349,314.22 349,335.73 \" fill=\"none\" id=\"E4-&gt;E5\" style=\"stroke: #383838; stroke-width: 1.0; stroke-dasharray: 7.0,7.0;\"/><polygon fill=\"#383838\" points=\"349,343.95,352,335.95,346,335.95,349,343.95\" style=\"stroke: #383838; stroke-width: 1.0;\"/><text fill=\"#000000\" font-family=\"sans-serif\" font-size=\"13\" lengthAdjust=\"spacingAndGlyphs\" textLength=\"64\" x=\"350\" y=\"310.0669\">«depend»</text></a><!--MD5=[c5e8897d989ce984f93528998a7150fe]\n",
       "link E8 to E6--><a href=\"psysml:c2ca5ac6-1591-4e08-969e-b115a3bed697\" target=\"_top\" title=\"psysml:c2ca5ac6-1591-4e08-969e-b115a3bed697\" xlink:actuate=\"onRequest\" xlink:href=\"psysml:c2ca5ac6-1591-4e08-969e-b115a3bed697\" xlink:show=\"new\" xlink:title=\"psysml:c2ca5ac6-1591-4e08-969e-b115a3bed697\" xlink:type=\"simple\"><path d=\"M89.42,133.6 C79.35,142.68 69.37,154.11 64,167 C58.5,180.2 58.66,195.94 60.54,209.38 \" fill=\"none\" id=\"E8-&gt;E6\" style=\"stroke: #383838; stroke-width: 1.0; stroke-dasharray: 7.0,7.0;\"/><polygon fill=\"#383838\" points=\"61.9,217.4,63.517,209.0104,57.6018,210.0159,61.9,217.4\" style=\"stroke: #383838; stroke-width: 1.0;\"/><text fill=\"#000000\" font-family=\"sans-serif\" font-size=\"13\" lengthAdjust=\"spacingAndGlyphs\" textLength=\"64\" x=\"65\" y=\"180.0669\">«depend»</text></a><!--MD5=[bfa3c8b0d15052fdf50ae9310b491027]\n",
       "link E8 to E7--><a href=\"psysml:c2ca5ac6-1591-4e08-969e-b115a3bed697\" target=\"_top\" title=\"psysml:c2ca5ac6-1591-4e08-969e-b115a3bed697\" xlink:actuate=\"onRequest\" xlink:href=\"psysml:c2ca5ac6-1591-4e08-969e-b115a3bed697\" xlink:show=\"new\" xlink:title=\"psysml:c2ca5ac6-1591-4e08-969e-b115a3bed697\" xlink:type=\"simple\"><path d=\"M129.28,133.5 C138.17,154.57 151.64,186.5 161.47,209.81 \" fill=\"none\" id=\"E8-&gt;E7\" style=\"stroke: #383838; stroke-width: 1.0; stroke-dasharray: 7.0,7.0;\"/><polygon fill=\"#383838\" points=\"164.66,217.35,164.3241,208.8126,158.7933,211.1385,164.66,217.35\" style=\"stroke: #383838; stroke-width: 1.0;\"/><text fill=\"#000000\" font-family=\"sans-serif\" font-size=\"13\" lengthAdjust=\"spacingAndGlyphs\" textLength=\"64\" x=\"151\" y=\"180.0669\">«depend»</text></a><!--MD5=[500e26fc550adf0259a604195c066221]\n",
       "@startuml\r\n",
       " skinparam monochrome true\r\n",
       "skinparam classbackgroundcolor white\r\n",
       "skinparam shadowing false\r\n",
       "skinparam wrapWidth 300\r\n",
       "hide circle\r\n",
       "\r\n",
       "package \"DependencyTest\" as E1  [[psysml:cb8a6054-43e9-4191-a3b4-d53f2df2fcdf ]]  {\r\n",
       "package \"System\" as E2  [[psysml:b8ece1dd-151a-4631-92e5-c2dbf563fb8b ]]  {\r\n",
       "package \"Application Layer\" as E3  [[psysml:59f5b99d-24d3-4acd-853e-8f7f0b563d54 ]]  {\r\n",
       "}\r\n",
       "package \"Service Layer\" as E4  [[psysml:5cfbc3a5-c556-4af2-acf6-f60fe409e97c ]]  {\r\n",
       "}\r\n",
       "package \"Data Layer\" as E5  [[psysml:acb31344-a810-41ff-bc38-efd03bbf6ecb ]]  {\r\n",
       "}\r\n",
       "}\r\n",
       "comp usage \"x\" as E6  <<(T,blue)attribute>> [[psysml:3db867e9-a237-498d-9697-66a5ca6752eb ]] {\r\n",
       "}\r\n",
       "comp usage \"y\" as E7  <<(T,blue)attribute>> [[psysml:c548d046-cadc-4301-a44e-d185972c752b ]] {\r\n",
       "}\r\n",
       "comp usage \"z\" as E8  <<(T,blue)attribute>> [[psysml:47dc4f88-d05c-4598-a7e7-ecfe5751dc87 ]] {\r\n",
       "}\r\n",
       "E3 ..>> E4 [[psysml:952f286e-4b84-47c6-949f-c687a4b4f029 ]] : <<depend>>\r\n",
       "E4 ..>> E5 [[psysml:7352021b-a74c-4755-9a9f-544f5d5618ed ]] : <<depend>>\r\n",
       "E8 ..>> E6 [[psysml:c2ca5ac6-1591-4e08-969e-b115a3bed697 ]] : <<depend>>\r\n",
       "E8 ..>> E7 [[psysml:c2ca5ac6-1591-4e08-969e-b115a3bed697 ]] : <<depend>>\r\n",
       "}\r\n",
       "@enduml\r\n",
       "\n",
       "PlantUML version 1.2020.13(Sat Jun 13 12:26:38 UTC 2020)\n",
       "(EPL source distribution)\n",
       "Java Runtime: OpenJDK Runtime Environment\n",
       "JVM: OpenJDK 64-Bit Server VM\n",
       "Default Encoding: UTF-8\n",
       "Language: en\n",
       "Country: null\n",
       "--></g></svg>"
      ]
     },
     "execution_count": 3,
     "metadata": {},
     "output_type": "execute_result"
    }
   ],
   "source": [
    "%viz --style=\"COMPTREE\" --view=\"Tree\" \"DependencyTest\""
   ]
  },
  {
   "cell_type": "code",
   "execution_count": 4,
   "id": "bc987c08",
   "metadata": {
    "execution": {
     "iopub.execute_input": "2021-04-20T07:03:22.955935Z",
     "iopub.status.busy": "2021-04-20T07:03:22.955419Z",
     "iopub.status.idle": "2021-04-20T07:03:22.965694Z",
     "shell.execute_reply": "2021-04-20T07:03:22.966414Z"
    }
   },
   "outputs": [
    {
     "data": {
      "image/svg+xml": [
       "<?xml version=\"1.0\" encoding=\"UTF-8\" standalone=\"no\"?><svg xmlns=\"http://www.w3.org/2000/svg\" xmlns:xlink=\"http://www.w3.org/1999/xlink\" contentScriptType=\"application/ecmascript\" contentStyleType=\"text/css\" height=\"12px\" preserveAspectRatio=\"none\" style=\"width:12px;height:12px;\" version=\"1.1\" viewBox=\"0 0 12 12\" width=\"12px\" zoomAndPan=\"magnify\"><defs/><g><!--MD5=[f19188ef49e11757b5c46753f95d9edc]\n",
       "@startuml\r\n",
       " skinparam monochrome true\r\n",
       "skinparam classbackgroundcolor white\r\n",
       "skinparam shadowing false\r\n",
       "skinparam wrapWidth 300\r\n",
       "hide circle\r\n",
       "\r\n",
       "@enduml\r\n",
       "\n",
       "PlantUML version 1.2020.13(Sat Jun 13 12:26:38 UTC 2020)\n",
       "(EPL source distribution)\n",
       "Java Runtime: OpenJDK Runtime Environment\n",
       "JVM: OpenJDK 64-Bit Server VM\n",
       "Default Encoding: UTF-8\n",
       "Language: en\n",
       "Country: null\n",
       "--></g></svg>"
      ]
     },
     "execution_count": 4,
     "metadata": {},
     "output_type": "execute_result"
    }
   ],
   "source": [
    "%viz --style=\"COMPTREE\" --view=\"State\" \"DependencyTest\""
   ]
  },
  {
   "cell_type": "code",
   "execution_count": 5,
   "id": "619d56c3",
   "metadata": {
    "execution": {
     "iopub.execute_input": "2021-04-20T07:03:23.016965Z",
     "iopub.status.busy": "2021-04-20T07:03:23.016452Z",
     "iopub.status.idle": "2021-04-20T07:03:23.082123Z",
     "shell.execute_reply": "2021-04-20T07:03:23.081770Z"
    }
   },
   "outputs": [
    {
     "data": {
      "image/svg+xml": [
       "<?xml version=\"1.0\" encoding=\"UTF-8\" standalone=\"no\"?><svg xmlns=\"http://www.w3.org/2000/svg\" xmlns:xlink=\"http://www.w3.org/1999/xlink\" contentScriptType=\"application/ecmascript\" contentStyleType=\"text/css\" height=\"361px\" preserveAspectRatio=\"none\" style=\"width:489px;height:361px;\" version=\"1.1\" viewBox=\"0 0 489 361\" width=\"489px\" zoomAndPan=\"magnify\"><defs/><g><!--MD5=[fbc87193dbaf4d95561dea2c320d4a47]\n",
       "cluster E1--><a href=\"psysml:cb8a6054-43e9-4191-a3b4-d53f2df2fcdf\" target=\"_top\" title=\"psysml:cb8a6054-43e9-4191-a3b4-d53f2df2fcdf\" xlink:actuate=\"onRequest\" xlink:href=\"psysml:cb8a6054-43e9-4191-a3b4-d53f2df2fcdf\" xlink:show=\"new\" xlink:title=\"psysml:cb8a6054-43e9-4191-a3b4-d53f2df2fcdf\" xlink:type=\"simple\"><polygon fill=\"#FFFFFF\" points=\"16,6,156,6,163,28.2969,467,28.2969,467,349,16,349,16,6\" style=\"stroke: #000000; stroke-width: 1.5;\"/><line style=\"stroke: #000000; stroke-width: 1.5;\" x1=\"16\" x2=\"163\" y1=\"28.2969\" y2=\"28.2969\"/><text fill=\"#000000\" font-family=\"sans-serif\" font-size=\"14\" font-weight=\"bold\" lengthAdjust=\"spacingAndGlyphs\" textLength=\"134\" x=\"20\" y=\"20.9951\">DependencyTest</text></a><!--MD5=[e4f7fae6ed58524ba242bb0b0d3be6b7]\n",
       "cluster E2--><a href=\"psysml:b8ece1dd-151a-4631-92e5-c2dbf563fb8b\" target=\"_top\" title=\"psysml:b8ece1dd-151a-4631-92e5-c2dbf563fb8b\" xlink:actuate=\"onRequest\" xlink:href=\"psysml:b8ece1dd-151a-4631-92e5-c2dbf563fb8b\" xlink:show=\"new\" xlink:title=\"psysml:b8ece1dd-151a-4631-92e5-c2dbf563fb8b\" xlink:type=\"simple\"><polygon fill=\"#FFFFFF\" points=\"255,49,319,49,326,71.2969,443,71.2969,443,325,255,325,255,49\" style=\"stroke: #000000; stroke-width: 1.5;\"/><line style=\"stroke: #000000; stroke-width: 1.5;\" x1=\"255\" x2=\"326\" y1=\"71.2969\" y2=\"71.2969\"/><text fill=\"#000000\" font-family=\"sans-serif\" font-size=\"14\" font-weight=\"bold\" lengthAdjust=\"spacingAndGlyphs\" textLength=\"58\" x=\"259\" y=\"63.9951\">System</text></a><!--MD5=[60a26617385b1d2d0262a64233df1f8d]\n",
       "class E6--><a href=\"psysml:3db867e9-a237-498d-9697-66a5ca6752eb\" target=\"_top\" title=\"psysml:3db867e9-a237-498d-9697-66a5ca6752eb\" xlink:actuate=\"onRequest\" xlink:href=\"psysml:3db867e9-a237-498d-9697-66a5ca6752eb\" xlink:show=\"new\" xlink:title=\"psysml:3db867e9-a237-498d-9697-66a5ca6752eb\" xlink:type=\"simple\"><rect fill=\"#FFFFFF\" height=\"45.9375\" id=\"E6\" rx=\"10\" ry=\"10\" style=\"stroke: #383838; stroke-width: 1.5;\" width=\"71\" x=\"32.5\" y=\"173.5\"/><text fill=\"#000000\" font-family=\"sans-serif\" font-size=\"12\" font-style=\"italic\" lengthAdjust=\"spacingAndGlyphs\" textLength=\"69\" x=\"33.5\" y=\"189.6387\">«attribute»</text><text fill=\"#000000\" font-family=\"sans-serif\" font-size=\"12\" lengthAdjust=\"spacingAndGlyphs\" textLength=\"6\" x=\"65\" y=\"203.6074\">x</text><line style=\"stroke: #383838; stroke-width: 1.5;\" x1=\"33.5\" x2=\"102.5\" y1=\"211.4375\" y2=\"211.4375\"/></a><!--MD5=[2156ba9850f5573cc1fc38a6a4b2f02b]\n",
       "class E7--><a href=\"psysml:c548d046-cadc-4301-a44e-d185972c752b\" target=\"_top\" title=\"psysml:c548d046-cadc-4301-a44e-d185972c752b\" xlink:actuate=\"onRequest\" xlink:href=\"psysml:c548d046-cadc-4301-a44e-d185972c752b\" xlink:show=\"new\" xlink:title=\"psysml:c548d046-cadc-4301-a44e-d185972c752b\" xlink:type=\"simple\"><rect fill=\"#FFFFFF\" height=\"45.9375\" id=\"E7\" rx=\"10\" ry=\"10\" style=\"stroke: #383838; stroke-width: 1.5;\" width=\"71\" x=\"138.5\" y=\"173.5\"/><text fill=\"#000000\" font-family=\"sans-serif\" font-size=\"12\" font-style=\"italic\" lengthAdjust=\"spacingAndGlyphs\" textLength=\"69\" x=\"139.5\" y=\"189.6387\">«attribute»</text><text fill=\"#000000\" font-family=\"sans-serif\" font-size=\"12\" lengthAdjust=\"spacingAndGlyphs\" textLength=\"6\" x=\"171\" y=\"203.6074\">y</text><line style=\"stroke: #383838; stroke-width: 1.5;\" x1=\"139.5\" x2=\"208.5\" y1=\"211.4375\" y2=\"211.4375\"/></a><!--MD5=[b9389687b975829384b498ac4b7476b2]\n",
       "class E8--><a href=\"psysml:47dc4f88-d05c-4598-a7e7-ecfe5751dc87\" target=\"_top\" title=\"psysml:47dc4f88-d05c-4598-a7e7-ecfe5751dc87\" xlink:actuate=\"onRequest\" xlink:href=\"psysml:47dc4f88-d05c-4598-a7e7-ecfe5751dc87\" xlink:show=\"new\" xlink:title=\"psysml:47dc4f88-d05c-4598-a7e7-ecfe5751dc87\" xlink:type=\"simple\"><rect fill=\"#FFFFFF\" height=\"45.9375\" id=\"E8\" rx=\"10\" ry=\"10\" style=\"stroke: #383838; stroke-width: 1.5;\" width=\"71\" x=\"84.5\" y=\"87.5\"/><text fill=\"#000000\" font-family=\"sans-serif\" font-size=\"12\" font-style=\"italic\" lengthAdjust=\"spacingAndGlyphs\" textLength=\"69\" x=\"85.5\" y=\"103.6387\">«attribute»</text><text fill=\"#000000\" font-family=\"sans-serif\" font-size=\"12\" lengthAdjust=\"spacingAndGlyphs\" textLength=\"5\" x=\"117.5\" y=\"117.6074\">z</text><line style=\"stroke: #383838; stroke-width: 1.5;\" x1=\"85.5\" x2=\"154.5\" y1=\"125.4375\" y2=\"125.4375\"/></a><a href=\"psysml:59f5b99d-24d3-4acd-853e-8f7f0b563d54\" target=\"_top\" title=\"psysml:59f5b99d-24d3-4acd-853e-8f7f0b563d54\" xlink:actuate=\"onRequest\" xlink:href=\"psysml:59f5b99d-24d3-4acd-853e-8f7f0b563d54\" xlink:show=\"new\" xlink:title=\"psysml:59f5b99d-24d3-4acd-853e-8f7f0b563d54\" xlink:type=\"simple\"><polygon fill=\"#FFFFFF\" points=\"271,84,413,84,420,106.2969,427,106.2969,427,136.5938,271,136.5938,271,84\" style=\"stroke: #000000; stroke-width: 1.5;\"/><line style=\"stroke: #000000; stroke-width: 1.5;\" x1=\"271\" x2=\"420\" y1=\"106.2969\" y2=\"106.2969\"/><text fill=\"#000000\" font-family=\"sans-serif\" font-size=\"14\" font-weight=\"bold\" lengthAdjust=\"spacingAndGlyphs\" textLength=\"136\" x=\"275\" y=\"98.9951\">Application Layer</text></a><a href=\"psysml:5cfbc3a5-c556-4af2-acf6-f60fe409e97c\" target=\"_top\" title=\"psysml:5cfbc3a5-c556-4af2-acf6-f60fe409e97c\" xlink:actuate=\"onRequest\" xlink:href=\"psysml:5cfbc3a5-c556-4af2-acf6-f60fe409e97c\" xlink:show=\"new\" xlink:title=\"psysml:5cfbc3a5-c556-4af2-acf6-f60fe409e97c\" xlink:type=\"simple\"><polygon fill=\"#FFFFFF\" points=\"285,170,399,170,406,192.2969,413,192.2969,413,222.5938,285,222.5938,285,170\" style=\"stroke: #000000; stroke-width: 1.5;\"/><line style=\"stroke: #000000; stroke-width: 1.5;\" x1=\"285\" x2=\"406\" y1=\"192.2969\" y2=\"192.2969\"/><text fill=\"#000000\" font-family=\"sans-serif\" font-size=\"14\" font-weight=\"bold\" lengthAdjust=\"spacingAndGlyphs\" textLength=\"108\" x=\"289\" y=\"184.9951\">Service Layer</text></a><a href=\"psysml:acb31344-a810-41ff-bc38-efd03bbf6ecb\" target=\"_top\" title=\"psysml:acb31344-a810-41ff-bc38-efd03bbf6ecb\" xlink:actuate=\"onRequest\" xlink:href=\"psysml:acb31344-a810-41ff-bc38-efd03bbf6ecb\" xlink:show=\"new\" xlink:title=\"psysml:acb31344-a810-41ff-bc38-efd03bbf6ecb\" xlink:type=\"simple\"><polygon fill=\"#FFFFFF\" points=\"297,256,387,256,394,278.2969,401,278.2969,401,308.5938,297,308.5938,297,256\" style=\"stroke: #000000; stroke-width: 1.5;\"/><line style=\"stroke: #000000; stroke-width: 1.5;\" x1=\"297\" x2=\"394\" y1=\"278.2969\" y2=\"278.2969\"/><text fill=\"#000000\" font-family=\"sans-serif\" font-size=\"14\" font-weight=\"bold\" lengthAdjust=\"spacingAndGlyphs\" textLength=\"84\" x=\"301\" y=\"270.9951\">Data Layer</text></a><!--MD5=[af87c684e3b0d8be13c1a698a818ef1e]\n",
       "link E3 to E4--><a href=\"psysml:952f286e-4b84-47c6-949f-c687a4b4f029\" target=\"_top\" title=\"psysml:952f286e-4b84-47c6-949f-c687a4b4f029\" xlink:actuate=\"onRequest\" xlink:href=\"psysml:952f286e-4b84-47c6-949f-c687a4b4f029\" xlink:show=\"new\" xlink:title=\"psysml:952f286e-4b84-47c6-949f-c687a4b4f029\" xlink:type=\"simple\"><path d=\"M349,137.16 C349,144.98 349,153.69 349,161.94 \" fill=\"none\" id=\"E3-&gt;E4\" style=\"stroke: #383838; stroke-width: 1.0; stroke-dasharray: 7.0,7.0;\"/><polygon fill=\"#383838\" points=\"349,170,352,162,346,162,349,170\" style=\"stroke: #383838; stroke-width: 1.0;\"/><text fill=\"#000000\" font-family=\"sans-serif\" font-size=\"13\" lengthAdjust=\"spacingAndGlyphs\" textLength=\"64\" x=\"350\" y=\"158.0669\">«depend»</text></a><!--MD5=[1b7591eae5389033d8d09a9d6721a717]\n",
       "link E4 to E5--><a href=\"psysml:7352021b-a74c-4755-9a9f-544f5d5618ed\" target=\"_top\" title=\"psysml:7352021b-a74c-4755-9a9f-544f5d5618ed\" xlink:actuate=\"onRequest\" xlink:href=\"psysml:7352021b-a74c-4755-9a9f-544f5d5618ed\" xlink:show=\"new\" xlink:title=\"psysml:7352021b-a74c-4755-9a9f-544f5d5618ed\" xlink:type=\"simple\"><path d=\"M349,223.16 C349,230.98 349,239.69 349,247.94 \" fill=\"none\" id=\"E4-&gt;E5\" style=\"stroke: #383838; stroke-width: 1.0; stroke-dasharray: 7.0,7.0;\"/><polygon fill=\"#383838\" points=\"349,256,352,248,346,248,349,256\" style=\"stroke: #383838; stroke-width: 1.0;\"/><text fill=\"#000000\" font-family=\"sans-serif\" font-size=\"13\" lengthAdjust=\"spacingAndGlyphs\" textLength=\"64\" x=\"350\" y=\"244.0669\">«depend»</text></a><!--MD5=[c5e8897d989ce984f93528998a7150fe]\n",
       "link E8 to E6--><a href=\"psysml:c2ca5ac6-1591-4e08-969e-b115a3bed697\" target=\"_top\" title=\"psysml:c2ca5ac6-1591-4e08-969e-b115a3bed697\" xlink:actuate=\"onRequest\" xlink:href=\"psysml:c2ca5ac6-1591-4e08-969e-b115a3bed697\" xlink:show=\"new\" xlink:title=\"psysml:c2ca5ac6-1591-4e08-969e-b115a3bed697\" xlink:type=\"simple\"><path d=\"M84.49,125.34 C76.34,130.27 68.69,136.72 64,145 C60.54,151.1 59.62,158.31 60,165.33 \" fill=\"none\" id=\"E8-&gt;E6\" style=\"stroke: #383838; stroke-width: 1.0; stroke-dasharray: 7.0,7.0;\"/><polygon fill=\"#383838\" points=\"60.97,173.42,63.0061,165.1221,57.0479,165.8294,60.97,173.42\" style=\"stroke: #383838; stroke-width: 1.0;\"/><text fill=\"#000000\" font-family=\"sans-serif\" font-size=\"13\" lengthAdjust=\"spacingAndGlyphs\" textLength=\"64\" x=\"65\" y=\"158.0669\">«depend»</text></a><!--MD5=[bfa3c8b0d15052fdf50ae9310b491027]\n",
       "link E8 to E7--><a href=\"psysml:c2ca5ac6-1591-4e08-969e-b115a3bed697\" target=\"_top\" title=\"psysml:c2ca5ac6-1591-4e08-969e-b115a3bed697\" xlink:actuate=\"onRequest\" xlink:href=\"psysml:c2ca5ac6-1591-4e08-969e-b115a3bed697\" xlink:show=\"new\" xlink:title=\"psysml:c2ca5ac6-1591-4e08-969e-b115a3bed697\" xlink:type=\"simple\"><path d=\"M134.19,133.57 C140.65,143.62 148.38,155.65 155.31,166.42 \" fill=\"none\" id=\"E8-&gt;E7\" style=\"stroke: #383838; stroke-width: 1.0; stroke-dasharray: 7.0,7.0;\"/><polygon fill=\"#383838\" points=\"159.72,173.29,157.9148,164.9389,152.8688,168.185,159.72,173.29\" style=\"stroke: #383838; stroke-width: 1.0;\"/><text fill=\"#000000\" font-family=\"sans-serif\" font-size=\"13\" lengthAdjust=\"spacingAndGlyphs\" textLength=\"64\" x=\"152\" y=\"158.0669\">«depend»</text></a><!--MD5=[8879d0ba069dafb097fdd0b17d8f619c]\n",
       "@startuml\r\n",
       "skinparam ranksep 10\r\n",
       "skinparam rectangle {\r\n",
       " backgroundColor<<block>> LightGreen\r\n",
       "}\r\n",
       " skinparam monochrome true\r\n",
       "skinparam classbackgroundcolor white\r\n",
       "skinparam shadowing false\r\n",
       "skinparam wrapWidth 300\r\n",
       "hide circle\r\n",
       "\r\n",
       "package \"DependencyTest\" as E1  [[psysml:cb8a6054-43e9-4191-a3b4-d53f2df2fcdf ]]  {\r\n",
       "package \"System\" as E2  [[psysml:b8ece1dd-151a-4631-92e5-c2dbf563fb8b ]]  {\r\n",
       "package \"Application Layer\" as E3  [[psysml:59f5b99d-24d3-4acd-853e-8f7f0b563d54 ]]  {\r\n",
       "}\r\n",
       "package \"Service Layer\" as E4  [[psysml:5cfbc3a5-c556-4af2-acf6-f60fe409e97c ]]  {\r\n",
       "}\r\n",
       "package \"Data Layer\" as E5  [[psysml:acb31344-a810-41ff-bc38-efd03bbf6ecb ]]  {\r\n",
       "}\r\n",
       "}\r\n",
       "comp usage \"x\" as E6  <<(T,blue)attribute>> [[psysml:3db867e9-a237-498d-9697-66a5ca6752eb ]] {\r\n",
       "}\r\n",
       "comp usage \"y\" as E7  <<(T,blue)attribute>> [[psysml:c548d046-cadc-4301-a44e-d185972c752b ]] {\r\n",
       "}\r\n",
       "comp usage \"z\" as E8  <<(T,blue)attribute>> [[psysml:47dc4f88-d05c-4598-a7e7-ecfe5751dc87 ]] {\r\n",
       "}\r\n",
       "E3 ..>> E4 [[psysml:952f286e-4b84-47c6-949f-c687a4b4f029 ]] : <<depend>>\r\n",
       "E4 ..>> E5 [[psysml:7352021b-a74c-4755-9a9f-544f5d5618ed ]] : <<depend>>\r\n",
       "E8 ..>> E6 [[psysml:c2ca5ac6-1591-4e08-969e-b115a3bed697 ]] : <<depend>>\r\n",
       "E8 ..>> E7 [[psysml:c2ca5ac6-1591-4e08-969e-b115a3bed697 ]] : <<depend>>\r\n",
       "}\r\n",
       "@enduml\r\n",
       "\n",
       "PlantUML version 1.2020.13(Sat Jun 13 12:26:38 UTC 2020)\n",
       "(EPL source distribution)\n",
       "Java Runtime: OpenJDK Runtime Environment\n",
       "JVM: OpenJDK 64-Bit Server VM\n",
       "Default Encoding: UTF-8\n",
       "Language: en\n",
       "Country: null\n",
       "--></g></svg>"
      ]
     },
     "execution_count": 5,
     "metadata": {},
     "output_type": "execute_result"
    }
   ],
   "source": [
    "%viz --style=\"COMPTREE\" --view=\"Interconnection\" \"DependencyTest\""
   ]
  },
  {
   "cell_type": "code",
   "execution_count": 6,
   "id": "e07dc30d",
   "metadata": {
    "execution": {
     "iopub.execute_input": "2021-04-20T07:03:23.133103Z",
     "iopub.status.busy": "2021-04-20T07:03:23.132587Z",
     "iopub.status.idle": "2021-04-20T07:03:23.138629Z",
     "shell.execute_reply": "2021-04-20T07:03:23.138931Z"
    }
   },
   "outputs": [
    {
     "data": {
      "image/svg+xml": [
       "<?xml version=\"1.0\" encoding=\"UTF-8\" standalone=\"no\"?><svg xmlns=\"http://www.w3.org/2000/svg\" xmlns:xlink=\"http://www.w3.org/1999/xlink\" contentScriptType=\"application/ecmascript\" contentStyleType=\"text/css\" height=\"12px\" preserveAspectRatio=\"none\" style=\"width:12px;height:12px;\" version=\"1.1\" viewBox=\"0 0 12 12\" width=\"12px\" zoomAndPan=\"magnify\"><defs/><g><!--MD5=[655b888544ca4751ea36af1068543f84]\n",
       "@startuml\r\n",
       "skinparam ranksep 8\r\n",
       " skinparam monochrome true\r\n",
       "skinparam classbackgroundcolor white\r\n",
       "skinparam shadowing false\r\n",
       "skinparam wrapWidth 300\r\n",
       "hide circle\r\n",
       "\r\n",
       "@enduml\r\n",
       "\n",
       "PlantUML version 1.2020.13(Sat Jun 13 12:26:38 UTC 2020)\n",
       "(EPL source distribution)\n",
       "Java Runtime: OpenJDK Runtime Environment\n",
       "JVM: OpenJDK 64-Bit Server VM\n",
       "Default Encoding: UTF-8\n",
       "Language: en\n",
       "Country: null\n",
       "--></g></svg>"
      ]
     },
     "execution_count": 6,
     "metadata": {},
     "output_type": "execute_result"
    }
   ],
   "source": [
    "%viz --style=\"COMPTREE\" --view=\"Action\" \"DependencyTest\""
   ]
  },
  {
   "cell_type": "code",
   "execution_count": 7,
   "id": "0f4329c8",
   "metadata": {
    "execution": {
     "iopub.execute_input": "2021-04-20T07:03:23.190919Z",
     "iopub.status.busy": "2021-04-20T07:03:23.190295Z",
     "iopub.status.idle": "2021-04-20T07:03:23.236693Z",
     "shell.execute_reply": "2021-04-20T07:03:23.235204Z"
    }
   },
   "outputs": [
    {
     "data": {
      "image/svg+xml": [
       "<?xml version=\"1.0\" encoding=\"UTF-8\" standalone=\"no\"?><svg xmlns=\"http://www.w3.org/2000/svg\" xmlns:xlink=\"http://www.w3.org/1999/xlink\" contentScriptType=\"application/ecmascript\" contentStyleType=\"text/css\" height=\"449px\" preserveAspectRatio=\"none\" style=\"width:489px;height:449px;\" version=\"1.1\" viewBox=\"0 0 489 449\" width=\"489px\" zoomAndPan=\"magnify\"><defs/><g><!--MD5=[fbc87193dbaf4d95561dea2c320d4a47]\n",
       "cluster E1--><a href=\"psysml:cb8a6054-43e9-4191-a3b4-d53f2df2fcdf\" target=\"_top\" title=\"psysml:cb8a6054-43e9-4191-a3b4-d53f2df2fcdf\" xlink:actuate=\"onRequest\" xlink:href=\"psysml:cb8a6054-43e9-4191-a3b4-d53f2df2fcdf\" xlink:show=\"new\" xlink:title=\"psysml:cb8a6054-43e9-4191-a3b4-d53f2df2fcdf\" xlink:type=\"simple\"><polygon fill=\"#FFFFFF\" points=\"16,6,156,6,163,28.2969,467,28.2969,467,437,16,437,16,6\" style=\"stroke: #000000; stroke-width: 1.5;\"/><line style=\"stroke: #000000; stroke-width: 1.5;\" x1=\"16\" x2=\"163\" y1=\"28.2969\" y2=\"28.2969\"/><text fill=\"#000000\" font-family=\"sans-serif\" font-size=\"14\" font-weight=\"bold\" lengthAdjust=\"spacingAndGlyphs\" textLength=\"134\" x=\"20\" y=\"20.9951\">DependencyTest</text></a><!--MD5=[e4f7fae6ed58524ba242bb0b0d3be6b7]\n",
       "cluster E2--><a href=\"psysml:b8ece1dd-151a-4631-92e5-c2dbf563fb8b\" target=\"_top\" title=\"psysml:b8ece1dd-151a-4631-92e5-c2dbf563fb8b\" xlink:actuate=\"onRequest\" xlink:href=\"psysml:b8ece1dd-151a-4631-92e5-c2dbf563fb8b\" xlink:show=\"new\" xlink:title=\"psysml:b8ece1dd-151a-4631-92e5-c2dbf563fb8b\" xlink:type=\"simple\"><polygon fill=\"#FFFFFF\" points=\"255,49,319,49,326,71.2969,443,71.2969,443,413,255,413,255,49\" style=\"stroke: #000000; stroke-width: 1.5;\"/><line style=\"stroke: #000000; stroke-width: 1.5;\" x1=\"255\" x2=\"326\" y1=\"71.2969\" y2=\"71.2969\"/><text fill=\"#000000\" font-family=\"sans-serif\" font-size=\"14\" font-weight=\"bold\" lengthAdjust=\"spacingAndGlyphs\" textLength=\"58\" x=\"259\" y=\"63.9951\">System</text></a><!--MD5=[60a26617385b1d2d0262a64233df1f8d]\n",
       "class E6--><a href=\"psysml:3db867e9-a237-498d-9697-66a5ca6752eb\" target=\"_top\" title=\"psysml:3db867e9-a237-498d-9697-66a5ca6752eb\" xlink:actuate=\"onRequest\" xlink:href=\"psysml:3db867e9-a237-498d-9697-66a5ca6752eb\" xlink:show=\"new\" xlink:title=\"psysml:3db867e9-a237-498d-9697-66a5ca6752eb\" xlink:type=\"simple\"><rect fill=\"#FFFFFF\" height=\"45.9375\" id=\"E6\" rx=\"10\" ry=\"10\" style=\"stroke: #383838; stroke-width: 1.5;\" width=\"71\" x=\"32.5\" y=\"217.5\"/><text fill=\"#000000\" font-family=\"sans-serif\" font-size=\"12\" font-style=\"italic\" lengthAdjust=\"spacingAndGlyphs\" textLength=\"69\" x=\"33.5\" y=\"233.6387\">«attribute»</text><text fill=\"#000000\" font-family=\"sans-serif\" font-size=\"12\" lengthAdjust=\"spacingAndGlyphs\" textLength=\"6\" x=\"65\" y=\"247.6074\">x</text><line style=\"stroke: #383838; stroke-width: 1.5;\" x1=\"33.5\" x2=\"102.5\" y1=\"255.4375\" y2=\"255.4375\"/></a><!--MD5=[2156ba9850f5573cc1fc38a6a4b2f02b]\n",
       "class E7--><a href=\"psysml:c548d046-cadc-4301-a44e-d185972c752b\" target=\"_top\" title=\"psysml:c548d046-cadc-4301-a44e-d185972c752b\" xlink:actuate=\"onRequest\" xlink:href=\"psysml:c548d046-cadc-4301-a44e-d185972c752b\" xlink:show=\"new\" xlink:title=\"psysml:c548d046-cadc-4301-a44e-d185972c752b\" xlink:type=\"simple\"><rect fill=\"#FFFFFF\" height=\"45.9375\" id=\"E7\" rx=\"10\" ry=\"10\" style=\"stroke: #383838; stroke-width: 1.5;\" width=\"71\" x=\"138.5\" y=\"217.5\"/><text fill=\"#000000\" font-family=\"sans-serif\" font-size=\"12\" font-style=\"italic\" lengthAdjust=\"spacingAndGlyphs\" textLength=\"69\" x=\"139.5\" y=\"233.6387\">«attribute»</text><text fill=\"#000000\" font-family=\"sans-serif\" font-size=\"12\" lengthAdjust=\"spacingAndGlyphs\" textLength=\"6\" x=\"171\" y=\"247.6074\">y</text><line style=\"stroke: #383838; stroke-width: 1.5;\" x1=\"139.5\" x2=\"208.5\" y1=\"255.4375\" y2=\"255.4375\"/></a><!--MD5=[b9389687b975829384b498ac4b7476b2]\n",
       "class E8--><a href=\"psysml:47dc4f88-d05c-4598-a7e7-ecfe5751dc87\" target=\"_top\" title=\"psysml:47dc4f88-d05c-4598-a7e7-ecfe5751dc87\" xlink:actuate=\"onRequest\" xlink:href=\"psysml:47dc4f88-d05c-4598-a7e7-ecfe5751dc87\" xlink:show=\"new\" xlink:title=\"psysml:47dc4f88-d05c-4598-a7e7-ecfe5751dc87\" xlink:type=\"simple\"><rect fill=\"#FFFFFF\" height=\"45.9375\" id=\"E8\" rx=\"10\" ry=\"10\" style=\"stroke: #383838; stroke-width: 1.5;\" width=\"71\" x=\"84.5\" y=\"87.5\"/><text fill=\"#000000\" font-family=\"sans-serif\" font-size=\"12\" font-style=\"italic\" lengthAdjust=\"spacingAndGlyphs\" textLength=\"69\" x=\"85.5\" y=\"103.6387\">«attribute»</text><text fill=\"#000000\" font-family=\"sans-serif\" font-size=\"12\" lengthAdjust=\"spacingAndGlyphs\" textLength=\"5\" x=\"117.5\" y=\"117.6074\">z</text><line style=\"stroke: #383838; stroke-width: 1.5;\" x1=\"85.5\" x2=\"154.5\" y1=\"125.4375\" y2=\"125.4375\"/></a><a href=\"psysml:59f5b99d-24d3-4acd-853e-8f7f0b563d54\" target=\"_top\" title=\"psysml:59f5b99d-24d3-4acd-853e-8f7f0b563d54\" xlink:actuate=\"onRequest\" xlink:href=\"psysml:59f5b99d-24d3-4acd-853e-8f7f0b563d54\" xlink:show=\"new\" xlink:title=\"psysml:59f5b99d-24d3-4acd-853e-8f7f0b563d54\" xlink:type=\"simple\"><polygon fill=\"#FFFFFF\" points=\"271,84,413,84,420,106.2969,427,106.2969,427,136.5938,271,136.5938,271,84\" style=\"stroke: #000000; stroke-width: 1.5;\"/><line style=\"stroke: #000000; stroke-width: 1.5;\" x1=\"271\" x2=\"420\" y1=\"106.2969\" y2=\"106.2969\"/><text fill=\"#000000\" font-family=\"sans-serif\" font-size=\"14\" font-weight=\"bold\" lengthAdjust=\"spacingAndGlyphs\" textLength=\"136\" x=\"275\" y=\"98.9951\">Application Layer</text></a><a href=\"psysml:5cfbc3a5-c556-4af2-acf6-f60fe409e97c\" target=\"_top\" title=\"psysml:5cfbc3a5-c556-4af2-acf6-f60fe409e97c\" xlink:actuate=\"onRequest\" xlink:href=\"psysml:5cfbc3a5-c556-4af2-acf6-f60fe409e97c\" xlink:show=\"new\" xlink:title=\"psysml:5cfbc3a5-c556-4af2-acf6-f60fe409e97c\" xlink:type=\"simple\"><polygon fill=\"#FFFFFF\" points=\"285,214,399,214,406,236.2969,413,236.2969,413,266.5938,285,266.5938,285,214\" style=\"stroke: #000000; stroke-width: 1.5;\"/><line style=\"stroke: #000000; stroke-width: 1.5;\" x1=\"285\" x2=\"406\" y1=\"236.2969\" y2=\"236.2969\"/><text fill=\"#000000\" font-family=\"sans-serif\" font-size=\"14\" font-weight=\"bold\" lengthAdjust=\"spacingAndGlyphs\" textLength=\"108\" x=\"289\" y=\"228.9951\">Service Layer</text></a><a href=\"psysml:acb31344-a810-41ff-bc38-efd03bbf6ecb\" target=\"_top\" title=\"psysml:acb31344-a810-41ff-bc38-efd03bbf6ecb\" xlink:actuate=\"onRequest\" xlink:href=\"psysml:acb31344-a810-41ff-bc38-efd03bbf6ecb\" xlink:show=\"new\" xlink:title=\"psysml:acb31344-a810-41ff-bc38-efd03bbf6ecb\" xlink:type=\"simple\"><polygon fill=\"#FFFFFF\" points=\"297,344,387,344,394,366.2969,401,366.2969,401,396.5938,297,396.5938,297,344\" style=\"stroke: #000000; stroke-width: 1.5;\"/><line style=\"stroke: #000000; stroke-width: 1.5;\" x1=\"297\" x2=\"394\" y1=\"366.2969\" y2=\"366.2969\"/><text fill=\"#000000\" font-family=\"sans-serif\" font-size=\"14\" font-weight=\"bold\" lengthAdjust=\"spacingAndGlyphs\" textLength=\"84\" x=\"301\" y=\"358.9951\">Data Layer</text></a><!--MD5=[af87c684e3b0d8be13c1a698a818ef1e]\n",
       "link E3 to E4--><a href=\"psysml:952f286e-4b84-47c6-949f-c687a4b4f029\" target=\"_top\" title=\"psysml:952f286e-4b84-47c6-949f-c687a4b4f029\" xlink:actuate=\"onRequest\" xlink:href=\"psysml:952f286e-4b84-47c6-949f-c687a4b4f029\" xlink:show=\"new\" xlink:title=\"psysml:952f286e-4b84-47c6-949f-c687a4b4f029\" xlink:type=\"simple\"><path d=\"M349,137.1 C349,156.8 349,184.22 349,205.73 \" fill=\"none\" id=\"E3-&gt;E4\" style=\"stroke: #383838; stroke-width: 1.0; stroke-dasharray: 7.0,7.0;\"/><polygon fill=\"#383838\" points=\"349,213.95,352,205.95,346,205.95,349,213.95\" style=\"stroke: #383838; stroke-width: 1.0;\"/><text fill=\"#000000\" font-family=\"sans-serif\" font-size=\"13\" lengthAdjust=\"spacingAndGlyphs\" textLength=\"64\" x=\"350\" y=\"180.0669\">«depend»</text></a><!--MD5=[1b7591eae5389033d8d09a9d6721a717]\n",
       "link E4 to E5--><a href=\"psysml:7352021b-a74c-4755-9a9f-544f5d5618ed\" target=\"_top\" title=\"psysml:7352021b-a74c-4755-9a9f-544f5d5618ed\" xlink:actuate=\"onRequest\" xlink:href=\"psysml:7352021b-a74c-4755-9a9f-544f5d5618ed\" xlink:show=\"new\" xlink:title=\"psysml:7352021b-a74c-4755-9a9f-544f5d5618ed\" xlink:type=\"simple\"><path d=\"M349,267.1 C349,286.8 349,314.22 349,335.73 \" fill=\"none\" id=\"E4-&gt;E5\" style=\"stroke: #383838; stroke-width: 1.0; stroke-dasharray: 7.0,7.0;\"/><polygon fill=\"#383838\" points=\"349,343.95,352,335.95,346,335.95,349,343.95\" style=\"stroke: #383838; stroke-width: 1.0;\"/><text fill=\"#000000\" font-family=\"sans-serif\" font-size=\"13\" lengthAdjust=\"spacingAndGlyphs\" textLength=\"64\" x=\"350\" y=\"310.0669\">«depend»</text></a><!--MD5=[c5e8897d989ce984f93528998a7150fe]\n",
       "link E8 to E6--><a href=\"psysml:c2ca5ac6-1591-4e08-969e-b115a3bed697\" target=\"_top\" title=\"psysml:c2ca5ac6-1591-4e08-969e-b115a3bed697\" xlink:actuate=\"onRequest\" xlink:href=\"psysml:c2ca5ac6-1591-4e08-969e-b115a3bed697\" xlink:show=\"new\" xlink:title=\"psysml:c2ca5ac6-1591-4e08-969e-b115a3bed697\" xlink:type=\"simple\"><path d=\"M89.42,133.6 C79.35,142.68 69.37,154.11 64,167 C58.5,180.2 58.66,195.94 60.54,209.38 \" fill=\"none\" id=\"E8-&gt;E6\" style=\"stroke: #383838; stroke-width: 1.0; stroke-dasharray: 7.0,7.0;\"/><polygon fill=\"#383838\" points=\"61.9,217.4,63.517,209.0104,57.6018,210.0159,61.9,217.4\" style=\"stroke: #383838; stroke-width: 1.0;\"/><text fill=\"#000000\" font-family=\"sans-serif\" font-size=\"13\" lengthAdjust=\"spacingAndGlyphs\" textLength=\"64\" x=\"65\" y=\"180.0669\">«depend»</text></a><!--MD5=[bfa3c8b0d15052fdf50ae9310b491027]\n",
       "link E8 to E7--><a href=\"psysml:c2ca5ac6-1591-4e08-969e-b115a3bed697\" target=\"_top\" title=\"psysml:c2ca5ac6-1591-4e08-969e-b115a3bed697\" xlink:actuate=\"onRequest\" xlink:href=\"psysml:c2ca5ac6-1591-4e08-969e-b115a3bed697\" xlink:show=\"new\" xlink:title=\"psysml:c2ca5ac6-1591-4e08-969e-b115a3bed697\" xlink:type=\"simple\"><path d=\"M129.28,133.5 C138.17,154.57 151.64,186.5 161.47,209.81 \" fill=\"none\" id=\"E8-&gt;E7\" style=\"stroke: #383838; stroke-width: 1.0; stroke-dasharray: 7.0,7.0;\"/><polygon fill=\"#383838\" points=\"164.66,217.35,164.3241,208.8126,158.7933,211.1385,164.66,217.35\" style=\"stroke: #383838; stroke-width: 1.0;\"/><text fill=\"#000000\" font-family=\"sans-serif\" font-size=\"13\" lengthAdjust=\"spacingAndGlyphs\" textLength=\"64\" x=\"151\" y=\"180.0669\">«depend»</text></a><!--MD5=[500e26fc550adf0259a604195c066221]\n",
       "@startuml\r\n",
       " skinparam monochrome true\r\n",
       "skinparam classbackgroundcolor white\r\n",
       "skinparam shadowing false\r\n",
       "skinparam wrapWidth 300\r\n",
       "hide circle\r\n",
       "\r\n",
       "package \"DependencyTest\" as E1  [[psysml:cb8a6054-43e9-4191-a3b4-d53f2df2fcdf ]]  {\r\n",
       "package \"System\" as E2  [[psysml:b8ece1dd-151a-4631-92e5-c2dbf563fb8b ]]  {\r\n",
       "package \"Application Layer\" as E3  [[psysml:59f5b99d-24d3-4acd-853e-8f7f0b563d54 ]]  {\r\n",
       "}\r\n",
       "package \"Service Layer\" as E4  [[psysml:5cfbc3a5-c556-4af2-acf6-f60fe409e97c ]]  {\r\n",
       "}\r\n",
       "package \"Data Layer\" as E5  [[psysml:acb31344-a810-41ff-bc38-efd03bbf6ecb ]]  {\r\n",
       "}\r\n",
       "}\r\n",
       "comp usage \"x\" as E6  <<(T,blue)attribute>> [[psysml:3db867e9-a237-498d-9697-66a5ca6752eb ]] {\r\n",
       "}\r\n",
       "comp usage \"y\" as E7  <<(T,blue)attribute>> [[psysml:c548d046-cadc-4301-a44e-d185972c752b ]] {\r\n",
       "}\r\n",
       "comp usage \"z\" as E8  <<(T,blue)attribute>> [[psysml:47dc4f88-d05c-4598-a7e7-ecfe5751dc87 ]] {\r\n",
       "}\r\n",
       "E3 ..>> E4 [[psysml:952f286e-4b84-47c6-949f-c687a4b4f029 ]] : <<depend>>\r\n",
       "E4 ..>> E5 [[psysml:7352021b-a74c-4755-9a9f-544f5d5618ed ]] : <<depend>>\r\n",
       "E8 ..>> E6 [[psysml:c2ca5ac6-1591-4e08-969e-b115a3bed697 ]] : <<depend>>\r\n",
       "E8 ..>> E7 [[psysml:c2ca5ac6-1591-4e08-969e-b115a3bed697 ]] : <<depend>>\r\n",
       "}\r\n",
       "@enduml\r\n",
       "\n",
       "PlantUML version 1.2020.13(Sat Jun 13 12:26:38 UTC 2020)\n",
       "(EPL source distribution)\n",
       "Java Runtime: OpenJDK Runtime Environment\n",
       "JVM: OpenJDK 64-Bit Server VM\n",
       "Default Encoding: UTF-8\n",
       "Language: en\n",
       "Country: null\n",
       "--></g></svg>"
      ]
     },
     "execution_count": 7,
     "metadata": {},
     "output_type": "execute_result"
    }
   ],
   "source": [
    "%viz --style=\"COMPTREE\" --view=\"Sequence\" \"DependencyTest\""
   ]
  },
  {
   "cell_type": "code",
   "execution_count": 8,
   "id": "54506c7f",
   "metadata": {
    "execution": {
     "iopub.execute_input": "2021-04-20T07:03:23.287567Z",
     "iopub.status.busy": "2021-04-20T07:03:23.286749Z",
     "iopub.status.idle": "2021-04-20T07:03:23.335223Z",
     "shell.execute_reply": "2021-04-20T07:03:23.333828Z"
    }
   },
   "outputs": [
    {
     "data": {
      "image/svg+xml": [
       "<?xml version=\"1.0\" encoding=\"UTF-8\" standalone=\"no\"?><svg xmlns=\"http://www.w3.org/2000/svg\" xmlns:xlink=\"http://www.w3.org/1999/xlink\" contentScriptType=\"application/ecmascript\" contentStyleType=\"text/css\" height=\"449px\" preserveAspectRatio=\"none\" style=\"width:489px;height:449px;\" version=\"1.1\" viewBox=\"0 0 489 449\" width=\"489px\" zoomAndPan=\"magnify\"><defs/><g><!--MD5=[fbc87193dbaf4d95561dea2c320d4a47]\n",
       "cluster E1--><a href=\"psysml:cb8a6054-43e9-4191-a3b4-d53f2df2fcdf\" target=\"_top\" title=\"psysml:cb8a6054-43e9-4191-a3b4-d53f2df2fcdf\" xlink:actuate=\"onRequest\" xlink:href=\"psysml:cb8a6054-43e9-4191-a3b4-d53f2df2fcdf\" xlink:show=\"new\" xlink:title=\"psysml:cb8a6054-43e9-4191-a3b4-d53f2df2fcdf\" xlink:type=\"simple\"><polygon fill=\"#FFFFFF\" points=\"16,6,156,6,163,28.2969,467,28.2969,467,437,16,437,16,6\" style=\"stroke: #000000; stroke-width: 1.5;\"/><line style=\"stroke: #000000; stroke-width: 1.5;\" x1=\"16\" x2=\"163\" y1=\"28.2969\" y2=\"28.2969\"/><text fill=\"#000000\" font-family=\"sans-serif\" font-size=\"14\" font-weight=\"bold\" lengthAdjust=\"spacingAndGlyphs\" textLength=\"134\" x=\"20\" y=\"20.9951\">DependencyTest</text></a><!--MD5=[e4f7fae6ed58524ba242bb0b0d3be6b7]\n",
       "cluster E2--><a href=\"psysml:b8ece1dd-151a-4631-92e5-c2dbf563fb8b\" target=\"_top\" title=\"psysml:b8ece1dd-151a-4631-92e5-c2dbf563fb8b\" xlink:actuate=\"onRequest\" xlink:href=\"psysml:b8ece1dd-151a-4631-92e5-c2dbf563fb8b\" xlink:show=\"new\" xlink:title=\"psysml:b8ece1dd-151a-4631-92e5-c2dbf563fb8b\" xlink:type=\"simple\"><polygon fill=\"#FFFFFF\" points=\"255,49,319,49,326,71.2969,443,71.2969,443,413,255,413,255,49\" style=\"stroke: #000000; stroke-width: 1.5;\"/><line style=\"stroke: #000000; stroke-width: 1.5;\" x1=\"255\" x2=\"326\" y1=\"71.2969\" y2=\"71.2969\"/><text fill=\"#000000\" font-family=\"sans-serif\" font-size=\"14\" font-weight=\"bold\" lengthAdjust=\"spacingAndGlyphs\" textLength=\"58\" x=\"259\" y=\"63.9951\">System</text></a><!--MD5=[60a26617385b1d2d0262a64233df1f8d]\n",
       "class E6--><a href=\"psysml:3db867e9-a237-498d-9697-66a5ca6752eb\" target=\"_top\" title=\"psysml:3db867e9-a237-498d-9697-66a5ca6752eb\" xlink:actuate=\"onRequest\" xlink:href=\"psysml:3db867e9-a237-498d-9697-66a5ca6752eb\" xlink:show=\"new\" xlink:title=\"psysml:3db867e9-a237-498d-9697-66a5ca6752eb\" xlink:type=\"simple\"><rect fill=\"#FFFFFF\" height=\"45.9375\" id=\"E6\" rx=\"10\" ry=\"10\" style=\"stroke: #383838; stroke-width: 1.5;\" width=\"71\" x=\"32.5\" y=\"217.5\"/><text fill=\"#000000\" font-family=\"sans-serif\" font-size=\"12\" font-style=\"italic\" lengthAdjust=\"spacingAndGlyphs\" textLength=\"69\" x=\"33.5\" y=\"233.6387\">«attribute»</text><text fill=\"#000000\" font-family=\"sans-serif\" font-size=\"12\" lengthAdjust=\"spacingAndGlyphs\" textLength=\"6\" x=\"65\" y=\"247.6074\">x</text><line style=\"stroke: #383838; stroke-width: 1.5;\" x1=\"33.5\" x2=\"102.5\" y1=\"255.4375\" y2=\"255.4375\"/></a><!--MD5=[2156ba9850f5573cc1fc38a6a4b2f02b]\n",
       "class E7--><a href=\"psysml:c548d046-cadc-4301-a44e-d185972c752b\" target=\"_top\" title=\"psysml:c548d046-cadc-4301-a44e-d185972c752b\" xlink:actuate=\"onRequest\" xlink:href=\"psysml:c548d046-cadc-4301-a44e-d185972c752b\" xlink:show=\"new\" xlink:title=\"psysml:c548d046-cadc-4301-a44e-d185972c752b\" xlink:type=\"simple\"><rect fill=\"#FFFFFF\" height=\"45.9375\" id=\"E7\" rx=\"10\" ry=\"10\" style=\"stroke: #383838; stroke-width: 1.5;\" width=\"71\" x=\"138.5\" y=\"217.5\"/><text fill=\"#000000\" font-family=\"sans-serif\" font-size=\"12\" font-style=\"italic\" lengthAdjust=\"spacingAndGlyphs\" textLength=\"69\" x=\"139.5\" y=\"233.6387\">«attribute»</text><text fill=\"#000000\" font-family=\"sans-serif\" font-size=\"12\" lengthAdjust=\"spacingAndGlyphs\" textLength=\"6\" x=\"171\" y=\"247.6074\">y</text><line style=\"stroke: #383838; stroke-width: 1.5;\" x1=\"139.5\" x2=\"208.5\" y1=\"255.4375\" y2=\"255.4375\"/></a><!--MD5=[b9389687b975829384b498ac4b7476b2]\n",
       "class E8--><a href=\"psysml:47dc4f88-d05c-4598-a7e7-ecfe5751dc87\" target=\"_top\" title=\"psysml:47dc4f88-d05c-4598-a7e7-ecfe5751dc87\" xlink:actuate=\"onRequest\" xlink:href=\"psysml:47dc4f88-d05c-4598-a7e7-ecfe5751dc87\" xlink:show=\"new\" xlink:title=\"psysml:47dc4f88-d05c-4598-a7e7-ecfe5751dc87\" xlink:type=\"simple\"><rect fill=\"#FFFFFF\" height=\"45.9375\" id=\"E8\" rx=\"10\" ry=\"10\" style=\"stroke: #383838; stroke-width: 1.5;\" width=\"71\" x=\"84.5\" y=\"87.5\"/><text fill=\"#000000\" font-family=\"sans-serif\" font-size=\"12\" font-style=\"italic\" lengthAdjust=\"spacingAndGlyphs\" textLength=\"69\" x=\"85.5\" y=\"103.6387\">«attribute»</text><text fill=\"#000000\" font-family=\"sans-serif\" font-size=\"12\" lengthAdjust=\"spacingAndGlyphs\" textLength=\"5\" x=\"117.5\" y=\"117.6074\">z</text><line style=\"stroke: #383838; stroke-width: 1.5;\" x1=\"85.5\" x2=\"154.5\" y1=\"125.4375\" y2=\"125.4375\"/></a><a href=\"psysml:59f5b99d-24d3-4acd-853e-8f7f0b563d54\" target=\"_top\" title=\"psysml:59f5b99d-24d3-4acd-853e-8f7f0b563d54\" xlink:actuate=\"onRequest\" xlink:href=\"psysml:59f5b99d-24d3-4acd-853e-8f7f0b563d54\" xlink:show=\"new\" xlink:title=\"psysml:59f5b99d-24d3-4acd-853e-8f7f0b563d54\" xlink:type=\"simple\"><polygon fill=\"#FFFFFF\" points=\"271,84,413,84,420,106.2969,427,106.2969,427,136.5938,271,136.5938,271,84\" style=\"stroke: #000000; stroke-width: 1.5;\"/><line style=\"stroke: #000000; stroke-width: 1.5;\" x1=\"271\" x2=\"420\" y1=\"106.2969\" y2=\"106.2969\"/><text fill=\"#000000\" font-family=\"sans-serif\" font-size=\"14\" font-weight=\"bold\" lengthAdjust=\"spacingAndGlyphs\" textLength=\"136\" x=\"275\" y=\"98.9951\">Application Layer</text></a><a href=\"psysml:5cfbc3a5-c556-4af2-acf6-f60fe409e97c\" target=\"_top\" title=\"psysml:5cfbc3a5-c556-4af2-acf6-f60fe409e97c\" xlink:actuate=\"onRequest\" xlink:href=\"psysml:5cfbc3a5-c556-4af2-acf6-f60fe409e97c\" xlink:show=\"new\" xlink:title=\"psysml:5cfbc3a5-c556-4af2-acf6-f60fe409e97c\" xlink:type=\"simple\"><polygon fill=\"#FFFFFF\" points=\"285,214,399,214,406,236.2969,413,236.2969,413,266.5938,285,266.5938,285,214\" style=\"stroke: #000000; stroke-width: 1.5;\"/><line style=\"stroke: #000000; stroke-width: 1.5;\" x1=\"285\" x2=\"406\" y1=\"236.2969\" y2=\"236.2969\"/><text fill=\"#000000\" font-family=\"sans-serif\" font-size=\"14\" font-weight=\"bold\" lengthAdjust=\"spacingAndGlyphs\" textLength=\"108\" x=\"289\" y=\"228.9951\">Service Layer</text></a><a href=\"psysml:acb31344-a810-41ff-bc38-efd03bbf6ecb\" target=\"_top\" title=\"psysml:acb31344-a810-41ff-bc38-efd03bbf6ecb\" xlink:actuate=\"onRequest\" xlink:href=\"psysml:acb31344-a810-41ff-bc38-efd03bbf6ecb\" xlink:show=\"new\" xlink:title=\"psysml:acb31344-a810-41ff-bc38-efd03bbf6ecb\" xlink:type=\"simple\"><polygon fill=\"#FFFFFF\" points=\"297,344,387,344,394,366.2969,401,366.2969,401,396.5938,297,396.5938,297,344\" style=\"stroke: #000000; stroke-width: 1.5;\"/><line style=\"stroke: #000000; stroke-width: 1.5;\" x1=\"297\" x2=\"394\" y1=\"366.2969\" y2=\"366.2969\"/><text fill=\"#000000\" font-family=\"sans-serif\" font-size=\"14\" font-weight=\"bold\" lengthAdjust=\"spacingAndGlyphs\" textLength=\"84\" x=\"301\" y=\"358.9951\">Data Layer</text></a><!--MD5=[af87c684e3b0d8be13c1a698a818ef1e]\n",
       "link E3 to E4--><a href=\"psysml:952f286e-4b84-47c6-949f-c687a4b4f029\" target=\"_top\" title=\"psysml:952f286e-4b84-47c6-949f-c687a4b4f029\" xlink:actuate=\"onRequest\" xlink:href=\"psysml:952f286e-4b84-47c6-949f-c687a4b4f029\" xlink:show=\"new\" xlink:title=\"psysml:952f286e-4b84-47c6-949f-c687a4b4f029\" xlink:type=\"simple\"><path d=\"M349,137.1 C349,156.8 349,184.22 349,205.73 \" fill=\"none\" id=\"E3-&gt;E4\" style=\"stroke: #383838; stroke-width: 1.0; stroke-dasharray: 7.0,7.0;\"/><polygon fill=\"#383838\" points=\"349,213.95,352,205.95,346,205.95,349,213.95\" style=\"stroke: #383838; stroke-width: 1.0;\"/><text fill=\"#000000\" font-family=\"sans-serif\" font-size=\"13\" lengthAdjust=\"spacingAndGlyphs\" textLength=\"64\" x=\"350\" y=\"180.0669\">«depend»</text></a><!--MD5=[1b7591eae5389033d8d09a9d6721a717]\n",
       "link E4 to E5--><a href=\"psysml:7352021b-a74c-4755-9a9f-544f5d5618ed\" target=\"_top\" title=\"psysml:7352021b-a74c-4755-9a9f-544f5d5618ed\" xlink:actuate=\"onRequest\" xlink:href=\"psysml:7352021b-a74c-4755-9a9f-544f5d5618ed\" xlink:show=\"new\" xlink:title=\"psysml:7352021b-a74c-4755-9a9f-544f5d5618ed\" xlink:type=\"simple\"><path d=\"M349,267.1 C349,286.8 349,314.22 349,335.73 \" fill=\"none\" id=\"E4-&gt;E5\" style=\"stroke: #383838; stroke-width: 1.0; stroke-dasharray: 7.0,7.0;\"/><polygon fill=\"#383838\" points=\"349,343.95,352,335.95,346,335.95,349,343.95\" style=\"stroke: #383838; stroke-width: 1.0;\"/><text fill=\"#000000\" font-family=\"sans-serif\" font-size=\"13\" lengthAdjust=\"spacingAndGlyphs\" textLength=\"64\" x=\"350\" y=\"310.0669\">«depend»</text></a><!--MD5=[c5e8897d989ce984f93528998a7150fe]\n",
       "link E8 to E6--><a href=\"psysml:c2ca5ac6-1591-4e08-969e-b115a3bed697\" target=\"_top\" title=\"psysml:c2ca5ac6-1591-4e08-969e-b115a3bed697\" xlink:actuate=\"onRequest\" xlink:href=\"psysml:c2ca5ac6-1591-4e08-969e-b115a3bed697\" xlink:show=\"new\" xlink:title=\"psysml:c2ca5ac6-1591-4e08-969e-b115a3bed697\" xlink:type=\"simple\"><path d=\"M89.42,133.6 C79.35,142.68 69.37,154.11 64,167 C58.5,180.2 58.66,195.94 60.54,209.38 \" fill=\"none\" id=\"E8-&gt;E6\" style=\"stroke: #383838; stroke-width: 1.0; stroke-dasharray: 7.0,7.0;\"/><polygon fill=\"#383838\" points=\"61.9,217.4,63.517,209.0104,57.6018,210.0159,61.9,217.4\" style=\"stroke: #383838; stroke-width: 1.0;\"/><text fill=\"#000000\" font-family=\"sans-serif\" font-size=\"13\" lengthAdjust=\"spacingAndGlyphs\" textLength=\"64\" x=\"65\" y=\"180.0669\">«depend»</text></a><!--MD5=[bfa3c8b0d15052fdf50ae9310b491027]\n",
       "link E8 to E7--><a href=\"psysml:c2ca5ac6-1591-4e08-969e-b115a3bed697\" target=\"_top\" title=\"psysml:c2ca5ac6-1591-4e08-969e-b115a3bed697\" xlink:actuate=\"onRequest\" xlink:href=\"psysml:c2ca5ac6-1591-4e08-969e-b115a3bed697\" xlink:show=\"new\" xlink:title=\"psysml:c2ca5ac6-1591-4e08-969e-b115a3bed697\" xlink:type=\"simple\"><path d=\"M129.28,133.5 C138.17,154.57 151.64,186.5 161.47,209.81 \" fill=\"none\" id=\"E8-&gt;E7\" style=\"stroke: #383838; stroke-width: 1.0; stroke-dasharray: 7.0,7.0;\"/><polygon fill=\"#383838\" points=\"164.66,217.35,164.3241,208.8126,158.7933,211.1385,164.66,217.35\" style=\"stroke: #383838; stroke-width: 1.0;\"/><text fill=\"#000000\" font-family=\"sans-serif\" font-size=\"13\" lengthAdjust=\"spacingAndGlyphs\" textLength=\"64\" x=\"151\" y=\"180.0669\">«depend»</text></a><!--MD5=[500e26fc550adf0259a604195c066221]\n",
       "@startuml\r\n",
       " skinparam monochrome true\r\n",
       "skinparam classbackgroundcolor white\r\n",
       "skinparam shadowing false\r\n",
       "skinparam wrapWidth 300\r\n",
       "hide circle\r\n",
       "\r\n",
       "package \"DependencyTest\" as E1  [[psysml:cb8a6054-43e9-4191-a3b4-d53f2df2fcdf ]]  {\r\n",
       "package \"System\" as E2  [[psysml:b8ece1dd-151a-4631-92e5-c2dbf563fb8b ]]  {\r\n",
       "package \"Application Layer\" as E3  [[psysml:59f5b99d-24d3-4acd-853e-8f7f0b563d54 ]]  {\r\n",
       "}\r\n",
       "package \"Service Layer\" as E4  [[psysml:5cfbc3a5-c556-4af2-acf6-f60fe409e97c ]]  {\r\n",
       "}\r\n",
       "package \"Data Layer\" as E5  [[psysml:acb31344-a810-41ff-bc38-efd03bbf6ecb ]]  {\r\n",
       "}\r\n",
       "}\r\n",
       "comp usage \"x\" as E6  <<(T,blue)attribute>> [[psysml:3db867e9-a237-498d-9697-66a5ca6752eb ]] {\r\n",
       "}\r\n",
       "comp usage \"y\" as E7  <<(T,blue)attribute>> [[psysml:c548d046-cadc-4301-a44e-d185972c752b ]] {\r\n",
       "}\r\n",
       "comp usage \"z\" as E8  <<(T,blue)attribute>> [[psysml:47dc4f88-d05c-4598-a7e7-ecfe5751dc87 ]] {\r\n",
       "}\r\n",
       "E3 ..>> E4 [[psysml:952f286e-4b84-47c6-949f-c687a4b4f029 ]] : <<depend>>\r\n",
       "E4 ..>> E5 [[psysml:7352021b-a74c-4755-9a9f-544f5d5618ed ]] : <<depend>>\r\n",
       "E8 ..>> E6 [[psysml:c2ca5ac6-1591-4e08-969e-b115a3bed697 ]] : <<depend>>\r\n",
       "E8 ..>> E7 [[psysml:c2ca5ac6-1591-4e08-969e-b115a3bed697 ]] : <<depend>>\r\n",
       "}\r\n",
       "@enduml\r\n",
       "\n",
       "PlantUML version 1.2020.13(Sat Jun 13 12:26:38 UTC 2020)\n",
       "(EPL source distribution)\n",
       "Java Runtime: OpenJDK Runtime Environment\n",
       "JVM: OpenJDK 64-Bit Server VM\n",
       "Default Encoding: UTF-8\n",
       "Language: en\n",
       "Country: null\n",
       "--></g></svg>"
      ]
     },
     "execution_count": 8,
     "metadata": {},
     "output_type": "execute_result"
    }
   ],
   "source": [
    "%viz --style=\"COMPTREE\" --view=\"MIXED\" \"DependencyTest\""
   ]
  },
  {
   "cell_type": "code",
   "execution_count": 9,
   "id": "b8e82819",
   "metadata": {
    "execution": {
     "iopub.execute_input": "2021-04-20T07:03:23.386162Z",
     "iopub.status.busy": "2021-04-20T07:03:23.385550Z",
     "iopub.status.idle": "2021-04-20T07:03:23.429326Z",
     "shell.execute_reply": "2021-04-20T07:03:23.429014Z"
    }
   },
   "outputs": [
    {
     "data": {
      "image/svg+xml": [
       "<?xml version=\"1.0\" encoding=\"UTF-8\" standalone=\"no\"?><svg xmlns=\"http://www.w3.org/2000/svg\" xmlns:xlink=\"http://www.w3.org/1999/xlink\" contentScriptType=\"application/ecmascript\" contentStyleType=\"text/css\" height=\"449px\" preserveAspectRatio=\"none\" style=\"width:489px;height:449px;\" version=\"1.1\" viewBox=\"0 0 489 449\" width=\"489px\" zoomAndPan=\"magnify\"><defs/><g><!--MD5=[fbc87193dbaf4d95561dea2c320d4a47]\n",
       "cluster E1--><a href=\"psysml:cb8a6054-43e9-4191-a3b4-d53f2df2fcdf\" target=\"_top\" title=\"psysml:cb8a6054-43e9-4191-a3b4-d53f2df2fcdf\" xlink:actuate=\"onRequest\" xlink:href=\"psysml:cb8a6054-43e9-4191-a3b4-d53f2df2fcdf\" xlink:show=\"new\" xlink:title=\"psysml:cb8a6054-43e9-4191-a3b4-d53f2df2fcdf\" xlink:type=\"simple\"><polygon fill=\"#FFFFFF\" points=\"16,6,156,6,163,28.2969,467,28.2969,467,437,16,437,16,6\" style=\"stroke: #000000; stroke-width: 1.5;\"/><line style=\"stroke: #000000; stroke-width: 1.5;\" x1=\"16\" x2=\"163\" y1=\"28.2969\" y2=\"28.2969\"/><text fill=\"#000000\" font-family=\"sans-serif\" font-size=\"14\" font-weight=\"bold\" lengthAdjust=\"spacingAndGlyphs\" textLength=\"134\" x=\"20\" y=\"20.9951\">DependencyTest</text></a><!--MD5=[e4f7fae6ed58524ba242bb0b0d3be6b7]\n",
       "cluster E2--><a href=\"psysml:b8ece1dd-151a-4631-92e5-c2dbf563fb8b\" target=\"_top\" title=\"psysml:b8ece1dd-151a-4631-92e5-c2dbf563fb8b\" xlink:actuate=\"onRequest\" xlink:href=\"psysml:b8ece1dd-151a-4631-92e5-c2dbf563fb8b\" xlink:show=\"new\" xlink:title=\"psysml:b8ece1dd-151a-4631-92e5-c2dbf563fb8b\" xlink:type=\"simple\"><polygon fill=\"#FFFFFF\" points=\"255,49,319,49,326,71.2969,443,71.2969,443,413,255,413,255,49\" style=\"stroke: #000000; stroke-width: 1.5;\"/><line style=\"stroke: #000000; stroke-width: 1.5;\" x1=\"255\" x2=\"326\" y1=\"71.2969\" y2=\"71.2969\"/><text fill=\"#000000\" font-family=\"sans-serif\" font-size=\"14\" font-weight=\"bold\" lengthAdjust=\"spacingAndGlyphs\" textLength=\"58\" x=\"259\" y=\"63.9951\">System</text></a><!--MD5=[60a26617385b1d2d0262a64233df1f8d]\n",
       "class E6--><a href=\"psysml:3db867e9-a237-498d-9697-66a5ca6752eb\" target=\"_top\" title=\"psysml:3db867e9-a237-498d-9697-66a5ca6752eb\" xlink:actuate=\"onRequest\" xlink:href=\"psysml:3db867e9-a237-498d-9697-66a5ca6752eb\" xlink:show=\"new\" xlink:title=\"psysml:3db867e9-a237-498d-9697-66a5ca6752eb\" xlink:type=\"simple\"><rect fill=\"#FFFFFF\" height=\"45.9375\" id=\"E6\" rx=\"10\" ry=\"10\" style=\"stroke: #383838; stroke-width: 1.5;\" width=\"71\" x=\"32.5\" y=\"217.5\"/><text fill=\"#000000\" font-family=\"sans-serif\" font-size=\"12\" font-style=\"italic\" lengthAdjust=\"spacingAndGlyphs\" textLength=\"69\" x=\"33.5\" y=\"233.6387\">«attribute»</text><text fill=\"#000000\" font-family=\"sans-serif\" font-size=\"12\" lengthAdjust=\"spacingAndGlyphs\" textLength=\"6\" x=\"65\" y=\"247.6074\">x</text><line style=\"stroke: #383838; stroke-width: 1.5;\" x1=\"33.5\" x2=\"102.5\" y1=\"255.4375\" y2=\"255.4375\"/></a><!--MD5=[2156ba9850f5573cc1fc38a6a4b2f02b]\n",
       "class E7--><a href=\"psysml:c548d046-cadc-4301-a44e-d185972c752b\" target=\"_top\" title=\"psysml:c548d046-cadc-4301-a44e-d185972c752b\" xlink:actuate=\"onRequest\" xlink:href=\"psysml:c548d046-cadc-4301-a44e-d185972c752b\" xlink:show=\"new\" xlink:title=\"psysml:c548d046-cadc-4301-a44e-d185972c752b\" xlink:type=\"simple\"><rect fill=\"#FFFFFF\" height=\"45.9375\" id=\"E7\" rx=\"10\" ry=\"10\" style=\"stroke: #383838; stroke-width: 1.5;\" width=\"71\" x=\"138.5\" y=\"217.5\"/><text fill=\"#000000\" font-family=\"sans-serif\" font-size=\"12\" font-style=\"italic\" lengthAdjust=\"spacingAndGlyphs\" textLength=\"69\" x=\"139.5\" y=\"233.6387\">«attribute»</text><text fill=\"#000000\" font-family=\"sans-serif\" font-size=\"12\" lengthAdjust=\"spacingAndGlyphs\" textLength=\"6\" x=\"171\" y=\"247.6074\">y</text><line style=\"stroke: #383838; stroke-width: 1.5;\" x1=\"139.5\" x2=\"208.5\" y1=\"255.4375\" y2=\"255.4375\"/></a><!--MD5=[b9389687b975829384b498ac4b7476b2]\n",
       "class E8--><a href=\"psysml:47dc4f88-d05c-4598-a7e7-ecfe5751dc87\" target=\"_top\" title=\"psysml:47dc4f88-d05c-4598-a7e7-ecfe5751dc87\" xlink:actuate=\"onRequest\" xlink:href=\"psysml:47dc4f88-d05c-4598-a7e7-ecfe5751dc87\" xlink:show=\"new\" xlink:title=\"psysml:47dc4f88-d05c-4598-a7e7-ecfe5751dc87\" xlink:type=\"simple\"><rect fill=\"#FFFFFF\" height=\"45.9375\" id=\"E8\" rx=\"10\" ry=\"10\" style=\"stroke: #383838; stroke-width: 1.5;\" width=\"71\" x=\"84.5\" y=\"87.5\"/><text fill=\"#000000\" font-family=\"sans-serif\" font-size=\"12\" font-style=\"italic\" lengthAdjust=\"spacingAndGlyphs\" textLength=\"69\" x=\"85.5\" y=\"103.6387\">«attribute»</text><text fill=\"#000000\" font-family=\"sans-serif\" font-size=\"12\" lengthAdjust=\"spacingAndGlyphs\" textLength=\"5\" x=\"117.5\" y=\"117.6074\">z</text><line style=\"stroke: #383838; stroke-width: 1.5;\" x1=\"85.5\" x2=\"154.5\" y1=\"125.4375\" y2=\"125.4375\"/></a><a href=\"psysml:59f5b99d-24d3-4acd-853e-8f7f0b563d54\" target=\"_top\" title=\"psysml:59f5b99d-24d3-4acd-853e-8f7f0b563d54\" xlink:actuate=\"onRequest\" xlink:href=\"psysml:59f5b99d-24d3-4acd-853e-8f7f0b563d54\" xlink:show=\"new\" xlink:title=\"psysml:59f5b99d-24d3-4acd-853e-8f7f0b563d54\" xlink:type=\"simple\"><polygon fill=\"#FFFFFF\" points=\"271,84,413,84,420,106.2969,427,106.2969,427,136.5938,271,136.5938,271,84\" style=\"stroke: #000000; stroke-width: 1.5;\"/><line style=\"stroke: #000000; stroke-width: 1.5;\" x1=\"271\" x2=\"420\" y1=\"106.2969\" y2=\"106.2969\"/><text fill=\"#000000\" font-family=\"sans-serif\" font-size=\"14\" font-weight=\"bold\" lengthAdjust=\"spacingAndGlyphs\" textLength=\"136\" x=\"275\" y=\"98.9951\">Application Layer</text></a><a href=\"psysml:5cfbc3a5-c556-4af2-acf6-f60fe409e97c\" target=\"_top\" title=\"psysml:5cfbc3a5-c556-4af2-acf6-f60fe409e97c\" xlink:actuate=\"onRequest\" xlink:href=\"psysml:5cfbc3a5-c556-4af2-acf6-f60fe409e97c\" xlink:show=\"new\" xlink:title=\"psysml:5cfbc3a5-c556-4af2-acf6-f60fe409e97c\" xlink:type=\"simple\"><polygon fill=\"#FFFFFF\" points=\"285,214,399,214,406,236.2969,413,236.2969,413,266.5938,285,266.5938,285,214\" style=\"stroke: #000000; stroke-width: 1.5;\"/><line style=\"stroke: #000000; stroke-width: 1.5;\" x1=\"285\" x2=\"406\" y1=\"236.2969\" y2=\"236.2969\"/><text fill=\"#000000\" font-family=\"sans-serif\" font-size=\"14\" font-weight=\"bold\" lengthAdjust=\"spacingAndGlyphs\" textLength=\"108\" x=\"289\" y=\"228.9951\">Service Layer</text></a><a href=\"psysml:acb31344-a810-41ff-bc38-efd03bbf6ecb\" target=\"_top\" title=\"psysml:acb31344-a810-41ff-bc38-efd03bbf6ecb\" xlink:actuate=\"onRequest\" xlink:href=\"psysml:acb31344-a810-41ff-bc38-efd03bbf6ecb\" xlink:show=\"new\" xlink:title=\"psysml:acb31344-a810-41ff-bc38-efd03bbf6ecb\" xlink:type=\"simple\"><polygon fill=\"#FFFFFF\" points=\"297,344,387,344,394,366.2969,401,366.2969,401,396.5938,297,396.5938,297,344\" style=\"stroke: #000000; stroke-width: 1.5;\"/><line style=\"stroke: #000000; stroke-width: 1.5;\" x1=\"297\" x2=\"394\" y1=\"366.2969\" y2=\"366.2969\"/><text fill=\"#000000\" font-family=\"sans-serif\" font-size=\"14\" font-weight=\"bold\" lengthAdjust=\"spacingAndGlyphs\" textLength=\"84\" x=\"301\" y=\"358.9951\">Data Layer</text></a><!--MD5=[af87c684e3b0d8be13c1a698a818ef1e]\n",
       "link E3 to E4--><a href=\"psysml:952f286e-4b84-47c6-949f-c687a4b4f029\" target=\"_top\" title=\"psysml:952f286e-4b84-47c6-949f-c687a4b4f029\" xlink:actuate=\"onRequest\" xlink:href=\"psysml:952f286e-4b84-47c6-949f-c687a4b4f029\" xlink:show=\"new\" xlink:title=\"psysml:952f286e-4b84-47c6-949f-c687a4b4f029\" xlink:type=\"simple\"><path d=\"M349,137.1 C349,156.8 349,184.22 349,205.73 \" fill=\"none\" id=\"E3-&gt;E4\" style=\"stroke: #383838; stroke-width: 1.0; stroke-dasharray: 7.0,7.0;\"/><polygon fill=\"#383838\" points=\"349,213.95,352,205.95,346,205.95,349,213.95\" style=\"stroke: #383838; stroke-width: 1.0;\"/><text fill=\"#000000\" font-family=\"sans-serif\" font-size=\"13\" lengthAdjust=\"spacingAndGlyphs\" textLength=\"64\" x=\"350\" y=\"180.0669\">«depend»</text></a><!--MD5=[1b7591eae5389033d8d09a9d6721a717]\n",
       "link E4 to E5--><a href=\"psysml:7352021b-a74c-4755-9a9f-544f5d5618ed\" target=\"_top\" title=\"psysml:7352021b-a74c-4755-9a9f-544f5d5618ed\" xlink:actuate=\"onRequest\" xlink:href=\"psysml:7352021b-a74c-4755-9a9f-544f5d5618ed\" xlink:show=\"new\" xlink:title=\"psysml:7352021b-a74c-4755-9a9f-544f5d5618ed\" xlink:type=\"simple\"><path d=\"M349,267.1 C349,286.8 349,314.22 349,335.73 \" fill=\"none\" id=\"E4-&gt;E5\" style=\"stroke: #383838; stroke-width: 1.0; stroke-dasharray: 7.0,7.0;\"/><polygon fill=\"#383838\" points=\"349,343.95,352,335.95,346,335.95,349,343.95\" style=\"stroke: #383838; stroke-width: 1.0;\"/><text fill=\"#000000\" font-family=\"sans-serif\" font-size=\"13\" lengthAdjust=\"spacingAndGlyphs\" textLength=\"64\" x=\"350\" y=\"310.0669\">«depend»</text></a><!--MD5=[c5e8897d989ce984f93528998a7150fe]\n",
       "link E8 to E6--><a href=\"psysml:c2ca5ac6-1591-4e08-969e-b115a3bed697\" target=\"_top\" title=\"psysml:c2ca5ac6-1591-4e08-969e-b115a3bed697\" xlink:actuate=\"onRequest\" xlink:href=\"psysml:c2ca5ac6-1591-4e08-969e-b115a3bed697\" xlink:show=\"new\" xlink:title=\"psysml:c2ca5ac6-1591-4e08-969e-b115a3bed697\" xlink:type=\"simple\"><path d=\"M97.55,133.75 C81.97,149.19 64,167 64,167 C64,167 64,184 64,184 C64,184 64.88,196.21 65.81,209.18 \" fill=\"none\" id=\"E8-&gt;E6\" style=\"stroke: #383838; stroke-width: 1.0; stroke-dasharray: 7.0,7.0;\"/><polygon fill=\"#383838\" points=\"66.4,217.25,68.8203,209.056,62.8357,209.485,66.4,217.25\" style=\"stroke: #383838; stroke-width: 1.0;\"/><text fill=\"#000000\" font-family=\"sans-serif\" font-size=\"13\" lengthAdjust=\"spacingAndGlyphs\" textLength=\"64\" x=\"65\" y=\"180.0669\">«depend»</text></a><!--MD5=[bfa3c8b0d15052fdf50ae9310b491027]\n",
       "link E8 to E7--><a href=\"psysml:c2ca5ac6-1591-4e08-969e-b115a3bed697\" target=\"_top\" title=\"psysml:c2ca5ac6-1591-4e08-969e-b115a3bed697\" xlink:actuate=\"onRequest\" xlink:href=\"psysml:c2ca5ac6-1591-4e08-969e-b115a3bed697\" xlink:show=\"new\" xlink:title=\"psysml:c2ca5ac6-1591-4e08-969e-b115a3bed697\" xlink:type=\"simple\"><path d=\"M129.28,133.5 C138.17,154.57 151.64,186.5 161.47,209.81 \" fill=\"none\" id=\"E8-&gt;E7\" style=\"stroke: #383838; stroke-width: 1.0; stroke-dasharray: 7.0,7.0;\"/><polygon fill=\"#383838\" points=\"164.66,217.35,164.3241,208.8126,158.7933,211.1385,164.66,217.35\" style=\"stroke: #383838; stroke-width: 1.0;\"/><text fill=\"#000000\" font-family=\"sans-serif\" font-size=\"13\" lengthAdjust=\"spacingAndGlyphs\" textLength=\"64\" x=\"151\" y=\"180.0669\">«depend»</text></a><!--MD5=[80a21bf35a3024f231add0f2dda62925]\n",
       "@startuml\r\n",
       "skinparam linetype polyline\r\n",
       "skinparam monochrome true\r\n",
       "skinparam classbackgroundcolor white\r\n",
       "skinparam shadowing false\r\n",
       "skinparam wrapWidth 300\r\n",
       "hide circle\r\n",
       "\r\n",
       "package \"DependencyTest\" as E1  [[psysml:cb8a6054-43e9-4191-a3b4-d53f2df2fcdf ]]  {\r\n",
       "package \"System\" as E2  [[psysml:b8ece1dd-151a-4631-92e5-c2dbf563fb8b ]]  {\r\n",
       "package \"Application Layer\" as E3  [[psysml:59f5b99d-24d3-4acd-853e-8f7f0b563d54 ]]  {\r\n",
       "}\r\n",
       "package \"Service Layer\" as E4  [[psysml:5cfbc3a5-c556-4af2-acf6-f60fe409e97c ]]  {\r\n",
       "}\r\n",
       "package \"Data Layer\" as E5  [[psysml:acb31344-a810-41ff-bc38-efd03bbf6ecb ]]  {\r\n",
       "}\r\n",
       "}\r\n",
       "comp usage \"x\" as E6  <<(T,blue)attribute>> [[psysml:3db867e9-a237-498d-9697-66a5ca6752eb ]] {\r\n",
       "}\r\n",
       "comp usage \"y\" as E7  <<(T,blue)attribute>> [[psysml:c548d046-cadc-4301-a44e-d185972c752b ]] {\r\n",
       "}\r\n",
       "comp usage \"z\" as E8  <<(T,blue)attribute>> [[psysml:47dc4f88-d05c-4598-a7e7-ecfe5751dc87 ]] {\r\n",
       "}\r\n",
       "E3 ..>> E4 [[psysml:952f286e-4b84-47c6-949f-c687a4b4f029 ]] : <<depend>>\r\n",
       "E4 ..>> E5 [[psysml:7352021b-a74c-4755-9a9f-544f5d5618ed ]] : <<depend>>\r\n",
       "E8 ..>> E6 [[psysml:c2ca5ac6-1591-4e08-969e-b115a3bed697 ]] : <<depend>>\r\n",
       "E8 ..>> E7 [[psysml:c2ca5ac6-1591-4e08-969e-b115a3bed697 ]] : <<depend>>\r\n",
       "}\r\n",
       "@enduml\r\n",
       "\n",
       "PlantUML version 1.2020.13(Sat Jun 13 12:26:38 UTC 2020)\n",
       "(EPL source distribution)\n",
       "Java Runtime: OpenJDK Runtime Environment\n",
       "JVM: OpenJDK 64-Bit Server VM\n",
       "Default Encoding: UTF-8\n",
       "Language: en\n",
       "Country: null\n",
       "--></g></svg>"
      ]
     },
     "execution_count": 9,
     "metadata": {},
     "output_type": "execute_result"
    }
   ],
   "source": [
    "%viz --style=\"POLYLINE\" --view=\"Default\" \"DependencyTest\""
   ]
  },
  {
   "cell_type": "code",
   "execution_count": 10,
   "id": "1ee6c2f3",
   "metadata": {
    "execution": {
     "iopub.execute_input": "2021-04-20T07:03:23.481163Z",
     "iopub.status.busy": "2021-04-20T07:03:23.480494Z",
     "iopub.status.idle": "2021-04-20T07:03:23.527091Z",
     "shell.execute_reply": "2021-04-20T07:03:23.527430Z"
    }
   },
   "outputs": [
    {
     "data": {
      "image/svg+xml": [
       "<?xml version=\"1.0\" encoding=\"UTF-8\" standalone=\"no\"?><svg xmlns=\"http://www.w3.org/2000/svg\" xmlns:xlink=\"http://www.w3.org/1999/xlink\" contentScriptType=\"application/ecmascript\" contentStyleType=\"text/css\" height=\"449px\" preserveAspectRatio=\"none\" style=\"width:489px;height:449px;\" version=\"1.1\" viewBox=\"0 0 489 449\" width=\"489px\" zoomAndPan=\"magnify\"><defs/><g><!--MD5=[fbc87193dbaf4d95561dea2c320d4a47]\n",
       "cluster E1--><a href=\"psysml:cb8a6054-43e9-4191-a3b4-d53f2df2fcdf\" target=\"_top\" title=\"psysml:cb8a6054-43e9-4191-a3b4-d53f2df2fcdf\" xlink:actuate=\"onRequest\" xlink:href=\"psysml:cb8a6054-43e9-4191-a3b4-d53f2df2fcdf\" xlink:show=\"new\" xlink:title=\"psysml:cb8a6054-43e9-4191-a3b4-d53f2df2fcdf\" xlink:type=\"simple\"><polygon fill=\"#FFFFFF\" points=\"16,6,156,6,163,28.2969,467,28.2969,467,437,16,437,16,6\" style=\"stroke: #000000; stroke-width: 1.5;\"/><line style=\"stroke: #000000; stroke-width: 1.5;\" x1=\"16\" x2=\"163\" y1=\"28.2969\" y2=\"28.2969\"/><text fill=\"#000000\" font-family=\"sans-serif\" font-size=\"14\" font-weight=\"bold\" lengthAdjust=\"spacingAndGlyphs\" textLength=\"134\" x=\"20\" y=\"20.9951\">DependencyTest</text></a><!--MD5=[e4f7fae6ed58524ba242bb0b0d3be6b7]\n",
       "cluster E2--><a href=\"psysml:b8ece1dd-151a-4631-92e5-c2dbf563fb8b\" target=\"_top\" title=\"psysml:b8ece1dd-151a-4631-92e5-c2dbf563fb8b\" xlink:actuate=\"onRequest\" xlink:href=\"psysml:b8ece1dd-151a-4631-92e5-c2dbf563fb8b\" xlink:show=\"new\" xlink:title=\"psysml:b8ece1dd-151a-4631-92e5-c2dbf563fb8b\" xlink:type=\"simple\"><polygon fill=\"#FFFFFF\" points=\"255,49,319,49,326,71.2969,443,71.2969,443,413,255,413,255,49\" style=\"stroke: #000000; stroke-width: 1.5;\"/><line style=\"stroke: #000000; stroke-width: 1.5;\" x1=\"255\" x2=\"326\" y1=\"71.2969\" y2=\"71.2969\"/><text fill=\"#000000\" font-family=\"sans-serif\" font-size=\"14\" font-weight=\"bold\" lengthAdjust=\"spacingAndGlyphs\" textLength=\"58\" x=\"259\" y=\"63.9951\">System</text></a><!--MD5=[60a26617385b1d2d0262a64233df1f8d]\n",
       "class E6--><a href=\"psysml:3db867e9-a237-498d-9697-66a5ca6752eb\" target=\"_top\" title=\"psysml:3db867e9-a237-498d-9697-66a5ca6752eb\" xlink:actuate=\"onRequest\" xlink:href=\"psysml:3db867e9-a237-498d-9697-66a5ca6752eb\" xlink:show=\"new\" xlink:title=\"psysml:3db867e9-a237-498d-9697-66a5ca6752eb\" xlink:type=\"simple\"><rect fill=\"#FFFFFF\" height=\"45.9375\" id=\"E6\" rx=\"10\" ry=\"10\" style=\"stroke: #383838; stroke-width: 1.5;\" width=\"71\" x=\"32.5\" y=\"217.5\"/><text fill=\"#000000\" font-family=\"sans-serif\" font-size=\"12\" font-style=\"italic\" lengthAdjust=\"spacingAndGlyphs\" textLength=\"69\" x=\"33.5\" y=\"233.6387\">«attribute»</text><text fill=\"#000000\" font-family=\"sans-serif\" font-size=\"12\" lengthAdjust=\"spacingAndGlyphs\" textLength=\"6\" x=\"65\" y=\"247.6074\">x</text><line style=\"stroke: #383838; stroke-width: 1.5;\" x1=\"33.5\" x2=\"102.5\" y1=\"255.4375\" y2=\"255.4375\"/></a><!--MD5=[2156ba9850f5573cc1fc38a6a4b2f02b]\n",
       "class E7--><a href=\"psysml:c548d046-cadc-4301-a44e-d185972c752b\" target=\"_top\" title=\"psysml:c548d046-cadc-4301-a44e-d185972c752b\" xlink:actuate=\"onRequest\" xlink:href=\"psysml:c548d046-cadc-4301-a44e-d185972c752b\" xlink:show=\"new\" xlink:title=\"psysml:c548d046-cadc-4301-a44e-d185972c752b\" xlink:type=\"simple\"><rect fill=\"#FFFFFF\" height=\"45.9375\" id=\"E7\" rx=\"10\" ry=\"10\" style=\"stroke: #383838; stroke-width: 1.5;\" width=\"71\" x=\"138.5\" y=\"217.5\"/><text fill=\"#000000\" font-family=\"sans-serif\" font-size=\"12\" font-style=\"italic\" lengthAdjust=\"spacingAndGlyphs\" textLength=\"69\" x=\"139.5\" y=\"233.6387\">«attribute»</text><text fill=\"#000000\" font-family=\"sans-serif\" font-size=\"12\" lengthAdjust=\"spacingAndGlyphs\" textLength=\"6\" x=\"171\" y=\"247.6074\">y</text><line style=\"stroke: #383838; stroke-width: 1.5;\" x1=\"139.5\" x2=\"208.5\" y1=\"255.4375\" y2=\"255.4375\"/></a><!--MD5=[b9389687b975829384b498ac4b7476b2]\n",
       "class E8--><a href=\"psysml:47dc4f88-d05c-4598-a7e7-ecfe5751dc87\" target=\"_top\" title=\"psysml:47dc4f88-d05c-4598-a7e7-ecfe5751dc87\" xlink:actuate=\"onRequest\" xlink:href=\"psysml:47dc4f88-d05c-4598-a7e7-ecfe5751dc87\" xlink:show=\"new\" xlink:title=\"psysml:47dc4f88-d05c-4598-a7e7-ecfe5751dc87\" xlink:type=\"simple\"><rect fill=\"#FFFFFF\" height=\"45.9375\" id=\"E8\" rx=\"10\" ry=\"10\" style=\"stroke: #383838; stroke-width: 1.5;\" width=\"71\" x=\"84.5\" y=\"87.5\"/><text fill=\"#000000\" font-family=\"sans-serif\" font-size=\"12\" font-style=\"italic\" lengthAdjust=\"spacingAndGlyphs\" textLength=\"69\" x=\"85.5\" y=\"103.6387\">«attribute»</text><text fill=\"#000000\" font-family=\"sans-serif\" font-size=\"12\" lengthAdjust=\"spacingAndGlyphs\" textLength=\"5\" x=\"117.5\" y=\"117.6074\">z</text><line style=\"stroke: #383838; stroke-width: 1.5;\" x1=\"85.5\" x2=\"154.5\" y1=\"125.4375\" y2=\"125.4375\"/></a><a href=\"psysml:59f5b99d-24d3-4acd-853e-8f7f0b563d54\" target=\"_top\" title=\"psysml:59f5b99d-24d3-4acd-853e-8f7f0b563d54\" xlink:actuate=\"onRequest\" xlink:href=\"psysml:59f5b99d-24d3-4acd-853e-8f7f0b563d54\" xlink:show=\"new\" xlink:title=\"psysml:59f5b99d-24d3-4acd-853e-8f7f0b563d54\" xlink:type=\"simple\"><polygon fill=\"#FFFFFF\" points=\"271,84,413,84,420,106.2969,427,106.2969,427,136.5938,271,136.5938,271,84\" style=\"stroke: #000000; stroke-width: 1.5;\"/><line style=\"stroke: #000000; stroke-width: 1.5;\" x1=\"271\" x2=\"420\" y1=\"106.2969\" y2=\"106.2969\"/><text fill=\"#000000\" font-family=\"sans-serif\" font-size=\"14\" font-weight=\"bold\" lengthAdjust=\"spacingAndGlyphs\" textLength=\"136\" x=\"275\" y=\"98.9951\">Application Layer</text></a><a href=\"psysml:5cfbc3a5-c556-4af2-acf6-f60fe409e97c\" target=\"_top\" title=\"psysml:5cfbc3a5-c556-4af2-acf6-f60fe409e97c\" xlink:actuate=\"onRequest\" xlink:href=\"psysml:5cfbc3a5-c556-4af2-acf6-f60fe409e97c\" xlink:show=\"new\" xlink:title=\"psysml:5cfbc3a5-c556-4af2-acf6-f60fe409e97c\" xlink:type=\"simple\"><polygon fill=\"#FFFFFF\" points=\"285,214,399,214,406,236.2969,413,236.2969,413,266.5938,285,266.5938,285,214\" style=\"stroke: #000000; stroke-width: 1.5;\"/><line style=\"stroke: #000000; stroke-width: 1.5;\" x1=\"285\" x2=\"406\" y1=\"236.2969\" y2=\"236.2969\"/><text fill=\"#000000\" font-family=\"sans-serif\" font-size=\"14\" font-weight=\"bold\" lengthAdjust=\"spacingAndGlyphs\" textLength=\"108\" x=\"289\" y=\"228.9951\">Service Layer</text></a><a href=\"psysml:acb31344-a810-41ff-bc38-efd03bbf6ecb\" target=\"_top\" title=\"psysml:acb31344-a810-41ff-bc38-efd03bbf6ecb\" xlink:actuate=\"onRequest\" xlink:href=\"psysml:acb31344-a810-41ff-bc38-efd03bbf6ecb\" xlink:show=\"new\" xlink:title=\"psysml:acb31344-a810-41ff-bc38-efd03bbf6ecb\" xlink:type=\"simple\"><polygon fill=\"#FFFFFF\" points=\"297,344,387,344,394,366.2969,401,366.2969,401,396.5938,297,396.5938,297,344\" style=\"stroke: #000000; stroke-width: 1.5;\"/><line style=\"stroke: #000000; stroke-width: 1.5;\" x1=\"297\" x2=\"394\" y1=\"366.2969\" y2=\"366.2969\"/><text fill=\"#000000\" font-family=\"sans-serif\" font-size=\"14\" font-weight=\"bold\" lengthAdjust=\"spacingAndGlyphs\" textLength=\"84\" x=\"301\" y=\"358.9951\">Data Layer</text></a><!--MD5=[af87c684e3b0d8be13c1a698a818ef1e]\n",
       "link E3 to E4--><a href=\"psysml:952f286e-4b84-47c6-949f-c687a4b4f029\" target=\"_top\" title=\"psysml:952f286e-4b84-47c6-949f-c687a4b4f029\" xlink:actuate=\"onRequest\" xlink:href=\"psysml:952f286e-4b84-47c6-949f-c687a4b4f029\" xlink:show=\"new\" xlink:title=\"psysml:952f286e-4b84-47c6-949f-c687a4b4f029\" xlink:type=\"simple\"><path d=\"M349,137.1 C349,156.8 349,184.22 349,205.73 \" fill=\"none\" id=\"E3-&gt;E4\" style=\"stroke: #383838; stroke-width: 1.0; stroke-dasharray: 7.0,7.0;\"/><polygon fill=\"#383838\" points=\"349,213.95,352,205.95,346,205.95,349,213.95\" style=\"stroke: #383838; stroke-width: 1.0;\"/><text fill=\"#000000\" font-family=\"sans-serif\" font-size=\"13\" lengthAdjust=\"spacingAndGlyphs\" textLength=\"64\" x=\"350\" y=\"180.0669\">«depend»</text></a><!--MD5=[1b7591eae5389033d8d09a9d6721a717]\n",
       "link E4 to E5--><a href=\"psysml:7352021b-a74c-4755-9a9f-544f5d5618ed\" target=\"_top\" title=\"psysml:7352021b-a74c-4755-9a9f-544f5d5618ed\" xlink:actuate=\"onRequest\" xlink:href=\"psysml:7352021b-a74c-4755-9a9f-544f5d5618ed\" xlink:show=\"new\" xlink:title=\"psysml:7352021b-a74c-4755-9a9f-544f5d5618ed\" xlink:type=\"simple\"><path d=\"M349,267.1 C349,286.8 349,314.22 349,335.73 \" fill=\"none\" id=\"E4-&gt;E5\" style=\"stroke: #383838; stroke-width: 1.0; stroke-dasharray: 7.0,7.0;\"/><polygon fill=\"#383838\" points=\"349,343.95,352,335.95,346,335.95,349,343.95\" style=\"stroke: #383838; stroke-width: 1.0;\"/><text fill=\"#000000\" font-family=\"sans-serif\" font-size=\"13\" lengthAdjust=\"spacingAndGlyphs\" textLength=\"64\" x=\"350\" y=\"310.0669\">«depend»</text></a><!--MD5=[c5e8897d989ce984f93528998a7150fe]\n",
       "link E8 to E6--><a href=\"psysml:c2ca5ac6-1591-4e08-969e-b115a3bed697\" target=\"_top\" title=\"psysml:c2ca5ac6-1591-4e08-969e-b115a3bed697\" xlink:actuate=\"onRequest\" xlink:href=\"psysml:c2ca5ac6-1591-4e08-969e-b115a3bed697\" xlink:show=\"new\" xlink:title=\"psysml:c2ca5ac6-1591-4e08-969e-b115a3bed697\" xlink:type=\"simple\"><path d=\"M97.55,133.75 C81.97,149.19 64,167 64,167 C64,167 64,184 64,184 C64,184 64.88,196.21 65.81,209.18 \" fill=\"none\" id=\"E8-&gt;E6\" style=\"stroke: #383838; stroke-width: 1.0; stroke-dasharray: 7.0,7.0;\"/><polygon fill=\"#383838\" points=\"66.4,217.25,68.8203,209.056,62.8357,209.485,66.4,217.25\" style=\"stroke: #383838; stroke-width: 1.0;\"/><text fill=\"#000000\" font-family=\"sans-serif\" font-size=\"13\" lengthAdjust=\"spacingAndGlyphs\" textLength=\"64\" x=\"65\" y=\"180.0669\">«depend»</text></a><!--MD5=[bfa3c8b0d15052fdf50ae9310b491027]\n",
       "link E8 to E7--><a href=\"psysml:c2ca5ac6-1591-4e08-969e-b115a3bed697\" target=\"_top\" title=\"psysml:c2ca5ac6-1591-4e08-969e-b115a3bed697\" xlink:actuate=\"onRequest\" xlink:href=\"psysml:c2ca5ac6-1591-4e08-969e-b115a3bed697\" xlink:show=\"new\" xlink:title=\"psysml:c2ca5ac6-1591-4e08-969e-b115a3bed697\" xlink:type=\"simple\"><path d=\"M129.28,133.5 C138.17,154.57 151.64,186.5 161.47,209.81 \" fill=\"none\" id=\"E8-&gt;E7\" style=\"stroke: #383838; stroke-width: 1.0; stroke-dasharray: 7.0,7.0;\"/><polygon fill=\"#383838\" points=\"164.66,217.35,164.3241,208.8126,158.7933,211.1385,164.66,217.35\" style=\"stroke: #383838; stroke-width: 1.0;\"/><text fill=\"#000000\" font-family=\"sans-serif\" font-size=\"13\" lengthAdjust=\"spacingAndGlyphs\" textLength=\"64\" x=\"151\" y=\"180.0669\">«depend»</text></a><!--MD5=[80a21bf35a3024f231add0f2dda62925]\n",
       "@startuml\r\n",
       "skinparam linetype polyline\r\n",
       "skinparam monochrome true\r\n",
       "skinparam classbackgroundcolor white\r\n",
       "skinparam shadowing false\r\n",
       "skinparam wrapWidth 300\r\n",
       "hide circle\r\n",
       "\r\n",
       "package \"DependencyTest\" as E1  [[psysml:cb8a6054-43e9-4191-a3b4-d53f2df2fcdf ]]  {\r\n",
       "package \"System\" as E2  [[psysml:b8ece1dd-151a-4631-92e5-c2dbf563fb8b ]]  {\r\n",
       "package \"Application Layer\" as E3  [[psysml:59f5b99d-24d3-4acd-853e-8f7f0b563d54 ]]  {\r\n",
       "}\r\n",
       "package \"Service Layer\" as E4  [[psysml:5cfbc3a5-c556-4af2-acf6-f60fe409e97c ]]  {\r\n",
       "}\r\n",
       "package \"Data Layer\" as E5  [[psysml:acb31344-a810-41ff-bc38-efd03bbf6ecb ]]  {\r\n",
       "}\r\n",
       "}\r\n",
       "comp usage \"x\" as E6  <<(T,blue)attribute>> [[psysml:3db867e9-a237-498d-9697-66a5ca6752eb ]] {\r\n",
       "}\r\n",
       "comp usage \"y\" as E7  <<(T,blue)attribute>> [[psysml:c548d046-cadc-4301-a44e-d185972c752b ]] {\r\n",
       "}\r\n",
       "comp usage \"z\" as E8  <<(T,blue)attribute>> [[psysml:47dc4f88-d05c-4598-a7e7-ecfe5751dc87 ]] {\r\n",
       "}\r\n",
       "E3 ..>> E4 [[psysml:952f286e-4b84-47c6-949f-c687a4b4f029 ]] : <<depend>>\r\n",
       "E4 ..>> E5 [[psysml:7352021b-a74c-4755-9a9f-544f5d5618ed ]] : <<depend>>\r\n",
       "E8 ..>> E6 [[psysml:c2ca5ac6-1591-4e08-969e-b115a3bed697 ]] : <<depend>>\r\n",
       "E8 ..>> E7 [[psysml:c2ca5ac6-1591-4e08-969e-b115a3bed697 ]] : <<depend>>\r\n",
       "}\r\n",
       "@enduml\r\n",
       "\n",
       "PlantUML version 1.2020.13(Sat Jun 13 12:26:38 UTC 2020)\n",
       "(EPL source distribution)\n",
       "Java Runtime: OpenJDK Runtime Environment\n",
       "JVM: OpenJDK 64-Bit Server VM\n",
       "Default Encoding: UTF-8\n",
       "Language: en\n",
       "Country: null\n",
       "--></g></svg>"
      ]
     },
     "execution_count": 10,
     "metadata": {},
     "output_type": "execute_result"
    }
   ],
   "source": [
    "%viz --style=\"POLYLINE\" --view=\"Tree\" \"DependencyTest\""
   ]
  },
  {
   "cell_type": "code",
   "execution_count": 11,
   "id": "1c528285",
   "metadata": {
    "execution": {
     "iopub.execute_input": "2021-04-20T07:03:23.578288Z",
     "iopub.status.busy": "2021-04-20T07:03:23.577528Z",
     "iopub.status.idle": "2021-04-20T07:03:23.583548Z",
     "shell.execute_reply": "2021-04-20T07:03:23.583943Z"
    }
   },
   "outputs": [
    {
     "data": {
      "image/svg+xml": [
       "<?xml version=\"1.0\" encoding=\"UTF-8\" standalone=\"no\"?><svg xmlns=\"http://www.w3.org/2000/svg\" xmlns:xlink=\"http://www.w3.org/1999/xlink\" contentScriptType=\"application/ecmascript\" contentStyleType=\"text/css\" height=\"12px\" preserveAspectRatio=\"none\" style=\"width:12px;height:12px;\" version=\"1.1\" viewBox=\"0 0 12 12\" width=\"12px\" zoomAndPan=\"magnify\"><defs/><g><!--MD5=[896ac0e7a515d8dd7765a661cb4ee08b]\n",
       "@startuml\r\n",
       "skinparam linetype polyline\r\n",
       "skinparam monochrome true\r\n",
       "skinparam classbackgroundcolor white\r\n",
       "skinparam shadowing false\r\n",
       "skinparam wrapWidth 300\r\n",
       "hide circle\r\n",
       "\r\n",
       "@enduml\r\n",
       "\n",
       "PlantUML version 1.2020.13(Sat Jun 13 12:26:38 UTC 2020)\n",
       "(EPL source distribution)\n",
       "Java Runtime: OpenJDK Runtime Environment\n",
       "JVM: OpenJDK 64-Bit Server VM\n",
       "Default Encoding: UTF-8\n",
       "Language: en\n",
       "Country: null\n",
       "--></g></svg>"
      ]
     },
     "execution_count": 11,
     "metadata": {},
     "output_type": "execute_result"
    }
   ],
   "source": [
    "%viz --style=\"POLYLINE\" --view=\"State\" \"DependencyTest\""
   ]
  },
  {
   "cell_type": "code",
   "execution_count": 12,
   "id": "7b33d55c",
   "metadata": {
    "execution": {
     "iopub.execute_input": "2021-04-20T07:03:23.634824Z",
     "iopub.status.busy": "2021-04-20T07:03:23.634366Z",
     "iopub.status.idle": "2021-04-20T07:03:23.703466Z",
     "shell.execute_reply": "2021-04-20T07:03:23.703164Z"
    }
   },
   "outputs": [
    {
     "data": {
      "image/svg+xml": [
       "<?xml version=\"1.0\" encoding=\"UTF-8\" standalone=\"no\"?><svg xmlns=\"http://www.w3.org/2000/svg\" xmlns:xlink=\"http://www.w3.org/1999/xlink\" contentScriptType=\"application/ecmascript\" contentStyleType=\"text/css\" height=\"361px\" preserveAspectRatio=\"none\" style=\"width:489px;height:361px;\" version=\"1.1\" viewBox=\"0 0 489 361\" width=\"489px\" zoomAndPan=\"magnify\"><defs/><g><!--MD5=[fbc87193dbaf4d95561dea2c320d4a47]\n",
       "cluster E1--><a href=\"psysml:cb8a6054-43e9-4191-a3b4-d53f2df2fcdf\" target=\"_top\" title=\"psysml:cb8a6054-43e9-4191-a3b4-d53f2df2fcdf\" xlink:actuate=\"onRequest\" xlink:href=\"psysml:cb8a6054-43e9-4191-a3b4-d53f2df2fcdf\" xlink:show=\"new\" xlink:title=\"psysml:cb8a6054-43e9-4191-a3b4-d53f2df2fcdf\" xlink:type=\"simple\"><polygon fill=\"#FFFFFF\" points=\"16,6,156,6,163,28.2969,467,28.2969,467,349,16,349,16,6\" style=\"stroke: #000000; stroke-width: 1.5;\"/><line style=\"stroke: #000000; stroke-width: 1.5;\" x1=\"16\" x2=\"163\" y1=\"28.2969\" y2=\"28.2969\"/><text fill=\"#000000\" font-family=\"sans-serif\" font-size=\"14\" font-weight=\"bold\" lengthAdjust=\"spacingAndGlyphs\" textLength=\"134\" x=\"20\" y=\"20.9951\">DependencyTest</text></a><!--MD5=[e4f7fae6ed58524ba242bb0b0d3be6b7]\n",
       "cluster E2--><a href=\"psysml:b8ece1dd-151a-4631-92e5-c2dbf563fb8b\" target=\"_top\" title=\"psysml:b8ece1dd-151a-4631-92e5-c2dbf563fb8b\" xlink:actuate=\"onRequest\" xlink:href=\"psysml:b8ece1dd-151a-4631-92e5-c2dbf563fb8b\" xlink:show=\"new\" xlink:title=\"psysml:b8ece1dd-151a-4631-92e5-c2dbf563fb8b\" xlink:type=\"simple\"><polygon fill=\"#FFFFFF\" points=\"255,49,319,49,326,71.2969,443,71.2969,443,325,255,325,255,49\" style=\"stroke: #000000; stroke-width: 1.5;\"/><line style=\"stroke: #000000; stroke-width: 1.5;\" x1=\"255\" x2=\"326\" y1=\"71.2969\" y2=\"71.2969\"/><text fill=\"#000000\" font-family=\"sans-serif\" font-size=\"14\" font-weight=\"bold\" lengthAdjust=\"spacingAndGlyphs\" textLength=\"58\" x=\"259\" y=\"63.9951\">System</text></a><!--MD5=[60a26617385b1d2d0262a64233df1f8d]\n",
       "class E6--><a href=\"psysml:3db867e9-a237-498d-9697-66a5ca6752eb\" target=\"_top\" title=\"psysml:3db867e9-a237-498d-9697-66a5ca6752eb\" xlink:actuate=\"onRequest\" xlink:href=\"psysml:3db867e9-a237-498d-9697-66a5ca6752eb\" xlink:show=\"new\" xlink:title=\"psysml:3db867e9-a237-498d-9697-66a5ca6752eb\" xlink:type=\"simple\"><rect fill=\"#FFFFFF\" height=\"45.9375\" id=\"E6\" rx=\"10\" ry=\"10\" style=\"stroke: #383838; stroke-width: 1.5;\" width=\"71\" x=\"32.5\" y=\"173.5\"/><text fill=\"#000000\" font-family=\"sans-serif\" font-size=\"12\" font-style=\"italic\" lengthAdjust=\"spacingAndGlyphs\" textLength=\"69\" x=\"33.5\" y=\"189.6387\">«attribute»</text><text fill=\"#000000\" font-family=\"sans-serif\" font-size=\"12\" lengthAdjust=\"spacingAndGlyphs\" textLength=\"6\" x=\"65\" y=\"203.6074\">x</text><line style=\"stroke: #383838; stroke-width: 1.5;\" x1=\"33.5\" x2=\"102.5\" y1=\"211.4375\" y2=\"211.4375\"/></a><!--MD5=[2156ba9850f5573cc1fc38a6a4b2f02b]\n",
       "class E7--><a href=\"psysml:c548d046-cadc-4301-a44e-d185972c752b\" target=\"_top\" title=\"psysml:c548d046-cadc-4301-a44e-d185972c752b\" xlink:actuate=\"onRequest\" xlink:href=\"psysml:c548d046-cadc-4301-a44e-d185972c752b\" xlink:show=\"new\" xlink:title=\"psysml:c548d046-cadc-4301-a44e-d185972c752b\" xlink:type=\"simple\"><rect fill=\"#FFFFFF\" height=\"45.9375\" id=\"E7\" rx=\"10\" ry=\"10\" style=\"stroke: #383838; stroke-width: 1.5;\" width=\"71\" x=\"138.5\" y=\"173.5\"/><text fill=\"#000000\" font-family=\"sans-serif\" font-size=\"12\" font-style=\"italic\" lengthAdjust=\"spacingAndGlyphs\" textLength=\"69\" x=\"139.5\" y=\"189.6387\">«attribute»</text><text fill=\"#000000\" font-family=\"sans-serif\" font-size=\"12\" lengthAdjust=\"spacingAndGlyphs\" textLength=\"6\" x=\"171\" y=\"203.6074\">y</text><line style=\"stroke: #383838; stroke-width: 1.5;\" x1=\"139.5\" x2=\"208.5\" y1=\"211.4375\" y2=\"211.4375\"/></a><!--MD5=[b9389687b975829384b498ac4b7476b2]\n",
       "class E8--><a href=\"psysml:47dc4f88-d05c-4598-a7e7-ecfe5751dc87\" target=\"_top\" title=\"psysml:47dc4f88-d05c-4598-a7e7-ecfe5751dc87\" xlink:actuate=\"onRequest\" xlink:href=\"psysml:47dc4f88-d05c-4598-a7e7-ecfe5751dc87\" xlink:show=\"new\" xlink:title=\"psysml:47dc4f88-d05c-4598-a7e7-ecfe5751dc87\" xlink:type=\"simple\"><rect fill=\"#FFFFFF\" height=\"45.9375\" id=\"E8\" rx=\"10\" ry=\"10\" style=\"stroke: #383838; stroke-width: 1.5;\" width=\"71\" x=\"84.5\" y=\"87.5\"/><text fill=\"#000000\" font-family=\"sans-serif\" font-size=\"12\" font-style=\"italic\" lengthAdjust=\"spacingAndGlyphs\" textLength=\"69\" x=\"85.5\" y=\"103.6387\">«attribute»</text><text fill=\"#000000\" font-family=\"sans-serif\" font-size=\"12\" lengthAdjust=\"spacingAndGlyphs\" textLength=\"5\" x=\"117.5\" y=\"117.6074\">z</text><line style=\"stroke: #383838; stroke-width: 1.5;\" x1=\"85.5\" x2=\"154.5\" y1=\"125.4375\" y2=\"125.4375\"/></a><a href=\"psysml:59f5b99d-24d3-4acd-853e-8f7f0b563d54\" target=\"_top\" title=\"psysml:59f5b99d-24d3-4acd-853e-8f7f0b563d54\" xlink:actuate=\"onRequest\" xlink:href=\"psysml:59f5b99d-24d3-4acd-853e-8f7f0b563d54\" xlink:show=\"new\" xlink:title=\"psysml:59f5b99d-24d3-4acd-853e-8f7f0b563d54\" xlink:type=\"simple\"><polygon fill=\"#FFFFFF\" points=\"271,84,413,84,420,106.2969,427,106.2969,427,136.5938,271,136.5938,271,84\" style=\"stroke: #000000; stroke-width: 1.5;\"/><line style=\"stroke: #000000; stroke-width: 1.5;\" x1=\"271\" x2=\"420\" y1=\"106.2969\" y2=\"106.2969\"/><text fill=\"#000000\" font-family=\"sans-serif\" font-size=\"14\" font-weight=\"bold\" lengthAdjust=\"spacingAndGlyphs\" textLength=\"136\" x=\"275\" y=\"98.9951\">Application Layer</text></a><a href=\"psysml:5cfbc3a5-c556-4af2-acf6-f60fe409e97c\" target=\"_top\" title=\"psysml:5cfbc3a5-c556-4af2-acf6-f60fe409e97c\" xlink:actuate=\"onRequest\" xlink:href=\"psysml:5cfbc3a5-c556-4af2-acf6-f60fe409e97c\" xlink:show=\"new\" xlink:title=\"psysml:5cfbc3a5-c556-4af2-acf6-f60fe409e97c\" xlink:type=\"simple\"><polygon fill=\"#FFFFFF\" points=\"285,170,399,170,406,192.2969,413,192.2969,413,222.5938,285,222.5938,285,170\" style=\"stroke: #000000; stroke-width: 1.5;\"/><line style=\"stroke: #000000; stroke-width: 1.5;\" x1=\"285\" x2=\"406\" y1=\"192.2969\" y2=\"192.2969\"/><text fill=\"#000000\" font-family=\"sans-serif\" font-size=\"14\" font-weight=\"bold\" lengthAdjust=\"spacingAndGlyphs\" textLength=\"108\" x=\"289\" y=\"184.9951\">Service Layer</text></a><a href=\"psysml:acb31344-a810-41ff-bc38-efd03bbf6ecb\" target=\"_top\" title=\"psysml:acb31344-a810-41ff-bc38-efd03bbf6ecb\" xlink:actuate=\"onRequest\" xlink:href=\"psysml:acb31344-a810-41ff-bc38-efd03bbf6ecb\" xlink:show=\"new\" xlink:title=\"psysml:acb31344-a810-41ff-bc38-efd03bbf6ecb\" xlink:type=\"simple\"><polygon fill=\"#FFFFFF\" points=\"297,256,387,256,394,278.2969,401,278.2969,401,308.5938,297,308.5938,297,256\" style=\"stroke: #000000; stroke-width: 1.5;\"/><line style=\"stroke: #000000; stroke-width: 1.5;\" x1=\"297\" x2=\"394\" y1=\"278.2969\" y2=\"278.2969\"/><text fill=\"#000000\" font-family=\"sans-serif\" font-size=\"14\" font-weight=\"bold\" lengthAdjust=\"spacingAndGlyphs\" textLength=\"84\" x=\"301\" y=\"270.9951\">Data Layer</text></a><!--MD5=[af87c684e3b0d8be13c1a698a818ef1e]\n",
       "link E3 to E4--><a href=\"psysml:952f286e-4b84-47c6-949f-c687a4b4f029\" target=\"_top\" title=\"psysml:952f286e-4b84-47c6-949f-c687a4b4f029\" xlink:actuate=\"onRequest\" xlink:href=\"psysml:952f286e-4b84-47c6-949f-c687a4b4f029\" xlink:show=\"new\" xlink:title=\"psysml:952f286e-4b84-47c6-949f-c687a4b4f029\" xlink:type=\"simple\"><path d=\"M349,137.16 C349,144.98 349,153.69 349,161.94 \" fill=\"none\" id=\"E3-&gt;E4\" style=\"stroke: #383838; stroke-width: 1.0; stroke-dasharray: 7.0,7.0;\"/><polygon fill=\"#383838\" points=\"349,170,352,162,346,162,349,170\" style=\"stroke: #383838; stroke-width: 1.0;\"/><text fill=\"#000000\" font-family=\"sans-serif\" font-size=\"13\" lengthAdjust=\"spacingAndGlyphs\" textLength=\"64\" x=\"350\" y=\"158.0669\">«depend»</text></a><!--MD5=[1b7591eae5389033d8d09a9d6721a717]\n",
       "link E4 to E5--><a href=\"psysml:7352021b-a74c-4755-9a9f-544f5d5618ed\" target=\"_top\" title=\"psysml:7352021b-a74c-4755-9a9f-544f5d5618ed\" xlink:actuate=\"onRequest\" xlink:href=\"psysml:7352021b-a74c-4755-9a9f-544f5d5618ed\" xlink:show=\"new\" xlink:title=\"psysml:7352021b-a74c-4755-9a9f-544f5d5618ed\" xlink:type=\"simple\"><path d=\"M349,223.16 C349,230.98 349,239.69 349,247.94 \" fill=\"none\" id=\"E4-&gt;E5\" style=\"stroke: #383838; stroke-width: 1.0; stroke-dasharray: 7.0,7.0;\"/><polygon fill=\"#383838\" points=\"349,256,352,248,346,248,349,256\" style=\"stroke: #383838; stroke-width: 1.0;\"/><text fill=\"#000000\" font-family=\"sans-serif\" font-size=\"13\" lengthAdjust=\"spacingAndGlyphs\" textLength=\"64\" x=\"350\" y=\"244.0669\">«depend»</text></a><!--MD5=[c5e8897d989ce984f93528998a7150fe]\n",
       "link E8 to E6--><a href=\"psysml:c2ca5ac6-1591-4e08-969e-b115a3bed697\" target=\"_top\" title=\"psysml:c2ca5ac6-1591-4e08-969e-b115a3bed697\" xlink:actuate=\"onRequest\" xlink:href=\"psysml:c2ca5ac6-1591-4e08-969e-b115a3bed697\" xlink:show=\"new\" xlink:title=\"psysml:c2ca5ac6-1591-4e08-969e-b115a3bed697\" xlink:type=\"simple\"><path d=\"M84.22,132.91 C73.24,139.47 64,145 64,145 C64,145 64,162 64,162 C64,162 64.15,163.28 64.4,165.33 \" fill=\"none\" id=\"E8-&gt;E6\" style=\"stroke: #383838; stroke-width: 1.0; stroke-dasharray: 7.0,7.0;\"/><polygon fill=\"#383838\" points=\"65.35,173.34,67.3861,165.0421,61.4279,165.7494,65.35,173.34\" style=\"stroke: #383838; stroke-width: 1.0;\"/><text fill=\"#000000\" font-family=\"sans-serif\" font-size=\"13\" lengthAdjust=\"spacingAndGlyphs\" textLength=\"64\" x=\"65\" y=\"158.0669\">«depend»</text></a><!--MD5=[bfa3c8b0d15052fdf50ae9310b491027]\n",
       "link E8 to E7--><a href=\"psysml:c2ca5ac6-1591-4e08-969e-b115a3bed697\" target=\"_top\" title=\"psysml:c2ca5ac6-1591-4e08-969e-b115a3bed697\" xlink:actuate=\"onRequest\" xlink:href=\"psysml:c2ca5ac6-1591-4e08-969e-b115a3bed697\" xlink:show=\"new\" xlink:title=\"psysml:c2ca5ac6-1591-4e08-969e-b115a3bed697\" xlink:type=\"simple\"><path d=\"M134.19,133.57 C140.65,143.62 148.38,155.65 155.31,166.42 \" fill=\"none\" id=\"E8-&gt;E7\" style=\"stroke: #383838; stroke-width: 1.0; stroke-dasharray: 7.0,7.0;\"/><polygon fill=\"#383838\" points=\"159.72,173.29,157.9148,164.9389,152.8688,168.185,159.72,173.29\" style=\"stroke: #383838; stroke-width: 1.0;\"/><text fill=\"#000000\" font-family=\"sans-serif\" font-size=\"13\" lengthAdjust=\"spacingAndGlyphs\" textLength=\"64\" x=\"152\" y=\"158.0669\">«depend»</text></a><!--MD5=[43c4d44c0735d1087419a635db71f9c5]\n",
       "@startuml\r\n",
       "skinparam ranksep 10\r\n",
       "skinparam rectangle {\r\n",
       " backgroundColor<<block>> LightGreen\r\n",
       "}\r\n",
       "skinparam linetype polyline\r\n",
       "skinparam monochrome true\r\n",
       "skinparam classbackgroundcolor white\r\n",
       "skinparam shadowing false\r\n",
       "skinparam wrapWidth 300\r\n",
       "hide circle\r\n",
       "\r\n",
       "package \"DependencyTest\" as E1  [[psysml:cb8a6054-43e9-4191-a3b4-d53f2df2fcdf ]]  {\r\n",
       "package \"System\" as E2  [[psysml:b8ece1dd-151a-4631-92e5-c2dbf563fb8b ]]  {\r\n",
       "package \"Application Layer\" as E3  [[psysml:59f5b99d-24d3-4acd-853e-8f7f0b563d54 ]]  {\r\n",
       "}\r\n",
       "package \"Service Layer\" as E4  [[psysml:5cfbc3a5-c556-4af2-acf6-f60fe409e97c ]]  {\r\n",
       "}\r\n",
       "package \"Data Layer\" as E5  [[psysml:acb31344-a810-41ff-bc38-efd03bbf6ecb ]]  {\r\n",
       "}\r\n",
       "}\r\n",
       "comp usage \"x\" as E6  <<(T,blue)attribute>> [[psysml:3db867e9-a237-498d-9697-66a5ca6752eb ]] {\r\n",
       "}\r\n",
       "comp usage \"y\" as E7  <<(T,blue)attribute>> [[psysml:c548d046-cadc-4301-a44e-d185972c752b ]] {\r\n",
       "}\r\n",
       "comp usage \"z\" as E8  <<(T,blue)attribute>> [[psysml:47dc4f88-d05c-4598-a7e7-ecfe5751dc87 ]] {\r\n",
       "}\r\n",
       "E3 ..>> E4 [[psysml:952f286e-4b84-47c6-949f-c687a4b4f029 ]] : <<depend>>\r\n",
       "E4 ..>> E5 [[psysml:7352021b-a74c-4755-9a9f-544f5d5618ed ]] : <<depend>>\r\n",
       "E8 ..>> E6 [[psysml:c2ca5ac6-1591-4e08-969e-b115a3bed697 ]] : <<depend>>\r\n",
       "E8 ..>> E7 [[psysml:c2ca5ac6-1591-4e08-969e-b115a3bed697 ]] : <<depend>>\r\n",
       "}\r\n",
       "@enduml\r\n",
       "\n",
       "PlantUML version 1.2020.13(Sat Jun 13 12:26:38 UTC 2020)\n",
       "(EPL source distribution)\n",
       "Java Runtime: OpenJDK Runtime Environment\n",
       "JVM: OpenJDK 64-Bit Server VM\n",
       "Default Encoding: UTF-8\n",
       "Language: en\n",
       "Country: null\n",
       "--></g></svg>"
      ]
     },
     "execution_count": 12,
     "metadata": {},
     "output_type": "execute_result"
    }
   ],
   "source": [
    "%viz --style=\"POLYLINE\" --view=\"Interconnection\" \"DependencyTest\""
   ]
  },
  {
   "cell_type": "code",
   "execution_count": 13,
   "id": "8cb92981",
   "metadata": {
    "execution": {
     "iopub.execute_input": "2021-04-20T07:03:23.755801Z",
     "iopub.status.busy": "2021-04-20T07:03:23.755310Z",
     "iopub.status.idle": "2021-04-20T07:03:23.767029Z",
     "shell.execute_reply": "2021-04-20T07:03:23.766687Z"
    }
   },
   "outputs": [
    {
     "data": {
      "image/svg+xml": [
       "<?xml version=\"1.0\" encoding=\"UTF-8\" standalone=\"no\"?><svg xmlns=\"http://www.w3.org/2000/svg\" xmlns:xlink=\"http://www.w3.org/1999/xlink\" contentScriptType=\"application/ecmascript\" contentStyleType=\"text/css\" height=\"12px\" preserveAspectRatio=\"none\" style=\"width:12px;height:12px;\" version=\"1.1\" viewBox=\"0 0 12 12\" width=\"12px\" zoomAndPan=\"magnify\"><defs/><g><!--MD5=[97bbf32f66ccd50cbc40d92ea8f5a65e]\n",
       "@startuml\r\n",
       "skinparam ranksep 8\r\n",
       "skinparam linetype polyline\r\n",
       "skinparam monochrome true\r\n",
       "skinparam classbackgroundcolor white\r\n",
       "skinparam shadowing false\r\n",
       "skinparam wrapWidth 300\r\n",
       "hide circle\r\n",
       "\r\n",
       "@enduml\r\n",
       "\n",
       "PlantUML version 1.2020.13(Sat Jun 13 12:26:38 UTC 2020)\n",
       "(EPL source distribution)\n",
       "Java Runtime: OpenJDK Runtime Environment\n",
       "JVM: OpenJDK 64-Bit Server VM\n",
       "Default Encoding: UTF-8\n",
       "Language: en\n",
       "Country: null\n",
       "--></g></svg>"
      ]
     },
     "execution_count": 13,
     "metadata": {},
     "output_type": "execute_result"
    }
   ],
   "source": [
    "%viz --style=\"POLYLINE\" --view=\"Action\" \"DependencyTest\""
   ]
  },
  {
   "cell_type": "code",
   "execution_count": 14,
   "id": "9f0cfe1b",
   "metadata": {
    "execution": {
     "iopub.execute_input": "2021-04-20T07:03:23.819985Z",
     "iopub.status.busy": "2021-04-20T07:03:23.818266Z",
     "iopub.status.idle": "2021-04-20T07:03:23.869566Z",
     "shell.execute_reply": "2021-04-20T07:03:23.868741Z"
    }
   },
   "outputs": [
    {
     "data": {
      "image/svg+xml": [
       "<?xml version=\"1.0\" encoding=\"UTF-8\" standalone=\"no\"?><svg xmlns=\"http://www.w3.org/2000/svg\" xmlns:xlink=\"http://www.w3.org/1999/xlink\" contentScriptType=\"application/ecmascript\" contentStyleType=\"text/css\" height=\"449px\" preserveAspectRatio=\"none\" style=\"width:489px;height:449px;\" version=\"1.1\" viewBox=\"0 0 489 449\" width=\"489px\" zoomAndPan=\"magnify\"><defs/><g><!--MD5=[fbc87193dbaf4d95561dea2c320d4a47]\n",
       "cluster E1--><a href=\"psysml:cb8a6054-43e9-4191-a3b4-d53f2df2fcdf\" target=\"_top\" title=\"psysml:cb8a6054-43e9-4191-a3b4-d53f2df2fcdf\" xlink:actuate=\"onRequest\" xlink:href=\"psysml:cb8a6054-43e9-4191-a3b4-d53f2df2fcdf\" xlink:show=\"new\" xlink:title=\"psysml:cb8a6054-43e9-4191-a3b4-d53f2df2fcdf\" xlink:type=\"simple\"><polygon fill=\"#FFFFFF\" points=\"16,6,156,6,163,28.2969,467,28.2969,467,437,16,437,16,6\" style=\"stroke: #000000; stroke-width: 1.5;\"/><line style=\"stroke: #000000; stroke-width: 1.5;\" x1=\"16\" x2=\"163\" y1=\"28.2969\" y2=\"28.2969\"/><text fill=\"#000000\" font-family=\"sans-serif\" font-size=\"14\" font-weight=\"bold\" lengthAdjust=\"spacingAndGlyphs\" textLength=\"134\" x=\"20\" y=\"20.9951\">DependencyTest</text></a><!--MD5=[e4f7fae6ed58524ba242bb0b0d3be6b7]\n",
       "cluster E2--><a href=\"psysml:b8ece1dd-151a-4631-92e5-c2dbf563fb8b\" target=\"_top\" title=\"psysml:b8ece1dd-151a-4631-92e5-c2dbf563fb8b\" xlink:actuate=\"onRequest\" xlink:href=\"psysml:b8ece1dd-151a-4631-92e5-c2dbf563fb8b\" xlink:show=\"new\" xlink:title=\"psysml:b8ece1dd-151a-4631-92e5-c2dbf563fb8b\" xlink:type=\"simple\"><polygon fill=\"#FFFFFF\" points=\"255,49,319,49,326,71.2969,443,71.2969,443,413,255,413,255,49\" style=\"stroke: #000000; stroke-width: 1.5;\"/><line style=\"stroke: #000000; stroke-width: 1.5;\" x1=\"255\" x2=\"326\" y1=\"71.2969\" y2=\"71.2969\"/><text fill=\"#000000\" font-family=\"sans-serif\" font-size=\"14\" font-weight=\"bold\" lengthAdjust=\"spacingAndGlyphs\" textLength=\"58\" x=\"259\" y=\"63.9951\">System</text></a><!--MD5=[60a26617385b1d2d0262a64233df1f8d]\n",
       "class E6--><a href=\"psysml:3db867e9-a237-498d-9697-66a5ca6752eb\" target=\"_top\" title=\"psysml:3db867e9-a237-498d-9697-66a5ca6752eb\" xlink:actuate=\"onRequest\" xlink:href=\"psysml:3db867e9-a237-498d-9697-66a5ca6752eb\" xlink:show=\"new\" xlink:title=\"psysml:3db867e9-a237-498d-9697-66a5ca6752eb\" xlink:type=\"simple\"><rect fill=\"#FFFFFF\" height=\"45.9375\" id=\"E6\" rx=\"10\" ry=\"10\" style=\"stroke: #383838; stroke-width: 1.5;\" width=\"71\" x=\"32.5\" y=\"217.5\"/><text fill=\"#000000\" font-family=\"sans-serif\" font-size=\"12\" font-style=\"italic\" lengthAdjust=\"spacingAndGlyphs\" textLength=\"69\" x=\"33.5\" y=\"233.6387\">«attribute»</text><text fill=\"#000000\" font-family=\"sans-serif\" font-size=\"12\" lengthAdjust=\"spacingAndGlyphs\" textLength=\"6\" x=\"65\" y=\"247.6074\">x</text><line style=\"stroke: #383838; stroke-width: 1.5;\" x1=\"33.5\" x2=\"102.5\" y1=\"255.4375\" y2=\"255.4375\"/></a><!--MD5=[2156ba9850f5573cc1fc38a6a4b2f02b]\n",
       "class E7--><a href=\"psysml:c548d046-cadc-4301-a44e-d185972c752b\" target=\"_top\" title=\"psysml:c548d046-cadc-4301-a44e-d185972c752b\" xlink:actuate=\"onRequest\" xlink:href=\"psysml:c548d046-cadc-4301-a44e-d185972c752b\" xlink:show=\"new\" xlink:title=\"psysml:c548d046-cadc-4301-a44e-d185972c752b\" xlink:type=\"simple\"><rect fill=\"#FFFFFF\" height=\"45.9375\" id=\"E7\" rx=\"10\" ry=\"10\" style=\"stroke: #383838; stroke-width: 1.5;\" width=\"71\" x=\"138.5\" y=\"217.5\"/><text fill=\"#000000\" font-family=\"sans-serif\" font-size=\"12\" font-style=\"italic\" lengthAdjust=\"spacingAndGlyphs\" textLength=\"69\" x=\"139.5\" y=\"233.6387\">«attribute»</text><text fill=\"#000000\" font-family=\"sans-serif\" font-size=\"12\" lengthAdjust=\"spacingAndGlyphs\" textLength=\"6\" x=\"171\" y=\"247.6074\">y</text><line style=\"stroke: #383838; stroke-width: 1.5;\" x1=\"139.5\" x2=\"208.5\" y1=\"255.4375\" y2=\"255.4375\"/></a><!--MD5=[b9389687b975829384b498ac4b7476b2]\n",
       "class E8--><a href=\"psysml:47dc4f88-d05c-4598-a7e7-ecfe5751dc87\" target=\"_top\" title=\"psysml:47dc4f88-d05c-4598-a7e7-ecfe5751dc87\" xlink:actuate=\"onRequest\" xlink:href=\"psysml:47dc4f88-d05c-4598-a7e7-ecfe5751dc87\" xlink:show=\"new\" xlink:title=\"psysml:47dc4f88-d05c-4598-a7e7-ecfe5751dc87\" xlink:type=\"simple\"><rect fill=\"#FFFFFF\" height=\"45.9375\" id=\"E8\" rx=\"10\" ry=\"10\" style=\"stroke: #383838; stroke-width: 1.5;\" width=\"71\" x=\"84.5\" y=\"87.5\"/><text fill=\"#000000\" font-family=\"sans-serif\" font-size=\"12\" font-style=\"italic\" lengthAdjust=\"spacingAndGlyphs\" textLength=\"69\" x=\"85.5\" y=\"103.6387\">«attribute»</text><text fill=\"#000000\" font-family=\"sans-serif\" font-size=\"12\" lengthAdjust=\"spacingAndGlyphs\" textLength=\"5\" x=\"117.5\" y=\"117.6074\">z</text><line style=\"stroke: #383838; stroke-width: 1.5;\" x1=\"85.5\" x2=\"154.5\" y1=\"125.4375\" y2=\"125.4375\"/></a><a href=\"psysml:59f5b99d-24d3-4acd-853e-8f7f0b563d54\" target=\"_top\" title=\"psysml:59f5b99d-24d3-4acd-853e-8f7f0b563d54\" xlink:actuate=\"onRequest\" xlink:href=\"psysml:59f5b99d-24d3-4acd-853e-8f7f0b563d54\" xlink:show=\"new\" xlink:title=\"psysml:59f5b99d-24d3-4acd-853e-8f7f0b563d54\" xlink:type=\"simple\"><polygon fill=\"#FFFFFF\" points=\"271,84,413,84,420,106.2969,427,106.2969,427,136.5938,271,136.5938,271,84\" style=\"stroke: #000000; stroke-width: 1.5;\"/><line style=\"stroke: #000000; stroke-width: 1.5;\" x1=\"271\" x2=\"420\" y1=\"106.2969\" y2=\"106.2969\"/><text fill=\"#000000\" font-family=\"sans-serif\" font-size=\"14\" font-weight=\"bold\" lengthAdjust=\"spacingAndGlyphs\" textLength=\"136\" x=\"275\" y=\"98.9951\">Application Layer</text></a><a href=\"psysml:5cfbc3a5-c556-4af2-acf6-f60fe409e97c\" target=\"_top\" title=\"psysml:5cfbc3a5-c556-4af2-acf6-f60fe409e97c\" xlink:actuate=\"onRequest\" xlink:href=\"psysml:5cfbc3a5-c556-4af2-acf6-f60fe409e97c\" xlink:show=\"new\" xlink:title=\"psysml:5cfbc3a5-c556-4af2-acf6-f60fe409e97c\" xlink:type=\"simple\"><polygon fill=\"#FFFFFF\" points=\"285,214,399,214,406,236.2969,413,236.2969,413,266.5938,285,266.5938,285,214\" style=\"stroke: #000000; stroke-width: 1.5;\"/><line style=\"stroke: #000000; stroke-width: 1.5;\" x1=\"285\" x2=\"406\" y1=\"236.2969\" y2=\"236.2969\"/><text fill=\"#000000\" font-family=\"sans-serif\" font-size=\"14\" font-weight=\"bold\" lengthAdjust=\"spacingAndGlyphs\" textLength=\"108\" x=\"289\" y=\"228.9951\">Service Layer</text></a><a href=\"psysml:acb31344-a810-41ff-bc38-efd03bbf6ecb\" target=\"_top\" title=\"psysml:acb31344-a810-41ff-bc38-efd03bbf6ecb\" xlink:actuate=\"onRequest\" xlink:href=\"psysml:acb31344-a810-41ff-bc38-efd03bbf6ecb\" xlink:show=\"new\" xlink:title=\"psysml:acb31344-a810-41ff-bc38-efd03bbf6ecb\" xlink:type=\"simple\"><polygon fill=\"#FFFFFF\" points=\"297,344,387,344,394,366.2969,401,366.2969,401,396.5938,297,396.5938,297,344\" style=\"stroke: #000000; stroke-width: 1.5;\"/><line style=\"stroke: #000000; stroke-width: 1.5;\" x1=\"297\" x2=\"394\" y1=\"366.2969\" y2=\"366.2969\"/><text fill=\"#000000\" font-family=\"sans-serif\" font-size=\"14\" font-weight=\"bold\" lengthAdjust=\"spacingAndGlyphs\" textLength=\"84\" x=\"301\" y=\"358.9951\">Data Layer</text></a><!--MD5=[af87c684e3b0d8be13c1a698a818ef1e]\n",
       "link E3 to E4--><a href=\"psysml:952f286e-4b84-47c6-949f-c687a4b4f029\" target=\"_top\" title=\"psysml:952f286e-4b84-47c6-949f-c687a4b4f029\" xlink:actuate=\"onRequest\" xlink:href=\"psysml:952f286e-4b84-47c6-949f-c687a4b4f029\" xlink:show=\"new\" xlink:title=\"psysml:952f286e-4b84-47c6-949f-c687a4b4f029\" xlink:type=\"simple\"><path d=\"M349,137.1 C349,156.8 349,184.22 349,205.73 \" fill=\"none\" id=\"E3-&gt;E4\" style=\"stroke: #383838; stroke-width: 1.0; stroke-dasharray: 7.0,7.0;\"/><polygon fill=\"#383838\" points=\"349,213.95,352,205.95,346,205.95,349,213.95\" style=\"stroke: #383838; stroke-width: 1.0;\"/><text fill=\"#000000\" font-family=\"sans-serif\" font-size=\"13\" lengthAdjust=\"spacingAndGlyphs\" textLength=\"64\" x=\"350\" y=\"180.0669\">«depend»</text></a><!--MD5=[1b7591eae5389033d8d09a9d6721a717]\n",
       "link E4 to E5--><a href=\"psysml:7352021b-a74c-4755-9a9f-544f5d5618ed\" target=\"_top\" title=\"psysml:7352021b-a74c-4755-9a9f-544f5d5618ed\" xlink:actuate=\"onRequest\" xlink:href=\"psysml:7352021b-a74c-4755-9a9f-544f5d5618ed\" xlink:show=\"new\" xlink:title=\"psysml:7352021b-a74c-4755-9a9f-544f5d5618ed\" xlink:type=\"simple\"><path d=\"M349,267.1 C349,286.8 349,314.22 349,335.73 \" fill=\"none\" id=\"E4-&gt;E5\" style=\"stroke: #383838; stroke-width: 1.0; stroke-dasharray: 7.0,7.0;\"/><polygon fill=\"#383838\" points=\"349,343.95,352,335.95,346,335.95,349,343.95\" style=\"stroke: #383838; stroke-width: 1.0;\"/><text fill=\"#000000\" font-family=\"sans-serif\" font-size=\"13\" lengthAdjust=\"spacingAndGlyphs\" textLength=\"64\" x=\"350\" y=\"310.0669\">«depend»</text></a><!--MD5=[c5e8897d989ce984f93528998a7150fe]\n",
       "link E8 to E6--><a href=\"psysml:c2ca5ac6-1591-4e08-969e-b115a3bed697\" target=\"_top\" title=\"psysml:c2ca5ac6-1591-4e08-969e-b115a3bed697\" xlink:actuate=\"onRequest\" xlink:href=\"psysml:c2ca5ac6-1591-4e08-969e-b115a3bed697\" xlink:show=\"new\" xlink:title=\"psysml:c2ca5ac6-1591-4e08-969e-b115a3bed697\" xlink:type=\"simple\"><path d=\"M97.55,133.75 C81.97,149.19 64,167 64,167 C64,167 64,184 64,184 C64,184 64.88,196.21 65.81,209.18 \" fill=\"none\" id=\"E8-&gt;E6\" style=\"stroke: #383838; stroke-width: 1.0; stroke-dasharray: 7.0,7.0;\"/><polygon fill=\"#383838\" points=\"66.4,217.25,68.8203,209.056,62.8357,209.485,66.4,217.25\" style=\"stroke: #383838; stroke-width: 1.0;\"/><text fill=\"#000000\" font-family=\"sans-serif\" font-size=\"13\" lengthAdjust=\"spacingAndGlyphs\" textLength=\"64\" x=\"65\" y=\"180.0669\">«depend»</text></a><!--MD5=[bfa3c8b0d15052fdf50ae9310b491027]\n",
       "link E8 to E7--><a href=\"psysml:c2ca5ac6-1591-4e08-969e-b115a3bed697\" target=\"_top\" title=\"psysml:c2ca5ac6-1591-4e08-969e-b115a3bed697\" xlink:actuate=\"onRequest\" xlink:href=\"psysml:c2ca5ac6-1591-4e08-969e-b115a3bed697\" xlink:show=\"new\" xlink:title=\"psysml:c2ca5ac6-1591-4e08-969e-b115a3bed697\" xlink:type=\"simple\"><path d=\"M129.28,133.5 C138.17,154.57 151.64,186.5 161.47,209.81 \" fill=\"none\" id=\"E8-&gt;E7\" style=\"stroke: #383838; stroke-width: 1.0; stroke-dasharray: 7.0,7.0;\"/><polygon fill=\"#383838\" points=\"164.66,217.35,164.3241,208.8126,158.7933,211.1385,164.66,217.35\" style=\"stroke: #383838; stroke-width: 1.0;\"/><text fill=\"#000000\" font-family=\"sans-serif\" font-size=\"13\" lengthAdjust=\"spacingAndGlyphs\" textLength=\"64\" x=\"151\" y=\"180.0669\">«depend»</text></a><!--MD5=[80a21bf35a3024f231add0f2dda62925]\n",
       "@startuml\r\n",
       "skinparam linetype polyline\r\n",
       "skinparam monochrome true\r\n",
       "skinparam classbackgroundcolor white\r\n",
       "skinparam shadowing false\r\n",
       "skinparam wrapWidth 300\r\n",
       "hide circle\r\n",
       "\r\n",
       "package \"DependencyTest\" as E1  [[psysml:cb8a6054-43e9-4191-a3b4-d53f2df2fcdf ]]  {\r\n",
       "package \"System\" as E2  [[psysml:b8ece1dd-151a-4631-92e5-c2dbf563fb8b ]]  {\r\n",
       "package \"Application Layer\" as E3  [[psysml:59f5b99d-24d3-4acd-853e-8f7f0b563d54 ]]  {\r\n",
       "}\r\n",
       "package \"Service Layer\" as E4  [[psysml:5cfbc3a5-c556-4af2-acf6-f60fe409e97c ]]  {\r\n",
       "}\r\n",
       "package \"Data Layer\" as E5  [[psysml:acb31344-a810-41ff-bc38-efd03bbf6ecb ]]  {\r\n",
       "}\r\n",
       "}\r\n",
       "comp usage \"x\" as E6  <<(T,blue)attribute>> [[psysml:3db867e9-a237-498d-9697-66a5ca6752eb ]] {\r\n",
       "}\r\n",
       "comp usage \"y\" as E7  <<(T,blue)attribute>> [[psysml:c548d046-cadc-4301-a44e-d185972c752b ]] {\r\n",
       "}\r\n",
       "comp usage \"z\" as E8  <<(T,blue)attribute>> [[psysml:47dc4f88-d05c-4598-a7e7-ecfe5751dc87 ]] {\r\n",
       "}\r\n",
       "E3 ..>> E4 [[psysml:952f286e-4b84-47c6-949f-c687a4b4f029 ]] : <<depend>>\r\n",
       "E4 ..>> E5 [[psysml:7352021b-a74c-4755-9a9f-544f5d5618ed ]] : <<depend>>\r\n",
       "E8 ..>> E6 [[psysml:c2ca5ac6-1591-4e08-969e-b115a3bed697 ]] : <<depend>>\r\n",
       "E8 ..>> E7 [[psysml:c2ca5ac6-1591-4e08-969e-b115a3bed697 ]] : <<depend>>\r\n",
       "}\r\n",
       "@enduml\r\n",
       "\n",
       "PlantUML version 1.2020.13(Sat Jun 13 12:26:38 UTC 2020)\n",
       "(EPL source distribution)\n",
       "Java Runtime: OpenJDK Runtime Environment\n",
       "JVM: OpenJDK 64-Bit Server VM\n",
       "Default Encoding: UTF-8\n",
       "Language: en\n",
       "Country: null\n",
       "--></g></svg>"
      ]
     },
     "execution_count": 14,
     "metadata": {},
     "output_type": "execute_result"
    }
   ],
   "source": [
    "%viz --style=\"POLYLINE\" --view=\"Sequence\" \"DependencyTest\""
   ]
  },
  {
   "cell_type": "code",
   "execution_count": 15,
   "id": "6d756afe",
   "metadata": {
    "execution": {
     "iopub.execute_input": "2021-04-20T07:03:23.921214Z",
     "iopub.status.busy": "2021-04-20T07:03:23.920365Z",
     "iopub.status.idle": "2021-04-20T07:03:23.965602Z",
     "shell.execute_reply": "2021-04-20T07:03:23.964507Z"
    }
   },
   "outputs": [
    {
     "data": {
      "image/svg+xml": [
       "<?xml version=\"1.0\" encoding=\"UTF-8\" standalone=\"no\"?><svg xmlns=\"http://www.w3.org/2000/svg\" xmlns:xlink=\"http://www.w3.org/1999/xlink\" contentScriptType=\"application/ecmascript\" contentStyleType=\"text/css\" height=\"449px\" preserveAspectRatio=\"none\" style=\"width:489px;height:449px;\" version=\"1.1\" viewBox=\"0 0 489 449\" width=\"489px\" zoomAndPan=\"magnify\"><defs/><g><!--MD5=[fbc87193dbaf4d95561dea2c320d4a47]\n",
       "cluster E1--><a href=\"psysml:cb8a6054-43e9-4191-a3b4-d53f2df2fcdf\" target=\"_top\" title=\"psysml:cb8a6054-43e9-4191-a3b4-d53f2df2fcdf\" xlink:actuate=\"onRequest\" xlink:href=\"psysml:cb8a6054-43e9-4191-a3b4-d53f2df2fcdf\" xlink:show=\"new\" xlink:title=\"psysml:cb8a6054-43e9-4191-a3b4-d53f2df2fcdf\" xlink:type=\"simple\"><polygon fill=\"#FFFFFF\" points=\"16,6,156,6,163,28.2969,467,28.2969,467,437,16,437,16,6\" style=\"stroke: #000000; stroke-width: 1.5;\"/><line style=\"stroke: #000000; stroke-width: 1.5;\" x1=\"16\" x2=\"163\" y1=\"28.2969\" y2=\"28.2969\"/><text fill=\"#000000\" font-family=\"sans-serif\" font-size=\"14\" font-weight=\"bold\" lengthAdjust=\"spacingAndGlyphs\" textLength=\"134\" x=\"20\" y=\"20.9951\">DependencyTest</text></a><!--MD5=[e4f7fae6ed58524ba242bb0b0d3be6b7]\n",
       "cluster E2--><a href=\"psysml:b8ece1dd-151a-4631-92e5-c2dbf563fb8b\" target=\"_top\" title=\"psysml:b8ece1dd-151a-4631-92e5-c2dbf563fb8b\" xlink:actuate=\"onRequest\" xlink:href=\"psysml:b8ece1dd-151a-4631-92e5-c2dbf563fb8b\" xlink:show=\"new\" xlink:title=\"psysml:b8ece1dd-151a-4631-92e5-c2dbf563fb8b\" xlink:type=\"simple\"><polygon fill=\"#FFFFFF\" points=\"255,49,319,49,326,71.2969,443,71.2969,443,413,255,413,255,49\" style=\"stroke: #000000; stroke-width: 1.5;\"/><line style=\"stroke: #000000; stroke-width: 1.5;\" x1=\"255\" x2=\"326\" y1=\"71.2969\" y2=\"71.2969\"/><text fill=\"#000000\" font-family=\"sans-serif\" font-size=\"14\" font-weight=\"bold\" lengthAdjust=\"spacingAndGlyphs\" textLength=\"58\" x=\"259\" y=\"63.9951\">System</text></a><!--MD5=[60a26617385b1d2d0262a64233df1f8d]\n",
       "class E6--><a href=\"psysml:3db867e9-a237-498d-9697-66a5ca6752eb\" target=\"_top\" title=\"psysml:3db867e9-a237-498d-9697-66a5ca6752eb\" xlink:actuate=\"onRequest\" xlink:href=\"psysml:3db867e9-a237-498d-9697-66a5ca6752eb\" xlink:show=\"new\" xlink:title=\"psysml:3db867e9-a237-498d-9697-66a5ca6752eb\" xlink:type=\"simple\"><rect fill=\"#FFFFFF\" height=\"45.9375\" id=\"E6\" rx=\"10\" ry=\"10\" style=\"stroke: #383838; stroke-width: 1.5;\" width=\"71\" x=\"32.5\" y=\"217.5\"/><text fill=\"#000000\" font-family=\"sans-serif\" font-size=\"12\" font-style=\"italic\" lengthAdjust=\"spacingAndGlyphs\" textLength=\"69\" x=\"33.5\" y=\"233.6387\">«attribute»</text><text fill=\"#000000\" font-family=\"sans-serif\" font-size=\"12\" lengthAdjust=\"spacingAndGlyphs\" textLength=\"6\" x=\"65\" y=\"247.6074\">x</text><line style=\"stroke: #383838; stroke-width: 1.5;\" x1=\"33.5\" x2=\"102.5\" y1=\"255.4375\" y2=\"255.4375\"/></a><!--MD5=[2156ba9850f5573cc1fc38a6a4b2f02b]\n",
       "class E7--><a href=\"psysml:c548d046-cadc-4301-a44e-d185972c752b\" target=\"_top\" title=\"psysml:c548d046-cadc-4301-a44e-d185972c752b\" xlink:actuate=\"onRequest\" xlink:href=\"psysml:c548d046-cadc-4301-a44e-d185972c752b\" xlink:show=\"new\" xlink:title=\"psysml:c548d046-cadc-4301-a44e-d185972c752b\" xlink:type=\"simple\"><rect fill=\"#FFFFFF\" height=\"45.9375\" id=\"E7\" rx=\"10\" ry=\"10\" style=\"stroke: #383838; stroke-width: 1.5;\" width=\"71\" x=\"138.5\" y=\"217.5\"/><text fill=\"#000000\" font-family=\"sans-serif\" font-size=\"12\" font-style=\"italic\" lengthAdjust=\"spacingAndGlyphs\" textLength=\"69\" x=\"139.5\" y=\"233.6387\">«attribute»</text><text fill=\"#000000\" font-family=\"sans-serif\" font-size=\"12\" lengthAdjust=\"spacingAndGlyphs\" textLength=\"6\" x=\"171\" y=\"247.6074\">y</text><line style=\"stroke: #383838; stroke-width: 1.5;\" x1=\"139.5\" x2=\"208.5\" y1=\"255.4375\" y2=\"255.4375\"/></a><!--MD5=[b9389687b975829384b498ac4b7476b2]\n",
       "class E8--><a href=\"psysml:47dc4f88-d05c-4598-a7e7-ecfe5751dc87\" target=\"_top\" title=\"psysml:47dc4f88-d05c-4598-a7e7-ecfe5751dc87\" xlink:actuate=\"onRequest\" xlink:href=\"psysml:47dc4f88-d05c-4598-a7e7-ecfe5751dc87\" xlink:show=\"new\" xlink:title=\"psysml:47dc4f88-d05c-4598-a7e7-ecfe5751dc87\" xlink:type=\"simple\"><rect fill=\"#FFFFFF\" height=\"45.9375\" id=\"E8\" rx=\"10\" ry=\"10\" style=\"stroke: #383838; stroke-width: 1.5;\" width=\"71\" x=\"84.5\" y=\"87.5\"/><text fill=\"#000000\" font-family=\"sans-serif\" font-size=\"12\" font-style=\"italic\" lengthAdjust=\"spacingAndGlyphs\" textLength=\"69\" x=\"85.5\" y=\"103.6387\">«attribute»</text><text fill=\"#000000\" font-family=\"sans-serif\" font-size=\"12\" lengthAdjust=\"spacingAndGlyphs\" textLength=\"5\" x=\"117.5\" y=\"117.6074\">z</text><line style=\"stroke: #383838; stroke-width: 1.5;\" x1=\"85.5\" x2=\"154.5\" y1=\"125.4375\" y2=\"125.4375\"/></a><a href=\"psysml:59f5b99d-24d3-4acd-853e-8f7f0b563d54\" target=\"_top\" title=\"psysml:59f5b99d-24d3-4acd-853e-8f7f0b563d54\" xlink:actuate=\"onRequest\" xlink:href=\"psysml:59f5b99d-24d3-4acd-853e-8f7f0b563d54\" xlink:show=\"new\" xlink:title=\"psysml:59f5b99d-24d3-4acd-853e-8f7f0b563d54\" xlink:type=\"simple\"><polygon fill=\"#FFFFFF\" points=\"271,84,413,84,420,106.2969,427,106.2969,427,136.5938,271,136.5938,271,84\" style=\"stroke: #000000; stroke-width: 1.5;\"/><line style=\"stroke: #000000; stroke-width: 1.5;\" x1=\"271\" x2=\"420\" y1=\"106.2969\" y2=\"106.2969\"/><text fill=\"#000000\" font-family=\"sans-serif\" font-size=\"14\" font-weight=\"bold\" lengthAdjust=\"spacingAndGlyphs\" textLength=\"136\" x=\"275\" y=\"98.9951\">Application Layer</text></a><a href=\"psysml:5cfbc3a5-c556-4af2-acf6-f60fe409e97c\" target=\"_top\" title=\"psysml:5cfbc3a5-c556-4af2-acf6-f60fe409e97c\" xlink:actuate=\"onRequest\" xlink:href=\"psysml:5cfbc3a5-c556-4af2-acf6-f60fe409e97c\" xlink:show=\"new\" xlink:title=\"psysml:5cfbc3a5-c556-4af2-acf6-f60fe409e97c\" xlink:type=\"simple\"><polygon fill=\"#FFFFFF\" points=\"285,214,399,214,406,236.2969,413,236.2969,413,266.5938,285,266.5938,285,214\" style=\"stroke: #000000; stroke-width: 1.5;\"/><line style=\"stroke: #000000; stroke-width: 1.5;\" x1=\"285\" x2=\"406\" y1=\"236.2969\" y2=\"236.2969\"/><text fill=\"#000000\" font-family=\"sans-serif\" font-size=\"14\" font-weight=\"bold\" lengthAdjust=\"spacingAndGlyphs\" textLength=\"108\" x=\"289\" y=\"228.9951\">Service Layer</text></a><a href=\"psysml:acb31344-a810-41ff-bc38-efd03bbf6ecb\" target=\"_top\" title=\"psysml:acb31344-a810-41ff-bc38-efd03bbf6ecb\" xlink:actuate=\"onRequest\" xlink:href=\"psysml:acb31344-a810-41ff-bc38-efd03bbf6ecb\" xlink:show=\"new\" xlink:title=\"psysml:acb31344-a810-41ff-bc38-efd03bbf6ecb\" xlink:type=\"simple\"><polygon fill=\"#FFFFFF\" points=\"297,344,387,344,394,366.2969,401,366.2969,401,396.5938,297,396.5938,297,344\" style=\"stroke: #000000; stroke-width: 1.5;\"/><line style=\"stroke: #000000; stroke-width: 1.5;\" x1=\"297\" x2=\"394\" y1=\"366.2969\" y2=\"366.2969\"/><text fill=\"#000000\" font-family=\"sans-serif\" font-size=\"14\" font-weight=\"bold\" lengthAdjust=\"spacingAndGlyphs\" textLength=\"84\" x=\"301\" y=\"358.9951\">Data Layer</text></a><!--MD5=[af87c684e3b0d8be13c1a698a818ef1e]\n",
       "link E3 to E4--><a href=\"psysml:952f286e-4b84-47c6-949f-c687a4b4f029\" target=\"_top\" title=\"psysml:952f286e-4b84-47c6-949f-c687a4b4f029\" xlink:actuate=\"onRequest\" xlink:href=\"psysml:952f286e-4b84-47c6-949f-c687a4b4f029\" xlink:show=\"new\" xlink:title=\"psysml:952f286e-4b84-47c6-949f-c687a4b4f029\" xlink:type=\"simple\"><path d=\"M349,137.1 C349,156.8 349,184.22 349,205.73 \" fill=\"none\" id=\"E3-&gt;E4\" style=\"stroke: #383838; stroke-width: 1.0; stroke-dasharray: 7.0,7.0;\"/><polygon fill=\"#383838\" points=\"349,213.95,352,205.95,346,205.95,349,213.95\" style=\"stroke: #383838; stroke-width: 1.0;\"/><text fill=\"#000000\" font-family=\"sans-serif\" font-size=\"13\" lengthAdjust=\"spacingAndGlyphs\" textLength=\"64\" x=\"350\" y=\"180.0669\">«depend»</text></a><!--MD5=[1b7591eae5389033d8d09a9d6721a717]\n",
       "link E4 to E5--><a href=\"psysml:7352021b-a74c-4755-9a9f-544f5d5618ed\" target=\"_top\" title=\"psysml:7352021b-a74c-4755-9a9f-544f5d5618ed\" xlink:actuate=\"onRequest\" xlink:href=\"psysml:7352021b-a74c-4755-9a9f-544f5d5618ed\" xlink:show=\"new\" xlink:title=\"psysml:7352021b-a74c-4755-9a9f-544f5d5618ed\" xlink:type=\"simple\"><path d=\"M349,267.1 C349,286.8 349,314.22 349,335.73 \" fill=\"none\" id=\"E4-&gt;E5\" style=\"stroke: #383838; stroke-width: 1.0; stroke-dasharray: 7.0,7.0;\"/><polygon fill=\"#383838\" points=\"349,343.95,352,335.95,346,335.95,349,343.95\" style=\"stroke: #383838; stroke-width: 1.0;\"/><text fill=\"#000000\" font-family=\"sans-serif\" font-size=\"13\" lengthAdjust=\"spacingAndGlyphs\" textLength=\"64\" x=\"350\" y=\"310.0669\">«depend»</text></a><!--MD5=[c5e8897d989ce984f93528998a7150fe]\n",
       "link E8 to E6--><a href=\"psysml:c2ca5ac6-1591-4e08-969e-b115a3bed697\" target=\"_top\" title=\"psysml:c2ca5ac6-1591-4e08-969e-b115a3bed697\" xlink:actuate=\"onRequest\" xlink:href=\"psysml:c2ca5ac6-1591-4e08-969e-b115a3bed697\" xlink:show=\"new\" xlink:title=\"psysml:c2ca5ac6-1591-4e08-969e-b115a3bed697\" xlink:type=\"simple\"><path d=\"M97.55,133.75 C81.97,149.19 64,167 64,167 C64,167 64,184 64,184 C64,184 64.88,196.21 65.81,209.18 \" fill=\"none\" id=\"E8-&gt;E6\" style=\"stroke: #383838; stroke-width: 1.0; stroke-dasharray: 7.0,7.0;\"/><polygon fill=\"#383838\" points=\"66.4,217.25,68.8203,209.056,62.8357,209.485,66.4,217.25\" style=\"stroke: #383838; stroke-width: 1.0;\"/><text fill=\"#000000\" font-family=\"sans-serif\" font-size=\"13\" lengthAdjust=\"spacingAndGlyphs\" textLength=\"64\" x=\"65\" y=\"180.0669\">«depend»</text></a><!--MD5=[bfa3c8b0d15052fdf50ae9310b491027]\n",
       "link E8 to E7--><a href=\"psysml:c2ca5ac6-1591-4e08-969e-b115a3bed697\" target=\"_top\" title=\"psysml:c2ca5ac6-1591-4e08-969e-b115a3bed697\" xlink:actuate=\"onRequest\" xlink:href=\"psysml:c2ca5ac6-1591-4e08-969e-b115a3bed697\" xlink:show=\"new\" xlink:title=\"psysml:c2ca5ac6-1591-4e08-969e-b115a3bed697\" xlink:type=\"simple\"><path d=\"M129.28,133.5 C138.17,154.57 151.64,186.5 161.47,209.81 \" fill=\"none\" id=\"E8-&gt;E7\" style=\"stroke: #383838; stroke-width: 1.0; stroke-dasharray: 7.0,7.0;\"/><polygon fill=\"#383838\" points=\"164.66,217.35,164.3241,208.8126,158.7933,211.1385,164.66,217.35\" style=\"stroke: #383838; stroke-width: 1.0;\"/><text fill=\"#000000\" font-family=\"sans-serif\" font-size=\"13\" lengthAdjust=\"spacingAndGlyphs\" textLength=\"64\" x=\"151\" y=\"180.0669\">«depend»</text></a><!--MD5=[80a21bf35a3024f231add0f2dda62925]\n",
       "@startuml\r\n",
       "skinparam linetype polyline\r\n",
       "skinparam monochrome true\r\n",
       "skinparam classbackgroundcolor white\r\n",
       "skinparam shadowing false\r\n",
       "skinparam wrapWidth 300\r\n",
       "hide circle\r\n",
       "\r\n",
       "package \"DependencyTest\" as E1  [[psysml:cb8a6054-43e9-4191-a3b4-d53f2df2fcdf ]]  {\r\n",
       "package \"System\" as E2  [[psysml:b8ece1dd-151a-4631-92e5-c2dbf563fb8b ]]  {\r\n",
       "package \"Application Layer\" as E3  [[psysml:59f5b99d-24d3-4acd-853e-8f7f0b563d54 ]]  {\r\n",
       "}\r\n",
       "package \"Service Layer\" as E4  [[psysml:5cfbc3a5-c556-4af2-acf6-f60fe409e97c ]]  {\r\n",
       "}\r\n",
       "package \"Data Layer\" as E5  [[psysml:acb31344-a810-41ff-bc38-efd03bbf6ecb ]]  {\r\n",
       "}\r\n",
       "}\r\n",
       "comp usage \"x\" as E6  <<(T,blue)attribute>> [[psysml:3db867e9-a237-498d-9697-66a5ca6752eb ]] {\r\n",
       "}\r\n",
       "comp usage \"y\" as E7  <<(T,blue)attribute>> [[psysml:c548d046-cadc-4301-a44e-d185972c752b ]] {\r\n",
       "}\r\n",
       "comp usage \"z\" as E8  <<(T,blue)attribute>> [[psysml:47dc4f88-d05c-4598-a7e7-ecfe5751dc87 ]] {\r\n",
       "}\r\n",
       "E3 ..>> E4 [[psysml:952f286e-4b84-47c6-949f-c687a4b4f029 ]] : <<depend>>\r\n",
       "E4 ..>> E5 [[psysml:7352021b-a74c-4755-9a9f-544f5d5618ed ]] : <<depend>>\r\n",
       "E8 ..>> E6 [[psysml:c2ca5ac6-1591-4e08-969e-b115a3bed697 ]] : <<depend>>\r\n",
       "E8 ..>> E7 [[psysml:c2ca5ac6-1591-4e08-969e-b115a3bed697 ]] : <<depend>>\r\n",
       "}\r\n",
       "@enduml\r\n",
       "\n",
       "PlantUML version 1.2020.13(Sat Jun 13 12:26:38 UTC 2020)\n",
       "(EPL source distribution)\n",
       "Java Runtime: OpenJDK Runtime Environment\n",
       "JVM: OpenJDK 64-Bit Server VM\n",
       "Default Encoding: UTF-8\n",
       "Language: en\n",
       "Country: null\n",
       "--></g></svg>"
      ]
     },
     "execution_count": 15,
     "metadata": {},
     "output_type": "execute_result"
    }
   ],
   "source": [
    "%viz --style=\"POLYLINE\" --view=\"MIXED\" \"DependencyTest\""
   ]
  },
  {
   "cell_type": "code",
   "execution_count": 16,
   "id": "cd185428",
   "metadata": {
    "execution": {
     "iopub.execute_input": "2021-04-20T07:03:24.017484Z",
     "iopub.status.busy": "2021-04-20T07:03:24.016680Z",
     "iopub.status.idle": "2021-04-20T07:03:24.063082Z",
     "shell.execute_reply": "2021-04-20T07:03:24.062108Z"
    }
   },
   "outputs": [
    {
     "data": {
      "image/svg+xml": [
       "<?xml version=\"1.0\" encoding=\"UTF-8\" standalone=\"no\"?><svg xmlns=\"http://www.w3.org/2000/svg\" xmlns:xlink=\"http://www.w3.org/1999/xlink\" contentScriptType=\"application/ecmascript\" contentStyleType=\"text/css\" height=\"328px\" preserveAspectRatio=\"none\" style=\"width:758px;height:328px;\" version=\"1.1\" viewBox=\"0 0 758 328\" width=\"758px\" zoomAndPan=\"magnify\"><defs/><g><!--MD5=[fbc87193dbaf4d95561dea2c320d4a47]\n",
       "cluster E1--><a href=\"psysml:cb8a6054-43e9-4191-a3b4-d53f2df2fcdf\" target=\"_top\" title=\"psysml:cb8a6054-43e9-4191-a3b4-d53f2df2fcdf\" xlink:actuate=\"onRequest\" xlink:href=\"psysml:cb8a6054-43e9-4191-a3b4-d53f2df2fcdf\" xlink:show=\"new\" xlink:title=\"psysml:cb8a6054-43e9-4191-a3b4-d53f2df2fcdf\" xlink:type=\"simple\"><polygon fill=\"#FFFFFF\" points=\"16,6,156,6,163,28.2969,736,28.2969,736,316,16,316,16,6\" style=\"stroke: #000000; stroke-width: 1.5;\"/><line style=\"stroke: #000000; stroke-width: 1.5;\" x1=\"16\" x2=\"163\" y1=\"28.2969\" y2=\"28.2969\"/><text fill=\"#000000\" font-family=\"sans-serif\" font-size=\"14\" font-weight=\"bold\" lengthAdjust=\"spacingAndGlyphs\" textLength=\"134\" x=\"20\" y=\"20.9951\">DependencyTest</text></a><!--MD5=[e4f7fae6ed58524ba242bb0b0d3be6b7]\n",
       "cluster E2--><a href=\"psysml:b8ece1dd-151a-4631-92e5-c2dbf563fb8b\" target=\"_top\" title=\"psysml:b8ece1dd-151a-4631-92e5-c2dbf563fb8b\" xlink:actuate=\"onRequest\" xlink:href=\"psysml:b8ece1dd-151a-4631-92e5-c2dbf563fb8b\" xlink:show=\"new\" xlink:title=\"psysml:b8ece1dd-151a-4631-92e5-c2dbf563fb8b\" xlink:type=\"simple\"><polygon fill=\"#FFFFFF\" points=\"40,49,104,49,111,71.2969,712,71.2969,712,154,40,154,40,49\" style=\"stroke: #000000; stroke-width: 1.5;\"/><line style=\"stroke: #000000; stroke-width: 1.5;\" x1=\"40\" x2=\"111\" y1=\"71.2969\" y2=\"71.2969\"/><text fill=\"#000000\" font-family=\"sans-serif\" font-size=\"14\" font-weight=\"bold\" lengthAdjust=\"spacingAndGlyphs\" textLength=\"58\" x=\"44\" y=\"63.9951\">System</text></a><!--MD5=[60a26617385b1d2d0262a64233df1f8d]\n",
       "class E6--><a href=\"psysml:3db867e9-a237-498d-9697-66a5ca6752eb\" target=\"_top\" title=\"psysml:3db867e9-a237-498d-9697-66a5ca6752eb\" xlink:actuate=\"onRequest\" xlink:href=\"psysml:3db867e9-a237-498d-9697-66a5ca6752eb\" xlink:show=\"new\" xlink:title=\"psysml:3db867e9-a237-498d-9697-66a5ca6752eb\" xlink:type=\"simple\"><rect fill=\"#FFFFFF\" height=\"45.9375\" id=\"E6\" rx=\"10\" ry=\"10\" style=\"stroke: #383838; stroke-width: 1.5;\" width=\"71\" x=\"366.5\" y=\"254\"/><text fill=\"#000000\" font-family=\"sans-serif\" font-size=\"12\" font-style=\"italic\" lengthAdjust=\"spacingAndGlyphs\" textLength=\"69\" x=\"367.5\" y=\"270.1387\">«attribute»</text><text fill=\"#000000\" font-family=\"sans-serif\" font-size=\"12\" lengthAdjust=\"spacingAndGlyphs\" textLength=\"6\" x=\"399\" y=\"284.1074\">x</text><line style=\"stroke: #383838; stroke-width: 1.5;\" x1=\"367.5\" x2=\"436.5\" y1=\"291.9375\" y2=\"291.9375\"/></a><!--MD5=[2156ba9850f5573cc1fc38a6a4b2f02b]\n",
       "class E7--><a href=\"psysml:c548d046-cadc-4301-a44e-d185972c752b\" target=\"_top\" title=\"psysml:c548d046-cadc-4301-a44e-d185972c752b\" xlink:actuate=\"onRequest\" xlink:href=\"psysml:c548d046-cadc-4301-a44e-d185972c752b\" xlink:show=\"new\" xlink:title=\"psysml:c548d046-cadc-4301-a44e-d185972c752b\" xlink:type=\"simple\"><rect fill=\"#FFFFFF\" height=\"45.9375\" id=\"E7\" rx=\"10\" ry=\"10\" style=\"stroke: #383838; stroke-width: 1.5;\" width=\"71\" x=\"366.5\" y=\"173\"/><text fill=\"#000000\" font-family=\"sans-serif\" font-size=\"12\" font-style=\"italic\" lengthAdjust=\"spacingAndGlyphs\" textLength=\"69\" x=\"367.5\" y=\"189.1387\">«attribute»</text><text fill=\"#000000\" font-family=\"sans-serif\" font-size=\"12\" lengthAdjust=\"spacingAndGlyphs\" textLength=\"6\" x=\"399\" y=\"203.1074\">y</text><line style=\"stroke: #383838; stroke-width: 1.5;\" x1=\"367.5\" x2=\"436.5\" y1=\"210.9375\" y2=\"210.9375\"/></a><!--MD5=[b9389687b975829384b498ac4b7476b2]\n",
       "class E8--><a href=\"psysml:47dc4f88-d05c-4598-a7e7-ecfe5751dc87\" target=\"_top\" title=\"psysml:47dc4f88-d05c-4598-a7e7-ecfe5751dc87\" xlink:actuate=\"onRequest\" xlink:href=\"psysml:47dc4f88-d05c-4598-a7e7-ecfe5751dc87\" xlink:show=\"new\" xlink:title=\"psysml:47dc4f88-d05c-4598-a7e7-ecfe5751dc87\" xlink:type=\"simple\"><rect fill=\"#FFFFFF\" height=\"45.9375\" id=\"E8\" rx=\"10\" ry=\"10\" style=\"stroke: #383838; stroke-width: 1.5;\" width=\"71\" x=\"98.5\" y=\"206\"/><text fill=\"#000000\" font-family=\"sans-serif\" font-size=\"12\" font-style=\"italic\" lengthAdjust=\"spacingAndGlyphs\" textLength=\"69\" x=\"99.5\" y=\"222.1387\">«attribute»</text><text fill=\"#000000\" font-family=\"sans-serif\" font-size=\"12\" lengthAdjust=\"spacingAndGlyphs\" textLength=\"5\" x=\"131.5\" y=\"236.1074\">z</text><line style=\"stroke: #383838; stroke-width: 1.5;\" x1=\"99.5\" x2=\"168.5\" y1=\"243.9375\" y2=\"243.9375\"/></a><a href=\"psysml:59f5b99d-24d3-4acd-853e-8f7f0b563d54\" target=\"_top\" title=\"psysml:59f5b99d-24d3-4acd-853e-8f7f0b563d54\" xlink:actuate=\"onRequest\" xlink:href=\"psysml:59f5b99d-24d3-4acd-853e-8f7f0b563d54\" xlink:show=\"new\" xlink:title=\"psysml:59f5b99d-24d3-4acd-853e-8f7f0b563d54\" xlink:type=\"simple\"><polygon fill=\"#FFFFFF\" points=\"56,84.5,198,84.5,205,106.7969,212,106.7969,212,137.0938,56,137.0938,56,84.5\" style=\"stroke: #000000; stroke-width: 1.5;\"/><line style=\"stroke: #000000; stroke-width: 1.5;\" x1=\"56\" x2=\"205\" y1=\"106.7969\" y2=\"106.7969\"/><text fill=\"#000000\" font-family=\"sans-serif\" font-size=\"14\" font-weight=\"bold\" lengthAdjust=\"spacingAndGlyphs\" textLength=\"136\" x=\"60\" y=\"99.4951\">Application Layer</text></a><a href=\"psysml:5cfbc3a5-c556-4af2-acf6-f60fe409e97c\" target=\"_top\" title=\"psysml:5cfbc3a5-c556-4af2-acf6-f60fe409e97c\" xlink:actuate=\"onRequest\" xlink:href=\"psysml:5cfbc3a5-c556-4af2-acf6-f60fe409e97c\" xlink:show=\"new\" xlink:title=\"psysml:5cfbc3a5-c556-4af2-acf6-f60fe409e97c\" xlink:type=\"simple\"><polygon fill=\"#FFFFFF\" points=\"338,84.5,452,84.5,459,106.7969,466,106.7969,466,137.0938,338,137.0938,338,84.5\" style=\"stroke: #000000; stroke-width: 1.5;\"/><line style=\"stroke: #000000; stroke-width: 1.5;\" x1=\"338\" x2=\"459\" y1=\"106.7969\" y2=\"106.7969\"/><text fill=\"#000000\" font-family=\"sans-serif\" font-size=\"14\" font-weight=\"bold\" lengthAdjust=\"spacingAndGlyphs\" textLength=\"108\" x=\"342\" y=\"99.4951\">Service Layer</text></a><a href=\"psysml:acb31344-a810-41ff-bc38-efd03bbf6ecb\" target=\"_top\" title=\"psysml:acb31344-a810-41ff-bc38-efd03bbf6ecb\" xlink:actuate=\"onRequest\" xlink:href=\"psysml:acb31344-a810-41ff-bc38-efd03bbf6ecb\" xlink:show=\"new\" xlink:title=\"psysml:acb31344-a810-41ff-bc38-efd03bbf6ecb\" xlink:type=\"simple\"><polygon fill=\"#FFFFFF\" points=\"592,84.5,682,84.5,689,106.7969,696,106.7969,696,137.0938,592,137.0938,592,84.5\" style=\"stroke: #000000; stroke-width: 1.5;\"/><line style=\"stroke: #000000; stroke-width: 1.5;\" x1=\"592\" x2=\"689\" y1=\"106.7969\" y2=\"106.7969\"/><text fill=\"#000000\" font-family=\"sans-serif\" font-size=\"14\" font-weight=\"bold\" lengthAdjust=\"spacingAndGlyphs\" textLength=\"84\" x=\"596\" y=\"99.4951\">Data Layer</text></a><!--MD5=[af87c684e3b0d8be13c1a698a818ef1e]\n",
       "link E3 to E4--><a href=\"psysml:952f286e-4b84-47c6-949f-c687a4b4f029\" target=\"_top\" title=\"psysml:952f286e-4b84-47c6-949f-c687a4b4f029\" xlink:actuate=\"onRequest\" xlink:href=\"psysml:952f286e-4b84-47c6-949f-c687a4b4f029\" xlink:show=\"new\" xlink:title=\"psysml:952f286e-4b84-47c6-949f-c687a4b4f029\" xlink:type=\"simple\"><path d=\"M212.3,111 C249.37,111 293.5,111 329.76,111 \" fill=\"none\" id=\"E3-&gt;E4\" style=\"stroke: #383838; stroke-width: 1.0; stroke-dasharray: 7.0,7.0;\"/><polygon fill=\"#383838\" points=\"337.84,111,329.84,108,329.84,114,337.84,111\" style=\"stroke: #383838; stroke-width: 1.0;\"/><text fill=\"#000000\" font-family=\"sans-serif\" font-size=\"13\" lengthAdjust=\"spacingAndGlyphs\" textLength=\"64\" x=\"243\" y=\"107.0669\">«depend»</text></a><!--MD5=[1b7591eae5389033d8d09a9d6721a717]\n",
       "link E4 to E5--><a href=\"psysml:7352021b-a74c-4755-9a9f-544f5d5618ed\" target=\"_top\" title=\"psysml:7352021b-a74c-4755-9a9f-544f5d5618ed\" xlink:actuate=\"onRequest\" xlink:href=\"psysml:7352021b-a74c-4755-9a9f-544f5d5618ed\" xlink:show=\"new\" xlink:title=\"psysml:7352021b-a74c-4755-9a9f-544f5d5618ed\" xlink:type=\"simple\"><path d=\"M466.06,111 C502.32,111 547.6,111 583.28,111 \" fill=\"none\" id=\"E4-&gt;E5\" style=\"stroke: #383838; stroke-width: 1.0; stroke-dasharray: 7.0,7.0;\"/><polygon fill=\"#383838\" points=\"591.67,111,583.67,108,583.67,114,591.67,111\" style=\"stroke: #383838; stroke-width: 1.0;\"/><text fill=\"#000000\" font-family=\"sans-serif\" font-size=\"13\" lengthAdjust=\"spacingAndGlyphs\" textLength=\"64\" x=\"497\" y=\"107.0669\">«depend»</text></a><!--MD5=[c5e8897d989ce984f93528998a7150fe]\n",
       "link E8 to E6--><a href=\"psysml:c2ca5ac6-1591-4e08-969e-b115a3bed697\" target=\"_top\" title=\"psysml:c2ca5ac6-1591-4e08-969e-b115a3bed697\" xlink:actuate=\"onRequest\" xlink:href=\"psysml:c2ca5ac6-1591-4e08-969e-b115a3bed697\" xlink:show=\"new\" xlink:title=\"psysml:c2ca5ac6-1591-4e08-969e-b115a3bed697\" xlink:type=\"simple\"><path d=\"M169.5,235.23 C217.81,243.94 305.54,259.77 358.03,269.25 \" fill=\"none\" id=\"E8-&gt;E6\" style=\"stroke: #383838; stroke-width: 1.0; stroke-dasharray: 7.0,7.0;\"/><polygon fill=\"#383838\" points=\"366.14,270.71,358.7966,266.3425,357.7356,272.248,366.14,270.71\" style=\"stroke: #383838; stroke-width: 1.0;\"/><text fill=\"#000000\" font-family=\"sans-serif\" font-size=\"13\" lengthAdjust=\"spacingAndGlyphs\" textLength=\"64\" x=\"243\" y=\"245.0669\">«depend»</text></a><!--MD5=[bfa3c8b0d15052fdf50ae9310b491027]\n",
       "link E8 to E7--><a href=\"psysml:c2ca5ac6-1591-4e08-969e-b115a3bed697\" target=\"_top\" title=\"psysml:c2ca5ac6-1591-4e08-969e-b115a3bed697\" xlink:actuate=\"onRequest\" xlink:href=\"psysml:c2ca5ac6-1591-4e08-969e-b115a3bed697\" xlink:show=\"new\" xlink:title=\"psysml:c2ca5ac6-1591-4e08-969e-b115a3bed697\" xlink:type=\"simple\"><path d=\"M169.5,224.72 C217.81,218.73 305.54,207.84 358.03,201.33 \" fill=\"none\" id=\"E8-&gt;E7\" style=\"stroke: #383838; stroke-width: 1.0; stroke-dasharray: 7.0,7.0;\"/><polygon fill=\"#383838\" points=\"366.14,200.33,357.8314,198.3381,358.5704,204.2924,366.14,200.33\" style=\"stroke: #383838; stroke-width: 1.0;\"/><text fill=\"#000000\" font-family=\"sans-serif\" font-size=\"13\" lengthAdjust=\"spacingAndGlyphs\" textLength=\"64\" x=\"243\" y=\"204.0669\">«depend»</text></a><!--MD5=[2eae98bf145a09f19b9c36f5d6a0c07f]\n",
       "@startuml\r\n",
       "left to right direction\r\n",
       "skinparam monochrome true\r\n",
       "skinparam classbackgroundcolor white\r\n",
       "skinparam shadowing false\r\n",
       "skinparam wrapWidth 300\r\n",
       "hide circle\r\n",
       "\r\n",
       "package \"DependencyTest\" as E1  [[psysml:cb8a6054-43e9-4191-a3b4-d53f2df2fcdf ]]  {\r\n",
       "package \"System\" as E2  [[psysml:b8ece1dd-151a-4631-92e5-c2dbf563fb8b ]]  {\r\n",
       "package \"Application Layer\" as E3  [[psysml:59f5b99d-24d3-4acd-853e-8f7f0b563d54 ]]  {\r\n",
       "}\r\n",
       "package \"Service Layer\" as E4  [[psysml:5cfbc3a5-c556-4af2-acf6-f60fe409e97c ]]  {\r\n",
       "}\r\n",
       "package \"Data Layer\" as E5  [[psysml:acb31344-a810-41ff-bc38-efd03bbf6ecb ]]  {\r\n",
       "}\r\n",
       "}\r\n",
       "comp usage \"x\" as E6  <<(T,blue)attribute>> [[psysml:3db867e9-a237-498d-9697-66a5ca6752eb ]] {\r\n",
       "}\r\n",
       "comp usage \"y\" as E7  <<(T,blue)attribute>> [[psysml:c548d046-cadc-4301-a44e-d185972c752b ]] {\r\n",
       "}\r\n",
       "comp usage \"z\" as E8  <<(T,blue)attribute>> [[psysml:47dc4f88-d05c-4598-a7e7-ecfe5751dc87 ]] {\r\n",
       "}\r\n",
       "E3 ..>> E4 [[psysml:952f286e-4b84-47c6-949f-c687a4b4f029 ]] : <<depend>>\r\n",
       "E4 ..>> E5 [[psysml:7352021b-a74c-4755-9a9f-544f5d5618ed ]] : <<depend>>\r\n",
       "E8 ..>> E6 [[psysml:c2ca5ac6-1591-4e08-969e-b115a3bed697 ]] : <<depend>>\r\n",
       "E8 ..>> E7 [[psysml:c2ca5ac6-1591-4e08-969e-b115a3bed697 ]] : <<depend>>\r\n",
       "}\r\n",
       "@enduml\r\n",
       "\n",
       "PlantUML version 1.2020.13(Sat Jun 13 12:26:38 UTC 2020)\n",
       "(EPL source distribution)\n",
       "Java Runtime: OpenJDK Runtime Environment\n",
       "JVM: OpenJDK 64-Bit Server VM\n",
       "Default Encoding: UTF-8\n",
       "Language: en\n",
       "Country: null\n",
       "--></g></svg>"
      ]
     },
     "execution_count": 16,
     "metadata": {},
     "output_type": "execute_result"
    }
   ],
   "source": [
    "%viz --style=\"LR\" --view=\"Default\" \"DependencyTest\""
   ]
  },
  {
   "cell_type": "code",
   "execution_count": 17,
   "id": "00dcd747",
   "metadata": {
    "execution": {
     "iopub.execute_input": "2021-04-20T07:03:24.114336Z",
     "iopub.status.busy": "2021-04-20T07:03:24.113999Z",
     "iopub.status.idle": "2021-04-20T07:03:24.153967Z",
     "shell.execute_reply": "2021-04-20T07:03:24.153551Z"
    }
   },
   "outputs": [
    {
     "data": {
      "image/svg+xml": [
       "<?xml version=\"1.0\" encoding=\"UTF-8\" standalone=\"no\"?><svg xmlns=\"http://www.w3.org/2000/svg\" xmlns:xlink=\"http://www.w3.org/1999/xlink\" contentScriptType=\"application/ecmascript\" contentStyleType=\"text/css\" height=\"328px\" preserveAspectRatio=\"none\" style=\"width:758px;height:328px;\" version=\"1.1\" viewBox=\"0 0 758 328\" width=\"758px\" zoomAndPan=\"magnify\"><defs/><g><!--MD5=[fbc87193dbaf4d95561dea2c320d4a47]\n",
       "cluster E1--><a href=\"psysml:cb8a6054-43e9-4191-a3b4-d53f2df2fcdf\" target=\"_top\" title=\"psysml:cb8a6054-43e9-4191-a3b4-d53f2df2fcdf\" xlink:actuate=\"onRequest\" xlink:href=\"psysml:cb8a6054-43e9-4191-a3b4-d53f2df2fcdf\" xlink:show=\"new\" xlink:title=\"psysml:cb8a6054-43e9-4191-a3b4-d53f2df2fcdf\" xlink:type=\"simple\"><polygon fill=\"#FFFFFF\" points=\"16,6,156,6,163,28.2969,736,28.2969,736,316,16,316,16,6\" style=\"stroke: #000000; stroke-width: 1.5;\"/><line style=\"stroke: #000000; stroke-width: 1.5;\" x1=\"16\" x2=\"163\" y1=\"28.2969\" y2=\"28.2969\"/><text fill=\"#000000\" font-family=\"sans-serif\" font-size=\"14\" font-weight=\"bold\" lengthAdjust=\"spacingAndGlyphs\" textLength=\"134\" x=\"20\" y=\"20.9951\">DependencyTest</text></a><!--MD5=[e4f7fae6ed58524ba242bb0b0d3be6b7]\n",
       "cluster E2--><a href=\"psysml:b8ece1dd-151a-4631-92e5-c2dbf563fb8b\" target=\"_top\" title=\"psysml:b8ece1dd-151a-4631-92e5-c2dbf563fb8b\" xlink:actuate=\"onRequest\" xlink:href=\"psysml:b8ece1dd-151a-4631-92e5-c2dbf563fb8b\" xlink:show=\"new\" xlink:title=\"psysml:b8ece1dd-151a-4631-92e5-c2dbf563fb8b\" xlink:type=\"simple\"><polygon fill=\"#FFFFFF\" points=\"40,49,104,49,111,71.2969,712,71.2969,712,154,40,154,40,49\" style=\"stroke: #000000; stroke-width: 1.5;\"/><line style=\"stroke: #000000; stroke-width: 1.5;\" x1=\"40\" x2=\"111\" y1=\"71.2969\" y2=\"71.2969\"/><text fill=\"#000000\" font-family=\"sans-serif\" font-size=\"14\" font-weight=\"bold\" lengthAdjust=\"spacingAndGlyphs\" textLength=\"58\" x=\"44\" y=\"63.9951\">System</text></a><!--MD5=[60a26617385b1d2d0262a64233df1f8d]\n",
       "class E6--><a href=\"psysml:3db867e9-a237-498d-9697-66a5ca6752eb\" target=\"_top\" title=\"psysml:3db867e9-a237-498d-9697-66a5ca6752eb\" xlink:actuate=\"onRequest\" xlink:href=\"psysml:3db867e9-a237-498d-9697-66a5ca6752eb\" xlink:show=\"new\" xlink:title=\"psysml:3db867e9-a237-498d-9697-66a5ca6752eb\" xlink:type=\"simple\"><rect fill=\"#FFFFFF\" height=\"45.9375\" id=\"E6\" rx=\"10\" ry=\"10\" style=\"stroke: #383838; stroke-width: 1.5;\" width=\"71\" x=\"366.5\" y=\"254\"/><text fill=\"#000000\" font-family=\"sans-serif\" font-size=\"12\" font-style=\"italic\" lengthAdjust=\"spacingAndGlyphs\" textLength=\"69\" x=\"367.5\" y=\"270.1387\">«attribute»</text><text fill=\"#000000\" font-family=\"sans-serif\" font-size=\"12\" lengthAdjust=\"spacingAndGlyphs\" textLength=\"6\" x=\"399\" y=\"284.1074\">x</text><line style=\"stroke: #383838; stroke-width: 1.5;\" x1=\"367.5\" x2=\"436.5\" y1=\"291.9375\" y2=\"291.9375\"/></a><!--MD5=[2156ba9850f5573cc1fc38a6a4b2f02b]\n",
       "class E7--><a href=\"psysml:c548d046-cadc-4301-a44e-d185972c752b\" target=\"_top\" title=\"psysml:c548d046-cadc-4301-a44e-d185972c752b\" xlink:actuate=\"onRequest\" xlink:href=\"psysml:c548d046-cadc-4301-a44e-d185972c752b\" xlink:show=\"new\" xlink:title=\"psysml:c548d046-cadc-4301-a44e-d185972c752b\" xlink:type=\"simple\"><rect fill=\"#FFFFFF\" height=\"45.9375\" id=\"E7\" rx=\"10\" ry=\"10\" style=\"stroke: #383838; stroke-width: 1.5;\" width=\"71\" x=\"366.5\" y=\"173\"/><text fill=\"#000000\" font-family=\"sans-serif\" font-size=\"12\" font-style=\"italic\" lengthAdjust=\"spacingAndGlyphs\" textLength=\"69\" x=\"367.5\" y=\"189.1387\">«attribute»</text><text fill=\"#000000\" font-family=\"sans-serif\" font-size=\"12\" lengthAdjust=\"spacingAndGlyphs\" textLength=\"6\" x=\"399\" y=\"203.1074\">y</text><line style=\"stroke: #383838; stroke-width: 1.5;\" x1=\"367.5\" x2=\"436.5\" y1=\"210.9375\" y2=\"210.9375\"/></a><!--MD5=[b9389687b975829384b498ac4b7476b2]\n",
       "class E8--><a href=\"psysml:47dc4f88-d05c-4598-a7e7-ecfe5751dc87\" target=\"_top\" title=\"psysml:47dc4f88-d05c-4598-a7e7-ecfe5751dc87\" xlink:actuate=\"onRequest\" xlink:href=\"psysml:47dc4f88-d05c-4598-a7e7-ecfe5751dc87\" xlink:show=\"new\" xlink:title=\"psysml:47dc4f88-d05c-4598-a7e7-ecfe5751dc87\" xlink:type=\"simple\"><rect fill=\"#FFFFFF\" height=\"45.9375\" id=\"E8\" rx=\"10\" ry=\"10\" style=\"stroke: #383838; stroke-width: 1.5;\" width=\"71\" x=\"98.5\" y=\"206\"/><text fill=\"#000000\" font-family=\"sans-serif\" font-size=\"12\" font-style=\"italic\" lengthAdjust=\"spacingAndGlyphs\" textLength=\"69\" x=\"99.5\" y=\"222.1387\">«attribute»</text><text fill=\"#000000\" font-family=\"sans-serif\" font-size=\"12\" lengthAdjust=\"spacingAndGlyphs\" textLength=\"5\" x=\"131.5\" y=\"236.1074\">z</text><line style=\"stroke: #383838; stroke-width: 1.5;\" x1=\"99.5\" x2=\"168.5\" y1=\"243.9375\" y2=\"243.9375\"/></a><a href=\"psysml:59f5b99d-24d3-4acd-853e-8f7f0b563d54\" target=\"_top\" title=\"psysml:59f5b99d-24d3-4acd-853e-8f7f0b563d54\" xlink:actuate=\"onRequest\" xlink:href=\"psysml:59f5b99d-24d3-4acd-853e-8f7f0b563d54\" xlink:show=\"new\" xlink:title=\"psysml:59f5b99d-24d3-4acd-853e-8f7f0b563d54\" xlink:type=\"simple\"><polygon fill=\"#FFFFFF\" points=\"56,84.5,198,84.5,205,106.7969,212,106.7969,212,137.0938,56,137.0938,56,84.5\" style=\"stroke: #000000; stroke-width: 1.5;\"/><line style=\"stroke: #000000; stroke-width: 1.5;\" x1=\"56\" x2=\"205\" y1=\"106.7969\" y2=\"106.7969\"/><text fill=\"#000000\" font-family=\"sans-serif\" font-size=\"14\" font-weight=\"bold\" lengthAdjust=\"spacingAndGlyphs\" textLength=\"136\" x=\"60\" y=\"99.4951\">Application Layer</text></a><a href=\"psysml:5cfbc3a5-c556-4af2-acf6-f60fe409e97c\" target=\"_top\" title=\"psysml:5cfbc3a5-c556-4af2-acf6-f60fe409e97c\" xlink:actuate=\"onRequest\" xlink:href=\"psysml:5cfbc3a5-c556-4af2-acf6-f60fe409e97c\" xlink:show=\"new\" xlink:title=\"psysml:5cfbc3a5-c556-4af2-acf6-f60fe409e97c\" xlink:type=\"simple\"><polygon fill=\"#FFFFFF\" points=\"338,84.5,452,84.5,459,106.7969,466,106.7969,466,137.0938,338,137.0938,338,84.5\" style=\"stroke: #000000; stroke-width: 1.5;\"/><line style=\"stroke: #000000; stroke-width: 1.5;\" x1=\"338\" x2=\"459\" y1=\"106.7969\" y2=\"106.7969\"/><text fill=\"#000000\" font-family=\"sans-serif\" font-size=\"14\" font-weight=\"bold\" lengthAdjust=\"spacingAndGlyphs\" textLength=\"108\" x=\"342\" y=\"99.4951\">Service Layer</text></a><a href=\"psysml:acb31344-a810-41ff-bc38-efd03bbf6ecb\" target=\"_top\" title=\"psysml:acb31344-a810-41ff-bc38-efd03bbf6ecb\" xlink:actuate=\"onRequest\" xlink:href=\"psysml:acb31344-a810-41ff-bc38-efd03bbf6ecb\" xlink:show=\"new\" xlink:title=\"psysml:acb31344-a810-41ff-bc38-efd03bbf6ecb\" xlink:type=\"simple\"><polygon fill=\"#FFFFFF\" points=\"592,84.5,682,84.5,689,106.7969,696,106.7969,696,137.0938,592,137.0938,592,84.5\" style=\"stroke: #000000; stroke-width: 1.5;\"/><line style=\"stroke: #000000; stroke-width: 1.5;\" x1=\"592\" x2=\"689\" y1=\"106.7969\" y2=\"106.7969\"/><text fill=\"#000000\" font-family=\"sans-serif\" font-size=\"14\" font-weight=\"bold\" lengthAdjust=\"spacingAndGlyphs\" textLength=\"84\" x=\"596\" y=\"99.4951\">Data Layer</text></a><!--MD5=[af87c684e3b0d8be13c1a698a818ef1e]\n",
       "link E3 to E4--><a href=\"psysml:952f286e-4b84-47c6-949f-c687a4b4f029\" target=\"_top\" title=\"psysml:952f286e-4b84-47c6-949f-c687a4b4f029\" xlink:actuate=\"onRequest\" xlink:href=\"psysml:952f286e-4b84-47c6-949f-c687a4b4f029\" xlink:show=\"new\" xlink:title=\"psysml:952f286e-4b84-47c6-949f-c687a4b4f029\" xlink:type=\"simple\"><path d=\"M212.3,111 C249.37,111 293.5,111 329.76,111 \" fill=\"none\" id=\"E3-&gt;E4\" style=\"stroke: #383838; stroke-width: 1.0; stroke-dasharray: 7.0,7.0;\"/><polygon fill=\"#383838\" points=\"337.84,111,329.84,108,329.84,114,337.84,111\" style=\"stroke: #383838; stroke-width: 1.0;\"/><text fill=\"#000000\" font-family=\"sans-serif\" font-size=\"13\" lengthAdjust=\"spacingAndGlyphs\" textLength=\"64\" x=\"243\" y=\"107.0669\">«depend»</text></a><!--MD5=[1b7591eae5389033d8d09a9d6721a717]\n",
       "link E4 to E5--><a href=\"psysml:7352021b-a74c-4755-9a9f-544f5d5618ed\" target=\"_top\" title=\"psysml:7352021b-a74c-4755-9a9f-544f5d5618ed\" xlink:actuate=\"onRequest\" xlink:href=\"psysml:7352021b-a74c-4755-9a9f-544f5d5618ed\" xlink:show=\"new\" xlink:title=\"psysml:7352021b-a74c-4755-9a9f-544f5d5618ed\" xlink:type=\"simple\"><path d=\"M466.06,111 C502.32,111 547.6,111 583.28,111 \" fill=\"none\" id=\"E4-&gt;E5\" style=\"stroke: #383838; stroke-width: 1.0; stroke-dasharray: 7.0,7.0;\"/><polygon fill=\"#383838\" points=\"591.67,111,583.67,108,583.67,114,591.67,111\" style=\"stroke: #383838; stroke-width: 1.0;\"/><text fill=\"#000000\" font-family=\"sans-serif\" font-size=\"13\" lengthAdjust=\"spacingAndGlyphs\" textLength=\"64\" x=\"497\" y=\"107.0669\">«depend»</text></a><!--MD5=[c5e8897d989ce984f93528998a7150fe]\n",
       "link E8 to E6--><a href=\"psysml:c2ca5ac6-1591-4e08-969e-b115a3bed697\" target=\"_top\" title=\"psysml:c2ca5ac6-1591-4e08-969e-b115a3bed697\" xlink:actuate=\"onRequest\" xlink:href=\"psysml:c2ca5ac6-1591-4e08-969e-b115a3bed697\" xlink:show=\"new\" xlink:title=\"psysml:c2ca5ac6-1591-4e08-969e-b115a3bed697\" xlink:type=\"simple\"><path d=\"M169.5,235.23 C217.81,243.94 305.54,259.77 358.03,269.25 \" fill=\"none\" id=\"E8-&gt;E6\" style=\"stroke: #383838; stroke-width: 1.0; stroke-dasharray: 7.0,7.0;\"/><polygon fill=\"#383838\" points=\"366.14,270.71,358.7966,266.3425,357.7356,272.248,366.14,270.71\" style=\"stroke: #383838; stroke-width: 1.0;\"/><text fill=\"#000000\" font-family=\"sans-serif\" font-size=\"13\" lengthAdjust=\"spacingAndGlyphs\" textLength=\"64\" x=\"243\" y=\"245.0669\">«depend»</text></a><!--MD5=[bfa3c8b0d15052fdf50ae9310b491027]\n",
       "link E8 to E7--><a href=\"psysml:c2ca5ac6-1591-4e08-969e-b115a3bed697\" target=\"_top\" title=\"psysml:c2ca5ac6-1591-4e08-969e-b115a3bed697\" xlink:actuate=\"onRequest\" xlink:href=\"psysml:c2ca5ac6-1591-4e08-969e-b115a3bed697\" xlink:show=\"new\" xlink:title=\"psysml:c2ca5ac6-1591-4e08-969e-b115a3bed697\" xlink:type=\"simple\"><path d=\"M169.5,224.72 C217.81,218.73 305.54,207.84 358.03,201.33 \" fill=\"none\" id=\"E8-&gt;E7\" style=\"stroke: #383838; stroke-width: 1.0; stroke-dasharray: 7.0,7.0;\"/><polygon fill=\"#383838\" points=\"366.14,200.33,357.8314,198.3381,358.5704,204.2924,366.14,200.33\" style=\"stroke: #383838; stroke-width: 1.0;\"/><text fill=\"#000000\" font-family=\"sans-serif\" font-size=\"13\" lengthAdjust=\"spacingAndGlyphs\" textLength=\"64\" x=\"243\" y=\"204.0669\">«depend»</text></a><!--MD5=[2eae98bf145a09f19b9c36f5d6a0c07f]\n",
       "@startuml\r\n",
       "left to right direction\r\n",
       "skinparam monochrome true\r\n",
       "skinparam classbackgroundcolor white\r\n",
       "skinparam shadowing false\r\n",
       "skinparam wrapWidth 300\r\n",
       "hide circle\r\n",
       "\r\n",
       "package \"DependencyTest\" as E1  [[psysml:cb8a6054-43e9-4191-a3b4-d53f2df2fcdf ]]  {\r\n",
       "package \"System\" as E2  [[psysml:b8ece1dd-151a-4631-92e5-c2dbf563fb8b ]]  {\r\n",
       "package \"Application Layer\" as E3  [[psysml:59f5b99d-24d3-4acd-853e-8f7f0b563d54 ]]  {\r\n",
       "}\r\n",
       "package \"Service Layer\" as E4  [[psysml:5cfbc3a5-c556-4af2-acf6-f60fe409e97c ]]  {\r\n",
       "}\r\n",
       "package \"Data Layer\" as E5  [[psysml:acb31344-a810-41ff-bc38-efd03bbf6ecb ]]  {\r\n",
       "}\r\n",
       "}\r\n",
       "comp usage \"x\" as E6  <<(T,blue)attribute>> [[psysml:3db867e9-a237-498d-9697-66a5ca6752eb ]] {\r\n",
       "}\r\n",
       "comp usage \"y\" as E7  <<(T,blue)attribute>> [[psysml:c548d046-cadc-4301-a44e-d185972c752b ]] {\r\n",
       "}\r\n",
       "comp usage \"z\" as E8  <<(T,blue)attribute>> [[psysml:47dc4f88-d05c-4598-a7e7-ecfe5751dc87 ]] {\r\n",
       "}\r\n",
       "E3 ..>> E4 [[psysml:952f286e-4b84-47c6-949f-c687a4b4f029 ]] : <<depend>>\r\n",
       "E4 ..>> E5 [[psysml:7352021b-a74c-4755-9a9f-544f5d5618ed ]] : <<depend>>\r\n",
       "E8 ..>> E6 [[psysml:c2ca5ac6-1591-4e08-969e-b115a3bed697 ]] : <<depend>>\r\n",
       "E8 ..>> E7 [[psysml:c2ca5ac6-1591-4e08-969e-b115a3bed697 ]] : <<depend>>\r\n",
       "}\r\n",
       "@enduml\r\n",
       "\n",
       "PlantUML version 1.2020.13(Sat Jun 13 12:26:38 UTC 2020)\n",
       "(EPL source distribution)\n",
       "Java Runtime: OpenJDK Runtime Environment\n",
       "JVM: OpenJDK 64-Bit Server VM\n",
       "Default Encoding: UTF-8\n",
       "Language: en\n",
       "Country: null\n",
       "--></g></svg>"
      ]
     },
     "execution_count": 17,
     "metadata": {},
     "output_type": "execute_result"
    }
   ],
   "source": [
    "%viz --style=\"LR\" --view=\"Tree\" \"DependencyTest\""
   ]
  },
  {
   "cell_type": "code",
   "execution_count": 18,
   "id": "777b278d",
   "metadata": {
    "execution": {
     "iopub.execute_input": "2021-04-20T07:03:24.204389Z",
     "iopub.status.busy": "2021-04-20T07:03:24.203858Z",
     "iopub.status.idle": "2021-04-20T07:03:24.211490Z",
     "shell.execute_reply": "2021-04-20T07:03:24.211204Z"
    }
   },
   "outputs": [
    {
     "data": {
      "image/svg+xml": [
       "<?xml version=\"1.0\" encoding=\"UTF-8\" standalone=\"no\"?><svg xmlns=\"http://www.w3.org/2000/svg\" xmlns:xlink=\"http://www.w3.org/1999/xlink\" contentScriptType=\"application/ecmascript\" contentStyleType=\"text/css\" height=\"12px\" preserveAspectRatio=\"none\" style=\"width:12px;height:12px;\" version=\"1.1\" viewBox=\"0 0 12 12\" width=\"12px\" zoomAndPan=\"magnify\"><defs/><g><!--MD5=[19d285c9d72a204eba4e2cd117d745e8]\n",
       "@startuml\r\n",
       "left to right direction\r\n",
       "skinparam monochrome true\r\n",
       "skinparam classbackgroundcolor white\r\n",
       "skinparam shadowing false\r\n",
       "skinparam wrapWidth 300\r\n",
       "hide circle\r\n",
       "\r\n",
       "@enduml\r\n",
       "\n",
       "PlantUML version 1.2020.13(Sat Jun 13 12:26:38 UTC 2020)\n",
       "(EPL source distribution)\n",
       "Java Runtime: OpenJDK Runtime Environment\n",
       "JVM: OpenJDK 64-Bit Server VM\n",
       "Default Encoding: UTF-8\n",
       "Language: en\n",
       "Country: null\n",
       "--></g></svg>"
      ]
     },
     "execution_count": 18,
     "metadata": {},
     "output_type": "execute_result"
    }
   ],
   "source": [
    "%viz --style=\"LR\" --view=\"State\" \"DependencyTest\""
   ]
  },
  {
   "cell_type": "code",
   "execution_count": 19,
   "id": "048051f9",
   "metadata": {
    "execution": {
     "iopub.execute_input": "2021-04-20T07:03:24.263997Z",
     "iopub.status.busy": "2021-04-20T07:03:24.263396Z",
     "iopub.status.idle": "2021-04-20T07:03:24.304073Z",
     "shell.execute_reply": "2021-04-20T07:03:24.302677Z"
    }
   },
   "outputs": [
    {
     "data": {
      "image/svg+xml": [
       "<?xml version=\"1.0\" encoding=\"UTF-8\" standalone=\"no\"?><svg xmlns=\"http://www.w3.org/2000/svg\" xmlns:xlink=\"http://www.w3.org/1999/xlink\" contentScriptType=\"application/ecmascript\" contentStyleType=\"text/css\" height=\"328px\" preserveAspectRatio=\"none\" style=\"width:670px;height:328px;\" version=\"1.1\" viewBox=\"0 0 670 328\" width=\"670px\" zoomAndPan=\"magnify\"><defs/><g><!--MD5=[fbc87193dbaf4d95561dea2c320d4a47]\n",
       "cluster E1--><a href=\"psysml:cb8a6054-43e9-4191-a3b4-d53f2df2fcdf\" target=\"_top\" title=\"psysml:cb8a6054-43e9-4191-a3b4-d53f2df2fcdf\" xlink:actuate=\"onRequest\" xlink:href=\"psysml:cb8a6054-43e9-4191-a3b4-d53f2df2fcdf\" xlink:show=\"new\" xlink:title=\"psysml:cb8a6054-43e9-4191-a3b4-d53f2df2fcdf\" xlink:type=\"simple\"><polygon fill=\"#FFFFFF\" points=\"16,6,156,6,163,28.2969,648,28.2969,648,316,16,316,16,6\" style=\"stroke: #000000; stroke-width: 1.5;\"/><line style=\"stroke: #000000; stroke-width: 1.5;\" x1=\"16\" x2=\"163\" y1=\"28.2969\" y2=\"28.2969\"/><text fill=\"#000000\" font-family=\"sans-serif\" font-size=\"14\" font-weight=\"bold\" lengthAdjust=\"spacingAndGlyphs\" textLength=\"134\" x=\"20\" y=\"20.9951\">DependencyTest</text></a><!--MD5=[e4f7fae6ed58524ba242bb0b0d3be6b7]\n",
       "cluster E2--><a href=\"psysml:b8ece1dd-151a-4631-92e5-c2dbf563fb8b\" target=\"_top\" title=\"psysml:b8ece1dd-151a-4631-92e5-c2dbf563fb8b\" xlink:actuate=\"onRequest\" xlink:href=\"psysml:b8ece1dd-151a-4631-92e5-c2dbf563fb8b\" xlink:show=\"new\" xlink:title=\"psysml:b8ece1dd-151a-4631-92e5-c2dbf563fb8b\" xlink:type=\"simple\"><polygon fill=\"#FFFFFF\" points=\"40,49,104,49,111,71.2969,624,71.2969,624,154,40,154,40,49\" style=\"stroke: #000000; stroke-width: 1.5;\"/><line style=\"stroke: #000000; stroke-width: 1.5;\" x1=\"40\" x2=\"111\" y1=\"71.2969\" y2=\"71.2969\"/><text fill=\"#000000\" font-family=\"sans-serif\" font-size=\"14\" font-weight=\"bold\" lengthAdjust=\"spacingAndGlyphs\" textLength=\"58\" x=\"44\" y=\"63.9951\">System</text></a><!--MD5=[60a26617385b1d2d0262a64233df1f8d]\n",
       "class E6--><a href=\"psysml:3db867e9-a237-498d-9697-66a5ca6752eb\" target=\"_top\" title=\"psysml:3db867e9-a237-498d-9697-66a5ca6752eb\" xlink:actuate=\"onRequest\" xlink:href=\"psysml:3db867e9-a237-498d-9697-66a5ca6752eb\" xlink:show=\"new\" xlink:title=\"psysml:3db867e9-a237-498d-9697-66a5ca6752eb\" xlink:type=\"simple\"><rect fill=\"#FFFFFF\" height=\"45.9375\" id=\"E6\" rx=\"10\" ry=\"10\" style=\"stroke: #383838; stroke-width: 1.5;\" width=\"71\" x=\"322.5\" y=\"254\"/><text fill=\"#000000\" font-family=\"sans-serif\" font-size=\"12\" font-style=\"italic\" lengthAdjust=\"spacingAndGlyphs\" textLength=\"69\" x=\"323.5\" y=\"270.1387\">«attribute»</text><text fill=\"#000000\" font-family=\"sans-serif\" font-size=\"12\" lengthAdjust=\"spacingAndGlyphs\" textLength=\"6\" x=\"355\" y=\"284.1074\">x</text><line style=\"stroke: #383838; stroke-width: 1.5;\" x1=\"323.5\" x2=\"392.5\" y1=\"291.9375\" y2=\"291.9375\"/></a><!--MD5=[2156ba9850f5573cc1fc38a6a4b2f02b]\n",
       "class E7--><a href=\"psysml:c548d046-cadc-4301-a44e-d185972c752b\" target=\"_top\" title=\"psysml:c548d046-cadc-4301-a44e-d185972c752b\" xlink:actuate=\"onRequest\" xlink:href=\"psysml:c548d046-cadc-4301-a44e-d185972c752b\" xlink:show=\"new\" xlink:title=\"psysml:c548d046-cadc-4301-a44e-d185972c752b\" xlink:type=\"simple\"><rect fill=\"#FFFFFF\" height=\"45.9375\" id=\"E7\" rx=\"10\" ry=\"10\" style=\"stroke: #383838; stroke-width: 1.5;\" width=\"71\" x=\"322.5\" y=\"173\"/><text fill=\"#000000\" font-family=\"sans-serif\" font-size=\"12\" font-style=\"italic\" lengthAdjust=\"spacingAndGlyphs\" textLength=\"69\" x=\"323.5\" y=\"189.1387\">«attribute»</text><text fill=\"#000000\" font-family=\"sans-serif\" font-size=\"12\" lengthAdjust=\"spacingAndGlyphs\" textLength=\"6\" x=\"355\" y=\"203.1074\">y</text><line style=\"stroke: #383838; stroke-width: 1.5;\" x1=\"323.5\" x2=\"392.5\" y1=\"210.9375\" y2=\"210.9375\"/></a><!--MD5=[b9389687b975829384b498ac4b7476b2]\n",
       "class E8--><a href=\"psysml:47dc4f88-d05c-4598-a7e7-ecfe5751dc87\" target=\"_top\" title=\"psysml:47dc4f88-d05c-4598-a7e7-ecfe5751dc87\" xlink:actuate=\"onRequest\" xlink:href=\"psysml:47dc4f88-d05c-4598-a7e7-ecfe5751dc87\" xlink:show=\"new\" xlink:title=\"psysml:47dc4f88-d05c-4598-a7e7-ecfe5751dc87\" xlink:type=\"simple\"><rect fill=\"#FFFFFF\" height=\"45.9375\" id=\"E8\" rx=\"10\" ry=\"10\" style=\"stroke: #383838; stroke-width: 1.5;\" width=\"71\" x=\"98.5\" y=\"206\"/><text fill=\"#000000\" font-family=\"sans-serif\" font-size=\"12\" font-style=\"italic\" lengthAdjust=\"spacingAndGlyphs\" textLength=\"69\" x=\"99.5\" y=\"222.1387\">«attribute»</text><text fill=\"#000000\" font-family=\"sans-serif\" font-size=\"12\" lengthAdjust=\"spacingAndGlyphs\" textLength=\"5\" x=\"131.5\" y=\"236.1074\">z</text><line style=\"stroke: #383838; stroke-width: 1.5;\" x1=\"99.5\" x2=\"168.5\" y1=\"243.9375\" y2=\"243.9375\"/></a><a href=\"psysml:59f5b99d-24d3-4acd-853e-8f7f0b563d54\" target=\"_top\" title=\"psysml:59f5b99d-24d3-4acd-853e-8f7f0b563d54\" xlink:actuate=\"onRequest\" xlink:href=\"psysml:59f5b99d-24d3-4acd-853e-8f7f0b563d54\" xlink:show=\"new\" xlink:title=\"psysml:59f5b99d-24d3-4acd-853e-8f7f0b563d54\" xlink:type=\"simple\"><polygon fill=\"#FFFFFF\" points=\"56,84.5,198,84.5,205,106.7969,212,106.7969,212,137.0938,56,137.0938,56,84.5\" style=\"stroke: #000000; stroke-width: 1.5;\"/><line style=\"stroke: #000000; stroke-width: 1.5;\" x1=\"56\" x2=\"205\" y1=\"106.7969\" y2=\"106.7969\"/><text fill=\"#000000\" font-family=\"sans-serif\" font-size=\"14\" font-weight=\"bold\" lengthAdjust=\"spacingAndGlyphs\" textLength=\"136\" x=\"60\" y=\"99.4951\">Application Layer</text></a><a href=\"psysml:5cfbc3a5-c556-4af2-acf6-f60fe409e97c\" target=\"_top\" title=\"psysml:5cfbc3a5-c556-4af2-acf6-f60fe409e97c\" xlink:actuate=\"onRequest\" xlink:href=\"psysml:5cfbc3a5-c556-4af2-acf6-f60fe409e97c\" xlink:show=\"new\" xlink:title=\"psysml:5cfbc3a5-c556-4af2-acf6-f60fe409e97c\" xlink:type=\"simple\"><polygon fill=\"#FFFFFF\" points=\"294,84.5,408,84.5,415,106.7969,422,106.7969,422,137.0938,294,137.0938,294,84.5\" style=\"stroke: #000000; stroke-width: 1.5;\"/><line style=\"stroke: #000000; stroke-width: 1.5;\" x1=\"294\" x2=\"415\" y1=\"106.7969\" y2=\"106.7969\"/><text fill=\"#000000\" font-family=\"sans-serif\" font-size=\"14\" font-weight=\"bold\" lengthAdjust=\"spacingAndGlyphs\" textLength=\"108\" x=\"298\" y=\"99.4951\">Service Layer</text></a><a href=\"psysml:acb31344-a810-41ff-bc38-efd03bbf6ecb\" target=\"_top\" title=\"psysml:acb31344-a810-41ff-bc38-efd03bbf6ecb\" xlink:actuate=\"onRequest\" xlink:href=\"psysml:acb31344-a810-41ff-bc38-efd03bbf6ecb\" xlink:show=\"new\" xlink:title=\"psysml:acb31344-a810-41ff-bc38-efd03bbf6ecb\" xlink:type=\"simple\"><polygon fill=\"#FFFFFF\" points=\"504,84.5,594,84.5,601,106.7969,608,106.7969,608,137.0938,504,137.0938,504,84.5\" style=\"stroke: #000000; stroke-width: 1.5;\"/><line style=\"stroke: #000000; stroke-width: 1.5;\" x1=\"504\" x2=\"601\" y1=\"106.7969\" y2=\"106.7969\"/><text fill=\"#000000\" font-family=\"sans-serif\" font-size=\"14\" font-weight=\"bold\" lengthAdjust=\"spacingAndGlyphs\" textLength=\"84\" x=\"508\" y=\"99.4951\">Data Layer</text></a><!--MD5=[af87c684e3b0d8be13c1a698a818ef1e]\n",
       "link E3 to E4--><a href=\"psysml:952f286e-4b84-47c6-949f-c687a4b4f029\" target=\"_top\" title=\"psysml:952f286e-4b84-47c6-949f-c687a4b4f029\" xlink:actuate=\"onRequest\" xlink:href=\"psysml:952f286e-4b84-47c6-949f-c687a4b4f029\" xlink:show=\"new\" xlink:title=\"psysml:952f286e-4b84-47c6-949f-c687a4b4f029\" xlink:type=\"simple\"><path d=\"M212.02,111 C235.88,111 262.06,111 285.53,111 \" fill=\"none\" id=\"E3-&gt;E4\" style=\"stroke: #383838; stroke-width: 1.0; stroke-dasharray: 7.0,7.0;\"/><polygon fill=\"#383838\" points=\"293.71,111,285.71,108,285.71,114,293.71,111\" style=\"stroke: #383838; stroke-width: 1.0;\"/><text fill=\"#000000\" font-family=\"sans-serif\" font-size=\"13\" lengthAdjust=\"spacingAndGlyphs\" textLength=\"64\" x=\"221\" y=\"107.0669\">«depend»</text></a><!--MD5=[1b7591eae5389033d8d09a9d6721a717]\n",
       "link E4 to E5--><a href=\"psysml:7352021b-a74c-4755-9a9f-544f5d5618ed\" target=\"_top\" title=\"psysml:7352021b-a74c-4755-9a9f-544f5d5618ed\" xlink:actuate=\"onRequest\" xlink:href=\"psysml:7352021b-a74c-4755-9a9f-544f5d5618ed\" xlink:show=\"new\" xlink:title=\"psysml:7352021b-a74c-4755-9a9f-544f5d5618ed\" xlink:type=\"simple\"><path d=\"M422.09,111 C445.72,111 472.46,111 495.72,111 \" fill=\"none\" id=\"E4-&gt;E5\" style=\"stroke: #383838; stroke-width: 1.0; stroke-dasharray: 7.0,7.0;\"/><polygon fill=\"#383838\" points=\"503.8,111,495.8,108,495.8,114,503.8,111\" style=\"stroke: #383838; stroke-width: 1.0;\"/><text fill=\"#000000\" font-family=\"sans-serif\" font-size=\"13\" lengthAdjust=\"spacingAndGlyphs\" textLength=\"64\" x=\"431\" y=\"107.0669\">«depend»</text></a><!--MD5=[c5e8897d989ce984f93528998a7150fe]\n",
       "link E8 to E6--><a href=\"psysml:c2ca5ac6-1591-4e08-969e-b115a3bed697\" target=\"_top\" title=\"psysml:c2ca5ac6-1591-4e08-969e-b115a3bed697\" xlink:actuate=\"onRequest\" xlink:href=\"psysml:c2ca5ac6-1591-4e08-969e-b115a3bed697\" xlink:show=\"new\" xlink:title=\"psysml:c2ca5ac6-1591-4e08-969e-b115a3bed697\" xlink:type=\"simple\"><path d=\"M169.69,236.5 C208.75,244.95 272.26,258.68 314.34,267.78 \" fill=\"none\" id=\"E8-&gt;E6\" style=\"stroke: #383838; stroke-width: 1.0; stroke-dasharray: 7.0,7.0;\"/><polygon fill=\"#383838\" points=\"322.19,269.47,315.0025,264.8505,313.7373,270.7156,322.19,269.47\" style=\"stroke: #383838; stroke-width: 1.0;\"/><text fill=\"#000000\" font-family=\"sans-serif\" font-size=\"13\" lengthAdjust=\"spacingAndGlyphs\" textLength=\"64\" x=\"221\" y=\"245.0669\">«depend»</text></a><!--MD5=[bfa3c8b0d15052fdf50ae9310b491027]\n",
       "link E8 to E7--><a href=\"psysml:c2ca5ac6-1591-4e08-969e-b115a3bed697\" target=\"_top\" title=\"psysml:c2ca5ac6-1591-4e08-969e-b115a3bed697\" xlink:actuate=\"onRequest\" xlink:href=\"psysml:c2ca5ac6-1591-4e08-969e-b115a3bed697\" xlink:show=\"new\" xlink:title=\"psysml:c2ca5ac6-1591-4e08-969e-b115a3bed697\" xlink:type=\"simple\"><path d=\"M169.69,223.84 C208.67,218.05 272,208.64 314.07,202.38 \" fill=\"none\" id=\"E8-&gt;E7\" style=\"stroke: #383838; stroke-width: 1.0; stroke-dasharray: 7.0,7.0;\"/><polygon fill=\"#383838\" points=\"322.19,201.17,313.837,199.3737,314.7155,205.309,322.19,201.17\" style=\"stroke: #383838; stroke-width: 1.0;\"/><text fill=\"#000000\" font-family=\"sans-serif\" font-size=\"13\" lengthAdjust=\"spacingAndGlyphs\" textLength=\"64\" x=\"221\" y=\"203.0669\">«depend»</text></a><!--MD5=[2d4a7fa5f96b8f5ec86f1d0211ff822d]\n",
       "@startuml\r\n",
       "skinparam ranksep 10\r\n",
       "skinparam rectangle {\r\n",
       " backgroundColor<<block>> LightGreen\r\n",
       "}\r\n",
       "left to right direction\r\n",
       "skinparam monochrome true\r\n",
       "skinparam classbackgroundcolor white\r\n",
       "skinparam shadowing false\r\n",
       "skinparam wrapWidth 300\r\n",
       "hide circle\r\n",
       "\r\n",
       "package \"DependencyTest\" as E1  [[psysml:cb8a6054-43e9-4191-a3b4-d53f2df2fcdf ]]  {\r\n",
       "package \"System\" as E2  [[psysml:b8ece1dd-151a-4631-92e5-c2dbf563fb8b ]]  {\r\n",
       "package \"Application Layer\" as E3  [[psysml:59f5b99d-24d3-4acd-853e-8f7f0b563d54 ]]  {\r\n",
       "}\r\n",
       "package \"Service Layer\" as E4  [[psysml:5cfbc3a5-c556-4af2-acf6-f60fe409e97c ]]  {\r\n",
       "}\r\n",
       "package \"Data Layer\" as E5  [[psysml:acb31344-a810-41ff-bc38-efd03bbf6ecb ]]  {\r\n",
       "}\r\n",
       "}\r\n",
       "comp usage \"x\" as E6  <<(T,blue)attribute>> [[psysml:3db867e9-a237-498d-9697-66a5ca6752eb ]] {\r\n",
       "}\r\n",
       "comp usage \"y\" as E7  <<(T,blue)attribute>> [[psysml:c548d046-cadc-4301-a44e-d185972c752b ]] {\r\n",
       "}\r\n",
       "comp usage \"z\" as E8  <<(T,blue)attribute>> [[psysml:47dc4f88-d05c-4598-a7e7-ecfe5751dc87 ]] {\r\n",
       "}\r\n",
       "E3 ..>> E4 [[psysml:952f286e-4b84-47c6-949f-c687a4b4f029 ]] : <<depend>>\r\n",
       "E4 ..>> E5 [[psysml:7352021b-a74c-4755-9a9f-544f5d5618ed ]] : <<depend>>\r\n",
       "E8 ..>> E6 [[psysml:c2ca5ac6-1591-4e08-969e-b115a3bed697 ]] : <<depend>>\r\n",
       "E8 ..>> E7 [[psysml:c2ca5ac6-1591-4e08-969e-b115a3bed697 ]] : <<depend>>\r\n",
       "}\r\n",
       "@enduml\r\n",
       "\n",
       "PlantUML version 1.2020.13(Sat Jun 13 12:26:38 UTC 2020)\n",
       "(EPL source distribution)\n",
       "Java Runtime: OpenJDK Runtime Environment\n",
       "JVM: OpenJDK 64-Bit Server VM\n",
       "Default Encoding: UTF-8\n",
       "Language: en\n",
       "Country: null\n",
       "--></g></svg>"
      ]
     },
     "execution_count": 19,
     "metadata": {},
     "output_type": "execute_result"
    }
   ],
   "source": [
    "%viz --style=\"LR\" --view=\"Interconnection\" \"DependencyTest\""
   ]
  },
  {
   "cell_type": "code",
   "execution_count": 20,
   "id": "cb03d70a",
   "metadata": {
    "execution": {
     "iopub.execute_input": "2021-04-20T07:03:24.355751Z",
     "iopub.status.busy": "2021-04-20T07:03:24.354641Z",
     "iopub.status.idle": "2021-04-20T07:03:24.360633Z",
     "shell.execute_reply": "2021-04-20T07:03:24.360290Z"
    }
   },
   "outputs": [
    {
     "data": {
      "image/svg+xml": [
       "<?xml version=\"1.0\" encoding=\"UTF-8\" standalone=\"no\"?><svg xmlns=\"http://www.w3.org/2000/svg\" xmlns:xlink=\"http://www.w3.org/1999/xlink\" contentScriptType=\"application/ecmascript\" contentStyleType=\"text/css\" height=\"12px\" preserveAspectRatio=\"none\" style=\"width:12px;height:12px;\" version=\"1.1\" viewBox=\"0 0 12 12\" width=\"12px\" zoomAndPan=\"magnify\"><defs/><g><!--MD5=[7aeb398939421629f6affaa4a1a7b125]\n",
       "@startuml\r\n",
       "skinparam ranksep 8\r\n",
       "left to right direction\r\n",
       "skinparam monochrome true\r\n",
       "skinparam classbackgroundcolor white\r\n",
       "skinparam shadowing false\r\n",
       "skinparam wrapWidth 300\r\n",
       "hide circle\r\n",
       "\r\n",
       "@enduml\r\n",
       "\n",
       "PlantUML version 1.2020.13(Sat Jun 13 12:26:38 UTC 2020)\n",
       "(EPL source distribution)\n",
       "Java Runtime: OpenJDK Runtime Environment\n",
       "JVM: OpenJDK 64-Bit Server VM\n",
       "Default Encoding: UTF-8\n",
       "Language: en\n",
       "Country: null\n",
       "--></g></svg>"
      ]
     },
     "execution_count": 20,
     "metadata": {},
     "output_type": "execute_result"
    }
   ],
   "source": [
    "%viz --style=\"LR\" --view=\"Action\" \"DependencyTest\""
   ]
  },
  {
   "cell_type": "code",
   "execution_count": 21,
   "id": "87810dd6",
   "metadata": {
    "execution": {
     "iopub.execute_input": "2021-04-20T07:03:24.412208Z",
     "iopub.status.busy": "2021-04-20T07:03:24.411662Z",
     "iopub.status.idle": "2021-04-20T07:03:24.451257Z",
     "shell.execute_reply": "2021-04-20T07:03:24.450791Z"
    }
   },
   "outputs": [
    {
     "data": {
      "image/svg+xml": [
       "<?xml version=\"1.0\" encoding=\"UTF-8\" standalone=\"no\"?><svg xmlns=\"http://www.w3.org/2000/svg\" xmlns:xlink=\"http://www.w3.org/1999/xlink\" contentScriptType=\"application/ecmascript\" contentStyleType=\"text/css\" height=\"328px\" preserveAspectRatio=\"none\" style=\"width:758px;height:328px;\" version=\"1.1\" viewBox=\"0 0 758 328\" width=\"758px\" zoomAndPan=\"magnify\"><defs/><g><!--MD5=[fbc87193dbaf4d95561dea2c320d4a47]\n",
       "cluster E1--><a href=\"psysml:cb8a6054-43e9-4191-a3b4-d53f2df2fcdf\" target=\"_top\" title=\"psysml:cb8a6054-43e9-4191-a3b4-d53f2df2fcdf\" xlink:actuate=\"onRequest\" xlink:href=\"psysml:cb8a6054-43e9-4191-a3b4-d53f2df2fcdf\" xlink:show=\"new\" xlink:title=\"psysml:cb8a6054-43e9-4191-a3b4-d53f2df2fcdf\" xlink:type=\"simple\"><polygon fill=\"#FFFFFF\" points=\"16,6,156,6,163,28.2969,736,28.2969,736,316,16,316,16,6\" style=\"stroke: #000000; stroke-width: 1.5;\"/><line style=\"stroke: #000000; stroke-width: 1.5;\" x1=\"16\" x2=\"163\" y1=\"28.2969\" y2=\"28.2969\"/><text fill=\"#000000\" font-family=\"sans-serif\" font-size=\"14\" font-weight=\"bold\" lengthAdjust=\"spacingAndGlyphs\" textLength=\"134\" x=\"20\" y=\"20.9951\">DependencyTest</text></a><!--MD5=[e4f7fae6ed58524ba242bb0b0d3be6b7]\n",
       "cluster E2--><a href=\"psysml:b8ece1dd-151a-4631-92e5-c2dbf563fb8b\" target=\"_top\" title=\"psysml:b8ece1dd-151a-4631-92e5-c2dbf563fb8b\" xlink:actuate=\"onRequest\" xlink:href=\"psysml:b8ece1dd-151a-4631-92e5-c2dbf563fb8b\" xlink:show=\"new\" xlink:title=\"psysml:b8ece1dd-151a-4631-92e5-c2dbf563fb8b\" xlink:type=\"simple\"><polygon fill=\"#FFFFFF\" points=\"40,49,104,49,111,71.2969,712,71.2969,712,154,40,154,40,49\" style=\"stroke: #000000; stroke-width: 1.5;\"/><line style=\"stroke: #000000; stroke-width: 1.5;\" x1=\"40\" x2=\"111\" y1=\"71.2969\" y2=\"71.2969\"/><text fill=\"#000000\" font-family=\"sans-serif\" font-size=\"14\" font-weight=\"bold\" lengthAdjust=\"spacingAndGlyphs\" textLength=\"58\" x=\"44\" y=\"63.9951\">System</text></a><!--MD5=[60a26617385b1d2d0262a64233df1f8d]\n",
       "class E6--><a href=\"psysml:3db867e9-a237-498d-9697-66a5ca6752eb\" target=\"_top\" title=\"psysml:3db867e9-a237-498d-9697-66a5ca6752eb\" xlink:actuate=\"onRequest\" xlink:href=\"psysml:3db867e9-a237-498d-9697-66a5ca6752eb\" xlink:show=\"new\" xlink:title=\"psysml:3db867e9-a237-498d-9697-66a5ca6752eb\" xlink:type=\"simple\"><rect fill=\"#FFFFFF\" height=\"45.9375\" id=\"E6\" rx=\"10\" ry=\"10\" style=\"stroke: #383838; stroke-width: 1.5;\" width=\"71\" x=\"366.5\" y=\"254\"/><text fill=\"#000000\" font-family=\"sans-serif\" font-size=\"12\" font-style=\"italic\" lengthAdjust=\"spacingAndGlyphs\" textLength=\"69\" x=\"367.5\" y=\"270.1387\">«attribute»</text><text fill=\"#000000\" font-family=\"sans-serif\" font-size=\"12\" lengthAdjust=\"spacingAndGlyphs\" textLength=\"6\" x=\"399\" y=\"284.1074\">x</text><line style=\"stroke: #383838; stroke-width: 1.5;\" x1=\"367.5\" x2=\"436.5\" y1=\"291.9375\" y2=\"291.9375\"/></a><!--MD5=[2156ba9850f5573cc1fc38a6a4b2f02b]\n",
       "class E7--><a href=\"psysml:c548d046-cadc-4301-a44e-d185972c752b\" target=\"_top\" title=\"psysml:c548d046-cadc-4301-a44e-d185972c752b\" xlink:actuate=\"onRequest\" xlink:href=\"psysml:c548d046-cadc-4301-a44e-d185972c752b\" xlink:show=\"new\" xlink:title=\"psysml:c548d046-cadc-4301-a44e-d185972c752b\" xlink:type=\"simple\"><rect fill=\"#FFFFFF\" height=\"45.9375\" id=\"E7\" rx=\"10\" ry=\"10\" style=\"stroke: #383838; stroke-width: 1.5;\" width=\"71\" x=\"366.5\" y=\"173\"/><text fill=\"#000000\" font-family=\"sans-serif\" font-size=\"12\" font-style=\"italic\" lengthAdjust=\"spacingAndGlyphs\" textLength=\"69\" x=\"367.5\" y=\"189.1387\">«attribute»</text><text fill=\"#000000\" font-family=\"sans-serif\" font-size=\"12\" lengthAdjust=\"spacingAndGlyphs\" textLength=\"6\" x=\"399\" y=\"203.1074\">y</text><line style=\"stroke: #383838; stroke-width: 1.5;\" x1=\"367.5\" x2=\"436.5\" y1=\"210.9375\" y2=\"210.9375\"/></a><!--MD5=[b9389687b975829384b498ac4b7476b2]\n",
       "class E8--><a href=\"psysml:47dc4f88-d05c-4598-a7e7-ecfe5751dc87\" target=\"_top\" title=\"psysml:47dc4f88-d05c-4598-a7e7-ecfe5751dc87\" xlink:actuate=\"onRequest\" xlink:href=\"psysml:47dc4f88-d05c-4598-a7e7-ecfe5751dc87\" xlink:show=\"new\" xlink:title=\"psysml:47dc4f88-d05c-4598-a7e7-ecfe5751dc87\" xlink:type=\"simple\"><rect fill=\"#FFFFFF\" height=\"45.9375\" id=\"E8\" rx=\"10\" ry=\"10\" style=\"stroke: #383838; stroke-width: 1.5;\" width=\"71\" x=\"98.5\" y=\"206\"/><text fill=\"#000000\" font-family=\"sans-serif\" font-size=\"12\" font-style=\"italic\" lengthAdjust=\"spacingAndGlyphs\" textLength=\"69\" x=\"99.5\" y=\"222.1387\">«attribute»</text><text fill=\"#000000\" font-family=\"sans-serif\" font-size=\"12\" lengthAdjust=\"spacingAndGlyphs\" textLength=\"5\" x=\"131.5\" y=\"236.1074\">z</text><line style=\"stroke: #383838; stroke-width: 1.5;\" x1=\"99.5\" x2=\"168.5\" y1=\"243.9375\" y2=\"243.9375\"/></a><a href=\"psysml:59f5b99d-24d3-4acd-853e-8f7f0b563d54\" target=\"_top\" title=\"psysml:59f5b99d-24d3-4acd-853e-8f7f0b563d54\" xlink:actuate=\"onRequest\" xlink:href=\"psysml:59f5b99d-24d3-4acd-853e-8f7f0b563d54\" xlink:show=\"new\" xlink:title=\"psysml:59f5b99d-24d3-4acd-853e-8f7f0b563d54\" xlink:type=\"simple\"><polygon fill=\"#FFFFFF\" points=\"56,84.5,198,84.5,205,106.7969,212,106.7969,212,137.0938,56,137.0938,56,84.5\" style=\"stroke: #000000; stroke-width: 1.5;\"/><line style=\"stroke: #000000; stroke-width: 1.5;\" x1=\"56\" x2=\"205\" y1=\"106.7969\" y2=\"106.7969\"/><text fill=\"#000000\" font-family=\"sans-serif\" font-size=\"14\" font-weight=\"bold\" lengthAdjust=\"spacingAndGlyphs\" textLength=\"136\" x=\"60\" y=\"99.4951\">Application Layer</text></a><a href=\"psysml:5cfbc3a5-c556-4af2-acf6-f60fe409e97c\" target=\"_top\" title=\"psysml:5cfbc3a5-c556-4af2-acf6-f60fe409e97c\" xlink:actuate=\"onRequest\" xlink:href=\"psysml:5cfbc3a5-c556-4af2-acf6-f60fe409e97c\" xlink:show=\"new\" xlink:title=\"psysml:5cfbc3a5-c556-4af2-acf6-f60fe409e97c\" xlink:type=\"simple\"><polygon fill=\"#FFFFFF\" points=\"338,84.5,452,84.5,459,106.7969,466,106.7969,466,137.0938,338,137.0938,338,84.5\" style=\"stroke: #000000; stroke-width: 1.5;\"/><line style=\"stroke: #000000; stroke-width: 1.5;\" x1=\"338\" x2=\"459\" y1=\"106.7969\" y2=\"106.7969\"/><text fill=\"#000000\" font-family=\"sans-serif\" font-size=\"14\" font-weight=\"bold\" lengthAdjust=\"spacingAndGlyphs\" textLength=\"108\" x=\"342\" y=\"99.4951\">Service Layer</text></a><a href=\"psysml:acb31344-a810-41ff-bc38-efd03bbf6ecb\" target=\"_top\" title=\"psysml:acb31344-a810-41ff-bc38-efd03bbf6ecb\" xlink:actuate=\"onRequest\" xlink:href=\"psysml:acb31344-a810-41ff-bc38-efd03bbf6ecb\" xlink:show=\"new\" xlink:title=\"psysml:acb31344-a810-41ff-bc38-efd03bbf6ecb\" xlink:type=\"simple\"><polygon fill=\"#FFFFFF\" points=\"592,84.5,682,84.5,689,106.7969,696,106.7969,696,137.0938,592,137.0938,592,84.5\" style=\"stroke: #000000; stroke-width: 1.5;\"/><line style=\"stroke: #000000; stroke-width: 1.5;\" x1=\"592\" x2=\"689\" y1=\"106.7969\" y2=\"106.7969\"/><text fill=\"#000000\" font-family=\"sans-serif\" font-size=\"14\" font-weight=\"bold\" lengthAdjust=\"spacingAndGlyphs\" textLength=\"84\" x=\"596\" y=\"99.4951\">Data Layer</text></a><!--MD5=[af87c684e3b0d8be13c1a698a818ef1e]\n",
       "link E3 to E4--><a href=\"psysml:952f286e-4b84-47c6-949f-c687a4b4f029\" target=\"_top\" title=\"psysml:952f286e-4b84-47c6-949f-c687a4b4f029\" xlink:actuate=\"onRequest\" xlink:href=\"psysml:952f286e-4b84-47c6-949f-c687a4b4f029\" xlink:show=\"new\" xlink:title=\"psysml:952f286e-4b84-47c6-949f-c687a4b4f029\" xlink:type=\"simple\"><path d=\"M212.3,111 C249.37,111 293.5,111 329.76,111 \" fill=\"none\" id=\"E3-&gt;E4\" style=\"stroke: #383838; stroke-width: 1.0; stroke-dasharray: 7.0,7.0;\"/><polygon fill=\"#383838\" points=\"337.84,111,329.84,108,329.84,114,337.84,111\" style=\"stroke: #383838; stroke-width: 1.0;\"/><text fill=\"#000000\" font-family=\"sans-serif\" font-size=\"13\" lengthAdjust=\"spacingAndGlyphs\" textLength=\"64\" x=\"243\" y=\"107.0669\">«depend»</text></a><!--MD5=[1b7591eae5389033d8d09a9d6721a717]\n",
       "link E4 to E5--><a href=\"psysml:7352021b-a74c-4755-9a9f-544f5d5618ed\" target=\"_top\" title=\"psysml:7352021b-a74c-4755-9a9f-544f5d5618ed\" xlink:actuate=\"onRequest\" xlink:href=\"psysml:7352021b-a74c-4755-9a9f-544f5d5618ed\" xlink:show=\"new\" xlink:title=\"psysml:7352021b-a74c-4755-9a9f-544f5d5618ed\" xlink:type=\"simple\"><path d=\"M466.06,111 C502.32,111 547.6,111 583.28,111 \" fill=\"none\" id=\"E4-&gt;E5\" style=\"stroke: #383838; stroke-width: 1.0; stroke-dasharray: 7.0,7.0;\"/><polygon fill=\"#383838\" points=\"591.67,111,583.67,108,583.67,114,591.67,111\" style=\"stroke: #383838; stroke-width: 1.0;\"/><text fill=\"#000000\" font-family=\"sans-serif\" font-size=\"13\" lengthAdjust=\"spacingAndGlyphs\" textLength=\"64\" x=\"497\" y=\"107.0669\">«depend»</text></a><!--MD5=[c5e8897d989ce984f93528998a7150fe]\n",
       "link E8 to E6--><a href=\"psysml:c2ca5ac6-1591-4e08-969e-b115a3bed697\" target=\"_top\" title=\"psysml:c2ca5ac6-1591-4e08-969e-b115a3bed697\" xlink:actuate=\"onRequest\" xlink:href=\"psysml:c2ca5ac6-1591-4e08-969e-b115a3bed697\" xlink:show=\"new\" xlink:title=\"psysml:c2ca5ac6-1591-4e08-969e-b115a3bed697\" xlink:type=\"simple\"><path d=\"M169.5,235.23 C217.81,243.94 305.54,259.77 358.03,269.25 \" fill=\"none\" id=\"E8-&gt;E6\" style=\"stroke: #383838; stroke-width: 1.0; stroke-dasharray: 7.0,7.0;\"/><polygon fill=\"#383838\" points=\"366.14,270.71,358.7966,266.3425,357.7356,272.248,366.14,270.71\" style=\"stroke: #383838; stroke-width: 1.0;\"/><text fill=\"#000000\" font-family=\"sans-serif\" font-size=\"13\" lengthAdjust=\"spacingAndGlyphs\" textLength=\"64\" x=\"243\" y=\"245.0669\">«depend»</text></a><!--MD5=[bfa3c8b0d15052fdf50ae9310b491027]\n",
       "link E8 to E7--><a href=\"psysml:c2ca5ac6-1591-4e08-969e-b115a3bed697\" target=\"_top\" title=\"psysml:c2ca5ac6-1591-4e08-969e-b115a3bed697\" xlink:actuate=\"onRequest\" xlink:href=\"psysml:c2ca5ac6-1591-4e08-969e-b115a3bed697\" xlink:show=\"new\" xlink:title=\"psysml:c2ca5ac6-1591-4e08-969e-b115a3bed697\" xlink:type=\"simple\"><path d=\"M169.5,224.72 C217.81,218.73 305.54,207.84 358.03,201.33 \" fill=\"none\" id=\"E8-&gt;E7\" style=\"stroke: #383838; stroke-width: 1.0; stroke-dasharray: 7.0,7.0;\"/><polygon fill=\"#383838\" points=\"366.14,200.33,357.8314,198.3381,358.5704,204.2924,366.14,200.33\" style=\"stroke: #383838; stroke-width: 1.0;\"/><text fill=\"#000000\" font-family=\"sans-serif\" font-size=\"13\" lengthAdjust=\"spacingAndGlyphs\" textLength=\"64\" x=\"243\" y=\"204.0669\">«depend»</text></a><!--MD5=[2eae98bf145a09f19b9c36f5d6a0c07f]\n",
       "@startuml\r\n",
       "left to right direction\r\n",
       "skinparam monochrome true\r\n",
       "skinparam classbackgroundcolor white\r\n",
       "skinparam shadowing false\r\n",
       "skinparam wrapWidth 300\r\n",
       "hide circle\r\n",
       "\r\n",
       "package \"DependencyTest\" as E1  [[psysml:cb8a6054-43e9-4191-a3b4-d53f2df2fcdf ]]  {\r\n",
       "package \"System\" as E2  [[psysml:b8ece1dd-151a-4631-92e5-c2dbf563fb8b ]]  {\r\n",
       "package \"Application Layer\" as E3  [[psysml:59f5b99d-24d3-4acd-853e-8f7f0b563d54 ]]  {\r\n",
       "}\r\n",
       "package \"Service Layer\" as E4  [[psysml:5cfbc3a5-c556-4af2-acf6-f60fe409e97c ]]  {\r\n",
       "}\r\n",
       "package \"Data Layer\" as E5  [[psysml:acb31344-a810-41ff-bc38-efd03bbf6ecb ]]  {\r\n",
       "}\r\n",
       "}\r\n",
       "comp usage \"x\" as E6  <<(T,blue)attribute>> [[psysml:3db867e9-a237-498d-9697-66a5ca6752eb ]] {\r\n",
       "}\r\n",
       "comp usage \"y\" as E7  <<(T,blue)attribute>> [[psysml:c548d046-cadc-4301-a44e-d185972c752b ]] {\r\n",
       "}\r\n",
       "comp usage \"z\" as E8  <<(T,blue)attribute>> [[psysml:47dc4f88-d05c-4598-a7e7-ecfe5751dc87 ]] {\r\n",
       "}\r\n",
       "E3 ..>> E4 [[psysml:952f286e-4b84-47c6-949f-c687a4b4f029 ]] : <<depend>>\r\n",
       "E4 ..>> E5 [[psysml:7352021b-a74c-4755-9a9f-544f5d5618ed ]] : <<depend>>\r\n",
       "E8 ..>> E6 [[psysml:c2ca5ac6-1591-4e08-969e-b115a3bed697 ]] : <<depend>>\r\n",
       "E8 ..>> E7 [[psysml:c2ca5ac6-1591-4e08-969e-b115a3bed697 ]] : <<depend>>\r\n",
       "}\r\n",
       "@enduml\r\n",
       "\n",
       "PlantUML version 1.2020.13(Sat Jun 13 12:26:38 UTC 2020)\n",
       "(EPL source distribution)\n",
       "Java Runtime: OpenJDK Runtime Environment\n",
       "JVM: OpenJDK 64-Bit Server VM\n",
       "Default Encoding: UTF-8\n",
       "Language: en\n",
       "Country: null\n",
       "--></g></svg>"
      ]
     },
     "execution_count": 21,
     "metadata": {},
     "output_type": "execute_result"
    }
   ],
   "source": [
    "%viz --style=\"LR\" --view=\"Sequence\" \"DependencyTest\""
   ]
  },
  {
   "cell_type": "code",
   "execution_count": 22,
   "id": "a1e31fc4",
   "metadata": {
    "execution": {
     "iopub.execute_input": "2021-04-20T07:03:24.502428Z",
     "iopub.status.busy": "2021-04-20T07:03:24.501655Z",
     "iopub.status.idle": "2021-04-20T07:03:24.539890Z",
     "shell.execute_reply": "2021-04-20T07:03:24.539606Z"
    }
   },
   "outputs": [
    {
     "data": {
      "image/svg+xml": [
       "<?xml version=\"1.0\" encoding=\"UTF-8\" standalone=\"no\"?><svg xmlns=\"http://www.w3.org/2000/svg\" xmlns:xlink=\"http://www.w3.org/1999/xlink\" contentScriptType=\"application/ecmascript\" contentStyleType=\"text/css\" height=\"328px\" preserveAspectRatio=\"none\" style=\"width:758px;height:328px;\" version=\"1.1\" viewBox=\"0 0 758 328\" width=\"758px\" zoomAndPan=\"magnify\"><defs/><g><!--MD5=[fbc87193dbaf4d95561dea2c320d4a47]\n",
       "cluster E1--><a href=\"psysml:cb8a6054-43e9-4191-a3b4-d53f2df2fcdf\" target=\"_top\" title=\"psysml:cb8a6054-43e9-4191-a3b4-d53f2df2fcdf\" xlink:actuate=\"onRequest\" xlink:href=\"psysml:cb8a6054-43e9-4191-a3b4-d53f2df2fcdf\" xlink:show=\"new\" xlink:title=\"psysml:cb8a6054-43e9-4191-a3b4-d53f2df2fcdf\" xlink:type=\"simple\"><polygon fill=\"#FFFFFF\" points=\"16,6,156,6,163,28.2969,736,28.2969,736,316,16,316,16,6\" style=\"stroke: #000000; stroke-width: 1.5;\"/><line style=\"stroke: #000000; stroke-width: 1.5;\" x1=\"16\" x2=\"163\" y1=\"28.2969\" y2=\"28.2969\"/><text fill=\"#000000\" font-family=\"sans-serif\" font-size=\"14\" font-weight=\"bold\" lengthAdjust=\"spacingAndGlyphs\" textLength=\"134\" x=\"20\" y=\"20.9951\">DependencyTest</text></a><!--MD5=[e4f7fae6ed58524ba242bb0b0d3be6b7]\n",
       "cluster E2--><a href=\"psysml:b8ece1dd-151a-4631-92e5-c2dbf563fb8b\" target=\"_top\" title=\"psysml:b8ece1dd-151a-4631-92e5-c2dbf563fb8b\" xlink:actuate=\"onRequest\" xlink:href=\"psysml:b8ece1dd-151a-4631-92e5-c2dbf563fb8b\" xlink:show=\"new\" xlink:title=\"psysml:b8ece1dd-151a-4631-92e5-c2dbf563fb8b\" xlink:type=\"simple\"><polygon fill=\"#FFFFFF\" points=\"40,49,104,49,111,71.2969,712,71.2969,712,154,40,154,40,49\" style=\"stroke: #000000; stroke-width: 1.5;\"/><line style=\"stroke: #000000; stroke-width: 1.5;\" x1=\"40\" x2=\"111\" y1=\"71.2969\" y2=\"71.2969\"/><text fill=\"#000000\" font-family=\"sans-serif\" font-size=\"14\" font-weight=\"bold\" lengthAdjust=\"spacingAndGlyphs\" textLength=\"58\" x=\"44\" y=\"63.9951\">System</text></a><!--MD5=[60a26617385b1d2d0262a64233df1f8d]\n",
       "class E6--><a href=\"psysml:3db867e9-a237-498d-9697-66a5ca6752eb\" target=\"_top\" title=\"psysml:3db867e9-a237-498d-9697-66a5ca6752eb\" xlink:actuate=\"onRequest\" xlink:href=\"psysml:3db867e9-a237-498d-9697-66a5ca6752eb\" xlink:show=\"new\" xlink:title=\"psysml:3db867e9-a237-498d-9697-66a5ca6752eb\" xlink:type=\"simple\"><rect fill=\"#FFFFFF\" height=\"45.9375\" id=\"E6\" rx=\"10\" ry=\"10\" style=\"stroke: #383838; stroke-width: 1.5;\" width=\"71\" x=\"366.5\" y=\"254\"/><text fill=\"#000000\" font-family=\"sans-serif\" font-size=\"12\" font-style=\"italic\" lengthAdjust=\"spacingAndGlyphs\" textLength=\"69\" x=\"367.5\" y=\"270.1387\">«attribute»</text><text fill=\"#000000\" font-family=\"sans-serif\" font-size=\"12\" lengthAdjust=\"spacingAndGlyphs\" textLength=\"6\" x=\"399\" y=\"284.1074\">x</text><line style=\"stroke: #383838; stroke-width: 1.5;\" x1=\"367.5\" x2=\"436.5\" y1=\"291.9375\" y2=\"291.9375\"/></a><!--MD5=[2156ba9850f5573cc1fc38a6a4b2f02b]\n",
       "class E7--><a href=\"psysml:c548d046-cadc-4301-a44e-d185972c752b\" target=\"_top\" title=\"psysml:c548d046-cadc-4301-a44e-d185972c752b\" xlink:actuate=\"onRequest\" xlink:href=\"psysml:c548d046-cadc-4301-a44e-d185972c752b\" xlink:show=\"new\" xlink:title=\"psysml:c548d046-cadc-4301-a44e-d185972c752b\" xlink:type=\"simple\"><rect fill=\"#FFFFFF\" height=\"45.9375\" id=\"E7\" rx=\"10\" ry=\"10\" style=\"stroke: #383838; stroke-width: 1.5;\" width=\"71\" x=\"366.5\" y=\"173\"/><text fill=\"#000000\" font-family=\"sans-serif\" font-size=\"12\" font-style=\"italic\" lengthAdjust=\"spacingAndGlyphs\" textLength=\"69\" x=\"367.5\" y=\"189.1387\">«attribute»</text><text fill=\"#000000\" font-family=\"sans-serif\" font-size=\"12\" lengthAdjust=\"spacingAndGlyphs\" textLength=\"6\" x=\"399\" y=\"203.1074\">y</text><line style=\"stroke: #383838; stroke-width: 1.5;\" x1=\"367.5\" x2=\"436.5\" y1=\"210.9375\" y2=\"210.9375\"/></a><!--MD5=[b9389687b975829384b498ac4b7476b2]\n",
       "class E8--><a href=\"psysml:47dc4f88-d05c-4598-a7e7-ecfe5751dc87\" target=\"_top\" title=\"psysml:47dc4f88-d05c-4598-a7e7-ecfe5751dc87\" xlink:actuate=\"onRequest\" xlink:href=\"psysml:47dc4f88-d05c-4598-a7e7-ecfe5751dc87\" xlink:show=\"new\" xlink:title=\"psysml:47dc4f88-d05c-4598-a7e7-ecfe5751dc87\" xlink:type=\"simple\"><rect fill=\"#FFFFFF\" height=\"45.9375\" id=\"E8\" rx=\"10\" ry=\"10\" style=\"stroke: #383838; stroke-width: 1.5;\" width=\"71\" x=\"98.5\" y=\"206\"/><text fill=\"#000000\" font-family=\"sans-serif\" font-size=\"12\" font-style=\"italic\" lengthAdjust=\"spacingAndGlyphs\" textLength=\"69\" x=\"99.5\" y=\"222.1387\">«attribute»</text><text fill=\"#000000\" font-family=\"sans-serif\" font-size=\"12\" lengthAdjust=\"spacingAndGlyphs\" textLength=\"5\" x=\"131.5\" y=\"236.1074\">z</text><line style=\"stroke: #383838; stroke-width: 1.5;\" x1=\"99.5\" x2=\"168.5\" y1=\"243.9375\" y2=\"243.9375\"/></a><a href=\"psysml:59f5b99d-24d3-4acd-853e-8f7f0b563d54\" target=\"_top\" title=\"psysml:59f5b99d-24d3-4acd-853e-8f7f0b563d54\" xlink:actuate=\"onRequest\" xlink:href=\"psysml:59f5b99d-24d3-4acd-853e-8f7f0b563d54\" xlink:show=\"new\" xlink:title=\"psysml:59f5b99d-24d3-4acd-853e-8f7f0b563d54\" xlink:type=\"simple\"><polygon fill=\"#FFFFFF\" points=\"56,84.5,198,84.5,205,106.7969,212,106.7969,212,137.0938,56,137.0938,56,84.5\" style=\"stroke: #000000; stroke-width: 1.5;\"/><line style=\"stroke: #000000; stroke-width: 1.5;\" x1=\"56\" x2=\"205\" y1=\"106.7969\" y2=\"106.7969\"/><text fill=\"#000000\" font-family=\"sans-serif\" font-size=\"14\" font-weight=\"bold\" lengthAdjust=\"spacingAndGlyphs\" textLength=\"136\" x=\"60\" y=\"99.4951\">Application Layer</text></a><a href=\"psysml:5cfbc3a5-c556-4af2-acf6-f60fe409e97c\" target=\"_top\" title=\"psysml:5cfbc3a5-c556-4af2-acf6-f60fe409e97c\" xlink:actuate=\"onRequest\" xlink:href=\"psysml:5cfbc3a5-c556-4af2-acf6-f60fe409e97c\" xlink:show=\"new\" xlink:title=\"psysml:5cfbc3a5-c556-4af2-acf6-f60fe409e97c\" xlink:type=\"simple\"><polygon fill=\"#FFFFFF\" points=\"338,84.5,452,84.5,459,106.7969,466,106.7969,466,137.0938,338,137.0938,338,84.5\" style=\"stroke: #000000; stroke-width: 1.5;\"/><line style=\"stroke: #000000; stroke-width: 1.5;\" x1=\"338\" x2=\"459\" y1=\"106.7969\" y2=\"106.7969\"/><text fill=\"#000000\" font-family=\"sans-serif\" font-size=\"14\" font-weight=\"bold\" lengthAdjust=\"spacingAndGlyphs\" textLength=\"108\" x=\"342\" y=\"99.4951\">Service Layer</text></a><a href=\"psysml:acb31344-a810-41ff-bc38-efd03bbf6ecb\" target=\"_top\" title=\"psysml:acb31344-a810-41ff-bc38-efd03bbf6ecb\" xlink:actuate=\"onRequest\" xlink:href=\"psysml:acb31344-a810-41ff-bc38-efd03bbf6ecb\" xlink:show=\"new\" xlink:title=\"psysml:acb31344-a810-41ff-bc38-efd03bbf6ecb\" xlink:type=\"simple\"><polygon fill=\"#FFFFFF\" points=\"592,84.5,682,84.5,689,106.7969,696,106.7969,696,137.0938,592,137.0938,592,84.5\" style=\"stroke: #000000; stroke-width: 1.5;\"/><line style=\"stroke: #000000; stroke-width: 1.5;\" x1=\"592\" x2=\"689\" y1=\"106.7969\" y2=\"106.7969\"/><text fill=\"#000000\" font-family=\"sans-serif\" font-size=\"14\" font-weight=\"bold\" lengthAdjust=\"spacingAndGlyphs\" textLength=\"84\" x=\"596\" y=\"99.4951\">Data Layer</text></a><!--MD5=[af87c684e3b0d8be13c1a698a818ef1e]\n",
       "link E3 to E4--><a href=\"psysml:952f286e-4b84-47c6-949f-c687a4b4f029\" target=\"_top\" title=\"psysml:952f286e-4b84-47c6-949f-c687a4b4f029\" xlink:actuate=\"onRequest\" xlink:href=\"psysml:952f286e-4b84-47c6-949f-c687a4b4f029\" xlink:show=\"new\" xlink:title=\"psysml:952f286e-4b84-47c6-949f-c687a4b4f029\" xlink:type=\"simple\"><path d=\"M212.3,111 C249.37,111 293.5,111 329.76,111 \" fill=\"none\" id=\"E3-&gt;E4\" style=\"stroke: #383838; stroke-width: 1.0; stroke-dasharray: 7.0,7.0;\"/><polygon fill=\"#383838\" points=\"337.84,111,329.84,108,329.84,114,337.84,111\" style=\"stroke: #383838; stroke-width: 1.0;\"/><text fill=\"#000000\" font-family=\"sans-serif\" font-size=\"13\" lengthAdjust=\"spacingAndGlyphs\" textLength=\"64\" x=\"243\" y=\"107.0669\">«depend»</text></a><!--MD5=[1b7591eae5389033d8d09a9d6721a717]\n",
       "link E4 to E5--><a href=\"psysml:7352021b-a74c-4755-9a9f-544f5d5618ed\" target=\"_top\" title=\"psysml:7352021b-a74c-4755-9a9f-544f5d5618ed\" xlink:actuate=\"onRequest\" xlink:href=\"psysml:7352021b-a74c-4755-9a9f-544f5d5618ed\" xlink:show=\"new\" xlink:title=\"psysml:7352021b-a74c-4755-9a9f-544f5d5618ed\" xlink:type=\"simple\"><path d=\"M466.06,111 C502.32,111 547.6,111 583.28,111 \" fill=\"none\" id=\"E4-&gt;E5\" style=\"stroke: #383838; stroke-width: 1.0; stroke-dasharray: 7.0,7.0;\"/><polygon fill=\"#383838\" points=\"591.67,111,583.67,108,583.67,114,591.67,111\" style=\"stroke: #383838; stroke-width: 1.0;\"/><text fill=\"#000000\" font-family=\"sans-serif\" font-size=\"13\" lengthAdjust=\"spacingAndGlyphs\" textLength=\"64\" x=\"497\" y=\"107.0669\">«depend»</text></a><!--MD5=[c5e8897d989ce984f93528998a7150fe]\n",
       "link E8 to E6--><a href=\"psysml:c2ca5ac6-1591-4e08-969e-b115a3bed697\" target=\"_top\" title=\"psysml:c2ca5ac6-1591-4e08-969e-b115a3bed697\" xlink:actuate=\"onRequest\" xlink:href=\"psysml:c2ca5ac6-1591-4e08-969e-b115a3bed697\" xlink:show=\"new\" xlink:title=\"psysml:c2ca5ac6-1591-4e08-969e-b115a3bed697\" xlink:type=\"simple\"><path d=\"M169.5,235.23 C217.81,243.94 305.54,259.77 358.03,269.25 \" fill=\"none\" id=\"E8-&gt;E6\" style=\"stroke: #383838; stroke-width: 1.0; stroke-dasharray: 7.0,7.0;\"/><polygon fill=\"#383838\" points=\"366.14,270.71,358.7966,266.3425,357.7356,272.248,366.14,270.71\" style=\"stroke: #383838; stroke-width: 1.0;\"/><text fill=\"#000000\" font-family=\"sans-serif\" font-size=\"13\" lengthAdjust=\"spacingAndGlyphs\" textLength=\"64\" x=\"243\" y=\"245.0669\">«depend»</text></a><!--MD5=[bfa3c8b0d15052fdf50ae9310b491027]\n",
       "link E8 to E7--><a href=\"psysml:c2ca5ac6-1591-4e08-969e-b115a3bed697\" target=\"_top\" title=\"psysml:c2ca5ac6-1591-4e08-969e-b115a3bed697\" xlink:actuate=\"onRequest\" xlink:href=\"psysml:c2ca5ac6-1591-4e08-969e-b115a3bed697\" xlink:show=\"new\" xlink:title=\"psysml:c2ca5ac6-1591-4e08-969e-b115a3bed697\" xlink:type=\"simple\"><path d=\"M169.5,224.72 C217.81,218.73 305.54,207.84 358.03,201.33 \" fill=\"none\" id=\"E8-&gt;E7\" style=\"stroke: #383838; stroke-width: 1.0; stroke-dasharray: 7.0,7.0;\"/><polygon fill=\"#383838\" points=\"366.14,200.33,357.8314,198.3381,358.5704,204.2924,366.14,200.33\" style=\"stroke: #383838; stroke-width: 1.0;\"/><text fill=\"#000000\" font-family=\"sans-serif\" font-size=\"13\" lengthAdjust=\"spacingAndGlyphs\" textLength=\"64\" x=\"243\" y=\"204.0669\">«depend»</text></a><!--MD5=[2eae98bf145a09f19b9c36f5d6a0c07f]\n",
       "@startuml\r\n",
       "left to right direction\r\n",
       "skinparam monochrome true\r\n",
       "skinparam classbackgroundcolor white\r\n",
       "skinparam shadowing false\r\n",
       "skinparam wrapWidth 300\r\n",
       "hide circle\r\n",
       "\r\n",
       "package \"DependencyTest\" as E1  [[psysml:cb8a6054-43e9-4191-a3b4-d53f2df2fcdf ]]  {\r\n",
       "package \"System\" as E2  [[psysml:b8ece1dd-151a-4631-92e5-c2dbf563fb8b ]]  {\r\n",
       "package \"Application Layer\" as E3  [[psysml:59f5b99d-24d3-4acd-853e-8f7f0b563d54 ]]  {\r\n",
       "}\r\n",
       "package \"Service Layer\" as E4  [[psysml:5cfbc3a5-c556-4af2-acf6-f60fe409e97c ]]  {\r\n",
       "}\r\n",
       "package \"Data Layer\" as E5  [[psysml:acb31344-a810-41ff-bc38-efd03bbf6ecb ]]  {\r\n",
       "}\r\n",
       "}\r\n",
       "comp usage \"x\" as E6  <<(T,blue)attribute>> [[psysml:3db867e9-a237-498d-9697-66a5ca6752eb ]] {\r\n",
       "}\r\n",
       "comp usage \"y\" as E7  <<(T,blue)attribute>> [[psysml:c548d046-cadc-4301-a44e-d185972c752b ]] {\r\n",
       "}\r\n",
       "comp usage \"z\" as E8  <<(T,blue)attribute>> [[psysml:47dc4f88-d05c-4598-a7e7-ecfe5751dc87 ]] {\r\n",
       "}\r\n",
       "E3 ..>> E4 [[psysml:952f286e-4b84-47c6-949f-c687a4b4f029 ]] : <<depend>>\r\n",
       "E4 ..>> E5 [[psysml:7352021b-a74c-4755-9a9f-544f5d5618ed ]] : <<depend>>\r\n",
       "E8 ..>> E6 [[psysml:c2ca5ac6-1591-4e08-969e-b115a3bed697 ]] : <<depend>>\r\n",
       "E8 ..>> E7 [[psysml:c2ca5ac6-1591-4e08-969e-b115a3bed697 ]] : <<depend>>\r\n",
       "}\r\n",
       "@enduml\r\n",
       "\n",
       "PlantUML version 1.2020.13(Sat Jun 13 12:26:38 UTC 2020)\n",
       "(EPL source distribution)\n",
       "Java Runtime: OpenJDK Runtime Environment\n",
       "JVM: OpenJDK 64-Bit Server VM\n",
       "Default Encoding: UTF-8\n",
       "Language: en\n",
       "Country: null\n",
       "--></g></svg>"
      ]
     },
     "execution_count": 22,
     "metadata": {},
     "output_type": "execute_result"
    }
   ],
   "source": [
    "%viz --style=\"LR\" --view=\"MIXED\" \"DependencyTest\""
   ]
  },
  {
   "cell_type": "code",
   "execution_count": 23,
   "id": "5299f492",
   "metadata": {
    "execution": {
     "iopub.execute_input": "2021-04-20T07:03:24.589718Z",
     "iopub.status.busy": "2021-04-20T07:03:24.589038Z",
     "iopub.status.idle": "2021-04-20T07:03:24.629250Z",
     "shell.execute_reply": "2021-04-20T07:03:24.628565Z"
    }
   },
   "outputs": [
    {
     "data": {
      "image/svg+xml": [
       "<?xml version=\"1.0\" encoding=\"UTF-8\" standalone=\"no\"?><svg xmlns=\"http://www.w3.org/2000/svg\" xmlns:xlink=\"http://www.w3.org/1999/xlink\" contentScriptType=\"application/ecmascript\" contentStyleType=\"text/css\" height=\"449px\" preserveAspectRatio=\"none\" style=\"width:489px;height:449px;\" version=\"1.1\" viewBox=\"0 0 489 449\" width=\"489px\" zoomAndPan=\"magnify\"><defs><filter height=\"300%\" id=\"f1pft7xukp01ba\" width=\"300%\" x=\"-1\" y=\"-1\"><feGaussianBlur result=\"blurOut\" stdDeviation=\"2.0\"/><feColorMatrix in=\"blurOut\" result=\"blurOut2\" type=\"matrix\" values=\"0 0 0 0 0 0 0 0 0 0 0 0 0 0 0 0 0 0 .4 0\"/><feOffset dx=\"4.0\" dy=\"4.0\" in=\"blurOut2\" result=\"blurOut3\"/><feBlend in=\"SourceGraphic\" in2=\"blurOut3\" mode=\"normal\"/></filter></defs><g><!--MD5=[fbc87193dbaf4d95561dea2c320d4a47]\n",
       "cluster E1--><a href=\"psysml:cb8a6054-43e9-4191-a3b4-d53f2df2fcdf\" target=\"_top\" title=\"psysml:cb8a6054-43e9-4191-a3b4-d53f2df2fcdf\" xlink:actuate=\"onRequest\" xlink:href=\"psysml:cb8a6054-43e9-4191-a3b4-d53f2df2fcdf\" xlink:show=\"new\" xlink:title=\"psysml:cb8a6054-43e9-4191-a3b4-d53f2df2fcdf\" xlink:type=\"simple\"><polygon fill=\"#FFFFFF\" filter=\"url(#f1pft7xukp01ba)\" points=\"16,6,156,6,163,28.2969,467,28.2969,467,437,16,437,16,6\" style=\"stroke: #000000; stroke-width: 1.5;\"/><line style=\"stroke: #000000; stroke-width: 1.5;\" x1=\"16\" x2=\"163\" y1=\"28.2969\" y2=\"28.2969\"/><text fill=\"#000000\" font-family=\"sans-serif\" font-size=\"14\" font-weight=\"bold\" lengthAdjust=\"spacingAndGlyphs\" textLength=\"134\" x=\"20\" y=\"20.9951\">DependencyTest</text></a><!--MD5=[e4f7fae6ed58524ba242bb0b0d3be6b7]\n",
       "cluster E2--><a href=\"psysml:b8ece1dd-151a-4631-92e5-c2dbf563fb8b\" target=\"_top\" title=\"psysml:b8ece1dd-151a-4631-92e5-c2dbf563fb8b\" xlink:actuate=\"onRequest\" xlink:href=\"psysml:b8ece1dd-151a-4631-92e5-c2dbf563fb8b\" xlink:show=\"new\" xlink:title=\"psysml:b8ece1dd-151a-4631-92e5-c2dbf563fb8b\" xlink:type=\"simple\"><polygon fill=\"#FFFFFF\" filter=\"url(#f1pft7xukp01ba)\" points=\"255,49,319,49,326,71.2969,443,71.2969,443,413,255,413,255,49\" style=\"stroke: #000000; stroke-width: 1.5;\"/><line style=\"stroke: #000000; stroke-width: 1.5;\" x1=\"255\" x2=\"326\" y1=\"71.2969\" y2=\"71.2969\"/><text fill=\"#000000\" font-family=\"sans-serif\" font-size=\"14\" font-weight=\"bold\" lengthAdjust=\"spacingAndGlyphs\" textLength=\"58\" x=\"259\" y=\"63.9951\">System</text></a><!--MD5=[60a26617385b1d2d0262a64233df1f8d]\n",
       "class E6--><a href=\"psysml:3db867e9-a237-498d-9697-66a5ca6752eb\" target=\"_top\" title=\"psysml:3db867e9-a237-498d-9697-66a5ca6752eb\" xlink:actuate=\"onRequest\" xlink:href=\"psysml:3db867e9-a237-498d-9697-66a5ca6752eb\" xlink:show=\"new\" xlink:title=\"psysml:3db867e9-a237-498d-9697-66a5ca6752eb\" xlink:type=\"simple\"><rect fill=\"#FEFECE\" filter=\"url(#f1pft7xukp01ba)\" height=\"45.9375\" id=\"E6\" rx=\"10\" ry=\"10\" style=\"stroke: #A80036; stroke-width: 1.5;\" width=\"71\" x=\"32.5\" y=\"217.5\"/><text fill=\"#000000\" font-family=\"sans-serif\" font-size=\"12\" font-style=\"italic\" lengthAdjust=\"spacingAndGlyphs\" textLength=\"69\" x=\"33.5\" y=\"233.6387\">«attribute»</text><text fill=\"#000000\" font-family=\"sans-serif\" font-size=\"12\" lengthAdjust=\"spacingAndGlyphs\" textLength=\"6\" x=\"65\" y=\"247.6074\">x</text><line style=\"stroke: #A80036; stroke-width: 1.5;\" x1=\"33.5\" x2=\"102.5\" y1=\"255.4375\" y2=\"255.4375\"/></a><!--MD5=[2156ba9850f5573cc1fc38a6a4b2f02b]\n",
       "class E7--><a href=\"psysml:c548d046-cadc-4301-a44e-d185972c752b\" target=\"_top\" title=\"psysml:c548d046-cadc-4301-a44e-d185972c752b\" xlink:actuate=\"onRequest\" xlink:href=\"psysml:c548d046-cadc-4301-a44e-d185972c752b\" xlink:show=\"new\" xlink:title=\"psysml:c548d046-cadc-4301-a44e-d185972c752b\" xlink:type=\"simple\"><rect fill=\"#FEFECE\" filter=\"url(#f1pft7xukp01ba)\" height=\"45.9375\" id=\"E7\" rx=\"10\" ry=\"10\" style=\"stroke: #A80036; stroke-width: 1.5;\" width=\"71\" x=\"138.5\" y=\"217.5\"/><text fill=\"#000000\" font-family=\"sans-serif\" font-size=\"12\" font-style=\"italic\" lengthAdjust=\"spacingAndGlyphs\" textLength=\"69\" x=\"139.5\" y=\"233.6387\">«attribute»</text><text fill=\"#000000\" font-family=\"sans-serif\" font-size=\"12\" lengthAdjust=\"spacingAndGlyphs\" textLength=\"6\" x=\"171\" y=\"247.6074\">y</text><line style=\"stroke: #A80036; stroke-width: 1.5;\" x1=\"139.5\" x2=\"208.5\" y1=\"255.4375\" y2=\"255.4375\"/></a><!--MD5=[b9389687b975829384b498ac4b7476b2]\n",
       "class E8--><a href=\"psysml:47dc4f88-d05c-4598-a7e7-ecfe5751dc87\" target=\"_top\" title=\"psysml:47dc4f88-d05c-4598-a7e7-ecfe5751dc87\" xlink:actuate=\"onRequest\" xlink:href=\"psysml:47dc4f88-d05c-4598-a7e7-ecfe5751dc87\" xlink:show=\"new\" xlink:title=\"psysml:47dc4f88-d05c-4598-a7e7-ecfe5751dc87\" xlink:type=\"simple\"><rect fill=\"#FEFECE\" filter=\"url(#f1pft7xukp01ba)\" height=\"45.9375\" id=\"E8\" rx=\"10\" ry=\"10\" style=\"stroke: #A80036; stroke-width: 1.5;\" width=\"71\" x=\"84.5\" y=\"87.5\"/><text fill=\"#000000\" font-family=\"sans-serif\" font-size=\"12\" font-style=\"italic\" lengthAdjust=\"spacingAndGlyphs\" textLength=\"69\" x=\"85.5\" y=\"103.6387\">«attribute»</text><text fill=\"#000000\" font-family=\"sans-serif\" font-size=\"12\" lengthAdjust=\"spacingAndGlyphs\" textLength=\"5\" x=\"117.5\" y=\"117.6074\">z</text><line style=\"stroke: #A80036; stroke-width: 1.5;\" x1=\"85.5\" x2=\"154.5\" y1=\"125.4375\" y2=\"125.4375\"/></a><a href=\"psysml:59f5b99d-24d3-4acd-853e-8f7f0b563d54\" target=\"_top\" title=\"psysml:59f5b99d-24d3-4acd-853e-8f7f0b563d54\" xlink:actuate=\"onRequest\" xlink:href=\"psysml:59f5b99d-24d3-4acd-853e-8f7f0b563d54\" xlink:show=\"new\" xlink:title=\"psysml:59f5b99d-24d3-4acd-853e-8f7f0b563d54\" xlink:type=\"simple\"><polygon fill=\"#FFFFFF\" filter=\"url(#f1pft7xukp01ba)\" points=\"271,84,413,84,420,106.2969,427,106.2969,427,136.5938,271,136.5938,271,84\" style=\"stroke: #000000; stroke-width: 1.5;\"/><line style=\"stroke: #000000; stroke-width: 1.5;\" x1=\"271\" x2=\"420\" y1=\"106.2969\" y2=\"106.2969\"/><text fill=\"#000000\" font-family=\"sans-serif\" font-size=\"14\" font-weight=\"bold\" lengthAdjust=\"spacingAndGlyphs\" textLength=\"136\" x=\"275\" y=\"98.9951\">Application Layer</text></a><a href=\"psysml:5cfbc3a5-c556-4af2-acf6-f60fe409e97c\" target=\"_top\" title=\"psysml:5cfbc3a5-c556-4af2-acf6-f60fe409e97c\" xlink:actuate=\"onRequest\" xlink:href=\"psysml:5cfbc3a5-c556-4af2-acf6-f60fe409e97c\" xlink:show=\"new\" xlink:title=\"psysml:5cfbc3a5-c556-4af2-acf6-f60fe409e97c\" xlink:type=\"simple\"><polygon fill=\"#FFFFFF\" filter=\"url(#f1pft7xukp01ba)\" points=\"285,214,399,214,406,236.2969,413,236.2969,413,266.5938,285,266.5938,285,214\" style=\"stroke: #000000; stroke-width: 1.5;\"/><line style=\"stroke: #000000; stroke-width: 1.5;\" x1=\"285\" x2=\"406\" y1=\"236.2969\" y2=\"236.2969\"/><text fill=\"#000000\" font-family=\"sans-serif\" font-size=\"14\" font-weight=\"bold\" lengthAdjust=\"spacingAndGlyphs\" textLength=\"108\" x=\"289\" y=\"228.9951\">Service Layer</text></a><a href=\"psysml:acb31344-a810-41ff-bc38-efd03bbf6ecb\" target=\"_top\" title=\"psysml:acb31344-a810-41ff-bc38-efd03bbf6ecb\" xlink:actuate=\"onRequest\" xlink:href=\"psysml:acb31344-a810-41ff-bc38-efd03bbf6ecb\" xlink:show=\"new\" xlink:title=\"psysml:acb31344-a810-41ff-bc38-efd03bbf6ecb\" xlink:type=\"simple\"><polygon fill=\"#FFFFFF\" filter=\"url(#f1pft7xukp01ba)\" points=\"297,344,387,344,394,366.2969,401,366.2969,401,396.5938,297,396.5938,297,344\" style=\"stroke: #000000; stroke-width: 1.5;\"/><line style=\"stroke: #000000; stroke-width: 1.5;\" x1=\"297\" x2=\"394\" y1=\"366.2969\" y2=\"366.2969\"/><text fill=\"#000000\" font-family=\"sans-serif\" font-size=\"14\" font-weight=\"bold\" lengthAdjust=\"spacingAndGlyphs\" textLength=\"84\" x=\"301\" y=\"358.9951\">Data Layer</text></a><!--MD5=[af87c684e3b0d8be13c1a698a818ef1e]\n",
       "link E3 to E4--><a href=\"psysml:952f286e-4b84-47c6-949f-c687a4b4f029\" target=\"_top\" title=\"psysml:952f286e-4b84-47c6-949f-c687a4b4f029\" xlink:actuate=\"onRequest\" xlink:href=\"psysml:952f286e-4b84-47c6-949f-c687a4b4f029\" xlink:show=\"new\" xlink:title=\"psysml:952f286e-4b84-47c6-949f-c687a4b4f029\" xlink:type=\"simple\"><path d=\"M349,137.1 C349,156.8 349,184.22 349,205.73 \" fill=\"none\" id=\"E3-&gt;E4\" style=\"stroke: #A80036; stroke-width: 1.0; stroke-dasharray: 7.0,7.0;\"/><polygon fill=\"#A80036\" points=\"349,213.95,352,205.95,346,205.95,349,213.95\" style=\"stroke: #A80036; stroke-width: 1.0;\"/><text fill=\"#000000\" font-family=\"sans-serif\" font-size=\"13\" lengthAdjust=\"spacingAndGlyphs\" textLength=\"64\" x=\"350\" y=\"180.0669\">«depend»</text></a><!--MD5=[1b7591eae5389033d8d09a9d6721a717]\n",
       "link E4 to E5--><a href=\"psysml:7352021b-a74c-4755-9a9f-544f5d5618ed\" target=\"_top\" title=\"psysml:7352021b-a74c-4755-9a9f-544f5d5618ed\" xlink:actuate=\"onRequest\" xlink:href=\"psysml:7352021b-a74c-4755-9a9f-544f5d5618ed\" xlink:show=\"new\" xlink:title=\"psysml:7352021b-a74c-4755-9a9f-544f5d5618ed\" xlink:type=\"simple\"><path d=\"M349,267.1 C349,286.8 349,314.22 349,335.73 \" fill=\"none\" id=\"E4-&gt;E5\" style=\"stroke: #A80036; stroke-width: 1.0; stroke-dasharray: 7.0,7.0;\"/><polygon fill=\"#A80036\" points=\"349,343.95,352,335.95,346,335.95,349,343.95\" style=\"stroke: #A80036; stroke-width: 1.0;\"/><text fill=\"#000000\" font-family=\"sans-serif\" font-size=\"13\" lengthAdjust=\"spacingAndGlyphs\" textLength=\"64\" x=\"350\" y=\"310.0669\">«depend»</text></a><!--MD5=[c5e8897d989ce984f93528998a7150fe]\n",
       "link E8 to E6--><a href=\"psysml:c2ca5ac6-1591-4e08-969e-b115a3bed697\" target=\"_top\" title=\"psysml:c2ca5ac6-1591-4e08-969e-b115a3bed697\" xlink:actuate=\"onRequest\" xlink:href=\"psysml:c2ca5ac6-1591-4e08-969e-b115a3bed697\" xlink:show=\"new\" xlink:title=\"psysml:c2ca5ac6-1591-4e08-969e-b115a3bed697\" xlink:type=\"simple\"><path d=\"M89.42,133.6 C79.35,142.68 69.37,154.11 64,167 C58.5,180.2 58.66,195.94 60.54,209.38 \" fill=\"none\" id=\"E8-&gt;E6\" style=\"stroke: #A80036; stroke-width: 1.0; stroke-dasharray: 7.0,7.0;\"/><polygon fill=\"#A80036\" points=\"61.9,217.4,63.517,209.0104,57.6018,210.0159,61.9,217.4\" style=\"stroke: #A80036; stroke-width: 1.0;\"/><text fill=\"#000000\" font-family=\"sans-serif\" font-size=\"13\" lengthAdjust=\"spacingAndGlyphs\" textLength=\"64\" x=\"65\" y=\"180.0669\">«depend»</text></a><!--MD5=[bfa3c8b0d15052fdf50ae9310b491027]\n",
       "link E8 to E7--><a href=\"psysml:c2ca5ac6-1591-4e08-969e-b115a3bed697\" target=\"_top\" title=\"psysml:c2ca5ac6-1591-4e08-969e-b115a3bed697\" xlink:actuate=\"onRequest\" xlink:href=\"psysml:c2ca5ac6-1591-4e08-969e-b115a3bed697\" xlink:show=\"new\" xlink:title=\"psysml:c2ca5ac6-1591-4e08-969e-b115a3bed697\" xlink:type=\"simple\"><path d=\"M129.28,133.5 C138.17,154.57 151.64,186.5 161.47,209.81 \" fill=\"none\" id=\"E8-&gt;E7\" style=\"stroke: #A80036; stroke-width: 1.0; stroke-dasharray: 7.0,7.0;\"/><polygon fill=\"#A80036\" points=\"164.66,217.35,164.3241,208.8126,158.7933,211.1385,164.66,217.35\" style=\"stroke: #A80036; stroke-width: 1.0;\"/><text fill=\"#000000\" font-family=\"sans-serif\" font-size=\"13\" lengthAdjust=\"spacingAndGlyphs\" textLength=\"64\" x=\"151\" y=\"180.0669\">«depend»</text></a><!--MD5=[1e80973270833e3579ef0b61c8438bb5]\n",
       "@startuml\r\n",
       "skinparam wrapWidth 300\r\n",
       "hide circle\r\n",
       "\r\n",
       "package \"DependencyTest\" as E1  [[psysml:cb8a6054-43e9-4191-a3b4-d53f2df2fcdf ]]  {\r\n",
       "package \"System\" as E2  [[psysml:b8ece1dd-151a-4631-92e5-c2dbf563fb8b ]]  {\r\n",
       "package \"Application Layer\" as E3  [[psysml:59f5b99d-24d3-4acd-853e-8f7f0b563d54 ]]  {\r\n",
       "}\r\n",
       "package \"Service Layer\" as E4  [[psysml:5cfbc3a5-c556-4af2-acf6-f60fe409e97c ]]  {\r\n",
       "}\r\n",
       "package \"Data Layer\" as E5  [[psysml:acb31344-a810-41ff-bc38-efd03bbf6ecb ]]  {\r\n",
       "}\r\n",
       "}\r\n",
       "comp usage \"x\" as E6  <<(T,blue)attribute>> [[psysml:3db867e9-a237-498d-9697-66a5ca6752eb ]] {\r\n",
       "}\r\n",
       "comp usage \"y\" as E7  <<(T,blue)attribute>> [[psysml:c548d046-cadc-4301-a44e-d185972c752b ]] {\r\n",
       "}\r\n",
       "comp usage \"z\" as E8  <<(T,blue)attribute>> [[psysml:47dc4f88-d05c-4598-a7e7-ecfe5751dc87 ]] {\r\n",
       "}\r\n",
       "E3 ..>> E4 [[psysml:952f286e-4b84-47c6-949f-c687a4b4f029 ]] : <<depend>>\r\n",
       "E4 ..>> E5 [[psysml:7352021b-a74c-4755-9a9f-544f5d5618ed ]] : <<depend>>\r\n",
       "E8 ..>> E6 [[psysml:c2ca5ac6-1591-4e08-969e-b115a3bed697 ]] : <<depend>>\r\n",
       "E8 ..>> E7 [[psysml:c2ca5ac6-1591-4e08-969e-b115a3bed697 ]] : <<depend>>\r\n",
       "}\r\n",
       "@enduml\r\n",
       "\n",
       "PlantUML version 1.2020.13(Sat Jun 13 12:26:38 UTC 2020)\n",
       "(EPL source distribution)\n",
       "Java Runtime: OpenJDK Runtime Environment\n",
       "JVM: OpenJDK 64-Bit Server VM\n",
       "Default Encoding: UTF-8\n",
       "Language: en\n",
       "Country: null\n",
       "--></g></svg>"
      ]
     },
     "execution_count": 23,
     "metadata": {},
     "output_type": "execute_result"
    }
   ],
   "source": [
    "%viz --style=\"STDCOLOR\" --view=\"Default\" \"DependencyTest\""
   ]
  },
  {
   "cell_type": "code",
   "execution_count": 24,
   "id": "331460f2",
   "metadata": {
    "execution": {
     "iopub.execute_input": "2021-04-20T07:03:24.680162Z",
     "iopub.status.busy": "2021-04-20T07:03:24.679274Z",
     "iopub.status.idle": "2021-04-20T07:03:24.726621Z",
     "shell.execute_reply": "2021-04-20T07:03:24.726225Z"
    }
   },
   "outputs": [
    {
     "data": {
      "image/svg+xml": [
       "<?xml version=\"1.0\" encoding=\"UTF-8\" standalone=\"no\"?><svg xmlns=\"http://www.w3.org/2000/svg\" xmlns:xlink=\"http://www.w3.org/1999/xlink\" contentScriptType=\"application/ecmascript\" contentStyleType=\"text/css\" height=\"449px\" preserveAspectRatio=\"none\" style=\"width:489px;height:449px;\" version=\"1.1\" viewBox=\"0 0 489 449\" width=\"489px\" zoomAndPan=\"magnify\"><defs><filter height=\"300%\" id=\"f1pft7xukp01ba\" width=\"300%\" x=\"-1\" y=\"-1\"><feGaussianBlur result=\"blurOut\" stdDeviation=\"2.0\"/><feColorMatrix in=\"blurOut\" result=\"blurOut2\" type=\"matrix\" values=\"0 0 0 0 0 0 0 0 0 0 0 0 0 0 0 0 0 0 .4 0\"/><feOffset dx=\"4.0\" dy=\"4.0\" in=\"blurOut2\" result=\"blurOut3\"/><feBlend in=\"SourceGraphic\" in2=\"blurOut3\" mode=\"normal\"/></filter></defs><g><!--MD5=[fbc87193dbaf4d95561dea2c320d4a47]\n",
       "cluster E1--><a href=\"psysml:cb8a6054-43e9-4191-a3b4-d53f2df2fcdf\" target=\"_top\" title=\"psysml:cb8a6054-43e9-4191-a3b4-d53f2df2fcdf\" xlink:actuate=\"onRequest\" xlink:href=\"psysml:cb8a6054-43e9-4191-a3b4-d53f2df2fcdf\" xlink:show=\"new\" xlink:title=\"psysml:cb8a6054-43e9-4191-a3b4-d53f2df2fcdf\" xlink:type=\"simple\"><polygon fill=\"#FFFFFF\" filter=\"url(#f1pft7xukp01ba)\" points=\"16,6,156,6,163,28.2969,467,28.2969,467,437,16,437,16,6\" style=\"stroke: #000000; stroke-width: 1.5;\"/><line style=\"stroke: #000000; stroke-width: 1.5;\" x1=\"16\" x2=\"163\" y1=\"28.2969\" y2=\"28.2969\"/><text fill=\"#000000\" font-family=\"sans-serif\" font-size=\"14\" font-weight=\"bold\" lengthAdjust=\"spacingAndGlyphs\" textLength=\"134\" x=\"20\" y=\"20.9951\">DependencyTest</text></a><!--MD5=[e4f7fae6ed58524ba242bb0b0d3be6b7]\n",
       "cluster E2--><a href=\"psysml:b8ece1dd-151a-4631-92e5-c2dbf563fb8b\" target=\"_top\" title=\"psysml:b8ece1dd-151a-4631-92e5-c2dbf563fb8b\" xlink:actuate=\"onRequest\" xlink:href=\"psysml:b8ece1dd-151a-4631-92e5-c2dbf563fb8b\" xlink:show=\"new\" xlink:title=\"psysml:b8ece1dd-151a-4631-92e5-c2dbf563fb8b\" xlink:type=\"simple\"><polygon fill=\"#FFFFFF\" filter=\"url(#f1pft7xukp01ba)\" points=\"255,49,319,49,326,71.2969,443,71.2969,443,413,255,413,255,49\" style=\"stroke: #000000; stroke-width: 1.5;\"/><line style=\"stroke: #000000; stroke-width: 1.5;\" x1=\"255\" x2=\"326\" y1=\"71.2969\" y2=\"71.2969\"/><text fill=\"#000000\" font-family=\"sans-serif\" font-size=\"14\" font-weight=\"bold\" lengthAdjust=\"spacingAndGlyphs\" textLength=\"58\" x=\"259\" y=\"63.9951\">System</text></a><!--MD5=[60a26617385b1d2d0262a64233df1f8d]\n",
       "class E6--><a href=\"psysml:3db867e9-a237-498d-9697-66a5ca6752eb\" target=\"_top\" title=\"psysml:3db867e9-a237-498d-9697-66a5ca6752eb\" xlink:actuate=\"onRequest\" xlink:href=\"psysml:3db867e9-a237-498d-9697-66a5ca6752eb\" xlink:show=\"new\" xlink:title=\"psysml:3db867e9-a237-498d-9697-66a5ca6752eb\" xlink:type=\"simple\"><rect fill=\"#FEFECE\" filter=\"url(#f1pft7xukp01ba)\" height=\"45.9375\" id=\"E6\" rx=\"10\" ry=\"10\" style=\"stroke: #A80036; stroke-width: 1.5;\" width=\"71\" x=\"32.5\" y=\"217.5\"/><text fill=\"#000000\" font-family=\"sans-serif\" font-size=\"12\" font-style=\"italic\" lengthAdjust=\"spacingAndGlyphs\" textLength=\"69\" x=\"33.5\" y=\"233.6387\">«attribute»</text><text fill=\"#000000\" font-family=\"sans-serif\" font-size=\"12\" lengthAdjust=\"spacingAndGlyphs\" textLength=\"6\" x=\"65\" y=\"247.6074\">x</text><line style=\"stroke: #A80036; stroke-width: 1.5;\" x1=\"33.5\" x2=\"102.5\" y1=\"255.4375\" y2=\"255.4375\"/></a><!--MD5=[2156ba9850f5573cc1fc38a6a4b2f02b]\n",
       "class E7--><a href=\"psysml:c548d046-cadc-4301-a44e-d185972c752b\" target=\"_top\" title=\"psysml:c548d046-cadc-4301-a44e-d185972c752b\" xlink:actuate=\"onRequest\" xlink:href=\"psysml:c548d046-cadc-4301-a44e-d185972c752b\" xlink:show=\"new\" xlink:title=\"psysml:c548d046-cadc-4301-a44e-d185972c752b\" xlink:type=\"simple\"><rect fill=\"#FEFECE\" filter=\"url(#f1pft7xukp01ba)\" height=\"45.9375\" id=\"E7\" rx=\"10\" ry=\"10\" style=\"stroke: #A80036; stroke-width: 1.5;\" width=\"71\" x=\"138.5\" y=\"217.5\"/><text fill=\"#000000\" font-family=\"sans-serif\" font-size=\"12\" font-style=\"italic\" lengthAdjust=\"spacingAndGlyphs\" textLength=\"69\" x=\"139.5\" y=\"233.6387\">«attribute»</text><text fill=\"#000000\" font-family=\"sans-serif\" font-size=\"12\" lengthAdjust=\"spacingAndGlyphs\" textLength=\"6\" x=\"171\" y=\"247.6074\">y</text><line style=\"stroke: #A80036; stroke-width: 1.5;\" x1=\"139.5\" x2=\"208.5\" y1=\"255.4375\" y2=\"255.4375\"/></a><!--MD5=[b9389687b975829384b498ac4b7476b2]\n",
       "class E8--><a href=\"psysml:47dc4f88-d05c-4598-a7e7-ecfe5751dc87\" target=\"_top\" title=\"psysml:47dc4f88-d05c-4598-a7e7-ecfe5751dc87\" xlink:actuate=\"onRequest\" xlink:href=\"psysml:47dc4f88-d05c-4598-a7e7-ecfe5751dc87\" xlink:show=\"new\" xlink:title=\"psysml:47dc4f88-d05c-4598-a7e7-ecfe5751dc87\" xlink:type=\"simple\"><rect fill=\"#FEFECE\" filter=\"url(#f1pft7xukp01ba)\" height=\"45.9375\" id=\"E8\" rx=\"10\" ry=\"10\" style=\"stroke: #A80036; stroke-width: 1.5;\" width=\"71\" x=\"84.5\" y=\"87.5\"/><text fill=\"#000000\" font-family=\"sans-serif\" font-size=\"12\" font-style=\"italic\" lengthAdjust=\"spacingAndGlyphs\" textLength=\"69\" x=\"85.5\" y=\"103.6387\">«attribute»</text><text fill=\"#000000\" font-family=\"sans-serif\" font-size=\"12\" lengthAdjust=\"spacingAndGlyphs\" textLength=\"5\" x=\"117.5\" y=\"117.6074\">z</text><line style=\"stroke: #A80036; stroke-width: 1.5;\" x1=\"85.5\" x2=\"154.5\" y1=\"125.4375\" y2=\"125.4375\"/></a><a href=\"psysml:59f5b99d-24d3-4acd-853e-8f7f0b563d54\" target=\"_top\" title=\"psysml:59f5b99d-24d3-4acd-853e-8f7f0b563d54\" xlink:actuate=\"onRequest\" xlink:href=\"psysml:59f5b99d-24d3-4acd-853e-8f7f0b563d54\" xlink:show=\"new\" xlink:title=\"psysml:59f5b99d-24d3-4acd-853e-8f7f0b563d54\" xlink:type=\"simple\"><polygon fill=\"#FFFFFF\" filter=\"url(#f1pft7xukp01ba)\" points=\"271,84,413,84,420,106.2969,427,106.2969,427,136.5938,271,136.5938,271,84\" style=\"stroke: #000000; stroke-width: 1.5;\"/><line style=\"stroke: #000000; stroke-width: 1.5;\" x1=\"271\" x2=\"420\" y1=\"106.2969\" y2=\"106.2969\"/><text fill=\"#000000\" font-family=\"sans-serif\" font-size=\"14\" font-weight=\"bold\" lengthAdjust=\"spacingAndGlyphs\" textLength=\"136\" x=\"275\" y=\"98.9951\">Application Layer</text></a><a href=\"psysml:5cfbc3a5-c556-4af2-acf6-f60fe409e97c\" target=\"_top\" title=\"psysml:5cfbc3a5-c556-4af2-acf6-f60fe409e97c\" xlink:actuate=\"onRequest\" xlink:href=\"psysml:5cfbc3a5-c556-4af2-acf6-f60fe409e97c\" xlink:show=\"new\" xlink:title=\"psysml:5cfbc3a5-c556-4af2-acf6-f60fe409e97c\" xlink:type=\"simple\"><polygon fill=\"#FFFFFF\" filter=\"url(#f1pft7xukp01ba)\" points=\"285,214,399,214,406,236.2969,413,236.2969,413,266.5938,285,266.5938,285,214\" style=\"stroke: #000000; stroke-width: 1.5;\"/><line style=\"stroke: #000000; stroke-width: 1.5;\" x1=\"285\" x2=\"406\" y1=\"236.2969\" y2=\"236.2969\"/><text fill=\"#000000\" font-family=\"sans-serif\" font-size=\"14\" font-weight=\"bold\" lengthAdjust=\"spacingAndGlyphs\" textLength=\"108\" x=\"289\" y=\"228.9951\">Service Layer</text></a><a href=\"psysml:acb31344-a810-41ff-bc38-efd03bbf6ecb\" target=\"_top\" title=\"psysml:acb31344-a810-41ff-bc38-efd03bbf6ecb\" xlink:actuate=\"onRequest\" xlink:href=\"psysml:acb31344-a810-41ff-bc38-efd03bbf6ecb\" xlink:show=\"new\" xlink:title=\"psysml:acb31344-a810-41ff-bc38-efd03bbf6ecb\" xlink:type=\"simple\"><polygon fill=\"#FFFFFF\" filter=\"url(#f1pft7xukp01ba)\" points=\"297,344,387,344,394,366.2969,401,366.2969,401,396.5938,297,396.5938,297,344\" style=\"stroke: #000000; stroke-width: 1.5;\"/><line style=\"stroke: #000000; stroke-width: 1.5;\" x1=\"297\" x2=\"394\" y1=\"366.2969\" y2=\"366.2969\"/><text fill=\"#000000\" font-family=\"sans-serif\" font-size=\"14\" font-weight=\"bold\" lengthAdjust=\"spacingAndGlyphs\" textLength=\"84\" x=\"301\" y=\"358.9951\">Data Layer</text></a><!--MD5=[af87c684e3b0d8be13c1a698a818ef1e]\n",
       "link E3 to E4--><a href=\"psysml:952f286e-4b84-47c6-949f-c687a4b4f029\" target=\"_top\" title=\"psysml:952f286e-4b84-47c6-949f-c687a4b4f029\" xlink:actuate=\"onRequest\" xlink:href=\"psysml:952f286e-4b84-47c6-949f-c687a4b4f029\" xlink:show=\"new\" xlink:title=\"psysml:952f286e-4b84-47c6-949f-c687a4b4f029\" xlink:type=\"simple\"><path d=\"M349,137.1 C349,156.8 349,184.22 349,205.73 \" fill=\"none\" id=\"E3-&gt;E4\" style=\"stroke: #A80036; stroke-width: 1.0; stroke-dasharray: 7.0,7.0;\"/><polygon fill=\"#A80036\" points=\"349,213.95,352,205.95,346,205.95,349,213.95\" style=\"stroke: #A80036; stroke-width: 1.0;\"/><text fill=\"#000000\" font-family=\"sans-serif\" font-size=\"13\" lengthAdjust=\"spacingAndGlyphs\" textLength=\"64\" x=\"350\" y=\"180.0669\">«depend»</text></a><!--MD5=[1b7591eae5389033d8d09a9d6721a717]\n",
       "link E4 to E5--><a href=\"psysml:7352021b-a74c-4755-9a9f-544f5d5618ed\" target=\"_top\" title=\"psysml:7352021b-a74c-4755-9a9f-544f5d5618ed\" xlink:actuate=\"onRequest\" xlink:href=\"psysml:7352021b-a74c-4755-9a9f-544f5d5618ed\" xlink:show=\"new\" xlink:title=\"psysml:7352021b-a74c-4755-9a9f-544f5d5618ed\" xlink:type=\"simple\"><path d=\"M349,267.1 C349,286.8 349,314.22 349,335.73 \" fill=\"none\" id=\"E4-&gt;E5\" style=\"stroke: #A80036; stroke-width: 1.0; stroke-dasharray: 7.0,7.0;\"/><polygon fill=\"#A80036\" points=\"349,343.95,352,335.95,346,335.95,349,343.95\" style=\"stroke: #A80036; stroke-width: 1.0;\"/><text fill=\"#000000\" font-family=\"sans-serif\" font-size=\"13\" lengthAdjust=\"spacingAndGlyphs\" textLength=\"64\" x=\"350\" y=\"310.0669\">«depend»</text></a><!--MD5=[c5e8897d989ce984f93528998a7150fe]\n",
       "link E8 to E6--><a href=\"psysml:c2ca5ac6-1591-4e08-969e-b115a3bed697\" target=\"_top\" title=\"psysml:c2ca5ac6-1591-4e08-969e-b115a3bed697\" xlink:actuate=\"onRequest\" xlink:href=\"psysml:c2ca5ac6-1591-4e08-969e-b115a3bed697\" xlink:show=\"new\" xlink:title=\"psysml:c2ca5ac6-1591-4e08-969e-b115a3bed697\" xlink:type=\"simple\"><path d=\"M89.42,133.6 C79.35,142.68 69.37,154.11 64,167 C58.5,180.2 58.66,195.94 60.54,209.38 \" fill=\"none\" id=\"E8-&gt;E6\" style=\"stroke: #A80036; stroke-width: 1.0; stroke-dasharray: 7.0,7.0;\"/><polygon fill=\"#A80036\" points=\"61.9,217.4,63.517,209.0104,57.6018,210.0159,61.9,217.4\" style=\"stroke: #A80036; stroke-width: 1.0;\"/><text fill=\"#000000\" font-family=\"sans-serif\" font-size=\"13\" lengthAdjust=\"spacingAndGlyphs\" textLength=\"64\" x=\"65\" y=\"180.0669\">«depend»</text></a><!--MD5=[bfa3c8b0d15052fdf50ae9310b491027]\n",
       "link E8 to E7--><a href=\"psysml:c2ca5ac6-1591-4e08-969e-b115a3bed697\" target=\"_top\" title=\"psysml:c2ca5ac6-1591-4e08-969e-b115a3bed697\" xlink:actuate=\"onRequest\" xlink:href=\"psysml:c2ca5ac6-1591-4e08-969e-b115a3bed697\" xlink:show=\"new\" xlink:title=\"psysml:c2ca5ac6-1591-4e08-969e-b115a3bed697\" xlink:type=\"simple\"><path d=\"M129.28,133.5 C138.17,154.57 151.64,186.5 161.47,209.81 \" fill=\"none\" id=\"E8-&gt;E7\" style=\"stroke: #A80036; stroke-width: 1.0; stroke-dasharray: 7.0,7.0;\"/><polygon fill=\"#A80036\" points=\"164.66,217.35,164.3241,208.8126,158.7933,211.1385,164.66,217.35\" style=\"stroke: #A80036; stroke-width: 1.0;\"/><text fill=\"#000000\" font-family=\"sans-serif\" font-size=\"13\" lengthAdjust=\"spacingAndGlyphs\" textLength=\"64\" x=\"151\" y=\"180.0669\">«depend»</text></a><!--MD5=[1e80973270833e3579ef0b61c8438bb5]\n",
       "@startuml\r\n",
       "skinparam wrapWidth 300\r\n",
       "hide circle\r\n",
       "\r\n",
       "package \"DependencyTest\" as E1  [[psysml:cb8a6054-43e9-4191-a3b4-d53f2df2fcdf ]]  {\r\n",
       "package \"System\" as E2  [[psysml:b8ece1dd-151a-4631-92e5-c2dbf563fb8b ]]  {\r\n",
       "package \"Application Layer\" as E3  [[psysml:59f5b99d-24d3-4acd-853e-8f7f0b563d54 ]]  {\r\n",
       "}\r\n",
       "package \"Service Layer\" as E4  [[psysml:5cfbc3a5-c556-4af2-acf6-f60fe409e97c ]]  {\r\n",
       "}\r\n",
       "package \"Data Layer\" as E5  [[psysml:acb31344-a810-41ff-bc38-efd03bbf6ecb ]]  {\r\n",
       "}\r\n",
       "}\r\n",
       "comp usage \"x\" as E6  <<(T,blue)attribute>> [[psysml:3db867e9-a237-498d-9697-66a5ca6752eb ]] {\r\n",
       "}\r\n",
       "comp usage \"y\" as E7  <<(T,blue)attribute>> [[psysml:c548d046-cadc-4301-a44e-d185972c752b ]] {\r\n",
       "}\r\n",
       "comp usage \"z\" as E8  <<(T,blue)attribute>> [[psysml:47dc4f88-d05c-4598-a7e7-ecfe5751dc87 ]] {\r\n",
       "}\r\n",
       "E3 ..>> E4 [[psysml:952f286e-4b84-47c6-949f-c687a4b4f029 ]] : <<depend>>\r\n",
       "E4 ..>> E5 [[psysml:7352021b-a74c-4755-9a9f-544f5d5618ed ]] : <<depend>>\r\n",
       "E8 ..>> E6 [[psysml:c2ca5ac6-1591-4e08-969e-b115a3bed697 ]] : <<depend>>\r\n",
       "E8 ..>> E7 [[psysml:c2ca5ac6-1591-4e08-969e-b115a3bed697 ]] : <<depend>>\r\n",
       "}\r\n",
       "@enduml\r\n",
       "\n",
       "PlantUML version 1.2020.13(Sat Jun 13 12:26:38 UTC 2020)\n",
       "(EPL source distribution)\n",
       "Java Runtime: OpenJDK Runtime Environment\n",
       "JVM: OpenJDK 64-Bit Server VM\n",
       "Default Encoding: UTF-8\n",
       "Language: en\n",
       "Country: null\n",
       "--></g></svg>"
      ]
     },
     "execution_count": 24,
     "metadata": {},
     "output_type": "execute_result"
    }
   ],
   "source": [
    "%viz --style=\"STDCOLOR\" --view=\"Tree\" \"DependencyTest\""
   ]
  },
  {
   "cell_type": "code",
   "execution_count": 25,
   "id": "5481f66c",
   "metadata": {
    "execution": {
     "iopub.execute_input": "2021-04-20T07:03:24.778071Z",
     "iopub.status.busy": "2021-04-20T07:03:24.777551Z",
     "iopub.status.idle": "2021-04-20T07:03:24.784605Z",
     "shell.execute_reply": "2021-04-20T07:03:24.783912Z"
    }
   },
   "outputs": [
    {
     "data": {
      "image/svg+xml": [
       "<?xml version=\"1.0\" encoding=\"UTF-8\" standalone=\"no\"?><svg xmlns=\"http://www.w3.org/2000/svg\" xmlns:xlink=\"http://www.w3.org/1999/xlink\" contentScriptType=\"application/ecmascript\" contentStyleType=\"text/css\" height=\"12px\" preserveAspectRatio=\"none\" style=\"width:12px;height:12px;\" version=\"1.1\" viewBox=\"0 0 12 12\" width=\"12px\" zoomAndPan=\"magnify\"><defs/><g><!--MD5=[aeeef50f102b80d730deb6443d14f702]\n",
       "@startuml\r\n",
       "skinparam wrapWidth 300\r\n",
       "hide circle\r\n",
       "\r\n",
       "@enduml\r\n",
       "\n",
       "PlantUML version 1.2020.13(Sat Jun 13 12:26:38 UTC 2020)\n",
       "(EPL source distribution)\n",
       "Java Runtime: OpenJDK Runtime Environment\n",
       "JVM: OpenJDK 64-Bit Server VM\n",
       "Default Encoding: UTF-8\n",
       "Language: en\n",
       "Country: null\n",
       "--></g></svg>"
      ]
     },
     "execution_count": 25,
     "metadata": {},
     "output_type": "execute_result"
    }
   ],
   "source": [
    "%viz --style=\"STDCOLOR\" --view=\"State\" \"DependencyTest\""
   ]
  },
  {
   "cell_type": "code",
   "execution_count": 26,
   "id": "b3b08078",
   "metadata": {
    "execution": {
     "iopub.execute_input": "2021-04-20T07:03:24.836135Z",
     "iopub.status.busy": "2021-04-20T07:03:24.835740Z",
     "iopub.status.idle": "2021-04-20T07:03:24.898455Z",
     "shell.execute_reply": "2021-04-20T07:03:24.897536Z"
    }
   },
   "outputs": [
    {
     "data": {
      "image/svg+xml": [
       "<?xml version=\"1.0\" encoding=\"UTF-8\" standalone=\"no\"?><svg xmlns=\"http://www.w3.org/2000/svg\" xmlns:xlink=\"http://www.w3.org/1999/xlink\" contentScriptType=\"application/ecmascript\" contentStyleType=\"text/css\" height=\"361px\" preserveAspectRatio=\"none\" style=\"width:489px;height:361px;\" version=\"1.1\" viewBox=\"0 0 489 361\" width=\"489px\" zoomAndPan=\"magnify\"><defs><filter height=\"300%\" id=\"fw5ownweqxp17\" width=\"300%\" x=\"-1\" y=\"-1\"><feGaussianBlur result=\"blurOut\" stdDeviation=\"2.0\"/><feColorMatrix in=\"blurOut\" result=\"blurOut2\" type=\"matrix\" values=\"0 0 0 0 0 0 0 0 0 0 0 0 0 0 0 0 0 0 .4 0\"/><feOffset dx=\"4.0\" dy=\"4.0\" in=\"blurOut2\" result=\"blurOut3\"/><feBlend in=\"SourceGraphic\" in2=\"blurOut3\" mode=\"normal\"/></filter></defs><g><!--MD5=[fbc87193dbaf4d95561dea2c320d4a47]\n",
       "cluster E1--><a href=\"psysml:cb8a6054-43e9-4191-a3b4-d53f2df2fcdf\" target=\"_top\" title=\"psysml:cb8a6054-43e9-4191-a3b4-d53f2df2fcdf\" xlink:actuate=\"onRequest\" xlink:href=\"psysml:cb8a6054-43e9-4191-a3b4-d53f2df2fcdf\" xlink:show=\"new\" xlink:title=\"psysml:cb8a6054-43e9-4191-a3b4-d53f2df2fcdf\" xlink:type=\"simple\"><polygon fill=\"#FFFFFF\" filter=\"url(#fw5ownweqxp17)\" points=\"16,6,156,6,163,28.2969,467,28.2969,467,349,16,349,16,6\" style=\"stroke: #000000; stroke-width: 1.5;\"/><line style=\"stroke: #000000; stroke-width: 1.5;\" x1=\"16\" x2=\"163\" y1=\"28.2969\" y2=\"28.2969\"/><text fill=\"#000000\" font-family=\"sans-serif\" font-size=\"14\" font-weight=\"bold\" lengthAdjust=\"spacingAndGlyphs\" textLength=\"134\" x=\"20\" y=\"20.9951\">DependencyTest</text></a><!--MD5=[e4f7fae6ed58524ba242bb0b0d3be6b7]\n",
       "cluster E2--><a href=\"psysml:b8ece1dd-151a-4631-92e5-c2dbf563fb8b\" target=\"_top\" title=\"psysml:b8ece1dd-151a-4631-92e5-c2dbf563fb8b\" xlink:actuate=\"onRequest\" xlink:href=\"psysml:b8ece1dd-151a-4631-92e5-c2dbf563fb8b\" xlink:show=\"new\" xlink:title=\"psysml:b8ece1dd-151a-4631-92e5-c2dbf563fb8b\" xlink:type=\"simple\"><polygon fill=\"#FFFFFF\" filter=\"url(#fw5ownweqxp17)\" points=\"255,49,319,49,326,71.2969,443,71.2969,443,325,255,325,255,49\" style=\"stroke: #000000; stroke-width: 1.5;\"/><line style=\"stroke: #000000; stroke-width: 1.5;\" x1=\"255\" x2=\"326\" y1=\"71.2969\" y2=\"71.2969\"/><text fill=\"#000000\" font-family=\"sans-serif\" font-size=\"14\" font-weight=\"bold\" lengthAdjust=\"spacingAndGlyphs\" textLength=\"58\" x=\"259\" y=\"63.9951\">System</text></a><!--MD5=[60a26617385b1d2d0262a64233df1f8d]\n",
       "class E6--><a href=\"psysml:3db867e9-a237-498d-9697-66a5ca6752eb\" target=\"_top\" title=\"psysml:3db867e9-a237-498d-9697-66a5ca6752eb\" xlink:actuate=\"onRequest\" xlink:href=\"psysml:3db867e9-a237-498d-9697-66a5ca6752eb\" xlink:show=\"new\" xlink:title=\"psysml:3db867e9-a237-498d-9697-66a5ca6752eb\" xlink:type=\"simple\"><rect fill=\"#FEFECE\" filter=\"url(#fw5ownweqxp17)\" height=\"45.9375\" id=\"E6\" rx=\"10\" ry=\"10\" style=\"stroke: #A80036; stroke-width: 1.5;\" width=\"71\" x=\"32.5\" y=\"173.5\"/><text fill=\"#000000\" font-family=\"sans-serif\" font-size=\"12\" font-style=\"italic\" lengthAdjust=\"spacingAndGlyphs\" textLength=\"69\" x=\"33.5\" y=\"189.6387\">«attribute»</text><text fill=\"#000000\" font-family=\"sans-serif\" font-size=\"12\" lengthAdjust=\"spacingAndGlyphs\" textLength=\"6\" x=\"65\" y=\"203.6074\">x</text><line style=\"stroke: #A80036; stroke-width: 1.5;\" x1=\"33.5\" x2=\"102.5\" y1=\"211.4375\" y2=\"211.4375\"/></a><!--MD5=[2156ba9850f5573cc1fc38a6a4b2f02b]\n",
       "class E7--><a href=\"psysml:c548d046-cadc-4301-a44e-d185972c752b\" target=\"_top\" title=\"psysml:c548d046-cadc-4301-a44e-d185972c752b\" xlink:actuate=\"onRequest\" xlink:href=\"psysml:c548d046-cadc-4301-a44e-d185972c752b\" xlink:show=\"new\" xlink:title=\"psysml:c548d046-cadc-4301-a44e-d185972c752b\" xlink:type=\"simple\"><rect fill=\"#FEFECE\" filter=\"url(#fw5ownweqxp17)\" height=\"45.9375\" id=\"E7\" rx=\"10\" ry=\"10\" style=\"stroke: #A80036; stroke-width: 1.5;\" width=\"71\" x=\"138.5\" y=\"173.5\"/><text fill=\"#000000\" font-family=\"sans-serif\" font-size=\"12\" font-style=\"italic\" lengthAdjust=\"spacingAndGlyphs\" textLength=\"69\" x=\"139.5\" y=\"189.6387\">«attribute»</text><text fill=\"#000000\" font-family=\"sans-serif\" font-size=\"12\" lengthAdjust=\"spacingAndGlyphs\" textLength=\"6\" x=\"171\" y=\"203.6074\">y</text><line style=\"stroke: #A80036; stroke-width: 1.5;\" x1=\"139.5\" x2=\"208.5\" y1=\"211.4375\" y2=\"211.4375\"/></a><!--MD5=[b9389687b975829384b498ac4b7476b2]\n",
       "class E8--><a href=\"psysml:47dc4f88-d05c-4598-a7e7-ecfe5751dc87\" target=\"_top\" title=\"psysml:47dc4f88-d05c-4598-a7e7-ecfe5751dc87\" xlink:actuate=\"onRequest\" xlink:href=\"psysml:47dc4f88-d05c-4598-a7e7-ecfe5751dc87\" xlink:show=\"new\" xlink:title=\"psysml:47dc4f88-d05c-4598-a7e7-ecfe5751dc87\" xlink:type=\"simple\"><rect fill=\"#FEFECE\" filter=\"url(#fw5ownweqxp17)\" height=\"45.9375\" id=\"E8\" rx=\"10\" ry=\"10\" style=\"stroke: #A80036; stroke-width: 1.5;\" width=\"71\" x=\"84.5\" y=\"87.5\"/><text fill=\"#000000\" font-family=\"sans-serif\" font-size=\"12\" font-style=\"italic\" lengthAdjust=\"spacingAndGlyphs\" textLength=\"69\" x=\"85.5\" y=\"103.6387\">«attribute»</text><text fill=\"#000000\" font-family=\"sans-serif\" font-size=\"12\" lengthAdjust=\"spacingAndGlyphs\" textLength=\"5\" x=\"117.5\" y=\"117.6074\">z</text><line style=\"stroke: #A80036; stroke-width: 1.5;\" x1=\"85.5\" x2=\"154.5\" y1=\"125.4375\" y2=\"125.4375\"/></a><a href=\"psysml:59f5b99d-24d3-4acd-853e-8f7f0b563d54\" target=\"_top\" title=\"psysml:59f5b99d-24d3-4acd-853e-8f7f0b563d54\" xlink:actuate=\"onRequest\" xlink:href=\"psysml:59f5b99d-24d3-4acd-853e-8f7f0b563d54\" xlink:show=\"new\" xlink:title=\"psysml:59f5b99d-24d3-4acd-853e-8f7f0b563d54\" xlink:type=\"simple\"><polygon fill=\"#FFFFFF\" filter=\"url(#fw5ownweqxp17)\" points=\"271,84,413,84,420,106.2969,427,106.2969,427,136.5938,271,136.5938,271,84\" style=\"stroke: #000000; stroke-width: 1.5;\"/><line style=\"stroke: #000000; stroke-width: 1.5;\" x1=\"271\" x2=\"420\" y1=\"106.2969\" y2=\"106.2969\"/><text fill=\"#000000\" font-family=\"sans-serif\" font-size=\"14\" font-weight=\"bold\" lengthAdjust=\"spacingAndGlyphs\" textLength=\"136\" x=\"275\" y=\"98.9951\">Application Layer</text></a><a href=\"psysml:5cfbc3a5-c556-4af2-acf6-f60fe409e97c\" target=\"_top\" title=\"psysml:5cfbc3a5-c556-4af2-acf6-f60fe409e97c\" xlink:actuate=\"onRequest\" xlink:href=\"psysml:5cfbc3a5-c556-4af2-acf6-f60fe409e97c\" xlink:show=\"new\" xlink:title=\"psysml:5cfbc3a5-c556-4af2-acf6-f60fe409e97c\" xlink:type=\"simple\"><polygon fill=\"#FFFFFF\" filter=\"url(#fw5ownweqxp17)\" points=\"285,170,399,170,406,192.2969,413,192.2969,413,222.5938,285,222.5938,285,170\" style=\"stroke: #000000; stroke-width: 1.5;\"/><line style=\"stroke: #000000; stroke-width: 1.5;\" x1=\"285\" x2=\"406\" y1=\"192.2969\" y2=\"192.2969\"/><text fill=\"#000000\" font-family=\"sans-serif\" font-size=\"14\" font-weight=\"bold\" lengthAdjust=\"spacingAndGlyphs\" textLength=\"108\" x=\"289\" y=\"184.9951\">Service Layer</text></a><a href=\"psysml:acb31344-a810-41ff-bc38-efd03bbf6ecb\" target=\"_top\" title=\"psysml:acb31344-a810-41ff-bc38-efd03bbf6ecb\" xlink:actuate=\"onRequest\" xlink:href=\"psysml:acb31344-a810-41ff-bc38-efd03bbf6ecb\" xlink:show=\"new\" xlink:title=\"psysml:acb31344-a810-41ff-bc38-efd03bbf6ecb\" xlink:type=\"simple\"><polygon fill=\"#FFFFFF\" filter=\"url(#fw5ownweqxp17)\" points=\"297,256,387,256,394,278.2969,401,278.2969,401,308.5938,297,308.5938,297,256\" style=\"stroke: #000000; stroke-width: 1.5;\"/><line style=\"stroke: #000000; stroke-width: 1.5;\" x1=\"297\" x2=\"394\" y1=\"278.2969\" y2=\"278.2969\"/><text fill=\"#000000\" font-family=\"sans-serif\" font-size=\"14\" font-weight=\"bold\" lengthAdjust=\"spacingAndGlyphs\" textLength=\"84\" x=\"301\" y=\"270.9951\">Data Layer</text></a><!--MD5=[af87c684e3b0d8be13c1a698a818ef1e]\n",
       "link E3 to E4--><a href=\"psysml:952f286e-4b84-47c6-949f-c687a4b4f029\" target=\"_top\" title=\"psysml:952f286e-4b84-47c6-949f-c687a4b4f029\" xlink:actuate=\"onRequest\" xlink:href=\"psysml:952f286e-4b84-47c6-949f-c687a4b4f029\" xlink:show=\"new\" xlink:title=\"psysml:952f286e-4b84-47c6-949f-c687a4b4f029\" xlink:type=\"simple\"><path d=\"M349,137.16 C349,144.98 349,153.69 349,161.94 \" fill=\"none\" id=\"E3-&gt;E4\" style=\"stroke: #A80036; stroke-width: 1.0; stroke-dasharray: 7.0,7.0;\"/><polygon fill=\"#A80036\" points=\"349,170,352,162,346,162,349,170\" style=\"stroke: #A80036; stroke-width: 1.0;\"/><text fill=\"#000000\" font-family=\"sans-serif\" font-size=\"13\" lengthAdjust=\"spacingAndGlyphs\" textLength=\"64\" x=\"350\" y=\"158.0669\">«depend»</text></a><!--MD5=[1b7591eae5389033d8d09a9d6721a717]\n",
       "link E4 to E5--><a href=\"psysml:7352021b-a74c-4755-9a9f-544f5d5618ed\" target=\"_top\" title=\"psysml:7352021b-a74c-4755-9a9f-544f5d5618ed\" xlink:actuate=\"onRequest\" xlink:href=\"psysml:7352021b-a74c-4755-9a9f-544f5d5618ed\" xlink:show=\"new\" xlink:title=\"psysml:7352021b-a74c-4755-9a9f-544f5d5618ed\" xlink:type=\"simple\"><path d=\"M349,223.16 C349,230.98 349,239.69 349,247.94 \" fill=\"none\" id=\"E4-&gt;E5\" style=\"stroke: #A80036; stroke-width: 1.0; stroke-dasharray: 7.0,7.0;\"/><polygon fill=\"#A80036\" points=\"349,256,352,248,346,248,349,256\" style=\"stroke: #A80036; stroke-width: 1.0;\"/><text fill=\"#000000\" font-family=\"sans-serif\" font-size=\"13\" lengthAdjust=\"spacingAndGlyphs\" textLength=\"64\" x=\"350\" y=\"244.0669\">«depend»</text></a><!--MD5=[c5e8897d989ce984f93528998a7150fe]\n",
       "link E8 to E6--><a href=\"psysml:c2ca5ac6-1591-4e08-969e-b115a3bed697\" target=\"_top\" title=\"psysml:c2ca5ac6-1591-4e08-969e-b115a3bed697\" xlink:actuate=\"onRequest\" xlink:href=\"psysml:c2ca5ac6-1591-4e08-969e-b115a3bed697\" xlink:show=\"new\" xlink:title=\"psysml:c2ca5ac6-1591-4e08-969e-b115a3bed697\" xlink:type=\"simple\"><path d=\"M84.49,125.34 C76.34,130.27 68.69,136.72 64,145 C60.54,151.1 59.62,158.31 60,165.33 \" fill=\"none\" id=\"E8-&gt;E6\" style=\"stroke: #A80036; stroke-width: 1.0; stroke-dasharray: 7.0,7.0;\"/><polygon fill=\"#A80036\" points=\"60.97,173.42,63.0061,165.1221,57.0479,165.8294,60.97,173.42\" style=\"stroke: #A80036; stroke-width: 1.0;\"/><text fill=\"#000000\" font-family=\"sans-serif\" font-size=\"13\" lengthAdjust=\"spacingAndGlyphs\" textLength=\"64\" x=\"65\" y=\"158.0669\">«depend»</text></a><!--MD5=[bfa3c8b0d15052fdf50ae9310b491027]\n",
       "link E8 to E7--><a href=\"psysml:c2ca5ac6-1591-4e08-969e-b115a3bed697\" target=\"_top\" title=\"psysml:c2ca5ac6-1591-4e08-969e-b115a3bed697\" xlink:actuate=\"onRequest\" xlink:href=\"psysml:c2ca5ac6-1591-4e08-969e-b115a3bed697\" xlink:show=\"new\" xlink:title=\"psysml:c2ca5ac6-1591-4e08-969e-b115a3bed697\" xlink:type=\"simple\"><path d=\"M134.19,133.57 C140.65,143.62 148.38,155.65 155.31,166.42 \" fill=\"none\" id=\"E8-&gt;E7\" style=\"stroke: #A80036; stroke-width: 1.0; stroke-dasharray: 7.0,7.0;\"/><polygon fill=\"#A80036\" points=\"159.72,173.29,157.9148,164.9389,152.8688,168.185,159.72,173.29\" style=\"stroke: #A80036; stroke-width: 1.0;\"/><text fill=\"#000000\" font-family=\"sans-serif\" font-size=\"13\" lengthAdjust=\"spacingAndGlyphs\" textLength=\"64\" x=\"152\" y=\"158.0669\">«depend»</text></a><!--MD5=[47714fbd74025ba39286d94a4381e60d]\n",
       "@startuml\r\n",
       "skinparam ranksep 10\r\n",
       "skinparam rectangle {\r\n",
       " backgroundColor<<block>> LightGreen\r\n",
       "}\r\n",
       "skinparam wrapWidth 300\r\n",
       "hide circle\r\n",
       "\r\n",
       "package \"DependencyTest\" as E1  [[psysml:cb8a6054-43e9-4191-a3b4-d53f2df2fcdf ]]  {\r\n",
       "package \"System\" as E2  [[psysml:b8ece1dd-151a-4631-92e5-c2dbf563fb8b ]]  {\r\n",
       "package \"Application Layer\" as E3  [[psysml:59f5b99d-24d3-4acd-853e-8f7f0b563d54 ]]  {\r\n",
       "}\r\n",
       "package \"Service Layer\" as E4  [[psysml:5cfbc3a5-c556-4af2-acf6-f60fe409e97c ]]  {\r\n",
       "}\r\n",
       "package \"Data Layer\" as E5  [[psysml:acb31344-a810-41ff-bc38-efd03bbf6ecb ]]  {\r\n",
       "}\r\n",
       "}\r\n",
       "comp usage \"x\" as E6  <<(T,blue)attribute>> [[psysml:3db867e9-a237-498d-9697-66a5ca6752eb ]] {\r\n",
       "}\r\n",
       "comp usage \"y\" as E7  <<(T,blue)attribute>> [[psysml:c548d046-cadc-4301-a44e-d185972c752b ]] {\r\n",
       "}\r\n",
       "comp usage \"z\" as E8  <<(T,blue)attribute>> [[psysml:47dc4f88-d05c-4598-a7e7-ecfe5751dc87 ]] {\r\n",
       "}\r\n",
       "E3 ..>> E4 [[psysml:952f286e-4b84-47c6-949f-c687a4b4f029 ]] : <<depend>>\r\n",
       "E4 ..>> E5 [[psysml:7352021b-a74c-4755-9a9f-544f5d5618ed ]] : <<depend>>\r\n",
       "E8 ..>> E6 [[psysml:c2ca5ac6-1591-4e08-969e-b115a3bed697 ]] : <<depend>>\r\n",
       "E8 ..>> E7 [[psysml:c2ca5ac6-1591-4e08-969e-b115a3bed697 ]] : <<depend>>\r\n",
       "}\r\n",
       "@enduml\r\n",
       "\n",
       "PlantUML version 1.2020.13(Sat Jun 13 12:26:38 UTC 2020)\n",
       "(EPL source distribution)\n",
       "Java Runtime: OpenJDK Runtime Environment\n",
       "JVM: OpenJDK 64-Bit Server VM\n",
       "Default Encoding: UTF-8\n",
       "Language: en\n",
       "Country: null\n",
       "--></g></svg>"
      ]
     },
     "execution_count": 26,
     "metadata": {},
     "output_type": "execute_result"
    }
   ],
   "source": [
    "%viz --style=\"STDCOLOR\" --view=\"Interconnection\" \"DependencyTest\""
   ]
  },
  {
   "cell_type": "code",
   "execution_count": 27,
   "id": "420af1a3",
   "metadata": {
    "execution": {
     "iopub.execute_input": "2021-04-20T07:03:24.949181Z",
     "iopub.status.busy": "2021-04-20T07:03:24.948651Z",
     "iopub.status.idle": "2021-04-20T07:03:24.956425Z",
     "shell.execute_reply": "2021-04-20T07:03:24.956077Z"
    }
   },
   "outputs": [
    {
     "data": {
      "image/svg+xml": [
       "<?xml version=\"1.0\" encoding=\"UTF-8\" standalone=\"no\"?><svg xmlns=\"http://www.w3.org/2000/svg\" xmlns:xlink=\"http://www.w3.org/1999/xlink\" contentScriptType=\"application/ecmascript\" contentStyleType=\"text/css\" height=\"12px\" preserveAspectRatio=\"none\" style=\"width:12px;height:12px;\" version=\"1.1\" viewBox=\"0 0 12 12\" width=\"12px\" zoomAndPan=\"magnify\"><defs/><g><!--MD5=[9863325348a96a77dacc89509d8ee65e]\n",
       "@startuml\r\n",
       "skinparam ranksep 8\r\n",
       "skinparam wrapWidth 300\r\n",
       "hide circle\r\n",
       "\r\n",
       "@enduml\r\n",
       "\n",
       "PlantUML version 1.2020.13(Sat Jun 13 12:26:38 UTC 2020)\n",
       "(EPL source distribution)\n",
       "Java Runtime: OpenJDK Runtime Environment\n",
       "JVM: OpenJDK 64-Bit Server VM\n",
       "Default Encoding: UTF-8\n",
       "Language: en\n",
       "Country: null\n",
       "--></g></svg>"
      ]
     },
     "execution_count": 27,
     "metadata": {},
     "output_type": "execute_result"
    }
   ],
   "source": [
    "%viz --style=\"STDCOLOR\" --view=\"Action\" \"DependencyTest\""
   ]
  },
  {
   "cell_type": "code",
   "execution_count": 28,
   "id": "f5991308",
   "metadata": {
    "execution": {
     "iopub.execute_input": "2021-04-20T07:03:25.006146Z",
     "iopub.status.busy": "2021-04-20T07:03:25.005611Z",
     "iopub.status.idle": "2021-04-20T07:03:25.040390Z",
     "shell.execute_reply": "2021-04-20T07:03:25.040101Z"
    }
   },
   "outputs": [
    {
     "data": {
      "image/svg+xml": [
       "<?xml version=\"1.0\" encoding=\"UTF-8\" standalone=\"no\"?><svg xmlns=\"http://www.w3.org/2000/svg\" xmlns:xlink=\"http://www.w3.org/1999/xlink\" contentScriptType=\"application/ecmascript\" contentStyleType=\"text/css\" height=\"449px\" preserveAspectRatio=\"none\" style=\"width:489px;height:449px;\" version=\"1.1\" viewBox=\"0 0 489 449\" width=\"489px\" zoomAndPan=\"magnify\"><defs><filter height=\"300%\" id=\"f1pft7xukp01ba\" width=\"300%\" x=\"-1\" y=\"-1\"><feGaussianBlur result=\"blurOut\" stdDeviation=\"2.0\"/><feColorMatrix in=\"blurOut\" result=\"blurOut2\" type=\"matrix\" values=\"0 0 0 0 0 0 0 0 0 0 0 0 0 0 0 0 0 0 .4 0\"/><feOffset dx=\"4.0\" dy=\"4.0\" in=\"blurOut2\" result=\"blurOut3\"/><feBlend in=\"SourceGraphic\" in2=\"blurOut3\" mode=\"normal\"/></filter></defs><g><!--MD5=[fbc87193dbaf4d95561dea2c320d4a47]\n",
       "cluster E1--><a href=\"psysml:cb8a6054-43e9-4191-a3b4-d53f2df2fcdf\" target=\"_top\" title=\"psysml:cb8a6054-43e9-4191-a3b4-d53f2df2fcdf\" xlink:actuate=\"onRequest\" xlink:href=\"psysml:cb8a6054-43e9-4191-a3b4-d53f2df2fcdf\" xlink:show=\"new\" xlink:title=\"psysml:cb8a6054-43e9-4191-a3b4-d53f2df2fcdf\" xlink:type=\"simple\"><polygon fill=\"#FFFFFF\" filter=\"url(#f1pft7xukp01ba)\" points=\"16,6,156,6,163,28.2969,467,28.2969,467,437,16,437,16,6\" style=\"stroke: #000000; stroke-width: 1.5;\"/><line style=\"stroke: #000000; stroke-width: 1.5;\" x1=\"16\" x2=\"163\" y1=\"28.2969\" y2=\"28.2969\"/><text fill=\"#000000\" font-family=\"sans-serif\" font-size=\"14\" font-weight=\"bold\" lengthAdjust=\"spacingAndGlyphs\" textLength=\"134\" x=\"20\" y=\"20.9951\">DependencyTest</text></a><!--MD5=[e4f7fae6ed58524ba242bb0b0d3be6b7]\n",
       "cluster E2--><a href=\"psysml:b8ece1dd-151a-4631-92e5-c2dbf563fb8b\" target=\"_top\" title=\"psysml:b8ece1dd-151a-4631-92e5-c2dbf563fb8b\" xlink:actuate=\"onRequest\" xlink:href=\"psysml:b8ece1dd-151a-4631-92e5-c2dbf563fb8b\" xlink:show=\"new\" xlink:title=\"psysml:b8ece1dd-151a-4631-92e5-c2dbf563fb8b\" xlink:type=\"simple\"><polygon fill=\"#FFFFFF\" filter=\"url(#f1pft7xukp01ba)\" points=\"255,49,319,49,326,71.2969,443,71.2969,443,413,255,413,255,49\" style=\"stroke: #000000; stroke-width: 1.5;\"/><line style=\"stroke: #000000; stroke-width: 1.5;\" x1=\"255\" x2=\"326\" y1=\"71.2969\" y2=\"71.2969\"/><text fill=\"#000000\" font-family=\"sans-serif\" font-size=\"14\" font-weight=\"bold\" lengthAdjust=\"spacingAndGlyphs\" textLength=\"58\" x=\"259\" y=\"63.9951\">System</text></a><!--MD5=[60a26617385b1d2d0262a64233df1f8d]\n",
       "class E6--><a href=\"psysml:3db867e9-a237-498d-9697-66a5ca6752eb\" target=\"_top\" title=\"psysml:3db867e9-a237-498d-9697-66a5ca6752eb\" xlink:actuate=\"onRequest\" xlink:href=\"psysml:3db867e9-a237-498d-9697-66a5ca6752eb\" xlink:show=\"new\" xlink:title=\"psysml:3db867e9-a237-498d-9697-66a5ca6752eb\" xlink:type=\"simple\"><rect fill=\"#FEFECE\" filter=\"url(#f1pft7xukp01ba)\" height=\"45.9375\" id=\"E6\" rx=\"10\" ry=\"10\" style=\"stroke: #A80036; stroke-width: 1.5;\" width=\"71\" x=\"32.5\" y=\"217.5\"/><text fill=\"#000000\" font-family=\"sans-serif\" font-size=\"12\" font-style=\"italic\" lengthAdjust=\"spacingAndGlyphs\" textLength=\"69\" x=\"33.5\" y=\"233.6387\">«attribute»</text><text fill=\"#000000\" font-family=\"sans-serif\" font-size=\"12\" lengthAdjust=\"spacingAndGlyphs\" textLength=\"6\" x=\"65\" y=\"247.6074\">x</text><line style=\"stroke: #A80036; stroke-width: 1.5;\" x1=\"33.5\" x2=\"102.5\" y1=\"255.4375\" y2=\"255.4375\"/></a><!--MD5=[2156ba9850f5573cc1fc38a6a4b2f02b]\n",
       "class E7--><a href=\"psysml:c548d046-cadc-4301-a44e-d185972c752b\" target=\"_top\" title=\"psysml:c548d046-cadc-4301-a44e-d185972c752b\" xlink:actuate=\"onRequest\" xlink:href=\"psysml:c548d046-cadc-4301-a44e-d185972c752b\" xlink:show=\"new\" xlink:title=\"psysml:c548d046-cadc-4301-a44e-d185972c752b\" xlink:type=\"simple\"><rect fill=\"#FEFECE\" filter=\"url(#f1pft7xukp01ba)\" height=\"45.9375\" id=\"E7\" rx=\"10\" ry=\"10\" style=\"stroke: #A80036; stroke-width: 1.5;\" width=\"71\" x=\"138.5\" y=\"217.5\"/><text fill=\"#000000\" font-family=\"sans-serif\" font-size=\"12\" font-style=\"italic\" lengthAdjust=\"spacingAndGlyphs\" textLength=\"69\" x=\"139.5\" y=\"233.6387\">«attribute»</text><text fill=\"#000000\" font-family=\"sans-serif\" font-size=\"12\" lengthAdjust=\"spacingAndGlyphs\" textLength=\"6\" x=\"171\" y=\"247.6074\">y</text><line style=\"stroke: #A80036; stroke-width: 1.5;\" x1=\"139.5\" x2=\"208.5\" y1=\"255.4375\" y2=\"255.4375\"/></a><!--MD5=[b9389687b975829384b498ac4b7476b2]\n",
       "class E8--><a href=\"psysml:47dc4f88-d05c-4598-a7e7-ecfe5751dc87\" target=\"_top\" title=\"psysml:47dc4f88-d05c-4598-a7e7-ecfe5751dc87\" xlink:actuate=\"onRequest\" xlink:href=\"psysml:47dc4f88-d05c-4598-a7e7-ecfe5751dc87\" xlink:show=\"new\" xlink:title=\"psysml:47dc4f88-d05c-4598-a7e7-ecfe5751dc87\" xlink:type=\"simple\"><rect fill=\"#FEFECE\" filter=\"url(#f1pft7xukp01ba)\" height=\"45.9375\" id=\"E8\" rx=\"10\" ry=\"10\" style=\"stroke: #A80036; stroke-width: 1.5;\" width=\"71\" x=\"84.5\" y=\"87.5\"/><text fill=\"#000000\" font-family=\"sans-serif\" font-size=\"12\" font-style=\"italic\" lengthAdjust=\"spacingAndGlyphs\" textLength=\"69\" x=\"85.5\" y=\"103.6387\">«attribute»</text><text fill=\"#000000\" font-family=\"sans-serif\" font-size=\"12\" lengthAdjust=\"spacingAndGlyphs\" textLength=\"5\" x=\"117.5\" y=\"117.6074\">z</text><line style=\"stroke: #A80036; stroke-width: 1.5;\" x1=\"85.5\" x2=\"154.5\" y1=\"125.4375\" y2=\"125.4375\"/></a><a href=\"psysml:59f5b99d-24d3-4acd-853e-8f7f0b563d54\" target=\"_top\" title=\"psysml:59f5b99d-24d3-4acd-853e-8f7f0b563d54\" xlink:actuate=\"onRequest\" xlink:href=\"psysml:59f5b99d-24d3-4acd-853e-8f7f0b563d54\" xlink:show=\"new\" xlink:title=\"psysml:59f5b99d-24d3-4acd-853e-8f7f0b563d54\" xlink:type=\"simple\"><polygon fill=\"#FFFFFF\" filter=\"url(#f1pft7xukp01ba)\" points=\"271,84,413,84,420,106.2969,427,106.2969,427,136.5938,271,136.5938,271,84\" style=\"stroke: #000000; stroke-width: 1.5;\"/><line style=\"stroke: #000000; stroke-width: 1.5;\" x1=\"271\" x2=\"420\" y1=\"106.2969\" y2=\"106.2969\"/><text fill=\"#000000\" font-family=\"sans-serif\" font-size=\"14\" font-weight=\"bold\" lengthAdjust=\"spacingAndGlyphs\" textLength=\"136\" x=\"275\" y=\"98.9951\">Application Layer</text></a><a href=\"psysml:5cfbc3a5-c556-4af2-acf6-f60fe409e97c\" target=\"_top\" title=\"psysml:5cfbc3a5-c556-4af2-acf6-f60fe409e97c\" xlink:actuate=\"onRequest\" xlink:href=\"psysml:5cfbc3a5-c556-4af2-acf6-f60fe409e97c\" xlink:show=\"new\" xlink:title=\"psysml:5cfbc3a5-c556-4af2-acf6-f60fe409e97c\" xlink:type=\"simple\"><polygon fill=\"#FFFFFF\" filter=\"url(#f1pft7xukp01ba)\" points=\"285,214,399,214,406,236.2969,413,236.2969,413,266.5938,285,266.5938,285,214\" style=\"stroke: #000000; stroke-width: 1.5;\"/><line style=\"stroke: #000000; stroke-width: 1.5;\" x1=\"285\" x2=\"406\" y1=\"236.2969\" y2=\"236.2969\"/><text fill=\"#000000\" font-family=\"sans-serif\" font-size=\"14\" font-weight=\"bold\" lengthAdjust=\"spacingAndGlyphs\" textLength=\"108\" x=\"289\" y=\"228.9951\">Service Layer</text></a><a href=\"psysml:acb31344-a810-41ff-bc38-efd03bbf6ecb\" target=\"_top\" title=\"psysml:acb31344-a810-41ff-bc38-efd03bbf6ecb\" xlink:actuate=\"onRequest\" xlink:href=\"psysml:acb31344-a810-41ff-bc38-efd03bbf6ecb\" xlink:show=\"new\" xlink:title=\"psysml:acb31344-a810-41ff-bc38-efd03bbf6ecb\" xlink:type=\"simple\"><polygon fill=\"#FFFFFF\" filter=\"url(#f1pft7xukp01ba)\" points=\"297,344,387,344,394,366.2969,401,366.2969,401,396.5938,297,396.5938,297,344\" style=\"stroke: #000000; stroke-width: 1.5;\"/><line style=\"stroke: #000000; stroke-width: 1.5;\" x1=\"297\" x2=\"394\" y1=\"366.2969\" y2=\"366.2969\"/><text fill=\"#000000\" font-family=\"sans-serif\" font-size=\"14\" font-weight=\"bold\" lengthAdjust=\"spacingAndGlyphs\" textLength=\"84\" x=\"301\" y=\"358.9951\">Data Layer</text></a><!--MD5=[af87c684e3b0d8be13c1a698a818ef1e]\n",
       "link E3 to E4--><a href=\"psysml:952f286e-4b84-47c6-949f-c687a4b4f029\" target=\"_top\" title=\"psysml:952f286e-4b84-47c6-949f-c687a4b4f029\" xlink:actuate=\"onRequest\" xlink:href=\"psysml:952f286e-4b84-47c6-949f-c687a4b4f029\" xlink:show=\"new\" xlink:title=\"psysml:952f286e-4b84-47c6-949f-c687a4b4f029\" xlink:type=\"simple\"><path d=\"M349,137.1 C349,156.8 349,184.22 349,205.73 \" fill=\"none\" id=\"E3-&gt;E4\" style=\"stroke: #A80036; stroke-width: 1.0; stroke-dasharray: 7.0,7.0;\"/><polygon fill=\"#A80036\" points=\"349,213.95,352,205.95,346,205.95,349,213.95\" style=\"stroke: #A80036; stroke-width: 1.0;\"/><text fill=\"#000000\" font-family=\"sans-serif\" font-size=\"13\" lengthAdjust=\"spacingAndGlyphs\" textLength=\"64\" x=\"350\" y=\"180.0669\">«depend»</text></a><!--MD5=[1b7591eae5389033d8d09a9d6721a717]\n",
       "link E4 to E5--><a href=\"psysml:7352021b-a74c-4755-9a9f-544f5d5618ed\" target=\"_top\" title=\"psysml:7352021b-a74c-4755-9a9f-544f5d5618ed\" xlink:actuate=\"onRequest\" xlink:href=\"psysml:7352021b-a74c-4755-9a9f-544f5d5618ed\" xlink:show=\"new\" xlink:title=\"psysml:7352021b-a74c-4755-9a9f-544f5d5618ed\" xlink:type=\"simple\"><path d=\"M349,267.1 C349,286.8 349,314.22 349,335.73 \" fill=\"none\" id=\"E4-&gt;E5\" style=\"stroke: #A80036; stroke-width: 1.0; stroke-dasharray: 7.0,7.0;\"/><polygon fill=\"#A80036\" points=\"349,343.95,352,335.95,346,335.95,349,343.95\" style=\"stroke: #A80036; stroke-width: 1.0;\"/><text fill=\"#000000\" font-family=\"sans-serif\" font-size=\"13\" lengthAdjust=\"spacingAndGlyphs\" textLength=\"64\" x=\"350\" y=\"310.0669\">«depend»</text></a><!--MD5=[c5e8897d989ce984f93528998a7150fe]\n",
       "link E8 to E6--><a href=\"psysml:c2ca5ac6-1591-4e08-969e-b115a3bed697\" target=\"_top\" title=\"psysml:c2ca5ac6-1591-4e08-969e-b115a3bed697\" xlink:actuate=\"onRequest\" xlink:href=\"psysml:c2ca5ac6-1591-4e08-969e-b115a3bed697\" xlink:show=\"new\" xlink:title=\"psysml:c2ca5ac6-1591-4e08-969e-b115a3bed697\" xlink:type=\"simple\"><path d=\"M89.42,133.6 C79.35,142.68 69.37,154.11 64,167 C58.5,180.2 58.66,195.94 60.54,209.38 \" fill=\"none\" id=\"E8-&gt;E6\" style=\"stroke: #A80036; stroke-width: 1.0; stroke-dasharray: 7.0,7.0;\"/><polygon fill=\"#A80036\" points=\"61.9,217.4,63.517,209.0104,57.6018,210.0159,61.9,217.4\" style=\"stroke: #A80036; stroke-width: 1.0;\"/><text fill=\"#000000\" font-family=\"sans-serif\" font-size=\"13\" lengthAdjust=\"spacingAndGlyphs\" textLength=\"64\" x=\"65\" y=\"180.0669\">«depend»</text></a><!--MD5=[bfa3c8b0d15052fdf50ae9310b491027]\n",
       "link E8 to E7--><a href=\"psysml:c2ca5ac6-1591-4e08-969e-b115a3bed697\" target=\"_top\" title=\"psysml:c2ca5ac6-1591-4e08-969e-b115a3bed697\" xlink:actuate=\"onRequest\" xlink:href=\"psysml:c2ca5ac6-1591-4e08-969e-b115a3bed697\" xlink:show=\"new\" xlink:title=\"psysml:c2ca5ac6-1591-4e08-969e-b115a3bed697\" xlink:type=\"simple\"><path d=\"M129.28,133.5 C138.17,154.57 151.64,186.5 161.47,209.81 \" fill=\"none\" id=\"E8-&gt;E7\" style=\"stroke: #A80036; stroke-width: 1.0; stroke-dasharray: 7.0,7.0;\"/><polygon fill=\"#A80036\" points=\"164.66,217.35,164.3241,208.8126,158.7933,211.1385,164.66,217.35\" style=\"stroke: #A80036; stroke-width: 1.0;\"/><text fill=\"#000000\" font-family=\"sans-serif\" font-size=\"13\" lengthAdjust=\"spacingAndGlyphs\" textLength=\"64\" x=\"151\" y=\"180.0669\">«depend»</text></a><!--MD5=[1e80973270833e3579ef0b61c8438bb5]\n",
       "@startuml\r\n",
       "skinparam wrapWidth 300\r\n",
       "hide circle\r\n",
       "\r\n",
       "package \"DependencyTest\" as E1  [[psysml:cb8a6054-43e9-4191-a3b4-d53f2df2fcdf ]]  {\r\n",
       "package \"System\" as E2  [[psysml:b8ece1dd-151a-4631-92e5-c2dbf563fb8b ]]  {\r\n",
       "package \"Application Layer\" as E3  [[psysml:59f5b99d-24d3-4acd-853e-8f7f0b563d54 ]]  {\r\n",
       "}\r\n",
       "package \"Service Layer\" as E4  [[psysml:5cfbc3a5-c556-4af2-acf6-f60fe409e97c ]]  {\r\n",
       "}\r\n",
       "package \"Data Layer\" as E5  [[psysml:acb31344-a810-41ff-bc38-efd03bbf6ecb ]]  {\r\n",
       "}\r\n",
       "}\r\n",
       "comp usage \"x\" as E6  <<(T,blue)attribute>> [[psysml:3db867e9-a237-498d-9697-66a5ca6752eb ]] {\r\n",
       "}\r\n",
       "comp usage \"y\" as E7  <<(T,blue)attribute>> [[psysml:c548d046-cadc-4301-a44e-d185972c752b ]] {\r\n",
       "}\r\n",
       "comp usage \"z\" as E8  <<(T,blue)attribute>> [[psysml:47dc4f88-d05c-4598-a7e7-ecfe5751dc87 ]] {\r\n",
       "}\r\n",
       "E3 ..>> E4 [[psysml:952f286e-4b84-47c6-949f-c687a4b4f029 ]] : <<depend>>\r\n",
       "E4 ..>> E5 [[psysml:7352021b-a74c-4755-9a9f-544f5d5618ed ]] : <<depend>>\r\n",
       "E8 ..>> E6 [[psysml:c2ca5ac6-1591-4e08-969e-b115a3bed697 ]] : <<depend>>\r\n",
       "E8 ..>> E7 [[psysml:c2ca5ac6-1591-4e08-969e-b115a3bed697 ]] : <<depend>>\r\n",
       "}\r\n",
       "@enduml\r\n",
       "\n",
       "PlantUML version 1.2020.13(Sat Jun 13 12:26:38 UTC 2020)\n",
       "(EPL source distribution)\n",
       "Java Runtime: OpenJDK Runtime Environment\n",
       "JVM: OpenJDK 64-Bit Server VM\n",
       "Default Encoding: UTF-8\n",
       "Language: en\n",
       "Country: null\n",
       "--></g></svg>"
      ]
     },
     "execution_count": 28,
     "metadata": {},
     "output_type": "execute_result"
    }
   ],
   "source": [
    "%viz --style=\"STDCOLOR\" --view=\"Sequence\" \"DependencyTest\""
   ]
  },
  {
   "cell_type": "code",
   "execution_count": 29,
   "id": "621abe77",
   "metadata": {
    "execution": {
     "iopub.execute_input": "2021-04-20T07:03:25.091014Z",
     "iopub.status.busy": "2021-04-20T07:03:25.090438Z",
     "iopub.status.idle": "2021-04-20T07:03:25.123143Z",
     "shell.execute_reply": "2021-04-20T07:03:25.123422Z"
    }
   },
   "outputs": [
    {
     "data": {
      "image/svg+xml": [
       "<?xml version=\"1.0\" encoding=\"UTF-8\" standalone=\"no\"?><svg xmlns=\"http://www.w3.org/2000/svg\" xmlns:xlink=\"http://www.w3.org/1999/xlink\" contentScriptType=\"application/ecmascript\" contentStyleType=\"text/css\" height=\"449px\" preserveAspectRatio=\"none\" style=\"width:489px;height:449px;\" version=\"1.1\" viewBox=\"0 0 489 449\" width=\"489px\" zoomAndPan=\"magnify\"><defs><filter height=\"300%\" id=\"f1pft7xukp01ba\" width=\"300%\" x=\"-1\" y=\"-1\"><feGaussianBlur result=\"blurOut\" stdDeviation=\"2.0\"/><feColorMatrix in=\"blurOut\" result=\"blurOut2\" type=\"matrix\" values=\"0 0 0 0 0 0 0 0 0 0 0 0 0 0 0 0 0 0 .4 0\"/><feOffset dx=\"4.0\" dy=\"4.0\" in=\"blurOut2\" result=\"blurOut3\"/><feBlend in=\"SourceGraphic\" in2=\"blurOut3\" mode=\"normal\"/></filter></defs><g><!--MD5=[fbc87193dbaf4d95561dea2c320d4a47]\n",
       "cluster E1--><a href=\"psysml:cb8a6054-43e9-4191-a3b4-d53f2df2fcdf\" target=\"_top\" title=\"psysml:cb8a6054-43e9-4191-a3b4-d53f2df2fcdf\" xlink:actuate=\"onRequest\" xlink:href=\"psysml:cb8a6054-43e9-4191-a3b4-d53f2df2fcdf\" xlink:show=\"new\" xlink:title=\"psysml:cb8a6054-43e9-4191-a3b4-d53f2df2fcdf\" xlink:type=\"simple\"><polygon fill=\"#FFFFFF\" filter=\"url(#f1pft7xukp01ba)\" points=\"16,6,156,6,163,28.2969,467,28.2969,467,437,16,437,16,6\" style=\"stroke: #000000; stroke-width: 1.5;\"/><line style=\"stroke: #000000; stroke-width: 1.5;\" x1=\"16\" x2=\"163\" y1=\"28.2969\" y2=\"28.2969\"/><text fill=\"#000000\" font-family=\"sans-serif\" font-size=\"14\" font-weight=\"bold\" lengthAdjust=\"spacingAndGlyphs\" textLength=\"134\" x=\"20\" y=\"20.9951\">DependencyTest</text></a><!--MD5=[e4f7fae6ed58524ba242bb0b0d3be6b7]\n",
       "cluster E2--><a href=\"psysml:b8ece1dd-151a-4631-92e5-c2dbf563fb8b\" target=\"_top\" title=\"psysml:b8ece1dd-151a-4631-92e5-c2dbf563fb8b\" xlink:actuate=\"onRequest\" xlink:href=\"psysml:b8ece1dd-151a-4631-92e5-c2dbf563fb8b\" xlink:show=\"new\" xlink:title=\"psysml:b8ece1dd-151a-4631-92e5-c2dbf563fb8b\" xlink:type=\"simple\"><polygon fill=\"#FFFFFF\" filter=\"url(#f1pft7xukp01ba)\" points=\"255,49,319,49,326,71.2969,443,71.2969,443,413,255,413,255,49\" style=\"stroke: #000000; stroke-width: 1.5;\"/><line style=\"stroke: #000000; stroke-width: 1.5;\" x1=\"255\" x2=\"326\" y1=\"71.2969\" y2=\"71.2969\"/><text fill=\"#000000\" font-family=\"sans-serif\" font-size=\"14\" font-weight=\"bold\" lengthAdjust=\"spacingAndGlyphs\" textLength=\"58\" x=\"259\" y=\"63.9951\">System</text></a><!--MD5=[60a26617385b1d2d0262a64233df1f8d]\n",
       "class E6--><a href=\"psysml:3db867e9-a237-498d-9697-66a5ca6752eb\" target=\"_top\" title=\"psysml:3db867e9-a237-498d-9697-66a5ca6752eb\" xlink:actuate=\"onRequest\" xlink:href=\"psysml:3db867e9-a237-498d-9697-66a5ca6752eb\" xlink:show=\"new\" xlink:title=\"psysml:3db867e9-a237-498d-9697-66a5ca6752eb\" xlink:type=\"simple\"><rect fill=\"#FEFECE\" filter=\"url(#f1pft7xukp01ba)\" height=\"45.9375\" id=\"E6\" rx=\"10\" ry=\"10\" style=\"stroke: #A80036; stroke-width: 1.5;\" width=\"71\" x=\"32.5\" y=\"217.5\"/><text fill=\"#000000\" font-family=\"sans-serif\" font-size=\"12\" font-style=\"italic\" lengthAdjust=\"spacingAndGlyphs\" textLength=\"69\" x=\"33.5\" y=\"233.6387\">«attribute»</text><text fill=\"#000000\" font-family=\"sans-serif\" font-size=\"12\" lengthAdjust=\"spacingAndGlyphs\" textLength=\"6\" x=\"65\" y=\"247.6074\">x</text><line style=\"stroke: #A80036; stroke-width: 1.5;\" x1=\"33.5\" x2=\"102.5\" y1=\"255.4375\" y2=\"255.4375\"/></a><!--MD5=[2156ba9850f5573cc1fc38a6a4b2f02b]\n",
       "class E7--><a href=\"psysml:c548d046-cadc-4301-a44e-d185972c752b\" target=\"_top\" title=\"psysml:c548d046-cadc-4301-a44e-d185972c752b\" xlink:actuate=\"onRequest\" xlink:href=\"psysml:c548d046-cadc-4301-a44e-d185972c752b\" xlink:show=\"new\" xlink:title=\"psysml:c548d046-cadc-4301-a44e-d185972c752b\" xlink:type=\"simple\"><rect fill=\"#FEFECE\" filter=\"url(#f1pft7xukp01ba)\" height=\"45.9375\" id=\"E7\" rx=\"10\" ry=\"10\" style=\"stroke: #A80036; stroke-width: 1.5;\" width=\"71\" x=\"138.5\" y=\"217.5\"/><text fill=\"#000000\" font-family=\"sans-serif\" font-size=\"12\" font-style=\"italic\" lengthAdjust=\"spacingAndGlyphs\" textLength=\"69\" x=\"139.5\" y=\"233.6387\">«attribute»</text><text fill=\"#000000\" font-family=\"sans-serif\" font-size=\"12\" lengthAdjust=\"spacingAndGlyphs\" textLength=\"6\" x=\"171\" y=\"247.6074\">y</text><line style=\"stroke: #A80036; stroke-width: 1.5;\" x1=\"139.5\" x2=\"208.5\" y1=\"255.4375\" y2=\"255.4375\"/></a><!--MD5=[b9389687b975829384b498ac4b7476b2]\n",
       "class E8--><a href=\"psysml:47dc4f88-d05c-4598-a7e7-ecfe5751dc87\" target=\"_top\" title=\"psysml:47dc4f88-d05c-4598-a7e7-ecfe5751dc87\" xlink:actuate=\"onRequest\" xlink:href=\"psysml:47dc4f88-d05c-4598-a7e7-ecfe5751dc87\" xlink:show=\"new\" xlink:title=\"psysml:47dc4f88-d05c-4598-a7e7-ecfe5751dc87\" xlink:type=\"simple\"><rect fill=\"#FEFECE\" filter=\"url(#f1pft7xukp01ba)\" height=\"45.9375\" id=\"E8\" rx=\"10\" ry=\"10\" style=\"stroke: #A80036; stroke-width: 1.5;\" width=\"71\" x=\"84.5\" y=\"87.5\"/><text fill=\"#000000\" font-family=\"sans-serif\" font-size=\"12\" font-style=\"italic\" lengthAdjust=\"spacingAndGlyphs\" textLength=\"69\" x=\"85.5\" y=\"103.6387\">«attribute»</text><text fill=\"#000000\" font-family=\"sans-serif\" font-size=\"12\" lengthAdjust=\"spacingAndGlyphs\" textLength=\"5\" x=\"117.5\" y=\"117.6074\">z</text><line style=\"stroke: #A80036; stroke-width: 1.5;\" x1=\"85.5\" x2=\"154.5\" y1=\"125.4375\" y2=\"125.4375\"/></a><a href=\"psysml:59f5b99d-24d3-4acd-853e-8f7f0b563d54\" target=\"_top\" title=\"psysml:59f5b99d-24d3-4acd-853e-8f7f0b563d54\" xlink:actuate=\"onRequest\" xlink:href=\"psysml:59f5b99d-24d3-4acd-853e-8f7f0b563d54\" xlink:show=\"new\" xlink:title=\"psysml:59f5b99d-24d3-4acd-853e-8f7f0b563d54\" xlink:type=\"simple\"><polygon fill=\"#FFFFFF\" filter=\"url(#f1pft7xukp01ba)\" points=\"271,84,413,84,420,106.2969,427,106.2969,427,136.5938,271,136.5938,271,84\" style=\"stroke: #000000; stroke-width: 1.5;\"/><line style=\"stroke: #000000; stroke-width: 1.5;\" x1=\"271\" x2=\"420\" y1=\"106.2969\" y2=\"106.2969\"/><text fill=\"#000000\" font-family=\"sans-serif\" font-size=\"14\" font-weight=\"bold\" lengthAdjust=\"spacingAndGlyphs\" textLength=\"136\" x=\"275\" y=\"98.9951\">Application Layer</text></a><a href=\"psysml:5cfbc3a5-c556-4af2-acf6-f60fe409e97c\" target=\"_top\" title=\"psysml:5cfbc3a5-c556-4af2-acf6-f60fe409e97c\" xlink:actuate=\"onRequest\" xlink:href=\"psysml:5cfbc3a5-c556-4af2-acf6-f60fe409e97c\" xlink:show=\"new\" xlink:title=\"psysml:5cfbc3a5-c556-4af2-acf6-f60fe409e97c\" xlink:type=\"simple\"><polygon fill=\"#FFFFFF\" filter=\"url(#f1pft7xukp01ba)\" points=\"285,214,399,214,406,236.2969,413,236.2969,413,266.5938,285,266.5938,285,214\" style=\"stroke: #000000; stroke-width: 1.5;\"/><line style=\"stroke: #000000; stroke-width: 1.5;\" x1=\"285\" x2=\"406\" y1=\"236.2969\" y2=\"236.2969\"/><text fill=\"#000000\" font-family=\"sans-serif\" font-size=\"14\" font-weight=\"bold\" lengthAdjust=\"spacingAndGlyphs\" textLength=\"108\" x=\"289\" y=\"228.9951\">Service Layer</text></a><a href=\"psysml:acb31344-a810-41ff-bc38-efd03bbf6ecb\" target=\"_top\" title=\"psysml:acb31344-a810-41ff-bc38-efd03bbf6ecb\" xlink:actuate=\"onRequest\" xlink:href=\"psysml:acb31344-a810-41ff-bc38-efd03bbf6ecb\" xlink:show=\"new\" xlink:title=\"psysml:acb31344-a810-41ff-bc38-efd03bbf6ecb\" xlink:type=\"simple\"><polygon fill=\"#FFFFFF\" filter=\"url(#f1pft7xukp01ba)\" points=\"297,344,387,344,394,366.2969,401,366.2969,401,396.5938,297,396.5938,297,344\" style=\"stroke: #000000; stroke-width: 1.5;\"/><line style=\"stroke: #000000; stroke-width: 1.5;\" x1=\"297\" x2=\"394\" y1=\"366.2969\" y2=\"366.2969\"/><text fill=\"#000000\" font-family=\"sans-serif\" font-size=\"14\" font-weight=\"bold\" lengthAdjust=\"spacingAndGlyphs\" textLength=\"84\" x=\"301\" y=\"358.9951\">Data Layer</text></a><!--MD5=[af87c684e3b0d8be13c1a698a818ef1e]\n",
       "link E3 to E4--><a href=\"psysml:952f286e-4b84-47c6-949f-c687a4b4f029\" target=\"_top\" title=\"psysml:952f286e-4b84-47c6-949f-c687a4b4f029\" xlink:actuate=\"onRequest\" xlink:href=\"psysml:952f286e-4b84-47c6-949f-c687a4b4f029\" xlink:show=\"new\" xlink:title=\"psysml:952f286e-4b84-47c6-949f-c687a4b4f029\" xlink:type=\"simple\"><path d=\"M349,137.1 C349,156.8 349,184.22 349,205.73 \" fill=\"none\" id=\"E3-&gt;E4\" style=\"stroke: #A80036; stroke-width: 1.0; stroke-dasharray: 7.0,7.0;\"/><polygon fill=\"#A80036\" points=\"349,213.95,352,205.95,346,205.95,349,213.95\" style=\"stroke: #A80036; stroke-width: 1.0;\"/><text fill=\"#000000\" font-family=\"sans-serif\" font-size=\"13\" lengthAdjust=\"spacingAndGlyphs\" textLength=\"64\" x=\"350\" y=\"180.0669\">«depend»</text></a><!--MD5=[1b7591eae5389033d8d09a9d6721a717]\n",
       "link E4 to E5--><a href=\"psysml:7352021b-a74c-4755-9a9f-544f5d5618ed\" target=\"_top\" title=\"psysml:7352021b-a74c-4755-9a9f-544f5d5618ed\" xlink:actuate=\"onRequest\" xlink:href=\"psysml:7352021b-a74c-4755-9a9f-544f5d5618ed\" xlink:show=\"new\" xlink:title=\"psysml:7352021b-a74c-4755-9a9f-544f5d5618ed\" xlink:type=\"simple\"><path d=\"M349,267.1 C349,286.8 349,314.22 349,335.73 \" fill=\"none\" id=\"E4-&gt;E5\" style=\"stroke: #A80036; stroke-width: 1.0; stroke-dasharray: 7.0,7.0;\"/><polygon fill=\"#A80036\" points=\"349,343.95,352,335.95,346,335.95,349,343.95\" style=\"stroke: #A80036; stroke-width: 1.0;\"/><text fill=\"#000000\" font-family=\"sans-serif\" font-size=\"13\" lengthAdjust=\"spacingAndGlyphs\" textLength=\"64\" x=\"350\" y=\"310.0669\">«depend»</text></a><!--MD5=[c5e8897d989ce984f93528998a7150fe]\n",
       "link E8 to E6--><a href=\"psysml:c2ca5ac6-1591-4e08-969e-b115a3bed697\" target=\"_top\" title=\"psysml:c2ca5ac6-1591-4e08-969e-b115a3bed697\" xlink:actuate=\"onRequest\" xlink:href=\"psysml:c2ca5ac6-1591-4e08-969e-b115a3bed697\" xlink:show=\"new\" xlink:title=\"psysml:c2ca5ac6-1591-4e08-969e-b115a3bed697\" xlink:type=\"simple\"><path d=\"M89.42,133.6 C79.35,142.68 69.37,154.11 64,167 C58.5,180.2 58.66,195.94 60.54,209.38 \" fill=\"none\" id=\"E8-&gt;E6\" style=\"stroke: #A80036; stroke-width: 1.0; stroke-dasharray: 7.0,7.0;\"/><polygon fill=\"#A80036\" points=\"61.9,217.4,63.517,209.0104,57.6018,210.0159,61.9,217.4\" style=\"stroke: #A80036; stroke-width: 1.0;\"/><text fill=\"#000000\" font-family=\"sans-serif\" font-size=\"13\" lengthAdjust=\"spacingAndGlyphs\" textLength=\"64\" x=\"65\" y=\"180.0669\">«depend»</text></a><!--MD5=[bfa3c8b0d15052fdf50ae9310b491027]\n",
       "link E8 to E7--><a href=\"psysml:c2ca5ac6-1591-4e08-969e-b115a3bed697\" target=\"_top\" title=\"psysml:c2ca5ac6-1591-4e08-969e-b115a3bed697\" xlink:actuate=\"onRequest\" xlink:href=\"psysml:c2ca5ac6-1591-4e08-969e-b115a3bed697\" xlink:show=\"new\" xlink:title=\"psysml:c2ca5ac6-1591-4e08-969e-b115a3bed697\" xlink:type=\"simple\"><path d=\"M129.28,133.5 C138.17,154.57 151.64,186.5 161.47,209.81 \" fill=\"none\" id=\"E8-&gt;E7\" style=\"stroke: #A80036; stroke-width: 1.0; stroke-dasharray: 7.0,7.0;\"/><polygon fill=\"#A80036\" points=\"164.66,217.35,164.3241,208.8126,158.7933,211.1385,164.66,217.35\" style=\"stroke: #A80036; stroke-width: 1.0;\"/><text fill=\"#000000\" font-family=\"sans-serif\" font-size=\"13\" lengthAdjust=\"spacingAndGlyphs\" textLength=\"64\" x=\"151\" y=\"180.0669\">«depend»</text></a><!--MD5=[1e80973270833e3579ef0b61c8438bb5]\n",
       "@startuml\r\n",
       "skinparam wrapWidth 300\r\n",
       "hide circle\r\n",
       "\r\n",
       "package \"DependencyTest\" as E1  [[psysml:cb8a6054-43e9-4191-a3b4-d53f2df2fcdf ]]  {\r\n",
       "package \"System\" as E2  [[psysml:b8ece1dd-151a-4631-92e5-c2dbf563fb8b ]]  {\r\n",
       "package \"Application Layer\" as E3  [[psysml:59f5b99d-24d3-4acd-853e-8f7f0b563d54 ]]  {\r\n",
       "}\r\n",
       "package \"Service Layer\" as E4  [[psysml:5cfbc3a5-c556-4af2-acf6-f60fe409e97c ]]  {\r\n",
       "}\r\n",
       "package \"Data Layer\" as E5  [[psysml:acb31344-a810-41ff-bc38-efd03bbf6ecb ]]  {\r\n",
       "}\r\n",
       "}\r\n",
       "comp usage \"x\" as E6  <<(T,blue)attribute>> [[psysml:3db867e9-a237-498d-9697-66a5ca6752eb ]] {\r\n",
       "}\r\n",
       "comp usage \"y\" as E7  <<(T,blue)attribute>> [[psysml:c548d046-cadc-4301-a44e-d185972c752b ]] {\r\n",
       "}\r\n",
       "comp usage \"z\" as E8  <<(T,blue)attribute>> [[psysml:47dc4f88-d05c-4598-a7e7-ecfe5751dc87 ]] {\r\n",
       "}\r\n",
       "E3 ..>> E4 [[psysml:952f286e-4b84-47c6-949f-c687a4b4f029 ]] : <<depend>>\r\n",
       "E4 ..>> E5 [[psysml:7352021b-a74c-4755-9a9f-544f5d5618ed ]] : <<depend>>\r\n",
       "E8 ..>> E6 [[psysml:c2ca5ac6-1591-4e08-969e-b115a3bed697 ]] : <<depend>>\r\n",
       "E8 ..>> E7 [[psysml:c2ca5ac6-1591-4e08-969e-b115a3bed697 ]] : <<depend>>\r\n",
       "}\r\n",
       "@enduml\r\n",
       "\n",
       "PlantUML version 1.2020.13(Sat Jun 13 12:26:38 UTC 2020)\n",
       "(EPL source distribution)\n",
       "Java Runtime: OpenJDK Runtime Environment\n",
       "JVM: OpenJDK 64-Bit Server VM\n",
       "Default Encoding: UTF-8\n",
       "Language: en\n",
       "Country: null\n",
       "--></g></svg>"
      ]
     },
     "execution_count": 29,
     "metadata": {},
     "output_type": "execute_result"
    }
   ],
   "source": [
    "%viz --style=\"STDCOLOR\" --view=\"MIXED\" \"DependencyTest\""
   ]
  },
  {
   "cell_type": "code",
   "execution_count": 30,
   "id": "302a5fec",
   "metadata": {
    "execution": {
     "iopub.execute_input": "2021-04-20T07:03:25.195334Z",
     "iopub.status.busy": "2021-04-20T07:03:25.194811Z",
     "iopub.status.idle": "2021-04-20T07:03:25.245419Z",
     "shell.execute_reply": "2021-04-20T07:03:25.245086Z"
    }
   },
   "outputs": [
    {
     "data": {
      "image/svg+xml": [
       "<?xml version=\"1.0\" encoding=\"UTF-8\" standalone=\"no\"?><svg xmlns=\"http://www.w3.org/2000/svg\" xmlns:xlink=\"http://www.w3.org/1999/xlink\" contentScriptType=\"application/ecmascript\" contentStyleType=\"text/css\" height=\"449px\" preserveAspectRatio=\"none\" style=\"width:510px;height:449px;\" version=\"1.1\" viewBox=\"0 0 510 449\" width=\"510px\" zoomAndPan=\"magnify\"><defs><filter height=\"300%\" id=\"f1mzlpcy3xe3ee\" width=\"300%\" x=\"-1\" y=\"-1\"><feGaussianBlur result=\"blurOut\" stdDeviation=\"2.0\"/><feColorMatrix in=\"blurOut\" result=\"blurOut2\" type=\"matrix\" values=\"0 0 0 0 0 0 0 0 0 0 0 0 0 0 0 0 0 0 .4 0\"/><feOffset dx=\"4.0\" dy=\"4.0\" in=\"blurOut2\" result=\"blurOut3\"/><feBlend in=\"SourceGraphic\" in2=\"blurOut3\" mode=\"normal\"/></filter></defs><g><!--MD5=[fbc87193dbaf4d95561dea2c320d4a47]\n",
       "cluster E1--><a href=\"psysml:cb8a6054-43e9-4191-a3b4-d53f2df2fcdf\" target=\"_top\" title=\"psysml:cb8a6054-43e9-4191-a3b4-d53f2df2fcdf\" xlink:actuate=\"onRequest\" xlink:href=\"psysml:cb8a6054-43e9-4191-a3b4-d53f2df2fcdf\" xlink:show=\"new\" xlink:title=\"psysml:cb8a6054-43e9-4191-a3b4-d53f2df2fcdf\" xlink:type=\"simple\"><polygon fill=\"#FFFFFF\" filter=\"url(#f1mzlpcy3xe3ee)\" points=\"16,6,156,6,163,28.2969,488,28.2969,488,437,16,437,16,6\" style=\"stroke: #000000; stroke-width: 1.5;\"/><line style=\"stroke: #000000; stroke-width: 1.5;\" x1=\"16\" x2=\"163\" y1=\"28.2969\" y2=\"28.2969\"/><text fill=\"#000000\" font-family=\"sans-serif\" font-size=\"14\" font-weight=\"bold\" lengthAdjust=\"spacingAndGlyphs\" textLength=\"134\" x=\"20\" y=\"20.9951\">DependencyTest</text></a><!--MD5=[e4f7fae6ed58524ba242bb0b0d3be6b7]\n",
       "cluster E2--><a href=\"psysml:b8ece1dd-151a-4631-92e5-c2dbf563fb8b\" target=\"_top\" title=\"psysml:b8ece1dd-151a-4631-92e5-c2dbf563fb8b\" xlink:actuate=\"onRequest\" xlink:href=\"psysml:b8ece1dd-151a-4631-92e5-c2dbf563fb8b\" xlink:show=\"new\" xlink:title=\"psysml:b8ece1dd-151a-4631-92e5-c2dbf563fb8b\" xlink:type=\"simple\"><polygon fill=\"#FFFFFF\" filter=\"url(#f1mzlpcy3xe3ee)\" points=\"276,49,340,49,347,71.2969,464,71.2969,464,413,276,413,276,49\" style=\"stroke: #000000; stroke-width: 1.5;\"/><line style=\"stroke: #000000; stroke-width: 1.5;\" x1=\"276\" x2=\"347\" y1=\"71.2969\" y2=\"71.2969\"/><text fill=\"#000000\" font-family=\"sans-serif\" font-size=\"14\" font-weight=\"bold\" lengthAdjust=\"spacingAndGlyphs\" textLength=\"58\" x=\"280\" y=\"63.9951\">System</text></a><!--MD5=[60a26617385b1d2d0262a64233df1f8d]\n",
       "class E6--><a href=\"psysml:3db867e9-a237-498d-9697-66a5ca6752eb\" target=\"_top\" title=\"psysml:3db867e9-a237-498d-9697-66a5ca6752eb\" xlink:actuate=\"onRequest\" xlink:href=\"psysml:3db867e9-a237-498d-9697-66a5ca6752eb\" xlink:show=\"new\" xlink:title=\"psysml:3db867e9-a237-498d-9697-66a5ca6752eb\" xlink:type=\"simple\"><rect fill=\"#FEFECE\" filter=\"url(#f1mzlpcy3xe3ee)\" height=\"45.9375\" id=\"E6\" rx=\"10\" ry=\"10\" style=\"stroke: #A80036; stroke-width: 1.5;\" width=\"97\" x=\"31.5\" y=\"217.5\"/><ellipse cx=\"46.5\" cy=\"236.4688\" fill=\"#FFA500\" rx=\"11\" ry=\"11\" style=\"stroke: #A80036; stroke-width: 1.0;\"/><path d=\"M42.375,238.3906 L42.375,230.5781 L44.8281,230.5781 L44.8281,239.0156 Q44.8281,239.9375 45.2969,240.4688 Q45.7813,241 46.6094,241 Q47.4531,241 47.9219,240.4688 Q48.3906,239.9375 48.3906,239.0156 L48.3906,230.5781 L50.8438,230.5781 L50.8438,238.3906 Q50.8438,240.9219 49.8438,242.0625 Q48.8438,243.2031 46.6094,243.2031 Q44.3906,243.2031 43.375,242.0625 Q42.375,240.9219 42.375,238.3906 Z \"/><text fill=\"#000000\" font-family=\"sans-serif\" font-size=\"12\" font-style=\"italic\" lengthAdjust=\"spacingAndGlyphs\" textLength=\"69\" x=\"58.5\" y=\"233.6387\">«attribute»</text><text fill=\"#000000\" font-family=\"sans-serif\" font-size=\"12\" lengthAdjust=\"spacingAndGlyphs\" textLength=\"6\" x=\"90\" y=\"247.6074\">x</text><line style=\"stroke: #A80036; stroke-width: 1.5;\" x1=\"32.5\" x2=\"127.5\" y1=\"255.4375\" y2=\"255.4375\"/></a><!--MD5=[2156ba9850f5573cc1fc38a6a4b2f02b]\n",
       "class E7--><a href=\"psysml:c548d046-cadc-4301-a44e-d185972c752b\" target=\"_top\" title=\"psysml:c548d046-cadc-4301-a44e-d185972c752b\" xlink:actuate=\"onRequest\" xlink:href=\"psysml:c548d046-cadc-4301-a44e-d185972c752b\" xlink:show=\"new\" xlink:title=\"psysml:c548d046-cadc-4301-a44e-d185972c752b\" xlink:type=\"simple\"><rect fill=\"#FEFECE\" filter=\"url(#f1mzlpcy3xe3ee)\" height=\"45.9375\" id=\"E7\" rx=\"10\" ry=\"10\" style=\"stroke: #A80036; stroke-width: 1.5;\" width=\"97\" x=\"163.5\" y=\"217.5\"/><ellipse cx=\"178.5\" cy=\"236.4688\" fill=\"#FFA500\" rx=\"11\" ry=\"11\" style=\"stroke: #A80036; stroke-width: 1.0;\"/><path d=\"M174.375,238.3906 L174.375,230.5781 L176.8281,230.5781 L176.8281,239.0156 Q176.8281,239.9375 177.2969,240.4688 Q177.7813,241 178.6094,241 Q179.4531,241 179.9219,240.4688 Q180.3906,239.9375 180.3906,239.0156 L180.3906,230.5781 L182.8438,230.5781 L182.8438,238.3906 Q182.8438,240.9219 181.8438,242.0625 Q180.8438,243.2031 178.6094,243.2031 Q176.3906,243.2031 175.375,242.0625 Q174.375,240.9219 174.375,238.3906 Z \"/><text fill=\"#000000\" font-family=\"sans-serif\" font-size=\"12\" font-style=\"italic\" lengthAdjust=\"spacingAndGlyphs\" textLength=\"69\" x=\"190.5\" y=\"233.6387\">«attribute»</text><text fill=\"#000000\" font-family=\"sans-serif\" font-size=\"12\" lengthAdjust=\"spacingAndGlyphs\" textLength=\"6\" x=\"222\" y=\"247.6074\">y</text><line style=\"stroke: #A80036; stroke-width: 1.5;\" x1=\"164.5\" x2=\"259.5\" y1=\"255.4375\" y2=\"255.4375\"/></a><!--MD5=[b9389687b975829384b498ac4b7476b2]\n",
       "class E8--><a href=\"psysml:47dc4f88-d05c-4598-a7e7-ecfe5751dc87\" target=\"_top\" title=\"psysml:47dc4f88-d05c-4598-a7e7-ecfe5751dc87\" xlink:actuate=\"onRequest\" xlink:href=\"psysml:47dc4f88-d05c-4598-a7e7-ecfe5751dc87\" xlink:show=\"new\" xlink:title=\"psysml:47dc4f88-d05c-4598-a7e7-ecfe5751dc87\" xlink:type=\"simple\"><rect fill=\"#FEFECE\" filter=\"url(#f1mzlpcy3xe3ee)\" height=\"45.9375\" id=\"E8\" rx=\"10\" ry=\"10\" style=\"stroke: #A80036; stroke-width: 1.5;\" width=\"97\" x=\"84.5\" y=\"87.5\"/><ellipse cx=\"99.5\" cy=\"106.4688\" fill=\"#FFA500\" rx=\"11\" ry=\"11\" style=\"stroke: #A80036; stroke-width: 1.0;\"/><path d=\"M95.375,108.3906 L95.375,100.5781 L97.8281,100.5781 L97.8281,109.0156 Q97.8281,109.9375 98.2969,110.4688 Q98.7813,111 99.6094,111 Q100.4531,111 100.9219,110.4688 Q101.3906,109.9375 101.3906,109.0156 L101.3906,100.5781 L103.8438,100.5781 L103.8438,108.3906 Q103.8438,110.9219 102.8438,112.0625 Q101.8438,113.2031 99.6094,113.2031 Q97.3906,113.2031 96.375,112.0625 Q95.375,110.9219 95.375,108.3906 Z \"/><text fill=\"#000000\" font-family=\"sans-serif\" font-size=\"12\" font-style=\"italic\" lengthAdjust=\"spacingAndGlyphs\" textLength=\"69\" x=\"111.5\" y=\"103.6387\">«attribute»</text><text fill=\"#000000\" font-family=\"sans-serif\" font-size=\"12\" lengthAdjust=\"spacingAndGlyphs\" textLength=\"5\" x=\"143.5\" y=\"117.6074\">z</text><line style=\"stroke: #A80036; stroke-width: 1.5;\" x1=\"85.5\" x2=\"180.5\" y1=\"125.4375\" y2=\"125.4375\"/></a><a href=\"psysml:59f5b99d-24d3-4acd-853e-8f7f0b563d54\" target=\"_top\" title=\"psysml:59f5b99d-24d3-4acd-853e-8f7f0b563d54\" xlink:actuate=\"onRequest\" xlink:href=\"psysml:59f5b99d-24d3-4acd-853e-8f7f0b563d54\" xlink:show=\"new\" xlink:title=\"psysml:59f5b99d-24d3-4acd-853e-8f7f0b563d54\" xlink:type=\"simple\"><polygon fill=\"#FFFFFF\" filter=\"url(#f1mzlpcy3xe3ee)\" points=\"292,84,434,84,441,106.2969,448,106.2969,448,136.5938,292,136.5938,292,84\" style=\"stroke: #000000; stroke-width: 1.5;\"/><line style=\"stroke: #000000; stroke-width: 1.5;\" x1=\"292\" x2=\"441\" y1=\"106.2969\" y2=\"106.2969\"/><text fill=\"#000000\" font-family=\"sans-serif\" font-size=\"14\" font-weight=\"bold\" lengthAdjust=\"spacingAndGlyphs\" textLength=\"136\" x=\"296\" y=\"98.9951\">Application Layer</text></a><a href=\"psysml:5cfbc3a5-c556-4af2-acf6-f60fe409e97c\" target=\"_top\" title=\"psysml:5cfbc3a5-c556-4af2-acf6-f60fe409e97c\" xlink:actuate=\"onRequest\" xlink:href=\"psysml:5cfbc3a5-c556-4af2-acf6-f60fe409e97c\" xlink:show=\"new\" xlink:title=\"psysml:5cfbc3a5-c556-4af2-acf6-f60fe409e97c\" xlink:type=\"simple\"><polygon fill=\"#FFFFFF\" filter=\"url(#f1mzlpcy3xe3ee)\" points=\"306,214,420,214,427,236.2969,434,236.2969,434,266.5938,306,266.5938,306,214\" style=\"stroke: #000000; stroke-width: 1.5;\"/><line style=\"stroke: #000000; stroke-width: 1.5;\" x1=\"306\" x2=\"427\" y1=\"236.2969\" y2=\"236.2969\"/><text fill=\"#000000\" font-family=\"sans-serif\" font-size=\"14\" font-weight=\"bold\" lengthAdjust=\"spacingAndGlyphs\" textLength=\"108\" x=\"310\" y=\"228.9951\">Service Layer</text></a><a href=\"psysml:acb31344-a810-41ff-bc38-efd03bbf6ecb\" target=\"_top\" title=\"psysml:acb31344-a810-41ff-bc38-efd03bbf6ecb\" xlink:actuate=\"onRequest\" xlink:href=\"psysml:acb31344-a810-41ff-bc38-efd03bbf6ecb\" xlink:show=\"new\" xlink:title=\"psysml:acb31344-a810-41ff-bc38-efd03bbf6ecb\" xlink:type=\"simple\"><polygon fill=\"#FFFFFF\" filter=\"url(#f1mzlpcy3xe3ee)\" points=\"318,344,408,344,415,366.2969,422,366.2969,422,396.5938,318,396.5938,318,344\" style=\"stroke: #000000; stroke-width: 1.5;\"/><line style=\"stroke: #000000; stroke-width: 1.5;\" x1=\"318\" x2=\"415\" y1=\"366.2969\" y2=\"366.2969\"/><text fill=\"#000000\" font-family=\"sans-serif\" font-size=\"14\" font-weight=\"bold\" lengthAdjust=\"spacingAndGlyphs\" textLength=\"84\" x=\"322\" y=\"358.9951\">Data Layer</text></a><!--MD5=[af87c684e3b0d8be13c1a698a818ef1e]\n",
       "link E3 to E4--><a href=\"psysml:952f286e-4b84-47c6-949f-c687a4b4f029\" target=\"_top\" title=\"psysml:952f286e-4b84-47c6-949f-c687a4b4f029\" xlink:actuate=\"onRequest\" xlink:href=\"psysml:952f286e-4b84-47c6-949f-c687a4b4f029\" xlink:show=\"new\" xlink:title=\"psysml:952f286e-4b84-47c6-949f-c687a4b4f029\" xlink:type=\"simple\"><path d=\"M370,137.1 C370,156.8 370,184.22 370,205.73 \" fill=\"none\" id=\"E3-&gt;E4\" style=\"stroke: #A80036; stroke-width: 1.0; stroke-dasharray: 7.0,7.0;\"/><polygon fill=\"#A80036\" points=\"370,213.95,373,205.95,367,205.95,370,213.95\" style=\"stroke: #A80036; stroke-width: 1.0;\"/><text fill=\"#000000\" font-family=\"sans-serif\" font-size=\"13\" lengthAdjust=\"spacingAndGlyphs\" textLength=\"64\" x=\"371\" y=\"180.0669\">«depend»</text></a><!--MD5=[1b7591eae5389033d8d09a9d6721a717]\n",
       "link E4 to E5--><a href=\"psysml:7352021b-a74c-4755-9a9f-544f5d5618ed\" target=\"_top\" title=\"psysml:7352021b-a74c-4755-9a9f-544f5d5618ed\" xlink:actuate=\"onRequest\" xlink:href=\"psysml:7352021b-a74c-4755-9a9f-544f5d5618ed\" xlink:show=\"new\" xlink:title=\"psysml:7352021b-a74c-4755-9a9f-544f5d5618ed\" xlink:type=\"simple\"><path d=\"M370,267.1 C370,286.8 370,314.22 370,335.73 \" fill=\"none\" id=\"E4-&gt;E5\" style=\"stroke: #A80036; stroke-width: 1.0; stroke-dasharray: 7.0,7.0;\"/><polygon fill=\"#A80036\" points=\"370,343.95,373,335.95,367,335.95,370,343.95\" style=\"stroke: #A80036; stroke-width: 1.0;\"/><text fill=\"#000000\" font-family=\"sans-serif\" font-size=\"13\" lengthAdjust=\"spacingAndGlyphs\" textLength=\"64\" x=\"371\" y=\"310.0669\">«depend»</text></a><!--MD5=[c5e8897d989ce984f93528998a7150fe]\n",
       "link E8 to E6--><a href=\"psysml:c2ca5ac6-1591-4e08-969e-b115a3bed697\" target=\"_top\" title=\"psysml:c2ca5ac6-1591-4e08-969e-b115a3bed697\" xlink:actuate=\"onRequest\" xlink:href=\"psysml:c2ca5ac6-1591-4e08-969e-b115a3bed697\" xlink:show=\"new\" xlink:title=\"psysml:c2ca5ac6-1591-4e08-969e-b115a3bed697\" xlink:type=\"simple\"><path d=\"M106.44,133.76 C97.3,143.01 88.09,154.51 83,167 C77.6,180.23 76.4,195.98 76.73,209.41 \" fill=\"none\" id=\"E8-&gt;E6\" style=\"stroke: #A80036; stroke-width: 1.0; stroke-dasharray: 7.0,7.0;\"/><polygon fill=\"#A80036\" points=\"77.12,217.43,79.7306,209.2946,73.7375,209.584,77.12,217.43\" style=\"stroke: #A80036; stroke-width: 1.0;\"/><text fill=\"#000000\" font-family=\"sans-serif\" font-size=\"13\" lengthAdjust=\"spacingAndGlyphs\" textLength=\"64\" x=\"84\" y=\"180.0669\">«depend»</text></a><!--MD5=[bfa3c8b0d15052fdf50ae9310b491027]\n",
       "link E8 to E7--><a href=\"psysml:c2ca5ac6-1591-4e08-969e-b115a3bed697\" target=\"_top\" title=\"psysml:c2ca5ac6-1591-4e08-969e-b115a3bed697\" xlink:actuate=\"onRequest\" xlink:href=\"psysml:c2ca5ac6-1591-4e08-969e-b115a3bed697\" xlink:show=\"new\" xlink:title=\"psysml:c2ca5ac6-1591-4e08-969e-b115a3bed697\" xlink:type=\"simple\"><path d=\"M146.58,133.5 C159.69,154.75 179.63,187.05 194.05,210.41 \" fill=\"none\" id=\"E8-&gt;E7\" style=\"stroke: #A80036; stroke-width: 1.0; stroke-dasharray: 7.0,7.0;\"/><polygon fill=\"#A80036\" points=\"198.33,217.35,196.6785,208.9671,191.5737,212.1201,198.33,217.35\" style=\"stroke: #A80036; stroke-width: 1.0;\"/><text fill=\"#000000\" font-family=\"sans-serif\" font-size=\"13\" lengthAdjust=\"spacingAndGlyphs\" textLength=\"64\" x=\"178\" y=\"180.0669\">«depend»</text></a><!--MD5=[6dafb18a1bf45c92d10da51c6e2b986e]\n",
       "@startuml\r\n",
       " \r\n",
       "package \"DependencyTest\" as E1  [[psysml:cb8a6054-43e9-4191-a3b4-d53f2df2fcdf ]]  {\r\n",
       "package \"System\" as E2  [[psysml:b8ece1dd-151a-4631-92e5-c2dbf563fb8b ]]  {\r\n",
       "package \"Application Layer\" as E3  [[psysml:59f5b99d-24d3-4acd-853e-8f7f0b563d54 ]]  {\r\n",
       "}\r\n",
       "package \"Service Layer\" as E4  [[psysml:5cfbc3a5-c556-4af2-acf6-f60fe409e97c ]]  {\r\n",
       "}\r\n",
       "package \"Data Layer\" as E5  [[psysml:acb31344-a810-41ff-bc38-efd03bbf6ecb ]]  {\r\n",
       "}\r\n",
       "}\r\n",
       "comp usage \"x\" as E6  <<(U,orange)attribute>> [[psysml:3db867e9-a237-498d-9697-66a5ca6752eb ]] {\r\n",
       "}\r\n",
       "comp usage \"y\" as E7  <<(U,orange)attribute>> [[psysml:c548d046-cadc-4301-a44e-d185972c752b ]] {\r\n",
       "}\r\n",
       "comp usage \"z\" as E8  <<(U,orange)attribute>> [[psysml:47dc4f88-d05c-4598-a7e7-ecfe5751dc87 ]] {\r\n",
       "}\r\n",
       "E3 ..>> E4 [[psysml:952f286e-4b84-47c6-949f-c687a4b4f029 ]] : <<depend>>\r\n",
       "E4 ..>> E5 [[psysml:7352021b-a74c-4755-9a9f-544f5d5618ed ]] : <<depend>>\r\n",
       "E8 ..>> E6 [[psysml:c2ca5ac6-1591-4e08-969e-b115a3bed697 ]] : <<depend>>\r\n",
       "E8 ..>> E7 [[psysml:c2ca5ac6-1591-4e08-969e-b115a3bed697 ]] : <<depend>>\r\n",
       "}\r\n",
       "@enduml\r\n",
       "\n",
       "PlantUML version 1.2020.13(Sat Jun 13 12:26:38 UTC 2020)\n",
       "(EPL source distribution)\n",
       "Java Runtime: OpenJDK Runtime Environment\n",
       "JVM: OpenJDK 64-Bit Server VM\n",
       "Default Encoding: UTF-8\n",
       "Language: en\n",
       "Country: null\n",
       "--></g></svg>"
      ]
     },
     "execution_count": 30,
     "metadata": {},
     "output_type": "execute_result"
    }
   ],
   "source": [
    "%viz --style=\"PLANTUML\" --view=\"Default\" \"DependencyTest\""
   ]
  },
  {
   "cell_type": "code",
   "execution_count": 31,
   "id": "5f5962c5",
   "metadata": {
    "execution": {
     "iopub.execute_input": "2021-04-20T07:03:25.297837Z",
     "iopub.status.busy": "2021-04-20T07:03:25.296922Z",
     "iopub.status.idle": "2021-04-20T07:03:25.335295Z",
     "shell.execute_reply": "2021-04-20T07:03:25.333915Z"
    }
   },
   "outputs": [
    {
     "data": {
      "image/svg+xml": [
       "<?xml version=\"1.0\" encoding=\"UTF-8\" standalone=\"no\"?><svg xmlns=\"http://www.w3.org/2000/svg\" xmlns:xlink=\"http://www.w3.org/1999/xlink\" contentScriptType=\"application/ecmascript\" contentStyleType=\"text/css\" height=\"449px\" preserveAspectRatio=\"none\" style=\"width:510px;height:449px;\" version=\"1.1\" viewBox=\"0 0 510 449\" width=\"510px\" zoomAndPan=\"magnify\"><defs><filter height=\"300%\" id=\"f1mzlpcy3xe3ee\" width=\"300%\" x=\"-1\" y=\"-1\"><feGaussianBlur result=\"blurOut\" stdDeviation=\"2.0\"/><feColorMatrix in=\"blurOut\" result=\"blurOut2\" type=\"matrix\" values=\"0 0 0 0 0 0 0 0 0 0 0 0 0 0 0 0 0 0 .4 0\"/><feOffset dx=\"4.0\" dy=\"4.0\" in=\"blurOut2\" result=\"blurOut3\"/><feBlend in=\"SourceGraphic\" in2=\"blurOut3\" mode=\"normal\"/></filter></defs><g><!--MD5=[fbc87193dbaf4d95561dea2c320d4a47]\n",
       "cluster E1--><a href=\"psysml:cb8a6054-43e9-4191-a3b4-d53f2df2fcdf\" target=\"_top\" title=\"psysml:cb8a6054-43e9-4191-a3b4-d53f2df2fcdf\" xlink:actuate=\"onRequest\" xlink:href=\"psysml:cb8a6054-43e9-4191-a3b4-d53f2df2fcdf\" xlink:show=\"new\" xlink:title=\"psysml:cb8a6054-43e9-4191-a3b4-d53f2df2fcdf\" xlink:type=\"simple\"><polygon fill=\"#FFFFFF\" filter=\"url(#f1mzlpcy3xe3ee)\" points=\"16,6,156,6,163,28.2969,488,28.2969,488,437,16,437,16,6\" style=\"stroke: #000000; stroke-width: 1.5;\"/><line style=\"stroke: #000000; stroke-width: 1.5;\" x1=\"16\" x2=\"163\" y1=\"28.2969\" y2=\"28.2969\"/><text fill=\"#000000\" font-family=\"sans-serif\" font-size=\"14\" font-weight=\"bold\" lengthAdjust=\"spacingAndGlyphs\" textLength=\"134\" x=\"20\" y=\"20.9951\">DependencyTest</text></a><!--MD5=[e4f7fae6ed58524ba242bb0b0d3be6b7]\n",
       "cluster E2--><a href=\"psysml:b8ece1dd-151a-4631-92e5-c2dbf563fb8b\" target=\"_top\" title=\"psysml:b8ece1dd-151a-4631-92e5-c2dbf563fb8b\" xlink:actuate=\"onRequest\" xlink:href=\"psysml:b8ece1dd-151a-4631-92e5-c2dbf563fb8b\" xlink:show=\"new\" xlink:title=\"psysml:b8ece1dd-151a-4631-92e5-c2dbf563fb8b\" xlink:type=\"simple\"><polygon fill=\"#FFFFFF\" filter=\"url(#f1mzlpcy3xe3ee)\" points=\"276,49,340,49,347,71.2969,464,71.2969,464,413,276,413,276,49\" style=\"stroke: #000000; stroke-width: 1.5;\"/><line style=\"stroke: #000000; stroke-width: 1.5;\" x1=\"276\" x2=\"347\" y1=\"71.2969\" y2=\"71.2969\"/><text fill=\"#000000\" font-family=\"sans-serif\" font-size=\"14\" font-weight=\"bold\" lengthAdjust=\"spacingAndGlyphs\" textLength=\"58\" x=\"280\" y=\"63.9951\">System</text></a><!--MD5=[60a26617385b1d2d0262a64233df1f8d]\n",
       "class E6--><a href=\"psysml:3db867e9-a237-498d-9697-66a5ca6752eb\" target=\"_top\" title=\"psysml:3db867e9-a237-498d-9697-66a5ca6752eb\" xlink:actuate=\"onRequest\" xlink:href=\"psysml:3db867e9-a237-498d-9697-66a5ca6752eb\" xlink:show=\"new\" xlink:title=\"psysml:3db867e9-a237-498d-9697-66a5ca6752eb\" xlink:type=\"simple\"><rect fill=\"#FEFECE\" filter=\"url(#f1mzlpcy3xe3ee)\" height=\"45.9375\" id=\"E6\" rx=\"10\" ry=\"10\" style=\"stroke: #A80036; stroke-width: 1.5;\" width=\"97\" x=\"31.5\" y=\"217.5\"/><ellipse cx=\"46.5\" cy=\"236.4688\" fill=\"#FFA500\" rx=\"11\" ry=\"11\" style=\"stroke: #A80036; stroke-width: 1.0;\"/><path d=\"M42.375,238.3906 L42.375,230.5781 L44.8281,230.5781 L44.8281,239.0156 Q44.8281,239.9375 45.2969,240.4688 Q45.7813,241 46.6094,241 Q47.4531,241 47.9219,240.4688 Q48.3906,239.9375 48.3906,239.0156 L48.3906,230.5781 L50.8438,230.5781 L50.8438,238.3906 Q50.8438,240.9219 49.8438,242.0625 Q48.8438,243.2031 46.6094,243.2031 Q44.3906,243.2031 43.375,242.0625 Q42.375,240.9219 42.375,238.3906 Z \"/><text fill=\"#000000\" font-family=\"sans-serif\" font-size=\"12\" font-style=\"italic\" lengthAdjust=\"spacingAndGlyphs\" textLength=\"69\" x=\"58.5\" y=\"233.6387\">«attribute»</text><text fill=\"#000000\" font-family=\"sans-serif\" font-size=\"12\" lengthAdjust=\"spacingAndGlyphs\" textLength=\"6\" x=\"90\" y=\"247.6074\">x</text><line style=\"stroke: #A80036; stroke-width: 1.5;\" x1=\"32.5\" x2=\"127.5\" y1=\"255.4375\" y2=\"255.4375\"/></a><!--MD5=[2156ba9850f5573cc1fc38a6a4b2f02b]\n",
       "class E7--><a href=\"psysml:c548d046-cadc-4301-a44e-d185972c752b\" target=\"_top\" title=\"psysml:c548d046-cadc-4301-a44e-d185972c752b\" xlink:actuate=\"onRequest\" xlink:href=\"psysml:c548d046-cadc-4301-a44e-d185972c752b\" xlink:show=\"new\" xlink:title=\"psysml:c548d046-cadc-4301-a44e-d185972c752b\" xlink:type=\"simple\"><rect fill=\"#FEFECE\" filter=\"url(#f1mzlpcy3xe3ee)\" height=\"45.9375\" id=\"E7\" rx=\"10\" ry=\"10\" style=\"stroke: #A80036; stroke-width: 1.5;\" width=\"97\" x=\"163.5\" y=\"217.5\"/><ellipse cx=\"178.5\" cy=\"236.4688\" fill=\"#FFA500\" rx=\"11\" ry=\"11\" style=\"stroke: #A80036; stroke-width: 1.0;\"/><path d=\"M174.375,238.3906 L174.375,230.5781 L176.8281,230.5781 L176.8281,239.0156 Q176.8281,239.9375 177.2969,240.4688 Q177.7813,241 178.6094,241 Q179.4531,241 179.9219,240.4688 Q180.3906,239.9375 180.3906,239.0156 L180.3906,230.5781 L182.8438,230.5781 L182.8438,238.3906 Q182.8438,240.9219 181.8438,242.0625 Q180.8438,243.2031 178.6094,243.2031 Q176.3906,243.2031 175.375,242.0625 Q174.375,240.9219 174.375,238.3906 Z \"/><text fill=\"#000000\" font-family=\"sans-serif\" font-size=\"12\" font-style=\"italic\" lengthAdjust=\"spacingAndGlyphs\" textLength=\"69\" x=\"190.5\" y=\"233.6387\">«attribute»</text><text fill=\"#000000\" font-family=\"sans-serif\" font-size=\"12\" lengthAdjust=\"spacingAndGlyphs\" textLength=\"6\" x=\"222\" y=\"247.6074\">y</text><line style=\"stroke: #A80036; stroke-width: 1.5;\" x1=\"164.5\" x2=\"259.5\" y1=\"255.4375\" y2=\"255.4375\"/></a><!--MD5=[b9389687b975829384b498ac4b7476b2]\n",
       "class E8--><a href=\"psysml:47dc4f88-d05c-4598-a7e7-ecfe5751dc87\" target=\"_top\" title=\"psysml:47dc4f88-d05c-4598-a7e7-ecfe5751dc87\" xlink:actuate=\"onRequest\" xlink:href=\"psysml:47dc4f88-d05c-4598-a7e7-ecfe5751dc87\" xlink:show=\"new\" xlink:title=\"psysml:47dc4f88-d05c-4598-a7e7-ecfe5751dc87\" xlink:type=\"simple\"><rect fill=\"#FEFECE\" filter=\"url(#f1mzlpcy3xe3ee)\" height=\"45.9375\" id=\"E8\" rx=\"10\" ry=\"10\" style=\"stroke: #A80036; stroke-width: 1.5;\" width=\"97\" x=\"84.5\" y=\"87.5\"/><ellipse cx=\"99.5\" cy=\"106.4688\" fill=\"#FFA500\" rx=\"11\" ry=\"11\" style=\"stroke: #A80036; stroke-width: 1.0;\"/><path d=\"M95.375,108.3906 L95.375,100.5781 L97.8281,100.5781 L97.8281,109.0156 Q97.8281,109.9375 98.2969,110.4688 Q98.7813,111 99.6094,111 Q100.4531,111 100.9219,110.4688 Q101.3906,109.9375 101.3906,109.0156 L101.3906,100.5781 L103.8438,100.5781 L103.8438,108.3906 Q103.8438,110.9219 102.8438,112.0625 Q101.8438,113.2031 99.6094,113.2031 Q97.3906,113.2031 96.375,112.0625 Q95.375,110.9219 95.375,108.3906 Z \"/><text fill=\"#000000\" font-family=\"sans-serif\" font-size=\"12\" font-style=\"italic\" lengthAdjust=\"spacingAndGlyphs\" textLength=\"69\" x=\"111.5\" y=\"103.6387\">«attribute»</text><text fill=\"#000000\" font-family=\"sans-serif\" font-size=\"12\" lengthAdjust=\"spacingAndGlyphs\" textLength=\"5\" x=\"143.5\" y=\"117.6074\">z</text><line style=\"stroke: #A80036; stroke-width: 1.5;\" x1=\"85.5\" x2=\"180.5\" y1=\"125.4375\" y2=\"125.4375\"/></a><a href=\"psysml:59f5b99d-24d3-4acd-853e-8f7f0b563d54\" target=\"_top\" title=\"psysml:59f5b99d-24d3-4acd-853e-8f7f0b563d54\" xlink:actuate=\"onRequest\" xlink:href=\"psysml:59f5b99d-24d3-4acd-853e-8f7f0b563d54\" xlink:show=\"new\" xlink:title=\"psysml:59f5b99d-24d3-4acd-853e-8f7f0b563d54\" xlink:type=\"simple\"><polygon fill=\"#FFFFFF\" filter=\"url(#f1mzlpcy3xe3ee)\" points=\"292,84,434,84,441,106.2969,448,106.2969,448,136.5938,292,136.5938,292,84\" style=\"stroke: #000000; stroke-width: 1.5;\"/><line style=\"stroke: #000000; stroke-width: 1.5;\" x1=\"292\" x2=\"441\" y1=\"106.2969\" y2=\"106.2969\"/><text fill=\"#000000\" font-family=\"sans-serif\" font-size=\"14\" font-weight=\"bold\" lengthAdjust=\"spacingAndGlyphs\" textLength=\"136\" x=\"296\" y=\"98.9951\">Application Layer</text></a><a href=\"psysml:5cfbc3a5-c556-4af2-acf6-f60fe409e97c\" target=\"_top\" title=\"psysml:5cfbc3a5-c556-4af2-acf6-f60fe409e97c\" xlink:actuate=\"onRequest\" xlink:href=\"psysml:5cfbc3a5-c556-4af2-acf6-f60fe409e97c\" xlink:show=\"new\" xlink:title=\"psysml:5cfbc3a5-c556-4af2-acf6-f60fe409e97c\" xlink:type=\"simple\"><polygon fill=\"#FFFFFF\" filter=\"url(#f1mzlpcy3xe3ee)\" points=\"306,214,420,214,427,236.2969,434,236.2969,434,266.5938,306,266.5938,306,214\" style=\"stroke: #000000; stroke-width: 1.5;\"/><line style=\"stroke: #000000; stroke-width: 1.5;\" x1=\"306\" x2=\"427\" y1=\"236.2969\" y2=\"236.2969\"/><text fill=\"#000000\" font-family=\"sans-serif\" font-size=\"14\" font-weight=\"bold\" lengthAdjust=\"spacingAndGlyphs\" textLength=\"108\" x=\"310\" y=\"228.9951\">Service Layer</text></a><a href=\"psysml:acb31344-a810-41ff-bc38-efd03bbf6ecb\" target=\"_top\" title=\"psysml:acb31344-a810-41ff-bc38-efd03bbf6ecb\" xlink:actuate=\"onRequest\" xlink:href=\"psysml:acb31344-a810-41ff-bc38-efd03bbf6ecb\" xlink:show=\"new\" xlink:title=\"psysml:acb31344-a810-41ff-bc38-efd03bbf6ecb\" xlink:type=\"simple\"><polygon fill=\"#FFFFFF\" filter=\"url(#f1mzlpcy3xe3ee)\" points=\"318,344,408,344,415,366.2969,422,366.2969,422,396.5938,318,396.5938,318,344\" style=\"stroke: #000000; stroke-width: 1.5;\"/><line style=\"stroke: #000000; stroke-width: 1.5;\" x1=\"318\" x2=\"415\" y1=\"366.2969\" y2=\"366.2969\"/><text fill=\"#000000\" font-family=\"sans-serif\" font-size=\"14\" font-weight=\"bold\" lengthAdjust=\"spacingAndGlyphs\" textLength=\"84\" x=\"322\" y=\"358.9951\">Data Layer</text></a><!--MD5=[af87c684e3b0d8be13c1a698a818ef1e]\n",
       "link E3 to E4--><a href=\"psysml:952f286e-4b84-47c6-949f-c687a4b4f029\" target=\"_top\" title=\"psysml:952f286e-4b84-47c6-949f-c687a4b4f029\" xlink:actuate=\"onRequest\" xlink:href=\"psysml:952f286e-4b84-47c6-949f-c687a4b4f029\" xlink:show=\"new\" xlink:title=\"psysml:952f286e-4b84-47c6-949f-c687a4b4f029\" xlink:type=\"simple\"><path d=\"M370,137.1 C370,156.8 370,184.22 370,205.73 \" fill=\"none\" id=\"E3-&gt;E4\" style=\"stroke: #A80036; stroke-width: 1.0; stroke-dasharray: 7.0,7.0;\"/><polygon fill=\"#A80036\" points=\"370,213.95,373,205.95,367,205.95,370,213.95\" style=\"stroke: #A80036; stroke-width: 1.0;\"/><text fill=\"#000000\" font-family=\"sans-serif\" font-size=\"13\" lengthAdjust=\"spacingAndGlyphs\" textLength=\"64\" x=\"371\" y=\"180.0669\">«depend»</text></a><!--MD5=[1b7591eae5389033d8d09a9d6721a717]\n",
       "link E4 to E5--><a href=\"psysml:7352021b-a74c-4755-9a9f-544f5d5618ed\" target=\"_top\" title=\"psysml:7352021b-a74c-4755-9a9f-544f5d5618ed\" xlink:actuate=\"onRequest\" xlink:href=\"psysml:7352021b-a74c-4755-9a9f-544f5d5618ed\" xlink:show=\"new\" xlink:title=\"psysml:7352021b-a74c-4755-9a9f-544f5d5618ed\" xlink:type=\"simple\"><path d=\"M370,267.1 C370,286.8 370,314.22 370,335.73 \" fill=\"none\" id=\"E4-&gt;E5\" style=\"stroke: #A80036; stroke-width: 1.0; stroke-dasharray: 7.0,7.0;\"/><polygon fill=\"#A80036\" points=\"370,343.95,373,335.95,367,335.95,370,343.95\" style=\"stroke: #A80036; stroke-width: 1.0;\"/><text fill=\"#000000\" font-family=\"sans-serif\" font-size=\"13\" lengthAdjust=\"spacingAndGlyphs\" textLength=\"64\" x=\"371\" y=\"310.0669\">«depend»</text></a><!--MD5=[c5e8897d989ce984f93528998a7150fe]\n",
       "link E8 to E6--><a href=\"psysml:c2ca5ac6-1591-4e08-969e-b115a3bed697\" target=\"_top\" title=\"psysml:c2ca5ac6-1591-4e08-969e-b115a3bed697\" xlink:actuate=\"onRequest\" xlink:href=\"psysml:c2ca5ac6-1591-4e08-969e-b115a3bed697\" xlink:show=\"new\" xlink:title=\"psysml:c2ca5ac6-1591-4e08-969e-b115a3bed697\" xlink:type=\"simple\"><path d=\"M106.44,133.76 C97.3,143.01 88.09,154.51 83,167 C77.6,180.23 76.4,195.98 76.73,209.41 \" fill=\"none\" id=\"E8-&gt;E6\" style=\"stroke: #A80036; stroke-width: 1.0; stroke-dasharray: 7.0,7.0;\"/><polygon fill=\"#A80036\" points=\"77.12,217.43,79.7306,209.2946,73.7375,209.584,77.12,217.43\" style=\"stroke: #A80036; stroke-width: 1.0;\"/><text fill=\"#000000\" font-family=\"sans-serif\" font-size=\"13\" lengthAdjust=\"spacingAndGlyphs\" textLength=\"64\" x=\"84\" y=\"180.0669\">«depend»</text></a><!--MD5=[bfa3c8b0d15052fdf50ae9310b491027]\n",
       "link E8 to E7--><a href=\"psysml:c2ca5ac6-1591-4e08-969e-b115a3bed697\" target=\"_top\" title=\"psysml:c2ca5ac6-1591-4e08-969e-b115a3bed697\" xlink:actuate=\"onRequest\" xlink:href=\"psysml:c2ca5ac6-1591-4e08-969e-b115a3bed697\" xlink:show=\"new\" xlink:title=\"psysml:c2ca5ac6-1591-4e08-969e-b115a3bed697\" xlink:type=\"simple\"><path d=\"M146.58,133.5 C159.69,154.75 179.63,187.05 194.05,210.41 \" fill=\"none\" id=\"E8-&gt;E7\" style=\"stroke: #A80036; stroke-width: 1.0; stroke-dasharray: 7.0,7.0;\"/><polygon fill=\"#A80036\" points=\"198.33,217.35,196.6785,208.9671,191.5737,212.1201,198.33,217.35\" style=\"stroke: #A80036; stroke-width: 1.0;\"/><text fill=\"#000000\" font-family=\"sans-serif\" font-size=\"13\" lengthAdjust=\"spacingAndGlyphs\" textLength=\"64\" x=\"178\" y=\"180.0669\">«depend»</text></a><!--MD5=[6dafb18a1bf45c92d10da51c6e2b986e]\n",
       "@startuml\r\n",
       " \r\n",
       "package \"DependencyTest\" as E1  [[psysml:cb8a6054-43e9-4191-a3b4-d53f2df2fcdf ]]  {\r\n",
       "package \"System\" as E2  [[psysml:b8ece1dd-151a-4631-92e5-c2dbf563fb8b ]]  {\r\n",
       "package \"Application Layer\" as E3  [[psysml:59f5b99d-24d3-4acd-853e-8f7f0b563d54 ]]  {\r\n",
       "}\r\n",
       "package \"Service Layer\" as E4  [[psysml:5cfbc3a5-c556-4af2-acf6-f60fe409e97c ]]  {\r\n",
       "}\r\n",
       "package \"Data Layer\" as E5  [[psysml:acb31344-a810-41ff-bc38-efd03bbf6ecb ]]  {\r\n",
       "}\r\n",
       "}\r\n",
       "comp usage \"x\" as E6  <<(U,orange)attribute>> [[psysml:3db867e9-a237-498d-9697-66a5ca6752eb ]] {\r\n",
       "}\r\n",
       "comp usage \"y\" as E7  <<(U,orange)attribute>> [[psysml:c548d046-cadc-4301-a44e-d185972c752b ]] {\r\n",
       "}\r\n",
       "comp usage \"z\" as E8  <<(U,orange)attribute>> [[psysml:47dc4f88-d05c-4598-a7e7-ecfe5751dc87 ]] {\r\n",
       "}\r\n",
       "E3 ..>> E4 [[psysml:952f286e-4b84-47c6-949f-c687a4b4f029 ]] : <<depend>>\r\n",
       "E4 ..>> E5 [[psysml:7352021b-a74c-4755-9a9f-544f5d5618ed ]] : <<depend>>\r\n",
       "E8 ..>> E6 [[psysml:c2ca5ac6-1591-4e08-969e-b115a3bed697 ]] : <<depend>>\r\n",
       "E8 ..>> E7 [[psysml:c2ca5ac6-1591-4e08-969e-b115a3bed697 ]] : <<depend>>\r\n",
       "}\r\n",
       "@enduml\r\n",
       "\n",
       "PlantUML version 1.2020.13(Sat Jun 13 12:26:38 UTC 2020)\n",
       "(EPL source distribution)\n",
       "Java Runtime: OpenJDK Runtime Environment\n",
       "JVM: OpenJDK 64-Bit Server VM\n",
       "Default Encoding: UTF-8\n",
       "Language: en\n",
       "Country: null\n",
       "--></g></svg>"
      ]
     },
     "execution_count": 31,
     "metadata": {},
     "output_type": "execute_result"
    }
   ],
   "source": [
    "%viz --style=\"PLANTUML\" --view=\"Tree\" \"DependencyTest\""
   ]
  },
  {
   "cell_type": "code",
   "execution_count": 32,
   "id": "c24c5774",
   "metadata": {
    "execution": {
     "iopub.execute_input": "2021-04-20T07:03:25.386095Z",
     "iopub.status.busy": "2021-04-20T07:03:25.385418Z",
     "iopub.status.idle": "2021-04-20T07:03:25.467499Z",
     "shell.execute_reply": "2021-04-20T07:03:25.465931Z"
    }
   },
   "outputs": [
    {
     "data": {
      "image/svg+xml": [
       "<?xml version=\"1.0\" encoding=\"UTF-8\" standalone=\"no\"?><svg xmlns=\"http://www.w3.org/2000/svg\" xmlns:xlink=\"http://www.w3.org/1999/xlink\" contentScriptType=\"application/ecmascript\" contentStyleType=\"text/css\" height=\"303px\" preserveAspectRatio=\"none\" style=\"width:603px;height:303px;background:#000000;\" version=\"1.1\" viewBox=\"0 0 603 303\" width=\"603px\" zoomAndPan=\"magnify\"><defs/><g><rect fill=\"#201713\" height=\"1\" style=\"stroke: #201713; stroke-width: 1.0;\" width=\"1\" x=\"0\" y=\"0\"/><rect fill=\"#FFFFFF\" height=\"205.5625\" style=\"stroke: #FFFFFF; stroke-width: 1.0;\" width=\"602\" x=\"0\" y=\"0\"/><text fill=\"#000000\" font-family=\"sans-serif\" font-size=\"12\" font-weight=\"bold\" lengthAdjust=\"spacingAndGlyphs\" textLength=\"159\" x=\"5\" y=\"16.1387\">Welcome to PlantUML!</text><text fill=\"#000000\" font-family=\"sans-serif\" font-size=\"12\" lengthAdjust=\"spacingAndGlyphs\" textLength=\"0\" x=\"9\" y=\"30.1074\"/><text fill=\"#000000\" font-family=\"sans-serif\" font-size=\"12\" lengthAdjust=\"spacingAndGlyphs\" textLength=\"293\" x=\"5\" y=\"44.0762\">If you use this software, you accept its license.</text><text fill=\"#000000\" font-family=\"sans-serif\" font-size=\"12\" lengthAdjust=\"spacingAndGlyphs\" textLength=\"107\" x=\"5\" y=\"58.0449\">(details by typing</text><text fill=\"#000000\" font-family=\"monospace\" font-size=\"12\" lengthAdjust=\"spacingAndGlyphs\" textLength=\"49\" x=\"116\" y=\"58.0449\">license</text><text fill=\"#000000\" font-family=\"sans-serif\" font-size=\"12\" lengthAdjust=\"spacingAndGlyphs\" textLength=\"56\" x=\"169\" y=\"58.0449\">keyword)</text><text fill=\"#000000\" font-family=\"sans-serif\" font-size=\"12\" lengthAdjust=\"spacingAndGlyphs\" textLength=\"0\" x=\"9\" y=\"72.0137\"/><text fill=\"#000000\" font-family=\"sans-serif\" font-size=\"12\" lengthAdjust=\"spacingAndGlyphs\" textLength=\"283\" x=\"5\" y=\"85.9824\">You can start with a simple UML Diagram like:</text><text fill=\"#000000\" font-family=\"sans-serif\" font-size=\"12\" lengthAdjust=\"spacingAndGlyphs\" textLength=\"0\" x=\"9\" y=\"99.9512\"/><text fill=\"#000000\" font-family=\"monospace\" font-size=\"12\" lengthAdjust=\"spacingAndGlyphs\" textLength=\"119\" x=\"5\" y=\"113.9199\">Bob-&gt;Alice: Hello</text><text fill=\"#000000\" font-family=\"sans-serif\" font-size=\"12\" lengthAdjust=\"spacingAndGlyphs\" textLength=\"0\" x=\"9\" y=\"127.8887\"/><text fill=\"#000000\" font-family=\"sans-serif\" font-size=\"12\" lengthAdjust=\"spacingAndGlyphs\" textLength=\"14\" x=\"5\" y=\"141.8574\">Or</text><text fill=\"#000000\" font-family=\"sans-serif\" font-size=\"12\" lengthAdjust=\"spacingAndGlyphs\" textLength=\"0\" x=\"9\" y=\"155.8262\"/><text fill=\"#000000\" font-family=\"monospace\" font-size=\"12\" lengthAdjust=\"spacingAndGlyphs\" textLength=\"91\" x=\"5\" y=\"169.7949\">class Example</text><text fill=\"#000000\" font-family=\"sans-serif\" font-size=\"12\" lengthAdjust=\"spacingAndGlyphs\" textLength=\"0\" x=\"9\" y=\"183.7637\"/><text fill=\"#000000\" font-family=\"sans-serif\" font-size=\"12\" lengthAdjust=\"spacingAndGlyphs\" textLength=\"349\" x=\"5\" y=\"197.7324\">You will find more information about PlantUML syntax on</text><text fill=\"#000000\" font-family=\"sans-serif\" font-size=\"12\" lengthAdjust=\"spacingAndGlyphs\" text-decoration=\"underline\" textLength=\"129\" x=\"358\" y=\"197.7324\">https://plantuml.com</text><image height=\"71\" width=\"80\" x=\"516\" xlink:href=\"data:image/png;base64,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\" y=\"6\"/><rect fill=\"#000000\" height=\"96.4844\" style=\"stroke: #000000; stroke-width: 1.0;\" width=\"602\" x=\"0\" y=\"205.5625\"/><rect fill=\"#33FF02\" height=\"21.2969\" style=\"stroke: #33FF02; stroke-width: 1.0;\" width=\"170\" x=\"5\" y=\"210.5625\"/><text fill=\"#000000\" font-family=\"sans-serif\" font-size=\"14\" font-weight=\"bold\" lengthAdjust=\"spacingAndGlyphs\" textLength=\"168\" x=\"6\" y=\"225.5625\">[From string (line 2) ]</text><text fill=\"#33FF02\" font-family=\"sans-serif\" font-size=\"14\" font-weight=\"bold\" lengthAdjust=\"spacingAndGlyphs\" textLength=\"0\" x=\"10\" y=\"245.8594\"/><text fill=\"#33FF02\" font-family=\"sans-serif\" font-size=\"14\" font-weight=\"bold\" lengthAdjust=\"spacingAndGlyphs\" textLength=\"79\" x=\"5\" y=\"262.1563\">@startuml</text><text fill=\"#33FF02\" font-family=\"sans-serif\" font-size=\"14\" font-weight=\"bold\" lengthAdjust=\"spacingAndGlyphs\" textLength=\"0\" x=\"10\" y=\"278.4531\"/><text fill=\"#FF0000\" font-family=\"sans-serif\" font-size=\"14\" font-weight=\"bold\" lengthAdjust=\"spacingAndGlyphs\" textLength=\"142\" x=\"10\" y=\"294.75\">Empty description</text><!--MD5=[f59edd8218d337f74d0c332fc6737304]\n",
       "@startuml\r\n",
       " \r\n",
       "@enduml\r\n",
       "\n",
       "PlantUML version 1.2020.13(Sat Jun 13 12:26:38 UTC 2020)\n",
       "(EPL source distribution)\n",
       "Java Runtime: OpenJDK Runtime Environment\n",
       "JVM: OpenJDK 64-Bit Server VM\n",
       "Default Encoding: UTF-8\n",
       "Language: en\n",
       "Country: null\n",
       "--></g></svg>"
      ]
     },
     "execution_count": 32,
     "metadata": {},
     "output_type": "execute_result"
    }
   ],
   "source": [
    "%viz --style=\"PLANTUML\" --view=\"State\" \"DependencyTest\""
   ]
  },
  {
   "cell_type": "code",
   "execution_count": 33,
   "id": "1c1bba67",
   "metadata": {
    "execution": {
     "iopub.execute_input": "2021-04-20T07:03:25.517966Z",
     "iopub.status.busy": "2021-04-20T07:03:25.517401Z",
     "iopub.status.idle": "2021-04-20T07:03:25.555884Z",
     "shell.execute_reply": "2021-04-20T07:03:25.555505Z"
    }
   },
   "outputs": [
    {
     "data": {
      "image/svg+xml": [
       "<?xml version=\"1.0\" encoding=\"UTF-8\" standalone=\"no\"?><svg xmlns=\"http://www.w3.org/2000/svg\" xmlns:xlink=\"http://www.w3.org/1999/xlink\" contentScriptType=\"application/ecmascript\" contentStyleType=\"text/css\" height=\"361px\" preserveAspectRatio=\"none\" style=\"width:510px;height:361px;\" version=\"1.1\" viewBox=\"0 0 510 361\" width=\"510px\" zoomAndPan=\"magnify\"><defs><filter height=\"300%\" id=\"fxs6luywklwqp\" width=\"300%\" x=\"-1\" y=\"-1\"><feGaussianBlur result=\"blurOut\" stdDeviation=\"2.0\"/><feColorMatrix in=\"blurOut\" result=\"blurOut2\" type=\"matrix\" values=\"0 0 0 0 0 0 0 0 0 0 0 0 0 0 0 0 0 0 .4 0\"/><feOffset dx=\"4.0\" dy=\"4.0\" in=\"blurOut2\" result=\"blurOut3\"/><feBlend in=\"SourceGraphic\" in2=\"blurOut3\" mode=\"normal\"/></filter></defs><g><!--MD5=[fbc87193dbaf4d95561dea2c320d4a47]\n",
       "cluster E1--><a href=\"psysml:cb8a6054-43e9-4191-a3b4-d53f2df2fcdf\" target=\"_top\" title=\"psysml:cb8a6054-43e9-4191-a3b4-d53f2df2fcdf\" xlink:actuate=\"onRequest\" xlink:href=\"psysml:cb8a6054-43e9-4191-a3b4-d53f2df2fcdf\" xlink:show=\"new\" xlink:title=\"psysml:cb8a6054-43e9-4191-a3b4-d53f2df2fcdf\" xlink:type=\"simple\"><polygon fill=\"#FFFFFF\" filter=\"url(#fxs6luywklwqp)\" points=\"16,6,156,6,163,28.2969,488,28.2969,488,349,16,349,16,6\" style=\"stroke: #000000; stroke-width: 1.5;\"/><line style=\"stroke: #000000; stroke-width: 1.5;\" x1=\"16\" x2=\"163\" y1=\"28.2969\" y2=\"28.2969\"/><text fill=\"#000000\" font-family=\"sans-serif\" font-size=\"14\" font-weight=\"bold\" lengthAdjust=\"spacingAndGlyphs\" textLength=\"134\" x=\"20\" y=\"20.9951\">DependencyTest</text></a><!--MD5=[e4f7fae6ed58524ba242bb0b0d3be6b7]\n",
       "cluster E2--><a href=\"psysml:b8ece1dd-151a-4631-92e5-c2dbf563fb8b\" target=\"_top\" title=\"psysml:b8ece1dd-151a-4631-92e5-c2dbf563fb8b\" xlink:actuate=\"onRequest\" xlink:href=\"psysml:b8ece1dd-151a-4631-92e5-c2dbf563fb8b\" xlink:show=\"new\" xlink:title=\"psysml:b8ece1dd-151a-4631-92e5-c2dbf563fb8b\" xlink:type=\"simple\"><polygon fill=\"#FFFFFF\" filter=\"url(#fxs6luywklwqp)\" points=\"276,49,340,49,347,71.2969,464,71.2969,464,325,276,325,276,49\" style=\"stroke: #000000; stroke-width: 1.5;\"/><line style=\"stroke: #000000; stroke-width: 1.5;\" x1=\"276\" x2=\"347\" y1=\"71.2969\" y2=\"71.2969\"/><text fill=\"#000000\" font-family=\"sans-serif\" font-size=\"14\" font-weight=\"bold\" lengthAdjust=\"spacingAndGlyphs\" textLength=\"58\" x=\"280\" y=\"63.9951\">System</text></a><!--MD5=[60a26617385b1d2d0262a64233df1f8d]\n",
       "class E6--><a href=\"psysml:3db867e9-a237-498d-9697-66a5ca6752eb\" target=\"_top\" title=\"psysml:3db867e9-a237-498d-9697-66a5ca6752eb\" xlink:actuate=\"onRequest\" xlink:href=\"psysml:3db867e9-a237-498d-9697-66a5ca6752eb\" xlink:show=\"new\" xlink:title=\"psysml:3db867e9-a237-498d-9697-66a5ca6752eb\" xlink:type=\"simple\"><rect fill=\"#FEFECE\" filter=\"url(#fxs6luywklwqp)\" height=\"45.9375\" id=\"E6\" rx=\"10\" ry=\"10\" style=\"stroke: #A80036; stroke-width: 1.5;\" width=\"97\" x=\"31.5\" y=\"173.5\"/><ellipse cx=\"46.5\" cy=\"192.4688\" fill=\"#FFA500\" rx=\"11\" ry=\"11\" style=\"stroke: #A80036; stroke-width: 1.0;\"/><path d=\"M42.375,194.3906 L42.375,186.5781 L44.8281,186.5781 L44.8281,195.0156 Q44.8281,195.9375 45.2969,196.4688 Q45.7813,197 46.6094,197 Q47.4531,197 47.9219,196.4688 Q48.3906,195.9375 48.3906,195.0156 L48.3906,186.5781 L50.8438,186.5781 L50.8438,194.3906 Q50.8438,196.9219 49.8438,198.0625 Q48.8438,199.2031 46.6094,199.2031 Q44.3906,199.2031 43.375,198.0625 Q42.375,196.9219 42.375,194.3906 Z \"/><text fill=\"#000000\" font-family=\"sans-serif\" font-size=\"12\" font-style=\"italic\" lengthAdjust=\"spacingAndGlyphs\" textLength=\"69\" x=\"58.5\" y=\"189.6387\">«attribute»</text><text fill=\"#000000\" font-family=\"sans-serif\" font-size=\"12\" lengthAdjust=\"spacingAndGlyphs\" textLength=\"6\" x=\"90\" y=\"203.6074\">x</text><line style=\"stroke: #A80036; stroke-width: 1.5;\" x1=\"32.5\" x2=\"127.5\" y1=\"211.4375\" y2=\"211.4375\"/></a><!--MD5=[2156ba9850f5573cc1fc38a6a4b2f02b]\n",
       "class E7--><a href=\"psysml:c548d046-cadc-4301-a44e-d185972c752b\" target=\"_top\" title=\"psysml:c548d046-cadc-4301-a44e-d185972c752b\" xlink:actuate=\"onRequest\" xlink:href=\"psysml:c548d046-cadc-4301-a44e-d185972c752b\" xlink:show=\"new\" xlink:title=\"psysml:c548d046-cadc-4301-a44e-d185972c752b\" xlink:type=\"simple\"><rect fill=\"#FEFECE\" filter=\"url(#fxs6luywklwqp)\" height=\"45.9375\" id=\"E7\" rx=\"10\" ry=\"10\" style=\"stroke: #A80036; stroke-width: 1.5;\" width=\"97\" x=\"163.5\" y=\"173.5\"/><ellipse cx=\"178.5\" cy=\"192.4688\" fill=\"#FFA500\" rx=\"11\" ry=\"11\" style=\"stroke: #A80036; stroke-width: 1.0;\"/><path d=\"M174.375,194.3906 L174.375,186.5781 L176.8281,186.5781 L176.8281,195.0156 Q176.8281,195.9375 177.2969,196.4688 Q177.7813,197 178.6094,197 Q179.4531,197 179.9219,196.4688 Q180.3906,195.9375 180.3906,195.0156 L180.3906,186.5781 L182.8438,186.5781 L182.8438,194.3906 Q182.8438,196.9219 181.8438,198.0625 Q180.8438,199.2031 178.6094,199.2031 Q176.3906,199.2031 175.375,198.0625 Q174.375,196.9219 174.375,194.3906 Z \"/><text fill=\"#000000\" font-family=\"sans-serif\" font-size=\"12\" font-style=\"italic\" lengthAdjust=\"spacingAndGlyphs\" textLength=\"69\" x=\"190.5\" y=\"189.6387\">«attribute»</text><text fill=\"#000000\" font-family=\"sans-serif\" font-size=\"12\" lengthAdjust=\"spacingAndGlyphs\" textLength=\"6\" x=\"222\" y=\"203.6074\">y</text><line style=\"stroke: #A80036; stroke-width: 1.5;\" x1=\"164.5\" x2=\"259.5\" y1=\"211.4375\" y2=\"211.4375\"/></a><!--MD5=[b9389687b975829384b498ac4b7476b2]\n",
       "class E8--><a href=\"psysml:47dc4f88-d05c-4598-a7e7-ecfe5751dc87\" target=\"_top\" title=\"psysml:47dc4f88-d05c-4598-a7e7-ecfe5751dc87\" xlink:actuate=\"onRequest\" xlink:href=\"psysml:47dc4f88-d05c-4598-a7e7-ecfe5751dc87\" xlink:show=\"new\" xlink:title=\"psysml:47dc4f88-d05c-4598-a7e7-ecfe5751dc87\" xlink:type=\"simple\"><rect fill=\"#FEFECE\" filter=\"url(#fxs6luywklwqp)\" height=\"45.9375\" id=\"E8\" rx=\"10\" ry=\"10\" style=\"stroke: #A80036; stroke-width: 1.5;\" width=\"97\" x=\"84.5\" y=\"87.5\"/><ellipse cx=\"99.5\" cy=\"106.4688\" fill=\"#FFA500\" rx=\"11\" ry=\"11\" style=\"stroke: #A80036; stroke-width: 1.0;\"/><path d=\"M95.375,108.3906 L95.375,100.5781 L97.8281,100.5781 L97.8281,109.0156 Q97.8281,109.9375 98.2969,110.4688 Q98.7813,111 99.6094,111 Q100.4531,111 100.9219,110.4688 Q101.3906,109.9375 101.3906,109.0156 L101.3906,100.5781 L103.8438,100.5781 L103.8438,108.3906 Q103.8438,110.9219 102.8438,112.0625 Q101.8438,113.2031 99.6094,113.2031 Q97.3906,113.2031 96.375,112.0625 Q95.375,110.9219 95.375,108.3906 Z \"/><text fill=\"#000000\" font-family=\"sans-serif\" font-size=\"12\" font-style=\"italic\" lengthAdjust=\"spacingAndGlyphs\" textLength=\"69\" x=\"111.5\" y=\"103.6387\">«attribute»</text><text fill=\"#000000\" font-family=\"sans-serif\" font-size=\"12\" lengthAdjust=\"spacingAndGlyphs\" textLength=\"5\" x=\"143.5\" y=\"117.6074\">z</text><line style=\"stroke: #A80036; stroke-width: 1.5;\" x1=\"85.5\" x2=\"180.5\" y1=\"125.4375\" y2=\"125.4375\"/></a><a href=\"psysml:59f5b99d-24d3-4acd-853e-8f7f0b563d54\" target=\"_top\" title=\"psysml:59f5b99d-24d3-4acd-853e-8f7f0b563d54\" xlink:actuate=\"onRequest\" xlink:href=\"psysml:59f5b99d-24d3-4acd-853e-8f7f0b563d54\" xlink:show=\"new\" xlink:title=\"psysml:59f5b99d-24d3-4acd-853e-8f7f0b563d54\" xlink:type=\"simple\"><polygon fill=\"#FFFFFF\" filter=\"url(#fxs6luywklwqp)\" points=\"292,84,434,84,441,106.2969,448,106.2969,448,136.5938,292,136.5938,292,84\" style=\"stroke: #000000; stroke-width: 1.5;\"/><line style=\"stroke: #000000; stroke-width: 1.5;\" x1=\"292\" x2=\"441\" y1=\"106.2969\" y2=\"106.2969\"/><text fill=\"#000000\" font-family=\"sans-serif\" font-size=\"14\" font-weight=\"bold\" lengthAdjust=\"spacingAndGlyphs\" textLength=\"136\" x=\"296\" y=\"98.9951\">Application Layer</text></a><a href=\"psysml:5cfbc3a5-c556-4af2-acf6-f60fe409e97c\" target=\"_top\" title=\"psysml:5cfbc3a5-c556-4af2-acf6-f60fe409e97c\" xlink:actuate=\"onRequest\" xlink:href=\"psysml:5cfbc3a5-c556-4af2-acf6-f60fe409e97c\" xlink:show=\"new\" xlink:title=\"psysml:5cfbc3a5-c556-4af2-acf6-f60fe409e97c\" xlink:type=\"simple\"><polygon fill=\"#FFFFFF\" filter=\"url(#fxs6luywklwqp)\" points=\"306,170,420,170,427,192.2969,434,192.2969,434,222.5938,306,222.5938,306,170\" style=\"stroke: #000000; stroke-width: 1.5;\"/><line style=\"stroke: #000000; stroke-width: 1.5;\" x1=\"306\" x2=\"427\" y1=\"192.2969\" y2=\"192.2969\"/><text fill=\"#000000\" font-family=\"sans-serif\" font-size=\"14\" font-weight=\"bold\" lengthAdjust=\"spacingAndGlyphs\" textLength=\"108\" x=\"310\" y=\"184.9951\">Service Layer</text></a><a href=\"psysml:acb31344-a810-41ff-bc38-efd03bbf6ecb\" target=\"_top\" title=\"psysml:acb31344-a810-41ff-bc38-efd03bbf6ecb\" xlink:actuate=\"onRequest\" xlink:href=\"psysml:acb31344-a810-41ff-bc38-efd03bbf6ecb\" xlink:show=\"new\" xlink:title=\"psysml:acb31344-a810-41ff-bc38-efd03bbf6ecb\" xlink:type=\"simple\"><polygon fill=\"#FFFFFF\" filter=\"url(#fxs6luywklwqp)\" points=\"318,256,408,256,415,278.2969,422,278.2969,422,308.5938,318,308.5938,318,256\" style=\"stroke: #000000; stroke-width: 1.5;\"/><line style=\"stroke: #000000; stroke-width: 1.5;\" x1=\"318\" x2=\"415\" y1=\"278.2969\" y2=\"278.2969\"/><text fill=\"#000000\" font-family=\"sans-serif\" font-size=\"14\" font-weight=\"bold\" lengthAdjust=\"spacingAndGlyphs\" textLength=\"84\" x=\"322\" y=\"270.9951\">Data Layer</text></a><!--MD5=[af87c684e3b0d8be13c1a698a818ef1e]\n",
       "link E3 to E4--><a href=\"psysml:952f286e-4b84-47c6-949f-c687a4b4f029\" target=\"_top\" title=\"psysml:952f286e-4b84-47c6-949f-c687a4b4f029\" xlink:actuate=\"onRequest\" xlink:href=\"psysml:952f286e-4b84-47c6-949f-c687a4b4f029\" xlink:show=\"new\" xlink:title=\"psysml:952f286e-4b84-47c6-949f-c687a4b4f029\" xlink:type=\"simple\"><path d=\"M370,137.16 C370,144.98 370,153.69 370,161.94 \" fill=\"none\" id=\"E3-&gt;E4\" style=\"stroke: #A80036; stroke-width: 1.0; stroke-dasharray: 7.0,7.0;\"/><polygon fill=\"#A80036\" points=\"370,170,373,162,367,162,370,170\" style=\"stroke: #A80036; stroke-width: 1.0;\"/><text fill=\"#000000\" font-family=\"sans-serif\" font-size=\"13\" lengthAdjust=\"spacingAndGlyphs\" textLength=\"64\" x=\"371\" y=\"158.0669\">«depend»</text></a><!--MD5=[1b7591eae5389033d8d09a9d6721a717]\n",
       "link E4 to E5--><a href=\"psysml:7352021b-a74c-4755-9a9f-544f5d5618ed\" target=\"_top\" title=\"psysml:7352021b-a74c-4755-9a9f-544f5d5618ed\" xlink:actuate=\"onRequest\" xlink:href=\"psysml:7352021b-a74c-4755-9a9f-544f5d5618ed\" xlink:show=\"new\" xlink:title=\"psysml:7352021b-a74c-4755-9a9f-544f5d5618ed\" xlink:type=\"simple\"><path d=\"M370,223.16 C370,230.98 370,239.69 370,247.94 \" fill=\"none\" id=\"E4-&gt;E5\" style=\"stroke: #A80036; stroke-width: 1.0; stroke-dasharray: 7.0,7.0;\"/><polygon fill=\"#A80036\" points=\"370,256,373,248,367,248,370,256\" style=\"stroke: #A80036; stroke-width: 1.0;\"/><text fill=\"#000000\" font-family=\"sans-serif\" font-size=\"13\" lengthAdjust=\"spacingAndGlyphs\" textLength=\"64\" x=\"371\" y=\"244.0669\">«depend»</text></a><!--MD5=[c5e8897d989ce984f93528998a7150fe]\n",
       "link E8 to E6--><a href=\"psysml:c2ca5ac6-1591-4e08-969e-b115a3bed697\" target=\"_top\" title=\"psysml:c2ca5ac6-1591-4e08-969e-b115a3bed697\" xlink:actuate=\"onRequest\" xlink:href=\"psysml:c2ca5ac6-1591-4e08-969e-b115a3bed697\" xlink:show=\"new\" xlink:title=\"psysml:c2ca5ac6-1591-4e08-969e-b115a3bed697\" xlink:type=\"simple\"><path d=\"M92.08,133.72 C88.53,137.07 85.39,140.83 83,145 C79.52,151.08 77.92,158.28 77.36,165.3 \" fill=\"none\" id=\"E8-&gt;E6\" style=\"stroke: #A80036; stroke-width: 1.0; stroke-dasharray: 7.0,7.0;\"/><polygon fill=\"#A80036\" points=\"77.14,173.39,80.3531,165.4732,74.3553,165.3125,77.14,173.39\" style=\"stroke: #A80036; stroke-width: 1.0;\"/><text fill=\"#000000\" font-family=\"sans-serif\" font-size=\"13\" lengthAdjust=\"spacingAndGlyphs\" textLength=\"64\" x=\"84\" y=\"158.0669\">«depend»</text></a><!--MD5=[bfa3c8b0d15052fdf50ae9310b491027]\n",
       "link E8 to E7--><a href=\"psysml:c2ca5ac6-1591-4e08-969e-b115a3bed697\" target=\"_top\" title=\"psysml:c2ca5ac6-1591-4e08-969e-b115a3bed697\" xlink:actuate=\"onRequest\" xlink:href=\"psysml:c2ca5ac6-1591-4e08-969e-b115a3bed697\" xlink:show=\"new\" xlink:title=\"psysml:c2ca5ac6-1591-4e08-969e-b115a3bed697\" xlink:type=\"simple\"><path d=\"M153.76,133.57 C163.48,143.91 175.17,156.34 185.52,167.34 \" fill=\"none\" id=\"E8-&gt;E7\" style=\"stroke: #A80036; stroke-width: 1.0; stroke-dasharray: 7.0,7.0;\"/><polygon fill=\"#A80036\" points=\"191.11,173.29,187.8117,165.4083,183.4425,169.5205,191.11,173.29\" style=\"stroke: #A80036; stroke-width: 1.0;\"/><text fill=\"#000000\" font-family=\"sans-serif\" font-size=\"13\" lengthAdjust=\"spacingAndGlyphs\" textLength=\"64\" x=\"180\" y=\"158.0669\">«depend»</text></a><!--MD5=[6ee2487c466daacc516a53ad07d3009d]\n",
       "@startuml\r\n",
       "skinparam ranksep 10\r\n",
       "skinparam rectangle {\r\n",
       " backgroundColor<<block>> LightGreen\r\n",
       "}\r\n",
       " \r\n",
       "package \"DependencyTest\" as E1  [[psysml:cb8a6054-43e9-4191-a3b4-d53f2df2fcdf ]]  {\r\n",
       "package \"System\" as E2  [[psysml:b8ece1dd-151a-4631-92e5-c2dbf563fb8b ]]  {\r\n",
       "package \"Application Layer\" as E3  [[psysml:59f5b99d-24d3-4acd-853e-8f7f0b563d54 ]]  {\r\n",
       "}\r\n",
       "package \"Service Layer\" as E4  [[psysml:5cfbc3a5-c556-4af2-acf6-f60fe409e97c ]]  {\r\n",
       "}\r\n",
       "package \"Data Layer\" as E5  [[psysml:acb31344-a810-41ff-bc38-efd03bbf6ecb ]]  {\r\n",
       "}\r\n",
       "}\r\n",
       "comp usage \"x\" as E6  <<(U,orange)attribute>> [[psysml:3db867e9-a237-498d-9697-66a5ca6752eb ]] {\r\n",
       "}\r\n",
       "comp usage \"y\" as E7  <<(U,orange)attribute>> [[psysml:c548d046-cadc-4301-a44e-d185972c752b ]] {\r\n",
       "}\r\n",
       "comp usage \"z\" as E8  <<(U,orange)attribute>> [[psysml:47dc4f88-d05c-4598-a7e7-ecfe5751dc87 ]] {\r\n",
       "}\r\n",
       "E3 ..>> E4 [[psysml:952f286e-4b84-47c6-949f-c687a4b4f029 ]] : <<depend>>\r\n",
       "E4 ..>> E5 [[psysml:7352021b-a74c-4755-9a9f-544f5d5618ed ]] : <<depend>>\r\n",
       "E8 ..>> E6 [[psysml:c2ca5ac6-1591-4e08-969e-b115a3bed697 ]] : <<depend>>\r\n",
       "E8 ..>> E7 [[psysml:c2ca5ac6-1591-4e08-969e-b115a3bed697 ]] : <<depend>>\r\n",
       "}\r\n",
       "@enduml\r\n",
       "\n",
       "PlantUML version 1.2020.13(Sat Jun 13 12:26:38 UTC 2020)\n",
       "(EPL source distribution)\n",
       "Java Runtime: OpenJDK Runtime Environment\n",
       "JVM: OpenJDK 64-Bit Server VM\n",
       "Default Encoding: UTF-8\n",
       "Language: en\n",
       "Country: null\n",
       "--></g></svg>"
      ]
     },
     "execution_count": 33,
     "metadata": {},
     "output_type": "execute_result"
    }
   ],
   "source": [
    "%viz --style=\"PLANTUML\" --view=\"Interconnection\" \"DependencyTest\""
   ]
  },
  {
   "cell_type": "code",
   "execution_count": 34,
   "id": "d7918251",
   "metadata": {
    "execution": {
     "iopub.execute_input": "2021-04-20T07:03:25.606433Z",
     "iopub.status.busy": "2021-04-20T07:03:25.605870Z",
     "iopub.status.idle": "2021-04-20T07:03:25.610614Z",
     "shell.execute_reply": "2021-04-20T07:03:25.610223Z"
    }
   },
   "outputs": [
    {
     "data": {
      "image/svg+xml": [
       "<?xml version=\"1.0\" encoding=\"UTF-8\" standalone=\"no\"?><svg xmlns=\"http://www.w3.org/2000/svg\" xmlns:xlink=\"http://www.w3.org/1999/xlink\" contentScriptType=\"application/ecmascript\" contentStyleType=\"text/css\" height=\"12px\" preserveAspectRatio=\"none\" style=\"width:12px;height:12px;\" version=\"1.1\" viewBox=\"0 0 12 12\" width=\"12px\" zoomAndPan=\"magnify\"><defs/><g><!--MD5=[6a4cb978cab31700e1ce5529f947a75d]\n",
       "@startuml\r\n",
       "skinparam ranksep 8\r\n",
       " \r\n",
       "@enduml\r\n",
       "\n",
       "PlantUML version 1.2020.13(Sat Jun 13 12:26:38 UTC 2020)\n",
       "(EPL source distribution)\n",
       "Java Runtime: OpenJDK Runtime Environment\n",
       "JVM: OpenJDK 64-Bit Server VM\n",
       "Default Encoding: UTF-8\n",
       "Language: en\n",
       "Country: null\n",
       "--></g></svg>"
      ]
     },
     "execution_count": 34,
     "metadata": {},
     "output_type": "execute_result"
    }
   ],
   "source": [
    "%viz --style=\"PLANTUML\" --view=\"Action\" \"DependencyTest\""
   ]
  },
  {
   "cell_type": "code",
   "execution_count": 35,
   "id": "a787cdde",
   "metadata": {
    "execution": {
     "iopub.execute_input": "2021-04-20T07:03:25.662330Z",
     "iopub.status.busy": "2021-04-20T07:03:25.661635Z",
     "iopub.status.idle": "2021-04-20T07:03:25.700056Z",
     "shell.execute_reply": "2021-04-20T07:03:25.698588Z"
    }
   },
   "outputs": [
    {
     "data": {
      "image/svg+xml": [
       "<?xml version=\"1.0\" encoding=\"UTF-8\" standalone=\"no\"?><svg xmlns=\"http://www.w3.org/2000/svg\" xmlns:xlink=\"http://www.w3.org/1999/xlink\" contentScriptType=\"application/ecmascript\" contentStyleType=\"text/css\" height=\"449px\" preserveAspectRatio=\"none\" style=\"width:510px;height:449px;\" version=\"1.1\" viewBox=\"0 0 510 449\" width=\"510px\" zoomAndPan=\"magnify\"><defs><filter height=\"300%\" id=\"f1mzlpcy3xe3ee\" width=\"300%\" x=\"-1\" y=\"-1\"><feGaussianBlur result=\"blurOut\" stdDeviation=\"2.0\"/><feColorMatrix in=\"blurOut\" result=\"blurOut2\" type=\"matrix\" values=\"0 0 0 0 0 0 0 0 0 0 0 0 0 0 0 0 0 0 .4 0\"/><feOffset dx=\"4.0\" dy=\"4.0\" in=\"blurOut2\" result=\"blurOut3\"/><feBlend in=\"SourceGraphic\" in2=\"blurOut3\" mode=\"normal\"/></filter></defs><g><!--MD5=[fbc87193dbaf4d95561dea2c320d4a47]\n",
       "cluster E1--><a href=\"psysml:cb8a6054-43e9-4191-a3b4-d53f2df2fcdf\" target=\"_top\" title=\"psysml:cb8a6054-43e9-4191-a3b4-d53f2df2fcdf\" xlink:actuate=\"onRequest\" xlink:href=\"psysml:cb8a6054-43e9-4191-a3b4-d53f2df2fcdf\" xlink:show=\"new\" xlink:title=\"psysml:cb8a6054-43e9-4191-a3b4-d53f2df2fcdf\" xlink:type=\"simple\"><polygon fill=\"#FFFFFF\" filter=\"url(#f1mzlpcy3xe3ee)\" points=\"16,6,156,6,163,28.2969,488,28.2969,488,437,16,437,16,6\" style=\"stroke: #000000; stroke-width: 1.5;\"/><line style=\"stroke: #000000; stroke-width: 1.5;\" x1=\"16\" x2=\"163\" y1=\"28.2969\" y2=\"28.2969\"/><text fill=\"#000000\" font-family=\"sans-serif\" font-size=\"14\" font-weight=\"bold\" lengthAdjust=\"spacingAndGlyphs\" textLength=\"134\" x=\"20\" y=\"20.9951\">DependencyTest</text></a><!--MD5=[e4f7fae6ed58524ba242bb0b0d3be6b7]\n",
       "cluster E2--><a href=\"psysml:b8ece1dd-151a-4631-92e5-c2dbf563fb8b\" target=\"_top\" title=\"psysml:b8ece1dd-151a-4631-92e5-c2dbf563fb8b\" xlink:actuate=\"onRequest\" xlink:href=\"psysml:b8ece1dd-151a-4631-92e5-c2dbf563fb8b\" xlink:show=\"new\" xlink:title=\"psysml:b8ece1dd-151a-4631-92e5-c2dbf563fb8b\" xlink:type=\"simple\"><polygon fill=\"#FFFFFF\" filter=\"url(#f1mzlpcy3xe3ee)\" points=\"276,49,340,49,347,71.2969,464,71.2969,464,413,276,413,276,49\" style=\"stroke: #000000; stroke-width: 1.5;\"/><line style=\"stroke: #000000; stroke-width: 1.5;\" x1=\"276\" x2=\"347\" y1=\"71.2969\" y2=\"71.2969\"/><text fill=\"#000000\" font-family=\"sans-serif\" font-size=\"14\" font-weight=\"bold\" lengthAdjust=\"spacingAndGlyphs\" textLength=\"58\" x=\"280\" y=\"63.9951\">System</text></a><!--MD5=[60a26617385b1d2d0262a64233df1f8d]\n",
       "class E6--><a href=\"psysml:3db867e9-a237-498d-9697-66a5ca6752eb\" target=\"_top\" title=\"psysml:3db867e9-a237-498d-9697-66a5ca6752eb\" xlink:actuate=\"onRequest\" xlink:href=\"psysml:3db867e9-a237-498d-9697-66a5ca6752eb\" xlink:show=\"new\" xlink:title=\"psysml:3db867e9-a237-498d-9697-66a5ca6752eb\" xlink:type=\"simple\"><rect fill=\"#FEFECE\" filter=\"url(#f1mzlpcy3xe3ee)\" height=\"45.9375\" id=\"E6\" rx=\"10\" ry=\"10\" style=\"stroke: #A80036; stroke-width: 1.5;\" width=\"97\" x=\"31.5\" y=\"217.5\"/><ellipse cx=\"46.5\" cy=\"236.4688\" fill=\"#FFA500\" rx=\"11\" ry=\"11\" style=\"stroke: #A80036; stroke-width: 1.0;\"/><path d=\"M42.375,238.3906 L42.375,230.5781 L44.8281,230.5781 L44.8281,239.0156 Q44.8281,239.9375 45.2969,240.4688 Q45.7813,241 46.6094,241 Q47.4531,241 47.9219,240.4688 Q48.3906,239.9375 48.3906,239.0156 L48.3906,230.5781 L50.8438,230.5781 L50.8438,238.3906 Q50.8438,240.9219 49.8438,242.0625 Q48.8438,243.2031 46.6094,243.2031 Q44.3906,243.2031 43.375,242.0625 Q42.375,240.9219 42.375,238.3906 Z \"/><text fill=\"#000000\" font-family=\"sans-serif\" font-size=\"12\" font-style=\"italic\" lengthAdjust=\"spacingAndGlyphs\" textLength=\"69\" x=\"58.5\" y=\"233.6387\">«attribute»</text><text fill=\"#000000\" font-family=\"sans-serif\" font-size=\"12\" lengthAdjust=\"spacingAndGlyphs\" textLength=\"6\" x=\"90\" y=\"247.6074\">x</text><line style=\"stroke: #A80036; stroke-width: 1.5;\" x1=\"32.5\" x2=\"127.5\" y1=\"255.4375\" y2=\"255.4375\"/></a><!--MD5=[2156ba9850f5573cc1fc38a6a4b2f02b]\n",
       "class E7--><a href=\"psysml:c548d046-cadc-4301-a44e-d185972c752b\" target=\"_top\" title=\"psysml:c548d046-cadc-4301-a44e-d185972c752b\" xlink:actuate=\"onRequest\" xlink:href=\"psysml:c548d046-cadc-4301-a44e-d185972c752b\" xlink:show=\"new\" xlink:title=\"psysml:c548d046-cadc-4301-a44e-d185972c752b\" xlink:type=\"simple\"><rect fill=\"#FEFECE\" filter=\"url(#f1mzlpcy3xe3ee)\" height=\"45.9375\" id=\"E7\" rx=\"10\" ry=\"10\" style=\"stroke: #A80036; stroke-width: 1.5;\" width=\"97\" x=\"163.5\" y=\"217.5\"/><ellipse cx=\"178.5\" cy=\"236.4688\" fill=\"#FFA500\" rx=\"11\" ry=\"11\" style=\"stroke: #A80036; stroke-width: 1.0;\"/><path d=\"M174.375,238.3906 L174.375,230.5781 L176.8281,230.5781 L176.8281,239.0156 Q176.8281,239.9375 177.2969,240.4688 Q177.7813,241 178.6094,241 Q179.4531,241 179.9219,240.4688 Q180.3906,239.9375 180.3906,239.0156 L180.3906,230.5781 L182.8438,230.5781 L182.8438,238.3906 Q182.8438,240.9219 181.8438,242.0625 Q180.8438,243.2031 178.6094,243.2031 Q176.3906,243.2031 175.375,242.0625 Q174.375,240.9219 174.375,238.3906 Z \"/><text fill=\"#000000\" font-family=\"sans-serif\" font-size=\"12\" font-style=\"italic\" lengthAdjust=\"spacingAndGlyphs\" textLength=\"69\" x=\"190.5\" y=\"233.6387\">«attribute»</text><text fill=\"#000000\" font-family=\"sans-serif\" font-size=\"12\" lengthAdjust=\"spacingAndGlyphs\" textLength=\"6\" x=\"222\" y=\"247.6074\">y</text><line style=\"stroke: #A80036; stroke-width: 1.5;\" x1=\"164.5\" x2=\"259.5\" y1=\"255.4375\" y2=\"255.4375\"/></a><!--MD5=[b9389687b975829384b498ac4b7476b2]\n",
       "class E8--><a href=\"psysml:47dc4f88-d05c-4598-a7e7-ecfe5751dc87\" target=\"_top\" title=\"psysml:47dc4f88-d05c-4598-a7e7-ecfe5751dc87\" xlink:actuate=\"onRequest\" xlink:href=\"psysml:47dc4f88-d05c-4598-a7e7-ecfe5751dc87\" xlink:show=\"new\" xlink:title=\"psysml:47dc4f88-d05c-4598-a7e7-ecfe5751dc87\" xlink:type=\"simple\"><rect fill=\"#FEFECE\" filter=\"url(#f1mzlpcy3xe3ee)\" height=\"45.9375\" id=\"E8\" rx=\"10\" ry=\"10\" style=\"stroke: #A80036; stroke-width: 1.5;\" width=\"97\" x=\"84.5\" y=\"87.5\"/><ellipse cx=\"99.5\" cy=\"106.4688\" fill=\"#FFA500\" rx=\"11\" ry=\"11\" style=\"stroke: #A80036; stroke-width: 1.0;\"/><path d=\"M95.375,108.3906 L95.375,100.5781 L97.8281,100.5781 L97.8281,109.0156 Q97.8281,109.9375 98.2969,110.4688 Q98.7813,111 99.6094,111 Q100.4531,111 100.9219,110.4688 Q101.3906,109.9375 101.3906,109.0156 L101.3906,100.5781 L103.8438,100.5781 L103.8438,108.3906 Q103.8438,110.9219 102.8438,112.0625 Q101.8438,113.2031 99.6094,113.2031 Q97.3906,113.2031 96.375,112.0625 Q95.375,110.9219 95.375,108.3906 Z \"/><text fill=\"#000000\" font-family=\"sans-serif\" font-size=\"12\" font-style=\"italic\" lengthAdjust=\"spacingAndGlyphs\" textLength=\"69\" x=\"111.5\" y=\"103.6387\">«attribute»</text><text fill=\"#000000\" font-family=\"sans-serif\" font-size=\"12\" lengthAdjust=\"spacingAndGlyphs\" textLength=\"5\" x=\"143.5\" y=\"117.6074\">z</text><line style=\"stroke: #A80036; stroke-width: 1.5;\" x1=\"85.5\" x2=\"180.5\" y1=\"125.4375\" y2=\"125.4375\"/></a><a href=\"psysml:59f5b99d-24d3-4acd-853e-8f7f0b563d54\" target=\"_top\" title=\"psysml:59f5b99d-24d3-4acd-853e-8f7f0b563d54\" xlink:actuate=\"onRequest\" xlink:href=\"psysml:59f5b99d-24d3-4acd-853e-8f7f0b563d54\" xlink:show=\"new\" xlink:title=\"psysml:59f5b99d-24d3-4acd-853e-8f7f0b563d54\" xlink:type=\"simple\"><polygon fill=\"#FFFFFF\" filter=\"url(#f1mzlpcy3xe3ee)\" points=\"292,84,434,84,441,106.2969,448,106.2969,448,136.5938,292,136.5938,292,84\" style=\"stroke: #000000; stroke-width: 1.5;\"/><line style=\"stroke: #000000; stroke-width: 1.5;\" x1=\"292\" x2=\"441\" y1=\"106.2969\" y2=\"106.2969\"/><text fill=\"#000000\" font-family=\"sans-serif\" font-size=\"14\" font-weight=\"bold\" lengthAdjust=\"spacingAndGlyphs\" textLength=\"136\" x=\"296\" y=\"98.9951\">Application Layer</text></a><a href=\"psysml:5cfbc3a5-c556-4af2-acf6-f60fe409e97c\" target=\"_top\" title=\"psysml:5cfbc3a5-c556-4af2-acf6-f60fe409e97c\" xlink:actuate=\"onRequest\" xlink:href=\"psysml:5cfbc3a5-c556-4af2-acf6-f60fe409e97c\" xlink:show=\"new\" xlink:title=\"psysml:5cfbc3a5-c556-4af2-acf6-f60fe409e97c\" xlink:type=\"simple\"><polygon fill=\"#FFFFFF\" filter=\"url(#f1mzlpcy3xe3ee)\" points=\"306,214,420,214,427,236.2969,434,236.2969,434,266.5938,306,266.5938,306,214\" style=\"stroke: #000000; stroke-width: 1.5;\"/><line style=\"stroke: #000000; stroke-width: 1.5;\" x1=\"306\" x2=\"427\" y1=\"236.2969\" y2=\"236.2969\"/><text fill=\"#000000\" font-family=\"sans-serif\" font-size=\"14\" font-weight=\"bold\" lengthAdjust=\"spacingAndGlyphs\" textLength=\"108\" x=\"310\" y=\"228.9951\">Service Layer</text></a><a href=\"psysml:acb31344-a810-41ff-bc38-efd03bbf6ecb\" target=\"_top\" title=\"psysml:acb31344-a810-41ff-bc38-efd03bbf6ecb\" xlink:actuate=\"onRequest\" xlink:href=\"psysml:acb31344-a810-41ff-bc38-efd03bbf6ecb\" xlink:show=\"new\" xlink:title=\"psysml:acb31344-a810-41ff-bc38-efd03bbf6ecb\" xlink:type=\"simple\"><polygon fill=\"#FFFFFF\" filter=\"url(#f1mzlpcy3xe3ee)\" points=\"318,344,408,344,415,366.2969,422,366.2969,422,396.5938,318,396.5938,318,344\" style=\"stroke: #000000; stroke-width: 1.5;\"/><line style=\"stroke: #000000; stroke-width: 1.5;\" x1=\"318\" x2=\"415\" y1=\"366.2969\" y2=\"366.2969\"/><text fill=\"#000000\" font-family=\"sans-serif\" font-size=\"14\" font-weight=\"bold\" lengthAdjust=\"spacingAndGlyphs\" textLength=\"84\" x=\"322\" y=\"358.9951\">Data Layer</text></a><!--MD5=[af87c684e3b0d8be13c1a698a818ef1e]\n",
       "link E3 to E4--><a href=\"psysml:952f286e-4b84-47c6-949f-c687a4b4f029\" target=\"_top\" title=\"psysml:952f286e-4b84-47c6-949f-c687a4b4f029\" xlink:actuate=\"onRequest\" xlink:href=\"psysml:952f286e-4b84-47c6-949f-c687a4b4f029\" xlink:show=\"new\" xlink:title=\"psysml:952f286e-4b84-47c6-949f-c687a4b4f029\" xlink:type=\"simple\"><path d=\"M370,137.1 C370,156.8 370,184.22 370,205.73 \" fill=\"none\" id=\"E3-&gt;E4\" style=\"stroke: #A80036; stroke-width: 1.0; stroke-dasharray: 7.0,7.0;\"/><polygon fill=\"#A80036\" points=\"370,213.95,373,205.95,367,205.95,370,213.95\" style=\"stroke: #A80036; stroke-width: 1.0;\"/><text fill=\"#000000\" font-family=\"sans-serif\" font-size=\"13\" lengthAdjust=\"spacingAndGlyphs\" textLength=\"64\" x=\"371\" y=\"180.0669\">«depend»</text></a><!--MD5=[1b7591eae5389033d8d09a9d6721a717]\n",
       "link E4 to E5--><a href=\"psysml:7352021b-a74c-4755-9a9f-544f5d5618ed\" target=\"_top\" title=\"psysml:7352021b-a74c-4755-9a9f-544f5d5618ed\" xlink:actuate=\"onRequest\" xlink:href=\"psysml:7352021b-a74c-4755-9a9f-544f5d5618ed\" xlink:show=\"new\" xlink:title=\"psysml:7352021b-a74c-4755-9a9f-544f5d5618ed\" xlink:type=\"simple\"><path d=\"M370,267.1 C370,286.8 370,314.22 370,335.73 \" fill=\"none\" id=\"E4-&gt;E5\" style=\"stroke: #A80036; stroke-width: 1.0; stroke-dasharray: 7.0,7.0;\"/><polygon fill=\"#A80036\" points=\"370,343.95,373,335.95,367,335.95,370,343.95\" style=\"stroke: #A80036; stroke-width: 1.0;\"/><text fill=\"#000000\" font-family=\"sans-serif\" font-size=\"13\" lengthAdjust=\"spacingAndGlyphs\" textLength=\"64\" x=\"371\" y=\"310.0669\">«depend»</text></a><!--MD5=[c5e8897d989ce984f93528998a7150fe]\n",
       "link E8 to E6--><a href=\"psysml:c2ca5ac6-1591-4e08-969e-b115a3bed697\" target=\"_top\" title=\"psysml:c2ca5ac6-1591-4e08-969e-b115a3bed697\" xlink:actuate=\"onRequest\" xlink:href=\"psysml:c2ca5ac6-1591-4e08-969e-b115a3bed697\" xlink:show=\"new\" xlink:title=\"psysml:c2ca5ac6-1591-4e08-969e-b115a3bed697\" xlink:type=\"simple\"><path d=\"M106.44,133.76 C97.3,143.01 88.09,154.51 83,167 C77.6,180.23 76.4,195.98 76.73,209.41 \" fill=\"none\" id=\"E8-&gt;E6\" style=\"stroke: #A80036; stroke-width: 1.0; stroke-dasharray: 7.0,7.0;\"/><polygon fill=\"#A80036\" points=\"77.12,217.43,79.7306,209.2946,73.7375,209.584,77.12,217.43\" style=\"stroke: #A80036; stroke-width: 1.0;\"/><text fill=\"#000000\" font-family=\"sans-serif\" font-size=\"13\" lengthAdjust=\"spacingAndGlyphs\" textLength=\"64\" x=\"84\" y=\"180.0669\">«depend»</text></a><!--MD5=[bfa3c8b0d15052fdf50ae9310b491027]\n",
       "link E8 to E7--><a href=\"psysml:c2ca5ac6-1591-4e08-969e-b115a3bed697\" target=\"_top\" title=\"psysml:c2ca5ac6-1591-4e08-969e-b115a3bed697\" xlink:actuate=\"onRequest\" xlink:href=\"psysml:c2ca5ac6-1591-4e08-969e-b115a3bed697\" xlink:show=\"new\" xlink:title=\"psysml:c2ca5ac6-1591-4e08-969e-b115a3bed697\" xlink:type=\"simple\"><path d=\"M146.58,133.5 C159.69,154.75 179.63,187.05 194.05,210.41 \" fill=\"none\" id=\"E8-&gt;E7\" style=\"stroke: #A80036; stroke-width: 1.0; stroke-dasharray: 7.0,7.0;\"/><polygon fill=\"#A80036\" points=\"198.33,217.35,196.6785,208.9671,191.5737,212.1201,198.33,217.35\" style=\"stroke: #A80036; stroke-width: 1.0;\"/><text fill=\"#000000\" font-family=\"sans-serif\" font-size=\"13\" lengthAdjust=\"spacingAndGlyphs\" textLength=\"64\" x=\"178\" y=\"180.0669\">«depend»</text></a><!--MD5=[6dafb18a1bf45c92d10da51c6e2b986e]\n",
       "@startuml\r\n",
       " \r\n",
       "package \"DependencyTest\" as E1  [[psysml:cb8a6054-43e9-4191-a3b4-d53f2df2fcdf ]]  {\r\n",
       "package \"System\" as E2  [[psysml:b8ece1dd-151a-4631-92e5-c2dbf563fb8b ]]  {\r\n",
       "package \"Application Layer\" as E3  [[psysml:59f5b99d-24d3-4acd-853e-8f7f0b563d54 ]]  {\r\n",
       "}\r\n",
       "package \"Service Layer\" as E4  [[psysml:5cfbc3a5-c556-4af2-acf6-f60fe409e97c ]]  {\r\n",
       "}\r\n",
       "package \"Data Layer\" as E5  [[psysml:acb31344-a810-41ff-bc38-efd03bbf6ecb ]]  {\r\n",
       "}\r\n",
       "}\r\n",
       "comp usage \"x\" as E6  <<(U,orange)attribute>> [[psysml:3db867e9-a237-498d-9697-66a5ca6752eb ]] {\r\n",
       "}\r\n",
       "comp usage \"y\" as E7  <<(U,orange)attribute>> [[psysml:c548d046-cadc-4301-a44e-d185972c752b ]] {\r\n",
       "}\r\n",
       "comp usage \"z\" as E8  <<(U,orange)attribute>> [[psysml:47dc4f88-d05c-4598-a7e7-ecfe5751dc87 ]] {\r\n",
       "}\r\n",
       "E3 ..>> E4 [[psysml:952f286e-4b84-47c6-949f-c687a4b4f029 ]] : <<depend>>\r\n",
       "E4 ..>> E5 [[psysml:7352021b-a74c-4755-9a9f-544f5d5618ed ]] : <<depend>>\r\n",
       "E8 ..>> E6 [[psysml:c2ca5ac6-1591-4e08-969e-b115a3bed697 ]] : <<depend>>\r\n",
       "E8 ..>> E7 [[psysml:c2ca5ac6-1591-4e08-969e-b115a3bed697 ]] : <<depend>>\r\n",
       "}\r\n",
       "@enduml\r\n",
       "\n",
       "PlantUML version 1.2020.13(Sat Jun 13 12:26:38 UTC 2020)\n",
       "(EPL source distribution)\n",
       "Java Runtime: OpenJDK Runtime Environment\n",
       "JVM: OpenJDK 64-Bit Server VM\n",
       "Default Encoding: UTF-8\n",
       "Language: en\n",
       "Country: null\n",
       "--></g></svg>"
      ]
     },
     "execution_count": 35,
     "metadata": {},
     "output_type": "execute_result"
    }
   ],
   "source": [
    "%viz --style=\"PLANTUML\" --view=\"Sequence\" \"DependencyTest\""
   ]
  },
  {
   "cell_type": "code",
   "execution_count": 36,
   "id": "99d75571",
   "metadata": {
    "execution": {
     "iopub.execute_input": "2021-04-20T07:03:25.751164Z",
     "iopub.status.busy": "2021-04-20T07:03:25.750429Z",
     "iopub.status.idle": "2021-04-20T07:03:25.786730Z",
     "shell.execute_reply": "2021-04-20T07:03:25.786386Z"
    }
   },
   "outputs": [
    {
     "data": {
      "image/svg+xml": [
       "<?xml version=\"1.0\" encoding=\"UTF-8\" standalone=\"no\"?><svg xmlns=\"http://www.w3.org/2000/svg\" xmlns:xlink=\"http://www.w3.org/1999/xlink\" contentScriptType=\"application/ecmascript\" contentStyleType=\"text/css\" height=\"449px\" preserveAspectRatio=\"none\" style=\"width:510px;height:449px;\" version=\"1.1\" viewBox=\"0 0 510 449\" width=\"510px\" zoomAndPan=\"magnify\"><defs><filter height=\"300%\" id=\"f1mzlpcy3xe3ee\" width=\"300%\" x=\"-1\" y=\"-1\"><feGaussianBlur result=\"blurOut\" stdDeviation=\"2.0\"/><feColorMatrix in=\"blurOut\" result=\"blurOut2\" type=\"matrix\" values=\"0 0 0 0 0 0 0 0 0 0 0 0 0 0 0 0 0 0 .4 0\"/><feOffset dx=\"4.0\" dy=\"4.0\" in=\"blurOut2\" result=\"blurOut3\"/><feBlend in=\"SourceGraphic\" in2=\"blurOut3\" mode=\"normal\"/></filter></defs><g><!--MD5=[fbc87193dbaf4d95561dea2c320d4a47]\n",
       "cluster E1--><a href=\"psysml:cb8a6054-43e9-4191-a3b4-d53f2df2fcdf\" target=\"_top\" title=\"psysml:cb8a6054-43e9-4191-a3b4-d53f2df2fcdf\" xlink:actuate=\"onRequest\" xlink:href=\"psysml:cb8a6054-43e9-4191-a3b4-d53f2df2fcdf\" xlink:show=\"new\" xlink:title=\"psysml:cb8a6054-43e9-4191-a3b4-d53f2df2fcdf\" xlink:type=\"simple\"><polygon fill=\"#FFFFFF\" filter=\"url(#f1mzlpcy3xe3ee)\" points=\"16,6,156,6,163,28.2969,488,28.2969,488,437,16,437,16,6\" style=\"stroke: #000000; stroke-width: 1.5;\"/><line style=\"stroke: #000000; stroke-width: 1.5;\" x1=\"16\" x2=\"163\" y1=\"28.2969\" y2=\"28.2969\"/><text fill=\"#000000\" font-family=\"sans-serif\" font-size=\"14\" font-weight=\"bold\" lengthAdjust=\"spacingAndGlyphs\" textLength=\"134\" x=\"20\" y=\"20.9951\">DependencyTest</text></a><!--MD5=[e4f7fae6ed58524ba242bb0b0d3be6b7]\n",
       "cluster E2--><a href=\"psysml:b8ece1dd-151a-4631-92e5-c2dbf563fb8b\" target=\"_top\" title=\"psysml:b8ece1dd-151a-4631-92e5-c2dbf563fb8b\" xlink:actuate=\"onRequest\" xlink:href=\"psysml:b8ece1dd-151a-4631-92e5-c2dbf563fb8b\" xlink:show=\"new\" xlink:title=\"psysml:b8ece1dd-151a-4631-92e5-c2dbf563fb8b\" xlink:type=\"simple\"><polygon fill=\"#FFFFFF\" filter=\"url(#f1mzlpcy3xe3ee)\" points=\"276,49,340,49,347,71.2969,464,71.2969,464,413,276,413,276,49\" style=\"stroke: #000000; stroke-width: 1.5;\"/><line style=\"stroke: #000000; stroke-width: 1.5;\" x1=\"276\" x2=\"347\" y1=\"71.2969\" y2=\"71.2969\"/><text fill=\"#000000\" font-family=\"sans-serif\" font-size=\"14\" font-weight=\"bold\" lengthAdjust=\"spacingAndGlyphs\" textLength=\"58\" x=\"280\" y=\"63.9951\">System</text></a><!--MD5=[60a26617385b1d2d0262a64233df1f8d]\n",
       "class E6--><a href=\"psysml:3db867e9-a237-498d-9697-66a5ca6752eb\" target=\"_top\" title=\"psysml:3db867e9-a237-498d-9697-66a5ca6752eb\" xlink:actuate=\"onRequest\" xlink:href=\"psysml:3db867e9-a237-498d-9697-66a5ca6752eb\" xlink:show=\"new\" xlink:title=\"psysml:3db867e9-a237-498d-9697-66a5ca6752eb\" xlink:type=\"simple\"><rect fill=\"#FEFECE\" filter=\"url(#f1mzlpcy3xe3ee)\" height=\"45.9375\" id=\"E6\" rx=\"10\" ry=\"10\" style=\"stroke: #A80036; stroke-width: 1.5;\" width=\"97\" x=\"31.5\" y=\"217.5\"/><ellipse cx=\"46.5\" cy=\"236.4688\" fill=\"#FFA500\" rx=\"11\" ry=\"11\" style=\"stroke: #A80036; stroke-width: 1.0;\"/><path d=\"M42.375,238.3906 L42.375,230.5781 L44.8281,230.5781 L44.8281,239.0156 Q44.8281,239.9375 45.2969,240.4688 Q45.7813,241 46.6094,241 Q47.4531,241 47.9219,240.4688 Q48.3906,239.9375 48.3906,239.0156 L48.3906,230.5781 L50.8438,230.5781 L50.8438,238.3906 Q50.8438,240.9219 49.8438,242.0625 Q48.8438,243.2031 46.6094,243.2031 Q44.3906,243.2031 43.375,242.0625 Q42.375,240.9219 42.375,238.3906 Z \"/><text fill=\"#000000\" font-family=\"sans-serif\" font-size=\"12\" font-style=\"italic\" lengthAdjust=\"spacingAndGlyphs\" textLength=\"69\" x=\"58.5\" y=\"233.6387\">«attribute»</text><text fill=\"#000000\" font-family=\"sans-serif\" font-size=\"12\" lengthAdjust=\"spacingAndGlyphs\" textLength=\"6\" x=\"90\" y=\"247.6074\">x</text><line style=\"stroke: #A80036; stroke-width: 1.5;\" x1=\"32.5\" x2=\"127.5\" y1=\"255.4375\" y2=\"255.4375\"/></a><!--MD5=[2156ba9850f5573cc1fc38a6a4b2f02b]\n",
       "class E7--><a href=\"psysml:c548d046-cadc-4301-a44e-d185972c752b\" target=\"_top\" title=\"psysml:c548d046-cadc-4301-a44e-d185972c752b\" xlink:actuate=\"onRequest\" xlink:href=\"psysml:c548d046-cadc-4301-a44e-d185972c752b\" xlink:show=\"new\" xlink:title=\"psysml:c548d046-cadc-4301-a44e-d185972c752b\" xlink:type=\"simple\"><rect fill=\"#FEFECE\" filter=\"url(#f1mzlpcy3xe3ee)\" height=\"45.9375\" id=\"E7\" rx=\"10\" ry=\"10\" style=\"stroke: #A80036; stroke-width: 1.5;\" width=\"97\" x=\"163.5\" y=\"217.5\"/><ellipse cx=\"178.5\" cy=\"236.4688\" fill=\"#FFA500\" rx=\"11\" ry=\"11\" style=\"stroke: #A80036; stroke-width: 1.0;\"/><path d=\"M174.375,238.3906 L174.375,230.5781 L176.8281,230.5781 L176.8281,239.0156 Q176.8281,239.9375 177.2969,240.4688 Q177.7813,241 178.6094,241 Q179.4531,241 179.9219,240.4688 Q180.3906,239.9375 180.3906,239.0156 L180.3906,230.5781 L182.8438,230.5781 L182.8438,238.3906 Q182.8438,240.9219 181.8438,242.0625 Q180.8438,243.2031 178.6094,243.2031 Q176.3906,243.2031 175.375,242.0625 Q174.375,240.9219 174.375,238.3906 Z \"/><text fill=\"#000000\" font-family=\"sans-serif\" font-size=\"12\" font-style=\"italic\" lengthAdjust=\"spacingAndGlyphs\" textLength=\"69\" x=\"190.5\" y=\"233.6387\">«attribute»</text><text fill=\"#000000\" font-family=\"sans-serif\" font-size=\"12\" lengthAdjust=\"spacingAndGlyphs\" textLength=\"6\" x=\"222\" y=\"247.6074\">y</text><line style=\"stroke: #A80036; stroke-width: 1.5;\" x1=\"164.5\" x2=\"259.5\" y1=\"255.4375\" y2=\"255.4375\"/></a><!--MD5=[b9389687b975829384b498ac4b7476b2]\n",
       "class E8--><a href=\"psysml:47dc4f88-d05c-4598-a7e7-ecfe5751dc87\" target=\"_top\" title=\"psysml:47dc4f88-d05c-4598-a7e7-ecfe5751dc87\" xlink:actuate=\"onRequest\" xlink:href=\"psysml:47dc4f88-d05c-4598-a7e7-ecfe5751dc87\" xlink:show=\"new\" xlink:title=\"psysml:47dc4f88-d05c-4598-a7e7-ecfe5751dc87\" xlink:type=\"simple\"><rect fill=\"#FEFECE\" filter=\"url(#f1mzlpcy3xe3ee)\" height=\"45.9375\" id=\"E8\" rx=\"10\" ry=\"10\" style=\"stroke: #A80036; stroke-width: 1.5;\" width=\"97\" x=\"84.5\" y=\"87.5\"/><ellipse cx=\"99.5\" cy=\"106.4688\" fill=\"#FFA500\" rx=\"11\" ry=\"11\" style=\"stroke: #A80036; stroke-width: 1.0;\"/><path d=\"M95.375,108.3906 L95.375,100.5781 L97.8281,100.5781 L97.8281,109.0156 Q97.8281,109.9375 98.2969,110.4688 Q98.7813,111 99.6094,111 Q100.4531,111 100.9219,110.4688 Q101.3906,109.9375 101.3906,109.0156 L101.3906,100.5781 L103.8438,100.5781 L103.8438,108.3906 Q103.8438,110.9219 102.8438,112.0625 Q101.8438,113.2031 99.6094,113.2031 Q97.3906,113.2031 96.375,112.0625 Q95.375,110.9219 95.375,108.3906 Z \"/><text fill=\"#000000\" font-family=\"sans-serif\" font-size=\"12\" font-style=\"italic\" lengthAdjust=\"spacingAndGlyphs\" textLength=\"69\" x=\"111.5\" y=\"103.6387\">«attribute»</text><text fill=\"#000000\" font-family=\"sans-serif\" font-size=\"12\" lengthAdjust=\"spacingAndGlyphs\" textLength=\"5\" x=\"143.5\" y=\"117.6074\">z</text><line style=\"stroke: #A80036; stroke-width: 1.5;\" x1=\"85.5\" x2=\"180.5\" y1=\"125.4375\" y2=\"125.4375\"/></a><a href=\"psysml:59f5b99d-24d3-4acd-853e-8f7f0b563d54\" target=\"_top\" title=\"psysml:59f5b99d-24d3-4acd-853e-8f7f0b563d54\" xlink:actuate=\"onRequest\" xlink:href=\"psysml:59f5b99d-24d3-4acd-853e-8f7f0b563d54\" xlink:show=\"new\" xlink:title=\"psysml:59f5b99d-24d3-4acd-853e-8f7f0b563d54\" xlink:type=\"simple\"><polygon fill=\"#FFFFFF\" filter=\"url(#f1mzlpcy3xe3ee)\" points=\"292,84,434,84,441,106.2969,448,106.2969,448,136.5938,292,136.5938,292,84\" style=\"stroke: #000000; stroke-width: 1.5;\"/><line style=\"stroke: #000000; stroke-width: 1.5;\" x1=\"292\" x2=\"441\" y1=\"106.2969\" y2=\"106.2969\"/><text fill=\"#000000\" font-family=\"sans-serif\" font-size=\"14\" font-weight=\"bold\" lengthAdjust=\"spacingAndGlyphs\" textLength=\"136\" x=\"296\" y=\"98.9951\">Application Layer</text></a><a href=\"psysml:5cfbc3a5-c556-4af2-acf6-f60fe409e97c\" target=\"_top\" title=\"psysml:5cfbc3a5-c556-4af2-acf6-f60fe409e97c\" xlink:actuate=\"onRequest\" xlink:href=\"psysml:5cfbc3a5-c556-4af2-acf6-f60fe409e97c\" xlink:show=\"new\" xlink:title=\"psysml:5cfbc3a5-c556-4af2-acf6-f60fe409e97c\" xlink:type=\"simple\"><polygon fill=\"#FFFFFF\" filter=\"url(#f1mzlpcy3xe3ee)\" points=\"306,214,420,214,427,236.2969,434,236.2969,434,266.5938,306,266.5938,306,214\" style=\"stroke: #000000; stroke-width: 1.5;\"/><line style=\"stroke: #000000; stroke-width: 1.5;\" x1=\"306\" x2=\"427\" y1=\"236.2969\" y2=\"236.2969\"/><text fill=\"#000000\" font-family=\"sans-serif\" font-size=\"14\" font-weight=\"bold\" lengthAdjust=\"spacingAndGlyphs\" textLength=\"108\" x=\"310\" y=\"228.9951\">Service Layer</text></a><a href=\"psysml:acb31344-a810-41ff-bc38-efd03bbf6ecb\" target=\"_top\" title=\"psysml:acb31344-a810-41ff-bc38-efd03bbf6ecb\" xlink:actuate=\"onRequest\" xlink:href=\"psysml:acb31344-a810-41ff-bc38-efd03bbf6ecb\" xlink:show=\"new\" xlink:title=\"psysml:acb31344-a810-41ff-bc38-efd03bbf6ecb\" xlink:type=\"simple\"><polygon fill=\"#FFFFFF\" filter=\"url(#f1mzlpcy3xe3ee)\" points=\"318,344,408,344,415,366.2969,422,366.2969,422,396.5938,318,396.5938,318,344\" style=\"stroke: #000000; stroke-width: 1.5;\"/><line style=\"stroke: #000000; stroke-width: 1.5;\" x1=\"318\" x2=\"415\" y1=\"366.2969\" y2=\"366.2969\"/><text fill=\"#000000\" font-family=\"sans-serif\" font-size=\"14\" font-weight=\"bold\" lengthAdjust=\"spacingAndGlyphs\" textLength=\"84\" x=\"322\" y=\"358.9951\">Data Layer</text></a><!--MD5=[af87c684e3b0d8be13c1a698a818ef1e]\n",
       "link E3 to E4--><a href=\"psysml:952f286e-4b84-47c6-949f-c687a4b4f029\" target=\"_top\" title=\"psysml:952f286e-4b84-47c6-949f-c687a4b4f029\" xlink:actuate=\"onRequest\" xlink:href=\"psysml:952f286e-4b84-47c6-949f-c687a4b4f029\" xlink:show=\"new\" xlink:title=\"psysml:952f286e-4b84-47c6-949f-c687a4b4f029\" xlink:type=\"simple\"><path d=\"M370,137.1 C370,156.8 370,184.22 370,205.73 \" fill=\"none\" id=\"E3-&gt;E4\" style=\"stroke: #A80036; stroke-width: 1.0; stroke-dasharray: 7.0,7.0;\"/><polygon fill=\"#A80036\" points=\"370,213.95,373,205.95,367,205.95,370,213.95\" style=\"stroke: #A80036; stroke-width: 1.0;\"/><text fill=\"#000000\" font-family=\"sans-serif\" font-size=\"13\" lengthAdjust=\"spacingAndGlyphs\" textLength=\"64\" x=\"371\" y=\"180.0669\">«depend»</text></a><!--MD5=[1b7591eae5389033d8d09a9d6721a717]\n",
       "link E4 to E5--><a href=\"psysml:7352021b-a74c-4755-9a9f-544f5d5618ed\" target=\"_top\" title=\"psysml:7352021b-a74c-4755-9a9f-544f5d5618ed\" xlink:actuate=\"onRequest\" xlink:href=\"psysml:7352021b-a74c-4755-9a9f-544f5d5618ed\" xlink:show=\"new\" xlink:title=\"psysml:7352021b-a74c-4755-9a9f-544f5d5618ed\" xlink:type=\"simple\"><path d=\"M370,267.1 C370,286.8 370,314.22 370,335.73 \" fill=\"none\" id=\"E4-&gt;E5\" style=\"stroke: #A80036; stroke-width: 1.0; stroke-dasharray: 7.0,7.0;\"/><polygon fill=\"#A80036\" points=\"370,343.95,373,335.95,367,335.95,370,343.95\" style=\"stroke: #A80036; stroke-width: 1.0;\"/><text fill=\"#000000\" font-family=\"sans-serif\" font-size=\"13\" lengthAdjust=\"spacingAndGlyphs\" textLength=\"64\" x=\"371\" y=\"310.0669\">«depend»</text></a><!--MD5=[c5e8897d989ce984f93528998a7150fe]\n",
       "link E8 to E6--><a href=\"psysml:c2ca5ac6-1591-4e08-969e-b115a3bed697\" target=\"_top\" title=\"psysml:c2ca5ac6-1591-4e08-969e-b115a3bed697\" xlink:actuate=\"onRequest\" xlink:href=\"psysml:c2ca5ac6-1591-4e08-969e-b115a3bed697\" xlink:show=\"new\" xlink:title=\"psysml:c2ca5ac6-1591-4e08-969e-b115a3bed697\" xlink:type=\"simple\"><path d=\"M106.44,133.76 C97.3,143.01 88.09,154.51 83,167 C77.6,180.23 76.4,195.98 76.73,209.41 \" fill=\"none\" id=\"E8-&gt;E6\" style=\"stroke: #A80036; stroke-width: 1.0; stroke-dasharray: 7.0,7.0;\"/><polygon fill=\"#A80036\" points=\"77.12,217.43,79.7306,209.2946,73.7375,209.584,77.12,217.43\" style=\"stroke: #A80036; stroke-width: 1.0;\"/><text fill=\"#000000\" font-family=\"sans-serif\" font-size=\"13\" lengthAdjust=\"spacingAndGlyphs\" textLength=\"64\" x=\"84\" y=\"180.0669\">«depend»</text></a><!--MD5=[bfa3c8b0d15052fdf50ae9310b491027]\n",
       "link E8 to E7--><a href=\"psysml:c2ca5ac6-1591-4e08-969e-b115a3bed697\" target=\"_top\" title=\"psysml:c2ca5ac6-1591-4e08-969e-b115a3bed697\" xlink:actuate=\"onRequest\" xlink:href=\"psysml:c2ca5ac6-1591-4e08-969e-b115a3bed697\" xlink:show=\"new\" xlink:title=\"psysml:c2ca5ac6-1591-4e08-969e-b115a3bed697\" xlink:type=\"simple\"><path d=\"M146.58,133.5 C159.69,154.75 179.63,187.05 194.05,210.41 \" fill=\"none\" id=\"E8-&gt;E7\" style=\"stroke: #A80036; stroke-width: 1.0; stroke-dasharray: 7.0,7.0;\"/><polygon fill=\"#A80036\" points=\"198.33,217.35,196.6785,208.9671,191.5737,212.1201,198.33,217.35\" style=\"stroke: #A80036; stroke-width: 1.0;\"/><text fill=\"#000000\" font-family=\"sans-serif\" font-size=\"13\" lengthAdjust=\"spacingAndGlyphs\" textLength=\"64\" x=\"178\" y=\"180.0669\">«depend»</text></a><!--MD5=[6dafb18a1bf45c92d10da51c6e2b986e]\n",
       "@startuml\r\n",
       " \r\n",
       "package \"DependencyTest\" as E1  [[psysml:cb8a6054-43e9-4191-a3b4-d53f2df2fcdf ]]  {\r\n",
       "package \"System\" as E2  [[psysml:b8ece1dd-151a-4631-92e5-c2dbf563fb8b ]]  {\r\n",
       "package \"Application Layer\" as E3  [[psysml:59f5b99d-24d3-4acd-853e-8f7f0b563d54 ]]  {\r\n",
       "}\r\n",
       "package \"Service Layer\" as E4  [[psysml:5cfbc3a5-c556-4af2-acf6-f60fe409e97c ]]  {\r\n",
       "}\r\n",
       "package \"Data Layer\" as E5  [[psysml:acb31344-a810-41ff-bc38-efd03bbf6ecb ]]  {\r\n",
       "}\r\n",
       "}\r\n",
       "comp usage \"x\" as E6  <<(U,orange)attribute>> [[psysml:3db867e9-a237-498d-9697-66a5ca6752eb ]] {\r\n",
       "}\r\n",
       "comp usage \"y\" as E7  <<(U,orange)attribute>> [[psysml:c548d046-cadc-4301-a44e-d185972c752b ]] {\r\n",
       "}\r\n",
       "comp usage \"z\" as E8  <<(U,orange)attribute>> [[psysml:47dc4f88-d05c-4598-a7e7-ecfe5751dc87 ]] {\r\n",
       "}\r\n",
       "E3 ..>> E4 [[psysml:952f286e-4b84-47c6-949f-c687a4b4f029 ]] : <<depend>>\r\n",
       "E4 ..>> E5 [[psysml:7352021b-a74c-4755-9a9f-544f5d5618ed ]] : <<depend>>\r\n",
       "E8 ..>> E6 [[psysml:c2ca5ac6-1591-4e08-969e-b115a3bed697 ]] : <<depend>>\r\n",
       "E8 ..>> E7 [[psysml:c2ca5ac6-1591-4e08-969e-b115a3bed697 ]] : <<depend>>\r\n",
       "}\r\n",
       "@enduml\r\n",
       "\n",
       "PlantUML version 1.2020.13(Sat Jun 13 12:26:38 UTC 2020)\n",
       "(EPL source distribution)\n",
       "Java Runtime: OpenJDK Runtime Environment\n",
       "JVM: OpenJDK 64-Bit Server VM\n",
       "Default Encoding: UTF-8\n",
       "Language: en\n",
       "Country: null\n",
       "--></g></svg>"
      ]
     },
     "execution_count": 36,
     "metadata": {},
     "output_type": "execute_result"
    }
   ],
   "source": [
    "%viz --style=\"PLANTUML\" --view=\"MIXED\" \"DependencyTest\""
   ]
  },
  {
   "cell_type": "code",
   "execution_count": 37,
   "id": "b339b399",
   "metadata": {
    "execution": {
     "iopub.execute_input": "2021-04-20T07:03:25.837050Z",
     "iopub.status.busy": "2021-04-20T07:03:25.836545Z",
     "iopub.status.idle": "2021-04-20T07:03:25.866641Z",
     "shell.execute_reply": "2021-04-20T07:03:25.866151Z"
    }
   },
   "outputs": [
    {
     "data": {
      "image/svg+xml": [
       "<?xml version=\"1.0\" encoding=\"UTF-8\" standalone=\"no\"?><svg xmlns=\"http://www.w3.org/2000/svg\" xmlns:xlink=\"http://www.w3.org/1999/xlink\" contentScriptType=\"application/ecmascript\" contentStyleType=\"text/css\" height=\"449px\" preserveAspectRatio=\"none\" style=\"width:489px;height:449px;\" version=\"1.1\" viewBox=\"0 0 489 449\" width=\"489px\" zoomAndPan=\"magnify\"><defs/><g><!--MD5=[fbc87193dbaf4d95561dea2c320d4a47]\n",
       "cluster E1--><a href=\"psysml:cb8a6054-43e9-4191-a3b4-d53f2df2fcdf\" target=\"_top\" title=\"psysml:cb8a6054-43e9-4191-a3b4-d53f2df2fcdf\" xlink:actuate=\"onRequest\" xlink:href=\"psysml:cb8a6054-43e9-4191-a3b4-d53f2df2fcdf\" xlink:show=\"new\" xlink:title=\"psysml:cb8a6054-43e9-4191-a3b4-d53f2df2fcdf\" xlink:type=\"simple\"><polygon fill=\"#FFFFFF\" points=\"16,6,156,6,163,28.2969,467,28.2969,467,437,16,437,16,6\" style=\"stroke: #000000; stroke-width: 1.5;\"/><line style=\"stroke: #000000; stroke-width: 1.5;\" x1=\"16\" x2=\"163\" y1=\"28.2969\" y2=\"28.2969\"/><text fill=\"#000000\" font-family=\"sans-serif\" font-size=\"14\" font-weight=\"bold\" lengthAdjust=\"spacingAndGlyphs\" textLength=\"134\" x=\"20\" y=\"20.9951\">DependencyTest</text></a><!--MD5=[e4f7fae6ed58524ba242bb0b0d3be6b7]\n",
       "cluster E2--><a href=\"psysml:b8ece1dd-151a-4631-92e5-c2dbf563fb8b\" target=\"_top\" title=\"psysml:b8ece1dd-151a-4631-92e5-c2dbf563fb8b\" xlink:actuate=\"onRequest\" xlink:href=\"psysml:b8ece1dd-151a-4631-92e5-c2dbf563fb8b\" xlink:show=\"new\" xlink:title=\"psysml:b8ece1dd-151a-4631-92e5-c2dbf563fb8b\" xlink:type=\"simple\"><polygon fill=\"#FFFFFF\" points=\"255,49,319,49,326,71.2969,443,71.2969,443,413,255,413,255,49\" style=\"stroke: #000000; stroke-width: 1.5;\"/><line style=\"stroke: #000000; stroke-width: 1.5;\" x1=\"255\" x2=\"326\" y1=\"71.2969\" y2=\"71.2969\"/><text fill=\"#000000\" font-family=\"sans-serif\" font-size=\"14\" font-weight=\"bold\" lengthAdjust=\"spacingAndGlyphs\" textLength=\"58\" x=\"259\" y=\"63.9951\">System</text></a><!--MD5=[60a26617385b1d2d0262a64233df1f8d]\n",
       "class E6--><a href=\"psysml:3db867e9-a237-498d-9697-66a5ca6752eb\" target=\"_top\" title=\"psysml:3db867e9-a237-498d-9697-66a5ca6752eb\" xlink:actuate=\"onRequest\" xlink:href=\"psysml:3db867e9-a237-498d-9697-66a5ca6752eb\" xlink:show=\"new\" xlink:title=\"psysml:3db867e9-a237-498d-9697-66a5ca6752eb\" xlink:type=\"simple\"><rect fill=\"#FFFFFF\" height=\"45.9375\" id=\"E6\" rx=\"10\" ry=\"10\" style=\"stroke: #383838; stroke-width: 1.5;\" width=\"71\" x=\"32.5\" y=\"217.5\"/><text fill=\"#000000\" font-family=\"sans-serif\" font-size=\"12\" font-style=\"italic\" lengthAdjust=\"spacingAndGlyphs\" textLength=\"69\" x=\"33.5\" y=\"233.6387\">«attribute»</text><text fill=\"#000000\" font-family=\"sans-serif\" font-size=\"12\" lengthAdjust=\"spacingAndGlyphs\" textLength=\"6\" x=\"65\" y=\"247.6074\">x</text><line style=\"stroke: #383838; stroke-width: 1.5;\" x1=\"33.5\" x2=\"102.5\" y1=\"255.4375\" y2=\"255.4375\"/></a><!--MD5=[2156ba9850f5573cc1fc38a6a4b2f02b]\n",
       "class E7--><a href=\"psysml:c548d046-cadc-4301-a44e-d185972c752b\" target=\"_top\" title=\"psysml:c548d046-cadc-4301-a44e-d185972c752b\" xlink:actuate=\"onRequest\" xlink:href=\"psysml:c548d046-cadc-4301-a44e-d185972c752b\" xlink:show=\"new\" xlink:title=\"psysml:c548d046-cadc-4301-a44e-d185972c752b\" xlink:type=\"simple\"><rect fill=\"#FFFFFF\" height=\"45.9375\" id=\"E7\" rx=\"10\" ry=\"10\" style=\"stroke: #383838; stroke-width: 1.5;\" width=\"71\" x=\"138.5\" y=\"217.5\"/><text fill=\"#000000\" font-family=\"sans-serif\" font-size=\"12\" font-style=\"italic\" lengthAdjust=\"spacingAndGlyphs\" textLength=\"69\" x=\"139.5\" y=\"233.6387\">«attribute»</text><text fill=\"#000000\" font-family=\"sans-serif\" font-size=\"12\" lengthAdjust=\"spacingAndGlyphs\" textLength=\"6\" x=\"171\" y=\"247.6074\">y</text><line style=\"stroke: #383838; stroke-width: 1.5;\" x1=\"139.5\" x2=\"208.5\" y1=\"255.4375\" y2=\"255.4375\"/></a><!--MD5=[b9389687b975829384b498ac4b7476b2]\n",
       "class E8--><a href=\"psysml:47dc4f88-d05c-4598-a7e7-ecfe5751dc87\" target=\"_top\" title=\"psysml:47dc4f88-d05c-4598-a7e7-ecfe5751dc87\" xlink:actuate=\"onRequest\" xlink:href=\"psysml:47dc4f88-d05c-4598-a7e7-ecfe5751dc87\" xlink:show=\"new\" xlink:title=\"psysml:47dc4f88-d05c-4598-a7e7-ecfe5751dc87\" xlink:type=\"simple\"><rect fill=\"#FFFFFF\" height=\"45.9375\" id=\"E8\" rx=\"10\" ry=\"10\" style=\"stroke: #383838; stroke-width: 1.5;\" width=\"71\" x=\"84.5\" y=\"87.5\"/><text fill=\"#000000\" font-family=\"sans-serif\" font-size=\"12\" font-style=\"italic\" lengthAdjust=\"spacingAndGlyphs\" textLength=\"69\" x=\"85.5\" y=\"103.6387\">«attribute»</text><text fill=\"#000000\" font-family=\"sans-serif\" font-size=\"12\" lengthAdjust=\"spacingAndGlyphs\" textLength=\"5\" x=\"117.5\" y=\"117.6074\">z</text><line style=\"stroke: #383838; stroke-width: 1.5;\" x1=\"85.5\" x2=\"154.5\" y1=\"125.4375\" y2=\"125.4375\"/></a><a href=\"psysml:59f5b99d-24d3-4acd-853e-8f7f0b563d54\" target=\"_top\" title=\"psysml:59f5b99d-24d3-4acd-853e-8f7f0b563d54\" xlink:actuate=\"onRequest\" xlink:href=\"psysml:59f5b99d-24d3-4acd-853e-8f7f0b563d54\" xlink:show=\"new\" xlink:title=\"psysml:59f5b99d-24d3-4acd-853e-8f7f0b563d54\" xlink:type=\"simple\"><polygon fill=\"#FFFFFF\" points=\"271,84,413,84,420,106.2969,427,106.2969,427,136.5938,271,136.5938,271,84\" style=\"stroke: #000000; stroke-width: 1.5;\"/><line style=\"stroke: #000000; stroke-width: 1.5;\" x1=\"271\" x2=\"420\" y1=\"106.2969\" y2=\"106.2969\"/><text fill=\"#000000\" font-family=\"sans-serif\" font-size=\"14\" font-weight=\"bold\" lengthAdjust=\"spacingAndGlyphs\" textLength=\"136\" x=\"275\" y=\"98.9951\">Application Layer</text></a><a href=\"psysml:5cfbc3a5-c556-4af2-acf6-f60fe409e97c\" target=\"_top\" title=\"psysml:5cfbc3a5-c556-4af2-acf6-f60fe409e97c\" xlink:actuate=\"onRequest\" xlink:href=\"psysml:5cfbc3a5-c556-4af2-acf6-f60fe409e97c\" xlink:show=\"new\" xlink:title=\"psysml:5cfbc3a5-c556-4af2-acf6-f60fe409e97c\" xlink:type=\"simple\"><polygon fill=\"#FFFFFF\" points=\"285,214,399,214,406,236.2969,413,236.2969,413,266.5938,285,266.5938,285,214\" style=\"stroke: #000000; stroke-width: 1.5;\"/><line style=\"stroke: #000000; stroke-width: 1.5;\" x1=\"285\" x2=\"406\" y1=\"236.2969\" y2=\"236.2969\"/><text fill=\"#000000\" font-family=\"sans-serif\" font-size=\"14\" font-weight=\"bold\" lengthAdjust=\"spacingAndGlyphs\" textLength=\"108\" x=\"289\" y=\"228.9951\">Service Layer</text></a><a href=\"psysml:acb31344-a810-41ff-bc38-efd03bbf6ecb\" target=\"_top\" title=\"psysml:acb31344-a810-41ff-bc38-efd03bbf6ecb\" xlink:actuate=\"onRequest\" xlink:href=\"psysml:acb31344-a810-41ff-bc38-efd03bbf6ecb\" xlink:show=\"new\" xlink:title=\"psysml:acb31344-a810-41ff-bc38-efd03bbf6ecb\" xlink:type=\"simple\"><polygon fill=\"#FFFFFF\" points=\"297,344,387,344,394,366.2969,401,366.2969,401,396.5938,297,396.5938,297,344\" style=\"stroke: #000000; stroke-width: 1.5;\"/><line style=\"stroke: #000000; stroke-width: 1.5;\" x1=\"297\" x2=\"394\" y1=\"366.2969\" y2=\"366.2969\"/><text fill=\"#000000\" font-family=\"sans-serif\" font-size=\"14\" font-weight=\"bold\" lengthAdjust=\"spacingAndGlyphs\" textLength=\"84\" x=\"301\" y=\"358.9951\">Data Layer</text></a><!--MD5=[af87c684e3b0d8be13c1a698a818ef1e]\n",
       "link E3 to E4--><a href=\"psysml:952f286e-4b84-47c6-949f-c687a4b4f029\" target=\"_top\" title=\"psysml:952f286e-4b84-47c6-949f-c687a4b4f029\" xlink:actuate=\"onRequest\" xlink:href=\"psysml:952f286e-4b84-47c6-949f-c687a4b4f029\" xlink:show=\"new\" xlink:title=\"psysml:952f286e-4b84-47c6-949f-c687a4b4f029\" xlink:type=\"simple\"><path d=\"M349,137.1 C349,156.8 349,184.22 349,205.73 \" fill=\"none\" id=\"E3-&gt;E4\" style=\"stroke: #383838; stroke-width: 1.0; stroke-dasharray: 7.0,7.0;\"/><polygon fill=\"#383838\" points=\"349,213.95,352,205.95,346,205.95,349,213.95\" style=\"stroke: #383838; stroke-width: 1.0;\"/><text fill=\"#000000\" font-family=\"sans-serif\" font-size=\"13\" lengthAdjust=\"spacingAndGlyphs\" textLength=\"64\" x=\"350\" y=\"180.0669\">«depend»</text></a><!--MD5=[1b7591eae5389033d8d09a9d6721a717]\n",
       "link E4 to E5--><a href=\"psysml:7352021b-a74c-4755-9a9f-544f5d5618ed\" target=\"_top\" title=\"psysml:7352021b-a74c-4755-9a9f-544f5d5618ed\" xlink:actuate=\"onRequest\" xlink:href=\"psysml:7352021b-a74c-4755-9a9f-544f5d5618ed\" xlink:show=\"new\" xlink:title=\"psysml:7352021b-a74c-4755-9a9f-544f5d5618ed\" xlink:type=\"simple\"><path d=\"M349,267.1 C349,286.8 349,314.22 349,335.73 \" fill=\"none\" id=\"E4-&gt;E5\" style=\"stroke: #383838; stroke-width: 1.0; stroke-dasharray: 7.0,7.0;\"/><polygon fill=\"#383838\" points=\"349,343.95,352,335.95,346,335.95,349,343.95\" style=\"stroke: #383838; stroke-width: 1.0;\"/><text fill=\"#000000\" font-family=\"sans-serif\" font-size=\"13\" lengthAdjust=\"spacingAndGlyphs\" textLength=\"64\" x=\"350\" y=\"310.0669\">«depend»</text></a><!--MD5=[c5e8897d989ce984f93528998a7150fe]\n",
       "link E8 to E6--><a href=\"psysml:c2ca5ac6-1591-4e08-969e-b115a3bed697\" target=\"_top\" title=\"psysml:c2ca5ac6-1591-4e08-969e-b115a3bed697\" xlink:actuate=\"onRequest\" xlink:href=\"psysml:c2ca5ac6-1591-4e08-969e-b115a3bed697\" xlink:show=\"new\" xlink:title=\"psysml:c2ca5ac6-1591-4e08-969e-b115a3bed697\" xlink:type=\"simple\"><path d=\"M89.42,133.6 C79.35,142.68 69.37,154.11 64,167 C58.5,180.2 58.66,195.94 60.54,209.38 \" fill=\"none\" id=\"E8-&gt;E6\" style=\"stroke: #383838; stroke-width: 1.0; stroke-dasharray: 7.0,7.0;\"/><polygon fill=\"#383838\" points=\"61.9,217.4,63.517,209.0104,57.6018,210.0159,61.9,217.4\" style=\"stroke: #383838; stroke-width: 1.0;\"/><text fill=\"#000000\" font-family=\"sans-serif\" font-size=\"13\" lengthAdjust=\"spacingAndGlyphs\" textLength=\"64\" x=\"65\" y=\"180.0669\">«depend»</text></a><!--MD5=[bfa3c8b0d15052fdf50ae9310b491027]\n",
       "link E8 to E7--><a href=\"psysml:c2ca5ac6-1591-4e08-969e-b115a3bed697\" target=\"_top\" title=\"psysml:c2ca5ac6-1591-4e08-969e-b115a3bed697\" xlink:actuate=\"onRequest\" xlink:href=\"psysml:c2ca5ac6-1591-4e08-969e-b115a3bed697\" xlink:show=\"new\" xlink:title=\"psysml:c2ca5ac6-1591-4e08-969e-b115a3bed697\" xlink:type=\"simple\"><path d=\"M129.28,133.5 C138.17,154.57 151.64,186.5 161.47,209.81 \" fill=\"none\" id=\"E8-&gt;E7\" style=\"stroke: #383838; stroke-width: 1.0; stroke-dasharray: 7.0,7.0;\"/><polygon fill=\"#383838\" points=\"164.66,217.35,164.3241,208.8126,158.7933,211.1385,164.66,217.35\" style=\"stroke: #383838; stroke-width: 1.0;\"/><text fill=\"#000000\" font-family=\"sans-serif\" font-size=\"13\" lengthAdjust=\"spacingAndGlyphs\" textLength=\"64\" x=\"151\" y=\"180.0669\">«depend»</text></a><!--MD5=[f445ca81060a95cd1c4150557b7eda3e]\n",
       "@startuml\r\n",
       "skinparam monochrome true\r\n",
       "skinparam classbackgroundcolor white\r\n",
       "skinparam shadowing false\r\n",
       "skinparam wrapWidth 300\r\n",
       "hide circle\r\n",
       "\r\n",
       "package \"DependencyTest\" as E1  [[psysml:cb8a6054-43e9-4191-a3b4-d53f2df2fcdf ]]  {\r\n",
       "package \"System\" as E2  [[psysml:b8ece1dd-151a-4631-92e5-c2dbf563fb8b ]]  {\r\n",
       "package \"Application Layer\" as E3  [[psysml:59f5b99d-24d3-4acd-853e-8f7f0b563d54 ]]  {\r\n",
       "}\r\n",
       "package \"Service Layer\" as E4  [[psysml:5cfbc3a5-c556-4af2-acf6-f60fe409e97c ]]  {\r\n",
       "}\r\n",
       "package \"Data Layer\" as E5  [[psysml:acb31344-a810-41ff-bc38-efd03bbf6ecb ]]  {\r\n",
       "}\r\n",
       "}\r\n",
       "comp usage \"x\" as E6  <<(T,blue)attribute>> [[psysml:3db867e9-a237-498d-9697-66a5ca6752eb ]] {\r\n",
       "}\r\n",
       "comp usage \"y\" as E7  <<(T,blue)attribute>> [[psysml:c548d046-cadc-4301-a44e-d185972c752b ]] {\r\n",
       "}\r\n",
       "comp usage \"z\" as E8  <<(T,blue)attribute>> [[psysml:47dc4f88-d05c-4598-a7e7-ecfe5751dc87 ]] {\r\n",
       "}\r\n",
       "E3 ..>> E4 [[psysml:952f286e-4b84-47c6-949f-c687a4b4f029 ]] : <<depend>>\r\n",
       "E4 ..>> E5 [[psysml:7352021b-a74c-4755-9a9f-544f5d5618ed ]] : <<depend>>\r\n",
       "E8 ..>> E6 [[psysml:c2ca5ac6-1591-4e08-969e-b115a3bed697 ]] : <<depend>>\r\n",
       "E8 ..>> E7 [[psysml:c2ca5ac6-1591-4e08-969e-b115a3bed697 ]] : <<depend>>\r\n",
       "}\r\n",
       "@enduml\r\n",
       "\n",
       "PlantUML version 1.2020.13(Sat Jun 13 12:26:38 UTC 2020)\n",
       "(EPL source distribution)\n",
       "Java Runtime: OpenJDK Runtime Environment\n",
       "JVM: OpenJDK 64-Bit Server VM\n",
       "Default Encoding: UTF-8\n",
       "Language: en\n",
       "Country: null\n",
       "--></g></svg>"
      ]
     },
     "execution_count": 37,
     "metadata": {},
     "output_type": "execute_result"
    }
   ],
   "source": [
    "%viz --style=\"DEFAULT\" --view=\"Default\" \"DependencyTest\""
   ]
  },
  {
   "cell_type": "code",
   "execution_count": 38,
   "id": "b21930fb",
   "metadata": {
    "execution": {
     "iopub.execute_input": "2021-04-20T07:03:25.916400Z",
     "iopub.status.busy": "2021-04-20T07:03:25.916030Z",
     "iopub.status.idle": "2021-04-20T07:03:25.944216Z",
     "shell.execute_reply": "2021-04-20T07:03:25.944560Z"
    }
   },
   "outputs": [
    {
     "data": {
      "image/svg+xml": [
       "<?xml version=\"1.0\" encoding=\"UTF-8\" standalone=\"no\"?><svg xmlns=\"http://www.w3.org/2000/svg\" xmlns:xlink=\"http://www.w3.org/1999/xlink\" contentScriptType=\"application/ecmascript\" contentStyleType=\"text/css\" height=\"449px\" preserveAspectRatio=\"none\" style=\"width:489px;height:449px;\" version=\"1.1\" viewBox=\"0 0 489 449\" width=\"489px\" zoomAndPan=\"magnify\"><defs/><g><!--MD5=[fbc87193dbaf4d95561dea2c320d4a47]\n",
       "cluster E1--><a href=\"psysml:cb8a6054-43e9-4191-a3b4-d53f2df2fcdf\" target=\"_top\" title=\"psysml:cb8a6054-43e9-4191-a3b4-d53f2df2fcdf\" xlink:actuate=\"onRequest\" xlink:href=\"psysml:cb8a6054-43e9-4191-a3b4-d53f2df2fcdf\" xlink:show=\"new\" xlink:title=\"psysml:cb8a6054-43e9-4191-a3b4-d53f2df2fcdf\" xlink:type=\"simple\"><polygon fill=\"#FFFFFF\" points=\"16,6,156,6,163,28.2969,467,28.2969,467,437,16,437,16,6\" style=\"stroke: #000000; stroke-width: 1.5;\"/><line style=\"stroke: #000000; stroke-width: 1.5;\" x1=\"16\" x2=\"163\" y1=\"28.2969\" y2=\"28.2969\"/><text fill=\"#000000\" font-family=\"sans-serif\" font-size=\"14\" font-weight=\"bold\" lengthAdjust=\"spacingAndGlyphs\" textLength=\"134\" x=\"20\" y=\"20.9951\">DependencyTest</text></a><!--MD5=[e4f7fae6ed58524ba242bb0b0d3be6b7]\n",
       "cluster E2--><a href=\"psysml:b8ece1dd-151a-4631-92e5-c2dbf563fb8b\" target=\"_top\" title=\"psysml:b8ece1dd-151a-4631-92e5-c2dbf563fb8b\" xlink:actuate=\"onRequest\" xlink:href=\"psysml:b8ece1dd-151a-4631-92e5-c2dbf563fb8b\" xlink:show=\"new\" xlink:title=\"psysml:b8ece1dd-151a-4631-92e5-c2dbf563fb8b\" xlink:type=\"simple\"><polygon fill=\"#FFFFFF\" points=\"255,49,319,49,326,71.2969,443,71.2969,443,413,255,413,255,49\" style=\"stroke: #000000; stroke-width: 1.5;\"/><line style=\"stroke: #000000; stroke-width: 1.5;\" x1=\"255\" x2=\"326\" y1=\"71.2969\" y2=\"71.2969\"/><text fill=\"#000000\" font-family=\"sans-serif\" font-size=\"14\" font-weight=\"bold\" lengthAdjust=\"spacingAndGlyphs\" textLength=\"58\" x=\"259\" y=\"63.9951\">System</text></a><!--MD5=[60a26617385b1d2d0262a64233df1f8d]\n",
       "class E6--><a href=\"psysml:3db867e9-a237-498d-9697-66a5ca6752eb\" target=\"_top\" title=\"psysml:3db867e9-a237-498d-9697-66a5ca6752eb\" xlink:actuate=\"onRequest\" xlink:href=\"psysml:3db867e9-a237-498d-9697-66a5ca6752eb\" xlink:show=\"new\" xlink:title=\"psysml:3db867e9-a237-498d-9697-66a5ca6752eb\" xlink:type=\"simple\"><rect fill=\"#FFFFFF\" height=\"45.9375\" id=\"E6\" rx=\"10\" ry=\"10\" style=\"stroke: #383838; stroke-width: 1.5;\" width=\"71\" x=\"32.5\" y=\"217.5\"/><text fill=\"#000000\" font-family=\"sans-serif\" font-size=\"12\" font-style=\"italic\" lengthAdjust=\"spacingAndGlyphs\" textLength=\"69\" x=\"33.5\" y=\"233.6387\">«attribute»</text><text fill=\"#000000\" font-family=\"sans-serif\" font-size=\"12\" lengthAdjust=\"spacingAndGlyphs\" textLength=\"6\" x=\"65\" y=\"247.6074\">x</text><line style=\"stroke: #383838; stroke-width: 1.5;\" x1=\"33.5\" x2=\"102.5\" y1=\"255.4375\" y2=\"255.4375\"/></a><!--MD5=[2156ba9850f5573cc1fc38a6a4b2f02b]\n",
       "class E7--><a href=\"psysml:c548d046-cadc-4301-a44e-d185972c752b\" target=\"_top\" title=\"psysml:c548d046-cadc-4301-a44e-d185972c752b\" xlink:actuate=\"onRequest\" xlink:href=\"psysml:c548d046-cadc-4301-a44e-d185972c752b\" xlink:show=\"new\" xlink:title=\"psysml:c548d046-cadc-4301-a44e-d185972c752b\" xlink:type=\"simple\"><rect fill=\"#FFFFFF\" height=\"45.9375\" id=\"E7\" rx=\"10\" ry=\"10\" style=\"stroke: #383838; stroke-width: 1.5;\" width=\"71\" x=\"138.5\" y=\"217.5\"/><text fill=\"#000000\" font-family=\"sans-serif\" font-size=\"12\" font-style=\"italic\" lengthAdjust=\"spacingAndGlyphs\" textLength=\"69\" x=\"139.5\" y=\"233.6387\">«attribute»</text><text fill=\"#000000\" font-family=\"sans-serif\" font-size=\"12\" lengthAdjust=\"spacingAndGlyphs\" textLength=\"6\" x=\"171\" y=\"247.6074\">y</text><line style=\"stroke: #383838; stroke-width: 1.5;\" x1=\"139.5\" x2=\"208.5\" y1=\"255.4375\" y2=\"255.4375\"/></a><!--MD5=[b9389687b975829384b498ac4b7476b2]\n",
       "class E8--><a href=\"psysml:47dc4f88-d05c-4598-a7e7-ecfe5751dc87\" target=\"_top\" title=\"psysml:47dc4f88-d05c-4598-a7e7-ecfe5751dc87\" xlink:actuate=\"onRequest\" xlink:href=\"psysml:47dc4f88-d05c-4598-a7e7-ecfe5751dc87\" xlink:show=\"new\" xlink:title=\"psysml:47dc4f88-d05c-4598-a7e7-ecfe5751dc87\" xlink:type=\"simple\"><rect fill=\"#FFFFFF\" height=\"45.9375\" id=\"E8\" rx=\"10\" ry=\"10\" style=\"stroke: #383838; stroke-width: 1.5;\" width=\"71\" x=\"84.5\" y=\"87.5\"/><text fill=\"#000000\" font-family=\"sans-serif\" font-size=\"12\" font-style=\"italic\" lengthAdjust=\"spacingAndGlyphs\" textLength=\"69\" x=\"85.5\" y=\"103.6387\">«attribute»</text><text fill=\"#000000\" font-family=\"sans-serif\" font-size=\"12\" lengthAdjust=\"spacingAndGlyphs\" textLength=\"5\" x=\"117.5\" y=\"117.6074\">z</text><line style=\"stroke: #383838; stroke-width: 1.5;\" x1=\"85.5\" x2=\"154.5\" y1=\"125.4375\" y2=\"125.4375\"/></a><a href=\"psysml:59f5b99d-24d3-4acd-853e-8f7f0b563d54\" target=\"_top\" title=\"psysml:59f5b99d-24d3-4acd-853e-8f7f0b563d54\" xlink:actuate=\"onRequest\" xlink:href=\"psysml:59f5b99d-24d3-4acd-853e-8f7f0b563d54\" xlink:show=\"new\" xlink:title=\"psysml:59f5b99d-24d3-4acd-853e-8f7f0b563d54\" xlink:type=\"simple\"><polygon fill=\"#FFFFFF\" points=\"271,84,413,84,420,106.2969,427,106.2969,427,136.5938,271,136.5938,271,84\" style=\"stroke: #000000; stroke-width: 1.5;\"/><line style=\"stroke: #000000; stroke-width: 1.5;\" x1=\"271\" x2=\"420\" y1=\"106.2969\" y2=\"106.2969\"/><text fill=\"#000000\" font-family=\"sans-serif\" font-size=\"14\" font-weight=\"bold\" lengthAdjust=\"spacingAndGlyphs\" textLength=\"136\" x=\"275\" y=\"98.9951\">Application Layer</text></a><a href=\"psysml:5cfbc3a5-c556-4af2-acf6-f60fe409e97c\" target=\"_top\" title=\"psysml:5cfbc3a5-c556-4af2-acf6-f60fe409e97c\" xlink:actuate=\"onRequest\" xlink:href=\"psysml:5cfbc3a5-c556-4af2-acf6-f60fe409e97c\" xlink:show=\"new\" xlink:title=\"psysml:5cfbc3a5-c556-4af2-acf6-f60fe409e97c\" xlink:type=\"simple\"><polygon fill=\"#FFFFFF\" points=\"285,214,399,214,406,236.2969,413,236.2969,413,266.5938,285,266.5938,285,214\" style=\"stroke: #000000; stroke-width: 1.5;\"/><line style=\"stroke: #000000; stroke-width: 1.5;\" x1=\"285\" x2=\"406\" y1=\"236.2969\" y2=\"236.2969\"/><text fill=\"#000000\" font-family=\"sans-serif\" font-size=\"14\" font-weight=\"bold\" lengthAdjust=\"spacingAndGlyphs\" textLength=\"108\" x=\"289\" y=\"228.9951\">Service Layer</text></a><a href=\"psysml:acb31344-a810-41ff-bc38-efd03bbf6ecb\" target=\"_top\" title=\"psysml:acb31344-a810-41ff-bc38-efd03bbf6ecb\" xlink:actuate=\"onRequest\" xlink:href=\"psysml:acb31344-a810-41ff-bc38-efd03bbf6ecb\" xlink:show=\"new\" xlink:title=\"psysml:acb31344-a810-41ff-bc38-efd03bbf6ecb\" xlink:type=\"simple\"><polygon fill=\"#FFFFFF\" points=\"297,344,387,344,394,366.2969,401,366.2969,401,396.5938,297,396.5938,297,344\" style=\"stroke: #000000; stroke-width: 1.5;\"/><line style=\"stroke: #000000; stroke-width: 1.5;\" x1=\"297\" x2=\"394\" y1=\"366.2969\" y2=\"366.2969\"/><text fill=\"#000000\" font-family=\"sans-serif\" font-size=\"14\" font-weight=\"bold\" lengthAdjust=\"spacingAndGlyphs\" textLength=\"84\" x=\"301\" y=\"358.9951\">Data Layer</text></a><!--MD5=[af87c684e3b0d8be13c1a698a818ef1e]\n",
       "link E3 to E4--><a href=\"psysml:952f286e-4b84-47c6-949f-c687a4b4f029\" target=\"_top\" title=\"psysml:952f286e-4b84-47c6-949f-c687a4b4f029\" xlink:actuate=\"onRequest\" xlink:href=\"psysml:952f286e-4b84-47c6-949f-c687a4b4f029\" xlink:show=\"new\" xlink:title=\"psysml:952f286e-4b84-47c6-949f-c687a4b4f029\" xlink:type=\"simple\"><path d=\"M349,137.1 C349,156.8 349,184.22 349,205.73 \" fill=\"none\" id=\"E3-&gt;E4\" style=\"stroke: #383838; stroke-width: 1.0; stroke-dasharray: 7.0,7.0;\"/><polygon fill=\"#383838\" points=\"349,213.95,352,205.95,346,205.95,349,213.95\" style=\"stroke: #383838; stroke-width: 1.0;\"/><text fill=\"#000000\" font-family=\"sans-serif\" font-size=\"13\" lengthAdjust=\"spacingAndGlyphs\" textLength=\"64\" x=\"350\" y=\"180.0669\">«depend»</text></a><!--MD5=[1b7591eae5389033d8d09a9d6721a717]\n",
       "link E4 to E5--><a href=\"psysml:7352021b-a74c-4755-9a9f-544f5d5618ed\" target=\"_top\" title=\"psysml:7352021b-a74c-4755-9a9f-544f5d5618ed\" xlink:actuate=\"onRequest\" xlink:href=\"psysml:7352021b-a74c-4755-9a9f-544f5d5618ed\" xlink:show=\"new\" xlink:title=\"psysml:7352021b-a74c-4755-9a9f-544f5d5618ed\" xlink:type=\"simple\"><path d=\"M349,267.1 C349,286.8 349,314.22 349,335.73 \" fill=\"none\" id=\"E4-&gt;E5\" style=\"stroke: #383838; stroke-width: 1.0; stroke-dasharray: 7.0,7.0;\"/><polygon fill=\"#383838\" points=\"349,343.95,352,335.95,346,335.95,349,343.95\" style=\"stroke: #383838; stroke-width: 1.0;\"/><text fill=\"#000000\" font-family=\"sans-serif\" font-size=\"13\" lengthAdjust=\"spacingAndGlyphs\" textLength=\"64\" x=\"350\" y=\"310.0669\">«depend»</text></a><!--MD5=[c5e8897d989ce984f93528998a7150fe]\n",
       "link E8 to E6--><a href=\"psysml:c2ca5ac6-1591-4e08-969e-b115a3bed697\" target=\"_top\" title=\"psysml:c2ca5ac6-1591-4e08-969e-b115a3bed697\" xlink:actuate=\"onRequest\" xlink:href=\"psysml:c2ca5ac6-1591-4e08-969e-b115a3bed697\" xlink:show=\"new\" xlink:title=\"psysml:c2ca5ac6-1591-4e08-969e-b115a3bed697\" xlink:type=\"simple\"><path d=\"M89.42,133.6 C79.35,142.68 69.37,154.11 64,167 C58.5,180.2 58.66,195.94 60.54,209.38 \" fill=\"none\" id=\"E8-&gt;E6\" style=\"stroke: #383838; stroke-width: 1.0; stroke-dasharray: 7.0,7.0;\"/><polygon fill=\"#383838\" points=\"61.9,217.4,63.517,209.0104,57.6018,210.0159,61.9,217.4\" style=\"stroke: #383838; stroke-width: 1.0;\"/><text fill=\"#000000\" font-family=\"sans-serif\" font-size=\"13\" lengthAdjust=\"spacingAndGlyphs\" textLength=\"64\" x=\"65\" y=\"180.0669\">«depend»</text></a><!--MD5=[bfa3c8b0d15052fdf50ae9310b491027]\n",
       "link E8 to E7--><a href=\"psysml:c2ca5ac6-1591-4e08-969e-b115a3bed697\" target=\"_top\" title=\"psysml:c2ca5ac6-1591-4e08-969e-b115a3bed697\" xlink:actuate=\"onRequest\" xlink:href=\"psysml:c2ca5ac6-1591-4e08-969e-b115a3bed697\" xlink:show=\"new\" xlink:title=\"psysml:c2ca5ac6-1591-4e08-969e-b115a3bed697\" xlink:type=\"simple\"><path d=\"M129.28,133.5 C138.17,154.57 151.64,186.5 161.47,209.81 \" fill=\"none\" id=\"E8-&gt;E7\" style=\"stroke: #383838; stroke-width: 1.0; stroke-dasharray: 7.0,7.0;\"/><polygon fill=\"#383838\" points=\"164.66,217.35,164.3241,208.8126,158.7933,211.1385,164.66,217.35\" style=\"stroke: #383838; stroke-width: 1.0;\"/><text fill=\"#000000\" font-family=\"sans-serif\" font-size=\"13\" lengthAdjust=\"spacingAndGlyphs\" textLength=\"64\" x=\"151\" y=\"180.0669\">«depend»</text></a><!--MD5=[f445ca81060a95cd1c4150557b7eda3e]\n",
       "@startuml\r\n",
       "skinparam monochrome true\r\n",
       "skinparam classbackgroundcolor white\r\n",
       "skinparam shadowing false\r\n",
       "skinparam wrapWidth 300\r\n",
       "hide circle\r\n",
       "\r\n",
       "package \"DependencyTest\" as E1  [[psysml:cb8a6054-43e9-4191-a3b4-d53f2df2fcdf ]]  {\r\n",
       "package \"System\" as E2  [[psysml:b8ece1dd-151a-4631-92e5-c2dbf563fb8b ]]  {\r\n",
       "package \"Application Layer\" as E3  [[psysml:59f5b99d-24d3-4acd-853e-8f7f0b563d54 ]]  {\r\n",
       "}\r\n",
       "package \"Service Layer\" as E4  [[psysml:5cfbc3a5-c556-4af2-acf6-f60fe409e97c ]]  {\r\n",
       "}\r\n",
       "package \"Data Layer\" as E5  [[psysml:acb31344-a810-41ff-bc38-efd03bbf6ecb ]]  {\r\n",
       "}\r\n",
       "}\r\n",
       "comp usage \"x\" as E6  <<(T,blue)attribute>> [[psysml:3db867e9-a237-498d-9697-66a5ca6752eb ]] {\r\n",
       "}\r\n",
       "comp usage \"y\" as E7  <<(T,blue)attribute>> [[psysml:c548d046-cadc-4301-a44e-d185972c752b ]] {\r\n",
       "}\r\n",
       "comp usage \"z\" as E8  <<(T,blue)attribute>> [[psysml:47dc4f88-d05c-4598-a7e7-ecfe5751dc87 ]] {\r\n",
       "}\r\n",
       "E3 ..>> E4 [[psysml:952f286e-4b84-47c6-949f-c687a4b4f029 ]] : <<depend>>\r\n",
       "E4 ..>> E5 [[psysml:7352021b-a74c-4755-9a9f-544f5d5618ed ]] : <<depend>>\r\n",
       "E8 ..>> E6 [[psysml:c2ca5ac6-1591-4e08-969e-b115a3bed697 ]] : <<depend>>\r\n",
       "E8 ..>> E7 [[psysml:c2ca5ac6-1591-4e08-969e-b115a3bed697 ]] : <<depend>>\r\n",
       "}\r\n",
       "@enduml\r\n",
       "\n",
       "PlantUML version 1.2020.13(Sat Jun 13 12:26:38 UTC 2020)\n",
       "(EPL source distribution)\n",
       "Java Runtime: OpenJDK Runtime Environment\n",
       "JVM: OpenJDK 64-Bit Server VM\n",
       "Default Encoding: UTF-8\n",
       "Language: en\n",
       "Country: null\n",
       "--></g></svg>"
      ]
     },
     "execution_count": 38,
     "metadata": {},
     "output_type": "execute_result"
    }
   ],
   "source": [
    "%viz --style=\"DEFAULT\" --view=\"Tree\" \"DependencyTest\""
   ]
  },
  {
   "cell_type": "code",
   "execution_count": 39,
   "id": "0485b23e",
   "metadata": {
    "execution": {
     "iopub.execute_input": "2021-04-20T07:03:25.996296Z",
     "iopub.status.busy": "2021-04-20T07:03:25.995709Z",
     "iopub.status.idle": "2021-04-20T07:03:26.001423Z",
     "shell.execute_reply": "2021-04-20T07:03:26.001150Z"
    }
   },
   "outputs": [
    {
     "data": {
      "image/svg+xml": [
       "<?xml version=\"1.0\" encoding=\"UTF-8\" standalone=\"no\"?><svg xmlns=\"http://www.w3.org/2000/svg\" xmlns:xlink=\"http://www.w3.org/1999/xlink\" contentScriptType=\"application/ecmascript\" contentStyleType=\"text/css\" height=\"12px\" preserveAspectRatio=\"none\" style=\"width:12px;height:12px;\" version=\"1.1\" viewBox=\"0 0 12 12\" width=\"12px\" zoomAndPan=\"magnify\"><defs/><g><!--MD5=[c5f280e076d0d61ccf4b0f27871bda1d]\n",
       "@startuml\r\n",
       "skinparam monochrome true\r\n",
       "skinparam classbackgroundcolor white\r\n",
       "skinparam shadowing false\r\n",
       "skinparam wrapWidth 300\r\n",
       "hide circle\r\n",
       "\r\n",
       "@enduml\r\n",
       "\n",
       "PlantUML version 1.2020.13(Sat Jun 13 12:26:38 UTC 2020)\n",
       "(EPL source distribution)\n",
       "Java Runtime: OpenJDK Runtime Environment\n",
       "JVM: OpenJDK 64-Bit Server VM\n",
       "Default Encoding: UTF-8\n",
       "Language: en\n",
       "Country: null\n",
       "--></g></svg>"
      ]
     },
     "execution_count": 39,
     "metadata": {},
     "output_type": "execute_result"
    }
   ],
   "source": [
    "%viz --style=\"DEFAULT\" --view=\"State\" \"DependencyTest\""
   ]
  },
  {
   "cell_type": "code",
   "execution_count": 40,
   "id": "25a5215a",
   "metadata": {
    "execution": {
     "iopub.execute_input": "2021-04-20T07:03:26.052943Z",
     "iopub.status.busy": "2021-04-20T07:03:26.052457Z",
     "iopub.status.idle": "2021-04-20T07:03:26.084105Z",
     "shell.execute_reply": "2021-04-20T07:03:26.082865Z"
    }
   },
   "outputs": [
    {
     "data": {
      "image/svg+xml": [
       "<?xml version=\"1.0\" encoding=\"UTF-8\" standalone=\"no\"?><svg xmlns=\"http://www.w3.org/2000/svg\" xmlns:xlink=\"http://www.w3.org/1999/xlink\" contentScriptType=\"application/ecmascript\" contentStyleType=\"text/css\" height=\"361px\" preserveAspectRatio=\"none\" style=\"width:489px;height:361px;\" version=\"1.1\" viewBox=\"0 0 489 361\" width=\"489px\" zoomAndPan=\"magnify\"><defs/><g><!--MD5=[fbc87193dbaf4d95561dea2c320d4a47]\n",
       "cluster E1--><a href=\"psysml:cb8a6054-43e9-4191-a3b4-d53f2df2fcdf\" target=\"_top\" title=\"psysml:cb8a6054-43e9-4191-a3b4-d53f2df2fcdf\" xlink:actuate=\"onRequest\" xlink:href=\"psysml:cb8a6054-43e9-4191-a3b4-d53f2df2fcdf\" xlink:show=\"new\" xlink:title=\"psysml:cb8a6054-43e9-4191-a3b4-d53f2df2fcdf\" xlink:type=\"simple\"><polygon fill=\"#FFFFFF\" points=\"16,6,156,6,163,28.2969,467,28.2969,467,349,16,349,16,6\" style=\"stroke: #000000; stroke-width: 1.5;\"/><line style=\"stroke: #000000; stroke-width: 1.5;\" x1=\"16\" x2=\"163\" y1=\"28.2969\" y2=\"28.2969\"/><text fill=\"#000000\" font-family=\"sans-serif\" font-size=\"14\" font-weight=\"bold\" lengthAdjust=\"spacingAndGlyphs\" textLength=\"134\" x=\"20\" y=\"20.9951\">DependencyTest</text></a><!--MD5=[e4f7fae6ed58524ba242bb0b0d3be6b7]\n",
       "cluster E2--><a href=\"psysml:b8ece1dd-151a-4631-92e5-c2dbf563fb8b\" target=\"_top\" title=\"psysml:b8ece1dd-151a-4631-92e5-c2dbf563fb8b\" xlink:actuate=\"onRequest\" xlink:href=\"psysml:b8ece1dd-151a-4631-92e5-c2dbf563fb8b\" xlink:show=\"new\" xlink:title=\"psysml:b8ece1dd-151a-4631-92e5-c2dbf563fb8b\" xlink:type=\"simple\"><polygon fill=\"#FFFFFF\" points=\"255,49,319,49,326,71.2969,443,71.2969,443,325,255,325,255,49\" style=\"stroke: #000000; stroke-width: 1.5;\"/><line style=\"stroke: #000000; stroke-width: 1.5;\" x1=\"255\" x2=\"326\" y1=\"71.2969\" y2=\"71.2969\"/><text fill=\"#000000\" font-family=\"sans-serif\" font-size=\"14\" font-weight=\"bold\" lengthAdjust=\"spacingAndGlyphs\" textLength=\"58\" x=\"259\" y=\"63.9951\">System</text></a><!--MD5=[60a26617385b1d2d0262a64233df1f8d]\n",
       "class E6--><a href=\"psysml:3db867e9-a237-498d-9697-66a5ca6752eb\" target=\"_top\" title=\"psysml:3db867e9-a237-498d-9697-66a5ca6752eb\" xlink:actuate=\"onRequest\" xlink:href=\"psysml:3db867e9-a237-498d-9697-66a5ca6752eb\" xlink:show=\"new\" xlink:title=\"psysml:3db867e9-a237-498d-9697-66a5ca6752eb\" xlink:type=\"simple\"><rect fill=\"#FFFFFF\" height=\"45.9375\" id=\"E6\" rx=\"10\" ry=\"10\" style=\"stroke: #383838; stroke-width: 1.5;\" width=\"71\" x=\"32.5\" y=\"173.5\"/><text fill=\"#000000\" font-family=\"sans-serif\" font-size=\"12\" font-style=\"italic\" lengthAdjust=\"spacingAndGlyphs\" textLength=\"69\" x=\"33.5\" y=\"189.6387\">«attribute»</text><text fill=\"#000000\" font-family=\"sans-serif\" font-size=\"12\" lengthAdjust=\"spacingAndGlyphs\" textLength=\"6\" x=\"65\" y=\"203.6074\">x</text><line style=\"stroke: #383838; stroke-width: 1.5;\" x1=\"33.5\" x2=\"102.5\" y1=\"211.4375\" y2=\"211.4375\"/></a><!--MD5=[2156ba9850f5573cc1fc38a6a4b2f02b]\n",
       "class E7--><a href=\"psysml:c548d046-cadc-4301-a44e-d185972c752b\" target=\"_top\" title=\"psysml:c548d046-cadc-4301-a44e-d185972c752b\" xlink:actuate=\"onRequest\" xlink:href=\"psysml:c548d046-cadc-4301-a44e-d185972c752b\" xlink:show=\"new\" xlink:title=\"psysml:c548d046-cadc-4301-a44e-d185972c752b\" xlink:type=\"simple\"><rect fill=\"#FFFFFF\" height=\"45.9375\" id=\"E7\" rx=\"10\" ry=\"10\" style=\"stroke: #383838; stroke-width: 1.5;\" width=\"71\" x=\"138.5\" y=\"173.5\"/><text fill=\"#000000\" font-family=\"sans-serif\" font-size=\"12\" font-style=\"italic\" lengthAdjust=\"spacingAndGlyphs\" textLength=\"69\" x=\"139.5\" y=\"189.6387\">«attribute»</text><text fill=\"#000000\" font-family=\"sans-serif\" font-size=\"12\" lengthAdjust=\"spacingAndGlyphs\" textLength=\"6\" x=\"171\" y=\"203.6074\">y</text><line style=\"stroke: #383838; stroke-width: 1.5;\" x1=\"139.5\" x2=\"208.5\" y1=\"211.4375\" y2=\"211.4375\"/></a><!--MD5=[b9389687b975829384b498ac4b7476b2]\n",
       "class E8--><a href=\"psysml:47dc4f88-d05c-4598-a7e7-ecfe5751dc87\" target=\"_top\" title=\"psysml:47dc4f88-d05c-4598-a7e7-ecfe5751dc87\" xlink:actuate=\"onRequest\" xlink:href=\"psysml:47dc4f88-d05c-4598-a7e7-ecfe5751dc87\" xlink:show=\"new\" xlink:title=\"psysml:47dc4f88-d05c-4598-a7e7-ecfe5751dc87\" xlink:type=\"simple\"><rect fill=\"#FFFFFF\" height=\"45.9375\" id=\"E8\" rx=\"10\" ry=\"10\" style=\"stroke: #383838; stroke-width: 1.5;\" width=\"71\" x=\"84.5\" y=\"87.5\"/><text fill=\"#000000\" font-family=\"sans-serif\" font-size=\"12\" font-style=\"italic\" lengthAdjust=\"spacingAndGlyphs\" textLength=\"69\" x=\"85.5\" y=\"103.6387\">«attribute»</text><text fill=\"#000000\" font-family=\"sans-serif\" font-size=\"12\" lengthAdjust=\"spacingAndGlyphs\" textLength=\"5\" x=\"117.5\" y=\"117.6074\">z</text><line style=\"stroke: #383838; stroke-width: 1.5;\" x1=\"85.5\" x2=\"154.5\" y1=\"125.4375\" y2=\"125.4375\"/></a><a href=\"psysml:59f5b99d-24d3-4acd-853e-8f7f0b563d54\" target=\"_top\" title=\"psysml:59f5b99d-24d3-4acd-853e-8f7f0b563d54\" xlink:actuate=\"onRequest\" xlink:href=\"psysml:59f5b99d-24d3-4acd-853e-8f7f0b563d54\" xlink:show=\"new\" xlink:title=\"psysml:59f5b99d-24d3-4acd-853e-8f7f0b563d54\" xlink:type=\"simple\"><polygon fill=\"#FFFFFF\" points=\"271,84,413,84,420,106.2969,427,106.2969,427,136.5938,271,136.5938,271,84\" style=\"stroke: #000000; stroke-width: 1.5;\"/><line style=\"stroke: #000000; stroke-width: 1.5;\" x1=\"271\" x2=\"420\" y1=\"106.2969\" y2=\"106.2969\"/><text fill=\"#000000\" font-family=\"sans-serif\" font-size=\"14\" font-weight=\"bold\" lengthAdjust=\"spacingAndGlyphs\" textLength=\"136\" x=\"275\" y=\"98.9951\">Application Layer</text></a><a href=\"psysml:5cfbc3a5-c556-4af2-acf6-f60fe409e97c\" target=\"_top\" title=\"psysml:5cfbc3a5-c556-4af2-acf6-f60fe409e97c\" xlink:actuate=\"onRequest\" xlink:href=\"psysml:5cfbc3a5-c556-4af2-acf6-f60fe409e97c\" xlink:show=\"new\" xlink:title=\"psysml:5cfbc3a5-c556-4af2-acf6-f60fe409e97c\" xlink:type=\"simple\"><polygon fill=\"#FFFFFF\" points=\"285,170,399,170,406,192.2969,413,192.2969,413,222.5938,285,222.5938,285,170\" style=\"stroke: #000000; stroke-width: 1.5;\"/><line style=\"stroke: #000000; stroke-width: 1.5;\" x1=\"285\" x2=\"406\" y1=\"192.2969\" y2=\"192.2969\"/><text fill=\"#000000\" font-family=\"sans-serif\" font-size=\"14\" font-weight=\"bold\" lengthAdjust=\"spacingAndGlyphs\" textLength=\"108\" x=\"289\" y=\"184.9951\">Service Layer</text></a><a href=\"psysml:acb31344-a810-41ff-bc38-efd03bbf6ecb\" target=\"_top\" title=\"psysml:acb31344-a810-41ff-bc38-efd03bbf6ecb\" xlink:actuate=\"onRequest\" xlink:href=\"psysml:acb31344-a810-41ff-bc38-efd03bbf6ecb\" xlink:show=\"new\" xlink:title=\"psysml:acb31344-a810-41ff-bc38-efd03bbf6ecb\" xlink:type=\"simple\"><polygon fill=\"#FFFFFF\" points=\"297,256,387,256,394,278.2969,401,278.2969,401,308.5938,297,308.5938,297,256\" style=\"stroke: #000000; stroke-width: 1.5;\"/><line style=\"stroke: #000000; stroke-width: 1.5;\" x1=\"297\" x2=\"394\" y1=\"278.2969\" y2=\"278.2969\"/><text fill=\"#000000\" font-family=\"sans-serif\" font-size=\"14\" font-weight=\"bold\" lengthAdjust=\"spacingAndGlyphs\" textLength=\"84\" x=\"301\" y=\"270.9951\">Data Layer</text></a><!--MD5=[af87c684e3b0d8be13c1a698a818ef1e]\n",
       "link E3 to E4--><a href=\"psysml:952f286e-4b84-47c6-949f-c687a4b4f029\" target=\"_top\" title=\"psysml:952f286e-4b84-47c6-949f-c687a4b4f029\" xlink:actuate=\"onRequest\" xlink:href=\"psysml:952f286e-4b84-47c6-949f-c687a4b4f029\" xlink:show=\"new\" xlink:title=\"psysml:952f286e-4b84-47c6-949f-c687a4b4f029\" xlink:type=\"simple\"><path d=\"M349,137.16 C349,144.98 349,153.69 349,161.94 \" fill=\"none\" id=\"E3-&gt;E4\" style=\"stroke: #383838; stroke-width: 1.0; stroke-dasharray: 7.0,7.0;\"/><polygon fill=\"#383838\" points=\"349,170,352,162,346,162,349,170\" style=\"stroke: #383838; stroke-width: 1.0;\"/><text fill=\"#000000\" font-family=\"sans-serif\" font-size=\"13\" lengthAdjust=\"spacingAndGlyphs\" textLength=\"64\" x=\"350\" y=\"158.0669\">«depend»</text></a><!--MD5=[1b7591eae5389033d8d09a9d6721a717]\n",
       "link E4 to E5--><a href=\"psysml:7352021b-a74c-4755-9a9f-544f5d5618ed\" target=\"_top\" title=\"psysml:7352021b-a74c-4755-9a9f-544f5d5618ed\" xlink:actuate=\"onRequest\" xlink:href=\"psysml:7352021b-a74c-4755-9a9f-544f5d5618ed\" xlink:show=\"new\" xlink:title=\"psysml:7352021b-a74c-4755-9a9f-544f5d5618ed\" xlink:type=\"simple\"><path d=\"M349,223.16 C349,230.98 349,239.69 349,247.94 \" fill=\"none\" id=\"E4-&gt;E5\" style=\"stroke: #383838; stroke-width: 1.0; stroke-dasharray: 7.0,7.0;\"/><polygon fill=\"#383838\" points=\"349,256,352,248,346,248,349,256\" style=\"stroke: #383838; stroke-width: 1.0;\"/><text fill=\"#000000\" font-family=\"sans-serif\" font-size=\"13\" lengthAdjust=\"spacingAndGlyphs\" textLength=\"64\" x=\"350\" y=\"244.0669\">«depend»</text></a><!--MD5=[c5e8897d989ce984f93528998a7150fe]\n",
       "link E8 to E6--><a href=\"psysml:c2ca5ac6-1591-4e08-969e-b115a3bed697\" target=\"_top\" title=\"psysml:c2ca5ac6-1591-4e08-969e-b115a3bed697\" xlink:actuate=\"onRequest\" xlink:href=\"psysml:c2ca5ac6-1591-4e08-969e-b115a3bed697\" xlink:show=\"new\" xlink:title=\"psysml:c2ca5ac6-1591-4e08-969e-b115a3bed697\" xlink:type=\"simple\"><path d=\"M84.49,125.34 C76.34,130.27 68.69,136.72 64,145 C60.54,151.1 59.62,158.31 60,165.33 \" fill=\"none\" id=\"E8-&gt;E6\" style=\"stroke: #383838; stroke-width: 1.0; stroke-dasharray: 7.0,7.0;\"/><polygon fill=\"#383838\" points=\"60.97,173.42,63.0061,165.1221,57.0479,165.8294,60.97,173.42\" style=\"stroke: #383838; stroke-width: 1.0;\"/><text fill=\"#000000\" font-family=\"sans-serif\" font-size=\"13\" lengthAdjust=\"spacingAndGlyphs\" textLength=\"64\" x=\"65\" y=\"158.0669\">«depend»</text></a><!--MD5=[bfa3c8b0d15052fdf50ae9310b491027]\n",
       "link E8 to E7--><a href=\"psysml:c2ca5ac6-1591-4e08-969e-b115a3bed697\" target=\"_top\" title=\"psysml:c2ca5ac6-1591-4e08-969e-b115a3bed697\" xlink:actuate=\"onRequest\" xlink:href=\"psysml:c2ca5ac6-1591-4e08-969e-b115a3bed697\" xlink:show=\"new\" xlink:title=\"psysml:c2ca5ac6-1591-4e08-969e-b115a3bed697\" xlink:type=\"simple\"><path d=\"M134.19,133.57 C140.65,143.62 148.38,155.65 155.31,166.42 \" fill=\"none\" id=\"E8-&gt;E7\" style=\"stroke: #383838; stroke-width: 1.0; stroke-dasharray: 7.0,7.0;\"/><polygon fill=\"#383838\" points=\"159.72,173.29,157.9148,164.9389,152.8688,168.185,159.72,173.29\" style=\"stroke: #383838; stroke-width: 1.0;\"/><text fill=\"#000000\" font-family=\"sans-serif\" font-size=\"13\" lengthAdjust=\"spacingAndGlyphs\" textLength=\"64\" x=\"152\" y=\"158.0669\">«depend»</text></a><!--MD5=[242df40d41c4f4283edd7718163a9991]\n",
       "@startuml\r\n",
       "skinparam ranksep 10\r\n",
       "skinparam rectangle {\r\n",
       " backgroundColor<<block>> LightGreen\r\n",
       "}\r\n",
       "skinparam monochrome true\r\n",
       "skinparam classbackgroundcolor white\r\n",
       "skinparam shadowing false\r\n",
       "skinparam wrapWidth 300\r\n",
       "hide circle\r\n",
       "\r\n",
       "package \"DependencyTest\" as E1  [[psysml:cb8a6054-43e9-4191-a3b4-d53f2df2fcdf ]]  {\r\n",
       "package \"System\" as E2  [[psysml:b8ece1dd-151a-4631-92e5-c2dbf563fb8b ]]  {\r\n",
       "package \"Application Layer\" as E3  [[psysml:59f5b99d-24d3-4acd-853e-8f7f0b563d54 ]]  {\r\n",
       "}\r\n",
       "package \"Service Layer\" as E4  [[psysml:5cfbc3a5-c556-4af2-acf6-f60fe409e97c ]]  {\r\n",
       "}\r\n",
       "package \"Data Layer\" as E5  [[psysml:acb31344-a810-41ff-bc38-efd03bbf6ecb ]]  {\r\n",
       "}\r\n",
       "}\r\n",
       "comp usage \"x\" as E6  <<(T,blue)attribute>> [[psysml:3db867e9-a237-498d-9697-66a5ca6752eb ]] {\r\n",
       "}\r\n",
       "comp usage \"y\" as E7  <<(T,blue)attribute>> [[psysml:c548d046-cadc-4301-a44e-d185972c752b ]] {\r\n",
       "}\r\n",
       "comp usage \"z\" as E8  <<(T,blue)attribute>> [[psysml:47dc4f88-d05c-4598-a7e7-ecfe5751dc87 ]] {\r\n",
       "}\r\n",
       "E3 ..>> E4 [[psysml:952f286e-4b84-47c6-949f-c687a4b4f029 ]] : <<depend>>\r\n",
       "E4 ..>> E5 [[psysml:7352021b-a74c-4755-9a9f-544f5d5618ed ]] : <<depend>>\r\n",
       "E8 ..>> E6 [[psysml:c2ca5ac6-1591-4e08-969e-b115a3bed697 ]] : <<depend>>\r\n",
       "E8 ..>> E7 [[psysml:c2ca5ac6-1591-4e08-969e-b115a3bed697 ]] : <<depend>>\r\n",
       "}\r\n",
       "@enduml\r\n",
       "\n",
       "PlantUML version 1.2020.13(Sat Jun 13 12:26:38 UTC 2020)\n",
       "(EPL source distribution)\n",
       "Java Runtime: OpenJDK Runtime Environment\n",
       "JVM: OpenJDK 64-Bit Server VM\n",
       "Default Encoding: UTF-8\n",
       "Language: en\n",
       "Country: null\n",
       "--></g></svg>"
      ]
     },
     "execution_count": 40,
     "metadata": {},
     "output_type": "execute_result"
    }
   ],
   "source": [
    "%viz --style=\"DEFAULT\" --view=\"Interconnection\" \"DependencyTest\""
   ]
  },
  {
   "cell_type": "code",
   "execution_count": 41,
   "id": "95ce8ce5",
   "metadata": {
    "execution": {
     "iopub.execute_input": "2021-04-20T07:03:26.135989Z",
     "iopub.status.busy": "2021-04-20T07:03:26.135546Z",
     "iopub.status.idle": "2021-04-20T07:03:26.139010Z",
     "shell.execute_reply": "2021-04-20T07:03:26.138642Z"
    }
   },
   "outputs": [
    {
     "data": {
      "image/svg+xml": [
       "<?xml version=\"1.0\" encoding=\"UTF-8\" standalone=\"no\"?><svg xmlns=\"http://www.w3.org/2000/svg\" xmlns:xlink=\"http://www.w3.org/1999/xlink\" contentScriptType=\"application/ecmascript\" contentStyleType=\"text/css\" height=\"12px\" preserveAspectRatio=\"none\" style=\"width:12px;height:12px;\" version=\"1.1\" viewBox=\"0 0 12 12\" width=\"12px\" zoomAndPan=\"magnify\"><defs/><g><!--MD5=[388f21188e31bfdd97050473b19af356]\n",
       "@startuml\r\n",
       "skinparam ranksep 8\r\n",
       "skinparam monochrome true\r\n",
       "skinparam classbackgroundcolor white\r\n",
       "skinparam shadowing false\r\n",
       "skinparam wrapWidth 300\r\n",
       "hide circle\r\n",
       "\r\n",
       "@enduml\r\n",
       "\n",
       "PlantUML version 1.2020.13(Sat Jun 13 12:26:38 UTC 2020)\n",
       "(EPL source distribution)\n",
       "Java Runtime: OpenJDK Runtime Environment\n",
       "JVM: OpenJDK 64-Bit Server VM\n",
       "Default Encoding: UTF-8\n",
       "Language: en\n",
       "Country: null\n",
       "--></g></svg>"
      ]
     },
     "execution_count": 41,
     "metadata": {},
     "output_type": "execute_result"
    }
   ],
   "source": [
    "%viz --style=\"DEFAULT\" --view=\"Action\" \"DependencyTest\""
   ]
  },
  {
   "cell_type": "code",
   "execution_count": 42,
   "id": "2673ddd5",
   "metadata": {
    "execution": {
     "iopub.execute_input": "2021-04-20T07:03:26.189816Z",
     "iopub.status.busy": "2021-04-20T07:03:26.189315Z",
     "iopub.status.idle": "2021-04-20T07:03:26.219096Z",
     "shell.execute_reply": "2021-04-20T07:03:26.217701Z"
    }
   },
   "outputs": [
    {
     "data": {
      "image/svg+xml": [
       "<?xml version=\"1.0\" encoding=\"UTF-8\" standalone=\"no\"?><svg xmlns=\"http://www.w3.org/2000/svg\" xmlns:xlink=\"http://www.w3.org/1999/xlink\" contentScriptType=\"application/ecmascript\" contentStyleType=\"text/css\" height=\"449px\" preserveAspectRatio=\"none\" style=\"width:489px;height:449px;\" version=\"1.1\" viewBox=\"0 0 489 449\" width=\"489px\" zoomAndPan=\"magnify\"><defs/><g><!--MD5=[fbc87193dbaf4d95561dea2c320d4a47]\n",
       "cluster E1--><a href=\"psysml:cb8a6054-43e9-4191-a3b4-d53f2df2fcdf\" target=\"_top\" title=\"psysml:cb8a6054-43e9-4191-a3b4-d53f2df2fcdf\" xlink:actuate=\"onRequest\" xlink:href=\"psysml:cb8a6054-43e9-4191-a3b4-d53f2df2fcdf\" xlink:show=\"new\" xlink:title=\"psysml:cb8a6054-43e9-4191-a3b4-d53f2df2fcdf\" xlink:type=\"simple\"><polygon fill=\"#FFFFFF\" points=\"16,6,156,6,163,28.2969,467,28.2969,467,437,16,437,16,6\" style=\"stroke: #000000; stroke-width: 1.5;\"/><line style=\"stroke: #000000; stroke-width: 1.5;\" x1=\"16\" x2=\"163\" y1=\"28.2969\" y2=\"28.2969\"/><text fill=\"#000000\" font-family=\"sans-serif\" font-size=\"14\" font-weight=\"bold\" lengthAdjust=\"spacingAndGlyphs\" textLength=\"134\" x=\"20\" y=\"20.9951\">DependencyTest</text></a><!--MD5=[e4f7fae6ed58524ba242bb0b0d3be6b7]\n",
       "cluster E2--><a href=\"psysml:b8ece1dd-151a-4631-92e5-c2dbf563fb8b\" target=\"_top\" title=\"psysml:b8ece1dd-151a-4631-92e5-c2dbf563fb8b\" xlink:actuate=\"onRequest\" xlink:href=\"psysml:b8ece1dd-151a-4631-92e5-c2dbf563fb8b\" xlink:show=\"new\" xlink:title=\"psysml:b8ece1dd-151a-4631-92e5-c2dbf563fb8b\" xlink:type=\"simple\"><polygon fill=\"#FFFFFF\" points=\"255,49,319,49,326,71.2969,443,71.2969,443,413,255,413,255,49\" style=\"stroke: #000000; stroke-width: 1.5;\"/><line style=\"stroke: #000000; stroke-width: 1.5;\" x1=\"255\" x2=\"326\" y1=\"71.2969\" y2=\"71.2969\"/><text fill=\"#000000\" font-family=\"sans-serif\" font-size=\"14\" font-weight=\"bold\" lengthAdjust=\"spacingAndGlyphs\" textLength=\"58\" x=\"259\" y=\"63.9951\">System</text></a><!--MD5=[60a26617385b1d2d0262a64233df1f8d]\n",
       "class E6--><a href=\"psysml:3db867e9-a237-498d-9697-66a5ca6752eb\" target=\"_top\" title=\"psysml:3db867e9-a237-498d-9697-66a5ca6752eb\" xlink:actuate=\"onRequest\" xlink:href=\"psysml:3db867e9-a237-498d-9697-66a5ca6752eb\" xlink:show=\"new\" xlink:title=\"psysml:3db867e9-a237-498d-9697-66a5ca6752eb\" xlink:type=\"simple\"><rect fill=\"#FFFFFF\" height=\"45.9375\" id=\"E6\" rx=\"10\" ry=\"10\" style=\"stroke: #383838; stroke-width: 1.5;\" width=\"71\" x=\"32.5\" y=\"217.5\"/><text fill=\"#000000\" font-family=\"sans-serif\" font-size=\"12\" font-style=\"italic\" lengthAdjust=\"spacingAndGlyphs\" textLength=\"69\" x=\"33.5\" y=\"233.6387\">«attribute»</text><text fill=\"#000000\" font-family=\"sans-serif\" font-size=\"12\" lengthAdjust=\"spacingAndGlyphs\" textLength=\"6\" x=\"65\" y=\"247.6074\">x</text><line style=\"stroke: #383838; stroke-width: 1.5;\" x1=\"33.5\" x2=\"102.5\" y1=\"255.4375\" y2=\"255.4375\"/></a><!--MD5=[2156ba9850f5573cc1fc38a6a4b2f02b]\n",
       "class E7--><a href=\"psysml:c548d046-cadc-4301-a44e-d185972c752b\" target=\"_top\" title=\"psysml:c548d046-cadc-4301-a44e-d185972c752b\" xlink:actuate=\"onRequest\" xlink:href=\"psysml:c548d046-cadc-4301-a44e-d185972c752b\" xlink:show=\"new\" xlink:title=\"psysml:c548d046-cadc-4301-a44e-d185972c752b\" xlink:type=\"simple\"><rect fill=\"#FFFFFF\" height=\"45.9375\" id=\"E7\" rx=\"10\" ry=\"10\" style=\"stroke: #383838; stroke-width: 1.5;\" width=\"71\" x=\"138.5\" y=\"217.5\"/><text fill=\"#000000\" font-family=\"sans-serif\" font-size=\"12\" font-style=\"italic\" lengthAdjust=\"spacingAndGlyphs\" textLength=\"69\" x=\"139.5\" y=\"233.6387\">«attribute»</text><text fill=\"#000000\" font-family=\"sans-serif\" font-size=\"12\" lengthAdjust=\"spacingAndGlyphs\" textLength=\"6\" x=\"171\" y=\"247.6074\">y</text><line style=\"stroke: #383838; stroke-width: 1.5;\" x1=\"139.5\" x2=\"208.5\" y1=\"255.4375\" y2=\"255.4375\"/></a><!--MD5=[b9389687b975829384b498ac4b7476b2]\n",
       "class E8--><a href=\"psysml:47dc4f88-d05c-4598-a7e7-ecfe5751dc87\" target=\"_top\" title=\"psysml:47dc4f88-d05c-4598-a7e7-ecfe5751dc87\" xlink:actuate=\"onRequest\" xlink:href=\"psysml:47dc4f88-d05c-4598-a7e7-ecfe5751dc87\" xlink:show=\"new\" xlink:title=\"psysml:47dc4f88-d05c-4598-a7e7-ecfe5751dc87\" xlink:type=\"simple\"><rect fill=\"#FFFFFF\" height=\"45.9375\" id=\"E8\" rx=\"10\" ry=\"10\" style=\"stroke: #383838; stroke-width: 1.5;\" width=\"71\" x=\"84.5\" y=\"87.5\"/><text fill=\"#000000\" font-family=\"sans-serif\" font-size=\"12\" font-style=\"italic\" lengthAdjust=\"spacingAndGlyphs\" textLength=\"69\" x=\"85.5\" y=\"103.6387\">«attribute»</text><text fill=\"#000000\" font-family=\"sans-serif\" font-size=\"12\" lengthAdjust=\"spacingAndGlyphs\" textLength=\"5\" x=\"117.5\" y=\"117.6074\">z</text><line style=\"stroke: #383838; stroke-width: 1.5;\" x1=\"85.5\" x2=\"154.5\" y1=\"125.4375\" y2=\"125.4375\"/></a><a href=\"psysml:59f5b99d-24d3-4acd-853e-8f7f0b563d54\" target=\"_top\" title=\"psysml:59f5b99d-24d3-4acd-853e-8f7f0b563d54\" xlink:actuate=\"onRequest\" xlink:href=\"psysml:59f5b99d-24d3-4acd-853e-8f7f0b563d54\" xlink:show=\"new\" xlink:title=\"psysml:59f5b99d-24d3-4acd-853e-8f7f0b563d54\" xlink:type=\"simple\"><polygon fill=\"#FFFFFF\" points=\"271,84,413,84,420,106.2969,427,106.2969,427,136.5938,271,136.5938,271,84\" style=\"stroke: #000000; stroke-width: 1.5;\"/><line style=\"stroke: #000000; stroke-width: 1.5;\" x1=\"271\" x2=\"420\" y1=\"106.2969\" y2=\"106.2969\"/><text fill=\"#000000\" font-family=\"sans-serif\" font-size=\"14\" font-weight=\"bold\" lengthAdjust=\"spacingAndGlyphs\" textLength=\"136\" x=\"275\" y=\"98.9951\">Application Layer</text></a><a href=\"psysml:5cfbc3a5-c556-4af2-acf6-f60fe409e97c\" target=\"_top\" title=\"psysml:5cfbc3a5-c556-4af2-acf6-f60fe409e97c\" xlink:actuate=\"onRequest\" xlink:href=\"psysml:5cfbc3a5-c556-4af2-acf6-f60fe409e97c\" xlink:show=\"new\" xlink:title=\"psysml:5cfbc3a5-c556-4af2-acf6-f60fe409e97c\" xlink:type=\"simple\"><polygon fill=\"#FFFFFF\" points=\"285,214,399,214,406,236.2969,413,236.2969,413,266.5938,285,266.5938,285,214\" style=\"stroke: #000000; stroke-width: 1.5;\"/><line style=\"stroke: #000000; stroke-width: 1.5;\" x1=\"285\" x2=\"406\" y1=\"236.2969\" y2=\"236.2969\"/><text fill=\"#000000\" font-family=\"sans-serif\" font-size=\"14\" font-weight=\"bold\" lengthAdjust=\"spacingAndGlyphs\" textLength=\"108\" x=\"289\" y=\"228.9951\">Service Layer</text></a><a href=\"psysml:acb31344-a810-41ff-bc38-efd03bbf6ecb\" target=\"_top\" title=\"psysml:acb31344-a810-41ff-bc38-efd03bbf6ecb\" xlink:actuate=\"onRequest\" xlink:href=\"psysml:acb31344-a810-41ff-bc38-efd03bbf6ecb\" xlink:show=\"new\" xlink:title=\"psysml:acb31344-a810-41ff-bc38-efd03bbf6ecb\" xlink:type=\"simple\"><polygon fill=\"#FFFFFF\" points=\"297,344,387,344,394,366.2969,401,366.2969,401,396.5938,297,396.5938,297,344\" style=\"stroke: #000000; stroke-width: 1.5;\"/><line style=\"stroke: #000000; stroke-width: 1.5;\" x1=\"297\" x2=\"394\" y1=\"366.2969\" y2=\"366.2969\"/><text fill=\"#000000\" font-family=\"sans-serif\" font-size=\"14\" font-weight=\"bold\" lengthAdjust=\"spacingAndGlyphs\" textLength=\"84\" x=\"301\" y=\"358.9951\">Data Layer</text></a><!--MD5=[af87c684e3b0d8be13c1a698a818ef1e]\n",
       "link E3 to E4--><a href=\"psysml:952f286e-4b84-47c6-949f-c687a4b4f029\" target=\"_top\" title=\"psysml:952f286e-4b84-47c6-949f-c687a4b4f029\" xlink:actuate=\"onRequest\" xlink:href=\"psysml:952f286e-4b84-47c6-949f-c687a4b4f029\" xlink:show=\"new\" xlink:title=\"psysml:952f286e-4b84-47c6-949f-c687a4b4f029\" xlink:type=\"simple\"><path d=\"M349,137.1 C349,156.8 349,184.22 349,205.73 \" fill=\"none\" id=\"E3-&gt;E4\" style=\"stroke: #383838; stroke-width: 1.0; stroke-dasharray: 7.0,7.0;\"/><polygon fill=\"#383838\" points=\"349,213.95,352,205.95,346,205.95,349,213.95\" style=\"stroke: #383838; stroke-width: 1.0;\"/><text fill=\"#000000\" font-family=\"sans-serif\" font-size=\"13\" lengthAdjust=\"spacingAndGlyphs\" textLength=\"64\" x=\"350\" y=\"180.0669\">«depend»</text></a><!--MD5=[1b7591eae5389033d8d09a9d6721a717]\n",
       "link E4 to E5--><a href=\"psysml:7352021b-a74c-4755-9a9f-544f5d5618ed\" target=\"_top\" title=\"psysml:7352021b-a74c-4755-9a9f-544f5d5618ed\" xlink:actuate=\"onRequest\" xlink:href=\"psysml:7352021b-a74c-4755-9a9f-544f5d5618ed\" xlink:show=\"new\" xlink:title=\"psysml:7352021b-a74c-4755-9a9f-544f5d5618ed\" xlink:type=\"simple\"><path d=\"M349,267.1 C349,286.8 349,314.22 349,335.73 \" fill=\"none\" id=\"E4-&gt;E5\" style=\"stroke: #383838; stroke-width: 1.0; stroke-dasharray: 7.0,7.0;\"/><polygon fill=\"#383838\" points=\"349,343.95,352,335.95,346,335.95,349,343.95\" style=\"stroke: #383838; stroke-width: 1.0;\"/><text fill=\"#000000\" font-family=\"sans-serif\" font-size=\"13\" lengthAdjust=\"spacingAndGlyphs\" textLength=\"64\" x=\"350\" y=\"310.0669\">«depend»</text></a><!--MD5=[c5e8897d989ce984f93528998a7150fe]\n",
       "link E8 to E6--><a href=\"psysml:c2ca5ac6-1591-4e08-969e-b115a3bed697\" target=\"_top\" title=\"psysml:c2ca5ac6-1591-4e08-969e-b115a3bed697\" xlink:actuate=\"onRequest\" xlink:href=\"psysml:c2ca5ac6-1591-4e08-969e-b115a3bed697\" xlink:show=\"new\" xlink:title=\"psysml:c2ca5ac6-1591-4e08-969e-b115a3bed697\" xlink:type=\"simple\"><path d=\"M89.42,133.6 C79.35,142.68 69.37,154.11 64,167 C58.5,180.2 58.66,195.94 60.54,209.38 \" fill=\"none\" id=\"E8-&gt;E6\" style=\"stroke: #383838; stroke-width: 1.0; stroke-dasharray: 7.0,7.0;\"/><polygon fill=\"#383838\" points=\"61.9,217.4,63.517,209.0104,57.6018,210.0159,61.9,217.4\" style=\"stroke: #383838; stroke-width: 1.0;\"/><text fill=\"#000000\" font-family=\"sans-serif\" font-size=\"13\" lengthAdjust=\"spacingAndGlyphs\" textLength=\"64\" x=\"65\" y=\"180.0669\">«depend»</text></a><!--MD5=[bfa3c8b0d15052fdf50ae9310b491027]\n",
       "link E8 to E7--><a href=\"psysml:c2ca5ac6-1591-4e08-969e-b115a3bed697\" target=\"_top\" title=\"psysml:c2ca5ac6-1591-4e08-969e-b115a3bed697\" xlink:actuate=\"onRequest\" xlink:href=\"psysml:c2ca5ac6-1591-4e08-969e-b115a3bed697\" xlink:show=\"new\" xlink:title=\"psysml:c2ca5ac6-1591-4e08-969e-b115a3bed697\" xlink:type=\"simple\"><path d=\"M129.28,133.5 C138.17,154.57 151.64,186.5 161.47,209.81 \" fill=\"none\" id=\"E8-&gt;E7\" style=\"stroke: #383838; stroke-width: 1.0; stroke-dasharray: 7.0,7.0;\"/><polygon fill=\"#383838\" points=\"164.66,217.35,164.3241,208.8126,158.7933,211.1385,164.66,217.35\" style=\"stroke: #383838; stroke-width: 1.0;\"/><text fill=\"#000000\" font-family=\"sans-serif\" font-size=\"13\" lengthAdjust=\"spacingAndGlyphs\" textLength=\"64\" x=\"151\" y=\"180.0669\">«depend»</text></a><!--MD5=[f445ca81060a95cd1c4150557b7eda3e]\n",
       "@startuml\r\n",
       "skinparam monochrome true\r\n",
       "skinparam classbackgroundcolor white\r\n",
       "skinparam shadowing false\r\n",
       "skinparam wrapWidth 300\r\n",
       "hide circle\r\n",
       "\r\n",
       "package \"DependencyTest\" as E1  [[psysml:cb8a6054-43e9-4191-a3b4-d53f2df2fcdf ]]  {\r\n",
       "package \"System\" as E2  [[psysml:b8ece1dd-151a-4631-92e5-c2dbf563fb8b ]]  {\r\n",
       "package \"Application Layer\" as E3  [[psysml:59f5b99d-24d3-4acd-853e-8f7f0b563d54 ]]  {\r\n",
       "}\r\n",
       "package \"Service Layer\" as E4  [[psysml:5cfbc3a5-c556-4af2-acf6-f60fe409e97c ]]  {\r\n",
       "}\r\n",
       "package \"Data Layer\" as E5  [[psysml:acb31344-a810-41ff-bc38-efd03bbf6ecb ]]  {\r\n",
       "}\r\n",
       "}\r\n",
       "comp usage \"x\" as E6  <<(T,blue)attribute>> [[psysml:3db867e9-a237-498d-9697-66a5ca6752eb ]] {\r\n",
       "}\r\n",
       "comp usage \"y\" as E7  <<(T,blue)attribute>> [[psysml:c548d046-cadc-4301-a44e-d185972c752b ]] {\r\n",
       "}\r\n",
       "comp usage \"z\" as E8  <<(T,blue)attribute>> [[psysml:47dc4f88-d05c-4598-a7e7-ecfe5751dc87 ]] {\r\n",
       "}\r\n",
       "E3 ..>> E4 [[psysml:952f286e-4b84-47c6-949f-c687a4b4f029 ]] : <<depend>>\r\n",
       "E4 ..>> E5 [[psysml:7352021b-a74c-4755-9a9f-544f5d5618ed ]] : <<depend>>\r\n",
       "E8 ..>> E6 [[psysml:c2ca5ac6-1591-4e08-969e-b115a3bed697 ]] : <<depend>>\r\n",
       "E8 ..>> E7 [[psysml:c2ca5ac6-1591-4e08-969e-b115a3bed697 ]] : <<depend>>\r\n",
       "}\r\n",
       "@enduml\r\n",
       "\n",
       "PlantUML version 1.2020.13(Sat Jun 13 12:26:38 UTC 2020)\n",
       "(EPL source distribution)\n",
       "Java Runtime: OpenJDK Runtime Environment\n",
       "JVM: OpenJDK 64-Bit Server VM\n",
       "Default Encoding: UTF-8\n",
       "Language: en\n",
       "Country: null\n",
       "--></g></svg>"
      ]
     },
     "execution_count": 42,
     "metadata": {},
     "output_type": "execute_result"
    }
   ],
   "source": [
    "%viz --style=\"DEFAULT\" --view=\"Sequence\" \"DependencyTest\""
   ]
  },
  {
   "cell_type": "code",
   "execution_count": 43,
   "id": "84f073a4",
   "metadata": {
    "execution": {
     "iopub.execute_input": "2021-04-20T07:03:26.269601Z",
     "iopub.status.busy": "2021-04-20T07:03:26.269099Z",
     "iopub.status.idle": "2021-04-20T07:03:26.299954Z",
     "shell.execute_reply": "2021-04-20T07:03:26.298458Z"
    }
   },
   "outputs": [
    {
     "data": {
      "image/svg+xml": [
       "<?xml version=\"1.0\" encoding=\"UTF-8\" standalone=\"no\"?><svg xmlns=\"http://www.w3.org/2000/svg\" xmlns:xlink=\"http://www.w3.org/1999/xlink\" contentScriptType=\"application/ecmascript\" contentStyleType=\"text/css\" height=\"449px\" preserveAspectRatio=\"none\" style=\"width:489px;height:449px;\" version=\"1.1\" viewBox=\"0 0 489 449\" width=\"489px\" zoomAndPan=\"magnify\"><defs/><g><!--MD5=[fbc87193dbaf4d95561dea2c320d4a47]\n",
       "cluster E1--><a href=\"psysml:cb8a6054-43e9-4191-a3b4-d53f2df2fcdf\" target=\"_top\" title=\"psysml:cb8a6054-43e9-4191-a3b4-d53f2df2fcdf\" xlink:actuate=\"onRequest\" xlink:href=\"psysml:cb8a6054-43e9-4191-a3b4-d53f2df2fcdf\" xlink:show=\"new\" xlink:title=\"psysml:cb8a6054-43e9-4191-a3b4-d53f2df2fcdf\" xlink:type=\"simple\"><polygon fill=\"#FFFFFF\" points=\"16,6,156,6,163,28.2969,467,28.2969,467,437,16,437,16,6\" style=\"stroke: #000000; stroke-width: 1.5;\"/><line style=\"stroke: #000000; stroke-width: 1.5;\" x1=\"16\" x2=\"163\" y1=\"28.2969\" y2=\"28.2969\"/><text fill=\"#000000\" font-family=\"sans-serif\" font-size=\"14\" font-weight=\"bold\" lengthAdjust=\"spacingAndGlyphs\" textLength=\"134\" x=\"20\" y=\"20.9951\">DependencyTest</text></a><!--MD5=[e4f7fae6ed58524ba242bb0b0d3be6b7]\n",
       "cluster E2--><a href=\"psysml:b8ece1dd-151a-4631-92e5-c2dbf563fb8b\" target=\"_top\" title=\"psysml:b8ece1dd-151a-4631-92e5-c2dbf563fb8b\" xlink:actuate=\"onRequest\" xlink:href=\"psysml:b8ece1dd-151a-4631-92e5-c2dbf563fb8b\" xlink:show=\"new\" xlink:title=\"psysml:b8ece1dd-151a-4631-92e5-c2dbf563fb8b\" xlink:type=\"simple\"><polygon fill=\"#FFFFFF\" points=\"255,49,319,49,326,71.2969,443,71.2969,443,413,255,413,255,49\" style=\"stroke: #000000; stroke-width: 1.5;\"/><line style=\"stroke: #000000; stroke-width: 1.5;\" x1=\"255\" x2=\"326\" y1=\"71.2969\" y2=\"71.2969\"/><text fill=\"#000000\" font-family=\"sans-serif\" font-size=\"14\" font-weight=\"bold\" lengthAdjust=\"spacingAndGlyphs\" textLength=\"58\" x=\"259\" y=\"63.9951\">System</text></a><!--MD5=[60a26617385b1d2d0262a64233df1f8d]\n",
       "class E6--><a href=\"psysml:3db867e9-a237-498d-9697-66a5ca6752eb\" target=\"_top\" title=\"psysml:3db867e9-a237-498d-9697-66a5ca6752eb\" xlink:actuate=\"onRequest\" xlink:href=\"psysml:3db867e9-a237-498d-9697-66a5ca6752eb\" xlink:show=\"new\" xlink:title=\"psysml:3db867e9-a237-498d-9697-66a5ca6752eb\" xlink:type=\"simple\"><rect fill=\"#FFFFFF\" height=\"45.9375\" id=\"E6\" rx=\"10\" ry=\"10\" style=\"stroke: #383838; stroke-width: 1.5;\" width=\"71\" x=\"32.5\" y=\"217.5\"/><text fill=\"#000000\" font-family=\"sans-serif\" font-size=\"12\" font-style=\"italic\" lengthAdjust=\"spacingAndGlyphs\" textLength=\"69\" x=\"33.5\" y=\"233.6387\">«attribute»</text><text fill=\"#000000\" font-family=\"sans-serif\" font-size=\"12\" lengthAdjust=\"spacingAndGlyphs\" textLength=\"6\" x=\"65\" y=\"247.6074\">x</text><line style=\"stroke: #383838; stroke-width: 1.5;\" x1=\"33.5\" x2=\"102.5\" y1=\"255.4375\" y2=\"255.4375\"/></a><!--MD5=[2156ba9850f5573cc1fc38a6a4b2f02b]\n",
       "class E7--><a href=\"psysml:c548d046-cadc-4301-a44e-d185972c752b\" target=\"_top\" title=\"psysml:c548d046-cadc-4301-a44e-d185972c752b\" xlink:actuate=\"onRequest\" xlink:href=\"psysml:c548d046-cadc-4301-a44e-d185972c752b\" xlink:show=\"new\" xlink:title=\"psysml:c548d046-cadc-4301-a44e-d185972c752b\" xlink:type=\"simple\"><rect fill=\"#FFFFFF\" height=\"45.9375\" id=\"E7\" rx=\"10\" ry=\"10\" style=\"stroke: #383838; stroke-width: 1.5;\" width=\"71\" x=\"138.5\" y=\"217.5\"/><text fill=\"#000000\" font-family=\"sans-serif\" font-size=\"12\" font-style=\"italic\" lengthAdjust=\"spacingAndGlyphs\" textLength=\"69\" x=\"139.5\" y=\"233.6387\">«attribute»</text><text fill=\"#000000\" font-family=\"sans-serif\" font-size=\"12\" lengthAdjust=\"spacingAndGlyphs\" textLength=\"6\" x=\"171\" y=\"247.6074\">y</text><line style=\"stroke: #383838; stroke-width: 1.5;\" x1=\"139.5\" x2=\"208.5\" y1=\"255.4375\" y2=\"255.4375\"/></a><!--MD5=[b9389687b975829384b498ac4b7476b2]\n",
       "class E8--><a href=\"psysml:47dc4f88-d05c-4598-a7e7-ecfe5751dc87\" target=\"_top\" title=\"psysml:47dc4f88-d05c-4598-a7e7-ecfe5751dc87\" xlink:actuate=\"onRequest\" xlink:href=\"psysml:47dc4f88-d05c-4598-a7e7-ecfe5751dc87\" xlink:show=\"new\" xlink:title=\"psysml:47dc4f88-d05c-4598-a7e7-ecfe5751dc87\" xlink:type=\"simple\"><rect fill=\"#FFFFFF\" height=\"45.9375\" id=\"E8\" rx=\"10\" ry=\"10\" style=\"stroke: #383838; stroke-width: 1.5;\" width=\"71\" x=\"84.5\" y=\"87.5\"/><text fill=\"#000000\" font-family=\"sans-serif\" font-size=\"12\" font-style=\"italic\" lengthAdjust=\"spacingAndGlyphs\" textLength=\"69\" x=\"85.5\" y=\"103.6387\">«attribute»</text><text fill=\"#000000\" font-family=\"sans-serif\" font-size=\"12\" lengthAdjust=\"spacingAndGlyphs\" textLength=\"5\" x=\"117.5\" y=\"117.6074\">z</text><line style=\"stroke: #383838; stroke-width: 1.5;\" x1=\"85.5\" x2=\"154.5\" y1=\"125.4375\" y2=\"125.4375\"/></a><a href=\"psysml:59f5b99d-24d3-4acd-853e-8f7f0b563d54\" target=\"_top\" title=\"psysml:59f5b99d-24d3-4acd-853e-8f7f0b563d54\" xlink:actuate=\"onRequest\" xlink:href=\"psysml:59f5b99d-24d3-4acd-853e-8f7f0b563d54\" xlink:show=\"new\" xlink:title=\"psysml:59f5b99d-24d3-4acd-853e-8f7f0b563d54\" xlink:type=\"simple\"><polygon fill=\"#FFFFFF\" points=\"271,84,413,84,420,106.2969,427,106.2969,427,136.5938,271,136.5938,271,84\" style=\"stroke: #000000; stroke-width: 1.5;\"/><line style=\"stroke: #000000; stroke-width: 1.5;\" x1=\"271\" x2=\"420\" y1=\"106.2969\" y2=\"106.2969\"/><text fill=\"#000000\" font-family=\"sans-serif\" font-size=\"14\" font-weight=\"bold\" lengthAdjust=\"spacingAndGlyphs\" textLength=\"136\" x=\"275\" y=\"98.9951\">Application Layer</text></a><a href=\"psysml:5cfbc3a5-c556-4af2-acf6-f60fe409e97c\" target=\"_top\" title=\"psysml:5cfbc3a5-c556-4af2-acf6-f60fe409e97c\" xlink:actuate=\"onRequest\" xlink:href=\"psysml:5cfbc3a5-c556-4af2-acf6-f60fe409e97c\" xlink:show=\"new\" xlink:title=\"psysml:5cfbc3a5-c556-4af2-acf6-f60fe409e97c\" xlink:type=\"simple\"><polygon fill=\"#FFFFFF\" points=\"285,214,399,214,406,236.2969,413,236.2969,413,266.5938,285,266.5938,285,214\" style=\"stroke: #000000; stroke-width: 1.5;\"/><line style=\"stroke: #000000; stroke-width: 1.5;\" x1=\"285\" x2=\"406\" y1=\"236.2969\" y2=\"236.2969\"/><text fill=\"#000000\" font-family=\"sans-serif\" font-size=\"14\" font-weight=\"bold\" lengthAdjust=\"spacingAndGlyphs\" textLength=\"108\" x=\"289\" y=\"228.9951\">Service Layer</text></a><a href=\"psysml:acb31344-a810-41ff-bc38-efd03bbf6ecb\" target=\"_top\" title=\"psysml:acb31344-a810-41ff-bc38-efd03bbf6ecb\" xlink:actuate=\"onRequest\" xlink:href=\"psysml:acb31344-a810-41ff-bc38-efd03bbf6ecb\" xlink:show=\"new\" xlink:title=\"psysml:acb31344-a810-41ff-bc38-efd03bbf6ecb\" xlink:type=\"simple\"><polygon fill=\"#FFFFFF\" points=\"297,344,387,344,394,366.2969,401,366.2969,401,396.5938,297,396.5938,297,344\" style=\"stroke: #000000; stroke-width: 1.5;\"/><line style=\"stroke: #000000; stroke-width: 1.5;\" x1=\"297\" x2=\"394\" y1=\"366.2969\" y2=\"366.2969\"/><text fill=\"#000000\" font-family=\"sans-serif\" font-size=\"14\" font-weight=\"bold\" lengthAdjust=\"spacingAndGlyphs\" textLength=\"84\" x=\"301\" y=\"358.9951\">Data Layer</text></a><!--MD5=[af87c684e3b0d8be13c1a698a818ef1e]\n",
       "link E3 to E4--><a href=\"psysml:952f286e-4b84-47c6-949f-c687a4b4f029\" target=\"_top\" title=\"psysml:952f286e-4b84-47c6-949f-c687a4b4f029\" xlink:actuate=\"onRequest\" xlink:href=\"psysml:952f286e-4b84-47c6-949f-c687a4b4f029\" xlink:show=\"new\" xlink:title=\"psysml:952f286e-4b84-47c6-949f-c687a4b4f029\" xlink:type=\"simple\"><path d=\"M349,137.1 C349,156.8 349,184.22 349,205.73 \" fill=\"none\" id=\"E3-&gt;E4\" style=\"stroke: #383838; stroke-width: 1.0; stroke-dasharray: 7.0,7.0;\"/><polygon fill=\"#383838\" points=\"349,213.95,352,205.95,346,205.95,349,213.95\" style=\"stroke: #383838; stroke-width: 1.0;\"/><text fill=\"#000000\" font-family=\"sans-serif\" font-size=\"13\" lengthAdjust=\"spacingAndGlyphs\" textLength=\"64\" x=\"350\" y=\"180.0669\">«depend»</text></a><!--MD5=[1b7591eae5389033d8d09a9d6721a717]\n",
       "link E4 to E5--><a href=\"psysml:7352021b-a74c-4755-9a9f-544f5d5618ed\" target=\"_top\" title=\"psysml:7352021b-a74c-4755-9a9f-544f5d5618ed\" xlink:actuate=\"onRequest\" xlink:href=\"psysml:7352021b-a74c-4755-9a9f-544f5d5618ed\" xlink:show=\"new\" xlink:title=\"psysml:7352021b-a74c-4755-9a9f-544f5d5618ed\" xlink:type=\"simple\"><path d=\"M349,267.1 C349,286.8 349,314.22 349,335.73 \" fill=\"none\" id=\"E4-&gt;E5\" style=\"stroke: #383838; stroke-width: 1.0; stroke-dasharray: 7.0,7.0;\"/><polygon fill=\"#383838\" points=\"349,343.95,352,335.95,346,335.95,349,343.95\" style=\"stroke: #383838; stroke-width: 1.0;\"/><text fill=\"#000000\" font-family=\"sans-serif\" font-size=\"13\" lengthAdjust=\"spacingAndGlyphs\" textLength=\"64\" x=\"350\" y=\"310.0669\">«depend»</text></a><!--MD5=[c5e8897d989ce984f93528998a7150fe]\n",
       "link E8 to E6--><a href=\"psysml:c2ca5ac6-1591-4e08-969e-b115a3bed697\" target=\"_top\" title=\"psysml:c2ca5ac6-1591-4e08-969e-b115a3bed697\" xlink:actuate=\"onRequest\" xlink:href=\"psysml:c2ca5ac6-1591-4e08-969e-b115a3bed697\" xlink:show=\"new\" xlink:title=\"psysml:c2ca5ac6-1591-4e08-969e-b115a3bed697\" xlink:type=\"simple\"><path d=\"M89.42,133.6 C79.35,142.68 69.37,154.11 64,167 C58.5,180.2 58.66,195.94 60.54,209.38 \" fill=\"none\" id=\"E8-&gt;E6\" style=\"stroke: #383838; stroke-width: 1.0; stroke-dasharray: 7.0,7.0;\"/><polygon fill=\"#383838\" points=\"61.9,217.4,63.517,209.0104,57.6018,210.0159,61.9,217.4\" style=\"stroke: #383838; stroke-width: 1.0;\"/><text fill=\"#000000\" font-family=\"sans-serif\" font-size=\"13\" lengthAdjust=\"spacingAndGlyphs\" textLength=\"64\" x=\"65\" y=\"180.0669\">«depend»</text></a><!--MD5=[bfa3c8b0d15052fdf50ae9310b491027]\n",
       "link E8 to E7--><a href=\"psysml:c2ca5ac6-1591-4e08-969e-b115a3bed697\" target=\"_top\" title=\"psysml:c2ca5ac6-1591-4e08-969e-b115a3bed697\" xlink:actuate=\"onRequest\" xlink:href=\"psysml:c2ca5ac6-1591-4e08-969e-b115a3bed697\" xlink:show=\"new\" xlink:title=\"psysml:c2ca5ac6-1591-4e08-969e-b115a3bed697\" xlink:type=\"simple\"><path d=\"M129.28,133.5 C138.17,154.57 151.64,186.5 161.47,209.81 \" fill=\"none\" id=\"E8-&gt;E7\" style=\"stroke: #383838; stroke-width: 1.0; stroke-dasharray: 7.0,7.0;\"/><polygon fill=\"#383838\" points=\"164.66,217.35,164.3241,208.8126,158.7933,211.1385,164.66,217.35\" style=\"stroke: #383838; stroke-width: 1.0;\"/><text fill=\"#000000\" font-family=\"sans-serif\" font-size=\"13\" lengthAdjust=\"spacingAndGlyphs\" textLength=\"64\" x=\"151\" y=\"180.0669\">«depend»</text></a><!--MD5=[f445ca81060a95cd1c4150557b7eda3e]\n",
       "@startuml\r\n",
       "skinparam monochrome true\r\n",
       "skinparam classbackgroundcolor white\r\n",
       "skinparam shadowing false\r\n",
       "skinparam wrapWidth 300\r\n",
       "hide circle\r\n",
       "\r\n",
       "package \"DependencyTest\" as E1  [[psysml:cb8a6054-43e9-4191-a3b4-d53f2df2fcdf ]]  {\r\n",
       "package \"System\" as E2  [[psysml:b8ece1dd-151a-4631-92e5-c2dbf563fb8b ]]  {\r\n",
       "package \"Application Layer\" as E3  [[psysml:59f5b99d-24d3-4acd-853e-8f7f0b563d54 ]]  {\r\n",
       "}\r\n",
       "package \"Service Layer\" as E4  [[psysml:5cfbc3a5-c556-4af2-acf6-f60fe409e97c ]]  {\r\n",
       "}\r\n",
       "package \"Data Layer\" as E5  [[psysml:acb31344-a810-41ff-bc38-efd03bbf6ecb ]]  {\r\n",
       "}\r\n",
       "}\r\n",
       "comp usage \"x\" as E6  <<(T,blue)attribute>> [[psysml:3db867e9-a237-498d-9697-66a5ca6752eb ]] {\r\n",
       "}\r\n",
       "comp usage \"y\" as E7  <<(T,blue)attribute>> [[psysml:c548d046-cadc-4301-a44e-d185972c752b ]] {\r\n",
       "}\r\n",
       "comp usage \"z\" as E8  <<(T,blue)attribute>> [[psysml:47dc4f88-d05c-4598-a7e7-ecfe5751dc87 ]] {\r\n",
       "}\r\n",
       "E3 ..>> E4 [[psysml:952f286e-4b84-47c6-949f-c687a4b4f029 ]] : <<depend>>\r\n",
       "E4 ..>> E5 [[psysml:7352021b-a74c-4755-9a9f-544f5d5618ed ]] : <<depend>>\r\n",
       "E8 ..>> E6 [[psysml:c2ca5ac6-1591-4e08-969e-b115a3bed697 ]] : <<depend>>\r\n",
       "E8 ..>> E7 [[psysml:c2ca5ac6-1591-4e08-969e-b115a3bed697 ]] : <<depend>>\r\n",
       "}\r\n",
       "@enduml\r\n",
       "\n",
       "PlantUML version 1.2020.13(Sat Jun 13 12:26:38 UTC 2020)\n",
       "(EPL source distribution)\n",
       "Java Runtime: OpenJDK Runtime Environment\n",
       "JVM: OpenJDK 64-Bit Server VM\n",
       "Default Encoding: UTF-8\n",
       "Language: en\n",
       "Country: null\n",
       "--></g></svg>"
      ]
     },
     "execution_count": 43,
     "metadata": {},
     "output_type": "execute_result"
    }
   ],
   "source": [
    "%viz --style=\"DEFAULT\" --view=\"MIXED\" \"DependencyTest\""
   ]
  },
  {
   "cell_type": "code",
   "execution_count": 44,
   "id": "10a04adf",
   "metadata": {
    "execution": {
     "iopub.execute_input": "2021-04-20T07:03:26.349384Z",
     "iopub.status.busy": "2021-04-20T07:03:26.348600Z",
     "iopub.status.idle": "2021-04-20T07:03:26.386181Z",
     "shell.execute_reply": "2021-04-20T07:03:26.385734Z"
    }
   },
   "outputs": [
    {
     "data": {
      "image/svg+xml": [
       "<?xml version=\"1.0\" encoding=\"UTF-8\" standalone=\"no\"?><svg xmlns=\"http://www.w3.org/2000/svg\" xmlns:xlink=\"http://www.w3.org/1999/xlink\" contentScriptType=\"application/ecmascript\" contentStyleType=\"text/css\" height=\"449px\" preserveAspectRatio=\"none\" style=\"width:489px;height:449px;\" version=\"1.1\" viewBox=\"0 0 489 449\" width=\"489px\" zoomAndPan=\"magnify\"><defs/><g><!--MD5=[fbc87193dbaf4d95561dea2c320d4a47]\n",
       "cluster E1--><a href=\"psysml:cb8a6054-43e9-4191-a3b4-d53f2df2fcdf\" target=\"_top\" title=\"psysml:cb8a6054-43e9-4191-a3b4-d53f2df2fcdf\" xlink:actuate=\"onRequest\" xlink:href=\"psysml:cb8a6054-43e9-4191-a3b4-d53f2df2fcdf\" xlink:show=\"new\" xlink:title=\"psysml:cb8a6054-43e9-4191-a3b4-d53f2df2fcdf\" xlink:type=\"simple\"><polygon fill=\"#FFFFFF\" points=\"16,6,156,6,163,28.2969,467,28.2969,467,437,16,437,16,6\" style=\"stroke: #000000; stroke-width: 1.5;\"/><line style=\"stroke: #000000; stroke-width: 1.5;\" x1=\"16\" x2=\"163\" y1=\"28.2969\" y2=\"28.2969\"/><text fill=\"#000000\" font-family=\"sans-serif\" font-size=\"14\" font-weight=\"bold\" lengthAdjust=\"spacingAndGlyphs\" textLength=\"134\" x=\"20\" y=\"20.9951\">DependencyTest</text></a><!--MD5=[e4f7fae6ed58524ba242bb0b0d3be6b7]\n",
       "cluster E2--><a href=\"psysml:b8ece1dd-151a-4631-92e5-c2dbf563fb8b\" target=\"_top\" title=\"psysml:b8ece1dd-151a-4631-92e5-c2dbf563fb8b\" xlink:actuate=\"onRequest\" xlink:href=\"psysml:b8ece1dd-151a-4631-92e5-c2dbf563fb8b\" xlink:show=\"new\" xlink:title=\"psysml:b8ece1dd-151a-4631-92e5-c2dbf563fb8b\" xlink:type=\"simple\"><polygon fill=\"#FFFFFF\" points=\"255,49,319,49,326,71.2969,443,71.2969,443,413,255,413,255,49\" style=\"stroke: #000000; stroke-width: 1.5;\"/><line style=\"stroke: #000000; stroke-width: 1.5;\" x1=\"255\" x2=\"326\" y1=\"71.2969\" y2=\"71.2969\"/><text fill=\"#000000\" font-family=\"sans-serif\" font-size=\"14\" font-weight=\"bold\" lengthAdjust=\"spacingAndGlyphs\" textLength=\"58\" x=\"259\" y=\"63.9951\">System</text></a><!--MD5=[60a26617385b1d2d0262a64233df1f8d]\n",
       "class E6--><a href=\"psysml:3db867e9-a237-498d-9697-66a5ca6752eb\" target=\"_top\" title=\"psysml:3db867e9-a237-498d-9697-66a5ca6752eb\" xlink:actuate=\"onRequest\" xlink:href=\"psysml:3db867e9-a237-498d-9697-66a5ca6752eb\" xlink:show=\"new\" xlink:title=\"psysml:3db867e9-a237-498d-9697-66a5ca6752eb\" xlink:type=\"simple\"><rect fill=\"#FFFFFF\" height=\"45.9375\" id=\"E6\" rx=\"10\" ry=\"10\" style=\"stroke: #383838; stroke-width: 1.5;\" width=\"71\" x=\"32.5\" y=\"217.5\"/><text fill=\"#000000\" font-family=\"sans-serif\" font-size=\"12\" font-style=\"italic\" lengthAdjust=\"spacingAndGlyphs\" textLength=\"69\" x=\"33.5\" y=\"233.6387\">«attribute»</text><text fill=\"#000000\" font-family=\"sans-serif\" font-size=\"12\" lengthAdjust=\"spacingAndGlyphs\" textLength=\"6\" x=\"65\" y=\"247.6074\">x</text><line style=\"stroke: #383838; stroke-width: 1.5;\" x1=\"33.5\" x2=\"102.5\" y1=\"255.4375\" y2=\"255.4375\"/></a><!--MD5=[2156ba9850f5573cc1fc38a6a4b2f02b]\n",
       "class E7--><a href=\"psysml:c548d046-cadc-4301-a44e-d185972c752b\" target=\"_top\" title=\"psysml:c548d046-cadc-4301-a44e-d185972c752b\" xlink:actuate=\"onRequest\" xlink:href=\"psysml:c548d046-cadc-4301-a44e-d185972c752b\" xlink:show=\"new\" xlink:title=\"psysml:c548d046-cadc-4301-a44e-d185972c752b\" xlink:type=\"simple\"><rect fill=\"#FFFFFF\" height=\"45.9375\" id=\"E7\" rx=\"10\" ry=\"10\" style=\"stroke: #383838; stroke-width: 1.5;\" width=\"71\" x=\"138.5\" y=\"217.5\"/><text fill=\"#000000\" font-family=\"sans-serif\" font-size=\"12\" font-style=\"italic\" lengthAdjust=\"spacingAndGlyphs\" textLength=\"69\" x=\"139.5\" y=\"233.6387\">«attribute»</text><text fill=\"#000000\" font-family=\"sans-serif\" font-size=\"12\" lengthAdjust=\"spacingAndGlyphs\" textLength=\"6\" x=\"171\" y=\"247.6074\">y</text><line style=\"stroke: #383838; stroke-width: 1.5;\" x1=\"139.5\" x2=\"208.5\" y1=\"255.4375\" y2=\"255.4375\"/></a><!--MD5=[b9389687b975829384b498ac4b7476b2]\n",
       "class E8--><a href=\"psysml:47dc4f88-d05c-4598-a7e7-ecfe5751dc87\" target=\"_top\" title=\"psysml:47dc4f88-d05c-4598-a7e7-ecfe5751dc87\" xlink:actuate=\"onRequest\" xlink:href=\"psysml:47dc4f88-d05c-4598-a7e7-ecfe5751dc87\" xlink:show=\"new\" xlink:title=\"psysml:47dc4f88-d05c-4598-a7e7-ecfe5751dc87\" xlink:type=\"simple\"><rect fill=\"#FFFFFF\" height=\"45.9375\" id=\"E8\" rx=\"10\" ry=\"10\" style=\"stroke: #383838; stroke-width: 1.5;\" width=\"71\" x=\"84.5\" y=\"87.5\"/><text fill=\"#000000\" font-family=\"sans-serif\" font-size=\"12\" font-style=\"italic\" lengthAdjust=\"spacingAndGlyphs\" textLength=\"69\" x=\"85.5\" y=\"103.6387\">«attribute»</text><text fill=\"#000000\" font-family=\"sans-serif\" font-size=\"12\" lengthAdjust=\"spacingAndGlyphs\" textLength=\"5\" x=\"117.5\" y=\"117.6074\">z</text><line style=\"stroke: #383838; stroke-width: 1.5;\" x1=\"85.5\" x2=\"154.5\" y1=\"125.4375\" y2=\"125.4375\"/></a><a href=\"psysml:59f5b99d-24d3-4acd-853e-8f7f0b563d54\" target=\"_top\" title=\"psysml:59f5b99d-24d3-4acd-853e-8f7f0b563d54\" xlink:actuate=\"onRequest\" xlink:href=\"psysml:59f5b99d-24d3-4acd-853e-8f7f0b563d54\" xlink:show=\"new\" xlink:title=\"psysml:59f5b99d-24d3-4acd-853e-8f7f0b563d54\" xlink:type=\"simple\"><polygon fill=\"#FFFFFF\" points=\"271,84,413,84,420,106.2969,427,106.2969,427,136.5938,271,136.5938,271,84\" style=\"stroke: #000000; stroke-width: 1.5;\"/><line style=\"stroke: #000000; stroke-width: 1.5;\" x1=\"271\" x2=\"420\" y1=\"106.2969\" y2=\"106.2969\"/><text fill=\"#000000\" font-family=\"sans-serif\" font-size=\"14\" font-weight=\"bold\" lengthAdjust=\"spacingAndGlyphs\" textLength=\"136\" x=\"275\" y=\"98.9951\">Application Layer</text></a><a href=\"psysml:5cfbc3a5-c556-4af2-acf6-f60fe409e97c\" target=\"_top\" title=\"psysml:5cfbc3a5-c556-4af2-acf6-f60fe409e97c\" xlink:actuate=\"onRequest\" xlink:href=\"psysml:5cfbc3a5-c556-4af2-acf6-f60fe409e97c\" xlink:show=\"new\" xlink:title=\"psysml:5cfbc3a5-c556-4af2-acf6-f60fe409e97c\" xlink:type=\"simple\"><polygon fill=\"#FFFFFF\" points=\"285,214,399,214,406,236.2969,413,236.2969,413,266.5938,285,266.5938,285,214\" style=\"stroke: #000000; stroke-width: 1.5;\"/><line style=\"stroke: #000000; stroke-width: 1.5;\" x1=\"285\" x2=\"406\" y1=\"236.2969\" y2=\"236.2969\"/><text fill=\"#000000\" font-family=\"sans-serif\" font-size=\"14\" font-weight=\"bold\" lengthAdjust=\"spacingAndGlyphs\" textLength=\"108\" x=\"289\" y=\"228.9951\">Service Layer</text></a><a href=\"psysml:acb31344-a810-41ff-bc38-efd03bbf6ecb\" target=\"_top\" title=\"psysml:acb31344-a810-41ff-bc38-efd03bbf6ecb\" xlink:actuate=\"onRequest\" xlink:href=\"psysml:acb31344-a810-41ff-bc38-efd03bbf6ecb\" xlink:show=\"new\" xlink:title=\"psysml:acb31344-a810-41ff-bc38-efd03bbf6ecb\" xlink:type=\"simple\"><polygon fill=\"#FFFFFF\" points=\"297,344,387,344,394,366.2969,401,366.2969,401,396.5938,297,396.5938,297,344\" style=\"stroke: #000000; stroke-width: 1.5;\"/><line style=\"stroke: #000000; stroke-width: 1.5;\" x1=\"297\" x2=\"394\" y1=\"366.2969\" y2=\"366.2969\"/><text fill=\"#000000\" font-family=\"sans-serif\" font-size=\"14\" font-weight=\"bold\" lengthAdjust=\"spacingAndGlyphs\" textLength=\"84\" x=\"301\" y=\"358.9951\">Data Layer</text></a><!--MD5=[af87c684e3b0d8be13c1a698a818ef1e]\n",
       "link E3 to E4--><a href=\"psysml:952f286e-4b84-47c6-949f-c687a4b4f029\" target=\"_top\" title=\"psysml:952f286e-4b84-47c6-949f-c687a4b4f029\" xlink:actuate=\"onRequest\" xlink:href=\"psysml:952f286e-4b84-47c6-949f-c687a4b4f029\" xlink:show=\"new\" xlink:title=\"psysml:952f286e-4b84-47c6-949f-c687a4b4f029\" xlink:type=\"simple\"><path d=\"M349,137.1 C349,156.8 349,184.22 349,205.73 \" fill=\"none\" id=\"E3-&gt;E4\" style=\"stroke: #383838; stroke-width: 1.0; stroke-dasharray: 7.0,7.0;\"/><polygon fill=\"#383838\" points=\"349,213.95,352,205.95,346,205.95,349,213.95\" style=\"stroke: #383838; stroke-width: 1.0;\"/><text fill=\"#000000\" font-family=\"sans-serif\" font-size=\"13\" lengthAdjust=\"spacingAndGlyphs\" textLength=\"64\" x=\"350\" y=\"180.0669\">«depend»</text></a><!--MD5=[1b7591eae5389033d8d09a9d6721a717]\n",
       "link E4 to E5--><a href=\"psysml:7352021b-a74c-4755-9a9f-544f5d5618ed\" target=\"_top\" title=\"psysml:7352021b-a74c-4755-9a9f-544f5d5618ed\" xlink:actuate=\"onRequest\" xlink:href=\"psysml:7352021b-a74c-4755-9a9f-544f5d5618ed\" xlink:show=\"new\" xlink:title=\"psysml:7352021b-a74c-4755-9a9f-544f5d5618ed\" xlink:type=\"simple\"><path d=\"M349,267.1 C349,286.8 349,314.22 349,335.73 \" fill=\"none\" id=\"E4-&gt;E5\" style=\"stroke: #383838; stroke-width: 1.0; stroke-dasharray: 7.0,7.0;\"/><polygon fill=\"#383838\" points=\"349,343.95,352,335.95,346,335.95,349,343.95\" style=\"stroke: #383838; stroke-width: 1.0;\"/><text fill=\"#000000\" font-family=\"sans-serif\" font-size=\"13\" lengthAdjust=\"spacingAndGlyphs\" textLength=\"64\" x=\"350\" y=\"310.0669\">«depend»</text></a><!--MD5=[c5e8897d989ce984f93528998a7150fe]\n",
       "link E8 to E6--><a href=\"psysml:c2ca5ac6-1591-4e08-969e-b115a3bed697\" target=\"_top\" title=\"psysml:c2ca5ac6-1591-4e08-969e-b115a3bed697\" xlink:actuate=\"onRequest\" xlink:href=\"psysml:c2ca5ac6-1591-4e08-969e-b115a3bed697\" xlink:show=\"new\" xlink:title=\"psysml:c2ca5ac6-1591-4e08-969e-b115a3bed697\" xlink:type=\"simple\"><path d=\"M89.42,133.6 C79.35,142.68 69.37,154.11 64,167 C58.5,180.2 58.66,195.94 60.54,209.38 \" fill=\"none\" id=\"E8-&gt;E6\" style=\"stroke: #383838; stroke-width: 1.0; stroke-dasharray: 7.0,7.0;\"/><polygon fill=\"#383838\" points=\"61.9,217.4,63.517,209.0104,57.6018,210.0159,61.9,217.4\" style=\"stroke: #383838; stroke-width: 1.0;\"/><text fill=\"#000000\" font-family=\"sans-serif\" font-size=\"13\" lengthAdjust=\"spacingAndGlyphs\" textLength=\"64\" x=\"65\" y=\"180.0669\">«depend»</text></a><!--MD5=[bfa3c8b0d15052fdf50ae9310b491027]\n",
       "link E8 to E7--><a href=\"psysml:c2ca5ac6-1591-4e08-969e-b115a3bed697\" target=\"_top\" title=\"psysml:c2ca5ac6-1591-4e08-969e-b115a3bed697\" xlink:actuate=\"onRequest\" xlink:href=\"psysml:c2ca5ac6-1591-4e08-969e-b115a3bed697\" xlink:show=\"new\" xlink:title=\"psysml:c2ca5ac6-1591-4e08-969e-b115a3bed697\" xlink:type=\"simple\"><path d=\"M129.28,133.5 C138.17,154.57 151.64,186.5 161.47,209.81 \" fill=\"none\" id=\"E8-&gt;E7\" style=\"stroke: #383838; stroke-width: 1.0; stroke-dasharray: 7.0,7.0;\"/><polygon fill=\"#383838\" points=\"164.66,217.35,164.3241,208.8126,158.7933,211.1385,164.66,217.35\" style=\"stroke: #383838; stroke-width: 1.0;\"/><text fill=\"#000000\" font-family=\"sans-serif\" font-size=\"13\" lengthAdjust=\"spacingAndGlyphs\" textLength=\"64\" x=\"151\" y=\"180.0669\">«depend»</text></a><!--MD5=[f1ce7e67605eef43cd2b7d34a2eac7e1]\n",
       "@startuml\r\n",
       "top to bottom direction\r\n",
       "skinparam monochrome true\r\n",
       "skinparam classbackgroundcolor white\r\n",
       "skinparam shadowing false\r\n",
       "skinparam wrapWidth 300\r\n",
       "hide circle\r\n",
       "\r\n",
       "package \"DependencyTest\" as E1  [[psysml:cb8a6054-43e9-4191-a3b4-d53f2df2fcdf ]]  {\r\n",
       "package \"System\" as E2  [[psysml:b8ece1dd-151a-4631-92e5-c2dbf563fb8b ]]  {\r\n",
       "package \"Application Layer\" as E3  [[psysml:59f5b99d-24d3-4acd-853e-8f7f0b563d54 ]]  {\r\n",
       "}\r\n",
       "package \"Service Layer\" as E4  [[psysml:5cfbc3a5-c556-4af2-acf6-f60fe409e97c ]]  {\r\n",
       "}\r\n",
       "package \"Data Layer\" as E5  [[psysml:acb31344-a810-41ff-bc38-efd03bbf6ecb ]]  {\r\n",
       "}\r\n",
       "}\r\n",
       "comp usage \"x\" as E6  <<(T,blue)attribute>> [[psysml:3db867e9-a237-498d-9697-66a5ca6752eb ]] {\r\n",
       "}\r\n",
       "comp usage \"y\" as E7  <<(T,blue)attribute>> [[psysml:c548d046-cadc-4301-a44e-d185972c752b ]] {\r\n",
       "}\r\n",
       "comp usage \"z\" as E8  <<(T,blue)attribute>> [[psysml:47dc4f88-d05c-4598-a7e7-ecfe5751dc87 ]] {\r\n",
       "}\r\n",
       "E3 ..>> E4 [[psysml:952f286e-4b84-47c6-949f-c687a4b4f029 ]] : <<depend>>\r\n",
       "E4 ..>> E5 [[psysml:7352021b-a74c-4755-9a9f-544f5d5618ed ]] : <<depend>>\r\n",
       "E8 ..>> E6 [[psysml:c2ca5ac6-1591-4e08-969e-b115a3bed697 ]] : <<depend>>\r\n",
       "E8 ..>> E7 [[psysml:c2ca5ac6-1591-4e08-969e-b115a3bed697 ]] : <<depend>>\r\n",
       "}\r\n",
       "@enduml\r\n",
       "\n",
       "PlantUML version 1.2020.13(Sat Jun 13 12:26:38 UTC 2020)\n",
       "(EPL source distribution)\n",
       "Java Runtime: OpenJDK Runtime Environment\n",
       "JVM: OpenJDK 64-Bit Server VM\n",
       "Default Encoding: UTF-8\n",
       "Language: en\n",
       "Country: null\n",
       "--></g></svg>"
      ]
     },
     "execution_count": 44,
     "metadata": {},
     "output_type": "execute_result"
    }
   ],
   "source": [
    "%viz --style=\"TB\" --view=\"Default\" \"DependencyTest\""
   ]
  },
  {
   "cell_type": "code",
   "execution_count": 45,
   "id": "0faf70db",
   "metadata": {
    "execution": {
     "iopub.execute_input": "2021-04-20T07:03:26.439796Z",
     "iopub.status.busy": "2021-04-20T07:03:26.439387Z",
     "iopub.status.idle": "2021-04-20T07:03:26.473530Z",
     "shell.execute_reply": "2021-04-20T07:03:26.472097Z"
    }
   },
   "outputs": [
    {
     "data": {
      "image/svg+xml": [
       "<?xml version=\"1.0\" encoding=\"UTF-8\" standalone=\"no\"?><svg xmlns=\"http://www.w3.org/2000/svg\" xmlns:xlink=\"http://www.w3.org/1999/xlink\" contentScriptType=\"application/ecmascript\" contentStyleType=\"text/css\" height=\"449px\" preserveAspectRatio=\"none\" style=\"width:489px;height:449px;\" version=\"1.1\" viewBox=\"0 0 489 449\" width=\"489px\" zoomAndPan=\"magnify\"><defs/><g><!--MD5=[fbc87193dbaf4d95561dea2c320d4a47]\n",
       "cluster E1--><a href=\"psysml:cb8a6054-43e9-4191-a3b4-d53f2df2fcdf\" target=\"_top\" title=\"psysml:cb8a6054-43e9-4191-a3b4-d53f2df2fcdf\" xlink:actuate=\"onRequest\" xlink:href=\"psysml:cb8a6054-43e9-4191-a3b4-d53f2df2fcdf\" xlink:show=\"new\" xlink:title=\"psysml:cb8a6054-43e9-4191-a3b4-d53f2df2fcdf\" xlink:type=\"simple\"><polygon fill=\"#FFFFFF\" points=\"16,6,156,6,163,28.2969,467,28.2969,467,437,16,437,16,6\" style=\"stroke: #000000; stroke-width: 1.5;\"/><line style=\"stroke: #000000; stroke-width: 1.5;\" x1=\"16\" x2=\"163\" y1=\"28.2969\" y2=\"28.2969\"/><text fill=\"#000000\" font-family=\"sans-serif\" font-size=\"14\" font-weight=\"bold\" lengthAdjust=\"spacingAndGlyphs\" textLength=\"134\" x=\"20\" y=\"20.9951\">DependencyTest</text></a><!--MD5=[e4f7fae6ed58524ba242bb0b0d3be6b7]\n",
       "cluster E2--><a href=\"psysml:b8ece1dd-151a-4631-92e5-c2dbf563fb8b\" target=\"_top\" title=\"psysml:b8ece1dd-151a-4631-92e5-c2dbf563fb8b\" xlink:actuate=\"onRequest\" xlink:href=\"psysml:b8ece1dd-151a-4631-92e5-c2dbf563fb8b\" xlink:show=\"new\" xlink:title=\"psysml:b8ece1dd-151a-4631-92e5-c2dbf563fb8b\" xlink:type=\"simple\"><polygon fill=\"#FFFFFF\" points=\"255,49,319,49,326,71.2969,443,71.2969,443,413,255,413,255,49\" style=\"stroke: #000000; stroke-width: 1.5;\"/><line style=\"stroke: #000000; stroke-width: 1.5;\" x1=\"255\" x2=\"326\" y1=\"71.2969\" y2=\"71.2969\"/><text fill=\"#000000\" font-family=\"sans-serif\" font-size=\"14\" font-weight=\"bold\" lengthAdjust=\"spacingAndGlyphs\" textLength=\"58\" x=\"259\" y=\"63.9951\">System</text></a><!--MD5=[60a26617385b1d2d0262a64233df1f8d]\n",
       "class E6--><a href=\"psysml:3db867e9-a237-498d-9697-66a5ca6752eb\" target=\"_top\" title=\"psysml:3db867e9-a237-498d-9697-66a5ca6752eb\" xlink:actuate=\"onRequest\" xlink:href=\"psysml:3db867e9-a237-498d-9697-66a5ca6752eb\" xlink:show=\"new\" xlink:title=\"psysml:3db867e9-a237-498d-9697-66a5ca6752eb\" xlink:type=\"simple\"><rect fill=\"#FFFFFF\" height=\"45.9375\" id=\"E6\" rx=\"10\" ry=\"10\" style=\"stroke: #383838; stroke-width: 1.5;\" width=\"71\" x=\"32.5\" y=\"217.5\"/><text fill=\"#000000\" font-family=\"sans-serif\" font-size=\"12\" font-style=\"italic\" lengthAdjust=\"spacingAndGlyphs\" textLength=\"69\" x=\"33.5\" y=\"233.6387\">«attribute»</text><text fill=\"#000000\" font-family=\"sans-serif\" font-size=\"12\" lengthAdjust=\"spacingAndGlyphs\" textLength=\"6\" x=\"65\" y=\"247.6074\">x</text><line style=\"stroke: #383838; stroke-width: 1.5;\" x1=\"33.5\" x2=\"102.5\" y1=\"255.4375\" y2=\"255.4375\"/></a><!--MD5=[2156ba9850f5573cc1fc38a6a4b2f02b]\n",
       "class E7--><a href=\"psysml:c548d046-cadc-4301-a44e-d185972c752b\" target=\"_top\" title=\"psysml:c548d046-cadc-4301-a44e-d185972c752b\" xlink:actuate=\"onRequest\" xlink:href=\"psysml:c548d046-cadc-4301-a44e-d185972c752b\" xlink:show=\"new\" xlink:title=\"psysml:c548d046-cadc-4301-a44e-d185972c752b\" xlink:type=\"simple\"><rect fill=\"#FFFFFF\" height=\"45.9375\" id=\"E7\" rx=\"10\" ry=\"10\" style=\"stroke: #383838; stroke-width: 1.5;\" width=\"71\" x=\"138.5\" y=\"217.5\"/><text fill=\"#000000\" font-family=\"sans-serif\" font-size=\"12\" font-style=\"italic\" lengthAdjust=\"spacingAndGlyphs\" textLength=\"69\" x=\"139.5\" y=\"233.6387\">«attribute»</text><text fill=\"#000000\" font-family=\"sans-serif\" font-size=\"12\" lengthAdjust=\"spacingAndGlyphs\" textLength=\"6\" x=\"171\" y=\"247.6074\">y</text><line style=\"stroke: #383838; stroke-width: 1.5;\" x1=\"139.5\" x2=\"208.5\" y1=\"255.4375\" y2=\"255.4375\"/></a><!--MD5=[b9389687b975829384b498ac4b7476b2]\n",
       "class E8--><a href=\"psysml:47dc4f88-d05c-4598-a7e7-ecfe5751dc87\" target=\"_top\" title=\"psysml:47dc4f88-d05c-4598-a7e7-ecfe5751dc87\" xlink:actuate=\"onRequest\" xlink:href=\"psysml:47dc4f88-d05c-4598-a7e7-ecfe5751dc87\" xlink:show=\"new\" xlink:title=\"psysml:47dc4f88-d05c-4598-a7e7-ecfe5751dc87\" xlink:type=\"simple\"><rect fill=\"#FFFFFF\" height=\"45.9375\" id=\"E8\" rx=\"10\" ry=\"10\" style=\"stroke: #383838; stroke-width: 1.5;\" width=\"71\" x=\"84.5\" y=\"87.5\"/><text fill=\"#000000\" font-family=\"sans-serif\" font-size=\"12\" font-style=\"italic\" lengthAdjust=\"spacingAndGlyphs\" textLength=\"69\" x=\"85.5\" y=\"103.6387\">«attribute»</text><text fill=\"#000000\" font-family=\"sans-serif\" font-size=\"12\" lengthAdjust=\"spacingAndGlyphs\" textLength=\"5\" x=\"117.5\" y=\"117.6074\">z</text><line style=\"stroke: #383838; stroke-width: 1.5;\" x1=\"85.5\" x2=\"154.5\" y1=\"125.4375\" y2=\"125.4375\"/></a><a href=\"psysml:59f5b99d-24d3-4acd-853e-8f7f0b563d54\" target=\"_top\" title=\"psysml:59f5b99d-24d3-4acd-853e-8f7f0b563d54\" xlink:actuate=\"onRequest\" xlink:href=\"psysml:59f5b99d-24d3-4acd-853e-8f7f0b563d54\" xlink:show=\"new\" xlink:title=\"psysml:59f5b99d-24d3-4acd-853e-8f7f0b563d54\" xlink:type=\"simple\"><polygon fill=\"#FFFFFF\" points=\"271,84,413,84,420,106.2969,427,106.2969,427,136.5938,271,136.5938,271,84\" style=\"stroke: #000000; stroke-width: 1.5;\"/><line style=\"stroke: #000000; stroke-width: 1.5;\" x1=\"271\" x2=\"420\" y1=\"106.2969\" y2=\"106.2969\"/><text fill=\"#000000\" font-family=\"sans-serif\" font-size=\"14\" font-weight=\"bold\" lengthAdjust=\"spacingAndGlyphs\" textLength=\"136\" x=\"275\" y=\"98.9951\">Application Layer</text></a><a href=\"psysml:5cfbc3a5-c556-4af2-acf6-f60fe409e97c\" target=\"_top\" title=\"psysml:5cfbc3a5-c556-4af2-acf6-f60fe409e97c\" xlink:actuate=\"onRequest\" xlink:href=\"psysml:5cfbc3a5-c556-4af2-acf6-f60fe409e97c\" xlink:show=\"new\" xlink:title=\"psysml:5cfbc3a5-c556-4af2-acf6-f60fe409e97c\" xlink:type=\"simple\"><polygon fill=\"#FFFFFF\" points=\"285,214,399,214,406,236.2969,413,236.2969,413,266.5938,285,266.5938,285,214\" style=\"stroke: #000000; stroke-width: 1.5;\"/><line style=\"stroke: #000000; stroke-width: 1.5;\" x1=\"285\" x2=\"406\" y1=\"236.2969\" y2=\"236.2969\"/><text fill=\"#000000\" font-family=\"sans-serif\" font-size=\"14\" font-weight=\"bold\" lengthAdjust=\"spacingAndGlyphs\" textLength=\"108\" x=\"289\" y=\"228.9951\">Service Layer</text></a><a href=\"psysml:acb31344-a810-41ff-bc38-efd03bbf6ecb\" target=\"_top\" title=\"psysml:acb31344-a810-41ff-bc38-efd03bbf6ecb\" xlink:actuate=\"onRequest\" xlink:href=\"psysml:acb31344-a810-41ff-bc38-efd03bbf6ecb\" xlink:show=\"new\" xlink:title=\"psysml:acb31344-a810-41ff-bc38-efd03bbf6ecb\" xlink:type=\"simple\"><polygon fill=\"#FFFFFF\" points=\"297,344,387,344,394,366.2969,401,366.2969,401,396.5938,297,396.5938,297,344\" style=\"stroke: #000000; stroke-width: 1.5;\"/><line style=\"stroke: #000000; stroke-width: 1.5;\" x1=\"297\" x2=\"394\" y1=\"366.2969\" y2=\"366.2969\"/><text fill=\"#000000\" font-family=\"sans-serif\" font-size=\"14\" font-weight=\"bold\" lengthAdjust=\"spacingAndGlyphs\" textLength=\"84\" x=\"301\" y=\"358.9951\">Data Layer</text></a><!--MD5=[af87c684e3b0d8be13c1a698a818ef1e]\n",
       "link E3 to E4--><a href=\"psysml:952f286e-4b84-47c6-949f-c687a4b4f029\" target=\"_top\" title=\"psysml:952f286e-4b84-47c6-949f-c687a4b4f029\" xlink:actuate=\"onRequest\" xlink:href=\"psysml:952f286e-4b84-47c6-949f-c687a4b4f029\" xlink:show=\"new\" xlink:title=\"psysml:952f286e-4b84-47c6-949f-c687a4b4f029\" xlink:type=\"simple\"><path d=\"M349,137.1 C349,156.8 349,184.22 349,205.73 \" fill=\"none\" id=\"E3-&gt;E4\" style=\"stroke: #383838; stroke-width: 1.0; stroke-dasharray: 7.0,7.0;\"/><polygon fill=\"#383838\" points=\"349,213.95,352,205.95,346,205.95,349,213.95\" style=\"stroke: #383838; stroke-width: 1.0;\"/><text fill=\"#000000\" font-family=\"sans-serif\" font-size=\"13\" lengthAdjust=\"spacingAndGlyphs\" textLength=\"64\" x=\"350\" y=\"180.0669\">«depend»</text></a><!--MD5=[1b7591eae5389033d8d09a9d6721a717]\n",
       "link E4 to E5--><a href=\"psysml:7352021b-a74c-4755-9a9f-544f5d5618ed\" target=\"_top\" title=\"psysml:7352021b-a74c-4755-9a9f-544f5d5618ed\" xlink:actuate=\"onRequest\" xlink:href=\"psysml:7352021b-a74c-4755-9a9f-544f5d5618ed\" xlink:show=\"new\" xlink:title=\"psysml:7352021b-a74c-4755-9a9f-544f5d5618ed\" xlink:type=\"simple\"><path d=\"M349,267.1 C349,286.8 349,314.22 349,335.73 \" fill=\"none\" id=\"E4-&gt;E5\" style=\"stroke: #383838; stroke-width: 1.0; stroke-dasharray: 7.0,7.0;\"/><polygon fill=\"#383838\" points=\"349,343.95,352,335.95,346,335.95,349,343.95\" style=\"stroke: #383838; stroke-width: 1.0;\"/><text fill=\"#000000\" font-family=\"sans-serif\" font-size=\"13\" lengthAdjust=\"spacingAndGlyphs\" textLength=\"64\" x=\"350\" y=\"310.0669\">«depend»</text></a><!--MD5=[c5e8897d989ce984f93528998a7150fe]\n",
       "link E8 to E6--><a href=\"psysml:c2ca5ac6-1591-4e08-969e-b115a3bed697\" target=\"_top\" title=\"psysml:c2ca5ac6-1591-4e08-969e-b115a3bed697\" xlink:actuate=\"onRequest\" xlink:href=\"psysml:c2ca5ac6-1591-4e08-969e-b115a3bed697\" xlink:show=\"new\" xlink:title=\"psysml:c2ca5ac6-1591-4e08-969e-b115a3bed697\" xlink:type=\"simple\"><path d=\"M89.42,133.6 C79.35,142.68 69.37,154.11 64,167 C58.5,180.2 58.66,195.94 60.54,209.38 \" fill=\"none\" id=\"E8-&gt;E6\" style=\"stroke: #383838; stroke-width: 1.0; stroke-dasharray: 7.0,7.0;\"/><polygon fill=\"#383838\" points=\"61.9,217.4,63.517,209.0104,57.6018,210.0159,61.9,217.4\" style=\"stroke: #383838; stroke-width: 1.0;\"/><text fill=\"#000000\" font-family=\"sans-serif\" font-size=\"13\" lengthAdjust=\"spacingAndGlyphs\" textLength=\"64\" x=\"65\" y=\"180.0669\">«depend»</text></a><!--MD5=[bfa3c8b0d15052fdf50ae9310b491027]\n",
       "link E8 to E7--><a href=\"psysml:c2ca5ac6-1591-4e08-969e-b115a3bed697\" target=\"_top\" title=\"psysml:c2ca5ac6-1591-4e08-969e-b115a3bed697\" xlink:actuate=\"onRequest\" xlink:href=\"psysml:c2ca5ac6-1591-4e08-969e-b115a3bed697\" xlink:show=\"new\" xlink:title=\"psysml:c2ca5ac6-1591-4e08-969e-b115a3bed697\" xlink:type=\"simple\"><path d=\"M129.28,133.5 C138.17,154.57 151.64,186.5 161.47,209.81 \" fill=\"none\" id=\"E8-&gt;E7\" style=\"stroke: #383838; stroke-width: 1.0; stroke-dasharray: 7.0,7.0;\"/><polygon fill=\"#383838\" points=\"164.66,217.35,164.3241,208.8126,158.7933,211.1385,164.66,217.35\" style=\"stroke: #383838; stroke-width: 1.0;\"/><text fill=\"#000000\" font-family=\"sans-serif\" font-size=\"13\" lengthAdjust=\"spacingAndGlyphs\" textLength=\"64\" x=\"151\" y=\"180.0669\">«depend»</text></a><!--MD5=[f1ce7e67605eef43cd2b7d34a2eac7e1]\n",
       "@startuml\r\n",
       "top to bottom direction\r\n",
       "skinparam monochrome true\r\n",
       "skinparam classbackgroundcolor white\r\n",
       "skinparam shadowing false\r\n",
       "skinparam wrapWidth 300\r\n",
       "hide circle\r\n",
       "\r\n",
       "package \"DependencyTest\" as E1  [[psysml:cb8a6054-43e9-4191-a3b4-d53f2df2fcdf ]]  {\r\n",
       "package \"System\" as E2  [[psysml:b8ece1dd-151a-4631-92e5-c2dbf563fb8b ]]  {\r\n",
       "package \"Application Layer\" as E3  [[psysml:59f5b99d-24d3-4acd-853e-8f7f0b563d54 ]]  {\r\n",
       "}\r\n",
       "package \"Service Layer\" as E4  [[psysml:5cfbc3a5-c556-4af2-acf6-f60fe409e97c ]]  {\r\n",
       "}\r\n",
       "package \"Data Layer\" as E5  [[psysml:acb31344-a810-41ff-bc38-efd03bbf6ecb ]]  {\r\n",
       "}\r\n",
       "}\r\n",
       "comp usage \"x\" as E6  <<(T,blue)attribute>> [[psysml:3db867e9-a237-498d-9697-66a5ca6752eb ]] {\r\n",
       "}\r\n",
       "comp usage \"y\" as E7  <<(T,blue)attribute>> [[psysml:c548d046-cadc-4301-a44e-d185972c752b ]] {\r\n",
       "}\r\n",
       "comp usage \"z\" as E8  <<(T,blue)attribute>> [[psysml:47dc4f88-d05c-4598-a7e7-ecfe5751dc87 ]] {\r\n",
       "}\r\n",
       "E3 ..>> E4 [[psysml:952f286e-4b84-47c6-949f-c687a4b4f029 ]] : <<depend>>\r\n",
       "E4 ..>> E5 [[psysml:7352021b-a74c-4755-9a9f-544f5d5618ed ]] : <<depend>>\r\n",
       "E8 ..>> E6 [[psysml:c2ca5ac6-1591-4e08-969e-b115a3bed697 ]] : <<depend>>\r\n",
       "E8 ..>> E7 [[psysml:c2ca5ac6-1591-4e08-969e-b115a3bed697 ]] : <<depend>>\r\n",
       "}\r\n",
       "@enduml\r\n",
       "\n",
       "PlantUML version 1.2020.13(Sat Jun 13 12:26:38 UTC 2020)\n",
       "(EPL source distribution)\n",
       "Java Runtime: OpenJDK Runtime Environment\n",
       "JVM: OpenJDK 64-Bit Server VM\n",
       "Default Encoding: UTF-8\n",
       "Language: en\n",
       "Country: null\n",
       "--></g></svg>"
      ]
     },
     "execution_count": 45,
     "metadata": {},
     "output_type": "execute_result"
    }
   ],
   "source": [
    "%viz --style=\"TB\" --view=\"Tree\" \"DependencyTest\""
   ]
  },
  {
   "cell_type": "code",
   "execution_count": 46,
   "id": "09e8fead",
   "metadata": {
    "execution": {
     "iopub.execute_input": "2021-04-20T07:03:26.524733Z",
     "iopub.status.busy": "2021-04-20T07:03:26.524173Z",
     "iopub.status.idle": "2021-04-20T07:03:26.532783Z",
     "shell.execute_reply": "2021-04-20T07:03:26.532038Z"
    }
   },
   "outputs": [
    {
     "data": {
      "image/svg+xml": [
       "<?xml version=\"1.0\" encoding=\"UTF-8\" standalone=\"no\"?><svg xmlns=\"http://www.w3.org/2000/svg\" xmlns:xlink=\"http://www.w3.org/1999/xlink\" contentScriptType=\"application/ecmascript\" contentStyleType=\"text/css\" height=\"12px\" preserveAspectRatio=\"none\" style=\"width:12px;height:12px;\" version=\"1.1\" viewBox=\"0 0 12 12\" width=\"12px\" zoomAndPan=\"magnify\"><defs/><g><!--MD5=[f4ee21bc66e489b5061b7c3e9601fdef]\n",
       "@startuml\r\n",
       "top to bottom direction\r\n",
       "skinparam monochrome true\r\n",
       "skinparam classbackgroundcolor white\r\n",
       "skinparam shadowing false\r\n",
       "skinparam wrapWidth 300\r\n",
       "hide circle\r\n",
       "\r\n",
       "@enduml\r\n",
       "\n",
       "PlantUML version 1.2020.13(Sat Jun 13 12:26:38 UTC 2020)\n",
       "(EPL source distribution)\n",
       "Java Runtime: OpenJDK Runtime Environment\n",
       "JVM: OpenJDK 64-Bit Server VM\n",
       "Default Encoding: UTF-8\n",
       "Language: en\n",
       "Country: null\n",
       "--></g></svg>"
      ]
     },
     "execution_count": 46,
     "metadata": {},
     "output_type": "execute_result"
    }
   ],
   "source": [
    "%viz --style=\"TB\" --view=\"State\" \"DependencyTest\""
   ]
  },
  {
   "cell_type": "code",
   "execution_count": 47,
   "id": "3b6c7503",
   "metadata": {
    "execution": {
     "iopub.execute_input": "2021-04-20T07:03:26.585679Z",
     "iopub.status.busy": "2021-04-20T07:03:26.585100Z",
     "iopub.status.idle": "2021-04-20T07:03:26.621397Z",
     "shell.execute_reply": "2021-04-20T07:03:26.619368Z"
    }
   },
   "outputs": [
    {
     "data": {
      "image/svg+xml": [
       "<?xml version=\"1.0\" encoding=\"UTF-8\" standalone=\"no\"?><svg xmlns=\"http://www.w3.org/2000/svg\" xmlns:xlink=\"http://www.w3.org/1999/xlink\" contentScriptType=\"application/ecmascript\" contentStyleType=\"text/css\" height=\"361px\" preserveAspectRatio=\"none\" style=\"width:489px;height:361px;\" version=\"1.1\" viewBox=\"0 0 489 361\" width=\"489px\" zoomAndPan=\"magnify\"><defs/><g><!--MD5=[fbc87193dbaf4d95561dea2c320d4a47]\n",
       "cluster E1--><a href=\"psysml:cb8a6054-43e9-4191-a3b4-d53f2df2fcdf\" target=\"_top\" title=\"psysml:cb8a6054-43e9-4191-a3b4-d53f2df2fcdf\" xlink:actuate=\"onRequest\" xlink:href=\"psysml:cb8a6054-43e9-4191-a3b4-d53f2df2fcdf\" xlink:show=\"new\" xlink:title=\"psysml:cb8a6054-43e9-4191-a3b4-d53f2df2fcdf\" xlink:type=\"simple\"><polygon fill=\"#FFFFFF\" points=\"16,6,156,6,163,28.2969,467,28.2969,467,349,16,349,16,6\" style=\"stroke: #000000; stroke-width: 1.5;\"/><line style=\"stroke: #000000; stroke-width: 1.5;\" x1=\"16\" x2=\"163\" y1=\"28.2969\" y2=\"28.2969\"/><text fill=\"#000000\" font-family=\"sans-serif\" font-size=\"14\" font-weight=\"bold\" lengthAdjust=\"spacingAndGlyphs\" textLength=\"134\" x=\"20\" y=\"20.9951\">DependencyTest</text></a><!--MD5=[e4f7fae6ed58524ba242bb0b0d3be6b7]\n",
       "cluster E2--><a href=\"psysml:b8ece1dd-151a-4631-92e5-c2dbf563fb8b\" target=\"_top\" title=\"psysml:b8ece1dd-151a-4631-92e5-c2dbf563fb8b\" xlink:actuate=\"onRequest\" xlink:href=\"psysml:b8ece1dd-151a-4631-92e5-c2dbf563fb8b\" xlink:show=\"new\" xlink:title=\"psysml:b8ece1dd-151a-4631-92e5-c2dbf563fb8b\" xlink:type=\"simple\"><polygon fill=\"#FFFFFF\" points=\"255,49,319,49,326,71.2969,443,71.2969,443,325,255,325,255,49\" style=\"stroke: #000000; stroke-width: 1.5;\"/><line style=\"stroke: #000000; stroke-width: 1.5;\" x1=\"255\" x2=\"326\" y1=\"71.2969\" y2=\"71.2969\"/><text fill=\"#000000\" font-family=\"sans-serif\" font-size=\"14\" font-weight=\"bold\" lengthAdjust=\"spacingAndGlyphs\" textLength=\"58\" x=\"259\" y=\"63.9951\">System</text></a><!--MD5=[60a26617385b1d2d0262a64233df1f8d]\n",
       "class E6--><a href=\"psysml:3db867e9-a237-498d-9697-66a5ca6752eb\" target=\"_top\" title=\"psysml:3db867e9-a237-498d-9697-66a5ca6752eb\" xlink:actuate=\"onRequest\" xlink:href=\"psysml:3db867e9-a237-498d-9697-66a5ca6752eb\" xlink:show=\"new\" xlink:title=\"psysml:3db867e9-a237-498d-9697-66a5ca6752eb\" xlink:type=\"simple\"><rect fill=\"#FFFFFF\" height=\"45.9375\" id=\"E6\" rx=\"10\" ry=\"10\" style=\"stroke: #383838; stroke-width: 1.5;\" width=\"71\" x=\"32.5\" y=\"173.5\"/><text fill=\"#000000\" font-family=\"sans-serif\" font-size=\"12\" font-style=\"italic\" lengthAdjust=\"spacingAndGlyphs\" textLength=\"69\" x=\"33.5\" y=\"189.6387\">«attribute»</text><text fill=\"#000000\" font-family=\"sans-serif\" font-size=\"12\" lengthAdjust=\"spacingAndGlyphs\" textLength=\"6\" x=\"65\" y=\"203.6074\">x</text><line style=\"stroke: #383838; stroke-width: 1.5;\" x1=\"33.5\" x2=\"102.5\" y1=\"211.4375\" y2=\"211.4375\"/></a><!--MD5=[2156ba9850f5573cc1fc38a6a4b2f02b]\n",
       "class E7--><a href=\"psysml:c548d046-cadc-4301-a44e-d185972c752b\" target=\"_top\" title=\"psysml:c548d046-cadc-4301-a44e-d185972c752b\" xlink:actuate=\"onRequest\" xlink:href=\"psysml:c548d046-cadc-4301-a44e-d185972c752b\" xlink:show=\"new\" xlink:title=\"psysml:c548d046-cadc-4301-a44e-d185972c752b\" xlink:type=\"simple\"><rect fill=\"#FFFFFF\" height=\"45.9375\" id=\"E7\" rx=\"10\" ry=\"10\" style=\"stroke: #383838; stroke-width: 1.5;\" width=\"71\" x=\"138.5\" y=\"173.5\"/><text fill=\"#000000\" font-family=\"sans-serif\" font-size=\"12\" font-style=\"italic\" lengthAdjust=\"spacingAndGlyphs\" textLength=\"69\" x=\"139.5\" y=\"189.6387\">«attribute»</text><text fill=\"#000000\" font-family=\"sans-serif\" font-size=\"12\" lengthAdjust=\"spacingAndGlyphs\" textLength=\"6\" x=\"171\" y=\"203.6074\">y</text><line style=\"stroke: #383838; stroke-width: 1.5;\" x1=\"139.5\" x2=\"208.5\" y1=\"211.4375\" y2=\"211.4375\"/></a><!--MD5=[b9389687b975829384b498ac4b7476b2]\n",
       "class E8--><a href=\"psysml:47dc4f88-d05c-4598-a7e7-ecfe5751dc87\" target=\"_top\" title=\"psysml:47dc4f88-d05c-4598-a7e7-ecfe5751dc87\" xlink:actuate=\"onRequest\" xlink:href=\"psysml:47dc4f88-d05c-4598-a7e7-ecfe5751dc87\" xlink:show=\"new\" xlink:title=\"psysml:47dc4f88-d05c-4598-a7e7-ecfe5751dc87\" xlink:type=\"simple\"><rect fill=\"#FFFFFF\" height=\"45.9375\" id=\"E8\" rx=\"10\" ry=\"10\" style=\"stroke: #383838; stroke-width: 1.5;\" width=\"71\" x=\"84.5\" y=\"87.5\"/><text fill=\"#000000\" font-family=\"sans-serif\" font-size=\"12\" font-style=\"italic\" lengthAdjust=\"spacingAndGlyphs\" textLength=\"69\" x=\"85.5\" y=\"103.6387\">«attribute»</text><text fill=\"#000000\" font-family=\"sans-serif\" font-size=\"12\" lengthAdjust=\"spacingAndGlyphs\" textLength=\"5\" x=\"117.5\" y=\"117.6074\">z</text><line style=\"stroke: #383838; stroke-width: 1.5;\" x1=\"85.5\" x2=\"154.5\" y1=\"125.4375\" y2=\"125.4375\"/></a><a href=\"psysml:59f5b99d-24d3-4acd-853e-8f7f0b563d54\" target=\"_top\" title=\"psysml:59f5b99d-24d3-4acd-853e-8f7f0b563d54\" xlink:actuate=\"onRequest\" xlink:href=\"psysml:59f5b99d-24d3-4acd-853e-8f7f0b563d54\" xlink:show=\"new\" xlink:title=\"psysml:59f5b99d-24d3-4acd-853e-8f7f0b563d54\" xlink:type=\"simple\"><polygon fill=\"#FFFFFF\" points=\"271,84,413,84,420,106.2969,427,106.2969,427,136.5938,271,136.5938,271,84\" style=\"stroke: #000000; stroke-width: 1.5;\"/><line style=\"stroke: #000000; stroke-width: 1.5;\" x1=\"271\" x2=\"420\" y1=\"106.2969\" y2=\"106.2969\"/><text fill=\"#000000\" font-family=\"sans-serif\" font-size=\"14\" font-weight=\"bold\" lengthAdjust=\"spacingAndGlyphs\" textLength=\"136\" x=\"275\" y=\"98.9951\">Application Layer</text></a><a href=\"psysml:5cfbc3a5-c556-4af2-acf6-f60fe409e97c\" target=\"_top\" title=\"psysml:5cfbc3a5-c556-4af2-acf6-f60fe409e97c\" xlink:actuate=\"onRequest\" xlink:href=\"psysml:5cfbc3a5-c556-4af2-acf6-f60fe409e97c\" xlink:show=\"new\" xlink:title=\"psysml:5cfbc3a5-c556-4af2-acf6-f60fe409e97c\" xlink:type=\"simple\"><polygon fill=\"#FFFFFF\" points=\"285,170,399,170,406,192.2969,413,192.2969,413,222.5938,285,222.5938,285,170\" style=\"stroke: #000000; stroke-width: 1.5;\"/><line style=\"stroke: #000000; stroke-width: 1.5;\" x1=\"285\" x2=\"406\" y1=\"192.2969\" y2=\"192.2969\"/><text fill=\"#000000\" font-family=\"sans-serif\" font-size=\"14\" font-weight=\"bold\" lengthAdjust=\"spacingAndGlyphs\" textLength=\"108\" x=\"289\" y=\"184.9951\">Service Layer</text></a><a href=\"psysml:acb31344-a810-41ff-bc38-efd03bbf6ecb\" target=\"_top\" title=\"psysml:acb31344-a810-41ff-bc38-efd03bbf6ecb\" xlink:actuate=\"onRequest\" xlink:href=\"psysml:acb31344-a810-41ff-bc38-efd03bbf6ecb\" xlink:show=\"new\" xlink:title=\"psysml:acb31344-a810-41ff-bc38-efd03bbf6ecb\" xlink:type=\"simple\"><polygon fill=\"#FFFFFF\" points=\"297,256,387,256,394,278.2969,401,278.2969,401,308.5938,297,308.5938,297,256\" style=\"stroke: #000000; stroke-width: 1.5;\"/><line style=\"stroke: #000000; stroke-width: 1.5;\" x1=\"297\" x2=\"394\" y1=\"278.2969\" y2=\"278.2969\"/><text fill=\"#000000\" font-family=\"sans-serif\" font-size=\"14\" font-weight=\"bold\" lengthAdjust=\"spacingAndGlyphs\" textLength=\"84\" x=\"301\" y=\"270.9951\">Data Layer</text></a><!--MD5=[af87c684e3b0d8be13c1a698a818ef1e]\n",
       "link E3 to E4--><a href=\"psysml:952f286e-4b84-47c6-949f-c687a4b4f029\" target=\"_top\" title=\"psysml:952f286e-4b84-47c6-949f-c687a4b4f029\" xlink:actuate=\"onRequest\" xlink:href=\"psysml:952f286e-4b84-47c6-949f-c687a4b4f029\" xlink:show=\"new\" xlink:title=\"psysml:952f286e-4b84-47c6-949f-c687a4b4f029\" xlink:type=\"simple\"><path d=\"M349,137.16 C349,144.98 349,153.69 349,161.94 \" fill=\"none\" id=\"E3-&gt;E4\" style=\"stroke: #383838; stroke-width: 1.0; stroke-dasharray: 7.0,7.0;\"/><polygon fill=\"#383838\" points=\"349,170,352,162,346,162,349,170\" style=\"stroke: #383838; stroke-width: 1.0;\"/><text fill=\"#000000\" font-family=\"sans-serif\" font-size=\"13\" lengthAdjust=\"spacingAndGlyphs\" textLength=\"64\" x=\"350\" y=\"158.0669\">«depend»</text></a><!--MD5=[1b7591eae5389033d8d09a9d6721a717]\n",
       "link E4 to E5--><a href=\"psysml:7352021b-a74c-4755-9a9f-544f5d5618ed\" target=\"_top\" title=\"psysml:7352021b-a74c-4755-9a9f-544f5d5618ed\" xlink:actuate=\"onRequest\" xlink:href=\"psysml:7352021b-a74c-4755-9a9f-544f5d5618ed\" xlink:show=\"new\" xlink:title=\"psysml:7352021b-a74c-4755-9a9f-544f5d5618ed\" xlink:type=\"simple\"><path d=\"M349,223.16 C349,230.98 349,239.69 349,247.94 \" fill=\"none\" id=\"E4-&gt;E5\" style=\"stroke: #383838; stroke-width: 1.0; stroke-dasharray: 7.0,7.0;\"/><polygon fill=\"#383838\" points=\"349,256,352,248,346,248,349,256\" style=\"stroke: #383838; stroke-width: 1.0;\"/><text fill=\"#000000\" font-family=\"sans-serif\" font-size=\"13\" lengthAdjust=\"spacingAndGlyphs\" textLength=\"64\" x=\"350\" y=\"244.0669\">«depend»</text></a><!--MD5=[c5e8897d989ce984f93528998a7150fe]\n",
       "link E8 to E6--><a href=\"psysml:c2ca5ac6-1591-4e08-969e-b115a3bed697\" target=\"_top\" title=\"psysml:c2ca5ac6-1591-4e08-969e-b115a3bed697\" xlink:actuate=\"onRequest\" xlink:href=\"psysml:c2ca5ac6-1591-4e08-969e-b115a3bed697\" xlink:show=\"new\" xlink:title=\"psysml:c2ca5ac6-1591-4e08-969e-b115a3bed697\" xlink:type=\"simple\"><path d=\"M84.49,125.34 C76.34,130.27 68.69,136.72 64,145 C60.54,151.1 59.62,158.31 60,165.33 \" fill=\"none\" id=\"E8-&gt;E6\" style=\"stroke: #383838; stroke-width: 1.0; stroke-dasharray: 7.0,7.0;\"/><polygon fill=\"#383838\" points=\"60.97,173.42,63.0061,165.1221,57.0479,165.8294,60.97,173.42\" style=\"stroke: #383838; stroke-width: 1.0;\"/><text fill=\"#000000\" font-family=\"sans-serif\" font-size=\"13\" lengthAdjust=\"spacingAndGlyphs\" textLength=\"64\" x=\"65\" y=\"158.0669\">«depend»</text></a><!--MD5=[bfa3c8b0d15052fdf50ae9310b491027]\n",
       "link E8 to E7--><a href=\"psysml:c2ca5ac6-1591-4e08-969e-b115a3bed697\" target=\"_top\" title=\"psysml:c2ca5ac6-1591-4e08-969e-b115a3bed697\" xlink:actuate=\"onRequest\" xlink:href=\"psysml:c2ca5ac6-1591-4e08-969e-b115a3bed697\" xlink:show=\"new\" xlink:title=\"psysml:c2ca5ac6-1591-4e08-969e-b115a3bed697\" xlink:type=\"simple\"><path d=\"M134.19,133.57 C140.65,143.62 148.38,155.65 155.31,166.42 \" fill=\"none\" id=\"E8-&gt;E7\" style=\"stroke: #383838; stroke-width: 1.0; stroke-dasharray: 7.0,7.0;\"/><polygon fill=\"#383838\" points=\"159.72,173.29,157.9148,164.9389,152.8688,168.185,159.72,173.29\" style=\"stroke: #383838; stroke-width: 1.0;\"/><text fill=\"#000000\" font-family=\"sans-serif\" font-size=\"13\" lengthAdjust=\"spacingAndGlyphs\" textLength=\"64\" x=\"152\" y=\"158.0669\">«depend»</text></a><!--MD5=[25c7d513e74d69a5ff176fab541e2153]\n",
       "@startuml\r\n",
       "skinparam ranksep 10\r\n",
       "skinparam rectangle {\r\n",
       " backgroundColor<<block>> LightGreen\r\n",
       "}\r\n",
       "top to bottom direction\r\n",
       "skinparam monochrome true\r\n",
       "skinparam classbackgroundcolor white\r\n",
       "skinparam shadowing false\r\n",
       "skinparam wrapWidth 300\r\n",
       "hide circle\r\n",
       "\r\n",
       "package \"DependencyTest\" as E1  [[psysml:cb8a6054-43e9-4191-a3b4-d53f2df2fcdf ]]  {\r\n",
       "package \"System\" as E2  [[psysml:b8ece1dd-151a-4631-92e5-c2dbf563fb8b ]]  {\r\n",
       "package \"Application Layer\" as E3  [[psysml:59f5b99d-24d3-4acd-853e-8f7f0b563d54 ]]  {\r\n",
       "}\r\n",
       "package \"Service Layer\" as E4  [[psysml:5cfbc3a5-c556-4af2-acf6-f60fe409e97c ]]  {\r\n",
       "}\r\n",
       "package \"Data Layer\" as E5  [[psysml:acb31344-a810-41ff-bc38-efd03bbf6ecb ]]  {\r\n",
       "}\r\n",
       "}\r\n",
       "comp usage \"x\" as E6  <<(T,blue)attribute>> [[psysml:3db867e9-a237-498d-9697-66a5ca6752eb ]] {\r\n",
       "}\r\n",
       "comp usage \"y\" as E7  <<(T,blue)attribute>> [[psysml:c548d046-cadc-4301-a44e-d185972c752b ]] {\r\n",
       "}\r\n",
       "comp usage \"z\" as E8  <<(T,blue)attribute>> [[psysml:47dc4f88-d05c-4598-a7e7-ecfe5751dc87 ]] {\r\n",
       "}\r\n",
       "E3 ..>> E4 [[psysml:952f286e-4b84-47c6-949f-c687a4b4f029 ]] : <<depend>>\r\n",
       "E4 ..>> E5 [[psysml:7352021b-a74c-4755-9a9f-544f5d5618ed ]] : <<depend>>\r\n",
       "E8 ..>> E6 [[psysml:c2ca5ac6-1591-4e08-969e-b115a3bed697 ]] : <<depend>>\r\n",
       "E8 ..>> E7 [[psysml:c2ca5ac6-1591-4e08-969e-b115a3bed697 ]] : <<depend>>\r\n",
       "}\r\n",
       "@enduml\r\n",
       "\n",
       "PlantUML version 1.2020.13(Sat Jun 13 12:26:38 UTC 2020)\n",
       "(EPL source distribution)\n",
       "Java Runtime: OpenJDK Runtime Environment\n",
       "JVM: OpenJDK 64-Bit Server VM\n",
       "Default Encoding: UTF-8\n",
       "Language: en\n",
       "Country: null\n",
       "--></g></svg>"
      ]
     },
     "execution_count": 47,
     "metadata": {},
     "output_type": "execute_result"
    }
   ],
   "source": [
    "%viz --style=\"TB\" --view=\"Interconnection\" \"DependencyTest\""
   ]
  },
  {
   "cell_type": "code",
   "execution_count": 48,
   "id": "ce60dcf9",
   "metadata": {
    "execution": {
     "iopub.execute_input": "2021-04-20T07:03:26.677830Z",
     "iopub.status.busy": "2021-04-20T07:03:26.672980Z",
     "iopub.status.idle": "2021-04-20T07:03:26.685851Z",
     "shell.execute_reply": "2021-04-20T07:03:26.682700Z"
    }
   },
   "outputs": [
    {
     "data": {
      "image/svg+xml": [
       "<?xml version=\"1.0\" encoding=\"UTF-8\" standalone=\"no\"?><svg xmlns=\"http://www.w3.org/2000/svg\" xmlns:xlink=\"http://www.w3.org/1999/xlink\" contentScriptType=\"application/ecmascript\" contentStyleType=\"text/css\" height=\"12px\" preserveAspectRatio=\"none\" style=\"width:12px;height:12px;\" version=\"1.1\" viewBox=\"0 0 12 12\" width=\"12px\" zoomAndPan=\"magnify\"><defs/><g><!--MD5=[06afc254b03ac5e9d9fb7773b07d0800]\n",
       "@startuml\r\n",
       "skinparam ranksep 8\r\n",
       "top to bottom direction\r\n",
       "skinparam monochrome true\r\n",
       "skinparam classbackgroundcolor white\r\n",
       "skinparam shadowing false\r\n",
       "skinparam wrapWidth 300\r\n",
       "hide circle\r\n",
       "\r\n",
       "@enduml\r\n",
       "\n",
       "PlantUML version 1.2020.13(Sat Jun 13 12:26:38 UTC 2020)\n",
       "(EPL source distribution)\n",
       "Java Runtime: OpenJDK Runtime Environment\n",
       "JVM: OpenJDK 64-Bit Server VM\n",
       "Default Encoding: UTF-8\n",
       "Language: en\n",
       "Country: null\n",
       "--></g></svg>"
      ]
     },
     "execution_count": 48,
     "metadata": {},
     "output_type": "execute_result"
    }
   ],
   "source": [
    "%viz --style=\"TB\" --view=\"Action\" \"DependencyTest\""
   ]
  },
  {
   "cell_type": "code",
   "execution_count": 49,
   "id": "92a7c22e",
   "metadata": {
    "execution": {
     "iopub.execute_input": "2021-04-20T07:03:26.737444Z",
     "iopub.status.busy": "2021-04-20T07:03:26.737103Z",
     "iopub.status.idle": "2021-04-20T07:03:26.770511Z",
     "shell.execute_reply": "2021-04-20T07:03:26.770238Z"
    }
   },
   "outputs": [
    {
     "data": {
      "image/svg+xml": [
       "<?xml version=\"1.0\" encoding=\"UTF-8\" standalone=\"no\"?><svg xmlns=\"http://www.w3.org/2000/svg\" xmlns:xlink=\"http://www.w3.org/1999/xlink\" contentScriptType=\"application/ecmascript\" contentStyleType=\"text/css\" height=\"449px\" preserveAspectRatio=\"none\" style=\"width:489px;height:449px;\" version=\"1.1\" viewBox=\"0 0 489 449\" width=\"489px\" zoomAndPan=\"magnify\"><defs/><g><!--MD5=[fbc87193dbaf4d95561dea2c320d4a47]\n",
       "cluster E1--><a href=\"psysml:cb8a6054-43e9-4191-a3b4-d53f2df2fcdf\" target=\"_top\" title=\"psysml:cb8a6054-43e9-4191-a3b4-d53f2df2fcdf\" xlink:actuate=\"onRequest\" xlink:href=\"psysml:cb8a6054-43e9-4191-a3b4-d53f2df2fcdf\" xlink:show=\"new\" xlink:title=\"psysml:cb8a6054-43e9-4191-a3b4-d53f2df2fcdf\" xlink:type=\"simple\"><polygon fill=\"#FFFFFF\" points=\"16,6,156,6,163,28.2969,467,28.2969,467,437,16,437,16,6\" style=\"stroke: #000000; stroke-width: 1.5;\"/><line style=\"stroke: #000000; stroke-width: 1.5;\" x1=\"16\" x2=\"163\" y1=\"28.2969\" y2=\"28.2969\"/><text fill=\"#000000\" font-family=\"sans-serif\" font-size=\"14\" font-weight=\"bold\" lengthAdjust=\"spacingAndGlyphs\" textLength=\"134\" x=\"20\" y=\"20.9951\">DependencyTest</text></a><!--MD5=[e4f7fae6ed58524ba242bb0b0d3be6b7]\n",
       "cluster E2--><a href=\"psysml:b8ece1dd-151a-4631-92e5-c2dbf563fb8b\" target=\"_top\" title=\"psysml:b8ece1dd-151a-4631-92e5-c2dbf563fb8b\" xlink:actuate=\"onRequest\" xlink:href=\"psysml:b8ece1dd-151a-4631-92e5-c2dbf563fb8b\" xlink:show=\"new\" xlink:title=\"psysml:b8ece1dd-151a-4631-92e5-c2dbf563fb8b\" xlink:type=\"simple\"><polygon fill=\"#FFFFFF\" points=\"255,49,319,49,326,71.2969,443,71.2969,443,413,255,413,255,49\" style=\"stroke: #000000; stroke-width: 1.5;\"/><line style=\"stroke: #000000; stroke-width: 1.5;\" x1=\"255\" x2=\"326\" y1=\"71.2969\" y2=\"71.2969\"/><text fill=\"#000000\" font-family=\"sans-serif\" font-size=\"14\" font-weight=\"bold\" lengthAdjust=\"spacingAndGlyphs\" textLength=\"58\" x=\"259\" y=\"63.9951\">System</text></a><!--MD5=[60a26617385b1d2d0262a64233df1f8d]\n",
       "class E6--><a href=\"psysml:3db867e9-a237-498d-9697-66a5ca6752eb\" target=\"_top\" title=\"psysml:3db867e9-a237-498d-9697-66a5ca6752eb\" xlink:actuate=\"onRequest\" xlink:href=\"psysml:3db867e9-a237-498d-9697-66a5ca6752eb\" xlink:show=\"new\" xlink:title=\"psysml:3db867e9-a237-498d-9697-66a5ca6752eb\" xlink:type=\"simple\"><rect fill=\"#FFFFFF\" height=\"45.9375\" id=\"E6\" rx=\"10\" ry=\"10\" style=\"stroke: #383838; stroke-width: 1.5;\" width=\"71\" x=\"32.5\" y=\"217.5\"/><text fill=\"#000000\" font-family=\"sans-serif\" font-size=\"12\" font-style=\"italic\" lengthAdjust=\"spacingAndGlyphs\" textLength=\"69\" x=\"33.5\" y=\"233.6387\">«attribute»</text><text fill=\"#000000\" font-family=\"sans-serif\" font-size=\"12\" lengthAdjust=\"spacingAndGlyphs\" textLength=\"6\" x=\"65\" y=\"247.6074\">x</text><line style=\"stroke: #383838; stroke-width: 1.5;\" x1=\"33.5\" x2=\"102.5\" y1=\"255.4375\" y2=\"255.4375\"/></a><!--MD5=[2156ba9850f5573cc1fc38a6a4b2f02b]\n",
       "class E7--><a href=\"psysml:c548d046-cadc-4301-a44e-d185972c752b\" target=\"_top\" title=\"psysml:c548d046-cadc-4301-a44e-d185972c752b\" xlink:actuate=\"onRequest\" xlink:href=\"psysml:c548d046-cadc-4301-a44e-d185972c752b\" xlink:show=\"new\" xlink:title=\"psysml:c548d046-cadc-4301-a44e-d185972c752b\" xlink:type=\"simple\"><rect fill=\"#FFFFFF\" height=\"45.9375\" id=\"E7\" rx=\"10\" ry=\"10\" style=\"stroke: #383838; stroke-width: 1.5;\" width=\"71\" x=\"138.5\" y=\"217.5\"/><text fill=\"#000000\" font-family=\"sans-serif\" font-size=\"12\" font-style=\"italic\" lengthAdjust=\"spacingAndGlyphs\" textLength=\"69\" x=\"139.5\" y=\"233.6387\">«attribute»</text><text fill=\"#000000\" font-family=\"sans-serif\" font-size=\"12\" lengthAdjust=\"spacingAndGlyphs\" textLength=\"6\" x=\"171\" y=\"247.6074\">y</text><line style=\"stroke: #383838; stroke-width: 1.5;\" x1=\"139.5\" x2=\"208.5\" y1=\"255.4375\" y2=\"255.4375\"/></a><!--MD5=[b9389687b975829384b498ac4b7476b2]\n",
       "class E8--><a href=\"psysml:47dc4f88-d05c-4598-a7e7-ecfe5751dc87\" target=\"_top\" title=\"psysml:47dc4f88-d05c-4598-a7e7-ecfe5751dc87\" xlink:actuate=\"onRequest\" xlink:href=\"psysml:47dc4f88-d05c-4598-a7e7-ecfe5751dc87\" xlink:show=\"new\" xlink:title=\"psysml:47dc4f88-d05c-4598-a7e7-ecfe5751dc87\" xlink:type=\"simple\"><rect fill=\"#FFFFFF\" height=\"45.9375\" id=\"E8\" rx=\"10\" ry=\"10\" style=\"stroke: #383838; stroke-width: 1.5;\" width=\"71\" x=\"84.5\" y=\"87.5\"/><text fill=\"#000000\" font-family=\"sans-serif\" font-size=\"12\" font-style=\"italic\" lengthAdjust=\"spacingAndGlyphs\" textLength=\"69\" x=\"85.5\" y=\"103.6387\">«attribute»</text><text fill=\"#000000\" font-family=\"sans-serif\" font-size=\"12\" lengthAdjust=\"spacingAndGlyphs\" textLength=\"5\" x=\"117.5\" y=\"117.6074\">z</text><line style=\"stroke: #383838; stroke-width: 1.5;\" x1=\"85.5\" x2=\"154.5\" y1=\"125.4375\" y2=\"125.4375\"/></a><a href=\"psysml:59f5b99d-24d3-4acd-853e-8f7f0b563d54\" target=\"_top\" title=\"psysml:59f5b99d-24d3-4acd-853e-8f7f0b563d54\" xlink:actuate=\"onRequest\" xlink:href=\"psysml:59f5b99d-24d3-4acd-853e-8f7f0b563d54\" xlink:show=\"new\" xlink:title=\"psysml:59f5b99d-24d3-4acd-853e-8f7f0b563d54\" xlink:type=\"simple\"><polygon fill=\"#FFFFFF\" points=\"271,84,413,84,420,106.2969,427,106.2969,427,136.5938,271,136.5938,271,84\" style=\"stroke: #000000; stroke-width: 1.5;\"/><line style=\"stroke: #000000; stroke-width: 1.5;\" x1=\"271\" x2=\"420\" y1=\"106.2969\" y2=\"106.2969\"/><text fill=\"#000000\" font-family=\"sans-serif\" font-size=\"14\" font-weight=\"bold\" lengthAdjust=\"spacingAndGlyphs\" textLength=\"136\" x=\"275\" y=\"98.9951\">Application Layer</text></a><a href=\"psysml:5cfbc3a5-c556-4af2-acf6-f60fe409e97c\" target=\"_top\" title=\"psysml:5cfbc3a5-c556-4af2-acf6-f60fe409e97c\" xlink:actuate=\"onRequest\" xlink:href=\"psysml:5cfbc3a5-c556-4af2-acf6-f60fe409e97c\" xlink:show=\"new\" xlink:title=\"psysml:5cfbc3a5-c556-4af2-acf6-f60fe409e97c\" xlink:type=\"simple\"><polygon fill=\"#FFFFFF\" points=\"285,214,399,214,406,236.2969,413,236.2969,413,266.5938,285,266.5938,285,214\" style=\"stroke: #000000; stroke-width: 1.5;\"/><line style=\"stroke: #000000; stroke-width: 1.5;\" x1=\"285\" x2=\"406\" y1=\"236.2969\" y2=\"236.2969\"/><text fill=\"#000000\" font-family=\"sans-serif\" font-size=\"14\" font-weight=\"bold\" lengthAdjust=\"spacingAndGlyphs\" textLength=\"108\" x=\"289\" y=\"228.9951\">Service Layer</text></a><a href=\"psysml:acb31344-a810-41ff-bc38-efd03bbf6ecb\" target=\"_top\" title=\"psysml:acb31344-a810-41ff-bc38-efd03bbf6ecb\" xlink:actuate=\"onRequest\" xlink:href=\"psysml:acb31344-a810-41ff-bc38-efd03bbf6ecb\" xlink:show=\"new\" xlink:title=\"psysml:acb31344-a810-41ff-bc38-efd03bbf6ecb\" xlink:type=\"simple\"><polygon fill=\"#FFFFFF\" points=\"297,344,387,344,394,366.2969,401,366.2969,401,396.5938,297,396.5938,297,344\" style=\"stroke: #000000; stroke-width: 1.5;\"/><line style=\"stroke: #000000; stroke-width: 1.5;\" x1=\"297\" x2=\"394\" y1=\"366.2969\" y2=\"366.2969\"/><text fill=\"#000000\" font-family=\"sans-serif\" font-size=\"14\" font-weight=\"bold\" lengthAdjust=\"spacingAndGlyphs\" textLength=\"84\" x=\"301\" y=\"358.9951\">Data Layer</text></a><!--MD5=[af87c684e3b0d8be13c1a698a818ef1e]\n",
       "link E3 to E4--><a href=\"psysml:952f286e-4b84-47c6-949f-c687a4b4f029\" target=\"_top\" title=\"psysml:952f286e-4b84-47c6-949f-c687a4b4f029\" xlink:actuate=\"onRequest\" xlink:href=\"psysml:952f286e-4b84-47c6-949f-c687a4b4f029\" xlink:show=\"new\" xlink:title=\"psysml:952f286e-4b84-47c6-949f-c687a4b4f029\" xlink:type=\"simple\"><path d=\"M349,137.1 C349,156.8 349,184.22 349,205.73 \" fill=\"none\" id=\"E3-&gt;E4\" style=\"stroke: #383838; stroke-width: 1.0; stroke-dasharray: 7.0,7.0;\"/><polygon fill=\"#383838\" points=\"349,213.95,352,205.95,346,205.95,349,213.95\" style=\"stroke: #383838; stroke-width: 1.0;\"/><text fill=\"#000000\" font-family=\"sans-serif\" font-size=\"13\" lengthAdjust=\"spacingAndGlyphs\" textLength=\"64\" x=\"350\" y=\"180.0669\">«depend»</text></a><!--MD5=[1b7591eae5389033d8d09a9d6721a717]\n",
       "link E4 to E5--><a href=\"psysml:7352021b-a74c-4755-9a9f-544f5d5618ed\" target=\"_top\" title=\"psysml:7352021b-a74c-4755-9a9f-544f5d5618ed\" xlink:actuate=\"onRequest\" xlink:href=\"psysml:7352021b-a74c-4755-9a9f-544f5d5618ed\" xlink:show=\"new\" xlink:title=\"psysml:7352021b-a74c-4755-9a9f-544f5d5618ed\" xlink:type=\"simple\"><path d=\"M349,267.1 C349,286.8 349,314.22 349,335.73 \" fill=\"none\" id=\"E4-&gt;E5\" style=\"stroke: #383838; stroke-width: 1.0; stroke-dasharray: 7.0,7.0;\"/><polygon fill=\"#383838\" points=\"349,343.95,352,335.95,346,335.95,349,343.95\" style=\"stroke: #383838; stroke-width: 1.0;\"/><text fill=\"#000000\" font-family=\"sans-serif\" font-size=\"13\" lengthAdjust=\"spacingAndGlyphs\" textLength=\"64\" x=\"350\" y=\"310.0669\">«depend»</text></a><!--MD5=[c5e8897d989ce984f93528998a7150fe]\n",
       "link E8 to E6--><a href=\"psysml:c2ca5ac6-1591-4e08-969e-b115a3bed697\" target=\"_top\" title=\"psysml:c2ca5ac6-1591-4e08-969e-b115a3bed697\" xlink:actuate=\"onRequest\" xlink:href=\"psysml:c2ca5ac6-1591-4e08-969e-b115a3bed697\" xlink:show=\"new\" xlink:title=\"psysml:c2ca5ac6-1591-4e08-969e-b115a3bed697\" xlink:type=\"simple\"><path d=\"M89.42,133.6 C79.35,142.68 69.37,154.11 64,167 C58.5,180.2 58.66,195.94 60.54,209.38 \" fill=\"none\" id=\"E8-&gt;E6\" style=\"stroke: #383838; stroke-width: 1.0; stroke-dasharray: 7.0,7.0;\"/><polygon fill=\"#383838\" points=\"61.9,217.4,63.517,209.0104,57.6018,210.0159,61.9,217.4\" style=\"stroke: #383838; stroke-width: 1.0;\"/><text fill=\"#000000\" font-family=\"sans-serif\" font-size=\"13\" lengthAdjust=\"spacingAndGlyphs\" textLength=\"64\" x=\"65\" y=\"180.0669\">«depend»</text></a><!--MD5=[bfa3c8b0d15052fdf50ae9310b491027]\n",
       "link E8 to E7--><a href=\"psysml:c2ca5ac6-1591-4e08-969e-b115a3bed697\" target=\"_top\" title=\"psysml:c2ca5ac6-1591-4e08-969e-b115a3bed697\" xlink:actuate=\"onRequest\" xlink:href=\"psysml:c2ca5ac6-1591-4e08-969e-b115a3bed697\" xlink:show=\"new\" xlink:title=\"psysml:c2ca5ac6-1591-4e08-969e-b115a3bed697\" xlink:type=\"simple\"><path d=\"M129.28,133.5 C138.17,154.57 151.64,186.5 161.47,209.81 \" fill=\"none\" id=\"E8-&gt;E7\" style=\"stroke: #383838; stroke-width: 1.0; stroke-dasharray: 7.0,7.0;\"/><polygon fill=\"#383838\" points=\"164.66,217.35,164.3241,208.8126,158.7933,211.1385,164.66,217.35\" style=\"stroke: #383838; stroke-width: 1.0;\"/><text fill=\"#000000\" font-family=\"sans-serif\" font-size=\"13\" lengthAdjust=\"spacingAndGlyphs\" textLength=\"64\" x=\"151\" y=\"180.0669\">«depend»</text></a><!--MD5=[f1ce7e67605eef43cd2b7d34a2eac7e1]\n",
       "@startuml\r\n",
       "top to bottom direction\r\n",
       "skinparam monochrome true\r\n",
       "skinparam classbackgroundcolor white\r\n",
       "skinparam shadowing false\r\n",
       "skinparam wrapWidth 300\r\n",
       "hide circle\r\n",
       "\r\n",
       "package \"DependencyTest\" as E1  [[psysml:cb8a6054-43e9-4191-a3b4-d53f2df2fcdf ]]  {\r\n",
       "package \"System\" as E2  [[psysml:b8ece1dd-151a-4631-92e5-c2dbf563fb8b ]]  {\r\n",
       "package \"Application Layer\" as E3  [[psysml:59f5b99d-24d3-4acd-853e-8f7f0b563d54 ]]  {\r\n",
       "}\r\n",
       "package \"Service Layer\" as E4  [[psysml:5cfbc3a5-c556-4af2-acf6-f60fe409e97c ]]  {\r\n",
       "}\r\n",
       "package \"Data Layer\" as E5  [[psysml:acb31344-a810-41ff-bc38-efd03bbf6ecb ]]  {\r\n",
       "}\r\n",
       "}\r\n",
       "comp usage \"x\" as E6  <<(T,blue)attribute>> [[psysml:3db867e9-a237-498d-9697-66a5ca6752eb ]] {\r\n",
       "}\r\n",
       "comp usage \"y\" as E7  <<(T,blue)attribute>> [[psysml:c548d046-cadc-4301-a44e-d185972c752b ]] {\r\n",
       "}\r\n",
       "comp usage \"z\" as E8  <<(T,blue)attribute>> [[psysml:47dc4f88-d05c-4598-a7e7-ecfe5751dc87 ]] {\r\n",
       "}\r\n",
       "E3 ..>> E4 [[psysml:952f286e-4b84-47c6-949f-c687a4b4f029 ]] : <<depend>>\r\n",
       "E4 ..>> E5 [[psysml:7352021b-a74c-4755-9a9f-544f5d5618ed ]] : <<depend>>\r\n",
       "E8 ..>> E6 [[psysml:c2ca5ac6-1591-4e08-969e-b115a3bed697 ]] : <<depend>>\r\n",
       "E8 ..>> E7 [[psysml:c2ca5ac6-1591-4e08-969e-b115a3bed697 ]] : <<depend>>\r\n",
       "}\r\n",
       "@enduml\r\n",
       "\n",
       "PlantUML version 1.2020.13(Sat Jun 13 12:26:38 UTC 2020)\n",
       "(EPL source distribution)\n",
       "Java Runtime: OpenJDK Runtime Environment\n",
       "JVM: OpenJDK 64-Bit Server VM\n",
       "Default Encoding: UTF-8\n",
       "Language: en\n",
       "Country: null\n",
       "--></g></svg>"
      ]
     },
     "execution_count": 49,
     "metadata": {},
     "output_type": "execute_result"
    }
   ],
   "source": [
    "%viz --style=\"TB\" --view=\"Sequence\" \"DependencyTest\""
   ]
  },
  {
   "cell_type": "code",
   "execution_count": 50,
   "id": "87924a6c",
   "metadata": {
    "execution": {
     "iopub.execute_input": "2021-04-20T07:03:26.823520Z",
     "iopub.status.busy": "2021-04-20T07:03:26.822965Z",
     "iopub.status.idle": "2021-04-20T07:03:26.853436Z",
     "shell.execute_reply": "2021-04-20T07:03:26.852133Z"
    }
   },
   "outputs": [
    {
     "data": {
      "image/svg+xml": [
       "<?xml version=\"1.0\" encoding=\"UTF-8\" standalone=\"no\"?><svg xmlns=\"http://www.w3.org/2000/svg\" xmlns:xlink=\"http://www.w3.org/1999/xlink\" contentScriptType=\"application/ecmascript\" contentStyleType=\"text/css\" height=\"449px\" preserveAspectRatio=\"none\" style=\"width:489px;height:449px;\" version=\"1.1\" viewBox=\"0 0 489 449\" width=\"489px\" zoomAndPan=\"magnify\"><defs/><g><!--MD5=[fbc87193dbaf4d95561dea2c320d4a47]\n",
       "cluster E1--><a href=\"psysml:cb8a6054-43e9-4191-a3b4-d53f2df2fcdf\" target=\"_top\" title=\"psysml:cb8a6054-43e9-4191-a3b4-d53f2df2fcdf\" xlink:actuate=\"onRequest\" xlink:href=\"psysml:cb8a6054-43e9-4191-a3b4-d53f2df2fcdf\" xlink:show=\"new\" xlink:title=\"psysml:cb8a6054-43e9-4191-a3b4-d53f2df2fcdf\" xlink:type=\"simple\"><polygon fill=\"#FFFFFF\" points=\"16,6,156,6,163,28.2969,467,28.2969,467,437,16,437,16,6\" style=\"stroke: #000000; stroke-width: 1.5;\"/><line style=\"stroke: #000000; stroke-width: 1.5;\" x1=\"16\" x2=\"163\" y1=\"28.2969\" y2=\"28.2969\"/><text fill=\"#000000\" font-family=\"sans-serif\" font-size=\"14\" font-weight=\"bold\" lengthAdjust=\"spacingAndGlyphs\" textLength=\"134\" x=\"20\" y=\"20.9951\">DependencyTest</text></a><!--MD5=[e4f7fae6ed58524ba242bb0b0d3be6b7]\n",
       "cluster E2--><a href=\"psysml:b8ece1dd-151a-4631-92e5-c2dbf563fb8b\" target=\"_top\" title=\"psysml:b8ece1dd-151a-4631-92e5-c2dbf563fb8b\" xlink:actuate=\"onRequest\" xlink:href=\"psysml:b8ece1dd-151a-4631-92e5-c2dbf563fb8b\" xlink:show=\"new\" xlink:title=\"psysml:b8ece1dd-151a-4631-92e5-c2dbf563fb8b\" xlink:type=\"simple\"><polygon fill=\"#FFFFFF\" points=\"255,49,319,49,326,71.2969,443,71.2969,443,413,255,413,255,49\" style=\"stroke: #000000; stroke-width: 1.5;\"/><line style=\"stroke: #000000; stroke-width: 1.5;\" x1=\"255\" x2=\"326\" y1=\"71.2969\" y2=\"71.2969\"/><text fill=\"#000000\" font-family=\"sans-serif\" font-size=\"14\" font-weight=\"bold\" lengthAdjust=\"spacingAndGlyphs\" textLength=\"58\" x=\"259\" y=\"63.9951\">System</text></a><!--MD5=[60a26617385b1d2d0262a64233df1f8d]\n",
       "class E6--><a href=\"psysml:3db867e9-a237-498d-9697-66a5ca6752eb\" target=\"_top\" title=\"psysml:3db867e9-a237-498d-9697-66a5ca6752eb\" xlink:actuate=\"onRequest\" xlink:href=\"psysml:3db867e9-a237-498d-9697-66a5ca6752eb\" xlink:show=\"new\" xlink:title=\"psysml:3db867e9-a237-498d-9697-66a5ca6752eb\" xlink:type=\"simple\"><rect fill=\"#FFFFFF\" height=\"45.9375\" id=\"E6\" rx=\"10\" ry=\"10\" style=\"stroke: #383838; stroke-width: 1.5;\" width=\"71\" x=\"32.5\" y=\"217.5\"/><text fill=\"#000000\" font-family=\"sans-serif\" font-size=\"12\" font-style=\"italic\" lengthAdjust=\"spacingAndGlyphs\" textLength=\"69\" x=\"33.5\" y=\"233.6387\">«attribute»</text><text fill=\"#000000\" font-family=\"sans-serif\" font-size=\"12\" lengthAdjust=\"spacingAndGlyphs\" textLength=\"6\" x=\"65\" y=\"247.6074\">x</text><line style=\"stroke: #383838; stroke-width: 1.5;\" x1=\"33.5\" x2=\"102.5\" y1=\"255.4375\" y2=\"255.4375\"/></a><!--MD5=[2156ba9850f5573cc1fc38a6a4b2f02b]\n",
       "class E7--><a href=\"psysml:c548d046-cadc-4301-a44e-d185972c752b\" target=\"_top\" title=\"psysml:c548d046-cadc-4301-a44e-d185972c752b\" xlink:actuate=\"onRequest\" xlink:href=\"psysml:c548d046-cadc-4301-a44e-d185972c752b\" xlink:show=\"new\" xlink:title=\"psysml:c548d046-cadc-4301-a44e-d185972c752b\" xlink:type=\"simple\"><rect fill=\"#FFFFFF\" height=\"45.9375\" id=\"E7\" rx=\"10\" ry=\"10\" style=\"stroke: #383838; stroke-width: 1.5;\" width=\"71\" x=\"138.5\" y=\"217.5\"/><text fill=\"#000000\" font-family=\"sans-serif\" font-size=\"12\" font-style=\"italic\" lengthAdjust=\"spacingAndGlyphs\" textLength=\"69\" x=\"139.5\" y=\"233.6387\">«attribute»</text><text fill=\"#000000\" font-family=\"sans-serif\" font-size=\"12\" lengthAdjust=\"spacingAndGlyphs\" textLength=\"6\" x=\"171\" y=\"247.6074\">y</text><line style=\"stroke: #383838; stroke-width: 1.5;\" x1=\"139.5\" x2=\"208.5\" y1=\"255.4375\" y2=\"255.4375\"/></a><!--MD5=[b9389687b975829384b498ac4b7476b2]\n",
       "class E8--><a href=\"psysml:47dc4f88-d05c-4598-a7e7-ecfe5751dc87\" target=\"_top\" title=\"psysml:47dc4f88-d05c-4598-a7e7-ecfe5751dc87\" xlink:actuate=\"onRequest\" xlink:href=\"psysml:47dc4f88-d05c-4598-a7e7-ecfe5751dc87\" xlink:show=\"new\" xlink:title=\"psysml:47dc4f88-d05c-4598-a7e7-ecfe5751dc87\" xlink:type=\"simple\"><rect fill=\"#FFFFFF\" height=\"45.9375\" id=\"E8\" rx=\"10\" ry=\"10\" style=\"stroke: #383838; stroke-width: 1.5;\" width=\"71\" x=\"84.5\" y=\"87.5\"/><text fill=\"#000000\" font-family=\"sans-serif\" font-size=\"12\" font-style=\"italic\" lengthAdjust=\"spacingAndGlyphs\" textLength=\"69\" x=\"85.5\" y=\"103.6387\">«attribute»</text><text fill=\"#000000\" font-family=\"sans-serif\" font-size=\"12\" lengthAdjust=\"spacingAndGlyphs\" textLength=\"5\" x=\"117.5\" y=\"117.6074\">z</text><line style=\"stroke: #383838; stroke-width: 1.5;\" x1=\"85.5\" x2=\"154.5\" y1=\"125.4375\" y2=\"125.4375\"/></a><a href=\"psysml:59f5b99d-24d3-4acd-853e-8f7f0b563d54\" target=\"_top\" title=\"psysml:59f5b99d-24d3-4acd-853e-8f7f0b563d54\" xlink:actuate=\"onRequest\" xlink:href=\"psysml:59f5b99d-24d3-4acd-853e-8f7f0b563d54\" xlink:show=\"new\" xlink:title=\"psysml:59f5b99d-24d3-4acd-853e-8f7f0b563d54\" xlink:type=\"simple\"><polygon fill=\"#FFFFFF\" points=\"271,84,413,84,420,106.2969,427,106.2969,427,136.5938,271,136.5938,271,84\" style=\"stroke: #000000; stroke-width: 1.5;\"/><line style=\"stroke: #000000; stroke-width: 1.5;\" x1=\"271\" x2=\"420\" y1=\"106.2969\" y2=\"106.2969\"/><text fill=\"#000000\" font-family=\"sans-serif\" font-size=\"14\" font-weight=\"bold\" lengthAdjust=\"spacingAndGlyphs\" textLength=\"136\" x=\"275\" y=\"98.9951\">Application Layer</text></a><a href=\"psysml:5cfbc3a5-c556-4af2-acf6-f60fe409e97c\" target=\"_top\" title=\"psysml:5cfbc3a5-c556-4af2-acf6-f60fe409e97c\" xlink:actuate=\"onRequest\" xlink:href=\"psysml:5cfbc3a5-c556-4af2-acf6-f60fe409e97c\" xlink:show=\"new\" xlink:title=\"psysml:5cfbc3a5-c556-4af2-acf6-f60fe409e97c\" xlink:type=\"simple\"><polygon fill=\"#FFFFFF\" points=\"285,214,399,214,406,236.2969,413,236.2969,413,266.5938,285,266.5938,285,214\" style=\"stroke: #000000; stroke-width: 1.5;\"/><line style=\"stroke: #000000; stroke-width: 1.5;\" x1=\"285\" x2=\"406\" y1=\"236.2969\" y2=\"236.2969\"/><text fill=\"#000000\" font-family=\"sans-serif\" font-size=\"14\" font-weight=\"bold\" lengthAdjust=\"spacingAndGlyphs\" textLength=\"108\" x=\"289\" y=\"228.9951\">Service Layer</text></a><a href=\"psysml:acb31344-a810-41ff-bc38-efd03bbf6ecb\" target=\"_top\" title=\"psysml:acb31344-a810-41ff-bc38-efd03bbf6ecb\" xlink:actuate=\"onRequest\" xlink:href=\"psysml:acb31344-a810-41ff-bc38-efd03bbf6ecb\" xlink:show=\"new\" xlink:title=\"psysml:acb31344-a810-41ff-bc38-efd03bbf6ecb\" xlink:type=\"simple\"><polygon fill=\"#FFFFFF\" points=\"297,344,387,344,394,366.2969,401,366.2969,401,396.5938,297,396.5938,297,344\" style=\"stroke: #000000; stroke-width: 1.5;\"/><line style=\"stroke: #000000; stroke-width: 1.5;\" x1=\"297\" x2=\"394\" y1=\"366.2969\" y2=\"366.2969\"/><text fill=\"#000000\" font-family=\"sans-serif\" font-size=\"14\" font-weight=\"bold\" lengthAdjust=\"spacingAndGlyphs\" textLength=\"84\" x=\"301\" y=\"358.9951\">Data Layer</text></a><!--MD5=[af87c684e3b0d8be13c1a698a818ef1e]\n",
       "link E3 to E4--><a href=\"psysml:952f286e-4b84-47c6-949f-c687a4b4f029\" target=\"_top\" title=\"psysml:952f286e-4b84-47c6-949f-c687a4b4f029\" xlink:actuate=\"onRequest\" xlink:href=\"psysml:952f286e-4b84-47c6-949f-c687a4b4f029\" xlink:show=\"new\" xlink:title=\"psysml:952f286e-4b84-47c6-949f-c687a4b4f029\" xlink:type=\"simple\"><path d=\"M349,137.1 C349,156.8 349,184.22 349,205.73 \" fill=\"none\" id=\"E3-&gt;E4\" style=\"stroke: #383838; stroke-width: 1.0; stroke-dasharray: 7.0,7.0;\"/><polygon fill=\"#383838\" points=\"349,213.95,352,205.95,346,205.95,349,213.95\" style=\"stroke: #383838; stroke-width: 1.0;\"/><text fill=\"#000000\" font-family=\"sans-serif\" font-size=\"13\" lengthAdjust=\"spacingAndGlyphs\" textLength=\"64\" x=\"350\" y=\"180.0669\">«depend»</text></a><!--MD5=[1b7591eae5389033d8d09a9d6721a717]\n",
       "link E4 to E5--><a href=\"psysml:7352021b-a74c-4755-9a9f-544f5d5618ed\" target=\"_top\" title=\"psysml:7352021b-a74c-4755-9a9f-544f5d5618ed\" xlink:actuate=\"onRequest\" xlink:href=\"psysml:7352021b-a74c-4755-9a9f-544f5d5618ed\" xlink:show=\"new\" xlink:title=\"psysml:7352021b-a74c-4755-9a9f-544f5d5618ed\" xlink:type=\"simple\"><path d=\"M349,267.1 C349,286.8 349,314.22 349,335.73 \" fill=\"none\" id=\"E4-&gt;E5\" style=\"stroke: #383838; stroke-width: 1.0; stroke-dasharray: 7.0,7.0;\"/><polygon fill=\"#383838\" points=\"349,343.95,352,335.95,346,335.95,349,343.95\" style=\"stroke: #383838; stroke-width: 1.0;\"/><text fill=\"#000000\" font-family=\"sans-serif\" font-size=\"13\" lengthAdjust=\"spacingAndGlyphs\" textLength=\"64\" x=\"350\" y=\"310.0669\">«depend»</text></a><!--MD5=[c5e8897d989ce984f93528998a7150fe]\n",
       "link E8 to E6--><a href=\"psysml:c2ca5ac6-1591-4e08-969e-b115a3bed697\" target=\"_top\" title=\"psysml:c2ca5ac6-1591-4e08-969e-b115a3bed697\" xlink:actuate=\"onRequest\" xlink:href=\"psysml:c2ca5ac6-1591-4e08-969e-b115a3bed697\" xlink:show=\"new\" xlink:title=\"psysml:c2ca5ac6-1591-4e08-969e-b115a3bed697\" xlink:type=\"simple\"><path d=\"M89.42,133.6 C79.35,142.68 69.37,154.11 64,167 C58.5,180.2 58.66,195.94 60.54,209.38 \" fill=\"none\" id=\"E8-&gt;E6\" style=\"stroke: #383838; stroke-width: 1.0; stroke-dasharray: 7.0,7.0;\"/><polygon fill=\"#383838\" points=\"61.9,217.4,63.517,209.0104,57.6018,210.0159,61.9,217.4\" style=\"stroke: #383838; stroke-width: 1.0;\"/><text fill=\"#000000\" font-family=\"sans-serif\" font-size=\"13\" lengthAdjust=\"spacingAndGlyphs\" textLength=\"64\" x=\"65\" y=\"180.0669\">«depend»</text></a><!--MD5=[bfa3c8b0d15052fdf50ae9310b491027]\n",
       "link E8 to E7--><a href=\"psysml:c2ca5ac6-1591-4e08-969e-b115a3bed697\" target=\"_top\" title=\"psysml:c2ca5ac6-1591-4e08-969e-b115a3bed697\" xlink:actuate=\"onRequest\" xlink:href=\"psysml:c2ca5ac6-1591-4e08-969e-b115a3bed697\" xlink:show=\"new\" xlink:title=\"psysml:c2ca5ac6-1591-4e08-969e-b115a3bed697\" xlink:type=\"simple\"><path d=\"M129.28,133.5 C138.17,154.57 151.64,186.5 161.47,209.81 \" fill=\"none\" id=\"E8-&gt;E7\" style=\"stroke: #383838; stroke-width: 1.0; stroke-dasharray: 7.0,7.0;\"/><polygon fill=\"#383838\" points=\"164.66,217.35,164.3241,208.8126,158.7933,211.1385,164.66,217.35\" style=\"stroke: #383838; stroke-width: 1.0;\"/><text fill=\"#000000\" font-family=\"sans-serif\" font-size=\"13\" lengthAdjust=\"spacingAndGlyphs\" textLength=\"64\" x=\"151\" y=\"180.0669\">«depend»</text></a><!--MD5=[f1ce7e67605eef43cd2b7d34a2eac7e1]\n",
       "@startuml\r\n",
       "top to bottom direction\r\n",
       "skinparam monochrome true\r\n",
       "skinparam classbackgroundcolor white\r\n",
       "skinparam shadowing false\r\n",
       "skinparam wrapWidth 300\r\n",
       "hide circle\r\n",
       "\r\n",
       "package \"DependencyTest\" as E1  [[psysml:cb8a6054-43e9-4191-a3b4-d53f2df2fcdf ]]  {\r\n",
       "package \"System\" as E2  [[psysml:b8ece1dd-151a-4631-92e5-c2dbf563fb8b ]]  {\r\n",
       "package \"Application Layer\" as E3  [[psysml:59f5b99d-24d3-4acd-853e-8f7f0b563d54 ]]  {\r\n",
       "}\r\n",
       "package \"Service Layer\" as E4  [[psysml:5cfbc3a5-c556-4af2-acf6-f60fe409e97c ]]  {\r\n",
       "}\r\n",
       "package \"Data Layer\" as E5  [[psysml:acb31344-a810-41ff-bc38-efd03bbf6ecb ]]  {\r\n",
       "}\r\n",
       "}\r\n",
       "comp usage \"x\" as E6  <<(T,blue)attribute>> [[psysml:3db867e9-a237-498d-9697-66a5ca6752eb ]] {\r\n",
       "}\r\n",
       "comp usage \"y\" as E7  <<(T,blue)attribute>> [[psysml:c548d046-cadc-4301-a44e-d185972c752b ]] {\r\n",
       "}\r\n",
       "comp usage \"z\" as E8  <<(T,blue)attribute>> [[psysml:47dc4f88-d05c-4598-a7e7-ecfe5751dc87 ]] {\r\n",
       "}\r\n",
       "E3 ..>> E4 [[psysml:952f286e-4b84-47c6-949f-c687a4b4f029 ]] : <<depend>>\r\n",
       "E4 ..>> E5 [[psysml:7352021b-a74c-4755-9a9f-544f5d5618ed ]] : <<depend>>\r\n",
       "E8 ..>> E6 [[psysml:c2ca5ac6-1591-4e08-969e-b115a3bed697 ]] : <<depend>>\r\n",
       "E8 ..>> E7 [[psysml:c2ca5ac6-1591-4e08-969e-b115a3bed697 ]] : <<depend>>\r\n",
       "}\r\n",
       "@enduml\r\n",
       "\n",
       "PlantUML version 1.2020.13(Sat Jun 13 12:26:38 UTC 2020)\n",
       "(EPL source distribution)\n",
       "Java Runtime: OpenJDK Runtime Environment\n",
       "JVM: OpenJDK 64-Bit Server VM\n",
       "Default Encoding: UTF-8\n",
       "Language: en\n",
       "Country: null\n",
       "--></g></svg>"
      ]
     },
     "execution_count": 50,
     "metadata": {},
     "output_type": "execute_result"
    }
   ],
   "source": [
    "%viz --style=\"TB\" --view=\"MIXED\" \"DependencyTest\""
   ]
  },
  {
   "cell_type": "code",
   "execution_count": 51,
   "id": "9eb8ba02",
   "metadata": {
    "execution": {
     "iopub.execute_input": "2021-04-20T07:03:26.902880Z",
     "iopub.status.busy": "2021-04-20T07:03:26.902455Z",
     "iopub.status.idle": "2021-04-20T07:03:26.931441Z",
     "shell.execute_reply": "2021-04-20T07:03:26.930046Z"
    }
   },
   "outputs": [
    {
     "data": {
      "image/svg+xml": [
       "<?xml version=\"1.0\" encoding=\"UTF-8\" standalone=\"no\"?><svg xmlns=\"http://www.w3.org/2000/svg\" xmlns:xlink=\"http://www.w3.org/1999/xlink\" contentScriptType=\"application/ecmascript\" contentStyleType=\"text/css\" height=\"449px\" preserveAspectRatio=\"none\" style=\"width:489px;height:449px;\" version=\"1.1\" viewBox=\"0 0 489 449\" width=\"489px\" zoomAndPan=\"magnify\"><defs/><g><!--MD5=[fbc87193dbaf4d95561dea2c320d4a47]\n",
       "cluster E1--><a href=\"psysml:cb8a6054-43e9-4191-a3b4-d53f2df2fcdf\" target=\"_top\" title=\"psysml:cb8a6054-43e9-4191-a3b4-d53f2df2fcdf\" xlink:actuate=\"onRequest\" xlink:href=\"psysml:cb8a6054-43e9-4191-a3b4-d53f2df2fcdf\" xlink:show=\"new\" xlink:title=\"psysml:cb8a6054-43e9-4191-a3b4-d53f2df2fcdf\" xlink:type=\"simple\"><polygon fill=\"#FFFFFF\" points=\"16,6,156,6,163,28.2969,467,28.2969,467,437,16,437,16,6\" style=\"stroke: #000000; stroke-width: 1.5;\"/><line style=\"stroke: #000000; stroke-width: 1.5;\" x1=\"16\" x2=\"163\" y1=\"28.2969\" y2=\"28.2969\"/><text fill=\"#000000\" font-family=\"sans-serif\" font-size=\"14\" font-weight=\"bold\" lengthAdjust=\"spacingAndGlyphs\" textLength=\"134\" x=\"20\" y=\"20.9951\">DependencyTest</text></a><!--MD5=[e4f7fae6ed58524ba242bb0b0d3be6b7]\n",
       "cluster E2--><a href=\"psysml:b8ece1dd-151a-4631-92e5-c2dbf563fb8b\" target=\"_top\" title=\"psysml:b8ece1dd-151a-4631-92e5-c2dbf563fb8b\" xlink:actuate=\"onRequest\" xlink:href=\"psysml:b8ece1dd-151a-4631-92e5-c2dbf563fb8b\" xlink:show=\"new\" xlink:title=\"psysml:b8ece1dd-151a-4631-92e5-c2dbf563fb8b\" xlink:type=\"simple\"><polygon fill=\"#FFFFFF\" points=\"255,49,319,49,326,71.2969,443,71.2969,443,413,255,413,255,49\" style=\"stroke: #000000; stroke-width: 1.5;\"/><line style=\"stroke: #000000; stroke-width: 1.5;\" x1=\"255\" x2=\"326\" y1=\"71.2969\" y2=\"71.2969\"/><text fill=\"#000000\" font-family=\"sans-serif\" font-size=\"14\" font-weight=\"bold\" lengthAdjust=\"spacingAndGlyphs\" textLength=\"58\" x=\"259\" y=\"63.9951\">System</text></a><!--MD5=[60a26617385b1d2d0262a64233df1f8d]\n",
       "class E6--><a href=\"psysml:3db867e9-a237-498d-9697-66a5ca6752eb\" target=\"_top\" title=\"psysml:3db867e9-a237-498d-9697-66a5ca6752eb\" xlink:actuate=\"onRequest\" xlink:href=\"psysml:3db867e9-a237-498d-9697-66a5ca6752eb\" xlink:show=\"new\" xlink:title=\"psysml:3db867e9-a237-498d-9697-66a5ca6752eb\" xlink:type=\"simple\"><rect fill=\"#FFFFFF\" height=\"45.9375\" id=\"E6\" rx=\"10\" ry=\"10\" style=\"stroke: #383838; stroke-width: 1.5;\" width=\"71\" x=\"32.5\" y=\"217.5\"/><text fill=\"#000000\" font-family=\"sans-serif\" font-size=\"12\" font-style=\"italic\" lengthAdjust=\"spacingAndGlyphs\" textLength=\"69\" x=\"33.5\" y=\"233.6387\">«attribute»</text><text fill=\"#000000\" font-family=\"sans-serif\" font-size=\"12\" lengthAdjust=\"spacingAndGlyphs\" textLength=\"6\" x=\"65\" y=\"247.6074\">x</text><line style=\"stroke: #383838; stroke-width: 1.5;\" x1=\"33.5\" x2=\"102.5\" y1=\"255.4375\" y2=\"255.4375\"/></a><!--MD5=[2156ba9850f5573cc1fc38a6a4b2f02b]\n",
       "class E7--><a href=\"psysml:c548d046-cadc-4301-a44e-d185972c752b\" target=\"_top\" title=\"psysml:c548d046-cadc-4301-a44e-d185972c752b\" xlink:actuate=\"onRequest\" xlink:href=\"psysml:c548d046-cadc-4301-a44e-d185972c752b\" xlink:show=\"new\" xlink:title=\"psysml:c548d046-cadc-4301-a44e-d185972c752b\" xlink:type=\"simple\"><rect fill=\"#FFFFFF\" height=\"45.9375\" id=\"E7\" rx=\"10\" ry=\"10\" style=\"stroke: #383838; stroke-width: 1.5;\" width=\"71\" x=\"138.5\" y=\"217.5\"/><text fill=\"#000000\" font-family=\"sans-serif\" font-size=\"12\" font-style=\"italic\" lengthAdjust=\"spacingAndGlyphs\" textLength=\"69\" x=\"139.5\" y=\"233.6387\">«attribute»</text><text fill=\"#000000\" font-family=\"sans-serif\" font-size=\"12\" lengthAdjust=\"spacingAndGlyphs\" textLength=\"6\" x=\"171\" y=\"247.6074\">y</text><line style=\"stroke: #383838; stroke-width: 1.5;\" x1=\"139.5\" x2=\"208.5\" y1=\"255.4375\" y2=\"255.4375\"/></a><!--MD5=[b9389687b975829384b498ac4b7476b2]\n",
       "class E8--><a href=\"psysml:47dc4f88-d05c-4598-a7e7-ecfe5751dc87\" target=\"_top\" title=\"psysml:47dc4f88-d05c-4598-a7e7-ecfe5751dc87\" xlink:actuate=\"onRequest\" xlink:href=\"psysml:47dc4f88-d05c-4598-a7e7-ecfe5751dc87\" xlink:show=\"new\" xlink:title=\"psysml:47dc4f88-d05c-4598-a7e7-ecfe5751dc87\" xlink:type=\"simple\"><rect fill=\"#FFFFFF\" height=\"45.9375\" id=\"E8\" rx=\"10\" ry=\"10\" style=\"stroke: #383838; stroke-width: 1.5;\" width=\"71\" x=\"84.5\" y=\"87.5\"/><text fill=\"#000000\" font-family=\"sans-serif\" font-size=\"12\" font-style=\"italic\" lengthAdjust=\"spacingAndGlyphs\" textLength=\"69\" x=\"85.5\" y=\"103.6387\">«attribute»</text><text fill=\"#000000\" font-family=\"sans-serif\" font-size=\"12\" lengthAdjust=\"spacingAndGlyphs\" textLength=\"5\" x=\"117.5\" y=\"117.6074\">z</text><line style=\"stroke: #383838; stroke-width: 1.5;\" x1=\"85.5\" x2=\"154.5\" y1=\"125.4375\" y2=\"125.4375\"/></a><a href=\"psysml:59f5b99d-24d3-4acd-853e-8f7f0b563d54\" target=\"_top\" title=\"psysml:59f5b99d-24d3-4acd-853e-8f7f0b563d54\" xlink:actuate=\"onRequest\" xlink:href=\"psysml:59f5b99d-24d3-4acd-853e-8f7f0b563d54\" xlink:show=\"new\" xlink:title=\"psysml:59f5b99d-24d3-4acd-853e-8f7f0b563d54\" xlink:type=\"simple\"><polygon fill=\"#FFFFFF\" points=\"271,84,413,84,420,106.2969,427,106.2969,427,136.5938,271,136.5938,271,84\" style=\"stroke: #000000; stroke-width: 1.5;\"/><line style=\"stroke: #000000; stroke-width: 1.5;\" x1=\"271\" x2=\"420\" y1=\"106.2969\" y2=\"106.2969\"/><text fill=\"#000000\" font-family=\"sans-serif\" font-size=\"14\" font-weight=\"bold\" lengthAdjust=\"spacingAndGlyphs\" textLength=\"136\" x=\"275\" y=\"98.9951\">Application Layer</text></a><a href=\"psysml:5cfbc3a5-c556-4af2-acf6-f60fe409e97c\" target=\"_top\" title=\"psysml:5cfbc3a5-c556-4af2-acf6-f60fe409e97c\" xlink:actuate=\"onRequest\" xlink:href=\"psysml:5cfbc3a5-c556-4af2-acf6-f60fe409e97c\" xlink:show=\"new\" xlink:title=\"psysml:5cfbc3a5-c556-4af2-acf6-f60fe409e97c\" xlink:type=\"simple\"><polygon fill=\"#FFFFFF\" points=\"285,214,399,214,406,236.2969,413,236.2969,413,266.5938,285,266.5938,285,214\" style=\"stroke: #000000; stroke-width: 1.5;\"/><line style=\"stroke: #000000; stroke-width: 1.5;\" x1=\"285\" x2=\"406\" y1=\"236.2969\" y2=\"236.2969\"/><text fill=\"#000000\" font-family=\"sans-serif\" font-size=\"14\" font-weight=\"bold\" lengthAdjust=\"spacingAndGlyphs\" textLength=\"108\" x=\"289\" y=\"228.9951\">Service Layer</text></a><a href=\"psysml:acb31344-a810-41ff-bc38-efd03bbf6ecb\" target=\"_top\" title=\"psysml:acb31344-a810-41ff-bc38-efd03bbf6ecb\" xlink:actuate=\"onRequest\" xlink:href=\"psysml:acb31344-a810-41ff-bc38-efd03bbf6ecb\" xlink:show=\"new\" xlink:title=\"psysml:acb31344-a810-41ff-bc38-efd03bbf6ecb\" xlink:type=\"simple\"><polygon fill=\"#FFFFFF\" points=\"297,344,387,344,394,366.2969,401,366.2969,401,396.5938,297,396.5938,297,344\" style=\"stroke: #000000; stroke-width: 1.5;\"/><line style=\"stroke: #000000; stroke-width: 1.5;\" x1=\"297\" x2=\"394\" y1=\"366.2969\" y2=\"366.2969\"/><text fill=\"#000000\" font-family=\"sans-serif\" font-size=\"14\" font-weight=\"bold\" lengthAdjust=\"spacingAndGlyphs\" textLength=\"84\" x=\"301\" y=\"358.9951\">Data Layer</text></a><!--MD5=[af87c684e3b0d8be13c1a698a818ef1e]\n",
       "link E3 to E4--><a href=\"psysml:952f286e-4b84-47c6-949f-c687a4b4f029\" target=\"_top\" title=\"psysml:952f286e-4b84-47c6-949f-c687a4b4f029\" xlink:actuate=\"onRequest\" xlink:href=\"psysml:952f286e-4b84-47c6-949f-c687a4b4f029\" xlink:show=\"new\" xlink:title=\"psysml:952f286e-4b84-47c6-949f-c687a4b4f029\" xlink:type=\"simple\"><path d=\"M349,137.12 C349,137.12 349,205.91 349,205.91 \" fill=\"none\" id=\"E3-&gt;E4\" style=\"stroke: #383838; stroke-width: 1.0; stroke-dasharray: 7.0,7.0;\"/><polygon fill=\"#383838\" points=\"349,213.91,352,205.91,346,205.91,349,213.91\" style=\"stroke: #383838; stroke-width: 1.0;\"/><text fill=\"#000000\" font-family=\"sans-serif\" font-size=\"13\" lengthAdjust=\"spacingAndGlyphs\" textLength=\"64\" x=\"350\" y=\"180.0669\">«depend»</text></a><!--MD5=[1b7591eae5389033d8d09a9d6721a717]\n",
       "link E4 to E5--><a href=\"psysml:7352021b-a74c-4755-9a9f-544f5d5618ed\" target=\"_top\" title=\"psysml:7352021b-a74c-4755-9a9f-544f5d5618ed\" xlink:actuate=\"onRequest\" xlink:href=\"psysml:7352021b-a74c-4755-9a9f-544f5d5618ed\" xlink:show=\"new\" xlink:title=\"psysml:7352021b-a74c-4755-9a9f-544f5d5618ed\" xlink:type=\"simple\"><path d=\"M349,267.12 C349,267.12 349,335.91 349,335.91 \" fill=\"none\" id=\"E4-&gt;E5\" style=\"stroke: #383838; stroke-width: 1.0; stroke-dasharray: 7.0,7.0;\"/><polygon fill=\"#383838\" points=\"349,343.91,352,335.91,346,335.91,349,343.91\" style=\"stroke: #383838; stroke-width: 1.0;\"/><text fill=\"#000000\" font-family=\"sans-serif\" font-size=\"13\" lengthAdjust=\"spacingAndGlyphs\" textLength=\"64\" x=\"350\" y=\"310.0669\">«depend»</text></a><!--MD5=[c5e8897d989ce984f93528998a7150fe]\n",
       "link E8 to E6--><a href=\"psysml:c2ca5ac6-1591-4e08-969e-b115a3bed697\" target=\"_top\" title=\"psysml:c2ca5ac6-1591-4e08-969e-b115a3bed697\" xlink:actuate=\"onRequest\" xlink:href=\"psysml:c2ca5ac6-1591-4e08-969e-b115a3bed697\" xlink:show=\"new\" xlink:title=\"psysml:c2ca5ac6-1591-4e08-969e-b115a3bed697\" xlink:type=\"simple\"><path d=\"M94,133.74 C94,133.74 94,209.46 94,209.46 \" fill=\"none\" id=\"E8-&gt;E6\" style=\"stroke: #383838; stroke-width: 1.0; stroke-dasharray: 7.0,7.0;\"/><polygon fill=\"#383838\" points=\"94,217.46,97,209.46,91,209.46,94,217.46\" style=\"stroke: #383838; stroke-width: 1.0;\"/><text fill=\"#000000\" font-family=\"sans-serif\" font-size=\"13\" lengthAdjust=\"spacingAndGlyphs\" textLength=\"64\" x=\"68\" y=\"180.0669\">«depend»</text></a><!--MD5=[bfa3c8b0d15052fdf50ae9310b491027]\n",
       "link E8 to E7--><a href=\"psysml:c2ca5ac6-1591-4e08-969e-b115a3bed697\" target=\"_top\" title=\"psysml:c2ca5ac6-1591-4e08-969e-b115a3bed697\" xlink:actuate=\"onRequest\" xlink:href=\"psysml:c2ca5ac6-1591-4e08-969e-b115a3bed697\" xlink:show=\"new\" xlink:title=\"psysml:c2ca5ac6-1591-4e08-969e-b115a3bed697\" xlink:type=\"simple\"><path d=\"M147,133.74 C147,133.74 147,209.46 147,209.46 \" fill=\"none\" id=\"E8-&gt;E7\" style=\"stroke: #383838; stroke-width: 1.0; stroke-dasharray: 7.0,7.0;\"/><polygon fill=\"#383838\" points=\"147,217.46,150,209.46,144,209.46,147,217.46\" style=\"stroke: #383838; stroke-width: 1.0;\"/><text fill=\"#000000\" font-family=\"sans-serif\" font-size=\"13\" lengthAdjust=\"spacingAndGlyphs\" textLength=\"64\" x=\"174\" y=\"180.0669\">«depend»</text></a><!--MD5=[7f0e897298ed4e079200c9cae270c0d1]\n",
       "@startuml\r\n",
       "skinparam linetype ortho\r\n",
       "skinparam monochrome true\r\n",
       "skinparam classbackgroundcolor white\r\n",
       "skinparam shadowing false\r\n",
       "skinparam wrapWidth 300\r\n",
       "hide circle\r\n",
       "\r\n",
       "package \"DependencyTest\" as E1  [[psysml:cb8a6054-43e9-4191-a3b4-d53f2df2fcdf ]]  {\r\n",
       "package \"System\" as E2  [[psysml:b8ece1dd-151a-4631-92e5-c2dbf563fb8b ]]  {\r\n",
       "package \"Application Layer\" as E3  [[psysml:59f5b99d-24d3-4acd-853e-8f7f0b563d54 ]]  {\r\n",
       "}\r\n",
       "package \"Service Layer\" as E4  [[psysml:5cfbc3a5-c556-4af2-acf6-f60fe409e97c ]]  {\r\n",
       "}\r\n",
       "package \"Data Layer\" as E5  [[psysml:acb31344-a810-41ff-bc38-efd03bbf6ecb ]]  {\r\n",
       "}\r\n",
       "}\r\n",
       "comp usage \"x\" as E6  <<(T,blue)attribute>> [[psysml:3db867e9-a237-498d-9697-66a5ca6752eb ]] {\r\n",
       "}\r\n",
       "comp usage \"y\" as E7  <<(T,blue)attribute>> [[psysml:c548d046-cadc-4301-a44e-d185972c752b ]] {\r\n",
       "}\r\n",
       "comp usage \"z\" as E8  <<(T,blue)attribute>> [[psysml:47dc4f88-d05c-4598-a7e7-ecfe5751dc87 ]] {\r\n",
       "}\r\n",
       "E3 ..>> E4 [[psysml:952f286e-4b84-47c6-949f-c687a4b4f029 ]] : <<depend>>\r\n",
       "E4 ..>> E5 [[psysml:7352021b-a74c-4755-9a9f-544f5d5618ed ]] : <<depend>>\r\n",
       "E8 ..>> E6 [[psysml:c2ca5ac6-1591-4e08-969e-b115a3bed697 ]] : <<depend>>\r\n",
       "E8 ..>> E7 [[psysml:c2ca5ac6-1591-4e08-969e-b115a3bed697 ]] : <<depend>>\r\n",
       "}\r\n",
       "@enduml\r\n",
       "\n",
       "PlantUML version 1.2020.13(Sat Jun 13 12:26:38 UTC 2020)\n",
       "(EPL source distribution)\n",
       "Java Runtime: OpenJDK Runtime Environment\n",
       "JVM: OpenJDK 64-Bit Server VM\n",
       "Default Encoding: UTF-8\n",
       "Language: en\n",
       "Country: null\n",
       "--></g></svg>"
      ]
     },
     "execution_count": 51,
     "metadata": {},
     "output_type": "execute_result"
    }
   ],
   "source": [
    "%viz --style=\"ORTHOLINE\" --view=\"Default\" \"DependencyTest\""
   ]
  },
  {
   "cell_type": "code",
   "execution_count": 52,
   "id": "aa63c8bc",
   "metadata": {
    "execution": {
     "iopub.execute_input": "2021-04-20T07:03:26.980619Z",
     "iopub.status.busy": "2021-04-20T07:03:26.980282Z",
     "iopub.status.idle": "2021-04-20T07:03:27.011505Z",
     "shell.execute_reply": "2021-04-20T07:03:27.011158Z"
    }
   },
   "outputs": [
    {
     "data": {
      "image/svg+xml": [
       "<?xml version=\"1.0\" encoding=\"UTF-8\" standalone=\"no\"?><svg xmlns=\"http://www.w3.org/2000/svg\" xmlns:xlink=\"http://www.w3.org/1999/xlink\" contentScriptType=\"application/ecmascript\" contentStyleType=\"text/css\" height=\"449px\" preserveAspectRatio=\"none\" style=\"width:489px;height:449px;\" version=\"1.1\" viewBox=\"0 0 489 449\" width=\"489px\" zoomAndPan=\"magnify\"><defs/><g><!--MD5=[fbc87193dbaf4d95561dea2c320d4a47]\n",
       "cluster E1--><a href=\"psysml:cb8a6054-43e9-4191-a3b4-d53f2df2fcdf\" target=\"_top\" title=\"psysml:cb8a6054-43e9-4191-a3b4-d53f2df2fcdf\" xlink:actuate=\"onRequest\" xlink:href=\"psysml:cb8a6054-43e9-4191-a3b4-d53f2df2fcdf\" xlink:show=\"new\" xlink:title=\"psysml:cb8a6054-43e9-4191-a3b4-d53f2df2fcdf\" xlink:type=\"simple\"><polygon fill=\"#FFFFFF\" points=\"16,6,156,6,163,28.2969,467,28.2969,467,437,16,437,16,6\" style=\"stroke: #000000; stroke-width: 1.5;\"/><line style=\"stroke: #000000; stroke-width: 1.5;\" x1=\"16\" x2=\"163\" y1=\"28.2969\" y2=\"28.2969\"/><text fill=\"#000000\" font-family=\"sans-serif\" font-size=\"14\" font-weight=\"bold\" lengthAdjust=\"spacingAndGlyphs\" textLength=\"134\" x=\"20\" y=\"20.9951\">DependencyTest</text></a><!--MD5=[e4f7fae6ed58524ba242bb0b0d3be6b7]\n",
       "cluster E2--><a href=\"psysml:b8ece1dd-151a-4631-92e5-c2dbf563fb8b\" target=\"_top\" title=\"psysml:b8ece1dd-151a-4631-92e5-c2dbf563fb8b\" xlink:actuate=\"onRequest\" xlink:href=\"psysml:b8ece1dd-151a-4631-92e5-c2dbf563fb8b\" xlink:show=\"new\" xlink:title=\"psysml:b8ece1dd-151a-4631-92e5-c2dbf563fb8b\" xlink:type=\"simple\"><polygon fill=\"#FFFFFF\" points=\"255,49,319,49,326,71.2969,443,71.2969,443,413,255,413,255,49\" style=\"stroke: #000000; stroke-width: 1.5;\"/><line style=\"stroke: #000000; stroke-width: 1.5;\" x1=\"255\" x2=\"326\" y1=\"71.2969\" y2=\"71.2969\"/><text fill=\"#000000\" font-family=\"sans-serif\" font-size=\"14\" font-weight=\"bold\" lengthAdjust=\"spacingAndGlyphs\" textLength=\"58\" x=\"259\" y=\"63.9951\">System</text></a><!--MD5=[60a26617385b1d2d0262a64233df1f8d]\n",
       "class E6--><a href=\"psysml:3db867e9-a237-498d-9697-66a5ca6752eb\" target=\"_top\" title=\"psysml:3db867e9-a237-498d-9697-66a5ca6752eb\" xlink:actuate=\"onRequest\" xlink:href=\"psysml:3db867e9-a237-498d-9697-66a5ca6752eb\" xlink:show=\"new\" xlink:title=\"psysml:3db867e9-a237-498d-9697-66a5ca6752eb\" xlink:type=\"simple\"><rect fill=\"#FFFFFF\" height=\"45.9375\" id=\"E6\" rx=\"10\" ry=\"10\" style=\"stroke: #383838; stroke-width: 1.5;\" width=\"71\" x=\"32.5\" y=\"217.5\"/><text fill=\"#000000\" font-family=\"sans-serif\" font-size=\"12\" font-style=\"italic\" lengthAdjust=\"spacingAndGlyphs\" textLength=\"69\" x=\"33.5\" y=\"233.6387\">«attribute»</text><text fill=\"#000000\" font-family=\"sans-serif\" font-size=\"12\" lengthAdjust=\"spacingAndGlyphs\" textLength=\"6\" x=\"65\" y=\"247.6074\">x</text><line style=\"stroke: #383838; stroke-width: 1.5;\" x1=\"33.5\" x2=\"102.5\" y1=\"255.4375\" y2=\"255.4375\"/></a><!--MD5=[2156ba9850f5573cc1fc38a6a4b2f02b]\n",
       "class E7--><a href=\"psysml:c548d046-cadc-4301-a44e-d185972c752b\" target=\"_top\" title=\"psysml:c548d046-cadc-4301-a44e-d185972c752b\" xlink:actuate=\"onRequest\" xlink:href=\"psysml:c548d046-cadc-4301-a44e-d185972c752b\" xlink:show=\"new\" xlink:title=\"psysml:c548d046-cadc-4301-a44e-d185972c752b\" xlink:type=\"simple\"><rect fill=\"#FFFFFF\" height=\"45.9375\" id=\"E7\" rx=\"10\" ry=\"10\" style=\"stroke: #383838; stroke-width: 1.5;\" width=\"71\" x=\"138.5\" y=\"217.5\"/><text fill=\"#000000\" font-family=\"sans-serif\" font-size=\"12\" font-style=\"italic\" lengthAdjust=\"spacingAndGlyphs\" textLength=\"69\" x=\"139.5\" y=\"233.6387\">«attribute»</text><text fill=\"#000000\" font-family=\"sans-serif\" font-size=\"12\" lengthAdjust=\"spacingAndGlyphs\" textLength=\"6\" x=\"171\" y=\"247.6074\">y</text><line style=\"stroke: #383838; stroke-width: 1.5;\" x1=\"139.5\" x2=\"208.5\" y1=\"255.4375\" y2=\"255.4375\"/></a><!--MD5=[b9389687b975829384b498ac4b7476b2]\n",
       "class E8--><a href=\"psysml:47dc4f88-d05c-4598-a7e7-ecfe5751dc87\" target=\"_top\" title=\"psysml:47dc4f88-d05c-4598-a7e7-ecfe5751dc87\" xlink:actuate=\"onRequest\" xlink:href=\"psysml:47dc4f88-d05c-4598-a7e7-ecfe5751dc87\" xlink:show=\"new\" xlink:title=\"psysml:47dc4f88-d05c-4598-a7e7-ecfe5751dc87\" xlink:type=\"simple\"><rect fill=\"#FFFFFF\" height=\"45.9375\" id=\"E8\" rx=\"10\" ry=\"10\" style=\"stroke: #383838; stroke-width: 1.5;\" width=\"71\" x=\"84.5\" y=\"87.5\"/><text fill=\"#000000\" font-family=\"sans-serif\" font-size=\"12\" font-style=\"italic\" lengthAdjust=\"spacingAndGlyphs\" textLength=\"69\" x=\"85.5\" y=\"103.6387\">«attribute»</text><text fill=\"#000000\" font-family=\"sans-serif\" font-size=\"12\" lengthAdjust=\"spacingAndGlyphs\" textLength=\"5\" x=\"117.5\" y=\"117.6074\">z</text><line style=\"stroke: #383838; stroke-width: 1.5;\" x1=\"85.5\" x2=\"154.5\" y1=\"125.4375\" y2=\"125.4375\"/></a><a href=\"psysml:59f5b99d-24d3-4acd-853e-8f7f0b563d54\" target=\"_top\" title=\"psysml:59f5b99d-24d3-4acd-853e-8f7f0b563d54\" xlink:actuate=\"onRequest\" xlink:href=\"psysml:59f5b99d-24d3-4acd-853e-8f7f0b563d54\" xlink:show=\"new\" xlink:title=\"psysml:59f5b99d-24d3-4acd-853e-8f7f0b563d54\" xlink:type=\"simple\"><polygon fill=\"#FFFFFF\" points=\"271,84,413,84,420,106.2969,427,106.2969,427,136.5938,271,136.5938,271,84\" style=\"stroke: #000000; stroke-width: 1.5;\"/><line style=\"stroke: #000000; stroke-width: 1.5;\" x1=\"271\" x2=\"420\" y1=\"106.2969\" y2=\"106.2969\"/><text fill=\"#000000\" font-family=\"sans-serif\" font-size=\"14\" font-weight=\"bold\" lengthAdjust=\"spacingAndGlyphs\" textLength=\"136\" x=\"275\" y=\"98.9951\">Application Layer</text></a><a href=\"psysml:5cfbc3a5-c556-4af2-acf6-f60fe409e97c\" target=\"_top\" title=\"psysml:5cfbc3a5-c556-4af2-acf6-f60fe409e97c\" xlink:actuate=\"onRequest\" xlink:href=\"psysml:5cfbc3a5-c556-4af2-acf6-f60fe409e97c\" xlink:show=\"new\" xlink:title=\"psysml:5cfbc3a5-c556-4af2-acf6-f60fe409e97c\" xlink:type=\"simple\"><polygon fill=\"#FFFFFF\" points=\"285,214,399,214,406,236.2969,413,236.2969,413,266.5938,285,266.5938,285,214\" style=\"stroke: #000000; stroke-width: 1.5;\"/><line style=\"stroke: #000000; stroke-width: 1.5;\" x1=\"285\" x2=\"406\" y1=\"236.2969\" y2=\"236.2969\"/><text fill=\"#000000\" font-family=\"sans-serif\" font-size=\"14\" font-weight=\"bold\" lengthAdjust=\"spacingAndGlyphs\" textLength=\"108\" x=\"289\" y=\"228.9951\">Service Layer</text></a><a href=\"psysml:acb31344-a810-41ff-bc38-efd03bbf6ecb\" target=\"_top\" title=\"psysml:acb31344-a810-41ff-bc38-efd03bbf6ecb\" xlink:actuate=\"onRequest\" xlink:href=\"psysml:acb31344-a810-41ff-bc38-efd03bbf6ecb\" xlink:show=\"new\" xlink:title=\"psysml:acb31344-a810-41ff-bc38-efd03bbf6ecb\" xlink:type=\"simple\"><polygon fill=\"#FFFFFF\" points=\"297,344,387,344,394,366.2969,401,366.2969,401,396.5938,297,396.5938,297,344\" style=\"stroke: #000000; stroke-width: 1.5;\"/><line style=\"stroke: #000000; stroke-width: 1.5;\" x1=\"297\" x2=\"394\" y1=\"366.2969\" y2=\"366.2969\"/><text fill=\"#000000\" font-family=\"sans-serif\" font-size=\"14\" font-weight=\"bold\" lengthAdjust=\"spacingAndGlyphs\" textLength=\"84\" x=\"301\" y=\"358.9951\">Data Layer</text></a><!--MD5=[af87c684e3b0d8be13c1a698a818ef1e]\n",
       "link E3 to E4--><a href=\"psysml:952f286e-4b84-47c6-949f-c687a4b4f029\" target=\"_top\" title=\"psysml:952f286e-4b84-47c6-949f-c687a4b4f029\" xlink:actuate=\"onRequest\" xlink:href=\"psysml:952f286e-4b84-47c6-949f-c687a4b4f029\" xlink:show=\"new\" xlink:title=\"psysml:952f286e-4b84-47c6-949f-c687a4b4f029\" xlink:type=\"simple\"><path d=\"M349,137.12 C349,137.12 349,205.91 349,205.91 \" fill=\"none\" id=\"E3-&gt;E4\" style=\"stroke: #383838; stroke-width: 1.0; stroke-dasharray: 7.0,7.0;\"/><polygon fill=\"#383838\" points=\"349,213.91,352,205.91,346,205.91,349,213.91\" style=\"stroke: #383838; stroke-width: 1.0;\"/><text fill=\"#000000\" font-family=\"sans-serif\" font-size=\"13\" lengthAdjust=\"spacingAndGlyphs\" textLength=\"64\" x=\"350\" y=\"180.0669\">«depend»</text></a><!--MD5=[1b7591eae5389033d8d09a9d6721a717]\n",
       "link E4 to E5--><a href=\"psysml:7352021b-a74c-4755-9a9f-544f5d5618ed\" target=\"_top\" title=\"psysml:7352021b-a74c-4755-9a9f-544f5d5618ed\" xlink:actuate=\"onRequest\" xlink:href=\"psysml:7352021b-a74c-4755-9a9f-544f5d5618ed\" xlink:show=\"new\" xlink:title=\"psysml:7352021b-a74c-4755-9a9f-544f5d5618ed\" xlink:type=\"simple\"><path d=\"M349,267.12 C349,267.12 349,335.91 349,335.91 \" fill=\"none\" id=\"E4-&gt;E5\" style=\"stroke: #383838; stroke-width: 1.0; stroke-dasharray: 7.0,7.0;\"/><polygon fill=\"#383838\" points=\"349,343.91,352,335.91,346,335.91,349,343.91\" style=\"stroke: #383838; stroke-width: 1.0;\"/><text fill=\"#000000\" font-family=\"sans-serif\" font-size=\"13\" lengthAdjust=\"spacingAndGlyphs\" textLength=\"64\" x=\"350\" y=\"310.0669\">«depend»</text></a><!--MD5=[c5e8897d989ce984f93528998a7150fe]\n",
       "link E8 to E6--><a href=\"psysml:c2ca5ac6-1591-4e08-969e-b115a3bed697\" target=\"_top\" title=\"psysml:c2ca5ac6-1591-4e08-969e-b115a3bed697\" xlink:actuate=\"onRequest\" xlink:href=\"psysml:c2ca5ac6-1591-4e08-969e-b115a3bed697\" xlink:show=\"new\" xlink:title=\"psysml:c2ca5ac6-1591-4e08-969e-b115a3bed697\" xlink:type=\"simple\"><path d=\"M94,133.74 C94,133.74 94,209.46 94,209.46 \" fill=\"none\" id=\"E8-&gt;E6\" style=\"stroke: #383838; stroke-width: 1.0; stroke-dasharray: 7.0,7.0;\"/><polygon fill=\"#383838\" points=\"94,217.46,97,209.46,91,209.46,94,217.46\" style=\"stroke: #383838; stroke-width: 1.0;\"/><text fill=\"#000000\" font-family=\"sans-serif\" font-size=\"13\" lengthAdjust=\"spacingAndGlyphs\" textLength=\"64\" x=\"68\" y=\"180.0669\">«depend»</text></a><!--MD5=[bfa3c8b0d15052fdf50ae9310b491027]\n",
       "link E8 to E7--><a href=\"psysml:c2ca5ac6-1591-4e08-969e-b115a3bed697\" target=\"_top\" title=\"psysml:c2ca5ac6-1591-4e08-969e-b115a3bed697\" xlink:actuate=\"onRequest\" xlink:href=\"psysml:c2ca5ac6-1591-4e08-969e-b115a3bed697\" xlink:show=\"new\" xlink:title=\"psysml:c2ca5ac6-1591-4e08-969e-b115a3bed697\" xlink:type=\"simple\"><path d=\"M147,133.74 C147,133.74 147,209.46 147,209.46 \" fill=\"none\" id=\"E8-&gt;E7\" style=\"stroke: #383838; stroke-width: 1.0; stroke-dasharray: 7.0,7.0;\"/><polygon fill=\"#383838\" points=\"147,217.46,150,209.46,144,209.46,147,217.46\" style=\"stroke: #383838; stroke-width: 1.0;\"/><text fill=\"#000000\" font-family=\"sans-serif\" font-size=\"13\" lengthAdjust=\"spacingAndGlyphs\" textLength=\"64\" x=\"174\" y=\"180.0669\">«depend»</text></a><!--MD5=[7f0e897298ed4e079200c9cae270c0d1]\n",
       "@startuml\r\n",
       "skinparam linetype ortho\r\n",
       "skinparam monochrome true\r\n",
       "skinparam classbackgroundcolor white\r\n",
       "skinparam shadowing false\r\n",
       "skinparam wrapWidth 300\r\n",
       "hide circle\r\n",
       "\r\n",
       "package \"DependencyTest\" as E1  [[psysml:cb8a6054-43e9-4191-a3b4-d53f2df2fcdf ]]  {\r\n",
       "package \"System\" as E2  [[psysml:b8ece1dd-151a-4631-92e5-c2dbf563fb8b ]]  {\r\n",
       "package \"Application Layer\" as E3  [[psysml:59f5b99d-24d3-4acd-853e-8f7f0b563d54 ]]  {\r\n",
       "}\r\n",
       "package \"Service Layer\" as E4  [[psysml:5cfbc3a5-c556-4af2-acf6-f60fe409e97c ]]  {\r\n",
       "}\r\n",
       "package \"Data Layer\" as E5  [[psysml:acb31344-a810-41ff-bc38-efd03bbf6ecb ]]  {\r\n",
       "}\r\n",
       "}\r\n",
       "comp usage \"x\" as E6  <<(T,blue)attribute>> [[psysml:3db867e9-a237-498d-9697-66a5ca6752eb ]] {\r\n",
       "}\r\n",
       "comp usage \"y\" as E7  <<(T,blue)attribute>> [[psysml:c548d046-cadc-4301-a44e-d185972c752b ]] {\r\n",
       "}\r\n",
       "comp usage \"z\" as E8  <<(T,blue)attribute>> [[psysml:47dc4f88-d05c-4598-a7e7-ecfe5751dc87 ]] {\r\n",
       "}\r\n",
       "E3 ..>> E4 [[psysml:952f286e-4b84-47c6-949f-c687a4b4f029 ]] : <<depend>>\r\n",
       "E4 ..>> E5 [[psysml:7352021b-a74c-4755-9a9f-544f5d5618ed ]] : <<depend>>\r\n",
       "E8 ..>> E6 [[psysml:c2ca5ac6-1591-4e08-969e-b115a3bed697 ]] : <<depend>>\r\n",
       "E8 ..>> E7 [[psysml:c2ca5ac6-1591-4e08-969e-b115a3bed697 ]] : <<depend>>\r\n",
       "}\r\n",
       "@enduml\r\n",
       "\n",
       "PlantUML version 1.2020.13(Sat Jun 13 12:26:38 UTC 2020)\n",
       "(EPL source distribution)\n",
       "Java Runtime: OpenJDK Runtime Environment\n",
       "JVM: OpenJDK 64-Bit Server VM\n",
       "Default Encoding: UTF-8\n",
       "Language: en\n",
       "Country: null\n",
       "--></g></svg>"
      ]
     },
     "execution_count": 52,
     "metadata": {},
     "output_type": "execute_result"
    }
   ],
   "source": [
    "%viz --style=\"ORTHOLINE\" --view=\"Tree\" \"DependencyTest\""
   ]
  },
  {
   "cell_type": "code",
   "execution_count": 53,
   "id": "b5142f66",
   "metadata": {
    "execution": {
     "iopub.execute_input": "2021-04-20T07:03:27.061441Z",
     "iopub.status.busy": "2021-04-20T07:03:27.061042Z",
     "iopub.status.idle": "2021-04-20T07:03:27.065503Z",
     "shell.execute_reply": "2021-04-20T07:03:27.065175Z"
    }
   },
   "outputs": [
    {
     "data": {
      "image/svg+xml": [
       "<?xml version=\"1.0\" encoding=\"UTF-8\" standalone=\"no\"?><svg xmlns=\"http://www.w3.org/2000/svg\" xmlns:xlink=\"http://www.w3.org/1999/xlink\" contentScriptType=\"application/ecmascript\" contentStyleType=\"text/css\" height=\"12px\" preserveAspectRatio=\"none\" style=\"width:12px;height:12px;\" version=\"1.1\" viewBox=\"0 0 12 12\" width=\"12px\" zoomAndPan=\"magnify\"><defs/><g><!--MD5=[97d6f38768b311333d388e66b2b27985]\n",
       "@startuml\r\n",
       "skinparam linetype ortho\r\n",
       "skinparam monochrome true\r\n",
       "skinparam classbackgroundcolor white\r\n",
       "skinparam shadowing false\r\n",
       "skinparam wrapWidth 300\r\n",
       "hide circle\r\n",
       "\r\n",
       "@enduml\r\n",
       "\n",
       "PlantUML version 1.2020.13(Sat Jun 13 12:26:38 UTC 2020)\n",
       "(EPL source distribution)\n",
       "Java Runtime: OpenJDK Runtime Environment\n",
       "JVM: OpenJDK 64-Bit Server VM\n",
       "Default Encoding: UTF-8\n",
       "Language: en\n",
       "Country: null\n",
       "--></g></svg>"
      ]
     },
     "execution_count": 53,
     "metadata": {},
     "output_type": "execute_result"
    }
   ],
   "source": [
    "%viz --style=\"ORTHOLINE\" --view=\"State\" \"DependencyTest\""
   ]
  },
  {
   "cell_type": "code",
   "execution_count": 54,
   "id": "a79901bf",
   "metadata": {
    "execution": {
     "iopub.execute_input": "2021-04-20T07:03:27.115884Z",
     "iopub.status.busy": "2021-04-20T07:03:27.115501Z",
     "iopub.status.idle": "2021-04-20T07:03:27.143418Z",
     "shell.execute_reply": "2021-04-20T07:03:27.142167Z"
    }
   },
   "outputs": [
    {
     "data": {
      "image/svg+xml": [
       "<?xml version=\"1.0\" encoding=\"UTF-8\" standalone=\"no\"?><svg xmlns=\"http://www.w3.org/2000/svg\" xmlns:xlink=\"http://www.w3.org/1999/xlink\" contentScriptType=\"application/ecmascript\" contentStyleType=\"text/css\" height=\"361px\" preserveAspectRatio=\"none\" style=\"width:489px;height:361px;\" version=\"1.1\" viewBox=\"0 0 489 361\" width=\"489px\" zoomAndPan=\"magnify\"><defs/><g><!--MD5=[fbc87193dbaf4d95561dea2c320d4a47]\n",
       "cluster E1--><a href=\"psysml:cb8a6054-43e9-4191-a3b4-d53f2df2fcdf\" target=\"_top\" title=\"psysml:cb8a6054-43e9-4191-a3b4-d53f2df2fcdf\" xlink:actuate=\"onRequest\" xlink:href=\"psysml:cb8a6054-43e9-4191-a3b4-d53f2df2fcdf\" xlink:show=\"new\" xlink:title=\"psysml:cb8a6054-43e9-4191-a3b4-d53f2df2fcdf\" xlink:type=\"simple\"><polygon fill=\"#FFFFFF\" points=\"16,6,156,6,163,28.2969,467,28.2969,467,349,16,349,16,6\" style=\"stroke: #000000; stroke-width: 1.5;\"/><line style=\"stroke: #000000; stroke-width: 1.5;\" x1=\"16\" x2=\"163\" y1=\"28.2969\" y2=\"28.2969\"/><text fill=\"#000000\" font-family=\"sans-serif\" font-size=\"14\" font-weight=\"bold\" lengthAdjust=\"spacingAndGlyphs\" textLength=\"134\" x=\"20\" y=\"20.9951\">DependencyTest</text></a><!--MD5=[e4f7fae6ed58524ba242bb0b0d3be6b7]\n",
       "cluster E2--><a href=\"psysml:b8ece1dd-151a-4631-92e5-c2dbf563fb8b\" target=\"_top\" title=\"psysml:b8ece1dd-151a-4631-92e5-c2dbf563fb8b\" xlink:actuate=\"onRequest\" xlink:href=\"psysml:b8ece1dd-151a-4631-92e5-c2dbf563fb8b\" xlink:show=\"new\" xlink:title=\"psysml:b8ece1dd-151a-4631-92e5-c2dbf563fb8b\" xlink:type=\"simple\"><polygon fill=\"#FFFFFF\" points=\"255,49,319,49,326,71.2969,443,71.2969,443,325,255,325,255,49\" style=\"stroke: #000000; stroke-width: 1.5;\"/><line style=\"stroke: #000000; stroke-width: 1.5;\" x1=\"255\" x2=\"326\" y1=\"71.2969\" y2=\"71.2969\"/><text fill=\"#000000\" font-family=\"sans-serif\" font-size=\"14\" font-weight=\"bold\" lengthAdjust=\"spacingAndGlyphs\" textLength=\"58\" x=\"259\" y=\"63.9951\">System</text></a><!--MD5=[60a26617385b1d2d0262a64233df1f8d]\n",
       "class E6--><a href=\"psysml:3db867e9-a237-498d-9697-66a5ca6752eb\" target=\"_top\" title=\"psysml:3db867e9-a237-498d-9697-66a5ca6752eb\" xlink:actuate=\"onRequest\" xlink:href=\"psysml:3db867e9-a237-498d-9697-66a5ca6752eb\" xlink:show=\"new\" xlink:title=\"psysml:3db867e9-a237-498d-9697-66a5ca6752eb\" xlink:type=\"simple\"><rect fill=\"#FFFFFF\" height=\"45.9375\" id=\"E6\" rx=\"10\" ry=\"10\" style=\"stroke: #383838; stroke-width: 1.5;\" width=\"71\" x=\"32.5\" y=\"173.5\"/><text fill=\"#000000\" font-family=\"sans-serif\" font-size=\"12\" font-style=\"italic\" lengthAdjust=\"spacingAndGlyphs\" textLength=\"69\" x=\"33.5\" y=\"189.6387\">«attribute»</text><text fill=\"#000000\" font-family=\"sans-serif\" font-size=\"12\" lengthAdjust=\"spacingAndGlyphs\" textLength=\"6\" x=\"65\" y=\"203.6074\">x</text><line style=\"stroke: #383838; stroke-width: 1.5;\" x1=\"33.5\" x2=\"102.5\" y1=\"211.4375\" y2=\"211.4375\"/></a><!--MD5=[2156ba9850f5573cc1fc38a6a4b2f02b]\n",
       "class E7--><a href=\"psysml:c548d046-cadc-4301-a44e-d185972c752b\" target=\"_top\" title=\"psysml:c548d046-cadc-4301-a44e-d185972c752b\" xlink:actuate=\"onRequest\" xlink:href=\"psysml:c548d046-cadc-4301-a44e-d185972c752b\" xlink:show=\"new\" xlink:title=\"psysml:c548d046-cadc-4301-a44e-d185972c752b\" xlink:type=\"simple\"><rect fill=\"#FFFFFF\" height=\"45.9375\" id=\"E7\" rx=\"10\" ry=\"10\" style=\"stroke: #383838; stroke-width: 1.5;\" width=\"71\" x=\"138.5\" y=\"173.5\"/><text fill=\"#000000\" font-family=\"sans-serif\" font-size=\"12\" font-style=\"italic\" lengthAdjust=\"spacingAndGlyphs\" textLength=\"69\" x=\"139.5\" y=\"189.6387\">«attribute»</text><text fill=\"#000000\" font-family=\"sans-serif\" font-size=\"12\" lengthAdjust=\"spacingAndGlyphs\" textLength=\"6\" x=\"171\" y=\"203.6074\">y</text><line style=\"stroke: #383838; stroke-width: 1.5;\" x1=\"139.5\" x2=\"208.5\" y1=\"211.4375\" y2=\"211.4375\"/></a><!--MD5=[b9389687b975829384b498ac4b7476b2]\n",
       "class E8--><a href=\"psysml:47dc4f88-d05c-4598-a7e7-ecfe5751dc87\" target=\"_top\" title=\"psysml:47dc4f88-d05c-4598-a7e7-ecfe5751dc87\" xlink:actuate=\"onRequest\" xlink:href=\"psysml:47dc4f88-d05c-4598-a7e7-ecfe5751dc87\" xlink:show=\"new\" xlink:title=\"psysml:47dc4f88-d05c-4598-a7e7-ecfe5751dc87\" xlink:type=\"simple\"><rect fill=\"#FFFFFF\" height=\"45.9375\" id=\"E8\" rx=\"10\" ry=\"10\" style=\"stroke: #383838; stroke-width: 1.5;\" width=\"71\" x=\"84.5\" y=\"87.5\"/><text fill=\"#000000\" font-family=\"sans-serif\" font-size=\"12\" font-style=\"italic\" lengthAdjust=\"spacingAndGlyphs\" textLength=\"69\" x=\"85.5\" y=\"103.6387\">«attribute»</text><text fill=\"#000000\" font-family=\"sans-serif\" font-size=\"12\" lengthAdjust=\"spacingAndGlyphs\" textLength=\"5\" x=\"117.5\" y=\"117.6074\">z</text><line style=\"stroke: #383838; stroke-width: 1.5;\" x1=\"85.5\" x2=\"154.5\" y1=\"125.4375\" y2=\"125.4375\"/></a><a href=\"psysml:59f5b99d-24d3-4acd-853e-8f7f0b563d54\" target=\"_top\" title=\"psysml:59f5b99d-24d3-4acd-853e-8f7f0b563d54\" xlink:actuate=\"onRequest\" xlink:href=\"psysml:59f5b99d-24d3-4acd-853e-8f7f0b563d54\" xlink:show=\"new\" xlink:title=\"psysml:59f5b99d-24d3-4acd-853e-8f7f0b563d54\" xlink:type=\"simple\"><polygon fill=\"#FFFFFF\" points=\"271,84,413,84,420,106.2969,427,106.2969,427,136.5938,271,136.5938,271,84\" style=\"stroke: #000000; stroke-width: 1.5;\"/><line style=\"stroke: #000000; stroke-width: 1.5;\" x1=\"271\" x2=\"420\" y1=\"106.2969\" y2=\"106.2969\"/><text fill=\"#000000\" font-family=\"sans-serif\" font-size=\"14\" font-weight=\"bold\" lengthAdjust=\"spacingAndGlyphs\" textLength=\"136\" x=\"275\" y=\"98.9951\">Application Layer</text></a><a href=\"psysml:5cfbc3a5-c556-4af2-acf6-f60fe409e97c\" target=\"_top\" title=\"psysml:5cfbc3a5-c556-4af2-acf6-f60fe409e97c\" xlink:actuate=\"onRequest\" xlink:href=\"psysml:5cfbc3a5-c556-4af2-acf6-f60fe409e97c\" xlink:show=\"new\" xlink:title=\"psysml:5cfbc3a5-c556-4af2-acf6-f60fe409e97c\" xlink:type=\"simple\"><polygon fill=\"#FFFFFF\" points=\"285,170,399,170,406,192.2969,413,192.2969,413,222.5938,285,222.5938,285,170\" style=\"stroke: #000000; stroke-width: 1.5;\"/><line style=\"stroke: #000000; stroke-width: 1.5;\" x1=\"285\" x2=\"406\" y1=\"192.2969\" y2=\"192.2969\"/><text fill=\"#000000\" font-family=\"sans-serif\" font-size=\"14\" font-weight=\"bold\" lengthAdjust=\"spacingAndGlyphs\" textLength=\"108\" x=\"289\" y=\"184.9951\">Service Layer</text></a><a href=\"psysml:acb31344-a810-41ff-bc38-efd03bbf6ecb\" target=\"_top\" title=\"psysml:acb31344-a810-41ff-bc38-efd03bbf6ecb\" xlink:actuate=\"onRequest\" xlink:href=\"psysml:acb31344-a810-41ff-bc38-efd03bbf6ecb\" xlink:show=\"new\" xlink:title=\"psysml:acb31344-a810-41ff-bc38-efd03bbf6ecb\" xlink:type=\"simple\"><polygon fill=\"#FFFFFF\" points=\"297,256,387,256,394,278.2969,401,278.2969,401,308.5938,297,308.5938,297,256\" style=\"stroke: #000000; stroke-width: 1.5;\"/><line style=\"stroke: #000000; stroke-width: 1.5;\" x1=\"297\" x2=\"394\" y1=\"278.2969\" y2=\"278.2969\"/><text fill=\"#000000\" font-family=\"sans-serif\" font-size=\"14\" font-weight=\"bold\" lengthAdjust=\"spacingAndGlyphs\" textLength=\"84\" x=\"301\" y=\"270.9951\">Data Layer</text></a><!--MD5=[af87c684e3b0d8be13c1a698a818ef1e]\n",
       "link E3 to E4--><a href=\"psysml:952f286e-4b84-47c6-949f-c687a4b4f029\" target=\"_top\" title=\"psysml:952f286e-4b84-47c6-949f-c687a4b4f029\" xlink:actuate=\"onRequest\" xlink:href=\"psysml:952f286e-4b84-47c6-949f-c687a4b4f029\" xlink:show=\"new\" xlink:title=\"psysml:952f286e-4b84-47c6-949f-c687a4b4f029\" xlink:type=\"simple\"><path d=\"M349,137.24 C349,137.24 349,161.78 349,161.78 \" fill=\"none\" id=\"E3-&gt;E4\" style=\"stroke: #383838; stroke-width: 1.0; stroke-dasharray: 7.0,7.0;\"/><polygon fill=\"#383838\" points=\"349,169.78,352,161.78,346,161.78,349,169.78\" style=\"stroke: #383838; stroke-width: 1.0;\"/><text fill=\"#000000\" font-family=\"sans-serif\" font-size=\"13\" lengthAdjust=\"spacingAndGlyphs\" textLength=\"64\" x=\"350\" y=\"158.0669\">«depend»</text></a><!--MD5=[1b7591eae5389033d8d09a9d6721a717]\n",
       "link E4 to E5--><a href=\"psysml:7352021b-a74c-4755-9a9f-544f5d5618ed\" target=\"_top\" title=\"psysml:7352021b-a74c-4755-9a9f-544f5d5618ed\" xlink:actuate=\"onRequest\" xlink:href=\"psysml:7352021b-a74c-4755-9a9f-544f5d5618ed\" xlink:show=\"new\" xlink:title=\"psysml:7352021b-a74c-4755-9a9f-544f5d5618ed\" xlink:type=\"simple\"><path d=\"M349,223.24 C349,223.24 349,247.78 349,247.78 \" fill=\"none\" id=\"E4-&gt;E5\" style=\"stroke: #383838; stroke-width: 1.0; stroke-dasharray: 7.0,7.0;\"/><polygon fill=\"#383838\" points=\"349,255.78,352,247.78,346,247.78,349,255.78\" style=\"stroke: #383838; stroke-width: 1.0;\"/><text fill=\"#000000\" font-family=\"sans-serif\" font-size=\"13\" lengthAdjust=\"spacingAndGlyphs\" textLength=\"64\" x=\"350\" y=\"244.0669\">«depend»</text></a><!--MD5=[c5e8897d989ce984f93528998a7150fe]\n",
       "link E8 to E6--><a href=\"psysml:c2ca5ac6-1591-4e08-969e-b115a3bed697\" target=\"_top\" title=\"psysml:c2ca5ac6-1591-4e08-969e-b115a3bed697\" xlink:actuate=\"onRequest\" xlink:href=\"psysml:c2ca5ac6-1591-4e08-969e-b115a3bed697\" xlink:show=\"new\" xlink:title=\"psysml:c2ca5ac6-1591-4e08-969e-b115a3bed697\" xlink:type=\"simple\"><path d=\"M94,133.55 C94,133.55 94,165.39 94,165.39 \" fill=\"none\" id=\"E8-&gt;E6\" style=\"stroke: #383838; stroke-width: 1.0; stroke-dasharray: 7.0,7.0;\"/><polygon fill=\"#383838\" points=\"94,173.39,97,165.39,91,165.39,94,173.39\" style=\"stroke: #383838; stroke-width: 1.0;\"/><text fill=\"#000000\" font-family=\"sans-serif\" font-size=\"13\" lengthAdjust=\"spacingAndGlyphs\" textLength=\"64\" x=\"68\" y=\"158.0669\">«depend»</text></a><!--MD5=[bfa3c8b0d15052fdf50ae9310b491027]\n",
       "link E8 to E7--><a href=\"psysml:c2ca5ac6-1591-4e08-969e-b115a3bed697\" target=\"_top\" title=\"psysml:c2ca5ac6-1591-4e08-969e-b115a3bed697\" xlink:actuate=\"onRequest\" xlink:href=\"psysml:c2ca5ac6-1591-4e08-969e-b115a3bed697\" xlink:show=\"new\" xlink:title=\"psysml:c2ca5ac6-1591-4e08-969e-b115a3bed697\" xlink:type=\"simple\"><path d=\"M147,133.55 C147,133.55 147,165.39 147,165.39 \" fill=\"none\" id=\"E8-&gt;E7\" style=\"stroke: #383838; stroke-width: 1.0; stroke-dasharray: 7.0,7.0;\"/><polygon fill=\"#383838\" points=\"147,173.39,150,165.39,144,165.39,147,173.39\" style=\"stroke: #383838; stroke-width: 1.0;\"/><text fill=\"#000000\" font-family=\"sans-serif\" font-size=\"13\" lengthAdjust=\"spacingAndGlyphs\" textLength=\"64\" x=\"174\" y=\"158.0669\">«depend»</text></a><!--MD5=[5ba1a13502dc9ac06c018d5cee3157df]\n",
       "@startuml\r\n",
       "skinparam ranksep 10\r\n",
       "skinparam rectangle {\r\n",
       " backgroundColor<<block>> LightGreen\r\n",
       "}\r\n",
       "skinparam linetype ortho\r\n",
       "skinparam monochrome true\r\n",
       "skinparam classbackgroundcolor white\r\n",
       "skinparam shadowing false\r\n",
       "skinparam wrapWidth 300\r\n",
       "hide circle\r\n",
       "\r\n",
       "package \"DependencyTest\" as E1  [[psysml:cb8a6054-43e9-4191-a3b4-d53f2df2fcdf ]]  {\r\n",
       "package \"System\" as E2  [[psysml:b8ece1dd-151a-4631-92e5-c2dbf563fb8b ]]  {\r\n",
       "package \"Application Layer\" as E3  [[psysml:59f5b99d-24d3-4acd-853e-8f7f0b563d54 ]]  {\r\n",
       "}\r\n",
       "package \"Service Layer\" as E4  [[psysml:5cfbc3a5-c556-4af2-acf6-f60fe409e97c ]]  {\r\n",
       "}\r\n",
       "package \"Data Layer\" as E5  [[psysml:acb31344-a810-41ff-bc38-efd03bbf6ecb ]]  {\r\n",
       "}\r\n",
       "}\r\n",
       "comp usage \"x\" as E6  <<(T,blue)attribute>> [[psysml:3db867e9-a237-498d-9697-66a5ca6752eb ]] {\r\n",
       "}\r\n",
       "comp usage \"y\" as E7  <<(T,blue)attribute>> [[psysml:c548d046-cadc-4301-a44e-d185972c752b ]] {\r\n",
       "}\r\n",
       "comp usage \"z\" as E8  <<(T,blue)attribute>> [[psysml:47dc4f88-d05c-4598-a7e7-ecfe5751dc87 ]] {\r\n",
       "}\r\n",
       "E3 ..>> E4 [[psysml:952f286e-4b84-47c6-949f-c687a4b4f029 ]] : <<depend>>\r\n",
       "E4 ..>> E5 [[psysml:7352021b-a74c-4755-9a9f-544f5d5618ed ]] : <<depend>>\r\n",
       "E8 ..>> E6 [[psysml:c2ca5ac6-1591-4e08-969e-b115a3bed697 ]] : <<depend>>\r\n",
       "E8 ..>> E7 [[psysml:c2ca5ac6-1591-4e08-969e-b115a3bed697 ]] : <<depend>>\r\n",
       "}\r\n",
       "@enduml\r\n",
       "\n",
       "PlantUML version 1.2020.13(Sat Jun 13 12:26:38 UTC 2020)\n",
       "(EPL source distribution)\n",
       "Java Runtime: OpenJDK Runtime Environment\n",
       "JVM: OpenJDK 64-Bit Server VM\n",
       "Default Encoding: UTF-8\n",
       "Language: en\n",
       "Country: null\n",
       "--></g></svg>"
      ]
     },
     "execution_count": 54,
     "metadata": {},
     "output_type": "execute_result"
    }
   ],
   "source": [
    "%viz --style=\"ORTHOLINE\" --view=\"Interconnection\" \"DependencyTest\""
   ]
  },
  {
   "cell_type": "code",
   "execution_count": 55,
   "id": "0c3adf15",
   "metadata": {
    "execution": {
     "iopub.execute_input": "2021-04-20T07:03:27.197181Z",
     "iopub.status.busy": "2021-04-20T07:03:27.196671Z",
     "iopub.status.idle": "2021-04-20T07:03:27.203629Z",
     "shell.execute_reply": "2021-04-20T07:03:27.203295Z"
    }
   },
   "outputs": [
    {
     "data": {
      "image/svg+xml": [
       "<?xml version=\"1.0\" encoding=\"UTF-8\" standalone=\"no\"?><svg xmlns=\"http://www.w3.org/2000/svg\" xmlns:xlink=\"http://www.w3.org/1999/xlink\" contentScriptType=\"application/ecmascript\" contentStyleType=\"text/css\" height=\"12px\" preserveAspectRatio=\"none\" style=\"width:12px;height:12px;\" version=\"1.1\" viewBox=\"0 0 12 12\" width=\"12px\" zoomAndPan=\"magnify\"><defs/><g><!--MD5=[72934c63077099a26744516a776b4749]\n",
       "@startuml\r\n",
       "skinparam ranksep 8\r\n",
       "skinparam linetype ortho\r\n",
       "skinparam monochrome true\r\n",
       "skinparam classbackgroundcolor white\r\n",
       "skinparam shadowing false\r\n",
       "skinparam wrapWidth 300\r\n",
       "hide circle\r\n",
       "\r\n",
       "@enduml\r\n",
       "\n",
       "PlantUML version 1.2020.13(Sat Jun 13 12:26:38 UTC 2020)\n",
       "(EPL source distribution)\n",
       "Java Runtime: OpenJDK Runtime Environment\n",
       "JVM: OpenJDK 64-Bit Server VM\n",
       "Default Encoding: UTF-8\n",
       "Language: en\n",
       "Country: null\n",
       "--></g></svg>"
      ]
     },
     "execution_count": 55,
     "metadata": {},
     "output_type": "execute_result"
    }
   ],
   "source": [
    "%viz --style=\"ORTHOLINE\" --view=\"Action\" \"DependencyTest\""
   ]
  },
  {
   "cell_type": "code",
   "execution_count": 56,
   "id": "3d09a97d",
   "metadata": {
    "execution": {
     "iopub.execute_input": "2021-04-20T07:03:27.256013Z",
     "iopub.status.busy": "2021-04-20T07:03:27.255515Z",
     "iopub.status.idle": "2021-04-20T07:03:27.287549Z",
     "shell.execute_reply": "2021-04-20T07:03:27.286267Z"
    }
   },
   "outputs": [
    {
     "data": {
      "image/svg+xml": [
       "<?xml version=\"1.0\" encoding=\"UTF-8\" standalone=\"no\"?><svg xmlns=\"http://www.w3.org/2000/svg\" xmlns:xlink=\"http://www.w3.org/1999/xlink\" contentScriptType=\"application/ecmascript\" contentStyleType=\"text/css\" height=\"449px\" preserveAspectRatio=\"none\" style=\"width:489px;height:449px;\" version=\"1.1\" viewBox=\"0 0 489 449\" width=\"489px\" zoomAndPan=\"magnify\"><defs/><g><!--MD5=[fbc87193dbaf4d95561dea2c320d4a47]\n",
       "cluster E1--><a href=\"psysml:cb8a6054-43e9-4191-a3b4-d53f2df2fcdf\" target=\"_top\" title=\"psysml:cb8a6054-43e9-4191-a3b4-d53f2df2fcdf\" xlink:actuate=\"onRequest\" xlink:href=\"psysml:cb8a6054-43e9-4191-a3b4-d53f2df2fcdf\" xlink:show=\"new\" xlink:title=\"psysml:cb8a6054-43e9-4191-a3b4-d53f2df2fcdf\" xlink:type=\"simple\"><polygon fill=\"#FFFFFF\" points=\"16,6,156,6,163,28.2969,467,28.2969,467,437,16,437,16,6\" style=\"stroke: #000000; stroke-width: 1.5;\"/><line style=\"stroke: #000000; stroke-width: 1.5;\" x1=\"16\" x2=\"163\" y1=\"28.2969\" y2=\"28.2969\"/><text fill=\"#000000\" font-family=\"sans-serif\" font-size=\"14\" font-weight=\"bold\" lengthAdjust=\"spacingAndGlyphs\" textLength=\"134\" x=\"20\" y=\"20.9951\">DependencyTest</text></a><!--MD5=[e4f7fae6ed58524ba242bb0b0d3be6b7]\n",
       "cluster E2--><a href=\"psysml:b8ece1dd-151a-4631-92e5-c2dbf563fb8b\" target=\"_top\" title=\"psysml:b8ece1dd-151a-4631-92e5-c2dbf563fb8b\" xlink:actuate=\"onRequest\" xlink:href=\"psysml:b8ece1dd-151a-4631-92e5-c2dbf563fb8b\" xlink:show=\"new\" xlink:title=\"psysml:b8ece1dd-151a-4631-92e5-c2dbf563fb8b\" xlink:type=\"simple\"><polygon fill=\"#FFFFFF\" points=\"255,49,319,49,326,71.2969,443,71.2969,443,413,255,413,255,49\" style=\"stroke: #000000; stroke-width: 1.5;\"/><line style=\"stroke: #000000; stroke-width: 1.5;\" x1=\"255\" x2=\"326\" y1=\"71.2969\" y2=\"71.2969\"/><text fill=\"#000000\" font-family=\"sans-serif\" font-size=\"14\" font-weight=\"bold\" lengthAdjust=\"spacingAndGlyphs\" textLength=\"58\" x=\"259\" y=\"63.9951\">System</text></a><!--MD5=[60a26617385b1d2d0262a64233df1f8d]\n",
       "class E6--><a href=\"psysml:3db867e9-a237-498d-9697-66a5ca6752eb\" target=\"_top\" title=\"psysml:3db867e9-a237-498d-9697-66a5ca6752eb\" xlink:actuate=\"onRequest\" xlink:href=\"psysml:3db867e9-a237-498d-9697-66a5ca6752eb\" xlink:show=\"new\" xlink:title=\"psysml:3db867e9-a237-498d-9697-66a5ca6752eb\" xlink:type=\"simple\"><rect fill=\"#FFFFFF\" height=\"45.9375\" id=\"E6\" rx=\"10\" ry=\"10\" style=\"stroke: #383838; stroke-width: 1.5;\" width=\"71\" x=\"32.5\" y=\"217.5\"/><text fill=\"#000000\" font-family=\"sans-serif\" font-size=\"12\" font-style=\"italic\" lengthAdjust=\"spacingAndGlyphs\" textLength=\"69\" x=\"33.5\" y=\"233.6387\">«attribute»</text><text fill=\"#000000\" font-family=\"sans-serif\" font-size=\"12\" lengthAdjust=\"spacingAndGlyphs\" textLength=\"6\" x=\"65\" y=\"247.6074\">x</text><line style=\"stroke: #383838; stroke-width: 1.5;\" x1=\"33.5\" x2=\"102.5\" y1=\"255.4375\" y2=\"255.4375\"/></a><!--MD5=[2156ba9850f5573cc1fc38a6a4b2f02b]\n",
       "class E7--><a href=\"psysml:c548d046-cadc-4301-a44e-d185972c752b\" target=\"_top\" title=\"psysml:c548d046-cadc-4301-a44e-d185972c752b\" xlink:actuate=\"onRequest\" xlink:href=\"psysml:c548d046-cadc-4301-a44e-d185972c752b\" xlink:show=\"new\" xlink:title=\"psysml:c548d046-cadc-4301-a44e-d185972c752b\" xlink:type=\"simple\"><rect fill=\"#FFFFFF\" height=\"45.9375\" id=\"E7\" rx=\"10\" ry=\"10\" style=\"stroke: #383838; stroke-width: 1.5;\" width=\"71\" x=\"138.5\" y=\"217.5\"/><text fill=\"#000000\" font-family=\"sans-serif\" font-size=\"12\" font-style=\"italic\" lengthAdjust=\"spacingAndGlyphs\" textLength=\"69\" x=\"139.5\" y=\"233.6387\">«attribute»</text><text fill=\"#000000\" font-family=\"sans-serif\" font-size=\"12\" lengthAdjust=\"spacingAndGlyphs\" textLength=\"6\" x=\"171\" y=\"247.6074\">y</text><line style=\"stroke: #383838; stroke-width: 1.5;\" x1=\"139.5\" x2=\"208.5\" y1=\"255.4375\" y2=\"255.4375\"/></a><!--MD5=[b9389687b975829384b498ac4b7476b2]\n",
       "class E8--><a href=\"psysml:47dc4f88-d05c-4598-a7e7-ecfe5751dc87\" target=\"_top\" title=\"psysml:47dc4f88-d05c-4598-a7e7-ecfe5751dc87\" xlink:actuate=\"onRequest\" xlink:href=\"psysml:47dc4f88-d05c-4598-a7e7-ecfe5751dc87\" xlink:show=\"new\" xlink:title=\"psysml:47dc4f88-d05c-4598-a7e7-ecfe5751dc87\" xlink:type=\"simple\"><rect fill=\"#FFFFFF\" height=\"45.9375\" id=\"E8\" rx=\"10\" ry=\"10\" style=\"stroke: #383838; stroke-width: 1.5;\" width=\"71\" x=\"84.5\" y=\"87.5\"/><text fill=\"#000000\" font-family=\"sans-serif\" font-size=\"12\" font-style=\"italic\" lengthAdjust=\"spacingAndGlyphs\" textLength=\"69\" x=\"85.5\" y=\"103.6387\">«attribute»</text><text fill=\"#000000\" font-family=\"sans-serif\" font-size=\"12\" lengthAdjust=\"spacingAndGlyphs\" textLength=\"5\" x=\"117.5\" y=\"117.6074\">z</text><line style=\"stroke: #383838; stroke-width: 1.5;\" x1=\"85.5\" x2=\"154.5\" y1=\"125.4375\" y2=\"125.4375\"/></a><a href=\"psysml:59f5b99d-24d3-4acd-853e-8f7f0b563d54\" target=\"_top\" title=\"psysml:59f5b99d-24d3-4acd-853e-8f7f0b563d54\" xlink:actuate=\"onRequest\" xlink:href=\"psysml:59f5b99d-24d3-4acd-853e-8f7f0b563d54\" xlink:show=\"new\" xlink:title=\"psysml:59f5b99d-24d3-4acd-853e-8f7f0b563d54\" xlink:type=\"simple\"><polygon fill=\"#FFFFFF\" points=\"271,84,413,84,420,106.2969,427,106.2969,427,136.5938,271,136.5938,271,84\" style=\"stroke: #000000; stroke-width: 1.5;\"/><line style=\"stroke: #000000; stroke-width: 1.5;\" x1=\"271\" x2=\"420\" y1=\"106.2969\" y2=\"106.2969\"/><text fill=\"#000000\" font-family=\"sans-serif\" font-size=\"14\" font-weight=\"bold\" lengthAdjust=\"spacingAndGlyphs\" textLength=\"136\" x=\"275\" y=\"98.9951\">Application Layer</text></a><a href=\"psysml:5cfbc3a5-c556-4af2-acf6-f60fe409e97c\" target=\"_top\" title=\"psysml:5cfbc3a5-c556-4af2-acf6-f60fe409e97c\" xlink:actuate=\"onRequest\" xlink:href=\"psysml:5cfbc3a5-c556-4af2-acf6-f60fe409e97c\" xlink:show=\"new\" xlink:title=\"psysml:5cfbc3a5-c556-4af2-acf6-f60fe409e97c\" xlink:type=\"simple\"><polygon fill=\"#FFFFFF\" points=\"285,214,399,214,406,236.2969,413,236.2969,413,266.5938,285,266.5938,285,214\" style=\"stroke: #000000; stroke-width: 1.5;\"/><line style=\"stroke: #000000; stroke-width: 1.5;\" x1=\"285\" x2=\"406\" y1=\"236.2969\" y2=\"236.2969\"/><text fill=\"#000000\" font-family=\"sans-serif\" font-size=\"14\" font-weight=\"bold\" lengthAdjust=\"spacingAndGlyphs\" textLength=\"108\" x=\"289\" y=\"228.9951\">Service Layer</text></a><a href=\"psysml:acb31344-a810-41ff-bc38-efd03bbf6ecb\" target=\"_top\" title=\"psysml:acb31344-a810-41ff-bc38-efd03bbf6ecb\" xlink:actuate=\"onRequest\" xlink:href=\"psysml:acb31344-a810-41ff-bc38-efd03bbf6ecb\" xlink:show=\"new\" xlink:title=\"psysml:acb31344-a810-41ff-bc38-efd03bbf6ecb\" xlink:type=\"simple\"><polygon fill=\"#FFFFFF\" points=\"297,344,387,344,394,366.2969,401,366.2969,401,396.5938,297,396.5938,297,344\" style=\"stroke: #000000; stroke-width: 1.5;\"/><line style=\"stroke: #000000; stroke-width: 1.5;\" x1=\"297\" x2=\"394\" y1=\"366.2969\" y2=\"366.2969\"/><text fill=\"#000000\" font-family=\"sans-serif\" font-size=\"14\" font-weight=\"bold\" lengthAdjust=\"spacingAndGlyphs\" textLength=\"84\" x=\"301\" y=\"358.9951\">Data Layer</text></a><!--MD5=[af87c684e3b0d8be13c1a698a818ef1e]\n",
       "link E3 to E4--><a href=\"psysml:952f286e-4b84-47c6-949f-c687a4b4f029\" target=\"_top\" title=\"psysml:952f286e-4b84-47c6-949f-c687a4b4f029\" xlink:actuate=\"onRequest\" xlink:href=\"psysml:952f286e-4b84-47c6-949f-c687a4b4f029\" xlink:show=\"new\" xlink:title=\"psysml:952f286e-4b84-47c6-949f-c687a4b4f029\" xlink:type=\"simple\"><path d=\"M349,137.12 C349,137.12 349,205.91 349,205.91 \" fill=\"none\" id=\"E3-&gt;E4\" style=\"stroke: #383838; stroke-width: 1.0; stroke-dasharray: 7.0,7.0;\"/><polygon fill=\"#383838\" points=\"349,213.91,352,205.91,346,205.91,349,213.91\" style=\"stroke: #383838; stroke-width: 1.0;\"/><text fill=\"#000000\" font-family=\"sans-serif\" font-size=\"13\" lengthAdjust=\"spacingAndGlyphs\" textLength=\"64\" x=\"350\" y=\"180.0669\">«depend»</text></a><!--MD5=[1b7591eae5389033d8d09a9d6721a717]\n",
       "link E4 to E5--><a href=\"psysml:7352021b-a74c-4755-9a9f-544f5d5618ed\" target=\"_top\" title=\"psysml:7352021b-a74c-4755-9a9f-544f5d5618ed\" xlink:actuate=\"onRequest\" xlink:href=\"psysml:7352021b-a74c-4755-9a9f-544f5d5618ed\" xlink:show=\"new\" xlink:title=\"psysml:7352021b-a74c-4755-9a9f-544f5d5618ed\" xlink:type=\"simple\"><path d=\"M349,267.12 C349,267.12 349,335.91 349,335.91 \" fill=\"none\" id=\"E4-&gt;E5\" style=\"stroke: #383838; stroke-width: 1.0; stroke-dasharray: 7.0,7.0;\"/><polygon fill=\"#383838\" points=\"349,343.91,352,335.91,346,335.91,349,343.91\" style=\"stroke: #383838; stroke-width: 1.0;\"/><text fill=\"#000000\" font-family=\"sans-serif\" font-size=\"13\" lengthAdjust=\"spacingAndGlyphs\" textLength=\"64\" x=\"350\" y=\"310.0669\">«depend»</text></a><!--MD5=[c5e8897d989ce984f93528998a7150fe]\n",
       "link E8 to E6--><a href=\"psysml:c2ca5ac6-1591-4e08-969e-b115a3bed697\" target=\"_top\" title=\"psysml:c2ca5ac6-1591-4e08-969e-b115a3bed697\" xlink:actuate=\"onRequest\" xlink:href=\"psysml:c2ca5ac6-1591-4e08-969e-b115a3bed697\" xlink:show=\"new\" xlink:title=\"psysml:c2ca5ac6-1591-4e08-969e-b115a3bed697\" xlink:type=\"simple\"><path d=\"M94,133.74 C94,133.74 94,209.46 94,209.46 \" fill=\"none\" id=\"E8-&gt;E6\" style=\"stroke: #383838; stroke-width: 1.0; stroke-dasharray: 7.0,7.0;\"/><polygon fill=\"#383838\" points=\"94,217.46,97,209.46,91,209.46,94,217.46\" style=\"stroke: #383838; stroke-width: 1.0;\"/><text fill=\"#000000\" font-family=\"sans-serif\" font-size=\"13\" lengthAdjust=\"spacingAndGlyphs\" textLength=\"64\" x=\"68\" y=\"180.0669\">«depend»</text></a><!--MD5=[bfa3c8b0d15052fdf50ae9310b491027]\n",
       "link E8 to E7--><a href=\"psysml:c2ca5ac6-1591-4e08-969e-b115a3bed697\" target=\"_top\" title=\"psysml:c2ca5ac6-1591-4e08-969e-b115a3bed697\" xlink:actuate=\"onRequest\" xlink:href=\"psysml:c2ca5ac6-1591-4e08-969e-b115a3bed697\" xlink:show=\"new\" xlink:title=\"psysml:c2ca5ac6-1591-4e08-969e-b115a3bed697\" xlink:type=\"simple\"><path d=\"M147,133.74 C147,133.74 147,209.46 147,209.46 \" fill=\"none\" id=\"E8-&gt;E7\" style=\"stroke: #383838; stroke-width: 1.0; stroke-dasharray: 7.0,7.0;\"/><polygon fill=\"#383838\" points=\"147,217.46,150,209.46,144,209.46,147,217.46\" style=\"stroke: #383838; stroke-width: 1.0;\"/><text fill=\"#000000\" font-family=\"sans-serif\" font-size=\"13\" lengthAdjust=\"spacingAndGlyphs\" textLength=\"64\" x=\"174\" y=\"180.0669\">«depend»</text></a><!--MD5=[7f0e897298ed4e079200c9cae270c0d1]\n",
       "@startuml\r\n",
       "skinparam linetype ortho\r\n",
       "skinparam monochrome true\r\n",
       "skinparam classbackgroundcolor white\r\n",
       "skinparam shadowing false\r\n",
       "skinparam wrapWidth 300\r\n",
       "hide circle\r\n",
       "\r\n",
       "package \"DependencyTest\" as E1  [[psysml:cb8a6054-43e9-4191-a3b4-d53f2df2fcdf ]]  {\r\n",
       "package \"System\" as E2  [[psysml:b8ece1dd-151a-4631-92e5-c2dbf563fb8b ]]  {\r\n",
       "package \"Application Layer\" as E3  [[psysml:59f5b99d-24d3-4acd-853e-8f7f0b563d54 ]]  {\r\n",
       "}\r\n",
       "package \"Service Layer\" as E4  [[psysml:5cfbc3a5-c556-4af2-acf6-f60fe409e97c ]]  {\r\n",
       "}\r\n",
       "package \"Data Layer\" as E5  [[psysml:acb31344-a810-41ff-bc38-efd03bbf6ecb ]]  {\r\n",
       "}\r\n",
       "}\r\n",
       "comp usage \"x\" as E6  <<(T,blue)attribute>> [[psysml:3db867e9-a237-498d-9697-66a5ca6752eb ]] {\r\n",
       "}\r\n",
       "comp usage \"y\" as E7  <<(T,blue)attribute>> [[psysml:c548d046-cadc-4301-a44e-d185972c752b ]] {\r\n",
       "}\r\n",
       "comp usage \"z\" as E8  <<(T,blue)attribute>> [[psysml:47dc4f88-d05c-4598-a7e7-ecfe5751dc87 ]] {\r\n",
       "}\r\n",
       "E3 ..>> E4 [[psysml:952f286e-4b84-47c6-949f-c687a4b4f029 ]] : <<depend>>\r\n",
       "E4 ..>> E5 [[psysml:7352021b-a74c-4755-9a9f-544f5d5618ed ]] : <<depend>>\r\n",
       "E8 ..>> E6 [[psysml:c2ca5ac6-1591-4e08-969e-b115a3bed697 ]] : <<depend>>\r\n",
       "E8 ..>> E7 [[psysml:c2ca5ac6-1591-4e08-969e-b115a3bed697 ]] : <<depend>>\r\n",
       "}\r\n",
       "@enduml\r\n",
       "\n",
       "PlantUML version 1.2020.13(Sat Jun 13 12:26:38 UTC 2020)\n",
       "(EPL source distribution)\n",
       "Java Runtime: OpenJDK Runtime Environment\n",
       "JVM: OpenJDK 64-Bit Server VM\n",
       "Default Encoding: UTF-8\n",
       "Language: en\n",
       "Country: null\n",
       "--></g></svg>"
      ]
     },
     "execution_count": 56,
     "metadata": {},
     "output_type": "execute_result"
    }
   ],
   "source": [
    "%viz --style=\"ORTHOLINE\" --view=\"Sequence\" \"DependencyTest\""
   ]
  },
  {
   "cell_type": "code",
   "execution_count": 57,
   "id": "5bf1f67a",
   "metadata": {
    "execution": {
     "iopub.execute_input": "2021-04-20T07:03:27.338141Z",
     "iopub.status.busy": "2021-04-20T07:03:27.337586Z",
     "iopub.status.idle": "2021-04-20T07:03:27.367304Z",
     "shell.execute_reply": "2021-04-20T07:03:27.365458Z"
    }
   },
   "outputs": [
    {
     "data": {
      "image/svg+xml": [
       "<?xml version=\"1.0\" encoding=\"UTF-8\" standalone=\"no\"?><svg xmlns=\"http://www.w3.org/2000/svg\" xmlns:xlink=\"http://www.w3.org/1999/xlink\" contentScriptType=\"application/ecmascript\" contentStyleType=\"text/css\" height=\"449px\" preserveAspectRatio=\"none\" style=\"width:489px;height:449px;\" version=\"1.1\" viewBox=\"0 0 489 449\" width=\"489px\" zoomAndPan=\"magnify\"><defs/><g><!--MD5=[fbc87193dbaf4d95561dea2c320d4a47]\n",
       "cluster E1--><a href=\"psysml:cb8a6054-43e9-4191-a3b4-d53f2df2fcdf\" target=\"_top\" title=\"psysml:cb8a6054-43e9-4191-a3b4-d53f2df2fcdf\" xlink:actuate=\"onRequest\" xlink:href=\"psysml:cb8a6054-43e9-4191-a3b4-d53f2df2fcdf\" xlink:show=\"new\" xlink:title=\"psysml:cb8a6054-43e9-4191-a3b4-d53f2df2fcdf\" xlink:type=\"simple\"><polygon fill=\"#FFFFFF\" points=\"16,6,156,6,163,28.2969,467,28.2969,467,437,16,437,16,6\" style=\"stroke: #000000; stroke-width: 1.5;\"/><line style=\"stroke: #000000; stroke-width: 1.5;\" x1=\"16\" x2=\"163\" y1=\"28.2969\" y2=\"28.2969\"/><text fill=\"#000000\" font-family=\"sans-serif\" font-size=\"14\" font-weight=\"bold\" lengthAdjust=\"spacingAndGlyphs\" textLength=\"134\" x=\"20\" y=\"20.9951\">DependencyTest</text></a><!--MD5=[e4f7fae6ed58524ba242bb0b0d3be6b7]\n",
       "cluster E2--><a href=\"psysml:b8ece1dd-151a-4631-92e5-c2dbf563fb8b\" target=\"_top\" title=\"psysml:b8ece1dd-151a-4631-92e5-c2dbf563fb8b\" xlink:actuate=\"onRequest\" xlink:href=\"psysml:b8ece1dd-151a-4631-92e5-c2dbf563fb8b\" xlink:show=\"new\" xlink:title=\"psysml:b8ece1dd-151a-4631-92e5-c2dbf563fb8b\" xlink:type=\"simple\"><polygon fill=\"#FFFFFF\" points=\"255,49,319,49,326,71.2969,443,71.2969,443,413,255,413,255,49\" style=\"stroke: #000000; stroke-width: 1.5;\"/><line style=\"stroke: #000000; stroke-width: 1.5;\" x1=\"255\" x2=\"326\" y1=\"71.2969\" y2=\"71.2969\"/><text fill=\"#000000\" font-family=\"sans-serif\" font-size=\"14\" font-weight=\"bold\" lengthAdjust=\"spacingAndGlyphs\" textLength=\"58\" x=\"259\" y=\"63.9951\">System</text></a><!--MD5=[60a26617385b1d2d0262a64233df1f8d]\n",
       "class E6--><a href=\"psysml:3db867e9-a237-498d-9697-66a5ca6752eb\" target=\"_top\" title=\"psysml:3db867e9-a237-498d-9697-66a5ca6752eb\" xlink:actuate=\"onRequest\" xlink:href=\"psysml:3db867e9-a237-498d-9697-66a5ca6752eb\" xlink:show=\"new\" xlink:title=\"psysml:3db867e9-a237-498d-9697-66a5ca6752eb\" xlink:type=\"simple\"><rect fill=\"#FFFFFF\" height=\"45.9375\" id=\"E6\" rx=\"10\" ry=\"10\" style=\"stroke: #383838; stroke-width: 1.5;\" width=\"71\" x=\"32.5\" y=\"217.5\"/><text fill=\"#000000\" font-family=\"sans-serif\" font-size=\"12\" font-style=\"italic\" lengthAdjust=\"spacingAndGlyphs\" textLength=\"69\" x=\"33.5\" y=\"233.6387\">«attribute»</text><text fill=\"#000000\" font-family=\"sans-serif\" font-size=\"12\" lengthAdjust=\"spacingAndGlyphs\" textLength=\"6\" x=\"65\" y=\"247.6074\">x</text><line style=\"stroke: #383838; stroke-width: 1.5;\" x1=\"33.5\" x2=\"102.5\" y1=\"255.4375\" y2=\"255.4375\"/></a><!--MD5=[2156ba9850f5573cc1fc38a6a4b2f02b]\n",
       "class E7--><a href=\"psysml:c548d046-cadc-4301-a44e-d185972c752b\" target=\"_top\" title=\"psysml:c548d046-cadc-4301-a44e-d185972c752b\" xlink:actuate=\"onRequest\" xlink:href=\"psysml:c548d046-cadc-4301-a44e-d185972c752b\" xlink:show=\"new\" xlink:title=\"psysml:c548d046-cadc-4301-a44e-d185972c752b\" xlink:type=\"simple\"><rect fill=\"#FFFFFF\" height=\"45.9375\" id=\"E7\" rx=\"10\" ry=\"10\" style=\"stroke: #383838; stroke-width: 1.5;\" width=\"71\" x=\"138.5\" y=\"217.5\"/><text fill=\"#000000\" font-family=\"sans-serif\" font-size=\"12\" font-style=\"italic\" lengthAdjust=\"spacingAndGlyphs\" textLength=\"69\" x=\"139.5\" y=\"233.6387\">«attribute»</text><text fill=\"#000000\" font-family=\"sans-serif\" font-size=\"12\" lengthAdjust=\"spacingAndGlyphs\" textLength=\"6\" x=\"171\" y=\"247.6074\">y</text><line style=\"stroke: #383838; stroke-width: 1.5;\" x1=\"139.5\" x2=\"208.5\" y1=\"255.4375\" y2=\"255.4375\"/></a><!--MD5=[b9389687b975829384b498ac4b7476b2]\n",
       "class E8--><a href=\"psysml:47dc4f88-d05c-4598-a7e7-ecfe5751dc87\" target=\"_top\" title=\"psysml:47dc4f88-d05c-4598-a7e7-ecfe5751dc87\" xlink:actuate=\"onRequest\" xlink:href=\"psysml:47dc4f88-d05c-4598-a7e7-ecfe5751dc87\" xlink:show=\"new\" xlink:title=\"psysml:47dc4f88-d05c-4598-a7e7-ecfe5751dc87\" xlink:type=\"simple\"><rect fill=\"#FFFFFF\" height=\"45.9375\" id=\"E8\" rx=\"10\" ry=\"10\" style=\"stroke: #383838; stroke-width: 1.5;\" width=\"71\" x=\"84.5\" y=\"87.5\"/><text fill=\"#000000\" font-family=\"sans-serif\" font-size=\"12\" font-style=\"italic\" lengthAdjust=\"spacingAndGlyphs\" textLength=\"69\" x=\"85.5\" y=\"103.6387\">«attribute»</text><text fill=\"#000000\" font-family=\"sans-serif\" font-size=\"12\" lengthAdjust=\"spacingAndGlyphs\" textLength=\"5\" x=\"117.5\" y=\"117.6074\">z</text><line style=\"stroke: #383838; stroke-width: 1.5;\" x1=\"85.5\" x2=\"154.5\" y1=\"125.4375\" y2=\"125.4375\"/></a><a href=\"psysml:59f5b99d-24d3-4acd-853e-8f7f0b563d54\" target=\"_top\" title=\"psysml:59f5b99d-24d3-4acd-853e-8f7f0b563d54\" xlink:actuate=\"onRequest\" xlink:href=\"psysml:59f5b99d-24d3-4acd-853e-8f7f0b563d54\" xlink:show=\"new\" xlink:title=\"psysml:59f5b99d-24d3-4acd-853e-8f7f0b563d54\" xlink:type=\"simple\"><polygon fill=\"#FFFFFF\" points=\"271,84,413,84,420,106.2969,427,106.2969,427,136.5938,271,136.5938,271,84\" style=\"stroke: #000000; stroke-width: 1.5;\"/><line style=\"stroke: #000000; stroke-width: 1.5;\" x1=\"271\" x2=\"420\" y1=\"106.2969\" y2=\"106.2969\"/><text fill=\"#000000\" font-family=\"sans-serif\" font-size=\"14\" font-weight=\"bold\" lengthAdjust=\"spacingAndGlyphs\" textLength=\"136\" x=\"275\" y=\"98.9951\">Application Layer</text></a><a href=\"psysml:5cfbc3a5-c556-4af2-acf6-f60fe409e97c\" target=\"_top\" title=\"psysml:5cfbc3a5-c556-4af2-acf6-f60fe409e97c\" xlink:actuate=\"onRequest\" xlink:href=\"psysml:5cfbc3a5-c556-4af2-acf6-f60fe409e97c\" xlink:show=\"new\" xlink:title=\"psysml:5cfbc3a5-c556-4af2-acf6-f60fe409e97c\" xlink:type=\"simple\"><polygon fill=\"#FFFFFF\" points=\"285,214,399,214,406,236.2969,413,236.2969,413,266.5938,285,266.5938,285,214\" style=\"stroke: #000000; stroke-width: 1.5;\"/><line style=\"stroke: #000000; stroke-width: 1.5;\" x1=\"285\" x2=\"406\" y1=\"236.2969\" y2=\"236.2969\"/><text fill=\"#000000\" font-family=\"sans-serif\" font-size=\"14\" font-weight=\"bold\" lengthAdjust=\"spacingAndGlyphs\" textLength=\"108\" x=\"289\" y=\"228.9951\">Service Layer</text></a><a href=\"psysml:acb31344-a810-41ff-bc38-efd03bbf6ecb\" target=\"_top\" title=\"psysml:acb31344-a810-41ff-bc38-efd03bbf6ecb\" xlink:actuate=\"onRequest\" xlink:href=\"psysml:acb31344-a810-41ff-bc38-efd03bbf6ecb\" xlink:show=\"new\" xlink:title=\"psysml:acb31344-a810-41ff-bc38-efd03bbf6ecb\" xlink:type=\"simple\"><polygon fill=\"#FFFFFF\" points=\"297,344,387,344,394,366.2969,401,366.2969,401,396.5938,297,396.5938,297,344\" style=\"stroke: #000000; stroke-width: 1.5;\"/><line style=\"stroke: #000000; stroke-width: 1.5;\" x1=\"297\" x2=\"394\" y1=\"366.2969\" y2=\"366.2969\"/><text fill=\"#000000\" font-family=\"sans-serif\" font-size=\"14\" font-weight=\"bold\" lengthAdjust=\"spacingAndGlyphs\" textLength=\"84\" x=\"301\" y=\"358.9951\">Data Layer</text></a><!--MD5=[af87c684e3b0d8be13c1a698a818ef1e]\n",
       "link E3 to E4--><a href=\"psysml:952f286e-4b84-47c6-949f-c687a4b4f029\" target=\"_top\" title=\"psysml:952f286e-4b84-47c6-949f-c687a4b4f029\" xlink:actuate=\"onRequest\" xlink:href=\"psysml:952f286e-4b84-47c6-949f-c687a4b4f029\" xlink:show=\"new\" xlink:title=\"psysml:952f286e-4b84-47c6-949f-c687a4b4f029\" xlink:type=\"simple\"><path d=\"M349,137.12 C349,137.12 349,205.91 349,205.91 \" fill=\"none\" id=\"E3-&gt;E4\" style=\"stroke: #383838; stroke-width: 1.0; stroke-dasharray: 7.0,7.0;\"/><polygon fill=\"#383838\" points=\"349,213.91,352,205.91,346,205.91,349,213.91\" style=\"stroke: #383838; stroke-width: 1.0;\"/><text fill=\"#000000\" font-family=\"sans-serif\" font-size=\"13\" lengthAdjust=\"spacingAndGlyphs\" textLength=\"64\" x=\"350\" y=\"180.0669\">«depend»</text></a><!--MD5=[1b7591eae5389033d8d09a9d6721a717]\n",
       "link E4 to E5--><a href=\"psysml:7352021b-a74c-4755-9a9f-544f5d5618ed\" target=\"_top\" title=\"psysml:7352021b-a74c-4755-9a9f-544f5d5618ed\" xlink:actuate=\"onRequest\" xlink:href=\"psysml:7352021b-a74c-4755-9a9f-544f5d5618ed\" xlink:show=\"new\" xlink:title=\"psysml:7352021b-a74c-4755-9a9f-544f5d5618ed\" xlink:type=\"simple\"><path d=\"M349,267.12 C349,267.12 349,335.91 349,335.91 \" fill=\"none\" id=\"E4-&gt;E5\" style=\"stroke: #383838; stroke-width: 1.0; stroke-dasharray: 7.0,7.0;\"/><polygon fill=\"#383838\" points=\"349,343.91,352,335.91,346,335.91,349,343.91\" style=\"stroke: #383838; stroke-width: 1.0;\"/><text fill=\"#000000\" font-family=\"sans-serif\" font-size=\"13\" lengthAdjust=\"spacingAndGlyphs\" textLength=\"64\" x=\"350\" y=\"310.0669\">«depend»</text></a><!--MD5=[c5e8897d989ce984f93528998a7150fe]\n",
       "link E8 to E6--><a href=\"psysml:c2ca5ac6-1591-4e08-969e-b115a3bed697\" target=\"_top\" title=\"psysml:c2ca5ac6-1591-4e08-969e-b115a3bed697\" xlink:actuate=\"onRequest\" xlink:href=\"psysml:c2ca5ac6-1591-4e08-969e-b115a3bed697\" xlink:show=\"new\" xlink:title=\"psysml:c2ca5ac6-1591-4e08-969e-b115a3bed697\" xlink:type=\"simple\"><path d=\"M94,133.74 C94,133.74 94,209.46 94,209.46 \" fill=\"none\" id=\"E8-&gt;E6\" style=\"stroke: #383838; stroke-width: 1.0; stroke-dasharray: 7.0,7.0;\"/><polygon fill=\"#383838\" points=\"94,217.46,97,209.46,91,209.46,94,217.46\" style=\"stroke: #383838; stroke-width: 1.0;\"/><text fill=\"#000000\" font-family=\"sans-serif\" font-size=\"13\" lengthAdjust=\"spacingAndGlyphs\" textLength=\"64\" x=\"68\" y=\"180.0669\">«depend»</text></a><!--MD5=[bfa3c8b0d15052fdf50ae9310b491027]\n",
       "link E8 to E7--><a href=\"psysml:c2ca5ac6-1591-4e08-969e-b115a3bed697\" target=\"_top\" title=\"psysml:c2ca5ac6-1591-4e08-969e-b115a3bed697\" xlink:actuate=\"onRequest\" xlink:href=\"psysml:c2ca5ac6-1591-4e08-969e-b115a3bed697\" xlink:show=\"new\" xlink:title=\"psysml:c2ca5ac6-1591-4e08-969e-b115a3bed697\" xlink:type=\"simple\"><path d=\"M147,133.74 C147,133.74 147,209.46 147,209.46 \" fill=\"none\" id=\"E8-&gt;E7\" style=\"stroke: #383838; stroke-width: 1.0; stroke-dasharray: 7.0,7.0;\"/><polygon fill=\"#383838\" points=\"147,217.46,150,209.46,144,209.46,147,217.46\" style=\"stroke: #383838; stroke-width: 1.0;\"/><text fill=\"#000000\" font-family=\"sans-serif\" font-size=\"13\" lengthAdjust=\"spacingAndGlyphs\" textLength=\"64\" x=\"174\" y=\"180.0669\">«depend»</text></a><!--MD5=[7f0e897298ed4e079200c9cae270c0d1]\n",
       "@startuml\r\n",
       "skinparam linetype ortho\r\n",
       "skinparam monochrome true\r\n",
       "skinparam classbackgroundcolor white\r\n",
       "skinparam shadowing false\r\n",
       "skinparam wrapWidth 300\r\n",
       "hide circle\r\n",
       "\r\n",
       "package \"DependencyTest\" as E1  [[psysml:cb8a6054-43e9-4191-a3b4-d53f2df2fcdf ]]  {\r\n",
       "package \"System\" as E2  [[psysml:b8ece1dd-151a-4631-92e5-c2dbf563fb8b ]]  {\r\n",
       "package \"Application Layer\" as E3  [[psysml:59f5b99d-24d3-4acd-853e-8f7f0b563d54 ]]  {\r\n",
       "}\r\n",
       "package \"Service Layer\" as E4  [[psysml:5cfbc3a5-c556-4af2-acf6-f60fe409e97c ]]  {\r\n",
       "}\r\n",
       "package \"Data Layer\" as E5  [[psysml:acb31344-a810-41ff-bc38-efd03bbf6ecb ]]  {\r\n",
       "}\r\n",
       "}\r\n",
       "comp usage \"x\" as E6  <<(T,blue)attribute>> [[psysml:3db867e9-a237-498d-9697-66a5ca6752eb ]] {\r\n",
       "}\r\n",
       "comp usage \"y\" as E7  <<(T,blue)attribute>> [[psysml:c548d046-cadc-4301-a44e-d185972c752b ]] {\r\n",
       "}\r\n",
       "comp usage \"z\" as E8  <<(T,blue)attribute>> [[psysml:47dc4f88-d05c-4598-a7e7-ecfe5751dc87 ]] {\r\n",
       "}\r\n",
       "E3 ..>> E4 [[psysml:952f286e-4b84-47c6-949f-c687a4b4f029 ]] : <<depend>>\r\n",
       "E4 ..>> E5 [[psysml:7352021b-a74c-4755-9a9f-544f5d5618ed ]] : <<depend>>\r\n",
       "E8 ..>> E6 [[psysml:c2ca5ac6-1591-4e08-969e-b115a3bed697 ]] : <<depend>>\r\n",
       "E8 ..>> E7 [[psysml:c2ca5ac6-1591-4e08-969e-b115a3bed697 ]] : <<depend>>\r\n",
       "}\r\n",
       "@enduml\r\n",
       "\n",
       "PlantUML version 1.2020.13(Sat Jun 13 12:26:38 UTC 2020)\n",
       "(EPL source distribution)\n",
       "Java Runtime: OpenJDK Runtime Environment\n",
       "JVM: OpenJDK 64-Bit Server VM\n",
       "Default Encoding: UTF-8\n",
       "Language: en\n",
       "Country: null\n",
       "--></g></svg>"
      ]
     },
     "execution_count": 57,
     "metadata": {},
     "output_type": "execute_result"
    }
   ],
   "source": [
    "%viz --style=\"ORTHOLINE\" --view=\"MIXED\" \"DependencyTest\""
   ]
  }
 ],
 "metadata": {
  "kernelspec": {
   "display_name": "SysML",
   "language": "sysml",
   "name": "sysml"
  },
  "language_info": {
   "codemirror_mode": "sysml",
   "file_extension": ".sysml",
   "mimetype": "text/x-sysml",
   "name": "SysML",
   "pygments_lexer": "java",
   "version": "1.0.0"
  }
 },
 "nbformat": 4,
 "nbformat_minor": 5
}
