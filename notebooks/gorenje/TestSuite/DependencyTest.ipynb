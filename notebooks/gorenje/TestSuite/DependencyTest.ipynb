{
 "cells": [
  {
   "cell_type": "markdown",
   "id": "eaf2ceba",
   "metadata": {},
   "source": [
    "# SysML v2 Test Suite\n",
    "\n",
    "This can notebook can be cleared using menu `Edit --> Clear All Outputs` and then all cells can be\n",
    "run using menu `Run --> Run All Cells`.\n",
    "\n",
    "**WARNING**: This file is generated, all modifications here will be ignored.\n"
   ]
  },
  {
   "cell_type": "markdown",
   "id": "7587d0a5",
   "metadata": {},
   "source": [
    "## File: ../../sysml/src/examples/Simple Tests/DependencyTest.sysml"
   ]
  },
  {
   "cell_type": "code",
   "execution_count": 1,
   "id": "9d98617b",
   "metadata": {
    "execution": {
     "iopub.execute_input": "2022-02-05T16:52:48.436718Z",
     "iopub.status.busy": "2022-02-05T16:52:48.435351Z",
     "iopub.status.idle": "2022-02-05T16:52:48.519389Z",
     "shell.execute_reply": "2022-02-05T16:52:48.519861Z"
    }
   },
   "outputs": [
    {
     "data": {
      "text/plain": [
       "Package DependencyTest (8ba93e2d-275b-4906-aa9a-528cc468db43)\n"
      ]
     },
     "execution_count": 1,
     "metadata": {},
     "output_type": "execute_result"
    }
   ],
   "source": [
    "package DependencyTest {\n",
    "\t\n",
    "\tpackage System {\n",
    "\t\tpackage 'Application Layer';\n",
    "\t\tpackage 'Service Layer';\n",
    "\t\tpackage 'Data Layer';\n",
    "\t}\n",
    "\t\n",
    "\timport System::*;\n",
    "\t\n",
    "\tdependency Use from 'Application Layer' to 'Service Layer';\n",
    "\tdependency from 'Service Layer' to 'Data Layer';\n",
    "\t\n",
    "\tattribute x;\n",
    "\tattribute y;\n",
    "\tattribute z;\n",
    "\t\n",
    "\tdependency z to x, y;\n",
    "\t\n",
    "}"
   ]
  },
  {
   "cell_type": "code",
   "execution_count": 2,
   "id": "4d73cf1b",
   "metadata": {
    "execution": {
     "iopub.execute_input": "2022-02-05T16:52:48.571310Z",
     "iopub.status.busy": "2022-02-05T16:52:48.570720Z",
     "iopub.status.idle": "2022-02-05T16:52:49.053087Z",
     "shell.execute_reply": "2022-02-05T16:52:49.051087Z"
    }
   },
   "outputs": [
    {
     "data": {
      "image/svg+xml": [
       "<?xml version=\"1.0\" encoding=\"UTF-8\" standalone=\"no\"?><svg xmlns=\"http://www.w3.org/2000/svg\" xmlns:xlink=\"http://www.w3.org/1999/xlink\" contentScriptType=\"application/ecmascript\" contentStyleType=\"text/css\" height=\"449px\" preserveAspectRatio=\"none\" style=\"width:469px;height:449px;\" version=\"1.1\" viewBox=\"0 0 469 449\" width=\"469px\" zoomAndPan=\"magnify\"><defs/><g><!--MD5=[fbc87193dbaf4d95561dea2c320d4a47]\n",
       "cluster E1--><a href=\"psysml:30d47011-2b84-418c-8f66-5b5fafd7ed2a\" target=\"_top\" title=\"psysml:30d47011-2b84-418c-8f66-5b5fafd7ed2a\" xlink:actuate=\"onRequest\" xlink:href=\"psysml:30d47011-2b84-418c-8f66-5b5fafd7ed2a\" xlink:show=\"new\" xlink:title=\"psysml:30d47011-2b84-418c-8f66-5b5fafd7ed2a\" xlink:type=\"simple\"><polygon fill=\"#FFFFFF\" points=\"16,6,142,6,149,28.2969,447,28.2969,447,437,16,437,16,6\" style=\"stroke: #000000; stroke-width: 1.5;\"/><line style=\"stroke: #000000; stroke-width: 1.5;\" x1=\"16\" x2=\"149\" y1=\"28.2969\" y2=\"28.2969\"/><text fill=\"#000000\" font-family=\"sans-serif\" font-size=\"14\" font-weight=\"bold\" lengthAdjust=\"spacingAndGlyphs\" textLength=\"120\" x=\"20\" y=\"20.9951\">DependencyTest</text></a><!--MD5=[e4f7fae6ed58524ba242bb0b0d3be6b7]\n",
       "cluster E2--><a href=\"psysml:5fbdfa4d-cafa-4f51-92a0-0bd6c2ea6fbb\" target=\"_top\" title=\"psysml:5fbdfa4d-cafa-4f51-92a0-0bd6c2ea6fbb\" xlink:actuate=\"onRequest\" xlink:href=\"psysml:5fbdfa4d-cafa-4f51-92a0-0bd6c2ea6fbb\" xlink:show=\"new\" xlink:title=\"psysml:5fbdfa4d-cafa-4f51-92a0-0bd6c2ea6fbb\" xlink:type=\"simple\"><polygon fill=\"#FFFFFF\" points=\"255,49,312,49,319,71.2969,423,71.2969,423,413,255,413,255,49\" style=\"stroke: #000000; stroke-width: 1.5;\"/><line style=\"stroke: #000000; stroke-width: 1.5;\" x1=\"255\" x2=\"319\" y1=\"71.2969\" y2=\"71.2969\"/><text fill=\"#000000\" font-family=\"sans-serif\" font-size=\"14\" font-weight=\"bold\" lengthAdjust=\"spacingAndGlyphs\" textLength=\"51\" x=\"259\" y=\"63.9951\">System</text></a><!--MD5=[60a26617385b1d2d0262a64233df1f8d]\n",
       "class E6--><a href=\"psysml:3d7e11a6-324b-4ff0-8a6c-08a58aad852d\" target=\"_top\" title=\"psysml:3d7e11a6-324b-4ff0-8a6c-08a58aad852d\" xlink:actuate=\"onRequest\" xlink:href=\"psysml:3d7e11a6-324b-4ff0-8a6c-08a58aad852d\" xlink:show=\"new\" xlink:title=\"psysml:3d7e11a6-324b-4ff0-8a6c-08a58aad852d\" xlink:type=\"simple\"><rect fill=\"#FFFFFF\" height=\"45.9375\" id=\"E6\" rx=\"10\" ry=\"10\" style=\"stroke: #383838; stroke-width: 1.5;\" width=\"71\" x=\"32.5\" y=\"217.5\"/><text fill=\"#000000\" font-family=\"sans-serif\" font-size=\"12\" font-style=\"italic\" lengthAdjust=\"spacingAndGlyphs\" textLength=\"69\" x=\"33.5\" y=\"233.6387\">«attribute»</text><text fill=\"#000000\" font-family=\"sans-serif\" font-size=\"12\" lengthAdjust=\"spacingAndGlyphs\" textLength=\"6\" x=\"63\" y=\"247.6074\">x</text><line style=\"stroke: #383838; stroke-width: 1.5;\" x1=\"33.5\" x2=\"102.5\" y1=\"255.4375\" y2=\"255.4375\"/></a><!--MD5=[2156ba9850f5573cc1fc38a6a4b2f02b]\n",
       "class E7--><a href=\"psysml:07b9e1bd-21f7-4218-b4f9-b36b2d1ccf74\" target=\"_top\" title=\"psysml:07b9e1bd-21f7-4218-b4f9-b36b2d1ccf74\" xlink:actuate=\"onRequest\" xlink:href=\"psysml:07b9e1bd-21f7-4218-b4f9-b36b2d1ccf74\" xlink:show=\"new\" xlink:title=\"psysml:07b9e1bd-21f7-4218-b4f9-b36b2d1ccf74\" xlink:type=\"simple\"><rect fill=\"#FFFFFF\" height=\"45.9375\" id=\"E7\" rx=\"10\" ry=\"10\" style=\"stroke: #383838; stroke-width: 1.5;\" width=\"71\" x=\"138.5\" y=\"217.5\"/><text fill=\"#000000\" font-family=\"sans-serif\" font-size=\"12\" font-style=\"italic\" lengthAdjust=\"spacingAndGlyphs\" textLength=\"69\" x=\"139.5\" y=\"233.6387\">«attribute»</text><text fill=\"#000000\" font-family=\"sans-serif\" font-size=\"12\" lengthAdjust=\"spacingAndGlyphs\" textLength=\"6\" x=\"169\" y=\"247.6074\">y</text><line style=\"stroke: #383838; stroke-width: 1.5;\" x1=\"139.5\" x2=\"208.5\" y1=\"255.4375\" y2=\"255.4375\"/></a><!--MD5=[b9389687b975829384b498ac4b7476b2]\n",
       "class E8--><a href=\"psysml:44529a0f-a1ad-4493-b824-b4a46bdd708e\" target=\"_top\" title=\"psysml:44529a0f-a1ad-4493-b824-b4a46bdd708e\" xlink:actuate=\"onRequest\" xlink:href=\"psysml:44529a0f-a1ad-4493-b824-b4a46bdd708e\" xlink:show=\"new\" xlink:title=\"psysml:44529a0f-a1ad-4493-b824-b4a46bdd708e\" xlink:type=\"simple\"><rect fill=\"#FFFFFF\" height=\"45.9375\" id=\"E8\" rx=\"10\" ry=\"10\" style=\"stroke: #383838; stroke-width: 1.5;\" width=\"71\" x=\"84.5\" y=\"87.5\"/><text fill=\"#000000\" font-family=\"sans-serif\" font-size=\"12\" font-style=\"italic\" lengthAdjust=\"spacingAndGlyphs\" textLength=\"69\" x=\"85.5\" y=\"103.6387\">«attribute»</text><text fill=\"#000000\" font-family=\"sans-serif\" font-size=\"12\" lengthAdjust=\"spacingAndGlyphs\" textLength=\"5\" x=\"115.5\" y=\"117.6074\">z</text><line style=\"stroke: #383838; stroke-width: 1.5;\" x1=\"85.5\" x2=\"154.5\" y1=\"125.4375\" y2=\"125.4375\"/></a><a href=\"psysml:511969d3-37b8-4975-ad7d-d9be97a14b44\" target=\"_top\" title=\"psysml:511969d3-37b8-4975-ad7d-d9be97a14b44\" xlink:actuate=\"onRequest\" xlink:href=\"psysml:511969d3-37b8-4975-ad7d-d9be97a14b44\" xlink:show=\"new\" xlink:title=\"psysml:511969d3-37b8-4975-ad7d-d9be97a14b44\" xlink:type=\"simple\"><polygon fill=\"#FFFFFF\" points=\"271.5,84,392.5,84,399.5,106.2969,406.5,106.2969,406.5,136.5938,271.5,136.5938,271.5,84\" style=\"stroke: #000000; stroke-width: 1.5;\"/><line style=\"stroke: #000000; stroke-width: 1.5;\" x1=\"271.5\" x2=\"399.5\" y1=\"106.2969\" y2=\"106.2969\"/><text fill=\"#000000\" font-family=\"sans-serif\" font-size=\"14\" font-weight=\"bold\" lengthAdjust=\"spacingAndGlyphs\" textLength=\"115\" x=\"275.5\" y=\"98.9951\">Application Layer</text></a><a href=\"psysml:3811cf97-7daf-4e30-b445-d9788e80eae2\" target=\"_top\" title=\"psysml:3811cf97-7daf-4e30-b445-d9788e80eae2\" xlink:actuate=\"onRequest\" xlink:href=\"psysml:3811cf97-7daf-4e30-b445-d9788e80eae2\" xlink:show=\"new\" xlink:title=\"psysml:3811cf97-7daf-4e30-b445-d9788e80eae2\" xlink:type=\"simple\"><polygon fill=\"#FFFFFF\" points=\"284,214,380,214,387,236.2969,394,236.2969,394,266.5938,284,266.5938,284,214\" style=\"stroke: #000000; stroke-width: 1.5;\"/><line style=\"stroke: #000000; stroke-width: 1.5;\" x1=\"284\" x2=\"387\" y1=\"236.2969\" y2=\"236.2969\"/><text fill=\"#000000\" font-family=\"sans-serif\" font-size=\"14\" font-weight=\"bold\" lengthAdjust=\"spacingAndGlyphs\" textLength=\"90\" x=\"288\" y=\"228.9951\">Service Layer</text></a><a href=\"psysml:2c8fb347-f198-4aa6-806c-1c573edf927e\" target=\"_top\" title=\"psysml:2c8fb347-f198-4aa6-806c-1c573edf927e\" xlink:actuate=\"onRequest\" xlink:href=\"psysml:2c8fb347-f198-4aa6-806c-1c573edf927e\" xlink:show=\"new\" xlink:title=\"psysml:2c8fb347-f198-4aa6-806c-1c573edf927e\" xlink:type=\"simple\"><polygon fill=\"#FFFFFF\" points=\"293,344,371,344,378,366.2969,385,366.2969,385,396.5938,293,396.5938,293,344\" style=\"stroke: #000000; stroke-width: 1.5;\"/><line style=\"stroke: #000000; stroke-width: 1.5;\" x1=\"293\" x2=\"378\" y1=\"366.2969\" y2=\"366.2969\"/><text fill=\"#000000\" font-family=\"sans-serif\" font-size=\"14\" font-weight=\"bold\" lengthAdjust=\"spacingAndGlyphs\" textLength=\"72\" x=\"297\" y=\"358.9951\">Data Layer</text></a><!--MD5=[af87c684e3b0d8be13c1a698a818ef1e]\n",
       "link E3 to E4--><a href=\"psysml:973be101-d69f-4acb-a430-79bda88f318e\" target=\"_top\" title=\"psysml:973be101-d69f-4acb-a430-79bda88f318e\" xlink:actuate=\"onRequest\" xlink:href=\"psysml:973be101-d69f-4acb-a430-79bda88f318e\" xlink:show=\"new\" xlink:title=\"psysml:973be101-d69f-4acb-a430-79bda88f318e\" xlink:type=\"simple\"><path d=\"M339,137.1 C339,156.8 339,184.22 339,205.73 \" fill=\"none\" id=\"E3-&gt;E4\" style=\"stroke: #383838; stroke-width: 1.0; stroke-dasharray: 7.0,7.0;\"/><polygon fill=\"#383838\" points=\"339,213.95,342,205.95,336,205.95,339,213.95\" style=\"stroke: #383838; stroke-width: 1.0;\"/><text fill=\"#000000\" font-family=\"sans-serif\" font-size=\"13\" lengthAdjust=\"spacingAndGlyphs\" textLength=\"64\" x=\"340\" y=\"180.0669\">«depend»</text></a><!--MD5=[1b7591eae5389033d8d09a9d6721a717]\n",
       "link E4 to E5--><a href=\"psysml:418c7eed-60a4-47b0-a927-ef037a202312\" target=\"_top\" title=\"psysml:418c7eed-60a4-47b0-a927-ef037a202312\" xlink:actuate=\"onRequest\" xlink:href=\"psysml:418c7eed-60a4-47b0-a927-ef037a202312\" xlink:show=\"new\" xlink:title=\"psysml:418c7eed-60a4-47b0-a927-ef037a202312\" xlink:type=\"simple\"><path d=\"M339,267.1 C339,286.8 339,314.22 339,335.73 \" fill=\"none\" id=\"E4-&gt;E5\" style=\"stroke: #383838; stroke-width: 1.0; stroke-dasharray: 7.0,7.0;\"/><polygon fill=\"#383838\" points=\"339,343.95,342,335.95,336,335.95,339,343.95\" style=\"stroke: #383838; stroke-width: 1.0;\"/><text fill=\"#000000\" font-family=\"sans-serif\" font-size=\"13\" lengthAdjust=\"spacingAndGlyphs\" textLength=\"64\" x=\"340\" y=\"310.0669\">«depend»</text></a><!--MD5=[c5e8897d989ce984f93528998a7150fe]\n",
       "link E8 to E6--><a href=\"psysml:27e0873a-b752-4942-bd7f-ca0670289346\" target=\"_top\" title=\"psysml:27e0873a-b752-4942-bd7f-ca0670289346\" xlink:actuate=\"onRequest\" xlink:href=\"psysml:27e0873a-b752-4942-bd7f-ca0670289346\" xlink:show=\"new\" xlink:title=\"psysml:27e0873a-b752-4942-bd7f-ca0670289346\" xlink:type=\"simple\"><path d=\"M89.42,133.6 C79.35,142.68 69.37,154.11 64,167 C58.5,180.2 58.66,195.94 60.54,209.38 \" fill=\"none\" id=\"E8-&gt;E6\" style=\"stroke: #383838; stroke-width: 1.0; stroke-dasharray: 7.0,7.0;\"/><polygon fill=\"#383838\" points=\"61.9,217.4,63.517,209.0104,57.6018,210.0159,61.9,217.4\" style=\"stroke: #383838; stroke-width: 1.0;\"/><text fill=\"#000000\" font-family=\"sans-serif\" font-size=\"13\" lengthAdjust=\"spacingAndGlyphs\" textLength=\"64\" x=\"65\" y=\"180.0669\">«depend»</text></a><!--MD5=[bfa3c8b0d15052fdf50ae9310b491027]\n",
       "link E8 to E7--><a href=\"psysml:27e0873a-b752-4942-bd7f-ca0670289346\" target=\"_top\" title=\"psysml:27e0873a-b752-4942-bd7f-ca0670289346\" xlink:actuate=\"onRequest\" xlink:href=\"psysml:27e0873a-b752-4942-bd7f-ca0670289346\" xlink:show=\"new\" xlink:title=\"psysml:27e0873a-b752-4942-bd7f-ca0670289346\" xlink:type=\"simple\"><path d=\"M129.28,133.5 C138.17,154.57 151.64,186.5 161.47,209.81 \" fill=\"none\" id=\"E8-&gt;E7\" style=\"stroke: #383838; stroke-width: 1.0; stroke-dasharray: 7.0,7.0;\"/><polygon fill=\"#383838\" points=\"164.66,217.35,164.3241,208.8126,158.7933,211.1385,164.66,217.35\" style=\"stroke: #383838; stroke-width: 1.0;\"/><text fill=\"#000000\" font-family=\"sans-serif\" font-size=\"13\" lengthAdjust=\"spacingAndGlyphs\" textLength=\"64\" x=\"151\" y=\"180.0669\">«depend»</text></a><!--MD5=[087eaf5e32021b7b52cf1d57223ff2d6]\n",
       "@startuml\r\n",
       " skinparam monochrome true\r\n",
       "skinparam classbackgroundcolor white\r\n",
       "skinparam shadowing false\r\n",
       "skinparam wrapWidth 300\r\n",
       "hide circle\r\n",
       "\r\n",
       "package \"DependencyTest\" as E1  [[psysml:30d47011-2b84-418c-8f66-5b5fafd7ed2a ]]  {\r\n",
       "package \"System\" as E2  [[psysml:5fbdfa4d-cafa-4f51-92a0-0bd6c2ea6fbb ]]  {\r\n",
       "package \"Application Layer\" as E3  [[psysml:511969d3-37b8-4975-ad7d-d9be97a14b44 ]]  {\r\n",
       "}\r\n",
       "package \"Service Layer\" as E4  [[psysml:3811cf97-7daf-4e30-b445-d9788e80eae2 ]]  {\r\n",
       "}\r\n",
       "package \"Data Layer\" as E5  [[psysml:2c8fb347-f198-4aa6-806c-1c573edf927e ]]  {\r\n",
       "}\r\n",
       "}\r\n",
       "comp usage \"x \" as E6  <<(T,blue) attribute>> [[psysml:3d7e11a6-324b-4ff0-8a6c-08a58aad852d ]] {\r\n",
       "}\r\n",
       "comp usage \"y \" as E7  <<(T,blue) attribute>> [[psysml:07b9e1bd-21f7-4218-b4f9-b36b2d1ccf74 ]] {\r\n",
       "}\r\n",
       "comp usage \"z \" as E8  <<(T,blue) attribute>> [[psysml:44529a0f-a1ad-4493-b824-b4a46bdd708e ]] {\r\n",
       "}\r\n",
       "}\r\n",
       "E3 ..>> E4 [[psysml:973be101-d69f-4acb-a430-79bda88f318e ]] : <<depend>>\r\n",
       "E4 ..>> E5 [[psysml:418c7eed-60a4-47b0-a927-ef037a202312 ]] : <<depend>>\r\n",
       "E8 ..>> E6 [[psysml:27e0873a-b752-4942-bd7f-ca0670289346 ]] : <<depend>>\r\n",
       "E8 ..>> E7 [[psysml:27e0873a-b752-4942-bd7f-ca0670289346 ]] : <<depend>>\r\n",
       "@enduml\r\n",
       "\n",
       "PlantUML version 1.2020.13(Sat Jun 13 12:26:38 UTC 2020)\n",
       "(EPL source distribution)\n",
       "Java Runtime: OpenJDK Runtime Environment\n",
       "JVM: OpenJDK 64-Bit Server VM\n",
       "Default Encoding: UTF-8\n",
       "Language: en\n",
       "Country: null\n",
       "--></g></svg>"
      ]
     },
     "execution_count": 2,
     "metadata": {},
     "output_type": "execute_result"
    }
   ],
   "source": [
    "%viz --style=\"COMPTREE\" --view=\"Default\" \"DependencyTest\""
   ]
  },
  {
   "cell_type": "code",
   "execution_count": 3,
   "id": "395bb74e",
   "metadata": {
    "execution": {
     "iopub.execute_input": "2022-02-05T16:52:49.101701Z",
     "iopub.status.busy": "2022-02-05T16:52:49.101451Z",
     "iopub.status.idle": "2022-02-05T16:52:49.161144Z",
     "shell.execute_reply": "2022-02-05T16:52:49.159678Z"
    }
   },
   "outputs": [
    {
     "data": {
      "image/svg+xml": [
       "<?xml version=\"1.0\" encoding=\"UTF-8\" standalone=\"no\"?><svg xmlns=\"http://www.w3.org/2000/svg\" xmlns:xlink=\"http://www.w3.org/1999/xlink\" contentScriptType=\"application/ecmascript\" contentStyleType=\"text/css\" height=\"449px\" preserveAspectRatio=\"none\" style=\"width:469px;height:449px;\" version=\"1.1\" viewBox=\"0 0 469 449\" width=\"469px\" zoomAndPan=\"magnify\"><defs/><g><!--MD5=[fbc87193dbaf4d95561dea2c320d4a47]\n",
       "cluster E1--><a href=\"psysml:30d47011-2b84-418c-8f66-5b5fafd7ed2a\" target=\"_top\" title=\"psysml:30d47011-2b84-418c-8f66-5b5fafd7ed2a\" xlink:actuate=\"onRequest\" xlink:href=\"psysml:30d47011-2b84-418c-8f66-5b5fafd7ed2a\" xlink:show=\"new\" xlink:title=\"psysml:30d47011-2b84-418c-8f66-5b5fafd7ed2a\" xlink:type=\"simple\"><polygon fill=\"#FFFFFF\" points=\"16,6,142,6,149,28.2969,447,28.2969,447,437,16,437,16,6\" style=\"stroke: #000000; stroke-width: 1.5;\"/><line style=\"stroke: #000000; stroke-width: 1.5;\" x1=\"16\" x2=\"149\" y1=\"28.2969\" y2=\"28.2969\"/><text fill=\"#000000\" font-family=\"sans-serif\" font-size=\"14\" font-weight=\"bold\" lengthAdjust=\"spacingAndGlyphs\" textLength=\"120\" x=\"20\" y=\"20.9951\">DependencyTest</text></a><!--MD5=[e4f7fae6ed58524ba242bb0b0d3be6b7]\n",
       "cluster E2--><a href=\"psysml:5fbdfa4d-cafa-4f51-92a0-0bd6c2ea6fbb\" target=\"_top\" title=\"psysml:5fbdfa4d-cafa-4f51-92a0-0bd6c2ea6fbb\" xlink:actuate=\"onRequest\" xlink:href=\"psysml:5fbdfa4d-cafa-4f51-92a0-0bd6c2ea6fbb\" xlink:show=\"new\" xlink:title=\"psysml:5fbdfa4d-cafa-4f51-92a0-0bd6c2ea6fbb\" xlink:type=\"simple\"><polygon fill=\"#FFFFFF\" points=\"255,49,312,49,319,71.2969,423,71.2969,423,413,255,413,255,49\" style=\"stroke: #000000; stroke-width: 1.5;\"/><line style=\"stroke: #000000; stroke-width: 1.5;\" x1=\"255\" x2=\"319\" y1=\"71.2969\" y2=\"71.2969\"/><text fill=\"#000000\" font-family=\"sans-serif\" font-size=\"14\" font-weight=\"bold\" lengthAdjust=\"spacingAndGlyphs\" textLength=\"51\" x=\"259\" y=\"63.9951\">System</text></a><!--MD5=[60a26617385b1d2d0262a64233df1f8d]\n",
       "class E6--><a href=\"psysml:3d7e11a6-324b-4ff0-8a6c-08a58aad852d\" target=\"_top\" title=\"psysml:3d7e11a6-324b-4ff0-8a6c-08a58aad852d\" xlink:actuate=\"onRequest\" xlink:href=\"psysml:3d7e11a6-324b-4ff0-8a6c-08a58aad852d\" xlink:show=\"new\" xlink:title=\"psysml:3d7e11a6-324b-4ff0-8a6c-08a58aad852d\" xlink:type=\"simple\"><rect fill=\"#FFFFFF\" height=\"45.9375\" id=\"E6\" rx=\"10\" ry=\"10\" style=\"stroke: #383838; stroke-width: 1.5;\" width=\"71\" x=\"32.5\" y=\"217.5\"/><text fill=\"#000000\" font-family=\"sans-serif\" font-size=\"12\" font-style=\"italic\" lengthAdjust=\"spacingAndGlyphs\" textLength=\"69\" x=\"33.5\" y=\"233.6387\">«attribute»</text><text fill=\"#000000\" font-family=\"sans-serif\" font-size=\"12\" lengthAdjust=\"spacingAndGlyphs\" textLength=\"6\" x=\"63\" y=\"247.6074\">x</text><line style=\"stroke: #383838; stroke-width: 1.5;\" x1=\"33.5\" x2=\"102.5\" y1=\"255.4375\" y2=\"255.4375\"/></a><!--MD5=[2156ba9850f5573cc1fc38a6a4b2f02b]\n",
       "class E7--><a href=\"psysml:07b9e1bd-21f7-4218-b4f9-b36b2d1ccf74\" target=\"_top\" title=\"psysml:07b9e1bd-21f7-4218-b4f9-b36b2d1ccf74\" xlink:actuate=\"onRequest\" xlink:href=\"psysml:07b9e1bd-21f7-4218-b4f9-b36b2d1ccf74\" xlink:show=\"new\" xlink:title=\"psysml:07b9e1bd-21f7-4218-b4f9-b36b2d1ccf74\" xlink:type=\"simple\"><rect fill=\"#FFFFFF\" height=\"45.9375\" id=\"E7\" rx=\"10\" ry=\"10\" style=\"stroke: #383838; stroke-width: 1.5;\" width=\"71\" x=\"138.5\" y=\"217.5\"/><text fill=\"#000000\" font-family=\"sans-serif\" font-size=\"12\" font-style=\"italic\" lengthAdjust=\"spacingAndGlyphs\" textLength=\"69\" x=\"139.5\" y=\"233.6387\">«attribute»</text><text fill=\"#000000\" font-family=\"sans-serif\" font-size=\"12\" lengthAdjust=\"spacingAndGlyphs\" textLength=\"6\" x=\"169\" y=\"247.6074\">y</text><line style=\"stroke: #383838; stroke-width: 1.5;\" x1=\"139.5\" x2=\"208.5\" y1=\"255.4375\" y2=\"255.4375\"/></a><!--MD5=[b9389687b975829384b498ac4b7476b2]\n",
       "class E8--><a href=\"psysml:44529a0f-a1ad-4493-b824-b4a46bdd708e\" target=\"_top\" title=\"psysml:44529a0f-a1ad-4493-b824-b4a46bdd708e\" xlink:actuate=\"onRequest\" xlink:href=\"psysml:44529a0f-a1ad-4493-b824-b4a46bdd708e\" xlink:show=\"new\" xlink:title=\"psysml:44529a0f-a1ad-4493-b824-b4a46bdd708e\" xlink:type=\"simple\"><rect fill=\"#FFFFFF\" height=\"45.9375\" id=\"E8\" rx=\"10\" ry=\"10\" style=\"stroke: #383838; stroke-width: 1.5;\" width=\"71\" x=\"84.5\" y=\"87.5\"/><text fill=\"#000000\" font-family=\"sans-serif\" font-size=\"12\" font-style=\"italic\" lengthAdjust=\"spacingAndGlyphs\" textLength=\"69\" x=\"85.5\" y=\"103.6387\">«attribute»</text><text fill=\"#000000\" font-family=\"sans-serif\" font-size=\"12\" lengthAdjust=\"spacingAndGlyphs\" textLength=\"5\" x=\"115.5\" y=\"117.6074\">z</text><line style=\"stroke: #383838; stroke-width: 1.5;\" x1=\"85.5\" x2=\"154.5\" y1=\"125.4375\" y2=\"125.4375\"/></a><a href=\"psysml:511969d3-37b8-4975-ad7d-d9be97a14b44\" target=\"_top\" title=\"psysml:511969d3-37b8-4975-ad7d-d9be97a14b44\" xlink:actuate=\"onRequest\" xlink:href=\"psysml:511969d3-37b8-4975-ad7d-d9be97a14b44\" xlink:show=\"new\" xlink:title=\"psysml:511969d3-37b8-4975-ad7d-d9be97a14b44\" xlink:type=\"simple\"><polygon fill=\"#FFFFFF\" points=\"271.5,84,392.5,84,399.5,106.2969,406.5,106.2969,406.5,136.5938,271.5,136.5938,271.5,84\" style=\"stroke: #000000; stroke-width: 1.5;\"/><line style=\"stroke: #000000; stroke-width: 1.5;\" x1=\"271.5\" x2=\"399.5\" y1=\"106.2969\" y2=\"106.2969\"/><text fill=\"#000000\" font-family=\"sans-serif\" font-size=\"14\" font-weight=\"bold\" lengthAdjust=\"spacingAndGlyphs\" textLength=\"115\" x=\"275.5\" y=\"98.9951\">Application Layer</text></a><a href=\"psysml:3811cf97-7daf-4e30-b445-d9788e80eae2\" target=\"_top\" title=\"psysml:3811cf97-7daf-4e30-b445-d9788e80eae2\" xlink:actuate=\"onRequest\" xlink:href=\"psysml:3811cf97-7daf-4e30-b445-d9788e80eae2\" xlink:show=\"new\" xlink:title=\"psysml:3811cf97-7daf-4e30-b445-d9788e80eae2\" xlink:type=\"simple\"><polygon fill=\"#FFFFFF\" points=\"284,214,380,214,387,236.2969,394,236.2969,394,266.5938,284,266.5938,284,214\" style=\"stroke: #000000; stroke-width: 1.5;\"/><line style=\"stroke: #000000; stroke-width: 1.5;\" x1=\"284\" x2=\"387\" y1=\"236.2969\" y2=\"236.2969\"/><text fill=\"#000000\" font-family=\"sans-serif\" font-size=\"14\" font-weight=\"bold\" lengthAdjust=\"spacingAndGlyphs\" textLength=\"90\" x=\"288\" y=\"228.9951\">Service Layer</text></a><a href=\"psysml:2c8fb347-f198-4aa6-806c-1c573edf927e\" target=\"_top\" title=\"psysml:2c8fb347-f198-4aa6-806c-1c573edf927e\" xlink:actuate=\"onRequest\" xlink:href=\"psysml:2c8fb347-f198-4aa6-806c-1c573edf927e\" xlink:show=\"new\" xlink:title=\"psysml:2c8fb347-f198-4aa6-806c-1c573edf927e\" xlink:type=\"simple\"><polygon fill=\"#FFFFFF\" points=\"293,344,371,344,378,366.2969,385,366.2969,385,396.5938,293,396.5938,293,344\" style=\"stroke: #000000; stroke-width: 1.5;\"/><line style=\"stroke: #000000; stroke-width: 1.5;\" x1=\"293\" x2=\"378\" y1=\"366.2969\" y2=\"366.2969\"/><text fill=\"#000000\" font-family=\"sans-serif\" font-size=\"14\" font-weight=\"bold\" lengthAdjust=\"spacingAndGlyphs\" textLength=\"72\" x=\"297\" y=\"358.9951\">Data Layer</text></a><!--MD5=[af87c684e3b0d8be13c1a698a818ef1e]\n",
       "link E3 to E4--><a href=\"psysml:973be101-d69f-4acb-a430-79bda88f318e\" target=\"_top\" title=\"psysml:973be101-d69f-4acb-a430-79bda88f318e\" xlink:actuate=\"onRequest\" xlink:href=\"psysml:973be101-d69f-4acb-a430-79bda88f318e\" xlink:show=\"new\" xlink:title=\"psysml:973be101-d69f-4acb-a430-79bda88f318e\" xlink:type=\"simple\"><path d=\"M339,137.1 C339,156.8 339,184.22 339,205.73 \" fill=\"none\" id=\"E3-&gt;E4\" style=\"stroke: #383838; stroke-width: 1.0; stroke-dasharray: 7.0,7.0;\"/><polygon fill=\"#383838\" points=\"339,213.95,342,205.95,336,205.95,339,213.95\" style=\"stroke: #383838; stroke-width: 1.0;\"/><text fill=\"#000000\" font-family=\"sans-serif\" font-size=\"13\" lengthAdjust=\"spacingAndGlyphs\" textLength=\"64\" x=\"340\" y=\"180.0669\">«depend»</text></a><!--MD5=[1b7591eae5389033d8d09a9d6721a717]\n",
       "link E4 to E5--><a href=\"psysml:418c7eed-60a4-47b0-a927-ef037a202312\" target=\"_top\" title=\"psysml:418c7eed-60a4-47b0-a927-ef037a202312\" xlink:actuate=\"onRequest\" xlink:href=\"psysml:418c7eed-60a4-47b0-a927-ef037a202312\" xlink:show=\"new\" xlink:title=\"psysml:418c7eed-60a4-47b0-a927-ef037a202312\" xlink:type=\"simple\"><path d=\"M339,267.1 C339,286.8 339,314.22 339,335.73 \" fill=\"none\" id=\"E4-&gt;E5\" style=\"stroke: #383838; stroke-width: 1.0; stroke-dasharray: 7.0,7.0;\"/><polygon fill=\"#383838\" points=\"339,343.95,342,335.95,336,335.95,339,343.95\" style=\"stroke: #383838; stroke-width: 1.0;\"/><text fill=\"#000000\" font-family=\"sans-serif\" font-size=\"13\" lengthAdjust=\"spacingAndGlyphs\" textLength=\"64\" x=\"340\" y=\"310.0669\">«depend»</text></a><!--MD5=[c5e8897d989ce984f93528998a7150fe]\n",
       "link E8 to E6--><a href=\"psysml:27e0873a-b752-4942-bd7f-ca0670289346\" target=\"_top\" title=\"psysml:27e0873a-b752-4942-bd7f-ca0670289346\" xlink:actuate=\"onRequest\" xlink:href=\"psysml:27e0873a-b752-4942-bd7f-ca0670289346\" xlink:show=\"new\" xlink:title=\"psysml:27e0873a-b752-4942-bd7f-ca0670289346\" xlink:type=\"simple\"><path d=\"M89.42,133.6 C79.35,142.68 69.37,154.11 64,167 C58.5,180.2 58.66,195.94 60.54,209.38 \" fill=\"none\" id=\"E8-&gt;E6\" style=\"stroke: #383838; stroke-width: 1.0; stroke-dasharray: 7.0,7.0;\"/><polygon fill=\"#383838\" points=\"61.9,217.4,63.517,209.0104,57.6018,210.0159,61.9,217.4\" style=\"stroke: #383838; stroke-width: 1.0;\"/><text fill=\"#000000\" font-family=\"sans-serif\" font-size=\"13\" lengthAdjust=\"spacingAndGlyphs\" textLength=\"64\" x=\"65\" y=\"180.0669\">«depend»</text></a><!--MD5=[bfa3c8b0d15052fdf50ae9310b491027]\n",
       "link E8 to E7--><a href=\"psysml:27e0873a-b752-4942-bd7f-ca0670289346\" target=\"_top\" title=\"psysml:27e0873a-b752-4942-bd7f-ca0670289346\" xlink:actuate=\"onRequest\" xlink:href=\"psysml:27e0873a-b752-4942-bd7f-ca0670289346\" xlink:show=\"new\" xlink:title=\"psysml:27e0873a-b752-4942-bd7f-ca0670289346\" xlink:type=\"simple\"><path d=\"M129.28,133.5 C138.17,154.57 151.64,186.5 161.47,209.81 \" fill=\"none\" id=\"E8-&gt;E7\" style=\"stroke: #383838; stroke-width: 1.0; stroke-dasharray: 7.0,7.0;\"/><polygon fill=\"#383838\" points=\"164.66,217.35,164.3241,208.8126,158.7933,211.1385,164.66,217.35\" style=\"stroke: #383838; stroke-width: 1.0;\"/><text fill=\"#000000\" font-family=\"sans-serif\" font-size=\"13\" lengthAdjust=\"spacingAndGlyphs\" textLength=\"64\" x=\"151\" y=\"180.0669\">«depend»</text></a><!--MD5=[087eaf5e32021b7b52cf1d57223ff2d6]\n",
       "@startuml\r\n",
       " skinparam monochrome true\r\n",
       "skinparam classbackgroundcolor white\r\n",
       "skinparam shadowing false\r\n",
       "skinparam wrapWidth 300\r\n",
       "hide circle\r\n",
       "\r\n",
       "package \"DependencyTest\" as E1  [[psysml:30d47011-2b84-418c-8f66-5b5fafd7ed2a ]]  {\r\n",
       "package \"System\" as E2  [[psysml:5fbdfa4d-cafa-4f51-92a0-0bd6c2ea6fbb ]]  {\r\n",
       "package \"Application Layer\" as E3  [[psysml:511969d3-37b8-4975-ad7d-d9be97a14b44 ]]  {\r\n",
       "}\r\n",
       "package \"Service Layer\" as E4  [[psysml:3811cf97-7daf-4e30-b445-d9788e80eae2 ]]  {\r\n",
       "}\r\n",
       "package \"Data Layer\" as E5  [[psysml:2c8fb347-f198-4aa6-806c-1c573edf927e ]]  {\r\n",
       "}\r\n",
       "}\r\n",
       "comp usage \"x \" as E6  <<(T,blue) attribute>> [[psysml:3d7e11a6-324b-4ff0-8a6c-08a58aad852d ]] {\r\n",
       "}\r\n",
       "comp usage \"y \" as E7  <<(T,blue) attribute>> [[psysml:07b9e1bd-21f7-4218-b4f9-b36b2d1ccf74 ]] {\r\n",
       "}\r\n",
       "comp usage \"z \" as E8  <<(T,blue) attribute>> [[psysml:44529a0f-a1ad-4493-b824-b4a46bdd708e ]] {\r\n",
       "}\r\n",
       "}\r\n",
       "E3 ..>> E4 [[psysml:973be101-d69f-4acb-a430-79bda88f318e ]] : <<depend>>\r\n",
       "E4 ..>> E5 [[psysml:418c7eed-60a4-47b0-a927-ef037a202312 ]] : <<depend>>\r\n",
       "E8 ..>> E6 [[psysml:27e0873a-b752-4942-bd7f-ca0670289346 ]] : <<depend>>\r\n",
       "E8 ..>> E7 [[psysml:27e0873a-b752-4942-bd7f-ca0670289346 ]] : <<depend>>\r\n",
       "@enduml\r\n",
       "\n",
       "PlantUML version 1.2020.13(Sat Jun 13 12:26:38 UTC 2020)\n",
       "(EPL source distribution)\n",
       "Java Runtime: OpenJDK Runtime Environment\n",
       "JVM: OpenJDK 64-Bit Server VM\n",
       "Default Encoding: UTF-8\n",
       "Language: en\n",
       "Country: null\n",
       "--></g></svg>"
      ]
     },
     "execution_count": 3,
     "metadata": {},
     "output_type": "execute_result"
    }
   ],
   "source": [
    "%viz --style=\"COMPTREE\" --view=\"Tree\" \"DependencyTest\""
   ]
  },
  {
   "cell_type": "code",
   "execution_count": 4,
   "id": "0e743607",
   "metadata": {
    "execution": {
     "iopub.execute_input": "2022-02-05T16:52:49.211025Z",
     "iopub.status.busy": "2022-02-05T16:52:49.210397Z",
     "iopub.status.idle": "2022-02-05T16:52:49.216703Z",
     "shell.execute_reply": "2022-02-05T16:52:49.217031Z"
    }
   },
   "outputs": [
    {
     "data": {
      "image/svg+xml": [
       "<?xml version=\"1.0\" encoding=\"UTF-8\" standalone=\"no\"?><svg xmlns=\"http://www.w3.org/2000/svg\" xmlns:xlink=\"http://www.w3.org/1999/xlink\" contentScriptType=\"application/ecmascript\" contentStyleType=\"text/css\" height=\"12px\" preserveAspectRatio=\"none\" style=\"width:12px;height:12px;\" version=\"1.1\" viewBox=\"0 0 12 12\" width=\"12px\" zoomAndPan=\"magnify\"><defs/><g><!--MD5=[f19188ef49e11757b5c46753f95d9edc]\n",
       "@startuml\r\n",
       " skinparam monochrome true\r\n",
       "skinparam classbackgroundcolor white\r\n",
       "skinparam shadowing false\r\n",
       "skinparam wrapWidth 300\r\n",
       "hide circle\r\n",
       "\r\n",
       "@enduml\r\n",
       "\n",
       "PlantUML version 1.2020.13(Sat Jun 13 12:26:38 UTC 2020)\n",
       "(EPL source distribution)\n",
       "Java Runtime: OpenJDK Runtime Environment\n",
       "JVM: OpenJDK 64-Bit Server VM\n",
       "Default Encoding: UTF-8\n",
       "Language: en\n",
       "Country: null\n",
       "--></g></svg>"
      ]
     },
     "execution_count": 4,
     "metadata": {},
     "output_type": "execute_result"
    }
   ],
   "source": [
    "%viz --style=\"COMPTREE\" --view=\"State\" \"DependencyTest\""
   ]
  },
  {
   "cell_type": "code",
   "execution_count": 5,
   "id": "286a14dd",
   "metadata": {
    "execution": {
     "iopub.execute_input": "2022-02-05T16:52:49.267518Z",
     "iopub.status.busy": "2022-02-05T16:52:49.266927Z",
     "iopub.status.idle": "2022-02-05T16:52:49.312530Z",
     "shell.execute_reply": "2022-02-05T16:52:49.312165Z"
    }
   },
   "outputs": [
    {
     "data": {
      "image/svg+xml": [
       "<?xml version=\"1.0\" encoding=\"UTF-8\" standalone=\"no\"?><svg xmlns=\"http://www.w3.org/2000/svg\" xmlns:xlink=\"http://www.w3.org/1999/xlink\" contentScriptType=\"application/ecmascript\" contentStyleType=\"text/css\" height=\"361px\" preserveAspectRatio=\"none\" style=\"width:469px;height:361px;\" version=\"1.1\" viewBox=\"0 0 469 361\" width=\"469px\" zoomAndPan=\"magnify\"><defs/><g><!--MD5=[fbc87193dbaf4d95561dea2c320d4a47]\n",
       "cluster E1--><a href=\"psysml:30d47011-2b84-418c-8f66-5b5fafd7ed2a\" target=\"_top\" title=\"psysml:30d47011-2b84-418c-8f66-5b5fafd7ed2a\" xlink:actuate=\"onRequest\" xlink:href=\"psysml:30d47011-2b84-418c-8f66-5b5fafd7ed2a\" xlink:show=\"new\" xlink:title=\"psysml:30d47011-2b84-418c-8f66-5b5fafd7ed2a\" xlink:type=\"simple\"><polygon fill=\"#FFFFFF\" points=\"16,6,142,6,149,28.2969,447,28.2969,447,349,16,349,16,6\" style=\"stroke: #000000; stroke-width: 1.5;\"/><line style=\"stroke: #000000; stroke-width: 1.5;\" x1=\"16\" x2=\"149\" y1=\"28.2969\" y2=\"28.2969\"/><text fill=\"#000000\" font-family=\"sans-serif\" font-size=\"14\" font-weight=\"bold\" lengthAdjust=\"spacingAndGlyphs\" textLength=\"120\" x=\"20\" y=\"20.9951\">DependencyTest</text></a><!--MD5=[e4f7fae6ed58524ba242bb0b0d3be6b7]\n",
       "cluster E2--><a href=\"psysml:5fbdfa4d-cafa-4f51-92a0-0bd6c2ea6fbb\" target=\"_top\" title=\"psysml:5fbdfa4d-cafa-4f51-92a0-0bd6c2ea6fbb\" xlink:actuate=\"onRequest\" xlink:href=\"psysml:5fbdfa4d-cafa-4f51-92a0-0bd6c2ea6fbb\" xlink:show=\"new\" xlink:title=\"psysml:5fbdfa4d-cafa-4f51-92a0-0bd6c2ea6fbb\" xlink:type=\"simple\"><polygon fill=\"#FFFFFF\" points=\"255,49,312,49,319,71.2969,423,71.2969,423,325,255,325,255,49\" style=\"stroke: #000000; stroke-width: 1.5;\"/><line style=\"stroke: #000000; stroke-width: 1.5;\" x1=\"255\" x2=\"319\" y1=\"71.2969\" y2=\"71.2969\"/><text fill=\"#000000\" font-family=\"sans-serif\" font-size=\"14\" font-weight=\"bold\" lengthAdjust=\"spacingAndGlyphs\" textLength=\"51\" x=\"259\" y=\"63.9951\">System</text></a><!--MD5=[60a26617385b1d2d0262a64233df1f8d]\n",
       "class E6--><a href=\"psysml:3d7e11a6-324b-4ff0-8a6c-08a58aad852d\" target=\"_top\" title=\"psysml:3d7e11a6-324b-4ff0-8a6c-08a58aad852d\" xlink:actuate=\"onRequest\" xlink:href=\"psysml:3d7e11a6-324b-4ff0-8a6c-08a58aad852d\" xlink:show=\"new\" xlink:title=\"psysml:3d7e11a6-324b-4ff0-8a6c-08a58aad852d\" xlink:type=\"simple\"><rect fill=\"#FFFFFF\" height=\"45.9375\" id=\"E6\" rx=\"10\" ry=\"10\" style=\"stroke: #383838; stroke-width: 1.5;\" width=\"71\" x=\"32.5\" y=\"173.5\"/><text fill=\"#000000\" font-family=\"sans-serif\" font-size=\"12\" font-style=\"italic\" lengthAdjust=\"spacingAndGlyphs\" textLength=\"69\" x=\"33.5\" y=\"189.6387\">«attribute»</text><text fill=\"#000000\" font-family=\"sans-serif\" font-size=\"12\" lengthAdjust=\"spacingAndGlyphs\" textLength=\"6\" x=\"63\" y=\"203.6074\">x</text><line style=\"stroke: #383838; stroke-width: 1.5;\" x1=\"33.5\" x2=\"102.5\" y1=\"211.4375\" y2=\"211.4375\"/></a><!--MD5=[2156ba9850f5573cc1fc38a6a4b2f02b]\n",
       "class E7--><a href=\"psysml:07b9e1bd-21f7-4218-b4f9-b36b2d1ccf74\" target=\"_top\" title=\"psysml:07b9e1bd-21f7-4218-b4f9-b36b2d1ccf74\" xlink:actuate=\"onRequest\" xlink:href=\"psysml:07b9e1bd-21f7-4218-b4f9-b36b2d1ccf74\" xlink:show=\"new\" xlink:title=\"psysml:07b9e1bd-21f7-4218-b4f9-b36b2d1ccf74\" xlink:type=\"simple\"><rect fill=\"#FFFFFF\" height=\"45.9375\" id=\"E7\" rx=\"10\" ry=\"10\" style=\"stroke: #383838; stroke-width: 1.5;\" width=\"71\" x=\"138.5\" y=\"173.5\"/><text fill=\"#000000\" font-family=\"sans-serif\" font-size=\"12\" font-style=\"italic\" lengthAdjust=\"spacingAndGlyphs\" textLength=\"69\" x=\"139.5\" y=\"189.6387\">«attribute»</text><text fill=\"#000000\" font-family=\"sans-serif\" font-size=\"12\" lengthAdjust=\"spacingAndGlyphs\" textLength=\"6\" x=\"169\" y=\"203.6074\">y</text><line style=\"stroke: #383838; stroke-width: 1.5;\" x1=\"139.5\" x2=\"208.5\" y1=\"211.4375\" y2=\"211.4375\"/></a><!--MD5=[b9389687b975829384b498ac4b7476b2]\n",
       "class E8--><a href=\"psysml:44529a0f-a1ad-4493-b824-b4a46bdd708e\" target=\"_top\" title=\"psysml:44529a0f-a1ad-4493-b824-b4a46bdd708e\" xlink:actuate=\"onRequest\" xlink:href=\"psysml:44529a0f-a1ad-4493-b824-b4a46bdd708e\" xlink:show=\"new\" xlink:title=\"psysml:44529a0f-a1ad-4493-b824-b4a46bdd708e\" xlink:type=\"simple\"><rect fill=\"#FFFFFF\" height=\"45.9375\" id=\"E8\" rx=\"10\" ry=\"10\" style=\"stroke: #383838; stroke-width: 1.5;\" width=\"71\" x=\"84.5\" y=\"87.5\"/><text fill=\"#000000\" font-family=\"sans-serif\" font-size=\"12\" font-style=\"italic\" lengthAdjust=\"spacingAndGlyphs\" textLength=\"69\" x=\"85.5\" y=\"103.6387\">«attribute»</text><text fill=\"#000000\" font-family=\"sans-serif\" font-size=\"12\" lengthAdjust=\"spacingAndGlyphs\" textLength=\"5\" x=\"115.5\" y=\"117.6074\">z</text><line style=\"stroke: #383838; stroke-width: 1.5;\" x1=\"85.5\" x2=\"154.5\" y1=\"125.4375\" y2=\"125.4375\"/></a><a href=\"psysml:511969d3-37b8-4975-ad7d-d9be97a14b44\" target=\"_top\" title=\"psysml:511969d3-37b8-4975-ad7d-d9be97a14b44\" xlink:actuate=\"onRequest\" xlink:href=\"psysml:511969d3-37b8-4975-ad7d-d9be97a14b44\" xlink:show=\"new\" xlink:title=\"psysml:511969d3-37b8-4975-ad7d-d9be97a14b44\" xlink:type=\"simple\"><polygon fill=\"#FFFFFF\" points=\"271.5,84,392.5,84,399.5,106.2969,406.5,106.2969,406.5,136.5938,271.5,136.5938,271.5,84\" style=\"stroke: #000000; stroke-width: 1.5;\"/><line style=\"stroke: #000000; stroke-width: 1.5;\" x1=\"271.5\" x2=\"399.5\" y1=\"106.2969\" y2=\"106.2969\"/><text fill=\"#000000\" font-family=\"sans-serif\" font-size=\"14\" font-weight=\"bold\" lengthAdjust=\"spacingAndGlyphs\" textLength=\"115\" x=\"275.5\" y=\"98.9951\">Application Layer</text></a><a href=\"psysml:3811cf97-7daf-4e30-b445-d9788e80eae2\" target=\"_top\" title=\"psysml:3811cf97-7daf-4e30-b445-d9788e80eae2\" xlink:actuate=\"onRequest\" xlink:href=\"psysml:3811cf97-7daf-4e30-b445-d9788e80eae2\" xlink:show=\"new\" xlink:title=\"psysml:3811cf97-7daf-4e30-b445-d9788e80eae2\" xlink:type=\"simple\"><polygon fill=\"#FFFFFF\" points=\"284,170,380,170,387,192.2969,394,192.2969,394,222.5938,284,222.5938,284,170\" style=\"stroke: #000000; stroke-width: 1.5;\"/><line style=\"stroke: #000000; stroke-width: 1.5;\" x1=\"284\" x2=\"387\" y1=\"192.2969\" y2=\"192.2969\"/><text fill=\"#000000\" font-family=\"sans-serif\" font-size=\"14\" font-weight=\"bold\" lengthAdjust=\"spacingAndGlyphs\" textLength=\"90\" x=\"288\" y=\"184.9951\">Service Layer</text></a><a href=\"psysml:2c8fb347-f198-4aa6-806c-1c573edf927e\" target=\"_top\" title=\"psysml:2c8fb347-f198-4aa6-806c-1c573edf927e\" xlink:actuate=\"onRequest\" xlink:href=\"psysml:2c8fb347-f198-4aa6-806c-1c573edf927e\" xlink:show=\"new\" xlink:title=\"psysml:2c8fb347-f198-4aa6-806c-1c573edf927e\" xlink:type=\"simple\"><polygon fill=\"#FFFFFF\" points=\"293,256,371,256,378,278.2969,385,278.2969,385,308.5938,293,308.5938,293,256\" style=\"stroke: #000000; stroke-width: 1.5;\"/><line style=\"stroke: #000000; stroke-width: 1.5;\" x1=\"293\" x2=\"378\" y1=\"278.2969\" y2=\"278.2969\"/><text fill=\"#000000\" font-family=\"sans-serif\" font-size=\"14\" font-weight=\"bold\" lengthAdjust=\"spacingAndGlyphs\" textLength=\"72\" x=\"297\" y=\"270.9951\">Data Layer</text></a><!--MD5=[af87c684e3b0d8be13c1a698a818ef1e]\n",
       "link E3 to E4--><a href=\"psysml:973be101-d69f-4acb-a430-79bda88f318e\" target=\"_top\" title=\"psysml:973be101-d69f-4acb-a430-79bda88f318e\" xlink:actuate=\"onRequest\" xlink:href=\"psysml:973be101-d69f-4acb-a430-79bda88f318e\" xlink:show=\"new\" xlink:title=\"psysml:973be101-d69f-4acb-a430-79bda88f318e\" xlink:type=\"simple\"><path d=\"M339,137.16 C339,144.98 339,153.69 339,161.94 \" fill=\"none\" id=\"E3-&gt;E4\" style=\"stroke: #383838; stroke-width: 1.0; stroke-dasharray: 7.0,7.0;\"/><polygon fill=\"#383838\" points=\"339,170,342,162,336,162,339,170\" style=\"stroke: #383838; stroke-width: 1.0;\"/><text fill=\"#000000\" font-family=\"sans-serif\" font-size=\"13\" lengthAdjust=\"spacingAndGlyphs\" textLength=\"64\" x=\"340\" y=\"158.0669\">«depend»</text></a><!--MD5=[1b7591eae5389033d8d09a9d6721a717]\n",
       "link E4 to E5--><a href=\"psysml:418c7eed-60a4-47b0-a927-ef037a202312\" target=\"_top\" title=\"psysml:418c7eed-60a4-47b0-a927-ef037a202312\" xlink:actuate=\"onRequest\" xlink:href=\"psysml:418c7eed-60a4-47b0-a927-ef037a202312\" xlink:show=\"new\" xlink:title=\"psysml:418c7eed-60a4-47b0-a927-ef037a202312\" xlink:type=\"simple\"><path d=\"M339,223.16 C339,230.98 339,239.69 339,247.94 \" fill=\"none\" id=\"E4-&gt;E5\" style=\"stroke: #383838; stroke-width: 1.0; stroke-dasharray: 7.0,7.0;\"/><polygon fill=\"#383838\" points=\"339,256,342,248,336,248,339,256\" style=\"stroke: #383838; stroke-width: 1.0;\"/><text fill=\"#000000\" font-family=\"sans-serif\" font-size=\"13\" lengthAdjust=\"spacingAndGlyphs\" textLength=\"64\" x=\"340\" y=\"244.0669\">«depend»</text></a><!--MD5=[c5e8897d989ce984f93528998a7150fe]\n",
       "link E8 to E6--><a href=\"psysml:27e0873a-b752-4942-bd7f-ca0670289346\" target=\"_top\" title=\"psysml:27e0873a-b752-4942-bd7f-ca0670289346\" xlink:actuate=\"onRequest\" xlink:href=\"psysml:27e0873a-b752-4942-bd7f-ca0670289346\" xlink:show=\"new\" xlink:title=\"psysml:27e0873a-b752-4942-bd7f-ca0670289346\" xlink:type=\"simple\"><path d=\"M84.49,125.34 C76.34,130.27 68.69,136.72 64,145 C60.54,151.1 59.62,158.31 60,165.33 \" fill=\"none\" id=\"E8-&gt;E6\" style=\"stroke: #383838; stroke-width: 1.0; stroke-dasharray: 7.0,7.0;\"/><polygon fill=\"#383838\" points=\"60.97,173.42,63.0061,165.1221,57.0479,165.8294,60.97,173.42\" style=\"stroke: #383838; stroke-width: 1.0;\"/><text fill=\"#000000\" font-family=\"sans-serif\" font-size=\"13\" lengthAdjust=\"spacingAndGlyphs\" textLength=\"64\" x=\"65\" y=\"158.0669\">«depend»</text></a><!--MD5=[bfa3c8b0d15052fdf50ae9310b491027]\n",
       "link E8 to E7--><a href=\"psysml:27e0873a-b752-4942-bd7f-ca0670289346\" target=\"_top\" title=\"psysml:27e0873a-b752-4942-bd7f-ca0670289346\" xlink:actuate=\"onRequest\" xlink:href=\"psysml:27e0873a-b752-4942-bd7f-ca0670289346\" xlink:show=\"new\" xlink:title=\"psysml:27e0873a-b752-4942-bd7f-ca0670289346\" xlink:type=\"simple\"><path d=\"M134.19,133.57 C140.65,143.62 148.38,155.65 155.31,166.42 \" fill=\"none\" id=\"E8-&gt;E7\" style=\"stroke: #383838; stroke-width: 1.0; stroke-dasharray: 7.0,7.0;\"/><polygon fill=\"#383838\" points=\"159.72,173.29,157.9148,164.9389,152.8688,168.185,159.72,173.29\" style=\"stroke: #383838; stroke-width: 1.0;\"/><text fill=\"#000000\" font-family=\"sans-serif\" font-size=\"13\" lengthAdjust=\"spacingAndGlyphs\" textLength=\"64\" x=\"152\" y=\"158.0669\">«depend»</text></a><!--MD5=[475260ef56d61d16d022e9452990e60d]\n",
       "@startuml\r\n",
       "skinparam ranksep 10\r\n",
       "skinparam rectangle {\r\n",
       " backgroundColor<<block>> LightGreen\r\n",
       "}\r\n",
       " skinparam monochrome true\r\n",
       "skinparam classbackgroundcolor white\r\n",
       "skinparam shadowing false\r\n",
       "skinparam wrapWidth 300\r\n",
       "hide circle\r\n",
       "\r\n",
       "package \"DependencyTest\" as E1  [[psysml:30d47011-2b84-418c-8f66-5b5fafd7ed2a ]]  {\r\n",
       "package \"System\" as E2  [[psysml:5fbdfa4d-cafa-4f51-92a0-0bd6c2ea6fbb ]]  {\r\n",
       "package \"Application Layer\" as E3  [[psysml:511969d3-37b8-4975-ad7d-d9be97a14b44 ]]  {\r\n",
       "}\r\n",
       "package \"Service Layer\" as E4  [[psysml:3811cf97-7daf-4e30-b445-d9788e80eae2 ]]  {\r\n",
       "}\r\n",
       "package \"Data Layer\" as E5  [[psysml:2c8fb347-f198-4aa6-806c-1c573edf927e ]]  {\r\n",
       "}\r\n",
       "}\r\n",
       "comp usage \"x \" as E6  <<(T,blue) attribute>> [[psysml:3d7e11a6-324b-4ff0-8a6c-08a58aad852d ]] {\r\n",
       "}\r\n",
       "comp usage \"y \" as E7  <<(T,blue) attribute>> [[psysml:07b9e1bd-21f7-4218-b4f9-b36b2d1ccf74 ]] {\r\n",
       "}\r\n",
       "comp usage \"z \" as E8  <<(T,blue) attribute>> [[psysml:44529a0f-a1ad-4493-b824-b4a46bdd708e ]] {\r\n",
       "}\r\n",
       "}\r\n",
       "E3 ..>> E4 [[psysml:973be101-d69f-4acb-a430-79bda88f318e ]] : <<depend>>\r\n",
       "E4 ..>> E5 [[psysml:418c7eed-60a4-47b0-a927-ef037a202312 ]] : <<depend>>\r\n",
       "E8 ..>> E6 [[psysml:27e0873a-b752-4942-bd7f-ca0670289346 ]] : <<depend>>\r\n",
       "E8 ..>> E7 [[psysml:27e0873a-b752-4942-bd7f-ca0670289346 ]] : <<depend>>\r\n",
       "@enduml\r\n",
       "\n",
       "PlantUML version 1.2020.13(Sat Jun 13 12:26:38 UTC 2020)\n",
       "(EPL source distribution)\n",
       "Java Runtime: OpenJDK Runtime Environment\n",
       "JVM: OpenJDK 64-Bit Server VM\n",
       "Default Encoding: UTF-8\n",
       "Language: en\n",
       "Country: null\n",
       "--></g></svg>"
      ]
     },
     "execution_count": 5,
     "metadata": {},
     "output_type": "execute_result"
    }
   ],
   "source": [
    "%viz --style=\"COMPTREE\" --view=\"Interconnection\" \"DependencyTest\""
   ]
  },
  {
   "cell_type": "code",
   "execution_count": 6,
   "id": "db5477ca",
   "metadata": {
    "execution": {
     "iopub.execute_input": "2022-02-05T16:52:49.362129Z",
     "iopub.status.busy": "2022-02-05T16:52:49.361717Z",
     "iopub.status.idle": "2022-02-05T16:52:49.365894Z",
     "shell.execute_reply": "2022-02-05T16:52:49.366215Z"
    }
   },
   "outputs": [
    {
     "data": {
      "image/svg+xml": [
       "<?xml version=\"1.0\" encoding=\"UTF-8\" standalone=\"no\"?><svg xmlns=\"http://www.w3.org/2000/svg\" xmlns:xlink=\"http://www.w3.org/1999/xlink\" contentScriptType=\"application/ecmascript\" contentStyleType=\"text/css\" height=\"12px\" preserveAspectRatio=\"none\" style=\"width:12px;height:12px;\" version=\"1.1\" viewBox=\"0 0 12 12\" width=\"12px\" zoomAndPan=\"magnify\"><defs/><g><!--MD5=[655b888544ca4751ea36af1068543f84]\n",
       "@startuml\r\n",
       "skinparam ranksep 8\r\n",
       " skinparam monochrome true\r\n",
       "skinparam classbackgroundcolor white\r\n",
       "skinparam shadowing false\r\n",
       "skinparam wrapWidth 300\r\n",
       "hide circle\r\n",
       "\r\n",
       "@enduml\r\n",
       "\n",
       "PlantUML version 1.2020.13(Sat Jun 13 12:26:38 UTC 2020)\n",
       "(EPL source distribution)\n",
       "Java Runtime: OpenJDK Runtime Environment\n",
       "JVM: OpenJDK 64-Bit Server VM\n",
       "Default Encoding: UTF-8\n",
       "Language: en\n",
       "Country: null\n",
       "--></g></svg>"
      ]
     },
     "execution_count": 6,
     "metadata": {},
     "output_type": "execute_result"
    }
   ],
   "source": [
    "%viz --style=\"COMPTREE\" --view=\"Action\" \"DependencyTest\""
   ]
  },
  {
   "cell_type": "code",
   "execution_count": 7,
   "id": "2ec958f2",
   "metadata": {
    "execution": {
     "iopub.execute_input": "2022-02-05T16:52:49.416600Z",
     "iopub.status.busy": "2022-02-05T16:52:49.416188Z",
     "iopub.status.idle": "2022-02-05T16:52:49.427692Z",
     "shell.execute_reply": "2022-02-05T16:52:49.428011Z"
    }
   },
   "outputs": [
    {
     "data": {
      "image/svg+xml": [
       "<?xml version=\"1.0\" encoding=\"UTF-8\" standalone=\"no\"?><svg xmlns=\"http://www.w3.org/2000/svg\" xmlns:xlink=\"http://www.w3.org/1999/xlink\" contentScriptType=\"application/ecmascript\" contentStyleType=\"text/css\" height=\"12px\" preserveAspectRatio=\"none\" style=\"width:12px;height:12px;\" version=\"1.1\" viewBox=\"0 0 12 12\" width=\"12px\" zoomAndPan=\"magnify\"><defs/><g><!--MD5=[803fc46c337be7a5c8a9831e35356779]\n",
       "@startuml\r\n",
       "skinparam roundcorner 20\r\n",
       "skinparam BoxPadding 20\r\n",
       "skinparam SequenceBoxBackgroundColor #white\r\n",
       "skinparam style strictuml\r\n",
       "skinparam maxMessageSize 100\r\n",
       " skinparam monochrome true\r\n",
       "skinparam classbackgroundcolor white\r\n",
       "skinparam shadowing false\r\n",
       "skinparam wrapWidth 300\r\n",
       "hide circle\r\n",
       "\r\n",
       "@enduml\r\n",
       "\n",
       "PlantUML version 1.2020.13(Sat Jun 13 12:26:38 UTC 2020)\n",
       "(EPL source distribution)\n",
       "Java Runtime: OpenJDK Runtime Environment\n",
       "JVM: OpenJDK 64-Bit Server VM\n",
       "Default Encoding: UTF-8\n",
       "Language: en\n",
       "Country: null\n",
       "--></g></svg>"
      ]
     },
     "execution_count": 7,
     "metadata": {},
     "output_type": "execute_result"
    }
   ],
   "source": [
    "%viz --style=\"COMPTREE\" --view=\"Sequence\" \"DependencyTest\""
   ]
  },
  {
   "cell_type": "code",
   "execution_count": 8,
   "id": "ca90e623",
   "metadata": {
    "execution": {
     "iopub.execute_input": "2022-02-05T16:52:49.478241Z",
     "iopub.status.busy": "2022-02-05T16:52:49.477751Z",
     "iopub.status.idle": "2022-02-05T16:52:49.512873Z",
     "shell.execute_reply": "2022-02-05T16:52:49.511390Z"
    }
   },
   "outputs": [
    {
     "data": {
      "image/svg+xml": [
       "<?xml version=\"1.0\" encoding=\"UTF-8\" standalone=\"no\"?><svg xmlns=\"http://www.w3.org/2000/svg\" xmlns:xlink=\"http://www.w3.org/1999/xlink\" contentScriptType=\"application/ecmascript\" contentStyleType=\"text/css\" height=\"449px\" preserveAspectRatio=\"none\" style=\"width:469px;height:449px;\" version=\"1.1\" viewBox=\"0 0 469 449\" width=\"469px\" zoomAndPan=\"magnify\"><defs/><g><!--MD5=[fbc87193dbaf4d95561dea2c320d4a47]\n",
       "cluster E1--><a href=\"psysml:30d47011-2b84-418c-8f66-5b5fafd7ed2a\" target=\"_top\" title=\"psysml:30d47011-2b84-418c-8f66-5b5fafd7ed2a\" xlink:actuate=\"onRequest\" xlink:href=\"psysml:30d47011-2b84-418c-8f66-5b5fafd7ed2a\" xlink:show=\"new\" xlink:title=\"psysml:30d47011-2b84-418c-8f66-5b5fafd7ed2a\" xlink:type=\"simple\"><polygon fill=\"#FFFFFF\" points=\"16,6,142,6,149,28.2969,447,28.2969,447,437,16,437,16,6\" style=\"stroke: #000000; stroke-width: 1.5;\"/><line style=\"stroke: #000000; stroke-width: 1.5;\" x1=\"16\" x2=\"149\" y1=\"28.2969\" y2=\"28.2969\"/><text fill=\"#000000\" font-family=\"sans-serif\" font-size=\"14\" font-weight=\"bold\" lengthAdjust=\"spacingAndGlyphs\" textLength=\"120\" x=\"20\" y=\"20.9951\">DependencyTest</text></a><!--MD5=[e4f7fae6ed58524ba242bb0b0d3be6b7]\n",
       "cluster E2--><a href=\"psysml:5fbdfa4d-cafa-4f51-92a0-0bd6c2ea6fbb\" target=\"_top\" title=\"psysml:5fbdfa4d-cafa-4f51-92a0-0bd6c2ea6fbb\" xlink:actuate=\"onRequest\" xlink:href=\"psysml:5fbdfa4d-cafa-4f51-92a0-0bd6c2ea6fbb\" xlink:show=\"new\" xlink:title=\"psysml:5fbdfa4d-cafa-4f51-92a0-0bd6c2ea6fbb\" xlink:type=\"simple\"><polygon fill=\"#FFFFFF\" points=\"255,49,312,49,319,71.2969,423,71.2969,423,413,255,413,255,49\" style=\"stroke: #000000; stroke-width: 1.5;\"/><line style=\"stroke: #000000; stroke-width: 1.5;\" x1=\"255\" x2=\"319\" y1=\"71.2969\" y2=\"71.2969\"/><text fill=\"#000000\" font-family=\"sans-serif\" font-size=\"14\" font-weight=\"bold\" lengthAdjust=\"spacingAndGlyphs\" textLength=\"51\" x=\"259\" y=\"63.9951\">System</text></a><!--MD5=[60a26617385b1d2d0262a64233df1f8d]\n",
       "class E6--><a href=\"psysml:3d7e11a6-324b-4ff0-8a6c-08a58aad852d\" target=\"_top\" title=\"psysml:3d7e11a6-324b-4ff0-8a6c-08a58aad852d\" xlink:actuate=\"onRequest\" xlink:href=\"psysml:3d7e11a6-324b-4ff0-8a6c-08a58aad852d\" xlink:show=\"new\" xlink:title=\"psysml:3d7e11a6-324b-4ff0-8a6c-08a58aad852d\" xlink:type=\"simple\"><rect fill=\"#FFFFFF\" height=\"45.9375\" id=\"E6\" rx=\"10\" ry=\"10\" style=\"stroke: #383838; stroke-width: 1.5;\" width=\"71\" x=\"32.5\" y=\"217.5\"/><text fill=\"#000000\" font-family=\"sans-serif\" font-size=\"12\" font-style=\"italic\" lengthAdjust=\"spacingAndGlyphs\" textLength=\"69\" x=\"33.5\" y=\"233.6387\">«attribute»</text><text fill=\"#000000\" font-family=\"sans-serif\" font-size=\"12\" lengthAdjust=\"spacingAndGlyphs\" textLength=\"6\" x=\"63\" y=\"247.6074\">x</text><line style=\"stroke: #383838; stroke-width: 1.5;\" x1=\"33.5\" x2=\"102.5\" y1=\"255.4375\" y2=\"255.4375\"/></a><!--MD5=[2156ba9850f5573cc1fc38a6a4b2f02b]\n",
       "class E7--><a href=\"psysml:07b9e1bd-21f7-4218-b4f9-b36b2d1ccf74\" target=\"_top\" title=\"psysml:07b9e1bd-21f7-4218-b4f9-b36b2d1ccf74\" xlink:actuate=\"onRequest\" xlink:href=\"psysml:07b9e1bd-21f7-4218-b4f9-b36b2d1ccf74\" xlink:show=\"new\" xlink:title=\"psysml:07b9e1bd-21f7-4218-b4f9-b36b2d1ccf74\" xlink:type=\"simple\"><rect fill=\"#FFFFFF\" height=\"45.9375\" id=\"E7\" rx=\"10\" ry=\"10\" style=\"stroke: #383838; stroke-width: 1.5;\" width=\"71\" x=\"138.5\" y=\"217.5\"/><text fill=\"#000000\" font-family=\"sans-serif\" font-size=\"12\" font-style=\"italic\" lengthAdjust=\"spacingAndGlyphs\" textLength=\"69\" x=\"139.5\" y=\"233.6387\">«attribute»</text><text fill=\"#000000\" font-family=\"sans-serif\" font-size=\"12\" lengthAdjust=\"spacingAndGlyphs\" textLength=\"6\" x=\"169\" y=\"247.6074\">y</text><line style=\"stroke: #383838; stroke-width: 1.5;\" x1=\"139.5\" x2=\"208.5\" y1=\"255.4375\" y2=\"255.4375\"/></a><!--MD5=[b9389687b975829384b498ac4b7476b2]\n",
       "class E8--><a href=\"psysml:44529a0f-a1ad-4493-b824-b4a46bdd708e\" target=\"_top\" title=\"psysml:44529a0f-a1ad-4493-b824-b4a46bdd708e\" xlink:actuate=\"onRequest\" xlink:href=\"psysml:44529a0f-a1ad-4493-b824-b4a46bdd708e\" xlink:show=\"new\" xlink:title=\"psysml:44529a0f-a1ad-4493-b824-b4a46bdd708e\" xlink:type=\"simple\"><rect fill=\"#FFFFFF\" height=\"45.9375\" id=\"E8\" rx=\"10\" ry=\"10\" style=\"stroke: #383838; stroke-width: 1.5;\" width=\"71\" x=\"84.5\" y=\"87.5\"/><text fill=\"#000000\" font-family=\"sans-serif\" font-size=\"12\" font-style=\"italic\" lengthAdjust=\"spacingAndGlyphs\" textLength=\"69\" x=\"85.5\" y=\"103.6387\">«attribute»</text><text fill=\"#000000\" font-family=\"sans-serif\" font-size=\"12\" lengthAdjust=\"spacingAndGlyphs\" textLength=\"5\" x=\"115.5\" y=\"117.6074\">z</text><line style=\"stroke: #383838; stroke-width: 1.5;\" x1=\"85.5\" x2=\"154.5\" y1=\"125.4375\" y2=\"125.4375\"/></a><a href=\"psysml:511969d3-37b8-4975-ad7d-d9be97a14b44\" target=\"_top\" title=\"psysml:511969d3-37b8-4975-ad7d-d9be97a14b44\" xlink:actuate=\"onRequest\" xlink:href=\"psysml:511969d3-37b8-4975-ad7d-d9be97a14b44\" xlink:show=\"new\" xlink:title=\"psysml:511969d3-37b8-4975-ad7d-d9be97a14b44\" xlink:type=\"simple\"><polygon fill=\"#FFFFFF\" points=\"271.5,84,392.5,84,399.5,106.2969,406.5,106.2969,406.5,136.5938,271.5,136.5938,271.5,84\" style=\"stroke: #000000; stroke-width: 1.5;\"/><line style=\"stroke: #000000; stroke-width: 1.5;\" x1=\"271.5\" x2=\"399.5\" y1=\"106.2969\" y2=\"106.2969\"/><text fill=\"#000000\" font-family=\"sans-serif\" font-size=\"14\" font-weight=\"bold\" lengthAdjust=\"spacingAndGlyphs\" textLength=\"115\" x=\"275.5\" y=\"98.9951\">Application Layer</text></a><a href=\"psysml:3811cf97-7daf-4e30-b445-d9788e80eae2\" target=\"_top\" title=\"psysml:3811cf97-7daf-4e30-b445-d9788e80eae2\" xlink:actuate=\"onRequest\" xlink:href=\"psysml:3811cf97-7daf-4e30-b445-d9788e80eae2\" xlink:show=\"new\" xlink:title=\"psysml:3811cf97-7daf-4e30-b445-d9788e80eae2\" xlink:type=\"simple\"><polygon fill=\"#FFFFFF\" points=\"284,214,380,214,387,236.2969,394,236.2969,394,266.5938,284,266.5938,284,214\" style=\"stroke: #000000; stroke-width: 1.5;\"/><line style=\"stroke: #000000; stroke-width: 1.5;\" x1=\"284\" x2=\"387\" y1=\"236.2969\" y2=\"236.2969\"/><text fill=\"#000000\" font-family=\"sans-serif\" font-size=\"14\" font-weight=\"bold\" lengthAdjust=\"spacingAndGlyphs\" textLength=\"90\" x=\"288\" y=\"228.9951\">Service Layer</text></a><a href=\"psysml:2c8fb347-f198-4aa6-806c-1c573edf927e\" target=\"_top\" title=\"psysml:2c8fb347-f198-4aa6-806c-1c573edf927e\" xlink:actuate=\"onRequest\" xlink:href=\"psysml:2c8fb347-f198-4aa6-806c-1c573edf927e\" xlink:show=\"new\" xlink:title=\"psysml:2c8fb347-f198-4aa6-806c-1c573edf927e\" xlink:type=\"simple\"><polygon fill=\"#FFFFFF\" points=\"293,344,371,344,378,366.2969,385,366.2969,385,396.5938,293,396.5938,293,344\" style=\"stroke: #000000; stroke-width: 1.5;\"/><line style=\"stroke: #000000; stroke-width: 1.5;\" x1=\"293\" x2=\"378\" y1=\"366.2969\" y2=\"366.2969\"/><text fill=\"#000000\" font-family=\"sans-serif\" font-size=\"14\" font-weight=\"bold\" lengthAdjust=\"spacingAndGlyphs\" textLength=\"72\" x=\"297\" y=\"358.9951\">Data Layer</text></a><!--MD5=[af87c684e3b0d8be13c1a698a818ef1e]\n",
       "link E3 to E4--><a href=\"psysml:973be101-d69f-4acb-a430-79bda88f318e\" target=\"_top\" title=\"psysml:973be101-d69f-4acb-a430-79bda88f318e\" xlink:actuate=\"onRequest\" xlink:href=\"psysml:973be101-d69f-4acb-a430-79bda88f318e\" xlink:show=\"new\" xlink:title=\"psysml:973be101-d69f-4acb-a430-79bda88f318e\" xlink:type=\"simple\"><path d=\"M339,137.1 C339,156.8 339,184.22 339,205.73 \" fill=\"none\" id=\"E3-&gt;E4\" style=\"stroke: #383838; stroke-width: 1.0; stroke-dasharray: 7.0,7.0;\"/><polygon fill=\"#383838\" points=\"339,213.95,342,205.95,336,205.95,339,213.95\" style=\"stroke: #383838; stroke-width: 1.0;\"/><text fill=\"#000000\" font-family=\"sans-serif\" font-size=\"13\" lengthAdjust=\"spacingAndGlyphs\" textLength=\"64\" x=\"340\" y=\"180.0669\">«depend»</text></a><!--MD5=[1b7591eae5389033d8d09a9d6721a717]\n",
       "link E4 to E5--><a href=\"psysml:418c7eed-60a4-47b0-a927-ef037a202312\" target=\"_top\" title=\"psysml:418c7eed-60a4-47b0-a927-ef037a202312\" xlink:actuate=\"onRequest\" xlink:href=\"psysml:418c7eed-60a4-47b0-a927-ef037a202312\" xlink:show=\"new\" xlink:title=\"psysml:418c7eed-60a4-47b0-a927-ef037a202312\" xlink:type=\"simple\"><path d=\"M339,267.1 C339,286.8 339,314.22 339,335.73 \" fill=\"none\" id=\"E4-&gt;E5\" style=\"stroke: #383838; stroke-width: 1.0; stroke-dasharray: 7.0,7.0;\"/><polygon fill=\"#383838\" points=\"339,343.95,342,335.95,336,335.95,339,343.95\" style=\"stroke: #383838; stroke-width: 1.0;\"/><text fill=\"#000000\" font-family=\"sans-serif\" font-size=\"13\" lengthAdjust=\"spacingAndGlyphs\" textLength=\"64\" x=\"340\" y=\"310.0669\">«depend»</text></a><!--MD5=[c5e8897d989ce984f93528998a7150fe]\n",
       "link E8 to E6--><a href=\"psysml:27e0873a-b752-4942-bd7f-ca0670289346\" target=\"_top\" title=\"psysml:27e0873a-b752-4942-bd7f-ca0670289346\" xlink:actuate=\"onRequest\" xlink:href=\"psysml:27e0873a-b752-4942-bd7f-ca0670289346\" xlink:show=\"new\" xlink:title=\"psysml:27e0873a-b752-4942-bd7f-ca0670289346\" xlink:type=\"simple\"><path d=\"M89.42,133.6 C79.35,142.68 69.37,154.11 64,167 C58.5,180.2 58.66,195.94 60.54,209.38 \" fill=\"none\" id=\"E8-&gt;E6\" style=\"stroke: #383838; stroke-width: 1.0; stroke-dasharray: 7.0,7.0;\"/><polygon fill=\"#383838\" points=\"61.9,217.4,63.517,209.0104,57.6018,210.0159,61.9,217.4\" style=\"stroke: #383838; stroke-width: 1.0;\"/><text fill=\"#000000\" font-family=\"sans-serif\" font-size=\"13\" lengthAdjust=\"spacingAndGlyphs\" textLength=\"64\" x=\"65\" y=\"180.0669\">«depend»</text></a><!--MD5=[bfa3c8b0d15052fdf50ae9310b491027]\n",
       "link E8 to E7--><a href=\"psysml:27e0873a-b752-4942-bd7f-ca0670289346\" target=\"_top\" title=\"psysml:27e0873a-b752-4942-bd7f-ca0670289346\" xlink:actuate=\"onRequest\" xlink:href=\"psysml:27e0873a-b752-4942-bd7f-ca0670289346\" xlink:show=\"new\" xlink:title=\"psysml:27e0873a-b752-4942-bd7f-ca0670289346\" xlink:type=\"simple\"><path d=\"M129.28,133.5 C138.17,154.57 151.64,186.5 161.47,209.81 \" fill=\"none\" id=\"E8-&gt;E7\" style=\"stroke: #383838; stroke-width: 1.0; stroke-dasharray: 7.0,7.0;\"/><polygon fill=\"#383838\" points=\"164.66,217.35,164.3241,208.8126,158.7933,211.1385,164.66,217.35\" style=\"stroke: #383838; stroke-width: 1.0;\"/><text fill=\"#000000\" font-family=\"sans-serif\" font-size=\"13\" lengthAdjust=\"spacingAndGlyphs\" textLength=\"64\" x=\"151\" y=\"180.0669\">«depend»</text></a><!--MD5=[087eaf5e32021b7b52cf1d57223ff2d6]\n",
       "@startuml\r\n",
       " skinparam monochrome true\r\n",
       "skinparam classbackgroundcolor white\r\n",
       "skinparam shadowing false\r\n",
       "skinparam wrapWidth 300\r\n",
       "hide circle\r\n",
       "\r\n",
       "package \"DependencyTest\" as E1  [[psysml:30d47011-2b84-418c-8f66-5b5fafd7ed2a ]]  {\r\n",
       "package \"System\" as E2  [[psysml:5fbdfa4d-cafa-4f51-92a0-0bd6c2ea6fbb ]]  {\r\n",
       "package \"Application Layer\" as E3  [[psysml:511969d3-37b8-4975-ad7d-d9be97a14b44 ]]  {\r\n",
       "}\r\n",
       "package \"Service Layer\" as E4  [[psysml:3811cf97-7daf-4e30-b445-d9788e80eae2 ]]  {\r\n",
       "}\r\n",
       "package \"Data Layer\" as E5  [[psysml:2c8fb347-f198-4aa6-806c-1c573edf927e ]]  {\r\n",
       "}\r\n",
       "}\r\n",
       "comp usage \"x \" as E6  <<(T,blue) attribute>> [[psysml:3d7e11a6-324b-4ff0-8a6c-08a58aad852d ]] {\r\n",
       "}\r\n",
       "comp usage \"y \" as E7  <<(T,blue) attribute>> [[psysml:07b9e1bd-21f7-4218-b4f9-b36b2d1ccf74 ]] {\r\n",
       "}\r\n",
       "comp usage \"z \" as E8  <<(T,blue) attribute>> [[psysml:44529a0f-a1ad-4493-b824-b4a46bdd708e ]] {\r\n",
       "}\r\n",
       "}\r\n",
       "E3 ..>> E4 [[psysml:973be101-d69f-4acb-a430-79bda88f318e ]] : <<depend>>\r\n",
       "E4 ..>> E5 [[psysml:418c7eed-60a4-47b0-a927-ef037a202312 ]] : <<depend>>\r\n",
       "E8 ..>> E6 [[psysml:27e0873a-b752-4942-bd7f-ca0670289346 ]] : <<depend>>\r\n",
       "E8 ..>> E7 [[psysml:27e0873a-b752-4942-bd7f-ca0670289346 ]] : <<depend>>\r\n",
       "@enduml\r\n",
       "\n",
       "PlantUML version 1.2020.13(Sat Jun 13 12:26:38 UTC 2020)\n",
       "(EPL source distribution)\n",
       "Java Runtime: OpenJDK Runtime Environment\n",
       "JVM: OpenJDK 64-Bit Server VM\n",
       "Default Encoding: UTF-8\n",
       "Language: en\n",
       "Country: null\n",
       "--></g></svg>"
      ]
     },
     "execution_count": 8,
     "metadata": {},
     "output_type": "execute_result"
    }
   ],
   "source": [
    "%viz --style=\"COMPTREE\" --view=\"MIXED\" \"DependencyTest\""
   ]
  },
  {
   "cell_type": "code",
   "execution_count": 9,
   "id": "86a7a5af",
   "metadata": {
    "execution": {
     "iopub.execute_input": "2022-02-05T16:52:49.562381Z",
     "iopub.status.busy": "2022-02-05T16:52:49.561836Z",
     "iopub.status.idle": "2022-02-05T16:52:49.611937Z",
     "shell.execute_reply": "2022-02-05T16:52:49.611550Z"
    }
   },
   "outputs": [
    {
     "data": {
      "image/svg+xml": [
       "<?xml version=\"1.0\" encoding=\"UTF-8\" standalone=\"no\"?><svg xmlns=\"http://www.w3.org/2000/svg\" xmlns:xlink=\"http://www.w3.org/1999/xlink\" contentScriptType=\"application/ecmascript\" contentStyleType=\"text/css\" height=\"449px\" preserveAspectRatio=\"none\" style=\"width:469px;height:449px;\" version=\"1.1\" viewBox=\"0 0 469 449\" width=\"469px\" zoomAndPan=\"magnify\"><defs/><g><!--MD5=[fbc87193dbaf4d95561dea2c320d4a47]\n",
       "cluster E1--><a href=\"psysml:30d47011-2b84-418c-8f66-5b5fafd7ed2a\" target=\"_top\" title=\"psysml:30d47011-2b84-418c-8f66-5b5fafd7ed2a\" xlink:actuate=\"onRequest\" xlink:href=\"psysml:30d47011-2b84-418c-8f66-5b5fafd7ed2a\" xlink:show=\"new\" xlink:title=\"psysml:30d47011-2b84-418c-8f66-5b5fafd7ed2a\" xlink:type=\"simple\"><polygon fill=\"#FFFFFF\" points=\"16,6,142,6,149,28.2969,447,28.2969,447,437,16,437,16,6\" style=\"stroke: #000000; stroke-width: 1.5;\"/><line style=\"stroke: #000000; stroke-width: 1.5;\" x1=\"16\" x2=\"149\" y1=\"28.2969\" y2=\"28.2969\"/><text fill=\"#000000\" font-family=\"sans-serif\" font-size=\"14\" font-weight=\"bold\" lengthAdjust=\"spacingAndGlyphs\" textLength=\"120\" x=\"20\" y=\"20.9951\">DependencyTest</text></a><!--MD5=[e4f7fae6ed58524ba242bb0b0d3be6b7]\n",
       "cluster E2--><a href=\"psysml:5fbdfa4d-cafa-4f51-92a0-0bd6c2ea6fbb\" target=\"_top\" title=\"psysml:5fbdfa4d-cafa-4f51-92a0-0bd6c2ea6fbb\" xlink:actuate=\"onRequest\" xlink:href=\"psysml:5fbdfa4d-cafa-4f51-92a0-0bd6c2ea6fbb\" xlink:show=\"new\" xlink:title=\"psysml:5fbdfa4d-cafa-4f51-92a0-0bd6c2ea6fbb\" xlink:type=\"simple\"><polygon fill=\"#FFFFFF\" points=\"255,49,312,49,319,71.2969,423,71.2969,423,413,255,413,255,49\" style=\"stroke: #000000; stroke-width: 1.5;\"/><line style=\"stroke: #000000; stroke-width: 1.5;\" x1=\"255\" x2=\"319\" y1=\"71.2969\" y2=\"71.2969\"/><text fill=\"#000000\" font-family=\"sans-serif\" font-size=\"14\" font-weight=\"bold\" lengthAdjust=\"spacingAndGlyphs\" textLength=\"51\" x=\"259\" y=\"63.9951\">System</text></a><!--MD5=[60a26617385b1d2d0262a64233df1f8d]\n",
       "class E6--><a href=\"psysml:3d7e11a6-324b-4ff0-8a6c-08a58aad852d\" target=\"_top\" title=\"psysml:3d7e11a6-324b-4ff0-8a6c-08a58aad852d\" xlink:actuate=\"onRequest\" xlink:href=\"psysml:3d7e11a6-324b-4ff0-8a6c-08a58aad852d\" xlink:show=\"new\" xlink:title=\"psysml:3d7e11a6-324b-4ff0-8a6c-08a58aad852d\" xlink:type=\"simple\"><rect fill=\"#FFFFFF\" height=\"45.9375\" id=\"E6\" rx=\"10\" ry=\"10\" style=\"stroke: #383838; stroke-width: 1.5;\" width=\"71\" x=\"32.5\" y=\"217.5\"/><text fill=\"#000000\" font-family=\"sans-serif\" font-size=\"12\" font-style=\"italic\" lengthAdjust=\"spacingAndGlyphs\" textLength=\"69\" x=\"33.5\" y=\"233.6387\">«attribute»</text><text fill=\"#000000\" font-family=\"sans-serif\" font-size=\"12\" lengthAdjust=\"spacingAndGlyphs\" textLength=\"6\" x=\"63\" y=\"247.6074\">x</text><line style=\"stroke: #383838; stroke-width: 1.5;\" x1=\"33.5\" x2=\"102.5\" y1=\"255.4375\" y2=\"255.4375\"/></a><!--MD5=[2156ba9850f5573cc1fc38a6a4b2f02b]\n",
       "class E7--><a href=\"psysml:07b9e1bd-21f7-4218-b4f9-b36b2d1ccf74\" target=\"_top\" title=\"psysml:07b9e1bd-21f7-4218-b4f9-b36b2d1ccf74\" xlink:actuate=\"onRequest\" xlink:href=\"psysml:07b9e1bd-21f7-4218-b4f9-b36b2d1ccf74\" xlink:show=\"new\" xlink:title=\"psysml:07b9e1bd-21f7-4218-b4f9-b36b2d1ccf74\" xlink:type=\"simple\"><rect fill=\"#FFFFFF\" height=\"45.9375\" id=\"E7\" rx=\"10\" ry=\"10\" style=\"stroke: #383838; stroke-width: 1.5;\" width=\"71\" x=\"138.5\" y=\"217.5\"/><text fill=\"#000000\" font-family=\"sans-serif\" font-size=\"12\" font-style=\"italic\" lengthAdjust=\"spacingAndGlyphs\" textLength=\"69\" x=\"139.5\" y=\"233.6387\">«attribute»</text><text fill=\"#000000\" font-family=\"sans-serif\" font-size=\"12\" lengthAdjust=\"spacingAndGlyphs\" textLength=\"6\" x=\"169\" y=\"247.6074\">y</text><line style=\"stroke: #383838; stroke-width: 1.5;\" x1=\"139.5\" x2=\"208.5\" y1=\"255.4375\" y2=\"255.4375\"/></a><!--MD5=[b9389687b975829384b498ac4b7476b2]\n",
       "class E8--><a href=\"psysml:44529a0f-a1ad-4493-b824-b4a46bdd708e\" target=\"_top\" title=\"psysml:44529a0f-a1ad-4493-b824-b4a46bdd708e\" xlink:actuate=\"onRequest\" xlink:href=\"psysml:44529a0f-a1ad-4493-b824-b4a46bdd708e\" xlink:show=\"new\" xlink:title=\"psysml:44529a0f-a1ad-4493-b824-b4a46bdd708e\" xlink:type=\"simple\"><rect fill=\"#FFFFFF\" height=\"45.9375\" id=\"E8\" rx=\"10\" ry=\"10\" style=\"stroke: #383838; stroke-width: 1.5;\" width=\"71\" x=\"84.5\" y=\"87.5\"/><text fill=\"#000000\" font-family=\"sans-serif\" font-size=\"12\" font-style=\"italic\" lengthAdjust=\"spacingAndGlyphs\" textLength=\"69\" x=\"85.5\" y=\"103.6387\">«attribute»</text><text fill=\"#000000\" font-family=\"sans-serif\" font-size=\"12\" lengthAdjust=\"spacingAndGlyphs\" textLength=\"5\" x=\"115.5\" y=\"117.6074\">z</text><line style=\"stroke: #383838; stroke-width: 1.5;\" x1=\"85.5\" x2=\"154.5\" y1=\"125.4375\" y2=\"125.4375\"/></a><a href=\"psysml:511969d3-37b8-4975-ad7d-d9be97a14b44\" target=\"_top\" title=\"psysml:511969d3-37b8-4975-ad7d-d9be97a14b44\" xlink:actuate=\"onRequest\" xlink:href=\"psysml:511969d3-37b8-4975-ad7d-d9be97a14b44\" xlink:show=\"new\" xlink:title=\"psysml:511969d3-37b8-4975-ad7d-d9be97a14b44\" xlink:type=\"simple\"><polygon fill=\"#FFFFFF\" points=\"271.5,84,392.5,84,399.5,106.2969,406.5,106.2969,406.5,136.5938,271.5,136.5938,271.5,84\" style=\"stroke: #000000; stroke-width: 1.5;\"/><line style=\"stroke: #000000; stroke-width: 1.5;\" x1=\"271.5\" x2=\"399.5\" y1=\"106.2969\" y2=\"106.2969\"/><text fill=\"#000000\" font-family=\"sans-serif\" font-size=\"14\" font-weight=\"bold\" lengthAdjust=\"spacingAndGlyphs\" textLength=\"115\" x=\"275.5\" y=\"98.9951\">Application Layer</text></a><a href=\"psysml:3811cf97-7daf-4e30-b445-d9788e80eae2\" target=\"_top\" title=\"psysml:3811cf97-7daf-4e30-b445-d9788e80eae2\" xlink:actuate=\"onRequest\" xlink:href=\"psysml:3811cf97-7daf-4e30-b445-d9788e80eae2\" xlink:show=\"new\" xlink:title=\"psysml:3811cf97-7daf-4e30-b445-d9788e80eae2\" xlink:type=\"simple\"><polygon fill=\"#FFFFFF\" points=\"284,214,380,214,387,236.2969,394,236.2969,394,266.5938,284,266.5938,284,214\" style=\"stroke: #000000; stroke-width: 1.5;\"/><line style=\"stroke: #000000; stroke-width: 1.5;\" x1=\"284\" x2=\"387\" y1=\"236.2969\" y2=\"236.2969\"/><text fill=\"#000000\" font-family=\"sans-serif\" font-size=\"14\" font-weight=\"bold\" lengthAdjust=\"spacingAndGlyphs\" textLength=\"90\" x=\"288\" y=\"228.9951\">Service Layer</text></a><a href=\"psysml:2c8fb347-f198-4aa6-806c-1c573edf927e\" target=\"_top\" title=\"psysml:2c8fb347-f198-4aa6-806c-1c573edf927e\" xlink:actuate=\"onRequest\" xlink:href=\"psysml:2c8fb347-f198-4aa6-806c-1c573edf927e\" xlink:show=\"new\" xlink:title=\"psysml:2c8fb347-f198-4aa6-806c-1c573edf927e\" xlink:type=\"simple\"><polygon fill=\"#FFFFFF\" points=\"293,344,371,344,378,366.2969,385,366.2969,385,396.5938,293,396.5938,293,344\" style=\"stroke: #000000; stroke-width: 1.5;\"/><line style=\"stroke: #000000; stroke-width: 1.5;\" x1=\"293\" x2=\"378\" y1=\"366.2969\" y2=\"366.2969\"/><text fill=\"#000000\" font-family=\"sans-serif\" font-size=\"14\" font-weight=\"bold\" lengthAdjust=\"spacingAndGlyphs\" textLength=\"72\" x=\"297\" y=\"358.9951\">Data Layer</text></a><!--MD5=[af87c684e3b0d8be13c1a698a818ef1e]\n",
       "link E3 to E4--><a href=\"psysml:973be101-d69f-4acb-a430-79bda88f318e\" target=\"_top\" title=\"psysml:973be101-d69f-4acb-a430-79bda88f318e\" xlink:actuate=\"onRequest\" xlink:href=\"psysml:973be101-d69f-4acb-a430-79bda88f318e\" xlink:show=\"new\" xlink:title=\"psysml:973be101-d69f-4acb-a430-79bda88f318e\" xlink:type=\"simple\"><path d=\"M339,137.1 C339,156.8 339,184.22 339,205.73 \" fill=\"none\" id=\"E3-&gt;E4\" style=\"stroke: #383838; stroke-width: 1.0; stroke-dasharray: 7.0,7.0;\"/><polygon fill=\"#383838\" points=\"339,213.95,342,205.95,336,205.95,339,213.95\" style=\"stroke: #383838; stroke-width: 1.0;\"/><text fill=\"#000000\" font-family=\"sans-serif\" font-size=\"13\" lengthAdjust=\"spacingAndGlyphs\" textLength=\"64\" x=\"340\" y=\"180.0669\">«depend»</text></a><!--MD5=[1b7591eae5389033d8d09a9d6721a717]\n",
       "link E4 to E5--><a href=\"psysml:418c7eed-60a4-47b0-a927-ef037a202312\" target=\"_top\" title=\"psysml:418c7eed-60a4-47b0-a927-ef037a202312\" xlink:actuate=\"onRequest\" xlink:href=\"psysml:418c7eed-60a4-47b0-a927-ef037a202312\" xlink:show=\"new\" xlink:title=\"psysml:418c7eed-60a4-47b0-a927-ef037a202312\" xlink:type=\"simple\"><path d=\"M339,267.1 C339,286.8 339,314.22 339,335.73 \" fill=\"none\" id=\"E4-&gt;E5\" style=\"stroke: #383838; stroke-width: 1.0; stroke-dasharray: 7.0,7.0;\"/><polygon fill=\"#383838\" points=\"339,343.95,342,335.95,336,335.95,339,343.95\" style=\"stroke: #383838; stroke-width: 1.0;\"/><text fill=\"#000000\" font-family=\"sans-serif\" font-size=\"13\" lengthAdjust=\"spacingAndGlyphs\" textLength=\"64\" x=\"340\" y=\"310.0669\">«depend»</text></a><!--MD5=[c5e8897d989ce984f93528998a7150fe]\n",
       "link E8 to E6--><a href=\"psysml:27e0873a-b752-4942-bd7f-ca0670289346\" target=\"_top\" title=\"psysml:27e0873a-b752-4942-bd7f-ca0670289346\" xlink:actuate=\"onRequest\" xlink:href=\"psysml:27e0873a-b752-4942-bd7f-ca0670289346\" xlink:show=\"new\" xlink:title=\"psysml:27e0873a-b752-4942-bd7f-ca0670289346\" xlink:type=\"simple\"><path d=\"M97.55,133.75 C81.97,149.19 64,167 64,167 C64,167 64,184 64,184 C64,184 64.88,196.21 65.81,209.18 \" fill=\"none\" id=\"E8-&gt;E6\" style=\"stroke: #383838; stroke-width: 1.0; stroke-dasharray: 7.0,7.0;\"/><polygon fill=\"#383838\" points=\"66.4,217.25,68.8203,209.056,62.8357,209.485,66.4,217.25\" style=\"stroke: #383838; stroke-width: 1.0;\"/><text fill=\"#000000\" font-family=\"sans-serif\" font-size=\"13\" lengthAdjust=\"spacingAndGlyphs\" textLength=\"64\" x=\"65\" y=\"180.0669\">«depend»</text></a><!--MD5=[bfa3c8b0d15052fdf50ae9310b491027]\n",
       "link E8 to E7--><a href=\"psysml:27e0873a-b752-4942-bd7f-ca0670289346\" target=\"_top\" title=\"psysml:27e0873a-b752-4942-bd7f-ca0670289346\" xlink:actuate=\"onRequest\" xlink:href=\"psysml:27e0873a-b752-4942-bd7f-ca0670289346\" xlink:show=\"new\" xlink:title=\"psysml:27e0873a-b752-4942-bd7f-ca0670289346\" xlink:type=\"simple\"><path d=\"M129.28,133.5 C138.17,154.57 151.64,186.5 161.47,209.81 \" fill=\"none\" id=\"E8-&gt;E7\" style=\"stroke: #383838; stroke-width: 1.0; stroke-dasharray: 7.0,7.0;\"/><polygon fill=\"#383838\" points=\"164.66,217.35,164.3241,208.8126,158.7933,211.1385,164.66,217.35\" style=\"stroke: #383838; stroke-width: 1.0;\"/><text fill=\"#000000\" font-family=\"sans-serif\" font-size=\"13\" lengthAdjust=\"spacingAndGlyphs\" textLength=\"64\" x=\"151\" y=\"180.0669\">«depend»</text></a><!--MD5=[bd18e298ea8c72f96c9a7ec7b44dd067]\n",
       "@startuml\r\n",
       "skinparam linetype polyline\r\n",
       "skinparam monochrome true\r\n",
       "skinparam classbackgroundcolor white\r\n",
       "skinparam shadowing false\r\n",
       "skinparam wrapWidth 300\r\n",
       "hide circle\r\n",
       "\r\n",
       "package \"DependencyTest\" as E1  [[psysml:30d47011-2b84-418c-8f66-5b5fafd7ed2a ]]  {\r\n",
       "package \"System\" as E2  [[psysml:5fbdfa4d-cafa-4f51-92a0-0bd6c2ea6fbb ]]  {\r\n",
       "package \"Application Layer\" as E3  [[psysml:511969d3-37b8-4975-ad7d-d9be97a14b44 ]]  {\r\n",
       "}\r\n",
       "package \"Service Layer\" as E4  [[psysml:3811cf97-7daf-4e30-b445-d9788e80eae2 ]]  {\r\n",
       "}\r\n",
       "package \"Data Layer\" as E5  [[psysml:2c8fb347-f198-4aa6-806c-1c573edf927e ]]  {\r\n",
       "}\r\n",
       "}\r\n",
       "comp usage \"x \" as E6  <<(T,blue) attribute>> [[psysml:3d7e11a6-324b-4ff0-8a6c-08a58aad852d ]] {\r\n",
       "}\r\n",
       "comp usage \"y \" as E7  <<(T,blue) attribute>> [[psysml:07b9e1bd-21f7-4218-b4f9-b36b2d1ccf74 ]] {\r\n",
       "}\r\n",
       "comp usage \"z \" as E8  <<(T,blue) attribute>> [[psysml:44529a0f-a1ad-4493-b824-b4a46bdd708e ]] {\r\n",
       "}\r\n",
       "}\r\n",
       "E3 ..>> E4 [[psysml:973be101-d69f-4acb-a430-79bda88f318e ]] : <<depend>>\r\n",
       "E4 ..>> E5 [[psysml:418c7eed-60a4-47b0-a927-ef037a202312 ]] : <<depend>>\r\n",
       "E8 ..>> E6 [[psysml:27e0873a-b752-4942-bd7f-ca0670289346 ]] : <<depend>>\r\n",
       "E8 ..>> E7 [[psysml:27e0873a-b752-4942-bd7f-ca0670289346 ]] : <<depend>>\r\n",
       "@enduml\r\n",
       "\n",
       "PlantUML version 1.2020.13(Sat Jun 13 12:26:38 UTC 2020)\n",
       "(EPL source distribution)\n",
       "Java Runtime: OpenJDK Runtime Environment\n",
       "JVM: OpenJDK 64-Bit Server VM\n",
       "Default Encoding: UTF-8\n",
       "Language: en\n",
       "Country: null\n",
       "--></g></svg>"
      ]
     },
     "execution_count": 9,
     "metadata": {},
     "output_type": "execute_result"
    }
   ],
   "source": [
    "%viz --style=\"POLYLINE\" --view=\"Default\" \"DependencyTest\""
   ]
  },
  {
   "cell_type": "code",
   "execution_count": 10,
   "id": "298f9789",
   "metadata": {
    "execution": {
     "iopub.execute_input": "2022-02-05T16:52:49.662427Z",
     "iopub.status.busy": "2022-02-05T16:52:49.661736Z",
     "iopub.status.idle": "2022-02-05T16:52:49.707513Z",
     "shell.execute_reply": "2022-02-05T16:52:49.706072Z"
    }
   },
   "outputs": [
    {
     "data": {
      "image/svg+xml": [
       "<?xml version=\"1.0\" encoding=\"UTF-8\" standalone=\"no\"?><svg xmlns=\"http://www.w3.org/2000/svg\" xmlns:xlink=\"http://www.w3.org/1999/xlink\" contentScriptType=\"application/ecmascript\" contentStyleType=\"text/css\" height=\"449px\" preserveAspectRatio=\"none\" style=\"width:469px;height:449px;\" version=\"1.1\" viewBox=\"0 0 469 449\" width=\"469px\" zoomAndPan=\"magnify\"><defs/><g><!--MD5=[fbc87193dbaf4d95561dea2c320d4a47]\n",
       "cluster E1--><a href=\"psysml:30d47011-2b84-418c-8f66-5b5fafd7ed2a\" target=\"_top\" title=\"psysml:30d47011-2b84-418c-8f66-5b5fafd7ed2a\" xlink:actuate=\"onRequest\" xlink:href=\"psysml:30d47011-2b84-418c-8f66-5b5fafd7ed2a\" xlink:show=\"new\" xlink:title=\"psysml:30d47011-2b84-418c-8f66-5b5fafd7ed2a\" xlink:type=\"simple\"><polygon fill=\"#FFFFFF\" points=\"16,6,142,6,149,28.2969,447,28.2969,447,437,16,437,16,6\" style=\"stroke: #000000; stroke-width: 1.5;\"/><line style=\"stroke: #000000; stroke-width: 1.5;\" x1=\"16\" x2=\"149\" y1=\"28.2969\" y2=\"28.2969\"/><text fill=\"#000000\" font-family=\"sans-serif\" font-size=\"14\" font-weight=\"bold\" lengthAdjust=\"spacingAndGlyphs\" textLength=\"120\" x=\"20\" y=\"20.9951\">DependencyTest</text></a><!--MD5=[e4f7fae6ed58524ba242bb0b0d3be6b7]\n",
       "cluster E2--><a href=\"psysml:5fbdfa4d-cafa-4f51-92a0-0bd6c2ea6fbb\" target=\"_top\" title=\"psysml:5fbdfa4d-cafa-4f51-92a0-0bd6c2ea6fbb\" xlink:actuate=\"onRequest\" xlink:href=\"psysml:5fbdfa4d-cafa-4f51-92a0-0bd6c2ea6fbb\" xlink:show=\"new\" xlink:title=\"psysml:5fbdfa4d-cafa-4f51-92a0-0bd6c2ea6fbb\" xlink:type=\"simple\"><polygon fill=\"#FFFFFF\" points=\"255,49,312,49,319,71.2969,423,71.2969,423,413,255,413,255,49\" style=\"stroke: #000000; stroke-width: 1.5;\"/><line style=\"stroke: #000000; stroke-width: 1.5;\" x1=\"255\" x2=\"319\" y1=\"71.2969\" y2=\"71.2969\"/><text fill=\"#000000\" font-family=\"sans-serif\" font-size=\"14\" font-weight=\"bold\" lengthAdjust=\"spacingAndGlyphs\" textLength=\"51\" x=\"259\" y=\"63.9951\">System</text></a><!--MD5=[60a26617385b1d2d0262a64233df1f8d]\n",
       "class E6--><a href=\"psysml:3d7e11a6-324b-4ff0-8a6c-08a58aad852d\" target=\"_top\" title=\"psysml:3d7e11a6-324b-4ff0-8a6c-08a58aad852d\" xlink:actuate=\"onRequest\" xlink:href=\"psysml:3d7e11a6-324b-4ff0-8a6c-08a58aad852d\" xlink:show=\"new\" xlink:title=\"psysml:3d7e11a6-324b-4ff0-8a6c-08a58aad852d\" xlink:type=\"simple\"><rect fill=\"#FFFFFF\" height=\"45.9375\" id=\"E6\" rx=\"10\" ry=\"10\" style=\"stroke: #383838; stroke-width: 1.5;\" width=\"71\" x=\"32.5\" y=\"217.5\"/><text fill=\"#000000\" font-family=\"sans-serif\" font-size=\"12\" font-style=\"italic\" lengthAdjust=\"spacingAndGlyphs\" textLength=\"69\" x=\"33.5\" y=\"233.6387\">«attribute»</text><text fill=\"#000000\" font-family=\"sans-serif\" font-size=\"12\" lengthAdjust=\"spacingAndGlyphs\" textLength=\"6\" x=\"63\" y=\"247.6074\">x</text><line style=\"stroke: #383838; stroke-width: 1.5;\" x1=\"33.5\" x2=\"102.5\" y1=\"255.4375\" y2=\"255.4375\"/></a><!--MD5=[2156ba9850f5573cc1fc38a6a4b2f02b]\n",
       "class E7--><a href=\"psysml:07b9e1bd-21f7-4218-b4f9-b36b2d1ccf74\" target=\"_top\" title=\"psysml:07b9e1bd-21f7-4218-b4f9-b36b2d1ccf74\" xlink:actuate=\"onRequest\" xlink:href=\"psysml:07b9e1bd-21f7-4218-b4f9-b36b2d1ccf74\" xlink:show=\"new\" xlink:title=\"psysml:07b9e1bd-21f7-4218-b4f9-b36b2d1ccf74\" xlink:type=\"simple\"><rect fill=\"#FFFFFF\" height=\"45.9375\" id=\"E7\" rx=\"10\" ry=\"10\" style=\"stroke: #383838; stroke-width: 1.5;\" width=\"71\" x=\"138.5\" y=\"217.5\"/><text fill=\"#000000\" font-family=\"sans-serif\" font-size=\"12\" font-style=\"italic\" lengthAdjust=\"spacingAndGlyphs\" textLength=\"69\" x=\"139.5\" y=\"233.6387\">«attribute»</text><text fill=\"#000000\" font-family=\"sans-serif\" font-size=\"12\" lengthAdjust=\"spacingAndGlyphs\" textLength=\"6\" x=\"169\" y=\"247.6074\">y</text><line style=\"stroke: #383838; stroke-width: 1.5;\" x1=\"139.5\" x2=\"208.5\" y1=\"255.4375\" y2=\"255.4375\"/></a><!--MD5=[b9389687b975829384b498ac4b7476b2]\n",
       "class E8--><a href=\"psysml:44529a0f-a1ad-4493-b824-b4a46bdd708e\" target=\"_top\" title=\"psysml:44529a0f-a1ad-4493-b824-b4a46bdd708e\" xlink:actuate=\"onRequest\" xlink:href=\"psysml:44529a0f-a1ad-4493-b824-b4a46bdd708e\" xlink:show=\"new\" xlink:title=\"psysml:44529a0f-a1ad-4493-b824-b4a46bdd708e\" xlink:type=\"simple\"><rect fill=\"#FFFFFF\" height=\"45.9375\" id=\"E8\" rx=\"10\" ry=\"10\" style=\"stroke: #383838; stroke-width: 1.5;\" width=\"71\" x=\"84.5\" y=\"87.5\"/><text fill=\"#000000\" font-family=\"sans-serif\" font-size=\"12\" font-style=\"italic\" lengthAdjust=\"spacingAndGlyphs\" textLength=\"69\" x=\"85.5\" y=\"103.6387\">«attribute»</text><text fill=\"#000000\" font-family=\"sans-serif\" font-size=\"12\" lengthAdjust=\"spacingAndGlyphs\" textLength=\"5\" x=\"115.5\" y=\"117.6074\">z</text><line style=\"stroke: #383838; stroke-width: 1.5;\" x1=\"85.5\" x2=\"154.5\" y1=\"125.4375\" y2=\"125.4375\"/></a><a href=\"psysml:511969d3-37b8-4975-ad7d-d9be97a14b44\" target=\"_top\" title=\"psysml:511969d3-37b8-4975-ad7d-d9be97a14b44\" xlink:actuate=\"onRequest\" xlink:href=\"psysml:511969d3-37b8-4975-ad7d-d9be97a14b44\" xlink:show=\"new\" xlink:title=\"psysml:511969d3-37b8-4975-ad7d-d9be97a14b44\" xlink:type=\"simple\"><polygon fill=\"#FFFFFF\" points=\"271.5,84,392.5,84,399.5,106.2969,406.5,106.2969,406.5,136.5938,271.5,136.5938,271.5,84\" style=\"stroke: #000000; stroke-width: 1.5;\"/><line style=\"stroke: #000000; stroke-width: 1.5;\" x1=\"271.5\" x2=\"399.5\" y1=\"106.2969\" y2=\"106.2969\"/><text fill=\"#000000\" font-family=\"sans-serif\" font-size=\"14\" font-weight=\"bold\" lengthAdjust=\"spacingAndGlyphs\" textLength=\"115\" x=\"275.5\" y=\"98.9951\">Application Layer</text></a><a href=\"psysml:3811cf97-7daf-4e30-b445-d9788e80eae2\" target=\"_top\" title=\"psysml:3811cf97-7daf-4e30-b445-d9788e80eae2\" xlink:actuate=\"onRequest\" xlink:href=\"psysml:3811cf97-7daf-4e30-b445-d9788e80eae2\" xlink:show=\"new\" xlink:title=\"psysml:3811cf97-7daf-4e30-b445-d9788e80eae2\" xlink:type=\"simple\"><polygon fill=\"#FFFFFF\" points=\"284,214,380,214,387,236.2969,394,236.2969,394,266.5938,284,266.5938,284,214\" style=\"stroke: #000000; stroke-width: 1.5;\"/><line style=\"stroke: #000000; stroke-width: 1.5;\" x1=\"284\" x2=\"387\" y1=\"236.2969\" y2=\"236.2969\"/><text fill=\"#000000\" font-family=\"sans-serif\" font-size=\"14\" font-weight=\"bold\" lengthAdjust=\"spacingAndGlyphs\" textLength=\"90\" x=\"288\" y=\"228.9951\">Service Layer</text></a><a href=\"psysml:2c8fb347-f198-4aa6-806c-1c573edf927e\" target=\"_top\" title=\"psysml:2c8fb347-f198-4aa6-806c-1c573edf927e\" xlink:actuate=\"onRequest\" xlink:href=\"psysml:2c8fb347-f198-4aa6-806c-1c573edf927e\" xlink:show=\"new\" xlink:title=\"psysml:2c8fb347-f198-4aa6-806c-1c573edf927e\" xlink:type=\"simple\"><polygon fill=\"#FFFFFF\" points=\"293,344,371,344,378,366.2969,385,366.2969,385,396.5938,293,396.5938,293,344\" style=\"stroke: #000000; stroke-width: 1.5;\"/><line style=\"stroke: #000000; stroke-width: 1.5;\" x1=\"293\" x2=\"378\" y1=\"366.2969\" y2=\"366.2969\"/><text fill=\"#000000\" font-family=\"sans-serif\" font-size=\"14\" font-weight=\"bold\" lengthAdjust=\"spacingAndGlyphs\" textLength=\"72\" x=\"297\" y=\"358.9951\">Data Layer</text></a><!--MD5=[af87c684e3b0d8be13c1a698a818ef1e]\n",
       "link E3 to E4--><a href=\"psysml:973be101-d69f-4acb-a430-79bda88f318e\" target=\"_top\" title=\"psysml:973be101-d69f-4acb-a430-79bda88f318e\" xlink:actuate=\"onRequest\" xlink:href=\"psysml:973be101-d69f-4acb-a430-79bda88f318e\" xlink:show=\"new\" xlink:title=\"psysml:973be101-d69f-4acb-a430-79bda88f318e\" xlink:type=\"simple\"><path d=\"M339,137.1 C339,156.8 339,184.22 339,205.73 \" fill=\"none\" id=\"E3-&gt;E4\" style=\"stroke: #383838; stroke-width: 1.0; stroke-dasharray: 7.0,7.0;\"/><polygon fill=\"#383838\" points=\"339,213.95,342,205.95,336,205.95,339,213.95\" style=\"stroke: #383838; stroke-width: 1.0;\"/><text fill=\"#000000\" font-family=\"sans-serif\" font-size=\"13\" lengthAdjust=\"spacingAndGlyphs\" textLength=\"64\" x=\"340\" y=\"180.0669\">«depend»</text></a><!--MD5=[1b7591eae5389033d8d09a9d6721a717]\n",
       "link E4 to E5--><a href=\"psysml:418c7eed-60a4-47b0-a927-ef037a202312\" target=\"_top\" title=\"psysml:418c7eed-60a4-47b0-a927-ef037a202312\" xlink:actuate=\"onRequest\" xlink:href=\"psysml:418c7eed-60a4-47b0-a927-ef037a202312\" xlink:show=\"new\" xlink:title=\"psysml:418c7eed-60a4-47b0-a927-ef037a202312\" xlink:type=\"simple\"><path d=\"M339,267.1 C339,286.8 339,314.22 339,335.73 \" fill=\"none\" id=\"E4-&gt;E5\" style=\"stroke: #383838; stroke-width: 1.0; stroke-dasharray: 7.0,7.0;\"/><polygon fill=\"#383838\" points=\"339,343.95,342,335.95,336,335.95,339,343.95\" style=\"stroke: #383838; stroke-width: 1.0;\"/><text fill=\"#000000\" font-family=\"sans-serif\" font-size=\"13\" lengthAdjust=\"spacingAndGlyphs\" textLength=\"64\" x=\"340\" y=\"310.0669\">«depend»</text></a><!--MD5=[c5e8897d989ce984f93528998a7150fe]\n",
       "link E8 to E6--><a href=\"psysml:27e0873a-b752-4942-bd7f-ca0670289346\" target=\"_top\" title=\"psysml:27e0873a-b752-4942-bd7f-ca0670289346\" xlink:actuate=\"onRequest\" xlink:href=\"psysml:27e0873a-b752-4942-bd7f-ca0670289346\" xlink:show=\"new\" xlink:title=\"psysml:27e0873a-b752-4942-bd7f-ca0670289346\" xlink:type=\"simple\"><path d=\"M97.55,133.75 C81.97,149.19 64,167 64,167 C64,167 64,184 64,184 C64,184 64.88,196.21 65.81,209.18 \" fill=\"none\" id=\"E8-&gt;E6\" style=\"stroke: #383838; stroke-width: 1.0; stroke-dasharray: 7.0,7.0;\"/><polygon fill=\"#383838\" points=\"66.4,217.25,68.8203,209.056,62.8357,209.485,66.4,217.25\" style=\"stroke: #383838; stroke-width: 1.0;\"/><text fill=\"#000000\" font-family=\"sans-serif\" font-size=\"13\" lengthAdjust=\"spacingAndGlyphs\" textLength=\"64\" x=\"65\" y=\"180.0669\">«depend»</text></a><!--MD5=[bfa3c8b0d15052fdf50ae9310b491027]\n",
       "link E8 to E7--><a href=\"psysml:27e0873a-b752-4942-bd7f-ca0670289346\" target=\"_top\" title=\"psysml:27e0873a-b752-4942-bd7f-ca0670289346\" xlink:actuate=\"onRequest\" xlink:href=\"psysml:27e0873a-b752-4942-bd7f-ca0670289346\" xlink:show=\"new\" xlink:title=\"psysml:27e0873a-b752-4942-bd7f-ca0670289346\" xlink:type=\"simple\"><path d=\"M129.28,133.5 C138.17,154.57 151.64,186.5 161.47,209.81 \" fill=\"none\" id=\"E8-&gt;E7\" style=\"stroke: #383838; stroke-width: 1.0; stroke-dasharray: 7.0,7.0;\"/><polygon fill=\"#383838\" points=\"164.66,217.35,164.3241,208.8126,158.7933,211.1385,164.66,217.35\" style=\"stroke: #383838; stroke-width: 1.0;\"/><text fill=\"#000000\" font-family=\"sans-serif\" font-size=\"13\" lengthAdjust=\"spacingAndGlyphs\" textLength=\"64\" x=\"151\" y=\"180.0669\">«depend»</text></a><!--MD5=[bd18e298ea8c72f96c9a7ec7b44dd067]\n",
       "@startuml\r\n",
       "skinparam linetype polyline\r\n",
       "skinparam monochrome true\r\n",
       "skinparam classbackgroundcolor white\r\n",
       "skinparam shadowing false\r\n",
       "skinparam wrapWidth 300\r\n",
       "hide circle\r\n",
       "\r\n",
       "package \"DependencyTest\" as E1  [[psysml:30d47011-2b84-418c-8f66-5b5fafd7ed2a ]]  {\r\n",
       "package \"System\" as E2  [[psysml:5fbdfa4d-cafa-4f51-92a0-0bd6c2ea6fbb ]]  {\r\n",
       "package \"Application Layer\" as E3  [[psysml:511969d3-37b8-4975-ad7d-d9be97a14b44 ]]  {\r\n",
       "}\r\n",
       "package \"Service Layer\" as E4  [[psysml:3811cf97-7daf-4e30-b445-d9788e80eae2 ]]  {\r\n",
       "}\r\n",
       "package \"Data Layer\" as E5  [[psysml:2c8fb347-f198-4aa6-806c-1c573edf927e ]]  {\r\n",
       "}\r\n",
       "}\r\n",
       "comp usage \"x \" as E6  <<(T,blue) attribute>> [[psysml:3d7e11a6-324b-4ff0-8a6c-08a58aad852d ]] {\r\n",
       "}\r\n",
       "comp usage \"y \" as E7  <<(T,blue) attribute>> [[psysml:07b9e1bd-21f7-4218-b4f9-b36b2d1ccf74 ]] {\r\n",
       "}\r\n",
       "comp usage \"z \" as E8  <<(T,blue) attribute>> [[psysml:44529a0f-a1ad-4493-b824-b4a46bdd708e ]] {\r\n",
       "}\r\n",
       "}\r\n",
       "E3 ..>> E4 [[psysml:973be101-d69f-4acb-a430-79bda88f318e ]] : <<depend>>\r\n",
       "E4 ..>> E5 [[psysml:418c7eed-60a4-47b0-a927-ef037a202312 ]] : <<depend>>\r\n",
       "E8 ..>> E6 [[psysml:27e0873a-b752-4942-bd7f-ca0670289346 ]] : <<depend>>\r\n",
       "E8 ..>> E7 [[psysml:27e0873a-b752-4942-bd7f-ca0670289346 ]] : <<depend>>\r\n",
       "@enduml\r\n",
       "\n",
       "PlantUML version 1.2020.13(Sat Jun 13 12:26:38 UTC 2020)\n",
       "(EPL source distribution)\n",
       "Java Runtime: OpenJDK Runtime Environment\n",
       "JVM: OpenJDK 64-Bit Server VM\n",
       "Default Encoding: UTF-8\n",
       "Language: en\n",
       "Country: null\n",
       "--></g></svg>"
      ]
     },
     "execution_count": 10,
     "metadata": {},
     "output_type": "execute_result"
    }
   ],
   "source": [
    "%viz --style=\"POLYLINE\" --view=\"Tree\" \"DependencyTest\""
   ]
  },
  {
   "cell_type": "code",
   "execution_count": 11,
   "id": "a7bb817b",
   "metadata": {
    "execution": {
     "iopub.execute_input": "2022-02-05T16:52:49.757360Z",
     "iopub.status.busy": "2022-02-05T16:52:49.756752Z",
     "iopub.status.idle": "2022-02-05T16:52:49.763169Z",
     "shell.execute_reply": "2022-02-05T16:52:49.763511Z"
    }
   },
   "outputs": [
    {
     "data": {
      "image/svg+xml": [
       "<?xml version=\"1.0\" encoding=\"UTF-8\" standalone=\"no\"?><svg xmlns=\"http://www.w3.org/2000/svg\" xmlns:xlink=\"http://www.w3.org/1999/xlink\" contentScriptType=\"application/ecmascript\" contentStyleType=\"text/css\" height=\"12px\" preserveAspectRatio=\"none\" style=\"width:12px;height:12px;\" version=\"1.1\" viewBox=\"0 0 12 12\" width=\"12px\" zoomAndPan=\"magnify\"><defs/><g><!--MD5=[896ac0e7a515d8dd7765a661cb4ee08b]\n",
       "@startuml\r\n",
       "skinparam linetype polyline\r\n",
       "skinparam monochrome true\r\n",
       "skinparam classbackgroundcolor white\r\n",
       "skinparam shadowing false\r\n",
       "skinparam wrapWidth 300\r\n",
       "hide circle\r\n",
       "\r\n",
       "@enduml\r\n",
       "\n",
       "PlantUML version 1.2020.13(Sat Jun 13 12:26:38 UTC 2020)\n",
       "(EPL source distribution)\n",
       "Java Runtime: OpenJDK Runtime Environment\n",
       "JVM: OpenJDK 64-Bit Server VM\n",
       "Default Encoding: UTF-8\n",
       "Language: en\n",
       "Country: null\n",
       "--></g></svg>"
      ]
     },
     "execution_count": 11,
     "metadata": {},
     "output_type": "execute_result"
    }
   ],
   "source": [
    "%viz --style=\"POLYLINE\" --view=\"State\" \"DependencyTest\""
   ]
  },
  {
   "cell_type": "code",
   "execution_count": 12,
   "id": "d973d2f3",
   "metadata": {
    "execution": {
     "iopub.execute_input": "2022-02-05T16:52:49.814000Z",
     "iopub.status.busy": "2022-02-05T16:52:49.813412Z",
     "iopub.status.idle": "2022-02-05T16:52:49.858876Z",
     "shell.execute_reply": "2022-02-05T16:52:49.858393Z"
    }
   },
   "outputs": [
    {
     "data": {
      "image/svg+xml": [
       "<?xml version=\"1.0\" encoding=\"UTF-8\" standalone=\"no\"?><svg xmlns=\"http://www.w3.org/2000/svg\" xmlns:xlink=\"http://www.w3.org/1999/xlink\" contentScriptType=\"application/ecmascript\" contentStyleType=\"text/css\" height=\"361px\" preserveAspectRatio=\"none\" style=\"width:469px;height:361px;\" version=\"1.1\" viewBox=\"0 0 469 361\" width=\"469px\" zoomAndPan=\"magnify\"><defs/><g><!--MD5=[fbc87193dbaf4d95561dea2c320d4a47]\n",
       "cluster E1--><a href=\"psysml:30d47011-2b84-418c-8f66-5b5fafd7ed2a\" target=\"_top\" title=\"psysml:30d47011-2b84-418c-8f66-5b5fafd7ed2a\" xlink:actuate=\"onRequest\" xlink:href=\"psysml:30d47011-2b84-418c-8f66-5b5fafd7ed2a\" xlink:show=\"new\" xlink:title=\"psysml:30d47011-2b84-418c-8f66-5b5fafd7ed2a\" xlink:type=\"simple\"><polygon fill=\"#FFFFFF\" points=\"16,6,142,6,149,28.2969,447,28.2969,447,349,16,349,16,6\" style=\"stroke: #000000; stroke-width: 1.5;\"/><line style=\"stroke: #000000; stroke-width: 1.5;\" x1=\"16\" x2=\"149\" y1=\"28.2969\" y2=\"28.2969\"/><text fill=\"#000000\" font-family=\"sans-serif\" font-size=\"14\" font-weight=\"bold\" lengthAdjust=\"spacingAndGlyphs\" textLength=\"120\" x=\"20\" y=\"20.9951\">DependencyTest</text></a><!--MD5=[e4f7fae6ed58524ba242bb0b0d3be6b7]\n",
       "cluster E2--><a href=\"psysml:5fbdfa4d-cafa-4f51-92a0-0bd6c2ea6fbb\" target=\"_top\" title=\"psysml:5fbdfa4d-cafa-4f51-92a0-0bd6c2ea6fbb\" xlink:actuate=\"onRequest\" xlink:href=\"psysml:5fbdfa4d-cafa-4f51-92a0-0bd6c2ea6fbb\" xlink:show=\"new\" xlink:title=\"psysml:5fbdfa4d-cafa-4f51-92a0-0bd6c2ea6fbb\" xlink:type=\"simple\"><polygon fill=\"#FFFFFF\" points=\"255,49,312,49,319,71.2969,423,71.2969,423,325,255,325,255,49\" style=\"stroke: #000000; stroke-width: 1.5;\"/><line style=\"stroke: #000000; stroke-width: 1.5;\" x1=\"255\" x2=\"319\" y1=\"71.2969\" y2=\"71.2969\"/><text fill=\"#000000\" font-family=\"sans-serif\" font-size=\"14\" font-weight=\"bold\" lengthAdjust=\"spacingAndGlyphs\" textLength=\"51\" x=\"259\" y=\"63.9951\">System</text></a><!--MD5=[60a26617385b1d2d0262a64233df1f8d]\n",
       "class E6--><a href=\"psysml:3d7e11a6-324b-4ff0-8a6c-08a58aad852d\" target=\"_top\" title=\"psysml:3d7e11a6-324b-4ff0-8a6c-08a58aad852d\" xlink:actuate=\"onRequest\" xlink:href=\"psysml:3d7e11a6-324b-4ff0-8a6c-08a58aad852d\" xlink:show=\"new\" xlink:title=\"psysml:3d7e11a6-324b-4ff0-8a6c-08a58aad852d\" xlink:type=\"simple\"><rect fill=\"#FFFFFF\" height=\"45.9375\" id=\"E6\" rx=\"10\" ry=\"10\" style=\"stroke: #383838; stroke-width: 1.5;\" width=\"71\" x=\"32.5\" y=\"173.5\"/><text fill=\"#000000\" font-family=\"sans-serif\" font-size=\"12\" font-style=\"italic\" lengthAdjust=\"spacingAndGlyphs\" textLength=\"69\" x=\"33.5\" y=\"189.6387\">«attribute»</text><text fill=\"#000000\" font-family=\"sans-serif\" font-size=\"12\" lengthAdjust=\"spacingAndGlyphs\" textLength=\"6\" x=\"63\" y=\"203.6074\">x</text><line style=\"stroke: #383838; stroke-width: 1.5;\" x1=\"33.5\" x2=\"102.5\" y1=\"211.4375\" y2=\"211.4375\"/></a><!--MD5=[2156ba9850f5573cc1fc38a6a4b2f02b]\n",
       "class E7--><a href=\"psysml:07b9e1bd-21f7-4218-b4f9-b36b2d1ccf74\" target=\"_top\" title=\"psysml:07b9e1bd-21f7-4218-b4f9-b36b2d1ccf74\" xlink:actuate=\"onRequest\" xlink:href=\"psysml:07b9e1bd-21f7-4218-b4f9-b36b2d1ccf74\" xlink:show=\"new\" xlink:title=\"psysml:07b9e1bd-21f7-4218-b4f9-b36b2d1ccf74\" xlink:type=\"simple\"><rect fill=\"#FFFFFF\" height=\"45.9375\" id=\"E7\" rx=\"10\" ry=\"10\" style=\"stroke: #383838; stroke-width: 1.5;\" width=\"71\" x=\"138.5\" y=\"173.5\"/><text fill=\"#000000\" font-family=\"sans-serif\" font-size=\"12\" font-style=\"italic\" lengthAdjust=\"spacingAndGlyphs\" textLength=\"69\" x=\"139.5\" y=\"189.6387\">«attribute»</text><text fill=\"#000000\" font-family=\"sans-serif\" font-size=\"12\" lengthAdjust=\"spacingAndGlyphs\" textLength=\"6\" x=\"169\" y=\"203.6074\">y</text><line style=\"stroke: #383838; stroke-width: 1.5;\" x1=\"139.5\" x2=\"208.5\" y1=\"211.4375\" y2=\"211.4375\"/></a><!--MD5=[b9389687b975829384b498ac4b7476b2]\n",
       "class E8--><a href=\"psysml:44529a0f-a1ad-4493-b824-b4a46bdd708e\" target=\"_top\" title=\"psysml:44529a0f-a1ad-4493-b824-b4a46bdd708e\" xlink:actuate=\"onRequest\" xlink:href=\"psysml:44529a0f-a1ad-4493-b824-b4a46bdd708e\" xlink:show=\"new\" xlink:title=\"psysml:44529a0f-a1ad-4493-b824-b4a46bdd708e\" xlink:type=\"simple\"><rect fill=\"#FFFFFF\" height=\"45.9375\" id=\"E8\" rx=\"10\" ry=\"10\" style=\"stroke: #383838; stroke-width: 1.5;\" width=\"71\" x=\"84.5\" y=\"87.5\"/><text fill=\"#000000\" font-family=\"sans-serif\" font-size=\"12\" font-style=\"italic\" lengthAdjust=\"spacingAndGlyphs\" textLength=\"69\" x=\"85.5\" y=\"103.6387\">«attribute»</text><text fill=\"#000000\" font-family=\"sans-serif\" font-size=\"12\" lengthAdjust=\"spacingAndGlyphs\" textLength=\"5\" x=\"115.5\" y=\"117.6074\">z</text><line style=\"stroke: #383838; stroke-width: 1.5;\" x1=\"85.5\" x2=\"154.5\" y1=\"125.4375\" y2=\"125.4375\"/></a><a href=\"psysml:511969d3-37b8-4975-ad7d-d9be97a14b44\" target=\"_top\" title=\"psysml:511969d3-37b8-4975-ad7d-d9be97a14b44\" xlink:actuate=\"onRequest\" xlink:href=\"psysml:511969d3-37b8-4975-ad7d-d9be97a14b44\" xlink:show=\"new\" xlink:title=\"psysml:511969d3-37b8-4975-ad7d-d9be97a14b44\" xlink:type=\"simple\"><polygon fill=\"#FFFFFF\" points=\"271.5,84,392.5,84,399.5,106.2969,406.5,106.2969,406.5,136.5938,271.5,136.5938,271.5,84\" style=\"stroke: #000000; stroke-width: 1.5;\"/><line style=\"stroke: #000000; stroke-width: 1.5;\" x1=\"271.5\" x2=\"399.5\" y1=\"106.2969\" y2=\"106.2969\"/><text fill=\"#000000\" font-family=\"sans-serif\" font-size=\"14\" font-weight=\"bold\" lengthAdjust=\"spacingAndGlyphs\" textLength=\"115\" x=\"275.5\" y=\"98.9951\">Application Layer</text></a><a href=\"psysml:3811cf97-7daf-4e30-b445-d9788e80eae2\" target=\"_top\" title=\"psysml:3811cf97-7daf-4e30-b445-d9788e80eae2\" xlink:actuate=\"onRequest\" xlink:href=\"psysml:3811cf97-7daf-4e30-b445-d9788e80eae2\" xlink:show=\"new\" xlink:title=\"psysml:3811cf97-7daf-4e30-b445-d9788e80eae2\" xlink:type=\"simple\"><polygon fill=\"#FFFFFF\" points=\"284,170,380,170,387,192.2969,394,192.2969,394,222.5938,284,222.5938,284,170\" style=\"stroke: #000000; stroke-width: 1.5;\"/><line style=\"stroke: #000000; stroke-width: 1.5;\" x1=\"284\" x2=\"387\" y1=\"192.2969\" y2=\"192.2969\"/><text fill=\"#000000\" font-family=\"sans-serif\" font-size=\"14\" font-weight=\"bold\" lengthAdjust=\"spacingAndGlyphs\" textLength=\"90\" x=\"288\" y=\"184.9951\">Service Layer</text></a><a href=\"psysml:2c8fb347-f198-4aa6-806c-1c573edf927e\" target=\"_top\" title=\"psysml:2c8fb347-f198-4aa6-806c-1c573edf927e\" xlink:actuate=\"onRequest\" xlink:href=\"psysml:2c8fb347-f198-4aa6-806c-1c573edf927e\" xlink:show=\"new\" xlink:title=\"psysml:2c8fb347-f198-4aa6-806c-1c573edf927e\" xlink:type=\"simple\"><polygon fill=\"#FFFFFF\" points=\"293,256,371,256,378,278.2969,385,278.2969,385,308.5938,293,308.5938,293,256\" style=\"stroke: #000000; stroke-width: 1.5;\"/><line style=\"stroke: #000000; stroke-width: 1.5;\" x1=\"293\" x2=\"378\" y1=\"278.2969\" y2=\"278.2969\"/><text fill=\"#000000\" font-family=\"sans-serif\" font-size=\"14\" font-weight=\"bold\" lengthAdjust=\"spacingAndGlyphs\" textLength=\"72\" x=\"297\" y=\"270.9951\">Data Layer</text></a><!--MD5=[af87c684e3b0d8be13c1a698a818ef1e]\n",
       "link E3 to E4--><a href=\"psysml:973be101-d69f-4acb-a430-79bda88f318e\" target=\"_top\" title=\"psysml:973be101-d69f-4acb-a430-79bda88f318e\" xlink:actuate=\"onRequest\" xlink:href=\"psysml:973be101-d69f-4acb-a430-79bda88f318e\" xlink:show=\"new\" xlink:title=\"psysml:973be101-d69f-4acb-a430-79bda88f318e\" xlink:type=\"simple\"><path d=\"M339,137.16 C339,144.98 339,153.69 339,161.94 \" fill=\"none\" id=\"E3-&gt;E4\" style=\"stroke: #383838; stroke-width: 1.0; stroke-dasharray: 7.0,7.0;\"/><polygon fill=\"#383838\" points=\"339,170,342,162,336,162,339,170\" style=\"stroke: #383838; stroke-width: 1.0;\"/><text fill=\"#000000\" font-family=\"sans-serif\" font-size=\"13\" lengthAdjust=\"spacingAndGlyphs\" textLength=\"64\" x=\"340\" y=\"158.0669\">«depend»</text></a><!--MD5=[1b7591eae5389033d8d09a9d6721a717]\n",
       "link E4 to E5--><a href=\"psysml:418c7eed-60a4-47b0-a927-ef037a202312\" target=\"_top\" title=\"psysml:418c7eed-60a4-47b0-a927-ef037a202312\" xlink:actuate=\"onRequest\" xlink:href=\"psysml:418c7eed-60a4-47b0-a927-ef037a202312\" xlink:show=\"new\" xlink:title=\"psysml:418c7eed-60a4-47b0-a927-ef037a202312\" xlink:type=\"simple\"><path d=\"M339,223.16 C339,230.98 339,239.69 339,247.94 \" fill=\"none\" id=\"E4-&gt;E5\" style=\"stroke: #383838; stroke-width: 1.0; stroke-dasharray: 7.0,7.0;\"/><polygon fill=\"#383838\" points=\"339,256,342,248,336,248,339,256\" style=\"stroke: #383838; stroke-width: 1.0;\"/><text fill=\"#000000\" font-family=\"sans-serif\" font-size=\"13\" lengthAdjust=\"spacingAndGlyphs\" textLength=\"64\" x=\"340\" y=\"244.0669\">«depend»</text></a><!--MD5=[c5e8897d989ce984f93528998a7150fe]\n",
       "link E8 to E6--><a href=\"psysml:27e0873a-b752-4942-bd7f-ca0670289346\" target=\"_top\" title=\"psysml:27e0873a-b752-4942-bd7f-ca0670289346\" xlink:actuate=\"onRequest\" xlink:href=\"psysml:27e0873a-b752-4942-bd7f-ca0670289346\" xlink:show=\"new\" xlink:title=\"psysml:27e0873a-b752-4942-bd7f-ca0670289346\" xlink:type=\"simple\"><path d=\"M84.22,132.91 C73.24,139.47 64,145 64,145 C64,145 64,162 64,162 C64,162 64.15,163.28 64.4,165.33 \" fill=\"none\" id=\"E8-&gt;E6\" style=\"stroke: #383838; stroke-width: 1.0; stroke-dasharray: 7.0,7.0;\"/><polygon fill=\"#383838\" points=\"65.35,173.34,67.3861,165.0421,61.4279,165.7494,65.35,173.34\" style=\"stroke: #383838; stroke-width: 1.0;\"/><text fill=\"#000000\" font-family=\"sans-serif\" font-size=\"13\" lengthAdjust=\"spacingAndGlyphs\" textLength=\"64\" x=\"65\" y=\"158.0669\">«depend»</text></a><!--MD5=[bfa3c8b0d15052fdf50ae9310b491027]\n",
       "link E8 to E7--><a href=\"psysml:27e0873a-b752-4942-bd7f-ca0670289346\" target=\"_top\" title=\"psysml:27e0873a-b752-4942-bd7f-ca0670289346\" xlink:actuate=\"onRequest\" xlink:href=\"psysml:27e0873a-b752-4942-bd7f-ca0670289346\" xlink:show=\"new\" xlink:title=\"psysml:27e0873a-b752-4942-bd7f-ca0670289346\" xlink:type=\"simple\"><path d=\"M134.19,133.57 C140.65,143.62 148.38,155.65 155.31,166.42 \" fill=\"none\" id=\"E8-&gt;E7\" style=\"stroke: #383838; stroke-width: 1.0; stroke-dasharray: 7.0,7.0;\"/><polygon fill=\"#383838\" points=\"159.72,173.29,157.9148,164.9389,152.8688,168.185,159.72,173.29\" style=\"stroke: #383838; stroke-width: 1.0;\"/><text fill=\"#000000\" font-family=\"sans-serif\" font-size=\"13\" lengthAdjust=\"spacingAndGlyphs\" textLength=\"64\" x=\"152\" y=\"158.0669\">«depend»</text></a><!--MD5=[06bb1d651afb01a0e8429962cc373b2d]\n",
       "@startuml\r\n",
       "skinparam ranksep 10\r\n",
       "skinparam rectangle {\r\n",
       " backgroundColor<<block>> LightGreen\r\n",
       "}\r\n",
       "skinparam linetype polyline\r\n",
       "skinparam monochrome true\r\n",
       "skinparam classbackgroundcolor white\r\n",
       "skinparam shadowing false\r\n",
       "skinparam wrapWidth 300\r\n",
       "hide circle\r\n",
       "\r\n",
       "package \"DependencyTest\" as E1  [[psysml:30d47011-2b84-418c-8f66-5b5fafd7ed2a ]]  {\r\n",
       "package \"System\" as E2  [[psysml:5fbdfa4d-cafa-4f51-92a0-0bd6c2ea6fbb ]]  {\r\n",
       "package \"Application Layer\" as E3  [[psysml:511969d3-37b8-4975-ad7d-d9be97a14b44 ]]  {\r\n",
       "}\r\n",
       "package \"Service Layer\" as E4  [[psysml:3811cf97-7daf-4e30-b445-d9788e80eae2 ]]  {\r\n",
       "}\r\n",
       "package \"Data Layer\" as E5  [[psysml:2c8fb347-f198-4aa6-806c-1c573edf927e ]]  {\r\n",
       "}\r\n",
       "}\r\n",
       "comp usage \"x \" as E6  <<(T,blue) attribute>> [[psysml:3d7e11a6-324b-4ff0-8a6c-08a58aad852d ]] {\r\n",
       "}\r\n",
       "comp usage \"y \" as E7  <<(T,blue) attribute>> [[psysml:07b9e1bd-21f7-4218-b4f9-b36b2d1ccf74 ]] {\r\n",
       "}\r\n",
       "comp usage \"z \" as E8  <<(T,blue) attribute>> [[psysml:44529a0f-a1ad-4493-b824-b4a46bdd708e ]] {\r\n",
       "}\r\n",
       "}\r\n",
       "E3 ..>> E4 [[psysml:973be101-d69f-4acb-a430-79bda88f318e ]] : <<depend>>\r\n",
       "E4 ..>> E5 [[psysml:418c7eed-60a4-47b0-a927-ef037a202312 ]] : <<depend>>\r\n",
       "E8 ..>> E6 [[psysml:27e0873a-b752-4942-bd7f-ca0670289346 ]] : <<depend>>\r\n",
       "E8 ..>> E7 [[psysml:27e0873a-b752-4942-bd7f-ca0670289346 ]] : <<depend>>\r\n",
       "@enduml\r\n",
       "\n",
       "PlantUML version 1.2020.13(Sat Jun 13 12:26:38 UTC 2020)\n",
       "(EPL source distribution)\n",
       "Java Runtime: OpenJDK Runtime Environment\n",
       "JVM: OpenJDK 64-Bit Server VM\n",
       "Default Encoding: UTF-8\n",
       "Language: en\n",
       "Country: null\n",
       "--></g></svg>"
      ]
     },
     "execution_count": 12,
     "metadata": {},
     "output_type": "execute_result"
    }
   ],
   "source": [
    "%viz --style=\"POLYLINE\" --view=\"Interconnection\" \"DependencyTest\""
   ]
  },
  {
   "cell_type": "code",
   "execution_count": 13,
   "id": "4af297b5",
   "metadata": {
    "execution": {
     "iopub.execute_input": "2022-02-05T16:52:49.907660Z",
     "iopub.status.busy": "2022-02-05T16:52:49.907368Z",
     "iopub.status.idle": "2022-02-05T16:52:49.912859Z",
     "shell.execute_reply": "2022-02-05T16:52:49.913032Z"
    }
   },
   "outputs": [
    {
     "data": {
      "image/svg+xml": [
       "<?xml version=\"1.0\" encoding=\"UTF-8\" standalone=\"no\"?><svg xmlns=\"http://www.w3.org/2000/svg\" xmlns:xlink=\"http://www.w3.org/1999/xlink\" contentScriptType=\"application/ecmascript\" contentStyleType=\"text/css\" height=\"12px\" preserveAspectRatio=\"none\" style=\"width:12px;height:12px;\" version=\"1.1\" viewBox=\"0 0 12 12\" width=\"12px\" zoomAndPan=\"magnify\"><defs/><g><!--MD5=[97bbf32f66ccd50cbc40d92ea8f5a65e]\n",
       "@startuml\r\n",
       "skinparam ranksep 8\r\n",
       "skinparam linetype polyline\r\n",
       "skinparam monochrome true\r\n",
       "skinparam classbackgroundcolor white\r\n",
       "skinparam shadowing false\r\n",
       "skinparam wrapWidth 300\r\n",
       "hide circle\r\n",
       "\r\n",
       "@enduml\r\n",
       "\n",
       "PlantUML version 1.2020.13(Sat Jun 13 12:26:38 UTC 2020)\n",
       "(EPL source distribution)\n",
       "Java Runtime: OpenJDK Runtime Environment\n",
       "JVM: OpenJDK 64-Bit Server VM\n",
       "Default Encoding: UTF-8\n",
       "Language: en\n",
       "Country: null\n",
       "--></g></svg>"
      ]
     },
     "execution_count": 13,
     "metadata": {},
     "output_type": "execute_result"
    }
   ],
   "source": [
    "%viz --style=\"POLYLINE\" --view=\"Action\" \"DependencyTest\""
   ]
  },
  {
   "cell_type": "code",
   "execution_count": 14,
   "id": "389dba5c",
   "metadata": {
    "execution": {
     "iopub.execute_input": "2022-02-05T16:52:49.964209Z",
     "iopub.status.busy": "2022-02-05T16:52:49.963608Z",
     "iopub.status.idle": "2022-02-05T16:52:49.969293Z",
     "shell.execute_reply": "2022-02-05T16:52:49.969622Z"
    }
   },
   "outputs": [
    {
     "data": {
      "image/svg+xml": [
       "<?xml version=\"1.0\" encoding=\"UTF-8\" standalone=\"no\"?><svg xmlns=\"http://www.w3.org/2000/svg\" xmlns:xlink=\"http://www.w3.org/1999/xlink\" contentScriptType=\"application/ecmascript\" contentStyleType=\"text/css\" height=\"12px\" preserveAspectRatio=\"none\" style=\"width:12px;height:12px;\" version=\"1.1\" viewBox=\"0 0 12 12\" width=\"12px\" zoomAndPan=\"magnify\"><defs/><g><!--MD5=[dc938048236c351797870c36b62f92ad]\n",
       "@startuml\r\n",
       "skinparam roundcorner 20\r\n",
       "skinparam BoxPadding 20\r\n",
       "skinparam SequenceBoxBackgroundColor #white\r\n",
       "skinparam style strictuml\r\n",
       "skinparam maxMessageSize 100\r\n",
       "skinparam linetype polyline\r\n",
       "skinparam monochrome true\r\n",
       "skinparam classbackgroundcolor white\r\n",
       "skinparam shadowing false\r\n",
       "skinparam wrapWidth 300\r\n",
       "hide circle\r\n",
       "\r\n",
       "@enduml\r\n",
       "\n",
       "PlantUML version 1.2020.13(Sat Jun 13 12:26:38 UTC 2020)\n",
       "(EPL source distribution)\n",
       "Java Runtime: OpenJDK Runtime Environment\n",
       "JVM: OpenJDK 64-Bit Server VM\n",
       "Default Encoding: UTF-8\n",
       "Language: en\n",
       "Country: null\n",
       "--></g></svg>"
      ]
     },
     "execution_count": 14,
     "metadata": {},
     "output_type": "execute_result"
    }
   ],
   "source": [
    "%viz --style=\"POLYLINE\" --view=\"Sequence\" \"DependencyTest\""
   ]
  },
  {
   "cell_type": "code",
   "execution_count": 15,
   "id": "560b56a2",
   "metadata": {
    "execution": {
     "iopub.execute_input": "2022-02-05T16:52:50.019663Z",
     "iopub.status.busy": "2022-02-05T16:52:50.019243Z",
     "iopub.status.idle": "2022-02-05T16:52:50.061280Z",
     "shell.execute_reply": "2022-02-05T16:52:50.060896Z"
    }
   },
   "outputs": [
    {
     "data": {
      "image/svg+xml": [
       "<?xml version=\"1.0\" encoding=\"UTF-8\" standalone=\"no\"?><svg xmlns=\"http://www.w3.org/2000/svg\" xmlns:xlink=\"http://www.w3.org/1999/xlink\" contentScriptType=\"application/ecmascript\" contentStyleType=\"text/css\" height=\"449px\" preserveAspectRatio=\"none\" style=\"width:469px;height:449px;\" version=\"1.1\" viewBox=\"0 0 469 449\" width=\"469px\" zoomAndPan=\"magnify\"><defs/><g><!--MD5=[fbc87193dbaf4d95561dea2c320d4a47]\n",
       "cluster E1--><a href=\"psysml:30d47011-2b84-418c-8f66-5b5fafd7ed2a\" target=\"_top\" title=\"psysml:30d47011-2b84-418c-8f66-5b5fafd7ed2a\" xlink:actuate=\"onRequest\" xlink:href=\"psysml:30d47011-2b84-418c-8f66-5b5fafd7ed2a\" xlink:show=\"new\" xlink:title=\"psysml:30d47011-2b84-418c-8f66-5b5fafd7ed2a\" xlink:type=\"simple\"><polygon fill=\"#FFFFFF\" points=\"16,6,142,6,149,28.2969,447,28.2969,447,437,16,437,16,6\" style=\"stroke: #000000; stroke-width: 1.5;\"/><line style=\"stroke: #000000; stroke-width: 1.5;\" x1=\"16\" x2=\"149\" y1=\"28.2969\" y2=\"28.2969\"/><text fill=\"#000000\" font-family=\"sans-serif\" font-size=\"14\" font-weight=\"bold\" lengthAdjust=\"spacingAndGlyphs\" textLength=\"120\" x=\"20\" y=\"20.9951\">DependencyTest</text></a><!--MD5=[e4f7fae6ed58524ba242bb0b0d3be6b7]\n",
       "cluster E2--><a href=\"psysml:5fbdfa4d-cafa-4f51-92a0-0bd6c2ea6fbb\" target=\"_top\" title=\"psysml:5fbdfa4d-cafa-4f51-92a0-0bd6c2ea6fbb\" xlink:actuate=\"onRequest\" xlink:href=\"psysml:5fbdfa4d-cafa-4f51-92a0-0bd6c2ea6fbb\" xlink:show=\"new\" xlink:title=\"psysml:5fbdfa4d-cafa-4f51-92a0-0bd6c2ea6fbb\" xlink:type=\"simple\"><polygon fill=\"#FFFFFF\" points=\"255,49,312,49,319,71.2969,423,71.2969,423,413,255,413,255,49\" style=\"stroke: #000000; stroke-width: 1.5;\"/><line style=\"stroke: #000000; stroke-width: 1.5;\" x1=\"255\" x2=\"319\" y1=\"71.2969\" y2=\"71.2969\"/><text fill=\"#000000\" font-family=\"sans-serif\" font-size=\"14\" font-weight=\"bold\" lengthAdjust=\"spacingAndGlyphs\" textLength=\"51\" x=\"259\" y=\"63.9951\">System</text></a><!--MD5=[60a26617385b1d2d0262a64233df1f8d]\n",
       "class E6--><a href=\"psysml:3d7e11a6-324b-4ff0-8a6c-08a58aad852d\" target=\"_top\" title=\"psysml:3d7e11a6-324b-4ff0-8a6c-08a58aad852d\" xlink:actuate=\"onRequest\" xlink:href=\"psysml:3d7e11a6-324b-4ff0-8a6c-08a58aad852d\" xlink:show=\"new\" xlink:title=\"psysml:3d7e11a6-324b-4ff0-8a6c-08a58aad852d\" xlink:type=\"simple\"><rect fill=\"#FFFFFF\" height=\"45.9375\" id=\"E6\" rx=\"10\" ry=\"10\" style=\"stroke: #383838; stroke-width: 1.5;\" width=\"71\" x=\"32.5\" y=\"217.5\"/><text fill=\"#000000\" font-family=\"sans-serif\" font-size=\"12\" font-style=\"italic\" lengthAdjust=\"spacingAndGlyphs\" textLength=\"69\" x=\"33.5\" y=\"233.6387\">«attribute»</text><text fill=\"#000000\" font-family=\"sans-serif\" font-size=\"12\" lengthAdjust=\"spacingAndGlyphs\" textLength=\"6\" x=\"63\" y=\"247.6074\">x</text><line style=\"stroke: #383838; stroke-width: 1.5;\" x1=\"33.5\" x2=\"102.5\" y1=\"255.4375\" y2=\"255.4375\"/></a><!--MD5=[2156ba9850f5573cc1fc38a6a4b2f02b]\n",
       "class E7--><a href=\"psysml:07b9e1bd-21f7-4218-b4f9-b36b2d1ccf74\" target=\"_top\" title=\"psysml:07b9e1bd-21f7-4218-b4f9-b36b2d1ccf74\" xlink:actuate=\"onRequest\" xlink:href=\"psysml:07b9e1bd-21f7-4218-b4f9-b36b2d1ccf74\" xlink:show=\"new\" xlink:title=\"psysml:07b9e1bd-21f7-4218-b4f9-b36b2d1ccf74\" xlink:type=\"simple\"><rect fill=\"#FFFFFF\" height=\"45.9375\" id=\"E7\" rx=\"10\" ry=\"10\" style=\"stroke: #383838; stroke-width: 1.5;\" width=\"71\" x=\"138.5\" y=\"217.5\"/><text fill=\"#000000\" font-family=\"sans-serif\" font-size=\"12\" font-style=\"italic\" lengthAdjust=\"spacingAndGlyphs\" textLength=\"69\" x=\"139.5\" y=\"233.6387\">«attribute»</text><text fill=\"#000000\" font-family=\"sans-serif\" font-size=\"12\" lengthAdjust=\"spacingAndGlyphs\" textLength=\"6\" x=\"169\" y=\"247.6074\">y</text><line style=\"stroke: #383838; stroke-width: 1.5;\" x1=\"139.5\" x2=\"208.5\" y1=\"255.4375\" y2=\"255.4375\"/></a><!--MD5=[b9389687b975829384b498ac4b7476b2]\n",
       "class E8--><a href=\"psysml:44529a0f-a1ad-4493-b824-b4a46bdd708e\" target=\"_top\" title=\"psysml:44529a0f-a1ad-4493-b824-b4a46bdd708e\" xlink:actuate=\"onRequest\" xlink:href=\"psysml:44529a0f-a1ad-4493-b824-b4a46bdd708e\" xlink:show=\"new\" xlink:title=\"psysml:44529a0f-a1ad-4493-b824-b4a46bdd708e\" xlink:type=\"simple\"><rect fill=\"#FFFFFF\" height=\"45.9375\" id=\"E8\" rx=\"10\" ry=\"10\" style=\"stroke: #383838; stroke-width: 1.5;\" width=\"71\" x=\"84.5\" y=\"87.5\"/><text fill=\"#000000\" font-family=\"sans-serif\" font-size=\"12\" font-style=\"italic\" lengthAdjust=\"spacingAndGlyphs\" textLength=\"69\" x=\"85.5\" y=\"103.6387\">«attribute»</text><text fill=\"#000000\" font-family=\"sans-serif\" font-size=\"12\" lengthAdjust=\"spacingAndGlyphs\" textLength=\"5\" x=\"115.5\" y=\"117.6074\">z</text><line style=\"stroke: #383838; stroke-width: 1.5;\" x1=\"85.5\" x2=\"154.5\" y1=\"125.4375\" y2=\"125.4375\"/></a><a href=\"psysml:511969d3-37b8-4975-ad7d-d9be97a14b44\" target=\"_top\" title=\"psysml:511969d3-37b8-4975-ad7d-d9be97a14b44\" xlink:actuate=\"onRequest\" xlink:href=\"psysml:511969d3-37b8-4975-ad7d-d9be97a14b44\" xlink:show=\"new\" xlink:title=\"psysml:511969d3-37b8-4975-ad7d-d9be97a14b44\" xlink:type=\"simple\"><polygon fill=\"#FFFFFF\" points=\"271.5,84,392.5,84,399.5,106.2969,406.5,106.2969,406.5,136.5938,271.5,136.5938,271.5,84\" style=\"stroke: #000000; stroke-width: 1.5;\"/><line style=\"stroke: #000000; stroke-width: 1.5;\" x1=\"271.5\" x2=\"399.5\" y1=\"106.2969\" y2=\"106.2969\"/><text fill=\"#000000\" font-family=\"sans-serif\" font-size=\"14\" font-weight=\"bold\" lengthAdjust=\"spacingAndGlyphs\" textLength=\"115\" x=\"275.5\" y=\"98.9951\">Application Layer</text></a><a href=\"psysml:3811cf97-7daf-4e30-b445-d9788e80eae2\" target=\"_top\" title=\"psysml:3811cf97-7daf-4e30-b445-d9788e80eae2\" xlink:actuate=\"onRequest\" xlink:href=\"psysml:3811cf97-7daf-4e30-b445-d9788e80eae2\" xlink:show=\"new\" xlink:title=\"psysml:3811cf97-7daf-4e30-b445-d9788e80eae2\" xlink:type=\"simple\"><polygon fill=\"#FFFFFF\" points=\"284,214,380,214,387,236.2969,394,236.2969,394,266.5938,284,266.5938,284,214\" style=\"stroke: #000000; stroke-width: 1.5;\"/><line style=\"stroke: #000000; stroke-width: 1.5;\" x1=\"284\" x2=\"387\" y1=\"236.2969\" y2=\"236.2969\"/><text fill=\"#000000\" font-family=\"sans-serif\" font-size=\"14\" font-weight=\"bold\" lengthAdjust=\"spacingAndGlyphs\" textLength=\"90\" x=\"288\" y=\"228.9951\">Service Layer</text></a><a href=\"psysml:2c8fb347-f198-4aa6-806c-1c573edf927e\" target=\"_top\" title=\"psysml:2c8fb347-f198-4aa6-806c-1c573edf927e\" xlink:actuate=\"onRequest\" xlink:href=\"psysml:2c8fb347-f198-4aa6-806c-1c573edf927e\" xlink:show=\"new\" xlink:title=\"psysml:2c8fb347-f198-4aa6-806c-1c573edf927e\" xlink:type=\"simple\"><polygon fill=\"#FFFFFF\" points=\"293,344,371,344,378,366.2969,385,366.2969,385,396.5938,293,396.5938,293,344\" style=\"stroke: #000000; stroke-width: 1.5;\"/><line style=\"stroke: #000000; stroke-width: 1.5;\" x1=\"293\" x2=\"378\" y1=\"366.2969\" y2=\"366.2969\"/><text fill=\"#000000\" font-family=\"sans-serif\" font-size=\"14\" font-weight=\"bold\" lengthAdjust=\"spacingAndGlyphs\" textLength=\"72\" x=\"297\" y=\"358.9951\">Data Layer</text></a><!--MD5=[af87c684e3b0d8be13c1a698a818ef1e]\n",
       "link E3 to E4--><a href=\"psysml:973be101-d69f-4acb-a430-79bda88f318e\" target=\"_top\" title=\"psysml:973be101-d69f-4acb-a430-79bda88f318e\" xlink:actuate=\"onRequest\" xlink:href=\"psysml:973be101-d69f-4acb-a430-79bda88f318e\" xlink:show=\"new\" xlink:title=\"psysml:973be101-d69f-4acb-a430-79bda88f318e\" xlink:type=\"simple\"><path d=\"M339,137.1 C339,156.8 339,184.22 339,205.73 \" fill=\"none\" id=\"E3-&gt;E4\" style=\"stroke: #383838; stroke-width: 1.0; stroke-dasharray: 7.0,7.0;\"/><polygon fill=\"#383838\" points=\"339,213.95,342,205.95,336,205.95,339,213.95\" style=\"stroke: #383838; stroke-width: 1.0;\"/><text fill=\"#000000\" font-family=\"sans-serif\" font-size=\"13\" lengthAdjust=\"spacingAndGlyphs\" textLength=\"64\" x=\"340\" y=\"180.0669\">«depend»</text></a><!--MD5=[1b7591eae5389033d8d09a9d6721a717]\n",
       "link E4 to E5--><a href=\"psysml:418c7eed-60a4-47b0-a927-ef037a202312\" target=\"_top\" title=\"psysml:418c7eed-60a4-47b0-a927-ef037a202312\" xlink:actuate=\"onRequest\" xlink:href=\"psysml:418c7eed-60a4-47b0-a927-ef037a202312\" xlink:show=\"new\" xlink:title=\"psysml:418c7eed-60a4-47b0-a927-ef037a202312\" xlink:type=\"simple\"><path d=\"M339,267.1 C339,286.8 339,314.22 339,335.73 \" fill=\"none\" id=\"E4-&gt;E5\" style=\"stroke: #383838; stroke-width: 1.0; stroke-dasharray: 7.0,7.0;\"/><polygon fill=\"#383838\" points=\"339,343.95,342,335.95,336,335.95,339,343.95\" style=\"stroke: #383838; stroke-width: 1.0;\"/><text fill=\"#000000\" font-family=\"sans-serif\" font-size=\"13\" lengthAdjust=\"spacingAndGlyphs\" textLength=\"64\" x=\"340\" y=\"310.0669\">«depend»</text></a><!--MD5=[c5e8897d989ce984f93528998a7150fe]\n",
       "link E8 to E6--><a href=\"psysml:27e0873a-b752-4942-bd7f-ca0670289346\" target=\"_top\" title=\"psysml:27e0873a-b752-4942-bd7f-ca0670289346\" xlink:actuate=\"onRequest\" xlink:href=\"psysml:27e0873a-b752-4942-bd7f-ca0670289346\" xlink:show=\"new\" xlink:title=\"psysml:27e0873a-b752-4942-bd7f-ca0670289346\" xlink:type=\"simple\"><path d=\"M97.55,133.75 C81.97,149.19 64,167 64,167 C64,167 64,184 64,184 C64,184 64.88,196.21 65.81,209.18 \" fill=\"none\" id=\"E8-&gt;E6\" style=\"stroke: #383838; stroke-width: 1.0; stroke-dasharray: 7.0,7.0;\"/><polygon fill=\"#383838\" points=\"66.4,217.25,68.8203,209.056,62.8357,209.485,66.4,217.25\" style=\"stroke: #383838; stroke-width: 1.0;\"/><text fill=\"#000000\" font-family=\"sans-serif\" font-size=\"13\" lengthAdjust=\"spacingAndGlyphs\" textLength=\"64\" x=\"65\" y=\"180.0669\">«depend»</text></a><!--MD5=[bfa3c8b0d15052fdf50ae9310b491027]\n",
       "link E8 to E7--><a href=\"psysml:27e0873a-b752-4942-bd7f-ca0670289346\" target=\"_top\" title=\"psysml:27e0873a-b752-4942-bd7f-ca0670289346\" xlink:actuate=\"onRequest\" xlink:href=\"psysml:27e0873a-b752-4942-bd7f-ca0670289346\" xlink:show=\"new\" xlink:title=\"psysml:27e0873a-b752-4942-bd7f-ca0670289346\" xlink:type=\"simple\"><path d=\"M129.28,133.5 C138.17,154.57 151.64,186.5 161.47,209.81 \" fill=\"none\" id=\"E8-&gt;E7\" style=\"stroke: #383838; stroke-width: 1.0; stroke-dasharray: 7.0,7.0;\"/><polygon fill=\"#383838\" points=\"164.66,217.35,164.3241,208.8126,158.7933,211.1385,164.66,217.35\" style=\"stroke: #383838; stroke-width: 1.0;\"/><text fill=\"#000000\" font-family=\"sans-serif\" font-size=\"13\" lengthAdjust=\"spacingAndGlyphs\" textLength=\"64\" x=\"151\" y=\"180.0669\">«depend»</text></a><!--MD5=[bd18e298ea8c72f96c9a7ec7b44dd067]\n",
       "@startuml\r\n",
       "skinparam linetype polyline\r\n",
       "skinparam monochrome true\r\n",
       "skinparam classbackgroundcolor white\r\n",
       "skinparam shadowing false\r\n",
       "skinparam wrapWidth 300\r\n",
       "hide circle\r\n",
       "\r\n",
       "package \"DependencyTest\" as E1  [[psysml:30d47011-2b84-418c-8f66-5b5fafd7ed2a ]]  {\r\n",
       "package \"System\" as E2  [[psysml:5fbdfa4d-cafa-4f51-92a0-0bd6c2ea6fbb ]]  {\r\n",
       "package \"Application Layer\" as E3  [[psysml:511969d3-37b8-4975-ad7d-d9be97a14b44 ]]  {\r\n",
       "}\r\n",
       "package \"Service Layer\" as E4  [[psysml:3811cf97-7daf-4e30-b445-d9788e80eae2 ]]  {\r\n",
       "}\r\n",
       "package \"Data Layer\" as E5  [[psysml:2c8fb347-f198-4aa6-806c-1c573edf927e ]]  {\r\n",
       "}\r\n",
       "}\r\n",
       "comp usage \"x \" as E6  <<(T,blue) attribute>> [[psysml:3d7e11a6-324b-4ff0-8a6c-08a58aad852d ]] {\r\n",
       "}\r\n",
       "comp usage \"y \" as E7  <<(T,blue) attribute>> [[psysml:07b9e1bd-21f7-4218-b4f9-b36b2d1ccf74 ]] {\r\n",
       "}\r\n",
       "comp usage \"z \" as E8  <<(T,blue) attribute>> [[psysml:44529a0f-a1ad-4493-b824-b4a46bdd708e ]] {\r\n",
       "}\r\n",
       "}\r\n",
       "E3 ..>> E4 [[psysml:973be101-d69f-4acb-a430-79bda88f318e ]] : <<depend>>\r\n",
       "E4 ..>> E5 [[psysml:418c7eed-60a4-47b0-a927-ef037a202312 ]] : <<depend>>\r\n",
       "E8 ..>> E6 [[psysml:27e0873a-b752-4942-bd7f-ca0670289346 ]] : <<depend>>\r\n",
       "E8 ..>> E7 [[psysml:27e0873a-b752-4942-bd7f-ca0670289346 ]] : <<depend>>\r\n",
       "@enduml\r\n",
       "\n",
       "PlantUML version 1.2020.13(Sat Jun 13 12:26:38 UTC 2020)\n",
       "(EPL source distribution)\n",
       "Java Runtime: OpenJDK Runtime Environment\n",
       "JVM: OpenJDK 64-Bit Server VM\n",
       "Default Encoding: UTF-8\n",
       "Language: en\n",
       "Country: null\n",
       "--></g></svg>"
      ]
     },
     "execution_count": 15,
     "metadata": {},
     "output_type": "execute_result"
    }
   ],
   "source": [
    "%viz --style=\"POLYLINE\" --view=\"MIXED\" \"DependencyTest\""
   ]
  },
  {
   "cell_type": "code",
   "execution_count": 16,
   "id": "5de9d842",
   "metadata": {
    "execution": {
     "iopub.execute_input": "2022-02-05T16:52:50.110728Z",
     "iopub.status.busy": "2022-02-05T16:52:50.110312Z",
     "iopub.status.idle": "2022-02-05T16:52:50.152754Z",
     "shell.execute_reply": "2022-02-05T16:52:50.150848Z"
    }
   },
   "outputs": [
    {
     "data": {
      "image/svg+xml": [
       "<?xml version=\"1.0\" encoding=\"UTF-8\" standalone=\"no\"?><svg xmlns=\"http://www.w3.org/2000/svg\" xmlns:xlink=\"http://www.w3.org/1999/xlink\" contentScriptType=\"application/ecmascript\" contentStyleType=\"text/css\" height=\"328px\" preserveAspectRatio=\"none\" style=\"width:707px;height:328px;\" version=\"1.1\" viewBox=\"0 0 707 328\" width=\"707px\" zoomAndPan=\"magnify\"><defs/><g><!--MD5=[fbc87193dbaf4d95561dea2c320d4a47]\n",
       "cluster E1--><a href=\"psysml:30d47011-2b84-418c-8f66-5b5fafd7ed2a\" target=\"_top\" title=\"psysml:30d47011-2b84-418c-8f66-5b5fafd7ed2a\" xlink:actuate=\"onRequest\" xlink:href=\"psysml:30d47011-2b84-418c-8f66-5b5fafd7ed2a\" xlink:show=\"new\" xlink:title=\"psysml:30d47011-2b84-418c-8f66-5b5fafd7ed2a\" xlink:type=\"simple\"><polygon fill=\"#FFFFFF\" points=\"16,6,142,6,149,28.2969,685,28.2969,685,316,16,316,16,6\" style=\"stroke: #000000; stroke-width: 1.5;\"/><line style=\"stroke: #000000; stroke-width: 1.5;\" x1=\"16\" x2=\"149\" y1=\"28.2969\" y2=\"28.2969\"/><text fill=\"#000000\" font-family=\"sans-serif\" font-size=\"14\" font-weight=\"bold\" lengthAdjust=\"spacingAndGlyphs\" textLength=\"120\" x=\"20\" y=\"20.9951\">DependencyTest</text></a><!--MD5=[e4f7fae6ed58524ba242bb0b0d3be6b7]\n",
       "cluster E2--><a href=\"psysml:5fbdfa4d-cafa-4f51-92a0-0bd6c2ea6fbb\" target=\"_top\" title=\"psysml:5fbdfa4d-cafa-4f51-92a0-0bd6c2ea6fbb\" xlink:actuate=\"onRequest\" xlink:href=\"psysml:5fbdfa4d-cafa-4f51-92a0-0bd6c2ea6fbb\" xlink:show=\"new\" xlink:title=\"psysml:5fbdfa4d-cafa-4f51-92a0-0bd6c2ea6fbb\" xlink:type=\"simple\"><polygon fill=\"#FFFFFF\" points=\"40,49,97,49,104,71.2969,661,71.2969,661,154,40,154,40,49\" style=\"stroke: #000000; stroke-width: 1.5;\"/><line style=\"stroke: #000000; stroke-width: 1.5;\" x1=\"40\" x2=\"104\" y1=\"71.2969\" y2=\"71.2969\"/><text fill=\"#000000\" font-family=\"sans-serif\" font-size=\"14\" font-weight=\"bold\" lengthAdjust=\"spacingAndGlyphs\" textLength=\"51\" x=\"44\" y=\"63.9951\">System</text></a><!--MD5=[60a26617385b1d2d0262a64233df1f8d]\n",
       "class E6--><a href=\"psysml:3d7e11a6-324b-4ff0-8a6c-08a58aad852d\" target=\"_top\" title=\"psysml:3d7e11a6-324b-4ff0-8a6c-08a58aad852d\" xlink:actuate=\"onRequest\" xlink:href=\"psysml:3d7e11a6-324b-4ff0-8a6c-08a58aad852d\" xlink:show=\"new\" xlink:title=\"psysml:3d7e11a6-324b-4ff0-8a6c-08a58aad852d\" xlink:type=\"simple\"><rect fill=\"#FFFFFF\" height=\"45.9375\" id=\"E6\" rx=\"10\" ry=\"10\" style=\"stroke: #383838; stroke-width: 1.5;\" width=\"71\" x=\"336.5\" y=\"254\"/><text fill=\"#000000\" font-family=\"sans-serif\" font-size=\"12\" font-style=\"italic\" lengthAdjust=\"spacingAndGlyphs\" textLength=\"69\" x=\"337.5\" y=\"270.1387\">«attribute»</text><text fill=\"#000000\" font-family=\"sans-serif\" font-size=\"12\" lengthAdjust=\"spacingAndGlyphs\" textLength=\"6\" x=\"367\" y=\"284.1074\">x</text><line style=\"stroke: #383838; stroke-width: 1.5;\" x1=\"337.5\" x2=\"406.5\" y1=\"291.9375\" y2=\"291.9375\"/></a><!--MD5=[2156ba9850f5573cc1fc38a6a4b2f02b]\n",
       "class E7--><a href=\"psysml:07b9e1bd-21f7-4218-b4f9-b36b2d1ccf74\" target=\"_top\" title=\"psysml:07b9e1bd-21f7-4218-b4f9-b36b2d1ccf74\" xlink:actuate=\"onRequest\" xlink:href=\"psysml:07b9e1bd-21f7-4218-b4f9-b36b2d1ccf74\" xlink:show=\"new\" xlink:title=\"psysml:07b9e1bd-21f7-4218-b4f9-b36b2d1ccf74\" xlink:type=\"simple\"><rect fill=\"#FFFFFF\" height=\"45.9375\" id=\"E7\" rx=\"10\" ry=\"10\" style=\"stroke: #383838; stroke-width: 1.5;\" width=\"71\" x=\"336.5\" y=\"173\"/><text fill=\"#000000\" font-family=\"sans-serif\" font-size=\"12\" font-style=\"italic\" lengthAdjust=\"spacingAndGlyphs\" textLength=\"69\" x=\"337.5\" y=\"189.1387\">«attribute»</text><text fill=\"#000000\" font-family=\"sans-serif\" font-size=\"12\" lengthAdjust=\"spacingAndGlyphs\" textLength=\"6\" x=\"367\" y=\"203.1074\">y</text><line style=\"stroke: #383838; stroke-width: 1.5;\" x1=\"337.5\" x2=\"406.5\" y1=\"210.9375\" y2=\"210.9375\"/></a><!--MD5=[b9389687b975829384b498ac4b7476b2]\n",
       "class E8--><a href=\"psysml:44529a0f-a1ad-4493-b824-b4a46bdd708e\" target=\"_top\" title=\"psysml:44529a0f-a1ad-4493-b824-b4a46bdd708e\" xlink:actuate=\"onRequest\" xlink:href=\"psysml:44529a0f-a1ad-4493-b824-b4a46bdd708e\" xlink:show=\"new\" xlink:title=\"psysml:44529a0f-a1ad-4493-b824-b4a46bdd708e\" xlink:type=\"simple\"><rect fill=\"#FFFFFF\" height=\"45.9375\" id=\"E8\" rx=\"10\" ry=\"10\" style=\"stroke: #383838; stroke-width: 1.5;\" width=\"71\" x=\"88\" y=\"206\"/><text fill=\"#000000\" font-family=\"sans-serif\" font-size=\"12\" font-style=\"italic\" lengthAdjust=\"spacingAndGlyphs\" textLength=\"69\" x=\"89\" y=\"222.1387\">«attribute»</text><text fill=\"#000000\" font-family=\"sans-serif\" font-size=\"12\" lengthAdjust=\"spacingAndGlyphs\" textLength=\"5\" x=\"119\" y=\"236.1074\">z</text><line style=\"stroke: #383838; stroke-width: 1.5;\" x1=\"89\" x2=\"158\" y1=\"243.9375\" y2=\"243.9375\"/></a><a href=\"psysml:511969d3-37b8-4975-ad7d-d9be97a14b44\" target=\"_top\" title=\"psysml:511969d3-37b8-4975-ad7d-d9be97a14b44\" xlink:actuate=\"onRequest\" xlink:href=\"psysml:511969d3-37b8-4975-ad7d-d9be97a14b44\" xlink:show=\"new\" xlink:title=\"psysml:511969d3-37b8-4975-ad7d-d9be97a14b44\" xlink:type=\"simple\"><polygon fill=\"#FFFFFF\" points=\"56,84.5,177,84.5,184,106.7969,191,106.7969,191,137.0938,56,137.0938,56,84.5\" style=\"stroke: #000000; stroke-width: 1.5;\"/><line style=\"stroke: #000000; stroke-width: 1.5;\" x1=\"56\" x2=\"184\" y1=\"106.7969\" y2=\"106.7969\"/><text fill=\"#000000\" font-family=\"sans-serif\" font-size=\"14\" font-weight=\"bold\" lengthAdjust=\"spacingAndGlyphs\" textLength=\"115\" x=\"60\" y=\"99.4951\">Application Layer</text></a><a href=\"psysml:3811cf97-7daf-4e30-b445-d9788e80eae2\" target=\"_top\" title=\"psysml:3811cf97-7daf-4e30-b445-d9788e80eae2\" xlink:actuate=\"onRequest\" xlink:href=\"psysml:3811cf97-7daf-4e30-b445-d9788e80eae2\" xlink:show=\"new\" xlink:title=\"psysml:3811cf97-7daf-4e30-b445-d9788e80eae2\" xlink:type=\"simple\"><polygon fill=\"#FFFFFF\" points=\"317,84.5,413,84.5,420,106.7969,427,106.7969,427,137.0938,317,137.0938,317,84.5\" style=\"stroke: #000000; stroke-width: 1.5;\"/><line style=\"stroke: #000000; stroke-width: 1.5;\" x1=\"317\" x2=\"420\" y1=\"106.7969\" y2=\"106.7969\"/><text fill=\"#000000\" font-family=\"sans-serif\" font-size=\"14\" font-weight=\"bold\" lengthAdjust=\"spacingAndGlyphs\" textLength=\"90\" x=\"321\" y=\"99.4951\">Service Layer</text></a><a href=\"psysml:2c8fb347-f198-4aa6-806c-1c573edf927e\" target=\"_top\" title=\"psysml:2c8fb347-f198-4aa6-806c-1c573edf927e\" xlink:actuate=\"onRequest\" xlink:href=\"psysml:2c8fb347-f198-4aa6-806c-1c573edf927e\" xlink:show=\"new\" xlink:title=\"psysml:2c8fb347-f198-4aa6-806c-1c573edf927e\" xlink:type=\"simple\"><polygon fill=\"#FFFFFF\" points=\"553,84.5,631,84.5,638,106.7969,645,106.7969,645,137.0938,553,137.0938,553,84.5\" style=\"stroke: #000000; stroke-width: 1.5;\"/><line style=\"stroke: #000000; stroke-width: 1.5;\" x1=\"553\" x2=\"638\" y1=\"106.7969\" y2=\"106.7969\"/><text fill=\"#000000\" font-family=\"sans-serif\" font-size=\"14\" font-weight=\"bold\" lengthAdjust=\"spacingAndGlyphs\" textLength=\"72\" x=\"557\" y=\"99.4951\">Data Layer</text></a><!--MD5=[af87c684e3b0d8be13c1a698a818ef1e]\n",
       "link E3 to E4--><a href=\"psysml:973be101-d69f-4acb-a430-79bda88f318e\" target=\"_top\" title=\"psysml:973be101-d69f-4acb-a430-79bda88f318e\" xlink:actuate=\"onRequest\" xlink:href=\"psysml:973be101-d69f-4acb-a430-79bda88f318e\" xlink:show=\"new\" xlink:title=\"psysml:973be101-d69f-4acb-a430-79bda88f318e\" xlink:type=\"simple\"><path d=\"M191.21,111 C227.64,111 272.49,111 308.28,111 \" fill=\"none\" id=\"E3-&gt;E4\" style=\"stroke: #383838; stroke-width: 1.0; stroke-dasharray: 7.0,7.0;\"/><polygon fill=\"#383838\" points=\"316.7,111,308.7,108,308.7,114,316.7,111\" style=\"stroke: #383838; stroke-width: 1.0;\"/><text fill=\"#000000\" font-family=\"sans-serif\" font-size=\"13\" lengthAdjust=\"spacingAndGlyphs\" textLength=\"64\" x=\"222\" y=\"107.0669\">«depend»</text></a><!--MD5=[1b7591eae5389033d8d09a9d6721a717]\n",
       "link E4 to E5--><a href=\"psysml:418c7eed-60a4-47b0-a927-ef037a202312\" target=\"_top\" title=\"psysml:418c7eed-60a4-47b0-a927-ef037a202312\" xlink:actuate=\"onRequest\" xlink:href=\"psysml:418c7eed-60a4-47b0-a927-ef037a202312\" xlink:show=\"new\" xlink:title=\"psysml:418c7eed-60a4-47b0-a927-ef037a202312\" xlink:type=\"simple\"><path d=\"M427.18,111 C462.81,111 509.24,111 544.69,111 \" fill=\"none\" id=\"E4-&gt;E5\" style=\"stroke: #383838; stroke-width: 1.0; stroke-dasharray: 7.0,7.0;\"/><polygon fill=\"#383838\" points=\"553,111,545,108,545,114,553,111\" style=\"stroke: #383838; stroke-width: 1.0;\"/><text fill=\"#000000\" font-family=\"sans-serif\" font-size=\"13\" lengthAdjust=\"spacingAndGlyphs\" textLength=\"64\" x=\"458\" y=\"107.0669\">«depend»</text></a><!--MD5=[c5e8897d989ce984f93528998a7150fe]\n",
       "link E8 to E6--><a href=\"psysml:27e0873a-b752-4942-bd7f-ca0670289346\" target=\"_top\" title=\"psysml:27e0873a-b752-4942-bd7f-ca0670289346\" xlink:actuate=\"onRequest\" xlink:href=\"psysml:27e0873a-b752-4942-bd7f-ca0670289346\" xlink:show=\"new\" xlink:title=\"psysml:27e0873a-b752-4942-bd7f-ca0670289346\" xlink:type=\"simple\"><path d=\"M159.03,235.72 C203.37,244.36 280.3,259.34 328.28,268.68 \" fill=\"none\" id=\"E8-&gt;E6\" style=\"stroke: #383838; stroke-width: 1.0; stroke-dasharray: 7.0,7.0;\"/><polygon fill=\"#383838\" points=\"336.3,270.24,329.0216,265.765,327.8738,271.6542,336.3,270.24\" style=\"stroke: #383838; stroke-width: 1.0;\"/><text fill=\"#000000\" font-family=\"sans-serif\" font-size=\"13\" lengthAdjust=\"spacingAndGlyphs\" textLength=\"64\" x=\"222\" y=\"245.0669\">«depend»</text></a><!--MD5=[bfa3c8b0d15052fdf50ae9310b491027]\n",
       "link E8 to E7--><a href=\"psysml:27e0873a-b752-4942-bd7f-ca0670289346\" target=\"_top\" title=\"psysml:27e0873a-b752-4942-bd7f-ca0670289346\" xlink:actuate=\"onRequest\" xlink:href=\"psysml:27e0873a-b752-4942-bd7f-ca0670289346\" xlink:show=\"new\" xlink:title=\"psysml:27e0873a-b752-4942-bd7f-ca0670289346\" xlink:type=\"simple\"><path d=\"M159.03,224.38 C203.37,218.44 280.3,208.14 328.28,201.72 \" fill=\"none\" id=\"E8-&gt;E7\" style=\"stroke: #383838; stroke-width: 1.0; stroke-dasharray: 7.0,7.0;\"/><polygon fill=\"#383838\" points=\"336.3,200.65,327.9737,198.7336,328.7667,204.681,336.3,200.65\" style=\"stroke: #383838; stroke-width: 1.0;\"/><text fill=\"#000000\" font-family=\"sans-serif\" font-size=\"13\" lengthAdjust=\"spacingAndGlyphs\" textLength=\"64\" x=\"222\" y=\"204.0669\">«depend»</text></a><!--MD5=[69a76df3471d6fe96424fec2d1dceeaa]\n",
       "@startuml\r\n",
       "left to right direction\r\n",
       "skinparam monochrome true\r\n",
       "skinparam classbackgroundcolor white\r\n",
       "skinparam shadowing false\r\n",
       "skinparam wrapWidth 300\r\n",
       "hide circle\r\n",
       "\r\n",
       "package \"DependencyTest\" as E1  [[psysml:30d47011-2b84-418c-8f66-5b5fafd7ed2a ]]  {\r\n",
       "package \"System\" as E2  [[psysml:5fbdfa4d-cafa-4f51-92a0-0bd6c2ea6fbb ]]  {\r\n",
       "package \"Application Layer\" as E3  [[psysml:511969d3-37b8-4975-ad7d-d9be97a14b44 ]]  {\r\n",
       "}\r\n",
       "package \"Service Layer\" as E4  [[psysml:3811cf97-7daf-4e30-b445-d9788e80eae2 ]]  {\r\n",
       "}\r\n",
       "package \"Data Layer\" as E5  [[psysml:2c8fb347-f198-4aa6-806c-1c573edf927e ]]  {\r\n",
       "}\r\n",
       "}\r\n",
       "comp usage \"x \" as E6  <<(T,blue) attribute>> [[psysml:3d7e11a6-324b-4ff0-8a6c-08a58aad852d ]] {\r\n",
       "}\r\n",
       "comp usage \"y \" as E7  <<(T,blue) attribute>> [[psysml:07b9e1bd-21f7-4218-b4f9-b36b2d1ccf74 ]] {\r\n",
       "}\r\n",
       "comp usage \"z \" as E8  <<(T,blue) attribute>> [[psysml:44529a0f-a1ad-4493-b824-b4a46bdd708e ]] {\r\n",
       "}\r\n",
       "}\r\n",
       "E3 ..>> E4 [[psysml:973be101-d69f-4acb-a430-79bda88f318e ]] : <<depend>>\r\n",
       "E4 ..>> E5 [[psysml:418c7eed-60a4-47b0-a927-ef037a202312 ]] : <<depend>>\r\n",
       "E8 ..>> E6 [[psysml:27e0873a-b752-4942-bd7f-ca0670289346 ]] : <<depend>>\r\n",
       "E8 ..>> E7 [[psysml:27e0873a-b752-4942-bd7f-ca0670289346 ]] : <<depend>>\r\n",
       "@enduml\r\n",
       "\n",
       "PlantUML version 1.2020.13(Sat Jun 13 12:26:38 UTC 2020)\n",
       "(EPL source distribution)\n",
       "Java Runtime: OpenJDK Runtime Environment\n",
       "JVM: OpenJDK 64-Bit Server VM\n",
       "Default Encoding: UTF-8\n",
       "Language: en\n",
       "Country: null\n",
       "--></g></svg>"
      ]
     },
     "execution_count": 16,
     "metadata": {},
     "output_type": "execute_result"
    }
   ],
   "source": [
    "%viz --style=\"LR\" --view=\"Default\" \"DependencyTest\""
   ]
  },
  {
   "cell_type": "code",
   "execution_count": 17,
   "id": "70f43c37",
   "metadata": {
    "execution": {
     "iopub.execute_input": "2022-02-05T16:52:50.201581Z",
     "iopub.status.busy": "2022-02-05T16:52:50.201163Z",
     "iopub.status.idle": "2022-02-05T16:52:50.241397Z",
     "shell.execute_reply": "2022-02-05T16:52:50.241026Z"
    }
   },
   "outputs": [
    {
     "data": {
      "image/svg+xml": [
       "<?xml version=\"1.0\" encoding=\"UTF-8\" standalone=\"no\"?><svg xmlns=\"http://www.w3.org/2000/svg\" xmlns:xlink=\"http://www.w3.org/1999/xlink\" contentScriptType=\"application/ecmascript\" contentStyleType=\"text/css\" height=\"328px\" preserveAspectRatio=\"none\" style=\"width:707px;height:328px;\" version=\"1.1\" viewBox=\"0 0 707 328\" width=\"707px\" zoomAndPan=\"magnify\"><defs/><g><!--MD5=[fbc87193dbaf4d95561dea2c320d4a47]\n",
       "cluster E1--><a href=\"psysml:30d47011-2b84-418c-8f66-5b5fafd7ed2a\" target=\"_top\" title=\"psysml:30d47011-2b84-418c-8f66-5b5fafd7ed2a\" xlink:actuate=\"onRequest\" xlink:href=\"psysml:30d47011-2b84-418c-8f66-5b5fafd7ed2a\" xlink:show=\"new\" xlink:title=\"psysml:30d47011-2b84-418c-8f66-5b5fafd7ed2a\" xlink:type=\"simple\"><polygon fill=\"#FFFFFF\" points=\"16,6,142,6,149,28.2969,685,28.2969,685,316,16,316,16,6\" style=\"stroke: #000000; stroke-width: 1.5;\"/><line style=\"stroke: #000000; stroke-width: 1.5;\" x1=\"16\" x2=\"149\" y1=\"28.2969\" y2=\"28.2969\"/><text fill=\"#000000\" font-family=\"sans-serif\" font-size=\"14\" font-weight=\"bold\" lengthAdjust=\"spacingAndGlyphs\" textLength=\"120\" x=\"20\" y=\"20.9951\">DependencyTest</text></a><!--MD5=[e4f7fae6ed58524ba242bb0b0d3be6b7]\n",
       "cluster E2--><a href=\"psysml:5fbdfa4d-cafa-4f51-92a0-0bd6c2ea6fbb\" target=\"_top\" title=\"psysml:5fbdfa4d-cafa-4f51-92a0-0bd6c2ea6fbb\" xlink:actuate=\"onRequest\" xlink:href=\"psysml:5fbdfa4d-cafa-4f51-92a0-0bd6c2ea6fbb\" xlink:show=\"new\" xlink:title=\"psysml:5fbdfa4d-cafa-4f51-92a0-0bd6c2ea6fbb\" xlink:type=\"simple\"><polygon fill=\"#FFFFFF\" points=\"40,49,97,49,104,71.2969,661,71.2969,661,154,40,154,40,49\" style=\"stroke: #000000; stroke-width: 1.5;\"/><line style=\"stroke: #000000; stroke-width: 1.5;\" x1=\"40\" x2=\"104\" y1=\"71.2969\" y2=\"71.2969\"/><text fill=\"#000000\" font-family=\"sans-serif\" font-size=\"14\" font-weight=\"bold\" lengthAdjust=\"spacingAndGlyphs\" textLength=\"51\" x=\"44\" y=\"63.9951\">System</text></a><!--MD5=[60a26617385b1d2d0262a64233df1f8d]\n",
       "class E6--><a href=\"psysml:3d7e11a6-324b-4ff0-8a6c-08a58aad852d\" target=\"_top\" title=\"psysml:3d7e11a6-324b-4ff0-8a6c-08a58aad852d\" xlink:actuate=\"onRequest\" xlink:href=\"psysml:3d7e11a6-324b-4ff0-8a6c-08a58aad852d\" xlink:show=\"new\" xlink:title=\"psysml:3d7e11a6-324b-4ff0-8a6c-08a58aad852d\" xlink:type=\"simple\"><rect fill=\"#FFFFFF\" height=\"45.9375\" id=\"E6\" rx=\"10\" ry=\"10\" style=\"stroke: #383838; stroke-width: 1.5;\" width=\"71\" x=\"336.5\" y=\"254\"/><text fill=\"#000000\" font-family=\"sans-serif\" font-size=\"12\" font-style=\"italic\" lengthAdjust=\"spacingAndGlyphs\" textLength=\"69\" x=\"337.5\" y=\"270.1387\">«attribute»</text><text fill=\"#000000\" font-family=\"sans-serif\" font-size=\"12\" lengthAdjust=\"spacingAndGlyphs\" textLength=\"6\" x=\"367\" y=\"284.1074\">x</text><line style=\"stroke: #383838; stroke-width: 1.5;\" x1=\"337.5\" x2=\"406.5\" y1=\"291.9375\" y2=\"291.9375\"/></a><!--MD5=[2156ba9850f5573cc1fc38a6a4b2f02b]\n",
       "class E7--><a href=\"psysml:07b9e1bd-21f7-4218-b4f9-b36b2d1ccf74\" target=\"_top\" title=\"psysml:07b9e1bd-21f7-4218-b4f9-b36b2d1ccf74\" xlink:actuate=\"onRequest\" xlink:href=\"psysml:07b9e1bd-21f7-4218-b4f9-b36b2d1ccf74\" xlink:show=\"new\" xlink:title=\"psysml:07b9e1bd-21f7-4218-b4f9-b36b2d1ccf74\" xlink:type=\"simple\"><rect fill=\"#FFFFFF\" height=\"45.9375\" id=\"E7\" rx=\"10\" ry=\"10\" style=\"stroke: #383838; stroke-width: 1.5;\" width=\"71\" x=\"336.5\" y=\"173\"/><text fill=\"#000000\" font-family=\"sans-serif\" font-size=\"12\" font-style=\"italic\" lengthAdjust=\"spacingAndGlyphs\" textLength=\"69\" x=\"337.5\" y=\"189.1387\">«attribute»</text><text fill=\"#000000\" font-family=\"sans-serif\" font-size=\"12\" lengthAdjust=\"spacingAndGlyphs\" textLength=\"6\" x=\"367\" y=\"203.1074\">y</text><line style=\"stroke: #383838; stroke-width: 1.5;\" x1=\"337.5\" x2=\"406.5\" y1=\"210.9375\" y2=\"210.9375\"/></a><!--MD5=[b9389687b975829384b498ac4b7476b2]\n",
       "class E8--><a href=\"psysml:44529a0f-a1ad-4493-b824-b4a46bdd708e\" target=\"_top\" title=\"psysml:44529a0f-a1ad-4493-b824-b4a46bdd708e\" xlink:actuate=\"onRequest\" xlink:href=\"psysml:44529a0f-a1ad-4493-b824-b4a46bdd708e\" xlink:show=\"new\" xlink:title=\"psysml:44529a0f-a1ad-4493-b824-b4a46bdd708e\" xlink:type=\"simple\"><rect fill=\"#FFFFFF\" height=\"45.9375\" id=\"E8\" rx=\"10\" ry=\"10\" style=\"stroke: #383838; stroke-width: 1.5;\" width=\"71\" x=\"88\" y=\"206\"/><text fill=\"#000000\" font-family=\"sans-serif\" font-size=\"12\" font-style=\"italic\" lengthAdjust=\"spacingAndGlyphs\" textLength=\"69\" x=\"89\" y=\"222.1387\">«attribute»</text><text fill=\"#000000\" font-family=\"sans-serif\" font-size=\"12\" lengthAdjust=\"spacingAndGlyphs\" textLength=\"5\" x=\"119\" y=\"236.1074\">z</text><line style=\"stroke: #383838; stroke-width: 1.5;\" x1=\"89\" x2=\"158\" y1=\"243.9375\" y2=\"243.9375\"/></a><a href=\"psysml:511969d3-37b8-4975-ad7d-d9be97a14b44\" target=\"_top\" title=\"psysml:511969d3-37b8-4975-ad7d-d9be97a14b44\" xlink:actuate=\"onRequest\" xlink:href=\"psysml:511969d3-37b8-4975-ad7d-d9be97a14b44\" xlink:show=\"new\" xlink:title=\"psysml:511969d3-37b8-4975-ad7d-d9be97a14b44\" xlink:type=\"simple\"><polygon fill=\"#FFFFFF\" points=\"56,84.5,177,84.5,184,106.7969,191,106.7969,191,137.0938,56,137.0938,56,84.5\" style=\"stroke: #000000; stroke-width: 1.5;\"/><line style=\"stroke: #000000; stroke-width: 1.5;\" x1=\"56\" x2=\"184\" y1=\"106.7969\" y2=\"106.7969\"/><text fill=\"#000000\" font-family=\"sans-serif\" font-size=\"14\" font-weight=\"bold\" lengthAdjust=\"spacingAndGlyphs\" textLength=\"115\" x=\"60\" y=\"99.4951\">Application Layer</text></a><a href=\"psysml:3811cf97-7daf-4e30-b445-d9788e80eae2\" target=\"_top\" title=\"psysml:3811cf97-7daf-4e30-b445-d9788e80eae2\" xlink:actuate=\"onRequest\" xlink:href=\"psysml:3811cf97-7daf-4e30-b445-d9788e80eae2\" xlink:show=\"new\" xlink:title=\"psysml:3811cf97-7daf-4e30-b445-d9788e80eae2\" xlink:type=\"simple\"><polygon fill=\"#FFFFFF\" points=\"317,84.5,413,84.5,420,106.7969,427,106.7969,427,137.0938,317,137.0938,317,84.5\" style=\"stroke: #000000; stroke-width: 1.5;\"/><line style=\"stroke: #000000; stroke-width: 1.5;\" x1=\"317\" x2=\"420\" y1=\"106.7969\" y2=\"106.7969\"/><text fill=\"#000000\" font-family=\"sans-serif\" font-size=\"14\" font-weight=\"bold\" lengthAdjust=\"spacingAndGlyphs\" textLength=\"90\" x=\"321\" y=\"99.4951\">Service Layer</text></a><a href=\"psysml:2c8fb347-f198-4aa6-806c-1c573edf927e\" target=\"_top\" title=\"psysml:2c8fb347-f198-4aa6-806c-1c573edf927e\" xlink:actuate=\"onRequest\" xlink:href=\"psysml:2c8fb347-f198-4aa6-806c-1c573edf927e\" xlink:show=\"new\" xlink:title=\"psysml:2c8fb347-f198-4aa6-806c-1c573edf927e\" xlink:type=\"simple\"><polygon fill=\"#FFFFFF\" points=\"553,84.5,631,84.5,638,106.7969,645,106.7969,645,137.0938,553,137.0938,553,84.5\" style=\"stroke: #000000; stroke-width: 1.5;\"/><line style=\"stroke: #000000; stroke-width: 1.5;\" x1=\"553\" x2=\"638\" y1=\"106.7969\" y2=\"106.7969\"/><text fill=\"#000000\" font-family=\"sans-serif\" font-size=\"14\" font-weight=\"bold\" lengthAdjust=\"spacingAndGlyphs\" textLength=\"72\" x=\"557\" y=\"99.4951\">Data Layer</text></a><!--MD5=[af87c684e3b0d8be13c1a698a818ef1e]\n",
       "link E3 to E4--><a href=\"psysml:973be101-d69f-4acb-a430-79bda88f318e\" target=\"_top\" title=\"psysml:973be101-d69f-4acb-a430-79bda88f318e\" xlink:actuate=\"onRequest\" xlink:href=\"psysml:973be101-d69f-4acb-a430-79bda88f318e\" xlink:show=\"new\" xlink:title=\"psysml:973be101-d69f-4acb-a430-79bda88f318e\" xlink:type=\"simple\"><path d=\"M191.21,111 C227.64,111 272.49,111 308.28,111 \" fill=\"none\" id=\"E3-&gt;E4\" style=\"stroke: #383838; stroke-width: 1.0; stroke-dasharray: 7.0,7.0;\"/><polygon fill=\"#383838\" points=\"316.7,111,308.7,108,308.7,114,316.7,111\" style=\"stroke: #383838; stroke-width: 1.0;\"/><text fill=\"#000000\" font-family=\"sans-serif\" font-size=\"13\" lengthAdjust=\"spacingAndGlyphs\" textLength=\"64\" x=\"222\" y=\"107.0669\">«depend»</text></a><!--MD5=[1b7591eae5389033d8d09a9d6721a717]\n",
       "link E4 to E5--><a href=\"psysml:418c7eed-60a4-47b0-a927-ef037a202312\" target=\"_top\" title=\"psysml:418c7eed-60a4-47b0-a927-ef037a202312\" xlink:actuate=\"onRequest\" xlink:href=\"psysml:418c7eed-60a4-47b0-a927-ef037a202312\" xlink:show=\"new\" xlink:title=\"psysml:418c7eed-60a4-47b0-a927-ef037a202312\" xlink:type=\"simple\"><path d=\"M427.18,111 C462.81,111 509.24,111 544.69,111 \" fill=\"none\" id=\"E4-&gt;E5\" style=\"stroke: #383838; stroke-width: 1.0; stroke-dasharray: 7.0,7.0;\"/><polygon fill=\"#383838\" points=\"553,111,545,108,545,114,553,111\" style=\"stroke: #383838; stroke-width: 1.0;\"/><text fill=\"#000000\" font-family=\"sans-serif\" font-size=\"13\" lengthAdjust=\"spacingAndGlyphs\" textLength=\"64\" x=\"458\" y=\"107.0669\">«depend»</text></a><!--MD5=[c5e8897d989ce984f93528998a7150fe]\n",
       "link E8 to E6--><a href=\"psysml:27e0873a-b752-4942-bd7f-ca0670289346\" target=\"_top\" title=\"psysml:27e0873a-b752-4942-bd7f-ca0670289346\" xlink:actuate=\"onRequest\" xlink:href=\"psysml:27e0873a-b752-4942-bd7f-ca0670289346\" xlink:show=\"new\" xlink:title=\"psysml:27e0873a-b752-4942-bd7f-ca0670289346\" xlink:type=\"simple\"><path d=\"M159.03,235.72 C203.37,244.36 280.3,259.34 328.28,268.68 \" fill=\"none\" id=\"E8-&gt;E6\" style=\"stroke: #383838; stroke-width: 1.0; stroke-dasharray: 7.0,7.0;\"/><polygon fill=\"#383838\" points=\"336.3,270.24,329.0216,265.765,327.8738,271.6542,336.3,270.24\" style=\"stroke: #383838; stroke-width: 1.0;\"/><text fill=\"#000000\" font-family=\"sans-serif\" font-size=\"13\" lengthAdjust=\"spacingAndGlyphs\" textLength=\"64\" x=\"222\" y=\"245.0669\">«depend»</text></a><!--MD5=[bfa3c8b0d15052fdf50ae9310b491027]\n",
       "link E8 to E7--><a href=\"psysml:27e0873a-b752-4942-bd7f-ca0670289346\" target=\"_top\" title=\"psysml:27e0873a-b752-4942-bd7f-ca0670289346\" xlink:actuate=\"onRequest\" xlink:href=\"psysml:27e0873a-b752-4942-bd7f-ca0670289346\" xlink:show=\"new\" xlink:title=\"psysml:27e0873a-b752-4942-bd7f-ca0670289346\" xlink:type=\"simple\"><path d=\"M159.03,224.38 C203.37,218.44 280.3,208.14 328.28,201.72 \" fill=\"none\" id=\"E8-&gt;E7\" style=\"stroke: #383838; stroke-width: 1.0; stroke-dasharray: 7.0,7.0;\"/><polygon fill=\"#383838\" points=\"336.3,200.65,327.9737,198.7336,328.7667,204.681,336.3,200.65\" style=\"stroke: #383838; stroke-width: 1.0;\"/><text fill=\"#000000\" font-family=\"sans-serif\" font-size=\"13\" lengthAdjust=\"spacingAndGlyphs\" textLength=\"64\" x=\"222\" y=\"204.0669\">«depend»</text></a><!--MD5=[69a76df3471d6fe96424fec2d1dceeaa]\n",
       "@startuml\r\n",
       "left to right direction\r\n",
       "skinparam monochrome true\r\n",
       "skinparam classbackgroundcolor white\r\n",
       "skinparam shadowing false\r\n",
       "skinparam wrapWidth 300\r\n",
       "hide circle\r\n",
       "\r\n",
       "package \"DependencyTest\" as E1  [[psysml:30d47011-2b84-418c-8f66-5b5fafd7ed2a ]]  {\r\n",
       "package \"System\" as E2  [[psysml:5fbdfa4d-cafa-4f51-92a0-0bd6c2ea6fbb ]]  {\r\n",
       "package \"Application Layer\" as E3  [[psysml:511969d3-37b8-4975-ad7d-d9be97a14b44 ]]  {\r\n",
       "}\r\n",
       "package \"Service Layer\" as E4  [[psysml:3811cf97-7daf-4e30-b445-d9788e80eae2 ]]  {\r\n",
       "}\r\n",
       "package \"Data Layer\" as E5  [[psysml:2c8fb347-f198-4aa6-806c-1c573edf927e ]]  {\r\n",
       "}\r\n",
       "}\r\n",
       "comp usage \"x \" as E6  <<(T,blue) attribute>> [[psysml:3d7e11a6-324b-4ff0-8a6c-08a58aad852d ]] {\r\n",
       "}\r\n",
       "comp usage \"y \" as E7  <<(T,blue) attribute>> [[psysml:07b9e1bd-21f7-4218-b4f9-b36b2d1ccf74 ]] {\r\n",
       "}\r\n",
       "comp usage \"z \" as E8  <<(T,blue) attribute>> [[psysml:44529a0f-a1ad-4493-b824-b4a46bdd708e ]] {\r\n",
       "}\r\n",
       "}\r\n",
       "E3 ..>> E4 [[psysml:973be101-d69f-4acb-a430-79bda88f318e ]] : <<depend>>\r\n",
       "E4 ..>> E5 [[psysml:418c7eed-60a4-47b0-a927-ef037a202312 ]] : <<depend>>\r\n",
       "E8 ..>> E6 [[psysml:27e0873a-b752-4942-bd7f-ca0670289346 ]] : <<depend>>\r\n",
       "E8 ..>> E7 [[psysml:27e0873a-b752-4942-bd7f-ca0670289346 ]] : <<depend>>\r\n",
       "@enduml\r\n",
       "\n",
       "PlantUML version 1.2020.13(Sat Jun 13 12:26:38 UTC 2020)\n",
       "(EPL source distribution)\n",
       "Java Runtime: OpenJDK Runtime Environment\n",
       "JVM: OpenJDK 64-Bit Server VM\n",
       "Default Encoding: UTF-8\n",
       "Language: en\n",
       "Country: null\n",
       "--></g></svg>"
      ]
     },
     "execution_count": 17,
     "metadata": {},
     "output_type": "execute_result"
    }
   ],
   "source": [
    "%viz --style=\"LR\" --view=\"Tree\" \"DependencyTest\""
   ]
  },
  {
   "cell_type": "code",
   "execution_count": 18,
   "id": "fdd2a2a2",
   "metadata": {
    "execution": {
     "iopub.execute_input": "2022-02-05T16:52:50.290816Z",
     "iopub.status.busy": "2022-02-05T16:52:50.290402Z",
     "iopub.status.idle": "2022-02-05T16:52:50.295849Z",
     "shell.execute_reply": "2022-02-05T16:52:50.296172Z"
    }
   },
   "outputs": [
    {
     "data": {
      "image/svg+xml": [
       "<?xml version=\"1.0\" encoding=\"UTF-8\" standalone=\"no\"?><svg xmlns=\"http://www.w3.org/2000/svg\" xmlns:xlink=\"http://www.w3.org/1999/xlink\" contentScriptType=\"application/ecmascript\" contentStyleType=\"text/css\" height=\"12px\" preserveAspectRatio=\"none\" style=\"width:12px;height:12px;\" version=\"1.1\" viewBox=\"0 0 12 12\" width=\"12px\" zoomAndPan=\"magnify\"><defs/><g><!--MD5=[19d285c9d72a204eba4e2cd117d745e8]\n",
       "@startuml\r\n",
       "left to right direction\r\n",
       "skinparam monochrome true\r\n",
       "skinparam classbackgroundcolor white\r\n",
       "skinparam shadowing false\r\n",
       "skinparam wrapWidth 300\r\n",
       "hide circle\r\n",
       "\r\n",
       "@enduml\r\n",
       "\n",
       "PlantUML version 1.2020.13(Sat Jun 13 12:26:38 UTC 2020)\n",
       "(EPL source distribution)\n",
       "Java Runtime: OpenJDK Runtime Environment\n",
       "JVM: OpenJDK 64-Bit Server VM\n",
       "Default Encoding: UTF-8\n",
       "Language: en\n",
       "Country: null\n",
       "--></g></svg>"
      ]
     },
     "execution_count": 18,
     "metadata": {},
     "output_type": "execute_result"
    }
   ],
   "source": [
    "%viz --style=\"LR\" --view=\"State\" \"DependencyTest\""
   ]
  },
  {
   "cell_type": "code",
   "execution_count": 19,
   "id": "3963d359",
   "metadata": {
    "execution": {
     "iopub.execute_input": "2022-02-05T16:52:50.346317Z",
     "iopub.status.busy": "2022-02-05T16:52:50.345744Z",
     "iopub.status.idle": "2022-02-05T16:52:50.386228Z",
     "shell.execute_reply": "2022-02-05T16:52:50.386556Z"
    }
   },
   "outputs": [
    {
     "data": {
      "image/svg+xml": [
       "<?xml version=\"1.0\" encoding=\"UTF-8\" standalone=\"no\"?><svg xmlns=\"http://www.w3.org/2000/svg\" xmlns:xlink=\"http://www.w3.org/1999/xlink\" contentScriptType=\"application/ecmascript\" contentStyleType=\"text/css\" height=\"328px\" preserveAspectRatio=\"none\" style=\"width:619px;height:328px;\" version=\"1.1\" viewBox=\"0 0 619 328\" width=\"619px\" zoomAndPan=\"magnify\"><defs/><g><!--MD5=[fbc87193dbaf4d95561dea2c320d4a47]\n",
       "cluster E1--><a href=\"psysml:30d47011-2b84-418c-8f66-5b5fafd7ed2a\" target=\"_top\" title=\"psysml:30d47011-2b84-418c-8f66-5b5fafd7ed2a\" xlink:actuate=\"onRequest\" xlink:href=\"psysml:30d47011-2b84-418c-8f66-5b5fafd7ed2a\" xlink:show=\"new\" xlink:title=\"psysml:30d47011-2b84-418c-8f66-5b5fafd7ed2a\" xlink:type=\"simple\"><polygon fill=\"#FFFFFF\" points=\"16,6,142,6,149,28.2969,597,28.2969,597,316,16,316,16,6\" style=\"stroke: #000000; stroke-width: 1.5;\"/><line style=\"stroke: #000000; stroke-width: 1.5;\" x1=\"16\" x2=\"149\" y1=\"28.2969\" y2=\"28.2969\"/><text fill=\"#000000\" font-family=\"sans-serif\" font-size=\"14\" font-weight=\"bold\" lengthAdjust=\"spacingAndGlyphs\" textLength=\"120\" x=\"20\" y=\"20.9951\">DependencyTest</text></a><!--MD5=[e4f7fae6ed58524ba242bb0b0d3be6b7]\n",
       "cluster E2--><a href=\"psysml:5fbdfa4d-cafa-4f51-92a0-0bd6c2ea6fbb\" target=\"_top\" title=\"psysml:5fbdfa4d-cafa-4f51-92a0-0bd6c2ea6fbb\" xlink:actuate=\"onRequest\" xlink:href=\"psysml:5fbdfa4d-cafa-4f51-92a0-0bd6c2ea6fbb\" xlink:show=\"new\" xlink:title=\"psysml:5fbdfa4d-cafa-4f51-92a0-0bd6c2ea6fbb\" xlink:type=\"simple\"><polygon fill=\"#FFFFFF\" points=\"40,49,97,49,104,71.2969,573,71.2969,573,154,40,154,40,49\" style=\"stroke: #000000; stroke-width: 1.5;\"/><line style=\"stroke: #000000; stroke-width: 1.5;\" x1=\"40\" x2=\"104\" y1=\"71.2969\" y2=\"71.2969\"/><text fill=\"#000000\" font-family=\"sans-serif\" font-size=\"14\" font-weight=\"bold\" lengthAdjust=\"spacingAndGlyphs\" textLength=\"51\" x=\"44\" y=\"63.9951\">System</text></a><!--MD5=[60a26617385b1d2d0262a64233df1f8d]\n",
       "class E6--><a href=\"psysml:3d7e11a6-324b-4ff0-8a6c-08a58aad852d\" target=\"_top\" title=\"psysml:3d7e11a6-324b-4ff0-8a6c-08a58aad852d\" xlink:actuate=\"onRequest\" xlink:href=\"psysml:3d7e11a6-324b-4ff0-8a6c-08a58aad852d\" xlink:show=\"new\" xlink:title=\"psysml:3d7e11a6-324b-4ff0-8a6c-08a58aad852d\" xlink:type=\"simple\"><rect fill=\"#FFFFFF\" height=\"45.9375\" id=\"E6\" rx=\"10\" ry=\"10\" style=\"stroke: #383838; stroke-width: 1.5;\" width=\"71\" x=\"292.5\" y=\"254\"/><text fill=\"#000000\" font-family=\"sans-serif\" font-size=\"12\" font-style=\"italic\" lengthAdjust=\"spacingAndGlyphs\" textLength=\"69\" x=\"293.5\" y=\"270.1387\">«attribute»</text><text fill=\"#000000\" font-family=\"sans-serif\" font-size=\"12\" lengthAdjust=\"spacingAndGlyphs\" textLength=\"6\" x=\"323\" y=\"284.1074\">x</text><line style=\"stroke: #383838; stroke-width: 1.5;\" x1=\"293.5\" x2=\"362.5\" y1=\"291.9375\" y2=\"291.9375\"/></a><!--MD5=[2156ba9850f5573cc1fc38a6a4b2f02b]\n",
       "class E7--><a href=\"psysml:07b9e1bd-21f7-4218-b4f9-b36b2d1ccf74\" target=\"_top\" title=\"psysml:07b9e1bd-21f7-4218-b4f9-b36b2d1ccf74\" xlink:actuate=\"onRequest\" xlink:href=\"psysml:07b9e1bd-21f7-4218-b4f9-b36b2d1ccf74\" xlink:show=\"new\" xlink:title=\"psysml:07b9e1bd-21f7-4218-b4f9-b36b2d1ccf74\" xlink:type=\"simple\"><rect fill=\"#FFFFFF\" height=\"45.9375\" id=\"E7\" rx=\"10\" ry=\"10\" style=\"stroke: #383838; stroke-width: 1.5;\" width=\"71\" x=\"292.5\" y=\"173\"/><text fill=\"#000000\" font-family=\"sans-serif\" font-size=\"12\" font-style=\"italic\" lengthAdjust=\"spacingAndGlyphs\" textLength=\"69\" x=\"293.5\" y=\"189.1387\">«attribute»</text><text fill=\"#000000\" font-family=\"sans-serif\" font-size=\"12\" lengthAdjust=\"spacingAndGlyphs\" textLength=\"6\" x=\"323\" y=\"203.1074\">y</text><line style=\"stroke: #383838; stroke-width: 1.5;\" x1=\"293.5\" x2=\"362.5\" y1=\"210.9375\" y2=\"210.9375\"/></a><!--MD5=[b9389687b975829384b498ac4b7476b2]\n",
       "class E8--><a href=\"psysml:44529a0f-a1ad-4493-b824-b4a46bdd708e\" target=\"_top\" title=\"psysml:44529a0f-a1ad-4493-b824-b4a46bdd708e\" xlink:actuate=\"onRequest\" xlink:href=\"psysml:44529a0f-a1ad-4493-b824-b4a46bdd708e\" xlink:show=\"new\" xlink:title=\"psysml:44529a0f-a1ad-4493-b824-b4a46bdd708e\" xlink:type=\"simple\"><rect fill=\"#FFFFFF\" height=\"45.9375\" id=\"E8\" rx=\"10\" ry=\"10\" style=\"stroke: #383838; stroke-width: 1.5;\" width=\"71\" x=\"88\" y=\"206\"/><text fill=\"#000000\" font-family=\"sans-serif\" font-size=\"12\" font-style=\"italic\" lengthAdjust=\"spacingAndGlyphs\" textLength=\"69\" x=\"89\" y=\"222.1387\">«attribute»</text><text fill=\"#000000\" font-family=\"sans-serif\" font-size=\"12\" lengthAdjust=\"spacingAndGlyphs\" textLength=\"5\" x=\"119\" y=\"236.1074\">z</text><line style=\"stroke: #383838; stroke-width: 1.5;\" x1=\"89\" x2=\"158\" y1=\"243.9375\" y2=\"243.9375\"/></a><a href=\"psysml:511969d3-37b8-4975-ad7d-d9be97a14b44\" target=\"_top\" title=\"psysml:511969d3-37b8-4975-ad7d-d9be97a14b44\" xlink:actuate=\"onRequest\" xlink:href=\"psysml:511969d3-37b8-4975-ad7d-d9be97a14b44\" xlink:show=\"new\" xlink:title=\"psysml:511969d3-37b8-4975-ad7d-d9be97a14b44\" xlink:type=\"simple\"><polygon fill=\"#FFFFFF\" points=\"56,84.5,177,84.5,184,106.7969,191,106.7969,191,137.0938,56,137.0938,56,84.5\" style=\"stroke: #000000; stroke-width: 1.5;\"/><line style=\"stroke: #000000; stroke-width: 1.5;\" x1=\"56\" x2=\"184\" y1=\"106.7969\" y2=\"106.7969\"/><text fill=\"#000000\" font-family=\"sans-serif\" font-size=\"14\" font-weight=\"bold\" lengthAdjust=\"spacingAndGlyphs\" textLength=\"115\" x=\"60\" y=\"99.4951\">Application Layer</text></a><a href=\"psysml:3811cf97-7daf-4e30-b445-d9788e80eae2\" target=\"_top\" title=\"psysml:3811cf97-7daf-4e30-b445-d9788e80eae2\" xlink:actuate=\"onRequest\" xlink:href=\"psysml:3811cf97-7daf-4e30-b445-d9788e80eae2\" xlink:show=\"new\" xlink:title=\"psysml:3811cf97-7daf-4e30-b445-d9788e80eae2\" xlink:type=\"simple\"><polygon fill=\"#FFFFFF\" points=\"273,84.5,369,84.5,376,106.7969,383,106.7969,383,137.0938,273,137.0938,273,84.5\" style=\"stroke: #000000; stroke-width: 1.5;\"/><line style=\"stroke: #000000; stroke-width: 1.5;\" x1=\"273\" x2=\"376\" y1=\"106.7969\" y2=\"106.7969\"/><text fill=\"#000000\" font-family=\"sans-serif\" font-size=\"14\" font-weight=\"bold\" lengthAdjust=\"spacingAndGlyphs\" textLength=\"90\" x=\"277\" y=\"99.4951\">Service Layer</text></a><a href=\"psysml:2c8fb347-f198-4aa6-806c-1c573edf927e\" target=\"_top\" title=\"psysml:2c8fb347-f198-4aa6-806c-1c573edf927e\" xlink:actuate=\"onRequest\" xlink:href=\"psysml:2c8fb347-f198-4aa6-806c-1c573edf927e\" xlink:show=\"new\" xlink:title=\"psysml:2c8fb347-f198-4aa6-806c-1c573edf927e\" xlink:type=\"simple\"><polygon fill=\"#FFFFFF\" points=\"465,84.5,543,84.5,550,106.7969,557,106.7969,557,137.0938,465,137.0938,465,84.5\" style=\"stroke: #000000; stroke-width: 1.5;\"/><line style=\"stroke: #000000; stroke-width: 1.5;\" x1=\"465\" x2=\"550\" y1=\"106.7969\" y2=\"106.7969\"/><text fill=\"#000000\" font-family=\"sans-serif\" font-size=\"14\" font-weight=\"bold\" lengthAdjust=\"spacingAndGlyphs\" textLength=\"72\" x=\"469\" y=\"99.4951\">Data Layer</text></a><!--MD5=[af87c684e3b0d8be13c1a698a818ef1e]\n",
       "link E3 to E4--><a href=\"psysml:973be101-d69f-4acb-a430-79bda88f318e\" target=\"_top\" title=\"psysml:973be101-d69f-4acb-a430-79bda88f318e\" xlink:actuate=\"onRequest\" xlink:href=\"psysml:973be101-d69f-4acb-a430-79bda88f318e\" xlink:show=\"new\" xlink:title=\"psysml:973be101-d69f-4acb-a430-79bda88f318e\" xlink:type=\"simple\"><path d=\"M191.09,111 C214.8,111 241.41,111 264.75,111 \" fill=\"none\" id=\"E3-&gt;E4\" style=\"stroke: #383838; stroke-width: 1.0; stroke-dasharray: 7.0,7.0;\"/><polygon fill=\"#383838\" points=\"272.86,111,264.86,108,264.86,114,272.86,111\" style=\"stroke: #383838; stroke-width: 1.0;\"/><text fill=\"#000000\" font-family=\"sans-serif\" font-size=\"13\" lengthAdjust=\"spacingAndGlyphs\" textLength=\"64\" x=\"200\" y=\"107.0669\">«depend»</text></a><!--MD5=[1b7591eae5389033d8d09a9d6721a717]\n",
       "link E4 to E5--><a href=\"psysml:418c7eed-60a4-47b0-a927-ef037a202312\" target=\"_top\" title=\"psysml:418c7eed-60a4-47b0-a927-ef037a202312\" xlink:actuate=\"onRequest\" xlink:href=\"psysml:418c7eed-60a4-47b0-a927-ef037a202312\" xlink:show=\"new\" xlink:title=\"psysml:418c7eed-60a4-47b0-a927-ef037a202312\" xlink:type=\"simple\"><path d=\"M383.31,111 C406.59,111 433.71,111 456.86,111 \" fill=\"none\" id=\"E4-&gt;E5\" style=\"stroke: #383838; stroke-width: 1.0; stroke-dasharray: 7.0,7.0;\"/><polygon fill=\"#383838\" points=\"464.88,111,456.88,108,456.88,114,464.88,111\" style=\"stroke: #383838; stroke-width: 1.0;\"/><text fill=\"#000000\" font-family=\"sans-serif\" font-size=\"13\" lengthAdjust=\"spacingAndGlyphs\" textLength=\"64\" x=\"392\" y=\"107.0669\">«depend»</text></a><!--MD5=[c5e8897d989ce984f93528998a7150fe]\n",
       "link E8 to E6--><a href=\"psysml:27e0873a-b752-4942-bd7f-ca0670289346\" target=\"_top\" title=\"psysml:27e0873a-b752-4942-bd7f-ca0670289346\" xlink:actuate=\"onRequest\" xlink:href=\"psysml:27e0873a-b752-4942-bd7f-ca0670289346\" xlink:show=\"new\" xlink:title=\"psysml:27e0873a-b752-4942-bd7f-ca0670289346\" xlink:type=\"simple\"><path d=\"M159.31,237.25 C193.9,245.45 247.01,258.04 284.16,266.85 \" fill=\"none\" id=\"E8-&gt;E6\" style=\"stroke: #383838; stroke-width: 1.0; stroke-dasharray: 7.0,7.0;\"/><polygon fill=\"#383838\" points=\"292.31,268.78,285.2244,264.0057,283.8322,269.8419,292.31,268.78\" style=\"stroke: #383838; stroke-width: 1.0;\"/><text fill=\"#000000\" font-family=\"sans-serif\" font-size=\"13\" lengthAdjust=\"spacingAndGlyphs\" textLength=\"64\" x=\"200\" y=\"244.0669\">«depend»</text></a><!--MD5=[bfa3c8b0d15052fdf50ae9310b491027]\n",
       "link E8 to E7--><a href=\"psysml:27e0873a-b752-4942-bd7f-ca0670289346\" target=\"_top\" title=\"psysml:27e0873a-b752-4942-bd7f-ca0670289346\" xlink:actuate=\"onRequest\" xlink:href=\"psysml:27e0873a-b752-4942-bd7f-ca0670289346\" xlink:show=\"new\" xlink:title=\"psysml:27e0873a-b752-4942-bd7f-ca0670289346\" xlink:type=\"simple\"><path d=\"M159.31,223.33 C193.9,217.69 247.01,209.04 284.16,202.98 \" fill=\"none\" id=\"E8-&gt;E7\" style=\"stroke: #383838; stroke-width: 1.0; stroke-dasharray: 7.0,7.0;\"/><polygon fill=\"#383838\" points=\"292.31,201.65,283.9315,199.9764,284.897,205.8983,292.31,201.65\" style=\"stroke: #383838; stroke-width: 1.0;\"/><text fill=\"#000000\" font-family=\"sans-serif\" font-size=\"13\" lengthAdjust=\"spacingAndGlyphs\" textLength=\"64\" x=\"200\" y=\"203.0669\">«depend»</text></a><!--MD5=[09ca08ba6f3001be5ef35e45bd629b2a]\n",
       "@startuml\r\n",
       "skinparam ranksep 10\r\n",
       "skinparam rectangle {\r\n",
       " backgroundColor<<block>> LightGreen\r\n",
       "}\r\n",
       "left to right direction\r\n",
       "skinparam monochrome true\r\n",
       "skinparam classbackgroundcolor white\r\n",
       "skinparam shadowing false\r\n",
       "skinparam wrapWidth 300\r\n",
       "hide circle\r\n",
       "\r\n",
       "package \"DependencyTest\" as E1  [[psysml:30d47011-2b84-418c-8f66-5b5fafd7ed2a ]]  {\r\n",
       "package \"System\" as E2  [[psysml:5fbdfa4d-cafa-4f51-92a0-0bd6c2ea6fbb ]]  {\r\n",
       "package \"Application Layer\" as E3  [[psysml:511969d3-37b8-4975-ad7d-d9be97a14b44 ]]  {\r\n",
       "}\r\n",
       "package \"Service Layer\" as E4  [[psysml:3811cf97-7daf-4e30-b445-d9788e80eae2 ]]  {\r\n",
       "}\r\n",
       "package \"Data Layer\" as E5  [[psysml:2c8fb347-f198-4aa6-806c-1c573edf927e ]]  {\r\n",
       "}\r\n",
       "}\r\n",
       "comp usage \"x \" as E6  <<(T,blue) attribute>> [[psysml:3d7e11a6-324b-4ff0-8a6c-08a58aad852d ]] {\r\n",
       "}\r\n",
       "comp usage \"y \" as E7  <<(T,blue) attribute>> [[psysml:07b9e1bd-21f7-4218-b4f9-b36b2d1ccf74 ]] {\r\n",
       "}\r\n",
       "comp usage \"z \" as E8  <<(T,blue) attribute>> [[psysml:44529a0f-a1ad-4493-b824-b4a46bdd708e ]] {\r\n",
       "}\r\n",
       "}\r\n",
       "E3 ..>> E4 [[psysml:973be101-d69f-4acb-a430-79bda88f318e ]] : <<depend>>\r\n",
       "E4 ..>> E5 [[psysml:418c7eed-60a4-47b0-a927-ef037a202312 ]] : <<depend>>\r\n",
       "E8 ..>> E6 [[psysml:27e0873a-b752-4942-bd7f-ca0670289346 ]] : <<depend>>\r\n",
       "E8 ..>> E7 [[psysml:27e0873a-b752-4942-bd7f-ca0670289346 ]] : <<depend>>\r\n",
       "@enduml\r\n",
       "\n",
       "PlantUML version 1.2020.13(Sat Jun 13 12:26:38 UTC 2020)\n",
       "(EPL source distribution)\n",
       "Java Runtime: OpenJDK Runtime Environment\n",
       "JVM: OpenJDK 64-Bit Server VM\n",
       "Default Encoding: UTF-8\n",
       "Language: en\n",
       "Country: null\n",
       "--></g></svg>"
      ]
     },
     "execution_count": 19,
     "metadata": {},
     "output_type": "execute_result"
    }
   ],
   "source": [
    "%viz --style=\"LR\" --view=\"Interconnection\" \"DependencyTest\""
   ]
  },
  {
   "cell_type": "code",
   "execution_count": 20,
   "id": "29ccc433",
   "metadata": {
    "execution": {
     "iopub.execute_input": "2022-02-05T16:52:50.436386Z",
     "iopub.status.busy": "2022-02-05T16:52:50.435894Z",
     "iopub.status.idle": "2022-02-05T16:52:50.441241Z",
     "shell.execute_reply": "2022-02-05T16:52:50.440903Z"
    }
   },
   "outputs": [
    {
     "data": {
      "image/svg+xml": [
       "<?xml version=\"1.0\" encoding=\"UTF-8\" standalone=\"no\"?><svg xmlns=\"http://www.w3.org/2000/svg\" xmlns:xlink=\"http://www.w3.org/1999/xlink\" contentScriptType=\"application/ecmascript\" contentStyleType=\"text/css\" height=\"12px\" preserveAspectRatio=\"none\" style=\"width:12px;height:12px;\" version=\"1.1\" viewBox=\"0 0 12 12\" width=\"12px\" zoomAndPan=\"magnify\"><defs/><g><!--MD5=[7aeb398939421629f6affaa4a1a7b125]\n",
       "@startuml\r\n",
       "skinparam ranksep 8\r\n",
       "left to right direction\r\n",
       "skinparam monochrome true\r\n",
       "skinparam classbackgroundcolor white\r\n",
       "skinparam shadowing false\r\n",
       "skinparam wrapWidth 300\r\n",
       "hide circle\r\n",
       "\r\n",
       "@enduml\r\n",
       "\n",
       "PlantUML version 1.2020.13(Sat Jun 13 12:26:38 UTC 2020)\n",
       "(EPL source distribution)\n",
       "Java Runtime: OpenJDK Runtime Environment\n",
       "JVM: OpenJDK 64-Bit Server VM\n",
       "Default Encoding: UTF-8\n",
       "Language: en\n",
       "Country: null\n",
       "--></g></svg>"
      ]
     },
     "execution_count": 20,
     "metadata": {},
     "output_type": "execute_result"
    }
   ],
   "source": [
    "%viz --style=\"LR\" --view=\"Action\" \"DependencyTest\""
   ]
  },
  {
   "cell_type": "code",
   "execution_count": 21,
   "id": "b701fc81",
   "metadata": {
    "execution": {
     "iopub.execute_input": "2022-02-05T16:52:50.491187Z",
     "iopub.status.busy": "2022-02-05T16:52:50.490783Z",
     "iopub.status.idle": "2022-02-05T16:52:50.496397Z",
     "shell.execute_reply": "2022-02-05T16:52:50.496063Z"
    }
   },
   "outputs": [
    {
     "data": {
      "image/svg+xml": [
       "<?xml version=\"1.0\" encoding=\"UTF-8\" standalone=\"no\"?><svg xmlns=\"http://www.w3.org/2000/svg\" xmlns:xlink=\"http://www.w3.org/1999/xlink\" contentScriptType=\"application/ecmascript\" contentStyleType=\"text/css\" height=\"12px\" preserveAspectRatio=\"none\" style=\"width:12px;height:12px;\" version=\"1.1\" viewBox=\"0 0 12 12\" width=\"12px\" zoomAndPan=\"magnify\"><defs/><g><!--MD5=[238c11ea2002f03115ad6b49a457d50e]\n",
       "@startuml\r\n",
       "skinparam roundcorner 20\r\n",
       "skinparam BoxPadding 20\r\n",
       "skinparam SequenceBoxBackgroundColor #white\r\n",
       "skinparam style strictuml\r\n",
       "skinparam maxMessageSize 100\r\n",
       "left to right direction\r\n",
       "skinparam monochrome true\r\n",
       "skinparam classbackgroundcolor white\r\n",
       "skinparam shadowing false\r\n",
       "skinparam wrapWidth 300\r\n",
       "hide circle\r\n",
       "\r\n",
       "@enduml\r\n",
       "\n",
       "PlantUML version 1.2020.13(Sat Jun 13 12:26:38 UTC 2020)\n",
       "(EPL source distribution)\n",
       "Java Runtime: OpenJDK Runtime Environment\n",
       "JVM: OpenJDK 64-Bit Server VM\n",
       "Default Encoding: UTF-8\n",
       "Language: en\n",
       "Country: null\n",
       "--></g></svg>"
      ]
     },
     "execution_count": 21,
     "metadata": {},
     "output_type": "execute_result"
    }
   ],
   "source": [
    "%viz --style=\"LR\" --view=\"Sequence\" \"DependencyTest\""
   ]
  },
  {
   "cell_type": "code",
   "execution_count": 22,
   "id": "e180e634",
   "metadata": {
    "execution": {
     "iopub.execute_input": "2022-02-05T16:52:50.546339Z",
     "iopub.status.busy": "2022-02-05T16:52:50.545939Z",
     "iopub.status.idle": "2022-02-05T16:52:50.582883Z",
     "shell.execute_reply": "2022-02-05T16:52:50.582521Z"
    }
   },
   "outputs": [
    {
     "data": {
      "image/svg+xml": [
       "<?xml version=\"1.0\" encoding=\"UTF-8\" standalone=\"no\"?><svg xmlns=\"http://www.w3.org/2000/svg\" xmlns:xlink=\"http://www.w3.org/1999/xlink\" contentScriptType=\"application/ecmascript\" contentStyleType=\"text/css\" height=\"328px\" preserveAspectRatio=\"none\" style=\"width:707px;height:328px;\" version=\"1.1\" viewBox=\"0 0 707 328\" width=\"707px\" zoomAndPan=\"magnify\"><defs/><g><!--MD5=[fbc87193dbaf4d95561dea2c320d4a47]\n",
       "cluster E1--><a href=\"psysml:30d47011-2b84-418c-8f66-5b5fafd7ed2a\" target=\"_top\" title=\"psysml:30d47011-2b84-418c-8f66-5b5fafd7ed2a\" xlink:actuate=\"onRequest\" xlink:href=\"psysml:30d47011-2b84-418c-8f66-5b5fafd7ed2a\" xlink:show=\"new\" xlink:title=\"psysml:30d47011-2b84-418c-8f66-5b5fafd7ed2a\" xlink:type=\"simple\"><polygon fill=\"#FFFFFF\" points=\"16,6,142,6,149,28.2969,685,28.2969,685,316,16,316,16,6\" style=\"stroke: #000000; stroke-width: 1.5;\"/><line style=\"stroke: #000000; stroke-width: 1.5;\" x1=\"16\" x2=\"149\" y1=\"28.2969\" y2=\"28.2969\"/><text fill=\"#000000\" font-family=\"sans-serif\" font-size=\"14\" font-weight=\"bold\" lengthAdjust=\"spacingAndGlyphs\" textLength=\"120\" x=\"20\" y=\"20.9951\">DependencyTest</text></a><!--MD5=[e4f7fae6ed58524ba242bb0b0d3be6b7]\n",
       "cluster E2--><a href=\"psysml:5fbdfa4d-cafa-4f51-92a0-0bd6c2ea6fbb\" target=\"_top\" title=\"psysml:5fbdfa4d-cafa-4f51-92a0-0bd6c2ea6fbb\" xlink:actuate=\"onRequest\" xlink:href=\"psysml:5fbdfa4d-cafa-4f51-92a0-0bd6c2ea6fbb\" xlink:show=\"new\" xlink:title=\"psysml:5fbdfa4d-cafa-4f51-92a0-0bd6c2ea6fbb\" xlink:type=\"simple\"><polygon fill=\"#FFFFFF\" points=\"40,49,97,49,104,71.2969,661,71.2969,661,154,40,154,40,49\" style=\"stroke: #000000; stroke-width: 1.5;\"/><line style=\"stroke: #000000; stroke-width: 1.5;\" x1=\"40\" x2=\"104\" y1=\"71.2969\" y2=\"71.2969\"/><text fill=\"#000000\" font-family=\"sans-serif\" font-size=\"14\" font-weight=\"bold\" lengthAdjust=\"spacingAndGlyphs\" textLength=\"51\" x=\"44\" y=\"63.9951\">System</text></a><!--MD5=[60a26617385b1d2d0262a64233df1f8d]\n",
       "class E6--><a href=\"psysml:3d7e11a6-324b-4ff0-8a6c-08a58aad852d\" target=\"_top\" title=\"psysml:3d7e11a6-324b-4ff0-8a6c-08a58aad852d\" xlink:actuate=\"onRequest\" xlink:href=\"psysml:3d7e11a6-324b-4ff0-8a6c-08a58aad852d\" xlink:show=\"new\" xlink:title=\"psysml:3d7e11a6-324b-4ff0-8a6c-08a58aad852d\" xlink:type=\"simple\"><rect fill=\"#FFFFFF\" height=\"45.9375\" id=\"E6\" rx=\"10\" ry=\"10\" style=\"stroke: #383838; stroke-width: 1.5;\" width=\"71\" x=\"336.5\" y=\"254\"/><text fill=\"#000000\" font-family=\"sans-serif\" font-size=\"12\" font-style=\"italic\" lengthAdjust=\"spacingAndGlyphs\" textLength=\"69\" x=\"337.5\" y=\"270.1387\">«attribute»</text><text fill=\"#000000\" font-family=\"sans-serif\" font-size=\"12\" lengthAdjust=\"spacingAndGlyphs\" textLength=\"6\" x=\"367\" y=\"284.1074\">x</text><line style=\"stroke: #383838; stroke-width: 1.5;\" x1=\"337.5\" x2=\"406.5\" y1=\"291.9375\" y2=\"291.9375\"/></a><!--MD5=[2156ba9850f5573cc1fc38a6a4b2f02b]\n",
       "class E7--><a href=\"psysml:07b9e1bd-21f7-4218-b4f9-b36b2d1ccf74\" target=\"_top\" title=\"psysml:07b9e1bd-21f7-4218-b4f9-b36b2d1ccf74\" xlink:actuate=\"onRequest\" xlink:href=\"psysml:07b9e1bd-21f7-4218-b4f9-b36b2d1ccf74\" xlink:show=\"new\" xlink:title=\"psysml:07b9e1bd-21f7-4218-b4f9-b36b2d1ccf74\" xlink:type=\"simple\"><rect fill=\"#FFFFFF\" height=\"45.9375\" id=\"E7\" rx=\"10\" ry=\"10\" style=\"stroke: #383838; stroke-width: 1.5;\" width=\"71\" x=\"336.5\" y=\"173\"/><text fill=\"#000000\" font-family=\"sans-serif\" font-size=\"12\" font-style=\"italic\" lengthAdjust=\"spacingAndGlyphs\" textLength=\"69\" x=\"337.5\" y=\"189.1387\">«attribute»</text><text fill=\"#000000\" font-family=\"sans-serif\" font-size=\"12\" lengthAdjust=\"spacingAndGlyphs\" textLength=\"6\" x=\"367\" y=\"203.1074\">y</text><line style=\"stroke: #383838; stroke-width: 1.5;\" x1=\"337.5\" x2=\"406.5\" y1=\"210.9375\" y2=\"210.9375\"/></a><!--MD5=[b9389687b975829384b498ac4b7476b2]\n",
       "class E8--><a href=\"psysml:44529a0f-a1ad-4493-b824-b4a46bdd708e\" target=\"_top\" title=\"psysml:44529a0f-a1ad-4493-b824-b4a46bdd708e\" xlink:actuate=\"onRequest\" xlink:href=\"psysml:44529a0f-a1ad-4493-b824-b4a46bdd708e\" xlink:show=\"new\" xlink:title=\"psysml:44529a0f-a1ad-4493-b824-b4a46bdd708e\" xlink:type=\"simple\"><rect fill=\"#FFFFFF\" height=\"45.9375\" id=\"E8\" rx=\"10\" ry=\"10\" style=\"stroke: #383838; stroke-width: 1.5;\" width=\"71\" x=\"88\" y=\"206\"/><text fill=\"#000000\" font-family=\"sans-serif\" font-size=\"12\" font-style=\"italic\" lengthAdjust=\"spacingAndGlyphs\" textLength=\"69\" x=\"89\" y=\"222.1387\">«attribute»</text><text fill=\"#000000\" font-family=\"sans-serif\" font-size=\"12\" lengthAdjust=\"spacingAndGlyphs\" textLength=\"5\" x=\"119\" y=\"236.1074\">z</text><line style=\"stroke: #383838; stroke-width: 1.5;\" x1=\"89\" x2=\"158\" y1=\"243.9375\" y2=\"243.9375\"/></a><a href=\"psysml:511969d3-37b8-4975-ad7d-d9be97a14b44\" target=\"_top\" title=\"psysml:511969d3-37b8-4975-ad7d-d9be97a14b44\" xlink:actuate=\"onRequest\" xlink:href=\"psysml:511969d3-37b8-4975-ad7d-d9be97a14b44\" xlink:show=\"new\" xlink:title=\"psysml:511969d3-37b8-4975-ad7d-d9be97a14b44\" xlink:type=\"simple\"><polygon fill=\"#FFFFFF\" points=\"56,84.5,177,84.5,184,106.7969,191,106.7969,191,137.0938,56,137.0938,56,84.5\" style=\"stroke: #000000; stroke-width: 1.5;\"/><line style=\"stroke: #000000; stroke-width: 1.5;\" x1=\"56\" x2=\"184\" y1=\"106.7969\" y2=\"106.7969\"/><text fill=\"#000000\" font-family=\"sans-serif\" font-size=\"14\" font-weight=\"bold\" lengthAdjust=\"spacingAndGlyphs\" textLength=\"115\" x=\"60\" y=\"99.4951\">Application Layer</text></a><a href=\"psysml:3811cf97-7daf-4e30-b445-d9788e80eae2\" target=\"_top\" title=\"psysml:3811cf97-7daf-4e30-b445-d9788e80eae2\" xlink:actuate=\"onRequest\" xlink:href=\"psysml:3811cf97-7daf-4e30-b445-d9788e80eae2\" xlink:show=\"new\" xlink:title=\"psysml:3811cf97-7daf-4e30-b445-d9788e80eae2\" xlink:type=\"simple\"><polygon fill=\"#FFFFFF\" points=\"317,84.5,413,84.5,420,106.7969,427,106.7969,427,137.0938,317,137.0938,317,84.5\" style=\"stroke: #000000; stroke-width: 1.5;\"/><line style=\"stroke: #000000; stroke-width: 1.5;\" x1=\"317\" x2=\"420\" y1=\"106.7969\" y2=\"106.7969\"/><text fill=\"#000000\" font-family=\"sans-serif\" font-size=\"14\" font-weight=\"bold\" lengthAdjust=\"spacingAndGlyphs\" textLength=\"90\" x=\"321\" y=\"99.4951\">Service Layer</text></a><a href=\"psysml:2c8fb347-f198-4aa6-806c-1c573edf927e\" target=\"_top\" title=\"psysml:2c8fb347-f198-4aa6-806c-1c573edf927e\" xlink:actuate=\"onRequest\" xlink:href=\"psysml:2c8fb347-f198-4aa6-806c-1c573edf927e\" xlink:show=\"new\" xlink:title=\"psysml:2c8fb347-f198-4aa6-806c-1c573edf927e\" xlink:type=\"simple\"><polygon fill=\"#FFFFFF\" points=\"553,84.5,631,84.5,638,106.7969,645,106.7969,645,137.0938,553,137.0938,553,84.5\" style=\"stroke: #000000; stroke-width: 1.5;\"/><line style=\"stroke: #000000; stroke-width: 1.5;\" x1=\"553\" x2=\"638\" y1=\"106.7969\" y2=\"106.7969\"/><text fill=\"#000000\" font-family=\"sans-serif\" font-size=\"14\" font-weight=\"bold\" lengthAdjust=\"spacingAndGlyphs\" textLength=\"72\" x=\"557\" y=\"99.4951\">Data Layer</text></a><!--MD5=[af87c684e3b0d8be13c1a698a818ef1e]\n",
       "link E3 to E4--><a href=\"psysml:973be101-d69f-4acb-a430-79bda88f318e\" target=\"_top\" title=\"psysml:973be101-d69f-4acb-a430-79bda88f318e\" xlink:actuate=\"onRequest\" xlink:href=\"psysml:973be101-d69f-4acb-a430-79bda88f318e\" xlink:show=\"new\" xlink:title=\"psysml:973be101-d69f-4acb-a430-79bda88f318e\" xlink:type=\"simple\"><path d=\"M191.21,111 C227.64,111 272.49,111 308.28,111 \" fill=\"none\" id=\"E3-&gt;E4\" style=\"stroke: #383838; stroke-width: 1.0; stroke-dasharray: 7.0,7.0;\"/><polygon fill=\"#383838\" points=\"316.7,111,308.7,108,308.7,114,316.7,111\" style=\"stroke: #383838; stroke-width: 1.0;\"/><text fill=\"#000000\" font-family=\"sans-serif\" font-size=\"13\" lengthAdjust=\"spacingAndGlyphs\" textLength=\"64\" x=\"222\" y=\"107.0669\">«depend»</text></a><!--MD5=[1b7591eae5389033d8d09a9d6721a717]\n",
       "link E4 to E5--><a href=\"psysml:418c7eed-60a4-47b0-a927-ef037a202312\" target=\"_top\" title=\"psysml:418c7eed-60a4-47b0-a927-ef037a202312\" xlink:actuate=\"onRequest\" xlink:href=\"psysml:418c7eed-60a4-47b0-a927-ef037a202312\" xlink:show=\"new\" xlink:title=\"psysml:418c7eed-60a4-47b0-a927-ef037a202312\" xlink:type=\"simple\"><path d=\"M427.18,111 C462.81,111 509.24,111 544.69,111 \" fill=\"none\" id=\"E4-&gt;E5\" style=\"stroke: #383838; stroke-width: 1.0; stroke-dasharray: 7.0,7.0;\"/><polygon fill=\"#383838\" points=\"553,111,545,108,545,114,553,111\" style=\"stroke: #383838; stroke-width: 1.0;\"/><text fill=\"#000000\" font-family=\"sans-serif\" font-size=\"13\" lengthAdjust=\"spacingAndGlyphs\" textLength=\"64\" x=\"458\" y=\"107.0669\">«depend»</text></a><!--MD5=[c5e8897d989ce984f93528998a7150fe]\n",
       "link E8 to E6--><a href=\"psysml:27e0873a-b752-4942-bd7f-ca0670289346\" target=\"_top\" title=\"psysml:27e0873a-b752-4942-bd7f-ca0670289346\" xlink:actuate=\"onRequest\" xlink:href=\"psysml:27e0873a-b752-4942-bd7f-ca0670289346\" xlink:show=\"new\" xlink:title=\"psysml:27e0873a-b752-4942-bd7f-ca0670289346\" xlink:type=\"simple\"><path d=\"M159.03,235.72 C203.37,244.36 280.3,259.34 328.28,268.68 \" fill=\"none\" id=\"E8-&gt;E6\" style=\"stroke: #383838; stroke-width: 1.0; stroke-dasharray: 7.0,7.0;\"/><polygon fill=\"#383838\" points=\"336.3,270.24,329.0216,265.765,327.8738,271.6542,336.3,270.24\" style=\"stroke: #383838; stroke-width: 1.0;\"/><text fill=\"#000000\" font-family=\"sans-serif\" font-size=\"13\" lengthAdjust=\"spacingAndGlyphs\" textLength=\"64\" x=\"222\" y=\"245.0669\">«depend»</text></a><!--MD5=[bfa3c8b0d15052fdf50ae9310b491027]\n",
       "link E8 to E7--><a href=\"psysml:27e0873a-b752-4942-bd7f-ca0670289346\" target=\"_top\" title=\"psysml:27e0873a-b752-4942-bd7f-ca0670289346\" xlink:actuate=\"onRequest\" xlink:href=\"psysml:27e0873a-b752-4942-bd7f-ca0670289346\" xlink:show=\"new\" xlink:title=\"psysml:27e0873a-b752-4942-bd7f-ca0670289346\" xlink:type=\"simple\"><path d=\"M159.03,224.38 C203.37,218.44 280.3,208.14 328.28,201.72 \" fill=\"none\" id=\"E8-&gt;E7\" style=\"stroke: #383838; stroke-width: 1.0; stroke-dasharray: 7.0,7.0;\"/><polygon fill=\"#383838\" points=\"336.3,200.65,327.9737,198.7336,328.7667,204.681,336.3,200.65\" style=\"stroke: #383838; stroke-width: 1.0;\"/><text fill=\"#000000\" font-family=\"sans-serif\" font-size=\"13\" lengthAdjust=\"spacingAndGlyphs\" textLength=\"64\" x=\"222\" y=\"204.0669\">«depend»</text></a><!--MD5=[69a76df3471d6fe96424fec2d1dceeaa]\n",
       "@startuml\r\n",
       "left to right direction\r\n",
       "skinparam monochrome true\r\n",
       "skinparam classbackgroundcolor white\r\n",
       "skinparam shadowing false\r\n",
       "skinparam wrapWidth 300\r\n",
       "hide circle\r\n",
       "\r\n",
       "package \"DependencyTest\" as E1  [[psysml:30d47011-2b84-418c-8f66-5b5fafd7ed2a ]]  {\r\n",
       "package \"System\" as E2  [[psysml:5fbdfa4d-cafa-4f51-92a0-0bd6c2ea6fbb ]]  {\r\n",
       "package \"Application Layer\" as E3  [[psysml:511969d3-37b8-4975-ad7d-d9be97a14b44 ]]  {\r\n",
       "}\r\n",
       "package \"Service Layer\" as E4  [[psysml:3811cf97-7daf-4e30-b445-d9788e80eae2 ]]  {\r\n",
       "}\r\n",
       "package \"Data Layer\" as E5  [[psysml:2c8fb347-f198-4aa6-806c-1c573edf927e ]]  {\r\n",
       "}\r\n",
       "}\r\n",
       "comp usage \"x \" as E6  <<(T,blue) attribute>> [[psysml:3d7e11a6-324b-4ff0-8a6c-08a58aad852d ]] {\r\n",
       "}\r\n",
       "comp usage \"y \" as E7  <<(T,blue) attribute>> [[psysml:07b9e1bd-21f7-4218-b4f9-b36b2d1ccf74 ]] {\r\n",
       "}\r\n",
       "comp usage \"z \" as E8  <<(T,blue) attribute>> [[psysml:44529a0f-a1ad-4493-b824-b4a46bdd708e ]] {\r\n",
       "}\r\n",
       "}\r\n",
       "E3 ..>> E4 [[psysml:973be101-d69f-4acb-a430-79bda88f318e ]] : <<depend>>\r\n",
       "E4 ..>> E5 [[psysml:418c7eed-60a4-47b0-a927-ef037a202312 ]] : <<depend>>\r\n",
       "E8 ..>> E6 [[psysml:27e0873a-b752-4942-bd7f-ca0670289346 ]] : <<depend>>\r\n",
       "E8 ..>> E7 [[psysml:27e0873a-b752-4942-bd7f-ca0670289346 ]] : <<depend>>\r\n",
       "@enduml\r\n",
       "\n",
       "PlantUML version 1.2020.13(Sat Jun 13 12:26:38 UTC 2020)\n",
       "(EPL source distribution)\n",
       "Java Runtime: OpenJDK Runtime Environment\n",
       "JVM: OpenJDK 64-Bit Server VM\n",
       "Default Encoding: UTF-8\n",
       "Language: en\n",
       "Country: null\n",
       "--></g></svg>"
      ]
     },
     "execution_count": 22,
     "metadata": {},
     "output_type": "execute_result"
    }
   ],
   "source": [
    "%viz --style=\"LR\" --view=\"MIXED\" \"DependencyTest\""
   ]
  },
  {
   "cell_type": "code",
   "execution_count": 23,
   "id": "830f8366",
   "metadata": {
    "execution": {
     "iopub.execute_input": "2022-02-05T16:52:50.632727Z",
     "iopub.status.busy": "2022-02-05T16:52:50.632311Z",
     "iopub.status.idle": "2022-02-05T16:52:50.669588Z",
     "shell.execute_reply": "2022-02-05T16:52:50.669242Z"
    }
   },
   "outputs": [
    {
     "data": {
      "image/svg+xml": [
       "<?xml version=\"1.0\" encoding=\"UTF-8\" standalone=\"no\"?><svg xmlns=\"http://www.w3.org/2000/svg\" xmlns:xlink=\"http://www.w3.org/1999/xlink\" contentScriptType=\"application/ecmascript\" contentStyleType=\"text/css\" height=\"449px\" preserveAspectRatio=\"none\" style=\"width:469px;height:449px;\" version=\"1.1\" viewBox=\"0 0 469 449\" width=\"469px\" zoomAndPan=\"magnify\"><defs><filter height=\"300%\" id=\"f3uwglnbn5xl\" width=\"300%\" x=\"-1\" y=\"-1\"><feGaussianBlur result=\"blurOut\" stdDeviation=\"2.0\"/><feColorMatrix in=\"blurOut\" result=\"blurOut2\" type=\"matrix\" values=\"0 0 0 0 0 0 0 0 0 0 0 0 0 0 0 0 0 0 .4 0\"/><feOffset dx=\"4.0\" dy=\"4.0\" in=\"blurOut2\" result=\"blurOut3\"/><feBlend in=\"SourceGraphic\" in2=\"blurOut3\" mode=\"normal\"/></filter></defs><g><!--MD5=[fbc87193dbaf4d95561dea2c320d4a47]\n",
       "cluster E1--><a href=\"psysml:30d47011-2b84-418c-8f66-5b5fafd7ed2a\" target=\"_top\" title=\"psysml:30d47011-2b84-418c-8f66-5b5fafd7ed2a\" xlink:actuate=\"onRequest\" xlink:href=\"psysml:30d47011-2b84-418c-8f66-5b5fafd7ed2a\" xlink:show=\"new\" xlink:title=\"psysml:30d47011-2b84-418c-8f66-5b5fafd7ed2a\" xlink:type=\"simple\"><polygon fill=\"#FFFFFF\" filter=\"url(#f3uwglnbn5xl)\" points=\"16,6,142,6,149,28.2969,447,28.2969,447,437,16,437,16,6\" style=\"stroke: #000000; stroke-width: 1.5;\"/><line style=\"stroke: #000000; stroke-width: 1.5;\" x1=\"16\" x2=\"149\" y1=\"28.2969\" y2=\"28.2969\"/><text fill=\"#000000\" font-family=\"sans-serif\" font-size=\"14\" font-weight=\"bold\" lengthAdjust=\"spacingAndGlyphs\" textLength=\"120\" x=\"20\" y=\"20.9951\">DependencyTest</text></a><!--MD5=[e4f7fae6ed58524ba242bb0b0d3be6b7]\n",
       "cluster E2--><a href=\"psysml:5fbdfa4d-cafa-4f51-92a0-0bd6c2ea6fbb\" target=\"_top\" title=\"psysml:5fbdfa4d-cafa-4f51-92a0-0bd6c2ea6fbb\" xlink:actuate=\"onRequest\" xlink:href=\"psysml:5fbdfa4d-cafa-4f51-92a0-0bd6c2ea6fbb\" xlink:show=\"new\" xlink:title=\"psysml:5fbdfa4d-cafa-4f51-92a0-0bd6c2ea6fbb\" xlink:type=\"simple\"><polygon fill=\"#FFFFFF\" filter=\"url(#f3uwglnbn5xl)\" points=\"255,49,312,49,319,71.2969,423,71.2969,423,413,255,413,255,49\" style=\"stroke: #000000; stroke-width: 1.5;\"/><line style=\"stroke: #000000; stroke-width: 1.5;\" x1=\"255\" x2=\"319\" y1=\"71.2969\" y2=\"71.2969\"/><text fill=\"#000000\" font-family=\"sans-serif\" font-size=\"14\" font-weight=\"bold\" lengthAdjust=\"spacingAndGlyphs\" textLength=\"51\" x=\"259\" y=\"63.9951\">System</text></a><!--MD5=[60a26617385b1d2d0262a64233df1f8d]\n",
       "class E6--><a href=\"psysml:3d7e11a6-324b-4ff0-8a6c-08a58aad852d\" target=\"_top\" title=\"psysml:3d7e11a6-324b-4ff0-8a6c-08a58aad852d\" xlink:actuate=\"onRequest\" xlink:href=\"psysml:3d7e11a6-324b-4ff0-8a6c-08a58aad852d\" xlink:show=\"new\" xlink:title=\"psysml:3d7e11a6-324b-4ff0-8a6c-08a58aad852d\" xlink:type=\"simple\"><rect fill=\"#FEFECE\" filter=\"url(#f3uwglnbn5xl)\" height=\"45.9375\" id=\"E6\" rx=\"10\" ry=\"10\" style=\"stroke: #A80036; stroke-width: 1.5;\" width=\"71\" x=\"32.5\" y=\"217.5\"/><text fill=\"#000000\" font-family=\"sans-serif\" font-size=\"12\" font-style=\"italic\" lengthAdjust=\"spacingAndGlyphs\" textLength=\"69\" x=\"33.5\" y=\"233.6387\">«attribute»</text><text fill=\"#000000\" font-family=\"sans-serif\" font-size=\"12\" lengthAdjust=\"spacingAndGlyphs\" textLength=\"6\" x=\"63\" y=\"247.6074\">x</text><line style=\"stroke: #A80036; stroke-width: 1.5;\" x1=\"33.5\" x2=\"102.5\" y1=\"255.4375\" y2=\"255.4375\"/></a><!--MD5=[2156ba9850f5573cc1fc38a6a4b2f02b]\n",
       "class E7--><a href=\"psysml:07b9e1bd-21f7-4218-b4f9-b36b2d1ccf74\" target=\"_top\" title=\"psysml:07b9e1bd-21f7-4218-b4f9-b36b2d1ccf74\" xlink:actuate=\"onRequest\" xlink:href=\"psysml:07b9e1bd-21f7-4218-b4f9-b36b2d1ccf74\" xlink:show=\"new\" xlink:title=\"psysml:07b9e1bd-21f7-4218-b4f9-b36b2d1ccf74\" xlink:type=\"simple\"><rect fill=\"#FEFECE\" filter=\"url(#f3uwglnbn5xl)\" height=\"45.9375\" id=\"E7\" rx=\"10\" ry=\"10\" style=\"stroke: #A80036; stroke-width: 1.5;\" width=\"71\" x=\"138.5\" y=\"217.5\"/><text fill=\"#000000\" font-family=\"sans-serif\" font-size=\"12\" font-style=\"italic\" lengthAdjust=\"spacingAndGlyphs\" textLength=\"69\" x=\"139.5\" y=\"233.6387\">«attribute»</text><text fill=\"#000000\" font-family=\"sans-serif\" font-size=\"12\" lengthAdjust=\"spacingAndGlyphs\" textLength=\"6\" x=\"169\" y=\"247.6074\">y</text><line style=\"stroke: #A80036; stroke-width: 1.5;\" x1=\"139.5\" x2=\"208.5\" y1=\"255.4375\" y2=\"255.4375\"/></a><!--MD5=[b9389687b975829384b498ac4b7476b2]\n",
       "class E8--><a href=\"psysml:44529a0f-a1ad-4493-b824-b4a46bdd708e\" target=\"_top\" title=\"psysml:44529a0f-a1ad-4493-b824-b4a46bdd708e\" xlink:actuate=\"onRequest\" xlink:href=\"psysml:44529a0f-a1ad-4493-b824-b4a46bdd708e\" xlink:show=\"new\" xlink:title=\"psysml:44529a0f-a1ad-4493-b824-b4a46bdd708e\" xlink:type=\"simple\"><rect fill=\"#FEFECE\" filter=\"url(#f3uwglnbn5xl)\" height=\"45.9375\" id=\"E8\" rx=\"10\" ry=\"10\" style=\"stroke: #A80036; stroke-width: 1.5;\" width=\"71\" x=\"84.5\" y=\"87.5\"/><text fill=\"#000000\" font-family=\"sans-serif\" font-size=\"12\" font-style=\"italic\" lengthAdjust=\"spacingAndGlyphs\" textLength=\"69\" x=\"85.5\" y=\"103.6387\">«attribute»</text><text fill=\"#000000\" font-family=\"sans-serif\" font-size=\"12\" lengthAdjust=\"spacingAndGlyphs\" textLength=\"5\" x=\"115.5\" y=\"117.6074\">z</text><line style=\"stroke: #A80036; stroke-width: 1.5;\" x1=\"85.5\" x2=\"154.5\" y1=\"125.4375\" y2=\"125.4375\"/></a><a href=\"psysml:511969d3-37b8-4975-ad7d-d9be97a14b44\" target=\"_top\" title=\"psysml:511969d3-37b8-4975-ad7d-d9be97a14b44\" xlink:actuate=\"onRequest\" xlink:href=\"psysml:511969d3-37b8-4975-ad7d-d9be97a14b44\" xlink:show=\"new\" xlink:title=\"psysml:511969d3-37b8-4975-ad7d-d9be97a14b44\" xlink:type=\"simple\"><polygon fill=\"#FFFFFF\" filter=\"url(#f3uwglnbn5xl)\" points=\"271.5,84,392.5,84,399.5,106.2969,406.5,106.2969,406.5,136.5938,271.5,136.5938,271.5,84\" style=\"stroke: #000000; stroke-width: 1.5;\"/><line style=\"stroke: #000000; stroke-width: 1.5;\" x1=\"271.5\" x2=\"399.5\" y1=\"106.2969\" y2=\"106.2969\"/><text fill=\"#000000\" font-family=\"sans-serif\" font-size=\"14\" font-weight=\"bold\" lengthAdjust=\"spacingAndGlyphs\" textLength=\"115\" x=\"275.5\" y=\"98.9951\">Application Layer</text></a><a href=\"psysml:3811cf97-7daf-4e30-b445-d9788e80eae2\" target=\"_top\" title=\"psysml:3811cf97-7daf-4e30-b445-d9788e80eae2\" xlink:actuate=\"onRequest\" xlink:href=\"psysml:3811cf97-7daf-4e30-b445-d9788e80eae2\" xlink:show=\"new\" xlink:title=\"psysml:3811cf97-7daf-4e30-b445-d9788e80eae2\" xlink:type=\"simple\"><polygon fill=\"#FFFFFF\" filter=\"url(#f3uwglnbn5xl)\" points=\"284,214,380,214,387,236.2969,394,236.2969,394,266.5938,284,266.5938,284,214\" style=\"stroke: #000000; stroke-width: 1.5;\"/><line style=\"stroke: #000000; stroke-width: 1.5;\" x1=\"284\" x2=\"387\" y1=\"236.2969\" y2=\"236.2969\"/><text fill=\"#000000\" font-family=\"sans-serif\" font-size=\"14\" font-weight=\"bold\" lengthAdjust=\"spacingAndGlyphs\" textLength=\"90\" x=\"288\" y=\"228.9951\">Service Layer</text></a><a href=\"psysml:2c8fb347-f198-4aa6-806c-1c573edf927e\" target=\"_top\" title=\"psysml:2c8fb347-f198-4aa6-806c-1c573edf927e\" xlink:actuate=\"onRequest\" xlink:href=\"psysml:2c8fb347-f198-4aa6-806c-1c573edf927e\" xlink:show=\"new\" xlink:title=\"psysml:2c8fb347-f198-4aa6-806c-1c573edf927e\" xlink:type=\"simple\"><polygon fill=\"#FFFFFF\" filter=\"url(#f3uwglnbn5xl)\" points=\"293,344,371,344,378,366.2969,385,366.2969,385,396.5938,293,396.5938,293,344\" style=\"stroke: #000000; stroke-width: 1.5;\"/><line style=\"stroke: #000000; stroke-width: 1.5;\" x1=\"293\" x2=\"378\" y1=\"366.2969\" y2=\"366.2969\"/><text fill=\"#000000\" font-family=\"sans-serif\" font-size=\"14\" font-weight=\"bold\" lengthAdjust=\"spacingAndGlyphs\" textLength=\"72\" x=\"297\" y=\"358.9951\">Data Layer</text></a><!--MD5=[af87c684e3b0d8be13c1a698a818ef1e]\n",
       "link E3 to E4--><a href=\"psysml:973be101-d69f-4acb-a430-79bda88f318e\" target=\"_top\" title=\"psysml:973be101-d69f-4acb-a430-79bda88f318e\" xlink:actuate=\"onRequest\" xlink:href=\"psysml:973be101-d69f-4acb-a430-79bda88f318e\" xlink:show=\"new\" xlink:title=\"psysml:973be101-d69f-4acb-a430-79bda88f318e\" xlink:type=\"simple\"><path d=\"M339,137.1 C339,156.8 339,184.22 339,205.73 \" fill=\"none\" id=\"E3-&gt;E4\" style=\"stroke: #A80036; stroke-width: 1.0; stroke-dasharray: 7.0,7.0;\"/><polygon fill=\"#A80036\" points=\"339,213.95,342,205.95,336,205.95,339,213.95\" style=\"stroke: #A80036; stroke-width: 1.0;\"/><text fill=\"#000000\" font-family=\"sans-serif\" font-size=\"13\" lengthAdjust=\"spacingAndGlyphs\" textLength=\"64\" x=\"340\" y=\"180.0669\">«depend»</text></a><!--MD5=[1b7591eae5389033d8d09a9d6721a717]\n",
       "link E4 to E5--><a href=\"psysml:418c7eed-60a4-47b0-a927-ef037a202312\" target=\"_top\" title=\"psysml:418c7eed-60a4-47b0-a927-ef037a202312\" xlink:actuate=\"onRequest\" xlink:href=\"psysml:418c7eed-60a4-47b0-a927-ef037a202312\" xlink:show=\"new\" xlink:title=\"psysml:418c7eed-60a4-47b0-a927-ef037a202312\" xlink:type=\"simple\"><path d=\"M339,267.1 C339,286.8 339,314.22 339,335.73 \" fill=\"none\" id=\"E4-&gt;E5\" style=\"stroke: #A80036; stroke-width: 1.0; stroke-dasharray: 7.0,7.0;\"/><polygon fill=\"#A80036\" points=\"339,343.95,342,335.95,336,335.95,339,343.95\" style=\"stroke: #A80036; stroke-width: 1.0;\"/><text fill=\"#000000\" font-family=\"sans-serif\" font-size=\"13\" lengthAdjust=\"spacingAndGlyphs\" textLength=\"64\" x=\"340\" y=\"310.0669\">«depend»</text></a><!--MD5=[c5e8897d989ce984f93528998a7150fe]\n",
       "link E8 to E6--><a href=\"psysml:27e0873a-b752-4942-bd7f-ca0670289346\" target=\"_top\" title=\"psysml:27e0873a-b752-4942-bd7f-ca0670289346\" xlink:actuate=\"onRequest\" xlink:href=\"psysml:27e0873a-b752-4942-bd7f-ca0670289346\" xlink:show=\"new\" xlink:title=\"psysml:27e0873a-b752-4942-bd7f-ca0670289346\" xlink:type=\"simple\"><path d=\"M89.42,133.6 C79.35,142.68 69.37,154.11 64,167 C58.5,180.2 58.66,195.94 60.54,209.38 \" fill=\"none\" id=\"E8-&gt;E6\" style=\"stroke: #A80036; stroke-width: 1.0; stroke-dasharray: 7.0,7.0;\"/><polygon fill=\"#A80036\" points=\"61.9,217.4,63.517,209.0104,57.6018,210.0159,61.9,217.4\" style=\"stroke: #A80036; stroke-width: 1.0;\"/><text fill=\"#000000\" font-family=\"sans-serif\" font-size=\"13\" lengthAdjust=\"spacingAndGlyphs\" textLength=\"64\" x=\"65\" y=\"180.0669\">«depend»</text></a><!--MD5=[bfa3c8b0d15052fdf50ae9310b491027]\n",
       "link E8 to E7--><a href=\"psysml:27e0873a-b752-4942-bd7f-ca0670289346\" target=\"_top\" title=\"psysml:27e0873a-b752-4942-bd7f-ca0670289346\" xlink:actuate=\"onRequest\" xlink:href=\"psysml:27e0873a-b752-4942-bd7f-ca0670289346\" xlink:show=\"new\" xlink:title=\"psysml:27e0873a-b752-4942-bd7f-ca0670289346\" xlink:type=\"simple\"><path d=\"M129.28,133.5 C138.17,154.57 151.64,186.5 161.47,209.81 \" fill=\"none\" id=\"E8-&gt;E7\" style=\"stroke: #A80036; stroke-width: 1.0; stroke-dasharray: 7.0,7.0;\"/><polygon fill=\"#A80036\" points=\"164.66,217.35,164.3241,208.8126,158.7933,211.1385,164.66,217.35\" style=\"stroke: #A80036; stroke-width: 1.0;\"/><text fill=\"#000000\" font-family=\"sans-serif\" font-size=\"13\" lengthAdjust=\"spacingAndGlyphs\" textLength=\"64\" x=\"151\" y=\"180.0669\">«depend»</text></a><!--MD5=[5bafdc44686fe6815b007b247c6f5ace]\n",
       "@startuml\r\n",
       "skinparam wrapWidth 300\r\n",
       "hide circle\r\n",
       "\r\n",
       "package \"DependencyTest\" as E1  [[psysml:30d47011-2b84-418c-8f66-5b5fafd7ed2a ]]  {\r\n",
       "package \"System\" as E2  [[psysml:5fbdfa4d-cafa-4f51-92a0-0bd6c2ea6fbb ]]  {\r\n",
       "package \"Application Layer\" as E3  [[psysml:511969d3-37b8-4975-ad7d-d9be97a14b44 ]]  {\r\n",
       "}\r\n",
       "package \"Service Layer\" as E4  [[psysml:3811cf97-7daf-4e30-b445-d9788e80eae2 ]]  {\r\n",
       "}\r\n",
       "package \"Data Layer\" as E5  [[psysml:2c8fb347-f198-4aa6-806c-1c573edf927e ]]  {\r\n",
       "}\r\n",
       "}\r\n",
       "comp usage \"x \" as E6  <<(T,blue) attribute>> [[psysml:3d7e11a6-324b-4ff0-8a6c-08a58aad852d ]] {\r\n",
       "}\r\n",
       "comp usage \"y \" as E7  <<(T,blue) attribute>> [[psysml:07b9e1bd-21f7-4218-b4f9-b36b2d1ccf74 ]] {\r\n",
       "}\r\n",
       "comp usage \"z \" as E8  <<(T,blue) attribute>> [[psysml:44529a0f-a1ad-4493-b824-b4a46bdd708e ]] {\r\n",
       "}\r\n",
       "}\r\n",
       "E3 ..>> E4 [[psysml:973be101-d69f-4acb-a430-79bda88f318e ]] : <<depend>>\r\n",
       "E4 ..>> E5 [[psysml:418c7eed-60a4-47b0-a927-ef037a202312 ]] : <<depend>>\r\n",
       "E8 ..>> E6 [[psysml:27e0873a-b752-4942-bd7f-ca0670289346 ]] : <<depend>>\r\n",
       "E8 ..>> E7 [[psysml:27e0873a-b752-4942-bd7f-ca0670289346 ]] : <<depend>>\r\n",
       "@enduml\r\n",
       "\n",
       "PlantUML version 1.2020.13(Sat Jun 13 12:26:38 UTC 2020)\n",
       "(EPL source distribution)\n",
       "Java Runtime: OpenJDK Runtime Environment\n",
       "JVM: OpenJDK 64-Bit Server VM\n",
       "Default Encoding: UTF-8\n",
       "Language: en\n",
       "Country: null\n",
       "--></g></svg>"
      ]
     },
     "execution_count": 23,
     "metadata": {},
     "output_type": "execute_result"
    }
   ],
   "source": [
    "%viz --style=\"STDCOLOR\" --view=\"Default\" \"DependencyTest\""
   ]
  },
  {
   "cell_type": "code",
   "execution_count": 24,
   "id": "b7963ba2",
   "metadata": {
    "execution": {
     "iopub.execute_input": "2022-02-05T16:52:50.719445Z",
     "iopub.status.busy": "2022-02-05T16:52:50.719021Z",
     "iopub.status.idle": "2022-02-05T16:52:50.754892Z",
     "shell.execute_reply": "2022-02-05T16:52:50.754521Z"
    }
   },
   "outputs": [
    {
     "data": {
      "image/svg+xml": [
       "<?xml version=\"1.0\" encoding=\"UTF-8\" standalone=\"no\"?><svg xmlns=\"http://www.w3.org/2000/svg\" xmlns:xlink=\"http://www.w3.org/1999/xlink\" contentScriptType=\"application/ecmascript\" contentStyleType=\"text/css\" height=\"449px\" preserveAspectRatio=\"none\" style=\"width:469px;height:449px;\" version=\"1.1\" viewBox=\"0 0 469 449\" width=\"469px\" zoomAndPan=\"magnify\"><defs><filter height=\"300%\" id=\"f3uwglnbn5xl\" width=\"300%\" x=\"-1\" y=\"-1\"><feGaussianBlur result=\"blurOut\" stdDeviation=\"2.0\"/><feColorMatrix in=\"blurOut\" result=\"blurOut2\" type=\"matrix\" values=\"0 0 0 0 0 0 0 0 0 0 0 0 0 0 0 0 0 0 .4 0\"/><feOffset dx=\"4.0\" dy=\"4.0\" in=\"blurOut2\" result=\"blurOut3\"/><feBlend in=\"SourceGraphic\" in2=\"blurOut3\" mode=\"normal\"/></filter></defs><g><!--MD5=[fbc87193dbaf4d95561dea2c320d4a47]\n",
       "cluster E1--><a href=\"psysml:30d47011-2b84-418c-8f66-5b5fafd7ed2a\" target=\"_top\" title=\"psysml:30d47011-2b84-418c-8f66-5b5fafd7ed2a\" xlink:actuate=\"onRequest\" xlink:href=\"psysml:30d47011-2b84-418c-8f66-5b5fafd7ed2a\" xlink:show=\"new\" xlink:title=\"psysml:30d47011-2b84-418c-8f66-5b5fafd7ed2a\" xlink:type=\"simple\"><polygon fill=\"#FFFFFF\" filter=\"url(#f3uwglnbn5xl)\" points=\"16,6,142,6,149,28.2969,447,28.2969,447,437,16,437,16,6\" style=\"stroke: #000000; stroke-width: 1.5;\"/><line style=\"stroke: #000000; stroke-width: 1.5;\" x1=\"16\" x2=\"149\" y1=\"28.2969\" y2=\"28.2969\"/><text fill=\"#000000\" font-family=\"sans-serif\" font-size=\"14\" font-weight=\"bold\" lengthAdjust=\"spacingAndGlyphs\" textLength=\"120\" x=\"20\" y=\"20.9951\">DependencyTest</text></a><!--MD5=[e4f7fae6ed58524ba242bb0b0d3be6b7]\n",
       "cluster E2--><a href=\"psysml:5fbdfa4d-cafa-4f51-92a0-0bd6c2ea6fbb\" target=\"_top\" title=\"psysml:5fbdfa4d-cafa-4f51-92a0-0bd6c2ea6fbb\" xlink:actuate=\"onRequest\" xlink:href=\"psysml:5fbdfa4d-cafa-4f51-92a0-0bd6c2ea6fbb\" xlink:show=\"new\" xlink:title=\"psysml:5fbdfa4d-cafa-4f51-92a0-0bd6c2ea6fbb\" xlink:type=\"simple\"><polygon fill=\"#FFFFFF\" filter=\"url(#f3uwglnbn5xl)\" points=\"255,49,312,49,319,71.2969,423,71.2969,423,413,255,413,255,49\" style=\"stroke: #000000; stroke-width: 1.5;\"/><line style=\"stroke: #000000; stroke-width: 1.5;\" x1=\"255\" x2=\"319\" y1=\"71.2969\" y2=\"71.2969\"/><text fill=\"#000000\" font-family=\"sans-serif\" font-size=\"14\" font-weight=\"bold\" lengthAdjust=\"spacingAndGlyphs\" textLength=\"51\" x=\"259\" y=\"63.9951\">System</text></a><!--MD5=[60a26617385b1d2d0262a64233df1f8d]\n",
       "class E6--><a href=\"psysml:3d7e11a6-324b-4ff0-8a6c-08a58aad852d\" target=\"_top\" title=\"psysml:3d7e11a6-324b-4ff0-8a6c-08a58aad852d\" xlink:actuate=\"onRequest\" xlink:href=\"psysml:3d7e11a6-324b-4ff0-8a6c-08a58aad852d\" xlink:show=\"new\" xlink:title=\"psysml:3d7e11a6-324b-4ff0-8a6c-08a58aad852d\" xlink:type=\"simple\"><rect fill=\"#FEFECE\" filter=\"url(#f3uwglnbn5xl)\" height=\"45.9375\" id=\"E6\" rx=\"10\" ry=\"10\" style=\"stroke: #A80036; stroke-width: 1.5;\" width=\"71\" x=\"32.5\" y=\"217.5\"/><text fill=\"#000000\" font-family=\"sans-serif\" font-size=\"12\" font-style=\"italic\" lengthAdjust=\"spacingAndGlyphs\" textLength=\"69\" x=\"33.5\" y=\"233.6387\">«attribute»</text><text fill=\"#000000\" font-family=\"sans-serif\" font-size=\"12\" lengthAdjust=\"spacingAndGlyphs\" textLength=\"6\" x=\"63\" y=\"247.6074\">x</text><line style=\"stroke: #A80036; stroke-width: 1.5;\" x1=\"33.5\" x2=\"102.5\" y1=\"255.4375\" y2=\"255.4375\"/></a><!--MD5=[2156ba9850f5573cc1fc38a6a4b2f02b]\n",
       "class E7--><a href=\"psysml:07b9e1bd-21f7-4218-b4f9-b36b2d1ccf74\" target=\"_top\" title=\"psysml:07b9e1bd-21f7-4218-b4f9-b36b2d1ccf74\" xlink:actuate=\"onRequest\" xlink:href=\"psysml:07b9e1bd-21f7-4218-b4f9-b36b2d1ccf74\" xlink:show=\"new\" xlink:title=\"psysml:07b9e1bd-21f7-4218-b4f9-b36b2d1ccf74\" xlink:type=\"simple\"><rect fill=\"#FEFECE\" filter=\"url(#f3uwglnbn5xl)\" height=\"45.9375\" id=\"E7\" rx=\"10\" ry=\"10\" style=\"stroke: #A80036; stroke-width: 1.5;\" width=\"71\" x=\"138.5\" y=\"217.5\"/><text fill=\"#000000\" font-family=\"sans-serif\" font-size=\"12\" font-style=\"italic\" lengthAdjust=\"spacingAndGlyphs\" textLength=\"69\" x=\"139.5\" y=\"233.6387\">«attribute»</text><text fill=\"#000000\" font-family=\"sans-serif\" font-size=\"12\" lengthAdjust=\"spacingAndGlyphs\" textLength=\"6\" x=\"169\" y=\"247.6074\">y</text><line style=\"stroke: #A80036; stroke-width: 1.5;\" x1=\"139.5\" x2=\"208.5\" y1=\"255.4375\" y2=\"255.4375\"/></a><!--MD5=[b9389687b975829384b498ac4b7476b2]\n",
       "class E8--><a href=\"psysml:44529a0f-a1ad-4493-b824-b4a46bdd708e\" target=\"_top\" title=\"psysml:44529a0f-a1ad-4493-b824-b4a46bdd708e\" xlink:actuate=\"onRequest\" xlink:href=\"psysml:44529a0f-a1ad-4493-b824-b4a46bdd708e\" xlink:show=\"new\" xlink:title=\"psysml:44529a0f-a1ad-4493-b824-b4a46bdd708e\" xlink:type=\"simple\"><rect fill=\"#FEFECE\" filter=\"url(#f3uwglnbn5xl)\" height=\"45.9375\" id=\"E8\" rx=\"10\" ry=\"10\" style=\"stroke: #A80036; stroke-width: 1.5;\" width=\"71\" x=\"84.5\" y=\"87.5\"/><text fill=\"#000000\" font-family=\"sans-serif\" font-size=\"12\" font-style=\"italic\" lengthAdjust=\"spacingAndGlyphs\" textLength=\"69\" x=\"85.5\" y=\"103.6387\">«attribute»</text><text fill=\"#000000\" font-family=\"sans-serif\" font-size=\"12\" lengthAdjust=\"spacingAndGlyphs\" textLength=\"5\" x=\"115.5\" y=\"117.6074\">z</text><line style=\"stroke: #A80036; stroke-width: 1.5;\" x1=\"85.5\" x2=\"154.5\" y1=\"125.4375\" y2=\"125.4375\"/></a><a href=\"psysml:511969d3-37b8-4975-ad7d-d9be97a14b44\" target=\"_top\" title=\"psysml:511969d3-37b8-4975-ad7d-d9be97a14b44\" xlink:actuate=\"onRequest\" xlink:href=\"psysml:511969d3-37b8-4975-ad7d-d9be97a14b44\" xlink:show=\"new\" xlink:title=\"psysml:511969d3-37b8-4975-ad7d-d9be97a14b44\" xlink:type=\"simple\"><polygon fill=\"#FFFFFF\" filter=\"url(#f3uwglnbn5xl)\" points=\"271.5,84,392.5,84,399.5,106.2969,406.5,106.2969,406.5,136.5938,271.5,136.5938,271.5,84\" style=\"stroke: #000000; stroke-width: 1.5;\"/><line style=\"stroke: #000000; stroke-width: 1.5;\" x1=\"271.5\" x2=\"399.5\" y1=\"106.2969\" y2=\"106.2969\"/><text fill=\"#000000\" font-family=\"sans-serif\" font-size=\"14\" font-weight=\"bold\" lengthAdjust=\"spacingAndGlyphs\" textLength=\"115\" x=\"275.5\" y=\"98.9951\">Application Layer</text></a><a href=\"psysml:3811cf97-7daf-4e30-b445-d9788e80eae2\" target=\"_top\" title=\"psysml:3811cf97-7daf-4e30-b445-d9788e80eae2\" xlink:actuate=\"onRequest\" xlink:href=\"psysml:3811cf97-7daf-4e30-b445-d9788e80eae2\" xlink:show=\"new\" xlink:title=\"psysml:3811cf97-7daf-4e30-b445-d9788e80eae2\" xlink:type=\"simple\"><polygon fill=\"#FFFFFF\" filter=\"url(#f3uwglnbn5xl)\" points=\"284,214,380,214,387,236.2969,394,236.2969,394,266.5938,284,266.5938,284,214\" style=\"stroke: #000000; stroke-width: 1.5;\"/><line style=\"stroke: #000000; stroke-width: 1.5;\" x1=\"284\" x2=\"387\" y1=\"236.2969\" y2=\"236.2969\"/><text fill=\"#000000\" font-family=\"sans-serif\" font-size=\"14\" font-weight=\"bold\" lengthAdjust=\"spacingAndGlyphs\" textLength=\"90\" x=\"288\" y=\"228.9951\">Service Layer</text></a><a href=\"psysml:2c8fb347-f198-4aa6-806c-1c573edf927e\" target=\"_top\" title=\"psysml:2c8fb347-f198-4aa6-806c-1c573edf927e\" xlink:actuate=\"onRequest\" xlink:href=\"psysml:2c8fb347-f198-4aa6-806c-1c573edf927e\" xlink:show=\"new\" xlink:title=\"psysml:2c8fb347-f198-4aa6-806c-1c573edf927e\" xlink:type=\"simple\"><polygon fill=\"#FFFFFF\" filter=\"url(#f3uwglnbn5xl)\" points=\"293,344,371,344,378,366.2969,385,366.2969,385,396.5938,293,396.5938,293,344\" style=\"stroke: #000000; stroke-width: 1.5;\"/><line style=\"stroke: #000000; stroke-width: 1.5;\" x1=\"293\" x2=\"378\" y1=\"366.2969\" y2=\"366.2969\"/><text fill=\"#000000\" font-family=\"sans-serif\" font-size=\"14\" font-weight=\"bold\" lengthAdjust=\"spacingAndGlyphs\" textLength=\"72\" x=\"297\" y=\"358.9951\">Data Layer</text></a><!--MD5=[af87c684e3b0d8be13c1a698a818ef1e]\n",
       "link E3 to E4--><a href=\"psysml:973be101-d69f-4acb-a430-79bda88f318e\" target=\"_top\" title=\"psysml:973be101-d69f-4acb-a430-79bda88f318e\" xlink:actuate=\"onRequest\" xlink:href=\"psysml:973be101-d69f-4acb-a430-79bda88f318e\" xlink:show=\"new\" xlink:title=\"psysml:973be101-d69f-4acb-a430-79bda88f318e\" xlink:type=\"simple\"><path d=\"M339,137.1 C339,156.8 339,184.22 339,205.73 \" fill=\"none\" id=\"E3-&gt;E4\" style=\"stroke: #A80036; stroke-width: 1.0; stroke-dasharray: 7.0,7.0;\"/><polygon fill=\"#A80036\" points=\"339,213.95,342,205.95,336,205.95,339,213.95\" style=\"stroke: #A80036; stroke-width: 1.0;\"/><text fill=\"#000000\" font-family=\"sans-serif\" font-size=\"13\" lengthAdjust=\"spacingAndGlyphs\" textLength=\"64\" x=\"340\" y=\"180.0669\">«depend»</text></a><!--MD5=[1b7591eae5389033d8d09a9d6721a717]\n",
       "link E4 to E5--><a href=\"psysml:418c7eed-60a4-47b0-a927-ef037a202312\" target=\"_top\" title=\"psysml:418c7eed-60a4-47b0-a927-ef037a202312\" xlink:actuate=\"onRequest\" xlink:href=\"psysml:418c7eed-60a4-47b0-a927-ef037a202312\" xlink:show=\"new\" xlink:title=\"psysml:418c7eed-60a4-47b0-a927-ef037a202312\" xlink:type=\"simple\"><path d=\"M339,267.1 C339,286.8 339,314.22 339,335.73 \" fill=\"none\" id=\"E4-&gt;E5\" style=\"stroke: #A80036; stroke-width: 1.0; stroke-dasharray: 7.0,7.0;\"/><polygon fill=\"#A80036\" points=\"339,343.95,342,335.95,336,335.95,339,343.95\" style=\"stroke: #A80036; stroke-width: 1.0;\"/><text fill=\"#000000\" font-family=\"sans-serif\" font-size=\"13\" lengthAdjust=\"spacingAndGlyphs\" textLength=\"64\" x=\"340\" y=\"310.0669\">«depend»</text></a><!--MD5=[c5e8897d989ce984f93528998a7150fe]\n",
       "link E8 to E6--><a href=\"psysml:27e0873a-b752-4942-bd7f-ca0670289346\" target=\"_top\" title=\"psysml:27e0873a-b752-4942-bd7f-ca0670289346\" xlink:actuate=\"onRequest\" xlink:href=\"psysml:27e0873a-b752-4942-bd7f-ca0670289346\" xlink:show=\"new\" xlink:title=\"psysml:27e0873a-b752-4942-bd7f-ca0670289346\" xlink:type=\"simple\"><path d=\"M89.42,133.6 C79.35,142.68 69.37,154.11 64,167 C58.5,180.2 58.66,195.94 60.54,209.38 \" fill=\"none\" id=\"E8-&gt;E6\" style=\"stroke: #A80036; stroke-width: 1.0; stroke-dasharray: 7.0,7.0;\"/><polygon fill=\"#A80036\" points=\"61.9,217.4,63.517,209.0104,57.6018,210.0159,61.9,217.4\" style=\"stroke: #A80036; stroke-width: 1.0;\"/><text fill=\"#000000\" font-family=\"sans-serif\" font-size=\"13\" lengthAdjust=\"spacingAndGlyphs\" textLength=\"64\" x=\"65\" y=\"180.0669\">«depend»</text></a><!--MD5=[bfa3c8b0d15052fdf50ae9310b491027]\n",
       "link E8 to E7--><a href=\"psysml:27e0873a-b752-4942-bd7f-ca0670289346\" target=\"_top\" title=\"psysml:27e0873a-b752-4942-bd7f-ca0670289346\" xlink:actuate=\"onRequest\" xlink:href=\"psysml:27e0873a-b752-4942-bd7f-ca0670289346\" xlink:show=\"new\" xlink:title=\"psysml:27e0873a-b752-4942-bd7f-ca0670289346\" xlink:type=\"simple\"><path d=\"M129.28,133.5 C138.17,154.57 151.64,186.5 161.47,209.81 \" fill=\"none\" id=\"E8-&gt;E7\" style=\"stroke: #A80036; stroke-width: 1.0; stroke-dasharray: 7.0,7.0;\"/><polygon fill=\"#A80036\" points=\"164.66,217.35,164.3241,208.8126,158.7933,211.1385,164.66,217.35\" style=\"stroke: #A80036; stroke-width: 1.0;\"/><text fill=\"#000000\" font-family=\"sans-serif\" font-size=\"13\" lengthAdjust=\"spacingAndGlyphs\" textLength=\"64\" x=\"151\" y=\"180.0669\">«depend»</text></a><!--MD5=[5bafdc44686fe6815b007b247c6f5ace]\n",
       "@startuml\r\n",
       "skinparam wrapWidth 300\r\n",
       "hide circle\r\n",
       "\r\n",
       "package \"DependencyTest\" as E1  [[psysml:30d47011-2b84-418c-8f66-5b5fafd7ed2a ]]  {\r\n",
       "package \"System\" as E2  [[psysml:5fbdfa4d-cafa-4f51-92a0-0bd6c2ea6fbb ]]  {\r\n",
       "package \"Application Layer\" as E3  [[psysml:511969d3-37b8-4975-ad7d-d9be97a14b44 ]]  {\r\n",
       "}\r\n",
       "package \"Service Layer\" as E4  [[psysml:3811cf97-7daf-4e30-b445-d9788e80eae2 ]]  {\r\n",
       "}\r\n",
       "package \"Data Layer\" as E5  [[psysml:2c8fb347-f198-4aa6-806c-1c573edf927e ]]  {\r\n",
       "}\r\n",
       "}\r\n",
       "comp usage \"x \" as E6  <<(T,blue) attribute>> [[psysml:3d7e11a6-324b-4ff0-8a6c-08a58aad852d ]] {\r\n",
       "}\r\n",
       "comp usage \"y \" as E7  <<(T,blue) attribute>> [[psysml:07b9e1bd-21f7-4218-b4f9-b36b2d1ccf74 ]] {\r\n",
       "}\r\n",
       "comp usage \"z \" as E8  <<(T,blue) attribute>> [[psysml:44529a0f-a1ad-4493-b824-b4a46bdd708e ]] {\r\n",
       "}\r\n",
       "}\r\n",
       "E3 ..>> E4 [[psysml:973be101-d69f-4acb-a430-79bda88f318e ]] : <<depend>>\r\n",
       "E4 ..>> E5 [[psysml:418c7eed-60a4-47b0-a927-ef037a202312 ]] : <<depend>>\r\n",
       "E8 ..>> E6 [[psysml:27e0873a-b752-4942-bd7f-ca0670289346 ]] : <<depend>>\r\n",
       "E8 ..>> E7 [[psysml:27e0873a-b752-4942-bd7f-ca0670289346 ]] : <<depend>>\r\n",
       "@enduml\r\n",
       "\n",
       "PlantUML version 1.2020.13(Sat Jun 13 12:26:38 UTC 2020)\n",
       "(EPL source distribution)\n",
       "Java Runtime: OpenJDK Runtime Environment\n",
       "JVM: OpenJDK 64-Bit Server VM\n",
       "Default Encoding: UTF-8\n",
       "Language: en\n",
       "Country: null\n",
       "--></g></svg>"
      ]
     },
     "execution_count": 24,
     "metadata": {},
     "output_type": "execute_result"
    }
   ],
   "source": [
    "%viz --style=\"STDCOLOR\" --view=\"Tree\" \"DependencyTest\""
   ]
  },
  {
   "cell_type": "code",
   "execution_count": 25,
   "id": "fdfe3c92",
   "metadata": {
    "execution": {
     "iopub.execute_input": "2022-02-05T16:52:50.804475Z",
     "iopub.status.busy": "2022-02-05T16:52:50.804070Z",
     "iopub.status.idle": "2022-02-05T16:52:50.808759Z",
     "shell.execute_reply": "2022-02-05T16:52:50.809052Z"
    }
   },
   "outputs": [
    {
     "data": {
      "image/svg+xml": [
       "<?xml version=\"1.0\" encoding=\"UTF-8\" standalone=\"no\"?><svg xmlns=\"http://www.w3.org/2000/svg\" xmlns:xlink=\"http://www.w3.org/1999/xlink\" contentScriptType=\"application/ecmascript\" contentStyleType=\"text/css\" height=\"12px\" preserveAspectRatio=\"none\" style=\"width:12px;height:12px;\" version=\"1.1\" viewBox=\"0 0 12 12\" width=\"12px\" zoomAndPan=\"magnify\"><defs/><g><!--MD5=[aeeef50f102b80d730deb6443d14f702]\n",
       "@startuml\r\n",
       "skinparam wrapWidth 300\r\n",
       "hide circle\r\n",
       "\r\n",
       "@enduml\r\n",
       "\n",
       "PlantUML version 1.2020.13(Sat Jun 13 12:26:38 UTC 2020)\n",
       "(EPL source distribution)\n",
       "Java Runtime: OpenJDK Runtime Environment\n",
       "JVM: OpenJDK 64-Bit Server VM\n",
       "Default Encoding: UTF-8\n",
       "Language: en\n",
       "Country: null\n",
       "--></g></svg>"
      ]
     },
     "execution_count": 25,
     "metadata": {},
     "output_type": "execute_result"
    }
   ],
   "source": [
    "%viz --style=\"STDCOLOR\" --view=\"State\" \"DependencyTest\""
   ]
  },
  {
   "cell_type": "code",
   "execution_count": 26,
   "id": "672f1e3a",
   "metadata": {
    "execution": {
     "iopub.execute_input": "2022-02-05T16:52:50.859132Z",
     "iopub.status.busy": "2022-02-05T16:52:50.858724Z",
     "iopub.status.idle": "2022-02-05T16:52:50.894956Z",
     "shell.execute_reply": "2022-02-05T16:52:50.894595Z"
    }
   },
   "outputs": [
    {
     "data": {
      "image/svg+xml": [
       "<?xml version=\"1.0\" encoding=\"UTF-8\" standalone=\"no\"?><svg xmlns=\"http://www.w3.org/2000/svg\" xmlns:xlink=\"http://www.w3.org/1999/xlink\" contentScriptType=\"application/ecmascript\" contentStyleType=\"text/css\" height=\"361px\" preserveAspectRatio=\"none\" style=\"width:469px;height:361px;\" version=\"1.1\" viewBox=\"0 0 469 361\" width=\"469px\" zoomAndPan=\"magnify\"><defs><filter height=\"300%\" id=\"f1g4curazepd84\" width=\"300%\" x=\"-1\" y=\"-1\"><feGaussianBlur result=\"blurOut\" stdDeviation=\"2.0\"/><feColorMatrix in=\"blurOut\" result=\"blurOut2\" type=\"matrix\" values=\"0 0 0 0 0 0 0 0 0 0 0 0 0 0 0 0 0 0 .4 0\"/><feOffset dx=\"4.0\" dy=\"4.0\" in=\"blurOut2\" result=\"blurOut3\"/><feBlend in=\"SourceGraphic\" in2=\"blurOut3\" mode=\"normal\"/></filter></defs><g><!--MD5=[fbc87193dbaf4d95561dea2c320d4a47]\n",
       "cluster E1--><a href=\"psysml:30d47011-2b84-418c-8f66-5b5fafd7ed2a\" target=\"_top\" title=\"psysml:30d47011-2b84-418c-8f66-5b5fafd7ed2a\" xlink:actuate=\"onRequest\" xlink:href=\"psysml:30d47011-2b84-418c-8f66-5b5fafd7ed2a\" xlink:show=\"new\" xlink:title=\"psysml:30d47011-2b84-418c-8f66-5b5fafd7ed2a\" xlink:type=\"simple\"><polygon fill=\"#FFFFFF\" filter=\"url(#f1g4curazepd84)\" points=\"16,6,142,6,149,28.2969,447,28.2969,447,349,16,349,16,6\" style=\"stroke: #000000; stroke-width: 1.5;\"/><line style=\"stroke: #000000; stroke-width: 1.5;\" x1=\"16\" x2=\"149\" y1=\"28.2969\" y2=\"28.2969\"/><text fill=\"#000000\" font-family=\"sans-serif\" font-size=\"14\" font-weight=\"bold\" lengthAdjust=\"spacingAndGlyphs\" textLength=\"120\" x=\"20\" y=\"20.9951\">DependencyTest</text></a><!--MD5=[e4f7fae6ed58524ba242bb0b0d3be6b7]\n",
       "cluster E2--><a href=\"psysml:5fbdfa4d-cafa-4f51-92a0-0bd6c2ea6fbb\" target=\"_top\" title=\"psysml:5fbdfa4d-cafa-4f51-92a0-0bd6c2ea6fbb\" xlink:actuate=\"onRequest\" xlink:href=\"psysml:5fbdfa4d-cafa-4f51-92a0-0bd6c2ea6fbb\" xlink:show=\"new\" xlink:title=\"psysml:5fbdfa4d-cafa-4f51-92a0-0bd6c2ea6fbb\" xlink:type=\"simple\"><polygon fill=\"#FFFFFF\" filter=\"url(#f1g4curazepd84)\" points=\"255,49,312,49,319,71.2969,423,71.2969,423,325,255,325,255,49\" style=\"stroke: #000000; stroke-width: 1.5;\"/><line style=\"stroke: #000000; stroke-width: 1.5;\" x1=\"255\" x2=\"319\" y1=\"71.2969\" y2=\"71.2969\"/><text fill=\"#000000\" font-family=\"sans-serif\" font-size=\"14\" font-weight=\"bold\" lengthAdjust=\"spacingAndGlyphs\" textLength=\"51\" x=\"259\" y=\"63.9951\">System</text></a><!--MD5=[60a26617385b1d2d0262a64233df1f8d]\n",
       "class E6--><a href=\"psysml:3d7e11a6-324b-4ff0-8a6c-08a58aad852d\" target=\"_top\" title=\"psysml:3d7e11a6-324b-4ff0-8a6c-08a58aad852d\" xlink:actuate=\"onRequest\" xlink:href=\"psysml:3d7e11a6-324b-4ff0-8a6c-08a58aad852d\" xlink:show=\"new\" xlink:title=\"psysml:3d7e11a6-324b-4ff0-8a6c-08a58aad852d\" xlink:type=\"simple\"><rect fill=\"#FEFECE\" filter=\"url(#f1g4curazepd84)\" height=\"45.9375\" id=\"E6\" rx=\"10\" ry=\"10\" style=\"stroke: #A80036; stroke-width: 1.5;\" width=\"71\" x=\"32.5\" y=\"173.5\"/><text fill=\"#000000\" font-family=\"sans-serif\" font-size=\"12\" font-style=\"italic\" lengthAdjust=\"spacingAndGlyphs\" textLength=\"69\" x=\"33.5\" y=\"189.6387\">«attribute»</text><text fill=\"#000000\" font-family=\"sans-serif\" font-size=\"12\" lengthAdjust=\"spacingAndGlyphs\" textLength=\"6\" x=\"63\" y=\"203.6074\">x</text><line style=\"stroke: #A80036; stroke-width: 1.5;\" x1=\"33.5\" x2=\"102.5\" y1=\"211.4375\" y2=\"211.4375\"/></a><!--MD5=[2156ba9850f5573cc1fc38a6a4b2f02b]\n",
       "class E7--><a href=\"psysml:07b9e1bd-21f7-4218-b4f9-b36b2d1ccf74\" target=\"_top\" title=\"psysml:07b9e1bd-21f7-4218-b4f9-b36b2d1ccf74\" xlink:actuate=\"onRequest\" xlink:href=\"psysml:07b9e1bd-21f7-4218-b4f9-b36b2d1ccf74\" xlink:show=\"new\" xlink:title=\"psysml:07b9e1bd-21f7-4218-b4f9-b36b2d1ccf74\" xlink:type=\"simple\"><rect fill=\"#FEFECE\" filter=\"url(#f1g4curazepd84)\" height=\"45.9375\" id=\"E7\" rx=\"10\" ry=\"10\" style=\"stroke: #A80036; stroke-width: 1.5;\" width=\"71\" x=\"138.5\" y=\"173.5\"/><text fill=\"#000000\" font-family=\"sans-serif\" font-size=\"12\" font-style=\"italic\" lengthAdjust=\"spacingAndGlyphs\" textLength=\"69\" x=\"139.5\" y=\"189.6387\">«attribute»</text><text fill=\"#000000\" font-family=\"sans-serif\" font-size=\"12\" lengthAdjust=\"spacingAndGlyphs\" textLength=\"6\" x=\"169\" y=\"203.6074\">y</text><line style=\"stroke: #A80036; stroke-width: 1.5;\" x1=\"139.5\" x2=\"208.5\" y1=\"211.4375\" y2=\"211.4375\"/></a><!--MD5=[b9389687b975829384b498ac4b7476b2]\n",
       "class E8--><a href=\"psysml:44529a0f-a1ad-4493-b824-b4a46bdd708e\" target=\"_top\" title=\"psysml:44529a0f-a1ad-4493-b824-b4a46bdd708e\" xlink:actuate=\"onRequest\" xlink:href=\"psysml:44529a0f-a1ad-4493-b824-b4a46bdd708e\" xlink:show=\"new\" xlink:title=\"psysml:44529a0f-a1ad-4493-b824-b4a46bdd708e\" xlink:type=\"simple\"><rect fill=\"#FEFECE\" filter=\"url(#f1g4curazepd84)\" height=\"45.9375\" id=\"E8\" rx=\"10\" ry=\"10\" style=\"stroke: #A80036; stroke-width: 1.5;\" width=\"71\" x=\"84.5\" y=\"87.5\"/><text fill=\"#000000\" font-family=\"sans-serif\" font-size=\"12\" font-style=\"italic\" lengthAdjust=\"spacingAndGlyphs\" textLength=\"69\" x=\"85.5\" y=\"103.6387\">«attribute»</text><text fill=\"#000000\" font-family=\"sans-serif\" font-size=\"12\" lengthAdjust=\"spacingAndGlyphs\" textLength=\"5\" x=\"115.5\" y=\"117.6074\">z</text><line style=\"stroke: #A80036; stroke-width: 1.5;\" x1=\"85.5\" x2=\"154.5\" y1=\"125.4375\" y2=\"125.4375\"/></a><a href=\"psysml:511969d3-37b8-4975-ad7d-d9be97a14b44\" target=\"_top\" title=\"psysml:511969d3-37b8-4975-ad7d-d9be97a14b44\" xlink:actuate=\"onRequest\" xlink:href=\"psysml:511969d3-37b8-4975-ad7d-d9be97a14b44\" xlink:show=\"new\" xlink:title=\"psysml:511969d3-37b8-4975-ad7d-d9be97a14b44\" xlink:type=\"simple\"><polygon fill=\"#FFFFFF\" filter=\"url(#f1g4curazepd84)\" points=\"271.5,84,392.5,84,399.5,106.2969,406.5,106.2969,406.5,136.5938,271.5,136.5938,271.5,84\" style=\"stroke: #000000; stroke-width: 1.5;\"/><line style=\"stroke: #000000; stroke-width: 1.5;\" x1=\"271.5\" x2=\"399.5\" y1=\"106.2969\" y2=\"106.2969\"/><text fill=\"#000000\" font-family=\"sans-serif\" font-size=\"14\" font-weight=\"bold\" lengthAdjust=\"spacingAndGlyphs\" textLength=\"115\" x=\"275.5\" y=\"98.9951\">Application Layer</text></a><a href=\"psysml:3811cf97-7daf-4e30-b445-d9788e80eae2\" target=\"_top\" title=\"psysml:3811cf97-7daf-4e30-b445-d9788e80eae2\" xlink:actuate=\"onRequest\" xlink:href=\"psysml:3811cf97-7daf-4e30-b445-d9788e80eae2\" xlink:show=\"new\" xlink:title=\"psysml:3811cf97-7daf-4e30-b445-d9788e80eae2\" xlink:type=\"simple\"><polygon fill=\"#FFFFFF\" filter=\"url(#f1g4curazepd84)\" points=\"284,170,380,170,387,192.2969,394,192.2969,394,222.5938,284,222.5938,284,170\" style=\"stroke: #000000; stroke-width: 1.5;\"/><line style=\"stroke: #000000; stroke-width: 1.5;\" x1=\"284\" x2=\"387\" y1=\"192.2969\" y2=\"192.2969\"/><text fill=\"#000000\" font-family=\"sans-serif\" font-size=\"14\" font-weight=\"bold\" lengthAdjust=\"spacingAndGlyphs\" textLength=\"90\" x=\"288\" y=\"184.9951\">Service Layer</text></a><a href=\"psysml:2c8fb347-f198-4aa6-806c-1c573edf927e\" target=\"_top\" title=\"psysml:2c8fb347-f198-4aa6-806c-1c573edf927e\" xlink:actuate=\"onRequest\" xlink:href=\"psysml:2c8fb347-f198-4aa6-806c-1c573edf927e\" xlink:show=\"new\" xlink:title=\"psysml:2c8fb347-f198-4aa6-806c-1c573edf927e\" xlink:type=\"simple\"><polygon fill=\"#FFFFFF\" filter=\"url(#f1g4curazepd84)\" points=\"293,256,371,256,378,278.2969,385,278.2969,385,308.5938,293,308.5938,293,256\" style=\"stroke: #000000; stroke-width: 1.5;\"/><line style=\"stroke: #000000; stroke-width: 1.5;\" x1=\"293\" x2=\"378\" y1=\"278.2969\" y2=\"278.2969\"/><text fill=\"#000000\" font-family=\"sans-serif\" font-size=\"14\" font-weight=\"bold\" lengthAdjust=\"spacingAndGlyphs\" textLength=\"72\" x=\"297\" y=\"270.9951\">Data Layer</text></a><!--MD5=[af87c684e3b0d8be13c1a698a818ef1e]\n",
       "link E3 to E4--><a href=\"psysml:973be101-d69f-4acb-a430-79bda88f318e\" target=\"_top\" title=\"psysml:973be101-d69f-4acb-a430-79bda88f318e\" xlink:actuate=\"onRequest\" xlink:href=\"psysml:973be101-d69f-4acb-a430-79bda88f318e\" xlink:show=\"new\" xlink:title=\"psysml:973be101-d69f-4acb-a430-79bda88f318e\" xlink:type=\"simple\"><path d=\"M339,137.16 C339,144.98 339,153.69 339,161.94 \" fill=\"none\" id=\"E3-&gt;E4\" style=\"stroke: #A80036; stroke-width: 1.0; stroke-dasharray: 7.0,7.0;\"/><polygon fill=\"#A80036\" points=\"339,170,342,162,336,162,339,170\" style=\"stroke: #A80036; stroke-width: 1.0;\"/><text fill=\"#000000\" font-family=\"sans-serif\" font-size=\"13\" lengthAdjust=\"spacingAndGlyphs\" textLength=\"64\" x=\"340\" y=\"158.0669\">«depend»</text></a><!--MD5=[1b7591eae5389033d8d09a9d6721a717]\n",
       "link E4 to E5--><a href=\"psysml:418c7eed-60a4-47b0-a927-ef037a202312\" target=\"_top\" title=\"psysml:418c7eed-60a4-47b0-a927-ef037a202312\" xlink:actuate=\"onRequest\" xlink:href=\"psysml:418c7eed-60a4-47b0-a927-ef037a202312\" xlink:show=\"new\" xlink:title=\"psysml:418c7eed-60a4-47b0-a927-ef037a202312\" xlink:type=\"simple\"><path d=\"M339,223.16 C339,230.98 339,239.69 339,247.94 \" fill=\"none\" id=\"E4-&gt;E5\" style=\"stroke: #A80036; stroke-width: 1.0; stroke-dasharray: 7.0,7.0;\"/><polygon fill=\"#A80036\" points=\"339,256,342,248,336,248,339,256\" style=\"stroke: #A80036; stroke-width: 1.0;\"/><text fill=\"#000000\" font-family=\"sans-serif\" font-size=\"13\" lengthAdjust=\"spacingAndGlyphs\" textLength=\"64\" x=\"340\" y=\"244.0669\">«depend»</text></a><!--MD5=[c5e8897d989ce984f93528998a7150fe]\n",
       "link E8 to E6--><a href=\"psysml:27e0873a-b752-4942-bd7f-ca0670289346\" target=\"_top\" title=\"psysml:27e0873a-b752-4942-bd7f-ca0670289346\" xlink:actuate=\"onRequest\" xlink:href=\"psysml:27e0873a-b752-4942-bd7f-ca0670289346\" xlink:show=\"new\" xlink:title=\"psysml:27e0873a-b752-4942-bd7f-ca0670289346\" xlink:type=\"simple\"><path d=\"M84.49,125.34 C76.34,130.27 68.69,136.72 64,145 C60.54,151.1 59.62,158.31 60,165.33 \" fill=\"none\" id=\"E8-&gt;E6\" style=\"stroke: #A80036; stroke-width: 1.0; stroke-dasharray: 7.0,7.0;\"/><polygon fill=\"#A80036\" points=\"60.97,173.42,63.0061,165.1221,57.0479,165.8294,60.97,173.42\" style=\"stroke: #A80036; stroke-width: 1.0;\"/><text fill=\"#000000\" font-family=\"sans-serif\" font-size=\"13\" lengthAdjust=\"spacingAndGlyphs\" textLength=\"64\" x=\"65\" y=\"158.0669\">«depend»</text></a><!--MD5=[bfa3c8b0d15052fdf50ae9310b491027]\n",
       "link E8 to E7--><a href=\"psysml:27e0873a-b752-4942-bd7f-ca0670289346\" target=\"_top\" title=\"psysml:27e0873a-b752-4942-bd7f-ca0670289346\" xlink:actuate=\"onRequest\" xlink:href=\"psysml:27e0873a-b752-4942-bd7f-ca0670289346\" xlink:show=\"new\" xlink:title=\"psysml:27e0873a-b752-4942-bd7f-ca0670289346\" xlink:type=\"simple\"><path d=\"M134.19,133.57 C140.65,143.62 148.38,155.65 155.31,166.42 \" fill=\"none\" id=\"E8-&gt;E7\" style=\"stroke: #A80036; stroke-width: 1.0; stroke-dasharray: 7.0,7.0;\"/><polygon fill=\"#A80036\" points=\"159.72,173.29,157.9148,164.9389,152.8688,168.185,159.72,173.29\" style=\"stroke: #A80036; stroke-width: 1.0;\"/><text fill=\"#000000\" font-family=\"sans-serif\" font-size=\"13\" lengthAdjust=\"spacingAndGlyphs\" textLength=\"64\" x=\"152\" y=\"158.0669\">«depend»</text></a><!--MD5=[1ca4204bb540554f3a2769cfbf711986]\n",
       "@startuml\r\n",
       "skinparam ranksep 10\r\n",
       "skinparam rectangle {\r\n",
       " backgroundColor<<block>> LightGreen\r\n",
       "}\r\n",
       "skinparam wrapWidth 300\r\n",
       "hide circle\r\n",
       "\r\n",
       "package \"DependencyTest\" as E1  [[psysml:30d47011-2b84-418c-8f66-5b5fafd7ed2a ]]  {\r\n",
       "package \"System\" as E2  [[psysml:5fbdfa4d-cafa-4f51-92a0-0bd6c2ea6fbb ]]  {\r\n",
       "package \"Application Layer\" as E3  [[psysml:511969d3-37b8-4975-ad7d-d9be97a14b44 ]]  {\r\n",
       "}\r\n",
       "package \"Service Layer\" as E4  [[psysml:3811cf97-7daf-4e30-b445-d9788e80eae2 ]]  {\r\n",
       "}\r\n",
       "package \"Data Layer\" as E5  [[psysml:2c8fb347-f198-4aa6-806c-1c573edf927e ]]  {\r\n",
       "}\r\n",
       "}\r\n",
       "comp usage \"x \" as E6  <<(T,blue) attribute>> [[psysml:3d7e11a6-324b-4ff0-8a6c-08a58aad852d ]] {\r\n",
       "}\r\n",
       "comp usage \"y \" as E7  <<(T,blue) attribute>> [[psysml:07b9e1bd-21f7-4218-b4f9-b36b2d1ccf74 ]] {\r\n",
       "}\r\n",
       "comp usage \"z \" as E8  <<(T,blue) attribute>> [[psysml:44529a0f-a1ad-4493-b824-b4a46bdd708e ]] {\r\n",
       "}\r\n",
       "}\r\n",
       "E3 ..>> E4 [[psysml:973be101-d69f-4acb-a430-79bda88f318e ]] : <<depend>>\r\n",
       "E4 ..>> E5 [[psysml:418c7eed-60a4-47b0-a927-ef037a202312 ]] : <<depend>>\r\n",
       "E8 ..>> E6 [[psysml:27e0873a-b752-4942-bd7f-ca0670289346 ]] : <<depend>>\r\n",
       "E8 ..>> E7 [[psysml:27e0873a-b752-4942-bd7f-ca0670289346 ]] : <<depend>>\r\n",
       "@enduml\r\n",
       "\n",
       "PlantUML version 1.2020.13(Sat Jun 13 12:26:38 UTC 2020)\n",
       "(EPL source distribution)\n",
       "Java Runtime: OpenJDK Runtime Environment\n",
       "JVM: OpenJDK 64-Bit Server VM\n",
       "Default Encoding: UTF-8\n",
       "Language: en\n",
       "Country: null\n",
       "--></g></svg>"
      ]
     },
     "execution_count": 26,
     "metadata": {},
     "output_type": "execute_result"
    }
   ],
   "source": [
    "%viz --style=\"STDCOLOR\" --view=\"Interconnection\" \"DependencyTest\""
   ]
  },
  {
   "cell_type": "code",
   "execution_count": 27,
   "id": "bc4d390c",
   "metadata": {
    "execution": {
     "iopub.execute_input": "2022-02-05T16:52:50.944508Z",
     "iopub.status.busy": "2022-02-05T16:52:50.944100Z",
     "iopub.status.idle": "2022-02-05T16:52:50.948754Z",
     "shell.execute_reply": "2022-02-05T16:52:50.949062Z"
    }
   },
   "outputs": [
    {
     "data": {
      "image/svg+xml": [
       "<?xml version=\"1.0\" encoding=\"UTF-8\" standalone=\"no\"?><svg xmlns=\"http://www.w3.org/2000/svg\" xmlns:xlink=\"http://www.w3.org/1999/xlink\" contentScriptType=\"application/ecmascript\" contentStyleType=\"text/css\" height=\"12px\" preserveAspectRatio=\"none\" style=\"width:12px;height:12px;\" version=\"1.1\" viewBox=\"0 0 12 12\" width=\"12px\" zoomAndPan=\"magnify\"><defs/><g><!--MD5=[9863325348a96a77dacc89509d8ee65e]\n",
       "@startuml\r\n",
       "skinparam ranksep 8\r\n",
       "skinparam wrapWidth 300\r\n",
       "hide circle\r\n",
       "\r\n",
       "@enduml\r\n",
       "\n",
       "PlantUML version 1.2020.13(Sat Jun 13 12:26:38 UTC 2020)\n",
       "(EPL source distribution)\n",
       "Java Runtime: OpenJDK Runtime Environment\n",
       "JVM: OpenJDK 64-Bit Server VM\n",
       "Default Encoding: UTF-8\n",
       "Language: en\n",
       "Country: null\n",
       "--></g></svg>"
      ]
     },
     "execution_count": 27,
     "metadata": {},
     "output_type": "execute_result"
    }
   ],
   "source": [
    "%viz --style=\"STDCOLOR\" --view=\"Action\" \"DependencyTest\""
   ]
  },
  {
   "cell_type": "code",
   "execution_count": 28,
   "id": "676512c3",
   "metadata": {
    "execution": {
     "iopub.execute_input": "2022-02-05T16:52:50.999094Z",
     "iopub.status.busy": "2022-02-05T16:52:50.998690Z",
     "iopub.status.idle": "2022-02-05T16:52:51.003387Z",
     "shell.execute_reply": "2022-02-05T16:52:51.003680Z"
    }
   },
   "outputs": [
    {
     "data": {
      "image/svg+xml": [
       "<?xml version=\"1.0\" encoding=\"UTF-8\" standalone=\"no\"?><svg xmlns=\"http://www.w3.org/2000/svg\" xmlns:xlink=\"http://www.w3.org/1999/xlink\" contentScriptType=\"application/ecmascript\" contentStyleType=\"text/css\" height=\"12px\" preserveAspectRatio=\"none\" style=\"width:12px;height:12px;\" version=\"1.1\" viewBox=\"0 0 12 12\" width=\"12px\" zoomAndPan=\"magnify\"><defs/><g><!--MD5=[6c4bca67b4d71758159a5a7f1f1e1fc2]\n",
       "@startuml\r\n",
       "skinparam roundcorner 20\r\n",
       "skinparam BoxPadding 20\r\n",
       "skinparam SequenceBoxBackgroundColor #white\r\n",
       "skinparam style strictuml\r\n",
       "skinparam maxMessageSize 100\r\n",
       "skinparam wrapWidth 300\r\n",
       "hide circle\r\n",
       "\r\n",
       "@enduml\r\n",
       "\n",
       "PlantUML version 1.2020.13(Sat Jun 13 12:26:38 UTC 2020)\n",
       "(EPL source distribution)\n",
       "Java Runtime: OpenJDK Runtime Environment\n",
       "JVM: OpenJDK 64-Bit Server VM\n",
       "Default Encoding: UTF-8\n",
       "Language: en\n",
       "Country: null\n",
       "--></g></svg>"
      ]
     },
     "execution_count": 28,
     "metadata": {},
     "output_type": "execute_result"
    }
   ],
   "source": [
    "%viz --style=\"STDCOLOR\" --view=\"Sequence\" \"DependencyTest\""
   ]
  },
  {
   "cell_type": "code",
   "execution_count": 29,
   "id": "21071bd3",
   "metadata": {
    "execution": {
     "iopub.execute_input": "2022-02-05T16:52:51.053867Z",
     "iopub.status.busy": "2022-02-05T16:52:51.053468Z",
     "iopub.status.idle": "2022-02-05T16:52:51.098875Z",
     "shell.execute_reply": "2022-02-05T16:52:51.097416Z"
    }
   },
   "outputs": [
    {
     "data": {
      "image/svg+xml": [
       "<?xml version=\"1.0\" encoding=\"UTF-8\" standalone=\"no\"?><svg xmlns=\"http://www.w3.org/2000/svg\" xmlns:xlink=\"http://www.w3.org/1999/xlink\" contentScriptType=\"application/ecmascript\" contentStyleType=\"text/css\" height=\"449px\" preserveAspectRatio=\"none\" style=\"width:469px;height:449px;\" version=\"1.1\" viewBox=\"0 0 469 449\" width=\"469px\" zoomAndPan=\"magnify\"><defs><filter height=\"300%\" id=\"f3uwglnbn5xl\" width=\"300%\" x=\"-1\" y=\"-1\"><feGaussianBlur result=\"blurOut\" stdDeviation=\"2.0\"/><feColorMatrix in=\"blurOut\" result=\"blurOut2\" type=\"matrix\" values=\"0 0 0 0 0 0 0 0 0 0 0 0 0 0 0 0 0 0 .4 0\"/><feOffset dx=\"4.0\" dy=\"4.0\" in=\"blurOut2\" result=\"blurOut3\"/><feBlend in=\"SourceGraphic\" in2=\"blurOut3\" mode=\"normal\"/></filter></defs><g><!--MD5=[fbc87193dbaf4d95561dea2c320d4a47]\n",
       "cluster E1--><a href=\"psysml:30d47011-2b84-418c-8f66-5b5fafd7ed2a\" target=\"_top\" title=\"psysml:30d47011-2b84-418c-8f66-5b5fafd7ed2a\" xlink:actuate=\"onRequest\" xlink:href=\"psysml:30d47011-2b84-418c-8f66-5b5fafd7ed2a\" xlink:show=\"new\" xlink:title=\"psysml:30d47011-2b84-418c-8f66-5b5fafd7ed2a\" xlink:type=\"simple\"><polygon fill=\"#FFFFFF\" filter=\"url(#f3uwglnbn5xl)\" points=\"16,6,142,6,149,28.2969,447,28.2969,447,437,16,437,16,6\" style=\"stroke: #000000; stroke-width: 1.5;\"/><line style=\"stroke: #000000; stroke-width: 1.5;\" x1=\"16\" x2=\"149\" y1=\"28.2969\" y2=\"28.2969\"/><text fill=\"#000000\" font-family=\"sans-serif\" font-size=\"14\" font-weight=\"bold\" lengthAdjust=\"spacingAndGlyphs\" textLength=\"120\" x=\"20\" y=\"20.9951\">DependencyTest</text></a><!--MD5=[e4f7fae6ed58524ba242bb0b0d3be6b7]\n",
       "cluster E2--><a href=\"psysml:5fbdfa4d-cafa-4f51-92a0-0bd6c2ea6fbb\" target=\"_top\" title=\"psysml:5fbdfa4d-cafa-4f51-92a0-0bd6c2ea6fbb\" xlink:actuate=\"onRequest\" xlink:href=\"psysml:5fbdfa4d-cafa-4f51-92a0-0bd6c2ea6fbb\" xlink:show=\"new\" xlink:title=\"psysml:5fbdfa4d-cafa-4f51-92a0-0bd6c2ea6fbb\" xlink:type=\"simple\"><polygon fill=\"#FFFFFF\" filter=\"url(#f3uwglnbn5xl)\" points=\"255,49,312,49,319,71.2969,423,71.2969,423,413,255,413,255,49\" style=\"stroke: #000000; stroke-width: 1.5;\"/><line style=\"stroke: #000000; stroke-width: 1.5;\" x1=\"255\" x2=\"319\" y1=\"71.2969\" y2=\"71.2969\"/><text fill=\"#000000\" font-family=\"sans-serif\" font-size=\"14\" font-weight=\"bold\" lengthAdjust=\"spacingAndGlyphs\" textLength=\"51\" x=\"259\" y=\"63.9951\">System</text></a><!--MD5=[60a26617385b1d2d0262a64233df1f8d]\n",
       "class E6--><a href=\"psysml:3d7e11a6-324b-4ff0-8a6c-08a58aad852d\" target=\"_top\" title=\"psysml:3d7e11a6-324b-4ff0-8a6c-08a58aad852d\" xlink:actuate=\"onRequest\" xlink:href=\"psysml:3d7e11a6-324b-4ff0-8a6c-08a58aad852d\" xlink:show=\"new\" xlink:title=\"psysml:3d7e11a6-324b-4ff0-8a6c-08a58aad852d\" xlink:type=\"simple\"><rect fill=\"#FEFECE\" filter=\"url(#f3uwglnbn5xl)\" height=\"45.9375\" id=\"E6\" rx=\"10\" ry=\"10\" style=\"stroke: #A80036; stroke-width: 1.5;\" width=\"71\" x=\"32.5\" y=\"217.5\"/><text fill=\"#000000\" font-family=\"sans-serif\" font-size=\"12\" font-style=\"italic\" lengthAdjust=\"spacingAndGlyphs\" textLength=\"69\" x=\"33.5\" y=\"233.6387\">«attribute»</text><text fill=\"#000000\" font-family=\"sans-serif\" font-size=\"12\" lengthAdjust=\"spacingAndGlyphs\" textLength=\"6\" x=\"63\" y=\"247.6074\">x</text><line style=\"stroke: #A80036; stroke-width: 1.5;\" x1=\"33.5\" x2=\"102.5\" y1=\"255.4375\" y2=\"255.4375\"/></a><!--MD5=[2156ba9850f5573cc1fc38a6a4b2f02b]\n",
       "class E7--><a href=\"psysml:07b9e1bd-21f7-4218-b4f9-b36b2d1ccf74\" target=\"_top\" title=\"psysml:07b9e1bd-21f7-4218-b4f9-b36b2d1ccf74\" xlink:actuate=\"onRequest\" xlink:href=\"psysml:07b9e1bd-21f7-4218-b4f9-b36b2d1ccf74\" xlink:show=\"new\" xlink:title=\"psysml:07b9e1bd-21f7-4218-b4f9-b36b2d1ccf74\" xlink:type=\"simple\"><rect fill=\"#FEFECE\" filter=\"url(#f3uwglnbn5xl)\" height=\"45.9375\" id=\"E7\" rx=\"10\" ry=\"10\" style=\"stroke: #A80036; stroke-width: 1.5;\" width=\"71\" x=\"138.5\" y=\"217.5\"/><text fill=\"#000000\" font-family=\"sans-serif\" font-size=\"12\" font-style=\"italic\" lengthAdjust=\"spacingAndGlyphs\" textLength=\"69\" x=\"139.5\" y=\"233.6387\">«attribute»</text><text fill=\"#000000\" font-family=\"sans-serif\" font-size=\"12\" lengthAdjust=\"spacingAndGlyphs\" textLength=\"6\" x=\"169\" y=\"247.6074\">y</text><line style=\"stroke: #A80036; stroke-width: 1.5;\" x1=\"139.5\" x2=\"208.5\" y1=\"255.4375\" y2=\"255.4375\"/></a><!--MD5=[b9389687b975829384b498ac4b7476b2]\n",
       "class E8--><a href=\"psysml:44529a0f-a1ad-4493-b824-b4a46bdd708e\" target=\"_top\" title=\"psysml:44529a0f-a1ad-4493-b824-b4a46bdd708e\" xlink:actuate=\"onRequest\" xlink:href=\"psysml:44529a0f-a1ad-4493-b824-b4a46bdd708e\" xlink:show=\"new\" xlink:title=\"psysml:44529a0f-a1ad-4493-b824-b4a46bdd708e\" xlink:type=\"simple\"><rect fill=\"#FEFECE\" filter=\"url(#f3uwglnbn5xl)\" height=\"45.9375\" id=\"E8\" rx=\"10\" ry=\"10\" style=\"stroke: #A80036; stroke-width: 1.5;\" width=\"71\" x=\"84.5\" y=\"87.5\"/><text fill=\"#000000\" font-family=\"sans-serif\" font-size=\"12\" font-style=\"italic\" lengthAdjust=\"spacingAndGlyphs\" textLength=\"69\" x=\"85.5\" y=\"103.6387\">«attribute»</text><text fill=\"#000000\" font-family=\"sans-serif\" font-size=\"12\" lengthAdjust=\"spacingAndGlyphs\" textLength=\"5\" x=\"115.5\" y=\"117.6074\">z</text><line style=\"stroke: #A80036; stroke-width: 1.5;\" x1=\"85.5\" x2=\"154.5\" y1=\"125.4375\" y2=\"125.4375\"/></a><a href=\"psysml:511969d3-37b8-4975-ad7d-d9be97a14b44\" target=\"_top\" title=\"psysml:511969d3-37b8-4975-ad7d-d9be97a14b44\" xlink:actuate=\"onRequest\" xlink:href=\"psysml:511969d3-37b8-4975-ad7d-d9be97a14b44\" xlink:show=\"new\" xlink:title=\"psysml:511969d3-37b8-4975-ad7d-d9be97a14b44\" xlink:type=\"simple\"><polygon fill=\"#FFFFFF\" filter=\"url(#f3uwglnbn5xl)\" points=\"271.5,84,392.5,84,399.5,106.2969,406.5,106.2969,406.5,136.5938,271.5,136.5938,271.5,84\" style=\"stroke: #000000; stroke-width: 1.5;\"/><line style=\"stroke: #000000; stroke-width: 1.5;\" x1=\"271.5\" x2=\"399.5\" y1=\"106.2969\" y2=\"106.2969\"/><text fill=\"#000000\" font-family=\"sans-serif\" font-size=\"14\" font-weight=\"bold\" lengthAdjust=\"spacingAndGlyphs\" textLength=\"115\" x=\"275.5\" y=\"98.9951\">Application Layer</text></a><a href=\"psysml:3811cf97-7daf-4e30-b445-d9788e80eae2\" target=\"_top\" title=\"psysml:3811cf97-7daf-4e30-b445-d9788e80eae2\" xlink:actuate=\"onRequest\" xlink:href=\"psysml:3811cf97-7daf-4e30-b445-d9788e80eae2\" xlink:show=\"new\" xlink:title=\"psysml:3811cf97-7daf-4e30-b445-d9788e80eae2\" xlink:type=\"simple\"><polygon fill=\"#FFFFFF\" filter=\"url(#f3uwglnbn5xl)\" points=\"284,214,380,214,387,236.2969,394,236.2969,394,266.5938,284,266.5938,284,214\" style=\"stroke: #000000; stroke-width: 1.5;\"/><line style=\"stroke: #000000; stroke-width: 1.5;\" x1=\"284\" x2=\"387\" y1=\"236.2969\" y2=\"236.2969\"/><text fill=\"#000000\" font-family=\"sans-serif\" font-size=\"14\" font-weight=\"bold\" lengthAdjust=\"spacingAndGlyphs\" textLength=\"90\" x=\"288\" y=\"228.9951\">Service Layer</text></a><a href=\"psysml:2c8fb347-f198-4aa6-806c-1c573edf927e\" target=\"_top\" title=\"psysml:2c8fb347-f198-4aa6-806c-1c573edf927e\" xlink:actuate=\"onRequest\" xlink:href=\"psysml:2c8fb347-f198-4aa6-806c-1c573edf927e\" xlink:show=\"new\" xlink:title=\"psysml:2c8fb347-f198-4aa6-806c-1c573edf927e\" xlink:type=\"simple\"><polygon fill=\"#FFFFFF\" filter=\"url(#f3uwglnbn5xl)\" points=\"293,344,371,344,378,366.2969,385,366.2969,385,396.5938,293,396.5938,293,344\" style=\"stroke: #000000; stroke-width: 1.5;\"/><line style=\"stroke: #000000; stroke-width: 1.5;\" x1=\"293\" x2=\"378\" y1=\"366.2969\" y2=\"366.2969\"/><text fill=\"#000000\" font-family=\"sans-serif\" font-size=\"14\" font-weight=\"bold\" lengthAdjust=\"spacingAndGlyphs\" textLength=\"72\" x=\"297\" y=\"358.9951\">Data Layer</text></a><!--MD5=[af87c684e3b0d8be13c1a698a818ef1e]\n",
       "link E3 to E4--><a href=\"psysml:973be101-d69f-4acb-a430-79bda88f318e\" target=\"_top\" title=\"psysml:973be101-d69f-4acb-a430-79bda88f318e\" xlink:actuate=\"onRequest\" xlink:href=\"psysml:973be101-d69f-4acb-a430-79bda88f318e\" xlink:show=\"new\" xlink:title=\"psysml:973be101-d69f-4acb-a430-79bda88f318e\" xlink:type=\"simple\"><path d=\"M339,137.1 C339,156.8 339,184.22 339,205.73 \" fill=\"none\" id=\"E3-&gt;E4\" style=\"stroke: #A80036; stroke-width: 1.0; stroke-dasharray: 7.0,7.0;\"/><polygon fill=\"#A80036\" points=\"339,213.95,342,205.95,336,205.95,339,213.95\" style=\"stroke: #A80036; stroke-width: 1.0;\"/><text fill=\"#000000\" font-family=\"sans-serif\" font-size=\"13\" lengthAdjust=\"spacingAndGlyphs\" textLength=\"64\" x=\"340\" y=\"180.0669\">«depend»</text></a><!--MD5=[1b7591eae5389033d8d09a9d6721a717]\n",
       "link E4 to E5--><a href=\"psysml:418c7eed-60a4-47b0-a927-ef037a202312\" target=\"_top\" title=\"psysml:418c7eed-60a4-47b0-a927-ef037a202312\" xlink:actuate=\"onRequest\" xlink:href=\"psysml:418c7eed-60a4-47b0-a927-ef037a202312\" xlink:show=\"new\" xlink:title=\"psysml:418c7eed-60a4-47b0-a927-ef037a202312\" xlink:type=\"simple\"><path d=\"M339,267.1 C339,286.8 339,314.22 339,335.73 \" fill=\"none\" id=\"E4-&gt;E5\" style=\"stroke: #A80036; stroke-width: 1.0; stroke-dasharray: 7.0,7.0;\"/><polygon fill=\"#A80036\" points=\"339,343.95,342,335.95,336,335.95,339,343.95\" style=\"stroke: #A80036; stroke-width: 1.0;\"/><text fill=\"#000000\" font-family=\"sans-serif\" font-size=\"13\" lengthAdjust=\"spacingAndGlyphs\" textLength=\"64\" x=\"340\" y=\"310.0669\">«depend»</text></a><!--MD5=[c5e8897d989ce984f93528998a7150fe]\n",
       "link E8 to E6--><a href=\"psysml:27e0873a-b752-4942-bd7f-ca0670289346\" target=\"_top\" title=\"psysml:27e0873a-b752-4942-bd7f-ca0670289346\" xlink:actuate=\"onRequest\" xlink:href=\"psysml:27e0873a-b752-4942-bd7f-ca0670289346\" xlink:show=\"new\" xlink:title=\"psysml:27e0873a-b752-4942-bd7f-ca0670289346\" xlink:type=\"simple\"><path d=\"M89.42,133.6 C79.35,142.68 69.37,154.11 64,167 C58.5,180.2 58.66,195.94 60.54,209.38 \" fill=\"none\" id=\"E8-&gt;E6\" style=\"stroke: #A80036; stroke-width: 1.0; stroke-dasharray: 7.0,7.0;\"/><polygon fill=\"#A80036\" points=\"61.9,217.4,63.517,209.0104,57.6018,210.0159,61.9,217.4\" style=\"stroke: #A80036; stroke-width: 1.0;\"/><text fill=\"#000000\" font-family=\"sans-serif\" font-size=\"13\" lengthAdjust=\"spacingAndGlyphs\" textLength=\"64\" x=\"65\" y=\"180.0669\">«depend»</text></a><!--MD5=[bfa3c8b0d15052fdf50ae9310b491027]\n",
       "link E8 to E7--><a href=\"psysml:27e0873a-b752-4942-bd7f-ca0670289346\" target=\"_top\" title=\"psysml:27e0873a-b752-4942-bd7f-ca0670289346\" xlink:actuate=\"onRequest\" xlink:href=\"psysml:27e0873a-b752-4942-bd7f-ca0670289346\" xlink:show=\"new\" xlink:title=\"psysml:27e0873a-b752-4942-bd7f-ca0670289346\" xlink:type=\"simple\"><path d=\"M129.28,133.5 C138.17,154.57 151.64,186.5 161.47,209.81 \" fill=\"none\" id=\"E8-&gt;E7\" style=\"stroke: #A80036; stroke-width: 1.0; stroke-dasharray: 7.0,7.0;\"/><polygon fill=\"#A80036\" points=\"164.66,217.35,164.3241,208.8126,158.7933,211.1385,164.66,217.35\" style=\"stroke: #A80036; stroke-width: 1.0;\"/><text fill=\"#000000\" font-family=\"sans-serif\" font-size=\"13\" lengthAdjust=\"spacingAndGlyphs\" textLength=\"64\" x=\"151\" y=\"180.0669\">«depend»</text></a><!--MD5=[5bafdc44686fe6815b007b247c6f5ace]\n",
       "@startuml\r\n",
       "skinparam wrapWidth 300\r\n",
       "hide circle\r\n",
       "\r\n",
       "package \"DependencyTest\" as E1  [[psysml:30d47011-2b84-418c-8f66-5b5fafd7ed2a ]]  {\r\n",
       "package \"System\" as E2  [[psysml:5fbdfa4d-cafa-4f51-92a0-0bd6c2ea6fbb ]]  {\r\n",
       "package \"Application Layer\" as E3  [[psysml:511969d3-37b8-4975-ad7d-d9be97a14b44 ]]  {\r\n",
       "}\r\n",
       "package \"Service Layer\" as E4  [[psysml:3811cf97-7daf-4e30-b445-d9788e80eae2 ]]  {\r\n",
       "}\r\n",
       "package \"Data Layer\" as E5  [[psysml:2c8fb347-f198-4aa6-806c-1c573edf927e ]]  {\r\n",
       "}\r\n",
       "}\r\n",
       "comp usage \"x \" as E6  <<(T,blue) attribute>> [[psysml:3d7e11a6-324b-4ff0-8a6c-08a58aad852d ]] {\r\n",
       "}\r\n",
       "comp usage \"y \" as E7  <<(T,blue) attribute>> [[psysml:07b9e1bd-21f7-4218-b4f9-b36b2d1ccf74 ]] {\r\n",
       "}\r\n",
       "comp usage \"z \" as E8  <<(T,blue) attribute>> [[psysml:44529a0f-a1ad-4493-b824-b4a46bdd708e ]] {\r\n",
       "}\r\n",
       "}\r\n",
       "E3 ..>> E4 [[psysml:973be101-d69f-4acb-a430-79bda88f318e ]] : <<depend>>\r\n",
       "E4 ..>> E5 [[psysml:418c7eed-60a4-47b0-a927-ef037a202312 ]] : <<depend>>\r\n",
       "E8 ..>> E6 [[psysml:27e0873a-b752-4942-bd7f-ca0670289346 ]] : <<depend>>\r\n",
       "E8 ..>> E7 [[psysml:27e0873a-b752-4942-bd7f-ca0670289346 ]] : <<depend>>\r\n",
       "@enduml\r\n",
       "\n",
       "PlantUML version 1.2020.13(Sat Jun 13 12:26:38 UTC 2020)\n",
       "(EPL source distribution)\n",
       "Java Runtime: OpenJDK Runtime Environment\n",
       "JVM: OpenJDK 64-Bit Server VM\n",
       "Default Encoding: UTF-8\n",
       "Language: en\n",
       "Country: null\n",
       "--></g></svg>"
      ]
     },
     "execution_count": 29,
     "metadata": {},
     "output_type": "execute_result"
    }
   ],
   "source": [
    "%viz --style=\"STDCOLOR\" --view=\"MIXED\" \"DependencyTest\""
   ]
  },
  {
   "cell_type": "code",
   "execution_count": 30,
   "id": "71f0578f",
   "metadata": {
    "execution": {
     "iopub.execute_input": "2022-02-05T16:52:51.148193Z",
     "iopub.status.busy": "2022-02-05T16:52:51.147742Z",
     "iopub.status.idle": "2022-02-05T16:52:51.203015Z",
     "shell.execute_reply": "2022-02-05T16:52:51.201553Z"
    }
   },
   "outputs": [
    {
     "data": {
      "image/svg+xml": [
       "<?xml version=\"1.0\" encoding=\"UTF-8\" standalone=\"no\"?><svg xmlns=\"http://www.w3.org/2000/svg\" xmlns:xlink=\"http://www.w3.org/1999/xlink\" contentScriptType=\"application/ecmascript\" contentStyleType=\"text/css\" height=\"449px\" preserveAspectRatio=\"none\" style=\"width:490px;height:449px;\" version=\"1.1\" viewBox=\"0 0 490 449\" width=\"490px\" zoomAndPan=\"magnify\"><defs><filter height=\"300%\" id=\"f1h9l1zl5l9ipf\" width=\"300%\" x=\"-1\" y=\"-1\"><feGaussianBlur result=\"blurOut\" stdDeviation=\"2.0\"/><feColorMatrix in=\"blurOut\" result=\"blurOut2\" type=\"matrix\" values=\"0 0 0 0 0 0 0 0 0 0 0 0 0 0 0 0 0 0 .4 0\"/><feOffset dx=\"4.0\" dy=\"4.0\" in=\"blurOut2\" result=\"blurOut3\"/><feBlend in=\"SourceGraphic\" in2=\"blurOut3\" mode=\"normal\"/></filter></defs><g><!--MD5=[fbc87193dbaf4d95561dea2c320d4a47]\n",
       "cluster E1--><a href=\"psysml:30d47011-2b84-418c-8f66-5b5fafd7ed2a\" target=\"_top\" title=\"psysml:30d47011-2b84-418c-8f66-5b5fafd7ed2a\" xlink:actuate=\"onRequest\" xlink:href=\"psysml:30d47011-2b84-418c-8f66-5b5fafd7ed2a\" xlink:show=\"new\" xlink:title=\"psysml:30d47011-2b84-418c-8f66-5b5fafd7ed2a\" xlink:type=\"simple\"><polygon fill=\"#FFFFFF\" filter=\"url(#f1h9l1zl5l9ipf)\" points=\"16,6,142,6,149,28.2969,468,28.2969,468,437,16,437,16,6\" style=\"stroke: #000000; stroke-width: 1.5;\"/><line style=\"stroke: #000000; stroke-width: 1.5;\" x1=\"16\" x2=\"149\" y1=\"28.2969\" y2=\"28.2969\"/><text fill=\"#000000\" font-family=\"sans-serif\" font-size=\"14\" font-weight=\"bold\" lengthAdjust=\"spacingAndGlyphs\" textLength=\"120\" x=\"20\" y=\"20.9951\">DependencyTest</text></a><!--MD5=[e4f7fae6ed58524ba242bb0b0d3be6b7]\n",
       "cluster E2--><a href=\"psysml:5fbdfa4d-cafa-4f51-92a0-0bd6c2ea6fbb\" target=\"_top\" title=\"psysml:5fbdfa4d-cafa-4f51-92a0-0bd6c2ea6fbb\" xlink:actuate=\"onRequest\" xlink:href=\"psysml:5fbdfa4d-cafa-4f51-92a0-0bd6c2ea6fbb\" xlink:show=\"new\" xlink:title=\"psysml:5fbdfa4d-cafa-4f51-92a0-0bd6c2ea6fbb\" xlink:type=\"simple\"><polygon fill=\"#FFFFFF\" filter=\"url(#f1h9l1zl5l9ipf)\" points=\"276,49,333,49,340,71.2969,444,71.2969,444,413,276,413,276,49\" style=\"stroke: #000000; stroke-width: 1.5;\"/><line style=\"stroke: #000000; stroke-width: 1.5;\" x1=\"276\" x2=\"340\" y1=\"71.2969\" y2=\"71.2969\"/><text fill=\"#000000\" font-family=\"sans-serif\" font-size=\"14\" font-weight=\"bold\" lengthAdjust=\"spacingAndGlyphs\" textLength=\"51\" x=\"280\" y=\"63.9951\">System</text></a><!--MD5=[60a26617385b1d2d0262a64233df1f8d]\n",
       "class E6--><a href=\"psysml:3d7e11a6-324b-4ff0-8a6c-08a58aad852d\" target=\"_top\" title=\"psysml:3d7e11a6-324b-4ff0-8a6c-08a58aad852d\" xlink:actuate=\"onRequest\" xlink:href=\"psysml:3d7e11a6-324b-4ff0-8a6c-08a58aad852d\" xlink:show=\"new\" xlink:title=\"psysml:3d7e11a6-324b-4ff0-8a6c-08a58aad852d\" xlink:type=\"simple\"><rect fill=\"#FEFECE\" filter=\"url(#f1h9l1zl5l9ipf)\" height=\"45.9375\" id=\"E6\" rx=\"10\" ry=\"10\" style=\"stroke: #A80036; stroke-width: 1.5;\" width=\"97\" x=\"31.5\" y=\"217.5\"/><ellipse cx=\"46.5\" cy=\"236.4688\" fill=\"#FFA500\" rx=\"11\" ry=\"11\" style=\"stroke: #A80036; stroke-width: 1.0;\"/><path d=\"M46.25,241.9375 Q44.5,241.9375 43.5469,240.9063 Q42.6094,239.8594 42.6094,238.0156 L42.6094,231.125 L44.6719,231.125 L44.6719,231.2813 Q44.5781,231.375 44.5469,231.5156 Q44.5313,231.6406 44.5313,231.9063 L44.5313,238.0313 Q44.5313,239.125 44.9063,239.75 Q45.2813,240.375 46.2656,240.375 Q47.25,240.375 47.6406,239.75 Q48.0313,239.125 48.0313,237.9844 L48.0313,231.125 L49.9063,231.125 L49.9063,237.9688 Q49.9063,240 48.875,240.9688 Q47.8594,241.9375 46.25,241.9375 Z \"/><text fill=\"#000000\" font-family=\"sans-serif\" font-size=\"12\" font-style=\"italic\" lengthAdjust=\"spacingAndGlyphs\" textLength=\"69\" x=\"58.5\" y=\"233.6387\">«attribute»</text><text fill=\"#000000\" font-family=\"sans-serif\" font-size=\"12\" lengthAdjust=\"spacingAndGlyphs\" textLength=\"6\" x=\"88\" y=\"247.6074\">x</text><line style=\"stroke: #A80036; stroke-width: 1.5;\" x1=\"32.5\" x2=\"127.5\" y1=\"255.4375\" y2=\"255.4375\"/></a><!--MD5=[2156ba9850f5573cc1fc38a6a4b2f02b]\n",
       "class E7--><a href=\"psysml:07b9e1bd-21f7-4218-b4f9-b36b2d1ccf74\" target=\"_top\" title=\"psysml:07b9e1bd-21f7-4218-b4f9-b36b2d1ccf74\" xlink:actuate=\"onRequest\" xlink:href=\"psysml:07b9e1bd-21f7-4218-b4f9-b36b2d1ccf74\" xlink:show=\"new\" xlink:title=\"psysml:07b9e1bd-21f7-4218-b4f9-b36b2d1ccf74\" xlink:type=\"simple\"><rect fill=\"#FEFECE\" filter=\"url(#f1h9l1zl5l9ipf)\" height=\"45.9375\" id=\"E7\" rx=\"10\" ry=\"10\" style=\"stroke: #A80036; stroke-width: 1.5;\" width=\"97\" x=\"163.5\" y=\"217.5\"/><ellipse cx=\"178.5\" cy=\"236.4688\" fill=\"#FFA500\" rx=\"11\" ry=\"11\" style=\"stroke: #A80036; stroke-width: 1.0;\"/><path d=\"M178.25,241.9375 Q176.5,241.9375 175.5469,240.9063 Q174.6094,239.8594 174.6094,238.0156 L174.6094,231.125 L176.6719,231.125 L176.6719,231.2813 Q176.5781,231.375 176.5469,231.5156 Q176.5313,231.6406 176.5313,231.9063 L176.5313,238.0313 Q176.5313,239.125 176.9063,239.75 Q177.2813,240.375 178.2656,240.375 Q179.25,240.375 179.6406,239.75 Q180.0313,239.125 180.0313,237.9844 L180.0313,231.125 L181.9063,231.125 L181.9063,237.9688 Q181.9063,240 180.875,240.9688 Q179.8594,241.9375 178.25,241.9375 Z \"/><text fill=\"#000000\" font-family=\"sans-serif\" font-size=\"12\" font-style=\"italic\" lengthAdjust=\"spacingAndGlyphs\" textLength=\"69\" x=\"190.5\" y=\"233.6387\">«attribute»</text><text fill=\"#000000\" font-family=\"sans-serif\" font-size=\"12\" lengthAdjust=\"spacingAndGlyphs\" textLength=\"6\" x=\"220\" y=\"247.6074\">y</text><line style=\"stroke: #A80036; stroke-width: 1.5;\" x1=\"164.5\" x2=\"259.5\" y1=\"255.4375\" y2=\"255.4375\"/></a><!--MD5=[b9389687b975829384b498ac4b7476b2]\n",
       "class E8--><a href=\"psysml:44529a0f-a1ad-4493-b824-b4a46bdd708e\" target=\"_top\" title=\"psysml:44529a0f-a1ad-4493-b824-b4a46bdd708e\" xlink:actuate=\"onRequest\" xlink:href=\"psysml:44529a0f-a1ad-4493-b824-b4a46bdd708e\" xlink:show=\"new\" xlink:title=\"psysml:44529a0f-a1ad-4493-b824-b4a46bdd708e\" xlink:type=\"simple\"><rect fill=\"#FEFECE\" filter=\"url(#f1h9l1zl5l9ipf)\" height=\"45.9375\" id=\"E8\" rx=\"10\" ry=\"10\" style=\"stroke: #A80036; stroke-width: 1.5;\" width=\"97\" x=\"84.5\" y=\"87.5\"/><ellipse cx=\"99.5\" cy=\"106.4688\" fill=\"#FFA500\" rx=\"11\" ry=\"11\" style=\"stroke: #A80036; stroke-width: 1.0;\"/><path d=\"M99.25,111.9375 Q97.5,111.9375 96.5469,110.9063 Q95.6094,109.8594 95.6094,108.0156 L95.6094,101.125 L97.6719,101.125 L97.6719,101.2813 Q97.5781,101.375 97.5469,101.5156 Q97.5313,101.6406 97.5313,101.9063 L97.5313,108.0313 Q97.5313,109.125 97.9063,109.75 Q98.2813,110.375 99.2656,110.375 Q100.25,110.375 100.6406,109.75 Q101.0313,109.125 101.0313,107.9844 L101.0313,101.125 L102.9063,101.125 L102.9063,107.9688 Q102.9063,110 101.875,110.9688 Q100.8594,111.9375 99.25,111.9375 Z \"/><text fill=\"#000000\" font-family=\"sans-serif\" font-size=\"12\" font-style=\"italic\" lengthAdjust=\"spacingAndGlyphs\" textLength=\"69\" x=\"111.5\" y=\"103.6387\">«attribute»</text><text fill=\"#000000\" font-family=\"sans-serif\" font-size=\"12\" lengthAdjust=\"spacingAndGlyphs\" textLength=\"5\" x=\"141.5\" y=\"117.6074\">z</text><line style=\"stroke: #A80036; stroke-width: 1.5;\" x1=\"85.5\" x2=\"180.5\" y1=\"125.4375\" y2=\"125.4375\"/></a><a href=\"psysml:511969d3-37b8-4975-ad7d-d9be97a14b44\" target=\"_top\" title=\"psysml:511969d3-37b8-4975-ad7d-d9be97a14b44\" xlink:actuate=\"onRequest\" xlink:href=\"psysml:511969d3-37b8-4975-ad7d-d9be97a14b44\" xlink:show=\"new\" xlink:title=\"psysml:511969d3-37b8-4975-ad7d-d9be97a14b44\" xlink:type=\"simple\"><polygon fill=\"#FFFFFF\" filter=\"url(#f1h9l1zl5l9ipf)\" points=\"292.5,84,413.5,84,420.5,106.2969,427.5,106.2969,427.5,136.5938,292.5,136.5938,292.5,84\" style=\"stroke: #000000; stroke-width: 1.5;\"/><line style=\"stroke: #000000; stroke-width: 1.5;\" x1=\"292.5\" x2=\"420.5\" y1=\"106.2969\" y2=\"106.2969\"/><text fill=\"#000000\" font-family=\"sans-serif\" font-size=\"14\" font-weight=\"bold\" lengthAdjust=\"spacingAndGlyphs\" textLength=\"115\" x=\"296.5\" y=\"98.9951\">Application Layer</text></a><a href=\"psysml:3811cf97-7daf-4e30-b445-d9788e80eae2\" target=\"_top\" title=\"psysml:3811cf97-7daf-4e30-b445-d9788e80eae2\" xlink:actuate=\"onRequest\" xlink:href=\"psysml:3811cf97-7daf-4e30-b445-d9788e80eae2\" xlink:show=\"new\" xlink:title=\"psysml:3811cf97-7daf-4e30-b445-d9788e80eae2\" xlink:type=\"simple\"><polygon fill=\"#FFFFFF\" filter=\"url(#f1h9l1zl5l9ipf)\" points=\"305,214,401,214,408,236.2969,415,236.2969,415,266.5938,305,266.5938,305,214\" style=\"stroke: #000000; stroke-width: 1.5;\"/><line style=\"stroke: #000000; stroke-width: 1.5;\" x1=\"305\" x2=\"408\" y1=\"236.2969\" y2=\"236.2969\"/><text fill=\"#000000\" font-family=\"sans-serif\" font-size=\"14\" font-weight=\"bold\" lengthAdjust=\"spacingAndGlyphs\" textLength=\"90\" x=\"309\" y=\"228.9951\">Service Layer</text></a><a href=\"psysml:2c8fb347-f198-4aa6-806c-1c573edf927e\" target=\"_top\" title=\"psysml:2c8fb347-f198-4aa6-806c-1c573edf927e\" xlink:actuate=\"onRequest\" xlink:href=\"psysml:2c8fb347-f198-4aa6-806c-1c573edf927e\" xlink:show=\"new\" xlink:title=\"psysml:2c8fb347-f198-4aa6-806c-1c573edf927e\" xlink:type=\"simple\"><polygon fill=\"#FFFFFF\" filter=\"url(#f1h9l1zl5l9ipf)\" points=\"314,344,392,344,399,366.2969,406,366.2969,406,396.5938,314,396.5938,314,344\" style=\"stroke: #000000; stroke-width: 1.5;\"/><line style=\"stroke: #000000; stroke-width: 1.5;\" x1=\"314\" x2=\"399\" y1=\"366.2969\" y2=\"366.2969\"/><text fill=\"#000000\" font-family=\"sans-serif\" font-size=\"14\" font-weight=\"bold\" lengthAdjust=\"spacingAndGlyphs\" textLength=\"72\" x=\"318\" y=\"358.9951\">Data Layer</text></a><!--MD5=[af87c684e3b0d8be13c1a698a818ef1e]\n",
       "link E3 to E4--><a href=\"psysml:973be101-d69f-4acb-a430-79bda88f318e\" target=\"_top\" title=\"psysml:973be101-d69f-4acb-a430-79bda88f318e\" xlink:actuate=\"onRequest\" xlink:href=\"psysml:973be101-d69f-4acb-a430-79bda88f318e\" xlink:show=\"new\" xlink:title=\"psysml:973be101-d69f-4acb-a430-79bda88f318e\" xlink:type=\"simple\"><path d=\"M360,137.1 C360,156.8 360,184.22 360,205.73 \" fill=\"none\" id=\"E3-&gt;E4\" style=\"stroke: #A80036; stroke-width: 1.0; stroke-dasharray: 7.0,7.0;\"/><polygon fill=\"#A80036\" points=\"360,213.95,363,205.95,357,205.95,360,213.95\" style=\"stroke: #A80036; stroke-width: 1.0;\"/><text fill=\"#000000\" font-family=\"sans-serif\" font-size=\"13\" lengthAdjust=\"spacingAndGlyphs\" textLength=\"64\" x=\"361\" y=\"180.0669\">«depend»</text></a><!--MD5=[1b7591eae5389033d8d09a9d6721a717]\n",
       "link E4 to E5--><a href=\"psysml:418c7eed-60a4-47b0-a927-ef037a202312\" target=\"_top\" title=\"psysml:418c7eed-60a4-47b0-a927-ef037a202312\" xlink:actuate=\"onRequest\" xlink:href=\"psysml:418c7eed-60a4-47b0-a927-ef037a202312\" xlink:show=\"new\" xlink:title=\"psysml:418c7eed-60a4-47b0-a927-ef037a202312\" xlink:type=\"simple\"><path d=\"M360,267.1 C360,286.8 360,314.22 360,335.73 \" fill=\"none\" id=\"E4-&gt;E5\" style=\"stroke: #A80036; stroke-width: 1.0; stroke-dasharray: 7.0,7.0;\"/><polygon fill=\"#A80036\" points=\"360,343.95,363,335.95,357,335.95,360,343.95\" style=\"stroke: #A80036; stroke-width: 1.0;\"/><text fill=\"#000000\" font-family=\"sans-serif\" font-size=\"13\" lengthAdjust=\"spacingAndGlyphs\" textLength=\"64\" x=\"361\" y=\"310.0669\">«depend»</text></a><!--MD5=[c5e8897d989ce984f93528998a7150fe]\n",
       "link E8 to E6--><a href=\"psysml:27e0873a-b752-4942-bd7f-ca0670289346\" target=\"_top\" title=\"psysml:27e0873a-b752-4942-bd7f-ca0670289346\" xlink:actuate=\"onRequest\" xlink:href=\"psysml:27e0873a-b752-4942-bd7f-ca0670289346\" xlink:show=\"new\" xlink:title=\"psysml:27e0873a-b752-4942-bd7f-ca0670289346\" xlink:type=\"simple\"><path d=\"M106.44,133.76 C97.3,143.01 88.09,154.51 83,167 C77.6,180.23 76.4,195.98 76.73,209.41 \" fill=\"none\" id=\"E8-&gt;E6\" style=\"stroke: #A80036; stroke-width: 1.0; stroke-dasharray: 7.0,7.0;\"/><polygon fill=\"#A80036\" points=\"77.12,217.43,79.7306,209.2946,73.7375,209.584,77.12,217.43\" style=\"stroke: #A80036; stroke-width: 1.0;\"/><text fill=\"#000000\" font-family=\"sans-serif\" font-size=\"13\" lengthAdjust=\"spacingAndGlyphs\" textLength=\"64\" x=\"84\" y=\"180.0669\">«depend»</text></a><!--MD5=[bfa3c8b0d15052fdf50ae9310b491027]\n",
       "link E8 to E7--><a href=\"psysml:27e0873a-b752-4942-bd7f-ca0670289346\" target=\"_top\" title=\"psysml:27e0873a-b752-4942-bd7f-ca0670289346\" xlink:actuate=\"onRequest\" xlink:href=\"psysml:27e0873a-b752-4942-bd7f-ca0670289346\" xlink:show=\"new\" xlink:title=\"psysml:27e0873a-b752-4942-bd7f-ca0670289346\" xlink:type=\"simple\"><path d=\"M146.58,133.5 C159.69,154.75 179.63,187.05 194.05,210.41 \" fill=\"none\" id=\"E8-&gt;E7\" style=\"stroke: #A80036; stroke-width: 1.0; stroke-dasharray: 7.0,7.0;\"/><polygon fill=\"#A80036\" points=\"198.33,217.35,196.6785,208.9671,191.5737,212.1201,198.33,217.35\" style=\"stroke: #A80036; stroke-width: 1.0;\"/><text fill=\"#000000\" font-family=\"sans-serif\" font-size=\"13\" lengthAdjust=\"spacingAndGlyphs\" textLength=\"64\" x=\"178\" y=\"180.0669\">«depend»</text></a><!--MD5=[e6fea3da714ba3b6f68de3308c586423]\n",
       "@startuml\r\n",
       " \r\n",
       "package \"DependencyTest\" as E1  [[psysml:30d47011-2b84-418c-8f66-5b5fafd7ed2a ]]  {\r\n",
       "package \"System\" as E2  [[psysml:5fbdfa4d-cafa-4f51-92a0-0bd6c2ea6fbb ]]  {\r\n",
       "package \"Application Layer\" as E3  [[psysml:511969d3-37b8-4975-ad7d-d9be97a14b44 ]]  {\r\n",
       "}\r\n",
       "package \"Service Layer\" as E4  [[psysml:3811cf97-7daf-4e30-b445-d9788e80eae2 ]]  {\r\n",
       "}\r\n",
       "package \"Data Layer\" as E5  [[psysml:2c8fb347-f198-4aa6-806c-1c573edf927e ]]  {\r\n",
       "}\r\n",
       "}\r\n",
       "comp usage \"x \" as E6 << <<(U,orange) attribute>> [[psysml:3d7e11a6-324b-4ff0-8a6c-08a58aad852d ]] {\r\n",
       "}\r\n",
       "comp usage \"y \" as E7 << <<(U,orange) attribute>> [[psysml:07b9e1bd-21f7-4218-b4f9-b36b2d1ccf74 ]] {\r\n",
       "}\r\n",
       "comp usage \"z \" as E8 << <<(U,orange) attribute>> [[psysml:44529a0f-a1ad-4493-b824-b4a46bdd708e ]] {\r\n",
       "}\r\n",
       "}\r\n",
       "E3 ..>> E4 [[psysml:973be101-d69f-4acb-a430-79bda88f318e ]] : <<depend>>\r\n",
       "E4 ..>> E5 [[psysml:418c7eed-60a4-47b0-a927-ef037a202312 ]] : <<depend>>\r\n",
       "E8 ..>> E6 [[psysml:27e0873a-b752-4942-bd7f-ca0670289346 ]] : <<depend>>\r\n",
       "E8 ..>> E7 [[psysml:27e0873a-b752-4942-bd7f-ca0670289346 ]] : <<depend>>\r\n",
       "@enduml\r\n",
       "\n",
       "PlantUML version 1.2020.13(Sat Jun 13 12:26:38 UTC 2020)\n",
       "(EPL source distribution)\n",
       "Java Runtime: OpenJDK Runtime Environment\n",
       "JVM: OpenJDK 64-Bit Server VM\n",
       "Default Encoding: UTF-8\n",
       "Language: en\n",
       "Country: null\n",
       "--></g></svg>"
      ]
     },
     "execution_count": 30,
     "metadata": {},
     "output_type": "execute_result"
    }
   ],
   "source": [
    "%viz --style=\"PLANTUML\" --view=\"Default\" \"DependencyTest\""
   ]
  },
  {
   "cell_type": "code",
   "execution_count": 31,
   "id": "751162e2",
   "metadata": {
    "execution": {
     "iopub.execute_input": "2022-02-05T16:52:51.252287Z",
     "iopub.status.busy": "2022-02-05T16:52:51.251869Z",
     "iopub.status.idle": "2022-02-05T16:52:51.287589Z",
     "shell.execute_reply": "2022-02-05T16:52:51.286150Z"
    }
   },
   "outputs": [
    {
     "data": {
      "image/svg+xml": [
       "<?xml version=\"1.0\" encoding=\"UTF-8\" standalone=\"no\"?><svg xmlns=\"http://www.w3.org/2000/svg\" xmlns:xlink=\"http://www.w3.org/1999/xlink\" contentScriptType=\"application/ecmascript\" contentStyleType=\"text/css\" height=\"449px\" preserveAspectRatio=\"none\" style=\"width:490px;height:449px;\" version=\"1.1\" viewBox=\"0 0 490 449\" width=\"490px\" zoomAndPan=\"magnify\"><defs><filter height=\"300%\" id=\"f1h9l1zl5l9ipf\" width=\"300%\" x=\"-1\" y=\"-1\"><feGaussianBlur result=\"blurOut\" stdDeviation=\"2.0\"/><feColorMatrix in=\"blurOut\" result=\"blurOut2\" type=\"matrix\" values=\"0 0 0 0 0 0 0 0 0 0 0 0 0 0 0 0 0 0 .4 0\"/><feOffset dx=\"4.0\" dy=\"4.0\" in=\"blurOut2\" result=\"blurOut3\"/><feBlend in=\"SourceGraphic\" in2=\"blurOut3\" mode=\"normal\"/></filter></defs><g><!--MD5=[fbc87193dbaf4d95561dea2c320d4a47]\n",
       "cluster E1--><a href=\"psysml:30d47011-2b84-418c-8f66-5b5fafd7ed2a\" target=\"_top\" title=\"psysml:30d47011-2b84-418c-8f66-5b5fafd7ed2a\" xlink:actuate=\"onRequest\" xlink:href=\"psysml:30d47011-2b84-418c-8f66-5b5fafd7ed2a\" xlink:show=\"new\" xlink:title=\"psysml:30d47011-2b84-418c-8f66-5b5fafd7ed2a\" xlink:type=\"simple\"><polygon fill=\"#FFFFFF\" filter=\"url(#f1h9l1zl5l9ipf)\" points=\"16,6,142,6,149,28.2969,468,28.2969,468,437,16,437,16,6\" style=\"stroke: #000000; stroke-width: 1.5;\"/><line style=\"stroke: #000000; stroke-width: 1.5;\" x1=\"16\" x2=\"149\" y1=\"28.2969\" y2=\"28.2969\"/><text fill=\"#000000\" font-family=\"sans-serif\" font-size=\"14\" font-weight=\"bold\" lengthAdjust=\"spacingAndGlyphs\" textLength=\"120\" x=\"20\" y=\"20.9951\">DependencyTest</text></a><!--MD5=[e4f7fae6ed58524ba242bb0b0d3be6b7]\n",
       "cluster E2--><a href=\"psysml:5fbdfa4d-cafa-4f51-92a0-0bd6c2ea6fbb\" target=\"_top\" title=\"psysml:5fbdfa4d-cafa-4f51-92a0-0bd6c2ea6fbb\" xlink:actuate=\"onRequest\" xlink:href=\"psysml:5fbdfa4d-cafa-4f51-92a0-0bd6c2ea6fbb\" xlink:show=\"new\" xlink:title=\"psysml:5fbdfa4d-cafa-4f51-92a0-0bd6c2ea6fbb\" xlink:type=\"simple\"><polygon fill=\"#FFFFFF\" filter=\"url(#f1h9l1zl5l9ipf)\" points=\"276,49,333,49,340,71.2969,444,71.2969,444,413,276,413,276,49\" style=\"stroke: #000000; stroke-width: 1.5;\"/><line style=\"stroke: #000000; stroke-width: 1.5;\" x1=\"276\" x2=\"340\" y1=\"71.2969\" y2=\"71.2969\"/><text fill=\"#000000\" font-family=\"sans-serif\" font-size=\"14\" font-weight=\"bold\" lengthAdjust=\"spacingAndGlyphs\" textLength=\"51\" x=\"280\" y=\"63.9951\">System</text></a><!--MD5=[60a26617385b1d2d0262a64233df1f8d]\n",
       "class E6--><a href=\"psysml:3d7e11a6-324b-4ff0-8a6c-08a58aad852d\" target=\"_top\" title=\"psysml:3d7e11a6-324b-4ff0-8a6c-08a58aad852d\" xlink:actuate=\"onRequest\" xlink:href=\"psysml:3d7e11a6-324b-4ff0-8a6c-08a58aad852d\" xlink:show=\"new\" xlink:title=\"psysml:3d7e11a6-324b-4ff0-8a6c-08a58aad852d\" xlink:type=\"simple\"><rect fill=\"#FEFECE\" filter=\"url(#f1h9l1zl5l9ipf)\" height=\"45.9375\" id=\"E6\" rx=\"10\" ry=\"10\" style=\"stroke: #A80036; stroke-width: 1.5;\" width=\"97\" x=\"31.5\" y=\"217.5\"/><ellipse cx=\"46.5\" cy=\"236.4688\" fill=\"#FFA500\" rx=\"11\" ry=\"11\" style=\"stroke: #A80036; stroke-width: 1.0;\"/><path d=\"M46.25,241.9375 Q44.5,241.9375 43.5469,240.9063 Q42.6094,239.8594 42.6094,238.0156 L42.6094,231.125 L44.6719,231.125 L44.6719,231.2813 Q44.5781,231.375 44.5469,231.5156 Q44.5313,231.6406 44.5313,231.9063 L44.5313,238.0313 Q44.5313,239.125 44.9063,239.75 Q45.2813,240.375 46.2656,240.375 Q47.25,240.375 47.6406,239.75 Q48.0313,239.125 48.0313,237.9844 L48.0313,231.125 L49.9063,231.125 L49.9063,237.9688 Q49.9063,240 48.875,240.9688 Q47.8594,241.9375 46.25,241.9375 Z \"/><text fill=\"#000000\" font-family=\"sans-serif\" font-size=\"12\" font-style=\"italic\" lengthAdjust=\"spacingAndGlyphs\" textLength=\"69\" x=\"58.5\" y=\"233.6387\">«attribute»</text><text fill=\"#000000\" font-family=\"sans-serif\" font-size=\"12\" lengthAdjust=\"spacingAndGlyphs\" textLength=\"6\" x=\"88\" y=\"247.6074\">x</text><line style=\"stroke: #A80036; stroke-width: 1.5;\" x1=\"32.5\" x2=\"127.5\" y1=\"255.4375\" y2=\"255.4375\"/></a><!--MD5=[2156ba9850f5573cc1fc38a6a4b2f02b]\n",
       "class E7--><a href=\"psysml:07b9e1bd-21f7-4218-b4f9-b36b2d1ccf74\" target=\"_top\" title=\"psysml:07b9e1bd-21f7-4218-b4f9-b36b2d1ccf74\" xlink:actuate=\"onRequest\" xlink:href=\"psysml:07b9e1bd-21f7-4218-b4f9-b36b2d1ccf74\" xlink:show=\"new\" xlink:title=\"psysml:07b9e1bd-21f7-4218-b4f9-b36b2d1ccf74\" xlink:type=\"simple\"><rect fill=\"#FEFECE\" filter=\"url(#f1h9l1zl5l9ipf)\" height=\"45.9375\" id=\"E7\" rx=\"10\" ry=\"10\" style=\"stroke: #A80036; stroke-width: 1.5;\" width=\"97\" x=\"163.5\" y=\"217.5\"/><ellipse cx=\"178.5\" cy=\"236.4688\" fill=\"#FFA500\" rx=\"11\" ry=\"11\" style=\"stroke: #A80036; stroke-width: 1.0;\"/><path d=\"M178.25,241.9375 Q176.5,241.9375 175.5469,240.9063 Q174.6094,239.8594 174.6094,238.0156 L174.6094,231.125 L176.6719,231.125 L176.6719,231.2813 Q176.5781,231.375 176.5469,231.5156 Q176.5313,231.6406 176.5313,231.9063 L176.5313,238.0313 Q176.5313,239.125 176.9063,239.75 Q177.2813,240.375 178.2656,240.375 Q179.25,240.375 179.6406,239.75 Q180.0313,239.125 180.0313,237.9844 L180.0313,231.125 L181.9063,231.125 L181.9063,237.9688 Q181.9063,240 180.875,240.9688 Q179.8594,241.9375 178.25,241.9375 Z \"/><text fill=\"#000000\" font-family=\"sans-serif\" font-size=\"12\" font-style=\"italic\" lengthAdjust=\"spacingAndGlyphs\" textLength=\"69\" x=\"190.5\" y=\"233.6387\">«attribute»</text><text fill=\"#000000\" font-family=\"sans-serif\" font-size=\"12\" lengthAdjust=\"spacingAndGlyphs\" textLength=\"6\" x=\"220\" y=\"247.6074\">y</text><line style=\"stroke: #A80036; stroke-width: 1.5;\" x1=\"164.5\" x2=\"259.5\" y1=\"255.4375\" y2=\"255.4375\"/></a><!--MD5=[b9389687b975829384b498ac4b7476b2]\n",
       "class E8--><a href=\"psysml:44529a0f-a1ad-4493-b824-b4a46bdd708e\" target=\"_top\" title=\"psysml:44529a0f-a1ad-4493-b824-b4a46bdd708e\" xlink:actuate=\"onRequest\" xlink:href=\"psysml:44529a0f-a1ad-4493-b824-b4a46bdd708e\" xlink:show=\"new\" xlink:title=\"psysml:44529a0f-a1ad-4493-b824-b4a46bdd708e\" xlink:type=\"simple\"><rect fill=\"#FEFECE\" filter=\"url(#f1h9l1zl5l9ipf)\" height=\"45.9375\" id=\"E8\" rx=\"10\" ry=\"10\" style=\"stroke: #A80036; stroke-width: 1.5;\" width=\"97\" x=\"84.5\" y=\"87.5\"/><ellipse cx=\"99.5\" cy=\"106.4688\" fill=\"#FFA500\" rx=\"11\" ry=\"11\" style=\"stroke: #A80036; stroke-width: 1.0;\"/><path d=\"M99.25,111.9375 Q97.5,111.9375 96.5469,110.9063 Q95.6094,109.8594 95.6094,108.0156 L95.6094,101.125 L97.6719,101.125 L97.6719,101.2813 Q97.5781,101.375 97.5469,101.5156 Q97.5313,101.6406 97.5313,101.9063 L97.5313,108.0313 Q97.5313,109.125 97.9063,109.75 Q98.2813,110.375 99.2656,110.375 Q100.25,110.375 100.6406,109.75 Q101.0313,109.125 101.0313,107.9844 L101.0313,101.125 L102.9063,101.125 L102.9063,107.9688 Q102.9063,110 101.875,110.9688 Q100.8594,111.9375 99.25,111.9375 Z \"/><text fill=\"#000000\" font-family=\"sans-serif\" font-size=\"12\" font-style=\"italic\" lengthAdjust=\"spacingAndGlyphs\" textLength=\"69\" x=\"111.5\" y=\"103.6387\">«attribute»</text><text fill=\"#000000\" font-family=\"sans-serif\" font-size=\"12\" lengthAdjust=\"spacingAndGlyphs\" textLength=\"5\" x=\"141.5\" y=\"117.6074\">z</text><line style=\"stroke: #A80036; stroke-width: 1.5;\" x1=\"85.5\" x2=\"180.5\" y1=\"125.4375\" y2=\"125.4375\"/></a><a href=\"psysml:511969d3-37b8-4975-ad7d-d9be97a14b44\" target=\"_top\" title=\"psysml:511969d3-37b8-4975-ad7d-d9be97a14b44\" xlink:actuate=\"onRequest\" xlink:href=\"psysml:511969d3-37b8-4975-ad7d-d9be97a14b44\" xlink:show=\"new\" xlink:title=\"psysml:511969d3-37b8-4975-ad7d-d9be97a14b44\" xlink:type=\"simple\"><polygon fill=\"#FFFFFF\" filter=\"url(#f1h9l1zl5l9ipf)\" points=\"292.5,84,413.5,84,420.5,106.2969,427.5,106.2969,427.5,136.5938,292.5,136.5938,292.5,84\" style=\"stroke: #000000; stroke-width: 1.5;\"/><line style=\"stroke: #000000; stroke-width: 1.5;\" x1=\"292.5\" x2=\"420.5\" y1=\"106.2969\" y2=\"106.2969\"/><text fill=\"#000000\" font-family=\"sans-serif\" font-size=\"14\" font-weight=\"bold\" lengthAdjust=\"spacingAndGlyphs\" textLength=\"115\" x=\"296.5\" y=\"98.9951\">Application Layer</text></a><a href=\"psysml:3811cf97-7daf-4e30-b445-d9788e80eae2\" target=\"_top\" title=\"psysml:3811cf97-7daf-4e30-b445-d9788e80eae2\" xlink:actuate=\"onRequest\" xlink:href=\"psysml:3811cf97-7daf-4e30-b445-d9788e80eae2\" xlink:show=\"new\" xlink:title=\"psysml:3811cf97-7daf-4e30-b445-d9788e80eae2\" xlink:type=\"simple\"><polygon fill=\"#FFFFFF\" filter=\"url(#f1h9l1zl5l9ipf)\" points=\"305,214,401,214,408,236.2969,415,236.2969,415,266.5938,305,266.5938,305,214\" style=\"stroke: #000000; stroke-width: 1.5;\"/><line style=\"stroke: #000000; stroke-width: 1.5;\" x1=\"305\" x2=\"408\" y1=\"236.2969\" y2=\"236.2969\"/><text fill=\"#000000\" font-family=\"sans-serif\" font-size=\"14\" font-weight=\"bold\" lengthAdjust=\"spacingAndGlyphs\" textLength=\"90\" x=\"309\" y=\"228.9951\">Service Layer</text></a><a href=\"psysml:2c8fb347-f198-4aa6-806c-1c573edf927e\" target=\"_top\" title=\"psysml:2c8fb347-f198-4aa6-806c-1c573edf927e\" xlink:actuate=\"onRequest\" xlink:href=\"psysml:2c8fb347-f198-4aa6-806c-1c573edf927e\" xlink:show=\"new\" xlink:title=\"psysml:2c8fb347-f198-4aa6-806c-1c573edf927e\" xlink:type=\"simple\"><polygon fill=\"#FFFFFF\" filter=\"url(#f1h9l1zl5l9ipf)\" points=\"314,344,392,344,399,366.2969,406,366.2969,406,396.5938,314,396.5938,314,344\" style=\"stroke: #000000; stroke-width: 1.5;\"/><line style=\"stroke: #000000; stroke-width: 1.5;\" x1=\"314\" x2=\"399\" y1=\"366.2969\" y2=\"366.2969\"/><text fill=\"#000000\" font-family=\"sans-serif\" font-size=\"14\" font-weight=\"bold\" lengthAdjust=\"spacingAndGlyphs\" textLength=\"72\" x=\"318\" y=\"358.9951\">Data Layer</text></a><!--MD5=[af87c684e3b0d8be13c1a698a818ef1e]\n",
       "link E3 to E4--><a href=\"psysml:973be101-d69f-4acb-a430-79bda88f318e\" target=\"_top\" title=\"psysml:973be101-d69f-4acb-a430-79bda88f318e\" xlink:actuate=\"onRequest\" xlink:href=\"psysml:973be101-d69f-4acb-a430-79bda88f318e\" xlink:show=\"new\" xlink:title=\"psysml:973be101-d69f-4acb-a430-79bda88f318e\" xlink:type=\"simple\"><path d=\"M360,137.1 C360,156.8 360,184.22 360,205.73 \" fill=\"none\" id=\"E3-&gt;E4\" style=\"stroke: #A80036; stroke-width: 1.0; stroke-dasharray: 7.0,7.0;\"/><polygon fill=\"#A80036\" points=\"360,213.95,363,205.95,357,205.95,360,213.95\" style=\"stroke: #A80036; stroke-width: 1.0;\"/><text fill=\"#000000\" font-family=\"sans-serif\" font-size=\"13\" lengthAdjust=\"spacingAndGlyphs\" textLength=\"64\" x=\"361\" y=\"180.0669\">«depend»</text></a><!--MD5=[1b7591eae5389033d8d09a9d6721a717]\n",
       "link E4 to E5--><a href=\"psysml:418c7eed-60a4-47b0-a927-ef037a202312\" target=\"_top\" title=\"psysml:418c7eed-60a4-47b0-a927-ef037a202312\" xlink:actuate=\"onRequest\" xlink:href=\"psysml:418c7eed-60a4-47b0-a927-ef037a202312\" xlink:show=\"new\" xlink:title=\"psysml:418c7eed-60a4-47b0-a927-ef037a202312\" xlink:type=\"simple\"><path d=\"M360,267.1 C360,286.8 360,314.22 360,335.73 \" fill=\"none\" id=\"E4-&gt;E5\" style=\"stroke: #A80036; stroke-width: 1.0; stroke-dasharray: 7.0,7.0;\"/><polygon fill=\"#A80036\" points=\"360,343.95,363,335.95,357,335.95,360,343.95\" style=\"stroke: #A80036; stroke-width: 1.0;\"/><text fill=\"#000000\" font-family=\"sans-serif\" font-size=\"13\" lengthAdjust=\"spacingAndGlyphs\" textLength=\"64\" x=\"361\" y=\"310.0669\">«depend»</text></a><!--MD5=[c5e8897d989ce984f93528998a7150fe]\n",
       "link E8 to E6--><a href=\"psysml:27e0873a-b752-4942-bd7f-ca0670289346\" target=\"_top\" title=\"psysml:27e0873a-b752-4942-bd7f-ca0670289346\" xlink:actuate=\"onRequest\" xlink:href=\"psysml:27e0873a-b752-4942-bd7f-ca0670289346\" xlink:show=\"new\" xlink:title=\"psysml:27e0873a-b752-4942-bd7f-ca0670289346\" xlink:type=\"simple\"><path d=\"M106.44,133.76 C97.3,143.01 88.09,154.51 83,167 C77.6,180.23 76.4,195.98 76.73,209.41 \" fill=\"none\" id=\"E8-&gt;E6\" style=\"stroke: #A80036; stroke-width: 1.0; stroke-dasharray: 7.0,7.0;\"/><polygon fill=\"#A80036\" points=\"77.12,217.43,79.7306,209.2946,73.7375,209.584,77.12,217.43\" style=\"stroke: #A80036; stroke-width: 1.0;\"/><text fill=\"#000000\" font-family=\"sans-serif\" font-size=\"13\" lengthAdjust=\"spacingAndGlyphs\" textLength=\"64\" x=\"84\" y=\"180.0669\">«depend»</text></a><!--MD5=[bfa3c8b0d15052fdf50ae9310b491027]\n",
       "link E8 to E7--><a href=\"psysml:27e0873a-b752-4942-bd7f-ca0670289346\" target=\"_top\" title=\"psysml:27e0873a-b752-4942-bd7f-ca0670289346\" xlink:actuate=\"onRequest\" xlink:href=\"psysml:27e0873a-b752-4942-bd7f-ca0670289346\" xlink:show=\"new\" xlink:title=\"psysml:27e0873a-b752-4942-bd7f-ca0670289346\" xlink:type=\"simple\"><path d=\"M146.58,133.5 C159.69,154.75 179.63,187.05 194.05,210.41 \" fill=\"none\" id=\"E8-&gt;E7\" style=\"stroke: #A80036; stroke-width: 1.0; stroke-dasharray: 7.0,7.0;\"/><polygon fill=\"#A80036\" points=\"198.33,217.35,196.6785,208.9671,191.5737,212.1201,198.33,217.35\" style=\"stroke: #A80036; stroke-width: 1.0;\"/><text fill=\"#000000\" font-family=\"sans-serif\" font-size=\"13\" lengthAdjust=\"spacingAndGlyphs\" textLength=\"64\" x=\"178\" y=\"180.0669\">«depend»</text></a><!--MD5=[e6fea3da714ba3b6f68de3308c586423]\n",
       "@startuml\r\n",
       " \r\n",
       "package \"DependencyTest\" as E1  [[psysml:30d47011-2b84-418c-8f66-5b5fafd7ed2a ]]  {\r\n",
       "package \"System\" as E2  [[psysml:5fbdfa4d-cafa-4f51-92a0-0bd6c2ea6fbb ]]  {\r\n",
       "package \"Application Layer\" as E3  [[psysml:511969d3-37b8-4975-ad7d-d9be97a14b44 ]]  {\r\n",
       "}\r\n",
       "package \"Service Layer\" as E4  [[psysml:3811cf97-7daf-4e30-b445-d9788e80eae2 ]]  {\r\n",
       "}\r\n",
       "package \"Data Layer\" as E5  [[psysml:2c8fb347-f198-4aa6-806c-1c573edf927e ]]  {\r\n",
       "}\r\n",
       "}\r\n",
       "comp usage \"x \" as E6 << <<(U,orange) attribute>> [[psysml:3d7e11a6-324b-4ff0-8a6c-08a58aad852d ]] {\r\n",
       "}\r\n",
       "comp usage \"y \" as E7 << <<(U,orange) attribute>> [[psysml:07b9e1bd-21f7-4218-b4f9-b36b2d1ccf74 ]] {\r\n",
       "}\r\n",
       "comp usage \"z \" as E8 << <<(U,orange) attribute>> [[psysml:44529a0f-a1ad-4493-b824-b4a46bdd708e ]] {\r\n",
       "}\r\n",
       "}\r\n",
       "E3 ..>> E4 [[psysml:973be101-d69f-4acb-a430-79bda88f318e ]] : <<depend>>\r\n",
       "E4 ..>> E5 [[psysml:418c7eed-60a4-47b0-a927-ef037a202312 ]] : <<depend>>\r\n",
       "E8 ..>> E6 [[psysml:27e0873a-b752-4942-bd7f-ca0670289346 ]] : <<depend>>\r\n",
       "E8 ..>> E7 [[psysml:27e0873a-b752-4942-bd7f-ca0670289346 ]] : <<depend>>\r\n",
       "@enduml\r\n",
       "\n",
       "PlantUML version 1.2020.13(Sat Jun 13 12:26:38 UTC 2020)\n",
       "(EPL source distribution)\n",
       "Java Runtime: OpenJDK Runtime Environment\n",
       "JVM: OpenJDK 64-Bit Server VM\n",
       "Default Encoding: UTF-8\n",
       "Language: en\n",
       "Country: null\n",
       "--></g></svg>"
      ]
     },
     "execution_count": 31,
     "metadata": {},
     "output_type": "execute_result"
    }
   ],
   "source": [
    "%viz --style=\"PLANTUML\" --view=\"Tree\" \"DependencyTest\""
   ]
  },
  {
   "cell_type": "code",
   "execution_count": 32,
   "id": "20ae888e",
   "metadata": {
    "execution": {
     "iopub.execute_input": "2022-02-05T16:52:51.337196Z",
     "iopub.status.busy": "2022-02-05T16:52:51.336754Z",
     "iopub.status.idle": "2022-02-05T16:52:51.427890Z",
     "shell.execute_reply": "2022-02-05T16:52:51.426584Z"
    }
   },
   "outputs": [
    {
     "data": {
      "image/svg+xml": [
       "<?xml version=\"1.0\" encoding=\"UTF-8\" standalone=\"no\"?><svg xmlns=\"http://www.w3.org/2000/svg\" xmlns:xlink=\"http://www.w3.org/1999/xlink\" contentScriptType=\"application/ecmascript\" contentStyleType=\"text/css\" height=\"300px\" preserveAspectRatio=\"none\" style=\"width:603px;height:300px;background:#000000;\" version=\"1.1\" viewBox=\"0 0 603 300\" width=\"603px\" zoomAndPan=\"magnify\"><defs/><g><rect fill=\"#1D1A12\" height=\"1\" style=\"stroke: #1D1A12; stroke-width: 1.0;\" width=\"1\" x=\"0\" y=\"0\"/><rect fill=\"#FFFFFF\" height=\"202.8012\" style=\"stroke: #FFFFFF; stroke-width: 1.0;\" width=\"602\" x=\"0\" y=\"0\"/><text fill=\"#000000\" font-family=\"sans-serif\" font-size=\"12\" font-weight=\"bold\" lengthAdjust=\"spacingAndGlyphs\" textLength=\"139\" x=\"5\" y=\"16.1387\">Welcome to PlantUML!</text><text fill=\"#000000\" font-family=\"sans-serif\" font-size=\"12\" lengthAdjust=\"spacingAndGlyphs\" textLength=\"0\" x=\"9\" y=\"30.1074\"/><text fill=\"#000000\" font-family=\"sans-serif\" font-size=\"12\" lengthAdjust=\"spacingAndGlyphs\" textLength=\"293\" x=\"5\" y=\"44.0762\">If you use this software, you accept its license.</text><text fill=\"#000000\" font-family=\"sans-serif\" font-size=\"12\" lengthAdjust=\"spacingAndGlyphs\" textLength=\"107\" x=\"5\" y=\"58.0449\">(details by typing</text><text fill=\"#000000\" font-family=\"monospace\" font-size=\"12\" lengthAdjust=\"spacingAndGlyphs\" textLength=\"42\" x=\"116\" y=\"58.595\">license</text><text fill=\"#000000\" font-family=\"sans-serif\" font-size=\"12\" lengthAdjust=\"spacingAndGlyphs\" textLength=\"56\" x=\"162\" y=\"58.0449\">keyword)</text><text fill=\"#000000\" font-family=\"sans-serif\" font-size=\"12\" lengthAdjust=\"spacingAndGlyphs\" textLength=\"0\" x=\"9\" y=\"72.0137\"/><text fill=\"#000000\" font-family=\"sans-serif\" font-size=\"12\" lengthAdjust=\"spacingAndGlyphs\" textLength=\"283\" x=\"5\" y=\"85.9824\">You can start with a simple UML Diagram like:</text><text fill=\"#000000\" font-family=\"sans-serif\" font-size=\"12\" lengthAdjust=\"spacingAndGlyphs\" textLength=\"0\" x=\"9\" y=\"99.9512\"/><text fill=\"#000000\" font-family=\"monospace\" font-size=\"12\" lengthAdjust=\"spacingAndGlyphs\" textLength=\"102\" x=\"5\" y=\"113.0893\">Bob-&gt;Alice: Hello</text><text fill=\"#000000\" font-family=\"sans-serif\" font-size=\"12\" lengthAdjust=\"spacingAndGlyphs\" textLength=\"0\" x=\"9\" y=\"126.508\"/><text fill=\"#000000\" font-family=\"sans-serif\" font-size=\"12\" lengthAdjust=\"spacingAndGlyphs\" textLength=\"14\" x=\"5\" y=\"140.4768\">Or</text><text fill=\"#000000\" font-family=\"sans-serif\" font-size=\"12\" lengthAdjust=\"spacingAndGlyphs\" textLength=\"0\" x=\"9\" y=\"154.4455\"/><text fill=\"#000000\" font-family=\"monospace\" font-size=\"12\" lengthAdjust=\"spacingAndGlyphs\" textLength=\"78\" x=\"5\" y=\"167.5837\">class Example</text><text fill=\"#000000\" font-family=\"sans-serif\" font-size=\"12\" lengthAdjust=\"spacingAndGlyphs\" textLength=\"0\" x=\"9\" y=\"181.0023\"/><text fill=\"#000000\" font-family=\"sans-serif\" font-size=\"12\" lengthAdjust=\"spacingAndGlyphs\" textLength=\"349\" x=\"5\" y=\"194.9711\">You will find more information about PlantUML syntax on</text><text fill=\"#000000\" font-family=\"sans-serif\" font-size=\"12\" lengthAdjust=\"spacingAndGlyphs\" text-decoration=\"underline\" textLength=\"129\" x=\"358\" y=\"194.9711\">https://plantuml.com</text><image height=\"71\" width=\"80\" x=\"516\" xlink:href=\"data:image/png;base64,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\" y=\"6\"/><rect fill=\"#000000\" height=\"96.4844\" style=\"stroke: #000000; stroke-width: 1.0;\" width=\"602\" x=\"0\" y=\"202.8012\"/><rect fill=\"#33FF02\" height=\"21.2969\" style=\"stroke: #33FF02; stroke-width: 1.0;\" width=\"145\" x=\"5\" y=\"207.8012\"/><text fill=\"#000000\" font-family=\"sans-serif\" font-size=\"14\" font-weight=\"bold\" lengthAdjust=\"spacingAndGlyphs\" textLength=\"143\" x=\"6\" y=\"222.8012\">[From string (line 2) ]</text><text fill=\"#33FF02\" font-family=\"sans-serif\" font-size=\"14\" font-weight=\"bold\" lengthAdjust=\"spacingAndGlyphs\" textLength=\"0\" x=\"9\" y=\"243.0981\"/><text fill=\"#33FF02\" font-family=\"sans-serif\" font-size=\"14\" font-weight=\"bold\" lengthAdjust=\"spacingAndGlyphs\" textLength=\"70\" x=\"5\" y=\"259.3949\">@startuml</text><text fill=\"#33FF02\" font-family=\"sans-serif\" font-size=\"14\" font-weight=\"bold\" lengthAdjust=\"spacingAndGlyphs\" textLength=\"0\" x=\"9\" y=\"275.6918\"/><text fill=\"#FF0000\" font-family=\"sans-serif\" font-size=\"14\" font-weight=\"bold\" lengthAdjust=\"spacingAndGlyphs\" textLength=\"124\" x=\"9\" y=\"291.9887\">Empty description</text><!--MD5=[f59edd8218d337f74d0c332fc6737304]\n",
       "@startuml\r\n",
       " \r\n",
       "@enduml\r\n",
       "\n",
       "PlantUML version 1.2020.13(Sat Jun 13 12:26:38 UTC 2020)\n",
       "(EPL source distribution)\n",
       "Java Runtime: OpenJDK Runtime Environment\n",
       "JVM: OpenJDK 64-Bit Server VM\n",
       "Default Encoding: UTF-8\n",
       "Language: en\n",
       "Country: null\n",
       "--></g></svg>"
      ]
     },
     "execution_count": 32,
     "metadata": {},
     "output_type": "execute_result"
    }
   ],
   "source": [
    "%viz --style=\"PLANTUML\" --view=\"State\" \"DependencyTest\""
   ]
  },
  {
   "cell_type": "code",
   "execution_count": 33,
   "id": "220b85ac",
   "metadata": {
    "execution": {
     "iopub.execute_input": "2022-02-05T16:52:51.477289Z",
     "iopub.status.busy": "2022-02-05T16:52:51.476872Z",
     "iopub.status.idle": "2022-02-05T16:52:51.506900Z",
     "shell.execute_reply": "2022-02-05T16:52:51.506543Z"
    }
   },
   "outputs": [
    {
     "data": {
      "image/svg+xml": [
       "<?xml version=\"1.0\" encoding=\"UTF-8\" standalone=\"no\"?><svg xmlns=\"http://www.w3.org/2000/svg\" xmlns:xlink=\"http://www.w3.org/1999/xlink\" contentScriptType=\"application/ecmascript\" contentStyleType=\"text/css\" height=\"361px\" preserveAspectRatio=\"none\" style=\"width:490px;height:361px;\" version=\"1.1\" viewBox=\"0 0 490 361\" width=\"490px\" zoomAndPan=\"magnify\"><defs><filter height=\"300%\" id=\"fiipvc9e7sns\" width=\"300%\" x=\"-1\" y=\"-1\"><feGaussianBlur result=\"blurOut\" stdDeviation=\"2.0\"/><feColorMatrix in=\"blurOut\" result=\"blurOut2\" type=\"matrix\" values=\"0 0 0 0 0 0 0 0 0 0 0 0 0 0 0 0 0 0 .4 0\"/><feOffset dx=\"4.0\" dy=\"4.0\" in=\"blurOut2\" result=\"blurOut3\"/><feBlend in=\"SourceGraphic\" in2=\"blurOut3\" mode=\"normal\"/></filter></defs><g><!--MD5=[fbc87193dbaf4d95561dea2c320d4a47]\n",
       "cluster E1--><a href=\"psysml:30d47011-2b84-418c-8f66-5b5fafd7ed2a\" target=\"_top\" title=\"psysml:30d47011-2b84-418c-8f66-5b5fafd7ed2a\" xlink:actuate=\"onRequest\" xlink:href=\"psysml:30d47011-2b84-418c-8f66-5b5fafd7ed2a\" xlink:show=\"new\" xlink:title=\"psysml:30d47011-2b84-418c-8f66-5b5fafd7ed2a\" xlink:type=\"simple\"><polygon fill=\"#FFFFFF\" filter=\"url(#fiipvc9e7sns)\" points=\"16,6,142,6,149,28.2969,468,28.2969,468,349,16,349,16,6\" style=\"stroke: #000000; stroke-width: 1.5;\"/><line style=\"stroke: #000000; stroke-width: 1.5;\" x1=\"16\" x2=\"149\" y1=\"28.2969\" y2=\"28.2969\"/><text fill=\"#000000\" font-family=\"sans-serif\" font-size=\"14\" font-weight=\"bold\" lengthAdjust=\"spacingAndGlyphs\" textLength=\"120\" x=\"20\" y=\"20.9951\">DependencyTest</text></a><!--MD5=[e4f7fae6ed58524ba242bb0b0d3be6b7]\n",
       "cluster E2--><a href=\"psysml:5fbdfa4d-cafa-4f51-92a0-0bd6c2ea6fbb\" target=\"_top\" title=\"psysml:5fbdfa4d-cafa-4f51-92a0-0bd6c2ea6fbb\" xlink:actuate=\"onRequest\" xlink:href=\"psysml:5fbdfa4d-cafa-4f51-92a0-0bd6c2ea6fbb\" xlink:show=\"new\" xlink:title=\"psysml:5fbdfa4d-cafa-4f51-92a0-0bd6c2ea6fbb\" xlink:type=\"simple\"><polygon fill=\"#FFFFFF\" filter=\"url(#fiipvc9e7sns)\" points=\"276,49,333,49,340,71.2969,444,71.2969,444,325,276,325,276,49\" style=\"stroke: #000000; stroke-width: 1.5;\"/><line style=\"stroke: #000000; stroke-width: 1.5;\" x1=\"276\" x2=\"340\" y1=\"71.2969\" y2=\"71.2969\"/><text fill=\"#000000\" font-family=\"sans-serif\" font-size=\"14\" font-weight=\"bold\" lengthAdjust=\"spacingAndGlyphs\" textLength=\"51\" x=\"280\" y=\"63.9951\">System</text></a><!--MD5=[60a26617385b1d2d0262a64233df1f8d]\n",
       "class E6--><a href=\"psysml:3d7e11a6-324b-4ff0-8a6c-08a58aad852d\" target=\"_top\" title=\"psysml:3d7e11a6-324b-4ff0-8a6c-08a58aad852d\" xlink:actuate=\"onRequest\" xlink:href=\"psysml:3d7e11a6-324b-4ff0-8a6c-08a58aad852d\" xlink:show=\"new\" xlink:title=\"psysml:3d7e11a6-324b-4ff0-8a6c-08a58aad852d\" xlink:type=\"simple\"><rect fill=\"#FEFECE\" filter=\"url(#fiipvc9e7sns)\" height=\"45.9375\" id=\"E6\" rx=\"10\" ry=\"10\" style=\"stroke: #A80036; stroke-width: 1.5;\" width=\"97\" x=\"31.5\" y=\"173.5\"/><ellipse cx=\"46.5\" cy=\"192.4688\" fill=\"#FFA500\" rx=\"11\" ry=\"11\" style=\"stroke: #A80036; stroke-width: 1.0;\"/><path d=\"M46.25,197.9375 Q44.5,197.9375 43.5469,196.9063 Q42.6094,195.8594 42.6094,194.0156 L42.6094,187.125 L44.6719,187.125 L44.6719,187.2813 Q44.5781,187.375 44.5469,187.5156 Q44.5313,187.6406 44.5313,187.9063 L44.5313,194.0313 Q44.5313,195.125 44.9063,195.75 Q45.2813,196.375 46.2656,196.375 Q47.25,196.375 47.6406,195.75 Q48.0313,195.125 48.0313,193.9844 L48.0313,187.125 L49.9063,187.125 L49.9063,193.9688 Q49.9063,196 48.875,196.9688 Q47.8594,197.9375 46.25,197.9375 Z \"/><text fill=\"#000000\" font-family=\"sans-serif\" font-size=\"12\" font-style=\"italic\" lengthAdjust=\"spacingAndGlyphs\" textLength=\"69\" x=\"58.5\" y=\"189.6387\">«attribute»</text><text fill=\"#000000\" font-family=\"sans-serif\" font-size=\"12\" lengthAdjust=\"spacingAndGlyphs\" textLength=\"6\" x=\"88\" y=\"203.6074\">x</text><line style=\"stroke: #A80036; stroke-width: 1.5;\" x1=\"32.5\" x2=\"127.5\" y1=\"211.4375\" y2=\"211.4375\"/></a><!--MD5=[2156ba9850f5573cc1fc38a6a4b2f02b]\n",
       "class E7--><a href=\"psysml:07b9e1bd-21f7-4218-b4f9-b36b2d1ccf74\" target=\"_top\" title=\"psysml:07b9e1bd-21f7-4218-b4f9-b36b2d1ccf74\" xlink:actuate=\"onRequest\" xlink:href=\"psysml:07b9e1bd-21f7-4218-b4f9-b36b2d1ccf74\" xlink:show=\"new\" xlink:title=\"psysml:07b9e1bd-21f7-4218-b4f9-b36b2d1ccf74\" xlink:type=\"simple\"><rect fill=\"#FEFECE\" filter=\"url(#fiipvc9e7sns)\" height=\"45.9375\" id=\"E7\" rx=\"10\" ry=\"10\" style=\"stroke: #A80036; stroke-width: 1.5;\" width=\"97\" x=\"163.5\" y=\"173.5\"/><ellipse cx=\"178.5\" cy=\"192.4688\" fill=\"#FFA500\" rx=\"11\" ry=\"11\" style=\"stroke: #A80036; stroke-width: 1.0;\"/><path d=\"M178.25,197.9375 Q176.5,197.9375 175.5469,196.9063 Q174.6094,195.8594 174.6094,194.0156 L174.6094,187.125 L176.6719,187.125 L176.6719,187.2813 Q176.5781,187.375 176.5469,187.5156 Q176.5313,187.6406 176.5313,187.9063 L176.5313,194.0313 Q176.5313,195.125 176.9063,195.75 Q177.2813,196.375 178.2656,196.375 Q179.25,196.375 179.6406,195.75 Q180.0313,195.125 180.0313,193.9844 L180.0313,187.125 L181.9063,187.125 L181.9063,193.9688 Q181.9063,196 180.875,196.9688 Q179.8594,197.9375 178.25,197.9375 Z \"/><text fill=\"#000000\" font-family=\"sans-serif\" font-size=\"12\" font-style=\"italic\" lengthAdjust=\"spacingAndGlyphs\" textLength=\"69\" x=\"190.5\" y=\"189.6387\">«attribute»</text><text fill=\"#000000\" font-family=\"sans-serif\" font-size=\"12\" lengthAdjust=\"spacingAndGlyphs\" textLength=\"6\" x=\"220\" y=\"203.6074\">y</text><line style=\"stroke: #A80036; stroke-width: 1.5;\" x1=\"164.5\" x2=\"259.5\" y1=\"211.4375\" y2=\"211.4375\"/></a><!--MD5=[b9389687b975829384b498ac4b7476b2]\n",
       "class E8--><a href=\"psysml:44529a0f-a1ad-4493-b824-b4a46bdd708e\" target=\"_top\" title=\"psysml:44529a0f-a1ad-4493-b824-b4a46bdd708e\" xlink:actuate=\"onRequest\" xlink:href=\"psysml:44529a0f-a1ad-4493-b824-b4a46bdd708e\" xlink:show=\"new\" xlink:title=\"psysml:44529a0f-a1ad-4493-b824-b4a46bdd708e\" xlink:type=\"simple\"><rect fill=\"#FEFECE\" filter=\"url(#fiipvc9e7sns)\" height=\"45.9375\" id=\"E8\" rx=\"10\" ry=\"10\" style=\"stroke: #A80036; stroke-width: 1.5;\" width=\"97\" x=\"84.5\" y=\"87.5\"/><ellipse cx=\"99.5\" cy=\"106.4688\" fill=\"#FFA500\" rx=\"11\" ry=\"11\" style=\"stroke: #A80036; stroke-width: 1.0;\"/><path d=\"M99.25,111.9375 Q97.5,111.9375 96.5469,110.9063 Q95.6094,109.8594 95.6094,108.0156 L95.6094,101.125 L97.6719,101.125 L97.6719,101.2813 Q97.5781,101.375 97.5469,101.5156 Q97.5313,101.6406 97.5313,101.9063 L97.5313,108.0313 Q97.5313,109.125 97.9063,109.75 Q98.2813,110.375 99.2656,110.375 Q100.25,110.375 100.6406,109.75 Q101.0313,109.125 101.0313,107.9844 L101.0313,101.125 L102.9063,101.125 L102.9063,107.9688 Q102.9063,110 101.875,110.9688 Q100.8594,111.9375 99.25,111.9375 Z \"/><text fill=\"#000000\" font-family=\"sans-serif\" font-size=\"12\" font-style=\"italic\" lengthAdjust=\"spacingAndGlyphs\" textLength=\"69\" x=\"111.5\" y=\"103.6387\">«attribute»</text><text fill=\"#000000\" font-family=\"sans-serif\" font-size=\"12\" lengthAdjust=\"spacingAndGlyphs\" textLength=\"5\" x=\"141.5\" y=\"117.6074\">z</text><line style=\"stroke: #A80036; stroke-width: 1.5;\" x1=\"85.5\" x2=\"180.5\" y1=\"125.4375\" y2=\"125.4375\"/></a><a href=\"psysml:511969d3-37b8-4975-ad7d-d9be97a14b44\" target=\"_top\" title=\"psysml:511969d3-37b8-4975-ad7d-d9be97a14b44\" xlink:actuate=\"onRequest\" xlink:href=\"psysml:511969d3-37b8-4975-ad7d-d9be97a14b44\" xlink:show=\"new\" xlink:title=\"psysml:511969d3-37b8-4975-ad7d-d9be97a14b44\" xlink:type=\"simple\"><polygon fill=\"#FFFFFF\" filter=\"url(#fiipvc9e7sns)\" points=\"292.5,84,413.5,84,420.5,106.2969,427.5,106.2969,427.5,136.5938,292.5,136.5938,292.5,84\" style=\"stroke: #000000; stroke-width: 1.5;\"/><line style=\"stroke: #000000; stroke-width: 1.5;\" x1=\"292.5\" x2=\"420.5\" y1=\"106.2969\" y2=\"106.2969\"/><text fill=\"#000000\" font-family=\"sans-serif\" font-size=\"14\" font-weight=\"bold\" lengthAdjust=\"spacingAndGlyphs\" textLength=\"115\" x=\"296.5\" y=\"98.9951\">Application Layer</text></a><a href=\"psysml:3811cf97-7daf-4e30-b445-d9788e80eae2\" target=\"_top\" title=\"psysml:3811cf97-7daf-4e30-b445-d9788e80eae2\" xlink:actuate=\"onRequest\" xlink:href=\"psysml:3811cf97-7daf-4e30-b445-d9788e80eae2\" xlink:show=\"new\" xlink:title=\"psysml:3811cf97-7daf-4e30-b445-d9788e80eae2\" xlink:type=\"simple\"><polygon fill=\"#FFFFFF\" filter=\"url(#fiipvc9e7sns)\" points=\"305,170,401,170,408,192.2969,415,192.2969,415,222.5938,305,222.5938,305,170\" style=\"stroke: #000000; stroke-width: 1.5;\"/><line style=\"stroke: #000000; stroke-width: 1.5;\" x1=\"305\" x2=\"408\" y1=\"192.2969\" y2=\"192.2969\"/><text fill=\"#000000\" font-family=\"sans-serif\" font-size=\"14\" font-weight=\"bold\" lengthAdjust=\"spacingAndGlyphs\" textLength=\"90\" x=\"309\" y=\"184.9951\">Service Layer</text></a><a href=\"psysml:2c8fb347-f198-4aa6-806c-1c573edf927e\" target=\"_top\" title=\"psysml:2c8fb347-f198-4aa6-806c-1c573edf927e\" xlink:actuate=\"onRequest\" xlink:href=\"psysml:2c8fb347-f198-4aa6-806c-1c573edf927e\" xlink:show=\"new\" xlink:title=\"psysml:2c8fb347-f198-4aa6-806c-1c573edf927e\" xlink:type=\"simple\"><polygon fill=\"#FFFFFF\" filter=\"url(#fiipvc9e7sns)\" points=\"314,256,392,256,399,278.2969,406,278.2969,406,308.5938,314,308.5938,314,256\" style=\"stroke: #000000; stroke-width: 1.5;\"/><line style=\"stroke: #000000; stroke-width: 1.5;\" x1=\"314\" x2=\"399\" y1=\"278.2969\" y2=\"278.2969\"/><text fill=\"#000000\" font-family=\"sans-serif\" font-size=\"14\" font-weight=\"bold\" lengthAdjust=\"spacingAndGlyphs\" textLength=\"72\" x=\"318\" y=\"270.9951\">Data Layer</text></a><!--MD5=[af87c684e3b0d8be13c1a698a818ef1e]\n",
       "link E3 to E4--><a href=\"psysml:973be101-d69f-4acb-a430-79bda88f318e\" target=\"_top\" title=\"psysml:973be101-d69f-4acb-a430-79bda88f318e\" xlink:actuate=\"onRequest\" xlink:href=\"psysml:973be101-d69f-4acb-a430-79bda88f318e\" xlink:show=\"new\" xlink:title=\"psysml:973be101-d69f-4acb-a430-79bda88f318e\" xlink:type=\"simple\"><path d=\"M360,137.16 C360,144.98 360,153.69 360,161.94 \" fill=\"none\" id=\"E3-&gt;E4\" style=\"stroke: #A80036; stroke-width: 1.0; stroke-dasharray: 7.0,7.0;\"/><polygon fill=\"#A80036\" points=\"360,170,363,162,357,162,360,170\" style=\"stroke: #A80036; stroke-width: 1.0;\"/><text fill=\"#000000\" font-family=\"sans-serif\" font-size=\"13\" lengthAdjust=\"spacingAndGlyphs\" textLength=\"64\" x=\"361\" y=\"158.0669\">«depend»</text></a><!--MD5=[1b7591eae5389033d8d09a9d6721a717]\n",
       "link E4 to E5--><a href=\"psysml:418c7eed-60a4-47b0-a927-ef037a202312\" target=\"_top\" title=\"psysml:418c7eed-60a4-47b0-a927-ef037a202312\" xlink:actuate=\"onRequest\" xlink:href=\"psysml:418c7eed-60a4-47b0-a927-ef037a202312\" xlink:show=\"new\" xlink:title=\"psysml:418c7eed-60a4-47b0-a927-ef037a202312\" xlink:type=\"simple\"><path d=\"M360,223.16 C360,230.98 360,239.69 360,247.94 \" fill=\"none\" id=\"E4-&gt;E5\" style=\"stroke: #A80036; stroke-width: 1.0; stroke-dasharray: 7.0,7.0;\"/><polygon fill=\"#A80036\" points=\"360,256,363,248,357,248,360,256\" style=\"stroke: #A80036; stroke-width: 1.0;\"/><text fill=\"#000000\" font-family=\"sans-serif\" font-size=\"13\" lengthAdjust=\"spacingAndGlyphs\" textLength=\"64\" x=\"361\" y=\"244.0669\">«depend»</text></a><!--MD5=[c5e8897d989ce984f93528998a7150fe]\n",
       "link E8 to E6--><a href=\"psysml:27e0873a-b752-4942-bd7f-ca0670289346\" target=\"_top\" title=\"psysml:27e0873a-b752-4942-bd7f-ca0670289346\" xlink:actuate=\"onRequest\" xlink:href=\"psysml:27e0873a-b752-4942-bd7f-ca0670289346\" xlink:show=\"new\" xlink:title=\"psysml:27e0873a-b752-4942-bd7f-ca0670289346\" xlink:type=\"simple\"><path d=\"M92.08,133.72 C88.53,137.07 85.39,140.83 83,145 C79.52,151.08 77.92,158.28 77.36,165.3 \" fill=\"none\" id=\"E8-&gt;E6\" style=\"stroke: #A80036; stroke-width: 1.0; stroke-dasharray: 7.0,7.0;\"/><polygon fill=\"#A80036\" points=\"77.14,173.39,80.3531,165.4732,74.3553,165.3125,77.14,173.39\" style=\"stroke: #A80036; stroke-width: 1.0;\"/><text fill=\"#000000\" font-family=\"sans-serif\" font-size=\"13\" lengthAdjust=\"spacingAndGlyphs\" textLength=\"64\" x=\"84\" y=\"158.0669\">«depend»</text></a><!--MD5=[bfa3c8b0d15052fdf50ae9310b491027]\n",
       "link E8 to E7--><a href=\"psysml:27e0873a-b752-4942-bd7f-ca0670289346\" target=\"_top\" title=\"psysml:27e0873a-b752-4942-bd7f-ca0670289346\" xlink:actuate=\"onRequest\" xlink:href=\"psysml:27e0873a-b752-4942-bd7f-ca0670289346\" xlink:show=\"new\" xlink:title=\"psysml:27e0873a-b752-4942-bd7f-ca0670289346\" xlink:type=\"simple\"><path d=\"M153.76,133.57 C163.48,143.91 175.17,156.34 185.52,167.34 \" fill=\"none\" id=\"E8-&gt;E7\" style=\"stroke: #A80036; stroke-width: 1.0; stroke-dasharray: 7.0,7.0;\"/><polygon fill=\"#A80036\" points=\"191.11,173.29,187.8117,165.4083,183.4425,169.5205,191.11,173.29\" style=\"stroke: #A80036; stroke-width: 1.0;\"/><text fill=\"#000000\" font-family=\"sans-serif\" font-size=\"13\" lengthAdjust=\"spacingAndGlyphs\" textLength=\"64\" x=\"180\" y=\"158.0669\">«depend»</text></a><!--MD5=[541ac498af3fe5c0799feee7a8597868]\n",
       "@startuml\r\n",
       "skinparam ranksep 10\r\n",
       "skinparam rectangle {\r\n",
       " backgroundColor<<block>> LightGreen\r\n",
       "}\r\n",
       " \r\n",
       "package \"DependencyTest\" as E1  [[psysml:30d47011-2b84-418c-8f66-5b5fafd7ed2a ]]  {\r\n",
       "package \"System\" as E2  [[psysml:5fbdfa4d-cafa-4f51-92a0-0bd6c2ea6fbb ]]  {\r\n",
       "package \"Application Layer\" as E3  [[psysml:511969d3-37b8-4975-ad7d-d9be97a14b44 ]]  {\r\n",
       "}\r\n",
       "package \"Service Layer\" as E4  [[psysml:3811cf97-7daf-4e30-b445-d9788e80eae2 ]]  {\r\n",
       "}\r\n",
       "package \"Data Layer\" as E5  [[psysml:2c8fb347-f198-4aa6-806c-1c573edf927e ]]  {\r\n",
       "}\r\n",
       "}\r\n",
       "comp usage \"x \" as E6 << <<(U,orange) attribute>> [[psysml:3d7e11a6-324b-4ff0-8a6c-08a58aad852d ]] {\r\n",
       "}\r\n",
       "comp usage \"y \" as E7 << <<(U,orange) attribute>> [[psysml:07b9e1bd-21f7-4218-b4f9-b36b2d1ccf74 ]] {\r\n",
       "}\r\n",
       "comp usage \"z \" as E8 << <<(U,orange) attribute>> [[psysml:44529a0f-a1ad-4493-b824-b4a46bdd708e ]] {\r\n",
       "}\r\n",
       "}\r\n",
       "E3 ..>> E4 [[psysml:973be101-d69f-4acb-a430-79bda88f318e ]] : <<depend>>\r\n",
       "E4 ..>> E5 [[psysml:418c7eed-60a4-47b0-a927-ef037a202312 ]] : <<depend>>\r\n",
       "E8 ..>> E6 [[psysml:27e0873a-b752-4942-bd7f-ca0670289346 ]] : <<depend>>\r\n",
       "E8 ..>> E7 [[psysml:27e0873a-b752-4942-bd7f-ca0670289346 ]] : <<depend>>\r\n",
       "@enduml\r\n",
       "\n",
       "PlantUML version 1.2020.13(Sat Jun 13 12:26:38 UTC 2020)\n",
       "(EPL source distribution)\n",
       "Java Runtime: OpenJDK Runtime Environment\n",
       "JVM: OpenJDK 64-Bit Server VM\n",
       "Default Encoding: UTF-8\n",
       "Language: en\n",
       "Country: null\n",
       "--></g></svg>"
      ]
     },
     "execution_count": 33,
     "metadata": {},
     "output_type": "execute_result"
    }
   ],
   "source": [
    "%viz --style=\"PLANTUML\" --view=\"Interconnection\" \"DependencyTest\""
   ]
  },
  {
   "cell_type": "code",
   "execution_count": 34,
   "id": "9f20348b",
   "metadata": {
    "execution": {
     "iopub.execute_input": "2022-02-05T16:52:51.556601Z",
     "iopub.status.busy": "2022-02-05T16:52:51.556192Z",
     "iopub.status.idle": "2022-02-05T16:52:51.560510Z",
     "shell.execute_reply": "2022-02-05T16:52:51.560825Z"
    }
   },
   "outputs": [
    {
     "data": {
      "image/svg+xml": [
       "<?xml version=\"1.0\" encoding=\"UTF-8\" standalone=\"no\"?><svg xmlns=\"http://www.w3.org/2000/svg\" xmlns:xlink=\"http://www.w3.org/1999/xlink\" contentScriptType=\"application/ecmascript\" contentStyleType=\"text/css\" height=\"12px\" preserveAspectRatio=\"none\" style=\"width:12px;height:12px;\" version=\"1.1\" viewBox=\"0 0 12 12\" width=\"12px\" zoomAndPan=\"magnify\"><defs/><g><!--MD5=[6a4cb978cab31700e1ce5529f947a75d]\n",
       "@startuml\r\n",
       "skinparam ranksep 8\r\n",
       " \r\n",
       "@enduml\r\n",
       "\n",
       "PlantUML version 1.2020.13(Sat Jun 13 12:26:38 UTC 2020)\n",
       "(EPL source distribution)\n",
       "Java Runtime: OpenJDK Runtime Environment\n",
       "JVM: OpenJDK 64-Bit Server VM\n",
       "Default Encoding: UTF-8\n",
       "Language: en\n",
       "Country: null\n",
       "--></g></svg>"
      ]
     },
     "execution_count": 34,
     "metadata": {},
     "output_type": "execute_result"
    }
   ],
   "source": [
    "%viz --style=\"PLANTUML\" --view=\"Action\" \"DependencyTest\""
   ]
  },
  {
   "cell_type": "code",
   "execution_count": 35,
   "id": "124e0649",
   "metadata": {
    "execution": {
     "iopub.execute_input": "2022-02-05T16:52:51.610844Z",
     "iopub.status.busy": "2022-02-05T16:52:51.610441Z",
     "iopub.status.idle": "2022-02-05T16:52:51.614548Z",
     "shell.execute_reply": "2022-02-05T16:52:51.614860Z"
    }
   },
   "outputs": [
    {
     "data": {
      "image/svg+xml": [
       "<?xml version=\"1.0\" encoding=\"UTF-8\" standalone=\"no\"?><svg xmlns=\"http://www.w3.org/2000/svg\" xmlns:xlink=\"http://www.w3.org/1999/xlink\" contentScriptType=\"application/ecmascript\" contentStyleType=\"text/css\" height=\"12px\" preserveAspectRatio=\"none\" style=\"width:12px;height:12px;\" version=\"1.1\" viewBox=\"0 0 12 12\" width=\"12px\" zoomAndPan=\"magnify\"><defs/><g><!--MD5=[ca4faa0b02def275ea33c14ea7a1a98d]\n",
       "@startuml\r\n",
       "skinparam roundcorner 20\r\n",
       "skinparam BoxPadding 20\r\n",
       "skinparam SequenceBoxBackgroundColor #white\r\n",
       "skinparam style strictuml\r\n",
       "skinparam maxMessageSize 100\r\n",
       " \r\n",
       "@enduml\r\n",
       "\n",
       "PlantUML version 1.2020.13(Sat Jun 13 12:26:38 UTC 2020)\n",
       "(EPL source distribution)\n",
       "Java Runtime: OpenJDK Runtime Environment\n",
       "JVM: OpenJDK 64-Bit Server VM\n",
       "Default Encoding: UTF-8\n",
       "Language: en\n",
       "Country: null\n",
       "--></g></svg>"
      ]
     },
     "execution_count": 35,
     "metadata": {},
     "output_type": "execute_result"
    }
   ],
   "source": [
    "%viz --style=\"PLANTUML\" --view=\"Sequence\" \"DependencyTest\""
   ]
  },
  {
   "cell_type": "code",
   "execution_count": 36,
   "id": "78db4ebf",
   "metadata": {
    "execution": {
     "iopub.execute_input": "2022-02-05T16:52:51.664981Z",
     "iopub.status.busy": "2022-02-05T16:52:51.664578Z",
     "iopub.status.idle": "2022-02-05T16:52:51.699136Z",
     "shell.execute_reply": "2022-02-05T16:52:51.697742Z"
    }
   },
   "outputs": [
    {
     "data": {
      "image/svg+xml": [
       "<?xml version=\"1.0\" encoding=\"UTF-8\" standalone=\"no\"?><svg xmlns=\"http://www.w3.org/2000/svg\" xmlns:xlink=\"http://www.w3.org/1999/xlink\" contentScriptType=\"application/ecmascript\" contentStyleType=\"text/css\" height=\"449px\" preserveAspectRatio=\"none\" style=\"width:490px;height:449px;\" version=\"1.1\" viewBox=\"0 0 490 449\" width=\"490px\" zoomAndPan=\"magnify\"><defs><filter height=\"300%\" id=\"f1h9l1zl5l9ipf\" width=\"300%\" x=\"-1\" y=\"-1\"><feGaussianBlur result=\"blurOut\" stdDeviation=\"2.0\"/><feColorMatrix in=\"blurOut\" result=\"blurOut2\" type=\"matrix\" values=\"0 0 0 0 0 0 0 0 0 0 0 0 0 0 0 0 0 0 .4 0\"/><feOffset dx=\"4.0\" dy=\"4.0\" in=\"blurOut2\" result=\"blurOut3\"/><feBlend in=\"SourceGraphic\" in2=\"blurOut3\" mode=\"normal\"/></filter></defs><g><!--MD5=[fbc87193dbaf4d95561dea2c320d4a47]\n",
       "cluster E1--><a href=\"psysml:30d47011-2b84-418c-8f66-5b5fafd7ed2a\" target=\"_top\" title=\"psysml:30d47011-2b84-418c-8f66-5b5fafd7ed2a\" xlink:actuate=\"onRequest\" xlink:href=\"psysml:30d47011-2b84-418c-8f66-5b5fafd7ed2a\" xlink:show=\"new\" xlink:title=\"psysml:30d47011-2b84-418c-8f66-5b5fafd7ed2a\" xlink:type=\"simple\"><polygon fill=\"#FFFFFF\" filter=\"url(#f1h9l1zl5l9ipf)\" points=\"16,6,142,6,149,28.2969,468,28.2969,468,437,16,437,16,6\" style=\"stroke: #000000; stroke-width: 1.5;\"/><line style=\"stroke: #000000; stroke-width: 1.5;\" x1=\"16\" x2=\"149\" y1=\"28.2969\" y2=\"28.2969\"/><text fill=\"#000000\" font-family=\"sans-serif\" font-size=\"14\" font-weight=\"bold\" lengthAdjust=\"spacingAndGlyphs\" textLength=\"120\" x=\"20\" y=\"20.9951\">DependencyTest</text></a><!--MD5=[e4f7fae6ed58524ba242bb0b0d3be6b7]\n",
       "cluster E2--><a href=\"psysml:5fbdfa4d-cafa-4f51-92a0-0bd6c2ea6fbb\" target=\"_top\" title=\"psysml:5fbdfa4d-cafa-4f51-92a0-0bd6c2ea6fbb\" xlink:actuate=\"onRequest\" xlink:href=\"psysml:5fbdfa4d-cafa-4f51-92a0-0bd6c2ea6fbb\" xlink:show=\"new\" xlink:title=\"psysml:5fbdfa4d-cafa-4f51-92a0-0bd6c2ea6fbb\" xlink:type=\"simple\"><polygon fill=\"#FFFFFF\" filter=\"url(#f1h9l1zl5l9ipf)\" points=\"276,49,333,49,340,71.2969,444,71.2969,444,413,276,413,276,49\" style=\"stroke: #000000; stroke-width: 1.5;\"/><line style=\"stroke: #000000; stroke-width: 1.5;\" x1=\"276\" x2=\"340\" y1=\"71.2969\" y2=\"71.2969\"/><text fill=\"#000000\" font-family=\"sans-serif\" font-size=\"14\" font-weight=\"bold\" lengthAdjust=\"spacingAndGlyphs\" textLength=\"51\" x=\"280\" y=\"63.9951\">System</text></a><!--MD5=[60a26617385b1d2d0262a64233df1f8d]\n",
       "class E6--><a href=\"psysml:3d7e11a6-324b-4ff0-8a6c-08a58aad852d\" target=\"_top\" title=\"psysml:3d7e11a6-324b-4ff0-8a6c-08a58aad852d\" xlink:actuate=\"onRequest\" xlink:href=\"psysml:3d7e11a6-324b-4ff0-8a6c-08a58aad852d\" xlink:show=\"new\" xlink:title=\"psysml:3d7e11a6-324b-4ff0-8a6c-08a58aad852d\" xlink:type=\"simple\"><rect fill=\"#FEFECE\" filter=\"url(#f1h9l1zl5l9ipf)\" height=\"45.9375\" id=\"E6\" rx=\"10\" ry=\"10\" style=\"stroke: #A80036; stroke-width: 1.5;\" width=\"97\" x=\"31.5\" y=\"217.5\"/><ellipse cx=\"46.5\" cy=\"236.4688\" fill=\"#FFA500\" rx=\"11\" ry=\"11\" style=\"stroke: #A80036; stroke-width: 1.0;\"/><path d=\"M46.25,241.9375 Q44.5,241.9375 43.5469,240.9063 Q42.6094,239.8594 42.6094,238.0156 L42.6094,231.125 L44.6719,231.125 L44.6719,231.2813 Q44.5781,231.375 44.5469,231.5156 Q44.5313,231.6406 44.5313,231.9063 L44.5313,238.0313 Q44.5313,239.125 44.9063,239.75 Q45.2813,240.375 46.2656,240.375 Q47.25,240.375 47.6406,239.75 Q48.0313,239.125 48.0313,237.9844 L48.0313,231.125 L49.9063,231.125 L49.9063,237.9688 Q49.9063,240 48.875,240.9688 Q47.8594,241.9375 46.25,241.9375 Z \"/><text fill=\"#000000\" font-family=\"sans-serif\" font-size=\"12\" font-style=\"italic\" lengthAdjust=\"spacingAndGlyphs\" textLength=\"69\" x=\"58.5\" y=\"233.6387\">«attribute»</text><text fill=\"#000000\" font-family=\"sans-serif\" font-size=\"12\" lengthAdjust=\"spacingAndGlyphs\" textLength=\"6\" x=\"88\" y=\"247.6074\">x</text><line style=\"stroke: #A80036; stroke-width: 1.5;\" x1=\"32.5\" x2=\"127.5\" y1=\"255.4375\" y2=\"255.4375\"/></a><!--MD5=[2156ba9850f5573cc1fc38a6a4b2f02b]\n",
       "class E7--><a href=\"psysml:07b9e1bd-21f7-4218-b4f9-b36b2d1ccf74\" target=\"_top\" title=\"psysml:07b9e1bd-21f7-4218-b4f9-b36b2d1ccf74\" xlink:actuate=\"onRequest\" xlink:href=\"psysml:07b9e1bd-21f7-4218-b4f9-b36b2d1ccf74\" xlink:show=\"new\" xlink:title=\"psysml:07b9e1bd-21f7-4218-b4f9-b36b2d1ccf74\" xlink:type=\"simple\"><rect fill=\"#FEFECE\" filter=\"url(#f1h9l1zl5l9ipf)\" height=\"45.9375\" id=\"E7\" rx=\"10\" ry=\"10\" style=\"stroke: #A80036; stroke-width: 1.5;\" width=\"97\" x=\"163.5\" y=\"217.5\"/><ellipse cx=\"178.5\" cy=\"236.4688\" fill=\"#FFA500\" rx=\"11\" ry=\"11\" style=\"stroke: #A80036; stroke-width: 1.0;\"/><path d=\"M178.25,241.9375 Q176.5,241.9375 175.5469,240.9063 Q174.6094,239.8594 174.6094,238.0156 L174.6094,231.125 L176.6719,231.125 L176.6719,231.2813 Q176.5781,231.375 176.5469,231.5156 Q176.5313,231.6406 176.5313,231.9063 L176.5313,238.0313 Q176.5313,239.125 176.9063,239.75 Q177.2813,240.375 178.2656,240.375 Q179.25,240.375 179.6406,239.75 Q180.0313,239.125 180.0313,237.9844 L180.0313,231.125 L181.9063,231.125 L181.9063,237.9688 Q181.9063,240 180.875,240.9688 Q179.8594,241.9375 178.25,241.9375 Z \"/><text fill=\"#000000\" font-family=\"sans-serif\" font-size=\"12\" font-style=\"italic\" lengthAdjust=\"spacingAndGlyphs\" textLength=\"69\" x=\"190.5\" y=\"233.6387\">«attribute»</text><text fill=\"#000000\" font-family=\"sans-serif\" font-size=\"12\" lengthAdjust=\"spacingAndGlyphs\" textLength=\"6\" x=\"220\" y=\"247.6074\">y</text><line style=\"stroke: #A80036; stroke-width: 1.5;\" x1=\"164.5\" x2=\"259.5\" y1=\"255.4375\" y2=\"255.4375\"/></a><!--MD5=[b9389687b975829384b498ac4b7476b2]\n",
       "class E8--><a href=\"psysml:44529a0f-a1ad-4493-b824-b4a46bdd708e\" target=\"_top\" title=\"psysml:44529a0f-a1ad-4493-b824-b4a46bdd708e\" xlink:actuate=\"onRequest\" xlink:href=\"psysml:44529a0f-a1ad-4493-b824-b4a46bdd708e\" xlink:show=\"new\" xlink:title=\"psysml:44529a0f-a1ad-4493-b824-b4a46bdd708e\" xlink:type=\"simple\"><rect fill=\"#FEFECE\" filter=\"url(#f1h9l1zl5l9ipf)\" height=\"45.9375\" id=\"E8\" rx=\"10\" ry=\"10\" style=\"stroke: #A80036; stroke-width: 1.5;\" width=\"97\" x=\"84.5\" y=\"87.5\"/><ellipse cx=\"99.5\" cy=\"106.4688\" fill=\"#FFA500\" rx=\"11\" ry=\"11\" style=\"stroke: #A80036; stroke-width: 1.0;\"/><path d=\"M99.25,111.9375 Q97.5,111.9375 96.5469,110.9063 Q95.6094,109.8594 95.6094,108.0156 L95.6094,101.125 L97.6719,101.125 L97.6719,101.2813 Q97.5781,101.375 97.5469,101.5156 Q97.5313,101.6406 97.5313,101.9063 L97.5313,108.0313 Q97.5313,109.125 97.9063,109.75 Q98.2813,110.375 99.2656,110.375 Q100.25,110.375 100.6406,109.75 Q101.0313,109.125 101.0313,107.9844 L101.0313,101.125 L102.9063,101.125 L102.9063,107.9688 Q102.9063,110 101.875,110.9688 Q100.8594,111.9375 99.25,111.9375 Z \"/><text fill=\"#000000\" font-family=\"sans-serif\" font-size=\"12\" font-style=\"italic\" lengthAdjust=\"spacingAndGlyphs\" textLength=\"69\" x=\"111.5\" y=\"103.6387\">«attribute»</text><text fill=\"#000000\" font-family=\"sans-serif\" font-size=\"12\" lengthAdjust=\"spacingAndGlyphs\" textLength=\"5\" x=\"141.5\" y=\"117.6074\">z</text><line style=\"stroke: #A80036; stroke-width: 1.5;\" x1=\"85.5\" x2=\"180.5\" y1=\"125.4375\" y2=\"125.4375\"/></a><a href=\"psysml:511969d3-37b8-4975-ad7d-d9be97a14b44\" target=\"_top\" title=\"psysml:511969d3-37b8-4975-ad7d-d9be97a14b44\" xlink:actuate=\"onRequest\" xlink:href=\"psysml:511969d3-37b8-4975-ad7d-d9be97a14b44\" xlink:show=\"new\" xlink:title=\"psysml:511969d3-37b8-4975-ad7d-d9be97a14b44\" xlink:type=\"simple\"><polygon fill=\"#FFFFFF\" filter=\"url(#f1h9l1zl5l9ipf)\" points=\"292.5,84,413.5,84,420.5,106.2969,427.5,106.2969,427.5,136.5938,292.5,136.5938,292.5,84\" style=\"stroke: #000000; stroke-width: 1.5;\"/><line style=\"stroke: #000000; stroke-width: 1.5;\" x1=\"292.5\" x2=\"420.5\" y1=\"106.2969\" y2=\"106.2969\"/><text fill=\"#000000\" font-family=\"sans-serif\" font-size=\"14\" font-weight=\"bold\" lengthAdjust=\"spacingAndGlyphs\" textLength=\"115\" x=\"296.5\" y=\"98.9951\">Application Layer</text></a><a href=\"psysml:3811cf97-7daf-4e30-b445-d9788e80eae2\" target=\"_top\" title=\"psysml:3811cf97-7daf-4e30-b445-d9788e80eae2\" xlink:actuate=\"onRequest\" xlink:href=\"psysml:3811cf97-7daf-4e30-b445-d9788e80eae2\" xlink:show=\"new\" xlink:title=\"psysml:3811cf97-7daf-4e30-b445-d9788e80eae2\" xlink:type=\"simple\"><polygon fill=\"#FFFFFF\" filter=\"url(#f1h9l1zl5l9ipf)\" points=\"305,214,401,214,408,236.2969,415,236.2969,415,266.5938,305,266.5938,305,214\" style=\"stroke: #000000; stroke-width: 1.5;\"/><line style=\"stroke: #000000; stroke-width: 1.5;\" x1=\"305\" x2=\"408\" y1=\"236.2969\" y2=\"236.2969\"/><text fill=\"#000000\" font-family=\"sans-serif\" font-size=\"14\" font-weight=\"bold\" lengthAdjust=\"spacingAndGlyphs\" textLength=\"90\" x=\"309\" y=\"228.9951\">Service Layer</text></a><a href=\"psysml:2c8fb347-f198-4aa6-806c-1c573edf927e\" target=\"_top\" title=\"psysml:2c8fb347-f198-4aa6-806c-1c573edf927e\" xlink:actuate=\"onRequest\" xlink:href=\"psysml:2c8fb347-f198-4aa6-806c-1c573edf927e\" xlink:show=\"new\" xlink:title=\"psysml:2c8fb347-f198-4aa6-806c-1c573edf927e\" xlink:type=\"simple\"><polygon fill=\"#FFFFFF\" filter=\"url(#f1h9l1zl5l9ipf)\" points=\"314,344,392,344,399,366.2969,406,366.2969,406,396.5938,314,396.5938,314,344\" style=\"stroke: #000000; stroke-width: 1.5;\"/><line style=\"stroke: #000000; stroke-width: 1.5;\" x1=\"314\" x2=\"399\" y1=\"366.2969\" y2=\"366.2969\"/><text fill=\"#000000\" font-family=\"sans-serif\" font-size=\"14\" font-weight=\"bold\" lengthAdjust=\"spacingAndGlyphs\" textLength=\"72\" x=\"318\" y=\"358.9951\">Data Layer</text></a><!--MD5=[af87c684e3b0d8be13c1a698a818ef1e]\n",
       "link E3 to E4--><a href=\"psysml:973be101-d69f-4acb-a430-79bda88f318e\" target=\"_top\" title=\"psysml:973be101-d69f-4acb-a430-79bda88f318e\" xlink:actuate=\"onRequest\" xlink:href=\"psysml:973be101-d69f-4acb-a430-79bda88f318e\" xlink:show=\"new\" xlink:title=\"psysml:973be101-d69f-4acb-a430-79bda88f318e\" xlink:type=\"simple\"><path d=\"M360,137.1 C360,156.8 360,184.22 360,205.73 \" fill=\"none\" id=\"E3-&gt;E4\" style=\"stroke: #A80036; stroke-width: 1.0; stroke-dasharray: 7.0,7.0;\"/><polygon fill=\"#A80036\" points=\"360,213.95,363,205.95,357,205.95,360,213.95\" style=\"stroke: #A80036; stroke-width: 1.0;\"/><text fill=\"#000000\" font-family=\"sans-serif\" font-size=\"13\" lengthAdjust=\"spacingAndGlyphs\" textLength=\"64\" x=\"361\" y=\"180.0669\">«depend»</text></a><!--MD5=[1b7591eae5389033d8d09a9d6721a717]\n",
       "link E4 to E5--><a href=\"psysml:418c7eed-60a4-47b0-a927-ef037a202312\" target=\"_top\" title=\"psysml:418c7eed-60a4-47b0-a927-ef037a202312\" xlink:actuate=\"onRequest\" xlink:href=\"psysml:418c7eed-60a4-47b0-a927-ef037a202312\" xlink:show=\"new\" xlink:title=\"psysml:418c7eed-60a4-47b0-a927-ef037a202312\" xlink:type=\"simple\"><path d=\"M360,267.1 C360,286.8 360,314.22 360,335.73 \" fill=\"none\" id=\"E4-&gt;E5\" style=\"stroke: #A80036; stroke-width: 1.0; stroke-dasharray: 7.0,7.0;\"/><polygon fill=\"#A80036\" points=\"360,343.95,363,335.95,357,335.95,360,343.95\" style=\"stroke: #A80036; stroke-width: 1.0;\"/><text fill=\"#000000\" font-family=\"sans-serif\" font-size=\"13\" lengthAdjust=\"spacingAndGlyphs\" textLength=\"64\" x=\"361\" y=\"310.0669\">«depend»</text></a><!--MD5=[c5e8897d989ce984f93528998a7150fe]\n",
       "link E8 to E6--><a href=\"psysml:27e0873a-b752-4942-bd7f-ca0670289346\" target=\"_top\" title=\"psysml:27e0873a-b752-4942-bd7f-ca0670289346\" xlink:actuate=\"onRequest\" xlink:href=\"psysml:27e0873a-b752-4942-bd7f-ca0670289346\" xlink:show=\"new\" xlink:title=\"psysml:27e0873a-b752-4942-bd7f-ca0670289346\" xlink:type=\"simple\"><path d=\"M106.44,133.76 C97.3,143.01 88.09,154.51 83,167 C77.6,180.23 76.4,195.98 76.73,209.41 \" fill=\"none\" id=\"E8-&gt;E6\" style=\"stroke: #A80036; stroke-width: 1.0; stroke-dasharray: 7.0,7.0;\"/><polygon fill=\"#A80036\" points=\"77.12,217.43,79.7306,209.2946,73.7375,209.584,77.12,217.43\" style=\"stroke: #A80036; stroke-width: 1.0;\"/><text fill=\"#000000\" font-family=\"sans-serif\" font-size=\"13\" lengthAdjust=\"spacingAndGlyphs\" textLength=\"64\" x=\"84\" y=\"180.0669\">«depend»</text></a><!--MD5=[bfa3c8b0d15052fdf50ae9310b491027]\n",
       "link E8 to E7--><a href=\"psysml:27e0873a-b752-4942-bd7f-ca0670289346\" target=\"_top\" title=\"psysml:27e0873a-b752-4942-bd7f-ca0670289346\" xlink:actuate=\"onRequest\" xlink:href=\"psysml:27e0873a-b752-4942-bd7f-ca0670289346\" xlink:show=\"new\" xlink:title=\"psysml:27e0873a-b752-4942-bd7f-ca0670289346\" xlink:type=\"simple\"><path d=\"M146.58,133.5 C159.69,154.75 179.63,187.05 194.05,210.41 \" fill=\"none\" id=\"E8-&gt;E7\" style=\"stroke: #A80036; stroke-width: 1.0; stroke-dasharray: 7.0,7.0;\"/><polygon fill=\"#A80036\" points=\"198.33,217.35,196.6785,208.9671,191.5737,212.1201,198.33,217.35\" style=\"stroke: #A80036; stroke-width: 1.0;\"/><text fill=\"#000000\" font-family=\"sans-serif\" font-size=\"13\" lengthAdjust=\"spacingAndGlyphs\" textLength=\"64\" x=\"178\" y=\"180.0669\">«depend»</text></a><!--MD5=[e6fea3da714ba3b6f68de3308c586423]\n",
       "@startuml\r\n",
       " \r\n",
       "package \"DependencyTest\" as E1  [[psysml:30d47011-2b84-418c-8f66-5b5fafd7ed2a ]]  {\r\n",
       "package \"System\" as E2  [[psysml:5fbdfa4d-cafa-4f51-92a0-0bd6c2ea6fbb ]]  {\r\n",
       "package \"Application Layer\" as E3  [[psysml:511969d3-37b8-4975-ad7d-d9be97a14b44 ]]  {\r\n",
       "}\r\n",
       "package \"Service Layer\" as E4  [[psysml:3811cf97-7daf-4e30-b445-d9788e80eae2 ]]  {\r\n",
       "}\r\n",
       "package \"Data Layer\" as E5  [[psysml:2c8fb347-f198-4aa6-806c-1c573edf927e ]]  {\r\n",
       "}\r\n",
       "}\r\n",
       "comp usage \"x \" as E6 << <<(U,orange) attribute>> [[psysml:3d7e11a6-324b-4ff0-8a6c-08a58aad852d ]] {\r\n",
       "}\r\n",
       "comp usage \"y \" as E7 << <<(U,orange) attribute>> [[psysml:07b9e1bd-21f7-4218-b4f9-b36b2d1ccf74 ]] {\r\n",
       "}\r\n",
       "comp usage \"z \" as E8 << <<(U,orange) attribute>> [[psysml:44529a0f-a1ad-4493-b824-b4a46bdd708e ]] {\r\n",
       "}\r\n",
       "}\r\n",
       "E3 ..>> E4 [[psysml:973be101-d69f-4acb-a430-79bda88f318e ]] : <<depend>>\r\n",
       "E4 ..>> E5 [[psysml:418c7eed-60a4-47b0-a927-ef037a202312 ]] : <<depend>>\r\n",
       "E8 ..>> E6 [[psysml:27e0873a-b752-4942-bd7f-ca0670289346 ]] : <<depend>>\r\n",
       "E8 ..>> E7 [[psysml:27e0873a-b752-4942-bd7f-ca0670289346 ]] : <<depend>>\r\n",
       "@enduml\r\n",
       "\n",
       "PlantUML version 1.2020.13(Sat Jun 13 12:26:38 UTC 2020)\n",
       "(EPL source distribution)\n",
       "Java Runtime: OpenJDK Runtime Environment\n",
       "JVM: OpenJDK 64-Bit Server VM\n",
       "Default Encoding: UTF-8\n",
       "Language: en\n",
       "Country: null\n",
       "--></g></svg>"
      ]
     },
     "execution_count": 36,
     "metadata": {},
     "output_type": "execute_result"
    }
   ],
   "source": [
    "%viz --style=\"PLANTUML\" --view=\"MIXED\" \"DependencyTest\""
   ]
  },
  {
   "cell_type": "code",
   "execution_count": 37,
   "id": "e95e1ede",
   "metadata": {
    "execution": {
     "iopub.execute_input": "2022-02-05T16:52:51.748608Z",
     "iopub.status.busy": "2022-02-05T16:52:51.748200Z",
     "iopub.status.idle": "2022-02-05T16:52:51.773878Z",
     "shell.execute_reply": "2022-02-05T16:52:51.773518Z"
    }
   },
   "outputs": [
    {
     "data": {
      "image/svg+xml": [
       "<?xml version=\"1.0\" encoding=\"UTF-8\" standalone=\"no\"?><svg xmlns=\"http://www.w3.org/2000/svg\" xmlns:xlink=\"http://www.w3.org/1999/xlink\" contentScriptType=\"application/ecmascript\" contentStyleType=\"text/css\" height=\"449px\" preserveAspectRatio=\"none\" style=\"width:469px;height:449px;\" version=\"1.1\" viewBox=\"0 0 469 449\" width=\"469px\" zoomAndPan=\"magnify\"><defs/><g><!--MD5=[fbc87193dbaf4d95561dea2c320d4a47]\n",
       "cluster E1--><a href=\"psysml:30d47011-2b84-418c-8f66-5b5fafd7ed2a\" target=\"_top\" title=\"psysml:30d47011-2b84-418c-8f66-5b5fafd7ed2a\" xlink:actuate=\"onRequest\" xlink:href=\"psysml:30d47011-2b84-418c-8f66-5b5fafd7ed2a\" xlink:show=\"new\" xlink:title=\"psysml:30d47011-2b84-418c-8f66-5b5fafd7ed2a\" xlink:type=\"simple\"><polygon fill=\"#FFFFFF\" points=\"16,6,142,6,149,28.2969,447,28.2969,447,437,16,437,16,6\" style=\"stroke: #000000; stroke-width: 1.5;\"/><line style=\"stroke: #000000; stroke-width: 1.5;\" x1=\"16\" x2=\"149\" y1=\"28.2969\" y2=\"28.2969\"/><text fill=\"#000000\" font-family=\"sans-serif\" font-size=\"14\" font-weight=\"bold\" lengthAdjust=\"spacingAndGlyphs\" textLength=\"120\" x=\"20\" y=\"20.9951\">DependencyTest</text></a><!--MD5=[e4f7fae6ed58524ba242bb0b0d3be6b7]\n",
       "cluster E2--><a href=\"psysml:5fbdfa4d-cafa-4f51-92a0-0bd6c2ea6fbb\" target=\"_top\" title=\"psysml:5fbdfa4d-cafa-4f51-92a0-0bd6c2ea6fbb\" xlink:actuate=\"onRequest\" xlink:href=\"psysml:5fbdfa4d-cafa-4f51-92a0-0bd6c2ea6fbb\" xlink:show=\"new\" xlink:title=\"psysml:5fbdfa4d-cafa-4f51-92a0-0bd6c2ea6fbb\" xlink:type=\"simple\"><polygon fill=\"#FFFFFF\" points=\"255,49,312,49,319,71.2969,423,71.2969,423,413,255,413,255,49\" style=\"stroke: #000000; stroke-width: 1.5;\"/><line style=\"stroke: #000000; stroke-width: 1.5;\" x1=\"255\" x2=\"319\" y1=\"71.2969\" y2=\"71.2969\"/><text fill=\"#000000\" font-family=\"sans-serif\" font-size=\"14\" font-weight=\"bold\" lengthAdjust=\"spacingAndGlyphs\" textLength=\"51\" x=\"259\" y=\"63.9951\">System</text></a><!--MD5=[60a26617385b1d2d0262a64233df1f8d]\n",
       "class E6--><a href=\"psysml:3d7e11a6-324b-4ff0-8a6c-08a58aad852d\" target=\"_top\" title=\"psysml:3d7e11a6-324b-4ff0-8a6c-08a58aad852d\" xlink:actuate=\"onRequest\" xlink:href=\"psysml:3d7e11a6-324b-4ff0-8a6c-08a58aad852d\" xlink:show=\"new\" xlink:title=\"psysml:3d7e11a6-324b-4ff0-8a6c-08a58aad852d\" xlink:type=\"simple\"><rect fill=\"#FFFFFF\" height=\"45.9375\" id=\"E6\" rx=\"10\" ry=\"10\" style=\"stroke: #383838; stroke-width: 1.5;\" width=\"71\" x=\"32.5\" y=\"217.5\"/><text fill=\"#000000\" font-family=\"sans-serif\" font-size=\"12\" font-style=\"italic\" lengthAdjust=\"spacingAndGlyphs\" textLength=\"69\" x=\"33.5\" y=\"233.6387\">«attribute»</text><text fill=\"#000000\" font-family=\"sans-serif\" font-size=\"12\" lengthAdjust=\"spacingAndGlyphs\" textLength=\"6\" x=\"63\" y=\"247.6074\">x</text><line style=\"stroke: #383838; stroke-width: 1.5;\" x1=\"33.5\" x2=\"102.5\" y1=\"255.4375\" y2=\"255.4375\"/></a><!--MD5=[2156ba9850f5573cc1fc38a6a4b2f02b]\n",
       "class E7--><a href=\"psysml:07b9e1bd-21f7-4218-b4f9-b36b2d1ccf74\" target=\"_top\" title=\"psysml:07b9e1bd-21f7-4218-b4f9-b36b2d1ccf74\" xlink:actuate=\"onRequest\" xlink:href=\"psysml:07b9e1bd-21f7-4218-b4f9-b36b2d1ccf74\" xlink:show=\"new\" xlink:title=\"psysml:07b9e1bd-21f7-4218-b4f9-b36b2d1ccf74\" xlink:type=\"simple\"><rect fill=\"#FFFFFF\" height=\"45.9375\" id=\"E7\" rx=\"10\" ry=\"10\" style=\"stroke: #383838; stroke-width: 1.5;\" width=\"71\" x=\"138.5\" y=\"217.5\"/><text fill=\"#000000\" font-family=\"sans-serif\" font-size=\"12\" font-style=\"italic\" lengthAdjust=\"spacingAndGlyphs\" textLength=\"69\" x=\"139.5\" y=\"233.6387\">«attribute»</text><text fill=\"#000000\" font-family=\"sans-serif\" font-size=\"12\" lengthAdjust=\"spacingAndGlyphs\" textLength=\"6\" x=\"169\" y=\"247.6074\">y</text><line style=\"stroke: #383838; stroke-width: 1.5;\" x1=\"139.5\" x2=\"208.5\" y1=\"255.4375\" y2=\"255.4375\"/></a><!--MD5=[b9389687b975829384b498ac4b7476b2]\n",
       "class E8--><a href=\"psysml:44529a0f-a1ad-4493-b824-b4a46bdd708e\" target=\"_top\" title=\"psysml:44529a0f-a1ad-4493-b824-b4a46bdd708e\" xlink:actuate=\"onRequest\" xlink:href=\"psysml:44529a0f-a1ad-4493-b824-b4a46bdd708e\" xlink:show=\"new\" xlink:title=\"psysml:44529a0f-a1ad-4493-b824-b4a46bdd708e\" xlink:type=\"simple\"><rect fill=\"#FFFFFF\" height=\"45.9375\" id=\"E8\" rx=\"10\" ry=\"10\" style=\"stroke: #383838; stroke-width: 1.5;\" width=\"71\" x=\"84.5\" y=\"87.5\"/><text fill=\"#000000\" font-family=\"sans-serif\" font-size=\"12\" font-style=\"italic\" lengthAdjust=\"spacingAndGlyphs\" textLength=\"69\" x=\"85.5\" y=\"103.6387\">«attribute»</text><text fill=\"#000000\" font-family=\"sans-serif\" font-size=\"12\" lengthAdjust=\"spacingAndGlyphs\" textLength=\"5\" x=\"115.5\" y=\"117.6074\">z</text><line style=\"stroke: #383838; stroke-width: 1.5;\" x1=\"85.5\" x2=\"154.5\" y1=\"125.4375\" y2=\"125.4375\"/></a><a href=\"psysml:511969d3-37b8-4975-ad7d-d9be97a14b44\" target=\"_top\" title=\"psysml:511969d3-37b8-4975-ad7d-d9be97a14b44\" xlink:actuate=\"onRequest\" xlink:href=\"psysml:511969d3-37b8-4975-ad7d-d9be97a14b44\" xlink:show=\"new\" xlink:title=\"psysml:511969d3-37b8-4975-ad7d-d9be97a14b44\" xlink:type=\"simple\"><polygon fill=\"#FFFFFF\" points=\"271.5,84,392.5,84,399.5,106.2969,406.5,106.2969,406.5,136.5938,271.5,136.5938,271.5,84\" style=\"stroke: #000000; stroke-width: 1.5;\"/><line style=\"stroke: #000000; stroke-width: 1.5;\" x1=\"271.5\" x2=\"399.5\" y1=\"106.2969\" y2=\"106.2969\"/><text fill=\"#000000\" font-family=\"sans-serif\" font-size=\"14\" font-weight=\"bold\" lengthAdjust=\"spacingAndGlyphs\" textLength=\"115\" x=\"275.5\" y=\"98.9951\">Application Layer</text></a><a href=\"psysml:3811cf97-7daf-4e30-b445-d9788e80eae2\" target=\"_top\" title=\"psysml:3811cf97-7daf-4e30-b445-d9788e80eae2\" xlink:actuate=\"onRequest\" xlink:href=\"psysml:3811cf97-7daf-4e30-b445-d9788e80eae2\" xlink:show=\"new\" xlink:title=\"psysml:3811cf97-7daf-4e30-b445-d9788e80eae2\" xlink:type=\"simple\"><polygon fill=\"#FFFFFF\" points=\"284,214,380,214,387,236.2969,394,236.2969,394,266.5938,284,266.5938,284,214\" style=\"stroke: #000000; stroke-width: 1.5;\"/><line style=\"stroke: #000000; stroke-width: 1.5;\" x1=\"284\" x2=\"387\" y1=\"236.2969\" y2=\"236.2969\"/><text fill=\"#000000\" font-family=\"sans-serif\" font-size=\"14\" font-weight=\"bold\" lengthAdjust=\"spacingAndGlyphs\" textLength=\"90\" x=\"288\" y=\"228.9951\">Service Layer</text></a><a href=\"psysml:2c8fb347-f198-4aa6-806c-1c573edf927e\" target=\"_top\" title=\"psysml:2c8fb347-f198-4aa6-806c-1c573edf927e\" xlink:actuate=\"onRequest\" xlink:href=\"psysml:2c8fb347-f198-4aa6-806c-1c573edf927e\" xlink:show=\"new\" xlink:title=\"psysml:2c8fb347-f198-4aa6-806c-1c573edf927e\" xlink:type=\"simple\"><polygon fill=\"#FFFFFF\" points=\"293,344,371,344,378,366.2969,385,366.2969,385,396.5938,293,396.5938,293,344\" style=\"stroke: #000000; stroke-width: 1.5;\"/><line style=\"stroke: #000000; stroke-width: 1.5;\" x1=\"293\" x2=\"378\" y1=\"366.2969\" y2=\"366.2969\"/><text fill=\"#000000\" font-family=\"sans-serif\" font-size=\"14\" font-weight=\"bold\" lengthAdjust=\"spacingAndGlyphs\" textLength=\"72\" x=\"297\" y=\"358.9951\">Data Layer</text></a><!--MD5=[af87c684e3b0d8be13c1a698a818ef1e]\n",
       "link E3 to E4--><a href=\"psysml:973be101-d69f-4acb-a430-79bda88f318e\" target=\"_top\" title=\"psysml:973be101-d69f-4acb-a430-79bda88f318e\" xlink:actuate=\"onRequest\" xlink:href=\"psysml:973be101-d69f-4acb-a430-79bda88f318e\" xlink:show=\"new\" xlink:title=\"psysml:973be101-d69f-4acb-a430-79bda88f318e\" xlink:type=\"simple\"><path d=\"M339,137.1 C339,156.8 339,184.22 339,205.73 \" fill=\"none\" id=\"E3-&gt;E4\" style=\"stroke: #383838; stroke-width: 1.0; stroke-dasharray: 7.0,7.0;\"/><polygon fill=\"#383838\" points=\"339,213.95,342,205.95,336,205.95,339,213.95\" style=\"stroke: #383838; stroke-width: 1.0;\"/><text fill=\"#000000\" font-family=\"sans-serif\" font-size=\"13\" lengthAdjust=\"spacingAndGlyphs\" textLength=\"64\" x=\"340\" y=\"180.0669\">«depend»</text></a><!--MD5=[1b7591eae5389033d8d09a9d6721a717]\n",
       "link E4 to E5--><a href=\"psysml:418c7eed-60a4-47b0-a927-ef037a202312\" target=\"_top\" title=\"psysml:418c7eed-60a4-47b0-a927-ef037a202312\" xlink:actuate=\"onRequest\" xlink:href=\"psysml:418c7eed-60a4-47b0-a927-ef037a202312\" xlink:show=\"new\" xlink:title=\"psysml:418c7eed-60a4-47b0-a927-ef037a202312\" xlink:type=\"simple\"><path d=\"M339,267.1 C339,286.8 339,314.22 339,335.73 \" fill=\"none\" id=\"E4-&gt;E5\" style=\"stroke: #383838; stroke-width: 1.0; stroke-dasharray: 7.0,7.0;\"/><polygon fill=\"#383838\" points=\"339,343.95,342,335.95,336,335.95,339,343.95\" style=\"stroke: #383838; stroke-width: 1.0;\"/><text fill=\"#000000\" font-family=\"sans-serif\" font-size=\"13\" lengthAdjust=\"spacingAndGlyphs\" textLength=\"64\" x=\"340\" y=\"310.0669\">«depend»</text></a><!--MD5=[c5e8897d989ce984f93528998a7150fe]\n",
       "link E8 to E6--><a href=\"psysml:27e0873a-b752-4942-bd7f-ca0670289346\" target=\"_top\" title=\"psysml:27e0873a-b752-4942-bd7f-ca0670289346\" xlink:actuate=\"onRequest\" xlink:href=\"psysml:27e0873a-b752-4942-bd7f-ca0670289346\" xlink:show=\"new\" xlink:title=\"psysml:27e0873a-b752-4942-bd7f-ca0670289346\" xlink:type=\"simple\"><path d=\"M89.42,133.6 C79.35,142.68 69.37,154.11 64,167 C58.5,180.2 58.66,195.94 60.54,209.38 \" fill=\"none\" id=\"E8-&gt;E6\" style=\"stroke: #383838; stroke-width: 1.0; stroke-dasharray: 7.0,7.0;\"/><polygon fill=\"#383838\" points=\"61.9,217.4,63.517,209.0104,57.6018,210.0159,61.9,217.4\" style=\"stroke: #383838; stroke-width: 1.0;\"/><text fill=\"#000000\" font-family=\"sans-serif\" font-size=\"13\" lengthAdjust=\"spacingAndGlyphs\" textLength=\"64\" x=\"65\" y=\"180.0669\">«depend»</text></a><!--MD5=[bfa3c8b0d15052fdf50ae9310b491027]\n",
       "link E8 to E7--><a href=\"psysml:27e0873a-b752-4942-bd7f-ca0670289346\" target=\"_top\" title=\"psysml:27e0873a-b752-4942-bd7f-ca0670289346\" xlink:actuate=\"onRequest\" xlink:href=\"psysml:27e0873a-b752-4942-bd7f-ca0670289346\" xlink:show=\"new\" xlink:title=\"psysml:27e0873a-b752-4942-bd7f-ca0670289346\" xlink:type=\"simple\"><path d=\"M129.28,133.5 C138.17,154.57 151.64,186.5 161.47,209.81 \" fill=\"none\" id=\"E8-&gt;E7\" style=\"stroke: #383838; stroke-width: 1.0; stroke-dasharray: 7.0,7.0;\"/><polygon fill=\"#383838\" points=\"164.66,217.35,164.3241,208.8126,158.7933,211.1385,164.66,217.35\" style=\"stroke: #383838; stroke-width: 1.0;\"/><text fill=\"#000000\" font-family=\"sans-serif\" font-size=\"13\" lengthAdjust=\"spacingAndGlyphs\" textLength=\"64\" x=\"151\" y=\"180.0669\">«depend»</text></a><!--MD5=[a4fe37ed0ad9d7120b36cc417f914154]\n",
       "@startuml\r\n",
       "skinparam monochrome true\r\n",
       "skinparam classbackgroundcolor white\r\n",
       "skinparam shadowing false\r\n",
       "skinparam wrapWidth 300\r\n",
       "hide circle\r\n",
       "\r\n",
       "package \"DependencyTest\" as E1  [[psysml:30d47011-2b84-418c-8f66-5b5fafd7ed2a ]]  {\r\n",
       "package \"System\" as E2  [[psysml:5fbdfa4d-cafa-4f51-92a0-0bd6c2ea6fbb ]]  {\r\n",
       "package \"Application Layer\" as E3  [[psysml:511969d3-37b8-4975-ad7d-d9be97a14b44 ]]  {\r\n",
       "}\r\n",
       "package \"Service Layer\" as E4  [[psysml:3811cf97-7daf-4e30-b445-d9788e80eae2 ]]  {\r\n",
       "}\r\n",
       "package \"Data Layer\" as E5  [[psysml:2c8fb347-f198-4aa6-806c-1c573edf927e ]]  {\r\n",
       "}\r\n",
       "}\r\n",
       "comp usage \"x \" as E6  <<(T,blue) attribute>> [[psysml:3d7e11a6-324b-4ff0-8a6c-08a58aad852d ]] {\r\n",
       "}\r\n",
       "comp usage \"y \" as E7  <<(T,blue) attribute>> [[psysml:07b9e1bd-21f7-4218-b4f9-b36b2d1ccf74 ]] {\r\n",
       "}\r\n",
       "comp usage \"z \" as E8  <<(T,blue) attribute>> [[psysml:44529a0f-a1ad-4493-b824-b4a46bdd708e ]] {\r\n",
       "}\r\n",
       "}\r\n",
       "E3 ..>> E4 [[psysml:973be101-d69f-4acb-a430-79bda88f318e ]] : <<depend>>\r\n",
       "E4 ..>> E5 [[psysml:418c7eed-60a4-47b0-a927-ef037a202312 ]] : <<depend>>\r\n",
       "E8 ..>> E6 [[psysml:27e0873a-b752-4942-bd7f-ca0670289346 ]] : <<depend>>\r\n",
       "E8 ..>> E7 [[psysml:27e0873a-b752-4942-bd7f-ca0670289346 ]] : <<depend>>\r\n",
       "@enduml\r\n",
       "\n",
       "PlantUML version 1.2020.13(Sat Jun 13 12:26:38 UTC 2020)\n",
       "(EPL source distribution)\n",
       "Java Runtime: OpenJDK Runtime Environment\n",
       "JVM: OpenJDK 64-Bit Server VM\n",
       "Default Encoding: UTF-8\n",
       "Language: en\n",
       "Country: null\n",
       "--></g></svg>"
      ]
     },
     "execution_count": 37,
     "metadata": {},
     "output_type": "execute_result"
    }
   ],
   "source": [
    "%viz --style=\"DEFAULT\" --view=\"Default\" \"DependencyTest\""
   ]
  },
  {
   "cell_type": "code",
   "execution_count": 38,
   "id": "bd499f00",
   "metadata": {
    "execution": {
     "iopub.execute_input": "2022-02-05T16:52:51.823052Z",
     "iopub.status.busy": "2022-02-05T16:52:51.822630Z",
     "iopub.status.idle": "2022-02-05T16:52:51.850512Z",
     "shell.execute_reply": "2022-02-05T16:52:51.850161Z"
    }
   },
   "outputs": [
    {
     "data": {
      "image/svg+xml": [
       "<?xml version=\"1.0\" encoding=\"UTF-8\" standalone=\"no\"?><svg xmlns=\"http://www.w3.org/2000/svg\" xmlns:xlink=\"http://www.w3.org/1999/xlink\" contentScriptType=\"application/ecmascript\" contentStyleType=\"text/css\" height=\"449px\" preserveAspectRatio=\"none\" style=\"width:469px;height:449px;\" version=\"1.1\" viewBox=\"0 0 469 449\" width=\"469px\" zoomAndPan=\"magnify\"><defs/><g><!--MD5=[fbc87193dbaf4d95561dea2c320d4a47]\n",
       "cluster E1--><a href=\"psysml:30d47011-2b84-418c-8f66-5b5fafd7ed2a\" target=\"_top\" title=\"psysml:30d47011-2b84-418c-8f66-5b5fafd7ed2a\" xlink:actuate=\"onRequest\" xlink:href=\"psysml:30d47011-2b84-418c-8f66-5b5fafd7ed2a\" xlink:show=\"new\" xlink:title=\"psysml:30d47011-2b84-418c-8f66-5b5fafd7ed2a\" xlink:type=\"simple\"><polygon fill=\"#FFFFFF\" points=\"16,6,142,6,149,28.2969,447,28.2969,447,437,16,437,16,6\" style=\"stroke: #000000; stroke-width: 1.5;\"/><line style=\"stroke: #000000; stroke-width: 1.5;\" x1=\"16\" x2=\"149\" y1=\"28.2969\" y2=\"28.2969\"/><text fill=\"#000000\" font-family=\"sans-serif\" font-size=\"14\" font-weight=\"bold\" lengthAdjust=\"spacingAndGlyphs\" textLength=\"120\" x=\"20\" y=\"20.9951\">DependencyTest</text></a><!--MD5=[e4f7fae6ed58524ba242bb0b0d3be6b7]\n",
       "cluster E2--><a href=\"psysml:5fbdfa4d-cafa-4f51-92a0-0bd6c2ea6fbb\" target=\"_top\" title=\"psysml:5fbdfa4d-cafa-4f51-92a0-0bd6c2ea6fbb\" xlink:actuate=\"onRequest\" xlink:href=\"psysml:5fbdfa4d-cafa-4f51-92a0-0bd6c2ea6fbb\" xlink:show=\"new\" xlink:title=\"psysml:5fbdfa4d-cafa-4f51-92a0-0bd6c2ea6fbb\" xlink:type=\"simple\"><polygon fill=\"#FFFFFF\" points=\"255,49,312,49,319,71.2969,423,71.2969,423,413,255,413,255,49\" style=\"stroke: #000000; stroke-width: 1.5;\"/><line style=\"stroke: #000000; stroke-width: 1.5;\" x1=\"255\" x2=\"319\" y1=\"71.2969\" y2=\"71.2969\"/><text fill=\"#000000\" font-family=\"sans-serif\" font-size=\"14\" font-weight=\"bold\" lengthAdjust=\"spacingAndGlyphs\" textLength=\"51\" x=\"259\" y=\"63.9951\">System</text></a><!--MD5=[60a26617385b1d2d0262a64233df1f8d]\n",
       "class E6--><a href=\"psysml:3d7e11a6-324b-4ff0-8a6c-08a58aad852d\" target=\"_top\" title=\"psysml:3d7e11a6-324b-4ff0-8a6c-08a58aad852d\" xlink:actuate=\"onRequest\" xlink:href=\"psysml:3d7e11a6-324b-4ff0-8a6c-08a58aad852d\" xlink:show=\"new\" xlink:title=\"psysml:3d7e11a6-324b-4ff0-8a6c-08a58aad852d\" xlink:type=\"simple\"><rect fill=\"#FFFFFF\" height=\"45.9375\" id=\"E6\" rx=\"10\" ry=\"10\" style=\"stroke: #383838; stroke-width: 1.5;\" width=\"71\" x=\"32.5\" y=\"217.5\"/><text fill=\"#000000\" font-family=\"sans-serif\" font-size=\"12\" font-style=\"italic\" lengthAdjust=\"spacingAndGlyphs\" textLength=\"69\" x=\"33.5\" y=\"233.6387\">«attribute»</text><text fill=\"#000000\" font-family=\"sans-serif\" font-size=\"12\" lengthAdjust=\"spacingAndGlyphs\" textLength=\"6\" x=\"63\" y=\"247.6074\">x</text><line style=\"stroke: #383838; stroke-width: 1.5;\" x1=\"33.5\" x2=\"102.5\" y1=\"255.4375\" y2=\"255.4375\"/></a><!--MD5=[2156ba9850f5573cc1fc38a6a4b2f02b]\n",
       "class E7--><a href=\"psysml:07b9e1bd-21f7-4218-b4f9-b36b2d1ccf74\" target=\"_top\" title=\"psysml:07b9e1bd-21f7-4218-b4f9-b36b2d1ccf74\" xlink:actuate=\"onRequest\" xlink:href=\"psysml:07b9e1bd-21f7-4218-b4f9-b36b2d1ccf74\" xlink:show=\"new\" xlink:title=\"psysml:07b9e1bd-21f7-4218-b4f9-b36b2d1ccf74\" xlink:type=\"simple\"><rect fill=\"#FFFFFF\" height=\"45.9375\" id=\"E7\" rx=\"10\" ry=\"10\" style=\"stroke: #383838; stroke-width: 1.5;\" width=\"71\" x=\"138.5\" y=\"217.5\"/><text fill=\"#000000\" font-family=\"sans-serif\" font-size=\"12\" font-style=\"italic\" lengthAdjust=\"spacingAndGlyphs\" textLength=\"69\" x=\"139.5\" y=\"233.6387\">«attribute»</text><text fill=\"#000000\" font-family=\"sans-serif\" font-size=\"12\" lengthAdjust=\"spacingAndGlyphs\" textLength=\"6\" x=\"169\" y=\"247.6074\">y</text><line style=\"stroke: #383838; stroke-width: 1.5;\" x1=\"139.5\" x2=\"208.5\" y1=\"255.4375\" y2=\"255.4375\"/></a><!--MD5=[b9389687b975829384b498ac4b7476b2]\n",
       "class E8--><a href=\"psysml:44529a0f-a1ad-4493-b824-b4a46bdd708e\" target=\"_top\" title=\"psysml:44529a0f-a1ad-4493-b824-b4a46bdd708e\" xlink:actuate=\"onRequest\" xlink:href=\"psysml:44529a0f-a1ad-4493-b824-b4a46bdd708e\" xlink:show=\"new\" xlink:title=\"psysml:44529a0f-a1ad-4493-b824-b4a46bdd708e\" xlink:type=\"simple\"><rect fill=\"#FFFFFF\" height=\"45.9375\" id=\"E8\" rx=\"10\" ry=\"10\" style=\"stroke: #383838; stroke-width: 1.5;\" width=\"71\" x=\"84.5\" y=\"87.5\"/><text fill=\"#000000\" font-family=\"sans-serif\" font-size=\"12\" font-style=\"italic\" lengthAdjust=\"spacingAndGlyphs\" textLength=\"69\" x=\"85.5\" y=\"103.6387\">«attribute»</text><text fill=\"#000000\" font-family=\"sans-serif\" font-size=\"12\" lengthAdjust=\"spacingAndGlyphs\" textLength=\"5\" x=\"115.5\" y=\"117.6074\">z</text><line style=\"stroke: #383838; stroke-width: 1.5;\" x1=\"85.5\" x2=\"154.5\" y1=\"125.4375\" y2=\"125.4375\"/></a><a href=\"psysml:511969d3-37b8-4975-ad7d-d9be97a14b44\" target=\"_top\" title=\"psysml:511969d3-37b8-4975-ad7d-d9be97a14b44\" xlink:actuate=\"onRequest\" xlink:href=\"psysml:511969d3-37b8-4975-ad7d-d9be97a14b44\" xlink:show=\"new\" xlink:title=\"psysml:511969d3-37b8-4975-ad7d-d9be97a14b44\" xlink:type=\"simple\"><polygon fill=\"#FFFFFF\" points=\"271.5,84,392.5,84,399.5,106.2969,406.5,106.2969,406.5,136.5938,271.5,136.5938,271.5,84\" style=\"stroke: #000000; stroke-width: 1.5;\"/><line style=\"stroke: #000000; stroke-width: 1.5;\" x1=\"271.5\" x2=\"399.5\" y1=\"106.2969\" y2=\"106.2969\"/><text fill=\"#000000\" font-family=\"sans-serif\" font-size=\"14\" font-weight=\"bold\" lengthAdjust=\"spacingAndGlyphs\" textLength=\"115\" x=\"275.5\" y=\"98.9951\">Application Layer</text></a><a href=\"psysml:3811cf97-7daf-4e30-b445-d9788e80eae2\" target=\"_top\" title=\"psysml:3811cf97-7daf-4e30-b445-d9788e80eae2\" xlink:actuate=\"onRequest\" xlink:href=\"psysml:3811cf97-7daf-4e30-b445-d9788e80eae2\" xlink:show=\"new\" xlink:title=\"psysml:3811cf97-7daf-4e30-b445-d9788e80eae2\" xlink:type=\"simple\"><polygon fill=\"#FFFFFF\" points=\"284,214,380,214,387,236.2969,394,236.2969,394,266.5938,284,266.5938,284,214\" style=\"stroke: #000000; stroke-width: 1.5;\"/><line style=\"stroke: #000000; stroke-width: 1.5;\" x1=\"284\" x2=\"387\" y1=\"236.2969\" y2=\"236.2969\"/><text fill=\"#000000\" font-family=\"sans-serif\" font-size=\"14\" font-weight=\"bold\" lengthAdjust=\"spacingAndGlyphs\" textLength=\"90\" x=\"288\" y=\"228.9951\">Service Layer</text></a><a href=\"psysml:2c8fb347-f198-4aa6-806c-1c573edf927e\" target=\"_top\" title=\"psysml:2c8fb347-f198-4aa6-806c-1c573edf927e\" xlink:actuate=\"onRequest\" xlink:href=\"psysml:2c8fb347-f198-4aa6-806c-1c573edf927e\" xlink:show=\"new\" xlink:title=\"psysml:2c8fb347-f198-4aa6-806c-1c573edf927e\" xlink:type=\"simple\"><polygon fill=\"#FFFFFF\" points=\"293,344,371,344,378,366.2969,385,366.2969,385,396.5938,293,396.5938,293,344\" style=\"stroke: #000000; stroke-width: 1.5;\"/><line style=\"stroke: #000000; stroke-width: 1.5;\" x1=\"293\" x2=\"378\" y1=\"366.2969\" y2=\"366.2969\"/><text fill=\"#000000\" font-family=\"sans-serif\" font-size=\"14\" font-weight=\"bold\" lengthAdjust=\"spacingAndGlyphs\" textLength=\"72\" x=\"297\" y=\"358.9951\">Data Layer</text></a><!--MD5=[af87c684e3b0d8be13c1a698a818ef1e]\n",
       "link E3 to E4--><a href=\"psysml:973be101-d69f-4acb-a430-79bda88f318e\" target=\"_top\" title=\"psysml:973be101-d69f-4acb-a430-79bda88f318e\" xlink:actuate=\"onRequest\" xlink:href=\"psysml:973be101-d69f-4acb-a430-79bda88f318e\" xlink:show=\"new\" xlink:title=\"psysml:973be101-d69f-4acb-a430-79bda88f318e\" xlink:type=\"simple\"><path d=\"M339,137.1 C339,156.8 339,184.22 339,205.73 \" fill=\"none\" id=\"E3-&gt;E4\" style=\"stroke: #383838; stroke-width: 1.0; stroke-dasharray: 7.0,7.0;\"/><polygon fill=\"#383838\" points=\"339,213.95,342,205.95,336,205.95,339,213.95\" style=\"stroke: #383838; stroke-width: 1.0;\"/><text fill=\"#000000\" font-family=\"sans-serif\" font-size=\"13\" lengthAdjust=\"spacingAndGlyphs\" textLength=\"64\" x=\"340\" y=\"180.0669\">«depend»</text></a><!--MD5=[1b7591eae5389033d8d09a9d6721a717]\n",
       "link E4 to E5--><a href=\"psysml:418c7eed-60a4-47b0-a927-ef037a202312\" target=\"_top\" title=\"psysml:418c7eed-60a4-47b0-a927-ef037a202312\" xlink:actuate=\"onRequest\" xlink:href=\"psysml:418c7eed-60a4-47b0-a927-ef037a202312\" xlink:show=\"new\" xlink:title=\"psysml:418c7eed-60a4-47b0-a927-ef037a202312\" xlink:type=\"simple\"><path d=\"M339,267.1 C339,286.8 339,314.22 339,335.73 \" fill=\"none\" id=\"E4-&gt;E5\" style=\"stroke: #383838; stroke-width: 1.0; stroke-dasharray: 7.0,7.0;\"/><polygon fill=\"#383838\" points=\"339,343.95,342,335.95,336,335.95,339,343.95\" style=\"stroke: #383838; stroke-width: 1.0;\"/><text fill=\"#000000\" font-family=\"sans-serif\" font-size=\"13\" lengthAdjust=\"spacingAndGlyphs\" textLength=\"64\" x=\"340\" y=\"310.0669\">«depend»</text></a><!--MD5=[c5e8897d989ce984f93528998a7150fe]\n",
       "link E8 to E6--><a href=\"psysml:27e0873a-b752-4942-bd7f-ca0670289346\" target=\"_top\" title=\"psysml:27e0873a-b752-4942-bd7f-ca0670289346\" xlink:actuate=\"onRequest\" xlink:href=\"psysml:27e0873a-b752-4942-bd7f-ca0670289346\" xlink:show=\"new\" xlink:title=\"psysml:27e0873a-b752-4942-bd7f-ca0670289346\" xlink:type=\"simple\"><path d=\"M89.42,133.6 C79.35,142.68 69.37,154.11 64,167 C58.5,180.2 58.66,195.94 60.54,209.38 \" fill=\"none\" id=\"E8-&gt;E6\" style=\"stroke: #383838; stroke-width: 1.0; stroke-dasharray: 7.0,7.0;\"/><polygon fill=\"#383838\" points=\"61.9,217.4,63.517,209.0104,57.6018,210.0159,61.9,217.4\" style=\"stroke: #383838; stroke-width: 1.0;\"/><text fill=\"#000000\" font-family=\"sans-serif\" font-size=\"13\" lengthAdjust=\"spacingAndGlyphs\" textLength=\"64\" x=\"65\" y=\"180.0669\">«depend»</text></a><!--MD5=[bfa3c8b0d15052fdf50ae9310b491027]\n",
       "link E8 to E7--><a href=\"psysml:27e0873a-b752-4942-bd7f-ca0670289346\" target=\"_top\" title=\"psysml:27e0873a-b752-4942-bd7f-ca0670289346\" xlink:actuate=\"onRequest\" xlink:href=\"psysml:27e0873a-b752-4942-bd7f-ca0670289346\" xlink:show=\"new\" xlink:title=\"psysml:27e0873a-b752-4942-bd7f-ca0670289346\" xlink:type=\"simple\"><path d=\"M129.28,133.5 C138.17,154.57 151.64,186.5 161.47,209.81 \" fill=\"none\" id=\"E8-&gt;E7\" style=\"stroke: #383838; stroke-width: 1.0; stroke-dasharray: 7.0,7.0;\"/><polygon fill=\"#383838\" points=\"164.66,217.35,164.3241,208.8126,158.7933,211.1385,164.66,217.35\" style=\"stroke: #383838; stroke-width: 1.0;\"/><text fill=\"#000000\" font-family=\"sans-serif\" font-size=\"13\" lengthAdjust=\"spacingAndGlyphs\" textLength=\"64\" x=\"151\" y=\"180.0669\">«depend»</text></a><!--MD5=[a4fe37ed0ad9d7120b36cc417f914154]\n",
       "@startuml\r\n",
       "skinparam monochrome true\r\n",
       "skinparam classbackgroundcolor white\r\n",
       "skinparam shadowing false\r\n",
       "skinparam wrapWidth 300\r\n",
       "hide circle\r\n",
       "\r\n",
       "package \"DependencyTest\" as E1  [[psysml:30d47011-2b84-418c-8f66-5b5fafd7ed2a ]]  {\r\n",
       "package \"System\" as E2  [[psysml:5fbdfa4d-cafa-4f51-92a0-0bd6c2ea6fbb ]]  {\r\n",
       "package \"Application Layer\" as E3  [[psysml:511969d3-37b8-4975-ad7d-d9be97a14b44 ]]  {\r\n",
       "}\r\n",
       "package \"Service Layer\" as E4  [[psysml:3811cf97-7daf-4e30-b445-d9788e80eae2 ]]  {\r\n",
       "}\r\n",
       "package \"Data Layer\" as E5  [[psysml:2c8fb347-f198-4aa6-806c-1c573edf927e ]]  {\r\n",
       "}\r\n",
       "}\r\n",
       "comp usage \"x \" as E6  <<(T,blue) attribute>> [[psysml:3d7e11a6-324b-4ff0-8a6c-08a58aad852d ]] {\r\n",
       "}\r\n",
       "comp usage \"y \" as E7  <<(T,blue) attribute>> [[psysml:07b9e1bd-21f7-4218-b4f9-b36b2d1ccf74 ]] {\r\n",
       "}\r\n",
       "comp usage \"z \" as E8  <<(T,blue) attribute>> [[psysml:44529a0f-a1ad-4493-b824-b4a46bdd708e ]] {\r\n",
       "}\r\n",
       "}\r\n",
       "E3 ..>> E4 [[psysml:973be101-d69f-4acb-a430-79bda88f318e ]] : <<depend>>\r\n",
       "E4 ..>> E5 [[psysml:418c7eed-60a4-47b0-a927-ef037a202312 ]] : <<depend>>\r\n",
       "E8 ..>> E6 [[psysml:27e0873a-b752-4942-bd7f-ca0670289346 ]] : <<depend>>\r\n",
       "E8 ..>> E7 [[psysml:27e0873a-b752-4942-bd7f-ca0670289346 ]] : <<depend>>\r\n",
       "@enduml\r\n",
       "\n",
       "PlantUML version 1.2020.13(Sat Jun 13 12:26:38 UTC 2020)\n",
       "(EPL source distribution)\n",
       "Java Runtime: OpenJDK Runtime Environment\n",
       "JVM: OpenJDK 64-Bit Server VM\n",
       "Default Encoding: UTF-8\n",
       "Language: en\n",
       "Country: null\n",
       "--></g></svg>"
      ]
     },
     "execution_count": 38,
     "metadata": {},
     "output_type": "execute_result"
    }
   ],
   "source": [
    "%viz --style=\"DEFAULT\" --view=\"Tree\" \"DependencyTest\""
   ]
  },
  {
   "cell_type": "code",
   "execution_count": 39,
   "id": "49ec532e",
   "metadata": {
    "execution": {
     "iopub.execute_input": "2022-02-05T16:52:51.900257Z",
     "iopub.status.busy": "2022-02-05T16:52:51.899854Z",
     "iopub.status.idle": "2022-02-05T16:52:51.904204Z",
     "shell.execute_reply": "2022-02-05T16:52:51.904517Z"
    }
   },
   "outputs": [
    {
     "data": {
      "image/svg+xml": [
       "<?xml version=\"1.0\" encoding=\"UTF-8\" standalone=\"no\"?><svg xmlns=\"http://www.w3.org/2000/svg\" xmlns:xlink=\"http://www.w3.org/1999/xlink\" contentScriptType=\"application/ecmascript\" contentStyleType=\"text/css\" height=\"12px\" preserveAspectRatio=\"none\" style=\"width:12px;height:12px;\" version=\"1.1\" viewBox=\"0 0 12 12\" width=\"12px\" zoomAndPan=\"magnify\"><defs/><g><!--MD5=[c5f280e076d0d61ccf4b0f27871bda1d]\n",
       "@startuml\r\n",
       "skinparam monochrome true\r\n",
       "skinparam classbackgroundcolor white\r\n",
       "skinparam shadowing false\r\n",
       "skinparam wrapWidth 300\r\n",
       "hide circle\r\n",
       "\r\n",
       "@enduml\r\n",
       "\n",
       "PlantUML version 1.2020.13(Sat Jun 13 12:26:38 UTC 2020)\n",
       "(EPL source distribution)\n",
       "Java Runtime: OpenJDK Runtime Environment\n",
       "JVM: OpenJDK 64-Bit Server VM\n",
       "Default Encoding: UTF-8\n",
       "Language: en\n",
       "Country: null\n",
       "--></g></svg>"
      ]
     },
     "execution_count": 39,
     "metadata": {},
     "output_type": "execute_result"
    }
   ],
   "source": [
    "%viz --style=\"DEFAULT\" --view=\"State\" \"DependencyTest\""
   ]
  },
  {
   "cell_type": "code",
   "execution_count": 40,
   "id": "718b843e",
   "metadata": {
    "execution": {
     "iopub.execute_input": "2022-02-05T16:52:51.954533Z",
     "iopub.status.busy": "2022-02-05T16:52:51.954131Z",
     "iopub.status.idle": "2022-02-05T16:52:51.988942Z",
     "shell.execute_reply": "2022-02-05T16:52:51.989238Z"
    }
   },
   "outputs": [
    {
     "data": {
      "image/svg+xml": [
       "<?xml version=\"1.0\" encoding=\"UTF-8\" standalone=\"no\"?><svg xmlns=\"http://www.w3.org/2000/svg\" xmlns:xlink=\"http://www.w3.org/1999/xlink\" contentScriptType=\"application/ecmascript\" contentStyleType=\"text/css\" height=\"361px\" preserveAspectRatio=\"none\" style=\"width:469px;height:361px;\" version=\"1.1\" viewBox=\"0 0 469 361\" width=\"469px\" zoomAndPan=\"magnify\"><defs/><g><!--MD5=[fbc87193dbaf4d95561dea2c320d4a47]\n",
       "cluster E1--><a href=\"psysml:30d47011-2b84-418c-8f66-5b5fafd7ed2a\" target=\"_top\" title=\"psysml:30d47011-2b84-418c-8f66-5b5fafd7ed2a\" xlink:actuate=\"onRequest\" xlink:href=\"psysml:30d47011-2b84-418c-8f66-5b5fafd7ed2a\" xlink:show=\"new\" xlink:title=\"psysml:30d47011-2b84-418c-8f66-5b5fafd7ed2a\" xlink:type=\"simple\"><polygon fill=\"#FFFFFF\" points=\"16,6,142,6,149,28.2969,447,28.2969,447,349,16,349,16,6\" style=\"stroke: #000000; stroke-width: 1.5;\"/><line style=\"stroke: #000000; stroke-width: 1.5;\" x1=\"16\" x2=\"149\" y1=\"28.2969\" y2=\"28.2969\"/><text fill=\"#000000\" font-family=\"sans-serif\" font-size=\"14\" font-weight=\"bold\" lengthAdjust=\"spacingAndGlyphs\" textLength=\"120\" x=\"20\" y=\"20.9951\">DependencyTest</text></a><!--MD5=[e4f7fae6ed58524ba242bb0b0d3be6b7]\n",
       "cluster E2--><a href=\"psysml:5fbdfa4d-cafa-4f51-92a0-0bd6c2ea6fbb\" target=\"_top\" title=\"psysml:5fbdfa4d-cafa-4f51-92a0-0bd6c2ea6fbb\" xlink:actuate=\"onRequest\" xlink:href=\"psysml:5fbdfa4d-cafa-4f51-92a0-0bd6c2ea6fbb\" xlink:show=\"new\" xlink:title=\"psysml:5fbdfa4d-cafa-4f51-92a0-0bd6c2ea6fbb\" xlink:type=\"simple\"><polygon fill=\"#FFFFFF\" points=\"255,49,312,49,319,71.2969,423,71.2969,423,325,255,325,255,49\" style=\"stroke: #000000; stroke-width: 1.5;\"/><line style=\"stroke: #000000; stroke-width: 1.5;\" x1=\"255\" x2=\"319\" y1=\"71.2969\" y2=\"71.2969\"/><text fill=\"#000000\" font-family=\"sans-serif\" font-size=\"14\" font-weight=\"bold\" lengthAdjust=\"spacingAndGlyphs\" textLength=\"51\" x=\"259\" y=\"63.9951\">System</text></a><!--MD5=[60a26617385b1d2d0262a64233df1f8d]\n",
       "class E6--><a href=\"psysml:3d7e11a6-324b-4ff0-8a6c-08a58aad852d\" target=\"_top\" title=\"psysml:3d7e11a6-324b-4ff0-8a6c-08a58aad852d\" xlink:actuate=\"onRequest\" xlink:href=\"psysml:3d7e11a6-324b-4ff0-8a6c-08a58aad852d\" xlink:show=\"new\" xlink:title=\"psysml:3d7e11a6-324b-4ff0-8a6c-08a58aad852d\" xlink:type=\"simple\"><rect fill=\"#FFFFFF\" height=\"45.9375\" id=\"E6\" rx=\"10\" ry=\"10\" style=\"stroke: #383838; stroke-width: 1.5;\" width=\"71\" x=\"32.5\" y=\"173.5\"/><text fill=\"#000000\" font-family=\"sans-serif\" font-size=\"12\" font-style=\"italic\" lengthAdjust=\"spacingAndGlyphs\" textLength=\"69\" x=\"33.5\" y=\"189.6387\">«attribute»</text><text fill=\"#000000\" font-family=\"sans-serif\" font-size=\"12\" lengthAdjust=\"spacingAndGlyphs\" textLength=\"6\" x=\"63\" y=\"203.6074\">x</text><line style=\"stroke: #383838; stroke-width: 1.5;\" x1=\"33.5\" x2=\"102.5\" y1=\"211.4375\" y2=\"211.4375\"/></a><!--MD5=[2156ba9850f5573cc1fc38a6a4b2f02b]\n",
       "class E7--><a href=\"psysml:07b9e1bd-21f7-4218-b4f9-b36b2d1ccf74\" target=\"_top\" title=\"psysml:07b9e1bd-21f7-4218-b4f9-b36b2d1ccf74\" xlink:actuate=\"onRequest\" xlink:href=\"psysml:07b9e1bd-21f7-4218-b4f9-b36b2d1ccf74\" xlink:show=\"new\" xlink:title=\"psysml:07b9e1bd-21f7-4218-b4f9-b36b2d1ccf74\" xlink:type=\"simple\"><rect fill=\"#FFFFFF\" height=\"45.9375\" id=\"E7\" rx=\"10\" ry=\"10\" style=\"stroke: #383838; stroke-width: 1.5;\" width=\"71\" x=\"138.5\" y=\"173.5\"/><text fill=\"#000000\" font-family=\"sans-serif\" font-size=\"12\" font-style=\"italic\" lengthAdjust=\"spacingAndGlyphs\" textLength=\"69\" x=\"139.5\" y=\"189.6387\">«attribute»</text><text fill=\"#000000\" font-family=\"sans-serif\" font-size=\"12\" lengthAdjust=\"spacingAndGlyphs\" textLength=\"6\" x=\"169\" y=\"203.6074\">y</text><line style=\"stroke: #383838; stroke-width: 1.5;\" x1=\"139.5\" x2=\"208.5\" y1=\"211.4375\" y2=\"211.4375\"/></a><!--MD5=[b9389687b975829384b498ac4b7476b2]\n",
       "class E8--><a href=\"psysml:44529a0f-a1ad-4493-b824-b4a46bdd708e\" target=\"_top\" title=\"psysml:44529a0f-a1ad-4493-b824-b4a46bdd708e\" xlink:actuate=\"onRequest\" xlink:href=\"psysml:44529a0f-a1ad-4493-b824-b4a46bdd708e\" xlink:show=\"new\" xlink:title=\"psysml:44529a0f-a1ad-4493-b824-b4a46bdd708e\" xlink:type=\"simple\"><rect fill=\"#FFFFFF\" height=\"45.9375\" id=\"E8\" rx=\"10\" ry=\"10\" style=\"stroke: #383838; stroke-width: 1.5;\" width=\"71\" x=\"84.5\" y=\"87.5\"/><text fill=\"#000000\" font-family=\"sans-serif\" font-size=\"12\" font-style=\"italic\" lengthAdjust=\"spacingAndGlyphs\" textLength=\"69\" x=\"85.5\" y=\"103.6387\">«attribute»</text><text fill=\"#000000\" font-family=\"sans-serif\" font-size=\"12\" lengthAdjust=\"spacingAndGlyphs\" textLength=\"5\" x=\"115.5\" y=\"117.6074\">z</text><line style=\"stroke: #383838; stroke-width: 1.5;\" x1=\"85.5\" x2=\"154.5\" y1=\"125.4375\" y2=\"125.4375\"/></a><a href=\"psysml:511969d3-37b8-4975-ad7d-d9be97a14b44\" target=\"_top\" title=\"psysml:511969d3-37b8-4975-ad7d-d9be97a14b44\" xlink:actuate=\"onRequest\" xlink:href=\"psysml:511969d3-37b8-4975-ad7d-d9be97a14b44\" xlink:show=\"new\" xlink:title=\"psysml:511969d3-37b8-4975-ad7d-d9be97a14b44\" xlink:type=\"simple\"><polygon fill=\"#FFFFFF\" points=\"271.5,84,392.5,84,399.5,106.2969,406.5,106.2969,406.5,136.5938,271.5,136.5938,271.5,84\" style=\"stroke: #000000; stroke-width: 1.5;\"/><line style=\"stroke: #000000; stroke-width: 1.5;\" x1=\"271.5\" x2=\"399.5\" y1=\"106.2969\" y2=\"106.2969\"/><text fill=\"#000000\" font-family=\"sans-serif\" font-size=\"14\" font-weight=\"bold\" lengthAdjust=\"spacingAndGlyphs\" textLength=\"115\" x=\"275.5\" y=\"98.9951\">Application Layer</text></a><a href=\"psysml:3811cf97-7daf-4e30-b445-d9788e80eae2\" target=\"_top\" title=\"psysml:3811cf97-7daf-4e30-b445-d9788e80eae2\" xlink:actuate=\"onRequest\" xlink:href=\"psysml:3811cf97-7daf-4e30-b445-d9788e80eae2\" xlink:show=\"new\" xlink:title=\"psysml:3811cf97-7daf-4e30-b445-d9788e80eae2\" xlink:type=\"simple\"><polygon fill=\"#FFFFFF\" points=\"284,170,380,170,387,192.2969,394,192.2969,394,222.5938,284,222.5938,284,170\" style=\"stroke: #000000; stroke-width: 1.5;\"/><line style=\"stroke: #000000; stroke-width: 1.5;\" x1=\"284\" x2=\"387\" y1=\"192.2969\" y2=\"192.2969\"/><text fill=\"#000000\" font-family=\"sans-serif\" font-size=\"14\" font-weight=\"bold\" lengthAdjust=\"spacingAndGlyphs\" textLength=\"90\" x=\"288\" y=\"184.9951\">Service Layer</text></a><a href=\"psysml:2c8fb347-f198-4aa6-806c-1c573edf927e\" target=\"_top\" title=\"psysml:2c8fb347-f198-4aa6-806c-1c573edf927e\" xlink:actuate=\"onRequest\" xlink:href=\"psysml:2c8fb347-f198-4aa6-806c-1c573edf927e\" xlink:show=\"new\" xlink:title=\"psysml:2c8fb347-f198-4aa6-806c-1c573edf927e\" xlink:type=\"simple\"><polygon fill=\"#FFFFFF\" points=\"293,256,371,256,378,278.2969,385,278.2969,385,308.5938,293,308.5938,293,256\" style=\"stroke: #000000; stroke-width: 1.5;\"/><line style=\"stroke: #000000; stroke-width: 1.5;\" x1=\"293\" x2=\"378\" y1=\"278.2969\" y2=\"278.2969\"/><text fill=\"#000000\" font-family=\"sans-serif\" font-size=\"14\" font-weight=\"bold\" lengthAdjust=\"spacingAndGlyphs\" textLength=\"72\" x=\"297\" y=\"270.9951\">Data Layer</text></a><!--MD5=[af87c684e3b0d8be13c1a698a818ef1e]\n",
       "link E3 to E4--><a href=\"psysml:973be101-d69f-4acb-a430-79bda88f318e\" target=\"_top\" title=\"psysml:973be101-d69f-4acb-a430-79bda88f318e\" xlink:actuate=\"onRequest\" xlink:href=\"psysml:973be101-d69f-4acb-a430-79bda88f318e\" xlink:show=\"new\" xlink:title=\"psysml:973be101-d69f-4acb-a430-79bda88f318e\" xlink:type=\"simple\"><path d=\"M339,137.16 C339,144.98 339,153.69 339,161.94 \" fill=\"none\" id=\"E3-&gt;E4\" style=\"stroke: #383838; stroke-width: 1.0; stroke-dasharray: 7.0,7.0;\"/><polygon fill=\"#383838\" points=\"339,170,342,162,336,162,339,170\" style=\"stroke: #383838; stroke-width: 1.0;\"/><text fill=\"#000000\" font-family=\"sans-serif\" font-size=\"13\" lengthAdjust=\"spacingAndGlyphs\" textLength=\"64\" x=\"340\" y=\"158.0669\">«depend»</text></a><!--MD5=[1b7591eae5389033d8d09a9d6721a717]\n",
       "link E4 to E5--><a href=\"psysml:418c7eed-60a4-47b0-a927-ef037a202312\" target=\"_top\" title=\"psysml:418c7eed-60a4-47b0-a927-ef037a202312\" xlink:actuate=\"onRequest\" xlink:href=\"psysml:418c7eed-60a4-47b0-a927-ef037a202312\" xlink:show=\"new\" xlink:title=\"psysml:418c7eed-60a4-47b0-a927-ef037a202312\" xlink:type=\"simple\"><path d=\"M339,223.16 C339,230.98 339,239.69 339,247.94 \" fill=\"none\" id=\"E4-&gt;E5\" style=\"stroke: #383838; stroke-width: 1.0; stroke-dasharray: 7.0,7.0;\"/><polygon fill=\"#383838\" points=\"339,256,342,248,336,248,339,256\" style=\"stroke: #383838; stroke-width: 1.0;\"/><text fill=\"#000000\" font-family=\"sans-serif\" font-size=\"13\" lengthAdjust=\"spacingAndGlyphs\" textLength=\"64\" x=\"340\" y=\"244.0669\">«depend»</text></a><!--MD5=[c5e8897d989ce984f93528998a7150fe]\n",
       "link E8 to E6--><a href=\"psysml:27e0873a-b752-4942-bd7f-ca0670289346\" target=\"_top\" title=\"psysml:27e0873a-b752-4942-bd7f-ca0670289346\" xlink:actuate=\"onRequest\" xlink:href=\"psysml:27e0873a-b752-4942-bd7f-ca0670289346\" xlink:show=\"new\" xlink:title=\"psysml:27e0873a-b752-4942-bd7f-ca0670289346\" xlink:type=\"simple\"><path d=\"M84.49,125.34 C76.34,130.27 68.69,136.72 64,145 C60.54,151.1 59.62,158.31 60,165.33 \" fill=\"none\" id=\"E8-&gt;E6\" style=\"stroke: #383838; stroke-width: 1.0; stroke-dasharray: 7.0,7.0;\"/><polygon fill=\"#383838\" points=\"60.97,173.42,63.0061,165.1221,57.0479,165.8294,60.97,173.42\" style=\"stroke: #383838; stroke-width: 1.0;\"/><text fill=\"#000000\" font-family=\"sans-serif\" font-size=\"13\" lengthAdjust=\"spacingAndGlyphs\" textLength=\"64\" x=\"65\" y=\"158.0669\">«depend»</text></a><!--MD5=[bfa3c8b0d15052fdf50ae9310b491027]\n",
       "link E8 to E7--><a href=\"psysml:27e0873a-b752-4942-bd7f-ca0670289346\" target=\"_top\" title=\"psysml:27e0873a-b752-4942-bd7f-ca0670289346\" xlink:actuate=\"onRequest\" xlink:href=\"psysml:27e0873a-b752-4942-bd7f-ca0670289346\" xlink:show=\"new\" xlink:title=\"psysml:27e0873a-b752-4942-bd7f-ca0670289346\" xlink:type=\"simple\"><path d=\"M134.19,133.57 C140.65,143.62 148.38,155.65 155.31,166.42 \" fill=\"none\" id=\"E8-&gt;E7\" style=\"stroke: #383838; stroke-width: 1.0; stroke-dasharray: 7.0,7.0;\"/><polygon fill=\"#383838\" points=\"159.72,173.29,157.9148,164.9389,152.8688,168.185,159.72,173.29\" style=\"stroke: #383838; stroke-width: 1.0;\"/><text fill=\"#000000\" font-family=\"sans-serif\" font-size=\"13\" lengthAdjust=\"spacingAndGlyphs\" textLength=\"64\" x=\"152\" y=\"158.0669\">«depend»</text></a><!--MD5=[5740969c271e81148df83cbc7c06a3db]\n",
       "@startuml\r\n",
       "skinparam ranksep 10\r\n",
       "skinparam rectangle {\r\n",
       " backgroundColor<<block>> LightGreen\r\n",
       "}\r\n",
       "skinparam monochrome true\r\n",
       "skinparam classbackgroundcolor white\r\n",
       "skinparam shadowing false\r\n",
       "skinparam wrapWidth 300\r\n",
       "hide circle\r\n",
       "\r\n",
       "package \"DependencyTest\" as E1  [[psysml:30d47011-2b84-418c-8f66-5b5fafd7ed2a ]]  {\r\n",
       "package \"System\" as E2  [[psysml:5fbdfa4d-cafa-4f51-92a0-0bd6c2ea6fbb ]]  {\r\n",
       "package \"Application Layer\" as E3  [[psysml:511969d3-37b8-4975-ad7d-d9be97a14b44 ]]  {\r\n",
       "}\r\n",
       "package \"Service Layer\" as E4  [[psysml:3811cf97-7daf-4e30-b445-d9788e80eae2 ]]  {\r\n",
       "}\r\n",
       "package \"Data Layer\" as E5  [[psysml:2c8fb347-f198-4aa6-806c-1c573edf927e ]]  {\r\n",
       "}\r\n",
       "}\r\n",
       "comp usage \"x \" as E6  <<(T,blue) attribute>> [[psysml:3d7e11a6-324b-4ff0-8a6c-08a58aad852d ]] {\r\n",
       "}\r\n",
       "comp usage \"y \" as E7  <<(T,blue) attribute>> [[psysml:07b9e1bd-21f7-4218-b4f9-b36b2d1ccf74 ]] {\r\n",
       "}\r\n",
       "comp usage \"z \" as E8  <<(T,blue) attribute>> [[psysml:44529a0f-a1ad-4493-b824-b4a46bdd708e ]] {\r\n",
       "}\r\n",
       "}\r\n",
       "E3 ..>> E4 [[psysml:973be101-d69f-4acb-a430-79bda88f318e ]] : <<depend>>\r\n",
       "E4 ..>> E5 [[psysml:418c7eed-60a4-47b0-a927-ef037a202312 ]] : <<depend>>\r\n",
       "E8 ..>> E6 [[psysml:27e0873a-b752-4942-bd7f-ca0670289346 ]] : <<depend>>\r\n",
       "E8 ..>> E7 [[psysml:27e0873a-b752-4942-bd7f-ca0670289346 ]] : <<depend>>\r\n",
       "@enduml\r\n",
       "\n",
       "PlantUML version 1.2020.13(Sat Jun 13 12:26:38 UTC 2020)\n",
       "(EPL source distribution)\n",
       "Java Runtime: OpenJDK Runtime Environment\n",
       "JVM: OpenJDK 64-Bit Server VM\n",
       "Default Encoding: UTF-8\n",
       "Language: en\n",
       "Country: null\n",
       "--></g></svg>"
      ]
     },
     "execution_count": 40,
     "metadata": {},
     "output_type": "execute_result"
    }
   ],
   "source": [
    "%viz --style=\"DEFAULT\" --view=\"Interconnection\" \"DependencyTest\""
   ]
  },
  {
   "cell_type": "code",
   "execution_count": 41,
   "id": "ad641e68",
   "metadata": {
    "execution": {
     "iopub.execute_input": "2022-02-05T16:52:52.039223Z",
     "iopub.status.busy": "2022-02-05T16:52:52.038800Z",
     "iopub.status.idle": "2022-02-05T16:52:52.043704Z",
     "shell.execute_reply": "2022-02-05T16:52:52.043374Z"
    }
   },
   "outputs": [
    {
     "data": {
      "image/svg+xml": [
       "<?xml version=\"1.0\" encoding=\"UTF-8\" standalone=\"no\"?><svg xmlns=\"http://www.w3.org/2000/svg\" xmlns:xlink=\"http://www.w3.org/1999/xlink\" contentScriptType=\"application/ecmascript\" contentStyleType=\"text/css\" height=\"12px\" preserveAspectRatio=\"none\" style=\"width:12px;height:12px;\" version=\"1.1\" viewBox=\"0 0 12 12\" width=\"12px\" zoomAndPan=\"magnify\"><defs/><g><!--MD5=[388f21188e31bfdd97050473b19af356]\n",
       "@startuml\r\n",
       "skinparam ranksep 8\r\n",
       "skinparam monochrome true\r\n",
       "skinparam classbackgroundcolor white\r\n",
       "skinparam shadowing false\r\n",
       "skinparam wrapWidth 300\r\n",
       "hide circle\r\n",
       "\r\n",
       "@enduml\r\n",
       "\n",
       "PlantUML version 1.2020.13(Sat Jun 13 12:26:38 UTC 2020)\n",
       "(EPL source distribution)\n",
       "Java Runtime: OpenJDK Runtime Environment\n",
       "JVM: OpenJDK 64-Bit Server VM\n",
       "Default Encoding: UTF-8\n",
       "Language: en\n",
       "Country: null\n",
       "--></g></svg>"
      ]
     },
     "execution_count": 41,
     "metadata": {},
     "output_type": "execute_result"
    }
   ],
   "source": [
    "%viz --style=\"DEFAULT\" --view=\"Action\" \"DependencyTest\""
   ]
  },
  {
   "cell_type": "code",
   "execution_count": 42,
   "id": "c38b3c20",
   "metadata": {
    "execution": {
     "iopub.execute_input": "2022-02-05T16:52:52.093791Z",
     "iopub.status.busy": "2022-02-05T16:52:52.093394Z",
     "iopub.status.idle": "2022-02-05T16:52:52.098172Z",
     "shell.execute_reply": "2022-02-05T16:52:52.098463Z"
    }
   },
   "outputs": [
    {
     "data": {
      "image/svg+xml": [
       "<?xml version=\"1.0\" encoding=\"UTF-8\" standalone=\"no\"?><svg xmlns=\"http://www.w3.org/2000/svg\" xmlns:xlink=\"http://www.w3.org/1999/xlink\" contentScriptType=\"application/ecmascript\" contentStyleType=\"text/css\" height=\"12px\" preserveAspectRatio=\"none\" style=\"width:12px;height:12px;\" version=\"1.1\" viewBox=\"0 0 12 12\" width=\"12px\" zoomAndPan=\"magnify\"><defs/><g><!--MD5=[0b72472770326784bf6c2b53246e1e64]\n",
       "@startuml\r\n",
       "skinparam roundcorner 20\r\n",
       "skinparam BoxPadding 20\r\n",
       "skinparam SequenceBoxBackgroundColor #white\r\n",
       "skinparam style strictuml\r\n",
       "skinparam maxMessageSize 100\r\n",
       "skinparam monochrome true\r\n",
       "skinparam classbackgroundcolor white\r\n",
       "skinparam shadowing false\r\n",
       "skinparam wrapWidth 300\r\n",
       "hide circle\r\n",
       "\r\n",
       "@enduml\r\n",
       "\n",
       "PlantUML version 1.2020.13(Sat Jun 13 12:26:38 UTC 2020)\n",
       "(EPL source distribution)\n",
       "Java Runtime: OpenJDK Runtime Environment\n",
       "JVM: OpenJDK 64-Bit Server VM\n",
       "Default Encoding: UTF-8\n",
       "Language: en\n",
       "Country: null\n",
       "--></g></svg>"
      ]
     },
     "execution_count": 42,
     "metadata": {},
     "output_type": "execute_result"
    }
   ],
   "source": [
    "%viz --style=\"DEFAULT\" --view=\"Sequence\" \"DependencyTest\""
   ]
  },
  {
   "cell_type": "code",
   "execution_count": 43,
   "id": "3d480a93",
   "metadata": {
    "execution": {
     "iopub.execute_input": "2022-02-05T16:52:52.148379Z",
     "iopub.status.busy": "2022-02-05T16:52:52.147978Z",
     "iopub.status.idle": "2022-02-05T16:52:52.168920Z",
     "shell.execute_reply": "2022-02-05T16:52:52.168587Z"
    }
   },
   "outputs": [
    {
     "data": {
      "image/svg+xml": [
       "<?xml version=\"1.0\" encoding=\"UTF-8\" standalone=\"no\"?><svg xmlns=\"http://www.w3.org/2000/svg\" xmlns:xlink=\"http://www.w3.org/1999/xlink\" contentScriptType=\"application/ecmascript\" contentStyleType=\"text/css\" height=\"449px\" preserveAspectRatio=\"none\" style=\"width:469px;height:449px;\" version=\"1.1\" viewBox=\"0 0 469 449\" width=\"469px\" zoomAndPan=\"magnify\"><defs/><g><!--MD5=[fbc87193dbaf4d95561dea2c320d4a47]\n",
       "cluster E1--><a href=\"psysml:30d47011-2b84-418c-8f66-5b5fafd7ed2a\" target=\"_top\" title=\"psysml:30d47011-2b84-418c-8f66-5b5fafd7ed2a\" xlink:actuate=\"onRequest\" xlink:href=\"psysml:30d47011-2b84-418c-8f66-5b5fafd7ed2a\" xlink:show=\"new\" xlink:title=\"psysml:30d47011-2b84-418c-8f66-5b5fafd7ed2a\" xlink:type=\"simple\"><polygon fill=\"#FFFFFF\" points=\"16,6,142,6,149,28.2969,447,28.2969,447,437,16,437,16,6\" style=\"stroke: #000000; stroke-width: 1.5;\"/><line style=\"stroke: #000000; stroke-width: 1.5;\" x1=\"16\" x2=\"149\" y1=\"28.2969\" y2=\"28.2969\"/><text fill=\"#000000\" font-family=\"sans-serif\" font-size=\"14\" font-weight=\"bold\" lengthAdjust=\"spacingAndGlyphs\" textLength=\"120\" x=\"20\" y=\"20.9951\">DependencyTest</text></a><!--MD5=[e4f7fae6ed58524ba242bb0b0d3be6b7]\n",
       "cluster E2--><a href=\"psysml:5fbdfa4d-cafa-4f51-92a0-0bd6c2ea6fbb\" target=\"_top\" title=\"psysml:5fbdfa4d-cafa-4f51-92a0-0bd6c2ea6fbb\" xlink:actuate=\"onRequest\" xlink:href=\"psysml:5fbdfa4d-cafa-4f51-92a0-0bd6c2ea6fbb\" xlink:show=\"new\" xlink:title=\"psysml:5fbdfa4d-cafa-4f51-92a0-0bd6c2ea6fbb\" xlink:type=\"simple\"><polygon fill=\"#FFFFFF\" points=\"255,49,312,49,319,71.2969,423,71.2969,423,413,255,413,255,49\" style=\"stroke: #000000; stroke-width: 1.5;\"/><line style=\"stroke: #000000; stroke-width: 1.5;\" x1=\"255\" x2=\"319\" y1=\"71.2969\" y2=\"71.2969\"/><text fill=\"#000000\" font-family=\"sans-serif\" font-size=\"14\" font-weight=\"bold\" lengthAdjust=\"spacingAndGlyphs\" textLength=\"51\" x=\"259\" y=\"63.9951\">System</text></a><!--MD5=[60a26617385b1d2d0262a64233df1f8d]\n",
       "class E6--><a href=\"psysml:3d7e11a6-324b-4ff0-8a6c-08a58aad852d\" target=\"_top\" title=\"psysml:3d7e11a6-324b-4ff0-8a6c-08a58aad852d\" xlink:actuate=\"onRequest\" xlink:href=\"psysml:3d7e11a6-324b-4ff0-8a6c-08a58aad852d\" xlink:show=\"new\" xlink:title=\"psysml:3d7e11a6-324b-4ff0-8a6c-08a58aad852d\" xlink:type=\"simple\"><rect fill=\"#FFFFFF\" height=\"45.9375\" id=\"E6\" rx=\"10\" ry=\"10\" style=\"stroke: #383838; stroke-width: 1.5;\" width=\"71\" x=\"32.5\" y=\"217.5\"/><text fill=\"#000000\" font-family=\"sans-serif\" font-size=\"12\" font-style=\"italic\" lengthAdjust=\"spacingAndGlyphs\" textLength=\"69\" x=\"33.5\" y=\"233.6387\">«attribute»</text><text fill=\"#000000\" font-family=\"sans-serif\" font-size=\"12\" lengthAdjust=\"spacingAndGlyphs\" textLength=\"6\" x=\"63\" y=\"247.6074\">x</text><line style=\"stroke: #383838; stroke-width: 1.5;\" x1=\"33.5\" x2=\"102.5\" y1=\"255.4375\" y2=\"255.4375\"/></a><!--MD5=[2156ba9850f5573cc1fc38a6a4b2f02b]\n",
       "class E7--><a href=\"psysml:07b9e1bd-21f7-4218-b4f9-b36b2d1ccf74\" target=\"_top\" title=\"psysml:07b9e1bd-21f7-4218-b4f9-b36b2d1ccf74\" xlink:actuate=\"onRequest\" xlink:href=\"psysml:07b9e1bd-21f7-4218-b4f9-b36b2d1ccf74\" xlink:show=\"new\" xlink:title=\"psysml:07b9e1bd-21f7-4218-b4f9-b36b2d1ccf74\" xlink:type=\"simple\"><rect fill=\"#FFFFFF\" height=\"45.9375\" id=\"E7\" rx=\"10\" ry=\"10\" style=\"stroke: #383838; stroke-width: 1.5;\" width=\"71\" x=\"138.5\" y=\"217.5\"/><text fill=\"#000000\" font-family=\"sans-serif\" font-size=\"12\" font-style=\"italic\" lengthAdjust=\"spacingAndGlyphs\" textLength=\"69\" x=\"139.5\" y=\"233.6387\">«attribute»</text><text fill=\"#000000\" font-family=\"sans-serif\" font-size=\"12\" lengthAdjust=\"spacingAndGlyphs\" textLength=\"6\" x=\"169\" y=\"247.6074\">y</text><line style=\"stroke: #383838; stroke-width: 1.5;\" x1=\"139.5\" x2=\"208.5\" y1=\"255.4375\" y2=\"255.4375\"/></a><!--MD5=[b9389687b975829384b498ac4b7476b2]\n",
       "class E8--><a href=\"psysml:44529a0f-a1ad-4493-b824-b4a46bdd708e\" target=\"_top\" title=\"psysml:44529a0f-a1ad-4493-b824-b4a46bdd708e\" xlink:actuate=\"onRequest\" xlink:href=\"psysml:44529a0f-a1ad-4493-b824-b4a46bdd708e\" xlink:show=\"new\" xlink:title=\"psysml:44529a0f-a1ad-4493-b824-b4a46bdd708e\" xlink:type=\"simple\"><rect fill=\"#FFFFFF\" height=\"45.9375\" id=\"E8\" rx=\"10\" ry=\"10\" style=\"stroke: #383838; stroke-width: 1.5;\" width=\"71\" x=\"84.5\" y=\"87.5\"/><text fill=\"#000000\" font-family=\"sans-serif\" font-size=\"12\" font-style=\"italic\" lengthAdjust=\"spacingAndGlyphs\" textLength=\"69\" x=\"85.5\" y=\"103.6387\">«attribute»</text><text fill=\"#000000\" font-family=\"sans-serif\" font-size=\"12\" lengthAdjust=\"spacingAndGlyphs\" textLength=\"5\" x=\"115.5\" y=\"117.6074\">z</text><line style=\"stroke: #383838; stroke-width: 1.5;\" x1=\"85.5\" x2=\"154.5\" y1=\"125.4375\" y2=\"125.4375\"/></a><a href=\"psysml:511969d3-37b8-4975-ad7d-d9be97a14b44\" target=\"_top\" title=\"psysml:511969d3-37b8-4975-ad7d-d9be97a14b44\" xlink:actuate=\"onRequest\" xlink:href=\"psysml:511969d3-37b8-4975-ad7d-d9be97a14b44\" xlink:show=\"new\" xlink:title=\"psysml:511969d3-37b8-4975-ad7d-d9be97a14b44\" xlink:type=\"simple\"><polygon fill=\"#FFFFFF\" points=\"271.5,84,392.5,84,399.5,106.2969,406.5,106.2969,406.5,136.5938,271.5,136.5938,271.5,84\" style=\"stroke: #000000; stroke-width: 1.5;\"/><line style=\"stroke: #000000; stroke-width: 1.5;\" x1=\"271.5\" x2=\"399.5\" y1=\"106.2969\" y2=\"106.2969\"/><text fill=\"#000000\" font-family=\"sans-serif\" font-size=\"14\" font-weight=\"bold\" lengthAdjust=\"spacingAndGlyphs\" textLength=\"115\" x=\"275.5\" y=\"98.9951\">Application Layer</text></a><a href=\"psysml:3811cf97-7daf-4e30-b445-d9788e80eae2\" target=\"_top\" title=\"psysml:3811cf97-7daf-4e30-b445-d9788e80eae2\" xlink:actuate=\"onRequest\" xlink:href=\"psysml:3811cf97-7daf-4e30-b445-d9788e80eae2\" xlink:show=\"new\" xlink:title=\"psysml:3811cf97-7daf-4e30-b445-d9788e80eae2\" xlink:type=\"simple\"><polygon fill=\"#FFFFFF\" points=\"284,214,380,214,387,236.2969,394,236.2969,394,266.5938,284,266.5938,284,214\" style=\"stroke: #000000; stroke-width: 1.5;\"/><line style=\"stroke: #000000; stroke-width: 1.5;\" x1=\"284\" x2=\"387\" y1=\"236.2969\" y2=\"236.2969\"/><text fill=\"#000000\" font-family=\"sans-serif\" font-size=\"14\" font-weight=\"bold\" lengthAdjust=\"spacingAndGlyphs\" textLength=\"90\" x=\"288\" y=\"228.9951\">Service Layer</text></a><a href=\"psysml:2c8fb347-f198-4aa6-806c-1c573edf927e\" target=\"_top\" title=\"psysml:2c8fb347-f198-4aa6-806c-1c573edf927e\" xlink:actuate=\"onRequest\" xlink:href=\"psysml:2c8fb347-f198-4aa6-806c-1c573edf927e\" xlink:show=\"new\" xlink:title=\"psysml:2c8fb347-f198-4aa6-806c-1c573edf927e\" xlink:type=\"simple\"><polygon fill=\"#FFFFFF\" points=\"293,344,371,344,378,366.2969,385,366.2969,385,396.5938,293,396.5938,293,344\" style=\"stroke: #000000; stroke-width: 1.5;\"/><line style=\"stroke: #000000; stroke-width: 1.5;\" x1=\"293\" x2=\"378\" y1=\"366.2969\" y2=\"366.2969\"/><text fill=\"#000000\" font-family=\"sans-serif\" font-size=\"14\" font-weight=\"bold\" lengthAdjust=\"spacingAndGlyphs\" textLength=\"72\" x=\"297\" y=\"358.9951\">Data Layer</text></a><!--MD5=[af87c684e3b0d8be13c1a698a818ef1e]\n",
       "link E3 to E4--><a href=\"psysml:973be101-d69f-4acb-a430-79bda88f318e\" target=\"_top\" title=\"psysml:973be101-d69f-4acb-a430-79bda88f318e\" xlink:actuate=\"onRequest\" xlink:href=\"psysml:973be101-d69f-4acb-a430-79bda88f318e\" xlink:show=\"new\" xlink:title=\"psysml:973be101-d69f-4acb-a430-79bda88f318e\" xlink:type=\"simple\"><path d=\"M339,137.1 C339,156.8 339,184.22 339,205.73 \" fill=\"none\" id=\"E3-&gt;E4\" style=\"stroke: #383838; stroke-width: 1.0; stroke-dasharray: 7.0,7.0;\"/><polygon fill=\"#383838\" points=\"339,213.95,342,205.95,336,205.95,339,213.95\" style=\"stroke: #383838; stroke-width: 1.0;\"/><text fill=\"#000000\" font-family=\"sans-serif\" font-size=\"13\" lengthAdjust=\"spacingAndGlyphs\" textLength=\"64\" x=\"340\" y=\"180.0669\">«depend»</text></a><!--MD5=[1b7591eae5389033d8d09a9d6721a717]\n",
       "link E4 to E5--><a href=\"psysml:418c7eed-60a4-47b0-a927-ef037a202312\" target=\"_top\" title=\"psysml:418c7eed-60a4-47b0-a927-ef037a202312\" xlink:actuate=\"onRequest\" xlink:href=\"psysml:418c7eed-60a4-47b0-a927-ef037a202312\" xlink:show=\"new\" xlink:title=\"psysml:418c7eed-60a4-47b0-a927-ef037a202312\" xlink:type=\"simple\"><path d=\"M339,267.1 C339,286.8 339,314.22 339,335.73 \" fill=\"none\" id=\"E4-&gt;E5\" style=\"stroke: #383838; stroke-width: 1.0; stroke-dasharray: 7.0,7.0;\"/><polygon fill=\"#383838\" points=\"339,343.95,342,335.95,336,335.95,339,343.95\" style=\"stroke: #383838; stroke-width: 1.0;\"/><text fill=\"#000000\" font-family=\"sans-serif\" font-size=\"13\" lengthAdjust=\"spacingAndGlyphs\" textLength=\"64\" x=\"340\" y=\"310.0669\">«depend»</text></a><!--MD5=[c5e8897d989ce984f93528998a7150fe]\n",
       "link E8 to E6--><a href=\"psysml:27e0873a-b752-4942-bd7f-ca0670289346\" target=\"_top\" title=\"psysml:27e0873a-b752-4942-bd7f-ca0670289346\" xlink:actuate=\"onRequest\" xlink:href=\"psysml:27e0873a-b752-4942-bd7f-ca0670289346\" xlink:show=\"new\" xlink:title=\"psysml:27e0873a-b752-4942-bd7f-ca0670289346\" xlink:type=\"simple\"><path d=\"M89.42,133.6 C79.35,142.68 69.37,154.11 64,167 C58.5,180.2 58.66,195.94 60.54,209.38 \" fill=\"none\" id=\"E8-&gt;E6\" style=\"stroke: #383838; stroke-width: 1.0; stroke-dasharray: 7.0,7.0;\"/><polygon fill=\"#383838\" points=\"61.9,217.4,63.517,209.0104,57.6018,210.0159,61.9,217.4\" style=\"stroke: #383838; stroke-width: 1.0;\"/><text fill=\"#000000\" font-family=\"sans-serif\" font-size=\"13\" lengthAdjust=\"spacingAndGlyphs\" textLength=\"64\" x=\"65\" y=\"180.0669\">«depend»</text></a><!--MD5=[bfa3c8b0d15052fdf50ae9310b491027]\n",
       "link E8 to E7--><a href=\"psysml:27e0873a-b752-4942-bd7f-ca0670289346\" target=\"_top\" title=\"psysml:27e0873a-b752-4942-bd7f-ca0670289346\" xlink:actuate=\"onRequest\" xlink:href=\"psysml:27e0873a-b752-4942-bd7f-ca0670289346\" xlink:show=\"new\" xlink:title=\"psysml:27e0873a-b752-4942-bd7f-ca0670289346\" xlink:type=\"simple\"><path d=\"M129.28,133.5 C138.17,154.57 151.64,186.5 161.47,209.81 \" fill=\"none\" id=\"E8-&gt;E7\" style=\"stroke: #383838; stroke-width: 1.0; stroke-dasharray: 7.0,7.0;\"/><polygon fill=\"#383838\" points=\"164.66,217.35,164.3241,208.8126,158.7933,211.1385,164.66,217.35\" style=\"stroke: #383838; stroke-width: 1.0;\"/><text fill=\"#000000\" font-family=\"sans-serif\" font-size=\"13\" lengthAdjust=\"spacingAndGlyphs\" textLength=\"64\" x=\"151\" y=\"180.0669\">«depend»</text></a><!--MD5=[a4fe37ed0ad9d7120b36cc417f914154]\n",
       "@startuml\r\n",
       "skinparam monochrome true\r\n",
       "skinparam classbackgroundcolor white\r\n",
       "skinparam shadowing false\r\n",
       "skinparam wrapWidth 300\r\n",
       "hide circle\r\n",
       "\r\n",
       "package \"DependencyTest\" as E1  [[psysml:30d47011-2b84-418c-8f66-5b5fafd7ed2a ]]  {\r\n",
       "package \"System\" as E2  [[psysml:5fbdfa4d-cafa-4f51-92a0-0bd6c2ea6fbb ]]  {\r\n",
       "package \"Application Layer\" as E3  [[psysml:511969d3-37b8-4975-ad7d-d9be97a14b44 ]]  {\r\n",
       "}\r\n",
       "package \"Service Layer\" as E4  [[psysml:3811cf97-7daf-4e30-b445-d9788e80eae2 ]]  {\r\n",
       "}\r\n",
       "package \"Data Layer\" as E5  [[psysml:2c8fb347-f198-4aa6-806c-1c573edf927e ]]  {\r\n",
       "}\r\n",
       "}\r\n",
       "comp usage \"x \" as E6  <<(T,blue) attribute>> [[psysml:3d7e11a6-324b-4ff0-8a6c-08a58aad852d ]] {\r\n",
       "}\r\n",
       "comp usage \"y \" as E7  <<(T,blue) attribute>> [[psysml:07b9e1bd-21f7-4218-b4f9-b36b2d1ccf74 ]] {\r\n",
       "}\r\n",
       "comp usage \"z \" as E8  <<(T,blue) attribute>> [[psysml:44529a0f-a1ad-4493-b824-b4a46bdd708e ]] {\r\n",
       "}\r\n",
       "}\r\n",
       "E3 ..>> E4 [[psysml:973be101-d69f-4acb-a430-79bda88f318e ]] : <<depend>>\r\n",
       "E4 ..>> E5 [[psysml:418c7eed-60a4-47b0-a927-ef037a202312 ]] : <<depend>>\r\n",
       "E8 ..>> E6 [[psysml:27e0873a-b752-4942-bd7f-ca0670289346 ]] : <<depend>>\r\n",
       "E8 ..>> E7 [[psysml:27e0873a-b752-4942-bd7f-ca0670289346 ]] : <<depend>>\r\n",
       "@enduml\r\n",
       "\n",
       "PlantUML version 1.2020.13(Sat Jun 13 12:26:38 UTC 2020)\n",
       "(EPL source distribution)\n",
       "Java Runtime: OpenJDK Runtime Environment\n",
       "JVM: OpenJDK 64-Bit Server VM\n",
       "Default Encoding: UTF-8\n",
       "Language: en\n",
       "Country: null\n",
       "--></g></svg>"
      ]
     },
     "execution_count": 43,
     "metadata": {},
     "output_type": "execute_result"
    }
   ],
   "source": [
    "%viz --style=\"DEFAULT\" --view=\"MIXED\" \"DependencyTest\""
   ]
  },
  {
   "cell_type": "code",
   "execution_count": 44,
   "id": "49a95f6b",
   "metadata": {
    "execution": {
     "iopub.execute_input": "2022-02-05T16:52:52.218677Z",
     "iopub.status.busy": "2022-02-05T16:52:52.218272Z",
     "iopub.status.idle": "2022-02-05T16:52:52.242122Z",
     "shell.execute_reply": "2022-02-05T16:52:52.240754Z"
    }
   },
   "outputs": [
    {
     "data": {
      "image/svg+xml": [
       "<?xml version=\"1.0\" encoding=\"UTF-8\" standalone=\"no\"?><svg xmlns=\"http://www.w3.org/2000/svg\" xmlns:xlink=\"http://www.w3.org/1999/xlink\" contentScriptType=\"application/ecmascript\" contentStyleType=\"text/css\" height=\"449px\" preserveAspectRatio=\"none\" style=\"width:469px;height:449px;\" version=\"1.1\" viewBox=\"0 0 469 449\" width=\"469px\" zoomAndPan=\"magnify\"><defs/><g><!--MD5=[fbc87193dbaf4d95561dea2c320d4a47]\n",
       "cluster E1--><a href=\"psysml:30d47011-2b84-418c-8f66-5b5fafd7ed2a\" target=\"_top\" title=\"psysml:30d47011-2b84-418c-8f66-5b5fafd7ed2a\" xlink:actuate=\"onRequest\" xlink:href=\"psysml:30d47011-2b84-418c-8f66-5b5fafd7ed2a\" xlink:show=\"new\" xlink:title=\"psysml:30d47011-2b84-418c-8f66-5b5fafd7ed2a\" xlink:type=\"simple\"><polygon fill=\"#FFFFFF\" points=\"16,6,142,6,149,28.2969,447,28.2969,447,437,16,437,16,6\" style=\"stroke: #000000; stroke-width: 1.5;\"/><line style=\"stroke: #000000; stroke-width: 1.5;\" x1=\"16\" x2=\"149\" y1=\"28.2969\" y2=\"28.2969\"/><text fill=\"#000000\" font-family=\"sans-serif\" font-size=\"14\" font-weight=\"bold\" lengthAdjust=\"spacingAndGlyphs\" textLength=\"120\" x=\"20\" y=\"20.9951\">DependencyTest</text></a><!--MD5=[e4f7fae6ed58524ba242bb0b0d3be6b7]\n",
       "cluster E2--><a href=\"psysml:5fbdfa4d-cafa-4f51-92a0-0bd6c2ea6fbb\" target=\"_top\" title=\"psysml:5fbdfa4d-cafa-4f51-92a0-0bd6c2ea6fbb\" xlink:actuate=\"onRequest\" xlink:href=\"psysml:5fbdfa4d-cafa-4f51-92a0-0bd6c2ea6fbb\" xlink:show=\"new\" xlink:title=\"psysml:5fbdfa4d-cafa-4f51-92a0-0bd6c2ea6fbb\" xlink:type=\"simple\"><polygon fill=\"#FFFFFF\" points=\"255,49,312,49,319,71.2969,423,71.2969,423,413,255,413,255,49\" style=\"stroke: #000000; stroke-width: 1.5;\"/><line style=\"stroke: #000000; stroke-width: 1.5;\" x1=\"255\" x2=\"319\" y1=\"71.2969\" y2=\"71.2969\"/><text fill=\"#000000\" font-family=\"sans-serif\" font-size=\"14\" font-weight=\"bold\" lengthAdjust=\"spacingAndGlyphs\" textLength=\"51\" x=\"259\" y=\"63.9951\">System</text></a><!--MD5=[60a26617385b1d2d0262a64233df1f8d]\n",
       "class E6--><a href=\"psysml:3d7e11a6-324b-4ff0-8a6c-08a58aad852d\" target=\"_top\" title=\"psysml:3d7e11a6-324b-4ff0-8a6c-08a58aad852d\" xlink:actuate=\"onRequest\" xlink:href=\"psysml:3d7e11a6-324b-4ff0-8a6c-08a58aad852d\" xlink:show=\"new\" xlink:title=\"psysml:3d7e11a6-324b-4ff0-8a6c-08a58aad852d\" xlink:type=\"simple\"><rect fill=\"#FFFFFF\" height=\"45.9375\" id=\"E6\" rx=\"10\" ry=\"10\" style=\"stroke: #383838; stroke-width: 1.5;\" width=\"71\" x=\"32.5\" y=\"217.5\"/><text fill=\"#000000\" font-family=\"sans-serif\" font-size=\"12\" font-style=\"italic\" lengthAdjust=\"spacingAndGlyphs\" textLength=\"69\" x=\"33.5\" y=\"233.6387\">«attribute»</text><text fill=\"#000000\" font-family=\"sans-serif\" font-size=\"12\" lengthAdjust=\"spacingAndGlyphs\" textLength=\"6\" x=\"63\" y=\"247.6074\">x</text><line style=\"stroke: #383838; stroke-width: 1.5;\" x1=\"33.5\" x2=\"102.5\" y1=\"255.4375\" y2=\"255.4375\"/></a><!--MD5=[2156ba9850f5573cc1fc38a6a4b2f02b]\n",
       "class E7--><a href=\"psysml:07b9e1bd-21f7-4218-b4f9-b36b2d1ccf74\" target=\"_top\" title=\"psysml:07b9e1bd-21f7-4218-b4f9-b36b2d1ccf74\" xlink:actuate=\"onRequest\" xlink:href=\"psysml:07b9e1bd-21f7-4218-b4f9-b36b2d1ccf74\" xlink:show=\"new\" xlink:title=\"psysml:07b9e1bd-21f7-4218-b4f9-b36b2d1ccf74\" xlink:type=\"simple\"><rect fill=\"#FFFFFF\" height=\"45.9375\" id=\"E7\" rx=\"10\" ry=\"10\" style=\"stroke: #383838; stroke-width: 1.5;\" width=\"71\" x=\"138.5\" y=\"217.5\"/><text fill=\"#000000\" font-family=\"sans-serif\" font-size=\"12\" font-style=\"italic\" lengthAdjust=\"spacingAndGlyphs\" textLength=\"69\" x=\"139.5\" y=\"233.6387\">«attribute»</text><text fill=\"#000000\" font-family=\"sans-serif\" font-size=\"12\" lengthAdjust=\"spacingAndGlyphs\" textLength=\"6\" x=\"169\" y=\"247.6074\">y</text><line style=\"stroke: #383838; stroke-width: 1.5;\" x1=\"139.5\" x2=\"208.5\" y1=\"255.4375\" y2=\"255.4375\"/></a><!--MD5=[b9389687b975829384b498ac4b7476b2]\n",
       "class E8--><a href=\"psysml:44529a0f-a1ad-4493-b824-b4a46bdd708e\" target=\"_top\" title=\"psysml:44529a0f-a1ad-4493-b824-b4a46bdd708e\" xlink:actuate=\"onRequest\" xlink:href=\"psysml:44529a0f-a1ad-4493-b824-b4a46bdd708e\" xlink:show=\"new\" xlink:title=\"psysml:44529a0f-a1ad-4493-b824-b4a46bdd708e\" xlink:type=\"simple\"><rect fill=\"#FFFFFF\" height=\"45.9375\" id=\"E8\" rx=\"10\" ry=\"10\" style=\"stroke: #383838; stroke-width: 1.5;\" width=\"71\" x=\"84.5\" y=\"87.5\"/><text fill=\"#000000\" font-family=\"sans-serif\" font-size=\"12\" font-style=\"italic\" lengthAdjust=\"spacingAndGlyphs\" textLength=\"69\" x=\"85.5\" y=\"103.6387\">«attribute»</text><text fill=\"#000000\" font-family=\"sans-serif\" font-size=\"12\" lengthAdjust=\"spacingAndGlyphs\" textLength=\"5\" x=\"115.5\" y=\"117.6074\">z</text><line style=\"stroke: #383838; stroke-width: 1.5;\" x1=\"85.5\" x2=\"154.5\" y1=\"125.4375\" y2=\"125.4375\"/></a><a href=\"psysml:511969d3-37b8-4975-ad7d-d9be97a14b44\" target=\"_top\" title=\"psysml:511969d3-37b8-4975-ad7d-d9be97a14b44\" xlink:actuate=\"onRequest\" xlink:href=\"psysml:511969d3-37b8-4975-ad7d-d9be97a14b44\" xlink:show=\"new\" xlink:title=\"psysml:511969d3-37b8-4975-ad7d-d9be97a14b44\" xlink:type=\"simple\"><polygon fill=\"#FFFFFF\" points=\"271.5,84,392.5,84,399.5,106.2969,406.5,106.2969,406.5,136.5938,271.5,136.5938,271.5,84\" style=\"stroke: #000000; stroke-width: 1.5;\"/><line style=\"stroke: #000000; stroke-width: 1.5;\" x1=\"271.5\" x2=\"399.5\" y1=\"106.2969\" y2=\"106.2969\"/><text fill=\"#000000\" font-family=\"sans-serif\" font-size=\"14\" font-weight=\"bold\" lengthAdjust=\"spacingAndGlyphs\" textLength=\"115\" x=\"275.5\" y=\"98.9951\">Application Layer</text></a><a href=\"psysml:3811cf97-7daf-4e30-b445-d9788e80eae2\" target=\"_top\" title=\"psysml:3811cf97-7daf-4e30-b445-d9788e80eae2\" xlink:actuate=\"onRequest\" xlink:href=\"psysml:3811cf97-7daf-4e30-b445-d9788e80eae2\" xlink:show=\"new\" xlink:title=\"psysml:3811cf97-7daf-4e30-b445-d9788e80eae2\" xlink:type=\"simple\"><polygon fill=\"#FFFFFF\" points=\"284,214,380,214,387,236.2969,394,236.2969,394,266.5938,284,266.5938,284,214\" style=\"stroke: #000000; stroke-width: 1.5;\"/><line style=\"stroke: #000000; stroke-width: 1.5;\" x1=\"284\" x2=\"387\" y1=\"236.2969\" y2=\"236.2969\"/><text fill=\"#000000\" font-family=\"sans-serif\" font-size=\"14\" font-weight=\"bold\" lengthAdjust=\"spacingAndGlyphs\" textLength=\"90\" x=\"288\" y=\"228.9951\">Service Layer</text></a><a href=\"psysml:2c8fb347-f198-4aa6-806c-1c573edf927e\" target=\"_top\" title=\"psysml:2c8fb347-f198-4aa6-806c-1c573edf927e\" xlink:actuate=\"onRequest\" xlink:href=\"psysml:2c8fb347-f198-4aa6-806c-1c573edf927e\" xlink:show=\"new\" xlink:title=\"psysml:2c8fb347-f198-4aa6-806c-1c573edf927e\" xlink:type=\"simple\"><polygon fill=\"#FFFFFF\" points=\"293,344,371,344,378,366.2969,385,366.2969,385,396.5938,293,396.5938,293,344\" style=\"stroke: #000000; stroke-width: 1.5;\"/><line style=\"stroke: #000000; stroke-width: 1.5;\" x1=\"293\" x2=\"378\" y1=\"366.2969\" y2=\"366.2969\"/><text fill=\"#000000\" font-family=\"sans-serif\" font-size=\"14\" font-weight=\"bold\" lengthAdjust=\"spacingAndGlyphs\" textLength=\"72\" x=\"297\" y=\"358.9951\">Data Layer</text></a><!--MD5=[af87c684e3b0d8be13c1a698a818ef1e]\n",
       "link E3 to E4--><a href=\"psysml:973be101-d69f-4acb-a430-79bda88f318e\" target=\"_top\" title=\"psysml:973be101-d69f-4acb-a430-79bda88f318e\" xlink:actuate=\"onRequest\" xlink:href=\"psysml:973be101-d69f-4acb-a430-79bda88f318e\" xlink:show=\"new\" xlink:title=\"psysml:973be101-d69f-4acb-a430-79bda88f318e\" xlink:type=\"simple\"><path d=\"M339,137.1 C339,156.8 339,184.22 339,205.73 \" fill=\"none\" id=\"E3-&gt;E4\" style=\"stroke: #383838; stroke-width: 1.0; stroke-dasharray: 7.0,7.0;\"/><polygon fill=\"#383838\" points=\"339,213.95,342,205.95,336,205.95,339,213.95\" style=\"stroke: #383838; stroke-width: 1.0;\"/><text fill=\"#000000\" font-family=\"sans-serif\" font-size=\"13\" lengthAdjust=\"spacingAndGlyphs\" textLength=\"64\" x=\"340\" y=\"180.0669\">«depend»</text></a><!--MD5=[1b7591eae5389033d8d09a9d6721a717]\n",
       "link E4 to E5--><a href=\"psysml:418c7eed-60a4-47b0-a927-ef037a202312\" target=\"_top\" title=\"psysml:418c7eed-60a4-47b0-a927-ef037a202312\" xlink:actuate=\"onRequest\" xlink:href=\"psysml:418c7eed-60a4-47b0-a927-ef037a202312\" xlink:show=\"new\" xlink:title=\"psysml:418c7eed-60a4-47b0-a927-ef037a202312\" xlink:type=\"simple\"><path d=\"M339,267.1 C339,286.8 339,314.22 339,335.73 \" fill=\"none\" id=\"E4-&gt;E5\" style=\"stroke: #383838; stroke-width: 1.0; stroke-dasharray: 7.0,7.0;\"/><polygon fill=\"#383838\" points=\"339,343.95,342,335.95,336,335.95,339,343.95\" style=\"stroke: #383838; stroke-width: 1.0;\"/><text fill=\"#000000\" font-family=\"sans-serif\" font-size=\"13\" lengthAdjust=\"spacingAndGlyphs\" textLength=\"64\" x=\"340\" y=\"310.0669\">«depend»</text></a><!--MD5=[c5e8897d989ce984f93528998a7150fe]\n",
       "link E8 to E6--><a href=\"psysml:27e0873a-b752-4942-bd7f-ca0670289346\" target=\"_top\" title=\"psysml:27e0873a-b752-4942-bd7f-ca0670289346\" xlink:actuate=\"onRequest\" xlink:href=\"psysml:27e0873a-b752-4942-bd7f-ca0670289346\" xlink:show=\"new\" xlink:title=\"psysml:27e0873a-b752-4942-bd7f-ca0670289346\" xlink:type=\"simple\"><path d=\"M89.42,133.6 C79.35,142.68 69.37,154.11 64,167 C58.5,180.2 58.66,195.94 60.54,209.38 \" fill=\"none\" id=\"E8-&gt;E6\" style=\"stroke: #383838; stroke-width: 1.0; stroke-dasharray: 7.0,7.0;\"/><polygon fill=\"#383838\" points=\"61.9,217.4,63.517,209.0104,57.6018,210.0159,61.9,217.4\" style=\"stroke: #383838; stroke-width: 1.0;\"/><text fill=\"#000000\" font-family=\"sans-serif\" font-size=\"13\" lengthAdjust=\"spacingAndGlyphs\" textLength=\"64\" x=\"65\" y=\"180.0669\">«depend»</text></a><!--MD5=[bfa3c8b0d15052fdf50ae9310b491027]\n",
       "link E8 to E7--><a href=\"psysml:27e0873a-b752-4942-bd7f-ca0670289346\" target=\"_top\" title=\"psysml:27e0873a-b752-4942-bd7f-ca0670289346\" xlink:actuate=\"onRequest\" xlink:href=\"psysml:27e0873a-b752-4942-bd7f-ca0670289346\" xlink:show=\"new\" xlink:title=\"psysml:27e0873a-b752-4942-bd7f-ca0670289346\" xlink:type=\"simple\"><path d=\"M129.28,133.5 C138.17,154.57 151.64,186.5 161.47,209.81 \" fill=\"none\" id=\"E8-&gt;E7\" style=\"stroke: #383838; stroke-width: 1.0; stroke-dasharray: 7.0,7.0;\"/><polygon fill=\"#383838\" points=\"164.66,217.35,164.3241,208.8126,158.7933,211.1385,164.66,217.35\" style=\"stroke: #383838; stroke-width: 1.0;\"/><text fill=\"#000000\" font-family=\"sans-serif\" font-size=\"13\" lengthAdjust=\"spacingAndGlyphs\" textLength=\"64\" x=\"151\" y=\"180.0669\">«depend»</text></a><!--MD5=[63811daf1999c8b3c50f76b11274c894]\n",
       "@startuml\r\n",
       "top to bottom direction\r\n",
       "skinparam monochrome true\r\n",
       "skinparam classbackgroundcolor white\r\n",
       "skinparam shadowing false\r\n",
       "skinparam wrapWidth 300\r\n",
       "hide circle\r\n",
       "\r\n",
       "package \"DependencyTest\" as E1  [[psysml:30d47011-2b84-418c-8f66-5b5fafd7ed2a ]]  {\r\n",
       "package \"System\" as E2  [[psysml:5fbdfa4d-cafa-4f51-92a0-0bd6c2ea6fbb ]]  {\r\n",
       "package \"Application Layer\" as E3  [[psysml:511969d3-37b8-4975-ad7d-d9be97a14b44 ]]  {\r\n",
       "}\r\n",
       "package \"Service Layer\" as E4  [[psysml:3811cf97-7daf-4e30-b445-d9788e80eae2 ]]  {\r\n",
       "}\r\n",
       "package \"Data Layer\" as E5  [[psysml:2c8fb347-f198-4aa6-806c-1c573edf927e ]]  {\r\n",
       "}\r\n",
       "}\r\n",
       "comp usage \"x \" as E6  <<(T,blue) attribute>> [[psysml:3d7e11a6-324b-4ff0-8a6c-08a58aad852d ]] {\r\n",
       "}\r\n",
       "comp usage \"y \" as E7  <<(T,blue) attribute>> [[psysml:07b9e1bd-21f7-4218-b4f9-b36b2d1ccf74 ]] {\r\n",
       "}\r\n",
       "comp usage \"z \" as E8  <<(T,blue) attribute>> [[psysml:44529a0f-a1ad-4493-b824-b4a46bdd708e ]] {\r\n",
       "}\r\n",
       "}\r\n",
       "E3 ..>> E4 [[psysml:973be101-d69f-4acb-a430-79bda88f318e ]] : <<depend>>\r\n",
       "E4 ..>> E5 [[psysml:418c7eed-60a4-47b0-a927-ef037a202312 ]] : <<depend>>\r\n",
       "E8 ..>> E6 [[psysml:27e0873a-b752-4942-bd7f-ca0670289346 ]] : <<depend>>\r\n",
       "E8 ..>> E7 [[psysml:27e0873a-b752-4942-bd7f-ca0670289346 ]] : <<depend>>\r\n",
       "@enduml\r\n",
       "\n",
       "PlantUML version 1.2020.13(Sat Jun 13 12:26:38 UTC 2020)\n",
       "(EPL source distribution)\n",
       "Java Runtime: OpenJDK Runtime Environment\n",
       "JVM: OpenJDK 64-Bit Server VM\n",
       "Default Encoding: UTF-8\n",
       "Language: en\n",
       "Country: null\n",
       "--></g></svg>"
      ]
     },
     "execution_count": 44,
     "metadata": {},
     "output_type": "execute_result"
    }
   ],
   "source": [
    "%viz --style=\"TB\" --view=\"Default\" \"DependencyTest\""
   ]
  },
  {
   "cell_type": "code",
   "execution_count": 45,
   "id": "cddfab37",
   "metadata": {
    "execution": {
     "iopub.execute_input": "2022-02-05T16:52:52.291340Z",
     "iopub.status.busy": "2022-02-05T16:52:52.290928Z",
     "iopub.status.idle": "2022-02-05T16:52:52.321137Z",
     "shell.execute_reply": "2022-02-05T16:52:52.320782Z"
    }
   },
   "outputs": [
    {
     "data": {
      "image/svg+xml": [
       "<?xml version=\"1.0\" encoding=\"UTF-8\" standalone=\"no\"?><svg xmlns=\"http://www.w3.org/2000/svg\" xmlns:xlink=\"http://www.w3.org/1999/xlink\" contentScriptType=\"application/ecmascript\" contentStyleType=\"text/css\" height=\"449px\" preserveAspectRatio=\"none\" style=\"width:469px;height:449px;\" version=\"1.1\" viewBox=\"0 0 469 449\" width=\"469px\" zoomAndPan=\"magnify\"><defs/><g><!--MD5=[fbc87193dbaf4d95561dea2c320d4a47]\n",
       "cluster E1--><a href=\"psysml:30d47011-2b84-418c-8f66-5b5fafd7ed2a\" target=\"_top\" title=\"psysml:30d47011-2b84-418c-8f66-5b5fafd7ed2a\" xlink:actuate=\"onRequest\" xlink:href=\"psysml:30d47011-2b84-418c-8f66-5b5fafd7ed2a\" xlink:show=\"new\" xlink:title=\"psysml:30d47011-2b84-418c-8f66-5b5fafd7ed2a\" xlink:type=\"simple\"><polygon fill=\"#FFFFFF\" points=\"16,6,142,6,149,28.2969,447,28.2969,447,437,16,437,16,6\" style=\"stroke: #000000; stroke-width: 1.5;\"/><line style=\"stroke: #000000; stroke-width: 1.5;\" x1=\"16\" x2=\"149\" y1=\"28.2969\" y2=\"28.2969\"/><text fill=\"#000000\" font-family=\"sans-serif\" font-size=\"14\" font-weight=\"bold\" lengthAdjust=\"spacingAndGlyphs\" textLength=\"120\" x=\"20\" y=\"20.9951\">DependencyTest</text></a><!--MD5=[e4f7fae6ed58524ba242bb0b0d3be6b7]\n",
       "cluster E2--><a href=\"psysml:5fbdfa4d-cafa-4f51-92a0-0bd6c2ea6fbb\" target=\"_top\" title=\"psysml:5fbdfa4d-cafa-4f51-92a0-0bd6c2ea6fbb\" xlink:actuate=\"onRequest\" xlink:href=\"psysml:5fbdfa4d-cafa-4f51-92a0-0bd6c2ea6fbb\" xlink:show=\"new\" xlink:title=\"psysml:5fbdfa4d-cafa-4f51-92a0-0bd6c2ea6fbb\" xlink:type=\"simple\"><polygon fill=\"#FFFFFF\" points=\"255,49,312,49,319,71.2969,423,71.2969,423,413,255,413,255,49\" style=\"stroke: #000000; stroke-width: 1.5;\"/><line style=\"stroke: #000000; stroke-width: 1.5;\" x1=\"255\" x2=\"319\" y1=\"71.2969\" y2=\"71.2969\"/><text fill=\"#000000\" font-family=\"sans-serif\" font-size=\"14\" font-weight=\"bold\" lengthAdjust=\"spacingAndGlyphs\" textLength=\"51\" x=\"259\" y=\"63.9951\">System</text></a><!--MD5=[60a26617385b1d2d0262a64233df1f8d]\n",
       "class E6--><a href=\"psysml:3d7e11a6-324b-4ff0-8a6c-08a58aad852d\" target=\"_top\" title=\"psysml:3d7e11a6-324b-4ff0-8a6c-08a58aad852d\" xlink:actuate=\"onRequest\" xlink:href=\"psysml:3d7e11a6-324b-4ff0-8a6c-08a58aad852d\" xlink:show=\"new\" xlink:title=\"psysml:3d7e11a6-324b-4ff0-8a6c-08a58aad852d\" xlink:type=\"simple\"><rect fill=\"#FFFFFF\" height=\"45.9375\" id=\"E6\" rx=\"10\" ry=\"10\" style=\"stroke: #383838; stroke-width: 1.5;\" width=\"71\" x=\"32.5\" y=\"217.5\"/><text fill=\"#000000\" font-family=\"sans-serif\" font-size=\"12\" font-style=\"italic\" lengthAdjust=\"spacingAndGlyphs\" textLength=\"69\" x=\"33.5\" y=\"233.6387\">«attribute»</text><text fill=\"#000000\" font-family=\"sans-serif\" font-size=\"12\" lengthAdjust=\"spacingAndGlyphs\" textLength=\"6\" x=\"63\" y=\"247.6074\">x</text><line style=\"stroke: #383838; stroke-width: 1.5;\" x1=\"33.5\" x2=\"102.5\" y1=\"255.4375\" y2=\"255.4375\"/></a><!--MD5=[2156ba9850f5573cc1fc38a6a4b2f02b]\n",
       "class E7--><a href=\"psysml:07b9e1bd-21f7-4218-b4f9-b36b2d1ccf74\" target=\"_top\" title=\"psysml:07b9e1bd-21f7-4218-b4f9-b36b2d1ccf74\" xlink:actuate=\"onRequest\" xlink:href=\"psysml:07b9e1bd-21f7-4218-b4f9-b36b2d1ccf74\" xlink:show=\"new\" xlink:title=\"psysml:07b9e1bd-21f7-4218-b4f9-b36b2d1ccf74\" xlink:type=\"simple\"><rect fill=\"#FFFFFF\" height=\"45.9375\" id=\"E7\" rx=\"10\" ry=\"10\" style=\"stroke: #383838; stroke-width: 1.5;\" width=\"71\" x=\"138.5\" y=\"217.5\"/><text fill=\"#000000\" font-family=\"sans-serif\" font-size=\"12\" font-style=\"italic\" lengthAdjust=\"spacingAndGlyphs\" textLength=\"69\" x=\"139.5\" y=\"233.6387\">«attribute»</text><text fill=\"#000000\" font-family=\"sans-serif\" font-size=\"12\" lengthAdjust=\"spacingAndGlyphs\" textLength=\"6\" x=\"169\" y=\"247.6074\">y</text><line style=\"stroke: #383838; stroke-width: 1.5;\" x1=\"139.5\" x2=\"208.5\" y1=\"255.4375\" y2=\"255.4375\"/></a><!--MD5=[b9389687b975829384b498ac4b7476b2]\n",
       "class E8--><a href=\"psysml:44529a0f-a1ad-4493-b824-b4a46bdd708e\" target=\"_top\" title=\"psysml:44529a0f-a1ad-4493-b824-b4a46bdd708e\" xlink:actuate=\"onRequest\" xlink:href=\"psysml:44529a0f-a1ad-4493-b824-b4a46bdd708e\" xlink:show=\"new\" xlink:title=\"psysml:44529a0f-a1ad-4493-b824-b4a46bdd708e\" xlink:type=\"simple\"><rect fill=\"#FFFFFF\" height=\"45.9375\" id=\"E8\" rx=\"10\" ry=\"10\" style=\"stroke: #383838; stroke-width: 1.5;\" width=\"71\" x=\"84.5\" y=\"87.5\"/><text fill=\"#000000\" font-family=\"sans-serif\" font-size=\"12\" font-style=\"italic\" lengthAdjust=\"spacingAndGlyphs\" textLength=\"69\" x=\"85.5\" y=\"103.6387\">«attribute»</text><text fill=\"#000000\" font-family=\"sans-serif\" font-size=\"12\" lengthAdjust=\"spacingAndGlyphs\" textLength=\"5\" x=\"115.5\" y=\"117.6074\">z</text><line style=\"stroke: #383838; stroke-width: 1.5;\" x1=\"85.5\" x2=\"154.5\" y1=\"125.4375\" y2=\"125.4375\"/></a><a href=\"psysml:511969d3-37b8-4975-ad7d-d9be97a14b44\" target=\"_top\" title=\"psysml:511969d3-37b8-4975-ad7d-d9be97a14b44\" xlink:actuate=\"onRequest\" xlink:href=\"psysml:511969d3-37b8-4975-ad7d-d9be97a14b44\" xlink:show=\"new\" xlink:title=\"psysml:511969d3-37b8-4975-ad7d-d9be97a14b44\" xlink:type=\"simple\"><polygon fill=\"#FFFFFF\" points=\"271.5,84,392.5,84,399.5,106.2969,406.5,106.2969,406.5,136.5938,271.5,136.5938,271.5,84\" style=\"stroke: #000000; stroke-width: 1.5;\"/><line style=\"stroke: #000000; stroke-width: 1.5;\" x1=\"271.5\" x2=\"399.5\" y1=\"106.2969\" y2=\"106.2969\"/><text fill=\"#000000\" font-family=\"sans-serif\" font-size=\"14\" font-weight=\"bold\" lengthAdjust=\"spacingAndGlyphs\" textLength=\"115\" x=\"275.5\" y=\"98.9951\">Application Layer</text></a><a href=\"psysml:3811cf97-7daf-4e30-b445-d9788e80eae2\" target=\"_top\" title=\"psysml:3811cf97-7daf-4e30-b445-d9788e80eae2\" xlink:actuate=\"onRequest\" xlink:href=\"psysml:3811cf97-7daf-4e30-b445-d9788e80eae2\" xlink:show=\"new\" xlink:title=\"psysml:3811cf97-7daf-4e30-b445-d9788e80eae2\" xlink:type=\"simple\"><polygon fill=\"#FFFFFF\" points=\"284,214,380,214,387,236.2969,394,236.2969,394,266.5938,284,266.5938,284,214\" style=\"stroke: #000000; stroke-width: 1.5;\"/><line style=\"stroke: #000000; stroke-width: 1.5;\" x1=\"284\" x2=\"387\" y1=\"236.2969\" y2=\"236.2969\"/><text fill=\"#000000\" font-family=\"sans-serif\" font-size=\"14\" font-weight=\"bold\" lengthAdjust=\"spacingAndGlyphs\" textLength=\"90\" x=\"288\" y=\"228.9951\">Service Layer</text></a><a href=\"psysml:2c8fb347-f198-4aa6-806c-1c573edf927e\" target=\"_top\" title=\"psysml:2c8fb347-f198-4aa6-806c-1c573edf927e\" xlink:actuate=\"onRequest\" xlink:href=\"psysml:2c8fb347-f198-4aa6-806c-1c573edf927e\" xlink:show=\"new\" xlink:title=\"psysml:2c8fb347-f198-4aa6-806c-1c573edf927e\" xlink:type=\"simple\"><polygon fill=\"#FFFFFF\" points=\"293,344,371,344,378,366.2969,385,366.2969,385,396.5938,293,396.5938,293,344\" style=\"stroke: #000000; stroke-width: 1.5;\"/><line style=\"stroke: #000000; stroke-width: 1.5;\" x1=\"293\" x2=\"378\" y1=\"366.2969\" y2=\"366.2969\"/><text fill=\"#000000\" font-family=\"sans-serif\" font-size=\"14\" font-weight=\"bold\" lengthAdjust=\"spacingAndGlyphs\" textLength=\"72\" x=\"297\" y=\"358.9951\">Data Layer</text></a><!--MD5=[af87c684e3b0d8be13c1a698a818ef1e]\n",
       "link E3 to E4--><a href=\"psysml:973be101-d69f-4acb-a430-79bda88f318e\" target=\"_top\" title=\"psysml:973be101-d69f-4acb-a430-79bda88f318e\" xlink:actuate=\"onRequest\" xlink:href=\"psysml:973be101-d69f-4acb-a430-79bda88f318e\" xlink:show=\"new\" xlink:title=\"psysml:973be101-d69f-4acb-a430-79bda88f318e\" xlink:type=\"simple\"><path d=\"M339,137.1 C339,156.8 339,184.22 339,205.73 \" fill=\"none\" id=\"E3-&gt;E4\" style=\"stroke: #383838; stroke-width: 1.0; stroke-dasharray: 7.0,7.0;\"/><polygon fill=\"#383838\" points=\"339,213.95,342,205.95,336,205.95,339,213.95\" style=\"stroke: #383838; stroke-width: 1.0;\"/><text fill=\"#000000\" font-family=\"sans-serif\" font-size=\"13\" lengthAdjust=\"spacingAndGlyphs\" textLength=\"64\" x=\"340\" y=\"180.0669\">«depend»</text></a><!--MD5=[1b7591eae5389033d8d09a9d6721a717]\n",
       "link E4 to E5--><a href=\"psysml:418c7eed-60a4-47b0-a927-ef037a202312\" target=\"_top\" title=\"psysml:418c7eed-60a4-47b0-a927-ef037a202312\" xlink:actuate=\"onRequest\" xlink:href=\"psysml:418c7eed-60a4-47b0-a927-ef037a202312\" xlink:show=\"new\" xlink:title=\"psysml:418c7eed-60a4-47b0-a927-ef037a202312\" xlink:type=\"simple\"><path d=\"M339,267.1 C339,286.8 339,314.22 339,335.73 \" fill=\"none\" id=\"E4-&gt;E5\" style=\"stroke: #383838; stroke-width: 1.0; stroke-dasharray: 7.0,7.0;\"/><polygon fill=\"#383838\" points=\"339,343.95,342,335.95,336,335.95,339,343.95\" style=\"stroke: #383838; stroke-width: 1.0;\"/><text fill=\"#000000\" font-family=\"sans-serif\" font-size=\"13\" lengthAdjust=\"spacingAndGlyphs\" textLength=\"64\" x=\"340\" y=\"310.0669\">«depend»</text></a><!--MD5=[c5e8897d989ce984f93528998a7150fe]\n",
       "link E8 to E6--><a href=\"psysml:27e0873a-b752-4942-bd7f-ca0670289346\" target=\"_top\" title=\"psysml:27e0873a-b752-4942-bd7f-ca0670289346\" xlink:actuate=\"onRequest\" xlink:href=\"psysml:27e0873a-b752-4942-bd7f-ca0670289346\" xlink:show=\"new\" xlink:title=\"psysml:27e0873a-b752-4942-bd7f-ca0670289346\" xlink:type=\"simple\"><path d=\"M89.42,133.6 C79.35,142.68 69.37,154.11 64,167 C58.5,180.2 58.66,195.94 60.54,209.38 \" fill=\"none\" id=\"E8-&gt;E6\" style=\"stroke: #383838; stroke-width: 1.0; stroke-dasharray: 7.0,7.0;\"/><polygon fill=\"#383838\" points=\"61.9,217.4,63.517,209.0104,57.6018,210.0159,61.9,217.4\" style=\"stroke: #383838; stroke-width: 1.0;\"/><text fill=\"#000000\" font-family=\"sans-serif\" font-size=\"13\" lengthAdjust=\"spacingAndGlyphs\" textLength=\"64\" x=\"65\" y=\"180.0669\">«depend»</text></a><!--MD5=[bfa3c8b0d15052fdf50ae9310b491027]\n",
       "link E8 to E7--><a href=\"psysml:27e0873a-b752-4942-bd7f-ca0670289346\" target=\"_top\" title=\"psysml:27e0873a-b752-4942-bd7f-ca0670289346\" xlink:actuate=\"onRequest\" xlink:href=\"psysml:27e0873a-b752-4942-bd7f-ca0670289346\" xlink:show=\"new\" xlink:title=\"psysml:27e0873a-b752-4942-bd7f-ca0670289346\" xlink:type=\"simple\"><path d=\"M129.28,133.5 C138.17,154.57 151.64,186.5 161.47,209.81 \" fill=\"none\" id=\"E8-&gt;E7\" style=\"stroke: #383838; stroke-width: 1.0; stroke-dasharray: 7.0,7.0;\"/><polygon fill=\"#383838\" points=\"164.66,217.35,164.3241,208.8126,158.7933,211.1385,164.66,217.35\" style=\"stroke: #383838; stroke-width: 1.0;\"/><text fill=\"#000000\" font-family=\"sans-serif\" font-size=\"13\" lengthAdjust=\"spacingAndGlyphs\" textLength=\"64\" x=\"151\" y=\"180.0669\">«depend»</text></a><!--MD5=[63811daf1999c8b3c50f76b11274c894]\n",
       "@startuml\r\n",
       "top to bottom direction\r\n",
       "skinparam monochrome true\r\n",
       "skinparam classbackgroundcolor white\r\n",
       "skinparam shadowing false\r\n",
       "skinparam wrapWidth 300\r\n",
       "hide circle\r\n",
       "\r\n",
       "package \"DependencyTest\" as E1  [[psysml:30d47011-2b84-418c-8f66-5b5fafd7ed2a ]]  {\r\n",
       "package \"System\" as E2  [[psysml:5fbdfa4d-cafa-4f51-92a0-0bd6c2ea6fbb ]]  {\r\n",
       "package \"Application Layer\" as E3  [[psysml:511969d3-37b8-4975-ad7d-d9be97a14b44 ]]  {\r\n",
       "}\r\n",
       "package \"Service Layer\" as E4  [[psysml:3811cf97-7daf-4e30-b445-d9788e80eae2 ]]  {\r\n",
       "}\r\n",
       "package \"Data Layer\" as E5  [[psysml:2c8fb347-f198-4aa6-806c-1c573edf927e ]]  {\r\n",
       "}\r\n",
       "}\r\n",
       "comp usage \"x \" as E6  <<(T,blue) attribute>> [[psysml:3d7e11a6-324b-4ff0-8a6c-08a58aad852d ]] {\r\n",
       "}\r\n",
       "comp usage \"y \" as E7  <<(T,blue) attribute>> [[psysml:07b9e1bd-21f7-4218-b4f9-b36b2d1ccf74 ]] {\r\n",
       "}\r\n",
       "comp usage \"z \" as E8  <<(T,blue) attribute>> [[psysml:44529a0f-a1ad-4493-b824-b4a46bdd708e ]] {\r\n",
       "}\r\n",
       "}\r\n",
       "E3 ..>> E4 [[psysml:973be101-d69f-4acb-a430-79bda88f318e ]] : <<depend>>\r\n",
       "E4 ..>> E5 [[psysml:418c7eed-60a4-47b0-a927-ef037a202312 ]] : <<depend>>\r\n",
       "E8 ..>> E6 [[psysml:27e0873a-b752-4942-bd7f-ca0670289346 ]] : <<depend>>\r\n",
       "E8 ..>> E7 [[psysml:27e0873a-b752-4942-bd7f-ca0670289346 ]] : <<depend>>\r\n",
       "@enduml\r\n",
       "\n",
       "PlantUML version 1.2020.13(Sat Jun 13 12:26:38 UTC 2020)\n",
       "(EPL source distribution)\n",
       "Java Runtime: OpenJDK Runtime Environment\n",
       "JVM: OpenJDK 64-Bit Server VM\n",
       "Default Encoding: UTF-8\n",
       "Language: en\n",
       "Country: null\n",
       "--></g></svg>"
      ]
     },
     "execution_count": 45,
     "metadata": {},
     "output_type": "execute_result"
    }
   ],
   "source": [
    "%viz --style=\"TB\" --view=\"Tree\" \"DependencyTest\""
   ]
  },
  {
   "cell_type": "code",
   "execution_count": 46,
   "id": "9373ebb4",
   "metadata": {
    "execution": {
     "iopub.execute_input": "2022-02-05T16:52:52.370778Z",
     "iopub.status.busy": "2022-02-05T16:52:52.370377Z",
     "iopub.status.idle": "2022-02-05T16:52:52.373324Z",
     "shell.execute_reply": "2022-02-05T16:52:52.372981Z"
    }
   },
   "outputs": [
    {
     "data": {
      "image/svg+xml": [
       "<?xml version=\"1.0\" encoding=\"UTF-8\" standalone=\"no\"?><svg xmlns=\"http://www.w3.org/2000/svg\" xmlns:xlink=\"http://www.w3.org/1999/xlink\" contentScriptType=\"application/ecmascript\" contentStyleType=\"text/css\" height=\"12px\" preserveAspectRatio=\"none\" style=\"width:12px;height:12px;\" version=\"1.1\" viewBox=\"0 0 12 12\" width=\"12px\" zoomAndPan=\"magnify\"><defs/><g><!--MD5=[f4ee21bc66e489b5061b7c3e9601fdef]\n",
       "@startuml\r\n",
       "top to bottom direction\r\n",
       "skinparam monochrome true\r\n",
       "skinparam classbackgroundcolor white\r\n",
       "skinparam shadowing false\r\n",
       "skinparam wrapWidth 300\r\n",
       "hide circle\r\n",
       "\r\n",
       "@enduml\r\n",
       "\n",
       "PlantUML version 1.2020.13(Sat Jun 13 12:26:38 UTC 2020)\n",
       "(EPL source distribution)\n",
       "Java Runtime: OpenJDK Runtime Environment\n",
       "JVM: OpenJDK 64-Bit Server VM\n",
       "Default Encoding: UTF-8\n",
       "Language: en\n",
       "Country: null\n",
       "--></g></svg>"
      ]
     },
     "execution_count": 46,
     "metadata": {},
     "output_type": "execute_result"
    }
   ],
   "source": [
    "%viz --style=\"TB\" --view=\"State\" \"DependencyTest\""
   ]
  },
  {
   "cell_type": "code",
   "execution_count": 47,
   "id": "f1ff313f",
   "metadata": {
    "execution": {
     "iopub.execute_input": "2022-02-05T16:52:52.423216Z",
     "iopub.status.busy": "2022-02-05T16:52:52.422808Z",
     "iopub.status.idle": "2022-02-05T16:52:52.452225Z",
     "shell.execute_reply": "2022-02-05T16:52:52.450925Z"
    }
   },
   "outputs": [
    {
     "data": {
      "image/svg+xml": [
       "<?xml version=\"1.0\" encoding=\"UTF-8\" standalone=\"no\"?><svg xmlns=\"http://www.w3.org/2000/svg\" xmlns:xlink=\"http://www.w3.org/1999/xlink\" contentScriptType=\"application/ecmascript\" contentStyleType=\"text/css\" height=\"361px\" preserveAspectRatio=\"none\" style=\"width:469px;height:361px;\" version=\"1.1\" viewBox=\"0 0 469 361\" width=\"469px\" zoomAndPan=\"magnify\"><defs/><g><!--MD5=[fbc87193dbaf4d95561dea2c320d4a47]\n",
       "cluster E1--><a href=\"psysml:30d47011-2b84-418c-8f66-5b5fafd7ed2a\" target=\"_top\" title=\"psysml:30d47011-2b84-418c-8f66-5b5fafd7ed2a\" xlink:actuate=\"onRequest\" xlink:href=\"psysml:30d47011-2b84-418c-8f66-5b5fafd7ed2a\" xlink:show=\"new\" xlink:title=\"psysml:30d47011-2b84-418c-8f66-5b5fafd7ed2a\" xlink:type=\"simple\"><polygon fill=\"#FFFFFF\" points=\"16,6,142,6,149,28.2969,447,28.2969,447,349,16,349,16,6\" style=\"stroke: #000000; stroke-width: 1.5;\"/><line style=\"stroke: #000000; stroke-width: 1.5;\" x1=\"16\" x2=\"149\" y1=\"28.2969\" y2=\"28.2969\"/><text fill=\"#000000\" font-family=\"sans-serif\" font-size=\"14\" font-weight=\"bold\" lengthAdjust=\"spacingAndGlyphs\" textLength=\"120\" x=\"20\" y=\"20.9951\">DependencyTest</text></a><!--MD5=[e4f7fae6ed58524ba242bb0b0d3be6b7]\n",
       "cluster E2--><a href=\"psysml:5fbdfa4d-cafa-4f51-92a0-0bd6c2ea6fbb\" target=\"_top\" title=\"psysml:5fbdfa4d-cafa-4f51-92a0-0bd6c2ea6fbb\" xlink:actuate=\"onRequest\" xlink:href=\"psysml:5fbdfa4d-cafa-4f51-92a0-0bd6c2ea6fbb\" xlink:show=\"new\" xlink:title=\"psysml:5fbdfa4d-cafa-4f51-92a0-0bd6c2ea6fbb\" xlink:type=\"simple\"><polygon fill=\"#FFFFFF\" points=\"255,49,312,49,319,71.2969,423,71.2969,423,325,255,325,255,49\" style=\"stroke: #000000; stroke-width: 1.5;\"/><line style=\"stroke: #000000; stroke-width: 1.5;\" x1=\"255\" x2=\"319\" y1=\"71.2969\" y2=\"71.2969\"/><text fill=\"#000000\" font-family=\"sans-serif\" font-size=\"14\" font-weight=\"bold\" lengthAdjust=\"spacingAndGlyphs\" textLength=\"51\" x=\"259\" y=\"63.9951\">System</text></a><!--MD5=[60a26617385b1d2d0262a64233df1f8d]\n",
       "class E6--><a href=\"psysml:3d7e11a6-324b-4ff0-8a6c-08a58aad852d\" target=\"_top\" title=\"psysml:3d7e11a6-324b-4ff0-8a6c-08a58aad852d\" xlink:actuate=\"onRequest\" xlink:href=\"psysml:3d7e11a6-324b-4ff0-8a6c-08a58aad852d\" xlink:show=\"new\" xlink:title=\"psysml:3d7e11a6-324b-4ff0-8a6c-08a58aad852d\" xlink:type=\"simple\"><rect fill=\"#FFFFFF\" height=\"45.9375\" id=\"E6\" rx=\"10\" ry=\"10\" style=\"stroke: #383838; stroke-width: 1.5;\" width=\"71\" x=\"32.5\" y=\"173.5\"/><text fill=\"#000000\" font-family=\"sans-serif\" font-size=\"12\" font-style=\"italic\" lengthAdjust=\"spacingAndGlyphs\" textLength=\"69\" x=\"33.5\" y=\"189.6387\">«attribute»</text><text fill=\"#000000\" font-family=\"sans-serif\" font-size=\"12\" lengthAdjust=\"spacingAndGlyphs\" textLength=\"6\" x=\"63\" y=\"203.6074\">x</text><line style=\"stroke: #383838; stroke-width: 1.5;\" x1=\"33.5\" x2=\"102.5\" y1=\"211.4375\" y2=\"211.4375\"/></a><!--MD5=[2156ba9850f5573cc1fc38a6a4b2f02b]\n",
       "class E7--><a href=\"psysml:07b9e1bd-21f7-4218-b4f9-b36b2d1ccf74\" target=\"_top\" title=\"psysml:07b9e1bd-21f7-4218-b4f9-b36b2d1ccf74\" xlink:actuate=\"onRequest\" xlink:href=\"psysml:07b9e1bd-21f7-4218-b4f9-b36b2d1ccf74\" xlink:show=\"new\" xlink:title=\"psysml:07b9e1bd-21f7-4218-b4f9-b36b2d1ccf74\" xlink:type=\"simple\"><rect fill=\"#FFFFFF\" height=\"45.9375\" id=\"E7\" rx=\"10\" ry=\"10\" style=\"stroke: #383838; stroke-width: 1.5;\" width=\"71\" x=\"138.5\" y=\"173.5\"/><text fill=\"#000000\" font-family=\"sans-serif\" font-size=\"12\" font-style=\"italic\" lengthAdjust=\"spacingAndGlyphs\" textLength=\"69\" x=\"139.5\" y=\"189.6387\">«attribute»</text><text fill=\"#000000\" font-family=\"sans-serif\" font-size=\"12\" lengthAdjust=\"spacingAndGlyphs\" textLength=\"6\" x=\"169\" y=\"203.6074\">y</text><line style=\"stroke: #383838; stroke-width: 1.5;\" x1=\"139.5\" x2=\"208.5\" y1=\"211.4375\" y2=\"211.4375\"/></a><!--MD5=[b9389687b975829384b498ac4b7476b2]\n",
       "class E8--><a href=\"psysml:44529a0f-a1ad-4493-b824-b4a46bdd708e\" target=\"_top\" title=\"psysml:44529a0f-a1ad-4493-b824-b4a46bdd708e\" xlink:actuate=\"onRequest\" xlink:href=\"psysml:44529a0f-a1ad-4493-b824-b4a46bdd708e\" xlink:show=\"new\" xlink:title=\"psysml:44529a0f-a1ad-4493-b824-b4a46bdd708e\" xlink:type=\"simple\"><rect fill=\"#FFFFFF\" height=\"45.9375\" id=\"E8\" rx=\"10\" ry=\"10\" style=\"stroke: #383838; stroke-width: 1.5;\" width=\"71\" x=\"84.5\" y=\"87.5\"/><text fill=\"#000000\" font-family=\"sans-serif\" font-size=\"12\" font-style=\"italic\" lengthAdjust=\"spacingAndGlyphs\" textLength=\"69\" x=\"85.5\" y=\"103.6387\">«attribute»</text><text fill=\"#000000\" font-family=\"sans-serif\" font-size=\"12\" lengthAdjust=\"spacingAndGlyphs\" textLength=\"5\" x=\"115.5\" y=\"117.6074\">z</text><line style=\"stroke: #383838; stroke-width: 1.5;\" x1=\"85.5\" x2=\"154.5\" y1=\"125.4375\" y2=\"125.4375\"/></a><a href=\"psysml:511969d3-37b8-4975-ad7d-d9be97a14b44\" target=\"_top\" title=\"psysml:511969d3-37b8-4975-ad7d-d9be97a14b44\" xlink:actuate=\"onRequest\" xlink:href=\"psysml:511969d3-37b8-4975-ad7d-d9be97a14b44\" xlink:show=\"new\" xlink:title=\"psysml:511969d3-37b8-4975-ad7d-d9be97a14b44\" xlink:type=\"simple\"><polygon fill=\"#FFFFFF\" points=\"271.5,84,392.5,84,399.5,106.2969,406.5,106.2969,406.5,136.5938,271.5,136.5938,271.5,84\" style=\"stroke: #000000; stroke-width: 1.5;\"/><line style=\"stroke: #000000; stroke-width: 1.5;\" x1=\"271.5\" x2=\"399.5\" y1=\"106.2969\" y2=\"106.2969\"/><text fill=\"#000000\" font-family=\"sans-serif\" font-size=\"14\" font-weight=\"bold\" lengthAdjust=\"spacingAndGlyphs\" textLength=\"115\" x=\"275.5\" y=\"98.9951\">Application Layer</text></a><a href=\"psysml:3811cf97-7daf-4e30-b445-d9788e80eae2\" target=\"_top\" title=\"psysml:3811cf97-7daf-4e30-b445-d9788e80eae2\" xlink:actuate=\"onRequest\" xlink:href=\"psysml:3811cf97-7daf-4e30-b445-d9788e80eae2\" xlink:show=\"new\" xlink:title=\"psysml:3811cf97-7daf-4e30-b445-d9788e80eae2\" xlink:type=\"simple\"><polygon fill=\"#FFFFFF\" points=\"284,170,380,170,387,192.2969,394,192.2969,394,222.5938,284,222.5938,284,170\" style=\"stroke: #000000; stroke-width: 1.5;\"/><line style=\"stroke: #000000; stroke-width: 1.5;\" x1=\"284\" x2=\"387\" y1=\"192.2969\" y2=\"192.2969\"/><text fill=\"#000000\" font-family=\"sans-serif\" font-size=\"14\" font-weight=\"bold\" lengthAdjust=\"spacingAndGlyphs\" textLength=\"90\" x=\"288\" y=\"184.9951\">Service Layer</text></a><a href=\"psysml:2c8fb347-f198-4aa6-806c-1c573edf927e\" target=\"_top\" title=\"psysml:2c8fb347-f198-4aa6-806c-1c573edf927e\" xlink:actuate=\"onRequest\" xlink:href=\"psysml:2c8fb347-f198-4aa6-806c-1c573edf927e\" xlink:show=\"new\" xlink:title=\"psysml:2c8fb347-f198-4aa6-806c-1c573edf927e\" xlink:type=\"simple\"><polygon fill=\"#FFFFFF\" points=\"293,256,371,256,378,278.2969,385,278.2969,385,308.5938,293,308.5938,293,256\" style=\"stroke: #000000; stroke-width: 1.5;\"/><line style=\"stroke: #000000; stroke-width: 1.5;\" x1=\"293\" x2=\"378\" y1=\"278.2969\" y2=\"278.2969\"/><text fill=\"#000000\" font-family=\"sans-serif\" font-size=\"14\" font-weight=\"bold\" lengthAdjust=\"spacingAndGlyphs\" textLength=\"72\" x=\"297\" y=\"270.9951\">Data Layer</text></a><!--MD5=[af87c684e3b0d8be13c1a698a818ef1e]\n",
       "link E3 to E4--><a href=\"psysml:973be101-d69f-4acb-a430-79bda88f318e\" target=\"_top\" title=\"psysml:973be101-d69f-4acb-a430-79bda88f318e\" xlink:actuate=\"onRequest\" xlink:href=\"psysml:973be101-d69f-4acb-a430-79bda88f318e\" xlink:show=\"new\" xlink:title=\"psysml:973be101-d69f-4acb-a430-79bda88f318e\" xlink:type=\"simple\"><path d=\"M339,137.16 C339,144.98 339,153.69 339,161.94 \" fill=\"none\" id=\"E3-&gt;E4\" style=\"stroke: #383838; stroke-width: 1.0; stroke-dasharray: 7.0,7.0;\"/><polygon fill=\"#383838\" points=\"339,170,342,162,336,162,339,170\" style=\"stroke: #383838; stroke-width: 1.0;\"/><text fill=\"#000000\" font-family=\"sans-serif\" font-size=\"13\" lengthAdjust=\"spacingAndGlyphs\" textLength=\"64\" x=\"340\" y=\"158.0669\">«depend»</text></a><!--MD5=[1b7591eae5389033d8d09a9d6721a717]\n",
       "link E4 to E5--><a href=\"psysml:418c7eed-60a4-47b0-a927-ef037a202312\" target=\"_top\" title=\"psysml:418c7eed-60a4-47b0-a927-ef037a202312\" xlink:actuate=\"onRequest\" xlink:href=\"psysml:418c7eed-60a4-47b0-a927-ef037a202312\" xlink:show=\"new\" xlink:title=\"psysml:418c7eed-60a4-47b0-a927-ef037a202312\" xlink:type=\"simple\"><path d=\"M339,223.16 C339,230.98 339,239.69 339,247.94 \" fill=\"none\" id=\"E4-&gt;E5\" style=\"stroke: #383838; stroke-width: 1.0; stroke-dasharray: 7.0,7.0;\"/><polygon fill=\"#383838\" points=\"339,256,342,248,336,248,339,256\" style=\"stroke: #383838; stroke-width: 1.0;\"/><text fill=\"#000000\" font-family=\"sans-serif\" font-size=\"13\" lengthAdjust=\"spacingAndGlyphs\" textLength=\"64\" x=\"340\" y=\"244.0669\">«depend»</text></a><!--MD5=[c5e8897d989ce984f93528998a7150fe]\n",
       "link E8 to E6--><a href=\"psysml:27e0873a-b752-4942-bd7f-ca0670289346\" target=\"_top\" title=\"psysml:27e0873a-b752-4942-bd7f-ca0670289346\" xlink:actuate=\"onRequest\" xlink:href=\"psysml:27e0873a-b752-4942-bd7f-ca0670289346\" xlink:show=\"new\" xlink:title=\"psysml:27e0873a-b752-4942-bd7f-ca0670289346\" xlink:type=\"simple\"><path d=\"M84.49,125.34 C76.34,130.27 68.69,136.72 64,145 C60.54,151.1 59.62,158.31 60,165.33 \" fill=\"none\" id=\"E8-&gt;E6\" style=\"stroke: #383838; stroke-width: 1.0; stroke-dasharray: 7.0,7.0;\"/><polygon fill=\"#383838\" points=\"60.97,173.42,63.0061,165.1221,57.0479,165.8294,60.97,173.42\" style=\"stroke: #383838; stroke-width: 1.0;\"/><text fill=\"#000000\" font-family=\"sans-serif\" font-size=\"13\" lengthAdjust=\"spacingAndGlyphs\" textLength=\"64\" x=\"65\" y=\"158.0669\">«depend»</text></a><!--MD5=[bfa3c8b0d15052fdf50ae9310b491027]\n",
       "link E8 to E7--><a href=\"psysml:27e0873a-b752-4942-bd7f-ca0670289346\" target=\"_top\" title=\"psysml:27e0873a-b752-4942-bd7f-ca0670289346\" xlink:actuate=\"onRequest\" xlink:href=\"psysml:27e0873a-b752-4942-bd7f-ca0670289346\" xlink:show=\"new\" xlink:title=\"psysml:27e0873a-b752-4942-bd7f-ca0670289346\" xlink:type=\"simple\"><path d=\"M134.19,133.57 C140.65,143.62 148.38,155.65 155.31,166.42 \" fill=\"none\" id=\"E8-&gt;E7\" style=\"stroke: #383838; stroke-width: 1.0; stroke-dasharray: 7.0,7.0;\"/><polygon fill=\"#383838\" points=\"159.72,173.29,157.9148,164.9389,152.8688,168.185,159.72,173.29\" style=\"stroke: #383838; stroke-width: 1.0;\"/><text fill=\"#000000\" font-family=\"sans-serif\" font-size=\"13\" lengthAdjust=\"spacingAndGlyphs\" textLength=\"64\" x=\"152\" y=\"158.0669\">«depend»</text></a><!--MD5=[29e426a52bacb66441da9b2eb1ac8f31]\n",
       "@startuml\r\n",
       "skinparam ranksep 10\r\n",
       "skinparam rectangle {\r\n",
       " backgroundColor<<block>> LightGreen\r\n",
       "}\r\n",
       "top to bottom direction\r\n",
       "skinparam monochrome true\r\n",
       "skinparam classbackgroundcolor white\r\n",
       "skinparam shadowing false\r\n",
       "skinparam wrapWidth 300\r\n",
       "hide circle\r\n",
       "\r\n",
       "package \"DependencyTest\" as E1  [[psysml:30d47011-2b84-418c-8f66-5b5fafd7ed2a ]]  {\r\n",
       "package \"System\" as E2  [[psysml:5fbdfa4d-cafa-4f51-92a0-0bd6c2ea6fbb ]]  {\r\n",
       "package \"Application Layer\" as E3  [[psysml:511969d3-37b8-4975-ad7d-d9be97a14b44 ]]  {\r\n",
       "}\r\n",
       "package \"Service Layer\" as E4  [[psysml:3811cf97-7daf-4e30-b445-d9788e80eae2 ]]  {\r\n",
       "}\r\n",
       "package \"Data Layer\" as E5  [[psysml:2c8fb347-f198-4aa6-806c-1c573edf927e ]]  {\r\n",
       "}\r\n",
       "}\r\n",
       "comp usage \"x \" as E6  <<(T,blue) attribute>> [[psysml:3d7e11a6-324b-4ff0-8a6c-08a58aad852d ]] {\r\n",
       "}\r\n",
       "comp usage \"y \" as E7  <<(T,blue) attribute>> [[psysml:07b9e1bd-21f7-4218-b4f9-b36b2d1ccf74 ]] {\r\n",
       "}\r\n",
       "comp usage \"z \" as E8  <<(T,blue) attribute>> [[psysml:44529a0f-a1ad-4493-b824-b4a46bdd708e ]] {\r\n",
       "}\r\n",
       "}\r\n",
       "E3 ..>> E4 [[psysml:973be101-d69f-4acb-a430-79bda88f318e ]] : <<depend>>\r\n",
       "E4 ..>> E5 [[psysml:418c7eed-60a4-47b0-a927-ef037a202312 ]] : <<depend>>\r\n",
       "E8 ..>> E6 [[psysml:27e0873a-b752-4942-bd7f-ca0670289346 ]] : <<depend>>\r\n",
       "E8 ..>> E7 [[psysml:27e0873a-b752-4942-bd7f-ca0670289346 ]] : <<depend>>\r\n",
       "@enduml\r\n",
       "\n",
       "PlantUML version 1.2020.13(Sat Jun 13 12:26:38 UTC 2020)\n",
       "(EPL source distribution)\n",
       "Java Runtime: OpenJDK Runtime Environment\n",
       "JVM: OpenJDK 64-Bit Server VM\n",
       "Default Encoding: UTF-8\n",
       "Language: en\n",
       "Country: null\n",
       "--></g></svg>"
      ]
     },
     "execution_count": 47,
     "metadata": {},
     "output_type": "execute_result"
    }
   ],
   "source": [
    "%viz --style=\"TB\" --view=\"Interconnection\" \"DependencyTest\""
   ]
  },
  {
   "cell_type": "code",
   "execution_count": 48,
   "id": "7195db08",
   "metadata": {
    "execution": {
     "iopub.execute_input": "2022-02-05T16:52:52.501782Z",
     "iopub.status.busy": "2022-02-05T16:52:52.501367Z",
     "iopub.status.idle": "2022-02-05T16:52:52.504309Z",
     "shell.execute_reply": "2022-02-05T16:52:52.504619Z"
    }
   },
   "outputs": [
    {
     "data": {
      "image/svg+xml": [
       "<?xml version=\"1.0\" encoding=\"UTF-8\" standalone=\"no\"?><svg xmlns=\"http://www.w3.org/2000/svg\" xmlns:xlink=\"http://www.w3.org/1999/xlink\" contentScriptType=\"application/ecmascript\" contentStyleType=\"text/css\" height=\"12px\" preserveAspectRatio=\"none\" style=\"width:12px;height:12px;\" version=\"1.1\" viewBox=\"0 0 12 12\" width=\"12px\" zoomAndPan=\"magnify\"><defs/><g><!--MD5=[06afc254b03ac5e9d9fb7773b07d0800]\n",
       "@startuml\r\n",
       "skinparam ranksep 8\r\n",
       "top to bottom direction\r\n",
       "skinparam monochrome true\r\n",
       "skinparam classbackgroundcolor white\r\n",
       "skinparam shadowing false\r\n",
       "skinparam wrapWidth 300\r\n",
       "hide circle\r\n",
       "\r\n",
       "@enduml\r\n",
       "\n",
       "PlantUML version 1.2020.13(Sat Jun 13 12:26:38 UTC 2020)\n",
       "(EPL source distribution)\n",
       "Java Runtime: OpenJDK Runtime Environment\n",
       "JVM: OpenJDK 64-Bit Server VM\n",
       "Default Encoding: UTF-8\n",
       "Language: en\n",
       "Country: null\n",
       "--></g></svg>"
      ]
     },
     "execution_count": 48,
     "metadata": {},
     "output_type": "execute_result"
    }
   ],
   "source": [
    "%viz --style=\"TB\" --view=\"Action\" \"DependencyTest\""
   ]
  },
  {
   "cell_type": "code",
   "execution_count": 49,
   "id": "ddf09044",
   "metadata": {
    "execution": {
     "iopub.execute_input": "2022-02-05T16:52:52.554413Z",
     "iopub.status.busy": "2022-02-05T16:52:52.553992Z",
     "iopub.status.idle": "2022-02-05T16:52:52.557282Z",
     "shell.execute_reply": "2022-02-05T16:52:52.556932Z"
    }
   },
   "outputs": [
    {
     "data": {
      "image/svg+xml": [
       "<?xml version=\"1.0\" encoding=\"UTF-8\" standalone=\"no\"?><svg xmlns=\"http://www.w3.org/2000/svg\" xmlns:xlink=\"http://www.w3.org/1999/xlink\" contentScriptType=\"application/ecmascript\" contentStyleType=\"text/css\" height=\"12px\" preserveAspectRatio=\"none\" style=\"width:12px;height:12px;\" version=\"1.1\" viewBox=\"0 0 12 12\" width=\"12px\" zoomAndPan=\"magnify\"><defs/><g><!--MD5=[e1ab0c84c44d2fef8bf5f140f2689906]\n",
       "@startuml\r\n",
       "skinparam roundcorner 20\r\n",
       "skinparam BoxPadding 20\r\n",
       "skinparam SequenceBoxBackgroundColor #white\r\n",
       "skinparam style strictuml\r\n",
       "skinparam maxMessageSize 100\r\n",
       "top to bottom direction\r\n",
       "skinparam monochrome true\r\n",
       "skinparam classbackgroundcolor white\r\n",
       "skinparam shadowing false\r\n",
       "skinparam wrapWidth 300\r\n",
       "hide circle\r\n",
       "\r\n",
       "@enduml\r\n",
       "\n",
       "PlantUML version 1.2020.13(Sat Jun 13 12:26:38 UTC 2020)\n",
       "(EPL source distribution)\n",
       "Java Runtime: OpenJDK Runtime Environment\n",
       "JVM: OpenJDK 64-Bit Server VM\n",
       "Default Encoding: UTF-8\n",
       "Language: en\n",
       "Country: null\n",
       "--></g></svg>"
      ]
     },
     "execution_count": 49,
     "metadata": {},
     "output_type": "execute_result"
    }
   ],
   "source": [
    "%viz --style=\"TB\" --view=\"Sequence\" \"DependencyTest\""
   ]
  },
  {
   "cell_type": "code",
   "execution_count": 50,
   "id": "3d34334e",
   "metadata": {
    "execution": {
     "iopub.execute_input": "2022-02-05T16:52:52.607190Z",
     "iopub.status.busy": "2022-02-05T16:52:52.606799Z",
     "iopub.status.idle": "2022-02-05T16:52:52.632232Z",
     "shell.execute_reply": "2022-02-05T16:52:52.631004Z"
    }
   },
   "outputs": [
    {
     "data": {
      "image/svg+xml": [
       "<?xml version=\"1.0\" encoding=\"UTF-8\" standalone=\"no\"?><svg xmlns=\"http://www.w3.org/2000/svg\" xmlns:xlink=\"http://www.w3.org/1999/xlink\" contentScriptType=\"application/ecmascript\" contentStyleType=\"text/css\" height=\"449px\" preserveAspectRatio=\"none\" style=\"width:469px;height:449px;\" version=\"1.1\" viewBox=\"0 0 469 449\" width=\"469px\" zoomAndPan=\"magnify\"><defs/><g><!--MD5=[fbc87193dbaf4d95561dea2c320d4a47]\n",
       "cluster E1--><a href=\"psysml:30d47011-2b84-418c-8f66-5b5fafd7ed2a\" target=\"_top\" title=\"psysml:30d47011-2b84-418c-8f66-5b5fafd7ed2a\" xlink:actuate=\"onRequest\" xlink:href=\"psysml:30d47011-2b84-418c-8f66-5b5fafd7ed2a\" xlink:show=\"new\" xlink:title=\"psysml:30d47011-2b84-418c-8f66-5b5fafd7ed2a\" xlink:type=\"simple\"><polygon fill=\"#FFFFFF\" points=\"16,6,142,6,149,28.2969,447,28.2969,447,437,16,437,16,6\" style=\"stroke: #000000; stroke-width: 1.5;\"/><line style=\"stroke: #000000; stroke-width: 1.5;\" x1=\"16\" x2=\"149\" y1=\"28.2969\" y2=\"28.2969\"/><text fill=\"#000000\" font-family=\"sans-serif\" font-size=\"14\" font-weight=\"bold\" lengthAdjust=\"spacingAndGlyphs\" textLength=\"120\" x=\"20\" y=\"20.9951\">DependencyTest</text></a><!--MD5=[e4f7fae6ed58524ba242bb0b0d3be6b7]\n",
       "cluster E2--><a href=\"psysml:5fbdfa4d-cafa-4f51-92a0-0bd6c2ea6fbb\" target=\"_top\" title=\"psysml:5fbdfa4d-cafa-4f51-92a0-0bd6c2ea6fbb\" xlink:actuate=\"onRequest\" xlink:href=\"psysml:5fbdfa4d-cafa-4f51-92a0-0bd6c2ea6fbb\" xlink:show=\"new\" xlink:title=\"psysml:5fbdfa4d-cafa-4f51-92a0-0bd6c2ea6fbb\" xlink:type=\"simple\"><polygon fill=\"#FFFFFF\" points=\"255,49,312,49,319,71.2969,423,71.2969,423,413,255,413,255,49\" style=\"stroke: #000000; stroke-width: 1.5;\"/><line style=\"stroke: #000000; stroke-width: 1.5;\" x1=\"255\" x2=\"319\" y1=\"71.2969\" y2=\"71.2969\"/><text fill=\"#000000\" font-family=\"sans-serif\" font-size=\"14\" font-weight=\"bold\" lengthAdjust=\"spacingAndGlyphs\" textLength=\"51\" x=\"259\" y=\"63.9951\">System</text></a><!--MD5=[60a26617385b1d2d0262a64233df1f8d]\n",
       "class E6--><a href=\"psysml:3d7e11a6-324b-4ff0-8a6c-08a58aad852d\" target=\"_top\" title=\"psysml:3d7e11a6-324b-4ff0-8a6c-08a58aad852d\" xlink:actuate=\"onRequest\" xlink:href=\"psysml:3d7e11a6-324b-4ff0-8a6c-08a58aad852d\" xlink:show=\"new\" xlink:title=\"psysml:3d7e11a6-324b-4ff0-8a6c-08a58aad852d\" xlink:type=\"simple\"><rect fill=\"#FFFFFF\" height=\"45.9375\" id=\"E6\" rx=\"10\" ry=\"10\" style=\"stroke: #383838; stroke-width: 1.5;\" width=\"71\" x=\"32.5\" y=\"217.5\"/><text fill=\"#000000\" font-family=\"sans-serif\" font-size=\"12\" font-style=\"italic\" lengthAdjust=\"spacingAndGlyphs\" textLength=\"69\" x=\"33.5\" y=\"233.6387\">«attribute»</text><text fill=\"#000000\" font-family=\"sans-serif\" font-size=\"12\" lengthAdjust=\"spacingAndGlyphs\" textLength=\"6\" x=\"63\" y=\"247.6074\">x</text><line style=\"stroke: #383838; stroke-width: 1.5;\" x1=\"33.5\" x2=\"102.5\" y1=\"255.4375\" y2=\"255.4375\"/></a><!--MD5=[2156ba9850f5573cc1fc38a6a4b2f02b]\n",
       "class E7--><a href=\"psysml:07b9e1bd-21f7-4218-b4f9-b36b2d1ccf74\" target=\"_top\" title=\"psysml:07b9e1bd-21f7-4218-b4f9-b36b2d1ccf74\" xlink:actuate=\"onRequest\" xlink:href=\"psysml:07b9e1bd-21f7-4218-b4f9-b36b2d1ccf74\" xlink:show=\"new\" xlink:title=\"psysml:07b9e1bd-21f7-4218-b4f9-b36b2d1ccf74\" xlink:type=\"simple\"><rect fill=\"#FFFFFF\" height=\"45.9375\" id=\"E7\" rx=\"10\" ry=\"10\" style=\"stroke: #383838; stroke-width: 1.5;\" width=\"71\" x=\"138.5\" y=\"217.5\"/><text fill=\"#000000\" font-family=\"sans-serif\" font-size=\"12\" font-style=\"italic\" lengthAdjust=\"spacingAndGlyphs\" textLength=\"69\" x=\"139.5\" y=\"233.6387\">«attribute»</text><text fill=\"#000000\" font-family=\"sans-serif\" font-size=\"12\" lengthAdjust=\"spacingAndGlyphs\" textLength=\"6\" x=\"169\" y=\"247.6074\">y</text><line style=\"stroke: #383838; stroke-width: 1.5;\" x1=\"139.5\" x2=\"208.5\" y1=\"255.4375\" y2=\"255.4375\"/></a><!--MD5=[b9389687b975829384b498ac4b7476b2]\n",
       "class E8--><a href=\"psysml:44529a0f-a1ad-4493-b824-b4a46bdd708e\" target=\"_top\" title=\"psysml:44529a0f-a1ad-4493-b824-b4a46bdd708e\" xlink:actuate=\"onRequest\" xlink:href=\"psysml:44529a0f-a1ad-4493-b824-b4a46bdd708e\" xlink:show=\"new\" xlink:title=\"psysml:44529a0f-a1ad-4493-b824-b4a46bdd708e\" xlink:type=\"simple\"><rect fill=\"#FFFFFF\" height=\"45.9375\" id=\"E8\" rx=\"10\" ry=\"10\" style=\"stroke: #383838; stroke-width: 1.5;\" width=\"71\" x=\"84.5\" y=\"87.5\"/><text fill=\"#000000\" font-family=\"sans-serif\" font-size=\"12\" font-style=\"italic\" lengthAdjust=\"spacingAndGlyphs\" textLength=\"69\" x=\"85.5\" y=\"103.6387\">«attribute»</text><text fill=\"#000000\" font-family=\"sans-serif\" font-size=\"12\" lengthAdjust=\"spacingAndGlyphs\" textLength=\"5\" x=\"115.5\" y=\"117.6074\">z</text><line style=\"stroke: #383838; stroke-width: 1.5;\" x1=\"85.5\" x2=\"154.5\" y1=\"125.4375\" y2=\"125.4375\"/></a><a href=\"psysml:511969d3-37b8-4975-ad7d-d9be97a14b44\" target=\"_top\" title=\"psysml:511969d3-37b8-4975-ad7d-d9be97a14b44\" xlink:actuate=\"onRequest\" xlink:href=\"psysml:511969d3-37b8-4975-ad7d-d9be97a14b44\" xlink:show=\"new\" xlink:title=\"psysml:511969d3-37b8-4975-ad7d-d9be97a14b44\" xlink:type=\"simple\"><polygon fill=\"#FFFFFF\" points=\"271.5,84,392.5,84,399.5,106.2969,406.5,106.2969,406.5,136.5938,271.5,136.5938,271.5,84\" style=\"stroke: #000000; stroke-width: 1.5;\"/><line style=\"stroke: #000000; stroke-width: 1.5;\" x1=\"271.5\" x2=\"399.5\" y1=\"106.2969\" y2=\"106.2969\"/><text fill=\"#000000\" font-family=\"sans-serif\" font-size=\"14\" font-weight=\"bold\" lengthAdjust=\"spacingAndGlyphs\" textLength=\"115\" x=\"275.5\" y=\"98.9951\">Application Layer</text></a><a href=\"psysml:3811cf97-7daf-4e30-b445-d9788e80eae2\" target=\"_top\" title=\"psysml:3811cf97-7daf-4e30-b445-d9788e80eae2\" xlink:actuate=\"onRequest\" xlink:href=\"psysml:3811cf97-7daf-4e30-b445-d9788e80eae2\" xlink:show=\"new\" xlink:title=\"psysml:3811cf97-7daf-4e30-b445-d9788e80eae2\" xlink:type=\"simple\"><polygon fill=\"#FFFFFF\" points=\"284,214,380,214,387,236.2969,394,236.2969,394,266.5938,284,266.5938,284,214\" style=\"stroke: #000000; stroke-width: 1.5;\"/><line style=\"stroke: #000000; stroke-width: 1.5;\" x1=\"284\" x2=\"387\" y1=\"236.2969\" y2=\"236.2969\"/><text fill=\"#000000\" font-family=\"sans-serif\" font-size=\"14\" font-weight=\"bold\" lengthAdjust=\"spacingAndGlyphs\" textLength=\"90\" x=\"288\" y=\"228.9951\">Service Layer</text></a><a href=\"psysml:2c8fb347-f198-4aa6-806c-1c573edf927e\" target=\"_top\" title=\"psysml:2c8fb347-f198-4aa6-806c-1c573edf927e\" xlink:actuate=\"onRequest\" xlink:href=\"psysml:2c8fb347-f198-4aa6-806c-1c573edf927e\" xlink:show=\"new\" xlink:title=\"psysml:2c8fb347-f198-4aa6-806c-1c573edf927e\" xlink:type=\"simple\"><polygon fill=\"#FFFFFF\" points=\"293,344,371,344,378,366.2969,385,366.2969,385,396.5938,293,396.5938,293,344\" style=\"stroke: #000000; stroke-width: 1.5;\"/><line style=\"stroke: #000000; stroke-width: 1.5;\" x1=\"293\" x2=\"378\" y1=\"366.2969\" y2=\"366.2969\"/><text fill=\"#000000\" font-family=\"sans-serif\" font-size=\"14\" font-weight=\"bold\" lengthAdjust=\"spacingAndGlyphs\" textLength=\"72\" x=\"297\" y=\"358.9951\">Data Layer</text></a><!--MD5=[af87c684e3b0d8be13c1a698a818ef1e]\n",
       "link E3 to E4--><a href=\"psysml:973be101-d69f-4acb-a430-79bda88f318e\" target=\"_top\" title=\"psysml:973be101-d69f-4acb-a430-79bda88f318e\" xlink:actuate=\"onRequest\" xlink:href=\"psysml:973be101-d69f-4acb-a430-79bda88f318e\" xlink:show=\"new\" xlink:title=\"psysml:973be101-d69f-4acb-a430-79bda88f318e\" xlink:type=\"simple\"><path d=\"M339,137.1 C339,156.8 339,184.22 339,205.73 \" fill=\"none\" id=\"E3-&gt;E4\" style=\"stroke: #383838; stroke-width: 1.0; stroke-dasharray: 7.0,7.0;\"/><polygon fill=\"#383838\" points=\"339,213.95,342,205.95,336,205.95,339,213.95\" style=\"stroke: #383838; stroke-width: 1.0;\"/><text fill=\"#000000\" font-family=\"sans-serif\" font-size=\"13\" lengthAdjust=\"spacingAndGlyphs\" textLength=\"64\" x=\"340\" y=\"180.0669\">«depend»</text></a><!--MD5=[1b7591eae5389033d8d09a9d6721a717]\n",
       "link E4 to E5--><a href=\"psysml:418c7eed-60a4-47b0-a927-ef037a202312\" target=\"_top\" title=\"psysml:418c7eed-60a4-47b0-a927-ef037a202312\" xlink:actuate=\"onRequest\" xlink:href=\"psysml:418c7eed-60a4-47b0-a927-ef037a202312\" xlink:show=\"new\" xlink:title=\"psysml:418c7eed-60a4-47b0-a927-ef037a202312\" xlink:type=\"simple\"><path d=\"M339,267.1 C339,286.8 339,314.22 339,335.73 \" fill=\"none\" id=\"E4-&gt;E5\" style=\"stroke: #383838; stroke-width: 1.0; stroke-dasharray: 7.0,7.0;\"/><polygon fill=\"#383838\" points=\"339,343.95,342,335.95,336,335.95,339,343.95\" style=\"stroke: #383838; stroke-width: 1.0;\"/><text fill=\"#000000\" font-family=\"sans-serif\" font-size=\"13\" lengthAdjust=\"spacingAndGlyphs\" textLength=\"64\" x=\"340\" y=\"310.0669\">«depend»</text></a><!--MD5=[c5e8897d989ce984f93528998a7150fe]\n",
       "link E8 to E6--><a href=\"psysml:27e0873a-b752-4942-bd7f-ca0670289346\" target=\"_top\" title=\"psysml:27e0873a-b752-4942-bd7f-ca0670289346\" xlink:actuate=\"onRequest\" xlink:href=\"psysml:27e0873a-b752-4942-bd7f-ca0670289346\" xlink:show=\"new\" xlink:title=\"psysml:27e0873a-b752-4942-bd7f-ca0670289346\" xlink:type=\"simple\"><path d=\"M89.42,133.6 C79.35,142.68 69.37,154.11 64,167 C58.5,180.2 58.66,195.94 60.54,209.38 \" fill=\"none\" id=\"E8-&gt;E6\" style=\"stroke: #383838; stroke-width: 1.0; stroke-dasharray: 7.0,7.0;\"/><polygon fill=\"#383838\" points=\"61.9,217.4,63.517,209.0104,57.6018,210.0159,61.9,217.4\" style=\"stroke: #383838; stroke-width: 1.0;\"/><text fill=\"#000000\" font-family=\"sans-serif\" font-size=\"13\" lengthAdjust=\"spacingAndGlyphs\" textLength=\"64\" x=\"65\" y=\"180.0669\">«depend»</text></a><!--MD5=[bfa3c8b0d15052fdf50ae9310b491027]\n",
       "link E8 to E7--><a href=\"psysml:27e0873a-b752-4942-bd7f-ca0670289346\" target=\"_top\" title=\"psysml:27e0873a-b752-4942-bd7f-ca0670289346\" xlink:actuate=\"onRequest\" xlink:href=\"psysml:27e0873a-b752-4942-bd7f-ca0670289346\" xlink:show=\"new\" xlink:title=\"psysml:27e0873a-b752-4942-bd7f-ca0670289346\" xlink:type=\"simple\"><path d=\"M129.28,133.5 C138.17,154.57 151.64,186.5 161.47,209.81 \" fill=\"none\" id=\"E8-&gt;E7\" style=\"stroke: #383838; stroke-width: 1.0; stroke-dasharray: 7.0,7.0;\"/><polygon fill=\"#383838\" points=\"164.66,217.35,164.3241,208.8126,158.7933,211.1385,164.66,217.35\" style=\"stroke: #383838; stroke-width: 1.0;\"/><text fill=\"#000000\" font-family=\"sans-serif\" font-size=\"13\" lengthAdjust=\"spacingAndGlyphs\" textLength=\"64\" x=\"151\" y=\"180.0669\">«depend»</text></a><!--MD5=[63811daf1999c8b3c50f76b11274c894]\n",
       "@startuml\r\n",
       "top to bottom direction\r\n",
       "skinparam monochrome true\r\n",
       "skinparam classbackgroundcolor white\r\n",
       "skinparam shadowing false\r\n",
       "skinparam wrapWidth 300\r\n",
       "hide circle\r\n",
       "\r\n",
       "package \"DependencyTest\" as E1  [[psysml:30d47011-2b84-418c-8f66-5b5fafd7ed2a ]]  {\r\n",
       "package \"System\" as E2  [[psysml:5fbdfa4d-cafa-4f51-92a0-0bd6c2ea6fbb ]]  {\r\n",
       "package \"Application Layer\" as E3  [[psysml:511969d3-37b8-4975-ad7d-d9be97a14b44 ]]  {\r\n",
       "}\r\n",
       "package \"Service Layer\" as E4  [[psysml:3811cf97-7daf-4e30-b445-d9788e80eae2 ]]  {\r\n",
       "}\r\n",
       "package \"Data Layer\" as E5  [[psysml:2c8fb347-f198-4aa6-806c-1c573edf927e ]]  {\r\n",
       "}\r\n",
       "}\r\n",
       "comp usage \"x \" as E6  <<(T,blue) attribute>> [[psysml:3d7e11a6-324b-4ff0-8a6c-08a58aad852d ]] {\r\n",
       "}\r\n",
       "comp usage \"y \" as E7  <<(T,blue) attribute>> [[psysml:07b9e1bd-21f7-4218-b4f9-b36b2d1ccf74 ]] {\r\n",
       "}\r\n",
       "comp usage \"z \" as E8  <<(T,blue) attribute>> [[psysml:44529a0f-a1ad-4493-b824-b4a46bdd708e ]] {\r\n",
       "}\r\n",
       "}\r\n",
       "E3 ..>> E4 [[psysml:973be101-d69f-4acb-a430-79bda88f318e ]] : <<depend>>\r\n",
       "E4 ..>> E5 [[psysml:418c7eed-60a4-47b0-a927-ef037a202312 ]] : <<depend>>\r\n",
       "E8 ..>> E6 [[psysml:27e0873a-b752-4942-bd7f-ca0670289346 ]] : <<depend>>\r\n",
       "E8 ..>> E7 [[psysml:27e0873a-b752-4942-bd7f-ca0670289346 ]] : <<depend>>\r\n",
       "@enduml\r\n",
       "\n",
       "PlantUML version 1.2020.13(Sat Jun 13 12:26:38 UTC 2020)\n",
       "(EPL source distribution)\n",
       "Java Runtime: OpenJDK Runtime Environment\n",
       "JVM: OpenJDK 64-Bit Server VM\n",
       "Default Encoding: UTF-8\n",
       "Language: en\n",
       "Country: null\n",
       "--></g></svg>"
      ]
     },
     "execution_count": 50,
     "metadata": {},
     "output_type": "execute_result"
    }
   ],
   "source": [
    "%viz --style=\"TB\" --view=\"MIXED\" \"DependencyTest\""
   ]
  },
  {
   "cell_type": "code",
   "execution_count": 51,
   "id": "79568615",
   "metadata": {
    "execution": {
     "iopub.execute_input": "2022-02-05T16:52:52.681793Z",
     "iopub.status.busy": "2022-02-05T16:52:52.681402Z",
     "iopub.status.idle": "2022-02-05T16:52:52.708948Z",
     "shell.execute_reply": "2022-02-05T16:52:52.708605Z"
    }
   },
   "outputs": [
    {
     "data": {
      "image/svg+xml": [
       "<?xml version=\"1.0\" encoding=\"UTF-8\" standalone=\"no\"?><svg xmlns=\"http://www.w3.org/2000/svg\" xmlns:xlink=\"http://www.w3.org/1999/xlink\" contentScriptType=\"application/ecmascript\" contentStyleType=\"text/css\" height=\"449px\" preserveAspectRatio=\"none\" style=\"width:469px;height:449px;\" version=\"1.1\" viewBox=\"0 0 469 449\" width=\"469px\" zoomAndPan=\"magnify\"><defs/><g><!--MD5=[fbc87193dbaf4d95561dea2c320d4a47]\n",
       "cluster E1--><a href=\"psysml:30d47011-2b84-418c-8f66-5b5fafd7ed2a\" target=\"_top\" title=\"psysml:30d47011-2b84-418c-8f66-5b5fafd7ed2a\" xlink:actuate=\"onRequest\" xlink:href=\"psysml:30d47011-2b84-418c-8f66-5b5fafd7ed2a\" xlink:show=\"new\" xlink:title=\"psysml:30d47011-2b84-418c-8f66-5b5fafd7ed2a\" xlink:type=\"simple\"><polygon fill=\"#FFFFFF\" points=\"16,6,142,6,149,28.2969,447,28.2969,447,437,16,437,16,6\" style=\"stroke: #000000; stroke-width: 1.5;\"/><line style=\"stroke: #000000; stroke-width: 1.5;\" x1=\"16\" x2=\"149\" y1=\"28.2969\" y2=\"28.2969\"/><text fill=\"#000000\" font-family=\"sans-serif\" font-size=\"14\" font-weight=\"bold\" lengthAdjust=\"spacingAndGlyphs\" textLength=\"120\" x=\"20\" y=\"20.9951\">DependencyTest</text></a><!--MD5=[e4f7fae6ed58524ba242bb0b0d3be6b7]\n",
       "cluster E2--><a href=\"psysml:5fbdfa4d-cafa-4f51-92a0-0bd6c2ea6fbb\" target=\"_top\" title=\"psysml:5fbdfa4d-cafa-4f51-92a0-0bd6c2ea6fbb\" xlink:actuate=\"onRequest\" xlink:href=\"psysml:5fbdfa4d-cafa-4f51-92a0-0bd6c2ea6fbb\" xlink:show=\"new\" xlink:title=\"psysml:5fbdfa4d-cafa-4f51-92a0-0bd6c2ea6fbb\" xlink:type=\"simple\"><polygon fill=\"#FFFFFF\" points=\"255,49,312,49,319,71.2969,423,71.2969,423,413,255,413,255,49\" style=\"stroke: #000000; stroke-width: 1.5;\"/><line style=\"stroke: #000000; stroke-width: 1.5;\" x1=\"255\" x2=\"319\" y1=\"71.2969\" y2=\"71.2969\"/><text fill=\"#000000\" font-family=\"sans-serif\" font-size=\"14\" font-weight=\"bold\" lengthAdjust=\"spacingAndGlyphs\" textLength=\"51\" x=\"259\" y=\"63.9951\">System</text></a><!--MD5=[60a26617385b1d2d0262a64233df1f8d]\n",
       "class E6--><a href=\"psysml:3d7e11a6-324b-4ff0-8a6c-08a58aad852d\" target=\"_top\" title=\"psysml:3d7e11a6-324b-4ff0-8a6c-08a58aad852d\" xlink:actuate=\"onRequest\" xlink:href=\"psysml:3d7e11a6-324b-4ff0-8a6c-08a58aad852d\" xlink:show=\"new\" xlink:title=\"psysml:3d7e11a6-324b-4ff0-8a6c-08a58aad852d\" xlink:type=\"simple\"><rect fill=\"#FFFFFF\" height=\"45.9375\" id=\"E6\" rx=\"10\" ry=\"10\" style=\"stroke: #383838; stroke-width: 1.5;\" width=\"71\" x=\"32.5\" y=\"217.5\"/><text fill=\"#000000\" font-family=\"sans-serif\" font-size=\"12\" font-style=\"italic\" lengthAdjust=\"spacingAndGlyphs\" textLength=\"69\" x=\"33.5\" y=\"233.6387\">«attribute»</text><text fill=\"#000000\" font-family=\"sans-serif\" font-size=\"12\" lengthAdjust=\"spacingAndGlyphs\" textLength=\"6\" x=\"63\" y=\"247.6074\">x</text><line style=\"stroke: #383838; stroke-width: 1.5;\" x1=\"33.5\" x2=\"102.5\" y1=\"255.4375\" y2=\"255.4375\"/></a><!--MD5=[2156ba9850f5573cc1fc38a6a4b2f02b]\n",
       "class E7--><a href=\"psysml:07b9e1bd-21f7-4218-b4f9-b36b2d1ccf74\" target=\"_top\" title=\"psysml:07b9e1bd-21f7-4218-b4f9-b36b2d1ccf74\" xlink:actuate=\"onRequest\" xlink:href=\"psysml:07b9e1bd-21f7-4218-b4f9-b36b2d1ccf74\" xlink:show=\"new\" xlink:title=\"psysml:07b9e1bd-21f7-4218-b4f9-b36b2d1ccf74\" xlink:type=\"simple\"><rect fill=\"#FFFFFF\" height=\"45.9375\" id=\"E7\" rx=\"10\" ry=\"10\" style=\"stroke: #383838; stroke-width: 1.5;\" width=\"71\" x=\"138.5\" y=\"217.5\"/><text fill=\"#000000\" font-family=\"sans-serif\" font-size=\"12\" font-style=\"italic\" lengthAdjust=\"spacingAndGlyphs\" textLength=\"69\" x=\"139.5\" y=\"233.6387\">«attribute»</text><text fill=\"#000000\" font-family=\"sans-serif\" font-size=\"12\" lengthAdjust=\"spacingAndGlyphs\" textLength=\"6\" x=\"169\" y=\"247.6074\">y</text><line style=\"stroke: #383838; stroke-width: 1.5;\" x1=\"139.5\" x2=\"208.5\" y1=\"255.4375\" y2=\"255.4375\"/></a><!--MD5=[b9389687b975829384b498ac4b7476b2]\n",
       "class E8--><a href=\"psysml:44529a0f-a1ad-4493-b824-b4a46bdd708e\" target=\"_top\" title=\"psysml:44529a0f-a1ad-4493-b824-b4a46bdd708e\" xlink:actuate=\"onRequest\" xlink:href=\"psysml:44529a0f-a1ad-4493-b824-b4a46bdd708e\" xlink:show=\"new\" xlink:title=\"psysml:44529a0f-a1ad-4493-b824-b4a46bdd708e\" xlink:type=\"simple\"><rect fill=\"#FFFFFF\" height=\"45.9375\" id=\"E8\" rx=\"10\" ry=\"10\" style=\"stroke: #383838; stroke-width: 1.5;\" width=\"71\" x=\"84.5\" y=\"87.5\"/><text fill=\"#000000\" font-family=\"sans-serif\" font-size=\"12\" font-style=\"italic\" lengthAdjust=\"spacingAndGlyphs\" textLength=\"69\" x=\"85.5\" y=\"103.6387\">«attribute»</text><text fill=\"#000000\" font-family=\"sans-serif\" font-size=\"12\" lengthAdjust=\"spacingAndGlyphs\" textLength=\"5\" x=\"115.5\" y=\"117.6074\">z</text><line style=\"stroke: #383838; stroke-width: 1.5;\" x1=\"85.5\" x2=\"154.5\" y1=\"125.4375\" y2=\"125.4375\"/></a><a href=\"psysml:511969d3-37b8-4975-ad7d-d9be97a14b44\" target=\"_top\" title=\"psysml:511969d3-37b8-4975-ad7d-d9be97a14b44\" xlink:actuate=\"onRequest\" xlink:href=\"psysml:511969d3-37b8-4975-ad7d-d9be97a14b44\" xlink:show=\"new\" xlink:title=\"psysml:511969d3-37b8-4975-ad7d-d9be97a14b44\" xlink:type=\"simple\"><polygon fill=\"#FFFFFF\" points=\"271.5,84,392.5,84,399.5,106.2969,406.5,106.2969,406.5,136.5938,271.5,136.5938,271.5,84\" style=\"stroke: #000000; stroke-width: 1.5;\"/><line style=\"stroke: #000000; stroke-width: 1.5;\" x1=\"271.5\" x2=\"399.5\" y1=\"106.2969\" y2=\"106.2969\"/><text fill=\"#000000\" font-family=\"sans-serif\" font-size=\"14\" font-weight=\"bold\" lengthAdjust=\"spacingAndGlyphs\" textLength=\"115\" x=\"275.5\" y=\"98.9951\">Application Layer</text></a><a href=\"psysml:3811cf97-7daf-4e30-b445-d9788e80eae2\" target=\"_top\" title=\"psysml:3811cf97-7daf-4e30-b445-d9788e80eae2\" xlink:actuate=\"onRequest\" xlink:href=\"psysml:3811cf97-7daf-4e30-b445-d9788e80eae2\" xlink:show=\"new\" xlink:title=\"psysml:3811cf97-7daf-4e30-b445-d9788e80eae2\" xlink:type=\"simple\"><polygon fill=\"#FFFFFF\" points=\"284,214,380,214,387,236.2969,394,236.2969,394,266.5938,284,266.5938,284,214\" style=\"stroke: #000000; stroke-width: 1.5;\"/><line style=\"stroke: #000000; stroke-width: 1.5;\" x1=\"284\" x2=\"387\" y1=\"236.2969\" y2=\"236.2969\"/><text fill=\"#000000\" font-family=\"sans-serif\" font-size=\"14\" font-weight=\"bold\" lengthAdjust=\"spacingAndGlyphs\" textLength=\"90\" x=\"288\" y=\"228.9951\">Service Layer</text></a><a href=\"psysml:2c8fb347-f198-4aa6-806c-1c573edf927e\" target=\"_top\" title=\"psysml:2c8fb347-f198-4aa6-806c-1c573edf927e\" xlink:actuate=\"onRequest\" xlink:href=\"psysml:2c8fb347-f198-4aa6-806c-1c573edf927e\" xlink:show=\"new\" xlink:title=\"psysml:2c8fb347-f198-4aa6-806c-1c573edf927e\" xlink:type=\"simple\"><polygon fill=\"#FFFFFF\" points=\"293,344,371,344,378,366.2969,385,366.2969,385,396.5938,293,396.5938,293,344\" style=\"stroke: #000000; stroke-width: 1.5;\"/><line style=\"stroke: #000000; stroke-width: 1.5;\" x1=\"293\" x2=\"378\" y1=\"366.2969\" y2=\"366.2969\"/><text fill=\"#000000\" font-family=\"sans-serif\" font-size=\"14\" font-weight=\"bold\" lengthAdjust=\"spacingAndGlyphs\" textLength=\"72\" x=\"297\" y=\"358.9951\">Data Layer</text></a><!--MD5=[af87c684e3b0d8be13c1a698a818ef1e]\n",
       "link E3 to E4--><a href=\"psysml:973be101-d69f-4acb-a430-79bda88f318e\" target=\"_top\" title=\"psysml:973be101-d69f-4acb-a430-79bda88f318e\" xlink:actuate=\"onRequest\" xlink:href=\"psysml:973be101-d69f-4acb-a430-79bda88f318e\" xlink:show=\"new\" xlink:title=\"psysml:973be101-d69f-4acb-a430-79bda88f318e\" xlink:type=\"simple\"><path d=\"M339,137.12 C339,137.12 339,205.91 339,205.91 \" fill=\"none\" id=\"E3-&gt;E4\" style=\"stroke: #383838; stroke-width: 1.0; stroke-dasharray: 7.0,7.0;\"/><polygon fill=\"#383838\" points=\"339,213.91,342,205.91,336,205.91,339,213.91\" style=\"stroke: #383838; stroke-width: 1.0;\"/><text fill=\"#000000\" font-family=\"sans-serif\" font-size=\"13\" lengthAdjust=\"spacingAndGlyphs\" textLength=\"64\" x=\"340\" y=\"180.0669\">«depend»</text></a><!--MD5=[1b7591eae5389033d8d09a9d6721a717]\n",
       "link E4 to E5--><a href=\"psysml:418c7eed-60a4-47b0-a927-ef037a202312\" target=\"_top\" title=\"psysml:418c7eed-60a4-47b0-a927-ef037a202312\" xlink:actuate=\"onRequest\" xlink:href=\"psysml:418c7eed-60a4-47b0-a927-ef037a202312\" xlink:show=\"new\" xlink:title=\"psysml:418c7eed-60a4-47b0-a927-ef037a202312\" xlink:type=\"simple\"><path d=\"M339,267.12 C339,267.12 339,335.91 339,335.91 \" fill=\"none\" id=\"E4-&gt;E5\" style=\"stroke: #383838; stroke-width: 1.0; stroke-dasharray: 7.0,7.0;\"/><polygon fill=\"#383838\" points=\"339,343.91,342,335.91,336,335.91,339,343.91\" style=\"stroke: #383838; stroke-width: 1.0;\"/><text fill=\"#000000\" font-family=\"sans-serif\" font-size=\"13\" lengthAdjust=\"spacingAndGlyphs\" textLength=\"64\" x=\"340\" y=\"310.0669\">«depend»</text></a><!--MD5=[c5e8897d989ce984f93528998a7150fe]\n",
       "link E8 to E6--><a href=\"psysml:27e0873a-b752-4942-bd7f-ca0670289346\" target=\"_top\" title=\"psysml:27e0873a-b752-4942-bd7f-ca0670289346\" xlink:actuate=\"onRequest\" xlink:href=\"psysml:27e0873a-b752-4942-bd7f-ca0670289346\" xlink:show=\"new\" xlink:title=\"psysml:27e0873a-b752-4942-bd7f-ca0670289346\" xlink:type=\"simple\"><path d=\"M94,133.74 C94,133.74 94,209.46 94,209.46 \" fill=\"none\" id=\"E8-&gt;E6\" style=\"stroke: #383838; stroke-width: 1.0; stroke-dasharray: 7.0,7.0;\"/><polygon fill=\"#383838\" points=\"94,217.46,97,209.46,91,209.46,94,217.46\" style=\"stroke: #383838; stroke-width: 1.0;\"/><text fill=\"#000000\" font-family=\"sans-serif\" font-size=\"13\" lengthAdjust=\"spacingAndGlyphs\" textLength=\"64\" x=\"68\" y=\"180.0669\">«depend»</text></a><!--MD5=[bfa3c8b0d15052fdf50ae9310b491027]\n",
       "link E8 to E7--><a href=\"psysml:27e0873a-b752-4942-bd7f-ca0670289346\" target=\"_top\" title=\"psysml:27e0873a-b752-4942-bd7f-ca0670289346\" xlink:actuate=\"onRequest\" xlink:href=\"psysml:27e0873a-b752-4942-bd7f-ca0670289346\" xlink:show=\"new\" xlink:title=\"psysml:27e0873a-b752-4942-bd7f-ca0670289346\" xlink:type=\"simple\"><path d=\"M147,133.74 C147,133.74 147,209.46 147,209.46 \" fill=\"none\" id=\"E8-&gt;E7\" style=\"stroke: #383838; stroke-width: 1.0; stroke-dasharray: 7.0,7.0;\"/><polygon fill=\"#383838\" points=\"147,217.46,150,209.46,144,209.46,147,217.46\" style=\"stroke: #383838; stroke-width: 1.0;\"/><text fill=\"#000000\" font-family=\"sans-serif\" font-size=\"13\" lengthAdjust=\"spacingAndGlyphs\" textLength=\"64\" x=\"174\" y=\"180.0669\">«depend»</text></a><!--MD5=[4689da25d40b374011ae57e3ba6ef229]\n",
       "@startuml\r\n",
       "skinparam linetype ortho\r\n",
       "skinparam monochrome true\r\n",
       "skinparam classbackgroundcolor white\r\n",
       "skinparam shadowing false\r\n",
       "skinparam wrapWidth 300\r\n",
       "hide circle\r\n",
       "\r\n",
       "package \"DependencyTest\" as E1  [[psysml:30d47011-2b84-418c-8f66-5b5fafd7ed2a ]]  {\r\n",
       "package \"System\" as E2  [[psysml:5fbdfa4d-cafa-4f51-92a0-0bd6c2ea6fbb ]]  {\r\n",
       "package \"Application Layer\" as E3  [[psysml:511969d3-37b8-4975-ad7d-d9be97a14b44 ]]  {\r\n",
       "}\r\n",
       "package \"Service Layer\" as E4  [[psysml:3811cf97-7daf-4e30-b445-d9788e80eae2 ]]  {\r\n",
       "}\r\n",
       "package \"Data Layer\" as E5  [[psysml:2c8fb347-f198-4aa6-806c-1c573edf927e ]]  {\r\n",
       "}\r\n",
       "}\r\n",
       "comp usage \"x \" as E6  <<(T,blue) attribute>> [[psysml:3d7e11a6-324b-4ff0-8a6c-08a58aad852d ]] {\r\n",
       "}\r\n",
       "comp usage \"y \" as E7  <<(T,blue) attribute>> [[psysml:07b9e1bd-21f7-4218-b4f9-b36b2d1ccf74 ]] {\r\n",
       "}\r\n",
       "comp usage \"z \" as E8  <<(T,blue) attribute>> [[psysml:44529a0f-a1ad-4493-b824-b4a46bdd708e ]] {\r\n",
       "}\r\n",
       "}\r\n",
       "E3 ..>> E4 [[psysml:973be101-d69f-4acb-a430-79bda88f318e ]] : <<depend>>\r\n",
       "E4 ..>> E5 [[psysml:418c7eed-60a4-47b0-a927-ef037a202312 ]] : <<depend>>\r\n",
       "E8 ..>> E6 [[psysml:27e0873a-b752-4942-bd7f-ca0670289346 ]] : <<depend>>\r\n",
       "E8 ..>> E7 [[psysml:27e0873a-b752-4942-bd7f-ca0670289346 ]] : <<depend>>\r\n",
       "@enduml\r\n",
       "\n",
       "PlantUML version 1.2020.13(Sat Jun 13 12:26:38 UTC 2020)\n",
       "(EPL source distribution)\n",
       "Java Runtime: OpenJDK Runtime Environment\n",
       "JVM: OpenJDK 64-Bit Server VM\n",
       "Default Encoding: UTF-8\n",
       "Language: en\n",
       "Country: null\n",
       "--></g></svg>"
      ]
     },
     "execution_count": 51,
     "metadata": {},
     "output_type": "execute_result"
    }
   ],
   "source": [
    "%viz --style=\"ORTHOLINE\" --view=\"Default\" \"DependencyTest\""
   ]
  },
  {
   "cell_type": "code",
   "execution_count": 52,
   "id": "c4439cdb",
   "metadata": {
    "execution": {
     "iopub.execute_input": "2022-02-05T16:52:52.758582Z",
     "iopub.status.busy": "2022-02-05T16:52:52.758188Z",
     "iopub.status.idle": "2022-02-05T16:52:52.780290Z",
     "shell.execute_reply": "2022-02-05T16:52:52.779921Z"
    }
   },
   "outputs": [
    {
     "data": {
      "image/svg+xml": [
       "<?xml version=\"1.0\" encoding=\"UTF-8\" standalone=\"no\"?><svg xmlns=\"http://www.w3.org/2000/svg\" xmlns:xlink=\"http://www.w3.org/1999/xlink\" contentScriptType=\"application/ecmascript\" contentStyleType=\"text/css\" height=\"449px\" preserveAspectRatio=\"none\" style=\"width:469px;height:449px;\" version=\"1.1\" viewBox=\"0 0 469 449\" width=\"469px\" zoomAndPan=\"magnify\"><defs/><g><!--MD5=[fbc87193dbaf4d95561dea2c320d4a47]\n",
       "cluster E1--><a href=\"psysml:30d47011-2b84-418c-8f66-5b5fafd7ed2a\" target=\"_top\" title=\"psysml:30d47011-2b84-418c-8f66-5b5fafd7ed2a\" xlink:actuate=\"onRequest\" xlink:href=\"psysml:30d47011-2b84-418c-8f66-5b5fafd7ed2a\" xlink:show=\"new\" xlink:title=\"psysml:30d47011-2b84-418c-8f66-5b5fafd7ed2a\" xlink:type=\"simple\"><polygon fill=\"#FFFFFF\" points=\"16,6,142,6,149,28.2969,447,28.2969,447,437,16,437,16,6\" style=\"stroke: #000000; stroke-width: 1.5;\"/><line style=\"stroke: #000000; stroke-width: 1.5;\" x1=\"16\" x2=\"149\" y1=\"28.2969\" y2=\"28.2969\"/><text fill=\"#000000\" font-family=\"sans-serif\" font-size=\"14\" font-weight=\"bold\" lengthAdjust=\"spacingAndGlyphs\" textLength=\"120\" x=\"20\" y=\"20.9951\">DependencyTest</text></a><!--MD5=[e4f7fae6ed58524ba242bb0b0d3be6b7]\n",
       "cluster E2--><a href=\"psysml:5fbdfa4d-cafa-4f51-92a0-0bd6c2ea6fbb\" target=\"_top\" title=\"psysml:5fbdfa4d-cafa-4f51-92a0-0bd6c2ea6fbb\" xlink:actuate=\"onRequest\" xlink:href=\"psysml:5fbdfa4d-cafa-4f51-92a0-0bd6c2ea6fbb\" xlink:show=\"new\" xlink:title=\"psysml:5fbdfa4d-cafa-4f51-92a0-0bd6c2ea6fbb\" xlink:type=\"simple\"><polygon fill=\"#FFFFFF\" points=\"255,49,312,49,319,71.2969,423,71.2969,423,413,255,413,255,49\" style=\"stroke: #000000; stroke-width: 1.5;\"/><line style=\"stroke: #000000; stroke-width: 1.5;\" x1=\"255\" x2=\"319\" y1=\"71.2969\" y2=\"71.2969\"/><text fill=\"#000000\" font-family=\"sans-serif\" font-size=\"14\" font-weight=\"bold\" lengthAdjust=\"spacingAndGlyphs\" textLength=\"51\" x=\"259\" y=\"63.9951\">System</text></a><!--MD5=[60a26617385b1d2d0262a64233df1f8d]\n",
       "class E6--><a href=\"psysml:3d7e11a6-324b-4ff0-8a6c-08a58aad852d\" target=\"_top\" title=\"psysml:3d7e11a6-324b-4ff0-8a6c-08a58aad852d\" xlink:actuate=\"onRequest\" xlink:href=\"psysml:3d7e11a6-324b-4ff0-8a6c-08a58aad852d\" xlink:show=\"new\" xlink:title=\"psysml:3d7e11a6-324b-4ff0-8a6c-08a58aad852d\" xlink:type=\"simple\"><rect fill=\"#FFFFFF\" height=\"45.9375\" id=\"E6\" rx=\"10\" ry=\"10\" style=\"stroke: #383838; stroke-width: 1.5;\" width=\"71\" x=\"32.5\" y=\"217.5\"/><text fill=\"#000000\" font-family=\"sans-serif\" font-size=\"12\" font-style=\"italic\" lengthAdjust=\"spacingAndGlyphs\" textLength=\"69\" x=\"33.5\" y=\"233.6387\">«attribute»</text><text fill=\"#000000\" font-family=\"sans-serif\" font-size=\"12\" lengthAdjust=\"spacingAndGlyphs\" textLength=\"6\" x=\"63\" y=\"247.6074\">x</text><line style=\"stroke: #383838; stroke-width: 1.5;\" x1=\"33.5\" x2=\"102.5\" y1=\"255.4375\" y2=\"255.4375\"/></a><!--MD5=[2156ba9850f5573cc1fc38a6a4b2f02b]\n",
       "class E7--><a href=\"psysml:07b9e1bd-21f7-4218-b4f9-b36b2d1ccf74\" target=\"_top\" title=\"psysml:07b9e1bd-21f7-4218-b4f9-b36b2d1ccf74\" xlink:actuate=\"onRequest\" xlink:href=\"psysml:07b9e1bd-21f7-4218-b4f9-b36b2d1ccf74\" xlink:show=\"new\" xlink:title=\"psysml:07b9e1bd-21f7-4218-b4f9-b36b2d1ccf74\" xlink:type=\"simple\"><rect fill=\"#FFFFFF\" height=\"45.9375\" id=\"E7\" rx=\"10\" ry=\"10\" style=\"stroke: #383838; stroke-width: 1.5;\" width=\"71\" x=\"138.5\" y=\"217.5\"/><text fill=\"#000000\" font-family=\"sans-serif\" font-size=\"12\" font-style=\"italic\" lengthAdjust=\"spacingAndGlyphs\" textLength=\"69\" x=\"139.5\" y=\"233.6387\">«attribute»</text><text fill=\"#000000\" font-family=\"sans-serif\" font-size=\"12\" lengthAdjust=\"spacingAndGlyphs\" textLength=\"6\" x=\"169\" y=\"247.6074\">y</text><line style=\"stroke: #383838; stroke-width: 1.5;\" x1=\"139.5\" x2=\"208.5\" y1=\"255.4375\" y2=\"255.4375\"/></a><!--MD5=[b9389687b975829384b498ac4b7476b2]\n",
       "class E8--><a href=\"psysml:44529a0f-a1ad-4493-b824-b4a46bdd708e\" target=\"_top\" title=\"psysml:44529a0f-a1ad-4493-b824-b4a46bdd708e\" xlink:actuate=\"onRequest\" xlink:href=\"psysml:44529a0f-a1ad-4493-b824-b4a46bdd708e\" xlink:show=\"new\" xlink:title=\"psysml:44529a0f-a1ad-4493-b824-b4a46bdd708e\" xlink:type=\"simple\"><rect fill=\"#FFFFFF\" height=\"45.9375\" id=\"E8\" rx=\"10\" ry=\"10\" style=\"stroke: #383838; stroke-width: 1.5;\" width=\"71\" x=\"84.5\" y=\"87.5\"/><text fill=\"#000000\" font-family=\"sans-serif\" font-size=\"12\" font-style=\"italic\" lengthAdjust=\"spacingAndGlyphs\" textLength=\"69\" x=\"85.5\" y=\"103.6387\">«attribute»</text><text fill=\"#000000\" font-family=\"sans-serif\" font-size=\"12\" lengthAdjust=\"spacingAndGlyphs\" textLength=\"5\" x=\"115.5\" y=\"117.6074\">z</text><line style=\"stroke: #383838; stroke-width: 1.5;\" x1=\"85.5\" x2=\"154.5\" y1=\"125.4375\" y2=\"125.4375\"/></a><a href=\"psysml:511969d3-37b8-4975-ad7d-d9be97a14b44\" target=\"_top\" title=\"psysml:511969d3-37b8-4975-ad7d-d9be97a14b44\" xlink:actuate=\"onRequest\" xlink:href=\"psysml:511969d3-37b8-4975-ad7d-d9be97a14b44\" xlink:show=\"new\" xlink:title=\"psysml:511969d3-37b8-4975-ad7d-d9be97a14b44\" xlink:type=\"simple\"><polygon fill=\"#FFFFFF\" points=\"271.5,84,392.5,84,399.5,106.2969,406.5,106.2969,406.5,136.5938,271.5,136.5938,271.5,84\" style=\"stroke: #000000; stroke-width: 1.5;\"/><line style=\"stroke: #000000; stroke-width: 1.5;\" x1=\"271.5\" x2=\"399.5\" y1=\"106.2969\" y2=\"106.2969\"/><text fill=\"#000000\" font-family=\"sans-serif\" font-size=\"14\" font-weight=\"bold\" lengthAdjust=\"spacingAndGlyphs\" textLength=\"115\" x=\"275.5\" y=\"98.9951\">Application Layer</text></a><a href=\"psysml:3811cf97-7daf-4e30-b445-d9788e80eae2\" target=\"_top\" title=\"psysml:3811cf97-7daf-4e30-b445-d9788e80eae2\" xlink:actuate=\"onRequest\" xlink:href=\"psysml:3811cf97-7daf-4e30-b445-d9788e80eae2\" xlink:show=\"new\" xlink:title=\"psysml:3811cf97-7daf-4e30-b445-d9788e80eae2\" xlink:type=\"simple\"><polygon fill=\"#FFFFFF\" points=\"284,214,380,214,387,236.2969,394,236.2969,394,266.5938,284,266.5938,284,214\" style=\"stroke: #000000; stroke-width: 1.5;\"/><line style=\"stroke: #000000; stroke-width: 1.5;\" x1=\"284\" x2=\"387\" y1=\"236.2969\" y2=\"236.2969\"/><text fill=\"#000000\" font-family=\"sans-serif\" font-size=\"14\" font-weight=\"bold\" lengthAdjust=\"spacingAndGlyphs\" textLength=\"90\" x=\"288\" y=\"228.9951\">Service Layer</text></a><a href=\"psysml:2c8fb347-f198-4aa6-806c-1c573edf927e\" target=\"_top\" title=\"psysml:2c8fb347-f198-4aa6-806c-1c573edf927e\" xlink:actuate=\"onRequest\" xlink:href=\"psysml:2c8fb347-f198-4aa6-806c-1c573edf927e\" xlink:show=\"new\" xlink:title=\"psysml:2c8fb347-f198-4aa6-806c-1c573edf927e\" xlink:type=\"simple\"><polygon fill=\"#FFFFFF\" points=\"293,344,371,344,378,366.2969,385,366.2969,385,396.5938,293,396.5938,293,344\" style=\"stroke: #000000; stroke-width: 1.5;\"/><line style=\"stroke: #000000; stroke-width: 1.5;\" x1=\"293\" x2=\"378\" y1=\"366.2969\" y2=\"366.2969\"/><text fill=\"#000000\" font-family=\"sans-serif\" font-size=\"14\" font-weight=\"bold\" lengthAdjust=\"spacingAndGlyphs\" textLength=\"72\" x=\"297\" y=\"358.9951\">Data Layer</text></a><!--MD5=[af87c684e3b0d8be13c1a698a818ef1e]\n",
       "link E3 to E4--><a href=\"psysml:973be101-d69f-4acb-a430-79bda88f318e\" target=\"_top\" title=\"psysml:973be101-d69f-4acb-a430-79bda88f318e\" xlink:actuate=\"onRequest\" xlink:href=\"psysml:973be101-d69f-4acb-a430-79bda88f318e\" xlink:show=\"new\" xlink:title=\"psysml:973be101-d69f-4acb-a430-79bda88f318e\" xlink:type=\"simple\"><path d=\"M339,137.12 C339,137.12 339,205.91 339,205.91 \" fill=\"none\" id=\"E3-&gt;E4\" style=\"stroke: #383838; stroke-width: 1.0; stroke-dasharray: 7.0,7.0;\"/><polygon fill=\"#383838\" points=\"339,213.91,342,205.91,336,205.91,339,213.91\" style=\"stroke: #383838; stroke-width: 1.0;\"/><text fill=\"#000000\" font-family=\"sans-serif\" font-size=\"13\" lengthAdjust=\"spacingAndGlyphs\" textLength=\"64\" x=\"340\" y=\"180.0669\">«depend»</text></a><!--MD5=[1b7591eae5389033d8d09a9d6721a717]\n",
       "link E4 to E5--><a href=\"psysml:418c7eed-60a4-47b0-a927-ef037a202312\" target=\"_top\" title=\"psysml:418c7eed-60a4-47b0-a927-ef037a202312\" xlink:actuate=\"onRequest\" xlink:href=\"psysml:418c7eed-60a4-47b0-a927-ef037a202312\" xlink:show=\"new\" xlink:title=\"psysml:418c7eed-60a4-47b0-a927-ef037a202312\" xlink:type=\"simple\"><path d=\"M339,267.12 C339,267.12 339,335.91 339,335.91 \" fill=\"none\" id=\"E4-&gt;E5\" style=\"stroke: #383838; stroke-width: 1.0; stroke-dasharray: 7.0,7.0;\"/><polygon fill=\"#383838\" points=\"339,343.91,342,335.91,336,335.91,339,343.91\" style=\"stroke: #383838; stroke-width: 1.0;\"/><text fill=\"#000000\" font-family=\"sans-serif\" font-size=\"13\" lengthAdjust=\"spacingAndGlyphs\" textLength=\"64\" x=\"340\" y=\"310.0669\">«depend»</text></a><!--MD5=[c5e8897d989ce984f93528998a7150fe]\n",
       "link E8 to E6--><a href=\"psysml:27e0873a-b752-4942-bd7f-ca0670289346\" target=\"_top\" title=\"psysml:27e0873a-b752-4942-bd7f-ca0670289346\" xlink:actuate=\"onRequest\" xlink:href=\"psysml:27e0873a-b752-4942-bd7f-ca0670289346\" xlink:show=\"new\" xlink:title=\"psysml:27e0873a-b752-4942-bd7f-ca0670289346\" xlink:type=\"simple\"><path d=\"M94,133.74 C94,133.74 94,209.46 94,209.46 \" fill=\"none\" id=\"E8-&gt;E6\" style=\"stroke: #383838; stroke-width: 1.0; stroke-dasharray: 7.0,7.0;\"/><polygon fill=\"#383838\" points=\"94,217.46,97,209.46,91,209.46,94,217.46\" style=\"stroke: #383838; stroke-width: 1.0;\"/><text fill=\"#000000\" font-family=\"sans-serif\" font-size=\"13\" lengthAdjust=\"spacingAndGlyphs\" textLength=\"64\" x=\"68\" y=\"180.0669\">«depend»</text></a><!--MD5=[bfa3c8b0d15052fdf50ae9310b491027]\n",
       "link E8 to E7--><a href=\"psysml:27e0873a-b752-4942-bd7f-ca0670289346\" target=\"_top\" title=\"psysml:27e0873a-b752-4942-bd7f-ca0670289346\" xlink:actuate=\"onRequest\" xlink:href=\"psysml:27e0873a-b752-4942-bd7f-ca0670289346\" xlink:show=\"new\" xlink:title=\"psysml:27e0873a-b752-4942-bd7f-ca0670289346\" xlink:type=\"simple\"><path d=\"M147,133.74 C147,133.74 147,209.46 147,209.46 \" fill=\"none\" id=\"E8-&gt;E7\" style=\"stroke: #383838; stroke-width: 1.0; stroke-dasharray: 7.0,7.0;\"/><polygon fill=\"#383838\" points=\"147,217.46,150,209.46,144,209.46,147,217.46\" style=\"stroke: #383838; stroke-width: 1.0;\"/><text fill=\"#000000\" font-family=\"sans-serif\" font-size=\"13\" lengthAdjust=\"spacingAndGlyphs\" textLength=\"64\" x=\"174\" y=\"180.0669\">«depend»</text></a><!--MD5=[4689da25d40b374011ae57e3ba6ef229]\n",
       "@startuml\r\n",
       "skinparam linetype ortho\r\n",
       "skinparam monochrome true\r\n",
       "skinparam classbackgroundcolor white\r\n",
       "skinparam shadowing false\r\n",
       "skinparam wrapWidth 300\r\n",
       "hide circle\r\n",
       "\r\n",
       "package \"DependencyTest\" as E1  [[psysml:30d47011-2b84-418c-8f66-5b5fafd7ed2a ]]  {\r\n",
       "package \"System\" as E2  [[psysml:5fbdfa4d-cafa-4f51-92a0-0bd6c2ea6fbb ]]  {\r\n",
       "package \"Application Layer\" as E3  [[psysml:511969d3-37b8-4975-ad7d-d9be97a14b44 ]]  {\r\n",
       "}\r\n",
       "package \"Service Layer\" as E4  [[psysml:3811cf97-7daf-4e30-b445-d9788e80eae2 ]]  {\r\n",
       "}\r\n",
       "package \"Data Layer\" as E5  [[psysml:2c8fb347-f198-4aa6-806c-1c573edf927e ]]  {\r\n",
       "}\r\n",
       "}\r\n",
       "comp usage \"x \" as E6  <<(T,blue) attribute>> [[psysml:3d7e11a6-324b-4ff0-8a6c-08a58aad852d ]] {\r\n",
       "}\r\n",
       "comp usage \"y \" as E7  <<(T,blue) attribute>> [[psysml:07b9e1bd-21f7-4218-b4f9-b36b2d1ccf74 ]] {\r\n",
       "}\r\n",
       "comp usage \"z \" as E8  <<(T,blue) attribute>> [[psysml:44529a0f-a1ad-4493-b824-b4a46bdd708e ]] {\r\n",
       "}\r\n",
       "}\r\n",
       "E3 ..>> E4 [[psysml:973be101-d69f-4acb-a430-79bda88f318e ]] : <<depend>>\r\n",
       "E4 ..>> E5 [[psysml:418c7eed-60a4-47b0-a927-ef037a202312 ]] : <<depend>>\r\n",
       "E8 ..>> E6 [[psysml:27e0873a-b752-4942-bd7f-ca0670289346 ]] : <<depend>>\r\n",
       "E8 ..>> E7 [[psysml:27e0873a-b752-4942-bd7f-ca0670289346 ]] : <<depend>>\r\n",
       "@enduml\r\n",
       "\n",
       "PlantUML version 1.2020.13(Sat Jun 13 12:26:38 UTC 2020)\n",
       "(EPL source distribution)\n",
       "Java Runtime: OpenJDK Runtime Environment\n",
       "JVM: OpenJDK 64-Bit Server VM\n",
       "Default Encoding: UTF-8\n",
       "Language: en\n",
       "Country: null\n",
       "--></g></svg>"
      ]
     },
     "execution_count": 52,
     "metadata": {},
     "output_type": "execute_result"
    }
   ],
   "source": [
    "%viz --style=\"ORTHOLINE\" --view=\"Tree\" \"DependencyTest\""
   ]
  },
  {
   "cell_type": "code",
   "execution_count": 53,
   "id": "e7da86d9",
   "metadata": {
    "execution": {
     "iopub.execute_input": "2022-02-05T16:52:52.829839Z",
     "iopub.status.busy": "2022-02-05T16:52:52.829452Z",
     "iopub.status.idle": "2022-02-05T16:52:52.833458Z",
     "shell.execute_reply": "2022-02-05T16:52:52.833120Z"
    }
   },
   "outputs": [
    {
     "data": {
      "image/svg+xml": [
       "<?xml version=\"1.0\" encoding=\"UTF-8\" standalone=\"no\"?><svg xmlns=\"http://www.w3.org/2000/svg\" xmlns:xlink=\"http://www.w3.org/1999/xlink\" contentScriptType=\"application/ecmascript\" contentStyleType=\"text/css\" height=\"12px\" preserveAspectRatio=\"none\" style=\"width:12px;height:12px;\" version=\"1.1\" viewBox=\"0 0 12 12\" width=\"12px\" zoomAndPan=\"magnify\"><defs/><g><!--MD5=[97d6f38768b311333d388e66b2b27985]\n",
       "@startuml\r\n",
       "skinparam linetype ortho\r\n",
       "skinparam monochrome true\r\n",
       "skinparam classbackgroundcolor white\r\n",
       "skinparam shadowing false\r\n",
       "skinparam wrapWidth 300\r\n",
       "hide circle\r\n",
       "\r\n",
       "@enduml\r\n",
       "\n",
       "PlantUML version 1.2020.13(Sat Jun 13 12:26:38 UTC 2020)\n",
       "(EPL source distribution)\n",
       "Java Runtime: OpenJDK Runtime Environment\n",
       "JVM: OpenJDK 64-Bit Server VM\n",
       "Default Encoding: UTF-8\n",
       "Language: en\n",
       "Country: null\n",
       "--></g></svg>"
      ]
     },
     "execution_count": 53,
     "metadata": {},
     "output_type": "execute_result"
    }
   ],
   "source": [
    "%viz --style=\"ORTHOLINE\" --view=\"State\" \"DependencyTest\""
   ]
  },
  {
   "cell_type": "code",
   "execution_count": 54,
   "id": "77320747",
   "metadata": {
    "execution": {
     "iopub.execute_input": "2022-02-05T16:52:52.883245Z",
     "iopub.status.busy": "2022-02-05T16:52:52.882850Z",
     "iopub.status.idle": "2022-02-05T16:52:52.906620Z",
     "shell.execute_reply": "2022-02-05T16:52:52.906252Z"
    }
   },
   "outputs": [
    {
     "data": {
      "image/svg+xml": [
       "<?xml version=\"1.0\" encoding=\"UTF-8\" standalone=\"no\"?><svg xmlns=\"http://www.w3.org/2000/svg\" xmlns:xlink=\"http://www.w3.org/1999/xlink\" contentScriptType=\"application/ecmascript\" contentStyleType=\"text/css\" height=\"361px\" preserveAspectRatio=\"none\" style=\"width:469px;height:361px;\" version=\"1.1\" viewBox=\"0 0 469 361\" width=\"469px\" zoomAndPan=\"magnify\"><defs/><g><!--MD5=[fbc87193dbaf4d95561dea2c320d4a47]\n",
       "cluster E1--><a href=\"psysml:30d47011-2b84-418c-8f66-5b5fafd7ed2a\" target=\"_top\" title=\"psysml:30d47011-2b84-418c-8f66-5b5fafd7ed2a\" xlink:actuate=\"onRequest\" xlink:href=\"psysml:30d47011-2b84-418c-8f66-5b5fafd7ed2a\" xlink:show=\"new\" xlink:title=\"psysml:30d47011-2b84-418c-8f66-5b5fafd7ed2a\" xlink:type=\"simple\"><polygon fill=\"#FFFFFF\" points=\"16,6,142,6,149,28.2969,447,28.2969,447,349,16,349,16,6\" style=\"stroke: #000000; stroke-width: 1.5;\"/><line style=\"stroke: #000000; stroke-width: 1.5;\" x1=\"16\" x2=\"149\" y1=\"28.2969\" y2=\"28.2969\"/><text fill=\"#000000\" font-family=\"sans-serif\" font-size=\"14\" font-weight=\"bold\" lengthAdjust=\"spacingAndGlyphs\" textLength=\"120\" x=\"20\" y=\"20.9951\">DependencyTest</text></a><!--MD5=[e4f7fae6ed58524ba242bb0b0d3be6b7]\n",
       "cluster E2--><a href=\"psysml:5fbdfa4d-cafa-4f51-92a0-0bd6c2ea6fbb\" target=\"_top\" title=\"psysml:5fbdfa4d-cafa-4f51-92a0-0bd6c2ea6fbb\" xlink:actuate=\"onRequest\" xlink:href=\"psysml:5fbdfa4d-cafa-4f51-92a0-0bd6c2ea6fbb\" xlink:show=\"new\" xlink:title=\"psysml:5fbdfa4d-cafa-4f51-92a0-0bd6c2ea6fbb\" xlink:type=\"simple\"><polygon fill=\"#FFFFFF\" points=\"255,49,312,49,319,71.2969,423,71.2969,423,325,255,325,255,49\" style=\"stroke: #000000; stroke-width: 1.5;\"/><line style=\"stroke: #000000; stroke-width: 1.5;\" x1=\"255\" x2=\"319\" y1=\"71.2969\" y2=\"71.2969\"/><text fill=\"#000000\" font-family=\"sans-serif\" font-size=\"14\" font-weight=\"bold\" lengthAdjust=\"spacingAndGlyphs\" textLength=\"51\" x=\"259\" y=\"63.9951\">System</text></a><!--MD5=[60a26617385b1d2d0262a64233df1f8d]\n",
       "class E6--><a href=\"psysml:3d7e11a6-324b-4ff0-8a6c-08a58aad852d\" target=\"_top\" title=\"psysml:3d7e11a6-324b-4ff0-8a6c-08a58aad852d\" xlink:actuate=\"onRequest\" xlink:href=\"psysml:3d7e11a6-324b-4ff0-8a6c-08a58aad852d\" xlink:show=\"new\" xlink:title=\"psysml:3d7e11a6-324b-4ff0-8a6c-08a58aad852d\" xlink:type=\"simple\"><rect fill=\"#FFFFFF\" height=\"45.9375\" id=\"E6\" rx=\"10\" ry=\"10\" style=\"stroke: #383838; stroke-width: 1.5;\" width=\"71\" x=\"32.5\" y=\"173.5\"/><text fill=\"#000000\" font-family=\"sans-serif\" font-size=\"12\" font-style=\"italic\" lengthAdjust=\"spacingAndGlyphs\" textLength=\"69\" x=\"33.5\" y=\"189.6387\">«attribute»</text><text fill=\"#000000\" font-family=\"sans-serif\" font-size=\"12\" lengthAdjust=\"spacingAndGlyphs\" textLength=\"6\" x=\"63\" y=\"203.6074\">x</text><line style=\"stroke: #383838; stroke-width: 1.5;\" x1=\"33.5\" x2=\"102.5\" y1=\"211.4375\" y2=\"211.4375\"/></a><!--MD5=[2156ba9850f5573cc1fc38a6a4b2f02b]\n",
       "class E7--><a href=\"psysml:07b9e1bd-21f7-4218-b4f9-b36b2d1ccf74\" target=\"_top\" title=\"psysml:07b9e1bd-21f7-4218-b4f9-b36b2d1ccf74\" xlink:actuate=\"onRequest\" xlink:href=\"psysml:07b9e1bd-21f7-4218-b4f9-b36b2d1ccf74\" xlink:show=\"new\" xlink:title=\"psysml:07b9e1bd-21f7-4218-b4f9-b36b2d1ccf74\" xlink:type=\"simple\"><rect fill=\"#FFFFFF\" height=\"45.9375\" id=\"E7\" rx=\"10\" ry=\"10\" style=\"stroke: #383838; stroke-width: 1.5;\" width=\"71\" x=\"138.5\" y=\"173.5\"/><text fill=\"#000000\" font-family=\"sans-serif\" font-size=\"12\" font-style=\"italic\" lengthAdjust=\"spacingAndGlyphs\" textLength=\"69\" x=\"139.5\" y=\"189.6387\">«attribute»</text><text fill=\"#000000\" font-family=\"sans-serif\" font-size=\"12\" lengthAdjust=\"spacingAndGlyphs\" textLength=\"6\" x=\"169\" y=\"203.6074\">y</text><line style=\"stroke: #383838; stroke-width: 1.5;\" x1=\"139.5\" x2=\"208.5\" y1=\"211.4375\" y2=\"211.4375\"/></a><!--MD5=[b9389687b975829384b498ac4b7476b2]\n",
       "class E8--><a href=\"psysml:44529a0f-a1ad-4493-b824-b4a46bdd708e\" target=\"_top\" title=\"psysml:44529a0f-a1ad-4493-b824-b4a46bdd708e\" xlink:actuate=\"onRequest\" xlink:href=\"psysml:44529a0f-a1ad-4493-b824-b4a46bdd708e\" xlink:show=\"new\" xlink:title=\"psysml:44529a0f-a1ad-4493-b824-b4a46bdd708e\" xlink:type=\"simple\"><rect fill=\"#FFFFFF\" height=\"45.9375\" id=\"E8\" rx=\"10\" ry=\"10\" style=\"stroke: #383838; stroke-width: 1.5;\" width=\"71\" x=\"84.5\" y=\"87.5\"/><text fill=\"#000000\" font-family=\"sans-serif\" font-size=\"12\" font-style=\"italic\" lengthAdjust=\"spacingAndGlyphs\" textLength=\"69\" x=\"85.5\" y=\"103.6387\">«attribute»</text><text fill=\"#000000\" font-family=\"sans-serif\" font-size=\"12\" lengthAdjust=\"spacingAndGlyphs\" textLength=\"5\" x=\"115.5\" y=\"117.6074\">z</text><line style=\"stroke: #383838; stroke-width: 1.5;\" x1=\"85.5\" x2=\"154.5\" y1=\"125.4375\" y2=\"125.4375\"/></a><a href=\"psysml:511969d3-37b8-4975-ad7d-d9be97a14b44\" target=\"_top\" title=\"psysml:511969d3-37b8-4975-ad7d-d9be97a14b44\" xlink:actuate=\"onRequest\" xlink:href=\"psysml:511969d3-37b8-4975-ad7d-d9be97a14b44\" xlink:show=\"new\" xlink:title=\"psysml:511969d3-37b8-4975-ad7d-d9be97a14b44\" xlink:type=\"simple\"><polygon fill=\"#FFFFFF\" points=\"271.5,84,392.5,84,399.5,106.2969,406.5,106.2969,406.5,136.5938,271.5,136.5938,271.5,84\" style=\"stroke: #000000; stroke-width: 1.5;\"/><line style=\"stroke: #000000; stroke-width: 1.5;\" x1=\"271.5\" x2=\"399.5\" y1=\"106.2969\" y2=\"106.2969\"/><text fill=\"#000000\" font-family=\"sans-serif\" font-size=\"14\" font-weight=\"bold\" lengthAdjust=\"spacingAndGlyphs\" textLength=\"115\" x=\"275.5\" y=\"98.9951\">Application Layer</text></a><a href=\"psysml:3811cf97-7daf-4e30-b445-d9788e80eae2\" target=\"_top\" title=\"psysml:3811cf97-7daf-4e30-b445-d9788e80eae2\" xlink:actuate=\"onRequest\" xlink:href=\"psysml:3811cf97-7daf-4e30-b445-d9788e80eae2\" xlink:show=\"new\" xlink:title=\"psysml:3811cf97-7daf-4e30-b445-d9788e80eae2\" xlink:type=\"simple\"><polygon fill=\"#FFFFFF\" points=\"284,170,380,170,387,192.2969,394,192.2969,394,222.5938,284,222.5938,284,170\" style=\"stroke: #000000; stroke-width: 1.5;\"/><line style=\"stroke: #000000; stroke-width: 1.5;\" x1=\"284\" x2=\"387\" y1=\"192.2969\" y2=\"192.2969\"/><text fill=\"#000000\" font-family=\"sans-serif\" font-size=\"14\" font-weight=\"bold\" lengthAdjust=\"spacingAndGlyphs\" textLength=\"90\" x=\"288\" y=\"184.9951\">Service Layer</text></a><a href=\"psysml:2c8fb347-f198-4aa6-806c-1c573edf927e\" target=\"_top\" title=\"psysml:2c8fb347-f198-4aa6-806c-1c573edf927e\" xlink:actuate=\"onRequest\" xlink:href=\"psysml:2c8fb347-f198-4aa6-806c-1c573edf927e\" xlink:show=\"new\" xlink:title=\"psysml:2c8fb347-f198-4aa6-806c-1c573edf927e\" xlink:type=\"simple\"><polygon fill=\"#FFFFFF\" points=\"293,256,371,256,378,278.2969,385,278.2969,385,308.5938,293,308.5938,293,256\" style=\"stroke: #000000; stroke-width: 1.5;\"/><line style=\"stroke: #000000; stroke-width: 1.5;\" x1=\"293\" x2=\"378\" y1=\"278.2969\" y2=\"278.2969\"/><text fill=\"#000000\" font-family=\"sans-serif\" font-size=\"14\" font-weight=\"bold\" lengthAdjust=\"spacingAndGlyphs\" textLength=\"72\" x=\"297\" y=\"270.9951\">Data Layer</text></a><!--MD5=[af87c684e3b0d8be13c1a698a818ef1e]\n",
       "link E3 to E4--><a href=\"psysml:973be101-d69f-4acb-a430-79bda88f318e\" target=\"_top\" title=\"psysml:973be101-d69f-4acb-a430-79bda88f318e\" xlink:actuate=\"onRequest\" xlink:href=\"psysml:973be101-d69f-4acb-a430-79bda88f318e\" xlink:show=\"new\" xlink:title=\"psysml:973be101-d69f-4acb-a430-79bda88f318e\" xlink:type=\"simple\"><path d=\"M339,137.24 C339,137.24 339,161.78 339,161.78 \" fill=\"none\" id=\"E3-&gt;E4\" style=\"stroke: #383838; stroke-width: 1.0; stroke-dasharray: 7.0,7.0;\"/><polygon fill=\"#383838\" points=\"339,169.78,342,161.78,336,161.78,339,169.78\" style=\"stroke: #383838; stroke-width: 1.0;\"/><text fill=\"#000000\" font-family=\"sans-serif\" font-size=\"13\" lengthAdjust=\"spacingAndGlyphs\" textLength=\"64\" x=\"340\" y=\"158.0669\">«depend»</text></a><!--MD5=[1b7591eae5389033d8d09a9d6721a717]\n",
       "link E4 to E5--><a href=\"psysml:418c7eed-60a4-47b0-a927-ef037a202312\" target=\"_top\" title=\"psysml:418c7eed-60a4-47b0-a927-ef037a202312\" xlink:actuate=\"onRequest\" xlink:href=\"psysml:418c7eed-60a4-47b0-a927-ef037a202312\" xlink:show=\"new\" xlink:title=\"psysml:418c7eed-60a4-47b0-a927-ef037a202312\" xlink:type=\"simple\"><path d=\"M339,223.24 C339,223.24 339,247.78 339,247.78 \" fill=\"none\" id=\"E4-&gt;E5\" style=\"stroke: #383838; stroke-width: 1.0; stroke-dasharray: 7.0,7.0;\"/><polygon fill=\"#383838\" points=\"339,255.78,342,247.78,336,247.78,339,255.78\" style=\"stroke: #383838; stroke-width: 1.0;\"/><text fill=\"#000000\" font-family=\"sans-serif\" font-size=\"13\" lengthAdjust=\"spacingAndGlyphs\" textLength=\"64\" x=\"340\" y=\"244.0669\">«depend»</text></a><!--MD5=[c5e8897d989ce984f93528998a7150fe]\n",
       "link E8 to E6--><a href=\"psysml:27e0873a-b752-4942-bd7f-ca0670289346\" target=\"_top\" title=\"psysml:27e0873a-b752-4942-bd7f-ca0670289346\" xlink:actuate=\"onRequest\" xlink:href=\"psysml:27e0873a-b752-4942-bd7f-ca0670289346\" xlink:show=\"new\" xlink:title=\"psysml:27e0873a-b752-4942-bd7f-ca0670289346\" xlink:type=\"simple\"><path d=\"M94,133.55 C94,133.55 94,165.39 94,165.39 \" fill=\"none\" id=\"E8-&gt;E6\" style=\"stroke: #383838; stroke-width: 1.0; stroke-dasharray: 7.0,7.0;\"/><polygon fill=\"#383838\" points=\"94,173.39,97,165.39,91,165.39,94,173.39\" style=\"stroke: #383838; stroke-width: 1.0;\"/><text fill=\"#000000\" font-family=\"sans-serif\" font-size=\"13\" lengthAdjust=\"spacingAndGlyphs\" textLength=\"64\" x=\"68\" y=\"158.0669\">«depend»</text></a><!--MD5=[bfa3c8b0d15052fdf50ae9310b491027]\n",
       "link E8 to E7--><a href=\"psysml:27e0873a-b752-4942-bd7f-ca0670289346\" target=\"_top\" title=\"psysml:27e0873a-b752-4942-bd7f-ca0670289346\" xlink:actuate=\"onRequest\" xlink:href=\"psysml:27e0873a-b752-4942-bd7f-ca0670289346\" xlink:show=\"new\" xlink:title=\"psysml:27e0873a-b752-4942-bd7f-ca0670289346\" xlink:type=\"simple\"><path d=\"M147,133.55 C147,133.55 147,165.39 147,165.39 \" fill=\"none\" id=\"E8-&gt;E7\" style=\"stroke: #383838; stroke-width: 1.0; stroke-dasharray: 7.0,7.0;\"/><polygon fill=\"#383838\" points=\"147,173.39,150,165.39,144,165.39,147,173.39\" style=\"stroke: #383838; stroke-width: 1.0;\"/><text fill=\"#000000\" font-family=\"sans-serif\" font-size=\"13\" lengthAdjust=\"spacingAndGlyphs\" textLength=\"64\" x=\"174\" y=\"158.0669\">«depend»</text></a><!--MD5=[39cdf8937f32b52bea6e46f7db1a712b]\n",
       "@startuml\r\n",
       "skinparam ranksep 10\r\n",
       "skinparam rectangle {\r\n",
       " backgroundColor<<block>> LightGreen\r\n",
       "}\r\n",
       "skinparam linetype ortho\r\n",
       "skinparam monochrome true\r\n",
       "skinparam classbackgroundcolor white\r\n",
       "skinparam shadowing false\r\n",
       "skinparam wrapWidth 300\r\n",
       "hide circle\r\n",
       "\r\n",
       "package \"DependencyTest\" as E1  [[psysml:30d47011-2b84-418c-8f66-5b5fafd7ed2a ]]  {\r\n",
       "package \"System\" as E2  [[psysml:5fbdfa4d-cafa-4f51-92a0-0bd6c2ea6fbb ]]  {\r\n",
       "package \"Application Layer\" as E3  [[psysml:511969d3-37b8-4975-ad7d-d9be97a14b44 ]]  {\r\n",
       "}\r\n",
       "package \"Service Layer\" as E4  [[psysml:3811cf97-7daf-4e30-b445-d9788e80eae2 ]]  {\r\n",
       "}\r\n",
       "package \"Data Layer\" as E5  [[psysml:2c8fb347-f198-4aa6-806c-1c573edf927e ]]  {\r\n",
       "}\r\n",
       "}\r\n",
       "comp usage \"x \" as E6  <<(T,blue) attribute>> [[psysml:3d7e11a6-324b-4ff0-8a6c-08a58aad852d ]] {\r\n",
       "}\r\n",
       "comp usage \"y \" as E7  <<(T,blue) attribute>> [[psysml:07b9e1bd-21f7-4218-b4f9-b36b2d1ccf74 ]] {\r\n",
       "}\r\n",
       "comp usage \"z \" as E8  <<(T,blue) attribute>> [[psysml:44529a0f-a1ad-4493-b824-b4a46bdd708e ]] {\r\n",
       "}\r\n",
       "}\r\n",
       "E3 ..>> E4 [[psysml:973be101-d69f-4acb-a430-79bda88f318e ]] : <<depend>>\r\n",
       "E4 ..>> E5 [[psysml:418c7eed-60a4-47b0-a927-ef037a202312 ]] : <<depend>>\r\n",
       "E8 ..>> E6 [[psysml:27e0873a-b752-4942-bd7f-ca0670289346 ]] : <<depend>>\r\n",
       "E8 ..>> E7 [[psysml:27e0873a-b752-4942-bd7f-ca0670289346 ]] : <<depend>>\r\n",
       "@enduml\r\n",
       "\n",
       "PlantUML version 1.2020.13(Sat Jun 13 12:26:38 UTC 2020)\n",
       "(EPL source distribution)\n",
       "Java Runtime: OpenJDK Runtime Environment\n",
       "JVM: OpenJDK 64-Bit Server VM\n",
       "Default Encoding: UTF-8\n",
       "Language: en\n",
       "Country: null\n",
       "--></g></svg>"
      ]
     },
     "execution_count": 54,
     "metadata": {},
     "output_type": "execute_result"
    }
   ],
   "source": [
    "%viz --style=\"ORTHOLINE\" --view=\"Interconnection\" \"DependencyTest\""
   ]
  },
  {
   "cell_type": "code",
   "execution_count": 55,
   "id": "d48318cc",
   "metadata": {
    "execution": {
     "iopub.execute_input": "2022-02-05T16:52:52.956302Z",
     "iopub.status.busy": "2022-02-05T16:52:52.955910Z",
     "iopub.status.idle": "2022-02-05T16:52:52.960686Z",
     "shell.execute_reply": "2022-02-05T16:52:52.960341Z"
    }
   },
   "outputs": [
    {
     "data": {
      "image/svg+xml": [
       "<?xml version=\"1.0\" encoding=\"UTF-8\" standalone=\"no\"?><svg xmlns=\"http://www.w3.org/2000/svg\" xmlns:xlink=\"http://www.w3.org/1999/xlink\" contentScriptType=\"application/ecmascript\" contentStyleType=\"text/css\" height=\"12px\" preserveAspectRatio=\"none\" style=\"width:12px;height:12px;\" version=\"1.1\" viewBox=\"0 0 12 12\" width=\"12px\" zoomAndPan=\"magnify\"><defs/><g><!--MD5=[72934c63077099a26744516a776b4749]\n",
       "@startuml\r\n",
       "skinparam ranksep 8\r\n",
       "skinparam linetype ortho\r\n",
       "skinparam monochrome true\r\n",
       "skinparam classbackgroundcolor white\r\n",
       "skinparam shadowing false\r\n",
       "skinparam wrapWidth 300\r\n",
       "hide circle\r\n",
       "\r\n",
       "@enduml\r\n",
       "\n",
       "PlantUML version 1.2020.13(Sat Jun 13 12:26:38 UTC 2020)\n",
       "(EPL source distribution)\n",
       "Java Runtime: OpenJDK Runtime Environment\n",
       "JVM: OpenJDK 64-Bit Server VM\n",
       "Default Encoding: UTF-8\n",
       "Language: en\n",
       "Country: null\n",
       "--></g></svg>"
      ]
     },
     "execution_count": 55,
     "metadata": {},
     "output_type": "execute_result"
    }
   ],
   "source": [
    "%viz --style=\"ORTHOLINE\" --view=\"Action\" \"DependencyTest\""
   ]
  },
  {
   "cell_type": "code",
   "execution_count": 56,
   "id": "da53d828",
   "metadata": {
    "execution": {
     "iopub.execute_input": "2022-02-05T16:52:53.010263Z",
     "iopub.status.busy": "2022-02-05T16:52:53.009869Z",
     "iopub.status.idle": "2022-02-05T16:52:53.013372Z",
     "shell.execute_reply": "2022-02-05T16:52:53.013027Z"
    }
   },
   "outputs": [
    {
     "data": {
      "image/svg+xml": [
       "<?xml version=\"1.0\" encoding=\"UTF-8\" standalone=\"no\"?><svg xmlns=\"http://www.w3.org/2000/svg\" xmlns:xlink=\"http://www.w3.org/1999/xlink\" contentScriptType=\"application/ecmascript\" contentStyleType=\"text/css\" height=\"12px\" preserveAspectRatio=\"none\" style=\"width:12px;height:12px;\" version=\"1.1\" viewBox=\"0 0 12 12\" width=\"12px\" zoomAndPan=\"magnify\"><defs/><g><!--MD5=[30fc1de5121c5abddedd55b44417fde8]\n",
       "@startuml\r\n",
       "skinparam roundcorner 20\r\n",
       "skinparam BoxPadding 20\r\n",
       "skinparam SequenceBoxBackgroundColor #white\r\n",
       "skinparam style strictuml\r\n",
       "skinparam maxMessageSize 100\r\n",
       "skinparam linetype ortho\r\n",
       "skinparam monochrome true\r\n",
       "skinparam classbackgroundcolor white\r\n",
       "skinparam shadowing false\r\n",
       "skinparam wrapWidth 300\r\n",
       "hide circle\r\n",
       "\r\n",
       "@enduml\r\n",
       "\n",
       "PlantUML version 1.2020.13(Sat Jun 13 12:26:38 UTC 2020)\n",
       "(EPL source distribution)\n",
       "Java Runtime: OpenJDK Runtime Environment\n",
       "JVM: OpenJDK 64-Bit Server VM\n",
       "Default Encoding: UTF-8\n",
       "Language: en\n",
       "Country: null\n",
       "--></g></svg>"
      ]
     },
     "execution_count": 56,
     "metadata": {},
     "output_type": "execute_result"
    }
   ],
   "source": [
    "%viz --style=\"ORTHOLINE\" --view=\"Sequence\" \"DependencyTest\""
   ]
  },
  {
   "cell_type": "code",
   "execution_count": 57,
   "id": "8222cfa8",
   "metadata": {
    "execution": {
     "iopub.execute_input": "2022-02-05T16:52:53.063374Z",
     "iopub.status.busy": "2022-02-05T16:52:53.062967Z",
     "iopub.status.idle": "2022-02-05T16:52:53.094926Z",
     "shell.execute_reply": "2022-02-05T16:52:53.094581Z"
    }
   },
   "outputs": [
    {
     "data": {
      "image/svg+xml": [
       "<?xml version=\"1.0\" encoding=\"UTF-8\" standalone=\"no\"?><svg xmlns=\"http://www.w3.org/2000/svg\" xmlns:xlink=\"http://www.w3.org/1999/xlink\" contentScriptType=\"application/ecmascript\" contentStyleType=\"text/css\" height=\"449px\" preserveAspectRatio=\"none\" style=\"width:469px;height:449px;\" version=\"1.1\" viewBox=\"0 0 469 449\" width=\"469px\" zoomAndPan=\"magnify\"><defs/><g><!--MD5=[fbc87193dbaf4d95561dea2c320d4a47]\n",
       "cluster E1--><a href=\"psysml:30d47011-2b84-418c-8f66-5b5fafd7ed2a\" target=\"_top\" title=\"psysml:30d47011-2b84-418c-8f66-5b5fafd7ed2a\" xlink:actuate=\"onRequest\" xlink:href=\"psysml:30d47011-2b84-418c-8f66-5b5fafd7ed2a\" xlink:show=\"new\" xlink:title=\"psysml:30d47011-2b84-418c-8f66-5b5fafd7ed2a\" xlink:type=\"simple\"><polygon fill=\"#FFFFFF\" points=\"16,6,142,6,149,28.2969,447,28.2969,447,437,16,437,16,6\" style=\"stroke: #000000; stroke-width: 1.5;\"/><line style=\"stroke: #000000; stroke-width: 1.5;\" x1=\"16\" x2=\"149\" y1=\"28.2969\" y2=\"28.2969\"/><text fill=\"#000000\" font-family=\"sans-serif\" font-size=\"14\" font-weight=\"bold\" lengthAdjust=\"spacingAndGlyphs\" textLength=\"120\" x=\"20\" y=\"20.9951\">DependencyTest</text></a><!--MD5=[e4f7fae6ed58524ba242bb0b0d3be6b7]\n",
       "cluster E2--><a href=\"psysml:5fbdfa4d-cafa-4f51-92a0-0bd6c2ea6fbb\" target=\"_top\" title=\"psysml:5fbdfa4d-cafa-4f51-92a0-0bd6c2ea6fbb\" xlink:actuate=\"onRequest\" xlink:href=\"psysml:5fbdfa4d-cafa-4f51-92a0-0bd6c2ea6fbb\" xlink:show=\"new\" xlink:title=\"psysml:5fbdfa4d-cafa-4f51-92a0-0bd6c2ea6fbb\" xlink:type=\"simple\"><polygon fill=\"#FFFFFF\" points=\"255,49,312,49,319,71.2969,423,71.2969,423,413,255,413,255,49\" style=\"stroke: #000000; stroke-width: 1.5;\"/><line style=\"stroke: #000000; stroke-width: 1.5;\" x1=\"255\" x2=\"319\" y1=\"71.2969\" y2=\"71.2969\"/><text fill=\"#000000\" font-family=\"sans-serif\" font-size=\"14\" font-weight=\"bold\" lengthAdjust=\"spacingAndGlyphs\" textLength=\"51\" x=\"259\" y=\"63.9951\">System</text></a><!--MD5=[60a26617385b1d2d0262a64233df1f8d]\n",
       "class E6--><a href=\"psysml:3d7e11a6-324b-4ff0-8a6c-08a58aad852d\" target=\"_top\" title=\"psysml:3d7e11a6-324b-4ff0-8a6c-08a58aad852d\" xlink:actuate=\"onRequest\" xlink:href=\"psysml:3d7e11a6-324b-4ff0-8a6c-08a58aad852d\" xlink:show=\"new\" xlink:title=\"psysml:3d7e11a6-324b-4ff0-8a6c-08a58aad852d\" xlink:type=\"simple\"><rect fill=\"#FFFFFF\" height=\"45.9375\" id=\"E6\" rx=\"10\" ry=\"10\" style=\"stroke: #383838; stroke-width: 1.5;\" width=\"71\" x=\"32.5\" y=\"217.5\"/><text fill=\"#000000\" font-family=\"sans-serif\" font-size=\"12\" font-style=\"italic\" lengthAdjust=\"spacingAndGlyphs\" textLength=\"69\" x=\"33.5\" y=\"233.6387\">«attribute»</text><text fill=\"#000000\" font-family=\"sans-serif\" font-size=\"12\" lengthAdjust=\"spacingAndGlyphs\" textLength=\"6\" x=\"63\" y=\"247.6074\">x</text><line style=\"stroke: #383838; stroke-width: 1.5;\" x1=\"33.5\" x2=\"102.5\" y1=\"255.4375\" y2=\"255.4375\"/></a><!--MD5=[2156ba9850f5573cc1fc38a6a4b2f02b]\n",
       "class E7--><a href=\"psysml:07b9e1bd-21f7-4218-b4f9-b36b2d1ccf74\" target=\"_top\" title=\"psysml:07b9e1bd-21f7-4218-b4f9-b36b2d1ccf74\" xlink:actuate=\"onRequest\" xlink:href=\"psysml:07b9e1bd-21f7-4218-b4f9-b36b2d1ccf74\" xlink:show=\"new\" xlink:title=\"psysml:07b9e1bd-21f7-4218-b4f9-b36b2d1ccf74\" xlink:type=\"simple\"><rect fill=\"#FFFFFF\" height=\"45.9375\" id=\"E7\" rx=\"10\" ry=\"10\" style=\"stroke: #383838; stroke-width: 1.5;\" width=\"71\" x=\"138.5\" y=\"217.5\"/><text fill=\"#000000\" font-family=\"sans-serif\" font-size=\"12\" font-style=\"italic\" lengthAdjust=\"spacingAndGlyphs\" textLength=\"69\" x=\"139.5\" y=\"233.6387\">«attribute»</text><text fill=\"#000000\" font-family=\"sans-serif\" font-size=\"12\" lengthAdjust=\"spacingAndGlyphs\" textLength=\"6\" x=\"169\" y=\"247.6074\">y</text><line style=\"stroke: #383838; stroke-width: 1.5;\" x1=\"139.5\" x2=\"208.5\" y1=\"255.4375\" y2=\"255.4375\"/></a><!--MD5=[b9389687b975829384b498ac4b7476b2]\n",
       "class E8--><a href=\"psysml:44529a0f-a1ad-4493-b824-b4a46bdd708e\" target=\"_top\" title=\"psysml:44529a0f-a1ad-4493-b824-b4a46bdd708e\" xlink:actuate=\"onRequest\" xlink:href=\"psysml:44529a0f-a1ad-4493-b824-b4a46bdd708e\" xlink:show=\"new\" xlink:title=\"psysml:44529a0f-a1ad-4493-b824-b4a46bdd708e\" xlink:type=\"simple\"><rect fill=\"#FFFFFF\" height=\"45.9375\" id=\"E8\" rx=\"10\" ry=\"10\" style=\"stroke: #383838; stroke-width: 1.5;\" width=\"71\" x=\"84.5\" y=\"87.5\"/><text fill=\"#000000\" font-family=\"sans-serif\" font-size=\"12\" font-style=\"italic\" lengthAdjust=\"spacingAndGlyphs\" textLength=\"69\" x=\"85.5\" y=\"103.6387\">«attribute»</text><text fill=\"#000000\" font-family=\"sans-serif\" font-size=\"12\" lengthAdjust=\"spacingAndGlyphs\" textLength=\"5\" x=\"115.5\" y=\"117.6074\">z</text><line style=\"stroke: #383838; stroke-width: 1.5;\" x1=\"85.5\" x2=\"154.5\" y1=\"125.4375\" y2=\"125.4375\"/></a><a href=\"psysml:511969d3-37b8-4975-ad7d-d9be97a14b44\" target=\"_top\" title=\"psysml:511969d3-37b8-4975-ad7d-d9be97a14b44\" xlink:actuate=\"onRequest\" xlink:href=\"psysml:511969d3-37b8-4975-ad7d-d9be97a14b44\" xlink:show=\"new\" xlink:title=\"psysml:511969d3-37b8-4975-ad7d-d9be97a14b44\" xlink:type=\"simple\"><polygon fill=\"#FFFFFF\" points=\"271.5,84,392.5,84,399.5,106.2969,406.5,106.2969,406.5,136.5938,271.5,136.5938,271.5,84\" style=\"stroke: #000000; stroke-width: 1.5;\"/><line style=\"stroke: #000000; stroke-width: 1.5;\" x1=\"271.5\" x2=\"399.5\" y1=\"106.2969\" y2=\"106.2969\"/><text fill=\"#000000\" font-family=\"sans-serif\" font-size=\"14\" font-weight=\"bold\" lengthAdjust=\"spacingAndGlyphs\" textLength=\"115\" x=\"275.5\" y=\"98.9951\">Application Layer</text></a><a href=\"psysml:3811cf97-7daf-4e30-b445-d9788e80eae2\" target=\"_top\" title=\"psysml:3811cf97-7daf-4e30-b445-d9788e80eae2\" xlink:actuate=\"onRequest\" xlink:href=\"psysml:3811cf97-7daf-4e30-b445-d9788e80eae2\" xlink:show=\"new\" xlink:title=\"psysml:3811cf97-7daf-4e30-b445-d9788e80eae2\" xlink:type=\"simple\"><polygon fill=\"#FFFFFF\" points=\"284,214,380,214,387,236.2969,394,236.2969,394,266.5938,284,266.5938,284,214\" style=\"stroke: #000000; stroke-width: 1.5;\"/><line style=\"stroke: #000000; stroke-width: 1.5;\" x1=\"284\" x2=\"387\" y1=\"236.2969\" y2=\"236.2969\"/><text fill=\"#000000\" font-family=\"sans-serif\" font-size=\"14\" font-weight=\"bold\" lengthAdjust=\"spacingAndGlyphs\" textLength=\"90\" x=\"288\" y=\"228.9951\">Service Layer</text></a><a href=\"psysml:2c8fb347-f198-4aa6-806c-1c573edf927e\" target=\"_top\" title=\"psysml:2c8fb347-f198-4aa6-806c-1c573edf927e\" xlink:actuate=\"onRequest\" xlink:href=\"psysml:2c8fb347-f198-4aa6-806c-1c573edf927e\" xlink:show=\"new\" xlink:title=\"psysml:2c8fb347-f198-4aa6-806c-1c573edf927e\" xlink:type=\"simple\"><polygon fill=\"#FFFFFF\" points=\"293,344,371,344,378,366.2969,385,366.2969,385,396.5938,293,396.5938,293,344\" style=\"stroke: #000000; stroke-width: 1.5;\"/><line style=\"stroke: #000000; stroke-width: 1.5;\" x1=\"293\" x2=\"378\" y1=\"366.2969\" y2=\"366.2969\"/><text fill=\"#000000\" font-family=\"sans-serif\" font-size=\"14\" font-weight=\"bold\" lengthAdjust=\"spacingAndGlyphs\" textLength=\"72\" x=\"297\" y=\"358.9951\">Data Layer</text></a><!--MD5=[af87c684e3b0d8be13c1a698a818ef1e]\n",
       "link E3 to E4--><a href=\"psysml:973be101-d69f-4acb-a430-79bda88f318e\" target=\"_top\" title=\"psysml:973be101-d69f-4acb-a430-79bda88f318e\" xlink:actuate=\"onRequest\" xlink:href=\"psysml:973be101-d69f-4acb-a430-79bda88f318e\" xlink:show=\"new\" xlink:title=\"psysml:973be101-d69f-4acb-a430-79bda88f318e\" xlink:type=\"simple\"><path d=\"M339,137.12 C339,137.12 339,205.91 339,205.91 \" fill=\"none\" id=\"E3-&gt;E4\" style=\"stroke: #383838; stroke-width: 1.0; stroke-dasharray: 7.0,7.0;\"/><polygon fill=\"#383838\" points=\"339,213.91,342,205.91,336,205.91,339,213.91\" style=\"stroke: #383838; stroke-width: 1.0;\"/><text fill=\"#000000\" font-family=\"sans-serif\" font-size=\"13\" lengthAdjust=\"spacingAndGlyphs\" textLength=\"64\" x=\"340\" y=\"180.0669\">«depend»</text></a><!--MD5=[1b7591eae5389033d8d09a9d6721a717]\n",
       "link E4 to E5--><a href=\"psysml:418c7eed-60a4-47b0-a927-ef037a202312\" target=\"_top\" title=\"psysml:418c7eed-60a4-47b0-a927-ef037a202312\" xlink:actuate=\"onRequest\" xlink:href=\"psysml:418c7eed-60a4-47b0-a927-ef037a202312\" xlink:show=\"new\" xlink:title=\"psysml:418c7eed-60a4-47b0-a927-ef037a202312\" xlink:type=\"simple\"><path d=\"M339,267.12 C339,267.12 339,335.91 339,335.91 \" fill=\"none\" id=\"E4-&gt;E5\" style=\"stroke: #383838; stroke-width: 1.0; stroke-dasharray: 7.0,7.0;\"/><polygon fill=\"#383838\" points=\"339,343.91,342,335.91,336,335.91,339,343.91\" style=\"stroke: #383838; stroke-width: 1.0;\"/><text fill=\"#000000\" font-family=\"sans-serif\" font-size=\"13\" lengthAdjust=\"spacingAndGlyphs\" textLength=\"64\" x=\"340\" y=\"310.0669\">«depend»</text></a><!--MD5=[c5e8897d989ce984f93528998a7150fe]\n",
       "link E8 to E6--><a href=\"psysml:27e0873a-b752-4942-bd7f-ca0670289346\" target=\"_top\" title=\"psysml:27e0873a-b752-4942-bd7f-ca0670289346\" xlink:actuate=\"onRequest\" xlink:href=\"psysml:27e0873a-b752-4942-bd7f-ca0670289346\" xlink:show=\"new\" xlink:title=\"psysml:27e0873a-b752-4942-bd7f-ca0670289346\" xlink:type=\"simple\"><path d=\"M94,133.74 C94,133.74 94,209.46 94,209.46 \" fill=\"none\" id=\"E8-&gt;E6\" style=\"stroke: #383838; stroke-width: 1.0; stroke-dasharray: 7.0,7.0;\"/><polygon fill=\"#383838\" points=\"94,217.46,97,209.46,91,209.46,94,217.46\" style=\"stroke: #383838; stroke-width: 1.0;\"/><text fill=\"#000000\" font-family=\"sans-serif\" font-size=\"13\" lengthAdjust=\"spacingAndGlyphs\" textLength=\"64\" x=\"68\" y=\"180.0669\">«depend»</text></a><!--MD5=[bfa3c8b0d15052fdf50ae9310b491027]\n",
       "link E8 to E7--><a href=\"psysml:27e0873a-b752-4942-bd7f-ca0670289346\" target=\"_top\" title=\"psysml:27e0873a-b752-4942-bd7f-ca0670289346\" xlink:actuate=\"onRequest\" xlink:href=\"psysml:27e0873a-b752-4942-bd7f-ca0670289346\" xlink:show=\"new\" xlink:title=\"psysml:27e0873a-b752-4942-bd7f-ca0670289346\" xlink:type=\"simple\"><path d=\"M147,133.74 C147,133.74 147,209.46 147,209.46 \" fill=\"none\" id=\"E8-&gt;E7\" style=\"stroke: #383838; stroke-width: 1.0; stroke-dasharray: 7.0,7.0;\"/><polygon fill=\"#383838\" points=\"147,217.46,150,209.46,144,209.46,147,217.46\" style=\"stroke: #383838; stroke-width: 1.0;\"/><text fill=\"#000000\" font-family=\"sans-serif\" font-size=\"13\" lengthAdjust=\"spacingAndGlyphs\" textLength=\"64\" x=\"174\" y=\"180.0669\">«depend»</text></a><!--MD5=[4689da25d40b374011ae57e3ba6ef229]\n",
       "@startuml\r\n",
       "skinparam linetype ortho\r\n",
       "skinparam monochrome true\r\n",
       "skinparam classbackgroundcolor white\r\n",
       "skinparam shadowing false\r\n",
       "skinparam wrapWidth 300\r\n",
       "hide circle\r\n",
       "\r\n",
       "package \"DependencyTest\" as E1  [[psysml:30d47011-2b84-418c-8f66-5b5fafd7ed2a ]]  {\r\n",
       "package \"System\" as E2  [[psysml:5fbdfa4d-cafa-4f51-92a0-0bd6c2ea6fbb ]]  {\r\n",
       "package \"Application Layer\" as E3  [[psysml:511969d3-37b8-4975-ad7d-d9be97a14b44 ]]  {\r\n",
       "}\r\n",
       "package \"Service Layer\" as E4  [[psysml:3811cf97-7daf-4e30-b445-d9788e80eae2 ]]  {\r\n",
       "}\r\n",
       "package \"Data Layer\" as E5  [[psysml:2c8fb347-f198-4aa6-806c-1c573edf927e ]]  {\r\n",
       "}\r\n",
       "}\r\n",
       "comp usage \"x \" as E6  <<(T,blue) attribute>> [[psysml:3d7e11a6-324b-4ff0-8a6c-08a58aad852d ]] {\r\n",
       "}\r\n",
       "comp usage \"y \" as E7  <<(T,blue) attribute>> [[psysml:07b9e1bd-21f7-4218-b4f9-b36b2d1ccf74 ]] {\r\n",
       "}\r\n",
       "comp usage \"z \" as E8  <<(T,blue) attribute>> [[psysml:44529a0f-a1ad-4493-b824-b4a46bdd708e ]] {\r\n",
       "}\r\n",
       "}\r\n",
       "E3 ..>> E4 [[psysml:973be101-d69f-4acb-a430-79bda88f318e ]] : <<depend>>\r\n",
       "E4 ..>> E5 [[psysml:418c7eed-60a4-47b0-a927-ef037a202312 ]] : <<depend>>\r\n",
       "E8 ..>> E6 [[psysml:27e0873a-b752-4942-bd7f-ca0670289346 ]] : <<depend>>\r\n",
       "E8 ..>> E7 [[psysml:27e0873a-b752-4942-bd7f-ca0670289346 ]] : <<depend>>\r\n",
       "@enduml\r\n",
       "\n",
       "PlantUML version 1.2020.13(Sat Jun 13 12:26:38 UTC 2020)\n",
       "(EPL source distribution)\n",
       "Java Runtime: OpenJDK Runtime Environment\n",
       "JVM: OpenJDK 64-Bit Server VM\n",
       "Default Encoding: UTF-8\n",
       "Language: en\n",
       "Country: null\n",
       "--></g></svg>"
      ]
     },
     "execution_count": 57,
     "metadata": {},
     "output_type": "execute_result"
    }
   ],
   "source": [
    "%viz --style=\"ORTHOLINE\" --view=\"MIXED\" \"DependencyTest\""
   ]
  }
 ],
 "metadata": {
  "kernelspec": {
   "display_name": "SysML",
   "language": "sysml",
   "name": "sysml"
  },
  "language_info": {
   "codemirror_mode": "sysml",
   "file_extension": ".sysml",
   "mimetype": "text/x-sysml",
   "name": "SysML",
   "pygments_lexer": "java",
   "version": "1.0.0"
  }
 },
 "nbformat": 4,
 "nbformat_minor": 5
}
