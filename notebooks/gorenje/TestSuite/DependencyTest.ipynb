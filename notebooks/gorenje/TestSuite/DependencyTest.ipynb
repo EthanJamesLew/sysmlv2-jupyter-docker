{
 "cells": [
  {
   "cell_type": "markdown",
   "id": "a37c0d79",
   "metadata": {},
   "source": [
    "# SysML v2 Test Suite\n",
    "\n",
    "This can notebook can be cleared using menu `Edit --> Clear All Outputs` and then all cells can be\n",
    "run using menu `Run --> Run All Cells`.\n",
    "\n",
    "**WARNING**: This file is generated, all modifications here will be ignored.\n"
   ]
  },
  {
   "cell_type": "markdown",
   "id": "96deadd1",
   "metadata": {},
   "source": [
    "## File: ../../sysml/src/examples/Simple Tests/DependencyTest.sysml"
   ]
  },
  {
   "cell_type": "code",
   "execution_count": 1,
   "id": "3c7f05e9",
   "metadata": {
    "execution": {
     "iopub.execute_input": "2021-10-03T08:27:17.074006Z",
     "iopub.status.busy": "2021-10-03T08:27:17.072734Z",
     "iopub.status.idle": "2021-10-03T08:27:17.181632Z",
     "shell.execute_reply": "2021-10-03T08:27:17.182170Z"
    }
   },
   "outputs": [
    {
     "data": {
      "text/plain": [
       "Package DependencyTest (6aa1039c-b800-4b68-8b6e-75654365cd5d)\n"
      ]
     },
     "execution_count": 1,
     "metadata": {},
     "output_type": "execute_result"
    }
   ],
   "source": [
    "package DependencyTest {\n",
    "\t\n",
    "\tpackage System {\n",
    "\t\tpackage 'Application Layer';\n",
    "\t\tpackage 'Service Layer';\n",
    "\t\tpackage 'Data Layer';\n",
    "\t}\n",
    "\t\n",
    "\timport System::*;\n",
    "\t\n",
    "\tdependency Use from 'Application Layer' to 'Service Layer';\n",
    "\tdependency from 'Service Layer' to 'Data Layer';\n",
    "\t\n",
    "\tattribute x;\n",
    "\tattribute y;\n",
    "\tattribute z;\n",
    "\t\n",
    "\tdependency z to x, y;\n",
    "\t\n",
    "}"
   ]
  },
  {
   "cell_type": "code",
   "execution_count": 2,
   "id": "ccccb3e2",
   "metadata": {
    "execution": {
     "iopub.execute_input": "2021-10-03T08:27:17.232111Z",
     "iopub.status.busy": "2021-10-03T08:27:17.231582Z",
     "iopub.status.idle": "2021-10-03T08:27:17.662596Z",
     "shell.execute_reply": "2021-10-03T08:27:17.660591Z"
    }
   },
   "outputs": [
    {
     "data": {
      "image/svg+xml": [
       "<?xml version=\"1.0\" encoding=\"UTF-8\" standalone=\"no\"?><svg xmlns=\"http://www.w3.org/2000/svg\" xmlns:xlink=\"http://www.w3.org/1999/xlink\" contentScriptType=\"application/ecmascript\" contentStyleType=\"text/css\" height=\"449px\" preserveAspectRatio=\"none\" style=\"width:469px;height:449px;\" version=\"1.1\" viewBox=\"0 0 469 449\" width=\"469px\" zoomAndPan=\"magnify\"><defs/><g><!--MD5=[fbc87193dbaf4d95561dea2c320d4a47]\n",
       "cluster E1--><a href=\"psysml:d3869743-6750-4f05-a5ce-51c4137f7251\" target=\"_top\" title=\"psysml:d3869743-6750-4f05-a5ce-51c4137f7251\" xlink:actuate=\"onRequest\" xlink:href=\"psysml:d3869743-6750-4f05-a5ce-51c4137f7251\" xlink:show=\"new\" xlink:title=\"psysml:d3869743-6750-4f05-a5ce-51c4137f7251\" xlink:type=\"simple\"><polygon fill=\"#FFFFFF\" points=\"16,6,142,6,149,28.2969,447,28.2969,447,437,16,437,16,6\" style=\"stroke: #000000; stroke-width: 1.5;\"/><line style=\"stroke: #000000; stroke-width: 1.5;\" x1=\"16\" x2=\"149\" y1=\"28.2969\" y2=\"28.2969\"/><text fill=\"#000000\" font-family=\"sans-serif\" font-size=\"14\" font-weight=\"bold\" lengthAdjust=\"spacingAndGlyphs\" textLength=\"120\" x=\"20\" y=\"20.9951\">DependencyTest</text></a><!--MD5=[e4f7fae6ed58524ba242bb0b0d3be6b7]\n",
       "cluster E2--><a href=\"psysml:6b74be88-9b37-4afd-8ab0-bbd062a94e7e\" target=\"_top\" title=\"psysml:6b74be88-9b37-4afd-8ab0-bbd062a94e7e\" xlink:actuate=\"onRequest\" xlink:href=\"psysml:6b74be88-9b37-4afd-8ab0-bbd062a94e7e\" xlink:show=\"new\" xlink:title=\"psysml:6b74be88-9b37-4afd-8ab0-bbd062a94e7e\" xlink:type=\"simple\"><polygon fill=\"#FFFFFF\" points=\"255,49,312,49,319,71.2969,423,71.2969,423,413,255,413,255,49\" style=\"stroke: #000000; stroke-width: 1.5;\"/><line style=\"stroke: #000000; stroke-width: 1.5;\" x1=\"255\" x2=\"319\" y1=\"71.2969\" y2=\"71.2969\"/><text fill=\"#000000\" font-family=\"sans-serif\" font-size=\"14\" font-weight=\"bold\" lengthAdjust=\"spacingAndGlyphs\" textLength=\"51\" x=\"259\" y=\"63.9951\">System</text></a><!--MD5=[60a26617385b1d2d0262a64233df1f8d]\n",
       "class E6--><a href=\"psysml:881809a4-48f2-4fe8-9827-6dde0f998bab\" target=\"_top\" title=\"psysml:881809a4-48f2-4fe8-9827-6dde0f998bab\" xlink:actuate=\"onRequest\" xlink:href=\"psysml:881809a4-48f2-4fe8-9827-6dde0f998bab\" xlink:show=\"new\" xlink:title=\"psysml:881809a4-48f2-4fe8-9827-6dde0f998bab\" xlink:type=\"simple\"><rect fill=\"#FFFFFF\" height=\"45.9375\" id=\"E6\" rx=\"10\" ry=\"10\" style=\"stroke: #383838; stroke-width: 1.5;\" width=\"71\" x=\"32.5\" y=\"217.5\"/><text fill=\"#000000\" font-family=\"sans-serif\" font-size=\"12\" font-style=\"italic\" lengthAdjust=\"spacingAndGlyphs\" textLength=\"69\" x=\"33.5\" y=\"233.6387\">«attribute»</text><text fill=\"#000000\" font-family=\"sans-serif\" font-size=\"12\" lengthAdjust=\"spacingAndGlyphs\" textLength=\"6\" x=\"65\" y=\"247.6074\">x</text><line style=\"stroke: #383838; stroke-width: 1.5;\" x1=\"33.5\" x2=\"102.5\" y1=\"255.4375\" y2=\"255.4375\"/></a><!--MD5=[2156ba9850f5573cc1fc38a6a4b2f02b]\n",
       "class E7--><a href=\"psysml:190ef100-b940-43fb-97f3-4b9e1cd4417f\" target=\"_top\" title=\"psysml:190ef100-b940-43fb-97f3-4b9e1cd4417f\" xlink:actuate=\"onRequest\" xlink:href=\"psysml:190ef100-b940-43fb-97f3-4b9e1cd4417f\" xlink:show=\"new\" xlink:title=\"psysml:190ef100-b940-43fb-97f3-4b9e1cd4417f\" xlink:type=\"simple\"><rect fill=\"#FFFFFF\" height=\"45.9375\" id=\"E7\" rx=\"10\" ry=\"10\" style=\"stroke: #383838; stroke-width: 1.5;\" width=\"71\" x=\"138.5\" y=\"217.5\"/><text fill=\"#000000\" font-family=\"sans-serif\" font-size=\"12\" font-style=\"italic\" lengthAdjust=\"spacingAndGlyphs\" textLength=\"69\" x=\"139.5\" y=\"233.6387\">«attribute»</text><text fill=\"#000000\" font-family=\"sans-serif\" font-size=\"12\" lengthAdjust=\"spacingAndGlyphs\" textLength=\"6\" x=\"171\" y=\"247.6074\">y</text><line style=\"stroke: #383838; stroke-width: 1.5;\" x1=\"139.5\" x2=\"208.5\" y1=\"255.4375\" y2=\"255.4375\"/></a><!--MD5=[b9389687b975829384b498ac4b7476b2]\n",
       "class E8--><a href=\"psysml:293eb67f-3e12-4287-ab19-bcded2d3124c\" target=\"_top\" title=\"psysml:293eb67f-3e12-4287-ab19-bcded2d3124c\" xlink:actuate=\"onRequest\" xlink:href=\"psysml:293eb67f-3e12-4287-ab19-bcded2d3124c\" xlink:show=\"new\" xlink:title=\"psysml:293eb67f-3e12-4287-ab19-bcded2d3124c\" xlink:type=\"simple\"><rect fill=\"#FFFFFF\" height=\"45.9375\" id=\"E8\" rx=\"10\" ry=\"10\" style=\"stroke: #383838; stroke-width: 1.5;\" width=\"71\" x=\"84.5\" y=\"87.5\"/><text fill=\"#000000\" font-family=\"sans-serif\" font-size=\"12\" font-style=\"italic\" lengthAdjust=\"spacingAndGlyphs\" textLength=\"69\" x=\"85.5\" y=\"103.6387\">«attribute»</text><text fill=\"#000000\" font-family=\"sans-serif\" font-size=\"12\" lengthAdjust=\"spacingAndGlyphs\" textLength=\"5\" x=\"117.5\" y=\"117.6074\">z</text><line style=\"stroke: #383838; stroke-width: 1.5;\" x1=\"85.5\" x2=\"154.5\" y1=\"125.4375\" y2=\"125.4375\"/></a><a href=\"psysml:03aab854-f405-4fcc-aa77-08da242f79f1\" target=\"_top\" title=\"psysml:03aab854-f405-4fcc-aa77-08da242f79f1\" xlink:actuate=\"onRequest\" xlink:href=\"psysml:03aab854-f405-4fcc-aa77-08da242f79f1\" xlink:show=\"new\" xlink:title=\"psysml:03aab854-f405-4fcc-aa77-08da242f79f1\" xlink:type=\"simple\"><polygon fill=\"#FFFFFF\" points=\"271.5,84,392.5,84,399.5,106.2969,406.5,106.2969,406.5,136.5938,271.5,136.5938,271.5,84\" style=\"stroke: #000000; stroke-width: 1.5;\"/><line style=\"stroke: #000000; stroke-width: 1.5;\" x1=\"271.5\" x2=\"399.5\" y1=\"106.2969\" y2=\"106.2969\"/><text fill=\"#000000\" font-family=\"sans-serif\" font-size=\"14\" font-weight=\"bold\" lengthAdjust=\"spacingAndGlyphs\" textLength=\"115\" x=\"275.5\" y=\"98.9951\">Application Layer</text></a><a href=\"psysml:ad996126-15a5-42e2-8928-0fb76718612c\" target=\"_top\" title=\"psysml:ad996126-15a5-42e2-8928-0fb76718612c\" xlink:actuate=\"onRequest\" xlink:href=\"psysml:ad996126-15a5-42e2-8928-0fb76718612c\" xlink:show=\"new\" xlink:title=\"psysml:ad996126-15a5-42e2-8928-0fb76718612c\" xlink:type=\"simple\"><polygon fill=\"#FFFFFF\" points=\"284,214,380,214,387,236.2969,394,236.2969,394,266.5938,284,266.5938,284,214\" style=\"stroke: #000000; stroke-width: 1.5;\"/><line style=\"stroke: #000000; stroke-width: 1.5;\" x1=\"284\" x2=\"387\" y1=\"236.2969\" y2=\"236.2969\"/><text fill=\"#000000\" font-family=\"sans-serif\" font-size=\"14\" font-weight=\"bold\" lengthAdjust=\"spacingAndGlyphs\" textLength=\"90\" x=\"288\" y=\"228.9951\">Service Layer</text></a><a href=\"psysml:17a101e7-475f-4fc3-82c9-609370bf1116\" target=\"_top\" title=\"psysml:17a101e7-475f-4fc3-82c9-609370bf1116\" xlink:actuate=\"onRequest\" xlink:href=\"psysml:17a101e7-475f-4fc3-82c9-609370bf1116\" xlink:show=\"new\" xlink:title=\"psysml:17a101e7-475f-4fc3-82c9-609370bf1116\" xlink:type=\"simple\"><polygon fill=\"#FFFFFF\" points=\"293,344,371,344,378,366.2969,385,366.2969,385,396.5938,293,396.5938,293,344\" style=\"stroke: #000000; stroke-width: 1.5;\"/><line style=\"stroke: #000000; stroke-width: 1.5;\" x1=\"293\" x2=\"378\" y1=\"366.2969\" y2=\"366.2969\"/><text fill=\"#000000\" font-family=\"sans-serif\" font-size=\"14\" font-weight=\"bold\" lengthAdjust=\"spacingAndGlyphs\" textLength=\"72\" x=\"297\" y=\"358.9951\">Data Layer</text></a><!--MD5=[af87c684e3b0d8be13c1a698a818ef1e]\n",
       "link E3 to E4--><a href=\"psysml:8bc3dbe9-cd72-4429-a15e-d6826987fc7c\" target=\"_top\" title=\"psysml:8bc3dbe9-cd72-4429-a15e-d6826987fc7c\" xlink:actuate=\"onRequest\" xlink:href=\"psysml:8bc3dbe9-cd72-4429-a15e-d6826987fc7c\" xlink:show=\"new\" xlink:title=\"psysml:8bc3dbe9-cd72-4429-a15e-d6826987fc7c\" xlink:type=\"simple\"><path d=\"M339,137.1 C339,156.8 339,184.22 339,205.73 \" fill=\"none\" id=\"E3-&gt;E4\" style=\"stroke: #383838; stroke-width: 1.0; stroke-dasharray: 7.0,7.0;\"/><polygon fill=\"#383838\" points=\"339,213.95,342,205.95,336,205.95,339,213.95\" style=\"stroke: #383838; stroke-width: 1.0;\"/><text fill=\"#000000\" font-family=\"sans-serif\" font-size=\"13\" lengthAdjust=\"spacingAndGlyphs\" textLength=\"64\" x=\"340\" y=\"180.0669\">«depend»</text></a><!--MD5=[1b7591eae5389033d8d09a9d6721a717]\n",
       "link E4 to E5--><a href=\"psysml:a5d569dd-f966-4325-8014-b1c593712f38\" target=\"_top\" title=\"psysml:a5d569dd-f966-4325-8014-b1c593712f38\" xlink:actuate=\"onRequest\" xlink:href=\"psysml:a5d569dd-f966-4325-8014-b1c593712f38\" xlink:show=\"new\" xlink:title=\"psysml:a5d569dd-f966-4325-8014-b1c593712f38\" xlink:type=\"simple\"><path d=\"M339,267.1 C339,286.8 339,314.22 339,335.73 \" fill=\"none\" id=\"E4-&gt;E5\" style=\"stroke: #383838; stroke-width: 1.0; stroke-dasharray: 7.0,7.0;\"/><polygon fill=\"#383838\" points=\"339,343.95,342,335.95,336,335.95,339,343.95\" style=\"stroke: #383838; stroke-width: 1.0;\"/><text fill=\"#000000\" font-family=\"sans-serif\" font-size=\"13\" lengthAdjust=\"spacingAndGlyphs\" textLength=\"64\" x=\"340\" y=\"310.0669\">«depend»</text></a><!--MD5=[c5e8897d989ce984f93528998a7150fe]\n",
       "link E8 to E6--><a href=\"psysml:e9cc0fc6-3b4b-4571-a4a8-99018107eac1\" target=\"_top\" title=\"psysml:e9cc0fc6-3b4b-4571-a4a8-99018107eac1\" xlink:actuate=\"onRequest\" xlink:href=\"psysml:e9cc0fc6-3b4b-4571-a4a8-99018107eac1\" xlink:show=\"new\" xlink:title=\"psysml:e9cc0fc6-3b4b-4571-a4a8-99018107eac1\" xlink:type=\"simple\"><path d=\"M89.42,133.6 C79.35,142.68 69.37,154.11 64,167 C58.5,180.2 58.66,195.94 60.54,209.38 \" fill=\"none\" id=\"E8-&gt;E6\" style=\"stroke: #383838; stroke-width: 1.0; stroke-dasharray: 7.0,7.0;\"/><polygon fill=\"#383838\" points=\"61.9,217.4,63.517,209.0104,57.6018,210.0159,61.9,217.4\" style=\"stroke: #383838; stroke-width: 1.0;\"/><text fill=\"#000000\" font-family=\"sans-serif\" font-size=\"13\" lengthAdjust=\"spacingAndGlyphs\" textLength=\"64\" x=\"65\" y=\"180.0669\">«depend»</text></a><!--MD5=[bfa3c8b0d15052fdf50ae9310b491027]\n",
       "link E8 to E7--><a href=\"psysml:e9cc0fc6-3b4b-4571-a4a8-99018107eac1\" target=\"_top\" title=\"psysml:e9cc0fc6-3b4b-4571-a4a8-99018107eac1\" xlink:actuate=\"onRequest\" xlink:href=\"psysml:e9cc0fc6-3b4b-4571-a4a8-99018107eac1\" xlink:show=\"new\" xlink:title=\"psysml:e9cc0fc6-3b4b-4571-a4a8-99018107eac1\" xlink:type=\"simple\"><path d=\"M129.28,133.5 C138.17,154.57 151.64,186.5 161.47,209.81 \" fill=\"none\" id=\"E8-&gt;E7\" style=\"stroke: #383838; stroke-width: 1.0; stroke-dasharray: 7.0,7.0;\"/><polygon fill=\"#383838\" points=\"164.66,217.35,164.3241,208.8126,158.7933,211.1385,164.66,217.35\" style=\"stroke: #383838; stroke-width: 1.0;\"/><text fill=\"#000000\" font-family=\"sans-serif\" font-size=\"13\" lengthAdjust=\"spacingAndGlyphs\" textLength=\"64\" x=\"151\" y=\"180.0669\">«depend»</text></a><!--MD5=[547c36b9ec9802e247c3be4626d5cdc9]\n",
       "@startuml\r\n",
       " skinparam monochrome true\r\n",
       "skinparam classbackgroundcolor white\r\n",
       "skinparam shadowing false\r\n",
       "skinparam wrapWidth 300\r\n",
       "hide circle\r\n",
       "\r\n",
       "package \"DependencyTest\" as E1  [[psysml:d3869743-6750-4f05-a5ce-51c4137f7251 ]]  {\r\n",
       "package \"System\" as E2  [[psysml:6b74be88-9b37-4afd-8ab0-bbd062a94e7e ]]  {\r\n",
       "package \"Application Layer\" as E3  [[psysml:03aab854-f405-4fcc-aa77-08da242f79f1 ]]  {\r\n",
       "}\r\n",
       "package \"Service Layer\" as E4  [[psysml:ad996126-15a5-42e2-8928-0fb76718612c ]]  {\r\n",
       "}\r\n",
       "package \"Data Layer\" as E5  [[psysml:17a101e7-475f-4fc3-82c9-609370bf1116 ]]  {\r\n",
       "}\r\n",
       "}\r\n",
       "comp usage \"x\" as E6  <<(T,blue) attribute>> [[psysml:881809a4-48f2-4fe8-9827-6dde0f998bab ]] {\r\n",
       "}\r\n",
       "comp usage \"y\" as E7  <<(T,blue) attribute>> [[psysml:190ef100-b940-43fb-97f3-4b9e1cd4417f ]] {\r\n",
       "}\r\n",
       "comp usage \"z\" as E8  <<(T,blue) attribute>> [[psysml:293eb67f-3e12-4287-ab19-bcded2d3124c ]] {\r\n",
       "}\r\n",
       "}\r\n",
       "E3 ..>> E4 [[psysml:8bc3dbe9-cd72-4429-a15e-d6826987fc7c ]] : <<depend>>\r\n",
       "E4 ..>> E5 [[psysml:a5d569dd-f966-4325-8014-b1c593712f38 ]] : <<depend>>\r\n",
       "E8 ..>> E6 [[psysml:e9cc0fc6-3b4b-4571-a4a8-99018107eac1 ]] : <<depend>>\r\n",
       "E8 ..>> E7 [[psysml:e9cc0fc6-3b4b-4571-a4a8-99018107eac1 ]] : <<depend>>\r\n",
       "@enduml\r\n",
       "\n",
       "PlantUML version 1.2020.13(Sat Jun 13 12:26:38 UTC 2020)\n",
       "(EPL source distribution)\n",
       "Java Runtime: OpenJDK Runtime Environment\n",
       "JVM: OpenJDK 64-Bit Server VM\n",
       "Default Encoding: UTF-8\n",
       "Language: en\n",
       "Country: null\n",
       "--></g></svg>"
      ]
     },
     "execution_count": 2,
     "metadata": {},
     "output_type": "execute_result"
    }
   ],
   "source": [
    "%viz --style=\"COMPTREE\" --view=\"Default\" \"DependencyTest\""
   ]
  },
  {
   "cell_type": "code",
   "execution_count": 3,
   "id": "94457dc3",
   "metadata": {
    "execution": {
     "iopub.execute_input": "2021-10-03T08:27:17.711364Z",
     "iopub.status.busy": "2021-10-03T08:27:17.711112Z",
     "iopub.status.idle": "2021-10-03T08:27:17.752228Z",
     "shell.execute_reply": "2021-10-03T08:27:17.751113Z"
    }
   },
   "outputs": [
    {
     "data": {
      "image/svg+xml": [
       "<?xml version=\"1.0\" encoding=\"UTF-8\" standalone=\"no\"?><svg xmlns=\"http://www.w3.org/2000/svg\" xmlns:xlink=\"http://www.w3.org/1999/xlink\" contentScriptType=\"application/ecmascript\" contentStyleType=\"text/css\" height=\"449px\" preserveAspectRatio=\"none\" style=\"width:469px;height:449px;\" version=\"1.1\" viewBox=\"0 0 469 449\" width=\"469px\" zoomAndPan=\"magnify\"><defs/><g><!--MD5=[fbc87193dbaf4d95561dea2c320d4a47]\n",
       "cluster E1--><a href=\"psysml:d3869743-6750-4f05-a5ce-51c4137f7251\" target=\"_top\" title=\"psysml:d3869743-6750-4f05-a5ce-51c4137f7251\" xlink:actuate=\"onRequest\" xlink:href=\"psysml:d3869743-6750-4f05-a5ce-51c4137f7251\" xlink:show=\"new\" xlink:title=\"psysml:d3869743-6750-4f05-a5ce-51c4137f7251\" xlink:type=\"simple\"><polygon fill=\"#FFFFFF\" points=\"16,6,142,6,149,28.2969,447,28.2969,447,437,16,437,16,6\" style=\"stroke: #000000; stroke-width: 1.5;\"/><line style=\"stroke: #000000; stroke-width: 1.5;\" x1=\"16\" x2=\"149\" y1=\"28.2969\" y2=\"28.2969\"/><text fill=\"#000000\" font-family=\"sans-serif\" font-size=\"14\" font-weight=\"bold\" lengthAdjust=\"spacingAndGlyphs\" textLength=\"120\" x=\"20\" y=\"20.9951\">DependencyTest</text></a><!--MD5=[e4f7fae6ed58524ba242bb0b0d3be6b7]\n",
       "cluster E2--><a href=\"psysml:6b74be88-9b37-4afd-8ab0-bbd062a94e7e\" target=\"_top\" title=\"psysml:6b74be88-9b37-4afd-8ab0-bbd062a94e7e\" xlink:actuate=\"onRequest\" xlink:href=\"psysml:6b74be88-9b37-4afd-8ab0-bbd062a94e7e\" xlink:show=\"new\" xlink:title=\"psysml:6b74be88-9b37-4afd-8ab0-bbd062a94e7e\" xlink:type=\"simple\"><polygon fill=\"#FFFFFF\" points=\"255,49,312,49,319,71.2969,423,71.2969,423,413,255,413,255,49\" style=\"stroke: #000000; stroke-width: 1.5;\"/><line style=\"stroke: #000000; stroke-width: 1.5;\" x1=\"255\" x2=\"319\" y1=\"71.2969\" y2=\"71.2969\"/><text fill=\"#000000\" font-family=\"sans-serif\" font-size=\"14\" font-weight=\"bold\" lengthAdjust=\"spacingAndGlyphs\" textLength=\"51\" x=\"259\" y=\"63.9951\">System</text></a><!--MD5=[60a26617385b1d2d0262a64233df1f8d]\n",
       "class E6--><a href=\"psysml:881809a4-48f2-4fe8-9827-6dde0f998bab\" target=\"_top\" title=\"psysml:881809a4-48f2-4fe8-9827-6dde0f998bab\" xlink:actuate=\"onRequest\" xlink:href=\"psysml:881809a4-48f2-4fe8-9827-6dde0f998bab\" xlink:show=\"new\" xlink:title=\"psysml:881809a4-48f2-4fe8-9827-6dde0f998bab\" xlink:type=\"simple\"><rect fill=\"#FFFFFF\" height=\"45.9375\" id=\"E6\" rx=\"10\" ry=\"10\" style=\"stroke: #383838; stroke-width: 1.5;\" width=\"71\" x=\"32.5\" y=\"217.5\"/><text fill=\"#000000\" font-family=\"sans-serif\" font-size=\"12\" font-style=\"italic\" lengthAdjust=\"spacingAndGlyphs\" textLength=\"69\" x=\"33.5\" y=\"233.6387\">«attribute»</text><text fill=\"#000000\" font-family=\"sans-serif\" font-size=\"12\" lengthAdjust=\"spacingAndGlyphs\" textLength=\"6\" x=\"65\" y=\"247.6074\">x</text><line style=\"stroke: #383838; stroke-width: 1.5;\" x1=\"33.5\" x2=\"102.5\" y1=\"255.4375\" y2=\"255.4375\"/></a><!--MD5=[2156ba9850f5573cc1fc38a6a4b2f02b]\n",
       "class E7--><a href=\"psysml:190ef100-b940-43fb-97f3-4b9e1cd4417f\" target=\"_top\" title=\"psysml:190ef100-b940-43fb-97f3-4b9e1cd4417f\" xlink:actuate=\"onRequest\" xlink:href=\"psysml:190ef100-b940-43fb-97f3-4b9e1cd4417f\" xlink:show=\"new\" xlink:title=\"psysml:190ef100-b940-43fb-97f3-4b9e1cd4417f\" xlink:type=\"simple\"><rect fill=\"#FFFFFF\" height=\"45.9375\" id=\"E7\" rx=\"10\" ry=\"10\" style=\"stroke: #383838; stroke-width: 1.5;\" width=\"71\" x=\"138.5\" y=\"217.5\"/><text fill=\"#000000\" font-family=\"sans-serif\" font-size=\"12\" font-style=\"italic\" lengthAdjust=\"spacingAndGlyphs\" textLength=\"69\" x=\"139.5\" y=\"233.6387\">«attribute»</text><text fill=\"#000000\" font-family=\"sans-serif\" font-size=\"12\" lengthAdjust=\"spacingAndGlyphs\" textLength=\"6\" x=\"171\" y=\"247.6074\">y</text><line style=\"stroke: #383838; stroke-width: 1.5;\" x1=\"139.5\" x2=\"208.5\" y1=\"255.4375\" y2=\"255.4375\"/></a><!--MD5=[b9389687b975829384b498ac4b7476b2]\n",
       "class E8--><a href=\"psysml:293eb67f-3e12-4287-ab19-bcded2d3124c\" target=\"_top\" title=\"psysml:293eb67f-3e12-4287-ab19-bcded2d3124c\" xlink:actuate=\"onRequest\" xlink:href=\"psysml:293eb67f-3e12-4287-ab19-bcded2d3124c\" xlink:show=\"new\" xlink:title=\"psysml:293eb67f-3e12-4287-ab19-bcded2d3124c\" xlink:type=\"simple\"><rect fill=\"#FFFFFF\" height=\"45.9375\" id=\"E8\" rx=\"10\" ry=\"10\" style=\"stroke: #383838; stroke-width: 1.5;\" width=\"71\" x=\"84.5\" y=\"87.5\"/><text fill=\"#000000\" font-family=\"sans-serif\" font-size=\"12\" font-style=\"italic\" lengthAdjust=\"spacingAndGlyphs\" textLength=\"69\" x=\"85.5\" y=\"103.6387\">«attribute»</text><text fill=\"#000000\" font-family=\"sans-serif\" font-size=\"12\" lengthAdjust=\"spacingAndGlyphs\" textLength=\"5\" x=\"117.5\" y=\"117.6074\">z</text><line style=\"stroke: #383838; stroke-width: 1.5;\" x1=\"85.5\" x2=\"154.5\" y1=\"125.4375\" y2=\"125.4375\"/></a><a href=\"psysml:03aab854-f405-4fcc-aa77-08da242f79f1\" target=\"_top\" title=\"psysml:03aab854-f405-4fcc-aa77-08da242f79f1\" xlink:actuate=\"onRequest\" xlink:href=\"psysml:03aab854-f405-4fcc-aa77-08da242f79f1\" xlink:show=\"new\" xlink:title=\"psysml:03aab854-f405-4fcc-aa77-08da242f79f1\" xlink:type=\"simple\"><polygon fill=\"#FFFFFF\" points=\"271.5,84,392.5,84,399.5,106.2969,406.5,106.2969,406.5,136.5938,271.5,136.5938,271.5,84\" style=\"stroke: #000000; stroke-width: 1.5;\"/><line style=\"stroke: #000000; stroke-width: 1.5;\" x1=\"271.5\" x2=\"399.5\" y1=\"106.2969\" y2=\"106.2969\"/><text fill=\"#000000\" font-family=\"sans-serif\" font-size=\"14\" font-weight=\"bold\" lengthAdjust=\"spacingAndGlyphs\" textLength=\"115\" x=\"275.5\" y=\"98.9951\">Application Layer</text></a><a href=\"psysml:ad996126-15a5-42e2-8928-0fb76718612c\" target=\"_top\" title=\"psysml:ad996126-15a5-42e2-8928-0fb76718612c\" xlink:actuate=\"onRequest\" xlink:href=\"psysml:ad996126-15a5-42e2-8928-0fb76718612c\" xlink:show=\"new\" xlink:title=\"psysml:ad996126-15a5-42e2-8928-0fb76718612c\" xlink:type=\"simple\"><polygon fill=\"#FFFFFF\" points=\"284,214,380,214,387,236.2969,394,236.2969,394,266.5938,284,266.5938,284,214\" style=\"stroke: #000000; stroke-width: 1.5;\"/><line style=\"stroke: #000000; stroke-width: 1.5;\" x1=\"284\" x2=\"387\" y1=\"236.2969\" y2=\"236.2969\"/><text fill=\"#000000\" font-family=\"sans-serif\" font-size=\"14\" font-weight=\"bold\" lengthAdjust=\"spacingAndGlyphs\" textLength=\"90\" x=\"288\" y=\"228.9951\">Service Layer</text></a><a href=\"psysml:17a101e7-475f-4fc3-82c9-609370bf1116\" target=\"_top\" title=\"psysml:17a101e7-475f-4fc3-82c9-609370bf1116\" xlink:actuate=\"onRequest\" xlink:href=\"psysml:17a101e7-475f-4fc3-82c9-609370bf1116\" xlink:show=\"new\" xlink:title=\"psysml:17a101e7-475f-4fc3-82c9-609370bf1116\" xlink:type=\"simple\"><polygon fill=\"#FFFFFF\" points=\"293,344,371,344,378,366.2969,385,366.2969,385,396.5938,293,396.5938,293,344\" style=\"stroke: #000000; stroke-width: 1.5;\"/><line style=\"stroke: #000000; stroke-width: 1.5;\" x1=\"293\" x2=\"378\" y1=\"366.2969\" y2=\"366.2969\"/><text fill=\"#000000\" font-family=\"sans-serif\" font-size=\"14\" font-weight=\"bold\" lengthAdjust=\"spacingAndGlyphs\" textLength=\"72\" x=\"297\" y=\"358.9951\">Data Layer</text></a><!--MD5=[af87c684e3b0d8be13c1a698a818ef1e]\n",
       "link E3 to E4--><a href=\"psysml:8bc3dbe9-cd72-4429-a15e-d6826987fc7c\" target=\"_top\" title=\"psysml:8bc3dbe9-cd72-4429-a15e-d6826987fc7c\" xlink:actuate=\"onRequest\" xlink:href=\"psysml:8bc3dbe9-cd72-4429-a15e-d6826987fc7c\" xlink:show=\"new\" xlink:title=\"psysml:8bc3dbe9-cd72-4429-a15e-d6826987fc7c\" xlink:type=\"simple\"><path d=\"M339,137.1 C339,156.8 339,184.22 339,205.73 \" fill=\"none\" id=\"E3-&gt;E4\" style=\"stroke: #383838; stroke-width: 1.0; stroke-dasharray: 7.0,7.0;\"/><polygon fill=\"#383838\" points=\"339,213.95,342,205.95,336,205.95,339,213.95\" style=\"stroke: #383838; stroke-width: 1.0;\"/><text fill=\"#000000\" font-family=\"sans-serif\" font-size=\"13\" lengthAdjust=\"spacingAndGlyphs\" textLength=\"64\" x=\"340\" y=\"180.0669\">«depend»</text></a><!--MD5=[1b7591eae5389033d8d09a9d6721a717]\n",
       "link E4 to E5--><a href=\"psysml:a5d569dd-f966-4325-8014-b1c593712f38\" target=\"_top\" title=\"psysml:a5d569dd-f966-4325-8014-b1c593712f38\" xlink:actuate=\"onRequest\" xlink:href=\"psysml:a5d569dd-f966-4325-8014-b1c593712f38\" xlink:show=\"new\" xlink:title=\"psysml:a5d569dd-f966-4325-8014-b1c593712f38\" xlink:type=\"simple\"><path d=\"M339,267.1 C339,286.8 339,314.22 339,335.73 \" fill=\"none\" id=\"E4-&gt;E5\" style=\"stroke: #383838; stroke-width: 1.0; stroke-dasharray: 7.0,7.0;\"/><polygon fill=\"#383838\" points=\"339,343.95,342,335.95,336,335.95,339,343.95\" style=\"stroke: #383838; stroke-width: 1.0;\"/><text fill=\"#000000\" font-family=\"sans-serif\" font-size=\"13\" lengthAdjust=\"spacingAndGlyphs\" textLength=\"64\" x=\"340\" y=\"310.0669\">«depend»</text></a><!--MD5=[c5e8897d989ce984f93528998a7150fe]\n",
       "link E8 to E6--><a href=\"psysml:e9cc0fc6-3b4b-4571-a4a8-99018107eac1\" target=\"_top\" title=\"psysml:e9cc0fc6-3b4b-4571-a4a8-99018107eac1\" xlink:actuate=\"onRequest\" xlink:href=\"psysml:e9cc0fc6-3b4b-4571-a4a8-99018107eac1\" xlink:show=\"new\" xlink:title=\"psysml:e9cc0fc6-3b4b-4571-a4a8-99018107eac1\" xlink:type=\"simple\"><path d=\"M89.42,133.6 C79.35,142.68 69.37,154.11 64,167 C58.5,180.2 58.66,195.94 60.54,209.38 \" fill=\"none\" id=\"E8-&gt;E6\" style=\"stroke: #383838; stroke-width: 1.0; stroke-dasharray: 7.0,7.0;\"/><polygon fill=\"#383838\" points=\"61.9,217.4,63.517,209.0104,57.6018,210.0159,61.9,217.4\" style=\"stroke: #383838; stroke-width: 1.0;\"/><text fill=\"#000000\" font-family=\"sans-serif\" font-size=\"13\" lengthAdjust=\"spacingAndGlyphs\" textLength=\"64\" x=\"65\" y=\"180.0669\">«depend»</text></a><!--MD5=[bfa3c8b0d15052fdf50ae9310b491027]\n",
       "link E8 to E7--><a href=\"psysml:e9cc0fc6-3b4b-4571-a4a8-99018107eac1\" target=\"_top\" title=\"psysml:e9cc0fc6-3b4b-4571-a4a8-99018107eac1\" xlink:actuate=\"onRequest\" xlink:href=\"psysml:e9cc0fc6-3b4b-4571-a4a8-99018107eac1\" xlink:show=\"new\" xlink:title=\"psysml:e9cc0fc6-3b4b-4571-a4a8-99018107eac1\" xlink:type=\"simple\"><path d=\"M129.28,133.5 C138.17,154.57 151.64,186.5 161.47,209.81 \" fill=\"none\" id=\"E8-&gt;E7\" style=\"stroke: #383838; stroke-width: 1.0; stroke-dasharray: 7.0,7.0;\"/><polygon fill=\"#383838\" points=\"164.66,217.35,164.3241,208.8126,158.7933,211.1385,164.66,217.35\" style=\"stroke: #383838; stroke-width: 1.0;\"/><text fill=\"#000000\" font-family=\"sans-serif\" font-size=\"13\" lengthAdjust=\"spacingAndGlyphs\" textLength=\"64\" x=\"151\" y=\"180.0669\">«depend»</text></a><!--MD5=[547c36b9ec9802e247c3be4626d5cdc9]\n",
       "@startuml\r\n",
       " skinparam monochrome true\r\n",
       "skinparam classbackgroundcolor white\r\n",
       "skinparam shadowing false\r\n",
       "skinparam wrapWidth 300\r\n",
       "hide circle\r\n",
       "\r\n",
       "package \"DependencyTest\" as E1  [[psysml:d3869743-6750-4f05-a5ce-51c4137f7251 ]]  {\r\n",
       "package \"System\" as E2  [[psysml:6b74be88-9b37-4afd-8ab0-bbd062a94e7e ]]  {\r\n",
       "package \"Application Layer\" as E3  [[psysml:03aab854-f405-4fcc-aa77-08da242f79f1 ]]  {\r\n",
       "}\r\n",
       "package \"Service Layer\" as E4  [[psysml:ad996126-15a5-42e2-8928-0fb76718612c ]]  {\r\n",
       "}\r\n",
       "package \"Data Layer\" as E5  [[psysml:17a101e7-475f-4fc3-82c9-609370bf1116 ]]  {\r\n",
       "}\r\n",
       "}\r\n",
       "comp usage \"x\" as E6  <<(T,blue) attribute>> [[psysml:881809a4-48f2-4fe8-9827-6dde0f998bab ]] {\r\n",
       "}\r\n",
       "comp usage \"y\" as E7  <<(T,blue) attribute>> [[psysml:190ef100-b940-43fb-97f3-4b9e1cd4417f ]] {\r\n",
       "}\r\n",
       "comp usage \"z\" as E8  <<(T,blue) attribute>> [[psysml:293eb67f-3e12-4287-ab19-bcded2d3124c ]] {\r\n",
       "}\r\n",
       "}\r\n",
       "E3 ..>> E4 [[psysml:8bc3dbe9-cd72-4429-a15e-d6826987fc7c ]] : <<depend>>\r\n",
       "E4 ..>> E5 [[psysml:a5d569dd-f966-4325-8014-b1c593712f38 ]] : <<depend>>\r\n",
       "E8 ..>> E6 [[psysml:e9cc0fc6-3b4b-4571-a4a8-99018107eac1 ]] : <<depend>>\r\n",
       "E8 ..>> E7 [[psysml:e9cc0fc6-3b4b-4571-a4a8-99018107eac1 ]] : <<depend>>\r\n",
       "@enduml\r\n",
       "\n",
       "PlantUML version 1.2020.13(Sat Jun 13 12:26:38 UTC 2020)\n",
       "(EPL source distribution)\n",
       "Java Runtime: OpenJDK Runtime Environment\n",
       "JVM: OpenJDK 64-Bit Server VM\n",
       "Default Encoding: UTF-8\n",
       "Language: en\n",
       "Country: null\n",
       "--></g></svg>"
      ]
     },
     "execution_count": 3,
     "metadata": {},
     "output_type": "execute_result"
    }
   ],
   "source": [
    "%viz --style=\"COMPTREE\" --view=\"Tree\" \"DependencyTest\""
   ]
  },
  {
   "cell_type": "code",
   "execution_count": 4,
   "id": "4632c4ff",
   "metadata": {
    "execution": {
     "iopub.execute_input": "2021-10-03T08:27:17.802182Z",
     "iopub.status.busy": "2021-10-03T08:27:17.801933Z",
     "iopub.status.idle": "2021-10-03T08:27:17.808718Z",
     "shell.execute_reply": "2021-10-03T08:27:17.809184Z"
    }
   },
   "outputs": [
    {
     "data": {
      "image/svg+xml": [
       "<?xml version=\"1.0\" encoding=\"UTF-8\" standalone=\"no\"?><svg xmlns=\"http://www.w3.org/2000/svg\" xmlns:xlink=\"http://www.w3.org/1999/xlink\" contentScriptType=\"application/ecmascript\" contentStyleType=\"text/css\" height=\"12px\" preserveAspectRatio=\"none\" style=\"width:12px;height:12px;\" version=\"1.1\" viewBox=\"0 0 12 12\" width=\"12px\" zoomAndPan=\"magnify\"><defs/><g><!--MD5=[f19188ef49e11757b5c46753f95d9edc]\n",
       "@startuml\r\n",
       " skinparam monochrome true\r\n",
       "skinparam classbackgroundcolor white\r\n",
       "skinparam shadowing false\r\n",
       "skinparam wrapWidth 300\r\n",
       "hide circle\r\n",
       "\r\n",
       "@enduml\r\n",
       "\n",
       "PlantUML version 1.2020.13(Sat Jun 13 12:26:38 UTC 2020)\n",
       "(EPL source distribution)\n",
       "Java Runtime: OpenJDK Runtime Environment\n",
       "JVM: OpenJDK 64-Bit Server VM\n",
       "Default Encoding: UTF-8\n",
       "Language: en\n",
       "Country: null\n",
       "--></g></svg>"
      ]
     },
     "execution_count": 4,
     "metadata": {},
     "output_type": "execute_result"
    }
   ],
   "source": [
    "%viz --style=\"COMPTREE\" --view=\"State\" \"DependencyTest\""
   ]
  },
  {
   "cell_type": "code",
   "execution_count": 5,
   "id": "8c8eb531",
   "metadata": {
    "execution": {
     "iopub.execute_input": "2021-10-03T08:27:17.858019Z",
     "iopub.status.busy": "2021-10-03T08:27:17.857572Z",
     "iopub.status.idle": "2021-10-03T08:27:17.912263Z",
     "shell.execute_reply": "2021-10-03T08:27:17.912612Z"
    }
   },
   "outputs": [
    {
     "data": {
      "image/svg+xml": [
       "<?xml version=\"1.0\" encoding=\"UTF-8\" standalone=\"no\"?><svg xmlns=\"http://www.w3.org/2000/svg\" xmlns:xlink=\"http://www.w3.org/1999/xlink\" contentScriptType=\"application/ecmascript\" contentStyleType=\"text/css\" height=\"361px\" preserveAspectRatio=\"none\" style=\"width:469px;height:361px;\" version=\"1.1\" viewBox=\"0 0 469 361\" width=\"469px\" zoomAndPan=\"magnify\"><defs/><g><!--MD5=[fbc87193dbaf4d95561dea2c320d4a47]\n",
       "cluster E1--><a href=\"psysml:d3869743-6750-4f05-a5ce-51c4137f7251\" target=\"_top\" title=\"psysml:d3869743-6750-4f05-a5ce-51c4137f7251\" xlink:actuate=\"onRequest\" xlink:href=\"psysml:d3869743-6750-4f05-a5ce-51c4137f7251\" xlink:show=\"new\" xlink:title=\"psysml:d3869743-6750-4f05-a5ce-51c4137f7251\" xlink:type=\"simple\"><polygon fill=\"#FFFFFF\" points=\"16,6,142,6,149,28.2969,447,28.2969,447,349,16,349,16,6\" style=\"stroke: #000000; stroke-width: 1.5;\"/><line style=\"stroke: #000000; stroke-width: 1.5;\" x1=\"16\" x2=\"149\" y1=\"28.2969\" y2=\"28.2969\"/><text fill=\"#000000\" font-family=\"sans-serif\" font-size=\"14\" font-weight=\"bold\" lengthAdjust=\"spacingAndGlyphs\" textLength=\"120\" x=\"20\" y=\"20.9951\">DependencyTest</text></a><!--MD5=[e4f7fae6ed58524ba242bb0b0d3be6b7]\n",
       "cluster E2--><a href=\"psysml:6b74be88-9b37-4afd-8ab0-bbd062a94e7e\" target=\"_top\" title=\"psysml:6b74be88-9b37-4afd-8ab0-bbd062a94e7e\" xlink:actuate=\"onRequest\" xlink:href=\"psysml:6b74be88-9b37-4afd-8ab0-bbd062a94e7e\" xlink:show=\"new\" xlink:title=\"psysml:6b74be88-9b37-4afd-8ab0-bbd062a94e7e\" xlink:type=\"simple\"><polygon fill=\"#FFFFFF\" points=\"255,49,312,49,319,71.2969,423,71.2969,423,325,255,325,255,49\" style=\"stroke: #000000; stroke-width: 1.5;\"/><line style=\"stroke: #000000; stroke-width: 1.5;\" x1=\"255\" x2=\"319\" y1=\"71.2969\" y2=\"71.2969\"/><text fill=\"#000000\" font-family=\"sans-serif\" font-size=\"14\" font-weight=\"bold\" lengthAdjust=\"spacingAndGlyphs\" textLength=\"51\" x=\"259\" y=\"63.9951\">System</text></a><!--MD5=[60a26617385b1d2d0262a64233df1f8d]\n",
       "class E6--><a href=\"psysml:881809a4-48f2-4fe8-9827-6dde0f998bab\" target=\"_top\" title=\"psysml:881809a4-48f2-4fe8-9827-6dde0f998bab\" xlink:actuate=\"onRequest\" xlink:href=\"psysml:881809a4-48f2-4fe8-9827-6dde0f998bab\" xlink:show=\"new\" xlink:title=\"psysml:881809a4-48f2-4fe8-9827-6dde0f998bab\" xlink:type=\"simple\"><rect fill=\"#FFFFFF\" height=\"45.9375\" id=\"E6\" rx=\"10\" ry=\"10\" style=\"stroke: #383838; stroke-width: 1.5;\" width=\"71\" x=\"32.5\" y=\"173.5\"/><text fill=\"#000000\" font-family=\"sans-serif\" font-size=\"12\" font-style=\"italic\" lengthAdjust=\"spacingAndGlyphs\" textLength=\"69\" x=\"33.5\" y=\"189.6387\">«attribute»</text><text fill=\"#000000\" font-family=\"sans-serif\" font-size=\"12\" lengthAdjust=\"spacingAndGlyphs\" textLength=\"6\" x=\"65\" y=\"203.6074\">x</text><line style=\"stroke: #383838; stroke-width: 1.5;\" x1=\"33.5\" x2=\"102.5\" y1=\"211.4375\" y2=\"211.4375\"/></a><!--MD5=[2156ba9850f5573cc1fc38a6a4b2f02b]\n",
       "class E7--><a href=\"psysml:190ef100-b940-43fb-97f3-4b9e1cd4417f\" target=\"_top\" title=\"psysml:190ef100-b940-43fb-97f3-4b9e1cd4417f\" xlink:actuate=\"onRequest\" xlink:href=\"psysml:190ef100-b940-43fb-97f3-4b9e1cd4417f\" xlink:show=\"new\" xlink:title=\"psysml:190ef100-b940-43fb-97f3-4b9e1cd4417f\" xlink:type=\"simple\"><rect fill=\"#FFFFFF\" height=\"45.9375\" id=\"E7\" rx=\"10\" ry=\"10\" style=\"stroke: #383838; stroke-width: 1.5;\" width=\"71\" x=\"138.5\" y=\"173.5\"/><text fill=\"#000000\" font-family=\"sans-serif\" font-size=\"12\" font-style=\"italic\" lengthAdjust=\"spacingAndGlyphs\" textLength=\"69\" x=\"139.5\" y=\"189.6387\">«attribute»</text><text fill=\"#000000\" font-family=\"sans-serif\" font-size=\"12\" lengthAdjust=\"spacingAndGlyphs\" textLength=\"6\" x=\"171\" y=\"203.6074\">y</text><line style=\"stroke: #383838; stroke-width: 1.5;\" x1=\"139.5\" x2=\"208.5\" y1=\"211.4375\" y2=\"211.4375\"/></a><!--MD5=[b9389687b975829384b498ac4b7476b2]\n",
       "class E8--><a href=\"psysml:293eb67f-3e12-4287-ab19-bcded2d3124c\" target=\"_top\" title=\"psysml:293eb67f-3e12-4287-ab19-bcded2d3124c\" xlink:actuate=\"onRequest\" xlink:href=\"psysml:293eb67f-3e12-4287-ab19-bcded2d3124c\" xlink:show=\"new\" xlink:title=\"psysml:293eb67f-3e12-4287-ab19-bcded2d3124c\" xlink:type=\"simple\"><rect fill=\"#FFFFFF\" height=\"45.9375\" id=\"E8\" rx=\"10\" ry=\"10\" style=\"stroke: #383838; stroke-width: 1.5;\" width=\"71\" x=\"84.5\" y=\"87.5\"/><text fill=\"#000000\" font-family=\"sans-serif\" font-size=\"12\" font-style=\"italic\" lengthAdjust=\"spacingAndGlyphs\" textLength=\"69\" x=\"85.5\" y=\"103.6387\">«attribute»</text><text fill=\"#000000\" font-family=\"sans-serif\" font-size=\"12\" lengthAdjust=\"spacingAndGlyphs\" textLength=\"5\" x=\"117.5\" y=\"117.6074\">z</text><line style=\"stroke: #383838; stroke-width: 1.5;\" x1=\"85.5\" x2=\"154.5\" y1=\"125.4375\" y2=\"125.4375\"/></a><a href=\"psysml:03aab854-f405-4fcc-aa77-08da242f79f1\" target=\"_top\" title=\"psysml:03aab854-f405-4fcc-aa77-08da242f79f1\" xlink:actuate=\"onRequest\" xlink:href=\"psysml:03aab854-f405-4fcc-aa77-08da242f79f1\" xlink:show=\"new\" xlink:title=\"psysml:03aab854-f405-4fcc-aa77-08da242f79f1\" xlink:type=\"simple\"><polygon fill=\"#FFFFFF\" points=\"271.5,84,392.5,84,399.5,106.2969,406.5,106.2969,406.5,136.5938,271.5,136.5938,271.5,84\" style=\"stroke: #000000; stroke-width: 1.5;\"/><line style=\"stroke: #000000; stroke-width: 1.5;\" x1=\"271.5\" x2=\"399.5\" y1=\"106.2969\" y2=\"106.2969\"/><text fill=\"#000000\" font-family=\"sans-serif\" font-size=\"14\" font-weight=\"bold\" lengthAdjust=\"spacingAndGlyphs\" textLength=\"115\" x=\"275.5\" y=\"98.9951\">Application Layer</text></a><a href=\"psysml:ad996126-15a5-42e2-8928-0fb76718612c\" target=\"_top\" title=\"psysml:ad996126-15a5-42e2-8928-0fb76718612c\" xlink:actuate=\"onRequest\" xlink:href=\"psysml:ad996126-15a5-42e2-8928-0fb76718612c\" xlink:show=\"new\" xlink:title=\"psysml:ad996126-15a5-42e2-8928-0fb76718612c\" xlink:type=\"simple\"><polygon fill=\"#FFFFFF\" points=\"284,170,380,170,387,192.2969,394,192.2969,394,222.5938,284,222.5938,284,170\" style=\"stroke: #000000; stroke-width: 1.5;\"/><line style=\"stroke: #000000; stroke-width: 1.5;\" x1=\"284\" x2=\"387\" y1=\"192.2969\" y2=\"192.2969\"/><text fill=\"#000000\" font-family=\"sans-serif\" font-size=\"14\" font-weight=\"bold\" lengthAdjust=\"spacingAndGlyphs\" textLength=\"90\" x=\"288\" y=\"184.9951\">Service Layer</text></a><a href=\"psysml:17a101e7-475f-4fc3-82c9-609370bf1116\" target=\"_top\" title=\"psysml:17a101e7-475f-4fc3-82c9-609370bf1116\" xlink:actuate=\"onRequest\" xlink:href=\"psysml:17a101e7-475f-4fc3-82c9-609370bf1116\" xlink:show=\"new\" xlink:title=\"psysml:17a101e7-475f-4fc3-82c9-609370bf1116\" xlink:type=\"simple\"><polygon fill=\"#FFFFFF\" points=\"293,256,371,256,378,278.2969,385,278.2969,385,308.5938,293,308.5938,293,256\" style=\"stroke: #000000; stroke-width: 1.5;\"/><line style=\"stroke: #000000; stroke-width: 1.5;\" x1=\"293\" x2=\"378\" y1=\"278.2969\" y2=\"278.2969\"/><text fill=\"#000000\" font-family=\"sans-serif\" font-size=\"14\" font-weight=\"bold\" lengthAdjust=\"spacingAndGlyphs\" textLength=\"72\" x=\"297\" y=\"270.9951\">Data Layer</text></a><!--MD5=[af87c684e3b0d8be13c1a698a818ef1e]\n",
       "link E3 to E4--><a href=\"psysml:8bc3dbe9-cd72-4429-a15e-d6826987fc7c\" target=\"_top\" title=\"psysml:8bc3dbe9-cd72-4429-a15e-d6826987fc7c\" xlink:actuate=\"onRequest\" xlink:href=\"psysml:8bc3dbe9-cd72-4429-a15e-d6826987fc7c\" xlink:show=\"new\" xlink:title=\"psysml:8bc3dbe9-cd72-4429-a15e-d6826987fc7c\" xlink:type=\"simple\"><path d=\"M339,137.16 C339,144.98 339,153.69 339,161.94 \" fill=\"none\" id=\"E3-&gt;E4\" style=\"stroke: #383838; stroke-width: 1.0; stroke-dasharray: 7.0,7.0;\"/><polygon fill=\"#383838\" points=\"339,170,342,162,336,162,339,170\" style=\"stroke: #383838; stroke-width: 1.0;\"/><text fill=\"#000000\" font-family=\"sans-serif\" font-size=\"13\" lengthAdjust=\"spacingAndGlyphs\" textLength=\"64\" x=\"340\" y=\"158.0669\">«depend»</text></a><!--MD5=[1b7591eae5389033d8d09a9d6721a717]\n",
       "link E4 to E5--><a href=\"psysml:a5d569dd-f966-4325-8014-b1c593712f38\" target=\"_top\" title=\"psysml:a5d569dd-f966-4325-8014-b1c593712f38\" xlink:actuate=\"onRequest\" xlink:href=\"psysml:a5d569dd-f966-4325-8014-b1c593712f38\" xlink:show=\"new\" xlink:title=\"psysml:a5d569dd-f966-4325-8014-b1c593712f38\" xlink:type=\"simple\"><path d=\"M339,223.16 C339,230.98 339,239.69 339,247.94 \" fill=\"none\" id=\"E4-&gt;E5\" style=\"stroke: #383838; stroke-width: 1.0; stroke-dasharray: 7.0,7.0;\"/><polygon fill=\"#383838\" points=\"339,256,342,248,336,248,339,256\" style=\"stroke: #383838; stroke-width: 1.0;\"/><text fill=\"#000000\" font-family=\"sans-serif\" font-size=\"13\" lengthAdjust=\"spacingAndGlyphs\" textLength=\"64\" x=\"340\" y=\"244.0669\">«depend»</text></a><!--MD5=[c5e8897d989ce984f93528998a7150fe]\n",
       "link E8 to E6--><a href=\"psysml:e9cc0fc6-3b4b-4571-a4a8-99018107eac1\" target=\"_top\" title=\"psysml:e9cc0fc6-3b4b-4571-a4a8-99018107eac1\" xlink:actuate=\"onRequest\" xlink:href=\"psysml:e9cc0fc6-3b4b-4571-a4a8-99018107eac1\" xlink:show=\"new\" xlink:title=\"psysml:e9cc0fc6-3b4b-4571-a4a8-99018107eac1\" xlink:type=\"simple\"><path d=\"M84.49,125.34 C76.34,130.27 68.69,136.72 64,145 C60.54,151.1 59.62,158.31 60,165.33 \" fill=\"none\" id=\"E8-&gt;E6\" style=\"stroke: #383838; stroke-width: 1.0; stroke-dasharray: 7.0,7.0;\"/><polygon fill=\"#383838\" points=\"60.97,173.42,63.0061,165.1221,57.0479,165.8294,60.97,173.42\" style=\"stroke: #383838; stroke-width: 1.0;\"/><text fill=\"#000000\" font-family=\"sans-serif\" font-size=\"13\" lengthAdjust=\"spacingAndGlyphs\" textLength=\"64\" x=\"65\" y=\"158.0669\">«depend»</text></a><!--MD5=[bfa3c8b0d15052fdf50ae9310b491027]\n",
       "link E8 to E7--><a href=\"psysml:e9cc0fc6-3b4b-4571-a4a8-99018107eac1\" target=\"_top\" title=\"psysml:e9cc0fc6-3b4b-4571-a4a8-99018107eac1\" xlink:actuate=\"onRequest\" xlink:href=\"psysml:e9cc0fc6-3b4b-4571-a4a8-99018107eac1\" xlink:show=\"new\" xlink:title=\"psysml:e9cc0fc6-3b4b-4571-a4a8-99018107eac1\" xlink:type=\"simple\"><path d=\"M134.19,133.57 C140.65,143.62 148.38,155.65 155.31,166.42 \" fill=\"none\" id=\"E8-&gt;E7\" style=\"stroke: #383838; stroke-width: 1.0; stroke-dasharray: 7.0,7.0;\"/><polygon fill=\"#383838\" points=\"159.72,173.29,157.9148,164.9389,152.8688,168.185,159.72,173.29\" style=\"stroke: #383838; stroke-width: 1.0;\"/><text fill=\"#000000\" font-family=\"sans-serif\" font-size=\"13\" lengthAdjust=\"spacingAndGlyphs\" textLength=\"64\" x=\"152\" y=\"158.0669\">«depend»</text></a><!--MD5=[0c73da4795ad51bb31e36e65ad2ff231]\n",
       "@startuml\r\n",
       "skinparam ranksep 10\r\n",
       "skinparam rectangle {\r\n",
       " backgroundColor<<block>> LightGreen\r\n",
       "}\r\n",
       " skinparam monochrome true\r\n",
       "skinparam classbackgroundcolor white\r\n",
       "skinparam shadowing false\r\n",
       "skinparam wrapWidth 300\r\n",
       "hide circle\r\n",
       "\r\n",
       "package \"DependencyTest\" as E1  [[psysml:d3869743-6750-4f05-a5ce-51c4137f7251 ]]  {\r\n",
       "package \"System\" as E2  [[psysml:6b74be88-9b37-4afd-8ab0-bbd062a94e7e ]]  {\r\n",
       "package \"Application Layer\" as E3  [[psysml:03aab854-f405-4fcc-aa77-08da242f79f1 ]]  {\r\n",
       "}\r\n",
       "package \"Service Layer\" as E4  [[psysml:ad996126-15a5-42e2-8928-0fb76718612c ]]  {\r\n",
       "}\r\n",
       "package \"Data Layer\" as E5  [[psysml:17a101e7-475f-4fc3-82c9-609370bf1116 ]]  {\r\n",
       "}\r\n",
       "}\r\n",
       "comp usage \"x\" as E6  <<(T,blue) attribute>> [[psysml:881809a4-48f2-4fe8-9827-6dde0f998bab ]] {\r\n",
       "}\r\n",
       "comp usage \"y\" as E7  <<(T,blue) attribute>> [[psysml:190ef100-b940-43fb-97f3-4b9e1cd4417f ]] {\r\n",
       "}\r\n",
       "comp usage \"z\" as E8  <<(T,blue) attribute>> [[psysml:293eb67f-3e12-4287-ab19-bcded2d3124c ]] {\r\n",
       "}\r\n",
       "}\r\n",
       "E3 ..>> E4 [[psysml:8bc3dbe9-cd72-4429-a15e-d6826987fc7c ]] : <<depend>>\r\n",
       "E4 ..>> E5 [[psysml:a5d569dd-f966-4325-8014-b1c593712f38 ]] : <<depend>>\r\n",
       "E8 ..>> E6 [[psysml:e9cc0fc6-3b4b-4571-a4a8-99018107eac1 ]] : <<depend>>\r\n",
       "E8 ..>> E7 [[psysml:e9cc0fc6-3b4b-4571-a4a8-99018107eac1 ]] : <<depend>>\r\n",
       "@enduml\r\n",
       "\n",
       "PlantUML version 1.2020.13(Sat Jun 13 12:26:38 UTC 2020)\n",
       "(EPL source distribution)\n",
       "Java Runtime: OpenJDK Runtime Environment\n",
       "JVM: OpenJDK 64-Bit Server VM\n",
       "Default Encoding: UTF-8\n",
       "Language: en\n",
       "Country: null\n",
       "--></g></svg>"
      ]
     },
     "execution_count": 5,
     "metadata": {},
     "output_type": "execute_result"
    }
   ],
   "source": [
    "%viz --style=\"COMPTREE\" --view=\"Interconnection\" \"DependencyTest\""
   ]
  },
  {
   "cell_type": "code",
   "execution_count": 6,
   "id": "03fbe30c",
   "metadata": {
    "execution": {
     "iopub.execute_input": "2021-10-03T08:27:17.961930Z",
     "iopub.status.busy": "2021-10-03T08:27:17.961492Z",
     "iopub.status.idle": "2021-10-03T08:27:17.969542Z",
     "shell.execute_reply": "2021-10-03T08:27:17.969859Z"
    }
   },
   "outputs": [
    {
     "data": {
      "image/svg+xml": [
       "<?xml version=\"1.0\" encoding=\"UTF-8\" standalone=\"no\"?><svg xmlns=\"http://www.w3.org/2000/svg\" xmlns:xlink=\"http://www.w3.org/1999/xlink\" contentScriptType=\"application/ecmascript\" contentStyleType=\"text/css\" height=\"12px\" preserveAspectRatio=\"none\" style=\"width:12px;height:12px;\" version=\"1.1\" viewBox=\"0 0 12 12\" width=\"12px\" zoomAndPan=\"magnify\"><defs/><g><!--MD5=[655b888544ca4751ea36af1068543f84]\n",
       "@startuml\r\n",
       "skinparam ranksep 8\r\n",
       " skinparam monochrome true\r\n",
       "skinparam classbackgroundcolor white\r\n",
       "skinparam shadowing false\r\n",
       "skinparam wrapWidth 300\r\n",
       "hide circle\r\n",
       "\r\n",
       "@enduml\r\n",
       "\n",
       "PlantUML version 1.2020.13(Sat Jun 13 12:26:38 UTC 2020)\n",
       "(EPL source distribution)\n",
       "Java Runtime: OpenJDK Runtime Environment\n",
       "JVM: OpenJDK 64-Bit Server VM\n",
       "Default Encoding: UTF-8\n",
       "Language: en\n",
       "Country: null\n",
       "--></g></svg>"
      ]
     },
     "execution_count": 6,
     "metadata": {},
     "output_type": "execute_result"
    }
   ],
   "source": [
    "%viz --style=\"COMPTREE\" --view=\"Action\" \"DependencyTest\""
   ]
  },
  {
   "cell_type": "code",
   "execution_count": 7,
   "id": "08556125",
   "metadata": {
    "execution": {
     "iopub.execute_input": "2021-10-03T08:27:18.020284Z",
     "iopub.status.busy": "2021-10-03T08:27:18.019650Z",
     "iopub.status.idle": "2021-10-03T08:27:18.032415Z",
     "shell.execute_reply": "2021-10-03T08:27:18.032807Z"
    }
   },
   "outputs": [
    {
     "data": {
      "image/svg+xml": [
       "<?xml version=\"1.0\" encoding=\"UTF-8\" standalone=\"no\"?><svg xmlns=\"http://www.w3.org/2000/svg\" xmlns:xlink=\"http://www.w3.org/1999/xlink\" contentScriptType=\"application/ecmascript\" contentStyleType=\"text/css\" height=\"12px\" preserveAspectRatio=\"none\" style=\"width:12px;height:12px;\" version=\"1.1\" viewBox=\"0 0 12 12\" width=\"12px\" zoomAndPan=\"magnify\"><defs/><g><!--MD5=[803fc46c337be7a5c8a9831e35356779]\n",
       "@startuml\r\n",
       "skinparam roundcorner 20\r\n",
       "skinparam BoxPadding 20\r\n",
       "skinparam SequenceBoxBackgroundColor #white\r\n",
       "skinparam style strictuml\r\n",
       "skinparam maxMessageSize 100\r\n",
       " skinparam monochrome true\r\n",
       "skinparam classbackgroundcolor white\r\n",
       "skinparam shadowing false\r\n",
       "skinparam wrapWidth 300\r\n",
       "hide circle\r\n",
       "\r\n",
       "@enduml\r\n",
       "\n",
       "PlantUML version 1.2020.13(Sat Jun 13 12:26:38 UTC 2020)\n",
       "(EPL source distribution)\n",
       "Java Runtime: OpenJDK Runtime Environment\n",
       "JVM: OpenJDK 64-Bit Server VM\n",
       "Default Encoding: UTF-8\n",
       "Language: en\n",
       "Country: null\n",
       "--></g></svg>"
      ]
     },
     "execution_count": 7,
     "metadata": {},
     "output_type": "execute_result"
    }
   ],
   "source": [
    "%viz --style=\"COMPTREE\" --view=\"Sequence\" \"DependencyTest\""
   ]
  },
  {
   "cell_type": "code",
   "execution_count": 8,
   "id": "db8d0560",
   "metadata": {
    "execution": {
     "iopub.execute_input": "2021-10-03T08:27:18.082010Z",
     "iopub.status.busy": "2021-10-03T08:27:18.081566Z",
     "iopub.status.idle": "2021-10-03T08:27:18.152184Z",
     "shell.execute_reply": "2021-10-03T08:27:18.151778Z"
    }
   },
   "outputs": [
    {
     "data": {
      "image/svg+xml": [
       "<?xml version=\"1.0\" encoding=\"UTF-8\" standalone=\"no\"?><svg xmlns=\"http://www.w3.org/2000/svg\" xmlns:xlink=\"http://www.w3.org/1999/xlink\" contentScriptType=\"application/ecmascript\" contentStyleType=\"text/css\" height=\"449px\" preserveAspectRatio=\"none\" style=\"width:469px;height:449px;\" version=\"1.1\" viewBox=\"0 0 469 449\" width=\"469px\" zoomAndPan=\"magnify\"><defs/><g><!--MD5=[fbc87193dbaf4d95561dea2c320d4a47]\n",
       "cluster E1--><a href=\"psysml:d3869743-6750-4f05-a5ce-51c4137f7251\" target=\"_top\" title=\"psysml:d3869743-6750-4f05-a5ce-51c4137f7251\" xlink:actuate=\"onRequest\" xlink:href=\"psysml:d3869743-6750-4f05-a5ce-51c4137f7251\" xlink:show=\"new\" xlink:title=\"psysml:d3869743-6750-4f05-a5ce-51c4137f7251\" xlink:type=\"simple\"><polygon fill=\"#FFFFFF\" points=\"16,6,142,6,149,28.2969,447,28.2969,447,437,16,437,16,6\" style=\"stroke: #000000; stroke-width: 1.5;\"/><line style=\"stroke: #000000; stroke-width: 1.5;\" x1=\"16\" x2=\"149\" y1=\"28.2969\" y2=\"28.2969\"/><text fill=\"#000000\" font-family=\"sans-serif\" font-size=\"14\" font-weight=\"bold\" lengthAdjust=\"spacingAndGlyphs\" textLength=\"120\" x=\"20\" y=\"20.9951\">DependencyTest</text></a><!--MD5=[e4f7fae6ed58524ba242bb0b0d3be6b7]\n",
       "cluster E2--><a href=\"psysml:6b74be88-9b37-4afd-8ab0-bbd062a94e7e\" target=\"_top\" title=\"psysml:6b74be88-9b37-4afd-8ab0-bbd062a94e7e\" xlink:actuate=\"onRequest\" xlink:href=\"psysml:6b74be88-9b37-4afd-8ab0-bbd062a94e7e\" xlink:show=\"new\" xlink:title=\"psysml:6b74be88-9b37-4afd-8ab0-bbd062a94e7e\" xlink:type=\"simple\"><polygon fill=\"#FFFFFF\" points=\"255,49,312,49,319,71.2969,423,71.2969,423,413,255,413,255,49\" style=\"stroke: #000000; stroke-width: 1.5;\"/><line style=\"stroke: #000000; stroke-width: 1.5;\" x1=\"255\" x2=\"319\" y1=\"71.2969\" y2=\"71.2969\"/><text fill=\"#000000\" font-family=\"sans-serif\" font-size=\"14\" font-weight=\"bold\" lengthAdjust=\"spacingAndGlyphs\" textLength=\"51\" x=\"259\" y=\"63.9951\">System</text></a><!--MD5=[60a26617385b1d2d0262a64233df1f8d]\n",
       "class E6--><a href=\"psysml:881809a4-48f2-4fe8-9827-6dde0f998bab\" target=\"_top\" title=\"psysml:881809a4-48f2-4fe8-9827-6dde0f998bab\" xlink:actuate=\"onRequest\" xlink:href=\"psysml:881809a4-48f2-4fe8-9827-6dde0f998bab\" xlink:show=\"new\" xlink:title=\"psysml:881809a4-48f2-4fe8-9827-6dde0f998bab\" xlink:type=\"simple\"><rect fill=\"#FFFFFF\" height=\"45.9375\" id=\"E6\" rx=\"10\" ry=\"10\" style=\"stroke: #383838; stroke-width: 1.5;\" width=\"71\" x=\"32.5\" y=\"217.5\"/><text fill=\"#000000\" font-family=\"sans-serif\" font-size=\"12\" font-style=\"italic\" lengthAdjust=\"spacingAndGlyphs\" textLength=\"69\" x=\"33.5\" y=\"233.6387\">«attribute»</text><text fill=\"#000000\" font-family=\"sans-serif\" font-size=\"12\" lengthAdjust=\"spacingAndGlyphs\" textLength=\"6\" x=\"65\" y=\"247.6074\">x</text><line style=\"stroke: #383838; stroke-width: 1.5;\" x1=\"33.5\" x2=\"102.5\" y1=\"255.4375\" y2=\"255.4375\"/></a><!--MD5=[2156ba9850f5573cc1fc38a6a4b2f02b]\n",
       "class E7--><a href=\"psysml:190ef100-b940-43fb-97f3-4b9e1cd4417f\" target=\"_top\" title=\"psysml:190ef100-b940-43fb-97f3-4b9e1cd4417f\" xlink:actuate=\"onRequest\" xlink:href=\"psysml:190ef100-b940-43fb-97f3-4b9e1cd4417f\" xlink:show=\"new\" xlink:title=\"psysml:190ef100-b940-43fb-97f3-4b9e1cd4417f\" xlink:type=\"simple\"><rect fill=\"#FFFFFF\" height=\"45.9375\" id=\"E7\" rx=\"10\" ry=\"10\" style=\"stroke: #383838; stroke-width: 1.5;\" width=\"71\" x=\"138.5\" y=\"217.5\"/><text fill=\"#000000\" font-family=\"sans-serif\" font-size=\"12\" font-style=\"italic\" lengthAdjust=\"spacingAndGlyphs\" textLength=\"69\" x=\"139.5\" y=\"233.6387\">«attribute»</text><text fill=\"#000000\" font-family=\"sans-serif\" font-size=\"12\" lengthAdjust=\"spacingAndGlyphs\" textLength=\"6\" x=\"171\" y=\"247.6074\">y</text><line style=\"stroke: #383838; stroke-width: 1.5;\" x1=\"139.5\" x2=\"208.5\" y1=\"255.4375\" y2=\"255.4375\"/></a><!--MD5=[b9389687b975829384b498ac4b7476b2]\n",
       "class E8--><a href=\"psysml:293eb67f-3e12-4287-ab19-bcded2d3124c\" target=\"_top\" title=\"psysml:293eb67f-3e12-4287-ab19-bcded2d3124c\" xlink:actuate=\"onRequest\" xlink:href=\"psysml:293eb67f-3e12-4287-ab19-bcded2d3124c\" xlink:show=\"new\" xlink:title=\"psysml:293eb67f-3e12-4287-ab19-bcded2d3124c\" xlink:type=\"simple\"><rect fill=\"#FFFFFF\" height=\"45.9375\" id=\"E8\" rx=\"10\" ry=\"10\" style=\"stroke: #383838; stroke-width: 1.5;\" width=\"71\" x=\"84.5\" y=\"87.5\"/><text fill=\"#000000\" font-family=\"sans-serif\" font-size=\"12\" font-style=\"italic\" lengthAdjust=\"spacingAndGlyphs\" textLength=\"69\" x=\"85.5\" y=\"103.6387\">«attribute»</text><text fill=\"#000000\" font-family=\"sans-serif\" font-size=\"12\" lengthAdjust=\"spacingAndGlyphs\" textLength=\"5\" x=\"117.5\" y=\"117.6074\">z</text><line style=\"stroke: #383838; stroke-width: 1.5;\" x1=\"85.5\" x2=\"154.5\" y1=\"125.4375\" y2=\"125.4375\"/></a><a href=\"psysml:03aab854-f405-4fcc-aa77-08da242f79f1\" target=\"_top\" title=\"psysml:03aab854-f405-4fcc-aa77-08da242f79f1\" xlink:actuate=\"onRequest\" xlink:href=\"psysml:03aab854-f405-4fcc-aa77-08da242f79f1\" xlink:show=\"new\" xlink:title=\"psysml:03aab854-f405-4fcc-aa77-08da242f79f1\" xlink:type=\"simple\"><polygon fill=\"#FFFFFF\" points=\"271.5,84,392.5,84,399.5,106.2969,406.5,106.2969,406.5,136.5938,271.5,136.5938,271.5,84\" style=\"stroke: #000000; stroke-width: 1.5;\"/><line style=\"stroke: #000000; stroke-width: 1.5;\" x1=\"271.5\" x2=\"399.5\" y1=\"106.2969\" y2=\"106.2969\"/><text fill=\"#000000\" font-family=\"sans-serif\" font-size=\"14\" font-weight=\"bold\" lengthAdjust=\"spacingAndGlyphs\" textLength=\"115\" x=\"275.5\" y=\"98.9951\">Application Layer</text></a><a href=\"psysml:ad996126-15a5-42e2-8928-0fb76718612c\" target=\"_top\" title=\"psysml:ad996126-15a5-42e2-8928-0fb76718612c\" xlink:actuate=\"onRequest\" xlink:href=\"psysml:ad996126-15a5-42e2-8928-0fb76718612c\" xlink:show=\"new\" xlink:title=\"psysml:ad996126-15a5-42e2-8928-0fb76718612c\" xlink:type=\"simple\"><polygon fill=\"#FFFFFF\" points=\"284,214,380,214,387,236.2969,394,236.2969,394,266.5938,284,266.5938,284,214\" style=\"stroke: #000000; stroke-width: 1.5;\"/><line style=\"stroke: #000000; stroke-width: 1.5;\" x1=\"284\" x2=\"387\" y1=\"236.2969\" y2=\"236.2969\"/><text fill=\"#000000\" font-family=\"sans-serif\" font-size=\"14\" font-weight=\"bold\" lengthAdjust=\"spacingAndGlyphs\" textLength=\"90\" x=\"288\" y=\"228.9951\">Service Layer</text></a><a href=\"psysml:17a101e7-475f-4fc3-82c9-609370bf1116\" target=\"_top\" title=\"psysml:17a101e7-475f-4fc3-82c9-609370bf1116\" xlink:actuate=\"onRequest\" xlink:href=\"psysml:17a101e7-475f-4fc3-82c9-609370bf1116\" xlink:show=\"new\" xlink:title=\"psysml:17a101e7-475f-4fc3-82c9-609370bf1116\" xlink:type=\"simple\"><polygon fill=\"#FFFFFF\" points=\"293,344,371,344,378,366.2969,385,366.2969,385,396.5938,293,396.5938,293,344\" style=\"stroke: #000000; stroke-width: 1.5;\"/><line style=\"stroke: #000000; stroke-width: 1.5;\" x1=\"293\" x2=\"378\" y1=\"366.2969\" y2=\"366.2969\"/><text fill=\"#000000\" font-family=\"sans-serif\" font-size=\"14\" font-weight=\"bold\" lengthAdjust=\"spacingAndGlyphs\" textLength=\"72\" x=\"297\" y=\"358.9951\">Data Layer</text></a><!--MD5=[af87c684e3b0d8be13c1a698a818ef1e]\n",
       "link E3 to E4--><a href=\"psysml:8bc3dbe9-cd72-4429-a15e-d6826987fc7c\" target=\"_top\" title=\"psysml:8bc3dbe9-cd72-4429-a15e-d6826987fc7c\" xlink:actuate=\"onRequest\" xlink:href=\"psysml:8bc3dbe9-cd72-4429-a15e-d6826987fc7c\" xlink:show=\"new\" xlink:title=\"psysml:8bc3dbe9-cd72-4429-a15e-d6826987fc7c\" xlink:type=\"simple\"><path d=\"M339,137.1 C339,156.8 339,184.22 339,205.73 \" fill=\"none\" id=\"E3-&gt;E4\" style=\"stroke: #383838; stroke-width: 1.0; stroke-dasharray: 7.0,7.0;\"/><polygon fill=\"#383838\" points=\"339,213.95,342,205.95,336,205.95,339,213.95\" style=\"stroke: #383838; stroke-width: 1.0;\"/><text fill=\"#000000\" font-family=\"sans-serif\" font-size=\"13\" lengthAdjust=\"spacingAndGlyphs\" textLength=\"64\" x=\"340\" y=\"180.0669\">«depend»</text></a><!--MD5=[1b7591eae5389033d8d09a9d6721a717]\n",
       "link E4 to E5--><a href=\"psysml:a5d569dd-f966-4325-8014-b1c593712f38\" target=\"_top\" title=\"psysml:a5d569dd-f966-4325-8014-b1c593712f38\" xlink:actuate=\"onRequest\" xlink:href=\"psysml:a5d569dd-f966-4325-8014-b1c593712f38\" xlink:show=\"new\" xlink:title=\"psysml:a5d569dd-f966-4325-8014-b1c593712f38\" xlink:type=\"simple\"><path d=\"M339,267.1 C339,286.8 339,314.22 339,335.73 \" fill=\"none\" id=\"E4-&gt;E5\" style=\"stroke: #383838; stroke-width: 1.0; stroke-dasharray: 7.0,7.0;\"/><polygon fill=\"#383838\" points=\"339,343.95,342,335.95,336,335.95,339,343.95\" style=\"stroke: #383838; stroke-width: 1.0;\"/><text fill=\"#000000\" font-family=\"sans-serif\" font-size=\"13\" lengthAdjust=\"spacingAndGlyphs\" textLength=\"64\" x=\"340\" y=\"310.0669\">«depend»</text></a><!--MD5=[c5e8897d989ce984f93528998a7150fe]\n",
       "link E8 to E6--><a href=\"psysml:e9cc0fc6-3b4b-4571-a4a8-99018107eac1\" target=\"_top\" title=\"psysml:e9cc0fc6-3b4b-4571-a4a8-99018107eac1\" xlink:actuate=\"onRequest\" xlink:href=\"psysml:e9cc0fc6-3b4b-4571-a4a8-99018107eac1\" xlink:show=\"new\" xlink:title=\"psysml:e9cc0fc6-3b4b-4571-a4a8-99018107eac1\" xlink:type=\"simple\"><path d=\"M89.42,133.6 C79.35,142.68 69.37,154.11 64,167 C58.5,180.2 58.66,195.94 60.54,209.38 \" fill=\"none\" id=\"E8-&gt;E6\" style=\"stroke: #383838; stroke-width: 1.0; stroke-dasharray: 7.0,7.0;\"/><polygon fill=\"#383838\" points=\"61.9,217.4,63.517,209.0104,57.6018,210.0159,61.9,217.4\" style=\"stroke: #383838; stroke-width: 1.0;\"/><text fill=\"#000000\" font-family=\"sans-serif\" font-size=\"13\" lengthAdjust=\"spacingAndGlyphs\" textLength=\"64\" x=\"65\" y=\"180.0669\">«depend»</text></a><!--MD5=[bfa3c8b0d15052fdf50ae9310b491027]\n",
       "link E8 to E7--><a href=\"psysml:e9cc0fc6-3b4b-4571-a4a8-99018107eac1\" target=\"_top\" title=\"psysml:e9cc0fc6-3b4b-4571-a4a8-99018107eac1\" xlink:actuate=\"onRequest\" xlink:href=\"psysml:e9cc0fc6-3b4b-4571-a4a8-99018107eac1\" xlink:show=\"new\" xlink:title=\"psysml:e9cc0fc6-3b4b-4571-a4a8-99018107eac1\" xlink:type=\"simple\"><path d=\"M129.28,133.5 C138.17,154.57 151.64,186.5 161.47,209.81 \" fill=\"none\" id=\"E8-&gt;E7\" style=\"stroke: #383838; stroke-width: 1.0; stroke-dasharray: 7.0,7.0;\"/><polygon fill=\"#383838\" points=\"164.66,217.35,164.3241,208.8126,158.7933,211.1385,164.66,217.35\" style=\"stroke: #383838; stroke-width: 1.0;\"/><text fill=\"#000000\" font-family=\"sans-serif\" font-size=\"13\" lengthAdjust=\"spacingAndGlyphs\" textLength=\"64\" x=\"151\" y=\"180.0669\">«depend»</text></a><!--MD5=[547c36b9ec9802e247c3be4626d5cdc9]\n",
       "@startuml\r\n",
       " skinparam monochrome true\r\n",
       "skinparam classbackgroundcolor white\r\n",
       "skinparam shadowing false\r\n",
       "skinparam wrapWidth 300\r\n",
       "hide circle\r\n",
       "\r\n",
       "package \"DependencyTest\" as E1  [[psysml:d3869743-6750-4f05-a5ce-51c4137f7251 ]]  {\r\n",
       "package \"System\" as E2  [[psysml:6b74be88-9b37-4afd-8ab0-bbd062a94e7e ]]  {\r\n",
       "package \"Application Layer\" as E3  [[psysml:03aab854-f405-4fcc-aa77-08da242f79f1 ]]  {\r\n",
       "}\r\n",
       "package \"Service Layer\" as E4  [[psysml:ad996126-15a5-42e2-8928-0fb76718612c ]]  {\r\n",
       "}\r\n",
       "package \"Data Layer\" as E5  [[psysml:17a101e7-475f-4fc3-82c9-609370bf1116 ]]  {\r\n",
       "}\r\n",
       "}\r\n",
       "comp usage \"x\" as E6  <<(T,blue) attribute>> [[psysml:881809a4-48f2-4fe8-9827-6dde0f998bab ]] {\r\n",
       "}\r\n",
       "comp usage \"y\" as E7  <<(T,blue) attribute>> [[psysml:190ef100-b940-43fb-97f3-4b9e1cd4417f ]] {\r\n",
       "}\r\n",
       "comp usage \"z\" as E8  <<(T,blue) attribute>> [[psysml:293eb67f-3e12-4287-ab19-bcded2d3124c ]] {\r\n",
       "}\r\n",
       "}\r\n",
       "E3 ..>> E4 [[psysml:8bc3dbe9-cd72-4429-a15e-d6826987fc7c ]] : <<depend>>\r\n",
       "E4 ..>> E5 [[psysml:a5d569dd-f966-4325-8014-b1c593712f38 ]] : <<depend>>\r\n",
       "E8 ..>> E6 [[psysml:e9cc0fc6-3b4b-4571-a4a8-99018107eac1 ]] : <<depend>>\r\n",
       "E8 ..>> E7 [[psysml:e9cc0fc6-3b4b-4571-a4a8-99018107eac1 ]] : <<depend>>\r\n",
       "@enduml\r\n",
       "\n",
       "PlantUML version 1.2020.13(Sat Jun 13 12:26:38 UTC 2020)\n",
       "(EPL source distribution)\n",
       "Java Runtime: OpenJDK Runtime Environment\n",
       "JVM: OpenJDK 64-Bit Server VM\n",
       "Default Encoding: UTF-8\n",
       "Language: en\n",
       "Country: null\n",
       "--></g></svg>"
      ]
     },
     "execution_count": 8,
     "metadata": {},
     "output_type": "execute_result"
    }
   ],
   "source": [
    "%viz --style=\"COMPTREE\" --view=\"MIXED\" \"DependencyTest\""
   ]
  },
  {
   "cell_type": "code",
   "execution_count": 9,
   "id": "98e78254",
   "metadata": {
    "execution": {
     "iopub.execute_input": "2021-10-03T08:27:18.201743Z",
     "iopub.status.busy": "2021-10-03T08:27:18.201298Z",
     "iopub.status.idle": "2021-10-03T08:27:18.250849Z",
     "shell.execute_reply": "2021-10-03T08:27:18.250448Z"
    }
   },
   "outputs": [
    {
     "data": {
      "image/svg+xml": [
       "<?xml version=\"1.0\" encoding=\"UTF-8\" standalone=\"no\"?><svg xmlns=\"http://www.w3.org/2000/svg\" xmlns:xlink=\"http://www.w3.org/1999/xlink\" contentScriptType=\"application/ecmascript\" contentStyleType=\"text/css\" height=\"449px\" preserveAspectRatio=\"none\" style=\"width:469px;height:449px;\" version=\"1.1\" viewBox=\"0 0 469 449\" width=\"469px\" zoomAndPan=\"magnify\"><defs/><g><!--MD5=[fbc87193dbaf4d95561dea2c320d4a47]\n",
       "cluster E1--><a href=\"psysml:d3869743-6750-4f05-a5ce-51c4137f7251\" target=\"_top\" title=\"psysml:d3869743-6750-4f05-a5ce-51c4137f7251\" xlink:actuate=\"onRequest\" xlink:href=\"psysml:d3869743-6750-4f05-a5ce-51c4137f7251\" xlink:show=\"new\" xlink:title=\"psysml:d3869743-6750-4f05-a5ce-51c4137f7251\" xlink:type=\"simple\"><polygon fill=\"#FFFFFF\" points=\"16,6,142,6,149,28.2969,447,28.2969,447,437,16,437,16,6\" style=\"stroke: #000000; stroke-width: 1.5;\"/><line style=\"stroke: #000000; stroke-width: 1.5;\" x1=\"16\" x2=\"149\" y1=\"28.2969\" y2=\"28.2969\"/><text fill=\"#000000\" font-family=\"sans-serif\" font-size=\"14\" font-weight=\"bold\" lengthAdjust=\"spacingAndGlyphs\" textLength=\"120\" x=\"20\" y=\"20.9951\">DependencyTest</text></a><!--MD5=[e4f7fae6ed58524ba242bb0b0d3be6b7]\n",
       "cluster E2--><a href=\"psysml:6b74be88-9b37-4afd-8ab0-bbd062a94e7e\" target=\"_top\" title=\"psysml:6b74be88-9b37-4afd-8ab0-bbd062a94e7e\" xlink:actuate=\"onRequest\" xlink:href=\"psysml:6b74be88-9b37-4afd-8ab0-bbd062a94e7e\" xlink:show=\"new\" xlink:title=\"psysml:6b74be88-9b37-4afd-8ab0-bbd062a94e7e\" xlink:type=\"simple\"><polygon fill=\"#FFFFFF\" points=\"255,49,312,49,319,71.2969,423,71.2969,423,413,255,413,255,49\" style=\"stroke: #000000; stroke-width: 1.5;\"/><line style=\"stroke: #000000; stroke-width: 1.5;\" x1=\"255\" x2=\"319\" y1=\"71.2969\" y2=\"71.2969\"/><text fill=\"#000000\" font-family=\"sans-serif\" font-size=\"14\" font-weight=\"bold\" lengthAdjust=\"spacingAndGlyphs\" textLength=\"51\" x=\"259\" y=\"63.9951\">System</text></a><!--MD5=[60a26617385b1d2d0262a64233df1f8d]\n",
       "class E6--><a href=\"psysml:881809a4-48f2-4fe8-9827-6dde0f998bab\" target=\"_top\" title=\"psysml:881809a4-48f2-4fe8-9827-6dde0f998bab\" xlink:actuate=\"onRequest\" xlink:href=\"psysml:881809a4-48f2-4fe8-9827-6dde0f998bab\" xlink:show=\"new\" xlink:title=\"psysml:881809a4-48f2-4fe8-9827-6dde0f998bab\" xlink:type=\"simple\"><rect fill=\"#FFFFFF\" height=\"45.9375\" id=\"E6\" rx=\"10\" ry=\"10\" style=\"stroke: #383838; stroke-width: 1.5;\" width=\"71\" x=\"32.5\" y=\"217.5\"/><text fill=\"#000000\" font-family=\"sans-serif\" font-size=\"12\" font-style=\"italic\" lengthAdjust=\"spacingAndGlyphs\" textLength=\"69\" x=\"33.5\" y=\"233.6387\">«attribute»</text><text fill=\"#000000\" font-family=\"sans-serif\" font-size=\"12\" lengthAdjust=\"spacingAndGlyphs\" textLength=\"6\" x=\"65\" y=\"247.6074\">x</text><line style=\"stroke: #383838; stroke-width: 1.5;\" x1=\"33.5\" x2=\"102.5\" y1=\"255.4375\" y2=\"255.4375\"/></a><!--MD5=[2156ba9850f5573cc1fc38a6a4b2f02b]\n",
       "class E7--><a href=\"psysml:190ef100-b940-43fb-97f3-4b9e1cd4417f\" target=\"_top\" title=\"psysml:190ef100-b940-43fb-97f3-4b9e1cd4417f\" xlink:actuate=\"onRequest\" xlink:href=\"psysml:190ef100-b940-43fb-97f3-4b9e1cd4417f\" xlink:show=\"new\" xlink:title=\"psysml:190ef100-b940-43fb-97f3-4b9e1cd4417f\" xlink:type=\"simple\"><rect fill=\"#FFFFFF\" height=\"45.9375\" id=\"E7\" rx=\"10\" ry=\"10\" style=\"stroke: #383838; stroke-width: 1.5;\" width=\"71\" x=\"138.5\" y=\"217.5\"/><text fill=\"#000000\" font-family=\"sans-serif\" font-size=\"12\" font-style=\"italic\" lengthAdjust=\"spacingAndGlyphs\" textLength=\"69\" x=\"139.5\" y=\"233.6387\">«attribute»</text><text fill=\"#000000\" font-family=\"sans-serif\" font-size=\"12\" lengthAdjust=\"spacingAndGlyphs\" textLength=\"6\" x=\"171\" y=\"247.6074\">y</text><line style=\"stroke: #383838; stroke-width: 1.5;\" x1=\"139.5\" x2=\"208.5\" y1=\"255.4375\" y2=\"255.4375\"/></a><!--MD5=[b9389687b975829384b498ac4b7476b2]\n",
       "class E8--><a href=\"psysml:293eb67f-3e12-4287-ab19-bcded2d3124c\" target=\"_top\" title=\"psysml:293eb67f-3e12-4287-ab19-bcded2d3124c\" xlink:actuate=\"onRequest\" xlink:href=\"psysml:293eb67f-3e12-4287-ab19-bcded2d3124c\" xlink:show=\"new\" xlink:title=\"psysml:293eb67f-3e12-4287-ab19-bcded2d3124c\" xlink:type=\"simple\"><rect fill=\"#FFFFFF\" height=\"45.9375\" id=\"E8\" rx=\"10\" ry=\"10\" style=\"stroke: #383838; stroke-width: 1.5;\" width=\"71\" x=\"84.5\" y=\"87.5\"/><text fill=\"#000000\" font-family=\"sans-serif\" font-size=\"12\" font-style=\"italic\" lengthAdjust=\"spacingAndGlyphs\" textLength=\"69\" x=\"85.5\" y=\"103.6387\">«attribute»</text><text fill=\"#000000\" font-family=\"sans-serif\" font-size=\"12\" lengthAdjust=\"spacingAndGlyphs\" textLength=\"5\" x=\"117.5\" y=\"117.6074\">z</text><line style=\"stroke: #383838; stroke-width: 1.5;\" x1=\"85.5\" x2=\"154.5\" y1=\"125.4375\" y2=\"125.4375\"/></a><a href=\"psysml:03aab854-f405-4fcc-aa77-08da242f79f1\" target=\"_top\" title=\"psysml:03aab854-f405-4fcc-aa77-08da242f79f1\" xlink:actuate=\"onRequest\" xlink:href=\"psysml:03aab854-f405-4fcc-aa77-08da242f79f1\" xlink:show=\"new\" xlink:title=\"psysml:03aab854-f405-4fcc-aa77-08da242f79f1\" xlink:type=\"simple\"><polygon fill=\"#FFFFFF\" points=\"271.5,84,392.5,84,399.5,106.2969,406.5,106.2969,406.5,136.5938,271.5,136.5938,271.5,84\" style=\"stroke: #000000; stroke-width: 1.5;\"/><line style=\"stroke: #000000; stroke-width: 1.5;\" x1=\"271.5\" x2=\"399.5\" y1=\"106.2969\" y2=\"106.2969\"/><text fill=\"#000000\" font-family=\"sans-serif\" font-size=\"14\" font-weight=\"bold\" lengthAdjust=\"spacingAndGlyphs\" textLength=\"115\" x=\"275.5\" y=\"98.9951\">Application Layer</text></a><a href=\"psysml:ad996126-15a5-42e2-8928-0fb76718612c\" target=\"_top\" title=\"psysml:ad996126-15a5-42e2-8928-0fb76718612c\" xlink:actuate=\"onRequest\" xlink:href=\"psysml:ad996126-15a5-42e2-8928-0fb76718612c\" xlink:show=\"new\" xlink:title=\"psysml:ad996126-15a5-42e2-8928-0fb76718612c\" xlink:type=\"simple\"><polygon fill=\"#FFFFFF\" points=\"284,214,380,214,387,236.2969,394,236.2969,394,266.5938,284,266.5938,284,214\" style=\"stroke: #000000; stroke-width: 1.5;\"/><line style=\"stroke: #000000; stroke-width: 1.5;\" x1=\"284\" x2=\"387\" y1=\"236.2969\" y2=\"236.2969\"/><text fill=\"#000000\" font-family=\"sans-serif\" font-size=\"14\" font-weight=\"bold\" lengthAdjust=\"spacingAndGlyphs\" textLength=\"90\" x=\"288\" y=\"228.9951\">Service Layer</text></a><a href=\"psysml:17a101e7-475f-4fc3-82c9-609370bf1116\" target=\"_top\" title=\"psysml:17a101e7-475f-4fc3-82c9-609370bf1116\" xlink:actuate=\"onRequest\" xlink:href=\"psysml:17a101e7-475f-4fc3-82c9-609370bf1116\" xlink:show=\"new\" xlink:title=\"psysml:17a101e7-475f-4fc3-82c9-609370bf1116\" xlink:type=\"simple\"><polygon fill=\"#FFFFFF\" points=\"293,344,371,344,378,366.2969,385,366.2969,385,396.5938,293,396.5938,293,344\" style=\"stroke: #000000; stroke-width: 1.5;\"/><line style=\"stroke: #000000; stroke-width: 1.5;\" x1=\"293\" x2=\"378\" y1=\"366.2969\" y2=\"366.2969\"/><text fill=\"#000000\" font-family=\"sans-serif\" font-size=\"14\" font-weight=\"bold\" lengthAdjust=\"spacingAndGlyphs\" textLength=\"72\" x=\"297\" y=\"358.9951\">Data Layer</text></a><!--MD5=[af87c684e3b0d8be13c1a698a818ef1e]\n",
       "link E3 to E4--><a href=\"psysml:8bc3dbe9-cd72-4429-a15e-d6826987fc7c\" target=\"_top\" title=\"psysml:8bc3dbe9-cd72-4429-a15e-d6826987fc7c\" xlink:actuate=\"onRequest\" xlink:href=\"psysml:8bc3dbe9-cd72-4429-a15e-d6826987fc7c\" xlink:show=\"new\" xlink:title=\"psysml:8bc3dbe9-cd72-4429-a15e-d6826987fc7c\" xlink:type=\"simple\"><path d=\"M339,137.1 C339,156.8 339,184.22 339,205.73 \" fill=\"none\" id=\"E3-&gt;E4\" style=\"stroke: #383838; stroke-width: 1.0; stroke-dasharray: 7.0,7.0;\"/><polygon fill=\"#383838\" points=\"339,213.95,342,205.95,336,205.95,339,213.95\" style=\"stroke: #383838; stroke-width: 1.0;\"/><text fill=\"#000000\" font-family=\"sans-serif\" font-size=\"13\" lengthAdjust=\"spacingAndGlyphs\" textLength=\"64\" x=\"340\" y=\"180.0669\">«depend»</text></a><!--MD5=[1b7591eae5389033d8d09a9d6721a717]\n",
       "link E4 to E5--><a href=\"psysml:a5d569dd-f966-4325-8014-b1c593712f38\" target=\"_top\" title=\"psysml:a5d569dd-f966-4325-8014-b1c593712f38\" xlink:actuate=\"onRequest\" xlink:href=\"psysml:a5d569dd-f966-4325-8014-b1c593712f38\" xlink:show=\"new\" xlink:title=\"psysml:a5d569dd-f966-4325-8014-b1c593712f38\" xlink:type=\"simple\"><path d=\"M339,267.1 C339,286.8 339,314.22 339,335.73 \" fill=\"none\" id=\"E4-&gt;E5\" style=\"stroke: #383838; stroke-width: 1.0; stroke-dasharray: 7.0,7.0;\"/><polygon fill=\"#383838\" points=\"339,343.95,342,335.95,336,335.95,339,343.95\" style=\"stroke: #383838; stroke-width: 1.0;\"/><text fill=\"#000000\" font-family=\"sans-serif\" font-size=\"13\" lengthAdjust=\"spacingAndGlyphs\" textLength=\"64\" x=\"340\" y=\"310.0669\">«depend»</text></a><!--MD5=[c5e8897d989ce984f93528998a7150fe]\n",
       "link E8 to E6--><a href=\"psysml:e9cc0fc6-3b4b-4571-a4a8-99018107eac1\" target=\"_top\" title=\"psysml:e9cc0fc6-3b4b-4571-a4a8-99018107eac1\" xlink:actuate=\"onRequest\" xlink:href=\"psysml:e9cc0fc6-3b4b-4571-a4a8-99018107eac1\" xlink:show=\"new\" xlink:title=\"psysml:e9cc0fc6-3b4b-4571-a4a8-99018107eac1\" xlink:type=\"simple\"><path d=\"M97.55,133.75 C81.97,149.19 64,167 64,167 C64,167 64,184 64,184 C64,184 64.88,196.21 65.81,209.18 \" fill=\"none\" id=\"E8-&gt;E6\" style=\"stroke: #383838; stroke-width: 1.0; stroke-dasharray: 7.0,7.0;\"/><polygon fill=\"#383838\" points=\"66.4,217.25,68.8203,209.056,62.8357,209.485,66.4,217.25\" style=\"stroke: #383838; stroke-width: 1.0;\"/><text fill=\"#000000\" font-family=\"sans-serif\" font-size=\"13\" lengthAdjust=\"spacingAndGlyphs\" textLength=\"64\" x=\"65\" y=\"180.0669\">«depend»</text></a><!--MD5=[bfa3c8b0d15052fdf50ae9310b491027]\n",
       "link E8 to E7--><a href=\"psysml:e9cc0fc6-3b4b-4571-a4a8-99018107eac1\" target=\"_top\" title=\"psysml:e9cc0fc6-3b4b-4571-a4a8-99018107eac1\" xlink:actuate=\"onRequest\" xlink:href=\"psysml:e9cc0fc6-3b4b-4571-a4a8-99018107eac1\" xlink:show=\"new\" xlink:title=\"psysml:e9cc0fc6-3b4b-4571-a4a8-99018107eac1\" xlink:type=\"simple\"><path d=\"M129.28,133.5 C138.17,154.57 151.64,186.5 161.47,209.81 \" fill=\"none\" id=\"E8-&gt;E7\" style=\"stroke: #383838; stroke-width: 1.0; stroke-dasharray: 7.0,7.0;\"/><polygon fill=\"#383838\" points=\"164.66,217.35,164.3241,208.8126,158.7933,211.1385,164.66,217.35\" style=\"stroke: #383838; stroke-width: 1.0;\"/><text fill=\"#000000\" font-family=\"sans-serif\" font-size=\"13\" lengthAdjust=\"spacingAndGlyphs\" textLength=\"64\" x=\"151\" y=\"180.0669\">«depend»</text></a><!--MD5=[82c263c3984e1fc72e117cd21ac8a05f]\n",
       "@startuml\r\n",
       "skinparam linetype polyline\r\n",
       "skinparam monochrome true\r\n",
       "skinparam classbackgroundcolor white\r\n",
       "skinparam shadowing false\r\n",
       "skinparam wrapWidth 300\r\n",
       "hide circle\r\n",
       "\r\n",
       "package \"DependencyTest\" as E1  [[psysml:d3869743-6750-4f05-a5ce-51c4137f7251 ]]  {\r\n",
       "package \"System\" as E2  [[psysml:6b74be88-9b37-4afd-8ab0-bbd062a94e7e ]]  {\r\n",
       "package \"Application Layer\" as E3  [[psysml:03aab854-f405-4fcc-aa77-08da242f79f1 ]]  {\r\n",
       "}\r\n",
       "package \"Service Layer\" as E4  [[psysml:ad996126-15a5-42e2-8928-0fb76718612c ]]  {\r\n",
       "}\r\n",
       "package \"Data Layer\" as E5  [[psysml:17a101e7-475f-4fc3-82c9-609370bf1116 ]]  {\r\n",
       "}\r\n",
       "}\r\n",
       "comp usage \"x\" as E6  <<(T,blue) attribute>> [[psysml:881809a4-48f2-4fe8-9827-6dde0f998bab ]] {\r\n",
       "}\r\n",
       "comp usage \"y\" as E7  <<(T,blue) attribute>> [[psysml:190ef100-b940-43fb-97f3-4b9e1cd4417f ]] {\r\n",
       "}\r\n",
       "comp usage \"z\" as E8  <<(T,blue) attribute>> [[psysml:293eb67f-3e12-4287-ab19-bcded2d3124c ]] {\r\n",
       "}\r\n",
       "}\r\n",
       "E3 ..>> E4 [[psysml:8bc3dbe9-cd72-4429-a15e-d6826987fc7c ]] : <<depend>>\r\n",
       "E4 ..>> E5 [[psysml:a5d569dd-f966-4325-8014-b1c593712f38 ]] : <<depend>>\r\n",
       "E8 ..>> E6 [[psysml:e9cc0fc6-3b4b-4571-a4a8-99018107eac1 ]] : <<depend>>\r\n",
       "E8 ..>> E7 [[psysml:e9cc0fc6-3b4b-4571-a4a8-99018107eac1 ]] : <<depend>>\r\n",
       "@enduml\r\n",
       "\n",
       "PlantUML version 1.2020.13(Sat Jun 13 12:26:38 UTC 2020)\n",
       "(EPL source distribution)\n",
       "Java Runtime: OpenJDK Runtime Environment\n",
       "JVM: OpenJDK 64-Bit Server VM\n",
       "Default Encoding: UTF-8\n",
       "Language: en\n",
       "Country: null\n",
       "--></g></svg>"
      ]
     },
     "execution_count": 9,
     "metadata": {},
     "output_type": "execute_result"
    }
   ],
   "source": [
    "%viz --style=\"POLYLINE\" --view=\"Default\" \"DependencyTest\""
   ]
  },
  {
   "cell_type": "code",
   "execution_count": 10,
   "id": "9542ce4d",
   "metadata": {
    "execution": {
     "iopub.execute_input": "2021-10-03T08:27:18.299824Z",
     "iopub.status.busy": "2021-10-03T08:27:18.299389Z",
     "iopub.status.idle": "2021-10-03T08:27:18.343604Z",
     "shell.execute_reply": "2021-10-03T08:27:18.343240Z"
    }
   },
   "outputs": [
    {
     "data": {
      "image/svg+xml": [
       "<?xml version=\"1.0\" encoding=\"UTF-8\" standalone=\"no\"?><svg xmlns=\"http://www.w3.org/2000/svg\" xmlns:xlink=\"http://www.w3.org/1999/xlink\" contentScriptType=\"application/ecmascript\" contentStyleType=\"text/css\" height=\"449px\" preserveAspectRatio=\"none\" style=\"width:469px;height:449px;\" version=\"1.1\" viewBox=\"0 0 469 449\" width=\"469px\" zoomAndPan=\"magnify\"><defs/><g><!--MD5=[fbc87193dbaf4d95561dea2c320d4a47]\n",
       "cluster E1--><a href=\"psysml:d3869743-6750-4f05-a5ce-51c4137f7251\" target=\"_top\" title=\"psysml:d3869743-6750-4f05-a5ce-51c4137f7251\" xlink:actuate=\"onRequest\" xlink:href=\"psysml:d3869743-6750-4f05-a5ce-51c4137f7251\" xlink:show=\"new\" xlink:title=\"psysml:d3869743-6750-4f05-a5ce-51c4137f7251\" xlink:type=\"simple\"><polygon fill=\"#FFFFFF\" points=\"16,6,142,6,149,28.2969,447,28.2969,447,437,16,437,16,6\" style=\"stroke: #000000; stroke-width: 1.5;\"/><line style=\"stroke: #000000; stroke-width: 1.5;\" x1=\"16\" x2=\"149\" y1=\"28.2969\" y2=\"28.2969\"/><text fill=\"#000000\" font-family=\"sans-serif\" font-size=\"14\" font-weight=\"bold\" lengthAdjust=\"spacingAndGlyphs\" textLength=\"120\" x=\"20\" y=\"20.9951\">DependencyTest</text></a><!--MD5=[e4f7fae6ed58524ba242bb0b0d3be6b7]\n",
       "cluster E2--><a href=\"psysml:6b74be88-9b37-4afd-8ab0-bbd062a94e7e\" target=\"_top\" title=\"psysml:6b74be88-9b37-4afd-8ab0-bbd062a94e7e\" xlink:actuate=\"onRequest\" xlink:href=\"psysml:6b74be88-9b37-4afd-8ab0-bbd062a94e7e\" xlink:show=\"new\" xlink:title=\"psysml:6b74be88-9b37-4afd-8ab0-bbd062a94e7e\" xlink:type=\"simple\"><polygon fill=\"#FFFFFF\" points=\"255,49,312,49,319,71.2969,423,71.2969,423,413,255,413,255,49\" style=\"stroke: #000000; stroke-width: 1.5;\"/><line style=\"stroke: #000000; stroke-width: 1.5;\" x1=\"255\" x2=\"319\" y1=\"71.2969\" y2=\"71.2969\"/><text fill=\"#000000\" font-family=\"sans-serif\" font-size=\"14\" font-weight=\"bold\" lengthAdjust=\"spacingAndGlyphs\" textLength=\"51\" x=\"259\" y=\"63.9951\">System</text></a><!--MD5=[60a26617385b1d2d0262a64233df1f8d]\n",
       "class E6--><a href=\"psysml:881809a4-48f2-4fe8-9827-6dde0f998bab\" target=\"_top\" title=\"psysml:881809a4-48f2-4fe8-9827-6dde0f998bab\" xlink:actuate=\"onRequest\" xlink:href=\"psysml:881809a4-48f2-4fe8-9827-6dde0f998bab\" xlink:show=\"new\" xlink:title=\"psysml:881809a4-48f2-4fe8-9827-6dde0f998bab\" xlink:type=\"simple\"><rect fill=\"#FFFFFF\" height=\"45.9375\" id=\"E6\" rx=\"10\" ry=\"10\" style=\"stroke: #383838; stroke-width: 1.5;\" width=\"71\" x=\"32.5\" y=\"217.5\"/><text fill=\"#000000\" font-family=\"sans-serif\" font-size=\"12\" font-style=\"italic\" lengthAdjust=\"spacingAndGlyphs\" textLength=\"69\" x=\"33.5\" y=\"233.6387\">«attribute»</text><text fill=\"#000000\" font-family=\"sans-serif\" font-size=\"12\" lengthAdjust=\"spacingAndGlyphs\" textLength=\"6\" x=\"65\" y=\"247.6074\">x</text><line style=\"stroke: #383838; stroke-width: 1.5;\" x1=\"33.5\" x2=\"102.5\" y1=\"255.4375\" y2=\"255.4375\"/></a><!--MD5=[2156ba9850f5573cc1fc38a6a4b2f02b]\n",
       "class E7--><a href=\"psysml:190ef100-b940-43fb-97f3-4b9e1cd4417f\" target=\"_top\" title=\"psysml:190ef100-b940-43fb-97f3-4b9e1cd4417f\" xlink:actuate=\"onRequest\" xlink:href=\"psysml:190ef100-b940-43fb-97f3-4b9e1cd4417f\" xlink:show=\"new\" xlink:title=\"psysml:190ef100-b940-43fb-97f3-4b9e1cd4417f\" xlink:type=\"simple\"><rect fill=\"#FFFFFF\" height=\"45.9375\" id=\"E7\" rx=\"10\" ry=\"10\" style=\"stroke: #383838; stroke-width: 1.5;\" width=\"71\" x=\"138.5\" y=\"217.5\"/><text fill=\"#000000\" font-family=\"sans-serif\" font-size=\"12\" font-style=\"italic\" lengthAdjust=\"spacingAndGlyphs\" textLength=\"69\" x=\"139.5\" y=\"233.6387\">«attribute»</text><text fill=\"#000000\" font-family=\"sans-serif\" font-size=\"12\" lengthAdjust=\"spacingAndGlyphs\" textLength=\"6\" x=\"171\" y=\"247.6074\">y</text><line style=\"stroke: #383838; stroke-width: 1.5;\" x1=\"139.5\" x2=\"208.5\" y1=\"255.4375\" y2=\"255.4375\"/></a><!--MD5=[b9389687b975829384b498ac4b7476b2]\n",
       "class E8--><a href=\"psysml:293eb67f-3e12-4287-ab19-bcded2d3124c\" target=\"_top\" title=\"psysml:293eb67f-3e12-4287-ab19-bcded2d3124c\" xlink:actuate=\"onRequest\" xlink:href=\"psysml:293eb67f-3e12-4287-ab19-bcded2d3124c\" xlink:show=\"new\" xlink:title=\"psysml:293eb67f-3e12-4287-ab19-bcded2d3124c\" xlink:type=\"simple\"><rect fill=\"#FFFFFF\" height=\"45.9375\" id=\"E8\" rx=\"10\" ry=\"10\" style=\"stroke: #383838; stroke-width: 1.5;\" width=\"71\" x=\"84.5\" y=\"87.5\"/><text fill=\"#000000\" font-family=\"sans-serif\" font-size=\"12\" font-style=\"italic\" lengthAdjust=\"spacingAndGlyphs\" textLength=\"69\" x=\"85.5\" y=\"103.6387\">«attribute»</text><text fill=\"#000000\" font-family=\"sans-serif\" font-size=\"12\" lengthAdjust=\"spacingAndGlyphs\" textLength=\"5\" x=\"117.5\" y=\"117.6074\">z</text><line style=\"stroke: #383838; stroke-width: 1.5;\" x1=\"85.5\" x2=\"154.5\" y1=\"125.4375\" y2=\"125.4375\"/></a><a href=\"psysml:03aab854-f405-4fcc-aa77-08da242f79f1\" target=\"_top\" title=\"psysml:03aab854-f405-4fcc-aa77-08da242f79f1\" xlink:actuate=\"onRequest\" xlink:href=\"psysml:03aab854-f405-4fcc-aa77-08da242f79f1\" xlink:show=\"new\" xlink:title=\"psysml:03aab854-f405-4fcc-aa77-08da242f79f1\" xlink:type=\"simple\"><polygon fill=\"#FFFFFF\" points=\"271.5,84,392.5,84,399.5,106.2969,406.5,106.2969,406.5,136.5938,271.5,136.5938,271.5,84\" style=\"stroke: #000000; stroke-width: 1.5;\"/><line style=\"stroke: #000000; stroke-width: 1.5;\" x1=\"271.5\" x2=\"399.5\" y1=\"106.2969\" y2=\"106.2969\"/><text fill=\"#000000\" font-family=\"sans-serif\" font-size=\"14\" font-weight=\"bold\" lengthAdjust=\"spacingAndGlyphs\" textLength=\"115\" x=\"275.5\" y=\"98.9951\">Application Layer</text></a><a href=\"psysml:ad996126-15a5-42e2-8928-0fb76718612c\" target=\"_top\" title=\"psysml:ad996126-15a5-42e2-8928-0fb76718612c\" xlink:actuate=\"onRequest\" xlink:href=\"psysml:ad996126-15a5-42e2-8928-0fb76718612c\" xlink:show=\"new\" xlink:title=\"psysml:ad996126-15a5-42e2-8928-0fb76718612c\" xlink:type=\"simple\"><polygon fill=\"#FFFFFF\" points=\"284,214,380,214,387,236.2969,394,236.2969,394,266.5938,284,266.5938,284,214\" style=\"stroke: #000000; stroke-width: 1.5;\"/><line style=\"stroke: #000000; stroke-width: 1.5;\" x1=\"284\" x2=\"387\" y1=\"236.2969\" y2=\"236.2969\"/><text fill=\"#000000\" font-family=\"sans-serif\" font-size=\"14\" font-weight=\"bold\" lengthAdjust=\"spacingAndGlyphs\" textLength=\"90\" x=\"288\" y=\"228.9951\">Service Layer</text></a><a href=\"psysml:17a101e7-475f-4fc3-82c9-609370bf1116\" target=\"_top\" title=\"psysml:17a101e7-475f-4fc3-82c9-609370bf1116\" xlink:actuate=\"onRequest\" xlink:href=\"psysml:17a101e7-475f-4fc3-82c9-609370bf1116\" xlink:show=\"new\" xlink:title=\"psysml:17a101e7-475f-4fc3-82c9-609370bf1116\" xlink:type=\"simple\"><polygon fill=\"#FFFFFF\" points=\"293,344,371,344,378,366.2969,385,366.2969,385,396.5938,293,396.5938,293,344\" style=\"stroke: #000000; stroke-width: 1.5;\"/><line style=\"stroke: #000000; stroke-width: 1.5;\" x1=\"293\" x2=\"378\" y1=\"366.2969\" y2=\"366.2969\"/><text fill=\"#000000\" font-family=\"sans-serif\" font-size=\"14\" font-weight=\"bold\" lengthAdjust=\"spacingAndGlyphs\" textLength=\"72\" x=\"297\" y=\"358.9951\">Data Layer</text></a><!--MD5=[af87c684e3b0d8be13c1a698a818ef1e]\n",
       "link E3 to E4--><a href=\"psysml:8bc3dbe9-cd72-4429-a15e-d6826987fc7c\" target=\"_top\" title=\"psysml:8bc3dbe9-cd72-4429-a15e-d6826987fc7c\" xlink:actuate=\"onRequest\" xlink:href=\"psysml:8bc3dbe9-cd72-4429-a15e-d6826987fc7c\" xlink:show=\"new\" xlink:title=\"psysml:8bc3dbe9-cd72-4429-a15e-d6826987fc7c\" xlink:type=\"simple\"><path d=\"M339,137.1 C339,156.8 339,184.22 339,205.73 \" fill=\"none\" id=\"E3-&gt;E4\" style=\"stroke: #383838; stroke-width: 1.0; stroke-dasharray: 7.0,7.0;\"/><polygon fill=\"#383838\" points=\"339,213.95,342,205.95,336,205.95,339,213.95\" style=\"stroke: #383838; stroke-width: 1.0;\"/><text fill=\"#000000\" font-family=\"sans-serif\" font-size=\"13\" lengthAdjust=\"spacingAndGlyphs\" textLength=\"64\" x=\"340\" y=\"180.0669\">«depend»</text></a><!--MD5=[1b7591eae5389033d8d09a9d6721a717]\n",
       "link E4 to E5--><a href=\"psysml:a5d569dd-f966-4325-8014-b1c593712f38\" target=\"_top\" title=\"psysml:a5d569dd-f966-4325-8014-b1c593712f38\" xlink:actuate=\"onRequest\" xlink:href=\"psysml:a5d569dd-f966-4325-8014-b1c593712f38\" xlink:show=\"new\" xlink:title=\"psysml:a5d569dd-f966-4325-8014-b1c593712f38\" xlink:type=\"simple\"><path d=\"M339,267.1 C339,286.8 339,314.22 339,335.73 \" fill=\"none\" id=\"E4-&gt;E5\" style=\"stroke: #383838; stroke-width: 1.0; stroke-dasharray: 7.0,7.0;\"/><polygon fill=\"#383838\" points=\"339,343.95,342,335.95,336,335.95,339,343.95\" style=\"stroke: #383838; stroke-width: 1.0;\"/><text fill=\"#000000\" font-family=\"sans-serif\" font-size=\"13\" lengthAdjust=\"spacingAndGlyphs\" textLength=\"64\" x=\"340\" y=\"310.0669\">«depend»</text></a><!--MD5=[c5e8897d989ce984f93528998a7150fe]\n",
       "link E8 to E6--><a href=\"psysml:e9cc0fc6-3b4b-4571-a4a8-99018107eac1\" target=\"_top\" title=\"psysml:e9cc0fc6-3b4b-4571-a4a8-99018107eac1\" xlink:actuate=\"onRequest\" xlink:href=\"psysml:e9cc0fc6-3b4b-4571-a4a8-99018107eac1\" xlink:show=\"new\" xlink:title=\"psysml:e9cc0fc6-3b4b-4571-a4a8-99018107eac1\" xlink:type=\"simple\"><path d=\"M97.55,133.75 C81.97,149.19 64,167 64,167 C64,167 64,184 64,184 C64,184 64.88,196.21 65.81,209.18 \" fill=\"none\" id=\"E8-&gt;E6\" style=\"stroke: #383838; stroke-width: 1.0; stroke-dasharray: 7.0,7.0;\"/><polygon fill=\"#383838\" points=\"66.4,217.25,68.8203,209.056,62.8357,209.485,66.4,217.25\" style=\"stroke: #383838; stroke-width: 1.0;\"/><text fill=\"#000000\" font-family=\"sans-serif\" font-size=\"13\" lengthAdjust=\"spacingAndGlyphs\" textLength=\"64\" x=\"65\" y=\"180.0669\">«depend»</text></a><!--MD5=[bfa3c8b0d15052fdf50ae9310b491027]\n",
       "link E8 to E7--><a href=\"psysml:e9cc0fc6-3b4b-4571-a4a8-99018107eac1\" target=\"_top\" title=\"psysml:e9cc0fc6-3b4b-4571-a4a8-99018107eac1\" xlink:actuate=\"onRequest\" xlink:href=\"psysml:e9cc0fc6-3b4b-4571-a4a8-99018107eac1\" xlink:show=\"new\" xlink:title=\"psysml:e9cc0fc6-3b4b-4571-a4a8-99018107eac1\" xlink:type=\"simple\"><path d=\"M129.28,133.5 C138.17,154.57 151.64,186.5 161.47,209.81 \" fill=\"none\" id=\"E8-&gt;E7\" style=\"stroke: #383838; stroke-width: 1.0; stroke-dasharray: 7.0,7.0;\"/><polygon fill=\"#383838\" points=\"164.66,217.35,164.3241,208.8126,158.7933,211.1385,164.66,217.35\" style=\"stroke: #383838; stroke-width: 1.0;\"/><text fill=\"#000000\" font-family=\"sans-serif\" font-size=\"13\" lengthAdjust=\"spacingAndGlyphs\" textLength=\"64\" x=\"151\" y=\"180.0669\">«depend»</text></a><!--MD5=[82c263c3984e1fc72e117cd21ac8a05f]\n",
       "@startuml\r\n",
       "skinparam linetype polyline\r\n",
       "skinparam monochrome true\r\n",
       "skinparam classbackgroundcolor white\r\n",
       "skinparam shadowing false\r\n",
       "skinparam wrapWidth 300\r\n",
       "hide circle\r\n",
       "\r\n",
       "package \"DependencyTest\" as E1  [[psysml:d3869743-6750-4f05-a5ce-51c4137f7251 ]]  {\r\n",
       "package \"System\" as E2  [[psysml:6b74be88-9b37-4afd-8ab0-bbd062a94e7e ]]  {\r\n",
       "package \"Application Layer\" as E3  [[psysml:03aab854-f405-4fcc-aa77-08da242f79f1 ]]  {\r\n",
       "}\r\n",
       "package \"Service Layer\" as E4  [[psysml:ad996126-15a5-42e2-8928-0fb76718612c ]]  {\r\n",
       "}\r\n",
       "package \"Data Layer\" as E5  [[psysml:17a101e7-475f-4fc3-82c9-609370bf1116 ]]  {\r\n",
       "}\r\n",
       "}\r\n",
       "comp usage \"x\" as E6  <<(T,blue) attribute>> [[psysml:881809a4-48f2-4fe8-9827-6dde0f998bab ]] {\r\n",
       "}\r\n",
       "comp usage \"y\" as E7  <<(T,blue) attribute>> [[psysml:190ef100-b940-43fb-97f3-4b9e1cd4417f ]] {\r\n",
       "}\r\n",
       "comp usage \"z\" as E8  <<(T,blue) attribute>> [[psysml:293eb67f-3e12-4287-ab19-bcded2d3124c ]] {\r\n",
       "}\r\n",
       "}\r\n",
       "E3 ..>> E4 [[psysml:8bc3dbe9-cd72-4429-a15e-d6826987fc7c ]] : <<depend>>\r\n",
       "E4 ..>> E5 [[psysml:a5d569dd-f966-4325-8014-b1c593712f38 ]] : <<depend>>\r\n",
       "E8 ..>> E6 [[psysml:e9cc0fc6-3b4b-4571-a4a8-99018107eac1 ]] : <<depend>>\r\n",
       "E8 ..>> E7 [[psysml:e9cc0fc6-3b4b-4571-a4a8-99018107eac1 ]] : <<depend>>\r\n",
       "@enduml\r\n",
       "\n",
       "PlantUML version 1.2020.13(Sat Jun 13 12:26:38 UTC 2020)\n",
       "(EPL source distribution)\n",
       "Java Runtime: OpenJDK Runtime Environment\n",
       "JVM: OpenJDK 64-Bit Server VM\n",
       "Default Encoding: UTF-8\n",
       "Language: en\n",
       "Country: null\n",
       "--></g></svg>"
      ]
     },
     "execution_count": 10,
     "metadata": {},
     "output_type": "execute_result"
    }
   ],
   "source": [
    "%viz --style=\"POLYLINE\" --view=\"Tree\" \"DependencyTest\""
   ]
  },
  {
   "cell_type": "code",
   "execution_count": 11,
   "id": "63e20f87",
   "metadata": {
    "execution": {
     "iopub.execute_input": "2021-10-03T08:27:18.393063Z",
     "iopub.status.busy": "2021-10-03T08:27:18.392598Z",
     "iopub.status.idle": "2021-10-03T08:27:18.399065Z",
     "shell.execute_reply": "2021-10-03T08:27:18.399580Z"
    }
   },
   "outputs": [
    {
     "data": {
      "image/svg+xml": [
       "<?xml version=\"1.0\" encoding=\"UTF-8\" standalone=\"no\"?><svg xmlns=\"http://www.w3.org/2000/svg\" xmlns:xlink=\"http://www.w3.org/1999/xlink\" contentScriptType=\"application/ecmascript\" contentStyleType=\"text/css\" height=\"12px\" preserveAspectRatio=\"none\" style=\"width:12px;height:12px;\" version=\"1.1\" viewBox=\"0 0 12 12\" width=\"12px\" zoomAndPan=\"magnify\"><defs/><g><!--MD5=[896ac0e7a515d8dd7765a661cb4ee08b]\n",
       "@startuml\r\n",
       "skinparam linetype polyline\r\n",
       "skinparam monochrome true\r\n",
       "skinparam classbackgroundcolor white\r\n",
       "skinparam shadowing false\r\n",
       "skinparam wrapWidth 300\r\n",
       "hide circle\r\n",
       "\r\n",
       "@enduml\r\n",
       "\n",
       "PlantUML version 1.2020.13(Sat Jun 13 12:26:38 UTC 2020)\n",
       "(EPL source distribution)\n",
       "Java Runtime: OpenJDK Runtime Environment\n",
       "JVM: OpenJDK 64-Bit Server VM\n",
       "Default Encoding: UTF-8\n",
       "Language: en\n",
       "Country: null\n",
       "--></g></svg>"
      ]
     },
     "execution_count": 11,
     "metadata": {},
     "output_type": "execute_result"
    }
   ],
   "source": [
    "%viz --style=\"POLYLINE\" --view=\"State\" \"DependencyTest\""
   ]
  },
  {
   "cell_type": "code",
   "execution_count": 12,
   "id": "97406b3a",
   "metadata": {
    "execution": {
     "iopub.execute_input": "2021-10-03T08:27:18.448626Z",
     "iopub.status.busy": "2021-10-03T08:27:18.448210Z",
     "iopub.status.idle": "2021-10-03T08:27:18.494053Z",
     "shell.execute_reply": "2021-10-03T08:27:18.493454Z"
    }
   },
   "outputs": [
    {
     "data": {
      "image/svg+xml": [
       "<?xml version=\"1.0\" encoding=\"UTF-8\" standalone=\"no\"?><svg xmlns=\"http://www.w3.org/2000/svg\" xmlns:xlink=\"http://www.w3.org/1999/xlink\" contentScriptType=\"application/ecmascript\" contentStyleType=\"text/css\" height=\"361px\" preserveAspectRatio=\"none\" style=\"width:469px;height:361px;\" version=\"1.1\" viewBox=\"0 0 469 361\" width=\"469px\" zoomAndPan=\"magnify\"><defs/><g><!--MD5=[fbc87193dbaf4d95561dea2c320d4a47]\n",
       "cluster E1--><a href=\"psysml:d3869743-6750-4f05-a5ce-51c4137f7251\" target=\"_top\" title=\"psysml:d3869743-6750-4f05-a5ce-51c4137f7251\" xlink:actuate=\"onRequest\" xlink:href=\"psysml:d3869743-6750-4f05-a5ce-51c4137f7251\" xlink:show=\"new\" xlink:title=\"psysml:d3869743-6750-4f05-a5ce-51c4137f7251\" xlink:type=\"simple\"><polygon fill=\"#FFFFFF\" points=\"16,6,142,6,149,28.2969,447,28.2969,447,349,16,349,16,6\" style=\"stroke: #000000; stroke-width: 1.5;\"/><line style=\"stroke: #000000; stroke-width: 1.5;\" x1=\"16\" x2=\"149\" y1=\"28.2969\" y2=\"28.2969\"/><text fill=\"#000000\" font-family=\"sans-serif\" font-size=\"14\" font-weight=\"bold\" lengthAdjust=\"spacingAndGlyphs\" textLength=\"120\" x=\"20\" y=\"20.9951\">DependencyTest</text></a><!--MD5=[e4f7fae6ed58524ba242bb0b0d3be6b7]\n",
       "cluster E2--><a href=\"psysml:6b74be88-9b37-4afd-8ab0-bbd062a94e7e\" target=\"_top\" title=\"psysml:6b74be88-9b37-4afd-8ab0-bbd062a94e7e\" xlink:actuate=\"onRequest\" xlink:href=\"psysml:6b74be88-9b37-4afd-8ab0-bbd062a94e7e\" xlink:show=\"new\" xlink:title=\"psysml:6b74be88-9b37-4afd-8ab0-bbd062a94e7e\" xlink:type=\"simple\"><polygon fill=\"#FFFFFF\" points=\"255,49,312,49,319,71.2969,423,71.2969,423,325,255,325,255,49\" style=\"stroke: #000000; stroke-width: 1.5;\"/><line style=\"stroke: #000000; stroke-width: 1.5;\" x1=\"255\" x2=\"319\" y1=\"71.2969\" y2=\"71.2969\"/><text fill=\"#000000\" font-family=\"sans-serif\" font-size=\"14\" font-weight=\"bold\" lengthAdjust=\"spacingAndGlyphs\" textLength=\"51\" x=\"259\" y=\"63.9951\">System</text></a><!--MD5=[60a26617385b1d2d0262a64233df1f8d]\n",
       "class E6--><a href=\"psysml:881809a4-48f2-4fe8-9827-6dde0f998bab\" target=\"_top\" title=\"psysml:881809a4-48f2-4fe8-9827-6dde0f998bab\" xlink:actuate=\"onRequest\" xlink:href=\"psysml:881809a4-48f2-4fe8-9827-6dde0f998bab\" xlink:show=\"new\" xlink:title=\"psysml:881809a4-48f2-4fe8-9827-6dde0f998bab\" xlink:type=\"simple\"><rect fill=\"#FFFFFF\" height=\"45.9375\" id=\"E6\" rx=\"10\" ry=\"10\" style=\"stroke: #383838; stroke-width: 1.5;\" width=\"71\" x=\"32.5\" y=\"173.5\"/><text fill=\"#000000\" font-family=\"sans-serif\" font-size=\"12\" font-style=\"italic\" lengthAdjust=\"spacingAndGlyphs\" textLength=\"69\" x=\"33.5\" y=\"189.6387\">«attribute»</text><text fill=\"#000000\" font-family=\"sans-serif\" font-size=\"12\" lengthAdjust=\"spacingAndGlyphs\" textLength=\"6\" x=\"65\" y=\"203.6074\">x</text><line style=\"stroke: #383838; stroke-width: 1.5;\" x1=\"33.5\" x2=\"102.5\" y1=\"211.4375\" y2=\"211.4375\"/></a><!--MD5=[2156ba9850f5573cc1fc38a6a4b2f02b]\n",
       "class E7--><a href=\"psysml:190ef100-b940-43fb-97f3-4b9e1cd4417f\" target=\"_top\" title=\"psysml:190ef100-b940-43fb-97f3-4b9e1cd4417f\" xlink:actuate=\"onRequest\" xlink:href=\"psysml:190ef100-b940-43fb-97f3-4b9e1cd4417f\" xlink:show=\"new\" xlink:title=\"psysml:190ef100-b940-43fb-97f3-4b9e1cd4417f\" xlink:type=\"simple\"><rect fill=\"#FFFFFF\" height=\"45.9375\" id=\"E7\" rx=\"10\" ry=\"10\" style=\"stroke: #383838; stroke-width: 1.5;\" width=\"71\" x=\"138.5\" y=\"173.5\"/><text fill=\"#000000\" font-family=\"sans-serif\" font-size=\"12\" font-style=\"italic\" lengthAdjust=\"spacingAndGlyphs\" textLength=\"69\" x=\"139.5\" y=\"189.6387\">«attribute»</text><text fill=\"#000000\" font-family=\"sans-serif\" font-size=\"12\" lengthAdjust=\"spacingAndGlyphs\" textLength=\"6\" x=\"171\" y=\"203.6074\">y</text><line style=\"stroke: #383838; stroke-width: 1.5;\" x1=\"139.5\" x2=\"208.5\" y1=\"211.4375\" y2=\"211.4375\"/></a><!--MD5=[b9389687b975829384b498ac4b7476b2]\n",
       "class E8--><a href=\"psysml:293eb67f-3e12-4287-ab19-bcded2d3124c\" target=\"_top\" title=\"psysml:293eb67f-3e12-4287-ab19-bcded2d3124c\" xlink:actuate=\"onRequest\" xlink:href=\"psysml:293eb67f-3e12-4287-ab19-bcded2d3124c\" xlink:show=\"new\" xlink:title=\"psysml:293eb67f-3e12-4287-ab19-bcded2d3124c\" xlink:type=\"simple\"><rect fill=\"#FFFFFF\" height=\"45.9375\" id=\"E8\" rx=\"10\" ry=\"10\" style=\"stroke: #383838; stroke-width: 1.5;\" width=\"71\" x=\"84.5\" y=\"87.5\"/><text fill=\"#000000\" font-family=\"sans-serif\" font-size=\"12\" font-style=\"italic\" lengthAdjust=\"spacingAndGlyphs\" textLength=\"69\" x=\"85.5\" y=\"103.6387\">«attribute»</text><text fill=\"#000000\" font-family=\"sans-serif\" font-size=\"12\" lengthAdjust=\"spacingAndGlyphs\" textLength=\"5\" x=\"117.5\" y=\"117.6074\">z</text><line style=\"stroke: #383838; stroke-width: 1.5;\" x1=\"85.5\" x2=\"154.5\" y1=\"125.4375\" y2=\"125.4375\"/></a><a href=\"psysml:03aab854-f405-4fcc-aa77-08da242f79f1\" target=\"_top\" title=\"psysml:03aab854-f405-4fcc-aa77-08da242f79f1\" xlink:actuate=\"onRequest\" xlink:href=\"psysml:03aab854-f405-4fcc-aa77-08da242f79f1\" xlink:show=\"new\" xlink:title=\"psysml:03aab854-f405-4fcc-aa77-08da242f79f1\" xlink:type=\"simple\"><polygon fill=\"#FFFFFF\" points=\"271.5,84,392.5,84,399.5,106.2969,406.5,106.2969,406.5,136.5938,271.5,136.5938,271.5,84\" style=\"stroke: #000000; stroke-width: 1.5;\"/><line style=\"stroke: #000000; stroke-width: 1.5;\" x1=\"271.5\" x2=\"399.5\" y1=\"106.2969\" y2=\"106.2969\"/><text fill=\"#000000\" font-family=\"sans-serif\" font-size=\"14\" font-weight=\"bold\" lengthAdjust=\"spacingAndGlyphs\" textLength=\"115\" x=\"275.5\" y=\"98.9951\">Application Layer</text></a><a href=\"psysml:ad996126-15a5-42e2-8928-0fb76718612c\" target=\"_top\" title=\"psysml:ad996126-15a5-42e2-8928-0fb76718612c\" xlink:actuate=\"onRequest\" xlink:href=\"psysml:ad996126-15a5-42e2-8928-0fb76718612c\" xlink:show=\"new\" xlink:title=\"psysml:ad996126-15a5-42e2-8928-0fb76718612c\" xlink:type=\"simple\"><polygon fill=\"#FFFFFF\" points=\"284,170,380,170,387,192.2969,394,192.2969,394,222.5938,284,222.5938,284,170\" style=\"stroke: #000000; stroke-width: 1.5;\"/><line style=\"stroke: #000000; stroke-width: 1.5;\" x1=\"284\" x2=\"387\" y1=\"192.2969\" y2=\"192.2969\"/><text fill=\"#000000\" font-family=\"sans-serif\" font-size=\"14\" font-weight=\"bold\" lengthAdjust=\"spacingAndGlyphs\" textLength=\"90\" x=\"288\" y=\"184.9951\">Service Layer</text></a><a href=\"psysml:17a101e7-475f-4fc3-82c9-609370bf1116\" target=\"_top\" title=\"psysml:17a101e7-475f-4fc3-82c9-609370bf1116\" xlink:actuate=\"onRequest\" xlink:href=\"psysml:17a101e7-475f-4fc3-82c9-609370bf1116\" xlink:show=\"new\" xlink:title=\"psysml:17a101e7-475f-4fc3-82c9-609370bf1116\" xlink:type=\"simple\"><polygon fill=\"#FFFFFF\" points=\"293,256,371,256,378,278.2969,385,278.2969,385,308.5938,293,308.5938,293,256\" style=\"stroke: #000000; stroke-width: 1.5;\"/><line style=\"stroke: #000000; stroke-width: 1.5;\" x1=\"293\" x2=\"378\" y1=\"278.2969\" y2=\"278.2969\"/><text fill=\"#000000\" font-family=\"sans-serif\" font-size=\"14\" font-weight=\"bold\" lengthAdjust=\"spacingAndGlyphs\" textLength=\"72\" x=\"297\" y=\"270.9951\">Data Layer</text></a><!--MD5=[af87c684e3b0d8be13c1a698a818ef1e]\n",
       "link E3 to E4--><a href=\"psysml:8bc3dbe9-cd72-4429-a15e-d6826987fc7c\" target=\"_top\" title=\"psysml:8bc3dbe9-cd72-4429-a15e-d6826987fc7c\" xlink:actuate=\"onRequest\" xlink:href=\"psysml:8bc3dbe9-cd72-4429-a15e-d6826987fc7c\" xlink:show=\"new\" xlink:title=\"psysml:8bc3dbe9-cd72-4429-a15e-d6826987fc7c\" xlink:type=\"simple\"><path d=\"M339,137.16 C339,144.98 339,153.69 339,161.94 \" fill=\"none\" id=\"E3-&gt;E4\" style=\"stroke: #383838; stroke-width: 1.0; stroke-dasharray: 7.0,7.0;\"/><polygon fill=\"#383838\" points=\"339,170,342,162,336,162,339,170\" style=\"stroke: #383838; stroke-width: 1.0;\"/><text fill=\"#000000\" font-family=\"sans-serif\" font-size=\"13\" lengthAdjust=\"spacingAndGlyphs\" textLength=\"64\" x=\"340\" y=\"158.0669\">«depend»</text></a><!--MD5=[1b7591eae5389033d8d09a9d6721a717]\n",
       "link E4 to E5--><a href=\"psysml:a5d569dd-f966-4325-8014-b1c593712f38\" target=\"_top\" title=\"psysml:a5d569dd-f966-4325-8014-b1c593712f38\" xlink:actuate=\"onRequest\" xlink:href=\"psysml:a5d569dd-f966-4325-8014-b1c593712f38\" xlink:show=\"new\" xlink:title=\"psysml:a5d569dd-f966-4325-8014-b1c593712f38\" xlink:type=\"simple\"><path d=\"M339,223.16 C339,230.98 339,239.69 339,247.94 \" fill=\"none\" id=\"E4-&gt;E5\" style=\"stroke: #383838; stroke-width: 1.0; stroke-dasharray: 7.0,7.0;\"/><polygon fill=\"#383838\" points=\"339,256,342,248,336,248,339,256\" style=\"stroke: #383838; stroke-width: 1.0;\"/><text fill=\"#000000\" font-family=\"sans-serif\" font-size=\"13\" lengthAdjust=\"spacingAndGlyphs\" textLength=\"64\" x=\"340\" y=\"244.0669\">«depend»</text></a><!--MD5=[c5e8897d989ce984f93528998a7150fe]\n",
       "link E8 to E6--><a href=\"psysml:e9cc0fc6-3b4b-4571-a4a8-99018107eac1\" target=\"_top\" title=\"psysml:e9cc0fc6-3b4b-4571-a4a8-99018107eac1\" xlink:actuate=\"onRequest\" xlink:href=\"psysml:e9cc0fc6-3b4b-4571-a4a8-99018107eac1\" xlink:show=\"new\" xlink:title=\"psysml:e9cc0fc6-3b4b-4571-a4a8-99018107eac1\" xlink:type=\"simple\"><path d=\"M84.22,132.91 C73.24,139.47 64,145 64,145 C64,145 64,162 64,162 C64,162 64.15,163.28 64.4,165.33 \" fill=\"none\" id=\"E8-&gt;E6\" style=\"stroke: #383838; stroke-width: 1.0; stroke-dasharray: 7.0,7.0;\"/><polygon fill=\"#383838\" points=\"65.35,173.34,67.3861,165.0421,61.4279,165.7494,65.35,173.34\" style=\"stroke: #383838; stroke-width: 1.0;\"/><text fill=\"#000000\" font-family=\"sans-serif\" font-size=\"13\" lengthAdjust=\"spacingAndGlyphs\" textLength=\"64\" x=\"65\" y=\"158.0669\">«depend»</text></a><!--MD5=[bfa3c8b0d15052fdf50ae9310b491027]\n",
       "link E8 to E7--><a href=\"psysml:e9cc0fc6-3b4b-4571-a4a8-99018107eac1\" target=\"_top\" title=\"psysml:e9cc0fc6-3b4b-4571-a4a8-99018107eac1\" xlink:actuate=\"onRequest\" xlink:href=\"psysml:e9cc0fc6-3b4b-4571-a4a8-99018107eac1\" xlink:show=\"new\" xlink:title=\"psysml:e9cc0fc6-3b4b-4571-a4a8-99018107eac1\" xlink:type=\"simple\"><path d=\"M134.19,133.57 C140.65,143.62 148.38,155.65 155.31,166.42 \" fill=\"none\" id=\"E8-&gt;E7\" style=\"stroke: #383838; stroke-width: 1.0; stroke-dasharray: 7.0,7.0;\"/><polygon fill=\"#383838\" points=\"159.72,173.29,157.9148,164.9389,152.8688,168.185,159.72,173.29\" style=\"stroke: #383838; stroke-width: 1.0;\"/><text fill=\"#000000\" font-family=\"sans-serif\" font-size=\"13\" lengthAdjust=\"spacingAndGlyphs\" textLength=\"64\" x=\"152\" y=\"158.0669\">«depend»</text></a><!--MD5=[4fc3c44cf3054a47a41c63283e507e75]\n",
       "@startuml\r\n",
       "skinparam ranksep 10\r\n",
       "skinparam rectangle {\r\n",
       " backgroundColor<<block>> LightGreen\r\n",
       "}\r\n",
       "skinparam linetype polyline\r\n",
       "skinparam monochrome true\r\n",
       "skinparam classbackgroundcolor white\r\n",
       "skinparam shadowing false\r\n",
       "skinparam wrapWidth 300\r\n",
       "hide circle\r\n",
       "\r\n",
       "package \"DependencyTest\" as E1  [[psysml:d3869743-6750-4f05-a5ce-51c4137f7251 ]]  {\r\n",
       "package \"System\" as E2  [[psysml:6b74be88-9b37-4afd-8ab0-bbd062a94e7e ]]  {\r\n",
       "package \"Application Layer\" as E3  [[psysml:03aab854-f405-4fcc-aa77-08da242f79f1 ]]  {\r\n",
       "}\r\n",
       "package \"Service Layer\" as E4  [[psysml:ad996126-15a5-42e2-8928-0fb76718612c ]]  {\r\n",
       "}\r\n",
       "package \"Data Layer\" as E5  [[psysml:17a101e7-475f-4fc3-82c9-609370bf1116 ]]  {\r\n",
       "}\r\n",
       "}\r\n",
       "comp usage \"x\" as E6  <<(T,blue) attribute>> [[psysml:881809a4-48f2-4fe8-9827-6dde0f998bab ]] {\r\n",
       "}\r\n",
       "comp usage \"y\" as E7  <<(T,blue) attribute>> [[psysml:190ef100-b940-43fb-97f3-4b9e1cd4417f ]] {\r\n",
       "}\r\n",
       "comp usage \"z\" as E8  <<(T,blue) attribute>> [[psysml:293eb67f-3e12-4287-ab19-bcded2d3124c ]] {\r\n",
       "}\r\n",
       "}\r\n",
       "E3 ..>> E4 [[psysml:8bc3dbe9-cd72-4429-a15e-d6826987fc7c ]] : <<depend>>\r\n",
       "E4 ..>> E5 [[psysml:a5d569dd-f966-4325-8014-b1c593712f38 ]] : <<depend>>\r\n",
       "E8 ..>> E6 [[psysml:e9cc0fc6-3b4b-4571-a4a8-99018107eac1 ]] : <<depend>>\r\n",
       "E8 ..>> E7 [[psysml:e9cc0fc6-3b4b-4571-a4a8-99018107eac1 ]] : <<depend>>\r\n",
       "@enduml\r\n",
       "\n",
       "PlantUML version 1.2020.13(Sat Jun 13 12:26:38 UTC 2020)\n",
       "(EPL source distribution)\n",
       "Java Runtime: OpenJDK Runtime Environment\n",
       "JVM: OpenJDK 64-Bit Server VM\n",
       "Default Encoding: UTF-8\n",
       "Language: en\n",
       "Country: null\n",
       "--></g></svg>"
      ]
     },
     "execution_count": 12,
     "metadata": {},
     "output_type": "execute_result"
    }
   ],
   "source": [
    "%viz --style=\"POLYLINE\" --view=\"Interconnection\" \"DependencyTest\""
   ]
  },
  {
   "cell_type": "code",
   "execution_count": 13,
   "id": "4ffa6eb5",
   "metadata": {
    "execution": {
     "iopub.execute_input": "2021-10-03T08:27:18.542267Z",
     "iopub.status.busy": "2021-10-03T08:27:18.541783Z",
     "iopub.status.idle": "2021-10-03T08:27:18.547963Z",
     "shell.execute_reply": "2021-10-03T08:27:18.548340Z"
    }
   },
   "outputs": [
    {
     "data": {
      "image/svg+xml": [
       "<?xml version=\"1.0\" encoding=\"UTF-8\" standalone=\"no\"?><svg xmlns=\"http://www.w3.org/2000/svg\" xmlns:xlink=\"http://www.w3.org/1999/xlink\" contentScriptType=\"application/ecmascript\" contentStyleType=\"text/css\" height=\"12px\" preserveAspectRatio=\"none\" style=\"width:12px;height:12px;\" version=\"1.1\" viewBox=\"0 0 12 12\" width=\"12px\" zoomAndPan=\"magnify\"><defs/><g><!--MD5=[97bbf32f66ccd50cbc40d92ea8f5a65e]\n",
       "@startuml\r\n",
       "skinparam ranksep 8\r\n",
       "skinparam linetype polyline\r\n",
       "skinparam monochrome true\r\n",
       "skinparam classbackgroundcolor white\r\n",
       "skinparam shadowing false\r\n",
       "skinparam wrapWidth 300\r\n",
       "hide circle\r\n",
       "\r\n",
       "@enduml\r\n",
       "\n",
       "PlantUML version 1.2020.13(Sat Jun 13 12:26:38 UTC 2020)\n",
       "(EPL source distribution)\n",
       "Java Runtime: OpenJDK Runtime Environment\n",
       "JVM: OpenJDK 64-Bit Server VM\n",
       "Default Encoding: UTF-8\n",
       "Language: en\n",
       "Country: null\n",
       "--></g></svg>"
      ]
     },
     "execution_count": 13,
     "metadata": {},
     "output_type": "execute_result"
    }
   ],
   "source": [
    "%viz --style=\"POLYLINE\" --view=\"Action\" \"DependencyTest\""
   ]
  },
  {
   "cell_type": "code",
   "execution_count": 14,
   "id": "4c011125",
   "metadata": {
    "execution": {
     "iopub.execute_input": "2021-10-03T08:27:18.597931Z",
     "iopub.status.busy": "2021-10-03T08:27:18.597446Z",
     "iopub.status.idle": "2021-10-03T08:27:18.603445Z",
     "shell.execute_reply": "2021-10-03T08:27:18.603778Z"
    }
   },
   "outputs": [
    {
     "data": {
      "image/svg+xml": [
       "<?xml version=\"1.0\" encoding=\"UTF-8\" standalone=\"no\"?><svg xmlns=\"http://www.w3.org/2000/svg\" xmlns:xlink=\"http://www.w3.org/1999/xlink\" contentScriptType=\"application/ecmascript\" contentStyleType=\"text/css\" height=\"12px\" preserveAspectRatio=\"none\" style=\"width:12px;height:12px;\" version=\"1.1\" viewBox=\"0 0 12 12\" width=\"12px\" zoomAndPan=\"magnify\"><defs/><g><!--MD5=[dc938048236c351797870c36b62f92ad]\n",
       "@startuml\r\n",
       "skinparam roundcorner 20\r\n",
       "skinparam BoxPadding 20\r\n",
       "skinparam SequenceBoxBackgroundColor #white\r\n",
       "skinparam style strictuml\r\n",
       "skinparam maxMessageSize 100\r\n",
       "skinparam linetype polyline\r\n",
       "skinparam monochrome true\r\n",
       "skinparam classbackgroundcolor white\r\n",
       "skinparam shadowing false\r\n",
       "skinparam wrapWidth 300\r\n",
       "hide circle\r\n",
       "\r\n",
       "@enduml\r\n",
       "\n",
       "PlantUML version 1.2020.13(Sat Jun 13 12:26:38 UTC 2020)\n",
       "(EPL source distribution)\n",
       "Java Runtime: OpenJDK Runtime Environment\n",
       "JVM: OpenJDK 64-Bit Server VM\n",
       "Default Encoding: UTF-8\n",
       "Language: en\n",
       "Country: null\n",
       "--></g></svg>"
      ]
     },
     "execution_count": 14,
     "metadata": {},
     "output_type": "execute_result"
    }
   ],
   "source": [
    "%viz --style=\"POLYLINE\" --view=\"Sequence\" \"DependencyTest\""
   ]
  },
  {
   "cell_type": "code",
   "execution_count": 15,
   "id": "c1dbb3b7",
   "metadata": {
    "execution": {
     "iopub.execute_input": "2021-10-03T08:27:18.653537Z",
     "iopub.status.busy": "2021-10-03T08:27:18.653074Z",
     "iopub.status.idle": "2021-10-03T08:27:18.695361Z",
     "shell.execute_reply": "2021-10-03T08:27:18.694865Z"
    }
   },
   "outputs": [
    {
     "data": {
      "image/svg+xml": [
       "<?xml version=\"1.0\" encoding=\"UTF-8\" standalone=\"no\"?><svg xmlns=\"http://www.w3.org/2000/svg\" xmlns:xlink=\"http://www.w3.org/1999/xlink\" contentScriptType=\"application/ecmascript\" contentStyleType=\"text/css\" height=\"449px\" preserveAspectRatio=\"none\" style=\"width:469px;height:449px;\" version=\"1.1\" viewBox=\"0 0 469 449\" width=\"469px\" zoomAndPan=\"magnify\"><defs/><g><!--MD5=[fbc87193dbaf4d95561dea2c320d4a47]\n",
       "cluster E1--><a href=\"psysml:d3869743-6750-4f05-a5ce-51c4137f7251\" target=\"_top\" title=\"psysml:d3869743-6750-4f05-a5ce-51c4137f7251\" xlink:actuate=\"onRequest\" xlink:href=\"psysml:d3869743-6750-4f05-a5ce-51c4137f7251\" xlink:show=\"new\" xlink:title=\"psysml:d3869743-6750-4f05-a5ce-51c4137f7251\" xlink:type=\"simple\"><polygon fill=\"#FFFFFF\" points=\"16,6,142,6,149,28.2969,447,28.2969,447,437,16,437,16,6\" style=\"stroke: #000000; stroke-width: 1.5;\"/><line style=\"stroke: #000000; stroke-width: 1.5;\" x1=\"16\" x2=\"149\" y1=\"28.2969\" y2=\"28.2969\"/><text fill=\"#000000\" font-family=\"sans-serif\" font-size=\"14\" font-weight=\"bold\" lengthAdjust=\"spacingAndGlyphs\" textLength=\"120\" x=\"20\" y=\"20.9951\">DependencyTest</text></a><!--MD5=[e4f7fae6ed58524ba242bb0b0d3be6b7]\n",
       "cluster E2--><a href=\"psysml:6b74be88-9b37-4afd-8ab0-bbd062a94e7e\" target=\"_top\" title=\"psysml:6b74be88-9b37-4afd-8ab0-bbd062a94e7e\" xlink:actuate=\"onRequest\" xlink:href=\"psysml:6b74be88-9b37-4afd-8ab0-bbd062a94e7e\" xlink:show=\"new\" xlink:title=\"psysml:6b74be88-9b37-4afd-8ab0-bbd062a94e7e\" xlink:type=\"simple\"><polygon fill=\"#FFFFFF\" points=\"255,49,312,49,319,71.2969,423,71.2969,423,413,255,413,255,49\" style=\"stroke: #000000; stroke-width: 1.5;\"/><line style=\"stroke: #000000; stroke-width: 1.5;\" x1=\"255\" x2=\"319\" y1=\"71.2969\" y2=\"71.2969\"/><text fill=\"#000000\" font-family=\"sans-serif\" font-size=\"14\" font-weight=\"bold\" lengthAdjust=\"spacingAndGlyphs\" textLength=\"51\" x=\"259\" y=\"63.9951\">System</text></a><!--MD5=[60a26617385b1d2d0262a64233df1f8d]\n",
       "class E6--><a href=\"psysml:881809a4-48f2-4fe8-9827-6dde0f998bab\" target=\"_top\" title=\"psysml:881809a4-48f2-4fe8-9827-6dde0f998bab\" xlink:actuate=\"onRequest\" xlink:href=\"psysml:881809a4-48f2-4fe8-9827-6dde0f998bab\" xlink:show=\"new\" xlink:title=\"psysml:881809a4-48f2-4fe8-9827-6dde0f998bab\" xlink:type=\"simple\"><rect fill=\"#FFFFFF\" height=\"45.9375\" id=\"E6\" rx=\"10\" ry=\"10\" style=\"stroke: #383838; stroke-width: 1.5;\" width=\"71\" x=\"32.5\" y=\"217.5\"/><text fill=\"#000000\" font-family=\"sans-serif\" font-size=\"12\" font-style=\"italic\" lengthAdjust=\"spacingAndGlyphs\" textLength=\"69\" x=\"33.5\" y=\"233.6387\">«attribute»</text><text fill=\"#000000\" font-family=\"sans-serif\" font-size=\"12\" lengthAdjust=\"spacingAndGlyphs\" textLength=\"6\" x=\"65\" y=\"247.6074\">x</text><line style=\"stroke: #383838; stroke-width: 1.5;\" x1=\"33.5\" x2=\"102.5\" y1=\"255.4375\" y2=\"255.4375\"/></a><!--MD5=[2156ba9850f5573cc1fc38a6a4b2f02b]\n",
       "class E7--><a href=\"psysml:190ef100-b940-43fb-97f3-4b9e1cd4417f\" target=\"_top\" title=\"psysml:190ef100-b940-43fb-97f3-4b9e1cd4417f\" xlink:actuate=\"onRequest\" xlink:href=\"psysml:190ef100-b940-43fb-97f3-4b9e1cd4417f\" xlink:show=\"new\" xlink:title=\"psysml:190ef100-b940-43fb-97f3-4b9e1cd4417f\" xlink:type=\"simple\"><rect fill=\"#FFFFFF\" height=\"45.9375\" id=\"E7\" rx=\"10\" ry=\"10\" style=\"stroke: #383838; stroke-width: 1.5;\" width=\"71\" x=\"138.5\" y=\"217.5\"/><text fill=\"#000000\" font-family=\"sans-serif\" font-size=\"12\" font-style=\"italic\" lengthAdjust=\"spacingAndGlyphs\" textLength=\"69\" x=\"139.5\" y=\"233.6387\">«attribute»</text><text fill=\"#000000\" font-family=\"sans-serif\" font-size=\"12\" lengthAdjust=\"spacingAndGlyphs\" textLength=\"6\" x=\"171\" y=\"247.6074\">y</text><line style=\"stroke: #383838; stroke-width: 1.5;\" x1=\"139.5\" x2=\"208.5\" y1=\"255.4375\" y2=\"255.4375\"/></a><!--MD5=[b9389687b975829384b498ac4b7476b2]\n",
       "class E8--><a href=\"psysml:293eb67f-3e12-4287-ab19-bcded2d3124c\" target=\"_top\" title=\"psysml:293eb67f-3e12-4287-ab19-bcded2d3124c\" xlink:actuate=\"onRequest\" xlink:href=\"psysml:293eb67f-3e12-4287-ab19-bcded2d3124c\" xlink:show=\"new\" xlink:title=\"psysml:293eb67f-3e12-4287-ab19-bcded2d3124c\" xlink:type=\"simple\"><rect fill=\"#FFFFFF\" height=\"45.9375\" id=\"E8\" rx=\"10\" ry=\"10\" style=\"stroke: #383838; stroke-width: 1.5;\" width=\"71\" x=\"84.5\" y=\"87.5\"/><text fill=\"#000000\" font-family=\"sans-serif\" font-size=\"12\" font-style=\"italic\" lengthAdjust=\"spacingAndGlyphs\" textLength=\"69\" x=\"85.5\" y=\"103.6387\">«attribute»</text><text fill=\"#000000\" font-family=\"sans-serif\" font-size=\"12\" lengthAdjust=\"spacingAndGlyphs\" textLength=\"5\" x=\"117.5\" y=\"117.6074\">z</text><line style=\"stroke: #383838; stroke-width: 1.5;\" x1=\"85.5\" x2=\"154.5\" y1=\"125.4375\" y2=\"125.4375\"/></a><a href=\"psysml:03aab854-f405-4fcc-aa77-08da242f79f1\" target=\"_top\" title=\"psysml:03aab854-f405-4fcc-aa77-08da242f79f1\" xlink:actuate=\"onRequest\" xlink:href=\"psysml:03aab854-f405-4fcc-aa77-08da242f79f1\" xlink:show=\"new\" xlink:title=\"psysml:03aab854-f405-4fcc-aa77-08da242f79f1\" xlink:type=\"simple\"><polygon fill=\"#FFFFFF\" points=\"271.5,84,392.5,84,399.5,106.2969,406.5,106.2969,406.5,136.5938,271.5,136.5938,271.5,84\" style=\"stroke: #000000; stroke-width: 1.5;\"/><line style=\"stroke: #000000; stroke-width: 1.5;\" x1=\"271.5\" x2=\"399.5\" y1=\"106.2969\" y2=\"106.2969\"/><text fill=\"#000000\" font-family=\"sans-serif\" font-size=\"14\" font-weight=\"bold\" lengthAdjust=\"spacingAndGlyphs\" textLength=\"115\" x=\"275.5\" y=\"98.9951\">Application Layer</text></a><a href=\"psysml:ad996126-15a5-42e2-8928-0fb76718612c\" target=\"_top\" title=\"psysml:ad996126-15a5-42e2-8928-0fb76718612c\" xlink:actuate=\"onRequest\" xlink:href=\"psysml:ad996126-15a5-42e2-8928-0fb76718612c\" xlink:show=\"new\" xlink:title=\"psysml:ad996126-15a5-42e2-8928-0fb76718612c\" xlink:type=\"simple\"><polygon fill=\"#FFFFFF\" points=\"284,214,380,214,387,236.2969,394,236.2969,394,266.5938,284,266.5938,284,214\" style=\"stroke: #000000; stroke-width: 1.5;\"/><line style=\"stroke: #000000; stroke-width: 1.5;\" x1=\"284\" x2=\"387\" y1=\"236.2969\" y2=\"236.2969\"/><text fill=\"#000000\" font-family=\"sans-serif\" font-size=\"14\" font-weight=\"bold\" lengthAdjust=\"spacingAndGlyphs\" textLength=\"90\" x=\"288\" y=\"228.9951\">Service Layer</text></a><a href=\"psysml:17a101e7-475f-4fc3-82c9-609370bf1116\" target=\"_top\" title=\"psysml:17a101e7-475f-4fc3-82c9-609370bf1116\" xlink:actuate=\"onRequest\" xlink:href=\"psysml:17a101e7-475f-4fc3-82c9-609370bf1116\" xlink:show=\"new\" xlink:title=\"psysml:17a101e7-475f-4fc3-82c9-609370bf1116\" xlink:type=\"simple\"><polygon fill=\"#FFFFFF\" points=\"293,344,371,344,378,366.2969,385,366.2969,385,396.5938,293,396.5938,293,344\" style=\"stroke: #000000; stroke-width: 1.5;\"/><line style=\"stroke: #000000; stroke-width: 1.5;\" x1=\"293\" x2=\"378\" y1=\"366.2969\" y2=\"366.2969\"/><text fill=\"#000000\" font-family=\"sans-serif\" font-size=\"14\" font-weight=\"bold\" lengthAdjust=\"spacingAndGlyphs\" textLength=\"72\" x=\"297\" y=\"358.9951\">Data Layer</text></a><!--MD5=[af87c684e3b0d8be13c1a698a818ef1e]\n",
       "link E3 to E4--><a href=\"psysml:8bc3dbe9-cd72-4429-a15e-d6826987fc7c\" target=\"_top\" title=\"psysml:8bc3dbe9-cd72-4429-a15e-d6826987fc7c\" xlink:actuate=\"onRequest\" xlink:href=\"psysml:8bc3dbe9-cd72-4429-a15e-d6826987fc7c\" xlink:show=\"new\" xlink:title=\"psysml:8bc3dbe9-cd72-4429-a15e-d6826987fc7c\" xlink:type=\"simple\"><path d=\"M339,137.1 C339,156.8 339,184.22 339,205.73 \" fill=\"none\" id=\"E3-&gt;E4\" style=\"stroke: #383838; stroke-width: 1.0; stroke-dasharray: 7.0,7.0;\"/><polygon fill=\"#383838\" points=\"339,213.95,342,205.95,336,205.95,339,213.95\" style=\"stroke: #383838; stroke-width: 1.0;\"/><text fill=\"#000000\" font-family=\"sans-serif\" font-size=\"13\" lengthAdjust=\"spacingAndGlyphs\" textLength=\"64\" x=\"340\" y=\"180.0669\">«depend»</text></a><!--MD5=[1b7591eae5389033d8d09a9d6721a717]\n",
       "link E4 to E5--><a href=\"psysml:a5d569dd-f966-4325-8014-b1c593712f38\" target=\"_top\" title=\"psysml:a5d569dd-f966-4325-8014-b1c593712f38\" xlink:actuate=\"onRequest\" xlink:href=\"psysml:a5d569dd-f966-4325-8014-b1c593712f38\" xlink:show=\"new\" xlink:title=\"psysml:a5d569dd-f966-4325-8014-b1c593712f38\" xlink:type=\"simple\"><path d=\"M339,267.1 C339,286.8 339,314.22 339,335.73 \" fill=\"none\" id=\"E4-&gt;E5\" style=\"stroke: #383838; stroke-width: 1.0; stroke-dasharray: 7.0,7.0;\"/><polygon fill=\"#383838\" points=\"339,343.95,342,335.95,336,335.95,339,343.95\" style=\"stroke: #383838; stroke-width: 1.0;\"/><text fill=\"#000000\" font-family=\"sans-serif\" font-size=\"13\" lengthAdjust=\"spacingAndGlyphs\" textLength=\"64\" x=\"340\" y=\"310.0669\">«depend»</text></a><!--MD5=[c5e8897d989ce984f93528998a7150fe]\n",
       "link E8 to E6--><a href=\"psysml:e9cc0fc6-3b4b-4571-a4a8-99018107eac1\" target=\"_top\" title=\"psysml:e9cc0fc6-3b4b-4571-a4a8-99018107eac1\" xlink:actuate=\"onRequest\" xlink:href=\"psysml:e9cc0fc6-3b4b-4571-a4a8-99018107eac1\" xlink:show=\"new\" xlink:title=\"psysml:e9cc0fc6-3b4b-4571-a4a8-99018107eac1\" xlink:type=\"simple\"><path d=\"M97.55,133.75 C81.97,149.19 64,167 64,167 C64,167 64,184 64,184 C64,184 64.88,196.21 65.81,209.18 \" fill=\"none\" id=\"E8-&gt;E6\" style=\"stroke: #383838; stroke-width: 1.0; stroke-dasharray: 7.0,7.0;\"/><polygon fill=\"#383838\" points=\"66.4,217.25,68.8203,209.056,62.8357,209.485,66.4,217.25\" style=\"stroke: #383838; stroke-width: 1.0;\"/><text fill=\"#000000\" font-family=\"sans-serif\" font-size=\"13\" lengthAdjust=\"spacingAndGlyphs\" textLength=\"64\" x=\"65\" y=\"180.0669\">«depend»</text></a><!--MD5=[bfa3c8b0d15052fdf50ae9310b491027]\n",
       "link E8 to E7--><a href=\"psysml:e9cc0fc6-3b4b-4571-a4a8-99018107eac1\" target=\"_top\" title=\"psysml:e9cc0fc6-3b4b-4571-a4a8-99018107eac1\" xlink:actuate=\"onRequest\" xlink:href=\"psysml:e9cc0fc6-3b4b-4571-a4a8-99018107eac1\" xlink:show=\"new\" xlink:title=\"psysml:e9cc0fc6-3b4b-4571-a4a8-99018107eac1\" xlink:type=\"simple\"><path d=\"M129.28,133.5 C138.17,154.57 151.64,186.5 161.47,209.81 \" fill=\"none\" id=\"E8-&gt;E7\" style=\"stroke: #383838; stroke-width: 1.0; stroke-dasharray: 7.0,7.0;\"/><polygon fill=\"#383838\" points=\"164.66,217.35,164.3241,208.8126,158.7933,211.1385,164.66,217.35\" style=\"stroke: #383838; stroke-width: 1.0;\"/><text fill=\"#000000\" font-family=\"sans-serif\" font-size=\"13\" lengthAdjust=\"spacingAndGlyphs\" textLength=\"64\" x=\"151\" y=\"180.0669\">«depend»</text></a><!--MD5=[82c263c3984e1fc72e117cd21ac8a05f]\n",
       "@startuml\r\n",
       "skinparam linetype polyline\r\n",
       "skinparam monochrome true\r\n",
       "skinparam classbackgroundcolor white\r\n",
       "skinparam shadowing false\r\n",
       "skinparam wrapWidth 300\r\n",
       "hide circle\r\n",
       "\r\n",
       "package \"DependencyTest\" as E1  [[psysml:d3869743-6750-4f05-a5ce-51c4137f7251 ]]  {\r\n",
       "package \"System\" as E2  [[psysml:6b74be88-9b37-4afd-8ab0-bbd062a94e7e ]]  {\r\n",
       "package \"Application Layer\" as E3  [[psysml:03aab854-f405-4fcc-aa77-08da242f79f1 ]]  {\r\n",
       "}\r\n",
       "package \"Service Layer\" as E4  [[psysml:ad996126-15a5-42e2-8928-0fb76718612c ]]  {\r\n",
       "}\r\n",
       "package \"Data Layer\" as E5  [[psysml:17a101e7-475f-4fc3-82c9-609370bf1116 ]]  {\r\n",
       "}\r\n",
       "}\r\n",
       "comp usage \"x\" as E6  <<(T,blue) attribute>> [[psysml:881809a4-48f2-4fe8-9827-6dde0f998bab ]] {\r\n",
       "}\r\n",
       "comp usage \"y\" as E7  <<(T,blue) attribute>> [[psysml:190ef100-b940-43fb-97f3-4b9e1cd4417f ]] {\r\n",
       "}\r\n",
       "comp usage \"z\" as E8  <<(T,blue) attribute>> [[psysml:293eb67f-3e12-4287-ab19-bcded2d3124c ]] {\r\n",
       "}\r\n",
       "}\r\n",
       "E3 ..>> E4 [[psysml:8bc3dbe9-cd72-4429-a15e-d6826987fc7c ]] : <<depend>>\r\n",
       "E4 ..>> E5 [[psysml:a5d569dd-f966-4325-8014-b1c593712f38 ]] : <<depend>>\r\n",
       "E8 ..>> E6 [[psysml:e9cc0fc6-3b4b-4571-a4a8-99018107eac1 ]] : <<depend>>\r\n",
       "E8 ..>> E7 [[psysml:e9cc0fc6-3b4b-4571-a4a8-99018107eac1 ]] : <<depend>>\r\n",
       "@enduml\r\n",
       "\n",
       "PlantUML version 1.2020.13(Sat Jun 13 12:26:38 UTC 2020)\n",
       "(EPL source distribution)\n",
       "Java Runtime: OpenJDK Runtime Environment\n",
       "JVM: OpenJDK 64-Bit Server VM\n",
       "Default Encoding: UTF-8\n",
       "Language: en\n",
       "Country: null\n",
       "--></g></svg>"
      ]
     },
     "execution_count": 15,
     "metadata": {},
     "output_type": "execute_result"
    }
   ],
   "source": [
    "%viz --style=\"POLYLINE\" --view=\"MIXED\" \"DependencyTest\""
   ]
  },
  {
   "cell_type": "code",
   "execution_count": 16,
   "id": "3e067b4c",
   "metadata": {
    "execution": {
     "iopub.execute_input": "2021-10-03T08:27:18.744496Z",
     "iopub.status.busy": "2021-10-03T08:27:18.743885Z",
     "iopub.status.idle": "2021-10-03T08:27:18.787078Z",
     "shell.execute_reply": "2021-10-03T08:27:18.786517Z"
    }
   },
   "outputs": [
    {
     "data": {
      "image/svg+xml": [
       "<?xml version=\"1.0\" encoding=\"UTF-8\" standalone=\"no\"?><svg xmlns=\"http://www.w3.org/2000/svg\" xmlns:xlink=\"http://www.w3.org/1999/xlink\" contentScriptType=\"application/ecmascript\" contentStyleType=\"text/css\" height=\"328px\" preserveAspectRatio=\"none\" style=\"width:707px;height:328px;\" version=\"1.1\" viewBox=\"0 0 707 328\" width=\"707px\" zoomAndPan=\"magnify\"><defs/><g><!--MD5=[fbc87193dbaf4d95561dea2c320d4a47]\n",
       "cluster E1--><a href=\"psysml:d3869743-6750-4f05-a5ce-51c4137f7251\" target=\"_top\" title=\"psysml:d3869743-6750-4f05-a5ce-51c4137f7251\" xlink:actuate=\"onRequest\" xlink:href=\"psysml:d3869743-6750-4f05-a5ce-51c4137f7251\" xlink:show=\"new\" xlink:title=\"psysml:d3869743-6750-4f05-a5ce-51c4137f7251\" xlink:type=\"simple\"><polygon fill=\"#FFFFFF\" points=\"16,6,142,6,149,28.2969,685,28.2969,685,316,16,316,16,6\" style=\"stroke: #000000; stroke-width: 1.5;\"/><line style=\"stroke: #000000; stroke-width: 1.5;\" x1=\"16\" x2=\"149\" y1=\"28.2969\" y2=\"28.2969\"/><text fill=\"#000000\" font-family=\"sans-serif\" font-size=\"14\" font-weight=\"bold\" lengthAdjust=\"spacingAndGlyphs\" textLength=\"120\" x=\"20\" y=\"20.9951\">DependencyTest</text></a><!--MD5=[e4f7fae6ed58524ba242bb0b0d3be6b7]\n",
       "cluster E2--><a href=\"psysml:6b74be88-9b37-4afd-8ab0-bbd062a94e7e\" target=\"_top\" title=\"psysml:6b74be88-9b37-4afd-8ab0-bbd062a94e7e\" xlink:actuate=\"onRequest\" xlink:href=\"psysml:6b74be88-9b37-4afd-8ab0-bbd062a94e7e\" xlink:show=\"new\" xlink:title=\"psysml:6b74be88-9b37-4afd-8ab0-bbd062a94e7e\" xlink:type=\"simple\"><polygon fill=\"#FFFFFF\" points=\"40,49,97,49,104,71.2969,661,71.2969,661,154,40,154,40,49\" style=\"stroke: #000000; stroke-width: 1.5;\"/><line style=\"stroke: #000000; stroke-width: 1.5;\" x1=\"40\" x2=\"104\" y1=\"71.2969\" y2=\"71.2969\"/><text fill=\"#000000\" font-family=\"sans-serif\" font-size=\"14\" font-weight=\"bold\" lengthAdjust=\"spacingAndGlyphs\" textLength=\"51\" x=\"44\" y=\"63.9951\">System</text></a><!--MD5=[60a26617385b1d2d0262a64233df1f8d]\n",
       "class E6--><a href=\"psysml:881809a4-48f2-4fe8-9827-6dde0f998bab\" target=\"_top\" title=\"psysml:881809a4-48f2-4fe8-9827-6dde0f998bab\" xlink:actuate=\"onRequest\" xlink:href=\"psysml:881809a4-48f2-4fe8-9827-6dde0f998bab\" xlink:show=\"new\" xlink:title=\"psysml:881809a4-48f2-4fe8-9827-6dde0f998bab\" xlink:type=\"simple\"><rect fill=\"#FFFFFF\" height=\"45.9375\" id=\"E6\" rx=\"10\" ry=\"10\" style=\"stroke: #383838; stroke-width: 1.5;\" width=\"71\" x=\"336.5\" y=\"254\"/><text fill=\"#000000\" font-family=\"sans-serif\" font-size=\"12\" font-style=\"italic\" lengthAdjust=\"spacingAndGlyphs\" textLength=\"69\" x=\"337.5\" y=\"270.1387\">«attribute»</text><text fill=\"#000000\" font-family=\"sans-serif\" font-size=\"12\" lengthAdjust=\"spacingAndGlyphs\" textLength=\"6\" x=\"369\" y=\"284.1074\">x</text><line style=\"stroke: #383838; stroke-width: 1.5;\" x1=\"337.5\" x2=\"406.5\" y1=\"291.9375\" y2=\"291.9375\"/></a><!--MD5=[2156ba9850f5573cc1fc38a6a4b2f02b]\n",
       "class E7--><a href=\"psysml:190ef100-b940-43fb-97f3-4b9e1cd4417f\" target=\"_top\" title=\"psysml:190ef100-b940-43fb-97f3-4b9e1cd4417f\" xlink:actuate=\"onRequest\" xlink:href=\"psysml:190ef100-b940-43fb-97f3-4b9e1cd4417f\" xlink:show=\"new\" xlink:title=\"psysml:190ef100-b940-43fb-97f3-4b9e1cd4417f\" xlink:type=\"simple\"><rect fill=\"#FFFFFF\" height=\"45.9375\" id=\"E7\" rx=\"10\" ry=\"10\" style=\"stroke: #383838; stroke-width: 1.5;\" width=\"71\" x=\"336.5\" y=\"173\"/><text fill=\"#000000\" font-family=\"sans-serif\" font-size=\"12\" font-style=\"italic\" lengthAdjust=\"spacingAndGlyphs\" textLength=\"69\" x=\"337.5\" y=\"189.1387\">«attribute»</text><text fill=\"#000000\" font-family=\"sans-serif\" font-size=\"12\" lengthAdjust=\"spacingAndGlyphs\" textLength=\"6\" x=\"369\" y=\"203.1074\">y</text><line style=\"stroke: #383838; stroke-width: 1.5;\" x1=\"337.5\" x2=\"406.5\" y1=\"210.9375\" y2=\"210.9375\"/></a><!--MD5=[b9389687b975829384b498ac4b7476b2]\n",
       "class E8--><a href=\"psysml:293eb67f-3e12-4287-ab19-bcded2d3124c\" target=\"_top\" title=\"psysml:293eb67f-3e12-4287-ab19-bcded2d3124c\" xlink:actuate=\"onRequest\" xlink:href=\"psysml:293eb67f-3e12-4287-ab19-bcded2d3124c\" xlink:show=\"new\" xlink:title=\"psysml:293eb67f-3e12-4287-ab19-bcded2d3124c\" xlink:type=\"simple\"><rect fill=\"#FFFFFF\" height=\"45.9375\" id=\"E8\" rx=\"10\" ry=\"10\" style=\"stroke: #383838; stroke-width: 1.5;\" width=\"71\" x=\"88\" y=\"206\"/><text fill=\"#000000\" font-family=\"sans-serif\" font-size=\"12\" font-style=\"italic\" lengthAdjust=\"spacingAndGlyphs\" textLength=\"69\" x=\"89\" y=\"222.1387\">«attribute»</text><text fill=\"#000000\" font-family=\"sans-serif\" font-size=\"12\" lengthAdjust=\"spacingAndGlyphs\" textLength=\"5\" x=\"121\" y=\"236.1074\">z</text><line style=\"stroke: #383838; stroke-width: 1.5;\" x1=\"89\" x2=\"158\" y1=\"243.9375\" y2=\"243.9375\"/></a><a href=\"psysml:03aab854-f405-4fcc-aa77-08da242f79f1\" target=\"_top\" title=\"psysml:03aab854-f405-4fcc-aa77-08da242f79f1\" xlink:actuate=\"onRequest\" xlink:href=\"psysml:03aab854-f405-4fcc-aa77-08da242f79f1\" xlink:show=\"new\" xlink:title=\"psysml:03aab854-f405-4fcc-aa77-08da242f79f1\" xlink:type=\"simple\"><polygon fill=\"#FFFFFF\" points=\"56,84.5,177,84.5,184,106.7969,191,106.7969,191,137.0938,56,137.0938,56,84.5\" style=\"stroke: #000000; stroke-width: 1.5;\"/><line style=\"stroke: #000000; stroke-width: 1.5;\" x1=\"56\" x2=\"184\" y1=\"106.7969\" y2=\"106.7969\"/><text fill=\"#000000\" font-family=\"sans-serif\" font-size=\"14\" font-weight=\"bold\" lengthAdjust=\"spacingAndGlyphs\" textLength=\"115\" x=\"60\" y=\"99.4951\">Application Layer</text></a><a href=\"psysml:ad996126-15a5-42e2-8928-0fb76718612c\" target=\"_top\" title=\"psysml:ad996126-15a5-42e2-8928-0fb76718612c\" xlink:actuate=\"onRequest\" xlink:href=\"psysml:ad996126-15a5-42e2-8928-0fb76718612c\" xlink:show=\"new\" xlink:title=\"psysml:ad996126-15a5-42e2-8928-0fb76718612c\" xlink:type=\"simple\"><polygon fill=\"#FFFFFF\" points=\"317,84.5,413,84.5,420,106.7969,427,106.7969,427,137.0938,317,137.0938,317,84.5\" style=\"stroke: #000000; stroke-width: 1.5;\"/><line style=\"stroke: #000000; stroke-width: 1.5;\" x1=\"317\" x2=\"420\" y1=\"106.7969\" y2=\"106.7969\"/><text fill=\"#000000\" font-family=\"sans-serif\" font-size=\"14\" font-weight=\"bold\" lengthAdjust=\"spacingAndGlyphs\" textLength=\"90\" x=\"321\" y=\"99.4951\">Service Layer</text></a><a href=\"psysml:17a101e7-475f-4fc3-82c9-609370bf1116\" target=\"_top\" title=\"psysml:17a101e7-475f-4fc3-82c9-609370bf1116\" xlink:actuate=\"onRequest\" xlink:href=\"psysml:17a101e7-475f-4fc3-82c9-609370bf1116\" xlink:show=\"new\" xlink:title=\"psysml:17a101e7-475f-4fc3-82c9-609370bf1116\" xlink:type=\"simple\"><polygon fill=\"#FFFFFF\" points=\"553,84.5,631,84.5,638,106.7969,645,106.7969,645,137.0938,553,137.0938,553,84.5\" style=\"stroke: #000000; stroke-width: 1.5;\"/><line style=\"stroke: #000000; stroke-width: 1.5;\" x1=\"553\" x2=\"638\" y1=\"106.7969\" y2=\"106.7969\"/><text fill=\"#000000\" font-family=\"sans-serif\" font-size=\"14\" font-weight=\"bold\" lengthAdjust=\"spacingAndGlyphs\" textLength=\"72\" x=\"557\" y=\"99.4951\">Data Layer</text></a><!--MD5=[af87c684e3b0d8be13c1a698a818ef1e]\n",
       "link E3 to E4--><a href=\"psysml:8bc3dbe9-cd72-4429-a15e-d6826987fc7c\" target=\"_top\" title=\"psysml:8bc3dbe9-cd72-4429-a15e-d6826987fc7c\" xlink:actuate=\"onRequest\" xlink:href=\"psysml:8bc3dbe9-cd72-4429-a15e-d6826987fc7c\" xlink:show=\"new\" xlink:title=\"psysml:8bc3dbe9-cd72-4429-a15e-d6826987fc7c\" xlink:type=\"simple\"><path d=\"M191.21,111 C227.64,111 272.49,111 308.28,111 \" fill=\"none\" id=\"E3-&gt;E4\" style=\"stroke: #383838; stroke-width: 1.0; stroke-dasharray: 7.0,7.0;\"/><polygon fill=\"#383838\" points=\"316.7,111,308.7,108,308.7,114,316.7,111\" style=\"stroke: #383838; stroke-width: 1.0;\"/><text fill=\"#000000\" font-family=\"sans-serif\" font-size=\"13\" lengthAdjust=\"spacingAndGlyphs\" textLength=\"64\" x=\"222\" y=\"107.0669\">«depend»</text></a><!--MD5=[1b7591eae5389033d8d09a9d6721a717]\n",
       "link E4 to E5--><a href=\"psysml:a5d569dd-f966-4325-8014-b1c593712f38\" target=\"_top\" title=\"psysml:a5d569dd-f966-4325-8014-b1c593712f38\" xlink:actuate=\"onRequest\" xlink:href=\"psysml:a5d569dd-f966-4325-8014-b1c593712f38\" xlink:show=\"new\" xlink:title=\"psysml:a5d569dd-f966-4325-8014-b1c593712f38\" xlink:type=\"simple\"><path d=\"M427.18,111 C462.81,111 509.24,111 544.69,111 \" fill=\"none\" id=\"E4-&gt;E5\" style=\"stroke: #383838; stroke-width: 1.0; stroke-dasharray: 7.0,7.0;\"/><polygon fill=\"#383838\" points=\"553,111,545,108,545,114,553,111\" style=\"stroke: #383838; stroke-width: 1.0;\"/><text fill=\"#000000\" font-family=\"sans-serif\" font-size=\"13\" lengthAdjust=\"spacingAndGlyphs\" textLength=\"64\" x=\"458\" y=\"107.0669\">«depend»</text></a><!--MD5=[c5e8897d989ce984f93528998a7150fe]\n",
       "link E8 to E6--><a href=\"psysml:e9cc0fc6-3b4b-4571-a4a8-99018107eac1\" target=\"_top\" title=\"psysml:e9cc0fc6-3b4b-4571-a4a8-99018107eac1\" xlink:actuate=\"onRequest\" xlink:href=\"psysml:e9cc0fc6-3b4b-4571-a4a8-99018107eac1\" xlink:show=\"new\" xlink:title=\"psysml:e9cc0fc6-3b4b-4571-a4a8-99018107eac1\" xlink:type=\"simple\"><path d=\"M159.03,235.72 C203.37,244.36 280.3,259.34 328.28,268.68 \" fill=\"none\" id=\"E8-&gt;E6\" style=\"stroke: #383838; stroke-width: 1.0; stroke-dasharray: 7.0,7.0;\"/><polygon fill=\"#383838\" points=\"336.3,270.24,329.0216,265.765,327.8738,271.6542,336.3,270.24\" style=\"stroke: #383838; stroke-width: 1.0;\"/><text fill=\"#000000\" font-family=\"sans-serif\" font-size=\"13\" lengthAdjust=\"spacingAndGlyphs\" textLength=\"64\" x=\"222\" y=\"245.0669\">«depend»</text></a><!--MD5=[bfa3c8b0d15052fdf50ae9310b491027]\n",
       "link E8 to E7--><a href=\"psysml:e9cc0fc6-3b4b-4571-a4a8-99018107eac1\" target=\"_top\" title=\"psysml:e9cc0fc6-3b4b-4571-a4a8-99018107eac1\" xlink:actuate=\"onRequest\" xlink:href=\"psysml:e9cc0fc6-3b4b-4571-a4a8-99018107eac1\" xlink:show=\"new\" xlink:title=\"psysml:e9cc0fc6-3b4b-4571-a4a8-99018107eac1\" xlink:type=\"simple\"><path d=\"M159.03,224.38 C203.37,218.44 280.3,208.14 328.28,201.72 \" fill=\"none\" id=\"E8-&gt;E7\" style=\"stroke: #383838; stroke-width: 1.0; stroke-dasharray: 7.0,7.0;\"/><polygon fill=\"#383838\" points=\"336.3,200.65,327.9737,198.7336,328.7667,204.681,336.3,200.65\" style=\"stroke: #383838; stroke-width: 1.0;\"/><text fill=\"#000000\" font-family=\"sans-serif\" font-size=\"13\" lengthAdjust=\"spacingAndGlyphs\" textLength=\"64\" x=\"222\" y=\"204.0669\">«depend»</text></a><!--MD5=[1b8acb4e06bb4ff81b4351bb0f812c62]\n",
       "@startuml\r\n",
       "left to right direction\r\n",
       "skinparam monochrome true\r\n",
       "skinparam classbackgroundcolor white\r\n",
       "skinparam shadowing false\r\n",
       "skinparam wrapWidth 300\r\n",
       "hide circle\r\n",
       "\r\n",
       "package \"DependencyTest\" as E1  [[psysml:d3869743-6750-4f05-a5ce-51c4137f7251 ]]  {\r\n",
       "package \"System\" as E2  [[psysml:6b74be88-9b37-4afd-8ab0-bbd062a94e7e ]]  {\r\n",
       "package \"Application Layer\" as E3  [[psysml:03aab854-f405-4fcc-aa77-08da242f79f1 ]]  {\r\n",
       "}\r\n",
       "package \"Service Layer\" as E4  [[psysml:ad996126-15a5-42e2-8928-0fb76718612c ]]  {\r\n",
       "}\r\n",
       "package \"Data Layer\" as E5  [[psysml:17a101e7-475f-4fc3-82c9-609370bf1116 ]]  {\r\n",
       "}\r\n",
       "}\r\n",
       "comp usage \"x\" as E6  <<(T,blue) attribute>> [[psysml:881809a4-48f2-4fe8-9827-6dde0f998bab ]] {\r\n",
       "}\r\n",
       "comp usage \"y\" as E7  <<(T,blue) attribute>> [[psysml:190ef100-b940-43fb-97f3-4b9e1cd4417f ]] {\r\n",
       "}\r\n",
       "comp usage \"z\" as E8  <<(T,blue) attribute>> [[psysml:293eb67f-3e12-4287-ab19-bcded2d3124c ]] {\r\n",
       "}\r\n",
       "}\r\n",
       "E3 ..>> E4 [[psysml:8bc3dbe9-cd72-4429-a15e-d6826987fc7c ]] : <<depend>>\r\n",
       "E4 ..>> E5 [[psysml:a5d569dd-f966-4325-8014-b1c593712f38 ]] : <<depend>>\r\n",
       "E8 ..>> E6 [[psysml:e9cc0fc6-3b4b-4571-a4a8-99018107eac1 ]] : <<depend>>\r\n",
       "E8 ..>> E7 [[psysml:e9cc0fc6-3b4b-4571-a4a8-99018107eac1 ]] : <<depend>>\r\n",
       "@enduml\r\n",
       "\n",
       "PlantUML version 1.2020.13(Sat Jun 13 12:26:38 UTC 2020)\n",
       "(EPL source distribution)\n",
       "Java Runtime: OpenJDK Runtime Environment\n",
       "JVM: OpenJDK 64-Bit Server VM\n",
       "Default Encoding: UTF-8\n",
       "Language: en\n",
       "Country: null\n",
       "--></g></svg>"
      ]
     },
     "execution_count": 16,
     "metadata": {},
     "output_type": "execute_result"
    }
   ],
   "source": [
    "%viz --style=\"LR\" --view=\"Default\" \"DependencyTest\""
   ]
  },
  {
   "cell_type": "code",
   "execution_count": 17,
   "id": "23f45d0a",
   "metadata": {
    "execution": {
     "iopub.execute_input": "2021-10-03T08:27:18.835209Z",
     "iopub.status.busy": "2021-10-03T08:27:18.834747Z",
     "iopub.status.idle": "2021-10-03T08:27:18.875753Z",
     "shell.execute_reply": "2021-10-03T08:27:18.875332Z"
    }
   },
   "outputs": [
    {
     "data": {
      "image/svg+xml": [
       "<?xml version=\"1.0\" encoding=\"UTF-8\" standalone=\"no\"?><svg xmlns=\"http://www.w3.org/2000/svg\" xmlns:xlink=\"http://www.w3.org/1999/xlink\" contentScriptType=\"application/ecmascript\" contentStyleType=\"text/css\" height=\"328px\" preserveAspectRatio=\"none\" style=\"width:707px;height:328px;\" version=\"1.1\" viewBox=\"0 0 707 328\" width=\"707px\" zoomAndPan=\"magnify\"><defs/><g><!--MD5=[fbc87193dbaf4d95561dea2c320d4a47]\n",
       "cluster E1--><a href=\"psysml:d3869743-6750-4f05-a5ce-51c4137f7251\" target=\"_top\" title=\"psysml:d3869743-6750-4f05-a5ce-51c4137f7251\" xlink:actuate=\"onRequest\" xlink:href=\"psysml:d3869743-6750-4f05-a5ce-51c4137f7251\" xlink:show=\"new\" xlink:title=\"psysml:d3869743-6750-4f05-a5ce-51c4137f7251\" xlink:type=\"simple\"><polygon fill=\"#FFFFFF\" points=\"16,6,142,6,149,28.2969,685,28.2969,685,316,16,316,16,6\" style=\"stroke: #000000; stroke-width: 1.5;\"/><line style=\"stroke: #000000; stroke-width: 1.5;\" x1=\"16\" x2=\"149\" y1=\"28.2969\" y2=\"28.2969\"/><text fill=\"#000000\" font-family=\"sans-serif\" font-size=\"14\" font-weight=\"bold\" lengthAdjust=\"spacingAndGlyphs\" textLength=\"120\" x=\"20\" y=\"20.9951\">DependencyTest</text></a><!--MD5=[e4f7fae6ed58524ba242bb0b0d3be6b7]\n",
       "cluster E2--><a href=\"psysml:6b74be88-9b37-4afd-8ab0-bbd062a94e7e\" target=\"_top\" title=\"psysml:6b74be88-9b37-4afd-8ab0-bbd062a94e7e\" xlink:actuate=\"onRequest\" xlink:href=\"psysml:6b74be88-9b37-4afd-8ab0-bbd062a94e7e\" xlink:show=\"new\" xlink:title=\"psysml:6b74be88-9b37-4afd-8ab0-bbd062a94e7e\" xlink:type=\"simple\"><polygon fill=\"#FFFFFF\" points=\"40,49,97,49,104,71.2969,661,71.2969,661,154,40,154,40,49\" style=\"stroke: #000000; stroke-width: 1.5;\"/><line style=\"stroke: #000000; stroke-width: 1.5;\" x1=\"40\" x2=\"104\" y1=\"71.2969\" y2=\"71.2969\"/><text fill=\"#000000\" font-family=\"sans-serif\" font-size=\"14\" font-weight=\"bold\" lengthAdjust=\"spacingAndGlyphs\" textLength=\"51\" x=\"44\" y=\"63.9951\">System</text></a><!--MD5=[60a26617385b1d2d0262a64233df1f8d]\n",
       "class E6--><a href=\"psysml:881809a4-48f2-4fe8-9827-6dde0f998bab\" target=\"_top\" title=\"psysml:881809a4-48f2-4fe8-9827-6dde0f998bab\" xlink:actuate=\"onRequest\" xlink:href=\"psysml:881809a4-48f2-4fe8-9827-6dde0f998bab\" xlink:show=\"new\" xlink:title=\"psysml:881809a4-48f2-4fe8-9827-6dde0f998bab\" xlink:type=\"simple\"><rect fill=\"#FFFFFF\" height=\"45.9375\" id=\"E6\" rx=\"10\" ry=\"10\" style=\"stroke: #383838; stroke-width: 1.5;\" width=\"71\" x=\"336.5\" y=\"254\"/><text fill=\"#000000\" font-family=\"sans-serif\" font-size=\"12\" font-style=\"italic\" lengthAdjust=\"spacingAndGlyphs\" textLength=\"69\" x=\"337.5\" y=\"270.1387\">«attribute»</text><text fill=\"#000000\" font-family=\"sans-serif\" font-size=\"12\" lengthAdjust=\"spacingAndGlyphs\" textLength=\"6\" x=\"369\" y=\"284.1074\">x</text><line style=\"stroke: #383838; stroke-width: 1.5;\" x1=\"337.5\" x2=\"406.5\" y1=\"291.9375\" y2=\"291.9375\"/></a><!--MD5=[2156ba9850f5573cc1fc38a6a4b2f02b]\n",
       "class E7--><a href=\"psysml:190ef100-b940-43fb-97f3-4b9e1cd4417f\" target=\"_top\" title=\"psysml:190ef100-b940-43fb-97f3-4b9e1cd4417f\" xlink:actuate=\"onRequest\" xlink:href=\"psysml:190ef100-b940-43fb-97f3-4b9e1cd4417f\" xlink:show=\"new\" xlink:title=\"psysml:190ef100-b940-43fb-97f3-4b9e1cd4417f\" xlink:type=\"simple\"><rect fill=\"#FFFFFF\" height=\"45.9375\" id=\"E7\" rx=\"10\" ry=\"10\" style=\"stroke: #383838; stroke-width: 1.5;\" width=\"71\" x=\"336.5\" y=\"173\"/><text fill=\"#000000\" font-family=\"sans-serif\" font-size=\"12\" font-style=\"italic\" lengthAdjust=\"spacingAndGlyphs\" textLength=\"69\" x=\"337.5\" y=\"189.1387\">«attribute»</text><text fill=\"#000000\" font-family=\"sans-serif\" font-size=\"12\" lengthAdjust=\"spacingAndGlyphs\" textLength=\"6\" x=\"369\" y=\"203.1074\">y</text><line style=\"stroke: #383838; stroke-width: 1.5;\" x1=\"337.5\" x2=\"406.5\" y1=\"210.9375\" y2=\"210.9375\"/></a><!--MD5=[b9389687b975829384b498ac4b7476b2]\n",
       "class E8--><a href=\"psysml:293eb67f-3e12-4287-ab19-bcded2d3124c\" target=\"_top\" title=\"psysml:293eb67f-3e12-4287-ab19-bcded2d3124c\" xlink:actuate=\"onRequest\" xlink:href=\"psysml:293eb67f-3e12-4287-ab19-bcded2d3124c\" xlink:show=\"new\" xlink:title=\"psysml:293eb67f-3e12-4287-ab19-bcded2d3124c\" xlink:type=\"simple\"><rect fill=\"#FFFFFF\" height=\"45.9375\" id=\"E8\" rx=\"10\" ry=\"10\" style=\"stroke: #383838; stroke-width: 1.5;\" width=\"71\" x=\"88\" y=\"206\"/><text fill=\"#000000\" font-family=\"sans-serif\" font-size=\"12\" font-style=\"italic\" lengthAdjust=\"spacingAndGlyphs\" textLength=\"69\" x=\"89\" y=\"222.1387\">«attribute»</text><text fill=\"#000000\" font-family=\"sans-serif\" font-size=\"12\" lengthAdjust=\"spacingAndGlyphs\" textLength=\"5\" x=\"121\" y=\"236.1074\">z</text><line style=\"stroke: #383838; stroke-width: 1.5;\" x1=\"89\" x2=\"158\" y1=\"243.9375\" y2=\"243.9375\"/></a><a href=\"psysml:03aab854-f405-4fcc-aa77-08da242f79f1\" target=\"_top\" title=\"psysml:03aab854-f405-4fcc-aa77-08da242f79f1\" xlink:actuate=\"onRequest\" xlink:href=\"psysml:03aab854-f405-4fcc-aa77-08da242f79f1\" xlink:show=\"new\" xlink:title=\"psysml:03aab854-f405-4fcc-aa77-08da242f79f1\" xlink:type=\"simple\"><polygon fill=\"#FFFFFF\" points=\"56,84.5,177,84.5,184,106.7969,191,106.7969,191,137.0938,56,137.0938,56,84.5\" style=\"stroke: #000000; stroke-width: 1.5;\"/><line style=\"stroke: #000000; stroke-width: 1.5;\" x1=\"56\" x2=\"184\" y1=\"106.7969\" y2=\"106.7969\"/><text fill=\"#000000\" font-family=\"sans-serif\" font-size=\"14\" font-weight=\"bold\" lengthAdjust=\"spacingAndGlyphs\" textLength=\"115\" x=\"60\" y=\"99.4951\">Application Layer</text></a><a href=\"psysml:ad996126-15a5-42e2-8928-0fb76718612c\" target=\"_top\" title=\"psysml:ad996126-15a5-42e2-8928-0fb76718612c\" xlink:actuate=\"onRequest\" xlink:href=\"psysml:ad996126-15a5-42e2-8928-0fb76718612c\" xlink:show=\"new\" xlink:title=\"psysml:ad996126-15a5-42e2-8928-0fb76718612c\" xlink:type=\"simple\"><polygon fill=\"#FFFFFF\" points=\"317,84.5,413,84.5,420,106.7969,427,106.7969,427,137.0938,317,137.0938,317,84.5\" style=\"stroke: #000000; stroke-width: 1.5;\"/><line style=\"stroke: #000000; stroke-width: 1.5;\" x1=\"317\" x2=\"420\" y1=\"106.7969\" y2=\"106.7969\"/><text fill=\"#000000\" font-family=\"sans-serif\" font-size=\"14\" font-weight=\"bold\" lengthAdjust=\"spacingAndGlyphs\" textLength=\"90\" x=\"321\" y=\"99.4951\">Service Layer</text></a><a href=\"psysml:17a101e7-475f-4fc3-82c9-609370bf1116\" target=\"_top\" title=\"psysml:17a101e7-475f-4fc3-82c9-609370bf1116\" xlink:actuate=\"onRequest\" xlink:href=\"psysml:17a101e7-475f-4fc3-82c9-609370bf1116\" xlink:show=\"new\" xlink:title=\"psysml:17a101e7-475f-4fc3-82c9-609370bf1116\" xlink:type=\"simple\"><polygon fill=\"#FFFFFF\" points=\"553,84.5,631,84.5,638,106.7969,645,106.7969,645,137.0938,553,137.0938,553,84.5\" style=\"stroke: #000000; stroke-width: 1.5;\"/><line style=\"stroke: #000000; stroke-width: 1.5;\" x1=\"553\" x2=\"638\" y1=\"106.7969\" y2=\"106.7969\"/><text fill=\"#000000\" font-family=\"sans-serif\" font-size=\"14\" font-weight=\"bold\" lengthAdjust=\"spacingAndGlyphs\" textLength=\"72\" x=\"557\" y=\"99.4951\">Data Layer</text></a><!--MD5=[af87c684e3b0d8be13c1a698a818ef1e]\n",
       "link E3 to E4--><a href=\"psysml:8bc3dbe9-cd72-4429-a15e-d6826987fc7c\" target=\"_top\" title=\"psysml:8bc3dbe9-cd72-4429-a15e-d6826987fc7c\" xlink:actuate=\"onRequest\" xlink:href=\"psysml:8bc3dbe9-cd72-4429-a15e-d6826987fc7c\" xlink:show=\"new\" xlink:title=\"psysml:8bc3dbe9-cd72-4429-a15e-d6826987fc7c\" xlink:type=\"simple\"><path d=\"M191.21,111 C227.64,111 272.49,111 308.28,111 \" fill=\"none\" id=\"E3-&gt;E4\" style=\"stroke: #383838; stroke-width: 1.0; stroke-dasharray: 7.0,7.0;\"/><polygon fill=\"#383838\" points=\"316.7,111,308.7,108,308.7,114,316.7,111\" style=\"stroke: #383838; stroke-width: 1.0;\"/><text fill=\"#000000\" font-family=\"sans-serif\" font-size=\"13\" lengthAdjust=\"spacingAndGlyphs\" textLength=\"64\" x=\"222\" y=\"107.0669\">«depend»</text></a><!--MD5=[1b7591eae5389033d8d09a9d6721a717]\n",
       "link E4 to E5--><a href=\"psysml:a5d569dd-f966-4325-8014-b1c593712f38\" target=\"_top\" title=\"psysml:a5d569dd-f966-4325-8014-b1c593712f38\" xlink:actuate=\"onRequest\" xlink:href=\"psysml:a5d569dd-f966-4325-8014-b1c593712f38\" xlink:show=\"new\" xlink:title=\"psysml:a5d569dd-f966-4325-8014-b1c593712f38\" xlink:type=\"simple\"><path d=\"M427.18,111 C462.81,111 509.24,111 544.69,111 \" fill=\"none\" id=\"E4-&gt;E5\" style=\"stroke: #383838; stroke-width: 1.0; stroke-dasharray: 7.0,7.0;\"/><polygon fill=\"#383838\" points=\"553,111,545,108,545,114,553,111\" style=\"stroke: #383838; stroke-width: 1.0;\"/><text fill=\"#000000\" font-family=\"sans-serif\" font-size=\"13\" lengthAdjust=\"spacingAndGlyphs\" textLength=\"64\" x=\"458\" y=\"107.0669\">«depend»</text></a><!--MD5=[c5e8897d989ce984f93528998a7150fe]\n",
       "link E8 to E6--><a href=\"psysml:e9cc0fc6-3b4b-4571-a4a8-99018107eac1\" target=\"_top\" title=\"psysml:e9cc0fc6-3b4b-4571-a4a8-99018107eac1\" xlink:actuate=\"onRequest\" xlink:href=\"psysml:e9cc0fc6-3b4b-4571-a4a8-99018107eac1\" xlink:show=\"new\" xlink:title=\"psysml:e9cc0fc6-3b4b-4571-a4a8-99018107eac1\" xlink:type=\"simple\"><path d=\"M159.03,235.72 C203.37,244.36 280.3,259.34 328.28,268.68 \" fill=\"none\" id=\"E8-&gt;E6\" style=\"stroke: #383838; stroke-width: 1.0; stroke-dasharray: 7.0,7.0;\"/><polygon fill=\"#383838\" points=\"336.3,270.24,329.0216,265.765,327.8738,271.6542,336.3,270.24\" style=\"stroke: #383838; stroke-width: 1.0;\"/><text fill=\"#000000\" font-family=\"sans-serif\" font-size=\"13\" lengthAdjust=\"spacingAndGlyphs\" textLength=\"64\" x=\"222\" y=\"245.0669\">«depend»</text></a><!--MD5=[bfa3c8b0d15052fdf50ae9310b491027]\n",
       "link E8 to E7--><a href=\"psysml:e9cc0fc6-3b4b-4571-a4a8-99018107eac1\" target=\"_top\" title=\"psysml:e9cc0fc6-3b4b-4571-a4a8-99018107eac1\" xlink:actuate=\"onRequest\" xlink:href=\"psysml:e9cc0fc6-3b4b-4571-a4a8-99018107eac1\" xlink:show=\"new\" xlink:title=\"psysml:e9cc0fc6-3b4b-4571-a4a8-99018107eac1\" xlink:type=\"simple\"><path d=\"M159.03,224.38 C203.37,218.44 280.3,208.14 328.28,201.72 \" fill=\"none\" id=\"E8-&gt;E7\" style=\"stroke: #383838; stroke-width: 1.0; stroke-dasharray: 7.0,7.0;\"/><polygon fill=\"#383838\" points=\"336.3,200.65,327.9737,198.7336,328.7667,204.681,336.3,200.65\" style=\"stroke: #383838; stroke-width: 1.0;\"/><text fill=\"#000000\" font-family=\"sans-serif\" font-size=\"13\" lengthAdjust=\"spacingAndGlyphs\" textLength=\"64\" x=\"222\" y=\"204.0669\">«depend»</text></a><!--MD5=[1b8acb4e06bb4ff81b4351bb0f812c62]\n",
       "@startuml\r\n",
       "left to right direction\r\n",
       "skinparam monochrome true\r\n",
       "skinparam classbackgroundcolor white\r\n",
       "skinparam shadowing false\r\n",
       "skinparam wrapWidth 300\r\n",
       "hide circle\r\n",
       "\r\n",
       "package \"DependencyTest\" as E1  [[psysml:d3869743-6750-4f05-a5ce-51c4137f7251 ]]  {\r\n",
       "package \"System\" as E2  [[psysml:6b74be88-9b37-4afd-8ab0-bbd062a94e7e ]]  {\r\n",
       "package \"Application Layer\" as E3  [[psysml:03aab854-f405-4fcc-aa77-08da242f79f1 ]]  {\r\n",
       "}\r\n",
       "package \"Service Layer\" as E4  [[psysml:ad996126-15a5-42e2-8928-0fb76718612c ]]  {\r\n",
       "}\r\n",
       "package \"Data Layer\" as E5  [[psysml:17a101e7-475f-4fc3-82c9-609370bf1116 ]]  {\r\n",
       "}\r\n",
       "}\r\n",
       "comp usage \"x\" as E6  <<(T,blue) attribute>> [[psysml:881809a4-48f2-4fe8-9827-6dde0f998bab ]] {\r\n",
       "}\r\n",
       "comp usage \"y\" as E7  <<(T,blue) attribute>> [[psysml:190ef100-b940-43fb-97f3-4b9e1cd4417f ]] {\r\n",
       "}\r\n",
       "comp usage \"z\" as E8  <<(T,blue) attribute>> [[psysml:293eb67f-3e12-4287-ab19-bcded2d3124c ]] {\r\n",
       "}\r\n",
       "}\r\n",
       "E3 ..>> E4 [[psysml:8bc3dbe9-cd72-4429-a15e-d6826987fc7c ]] : <<depend>>\r\n",
       "E4 ..>> E5 [[psysml:a5d569dd-f966-4325-8014-b1c593712f38 ]] : <<depend>>\r\n",
       "E8 ..>> E6 [[psysml:e9cc0fc6-3b4b-4571-a4a8-99018107eac1 ]] : <<depend>>\r\n",
       "E8 ..>> E7 [[psysml:e9cc0fc6-3b4b-4571-a4a8-99018107eac1 ]] : <<depend>>\r\n",
       "@enduml\r\n",
       "\n",
       "PlantUML version 1.2020.13(Sat Jun 13 12:26:38 UTC 2020)\n",
       "(EPL source distribution)\n",
       "Java Runtime: OpenJDK Runtime Environment\n",
       "JVM: OpenJDK 64-Bit Server VM\n",
       "Default Encoding: UTF-8\n",
       "Language: en\n",
       "Country: null\n",
       "--></g></svg>"
      ]
     },
     "execution_count": 17,
     "metadata": {},
     "output_type": "execute_result"
    }
   ],
   "source": [
    "%viz --style=\"LR\" --view=\"Tree\" \"DependencyTest\""
   ]
  },
  {
   "cell_type": "code",
   "execution_count": 18,
   "id": "bc281f62",
   "metadata": {
    "execution": {
     "iopub.execute_input": "2021-10-03T08:27:18.925261Z",
     "iopub.status.busy": "2021-10-03T08:27:18.924544Z",
     "iopub.status.idle": "2021-10-03T08:27:18.930411Z",
     "shell.execute_reply": "2021-10-03T08:27:18.930726Z"
    }
   },
   "outputs": [
    {
     "data": {
      "image/svg+xml": [
       "<?xml version=\"1.0\" encoding=\"UTF-8\" standalone=\"no\"?><svg xmlns=\"http://www.w3.org/2000/svg\" xmlns:xlink=\"http://www.w3.org/1999/xlink\" contentScriptType=\"application/ecmascript\" contentStyleType=\"text/css\" height=\"12px\" preserveAspectRatio=\"none\" style=\"width:12px;height:12px;\" version=\"1.1\" viewBox=\"0 0 12 12\" width=\"12px\" zoomAndPan=\"magnify\"><defs/><g><!--MD5=[19d285c9d72a204eba4e2cd117d745e8]\n",
       "@startuml\r\n",
       "left to right direction\r\n",
       "skinparam monochrome true\r\n",
       "skinparam classbackgroundcolor white\r\n",
       "skinparam shadowing false\r\n",
       "skinparam wrapWidth 300\r\n",
       "hide circle\r\n",
       "\r\n",
       "@enduml\r\n",
       "\n",
       "PlantUML version 1.2020.13(Sat Jun 13 12:26:38 UTC 2020)\n",
       "(EPL source distribution)\n",
       "Java Runtime: OpenJDK Runtime Environment\n",
       "JVM: OpenJDK 64-Bit Server VM\n",
       "Default Encoding: UTF-8\n",
       "Language: en\n",
       "Country: null\n",
       "--></g></svg>"
      ]
     },
     "execution_count": 18,
     "metadata": {},
     "output_type": "execute_result"
    }
   ],
   "source": [
    "%viz --style=\"LR\" --view=\"State\" \"DependencyTest\""
   ]
  },
  {
   "cell_type": "code",
   "execution_count": 19,
   "id": "ce828678",
   "metadata": {
    "execution": {
     "iopub.execute_input": "2021-10-03T08:27:18.980824Z",
     "iopub.status.busy": "2021-10-03T08:27:18.980367Z",
     "iopub.status.idle": "2021-10-03T08:27:19.023171Z",
     "shell.execute_reply": "2021-10-03T08:27:19.021408Z"
    }
   },
   "outputs": [
    {
     "data": {
      "image/svg+xml": [
       "<?xml version=\"1.0\" encoding=\"UTF-8\" standalone=\"no\"?><svg xmlns=\"http://www.w3.org/2000/svg\" xmlns:xlink=\"http://www.w3.org/1999/xlink\" contentScriptType=\"application/ecmascript\" contentStyleType=\"text/css\" height=\"328px\" preserveAspectRatio=\"none\" style=\"width:619px;height:328px;\" version=\"1.1\" viewBox=\"0 0 619 328\" width=\"619px\" zoomAndPan=\"magnify\"><defs/><g><!--MD5=[fbc87193dbaf4d95561dea2c320d4a47]\n",
       "cluster E1--><a href=\"psysml:d3869743-6750-4f05-a5ce-51c4137f7251\" target=\"_top\" title=\"psysml:d3869743-6750-4f05-a5ce-51c4137f7251\" xlink:actuate=\"onRequest\" xlink:href=\"psysml:d3869743-6750-4f05-a5ce-51c4137f7251\" xlink:show=\"new\" xlink:title=\"psysml:d3869743-6750-4f05-a5ce-51c4137f7251\" xlink:type=\"simple\"><polygon fill=\"#FFFFFF\" points=\"16,6,142,6,149,28.2969,597,28.2969,597,316,16,316,16,6\" style=\"stroke: #000000; stroke-width: 1.5;\"/><line style=\"stroke: #000000; stroke-width: 1.5;\" x1=\"16\" x2=\"149\" y1=\"28.2969\" y2=\"28.2969\"/><text fill=\"#000000\" font-family=\"sans-serif\" font-size=\"14\" font-weight=\"bold\" lengthAdjust=\"spacingAndGlyphs\" textLength=\"120\" x=\"20\" y=\"20.9951\">DependencyTest</text></a><!--MD5=[e4f7fae6ed58524ba242bb0b0d3be6b7]\n",
       "cluster E2--><a href=\"psysml:6b74be88-9b37-4afd-8ab0-bbd062a94e7e\" target=\"_top\" title=\"psysml:6b74be88-9b37-4afd-8ab0-bbd062a94e7e\" xlink:actuate=\"onRequest\" xlink:href=\"psysml:6b74be88-9b37-4afd-8ab0-bbd062a94e7e\" xlink:show=\"new\" xlink:title=\"psysml:6b74be88-9b37-4afd-8ab0-bbd062a94e7e\" xlink:type=\"simple\"><polygon fill=\"#FFFFFF\" points=\"40,49,97,49,104,71.2969,573,71.2969,573,154,40,154,40,49\" style=\"stroke: #000000; stroke-width: 1.5;\"/><line style=\"stroke: #000000; stroke-width: 1.5;\" x1=\"40\" x2=\"104\" y1=\"71.2969\" y2=\"71.2969\"/><text fill=\"#000000\" font-family=\"sans-serif\" font-size=\"14\" font-weight=\"bold\" lengthAdjust=\"spacingAndGlyphs\" textLength=\"51\" x=\"44\" y=\"63.9951\">System</text></a><!--MD5=[60a26617385b1d2d0262a64233df1f8d]\n",
       "class E6--><a href=\"psysml:881809a4-48f2-4fe8-9827-6dde0f998bab\" target=\"_top\" title=\"psysml:881809a4-48f2-4fe8-9827-6dde0f998bab\" xlink:actuate=\"onRequest\" xlink:href=\"psysml:881809a4-48f2-4fe8-9827-6dde0f998bab\" xlink:show=\"new\" xlink:title=\"psysml:881809a4-48f2-4fe8-9827-6dde0f998bab\" xlink:type=\"simple\"><rect fill=\"#FFFFFF\" height=\"45.9375\" id=\"E6\" rx=\"10\" ry=\"10\" style=\"stroke: #383838; stroke-width: 1.5;\" width=\"71\" x=\"292.5\" y=\"254\"/><text fill=\"#000000\" font-family=\"sans-serif\" font-size=\"12\" font-style=\"italic\" lengthAdjust=\"spacingAndGlyphs\" textLength=\"69\" x=\"293.5\" y=\"270.1387\">«attribute»</text><text fill=\"#000000\" font-family=\"sans-serif\" font-size=\"12\" lengthAdjust=\"spacingAndGlyphs\" textLength=\"6\" x=\"325\" y=\"284.1074\">x</text><line style=\"stroke: #383838; stroke-width: 1.5;\" x1=\"293.5\" x2=\"362.5\" y1=\"291.9375\" y2=\"291.9375\"/></a><!--MD5=[2156ba9850f5573cc1fc38a6a4b2f02b]\n",
       "class E7--><a href=\"psysml:190ef100-b940-43fb-97f3-4b9e1cd4417f\" target=\"_top\" title=\"psysml:190ef100-b940-43fb-97f3-4b9e1cd4417f\" xlink:actuate=\"onRequest\" xlink:href=\"psysml:190ef100-b940-43fb-97f3-4b9e1cd4417f\" xlink:show=\"new\" xlink:title=\"psysml:190ef100-b940-43fb-97f3-4b9e1cd4417f\" xlink:type=\"simple\"><rect fill=\"#FFFFFF\" height=\"45.9375\" id=\"E7\" rx=\"10\" ry=\"10\" style=\"stroke: #383838; stroke-width: 1.5;\" width=\"71\" x=\"292.5\" y=\"173\"/><text fill=\"#000000\" font-family=\"sans-serif\" font-size=\"12\" font-style=\"italic\" lengthAdjust=\"spacingAndGlyphs\" textLength=\"69\" x=\"293.5\" y=\"189.1387\">«attribute»</text><text fill=\"#000000\" font-family=\"sans-serif\" font-size=\"12\" lengthAdjust=\"spacingAndGlyphs\" textLength=\"6\" x=\"325\" y=\"203.1074\">y</text><line style=\"stroke: #383838; stroke-width: 1.5;\" x1=\"293.5\" x2=\"362.5\" y1=\"210.9375\" y2=\"210.9375\"/></a><!--MD5=[b9389687b975829384b498ac4b7476b2]\n",
       "class E8--><a href=\"psysml:293eb67f-3e12-4287-ab19-bcded2d3124c\" target=\"_top\" title=\"psysml:293eb67f-3e12-4287-ab19-bcded2d3124c\" xlink:actuate=\"onRequest\" xlink:href=\"psysml:293eb67f-3e12-4287-ab19-bcded2d3124c\" xlink:show=\"new\" xlink:title=\"psysml:293eb67f-3e12-4287-ab19-bcded2d3124c\" xlink:type=\"simple\"><rect fill=\"#FFFFFF\" height=\"45.9375\" id=\"E8\" rx=\"10\" ry=\"10\" style=\"stroke: #383838; stroke-width: 1.5;\" width=\"71\" x=\"88\" y=\"206\"/><text fill=\"#000000\" font-family=\"sans-serif\" font-size=\"12\" font-style=\"italic\" lengthAdjust=\"spacingAndGlyphs\" textLength=\"69\" x=\"89\" y=\"222.1387\">«attribute»</text><text fill=\"#000000\" font-family=\"sans-serif\" font-size=\"12\" lengthAdjust=\"spacingAndGlyphs\" textLength=\"5\" x=\"121\" y=\"236.1074\">z</text><line style=\"stroke: #383838; stroke-width: 1.5;\" x1=\"89\" x2=\"158\" y1=\"243.9375\" y2=\"243.9375\"/></a><a href=\"psysml:03aab854-f405-4fcc-aa77-08da242f79f1\" target=\"_top\" title=\"psysml:03aab854-f405-4fcc-aa77-08da242f79f1\" xlink:actuate=\"onRequest\" xlink:href=\"psysml:03aab854-f405-4fcc-aa77-08da242f79f1\" xlink:show=\"new\" xlink:title=\"psysml:03aab854-f405-4fcc-aa77-08da242f79f1\" xlink:type=\"simple\"><polygon fill=\"#FFFFFF\" points=\"56,84.5,177,84.5,184,106.7969,191,106.7969,191,137.0938,56,137.0938,56,84.5\" style=\"stroke: #000000; stroke-width: 1.5;\"/><line style=\"stroke: #000000; stroke-width: 1.5;\" x1=\"56\" x2=\"184\" y1=\"106.7969\" y2=\"106.7969\"/><text fill=\"#000000\" font-family=\"sans-serif\" font-size=\"14\" font-weight=\"bold\" lengthAdjust=\"spacingAndGlyphs\" textLength=\"115\" x=\"60\" y=\"99.4951\">Application Layer</text></a><a href=\"psysml:ad996126-15a5-42e2-8928-0fb76718612c\" target=\"_top\" title=\"psysml:ad996126-15a5-42e2-8928-0fb76718612c\" xlink:actuate=\"onRequest\" xlink:href=\"psysml:ad996126-15a5-42e2-8928-0fb76718612c\" xlink:show=\"new\" xlink:title=\"psysml:ad996126-15a5-42e2-8928-0fb76718612c\" xlink:type=\"simple\"><polygon fill=\"#FFFFFF\" points=\"273,84.5,369,84.5,376,106.7969,383,106.7969,383,137.0938,273,137.0938,273,84.5\" style=\"stroke: #000000; stroke-width: 1.5;\"/><line style=\"stroke: #000000; stroke-width: 1.5;\" x1=\"273\" x2=\"376\" y1=\"106.7969\" y2=\"106.7969\"/><text fill=\"#000000\" font-family=\"sans-serif\" font-size=\"14\" font-weight=\"bold\" lengthAdjust=\"spacingAndGlyphs\" textLength=\"90\" x=\"277\" y=\"99.4951\">Service Layer</text></a><a href=\"psysml:17a101e7-475f-4fc3-82c9-609370bf1116\" target=\"_top\" title=\"psysml:17a101e7-475f-4fc3-82c9-609370bf1116\" xlink:actuate=\"onRequest\" xlink:href=\"psysml:17a101e7-475f-4fc3-82c9-609370bf1116\" xlink:show=\"new\" xlink:title=\"psysml:17a101e7-475f-4fc3-82c9-609370bf1116\" xlink:type=\"simple\"><polygon fill=\"#FFFFFF\" points=\"465,84.5,543,84.5,550,106.7969,557,106.7969,557,137.0938,465,137.0938,465,84.5\" style=\"stroke: #000000; stroke-width: 1.5;\"/><line style=\"stroke: #000000; stroke-width: 1.5;\" x1=\"465\" x2=\"550\" y1=\"106.7969\" y2=\"106.7969\"/><text fill=\"#000000\" font-family=\"sans-serif\" font-size=\"14\" font-weight=\"bold\" lengthAdjust=\"spacingAndGlyphs\" textLength=\"72\" x=\"469\" y=\"99.4951\">Data Layer</text></a><!--MD5=[af87c684e3b0d8be13c1a698a818ef1e]\n",
       "link E3 to E4--><a href=\"psysml:8bc3dbe9-cd72-4429-a15e-d6826987fc7c\" target=\"_top\" title=\"psysml:8bc3dbe9-cd72-4429-a15e-d6826987fc7c\" xlink:actuate=\"onRequest\" xlink:href=\"psysml:8bc3dbe9-cd72-4429-a15e-d6826987fc7c\" xlink:show=\"new\" xlink:title=\"psysml:8bc3dbe9-cd72-4429-a15e-d6826987fc7c\" xlink:type=\"simple\"><path d=\"M191.09,111 C214.8,111 241.41,111 264.75,111 \" fill=\"none\" id=\"E3-&gt;E4\" style=\"stroke: #383838; stroke-width: 1.0; stroke-dasharray: 7.0,7.0;\"/><polygon fill=\"#383838\" points=\"272.86,111,264.86,108,264.86,114,272.86,111\" style=\"stroke: #383838; stroke-width: 1.0;\"/><text fill=\"#000000\" font-family=\"sans-serif\" font-size=\"13\" lengthAdjust=\"spacingAndGlyphs\" textLength=\"64\" x=\"200\" y=\"107.0669\">«depend»</text></a><!--MD5=[1b7591eae5389033d8d09a9d6721a717]\n",
       "link E4 to E5--><a href=\"psysml:a5d569dd-f966-4325-8014-b1c593712f38\" target=\"_top\" title=\"psysml:a5d569dd-f966-4325-8014-b1c593712f38\" xlink:actuate=\"onRequest\" xlink:href=\"psysml:a5d569dd-f966-4325-8014-b1c593712f38\" xlink:show=\"new\" xlink:title=\"psysml:a5d569dd-f966-4325-8014-b1c593712f38\" xlink:type=\"simple\"><path d=\"M383.31,111 C406.59,111 433.71,111 456.86,111 \" fill=\"none\" id=\"E4-&gt;E5\" style=\"stroke: #383838; stroke-width: 1.0; stroke-dasharray: 7.0,7.0;\"/><polygon fill=\"#383838\" points=\"464.88,111,456.88,108,456.88,114,464.88,111\" style=\"stroke: #383838; stroke-width: 1.0;\"/><text fill=\"#000000\" font-family=\"sans-serif\" font-size=\"13\" lengthAdjust=\"spacingAndGlyphs\" textLength=\"64\" x=\"392\" y=\"107.0669\">«depend»</text></a><!--MD5=[c5e8897d989ce984f93528998a7150fe]\n",
       "link E8 to E6--><a href=\"psysml:e9cc0fc6-3b4b-4571-a4a8-99018107eac1\" target=\"_top\" title=\"psysml:e9cc0fc6-3b4b-4571-a4a8-99018107eac1\" xlink:actuate=\"onRequest\" xlink:href=\"psysml:e9cc0fc6-3b4b-4571-a4a8-99018107eac1\" xlink:show=\"new\" xlink:title=\"psysml:e9cc0fc6-3b4b-4571-a4a8-99018107eac1\" xlink:type=\"simple\"><path d=\"M159.31,237.25 C193.9,245.45 247.01,258.04 284.16,266.85 \" fill=\"none\" id=\"E8-&gt;E6\" style=\"stroke: #383838; stroke-width: 1.0; stroke-dasharray: 7.0,7.0;\"/><polygon fill=\"#383838\" points=\"292.31,268.78,285.2244,264.0057,283.8322,269.8419,292.31,268.78\" style=\"stroke: #383838; stroke-width: 1.0;\"/><text fill=\"#000000\" font-family=\"sans-serif\" font-size=\"13\" lengthAdjust=\"spacingAndGlyphs\" textLength=\"64\" x=\"200\" y=\"244.0669\">«depend»</text></a><!--MD5=[bfa3c8b0d15052fdf50ae9310b491027]\n",
       "link E8 to E7--><a href=\"psysml:e9cc0fc6-3b4b-4571-a4a8-99018107eac1\" target=\"_top\" title=\"psysml:e9cc0fc6-3b4b-4571-a4a8-99018107eac1\" xlink:actuate=\"onRequest\" xlink:href=\"psysml:e9cc0fc6-3b4b-4571-a4a8-99018107eac1\" xlink:show=\"new\" xlink:title=\"psysml:e9cc0fc6-3b4b-4571-a4a8-99018107eac1\" xlink:type=\"simple\"><path d=\"M159.31,223.33 C193.9,217.69 247.01,209.04 284.16,202.98 \" fill=\"none\" id=\"E8-&gt;E7\" style=\"stroke: #383838; stroke-width: 1.0; stroke-dasharray: 7.0,7.0;\"/><polygon fill=\"#383838\" points=\"292.31,201.65,283.9315,199.9764,284.897,205.8983,292.31,201.65\" style=\"stroke: #383838; stroke-width: 1.0;\"/><text fill=\"#000000\" font-family=\"sans-serif\" font-size=\"13\" lengthAdjust=\"spacingAndGlyphs\" textLength=\"64\" x=\"200\" y=\"203.0669\">«depend»</text></a><!--MD5=[29bbabc7630883d494aeb62c767fd005]\n",
       "@startuml\r\n",
       "skinparam ranksep 10\r\n",
       "skinparam rectangle {\r\n",
       " backgroundColor<<block>> LightGreen\r\n",
       "}\r\n",
       "left to right direction\r\n",
       "skinparam monochrome true\r\n",
       "skinparam classbackgroundcolor white\r\n",
       "skinparam shadowing false\r\n",
       "skinparam wrapWidth 300\r\n",
       "hide circle\r\n",
       "\r\n",
       "package \"DependencyTest\" as E1  [[psysml:d3869743-6750-4f05-a5ce-51c4137f7251 ]]  {\r\n",
       "package \"System\" as E2  [[psysml:6b74be88-9b37-4afd-8ab0-bbd062a94e7e ]]  {\r\n",
       "package \"Application Layer\" as E3  [[psysml:03aab854-f405-4fcc-aa77-08da242f79f1 ]]  {\r\n",
       "}\r\n",
       "package \"Service Layer\" as E4  [[psysml:ad996126-15a5-42e2-8928-0fb76718612c ]]  {\r\n",
       "}\r\n",
       "package \"Data Layer\" as E5  [[psysml:17a101e7-475f-4fc3-82c9-609370bf1116 ]]  {\r\n",
       "}\r\n",
       "}\r\n",
       "comp usage \"x\" as E6  <<(T,blue) attribute>> [[psysml:881809a4-48f2-4fe8-9827-6dde0f998bab ]] {\r\n",
       "}\r\n",
       "comp usage \"y\" as E7  <<(T,blue) attribute>> [[psysml:190ef100-b940-43fb-97f3-4b9e1cd4417f ]] {\r\n",
       "}\r\n",
       "comp usage \"z\" as E8  <<(T,blue) attribute>> [[psysml:293eb67f-3e12-4287-ab19-bcded2d3124c ]] {\r\n",
       "}\r\n",
       "}\r\n",
       "E3 ..>> E4 [[psysml:8bc3dbe9-cd72-4429-a15e-d6826987fc7c ]] : <<depend>>\r\n",
       "E4 ..>> E5 [[psysml:a5d569dd-f966-4325-8014-b1c593712f38 ]] : <<depend>>\r\n",
       "E8 ..>> E6 [[psysml:e9cc0fc6-3b4b-4571-a4a8-99018107eac1 ]] : <<depend>>\r\n",
       "E8 ..>> E7 [[psysml:e9cc0fc6-3b4b-4571-a4a8-99018107eac1 ]] : <<depend>>\r\n",
       "@enduml\r\n",
       "\n",
       "PlantUML version 1.2020.13(Sat Jun 13 12:26:38 UTC 2020)\n",
       "(EPL source distribution)\n",
       "Java Runtime: OpenJDK Runtime Environment\n",
       "JVM: OpenJDK 64-Bit Server VM\n",
       "Default Encoding: UTF-8\n",
       "Language: en\n",
       "Country: null\n",
       "--></g></svg>"
      ]
     },
     "execution_count": 19,
     "metadata": {},
     "output_type": "execute_result"
    }
   ],
   "source": [
    "%viz --style=\"LR\" --view=\"Interconnection\" \"DependencyTest\""
   ]
  },
  {
   "cell_type": "code",
   "execution_count": 20,
   "id": "bf8b7d40",
   "metadata": {
    "execution": {
     "iopub.execute_input": "2021-10-03T08:27:19.072514Z",
     "iopub.status.busy": "2021-10-03T08:27:19.072056Z",
     "iopub.status.idle": "2021-10-03T08:27:19.077557Z",
     "shell.execute_reply": "2021-10-03T08:27:19.077869Z"
    }
   },
   "outputs": [
    {
     "data": {
      "image/svg+xml": [
       "<?xml version=\"1.0\" encoding=\"UTF-8\" standalone=\"no\"?><svg xmlns=\"http://www.w3.org/2000/svg\" xmlns:xlink=\"http://www.w3.org/1999/xlink\" contentScriptType=\"application/ecmascript\" contentStyleType=\"text/css\" height=\"12px\" preserveAspectRatio=\"none\" style=\"width:12px;height:12px;\" version=\"1.1\" viewBox=\"0 0 12 12\" width=\"12px\" zoomAndPan=\"magnify\"><defs/><g><!--MD5=[7aeb398939421629f6affaa4a1a7b125]\n",
       "@startuml\r\n",
       "skinparam ranksep 8\r\n",
       "left to right direction\r\n",
       "skinparam monochrome true\r\n",
       "skinparam classbackgroundcolor white\r\n",
       "skinparam shadowing false\r\n",
       "skinparam wrapWidth 300\r\n",
       "hide circle\r\n",
       "\r\n",
       "@enduml\r\n",
       "\n",
       "PlantUML version 1.2020.13(Sat Jun 13 12:26:38 UTC 2020)\n",
       "(EPL source distribution)\n",
       "Java Runtime: OpenJDK Runtime Environment\n",
       "JVM: OpenJDK 64-Bit Server VM\n",
       "Default Encoding: UTF-8\n",
       "Language: en\n",
       "Country: null\n",
       "--></g></svg>"
      ]
     },
     "execution_count": 20,
     "metadata": {},
     "output_type": "execute_result"
    }
   ],
   "source": [
    "%viz --style=\"LR\" --view=\"Action\" \"DependencyTest\""
   ]
  },
  {
   "cell_type": "code",
   "execution_count": 21,
   "id": "e5ba25d1",
   "metadata": {
    "execution": {
     "iopub.execute_input": "2021-10-03T08:27:19.127746Z",
     "iopub.status.busy": "2021-10-03T08:27:19.127287Z",
     "iopub.status.idle": "2021-10-03T08:27:19.135047Z",
     "shell.execute_reply": "2021-10-03T08:27:19.135408Z"
    }
   },
   "outputs": [
    {
     "data": {
      "image/svg+xml": [
       "<?xml version=\"1.0\" encoding=\"UTF-8\" standalone=\"no\"?><svg xmlns=\"http://www.w3.org/2000/svg\" xmlns:xlink=\"http://www.w3.org/1999/xlink\" contentScriptType=\"application/ecmascript\" contentStyleType=\"text/css\" height=\"12px\" preserveAspectRatio=\"none\" style=\"width:12px;height:12px;\" version=\"1.1\" viewBox=\"0 0 12 12\" width=\"12px\" zoomAndPan=\"magnify\"><defs/><g><!--MD5=[238c11ea2002f03115ad6b49a457d50e]\n",
       "@startuml\r\n",
       "skinparam roundcorner 20\r\n",
       "skinparam BoxPadding 20\r\n",
       "skinparam SequenceBoxBackgroundColor #white\r\n",
       "skinparam style strictuml\r\n",
       "skinparam maxMessageSize 100\r\n",
       "left to right direction\r\n",
       "skinparam monochrome true\r\n",
       "skinparam classbackgroundcolor white\r\n",
       "skinparam shadowing false\r\n",
       "skinparam wrapWidth 300\r\n",
       "hide circle\r\n",
       "\r\n",
       "@enduml\r\n",
       "\n",
       "PlantUML version 1.2020.13(Sat Jun 13 12:26:38 UTC 2020)\n",
       "(EPL source distribution)\n",
       "Java Runtime: OpenJDK Runtime Environment\n",
       "JVM: OpenJDK 64-Bit Server VM\n",
       "Default Encoding: UTF-8\n",
       "Language: en\n",
       "Country: null\n",
       "--></g></svg>"
      ]
     },
     "execution_count": 21,
     "metadata": {},
     "output_type": "execute_result"
    }
   ],
   "source": [
    "%viz --style=\"LR\" --view=\"Sequence\" \"DependencyTest\""
   ]
  },
  {
   "cell_type": "code",
   "execution_count": 22,
   "id": "b10fcccd",
   "metadata": {
    "execution": {
     "iopub.execute_input": "2021-10-03T08:27:19.184968Z",
     "iopub.status.busy": "2021-10-03T08:27:19.184552Z",
     "iopub.status.idle": "2021-10-03T08:27:19.229852Z",
     "shell.execute_reply": "2021-10-03T08:27:19.230211Z"
    }
   },
   "outputs": [
    {
     "data": {
      "image/svg+xml": [
       "<?xml version=\"1.0\" encoding=\"UTF-8\" standalone=\"no\"?><svg xmlns=\"http://www.w3.org/2000/svg\" xmlns:xlink=\"http://www.w3.org/1999/xlink\" contentScriptType=\"application/ecmascript\" contentStyleType=\"text/css\" height=\"328px\" preserveAspectRatio=\"none\" style=\"width:707px;height:328px;\" version=\"1.1\" viewBox=\"0 0 707 328\" width=\"707px\" zoomAndPan=\"magnify\"><defs/><g><!--MD5=[fbc87193dbaf4d95561dea2c320d4a47]\n",
       "cluster E1--><a href=\"psysml:d3869743-6750-4f05-a5ce-51c4137f7251\" target=\"_top\" title=\"psysml:d3869743-6750-4f05-a5ce-51c4137f7251\" xlink:actuate=\"onRequest\" xlink:href=\"psysml:d3869743-6750-4f05-a5ce-51c4137f7251\" xlink:show=\"new\" xlink:title=\"psysml:d3869743-6750-4f05-a5ce-51c4137f7251\" xlink:type=\"simple\"><polygon fill=\"#FFFFFF\" points=\"16,6,142,6,149,28.2969,685,28.2969,685,316,16,316,16,6\" style=\"stroke: #000000; stroke-width: 1.5;\"/><line style=\"stroke: #000000; stroke-width: 1.5;\" x1=\"16\" x2=\"149\" y1=\"28.2969\" y2=\"28.2969\"/><text fill=\"#000000\" font-family=\"sans-serif\" font-size=\"14\" font-weight=\"bold\" lengthAdjust=\"spacingAndGlyphs\" textLength=\"120\" x=\"20\" y=\"20.9951\">DependencyTest</text></a><!--MD5=[e4f7fae6ed58524ba242bb0b0d3be6b7]\n",
       "cluster E2--><a href=\"psysml:6b74be88-9b37-4afd-8ab0-bbd062a94e7e\" target=\"_top\" title=\"psysml:6b74be88-9b37-4afd-8ab0-bbd062a94e7e\" xlink:actuate=\"onRequest\" xlink:href=\"psysml:6b74be88-9b37-4afd-8ab0-bbd062a94e7e\" xlink:show=\"new\" xlink:title=\"psysml:6b74be88-9b37-4afd-8ab0-bbd062a94e7e\" xlink:type=\"simple\"><polygon fill=\"#FFFFFF\" points=\"40,49,97,49,104,71.2969,661,71.2969,661,154,40,154,40,49\" style=\"stroke: #000000; stroke-width: 1.5;\"/><line style=\"stroke: #000000; stroke-width: 1.5;\" x1=\"40\" x2=\"104\" y1=\"71.2969\" y2=\"71.2969\"/><text fill=\"#000000\" font-family=\"sans-serif\" font-size=\"14\" font-weight=\"bold\" lengthAdjust=\"spacingAndGlyphs\" textLength=\"51\" x=\"44\" y=\"63.9951\">System</text></a><!--MD5=[60a26617385b1d2d0262a64233df1f8d]\n",
       "class E6--><a href=\"psysml:881809a4-48f2-4fe8-9827-6dde0f998bab\" target=\"_top\" title=\"psysml:881809a4-48f2-4fe8-9827-6dde0f998bab\" xlink:actuate=\"onRequest\" xlink:href=\"psysml:881809a4-48f2-4fe8-9827-6dde0f998bab\" xlink:show=\"new\" xlink:title=\"psysml:881809a4-48f2-4fe8-9827-6dde0f998bab\" xlink:type=\"simple\"><rect fill=\"#FFFFFF\" height=\"45.9375\" id=\"E6\" rx=\"10\" ry=\"10\" style=\"stroke: #383838; stroke-width: 1.5;\" width=\"71\" x=\"336.5\" y=\"254\"/><text fill=\"#000000\" font-family=\"sans-serif\" font-size=\"12\" font-style=\"italic\" lengthAdjust=\"spacingAndGlyphs\" textLength=\"69\" x=\"337.5\" y=\"270.1387\">«attribute»</text><text fill=\"#000000\" font-family=\"sans-serif\" font-size=\"12\" lengthAdjust=\"spacingAndGlyphs\" textLength=\"6\" x=\"369\" y=\"284.1074\">x</text><line style=\"stroke: #383838; stroke-width: 1.5;\" x1=\"337.5\" x2=\"406.5\" y1=\"291.9375\" y2=\"291.9375\"/></a><!--MD5=[2156ba9850f5573cc1fc38a6a4b2f02b]\n",
       "class E7--><a href=\"psysml:190ef100-b940-43fb-97f3-4b9e1cd4417f\" target=\"_top\" title=\"psysml:190ef100-b940-43fb-97f3-4b9e1cd4417f\" xlink:actuate=\"onRequest\" xlink:href=\"psysml:190ef100-b940-43fb-97f3-4b9e1cd4417f\" xlink:show=\"new\" xlink:title=\"psysml:190ef100-b940-43fb-97f3-4b9e1cd4417f\" xlink:type=\"simple\"><rect fill=\"#FFFFFF\" height=\"45.9375\" id=\"E7\" rx=\"10\" ry=\"10\" style=\"stroke: #383838; stroke-width: 1.5;\" width=\"71\" x=\"336.5\" y=\"173\"/><text fill=\"#000000\" font-family=\"sans-serif\" font-size=\"12\" font-style=\"italic\" lengthAdjust=\"spacingAndGlyphs\" textLength=\"69\" x=\"337.5\" y=\"189.1387\">«attribute»</text><text fill=\"#000000\" font-family=\"sans-serif\" font-size=\"12\" lengthAdjust=\"spacingAndGlyphs\" textLength=\"6\" x=\"369\" y=\"203.1074\">y</text><line style=\"stroke: #383838; stroke-width: 1.5;\" x1=\"337.5\" x2=\"406.5\" y1=\"210.9375\" y2=\"210.9375\"/></a><!--MD5=[b9389687b975829384b498ac4b7476b2]\n",
       "class E8--><a href=\"psysml:293eb67f-3e12-4287-ab19-bcded2d3124c\" target=\"_top\" title=\"psysml:293eb67f-3e12-4287-ab19-bcded2d3124c\" xlink:actuate=\"onRequest\" xlink:href=\"psysml:293eb67f-3e12-4287-ab19-bcded2d3124c\" xlink:show=\"new\" xlink:title=\"psysml:293eb67f-3e12-4287-ab19-bcded2d3124c\" xlink:type=\"simple\"><rect fill=\"#FFFFFF\" height=\"45.9375\" id=\"E8\" rx=\"10\" ry=\"10\" style=\"stroke: #383838; stroke-width: 1.5;\" width=\"71\" x=\"88\" y=\"206\"/><text fill=\"#000000\" font-family=\"sans-serif\" font-size=\"12\" font-style=\"italic\" lengthAdjust=\"spacingAndGlyphs\" textLength=\"69\" x=\"89\" y=\"222.1387\">«attribute»</text><text fill=\"#000000\" font-family=\"sans-serif\" font-size=\"12\" lengthAdjust=\"spacingAndGlyphs\" textLength=\"5\" x=\"121\" y=\"236.1074\">z</text><line style=\"stroke: #383838; stroke-width: 1.5;\" x1=\"89\" x2=\"158\" y1=\"243.9375\" y2=\"243.9375\"/></a><a href=\"psysml:03aab854-f405-4fcc-aa77-08da242f79f1\" target=\"_top\" title=\"psysml:03aab854-f405-4fcc-aa77-08da242f79f1\" xlink:actuate=\"onRequest\" xlink:href=\"psysml:03aab854-f405-4fcc-aa77-08da242f79f1\" xlink:show=\"new\" xlink:title=\"psysml:03aab854-f405-4fcc-aa77-08da242f79f1\" xlink:type=\"simple\"><polygon fill=\"#FFFFFF\" points=\"56,84.5,177,84.5,184,106.7969,191,106.7969,191,137.0938,56,137.0938,56,84.5\" style=\"stroke: #000000; stroke-width: 1.5;\"/><line style=\"stroke: #000000; stroke-width: 1.5;\" x1=\"56\" x2=\"184\" y1=\"106.7969\" y2=\"106.7969\"/><text fill=\"#000000\" font-family=\"sans-serif\" font-size=\"14\" font-weight=\"bold\" lengthAdjust=\"spacingAndGlyphs\" textLength=\"115\" x=\"60\" y=\"99.4951\">Application Layer</text></a><a href=\"psysml:ad996126-15a5-42e2-8928-0fb76718612c\" target=\"_top\" title=\"psysml:ad996126-15a5-42e2-8928-0fb76718612c\" xlink:actuate=\"onRequest\" xlink:href=\"psysml:ad996126-15a5-42e2-8928-0fb76718612c\" xlink:show=\"new\" xlink:title=\"psysml:ad996126-15a5-42e2-8928-0fb76718612c\" xlink:type=\"simple\"><polygon fill=\"#FFFFFF\" points=\"317,84.5,413,84.5,420,106.7969,427,106.7969,427,137.0938,317,137.0938,317,84.5\" style=\"stroke: #000000; stroke-width: 1.5;\"/><line style=\"stroke: #000000; stroke-width: 1.5;\" x1=\"317\" x2=\"420\" y1=\"106.7969\" y2=\"106.7969\"/><text fill=\"#000000\" font-family=\"sans-serif\" font-size=\"14\" font-weight=\"bold\" lengthAdjust=\"spacingAndGlyphs\" textLength=\"90\" x=\"321\" y=\"99.4951\">Service Layer</text></a><a href=\"psysml:17a101e7-475f-4fc3-82c9-609370bf1116\" target=\"_top\" title=\"psysml:17a101e7-475f-4fc3-82c9-609370bf1116\" xlink:actuate=\"onRequest\" xlink:href=\"psysml:17a101e7-475f-4fc3-82c9-609370bf1116\" xlink:show=\"new\" xlink:title=\"psysml:17a101e7-475f-4fc3-82c9-609370bf1116\" xlink:type=\"simple\"><polygon fill=\"#FFFFFF\" points=\"553,84.5,631,84.5,638,106.7969,645,106.7969,645,137.0938,553,137.0938,553,84.5\" style=\"stroke: #000000; stroke-width: 1.5;\"/><line style=\"stroke: #000000; stroke-width: 1.5;\" x1=\"553\" x2=\"638\" y1=\"106.7969\" y2=\"106.7969\"/><text fill=\"#000000\" font-family=\"sans-serif\" font-size=\"14\" font-weight=\"bold\" lengthAdjust=\"spacingAndGlyphs\" textLength=\"72\" x=\"557\" y=\"99.4951\">Data Layer</text></a><!--MD5=[af87c684e3b0d8be13c1a698a818ef1e]\n",
       "link E3 to E4--><a href=\"psysml:8bc3dbe9-cd72-4429-a15e-d6826987fc7c\" target=\"_top\" title=\"psysml:8bc3dbe9-cd72-4429-a15e-d6826987fc7c\" xlink:actuate=\"onRequest\" xlink:href=\"psysml:8bc3dbe9-cd72-4429-a15e-d6826987fc7c\" xlink:show=\"new\" xlink:title=\"psysml:8bc3dbe9-cd72-4429-a15e-d6826987fc7c\" xlink:type=\"simple\"><path d=\"M191.21,111 C227.64,111 272.49,111 308.28,111 \" fill=\"none\" id=\"E3-&gt;E4\" style=\"stroke: #383838; stroke-width: 1.0; stroke-dasharray: 7.0,7.0;\"/><polygon fill=\"#383838\" points=\"316.7,111,308.7,108,308.7,114,316.7,111\" style=\"stroke: #383838; stroke-width: 1.0;\"/><text fill=\"#000000\" font-family=\"sans-serif\" font-size=\"13\" lengthAdjust=\"spacingAndGlyphs\" textLength=\"64\" x=\"222\" y=\"107.0669\">«depend»</text></a><!--MD5=[1b7591eae5389033d8d09a9d6721a717]\n",
       "link E4 to E5--><a href=\"psysml:a5d569dd-f966-4325-8014-b1c593712f38\" target=\"_top\" title=\"psysml:a5d569dd-f966-4325-8014-b1c593712f38\" xlink:actuate=\"onRequest\" xlink:href=\"psysml:a5d569dd-f966-4325-8014-b1c593712f38\" xlink:show=\"new\" xlink:title=\"psysml:a5d569dd-f966-4325-8014-b1c593712f38\" xlink:type=\"simple\"><path d=\"M427.18,111 C462.81,111 509.24,111 544.69,111 \" fill=\"none\" id=\"E4-&gt;E5\" style=\"stroke: #383838; stroke-width: 1.0; stroke-dasharray: 7.0,7.0;\"/><polygon fill=\"#383838\" points=\"553,111,545,108,545,114,553,111\" style=\"stroke: #383838; stroke-width: 1.0;\"/><text fill=\"#000000\" font-family=\"sans-serif\" font-size=\"13\" lengthAdjust=\"spacingAndGlyphs\" textLength=\"64\" x=\"458\" y=\"107.0669\">«depend»</text></a><!--MD5=[c5e8897d989ce984f93528998a7150fe]\n",
       "link E8 to E6--><a href=\"psysml:e9cc0fc6-3b4b-4571-a4a8-99018107eac1\" target=\"_top\" title=\"psysml:e9cc0fc6-3b4b-4571-a4a8-99018107eac1\" xlink:actuate=\"onRequest\" xlink:href=\"psysml:e9cc0fc6-3b4b-4571-a4a8-99018107eac1\" xlink:show=\"new\" xlink:title=\"psysml:e9cc0fc6-3b4b-4571-a4a8-99018107eac1\" xlink:type=\"simple\"><path d=\"M159.03,235.72 C203.37,244.36 280.3,259.34 328.28,268.68 \" fill=\"none\" id=\"E8-&gt;E6\" style=\"stroke: #383838; stroke-width: 1.0; stroke-dasharray: 7.0,7.0;\"/><polygon fill=\"#383838\" points=\"336.3,270.24,329.0216,265.765,327.8738,271.6542,336.3,270.24\" style=\"stroke: #383838; stroke-width: 1.0;\"/><text fill=\"#000000\" font-family=\"sans-serif\" font-size=\"13\" lengthAdjust=\"spacingAndGlyphs\" textLength=\"64\" x=\"222\" y=\"245.0669\">«depend»</text></a><!--MD5=[bfa3c8b0d15052fdf50ae9310b491027]\n",
       "link E8 to E7--><a href=\"psysml:e9cc0fc6-3b4b-4571-a4a8-99018107eac1\" target=\"_top\" title=\"psysml:e9cc0fc6-3b4b-4571-a4a8-99018107eac1\" xlink:actuate=\"onRequest\" xlink:href=\"psysml:e9cc0fc6-3b4b-4571-a4a8-99018107eac1\" xlink:show=\"new\" xlink:title=\"psysml:e9cc0fc6-3b4b-4571-a4a8-99018107eac1\" xlink:type=\"simple\"><path d=\"M159.03,224.38 C203.37,218.44 280.3,208.14 328.28,201.72 \" fill=\"none\" id=\"E8-&gt;E7\" style=\"stroke: #383838; stroke-width: 1.0; stroke-dasharray: 7.0,7.0;\"/><polygon fill=\"#383838\" points=\"336.3,200.65,327.9737,198.7336,328.7667,204.681,336.3,200.65\" style=\"stroke: #383838; stroke-width: 1.0;\"/><text fill=\"#000000\" font-family=\"sans-serif\" font-size=\"13\" lengthAdjust=\"spacingAndGlyphs\" textLength=\"64\" x=\"222\" y=\"204.0669\">«depend»</text></a><!--MD5=[1b8acb4e06bb4ff81b4351bb0f812c62]\n",
       "@startuml\r\n",
       "left to right direction\r\n",
       "skinparam monochrome true\r\n",
       "skinparam classbackgroundcolor white\r\n",
       "skinparam shadowing false\r\n",
       "skinparam wrapWidth 300\r\n",
       "hide circle\r\n",
       "\r\n",
       "package \"DependencyTest\" as E1  [[psysml:d3869743-6750-4f05-a5ce-51c4137f7251 ]]  {\r\n",
       "package \"System\" as E2  [[psysml:6b74be88-9b37-4afd-8ab0-bbd062a94e7e ]]  {\r\n",
       "package \"Application Layer\" as E3  [[psysml:03aab854-f405-4fcc-aa77-08da242f79f1 ]]  {\r\n",
       "}\r\n",
       "package \"Service Layer\" as E4  [[psysml:ad996126-15a5-42e2-8928-0fb76718612c ]]  {\r\n",
       "}\r\n",
       "package \"Data Layer\" as E5  [[psysml:17a101e7-475f-4fc3-82c9-609370bf1116 ]]  {\r\n",
       "}\r\n",
       "}\r\n",
       "comp usage \"x\" as E6  <<(T,blue) attribute>> [[psysml:881809a4-48f2-4fe8-9827-6dde0f998bab ]] {\r\n",
       "}\r\n",
       "comp usage \"y\" as E7  <<(T,blue) attribute>> [[psysml:190ef100-b940-43fb-97f3-4b9e1cd4417f ]] {\r\n",
       "}\r\n",
       "comp usage \"z\" as E8  <<(T,blue) attribute>> [[psysml:293eb67f-3e12-4287-ab19-bcded2d3124c ]] {\r\n",
       "}\r\n",
       "}\r\n",
       "E3 ..>> E4 [[psysml:8bc3dbe9-cd72-4429-a15e-d6826987fc7c ]] : <<depend>>\r\n",
       "E4 ..>> E5 [[psysml:a5d569dd-f966-4325-8014-b1c593712f38 ]] : <<depend>>\r\n",
       "E8 ..>> E6 [[psysml:e9cc0fc6-3b4b-4571-a4a8-99018107eac1 ]] : <<depend>>\r\n",
       "E8 ..>> E7 [[psysml:e9cc0fc6-3b4b-4571-a4a8-99018107eac1 ]] : <<depend>>\r\n",
       "@enduml\r\n",
       "\n",
       "PlantUML version 1.2020.13(Sat Jun 13 12:26:38 UTC 2020)\n",
       "(EPL source distribution)\n",
       "Java Runtime: OpenJDK Runtime Environment\n",
       "JVM: OpenJDK 64-Bit Server VM\n",
       "Default Encoding: UTF-8\n",
       "Language: en\n",
       "Country: null\n",
       "--></g></svg>"
      ]
     },
     "execution_count": 22,
     "metadata": {},
     "output_type": "execute_result"
    }
   ],
   "source": [
    "%viz --style=\"LR\" --view=\"MIXED\" \"DependencyTest\""
   ]
  },
  {
   "cell_type": "code",
   "execution_count": 23,
   "id": "8453ea90",
   "metadata": {
    "execution": {
     "iopub.execute_input": "2021-10-03T08:27:19.279733Z",
     "iopub.status.busy": "2021-10-03T08:27:19.279342Z",
     "iopub.status.idle": "2021-10-03T08:27:19.310422Z",
     "shell.execute_reply": "2021-10-03T08:27:19.310070Z"
    }
   },
   "outputs": [
    {
     "data": {
      "image/svg+xml": [
       "<?xml version=\"1.0\" encoding=\"UTF-8\" standalone=\"no\"?><svg xmlns=\"http://www.w3.org/2000/svg\" xmlns:xlink=\"http://www.w3.org/1999/xlink\" contentScriptType=\"application/ecmascript\" contentStyleType=\"text/css\" height=\"449px\" preserveAspectRatio=\"none\" style=\"width:469px;height:449px;\" version=\"1.1\" viewBox=\"0 0 469 449\" width=\"469px\" zoomAndPan=\"magnify\"><defs><filter height=\"300%\" id=\"f1qmfq2w4gtt7v\" width=\"300%\" x=\"-1\" y=\"-1\"><feGaussianBlur result=\"blurOut\" stdDeviation=\"2.0\"/><feColorMatrix in=\"blurOut\" result=\"blurOut2\" type=\"matrix\" values=\"0 0 0 0 0 0 0 0 0 0 0 0 0 0 0 0 0 0 .4 0\"/><feOffset dx=\"4.0\" dy=\"4.0\" in=\"blurOut2\" result=\"blurOut3\"/><feBlend in=\"SourceGraphic\" in2=\"blurOut3\" mode=\"normal\"/></filter></defs><g><!--MD5=[fbc87193dbaf4d95561dea2c320d4a47]\n",
       "cluster E1--><a href=\"psysml:d3869743-6750-4f05-a5ce-51c4137f7251\" target=\"_top\" title=\"psysml:d3869743-6750-4f05-a5ce-51c4137f7251\" xlink:actuate=\"onRequest\" xlink:href=\"psysml:d3869743-6750-4f05-a5ce-51c4137f7251\" xlink:show=\"new\" xlink:title=\"psysml:d3869743-6750-4f05-a5ce-51c4137f7251\" xlink:type=\"simple\"><polygon fill=\"#FFFFFF\" filter=\"url(#f1qmfq2w4gtt7v)\" points=\"16,6,142,6,149,28.2969,447,28.2969,447,437,16,437,16,6\" style=\"stroke: #000000; stroke-width: 1.5;\"/><line style=\"stroke: #000000; stroke-width: 1.5;\" x1=\"16\" x2=\"149\" y1=\"28.2969\" y2=\"28.2969\"/><text fill=\"#000000\" font-family=\"sans-serif\" font-size=\"14\" font-weight=\"bold\" lengthAdjust=\"spacingAndGlyphs\" textLength=\"120\" x=\"20\" y=\"20.9951\">DependencyTest</text></a><!--MD5=[e4f7fae6ed58524ba242bb0b0d3be6b7]\n",
       "cluster E2--><a href=\"psysml:6b74be88-9b37-4afd-8ab0-bbd062a94e7e\" target=\"_top\" title=\"psysml:6b74be88-9b37-4afd-8ab0-bbd062a94e7e\" xlink:actuate=\"onRequest\" xlink:href=\"psysml:6b74be88-9b37-4afd-8ab0-bbd062a94e7e\" xlink:show=\"new\" xlink:title=\"psysml:6b74be88-9b37-4afd-8ab0-bbd062a94e7e\" xlink:type=\"simple\"><polygon fill=\"#FFFFFF\" filter=\"url(#f1qmfq2w4gtt7v)\" points=\"255,49,312,49,319,71.2969,423,71.2969,423,413,255,413,255,49\" style=\"stroke: #000000; stroke-width: 1.5;\"/><line style=\"stroke: #000000; stroke-width: 1.5;\" x1=\"255\" x2=\"319\" y1=\"71.2969\" y2=\"71.2969\"/><text fill=\"#000000\" font-family=\"sans-serif\" font-size=\"14\" font-weight=\"bold\" lengthAdjust=\"spacingAndGlyphs\" textLength=\"51\" x=\"259\" y=\"63.9951\">System</text></a><!--MD5=[60a26617385b1d2d0262a64233df1f8d]\n",
       "class E6--><a href=\"psysml:881809a4-48f2-4fe8-9827-6dde0f998bab\" target=\"_top\" title=\"psysml:881809a4-48f2-4fe8-9827-6dde0f998bab\" xlink:actuate=\"onRequest\" xlink:href=\"psysml:881809a4-48f2-4fe8-9827-6dde0f998bab\" xlink:show=\"new\" xlink:title=\"psysml:881809a4-48f2-4fe8-9827-6dde0f998bab\" xlink:type=\"simple\"><rect fill=\"#FEFECE\" filter=\"url(#f1qmfq2w4gtt7v)\" height=\"45.9375\" id=\"E6\" rx=\"10\" ry=\"10\" style=\"stroke: #A80036; stroke-width: 1.5;\" width=\"71\" x=\"32.5\" y=\"217.5\"/><text fill=\"#000000\" font-family=\"sans-serif\" font-size=\"12\" font-style=\"italic\" lengthAdjust=\"spacingAndGlyphs\" textLength=\"69\" x=\"33.5\" y=\"233.6387\">«attribute»</text><text fill=\"#000000\" font-family=\"sans-serif\" font-size=\"12\" lengthAdjust=\"spacingAndGlyphs\" textLength=\"6\" x=\"65\" y=\"247.6074\">x</text><line style=\"stroke: #A80036; stroke-width: 1.5;\" x1=\"33.5\" x2=\"102.5\" y1=\"255.4375\" y2=\"255.4375\"/></a><!--MD5=[2156ba9850f5573cc1fc38a6a4b2f02b]\n",
       "class E7--><a href=\"psysml:190ef100-b940-43fb-97f3-4b9e1cd4417f\" target=\"_top\" title=\"psysml:190ef100-b940-43fb-97f3-4b9e1cd4417f\" xlink:actuate=\"onRequest\" xlink:href=\"psysml:190ef100-b940-43fb-97f3-4b9e1cd4417f\" xlink:show=\"new\" xlink:title=\"psysml:190ef100-b940-43fb-97f3-4b9e1cd4417f\" xlink:type=\"simple\"><rect fill=\"#FEFECE\" filter=\"url(#f1qmfq2w4gtt7v)\" height=\"45.9375\" id=\"E7\" rx=\"10\" ry=\"10\" style=\"stroke: #A80036; stroke-width: 1.5;\" width=\"71\" x=\"138.5\" y=\"217.5\"/><text fill=\"#000000\" font-family=\"sans-serif\" font-size=\"12\" font-style=\"italic\" lengthAdjust=\"spacingAndGlyphs\" textLength=\"69\" x=\"139.5\" y=\"233.6387\">«attribute»</text><text fill=\"#000000\" font-family=\"sans-serif\" font-size=\"12\" lengthAdjust=\"spacingAndGlyphs\" textLength=\"6\" x=\"171\" y=\"247.6074\">y</text><line style=\"stroke: #A80036; stroke-width: 1.5;\" x1=\"139.5\" x2=\"208.5\" y1=\"255.4375\" y2=\"255.4375\"/></a><!--MD5=[b9389687b975829384b498ac4b7476b2]\n",
       "class E8--><a href=\"psysml:293eb67f-3e12-4287-ab19-bcded2d3124c\" target=\"_top\" title=\"psysml:293eb67f-3e12-4287-ab19-bcded2d3124c\" xlink:actuate=\"onRequest\" xlink:href=\"psysml:293eb67f-3e12-4287-ab19-bcded2d3124c\" xlink:show=\"new\" xlink:title=\"psysml:293eb67f-3e12-4287-ab19-bcded2d3124c\" xlink:type=\"simple\"><rect fill=\"#FEFECE\" filter=\"url(#f1qmfq2w4gtt7v)\" height=\"45.9375\" id=\"E8\" rx=\"10\" ry=\"10\" style=\"stroke: #A80036; stroke-width: 1.5;\" width=\"71\" x=\"84.5\" y=\"87.5\"/><text fill=\"#000000\" font-family=\"sans-serif\" font-size=\"12\" font-style=\"italic\" lengthAdjust=\"spacingAndGlyphs\" textLength=\"69\" x=\"85.5\" y=\"103.6387\">«attribute»</text><text fill=\"#000000\" font-family=\"sans-serif\" font-size=\"12\" lengthAdjust=\"spacingAndGlyphs\" textLength=\"5\" x=\"117.5\" y=\"117.6074\">z</text><line style=\"stroke: #A80036; stroke-width: 1.5;\" x1=\"85.5\" x2=\"154.5\" y1=\"125.4375\" y2=\"125.4375\"/></a><a href=\"psysml:03aab854-f405-4fcc-aa77-08da242f79f1\" target=\"_top\" title=\"psysml:03aab854-f405-4fcc-aa77-08da242f79f1\" xlink:actuate=\"onRequest\" xlink:href=\"psysml:03aab854-f405-4fcc-aa77-08da242f79f1\" xlink:show=\"new\" xlink:title=\"psysml:03aab854-f405-4fcc-aa77-08da242f79f1\" xlink:type=\"simple\"><polygon fill=\"#FFFFFF\" filter=\"url(#f1qmfq2w4gtt7v)\" points=\"271.5,84,392.5,84,399.5,106.2969,406.5,106.2969,406.5,136.5938,271.5,136.5938,271.5,84\" style=\"stroke: #000000; stroke-width: 1.5;\"/><line style=\"stroke: #000000; stroke-width: 1.5;\" x1=\"271.5\" x2=\"399.5\" y1=\"106.2969\" y2=\"106.2969\"/><text fill=\"#000000\" font-family=\"sans-serif\" font-size=\"14\" font-weight=\"bold\" lengthAdjust=\"spacingAndGlyphs\" textLength=\"115\" x=\"275.5\" y=\"98.9951\">Application Layer</text></a><a href=\"psysml:ad996126-15a5-42e2-8928-0fb76718612c\" target=\"_top\" title=\"psysml:ad996126-15a5-42e2-8928-0fb76718612c\" xlink:actuate=\"onRequest\" xlink:href=\"psysml:ad996126-15a5-42e2-8928-0fb76718612c\" xlink:show=\"new\" xlink:title=\"psysml:ad996126-15a5-42e2-8928-0fb76718612c\" xlink:type=\"simple\"><polygon fill=\"#FFFFFF\" filter=\"url(#f1qmfq2w4gtt7v)\" points=\"284,214,380,214,387,236.2969,394,236.2969,394,266.5938,284,266.5938,284,214\" style=\"stroke: #000000; stroke-width: 1.5;\"/><line style=\"stroke: #000000; stroke-width: 1.5;\" x1=\"284\" x2=\"387\" y1=\"236.2969\" y2=\"236.2969\"/><text fill=\"#000000\" font-family=\"sans-serif\" font-size=\"14\" font-weight=\"bold\" lengthAdjust=\"spacingAndGlyphs\" textLength=\"90\" x=\"288\" y=\"228.9951\">Service Layer</text></a><a href=\"psysml:17a101e7-475f-4fc3-82c9-609370bf1116\" target=\"_top\" title=\"psysml:17a101e7-475f-4fc3-82c9-609370bf1116\" xlink:actuate=\"onRequest\" xlink:href=\"psysml:17a101e7-475f-4fc3-82c9-609370bf1116\" xlink:show=\"new\" xlink:title=\"psysml:17a101e7-475f-4fc3-82c9-609370bf1116\" xlink:type=\"simple\"><polygon fill=\"#FFFFFF\" filter=\"url(#f1qmfq2w4gtt7v)\" points=\"293,344,371,344,378,366.2969,385,366.2969,385,396.5938,293,396.5938,293,344\" style=\"stroke: #000000; stroke-width: 1.5;\"/><line style=\"stroke: #000000; stroke-width: 1.5;\" x1=\"293\" x2=\"378\" y1=\"366.2969\" y2=\"366.2969\"/><text fill=\"#000000\" font-family=\"sans-serif\" font-size=\"14\" font-weight=\"bold\" lengthAdjust=\"spacingAndGlyphs\" textLength=\"72\" x=\"297\" y=\"358.9951\">Data Layer</text></a><!--MD5=[af87c684e3b0d8be13c1a698a818ef1e]\n",
       "link E3 to E4--><a href=\"psysml:8bc3dbe9-cd72-4429-a15e-d6826987fc7c\" target=\"_top\" title=\"psysml:8bc3dbe9-cd72-4429-a15e-d6826987fc7c\" xlink:actuate=\"onRequest\" xlink:href=\"psysml:8bc3dbe9-cd72-4429-a15e-d6826987fc7c\" xlink:show=\"new\" xlink:title=\"psysml:8bc3dbe9-cd72-4429-a15e-d6826987fc7c\" xlink:type=\"simple\"><path d=\"M339,137.1 C339,156.8 339,184.22 339,205.73 \" fill=\"none\" id=\"E3-&gt;E4\" style=\"stroke: #A80036; stroke-width: 1.0; stroke-dasharray: 7.0,7.0;\"/><polygon fill=\"#A80036\" points=\"339,213.95,342,205.95,336,205.95,339,213.95\" style=\"stroke: #A80036; stroke-width: 1.0;\"/><text fill=\"#000000\" font-family=\"sans-serif\" font-size=\"13\" lengthAdjust=\"spacingAndGlyphs\" textLength=\"64\" x=\"340\" y=\"180.0669\">«depend»</text></a><!--MD5=[1b7591eae5389033d8d09a9d6721a717]\n",
       "link E4 to E5--><a href=\"psysml:a5d569dd-f966-4325-8014-b1c593712f38\" target=\"_top\" title=\"psysml:a5d569dd-f966-4325-8014-b1c593712f38\" xlink:actuate=\"onRequest\" xlink:href=\"psysml:a5d569dd-f966-4325-8014-b1c593712f38\" xlink:show=\"new\" xlink:title=\"psysml:a5d569dd-f966-4325-8014-b1c593712f38\" xlink:type=\"simple\"><path d=\"M339,267.1 C339,286.8 339,314.22 339,335.73 \" fill=\"none\" id=\"E4-&gt;E5\" style=\"stroke: #A80036; stroke-width: 1.0; stroke-dasharray: 7.0,7.0;\"/><polygon fill=\"#A80036\" points=\"339,343.95,342,335.95,336,335.95,339,343.95\" style=\"stroke: #A80036; stroke-width: 1.0;\"/><text fill=\"#000000\" font-family=\"sans-serif\" font-size=\"13\" lengthAdjust=\"spacingAndGlyphs\" textLength=\"64\" x=\"340\" y=\"310.0669\">«depend»</text></a><!--MD5=[c5e8897d989ce984f93528998a7150fe]\n",
       "link E8 to E6--><a href=\"psysml:e9cc0fc6-3b4b-4571-a4a8-99018107eac1\" target=\"_top\" title=\"psysml:e9cc0fc6-3b4b-4571-a4a8-99018107eac1\" xlink:actuate=\"onRequest\" xlink:href=\"psysml:e9cc0fc6-3b4b-4571-a4a8-99018107eac1\" xlink:show=\"new\" xlink:title=\"psysml:e9cc0fc6-3b4b-4571-a4a8-99018107eac1\" xlink:type=\"simple\"><path d=\"M89.42,133.6 C79.35,142.68 69.37,154.11 64,167 C58.5,180.2 58.66,195.94 60.54,209.38 \" fill=\"none\" id=\"E8-&gt;E6\" style=\"stroke: #A80036; stroke-width: 1.0; stroke-dasharray: 7.0,7.0;\"/><polygon fill=\"#A80036\" points=\"61.9,217.4,63.517,209.0104,57.6018,210.0159,61.9,217.4\" style=\"stroke: #A80036; stroke-width: 1.0;\"/><text fill=\"#000000\" font-family=\"sans-serif\" font-size=\"13\" lengthAdjust=\"spacingAndGlyphs\" textLength=\"64\" x=\"65\" y=\"180.0669\">«depend»</text></a><!--MD5=[bfa3c8b0d15052fdf50ae9310b491027]\n",
       "link E8 to E7--><a href=\"psysml:e9cc0fc6-3b4b-4571-a4a8-99018107eac1\" target=\"_top\" title=\"psysml:e9cc0fc6-3b4b-4571-a4a8-99018107eac1\" xlink:actuate=\"onRequest\" xlink:href=\"psysml:e9cc0fc6-3b4b-4571-a4a8-99018107eac1\" xlink:show=\"new\" xlink:title=\"psysml:e9cc0fc6-3b4b-4571-a4a8-99018107eac1\" xlink:type=\"simple\"><path d=\"M129.28,133.5 C138.17,154.57 151.64,186.5 161.47,209.81 \" fill=\"none\" id=\"E8-&gt;E7\" style=\"stroke: #A80036; stroke-width: 1.0; stroke-dasharray: 7.0,7.0;\"/><polygon fill=\"#A80036\" points=\"164.66,217.35,164.3241,208.8126,158.7933,211.1385,164.66,217.35\" style=\"stroke: #A80036; stroke-width: 1.0;\"/><text fill=\"#000000\" font-family=\"sans-serif\" font-size=\"13\" lengthAdjust=\"spacingAndGlyphs\" textLength=\"64\" x=\"151\" y=\"180.0669\">«depend»</text></a><!--MD5=[045dce2ee1fdda8bd89a672e46db147b]\n",
       "@startuml\r\n",
       "skinparam wrapWidth 300\r\n",
       "hide circle\r\n",
       "\r\n",
       "package \"DependencyTest\" as E1  [[psysml:d3869743-6750-4f05-a5ce-51c4137f7251 ]]  {\r\n",
       "package \"System\" as E2  [[psysml:6b74be88-9b37-4afd-8ab0-bbd062a94e7e ]]  {\r\n",
       "package \"Application Layer\" as E3  [[psysml:03aab854-f405-4fcc-aa77-08da242f79f1 ]]  {\r\n",
       "}\r\n",
       "package \"Service Layer\" as E4  [[psysml:ad996126-15a5-42e2-8928-0fb76718612c ]]  {\r\n",
       "}\r\n",
       "package \"Data Layer\" as E5  [[psysml:17a101e7-475f-4fc3-82c9-609370bf1116 ]]  {\r\n",
       "}\r\n",
       "}\r\n",
       "comp usage \"x\" as E6  <<(T,blue) attribute>> [[psysml:881809a4-48f2-4fe8-9827-6dde0f998bab ]] {\r\n",
       "}\r\n",
       "comp usage \"y\" as E7  <<(T,blue) attribute>> [[psysml:190ef100-b940-43fb-97f3-4b9e1cd4417f ]] {\r\n",
       "}\r\n",
       "comp usage \"z\" as E8  <<(T,blue) attribute>> [[psysml:293eb67f-3e12-4287-ab19-bcded2d3124c ]] {\r\n",
       "}\r\n",
       "}\r\n",
       "E3 ..>> E4 [[psysml:8bc3dbe9-cd72-4429-a15e-d6826987fc7c ]] : <<depend>>\r\n",
       "E4 ..>> E5 [[psysml:a5d569dd-f966-4325-8014-b1c593712f38 ]] : <<depend>>\r\n",
       "E8 ..>> E6 [[psysml:e9cc0fc6-3b4b-4571-a4a8-99018107eac1 ]] : <<depend>>\r\n",
       "E8 ..>> E7 [[psysml:e9cc0fc6-3b4b-4571-a4a8-99018107eac1 ]] : <<depend>>\r\n",
       "@enduml\r\n",
       "\n",
       "PlantUML version 1.2020.13(Sat Jun 13 12:26:38 UTC 2020)\n",
       "(EPL source distribution)\n",
       "Java Runtime: OpenJDK Runtime Environment\n",
       "JVM: OpenJDK 64-Bit Server VM\n",
       "Default Encoding: UTF-8\n",
       "Language: en\n",
       "Country: null\n",
       "--></g></svg>"
      ]
     },
     "execution_count": 23,
     "metadata": {},
     "output_type": "execute_result"
    }
   ],
   "source": [
    "%viz --style=\"STDCOLOR\" --view=\"Default\" \"DependencyTest\""
   ]
  },
  {
   "cell_type": "code",
   "execution_count": 24,
   "id": "5d98c1e3",
   "metadata": {
    "execution": {
     "iopub.execute_input": "2021-10-03T08:27:19.359519Z",
     "iopub.status.busy": "2021-10-03T08:27:19.359122Z",
     "iopub.status.idle": "2021-10-03T08:27:19.392522Z",
     "shell.execute_reply": "2021-10-03T08:27:19.392167Z"
    }
   },
   "outputs": [
    {
     "data": {
      "image/svg+xml": [
       "<?xml version=\"1.0\" encoding=\"UTF-8\" standalone=\"no\"?><svg xmlns=\"http://www.w3.org/2000/svg\" xmlns:xlink=\"http://www.w3.org/1999/xlink\" contentScriptType=\"application/ecmascript\" contentStyleType=\"text/css\" height=\"449px\" preserveAspectRatio=\"none\" style=\"width:469px;height:449px;\" version=\"1.1\" viewBox=\"0 0 469 449\" width=\"469px\" zoomAndPan=\"magnify\"><defs><filter height=\"300%\" id=\"f1qmfq2w4gtt7v\" width=\"300%\" x=\"-1\" y=\"-1\"><feGaussianBlur result=\"blurOut\" stdDeviation=\"2.0\"/><feColorMatrix in=\"blurOut\" result=\"blurOut2\" type=\"matrix\" values=\"0 0 0 0 0 0 0 0 0 0 0 0 0 0 0 0 0 0 .4 0\"/><feOffset dx=\"4.0\" dy=\"4.0\" in=\"blurOut2\" result=\"blurOut3\"/><feBlend in=\"SourceGraphic\" in2=\"blurOut3\" mode=\"normal\"/></filter></defs><g><!--MD5=[fbc87193dbaf4d95561dea2c320d4a47]\n",
       "cluster E1--><a href=\"psysml:d3869743-6750-4f05-a5ce-51c4137f7251\" target=\"_top\" title=\"psysml:d3869743-6750-4f05-a5ce-51c4137f7251\" xlink:actuate=\"onRequest\" xlink:href=\"psysml:d3869743-6750-4f05-a5ce-51c4137f7251\" xlink:show=\"new\" xlink:title=\"psysml:d3869743-6750-4f05-a5ce-51c4137f7251\" xlink:type=\"simple\"><polygon fill=\"#FFFFFF\" filter=\"url(#f1qmfq2w4gtt7v)\" points=\"16,6,142,6,149,28.2969,447,28.2969,447,437,16,437,16,6\" style=\"stroke: #000000; stroke-width: 1.5;\"/><line style=\"stroke: #000000; stroke-width: 1.5;\" x1=\"16\" x2=\"149\" y1=\"28.2969\" y2=\"28.2969\"/><text fill=\"#000000\" font-family=\"sans-serif\" font-size=\"14\" font-weight=\"bold\" lengthAdjust=\"spacingAndGlyphs\" textLength=\"120\" x=\"20\" y=\"20.9951\">DependencyTest</text></a><!--MD5=[e4f7fae6ed58524ba242bb0b0d3be6b7]\n",
       "cluster E2--><a href=\"psysml:6b74be88-9b37-4afd-8ab0-bbd062a94e7e\" target=\"_top\" title=\"psysml:6b74be88-9b37-4afd-8ab0-bbd062a94e7e\" xlink:actuate=\"onRequest\" xlink:href=\"psysml:6b74be88-9b37-4afd-8ab0-bbd062a94e7e\" xlink:show=\"new\" xlink:title=\"psysml:6b74be88-9b37-4afd-8ab0-bbd062a94e7e\" xlink:type=\"simple\"><polygon fill=\"#FFFFFF\" filter=\"url(#f1qmfq2w4gtt7v)\" points=\"255,49,312,49,319,71.2969,423,71.2969,423,413,255,413,255,49\" style=\"stroke: #000000; stroke-width: 1.5;\"/><line style=\"stroke: #000000; stroke-width: 1.5;\" x1=\"255\" x2=\"319\" y1=\"71.2969\" y2=\"71.2969\"/><text fill=\"#000000\" font-family=\"sans-serif\" font-size=\"14\" font-weight=\"bold\" lengthAdjust=\"spacingAndGlyphs\" textLength=\"51\" x=\"259\" y=\"63.9951\">System</text></a><!--MD5=[60a26617385b1d2d0262a64233df1f8d]\n",
       "class E6--><a href=\"psysml:881809a4-48f2-4fe8-9827-6dde0f998bab\" target=\"_top\" title=\"psysml:881809a4-48f2-4fe8-9827-6dde0f998bab\" xlink:actuate=\"onRequest\" xlink:href=\"psysml:881809a4-48f2-4fe8-9827-6dde0f998bab\" xlink:show=\"new\" xlink:title=\"psysml:881809a4-48f2-4fe8-9827-6dde0f998bab\" xlink:type=\"simple\"><rect fill=\"#FEFECE\" filter=\"url(#f1qmfq2w4gtt7v)\" height=\"45.9375\" id=\"E6\" rx=\"10\" ry=\"10\" style=\"stroke: #A80036; stroke-width: 1.5;\" width=\"71\" x=\"32.5\" y=\"217.5\"/><text fill=\"#000000\" font-family=\"sans-serif\" font-size=\"12\" font-style=\"italic\" lengthAdjust=\"spacingAndGlyphs\" textLength=\"69\" x=\"33.5\" y=\"233.6387\">«attribute»</text><text fill=\"#000000\" font-family=\"sans-serif\" font-size=\"12\" lengthAdjust=\"spacingAndGlyphs\" textLength=\"6\" x=\"65\" y=\"247.6074\">x</text><line style=\"stroke: #A80036; stroke-width: 1.5;\" x1=\"33.5\" x2=\"102.5\" y1=\"255.4375\" y2=\"255.4375\"/></a><!--MD5=[2156ba9850f5573cc1fc38a6a4b2f02b]\n",
       "class E7--><a href=\"psysml:190ef100-b940-43fb-97f3-4b9e1cd4417f\" target=\"_top\" title=\"psysml:190ef100-b940-43fb-97f3-4b9e1cd4417f\" xlink:actuate=\"onRequest\" xlink:href=\"psysml:190ef100-b940-43fb-97f3-4b9e1cd4417f\" xlink:show=\"new\" xlink:title=\"psysml:190ef100-b940-43fb-97f3-4b9e1cd4417f\" xlink:type=\"simple\"><rect fill=\"#FEFECE\" filter=\"url(#f1qmfq2w4gtt7v)\" height=\"45.9375\" id=\"E7\" rx=\"10\" ry=\"10\" style=\"stroke: #A80036; stroke-width: 1.5;\" width=\"71\" x=\"138.5\" y=\"217.5\"/><text fill=\"#000000\" font-family=\"sans-serif\" font-size=\"12\" font-style=\"italic\" lengthAdjust=\"spacingAndGlyphs\" textLength=\"69\" x=\"139.5\" y=\"233.6387\">«attribute»</text><text fill=\"#000000\" font-family=\"sans-serif\" font-size=\"12\" lengthAdjust=\"spacingAndGlyphs\" textLength=\"6\" x=\"171\" y=\"247.6074\">y</text><line style=\"stroke: #A80036; stroke-width: 1.5;\" x1=\"139.5\" x2=\"208.5\" y1=\"255.4375\" y2=\"255.4375\"/></a><!--MD5=[b9389687b975829384b498ac4b7476b2]\n",
       "class E8--><a href=\"psysml:293eb67f-3e12-4287-ab19-bcded2d3124c\" target=\"_top\" title=\"psysml:293eb67f-3e12-4287-ab19-bcded2d3124c\" xlink:actuate=\"onRequest\" xlink:href=\"psysml:293eb67f-3e12-4287-ab19-bcded2d3124c\" xlink:show=\"new\" xlink:title=\"psysml:293eb67f-3e12-4287-ab19-bcded2d3124c\" xlink:type=\"simple\"><rect fill=\"#FEFECE\" filter=\"url(#f1qmfq2w4gtt7v)\" height=\"45.9375\" id=\"E8\" rx=\"10\" ry=\"10\" style=\"stroke: #A80036; stroke-width: 1.5;\" width=\"71\" x=\"84.5\" y=\"87.5\"/><text fill=\"#000000\" font-family=\"sans-serif\" font-size=\"12\" font-style=\"italic\" lengthAdjust=\"spacingAndGlyphs\" textLength=\"69\" x=\"85.5\" y=\"103.6387\">«attribute»</text><text fill=\"#000000\" font-family=\"sans-serif\" font-size=\"12\" lengthAdjust=\"spacingAndGlyphs\" textLength=\"5\" x=\"117.5\" y=\"117.6074\">z</text><line style=\"stroke: #A80036; stroke-width: 1.5;\" x1=\"85.5\" x2=\"154.5\" y1=\"125.4375\" y2=\"125.4375\"/></a><a href=\"psysml:03aab854-f405-4fcc-aa77-08da242f79f1\" target=\"_top\" title=\"psysml:03aab854-f405-4fcc-aa77-08da242f79f1\" xlink:actuate=\"onRequest\" xlink:href=\"psysml:03aab854-f405-4fcc-aa77-08da242f79f1\" xlink:show=\"new\" xlink:title=\"psysml:03aab854-f405-4fcc-aa77-08da242f79f1\" xlink:type=\"simple\"><polygon fill=\"#FFFFFF\" filter=\"url(#f1qmfq2w4gtt7v)\" points=\"271.5,84,392.5,84,399.5,106.2969,406.5,106.2969,406.5,136.5938,271.5,136.5938,271.5,84\" style=\"stroke: #000000; stroke-width: 1.5;\"/><line style=\"stroke: #000000; stroke-width: 1.5;\" x1=\"271.5\" x2=\"399.5\" y1=\"106.2969\" y2=\"106.2969\"/><text fill=\"#000000\" font-family=\"sans-serif\" font-size=\"14\" font-weight=\"bold\" lengthAdjust=\"spacingAndGlyphs\" textLength=\"115\" x=\"275.5\" y=\"98.9951\">Application Layer</text></a><a href=\"psysml:ad996126-15a5-42e2-8928-0fb76718612c\" target=\"_top\" title=\"psysml:ad996126-15a5-42e2-8928-0fb76718612c\" xlink:actuate=\"onRequest\" xlink:href=\"psysml:ad996126-15a5-42e2-8928-0fb76718612c\" xlink:show=\"new\" xlink:title=\"psysml:ad996126-15a5-42e2-8928-0fb76718612c\" xlink:type=\"simple\"><polygon fill=\"#FFFFFF\" filter=\"url(#f1qmfq2w4gtt7v)\" points=\"284,214,380,214,387,236.2969,394,236.2969,394,266.5938,284,266.5938,284,214\" style=\"stroke: #000000; stroke-width: 1.5;\"/><line style=\"stroke: #000000; stroke-width: 1.5;\" x1=\"284\" x2=\"387\" y1=\"236.2969\" y2=\"236.2969\"/><text fill=\"#000000\" font-family=\"sans-serif\" font-size=\"14\" font-weight=\"bold\" lengthAdjust=\"spacingAndGlyphs\" textLength=\"90\" x=\"288\" y=\"228.9951\">Service Layer</text></a><a href=\"psysml:17a101e7-475f-4fc3-82c9-609370bf1116\" target=\"_top\" title=\"psysml:17a101e7-475f-4fc3-82c9-609370bf1116\" xlink:actuate=\"onRequest\" xlink:href=\"psysml:17a101e7-475f-4fc3-82c9-609370bf1116\" xlink:show=\"new\" xlink:title=\"psysml:17a101e7-475f-4fc3-82c9-609370bf1116\" xlink:type=\"simple\"><polygon fill=\"#FFFFFF\" filter=\"url(#f1qmfq2w4gtt7v)\" points=\"293,344,371,344,378,366.2969,385,366.2969,385,396.5938,293,396.5938,293,344\" style=\"stroke: #000000; stroke-width: 1.5;\"/><line style=\"stroke: #000000; stroke-width: 1.5;\" x1=\"293\" x2=\"378\" y1=\"366.2969\" y2=\"366.2969\"/><text fill=\"#000000\" font-family=\"sans-serif\" font-size=\"14\" font-weight=\"bold\" lengthAdjust=\"spacingAndGlyphs\" textLength=\"72\" x=\"297\" y=\"358.9951\">Data Layer</text></a><!--MD5=[af87c684e3b0d8be13c1a698a818ef1e]\n",
       "link E3 to E4--><a href=\"psysml:8bc3dbe9-cd72-4429-a15e-d6826987fc7c\" target=\"_top\" title=\"psysml:8bc3dbe9-cd72-4429-a15e-d6826987fc7c\" xlink:actuate=\"onRequest\" xlink:href=\"psysml:8bc3dbe9-cd72-4429-a15e-d6826987fc7c\" xlink:show=\"new\" xlink:title=\"psysml:8bc3dbe9-cd72-4429-a15e-d6826987fc7c\" xlink:type=\"simple\"><path d=\"M339,137.1 C339,156.8 339,184.22 339,205.73 \" fill=\"none\" id=\"E3-&gt;E4\" style=\"stroke: #A80036; stroke-width: 1.0; stroke-dasharray: 7.0,7.0;\"/><polygon fill=\"#A80036\" points=\"339,213.95,342,205.95,336,205.95,339,213.95\" style=\"stroke: #A80036; stroke-width: 1.0;\"/><text fill=\"#000000\" font-family=\"sans-serif\" font-size=\"13\" lengthAdjust=\"spacingAndGlyphs\" textLength=\"64\" x=\"340\" y=\"180.0669\">«depend»</text></a><!--MD5=[1b7591eae5389033d8d09a9d6721a717]\n",
       "link E4 to E5--><a href=\"psysml:a5d569dd-f966-4325-8014-b1c593712f38\" target=\"_top\" title=\"psysml:a5d569dd-f966-4325-8014-b1c593712f38\" xlink:actuate=\"onRequest\" xlink:href=\"psysml:a5d569dd-f966-4325-8014-b1c593712f38\" xlink:show=\"new\" xlink:title=\"psysml:a5d569dd-f966-4325-8014-b1c593712f38\" xlink:type=\"simple\"><path d=\"M339,267.1 C339,286.8 339,314.22 339,335.73 \" fill=\"none\" id=\"E4-&gt;E5\" style=\"stroke: #A80036; stroke-width: 1.0; stroke-dasharray: 7.0,7.0;\"/><polygon fill=\"#A80036\" points=\"339,343.95,342,335.95,336,335.95,339,343.95\" style=\"stroke: #A80036; stroke-width: 1.0;\"/><text fill=\"#000000\" font-family=\"sans-serif\" font-size=\"13\" lengthAdjust=\"spacingAndGlyphs\" textLength=\"64\" x=\"340\" y=\"310.0669\">«depend»</text></a><!--MD5=[c5e8897d989ce984f93528998a7150fe]\n",
       "link E8 to E6--><a href=\"psysml:e9cc0fc6-3b4b-4571-a4a8-99018107eac1\" target=\"_top\" title=\"psysml:e9cc0fc6-3b4b-4571-a4a8-99018107eac1\" xlink:actuate=\"onRequest\" xlink:href=\"psysml:e9cc0fc6-3b4b-4571-a4a8-99018107eac1\" xlink:show=\"new\" xlink:title=\"psysml:e9cc0fc6-3b4b-4571-a4a8-99018107eac1\" xlink:type=\"simple\"><path d=\"M89.42,133.6 C79.35,142.68 69.37,154.11 64,167 C58.5,180.2 58.66,195.94 60.54,209.38 \" fill=\"none\" id=\"E8-&gt;E6\" style=\"stroke: #A80036; stroke-width: 1.0; stroke-dasharray: 7.0,7.0;\"/><polygon fill=\"#A80036\" points=\"61.9,217.4,63.517,209.0104,57.6018,210.0159,61.9,217.4\" style=\"stroke: #A80036; stroke-width: 1.0;\"/><text fill=\"#000000\" font-family=\"sans-serif\" font-size=\"13\" lengthAdjust=\"spacingAndGlyphs\" textLength=\"64\" x=\"65\" y=\"180.0669\">«depend»</text></a><!--MD5=[bfa3c8b0d15052fdf50ae9310b491027]\n",
       "link E8 to E7--><a href=\"psysml:e9cc0fc6-3b4b-4571-a4a8-99018107eac1\" target=\"_top\" title=\"psysml:e9cc0fc6-3b4b-4571-a4a8-99018107eac1\" xlink:actuate=\"onRequest\" xlink:href=\"psysml:e9cc0fc6-3b4b-4571-a4a8-99018107eac1\" xlink:show=\"new\" xlink:title=\"psysml:e9cc0fc6-3b4b-4571-a4a8-99018107eac1\" xlink:type=\"simple\"><path d=\"M129.28,133.5 C138.17,154.57 151.64,186.5 161.47,209.81 \" fill=\"none\" id=\"E8-&gt;E7\" style=\"stroke: #A80036; stroke-width: 1.0; stroke-dasharray: 7.0,7.0;\"/><polygon fill=\"#A80036\" points=\"164.66,217.35,164.3241,208.8126,158.7933,211.1385,164.66,217.35\" style=\"stroke: #A80036; stroke-width: 1.0;\"/><text fill=\"#000000\" font-family=\"sans-serif\" font-size=\"13\" lengthAdjust=\"spacingAndGlyphs\" textLength=\"64\" x=\"151\" y=\"180.0669\">«depend»</text></a><!--MD5=[045dce2ee1fdda8bd89a672e46db147b]\n",
       "@startuml\r\n",
       "skinparam wrapWidth 300\r\n",
       "hide circle\r\n",
       "\r\n",
       "package \"DependencyTest\" as E1  [[psysml:d3869743-6750-4f05-a5ce-51c4137f7251 ]]  {\r\n",
       "package \"System\" as E2  [[psysml:6b74be88-9b37-4afd-8ab0-bbd062a94e7e ]]  {\r\n",
       "package \"Application Layer\" as E3  [[psysml:03aab854-f405-4fcc-aa77-08da242f79f1 ]]  {\r\n",
       "}\r\n",
       "package \"Service Layer\" as E4  [[psysml:ad996126-15a5-42e2-8928-0fb76718612c ]]  {\r\n",
       "}\r\n",
       "package \"Data Layer\" as E5  [[psysml:17a101e7-475f-4fc3-82c9-609370bf1116 ]]  {\r\n",
       "}\r\n",
       "}\r\n",
       "comp usage \"x\" as E6  <<(T,blue) attribute>> [[psysml:881809a4-48f2-4fe8-9827-6dde0f998bab ]] {\r\n",
       "}\r\n",
       "comp usage \"y\" as E7  <<(T,blue) attribute>> [[psysml:190ef100-b940-43fb-97f3-4b9e1cd4417f ]] {\r\n",
       "}\r\n",
       "comp usage \"z\" as E8  <<(T,blue) attribute>> [[psysml:293eb67f-3e12-4287-ab19-bcded2d3124c ]] {\r\n",
       "}\r\n",
       "}\r\n",
       "E3 ..>> E4 [[psysml:8bc3dbe9-cd72-4429-a15e-d6826987fc7c ]] : <<depend>>\r\n",
       "E4 ..>> E5 [[psysml:a5d569dd-f966-4325-8014-b1c593712f38 ]] : <<depend>>\r\n",
       "E8 ..>> E6 [[psysml:e9cc0fc6-3b4b-4571-a4a8-99018107eac1 ]] : <<depend>>\r\n",
       "E8 ..>> E7 [[psysml:e9cc0fc6-3b4b-4571-a4a8-99018107eac1 ]] : <<depend>>\r\n",
       "@enduml\r\n",
       "\n",
       "PlantUML version 1.2020.13(Sat Jun 13 12:26:38 UTC 2020)\n",
       "(EPL source distribution)\n",
       "Java Runtime: OpenJDK Runtime Environment\n",
       "JVM: OpenJDK 64-Bit Server VM\n",
       "Default Encoding: UTF-8\n",
       "Language: en\n",
       "Country: null\n",
       "--></g></svg>"
      ]
     },
     "execution_count": 24,
     "metadata": {},
     "output_type": "execute_result"
    }
   ],
   "source": [
    "%viz --style=\"STDCOLOR\" --view=\"Tree\" \"DependencyTest\""
   ]
  },
  {
   "cell_type": "code",
   "execution_count": 25,
   "id": "a02d69fd",
   "metadata": {
    "execution": {
     "iopub.execute_input": "2021-10-03T08:27:19.441700Z",
     "iopub.status.busy": "2021-10-03T08:27:19.441314Z",
     "iopub.status.idle": "2021-10-03T08:27:19.447074Z",
     "shell.execute_reply": "2021-10-03T08:27:19.447386Z"
    }
   },
   "outputs": [
    {
     "data": {
      "image/svg+xml": [
       "<?xml version=\"1.0\" encoding=\"UTF-8\" standalone=\"no\"?><svg xmlns=\"http://www.w3.org/2000/svg\" xmlns:xlink=\"http://www.w3.org/1999/xlink\" contentScriptType=\"application/ecmascript\" contentStyleType=\"text/css\" height=\"12px\" preserveAspectRatio=\"none\" style=\"width:12px;height:12px;\" version=\"1.1\" viewBox=\"0 0 12 12\" width=\"12px\" zoomAndPan=\"magnify\"><defs/><g><!--MD5=[aeeef50f102b80d730deb6443d14f702]\n",
       "@startuml\r\n",
       "skinparam wrapWidth 300\r\n",
       "hide circle\r\n",
       "\r\n",
       "@enduml\r\n",
       "\n",
       "PlantUML version 1.2020.13(Sat Jun 13 12:26:38 UTC 2020)\n",
       "(EPL source distribution)\n",
       "Java Runtime: OpenJDK Runtime Environment\n",
       "JVM: OpenJDK 64-Bit Server VM\n",
       "Default Encoding: UTF-8\n",
       "Language: en\n",
       "Country: null\n",
       "--></g></svg>"
      ]
     },
     "execution_count": 25,
     "metadata": {},
     "output_type": "execute_result"
    }
   ],
   "source": [
    "%viz --style=\"STDCOLOR\" --view=\"State\" \"DependencyTest\""
   ]
  },
  {
   "cell_type": "code",
   "execution_count": 26,
   "id": "59f1bfcd",
   "metadata": {
    "execution": {
     "iopub.execute_input": "2021-10-03T08:27:19.497138Z",
     "iopub.status.busy": "2021-10-03T08:27:19.496735Z",
     "iopub.status.idle": "2021-10-03T08:27:19.536287Z",
     "shell.execute_reply": "2021-10-03T08:27:19.535879Z"
    }
   },
   "outputs": [
    {
     "data": {
      "image/svg+xml": [
       "<?xml version=\"1.0\" encoding=\"UTF-8\" standalone=\"no\"?><svg xmlns=\"http://www.w3.org/2000/svg\" xmlns:xlink=\"http://www.w3.org/1999/xlink\" contentScriptType=\"application/ecmascript\" contentStyleType=\"text/css\" height=\"361px\" preserveAspectRatio=\"none\" style=\"width:469px;height:361px;\" version=\"1.1\" viewBox=\"0 0 469 361\" width=\"469px\" zoomAndPan=\"magnify\"><defs><filter height=\"300%\" id=\"f150i7ahrz0ipi\" width=\"300%\" x=\"-1\" y=\"-1\"><feGaussianBlur result=\"blurOut\" stdDeviation=\"2.0\"/><feColorMatrix in=\"blurOut\" result=\"blurOut2\" type=\"matrix\" values=\"0 0 0 0 0 0 0 0 0 0 0 0 0 0 0 0 0 0 .4 0\"/><feOffset dx=\"4.0\" dy=\"4.0\" in=\"blurOut2\" result=\"blurOut3\"/><feBlend in=\"SourceGraphic\" in2=\"blurOut3\" mode=\"normal\"/></filter></defs><g><!--MD5=[fbc87193dbaf4d95561dea2c320d4a47]\n",
       "cluster E1--><a href=\"psysml:d3869743-6750-4f05-a5ce-51c4137f7251\" target=\"_top\" title=\"psysml:d3869743-6750-4f05-a5ce-51c4137f7251\" xlink:actuate=\"onRequest\" xlink:href=\"psysml:d3869743-6750-4f05-a5ce-51c4137f7251\" xlink:show=\"new\" xlink:title=\"psysml:d3869743-6750-4f05-a5ce-51c4137f7251\" xlink:type=\"simple\"><polygon fill=\"#FFFFFF\" filter=\"url(#f150i7ahrz0ipi)\" points=\"16,6,142,6,149,28.2969,447,28.2969,447,349,16,349,16,6\" style=\"stroke: #000000; stroke-width: 1.5;\"/><line style=\"stroke: #000000; stroke-width: 1.5;\" x1=\"16\" x2=\"149\" y1=\"28.2969\" y2=\"28.2969\"/><text fill=\"#000000\" font-family=\"sans-serif\" font-size=\"14\" font-weight=\"bold\" lengthAdjust=\"spacingAndGlyphs\" textLength=\"120\" x=\"20\" y=\"20.9951\">DependencyTest</text></a><!--MD5=[e4f7fae6ed58524ba242bb0b0d3be6b7]\n",
       "cluster E2--><a href=\"psysml:6b74be88-9b37-4afd-8ab0-bbd062a94e7e\" target=\"_top\" title=\"psysml:6b74be88-9b37-4afd-8ab0-bbd062a94e7e\" xlink:actuate=\"onRequest\" xlink:href=\"psysml:6b74be88-9b37-4afd-8ab0-bbd062a94e7e\" xlink:show=\"new\" xlink:title=\"psysml:6b74be88-9b37-4afd-8ab0-bbd062a94e7e\" xlink:type=\"simple\"><polygon fill=\"#FFFFFF\" filter=\"url(#f150i7ahrz0ipi)\" points=\"255,49,312,49,319,71.2969,423,71.2969,423,325,255,325,255,49\" style=\"stroke: #000000; stroke-width: 1.5;\"/><line style=\"stroke: #000000; stroke-width: 1.5;\" x1=\"255\" x2=\"319\" y1=\"71.2969\" y2=\"71.2969\"/><text fill=\"#000000\" font-family=\"sans-serif\" font-size=\"14\" font-weight=\"bold\" lengthAdjust=\"spacingAndGlyphs\" textLength=\"51\" x=\"259\" y=\"63.9951\">System</text></a><!--MD5=[60a26617385b1d2d0262a64233df1f8d]\n",
       "class E6--><a href=\"psysml:881809a4-48f2-4fe8-9827-6dde0f998bab\" target=\"_top\" title=\"psysml:881809a4-48f2-4fe8-9827-6dde0f998bab\" xlink:actuate=\"onRequest\" xlink:href=\"psysml:881809a4-48f2-4fe8-9827-6dde0f998bab\" xlink:show=\"new\" xlink:title=\"psysml:881809a4-48f2-4fe8-9827-6dde0f998bab\" xlink:type=\"simple\"><rect fill=\"#FEFECE\" filter=\"url(#f150i7ahrz0ipi)\" height=\"45.9375\" id=\"E6\" rx=\"10\" ry=\"10\" style=\"stroke: #A80036; stroke-width: 1.5;\" width=\"71\" x=\"32.5\" y=\"173.5\"/><text fill=\"#000000\" font-family=\"sans-serif\" font-size=\"12\" font-style=\"italic\" lengthAdjust=\"spacingAndGlyphs\" textLength=\"69\" x=\"33.5\" y=\"189.6387\">«attribute»</text><text fill=\"#000000\" font-family=\"sans-serif\" font-size=\"12\" lengthAdjust=\"spacingAndGlyphs\" textLength=\"6\" x=\"65\" y=\"203.6074\">x</text><line style=\"stroke: #A80036; stroke-width: 1.5;\" x1=\"33.5\" x2=\"102.5\" y1=\"211.4375\" y2=\"211.4375\"/></a><!--MD5=[2156ba9850f5573cc1fc38a6a4b2f02b]\n",
       "class E7--><a href=\"psysml:190ef100-b940-43fb-97f3-4b9e1cd4417f\" target=\"_top\" title=\"psysml:190ef100-b940-43fb-97f3-4b9e1cd4417f\" xlink:actuate=\"onRequest\" xlink:href=\"psysml:190ef100-b940-43fb-97f3-4b9e1cd4417f\" xlink:show=\"new\" xlink:title=\"psysml:190ef100-b940-43fb-97f3-4b9e1cd4417f\" xlink:type=\"simple\"><rect fill=\"#FEFECE\" filter=\"url(#f150i7ahrz0ipi)\" height=\"45.9375\" id=\"E7\" rx=\"10\" ry=\"10\" style=\"stroke: #A80036; stroke-width: 1.5;\" width=\"71\" x=\"138.5\" y=\"173.5\"/><text fill=\"#000000\" font-family=\"sans-serif\" font-size=\"12\" font-style=\"italic\" lengthAdjust=\"spacingAndGlyphs\" textLength=\"69\" x=\"139.5\" y=\"189.6387\">«attribute»</text><text fill=\"#000000\" font-family=\"sans-serif\" font-size=\"12\" lengthAdjust=\"spacingAndGlyphs\" textLength=\"6\" x=\"171\" y=\"203.6074\">y</text><line style=\"stroke: #A80036; stroke-width: 1.5;\" x1=\"139.5\" x2=\"208.5\" y1=\"211.4375\" y2=\"211.4375\"/></a><!--MD5=[b9389687b975829384b498ac4b7476b2]\n",
       "class E8--><a href=\"psysml:293eb67f-3e12-4287-ab19-bcded2d3124c\" target=\"_top\" title=\"psysml:293eb67f-3e12-4287-ab19-bcded2d3124c\" xlink:actuate=\"onRequest\" xlink:href=\"psysml:293eb67f-3e12-4287-ab19-bcded2d3124c\" xlink:show=\"new\" xlink:title=\"psysml:293eb67f-3e12-4287-ab19-bcded2d3124c\" xlink:type=\"simple\"><rect fill=\"#FEFECE\" filter=\"url(#f150i7ahrz0ipi)\" height=\"45.9375\" id=\"E8\" rx=\"10\" ry=\"10\" style=\"stroke: #A80036; stroke-width: 1.5;\" width=\"71\" x=\"84.5\" y=\"87.5\"/><text fill=\"#000000\" font-family=\"sans-serif\" font-size=\"12\" font-style=\"italic\" lengthAdjust=\"spacingAndGlyphs\" textLength=\"69\" x=\"85.5\" y=\"103.6387\">«attribute»</text><text fill=\"#000000\" font-family=\"sans-serif\" font-size=\"12\" lengthAdjust=\"spacingAndGlyphs\" textLength=\"5\" x=\"117.5\" y=\"117.6074\">z</text><line style=\"stroke: #A80036; stroke-width: 1.5;\" x1=\"85.5\" x2=\"154.5\" y1=\"125.4375\" y2=\"125.4375\"/></a><a href=\"psysml:03aab854-f405-4fcc-aa77-08da242f79f1\" target=\"_top\" title=\"psysml:03aab854-f405-4fcc-aa77-08da242f79f1\" xlink:actuate=\"onRequest\" xlink:href=\"psysml:03aab854-f405-4fcc-aa77-08da242f79f1\" xlink:show=\"new\" xlink:title=\"psysml:03aab854-f405-4fcc-aa77-08da242f79f1\" xlink:type=\"simple\"><polygon fill=\"#FFFFFF\" filter=\"url(#f150i7ahrz0ipi)\" points=\"271.5,84,392.5,84,399.5,106.2969,406.5,106.2969,406.5,136.5938,271.5,136.5938,271.5,84\" style=\"stroke: #000000; stroke-width: 1.5;\"/><line style=\"stroke: #000000; stroke-width: 1.5;\" x1=\"271.5\" x2=\"399.5\" y1=\"106.2969\" y2=\"106.2969\"/><text fill=\"#000000\" font-family=\"sans-serif\" font-size=\"14\" font-weight=\"bold\" lengthAdjust=\"spacingAndGlyphs\" textLength=\"115\" x=\"275.5\" y=\"98.9951\">Application Layer</text></a><a href=\"psysml:ad996126-15a5-42e2-8928-0fb76718612c\" target=\"_top\" title=\"psysml:ad996126-15a5-42e2-8928-0fb76718612c\" xlink:actuate=\"onRequest\" xlink:href=\"psysml:ad996126-15a5-42e2-8928-0fb76718612c\" xlink:show=\"new\" xlink:title=\"psysml:ad996126-15a5-42e2-8928-0fb76718612c\" xlink:type=\"simple\"><polygon fill=\"#FFFFFF\" filter=\"url(#f150i7ahrz0ipi)\" points=\"284,170,380,170,387,192.2969,394,192.2969,394,222.5938,284,222.5938,284,170\" style=\"stroke: #000000; stroke-width: 1.5;\"/><line style=\"stroke: #000000; stroke-width: 1.5;\" x1=\"284\" x2=\"387\" y1=\"192.2969\" y2=\"192.2969\"/><text fill=\"#000000\" font-family=\"sans-serif\" font-size=\"14\" font-weight=\"bold\" lengthAdjust=\"spacingAndGlyphs\" textLength=\"90\" x=\"288\" y=\"184.9951\">Service Layer</text></a><a href=\"psysml:17a101e7-475f-4fc3-82c9-609370bf1116\" target=\"_top\" title=\"psysml:17a101e7-475f-4fc3-82c9-609370bf1116\" xlink:actuate=\"onRequest\" xlink:href=\"psysml:17a101e7-475f-4fc3-82c9-609370bf1116\" xlink:show=\"new\" xlink:title=\"psysml:17a101e7-475f-4fc3-82c9-609370bf1116\" xlink:type=\"simple\"><polygon fill=\"#FFFFFF\" filter=\"url(#f150i7ahrz0ipi)\" points=\"293,256,371,256,378,278.2969,385,278.2969,385,308.5938,293,308.5938,293,256\" style=\"stroke: #000000; stroke-width: 1.5;\"/><line style=\"stroke: #000000; stroke-width: 1.5;\" x1=\"293\" x2=\"378\" y1=\"278.2969\" y2=\"278.2969\"/><text fill=\"#000000\" font-family=\"sans-serif\" font-size=\"14\" font-weight=\"bold\" lengthAdjust=\"spacingAndGlyphs\" textLength=\"72\" x=\"297\" y=\"270.9951\">Data Layer</text></a><!--MD5=[af87c684e3b0d8be13c1a698a818ef1e]\n",
       "link E3 to E4--><a href=\"psysml:8bc3dbe9-cd72-4429-a15e-d6826987fc7c\" target=\"_top\" title=\"psysml:8bc3dbe9-cd72-4429-a15e-d6826987fc7c\" xlink:actuate=\"onRequest\" xlink:href=\"psysml:8bc3dbe9-cd72-4429-a15e-d6826987fc7c\" xlink:show=\"new\" xlink:title=\"psysml:8bc3dbe9-cd72-4429-a15e-d6826987fc7c\" xlink:type=\"simple\"><path d=\"M339,137.16 C339,144.98 339,153.69 339,161.94 \" fill=\"none\" id=\"E3-&gt;E4\" style=\"stroke: #A80036; stroke-width: 1.0; stroke-dasharray: 7.0,7.0;\"/><polygon fill=\"#A80036\" points=\"339,170,342,162,336,162,339,170\" style=\"stroke: #A80036; stroke-width: 1.0;\"/><text fill=\"#000000\" font-family=\"sans-serif\" font-size=\"13\" lengthAdjust=\"spacingAndGlyphs\" textLength=\"64\" x=\"340\" y=\"158.0669\">«depend»</text></a><!--MD5=[1b7591eae5389033d8d09a9d6721a717]\n",
       "link E4 to E5--><a href=\"psysml:a5d569dd-f966-4325-8014-b1c593712f38\" target=\"_top\" title=\"psysml:a5d569dd-f966-4325-8014-b1c593712f38\" xlink:actuate=\"onRequest\" xlink:href=\"psysml:a5d569dd-f966-4325-8014-b1c593712f38\" xlink:show=\"new\" xlink:title=\"psysml:a5d569dd-f966-4325-8014-b1c593712f38\" xlink:type=\"simple\"><path d=\"M339,223.16 C339,230.98 339,239.69 339,247.94 \" fill=\"none\" id=\"E4-&gt;E5\" style=\"stroke: #A80036; stroke-width: 1.0; stroke-dasharray: 7.0,7.0;\"/><polygon fill=\"#A80036\" points=\"339,256,342,248,336,248,339,256\" style=\"stroke: #A80036; stroke-width: 1.0;\"/><text fill=\"#000000\" font-family=\"sans-serif\" font-size=\"13\" lengthAdjust=\"spacingAndGlyphs\" textLength=\"64\" x=\"340\" y=\"244.0669\">«depend»</text></a><!--MD5=[c5e8897d989ce984f93528998a7150fe]\n",
       "link E8 to E6--><a href=\"psysml:e9cc0fc6-3b4b-4571-a4a8-99018107eac1\" target=\"_top\" title=\"psysml:e9cc0fc6-3b4b-4571-a4a8-99018107eac1\" xlink:actuate=\"onRequest\" xlink:href=\"psysml:e9cc0fc6-3b4b-4571-a4a8-99018107eac1\" xlink:show=\"new\" xlink:title=\"psysml:e9cc0fc6-3b4b-4571-a4a8-99018107eac1\" xlink:type=\"simple\"><path d=\"M84.49,125.34 C76.34,130.27 68.69,136.72 64,145 C60.54,151.1 59.62,158.31 60,165.33 \" fill=\"none\" id=\"E8-&gt;E6\" style=\"stroke: #A80036; stroke-width: 1.0; stroke-dasharray: 7.0,7.0;\"/><polygon fill=\"#A80036\" points=\"60.97,173.42,63.0061,165.1221,57.0479,165.8294,60.97,173.42\" style=\"stroke: #A80036; stroke-width: 1.0;\"/><text fill=\"#000000\" font-family=\"sans-serif\" font-size=\"13\" lengthAdjust=\"spacingAndGlyphs\" textLength=\"64\" x=\"65\" y=\"158.0669\">«depend»</text></a><!--MD5=[bfa3c8b0d15052fdf50ae9310b491027]\n",
       "link E8 to E7--><a href=\"psysml:e9cc0fc6-3b4b-4571-a4a8-99018107eac1\" target=\"_top\" title=\"psysml:e9cc0fc6-3b4b-4571-a4a8-99018107eac1\" xlink:actuate=\"onRequest\" xlink:href=\"psysml:e9cc0fc6-3b4b-4571-a4a8-99018107eac1\" xlink:show=\"new\" xlink:title=\"psysml:e9cc0fc6-3b4b-4571-a4a8-99018107eac1\" xlink:type=\"simple\"><path d=\"M134.19,133.57 C140.65,143.62 148.38,155.65 155.31,166.42 \" fill=\"none\" id=\"E8-&gt;E7\" style=\"stroke: #A80036; stroke-width: 1.0; stroke-dasharray: 7.0,7.0;\"/><polygon fill=\"#A80036\" points=\"159.72,173.29,157.9148,164.9389,152.8688,168.185,159.72,173.29\" style=\"stroke: #A80036; stroke-width: 1.0;\"/><text fill=\"#000000\" font-family=\"sans-serif\" font-size=\"13\" lengthAdjust=\"spacingAndGlyphs\" textLength=\"64\" x=\"152\" y=\"158.0669\">«depend»</text></a><!--MD5=[b1470e42c2c3e5af1cd739a07383d05e]\n",
       "@startuml\r\n",
       "skinparam ranksep 10\r\n",
       "skinparam rectangle {\r\n",
       " backgroundColor<<block>> LightGreen\r\n",
       "}\r\n",
       "skinparam wrapWidth 300\r\n",
       "hide circle\r\n",
       "\r\n",
       "package \"DependencyTest\" as E1  [[psysml:d3869743-6750-4f05-a5ce-51c4137f7251 ]]  {\r\n",
       "package \"System\" as E2  [[psysml:6b74be88-9b37-4afd-8ab0-bbd062a94e7e ]]  {\r\n",
       "package \"Application Layer\" as E3  [[psysml:03aab854-f405-4fcc-aa77-08da242f79f1 ]]  {\r\n",
       "}\r\n",
       "package \"Service Layer\" as E4  [[psysml:ad996126-15a5-42e2-8928-0fb76718612c ]]  {\r\n",
       "}\r\n",
       "package \"Data Layer\" as E5  [[psysml:17a101e7-475f-4fc3-82c9-609370bf1116 ]]  {\r\n",
       "}\r\n",
       "}\r\n",
       "comp usage \"x\" as E6  <<(T,blue) attribute>> [[psysml:881809a4-48f2-4fe8-9827-6dde0f998bab ]] {\r\n",
       "}\r\n",
       "comp usage \"y\" as E7  <<(T,blue) attribute>> [[psysml:190ef100-b940-43fb-97f3-4b9e1cd4417f ]] {\r\n",
       "}\r\n",
       "comp usage \"z\" as E8  <<(T,blue) attribute>> [[psysml:293eb67f-3e12-4287-ab19-bcded2d3124c ]] {\r\n",
       "}\r\n",
       "}\r\n",
       "E3 ..>> E4 [[psysml:8bc3dbe9-cd72-4429-a15e-d6826987fc7c ]] : <<depend>>\r\n",
       "E4 ..>> E5 [[psysml:a5d569dd-f966-4325-8014-b1c593712f38 ]] : <<depend>>\r\n",
       "E8 ..>> E6 [[psysml:e9cc0fc6-3b4b-4571-a4a8-99018107eac1 ]] : <<depend>>\r\n",
       "E8 ..>> E7 [[psysml:e9cc0fc6-3b4b-4571-a4a8-99018107eac1 ]] : <<depend>>\r\n",
       "@enduml\r\n",
       "\n",
       "PlantUML version 1.2020.13(Sat Jun 13 12:26:38 UTC 2020)\n",
       "(EPL source distribution)\n",
       "Java Runtime: OpenJDK Runtime Environment\n",
       "JVM: OpenJDK 64-Bit Server VM\n",
       "Default Encoding: UTF-8\n",
       "Language: en\n",
       "Country: null\n",
       "--></g></svg>"
      ]
     },
     "execution_count": 26,
     "metadata": {},
     "output_type": "execute_result"
    }
   ],
   "source": [
    "%viz --style=\"STDCOLOR\" --view=\"Interconnection\" \"DependencyTest\""
   ]
  },
  {
   "cell_type": "code",
   "execution_count": 27,
   "id": "cb13fdff",
   "metadata": {
    "execution": {
     "iopub.execute_input": "2021-10-03T08:27:19.585142Z",
     "iopub.status.busy": "2021-10-03T08:27:19.584691Z",
     "iopub.status.idle": "2021-10-03T08:27:19.589915Z",
     "shell.execute_reply": "2021-10-03T08:27:19.590275Z"
    }
   },
   "outputs": [
    {
     "data": {
      "image/svg+xml": [
       "<?xml version=\"1.0\" encoding=\"UTF-8\" standalone=\"no\"?><svg xmlns=\"http://www.w3.org/2000/svg\" xmlns:xlink=\"http://www.w3.org/1999/xlink\" contentScriptType=\"application/ecmascript\" contentStyleType=\"text/css\" height=\"12px\" preserveAspectRatio=\"none\" style=\"width:12px;height:12px;\" version=\"1.1\" viewBox=\"0 0 12 12\" width=\"12px\" zoomAndPan=\"magnify\"><defs/><g><!--MD5=[9863325348a96a77dacc89509d8ee65e]\n",
       "@startuml\r\n",
       "skinparam ranksep 8\r\n",
       "skinparam wrapWidth 300\r\n",
       "hide circle\r\n",
       "\r\n",
       "@enduml\r\n",
       "\n",
       "PlantUML version 1.2020.13(Sat Jun 13 12:26:38 UTC 2020)\n",
       "(EPL source distribution)\n",
       "Java Runtime: OpenJDK Runtime Environment\n",
       "JVM: OpenJDK 64-Bit Server VM\n",
       "Default Encoding: UTF-8\n",
       "Language: en\n",
       "Country: null\n",
       "--></g></svg>"
      ]
     },
     "execution_count": 27,
     "metadata": {},
     "output_type": "execute_result"
    }
   ],
   "source": [
    "%viz --style=\"STDCOLOR\" --view=\"Action\" \"DependencyTest\""
   ]
  },
  {
   "cell_type": "code",
   "execution_count": 28,
   "id": "4fbcc57f",
   "metadata": {
    "execution": {
     "iopub.execute_input": "2021-10-03T08:27:19.639866Z",
     "iopub.status.busy": "2021-10-03T08:27:19.639405Z",
     "iopub.status.idle": "2021-10-03T08:27:19.644751Z",
     "shell.execute_reply": "2021-10-03T08:27:19.645110Z"
    }
   },
   "outputs": [
    {
     "data": {
      "image/svg+xml": [
       "<?xml version=\"1.0\" encoding=\"UTF-8\" standalone=\"no\"?><svg xmlns=\"http://www.w3.org/2000/svg\" xmlns:xlink=\"http://www.w3.org/1999/xlink\" contentScriptType=\"application/ecmascript\" contentStyleType=\"text/css\" height=\"12px\" preserveAspectRatio=\"none\" style=\"width:12px;height:12px;\" version=\"1.1\" viewBox=\"0 0 12 12\" width=\"12px\" zoomAndPan=\"magnify\"><defs/><g><!--MD5=[6c4bca67b4d71758159a5a7f1f1e1fc2]\n",
       "@startuml\r\n",
       "skinparam roundcorner 20\r\n",
       "skinparam BoxPadding 20\r\n",
       "skinparam SequenceBoxBackgroundColor #white\r\n",
       "skinparam style strictuml\r\n",
       "skinparam maxMessageSize 100\r\n",
       "skinparam wrapWidth 300\r\n",
       "hide circle\r\n",
       "\r\n",
       "@enduml\r\n",
       "\n",
       "PlantUML version 1.2020.13(Sat Jun 13 12:26:38 UTC 2020)\n",
       "(EPL source distribution)\n",
       "Java Runtime: OpenJDK Runtime Environment\n",
       "JVM: OpenJDK 64-Bit Server VM\n",
       "Default Encoding: UTF-8\n",
       "Language: en\n",
       "Country: null\n",
       "--></g></svg>"
      ]
     },
     "execution_count": 28,
     "metadata": {},
     "output_type": "execute_result"
    }
   ],
   "source": [
    "%viz --style=\"STDCOLOR\" --view=\"Sequence\" \"DependencyTest\""
   ]
  },
  {
   "cell_type": "code",
   "execution_count": 29,
   "id": "89ad7e46",
   "metadata": {
    "execution": {
     "iopub.execute_input": "2021-10-03T08:27:19.694754Z",
     "iopub.status.busy": "2021-10-03T08:27:19.694300Z",
     "iopub.status.idle": "2021-10-03T08:27:19.729269Z",
     "shell.execute_reply": "2021-10-03T08:27:19.728887Z"
    }
   },
   "outputs": [
    {
     "data": {
      "image/svg+xml": [
       "<?xml version=\"1.0\" encoding=\"UTF-8\" standalone=\"no\"?><svg xmlns=\"http://www.w3.org/2000/svg\" xmlns:xlink=\"http://www.w3.org/1999/xlink\" contentScriptType=\"application/ecmascript\" contentStyleType=\"text/css\" height=\"449px\" preserveAspectRatio=\"none\" style=\"width:469px;height:449px;\" version=\"1.1\" viewBox=\"0 0 469 449\" width=\"469px\" zoomAndPan=\"magnify\"><defs><filter height=\"300%\" id=\"f1qmfq2w4gtt7v\" width=\"300%\" x=\"-1\" y=\"-1\"><feGaussianBlur result=\"blurOut\" stdDeviation=\"2.0\"/><feColorMatrix in=\"blurOut\" result=\"blurOut2\" type=\"matrix\" values=\"0 0 0 0 0 0 0 0 0 0 0 0 0 0 0 0 0 0 .4 0\"/><feOffset dx=\"4.0\" dy=\"4.0\" in=\"blurOut2\" result=\"blurOut3\"/><feBlend in=\"SourceGraphic\" in2=\"blurOut3\" mode=\"normal\"/></filter></defs><g><!--MD5=[fbc87193dbaf4d95561dea2c320d4a47]\n",
       "cluster E1--><a href=\"psysml:d3869743-6750-4f05-a5ce-51c4137f7251\" target=\"_top\" title=\"psysml:d3869743-6750-4f05-a5ce-51c4137f7251\" xlink:actuate=\"onRequest\" xlink:href=\"psysml:d3869743-6750-4f05-a5ce-51c4137f7251\" xlink:show=\"new\" xlink:title=\"psysml:d3869743-6750-4f05-a5ce-51c4137f7251\" xlink:type=\"simple\"><polygon fill=\"#FFFFFF\" filter=\"url(#f1qmfq2w4gtt7v)\" points=\"16,6,142,6,149,28.2969,447,28.2969,447,437,16,437,16,6\" style=\"stroke: #000000; stroke-width: 1.5;\"/><line style=\"stroke: #000000; stroke-width: 1.5;\" x1=\"16\" x2=\"149\" y1=\"28.2969\" y2=\"28.2969\"/><text fill=\"#000000\" font-family=\"sans-serif\" font-size=\"14\" font-weight=\"bold\" lengthAdjust=\"spacingAndGlyphs\" textLength=\"120\" x=\"20\" y=\"20.9951\">DependencyTest</text></a><!--MD5=[e4f7fae6ed58524ba242bb0b0d3be6b7]\n",
       "cluster E2--><a href=\"psysml:6b74be88-9b37-4afd-8ab0-bbd062a94e7e\" target=\"_top\" title=\"psysml:6b74be88-9b37-4afd-8ab0-bbd062a94e7e\" xlink:actuate=\"onRequest\" xlink:href=\"psysml:6b74be88-9b37-4afd-8ab0-bbd062a94e7e\" xlink:show=\"new\" xlink:title=\"psysml:6b74be88-9b37-4afd-8ab0-bbd062a94e7e\" xlink:type=\"simple\"><polygon fill=\"#FFFFFF\" filter=\"url(#f1qmfq2w4gtt7v)\" points=\"255,49,312,49,319,71.2969,423,71.2969,423,413,255,413,255,49\" style=\"stroke: #000000; stroke-width: 1.5;\"/><line style=\"stroke: #000000; stroke-width: 1.5;\" x1=\"255\" x2=\"319\" y1=\"71.2969\" y2=\"71.2969\"/><text fill=\"#000000\" font-family=\"sans-serif\" font-size=\"14\" font-weight=\"bold\" lengthAdjust=\"spacingAndGlyphs\" textLength=\"51\" x=\"259\" y=\"63.9951\">System</text></a><!--MD5=[60a26617385b1d2d0262a64233df1f8d]\n",
       "class E6--><a href=\"psysml:881809a4-48f2-4fe8-9827-6dde0f998bab\" target=\"_top\" title=\"psysml:881809a4-48f2-4fe8-9827-6dde0f998bab\" xlink:actuate=\"onRequest\" xlink:href=\"psysml:881809a4-48f2-4fe8-9827-6dde0f998bab\" xlink:show=\"new\" xlink:title=\"psysml:881809a4-48f2-4fe8-9827-6dde0f998bab\" xlink:type=\"simple\"><rect fill=\"#FEFECE\" filter=\"url(#f1qmfq2w4gtt7v)\" height=\"45.9375\" id=\"E6\" rx=\"10\" ry=\"10\" style=\"stroke: #A80036; stroke-width: 1.5;\" width=\"71\" x=\"32.5\" y=\"217.5\"/><text fill=\"#000000\" font-family=\"sans-serif\" font-size=\"12\" font-style=\"italic\" lengthAdjust=\"spacingAndGlyphs\" textLength=\"69\" x=\"33.5\" y=\"233.6387\">«attribute»</text><text fill=\"#000000\" font-family=\"sans-serif\" font-size=\"12\" lengthAdjust=\"spacingAndGlyphs\" textLength=\"6\" x=\"65\" y=\"247.6074\">x</text><line style=\"stroke: #A80036; stroke-width: 1.5;\" x1=\"33.5\" x2=\"102.5\" y1=\"255.4375\" y2=\"255.4375\"/></a><!--MD5=[2156ba9850f5573cc1fc38a6a4b2f02b]\n",
       "class E7--><a href=\"psysml:190ef100-b940-43fb-97f3-4b9e1cd4417f\" target=\"_top\" title=\"psysml:190ef100-b940-43fb-97f3-4b9e1cd4417f\" xlink:actuate=\"onRequest\" xlink:href=\"psysml:190ef100-b940-43fb-97f3-4b9e1cd4417f\" xlink:show=\"new\" xlink:title=\"psysml:190ef100-b940-43fb-97f3-4b9e1cd4417f\" xlink:type=\"simple\"><rect fill=\"#FEFECE\" filter=\"url(#f1qmfq2w4gtt7v)\" height=\"45.9375\" id=\"E7\" rx=\"10\" ry=\"10\" style=\"stroke: #A80036; stroke-width: 1.5;\" width=\"71\" x=\"138.5\" y=\"217.5\"/><text fill=\"#000000\" font-family=\"sans-serif\" font-size=\"12\" font-style=\"italic\" lengthAdjust=\"spacingAndGlyphs\" textLength=\"69\" x=\"139.5\" y=\"233.6387\">«attribute»</text><text fill=\"#000000\" font-family=\"sans-serif\" font-size=\"12\" lengthAdjust=\"spacingAndGlyphs\" textLength=\"6\" x=\"171\" y=\"247.6074\">y</text><line style=\"stroke: #A80036; stroke-width: 1.5;\" x1=\"139.5\" x2=\"208.5\" y1=\"255.4375\" y2=\"255.4375\"/></a><!--MD5=[b9389687b975829384b498ac4b7476b2]\n",
       "class E8--><a href=\"psysml:293eb67f-3e12-4287-ab19-bcded2d3124c\" target=\"_top\" title=\"psysml:293eb67f-3e12-4287-ab19-bcded2d3124c\" xlink:actuate=\"onRequest\" xlink:href=\"psysml:293eb67f-3e12-4287-ab19-bcded2d3124c\" xlink:show=\"new\" xlink:title=\"psysml:293eb67f-3e12-4287-ab19-bcded2d3124c\" xlink:type=\"simple\"><rect fill=\"#FEFECE\" filter=\"url(#f1qmfq2w4gtt7v)\" height=\"45.9375\" id=\"E8\" rx=\"10\" ry=\"10\" style=\"stroke: #A80036; stroke-width: 1.5;\" width=\"71\" x=\"84.5\" y=\"87.5\"/><text fill=\"#000000\" font-family=\"sans-serif\" font-size=\"12\" font-style=\"italic\" lengthAdjust=\"spacingAndGlyphs\" textLength=\"69\" x=\"85.5\" y=\"103.6387\">«attribute»</text><text fill=\"#000000\" font-family=\"sans-serif\" font-size=\"12\" lengthAdjust=\"spacingAndGlyphs\" textLength=\"5\" x=\"117.5\" y=\"117.6074\">z</text><line style=\"stroke: #A80036; stroke-width: 1.5;\" x1=\"85.5\" x2=\"154.5\" y1=\"125.4375\" y2=\"125.4375\"/></a><a href=\"psysml:03aab854-f405-4fcc-aa77-08da242f79f1\" target=\"_top\" title=\"psysml:03aab854-f405-4fcc-aa77-08da242f79f1\" xlink:actuate=\"onRequest\" xlink:href=\"psysml:03aab854-f405-4fcc-aa77-08da242f79f1\" xlink:show=\"new\" xlink:title=\"psysml:03aab854-f405-4fcc-aa77-08da242f79f1\" xlink:type=\"simple\"><polygon fill=\"#FFFFFF\" filter=\"url(#f1qmfq2w4gtt7v)\" points=\"271.5,84,392.5,84,399.5,106.2969,406.5,106.2969,406.5,136.5938,271.5,136.5938,271.5,84\" style=\"stroke: #000000; stroke-width: 1.5;\"/><line style=\"stroke: #000000; stroke-width: 1.5;\" x1=\"271.5\" x2=\"399.5\" y1=\"106.2969\" y2=\"106.2969\"/><text fill=\"#000000\" font-family=\"sans-serif\" font-size=\"14\" font-weight=\"bold\" lengthAdjust=\"spacingAndGlyphs\" textLength=\"115\" x=\"275.5\" y=\"98.9951\">Application Layer</text></a><a href=\"psysml:ad996126-15a5-42e2-8928-0fb76718612c\" target=\"_top\" title=\"psysml:ad996126-15a5-42e2-8928-0fb76718612c\" xlink:actuate=\"onRequest\" xlink:href=\"psysml:ad996126-15a5-42e2-8928-0fb76718612c\" xlink:show=\"new\" xlink:title=\"psysml:ad996126-15a5-42e2-8928-0fb76718612c\" xlink:type=\"simple\"><polygon fill=\"#FFFFFF\" filter=\"url(#f1qmfq2w4gtt7v)\" points=\"284,214,380,214,387,236.2969,394,236.2969,394,266.5938,284,266.5938,284,214\" style=\"stroke: #000000; stroke-width: 1.5;\"/><line style=\"stroke: #000000; stroke-width: 1.5;\" x1=\"284\" x2=\"387\" y1=\"236.2969\" y2=\"236.2969\"/><text fill=\"#000000\" font-family=\"sans-serif\" font-size=\"14\" font-weight=\"bold\" lengthAdjust=\"spacingAndGlyphs\" textLength=\"90\" x=\"288\" y=\"228.9951\">Service Layer</text></a><a href=\"psysml:17a101e7-475f-4fc3-82c9-609370bf1116\" target=\"_top\" title=\"psysml:17a101e7-475f-4fc3-82c9-609370bf1116\" xlink:actuate=\"onRequest\" xlink:href=\"psysml:17a101e7-475f-4fc3-82c9-609370bf1116\" xlink:show=\"new\" xlink:title=\"psysml:17a101e7-475f-4fc3-82c9-609370bf1116\" xlink:type=\"simple\"><polygon fill=\"#FFFFFF\" filter=\"url(#f1qmfq2w4gtt7v)\" points=\"293,344,371,344,378,366.2969,385,366.2969,385,396.5938,293,396.5938,293,344\" style=\"stroke: #000000; stroke-width: 1.5;\"/><line style=\"stroke: #000000; stroke-width: 1.5;\" x1=\"293\" x2=\"378\" y1=\"366.2969\" y2=\"366.2969\"/><text fill=\"#000000\" font-family=\"sans-serif\" font-size=\"14\" font-weight=\"bold\" lengthAdjust=\"spacingAndGlyphs\" textLength=\"72\" x=\"297\" y=\"358.9951\">Data Layer</text></a><!--MD5=[af87c684e3b0d8be13c1a698a818ef1e]\n",
       "link E3 to E4--><a href=\"psysml:8bc3dbe9-cd72-4429-a15e-d6826987fc7c\" target=\"_top\" title=\"psysml:8bc3dbe9-cd72-4429-a15e-d6826987fc7c\" xlink:actuate=\"onRequest\" xlink:href=\"psysml:8bc3dbe9-cd72-4429-a15e-d6826987fc7c\" xlink:show=\"new\" xlink:title=\"psysml:8bc3dbe9-cd72-4429-a15e-d6826987fc7c\" xlink:type=\"simple\"><path d=\"M339,137.1 C339,156.8 339,184.22 339,205.73 \" fill=\"none\" id=\"E3-&gt;E4\" style=\"stroke: #A80036; stroke-width: 1.0; stroke-dasharray: 7.0,7.0;\"/><polygon fill=\"#A80036\" points=\"339,213.95,342,205.95,336,205.95,339,213.95\" style=\"stroke: #A80036; stroke-width: 1.0;\"/><text fill=\"#000000\" font-family=\"sans-serif\" font-size=\"13\" lengthAdjust=\"spacingAndGlyphs\" textLength=\"64\" x=\"340\" y=\"180.0669\">«depend»</text></a><!--MD5=[1b7591eae5389033d8d09a9d6721a717]\n",
       "link E4 to E5--><a href=\"psysml:a5d569dd-f966-4325-8014-b1c593712f38\" target=\"_top\" title=\"psysml:a5d569dd-f966-4325-8014-b1c593712f38\" xlink:actuate=\"onRequest\" xlink:href=\"psysml:a5d569dd-f966-4325-8014-b1c593712f38\" xlink:show=\"new\" xlink:title=\"psysml:a5d569dd-f966-4325-8014-b1c593712f38\" xlink:type=\"simple\"><path d=\"M339,267.1 C339,286.8 339,314.22 339,335.73 \" fill=\"none\" id=\"E4-&gt;E5\" style=\"stroke: #A80036; stroke-width: 1.0; stroke-dasharray: 7.0,7.0;\"/><polygon fill=\"#A80036\" points=\"339,343.95,342,335.95,336,335.95,339,343.95\" style=\"stroke: #A80036; stroke-width: 1.0;\"/><text fill=\"#000000\" font-family=\"sans-serif\" font-size=\"13\" lengthAdjust=\"spacingAndGlyphs\" textLength=\"64\" x=\"340\" y=\"310.0669\">«depend»</text></a><!--MD5=[c5e8897d989ce984f93528998a7150fe]\n",
       "link E8 to E6--><a href=\"psysml:e9cc0fc6-3b4b-4571-a4a8-99018107eac1\" target=\"_top\" title=\"psysml:e9cc0fc6-3b4b-4571-a4a8-99018107eac1\" xlink:actuate=\"onRequest\" xlink:href=\"psysml:e9cc0fc6-3b4b-4571-a4a8-99018107eac1\" xlink:show=\"new\" xlink:title=\"psysml:e9cc0fc6-3b4b-4571-a4a8-99018107eac1\" xlink:type=\"simple\"><path d=\"M89.42,133.6 C79.35,142.68 69.37,154.11 64,167 C58.5,180.2 58.66,195.94 60.54,209.38 \" fill=\"none\" id=\"E8-&gt;E6\" style=\"stroke: #A80036; stroke-width: 1.0; stroke-dasharray: 7.0,7.0;\"/><polygon fill=\"#A80036\" points=\"61.9,217.4,63.517,209.0104,57.6018,210.0159,61.9,217.4\" style=\"stroke: #A80036; stroke-width: 1.0;\"/><text fill=\"#000000\" font-family=\"sans-serif\" font-size=\"13\" lengthAdjust=\"spacingAndGlyphs\" textLength=\"64\" x=\"65\" y=\"180.0669\">«depend»</text></a><!--MD5=[bfa3c8b0d15052fdf50ae9310b491027]\n",
       "link E8 to E7--><a href=\"psysml:e9cc0fc6-3b4b-4571-a4a8-99018107eac1\" target=\"_top\" title=\"psysml:e9cc0fc6-3b4b-4571-a4a8-99018107eac1\" xlink:actuate=\"onRequest\" xlink:href=\"psysml:e9cc0fc6-3b4b-4571-a4a8-99018107eac1\" xlink:show=\"new\" xlink:title=\"psysml:e9cc0fc6-3b4b-4571-a4a8-99018107eac1\" xlink:type=\"simple\"><path d=\"M129.28,133.5 C138.17,154.57 151.64,186.5 161.47,209.81 \" fill=\"none\" id=\"E8-&gt;E7\" style=\"stroke: #A80036; stroke-width: 1.0; stroke-dasharray: 7.0,7.0;\"/><polygon fill=\"#A80036\" points=\"164.66,217.35,164.3241,208.8126,158.7933,211.1385,164.66,217.35\" style=\"stroke: #A80036; stroke-width: 1.0;\"/><text fill=\"#000000\" font-family=\"sans-serif\" font-size=\"13\" lengthAdjust=\"spacingAndGlyphs\" textLength=\"64\" x=\"151\" y=\"180.0669\">«depend»</text></a><!--MD5=[045dce2ee1fdda8bd89a672e46db147b]\n",
       "@startuml\r\n",
       "skinparam wrapWidth 300\r\n",
       "hide circle\r\n",
       "\r\n",
       "package \"DependencyTest\" as E1  [[psysml:d3869743-6750-4f05-a5ce-51c4137f7251 ]]  {\r\n",
       "package \"System\" as E2  [[psysml:6b74be88-9b37-4afd-8ab0-bbd062a94e7e ]]  {\r\n",
       "package \"Application Layer\" as E3  [[psysml:03aab854-f405-4fcc-aa77-08da242f79f1 ]]  {\r\n",
       "}\r\n",
       "package \"Service Layer\" as E4  [[psysml:ad996126-15a5-42e2-8928-0fb76718612c ]]  {\r\n",
       "}\r\n",
       "package \"Data Layer\" as E5  [[psysml:17a101e7-475f-4fc3-82c9-609370bf1116 ]]  {\r\n",
       "}\r\n",
       "}\r\n",
       "comp usage \"x\" as E6  <<(T,blue) attribute>> [[psysml:881809a4-48f2-4fe8-9827-6dde0f998bab ]] {\r\n",
       "}\r\n",
       "comp usage \"y\" as E7  <<(T,blue) attribute>> [[psysml:190ef100-b940-43fb-97f3-4b9e1cd4417f ]] {\r\n",
       "}\r\n",
       "comp usage \"z\" as E8  <<(T,blue) attribute>> [[psysml:293eb67f-3e12-4287-ab19-bcded2d3124c ]] {\r\n",
       "}\r\n",
       "}\r\n",
       "E3 ..>> E4 [[psysml:8bc3dbe9-cd72-4429-a15e-d6826987fc7c ]] : <<depend>>\r\n",
       "E4 ..>> E5 [[psysml:a5d569dd-f966-4325-8014-b1c593712f38 ]] : <<depend>>\r\n",
       "E8 ..>> E6 [[psysml:e9cc0fc6-3b4b-4571-a4a8-99018107eac1 ]] : <<depend>>\r\n",
       "E8 ..>> E7 [[psysml:e9cc0fc6-3b4b-4571-a4a8-99018107eac1 ]] : <<depend>>\r\n",
       "@enduml\r\n",
       "\n",
       "PlantUML version 1.2020.13(Sat Jun 13 12:26:38 UTC 2020)\n",
       "(EPL source distribution)\n",
       "Java Runtime: OpenJDK Runtime Environment\n",
       "JVM: OpenJDK 64-Bit Server VM\n",
       "Default Encoding: UTF-8\n",
       "Language: en\n",
       "Country: null\n",
       "--></g></svg>"
      ]
     },
     "execution_count": 29,
     "metadata": {},
     "output_type": "execute_result"
    }
   ],
   "source": [
    "%viz --style=\"STDCOLOR\" --view=\"MIXED\" \"DependencyTest\""
   ]
  },
  {
   "cell_type": "code",
   "execution_count": 30,
   "id": "42f4de8d",
   "metadata": {
    "execution": {
     "iopub.execute_input": "2021-10-03T08:27:19.778513Z",
     "iopub.status.busy": "2021-10-03T08:27:19.778006Z",
     "iopub.status.idle": "2021-10-03T08:27:19.834816Z",
     "shell.execute_reply": "2021-10-03T08:27:19.834448Z"
    }
   },
   "outputs": [
    {
     "data": {
      "image/svg+xml": [
       "<?xml version=\"1.0\" encoding=\"UTF-8\" standalone=\"no\"?><svg xmlns=\"http://www.w3.org/2000/svg\" xmlns:xlink=\"http://www.w3.org/1999/xlink\" contentScriptType=\"application/ecmascript\" contentStyleType=\"text/css\" height=\"449px\" preserveAspectRatio=\"none\" style=\"width:490px;height:449px;\" version=\"1.1\" viewBox=\"0 0 490 449\" width=\"490px\" zoomAndPan=\"magnify\"><defs><filter height=\"300%\" id=\"fzr26372eicdd\" width=\"300%\" x=\"-1\" y=\"-1\"><feGaussianBlur result=\"blurOut\" stdDeviation=\"2.0\"/><feColorMatrix in=\"blurOut\" result=\"blurOut2\" type=\"matrix\" values=\"0 0 0 0 0 0 0 0 0 0 0 0 0 0 0 0 0 0 .4 0\"/><feOffset dx=\"4.0\" dy=\"4.0\" in=\"blurOut2\" result=\"blurOut3\"/><feBlend in=\"SourceGraphic\" in2=\"blurOut3\" mode=\"normal\"/></filter></defs><g><!--MD5=[fbc87193dbaf4d95561dea2c320d4a47]\n",
       "cluster E1--><a href=\"psysml:d3869743-6750-4f05-a5ce-51c4137f7251\" target=\"_top\" title=\"psysml:d3869743-6750-4f05-a5ce-51c4137f7251\" xlink:actuate=\"onRequest\" xlink:href=\"psysml:d3869743-6750-4f05-a5ce-51c4137f7251\" xlink:show=\"new\" xlink:title=\"psysml:d3869743-6750-4f05-a5ce-51c4137f7251\" xlink:type=\"simple\"><polygon fill=\"#FFFFFF\" filter=\"url(#fzr26372eicdd)\" points=\"16,6,142,6,149,28.2969,468,28.2969,468,437,16,437,16,6\" style=\"stroke: #000000; stroke-width: 1.5;\"/><line style=\"stroke: #000000; stroke-width: 1.5;\" x1=\"16\" x2=\"149\" y1=\"28.2969\" y2=\"28.2969\"/><text fill=\"#000000\" font-family=\"sans-serif\" font-size=\"14\" font-weight=\"bold\" lengthAdjust=\"spacingAndGlyphs\" textLength=\"120\" x=\"20\" y=\"20.9951\">DependencyTest</text></a><!--MD5=[e4f7fae6ed58524ba242bb0b0d3be6b7]\n",
       "cluster E2--><a href=\"psysml:6b74be88-9b37-4afd-8ab0-bbd062a94e7e\" target=\"_top\" title=\"psysml:6b74be88-9b37-4afd-8ab0-bbd062a94e7e\" xlink:actuate=\"onRequest\" xlink:href=\"psysml:6b74be88-9b37-4afd-8ab0-bbd062a94e7e\" xlink:show=\"new\" xlink:title=\"psysml:6b74be88-9b37-4afd-8ab0-bbd062a94e7e\" xlink:type=\"simple\"><polygon fill=\"#FFFFFF\" filter=\"url(#fzr26372eicdd)\" points=\"276,49,333,49,340,71.2969,444,71.2969,444,413,276,413,276,49\" style=\"stroke: #000000; stroke-width: 1.5;\"/><line style=\"stroke: #000000; stroke-width: 1.5;\" x1=\"276\" x2=\"340\" y1=\"71.2969\" y2=\"71.2969\"/><text fill=\"#000000\" font-family=\"sans-serif\" font-size=\"14\" font-weight=\"bold\" lengthAdjust=\"spacingAndGlyphs\" textLength=\"51\" x=\"280\" y=\"63.9951\">System</text></a><!--MD5=[60a26617385b1d2d0262a64233df1f8d]\n",
       "class E6--><a href=\"psysml:881809a4-48f2-4fe8-9827-6dde0f998bab\" target=\"_top\" title=\"psysml:881809a4-48f2-4fe8-9827-6dde0f998bab\" xlink:actuate=\"onRequest\" xlink:href=\"psysml:881809a4-48f2-4fe8-9827-6dde0f998bab\" xlink:show=\"new\" xlink:title=\"psysml:881809a4-48f2-4fe8-9827-6dde0f998bab\" xlink:type=\"simple\"><rect fill=\"#FEFECE\" filter=\"url(#fzr26372eicdd)\" height=\"45.9375\" id=\"E6\" rx=\"10\" ry=\"10\" style=\"stroke: #A80036; stroke-width: 1.5;\" width=\"97\" x=\"31.5\" y=\"217.5\"/><ellipse cx=\"46.5\" cy=\"236.4688\" fill=\"#FFA500\" rx=\"11\" ry=\"11\" style=\"stroke: #A80036; stroke-width: 1.0;\"/><path d=\"M46.25,241.9375 Q44.5,241.9375 43.5469,240.9063 Q42.6094,239.8594 42.6094,238.0156 L42.6094,231.125 L44.6719,231.125 L44.6719,231.2813 Q44.5781,231.375 44.5469,231.5156 Q44.5313,231.6406 44.5313,231.9063 L44.5313,238.0313 Q44.5313,239.125 44.9063,239.75 Q45.2813,240.375 46.2656,240.375 Q47.25,240.375 47.6406,239.75 Q48.0313,239.125 48.0313,237.9844 L48.0313,231.125 L49.9063,231.125 L49.9063,237.9688 Q49.9063,240 48.875,240.9688 Q47.8594,241.9375 46.25,241.9375 Z \"/><text fill=\"#000000\" font-family=\"sans-serif\" font-size=\"12\" font-style=\"italic\" lengthAdjust=\"spacingAndGlyphs\" textLength=\"69\" x=\"58.5\" y=\"233.6387\">«attribute»</text><text fill=\"#000000\" font-family=\"sans-serif\" font-size=\"12\" lengthAdjust=\"spacingAndGlyphs\" textLength=\"6\" x=\"90\" y=\"247.6074\">x</text><line style=\"stroke: #A80036; stroke-width: 1.5;\" x1=\"32.5\" x2=\"127.5\" y1=\"255.4375\" y2=\"255.4375\"/></a><!--MD5=[2156ba9850f5573cc1fc38a6a4b2f02b]\n",
       "class E7--><a href=\"psysml:190ef100-b940-43fb-97f3-4b9e1cd4417f\" target=\"_top\" title=\"psysml:190ef100-b940-43fb-97f3-4b9e1cd4417f\" xlink:actuate=\"onRequest\" xlink:href=\"psysml:190ef100-b940-43fb-97f3-4b9e1cd4417f\" xlink:show=\"new\" xlink:title=\"psysml:190ef100-b940-43fb-97f3-4b9e1cd4417f\" xlink:type=\"simple\"><rect fill=\"#FEFECE\" filter=\"url(#fzr26372eicdd)\" height=\"45.9375\" id=\"E7\" rx=\"10\" ry=\"10\" style=\"stroke: #A80036; stroke-width: 1.5;\" width=\"97\" x=\"163.5\" y=\"217.5\"/><ellipse cx=\"178.5\" cy=\"236.4688\" fill=\"#FFA500\" rx=\"11\" ry=\"11\" style=\"stroke: #A80036; stroke-width: 1.0;\"/><path d=\"M178.25,241.9375 Q176.5,241.9375 175.5469,240.9063 Q174.6094,239.8594 174.6094,238.0156 L174.6094,231.125 L176.6719,231.125 L176.6719,231.2813 Q176.5781,231.375 176.5469,231.5156 Q176.5313,231.6406 176.5313,231.9063 L176.5313,238.0313 Q176.5313,239.125 176.9063,239.75 Q177.2813,240.375 178.2656,240.375 Q179.25,240.375 179.6406,239.75 Q180.0313,239.125 180.0313,237.9844 L180.0313,231.125 L181.9063,231.125 L181.9063,237.9688 Q181.9063,240 180.875,240.9688 Q179.8594,241.9375 178.25,241.9375 Z \"/><text fill=\"#000000\" font-family=\"sans-serif\" font-size=\"12\" font-style=\"italic\" lengthAdjust=\"spacingAndGlyphs\" textLength=\"69\" x=\"190.5\" y=\"233.6387\">«attribute»</text><text fill=\"#000000\" font-family=\"sans-serif\" font-size=\"12\" lengthAdjust=\"spacingAndGlyphs\" textLength=\"6\" x=\"222\" y=\"247.6074\">y</text><line style=\"stroke: #A80036; stroke-width: 1.5;\" x1=\"164.5\" x2=\"259.5\" y1=\"255.4375\" y2=\"255.4375\"/></a><!--MD5=[b9389687b975829384b498ac4b7476b2]\n",
       "class E8--><a href=\"psysml:293eb67f-3e12-4287-ab19-bcded2d3124c\" target=\"_top\" title=\"psysml:293eb67f-3e12-4287-ab19-bcded2d3124c\" xlink:actuate=\"onRequest\" xlink:href=\"psysml:293eb67f-3e12-4287-ab19-bcded2d3124c\" xlink:show=\"new\" xlink:title=\"psysml:293eb67f-3e12-4287-ab19-bcded2d3124c\" xlink:type=\"simple\"><rect fill=\"#FEFECE\" filter=\"url(#fzr26372eicdd)\" height=\"45.9375\" id=\"E8\" rx=\"10\" ry=\"10\" style=\"stroke: #A80036; stroke-width: 1.5;\" width=\"97\" x=\"84.5\" y=\"87.5\"/><ellipse cx=\"99.5\" cy=\"106.4688\" fill=\"#FFA500\" rx=\"11\" ry=\"11\" style=\"stroke: #A80036; stroke-width: 1.0;\"/><path d=\"M99.25,111.9375 Q97.5,111.9375 96.5469,110.9063 Q95.6094,109.8594 95.6094,108.0156 L95.6094,101.125 L97.6719,101.125 L97.6719,101.2813 Q97.5781,101.375 97.5469,101.5156 Q97.5313,101.6406 97.5313,101.9063 L97.5313,108.0313 Q97.5313,109.125 97.9063,109.75 Q98.2813,110.375 99.2656,110.375 Q100.25,110.375 100.6406,109.75 Q101.0313,109.125 101.0313,107.9844 L101.0313,101.125 L102.9063,101.125 L102.9063,107.9688 Q102.9063,110 101.875,110.9688 Q100.8594,111.9375 99.25,111.9375 Z \"/><text fill=\"#000000\" font-family=\"sans-serif\" font-size=\"12\" font-style=\"italic\" lengthAdjust=\"spacingAndGlyphs\" textLength=\"69\" x=\"111.5\" y=\"103.6387\">«attribute»</text><text fill=\"#000000\" font-family=\"sans-serif\" font-size=\"12\" lengthAdjust=\"spacingAndGlyphs\" textLength=\"5\" x=\"143.5\" y=\"117.6074\">z</text><line style=\"stroke: #A80036; stroke-width: 1.5;\" x1=\"85.5\" x2=\"180.5\" y1=\"125.4375\" y2=\"125.4375\"/></a><a href=\"psysml:03aab854-f405-4fcc-aa77-08da242f79f1\" target=\"_top\" title=\"psysml:03aab854-f405-4fcc-aa77-08da242f79f1\" xlink:actuate=\"onRequest\" xlink:href=\"psysml:03aab854-f405-4fcc-aa77-08da242f79f1\" xlink:show=\"new\" xlink:title=\"psysml:03aab854-f405-4fcc-aa77-08da242f79f1\" xlink:type=\"simple\"><polygon fill=\"#FFFFFF\" filter=\"url(#fzr26372eicdd)\" points=\"292.5,84,413.5,84,420.5,106.2969,427.5,106.2969,427.5,136.5938,292.5,136.5938,292.5,84\" style=\"stroke: #000000; stroke-width: 1.5;\"/><line style=\"stroke: #000000; stroke-width: 1.5;\" x1=\"292.5\" x2=\"420.5\" y1=\"106.2969\" y2=\"106.2969\"/><text fill=\"#000000\" font-family=\"sans-serif\" font-size=\"14\" font-weight=\"bold\" lengthAdjust=\"spacingAndGlyphs\" textLength=\"115\" x=\"296.5\" y=\"98.9951\">Application Layer</text></a><a href=\"psysml:ad996126-15a5-42e2-8928-0fb76718612c\" target=\"_top\" title=\"psysml:ad996126-15a5-42e2-8928-0fb76718612c\" xlink:actuate=\"onRequest\" xlink:href=\"psysml:ad996126-15a5-42e2-8928-0fb76718612c\" xlink:show=\"new\" xlink:title=\"psysml:ad996126-15a5-42e2-8928-0fb76718612c\" xlink:type=\"simple\"><polygon fill=\"#FFFFFF\" filter=\"url(#fzr26372eicdd)\" points=\"305,214,401,214,408,236.2969,415,236.2969,415,266.5938,305,266.5938,305,214\" style=\"stroke: #000000; stroke-width: 1.5;\"/><line style=\"stroke: #000000; stroke-width: 1.5;\" x1=\"305\" x2=\"408\" y1=\"236.2969\" y2=\"236.2969\"/><text fill=\"#000000\" font-family=\"sans-serif\" font-size=\"14\" font-weight=\"bold\" lengthAdjust=\"spacingAndGlyphs\" textLength=\"90\" x=\"309\" y=\"228.9951\">Service Layer</text></a><a href=\"psysml:17a101e7-475f-4fc3-82c9-609370bf1116\" target=\"_top\" title=\"psysml:17a101e7-475f-4fc3-82c9-609370bf1116\" xlink:actuate=\"onRequest\" xlink:href=\"psysml:17a101e7-475f-4fc3-82c9-609370bf1116\" xlink:show=\"new\" xlink:title=\"psysml:17a101e7-475f-4fc3-82c9-609370bf1116\" xlink:type=\"simple\"><polygon fill=\"#FFFFFF\" filter=\"url(#fzr26372eicdd)\" points=\"314,344,392,344,399,366.2969,406,366.2969,406,396.5938,314,396.5938,314,344\" style=\"stroke: #000000; stroke-width: 1.5;\"/><line style=\"stroke: #000000; stroke-width: 1.5;\" x1=\"314\" x2=\"399\" y1=\"366.2969\" y2=\"366.2969\"/><text fill=\"#000000\" font-family=\"sans-serif\" font-size=\"14\" font-weight=\"bold\" lengthAdjust=\"spacingAndGlyphs\" textLength=\"72\" x=\"318\" y=\"358.9951\">Data Layer</text></a><!--MD5=[af87c684e3b0d8be13c1a698a818ef1e]\n",
       "link E3 to E4--><a href=\"psysml:8bc3dbe9-cd72-4429-a15e-d6826987fc7c\" target=\"_top\" title=\"psysml:8bc3dbe9-cd72-4429-a15e-d6826987fc7c\" xlink:actuate=\"onRequest\" xlink:href=\"psysml:8bc3dbe9-cd72-4429-a15e-d6826987fc7c\" xlink:show=\"new\" xlink:title=\"psysml:8bc3dbe9-cd72-4429-a15e-d6826987fc7c\" xlink:type=\"simple\"><path d=\"M360,137.1 C360,156.8 360,184.22 360,205.73 \" fill=\"none\" id=\"E3-&gt;E4\" style=\"stroke: #A80036; stroke-width: 1.0; stroke-dasharray: 7.0,7.0;\"/><polygon fill=\"#A80036\" points=\"360,213.95,363,205.95,357,205.95,360,213.95\" style=\"stroke: #A80036; stroke-width: 1.0;\"/><text fill=\"#000000\" font-family=\"sans-serif\" font-size=\"13\" lengthAdjust=\"spacingAndGlyphs\" textLength=\"64\" x=\"361\" y=\"180.0669\">«depend»</text></a><!--MD5=[1b7591eae5389033d8d09a9d6721a717]\n",
       "link E4 to E5--><a href=\"psysml:a5d569dd-f966-4325-8014-b1c593712f38\" target=\"_top\" title=\"psysml:a5d569dd-f966-4325-8014-b1c593712f38\" xlink:actuate=\"onRequest\" xlink:href=\"psysml:a5d569dd-f966-4325-8014-b1c593712f38\" xlink:show=\"new\" xlink:title=\"psysml:a5d569dd-f966-4325-8014-b1c593712f38\" xlink:type=\"simple\"><path d=\"M360,267.1 C360,286.8 360,314.22 360,335.73 \" fill=\"none\" id=\"E4-&gt;E5\" style=\"stroke: #A80036; stroke-width: 1.0; stroke-dasharray: 7.0,7.0;\"/><polygon fill=\"#A80036\" points=\"360,343.95,363,335.95,357,335.95,360,343.95\" style=\"stroke: #A80036; stroke-width: 1.0;\"/><text fill=\"#000000\" font-family=\"sans-serif\" font-size=\"13\" lengthAdjust=\"spacingAndGlyphs\" textLength=\"64\" x=\"361\" y=\"310.0669\">«depend»</text></a><!--MD5=[c5e8897d989ce984f93528998a7150fe]\n",
       "link E8 to E6--><a href=\"psysml:e9cc0fc6-3b4b-4571-a4a8-99018107eac1\" target=\"_top\" title=\"psysml:e9cc0fc6-3b4b-4571-a4a8-99018107eac1\" xlink:actuate=\"onRequest\" xlink:href=\"psysml:e9cc0fc6-3b4b-4571-a4a8-99018107eac1\" xlink:show=\"new\" xlink:title=\"psysml:e9cc0fc6-3b4b-4571-a4a8-99018107eac1\" xlink:type=\"simple\"><path d=\"M106.44,133.76 C97.3,143.01 88.09,154.51 83,167 C77.6,180.23 76.4,195.98 76.73,209.41 \" fill=\"none\" id=\"E8-&gt;E6\" style=\"stroke: #A80036; stroke-width: 1.0; stroke-dasharray: 7.0,7.0;\"/><polygon fill=\"#A80036\" points=\"77.12,217.43,79.7306,209.2946,73.7375,209.584,77.12,217.43\" style=\"stroke: #A80036; stroke-width: 1.0;\"/><text fill=\"#000000\" font-family=\"sans-serif\" font-size=\"13\" lengthAdjust=\"spacingAndGlyphs\" textLength=\"64\" x=\"84\" y=\"180.0669\">«depend»</text></a><!--MD5=[bfa3c8b0d15052fdf50ae9310b491027]\n",
       "link E8 to E7--><a href=\"psysml:e9cc0fc6-3b4b-4571-a4a8-99018107eac1\" target=\"_top\" title=\"psysml:e9cc0fc6-3b4b-4571-a4a8-99018107eac1\" xlink:actuate=\"onRequest\" xlink:href=\"psysml:e9cc0fc6-3b4b-4571-a4a8-99018107eac1\" xlink:show=\"new\" xlink:title=\"psysml:e9cc0fc6-3b4b-4571-a4a8-99018107eac1\" xlink:type=\"simple\"><path d=\"M146.58,133.5 C159.69,154.75 179.63,187.05 194.05,210.41 \" fill=\"none\" id=\"E8-&gt;E7\" style=\"stroke: #A80036; stroke-width: 1.0; stroke-dasharray: 7.0,7.0;\"/><polygon fill=\"#A80036\" points=\"198.33,217.35,196.6785,208.9671,191.5737,212.1201,198.33,217.35\" style=\"stroke: #A80036; stroke-width: 1.0;\"/><text fill=\"#000000\" font-family=\"sans-serif\" font-size=\"13\" lengthAdjust=\"spacingAndGlyphs\" textLength=\"64\" x=\"178\" y=\"180.0669\">«depend»</text></a><!--MD5=[556000e2a2e8645a0c190d4f4d075aa9]\n",
       "@startuml\r\n",
       " \r\n",
       "package \"DependencyTest\" as E1  [[psysml:d3869743-6750-4f05-a5ce-51c4137f7251 ]]  {\r\n",
       "package \"System\" as E2  [[psysml:6b74be88-9b37-4afd-8ab0-bbd062a94e7e ]]  {\r\n",
       "package \"Application Layer\" as E3  [[psysml:03aab854-f405-4fcc-aa77-08da242f79f1 ]]  {\r\n",
       "}\r\n",
       "package \"Service Layer\" as E4  [[psysml:ad996126-15a5-42e2-8928-0fb76718612c ]]  {\r\n",
       "}\r\n",
       "package \"Data Layer\" as E5  [[psysml:17a101e7-475f-4fc3-82c9-609370bf1116 ]]  {\r\n",
       "}\r\n",
       "}\r\n",
       "comp usage \"x\" as E6 << <<(U,orange) attribute>> [[psysml:881809a4-48f2-4fe8-9827-6dde0f998bab ]] {\r\n",
       "}\r\n",
       "comp usage \"y\" as E7 << <<(U,orange) attribute>> [[psysml:190ef100-b940-43fb-97f3-4b9e1cd4417f ]] {\r\n",
       "}\r\n",
       "comp usage \"z\" as E8 << <<(U,orange) attribute>> [[psysml:293eb67f-3e12-4287-ab19-bcded2d3124c ]] {\r\n",
       "}\r\n",
       "}\r\n",
       "E3 ..>> E4 [[psysml:8bc3dbe9-cd72-4429-a15e-d6826987fc7c ]] : <<depend>>\r\n",
       "E4 ..>> E5 [[psysml:a5d569dd-f966-4325-8014-b1c593712f38 ]] : <<depend>>\r\n",
       "E8 ..>> E6 [[psysml:e9cc0fc6-3b4b-4571-a4a8-99018107eac1 ]] : <<depend>>\r\n",
       "E8 ..>> E7 [[psysml:e9cc0fc6-3b4b-4571-a4a8-99018107eac1 ]] : <<depend>>\r\n",
       "@enduml\r\n",
       "\n",
       "PlantUML version 1.2020.13(Sat Jun 13 12:26:38 UTC 2020)\n",
       "(EPL source distribution)\n",
       "Java Runtime: OpenJDK Runtime Environment\n",
       "JVM: OpenJDK 64-Bit Server VM\n",
       "Default Encoding: UTF-8\n",
       "Language: en\n",
       "Country: null\n",
       "--></g></svg>"
      ]
     },
     "execution_count": 30,
     "metadata": {},
     "output_type": "execute_result"
    }
   ],
   "source": [
    "%viz --style=\"PLANTUML\" --view=\"Default\" \"DependencyTest\""
   ]
  },
  {
   "cell_type": "code",
   "execution_count": 31,
   "id": "ea94f916",
   "metadata": {
    "execution": {
     "iopub.execute_input": "2021-10-03T08:27:19.883605Z",
     "iopub.status.busy": "2021-10-03T08:27:19.883196Z",
     "iopub.status.idle": "2021-10-03T08:27:19.923717Z",
     "shell.execute_reply": "2021-10-03T08:27:19.923326Z"
    }
   },
   "outputs": [
    {
     "data": {
      "image/svg+xml": [
       "<?xml version=\"1.0\" encoding=\"UTF-8\" standalone=\"no\"?><svg xmlns=\"http://www.w3.org/2000/svg\" xmlns:xlink=\"http://www.w3.org/1999/xlink\" contentScriptType=\"application/ecmascript\" contentStyleType=\"text/css\" height=\"449px\" preserveAspectRatio=\"none\" style=\"width:490px;height:449px;\" version=\"1.1\" viewBox=\"0 0 490 449\" width=\"490px\" zoomAndPan=\"magnify\"><defs><filter height=\"300%\" id=\"fzr26372eicdd\" width=\"300%\" x=\"-1\" y=\"-1\"><feGaussianBlur result=\"blurOut\" stdDeviation=\"2.0\"/><feColorMatrix in=\"blurOut\" result=\"blurOut2\" type=\"matrix\" values=\"0 0 0 0 0 0 0 0 0 0 0 0 0 0 0 0 0 0 .4 0\"/><feOffset dx=\"4.0\" dy=\"4.0\" in=\"blurOut2\" result=\"blurOut3\"/><feBlend in=\"SourceGraphic\" in2=\"blurOut3\" mode=\"normal\"/></filter></defs><g><!--MD5=[fbc87193dbaf4d95561dea2c320d4a47]\n",
       "cluster E1--><a href=\"psysml:d3869743-6750-4f05-a5ce-51c4137f7251\" target=\"_top\" title=\"psysml:d3869743-6750-4f05-a5ce-51c4137f7251\" xlink:actuate=\"onRequest\" xlink:href=\"psysml:d3869743-6750-4f05-a5ce-51c4137f7251\" xlink:show=\"new\" xlink:title=\"psysml:d3869743-6750-4f05-a5ce-51c4137f7251\" xlink:type=\"simple\"><polygon fill=\"#FFFFFF\" filter=\"url(#fzr26372eicdd)\" points=\"16,6,142,6,149,28.2969,468,28.2969,468,437,16,437,16,6\" style=\"stroke: #000000; stroke-width: 1.5;\"/><line style=\"stroke: #000000; stroke-width: 1.5;\" x1=\"16\" x2=\"149\" y1=\"28.2969\" y2=\"28.2969\"/><text fill=\"#000000\" font-family=\"sans-serif\" font-size=\"14\" font-weight=\"bold\" lengthAdjust=\"spacingAndGlyphs\" textLength=\"120\" x=\"20\" y=\"20.9951\">DependencyTest</text></a><!--MD5=[e4f7fae6ed58524ba242bb0b0d3be6b7]\n",
       "cluster E2--><a href=\"psysml:6b74be88-9b37-4afd-8ab0-bbd062a94e7e\" target=\"_top\" title=\"psysml:6b74be88-9b37-4afd-8ab0-bbd062a94e7e\" xlink:actuate=\"onRequest\" xlink:href=\"psysml:6b74be88-9b37-4afd-8ab0-bbd062a94e7e\" xlink:show=\"new\" xlink:title=\"psysml:6b74be88-9b37-4afd-8ab0-bbd062a94e7e\" xlink:type=\"simple\"><polygon fill=\"#FFFFFF\" filter=\"url(#fzr26372eicdd)\" points=\"276,49,333,49,340,71.2969,444,71.2969,444,413,276,413,276,49\" style=\"stroke: #000000; stroke-width: 1.5;\"/><line style=\"stroke: #000000; stroke-width: 1.5;\" x1=\"276\" x2=\"340\" y1=\"71.2969\" y2=\"71.2969\"/><text fill=\"#000000\" font-family=\"sans-serif\" font-size=\"14\" font-weight=\"bold\" lengthAdjust=\"spacingAndGlyphs\" textLength=\"51\" x=\"280\" y=\"63.9951\">System</text></a><!--MD5=[60a26617385b1d2d0262a64233df1f8d]\n",
       "class E6--><a href=\"psysml:881809a4-48f2-4fe8-9827-6dde0f998bab\" target=\"_top\" title=\"psysml:881809a4-48f2-4fe8-9827-6dde0f998bab\" xlink:actuate=\"onRequest\" xlink:href=\"psysml:881809a4-48f2-4fe8-9827-6dde0f998bab\" xlink:show=\"new\" xlink:title=\"psysml:881809a4-48f2-4fe8-9827-6dde0f998bab\" xlink:type=\"simple\"><rect fill=\"#FEFECE\" filter=\"url(#fzr26372eicdd)\" height=\"45.9375\" id=\"E6\" rx=\"10\" ry=\"10\" style=\"stroke: #A80036; stroke-width: 1.5;\" width=\"97\" x=\"31.5\" y=\"217.5\"/><ellipse cx=\"46.5\" cy=\"236.4688\" fill=\"#FFA500\" rx=\"11\" ry=\"11\" style=\"stroke: #A80036; stroke-width: 1.0;\"/><path d=\"M46.25,241.9375 Q44.5,241.9375 43.5469,240.9063 Q42.6094,239.8594 42.6094,238.0156 L42.6094,231.125 L44.6719,231.125 L44.6719,231.2813 Q44.5781,231.375 44.5469,231.5156 Q44.5313,231.6406 44.5313,231.9063 L44.5313,238.0313 Q44.5313,239.125 44.9063,239.75 Q45.2813,240.375 46.2656,240.375 Q47.25,240.375 47.6406,239.75 Q48.0313,239.125 48.0313,237.9844 L48.0313,231.125 L49.9063,231.125 L49.9063,237.9688 Q49.9063,240 48.875,240.9688 Q47.8594,241.9375 46.25,241.9375 Z \"/><text fill=\"#000000\" font-family=\"sans-serif\" font-size=\"12\" font-style=\"italic\" lengthAdjust=\"spacingAndGlyphs\" textLength=\"69\" x=\"58.5\" y=\"233.6387\">«attribute»</text><text fill=\"#000000\" font-family=\"sans-serif\" font-size=\"12\" lengthAdjust=\"spacingAndGlyphs\" textLength=\"6\" x=\"90\" y=\"247.6074\">x</text><line style=\"stroke: #A80036; stroke-width: 1.5;\" x1=\"32.5\" x2=\"127.5\" y1=\"255.4375\" y2=\"255.4375\"/></a><!--MD5=[2156ba9850f5573cc1fc38a6a4b2f02b]\n",
       "class E7--><a href=\"psysml:190ef100-b940-43fb-97f3-4b9e1cd4417f\" target=\"_top\" title=\"psysml:190ef100-b940-43fb-97f3-4b9e1cd4417f\" xlink:actuate=\"onRequest\" xlink:href=\"psysml:190ef100-b940-43fb-97f3-4b9e1cd4417f\" xlink:show=\"new\" xlink:title=\"psysml:190ef100-b940-43fb-97f3-4b9e1cd4417f\" xlink:type=\"simple\"><rect fill=\"#FEFECE\" filter=\"url(#fzr26372eicdd)\" height=\"45.9375\" id=\"E7\" rx=\"10\" ry=\"10\" style=\"stroke: #A80036; stroke-width: 1.5;\" width=\"97\" x=\"163.5\" y=\"217.5\"/><ellipse cx=\"178.5\" cy=\"236.4688\" fill=\"#FFA500\" rx=\"11\" ry=\"11\" style=\"stroke: #A80036; stroke-width: 1.0;\"/><path d=\"M178.25,241.9375 Q176.5,241.9375 175.5469,240.9063 Q174.6094,239.8594 174.6094,238.0156 L174.6094,231.125 L176.6719,231.125 L176.6719,231.2813 Q176.5781,231.375 176.5469,231.5156 Q176.5313,231.6406 176.5313,231.9063 L176.5313,238.0313 Q176.5313,239.125 176.9063,239.75 Q177.2813,240.375 178.2656,240.375 Q179.25,240.375 179.6406,239.75 Q180.0313,239.125 180.0313,237.9844 L180.0313,231.125 L181.9063,231.125 L181.9063,237.9688 Q181.9063,240 180.875,240.9688 Q179.8594,241.9375 178.25,241.9375 Z \"/><text fill=\"#000000\" font-family=\"sans-serif\" font-size=\"12\" font-style=\"italic\" lengthAdjust=\"spacingAndGlyphs\" textLength=\"69\" x=\"190.5\" y=\"233.6387\">«attribute»</text><text fill=\"#000000\" font-family=\"sans-serif\" font-size=\"12\" lengthAdjust=\"spacingAndGlyphs\" textLength=\"6\" x=\"222\" y=\"247.6074\">y</text><line style=\"stroke: #A80036; stroke-width: 1.5;\" x1=\"164.5\" x2=\"259.5\" y1=\"255.4375\" y2=\"255.4375\"/></a><!--MD5=[b9389687b975829384b498ac4b7476b2]\n",
       "class E8--><a href=\"psysml:293eb67f-3e12-4287-ab19-bcded2d3124c\" target=\"_top\" title=\"psysml:293eb67f-3e12-4287-ab19-bcded2d3124c\" xlink:actuate=\"onRequest\" xlink:href=\"psysml:293eb67f-3e12-4287-ab19-bcded2d3124c\" xlink:show=\"new\" xlink:title=\"psysml:293eb67f-3e12-4287-ab19-bcded2d3124c\" xlink:type=\"simple\"><rect fill=\"#FEFECE\" filter=\"url(#fzr26372eicdd)\" height=\"45.9375\" id=\"E8\" rx=\"10\" ry=\"10\" style=\"stroke: #A80036; stroke-width: 1.5;\" width=\"97\" x=\"84.5\" y=\"87.5\"/><ellipse cx=\"99.5\" cy=\"106.4688\" fill=\"#FFA500\" rx=\"11\" ry=\"11\" style=\"stroke: #A80036; stroke-width: 1.0;\"/><path d=\"M99.25,111.9375 Q97.5,111.9375 96.5469,110.9063 Q95.6094,109.8594 95.6094,108.0156 L95.6094,101.125 L97.6719,101.125 L97.6719,101.2813 Q97.5781,101.375 97.5469,101.5156 Q97.5313,101.6406 97.5313,101.9063 L97.5313,108.0313 Q97.5313,109.125 97.9063,109.75 Q98.2813,110.375 99.2656,110.375 Q100.25,110.375 100.6406,109.75 Q101.0313,109.125 101.0313,107.9844 L101.0313,101.125 L102.9063,101.125 L102.9063,107.9688 Q102.9063,110 101.875,110.9688 Q100.8594,111.9375 99.25,111.9375 Z \"/><text fill=\"#000000\" font-family=\"sans-serif\" font-size=\"12\" font-style=\"italic\" lengthAdjust=\"spacingAndGlyphs\" textLength=\"69\" x=\"111.5\" y=\"103.6387\">«attribute»</text><text fill=\"#000000\" font-family=\"sans-serif\" font-size=\"12\" lengthAdjust=\"spacingAndGlyphs\" textLength=\"5\" x=\"143.5\" y=\"117.6074\">z</text><line style=\"stroke: #A80036; stroke-width: 1.5;\" x1=\"85.5\" x2=\"180.5\" y1=\"125.4375\" y2=\"125.4375\"/></a><a href=\"psysml:03aab854-f405-4fcc-aa77-08da242f79f1\" target=\"_top\" title=\"psysml:03aab854-f405-4fcc-aa77-08da242f79f1\" xlink:actuate=\"onRequest\" xlink:href=\"psysml:03aab854-f405-4fcc-aa77-08da242f79f1\" xlink:show=\"new\" xlink:title=\"psysml:03aab854-f405-4fcc-aa77-08da242f79f1\" xlink:type=\"simple\"><polygon fill=\"#FFFFFF\" filter=\"url(#fzr26372eicdd)\" points=\"292.5,84,413.5,84,420.5,106.2969,427.5,106.2969,427.5,136.5938,292.5,136.5938,292.5,84\" style=\"stroke: #000000; stroke-width: 1.5;\"/><line style=\"stroke: #000000; stroke-width: 1.5;\" x1=\"292.5\" x2=\"420.5\" y1=\"106.2969\" y2=\"106.2969\"/><text fill=\"#000000\" font-family=\"sans-serif\" font-size=\"14\" font-weight=\"bold\" lengthAdjust=\"spacingAndGlyphs\" textLength=\"115\" x=\"296.5\" y=\"98.9951\">Application Layer</text></a><a href=\"psysml:ad996126-15a5-42e2-8928-0fb76718612c\" target=\"_top\" title=\"psysml:ad996126-15a5-42e2-8928-0fb76718612c\" xlink:actuate=\"onRequest\" xlink:href=\"psysml:ad996126-15a5-42e2-8928-0fb76718612c\" xlink:show=\"new\" xlink:title=\"psysml:ad996126-15a5-42e2-8928-0fb76718612c\" xlink:type=\"simple\"><polygon fill=\"#FFFFFF\" filter=\"url(#fzr26372eicdd)\" points=\"305,214,401,214,408,236.2969,415,236.2969,415,266.5938,305,266.5938,305,214\" style=\"stroke: #000000; stroke-width: 1.5;\"/><line style=\"stroke: #000000; stroke-width: 1.5;\" x1=\"305\" x2=\"408\" y1=\"236.2969\" y2=\"236.2969\"/><text fill=\"#000000\" font-family=\"sans-serif\" font-size=\"14\" font-weight=\"bold\" lengthAdjust=\"spacingAndGlyphs\" textLength=\"90\" x=\"309\" y=\"228.9951\">Service Layer</text></a><a href=\"psysml:17a101e7-475f-4fc3-82c9-609370bf1116\" target=\"_top\" title=\"psysml:17a101e7-475f-4fc3-82c9-609370bf1116\" xlink:actuate=\"onRequest\" xlink:href=\"psysml:17a101e7-475f-4fc3-82c9-609370bf1116\" xlink:show=\"new\" xlink:title=\"psysml:17a101e7-475f-4fc3-82c9-609370bf1116\" xlink:type=\"simple\"><polygon fill=\"#FFFFFF\" filter=\"url(#fzr26372eicdd)\" points=\"314,344,392,344,399,366.2969,406,366.2969,406,396.5938,314,396.5938,314,344\" style=\"stroke: #000000; stroke-width: 1.5;\"/><line style=\"stroke: #000000; stroke-width: 1.5;\" x1=\"314\" x2=\"399\" y1=\"366.2969\" y2=\"366.2969\"/><text fill=\"#000000\" font-family=\"sans-serif\" font-size=\"14\" font-weight=\"bold\" lengthAdjust=\"spacingAndGlyphs\" textLength=\"72\" x=\"318\" y=\"358.9951\">Data Layer</text></a><!--MD5=[af87c684e3b0d8be13c1a698a818ef1e]\n",
       "link E3 to E4--><a href=\"psysml:8bc3dbe9-cd72-4429-a15e-d6826987fc7c\" target=\"_top\" title=\"psysml:8bc3dbe9-cd72-4429-a15e-d6826987fc7c\" xlink:actuate=\"onRequest\" xlink:href=\"psysml:8bc3dbe9-cd72-4429-a15e-d6826987fc7c\" xlink:show=\"new\" xlink:title=\"psysml:8bc3dbe9-cd72-4429-a15e-d6826987fc7c\" xlink:type=\"simple\"><path d=\"M360,137.1 C360,156.8 360,184.22 360,205.73 \" fill=\"none\" id=\"E3-&gt;E4\" style=\"stroke: #A80036; stroke-width: 1.0; stroke-dasharray: 7.0,7.0;\"/><polygon fill=\"#A80036\" points=\"360,213.95,363,205.95,357,205.95,360,213.95\" style=\"stroke: #A80036; stroke-width: 1.0;\"/><text fill=\"#000000\" font-family=\"sans-serif\" font-size=\"13\" lengthAdjust=\"spacingAndGlyphs\" textLength=\"64\" x=\"361\" y=\"180.0669\">«depend»</text></a><!--MD5=[1b7591eae5389033d8d09a9d6721a717]\n",
       "link E4 to E5--><a href=\"psysml:a5d569dd-f966-4325-8014-b1c593712f38\" target=\"_top\" title=\"psysml:a5d569dd-f966-4325-8014-b1c593712f38\" xlink:actuate=\"onRequest\" xlink:href=\"psysml:a5d569dd-f966-4325-8014-b1c593712f38\" xlink:show=\"new\" xlink:title=\"psysml:a5d569dd-f966-4325-8014-b1c593712f38\" xlink:type=\"simple\"><path d=\"M360,267.1 C360,286.8 360,314.22 360,335.73 \" fill=\"none\" id=\"E4-&gt;E5\" style=\"stroke: #A80036; stroke-width: 1.0; stroke-dasharray: 7.0,7.0;\"/><polygon fill=\"#A80036\" points=\"360,343.95,363,335.95,357,335.95,360,343.95\" style=\"stroke: #A80036; stroke-width: 1.0;\"/><text fill=\"#000000\" font-family=\"sans-serif\" font-size=\"13\" lengthAdjust=\"spacingAndGlyphs\" textLength=\"64\" x=\"361\" y=\"310.0669\">«depend»</text></a><!--MD5=[c5e8897d989ce984f93528998a7150fe]\n",
       "link E8 to E6--><a href=\"psysml:e9cc0fc6-3b4b-4571-a4a8-99018107eac1\" target=\"_top\" title=\"psysml:e9cc0fc6-3b4b-4571-a4a8-99018107eac1\" xlink:actuate=\"onRequest\" xlink:href=\"psysml:e9cc0fc6-3b4b-4571-a4a8-99018107eac1\" xlink:show=\"new\" xlink:title=\"psysml:e9cc0fc6-3b4b-4571-a4a8-99018107eac1\" xlink:type=\"simple\"><path d=\"M106.44,133.76 C97.3,143.01 88.09,154.51 83,167 C77.6,180.23 76.4,195.98 76.73,209.41 \" fill=\"none\" id=\"E8-&gt;E6\" style=\"stroke: #A80036; stroke-width: 1.0; stroke-dasharray: 7.0,7.0;\"/><polygon fill=\"#A80036\" points=\"77.12,217.43,79.7306,209.2946,73.7375,209.584,77.12,217.43\" style=\"stroke: #A80036; stroke-width: 1.0;\"/><text fill=\"#000000\" font-family=\"sans-serif\" font-size=\"13\" lengthAdjust=\"spacingAndGlyphs\" textLength=\"64\" x=\"84\" y=\"180.0669\">«depend»</text></a><!--MD5=[bfa3c8b0d15052fdf50ae9310b491027]\n",
       "link E8 to E7--><a href=\"psysml:e9cc0fc6-3b4b-4571-a4a8-99018107eac1\" target=\"_top\" title=\"psysml:e9cc0fc6-3b4b-4571-a4a8-99018107eac1\" xlink:actuate=\"onRequest\" xlink:href=\"psysml:e9cc0fc6-3b4b-4571-a4a8-99018107eac1\" xlink:show=\"new\" xlink:title=\"psysml:e9cc0fc6-3b4b-4571-a4a8-99018107eac1\" xlink:type=\"simple\"><path d=\"M146.58,133.5 C159.69,154.75 179.63,187.05 194.05,210.41 \" fill=\"none\" id=\"E8-&gt;E7\" style=\"stroke: #A80036; stroke-width: 1.0; stroke-dasharray: 7.0,7.0;\"/><polygon fill=\"#A80036\" points=\"198.33,217.35,196.6785,208.9671,191.5737,212.1201,198.33,217.35\" style=\"stroke: #A80036; stroke-width: 1.0;\"/><text fill=\"#000000\" font-family=\"sans-serif\" font-size=\"13\" lengthAdjust=\"spacingAndGlyphs\" textLength=\"64\" x=\"178\" y=\"180.0669\">«depend»</text></a><!--MD5=[556000e2a2e8645a0c190d4f4d075aa9]\n",
       "@startuml\r\n",
       " \r\n",
       "package \"DependencyTest\" as E1  [[psysml:d3869743-6750-4f05-a5ce-51c4137f7251 ]]  {\r\n",
       "package \"System\" as E2  [[psysml:6b74be88-9b37-4afd-8ab0-bbd062a94e7e ]]  {\r\n",
       "package \"Application Layer\" as E3  [[psysml:03aab854-f405-4fcc-aa77-08da242f79f1 ]]  {\r\n",
       "}\r\n",
       "package \"Service Layer\" as E4  [[psysml:ad996126-15a5-42e2-8928-0fb76718612c ]]  {\r\n",
       "}\r\n",
       "package \"Data Layer\" as E5  [[psysml:17a101e7-475f-4fc3-82c9-609370bf1116 ]]  {\r\n",
       "}\r\n",
       "}\r\n",
       "comp usage \"x\" as E6 << <<(U,orange) attribute>> [[psysml:881809a4-48f2-4fe8-9827-6dde0f998bab ]] {\r\n",
       "}\r\n",
       "comp usage \"y\" as E7 << <<(U,orange) attribute>> [[psysml:190ef100-b940-43fb-97f3-4b9e1cd4417f ]] {\r\n",
       "}\r\n",
       "comp usage \"z\" as E8 << <<(U,orange) attribute>> [[psysml:293eb67f-3e12-4287-ab19-bcded2d3124c ]] {\r\n",
       "}\r\n",
       "}\r\n",
       "E3 ..>> E4 [[psysml:8bc3dbe9-cd72-4429-a15e-d6826987fc7c ]] : <<depend>>\r\n",
       "E4 ..>> E5 [[psysml:a5d569dd-f966-4325-8014-b1c593712f38 ]] : <<depend>>\r\n",
       "E8 ..>> E6 [[psysml:e9cc0fc6-3b4b-4571-a4a8-99018107eac1 ]] : <<depend>>\r\n",
       "E8 ..>> E7 [[psysml:e9cc0fc6-3b4b-4571-a4a8-99018107eac1 ]] : <<depend>>\r\n",
       "@enduml\r\n",
       "\n",
       "PlantUML version 1.2020.13(Sat Jun 13 12:26:38 UTC 2020)\n",
       "(EPL source distribution)\n",
       "Java Runtime: OpenJDK Runtime Environment\n",
       "JVM: OpenJDK 64-Bit Server VM\n",
       "Default Encoding: UTF-8\n",
       "Language: en\n",
       "Country: null\n",
       "--></g></svg>"
      ]
     },
     "execution_count": 31,
     "metadata": {},
     "output_type": "execute_result"
    }
   ],
   "source": [
    "%viz --style=\"PLANTUML\" --view=\"Tree\" \"DependencyTest\""
   ]
  },
  {
   "cell_type": "code",
   "execution_count": 32,
   "id": "6c75a8bf",
   "metadata": {
    "execution": {
     "iopub.execute_input": "2021-10-03T08:27:19.973035Z",
     "iopub.status.busy": "2021-10-03T08:27:19.972414Z",
     "iopub.status.idle": "2021-10-03T08:27:20.071032Z",
     "shell.execute_reply": "2021-10-03T08:27:20.068571Z"
    }
   },
   "outputs": [
    {
     "data": {
      "image/svg+xml": [
       "<?xml version=\"1.0\" encoding=\"UTF-8\" standalone=\"no\"?><svg xmlns=\"http://www.w3.org/2000/svg\" xmlns:xlink=\"http://www.w3.org/1999/xlink\" contentScriptType=\"application/ecmascript\" contentStyleType=\"text/css\" height=\"300px\" preserveAspectRatio=\"none\" style=\"width:603px;height:300px;background:#000000;\" version=\"1.1\" viewBox=\"0 0 603 300\" width=\"603px\" zoomAndPan=\"magnify\"><defs/><g><rect fill=\"#11230F\" height=\"1\" style=\"stroke: #11230F; stroke-width: 1.0;\" width=\"1\" x=\"0\" y=\"0\"/><rect fill=\"#FFFFFF\" height=\"202.8012\" style=\"stroke: #FFFFFF; stroke-width: 1.0;\" width=\"602\" x=\"0\" y=\"0\"/><text fill=\"#000000\" font-family=\"sans-serif\" font-size=\"12\" font-weight=\"bold\" lengthAdjust=\"spacingAndGlyphs\" textLength=\"139\" x=\"5\" y=\"16.1387\">Welcome to PlantUML!</text><text fill=\"#000000\" font-family=\"sans-serif\" font-size=\"12\" lengthAdjust=\"spacingAndGlyphs\" textLength=\"0\" x=\"9\" y=\"30.1074\"/><text fill=\"#000000\" font-family=\"sans-serif\" font-size=\"12\" lengthAdjust=\"spacingAndGlyphs\" textLength=\"293\" x=\"5\" y=\"44.0762\">If you use this software, you accept its license.</text><text fill=\"#000000\" font-family=\"sans-serif\" font-size=\"12\" lengthAdjust=\"spacingAndGlyphs\" textLength=\"107\" x=\"5\" y=\"58.0449\">(details by typing</text><text fill=\"#000000\" font-family=\"monospace\" font-size=\"12\" lengthAdjust=\"spacingAndGlyphs\" textLength=\"42\" x=\"116\" y=\"58.595\">license</text><text fill=\"#000000\" font-family=\"sans-serif\" font-size=\"12\" lengthAdjust=\"spacingAndGlyphs\" textLength=\"56\" x=\"162\" y=\"58.0449\">keyword)</text><text fill=\"#000000\" font-family=\"sans-serif\" font-size=\"12\" lengthAdjust=\"spacingAndGlyphs\" textLength=\"0\" x=\"9\" y=\"72.0137\"/><text fill=\"#000000\" font-family=\"sans-serif\" font-size=\"12\" lengthAdjust=\"spacingAndGlyphs\" textLength=\"283\" x=\"5\" y=\"85.9824\">You can start with a simple UML Diagram like:</text><text fill=\"#000000\" font-family=\"sans-serif\" font-size=\"12\" lengthAdjust=\"spacingAndGlyphs\" textLength=\"0\" x=\"9\" y=\"99.9512\"/><text fill=\"#000000\" font-family=\"monospace\" font-size=\"12\" lengthAdjust=\"spacingAndGlyphs\" textLength=\"102\" x=\"5\" y=\"113.0893\">Bob-&gt;Alice: Hello</text><text fill=\"#000000\" font-family=\"sans-serif\" font-size=\"12\" lengthAdjust=\"spacingAndGlyphs\" textLength=\"0\" x=\"9\" y=\"126.508\"/><text fill=\"#000000\" font-family=\"sans-serif\" font-size=\"12\" lengthAdjust=\"spacingAndGlyphs\" textLength=\"14\" x=\"5\" y=\"140.4768\">Or</text><text fill=\"#000000\" font-family=\"sans-serif\" font-size=\"12\" lengthAdjust=\"spacingAndGlyphs\" textLength=\"0\" x=\"9\" y=\"154.4455\"/><text fill=\"#000000\" font-family=\"monospace\" font-size=\"12\" lengthAdjust=\"spacingAndGlyphs\" textLength=\"78\" x=\"5\" y=\"167.5837\">class Example</text><text fill=\"#000000\" font-family=\"sans-serif\" font-size=\"12\" lengthAdjust=\"spacingAndGlyphs\" textLength=\"0\" x=\"9\" y=\"181.0023\"/><text fill=\"#000000\" font-family=\"sans-serif\" font-size=\"12\" lengthAdjust=\"spacingAndGlyphs\" textLength=\"349\" x=\"5\" y=\"194.9711\">You will find more information about PlantUML syntax on</text><text fill=\"#000000\" font-family=\"sans-serif\" font-size=\"12\" lengthAdjust=\"spacingAndGlyphs\" text-decoration=\"underline\" textLength=\"129\" x=\"358\" y=\"194.9711\">https://plantuml.com</text><image height=\"71\" width=\"80\" x=\"516\" xlink:href=\"data:image/png;base64,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\" y=\"6\"/><rect fill=\"#000000\" height=\"96.4844\" style=\"stroke: #000000; stroke-width: 1.0;\" width=\"602\" x=\"0\" y=\"202.8012\"/><rect fill=\"#33FF02\" height=\"21.2969\" style=\"stroke: #33FF02; stroke-width: 1.0;\" width=\"145\" x=\"5\" y=\"207.8012\"/><text fill=\"#000000\" font-family=\"sans-serif\" font-size=\"14\" font-weight=\"bold\" lengthAdjust=\"spacingAndGlyphs\" textLength=\"143\" x=\"6\" y=\"222.8012\">[From string (line 2) ]</text><text fill=\"#33FF02\" font-family=\"sans-serif\" font-size=\"14\" font-weight=\"bold\" lengthAdjust=\"spacingAndGlyphs\" textLength=\"0\" x=\"9\" y=\"243.0981\"/><text fill=\"#33FF02\" font-family=\"sans-serif\" font-size=\"14\" font-weight=\"bold\" lengthAdjust=\"spacingAndGlyphs\" textLength=\"70\" x=\"5\" y=\"259.3949\">@startuml</text><text fill=\"#33FF02\" font-family=\"sans-serif\" font-size=\"14\" font-weight=\"bold\" lengthAdjust=\"spacingAndGlyphs\" textLength=\"0\" x=\"9\" y=\"275.6918\"/><text fill=\"#FF0000\" font-family=\"sans-serif\" font-size=\"14\" font-weight=\"bold\" lengthAdjust=\"spacingAndGlyphs\" textLength=\"124\" x=\"9\" y=\"291.9887\">Empty description</text><!--MD5=[f59edd8218d337f74d0c332fc6737304]\n",
       "@startuml\r\n",
       " \r\n",
       "@enduml\r\n",
       "\n",
       "PlantUML version 1.2020.13(Sat Jun 13 12:26:38 UTC 2020)\n",
       "(EPL source distribution)\n",
       "Java Runtime: OpenJDK Runtime Environment\n",
       "JVM: OpenJDK 64-Bit Server VM\n",
       "Default Encoding: UTF-8\n",
       "Language: en\n",
       "Country: null\n",
       "--></g></svg>"
      ]
     },
     "execution_count": 32,
     "metadata": {},
     "output_type": "execute_result"
    }
   ],
   "source": [
    "%viz --style=\"PLANTUML\" --view=\"State\" \"DependencyTest\""
   ]
  },
  {
   "cell_type": "code",
   "execution_count": 33,
   "id": "7f6589ee",
   "metadata": {
    "execution": {
     "iopub.execute_input": "2021-10-03T08:27:20.119300Z",
     "iopub.status.busy": "2021-10-03T08:27:20.118718Z",
     "iopub.status.idle": "2021-10-03T08:27:20.152081Z",
     "shell.execute_reply": "2021-10-03T08:27:20.151676Z"
    }
   },
   "outputs": [
    {
     "data": {
      "image/svg+xml": [
       "<?xml version=\"1.0\" encoding=\"UTF-8\" standalone=\"no\"?><svg xmlns=\"http://www.w3.org/2000/svg\" xmlns:xlink=\"http://www.w3.org/1999/xlink\" contentScriptType=\"application/ecmascript\" contentStyleType=\"text/css\" height=\"361px\" preserveAspectRatio=\"none\" style=\"width:490px;height:361px;\" version=\"1.1\" viewBox=\"0 0 490 361\" width=\"490px\" zoomAndPan=\"magnify\"><defs><filter height=\"300%\" id=\"fsu603bm5tsfq\" width=\"300%\" x=\"-1\" y=\"-1\"><feGaussianBlur result=\"blurOut\" stdDeviation=\"2.0\"/><feColorMatrix in=\"blurOut\" result=\"blurOut2\" type=\"matrix\" values=\"0 0 0 0 0 0 0 0 0 0 0 0 0 0 0 0 0 0 .4 0\"/><feOffset dx=\"4.0\" dy=\"4.0\" in=\"blurOut2\" result=\"blurOut3\"/><feBlend in=\"SourceGraphic\" in2=\"blurOut3\" mode=\"normal\"/></filter></defs><g><!--MD5=[fbc87193dbaf4d95561dea2c320d4a47]\n",
       "cluster E1--><a href=\"psysml:d3869743-6750-4f05-a5ce-51c4137f7251\" target=\"_top\" title=\"psysml:d3869743-6750-4f05-a5ce-51c4137f7251\" xlink:actuate=\"onRequest\" xlink:href=\"psysml:d3869743-6750-4f05-a5ce-51c4137f7251\" xlink:show=\"new\" xlink:title=\"psysml:d3869743-6750-4f05-a5ce-51c4137f7251\" xlink:type=\"simple\"><polygon fill=\"#FFFFFF\" filter=\"url(#fsu603bm5tsfq)\" points=\"16,6,142,6,149,28.2969,468,28.2969,468,349,16,349,16,6\" style=\"stroke: #000000; stroke-width: 1.5;\"/><line style=\"stroke: #000000; stroke-width: 1.5;\" x1=\"16\" x2=\"149\" y1=\"28.2969\" y2=\"28.2969\"/><text fill=\"#000000\" font-family=\"sans-serif\" font-size=\"14\" font-weight=\"bold\" lengthAdjust=\"spacingAndGlyphs\" textLength=\"120\" x=\"20\" y=\"20.9951\">DependencyTest</text></a><!--MD5=[e4f7fae6ed58524ba242bb0b0d3be6b7]\n",
       "cluster E2--><a href=\"psysml:6b74be88-9b37-4afd-8ab0-bbd062a94e7e\" target=\"_top\" title=\"psysml:6b74be88-9b37-4afd-8ab0-bbd062a94e7e\" xlink:actuate=\"onRequest\" xlink:href=\"psysml:6b74be88-9b37-4afd-8ab0-bbd062a94e7e\" xlink:show=\"new\" xlink:title=\"psysml:6b74be88-9b37-4afd-8ab0-bbd062a94e7e\" xlink:type=\"simple\"><polygon fill=\"#FFFFFF\" filter=\"url(#fsu603bm5tsfq)\" points=\"276,49,333,49,340,71.2969,444,71.2969,444,325,276,325,276,49\" style=\"stroke: #000000; stroke-width: 1.5;\"/><line style=\"stroke: #000000; stroke-width: 1.5;\" x1=\"276\" x2=\"340\" y1=\"71.2969\" y2=\"71.2969\"/><text fill=\"#000000\" font-family=\"sans-serif\" font-size=\"14\" font-weight=\"bold\" lengthAdjust=\"spacingAndGlyphs\" textLength=\"51\" x=\"280\" y=\"63.9951\">System</text></a><!--MD5=[60a26617385b1d2d0262a64233df1f8d]\n",
       "class E6--><a href=\"psysml:881809a4-48f2-4fe8-9827-6dde0f998bab\" target=\"_top\" title=\"psysml:881809a4-48f2-4fe8-9827-6dde0f998bab\" xlink:actuate=\"onRequest\" xlink:href=\"psysml:881809a4-48f2-4fe8-9827-6dde0f998bab\" xlink:show=\"new\" xlink:title=\"psysml:881809a4-48f2-4fe8-9827-6dde0f998bab\" xlink:type=\"simple\"><rect fill=\"#FEFECE\" filter=\"url(#fsu603bm5tsfq)\" height=\"45.9375\" id=\"E6\" rx=\"10\" ry=\"10\" style=\"stroke: #A80036; stroke-width: 1.5;\" width=\"97\" x=\"31.5\" y=\"173.5\"/><ellipse cx=\"46.5\" cy=\"192.4688\" fill=\"#FFA500\" rx=\"11\" ry=\"11\" style=\"stroke: #A80036; stroke-width: 1.0;\"/><path d=\"M46.25,197.9375 Q44.5,197.9375 43.5469,196.9063 Q42.6094,195.8594 42.6094,194.0156 L42.6094,187.125 L44.6719,187.125 L44.6719,187.2813 Q44.5781,187.375 44.5469,187.5156 Q44.5313,187.6406 44.5313,187.9063 L44.5313,194.0313 Q44.5313,195.125 44.9063,195.75 Q45.2813,196.375 46.2656,196.375 Q47.25,196.375 47.6406,195.75 Q48.0313,195.125 48.0313,193.9844 L48.0313,187.125 L49.9063,187.125 L49.9063,193.9688 Q49.9063,196 48.875,196.9688 Q47.8594,197.9375 46.25,197.9375 Z \"/><text fill=\"#000000\" font-family=\"sans-serif\" font-size=\"12\" font-style=\"italic\" lengthAdjust=\"spacingAndGlyphs\" textLength=\"69\" x=\"58.5\" y=\"189.6387\">«attribute»</text><text fill=\"#000000\" font-family=\"sans-serif\" font-size=\"12\" lengthAdjust=\"spacingAndGlyphs\" textLength=\"6\" x=\"90\" y=\"203.6074\">x</text><line style=\"stroke: #A80036; stroke-width: 1.5;\" x1=\"32.5\" x2=\"127.5\" y1=\"211.4375\" y2=\"211.4375\"/></a><!--MD5=[2156ba9850f5573cc1fc38a6a4b2f02b]\n",
       "class E7--><a href=\"psysml:190ef100-b940-43fb-97f3-4b9e1cd4417f\" target=\"_top\" title=\"psysml:190ef100-b940-43fb-97f3-4b9e1cd4417f\" xlink:actuate=\"onRequest\" xlink:href=\"psysml:190ef100-b940-43fb-97f3-4b9e1cd4417f\" xlink:show=\"new\" xlink:title=\"psysml:190ef100-b940-43fb-97f3-4b9e1cd4417f\" xlink:type=\"simple\"><rect fill=\"#FEFECE\" filter=\"url(#fsu603bm5tsfq)\" height=\"45.9375\" id=\"E7\" rx=\"10\" ry=\"10\" style=\"stroke: #A80036; stroke-width: 1.5;\" width=\"97\" x=\"163.5\" y=\"173.5\"/><ellipse cx=\"178.5\" cy=\"192.4688\" fill=\"#FFA500\" rx=\"11\" ry=\"11\" style=\"stroke: #A80036; stroke-width: 1.0;\"/><path d=\"M178.25,197.9375 Q176.5,197.9375 175.5469,196.9063 Q174.6094,195.8594 174.6094,194.0156 L174.6094,187.125 L176.6719,187.125 L176.6719,187.2813 Q176.5781,187.375 176.5469,187.5156 Q176.5313,187.6406 176.5313,187.9063 L176.5313,194.0313 Q176.5313,195.125 176.9063,195.75 Q177.2813,196.375 178.2656,196.375 Q179.25,196.375 179.6406,195.75 Q180.0313,195.125 180.0313,193.9844 L180.0313,187.125 L181.9063,187.125 L181.9063,193.9688 Q181.9063,196 180.875,196.9688 Q179.8594,197.9375 178.25,197.9375 Z \"/><text fill=\"#000000\" font-family=\"sans-serif\" font-size=\"12\" font-style=\"italic\" lengthAdjust=\"spacingAndGlyphs\" textLength=\"69\" x=\"190.5\" y=\"189.6387\">«attribute»</text><text fill=\"#000000\" font-family=\"sans-serif\" font-size=\"12\" lengthAdjust=\"spacingAndGlyphs\" textLength=\"6\" x=\"222\" y=\"203.6074\">y</text><line style=\"stroke: #A80036; stroke-width: 1.5;\" x1=\"164.5\" x2=\"259.5\" y1=\"211.4375\" y2=\"211.4375\"/></a><!--MD5=[b9389687b975829384b498ac4b7476b2]\n",
       "class E8--><a href=\"psysml:293eb67f-3e12-4287-ab19-bcded2d3124c\" target=\"_top\" title=\"psysml:293eb67f-3e12-4287-ab19-bcded2d3124c\" xlink:actuate=\"onRequest\" xlink:href=\"psysml:293eb67f-3e12-4287-ab19-bcded2d3124c\" xlink:show=\"new\" xlink:title=\"psysml:293eb67f-3e12-4287-ab19-bcded2d3124c\" xlink:type=\"simple\"><rect fill=\"#FEFECE\" filter=\"url(#fsu603bm5tsfq)\" height=\"45.9375\" id=\"E8\" rx=\"10\" ry=\"10\" style=\"stroke: #A80036; stroke-width: 1.5;\" width=\"97\" x=\"84.5\" y=\"87.5\"/><ellipse cx=\"99.5\" cy=\"106.4688\" fill=\"#FFA500\" rx=\"11\" ry=\"11\" style=\"stroke: #A80036; stroke-width: 1.0;\"/><path d=\"M99.25,111.9375 Q97.5,111.9375 96.5469,110.9063 Q95.6094,109.8594 95.6094,108.0156 L95.6094,101.125 L97.6719,101.125 L97.6719,101.2813 Q97.5781,101.375 97.5469,101.5156 Q97.5313,101.6406 97.5313,101.9063 L97.5313,108.0313 Q97.5313,109.125 97.9063,109.75 Q98.2813,110.375 99.2656,110.375 Q100.25,110.375 100.6406,109.75 Q101.0313,109.125 101.0313,107.9844 L101.0313,101.125 L102.9063,101.125 L102.9063,107.9688 Q102.9063,110 101.875,110.9688 Q100.8594,111.9375 99.25,111.9375 Z \"/><text fill=\"#000000\" font-family=\"sans-serif\" font-size=\"12\" font-style=\"italic\" lengthAdjust=\"spacingAndGlyphs\" textLength=\"69\" x=\"111.5\" y=\"103.6387\">«attribute»</text><text fill=\"#000000\" font-family=\"sans-serif\" font-size=\"12\" lengthAdjust=\"spacingAndGlyphs\" textLength=\"5\" x=\"143.5\" y=\"117.6074\">z</text><line style=\"stroke: #A80036; stroke-width: 1.5;\" x1=\"85.5\" x2=\"180.5\" y1=\"125.4375\" y2=\"125.4375\"/></a><a href=\"psysml:03aab854-f405-4fcc-aa77-08da242f79f1\" target=\"_top\" title=\"psysml:03aab854-f405-4fcc-aa77-08da242f79f1\" xlink:actuate=\"onRequest\" xlink:href=\"psysml:03aab854-f405-4fcc-aa77-08da242f79f1\" xlink:show=\"new\" xlink:title=\"psysml:03aab854-f405-4fcc-aa77-08da242f79f1\" xlink:type=\"simple\"><polygon fill=\"#FFFFFF\" filter=\"url(#fsu603bm5tsfq)\" points=\"292.5,84,413.5,84,420.5,106.2969,427.5,106.2969,427.5,136.5938,292.5,136.5938,292.5,84\" style=\"stroke: #000000; stroke-width: 1.5;\"/><line style=\"stroke: #000000; stroke-width: 1.5;\" x1=\"292.5\" x2=\"420.5\" y1=\"106.2969\" y2=\"106.2969\"/><text fill=\"#000000\" font-family=\"sans-serif\" font-size=\"14\" font-weight=\"bold\" lengthAdjust=\"spacingAndGlyphs\" textLength=\"115\" x=\"296.5\" y=\"98.9951\">Application Layer</text></a><a href=\"psysml:ad996126-15a5-42e2-8928-0fb76718612c\" target=\"_top\" title=\"psysml:ad996126-15a5-42e2-8928-0fb76718612c\" xlink:actuate=\"onRequest\" xlink:href=\"psysml:ad996126-15a5-42e2-8928-0fb76718612c\" xlink:show=\"new\" xlink:title=\"psysml:ad996126-15a5-42e2-8928-0fb76718612c\" xlink:type=\"simple\"><polygon fill=\"#FFFFFF\" filter=\"url(#fsu603bm5tsfq)\" points=\"305,170,401,170,408,192.2969,415,192.2969,415,222.5938,305,222.5938,305,170\" style=\"stroke: #000000; stroke-width: 1.5;\"/><line style=\"stroke: #000000; stroke-width: 1.5;\" x1=\"305\" x2=\"408\" y1=\"192.2969\" y2=\"192.2969\"/><text fill=\"#000000\" font-family=\"sans-serif\" font-size=\"14\" font-weight=\"bold\" lengthAdjust=\"spacingAndGlyphs\" textLength=\"90\" x=\"309\" y=\"184.9951\">Service Layer</text></a><a href=\"psysml:17a101e7-475f-4fc3-82c9-609370bf1116\" target=\"_top\" title=\"psysml:17a101e7-475f-4fc3-82c9-609370bf1116\" xlink:actuate=\"onRequest\" xlink:href=\"psysml:17a101e7-475f-4fc3-82c9-609370bf1116\" xlink:show=\"new\" xlink:title=\"psysml:17a101e7-475f-4fc3-82c9-609370bf1116\" xlink:type=\"simple\"><polygon fill=\"#FFFFFF\" filter=\"url(#fsu603bm5tsfq)\" points=\"314,256,392,256,399,278.2969,406,278.2969,406,308.5938,314,308.5938,314,256\" style=\"stroke: #000000; stroke-width: 1.5;\"/><line style=\"stroke: #000000; stroke-width: 1.5;\" x1=\"314\" x2=\"399\" y1=\"278.2969\" y2=\"278.2969\"/><text fill=\"#000000\" font-family=\"sans-serif\" font-size=\"14\" font-weight=\"bold\" lengthAdjust=\"spacingAndGlyphs\" textLength=\"72\" x=\"318\" y=\"270.9951\">Data Layer</text></a><!--MD5=[af87c684e3b0d8be13c1a698a818ef1e]\n",
       "link E3 to E4--><a href=\"psysml:8bc3dbe9-cd72-4429-a15e-d6826987fc7c\" target=\"_top\" title=\"psysml:8bc3dbe9-cd72-4429-a15e-d6826987fc7c\" xlink:actuate=\"onRequest\" xlink:href=\"psysml:8bc3dbe9-cd72-4429-a15e-d6826987fc7c\" xlink:show=\"new\" xlink:title=\"psysml:8bc3dbe9-cd72-4429-a15e-d6826987fc7c\" xlink:type=\"simple\"><path d=\"M360,137.16 C360,144.98 360,153.69 360,161.94 \" fill=\"none\" id=\"E3-&gt;E4\" style=\"stroke: #A80036; stroke-width: 1.0; stroke-dasharray: 7.0,7.0;\"/><polygon fill=\"#A80036\" points=\"360,170,363,162,357,162,360,170\" style=\"stroke: #A80036; stroke-width: 1.0;\"/><text fill=\"#000000\" font-family=\"sans-serif\" font-size=\"13\" lengthAdjust=\"spacingAndGlyphs\" textLength=\"64\" x=\"361\" y=\"158.0669\">«depend»</text></a><!--MD5=[1b7591eae5389033d8d09a9d6721a717]\n",
       "link E4 to E5--><a href=\"psysml:a5d569dd-f966-4325-8014-b1c593712f38\" target=\"_top\" title=\"psysml:a5d569dd-f966-4325-8014-b1c593712f38\" xlink:actuate=\"onRequest\" xlink:href=\"psysml:a5d569dd-f966-4325-8014-b1c593712f38\" xlink:show=\"new\" xlink:title=\"psysml:a5d569dd-f966-4325-8014-b1c593712f38\" xlink:type=\"simple\"><path d=\"M360,223.16 C360,230.98 360,239.69 360,247.94 \" fill=\"none\" id=\"E4-&gt;E5\" style=\"stroke: #A80036; stroke-width: 1.0; stroke-dasharray: 7.0,7.0;\"/><polygon fill=\"#A80036\" points=\"360,256,363,248,357,248,360,256\" style=\"stroke: #A80036; stroke-width: 1.0;\"/><text fill=\"#000000\" font-family=\"sans-serif\" font-size=\"13\" lengthAdjust=\"spacingAndGlyphs\" textLength=\"64\" x=\"361\" y=\"244.0669\">«depend»</text></a><!--MD5=[c5e8897d989ce984f93528998a7150fe]\n",
       "link E8 to E6--><a href=\"psysml:e9cc0fc6-3b4b-4571-a4a8-99018107eac1\" target=\"_top\" title=\"psysml:e9cc0fc6-3b4b-4571-a4a8-99018107eac1\" xlink:actuate=\"onRequest\" xlink:href=\"psysml:e9cc0fc6-3b4b-4571-a4a8-99018107eac1\" xlink:show=\"new\" xlink:title=\"psysml:e9cc0fc6-3b4b-4571-a4a8-99018107eac1\" xlink:type=\"simple\"><path d=\"M92.08,133.72 C88.53,137.07 85.39,140.83 83,145 C79.52,151.08 77.92,158.28 77.36,165.3 \" fill=\"none\" id=\"E8-&gt;E6\" style=\"stroke: #A80036; stroke-width: 1.0; stroke-dasharray: 7.0,7.0;\"/><polygon fill=\"#A80036\" points=\"77.14,173.39,80.3531,165.4732,74.3553,165.3125,77.14,173.39\" style=\"stroke: #A80036; stroke-width: 1.0;\"/><text fill=\"#000000\" font-family=\"sans-serif\" font-size=\"13\" lengthAdjust=\"spacingAndGlyphs\" textLength=\"64\" x=\"84\" y=\"158.0669\">«depend»</text></a><!--MD5=[bfa3c8b0d15052fdf50ae9310b491027]\n",
       "link E8 to E7--><a href=\"psysml:e9cc0fc6-3b4b-4571-a4a8-99018107eac1\" target=\"_top\" title=\"psysml:e9cc0fc6-3b4b-4571-a4a8-99018107eac1\" xlink:actuate=\"onRequest\" xlink:href=\"psysml:e9cc0fc6-3b4b-4571-a4a8-99018107eac1\" xlink:show=\"new\" xlink:title=\"psysml:e9cc0fc6-3b4b-4571-a4a8-99018107eac1\" xlink:type=\"simple\"><path d=\"M153.76,133.57 C163.48,143.91 175.17,156.34 185.52,167.34 \" fill=\"none\" id=\"E8-&gt;E7\" style=\"stroke: #A80036; stroke-width: 1.0; stroke-dasharray: 7.0,7.0;\"/><polygon fill=\"#A80036\" points=\"191.11,173.29,187.8117,165.4083,183.4425,169.5205,191.11,173.29\" style=\"stroke: #A80036; stroke-width: 1.0;\"/><text fill=\"#000000\" font-family=\"sans-serif\" font-size=\"13\" lengthAdjust=\"spacingAndGlyphs\" textLength=\"64\" x=\"180\" y=\"158.0669\">«depend»</text></a><!--MD5=[810e8f49bf3627e916f69c18e4614ce0]\n",
       "@startuml\r\n",
       "skinparam ranksep 10\r\n",
       "skinparam rectangle {\r\n",
       " backgroundColor<<block>> LightGreen\r\n",
       "}\r\n",
       " \r\n",
       "package \"DependencyTest\" as E1  [[psysml:d3869743-6750-4f05-a5ce-51c4137f7251 ]]  {\r\n",
       "package \"System\" as E2  [[psysml:6b74be88-9b37-4afd-8ab0-bbd062a94e7e ]]  {\r\n",
       "package \"Application Layer\" as E3  [[psysml:03aab854-f405-4fcc-aa77-08da242f79f1 ]]  {\r\n",
       "}\r\n",
       "package \"Service Layer\" as E4  [[psysml:ad996126-15a5-42e2-8928-0fb76718612c ]]  {\r\n",
       "}\r\n",
       "package \"Data Layer\" as E5  [[psysml:17a101e7-475f-4fc3-82c9-609370bf1116 ]]  {\r\n",
       "}\r\n",
       "}\r\n",
       "comp usage \"x\" as E6 << <<(U,orange) attribute>> [[psysml:881809a4-48f2-4fe8-9827-6dde0f998bab ]] {\r\n",
       "}\r\n",
       "comp usage \"y\" as E7 << <<(U,orange) attribute>> [[psysml:190ef100-b940-43fb-97f3-4b9e1cd4417f ]] {\r\n",
       "}\r\n",
       "comp usage \"z\" as E8 << <<(U,orange) attribute>> [[psysml:293eb67f-3e12-4287-ab19-bcded2d3124c ]] {\r\n",
       "}\r\n",
       "}\r\n",
       "E3 ..>> E4 [[psysml:8bc3dbe9-cd72-4429-a15e-d6826987fc7c ]] : <<depend>>\r\n",
       "E4 ..>> E5 [[psysml:a5d569dd-f966-4325-8014-b1c593712f38 ]] : <<depend>>\r\n",
       "E8 ..>> E6 [[psysml:e9cc0fc6-3b4b-4571-a4a8-99018107eac1 ]] : <<depend>>\r\n",
       "E8 ..>> E7 [[psysml:e9cc0fc6-3b4b-4571-a4a8-99018107eac1 ]] : <<depend>>\r\n",
       "@enduml\r\n",
       "\n",
       "PlantUML version 1.2020.13(Sat Jun 13 12:26:38 UTC 2020)\n",
       "(EPL source distribution)\n",
       "Java Runtime: OpenJDK Runtime Environment\n",
       "JVM: OpenJDK 64-Bit Server VM\n",
       "Default Encoding: UTF-8\n",
       "Language: en\n",
       "Country: null\n",
       "--></g></svg>"
      ]
     },
     "execution_count": 33,
     "metadata": {},
     "output_type": "execute_result"
    }
   ],
   "source": [
    "%viz --style=\"PLANTUML\" --view=\"Interconnection\" \"DependencyTest\""
   ]
  },
  {
   "cell_type": "code",
   "execution_count": 34,
   "id": "c84f83fc",
   "metadata": {
    "execution": {
     "iopub.execute_input": "2021-10-03T08:27:20.201288Z",
     "iopub.status.busy": "2021-10-03T08:27:20.200674Z",
     "iopub.status.idle": "2021-10-03T08:27:20.206074Z",
     "shell.execute_reply": "2021-10-03T08:27:20.205707Z"
    }
   },
   "outputs": [
    {
     "data": {
      "image/svg+xml": [
       "<?xml version=\"1.0\" encoding=\"UTF-8\" standalone=\"no\"?><svg xmlns=\"http://www.w3.org/2000/svg\" xmlns:xlink=\"http://www.w3.org/1999/xlink\" contentScriptType=\"application/ecmascript\" contentStyleType=\"text/css\" height=\"12px\" preserveAspectRatio=\"none\" style=\"width:12px;height:12px;\" version=\"1.1\" viewBox=\"0 0 12 12\" width=\"12px\" zoomAndPan=\"magnify\"><defs/><g><!--MD5=[6a4cb978cab31700e1ce5529f947a75d]\n",
       "@startuml\r\n",
       "skinparam ranksep 8\r\n",
       " \r\n",
       "@enduml\r\n",
       "\n",
       "PlantUML version 1.2020.13(Sat Jun 13 12:26:38 UTC 2020)\n",
       "(EPL source distribution)\n",
       "Java Runtime: OpenJDK Runtime Environment\n",
       "JVM: OpenJDK 64-Bit Server VM\n",
       "Default Encoding: UTF-8\n",
       "Language: en\n",
       "Country: null\n",
       "--></g></svg>"
      ]
     },
     "execution_count": 34,
     "metadata": {},
     "output_type": "execute_result"
    }
   ],
   "source": [
    "%viz --style=\"PLANTUML\" --view=\"Action\" \"DependencyTest\""
   ]
  },
  {
   "cell_type": "code",
   "execution_count": 35,
   "id": "d937afbf",
   "metadata": {
    "execution": {
     "iopub.execute_input": "2021-10-03T08:27:20.255833Z",
     "iopub.status.busy": "2021-10-03T08:27:20.255190Z",
     "iopub.status.idle": "2021-10-03T08:27:20.260910Z",
     "shell.execute_reply": "2021-10-03T08:27:20.260548Z"
    }
   },
   "outputs": [
    {
     "data": {
      "image/svg+xml": [
       "<?xml version=\"1.0\" encoding=\"UTF-8\" standalone=\"no\"?><svg xmlns=\"http://www.w3.org/2000/svg\" xmlns:xlink=\"http://www.w3.org/1999/xlink\" contentScriptType=\"application/ecmascript\" contentStyleType=\"text/css\" height=\"12px\" preserveAspectRatio=\"none\" style=\"width:12px;height:12px;\" version=\"1.1\" viewBox=\"0 0 12 12\" width=\"12px\" zoomAndPan=\"magnify\"><defs/><g><!--MD5=[ca4faa0b02def275ea33c14ea7a1a98d]\n",
       "@startuml\r\n",
       "skinparam roundcorner 20\r\n",
       "skinparam BoxPadding 20\r\n",
       "skinparam SequenceBoxBackgroundColor #white\r\n",
       "skinparam style strictuml\r\n",
       "skinparam maxMessageSize 100\r\n",
       " \r\n",
       "@enduml\r\n",
       "\n",
       "PlantUML version 1.2020.13(Sat Jun 13 12:26:38 UTC 2020)\n",
       "(EPL source distribution)\n",
       "Java Runtime: OpenJDK Runtime Environment\n",
       "JVM: OpenJDK 64-Bit Server VM\n",
       "Default Encoding: UTF-8\n",
       "Language: en\n",
       "Country: null\n",
       "--></g></svg>"
      ]
     },
     "execution_count": 35,
     "metadata": {},
     "output_type": "execute_result"
    }
   ],
   "source": [
    "%viz --style=\"PLANTUML\" --view=\"Sequence\" \"DependencyTest\""
   ]
  },
  {
   "cell_type": "code",
   "execution_count": 36,
   "id": "ec7c14aa",
   "metadata": {
    "execution": {
     "iopub.execute_input": "2021-10-03T08:27:20.310646Z",
     "iopub.status.busy": "2021-10-03T08:27:20.310015Z",
     "iopub.status.idle": "2021-10-03T08:27:20.342481Z",
     "shell.execute_reply": "2021-10-03T08:27:20.340245Z"
    }
   },
   "outputs": [
    {
     "data": {
      "image/svg+xml": [
       "<?xml version=\"1.0\" encoding=\"UTF-8\" standalone=\"no\"?><svg xmlns=\"http://www.w3.org/2000/svg\" xmlns:xlink=\"http://www.w3.org/1999/xlink\" contentScriptType=\"application/ecmascript\" contentStyleType=\"text/css\" height=\"449px\" preserveAspectRatio=\"none\" style=\"width:490px;height:449px;\" version=\"1.1\" viewBox=\"0 0 490 449\" width=\"490px\" zoomAndPan=\"magnify\"><defs><filter height=\"300%\" id=\"fzr26372eicdd\" width=\"300%\" x=\"-1\" y=\"-1\"><feGaussianBlur result=\"blurOut\" stdDeviation=\"2.0\"/><feColorMatrix in=\"blurOut\" result=\"blurOut2\" type=\"matrix\" values=\"0 0 0 0 0 0 0 0 0 0 0 0 0 0 0 0 0 0 .4 0\"/><feOffset dx=\"4.0\" dy=\"4.0\" in=\"blurOut2\" result=\"blurOut3\"/><feBlend in=\"SourceGraphic\" in2=\"blurOut3\" mode=\"normal\"/></filter></defs><g><!--MD5=[fbc87193dbaf4d95561dea2c320d4a47]\n",
       "cluster E1--><a href=\"psysml:d3869743-6750-4f05-a5ce-51c4137f7251\" target=\"_top\" title=\"psysml:d3869743-6750-4f05-a5ce-51c4137f7251\" xlink:actuate=\"onRequest\" xlink:href=\"psysml:d3869743-6750-4f05-a5ce-51c4137f7251\" xlink:show=\"new\" xlink:title=\"psysml:d3869743-6750-4f05-a5ce-51c4137f7251\" xlink:type=\"simple\"><polygon fill=\"#FFFFFF\" filter=\"url(#fzr26372eicdd)\" points=\"16,6,142,6,149,28.2969,468,28.2969,468,437,16,437,16,6\" style=\"stroke: #000000; stroke-width: 1.5;\"/><line style=\"stroke: #000000; stroke-width: 1.5;\" x1=\"16\" x2=\"149\" y1=\"28.2969\" y2=\"28.2969\"/><text fill=\"#000000\" font-family=\"sans-serif\" font-size=\"14\" font-weight=\"bold\" lengthAdjust=\"spacingAndGlyphs\" textLength=\"120\" x=\"20\" y=\"20.9951\">DependencyTest</text></a><!--MD5=[e4f7fae6ed58524ba242bb0b0d3be6b7]\n",
       "cluster E2--><a href=\"psysml:6b74be88-9b37-4afd-8ab0-bbd062a94e7e\" target=\"_top\" title=\"psysml:6b74be88-9b37-4afd-8ab0-bbd062a94e7e\" xlink:actuate=\"onRequest\" xlink:href=\"psysml:6b74be88-9b37-4afd-8ab0-bbd062a94e7e\" xlink:show=\"new\" xlink:title=\"psysml:6b74be88-9b37-4afd-8ab0-bbd062a94e7e\" xlink:type=\"simple\"><polygon fill=\"#FFFFFF\" filter=\"url(#fzr26372eicdd)\" points=\"276,49,333,49,340,71.2969,444,71.2969,444,413,276,413,276,49\" style=\"stroke: #000000; stroke-width: 1.5;\"/><line style=\"stroke: #000000; stroke-width: 1.5;\" x1=\"276\" x2=\"340\" y1=\"71.2969\" y2=\"71.2969\"/><text fill=\"#000000\" font-family=\"sans-serif\" font-size=\"14\" font-weight=\"bold\" lengthAdjust=\"spacingAndGlyphs\" textLength=\"51\" x=\"280\" y=\"63.9951\">System</text></a><!--MD5=[60a26617385b1d2d0262a64233df1f8d]\n",
       "class E6--><a href=\"psysml:881809a4-48f2-4fe8-9827-6dde0f998bab\" target=\"_top\" title=\"psysml:881809a4-48f2-4fe8-9827-6dde0f998bab\" xlink:actuate=\"onRequest\" xlink:href=\"psysml:881809a4-48f2-4fe8-9827-6dde0f998bab\" xlink:show=\"new\" xlink:title=\"psysml:881809a4-48f2-4fe8-9827-6dde0f998bab\" xlink:type=\"simple\"><rect fill=\"#FEFECE\" filter=\"url(#fzr26372eicdd)\" height=\"45.9375\" id=\"E6\" rx=\"10\" ry=\"10\" style=\"stroke: #A80036; stroke-width: 1.5;\" width=\"97\" x=\"31.5\" y=\"217.5\"/><ellipse cx=\"46.5\" cy=\"236.4688\" fill=\"#FFA500\" rx=\"11\" ry=\"11\" style=\"stroke: #A80036; stroke-width: 1.0;\"/><path d=\"M46.25,241.9375 Q44.5,241.9375 43.5469,240.9063 Q42.6094,239.8594 42.6094,238.0156 L42.6094,231.125 L44.6719,231.125 L44.6719,231.2813 Q44.5781,231.375 44.5469,231.5156 Q44.5313,231.6406 44.5313,231.9063 L44.5313,238.0313 Q44.5313,239.125 44.9063,239.75 Q45.2813,240.375 46.2656,240.375 Q47.25,240.375 47.6406,239.75 Q48.0313,239.125 48.0313,237.9844 L48.0313,231.125 L49.9063,231.125 L49.9063,237.9688 Q49.9063,240 48.875,240.9688 Q47.8594,241.9375 46.25,241.9375 Z \"/><text fill=\"#000000\" font-family=\"sans-serif\" font-size=\"12\" font-style=\"italic\" lengthAdjust=\"spacingAndGlyphs\" textLength=\"69\" x=\"58.5\" y=\"233.6387\">«attribute»</text><text fill=\"#000000\" font-family=\"sans-serif\" font-size=\"12\" lengthAdjust=\"spacingAndGlyphs\" textLength=\"6\" x=\"90\" y=\"247.6074\">x</text><line style=\"stroke: #A80036; stroke-width: 1.5;\" x1=\"32.5\" x2=\"127.5\" y1=\"255.4375\" y2=\"255.4375\"/></a><!--MD5=[2156ba9850f5573cc1fc38a6a4b2f02b]\n",
       "class E7--><a href=\"psysml:190ef100-b940-43fb-97f3-4b9e1cd4417f\" target=\"_top\" title=\"psysml:190ef100-b940-43fb-97f3-4b9e1cd4417f\" xlink:actuate=\"onRequest\" xlink:href=\"psysml:190ef100-b940-43fb-97f3-4b9e1cd4417f\" xlink:show=\"new\" xlink:title=\"psysml:190ef100-b940-43fb-97f3-4b9e1cd4417f\" xlink:type=\"simple\"><rect fill=\"#FEFECE\" filter=\"url(#fzr26372eicdd)\" height=\"45.9375\" id=\"E7\" rx=\"10\" ry=\"10\" style=\"stroke: #A80036; stroke-width: 1.5;\" width=\"97\" x=\"163.5\" y=\"217.5\"/><ellipse cx=\"178.5\" cy=\"236.4688\" fill=\"#FFA500\" rx=\"11\" ry=\"11\" style=\"stroke: #A80036; stroke-width: 1.0;\"/><path d=\"M178.25,241.9375 Q176.5,241.9375 175.5469,240.9063 Q174.6094,239.8594 174.6094,238.0156 L174.6094,231.125 L176.6719,231.125 L176.6719,231.2813 Q176.5781,231.375 176.5469,231.5156 Q176.5313,231.6406 176.5313,231.9063 L176.5313,238.0313 Q176.5313,239.125 176.9063,239.75 Q177.2813,240.375 178.2656,240.375 Q179.25,240.375 179.6406,239.75 Q180.0313,239.125 180.0313,237.9844 L180.0313,231.125 L181.9063,231.125 L181.9063,237.9688 Q181.9063,240 180.875,240.9688 Q179.8594,241.9375 178.25,241.9375 Z \"/><text fill=\"#000000\" font-family=\"sans-serif\" font-size=\"12\" font-style=\"italic\" lengthAdjust=\"spacingAndGlyphs\" textLength=\"69\" x=\"190.5\" y=\"233.6387\">«attribute»</text><text fill=\"#000000\" font-family=\"sans-serif\" font-size=\"12\" lengthAdjust=\"spacingAndGlyphs\" textLength=\"6\" x=\"222\" y=\"247.6074\">y</text><line style=\"stroke: #A80036; stroke-width: 1.5;\" x1=\"164.5\" x2=\"259.5\" y1=\"255.4375\" y2=\"255.4375\"/></a><!--MD5=[b9389687b975829384b498ac4b7476b2]\n",
       "class E8--><a href=\"psysml:293eb67f-3e12-4287-ab19-bcded2d3124c\" target=\"_top\" title=\"psysml:293eb67f-3e12-4287-ab19-bcded2d3124c\" xlink:actuate=\"onRequest\" xlink:href=\"psysml:293eb67f-3e12-4287-ab19-bcded2d3124c\" xlink:show=\"new\" xlink:title=\"psysml:293eb67f-3e12-4287-ab19-bcded2d3124c\" xlink:type=\"simple\"><rect fill=\"#FEFECE\" filter=\"url(#fzr26372eicdd)\" height=\"45.9375\" id=\"E8\" rx=\"10\" ry=\"10\" style=\"stroke: #A80036; stroke-width: 1.5;\" width=\"97\" x=\"84.5\" y=\"87.5\"/><ellipse cx=\"99.5\" cy=\"106.4688\" fill=\"#FFA500\" rx=\"11\" ry=\"11\" style=\"stroke: #A80036; stroke-width: 1.0;\"/><path d=\"M99.25,111.9375 Q97.5,111.9375 96.5469,110.9063 Q95.6094,109.8594 95.6094,108.0156 L95.6094,101.125 L97.6719,101.125 L97.6719,101.2813 Q97.5781,101.375 97.5469,101.5156 Q97.5313,101.6406 97.5313,101.9063 L97.5313,108.0313 Q97.5313,109.125 97.9063,109.75 Q98.2813,110.375 99.2656,110.375 Q100.25,110.375 100.6406,109.75 Q101.0313,109.125 101.0313,107.9844 L101.0313,101.125 L102.9063,101.125 L102.9063,107.9688 Q102.9063,110 101.875,110.9688 Q100.8594,111.9375 99.25,111.9375 Z \"/><text fill=\"#000000\" font-family=\"sans-serif\" font-size=\"12\" font-style=\"italic\" lengthAdjust=\"spacingAndGlyphs\" textLength=\"69\" x=\"111.5\" y=\"103.6387\">«attribute»</text><text fill=\"#000000\" font-family=\"sans-serif\" font-size=\"12\" lengthAdjust=\"spacingAndGlyphs\" textLength=\"5\" x=\"143.5\" y=\"117.6074\">z</text><line style=\"stroke: #A80036; stroke-width: 1.5;\" x1=\"85.5\" x2=\"180.5\" y1=\"125.4375\" y2=\"125.4375\"/></a><a href=\"psysml:03aab854-f405-4fcc-aa77-08da242f79f1\" target=\"_top\" title=\"psysml:03aab854-f405-4fcc-aa77-08da242f79f1\" xlink:actuate=\"onRequest\" xlink:href=\"psysml:03aab854-f405-4fcc-aa77-08da242f79f1\" xlink:show=\"new\" xlink:title=\"psysml:03aab854-f405-4fcc-aa77-08da242f79f1\" xlink:type=\"simple\"><polygon fill=\"#FFFFFF\" filter=\"url(#fzr26372eicdd)\" points=\"292.5,84,413.5,84,420.5,106.2969,427.5,106.2969,427.5,136.5938,292.5,136.5938,292.5,84\" style=\"stroke: #000000; stroke-width: 1.5;\"/><line style=\"stroke: #000000; stroke-width: 1.5;\" x1=\"292.5\" x2=\"420.5\" y1=\"106.2969\" y2=\"106.2969\"/><text fill=\"#000000\" font-family=\"sans-serif\" font-size=\"14\" font-weight=\"bold\" lengthAdjust=\"spacingAndGlyphs\" textLength=\"115\" x=\"296.5\" y=\"98.9951\">Application Layer</text></a><a href=\"psysml:ad996126-15a5-42e2-8928-0fb76718612c\" target=\"_top\" title=\"psysml:ad996126-15a5-42e2-8928-0fb76718612c\" xlink:actuate=\"onRequest\" xlink:href=\"psysml:ad996126-15a5-42e2-8928-0fb76718612c\" xlink:show=\"new\" xlink:title=\"psysml:ad996126-15a5-42e2-8928-0fb76718612c\" xlink:type=\"simple\"><polygon fill=\"#FFFFFF\" filter=\"url(#fzr26372eicdd)\" points=\"305,214,401,214,408,236.2969,415,236.2969,415,266.5938,305,266.5938,305,214\" style=\"stroke: #000000; stroke-width: 1.5;\"/><line style=\"stroke: #000000; stroke-width: 1.5;\" x1=\"305\" x2=\"408\" y1=\"236.2969\" y2=\"236.2969\"/><text fill=\"#000000\" font-family=\"sans-serif\" font-size=\"14\" font-weight=\"bold\" lengthAdjust=\"spacingAndGlyphs\" textLength=\"90\" x=\"309\" y=\"228.9951\">Service Layer</text></a><a href=\"psysml:17a101e7-475f-4fc3-82c9-609370bf1116\" target=\"_top\" title=\"psysml:17a101e7-475f-4fc3-82c9-609370bf1116\" xlink:actuate=\"onRequest\" xlink:href=\"psysml:17a101e7-475f-4fc3-82c9-609370bf1116\" xlink:show=\"new\" xlink:title=\"psysml:17a101e7-475f-4fc3-82c9-609370bf1116\" xlink:type=\"simple\"><polygon fill=\"#FFFFFF\" filter=\"url(#fzr26372eicdd)\" points=\"314,344,392,344,399,366.2969,406,366.2969,406,396.5938,314,396.5938,314,344\" style=\"stroke: #000000; stroke-width: 1.5;\"/><line style=\"stroke: #000000; stroke-width: 1.5;\" x1=\"314\" x2=\"399\" y1=\"366.2969\" y2=\"366.2969\"/><text fill=\"#000000\" font-family=\"sans-serif\" font-size=\"14\" font-weight=\"bold\" lengthAdjust=\"spacingAndGlyphs\" textLength=\"72\" x=\"318\" y=\"358.9951\">Data Layer</text></a><!--MD5=[af87c684e3b0d8be13c1a698a818ef1e]\n",
       "link E3 to E4--><a href=\"psysml:8bc3dbe9-cd72-4429-a15e-d6826987fc7c\" target=\"_top\" title=\"psysml:8bc3dbe9-cd72-4429-a15e-d6826987fc7c\" xlink:actuate=\"onRequest\" xlink:href=\"psysml:8bc3dbe9-cd72-4429-a15e-d6826987fc7c\" xlink:show=\"new\" xlink:title=\"psysml:8bc3dbe9-cd72-4429-a15e-d6826987fc7c\" xlink:type=\"simple\"><path d=\"M360,137.1 C360,156.8 360,184.22 360,205.73 \" fill=\"none\" id=\"E3-&gt;E4\" style=\"stroke: #A80036; stroke-width: 1.0; stroke-dasharray: 7.0,7.0;\"/><polygon fill=\"#A80036\" points=\"360,213.95,363,205.95,357,205.95,360,213.95\" style=\"stroke: #A80036; stroke-width: 1.0;\"/><text fill=\"#000000\" font-family=\"sans-serif\" font-size=\"13\" lengthAdjust=\"spacingAndGlyphs\" textLength=\"64\" x=\"361\" y=\"180.0669\">«depend»</text></a><!--MD5=[1b7591eae5389033d8d09a9d6721a717]\n",
       "link E4 to E5--><a href=\"psysml:a5d569dd-f966-4325-8014-b1c593712f38\" target=\"_top\" title=\"psysml:a5d569dd-f966-4325-8014-b1c593712f38\" xlink:actuate=\"onRequest\" xlink:href=\"psysml:a5d569dd-f966-4325-8014-b1c593712f38\" xlink:show=\"new\" xlink:title=\"psysml:a5d569dd-f966-4325-8014-b1c593712f38\" xlink:type=\"simple\"><path d=\"M360,267.1 C360,286.8 360,314.22 360,335.73 \" fill=\"none\" id=\"E4-&gt;E5\" style=\"stroke: #A80036; stroke-width: 1.0; stroke-dasharray: 7.0,7.0;\"/><polygon fill=\"#A80036\" points=\"360,343.95,363,335.95,357,335.95,360,343.95\" style=\"stroke: #A80036; stroke-width: 1.0;\"/><text fill=\"#000000\" font-family=\"sans-serif\" font-size=\"13\" lengthAdjust=\"spacingAndGlyphs\" textLength=\"64\" x=\"361\" y=\"310.0669\">«depend»</text></a><!--MD5=[c5e8897d989ce984f93528998a7150fe]\n",
       "link E8 to E6--><a href=\"psysml:e9cc0fc6-3b4b-4571-a4a8-99018107eac1\" target=\"_top\" title=\"psysml:e9cc0fc6-3b4b-4571-a4a8-99018107eac1\" xlink:actuate=\"onRequest\" xlink:href=\"psysml:e9cc0fc6-3b4b-4571-a4a8-99018107eac1\" xlink:show=\"new\" xlink:title=\"psysml:e9cc0fc6-3b4b-4571-a4a8-99018107eac1\" xlink:type=\"simple\"><path d=\"M106.44,133.76 C97.3,143.01 88.09,154.51 83,167 C77.6,180.23 76.4,195.98 76.73,209.41 \" fill=\"none\" id=\"E8-&gt;E6\" style=\"stroke: #A80036; stroke-width: 1.0; stroke-dasharray: 7.0,7.0;\"/><polygon fill=\"#A80036\" points=\"77.12,217.43,79.7306,209.2946,73.7375,209.584,77.12,217.43\" style=\"stroke: #A80036; stroke-width: 1.0;\"/><text fill=\"#000000\" font-family=\"sans-serif\" font-size=\"13\" lengthAdjust=\"spacingAndGlyphs\" textLength=\"64\" x=\"84\" y=\"180.0669\">«depend»</text></a><!--MD5=[bfa3c8b0d15052fdf50ae9310b491027]\n",
       "link E8 to E7--><a href=\"psysml:e9cc0fc6-3b4b-4571-a4a8-99018107eac1\" target=\"_top\" title=\"psysml:e9cc0fc6-3b4b-4571-a4a8-99018107eac1\" xlink:actuate=\"onRequest\" xlink:href=\"psysml:e9cc0fc6-3b4b-4571-a4a8-99018107eac1\" xlink:show=\"new\" xlink:title=\"psysml:e9cc0fc6-3b4b-4571-a4a8-99018107eac1\" xlink:type=\"simple\"><path d=\"M146.58,133.5 C159.69,154.75 179.63,187.05 194.05,210.41 \" fill=\"none\" id=\"E8-&gt;E7\" style=\"stroke: #A80036; stroke-width: 1.0; stroke-dasharray: 7.0,7.0;\"/><polygon fill=\"#A80036\" points=\"198.33,217.35,196.6785,208.9671,191.5737,212.1201,198.33,217.35\" style=\"stroke: #A80036; stroke-width: 1.0;\"/><text fill=\"#000000\" font-family=\"sans-serif\" font-size=\"13\" lengthAdjust=\"spacingAndGlyphs\" textLength=\"64\" x=\"178\" y=\"180.0669\">«depend»</text></a><!--MD5=[556000e2a2e8645a0c190d4f4d075aa9]\n",
       "@startuml\r\n",
       " \r\n",
       "package \"DependencyTest\" as E1  [[psysml:d3869743-6750-4f05-a5ce-51c4137f7251 ]]  {\r\n",
       "package \"System\" as E2  [[psysml:6b74be88-9b37-4afd-8ab0-bbd062a94e7e ]]  {\r\n",
       "package \"Application Layer\" as E3  [[psysml:03aab854-f405-4fcc-aa77-08da242f79f1 ]]  {\r\n",
       "}\r\n",
       "package \"Service Layer\" as E4  [[psysml:ad996126-15a5-42e2-8928-0fb76718612c ]]  {\r\n",
       "}\r\n",
       "package \"Data Layer\" as E5  [[psysml:17a101e7-475f-4fc3-82c9-609370bf1116 ]]  {\r\n",
       "}\r\n",
       "}\r\n",
       "comp usage \"x\" as E6 << <<(U,orange) attribute>> [[psysml:881809a4-48f2-4fe8-9827-6dde0f998bab ]] {\r\n",
       "}\r\n",
       "comp usage \"y\" as E7 << <<(U,orange) attribute>> [[psysml:190ef100-b940-43fb-97f3-4b9e1cd4417f ]] {\r\n",
       "}\r\n",
       "comp usage \"z\" as E8 << <<(U,orange) attribute>> [[psysml:293eb67f-3e12-4287-ab19-bcded2d3124c ]] {\r\n",
       "}\r\n",
       "}\r\n",
       "E3 ..>> E4 [[psysml:8bc3dbe9-cd72-4429-a15e-d6826987fc7c ]] : <<depend>>\r\n",
       "E4 ..>> E5 [[psysml:a5d569dd-f966-4325-8014-b1c593712f38 ]] : <<depend>>\r\n",
       "E8 ..>> E6 [[psysml:e9cc0fc6-3b4b-4571-a4a8-99018107eac1 ]] : <<depend>>\r\n",
       "E8 ..>> E7 [[psysml:e9cc0fc6-3b4b-4571-a4a8-99018107eac1 ]] : <<depend>>\r\n",
       "@enduml\r\n",
       "\n",
       "PlantUML version 1.2020.13(Sat Jun 13 12:26:38 UTC 2020)\n",
       "(EPL source distribution)\n",
       "Java Runtime: OpenJDK Runtime Environment\n",
       "JVM: OpenJDK 64-Bit Server VM\n",
       "Default Encoding: UTF-8\n",
       "Language: en\n",
       "Country: null\n",
       "--></g></svg>"
      ]
     },
     "execution_count": 36,
     "metadata": {},
     "output_type": "execute_result"
    }
   ],
   "source": [
    "%viz --style=\"PLANTUML\" --view=\"MIXED\" \"DependencyTest\""
   ]
  },
  {
   "cell_type": "code",
   "execution_count": 37,
   "id": "a5931b07",
   "metadata": {
    "execution": {
     "iopub.execute_input": "2021-10-03T08:27:20.391376Z",
     "iopub.status.busy": "2021-10-03T08:27:20.390746Z",
     "iopub.status.idle": "2021-10-03T08:27:20.419308Z",
     "shell.execute_reply": "2021-10-03T08:27:20.418927Z"
    }
   },
   "outputs": [
    {
     "data": {
      "image/svg+xml": [
       "<?xml version=\"1.0\" encoding=\"UTF-8\" standalone=\"no\"?><svg xmlns=\"http://www.w3.org/2000/svg\" xmlns:xlink=\"http://www.w3.org/1999/xlink\" contentScriptType=\"application/ecmascript\" contentStyleType=\"text/css\" height=\"449px\" preserveAspectRatio=\"none\" style=\"width:469px;height:449px;\" version=\"1.1\" viewBox=\"0 0 469 449\" width=\"469px\" zoomAndPan=\"magnify\"><defs/><g><!--MD5=[fbc87193dbaf4d95561dea2c320d4a47]\n",
       "cluster E1--><a href=\"psysml:d3869743-6750-4f05-a5ce-51c4137f7251\" target=\"_top\" title=\"psysml:d3869743-6750-4f05-a5ce-51c4137f7251\" xlink:actuate=\"onRequest\" xlink:href=\"psysml:d3869743-6750-4f05-a5ce-51c4137f7251\" xlink:show=\"new\" xlink:title=\"psysml:d3869743-6750-4f05-a5ce-51c4137f7251\" xlink:type=\"simple\"><polygon fill=\"#FFFFFF\" points=\"16,6,142,6,149,28.2969,447,28.2969,447,437,16,437,16,6\" style=\"stroke: #000000; stroke-width: 1.5;\"/><line style=\"stroke: #000000; stroke-width: 1.5;\" x1=\"16\" x2=\"149\" y1=\"28.2969\" y2=\"28.2969\"/><text fill=\"#000000\" font-family=\"sans-serif\" font-size=\"14\" font-weight=\"bold\" lengthAdjust=\"spacingAndGlyphs\" textLength=\"120\" x=\"20\" y=\"20.9951\">DependencyTest</text></a><!--MD5=[e4f7fae6ed58524ba242bb0b0d3be6b7]\n",
       "cluster E2--><a href=\"psysml:6b74be88-9b37-4afd-8ab0-bbd062a94e7e\" target=\"_top\" title=\"psysml:6b74be88-9b37-4afd-8ab0-bbd062a94e7e\" xlink:actuate=\"onRequest\" xlink:href=\"psysml:6b74be88-9b37-4afd-8ab0-bbd062a94e7e\" xlink:show=\"new\" xlink:title=\"psysml:6b74be88-9b37-4afd-8ab0-bbd062a94e7e\" xlink:type=\"simple\"><polygon fill=\"#FFFFFF\" points=\"255,49,312,49,319,71.2969,423,71.2969,423,413,255,413,255,49\" style=\"stroke: #000000; stroke-width: 1.5;\"/><line style=\"stroke: #000000; stroke-width: 1.5;\" x1=\"255\" x2=\"319\" y1=\"71.2969\" y2=\"71.2969\"/><text fill=\"#000000\" font-family=\"sans-serif\" font-size=\"14\" font-weight=\"bold\" lengthAdjust=\"spacingAndGlyphs\" textLength=\"51\" x=\"259\" y=\"63.9951\">System</text></a><!--MD5=[60a26617385b1d2d0262a64233df1f8d]\n",
       "class E6--><a href=\"psysml:881809a4-48f2-4fe8-9827-6dde0f998bab\" target=\"_top\" title=\"psysml:881809a4-48f2-4fe8-9827-6dde0f998bab\" xlink:actuate=\"onRequest\" xlink:href=\"psysml:881809a4-48f2-4fe8-9827-6dde0f998bab\" xlink:show=\"new\" xlink:title=\"psysml:881809a4-48f2-4fe8-9827-6dde0f998bab\" xlink:type=\"simple\"><rect fill=\"#FFFFFF\" height=\"45.9375\" id=\"E6\" rx=\"10\" ry=\"10\" style=\"stroke: #383838; stroke-width: 1.5;\" width=\"71\" x=\"32.5\" y=\"217.5\"/><text fill=\"#000000\" font-family=\"sans-serif\" font-size=\"12\" font-style=\"italic\" lengthAdjust=\"spacingAndGlyphs\" textLength=\"69\" x=\"33.5\" y=\"233.6387\">«attribute»</text><text fill=\"#000000\" font-family=\"sans-serif\" font-size=\"12\" lengthAdjust=\"spacingAndGlyphs\" textLength=\"6\" x=\"65\" y=\"247.6074\">x</text><line style=\"stroke: #383838; stroke-width: 1.5;\" x1=\"33.5\" x2=\"102.5\" y1=\"255.4375\" y2=\"255.4375\"/></a><!--MD5=[2156ba9850f5573cc1fc38a6a4b2f02b]\n",
       "class E7--><a href=\"psysml:190ef100-b940-43fb-97f3-4b9e1cd4417f\" target=\"_top\" title=\"psysml:190ef100-b940-43fb-97f3-4b9e1cd4417f\" xlink:actuate=\"onRequest\" xlink:href=\"psysml:190ef100-b940-43fb-97f3-4b9e1cd4417f\" xlink:show=\"new\" xlink:title=\"psysml:190ef100-b940-43fb-97f3-4b9e1cd4417f\" xlink:type=\"simple\"><rect fill=\"#FFFFFF\" height=\"45.9375\" id=\"E7\" rx=\"10\" ry=\"10\" style=\"stroke: #383838; stroke-width: 1.5;\" width=\"71\" x=\"138.5\" y=\"217.5\"/><text fill=\"#000000\" font-family=\"sans-serif\" font-size=\"12\" font-style=\"italic\" lengthAdjust=\"spacingAndGlyphs\" textLength=\"69\" x=\"139.5\" y=\"233.6387\">«attribute»</text><text fill=\"#000000\" font-family=\"sans-serif\" font-size=\"12\" lengthAdjust=\"spacingAndGlyphs\" textLength=\"6\" x=\"171\" y=\"247.6074\">y</text><line style=\"stroke: #383838; stroke-width: 1.5;\" x1=\"139.5\" x2=\"208.5\" y1=\"255.4375\" y2=\"255.4375\"/></a><!--MD5=[b9389687b975829384b498ac4b7476b2]\n",
       "class E8--><a href=\"psysml:293eb67f-3e12-4287-ab19-bcded2d3124c\" target=\"_top\" title=\"psysml:293eb67f-3e12-4287-ab19-bcded2d3124c\" xlink:actuate=\"onRequest\" xlink:href=\"psysml:293eb67f-3e12-4287-ab19-bcded2d3124c\" xlink:show=\"new\" xlink:title=\"psysml:293eb67f-3e12-4287-ab19-bcded2d3124c\" xlink:type=\"simple\"><rect fill=\"#FFFFFF\" height=\"45.9375\" id=\"E8\" rx=\"10\" ry=\"10\" style=\"stroke: #383838; stroke-width: 1.5;\" width=\"71\" x=\"84.5\" y=\"87.5\"/><text fill=\"#000000\" font-family=\"sans-serif\" font-size=\"12\" font-style=\"italic\" lengthAdjust=\"spacingAndGlyphs\" textLength=\"69\" x=\"85.5\" y=\"103.6387\">«attribute»</text><text fill=\"#000000\" font-family=\"sans-serif\" font-size=\"12\" lengthAdjust=\"spacingAndGlyphs\" textLength=\"5\" x=\"117.5\" y=\"117.6074\">z</text><line style=\"stroke: #383838; stroke-width: 1.5;\" x1=\"85.5\" x2=\"154.5\" y1=\"125.4375\" y2=\"125.4375\"/></a><a href=\"psysml:03aab854-f405-4fcc-aa77-08da242f79f1\" target=\"_top\" title=\"psysml:03aab854-f405-4fcc-aa77-08da242f79f1\" xlink:actuate=\"onRequest\" xlink:href=\"psysml:03aab854-f405-4fcc-aa77-08da242f79f1\" xlink:show=\"new\" xlink:title=\"psysml:03aab854-f405-4fcc-aa77-08da242f79f1\" xlink:type=\"simple\"><polygon fill=\"#FFFFFF\" points=\"271.5,84,392.5,84,399.5,106.2969,406.5,106.2969,406.5,136.5938,271.5,136.5938,271.5,84\" style=\"stroke: #000000; stroke-width: 1.5;\"/><line style=\"stroke: #000000; stroke-width: 1.5;\" x1=\"271.5\" x2=\"399.5\" y1=\"106.2969\" y2=\"106.2969\"/><text fill=\"#000000\" font-family=\"sans-serif\" font-size=\"14\" font-weight=\"bold\" lengthAdjust=\"spacingAndGlyphs\" textLength=\"115\" x=\"275.5\" y=\"98.9951\">Application Layer</text></a><a href=\"psysml:ad996126-15a5-42e2-8928-0fb76718612c\" target=\"_top\" title=\"psysml:ad996126-15a5-42e2-8928-0fb76718612c\" xlink:actuate=\"onRequest\" xlink:href=\"psysml:ad996126-15a5-42e2-8928-0fb76718612c\" xlink:show=\"new\" xlink:title=\"psysml:ad996126-15a5-42e2-8928-0fb76718612c\" xlink:type=\"simple\"><polygon fill=\"#FFFFFF\" points=\"284,214,380,214,387,236.2969,394,236.2969,394,266.5938,284,266.5938,284,214\" style=\"stroke: #000000; stroke-width: 1.5;\"/><line style=\"stroke: #000000; stroke-width: 1.5;\" x1=\"284\" x2=\"387\" y1=\"236.2969\" y2=\"236.2969\"/><text fill=\"#000000\" font-family=\"sans-serif\" font-size=\"14\" font-weight=\"bold\" lengthAdjust=\"spacingAndGlyphs\" textLength=\"90\" x=\"288\" y=\"228.9951\">Service Layer</text></a><a href=\"psysml:17a101e7-475f-4fc3-82c9-609370bf1116\" target=\"_top\" title=\"psysml:17a101e7-475f-4fc3-82c9-609370bf1116\" xlink:actuate=\"onRequest\" xlink:href=\"psysml:17a101e7-475f-4fc3-82c9-609370bf1116\" xlink:show=\"new\" xlink:title=\"psysml:17a101e7-475f-4fc3-82c9-609370bf1116\" xlink:type=\"simple\"><polygon fill=\"#FFFFFF\" points=\"293,344,371,344,378,366.2969,385,366.2969,385,396.5938,293,396.5938,293,344\" style=\"stroke: #000000; stroke-width: 1.5;\"/><line style=\"stroke: #000000; stroke-width: 1.5;\" x1=\"293\" x2=\"378\" y1=\"366.2969\" y2=\"366.2969\"/><text fill=\"#000000\" font-family=\"sans-serif\" font-size=\"14\" font-weight=\"bold\" lengthAdjust=\"spacingAndGlyphs\" textLength=\"72\" x=\"297\" y=\"358.9951\">Data Layer</text></a><!--MD5=[af87c684e3b0d8be13c1a698a818ef1e]\n",
       "link E3 to E4--><a href=\"psysml:8bc3dbe9-cd72-4429-a15e-d6826987fc7c\" target=\"_top\" title=\"psysml:8bc3dbe9-cd72-4429-a15e-d6826987fc7c\" xlink:actuate=\"onRequest\" xlink:href=\"psysml:8bc3dbe9-cd72-4429-a15e-d6826987fc7c\" xlink:show=\"new\" xlink:title=\"psysml:8bc3dbe9-cd72-4429-a15e-d6826987fc7c\" xlink:type=\"simple\"><path d=\"M339,137.1 C339,156.8 339,184.22 339,205.73 \" fill=\"none\" id=\"E3-&gt;E4\" style=\"stroke: #383838; stroke-width: 1.0; stroke-dasharray: 7.0,7.0;\"/><polygon fill=\"#383838\" points=\"339,213.95,342,205.95,336,205.95,339,213.95\" style=\"stroke: #383838; stroke-width: 1.0;\"/><text fill=\"#000000\" font-family=\"sans-serif\" font-size=\"13\" lengthAdjust=\"spacingAndGlyphs\" textLength=\"64\" x=\"340\" y=\"180.0669\">«depend»</text></a><!--MD5=[1b7591eae5389033d8d09a9d6721a717]\n",
       "link E4 to E5--><a href=\"psysml:a5d569dd-f966-4325-8014-b1c593712f38\" target=\"_top\" title=\"psysml:a5d569dd-f966-4325-8014-b1c593712f38\" xlink:actuate=\"onRequest\" xlink:href=\"psysml:a5d569dd-f966-4325-8014-b1c593712f38\" xlink:show=\"new\" xlink:title=\"psysml:a5d569dd-f966-4325-8014-b1c593712f38\" xlink:type=\"simple\"><path d=\"M339,267.1 C339,286.8 339,314.22 339,335.73 \" fill=\"none\" id=\"E4-&gt;E5\" style=\"stroke: #383838; stroke-width: 1.0; stroke-dasharray: 7.0,7.0;\"/><polygon fill=\"#383838\" points=\"339,343.95,342,335.95,336,335.95,339,343.95\" style=\"stroke: #383838; stroke-width: 1.0;\"/><text fill=\"#000000\" font-family=\"sans-serif\" font-size=\"13\" lengthAdjust=\"spacingAndGlyphs\" textLength=\"64\" x=\"340\" y=\"310.0669\">«depend»</text></a><!--MD5=[c5e8897d989ce984f93528998a7150fe]\n",
       "link E8 to E6--><a href=\"psysml:e9cc0fc6-3b4b-4571-a4a8-99018107eac1\" target=\"_top\" title=\"psysml:e9cc0fc6-3b4b-4571-a4a8-99018107eac1\" xlink:actuate=\"onRequest\" xlink:href=\"psysml:e9cc0fc6-3b4b-4571-a4a8-99018107eac1\" xlink:show=\"new\" xlink:title=\"psysml:e9cc0fc6-3b4b-4571-a4a8-99018107eac1\" xlink:type=\"simple\"><path d=\"M89.42,133.6 C79.35,142.68 69.37,154.11 64,167 C58.5,180.2 58.66,195.94 60.54,209.38 \" fill=\"none\" id=\"E8-&gt;E6\" style=\"stroke: #383838; stroke-width: 1.0; stroke-dasharray: 7.0,7.0;\"/><polygon fill=\"#383838\" points=\"61.9,217.4,63.517,209.0104,57.6018,210.0159,61.9,217.4\" style=\"stroke: #383838; stroke-width: 1.0;\"/><text fill=\"#000000\" font-family=\"sans-serif\" font-size=\"13\" lengthAdjust=\"spacingAndGlyphs\" textLength=\"64\" x=\"65\" y=\"180.0669\">«depend»</text></a><!--MD5=[bfa3c8b0d15052fdf50ae9310b491027]\n",
       "link E8 to E7--><a href=\"psysml:e9cc0fc6-3b4b-4571-a4a8-99018107eac1\" target=\"_top\" title=\"psysml:e9cc0fc6-3b4b-4571-a4a8-99018107eac1\" xlink:actuate=\"onRequest\" xlink:href=\"psysml:e9cc0fc6-3b4b-4571-a4a8-99018107eac1\" xlink:show=\"new\" xlink:title=\"psysml:e9cc0fc6-3b4b-4571-a4a8-99018107eac1\" xlink:type=\"simple\"><path d=\"M129.28,133.5 C138.17,154.57 151.64,186.5 161.47,209.81 \" fill=\"none\" id=\"E8-&gt;E7\" style=\"stroke: #383838; stroke-width: 1.0; stroke-dasharray: 7.0,7.0;\"/><polygon fill=\"#383838\" points=\"164.66,217.35,164.3241,208.8126,158.7933,211.1385,164.66,217.35\" style=\"stroke: #383838; stroke-width: 1.0;\"/><text fill=\"#000000\" font-family=\"sans-serif\" font-size=\"13\" lengthAdjust=\"spacingAndGlyphs\" textLength=\"64\" x=\"151\" y=\"180.0669\">«depend»</text></a><!--MD5=[d4101a333d6f4b95a8cda7de808fee0e]\n",
       "@startuml\r\n",
       "skinparam monochrome true\r\n",
       "skinparam classbackgroundcolor white\r\n",
       "skinparam shadowing false\r\n",
       "skinparam wrapWidth 300\r\n",
       "hide circle\r\n",
       "\r\n",
       "package \"DependencyTest\" as E1  [[psysml:d3869743-6750-4f05-a5ce-51c4137f7251 ]]  {\r\n",
       "package \"System\" as E2  [[psysml:6b74be88-9b37-4afd-8ab0-bbd062a94e7e ]]  {\r\n",
       "package \"Application Layer\" as E3  [[psysml:03aab854-f405-4fcc-aa77-08da242f79f1 ]]  {\r\n",
       "}\r\n",
       "package \"Service Layer\" as E4  [[psysml:ad996126-15a5-42e2-8928-0fb76718612c ]]  {\r\n",
       "}\r\n",
       "package \"Data Layer\" as E5  [[psysml:17a101e7-475f-4fc3-82c9-609370bf1116 ]]  {\r\n",
       "}\r\n",
       "}\r\n",
       "comp usage \"x\" as E6  <<(T,blue) attribute>> [[psysml:881809a4-48f2-4fe8-9827-6dde0f998bab ]] {\r\n",
       "}\r\n",
       "comp usage \"y\" as E7  <<(T,blue) attribute>> [[psysml:190ef100-b940-43fb-97f3-4b9e1cd4417f ]] {\r\n",
       "}\r\n",
       "comp usage \"z\" as E8  <<(T,blue) attribute>> [[psysml:293eb67f-3e12-4287-ab19-bcded2d3124c ]] {\r\n",
       "}\r\n",
       "}\r\n",
       "E3 ..>> E4 [[psysml:8bc3dbe9-cd72-4429-a15e-d6826987fc7c ]] : <<depend>>\r\n",
       "E4 ..>> E5 [[psysml:a5d569dd-f966-4325-8014-b1c593712f38 ]] : <<depend>>\r\n",
       "E8 ..>> E6 [[psysml:e9cc0fc6-3b4b-4571-a4a8-99018107eac1 ]] : <<depend>>\r\n",
       "E8 ..>> E7 [[psysml:e9cc0fc6-3b4b-4571-a4a8-99018107eac1 ]] : <<depend>>\r\n",
       "@enduml\r\n",
       "\n",
       "PlantUML version 1.2020.13(Sat Jun 13 12:26:38 UTC 2020)\n",
       "(EPL source distribution)\n",
       "Java Runtime: OpenJDK Runtime Environment\n",
       "JVM: OpenJDK 64-Bit Server VM\n",
       "Default Encoding: UTF-8\n",
       "Language: en\n",
       "Country: null\n",
       "--></g></svg>"
      ]
     },
     "execution_count": 37,
     "metadata": {},
     "output_type": "execute_result"
    }
   ],
   "source": [
    "%viz --style=\"DEFAULT\" --view=\"Default\" \"DependencyTest\""
   ]
  },
  {
   "cell_type": "code",
   "execution_count": 38,
   "id": "a9868ca5",
   "metadata": {
    "execution": {
     "iopub.execute_input": "2021-10-03T08:27:20.468518Z",
     "iopub.status.busy": "2021-10-03T08:27:20.468013Z",
     "iopub.status.idle": "2021-10-03T08:27:20.502861Z",
     "shell.execute_reply": "2021-10-03T08:27:20.502348Z"
    }
   },
   "outputs": [
    {
     "data": {
      "image/svg+xml": [
       "<?xml version=\"1.0\" encoding=\"UTF-8\" standalone=\"no\"?><svg xmlns=\"http://www.w3.org/2000/svg\" xmlns:xlink=\"http://www.w3.org/1999/xlink\" contentScriptType=\"application/ecmascript\" contentStyleType=\"text/css\" height=\"449px\" preserveAspectRatio=\"none\" style=\"width:469px;height:449px;\" version=\"1.1\" viewBox=\"0 0 469 449\" width=\"469px\" zoomAndPan=\"magnify\"><defs/><g><!--MD5=[fbc87193dbaf4d95561dea2c320d4a47]\n",
       "cluster E1--><a href=\"psysml:d3869743-6750-4f05-a5ce-51c4137f7251\" target=\"_top\" title=\"psysml:d3869743-6750-4f05-a5ce-51c4137f7251\" xlink:actuate=\"onRequest\" xlink:href=\"psysml:d3869743-6750-4f05-a5ce-51c4137f7251\" xlink:show=\"new\" xlink:title=\"psysml:d3869743-6750-4f05-a5ce-51c4137f7251\" xlink:type=\"simple\"><polygon fill=\"#FFFFFF\" points=\"16,6,142,6,149,28.2969,447,28.2969,447,437,16,437,16,6\" style=\"stroke: #000000; stroke-width: 1.5;\"/><line style=\"stroke: #000000; stroke-width: 1.5;\" x1=\"16\" x2=\"149\" y1=\"28.2969\" y2=\"28.2969\"/><text fill=\"#000000\" font-family=\"sans-serif\" font-size=\"14\" font-weight=\"bold\" lengthAdjust=\"spacingAndGlyphs\" textLength=\"120\" x=\"20\" y=\"20.9951\">DependencyTest</text></a><!--MD5=[e4f7fae6ed58524ba242bb0b0d3be6b7]\n",
       "cluster E2--><a href=\"psysml:6b74be88-9b37-4afd-8ab0-bbd062a94e7e\" target=\"_top\" title=\"psysml:6b74be88-9b37-4afd-8ab0-bbd062a94e7e\" xlink:actuate=\"onRequest\" xlink:href=\"psysml:6b74be88-9b37-4afd-8ab0-bbd062a94e7e\" xlink:show=\"new\" xlink:title=\"psysml:6b74be88-9b37-4afd-8ab0-bbd062a94e7e\" xlink:type=\"simple\"><polygon fill=\"#FFFFFF\" points=\"255,49,312,49,319,71.2969,423,71.2969,423,413,255,413,255,49\" style=\"stroke: #000000; stroke-width: 1.5;\"/><line style=\"stroke: #000000; stroke-width: 1.5;\" x1=\"255\" x2=\"319\" y1=\"71.2969\" y2=\"71.2969\"/><text fill=\"#000000\" font-family=\"sans-serif\" font-size=\"14\" font-weight=\"bold\" lengthAdjust=\"spacingAndGlyphs\" textLength=\"51\" x=\"259\" y=\"63.9951\">System</text></a><!--MD5=[60a26617385b1d2d0262a64233df1f8d]\n",
       "class E6--><a href=\"psysml:881809a4-48f2-4fe8-9827-6dde0f998bab\" target=\"_top\" title=\"psysml:881809a4-48f2-4fe8-9827-6dde0f998bab\" xlink:actuate=\"onRequest\" xlink:href=\"psysml:881809a4-48f2-4fe8-9827-6dde0f998bab\" xlink:show=\"new\" xlink:title=\"psysml:881809a4-48f2-4fe8-9827-6dde0f998bab\" xlink:type=\"simple\"><rect fill=\"#FFFFFF\" height=\"45.9375\" id=\"E6\" rx=\"10\" ry=\"10\" style=\"stroke: #383838; stroke-width: 1.5;\" width=\"71\" x=\"32.5\" y=\"217.5\"/><text fill=\"#000000\" font-family=\"sans-serif\" font-size=\"12\" font-style=\"italic\" lengthAdjust=\"spacingAndGlyphs\" textLength=\"69\" x=\"33.5\" y=\"233.6387\">«attribute»</text><text fill=\"#000000\" font-family=\"sans-serif\" font-size=\"12\" lengthAdjust=\"spacingAndGlyphs\" textLength=\"6\" x=\"65\" y=\"247.6074\">x</text><line style=\"stroke: #383838; stroke-width: 1.5;\" x1=\"33.5\" x2=\"102.5\" y1=\"255.4375\" y2=\"255.4375\"/></a><!--MD5=[2156ba9850f5573cc1fc38a6a4b2f02b]\n",
       "class E7--><a href=\"psysml:190ef100-b940-43fb-97f3-4b9e1cd4417f\" target=\"_top\" title=\"psysml:190ef100-b940-43fb-97f3-4b9e1cd4417f\" xlink:actuate=\"onRequest\" xlink:href=\"psysml:190ef100-b940-43fb-97f3-4b9e1cd4417f\" xlink:show=\"new\" xlink:title=\"psysml:190ef100-b940-43fb-97f3-4b9e1cd4417f\" xlink:type=\"simple\"><rect fill=\"#FFFFFF\" height=\"45.9375\" id=\"E7\" rx=\"10\" ry=\"10\" style=\"stroke: #383838; stroke-width: 1.5;\" width=\"71\" x=\"138.5\" y=\"217.5\"/><text fill=\"#000000\" font-family=\"sans-serif\" font-size=\"12\" font-style=\"italic\" lengthAdjust=\"spacingAndGlyphs\" textLength=\"69\" x=\"139.5\" y=\"233.6387\">«attribute»</text><text fill=\"#000000\" font-family=\"sans-serif\" font-size=\"12\" lengthAdjust=\"spacingAndGlyphs\" textLength=\"6\" x=\"171\" y=\"247.6074\">y</text><line style=\"stroke: #383838; stroke-width: 1.5;\" x1=\"139.5\" x2=\"208.5\" y1=\"255.4375\" y2=\"255.4375\"/></a><!--MD5=[b9389687b975829384b498ac4b7476b2]\n",
       "class E8--><a href=\"psysml:293eb67f-3e12-4287-ab19-bcded2d3124c\" target=\"_top\" title=\"psysml:293eb67f-3e12-4287-ab19-bcded2d3124c\" xlink:actuate=\"onRequest\" xlink:href=\"psysml:293eb67f-3e12-4287-ab19-bcded2d3124c\" xlink:show=\"new\" xlink:title=\"psysml:293eb67f-3e12-4287-ab19-bcded2d3124c\" xlink:type=\"simple\"><rect fill=\"#FFFFFF\" height=\"45.9375\" id=\"E8\" rx=\"10\" ry=\"10\" style=\"stroke: #383838; stroke-width: 1.5;\" width=\"71\" x=\"84.5\" y=\"87.5\"/><text fill=\"#000000\" font-family=\"sans-serif\" font-size=\"12\" font-style=\"italic\" lengthAdjust=\"spacingAndGlyphs\" textLength=\"69\" x=\"85.5\" y=\"103.6387\">«attribute»</text><text fill=\"#000000\" font-family=\"sans-serif\" font-size=\"12\" lengthAdjust=\"spacingAndGlyphs\" textLength=\"5\" x=\"117.5\" y=\"117.6074\">z</text><line style=\"stroke: #383838; stroke-width: 1.5;\" x1=\"85.5\" x2=\"154.5\" y1=\"125.4375\" y2=\"125.4375\"/></a><a href=\"psysml:03aab854-f405-4fcc-aa77-08da242f79f1\" target=\"_top\" title=\"psysml:03aab854-f405-4fcc-aa77-08da242f79f1\" xlink:actuate=\"onRequest\" xlink:href=\"psysml:03aab854-f405-4fcc-aa77-08da242f79f1\" xlink:show=\"new\" xlink:title=\"psysml:03aab854-f405-4fcc-aa77-08da242f79f1\" xlink:type=\"simple\"><polygon fill=\"#FFFFFF\" points=\"271.5,84,392.5,84,399.5,106.2969,406.5,106.2969,406.5,136.5938,271.5,136.5938,271.5,84\" style=\"stroke: #000000; stroke-width: 1.5;\"/><line style=\"stroke: #000000; stroke-width: 1.5;\" x1=\"271.5\" x2=\"399.5\" y1=\"106.2969\" y2=\"106.2969\"/><text fill=\"#000000\" font-family=\"sans-serif\" font-size=\"14\" font-weight=\"bold\" lengthAdjust=\"spacingAndGlyphs\" textLength=\"115\" x=\"275.5\" y=\"98.9951\">Application Layer</text></a><a href=\"psysml:ad996126-15a5-42e2-8928-0fb76718612c\" target=\"_top\" title=\"psysml:ad996126-15a5-42e2-8928-0fb76718612c\" xlink:actuate=\"onRequest\" xlink:href=\"psysml:ad996126-15a5-42e2-8928-0fb76718612c\" xlink:show=\"new\" xlink:title=\"psysml:ad996126-15a5-42e2-8928-0fb76718612c\" xlink:type=\"simple\"><polygon fill=\"#FFFFFF\" points=\"284,214,380,214,387,236.2969,394,236.2969,394,266.5938,284,266.5938,284,214\" style=\"stroke: #000000; stroke-width: 1.5;\"/><line style=\"stroke: #000000; stroke-width: 1.5;\" x1=\"284\" x2=\"387\" y1=\"236.2969\" y2=\"236.2969\"/><text fill=\"#000000\" font-family=\"sans-serif\" font-size=\"14\" font-weight=\"bold\" lengthAdjust=\"spacingAndGlyphs\" textLength=\"90\" x=\"288\" y=\"228.9951\">Service Layer</text></a><a href=\"psysml:17a101e7-475f-4fc3-82c9-609370bf1116\" target=\"_top\" title=\"psysml:17a101e7-475f-4fc3-82c9-609370bf1116\" xlink:actuate=\"onRequest\" xlink:href=\"psysml:17a101e7-475f-4fc3-82c9-609370bf1116\" xlink:show=\"new\" xlink:title=\"psysml:17a101e7-475f-4fc3-82c9-609370bf1116\" xlink:type=\"simple\"><polygon fill=\"#FFFFFF\" points=\"293,344,371,344,378,366.2969,385,366.2969,385,396.5938,293,396.5938,293,344\" style=\"stroke: #000000; stroke-width: 1.5;\"/><line style=\"stroke: #000000; stroke-width: 1.5;\" x1=\"293\" x2=\"378\" y1=\"366.2969\" y2=\"366.2969\"/><text fill=\"#000000\" font-family=\"sans-serif\" font-size=\"14\" font-weight=\"bold\" lengthAdjust=\"spacingAndGlyphs\" textLength=\"72\" x=\"297\" y=\"358.9951\">Data Layer</text></a><!--MD5=[af87c684e3b0d8be13c1a698a818ef1e]\n",
       "link E3 to E4--><a href=\"psysml:8bc3dbe9-cd72-4429-a15e-d6826987fc7c\" target=\"_top\" title=\"psysml:8bc3dbe9-cd72-4429-a15e-d6826987fc7c\" xlink:actuate=\"onRequest\" xlink:href=\"psysml:8bc3dbe9-cd72-4429-a15e-d6826987fc7c\" xlink:show=\"new\" xlink:title=\"psysml:8bc3dbe9-cd72-4429-a15e-d6826987fc7c\" xlink:type=\"simple\"><path d=\"M339,137.1 C339,156.8 339,184.22 339,205.73 \" fill=\"none\" id=\"E3-&gt;E4\" style=\"stroke: #383838; stroke-width: 1.0; stroke-dasharray: 7.0,7.0;\"/><polygon fill=\"#383838\" points=\"339,213.95,342,205.95,336,205.95,339,213.95\" style=\"stroke: #383838; stroke-width: 1.0;\"/><text fill=\"#000000\" font-family=\"sans-serif\" font-size=\"13\" lengthAdjust=\"spacingAndGlyphs\" textLength=\"64\" x=\"340\" y=\"180.0669\">«depend»</text></a><!--MD5=[1b7591eae5389033d8d09a9d6721a717]\n",
       "link E4 to E5--><a href=\"psysml:a5d569dd-f966-4325-8014-b1c593712f38\" target=\"_top\" title=\"psysml:a5d569dd-f966-4325-8014-b1c593712f38\" xlink:actuate=\"onRequest\" xlink:href=\"psysml:a5d569dd-f966-4325-8014-b1c593712f38\" xlink:show=\"new\" xlink:title=\"psysml:a5d569dd-f966-4325-8014-b1c593712f38\" xlink:type=\"simple\"><path d=\"M339,267.1 C339,286.8 339,314.22 339,335.73 \" fill=\"none\" id=\"E4-&gt;E5\" style=\"stroke: #383838; stroke-width: 1.0; stroke-dasharray: 7.0,7.0;\"/><polygon fill=\"#383838\" points=\"339,343.95,342,335.95,336,335.95,339,343.95\" style=\"stroke: #383838; stroke-width: 1.0;\"/><text fill=\"#000000\" font-family=\"sans-serif\" font-size=\"13\" lengthAdjust=\"spacingAndGlyphs\" textLength=\"64\" x=\"340\" y=\"310.0669\">«depend»</text></a><!--MD5=[c5e8897d989ce984f93528998a7150fe]\n",
       "link E8 to E6--><a href=\"psysml:e9cc0fc6-3b4b-4571-a4a8-99018107eac1\" target=\"_top\" title=\"psysml:e9cc0fc6-3b4b-4571-a4a8-99018107eac1\" xlink:actuate=\"onRequest\" xlink:href=\"psysml:e9cc0fc6-3b4b-4571-a4a8-99018107eac1\" xlink:show=\"new\" xlink:title=\"psysml:e9cc0fc6-3b4b-4571-a4a8-99018107eac1\" xlink:type=\"simple\"><path d=\"M89.42,133.6 C79.35,142.68 69.37,154.11 64,167 C58.5,180.2 58.66,195.94 60.54,209.38 \" fill=\"none\" id=\"E8-&gt;E6\" style=\"stroke: #383838; stroke-width: 1.0; stroke-dasharray: 7.0,7.0;\"/><polygon fill=\"#383838\" points=\"61.9,217.4,63.517,209.0104,57.6018,210.0159,61.9,217.4\" style=\"stroke: #383838; stroke-width: 1.0;\"/><text fill=\"#000000\" font-family=\"sans-serif\" font-size=\"13\" lengthAdjust=\"spacingAndGlyphs\" textLength=\"64\" x=\"65\" y=\"180.0669\">«depend»</text></a><!--MD5=[bfa3c8b0d15052fdf50ae9310b491027]\n",
       "link E8 to E7--><a href=\"psysml:e9cc0fc6-3b4b-4571-a4a8-99018107eac1\" target=\"_top\" title=\"psysml:e9cc0fc6-3b4b-4571-a4a8-99018107eac1\" xlink:actuate=\"onRequest\" xlink:href=\"psysml:e9cc0fc6-3b4b-4571-a4a8-99018107eac1\" xlink:show=\"new\" xlink:title=\"psysml:e9cc0fc6-3b4b-4571-a4a8-99018107eac1\" xlink:type=\"simple\"><path d=\"M129.28,133.5 C138.17,154.57 151.64,186.5 161.47,209.81 \" fill=\"none\" id=\"E8-&gt;E7\" style=\"stroke: #383838; stroke-width: 1.0; stroke-dasharray: 7.0,7.0;\"/><polygon fill=\"#383838\" points=\"164.66,217.35,164.3241,208.8126,158.7933,211.1385,164.66,217.35\" style=\"stroke: #383838; stroke-width: 1.0;\"/><text fill=\"#000000\" font-family=\"sans-serif\" font-size=\"13\" lengthAdjust=\"spacingAndGlyphs\" textLength=\"64\" x=\"151\" y=\"180.0669\">«depend»</text></a><!--MD5=[d4101a333d6f4b95a8cda7de808fee0e]\n",
       "@startuml\r\n",
       "skinparam monochrome true\r\n",
       "skinparam classbackgroundcolor white\r\n",
       "skinparam shadowing false\r\n",
       "skinparam wrapWidth 300\r\n",
       "hide circle\r\n",
       "\r\n",
       "package \"DependencyTest\" as E1  [[psysml:d3869743-6750-4f05-a5ce-51c4137f7251 ]]  {\r\n",
       "package \"System\" as E2  [[psysml:6b74be88-9b37-4afd-8ab0-bbd062a94e7e ]]  {\r\n",
       "package \"Application Layer\" as E3  [[psysml:03aab854-f405-4fcc-aa77-08da242f79f1 ]]  {\r\n",
       "}\r\n",
       "package \"Service Layer\" as E4  [[psysml:ad996126-15a5-42e2-8928-0fb76718612c ]]  {\r\n",
       "}\r\n",
       "package \"Data Layer\" as E5  [[psysml:17a101e7-475f-4fc3-82c9-609370bf1116 ]]  {\r\n",
       "}\r\n",
       "}\r\n",
       "comp usage \"x\" as E6  <<(T,blue) attribute>> [[psysml:881809a4-48f2-4fe8-9827-6dde0f998bab ]] {\r\n",
       "}\r\n",
       "comp usage \"y\" as E7  <<(T,blue) attribute>> [[psysml:190ef100-b940-43fb-97f3-4b9e1cd4417f ]] {\r\n",
       "}\r\n",
       "comp usage \"z\" as E8  <<(T,blue) attribute>> [[psysml:293eb67f-3e12-4287-ab19-bcded2d3124c ]] {\r\n",
       "}\r\n",
       "}\r\n",
       "E3 ..>> E4 [[psysml:8bc3dbe9-cd72-4429-a15e-d6826987fc7c ]] : <<depend>>\r\n",
       "E4 ..>> E5 [[psysml:a5d569dd-f966-4325-8014-b1c593712f38 ]] : <<depend>>\r\n",
       "E8 ..>> E6 [[psysml:e9cc0fc6-3b4b-4571-a4a8-99018107eac1 ]] : <<depend>>\r\n",
       "E8 ..>> E7 [[psysml:e9cc0fc6-3b4b-4571-a4a8-99018107eac1 ]] : <<depend>>\r\n",
       "@enduml\r\n",
       "\n",
       "PlantUML version 1.2020.13(Sat Jun 13 12:26:38 UTC 2020)\n",
       "(EPL source distribution)\n",
       "Java Runtime: OpenJDK Runtime Environment\n",
       "JVM: OpenJDK 64-Bit Server VM\n",
       "Default Encoding: UTF-8\n",
       "Language: en\n",
       "Country: null\n",
       "--></g></svg>"
      ]
     },
     "execution_count": 38,
     "metadata": {},
     "output_type": "execute_result"
    }
   ],
   "source": [
    "%viz --style=\"DEFAULT\" --view=\"Tree\" \"DependencyTest\""
   ]
  },
  {
   "cell_type": "code",
   "execution_count": 39,
   "id": "09b2e50d",
   "metadata": {
    "execution": {
     "iopub.execute_input": "2021-10-03T08:27:20.551139Z",
     "iopub.status.busy": "2021-10-03T08:27:20.550678Z",
     "iopub.status.idle": "2021-10-03T08:27:20.555360Z",
     "shell.execute_reply": "2021-10-03T08:27:20.555689Z"
    }
   },
   "outputs": [
    {
     "data": {
      "image/svg+xml": [
       "<?xml version=\"1.0\" encoding=\"UTF-8\" standalone=\"no\"?><svg xmlns=\"http://www.w3.org/2000/svg\" xmlns:xlink=\"http://www.w3.org/1999/xlink\" contentScriptType=\"application/ecmascript\" contentStyleType=\"text/css\" height=\"12px\" preserveAspectRatio=\"none\" style=\"width:12px;height:12px;\" version=\"1.1\" viewBox=\"0 0 12 12\" width=\"12px\" zoomAndPan=\"magnify\"><defs/><g><!--MD5=[c5f280e076d0d61ccf4b0f27871bda1d]\n",
       "@startuml\r\n",
       "skinparam monochrome true\r\n",
       "skinparam classbackgroundcolor white\r\n",
       "skinparam shadowing false\r\n",
       "skinparam wrapWidth 300\r\n",
       "hide circle\r\n",
       "\r\n",
       "@enduml\r\n",
       "\n",
       "PlantUML version 1.2020.13(Sat Jun 13 12:26:38 UTC 2020)\n",
       "(EPL source distribution)\n",
       "Java Runtime: OpenJDK Runtime Environment\n",
       "JVM: OpenJDK 64-Bit Server VM\n",
       "Default Encoding: UTF-8\n",
       "Language: en\n",
       "Country: null\n",
       "--></g></svg>"
      ]
     },
     "execution_count": 39,
     "metadata": {},
     "output_type": "execute_result"
    }
   ],
   "source": [
    "%viz --style=\"DEFAULT\" --view=\"State\" \"DependencyTest\""
   ]
  },
  {
   "cell_type": "code",
   "execution_count": 40,
   "id": "ce4ce0b9",
   "metadata": {
    "execution": {
     "iopub.execute_input": "2021-10-03T08:27:20.605108Z",
     "iopub.status.busy": "2021-10-03T08:27:20.604697Z",
     "iopub.status.idle": "2021-10-03T08:27:20.639952Z",
     "shell.execute_reply": "2021-10-03T08:27:20.639556Z"
    }
   },
   "outputs": [
    {
     "data": {
      "image/svg+xml": [
       "<?xml version=\"1.0\" encoding=\"UTF-8\" standalone=\"no\"?><svg xmlns=\"http://www.w3.org/2000/svg\" xmlns:xlink=\"http://www.w3.org/1999/xlink\" contentScriptType=\"application/ecmascript\" contentStyleType=\"text/css\" height=\"361px\" preserveAspectRatio=\"none\" style=\"width:469px;height:361px;\" version=\"1.1\" viewBox=\"0 0 469 361\" width=\"469px\" zoomAndPan=\"magnify\"><defs/><g><!--MD5=[fbc87193dbaf4d95561dea2c320d4a47]\n",
       "cluster E1--><a href=\"psysml:d3869743-6750-4f05-a5ce-51c4137f7251\" target=\"_top\" title=\"psysml:d3869743-6750-4f05-a5ce-51c4137f7251\" xlink:actuate=\"onRequest\" xlink:href=\"psysml:d3869743-6750-4f05-a5ce-51c4137f7251\" xlink:show=\"new\" xlink:title=\"psysml:d3869743-6750-4f05-a5ce-51c4137f7251\" xlink:type=\"simple\"><polygon fill=\"#FFFFFF\" points=\"16,6,142,6,149,28.2969,447,28.2969,447,349,16,349,16,6\" style=\"stroke: #000000; stroke-width: 1.5;\"/><line style=\"stroke: #000000; stroke-width: 1.5;\" x1=\"16\" x2=\"149\" y1=\"28.2969\" y2=\"28.2969\"/><text fill=\"#000000\" font-family=\"sans-serif\" font-size=\"14\" font-weight=\"bold\" lengthAdjust=\"spacingAndGlyphs\" textLength=\"120\" x=\"20\" y=\"20.9951\">DependencyTest</text></a><!--MD5=[e4f7fae6ed58524ba242bb0b0d3be6b7]\n",
       "cluster E2--><a href=\"psysml:6b74be88-9b37-4afd-8ab0-bbd062a94e7e\" target=\"_top\" title=\"psysml:6b74be88-9b37-4afd-8ab0-bbd062a94e7e\" xlink:actuate=\"onRequest\" xlink:href=\"psysml:6b74be88-9b37-4afd-8ab0-bbd062a94e7e\" xlink:show=\"new\" xlink:title=\"psysml:6b74be88-9b37-4afd-8ab0-bbd062a94e7e\" xlink:type=\"simple\"><polygon fill=\"#FFFFFF\" points=\"255,49,312,49,319,71.2969,423,71.2969,423,325,255,325,255,49\" style=\"stroke: #000000; stroke-width: 1.5;\"/><line style=\"stroke: #000000; stroke-width: 1.5;\" x1=\"255\" x2=\"319\" y1=\"71.2969\" y2=\"71.2969\"/><text fill=\"#000000\" font-family=\"sans-serif\" font-size=\"14\" font-weight=\"bold\" lengthAdjust=\"spacingAndGlyphs\" textLength=\"51\" x=\"259\" y=\"63.9951\">System</text></a><!--MD5=[60a26617385b1d2d0262a64233df1f8d]\n",
       "class E6--><a href=\"psysml:881809a4-48f2-4fe8-9827-6dde0f998bab\" target=\"_top\" title=\"psysml:881809a4-48f2-4fe8-9827-6dde0f998bab\" xlink:actuate=\"onRequest\" xlink:href=\"psysml:881809a4-48f2-4fe8-9827-6dde0f998bab\" xlink:show=\"new\" xlink:title=\"psysml:881809a4-48f2-4fe8-9827-6dde0f998bab\" xlink:type=\"simple\"><rect fill=\"#FFFFFF\" height=\"45.9375\" id=\"E6\" rx=\"10\" ry=\"10\" style=\"stroke: #383838; stroke-width: 1.5;\" width=\"71\" x=\"32.5\" y=\"173.5\"/><text fill=\"#000000\" font-family=\"sans-serif\" font-size=\"12\" font-style=\"italic\" lengthAdjust=\"spacingAndGlyphs\" textLength=\"69\" x=\"33.5\" y=\"189.6387\">«attribute»</text><text fill=\"#000000\" font-family=\"sans-serif\" font-size=\"12\" lengthAdjust=\"spacingAndGlyphs\" textLength=\"6\" x=\"65\" y=\"203.6074\">x</text><line style=\"stroke: #383838; stroke-width: 1.5;\" x1=\"33.5\" x2=\"102.5\" y1=\"211.4375\" y2=\"211.4375\"/></a><!--MD5=[2156ba9850f5573cc1fc38a6a4b2f02b]\n",
       "class E7--><a href=\"psysml:190ef100-b940-43fb-97f3-4b9e1cd4417f\" target=\"_top\" title=\"psysml:190ef100-b940-43fb-97f3-4b9e1cd4417f\" xlink:actuate=\"onRequest\" xlink:href=\"psysml:190ef100-b940-43fb-97f3-4b9e1cd4417f\" xlink:show=\"new\" xlink:title=\"psysml:190ef100-b940-43fb-97f3-4b9e1cd4417f\" xlink:type=\"simple\"><rect fill=\"#FFFFFF\" height=\"45.9375\" id=\"E7\" rx=\"10\" ry=\"10\" style=\"stroke: #383838; stroke-width: 1.5;\" width=\"71\" x=\"138.5\" y=\"173.5\"/><text fill=\"#000000\" font-family=\"sans-serif\" font-size=\"12\" font-style=\"italic\" lengthAdjust=\"spacingAndGlyphs\" textLength=\"69\" x=\"139.5\" y=\"189.6387\">«attribute»</text><text fill=\"#000000\" font-family=\"sans-serif\" font-size=\"12\" lengthAdjust=\"spacingAndGlyphs\" textLength=\"6\" x=\"171\" y=\"203.6074\">y</text><line style=\"stroke: #383838; stroke-width: 1.5;\" x1=\"139.5\" x2=\"208.5\" y1=\"211.4375\" y2=\"211.4375\"/></a><!--MD5=[b9389687b975829384b498ac4b7476b2]\n",
       "class E8--><a href=\"psysml:293eb67f-3e12-4287-ab19-bcded2d3124c\" target=\"_top\" title=\"psysml:293eb67f-3e12-4287-ab19-bcded2d3124c\" xlink:actuate=\"onRequest\" xlink:href=\"psysml:293eb67f-3e12-4287-ab19-bcded2d3124c\" xlink:show=\"new\" xlink:title=\"psysml:293eb67f-3e12-4287-ab19-bcded2d3124c\" xlink:type=\"simple\"><rect fill=\"#FFFFFF\" height=\"45.9375\" id=\"E8\" rx=\"10\" ry=\"10\" style=\"stroke: #383838; stroke-width: 1.5;\" width=\"71\" x=\"84.5\" y=\"87.5\"/><text fill=\"#000000\" font-family=\"sans-serif\" font-size=\"12\" font-style=\"italic\" lengthAdjust=\"spacingAndGlyphs\" textLength=\"69\" x=\"85.5\" y=\"103.6387\">«attribute»</text><text fill=\"#000000\" font-family=\"sans-serif\" font-size=\"12\" lengthAdjust=\"spacingAndGlyphs\" textLength=\"5\" x=\"117.5\" y=\"117.6074\">z</text><line style=\"stroke: #383838; stroke-width: 1.5;\" x1=\"85.5\" x2=\"154.5\" y1=\"125.4375\" y2=\"125.4375\"/></a><a href=\"psysml:03aab854-f405-4fcc-aa77-08da242f79f1\" target=\"_top\" title=\"psysml:03aab854-f405-4fcc-aa77-08da242f79f1\" xlink:actuate=\"onRequest\" xlink:href=\"psysml:03aab854-f405-4fcc-aa77-08da242f79f1\" xlink:show=\"new\" xlink:title=\"psysml:03aab854-f405-4fcc-aa77-08da242f79f1\" xlink:type=\"simple\"><polygon fill=\"#FFFFFF\" points=\"271.5,84,392.5,84,399.5,106.2969,406.5,106.2969,406.5,136.5938,271.5,136.5938,271.5,84\" style=\"stroke: #000000; stroke-width: 1.5;\"/><line style=\"stroke: #000000; stroke-width: 1.5;\" x1=\"271.5\" x2=\"399.5\" y1=\"106.2969\" y2=\"106.2969\"/><text fill=\"#000000\" font-family=\"sans-serif\" font-size=\"14\" font-weight=\"bold\" lengthAdjust=\"spacingAndGlyphs\" textLength=\"115\" x=\"275.5\" y=\"98.9951\">Application Layer</text></a><a href=\"psysml:ad996126-15a5-42e2-8928-0fb76718612c\" target=\"_top\" title=\"psysml:ad996126-15a5-42e2-8928-0fb76718612c\" xlink:actuate=\"onRequest\" xlink:href=\"psysml:ad996126-15a5-42e2-8928-0fb76718612c\" xlink:show=\"new\" xlink:title=\"psysml:ad996126-15a5-42e2-8928-0fb76718612c\" xlink:type=\"simple\"><polygon fill=\"#FFFFFF\" points=\"284,170,380,170,387,192.2969,394,192.2969,394,222.5938,284,222.5938,284,170\" style=\"stroke: #000000; stroke-width: 1.5;\"/><line style=\"stroke: #000000; stroke-width: 1.5;\" x1=\"284\" x2=\"387\" y1=\"192.2969\" y2=\"192.2969\"/><text fill=\"#000000\" font-family=\"sans-serif\" font-size=\"14\" font-weight=\"bold\" lengthAdjust=\"spacingAndGlyphs\" textLength=\"90\" x=\"288\" y=\"184.9951\">Service Layer</text></a><a href=\"psysml:17a101e7-475f-4fc3-82c9-609370bf1116\" target=\"_top\" title=\"psysml:17a101e7-475f-4fc3-82c9-609370bf1116\" xlink:actuate=\"onRequest\" xlink:href=\"psysml:17a101e7-475f-4fc3-82c9-609370bf1116\" xlink:show=\"new\" xlink:title=\"psysml:17a101e7-475f-4fc3-82c9-609370bf1116\" xlink:type=\"simple\"><polygon fill=\"#FFFFFF\" points=\"293,256,371,256,378,278.2969,385,278.2969,385,308.5938,293,308.5938,293,256\" style=\"stroke: #000000; stroke-width: 1.5;\"/><line style=\"stroke: #000000; stroke-width: 1.5;\" x1=\"293\" x2=\"378\" y1=\"278.2969\" y2=\"278.2969\"/><text fill=\"#000000\" font-family=\"sans-serif\" font-size=\"14\" font-weight=\"bold\" lengthAdjust=\"spacingAndGlyphs\" textLength=\"72\" x=\"297\" y=\"270.9951\">Data Layer</text></a><!--MD5=[af87c684e3b0d8be13c1a698a818ef1e]\n",
       "link E3 to E4--><a href=\"psysml:8bc3dbe9-cd72-4429-a15e-d6826987fc7c\" target=\"_top\" title=\"psysml:8bc3dbe9-cd72-4429-a15e-d6826987fc7c\" xlink:actuate=\"onRequest\" xlink:href=\"psysml:8bc3dbe9-cd72-4429-a15e-d6826987fc7c\" xlink:show=\"new\" xlink:title=\"psysml:8bc3dbe9-cd72-4429-a15e-d6826987fc7c\" xlink:type=\"simple\"><path d=\"M339,137.16 C339,144.98 339,153.69 339,161.94 \" fill=\"none\" id=\"E3-&gt;E4\" style=\"stroke: #383838; stroke-width: 1.0; stroke-dasharray: 7.0,7.0;\"/><polygon fill=\"#383838\" points=\"339,170,342,162,336,162,339,170\" style=\"stroke: #383838; stroke-width: 1.0;\"/><text fill=\"#000000\" font-family=\"sans-serif\" font-size=\"13\" lengthAdjust=\"spacingAndGlyphs\" textLength=\"64\" x=\"340\" y=\"158.0669\">«depend»</text></a><!--MD5=[1b7591eae5389033d8d09a9d6721a717]\n",
       "link E4 to E5--><a href=\"psysml:a5d569dd-f966-4325-8014-b1c593712f38\" target=\"_top\" title=\"psysml:a5d569dd-f966-4325-8014-b1c593712f38\" xlink:actuate=\"onRequest\" xlink:href=\"psysml:a5d569dd-f966-4325-8014-b1c593712f38\" xlink:show=\"new\" xlink:title=\"psysml:a5d569dd-f966-4325-8014-b1c593712f38\" xlink:type=\"simple\"><path d=\"M339,223.16 C339,230.98 339,239.69 339,247.94 \" fill=\"none\" id=\"E4-&gt;E5\" style=\"stroke: #383838; stroke-width: 1.0; stroke-dasharray: 7.0,7.0;\"/><polygon fill=\"#383838\" points=\"339,256,342,248,336,248,339,256\" style=\"stroke: #383838; stroke-width: 1.0;\"/><text fill=\"#000000\" font-family=\"sans-serif\" font-size=\"13\" lengthAdjust=\"spacingAndGlyphs\" textLength=\"64\" x=\"340\" y=\"244.0669\">«depend»</text></a><!--MD5=[c5e8897d989ce984f93528998a7150fe]\n",
       "link E8 to E6--><a href=\"psysml:e9cc0fc6-3b4b-4571-a4a8-99018107eac1\" target=\"_top\" title=\"psysml:e9cc0fc6-3b4b-4571-a4a8-99018107eac1\" xlink:actuate=\"onRequest\" xlink:href=\"psysml:e9cc0fc6-3b4b-4571-a4a8-99018107eac1\" xlink:show=\"new\" xlink:title=\"psysml:e9cc0fc6-3b4b-4571-a4a8-99018107eac1\" xlink:type=\"simple\"><path d=\"M84.49,125.34 C76.34,130.27 68.69,136.72 64,145 C60.54,151.1 59.62,158.31 60,165.33 \" fill=\"none\" id=\"E8-&gt;E6\" style=\"stroke: #383838; stroke-width: 1.0; stroke-dasharray: 7.0,7.0;\"/><polygon fill=\"#383838\" points=\"60.97,173.42,63.0061,165.1221,57.0479,165.8294,60.97,173.42\" style=\"stroke: #383838; stroke-width: 1.0;\"/><text fill=\"#000000\" font-family=\"sans-serif\" font-size=\"13\" lengthAdjust=\"spacingAndGlyphs\" textLength=\"64\" x=\"65\" y=\"158.0669\">«depend»</text></a><!--MD5=[bfa3c8b0d15052fdf50ae9310b491027]\n",
       "link E8 to E7--><a href=\"psysml:e9cc0fc6-3b4b-4571-a4a8-99018107eac1\" target=\"_top\" title=\"psysml:e9cc0fc6-3b4b-4571-a4a8-99018107eac1\" xlink:actuate=\"onRequest\" xlink:href=\"psysml:e9cc0fc6-3b4b-4571-a4a8-99018107eac1\" xlink:show=\"new\" xlink:title=\"psysml:e9cc0fc6-3b4b-4571-a4a8-99018107eac1\" xlink:type=\"simple\"><path d=\"M134.19,133.57 C140.65,143.62 148.38,155.65 155.31,166.42 \" fill=\"none\" id=\"E8-&gt;E7\" style=\"stroke: #383838; stroke-width: 1.0; stroke-dasharray: 7.0,7.0;\"/><polygon fill=\"#383838\" points=\"159.72,173.29,157.9148,164.9389,152.8688,168.185,159.72,173.29\" style=\"stroke: #383838; stroke-width: 1.0;\"/><text fill=\"#000000\" font-family=\"sans-serif\" font-size=\"13\" lengthAdjust=\"spacingAndGlyphs\" textLength=\"64\" x=\"152\" y=\"158.0669\">«depend»</text></a><!--MD5=[cda1a449371ed3876427e1ef6c9fc8ab]\n",
       "@startuml\r\n",
       "skinparam ranksep 10\r\n",
       "skinparam rectangle {\r\n",
       " backgroundColor<<block>> LightGreen\r\n",
       "}\r\n",
       "skinparam monochrome true\r\n",
       "skinparam classbackgroundcolor white\r\n",
       "skinparam shadowing false\r\n",
       "skinparam wrapWidth 300\r\n",
       "hide circle\r\n",
       "\r\n",
       "package \"DependencyTest\" as E1  [[psysml:d3869743-6750-4f05-a5ce-51c4137f7251 ]]  {\r\n",
       "package \"System\" as E2  [[psysml:6b74be88-9b37-4afd-8ab0-bbd062a94e7e ]]  {\r\n",
       "package \"Application Layer\" as E3  [[psysml:03aab854-f405-4fcc-aa77-08da242f79f1 ]]  {\r\n",
       "}\r\n",
       "package \"Service Layer\" as E4  [[psysml:ad996126-15a5-42e2-8928-0fb76718612c ]]  {\r\n",
       "}\r\n",
       "package \"Data Layer\" as E5  [[psysml:17a101e7-475f-4fc3-82c9-609370bf1116 ]]  {\r\n",
       "}\r\n",
       "}\r\n",
       "comp usage \"x\" as E6  <<(T,blue) attribute>> [[psysml:881809a4-48f2-4fe8-9827-6dde0f998bab ]] {\r\n",
       "}\r\n",
       "comp usage \"y\" as E7  <<(T,blue) attribute>> [[psysml:190ef100-b940-43fb-97f3-4b9e1cd4417f ]] {\r\n",
       "}\r\n",
       "comp usage \"z\" as E8  <<(T,blue) attribute>> [[psysml:293eb67f-3e12-4287-ab19-bcded2d3124c ]] {\r\n",
       "}\r\n",
       "}\r\n",
       "E3 ..>> E4 [[psysml:8bc3dbe9-cd72-4429-a15e-d6826987fc7c ]] : <<depend>>\r\n",
       "E4 ..>> E5 [[psysml:a5d569dd-f966-4325-8014-b1c593712f38 ]] : <<depend>>\r\n",
       "E8 ..>> E6 [[psysml:e9cc0fc6-3b4b-4571-a4a8-99018107eac1 ]] : <<depend>>\r\n",
       "E8 ..>> E7 [[psysml:e9cc0fc6-3b4b-4571-a4a8-99018107eac1 ]] : <<depend>>\r\n",
       "@enduml\r\n",
       "\n",
       "PlantUML version 1.2020.13(Sat Jun 13 12:26:38 UTC 2020)\n",
       "(EPL source distribution)\n",
       "Java Runtime: OpenJDK Runtime Environment\n",
       "JVM: OpenJDK 64-Bit Server VM\n",
       "Default Encoding: UTF-8\n",
       "Language: en\n",
       "Country: null\n",
       "--></g></svg>"
      ]
     },
     "execution_count": 40,
     "metadata": {},
     "output_type": "execute_result"
    }
   ],
   "source": [
    "%viz --style=\"DEFAULT\" --view=\"Interconnection\" \"DependencyTest\""
   ]
  },
  {
   "cell_type": "code",
   "execution_count": 41,
   "id": "df12ba54",
   "metadata": {
    "execution": {
     "iopub.execute_input": "2021-10-03T08:27:20.689082Z",
     "iopub.status.busy": "2021-10-03T08:27:20.688614Z",
     "iopub.status.idle": "2021-10-03T08:27:20.694876Z",
     "shell.execute_reply": "2021-10-03T08:27:20.695194Z"
    }
   },
   "outputs": [
    {
     "data": {
      "image/svg+xml": [
       "<?xml version=\"1.0\" encoding=\"UTF-8\" standalone=\"no\"?><svg xmlns=\"http://www.w3.org/2000/svg\" xmlns:xlink=\"http://www.w3.org/1999/xlink\" contentScriptType=\"application/ecmascript\" contentStyleType=\"text/css\" height=\"12px\" preserveAspectRatio=\"none\" style=\"width:12px;height:12px;\" version=\"1.1\" viewBox=\"0 0 12 12\" width=\"12px\" zoomAndPan=\"magnify\"><defs/><g><!--MD5=[388f21188e31bfdd97050473b19af356]\n",
       "@startuml\r\n",
       "skinparam ranksep 8\r\n",
       "skinparam monochrome true\r\n",
       "skinparam classbackgroundcolor white\r\n",
       "skinparam shadowing false\r\n",
       "skinparam wrapWidth 300\r\n",
       "hide circle\r\n",
       "\r\n",
       "@enduml\r\n",
       "\n",
       "PlantUML version 1.2020.13(Sat Jun 13 12:26:38 UTC 2020)\n",
       "(EPL source distribution)\n",
       "Java Runtime: OpenJDK Runtime Environment\n",
       "JVM: OpenJDK 64-Bit Server VM\n",
       "Default Encoding: UTF-8\n",
       "Language: en\n",
       "Country: null\n",
       "--></g></svg>"
      ]
     },
     "execution_count": 41,
     "metadata": {},
     "output_type": "execute_result"
    }
   ],
   "source": [
    "%viz --style=\"DEFAULT\" --view=\"Action\" \"DependencyTest\""
   ]
  },
  {
   "cell_type": "code",
   "execution_count": 42,
   "id": "f06b989d",
   "metadata": {
    "execution": {
     "iopub.execute_input": "2021-10-03T08:27:20.745240Z",
     "iopub.status.busy": "2021-10-03T08:27:20.744667Z",
     "iopub.status.idle": "2021-10-03T08:27:20.750708Z",
     "shell.execute_reply": "2021-10-03T08:27:20.750103Z"
    }
   },
   "outputs": [
    {
     "data": {
      "image/svg+xml": [
       "<?xml version=\"1.0\" encoding=\"UTF-8\" standalone=\"no\"?><svg xmlns=\"http://www.w3.org/2000/svg\" xmlns:xlink=\"http://www.w3.org/1999/xlink\" contentScriptType=\"application/ecmascript\" contentStyleType=\"text/css\" height=\"12px\" preserveAspectRatio=\"none\" style=\"width:12px;height:12px;\" version=\"1.1\" viewBox=\"0 0 12 12\" width=\"12px\" zoomAndPan=\"magnify\"><defs/><g><!--MD5=[0b72472770326784bf6c2b53246e1e64]\n",
       "@startuml\r\n",
       "skinparam roundcorner 20\r\n",
       "skinparam BoxPadding 20\r\n",
       "skinparam SequenceBoxBackgroundColor #white\r\n",
       "skinparam style strictuml\r\n",
       "skinparam maxMessageSize 100\r\n",
       "skinparam monochrome true\r\n",
       "skinparam classbackgroundcolor white\r\n",
       "skinparam shadowing false\r\n",
       "skinparam wrapWidth 300\r\n",
       "hide circle\r\n",
       "\r\n",
       "@enduml\r\n",
       "\n",
       "PlantUML version 1.2020.13(Sat Jun 13 12:26:38 UTC 2020)\n",
       "(EPL source distribution)\n",
       "Java Runtime: OpenJDK Runtime Environment\n",
       "JVM: OpenJDK 64-Bit Server VM\n",
       "Default Encoding: UTF-8\n",
       "Language: en\n",
       "Country: null\n",
       "--></g></svg>"
      ]
     },
     "execution_count": 42,
     "metadata": {},
     "output_type": "execute_result"
    }
   ],
   "source": [
    "%viz --style=\"DEFAULT\" --view=\"Sequence\" \"DependencyTest\""
   ]
  },
  {
   "cell_type": "code",
   "execution_count": 43,
   "id": "5ec2ae3d",
   "metadata": {
    "execution": {
     "iopub.execute_input": "2021-10-03T08:27:20.798511Z",
     "iopub.status.busy": "2021-10-03T08:27:20.798284Z",
     "iopub.status.idle": "2021-10-03T08:27:20.829911Z",
     "shell.execute_reply": "2021-10-03T08:27:20.828022Z"
    }
   },
   "outputs": [
    {
     "data": {
      "image/svg+xml": [
       "<?xml version=\"1.0\" encoding=\"UTF-8\" standalone=\"no\"?><svg xmlns=\"http://www.w3.org/2000/svg\" xmlns:xlink=\"http://www.w3.org/1999/xlink\" contentScriptType=\"application/ecmascript\" contentStyleType=\"text/css\" height=\"449px\" preserveAspectRatio=\"none\" style=\"width:469px;height:449px;\" version=\"1.1\" viewBox=\"0 0 469 449\" width=\"469px\" zoomAndPan=\"magnify\"><defs/><g><!--MD5=[fbc87193dbaf4d95561dea2c320d4a47]\n",
       "cluster E1--><a href=\"psysml:d3869743-6750-4f05-a5ce-51c4137f7251\" target=\"_top\" title=\"psysml:d3869743-6750-4f05-a5ce-51c4137f7251\" xlink:actuate=\"onRequest\" xlink:href=\"psysml:d3869743-6750-4f05-a5ce-51c4137f7251\" xlink:show=\"new\" xlink:title=\"psysml:d3869743-6750-4f05-a5ce-51c4137f7251\" xlink:type=\"simple\"><polygon fill=\"#FFFFFF\" points=\"16,6,142,6,149,28.2969,447,28.2969,447,437,16,437,16,6\" style=\"stroke: #000000; stroke-width: 1.5;\"/><line style=\"stroke: #000000; stroke-width: 1.5;\" x1=\"16\" x2=\"149\" y1=\"28.2969\" y2=\"28.2969\"/><text fill=\"#000000\" font-family=\"sans-serif\" font-size=\"14\" font-weight=\"bold\" lengthAdjust=\"spacingAndGlyphs\" textLength=\"120\" x=\"20\" y=\"20.9951\">DependencyTest</text></a><!--MD5=[e4f7fae6ed58524ba242bb0b0d3be6b7]\n",
       "cluster E2--><a href=\"psysml:6b74be88-9b37-4afd-8ab0-bbd062a94e7e\" target=\"_top\" title=\"psysml:6b74be88-9b37-4afd-8ab0-bbd062a94e7e\" xlink:actuate=\"onRequest\" xlink:href=\"psysml:6b74be88-9b37-4afd-8ab0-bbd062a94e7e\" xlink:show=\"new\" xlink:title=\"psysml:6b74be88-9b37-4afd-8ab0-bbd062a94e7e\" xlink:type=\"simple\"><polygon fill=\"#FFFFFF\" points=\"255,49,312,49,319,71.2969,423,71.2969,423,413,255,413,255,49\" style=\"stroke: #000000; stroke-width: 1.5;\"/><line style=\"stroke: #000000; stroke-width: 1.5;\" x1=\"255\" x2=\"319\" y1=\"71.2969\" y2=\"71.2969\"/><text fill=\"#000000\" font-family=\"sans-serif\" font-size=\"14\" font-weight=\"bold\" lengthAdjust=\"spacingAndGlyphs\" textLength=\"51\" x=\"259\" y=\"63.9951\">System</text></a><!--MD5=[60a26617385b1d2d0262a64233df1f8d]\n",
       "class E6--><a href=\"psysml:881809a4-48f2-4fe8-9827-6dde0f998bab\" target=\"_top\" title=\"psysml:881809a4-48f2-4fe8-9827-6dde0f998bab\" xlink:actuate=\"onRequest\" xlink:href=\"psysml:881809a4-48f2-4fe8-9827-6dde0f998bab\" xlink:show=\"new\" xlink:title=\"psysml:881809a4-48f2-4fe8-9827-6dde0f998bab\" xlink:type=\"simple\"><rect fill=\"#FFFFFF\" height=\"45.9375\" id=\"E6\" rx=\"10\" ry=\"10\" style=\"stroke: #383838; stroke-width: 1.5;\" width=\"71\" x=\"32.5\" y=\"217.5\"/><text fill=\"#000000\" font-family=\"sans-serif\" font-size=\"12\" font-style=\"italic\" lengthAdjust=\"spacingAndGlyphs\" textLength=\"69\" x=\"33.5\" y=\"233.6387\">«attribute»</text><text fill=\"#000000\" font-family=\"sans-serif\" font-size=\"12\" lengthAdjust=\"spacingAndGlyphs\" textLength=\"6\" x=\"65\" y=\"247.6074\">x</text><line style=\"stroke: #383838; stroke-width: 1.5;\" x1=\"33.5\" x2=\"102.5\" y1=\"255.4375\" y2=\"255.4375\"/></a><!--MD5=[2156ba9850f5573cc1fc38a6a4b2f02b]\n",
       "class E7--><a href=\"psysml:190ef100-b940-43fb-97f3-4b9e1cd4417f\" target=\"_top\" title=\"psysml:190ef100-b940-43fb-97f3-4b9e1cd4417f\" xlink:actuate=\"onRequest\" xlink:href=\"psysml:190ef100-b940-43fb-97f3-4b9e1cd4417f\" xlink:show=\"new\" xlink:title=\"psysml:190ef100-b940-43fb-97f3-4b9e1cd4417f\" xlink:type=\"simple\"><rect fill=\"#FFFFFF\" height=\"45.9375\" id=\"E7\" rx=\"10\" ry=\"10\" style=\"stroke: #383838; stroke-width: 1.5;\" width=\"71\" x=\"138.5\" y=\"217.5\"/><text fill=\"#000000\" font-family=\"sans-serif\" font-size=\"12\" font-style=\"italic\" lengthAdjust=\"spacingAndGlyphs\" textLength=\"69\" x=\"139.5\" y=\"233.6387\">«attribute»</text><text fill=\"#000000\" font-family=\"sans-serif\" font-size=\"12\" lengthAdjust=\"spacingAndGlyphs\" textLength=\"6\" x=\"171\" y=\"247.6074\">y</text><line style=\"stroke: #383838; stroke-width: 1.5;\" x1=\"139.5\" x2=\"208.5\" y1=\"255.4375\" y2=\"255.4375\"/></a><!--MD5=[b9389687b975829384b498ac4b7476b2]\n",
       "class E8--><a href=\"psysml:293eb67f-3e12-4287-ab19-bcded2d3124c\" target=\"_top\" title=\"psysml:293eb67f-3e12-4287-ab19-bcded2d3124c\" xlink:actuate=\"onRequest\" xlink:href=\"psysml:293eb67f-3e12-4287-ab19-bcded2d3124c\" xlink:show=\"new\" xlink:title=\"psysml:293eb67f-3e12-4287-ab19-bcded2d3124c\" xlink:type=\"simple\"><rect fill=\"#FFFFFF\" height=\"45.9375\" id=\"E8\" rx=\"10\" ry=\"10\" style=\"stroke: #383838; stroke-width: 1.5;\" width=\"71\" x=\"84.5\" y=\"87.5\"/><text fill=\"#000000\" font-family=\"sans-serif\" font-size=\"12\" font-style=\"italic\" lengthAdjust=\"spacingAndGlyphs\" textLength=\"69\" x=\"85.5\" y=\"103.6387\">«attribute»</text><text fill=\"#000000\" font-family=\"sans-serif\" font-size=\"12\" lengthAdjust=\"spacingAndGlyphs\" textLength=\"5\" x=\"117.5\" y=\"117.6074\">z</text><line style=\"stroke: #383838; stroke-width: 1.5;\" x1=\"85.5\" x2=\"154.5\" y1=\"125.4375\" y2=\"125.4375\"/></a><a href=\"psysml:03aab854-f405-4fcc-aa77-08da242f79f1\" target=\"_top\" title=\"psysml:03aab854-f405-4fcc-aa77-08da242f79f1\" xlink:actuate=\"onRequest\" xlink:href=\"psysml:03aab854-f405-4fcc-aa77-08da242f79f1\" xlink:show=\"new\" xlink:title=\"psysml:03aab854-f405-4fcc-aa77-08da242f79f1\" xlink:type=\"simple\"><polygon fill=\"#FFFFFF\" points=\"271.5,84,392.5,84,399.5,106.2969,406.5,106.2969,406.5,136.5938,271.5,136.5938,271.5,84\" style=\"stroke: #000000; stroke-width: 1.5;\"/><line style=\"stroke: #000000; stroke-width: 1.5;\" x1=\"271.5\" x2=\"399.5\" y1=\"106.2969\" y2=\"106.2969\"/><text fill=\"#000000\" font-family=\"sans-serif\" font-size=\"14\" font-weight=\"bold\" lengthAdjust=\"spacingAndGlyphs\" textLength=\"115\" x=\"275.5\" y=\"98.9951\">Application Layer</text></a><a href=\"psysml:ad996126-15a5-42e2-8928-0fb76718612c\" target=\"_top\" title=\"psysml:ad996126-15a5-42e2-8928-0fb76718612c\" xlink:actuate=\"onRequest\" xlink:href=\"psysml:ad996126-15a5-42e2-8928-0fb76718612c\" xlink:show=\"new\" xlink:title=\"psysml:ad996126-15a5-42e2-8928-0fb76718612c\" xlink:type=\"simple\"><polygon fill=\"#FFFFFF\" points=\"284,214,380,214,387,236.2969,394,236.2969,394,266.5938,284,266.5938,284,214\" style=\"stroke: #000000; stroke-width: 1.5;\"/><line style=\"stroke: #000000; stroke-width: 1.5;\" x1=\"284\" x2=\"387\" y1=\"236.2969\" y2=\"236.2969\"/><text fill=\"#000000\" font-family=\"sans-serif\" font-size=\"14\" font-weight=\"bold\" lengthAdjust=\"spacingAndGlyphs\" textLength=\"90\" x=\"288\" y=\"228.9951\">Service Layer</text></a><a href=\"psysml:17a101e7-475f-4fc3-82c9-609370bf1116\" target=\"_top\" title=\"psysml:17a101e7-475f-4fc3-82c9-609370bf1116\" xlink:actuate=\"onRequest\" xlink:href=\"psysml:17a101e7-475f-4fc3-82c9-609370bf1116\" xlink:show=\"new\" xlink:title=\"psysml:17a101e7-475f-4fc3-82c9-609370bf1116\" xlink:type=\"simple\"><polygon fill=\"#FFFFFF\" points=\"293,344,371,344,378,366.2969,385,366.2969,385,396.5938,293,396.5938,293,344\" style=\"stroke: #000000; stroke-width: 1.5;\"/><line style=\"stroke: #000000; stroke-width: 1.5;\" x1=\"293\" x2=\"378\" y1=\"366.2969\" y2=\"366.2969\"/><text fill=\"#000000\" font-family=\"sans-serif\" font-size=\"14\" font-weight=\"bold\" lengthAdjust=\"spacingAndGlyphs\" textLength=\"72\" x=\"297\" y=\"358.9951\">Data Layer</text></a><!--MD5=[af87c684e3b0d8be13c1a698a818ef1e]\n",
       "link E3 to E4--><a href=\"psysml:8bc3dbe9-cd72-4429-a15e-d6826987fc7c\" target=\"_top\" title=\"psysml:8bc3dbe9-cd72-4429-a15e-d6826987fc7c\" xlink:actuate=\"onRequest\" xlink:href=\"psysml:8bc3dbe9-cd72-4429-a15e-d6826987fc7c\" xlink:show=\"new\" xlink:title=\"psysml:8bc3dbe9-cd72-4429-a15e-d6826987fc7c\" xlink:type=\"simple\"><path d=\"M339,137.1 C339,156.8 339,184.22 339,205.73 \" fill=\"none\" id=\"E3-&gt;E4\" style=\"stroke: #383838; stroke-width: 1.0; stroke-dasharray: 7.0,7.0;\"/><polygon fill=\"#383838\" points=\"339,213.95,342,205.95,336,205.95,339,213.95\" style=\"stroke: #383838; stroke-width: 1.0;\"/><text fill=\"#000000\" font-family=\"sans-serif\" font-size=\"13\" lengthAdjust=\"spacingAndGlyphs\" textLength=\"64\" x=\"340\" y=\"180.0669\">«depend»</text></a><!--MD5=[1b7591eae5389033d8d09a9d6721a717]\n",
       "link E4 to E5--><a href=\"psysml:a5d569dd-f966-4325-8014-b1c593712f38\" target=\"_top\" title=\"psysml:a5d569dd-f966-4325-8014-b1c593712f38\" xlink:actuate=\"onRequest\" xlink:href=\"psysml:a5d569dd-f966-4325-8014-b1c593712f38\" xlink:show=\"new\" xlink:title=\"psysml:a5d569dd-f966-4325-8014-b1c593712f38\" xlink:type=\"simple\"><path d=\"M339,267.1 C339,286.8 339,314.22 339,335.73 \" fill=\"none\" id=\"E4-&gt;E5\" style=\"stroke: #383838; stroke-width: 1.0; stroke-dasharray: 7.0,7.0;\"/><polygon fill=\"#383838\" points=\"339,343.95,342,335.95,336,335.95,339,343.95\" style=\"stroke: #383838; stroke-width: 1.0;\"/><text fill=\"#000000\" font-family=\"sans-serif\" font-size=\"13\" lengthAdjust=\"spacingAndGlyphs\" textLength=\"64\" x=\"340\" y=\"310.0669\">«depend»</text></a><!--MD5=[c5e8897d989ce984f93528998a7150fe]\n",
       "link E8 to E6--><a href=\"psysml:e9cc0fc6-3b4b-4571-a4a8-99018107eac1\" target=\"_top\" title=\"psysml:e9cc0fc6-3b4b-4571-a4a8-99018107eac1\" xlink:actuate=\"onRequest\" xlink:href=\"psysml:e9cc0fc6-3b4b-4571-a4a8-99018107eac1\" xlink:show=\"new\" xlink:title=\"psysml:e9cc0fc6-3b4b-4571-a4a8-99018107eac1\" xlink:type=\"simple\"><path d=\"M89.42,133.6 C79.35,142.68 69.37,154.11 64,167 C58.5,180.2 58.66,195.94 60.54,209.38 \" fill=\"none\" id=\"E8-&gt;E6\" style=\"stroke: #383838; stroke-width: 1.0; stroke-dasharray: 7.0,7.0;\"/><polygon fill=\"#383838\" points=\"61.9,217.4,63.517,209.0104,57.6018,210.0159,61.9,217.4\" style=\"stroke: #383838; stroke-width: 1.0;\"/><text fill=\"#000000\" font-family=\"sans-serif\" font-size=\"13\" lengthAdjust=\"spacingAndGlyphs\" textLength=\"64\" x=\"65\" y=\"180.0669\">«depend»</text></a><!--MD5=[bfa3c8b0d15052fdf50ae9310b491027]\n",
       "link E8 to E7--><a href=\"psysml:e9cc0fc6-3b4b-4571-a4a8-99018107eac1\" target=\"_top\" title=\"psysml:e9cc0fc6-3b4b-4571-a4a8-99018107eac1\" xlink:actuate=\"onRequest\" xlink:href=\"psysml:e9cc0fc6-3b4b-4571-a4a8-99018107eac1\" xlink:show=\"new\" xlink:title=\"psysml:e9cc0fc6-3b4b-4571-a4a8-99018107eac1\" xlink:type=\"simple\"><path d=\"M129.28,133.5 C138.17,154.57 151.64,186.5 161.47,209.81 \" fill=\"none\" id=\"E8-&gt;E7\" style=\"stroke: #383838; stroke-width: 1.0; stroke-dasharray: 7.0,7.0;\"/><polygon fill=\"#383838\" points=\"164.66,217.35,164.3241,208.8126,158.7933,211.1385,164.66,217.35\" style=\"stroke: #383838; stroke-width: 1.0;\"/><text fill=\"#000000\" font-family=\"sans-serif\" font-size=\"13\" lengthAdjust=\"spacingAndGlyphs\" textLength=\"64\" x=\"151\" y=\"180.0669\">«depend»</text></a><!--MD5=[d4101a333d6f4b95a8cda7de808fee0e]\n",
       "@startuml\r\n",
       "skinparam monochrome true\r\n",
       "skinparam classbackgroundcolor white\r\n",
       "skinparam shadowing false\r\n",
       "skinparam wrapWidth 300\r\n",
       "hide circle\r\n",
       "\r\n",
       "package \"DependencyTest\" as E1  [[psysml:d3869743-6750-4f05-a5ce-51c4137f7251 ]]  {\r\n",
       "package \"System\" as E2  [[psysml:6b74be88-9b37-4afd-8ab0-bbd062a94e7e ]]  {\r\n",
       "package \"Application Layer\" as E3  [[psysml:03aab854-f405-4fcc-aa77-08da242f79f1 ]]  {\r\n",
       "}\r\n",
       "package \"Service Layer\" as E4  [[psysml:ad996126-15a5-42e2-8928-0fb76718612c ]]  {\r\n",
       "}\r\n",
       "package \"Data Layer\" as E5  [[psysml:17a101e7-475f-4fc3-82c9-609370bf1116 ]]  {\r\n",
       "}\r\n",
       "}\r\n",
       "comp usage \"x\" as E6  <<(T,blue) attribute>> [[psysml:881809a4-48f2-4fe8-9827-6dde0f998bab ]] {\r\n",
       "}\r\n",
       "comp usage \"y\" as E7  <<(T,blue) attribute>> [[psysml:190ef100-b940-43fb-97f3-4b9e1cd4417f ]] {\r\n",
       "}\r\n",
       "comp usage \"z\" as E8  <<(T,blue) attribute>> [[psysml:293eb67f-3e12-4287-ab19-bcded2d3124c ]] {\r\n",
       "}\r\n",
       "}\r\n",
       "E3 ..>> E4 [[psysml:8bc3dbe9-cd72-4429-a15e-d6826987fc7c ]] : <<depend>>\r\n",
       "E4 ..>> E5 [[psysml:a5d569dd-f966-4325-8014-b1c593712f38 ]] : <<depend>>\r\n",
       "E8 ..>> E6 [[psysml:e9cc0fc6-3b4b-4571-a4a8-99018107eac1 ]] : <<depend>>\r\n",
       "E8 ..>> E7 [[psysml:e9cc0fc6-3b4b-4571-a4a8-99018107eac1 ]] : <<depend>>\r\n",
       "@enduml\r\n",
       "\n",
       "PlantUML version 1.2020.13(Sat Jun 13 12:26:38 UTC 2020)\n",
       "(EPL source distribution)\n",
       "Java Runtime: OpenJDK Runtime Environment\n",
       "JVM: OpenJDK 64-Bit Server VM\n",
       "Default Encoding: UTF-8\n",
       "Language: en\n",
       "Country: null\n",
       "--></g></svg>"
      ]
     },
     "execution_count": 43,
     "metadata": {},
     "output_type": "execute_result"
    }
   ],
   "source": [
    "%viz --style=\"DEFAULT\" --view=\"MIXED\" \"DependencyTest\""
   ]
  },
  {
   "cell_type": "code",
   "execution_count": 44,
   "id": "0cc48af6",
   "metadata": {
    "execution": {
     "iopub.execute_input": "2021-10-03T08:27:20.878794Z",
     "iopub.status.busy": "2021-10-03T08:27:20.878349Z",
     "iopub.status.idle": "2021-10-03T08:27:20.911318Z",
     "shell.execute_reply": "2021-10-03T08:27:20.910915Z"
    }
   },
   "outputs": [
    {
     "data": {
      "image/svg+xml": [
       "<?xml version=\"1.0\" encoding=\"UTF-8\" standalone=\"no\"?><svg xmlns=\"http://www.w3.org/2000/svg\" xmlns:xlink=\"http://www.w3.org/1999/xlink\" contentScriptType=\"application/ecmascript\" contentStyleType=\"text/css\" height=\"449px\" preserveAspectRatio=\"none\" style=\"width:469px;height:449px;\" version=\"1.1\" viewBox=\"0 0 469 449\" width=\"469px\" zoomAndPan=\"magnify\"><defs/><g><!--MD5=[fbc87193dbaf4d95561dea2c320d4a47]\n",
       "cluster E1--><a href=\"psysml:d3869743-6750-4f05-a5ce-51c4137f7251\" target=\"_top\" title=\"psysml:d3869743-6750-4f05-a5ce-51c4137f7251\" xlink:actuate=\"onRequest\" xlink:href=\"psysml:d3869743-6750-4f05-a5ce-51c4137f7251\" xlink:show=\"new\" xlink:title=\"psysml:d3869743-6750-4f05-a5ce-51c4137f7251\" xlink:type=\"simple\"><polygon fill=\"#FFFFFF\" points=\"16,6,142,6,149,28.2969,447,28.2969,447,437,16,437,16,6\" style=\"stroke: #000000; stroke-width: 1.5;\"/><line style=\"stroke: #000000; stroke-width: 1.5;\" x1=\"16\" x2=\"149\" y1=\"28.2969\" y2=\"28.2969\"/><text fill=\"#000000\" font-family=\"sans-serif\" font-size=\"14\" font-weight=\"bold\" lengthAdjust=\"spacingAndGlyphs\" textLength=\"120\" x=\"20\" y=\"20.9951\">DependencyTest</text></a><!--MD5=[e4f7fae6ed58524ba242bb0b0d3be6b7]\n",
       "cluster E2--><a href=\"psysml:6b74be88-9b37-4afd-8ab0-bbd062a94e7e\" target=\"_top\" title=\"psysml:6b74be88-9b37-4afd-8ab0-bbd062a94e7e\" xlink:actuate=\"onRequest\" xlink:href=\"psysml:6b74be88-9b37-4afd-8ab0-bbd062a94e7e\" xlink:show=\"new\" xlink:title=\"psysml:6b74be88-9b37-4afd-8ab0-bbd062a94e7e\" xlink:type=\"simple\"><polygon fill=\"#FFFFFF\" points=\"255,49,312,49,319,71.2969,423,71.2969,423,413,255,413,255,49\" style=\"stroke: #000000; stroke-width: 1.5;\"/><line style=\"stroke: #000000; stroke-width: 1.5;\" x1=\"255\" x2=\"319\" y1=\"71.2969\" y2=\"71.2969\"/><text fill=\"#000000\" font-family=\"sans-serif\" font-size=\"14\" font-weight=\"bold\" lengthAdjust=\"spacingAndGlyphs\" textLength=\"51\" x=\"259\" y=\"63.9951\">System</text></a><!--MD5=[60a26617385b1d2d0262a64233df1f8d]\n",
       "class E6--><a href=\"psysml:881809a4-48f2-4fe8-9827-6dde0f998bab\" target=\"_top\" title=\"psysml:881809a4-48f2-4fe8-9827-6dde0f998bab\" xlink:actuate=\"onRequest\" xlink:href=\"psysml:881809a4-48f2-4fe8-9827-6dde0f998bab\" xlink:show=\"new\" xlink:title=\"psysml:881809a4-48f2-4fe8-9827-6dde0f998bab\" xlink:type=\"simple\"><rect fill=\"#FFFFFF\" height=\"45.9375\" id=\"E6\" rx=\"10\" ry=\"10\" style=\"stroke: #383838; stroke-width: 1.5;\" width=\"71\" x=\"32.5\" y=\"217.5\"/><text fill=\"#000000\" font-family=\"sans-serif\" font-size=\"12\" font-style=\"italic\" lengthAdjust=\"spacingAndGlyphs\" textLength=\"69\" x=\"33.5\" y=\"233.6387\">«attribute»</text><text fill=\"#000000\" font-family=\"sans-serif\" font-size=\"12\" lengthAdjust=\"spacingAndGlyphs\" textLength=\"6\" x=\"65\" y=\"247.6074\">x</text><line style=\"stroke: #383838; stroke-width: 1.5;\" x1=\"33.5\" x2=\"102.5\" y1=\"255.4375\" y2=\"255.4375\"/></a><!--MD5=[2156ba9850f5573cc1fc38a6a4b2f02b]\n",
       "class E7--><a href=\"psysml:190ef100-b940-43fb-97f3-4b9e1cd4417f\" target=\"_top\" title=\"psysml:190ef100-b940-43fb-97f3-4b9e1cd4417f\" xlink:actuate=\"onRequest\" xlink:href=\"psysml:190ef100-b940-43fb-97f3-4b9e1cd4417f\" xlink:show=\"new\" xlink:title=\"psysml:190ef100-b940-43fb-97f3-4b9e1cd4417f\" xlink:type=\"simple\"><rect fill=\"#FFFFFF\" height=\"45.9375\" id=\"E7\" rx=\"10\" ry=\"10\" style=\"stroke: #383838; stroke-width: 1.5;\" width=\"71\" x=\"138.5\" y=\"217.5\"/><text fill=\"#000000\" font-family=\"sans-serif\" font-size=\"12\" font-style=\"italic\" lengthAdjust=\"spacingAndGlyphs\" textLength=\"69\" x=\"139.5\" y=\"233.6387\">«attribute»</text><text fill=\"#000000\" font-family=\"sans-serif\" font-size=\"12\" lengthAdjust=\"spacingAndGlyphs\" textLength=\"6\" x=\"171\" y=\"247.6074\">y</text><line style=\"stroke: #383838; stroke-width: 1.5;\" x1=\"139.5\" x2=\"208.5\" y1=\"255.4375\" y2=\"255.4375\"/></a><!--MD5=[b9389687b975829384b498ac4b7476b2]\n",
       "class E8--><a href=\"psysml:293eb67f-3e12-4287-ab19-bcded2d3124c\" target=\"_top\" title=\"psysml:293eb67f-3e12-4287-ab19-bcded2d3124c\" xlink:actuate=\"onRequest\" xlink:href=\"psysml:293eb67f-3e12-4287-ab19-bcded2d3124c\" xlink:show=\"new\" xlink:title=\"psysml:293eb67f-3e12-4287-ab19-bcded2d3124c\" xlink:type=\"simple\"><rect fill=\"#FFFFFF\" height=\"45.9375\" id=\"E8\" rx=\"10\" ry=\"10\" style=\"stroke: #383838; stroke-width: 1.5;\" width=\"71\" x=\"84.5\" y=\"87.5\"/><text fill=\"#000000\" font-family=\"sans-serif\" font-size=\"12\" font-style=\"italic\" lengthAdjust=\"spacingAndGlyphs\" textLength=\"69\" x=\"85.5\" y=\"103.6387\">«attribute»</text><text fill=\"#000000\" font-family=\"sans-serif\" font-size=\"12\" lengthAdjust=\"spacingAndGlyphs\" textLength=\"5\" x=\"117.5\" y=\"117.6074\">z</text><line style=\"stroke: #383838; stroke-width: 1.5;\" x1=\"85.5\" x2=\"154.5\" y1=\"125.4375\" y2=\"125.4375\"/></a><a href=\"psysml:03aab854-f405-4fcc-aa77-08da242f79f1\" target=\"_top\" title=\"psysml:03aab854-f405-4fcc-aa77-08da242f79f1\" xlink:actuate=\"onRequest\" xlink:href=\"psysml:03aab854-f405-4fcc-aa77-08da242f79f1\" xlink:show=\"new\" xlink:title=\"psysml:03aab854-f405-4fcc-aa77-08da242f79f1\" xlink:type=\"simple\"><polygon fill=\"#FFFFFF\" points=\"271.5,84,392.5,84,399.5,106.2969,406.5,106.2969,406.5,136.5938,271.5,136.5938,271.5,84\" style=\"stroke: #000000; stroke-width: 1.5;\"/><line style=\"stroke: #000000; stroke-width: 1.5;\" x1=\"271.5\" x2=\"399.5\" y1=\"106.2969\" y2=\"106.2969\"/><text fill=\"#000000\" font-family=\"sans-serif\" font-size=\"14\" font-weight=\"bold\" lengthAdjust=\"spacingAndGlyphs\" textLength=\"115\" x=\"275.5\" y=\"98.9951\">Application Layer</text></a><a href=\"psysml:ad996126-15a5-42e2-8928-0fb76718612c\" target=\"_top\" title=\"psysml:ad996126-15a5-42e2-8928-0fb76718612c\" xlink:actuate=\"onRequest\" xlink:href=\"psysml:ad996126-15a5-42e2-8928-0fb76718612c\" xlink:show=\"new\" xlink:title=\"psysml:ad996126-15a5-42e2-8928-0fb76718612c\" xlink:type=\"simple\"><polygon fill=\"#FFFFFF\" points=\"284,214,380,214,387,236.2969,394,236.2969,394,266.5938,284,266.5938,284,214\" style=\"stroke: #000000; stroke-width: 1.5;\"/><line style=\"stroke: #000000; stroke-width: 1.5;\" x1=\"284\" x2=\"387\" y1=\"236.2969\" y2=\"236.2969\"/><text fill=\"#000000\" font-family=\"sans-serif\" font-size=\"14\" font-weight=\"bold\" lengthAdjust=\"spacingAndGlyphs\" textLength=\"90\" x=\"288\" y=\"228.9951\">Service Layer</text></a><a href=\"psysml:17a101e7-475f-4fc3-82c9-609370bf1116\" target=\"_top\" title=\"psysml:17a101e7-475f-4fc3-82c9-609370bf1116\" xlink:actuate=\"onRequest\" xlink:href=\"psysml:17a101e7-475f-4fc3-82c9-609370bf1116\" xlink:show=\"new\" xlink:title=\"psysml:17a101e7-475f-4fc3-82c9-609370bf1116\" xlink:type=\"simple\"><polygon fill=\"#FFFFFF\" points=\"293,344,371,344,378,366.2969,385,366.2969,385,396.5938,293,396.5938,293,344\" style=\"stroke: #000000; stroke-width: 1.5;\"/><line style=\"stroke: #000000; stroke-width: 1.5;\" x1=\"293\" x2=\"378\" y1=\"366.2969\" y2=\"366.2969\"/><text fill=\"#000000\" font-family=\"sans-serif\" font-size=\"14\" font-weight=\"bold\" lengthAdjust=\"spacingAndGlyphs\" textLength=\"72\" x=\"297\" y=\"358.9951\">Data Layer</text></a><!--MD5=[af87c684e3b0d8be13c1a698a818ef1e]\n",
       "link E3 to E4--><a href=\"psysml:8bc3dbe9-cd72-4429-a15e-d6826987fc7c\" target=\"_top\" title=\"psysml:8bc3dbe9-cd72-4429-a15e-d6826987fc7c\" xlink:actuate=\"onRequest\" xlink:href=\"psysml:8bc3dbe9-cd72-4429-a15e-d6826987fc7c\" xlink:show=\"new\" xlink:title=\"psysml:8bc3dbe9-cd72-4429-a15e-d6826987fc7c\" xlink:type=\"simple\"><path d=\"M339,137.1 C339,156.8 339,184.22 339,205.73 \" fill=\"none\" id=\"E3-&gt;E4\" style=\"stroke: #383838; stroke-width: 1.0; stroke-dasharray: 7.0,7.0;\"/><polygon fill=\"#383838\" points=\"339,213.95,342,205.95,336,205.95,339,213.95\" style=\"stroke: #383838; stroke-width: 1.0;\"/><text fill=\"#000000\" font-family=\"sans-serif\" font-size=\"13\" lengthAdjust=\"spacingAndGlyphs\" textLength=\"64\" x=\"340\" y=\"180.0669\">«depend»</text></a><!--MD5=[1b7591eae5389033d8d09a9d6721a717]\n",
       "link E4 to E5--><a href=\"psysml:a5d569dd-f966-4325-8014-b1c593712f38\" target=\"_top\" title=\"psysml:a5d569dd-f966-4325-8014-b1c593712f38\" xlink:actuate=\"onRequest\" xlink:href=\"psysml:a5d569dd-f966-4325-8014-b1c593712f38\" xlink:show=\"new\" xlink:title=\"psysml:a5d569dd-f966-4325-8014-b1c593712f38\" xlink:type=\"simple\"><path d=\"M339,267.1 C339,286.8 339,314.22 339,335.73 \" fill=\"none\" id=\"E4-&gt;E5\" style=\"stroke: #383838; stroke-width: 1.0; stroke-dasharray: 7.0,7.0;\"/><polygon fill=\"#383838\" points=\"339,343.95,342,335.95,336,335.95,339,343.95\" style=\"stroke: #383838; stroke-width: 1.0;\"/><text fill=\"#000000\" font-family=\"sans-serif\" font-size=\"13\" lengthAdjust=\"spacingAndGlyphs\" textLength=\"64\" x=\"340\" y=\"310.0669\">«depend»</text></a><!--MD5=[c5e8897d989ce984f93528998a7150fe]\n",
       "link E8 to E6--><a href=\"psysml:e9cc0fc6-3b4b-4571-a4a8-99018107eac1\" target=\"_top\" title=\"psysml:e9cc0fc6-3b4b-4571-a4a8-99018107eac1\" xlink:actuate=\"onRequest\" xlink:href=\"psysml:e9cc0fc6-3b4b-4571-a4a8-99018107eac1\" xlink:show=\"new\" xlink:title=\"psysml:e9cc0fc6-3b4b-4571-a4a8-99018107eac1\" xlink:type=\"simple\"><path d=\"M89.42,133.6 C79.35,142.68 69.37,154.11 64,167 C58.5,180.2 58.66,195.94 60.54,209.38 \" fill=\"none\" id=\"E8-&gt;E6\" style=\"stroke: #383838; stroke-width: 1.0; stroke-dasharray: 7.0,7.0;\"/><polygon fill=\"#383838\" points=\"61.9,217.4,63.517,209.0104,57.6018,210.0159,61.9,217.4\" style=\"stroke: #383838; stroke-width: 1.0;\"/><text fill=\"#000000\" font-family=\"sans-serif\" font-size=\"13\" lengthAdjust=\"spacingAndGlyphs\" textLength=\"64\" x=\"65\" y=\"180.0669\">«depend»</text></a><!--MD5=[bfa3c8b0d15052fdf50ae9310b491027]\n",
       "link E8 to E7--><a href=\"psysml:e9cc0fc6-3b4b-4571-a4a8-99018107eac1\" target=\"_top\" title=\"psysml:e9cc0fc6-3b4b-4571-a4a8-99018107eac1\" xlink:actuate=\"onRequest\" xlink:href=\"psysml:e9cc0fc6-3b4b-4571-a4a8-99018107eac1\" xlink:show=\"new\" xlink:title=\"psysml:e9cc0fc6-3b4b-4571-a4a8-99018107eac1\" xlink:type=\"simple\"><path d=\"M129.28,133.5 C138.17,154.57 151.64,186.5 161.47,209.81 \" fill=\"none\" id=\"E8-&gt;E7\" style=\"stroke: #383838; stroke-width: 1.0; stroke-dasharray: 7.0,7.0;\"/><polygon fill=\"#383838\" points=\"164.66,217.35,164.3241,208.8126,158.7933,211.1385,164.66,217.35\" style=\"stroke: #383838; stroke-width: 1.0;\"/><text fill=\"#000000\" font-family=\"sans-serif\" font-size=\"13\" lengthAdjust=\"spacingAndGlyphs\" textLength=\"64\" x=\"151\" y=\"180.0669\">«depend»</text></a><!--MD5=[0ce299708f68b8b82ee4b994cea96813]\n",
       "@startuml\r\n",
       "top to bottom direction\r\n",
       "skinparam monochrome true\r\n",
       "skinparam classbackgroundcolor white\r\n",
       "skinparam shadowing false\r\n",
       "skinparam wrapWidth 300\r\n",
       "hide circle\r\n",
       "\r\n",
       "package \"DependencyTest\" as E1  [[psysml:d3869743-6750-4f05-a5ce-51c4137f7251 ]]  {\r\n",
       "package \"System\" as E2  [[psysml:6b74be88-9b37-4afd-8ab0-bbd062a94e7e ]]  {\r\n",
       "package \"Application Layer\" as E3  [[psysml:03aab854-f405-4fcc-aa77-08da242f79f1 ]]  {\r\n",
       "}\r\n",
       "package \"Service Layer\" as E4  [[psysml:ad996126-15a5-42e2-8928-0fb76718612c ]]  {\r\n",
       "}\r\n",
       "package \"Data Layer\" as E5  [[psysml:17a101e7-475f-4fc3-82c9-609370bf1116 ]]  {\r\n",
       "}\r\n",
       "}\r\n",
       "comp usage \"x\" as E6  <<(T,blue) attribute>> [[psysml:881809a4-48f2-4fe8-9827-6dde0f998bab ]] {\r\n",
       "}\r\n",
       "comp usage \"y\" as E7  <<(T,blue) attribute>> [[psysml:190ef100-b940-43fb-97f3-4b9e1cd4417f ]] {\r\n",
       "}\r\n",
       "comp usage \"z\" as E8  <<(T,blue) attribute>> [[psysml:293eb67f-3e12-4287-ab19-bcded2d3124c ]] {\r\n",
       "}\r\n",
       "}\r\n",
       "E3 ..>> E4 [[psysml:8bc3dbe9-cd72-4429-a15e-d6826987fc7c ]] : <<depend>>\r\n",
       "E4 ..>> E5 [[psysml:a5d569dd-f966-4325-8014-b1c593712f38 ]] : <<depend>>\r\n",
       "E8 ..>> E6 [[psysml:e9cc0fc6-3b4b-4571-a4a8-99018107eac1 ]] : <<depend>>\r\n",
       "E8 ..>> E7 [[psysml:e9cc0fc6-3b4b-4571-a4a8-99018107eac1 ]] : <<depend>>\r\n",
       "@enduml\r\n",
       "\n",
       "PlantUML version 1.2020.13(Sat Jun 13 12:26:38 UTC 2020)\n",
       "(EPL source distribution)\n",
       "Java Runtime: OpenJDK Runtime Environment\n",
       "JVM: OpenJDK 64-Bit Server VM\n",
       "Default Encoding: UTF-8\n",
       "Language: en\n",
       "Country: null\n",
       "--></g></svg>"
      ]
     },
     "execution_count": 44,
     "metadata": {},
     "output_type": "execute_result"
    }
   ],
   "source": [
    "%viz --style=\"TB\" --view=\"Default\" \"DependencyTest\""
   ]
  },
  {
   "cell_type": "code",
   "execution_count": 45,
   "id": "47bfcec6",
   "metadata": {
    "execution": {
     "iopub.execute_input": "2021-10-03T08:27:20.960040Z",
     "iopub.status.busy": "2021-10-03T08:27:20.959621Z",
     "iopub.status.idle": "2021-10-03T08:27:20.995522Z",
     "shell.execute_reply": "2021-10-03T08:27:20.993664Z"
    }
   },
   "outputs": [
    {
     "data": {
      "image/svg+xml": [
       "<?xml version=\"1.0\" encoding=\"UTF-8\" standalone=\"no\"?><svg xmlns=\"http://www.w3.org/2000/svg\" xmlns:xlink=\"http://www.w3.org/1999/xlink\" contentScriptType=\"application/ecmascript\" contentStyleType=\"text/css\" height=\"449px\" preserveAspectRatio=\"none\" style=\"width:469px;height:449px;\" version=\"1.1\" viewBox=\"0 0 469 449\" width=\"469px\" zoomAndPan=\"magnify\"><defs/><g><!--MD5=[fbc87193dbaf4d95561dea2c320d4a47]\n",
       "cluster E1--><a href=\"psysml:d3869743-6750-4f05-a5ce-51c4137f7251\" target=\"_top\" title=\"psysml:d3869743-6750-4f05-a5ce-51c4137f7251\" xlink:actuate=\"onRequest\" xlink:href=\"psysml:d3869743-6750-4f05-a5ce-51c4137f7251\" xlink:show=\"new\" xlink:title=\"psysml:d3869743-6750-4f05-a5ce-51c4137f7251\" xlink:type=\"simple\"><polygon fill=\"#FFFFFF\" points=\"16,6,142,6,149,28.2969,447,28.2969,447,437,16,437,16,6\" style=\"stroke: #000000; stroke-width: 1.5;\"/><line style=\"stroke: #000000; stroke-width: 1.5;\" x1=\"16\" x2=\"149\" y1=\"28.2969\" y2=\"28.2969\"/><text fill=\"#000000\" font-family=\"sans-serif\" font-size=\"14\" font-weight=\"bold\" lengthAdjust=\"spacingAndGlyphs\" textLength=\"120\" x=\"20\" y=\"20.9951\">DependencyTest</text></a><!--MD5=[e4f7fae6ed58524ba242bb0b0d3be6b7]\n",
       "cluster E2--><a href=\"psysml:6b74be88-9b37-4afd-8ab0-bbd062a94e7e\" target=\"_top\" title=\"psysml:6b74be88-9b37-4afd-8ab0-bbd062a94e7e\" xlink:actuate=\"onRequest\" xlink:href=\"psysml:6b74be88-9b37-4afd-8ab0-bbd062a94e7e\" xlink:show=\"new\" xlink:title=\"psysml:6b74be88-9b37-4afd-8ab0-bbd062a94e7e\" xlink:type=\"simple\"><polygon fill=\"#FFFFFF\" points=\"255,49,312,49,319,71.2969,423,71.2969,423,413,255,413,255,49\" style=\"stroke: #000000; stroke-width: 1.5;\"/><line style=\"stroke: #000000; stroke-width: 1.5;\" x1=\"255\" x2=\"319\" y1=\"71.2969\" y2=\"71.2969\"/><text fill=\"#000000\" font-family=\"sans-serif\" font-size=\"14\" font-weight=\"bold\" lengthAdjust=\"spacingAndGlyphs\" textLength=\"51\" x=\"259\" y=\"63.9951\">System</text></a><!--MD5=[60a26617385b1d2d0262a64233df1f8d]\n",
       "class E6--><a href=\"psysml:881809a4-48f2-4fe8-9827-6dde0f998bab\" target=\"_top\" title=\"psysml:881809a4-48f2-4fe8-9827-6dde0f998bab\" xlink:actuate=\"onRequest\" xlink:href=\"psysml:881809a4-48f2-4fe8-9827-6dde0f998bab\" xlink:show=\"new\" xlink:title=\"psysml:881809a4-48f2-4fe8-9827-6dde0f998bab\" xlink:type=\"simple\"><rect fill=\"#FFFFFF\" height=\"45.9375\" id=\"E6\" rx=\"10\" ry=\"10\" style=\"stroke: #383838; stroke-width: 1.5;\" width=\"71\" x=\"32.5\" y=\"217.5\"/><text fill=\"#000000\" font-family=\"sans-serif\" font-size=\"12\" font-style=\"italic\" lengthAdjust=\"spacingAndGlyphs\" textLength=\"69\" x=\"33.5\" y=\"233.6387\">«attribute»</text><text fill=\"#000000\" font-family=\"sans-serif\" font-size=\"12\" lengthAdjust=\"spacingAndGlyphs\" textLength=\"6\" x=\"65\" y=\"247.6074\">x</text><line style=\"stroke: #383838; stroke-width: 1.5;\" x1=\"33.5\" x2=\"102.5\" y1=\"255.4375\" y2=\"255.4375\"/></a><!--MD5=[2156ba9850f5573cc1fc38a6a4b2f02b]\n",
       "class E7--><a href=\"psysml:190ef100-b940-43fb-97f3-4b9e1cd4417f\" target=\"_top\" title=\"psysml:190ef100-b940-43fb-97f3-4b9e1cd4417f\" xlink:actuate=\"onRequest\" xlink:href=\"psysml:190ef100-b940-43fb-97f3-4b9e1cd4417f\" xlink:show=\"new\" xlink:title=\"psysml:190ef100-b940-43fb-97f3-4b9e1cd4417f\" xlink:type=\"simple\"><rect fill=\"#FFFFFF\" height=\"45.9375\" id=\"E7\" rx=\"10\" ry=\"10\" style=\"stroke: #383838; stroke-width: 1.5;\" width=\"71\" x=\"138.5\" y=\"217.5\"/><text fill=\"#000000\" font-family=\"sans-serif\" font-size=\"12\" font-style=\"italic\" lengthAdjust=\"spacingAndGlyphs\" textLength=\"69\" x=\"139.5\" y=\"233.6387\">«attribute»</text><text fill=\"#000000\" font-family=\"sans-serif\" font-size=\"12\" lengthAdjust=\"spacingAndGlyphs\" textLength=\"6\" x=\"171\" y=\"247.6074\">y</text><line style=\"stroke: #383838; stroke-width: 1.5;\" x1=\"139.5\" x2=\"208.5\" y1=\"255.4375\" y2=\"255.4375\"/></a><!--MD5=[b9389687b975829384b498ac4b7476b2]\n",
       "class E8--><a href=\"psysml:293eb67f-3e12-4287-ab19-bcded2d3124c\" target=\"_top\" title=\"psysml:293eb67f-3e12-4287-ab19-bcded2d3124c\" xlink:actuate=\"onRequest\" xlink:href=\"psysml:293eb67f-3e12-4287-ab19-bcded2d3124c\" xlink:show=\"new\" xlink:title=\"psysml:293eb67f-3e12-4287-ab19-bcded2d3124c\" xlink:type=\"simple\"><rect fill=\"#FFFFFF\" height=\"45.9375\" id=\"E8\" rx=\"10\" ry=\"10\" style=\"stroke: #383838; stroke-width: 1.5;\" width=\"71\" x=\"84.5\" y=\"87.5\"/><text fill=\"#000000\" font-family=\"sans-serif\" font-size=\"12\" font-style=\"italic\" lengthAdjust=\"spacingAndGlyphs\" textLength=\"69\" x=\"85.5\" y=\"103.6387\">«attribute»</text><text fill=\"#000000\" font-family=\"sans-serif\" font-size=\"12\" lengthAdjust=\"spacingAndGlyphs\" textLength=\"5\" x=\"117.5\" y=\"117.6074\">z</text><line style=\"stroke: #383838; stroke-width: 1.5;\" x1=\"85.5\" x2=\"154.5\" y1=\"125.4375\" y2=\"125.4375\"/></a><a href=\"psysml:03aab854-f405-4fcc-aa77-08da242f79f1\" target=\"_top\" title=\"psysml:03aab854-f405-4fcc-aa77-08da242f79f1\" xlink:actuate=\"onRequest\" xlink:href=\"psysml:03aab854-f405-4fcc-aa77-08da242f79f1\" xlink:show=\"new\" xlink:title=\"psysml:03aab854-f405-4fcc-aa77-08da242f79f1\" xlink:type=\"simple\"><polygon fill=\"#FFFFFF\" points=\"271.5,84,392.5,84,399.5,106.2969,406.5,106.2969,406.5,136.5938,271.5,136.5938,271.5,84\" style=\"stroke: #000000; stroke-width: 1.5;\"/><line style=\"stroke: #000000; stroke-width: 1.5;\" x1=\"271.5\" x2=\"399.5\" y1=\"106.2969\" y2=\"106.2969\"/><text fill=\"#000000\" font-family=\"sans-serif\" font-size=\"14\" font-weight=\"bold\" lengthAdjust=\"spacingAndGlyphs\" textLength=\"115\" x=\"275.5\" y=\"98.9951\">Application Layer</text></a><a href=\"psysml:ad996126-15a5-42e2-8928-0fb76718612c\" target=\"_top\" title=\"psysml:ad996126-15a5-42e2-8928-0fb76718612c\" xlink:actuate=\"onRequest\" xlink:href=\"psysml:ad996126-15a5-42e2-8928-0fb76718612c\" xlink:show=\"new\" xlink:title=\"psysml:ad996126-15a5-42e2-8928-0fb76718612c\" xlink:type=\"simple\"><polygon fill=\"#FFFFFF\" points=\"284,214,380,214,387,236.2969,394,236.2969,394,266.5938,284,266.5938,284,214\" style=\"stroke: #000000; stroke-width: 1.5;\"/><line style=\"stroke: #000000; stroke-width: 1.5;\" x1=\"284\" x2=\"387\" y1=\"236.2969\" y2=\"236.2969\"/><text fill=\"#000000\" font-family=\"sans-serif\" font-size=\"14\" font-weight=\"bold\" lengthAdjust=\"spacingAndGlyphs\" textLength=\"90\" x=\"288\" y=\"228.9951\">Service Layer</text></a><a href=\"psysml:17a101e7-475f-4fc3-82c9-609370bf1116\" target=\"_top\" title=\"psysml:17a101e7-475f-4fc3-82c9-609370bf1116\" xlink:actuate=\"onRequest\" xlink:href=\"psysml:17a101e7-475f-4fc3-82c9-609370bf1116\" xlink:show=\"new\" xlink:title=\"psysml:17a101e7-475f-4fc3-82c9-609370bf1116\" xlink:type=\"simple\"><polygon fill=\"#FFFFFF\" points=\"293,344,371,344,378,366.2969,385,366.2969,385,396.5938,293,396.5938,293,344\" style=\"stroke: #000000; stroke-width: 1.5;\"/><line style=\"stroke: #000000; stroke-width: 1.5;\" x1=\"293\" x2=\"378\" y1=\"366.2969\" y2=\"366.2969\"/><text fill=\"#000000\" font-family=\"sans-serif\" font-size=\"14\" font-weight=\"bold\" lengthAdjust=\"spacingAndGlyphs\" textLength=\"72\" x=\"297\" y=\"358.9951\">Data Layer</text></a><!--MD5=[af87c684e3b0d8be13c1a698a818ef1e]\n",
       "link E3 to E4--><a href=\"psysml:8bc3dbe9-cd72-4429-a15e-d6826987fc7c\" target=\"_top\" title=\"psysml:8bc3dbe9-cd72-4429-a15e-d6826987fc7c\" xlink:actuate=\"onRequest\" xlink:href=\"psysml:8bc3dbe9-cd72-4429-a15e-d6826987fc7c\" xlink:show=\"new\" xlink:title=\"psysml:8bc3dbe9-cd72-4429-a15e-d6826987fc7c\" xlink:type=\"simple\"><path d=\"M339,137.1 C339,156.8 339,184.22 339,205.73 \" fill=\"none\" id=\"E3-&gt;E4\" style=\"stroke: #383838; stroke-width: 1.0; stroke-dasharray: 7.0,7.0;\"/><polygon fill=\"#383838\" points=\"339,213.95,342,205.95,336,205.95,339,213.95\" style=\"stroke: #383838; stroke-width: 1.0;\"/><text fill=\"#000000\" font-family=\"sans-serif\" font-size=\"13\" lengthAdjust=\"spacingAndGlyphs\" textLength=\"64\" x=\"340\" y=\"180.0669\">«depend»</text></a><!--MD5=[1b7591eae5389033d8d09a9d6721a717]\n",
       "link E4 to E5--><a href=\"psysml:a5d569dd-f966-4325-8014-b1c593712f38\" target=\"_top\" title=\"psysml:a5d569dd-f966-4325-8014-b1c593712f38\" xlink:actuate=\"onRequest\" xlink:href=\"psysml:a5d569dd-f966-4325-8014-b1c593712f38\" xlink:show=\"new\" xlink:title=\"psysml:a5d569dd-f966-4325-8014-b1c593712f38\" xlink:type=\"simple\"><path d=\"M339,267.1 C339,286.8 339,314.22 339,335.73 \" fill=\"none\" id=\"E4-&gt;E5\" style=\"stroke: #383838; stroke-width: 1.0; stroke-dasharray: 7.0,7.0;\"/><polygon fill=\"#383838\" points=\"339,343.95,342,335.95,336,335.95,339,343.95\" style=\"stroke: #383838; stroke-width: 1.0;\"/><text fill=\"#000000\" font-family=\"sans-serif\" font-size=\"13\" lengthAdjust=\"spacingAndGlyphs\" textLength=\"64\" x=\"340\" y=\"310.0669\">«depend»</text></a><!--MD5=[c5e8897d989ce984f93528998a7150fe]\n",
       "link E8 to E6--><a href=\"psysml:e9cc0fc6-3b4b-4571-a4a8-99018107eac1\" target=\"_top\" title=\"psysml:e9cc0fc6-3b4b-4571-a4a8-99018107eac1\" xlink:actuate=\"onRequest\" xlink:href=\"psysml:e9cc0fc6-3b4b-4571-a4a8-99018107eac1\" xlink:show=\"new\" xlink:title=\"psysml:e9cc0fc6-3b4b-4571-a4a8-99018107eac1\" xlink:type=\"simple\"><path d=\"M89.42,133.6 C79.35,142.68 69.37,154.11 64,167 C58.5,180.2 58.66,195.94 60.54,209.38 \" fill=\"none\" id=\"E8-&gt;E6\" style=\"stroke: #383838; stroke-width: 1.0; stroke-dasharray: 7.0,7.0;\"/><polygon fill=\"#383838\" points=\"61.9,217.4,63.517,209.0104,57.6018,210.0159,61.9,217.4\" style=\"stroke: #383838; stroke-width: 1.0;\"/><text fill=\"#000000\" font-family=\"sans-serif\" font-size=\"13\" lengthAdjust=\"spacingAndGlyphs\" textLength=\"64\" x=\"65\" y=\"180.0669\">«depend»</text></a><!--MD5=[bfa3c8b0d15052fdf50ae9310b491027]\n",
       "link E8 to E7--><a href=\"psysml:e9cc0fc6-3b4b-4571-a4a8-99018107eac1\" target=\"_top\" title=\"psysml:e9cc0fc6-3b4b-4571-a4a8-99018107eac1\" xlink:actuate=\"onRequest\" xlink:href=\"psysml:e9cc0fc6-3b4b-4571-a4a8-99018107eac1\" xlink:show=\"new\" xlink:title=\"psysml:e9cc0fc6-3b4b-4571-a4a8-99018107eac1\" xlink:type=\"simple\"><path d=\"M129.28,133.5 C138.17,154.57 151.64,186.5 161.47,209.81 \" fill=\"none\" id=\"E8-&gt;E7\" style=\"stroke: #383838; stroke-width: 1.0; stroke-dasharray: 7.0,7.0;\"/><polygon fill=\"#383838\" points=\"164.66,217.35,164.3241,208.8126,158.7933,211.1385,164.66,217.35\" style=\"stroke: #383838; stroke-width: 1.0;\"/><text fill=\"#000000\" font-family=\"sans-serif\" font-size=\"13\" lengthAdjust=\"spacingAndGlyphs\" textLength=\"64\" x=\"151\" y=\"180.0669\">«depend»</text></a><!--MD5=[0ce299708f68b8b82ee4b994cea96813]\n",
       "@startuml\r\n",
       "top to bottom direction\r\n",
       "skinparam monochrome true\r\n",
       "skinparam classbackgroundcolor white\r\n",
       "skinparam shadowing false\r\n",
       "skinparam wrapWidth 300\r\n",
       "hide circle\r\n",
       "\r\n",
       "package \"DependencyTest\" as E1  [[psysml:d3869743-6750-4f05-a5ce-51c4137f7251 ]]  {\r\n",
       "package \"System\" as E2  [[psysml:6b74be88-9b37-4afd-8ab0-bbd062a94e7e ]]  {\r\n",
       "package \"Application Layer\" as E3  [[psysml:03aab854-f405-4fcc-aa77-08da242f79f1 ]]  {\r\n",
       "}\r\n",
       "package \"Service Layer\" as E4  [[psysml:ad996126-15a5-42e2-8928-0fb76718612c ]]  {\r\n",
       "}\r\n",
       "package \"Data Layer\" as E5  [[psysml:17a101e7-475f-4fc3-82c9-609370bf1116 ]]  {\r\n",
       "}\r\n",
       "}\r\n",
       "comp usage \"x\" as E6  <<(T,blue) attribute>> [[psysml:881809a4-48f2-4fe8-9827-6dde0f998bab ]] {\r\n",
       "}\r\n",
       "comp usage \"y\" as E7  <<(T,blue) attribute>> [[psysml:190ef100-b940-43fb-97f3-4b9e1cd4417f ]] {\r\n",
       "}\r\n",
       "comp usage \"z\" as E8  <<(T,blue) attribute>> [[psysml:293eb67f-3e12-4287-ab19-bcded2d3124c ]] {\r\n",
       "}\r\n",
       "}\r\n",
       "E3 ..>> E4 [[psysml:8bc3dbe9-cd72-4429-a15e-d6826987fc7c ]] : <<depend>>\r\n",
       "E4 ..>> E5 [[psysml:a5d569dd-f966-4325-8014-b1c593712f38 ]] : <<depend>>\r\n",
       "E8 ..>> E6 [[psysml:e9cc0fc6-3b4b-4571-a4a8-99018107eac1 ]] : <<depend>>\r\n",
       "E8 ..>> E7 [[psysml:e9cc0fc6-3b4b-4571-a4a8-99018107eac1 ]] : <<depend>>\r\n",
       "@enduml\r\n",
       "\n",
       "PlantUML version 1.2020.13(Sat Jun 13 12:26:38 UTC 2020)\n",
       "(EPL source distribution)\n",
       "Java Runtime: OpenJDK Runtime Environment\n",
       "JVM: OpenJDK 64-Bit Server VM\n",
       "Default Encoding: UTF-8\n",
       "Language: en\n",
       "Country: null\n",
       "--></g></svg>"
      ]
     },
     "execution_count": 45,
     "metadata": {},
     "output_type": "execute_result"
    }
   ],
   "source": [
    "%viz --style=\"TB\" --view=\"Tree\" \"DependencyTest\""
   ]
  },
  {
   "cell_type": "code",
   "execution_count": 46,
   "id": "2f9c3c12",
   "metadata": {
    "execution": {
     "iopub.execute_input": "2021-10-03T08:27:21.044531Z",
     "iopub.status.busy": "2021-10-03T08:27:21.044098Z",
     "iopub.status.idle": "2021-10-03T08:27:21.049292Z",
     "shell.execute_reply": "2021-10-03T08:27:21.048930Z"
    }
   },
   "outputs": [
    {
     "data": {
      "image/svg+xml": [
       "<?xml version=\"1.0\" encoding=\"UTF-8\" standalone=\"no\"?><svg xmlns=\"http://www.w3.org/2000/svg\" xmlns:xlink=\"http://www.w3.org/1999/xlink\" contentScriptType=\"application/ecmascript\" contentStyleType=\"text/css\" height=\"12px\" preserveAspectRatio=\"none\" style=\"width:12px;height:12px;\" version=\"1.1\" viewBox=\"0 0 12 12\" width=\"12px\" zoomAndPan=\"magnify\"><defs/><g><!--MD5=[f4ee21bc66e489b5061b7c3e9601fdef]\n",
       "@startuml\r\n",
       "top to bottom direction\r\n",
       "skinparam monochrome true\r\n",
       "skinparam classbackgroundcolor white\r\n",
       "skinparam shadowing false\r\n",
       "skinparam wrapWidth 300\r\n",
       "hide circle\r\n",
       "\r\n",
       "@enduml\r\n",
       "\n",
       "PlantUML version 1.2020.13(Sat Jun 13 12:26:38 UTC 2020)\n",
       "(EPL source distribution)\n",
       "Java Runtime: OpenJDK Runtime Environment\n",
       "JVM: OpenJDK 64-Bit Server VM\n",
       "Default Encoding: UTF-8\n",
       "Language: en\n",
       "Country: null\n",
       "--></g></svg>"
      ]
     },
     "execution_count": 46,
     "metadata": {},
     "output_type": "execute_result"
    }
   ],
   "source": [
    "%viz --style=\"TB\" --view=\"State\" \"DependencyTest\""
   ]
  },
  {
   "cell_type": "code",
   "execution_count": 47,
   "id": "286cc51b",
   "metadata": {
    "execution": {
     "iopub.execute_input": "2021-10-03T08:27:21.098697Z",
     "iopub.status.busy": "2021-10-03T08:27:21.098282Z",
     "iopub.status.idle": "2021-10-03T08:27:21.130531Z",
     "shell.execute_reply": "2021-10-03T08:27:21.130164Z"
    }
   },
   "outputs": [
    {
     "data": {
      "image/svg+xml": [
       "<?xml version=\"1.0\" encoding=\"UTF-8\" standalone=\"no\"?><svg xmlns=\"http://www.w3.org/2000/svg\" xmlns:xlink=\"http://www.w3.org/1999/xlink\" contentScriptType=\"application/ecmascript\" contentStyleType=\"text/css\" height=\"361px\" preserveAspectRatio=\"none\" style=\"width:469px;height:361px;\" version=\"1.1\" viewBox=\"0 0 469 361\" width=\"469px\" zoomAndPan=\"magnify\"><defs/><g><!--MD5=[fbc87193dbaf4d95561dea2c320d4a47]\n",
       "cluster E1--><a href=\"psysml:d3869743-6750-4f05-a5ce-51c4137f7251\" target=\"_top\" title=\"psysml:d3869743-6750-4f05-a5ce-51c4137f7251\" xlink:actuate=\"onRequest\" xlink:href=\"psysml:d3869743-6750-4f05-a5ce-51c4137f7251\" xlink:show=\"new\" xlink:title=\"psysml:d3869743-6750-4f05-a5ce-51c4137f7251\" xlink:type=\"simple\"><polygon fill=\"#FFFFFF\" points=\"16,6,142,6,149,28.2969,447,28.2969,447,349,16,349,16,6\" style=\"stroke: #000000; stroke-width: 1.5;\"/><line style=\"stroke: #000000; stroke-width: 1.5;\" x1=\"16\" x2=\"149\" y1=\"28.2969\" y2=\"28.2969\"/><text fill=\"#000000\" font-family=\"sans-serif\" font-size=\"14\" font-weight=\"bold\" lengthAdjust=\"spacingAndGlyphs\" textLength=\"120\" x=\"20\" y=\"20.9951\">DependencyTest</text></a><!--MD5=[e4f7fae6ed58524ba242bb0b0d3be6b7]\n",
       "cluster E2--><a href=\"psysml:6b74be88-9b37-4afd-8ab0-bbd062a94e7e\" target=\"_top\" title=\"psysml:6b74be88-9b37-4afd-8ab0-bbd062a94e7e\" xlink:actuate=\"onRequest\" xlink:href=\"psysml:6b74be88-9b37-4afd-8ab0-bbd062a94e7e\" xlink:show=\"new\" xlink:title=\"psysml:6b74be88-9b37-4afd-8ab0-bbd062a94e7e\" xlink:type=\"simple\"><polygon fill=\"#FFFFFF\" points=\"255,49,312,49,319,71.2969,423,71.2969,423,325,255,325,255,49\" style=\"stroke: #000000; stroke-width: 1.5;\"/><line style=\"stroke: #000000; stroke-width: 1.5;\" x1=\"255\" x2=\"319\" y1=\"71.2969\" y2=\"71.2969\"/><text fill=\"#000000\" font-family=\"sans-serif\" font-size=\"14\" font-weight=\"bold\" lengthAdjust=\"spacingAndGlyphs\" textLength=\"51\" x=\"259\" y=\"63.9951\">System</text></a><!--MD5=[60a26617385b1d2d0262a64233df1f8d]\n",
       "class E6--><a href=\"psysml:881809a4-48f2-4fe8-9827-6dde0f998bab\" target=\"_top\" title=\"psysml:881809a4-48f2-4fe8-9827-6dde0f998bab\" xlink:actuate=\"onRequest\" xlink:href=\"psysml:881809a4-48f2-4fe8-9827-6dde0f998bab\" xlink:show=\"new\" xlink:title=\"psysml:881809a4-48f2-4fe8-9827-6dde0f998bab\" xlink:type=\"simple\"><rect fill=\"#FFFFFF\" height=\"45.9375\" id=\"E6\" rx=\"10\" ry=\"10\" style=\"stroke: #383838; stroke-width: 1.5;\" width=\"71\" x=\"32.5\" y=\"173.5\"/><text fill=\"#000000\" font-family=\"sans-serif\" font-size=\"12\" font-style=\"italic\" lengthAdjust=\"spacingAndGlyphs\" textLength=\"69\" x=\"33.5\" y=\"189.6387\">«attribute»</text><text fill=\"#000000\" font-family=\"sans-serif\" font-size=\"12\" lengthAdjust=\"spacingAndGlyphs\" textLength=\"6\" x=\"65\" y=\"203.6074\">x</text><line style=\"stroke: #383838; stroke-width: 1.5;\" x1=\"33.5\" x2=\"102.5\" y1=\"211.4375\" y2=\"211.4375\"/></a><!--MD5=[2156ba9850f5573cc1fc38a6a4b2f02b]\n",
       "class E7--><a href=\"psysml:190ef100-b940-43fb-97f3-4b9e1cd4417f\" target=\"_top\" title=\"psysml:190ef100-b940-43fb-97f3-4b9e1cd4417f\" xlink:actuate=\"onRequest\" xlink:href=\"psysml:190ef100-b940-43fb-97f3-4b9e1cd4417f\" xlink:show=\"new\" xlink:title=\"psysml:190ef100-b940-43fb-97f3-4b9e1cd4417f\" xlink:type=\"simple\"><rect fill=\"#FFFFFF\" height=\"45.9375\" id=\"E7\" rx=\"10\" ry=\"10\" style=\"stroke: #383838; stroke-width: 1.5;\" width=\"71\" x=\"138.5\" y=\"173.5\"/><text fill=\"#000000\" font-family=\"sans-serif\" font-size=\"12\" font-style=\"italic\" lengthAdjust=\"spacingAndGlyphs\" textLength=\"69\" x=\"139.5\" y=\"189.6387\">«attribute»</text><text fill=\"#000000\" font-family=\"sans-serif\" font-size=\"12\" lengthAdjust=\"spacingAndGlyphs\" textLength=\"6\" x=\"171\" y=\"203.6074\">y</text><line style=\"stroke: #383838; stroke-width: 1.5;\" x1=\"139.5\" x2=\"208.5\" y1=\"211.4375\" y2=\"211.4375\"/></a><!--MD5=[b9389687b975829384b498ac4b7476b2]\n",
       "class E8--><a href=\"psysml:293eb67f-3e12-4287-ab19-bcded2d3124c\" target=\"_top\" title=\"psysml:293eb67f-3e12-4287-ab19-bcded2d3124c\" xlink:actuate=\"onRequest\" xlink:href=\"psysml:293eb67f-3e12-4287-ab19-bcded2d3124c\" xlink:show=\"new\" xlink:title=\"psysml:293eb67f-3e12-4287-ab19-bcded2d3124c\" xlink:type=\"simple\"><rect fill=\"#FFFFFF\" height=\"45.9375\" id=\"E8\" rx=\"10\" ry=\"10\" style=\"stroke: #383838; stroke-width: 1.5;\" width=\"71\" x=\"84.5\" y=\"87.5\"/><text fill=\"#000000\" font-family=\"sans-serif\" font-size=\"12\" font-style=\"italic\" lengthAdjust=\"spacingAndGlyphs\" textLength=\"69\" x=\"85.5\" y=\"103.6387\">«attribute»</text><text fill=\"#000000\" font-family=\"sans-serif\" font-size=\"12\" lengthAdjust=\"spacingAndGlyphs\" textLength=\"5\" x=\"117.5\" y=\"117.6074\">z</text><line style=\"stroke: #383838; stroke-width: 1.5;\" x1=\"85.5\" x2=\"154.5\" y1=\"125.4375\" y2=\"125.4375\"/></a><a href=\"psysml:03aab854-f405-4fcc-aa77-08da242f79f1\" target=\"_top\" title=\"psysml:03aab854-f405-4fcc-aa77-08da242f79f1\" xlink:actuate=\"onRequest\" xlink:href=\"psysml:03aab854-f405-4fcc-aa77-08da242f79f1\" xlink:show=\"new\" xlink:title=\"psysml:03aab854-f405-4fcc-aa77-08da242f79f1\" xlink:type=\"simple\"><polygon fill=\"#FFFFFF\" points=\"271.5,84,392.5,84,399.5,106.2969,406.5,106.2969,406.5,136.5938,271.5,136.5938,271.5,84\" style=\"stroke: #000000; stroke-width: 1.5;\"/><line style=\"stroke: #000000; stroke-width: 1.5;\" x1=\"271.5\" x2=\"399.5\" y1=\"106.2969\" y2=\"106.2969\"/><text fill=\"#000000\" font-family=\"sans-serif\" font-size=\"14\" font-weight=\"bold\" lengthAdjust=\"spacingAndGlyphs\" textLength=\"115\" x=\"275.5\" y=\"98.9951\">Application Layer</text></a><a href=\"psysml:ad996126-15a5-42e2-8928-0fb76718612c\" target=\"_top\" title=\"psysml:ad996126-15a5-42e2-8928-0fb76718612c\" xlink:actuate=\"onRequest\" xlink:href=\"psysml:ad996126-15a5-42e2-8928-0fb76718612c\" xlink:show=\"new\" xlink:title=\"psysml:ad996126-15a5-42e2-8928-0fb76718612c\" xlink:type=\"simple\"><polygon fill=\"#FFFFFF\" points=\"284,170,380,170,387,192.2969,394,192.2969,394,222.5938,284,222.5938,284,170\" style=\"stroke: #000000; stroke-width: 1.5;\"/><line style=\"stroke: #000000; stroke-width: 1.5;\" x1=\"284\" x2=\"387\" y1=\"192.2969\" y2=\"192.2969\"/><text fill=\"#000000\" font-family=\"sans-serif\" font-size=\"14\" font-weight=\"bold\" lengthAdjust=\"spacingAndGlyphs\" textLength=\"90\" x=\"288\" y=\"184.9951\">Service Layer</text></a><a href=\"psysml:17a101e7-475f-4fc3-82c9-609370bf1116\" target=\"_top\" title=\"psysml:17a101e7-475f-4fc3-82c9-609370bf1116\" xlink:actuate=\"onRequest\" xlink:href=\"psysml:17a101e7-475f-4fc3-82c9-609370bf1116\" xlink:show=\"new\" xlink:title=\"psysml:17a101e7-475f-4fc3-82c9-609370bf1116\" xlink:type=\"simple\"><polygon fill=\"#FFFFFF\" points=\"293,256,371,256,378,278.2969,385,278.2969,385,308.5938,293,308.5938,293,256\" style=\"stroke: #000000; stroke-width: 1.5;\"/><line style=\"stroke: #000000; stroke-width: 1.5;\" x1=\"293\" x2=\"378\" y1=\"278.2969\" y2=\"278.2969\"/><text fill=\"#000000\" font-family=\"sans-serif\" font-size=\"14\" font-weight=\"bold\" lengthAdjust=\"spacingAndGlyphs\" textLength=\"72\" x=\"297\" y=\"270.9951\">Data Layer</text></a><!--MD5=[af87c684e3b0d8be13c1a698a818ef1e]\n",
       "link E3 to E4--><a href=\"psysml:8bc3dbe9-cd72-4429-a15e-d6826987fc7c\" target=\"_top\" title=\"psysml:8bc3dbe9-cd72-4429-a15e-d6826987fc7c\" xlink:actuate=\"onRequest\" xlink:href=\"psysml:8bc3dbe9-cd72-4429-a15e-d6826987fc7c\" xlink:show=\"new\" xlink:title=\"psysml:8bc3dbe9-cd72-4429-a15e-d6826987fc7c\" xlink:type=\"simple\"><path d=\"M339,137.16 C339,144.98 339,153.69 339,161.94 \" fill=\"none\" id=\"E3-&gt;E4\" style=\"stroke: #383838; stroke-width: 1.0; stroke-dasharray: 7.0,7.0;\"/><polygon fill=\"#383838\" points=\"339,170,342,162,336,162,339,170\" style=\"stroke: #383838; stroke-width: 1.0;\"/><text fill=\"#000000\" font-family=\"sans-serif\" font-size=\"13\" lengthAdjust=\"spacingAndGlyphs\" textLength=\"64\" x=\"340\" y=\"158.0669\">«depend»</text></a><!--MD5=[1b7591eae5389033d8d09a9d6721a717]\n",
       "link E4 to E5--><a href=\"psysml:a5d569dd-f966-4325-8014-b1c593712f38\" target=\"_top\" title=\"psysml:a5d569dd-f966-4325-8014-b1c593712f38\" xlink:actuate=\"onRequest\" xlink:href=\"psysml:a5d569dd-f966-4325-8014-b1c593712f38\" xlink:show=\"new\" xlink:title=\"psysml:a5d569dd-f966-4325-8014-b1c593712f38\" xlink:type=\"simple\"><path d=\"M339,223.16 C339,230.98 339,239.69 339,247.94 \" fill=\"none\" id=\"E4-&gt;E5\" style=\"stroke: #383838; stroke-width: 1.0; stroke-dasharray: 7.0,7.0;\"/><polygon fill=\"#383838\" points=\"339,256,342,248,336,248,339,256\" style=\"stroke: #383838; stroke-width: 1.0;\"/><text fill=\"#000000\" font-family=\"sans-serif\" font-size=\"13\" lengthAdjust=\"spacingAndGlyphs\" textLength=\"64\" x=\"340\" y=\"244.0669\">«depend»</text></a><!--MD5=[c5e8897d989ce984f93528998a7150fe]\n",
       "link E8 to E6--><a href=\"psysml:e9cc0fc6-3b4b-4571-a4a8-99018107eac1\" target=\"_top\" title=\"psysml:e9cc0fc6-3b4b-4571-a4a8-99018107eac1\" xlink:actuate=\"onRequest\" xlink:href=\"psysml:e9cc0fc6-3b4b-4571-a4a8-99018107eac1\" xlink:show=\"new\" xlink:title=\"psysml:e9cc0fc6-3b4b-4571-a4a8-99018107eac1\" xlink:type=\"simple\"><path d=\"M84.49,125.34 C76.34,130.27 68.69,136.72 64,145 C60.54,151.1 59.62,158.31 60,165.33 \" fill=\"none\" id=\"E8-&gt;E6\" style=\"stroke: #383838; stroke-width: 1.0; stroke-dasharray: 7.0,7.0;\"/><polygon fill=\"#383838\" points=\"60.97,173.42,63.0061,165.1221,57.0479,165.8294,60.97,173.42\" style=\"stroke: #383838; stroke-width: 1.0;\"/><text fill=\"#000000\" font-family=\"sans-serif\" font-size=\"13\" lengthAdjust=\"spacingAndGlyphs\" textLength=\"64\" x=\"65\" y=\"158.0669\">«depend»</text></a><!--MD5=[bfa3c8b0d15052fdf50ae9310b491027]\n",
       "link E8 to E7--><a href=\"psysml:e9cc0fc6-3b4b-4571-a4a8-99018107eac1\" target=\"_top\" title=\"psysml:e9cc0fc6-3b4b-4571-a4a8-99018107eac1\" xlink:actuate=\"onRequest\" xlink:href=\"psysml:e9cc0fc6-3b4b-4571-a4a8-99018107eac1\" xlink:show=\"new\" xlink:title=\"psysml:e9cc0fc6-3b4b-4571-a4a8-99018107eac1\" xlink:type=\"simple\"><path d=\"M134.19,133.57 C140.65,143.62 148.38,155.65 155.31,166.42 \" fill=\"none\" id=\"E8-&gt;E7\" style=\"stroke: #383838; stroke-width: 1.0; stroke-dasharray: 7.0,7.0;\"/><polygon fill=\"#383838\" points=\"159.72,173.29,157.9148,164.9389,152.8688,168.185,159.72,173.29\" style=\"stroke: #383838; stroke-width: 1.0;\"/><text fill=\"#000000\" font-family=\"sans-serif\" font-size=\"13\" lengthAdjust=\"spacingAndGlyphs\" textLength=\"64\" x=\"152\" y=\"158.0669\">«depend»</text></a><!--MD5=[5d3bc74fcd557858a2a2398b9379baff]\n",
       "@startuml\r\n",
       "skinparam ranksep 10\r\n",
       "skinparam rectangle {\r\n",
       " backgroundColor<<block>> LightGreen\r\n",
       "}\r\n",
       "top to bottom direction\r\n",
       "skinparam monochrome true\r\n",
       "skinparam classbackgroundcolor white\r\n",
       "skinparam shadowing false\r\n",
       "skinparam wrapWidth 300\r\n",
       "hide circle\r\n",
       "\r\n",
       "package \"DependencyTest\" as E1  [[psysml:d3869743-6750-4f05-a5ce-51c4137f7251 ]]  {\r\n",
       "package \"System\" as E2  [[psysml:6b74be88-9b37-4afd-8ab0-bbd062a94e7e ]]  {\r\n",
       "package \"Application Layer\" as E3  [[psysml:03aab854-f405-4fcc-aa77-08da242f79f1 ]]  {\r\n",
       "}\r\n",
       "package \"Service Layer\" as E4  [[psysml:ad996126-15a5-42e2-8928-0fb76718612c ]]  {\r\n",
       "}\r\n",
       "package \"Data Layer\" as E5  [[psysml:17a101e7-475f-4fc3-82c9-609370bf1116 ]]  {\r\n",
       "}\r\n",
       "}\r\n",
       "comp usage \"x\" as E6  <<(T,blue) attribute>> [[psysml:881809a4-48f2-4fe8-9827-6dde0f998bab ]] {\r\n",
       "}\r\n",
       "comp usage \"y\" as E7  <<(T,blue) attribute>> [[psysml:190ef100-b940-43fb-97f3-4b9e1cd4417f ]] {\r\n",
       "}\r\n",
       "comp usage \"z\" as E8  <<(T,blue) attribute>> [[psysml:293eb67f-3e12-4287-ab19-bcded2d3124c ]] {\r\n",
       "}\r\n",
       "}\r\n",
       "E3 ..>> E4 [[psysml:8bc3dbe9-cd72-4429-a15e-d6826987fc7c ]] : <<depend>>\r\n",
       "E4 ..>> E5 [[psysml:a5d569dd-f966-4325-8014-b1c593712f38 ]] : <<depend>>\r\n",
       "E8 ..>> E6 [[psysml:e9cc0fc6-3b4b-4571-a4a8-99018107eac1 ]] : <<depend>>\r\n",
       "E8 ..>> E7 [[psysml:e9cc0fc6-3b4b-4571-a4a8-99018107eac1 ]] : <<depend>>\r\n",
       "@enduml\r\n",
       "\n",
       "PlantUML version 1.2020.13(Sat Jun 13 12:26:38 UTC 2020)\n",
       "(EPL source distribution)\n",
       "Java Runtime: OpenJDK Runtime Environment\n",
       "JVM: OpenJDK 64-Bit Server VM\n",
       "Default Encoding: UTF-8\n",
       "Language: en\n",
       "Country: null\n",
       "--></g></svg>"
      ]
     },
     "execution_count": 47,
     "metadata": {},
     "output_type": "execute_result"
    }
   ],
   "source": [
    "%viz --style=\"TB\" --view=\"Interconnection\" \"DependencyTest\""
   ]
  },
  {
   "cell_type": "code",
   "execution_count": 48,
   "id": "44a2d03b",
   "metadata": {
    "execution": {
     "iopub.execute_input": "2021-10-03T08:27:21.179476Z",
     "iopub.status.busy": "2021-10-03T08:27:21.179064Z",
     "iopub.status.idle": "2021-10-03T08:27:21.184575Z",
     "shell.execute_reply": "2021-10-03T08:27:21.184216Z"
    }
   },
   "outputs": [
    {
     "data": {
      "image/svg+xml": [
       "<?xml version=\"1.0\" encoding=\"UTF-8\" standalone=\"no\"?><svg xmlns=\"http://www.w3.org/2000/svg\" xmlns:xlink=\"http://www.w3.org/1999/xlink\" contentScriptType=\"application/ecmascript\" contentStyleType=\"text/css\" height=\"12px\" preserveAspectRatio=\"none\" style=\"width:12px;height:12px;\" version=\"1.1\" viewBox=\"0 0 12 12\" width=\"12px\" zoomAndPan=\"magnify\"><defs/><g><!--MD5=[06afc254b03ac5e9d9fb7773b07d0800]\n",
       "@startuml\r\n",
       "skinparam ranksep 8\r\n",
       "top to bottom direction\r\n",
       "skinparam monochrome true\r\n",
       "skinparam classbackgroundcolor white\r\n",
       "skinparam shadowing false\r\n",
       "skinparam wrapWidth 300\r\n",
       "hide circle\r\n",
       "\r\n",
       "@enduml\r\n",
       "\n",
       "PlantUML version 1.2020.13(Sat Jun 13 12:26:38 UTC 2020)\n",
       "(EPL source distribution)\n",
       "Java Runtime: OpenJDK Runtime Environment\n",
       "JVM: OpenJDK 64-Bit Server VM\n",
       "Default Encoding: UTF-8\n",
       "Language: en\n",
       "Country: null\n",
       "--></g></svg>"
      ]
     },
     "execution_count": 48,
     "metadata": {},
     "output_type": "execute_result"
    }
   ],
   "source": [
    "%viz --style=\"TB\" --view=\"Action\" \"DependencyTest\""
   ]
  },
  {
   "cell_type": "code",
   "execution_count": 49,
   "id": "b65aa4ec",
   "metadata": {
    "execution": {
     "iopub.execute_input": "2021-10-03T08:27:21.234034Z",
     "iopub.status.busy": "2021-10-03T08:27:21.233620Z",
     "iopub.status.idle": "2021-10-03T08:27:21.238586Z",
     "shell.execute_reply": "2021-10-03T08:27:21.238903Z"
    }
   },
   "outputs": [
    {
     "data": {
      "image/svg+xml": [
       "<?xml version=\"1.0\" encoding=\"UTF-8\" standalone=\"no\"?><svg xmlns=\"http://www.w3.org/2000/svg\" xmlns:xlink=\"http://www.w3.org/1999/xlink\" contentScriptType=\"application/ecmascript\" contentStyleType=\"text/css\" height=\"12px\" preserveAspectRatio=\"none\" style=\"width:12px;height:12px;\" version=\"1.1\" viewBox=\"0 0 12 12\" width=\"12px\" zoomAndPan=\"magnify\"><defs/><g><!--MD5=[e1ab0c84c44d2fef8bf5f140f2689906]\n",
       "@startuml\r\n",
       "skinparam roundcorner 20\r\n",
       "skinparam BoxPadding 20\r\n",
       "skinparam SequenceBoxBackgroundColor #white\r\n",
       "skinparam style strictuml\r\n",
       "skinparam maxMessageSize 100\r\n",
       "top to bottom direction\r\n",
       "skinparam monochrome true\r\n",
       "skinparam classbackgroundcolor white\r\n",
       "skinparam shadowing false\r\n",
       "skinparam wrapWidth 300\r\n",
       "hide circle\r\n",
       "\r\n",
       "@enduml\r\n",
       "\n",
       "PlantUML version 1.2020.13(Sat Jun 13 12:26:38 UTC 2020)\n",
       "(EPL source distribution)\n",
       "Java Runtime: OpenJDK Runtime Environment\n",
       "JVM: OpenJDK 64-Bit Server VM\n",
       "Default Encoding: UTF-8\n",
       "Language: en\n",
       "Country: null\n",
       "--></g></svg>"
      ]
     },
     "execution_count": 49,
     "metadata": {},
     "output_type": "execute_result"
    }
   ],
   "source": [
    "%viz --style=\"TB\" --view=\"Sequence\" \"DependencyTest\""
   ]
  },
  {
   "cell_type": "code",
   "execution_count": 50,
   "id": "0bf61d1e",
   "metadata": {
    "execution": {
     "iopub.execute_input": "2021-10-03T08:27:21.288640Z",
     "iopub.status.busy": "2021-10-03T08:27:21.288227Z",
     "iopub.status.idle": "2021-10-03T08:27:21.318816Z",
     "shell.execute_reply": "2021-10-03T08:27:21.318447Z"
    }
   },
   "outputs": [
    {
     "data": {
      "image/svg+xml": [
       "<?xml version=\"1.0\" encoding=\"UTF-8\" standalone=\"no\"?><svg xmlns=\"http://www.w3.org/2000/svg\" xmlns:xlink=\"http://www.w3.org/1999/xlink\" contentScriptType=\"application/ecmascript\" contentStyleType=\"text/css\" height=\"449px\" preserveAspectRatio=\"none\" style=\"width:469px;height:449px;\" version=\"1.1\" viewBox=\"0 0 469 449\" width=\"469px\" zoomAndPan=\"magnify\"><defs/><g><!--MD5=[fbc87193dbaf4d95561dea2c320d4a47]\n",
       "cluster E1--><a href=\"psysml:d3869743-6750-4f05-a5ce-51c4137f7251\" target=\"_top\" title=\"psysml:d3869743-6750-4f05-a5ce-51c4137f7251\" xlink:actuate=\"onRequest\" xlink:href=\"psysml:d3869743-6750-4f05-a5ce-51c4137f7251\" xlink:show=\"new\" xlink:title=\"psysml:d3869743-6750-4f05-a5ce-51c4137f7251\" xlink:type=\"simple\"><polygon fill=\"#FFFFFF\" points=\"16,6,142,6,149,28.2969,447,28.2969,447,437,16,437,16,6\" style=\"stroke: #000000; stroke-width: 1.5;\"/><line style=\"stroke: #000000; stroke-width: 1.5;\" x1=\"16\" x2=\"149\" y1=\"28.2969\" y2=\"28.2969\"/><text fill=\"#000000\" font-family=\"sans-serif\" font-size=\"14\" font-weight=\"bold\" lengthAdjust=\"spacingAndGlyphs\" textLength=\"120\" x=\"20\" y=\"20.9951\">DependencyTest</text></a><!--MD5=[e4f7fae6ed58524ba242bb0b0d3be6b7]\n",
       "cluster E2--><a href=\"psysml:6b74be88-9b37-4afd-8ab0-bbd062a94e7e\" target=\"_top\" title=\"psysml:6b74be88-9b37-4afd-8ab0-bbd062a94e7e\" xlink:actuate=\"onRequest\" xlink:href=\"psysml:6b74be88-9b37-4afd-8ab0-bbd062a94e7e\" xlink:show=\"new\" xlink:title=\"psysml:6b74be88-9b37-4afd-8ab0-bbd062a94e7e\" xlink:type=\"simple\"><polygon fill=\"#FFFFFF\" points=\"255,49,312,49,319,71.2969,423,71.2969,423,413,255,413,255,49\" style=\"stroke: #000000; stroke-width: 1.5;\"/><line style=\"stroke: #000000; stroke-width: 1.5;\" x1=\"255\" x2=\"319\" y1=\"71.2969\" y2=\"71.2969\"/><text fill=\"#000000\" font-family=\"sans-serif\" font-size=\"14\" font-weight=\"bold\" lengthAdjust=\"spacingAndGlyphs\" textLength=\"51\" x=\"259\" y=\"63.9951\">System</text></a><!--MD5=[60a26617385b1d2d0262a64233df1f8d]\n",
       "class E6--><a href=\"psysml:881809a4-48f2-4fe8-9827-6dde0f998bab\" target=\"_top\" title=\"psysml:881809a4-48f2-4fe8-9827-6dde0f998bab\" xlink:actuate=\"onRequest\" xlink:href=\"psysml:881809a4-48f2-4fe8-9827-6dde0f998bab\" xlink:show=\"new\" xlink:title=\"psysml:881809a4-48f2-4fe8-9827-6dde0f998bab\" xlink:type=\"simple\"><rect fill=\"#FFFFFF\" height=\"45.9375\" id=\"E6\" rx=\"10\" ry=\"10\" style=\"stroke: #383838; stroke-width: 1.5;\" width=\"71\" x=\"32.5\" y=\"217.5\"/><text fill=\"#000000\" font-family=\"sans-serif\" font-size=\"12\" font-style=\"italic\" lengthAdjust=\"spacingAndGlyphs\" textLength=\"69\" x=\"33.5\" y=\"233.6387\">«attribute»</text><text fill=\"#000000\" font-family=\"sans-serif\" font-size=\"12\" lengthAdjust=\"spacingAndGlyphs\" textLength=\"6\" x=\"65\" y=\"247.6074\">x</text><line style=\"stroke: #383838; stroke-width: 1.5;\" x1=\"33.5\" x2=\"102.5\" y1=\"255.4375\" y2=\"255.4375\"/></a><!--MD5=[2156ba9850f5573cc1fc38a6a4b2f02b]\n",
       "class E7--><a href=\"psysml:190ef100-b940-43fb-97f3-4b9e1cd4417f\" target=\"_top\" title=\"psysml:190ef100-b940-43fb-97f3-4b9e1cd4417f\" xlink:actuate=\"onRequest\" xlink:href=\"psysml:190ef100-b940-43fb-97f3-4b9e1cd4417f\" xlink:show=\"new\" xlink:title=\"psysml:190ef100-b940-43fb-97f3-4b9e1cd4417f\" xlink:type=\"simple\"><rect fill=\"#FFFFFF\" height=\"45.9375\" id=\"E7\" rx=\"10\" ry=\"10\" style=\"stroke: #383838; stroke-width: 1.5;\" width=\"71\" x=\"138.5\" y=\"217.5\"/><text fill=\"#000000\" font-family=\"sans-serif\" font-size=\"12\" font-style=\"italic\" lengthAdjust=\"spacingAndGlyphs\" textLength=\"69\" x=\"139.5\" y=\"233.6387\">«attribute»</text><text fill=\"#000000\" font-family=\"sans-serif\" font-size=\"12\" lengthAdjust=\"spacingAndGlyphs\" textLength=\"6\" x=\"171\" y=\"247.6074\">y</text><line style=\"stroke: #383838; stroke-width: 1.5;\" x1=\"139.5\" x2=\"208.5\" y1=\"255.4375\" y2=\"255.4375\"/></a><!--MD5=[b9389687b975829384b498ac4b7476b2]\n",
       "class E8--><a href=\"psysml:293eb67f-3e12-4287-ab19-bcded2d3124c\" target=\"_top\" title=\"psysml:293eb67f-3e12-4287-ab19-bcded2d3124c\" xlink:actuate=\"onRequest\" xlink:href=\"psysml:293eb67f-3e12-4287-ab19-bcded2d3124c\" xlink:show=\"new\" xlink:title=\"psysml:293eb67f-3e12-4287-ab19-bcded2d3124c\" xlink:type=\"simple\"><rect fill=\"#FFFFFF\" height=\"45.9375\" id=\"E8\" rx=\"10\" ry=\"10\" style=\"stroke: #383838; stroke-width: 1.5;\" width=\"71\" x=\"84.5\" y=\"87.5\"/><text fill=\"#000000\" font-family=\"sans-serif\" font-size=\"12\" font-style=\"italic\" lengthAdjust=\"spacingAndGlyphs\" textLength=\"69\" x=\"85.5\" y=\"103.6387\">«attribute»</text><text fill=\"#000000\" font-family=\"sans-serif\" font-size=\"12\" lengthAdjust=\"spacingAndGlyphs\" textLength=\"5\" x=\"117.5\" y=\"117.6074\">z</text><line style=\"stroke: #383838; stroke-width: 1.5;\" x1=\"85.5\" x2=\"154.5\" y1=\"125.4375\" y2=\"125.4375\"/></a><a href=\"psysml:03aab854-f405-4fcc-aa77-08da242f79f1\" target=\"_top\" title=\"psysml:03aab854-f405-4fcc-aa77-08da242f79f1\" xlink:actuate=\"onRequest\" xlink:href=\"psysml:03aab854-f405-4fcc-aa77-08da242f79f1\" xlink:show=\"new\" xlink:title=\"psysml:03aab854-f405-4fcc-aa77-08da242f79f1\" xlink:type=\"simple\"><polygon fill=\"#FFFFFF\" points=\"271.5,84,392.5,84,399.5,106.2969,406.5,106.2969,406.5,136.5938,271.5,136.5938,271.5,84\" style=\"stroke: #000000; stroke-width: 1.5;\"/><line style=\"stroke: #000000; stroke-width: 1.5;\" x1=\"271.5\" x2=\"399.5\" y1=\"106.2969\" y2=\"106.2969\"/><text fill=\"#000000\" font-family=\"sans-serif\" font-size=\"14\" font-weight=\"bold\" lengthAdjust=\"spacingAndGlyphs\" textLength=\"115\" x=\"275.5\" y=\"98.9951\">Application Layer</text></a><a href=\"psysml:ad996126-15a5-42e2-8928-0fb76718612c\" target=\"_top\" title=\"psysml:ad996126-15a5-42e2-8928-0fb76718612c\" xlink:actuate=\"onRequest\" xlink:href=\"psysml:ad996126-15a5-42e2-8928-0fb76718612c\" xlink:show=\"new\" xlink:title=\"psysml:ad996126-15a5-42e2-8928-0fb76718612c\" xlink:type=\"simple\"><polygon fill=\"#FFFFFF\" points=\"284,214,380,214,387,236.2969,394,236.2969,394,266.5938,284,266.5938,284,214\" style=\"stroke: #000000; stroke-width: 1.5;\"/><line style=\"stroke: #000000; stroke-width: 1.5;\" x1=\"284\" x2=\"387\" y1=\"236.2969\" y2=\"236.2969\"/><text fill=\"#000000\" font-family=\"sans-serif\" font-size=\"14\" font-weight=\"bold\" lengthAdjust=\"spacingAndGlyphs\" textLength=\"90\" x=\"288\" y=\"228.9951\">Service Layer</text></a><a href=\"psysml:17a101e7-475f-4fc3-82c9-609370bf1116\" target=\"_top\" title=\"psysml:17a101e7-475f-4fc3-82c9-609370bf1116\" xlink:actuate=\"onRequest\" xlink:href=\"psysml:17a101e7-475f-4fc3-82c9-609370bf1116\" xlink:show=\"new\" xlink:title=\"psysml:17a101e7-475f-4fc3-82c9-609370bf1116\" xlink:type=\"simple\"><polygon fill=\"#FFFFFF\" points=\"293,344,371,344,378,366.2969,385,366.2969,385,396.5938,293,396.5938,293,344\" style=\"stroke: #000000; stroke-width: 1.5;\"/><line style=\"stroke: #000000; stroke-width: 1.5;\" x1=\"293\" x2=\"378\" y1=\"366.2969\" y2=\"366.2969\"/><text fill=\"#000000\" font-family=\"sans-serif\" font-size=\"14\" font-weight=\"bold\" lengthAdjust=\"spacingAndGlyphs\" textLength=\"72\" x=\"297\" y=\"358.9951\">Data Layer</text></a><!--MD5=[af87c684e3b0d8be13c1a698a818ef1e]\n",
       "link E3 to E4--><a href=\"psysml:8bc3dbe9-cd72-4429-a15e-d6826987fc7c\" target=\"_top\" title=\"psysml:8bc3dbe9-cd72-4429-a15e-d6826987fc7c\" xlink:actuate=\"onRequest\" xlink:href=\"psysml:8bc3dbe9-cd72-4429-a15e-d6826987fc7c\" xlink:show=\"new\" xlink:title=\"psysml:8bc3dbe9-cd72-4429-a15e-d6826987fc7c\" xlink:type=\"simple\"><path d=\"M339,137.1 C339,156.8 339,184.22 339,205.73 \" fill=\"none\" id=\"E3-&gt;E4\" style=\"stroke: #383838; stroke-width: 1.0; stroke-dasharray: 7.0,7.0;\"/><polygon fill=\"#383838\" points=\"339,213.95,342,205.95,336,205.95,339,213.95\" style=\"stroke: #383838; stroke-width: 1.0;\"/><text fill=\"#000000\" font-family=\"sans-serif\" font-size=\"13\" lengthAdjust=\"spacingAndGlyphs\" textLength=\"64\" x=\"340\" y=\"180.0669\">«depend»</text></a><!--MD5=[1b7591eae5389033d8d09a9d6721a717]\n",
       "link E4 to E5--><a href=\"psysml:a5d569dd-f966-4325-8014-b1c593712f38\" target=\"_top\" title=\"psysml:a5d569dd-f966-4325-8014-b1c593712f38\" xlink:actuate=\"onRequest\" xlink:href=\"psysml:a5d569dd-f966-4325-8014-b1c593712f38\" xlink:show=\"new\" xlink:title=\"psysml:a5d569dd-f966-4325-8014-b1c593712f38\" xlink:type=\"simple\"><path d=\"M339,267.1 C339,286.8 339,314.22 339,335.73 \" fill=\"none\" id=\"E4-&gt;E5\" style=\"stroke: #383838; stroke-width: 1.0; stroke-dasharray: 7.0,7.0;\"/><polygon fill=\"#383838\" points=\"339,343.95,342,335.95,336,335.95,339,343.95\" style=\"stroke: #383838; stroke-width: 1.0;\"/><text fill=\"#000000\" font-family=\"sans-serif\" font-size=\"13\" lengthAdjust=\"spacingAndGlyphs\" textLength=\"64\" x=\"340\" y=\"310.0669\">«depend»</text></a><!--MD5=[c5e8897d989ce984f93528998a7150fe]\n",
       "link E8 to E6--><a href=\"psysml:e9cc0fc6-3b4b-4571-a4a8-99018107eac1\" target=\"_top\" title=\"psysml:e9cc0fc6-3b4b-4571-a4a8-99018107eac1\" xlink:actuate=\"onRequest\" xlink:href=\"psysml:e9cc0fc6-3b4b-4571-a4a8-99018107eac1\" xlink:show=\"new\" xlink:title=\"psysml:e9cc0fc6-3b4b-4571-a4a8-99018107eac1\" xlink:type=\"simple\"><path d=\"M89.42,133.6 C79.35,142.68 69.37,154.11 64,167 C58.5,180.2 58.66,195.94 60.54,209.38 \" fill=\"none\" id=\"E8-&gt;E6\" style=\"stroke: #383838; stroke-width: 1.0; stroke-dasharray: 7.0,7.0;\"/><polygon fill=\"#383838\" points=\"61.9,217.4,63.517,209.0104,57.6018,210.0159,61.9,217.4\" style=\"stroke: #383838; stroke-width: 1.0;\"/><text fill=\"#000000\" font-family=\"sans-serif\" font-size=\"13\" lengthAdjust=\"spacingAndGlyphs\" textLength=\"64\" x=\"65\" y=\"180.0669\">«depend»</text></a><!--MD5=[bfa3c8b0d15052fdf50ae9310b491027]\n",
       "link E8 to E7--><a href=\"psysml:e9cc0fc6-3b4b-4571-a4a8-99018107eac1\" target=\"_top\" title=\"psysml:e9cc0fc6-3b4b-4571-a4a8-99018107eac1\" xlink:actuate=\"onRequest\" xlink:href=\"psysml:e9cc0fc6-3b4b-4571-a4a8-99018107eac1\" xlink:show=\"new\" xlink:title=\"psysml:e9cc0fc6-3b4b-4571-a4a8-99018107eac1\" xlink:type=\"simple\"><path d=\"M129.28,133.5 C138.17,154.57 151.64,186.5 161.47,209.81 \" fill=\"none\" id=\"E8-&gt;E7\" style=\"stroke: #383838; stroke-width: 1.0; stroke-dasharray: 7.0,7.0;\"/><polygon fill=\"#383838\" points=\"164.66,217.35,164.3241,208.8126,158.7933,211.1385,164.66,217.35\" style=\"stroke: #383838; stroke-width: 1.0;\"/><text fill=\"#000000\" font-family=\"sans-serif\" font-size=\"13\" lengthAdjust=\"spacingAndGlyphs\" textLength=\"64\" x=\"151\" y=\"180.0669\">«depend»</text></a><!--MD5=[0ce299708f68b8b82ee4b994cea96813]\n",
       "@startuml\r\n",
       "top to bottom direction\r\n",
       "skinparam monochrome true\r\n",
       "skinparam classbackgroundcolor white\r\n",
       "skinparam shadowing false\r\n",
       "skinparam wrapWidth 300\r\n",
       "hide circle\r\n",
       "\r\n",
       "package \"DependencyTest\" as E1  [[psysml:d3869743-6750-4f05-a5ce-51c4137f7251 ]]  {\r\n",
       "package \"System\" as E2  [[psysml:6b74be88-9b37-4afd-8ab0-bbd062a94e7e ]]  {\r\n",
       "package \"Application Layer\" as E3  [[psysml:03aab854-f405-4fcc-aa77-08da242f79f1 ]]  {\r\n",
       "}\r\n",
       "package \"Service Layer\" as E4  [[psysml:ad996126-15a5-42e2-8928-0fb76718612c ]]  {\r\n",
       "}\r\n",
       "package \"Data Layer\" as E5  [[psysml:17a101e7-475f-4fc3-82c9-609370bf1116 ]]  {\r\n",
       "}\r\n",
       "}\r\n",
       "comp usage \"x\" as E6  <<(T,blue) attribute>> [[psysml:881809a4-48f2-4fe8-9827-6dde0f998bab ]] {\r\n",
       "}\r\n",
       "comp usage \"y\" as E7  <<(T,blue) attribute>> [[psysml:190ef100-b940-43fb-97f3-4b9e1cd4417f ]] {\r\n",
       "}\r\n",
       "comp usage \"z\" as E8  <<(T,blue) attribute>> [[psysml:293eb67f-3e12-4287-ab19-bcded2d3124c ]] {\r\n",
       "}\r\n",
       "}\r\n",
       "E3 ..>> E4 [[psysml:8bc3dbe9-cd72-4429-a15e-d6826987fc7c ]] : <<depend>>\r\n",
       "E4 ..>> E5 [[psysml:a5d569dd-f966-4325-8014-b1c593712f38 ]] : <<depend>>\r\n",
       "E8 ..>> E6 [[psysml:e9cc0fc6-3b4b-4571-a4a8-99018107eac1 ]] : <<depend>>\r\n",
       "E8 ..>> E7 [[psysml:e9cc0fc6-3b4b-4571-a4a8-99018107eac1 ]] : <<depend>>\r\n",
       "@enduml\r\n",
       "\n",
       "PlantUML version 1.2020.13(Sat Jun 13 12:26:38 UTC 2020)\n",
       "(EPL source distribution)\n",
       "Java Runtime: OpenJDK Runtime Environment\n",
       "JVM: OpenJDK 64-Bit Server VM\n",
       "Default Encoding: UTF-8\n",
       "Language: en\n",
       "Country: null\n",
       "--></g></svg>"
      ]
     },
     "execution_count": 50,
     "metadata": {},
     "output_type": "execute_result"
    }
   ],
   "source": [
    "%viz --style=\"TB\" --view=\"MIXED\" \"DependencyTest\""
   ]
  },
  {
   "cell_type": "code",
   "execution_count": 51,
   "id": "558ecd4b",
   "metadata": {
    "execution": {
     "iopub.execute_input": "2021-10-03T08:27:21.367635Z",
     "iopub.status.busy": "2021-10-03T08:27:21.367222Z",
     "iopub.status.idle": "2021-10-03T08:27:21.397970Z",
     "shell.execute_reply": "2021-10-03T08:27:21.396227Z"
    }
   },
   "outputs": [
    {
     "data": {
      "image/svg+xml": [
       "<?xml version=\"1.0\" encoding=\"UTF-8\" standalone=\"no\"?><svg xmlns=\"http://www.w3.org/2000/svg\" xmlns:xlink=\"http://www.w3.org/1999/xlink\" contentScriptType=\"application/ecmascript\" contentStyleType=\"text/css\" height=\"449px\" preserveAspectRatio=\"none\" style=\"width:469px;height:449px;\" version=\"1.1\" viewBox=\"0 0 469 449\" width=\"469px\" zoomAndPan=\"magnify\"><defs/><g><!--MD5=[fbc87193dbaf4d95561dea2c320d4a47]\n",
       "cluster E1--><a href=\"psysml:d3869743-6750-4f05-a5ce-51c4137f7251\" target=\"_top\" title=\"psysml:d3869743-6750-4f05-a5ce-51c4137f7251\" xlink:actuate=\"onRequest\" xlink:href=\"psysml:d3869743-6750-4f05-a5ce-51c4137f7251\" xlink:show=\"new\" xlink:title=\"psysml:d3869743-6750-4f05-a5ce-51c4137f7251\" xlink:type=\"simple\"><polygon fill=\"#FFFFFF\" points=\"16,6,142,6,149,28.2969,447,28.2969,447,437,16,437,16,6\" style=\"stroke: #000000; stroke-width: 1.5;\"/><line style=\"stroke: #000000; stroke-width: 1.5;\" x1=\"16\" x2=\"149\" y1=\"28.2969\" y2=\"28.2969\"/><text fill=\"#000000\" font-family=\"sans-serif\" font-size=\"14\" font-weight=\"bold\" lengthAdjust=\"spacingAndGlyphs\" textLength=\"120\" x=\"20\" y=\"20.9951\">DependencyTest</text></a><!--MD5=[e4f7fae6ed58524ba242bb0b0d3be6b7]\n",
       "cluster E2--><a href=\"psysml:6b74be88-9b37-4afd-8ab0-bbd062a94e7e\" target=\"_top\" title=\"psysml:6b74be88-9b37-4afd-8ab0-bbd062a94e7e\" xlink:actuate=\"onRequest\" xlink:href=\"psysml:6b74be88-9b37-4afd-8ab0-bbd062a94e7e\" xlink:show=\"new\" xlink:title=\"psysml:6b74be88-9b37-4afd-8ab0-bbd062a94e7e\" xlink:type=\"simple\"><polygon fill=\"#FFFFFF\" points=\"255,49,312,49,319,71.2969,423,71.2969,423,413,255,413,255,49\" style=\"stroke: #000000; stroke-width: 1.5;\"/><line style=\"stroke: #000000; stroke-width: 1.5;\" x1=\"255\" x2=\"319\" y1=\"71.2969\" y2=\"71.2969\"/><text fill=\"#000000\" font-family=\"sans-serif\" font-size=\"14\" font-weight=\"bold\" lengthAdjust=\"spacingAndGlyphs\" textLength=\"51\" x=\"259\" y=\"63.9951\">System</text></a><!--MD5=[60a26617385b1d2d0262a64233df1f8d]\n",
       "class E6--><a href=\"psysml:881809a4-48f2-4fe8-9827-6dde0f998bab\" target=\"_top\" title=\"psysml:881809a4-48f2-4fe8-9827-6dde0f998bab\" xlink:actuate=\"onRequest\" xlink:href=\"psysml:881809a4-48f2-4fe8-9827-6dde0f998bab\" xlink:show=\"new\" xlink:title=\"psysml:881809a4-48f2-4fe8-9827-6dde0f998bab\" xlink:type=\"simple\"><rect fill=\"#FFFFFF\" height=\"45.9375\" id=\"E6\" rx=\"10\" ry=\"10\" style=\"stroke: #383838; stroke-width: 1.5;\" width=\"71\" x=\"32.5\" y=\"217.5\"/><text fill=\"#000000\" font-family=\"sans-serif\" font-size=\"12\" font-style=\"italic\" lengthAdjust=\"spacingAndGlyphs\" textLength=\"69\" x=\"33.5\" y=\"233.6387\">«attribute»</text><text fill=\"#000000\" font-family=\"sans-serif\" font-size=\"12\" lengthAdjust=\"spacingAndGlyphs\" textLength=\"6\" x=\"65\" y=\"247.6074\">x</text><line style=\"stroke: #383838; stroke-width: 1.5;\" x1=\"33.5\" x2=\"102.5\" y1=\"255.4375\" y2=\"255.4375\"/></a><!--MD5=[2156ba9850f5573cc1fc38a6a4b2f02b]\n",
       "class E7--><a href=\"psysml:190ef100-b940-43fb-97f3-4b9e1cd4417f\" target=\"_top\" title=\"psysml:190ef100-b940-43fb-97f3-4b9e1cd4417f\" xlink:actuate=\"onRequest\" xlink:href=\"psysml:190ef100-b940-43fb-97f3-4b9e1cd4417f\" xlink:show=\"new\" xlink:title=\"psysml:190ef100-b940-43fb-97f3-4b9e1cd4417f\" xlink:type=\"simple\"><rect fill=\"#FFFFFF\" height=\"45.9375\" id=\"E7\" rx=\"10\" ry=\"10\" style=\"stroke: #383838; stroke-width: 1.5;\" width=\"71\" x=\"138.5\" y=\"217.5\"/><text fill=\"#000000\" font-family=\"sans-serif\" font-size=\"12\" font-style=\"italic\" lengthAdjust=\"spacingAndGlyphs\" textLength=\"69\" x=\"139.5\" y=\"233.6387\">«attribute»</text><text fill=\"#000000\" font-family=\"sans-serif\" font-size=\"12\" lengthAdjust=\"spacingAndGlyphs\" textLength=\"6\" x=\"171\" y=\"247.6074\">y</text><line style=\"stroke: #383838; stroke-width: 1.5;\" x1=\"139.5\" x2=\"208.5\" y1=\"255.4375\" y2=\"255.4375\"/></a><!--MD5=[b9389687b975829384b498ac4b7476b2]\n",
       "class E8--><a href=\"psysml:293eb67f-3e12-4287-ab19-bcded2d3124c\" target=\"_top\" title=\"psysml:293eb67f-3e12-4287-ab19-bcded2d3124c\" xlink:actuate=\"onRequest\" xlink:href=\"psysml:293eb67f-3e12-4287-ab19-bcded2d3124c\" xlink:show=\"new\" xlink:title=\"psysml:293eb67f-3e12-4287-ab19-bcded2d3124c\" xlink:type=\"simple\"><rect fill=\"#FFFFFF\" height=\"45.9375\" id=\"E8\" rx=\"10\" ry=\"10\" style=\"stroke: #383838; stroke-width: 1.5;\" width=\"71\" x=\"84.5\" y=\"87.5\"/><text fill=\"#000000\" font-family=\"sans-serif\" font-size=\"12\" font-style=\"italic\" lengthAdjust=\"spacingAndGlyphs\" textLength=\"69\" x=\"85.5\" y=\"103.6387\">«attribute»</text><text fill=\"#000000\" font-family=\"sans-serif\" font-size=\"12\" lengthAdjust=\"spacingAndGlyphs\" textLength=\"5\" x=\"117.5\" y=\"117.6074\">z</text><line style=\"stroke: #383838; stroke-width: 1.5;\" x1=\"85.5\" x2=\"154.5\" y1=\"125.4375\" y2=\"125.4375\"/></a><a href=\"psysml:03aab854-f405-4fcc-aa77-08da242f79f1\" target=\"_top\" title=\"psysml:03aab854-f405-4fcc-aa77-08da242f79f1\" xlink:actuate=\"onRequest\" xlink:href=\"psysml:03aab854-f405-4fcc-aa77-08da242f79f1\" xlink:show=\"new\" xlink:title=\"psysml:03aab854-f405-4fcc-aa77-08da242f79f1\" xlink:type=\"simple\"><polygon fill=\"#FFFFFF\" points=\"271.5,84,392.5,84,399.5,106.2969,406.5,106.2969,406.5,136.5938,271.5,136.5938,271.5,84\" style=\"stroke: #000000; stroke-width: 1.5;\"/><line style=\"stroke: #000000; stroke-width: 1.5;\" x1=\"271.5\" x2=\"399.5\" y1=\"106.2969\" y2=\"106.2969\"/><text fill=\"#000000\" font-family=\"sans-serif\" font-size=\"14\" font-weight=\"bold\" lengthAdjust=\"spacingAndGlyphs\" textLength=\"115\" x=\"275.5\" y=\"98.9951\">Application Layer</text></a><a href=\"psysml:ad996126-15a5-42e2-8928-0fb76718612c\" target=\"_top\" title=\"psysml:ad996126-15a5-42e2-8928-0fb76718612c\" xlink:actuate=\"onRequest\" xlink:href=\"psysml:ad996126-15a5-42e2-8928-0fb76718612c\" xlink:show=\"new\" xlink:title=\"psysml:ad996126-15a5-42e2-8928-0fb76718612c\" xlink:type=\"simple\"><polygon fill=\"#FFFFFF\" points=\"284,214,380,214,387,236.2969,394,236.2969,394,266.5938,284,266.5938,284,214\" style=\"stroke: #000000; stroke-width: 1.5;\"/><line style=\"stroke: #000000; stroke-width: 1.5;\" x1=\"284\" x2=\"387\" y1=\"236.2969\" y2=\"236.2969\"/><text fill=\"#000000\" font-family=\"sans-serif\" font-size=\"14\" font-weight=\"bold\" lengthAdjust=\"spacingAndGlyphs\" textLength=\"90\" x=\"288\" y=\"228.9951\">Service Layer</text></a><a href=\"psysml:17a101e7-475f-4fc3-82c9-609370bf1116\" target=\"_top\" title=\"psysml:17a101e7-475f-4fc3-82c9-609370bf1116\" xlink:actuate=\"onRequest\" xlink:href=\"psysml:17a101e7-475f-4fc3-82c9-609370bf1116\" xlink:show=\"new\" xlink:title=\"psysml:17a101e7-475f-4fc3-82c9-609370bf1116\" xlink:type=\"simple\"><polygon fill=\"#FFFFFF\" points=\"293,344,371,344,378,366.2969,385,366.2969,385,396.5938,293,396.5938,293,344\" style=\"stroke: #000000; stroke-width: 1.5;\"/><line style=\"stroke: #000000; stroke-width: 1.5;\" x1=\"293\" x2=\"378\" y1=\"366.2969\" y2=\"366.2969\"/><text fill=\"#000000\" font-family=\"sans-serif\" font-size=\"14\" font-weight=\"bold\" lengthAdjust=\"spacingAndGlyphs\" textLength=\"72\" x=\"297\" y=\"358.9951\">Data Layer</text></a><!--MD5=[af87c684e3b0d8be13c1a698a818ef1e]\n",
       "link E3 to E4--><a href=\"psysml:8bc3dbe9-cd72-4429-a15e-d6826987fc7c\" target=\"_top\" title=\"psysml:8bc3dbe9-cd72-4429-a15e-d6826987fc7c\" xlink:actuate=\"onRequest\" xlink:href=\"psysml:8bc3dbe9-cd72-4429-a15e-d6826987fc7c\" xlink:show=\"new\" xlink:title=\"psysml:8bc3dbe9-cd72-4429-a15e-d6826987fc7c\" xlink:type=\"simple\"><path d=\"M339,137.12 C339,137.12 339,205.91 339,205.91 \" fill=\"none\" id=\"E3-&gt;E4\" style=\"stroke: #383838; stroke-width: 1.0; stroke-dasharray: 7.0,7.0;\"/><polygon fill=\"#383838\" points=\"339,213.91,342,205.91,336,205.91,339,213.91\" style=\"stroke: #383838; stroke-width: 1.0;\"/><text fill=\"#000000\" font-family=\"sans-serif\" font-size=\"13\" lengthAdjust=\"spacingAndGlyphs\" textLength=\"64\" x=\"340\" y=\"180.0669\">«depend»</text></a><!--MD5=[1b7591eae5389033d8d09a9d6721a717]\n",
       "link E4 to E5--><a href=\"psysml:a5d569dd-f966-4325-8014-b1c593712f38\" target=\"_top\" title=\"psysml:a5d569dd-f966-4325-8014-b1c593712f38\" xlink:actuate=\"onRequest\" xlink:href=\"psysml:a5d569dd-f966-4325-8014-b1c593712f38\" xlink:show=\"new\" xlink:title=\"psysml:a5d569dd-f966-4325-8014-b1c593712f38\" xlink:type=\"simple\"><path d=\"M339,267.12 C339,267.12 339,335.91 339,335.91 \" fill=\"none\" id=\"E4-&gt;E5\" style=\"stroke: #383838; stroke-width: 1.0; stroke-dasharray: 7.0,7.0;\"/><polygon fill=\"#383838\" points=\"339,343.91,342,335.91,336,335.91,339,343.91\" style=\"stroke: #383838; stroke-width: 1.0;\"/><text fill=\"#000000\" font-family=\"sans-serif\" font-size=\"13\" lengthAdjust=\"spacingAndGlyphs\" textLength=\"64\" x=\"340\" y=\"310.0669\">«depend»</text></a><!--MD5=[c5e8897d989ce984f93528998a7150fe]\n",
       "link E8 to E6--><a href=\"psysml:e9cc0fc6-3b4b-4571-a4a8-99018107eac1\" target=\"_top\" title=\"psysml:e9cc0fc6-3b4b-4571-a4a8-99018107eac1\" xlink:actuate=\"onRequest\" xlink:href=\"psysml:e9cc0fc6-3b4b-4571-a4a8-99018107eac1\" xlink:show=\"new\" xlink:title=\"psysml:e9cc0fc6-3b4b-4571-a4a8-99018107eac1\" xlink:type=\"simple\"><path d=\"M94,133.74 C94,133.74 94,209.46 94,209.46 \" fill=\"none\" id=\"E8-&gt;E6\" style=\"stroke: #383838; stroke-width: 1.0; stroke-dasharray: 7.0,7.0;\"/><polygon fill=\"#383838\" points=\"94,217.46,97,209.46,91,209.46,94,217.46\" style=\"stroke: #383838; stroke-width: 1.0;\"/><text fill=\"#000000\" font-family=\"sans-serif\" font-size=\"13\" lengthAdjust=\"spacingAndGlyphs\" textLength=\"64\" x=\"68\" y=\"180.0669\">«depend»</text></a><!--MD5=[bfa3c8b0d15052fdf50ae9310b491027]\n",
       "link E8 to E7--><a href=\"psysml:e9cc0fc6-3b4b-4571-a4a8-99018107eac1\" target=\"_top\" title=\"psysml:e9cc0fc6-3b4b-4571-a4a8-99018107eac1\" xlink:actuate=\"onRequest\" xlink:href=\"psysml:e9cc0fc6-3b4b-4571-a4a8-99018107eac1\" xlink:show=\"new\" xlink:title=\"psysml:e9cc0fc6-3b4b-4571-a4a8-99018107eac1\" xlink:type=\"simple\"><path d=\"M147,133.74 C147,133.74 147,209.46 147,209.46 \" fill=\"none\" id=\"E8-&gt;E7\" style=\"stroke: #383838; stroke-width: 1.0; stroke-dasharray: 7.0,7.0;\"/><polygon fill=\"#383838\" points=\"147,217.46,150,209.46,144,209.46,147,217.46\" style=\"stroke: #383838; stroke-width: 1.0;\"/><text fill=\"#000000\" font-family=\"sans-serif\" font-size=\"13\" lengthAdjust=\"spacingAndGlyphs\" textLength=\"64\" x=\"174\" y=\"180.0669\">«depend»</text></a><!--MD5=[3ef8b68ecbbbca2740a5af3d41946512]\n",
       "@startuml\r\n",
       "skinparam linetype ortho\r\n",
       "skinparam monochrome true\r\n",
       "skinparam classbackgroundcolor white\r\n",
       "skinparam shadowing false\r\n",
       "skinparam wrapWidth 300\r\n",
       "hide circle\r\n",
       "\r\n",
       "package \"DependencyTest\" as E1  [[psysml:d3869743-6750-4f05-a5ce-51c4137f7251 ]]  {\r\n",
       "package \"System\" as E2  [[psysml:6b74be88-9b37-4afd-8ab0-bbd062a94e7e ]]  {\r\n",
       "package \"Application Layer\" as E3  [[psysml:03aab854-f405-4fcc-aa77-08da242f79f1 ]]  {\r\n",
       "}\r\n",
       "package \"Service Layer\" as E4  [[psysml:ad996126-15a5-42e2-8928-0fb76718612c ]]  {\r\n",
       "}\r\n",
       "package \"Data Layer\" as E5  [[psysml:17a101e7-475f-4fc3-82c9-609370bf1116 ]]  {\r\n",
       "}\r\n",
       "}\r\n",
       "comp usage \"x\" as E6  <<(T,blue) attribute>> [[psysml:881809a4-48f2-4fe8-9827-6dde0f998bab ]] {\r\n",
       "}\r\n",
       "comp usage \"y\" as E7  <<(T,blue) attribute>> [[psysml:190ef100-b940-43fb-97f3-4b9e1cd4417f ]] {\r\n",
       "}\r\n",
       "comp usage \"z\" as E8  <<(T,blue) attribute>> [[psysml:293eb67f-3e12-4287-ab19-bcded2d3124c ]] {\r\n",
       "}\r\n",
       "}\r\n",
       "E3 ..>> E4 [[psysml:8bc3dbe9-cd72-4429-a15e-d6826987fc7c ]] : <<depend>>\r\n",
       "E4 ..>> E5 [[psysml:a5d569dd-f966-4325-8014-b1c593712f38 ]] : <<depend>>\r\n",
       "E8 ..>> E6 [[psysml:e9cc0fc6-3b4b-4571-a4a8-99018107eac1 ]] : <<depend>>\r\n",
       "E8 ..>> E7 [[psysml:e9cc0fc6-3b4b-4571-a4a8-99018107eac1 ]] : <<depend>>\r\n",
       "@enduml\r\n",
       "\n",
       "PlantUML version 1.2020.13(Sat Jun 13 12:26:38 UTC 2020)\n",
       "(EPL source distribution)\n",
       "Java Runtime: OpenJDK Runtime Environment\n",
       "JVM: OpenJDK 64-Bit Server VM\n",
       "Default Encoding: UTF-8\n",
       "Language: en\n",
       "Country: null\n",
       "--></g></svg>"
      ]
     },
     "execution_count": 51,
     "metadata": {},
     "output_type": "execute_result"
    }
   ],
   "source": [
    "%viz --style=\"ORTHOLINE\" --view=\"Default\" \"DependencyTest\""
   ]
  },
  {
   "cell_type": "code",
   "execution_count": 52,
   "id": "b93a12c4",
   "metadata": {
    "execution": {
     "iopub.execute_input": "2021-10-03T08:27:21.447009Z",
     "iopub.status.busy": "2021-10-03T08:27:21.446599Z",
     "iopub.status.idle": "2021-10-03T08:27:21.477760Z",
     "shell.execute_reply": "2021-10-03T08:27:21.475736Z"
    }
   },
   "outputs": [
    {
     "data": {
      "image/svg+xml": [
       "<?xml version=\"1.0\" encoding=\"UTF-8\" standalone=\"no\"?><svg xmlns=\"http://www.w3.org/2000/svg\" xmlns:xlink=\"http://www.w3.org/1999/xlink\" contentScriptType=\"application/ecmascript\" contentStyleType=\"text/css\" height=\"449px\" preserveAspectRatio=\"none\" style=\"width:469px;height:449px;\" version=\"1.1\" viewBox=\"0 0 469 449\" width=\"469px\" zoomAndPan=\"magnify\"><defs/><g><!--MD5=[fbc87193dbaf4d95561dea2c320d4a47]\n",
       "cluster E1--><a href=\"psysml:d3869743-6750-4f05-a5ce-51c4137f7251\" target=\"_top\" title=\"psysml:d3869743-6750-4f05-a5ce-51c4137f7251\" xlink:actuate=\"onRequest\" xlink:href=\"psysml:d3869743-6750-4f05-a5ce-51c4137f7251\" xlink:show=\"new\" xlink:title=\"psysml:d3869743-6750-4f05-a5ce-51c4137f7251\" xlink:type=\"simple\"><polygon fill=\"#FFFFFF\" points=\"16,6,142,6,149,28.2969,447,28.2969,447,437,16,437,16,6\" style=\"stroke: #000000; stroke-width: 1.5;\"/><line style=\"stroke: #000000; stroke-width: 1.5;\" x1=\"16\" x2=\"149\" y1=\"28.2969\" y2=\"28.2969\"/><text fill=\"#000000\" font-family=\"sans-serif\" font-size=\"14\" font-weight=\"bold\" lengthAdjust=\"spacingAndGlyphs\" textLength=\"120\" x=\"20\" y=\"20.9951\">DependencyTest</text></a><!--MD5=[e4f7fae6ed58524ba242bb0b0d3be6b7]\n",
       "cluster E2--><a href=\"psysml:6b74be88-9b37-4afd-8ab0-bbd062a94e7e\" target=\"_top\" title=\"psysml:6b74be88-9b37-4afd-8ab0-bbd062a94e7e\" xlink:actuate=\"onRequest\" xlink:href=\"psysml:6b74be88-9b37-4afd-8ab0-bbd062a94e7e\" xlink:show=\"new\" xlink:title=\"psysml:6b74be88-9b37-4afd-8ab0-bbd062a94e7e\" xlink:type=\"simple\"><polygon fill=\"#FFFFFF\" points=\"255,49,312,49,319,71.2969,423,71.2969,423,413,255,413,255,49\" style=\"stroke: #000000; stroke-width: 1.5;\"/><line style=\"stroke: #000000; stroke-width: 1.5;\" x1=\"255\" x2=\"319\" y1=\"71.2969\" y2=\"71.2969\"/><text fill=\"#000000\" font-family=\"sans-serif\" font-size=\"14\" font-weight=\"bold\" lengthAdjust=\"spacingAndGlyphs\" textLength=\"51\" x=\"259\" y=\"63.9951\">System</text></a><!--MD5=[60a26617385b1d2d0262a64233df1f8d]\n",
       "class E6--><a href=\"psysml:881809a4-48f2-4fe8-9827-6dde0f998bab\" target=\"_top\" title=\"psysml:881809a4-48f2-4fe8-9827-6dde0f998bab\" xlink:actuate=\"onRequest\" xlink:href=\"psysml:881809a4-48f2-4fe8-9827-6dde0f998bab\" xlink:show=\"new\" xlink:title=\"psysml:881809a4-48f2-4fe8-9827-6dde0f998bab\" xlink:type=\"simple\"><rect fill=\"#FFFFFF\" height=\"45.9375\" id=\"E6\" rx=\"10\" ry=\"10\" style=\"stroke: #383838; stroke-width: 1.5;\" width=\"71\" x=\"32.5\" y=\"217.5\"/><text fill=\"#000000\" font-family=\"sans-serif\" font-size=\"12\" font-style=\"italic\" lengthAdjust=\"spacingAndGlyphs\" textLength=\"69\" x=\"33.5\" y=\"233.6387\">«attribute»</text><text fill=\"#000000\" font-family=\"sans-serif\" font-size=\"12\" lengthAdjust=\"spacingAndGlyphs\" textLength=\"6\" x=\"65\" y=\"247.6074\">x</text><line style=\"stroke: #383838; stroke-width: 1.5;\" x1=\"33.5\" x2=\"102.5\" y1=\"255.4375\" y2=\"255.4375\"/></a><!--MD5=[2156ba9850f5573cc1fc38a6a4b2f02b]\n",
       "class E7--><a href=\"psysml:190ef100-b940-43fb-97f3-4b9e1cd4417f\" target=\"_top\" title=\"psysml:190ef100-b940-43fb-97f3-4b9e1cd4417f\" xlink:actuate=\"onRequest\" xlink:href=\"psysml:190ef100-b940-43fb-97f3-4b9e1cd4417f\" xlink:show=\"new\" xlink:title=\"psysml:190ef100-b940-43fb-97f3-4b9e1cd4417f\" xlink:type=\"simple\"><rect fill=\"#FFFFFF\" height=\"45.9375\" id=\"E7\" rx=\"10\" ry=\"10\" style=\"stroke: #383838; stroke-width: 1.5;\" width=\"71\" x=\"138.5\" y=\"217.5\"/><text fill=\"#000000\" font-family=\"sans-serif\" font-size=\"12\" font-style=\"italic\" lengthAdjust=\"spacingAndGlyphs\" textLength=\"69\" x=\"139.5\" y=\"233.6387\">«attribute»</text><text fill=\"#000000\" font-family=\"sans-serif\" font-size=\"12\" lengthAdjust=\"spacingAndGlyphs\" textLength=\"6\" x=\"171\" y=\"247.6074\">y</text><line style=\"stroke: #383838; stroke-width: 1.5;\" x1=\"139.5\" x2=\"208.5\" y1=\"255.4375\" y2=\"255.4375\"/></a><!--MD5=[b9389687b975829384b498ac4b7476b2]\n",
       "class E8--><a href=\"psysml:293eb67f-3e12-4287-ab19-bcded2d3124c\" target=\"_top\" title=\"psysml:293eb67f-3e12-4287-ab19-bcded2d3124c\" xlink:actuate=\"onRequest\" xlink:href=\"psysml:293eb67f-3e12-4287-ab19-bcded2d3124c\" xlink:show=\"new\" xlink:title=\"psysml:293eb67f-3e12-4287-ab19-bcded2d3124c\" xlink:type=\"simple\"><rect fill=\"#FFFFFF\" height=\"45.9375\" id=\"E8\" rx=\"10\" ry=\"10\" style=\"stroke: #383838; stroke-width: 1.5;\" width=\"71\" x=\"84.5\" y=\"87.5\"/><text fill=\"#000000\" font-family=\"sans-serif\" font-size=\"12\" font-style=\"italic\" lengthAdjust=\"spacingAndGlyphs\" textLength=\"69\" x=\"85.5\" y=\"103.6387\">«attribute»</text><text fill=\"#000000\" font-family=\"sans-serif\" font-size=\"12\" lengthAdjust=\"spacingAndGlyphs\" textLength=\"5\" x=\"117.5\" y=\"117.6074\">z</text><line style=\"stroke: #383838; stroke-width: 1.5;\" x1=\"85.5\" x2=\"154.5\" y1=\"125.4375\" y2=\"125.4375\"/></a><a href=\"psysml:03aab854-f405-4fcc-aa77-08da242f79f1\" target=\"_top\" title=\"psysml:03aab854-f405-4fcc-aa77-08da242f79f1\" xlink:actuate=\"onRequest\" xlink:href=\"psysml:03aab854-f405-4fcc-aa77-08da242f79f1\" xlink:show=\"new\" xlink:title=\"psysml:03aab854-f405-4fcc-aa77-08da242f79f1\" xlink:type=\"simple\"><polygon fill=\"#FFFFFF\" points=\"271.5,84,392.5,84,399.5,106.2969,406.5,106.2969,406.5,136.5938,271.5,136.5938,271.5,84\" style=\"stroke: #000000; stroke-width: 1.5;\"/><line style=\"stroke: #000000; stroke-width: 1.5;\" x1=\"271.5\" x2=\"399.5\" y1=\"106.2969\" y2=\"106.2969\"/><text fill=\"#000000\" font-family=\"sans-serif\" font-size=\"14\" font-weight=\"bold\" lengthAdjust=\"spacingAndGlyphs\" textLength=\"115\" x=\"275.5\" y=\"98.9951\">Application Layer</text></a><a href=\"psysml:ad996126-15a5-42e2-8928-0fb76718612c\" target=\"_top\" title=\"psysml:ad996126-15a5-42e2-8928-0fb76718612c\" xlink:actuate=\"onRequest\" xlink:href=\"psysml:ad996126-15a5-42e2-8928-0fb76718612c\" xlink:show=\"new\" xlink:title=\"psysml:ad996126-15a5-42e2-8928-0fb76718612c\" xlink:type=\"simple\"><polygon fill=\"#FFFFFF\" points=\"284,214,380,214,387,236.2969,394,236.2969,394,266.5938,284,266.5938,284,214\" style=\"stroke: #000000; stroke-width: 1.5;\"/><line style=\"stroke: #000000; stroke-width: 1.5;\" x1=\"284\" x2=\"387\" y1=\"236.2969\" y2=\"236.2969\"/><text fill=\"#000000\" font-family=\"sans-serif\" font-size=\"14\" font-weight=\"bold\" lengthAdjust=\"spacingAndGlyphs\" textLength=\"90\" x=\"288\" y=\"228.9951\">Service Layer</text></a><a href=\"psysml:17a101e7-475f-4fc3-82c9-609370bf1116\" target=\"_top\" title=\"psysml:17a101e7-475f-4fc3-82c9-609370bf1116\" xlink:actuate=\"onRequest\" xlink:href=\"psysml:17a101e7-475f-4fc3-82c9-609370bf1116\" xlink:show=\"new\" xlink:title=\"psysml:17a101e7-475f-4fc3-82c9-609370bf1116\" xlink:type=\"simple\"><polygon fill=\"#FFFFFF\" points=\"293,344,371,344,378,366.2969,385,366.2969,385,396.5938,293,396.5938,293,344\" style=\"stroke: #000000; stroke-width: 1.5;\"/><line style=\"stroke: #000000; stroke-width: 1.5;\" x1=\"293\" x2=\"378\" y1=\"366.2969\" y2=\"366.2969\"/><text fill=\"#000000\" font-family=\"sans-serif\" font-size=\"14\" font-weight=\"bold\" lengthAdjust=\"spacingAndGlyphs\" textLength=\"72\" x=\"297\" y=\"358.9951\">Data Layer</text></a><!--MD5=[af87c684e3b0d8be13c1a698a818ef1e]\n",
       "link E3 to E4--><a href=\"psysml:8bc3dbe9-cd72-4429-a15e-d6826987fc7c\" target=\"_top\" title=\"psysml:8bc3dbe9-cd72-4429-a15e-d6826987fc7c\" xlink:actuate=\"onRequest\" xlink:href=\"psysml:8bc3dbe9-cd72-4429-a15e-d6826987fc7c\" xlink:show=\"new\" xlink:title=\"psysml:8bc3dbe9-cd72-4429-a15e-d6826987fc7c\" xlink:type=\"simple\"><path d=\"M339,137.12 C339,137.12 339,205.91 339,205.91 \" fill=\"none\" id=\"E3-&gt;E4\" style=\"stroke: #383838; stroke-width: 1.0; stroke-dasharray: 7.0,7.0;\"/><polygon fill=\"#383838\" points=\"339,213.91,342,205.91,336,205.91,339,213.91\" style=\"stroke: #383838; stroke-width: 1.0;\"/><text fill=\"#000000\" font-family=\"sans-serif\" font-size=\"13\" lengthAdjust=\"spacingAndGlyphs\" textLength=\"64\" x=\"340\" y=\"180.0669\">«depend»</text></a><!--MD5=[1b7591eae5389033d8d09a9d6721a717]\n",
       "link E4 to E5--><a href=\"psysml:a5d569dd-f966-4325-8014-b1c593712f38\" target=\"_top\" title=\"psysml:a5d569dd-f966-4325-8014-b1c593712f38\" xlink:actuate=\"onRequest\" xlink:href=\"psysml:a5d569dd-f966-4325-8014-b1c593712f38\" xlink:show=\"new\" xlink:title=\"psysml:a5d569dd-f966-4325-8014-b1c593712f38\" xlink:type=\"simple\"><path d=\"M339,267.12 C339,267.12 339,335.91 339,335.91 \" fill=\"none\" id=\"E4-&gt;E5\" style=\"stroke: #383838; stroke-width: 1.0; stroke-dasharray: 7.0,7.0;\"/><polygon fill=\"#383838\" points=\"339,343.91,342,335.91,336,335.91,339,343.91\" style=\"stroke: #383838; stroke-width: 1.0;\"/><text fill=\"#000000\" font-family=\"sans-serif\" font-size=\"13\" lengthAdjust=\"spacingAndGlyphs\" textLength=\"64\" x=\"340\" y=\"310.0669\">«depend»</text></a><!--MD5=[c5e8897d989ce984f93528998a7150fe]\n",
       "link E8 to E6--><a href=\"psysml:e9cc0fc6-3b4b-4571-a4a8-99018107eac1\" target=\"_top\" title=\"psysml:e9cc0fc6-3b4b-4571-a4a8-99018107eac1\" xlink:actuate=\"onRequest\" xlink:href=\"psysml:e9cc0fc6-3b4b-4571-a4a8-99018107eac1\" xlink:show=\"new\" xlink:title=\"psysml:e9cc0fc6-3b4b-4571-a4a8-99018107eac1\" xlink:type=\"simple\"><path d=\"M94,133.74 C94,133.74 94,209.46 94,209.46 \" fill=\"none\" id=\"E8-&gt;E6\" style=\"stroke: #383838; stroke-width: 1.0; stroke-dasharray: 7.0,7.0;\"/><polygon fill=\"#383838\" points=\"94,217.46,97,209.46,91,209.46,94,217.46\" style=\"stroke: #383838; stroke-width: 1.0;\"/><text fill=\"#000000\" font-family=\"sans-serif\" font-size=\"13\" lengthAdjust=\"spacingAndGlyphs\" textLength=\"64\" x=\"68\" y=\"180.0669\">«depend»</text></a><!--MD5=[bfa3c8b0d15052fdf50ae9310b491027]\n",
       "link E8 to E7--><a href=\"psysml:e9cc0fc6-3b4b-4571-a4a8-99018107eac1\" target=\"_top\" title=\"psysml:e9cc0fc6-3b4b-4571-a4a8-99018107eac1\" xlink:actuate=\"onRequest\" xlink:href=\"psysml:e9cc0fc6-3b4b-4571-a4a8-99018107eac1\" xlink:show=\"new\" xlink:title=\"psysml:e9cc0fc6-3b4b-4571-a4a8-99018107eac1\" xlink:type=\"simple\"><path d=\"M147,133.74 C147,133.74 147,209.46 147,209.46 \" fill=\"none\" id=\"E8-&gt;E7\" style=\"stroke: #383838; stroke-width: 1.0; stroke-dasharray: 7.0,7.0;\"/><polygon fill=\"#383838\" points=\"147,217.46,150,209.46,144,209.46,147,217.46\" style=\"stroke: #383838; stroke-width: 1.0;\"/><text fill=\"#000000\" font-family=\"sans-serif\" font-size=\"13\" lengthAdjust=\"spacingAndGlyphs\" textLength=\"64\" x=\"174\" y=\"180.0669\">«depend»</text></a><!--MD5=[3ef8b68ecbbbca2740a5af3d41946512]\n",
       "@startuml\r\n",
       "skinparam linetype ortho\r\n",
       "skinparam monochrome true\r\n",
       "skinparam classbackgroundcolor white\r\n",
       "skinparam shadowing false\r\n",
       "skinparam wrapWidth 300\r\n",
       "hide circle\r\n",
       "\r\n",
       "package \"DependencyTest\" as E1  [[psysml:d3869743-6750-4f05-a5ce-51c4137f7251 ]]  {\r\n",
       "package \"System\" as E2  [[psysml:6b74be88-9b37-4afd-8ab0-bbd062a94e7e ]]  {\r\n",
       "package \"Application Layer\" as E3  [[psysml:03aab854-f405-4fcc-aa77-08da242f79f1 ]]  {\r\n",
       "}\r\n",
       "package \"Service Layer\" as E4  [[psysml:ad996126-15a5-42e2-8928-0fb76718612c ]]  {\r\n",
       "}\r\n",
       "package \"Data Layer\" as E5  [[psysml:17a101e7-475f-4fc3-82c9-609370bf1116 ]]  {\r\n",
       "}\r\n",
       "}\r\n",
       "comp usage \"x\" as E6  <<(T,blue) attribute>> [[psysml:881809a4-48f2-4fe8-9827-6dde0f998bab ]] {\r\n",
       "}\r\n",
       "comp usage \"y\" as E7  <<(T,blue) attribute>> [[psysml:190ef100-b940-43fb-97f3-4b9e1cd4417f ]] {\r\n",
       "}\r\n",
       "comp usage \"z\" as E8  <<(T,blue) attribute>> [[psysml:293eb67f-3e12-4287-ab19-bcded2d3124c ]] {\r\n",
       "}\r\n",
       "}\r\n",
       "E3 ..>> E4 [[psysml:8bc3dbe9-cd72-4429-a15e-d6826987fc7c ]] : <<depend>>\r\n",
       "E4 ..>> E5 [[psysml:a5d569dd-f966-4325-8014-b1c593712f38 ]] : <<depend>>\r\n",
       "E8 ..>> E6 [[psysml:e9cc0fc6-3b4b-4571-a4a8-99018107eac1 ]] : <<depend>>\r\n",
       "E8 ..>> E7 [[psysml:e9cc0fc6-3b4b-4571-a4a8-99018107eac1 ]] : <<depend>>\r\n",
       "@enduml\r\n",
       "\n",
       "PlantUML version 1.2020.13(Sat Jun 13 12:26:38 UTC 2020)\n",
       "(EPL source distribution)\n",
       "Java Runtime: OpenJDK Runtime Environment\n",
       "JVM: OpenJDK 64-Bit Server VM\n",
       "Default Encoding: UTF-8\n",
       "Language: en\n",
       "Country: null\n",
       "--></g></svg>"
      ]
     },
     "execution_count": 52,
     "metadata": {},
     "output_type": "execute_result"
    }
   ],
   "source": [
    "%viz --style=\"ORTHOLINE\" --view=\"Tree\" \"DependencyTest\""
   ]
  },
  {
   "cell_type": "code",
   "execution_count": 53,
   "id": "534d75a3",
   "metadata": {
    "execution": {
     "iopub.execute_input": "2021-10-03T08:27:21.526601Z",
     "iopub.status.busy": "2021-10-03T08:27:21.526124Z",
     "iopub.status.idle": "2021-10-03T08:27:21.532314Z",
     "shell.execute_reply": "2021-10-03T08:27:21.531901Z"
    }
   },
   "outputs": [
    {
     "data": {
      "image/svg+xml": [
       "<?xml version=\"1.0\" encoding=\"UTF-8\" standalone=\"no\"?><svg xmlns=\"http://www.w3.org/2000/svg\" xmlns:xlink=\"http://www.w3.org/1999/xlink\" contentScriptType=\"application/ecmascript\" contentStyleType=\"text/css\" height=\"12px\" preserveAspectRatio=\"none\" style=\"width:12px;height:12px;\" version=\"1.1\" viewBox=\"0 0 12 12\" width=\"12px\" zoomAndPan=\"magnify\"><defs/><g><!--MD5=[97d6f38768b311333d388e66b2b27985]\n",
       "@startuml\r\n",
       "skinparam linetype ortho\r\n",
       "skinparam monochrome true\r\n",
       "skinparam classbackgroundcolor white\r\n",
       "skinparam shadowing false\r\n",
       "skinparam wrapWidth 300\r\n",
       "hide circle\r\n",
       "\r\n",
       "@enduml\r\n",
       "\n",
       "PlantUML version 1.2020.13(Sat Jun 13 12:26:38 UTC 2020)\n",
       "(EPL source distribution)\n",
       "Java Runtime: OpenJDK Runtime Environment\n",
       "JVM: OpenJDK 64-Bit Server VM\n",
       "Default Encoding: UTF-8\n",
       "Language: en\n",
       "Country: null\n",
       "--></g></svg>"
      ]
     },
     "execution_count": 53,
     "metadata": {},
     "output_type": "execute_result"
    }
   ],
   "source": [
    "%viz --style=\"ORTHOLINE\" --view=\"State\" \"DependencyTest\""
   ]
  },
  {
   "cell_type": "code",
   "execution_count": 54,
   "id": "f9905b60",
   "metadata": {
    "execution": {
     "iopub.execute_input": "2021-10-03T08:27:21.581460Z",
     "iopub.status.busy": "2021-10-03T08:27:21.580981Z",
     "iopub.status.idle": "2021-10-03T08:27:21.612995Z",
     "shell.execute_reply": "2021-10-03T08:27:21.609209Z"
    }
   },
   "outputs": [
    {
     "data": {
      "image/svg+xml": [
       "<?xml version=\"1.0\" encoding=\"UTF-8\" standalone=\"no\"?><svg xmlns=\"http://www.w3.org/2000/svg\" xmlns:xlink=\"http://www.w3.org/1999/xlink\" contentScriptType=\"application/ecmascript\" contentStyleType=\"text/css\" height=\"361px\" preserveAspectRatio=\"none\" style=\"width:469px;height:361px;\" version=\"1.1\" viewBox=\"0 0 469 361\" width=\"469px\" zoomAndPan=\"magnify\"><defs/><g><!--MD5=[fbc87193dbaf4d95561dea2c320d4a47]\n",
       "cluster E1--><a href=\"psysml:d3869743-6750-4f05-a5ce-51c4137f7251\" target=\"_top\" title=\"psysml:d3869743-6750-4f05-a5ce-51c4137f7251\" xlink:actuate=\"onRequest\" xlink:href=\"psysml:d3869743-6750-4f05-a5ce-51c4137f7251\" xlink:show=\"new\" xlink:title=\"psysml:d3869743-6750-4f05-a5ce-51c4137f7251\" xlink:type=\"simple\"><polygon fill=\"#FFFFFF\" points=\"16,6,142,6,149,28.2969,447,28.2969,447,349,16,349,16,6\" style=\"stroke: #000000; stroke-width: 1.5;\"/><line style=\"stroke: #000000; stroke-width: 1.5;\" x1=\"16\" x2=\"149\" y1=\"28.2969\" y2=\"28.2969\"/><text fill=\"#000000\" font-family=\"sans-serif\" font-size=\"14\" font-weight=\"bold\" lengthAdjust=\"spacingAndGlyphs\" textLength=\"120\" x=\"20\" y=\"20.9951\">DependencyTest</text></a><!--MD5=[e4f7fae6ed58524ba242bb0b0d3be6b7]\n",
       "cluster E2--><a href=\"psysml:6b74be88-9b37-4afd-8ab0-bbd062a94e7e\" target=\"_top\" title=\"psysml:6b74be88-9b37-4afd-8ab0-bbd062a94e7e\" xlink:actuate=\"onRequest\" xlink:href=\"psysml:6b74be88-9b37-4afd-8ab0-bbd062a94e7e\" xlink:show=\"new\" xlink:title=\"psysml:6b74be88-9b37-4afd-8ab0-bbd062a94e7e\" xlink:type=\"simple\"><polygon fill=\"#FFFFFF\" points=\"255,49,312,49,319,71.2969,423,71.2969,423,325,255,325,255,49\" style=\"stroke: #000000; stroke-width: 1.5;\"/><line style=\"stroke: #000000; stroke-width: 1.5;\" x1=\"255\" x2=\"319\" y1=\"71.2969\" y2=\"71.2969\"/><text fill=\"#000000\" font-family=\"sans-serif\" font-size=\"14\" font-weight=\"bold\" lengthAdjust=\"spacingAndGlyphs\" textLength=\"51\" x=\"259\" y=\"63.9951\">System</text></a><!--MD5=[60a26617385b1d2d0262a64233df1f8d]\n",
       "class E6--><a href=\"psysml:881809a4-48f2-4fe8-9827-6dde0f998bab\" target=\"_top\" title=\"psysml:881809a4-48f2-4fe8-9827-6dde0f998bab\" xlink:actuate=\"onRequest\" xlink:href=\"psysml:881809a4-48f2-4fe8-9827-6dde0f998bab\" xlink:show=\"new\" xlink:title=\"psysml:881809a4-48f2-4fe8-9827-6dde0f998bab\" xlink:type=\"simple\"><rect fill=\"#FFFFFF\" height=\"45.9375\" id=\"E6\" rx=\"10\" ry=\"10\" style=\"stroke: #383838; stroke-width: 1.5;\" width=\"71\" x=\"32.5\" y=\"173.5\"/><text fill=\"#000000\" font-family=\"sans-serif\" font-size=\"12\" font-style=\"italic\" lengthAdjust=\"spacingAndGlyphs\" textLength=\"69\" x=\"33.5\" y=\"189.6387\">«attribute»</text><text fill=\"#000000\" font-family=\"sans-serif\" font-size=\"12\" lengthAdjust=\"spacingAndGlyphs\" textLength=\"6\" x=\"65\" y=\"203.6074\">x</text><line style=\"stroke: #383838; stroke-width: 1.5;\" x1=\"33.5\" x2=\"102.5\" y1=\"211.4375\" y2=\"211.4375\"/></a><!--MD5=[2156ba9850f5573cc1fc38a6a4b2f02b]\n",
       "class E7--><a href=\"psysml:190ef100-b940-43fb-97f3-4b9e1cd4417f\" target=\"_top\" title=\"psysml:190ef100-b940-43fb-97f3-4b9e1cd4417f\" xlink:actuate=\"onRequest\" xlink:href=\"psysml:190ef100-b940-43fb-97f3-4b9e1cd4417f\" xlink:show=\"new\" xlink:title=\"psysml:190ef100-b940-43fb-97f3-4b9e1cd4417f\" xlink:type=\"simple\"><rect fill=\"#FFFFFF\" height=\"45.9375\" id=\"E7\" rx=\"10\" ry=\"10\" style=\"stroke: #383838; stroke-width: 1.5;\" width=\"71\" x=\"138.5\" y=\"173.5\"/><text fill=\"#000000\" font-family=\"sans-serif\" font-size=\"12\" font-style=\"italic\" lengthAdjust=\"spacingAndGlyphs\" textLength=\"69\" x=\"139.5\" y=\"189.6387\">«attribute»</text><text fill=\"#000000\" font-family=\"sans-serif\" font-size=\"12\" lengthAdjust=\"spacingAndGlyphs\" textLength=\"6\" x=\"171\" y=\"203.6074\">y</text><line style=\"stroke: #383838; stroke-width: 1.5;\" x1=\"139.5\" x2=\"208.5\" y1=\"211.4375\" y2=\"211.4375\"/></a><!--MD5=[b9389687b975829384b498ac4b7476b2]\n",
       "class E8--><a href=\"psysml:293eb67f-3e12-4287-ab19-bcded2d3124c\" target=\"_top\" title=\"psysml:293eb67f-3e12-4287-ab19-bcded2d3124c\" xlink:actuate=\"onRequest\" xlink:href=\"psysml:293eb67f-3e12-4287-ab19-bcded2d3124c\" xlink:show=\"new\" xlink:title=\"psysml:293eb67f-3e12-4287-ab19-bcded2d3124c\" xlink:type=\"simple\"><rect fill=\"#FFFFFF\" height=\"45.9375\" id=\"E8\" rx=\"10\" ry=\"10\" style=\"stroke: #383838; stroke-width: 1.5;\" width=\"71\" x=\"84.5\" y=\"87.5\"/><text fill=\"#000000\" font-family=\"sans-serif\" font-size=\"12\" font-style=\"italic\" lengthAdjust=\"spacingAndGlyphs\" textLength=\"69\" x=\"85.5\" y=\"103.6387\">«attribute»</text><text fill=\"#000000\" font-family=\"sans-serif\" font-size=\"12\" lengthAdjust=\"spacingAndGlyphs\" textLength=\"5\" x=\"117.5\" y=\"117.6074\">z</text><line style=\"stroke: #383838; stroke-width: 1.5;\" x1=\"85.5\" x2=\"154.5\" y1=\"125.4375\" y2=\"125.4375\"/></a><a href=\"psysml:03aab854-f405-4fcc-aa77-08da242f79f1\" target=\"_top\" title=\"psysml:03aab854-f405-4fcc-aa77-08da242f79f1\" xlink:actuate=\"onRequest\" xlink:href=\"psysml:03aab854-f405-4fcc-aa77-08da242f79f1\" xlink:show=\"new\" xlink:title=\"psysml:03aab854-f405-4fcc-aa77-08da242f79f1\" xlink:type=\"simple\"><polygon fill=\"#FFFFFF\" points=\"271.5,84,392.5,84,399.5,106.2969,406.5,106.2969,406.5,136.5938,271.5,136.5938,271.5,84\" style=\"stroke: #000000; stroke-width: 1.5;\"/><line style=\"stroke: #000000; stroke-width: 1.5;\" x1=\"271.5\" x2=\"399.5\" y1=\"106.2969\" y2=\"106.2969\"/><text fill=\"#000000\" font-family=\"sans-serif\" font-size=\"14\" font-weight=\"bold\" lengthAdjust=\"spacingAndGlyphs\" textLength=\"115\" x=\"275.5\" y=\"98.9951\">Application Layer</text></a><a href=\"psysml:ad996126-15a5-42e2-8928-0fb76718612c\" target=\"_top\" title=\"psysml:ad996126-15a5-42e2-8928-0fb76718612c\" xlink:actuate=\"onRequest\" xlink:href=\"psysml:ad996126-15a5-42e2-8928-0fb76718612c\" xlink:show=\"new\" xlink:title=\"psysml:ad996126-15a5-42e2-8928-0fb76718612c\" xlink:type=\"simple\"><polygon fill=\"#FFFFFF\" points=\"284,170,380,170,387,192.2969,394,192.2969,394,222.5938,284,222.5938,284,170\" style=\"stroke: #000000; stroke-width: 1.5;\"/><line style=\"stroke: #000000; stroke-width: 1.5;\" x1=\"284\" x2=\"387\" y1=\"192.2969\" y2=\"192.2969\"/><text fill=\"#000000\" font-family=\"sans-serif\" font-size=\"14\" font-weight=\"bold\" lengthAdjust=\"spacingAndGlyphs\" textLength=\"90\" x=\"288\" y=\"184.9951\">Service Layer</text></a><a href=\"psysml:17a101e7-475f-4fc3-82c9-609370bf1116\" target=\"_top\" title=\"psysml:17a101e7-475f-4fc3-82c9-609370bf1116\" xlink:actuate=\"onRequest\" xlink:href=\"psysml:17a101e7-475f-4fc3-82c9-609370bf1116\" xlink:show=\"new\" xlink:title=\"psysml:17a101e7-475f-4fc3-82c9-609370bf1116\" xlink:type=\"simple\"><polygon fill=\"#FFFFFF\" points=\"293,256,371,256,378,278.2969,385,278.2969,385,308.5938,293,308.5938,293,256\" style=\"stroke: #000000; stroke-width: 1.5;\"/><line style=\"stroke: #000000; stroke-width: 1.5;\" x1=\"293\" x2=\"378\" y1=\"278.2969\" y2=\"278.2969\"/><text fill=\"#000000\" font-family=\"sans-serif\" font-size=\"14\" font-weight=\"bold\" lengthAdjust=\"spacingAndGlyphs\" textLength=\"72\" x=\"297\" y=\"270.9951\">Data Layer</text></a><!--MD5=[af87c684e3b0d8be13c1a698a818ef1e]\n",
       "link E3 to E4--><a href=\"psysml:8bc3dbe9-cd72-4429-a15e-d6826987fc7c\" target=\"_top\" title=\"psysml:8bc3dbe9-cd72-4429-a15e-d6826987fc7c\" xlink:actuate=\"onRequest\" xlink:href=\"psysml:8bc3dbe9-cd72-4429-a15e-d6826987fc7c\" xlink:show=\"new\" xlink:title=\"psysml:8bc3dbe9-cd72-4429-a15e-d6826987fc7c\" xlink:type=\"simple\"><path d=\"M339,137.24 C339,137.24 339,161.78 339,161.78 \" fill=\"none\" id=\"E3-&gt;E4\" style=\"stroke: #383838; stroke-width: 1.0; stroke-dasharray: 7.0,7.0;\"/><polygon fill=\"#383838\" points=\"339,169.78,342,161.78,336,161.78,339,169.78\" style=\"stroke: #383838; stroke-width: 1.0;\"/><text fill=\"#000000\" font-family=\"sans-serif\" font-size=\"13\" lengthAdjust=\"spacingAndGlyphs\" textLength=\"64\" x=\"340\" y=\"158.0669\">«depend»</text></a><!--MD5=[1b7591eae5389033d8d09a9d6721a717]\n",
       "link E4 to E5--><a href=\"psysml:a5d569dd-f966-4325-8014-b1c593712f38\" target=\"_top\" title=\"psysml:a5d569dd-f966-4325-8014-b1c593712f38\" xlink:actuate=\"onRequest\" xlink:href=\"psysml:a5d569dd-f966-4325-8014-b1c593712f38\" xlink:show=\"new\" xlink:title=\"psysml:a5d569dd-f966-4325-8014-b1c593712f38\" xlink:type=\"simple\"><path d=\"M339,223.24 C339,223.24 339,247.78 339,247.78 \" fill=\"none\" id=\"E4-&gt;E5\" style=\"stroke: #383838; stroke-width: 1.0; stroke-dasharray: 7.0,7.0;\"/><polygon fill=\"#383838\" points=\"339,255.78,342,247.78,336,247.78,339,255.78\" style=\"stroke: #383838; stroke-width: 1.0;\"/><text fill=\"#000000\" font-family=\"sans-serif\" font-size=\"13\" lengthAdjust=\"spacingAndGlyphs\" textLength=\"64\" x=\"340\" y=\"244.0669\">«depend»</text></a><!--MD5=[c5e8897d989ce984f93528998a7150fe]\n",
       "link E8 to E6--><a href=\"psysml:e9cc0fc6-3b4b-4571-a4a8-99018107eac1\" target=\"_top\" title=\"psysml:e9cc0fc6-3b4b-4571-a4a8-99018107eac1\" xlink:actuate=\"onRequest\" xlink:href=\"psysml:e9cc0fc6-3b4b-4571-a4a8-99018107eac1\" xlink:show=\"new\" xlink:title=\"psysml:e9cc0fc6-3b4b-4571-a4a8-99018107eac1\" xlink:type=\"simple\"><path d=\"M94,133.55 C94,133.55 94,165.39 94,165.39 \" fill=\"none\" id=\"E8-&gt;E6\" style=\"stroke: #383838; stroke-width: 1.0; stroke-dasharray: 7.0,7.0;\"/><polygon fill=\"#383838\" points=\"94,173.39,97,165.39,91,165.39,94,173.39\" style=\"stroke: #383838; stroke-width: 1.0;\"/><text fill=\"#000000\" font-family=\"sans-serif\" font-size=\"13\" lengthAdjust=\"spacingAndGlyphs\" textLength=\"64\" x=\"68\" y=\"158.0669\">«depend»</text></a><!--MD5=[bfa3c8b0d15052fdf50ae9310b491027]\n",
       "link E8 to E7--><a href=\"psysml:e9cc0fc6-3b4b-4571-a4a8-99018107eac1\" target=\"_top\" title=\"psysml:e9cc0fc6-3b4b-4571-a4a8-99018107eac1\" xlink:actuate=\"onRequest\" xlink:href=\"psysml:e9cc0fc6-3b4b-4571-a4a8-99018107eac1\" xlink:show=\"new\" xlink:title=\"psysml:e9cc0fc6-3b4b-4571-a4a8-99018107eac1\" xlink:type=\"simple\"><path d=\"M147,133.55 C147,133.55 147,165.39 147,165.39 \" fill=\"none\" id=\"E8-&gt;E7\" style=\"stroke: #383838; stroke-width: 1.0; stroke-dasharray: 7.0,7.0;\"/><polygon fill=\"#383838\" points=\"147,173.39,150,165.39,144,165.39,147,173.39\" style=\"stroke: #383838; stroke-width: 1.0;\"/><text fill=\"#000000\" font-family=\"sans-serif\" font-size=\"13\" lengthAdjust=\"spacingAndGlyphs\" textLength=\"64\" x=\"174\" y=\"158.0669\">«depend»</text></a><!--MD5=[1df84439ae0b594fbf0b0f980dc39825]\n",
       "@startuml\r\n",
       "skinparam ranksep 10\r\n",
       "skinparam rectangle {\r\n",
       " backgroundColor<<block>> LightGreen\r\n",
       "}\r\n",
       "skinparam linetype ortho\r\n",
       "skinparam monochrome true\r\n",
       "skinparam classbackgroundcolor white\r\n",
       "skinparam shadowing false\r\n",
       "skinparam wrapWidth 300\r\n",
       "hide circle\r\n",
       "\r\n",
       "package \"DependencyTest\" as E1  [[psysml:d3869743-6750-4f05-a5ce-51c4137f7251 ]]  {\r\n",
       "package \"System\" as E2  [[psysml:6b74be88-9b37-4afd-8ab0-bbd062a94e7e ]]  {\r\n",
       "package \"Application Layer\" as E3  [[psysml:03aab854-f405-4fcc-aa77-08da242f79f1 ]]  {\r\n",
       "}\r\n",
       "package \"Service Layer\" as E4  [[psysml:ad996126-15a5-42e2-8928-0fb76718612c ]]  {\r\n",
       "}\r\n",
       "package \"Data Layer\" as E5  [[psysml:17a101e7-475f-4fc3-82c9-609370bf1116 ]]  {\r\n",
       "}\r\n",
       "}\r\n",
       "comp usage \"x\" as E6  <<(T,blue) attribute>> [[psysml:881809a4-48f2-4fe8-9827-6dde0f998bab ]] {\r\n",
       "}\r\n",
       "comp usage \"y\" as E7  <<(T,blue) attribute>> [[psysml:190ef100-b940-43fb-97f3-4b9e1cd4417f ]] {\r\n",
       "}\r\n",
       "comp usage \"z\" as E8  <<(T,blue) attribute>> [[psysml:293eb67f-3e12-4287-ab19-bcded2d3124c ]] {\r\n",
       "}\r\n",
       "}\r\n",
       "E3 ..>> E4 [[psysml:8bc3dbe9-cd72-4429-a15e-d6826987fc7c ]] : <<depend>>\r\n",
       "E4 ..>> E5 [[psysml:a5d569dd-f966-4325-8014-b1c593712f38 ]] : <<depend>>\r\n",
       "E8 ..>> E6 [[psysml:e9cc0fc6-3b4b-4571-a4a8-99018107eac1 ]] : <<depend>>\r\n",
       "E8 ..>> E7 [[psysml:e9cc0fc6-3b4b-4571-a4a8-99018107eac1 ]] : <<depend>>\r\n",
       "@enduml\r\n",
       "\n",
       "PlantUML version 1.2020.13(Sat Jun 13 12:26:38 UTC 2020)\n",
       "(EPL source distribution)\n",
       "Java Runtime: OpenJDK Runtime Environment\n",
       "JVM: OpenJDK 64-Bit Server VM\n",
       "Default Encoding: UTF-8\n",
       "Language: en\n",
       "Country: null\n",
       "--></g></svg>"
      ]
     },
     "execution_count": 54,
     "metadata": {},
     "output_type": "execute_result"
    }
   ],
   "source": [
    "%viz --style=\"ORTHOLINE\" --view=\"Interconnection\" \"DependencyTest\""
   ]
  },
  {
   "cell_type": "code",
   "execution_count": 55,
   "id": "99c9f476",
   "metadata": {
    "execution": {
     "iopub.execute_input": "2021-10-03T08:27:21.660651Z",
     "iopub.status.busy": "2021-10-03T08:27:21.660140Z",
     "iopub.status.idle": "2021-10-03T08:27:21.665639Z",
     "shell.execute_reply": "2021-10-03T08:27:21.665233Z"
    }
   },
   "outputs": [
    {
     "data": {
      "image/svg+xml": [
       "<?xml version=\"1.0\" encoding=\"UTF-8\" standalone=\"no\"?><svg xmlns=\"http://www.w3.org/2000/svg\" xmlns:xlink=\"http://www.w3.org/1999/xlink\" contentScriptType=\"application/ecmascript\" contentStyleType=\"text/css\" height=\"12px\" preserveAspectRatio=\"none\" style=\"width:12px;height:12px;\" version=\"1.1\" viewBox=\"0 0 12 12\" width=\"12px\" zoomAndPan=\"magnify\"><defs/><g><!--MD5=[72934c63077099a26744516a776b4749]\n",
       "@startuml\r\n",
       "skinparam ranksep 8\r\n",
       "skinparam linetype ortho\r\n",
       "skinparam monochrome true\r\n",
       "skinparam classbackgroundcolor white\r\n",
       "skinparam shadowing false\r\n",
       "skinparam wrapWidth 300\r\n",
       "hide circle\r\n",
       "\r\n",
       "@enduml\r\n",
       "\n",
       "PlantUML version 1.2020.13(Sat Jun 13 12:26:38 UTC 2020)\n",
       "(EPL source distribution)\n",
       "Java Runtime: OpenJDK Runtime Environment\n",
       "JVM: OpenJDK 64-Bit Server VM\n",
       "Default Encoding: UTF-8\n",
       "Language: en\n",
       "Country: null\n",
       "--></g></svg>"
      ]
     },
     "execution_count": 55,
     "metadata": {},
     "output_type": "execute_result"
    }
   ],
   "source": [
    "%viz --style=\"ORTHOLINE\" --view=\"Action\" \"DependencyTest\""
   ]
  },
  {
   "cell_type": "code",
   "execution_count": 56,
   "id": "3971e73d",
   "metadata": {
    "execution": {
     "iopub.execute_input": "2021-10-03T08:27:21.714983Z",
     "iopub.status.busy": "2021-10-03T08:27:21.714541Z",
     "iopub.status.idle": "2021-10-03T08:27:21.720229Z",
     "shell.execute_reply": "2021-10-03T08:27:21.719861Z"
    }
   },
   "outputs": [
    {
     "data": {
      "image/svg+xml": [
       "<?xml version=\"1.0\" encoding=\"UTF-8\" standalone=\"no\"?><svg xmlns=\"http://www.w3.org/2000/svg\" xmlns:xlink=\"http://www.w3.org/1999/xlink\" contentScriptType=\"application/ecmascript\" contentStyleType=\"text/css\" height=\"12px\" preserveAspectRatio=\"none\" style=\"width:12px;height:12px;\" version=\"1.1\" viewBox=\"0 0 12 12\" width=\"12px\" zoomAndPan=\"magnify\"><defs/><g><!--MD5=[30fc1de5121c5abddedd55b44417fde8]\n",
       "@startuml\r\n",
       "skinparam roundcorner 20\r\n",
       "skinparam BoxPadding 20\r\n",
       "skinparam SequenceBoxBackgroundColor #white\r\n",
       "skinparam style strictuml\r\n",
       "skinparam maxMessageSize 100\r\n",
       "skinparam linetype ortho\r\n",
       "skinparam monochrome true\r\n",
       "skinparam classbackgroundcolor white\r\n",
       "skinparam shadowing false\r\n",
       "skinparam wrapWidth 300\r\n",
       "hide circle\r\n",
       "\r\n",
       "@enduml\r\n",
       "\n",
       "PlantUML version 1.2020.13(Sat Jun 13 12:26:38 UTC 2020)\n",
       "(EPL source distribution)\n",
       "Java Runtime: OpenJDK Runtime Environment\n",
       "JVM: OpenJDK 64-Bit Server VM\n",
       "Default Encoding: UTF-8\n",
       "Language: en\n",
       "Country: null\n",
       "--></g></svg>"
      ]
     },
     "execution_count": 56,
     "metadata": {},
     "output_type": "execute_result"
    }
   ],
   "source": [
    "%viz --style=\"ORTHOLINE\" --view=\"Sequence\" \"DependencyTest\""
   ]
  },
  {
   "cell_type": "code",
   "execution_count": 57,
   "id": "d9fdd283",
   "metadata": {
    "execution": {
     "iopub.execute_input": "2021-10-03T08:27:21.769589Z",
     "iopub.status.busy": "2021-10-03T08:27:21.769170Z",
     "iopub.status.idle": "2021-10-03T08:27:21.800770Z",
     "shell.execute_reply": "2021-10-03T08:27:21.799042Z"
    }
   },
   "outputs": [
    {
     "data": {
      "image/svg+xml": [
       "<?xml version=\"1.0\" encoding=\"UTF-8\" standalone=\"no\"?><svg xmlns=\"http://www.w3.org/2000/svg\" xmlns:xlink=\"http://www.w3.org/1999/xlink\" contentScriptType=\"application/ecmascript\" contentStyleType=\"text/css\" height=\"449px\" preserveAspectRatio=\"none\" style=\"width:469px;height:449px;\" version=\"1.1\" viewBox=\"0 0 469 449\" width=\"469px\" zoomAndPan=\"magnify\"><defs/><g><!--MD5=[fbc87193dbaf4d95561dea2c320d4a47]\n",
       "cluster E1--><a href=\"psysml:d3869743-6750-4f05-a5ce-51c4137f7251\" target=\"_top\" title=\"psysml:d3869743-6750-4f05-a5ce-51c4137f7251\" xlink:actuate=\"onRequest\" xlink:href=\"psysml:d3869743-6750-4f05-a5ce-51c4137f7251\" xlink:show=\"new\" xlink:title=\"psysml:d3869743-6750-4f05-a5ce-51c4137f7251\" xlink:type=\"simple\"><polygon fill=\"#FFFFFF\" points=\"16,6,142,6,149,28.2969,447,28.2969,447,437,16,437,16,6\" style=\"stroke: #000000; stroke-width: 1.5;\"/><line style=\"stroke: #000000; stroke-width: 1.5;\" x1=\"16\" x2=\"149\" y1=\"28.2969\" y2=\"28.2969\"/><text fill=\"#000000\" font-family=\"sans-serif\" font-size=\"14\" font-weight=\"bold\" lengthAdjust=\"spacingAndGlyphs\" textLength=\"120\" x=\"20\" y=\"20.9951\">DependencyTest</text></a><!--MD5=[e4f7fae6ed58524ba242bb0b0d3be6b7]\n",
       "cluster E2--><a href=\"psysml:6b74be88-9b37-4afd-8ab0-bbd062a94e7e\" target=\"_top\" title=\"psysml:6b74be88-9b37-4afd-8ab0-bbd062a94e7e\" xlink:actuate=\"onRequest\" xlink:href=\"psysml:6b74be88-9b37-4afd-8ab0-bbd062a94e7e\" xlink:show=\"new\" xlink:title=\"psysml:6b74be88-9b37-4afd-8ab0-bbd062a94e7e\" xlink:type=\"simple\"><polygon fill=\"#FFFFFF\" points=\"255,49,312,49,319,71.2969,423,71.2969,423,413,255,413,255,49\" style=\"stroke: #000000; stroke-width: 1.5;\"/><line style=\"stroke: #000000; stroke-width: 1.5;\" x1=\"255\" x2=\"319\" y1=\"71.2969\" y2=\"71.2969\"/><text fill=\"#000000\" font-family=\"sans-serif\" font-size=\"14\" font-weight=\"bold\" lengthAdjust=\"spacingAndGlyphs\" textLength=\"51\" x=\"259\" y=\"63.9951\">System</text></a><!--MD5=[60a26617385b1d2d0262a64233df1f8d]\n",
       "class E6--><a href=\"psysml:881809a4-48f2-4fe8-9827-6dde0f998bab\" target=\"_top\" title=\"psysml:881809a4-48f2-4fe8-9827-6dde0f998bab\" xlink:actuate=\"onRequest\" xlink:href=\"psysml:881809a4-48f2-4fe8-9827-6dde0f998bab\" xlink:show=\"new\" xlink:title=\"psysml:881809a4-48f2-4fe8-9827-6dde0f998bab\" xlink:type=\"simple\"><rect fill=\"#FFFFFF\" height=\"45.9375\" id=\"E6\" rx=\"10\" ry=\"10\" style=\"stroke: #383838; stroke-width: 1.5;\" width=\"71\" x=\"32.5\" y=\"217.5\"/><text fill=\"#000000\" font-family=\"sans-serif\" font-size=\"12\" font-style=\"italic\" lengthAdjust=\"spacingAndGlyphs\" textLength=\"69\" x=\"33.5\" y=\"233.6387\">«attribute»</text><text fill=\"#000000\" font-family=\"sans-serif\" font-size=\"12\" lengthAdjust=\"spacingAndGlyphs\" textLength=\"6\" x=\"65\" y=\"247.6074\">x</text><line style=\"stroke: #383838; stroke-width: 1.5;\" x1=\"33.5\" x2=\"102.5\" y1=\"255.4375\" y2=\"255.4375\"/></a><!--MD5=[2156ba9850f5573cc1fc38a6a4b2f02b]\n",
       "class E7--><a href=\"psysml:190ef100-b940-43fb-97f3-4b9e1cd4417f\" target=\"_top\" title=\"psysml:190ef100-b940-43fb-97f3-4b9e1cd4417f\" xlink:actuate=\"onRequest\" xlink:href=\"psysml:190ef100-b940-43fb-97f3-4b9e1cd4417f\" xlink:show=\"new\" xlink:title=\"psysml:190ef100-b940-43fb-97f3-4b9e1cd4417f\" xlink:type=\"simple\"><rect fill=\"#FFFFFF\" height=\"45.9375\" id=\"E7\" rx=\"10\" ry=\"10\" style=\"stroke: #383838; stroke-width: 1.5;\" width=\"71\" x=\"138.5\" y=\"217.5\"/><text fill=\"#000000\" font-family=\"sans-serif\" font-size=\"12\" font-style=\"italic\" lengthAdjust=\"spacingAndGlyphs\" textLength=\"69\" x=\"139.5\" y=\"233.6387\">«attribute»</text><text fill=\"#000000\" font-family=\"sans-serif\" font-size=\"12\" lengthAdjust=\"spacingAndGlyphs\" textLength=\"6\" x=\"171\" y=\"247.6074\">y</text><line style=\"stroke: #383838; stroke-width: 1.5;\" x1=\"139.5\" x2=\"208.5\" y1=\"255.4375\" y2=\"255.4375\"/></a><!--MD5=[b9389687b975829384b498ac4b7476b2]\n",
       "class E8--><a href=\"psysml:293eb67f-3e12-4287-ab19-bcded2d3124c\" target=\"_top\" title=\"psysml:293eb67f-3e12-4287-ab19-bcded2d3124c\" xlink:actuate=\"onRequest\" xlink:href=\"psysml:293eb67f-3e12-4287-ab19-bcded2d3124c\" xlink:show=\"new\" xlink:title=\"psysml:293eb67f-3e12-4287-ab19-bcded2d3124c\" xlink:type=\"simple\"><rect fill=\"#FFFFFF\" height=\"45.9375\" id=\"E8\" rx=\"10\" ry=\"10\" style=\"stroke: #383838; stroke-width: 1.5;\" width=\"71\" x=\"84.5\" y=\"87.5\"/><text fill=\"#000000\" font-family=\"sans-serif\" font-size=\"12\" font-style=\"italic\" lengthAdjust=\"spacingAndGlyphs\" textLength=\"69\" x=\"85.5\" y=\"103.6387\">«attribute»</text><text fill=\"#000000\" font-family=\"sans-serif\" font-size=\"12\" lengthAdjust=\"spacingAndGlyphs\" textLength=\"5\" x=\"117.5\" y=\"117.6074\">z</text><line style=\"stroke: #383838; stroke-width: 1.5;\" x1=\"85.5\" x2=\"154.5\" y1=\"125.4375\" y2=\"125.4375\"/></a><a href=\"psysml:03aab854-f405-4fcc-aa77-08da242f79f1\" target=\"_top\" title=\"psysml:03aab854-f405-4fcc-aa77-08da242f79f1\" xlink:actuate=\"onRequest\" xlink:href=\"psysml:03aab854-f405-4fcc-aa77-08da242f79f1\" xlink:show=\"new\" xlink:title=\"psysml:03aab854-f405-4fcc-aa77-08da242f79f1\" xlink:type=\"simple\"><polygon fill=\"#FFFFFF\" points=\"271.5,84,392.5,84,399.5,106.2969,406.5,106.2969,406.5,136.5938,271.5,136.5938,271.5,84\" style=\"stroke: #000000; stroke-width: 1.5;\"/><line style=\"stroke: #000000; stroke-width: 1.5;\" x1=\"271.5\" x2=\"399.5\" y1=\"106.2969\" y2=\"106.2969\"/><text fill=\"#000000\" font-family=\"sans-serif\" font-size=\"14\" font-weight=\"bold\" lengthAdjust=\"spacingAndGlyphs\" textLength=\"115\" x=\"275.5\" y=\"98.9951\">Application Layer</text></a><a href=\"psysml:ad996126-15a5-42e2-8928-0fb76718612c\" target=\"_top\" title=\"psysml:ad996126-15a5-42e2-8928-0fb76718612c\" xlink:actuate=\"onRequest\" xlink:href=\"psysml:ad996126-15a5-42e2-8928-0fb76718612c\" xlink:show=\"new\" xlink:title=\"psysml:ad996126-15a5-42e2-8928-0fb76718612c\" xlink:type=\"simple\"><polygon fill=\"#FFFFFF\" points=\"284,214,380,214,387,236.2969,394,236.2969,394,266.5938,284,266.5938,284,214\" style=\"stroke: #000000; stroke-width: 1.5;\"/><line style=\"stroke: #000000; stroke-width: 1.5;\" x1=\"284\" x2=\"387\" y1=\"236.2969\" y2=\"236.2969\"/><text fill=\"#000000\" font-family=\"sans-serif\" font-size=\"14\" font-weight=\"bold\" lengthAdjust=\"spacingAndGlyphs\" textLength=\"90\" x=\"288\" y=\"228.9951\">Service Layer</text></a><a href=\"psysml:17a101e7-475f-4fc3-82c9-609370bf1116\" target=\"_top\" title=\"psysml:17a101e7-475f-4fc3-82c9-609370bf1116\" xlink:actuate=\"onRequest\" xlink:href=\"psysml:17a101e7-475f-4fc3-82c9-609370bf1116\" xlink:show=\"new\" xlink:title=\"psysml:17a101e7-475f-4fc3-82c9-609370bf1116\" xlink:type=\"simple\"><polygon fill=\"#FFFFFF\" points=\"293,344,371,344,378,366.2969,385,366.2969,385,396.5938,293,396.5938,293,344\" style=\"stroke: #000000; stroke-width: 1.5;\"/><line style=\"stroke: #000000; stroke-width: 1.5;\" x1=\"293\" x2=\"378\" y1=\"366.2969\" y2=\"366.2969\"/><text fill=\"#000000\" font-family=\"sans-serif\" font-size=\"14\" font-weight=\"bold\" lengthAdjust=\"spacingAndGlyphs\" textLength=\"72\" x=\"297\" y=\"358.9951\">Data Layer</text></a><!--MD5=[af87c684e3b0d8be13c1a698a818ef1e]\n",
       "link E3 to E4--><a href=\"psysml:8bc3dbe9-cd72-4429-a15e-d6826987fc7c\" target=\"_top\" title=\"psysml:8bc3dbe9-cd72-4429-a15e-d6826987fc7c\" xlink:actuate=\"onRequest\" xlink:href=\"psysml:8bc3dbe9-cd72-4429-a15e-d6826987fc7c\" xlink:show=\"new\" xlink:title=\"psysml:8bc3dbe9-cd72-4429-a15e-d6826987fc7c\" xlink:type=\"simple\"><path d=\"M339,137.12 C339,137.12 339,205.91 339,205.91 \" fill=\"none\" id=\"E3-&gt;E4\" style=\"stroke: #383838; stroke-width: 1.0; stroke-dasharray: 7.0,7.0;\"/><polygon fill=\"#383838\" points=\"339,213.91,342,205.91,336,205.91,339,213.91\" style=\"stroke: #383838; stroke-width: 1.0;\"/><text fill=\"#000000\" font-family=\"sans-serif\" font-size=\"13\" lengthAdjust=\"spacingAndGlyphs\" textLength=\"64\" x=\"340\" y=\"180.0669\">«depend»</text></a><!--MD5=[1b7591eae5389033d8d09a9d6721a717]\n",
       "link E4 to E5--><a href=\"psysml:a5d569dd-f966-4325-8014-b1c593712f38\" target=\"_top\" title=\"psysml:a5d569dd-f966-4325-8014-b1c593712f38\" xlink:actuate=\"onRequest\" xlink:href=\"psysml:a5d569dd-f966-4325-8014-b1c593712f38\" xlink:show=\"new\" xlink:title=\"psysml:a5d569dd-f966-4325-8014-b1c593712f38\" xlink:type=\"simple\"><path d=\"M339,267.12 C339,267.12 339,335.91 339,335.91 \" fill=\"none\" id=\"E4-&gt;E5\" style=\"stroke: #383838; stroke-width: 1.0; stroke-dasharray: 7.0,7.0;\"/><polygon fill=\"#383838\" points=\"339,343.91,342,335.91,336,335.91,339,343.91\" style=\"stroke: #383838; stroke-width: 1.0;\"/><text fill=\"#000000\" font-family=\"sans-serif\" font-size=\"13\" lengthAdjust=\"spacingAndGlyphs\" textLength=\"64\" x=\"340\" y=\"310.0669\">«depend»</text></a><!--MD5=[c5e8897d989ce984f93528998a7150fe]\n",
       "link E8 to E6--><a href=\"psysml:e9cc0fc6-3b4b-4571-a4a8-99018107eac1\" target=\"_top\" title=\"psysml:e9cc0fc6-3b4b-4571-a4a8-99018107eac1\" xlink:actuate=\"onRequest\" xlink:href=\"psysml:e9cc0fc6-3b4b-4571-a4a8-99018107eac1\" xlink:show=\"new\" xlink:title=\"psysml:e9cc0fc6-3b4b-4571-a4a8-99018107eac1\" xlink:type=\"simple\"><path d=\"M94,133.74 C94,133.74 94,209.46 94,209.46 \" fill=\"none\" id=\"E8-&gt;E6\" style=\"stroke: #383838; stroke-width: 1.0; stroke-dasharray: 7.0,7.0;\"/><polygon fill=\"#383838\" points=\"94,217.46,97,209.46,91,209.46,94,217.46\" style=\"stroke: #383838; stroke-width: 1.0;\"/><text fill=\"#000000\" font-family=\"sans-serif\" font-size=\"13\" lengthAdjust=\"spacingAndGlyphs\" textLength=\"64\" x=\"68\" y=\"180.0669\">«depend»</text></a><!--MD5=[bfa3c8b0d15052fdf50ae9310b491027]\n",
       "link E8 to E7--><a href=\"psysml:e9cc0fc6-3b4b-4571-a4a8-99018107eac1\" target=\"_top\" title=\"psysml:e9cc0fc6-3b4b-4571-a4a8-99018107eac1\" xlink:actuate=\"onRequest\" xlink:href=\"psysml:e9cc0fc6-3b4b-4571-a4a8-99018107eac1\" xlink:show=\"new\" xlink:title=\"psysml:e9cc0fc6-3b4b-4571-a4a8-99018107eac1\" xlink:type=\"simple\"><path d=\"M147,133.74 C147,133.74 147,209.46 147,209.46 \" fill=\"none\" id=\"E8-&gt;E7\" style=\"stroke: #383838; stroke-width: 1.0; stroke-dasharray: 7.0,7.0;\"/><polygon fill=\"#383838\" points=\"147,217.46,150,209.46,144,209.46,147,217.46\" style=\"stroke: #383838; stroke-width: 1.0;\"/><text fill=\"#000000\" font-family=\"sans-serif\" font-size=\"13\" lengthAdjust=\"spacingAndGlyphs\" textLength=\"64\" x=\"174\" y=\"180.0669\">«depend»</text></a><!--MD5=[3ef8b68ecbbbca2740a5af3d41946512]\n",
       "@startuml\r\n",
       "skinparam linetype ortho\r\n",
       "skinparam monochrome true\r\n",
       "skinparam classbackgroundcolor white\r\n",
       "skinparam shadowing false\r\n",
       "skinparam wrapWidth 300\r\n",
       "hide circle\r\n",
       "\r\n",
       "package \"DependencyTest\" as E1  [[psysml:d3869743-6750-4f05-a5ce-51c4137f7251 ]]  {\r\n",
       "package \"System\" as E2  [[psysml:6b74be88-9b37-4afd-8ab0-bbd062a94e7e ]]  {\r\n",
       "package \"Application Layer\" as E3  [[psysml:03aab854-f405-4fcc-aa77-08da242f79f1 ]]  {\r\n",
       "}\r\n",
       "package \"Service Layer\" as E4  [[psysml:ad996126-15a5-42e2-8928-0fb76718612c ]]  {\r\n",
       "}\r\n",
       "package \"Data Layer\" as E5  [[psysml:17a101e7-475f-4fc3-82c9-609370bf1116 ]]  {\r\n",
       "}\r\n",
       "}\r\n",
       "comp usage \"x\" as E6  <<(T,blue) attribute>> [[psysml:881809a4-48f2-4fe8-9827-6dde0f998bab ]] {\r\n",
       "}\r\n",
       "comp usage \"y\" as E7  <<(T,blue) attribute>> [[psysml:190ef100-b940-43fb-97f3-4b9e1cd4417f ]] {\r\n",
       "}\r\n",
       "comp usage \"z\" as E8  <<(T,blue) attribute>> [[psysml:293eb67f-3e12-4287-ab19-bcded2d3124c ]] {\r\n",
       "}\r\n",
       "}\r\n",
       "E3 ..>> E4 [[psysml:8bc3dbe9-cd72-4429-a15e-d6826987fc7c ]] : <<depend>>\r\n",
       "E4 ..>> E5 [[psysml:a5d569dd-f966-4325-8014-b1c593712f38 ]] : <<depend>>\r\n",
       "E8 ..>> E6 [[psysml:e9cc0fc6-3b4b-4571-a4a8-99018107eac1 ]] : <<depend>>\r\n",
       "E8 ..>> E7 [[psysml:e9cc0fc6-3b4b-4571-a4a8-99018107eac1 ]] : <<depend>>\r\n",
       "@enduml\r\n",
       "\n",
       "PlantUML version 1.2020.13(Sat Jun 13 12:26:38 UTC 2020)\n",
       "(EPL source distribution)\n",
       "Java Runtime: OpenJDK Runtime Environment\n",
       "JVM: OpenJDK 64-Bit Server VM\n",
       "Default Encoding: UTF-8\n",
       "Language: en\n",
       "Country: null\n",
       "--></g></svg>"
      ]
     },
     "execution_count": 57,
     "metadata": {},
     "output_type": "execute_result"
    }
   ],
   "source": [
    "%viz --style=\"ORTHOLINE\" --view=\"MIXED\" \"DependencyTest\""
   ]
  }
 ],
 "metadata": {
  "kernelspec": {
   "display_name": "SysML",
   "language": "sysml",
   "name": "sysml"
  },
  "language_info": {
   "codemirror_mode": "sysml",
   "file_extension": ".sysml",
   "mimetype": "text/x-sysml",
   "name": "SysML",
   "pygments_lexer": "java",
   "version": "1.0.0"
  }
 },
 "nbformat": 4,
 "nbformat_minor": 5
}
