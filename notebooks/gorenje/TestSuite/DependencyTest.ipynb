{
 "cells": [
  {
   "cell_type": "markdown",
   "id": "fd685a2d",
   "metadata": {},
   "source": [
    "# SysML v2 Test Suite\n",
    "\n",
    "This can notebook can be cleared using menu `Edit --> Clear All Outputs` and then all cells can be\n",
    "run using menu `Run --> Run All Cells`.\n",
    "\n",
    "**WARNING**: This file is generated, all modifications here will be ignored.\n"
   ]
  },
  {
   "cell_type": "markdown",
   "id": "338a3928",
   "metadata": {},
   "source": [
    "## File: ../../sysml/src/examples/Simple Tests/DependencyTest.sysml"
   ]
  },
  {
   "cell_type": "code",
   "execution_count": 1,
   "id": "160cc3af",
   "metadata": {
    "execution": {
     "iopub.execute_input": "2022-03-03T09:54:57.589834Z",
     "iopub.status.busy": "2022-03-03T09:54:57.588720Z",
     "iopub.status.idle": "2022-03-03T09:54:57.674368Z",
     "shell.execute_reply": "2022-03-03T09:54:57.673667Z"
    }
   },
   "outputs": [
    {
     "data": {
      "text/plain": [
       "Package DependencyTest (3ec23850-4e2c-4858-a539-7d2008c332dd)\n"
      ]
     },
     "execution_count": 1,
     "metadata": {},
     "output_type": "execute_result"
    }
   ],
   "source": [
    "package DependencyTest {\n",
    "\t\n",
    "\tpackage System {\n",
    "\t\tpackage 'Application Layer';\n",
    "\t\tpackage 'Service Layer';\n",
    "\t\tpackage 'Data Layer';\n",
    "\t}\n",
    "\t\n",
    "\timport System::*;\n",
    "\t\n",
    "\tdependency Use from 'Application Layer' to 'Service Layer';\n",
    "\tdependency from 'Service Layer' to 'Data Layer';\n",
    "\t\n",
    "\tattribute x;\n",
    "\tattribute y;\n",
    "\tattribute z;\n",
    "\t\n",
    "\tdependency z to x, y;\n",
    "\t\n",
    "}"
   ]
  },
  {
   "cell_type": "code",
   "execution_count": 2,
   "id": "457e853b",
   "metadata": {
    "execution": {
     "iopub.execute_input": "2022-03-03T09:54:57.725314Z",
     "iopub.status.busy": "2022-03-03T09:54:57.725074Z",
     "iopub.status.idle": "2022-03-03T09:54:58.199010Z",
     "shell.execute_reply": "2022-03-03T09:54:58.197518Z"
    }
   },
   "outputs": [
    {
     "data": {
      "image/svg+xml": [
       "<?xml version=\"1.0\" encoding=\"UTF-8\" standalone=\"no\"?><svg xmlns=\"http://www.w3.org/2000/svg\" xmlns:xlink=\"http://www.w3.org/1999/xlink\" contentScriptType=\"application/ecmascript\" contentStyleType=\"text/css\" height=\"552px\" preserveAspectRatio=\"none\" style=\"width:536px;height:552px;\" version=\"1.1\" viewBox=\"0 0 536 552\" width=\"536px\" zoomAndPan=\"magnify\"><defs/><g><!--MD5=[fbc87193dbaf4d95561dea2c320d4a47]\n",
       "cluster E1--><a href=\"psysml:49f03030-de0c-4f13-ba7b-914972c61aaf\" target=\"_top\" title=\"psysml:49f03030-de0c-4f13-ba7b-914972c61aaf\" xlink:actuate=\"onRequest\" xlink:href=\"psysml:49f03030-de0c-4f13-ba7b-914972c61aaf\" xlink:show=\"new\" xlink:title=\"psysml:49f03030-de0c-4f13-ba7b-914972c61aaf\" xlink:type=\"simple\"><polygon fill=\"#FFFFFF\" points=\"16,6,142,6,149,28.2969,514,28.2969,514,540.72,16,540.72,16,6\" style=\"stroke: #000000; stroke-width: 1.5;\"/><line style=\"stroke: #000000; stroke-width: 1.5;\" x1=\"16\" x2=\"149\" y1=\"28.2969\" y2=\"28.2969\"/><text fill=\"#000000\" font-family=\"sans-serif\" font-size=\"14\" font-weight=\"bold\" lengthAdjust=\"spacingAndGlyphs\" textLength=\"120\" x=\"20\" y=\"20.9951\">DependencyTest</text></a><!--MD5=[e4f7fae6ed58524ba242bb0b0d3be6b7]\n",
       "cluster E2--><a href=\"psysml:0a123ebf-9907-4602-8f86-a30c7447a6cf\" target=\"_top\" title=\"psysml:0a123ebf-9907-4602-8f86-a30c7447a6cf\" xlink:actuate=\"onRequest\" xlink:href=\"psysml:0a123ebf-9907-4602-8f86-a30c7447a6cf\" xlink:show=\"new\" xlink:title=\"psysml:0a123ebf-9907-4602-8f86-a30c7447a6cf\" xlink:type=\"simple\"><polygon fill=\"#FFFFFF\" points=\"271,120.72,328,120.72,335,143.0169,474,143.0169,474,500.72,271,500.72,271,120.72\" style=\"stroke: #000000; stroke-width: 1.5;\"/><line style=\"stroke: #000000; stroke-width: 1.5;\" x1=\"271\" x2=\"335\" y1=\"143.0169\" y2=\"143.0169\"/><text fill=\"#000000\" font-family=\"sans-serif\" font-size=\"14\" font-weight=\"bold\" lengthAdjust=\"spacingAndGlyphs\" textLength=\"51\" x=\"275\" y=\"135.7151\">System</text></a><!--MD5=[60a26617385b1d2d0262a64233df1f8d]\n",
       "class E6--><a href=\"psysml:0783b658-08bf-4abf-9182-ba1ece255f80\" target=\"_top\" title=\"psysml:0783b658-08bf-4abf-9182-ba1ece255f80\" xlink:actuate=\"onRequest\" xlink:href=\"psysml:0783b658-08bf-4abf-9182-ba1ece255f80\" xlink:show=\"new\" xlink:title=\"psysml:0783b658-08bf-4abf-9182-ba1ece255f80\" xlink:type=\"simple\"><rect fill=\"#FFFFFF\" height=\"45.9375\" id=\"E6\" rx=\"10\" ry=\"10\" style=\"stroke: #383838; stroke-width: 1.5;\" width=\"71\" x=\"40.5\" y=\"297.22\"/><text fill=\"#000000\" font-family=\"sans-serif\" font-size=\"12\" font-style=\"italic\" lengthAdjust=\"spacingAndGlyphs\" textLength=\"69\" x=\"41.5\" y=\"313.3587\">«attribute»</text><text fill=\"#000000\" font-family=\"sans-serif\" font-size=\"12\" lengthAdjust=\"spacingAndGlyphs\" textLength=\"6\" x=\"71\" y=\"327.3274\">x</text><line style=\"stroke: #383838; stroke-width: 1.5;\" x1=\"41.5\" x2=\"110.5\" y1=\"335.1575\" y2=\"335.1575\"/></a><!--MD5=[2156ba9850f5573cc1fc38a6a4b2f02b]\n",
       "class E7--><a href=\"psysml:00406d55-97a3-4ada-a9d4-67d88ef5929d\" target=\"_top\" title=\"psysml:00406d55-97a3-4ada-a9d4-67d88ef5929d\" xlink:actuate=\"onRequest\" xlink:href=\"psysml:00406d55-97a3-4ada-a9d4-67d88ef5929d\" xlink:show=\"new\" xlink:title=\"psysml:00406d55-97a3-4ada-a9d4-67d88ef5929d\" xlink:type=\"simple\"><rect fill=\"#FFFFFF\" height=\"45.9375\" id=\"E7\" rx=\"10\" ry=\"10\" style=\"stroke: #383838; stroke-width: 1.5;\" width=\"71\" x=\"146.5\" y=\"297.22\"/><text fill=\"#000000\" font-family=\"sans-serif\" font-size=\"12\" font-style=\"italic\" lengthAdjust=\"spacingAndGlyphs\" textLength=\"69\" x=\"147.5\" y=\"313.3587\">«attribute»</text><text fill=\"#000000\" font-family=\"sans-serif\" font-size=\"12\" lengthAdjust=\"spacingAndGlyphs\" textLength=\"6\" x=\"177\" y=\"327.3274\">y</text><line style=\"stroke: #383838; stroke-width: 1.5;\" x1=\"147.5\" x2=\"216.5\" y1=\"335.1575\" y2=\"335.1575\"/></a><!--MD5=[b9389687b975829384b498ac4b7476b2]\n",
       "class E8--><a href=\"psysml:b610c4be-7598-4a50-a285-e23e2912f41a\" target=\"_top\" title=\"psysml:b610c4be-7598-4a50-a285-e23e2912f41a\" xlink:actuate=\"onRequest\" xlink:href=\"psysml:b610c4be-7598-4a50-a285-e23e2912f41a\" xlink:show=\"new\" xlink:title=\"psysml:b610c4be-7598-4a50-a285-e23e2912f41a\" xlink:type=\"simple\"><rect fill=\"#FFFFFF\" height=\"45.9375\" id=\"E8\" rx=\"10\" ry=\"10\" style=\"stroke: #383838; stroke-width: 1.5;\" width=\"71\" x=\"92.5\" y=\"167.22\"/><text fill=\"#000000\" font-family=\"sans-serif\" font-size=\"12\" font-style=\"italic\" lengthAdjust=\"spacingAndGlyphs\" textLength=\"69\" x=\"93.5\" y=\"183.3587\">«attribute»</text><text fill=\"#000000\" font-family=\"sans-serif\" font-size=\"12\" lengthAdjust=\"spacingAndGlyphs\" textLength=\"5\" x=\"123.5\" y=\"197.3274\">z</text><line style=\"stroke: #383838; stroke-width: 1.5;\" x1=\"93.5\" x2=\"162.5\" y1=\"205.1575\" y2=\"205.1575\"/></a><a href=\"psysml:fbc620fa-f332-480d-9302-6e81c218d767\" target=\"_top\" title=\"psysml:fbc620fa-f332-480d-9302-6e81c218d767\" xlink:actuate=\"onRequest\" xlink:href=\"psysml:fbc620fa-f332-480d-9302-6e81c218d767\" xlink:show=\"new\" xlink:title=\"psysml:fbc620fa-f332-480d-9302-6e81c218d767\" xlink:type=\"simple\"><polygon fill=\"#FFFFFF\" points=\"314.5,163.72,435.5,163.72,442.5,186.0169,449.5,186.0169,449.5,216.3138,314.5,216.3138,314.5,163.72\" style=\"stroke: #000000; stroke-width: 1.5;\"/><line style=\"stroke: #000000; stroke-width: 1.5;\" x1=\"314.5\" x2=\"442.5\" y1=\"186.0169\" y2=\"186.0169\"/><text fill=\"#000000\" font-family=\"sans-serif\" font-size=\"14\" font-weight=\"bold\" lengthAdjust=\"spacingAndGlyphs\" textLength=\"115\" x=\"318.5\" y=\"178.7151\">Application Layer</text></a><a href=\"psysml:426f0663-f125-4848-8cc6-b208ee541f23\" target=\"_top\" title=\"psysml:426f0663-f125-4848-8cc6-b208ee541f23\" xlink:actuate=\"onRequest\" xlink:href=\"psysml:426f0663-f125-4848-8cc6-b208ee541f23\" xlink:show=\"new\" xlink:title=\"psysml:426f0663-f125-4848-8cc6-b208ee541f23\" xlink:type=\"simple\"><polygon fill=\"#FFFFFF\" points=\"327,293.72,423,293.72,430,316.0169,437,316.0169,437,346.3138,327,346.3138,327,293.72\" style=\"stroke: #000000; stroke-width: 1.5;\"/><line style=\"stroke: #000000; stroke-width: 1.5;\" x1=\"327\" x2=\"430\" y1=\"316.0169\" y2=\"316.0169\"/><text fill=\"#000000\" font-family=\"sans-serif\" font-size=\"14\" font-weight=\"bold\" lengthAdjust=\"spacingAndGlyphs\" textLength=\"90\" x=\"331\" y=\"308.7151\">Service Layer</text></a><a href=\"psysml:fd3440a5-7307-47c9-b63e-e029b0e76f05\" target=\"_top\" title=\"psysml:fd3440a5-7307-47c9-b63e-e029b0e76f05\" xlink:actuate=\"onRequest\" xlink:href=\"psysml:fd3440a5-7307-47c9-b63e-e029b0e76f05\" xlink:show=\"new\" xlink:title=\"psysml:fd3440a5-7307-47c9-b63e-e029b0e76f05\" xlink:type=\"simple\"><polygon fill=\"#FFFFFF\" points=\"336,423.72,414,423.72,421,446.0169,428,446.0169,428,476.3138,336,476.3138,336,423.72\" style=\"stroke: #000000; stroke-width: 1.5;\"/><line style=\"stroke: #000000; stroke-width: 1.5;\" x1=\"336\" x2=\"421\" y1=\"446.0169\" y2=\"446.0169\"/><text fill=\"#000000\" font-family=\"sans-serif\" font-size=\"14\" font-weight=\"bold\" lengthAdjust=\"spacingAndGlyphs\" textLength=\"72\" x=\"340\" y=\"438.7151\">Data Layer</text></a><!--MD5=[1f1cd8e6dd4c1b2ca2aaccc9b9bcea6e]\n",
       "link E1 to E2--><a href=\"psysml:1f214475-93e7-4d57-afd6-304a88df216d\" target=\"_top\" title=\"psysml:1f214475-93e7-4d57-afd6-304a88df216d\" xlink:actuate=\"onRequest\" xlink:href=\"psysml:1f214475-93e7-4d57-afd6-304a88df216d\" xlink:show=\"new\" xlink:title=\"psysml:1f214475-93e7-4d57-afd6-304a88df216d\" xlink:type=\"simple\"><path d=\"M279,33.83 C279,36.15 279,73.83 279,111.5 C279,113.8544 279,116.2087 279,118.5544 C279,119.1408 279,119.7267 279,120.3119 \" fill=\"none\" id=\"E1-&gt;E2\" style=\"stroke: #383838; stroke-width: 1.0; stroke-dasharray: 7.0,7.0;\"/><polygon fill=\"#383838\" points=\"279,120.3119,283,111.3119,279,115.3119,275,111.3119,279,120.3119\" style=\"stroke: #383838; stroke-width: 1.0;\"/><text fill=\"#000000\" font-family=\"sans-serif\" font-size=\"13\" lengthAdjust=\"spacingAndGlyphs\" textLength=\"65\" x=\"280\" y=\"76.7869\">«import»*</text></a><!--MD5=[af87c684e3b0d8be13c1a698a818ef1e]\n",
       "link E3 to E4--><a href=\"psysml:3b6c166c-6961-4bb7-b892-e5bb88ba66d9\" target=\"_top\" title=\"psysml:3b6c166c-6961-4bb7-b892-e5bb88ba66d9\" xlink:actuate=\"onRequest\" xlink:href=\"psysml:3b6c166c-6961-4bb7-b892-e5bb88ba66d9\" xlink:show=\"new\" xlink:title=\"psysml:3b6c166c-6961-4bb7-b892-e5bb88ba66d9\" xlink:type=\"simple\"><path d=\"M382,216.82 C382,236.52 382,263.94 382,285.45 \" fill=\"none\" id=\"E3-&gt;E4\" style=\"stroke: #383838; stroke-width: 1.0; stroke-dasharray: 7.0,7.0;\"/><polygon fill=\"#383838\" points=\"382,293.67,385,285.67,379,285.67,382,293.67\" style=\"stroke: #383838; stroke-width: 1.0;\"/><text fill=\"#000000\" font-family=\"sans-serif\" font-size=\"13\" lengthAdjust=\"spacingAndGlyphs\" textLength=\"64\" x=\"383\" y=\"259.7869\">«depend»</text></a><!--MD5=[1b7591eae5389033d8d09a9d6721a717]\n",
       "link E4 to E5--><a href=\"psysml:f4ae8342-4685-4b6d-8549-04188d07c1c2\" target=\"_top\" title=\"psysml:f4ae8342-4685-4b6d-8549-04188d07c1c2\" xlink:actuate=\"onRequest\" xlink:href=\"psysml:f4ae8342-4685-4b6d-8549-04188d07c1c2\" xlink:show=\"new\" xlink:title=\"psysml:f4ae8342-4685-4b6d-8549-04188d07c1c2\" xlink:type=\"simple\"><path d=\"M382,346.82 C382,366.52 382,393.94 382,415.45 \" fill=\"none\" id=\"E4-&gt;E5\" style=\"stroke: #383838; stroke-width: 1.0; stroke-dasharray: 7.0,7.0;\"/><polygon fill=\"#383838\" points=\"382,423.67,385,415.67,379,415.67,382,423.67\" style=\"stroke: #383838; stroke-width: 1.0;\"/><text fill=\"#000000\" font-family=\"sans-serif\" font-size=\"13\" lengthAdjust=\"spacingAndGlyphs\" textLength=\"64\" x=\"383\" y=\"389.7869\">«depend»</text></a><!--MD5=[c5e8897d989ce984f93528998a7150fe]\n",
       "link E8 to E6--><a href=\"psysml:dd0e7371-702f-42f4-9a28-a8ea46c1187a\" target=\"_top\" title=\"psysml:dd0e7371-702f-42f4-9a28-a8ea46c1187a\" xlink:actuate=\"onRequest\" xlink:href=\"psysml:dd0e7371-702f-42f4-9a28-a8ea46c1187a\" xlink:show=\"new\" xlink:title=\"psysml:dd0e7371-702f-42f4-9a28-a8ea46c1187a\" xlink:type=\"simple\"><path d=\"M97.42,213.32 C87.35,222.4 77.37,233.83 72,246.72 C66.5,259.92 66.66,275.66 68.54,289.1 \" fill=\"none\" id=\"E8-&gt;E6\" style=\"stroke: #383838; stroke-width: 1.0; stroke-dasharray: 7.0,7.0;\"/><polygon fill=\"#383838\" points=\"69.9,297.12,71.517,288.7304,65.6018,289.7359,69.9,297.12\" style=\"stroke: #383838; stroke-width: 1.0;\"/><text fill=\"#000000\" font-family=\"sans-serif\" font-size=\"13\" lengthAdjust=\"spacingAndGlyphs\" textLength=\"64\" x=\"73\" y=\"259.7869\">«depend»</text></a><!--MD5=[bfa3c8b0d15052fdf50ae9310b491027]\n",
       "link E8 to E7--><a href=\"psysml:dd0e7371-702f-42f4-9a28-a8ea46c1187a\" target=\"_top\" title=\"psysml:dd0e7371-702f-42f4-9a28-a8ea46c1187a\" xlink:actuate=\"onRequest\" xlink:href=\"psysml:dd0e7371-702f-42f4-9a28-a8ea46c1187a\" xlink:show=\"new\" xlink:title=\"psysml:dd0e7371-702f-42f4-9a28-a8ea46c1187a\" xlink:type=\"simple\"><path d=\"M137.28,213.22 C146.17,234.29 159.64,266.22 169.47,289.53 \" fill=\"none\" id=\"E8-&gt;E7\" style=\"stroke: #383838; stroke-width: 1.0; stroke-dasharray: 7.0,7.0;\"/><polygon fill=\"#383838\" points=\"172.66,297.07,172.3241,288.5326,166.7933,290.8585,172.66,297.07\" style=\"stroke: #383838; stroke-width: 1.0;\"/><text fill=\"#000000\" font-family=\"sans-serif\" font-size=\"13\" lengthAdjust=\"spacingAndGlyphs\" textLength=\"64\" x=\"159\" y=\"259.7869\">«depend»</text></a><!--MD5=[f2b0bd452bcae1d590676fb48b5f8ef4]\n",
       "@startuml\r\n",
       " skinparam monochrome true\r\n",
       "skinparam classbackgroundcolor white\r\n",
       "skinparam shadowing false\r\n",
       "skinparam wrapWidth 300\r\n",
       "hide circle\r\n",
       "\r\n",
       "package \"DependencyTest\" as E1  [[psysml:49f03030-de0c-4f13-ba7b-914972c61aaf ]]  {\r\n",
       "package \"System\" as E2  [[psysml:0a123ebf-9907-4602-8f86-a30c7447a6cf ]]  {\r\n",
       "package \"Application Layer\" as E3  [[psysml:fbc620fa-f332-480d-9302-6e81c218d767 ]]  {\r\n",
       "}\r\n",
       "package \"Service Layer\" as E4  [[psysml:426f0663-f125-4848-8cc6-b208ee541f23 ]]  {\r\n",
       "}\r\n",
       "package \"Data Layer\" as E5  [[psysml:fd3440a5-7307-47c9-b63e-e029b0e76f05 ]]  {\r\n",
       "}\r\n",
       "}\r\n",
       "comp usage \"x \" as E6  <<(T,blue) attribute>> [[psysml:0783b658-08bf-4abf-9182-ba1ece255f80 ]] {\r\n",
       "}\r\n",
       "comp usage \"y \" as E7  <<(T,blue) attribute>> [[psysml:00406d55-97a3-4ada-a9d4-67d88ef5929d ]] {\r\n",
       "}\r\n",
       "comp usage \"z \" as E8  <<(T,blue) attribute>> [[psysml:b610c4be-7598-4a50-a285-e23e2912f41a ]] {\r\n",
       "}\r\n",
       "}\r\n",
       "E1 ..> E2 [[psysml:1f214475-93e7-4d57-afd6-304a88df216d ]] : <<import>>*\r\n",
       "E3 ..>> E4 [[psysml:3b6c166c-6961-4bb7-b892-e5bb88ba66d9 ]] : <<depend>>\r\n",
       "E4 ..>> E5 [[psysml:f4ae8342-4685-4b6d-8549-04188d07c1c2 ]] : <<depend>>\r\n",
       "E8 ..>> E6 [[psysml:dd0e7371-702f-42f4-9a28-a8ea46c1187a ]] : <<depend>>\r\n",
       "E8 ..>> E7 [[psysml:dd0e7371-702f-42f4-9a28-a8ea46c1187a ]] : <<depend>>\r\n",
       "@enduml\r\n",
       "\n",
       "PlantUML version 1.2020.13(Sat Jun 13 12:26:38 UTC 2020)\n",
       "(EPL source distribution)\n",
       "Java Runtime: OpenJDK Runtime Environment\n",
       "JVM: OpenJDK 64-Bit Server VM\n",
       "Default Encoding: UTF-8\n",
       "Language: en\n",
       "Country: null\n",
       "--></g></svg>"
      ]
     },
     "execution_count": 2,
     "metadata": {},
     "output_type": "execute_result"
    }
   ],
   "source": [
    "%viz --style=\"COMPTREE\" --view=\"Default\" \"DependencyTest\""
   ]
  },
  {
   "cell_type": "code",
   "execution_count": 3,
   "id": "493d62de",
   "metadata": {
    "execution": {
     "iopub.execute_input": "2022-03-03T09:54:58.249051Z",
     "iopub.status.busy": "2022-03-03T09:54:58.248613Z",
     "iopub.status.idle": "2022-03-03T09:54:58.305888Z",
     "shell.execute_reply": "2022-03-03T09:54:58.306220Z"
    }
   },
   "outputs": [
    {
     "data": {
      "image/svg+xml": [
       "<?xml version=\"1.0\" encoding=\"UTF-8\" standalone=\"no\"?><svg xmlns=\"http://www.w3.org/2000/svg\" xmlns:xlink=\"http://www.w3.org/1999/xlink\" contentScriptType=\"application/ecmascript\" contentStyleType=\"text/css\" height=\"552px\" preserveAspectRatio=\"none\" style=\"width:536px;height:552px;\" version=\"1.1\" viewBox=\"0 0 536 552\" width=\"536px\" zoomAndPan=\"magnify\"><defs/><g><!--MD5=[fbc87193dbaf4d95561dea2c320d4a47]\n",
       "cluster E1--><a href=\"psysml:49f03030-de0c-4f13-ba7b-914972c61aaf\" target=\"_top\" title=\"psysml:49f03030-de0c-4f13-ba7b-914972c61aaf\" xlink:actuate=\"onRequest\" xlink:href=\"psysml:49f03030-de0c-4f13-ba7b-914972c61aaf\" xlink:show=\"new\" xlink:title=\"psysml:49f03030-de0c-4f13-ba7b-914972c61aaf\" xlink:type=\"simple\"><polygon fill=\"#FFFFFF\" points=\"16,6,142,6,149,28.2969,514,28.2969,514,540.72,16,540.72,16,6\" style=\"stroke: #000000; stroke-width: 1.5;\"/><line style=\"stroke: #000000; stroke-width: 1.5;\" x1=\"16\" x2=\"149\" y1=\"28.2969\" y2=\"28.2969\"/><text fill=\"#000000\" font-family=\"sans-serif\" font-size=\"14\" font-weight=\"bold\" lengthAdjust=\"spacingAndGlyphs\" textLength=\"120\" x=\"20\" y=\"20.9951\">DependencyTest</text></a><!--MD5=[e4f7fae6ed58524ba242bb0b0d3be6b7]\n",
       "cluster E2--><a href=\"psysml:0a123ebf-9907-4602-8f86-a30c7447a6cf\" target=\"_top\" title=\"psysml:0a123ebf-9907-4602-8f86-a30c7447a6cf\" xlink:actuate=\"onRequest\" xlink:href=\"psysml:0a123ebf-9907-4602-8f86-a30c7447a6cf\" xlink:show=\"new\" xlink:title=\"psysml:0a123ebf-9907-4602-8f86-a30c7447a6cf\" xlink:type=\"simple\"><polygon fill=\"#FFFFFF\" points=\"271,120.72,328,120.72,335,143.0169,474,143.0169,474,500.72,271,500.72,271,120.72\" style=\"stroke: #000000; stroke-width: 1.5;\"/><line style=\"stroke: #000000; stroke-width: 1.5;\" x1=\"271\" x2=\"335\" y1=\"143.0169\" y2=\"143.0169\"/><text fill=\"#000000\" font-family=\"sans-serif\" font-size=\"14\" font-weight=\"bold\" lengthAdjust=\"spacingAndGlyphs\" textLength=\"51\" x=\"275\" y=\"135.7151\">System</text></a><!--MD5=[60a26617385b1d2d0262a64233df1f8d]\n",
       "class E6--><a href=\"psysml:0783b658-08bf-4abf-9182-ba1ece255f80\" target=\"_top\" title=\"psysml:0783b658-08bf-4abf-9182-ba1ece255f80\" xlink:actuate=\"onRequest\" xlink:href=\"psysml:0783b658-08bf-4abf-9182-ba1ece255f80\" xlink:show=\"new\" xlink:title=\"psysml:0783b658-08bf-4abf-9182-ba1ece255f80\" xlink:type=\"simple\"><rect fill=\"#FFFFFF\" height=\"45.9375\" id=\"E6\" rx=\"10\" ry=\"10\" style=\"stroke: #383838; stroke-width: 1.5;\" width=\"71\" x=\"40.5\" y=\"297.22\"/><text fill=\"#000000\" font-family=\"sans-serif\" font-size=\"12\" font-style=\"italic\" lengthAdjust=\"spacingAndGlyphs\" textLength=\"69\" x=\"41.5\" y=\"313.3587\">«attribute»</text><text fill=\"#000000\" font-family=\"sans-serif\" font-size=\"12\" lengthAdjust=\"spacingAndGlyphs\" textLength=\"6\" x=\"71\" y=\"327.3274\">x</text><line style=\"stroke: #383838; stroke-width: 1.5;\" x1=\"41.5\" x2=\"110.5\" y1=\"335.1575\" y2=\"335.1575\"/></a><!--MD5=[2156ba9850f5573cc1fc38a6a4b2f02b]\n",
       "class E7--><a href=\"psysml:00406d55-97a3-4ada-a9d4-67d88ef5929d\" target=\"_top\" title=\"psysml:00406d55-97a3-4ada-a9d4-67d88ef5929d\" xlink:actuate=\"onRequest\" xlink:href=\"psysml:00406d55-97a3-4ada-a9d4-67d88ef5929d\" xlink:show=\"new\" xlink:title=\"psysml:00406d55-97a3-4ada-a9d4-67d88ef5929d\" xlink:type=\"simple\"><rect fill=\"#FFFFFF\" height=\"45.9375\" id=\"E7\" rx=\"10\" ry=\"10\" style=\"stroke: #383838; stroke-width: 1.5;\" width=\"71\" x=\"146.5\" y=\"297.22\"/><text fill=\"#000000\" font-family=\"sans-serif\" font-size=\"12\" font-style=\"italic\" lengthAdjust=\"spacingAndGlyphs\" textLength=\"69\" x=\"147.5\" y=\"313.3587\">«attribute»</text><text fill=\"#000000\" font-family=\"sans-serif\" font-size=\"12\" lengthAdjust=\"spacingAndGlyphs\" textLength=\"6\" x=\"177\" y=\"327.3274\">y</text><line style=\"stroke: #383838; stroke-width: 1.5;\" x1=\"147.5\" x2=\"216.5\" y1=\"335.1575\" y2=\"335.1575\"/></a><!--MD5=[b9389687b975829384b498ac4b7476b2]\n",
       "class E8--><a href=\"psysml:b610c4be-7598-4a50-a285-e23e2912f41a\" target=\"_top\" title=\"psysml:b610c4be-7598-4a50-a285-e23e2912f41a\" xlink:actuate=\"onRequest\" xlink:href=\"psysml:b610c4be-7598-4a50-a285-e23e2912f41a\" xlink:show=\"new\" xlink:title=\"psysml:b610c4be-7598-4a50-a285-e23e2912f41a\" xlink:type=\"simple\"><rect fill=\"#FFFFFF\" height=\"45.9375\" id=\"E8\" rx=\"10\" ry=\"10\" style=\"stroke: #383838; stroke-width: 1.5;\" width=\"71\" x=\"92.5\" y=\"167.22\"/><text fill=\"#000000\" font-family=\"sans-serif\" font-size=\"12\" font-style=\"italic\" lengthAdjust=\"spacingAndGlyphs\" textLength=\"69\" x=\"93.5\" y=\"183.3587\">«attribute»</text><text fill=\"#000000\" font-family=\"sans-serif\" font-size=\"12\" lengthAdjust=\"spacingAndGlyphs\" textLength=\"5\" x=\"123.5\" y=\"197.3274\">z</text><line style=\"stroke: #383838; stroke-width: 1.5;\" x1=\"93.5\" x2=\"162.5\" y1=\"205.1575\" y2=\"205.1575\"/></a><a href=\"psysml:fbc620fa-f332-480d-9302-6e81c218d767\" target=\"_top\" title=\"psysml:fbc620fa-f332-480d-9302-6e81c218d767\" xlink:actuate=\"onRequest\" xlink:href=\"psysml:fbc620fa-f332-480d-9302-6e81c218d767\" xlink:show=\"new\" xlink:title=\"psysml:fbc620fa-f332-480d-9302-6e81c218d767\" xlink:type=\"simple\"><polygon fill=\"#FFFFFF\" points=\"314.5,163.72,435.5,163.72,442.5,186.0169,449.5,186.0169,449.5,216.3138,314.5,216.3138,314.5,163.72\" style=\"stroke: #000000; stroke-width: 1.5;\"/><line style=\"stroke: #000000; stroke-width: 1.5;\" x1=\"314.5\" x2=\"442.5\" y1=\"186.0169\" y2=\"186.0169\"/><text fill=\"#000000\" font-family=\"sans-serif\" font-size=\"14\" font-weight=\"bold\" lengthAdjust=\"spacingAndGlyphs\" textLength=\"115\" x=\"318.5\" y=\"178.7151\">Application Layer</text></a><a href=\"psysml:426f0663-f125-4848-8cc6-b208ee541f23\" target=\"_top\" title=\"psysml:426f0663-f125-4848-8cc6-b208ee541f23\" xlink:actuate=\"onRequest\" xlink:href=\"psysml:426f0663-f125-4848-8cc6-b208ee541f23\" xlink:show=\"new\" xlink:title=\"psysml:426f0663-f125-4848-8cc6-b208ee541f23\" xlink:type=\"simple\"><polygon fill=\"#FFFFFF\" points=\"327,293.72,423,293.72,430,316.0169,437,316.0169,437,346.3138,327,346.3138,327,293.72\" style=\"stroke: #000000; stroke-width: 1.5;\"/><line style=\"stroke: #000000; stroke-width: 1.5;\" x1=\"327\" x2=\"430\" y1=\"316.0169\" y2=\"316.0169\"/><text fill=\"#000000\" font-family=\"sans-serif\" font-size=\"14\" font-weight=\"bold\" lengthAdjust=\"spacingAndGlyphs\" textLength=\"90\" x=\"331\" y=\"308.7151\">Service Layer</text></a><a href=\"psysml:fd3440a5-7307-47c9-b63e-e029b0e76f05\" target=\"_top\" title=\"psysml:fd3440a5-7307-47c9-b63e-e029b0e76f05\" xlink:actuate=\"onRequest\" xlink:href=\"psysml:fd3440a5-7307-47c9-b63e-e029b0e76f05\" xlink:show=\"new\" xlink:title=\"psysml:fd3440a5-7307-47c9-b63e-e029b0e76f05\" xlink:type=\"simple\"><polygon fill=\"#FFFFFF\" points=\"336,423.72,414,423.72,421,446.0169,428,446.0169,428,476.3138,336,476.3138,336,423.72\" style=\"stroke: #000000; stroke-width: 1.5;\"/><line style=\"stroke: #000000; stroke-width: 1.5;\" x1=\"336\" x2=\"421\" y1=\"446.0169\" y2=\"446.0169\"/><text fill=\"#000000\" font-family=\"sans-serif\" font-size=\"14\" font-weight=\"bold\" lengthAdjust=\"spacingAndGlyphs\" textLength=\"72\" x=\"340\" y=\"438.7151\">Data Layer</text></a><!--MD5=[1f1cd8e6dd4c1b2ca2aaccc9b9bcea6e]\n",
       "link E1 to E2--><a href=\"psysml:1f214475-93e7-4d57-afd6-304a88df216d\" target=\"_top\" title=\"psysml:1f214475-93e7-4d57-afd6-304a88df216d\" xlink:actuate=\"onRequest\" xlink:href=\"psysml:1f214475-93e7-4d57-afd6-304a88df216d\" xlink:show=\"new\" xlink:title=\"psysml:1f214475-93e7-4d57-afd6-304a88df216d\" xlink:type=\"simple\"><path d=\"M279,33.83 C279,36.15 279,73.83 279,111.5 C279,113.8544 279,116.2087 279,118.5544 C279,119.1408 279,119.7267 279,120.3119 \" fill=\"none\" id=\"E1-&gt;E2\" style=\"stroke: #383838; stroke-width: 1.0; stroke-dasharray: 7.0,7.0;\"/><polygon fill=\"#383838\" points=\"279,120.3119,283,111.3119,279,115.3119,275,111.3119,279,120.3119\" style=\"stroke: #383838; stroke-width: 1.0;\"/><text fill=\"#000000\" font-family=\"sans-serif\" font-size=\"13\" lengthAdjust=\"spacingAndGlyphs\" textLength=\"65\" x=\"280\" y=\"76.7869\">«import»*</text></a><!--MD5=[af87c684e3b0d8be13c1a698a818ef1e]\n",
       "link E3 to E4--><a href=\"psysml:3b6c166c-6961-4bb7-b892-e5bb88ba66d9\" target=\"_top\" title=\"psysml:3b6c166c-6961-4bb7-b892-e5bb88ba66d9\" xlink:actuate=\"onRequest\" xlink:href=\"psysml:3b6c166c-6961-4bb7-b892-e5bb88ba66d9\" xlink:show=\"new\" xlink:title=\"psysml:3b6c166c-6961-4bb7-b892-e5bb88ba66d9\" xlink:type=\"simple\"><path d=\"M382,216.82 C382,236.52 382,263.94 382,285.45 \" fill=\"none\" id=\"E3-&gt;E4\" style=\"stroke: #383838; stroke-width: 1.0; stroke-dasharray: 7.0,7.0;\"/><polygon fill=\"#383838\" points=\"382,293.67,385,285.67,379,285.67,382,293.67\" style=\"stroke: #383838; stroke-width: 1.0;\"/><text fill=\"#000000\" font-family=\"sans-serif\" font-size=\"13\" lengthAdjust=\"spacingAndGlyphs\" textLength=\"64\" x=\"383\" y=\"259.7869\">«depend»</text></a><!--MD5=[1b7591eae5389033d8d09a9d6721a717]\n",
       "link E4 to E5--><a href=\"psysml:f4ae8342-4685-4b6d-8549-04188d07c1c2\" target=\"_top\" title=\"psysml:f4ae8342-4685-4b6d-8549-04188d07c1c2\" xlink:actuate=\"onRequest\" xlink:href=\"psysml:f4ae8342-4685-4b6d-8549-04188d07c1c2\" xlink:show=\"new\" xlink:title=\"psysml:f4ae8342-4685-4b6d-8549-04188d07c1c2\" xlink:type=\"simple\"><path d=\"M382,346.82 C382,366.52 382,393.94 382,415.45 \" fill=\"none\" id=\"E4-&gt;E5\" style=\"stroke: #383838; stroke-width: 1.0; stroke-dasharray: 7.0,7.0;\"/><polygon fill=\"#383838\" points=\"382,423.67,385,415.67,379,415.67,382,423.67\" style=\"stroke: #383838; stroke-width: 1.0;\"/><text fill=\"#000000\" font-family=\"sans-serif\" font-size=\"13\" lengthAdjust=\"spacingAndGlyphs\" textLength=\"64\" x=\"383\" y=\"389.7869\">«depend»</text></a><!--MD5=[c5e8897d989ce984f93528998a7150fe]\n",
       "link E8 to E6--><a href=\"psysml:dd0e7371-702f-42f4-9a28-a8ea46c1187a\" target=\"_top\" title=\"psysml:dd0e7371-702f-42f4-9a28-a8ea46c1187a\" xlink:actuate=\"onRequest\" xlink:href=\"psysml:dd0e7371-702f-42f4-9a28-a8ea46c1187a\" xlink:show=\"new\" xlink:title=\"psysml:dd0e7371-702f-42f4-9a28-a8ea46c1187a\" xlink:type=\"simple\"><path d=\"M97.42,213.32 C87.35,222.4 77.37,233.83 72,246.72 C66.5,259.92 66.66,275.66 68.54,289.1 \" fill=\"none\" id=\"E8-&gt;E6\" style=\"stroke: #383838; stroke-width: 1.0; stroke-dasharray: 7.0,7.0;\"/><polygon fill=\"#383838\" points=\"69.9,297.12,71.517,288.7304,65.6018,289.7359,69.9,297.12\" style=\"stroke: #383838; stroke-width: 1.0;\"/><text fill=\"#000000\" font-family=\"sans-serif\" font-size=\"13\" lengthAdjust=\"spacingAndGlyphs\" textLength=\"64\" x=\"73\" y=\"259.7869\">«depend»</text></a><!--MD5=[bfa3c8b0d15052fdf50ae9310b491027]\n",
       "link E8 to E7--><a href=\"psysml:dd0e7371-702f-42f4-9a28-a8ea46c1187a\" target=\"_top\" title=\"psysml:dd0e7371-702f-42f4-9a28-a8ea46c1187a\" xlink:actuate=\"onRequest\" xlink:href=\"psysml:dd0e7371-702f-42f4-9a28-a8ea46c1187a\" xlink:show=\"new\" xlink:title=\"psysml:dd0e7371-702f-42f4-9a28-a8ea46c1187a\" xlink:type=\"simple\"><path d=\"M137.28,213.22 C146.17,234.29 159.64,266.22 169.47,289.53 \" fill=\"none\" id=\"E8-&gt;E7\" style=\"stroke: #383838; stroke-width: 1.0; stroke-dasharray: 7.0,7.0;\"/><polygon fill=\"#383838\" points=\"172.66,297.07,172.3241,288.5326,166.7933,290.8585,172.66,297.07\" style=\"stroke: #383838; stroke-width: 1.0;\"/><text fill=\"#000000\" font-family=\"sans-serif\" font-size=\"13\" lengthAdjust=\"spacingAndGlyphs\" textLength=\"64\" x=\"159\" y=\"259.7869\">«depend»</text></a><!--MD5=[f2b0bd452bcae1d590676fb48b5f8ef4]\n",
       "@startuml\r\n",
       " skinparam monochrome true\r\n",
       "skinparam classbackgroundcolor white\r\n",
       "skinparam shadowing false\r\n",
       "skinparam wrapWidth 300\r\n",
       "hide circle\r\n",
       "\r\n",
       "package \"DependencyTest\" as E1  [[psysml:49f03030-de0c-4f13-ba7b-914972c61aaf ]]  {\r\n",
       "package \"System\" as E2  [[psysml:0a123ebf-9907-4602-8f86-a30c7447a6cf ]]  {\r\n",
       "package \"Application Layer\" as E3  [[psysml:fbc620fa-f332-480d-9302-6e81c218d767 ]]  {\r\n",
       "}\r\n",
       "package \"Service Layer\" as E4  [[psysml:426f0663-f125-4848-8cc6-b208ee541f23 ]]  {\r\n",
       "}\r\n",
       "package \"Data Layer\" as E5  [[psysml:fd3440a5-7307-47c9-b63e-e029b0e76f05 ]]  {\r\n",
       "}\r\n",
       "}\r\n",
       "comp usage \"x \" as E6  <<(T,blue) attribute>> [[psysml:0783b658-08bf-4abf-9182-ba1ece255f80 ]] {\r\n",
       "}\r\n",
       "comp usage \"y \" as E7  <<(T,blue) attribute>> [[psysml:00406d55-97a3-4ada-a9d4-67d88ef5929d ]] {\r\n",
       "}\r\n",
       "comp usage \"z \" as E8  <<(T,blue) attribute>> [[psysml:b610c4be-7598-4a50-a285-e23e2912f41a ]] {\r\n",
       "}\r\n",
       "}\r\n",
       "E1 ..> E2 [[psysml:1f214475-93e7-4d57-afd6-304a88df216d ]] : <<import>>*\r\n",
       "E3 ..>> E4 [[psysml:3b6c166c-6961-4bb7-b892-e5bb88ba66d9 ]] : <<depend>>\r\n",
       "E4 ..>> E5 [[psysml:f4ae8342-4685-4b6d-8549-04188d07c1c2 ]] : <<depend>>\r\n",
       "E8 ..>> E6 [[psysml:dd0e7371-702f-42f4-9a28-a8ea46c1187a ]] : <<depend>>\r\n",
       "E8 ..>> E7 [[psysml:dd0e7371-702f-42f4-9a28-a8ea46c1187a ]] : <<depend>>\r\n",
       "@enduml\r\n",
       "\n",
       "PlantUML version 1.2020.13(Sat Jun 13 12:26:38 UTC 2020)\n",
       "(EPL source distribution)\n",
       "Java Runtime: OpenJDK Runtime Environment\n",
       "JVM: OpenJDK 64-Bit Server VM\n",
       "Default Encoding: UTF-8\n",
       "Language: en\n",
       "Country: null\n",
       "--></g></svg>"
      ]
     },
     "execution_count": 3,
     "metadata": {},
     "output_type": "execute_result"
    }
   ],
   "source": [
    "%viz --style=\"COMPTREE\" --view=\"Tree\" \"DependencyTest\""
   ]
  },
  {
   "cell_type": "code",
   "execution_count": 4,
   "id": "432b6e5c",
   "metadata": {
    "execution": {
     "iopub.execute_input": "2022-03-03T09:54:58.356511Z",
     "iopub.status.busy": "2022-03-03T09:54:58.356040Z",
     "iopub.status.idle": "2022-03-03T09:54:58.364100Z",
     "shell.execute_reply": "2022-03-03T09:54:58.364461Z"
    }
   },
   "outputs": [
    {
     "data": {
      "image/svg+xml": [
       "<?xml version=\"1.0\" encoding=\"UTF-8\" standalone=\"no\"?><svg xmlns=\"http://www.w3.org/2000/svg\" xmlns:xlink=\"http://www.w3.org/1999/xlink\" contentScriptType=\"application/ecmascript\" contentStyleType=\"text/css\" height=\"12px\" preserveAspectRatio=\"none\" style=\"width:12px;height:12px;\" version=\"1.1\" viewBox=\"0 0 12 12\" width=\"12px\" zoomAndPan=\"magnify\"><defs/><g><!--MD5=[f19188ef49e11757b5c46753f95d9edc]\n",
       "@startuml\r\n",
       " skinparam monochrome true\r\n",
       "skinparam classbackgroundcolor white\r\n",
       "skinparam shadowing false\r\n",
       "skinparam wrapWidth 300\r\n",
       "hide circle\r\n",
       "\r\n",
       "@enduml\r\n",
       "\n",
       "PlantUML version 1.2020.13(Sat Jun 13 12:26:38 UTC 2020)\n",
       "(EPL source distribution)\n",
       "Java Runtime: OpenJDK Runtime Environment\n",
       "JVM: OpenJDK 64-Bit Server VM\n",
       "Default Encoding: UTF-8\n",
       "Language: en\n",
       "Country: null\n",
       "--></g></svg>"
      ]
     },
     "execution_count": 4,
     "metadata": {},
     "output_type": "execute_result"
    }
   ],
   "source": [
    "%viz --style=\"COMPTREE\" --view=\"State\" \"DependencyTest\""
   ]
  },
  {
   "cell_type": "code",
   "execution_count": 5,
   "id": "72d479cc",
   "metadata": {
    "execution": {
     "iopub.execute_input": "2022-03-03T09:54:58.414898Z",
     "iopub.status.busy": "2022-03-03T09:54:58.414483Z",
     "iopub.status.idle": "2022-03-03T09:54:58.469147Z",
     "shell.execute_reply": "2022-03-03T09:54:58.469462Z"
    }
   },
   "outputs": [
    {
     "data": {
      "image/svg+xml": [
       "<?xml version=\"1.0\" encoding=\"UTF-8\" standalone=\"no\"?><svg xmlns=\"http://www.w3.org/2000/svg\" xmlns:xlink=\"http://www.w3.org/1999/xlink\" contentScriptType=\"application/ecmascript\" contentStyleType=\"text/css\" height=\"442px\" preserveAspectRatio=\"none\" style=\"width:536px;height:442px;\" version=\"1.1\" viewBox=\"0 0 536 442\" width=\"536px\" zoomAndPan=\"magnify\"><defs/><g><!--MD5=[fbc87193dbaf4d95561dea2c320d4a47]\n",
       "cluster E1--><a href=\"psysml:49f03030-de0c-4f13-ba7b-914972c61aaf\" target=\"_top\" title=\"psysml:49f03030-de0c-4f13-ba7b-914972c61aaf\" xlink:actuate=\"onRequest\" xlink:href=\"psysml:49f03030-de0c-4f13-ba7b-914972c61aaf\" xlink:show=\"new\" xlink:title=\"psysml:49f03030-de0c-4f13-ba7b-914972c61aaf\" xlink:type=\"simple\"><polygon fill=\"#FFFFFF\" points=\"16,6,142,6,149,28.2969,514,28.2969,514,430.72,16,430.72,16,6\" style=\"stroke: #000000; stroke-width: 1.5;\"/><line style=\"stroke: #000000; stroke-width: 1.5;\" x1=\"16\" x2=\"149\" y1=\"28.2969\" y2=\"28.2969\"/><text fill=\"#000000\" font-family=\"sans-serif\" font-size=\"14\" font-weight=\"bold\" lengthAdjust=\"spacingAndGlyphs\" textLength=\"120\" x=\"20\" y=\"20.9951\">DependencyTest</text></a><!--MD5=[e4f7fae6ed58524ba242bb0b0d3be6b7]\n",
       "cluster E2--><a href=\"psysml:0a123ebf-9907-4602-8f86-a30c7447a6cf\" target=\"_top\" title=\"psysml:0a123ebf-9907-4602-8f86-a30c7447a6cf\" xlink:actuate=\"onRequest\" xlink:href=\"psysml:0a123ebf-9907-4602-8f86-a30c7447a6cf\" xlink:show=\"new\" xlink:title=\"psysml:0a123ebf-9907-4602-8f86-a30c7447a6cf\" xlink:type=\"simple\"><polygon fill=\"#FFFFFF\" points=\"271,98.72,328,98.72,335,121.0169,474,121.0169,474,390.72,271,390.72,271,98.72\" style=\"stroke: #000000; stroke-width: 1.5;\"/><line style=\"stroke: #000000; stroke-width: 1.5;\" x1=\"271\" x2=\"335\" y1=\"121.0169\" y2=\"121.0169\"/><text fill=\"#000000\" font-family=\"sans-serif\" font-size=\"14\" font-weight=\"bold\" lengthAdjust=\"spacingAndGlyphs\" textLength=\"51\" x=\"275\" y=\"113.7151\">System</text></a><!--MD5=[60a26617385b1d2d0262a64233df1f8d]\n",
       "class E6--><a href=\"psysml:0783b658-08bf-4abf-9182-ba1ece255f80\" target=\"_top\" title=\"psysml:0783b658-08bf-4abf-9182-ba1ece255f80\" xlink:actuate=\"onRequest\" xlink:href=\"psysml:0783b658-08bf-4abf-9182-ba1ece255f80\" xlink:show=\"new\" xlink:title=\"psysml:0783b658-08bf-4abf-9182-ba1ece255f80\" xlink:type=\"simple\"><rect fill=\"#FFFFFF\" height=\"45.9375\" id=\"E6\" rx=\"10\" ry=\"10\" style=\"stroke: #383838; stroke-width: 1.5;\" width=\"71\" x=\"40.5\" y=\"231.22\"/><text fill=\"#000000\" font-family=\"sans-serif\" font-size=\"12\" font-style=\"italic\" lengthAdjust=\"spacingAndGlyphs\" textLength=\"69\" x=\"41.5\" y=\"247.3587\">«attribute»</text><text fill=\"#000000\" font-family=\"sans-serif\" font-size=\"12\" lengthAdjust=\"spacingAndGlyphs\" textLength=\"6\" x=\"71\" y=\"261.3274\">x</text><line style=\"stroke: #383838; stroke-width: 1.5;\" x1=\"41.5\" x2=\"110.5\" y1=\"269.1575\" y2=\"269.1575\"/></a><!--MD5=[2156ba9850f5573cc1fc38a6a4b2f02b]\n",
       "class E7--><a href=\"psysml:00406d55-97a3-4ada-a9d4-67d88ef5929d\" target=\"_top\" title=\"psysml:00406d55-97a3-4ada-a9d4-67d88ef5929d\" xlink:actuate=\"onRequest\" xlink:href=\"psysml:00406d55-97a3-4ada-a9d4-67d88ef5929d\" xlink:show=\"new\" xlink:title=\"psysml:00406d55-97a3-4ada-a9d4-67d88ef5929d\" xlink:type=\"simple\"><rect fill=\"#FFFFFF\" height=\"45.9375\" id=\"E7\" rx=\"10\" ry=\"10\" style=\"stroke: #383838; stroke-width: 1.5;\" width=\"71\" x=\"146.5\" y=\"231.22\"/><text fill=\"#000000\" font-family=\"sans-serif\" font-size=\"12\" font-style=\"italic\" lengthAdjust=\"spacingAndGlyphs\" textLength=\"69\" x=\"147.5\" y=\"247.3587\">«attribute»</text><text fill=\"#000000\" font-family=\"sans-serif\" font-size=\"12\" lengthAdjust=\"spacingAndGlyphs\" textLength=\"6\" x=\"177\" y=\"261.3274\">y</text><line style=\"stroke: #383838; stroke-width: 1.5;\" x1=\"147.5\" x2=\"216.5\" y1=\"269.1575\" y2=\"269.1575\"/></a><!--MD5=[b9389687b975829384b498ac4b7476b2]\n",
       "class E8--><a href=\"psysml:b610c4be-7598-4a50-a285-e23e2912f41a\" target=\"_top\" title=\"psysml:b610c4be-7598-4a50-a285-e23e2912f41a\" xlink:actuate=\"onRequest\" xlink:href=\"psysml:b610c4be-7598-4a50-a285-e23e2912f41a\" xlink:show=\"new\" xlink:title=\"psysml:b610c4be-7598-4a50-a285-e23e2912f41a\" xlink:type=\"simple\"><rect fill=\"#FFFFFF\" height=\"45.9375\" id=\"E8\" rx=\"10\" ry=\"10\" style=\"stroke: #383838; stroke-width: 1.5;\" width=\"71\" x=\"92.5\" y=\"145.22\"/><text fill=\"#000000\" font-family=\"sans-serif\" font-size=\"12\" font-style=\"italic\" lengthAdjust=\"spacingAndGlyphs\" textLength=\"69\" x=\"93.5\" y=\"161.3587\">«attribute»</text><text fill=\"#000000\" font-family=\"sans-serif\" font-size=\"12\" lengthAdjust=\"spacingAndGlyphs\" textLength=\"5\" x=\"123.5\" y=\"175.3274\">z</text><line style=\"stroke: #383838; stroke-width: 1.5;\" x1=\"93.5\" x2=\"162.5\" y1=\"183.1575\" y2=\"183.1575\"/></a><a href=\"psysml:fbc620fa-f332-480d-9302-6e81c218d767\" target=\"_top\" title=\"psysml:fbc620fa-f332-480d-9302-6e81c218d767\" xlink:actuate=\"onRequest\" xlink:href=\"psysml:fbc620fa-f332-480d-9302-6e81c218d767\" xlink:show=\"new\" xlink:title=\"psysml:fbc620fa-f332-480d-9302-6e81c218d767\" xlink:type=\"simple\"><polygon fill=\"#FFFFFF\" points=\"314.5,141.72,435.5,141.72,442.5,164.0169,449.5,164.0169,449.5,194.3138,314.5,194.3138,314.5,141.72\" style=\"stroke: #000000; stroke-width: 1.5;\"/><line style=\"stroke: #000000; stroke-width: 1.5;\" x1=\"314.5\" x2=\"442.5\" y1=\"164.0169\" y2=\"164.0169\"/><text fill=\"#000000\" font-family=\"sans-serif\" font-size=\"14\" font-weight=\"bold\" lengthAdjust=\"spacingAndGlyphs\" textLength=\"115\" x=\"318.5\" y=\"156.7151\">Application Layer</text></a><a href=\"psysml:426f0663-f125-4848-8cc6-b208ee541f23\" target=\"_top\" title=\"psysml:426f0663-f125-4848-8cc6-b208ee541f23\" xlink:actuate=\"onRequest\" xlink:href=\"psysml:426f0663-f125-4848-8cc6-b208ee541f23\" xlink:show=\"new\" xlink:title=\"psysml:426f0663-f125-4848-8cc6-b208ee541f23\" xlink:type=\"simple\"><polygon fill=\"#FFFFFF\" points=\"327,227.72,423,227.72,430,250.0169,437,250.0169,437,280.3138,327,280.3138,327,227.72\" style=\"stroke: #000000; stroke-width: 1.5;\"/><line style=\"stroke: #000000; stroke-width: 1.5;\" x1=\"327\" x2=\"430\" y1=\"250.0169\" y2=\"250.0169\"/><text fill=\"#000000\" font-family=\"sans-serif\" font-size=\"14\" font-weight=\"bold\" lengthAdjust=\"spacingAndGlyphs\" textLength=\"90\" x=\"331\" y=\"242.7151\">Service Layer</text></a><a href=\"psysml:fd3440a5-7307-47c9-b63e-e029b0e76f05\" target=\"_top\" title=\"psysml:fd3440a5-7307-47c9-b63e-e029b0e76f05\" xlink:actuate=\"onRequest\" xlink:href=\"psysml:fd3440a5-7307-47c9-b63e-e029b0e76f05\" xlink:show=\"new\" xlink:title=\"psysml:fd3440a5-7307-47c9-b63e-e029b0e76f05\" xlink:type=\"simple\"><polygon fill=\"#FFFFFF\" points=\"336,313.72,414,313.72,421,336.0169,428,336.0169,428,366.3138,336,366.3138,336,313.72\" style=\"stroke: #000000; stroke-width: 1.5;\"/><line style=\"stroke: #000000; stroke-width: 1.5;\" x1=\"336\" x2=\"421\" y1=\"336.0169\" y2=\"336.0169\"/><text fill=\"#000000\" font-family=\"sans-serif\" font-size=\"14\" font-weight=\"bold\" lengthAdjust=\"spacingAndGlyphs\" textLength=\"72\" x=\"340\" y=\"328.7151\">Data Layer</text></a><!--MD5=[1f1cd8e6dd4c1b2ca2aaccc9b9bcea6e]\n",
       "link E1 to E2--><a href=\"psysml:1f214475-93e7-4d57-afd6-304a88df216d\" target=\"_top\" title=\"psysml:1f214475-93e7-4d57-afd6-304a88df216d\" xlink:actuate=\"onRequest\" xlink:href=\"psysml:1f214475-93e7-4d57-afd6-304a88df216d\" xlink:show=\"new\" xlink:title=\"psysml:1f214475-93e7-4d57-afd6-304a88df216d\" xlink:type=\"simple\"><path d=\"M279,33.82 C279,34.815 279,43.3994 279,55.7775 C279,61.9666 279,69.1041 279,76.7155 C279,80.5213 279,84.4455 279,88.429 C279,90.4207 279,92.4272 279,94.4411 C279,95.448 279,96.4568 279,97.4665 C279,97.719 279,97.9714 279,98.224 \" fill=\"none\" id=\"E1-&gt;E2\" style=\"stroke: #383838; stroke-width: 1.0; stroke-dasharray: 7.0,7.0;\"/><polygon fill=\"#383838\" points=\"279,98.224,283,89.224,279,93.224,275,89.224,279,98.224\" style=\"stroke: #383838; stroke-width: 1.0;\"/><text fill=\"#000000\" font-family=\"sans-serif\" font-size=\"13\" lengthAdjust=\"spacingAndGlyphs\" textLength=\"65\" x=\"280\" y=\"54.7869\">«import»*</text></a><!--MD5=[af87c684e3b0d8be13c1a698a818ef1e]\n",
       "link E3 to E4--><a href=\"psysml:3b6c166c-6961-4bb7-b892-e5bb88ba66d9\" target=\"_top\" title=\"psysml:3b6c166c-6961-4bb7-b892-e5bb88ba66d9\" xlink:actuate=\"onRequest\" xlink:href=\"psysml:3b6c166c-6961-4bb7-b892-e5bb88ba66d9\" xlink:show=\"new\" xlink:title=\"psysml:3b6c166c-6961-4bb7-b892-e5bb88ba66d9\" xlink:type=\"simple\"><path d=\"M382,194.88 C382,202.7 382,211.41 382,219.66 \" fill=\"none\" id=\"E3-&gt;E4\" style=\"stroke: #383838; stroke-width: 1.0; stroke-dasharray: 7.0,7.0;\"/><polygon fill=\"#383838\" points=\"382,227.72,385,219.72,379,219.72,382,227.72\" style=\"stroke: #383838; stroke-width: 1.0;\"/><text fill=\"#000000\" font-family=\"sans-serif\" font-size=\"13\" lengthAdjust=\"spacingAndGlyphs\" textLength=\"64\" x=\"383\" y=\"215.7869\">«depend»</text></a><!--MD5=[1b7591eae5389033d8d09a9d6721a717]\n",
       "link E4 to E5--><a href=\"psysml:f4ae8342-4685-4b6d-8549-04188d07c1c2\" target=\"_top\" title=\"psysml:f4ae8342-4685-4b6d-8549-04188d07c1c2\" xlink:actuate=\"onRequest\" xlink:href=\"psysml:f4ae8342-4685-4b6d-8549-04188d07c1c2\" xlink:show=\"new\" xlink:title=\"psysml:f4ae8342-4685-4b6d-8549-04188d07c1c2\" xlink:type=\"simple\"><path d=\"M382,280.88 C382,288.7 382,297.41 382,305.66 \" fill=\"none\" id=\"E4-&gt;E5\" style=\"stroke: #383838; stroke-width: 1.0; stroke-dasharray: 7.0,7.0;\"/><polygon fill=\"#383838\" points=\"382,313.72,385,305.72,379,305.72,382,313.72\" style=\"stroke: #383838; stroke-width: 1.0;\"/><text fill=\"#000000\" font-family=\"sans-serif\" font-size=\"13\" lengthAdjust=\"spacingAndGlyphs\" textLength=\"64\" x=\"383\" y=\"301.7869\">«depend»</text></a><!--MD5=[c5e8897d989ce984f93528998a7150fe]\n",
       "link E8 to E6--><a href=\"psysml:dd0e7371-702f-42f4-9a28-a8ea46c1187a\" target=\"_top\" title=\"psysml:dd0e7371-702f-42f4-9a28-a8ea46c1187a\" xlink:actuate=\"onRequest\" xlink:href=\"psysml:dd0e7371-702f-42f4-9a28-a8ea46c1187a\" xlink:show=\"new\" xlink:title=\"psysml:dd0e7371-702f-42f4-9a28-a8ea46c1187a\" xlink:type=\"simple\"><path d=\"M92.49,183.06 C84.34,187.99 76.69,194.44 72,202.72 C68.54,208.82 67.62,216.03 68,223.05 \" fill=\"none\" id=\"E8-&gt;E6\" style=\"stroke: #383838; stroke-width: 1.0; stroke-dasharray: 7.0,7.0;\"/><polygon fill=\"#383838\" points=\"68.97,231.14,71.0061,222.8421,65.0479,223.5494,68.97,231.14\" style=\"stroke: #383838; stroke-width: 1.0;\"/><text fill=\"#000000\" font-family=\"sans-serif\" font-size=\"13\" lengthAdjust=\"spacingAndGlyphs\" textLength=\"64\" x=\"73\" y=\"215.7869\">«depend»</text></a><!--MD5=[bfa3c8b0d15052fdf50ae9310b491027]\n",
       "link E8 to E7--><a href=\"psysml:dd0e7371-702f-42f4-9a28-a8ea46c1187a\" target=\"_top\" title=\"psysml:dd0e7371-702f-42f4-9a28-a8ea46c1187a\" xlink:actuate=\"onRequest\" xlink:href=\"psysml:dd0e7371-702f-42f4-9a28-a8ea46c1187a\" xlink:show=\"new\" xlink:title=\"psysml:dd0e7371-702f-42f4-9a28-a8ea46c1187a\" xlink:type=\"simple\"><path d=\"M142.19,191.29 C148.65,201.34 156.38,213.37 163.31,224.14 \" fill=\"none\" id=\"E8-&gt;E7\" style=\"stroke: #383838; stroke-width: 1.0; stroke-dasharray: 7.0,7.0;\"/><polygon fill=\"#383838\" points=\"167.72,231.01,165.9148,222.6589,160.8688,225.905,167.72,231.01\" style=\"stroke: #383838; stroke-width: 1.0;\"/><text fill=\"#000000\" font-family=\"sans-serif\" font-size=\"13\" lengthAdjust=\"spacingAndGlyphs\" textLength=\"64\" x=\"160\" y=\"215.7869\">«depend»</text></a><!--MD5=[a870016e7dd9af519f90a4d5b9ae69b4]\n",
       "@startuml\r\n",
       "skinparam ranksep 10\r\n",
       "skinparam rectangle {\r\n",
       " backgroundColor<<block>> LightGreen\r\n",
       "}\r\n",
       " skinparam monochrome true\r\n",
       "skinparam classbackgroundcolor white\r\n",
       "skinparam shadowing false\r\n",
       "skinparam wrapWidth 300\r\n",
       "hide circle\r\n",
       "\r\n",
       "package \"DependencyTest\" as E1  [[psysml:49f03030-de0c-4f13-ba7b-914972c61aaf ]]  {\r\n",
       "package \"System\" as E2  [[psysml:0a123ebf-9907-4602-8f86-a30c7447a6cf ]]  {\r\n",
       "package \"Application Layer\" as E3  [[psysml:fbc620fa-f332-480d-9302-6e81c218d767 ]]  {\r\n",
       "}\r\n",
       "package \"Service Layer\" as E4  [[psysml:426f0663-f125-4848-8cc6-b208ee541f23 ]]  {\r\n",
       "}\r\n",
       "package \"Data Layer\" as E5  [[psysml:fd3440a5-7307-47c9-b63e-e029b0e76f05 ]]  {\r\n",
       "}\r\n",
       "}\r\n",
       "comp usage \"x \" as E6  <<(T,blue) attribute>> [[psysml:0783b658-08bf-4abf-9182-ba1ece255f80 ]] {\r\n",
       "}\r\n",
       "comp usage \"y \" as E7  <<(T,blue) attribute>> [[psysml:00406d55-97a3-4ada-a9d4-67d88ef5929d ]] {\r\n",
       "}\r\n",
       "comp usage \"z \" as E8  <<(T,blue) attribute>> [[psysml:b610c4be-7598-4a50-a285-e23e2912f41a ]] {\r\n",
       "}\r\n",
       "}\r\n",
       "E1 ..> E2 [[psysml:1f214475-93e7-4d57-afd6-304a88df216d ]] : <<import>>*\r\n",
       "E3 ..>> E4 [[psysml:3b6c166c-6961-4bb7-b892-e5bb88ba66d9 ]] : <<depend>>\r\n",
       "E4 ..>> E5 [[psysml:f4ae8342-4685-4b6d-8549-04188d07c1c2 ]] : <<depend>>\r\n",
       "E8 ..>> E6 [[psysml:dd0e7371-702f-42f4-9a28-a8ea46c1187a ]] : <<depend>>\r\n",
       "E8 ..>> E7 [[psysml:dd0e7371-702f-42f4-9a28-a8ea46c1187a ]] : <<depend>>\r\n",
       "@enduml\r\n",
       "\n",
       "PlantUML version 1.2020.13(Sat Jun 13 12:26:38 UTC 2020)\n",
       "(EPL source distribution)\n",
       "Java Runtime: OpenJDK Runtime Environment\n",
       "JVM: OpenJDK 64-Bit Server VM\n",
       "Default Encoding: UTF-8\n",
       "Language: en\n",
       "Country: null\n",
       "--></g></svg>"
      ]
     },
     "execution_count": 5,
     "metadata": {},
     "output_type": "execute_result"
    }
   ],
   "source": [
    "%viz --style=\"COMPTREE\" --view=\"Interconnection\" \"DependencyTest\""
   ]
  },
  {
   "cell_type": "code",
   "execution_count": 6,
   "id": "ce6d1f44",
   "metadata": {
    "execution": {
     "iopub.execute_input": "2022-03-03T09:54:58.519647Z",
     "iopub.status.busy": "2022-03-03T09:54:58.519254Z",
     "iopub.status.idle": "2022-03-03T09:54:58.525808Z",
     "shell.execute_reply": "2022-03-03T09:54:58.526165Z"
    }
   },
   "outputs": [
    {
     "data": {
      "image/svg+xml": [
       "<?xml version=\"1.0\" encoding=\"UTF-8\" standalone=\"no\"?><svg xmlns=\"http://www.w3.org/2000/svg\" xmlns:xlink=\"http://www.w3.org/1999/xlink\" contentScriptType=\"application/ecmascript\" contentStyleType=\"text/css\" height=\"12px\" preserveAspectRatio=\"none\" style=\"width:12px;height:12px;\" version=\"1.1\" viewBox=\"0 0 12 12\" width=\"12px\" zoomAndPan=\"magnify\"><defs/><g><!--MD5=[655b888544ca4751ea36af1068543f84]\n",
       "@startuml\r\n",
       "skinparam ranksep 8\r\n",
       " skinparam monochrome true\r\n",
       "skinparam classbackgroundcolor white\r\n",
       "skinparam shadowing false\r\n",
       "skinparam wrapWidth 300\r\n",
       "hide circle\r\n",
       "\r\n",
       "@enduml\r\n",
       "\n",
       "PlantUML version 1.2020.13(Sat Jun 13 12:26:38 UTC 2020)\n",
       "(EPL source distribution)\n",
       "Java Runtime: OpenJDK Runtime Environment\n",
       "JVM: OpenJDK 64-Bit Server VM\n",
       "Default Encoding: UTF-8\n",
       "Language: en\n",
       "Country: null\n",
       "--></g></svg>"
      ]
     },
     "execution_count": 6,
     "metadata": {},
     "output_type": "execute_result"
    }
   ],
   "source": [
    "%viz --style=\"COMPTREE\" --view=\"Action\" \"DependencyTest\""
   ]
  },
  {
   "cell_type": "code",
   "execution_count": 7,
   "id": "72aba5f3",
   "metadata": {
    "execution": {
     "iopub.execute_input": "2022-03-03T09:54:58.576564Z",
     "iopub.status.busy": "2022-03-03T09:54:58.576114Z",
     "iopub.status.idle": "2022-03-03T09:54:58.588390Z",
     "shell.execute_reply": "2022-03-03T09:54:58.588747Z"
    }
   },
   "outputs": [
    {
     "data": {
      "image/svg+xml": [
       "<?xml version=\"1.0\" encoding=\"UTF-8\" standalone=\"no\"?><svg xmlns=\"http://www.w3.org/2000/svg\" xmlns:xlink=\"http://www.w3.org/1999/xlink\" contentScriptType=\"application/ecmascript\" contentStyleType=\"text/css\" height=\"12px\" preserveAspectRatio=\"none\" style=\"width:12px;height:12px;\" version=\"1.1\" viewBox=\"0 0 12 12\" width=\"12px\" zoomAndPan=\"magnify\"><defs/><g><!--MD5=[803fc46c337be7a5c8a9831e35356779]\n",
       "@startuml\r\n",
       "skinparam roundcorner 20\r\n",
       "skinparam BoxPadding 20\r\n",
       "skinparam SequenceBoxBackgroundColor #white\r\n",
       "skinparam style strictuml\r\n",
       "skinparam maxMessageSize 100\r\n",
       " skinparam monochrome true\r\n",
       "skinparam classbackgroundcolor white\r\n",
       "skinparam shadowing false\r\n",
       "skinparam wrapWidth 300\r\n",
       "hide circle\r\n",
       "\r\n",
       "@enduml\r\n",
       "\n",
       "PlantUML version 1.2020.13(Sat Jun 13 12:26:38 UTC 2020)\n",
       "(EPL source distribution)\n",
       "Java Runtime: OpenJDK Runtime Environment\n",
       "JVM: OpenJDK 64-Bit Server VM\n",
       "Default Encoding: UTF-8\n",
       "Language: en\n",
       "Country: null\n",
       "--></g></svg>"
      ]
     },
     "execution_count": 7,
     "metadata": {},
     "output_type": "execute_result"
    }
   ],
   "source": [
    "%viz --style=\"COMPTREE\" --view=\"Sequence\" \"DependencyTest\""
   ]
  },
  {
   "cell_type": "code",
   "execution_count": 8,
   "id": "a988d991",
   "metadata": {
    "execution": {
     "iopub.execute_input": "2022-03-03T09:54:58.639463Z",
     "iopub.status.busy": "2022-03-03T09:54:58.639009Z",
     "iopub.status.idle": "2022-03-03T09:54:58.681267Z",
     "shell.execute_reply": "2022-03-03T09:54:58.680913Z"
    }
   },
   "outputs": [
    {
     "data": {
      "image/svg+xml": [
       "<?xml version=\"1.0\" encoding=\"UTF-8\" standalone=\"no\"?><svg xmlns=\"http://www.w3.org/2000/svg\" xmlns:xlink=\"http://www.w3.org/1999/xlink\" contentScriptType=\"application/ecmascript\" contentStyleType=\"text/css\" height=\"552px\" preserveAspectRatio=\"none\" style=\"width:536px;height:552px;\" version=\"1.1\" viewBox=\"0 0 536 552\" width=\"536px\" zoomAndPan=\"magnify\"><defs/><g><!--MD5=[fbc87193dbaf4d95561dea2c320d4a47]\n",
       "cluster E1--><a href=\"psysml:49f03030-de0c-4f13-ba7b-914972c61aaf\" target=\"_top\" title=\"psysml:49f03030-de0c-4f13-ba7b-914972c61aaf\" xlink:actuate=\"onRequest\" xlink:href=\"psysml:49f03030-de0c-4f13-ba7b-914972c61aaf\" xlink:show=\"new\" xlink:title=\"psysml:49f03030-de0c-4f13-ba7b-914972c61aaf\" xlink:type=\"simple\"><polygon fill=\"#FFFFFF\" points=\"16,6,142,6,149,28.2969,514,28.2969,514,540.72,16,540.72,16,6\" style=\"stroke: #000000; stroke-width: 1.5;\"/><line style=\"stroke: #000000; stroke-width: 1.5;\" x1=\"16\" x2=\"149\" y1=\"28.2969\" y2=\"28.2969\"/><text fill=\"#000000\" font-family=\"sans-serif\" font-size=\"14\" font-weight=\"bold\" lengthAdjust=\"spacingAndGlyphs\" textLength=\"120\" x=\"20\" y=\"20.9951\">DependencyTest</text></a><!--MD5=[e4f7fae6ed58524ba242bb0b0d3be6b7]\n",
       "cluster E2--><a href=\"psysml:0a123ebf-9907-4602-8f86-a30c7447a6cf\" target=\"_top\" title=\"psysml:0a123ebf-9907-4602-8f86-a30c7447a6cf\" xlink:actuate=\"onRequest\" xlink:href=\"psysml:0a123ebf-9907-4602-8f86-a30c7447a6cf\" xlink:show=\"new\" xlink:title=\"psysml:0a123ebf-9907-4602-8f86-a30c7447a6cf\" xlink:type=\"simple\"><polygon fill=\"#FFFFFF\" points=\"271,120.72,328,120.72,335,143.0169,474,143.0169,474,500.72,271,500.72,271,120.72\" style=\"stroke: #000000; stroke-width: 1.5;\"/><line style=\"stroke: #000000; stroke-width: 1.5;\" x1=\"271\" x2=\"335\" y1=\"143.0169\" y2=\"143.0169\"/><text fill=\"#000000\" font-family=\"sans-serif\" font-size=\"14\" font-weight=\"bold\" lengthAdjust=\"spacingAndGlyphs\" textLength=\"51\" x=\"275\" y=\"135.7151\">System</text></a><!--MD5=[60a26617385b1d2d0262a64233df1f8d]\n",
       "class E6--><a href=\"psysml:0783b658-08bf-4abf-9182-ba1ece255f80\" target=\"_top\" title=\"psysml:0783b658-08bf-4abf-9182-ba1ece255f80\" xlink:actuate=\"onRequest\" xlink:href=\"psysml:0783b658-08bf-4abf-9182-ba1ece255f80\" xlink:show=\"new\" xlink:title=\"psysml:0783b658-08bf-4abf-9182-ba1ece255f80\" xlink:type=\"simple\"><rect fill=\"#FFFFFF\" height=\"45.9375\" id=\"E6\" rx=\"10\" ry=\"10\" style=\"stroke: #383838; stroke-width: 1.5;\" width=\"71\" x=\"40.5\" y=\"297.22\"/><text fill=\"#000000\" font-family=\"sans-serif\" font-size=\"12\" font-style=\"italic\" lengthAdjust=\"spacingAndGlyphs\" textLength=\"69\" x=\"41.5\" y=\"313.3587\">«attribute»</text><text fill=\"#000000\" font-family=\"sans-serif\" font-size=\"12\" lengthAdjust=\"spacingAndGlyphs\" textLength=\"6\" x=\"71\" y=\"327.3274\">x</text><line style=\"stroke: #383838; stroke-width: 1.5;\" x1=\"41.5\" x2=\"110.5\" y1=\"335.1575\" y2=\"335.1575\"/></a><!--MD5=[2156ba9850f5573cc1fc38a6a4b2f02b]\n",
       "class E7--><a href=\"psysml:00406d55-97a3-4ada-a9d4-67d88ef5929d\" target=\"_top\" title=\"psysml:00406d55-97a3-4ada-a9d4-67d88ef5929d\" xlink:actuate=\"onRequest\" xlink:href=\"psysml:00406d55-97a3-4ada-a9d4-67d88ef5929d\" xlink:show=\"new\" xlink:title=\"psysml:00406d55-97a3-4ada-a9d4-67d88ef5929d\" xlink:type=\"simple\"><rect fill=\"#FFFFFF\" height=\"45.9375\" id=\"E7\" rx=\"10\" ry=\"10\" style=\"stroke: #383838; stroke-width: 1.5;\" width=\"71\" x=\"146.5\" y=\"297.22\"/><text fill=\"#000000\" font-family=\"sans-serif\" font-size=\"12\" font-style=\"italic\" lengthAdjust=\"spacingAndGlyphs\" textLength=\"69\" x=\"147.5\" y=\"313.3587\">«attribute»</text><text fill=\"#000000\" font-family=\"sans-serif\" font-size=\"12\" lengthAdjust=\"spacingAndGlyphs\" textLength=\"6\" x=\"177\" y=\"327.3274\">y</text><line style=\"stroke: #383838; stroke-width: 1.5;\" x1=\"147.5\" x2=\"216.5\" y1=\"335.1575\" y2=\"335.1575\"/></a><!--MD5=[b9389687b975829384b498ac4b7476b2]\n",
       "class E8--><a href=\"psysml:b610c4be-7598-4a50-a285-e23e2912f41a\" target=\"_top\" title=\"psysml:b610c4be-7598-4a50-a285-e23e2912f41a\" xlink:actuate=\"onRequest\" xlink:href=\"psysml:b610c4be-7598-4a50-a285-e23e2912f41a\" xlink:show=\"new\" xlink:title=\"psysml:b610c4be-7598-4a50-a285-e23e2912f41a\" xlink:type=\"simple\"><rect fill=\"#FFFFFF\" height=\"45.9375\" id=\"E8\" rx=\"10\" ry=\"10\" style=\"stroke: #383838; stroke-width: 1.5;\" width=\"71\" x=\"92.5\" y=\"167.22\"/><text fill=\"#000000\" font-family=\"sans-serif\" font-size=\"12\" font-style=\"italic\" lengthAdjust=\"spacingAndGlyphs\" textLength=\"69\" x=\"93.5\" y=\"183.3587\">«attribute»</text><text fill=\"#000000\" font-family=\"sans-serif\" font-size=\"12\" lengthAdjust=\"spacingAndGlyphs\" textLength=\"5\" x=\"123.5\" y=\"197.3274\">z</text><line style=\"stroke: #383838; stroke-width: 1.5;\" x1=\"93.5\" x2=\"162.5\" y1=\"205.1575\" y2=\"205.1575\"/></a><a href=\"psysml:fbc620fa-f332-480d-9302-6e81c218d767\" target=\"_top\" title=\"psysml:fbc620fa-f332-480d-9302-6e81c218d767\" xlink:actuate=\"onRequest\" xlink:href=\"psysml:fbc620fa-f332-480d-9302-6e81c218d767\" xlink:show=\"new\" xlink:title=\"psysml:fbc620fa-f332-480d-9302-6e81c218d767\" xlink:type=\"simple\"><polygon fill=\"#FFFFFF\" points=\"314.5,163.72,435.5,163.72,442.5,186.0169,449.5,186.0169,449.5,216.3138,314.5,216.3138,314.5,163.72\" style=\"stroke: #000000; stroke-width: 1.5;\"/><line style=\"stroke: #000000; stroke-width: 1.5;\" x1=\"314.5\" x2=\"442.5\" y1=\"186.0169\" y2=\"186.0169\"/><text fill=\"#000000\" font-family=\"sans-serif\" font-size=\"14\" font-weight=\"bold\" lengthAdjust=\"spacingAndGlyphs\" textLength=\"115\" x=\"318.5\" y=\"178.7151\">Application Layer</text></a><a href=\"psysml:426f0663-f125-4848-8cc6-b208ee541f23\" target=\"_top\" title=\"psysml:426f0663-f125-4848-8cc6-b208ee541f23\" xlink:actuate=\"onRequest\" xlink:href=\"psysml:426f0663-f125-4848-8cc6-b208ee541f23\" xlink:show=\"new\" xlink:title=\"psysml:426f0663-f125-4848-8cc6-b208ee541f23\" xlink:type=\"simple\"><polygon fill=\"#FFFFFF\" points=\"327,293.72,423,293.72,430,316.0169,437,316.0169,437,346.3138,327,346.3138,327,293.72\" style=\"stroke: #000000; stroke-width: 1.5;\"/><line style=\"stroke: #000000; stroke-width: 1.5;\" x1=\"327\" x2=\"430\" y1=\"316.0169\" y2=\"316.0169\"/><text fill=\"#000000\" font-family=\"sans-serif\" font-size=\"14\" font-weight=\"bold\" lengthAdjust=\"spacingAndGlyphs\" textLength=\"90\" x=\"331\" y=\"308.7151\">Service Layer</text></a><a href=\"psysml:fd3440a5-7307-47c9-b63e-e029b0e76f05\" target=\"_top\" title=\"psysml:fd3440a5-7307-47c9-b63e-e029b0e76f05\" xlink:actuate=\"onRequest\" xlink:href=\"psysml:fd3440a5-7307-47c9-b63e-e029b0e76f05\" xlink:show=\"new\" xlink:title=\"psysml:fd3440a5-7307-47c9-b63e-e029b0e76f05\" xlink:type=\"simple\"><polygon fill=\"#FFFFFF\" points=\"336,423.72,414,423.72,421,446.0169,428,446.0169,428,476.3138,336,476.3138,336,423.72\" style=\"stroke: #000000; stroke-width: 1.5;\"/><line style=\"stroke: #000000; stroke-width: 1.5;\" x1=\"336\" x2=\"421\" y1=\"446.0169\" y2=\"446.0169\"/><text fill=\"#000000\" font-family=\"sans-serif\" font-size=\"14\" font-weight=\"bold\" lengthAdjust=\"spacingAndGlyphs\" textLength=\"72\" x=\"340\" y=\"438.7151\">Data Layer</text></a><!--MD5=[1f1cd8e6dd4c1b2ca2aaccc9b9bcea6e]\n",
       "link E1 to E2--><a href=\"psysml:1f214475-93e7-4d57-afd6-304a88df216d\" target=\"_top\" title=\"psysml:1f214475-93e7-4d57-afd6-304a88df216d\" xlink:actuate=\"onRequest\" xlink:href=\"psysml:1f214475-93e7-4d57-afd6-304a88df216d\" xlink:show=\"new\" xlink:title=\"psysml:1f214475-93e7-4d57-afd6-304a88df216d\" xlink:type=\"simple\"><path d=\"M279,33.83 C279,36.15 279,73.83 279,111.5 C279,113.8544 279,116.2087 279,118.5544 C279,119.1408 279,119.7267 279,120.3119 \" fill=\"none\" id=\"E1-&gt;E2\" style=\"stroke: #383838; stroke-width: 1.0; stroke-dasharray: 7.0,7.0;\"/><polygon fill=\"#383838\" points=\"279,120.3119,283,111.3119,279,115.3119,275,111.3119,279,120.3119\" style=\"stroke: #383838; stroke-width: 1.0;\"/><text fill=\"#000000\" font-family=\"sans-serif\" font-size=\"13\" lengthAdjust=\"spacingAndGlyphs\" textLength=\"65\" x=\"280\" y=\"76.7869\">«import»*</text></a><!--MD5=[af87c684e3b0d8be13c1a698a818ef1e]\n",
       "link E3 to E4--><a href=\"psysml:3b6c166c-6961-4bb7-b892-e5bb88ba66d9\" target=\"_top\" title=\"psysml:3b6c166c-6961-4bb7-b892-e5bb88ba66d9\" xlink:actuate=\"onRequest\" xlink:href=\"psysml:3b6c166c-6961-4bb7-b892-e5bb88ba66d9\" xlink:show=\"new\" xlink:title=\"psysml:3b6c166c-6961-4bb7-b892-e5bb88ba66d9\" xlink:type=\"simple\"><path d=\"M382,216.82 C382,236.52 382,263.94 382,285.45 \" fill=\"none\" id=\"E3-&gt;E4\" style=\"stroke: #383838; stroke-width: 1.0; stroke-dasharray: 7.0,7.0;\"/><polygon fill=\"#383838\" points=\"382,293.67,385,285.67,379,285.67,382,293.67\" style=\"stroke: #383838; stroke-width: 1.0;\"/><text fill=\"#000000\" font-family=\"sans-serif\" font-size=\"13\" lengthAdjust=\"spacingAndGlyphs\" textLength=\"64\" x=\"383\" y=\"259.7869\">«depend»</text></a><!--MD5=[1b7591eae5389033d8d09a9d6721a717]\n",
       "link E4 to E5--><a href=\"psysml:f4ae8342-4685-4b6d-8549-04188d07c1c2\" target=\"_top\" title=\"psysml:f4ae8342-4685-4b6d-8549-04188d07c1c2\" xlink:actuate=\"onRequest\" xlink:href=\"psysml:f4ae8342-4685-4b6d-8549-04188d07c1c2\" xlink:show=\"new\" xlink:title=\"psysml:f4ae8342-4685-4b6d-8549-04188d07c1c2\" xlink:type=\"simple\"><path d=\"M382,346.82 C382,366.52 382,393.94 382,415.45 \" fill=\"none\" id=\"E4-&gt;E5\" style=\"stroke: #383838; stroke-width: 1.0; stroke-dasharray: 7.0,7.0;\"/><polygon fill=\"#383838\" points=\"382,423.67,385,415.67,379,415.67,382,423.67\" style=\"stroke: #383838; stroke-width: 1.0;\"/><text fill=\"#000000\" font-family=\"sans-serif\" font-size=\"13\" lengthAdjust=\"spacingAndGlyphs\" textLength=\"64\" x=\"383\" y=\"389.7869\">«depend»</text></a><!--MD5=[c5e8897d989ce984f93528998a7150fe]\n",
       "link E8 to E6--><a href=\"psysml:dd0e7371-702f-42f4-9a28-a8ea46c1187a\" target=\"_top\" title=\"psysml:dd0e7371-702f-42f4-9a28-a8ea46c1187a\" xlink:actuate=\"onRequest\" xlink:href=\"psysml:dd0e7371-702f-42f4-9a28-a8ea46c1187a\" xlink:show=\"new\" xlink:title=\"psysml:dd0e7371-702f-42f4-9a28-a8ea46c1187a\" xlink:type=\"simple\"><path d=\"M97.42,213.32 C87.35,222.4 77.37,233.83 72,246.72 C66.5,259.92 66.66,275.66 68.54,289.1 \" fill=\"none\" id=\"E8-&gt;E6\" style=\"stroke: #383838; stroke-width: 1.0; stroke-dasharray: 7.0,7.0;\"/><polygon fill=\"#383838\" points=\"69.9,297.12,71.517,288.7304,65.6018,289.7359,69.9,297.12\" style=\"stroke: #383838; stroke-width: 1.0;\"/><text fill=\"#000000\" font-family=\"sans-serif\" font-size=\"13\" lengthAdjust=\"spacingAndGlyphs\" textLength=\"64\" x=\"73\" y=\"259.7869\">«depend»</text></a><!--MD5=[bfa3c8b0d15052fdf50ae9310b491027]\n",
       "link E8 to E7--><a href=\"psysml:dd0e7371-702f-42f4-9a28-a8ea46c1187a\" target=\"_top\" title=\"psysml:dd0e7371-702f-42f4-9a28-a8ea46c1187a\" xlink:actuate=\"onRequest\" xlink:href=\"psysml:dd0e7371-702f-42f4-9a28-a8ea46c1187a\" xlink:show=\"new\" xlink:title=\"psysml:dd0e7371-702f-42f4-9a28-a8ea46c1187a\" xlink:type=\"simple\"><path d=\"M137.28,213.22 C146.17,234.29 159.64,266.22 169.47,289.53 \" fill=\"none\" id=\"E8-&gt;E7\" style=\"stroke: #383838; stroke-width: 1.0; stroke-dasharray: 7.0,7.0;\"/><polygon fill=\"#383838\" points=\"172.66,297.07,172.3241,288.5326,166.7933,290.8585,172.66,297.07\" style=\"stroke: #383838; stroke-width: 1.0;\"/><text fill=\"#000000\" font-family=\"sans-serif\" font-size=\"13\" lengthAdjust=\"spacingAndGlyphs\" textLength=\"64\" x=\"159\" y=\"259.7869\">«depend»</text></a><!--MD5=[f2b0bd452bcae1d590676fb48b5f8ef4]\n",
       "@startuml\r\n",
       " skinparam monochrome true\r\n",
       "skinparam classbackgroundcolor white\r\n",
       "skinparam shadowing false\r\n",
       "skinparam wrapWidth 300\r\n",
       "hide circle\r\n",
       "\r\n",
       "package \"DependencyTest\" as E1  [[psysml:49f03030-de0c-4f13-ba7b-914972c61aaf ]]  {\r\n",
       "package \"System\" as E2  [[psysml:0a123ebf-9907-4602-8f86-a30c7447a6cf ]]  {\r\n",
       "package \"Application Layer\" as E3  [[psysml:fbc620fa-f332-480d-9302-6e81c218d767 ]]  {\r\n",
       "}\r\n",
       "package \"Service Layer\" as E4  [[psysml:426f0663-f125-4848-8cc6-b208ee541f23 ]]  {\r\n",
       "}\r\n",
       "package \"Data Layer\" as E5  [[psysml:fd3440a5-7307-47c9-b63e-e029b0e76f05 ]]  {\r\n",
       "}\r\n",
       "}\r\n",
       "comp usage \"x \" as E6  <<(T,blue) attribute>> [[psysml:0783b658-08bf-4abf-9182-ba1ece255f80 ]] {\r\n",
       "}\r\n",
       "comp usage \"y \" as E7  <<(T,blue) attribute>> [[psysml:00406d55-97a3-4ada-a9d4-67d88ef5929d ]] {\r\n",
       "}\r\n",
       "comp usage \"z \" as E8  <<(T,blue) attribute>> [[psysml:b610c4be-7598-4a50-a285-e23e2912f41a ]] {\r\n",
       "}\r\n",
       "}\r\n",
       "E1 ..> E2 [[psysml:1f214475-93e7-4d57-afd6-304a88df216d ]] : <<import>>*\r\n",
       "E3 ..>> E4 [[psysml:3b6c166c-6961-4bb7-b892-e5bb88ba66d9 ]] : <<depend>>\r\n",
       "E4 ..>> E5 [[psysml:f4ae8342-4685-4b6d-8549-04188d07c1c2 ]] : <<depend>>\r\n",
       "E8 ..>> E6 [[psysml:dd0e7371-702f-42f4-9a28-a8ea46c1187a ]] : <<depend>>\r\n",
       "E8 ..>> E7 [[psysml:dd0e7371-702f-42f4-9a28-a8ea46c1187a ]] : <<depend>>\r\n",
       "@enduml\r\n",
       "\n",
       "PlantUML version 1.2020.13(Sat Jun 13 12:26:38 UTC 2020)\n",
       "(EPL source distribution)\n",
       "Java Runtime: OpenJDK Runtime Environment\n",
       "JVM: OpenJDK 64-Bit Server VM\n",
       "Default Encoding: UTF-8\n",
       "Language: en\n",
       "Country: null\n",
       "--></g></svg>"
      ]
     },
     "execution_count": 8,
     "metadata": {},
     "output_type": "execute_result"
    }
   ],
   "source": [
    "%viz --style=\"COMPTREE\" --view=\"MIXED\" \"DependencyTest\""
   ]
  },
  {
   "cell_type": "code",
   "execution_count": 9,
   "id": "e9fde376",
   "metadata": {
    "execution": {
     "iopub.execute_input": "2022-03-03T09:54:58.731036Z",
     "iopub.status.busy": "2022-03-03T09:54:58.730623Z",
     "iopub.status.idle": "2022-03-03T09:54:58.792875Z",
     "shell.execute_reply": "2022-03-03T09:54:58.791498Z"
    }
   },
   "outputs": [
    {
     "data": {
      "image/svg+xml": [
       "<?xml version=\"1.0\" encoding=\"UTF-8\" standalone=\"no\"?><svg xmlns=\"http://www.w3.org/2000/svg\" xmlns:xlink=\"http://www.w3.org/1999/xlink\" contentScriptType=\"application/ecmascript\" contentStyleType=\"text/css\" height=\"552px\" preserveAspectRatio=\"none\" style=\"width:536px;height:552px;\" version=\"1.1\" viewBox=\"0 0 536 552\" width=\"536px\" zoomAndPan=\"magnify\"><defs/><g><!--MD5=[fbc87193dbaf4d95561dea2c320d4a47]\n",
       "cluster E1--><a href=\"psysml:49f03030-de0c-4f13-ba7b-914972c61aaf\" target=\"_top\" title=\"psysml:49f03030-de0c-4f13-ba7b-914972c61aaf\" xlink:actuate=\"onRequest\" xlink:href=\"psysml:49f03030-de0c-4f13-ba7b-914972c61aaf\" xlink:show=\"new\" xlink:title=\"psysml:49f03030-de0c-4f13-ba7b-914972c61aaf\" xlink:type=\"simple\"><polygon fill=\"#FFFFFF\" points=\"16,6,142,6,149,28.2969,514,28.2969,514,540.72,16,540.72,16,6\" style=\"stroke: #000000; stroke-width: 1.5;\"/><line style=\"stroke: #000000; stroke-width: 1.5;\" x1=\"16\" x2=\"149\" y1=\"28.2969\" y2=\"28.2969\"/><text fill=\"#000000\" font-family=\"sans-serif\" font-size=\"14\" font-weight=\"bold\" lengthAdjust=\"spacingAndGlyphs\" textLength=\"120\" x=\"20\" y=\"20.9951\">DependencyTest</text></a><!--MD5=[e4f7fae6ed58524ba242bb0b0d3be6b7]\n",
       "cluster E2--><a href=\"psysml:0a123ebf-9907-4602-8f86-a30c7447a6cf\" target=\"_top\" title=\"psysml:0a123ebf-9907-4602-8f86-a30c7447a6cf\" xlink:actuate=\"onRequest\" xlink:href=\"psysml:0a123ebf-9907-4602-8f86-a30c7447a6cf\" xlink:show=\"new\" xlink:title=\"psysml:0a123ebf-9907-4602-8f86-a30c7447a6cf\" xlink:type=\"simple\"><polygon fill=\"#FFFFFF\" points=\"271,120.72,328,120.72,335,143.0169,474,143.0169,474,500.72,271,500.72,271,120.72\" style=\"stroke: #000000; stroke-width: 1.5;\"/><line style=\"stroke: #000000; stroke-width: 1.5;\" x1=\"271\" x2=\"335\" y1=\"143.0169\" y2=\"143.0169\"/><text fill=\"#000000\" font-family=\"sans-serif\" font-size=\"14\" font-weight=\"bold\" lengthAdjust=\"spacingAndGlyphs\" textLength=\"51\" x=\"275\" y=\"135.7151\">System</text></a><!--MD5=[60a26617385b1d2d0262a64233df1f8d]\n",
       "class E6--><a href=\"psysml:0783b658-08bf-4abf-9182-ba1ece255f80\" target=\"_top\" title=\"psysml:0783b658-08bf-4abf-9182-ba1ece255f80\" xlink:actuate=\"onRequest\" xlink:href=\"psysml:0783b658-08bf-4abf-9182-ba1ece255f80\" xlink:show=\"new\" xlink:title=\"psysml:0783b658-08bf-4abf-9182-ba1ece255f80\" xlink:type=\"simple\"><rect fill=\"#FFFFFF\" height=\"45.9375\" id=\"E6\" rx=\"10\" ry=\"10\" style=\"stroke: #383838; stroke-width: 1.5;\" width=\"71\" x=\"40.5\" y=\"297.22\"/><text fill=\"#000000\" font-family=\"sans-serif\" font-size=\"12\" font-style=\"italic\" lengthAdjust=\"spacingAndGlyphs\" textLength=\"69\" x=\"41.5\" y=\"313.3587\">«attribute»</text><text fill=\"#000000\" font-family=\"sans-serif\" font-size=\"12\" lengthAdjust=\"spacingAndGlyphs\" textLength=\"6\" x=\"71\" y=\"327.3274\">x</text><line style=\"stroke: #383838; stroke-width: 1.5;\" x1=\"41.5\" x2=\"110.5\" y1=\"335.1575\" y2=\"335.1575\"/></a><!--MD5=[2156ba9850f5573cc1fc38a6a4b2f02b]\n",
       "class E7--><a href=\"psysml:00406d55-97a3-4ada-a9d4-67d88ef5929d\" target=\"_top\" title=\"psysml:00406d55-97a3-4ada-a9d4-67d88ef5929d\" xlink:actuate=\"onRequest\" xlink:href=\"psysml:00406d55-97a3-4ada-a9d4-67d88ef5929d\" xlink:show=\"new\" xlink:title=\"psysml:00406d55-97a3-4ada-a9d4-67d88ef5929d\" xlink:type=\"simple\"><rect fill=\"#FFFFFF\" height=\"45.9375\" id=\"E7\" rx=\"10\" ry=\"10\" style=\"stroke: #383838; stroke-width: 1.5;\" width=\"71\" x=\"146.5\" y=\"297.22\"/><text fill=\"#000000\" font-family=\"sans-serif\" font-size=\"12\" font-style=\"italic\" lengthAdjust=\"spacingAndGlyphs\" textLength=\"69\" x=\"147.5\" y=\"313.3587\">«attribute»</text><text fill=\"#000000\" font-family=\"sans-serif\" font-size=\"12\" lengthAdjust=\"spacingAndGlyphs\" textLength=\"6\" x=\"177\" y=\"327.3274\">y</text><line style=\"stroke: #383838; stroke-width: 1.5;\" x1=\"147.5\" x2=\"216.5\" y1=\"335.1575\" y2=\"335.1575\"/></a><!--MD5=[b9389687b975829384b498ac4b7476b2]\n",
       "class E8--><a href=\"psysml:b610c4be-7598-4a50-a285-e23e2912f41a\" target=\"_top\" title=\"psysml:b610c4be-7598-4a50-a285-e23e2912f41a\" xlink:actuate=\"onRequest\" xlink:href=\"psysml:b610c4be-7598-4a50-a285-e23e2912f41a\" xlink:show=\"new\" xlink:title=\"psysml:b610c4be-7598-4a50-a285-e23e2912f41a\" xlink:type=\"simple\"><rect fill=\"#FFFFFF\" height=\"45.9375\" id=\"E8\" rx=\"10\" ry=\"10\" style=\"stroke: #383838; stroke-width: 1.5;\" width=\"71\" x=\"92.5\" y=\"167.22\"/><text fill=\"#000000\" font-family=\"sans-serif\" font-size=\"12\" font-style=\"italic\" lengthAdjust=\"spacingAndGlyphs\" textLength=\"69\" x=\"93.5\" y=\"183.3587\">«attribute»</text><text fill=\"#000000\" font-family=\"sans-serif\" font-size=\"12\" lengthAdjust=\"spacingAndGlyphs\" textLength=\"5\" x=\"123.5\" y=\"197.3274\">z</text><line style=\"stroke: #383838; stroke-width: 1.5;\" x1=\"93.5\" x2=\"162.5\" y1=\"205.1575\" y2=\"205.1575\"/></a><a href=\"psysml:fbc620fa-f332-480d-9302-6e81c218d767\" target=\"_top\" title=\"psysml:fbc620fa-f332-480d-9302-6e81c218d767\" xlink:actuate=\"onRequest\" xlink:href=\"psysml:fbc620fa-f332-480d-9302-6e81c218d767\" xlink:show=\"new\" xlink:title=\"psysml:fbc620fa-f332-480d-9302-6e81c218d767\" xlink:type=\"simple\"><polygon fill=\"#FFFFFF\" points=\"314.5,163.72,435.5,163.72,442.5,186.0169,449.5,186.0169,449.5,216.3138,314.5,216.3138,314.5,163.72\" style=\"stroke: #000000; stroke-width: 1.5;\"/><line style=\"stroke: #000000; stroke-width: 1.5;\" x1=\"314.5\" x2=\"442.5\" y1=\"186.0169\" y2=\"186.0169\"/><text fill=\"#000000\" font-family=\"sans-serif\" font-size=\"14\" font-weight=\"bold\" lengthAdjust=\"spacingAndGlyphs\" textLength=\"115\" x=\"318.5\" y=\"178.7151\">Application Layer</text></a><a href=\"psysml:426f0663-f125-4848-8cc6-b208ee541f23\" target=\"_top\" title=\"psysml:426f0663-f125-4848-8cc6-b208ee541f23\" xlink:actuate=\"onRequest\" xlink:href=\"psysml:426f0663-f125-4848-8cc6-b208ee541f23\" xlink:show=\"new\" xlink:title=\"psysml:426f0663-f125-4848-8cc6-b208ee541f23\" xlink:type=\"simple\"><polygon fill=\"#FFFFFF\" points=\"327,293.72,423,293.72,430,316.0169,437,316.0169,437,346.3138,327,346.3138,327,293.72\" style=\"stroke: #000000; stroke-width: 1.5;\"/><line style=\"stroke: #000000; stroke-width: 1.5;\" x1=\"327\" x2=\"430\" y1=\"316.0169\" y2=\"316.0169\"/><text fill=\"#000000\" font-family=\"sans-serif\" font-size=\"14\" font-weight=\"bold\" lengthAdjust=\"spacingAndGlyphs\" textLength=\"90\" x=\"331\" y=\"308.7151\">Service Layer</text></a><a href=\"psysml:fd3440a5-7307-47c9-b63e-e029b0e76f05\" target=\"_top\" title=\"psysml:fd3440a5-7307-47c9-b63e-e029b0e76f05\" xlink:actuate=\"onRequest\" xlink:href=\"psysml:fd3440a5-7307-47c9-b63e-e029b0e76f05\" xlink:show=\"new\" xlink:title=\"psysml:fd3440a5-7307-47c9-b63e-e029b0e76f05\" xlink:type=\"simple\"><polygon fill=\"#FFFFFF\" points=\"336,423.72,414,423.72,421,446.0169,428,446.0169,428,476.3138,336,476.3138,336,423.72\" style=\"stroke: #000000; stroke-width: 1.5;\"/><line style=\"stroke: #000000; stroke-width: 1.5;\" x1=\"336\" x2=\"421\" y1=\"446.0169\" y2=\"446.0169\"/><text fill=\"#000000\" font-family=\"sans-serif\" font-size=\"14\" font-weight=\"bold\" lengthAdjust=\"spacingAndGlyphs\" textLength=\"72\" x=\"340\" y=\"438.7151\">Data Layer</text></a><!--MD5=[1f1cd8e6dd4c1b2ca2aaccc9b9bcea6e]\n",
       "link E1 to E2--><a href=\"psysml:1f214475-93e7-4d57-afd6-304a88df216d\" target=\"_top\" title=\"psysml:1f214475-93e7-4d57-afd6-304a88df216d\" xlink:actuate=\"onRequest\" xlink:href=\"psysml:1f214475-93e7-4d57-afd6-304a88df216d\" xlink:show=\"new\" xlink:title=\"psysml:1f214475-93e7-4d57-afd6-304a88df216d\" xlink:type=\"simple\"><path d=\"M279,33.83 C279,36.15 279,73.83 279,111.5 C279,113.8544 279,116.2087 279,118.5544 C279,119.1408 279,119.7267 279,120.3119 \" fill=\"none\" id=\"E1-&gt;E2\" style=\"stroke: #383838; stroke-width: 1.0; stroke-dasharray: 7.0,7.0;\"/><polygon fill=\"#383838\" points=\"279,120.3119,283,111.3119,279,115.3119,275,111.3119,279,120.3119\" style=\"stroke: #383838; stroke-width: 1.0;\"/><text fill=\"#000000\" font-family=\"sans-serif\" font-size=\"13\" lengthAdjust=\"spacingAndGlyphs\" textLength=\"65\" x=\"280\" y=\"76.7869\">«import»*</text></a><!--MD5=[af87c684e3b0d8be13c1a698a818ef1e]\n",
       "link E3 to E4--><a href=\"psysml:3b6c166c-6961-4bb7-b892-e5bb88ba66d9\" target=\"_top\" title=\"psysml:3b6c166c-6961-4bb7-b892-e5bb88ba66d9\" xlink:actuate=\"onRequest\" xlink:href=\"psysml:3b6c166c-6961-4bb7-b892-e5bb88ba66d9\" xlink:show=\"new\" xlink:title=\"psysml:3b6c166c-6961-4bb7-b892-e5bb88ba66d9\" xlink:type=\"simple\"><path d=\"M382,216.82 C382,236.52 382,263.94 382,285.45 \" fill=\"none\" id=\"E3-&gt;E4\" style=\"stroke: #383838; stroke-width: 1.0; stroke-dasharray: 7.0,7.0;\"/><polygon fill=\"#383838\" points=\"382,293.67,385,285.67,379,285.67,382,293.67\" style=\"stroke: #383838; stroke-width: 1.0;\"/><text fill=\"#000000\" font-family=\"sans-serif\" font-size=\"13\" lengthAdjust=\"spacingAndGlyphs\" textLength=\"64\" x=\"383\" y=\"259.7869\">«depend»</text></a><!--MD5=[1b7591eae5389033d8d09a9d6721a717]\n",
       "link E4 to E5--><a href=\"psysml:f4ae8342-4685-4b6d-8549-04188d07c1c2\" target=\"_top\" title=\"psysml:f4ae8342-4685-4b6d-8549-04188d07c1c2\" xlink:actuate=\"onRequest\" xlink:href=\"psysml:f4ae8342-4685-4b6d-8549-04188d07c1c2\" xlink:show=\"new\" xlink:title=\"psysml:f4ae8342-4685-4b6d-8549-04188d07c1c2\" xlink:type=\"simple\"><path d=\"M382,346.82 C382,366.52 382,393.94 382,415.45 \" fill=\"none\" id=\"E4-&gt;E5\" style=\"stroke: #383838; stroke-width: 1.0; stroke-dasharray: 7.0,7.0;\"/><polygon fill=\"#383838\" points=\"382,423.67,385,415.67,379,415.67,382,423.67\" style=\"stroke: #383838; stroke-width: 1.0;\"/><text fill=\"#000000\" font-family=\"sans-serif\" font-size=\"13\" lengthAdjust=\"spacingAndGlyphs\" textLength=\"64\" x=\"383\" y=\"389.7869\">«depend»</text></a><!--MD5=[c5e8897d989ce984f93528998a7150fe]\n",
       "link E8 to E6--><a href=\"psysml:dd0e7371-702f-42f4-9a28-a8ea46c1187a\" target=\"_top\" title=\"psysml:dd0e7371-702f-42f4-9a28-a8ea46c1187a\" xlink:actuate=\"onRequest\" xlink:href=\"psysml:dd0e7371-702f-42f4-9a28-a8ea46c1187a\" xlink:show=\"new\" xlink:title=\"psysml:dd0e7371-702f-42f4-9a28-a8ea46c1187a\" xlink:type=\"simple\"><path d=\"M105.55,213.47 C89.97,228.91 72,246.72 72,246.72 C72,246.72 72,263.72 72,263.72 C72,263.72 72.88,275.93 73.81,288.9 \" fill=\"none\" id=\"E8-&gt;E6\" style=\"stroke: #383838; stroke-width: 1.0; stroke-dasharray: 7.0,7.0;\"/><polygon fill=\"#383838\" points=\"74.4,296.97,76.8203,288.776,70.8357,289.205,74.4,296.97\" style=\"stroke: #383838; stroke-width: 1.0;\"/><text fill=\"#000000\" font-family=\"sans-serif\" font-size=\"13\" lengthAdjust=\"spacingAndGlyphs\" textLength=\"64\" x=\"73\" y=\"259.7869\">«depend»</text></a><!--MD5=[bfa3c8b0d15052fdf50ae9310b491027]\n",
       "link E8 to E7--><a href=\"psysml:dd0e7371-702f-42f4-9a28-a8ea46c1187a\" target=\"_top\" title=\"psysml:dd0e7371-702f-42f4-9a28-a8ea46c1187a\" xlink:actuate=\"onRequest\" xlink:href=\"psysml:dd0e7371-702f-42f4-9a28-a8ea46c1187a\" xlink:show=\"new\" xlink:title=\"psysml:dd0e7371-702f-42f4-9a28-a8ea46c1187a\" xlink:type=\"simple\"><path d=\"M137.28,213.22 C146.17,234.29 159.64,266.22 169.47,289.53 \" fill=\"none\" id=\"E8-&gt;E7\" style=\"stroke: #383838; stroke-width: 1.0; stroke-dasharray: 7.0,7.0;\"/><polygon fill=\"#383838\" points=\"172.66,297.07,172.3241,288.5326,166.7933,290.8585,172.66,297.07\" style=\"stroke: #383838; stroke-width: 1.0;\"/><text fill=\"#000000\" font-family=\"sans-serif\" font-size=\"13\" lengthAdjust=\"spacingAndGlyphs\" textLength=\"64\" x=\"159\" y=\"259.7869\">«depend»</text></a><!--MD5=[b64e93d11293ca028b3d2d29a7184943]\n",
       "@startuml\r\n",
       "skinparam linetype polyline\r\n",
       "skinparam monochrome true\r\n",
       "skinparam classbackgroundcolor white\r\n",
       "skinparam shadowing false\r\n",
       "skinparam wrapWidth 300\r\n",
       "hide circle\r\n",
       "\r\n",
       "package \"DependencyTest\" as E1  [[psysml:49f03030-de0c-4f13-ba7b-914972c61aaf ]]  {\r\n",
       "package \"System\" as E2  [[psysml:0a123ebf-9907-4602-8f86-a30c7447a6cf ]]  {\r\n",
       "package \"Application Layer\" as E3  [[psysml:fbc620fa-f332-480d-9302-6e81c218d767 ]]  {\r\n",
       "}\r\n",
       "package \"Service Layer\" as E4  [[psysml:426f0663-f125-4848-8cc6-b208ee541f23 ]]  {\r\n",
       "}\r\n",
       "package \"Data Layer\" as E5  [[psysml:fd3440a5-7307-47c9-b63e-e029b0e76f05 ]]  {\r\n",
       "}\r\n",
       "}\r\n",
       "comp usage \"x \" as E6  <<(T,blue) attribute>> [[psysml:0783b658-08bf-4abf-9182-ba1ece255f80 ]] {\r\n",
       "}\r\n",
       "comp usage \"y \" as E7  <<(T,blue) attribute>> [[psysml:00406d55-97a3-4ada-a9d4-67d88ef5929d ]] {\r\n",
       "}\r\n",
       "comp usage \"z \" as E8  <<(T,blue) attribute>> [[psysml:b610c4be-7598-4a50-a285-e23e2912f41a ]] {\r\n",
       "}\r\n",
       "}\r\n",
       "E1 ..> E2 [[psysml:1f214475-93e7-4d57-afd6-304a88df216d ]] : <<import>>*\r\n",
       "E3 ..>> E4 [[psysml:3b6c166c-6961-4bb7-b892-e5bb88ba66d9 ]] : <<depend>>\r\n",
       "E4 ..>> E5 [[psysml:f4ae8342-4685-4b6d-8549-04188d07c1c2 ]] : <<depend>>\r\n",
       "E8 ..>> E6 [[psysml:dd0e7371-702f-42f4-9a28-a8ea46c1187a ]] : <<depend>>\r\n",
       "E8 ..>> E7 [[psysml:dd0e7371-702f-42f4-9a28-a8ea46c1187a ]] : <<depend>>\r\n",
       "@enduml\r\n",
       "\n",
       "PlantUML version 1.2020.13(Sat Jun 13 12:26:38 UTC 2020)\n",
       "(EPL source distribution)\n",
       "Java Runtime: OpenJDK Runtime Environment\n",
       "JVM: OpenJDK 64-Bit Server VM\n",
       "Default Encoding: UTF-8\n",
       "Language: en\n",
       "Country: null\n",
       "--></g></svg>"
      ]
     },
     "execution_count": 9,
     "metadata": {},
     "output_type": "execute_result"
    }
   ],
   "source": [
    "%viz --style=\"POLYLINE\" --view=\"Default\" \"DependencyTest\""
   ]
  },
  {
   "cell_type": "code",
   "execution_count": 10,
   "id": "b60dc237",
   "metadata": {
    "execution": {
     "iopub.execute_input": "2022-03-03T09:54:58.842728Z",
     "iopub.status.busy": "2022-03-03T09:54:58.842300Z",
     "iopub.status.idle": "2022-03-03T09:54:58.871354Z",
     "shell.execute_reply": "2022-03-03T09:54:58.870004Z"
    }
   },
   "outputs": [
    {
     "data": {
      "image/svg+xml": [
       "<?xml version=\"1.0\" encoding=\"UTF-8\" standalone=\"no\"?><svg xmlns=\"http://www.w3.org/2000/svg\" xmlns:xlink=\"http://www.w3.org/1999/xlink\" contentScriptType=\"application/ecmascript\" contentStyleType=\"text/css\" height=\"552px\" preserveAspectRatio=\"none\" style=\"width:536px;height:552px;\" version=\"1.1\" viewBox=\"0 0 536 552\" width=\"536px\" zoomAndPan=\"magnify\"><defs/><g><!--MD5=[fbc87193dbaf4d95561dea2c320d4a47]\n",
       "cluster E1--><a href=\"psysml:49f03030-de0c-4f13-ba7b-914972c61aaf\" target=\"_top\" title=\"psysml:49f03030-de0c-4f13-ba7b-914972c61aaf\" xlink:actuate=\"onRequest\" xlink:href=\"psysml:49f03030-de0c-4f13-ba7b-914972c61aaf\" xlink:show=\"new\" xlink:title=\"psysml:49f03030-de0c-4f13-ba7b-914972c61aaf\" xlink:type=\"simple\"><polygon fill=\"#FFFFFF\" points=\"16,6,142,6,149,28.2969,514,28.2969,514,540.72,16,540.72,16,6\" style=\"stroke: #000000; stroke-width: 1.5;\"/><line style=\"stroke: #000000; stroke-width: 1.5;\" x1=\"16\" x2=\"149\" y1=\"28.2969\" y2=\"28.2969\"/><text fill=\"#000000\" font-family=\"sans-serif\" font-size=\"14\" font-weight=\"bold\" lengthAdjust=\"spacingAndGlyphs\" textLength=\"120\" x=\"20\" y=\"20.9951\">DependencyTest</text></a><!--MD5=[e4f7fae6ed58524ba242bb0b0d3be6b7]\n",
       "cluster E2--><a href=\"psysml:0a123ebf-9907-4602-8f86-a30c7447a6cf\" target=\"_top\" title=\"psysml:0a123ebf-9907-4602-8f86-a30c7447a6cf\" xlink:actuate=\"onRequest\" xlink:href=\"psysml:0a123ebf-9907-4602-8f86-a30c7447a6cf\" xlink:show=\"new\" xlink:title=\"psysml:0a123ebf-9907-4602-8f86-a30c7447a6cf\" xlink:type=\"simple\"><polygon fill=\"#FFFFFF\" points=\"271,120.72,328,120.72,335,143.0169,474,143.0169,474,500.72,271,500.72,271,120.72\" style=\"stroke: #000000; stroke-width: 1.5;\"/><line style=\"stroke: #000000; stroke-width: 1.5;\" x1=\"271\" x2=\"335\" y1=\"143.0169\" y2=\"143.0169\"/><text fill=\"#000000\" font-family=\"sans-serif\" font-size=\"14\" font-weight=\"bold\" lengthAdjust=\"spacingAndGlyphs\" textLength=\"51\" x=\"275\" y=\"135.7151\">System</text></a><!--MD5=[60a26617385b1d2d0262a64233df1f8d]\n",
       "class E6--><a href=\"psysml:0783b658-08bf-4abf-9182-ba1ece255f80\" target=\"_top\" title=\"psysml:0783b658-08bf-4abf-9182-ba1ece255f80\" xlink:actuate=\"onRequest\" xlink:href=\"psysml:0783b658-08bf-4abf-9182-ba1ece255f80\" xlink:show=\"new\" xlink:title=\"psysml:0783b658-08bf-4abf-9182-ba1ece255f80\" xlink:type=\"simple\"><rect fill=\"#FFFFFF\" height=\"45.9375\" id=\"E6\" rx=\"10\" ry=\"10\" style=\"stroke: #383838; stroke-width: 1.5;\" width=\"71\" x=\"40.5\" y=\"297.22\"/><text fill=\"#000000\" font-family=\"sans-serif\" font-size=\"12\" font-style=\"italic\" lengthAdjust=\"spacingAndGlyphs\" textLength=\"69\" x=\"41.5\" y=\"313.3587\">«attribute»</text><text fill=\"#000000\" font-family=\"sans-serif\" font-size=\"12\" lengthAdjust=\"spacingAndGlyphs\" textLength=\"6\" x=\"71\" y=\"327.3274\">x</text><line style=\"stroke: #383838; stroke-width: 1.5;\" x1=\"41.5\" x2=\"110.5\" y1=\"335.1575\" y2=\"335.1575\"/></a><!--MD5=[2156ba9850f5573cc1fc38a6a4b2f02b]\n",
       "class E7--><a href=\"psysml:00406d55-97a3-4ada-a9d4-67d88ef5929d\" target=\"_top\" title=\"psysml:00406d55-97a3-4ada-a9d4-67d88ef5929d\" xlink:actuate=\"onRequest\" xlink:href=\"psysml:00406d55-97a3-4ada-a9d4-67d88ef5929d\" xlink:show=\"new\" xlink:title=\"psysml:00406d55-97a3-4ada-a9d4-67d88ef5929d\" xlink:type=\"simple\"><rect fill=\"#FFFFFF\" height=\"45.9375\" id=\"E7\" rx=\"10\" ry=\"10\" style=\"stroke: #383838; stroke-width: 1.5;\" width=\"71\" x=\"146.5\" y=\"297.22\"/><text fill=\"#000000\" font-family=\"sans-serif\" font-size=\"12\" font-style=\"italic\" lengthAdjust=\"spacingAndGlyphs\" textLength=\"69\" x=\"147.5\" y=\"313.3587\">«attribute»</text><text fill=\"#000000\" font-family=\"sans-serif\" font-size=\"12\" lengthAdjust=\"spacingAndGlyphs\" textLength=\"6\" x=\"177\" y=\"327.3274\">y</text><line style=\"stroke: #383838; stroke-width: 1.5;\" x1=\"147.5\" x2=\"216.5\" y1=\"335.1575\" y2=\"335.1575\"/></a><!--MD5=[b9389687b975829384b498ac4b7476b2]\n",
       "class E8--><a href=\"psysml:b610c4be-7598-4a50-a285-e23e2912f41a\" target=\"_top\" title=\"psysml:b610c4be-7598-4a50-a285-e23e2912f41a\" xlink:actuate=\"onRequest\" xlink:href=\"psysml:b610c4be-7598-4a50-a285-e23e2912f41a\" xlink:show=\"new\" xlink:title=\"psysml:b610c4be-7598-4a50-a285-e23e2912f41a\" xlink:type=\"simple\"><rect fill=\"#FFFFFF\" height=\"45.9375\" id=\"E8\" rx=\"10\" ry=\"10\" style=\"stroke: #383838; stroke-width: 1.5;\" width=\"71\" x=\"92.5\" y=\"167.22\"/><text fill=\"#000000\" font-family=\"sans-serif\" font-size=\"12\" font-style=\"italic\" lengthAdjust=\"spacingAndGlyphs\" textLength=\"69\" x=\"93.5\" y=\"183.3587\">«attribute»</text><text fill=\"#000000\" font-family=\"sans-serif\" font-size=\"12\" lengthAdjust=\"spacingAndGlyphs\" textLength=\"5\" x=\"123.5\" y=\"197.3274\">z</text><line style=\"stroke: #383838; stroke-width: 1.5;\" x1=\"93.5\" x2=\"162.5\" y1=\"205.1575\" y2=\"205.1575\"/></a><a href=\"psysml:fbc620fa-f332-480d-9302-6e81c218d767\" target=\"_top\" title=\"psysml:fbc620fa-f332-480d-9302-6e81c218d767\" xlink:actuate=\"onRequest\" xlink:href=\"psysml:fbc620fa-f332-480d-9302-6e81c218d767\" xlink:show=\"new\" xlink:title=\"psysml:fbc620fa-f332-480d-9302-6e81c218d767\" xlink:type=\"simple\"><polygon fill=\"#FFFFFF\" points=\"314.5,163.72,435.5,163.72,442.5,186.0169,449.5,186.0169,449.5,216.3138,314.5,216.3138,314.5,163.72\" style=\"stroke: #000000; stroke-width: 1.5;\"/><line style=\"stroke: #000000; stroke-width: 1.5;\" x1=\"314.5\" x2=\"442.5\" y1=\"186.0169\" y2=\"186.0169\"/><text fill=\"#000000\" font-family=\"sans-serif\" font-size=\"14\" font-weight=\"bold\" lengthAdjust=\"spacingAndGlyphs\" textLength=\"115\" x=\"318.5\" y=\"178.7151\">Application Layer</text></a><a href=\"psysml:426f0663-f125-4848-8cc6-b208ee541f23\" target=\"_top\" title=\"psysml:426f0663-f125-4848-8cc6-b208ee541f23\" xlink:actuate=\"onRequest\" xlink:href=\"psysml:426f0663-f125-4848-8cc6-b208ee541f23\" xlink:show=\"new\" xlink:title=\"psysml:426f0663-f125-4848-8cc6-b208ee541f23\" xlink:type=\"simple\"><polygon fill=\"#FFFFFF\" points=\"327,293.72,423,293.72,430,316.0169,437,316.0169,437,346.3138,327,346.3138,327,293.72\" style=\"stroke: #000000; stroke-width: 1.5;\"/><line style=\"stroke: #000000; stroke-width: 1.5;\" x1=\"327\" x2=\"430\" y1=\"316.0169\" y2=\"316.0169\"/><text fill=\"#000000\" font-family=\"sans-serif\" font-size=\"14\" font-weight=\"bold\" lengthAdjust=\"spacingAndGlyphs\" textLength=\"90\" x=\"331\" y=\"308.7151\">Service Layer</text></a><a href=\"psysml:fd3440a5-7307-47c9-b63e-e029b0e76f05\" target=\"_top\" title=\"psysml:fd3440a5-7307-47c9-b63e-e029b0e76f05\" xlink:actuate=\"onRequest\" xlink:href=\"psysml:fd3440a5-7307-47c9-b63e-e029b0e76f05\" xlink:show=\"new\" xlink:title=\"psysml:fd3440a5-7307-47c9-b63e-e029b0e76f05\" xlink:type=\"simple\"><polygon fill=\"#FFFFFF\" points=\"336,423.72,414,423.72,421,446.0169,428,446.0169,428,476.3138,336,476.3138,336,423.72\" style=\"stroke: #000000; stroke-width: 1.5;\"/><line style=\"stroke: #000000; stroke-width: 1.5;\" x1=\"336\" x2=\"421\" y1=\"446.0169\" y2=\"446.0169\"/><text fill=\"#000000\" font-family=\"sans-serif\" font-size=\"14\" font-weight=\"bold\" lengthAdjust=\"spacingAndGlyphs\" textLength=\"72\" x=\"340\" y=\"438.7151\">Data Layer</text></a><!--MD5=[1f1cd8e6dd4c1b2ca2aaccc9b9bcea6e]\n",
       "link E1 to E2--><a href=\"psysml:1f214475-93e7-4d57-afd6-304a88df216d\" target=\"_top\" title=\"psysml:1f214475-93e7-4d57-afd6-304a88df216d\" xlink:actuate=\"onRequest\" xlink:href=\"psysml:1f214475-93e7-4d57-afd6-304a88df216d\" xlink:show=\"new\" xlink:title=\"psysml:1f214475-93e7-4d57-afd6-304a88df216d\" xlink:type=\"simple\"><path d=\"M279,33.83 C279,36.15 279,73.83 279,111.5 C279,113.8544 279,116.2087 279,118.5544 C279,119.1408 279,119.7267 279,120.3119 \" fill=\"none\" id=\"E1-&gt;E2\" style=\"stroke: #383838; stroke-width: 1.0; stroke-dasharray: 7.0,7.0;\"/><polygon fill=\"#383838\" points=\"279,120.3119,283,111.3119,279,115.3119,275,111.3119,279,120.3119\" style=\"stroke: #383838; stroke-width: 1.0;\"/><text fill=\"#000000\" font-family=\"sans-serif\" font-size=\"13\" lengthAdjust=\"spacingAndGlyphs\" textLength=\"65\" x=\"280\" y=\"76.7869\">«import»*</text></a><!--MD5=[af87c684e3b0d8be13c1a698a818ef1e]\n",
       "link E3 to E4--><a href=\"psysml:3b6c166c-6961-4bb7-b892-e5bb88ba66d9\" target=\"_top\" title=\"psysml:3b6c166c-6961-4bb7-b892-e5bb88ba66d9\" xlink:actuate=\"onRequest\" xlink:href=\"psysml:3b6c166c-6961-4bb7-b892-e5bb88ba66d9\" xlink:show=\"new\" xlink:title=\"psysml:3b6c166c-6961-4bb7-b892-e5bb88ba66d9\" xlink:type=\"simple\"><path d=\"M382,216.82 C382,236.52 382,263.94 382,285.45 \" fill=\"none\" id=\"E3-&gt;E4\" style=\"stroke: #383838; stroke-width: 1.0; stroke-dasharray: 7.0,7.0;\"/><polygon fill=\"#383838\" points=\"382,293.67,385,285.67,379,285.67,382,293.67\" style=\"stroke: #383838; stroke-width: 1.0;\"/><text fill=\"#000000\" font-family=\"sans-serif\" font-size=\"13\" lengthAdjust=\"spacingAndGlyphs\" textLength=\"64\" x=\"383\" y=\"259.7869\">«depend»</text></a><!--MD5=[1b7591eae5389033d8d09a9d6721a717]\n",
       "link E4 to E5--><a href=\"psysml:f4ae8342-4685-4b6d-8549-04188d07c1c2\" target=\"_top\" title=\"psysml:f4ae8342-4685-4b6d-8549-04188d07c1c2\" xlink:actuate=\"onRequest\" xlink:href=\"psysml:f4ae8342-4685-4b6d-8549-04188d07c1c2\" xlink:show=\"new\" xlink:title=\"psysml:f4ae8342-4685-4b6d-8549-04188d07c1c2\" xlink:type=\"simple\"><path d=\"M382,346.82 C382,366.52 382,393.94 382,415.45 \" fill=\"none\" id=\"E4-&gt;E5\" style=\"stroke: #383838; stroke-width: 1.0; stroke-dasharray: 7.0,7.0;\"/><polygon fill=\"#383838\" points=\"382,423.67,385,415.67,379,415.67,382,423.67\" style=\"stroke: #383838; stroke-width: 1.0;\"/><text fill=\"#000000\" font-family=\"sans-serif\" font-size=\"13\" lengthAdjust=\"spacingAndGlyphs\" textLength=\"64\" x=\"383\" y=\"389.7869\">«depend»</text></a><!--MD5=[c5e8897d989ce984f93528998a7150fe]\n",
       "link E8 to E6--><a href=\"psysml:dd0e7371-702f-42f4-9a28-a8ea46c1187a\" target=\"_top\" title=\"psysml:dd0e7371-702f-42f4-9a28-a8ea46c1187a\" xlink:actuate=\"onRequest\" xlink:href=\"psysml:dd0e7371-702f-42f4-9a28-a8ea46c1187a\" xlink:show=\"new\" xlink:title=\"psysml:dd0e7371-702f-42f4-9a28-a8ea46c1187a\" xlink:type=\"simple\"><path d=\"M105.55,213.47 C89.97,228.91 72,246.72 72,246.72 C72,246.72 72,263.72 72,263.72 C72,263.72 72.88,275.93 73.81,288.9 \" fill=\"none\" id=\"E8-&gt;E6\" style=\"stroke: #383838; stroke-width: 1.0; stroke-dasharray: 7.0,7.0;\"/><polygon fill=\"#383838\" points=\"74.4,296.97,76.8203,288.776,70.8357,289.205,74.4,296.97\" style=\"stroke: #383838; stroke-width: 1.0;\"/><text fill=\"#000000\" font-family=\"sans-serif\" font-size=\"13\" lengthAdjust=\"spacingAndGlyphs\" textLength=\"64\" x=\"73\" y=\"259.7869\">«depend»</text></a><!--MD5=[bfa3c8b0d15052fdf50ae9310b491027]\n",
       "link E8 to E7--><a href=\"psysml:dd0e7371-702f-42f4-9a28-a8ea46c1187a\" target=\"_top\" title=\"psysml:dd0e7371-702f-42f4-9a28-a8ea46c1187a\" xlink:actuate=\"onRequest\" xlink:href=\"psysml:dd0e7371-702f-42f4-9a28-a8ea46c1187a\" xlink:show=\"new\" xlink:title=\"psysml:dd0e7371-702f-42f4-9a28-a8ea46c1187a\" xlink:type=\"simple\"><path d=\"M137.28,213.22 C146.17,234.29 159.64,266.22 169.47,289.53 \" fill=\"none\" id=\"E8-&gt;E7\" style=\"stroke: #383838; stroke-width: 1.0; stroke-dasharray: 7.0,7.0;\"/><polygon fill=\"#383838\" points=\"172.66,297.07,172.3241,288.5326,166.7933,290.8585,172.66,297.07\" style=\"stroke: #383838; stroke-width: 1.0;\"/><text fill=\"#000000\" font-family=\"sans-serif\" font-size=\"13\" lengthAdjust=\"spacingAndGlyphs\" textLength=\"64\" x=\"159\" y=\"259.7869\">«depend»</text></a><!--MD5=[b64e93d11293ca028b3d2d29a7184943]\n",
       "@startuml\r\n",
       "skinparam linetype polyline\r\n",
       "skinparam monochrome true\r\n",
       "skinparam classbackgroundcolor white\r\n",
       "skinparam shadowing false\r\n",
       "skinparam wrapWidth 300\r\n",
       "hide circle\r\n",
       "\r\n",
       "package \"DependencyTest\" as E1  [[psysml:49f03030-de0c-4f13-ba7b-914972c61aaf ]]  {\r\n",
       "package \"System\" as E2  [[psysml:0a123ebf-9907-4602-8f86-a30c7447a6cf ]]  {\r\n",
       "package \"Application Layer\" as E3  [[psysml:fbc620fa-f332-480d-9302-6e81c218d767 ]]  {\r\n",
       "}\r\n",
       "package \"Service Layer\" as E4  [[psysml:426f0663-f125-4848-8cc6-b208ee541f23 ]]  {\r\n",
       "}\r\n",
       "package \"Data Layer\" as E5  [[psysml:fd3440a5-7307-47c9-b63e-e029b0e76f05 ]]  {\r\n",
       "}\r\n",
       "}\r\n",
       "comp usage \"x \" as E6  <<(T,blue) attribute>> [[psysml:0783b658-08bf-4abf-9182-ba1ece255f80 ]] {\r\n",
       "}\r\n",
       "comp usage \"y \" as E7  <<(T,blue) attribute>> [[psysml:00406d55-97a3-4ada-a9d4-67d88ef5929d ]] {\r\n",
       "}\r\n",
       "comp usage \"z \" as E8  <<(T,blue) attribute>> [[psysml:b610c4be-7598-4a50-a285-e23e2912f41a ]] {\r\n",
       "}\r\n",
       "}\r\n",
       "E1 ..> E2 [[psysml:1f214475-93e7-4d57-afd6-304a88df216d ]] : <<import>>*\r\n",
       "E3 ..>> E4 [[psysml:3b6c166c-6961-4bb7-b892-e5bb88ba66d9 ]] : <<depend>>\r\n",
       "E4 ..>> E5 [[psysml:f4ae8342-4685-4b6d-8549-04188d07c1c2 ]] : <<depend>>\r\n",
       "E8 ..>> E6 [[psysml:dd0e7371-702f-42f4-9a28-a8ea46c1187a ]] : <<depend>>\r\n",
       "E8 ..>> E7 [[psysml:dd0e7371-702f-42f4-9a28-a8ea46c1187a ]] : <<depend>>\r\n",
       "@enduml\r\n",
       "\n",
       "PlantUML version 1.2020.13(Sat Jun 13 12:26:38 UTC 2020)\n",
       "(EPL source distribution)\n",
       "Java Runtime: OpenJDK Runtime Environment\n",
       "JVM: OpenJDK 64-Bit Server VM\n",
       "Default Encoding: UTF-8\n",
       "Language: en\n",
       "Country: null\n",
       "--></g></svg>"
      ]
     },
     "execution_count": 10,
     "metadata": {},
     "output_type": "execute_result"
    }
   ],
   "source": [
    "%viz --style=\"POLYLINE\" --view=\"Tree\" \"DependencyTest\""
   ]
  },
  {
   "cell_type": "code",
   "execution_count": 11,
   "id": "9de651b9",
   "metadata": {
    "execution": {
     "iopub.execute_input": "2022-03-03T09:54:58.920890Z",
     "iopub.status.busy": "2022-03-03T09:54:58.920460Z",
     "iopub.status.idle": "2022-03-03T09:54:58.924383Z",
     "shell.execute_reply": "2022-03-03T09:54:58.924715Z"
    }
   },
   "outputs": [
    {
     "data": {
      "image/svg+xml": [
       "<?xml version=\"1.0\" encoding=\"UTF-8\" standalone=\"no\"?><svg xmlns=\"http://www.w3.org/2000/svg\" xmlns:xlink=\"http://www.w3.org/1999/xlink\" contentScriptType=\"application/ecmascript\" contentStyleType=\"text/css\" height=\"12px\" preserveAspectRatio=\"none\" style=\"width:12px;height:12px;\" version=\"1.1\" viewBox=\"0 0 12 12\" width=\"12px\" zoomAndPan=\"magnify\"><defs/><g><!--MD5=[896ac0e7a515d8dd7765a661cb4ee08b]\n",
       "@startuml\r\n",
       "skinparam linetype polyline\r\n",
       "skinparam monochrome true\r\n",
       "skinparam classbackgroundcolor white\r\n",
       "skinparam shadowing false\r\n",
       "skinparam wrapWidth 300\r\n",
       "hide circle\r\n",
       "\r\n",
       "@enduml\r\n",
       "\n",
       "PlantUML version 1.2020.13(Sat Jun 13 12:26:38 UTC 2020)\n",
       "(EPL source distribution)\n",
       "Java Runtime: OpenJDK Runtime Environment\n",
       "JVM: OpenJDK 64-Bit Server VM\n",
       "Default Encoding: UTF-8\n",
       "Language: en\n",
       "Country: null\n",
       "--></g></svg>"
      ]
     },
     "execution_count": 11,
     "metadata": {},
     "output_type": "execute_result"
    }
   ],
   "source": [
    "%viz --style=\"POLYLINE\" --view=\"State\" \"DependencyTest\""
   ]
  },
  {
   "cell_type": "code",
   "execution_count": 12,
   "id": "a02b9436",
   "metadata": {
    "execution": {
     "iopub.execute_input": "2022-03-03T09:54:58.974705Z",
     "iopub.status.busy": "2022-03-03T09:54:58.974278Z",
     "iopub.status.idle": "2022-03-03T09:54:59.019006Z",
     "shell.execute_reply": "2022-03-03T09:54:59.018605Z"
    }
   },
   "outputs": [
    {
     "data": {
      "image/svg+xml": [
       "<?xml version=\"1.0\" encoding=\"UTF-8\" standalone=\"no\"?><svg xmlns=\"http://www.w3.org/2000/svg\" xmlns:xlink=\"http://www.w3.org/1999/xlink\" contentScriptType=\"application/ecmascript\" contentStyleType=\"text/css\" height=\"442px\" preserveAspectRatio=\"none\" style=\"width:536px;height:442px;\" version=\"1.1\" viewBox=\"0 0 536 442\" width=\"536px\" zoomAndPan=\"magnify\"><defs/><g><!--MD5=[fbc87193dbaf4d95561dea2c320d4a47]\n",
       "cluster E1--><a href=\"psysml:49f03030-de0c-4f13-ba7b-914972c61aaf\" target=\"_top\" title=\"psysml:49f03030-de0c-4f13-ba7b-914972c61aaf\" xlink:actuate=\"onRequest\" xlink:href=\"psysml:49f03030-de0c-4f13-ba7b-914972c61aaf\" xlink:show=\"new\" xlink:title=\"psysml:49f03030-de0c-4f13-ba7b-914972c61aaf\" xlink:type=\"simple\"><polygon fill=\"#FFFFFF\" points=\"16,6,142,6,149,28.2969,514,28.2969,514,430.72,16,430.72,16,6\" style=\"stroke: #000000; stroke-width: 1.5;\"/><line style=\"stroke: #000000; stroke-width: 1.5;\" x1=\"16\" x2=\"149\" y1=\"28.2969\" y2=\"28.2969\"/><text fill=\"#000000\" font-family=\"sans-serif\" font-size=\"14\" font-weight=\"bold\" lengthAdjust=\"spacingAndGlyphs\" textLength=\"120\" x=\"20\" y=\"20.9951\">DependencyTest</text></a><!--MD5=[e4f7fae6ed58524ba242bb0b0d3be6b7]\n",
       "cluster E2--><a href=\"psysml:0a123ebf-9907-4602-8f86-a30c7447a6cf\" target=\"_top\" title=\"psysml:0a123ebf-9907-4602-8f86-a30c7447a6cf\" xlink:actuate=\"onRequest\" xlink:href=\"psysml:0a123ebf-9907-4602-8f86-a30c7447a6cf\" xlink:show=\"new\" xlink:title=\"psysml:0a123ebf-9907-4602-8f86-a30c7447a6cf\" xlink:type=\"simple\"><polygon fill=\"#FFFFFF\" points=\"271,98.72,328,98.72,335,121.0169,474,121.0169,474,390.72,271,390.72,271,98.72\" style=\"stroke: #000000; stroke-width: 1.5;\"/><line style=\"stroke: #000000; stroke-width: 1.5;\" x1=\"271\" x2=\"335\" y1=\"121.0169\" y2=\"121.0169\"/><text fill=\"#000000\" font-family=\"sans-serif\" font-size=\"14\" font-weight=\"bold\" lengthAdjust=\"spacingAndGlyphs\" textLength=\"51\" x=\"275\" y=\"113.7151\">System</text></a><!--MD5=[60a26617385b1d2d0262a64233df1f8d]\n",
       "class E6--><a href=\"psysml:0783b658-08bf-4abf-9182-ba1ece255f80\" target=\"_top\" title=\"psysml:0783b658-08bf-4abf-9182-ba1ece255f80\" xlink:actuate=\"onRequest\" xlink:href=\"psysml:0783b658-08bf-4abf-9182-ba1ece255f80\" xlink:show=\"new\" xlink:title=\"psysml:0783b658-08bf-4abf-9182-ba1ece255f80\" xlink:type=\"simple\"><rect fill=\"#FFFFFF\" height=\"45.9375\" id=\"E6\" rx=\"10\" ry=\"10\" style=\"stroke: #383838; stroke-width: 1.5;\" width=\"71\" x=\"40.5\" y=\"231.22\"/><text fill=\"#000000\" font-family=\"sans-serif\" font-size=\"12\" font-style=\"italic\" lengthAdjust=\"spacingAndGlyphs\" textLength=\"69\" x=\"41.5\" y=\"247.3587\">«attribute»</text><text fill=\"#000000\" font-family=\"sans-serif\" font-size=\"12\" lengthAdjust=\"spacingAndGlyphs\" textLength=\"6\" x=\"71\" y=\"261.3274\">x</text><line style=\"stroke: #383838; stroke-width: 1.5;\" x1=\"41.5\" x2=\"110.5\" y1=\"269.1575\" y2=\"269.1575\"/></a><!--MD5=[2156ba9850f5573cc1fc38a6a4b2f02b]\n",
       "class E7--><a href=\"psysml:00406d55-97a3-4ada-a9d4-67d88ef5929d\" target=\"_top\" title=\"psysml:00406d55-97a3-4ada-a9d4-67d88ef5929d\" xlink:actuate=\"onRequest\" xlink:href=\"psysml:00406d55-97a3-4ada-a9d4-67d88ef5929d\" xlink:show=\"new\" xlink:title=\"psysml:00406d55-97a3-4ada-a9d4-67d88ef5929d\" xlink:type=\"simple\"><rect fill=\"#FFFFFF\" height=\"45.9375\" id=\"E7\" rx=\"10\" ry=\"10\" style=\"stroke: #383838; stroke-width: 1.5;\" width=\"71\" x=\"146.5\" y=\"231.22\"/><text fill=\"#000000\" font-family=\"sans-serif\" font-size=\"12\" font-style=\"italic\" lengthAdjust=\"spacingAndGlyphs\" textLength=\"69\" x=\"147.5\" y=\"247.3587\">«attribute»</text><text fill=\"#000000\" font-family=\"sans-serif\" font-size=\"12\" lengthAdjust=\"spacingAndGlyphs\" textLength=\"6\" x=\"177\" y=\"261.3274\">y</text><line style=\"stroke: #383838; stroke-width: 1.5;\" x1=\"147.5\" x2=\"216.5\" y1=\"269.1575\" y2=\"269.1575\"/></a><!--MD5=[b9389687b975829384b498ac4b7476b2]\n",
       "class E8--><a href=\"psysml:b610c4be-7598-4a50-a285-e23e2912f41a\" target=\"_top\" title=\"psysml:b610c4be-7598-4a50-a285-e23e2912f41a\" xlink:actuate=\"onRequest\" xlink:href=\"psysml:b610c4be-7598-4a50-a285-e23e2912f41a\" xlink:show=\"new\" xlink:title=\"psysml:b610c4be-7598-4a50-a285-e23e2912f41a\" xlink:type=\"simple\"><rect fill=\"#FFFFFF\" height=\"45.9375\" id=\"E8\" rx=\"10\" ry=\"10\" style=\"stroke: #383838; stroke-width: 1.5;\" width=\"71\" x=\"92.5\" y=\"145.22\"/><text fill=\"#000000\" font-family=\"sans-serif\" font-size=\"12\" font-style=\"italic\" lengthAdjust=\"spacingAndGlyphs\" textLength=\"69\" x=\"93.5\" y=\"161.3587\">«attribute»</text><text fill=\"#000000\" font-family=\"sans-serif\" font-size=\"12\" lengthAdjust=\"spacingAndGlyphs\" textLength=\"5\" x=\"123.5\" y=\"175.3274\">z</text><line style=\"stroke: #383838; stroke-width: 1.5;\" x1=\"93.5\" x2=\"162.5\" y1=\"183.1575\" y2=\"183.1575\"/></a><a href=\"psysml:fbc620fa-f332-480d-9302-6e81c218d767\" target=\"_top\" title=\"psysml:fbc620fa-f332-480d-9302-6e81c218d767\" xlink:actuate=\"onRequest\" xlink:href=\"psysml:fbc620fa-f332-480d-9302-6e81c218d767\" xlink:show=\"new\" xlink:title=\"psysml:fbc620fa-f332-480d-9302-6e81c218d767\" xlink:type=\"simple\"><polygon fill=\"#FFFFFF\" points=\"314.5,141.72,435.5,141.72,442.5,164.0169,449.5,164.0169,449.5,194.3138,314.5,194.3138,314.5,141.72\" style=\"stroke: #000000; stroke-width: 1.5;\"/><line style=\"stroke: #000000; stroke-width: 1.5;\" x1=\"314.5\" x2=\"442.5\" y1=\"164.0169\" y2=\"164.0169\"/><text fill=\"#000000\" font-family=\"sans-serif\" font-size=\"14\" font-weight=\"bold\" lengthAdjust=\"spacingAndGlyphs\" textLength=\"115\" x=\"318.5\" y=\"156.7151\">Application Layer</text></a><a href=\"psysml:426f0663-f125-4848-8cc6-b208ee541f23\" target=\"_top\" title=\"psysml:426f0663-f125-4848-8cc6-b208ee541f23\" xlink:actuate=\"onRequest\" xlink:href=\"psysml:426f0663-f125-4848-8cc6-b208ee541f23\" xlink:show=\"new\" xlink:title=\"psysml:426f0663-f125-4848-8cc6-b208ee541f23\" xlink:type=\"simple\"><polygon fill=\"#FFFFFF\" points=\"327,227.72,423,227.72,430,250.0169,437,250.0169,437,280.3138,327,280.3138,327,227.72\" style=\"stroke: #000000; stroke-width: 1.5;\"/><line style=\"stroke: #000000; stroke-width: 1.5;\" x1=\"327\" x2=\"430\" y1=\"250.0169\" y2=\"250.0169\"/><text fill=\"#000000\" font-family=\"sans-serif\" font-size=\"14\" font-weight=\"bold\" lengthAdjust=\"spacingAndGlyphs\" textLength=\"90\" x=\"331\" y=\"242.7151\">Service Layer</text></a><a href=\"psysml:fd3440a5-7307-47c9-b63e-e029b0e76f05\" target=\"_top\" title=\"psysml:fd3440a5-7307-47c9-b63e-e029b0e76f05\" xlink:actuate=\"onRequest\" xlink:href=\"psysml:fd3440a5-7307-47c9-b63e-e029b0e76f05\" xlink:show=\"new\" xlink:title=\"psysml:fd3440a5-7307-47c9-b63e-e029b0e76f05\" xlink:type=\"simple\"><polygon fill=\"#FFFFFF\" points=\"336,313.72,414,313.72,421,336.0169,428,336.0169,428,366.3138,336,366.3138,336,313.72\" style=\"stroke: #000000; stroke-width: 1.5;\"/><line style=\"stroke: #000000; stroke-width: 1.5;\" x1=\"336\" x2=\"421\" y1=\"336.0169\" y2=\"336.0169\"/><text fill=\"#000000\" font-family=\"sans-serif\" font-size=\"14\" font-weight=\"bold\" lengthAdjust=\"spacingAndGlyphs\" textLength=\"72\" x=\"340\" y=\"328.7151\">Data Layer</text></a><!--MD5=[1f1cd8e6dd4c1b2ca2aaccc9b9bcea6e]\n",
       "link E1 to E2--><a href=\"psysml:1f214475-93e7-4d57-afd6-304a88df216d\" target=\"_top\" title=\"psysml:1f214475-93e7-4d57-afd6-304a88df216d\" xlink:actuate=\"onRequest\" xlink:href=\"psysml:1f214475-93e7-4d57-afd6-304a88df216d\" xlink:show=\"new\" xlink:title=\"psysml:1f214475-93e7-4d57-afd6-304a88df216d\" xlink:type=\"simple\"><path d=\"M279,33.82 C279,34.815 279,43.3994 279,55.7775 C279,61.9666 279,69.1041 279,76.7155 C279,80.5213 279,84.4455 279,88.429 C279,90.4207 279,92.4272 279,94.4411 C279,95.448 279,96.4568 279,97.4665 C279,97.719 279,97.9714 279,98.224 \" fill=\"none\" id=\"E1-&gt;E2\" style=\"stroke: #383838; stroke-width: 1.0; stroke-dasharray: 7.0,7.0;\"/><polygon fill=\"#383838\" points=\"279,98.224,283,89.224,279,93.224,275,89.224,279,98.224\" style=\"stroke: #383838; stroke-width: 1.0;\"/><text fill=\"#000000\" font-family=\"sans-serif\" font-size=\"13\" lengthAdjust=\"spacingAndGlyphs\" textLength=\"65\" x=\"280\" y=\"54.7869\">«import»*</text></a><!--MD5=[af87c684e3b0d8be13c1a698a818ef1e]\n",
       "link E3 to E4--><a href=\"psysml:3b6c166c-6961-4bb7-b892-e5bb88ba66d9\" target=\"_top\" title=\"psysml:3b6c166c-6961-4bb7-b892-e5bb88ba66d9\" xlink:actuate=\"onRequest\" xlink:href=\"psysml:3b6c166c-6961-4bb7-b892-e5bb88ba66d9\" xlink:show=\"new\" xlink:title=\"psysml:3b6c166c-6961-4bb7-b892-e5bb88ba66d9\" xlink:type=\"simple\"><path d=\"M382,194.88 C382,202.7 382,211.41 382,219.66 \" fill=\"none\" id=\"E3-&gt;E4\" style=\"stroke: #383838; stroke-width: 1.0; stroke-dasharray: 7.0,7.0;\"/><polygon fill=\"#383838\" points=\"382,227.72,385,219.72,379,219.72,382,227.72\" style=\"stroke: #383838; stroke-width: 1.0;\"/><text fill=\"#000000\" font-family=\"sans-serif\" font-size=\"13\" lengthAdjust=\"spacingAndGlyphs\" textLength=\"64\" x=\"383\" y=\"215.7869\">«depend»</text></a><!--MD5=[1b7591eae5389033d8d09a9d6721a717]\n",
       "link E4 to E5--><a href=\"psysml:f4ae8342-4685-4b6d-8549-04188d07c1c2\" target=\"_top\" title=\"psysml:f4ae8342-4685-4b6d-8549-04188d07c1c2\" xlink:actuate=\"onRequest\" xlink:href=\"psysml:f4ae8342-4685-4b6d-8549-04188d07c1c2\" xlink:show=\"new\" xlink:title=\"psysml:f4ae8342-4685-4b6d-8549-04188d07c1c2\" xlink:type=\"simple\"><path d=\"M382,280.88 C382,288.7 382,297.41 382,305.66 \" fill=\"none\" id=\"E4-&gt;E5\" style=\"stroke: #383838; stroke-width: 1.0; stroke-dasharray: 7.0,7.0;\"/><polygon fill=\"#383838\" points=\"382,313.72,385,305.72,379,305.72,382,313.72\" style=\"stroke: #383838; stroke-width: 1.0;\"/><text fill=\"#000000\" font-family=\"sans-serif\" font-size=\"13\" lengthAdjust=\"spacingAndGlyphs\" textLength=\"64\" x=\"383\" y=\"301.7869\">«depend»</text></a><!--MD5=[c5e8897d989ce984f93528998a7150fe]\n",
       "link E8 to E6--><a href=\"psysml:dd0e7371-702f-42f4-9a28-a8ea46c1187a\" target=\"_top\" title=\"psysml:dd0e7371-702f-42f4-9a28-a8ea46c1187a\" xlink:actuate=\"onRequest\" xlink:href=\"psysml:dd0e7371-702f-42f4-9a28-a8ea46c1187a\" xlink:show=\"new\" xlink:title=\"psysml:dd0e7371-702f-42f4-9a28-a8ea46c1187a\" xlink:type=\"simple\"><path d=\"M92.22,190.63 C81.24,197.19 72,202.72 72,202.72 C72,202.72 72,219.72 72,219.72 C72,219.72 72.15,221 72.4,223.05 \" fill=\"none\" id=\"E8-&gt;E6\" style=\"stroke: #383838; stroke-width: 1.0; stroke-dasharray: 7.0,7.0;\"/><polygon fill=\"#383838\" points=\"73.35,231.06,75.3861,222.7621,69.4279,223.4694,73.35,231.06\" style=\"stroke: #383838; stroke-width: 1.0;\"/><text fill=\"#000000\" font-family=\"sans-serif\" font-size=\"13\" lengthAdjust=\"spacingAndGlyphs\" textLength=\"64\" x=\"73\" y=\"215.7869\">«depend»</text></a><!--MD5=[bfa3c8b0d15052fdf50ae9310b491027]\n",
       "link E8 to E7--><a href=\"psysml:dd0e7371-702f-42f4-9a28-a8ea46c1187a\" target=\"_top\" title=\"psysml:dd0e7371-702f-42f4-9a28-a8ea46c1187a\" xlink:actuate=\"onRequest\" xlink:href=\"psysml:dd0e7371-702f-42f4-9a28-a8ea46c1187a\" xlink:show=\"new\" xlink:title=\"psysml:dd0e7371-702f-42f4-9a28-a8ea46c1187a\" xlink:type=\"simple\"><path d=\"M142.19,191.29 C148.65,201.34 156.38,213.37 163.31,224.14 \" fill=\"none\" id=\"E8-&gt;E7\" style=\"stroke: #383838; stroke-width: 1.0; stroke-dasharray: 7.0,7.0;\"/><polygon fill=\"#383838\" points=\"167.72,231.01,165.9148,222.6589,160.8688,225.905,167.72,231.01\" style=\"stroke: #383838; stroke-width: 1.0;\"/><text fill=\"#000000\" font-family=\"sans-serif\" font-size=\"13\" lengthAdjust=\"spacingAndGlyphs\" textLength=\"64\" x=\"160\" y=\"215.7869\">«depend»</text></a><!--MD5=[cdd53533aa0b9cf272ea169de1deefcc]\n",
       "@startuml\r\n",
       "skinparam ranksep 10\r\n",
       "skinparam rectangle {\r\n",
       " backgroundColor<<block>> LightGreen\r\n",
       "}\r\n",
       "skinparam linetype polyline\r\n",
       "skinparam monochrome true\r\n",
       "skinparam classbackgroundcolor white\r\n",
       "skinparam shadowing false\r\n",
       "skinparam wrapWidth 300\r\n",
       "hide circle\r\n",
       "\r\n",
       "package \"DependencyTest\" as E1  [[psysml:49f03030-de0c-4f13-ba7b-914972c61aaf ]]  {\r\n",
       "package \"System\" as E2  [[psysml:0a123ebf-9907-4602-8f86-a30c7447a6cf ]]  {\r\n",
       "package \"Application Layer\" as E3  [[psysml:fbc620fa-f332-480d-9302-6e81c218d767 ]]  {\r\n",
       "}\r\n",
       "package \"Service Layer\" as E4  [[psysml:426f0663-f125-4848-8cc6-b208ee541f23 ]]  {\r\n",
       "}\r\n",
       "package \"Data Layer\" as E5  [[psysml:fd3440a5-7307-47c9-b63e-e029b0e76f05 ]]  {\r\n",
       "}\r\n",
       "}\r\n",
       "comp usage \"x \" as E6  <<(T,blue) attribute>> [[psysml:0783b658-08bf-4abf-9182-ba1ece255f80 ]] {\r\n",
       "}\r\n",
       "comp usage \"y \" as E7  <<(T,blue) attribute>> [[psysml:00406d55-97a3-4ada-a9d4-67d88ef5929d ]] {\r\n",
       "}\r\n",
       "comp usage \"z \" as E8  <<(T,blue) attribute>> [[psysml:b610c4be-7598-4a50-a285-e23e2912f41a ]] {\r\n",
       "}\r\n",
       "}\r\n",
       "E1 ..> E2 [[psysml:1f214475-93e7-4d57-afd6-304a88df216d ]] : <<import>>*\r\n",
       "E3 ..>> E4 [[psysml:3b6c166c-6961-4bb7-b892-e5bb88ba66d9 ]] : <<depend>>\r\n",
       "E4 ..>> E5 [[psysml:f4ae8342-4685-4b6d-8549-04188d07c1c2 ]] : <<depend>>\r\n",
       "E8 ..>> E6 [[psysml:dd0e7371-702f-42f4-9a28-a8ea46c1187a ]] : <<depend>>\r\n",
       "E8 ..>> E7 [[psysml:dd0e7371-702f-42f4-9a28-a8ea46c1187a ]] : <<depend>>\r\n",
       "@enduml\r\n",
       "\n",
       "PlantUML version 1.2020.13(Sat Jun 13 12:26:38 UTC 2020)\n",
       "(EPL source distribution)\n",
       "Java Runtime: OpenJDK Runtime Environment\n",
       "JVM: OpenJDK 64-Bit Server VM\n",
       "Default Encoding: UTF-8\n",
       "Language: en\n",
       "Country: null\n",
       "--></g></svg>"
      ]
     },
     "execution_count": 12,
     "metadata": {},
     "output_type": "execute_result"
    }
   ],
   "source": [
    "%viz --style=\"POLYLINE\" --view=\"Interconnection\" \"DependencyTest\""
   ]
  },
  {
   "cell_type": "code",
   "execution_count": 13,
   "id": "96bd77f7",
   "metadata": {
    "execution": {
     "iopub.execute_input": "2022-03-03T09:54:59.068696Z",
     "iopub.status.busy": "2022-03-03T09:54:59.068296Z",
     "iopub.status.idle": "2022-03-03T09:54:59.073976Z",
     "shell.execute_reply": "2022-03-03T09:54:59.074382Z"
    }
   },
   "outputs": [
    {
     "data": {
      "image/svg+xml": [
       "<?xml version=\"1.0\" encoding=\"UTF-8\" standalone=\"no\"?><svg xmlns=\"http://www.w3.org/2000/svg\" xmlns:xlink=\"http://www.w3.org/1999/xlink\" contentScriptType=\"application/ecmascript\" contentStyleType=\"text/css\" height=\"12px\" preserveAspectRatio=\"none\" style=\"width:12px;height:12px;\" version=\"1.1\" viewBox=\"0 0 12 12\" width=\"12px\" zoomAndPan=\"magnify\"><defs/><g><!--MD5=[97bbf32f66ccd50cbc40d92ea8f5a65e]\n",
       "@startuml\r\n",
       "skinparam ranksep 8\r\n",
       "skinparam linetype polyline\r\n",
       "skinparam monochrome true\r\n",
       "skinparam classbackgroundcolor white\r\n",
       "skinparam shadowing false\r\n",
       "skinparam wrapWidth 300\r\n",
       "hide circle\r\n",
       "\r\n",
       "@enduml\r\n",
       "\n",
       "PlantUML version 1.2020.13(Sat Jun 13 12:26:38 UTC 2020)\n",
       "(EPL source distribution)\n",
       "Java Runtime: OpenJDK Runtime Environment\n",
       "JVM: OpenJDK 64-Bit Server VM\n",
       "Default Encoding: UTF-8\n",
       "Language: en\n",
       "Country: null\n",
       "--></g></svg>"
      ]
     },
     "execution_count": 13,
     "metadata": {},
     "output_type": "execute_result"
    }
   ],
   "source": [
    "%viz --style=\"POLYLINE\" --view=\"Action\" \"DependencyTest\""
   ]
  },
  {
   "cell_type": "code",
   "execution_count": 14,
   "id": "114e5cb0",
   "metadata": {
    "execution": {
     "iopub.execute_input": "2022-03-03T09:54:59.124467Z",
     "iopub.status.busy": "2022-03-03T09:54:59.124017Z",
     "iopub.status.idle": "2022-03-03T09:54:59.129740Z",
     "shell.execute_reply": "2022-03-03T09:54:59.130054Z"
    }
   },
   "outputs": [
    {
     "data": {
      "image/svg+xml": [
       "<?xml version=\"1.0\" encoding=\"UTF-8\" standalone=\"no\"?><svg xmlns=\"http://www.w3.org/2000/svg\" xmlns:xlink=\"http://www.w3.org/1999/xlink\" contentScriptType=\"application/ecmascript\" contentStyleType=\"text/css\" height=\"12px\" preserveAspectRatio=\"none\" style=\"width:12px;height:12px;\" version=\"1.1\" viewBox=\"0 0 12 12\" width=\"12px\" zoomAndPan=\"magnify\"><defs/><g><!--MD5=[dc938048236c351797870c36b62f92ad]\n",
       "@startuml\r\n",
       "skinparam roundcorner 20\r\n",
       "skinparam BoxPadding 20\r\n",
       "skinparam SequenceBoxBackgroundColor #white\r\n",
       "skinparam style strictuml\r\n",
       "skinparam maxMessageSize 100\r\n",
       "skinparam linetype polyline\r\n",
       "skinparam monochrome true\r\n",
       "skinparam classbackgroundcolor white\r\n",
       "skinparam shadowing false\r\n",
       "skinparam wrapWidth 300\r\n",
       "hide circle\r\n",
       "\r\n",
       "@enduml\r\n",
       "\n",
       "PlantUML version 1.2020.13(Sat Jun 13 12:26:38 UTC 2020)\n",
       "(EPL source distribution)\n",
       "Java Runtime: OpenJDK Runtime Environment\n",
       "JVM: OpenJDK 64-Bit Server VM\n",
       "Default Encoding: UTF-8\n",
       "Language: en\n",
       "Country: null\n",
       "--></g></svg>"
      ]
     },
     "execution_count": 14,
     "metadata": {},
     "output_type": "execute_result"
    }
   ],
   "source": [
    "%viz --style=\"POLYLINE\" --view=\"Sequence\" \"DependencyTest\""
   ]
  },
  {
   "cell_type": "code",
   "execution_count": 15,
   "id": "36b026e3",
   "metadata": {
    "execution": {
     "iopub.execute_input": "2022-03-03T09:54:59.180069Z",
     "iopub.status.busy": "2022-03-03T09:54:59.179662Z",
     "iopub.status.idle": "2022-03-03T09:54:59.222146Z",
     "shell.execute_reply": "2022-03-03T09:54:59.222473Z"
    }
   },
   "outputs": [
    {
     "data": {
      "image/svg+xml": [
       "<?xml version=\"1.0\" encoding=\"UTF-8\" standalone=\"no\"?><svg xmlns=\"http://www.w3.org/2000/svg\" xmlns:xlink=\"http://www.w3.org/1999/xlink\" contentScriptType=\"application/ecmascript\" contentStyleType=\"text/css\" height=\"552px\" preserveAspectRatio=\"none\" style=\"width:536px;height:552px;\" version=\"1.1\" viewBox=\"0 0 536 552\" width=\"536px\" zoomAndPan=\"magnify\"><defs/><g><!--MD5=[fbc87193dbaf4d95561dea2c320d4a47]\n",
       "cluster E1--><a href=\"psysml:49f03030-de0c-4f13-ba7b-914972c61aaf\" target=\"_top\" title=\"psysml:49f03030-de0c-4f13-ba7b-914972c61aaf\" xlink:actuate=\"onRequest\" xlink:href=\"psysml:49f03030-de0c-4f13-ba7b-914972c61aaf\" xlink:show=\"new\" xlink:title=\"psysml:49f03030-de0c-4f13-ba7b-914972c61aaf\" xlink:type=\"simple\"><polygon fill=\"#FFFFFF\" points=\"16,6,142,6,149,28.2969,514,28.2969,514,540.72,16,540.72,16,6\" style=\"stroke: #000000; stroke-width: 1.5;\"/><line style=\"stroke: #000000; stroke-width: 1.5;\" x1=\"16\" x2=\"149\" y1=\"28.2969\" y2=\"28.2969\"/><text fill=\"#000000\" font-family=\"sans-serif\" font-size=\"14\" font-weight=\"bold\" lengthAdjust=\"spacingAndGlyphs\" textLength=\"120\" x=\"20\" y=\"20.9951\">DependencyTest</text></a><!--MD5=[e4f7fae6ed58524ba242bb0b0d3be6b7]\n",
       "cluster E2--><a href=\"psysml:0a123ebf-9907-4602-8f86-a30c7447a6cf\" target=\"_top\" title=\"psysml:0a123ebf-9907-4602-8f86-a30c7447a6cf\" xlink:actuate=\"onRequest\" xlink:href=\"psysml:0a123ebf-9907-4602-8f86-a30c7447a6cf\" xlink:show=\"new\" xlink:title=\"psysml:0a123ebf-9907-4602-8f86-a30c7447a6cf\" xlink:type=\"simple\"><polygon fill=\"#FFFFFF\" points=\"271,120.72,328,120.72,335,143.0169,474,143.0169,474,500.72,271,500.72,271,120.72\" style=\"stroke: #000000; stroke-width: 1.5;\"/><line style=\"stroke: #000000; stroke-width: 1.5;\" x1=\"271\" x2=\"335\" y1=\"143.0169\" y2=\"143.0169\"/><text fill=\"#000000\" font-family=\"sans-serif\" font-size=\"14\" font-weight=\"bold\" lengthAdjust=\"spacingAndGlyphs\" textLength=\"51\" x=\"275\" y=\"135.7151\">System</text></a><!--MD5=[60a26617385b1d2d0262a64233df1f8d]\n",
       "class E6--><a href=\"psysml:0783b658-08bf-4abf-9182-ba1ece255f80\" target=\"_top\" title=\"psysml:0783b658-08bf-4abf-9182-ba1ece255f80\" xlink:actuate=\"onRequest\" xlink:href=\"psysml:0783b658-08bf-4abf-9182-ba1ece255f80\" xlink:show=\"new\" xlink:title=\"psysml:0783b658-08bf-4abf-9182-ba1ece255f80\" xlink:type=\"simple\"><rect fill=\"#FFFFFF\" height=\"45.9375\" id=\"E6\" rx=\"10\" ry=\"10\" style=\"stroke: #383838; stroke-width: 1.5;\" width=\"71\" x=\"40.5\" y=\"297.22\"/><text fill=\"#000000\" font-family=\"sans-serif\" font-size=\"12\" font-style=\"italic\" lengthAdjust=\"spacingAndGlyphs\" textLength=\"69\" x=\"41.5\" y=\"313.3587\">«attribute»</text><text fill=\"#000000\" font-family=\"sans-serif\" font-size=\"12\" lengthAdjust=\"spacingAndGlyphs\" textLength=\"6\" x=\"71\" y=\"327.3274\">x</text><line style=\"stroke: #383838; stroke-width: 1.5;\" x1=\"41.5\" x2=\"110.5\" y1=\"335.1575\" y2=\"335.1575\"/></a><!--MD5=[2156ba9850f5573cc1fc38a6a4b2f02b]\n",
       "class E7--><a href=\"psysml:00406d55-97a3-4ada-a9d4-67d88ef5929d\" target=\"_top\" title=\"psysml:00406d55-97a3-4ada-a9d4-67d88ef5929d\" xlink:actuate=\"onRequest\" xlink:href=\"psysml:00406d55-97a3-4ada-a9d4-67d88ef5929d\" xlink:show=\"new\" xlink:title=\"psysml:00406d55-97a3-4ada-a9d4-67d88ef5929d\" xlink:type=\"simple\"><rect fill=\"#FFFFFF\" height=\"45.9375\" id=\"E7\" rx=\"10\" ry=\"10\" style=\"stroke: #383838; stroke-width: 1.5;\" width=\"71\" x=\"146.5\" y=\"297.22\"/><text fill=\"#000000\" font-family=\"sans-serif\" font-size=\"12\" font-style=\"italic\" lengthAdjust=\"spacingAndGlyphs\" textLength=\"69\" x=\"147.5\" y=\"313.3587\">«attribute»</text><text fill=\"#000000\" font-family=\"sans-serif\" font-size=\"12\" lengthAdjust=\"spacingAndGlyphs\" textLength=\"6\" x=\"177\" y=\"327.3274\">y</text><line style=\"stroke: #383838; stroke-width: 1.5;\" x1=\"147.5\" x2=\"216.5\" y1=\"335.1575\" y2=\"335.1575\"/></a><!--MD5=[b9389687b975829384b498ac4b7476b2]\n",
       "class E8--><a href=\"psysml:b610c4be-7598-4a50-a285-e23e2912f41a\" target=\"_top\" title=\"psysml:b610c4be-7598-4a50-a285-e23e2912f41a\" xlink:actuate=\"onRequest\" xlink:href=\"psysml:b610c4be-7598-4a50-a285-e23e2912f41a\" xlink:show=\"new\" xlink:title=\"psysml:b610c4be-7598-4a50-a285-e23e2912f41a\" xlink:type=\"simple\"><rect fill=\"#FFFFFF\" height=\"45.9375\" id=\"E8\" rx=\"10\" ry=\"10\" style=\"stroke: #383838; stroke-width: 1.5;\" width=\"71\" x=\"92.5\" y=\"167.22\"/><text fill=\"#000000\" font-family=\"sans-serif\" font-size=\"12\" font-style=\"italic\" lengthAdjust=\"spacingAndGlyphs\" textLength=\"69\" x=\"93.5\" y=\"183.3587\">«attribute»</text><text fill=\"#000000\" font-family=\"sans-serif\" font-size=\"12\" lengthAdjust=\"spacingAndGlyphs\" textLength=\"5\" x=\"123.5\" y=\"197.3274\">z</text><line style=\"stroke: #383838; stroke-width: 1.5;\" x1=\"93.5\" x2=\"162.5\" y1=\"205.1575\" y2=\"205.1575\"/></a><a href=\"psysml:fbc620fa-f332-480d-9302-6e81c218d767\" target=\"_top\" title=\"psysml:fbc620fa-f332-480d-9302-6e81c218d767\" xlink:actuate=\"onRequest\" xlink:href=\"psysml:fbc620fa-f332-480d-9302-6e81c218d767\" xlink:show=\"new\" xlink:title=\"psysml:fbc620fa-f332-480d-9302-6e81c218d767\" xlink:type=\"simple\"><polygon fill=\"#FFFFFF\" points=\"314.5,163.72,435.5,163.72,442.5,186.0169,449.5,186.0169,449.5,216.3138,314.5,216.3138,314.5,163.72\" style=\"stroke: #000000; stroke-width: 1.5;\"/><line style=\"stroke: #000000; stroke-width: 1.5;\" x1=\"314.5\" x2=\"442.5\" y1=\"186.0169\" y2=\"186.0169\"/><text fill=\"#000000\" font-family=\"sans-serif\" font-size=\"14\" font-weight=\"bold\" lengthAdjust=\"spacingAndGlyphs\" textLength=\"115\" x=\"318.5\" y=\"178.7151\">Application Layer</text></a><a href=\"psysml:426f0663-f125-4848-8cc6-b208ee541f23\" target=\"_top\" title=\"psysml:426f0663-f125-4848-8cc6-b208ee541f23\" xlink:actuate=\"onRequest\" xlink:href=\"psysml:426f0663-f125-4848-8cc6-b208ee541f23\" xlink:show=\"new\" xlink:title=\"psysml:426f0663-f125-4848-8cc6-b208ee541f23\" xlink:type=\"simple\"><polygon fill=\"#FFFFFF\" points=\"327,293.72,423,293.72,430,316.0169,437,316.0169,437,346.3138,327,346.3138,327,293.72\" style=\"stroke: #000000; stroke-width: 1.5;\"/><line style=\"stroke: #000000; stroke-width: 1.5;\" x1=\"327\" x2=\"430\" y1=\"316.0169\" y2=\"316.0169\"/><text fill=\"#000000\" font-family=\"sans-serif\" font-size=\"14\" font-weight=\"bold\" lengthAdjust=\"spacingAndGlyphs\" textLength=\"90\" x=\"331\" y=\"308.7151\">Service Layer</text></a><a href=\"psysml:fd3440a5-7307-47c9-b63e-e029b0e76f05\" target=\"_top\" title=\"psysml:fd3440a5-7307-47c9-b63e-e029b0e76f05\" xlink:actuate=\"onRequest\" xlink:href=\"psysml:fd3440a5-7307-47c9-b63e-e029b0e76f05\" xlink:show=\"new\" xlink:title=\"psysml:fd3440a5-7307-47c9-b63e-e029b0e76f05\" xlink:type=\"simple\"><polygon fill=\"#FFFFFF\" points=\"336,423.72,414,423.72,421,446.0169,428,446.0169,428,476.3138,336,476.3138,336,423.72\" style=\"stroke: #000000; stroke-width: 1.5;\"/><line style=\"stroke: #000000; stroke-width: 1.5;\" x1=\"336\" x2=\"421\" y1=\"446.0169\" y2=\"446.0169\"/><text fill=\"#000000\" font-family=\"sans-serif\" font-size=\"14\" font-weight=\"bold\" lengthAdjust=\"spacingAndGlyphs\" textLength=\"72\" x=\"340\" y=\"438.7151\">Data Layer</text></a><!--MD5=[1f1cd8e6dd4c1b2ca2aaccc9b9bcea6e]\n",
       "link E1 to E2--><a href=\"psysml:1f214475-93e7-4d57-afd6-304a88df216d\" target=\"_top\" title=\"psysml:1f214475-93e7-4d57-afd6-304a88df216d\" xlink:actuate=\"onRequest\" xlink:href=\"psysml:1f214475-93e7-4d57-afd6-304a88df216d\" xlink:show=\"new\" xlink:title=\"psysml:1f214475-93e7-4d57-afd6-304a88df216d\" xlink:type=\"simple\"><path d=\"M279,33.83 C279,36.15 279,73.83 279,111.5 C279,113.8544 279,116.2087 279,118.5544 C279,119.1408 279,119.7267 279,120.3119 \" fill=\"none\" id=\"E1-&gt;E2\" style=\"stroke: #383838; stroke-width: 1.0; stroke-dasharray: 7.0,7.0;\"/><polygon fill=\"#383838\" points=\"279,120.3119,283,111.3119,279,115.3119,275,111.3119,279,120.3119\" style=\"stroke: #383838; stroke-width: 1.0;\"/><text fill=\"#000000\" font-family=\"sans-serif\" font-size=\"13\" lengthAdjust=\"spacingAndGlyphs\" textLength=\"65\" x=\"280\" y=\"76.7869\">«import»*</text></a><!--MD5=[af87c684e3b0d8be13c1a698a818ef1e]\n",
       "link E3 to E4--><a href=\"psysml:3b6c166c-6961-4bb7-b892-e5bb88ba66d9\" target=\"_top\" title=\"psysml:3b6c166c-6961-4bb7-b892-e5bb88ba66d9\" xlink:actuate=\"onRequest\" xlink:href=\"psysml:3b6c166c-6961-4bb7-b892-e5bb88ba66d9\" xlink:show=\"new\" xlink:title=\"psysml:3b6c166c-6961-4bb7-b892-e5bb88ba66d9\" xlink:type=\"simple\"><path d=\"M382,216.82 C382,236.52 382,263.94 382,285.45 \" fill=\"none\" id=\"E3-&gt;E4\" style=\"stroke: #383838; stroke-width: 1.0; stroke-dasharray: 7.0,7.0;\"/><polygon fill=\"#383838\" points=\"382,293.67,385,285.67,379,285.67,382,293.67\" style=\"stroke: #383838; stroke-width: 1.0;\"/><text fill=\"#000000\" font-family=\"sans-serif\" font-size=\"13\" lengthAdjust=\"spacingAndGlyphs\" textLength=\"64\" x=\"383\" y=\"259.7869\">«depend»</text></a><!--MD5=[1b7591eae5389033d8d09a9d6721a717]\n",
       "link E4 to E5--><a href=\"psysml:f4ae8342-4685-4b6d-8549-04188d07c1c2\" target=\"_top\" title=\"psysml:f4ae8342-4685-4b6d-8549-04188d07c1c2\" xlink:actuate=\"onRequest\" xlink:href=\"psysml:f4ae8342-4685-4b6d-8549-04188d07c1c2\" xlink:show=\"new\" xlink:title=\"psysml:f4ae8342-4685-4b6d-8549-04188d07c1c2\" xlink:type=\"simple\"><path d=\"M382,346.82 C382,366.52 382,393.94 382,415.45 \" fill=\"none\" id=\"E4-&gt;E5\" style=\"stroke: #383838; stroke-width: 1.0; stroke-dasharray: 7.0,7.0;\"/><polygon fill=\"#383838\" points=\"382,423.67,385,415.67,379,415.67,382,423.67\" style=\"stroke: #383838; stroke-width: 1.0;\"/><text fill=\"#000000\" font-family=\"sans-serif\" font-size=\"13\" lengthAdjust=\"spacingAndGlyphs\" textLength=\"64\" x=\"383\" y=\"389.7869\">«depend»</text></a><!--MD5=[c5e8897d989ce984f93528998a7150fe]\n",
       "link E8 to E6--><a href=\"psysml:dd0e7371-702f-42f4-9a28-a8ea46c1187a\" target=\"_top\" title=\"psysml:dd0e7371-702f-42f4-9a28-a8ea46c1187a\" xlink:actuate=\"onRequest\" xlink:href=\"psysml:dd0e7371-702f-42f4-9a28-a8ea46c1187a\" xlink:show=\"new\" xlink:title=\"psysml:dd0e7371-702f-42f4-9a28-a8ea46c1187a\" xlink:type=\"simple\"><path d=\"M105.55,213.47 C89.97,228.91 72,246.72 72,246.72 C72,246.72 72,263.72 72,263.72 C72,263.72 72.88,275.93 73.81,288.9 \" fill=\"none\" id=\"E8-&gt;E6\" style=\"stroke: #383838; stroke-width: 1.0; stroke-dasharray: 7.0,7.0;\"/><polygon fill=\"#383838\" points=\"74.4,296.97,76.8203,288.776,70.8357,289.205,74.4,296.97\" style=\"stroke: #383838; stroke-width: 1.0;\"/><text fill=\"#000000\" font-family=\"sans-serif\" font-size=\"13\" lengthAdjust=\"spacingAndGlyphs\" textLength=\"64\" x=\"73\" y=\"259.7869\">«depend»</text></a><!--MD5=[bfa3c8b0d15052fdf50ae9310b491027]\n",
       "link E8 to E7--><a href=\"psysml:dd0e7371-702f-42f4-9a28-a8ea46c1187a\" target=\"_top\" title=\"psysml:dd0e7371-702f-42f4-9a28-a8ea46c1187a\" xlink:actuate=\"onRequest\" xlink:href=\"psysml:dd0e7371-702f-42f4-9a28-a8ea46c1187a\" xlink:show=\"new\" xlink:title=\"psysml:dd0e7371-702f-42f4-9a28-a8ea46c1187a\" xlink:type=\"simple\"><path d=\"M137.28,213.22 C146.17,234.29 159.64,266.22 169.47,289.53 \" fill=\"none\" id=\"E8-&gt;E7\" style=\"stroke: #383838; stroke-width: 1.0; stroke-dasharray: 7.0,7.0;\"/><polygon fill=\"#383838\" points=\"172.66,297.07,172.3241,288.5326,166.7933,290.8585,172.66,297.07\" style=\"stroke: #383838; stroke-width: 1.0;\"/><text fill=\"#000000\" font-family=\"sans-serif\" font-size=\"13\" lengthAdjust=\"spacingAndGlyphs\" textLength=\"64\" x=\"159\" y=\"259.7869\">«depend»</text></a><!--MD5=[b64e93d11293ca028b3d2d29a7184943]\n",
       "@startuml\r\n",
       "skinparam linetype polyline\r\n",
       "skinparam monochrome true\r\n",
       "skinparam classbackgroundcolor white\r\n",
       "skinparam shadowing false\r\n",
       "skinparam wrapWidth 300\r\n",
       "hide circle\r\n",
       "\r\n",
       "package \"DependencyTest\" as E1  [[psysml:49f03030-de0c-4f13-ba7b-914972c61aaf ]]  {\r\n",
       "package \"System\" as E2  [[psysml:0a123ebf-9907-4602-8f86-a30c7447a6cf ]]  {\r\n",
       "package \"Application Layer\" as E3  [[psysml:fbc620fa-f332-480d-9302-6e81c218d767 ]]  {\r\n",
       "}\r\n",
       "package \"Service Layer\" as E4  [[psysml:426f0663-f125-4848-8cc6-b208ee541f23 ]]  {\r\n",
       "}\r\n",
       "package \"Data Layer\" as E5  [[psysml:fd3440a5-7307-47c9-b63e-e029b0e76f05 ]]  {\r\n",
       "}\r\n",
       "}\r\n",
       "comp usage \"x \" as E6  <<(T,blue) attribute>> [[psysml:0783b658-08bf-4abf-9182-ba1ece255f80 ]] {\r\n",
       "}\r\n",
       "comp usage \"y \" as E7  <<(T,blue) attribute>> [[psysml:00406d55-97a3-4ada-a9d4-67d88ef5929d ]] {\r\n",
       "}\r\n",
       "comp usage \"z \" as E8  <<(T,blue) attribute>> [[psysml:b610c4be-7598-4a50-a285-e23e2912f41a ]] {\r\n",
       "}\r\n",
       "}\r\n",
       "E1 ..> E2 [[psysml:1f214475-93e7-4d57-afd6-304a88df216d ]] : <<import>>*\r\n",
       "E3 ..>> E4 [[psysml:3b6c166c-6961-4bb7-b892-e5bb88ba66d9 ]] : <<depend>>\r\n",
       "E4 ..>> E5 [[psysml:f4ae8342-4685-4b6d-8549-04188d07c1c2 ]] : <<depend>>\r\n",
       "E8 ..>> E6 [[psysml:dd0e7371-702f-42f4-9a28-a8ea46c1187a ]] : <<depend>>\r\n",
       "E8 ..>> E7 [[psysml:dd0e7371-702f-42f4-9a28-a8ea46c1187a ]] : <<depend>>\r\n",
       "@enduml\r\n",
       "\n",
       "PlantUML version 1.2020.13(Sat Jun 13 12:26:38 UTC 2020)\n",
       "(EPL source distribution)\n",
       "Java Runtime: OpenJDK Runtime Environment\n",
       "JVM: OpenJDK 64-Bit Server VM\n",
       "Default Encoding: UTF-8\n",
       "Language: en\n",
       "Country: null\n",
       "--></g></svg>"
      ]
     },
     "execution_count": 15,
     "metadata": {},
     "output_type": "execute_result"
    }
   ],
   "source": [
    "%viz --style=\"POLYLINE\" --view=\"MIXED\" \"DependencyTest\""
   ]
  },
  {
   "cell_type": "code",
   "execution_count": 16,
   "id": "b3101c5f",
   "metadata": {
    "execution": {
     "iopub.execute_input": "2022-03-03T09:54:59.272797Z",
     "iopub.status.busy": "2022-03-03T09:54:59.272340Z",
     "iopub.status.idle": "2022-03-03T09:54:59.315149Z",
     "shell.execute_reply": "2022-03-03T09:54:59.314769Z"
    }
   },
   "outputs": [
    {
     "data": {
      "image/svg+xml": [
       "<?xml version=\"1.0\" encoding=\"UTF-8\" standalone=\"no\"?><svg xmlns=\"http://www.w3.org/2000/svg\" xmlns:xlink=\"http://www.w3.org/1999/xlink\" contentScriptType=\"application/ecmascript\" contentStyleType=\"text/css\" height=\"392px\" preserveAspectRatio=\"none\" style=\"width:860px;height:392px;\" version=\"1.1\" viewBox=\"0 0 860 392\" width=\"860px\" zoomAndPan=\"magnify\"><defs/><g><!--MD5=[fbc87193dbaf4d95561dea2c320d4a47]\n",
       "cluster E1--><a href=\"psysml:49f03030-de0c-4f13-ba7b-914972c61aaf\" target=\"_top\" title=\"psysml:49f03030-de0c-4f13-ba7b-914972c61aaf\" xlink:actuate=\"onRequest\" xlink:href=\"psysml:49f03030-de0c-4f13-ba7b-914972c61aaf\" xlink:show=\"new\" xlink:title=\"psysml:49f03030-de0c-4f13-ba7b-914972c61aaf\" xlink:type=\"simple\"><polygon fill=\"#FFFFFF\" points=\"16,6,142,6,149,28.2969,838.72,28.2969,838.72,380,16,380,16,6\" style=\"stroke: #000000; stroke-width: 1.5;\"/><line style=\"stroke: #000000; stroke-width: 1.5;\" x1=\"16\" x2=\"149\" y1=\"28.2969\" y2=\"28.2969\"/><text fill=\"#000000\" font-family=\"sans-serif\" font-size=\"14\" font-weight=\"bold\" lengthAdjust=\"spacingAndGlyphs\" textLength=\"120\" x=\"20\" y=\"20.9951\">DependencyTest</text></a><!--MD5=[e4f7fae6ed58524ba242bb0b0d3be6b7]\n",
       "cluster E2--><a href=\"psysml:0a123ebf-9907-4602-8f86-a30c7447a6cf\" target=\"_top\" title=\"psysml:0a123ebf-9907-4602-8f86-a30c7447a6cf\" xlink:actuate=\"onRequest\" xlink:href=\"psysml:0a123ebf-9907-4602-8f86-a30c7447a6cf\" xlink:show=\"new\" xlink:title=\"psysml:0a123ebf-9907-4602-8f86-a30c7447a6cf\" xlink:type=\"simple\"><polygon fill=\"#FFFFFF\" points=\"161.72,65,218.72,65,225.72,87.2969,798.72,87.2969,798.72,205,161.72,205,161.72,65\" style=\"stroke: #000000; stroke-width: 1.5;\"/><line style=\"stroke: #000000; stroke-width: 1.5;\" x1=\"161.72\" x2=\"225.72\" y1=\"87.2969\" y2=\"87.2969\"/><text fill=\"#000000\" font-family=\"sans-serif\" font-size=\"14\" font-weight=\"bold\" lengthAdjust=\"spacingAndGlyphs\" textLength=\"51\" x=\"165.72\" y=\"79.9951\">System</text></a><!--MD5=[60a26617385b1d2d0262a64233df1f8d]\n",
       "class E6--><a href=\"psysml:0783b658-08bf-4abf-9182-ba1ece255f80\" target=\"_top\" title=\"psysml:0783b658-08bf-4abf-9182-ba1ece255f80\" xlink:actuate=\"onRequest\" xlink:href=\"psysml:0783b658-08bf-4abf-9182-ba1ece255f80\" xlink:show=\"new\" xlink:title=\"psysml:0783b658-08bf-4abf-9182-ba1ece255f80\" xlink:type=\"simple\"><rect fill=\"#FFFFFF\" height=\"45.9375\" id=\"E6\" rx=\"10\" ry=\"10\" style=\"stroke: #383838; stroke-width: 1.5;\" width=\"71\" x=\"466.22\" y=\"310\"/><text fill=\"#000000\" font-family=\"sans-serif\" font-size=\"12\" font-style=\"italic\" lengthAdjust=\"spacingAndGlyphs\" textLength=\"69\" x=\"467.22\" y=\"326.1387\">«attribute»</text><text fill=\"#000000\" font-family=\"sans-serif\" font-size=\"12\" lengthAdjust=\"spacingAndGlyphs\" textLength=\"6\" x=\"496.72\" y=\"340.1074\">x</text><line style=\"stroke: #383838; stroke-width: 1.5;\" x1=\"467.22\" x2=\"536.22\" y1=\"347.9375\" y2=\"347.9375\"/></a><!--MD5=[2156ba9850f5573cc1fc38a6a4b2f02b]\n",
       "class E7--><a href=\"psysml:00406d55-97a3-4ada-a9d4-67d88ef5929d\" target=\"_top\" title=\"psysml:00406d55-97a3-4ada-a9d4-67d88ef5929d\" xlink:actuate=\"onRequest\" xlink:href=\"psysml:00406d55-97a3-4ada-a9d4-67d88ef5929d\" xlink:show=\"new\" xlink:title=\"psysml:00406d55-97a3-4ada-a9d4-67d88ef5929d\" xlink:type=\"simple\"><rect fill=\"#FFFFFF\" height=\"45.9375\" id=\"E7\" rx=\"10\" ry=\"10\" style=\"stroke: #383838; stroke-width: 1.5;\" width=\"71\" x=\"466.22\" y=\"229\"/><text fill=\"#000000\" font-family=\"sans-serif\" font-size=\"12\" font-style=\"italic\" lengthAdjust=\"spacingAndGlyphs\" textLength=\"69\" x=\"467.22\" y=\"245.1387\">«attribute»</text><text fill=\"#000000\" font-family=\"sans-serif\" font-size=\"12\" lengthAdjust=\"spacingAndGlyphs\" textLength=\"6\" x=\"496.72\" y=\"259.1074\">y</text><line style=\"stroke: #383838; stroke-width: 1.5;\" x1=\"467.22\" x2=\"536.22\" y1=\"266.9375\" y2=\"266.9375\"/></a><!--MD5=[b9389687b975829384b498ac4b7476b2]\n",
       "class E8--><a href=\"psysml:b610c4be-7598-4a50-a285-e23e2912f41a\" target=\"_top\" title=\"psysml:b610c4be-7598-4a50-a285-e23e2912f41a\" xlink:actuate=\"onRequest\" xlink:href=\"psysml:b610c4be-7598-4a50-a285-e23e2912f41a\" xlink:show=\"new\" xlink:title=\"psysml:b610c4be-7598-4a50-a285-e23e2912f41a\" xlink:type=\"simple\"><rect fill=\"#FFFFFF\" height=\"45.9375\" id=\"E8\" rx=\"10\" ry=\"10\" style=\"stroke: #383838; stroke-width: 1.5;\" width=\"71\" x=\"217.72\" y=\"262\"/><text fill=\"#000000\" font-family=\"sans-serif\" font-size=\"12\" font-style=\"italic\" lengthAdjust=\"spacingAndGlyphs\" textLength=\"69\" x=\"218.72\" y=\"278.1387\">«attribute»</text><text fill=\"#000000\" font-family=\"sans-serif\" font-size=\"12\" lengthAdjust=\"spacingAndGlyphs\" textLength=\"5\" x=\"248.72\" y=\"292.1074\">z</text><line style=\"stroke: #383838; stroke-width: 1.5;\" x1=\"218.72\" x2=\"287.72\" y1=\"299.9375\" y2=\"299.9375\"/></a><a href=\"psysml:fbc620fa-f332-480d-9302-6e81c218d767\" target=\"_top\" title=\"psysml:fbc620fa-f332-480d-9302-6e81c218d767\" xlink:actuate=\"onRequest\" xlink:href=\"psysml:fbc620fa-f332-480d-9302-6e81c218d767\" xlink:show=\"new\" xlink:title=\"psysml:fbc620fa-f332-480d-9302-6e81c218d767\" xlink:type=\"simple\"><polygon fill=\"#FFFFFF\" points=\"185.72,108.5,306.72,108.5,313.72,130.7969,320.72,130.7969,320.72,161.0938,185.72,161.0938,185.72,108.5\" style=\"stroke: #000000; stroke-width: 1.5;\"/><line style=\"stroke: #000000; stroke-width: 1.5;\" x1=\"185.72\" x2=\"313.72\" y1=\"130.7969\" y2=\"130.7969\"/><text fill=\"#000000\" font-family=\"sans-serif\" font-size=\"14\" font-weight=\"bold\" lengthAdjust=\"spacingAndGlyphs\" textLength=\"115\" x=\"189.72\" y=\"123.4951\">Application Layer</text></a><a href=\"psysml:426f0663-f125-4848-8cc6-b208ee541f23\" target=\"_top\" title=\"psysml:426f0663-f125-4848-8cc6-b208ee541f23\" xlink:actuate=\"onRequest\" xlink:href=\"psysml:426f0663-f125-4848-8cc6-b208ee541f23\" xlink:show=\"new\" xlink:title=\"psysml:426f0663-f125-4848-8cc6-b208ee541f23\" xlink:type=\"simple\"><polygon fill=\"#FFFFFF\" points=\"446.72,108.5,542.72,108.5,549.72,130.7969,556.72,130.7969,556.72,161.0938,446.72,161.0938,446.72,108.5\" style=\"stroke: #000000; stroke-width: 1.5;\"/><line style=\"stroke: #000000; stroke-width: 1.5;\" x1=\"446.72\" x2=\"549.72\" y1=\"130.7969\" y2=\"130.7969\"/><text fill=\"#000000\" font-family=\"sans-serif\" font-size=\"14\" font-weight=\"bold\" lengthAdjust=\"spacingAndGlyphs\" textLength=\"90\" x=\"450.72\" y=\"123.4951\">Service Layer</text></a><a href=\"psysml:fd3440a5-7307-47c9-b63e-e029b0e76f05\" target=\"_top\" title=\"psysml:fd3440a5-7307-47c9-b63e-e029b0e76f05\" xlink:actuate=\"onRequest\" xlink:href=\"psysml:fd3440a5-7307-47c9-b63e-e029b0e76f05\" xlink:show=\"new\" xlink:title=\"psysml:fd3440a5-7307-47c9-b63e-e029b0e76f05\" xlink:type=\"simple\"><polygon fill=\"#FFFFFF\" points=\"682.72,108.5,760.72,108.5,767.72,130.7969,774.72,130.7969,774.72,161.0938,682.72,161.0938,682.72,108.5\" style=\"stroke: #000000; stroke-width: 1.5;\"/><line style=\"stroke: #000000; stroke-width: 1.5;\" x1=\"682.72\" x2=\"767.72\" y1=\"130.7969\" y2=\"130.7969\"/><text fill=\"#000000\" font-family=\"sans-serif\" font-size=\"14\" font-weight=\"bold\" lengthAdjust=\"spacingAndGlyphs\" textLength=\"72\" x=\"686.72\" y=\"123.4951\">Data Layer</text></a><!--MD5=[1f1cd8e6dd4c1b2ca2aaccc9b9bcea6e]\n",
       "link E1 to E2--><a href=\"psysml:1f214475-93e7-4d57-afd6-304a88df216d\" target=\"_top\" title=\"psysml:1f214475-93e7-4d57-afd6-304a88df216d\" xlink:actuate=\"onRequest\" xlink:href=\"psysml:1f214475-93e7-4d57-afd6-304a88df216d\" xlink:show=\"new\" xlink:title=\"psysml:1f214475-93e7-4d57-afd6-304a88df216d\" xlink:type=\"simple\"><path d=\"M24.88,197 C28.275,197 83.4,197 138.5113,197 C145.4002,197 152.2888,197 159.0763,197 C159.9247,197 160.7715,197 161.6166,197 \" fill=\"none\" id=\"E1-&gt;E2\" style=\"stroke: #383838; stroke-width: 1.0; stroke-dasharray: 7.0,7.0;\"/><polygon fill=\"#383838\" points=\"161.6166,197,152.6166,193,156.6166,197,152.6166,201,161.6166,197\" style=\"stroke: #383838; stroke-width: 1.0;\"/><text fill=\"#000000\" font-family=\"sans-serif\" font-size=\"13\" lengthAdjust=\"spacingAndGlyphs\" textLength=\"65\" x=\"55.72\" y=\"193.0669\">«import»*</text></a><!--MD5=[af87c684e3b0d8be13c1a698a818ef1e]\n",
       "link E3 to E4--><a href=\"psysml:3b6c166c-6961-4bb7-b892-e5bb88ba66d9\" target=\"_top\" title=\"psysml:3b6c166c-6961-4bb7-b892-e5bb88ba66d9\" xlink:actuate=\"onRequest\" xlink:href=\"psysml:3b6c166c-6961-4bb7-b892-e5bb88ba66d9\" xlink:show=\"new\" xlink:title=\"psysml:3b6c166c-6961-4bb7-b892-e5bb88ba66d9\" xlink:type=\"simple\"><path d=\"M320.93,135 C357.36,135 402.21,135 438,135 \" fill=\"none\" id=\"E3-&gt;E4\" style=\"stroke: #383838; stroke-width: 1.0; stroke-dasharray: 7.0,7.0;\"/><polygon fill=\"#383838\" points=\"446.42,135,438.42,132,438.42,138,446.42,135\" style=\"stroke: #383838; stroke-width: 1.0;\"/><text fill=\"#000000\" font-family=\"sans-serif\" font-size=\"13\" lengthAdjust=\"spacingAndGlyphs\" textLength=\"64\" x=\"351.72\" y=\"131.0669\">«depend»</text></a><!--MD5=[1b7591eae5389033d8d09a9d6721a717]\n",
       "link E4 to E5--><a href=\"psysml:f4ae8342-4685-4b6d-8549-04188d07c1c2\" target=\"_top\" title=\"psysml:f4ae8342-4685-4b6d-8549-04188d07c1c2\" xlink:actuate=\"onRequest\" xlink:href=\"psysml:f4ae8342-4685-4b6d-8549-04188d07c1c2\" xlink:show=\"new\" xlink:title=\"psysml:f4ae8342-4685-4b6d-8549-04188d07c1c2\" xlink:type=\"simple\"><path d=\"M556.9,135 C592.53,135 638.96,135 674.41,135 \" fill=\"none\" id=\"E4-&gt;E5\" style=\"stroke: #383838; stroke-width: 1.0; stroke-dasharray: 7.0,7.0;\"/><polygon fill=\"#383838\" points=\"682.72,135,674.72,132,674.72,138,682.72,135\" style=\"stroke: #383838; stroke-width: 1.0;\"/><text fill=\"#000000\" font-family=\"sans-serif\" font-size=\"13\" lengthAdjust=\"spacingAndGlyphs\" textLength=\"64\" x=\"587.72\" y=\"131.0669\">«depend»</text></a><!--MD5=[c5e8897d989ce984f93528998a7150fe]\n",
       "link E8 to E6--><a href=\"psysml:dd0e7371-702f-42f4-9a28-a8ea46c1187a\" target=\"_top\" title=\"psysml:dd0e7371-702f-42f4-9a28-a8ea46c1187a\" xlink:actuate=\"onRequest\" xlink:href=\"psysml:dd0e7371-702f-42f4-9a28-a8ea46c1187a\" xlink:show=\"new\" xlink:title=\"psysml:dd0e7371-702f-42f4-9a28-a8ea46c1187a\" xlink:type=\"simple\"><path d=\"M288.75,291.72 C333.09,300.36 410.02,315.34 458,324.68 \" fill=\"none\" id=\"E8-&gt;E6\" style=\"stroke: #383838; stroke-width: 1.0; stroke-dasharray: 7.0,7.0;\"/><polygon fill=\"#383838\" points=\"466.02,326.24,458.7416,321.765,457.5938,327.6542,466.02,326.24\" style=\"stroke: #383838; stroke-width: 1.0;\"/><text fill=\"#000000\" font-family=\"sans-serif\" font-size=\"13\" lengthAdjust=\"spacingAndGlyphs\" textLength=\"64\" x=\"351.72\" y=\"301.0669\">«depend»</text></a><!--MD5=[bfa3c8b0d15052fdf50ae9310b491027]\n",
       "link E8 to E7--><a href=\"psysml:dd0e7371-702f-42f4-9a28-a8ea46c1187a\" target=\"_top\" title=\"psysml:dd0e7371-702f-42f4-9a28-a8ea46c1187a\" xlink:actuate=\"onRequest\" xlink:href=\"psysml:dd0e7371-702f-42f4-9a28-a8ea46c1187a\" xlink:show=\"new\" xlink:title=\"psysml:dd0e7371-702f-42f4-9a28-a8ea46c1187a\" xlink:type=\"simple\"><path d=\"M288.75,280.38 C333.09,274.44 410.02,264.14 458,257.72 \" fill=\"none\" id=\"E8-&gt;E7\" style=\"stroke: #383838; stroke-width: 1.0; stroke-dasharray: 7.0,7.0;\"/><polygon fill=\"#383838\" points=\"466.02,256.65,457.6937,254.7336,458.4867,260.681,466.02,256.65\" style=\"stroke: #383838; stroke-width: 1.0;\"/><text fill=\"#000000\" font-family=\"sans-serif\" font-size=\"13\" lengthAdjust=\"spacingAndGlyphs\" textLength=\"64\" x=\"351.72\" y=\"260.0669\">«depend»</text></a><!--MD5=[fca2e1525b0ad57e930091f1be3b1d1f]\n",
       "@startuml\r\n",
       "left to right direction\r\n",
       "skinparam monochrome true\r\n",
       "skinparam classbackgroundcolor white\r\n",
       "skinparam shadowing false\r\n",
       "skinparam wrapWidth 300\r\n",
       "hide circle\r\n",
       "\r\n",
       "package \"DependencyTest\" as E1  [[psysml:49f03030-de0c-4f13-ba7b-914972c61aaf ]]  {\r\n",
       "package \"System\" as E2  [[psysml:0a123ebf-9907-4602-8f86-a30c7447a6cf ]]  {\r\n",
       "package \"Application Layer\" as E3  [[psysml:fbc620fa-f332-480d-9302-6e81c218d767 ]]  {\r\n",
       "}\r\n",
       "package \"Service Layer\" as E4  [[psysml:426f0663-f125-4848-8cc6-b208ee541f23 ]]  {\r\n",
       "}\r\n",
       "package \"Data Layer\" as E5  [[psysml:fd3440a5-7307-47c9-b63e-e029b0e76f05 ]]  {\r\n",
       "}\r\n",
       "}\r\n",
       "comp usage \"x \" as E6  <<(T,blue) attribute>> [[psysml:0783b658-08bf-4abf-9182-ba1ece255f80 ]] {\r\n",
       "}\r\n",
       "comp usage \"y \" as E7  <<(T,blue) attribute>> [[psysml:00406d55-97a3-4ada-a9d4-67d88ef5929d ]] {\r\n",
       "}\r\n",
       "comp usage \"z \" as E8  <<(T,blue) attribute>> [[psysml:b610c4be-7598-4a50-a285-e23e2912f41a ]] {\r\n",
       "}\r\n",
       "}\r\n",
       "E1 ..> E2 [[psysml:1f214475-93e7-4d57-afd6-304a88df216d ]] : <<import>>*\r\n",
       "E3 ..>> E4 [[psysml:3b6c166c-6961-4bb7-b892-e5bb88ba66d9 ]] : <<depend>>\r\n",
       "E4 ..>> E5 [[psysml:f4ae8342-4685-4b6d-8549-04188d07c1c2 ]] : <<depend>>\r\n",
       "E8 ..>> E6 [[psysml:dd0e7371-702f-42f4-9a28-a8ea46c1187a ]] : <<depend>>\r\n",
       "E8 ..>> E7 [[psysml:dd0e7371-702f-42f4-9a28-a8ea46c1187a ]] : <<depend>>\r\n",
       "@enduml\r\n",
       "\n",
       "PlantUML version 1.2020.13(Sat Jun 13 12:26:38 UTC 2020)\n",
       "(EPL source distribution)\n",
       "Java Runtime: OpenJDK Runtime Environment\n",
       "JVM: OpenJDK 64-Bit Server VM\n",
       "Default Encoding: UTF-8\n",
       "Language: en\n",
       "Country: null\n",
       "--></g></svg>"
      ]
     },
     "execution_count": 16,
     "metadata": {},
     "output_type": "execute_result"
    }
   ],
   "source": [
    "%viz --style=\"LR\" --view=\"Default\" \"DependencyTest\""
   ]
  },
  {
   "cell_type": "code",
   "execution_count": 17,
   "id": "5ebb7faa",
   "metadata": {
    "execution": {
     "iopub.execute_input": "2022-03-03T09:54:59.364948Z",
     "iopub.status.busy": "2022-03-03T09:54:59.364324Z",
     "iopub.status.idle": "2022-03-03T09:54:59.399545Z",
     "shell.execute_reply": "2022-03-03T09:54:59.397918Z"
    }
   },
   "outputs": [
    {
     "data": {
      "image/svg+xml": [
       "<?xml version=\"1.0\" encoding=\"UTF-8\" standalone=\"no\"?><svg xmlns=\"http://www.w3.org/2000/svg\" xmlns:xlink=\"http://www.w3.org/1999/xlink\" contentScriptType=\"application/ecmascript\" contentStyleType=\"text/css\" height=\"392px\" preserveAspectRatio=\"none\" style=\"width:860px;height:392px;\" version=\"1.1\" viewBox=\"0 0 860 392\" width=\"860px\" zoomAndPan=\"magnify\"><defs/><g><!--MD5=[fbc87193dbaf4d95561dea2c320d4a47]\n",
       "cluster E1--><a href=\"psysml:49f03030-de0c-4f13-ba7b-914972c61aaf\" target=\"_top\" title=\"psysml:49f03030-de0c-4f13-ba7b-914972c61aaf\" xlink:actuate=\"onRequest\" xlink:href=\"psysml:49f03030-de0c-4f13-ba7b-914972c61aaf\" xlink:show=\"new\" xlink:title=\"psysml:49f03030-de0c-4f13-ba7b-914972c61aaf\" xlink:type=\"simple\"><polygon fill=\"#FFFFFF\" points=\"16,6,142,6,149,28.2969,838.72,28.2969,838.72,380,16,380,16,6\" style=\"stroke: #000000; stroke-width: 1.5;\"/><line style=\"stroke: #000000; stroke-width: 1.5;\" x1=\"16\" x2=\"149\" y1=\"28.2969\" y2=\"28.2969\"/><text fill=\"#000000\" font-family=\"sans-serif\" font-size=\"14\" font-weight=\"bold\" lengthAdjust=\"spacingAndGlyphs\" textLength=\"120\" x=\"20\" y=\"20.9951\">DependencyTest</text></a><!--MD5=[e4f7fae6ed58524ba242bb0b0d3be6b7]\n",
       "cluster E2--><a href=\"psysml:0a123ebf-9907-4602-8f86-a30c7447a6cf\" target=\"_top\" title=\"psysml:0a123ebf-9907-4602-8f86-a30c7447a6cf\" xlink:actuate=\"onRequest\" xlink:href=\"psysml:0a123ebf-9907-4602-8f86-a30c7447a6cf\" xlink:show=\"new\" xlink:title=\"psysml:0a123ebf-9907-4602-8f86-a30c7447a6cf\" xlink:type=\"simple\"><polygon fill=\"#FFFFFF\" points=\"161.72,65,218.72,65,225.72,87.2969,798.72,87.2969,798.72,205,161.72,205,161.72,65\" style=\"stroke: #000000; stroke-width: 1.5;\"/><line style=\"stroke: #000000; stroke-width: 1.5;\" x1=\"161.72\" x2=\"225.72\" y1=\"87.2969\" y2=\"87.2969\"/><text fill=\"#000000\" font-family=\"sans-serif\" font-size=\"14\" font-weight=\"bold\" lengthAdjust=\"spacingAndGlyphs\" textLength=\"51\" x=\"165.72\" y=\"79.9951\">System</text></a><!--MD5=[60a26617385b1d2d0262a64233df1f8d]\n",
       "class E6--><a href=\"psysml:0783b658-08bf-4abf-9182-ba1ece255f80\" target=\"_top\" title=\"psysml:0783b658-08bf-4abf-9182-ba1ece255f80\" xlink:actuate=\"onRequest\" xlink:href=\"psysml:0783b658-08bf-4abf-9182-ba1ece255f80\" xlink:show=\"new\" xlink:title=\"psysml:0783b658-08bf-4abf-9182-ba1ece255f80\" xlink:type=\"simple\"><rect fill=\"#FFFFFF\" height=\"45.9375\" id=\"E6\" rx=\"10\" ry=\"10\" style=\"stroke: #383838; stroke-width: 1.5;\" width=\"71\" x=\"466.22\" y=\"310\"/><text fill=\"#000000\" font-family=\"sans-serif\" font-size=\"12\" font-style=\"italic\" lengthAdjust=\"spacingAndGlyphs\" textLength=\"69\" x=\"467.22\" y=\"326.1387\">«attribute»</text><text fill=\"#000000\" font-family=\"sans-serif\" font-size=\"12\" lengthAdjust=\"spacingAndGlyphs\" textLength=\"6\" x=\"496.72\" y=\"340.1074\">x</text><line style=\"stroke: #383838; stroke-width: 1.5;\" x1=\"467.22\" x2=\"536.22\" y1=\"347.9375\" y2=\"347.9375\"/></a><!--MD5=[2156ba9850f5573cc1fc38a6a4b2f02b]\n",
       "class E7--><a href=\"psysml:00406d55-97a3-4ada-a9d4-67d88ef5929d\" target=\"_top\" title=\"psysml:00406d55-97a3-4ada-a9d4-67d88ef5929d\" xlink:actuate=\"onRequest\" xlink:href=\"psysml:00406d55-97a3-4ada-a9d4-67d88ef5929d\" xlink:show=\"new\" xlink:title=\"psysml:00406d55-97a3-4ada-a9d4-67d88ef5929d\" xlink:type=\"simple\"><rect fill=\"#FFFFFF\" height=\"45.9375\" id=\"E7\" rx=\"10\" ry=\"10\" style=\"stroke: #383838; stroke-width: 1.5;\" width=\"71\" x=\"466.22\" y=\"229\"/><text fill=\"#000000\" font-family=\"sans-serif\" font-size=\"12\" font-style=\"italic\" lengthAdjust=\"spacingAndGlyphs\" textLength=\"69\" x=\"467.22\" y=\"245.1387\">«attribute»</text><text fill=\"#000000\" font-family=\"sans-serif\" font-size=\"12\" lengthAdjust=\"spacingAndGlyphs\" textLength=\"6\" x=\"496.72\" y=\"259.1074\">y</text><line style=\"stroke: #383838; stroke-width: 1.5;\" x1=\"467.22\" x2=\"536.22\" y1=\"266.9375\" y2=\"266.9375\"/></a><!--MD5=[b9389687b975829384b498ac4b7476b2]\n",
       "class E8--><a href=\"psysml:b610c4be-7598-4a50-a285-e23e2912f41a\" target=\"_top\" title=\"psysml:b610c4be-7598-4a50-a285-e23e2912f41a\" xlink:actuate=\"onRequest\" xlink:href=\"psysml:b610c4be-7598-4a50-a285-e23e2912f41a\" xlink:show=\"new\" xlink:title=\"psysml:b610c4be-7598-4a50-a285-e23e2912f41a\" xlink:type=\"simple\"><rect fill=\"#FFFFFF\" height=\"45.9375\" id=\"E8\" rx=\"10\" ry=\"10\" style=\"stroke: #383838; stroke-width: 1.5;\" width=\"71\" x=\"217.72\" y=\"262\"/><text fill=\"#000000\" font-family=\"sans-serif\" font-size=\"12\" font-style=\"italic\" lengthAdjust=\"spacingAndGlyphs\" textLength=\"69\" x=\"218.72\" y=\"278.1387\">«attribute»</text><text fill=\"#000000\" font-family=\"sans-serif\" font-size=\"12\" lengthAdjust=\"spacingAndGlyphs\" textLength=\"5\" x=\"248.72\" y=\"292.1074\">z</text><line style=\"stroke: #383838; stroke-width: 1.5;\" x1=\"218.72\" x2=\"287.72\" y1=\"299.9375\" y2=\"299.9375\"/></a><a href=\"psysml:fbc620fa-f332-480d-9302-6e81c218d767\" target=\"_top\" title=\"psysml:fbc620fa-f332-480d-9302-6e81c218d767\" xlink:actuate=\"onRequest\" xlink:href=\"psysml:fbc620fa-f332-480d-9302-6e81c218d767\" xlink:show=\"new\" xlink:title=\"psysml:fbc620fa-f332-480d-9302-6e81c218d767\" xlink:type=\"simple\"><polygon fill=\"#FFFFFF\" points=\"185.72,108.5,306.72,108.5,313.72,130.7969,320.72,130.7969,320.72,161.0938,185.72,161.0938,185.72,108.5\" style=\"stroke: #000000; stroke-width: 1.5;\"/><line style=\"stroke: #000000; stroke-width: 1.5;\" x1=\"185.72\" x2=\"313.72\" y1=\"130.7969\" y2=\"130.7969\"/><text fill=\"#000000\" font-family=\"sans-serif\" font-size=\"14\" font-weight=\"bold\" lengthAdjust=\"spacingAndGlyphs\" textLength=\"115\" x=\"189.72\" y=\"123.4951\">Application Layer</text></a><a href=\"psysml:426f0663-f125-4848-8cc6-b208ee541f23\" target=\"_top\" title=\"psysml:426f0663-f125-4848-8cc6-b208ee541f23\" xlink:actuate=\"onRequest\" xlink:href=\"psysml:426f0663-f125-4848-8cc6-b208ee541f23\" xlink:show=\"new\" xlink:title=\"psysml:426f0663-f125-4848-8cc6-b208ee541f23\" xlink:type=\"simple\"><polygon fill=\"#FFFFFF\" points=\"446.72,108.5,542.72,108.5,549.72,130.7969,556.72,130.7969,556.72,161.0938,446.72,161.0938,446.72,108.5\" style=\"stroke: #000000; stroke-width: 1.5;\"/><line style=\"stroke: #000000; stroke-width: 1.5;\" x1=\"446.72\" x2=\"549.72\" y1=\"130.7969\" y2=\"130.7969\"/><text fill=\"#000000\" font-family=\"sans-serif\" font-size=\"14\" font-weight=\"bold\" lengthAdjust=\"spacingAndGlyphs\" textLength=\"90\" x=\"450.72\" y=\"123.4951\">Service Layer</text></a><a href=\"psysml:fd3440a5-7307-47c9-b63e-e029b0e76f05\" target=\"_top\" title=\"psysml:fd3440a5-7307-47c9-b63e-e029b0e76f05\" xlink:actuate=\"onRequest\" xlink:href=\"psysml:fd3440a5-7307-47c9-b63e-e029b0e76f05\" xlink:show=\"new\" xlink:title=\"psysml:fd3440a5-7307-47c9-b63e-e029b0e76f05\" xlink:type=\"simple\"><polygon fill=\"#FFFFFF\" points=\"682.72,108.5,760.72,108.5,767.72,130.7969,774.72,130.7969,774.72,161.0938,682.72,161.0938,682.72,108.5\" style=\"stroke: #000000; stroke-width: 1.5;\"/><line style=\"stroke: #000000; stroke-width: 1.5;\" x1=\"682.72\" x2=\"767.72\" y1=\"130.7969\" y2=\"130.7969\"/><text fill=\"#000000\" font-family=\"sans-serif\" font-size=\"14\" font-weight=\"bold\" lengthAdjust=\"spacingAndGlyphs\" textLength=\"72\" x=\"686.72\" y=\"123.4951\">Data Layer</text></a><!--MD5=[1f1cd8e6dd4c1b2ca2aaccc9b9bcea6e]\n",
       "link E1 to E2--><a href=\"psysml:1f214475-93e7-4d57-afd6-304a88df216d\" target=\"_top\" title=\"psysml:1f214475-93e7-4d57-afd6-304a88df216d\" xlink:actuate=\"onRequest\" xlink:href=\"psysml:1f214475-93e7-4d57-afd6-304a88df216d\" xlink:show=\"new\" xlink:title=\"psysml:1f214475-93e7-4d57-afd6-304a88df216d\" xlink:type=\"simple\"><path d=\"M24.88,197 C28.275,197 83.4,197 138.5113,197 C145.4002,197 152.2888,197 159.0763,197 C159.9247,197 160.7715,197 161.6166,197 \" fill=\"none\" id=\"E1-&gt;E2\" style=\"stroke: #383838; stroke-width: 1.0; stroke-dasharray: 7.0,7.0;\"/><polygon fill=\"#383838\" points=\"161.6166,197,152.6166,193,156.6166,197,152.6166,201,161.6166,197\" style=\"stroke: #383838; stroke-width: 1.0;\"/><text fill=\"#000000\" font-family=\"sans-serif\" font-size=\"13\" lengthAdjust=\"spacingAndGlyphs\" textLength=\"65\" x=\"55.72\" y=\"193.0669\">«import»*</text></a><!--MD5=[af87c684e3b0d8be13c1a698a818ef1e]\n",
       "link E3 to E4--><a href=\"psysml:3b6c166c-6961-4bb7-b892-e5bb88ba66d9\" target=\"_top\" title=\"psysml:3b6c166c-6961-4bb7-b892-e5bb88ba66d9\" xlink:actuate=\"onRequest\" xlink:href=\"psysml:3b6c166c-6961-4bb7-b892-e5bb88ba66d9\" xlink:show=\"new\" xlink:title=\"psysml:3b6c166c-6961-4bb7-b892-e5bb88ba66d9\" xlink:type=\"simple\"><path d=\"M320.93,135 C357.36,135 402.21,135 438,135 \" fill=\"none\" id=\"E3-&gt;E4\" style=\"stroke: #383838; stroke-width: 1.0; stroke-dasharray: 7.0,7.0;\"/><polygon fill=\"#383838\" points=\"446.42,135,438.42,132,438.42,138,446.42,135\" style=\"stroke: #383838; stroke-width: 1.0;\"/><text fill=\"#000000\" font-family=\"sans-serif\" font-size=\"13\" lengthAdjust=\"spacingAndGlyphs\" textLength=\"64\" x=\"351.72\" y=\"131.0669\">«depend»</text></a><!--MD5=[1b7591eae5389033d8d09a9d6721a717]\n",
       "link E4 to E5--><a href=\"psysml:f4ae8342-4685-4b6d-8549-04188d07c1c2\" target=\"_top\" title=\"psysml:f4ae8342-4685-4b6d-8549-04188d07c1c2\" xlink:actuate=\"onRequest\" xlink:href=\"psysml:f4ae8342-4685-4b6d-8549-04188d07c1c2\" xlink:show=\"new\" xlink:title=\"psysml:f4ae8342-4685-4b6d-8549-04188d07c1c2\" xlink:type=\"simple\"><path d=\"M556.9,135 C592.53,135 638.96,135 674.41,135 \" fill=\"none\" id=\"E4-&gt;E5\" style=\"stroke: #383838; stroke-width: 1.0; stroke-dasharray: 7.0,7.0;\"/><polygon fill=\"#383838\" points=\"682.72,135,674.72,132,674.72,138,682.72,135\" style=\"stroke: #383838; stroke-width: 1.0;\"/><text fill=\"#000000\" font-family=\"sans-serif\" font-size=\"13\" lengthAdjust=\"spacingAndGlyphs\" textLength=\"64\" x=\"587.72\" y=\"131.0669\">«depend»</text></a><!--MD5=[c5e8897d989ce984f93528998a7150fe]\n",
       "link E8 to E6--><a href=\"psysml:dd0e7371-702f-42f4-9a28-a8ea46c1187a\" target=\"_top\" title=\"psysml:dd0e7371-702f-42f4-9a28-a8ea46c1187a\" xlink:actuate=\"onRequest\" xlink:href=\"psysml:dd0e7371-702f-42f4-9a28-a8ea46c1187a\" xlink:show=\"new\" xlink:title=\"psysml:dd0e7371-702f-42f4-9a28-a8ea46c1187a\" xlink:type=\"simple\"><path d=\"M288.75,291.72 C333.09,300.36 410.02,315.34 458,324.68 \" fill=\"none\" id=\"E8-&gt;E6\" style=\"stroke: #383838; stroke-width: 1.0; stroke-dasharray: 7.0,7.0;\"/><polygon fill=\"#383838\" points=\"466.02,326.24,458.7416,321.765,457.5938,327.6542,466.02,326.24\" style=\"stroke: #383838; stroke-width: 1.0;\"/><text fill=\"#000000\" font-family=\"sans-serif\" font-size=\"13\" lengthAdjust=\"spacingAndGlyphs\" textLength=\"64\" x=\"351.72\" y=\"301.0669\">«depend»</text></a><!--MD5=[bfa3c8b0d15052fdf50ae9310b491027]\n",
       "link E8 to E7--><a href=\"psysml:dd0e7371-702f-42f4-9a28-a8ea46c1187a\" target=\"_top\" title=\"psysml:dd0e7371-702f-42f4-9a28-a8ea46c1187a\" xlink:actuate=\"onRequest\" xlink:href=\"psysml:dd0e7371-702f-42f4-9a28-a8ea46c1187a\" xlink:show=\"new\" xlink:title=\"psysml:dd0e7371-702f-42f4-9a28-a8ea46c1187a\" xlink:type=\"simple\"><path d=\"M288.75,280.38 C333.09,274.44 410.02,264.14 458,257.72 \" fill=\"none\" id=\"E8-&gt;E7\" style=\"stroke: #383838; stroke-width: 1.0; stroke-dasharray: 7.0,7.0;\"/><polygon fill=\"#383838\" points=\"466.02,256.65,457.6937,254.7336,458.4867,260.681,466.02,256.65\" style=\"stroke: #383838; stroke-width: 1.0;\"/><text fill=\"#000000\" font-family=\"sans-serif\" font-size=\"13\" lengthAdjust=\"spacingAndGlyphs\" textLength=\"64\" x=\"351.72\" y=\"260.0669\">«depend»</text></a><!--MD5=[fca2e1525b0ad57e930091f1be3b1d1f]\n",
       "@startuml\r\n",
       "left to right direction\r\n",
       "skinparam monochrome true\r\n",
       "skinparam classbackgroundcolor white\r\n",
       "skinparam shadowing false\r\n",
       "skinparam wrapWidth 300\r\n",
       "hide circle\r\n",
       "\r\n",
       "package \"DependencyTest\" as E1  [[psysml:49f03030-de0c-4f13-ba7b-914972c61aaf ]]  {\r\n",
       "package \"System\" as E2  [[psysml:0a123ebf-9907-4602-8f86-a30c7447a6cf ]]  {\r\n",
       "package \"Application Layer\" as E3  [[psysml:fbc620fa-f332-480d-9302-6e81c218d767 ]]  {\r\n",
       "}\r\n",
       "package \"Service Layer\" as E4  [[psysml:426f0663-f125-4848-8cc6-b208ee541f23 ]]  {\r\n",
       "}\r\n",
       "package \"Data Layer\" as E5  [[psysml:fd3440a5-7307-47c9-b63e-e029b0e76f05 ]]  {\r\n",
       "}\r\n",
       "}\r\n",
       "comp usage \"x \" as E6  <<(T,blue) attribute>> [[psysml:0783b658-08bf-4abf-9182-ba1ece255f80 ]] {\r\n",
       "}\r\n",
       "comp usage \"y \" as E7  <<(T,blue) attribute>> [[psysml:00406d55-97a3-4ada-a9d4-67d88ef5929d ]] {\r\n",
       "}\r\n",
       "comp usage \"z \" as E8  <<(T,blue) attribute>> [[psysml:b610c4be-7598-4a50-a285-e23e2912f41a ]] {\r\n",
       "}\r\n",
       "}\r\n",
       "E1 ..> E2 [[psysml:1f214475-93e7-4d57-afd6-304a88df216d ]] : <<import>>*\r\n",
       "E3 ..>> E4 [[psysml:3b6c166c-6961-4bb7-b892-e5bb88ba66d9 ]] : <<depend>>\r\n",
       "E4 ..>> E5 [[psysml:f4ae8342-4685-4b6d-8549-04188d07c1c2 ]] : <<depend>>\r\n",
       "E8 ..>> E6 [[psysml:dd0e7371-702f-42f4-9a28-a8ea46c1187a ]] : <<depend>>\r\n",
       "E8 ..>> E7 [[psysml:dd0e7371-702f-42f4-9a28-a8ea46c1187a ]] : <<depend>>\r\n",
       "@enduml\r\n",
       "\n",
       "PlantUML version 1.2020.13(Sat Jun 13 12:26:38 UTC 2020)\n",
       "(EPL source distribution)\n",
       "Java Runtime: OpenJDK Runtime Environment\n",
       "JVM: OpenJDK 64-Bit Server VM\n",
       "Default Encoding: UTF-8\n",
       "Language: en\n",
       "Country: null\n",
       "--></g></svg>"
      ]
     },
     "execution_count": 17,
     "metadata": {},
     "output_type": "execute_result"
    }
   ],
   "source": [
    "%viz --style=\"LR\" --view=\"Tree\" \"DependencyTest\""
   ]
  },
  {
   "cell_type": "code",
   "execution_count": 18,
   "id": "b6879d87",
   "metadata": {
    "execution": {
     "iopub.execute_input": "2022-03-03T09:54:59.449104Z",
     "iopub.status.busy": "2022-03-03T09:54:59.448574Z",
     "iopub.status.idle": "2022-03-03T09:54:59.454156Z",
     "shell.execute_reply": "2022-03-03T09:54:59.454377Z"
    }
   },
   "outputs": [
    {
     "data": {
      "image/svg+xml": [
       "<?xml version=\"1.0\" encoding=\"UTF-8\" standalone=\"no\"?><svg xmlns=\"http://www.w3.org/2000/svg\" xmlns:xlink=\"http://www.w3.org/1999/xlink\" contentScriptType=\"application/ecmascript\" contentStyleType=\"text/css\" height=\"12px\" preserveAspectRatio=\"none\" style=\"width:12px;height:12px;\" version=\"1.1\" viewBox=\"0 0 12 12\" width=\"12px\" zoomAndPan=\"magnify\"><defs/><g><!--MD5=[19d285c9d72a204eba4e2cd117d745e8]\n",
       "@startuml\r\n",
       "left to right direction\r\n",
       "skinparam monochrome true\r\n",
       "skinparam classbackgroundcolor white\r\n",
       "skinparam shadowing false\r\n",
       "skinparam wrapWidth 300\r\n",
       "hide circle\r\n",
       "\r\n",
       "@enduml\r\n",
       "\n",
       "PlantUML version 1.2020.13(Sat Jun 13 12:26:38 UTC 2020)\n",
       "(EPL source distribution)\n",
       "Java Runtime: OpenJDK Runtime Environment\n",
       "JVM: OpenJDK 64-Bit Server VM\n",
       "Default Encoding: UTF-8\n",
       "Language: en\n",
       "Country: null\n",
       "--></g></svg>"
      ]
     },
     "execution_count": 18,
     "metadata": {},
     "output_type": "execute_result"
    }
   ],
   "source": [
    "%viz --style=\"LR\" --view=\"State\" \"DependencyTest\""
   ]
  },
  {
   "cell_type": "code",
   "execution_count": 19,
   "id": "b80c660e",
   "metadata": {
    "execution": {
     "iopub.execute_input": "2022-03-03T09:54:59.504278Z",
     "iopub.status.busy": "2022-03-03T09:54:59.504011Z",
     "iopub.status.idle": "2022-03-03T09:54:59.538960Z",
     "shell.execute_reply": "2022-03-03T09:54:59.538359Z"
    }
   },
   "outputs": [
    {
     "data": {
      "image/svg+xml": [
       "<?xml version=\"1.0\" encoding=\"UTF-8\" standalone=\"no\"?><svg xmlns=\"http://www.w3.org/2000/svg\" xmlns:xlink=\"http://www.w3.org/1999/xlink\" contentScriptType=\"application/ecmascript\" contentStyleType=\"text/css\" height=\"392px\" preserveAspectRatio=\"none\" style=\"width:750px;height:392px;\" version=\"1.1\" viewBox=\"0 0 750 392\" width=\"750px\" zoomAndPan=\"magnify\"><defs/><g><!--MD5=[fbc87193dbaf4d95561dea2c320d4a47]\n",
       "cluster E1--><a href=\"psysml:49f03030-de0c-4f13-ba7b-914972c61aaf\" target=\"_top\" title=\"psysml:49f03030-de0c-4f13-ba7b-914972c61aaf\" xlink:actuate=\"onRequest\" xlink:href=\"psysml:49f03030-de0c-4f13-ba7b-914972c61aaf\" xlink:show=\"new\" xlink:title=\"psysml:49f03030-de0c-4f13-ba7b-914972c61aaf\" xlink:type=\"simple\"><polygon fill=\"#FFFFFF\" points=\"16,6,142,6,149,28.2969,728.72,28.2969,728.72,380,16,380,16,6\" style=\"stroke: #000000; stroke-width: 1.5;\"/><line style=\"stroke: #000000; stroke-width: 1.5;\" x1=\"16\" x2=\"149\" y1=\"28.2969\" y2=\"28.2969\"/><text fill=\"#000000\" font-family=\"sans-serif\" font-size=\"14\" font-weight=\"bold\" lengthAdjust=\"spacingAndGlyphs\" textLength=\"120\" x=\"20\" y=\"20.9951\">DependencyTest</text></a><!--MD5=[e4f7fae6ed58524ba242bb0b0d3be6b7]\n",
       "cluster E2--><a href=\"psysml:0a123ebf-9907-4602-8f86-a30c7447a6cf\" target=\"_top\" title=\"psysml:0a123ebf-9907-4602-8f86-a30c7447a6cf\" xlink:actuate=\"onRequest\" xlink:href=\"psysml:0a123ebf-9907-4602-8f86-a30c7447a6cf\" xlink:show=\"new\" xlink:title=\"psysml:0a123ebf-9907-4602-8f86-a30c7447a6cf\" xlink:type=\"simple\"><polygon fill=\"#FFFFFF\" points=\"139.72,65,196.72,65,203.72,87.2969,688.72,87.2969,688.72,205,139.72,205,139.72,65\" style=\"stroke: #000000; stroke-width: 1.5;\"/><line style=\"stroke: #000000; stroke-width: 1.5;\" x1=\"139.72\" x2=\"203.72\" y1=\"87.2969\" y2=\"87.2969\"/><text fill=\"#000000\" font-family=\"sans-serif\" font-size=\"14\" font-weight=\"bold\" lengthAdjust=\"spacingAndGlyphs\" textLength=\"51\" x=\"143.72\" y=\"79.9951\">System</text></a><!--MD5=[60a26617385b1d2d0262a64233df1f8d]\n",
       "class E6--><a href=\"psysml:0783b658-08bf-4abf-9182-ba1ece255f80\" target=\"_top\" title=\"psysml:0783b658-08bf-4abf-9182-ba1ece255f80\" xlink:actuate=\"onRequest\" xlink:href=\"psysml:0783b658-08bf-4abf-9182-ba1ece255f80\" xlink:show=\"new\" xlink:title=\"psysml:0783b658-08bf-4abf-9182-ba1ece255f80\" xlink:type=\"simple\"><rect fill=\"#FFFFFF\" height=\"45.9375\" id=\"E6\" rx=\"10\" ry=\"10\" style=\"stroke: #383838; stroke-width: 1.5;\" width=\"71\" x=\"400.22\" y=\"310\"/><text fill=\"#000000\" font-family=\"sans-serif\" font-size=\"12\" font-style=\"italic\" lengthAdjust=\"spacingAndGlyphs\" textLength=\"69\" x=\"401.22\" y=\"326.1387\">«attribute»</text><text fill=\"#000000\" font-family=\"sans-serif\" font-size=\"12\" lengthAdjust=\"spacingAndGlyphs\" textLength=\"6\" x=\"430.72\" y=\"340.1074\">x</text><line style=\"stroke: #383838; stroke-width: 1.5;\" x1=\"401.22\" x2=\"470.22\" y1=\"347.9375\" y2=\"347.9375\"/></a><!--MD5=[2156ba9850f5573cc1fc38a6a4b2f02b]\n",
       "class E7--><a href=\"psysml:00406d55-97a3-4ada-a9d4-67d88ef5929d\" target=\"_top\" title=\"psysml:00406d55-97a3-4ada-a9d4-67d88ef5929d\" xlink:actuate=\"onRequest\" xlink:href=\"psysml:00406d55-97a3-4ada-a9d4-67d88ef5929d\" xlink:show=\"new\" xlink:title=\"psysml:00406d55-97a3-4ada-a9d4-67d88ef5929d\" xlink:type=\"simple\"><rect fill=\"#FFFFFF\" height=\"45.9375\" id=\"E7\" rx=\"10\" ry=\"10\" style=\"stroke: #383838; stroke-width: 1.5;\" width=\"71\" x=\"400.22\" y=\"229\"/><text fill=\"#000000\" font-family=\"sans-serif\" font-size=\"12\" font-style=\"italic\" lengthAdjust=\"spacingAndGlyphs\" textLength=\"69\" x=\"401.22\" y=\"245.1387\">«attribute»</text><text fill=\"#000000\" font-family=\"sans-serif\" font-size=\"12\" lengthAdjust=\"spacingAndGlyphs\" textLength=\"6\" x=\"430.72\" y=\"259.1074\">y</text><line style=\"stroke: #383838; stroke-width: 1.5;\" x1=\"401.22\" x2=\"470.22\" y1=\"266.9375\" y2=\"266.9375\"/></a><!--MD5=[b9389687b975829384b498ac4b7476b2]\n",
       "class E8--><a href=\"psysml:b610c4be-7598-4a50-a285-e23e2912f41a\" target=\"_top\" title=\"psysml:b610c4be-7598-4a50-a285-e23e2912f41a\" xlink:actuate=\"onRequest\" xlink:href=\"psysml:b610c4be-7598-4a50-a285-e23e2912f41a\" xlink:show=\"new\" xlink:title=\"psysml:b610c4be-7598-4a50-a285-e23e2912f41a\" xlink:type=\"simple\"><rect fill=\"#FFFFFF\" height=\"45.9375\" id=\"E8\" rx=\"10\" ry=\"10\" style=\"stroke: #383838; stroke-width: 1.5;\" width=\"71\" x=\"195.72\" y=\"262\"/><text fill=\"#000000\" font-family=\"sans-serif\" font-size=\"12\" font-style=\"italic\" lengthAdjust=\"spacingAndGlyphs\" textLength=\"69\" x=\"196.72\" y=\"278.1387\">«attribute»</text><text fill=\"#000000\" font-family=\"sans-serif\" font-size=\"12\" lengthAdjust=\"spacingAndGlyphs\" textLength=\"5\" x=\"226.72\" y=\"292.1074\">z</text><line style=\"stroke: #383838; stroke-width: 1.5;\" x1=\"196.72\" x2=\"265.72\" y1=\"299.9375\" y2=\"299.9375\"/></a><a href=\"psysml:fbc620fa-f332-480d-9302-6e81c218d767\" target=\"_top\" title=\"psysml:fbc620fa-f332-480d-9302-6e81c218d767\" xlink:actuate=\"onRequest\" xlink:href=\"psysml:fbc620fa-f332-480d-9302-6e81c218d767\" xlink:show=\"new\" xlink:title=\"psysml:fbc620fa-f332-480d-9302-6e81c218d767\" xlink:type=\"simple\"><polygon fill=\"#FFFFFF\" points=\"163.72,108.5,284.72,108.5,291.72,130.7969,298.72,130.7969,298.72,161.0938,163.72,161.0938,163.72,108.5\" style=\"stroke: #000000; stroke-width: 1.5;\"/><line style=\"stroke: #000000; stroke-width: 1.5;\" x1=\"163.72\" x2=\"291.72\" y1=\"130.7969\" y2=\"130.7969\"/><text fill=\"#000000\" font-family=\"sans-serif\" font-size=\"14\" font-weight=\"bold\" lengthAdjust=\"spacingAndGlyphs\" textLength=\"115\" x=\"167.72\" y=\"123.4951\">Application Layer</text></a><a href=\"psysml:426f0663-f125-4848-8cc6-b208ee541f23\" target=\"_top\" title=\"psysml:426f0663-f125-4848-8cc6-b208ee541f23\" xlink:actuate=\"onRequest\" xlink:href=\"psysml:426f0663-f125-4848-8cc6-b208ee541f23\" xlink:show=\"new\" xlink:title=\"psysml:426f0663-f125-4848-8cc6-b208ee541f23\" xlink:type=\"simple\"><polygon fill=\"#FFFFFF\" points=\"380.72,108.5,476.72,108.5,483.72,130.7969,490.72,130.7969,490.72,161.0938,380.72,161.0938,380.72,108.5\" style=\"stroke: #000000; stroke-width: 1.5;\"/><line style=\"stroke: #000000; stroke-width: 1.5;\" x1=\"380.72\" x2=\"483.72\" y1=\"130.7969\" y2=\"130.7969\"/><text fill=\"#000000\" font-family=\"sans-serif\" font-size=\"14\" font-weight=\"bold\" lengthAdjust=\"spacingAndGlyphs\" textLength=\"90\" x=\"384.72\" y=\"123.4951\">Service Layer</text></a><a href=\"psysml:fd3440a5-7307-47c9-b63e-e029b0e76f05\" target=\"_top\" title=\"psysml:fd3440a5-7307-47c9-b63e-e029b0e76f05\" xlink:actuate=\"onRequest\" xlink:href=\"psysml:fd3440a5-7307-47c9-b63e-e029b0e76f05\" xlink:show=\"new\" xlink:title=\"psysml:fd3440a5-7307-47c9-b63e-e029b0e76f05\" xlink:type=\"simple\"><polygon fill=\"#FFFFFF\" points=\"572.72,108.5,650.72,108.5,657.72,130.7969,664.72,130.7969,664.72,161.0938,572.72,161.0938,572.72,108.5\" style=\"stroke: #000000; stroke-width: 1.5;\"/><line style=\"stroke: #000000; stroke-width: 1.5;\" x1=\"572.72\" x2=\"657.72\" y1=\"130.7969\" y2=\"130.7969\"/><text fill=\"#000000\" font-family=\"sans-serif\" font-size=\"14\" font-weight=\"bold\" lengthAdjust=\"spacingAndGlyphs\" textLength=\"72\" x=\"576.72\" y=\"123.4951\">Data Layer</text></a><!--MD5=[1f1cd8e6dd4c1b2ca2aaccc9b9bcea6e]\n",
       "link E1 to E2--><a href=\"psysml:1f214475-93e7-4d57-afd6-304a88df216d\" target=\"_top\" title=\"psysml:1f214475-93e7-4d57-afd6-304a88df216d\" xlink:actuate=\"onRequest\" xlink:href=\"psysml:1f214475-93e7-4d57-afd6-304a88df216d\" xlink:show=\"new\" xlink:title=\"psysml:1f214475-93e7-4d57-afd6-304a88df216d\" xlink:type=\"simple\"><path d=\"M24.87,197 C27.93,197 77.7225,197 127.505,197 C130.6164,197 133.7278,197 136.8277,197 C137.6027,197 138.3769,197 139.1503,197 \" fill=\"none\" id=\"E1-&gt;E2\" style=\"stroke: #383838; stroke-width: 1.0; stroke-dasharray: 7.0,7.0;\"/><polygon fill=\"#383838\" points=\"139.1503,197,130.1503,193,134.1503,197,130.1503,201,139.1503,197\" style=\"stroke: #383838; stroke-width: 1.0;\"/><text fill=\"#000000\" font-family=\"sans-serif\" font-size=\"13\" lengthAdjust=\"spacingAndGlyphs\" textLength=\"65\" x=\"33.72\" y=\"193.0669\">«import»*</text></a><!--MD5=[af87c684e3b0d8be13c1a698a818ef1e]\n",
       "link E3 to E4--><a href=\"psysml:3b6c166c-6961-4bb7-b892-e5bb88ba66d9\" target=\"_top\" title=\"psysml:3b6c166c-6961-4bb7-b892-e5bb88ba66d9\" xlink:actuate=\"onRequest\" xlink:href=\"psysml:3b6c166c-6961-4bb7-b892-e5bb88ba66d9\" xlink:show=\"new\" xlink:title=\"psysml:3b6c166c-6961-4bb7-b892-e5bb88ba66d9\" xlink:type=\"simple\"><path d=\"M298.81,135 C322.52,135 349.13,135 372.47,135 \" fill=\"none\" id=\"E3-&gt;E4\" style=\"stroke: #383838; stroke-width: 1.0; stroke-dasharray: 7.0,7.0;\"/><polygon fill=\"#383838\" points=\"380.58,135,372.58,132,372.58,138,380.58,135\" style=\"stroke: #383838; stroke-width: 1.0;\"/><text fill=\"#000000\" font-family=\"sans-serif\" font-size=\"13\" lengthAdjust=\"spacingAndGlyphs\" textLength=\"64\" x=\"307.72\" y=\"131.0669\">«depend»</text></a><!--MD5=[1b7591eae5389033d8d09a9d6721a717]\n",
       "link E4 to E5--><a href=\"psysml:f4ae8342-4685-4b6d-8549-04188d07c1c2\" target=\"_top\" title=\"psysml:f4ae8342-4685-4b6d-8549-04188d07c1c2\" xlink:actuate=\"onRequest\" xlink:href=\"psysml:f4ae8342-4685-4b6d-8549-04188d07c1c2\" xlink:show=\"new\" xlink:title=\"psysml:f4ae8342-4685-4b6d-8549-04188d07c1c2\" xlink:type=\"simple\"><path d=\"M491.03,135 C514.31,135 541.43,135 564.58,135 \" fill=\"none\" id=\"E4-&gt;E5\" style=\"stroke: #383838; stroke-width: 1.0; stroke-dasharray: 7.0,7.0;\"/><polygon fill=\"#383838\" points=\"572.6,135,564.6,132,564.6,138,572.6,135\" style=\"stroke: #383838; stroke-width: 1.0;\"/><text fill=\"#000000\" font-family=\"sans-serif\" font-size=\"13\" lengthAdjust=\"spacingAndGlyphs\" textLength=\"64\" x=\"499.72\" y=\"131.0669\">«depend»</text></a><!--MD5=[c5e8897d989ce984f93528998a7150fe]\n",
       "link E8 to E6--><a href=\"psysml:dd0e7371-702f-42f4-9a28-a8ea46c1187a\" target=\"_top\" title=\"psysml:dd0e7371-702f-42f4-9a28-a8ea46c1187a\" xlink:actuate=\"onRequest\" xlink:href=\"psysml:dd0e7371-702f-42f4-9a28-a8ea46c1187a\" xlink:show=\"new\" xlink:title=\"psysml:dd0e7371-702f-42f4-9a28-a8ea46c1187a\" xlink:type=\"simple\"><path d=\"M267.03,293.25 C301.62,301.45 354.73,314.04 391.88,322.85 \" fill=\"none\" id=\"E8-&gt;E6\" style=\"stroke: #383838; stroke-width: 1.0; stroke-dasharray: 7.0,7.0;\"/><polygon fill=\"#383838\" points=\"400.03,324.78,392.9444,320.0057,391.5522,325.8419,400.03,324.78\" style=\"stroke: #383838; stroke-width: 1.0;\"/><text fill=\"#000000\" font-family=\"sans-serif\" font-size=\"13\" lengthAdjust=\"spacingAndGlyphs\" textLength=\"64\" x=\"307.72\" y=\"300.0669\">«depend»</text></a><!--MD5=[bfa3c8b0d15052fdf50ae9310b491027]\n",
       "link E8 to E7--><a href=\"psysml:dd0e7371-702f-42f4-9a28-a8ea46c1187a\" target=\"_top\" title=\"psysml:dd0e7371-702f-42f4-9a28-a8ea46c1187a\" xlink:actuate=\"onRequest\" xlink:href=\"psysml:dd0e7371-702f-42f4-9a28-a8ea46c1187a\" xlink:show=\"new\" xlink:title=\"psysml:dd0e7371-702f-42f4-9a28-a8ea46c1187a\" xlink:type=\"simple\"><path d=\"M267.03,279.33 C301.62,273.69 354.73,265.04 391.88,258.98 \" fill=\"none\" id=\"E8-&gt;E7\" style=\"stroke: #383838; stroke-width: 1.0; stroke-dasharray: 7.0,7.0;\"/><polygon fill=\"#383838\" points=\"400.03,257.65,391.6515,255.9764,392.617,261.8983,400.03,257.65\" style=\"stroke: #383838; stroke-width: 1.0;\"/><text fill=\"#000000\" font-family=\"sans-serif\" font-size=\"13\" lengthAdjust=\"spacingAndGlyphs\" textLength=\"64\" x=\"307.72\" y=\"259.0669\">«depend»</text></a><!--MD5=[e77bd8bb55ddc3d40c7461a6e81fbef0]\n",
       "@startuml\r\n",
       "skinparam ranksep 10\r\n",
       "skinparam rectangle {\r\n",
       " backgroundColor<<block>> LightGreen\r\n",
       "}\r\n",
       "left to right direction\r\n",
       "skinparam monochrome true\r\n",
       "skinparam classbackgroundcolor white\r\n",
       "skinparam shadowing false\r\n",
       "skinparam wrapWidth 300\r\n",
       "hide circle\r\n",
       "\r\n",
       "package \"DependencyTest\" as E1  [[psysml:49f03030-de0c-4f13-ba7b-914972c61aaf ]]  {\r\n",
       "package \"System\" as E2  [[psysml:0a123ebf-9907-4602-8f86-a30c7447a6cf ]]  {\r\n",
       "package \"Application Layer\" as E3  [[psysml:fbc620fa-f332-480d-9302-6e81c218d767 ]]  {\r\n",
       "}\r\n",
       "package \"Service Layer\" as E4  [[psysml:426f0663-f125-4848-8cc6-b208ee541f23 ]]  {\r\n",
       "}\r\n",
       "package \"Data Layer\" as E5  [[psysml:fd3440a5-7307-47c9-b63e-e029b0e76f05 ]]  {\r\n",
       "}\r\n",
       "}\r\n",
       "comp usage \"x \" as E6  <<(T,blue) attribute>> [[psysml:0783b658-08bf-4abf-9182-ba1ece255f80 ]] {\r\n",
       "}\r\n",
       "comp usage \"y \" as E7  <<(T,blue) attribute>> [[psysml:00406d55-97a3-4ada-a9d4-67d88ef5929d ]] {\r\n",
       "}\r\n",
       "comp usage \"z \" as E8  <<(T,blue) attribute>> [[psysml:b610c4be-7598-4a50-a285-e23e2912f41a ]] {\r\n",
       "}\r\n",
       "}\r\n",
       "E1 ..> E2 [[psysml:1f214475-93e7-4d57-afd6-304a88df216d ]] : <<import>>*\r\n",
       "E3 ..>> E4 [[psysml:3b6c166c-6961-4bb7-b892-e5bb88ba66d9 ]] : <<depend>>\r\n",
       "E4 ..>> E5 [[psysml:f4ae8342-4685-4b6d-8549-04188d07c1c2 ]] : <<depend>>\r\n",
       "E8 ..>> E6 [[psysml:dd0e7371-702f-42f4-9a28-a8ea46c1187a ]] : <<depend>>\r\n",
       "E8 ..>> E7 [[psysml:dd0e7371-702f-42f4-9a28-a8ea46c1187a ]] : <<depend>>\r\n",
       "@enduml\r\n",
       "\n",
       "PlantUML version 1.2020.13(Sat Jun 13 12:26:38 UTC 2020)\n",
       "(EPL source distribution)\n",
       "Java Runtime: OpenJDK Runtime Environment\n",
       "JVM: OpenJDK 64-Bit Server VM\n",
       "Default Encoding: UTF-8\n",
       "Language: en\n",
       "Country: null\n",
       "--></g></svg>"
      ]
     },
     "execution_count": 19,
     "metadata": {},
     "output_type": "execute_result"
    }
   ],
   "source": [
    "%viz --style=\"LR\" --view=\"Interconnection\" \"DependencyTest\""
   ]
  },
  {
   "cell_type": "code",
   "execution_count": 20,
   "id": "797a153b",
   "metadata": {
    "execution": {
     "iopub.execute_input": "2022-03-03T09:54:59.588290Z",
     "iopub.status.busy": "2022-03-03T09:54:59.587697Z",
     "iopub.status.idle": "2022-03-03T09:54:59.593574Z",
     "shell.execute_reply": "2022-03-03T09:54:59.593221Z"
    }
   },
   "outputs": [
    {
     "data": {
      "image/svg+xml": [
       "<?xml version=\"1.0\" encoding=\"UTF-8\" standalone=\"no\"?><svg xmlns=\"http://www.w3.org/2000/svg\" xmlns:xlink=\"http://www.w3.org/1999/xlink\" contentScriptType=\"application/ecmascript\" contentStyleType=\"text/css\" height=\"12px\" preserveAspectRatio=\"none\" style=\"width:12px;height:12px;\" version=\"1.1\" viewBox=\"0 0 12 12\" width=\"12px\" zoomAndPan=\"magnify\"><defs/><g><!--MD5=[7aeb398939421629f6affaa4a1a7b125]\n",
       "@startuml\r\n",
       "skinparam ranksep 8\r\n",
       "left to right direction\r\n",
       "skinparam monochrome true\r\n",
       "skinparam classbackgroundcolor white\r\n",
       "skinparam shadowing false\r\n",
       "skinparam wrapWidth 300\r\n",
       "hide circle\r\n",
       "\r\n",
       "@enduml\r\n",
       "\n",
       "PlantUML version 1.2020.13(Sat Jun 13 12:26:38 UTC 2020)\n",
       "(EPL source distribution)\n",
       "Java Runtime: OpenJDK Runtime Environment\n",
       "JVM: OpenJDK 64-Bit Server VM\n",
       "Default Encoding: UTF-8\n",
       "Language: en\n",
       "Country: null\n",
       "--></g></svg>"
      ]
     },
     "execution_count": 20,
     "metadata": {},
     "output_type": "execute_result"
    }
   ],
   "source": [
    "%viz --style=\"LR\" --view=\"Action\" \"DependencyTest\""
   ]
  },
  {
   "cell_type": "code",
   "execution_count": 21,
   "id": "d17062f3",
   "metadata": {
    "execution": {
     "iopub.execute_input": "2022-03-03T09:54:59.644126Z",
     "iopub.status.busy": "2022-03-03T09:54:59.643498Z",
     "iopub.status.idle": "2022-03-03T09:54:59.649294Z",
     "shell.execute_reply": "2022-03-03T09:54:59.648946Z"
    }
   },
   "outputs": [
    {
     "data": {
      "image/svg+xml": [
       "<?xml version=\"1.0\" encoding=\"UTF-8\" standalone=\"no\"?><svg xmlns=\"http://www.w3.org/2000/svg\" xmlns:xlink=\"http://www.w3.org/1999/xlink\" contentScriptType=\"application/ecmascript\" contentStyleType=\"text/css\" height=\"12px\" preserveAspectRatio=\"none\" style=\"width:12px;height:12px;\" version=\"1.1\" viewBox=\"0 0 12 12\" width=\"12px\" zoomAndPan=\"magnify\"><defs/><g><!--MD5=[238c11ea2002f03115ad6b49a457d50e]\n",
       "@startuml\r\n",
       "skinparam roundcorner 20\r\n",
       "skinparam BoxPadding 20\r\n",
       "skinparam SequenceBoxBackgroundColor #white\r\n",
       "skinparam style strictuml\r\n",
       "skinparam maxMessageSize 100\r\n",
       "left to right direction\r\n",
       "skinparam monochrome true\r\n",
       "skinparam classbackgroundcolor white\r\n",
       "skinparam shadowing false\r\n",
       "skinparam wrapWidth 300\r\n",
       "hide circle\r\n",
       "\r\n",
       "@enduml\r\n",
       "\n",
       "PlantUML version 1.2020.13(Sat Jun 13 12:26:38 UTC 2020)\n",
       "(EPL source distribution)\n",
       "Java Runtime: OpenJDK Runtime Environment\n",
       "JVM: OpenJDK 64-Bit Server VM\n",
       "Default Encoding: UTF-8\n",
       "Language: en\n",
       "Country: null\n",
       "--></g></svg>"
      ]
     },
     "execution_count": 21,
     "metadata": {},
     "output_type": "execute_result"
    }
   ],
   "source": [
    "%viz --style=\"LR\" --view=\"Sequence\" \"DependencyTest\""
   ]
  },
  {
   "cell_type": "code",
   "execution_count": 22,
   "id": "ca6e26fa",
   "metadata": {
    "execution": {
     "iopub.execute_input": "2022-03-03T09:54:59.699329Z",
     "iopub.status.busy": "2022-03-03T09:54:59.698882Z",
     "iopub.status.idle": "2022-03-03T09:54:59.735988Z",
     "shell.execute_reply": "2022-03-03T09:54:59.735477Z"
    }
   },
   "outputs": [
    {
     "data": {
      "image/svg+xml": [
       "<?xml version=\"1.0\" encoding=\"UTF-8\" standalone=\"no\"?><svg xmlns=\"http://www.w3.org/2000/svg\" xmlns:xlink=\"http://www.w3.org/1999/xlink\" contentScriptType=\"application/ecmascript\" contentStyleType=\"text/css\" height=\"392px\" preserveAspectRatio=\"none\" style=\"width:860px;height:392px;\" version=\"1.1\" viewBox=\"0 0 860 392\" width=\"860px\" zoomAndPan=\"magnify\"><defs/><g><!--MD5=[fbc87193dbaf4d95561dea2c320d4a47]\n",
       "cluster E1--><a href=\"psysml:49f03030-de0c-4f13-ba7b-914972c61aaf\" target=\"_top\" title=\"psysml:49f03030-de0c-4f13-ba7b-914972c61aaf\" xlink:actuate=\"onRequest\" xlink:href=\"psysml:49f03030-de0c-4f13-ba7b-914972c61aaf\" xlink:show=\"new\" xlink:title=\"psysml:49f03030-de0c-4f13-ba7b-914972c61aaf\" xlink:type=\"simple\"><polygon fill=\"#FFFFFF\" points=\"16,6,142,6,149,28.2969,838.72,28.2969,838.72,380,16,380,16,6\" style=\"stroke: #000000; stroke-width: 1.5;\"/><line style=\"stroke: #000000; stroke-width: 1.5;\" x1=\"16\" x2=\"149\" y1=\"28.2969\" y2=\"28.2969\"/><text fill=\"#000000\" font-family=\"sans-serif\" font-size=\"14\" font-weight=\"bold\" lengthAdjust=\"spacingAndGlyphs\" textLength=\"120\" x=\"20\" y=\"20.9951\">DependencyTest</text></a><!--MD5=[e4f7fae6ed58524ba242bb0b0d3be6b7]\n",
       "cluster E2--><a href=\"psysml:0a123ebf-9907-4602-8f86-a30c7447a6cf\" target=\"_top\" title=\"psysml:0a123ebf-9907-4602-8f86-a30c7447a6cf\" xlink:actuate=\"onRequest\" xlink:href=\"psysml:0a123ebf-9907-4602-8f86-a30c7447a6cf\" xlink:show=\"new\" xlink:title=\"psysml:0a123ebf-9907-4602-8f86-a30c7447a6cf\" xlink:type=\"simple\"><polygon fill=\"#FFFFFF\" points=\"161.72,65,218.72,65,225.72,87.2969,798.72,87.2969,798.72,205,161.72,205,161.72,65\" style=\"stroke: #000000; stroke-width: 1.5;\"/><line style=\"stroke: #000000; stroke-width: 1.5;\" x1=\"161.72\" x2=\"225.72\" y1=\"87.2969\" y2=\"87.2969\"/><text fill=\"#000000\" font-family=\"sans-serif\" font-size=\"14\" font-weight=\"bold\" lengthAdjust=\"spacingAndGlyphs\" textLength=\"51\" x=\"165.72\" y=\"79.9951\">System</text></a><!--MD5=[60a26617385b1d2d0262a64233df1f8d]\n",
       "class E6--><a href=\"psysml:0783b658-08bf-4abf-9182-ba1ece255f80\" target=\"_top\" title=\"psysml:0783b658-08bf-4abf-9182-ba1ece255f80\" xlink:actuate=\"onRequest\" xlink:href=\"psysml:0783b658-08bf-4abf-9182-ba1ece255f80\" xlink:show=\"new\" xlink:title=\"psysml:0783b658-08bf-4abf-9182-ba1ece255f80\" xlink:type=\"simple\"><rect fill=\"#FFFFFF\" height=\"45.9375\" id=\"E6\" rx=\"10\" ry=\"10\" style=\"stroke: #383838; stroke-width: 1.5;\" width=\"71\" x=\"466.22\" y=\"310\"/><text fill=\"#000000\" font-family=\"sans-serif\" font-size=\"12\" font-style=\"italic\" lengthAdjust=\"spacingAndGlyphs\" textLength=\"69\" x=\"467.22\" y=\"326.1387\">«attribute»</text><text fill=\"#000000\" font-family=\"sans-serif\" font-size=\"12\" lengthAdjust=\"spacingAndGlyphs\" textLength=\"6\" x=\"496.72\" y=\"340.1074\">x</text><line style=\"stroke: #383838; stroke-width: 1.5;\" x1=\"467.22\" x2=\"536.22\" y1=\"347.9375\" y2=\"347.9375\"/></a><!--MD5=[2156ba9850f5573cc1fc38a6a4b2f02b]\n",
       "class E7--><a href=\"psysml:00406d55-97a3-4ada-a9d4-67d88ef5929d\" target=\"_top\" title=\"psysml:00406d55-97a3-4ada-a9d4-67d88ef5929d\" xlink:actuate=\"onRequest\" xlink:href=\"psysml:00406d55-97a3-4ada-a9d4-67d88ef5929d\" xlink:show=\"new\" xlink:title=\"psysml:00406d55-97a3-4ada-a9d4-67d88ef5929d\" xlink:type=\"simple\"><rect fill=\"#FFFFFF\" height=\"45.9375\" id=\"E7\" rx=\"10\" ry=\"10\" style=\"stroke: #383838; stroke-width: 1.5;\" width=\"71\" x=\"466.22\" y=\"229\"/><text fill=\"#000000\" font-family=\"sans-serif\" font-size=\"12\" font-style=\"italic\" lengthAdjust=\"spacingAndGlyphs\" textLength=\"69\" x=\"467.22\" y=\"245.1387\">«attribute»</text><text fill=\"#000000\" font-family=\"sans-serif\" font-size=\"12\" lengthAdjust=\"spacingAndGlyphs\" textLength=\"6\" x=\"496.72\" y=\"259.1074\">y</text><line style=\"stroke: #383838; stroke-width: 1.5;\" x1=\"467.22\" x2=\"536.22\" y1=\"266.9375\" y2=\"266.9375\"/></a><!--MD5=[b9389687b975829384b498ac4b7476b2]\n",
       "class E8--><a href=\"psysml:b610c4be-7598-4a50-a285-e23e2912f41a\" target=\"_top\" title=\"psysml:b610c4be-7598-4a50-a285-e23e2912f41a\" xlink:actuate=\"onRequest\" xlink:href=\"psysml:b610c4be-7598-4a50-a285-e23e2912f41a\" xlink:show=\"new\" xlink:title=\"psysml:b610c4be-7598-4a50-a285-e23e2912f41a\" xlink:type=\"simple\"><rect fill=\"#FFFFFF\" height=\"45.9375\" id=\"E8\" rx=\"10\" ry=\"10\" style=\"stroke: #383838; stroke-width: 1.5;\" width=\"71\" x=\"217.72\" y=\"262\"/><text fill=\"#000000\" font-family=\"sans-serif\" font-size=\"12\" font-style=\"italic\" lengthAdjust=\"spacingAndGlyphs\" textLength=\"69\" x=\"218.72\" y=\"278.1387\">«attribute»</text><text fill=\"#000000\" font-family=\"sans-serif\" font-size=\"12\" lengthAdjust=\"spacingAndGlyphs\" textLength=\"5\" x=\"248.72\" y=\"292.1074\">z</text><line style=\"stroke: #383838; stroke-width: 1.5;\" x1=\"218.72\" x2=\"287.72\" y1=\"299.9375\" y2=\"299.9375\"/></a><a href=\"psysml:fbc620fa-f332-480d-9302-6e81c218d767\" target=\"_top\" title=\"psysml:fbc620fa-f332-480d-9302-6e81c218d767\" xlink:actuate=\"onRequest\" xlink:href=\"psysml:fbc620fa-f332-480d-9302-6e81c218d767\" xlink:show=\"new\" xlink:title=\"psysml:fbc620fa-f332-480d-9302-6e81c218d767\" xlink:type=\"simple\"><polygon fill=\"#FFFFFF\" points=\"185.72,108.5,306.72,108.5,313.72,130.7969,320.72,130.7969,320.72,161.0938,185.72,161.0938,185.72,108.5\" style=\"stroke: #000000; stroke-width: 1.5;\"/><line style=\"stroke: #000000; stroke-width: 1.5;\" x1=\"185.72\" x2=\"313.72\" y1=\"130.7969\" y2=\"130.7969\"/><text fill=\"#000000\" font-family=\"sans-serif\" font-size=\"14\" font-weight=\"bold\" lengthAdjust=\"spacingAndGlyphs\" textLength=\"115\" x=\"189.72\" y=\"123.4951\">Application Layer</text></a><a href=\"psysml:426f0663-f125-4848-8cc6-b208ee541f23\" target=\"_top\" title=\"psysml:426f0663-f125-4848-8cc6-b208ee541f23\" xlink:actuate=\"onRequest\" xlink:href=\"psysml:426f0663-f125-4848-8cc6-b208ee541f23\" xlink:show=\"new\" xlink:title=\"psysml:426f0663-f125-4848-8cc6-b208ee541f23\" xlink:type=\"simple\"><polygon fill=\"#FFFFFF\" points=\"446.72,108.5,542.72,108.5,549.72,130.7969,556.72,130.7969,556.72,161.0938,446.72,161.0938,446.72,108.5\" style=\"stroke: #000000; stroke-width: 1.5;\"/><line style=\"stroke: #000000; stroke-width: 1.5;\" x1=\"446.72\" x2=\"549.72\" y1=\"130.7969\" y2=\"130.7969\"/><text fill=\"#000000\" font-family=\"sans-serif\" font-size=\"14\" font-weight=\"bold\" lengthAdjust=\"spacingAndGlyphs\" textLength=\"90\" x=\"450.72\" y=\"123.4951\">Service Layer</text></a><a href=\"psysml:fd3440a5-7307-47c9-b63e-e029b0e76f05\" target=\"_top\" title=\"psysml:fd3440a5-7307-47c9-b63e-e029b0e76f05\" xlink:actuate=\"onRequest\" xlink:href=\"psysml:fd3440a5-7307-47c9-b63e-e029b0e76f05\" xlink:show=\"new\" xlink:title=\"psysml:fd3440a5-7307-47c9-b63e-e029b0e76f05\" xlink:type=\"simple\"><polygon fill=\"#FFFFFF\" points=\"682.72,108.5,760.72,108.5,767.72,130.7969,774.72,130.7969,774.72,161.0938,682.72,161.0938,682.72,108.5\" style=\"stroke: #000000; stroke-width: 1.5;\"/><line style=\"stroke: #000000; stroke-width: 1.5;\" x1=\"682.72\" x2=\"767.72\" y1=\"130.7969\" y2=\"130.7969\"/><text fill=\"#000000\" font-family=\"sans-serif\" font-size=\"14\" font-weight=\"bold\" lengthAdjust=\"spacingAndGlyphs\" textLength=\"72\" x=\"686.72\" y=\"123.4951\">Data Layer</text></a><!--MD5=[1f1cd8e6dd4c1b2ca2aaccc9b9bcea6e]\n",
       "link E1 to E2--><a href=\"psysml:1f214475-93e7-4d57-afd6-304a88df216d\" target=\"_top\" title=\"psysml:1f214475-93e7-4d57-afd6-304a88df216d\" xlink:actuate=\"onRequest\" xlink:href=\"psysml:1f214475-93e7-4d57-afd6-304a88df216d\" xlink:show=\"new\" xlink:title=\"psysml:1f214475-93e7-4d57-afd6-304a88df216d\" xlink:type=\"simple\"><path d=\"M24.88,197 C28.275,197 83.4,197 138.5113,197 C145.4002,197 152.2888,197 159.0763,197 C159.9247,197 160.7715,197 161.6166,197 \" fill=\"none\" id=\"E1-&gt;E2\" style=\"stroke: #383838; stroke-width: 1.0; stroke-dasharray: 7.0,7.0;\"/><polygon fill=\"#383838\" points=\"161.6166,197,152.6166,193,156.6166,197,152.6166,201,161.6166,197\" style=\"stroke: #383838; stroke-width: 1.0;\"/><text fill=\"#000000\" font-family=\"sans-serif\" font-size=\"13\" lengthAdjust=\"spacingAndGlyphs\" textLength=\"65\" x=\"55.72\" y=\"193.0669\">«import»*</text></a><!--MD5=[af87c684e3b0d8be13c1a698a818ef1e]\n",
       "link E3 to E4--><a href=\"psysml:3b6c166c-6961-4bb7-b892-e5bb88ba66d9\" target=\"_top\" title=\"psysml:3b6c166c-6961-4bb7-b892-e5bb88ba66d9\" xlink:actuate=\"onRequest\" xlink:href=\"psysml:3b6c166c-6961-4bb7-b892-e5bb88ba66d9\" xlink:show=\"new\" xlink:title=\"psysml:3b6c166c-6961-4bb7-b892-e5bb88ba66d9\" xlink:type=\"simple\"><path d=\"M320.93,135 C357.36,135 402.21,135 438,135 \" fill=\"none\" id=\"E3-&gt;E4\" style=\"stroke: #383838; stroke-width: 1.0; stroke-dasharray: 7.0,7.0;\"/><polygon fill=\"#383838\" points=\"446.42,135,438.42,132,438.42,138,446.42,135\" style=\"stroke: #383838; stroke-width: 1.0;\"/><text fill=\"#000000\" font-family=\"sans-serif\" font-size=\"13\" lengthAdjust=\"spacingAndGlyphs\" textLength=\"64\" x=\"351.72\" y=\"131.0669\">«depend»</text></a><!--MD5=[1b7591eae5389033d8d09a9d6721a717]\n",
       "link E4 to E5--><a href=\"psysml:f4ae8342-4685-4b6d-8549-04188d07c1c2\" target=\"_top\" title=\"psysml:f4ae8342-4685-4b6d-8549-04188d07c1c2\" xlink:actuate=\"onRequest\" xlink:href=\"psysml:f4ae8342-4685-4b6d-8549-04188d07c1c2\" xlink:show=\"new\" xlink:title=\"psysml:f4ae8342-4685-4b6d-8549-04188d07c1c2\" xlink:type=\"simple\"><path d=\"M556.9,135 C592.53,135 638.96,135 674.41,135 \" fill=\"none\" id=\"E4-&gt;E5\" style=\"stroke: #383838; stroke-width: 1.0; stroke-dasharray: 7.0,7.0;\"/><polygon fill=\"#383838\" points=\"682.72,135,674.72,132,674.72,138,682.72,135\" style=\"stroke: #383838; stroke-width: 1.0;\"/><text fill=\"#000000\" font-family=\"sans-serif\" font-size=\"13\" lengthAdjust=\"spacingAndGlyphs\" textLength=\"64\" x=\"587.72\" y=\"131.0669\">«depend»</text></a><!--MD5=[c5e8897d989ce984f93528998a7150fe]\n",
       "link E8 to E6--><a href=\"psysml:dd0e7371-702f-42f4-9a28-a8ea46c1187a\" target=\"_top\" title=\"psysml:dd0e7371-702f-42f4-9a28-a8ea46c1187a\" xlink:actuate=\"onRequest\" xlink:href=\"psysml:dd0e7371-702f-42f4-9a28-a8ea46c1187a\" xlink:show=\"new\" xlink:title=\"psysml:dd0e7371-702f-42f4-9a28-a8ea46c1187a\" xlink:type=\"simple\"><path d=\"M288.75,291.72 C333.09,300.36 410.02,315.34 458,324.68 \" fill=\"none\" id=\"E8-&gt;E6\" style=\"stroke: #383838; stroke-width: 1.0; stroke-dasharray: 7.0,7.0;\"/><polygon fill=\"#383838\" points=\"466.02,326.24,458.7416,321.765,457.5938,327.6542,466.02,326.24\" style=\"stroke: #383838; stroke-width: 1.0;\"/><text fill=\"#000000\" font-family=\"sans-serif\" font-size=\"13\" lengthAdjust=\"spacingAndGlyphs\" textLength=\"64\" x=\"351.72\" y=\"301.0669\">«depend»</text></a><!--MD5=[bfa3c8b0d15052fdf50ae9310b491027]\n",
       "link E8 to E7--><a href=\"psysml:dd0e7371-702f-42f4-9a28-a8ea46c1187a\" target=\"_top\" title=\"psysml:dd0e7371-702f-42f4-9a28-a8ea46c1187a\" xlink:actuate=\"onRequest\" xlink:href=\"psysml:dd0e7371-702f-42f4-9a28-a8ea46c1187a\" xlink:show=\"new\" xlink:title=\"psysml:dd0e7371-702f-42f4-9a28-a8ea46c1187a\" xlink:type=\"simple\"><path d=\"M288.75,280.38 C333.09,274.44 410.02,264.14 458,257.72 \" fill=\"none\" id=\"E8-&gt;E7\" style=\"stroke: #383838; stroke-width: 1.0; stroke-dasharray: 7.0,7.0;\"/><polygon fill=\"#383838\" points=\"466.02,256.65,457.6937,254.7336,458.4867,260.681,466.02,256.65\" style=\"stroke: #383838; stroke-width: 1.0;\"/><text fill=\"#000000\" font-family=\"sans-serif\" font-size=\"13\" lengthAdjust=\"spacingAndGlyphs\" textLength=\"64\" x=\"351.72\" y=\"260.0669\">«depend»</text></a><!--MD5=[fca2e1525b0ad57e930091f1be3b1d1f]\n",
       "@startuml\r\n",
       "left to right direction\r\n",
       "skinparam monochrome true\r\n",
       "skinparam classbackgroundcolor white\r\n",
       "skinparam shadowing false\r\n",
       "skinparam wrapWidth 300\r\n",
       "hide circle\r\n",
       "\r\n",
       "package \"DependencyTest\" as E1  [[psysml:49f03030-de0c-4f13-ba7b-914972c61aaf ]]  {\r\n",
       "package \"System\" as E2  [[psysml:0a123ebf-9907-4602-8f86-a30c7447a6cf ]]  {\r\n",
       "package \"Application Layer\" as E3  [[psysml:fbc620fa-f332-480d-9302-6e81c218d767 ]]  {\r\n",
       "}\r\n",
       "package \"Service Layer\" as E4  [[psysml:426f0663-f125-4848-8cc6-b208ee541f23 ]]  {\r\n",
       "}\r\n",
       "package \"Data Layer\" as E5  [[psysml:fd3440a5-7307-47c9-b63e-e029b0e76f05 ]]  {\r\n",
       "}\r\n",
       "}\r\n",
       "comp usage \"x \" as E6  <<(T,blue) attribute>> [[psysml:0783b658-08bf-4abf-9182-ba1ece255f80 ]] {\r\n",
       "}\r\n",
       "comp usage \"y \" as E7  <<(T,blue) attribute>> [[psysml:00406d55-97a3-4ada-a9d4-67d88ef5929d ]] {\r\n",
       "}\r\n",
       "comp usage \"z \" as E8  <<(T,blue) attribute>> [[psysml:b610c4be-7598-4a50-a285-e23e2912f41a ]] {\r\n",
       "}\r\n",
       "}\r\n",
       "E1 ..> E2 [[psysml:1f214475-93e7-4d57-afd6-304a88df216d ]] : <<import>>*\r\n",
       "E3 ..>> E4 [[psysml:3b6c166c-6961-4bb7-b892-e5bb88ba66d9 ]] : <<depend>>\r\n",
       "E4 ..>> E5 [[psysml:f4ae8342-4685-4b6d-8549-04188d07c1c2 ]] : <<depend>>\r\n",
       "E8 ..>> E6 [[psysml:dd0e7371-702f-42f4-9a28-a8ea46c1187a ]] : <<depend>>\r\n",
       "E8 ..>> E7 [[psysml:dd0e7371-702f-42f4-9a28-a8ea46c1187a ]] : <<depend>>\r\n",
       "@enduml\r\n",
       "\n",
       "PlantUML version 1.2020.13(Sat Jun 13 12:26:38 UTC 2020)\n",
       "(EPL source distribution)\n",
       "Java Runtime: OpenJDK Runtime Environment\n",
       "JVM: OpenJDK 64-Bit Server VM\n",
       "Default Encoding: UTF-8\n",
       "Language: en\n",
       "Country: null\n",
       "--></g></svg>"
      ]
     },
     "execution_count": 22,
     "metadata": {},
     "output_type": "execute_result"
    }
   ],
   "source": [
    "%viz --style=\"LR\" --view=\"MIXED\" \"DependencyTest\""
   ]
  },
  {
   "cell_type": "code",
   "execution_count": 23,
   "id": "87d20a8e",
   "metadata": {
    "execution": {
     "iopub.execute_input": "2022-03-03T09:54:59.785092Z",
     "iopub.status.busy": "2022-03-03T09:54:59.784680Z",
     "iopub.status.idle": "2022-03-03T09:54:59.824868Z",
     "shell.execute_reply": "2022-03-03T09:54:59.824441Z"
    }
   },
   "outputs": [
    {
     "data": {
      "image/svg+xml": [
       "<?xml version=\"1.0\" encoding=\"UTF-8\" standalone=\"no\"?><svg xmlns=\"http://www.w3.org/2000/svg\" xmlns:xlink=\"http://www.w3.org/1999/xlink\" contentScriptType=\"application/ecmascript\" contentStyleType=\"text/css\" height=\"552px\" preserveAspectRatio=\"none\" style=\"width:536px;height:552px;\" version=\"1.1\" viewBox=\"0 0 536 552\" width=\"536px\" zoomAndPan=\"magnify\"><defs><filter height=\"300%\" id=\"filuphbw4n2bn\" width=\"300%\" x=\"-1\" y=\"-1\"><feGaussianBlur result=\"blurOut\" stdDeviation=\"2.0\"/><feColorMatrix in=\"blurOut\" result=\"blurOut2\" type=\"matrix\" values=\"0 0 0 0 0 0 0 0 0 0 0 0 0 0 0 0 0 0 .4 0\"/><feOffset dx=\"4.0\" dy=\"4.0\" in=\"blurOut2\" result=\"blurOut3\"/><feBlend in=\"SourceGraphic\" in2=\"blurOut3\" mode=\"normal\"/></filter></defs><g><!--MD5=[fbc87193dbaf4d95561dea2c320d4a47]\n",
       "cluster E1--><a href=\"psysml:49f03030-de0c-4f13-ba7b-914972c61aaf\" target=\"_top\" title=\"psysml:49f03030-de0c-4f13-ba7b-914972c61aaf\" xlink:actuate=\"onRequest\" xlink:href=\"psysml:49f03030-de0c-4f13-ba7b-914972c61aaf\" xlink:show=\"new\" xlink:title=\"psysml:49f03030-de0c-4f13-ba7b-914972c61aaf\" xlink:type=\"simple\"><polygon fill=\"#FFFFFF\" filter=\"url(#filuphbw4n2bn)\" points=\"16,6,142,6,149,28.2969,514,28.2969,514,540.72,16,540.72,16,6\" style=\"stroke: #000000; stroke-width: 1.5;\"/><line style=\"stroke: #000000; stroke-width: 1.5;\" x1=\"16\" x2=\"149\" y1=\"28.2969\" y2=\"28.2969\"/><text fill=\"#000000\" font-family=\"sans-serif\" font-size=\"14\" font-weight=\"bold\" lengthAdjust=\"spacingAndGlyphs\" textLength=\"120\" x=\"20\" y=\"20.9951\">DependencyTest</text></a><!--MD5=[e4f7fae6ed58524ba242bb0b0d3be6b7]\n",
       "cluster E2--><a href=\"psysml:0a123ebf-9907-4602-8f86-a30c7447a6cf\" target=\"_top\" title=\"psysml:0a123ebf-9907-4602-8f86-a30c7447a6cf\" xlink:actuate=\"onRequest\" xlink:href=\"psysml:0a123ebf-9907-4602-8f86-a30c7447a6cf\" xlink:show=\"new\" xlink:title=\"psysml:0a123ebf-9907-4602-8f86-a30c7447a6cf\" xlink:type=\"simple\"><polygon fill=\"#FFFFFF\" filter=\"url(#filuphbw4n2bn)\" points=\"271,120.72,328,120.72,335,143.0169,474,143.0169,474,500.72,271,500.72,271,120.72\" style=\"stroke: #000000; stroke-width: 1.5;\"/><line style=\"stroke: #000000; stroke-width: 1.5;\" x1=\"271\" x2=\"335\" y1=\"143.0169\" y2=\"143.0169\"/><text fill=\"#000000\" font-family=\"sans-serif\" font-size=\"14\" font-weight=\"bold\" lengthAdjust=\"spacingAndGlyphs\" textLength=\"51\" x=\"275\" y=\"135.7151\">System</text></a><!--MD5=[60a26617385b1d2d0262a64233df1f8d]\n",
       "class E6--><a href=\"psysml:0783b658-08bf-4abf-9182-ba1ece255f80\" target=\"_top\" title=\"psysml:0783b658-08bf-4abf-9182-ba1ece255f80\" xlink:actuate=\"onRequest\" xlink:href=\"psysml:0783b658-08bf-4abf-9182-ba1ece255f80\" xlink:show=\"new\" xlink:title=\"psysml:0783b658-08bf-4abf-9182-ba1ece255f80\" xlink:type=\"simple\"><rect fill=\"#FEFECE\" filter=\"url(#filuphbw4n2bn)\" height=\"45.9375\" id=\"E6\" rx=\"10\" ry=\"10\" style=\"stroke: #A80036; stroke-width: 1.5;\" width=\"71\" x=\"40.5\" y=\"297.22\"/><text fill=\"#000000\" font-family=\"sans-serif\" font-size=\"12\" font-style=\"italic\" lengthAdjust=\"spacingAndGlyphs\" textLength=\"69\" x=\"41.5\" y=\"313.3587\">«attribute»</text><text fill=\"#000000\" font-family=\"sans-serif\" font-size=\"12\" lengthAdjust=\"spacingAndGlyphs\" textLength=\"6\" x=\"71\" y=\"327.3274\">x</text><line style=\"stroke: #A80036; stroke-width: 1.5;\" x1=\"41.5\" x2=\"110.5\" y1=\"335.1575\" y2=\"335.1575\"/></a><!--MD5=[2156ba9850f5573cc1fc38a6a4b2f02b]\n",
       "class E7--><a href=\"psysml:00406d55-97a3-4ada-a9d4-67d88ef5929d\" target=\"_top\" title=\"psysml:00406d55-97a3-4ada-a9d4-67d88ef5929d\" xlink:actuate=\"onRequest\" xlink:href=\"psysml:00406d55-97a3-4ada-a9d4-67d88ef5929d\" xlink:show=\"new\" xlink:title=\"psysml:00406d55-97a3-4ada-a9d4-67d88ef5929d\" xlink:type=\"simple\"><rect fill=\"#FEFECE\" filter=\"url(#filuphbw4n2bn)\" height=\"45.9375\" id=\"E7\" rx=\"10\" ry=\"10\" style=\"stroke: #A80036; stroke-width: 1.5;\" width=\"71\" x=\"146.5\" y=\"297.22\"/><text fill=\"#000000\" font-family=\"sans-serif\" font-size=\"12\" font-style=\"italic\" lengthAdjust=\"spacingAndGlyphs\" textLength=\"69\" x=\"147.5\" y=\"313.3587\">«attribute»</text><text fill=\"#000000\" font-family=\"sans-serif\" font-size=\"12\" lengthAdjust=\"spacingAndGlyphs\" textLength=\"6\" x=\"177\" y=\"327.3274\">y</text><line style=\"stroke: #A80036; stroke-width: 1.5;\" x1=\"147.5\" x2=\"216.5\" y1=\"335.1575\" y2=\"335.1575\"/></a><!--MD5=[b9389687b975829384b498ac4b7476b2]\n",
       "class E8--><a href=\"psysml:b610c4be-7598-4a50-a285-e23e2912f41a\" target=\"_top\" title=\"psysml:b610c4be-7598-4a50-a285-e23e2912f41a\" xlink:actuate=\"onRequest\" xlink:href=\"psysml:b610c4be-7598-4a50-a285-e23e2912f41a\" xlink:show=\"new\" xlink:title=\"psysml:b610c4be-7598-4a50-a285-e23e2912f41a\" xlink:type=\"simple\"><rect fill=\"#FEFECE\" filter=\"url(#filuphbw4n2bn)\" height=\"45.9375\" id=\"E8\" rx=\"10\" ry=\"10\" style=\"stroke: #A80036; stroke-width: 1.5;\" width=\"71\" x=\"92.5\" y=\"167.22\"/><text fill=\"#000000\" font-family=\"sans-serif\" font-size=\"12\" font-style=\"italic\" lengthAdjust=\"spacingAndGlyphs\" textLength=\"69\" x=\"93.5\" y=\"183.3587\">«attribute»</text><text fill=\"#000000\" font-family=\"sans-serif\" font-size=\"12\" lengthAdjust=\"spacingAndGlyphs\" textLength=\"5\" x=\"123.5\" y=\"197.3274\">z</text><line style=\"stroke: #A80036; stroke-width: 1.5;\" x1=\"93.5\" x2=\"162.5\" y1=\"205.1575\" y2=\"205.1575\"/></a><a href=\"psysml:fbc620fa-f332-480d-9302-6e81c218d767\" target=\"_top\" title=\"psysml:fbc620fa-f332-480d-9302-6e81c218d767\" xlink:actuate=\"onRequest\" xlink:href=\"psysml:fbc620fa-f332-480d-9302-6e81c218d767\" xlink:show=\"new\" xlink:title=\"psysml:fbc620fa-f332-480d-9302-6e81c218d767\" xlink:type=\"simple\"><polygon fill=\"#FFFFFF\" filter=\"url(#filuphbw4n2bn)\" points=\"314.5,163.72,435.5,163.72,442.5,186.0169,449.5,186.0169,449.5,216.3138,314.5,216.3138,314.5,163.72\" style=\"stroke: #000000; stroke-width: 1.5;\"/><line style=\"stroke: #000000; stroke-width: 1.5;\" x1=\"314.5\" x2=\"442.5\" y1=\"186.0169\" y2=\"186.0169\"/><text fill=\"#000000\" font-family=\"sans-serif\" font-size=\"14\" font-weight=\"bold\" lengthAdjust=\"spacingAndGlyphs\" textLength=\"115\" x=\"318.5\" y=\"178.7151\">Application Layer</text></a><a href=\"psysml:426f0663-f125-4848-8cc6-b208ee541f23\" target=\"_top\" title=\"psysml:426f0663-f125-4848-8cc6-b208ee541f23\" xlink:actuate=\"onRequest\" xlink:href=\"psysml:426f0663-f125-4848-8cc6-b208ee541f23\" xlink:show=\"new\" xlink:title=\"psysml:426f0663-f125-4848-8cc6-b208ee541f23\" xlink:type=\"simple\"><polygon fill=\"#FFFFFF\" filter=\"url(#filuphbw4n2bn)\" points=\"327,293.72,423,293.72,430,316.0169,437,316.0169,437,346.3138,327,346.3138,327,293.72\" style=\"stroke: #000000; stroke-width: 1.5;\"/><line style=\"stroke: #000000; stroke-width: 1.5;\" x1=\"327\" x2=\"430\" y1=\"316.0169\" y2=\"316.0169\"/><text fill=\"#000000\" font-family=\"sans-serif\" font-size=\"14\" font-weight=\"bold\" lengthAdjust=\"spacingAndGlyphs\" textLength=\"90\" x=\"331\" y=\"308.7151\">Service Layer</text></a><a href=\"psysml:fd3440a5-7307-47c9-b63e-e029b0e76f05\" target=\"_top\" title=\"psysml:fd3440a5-7307-47c9-b63e-e029b0e76f05\" xlink:actuate=\"onRequest\" xlink:href=\"psysml:fd3440a5-7307-47c9-b63e-e029b0e76f05\" xlink:show=\"new\" xlink:title=\"psysml:fd3440a5-7307-47c9-b63e-e029b0e76f05\" xlink:type=\"simple\"><polygon fill=\"#FFFFFF\" filter=\"url(#filuphbw4n2bn)\" points=\"336,423.72,414,423.72,421,446.0169,428,446.0169,428,476.3138,336,476.3138,336,423.72\" style=\"stroke: #000000; stroke-width: 1.5;\"/><line style=\"stroke: #000000; stroke-width: 1.5;\" x1=\"336\" x2=\"421\" y1=\"446.0169\" y2=\"446.0169\"/><text fill=\"#000000\" font-family=\"sans-serif\" font-size=\"14\" font-weight=\"bold\" lengthAdjust=\"spacingAndGlyphs\" textLength=\"72\" x=\"340\" y=\"438.7151\">Data Layer</text></a><!--MD5=[1f1cd8e6dd4c1b2ca2aaccc9b9bcea6e]\n",
       "link E1 to E2--><a href=\"psysml:1f214475-93e7-4d57-afd6-304a88df216d\" target=\"_top\" title=\"psysml:1f214475-93e7-4d57-afd6-304a88df216d\" xlink:actuate=\"onRequest\" xlink:href=\"psysml:1f214475-93e7-4d57-afd6-304a88df216d\" xlink:show=\"new\" xlink:title=\"psysml:1f214475-93e7-4d57-afd6-304a88df216d\" xlink:type=\"simple\"><path d=\"M279,33.83 C279,36.15 279,73.83 279,111.5 C279,113.8544 279,116.2087 279,118.5544 C279,119.1408 279,119.7267 279,120.3119 \" fill=\"none\" id=\"E1-&gt;E2\" style=\"stroke: #A80036; stroke-width: 1.0; stroke-dasharray: 7.0,7.0;\"/><polygon fill=\"#A80036\" points=\"279,120.3119,283,111.3119,279,115.3119,275,111.3119,279,120.3119\" style=\"stroke: #A80036; stroke-width: 1.0;\"/><text fill=\"#000000\" font-family=\"sans-serif\" font-size=\"13\" lengthAdjust=\"spacingAndGlyphs\" textLength=\"65\" x=\"280\" y=\"76.7869\">«import»*</text></a><!--MD5=[af87c684e3b0d8be13c1a698a818ef1e]\n",
       "link E3 to E4--><a href=\"psysml:3b6c166c-6961-4bb7-b892-e5bb88ba66d9\" target=\"_top\" title=\"psysml:3b6c166c-6961-4bb7-b892-e5bb88ba66d9\" xlink:actuate=\"onRequest\" xlink:href=\"psysml:3b6c166c-6961-4bb7-b892-e5bb88ba66d9\" xlink:show=\"new\" xlink:title=\"psysml:3b6c166c-6961-4bb7-b892-e5bb88ba66d9\" xlink:type=\"simple\"><path d=\"M382,216.82 C382,236.52 382,263.94 382,285.45 \" fill=\"none\" id=\"E3-&gt;E4\" style=\"stroke: #A80036; stroke-width: 1.0; stroke-dasharray: 7.0,7.0;\"/><polygon fill=\"#A80036\" points=\"382,293.67,385,285.67,379,285.67,382,293.67\" style=\"stroke: #A80036; stroke-width: 1.0;\"/><text fill=\"#000000\" font-family=\"sans-serif\" font-size=\"13\" lengthAdjust=\"spacingAndGlyphs\" textLength=\"64\" x=\"383\" y=\"259.7869\">«depend»</text></a><!--MD5=[1b7591eae5389033d8d09a9d6721a717]\n",
       "link E4 to E5--><a href=\"psysml:f4ae8342-4685-4b6d-8549-04188d07c1c2\" target=\"_top\" title=\"psysml:f4ae8342-4685-4b6d-8549-04188d07c1c2\" xlink:actuate=\"onRequest\" xlink:href=\"psysml:f4ae8342-4685-4b6d-8549-04188d07c1c2\" xlink:show=\"new\" xlink:title=\"psysml:f4ae8342-4685-4b6d-8549-04188d07c1c2\" xlink:type=\"simple\"><path d=\"M382,346.82 C382,366.52 382,393.94 382,415.45 \" fill=\"none\" id=\"E4-&gt;E5\" style=\"stroke: #A80036; stroke-width: 1.0; stroke-dasharray: 7.0,7.0;\"/><polygon fill=\"#A80036\" points=\"382,423.67,385,415.67,379,415.67,382,423.67\" style=\"stroke: #A80036; stroke-width: 1.0;\"/><text fill=\"#000000\" font-family=\"sans-serif\" font-size=\"13\" lengthAdjust=\"spacingAndGlyphs\" textLength=\"64\" x=\"383\" y=\"389.7869\">«depend»</text></a><!--MD5=[c5e8897d989ce984f93528998a7150fe]\n",
       "link E8 to E6--><a href=\"psysml:dd0e7371-702f-42f4-9a28-a8ea46c1187a\" target=\"_top\" title=\"psysml:dd0e7371-702f-42f4-9a28-a8ea46c1187a\" xlink:actuate=\"onRequest\" xlink:href=\"psysml:dd0e7371-702f-42f4-9a28-a8ea46c1187a\" xlink:show=\"new\" xlink:title=\"psysml:dd0e7371-702f-42f4-9a28-a8ea46c1187a\" xlink:type=\"simple\"><path d=\"M97.42,213.32 C87.35,222.4 77.37,233.83 72,246.72 C66.5,259.92 66.66,275.66 68.54,289.1 \" fill=\"none\" id=\"E8-&gt;E6\" style=\"stroke: #A80036; stroke-width: 1.0; stroke-dasharray: 7.0,7.0;\"/><polygon fill=\"#A80036\" points=\"69.9,297.12,71.517,288.7304,65.6018,289.7359,69.9,297.12\" style=\"stroke: #A80036; stroke-width: 1.0;\"/><text fill=\"#000000\" font-family=\"sans-serif\" font-size=\"13\" lengthAdjust=\"spacingAndGlyphs\" textLength=\"64\" x=\"73\" y=\"259.7869\">«depend»</text></a><!--MD5=[bfa3c8b0d15052fdf50ae9310b491027]\n",
       "link E8 to E7--><a href=\"psysml:dd0e7371-702f-42f4-9a28-a8ea46c1187a\" target=\"_top\" title=\"psysml:dd0e7371-702f-42f4-9a28-a8ea46c1187a\" xlink:actuate=\"onRequest\" xlink:href=\"psysml:dd0e7371-702f-42f4-9a28-a8ea46c1187a\" xlink:show=\"new\" xlink:title=\"psysml:dd0e7371-702f-42f4-9a28-a8ea46c1187a\" xlink:type=\"simple\"><path d=\"M137.28,213.22 C146.17,234.29 159.64,266.22 169.47,289.53 \" fill=\"none\" id=\"E8-&gt;E7\" style=\"stroke: #A80036; stroke-width: 1.0; stroke-dasharray: 7.0,7.0;\"/><polygon fill=\"#A80036\" points=\"172.66,297.07,172.3241,288.5326,166.7933,290.8585,172.66,297.07\" style=\"stroke: #A80036; stroke-width: 1.0;\"/><text fill=\"#000000\" font-family=\"sans-serif\" font-size=\"13\" lengthAdjust=\"spacingAndGlyphs\" textLength=\"64\" x=\"159\" y=\"259.7869\">«depend»</text></a><!--MD5=[0ccbebba45b2f7dd22568cb53d016f83]\n",
       "@startuml\r\n",
       "skinparam wrapWidth 300\r\n",
       "hide circle\r\n",
       "\r\n",
       "package \"DependencyTest\" as E1  [[psysml:49f03030-de0c-4f13-ba7b-914972c61aaf ]]  {\r\n",
       "package \"System\" as E2  [[psysml:0a123ebf-9907-4602-8f86-a30c7447a6cf ]]  {\r\n",
       "package \"Application Layer\" as E3  [[psysml:fbc620fa-f332-480d-9302-6e81c218d767 ]]  {\r\n",
       "}\r\n",
       "package \"Service Layer\" as E4  [[psysml:426f0663-f125-4848-8cc6-b208ee541f23 ]]  {\r\n",
       "}\r\n",
       "package \"Data Layer\" as E5  [[psysml:fd3440a5-7307-47c9-b63e-e029b0e76f05 ]]  {\r\n",
       "}\r\n",
       "}\r\n",
       "comp usage \"x \" as E6  <<(T,blue) attribute>> [[psysml:0783b658-08bf-4abf-9182-ba1ece255f80 ]] {\r\n",
       "}\r\n",
       "comp usage \"y \" as E7  <<(T,blue) attribute>> [[psysml:00406d55-97a3-4ada-a9d4-67d88ef5929d ]] {\r\n",
       "}\r\n",
       "comp usage \"z \" as E8  <<(T,blue) attribute>> [[psysml:b610c4be-7598-4a50-a285-e23e2912f41a ]] {\r\n",
       "}\r\n",
       "}\r\n",
       "E1 ..> E2 [[psysml:1f214475-93e7-4d57-afd6-304a88df216d ]] : <<import>>*\r\n",
       "E3 ..>> E4 [[psysml:3b6c166c-6961-4bb7-b892-e5bb88ba66d9 ]] : <<depend>>\r\n",
       "E4 ..>> E5 [[psysml:f4ae8342-4685-4b6d-8549-04188d07c1c2 ]] : <<depend>>\r\n",
       "E8 ..>> E6 [[psysml:dd0e7371-702f-42f4-9a28-a8ea46c1187a ]] : <<depend>>\r\n",
       "E8 ..>> E7 [[psysml:dd0e7371-702f-42f4-9a28-a8ea46c1187a ]] : <<depend>>\r\n",
       "@enduml\r\n",
       "\n",
       "PlantUML version 1.2020.13(Sat Jun 13 12:26:38 UTC 2020)\n",
       "(EPL source distribution)\n",
       "Java Runtime: OpenJDK Runtime Environment\n",
       "JVM: OpenJDK 64-Bit Server VM\n",
       "Default Encoding: UTF-8\n",
       "Language: en\n",
       "Country: null\n",
       "--></g></svg>"
      ]
     },
     "execution_count": 23,
     "metadata": {},
     "output_type": "execute_result"
    }
   ],
   "source": [
    "%viz --style=\"STDCOLOR\" --view=\"Default\" \"DependencyTest\""
   ]
  },
  {
   "cell_type": "code",
   "execution_count": 24,
   "id": "15dc2e46",
   "metadata": {
    "execution": {
     "iopub.execute_input": "2022-03-03T09:54:59.874699Z",
     "iopub.status.busy": "2022-03-03T09:54:59.874207Z",
     "iopub.status.idle": "2022-03-03T09:54:59.911389Z",
     "shell.execute_reply": "2022-03-03T09:54:59.909965Z"
    }
   },
   "outputs": [
    {
     "data": {
      "image/svg+xml": [
       "<?xml version=\"1.0\" encoding=\"UTF-8\" standalone=\"no\"?><svg xmlns=\"http://www.w3.org/2000/svg\" xmlns:xlink=\"http://www.w3.org/1999/xlink\" contentScriptType=\"application/ecmascript\" contentStyleType=\"text/css\" height=\"552px\" preserveAspectRatio=\"none\" style=\"width:536px;height:552px;\" version=\"1.1\" viewBox=\"0 0 536 552\" width=\"536px\" zoomAndPan=\"magnify\"><defs><filter height=\"300%\" id=\"filuphbw4n2bn\" width=\"300%\" x=\"-1\" y=\"-1\"><feGaussianBlur result=\"blurOut\" stdDeviation=\"2.0\"/><feColorMatrix in=\"blurOut\" result=\"blurOut2\" type=\"matrix\" values=\"0 0 0 0 0 0 0 0 0 0 0 0 0 0 0 0 0 0 .4 0\"/><feOffset dx=\"4.0\" dy=\"4.0\" in=\"blurOut2\" result=\"blurOut3\"/><feBlend in=\"SourceGraphic\" in2=\"blurOut3\" mode=\"normal\"/></filter></defs><g><!--MD5=[fbc87193dbaf4d95561dea2c320d4a47]\n",
       "cluster E1--><a href=\"psysml:49f03030-de0c-4f13-ba7b-914972c61aaf\" target=\"_top\" title=\"psysml:49f03030-de0c-4f13-ba7b-914972c61aaf\" xlink:actuate=\"onRequest\" xlink:href=\"psysml:49f03030-de0c-4f13-ba7b-914972c61aaf\" xlink:show=\"new\" xlink:title=\"psysml:49f03030-de0c-4f13-ba7b-914972c61aaf\" xlink:type=\"simple\"><polygon fill=\"#FFFFFF\" filter=\"url(#filuphbw4n2bn)\" points=\"16,6,142,6,149,28.2969,514,28.2969,514,540.72,16,540.72,16,6\" style=\"stroke: #000000; stroke-width: 1.5;\"/><line style=\"stroke: #000000; stroke-width: 1.5;\" x1=\"16\" x2=\"149\" y1=\"28.2969\" y2=\"28.2969\"/><text fill=\"#000000\" font-family=\"sans-serif\" font-size=\"14\" font-weight=\"bold\" lengthAdjust=\"spacingAndGlyphs\" textLength=\"120\" x=\"20\" y=\"20.9951\">DependencyTest</text></a><!--MD5=[e4f7fae6ed58524ba242bb0b0d3be6b7]\n",
       "cluster E2--><a href=\"psysml:0a123ebf-9907-4602-8f86-a30c7447a6cf\" target=\"_top\" title=\"psysml:0a123ebf-9907-4602-8f86-a30c7447a6cf\" xlink:actuate=\"onRequest\" xlink:href=\"psysml:0a123ebf-9907-4602-8f86-a30c7447a6cf\" xlink:show=\"new\" xlink:title=\"psysml:0a123ebf-9907-4602-8f86-a30c7447a6cf\" xlink:type=\"simple\"><polygon fill=\"#FFFFFF\" filter=\"url(#filuphbw4n2bn)\" points=\"271,120.72,328,120.72,335,143.0169,474,143.0169,474,500.72,271,500.72,271,120.72\" style=\"stroke: #000000; stroke-width: 1.5;\"/><line style=\"stroke: #000000; stroke-width: 1.5;\" x1=\"271\" x2=\"335\" y1=\"143.0169\" y2=\"143.0169\"/><text fill=\"#000000\" font-family=\"sans-serif\" font-size=\"14\" font-weight=\"bold\" lengthAdjust=\"spacingAndGlyphs\" textLength=\"51\" x=\"275\" y=\"135.7151\">System</text></a><!--MD5=[60a26617385b1d2d0262a64233df1f8d]\n",
       "class E6--><a href=\"psysml:0783b658-08bf-4abf-9182-ba1ece255f80\" target=\"_top\" title=\"psysml:0783b658-08bf-4abf-9182-ba1ece255f80\" xlink:actuate=\"onRequest\" xlink:href=\"psysml:0783b658-08bf-4abf-9182-ba1ece255f80\" xlink:show=\"new\" xlink:title=\"psysml:0783b658-08bf-4abf-9182-ba1ece255f80\" xlink:type=\"simple\"><rect fill=\"#FEFECE\" filter=\"url(#filuphbw4n2bn)\" height=\"45.9375\" id=\"E6\" rx=\"10\" ry=\"10\" style=\"stroke: #A80036; stroke-width: 1.5;\" width=\"71\" x=\"40.5\" y=\"297.22\"/><text fill=\"#000000\" font-family=\"sans-serif\" font-size=\"12\" font-style=\"italic\" lengthAdjust=\"spacingAndGlyphs\" textLength=\"69\" x=\"41.5\" y=\"313.3587\">«attribute»</text><text fill=\"#000000\" font-family=\"sans-serif\" font-size=\"12\" lengthAdjust=\"spacingAndGlyphs\" textLength=\"6\" x=\"71\" y=\"327.3274\">x</text><line style=\"stroke: #A80036; stroke-width: 1.5;\" x1=\"41.5\" x2=\"110.5\" y1=\"335.1575\" y2=\"335.1575\"/></a><!--MD5=[2156ba9850f5573cc1fc38a6a4b2f02b]\n",
       "class E7--><a href=\"psysml:00406d55-97a3-4ada-a9d4-67d88ef5929d\" target=\"_top\" title=\"psysml:00406d55-97a3-4ada-a9d4-67d88ef5929d\" xlink:actuate=\"onRequest\" xlink:href=\"psysml:00406d55-97a3-4ada-a9d4-67d88ef5929d\" xlink:show=\"new\" xlink:title=\"psysml:00406d55-97a3-4ada-a9d4-67d88ef5929d\" xlink:type=\"simple\"><rect fill=\"#FEFECE\" filter=\"url(#filuphbw4n2bn)\" height=\"45.9375\" id=\"E7\" rx=\"10\" ry=\"10\" style=\"stroke: #A80036; stroke-width: 1.5;\" width=\"71\" x=\"146.5\" y=\"297.22\"/><text fill=\"#000000\" font-family=\"sans-serif\" font-size=\"12\" font-style=\"italic\" lengthAdjust=\"spacingAndGlyphs\" textLength=\"69\" x=\"147.5\" y=\"313.3587\">«attribute»</text><text fill=\"#000000\" font-family=\"sans-serif\" font-size=\"12\" lengthAdjust=\"spacingAndGlyphs\" textLength=\"6\" x=\"177\" y=\"327.3274\">y</text><line style=\"stroke: #A80036; stroke-width: 1.5;\" x1=\"147.5\" x2=\"216.5\" y1=\"335.1575\" y2=\"335.1575\"/></a><!--MD5=[b9389687b975829384b498ac4b7476b2]\n",
       "class E8--><a href=\"psysml:b610c4be-7598-4a50-a285-e23e2912f41a\" target=\"_top\" title=\"psysml:b610c4be-7598-4a50-a285-e23e2912f41a\" xlink:actuate=\"onRequest\" xlink:href=\"psysml:b610c4be-7598-4a50-a285-e23e2912f41a\" xlink:show=\"new\" xlink:title=\"psysml:b610c4be-7598-4a50-a285-e23e2912f41a\" xlink:type=\"simple\"><rect fill=\"#FEFECE\" filter=\"url(#filuphbw4n2bn)\" height=\"45.9375\" id=\"E8\" rx=\"10\" ry=\"10\" style=\"stroke: #A80036; stroke-width: 1.5;\" width=\"71\" x=\"92.5\" y=\"167.22\"/><text fill=\"#000000\" font-family=\"sans-serif\" font-size=\"12\" font-style=\"italic\" lengthAdjust=\"spacingAndGlyphs\" textLength=\"69\" x=\"93.5\" y=\"183.3587\">«attribute»</text><text fill=\"#000000\" font-family=\"sans-serif\" font-size=\"12\" lengthAdjust=\"spacingAndGlyphs\" textLength=\"5\" x=\"123.5\" y=\"197.3274\">z</text><line style=\"stroke: #A80036; stroke-width: 1.5;\" x1=\"93.5\" x2=\"162.5\" y1=\"205.1575\" y2=\"205.1575\"/></a><a href=\"psysml:fbc620fa-f332-480d-9302-6e81c218d767\" target=\"_top\" title=\"psysml:fbc620fa-f332-480d-9302-6e81c218d767\" xlink:actuate=\"onRequest\" xlink:href=\"psysml:fbc620fa-f332-480d-9302-6e81c218d767\" xlink:show=\"new\" xlink:title=\"psysml:fbc620fa-f332-480d-9302-6e81c218d767\" xlink:type=\"simple\"><polygon fill=\"#FFFFFF\" filter=\"url(#filuphbw4n2bn)\" points=\"314.5,163.72,435.5,163.72,442.5,186.0169,449.5,186.0169,449.5,216.3138,314.5,216.3138,314.5,163.72\" style=\"stroke: #000000; stroke-width: 1.5;\"/><line style=\"stroke: #000000; stroke-width: 1.5;\" x1=\"314.5\" x2=\"442.5\" y1=\"186.0169\" y2=\"186.0169\"/><text fill=\"#000000\" font-family=\"sans-serif\" font-size=\"14\" font-weight=\"bold\" lengthAdjust=\"spacingAndGlyphs\" textLength=\"115\" x=\"318.5\" y=\"178.7151\">Application Layer</text></a><a href=\"psysml:426f0663-f125-4848-8cc6-b208ee541f23\" target=\"_top\" title=\"psysml:426f0663-f125-4848-8cc6-b208ee541f23\" xlink:actuate=\"onRequest\" xlink:href=\"psysml:426f0663-f125-4848-8cc6-b208ee541f23\" xlink:show=\"new\" xlink:title=\"psysml:426f0663-f125-4848-8cc6-b208ee541f23\" xlink:type=\"simple\"><polygon fill=\"#FFFFFF\" filter=\"url(#filuphbw4n2bn)\" points=\"327,293.72,423,293.72,430,316.0169,437,316.0169,437,346.3138,327,346.3138,327,293.72\" style=\"stroke: #000000; stroke-width: 1.5;\"/><line style=\"stroke: #000000; stroke-width: 1.5;\" x1=\"327\" x2=\"430\" y1=\"316.0169\" y2=\"316.0169\"/><text fill=\"#000000\" font-family=\"sans-serif\" font-size=\"14\" font-weight=\"bold\" lengthAdjust=\"spacingAndGlyphs\" textLength=\"90\" x=\"331\" y=\"308.7151\">Service Layer</text></a><a href=\"psysml:fd3440a5-7307-47c9-b63e-e029b0e76f05\" target=\"_top\" title=\"psysml:fd3440a5-7307-47c9-b63e-e029b0e76f05\" xlink:actuate=\"onRequest\" xlink:href=\"psysml:fd3440a5-7307-47c9-b63e-e029b0e76f05\" xlink:show=\"new\" xlink:title=\"psysml:fd3440a5-7307-47c9-b63e-e029b0e76f05\" xlink:type=\"simple\"><polygon fill=\"#FFFFFF\" filter=\"url(#filuphbw4n2bn)\" points=\"336,423.72,414,423.72,421,446.0169,428,446.0169,428,476.3138,336,476.3138,336,423.72\" style=\"stroke: #000000; stroke-width: 1.5;\"/><line style=\"stroke: #000000; stroke-width: 1.5;\" x1=\"336\" x2=\"421\" y1=\"446.0169\" y2=\"446.0169\"/><text fill=\"#000000\" font-family=\"sans-serif\" font-size=\"14\" font-weight=\"bold\" lengthAdjust=\"spacingAndGlyphs\" textLength=\"72\" x=\"340\" y=\"438.7151\">Data Layer</text></a><!--MD5=[1f1cd8e6dd4c1b2ca2aaccc9b9bcea6e]\n",
       "link E1 to E2--><a href=\"psysml:1f214475-93e7-4d57-afd6-304a88df216d\" target=\"_top\" title=\"psysml:1f214475-93e7-4d57-afd6-304a88df216d\" xlink:actuate=\"onRequest\" xlink:href=\"psysml:1f214475-93e7-4d57-afd6-304a88df216d\" xlink:show=\"new\" xlink:title=\"psysml:1f214475-93e7-4d57-afd6-304a88df216d\" xlink:type=\"simple\"><path d=\"M279,33.83 C279,36.15 279,73.83 279,111.5 C279,113.8544 279,116.2087 279,118.5544 C279,119.1408 279,119.7267 279,120.3119 \" fill=\"none\" id=\"E1-&gt;E2\" style=\"stroke: #A80036; stroke-width: 1.0; stroke-dasharray: 7.0,7.0;\"/><polygon fill=\"#A80036\" points=\"279,120.3119,283,111.3119,279,115.3119,275,111.3119,279,120.3119\" style=\"stroke: #A80036; stroke-width: 1.0;\"/><text fill=\"#000000\" font-family=\"sans-serif\" font-size=\"13\" lengthAdjust=\"spacingAndGlyphs\" textLength=\"65\" x=\"280\" y=\"76.7869\">«import»*</text></a><!--MD5=[af87c684e3b0d8be13c1a698a818ef1e]\n",
       "link E3 to E4--><a href=\"psysml:3b6c166c-6961-4bb7-b892-e5bb88ba66d9\" target=\"_top\" title=\"psysml:3b6c166c-6961-4bb7-b892-e5bb88ba66d9\" xlink:actuate=\"onRequest\" xlink:href=\"psysml:3b6c166c-6961-4bb7-b892-e5bb88ba66d9\" xlink:show=\"new\" xlink:title=\"psysml:3b6c166c-6961-4bb7-b892-e5bb88ba66d9\" xlink:type=\"simple\"><path d=\"M382,216.82 C382,236.52 382,263.94 382,285.45 \" fill=\"none\" id=\"E3-&gt;E4\" style=\"stroke: #A80036; stroke-width: 1.0; stroke-dasharray: 7.0,7.0;\"/><polygon fill=\"#A80036\" points=\"382,293.67,385,285.67,379,285.67,382,293.67\" style=\"stroke: #A80036; stroke-width: 1.0;\"/><text fill=\"#000000\" font-family=\"sans-serif\" font-size=\"13\" lengthAdjust=\"spacingAndGlyphs\" textLength=\"64\" x=\"383\" y=\"259.7869\">«depend»</text></a><!--MD5=[1b7591eae5389033d8d09a9d6721a717]\n",
       "link E4 to E5--><a href=\"psysml:f4ae8342-4685-4b6d-8549-04188d07c1c2\" target=\"_top\" title=\"psysml:f4ae8342-4685-4b6d-8549-04188d07c1c2\" xlink:actuate=\"onRequest\" xlink:href=\"psysml:f4ae8342-4685-4b6d-8549-04188d07c1c2\" xlink:show=\"new\" xlink:title=\"psysml:f4ae8342-4685-4b6d-8549-04188d07c1c2\" xlink:type=\"simple\"><path d=\"M382,346.82 C382,366.52 382,393.94 382,415.45 \" fill=\"none\" id=\"E4-&gt;E5\" style=\"stroke: #A80036; stroke-width: 1.0; stroke-dasharray: 7.0,7.0;\"/><polygon fill=\"#A80036\" points=\"382,423.67,385,415.67,379,415.67,382,423.67\" style=\"stroke: #A80036; stroke-width: 1.0;\"/><text fill=\"#000000\" font-family=\"sans-serif\" font-size=\"13\" lengthAdjust=\"spacingAndGlyphs\" textLength=\"64\" x=\"383\" y=\"389.7869\">«depend»</text></a><!--MD5=[c5e8897d989ce984f93528998a7150fe]\n",
       "link E8 to E6--><a href=\"psysml:dd0e7371-702f-42f4-9a28-a8ea46c1187a\" target=\"_top\" title=\"psysml:dd0e7371-702f-42f4-9a28-a8ea46c1187a\" xlink:actuate=\"onRequest\" xlink:href=\"psysml:dd0e7371-702f-42f4-9a28-a8ea46c1187a\" xlink:show=\"new\" xlink:title=\"psysml:dd0e7371-702f-42f4-9a28-a8ea46c1187a\" xlink:type=\"simple\"><path d=\"M97.42,213.32 C87.35,222.4 77.37,233.83 72,246.72 C66.5,259.92 66.66,275.66 68.54,289.1 \" fill=\"none\" id=\"E8-&gt;E6\" style=\"stroke: #A80036; stroke-width: 1.0; stroke-dasharray: 7.0,7.0;\"/><polygon fill=\"#A80036\" points=\"69.9,297.12,71.517,288.7304,65.6018,289.7359,69.9,297.12\" style=\"stroke: #A80036; stroke-width: 1.0;\"/><text fill=\"#000000\" font-family=\"sans-serif\" font-size=\"13\" lengthAdjust=\"spacingAndGlyphs\" textLength=\"64\" x=\"73\" y=\"259.7869\">«depend»</text></a><!--MD5=[bfa3c8b0d15052fdf50ae9310b491027]\n",
       "link E8 to E7--><a href=\"psysml:dd0e7371-702f-42f4-9a28-a8ea46c1187a\" target=\"_top\" title=\"psysml:dd0e7371-702f-42f4-9a28-a8ea46c1187a\" xlink:actuate=\"onRequest\" xlink:href=\"psysml:dd0e7371-702f-42f4-9a28-a8ea46c1187a\" xlink:show=\"new\" xlink:title=\"psysml:dd0e7371-702f-42f4-9a28-a8ea46c1187a\" xlink:type=\"simple\"><path d=\"M137.28,213.22 C146.17,234.29 159.64,266.22 169.47,289.53 \" fill=\"none\" id=\"E8-&gt;E7\" style=\"stroke: #A80036; stroke-width: 1.0; stroke-dasharray: 7.0,7.0;\"/><polygon fill=\"#A80036\" points=\"172.66,297.07,172.3241,288.5326,166.7933,290.8585,172.66,297.07\" style=\"stroke: #A80036; stroke-width: 1.0;\"/><text fill=\"#000000\" font-family=\"sans-serif\" font-size=\"13\" lengthAdjust=\"spacingAndGlyphs\" textLength=\"64\" x=\"159\" y=\"259.7869\">«depend»</text></a><!--MD5=[0ccbebba45b2f7dd22568cb53d016f83]\n",
       "@startuml\r\n",
       "skinparam wrapWidth 300\r\n",
       "hide circle\r\n",
       "\r\n",
       "package \"DependencyTest\" as E1  [[psysml:49f03030-de0c-4f13-ba7b-914972c61aaf ]]  {\r\n",
       "package \"System\" as E2  [[psysml:0a123ebf-9907-4602-8f86-a30c7447a6cf ]]  {\r\n",
       "package \"Application Layer\" as E3  [[psysml:fbc620fa-f332-480d-9302-6e81c218d767 ]]  {\r\n",
       "}\r\n",
       "package \"Service Layer\" as E4  [[psysml:426f0663-f125-4848-8cc6-b208ee541f23 ]]  {\r\n",
       "}\r\n",
       "package \"Data Layer\" as E5  [[psysml:fd3440a5-7307-47c9-b63e-e029b0e76f05 ]]  {\r\n",
       "}\r\n",
       "}\r\n",
       "comp usage \"x \" as E6  <<(T,blue) attribute>> [[psysml:0783b658-08bf-4abf-9182-ba1ece255f80 ]] {\r\n",
       "}\r\n",
       "comp usage \"y \" as E7  <<(T,blue) attribute>> [[psysml:00406d55-97a3-4ada-a9d4-67d88ef5929d ]] {\r\n",
       "}\r\n",
       "comp usage \"z \" as E8  <<(T,blue) attribute>> [[psysml:b610c4be-7598-4a50-a285-e23e2912f41a ]] {\r\n",
       "}\r\n",
       "}\r\n",
       "E1 ..> E2 [[psysml:1f214475-93e7-4d57-afd6-304a88df216d ]] : <<import>>*\r\n",
       "E3 ..>> E4 [[psysml:3b6c166c-6961-4bb7-b892-e5bb88ba66d9 ]] : <<depend>>\r\n",
       "E4 ..>> E5 [[psysml:f4ae8342-4685-4b6d-8549-04188d07c1c2 ]] : <<depend>>\r\n",
       "E8 ..>> E6 [[psysml:dd0e7371-702f-42f4-9a28-a8ea46c1187a ]] : <<depend>>\r\n",
       "E8 ..>> E7 [[psysml:dd0e7371-702f-42f4-9a28-a8ea46c1187a ]] : <<depend>>\r\n",
       "@enduml\r\n",
       "\n",
       "PlantUML version 1.2020.13(Sat Jun 13 12:26:38 UTC 2020)\n",
       "(EPL source distribution)\n",
       "Java Runtime: OpenJDK Runtime Environment\n",
       "JVM: OpenJDK 64-Bit Server VM\n",
       "Default Encoding: UTF-8\n",
       "Language: en\n",
       "Country: null\n",
       "--></g></svg>"
      ]
     },
     "execution_count": 24,
     "metadata": {},
     "output_type": "execute_result"
    }
   ],
   "source": [
    "%viz --style=\"STDCOLOR\" --view=\"Tree\" \"DependencyTest\""
   ]
  },
  {
   "cell_type": "code",
   "execution_count": 25,
   "id": "ae6213c5",
   "metadata": {
    "execution": {
     "iopub.execute_input": "2022-03-03T09:54:59.960708Z",
     "iopub.status.busy": "2022-03-03T09:54:59.960379Z",
     "iopub.status.idle": "2022-03-03T09:54:59.964853Z",
     "shell.execute_reply": "2022-03-03T09:54:59.965150Z"
    }
   },
   "outputs": [
    {
     "data": {
      "image/svg+xml": [
       "<?xml version=\"1.0\" encoding=\"UTF-8\" standalone=\"no\"?><svg xmlns=\"http://www.w3.org/2000/svg\" xmlns:xlink=\"http://www.w3.org/1999/xlink\" contentScriptType=\"application/ecmascript\" contentStyleType=\"text/css\" height=\"12px\" preserveAspectRatio=\"none\" style=\"width:12px;height:12px;\" version=\"1.1\" viewBox=\"0 0 12 12\" width=\"12px\" zoomAndPan=\"magnify\"><defs/><g><!--MD5=[aeeef50f102b80d730deb6443d14f702]\n",
       "@startuml\r\n",
       "skinparam wrapWidth 300\r\n",
       "hide circle\r\n",
       "\r\n",
       "@enduml\r\n",
       "\n",
       "PlantUML version 1.2020.13(Sat Jun 13 12:26:38 UTC 2020)\n",
       "(EPL source distribution)\n",
       "Java Runtime: OpenJDK Runtime Environment\n",
       "JVM: OpenJDK 64-Bit Server VM\n",
       "Default Encoding: UTF-8\n",
       "Language: en\n",
       "Country: null\n",
       "--></g></svg>"
      ]
     },
     "execution_count": 25,
     "metadata": {},
     "output_type": "execute_result"
    }
   ],
   "source": [
    "%viz --style=\"STDCOLOR\" --view=\"State\" \"DependencyTest\""
   ]
  },
  {
   "cell_type": "code",
   "execution_count": 26,
   "id": "3f46be5c",
   "metadata": {
    "execution": {
     "iopub.execute_input": "2022-03-03T09:55:00.015127Z",
     "iopub.status.busy": "2022-03-03T09:55:00.014770Z",
     "iopub.status.idle": "2022-03-03T09:55:00.053541Z",
     "shell.execute_reply": "2022-03-03T09:55:00.053022Z"
    }
   },
   "outputs": [
    {
     "data": {
      "image/svg+xml": [
       "<?xml version=\"1.0\" encoding=\"UTF-8\" standalone=\"no\"?><svg xmlns=\"http://www.w3.org/2000/svg\" xmlns:xlink=\"http://www.w3.org/1999/xlink\" contentScriptType=\"application/ecmascript\" contentStyleType=\"text/css\" height=\"442px\" preserveAspectRatio=\"none\" style=\"width:536px;height:442px;\" version=\"1.1\" viewBox=\"0 0 536 442\" width=\"536px\" zoomAndPan=\"magnify\"><defs><filter height=\"300%\" id=\"forlz1jsa0w60\" width=\"300%\" x=\"-1\" y=\"-1\"><feGaussianBlur result=\"blurOut\" stdDeviation=\"2.0\"/><feColorMatrix in=\"blurOut\" result=\"blurOut2\" type=\"matrix\" values=\"0 0 0 0 0 0 0 0 0 0 0 0 0 0 0 0 0 0 .4 0\"/><feOffset dx=\"4.0\" dy=\"4.0\" in=\"blurOut2\" result=\"blurOut3\"/><feBlend in=\"SourceGraphic\" in2=\"blurOut3\" mode=\"normal\"/></filter></defs><g><!--MD5=[fbc87193dbaf4d95561dea2c320d4a47]\n",
       "cluster E1--><a href=\"psysml:49f03030-de0c-4f13-ba7b-914972c61aaf\" target=\"_top\" title=\"psysml:49f03030-de0c-4f13-ba7b-914972c61aaf\" xlink:actuate=\"onRequest\" xlink:href=\"psysml:49f03030-de0c-4f13-ba7b-914972c61aaf\" xlink:show=\"new\" xlink:title=\"psysml:49f03030-de0c-4f13-ba7b-914972c61aaf\" xlink:type=\"simple\"><polygon fill=\"#FFFFFF\" filter=\"url(#forlz1jsa0w60)\" points=\"16,6,142,6,149,28.2969,514,28.2969,514,430.72,16,430.72,16,6\" style=\"stroke: #000000; stroke-width: 1.5;\"/><line style=\"stroke: #000000; stroke-width: 1.5;\" x1=\"16\" x2=\"149\" y1=\"28.2969\" y2=\"28.2969\"/><text fill=\"#000000\" font-family=\"sans-serif\" font-size=\"14\" font-weight=\"bold\" lengthAdjust=\"spacingAndGlyphs\" textLength=\"120\" x=\"20\" y=\"20.9951\">DependencyTest</text></a><!--MD5=[e4f7fae6ed58524ba242bb0b0d3be6b7]\n",
       "cluster E2--><a href=\"psysml:0a123ebf-9907-4602-8f86-a30c7447a6cf\" target=\"_top\" title=\"psysml:0a123ebf-9907-4602-8f86-a30c7447a6cf\" xlink:actuate=\"onRequest\" xlink:href=\"psysml:0a123ebf-9907-4602-8f86-a30c7447a6cf\" xlink:show=\"new\" xlink:title=\"psysml:0a123ebf-9907-4602-8f86-a30c7447a6cf\" xlink:type=\"simple\"><polygon fill=\"#FFFFFF\" filter=\"url(#forlz1jsa0w60)\" points=\"271,98.72,328,98.72,335,121.0169,474,121.0169,474,390.72,271,390.72,271,98.72\" style=\"stroke: #000000; stroke-width: 1.5;\"/><line style=\"stroke: #000000; stroke-width: 1.5;\" x1=\"271\" x2=\"335\" y1=\"121.0169\" y2=\"121.0169\"/><text fill=\"#000000\" font-family=\"sans-serif\" font-size=\"14\" font-weight=\"bold\" lengthAdjust=\"spacingAndGlyphs\" textLength=\"51\" x=\"275\" y=\"113.7151\">System</text></a><!--MD5=[60a26617385b1d2d0262a64233df1f8d]\n",
       "class E6--><a href=\"psysml:0783b658-08bf-4abf-9182-ba1ece255f80\" target=\"_top\" title=\"psysml:0783b658-08bf-4abf-9182-ba1ece255f80\" xlink:actuate=\"onRequest\" xlink:href=\"psysml:0783b658-08bf-4abf-9182-ba1ece255f80\" xlink:show=\"new\" xlink:title=\"psysml:0783b658-08bf-4abf-9182-ba1ece255f80\" xlink:type=\"simple\"><rect fill=\"#FEFECE\" filter=\"url(#forlz1jsa0w60)\" height=\"45.9375\" id=\"E6\" rx=\"10\" ry=\"10\" style=\"stroke: #A80036; stroke-width: 1.5;\" width=\"71\" x=\"40.5\" y=\"231.22\"/><text fill=\"#000000\" font-family=\"sans-serif\" font-size=\"12\" font-style=\"italic\" lengthAdjust=\"spacingAndGlyphs\" textLength=\"69\" x=\"41.5\" y=\"247.3587\">«attribute»</text><text fill=\"#000000\" font-family=\"sans-serif\" font-size=\"12\" lengthAdjust=\"spacingAndGlyphs\" textLength=\"6\" x=\"71\" y=\"261.3274\">x</text><line style=\"stroke: #A80036; stroke-width: 1.5;\" x1=\"41.5\" x2=\"110.5\" y1=\"269.1575\" y2=\"269.1575\"/></a><!--MD5=[2156ba9850f5573cc1fc38a6a4b2f02b]\n",
       "class E7--><a href=\"psysml:00406d55-97a3-4ada-a9d4-67d88ef5929d\" target=\"_top\" title=\"psysml:00406d55-97a3-4ada-a9d4-67d88ef5929d\" xlink:actuate=\"onRequest\" xlink:href=\"psysml:00406d55-97a3-4ada-a9d4-67d88ef5929d\" xlink:show=\"new\" xlink:title=\"psysml:00406d55-97a3-4ada-a9d4-67d88ef5929d\" xlink:type=\"simple\"><rect fill=\"#FEFECE\" filter=\"url(#forlz1jsa0w60)\" height=\"45.9375\" id=\"E7\" rx=\"10\" ry=\"10\" style=\"stroke: #A80036; stroke-width: 1.5;\" width=\"71\" x=\"146.5\" y=\"231.22\"/><text fill=\"#000000\" font-family=\"sans-serif\" font-size=\"12\" font-style=\"italic\" lengthAdjust=\"spacingAndGlyphs\" textLength=\"69\" x=\"147.5\" y=\"247.3587\">«attribute»</text><text fill=\"#000000\" font-family=\"sans-serif\" font-size=\"12\" lengthAdjust=\"spacingAndGlyphs\" textLength=\"6\" x=\"177\" y=\"261.3274\">y</text><line style=\"stroke: #A80036; stroke-width: 1.5;\" x1=\"147.5\" x2=\"216.5\" y1=\"269.1575\" y2=\"269.1575\"/></a><!--MD5=[b9389687b975829384b498ac4b7476b2]\n",
       "class E8--><a href=\"psysml:b610c4be-7598-4a50-a285-e23e2912f41a\" target=\"_top\" title=\"psysml:b610c4be-7598-4a50-a285-e23e2912f41a\" xlink:actuate=\"onRequest\" xlink:href=\"psysml:b610c4be-7598-4a50-a285-e23e2912f41a\" xlink:show=\"new\" xlink:title=\"psysml:b610c4be-7598-4a50-a285-e23e2912f41a\" xlink:type=\"simple\"><rect fill=\"#FEFECE\" filter=\"url(#forlz1jsa0w60)\" height=\"45.9375\" id=\"E8\" rx=\"10\" ry=\"10\" style=\"stroke: #A80036; stroke-width: 1.5;\" width=\"71\" x=\"92.5\" y=\"145.22\"/><text fill=\"#000000\" font-family=\"sans-serif\" font-size=\"12\" font-style=\"italic\" lengthAdjust=\"spacingAndGlyphs\" textLength=\"69\" x=\"93.5\" y=\"161.3587\">«attribute»</text><text fill=\"#000000\" font-family=\"sans-serif\" font-size=\"12\" lengthAdjust=\"spacingAndGlyphs\" textLength=\"5\" x=\"123.5\" y=\"175.3274\">z</text><line style=\"stroke: #A80036; stroke-width: 1.5;\" x1=\"93.5\" x2=\"162.5\" y1=\"183.1575\" y2=\"183.1575\"/></a><a href=\"psysml:fbc620fa-f332-480d-9302-6e81c218d767\" target=\"_top\" title=\"psysml:fbc620fa-f332-480d-9302-6e81c218d767\" xlink:actuate=\"onRequest\" xlink:href=\"psysml:fbc620fa-f332-480d-9302-6e81c218d767\" xlink:show=\"new\" xlink:title=\"psysml:fbc620fa-f332-480d-9302-6e81c218d767\" xlink:type=\"simple\"><polygon fill=\"#FFFFFF\" filter=\"url(#forlz1jsa0w60)\" points=\"314.5,141.72,435.5,141.72,442.5,164.0169,449.5,164.0169,449.5,194.3138,314.5,194.3138,314.5,141.72\" style=\"stroke: #000000; stroke-width: 1.5;\"/><line style=\"stroke: #000000; stroke-width: 1.5;\" x1=\"314.5\" x2=\"442.5\" y1=\"164.0169\" y2=\"164.0169\"/><text fill=\"#000000\" font-family=\"sans-serif\" font-size=\"14\" font-weight=\"bold\" lengthAdjust=\"spacingAndGlyphs\" textLength=\"115\" x=\"318.5\" y=\"156.7151\">Application Layer</text></a><a href=\"psysml:426f0663-f125-4848-8cc6-b208ee541f23\" target=\"_top\" title=\"psysml:426f0663-f125-4848-8cc6-b208ee541f23\" xlink:actuate=\"onRequest\" xlink:href=\"psysml:426f0663-f125-4848-8cc6-b208ee541f23\" xlink:show=\"new\" xlink:title=\"psysml:426f0663-f125-4848-8cc6-b208ee541f23\" xlink:type=\"simple\"><polygon fill=\"#FFFFFF\" filter=\"url(#forlz1jsa0w60)\" points=\"327,227.72,423,227.72,430,250.0169,437,250.0169,437,280.3138,327,280.3138,327,227.72\" style=\"stroke: #000000; stroke-width: 1.5;\"/><line style=\"stroke: #000000; stroke-width: 1.5;\" x1=\"327\" x2=\"430\" y1=\"250.0169\" y2=\"250.0169\"/><text fill=\"#000000\" font-family=\"sans-serif\" font-size=\"14\" font-weight=\"bold\" lengthAdjust=\"spacingAndGlyphs\" textLength=\"90\" x=\"331\" y=\"242.7151\">Service Layer</text></a><a href=\"psysml:fd3440a5-7307-47c9-b63e-e029b0e76f05\" target=\"_top\" title=\"psysml:fd3440a5-7307-47c9-b63e-e029b0e76f05\" xlink:actuate=\"onRequest\" xlink:href=\"psysml:fd3440a5-7307-47c9-b63e-e029b0e76f05\" xlink:show=\"new\" xlink:title=\"psysml:fd3440a5-7307-47c9-b63e-e029b0e76f05\" xlink:type=\"simple\"><polygon fill=\"#FFFFFF\" filter=\"url(#forlz1jsa0w60)\" points=\"336,313.72,414,313.72,421,336.0169,428,336.0169,428,366.3138,336,366.3138,336,313.72\" style=\"stroke: #000000; stroke-width: 1.5;\"/><line style=\"stroke: #000000; stroke-width: 1.5;\" x1=\"336\" x2=\"421\" y1=\"336.0169\" y2=\"336.0169\"/><text fill=\"#000000\" font-family=\"sans-serif\" font-size=\"14\" font-weight=\"bold\" lengthAdjust=\"spacingAndGlyphs\" textLength=\"72\" x=\"340\" y=\"328.7151\">Data Layer</text></a><!--MD5=[1f1cd8e6dd4c1b2ca2aaccc9b9bcea6e]\n",
       "link E1 to E2--><a href=\"psysml:1f214475-93e7-4d57-afd6-304a88df216d\" target=\"_top\" title=\"psysml:1f214475-93e7-4d57-afd6-304a88df216d\" xlink:actuate=\"onRequest\" xlink:href=\"psysml:1f214475-93e7-4d57-afd6-304a88df216d\" xlink:show=\"new\" xlink:title=\"psysml:1f214475-93e7-4d57-afd6-304a88df216d\" xlink:type=\"simple\"><path d=\"M279,33.82 C279,34.815 279,43.3994 279,55.7775 C279,61.9666 279,69.1041 279,76.7155 C279,80.5213 279,84.4455 279,88.429 C279,90.4207 279,92.4272 279,94.4411 C279,95.448 279,96.4568 279,97.4665 C279,97.719 279,97.9714 279,98.224 \" fill=\"none\" id=\"E1-&gt;E2\" style=\"stroke: #A80036; stroke-width: 1.0; stroke-dasharray: 7.0,7.0;\"/><polygon fill=\"#A80036\" points=\"279,98.224,283,89.224,279,93.224,275,89.224,279,98.224\" style=\"stroke: #A80036; stroke-width: 1.0;\"/><text fill=\"#000000\" font-family=\"sans-serif\" font-size=\"13\" lengthAdjust=\"spacingAndGlyphs\" textLength=\"65\" x=\"280\" y=\"54.7869\">«import»*</text></a><!--MD5=[af87c684e3b0d8be13c1a698a818ef1e]\n",
       "link E3 to E4--><a href=\"psysml:3b6c166c-6961-4bb7-b892-e5bb88ba66d9\" target=\"_top\" title=\"psysml:3b6c166c-6961-4bb7-b892-e5bb88ba66d9\" xlink:actuate=\"onRequest\" xlink:href=\"psysml:3b6c166c-6961-4bb7-b892-e5bb88ba66d9\" xlink:show=\"new\" xlink:title=\"psysml:3b6c166c-6961-4bb7-b892-e5bb88ba66d9\" xlink:type=\"simple\"><path d=\"M382,194.88 C382,202.7 382,211.41 382,219.66 \" fill=\"none\" id=\"E3-&gt;E4\" style=\"stroke: #A80036; stroke-width: 1.0; stroke-dasharray: 7.0,7.0;\"/><polygon fill=\"#A80036\" points=\"382,227.72,385,219.72,379,219.72,382,227.72\" style=\"stroke: #A80036; stroke-width: 1.0;\"/><text fill=\"#000000\" font-family=\"sans-serif\" font-size=\"13\" lengthAdjust=\"spacingAndGlyphs\" textLength=\"64\" x=\"383\" y=\"215.7869\">«depend»</text></a><!--MD5=[1b7591eae5389033d8d09a9d6721a717]\n",
       "link E4 to E5--><a href=\"psysml:f4ae8342-4685-4b6d-8549-04188d07c1c2\" target=\"_top\" title=\"psysml:f4ae8342-4685-4b6d-8549-04188d07c1c2\" xlink:actuate=\"onRequest\" xlink:href=\"psysml:f4ae8342-4685-4b6d-8549-04188d07c1c2\" xlink:show=\"new\" xlink:title=\"psysml:f4ae8342-4685-4b6d-8549-04188d07c1c2\" xlink:type=\"simple\"><path d=\"M382,280.88 C382,288.7 382,297.41 382,305.66 \" fill=\"none\" id=\"E4-&gt;E5\" style=\"stroke: #A80036; stroke-width: 1.0; stroke-dasharray: 7.0,7.0;\"/><polygon fill=\"#A80036\" points=\"382,313.72,385,305.72,379,305.72,382,313.72\" style=\"stroke: #A80036; stroke-width: 1.0;\"/><text fill=\"#000000\" font-family=\"sans-serif\" font-size=\"13\" lengthAdjust=\"spacingAndGlyphs\" textLength=\"64\" x=\"383\" y=\"301.7869\">«depend»</text></a><!--MD5=[c5e8897d989ce984f93528998a7150fe]\n",
       "link E8 to E6--><a href=\"psysml:dd0e7371-702f-42f4-9a28-a8ea46c1187a\" target=\"_top\" title=\"psysml:dd0e7371-702f-42f4-9a28-a8ea46c1187a\" xlink:actuate=\"onRequest\" xlink:href=\"psysml:dd0e7371-702f-42f4-9a28-a8ea46c1187a\" xlink:show=\"new\" xlink:title=\"psysml:dd0e7371-702f-42f4-9a28-a8ea46c1187a\" xlink:type=\"simple\"><path d=\"M92.49,183.06 C84.34,187.99 76.69,194.44 72,202.72 C68.54,208.82 67.62,216.03 68,223.05 \" fill=\"none\" id=\"E8-&gt;E6\" style=\"stroke: #A80036; stroke-width: 1.0; stroke-dasharray: 7.0,7.0;\"/><polygon fill=\"#A80036\" points=\"68.97,231.14,71.0061,222.8421,65.0479,223.5494,68.97,231.14\" style=\"stroke: #A80036; stroke-width: 1.0;\"/><text fill=\"#000000\" font-family=\"sans-serif\" font-size=\"13\" lengthAdjust=\"spacingAndGlyphs\" textLength=\"64\" x=\"73\" y=\"215.7869\">«depend»</text></a><!--MD5=[bfa3c8b0d15052fdf50ae9310b491027]\n",
       "link E8 to E7--><a href=\"psysml:dd0e7371-702f-42f4-9a28-a8ea46c1187a\" target=\"_top\" title=\"psysml:dd0e7371-702f-42f4-9a28-a8ea46c1187a\" xlink:actuate=\"onRequest\" xlink:href=\"psysml:dd0e7371-702f-42f4-9a28-a8ea46c1187a\" xlink:show=\"new\" xlink:title=\"psysml:dd0e7371-702f-42f4-9a28-a8ea46c1187a\" xlink:type=\"simple\"><path d=\"M142.19,191.29 C148.65,201.34 156.38,213.37 163.31,224.14 \" fill=\"none\" id=\"E8-&gt;E7\" style=\"stroke: #A80036; stroke-width: 1.0; stroke-dasharray: 7.0,7.0;\"/><polygon fill=\"#A80036\" points=\"167.72,231.01,165.9148,222.6589,160.8688,225.905,167.72,231.01\" style=\"stroke: #A80036; stroke-width: 1.0;\"/><text fill=\"#000000\" font-family=\"sans-serif\" font-size=\"13\" lengthAdjust=\"spacingAndGlyphs\" textLength=\"64\" x=\"160\" y=\"215.7869\">«depend»</text></a><!--MD5=[4f2bb9c41d433e3def9d579974eff852]\n",
       "@startuml\r\n",
       "skinparam ranksep 10\r\n",
       "skinparam rectangle {\r\n",
       " backgroundColor<<block>> LightGreen\r\n",
       "}\r\n",
       "skinparam wrapWidth 300\r\n",
       "hide circle\r\n",
       "\r\n",
       "package \"DependencyTest\" as E1  [[psysml:49f03030-de0c-4f13-ba7b-914972c61aaf ]]  {\r\n",
       "package \"System\" as E2  [[psysml:0a123ebf-9907-4602-8f86-a30c7447a6cf ]]  {\r\n",
       "package \"Application Layer\" as E3  [[psysml:fbc620fa-f332-480d-9302-6e81c218d767 ]]  {\r\n",
       "}\r\n",
       "package \"Service Layer\" as E4  [[psysml:426f0663-f125-4848-8cc6-b208ee541f23 ]]  {\r\n",
       "}\r\n",
       "package \"Data Layer\" as E5  [[psysml:fd3440a5-7307-47c9-b63e-e029b0e76f05 ]]  {\r\n",
       "}\r\n",
       "}\r\n",
       "comp usage \"x \" as E6  <<(T,blue) attribute>> [[psysml:0783b658-08bf-4abf-9182-ba1ece255f80 ]] {\r\n",
       "}\r\n",
       "comp usage \"y \" as E7  <<(T,blue) attribute>> [[psysml:00406d55-97a3-4ada-a9d4-67d88ef5929d ]] {\r\n",
       "}\r\n",
       "comp usage \"z \" as E8  <<(T,blue) attribute>> [[psysml:b610c4be-7598-4a50-a285-e23e2912f41a ]] {\r\n",
       "}\r\n",
       "}\r\n",
       "E1 ..> E2 [[psysml:1f214475-93e7-4d57-afd6-304a88df216d ]] : <<import>>*\r\n",
       "E3 ..>> E4 [[psysml:3b6c166c-6961-4bb7-b892-e5bb88ba66d9 ]] : <<depend>>\r\n",
       "E4 ..>> E5 [[psysml:f4ae8342-4685-4b6d-8549-04188d07c1c2 ]] : <<depend>>\r\n",
       "E8 ..>> E6 [[psysml:dd0e7371-702f-42f4-9a28-a8ea46c1187a ]] : <<depend>>\r\n",
       "E8 ..>> E7 [[psysml:dd0e7371-702f-42f4-9a28-a8ea46c1187a ]] : <<depend>>\r\n",
       "@enduml\r\n",
       "\n",
       "PlantUML version 1.2020.13(Sat Jun 13 12:26:38 UTC 2020)\n",
       "(EPL source distribution)\n",
       "Java Runtime: OpenJDK Runtime Environment\n",
       "JVM: OpenJDK 64-Bit Server VM\n",
       "Default Encoding: UTF-8\n",
       "Language: en\n",
       "Country: null\n",
       "--></g></svg>"
      ]
     },
     "execution_count": 26,
     "metadata": {},
     "output_type": "execute_result"
    }
   ],
   "source": [
    "%viz --style=\"STDCOLOR\" --view=\"Interconnection\" \"DependencyTest\""
   ]
  },
  {
   "cell_type": "code",
   "execution_count": 27,
   "id": "0b2abecf",
   "metadata": {
    "execution": {
     "iopub.execute_input": "2022-03-03T09:55:00.103225Z",
     "iopub.status.busy": "2022-03-03T09:55:00.102501Z",
     "iopub.status.idle": "2022-03-03T09:55:00.107352Z",
     "shell.execute_reply": "2022-03-03T09:55:00.106947Z"
    }
   },
   "outputs": [
    {
     "data": {
      "image/svg+xml": [
       "<?xml version=\"1.0\" encoding=\"UTF-8\" standalone=\"no\"?><svg xmlns=\"http://www.w3.org/2000/svg\" xmlns:xlink=\"http://www.w3.org/1999/xlink\" contentScriptType=\"application/ecmascript\" contentStyleType=\"text/css\" height=\"12px\" preserveAspectRatio=\"none\" style=\"width:12px;height:12px;\" version=\"1.1\" viewBox=\"0 0 12 12\" width=\"12px\" zoomAndPan=\"magnify\"><defs/><g><!--MD5=[9863325348a96a77dacc89509d8ee65e]\n",
       "@startuml\r\n",
       "skinparam ranksep 8\r\n",
       "skinparam wrapWidth 300\r\n",
       "hide circle\r\n",
       "\r\n",
       "@enduml\r\n",
       "\n",
       "PlantUML version 1.2020.13(Sat Jun 13 12:26:38 UTC 2020)\n",
       "(EPL source distribution)\n",
       "Java Runtime: OpenJDK Runtime Environment\n",
       "JVM: OpenJDK 64-Bit Server VM\n",
       "Default Encoding: UTF-8\n",
       "Language: en\n",
       "Country: null\n",
       "--></g></svg>"
      ]
     },
     "execution_count": 27,
     "metadata": {},
     "output_type": "execute_result"
    }
   ],
   "source": [
    "%viz --style=\"STDCOLOR\" --view=\"Action\" \"DependencyTest\""
   ]
  },
  {
   "cell_type": "code",
   "execution_count": 28,
   "id": "b02b125f",
   "metadata": {
    "execution": {
     "iopub.execute_input": "2022-03-03T09:55:00.157109Z",
     "iopub.status.busy": "2022-03-03T09:55:00.156671Z",
     "iopub.status.idle": "2022-03-03T09:55:00.161189Z",
     "shell.execute_reply": "2022-03-03T09:55:00.161506Z"
    }
   },
   "outputs": [
    {
     "data": {
      "image/svg+xml": [
       "<?xml version=\"1.0\" encoding=\"UTF-8\" standalone=\"no\"?><svg xmlns=\"http://www.w3.org/2000/svg\" xmlns:xlink=\"http://www.w3.org/1999/xlink\" contentScriptType=\"application/ecmascript\" contentStyleType=\"text/css\" height=\"12px\" preserveAspectRatio=\"none\" style=\"width:12px;height:12px;\" version=\"1.1\" viewBox=\"0 0 12 12\" width=\"12px\" zoomAndPan=\"magnify\"><defs/><g><!--MD5=[6c4bca67b4d71758159a5a7f1f1e1fc2]\n",
       "@startuml\r\n",
       "skinparam roundcorner 20\r\n",
       "skinparam BoxPadding 20\r\n",
       "skinparam SequenceBoxBackgroundColor #white\r\n",
       "skinparam style strictuml\r\n",
       "skinparam maxMessageSize 100\r\n",
       "skinparam wrapWidth 300\r\n",
       "hide circle\r\n",
       "\r\n",
       "@enduml\r\n",
       "\n",
       "PlantUML version 1.2020.13(Sat Jun 13 12:26:38 UTC 2020)\n",
       "(EPL source distribution)\n",
       "Java Runtime: OpenJDK Runtime Environment\n",
       "JVM: OpenJDK 64-Bit Server VM\n",
       "Default Encoding: UTF-8\n",
       "Language: en\n",
       "Country: null\n",
       "--></g></svg>"
      ]
     },
     "execution_count": 28,
     "metadata": {},
     "output_type": "execute_result"
    }
   ],
   "source": [
    "%viz --style=\"STDCOLOR\" --view=\"Sequence\" \"DependencyTest\""
   ]
  },
  {
   "cell_type": "code",
   "execution_count": 29,
   "id": "d2fedfd2",
   "metadata": {
    "execution": {
     "iopub.execute_input": "2022-03-03T09:55:00.211702Z",
     "iopub.status.busy": "2022-03-03T09:55:00.211224Z",
     "iopub.status.idle": "2022-03-03T09:55:00.248286Z",
     "shell.execute_reply": "2022-03-03T09:55:00.246131Z"
    }
   },
   "outputs": [
    {
     "data": {
      "image/svg+xml": [
       "<?xml version=\"1.0\" encoding=\"UTF-8\" standalone=\"no\"?><svg xmlns=\"http://www.w3.org/2000/svg\" xmlns:xlink=\"http://www.w3.org/1999/xlink\" contentScriptType=\"application/ecmascript\" contentStyleType=\"text/css\" height=\"552px\" preserveAspectRatio=\"none\" style=\"width:536px;height:552px;\" version=\"1.1\" viewBox=\"0 0 536 552\" width=\"536px\" zoomAndPan=\"magnify\"><defs><filter height=\"300%\" id=\"filuphbw4n2bn\" width=\"300%\" x=\"-1\" y=\"-1\"><feGaussianBlur result=\"blurOut\" stdDeviation=\"2.0\"/><feColorMatrix in=\"blurOut\" result=\"blurOut2\" type=\"matrix\" values=\"0 0 0 0 0 0 0 0 0 0 0 0 0 0 0 0 0 0 .4 0\"/><feOffset dx=\"4.0\" dy=\"4.0\" in=\"blurOut2\" result=\"blurOut3\"/><feBlend in=\"SourceGraphic\" in2=\"blurOut3\" mode=\"normal\"/></filter></defs><g><!--MD5=[fbc87193dbaf4d95561dea2c320d4a47]\n",
       "cluster E1--><a href=\"psysml:49f03030-de0c-4f13-ba7b-914972c61aaf\" target=\"_top\" title=\"psysml:49f03030-de0c-4f13-ba7b-914972c61aaf\" xlink:actuate=\"onRequest\" xlink:href=\"psysml:49f03030-de0c-4f13-ba7b-914972c61aaf\" xlink:show=\"new\" xlink:title=\"psysml:49f03030-de0c-4f13-ba7b-914972c61aaf\" xlink:type=\"simple\"><polygon fill=\"#FFFFFF\" filter=\"url(#filuphbw4n2bn)\" points=\"16,6,142,6,149,28.2969,514,28.2969,514,540.72,16,540.72,16,6\" style=\"stroke: #000000; stroke-width: 1.5;\"/><line style=\"stroke: #000000; stroke-width: 1.5;\" x1=\"16\" x2=\"149\" y1=\"28.2969\" y2=\"28.2969\"/><text fill=\"#000000\" font-family=\"sans-serif\" font-size=\"14\" font-weight=\"bold\" lengthAdjust=\"spacingAndGlyphs\" textLength=\"120\" x=\"20\" y=\"20.9951\">DependencyTest</text></a><!--MD5=[e4f7fae6ed58524ba242bb0b0d3be6b7]\n",
       "cluster E2--><a href=\"psysml:0a123ebf-9907-4602-8f86-a30c7447a6cf\" target=\"_top\" title=\"psysml:0a123ebf-9907-4602-8f86-a30c7447a6cf\" xlink:actuate=\"onRequest\" xlink:href=\"psysml:0a123ebf-9907-4602-8f86-a30c7447a6cf\" xlink:show=\"new\" xlink:title=\"psysml:0a123ebf-9907-4602-8f86-a30c7447a6cf\" xlink:type=\"simple\"><polygon fill=\"#FFFFFF\" filter=\"url(#filuphbw4n2bn)\" points=\"271,120.72,328,120.72,335,143.0169,474,143.0169,474,500.72,271,500.72,271,120.72\" style=\"stroke: #000000; stroke-width: 1.5;\"/><line style=\"stroke: #000000; stroke-width: 1.5;\" x1=\"271\" x2=\"335\" y1=\"143.0169\" y2=\"143.0169\"/><text fill=\"#000000\" font-family=\"sans-serif\" font-size=\"14\" font-weight=\"bold\" lengthAdjust=\"spacingAndGlyphs\" textLength=\"51\" x=\"275\" y=\"135.7151\">System</text></a><!--MD5=[60a26617385b1d2d0262a64233df1f8d]\n",
       "class E6--><a href=\"psysml:0783b658-08bf-4abf-9182-ba1ece255f80\" target=\"_top\" title=\"psysml:0783b658-08bf-4abf-9182-ba1ece255f80\" xlink:actuate=\"onRequest\" xlink:href=\"psysml:0783b658-08bf-4abf-9182-ba1ece255f80\" xlink:show=\"new\" xlink:title=\"psysml:0783b658-08bf-4abf-9182-ba1ece255f80\" xlink:type=\"simple\"><rect fill=\"#FEFECE\" filter=\"url(#filuphbw4n2bn)\" height=\"45.9375\" id=\"E6\" rx=\"10\" ry=\"10\" style=\"stroke: #A80036; stroke-width: 1.5;\" width=\"71\" x=\"40.5\" y=\"297.22\"/><text fill=\"#000000\" font-family=\"sans-serif\" font-size=\"12\" font-style=\"italic\" lengthAdjust=\"spacingAndGlyphs\" textLength=\"69\" x=\"41.5\" y=\"313.3587\">«attribute»</text><text fill=\"#000000\" font-family=\"sans-serif\" font-size=\"12\" lengthAdjust=\"spacingAndGlyphs\" textLength=\"6\" x=\"71\" y=\"327.3274\">x</text><line style=\"stroke: #A80036; stroke-width: 1.5;\" x1=\"41.5\" x2=\"110.5\" y1=\"335.1575\" y2=\"335.1575\"/></a><!--MD5=[2156ba9850f5573cc1fc38a6a4b2f02b]\n",
       "class E7--><a href=\"psysml:00406d55-97a3-4ada-a9d4-67d88ef5929d\" target=\"_top\" title=\"psysml:00406d55-97a3-4ada-a9d4-67d88ef5929d\" xlink:actuate=\"onRequest\" xlink:href=\"psysml:00406d55-97a3-4ada-a9d4-67d88ef5929d\" xlink:show=\"new\" xlink:title=\"psysml:00406d55-97a3-4ada-a9d4-67d88ef5929d\" xlink:type=\"simple\"><rect fill=\"#FEFECE\" filter=\"url(#filuphbw4n2bn)\" height=\"45.9375\" id=\"E7\" rx=\"10\" ry=\"10\" style=\"stroke: #A80036; stroke-width: 1.5;\" width=\"71\" x=\"146.5\" y=\"297.22\"/><text fill=\"#000000\" font-family=\"sans-serif\" font-size=\"12\" font-style=\"italic\" lengthAdjust=\"spacingAndGlyphs\" textLength=\"69\" x=\"147.5\" y=\"313.3587\">«attribute»</text><text fill=\"#000000\" font-family=\"sans-serif\" font-size=\"12\" lengthAdjust=\"spacingAndGlyphs\" textLength=\"6\" x=\"177\" y=\"327.3274\">y</text><line style=\"stroke: #A80036; stroke-width: 1.5;\" x1=\"147.5\" x2=\"216.5\" y1=\"335.1575\" y2=\"335.1575\"/></a><!--MD5=[b9389687b975829384b498ac4b7476b2]\n",
       "class E8--><a href=\"psysml:b610c4be-7598-4a50-a285-e23e2912f41a\" target=\"_top\" title=\"psysml:b610c4be-7598-4a50-a285-e23e2912f41a\" xlink:actuate=\"onRequest\" xlink:href=\"psysml:b610c4be-7598-4a50-a285-e23e2912f41a\" xlink:show=\"new\" xlink:title=\"psysml:b610c4be-7598-4a50-a285-e23e2912f41a\" xlink:type=\"simple\"><rect fill=\"#FEFECE\" filter=\"url(#filuphbw4n2bn)\" height=\"45.9375\" id=\"E8\" rx=\"10\" ry=\"10\" style=\"stroke: #A80036; stroke-width: 1.5;\" width=\"71\" x=\"92.5\" y=\"167.22\"/><text fill=\"#000000\" font-family=\"sans-serif\" font-size=\"12\" font-style=\"italic\" lengthAdjust=\"spacingAndGlyphs\" textLength=\"69\" x=\"93.5\" y=\"183.3587\">«attribute»</text><text fill=\"#000000\" font-family=\"sans-serif\" font-size=\"12\" lengthAdjust=\"spacingAndGlyphs\" textLength=\"5\" x=\"123.5\" y=\"197.3274\">z</text><line style=\"stroke: #A80036; stroke-width: 1.5;\" x1=\"93.5\" x2=\"162.5\" y1=\"205.1575\" y2=\"205.1575\"/></a><a href=\"psysml:fbc620fa-f332-480d-9302-6e81c218d767\" target=\"_top\" title=\"psysml:fbc620fa-f332-480d-9302-6e81c218d767\" xlink:actuate=\"onRequest\" xlink:href=\"psysml:fbc620fa-f332-480d-9302-6e81c218d767\" xlink:show=\"new\" xlink:title=\"psysml:fbc620fa-f332-480d-9302-6e81c218d767\" xlink:type=\"simple\"><polygon fill=\"#FFFFFF\" filter=\"url(#filuphbw4n2bn)\" points=\"314.5,163.72,435.5,163.72,442.5,186.0169,449.5,186.0169,449.5,216.3138,314.5,216.3138,314.5,163.72\" style=\"stroke: #000000; stroke-width: 1.5;\"/><line style=\"stroke: #000000; stroke-width: 1.5;\" x1=\"314.5\" x2=\"442.5\" y1=\"186.0169\" y2=\"186.0169\"/><text fill=\"#000000\" font-family=\"sans-serif\" font-size=\"14\" font-weight=\"bold\" lengthAdjust=\"spacingAndGlyphs\" textLength=\"115\" x=\"318.5\" y=\"178.7151\">Application Layer</text></a><a href=\"psysml:426f0663-f125-4848-8cc6-b208ee541f23\" target=\"_top\" title=\"psysml:426f0663-f125-4848-8cc6-b208ee541f23\" xlink:actuate=\"onRequest\" xlink:href=\"psysml:426f0663-f125-4848-8cc6-b208ee541f23\" xlink:show=\"new\" xlink:title=\"psysml:426f0663-f125-4848-8cc6-b208ee541f23\" xlink:type=\"simple\"><polygon fill=\"#FFFFFF\" filter=\"url(#filuphbw4n2bn)\" points=\"327,293.72,423,293.72,430,316.0169,437,316.0169,437,346.3138,327,346.3138,327,293.72\" style=\"stroke: #000000; stroke-width: 1.5;\"/><line style=\"stroke: #000000; stroke-width: 1.5;\" x1=\"327\" x2=\"430\" y1=\"316.0169\" y2=\"316.0169\"/><text fill=\"#000000\" font-family=\"sans-serif\" font-size=\"14\" font-weight=\"bold\" lengthAdjust=\"spacingAndGlyphs\" textLength=\"90\" x=\"331\" y=\"308.7151\">Service Layer</text></a><a href=\"psysml:fd3440a5-7307-47c9-b63e-e029b0e76f05\" target=\"_top\" title=\"psysml:fd3440a5-7307-47c9-b63e-e029b0e76f05\" xlink:actuate=\"onRequest\" xlink:href=\"psysml:fd3440a5-7307-47c9-b63e-e029b0e76f05\" xlink:show=\"new\" xlink:title=\"psysml:fd3440a5-7307-47c9-b63e-e029b0e76f05\" xlink:type=\"simple\"><polygon fill=\"#FFFFFF\" filter=\"url(#filuphbw4n2bn)\" points=\"336,423.72,414,423.72,421,446.0169,428,446.0169,428,476.3138,336,476.3138,336,423.72\" style=\"stroke: #000000; stroke-width: 1.5;\"/><line style=\"stroke: #000000; stroke-width: 1.5;\" x1=\"336\" x2=\"421\" y1=\"446.0169\" y2=\"446.0169\"/><text fill=\"#000000\" font-family=\"sans-serif\" font-size=\"14\" font-weight=\"bold\" lengthAdjust=\"spacingAndGlyphs\" textLength=\"72\" x=\"340\" y=\"438.7151\">Data Layer</text></a><!--MD5=[1f1cd8e6dd4c1b2ca2aaccc9b9bcea6e]\n",
       "link E1 to E2--><a href=\"psysml:1f214475-93e7-4d57-afd6-304a88df216d\" target=\"_top\" title=\"psysml:1f214475-93e7-4d57-afd6-304a88df216d\" xlink:actuate=\"onRequest\" xlink:href=\"psysml:1f214475-93e7-4d57-afd6-304a88df216d\" xlink:show=\"new\" xlink:title=\"psysml:1f214475-93e7-4d57-afd6-304a88df216d\" xlink:type=\"simple\"><path d=\"M279,33.83 C279,36.15 279,73.83 279,111.5 C279,113.8544 279,116.2087 279,118.5544 C279,119.1408 279,119.7267 279,120.3119 \" fill=\"none\" id=\"E1-&gt;E2\" style=\"stroke: #A80036; stroke-width: 1.0; stroke-dasharray: 7.0,7.0;\"/><polygon fill=\"#A80036\" points=\"279,120.3119,283,111.3119,279,115.3119,275,111.3119,279,120.3119\" style=\"stroke: #A80036; stroke-width: 1.0;\"/><text fill=\"#000000\" font-family=\"sans-serif\" font-size=\"13\" lengthAdjust=\"spacingAndGlyphs\" textLength=\"65\" x=\"280\" y=\"76.7869\">«import»*</text></a><!--MD5=[af87c684e3b0d8be13c1a698a818ef1e]\n",
       "link E3 to E4--><a href=\"psysml:3b6c166c-6961-4bb7-b892-e5bb88ba66d9\" target=\"_top\" title=\"psysml:3b6c166c-6961-4bb7-b892-e5bb88ba66d9\" xlink:actuate=\"onRequest\" xlink:href=\"psysml:3b6c166c-6961-4bb7-b892-e5bb88ba66d9\" xlink:show=\"new\" xlink:title=\"psysml:3b6c166c-6961-4bb7-b892-e5bb88ba66d9\" xlink:type=\"simple\"><path d=\"M382,216.82 C382,236.52 382,263.94 382,285.45 \" fill=\"none\" id=\"E3-&gt;E4\" style=\"stroke: #A80036; stroke-width: 1.0; stroke-dasharray: 7.0,7.0;\"/><polygon fill=\"#A80036\" points=\"382,293.67,385,285.67,379,285.67,382,293.67\" style=\"stroke: #A80036; stroke-width: 1.0;\"/><text fill=\"#000000\" font-family=\"sans-serif\" font-size=\"13\" lengthAdjust=\"spacingAndGlyphs\" textLength=\"64\" x=\"383\" y=\"259.7869\">«depend»</text></a><!--MD5=[1b7591eae5389033d8d09a9d6721a717]\n",
       "link E4 to E5--><a href=\"psysml:f4ae8342-4685-4b6d-8549-04188d07c1c2\" target=\"_top\" title=\"psysml:f4ae8342-4685-4b6d-8549-04188d07c1c2\" xlink:actuate=\"onRequest\" xlink:href=\"psysml:f4ae8342-4685-4b6d-8549-04188d07c1c2\" xlink:show=\"new\" xlink:title=\"psysml:f4ae8342-4685-4b6d-8549-04188d07c1c2\" xlink:type=\"simple\"><path d=\"M382,346.82 C382,366.52 382,393.94 382,415.45 \" fill=\"none\" id=\"E4-&gt;E5\" style=\"stroke: #A80036; stroke-width: 1.0; stroke-dasharray: 7.0,7.0;\"/><polygon fill=\"#A80036\" points=\"382,423.67,385,415.67,379,415.67,382,423.67\" style=\"stroke: #A80036; stroke-width: 1.0;\"/><text fill=\"#000000\" font-family=\"sans-serif\" font-size=\"13\" lengthAdjust=\"spacingAndGlyphs\" textLength=\"64\" x=\"383\" y=\"389.7869\">«depend»</text></a><!--MD5=[c5e8897d989ce984f93528998a7150fe]\n",
       "link E8 to E6--><a href=\"psysml:dd0e7371-702f-42f4-9a28-a8ea46c1187a\" target=\"_top\" title=\"psysml:dd0e7371-702f-42f4-9a28-a8ea46c1187a\" xlink:actuate=\"onRequest\" xlink:href=\"psysml:dd0e7371-702f-42f4-9a28-a8ea46c1187a\" xlink:show=\"new\" xlink:title=\"psysml:dd0e7371-702f-42f4-9a28-a8ea46c1187a\" xlink:type=\"simple\"><path d=\"M97.42,213.32 C87.35,222.4 77.37,233.83 72,246.72 C66.5,259.92 66.66,275.66 68.54,289.1 \" fill=\"none\" id=\"E8-&gt;E6\" style=\"stroke: #A80036; stroke-width: 1.0; stroke-dasharray: 7.0,7.0;\"/><polygon fill=\"#A80036\" points=\"69.9,297.12,71.517,288.7304,65.6018,289.7359,69.9,297.12\" style=\"stroke: #A80036; stroke-width: 1.0;\"/><text fill=\"#000000\" font-family=\"sans-serif\" font-size=\"13\" lengthAdjust=\"spacingAndGlyphs\" textLength=\"64\" x=\"73\" y=\"259.7869\">«depend»</text></a><!--MD5=[bfa3c8b0d15052fdf50ae9310b491027]\n",
       "link E8 to E7--><a href=\"psysml:dd0e7371-702f-42f4-9a28-a8ea46c1187a\" target=\"_top\" title=\"psysml:dd0e7371-702f-42f4-9a28-a8ea46c1187a\" xlink:actuate=\"onRequest\" xlink:href=\"psysml:dd0e7371-702f-42f4-9a28-a8ea46c1187a\" xlink:show=\"new\" xlink:title=\"psysml:dd0e7371-702f-42f4-9a28-a8ea46c1187a\" xlink:type=\"simple\"><path d=\"M137.28,213.22 C146.17,234.29 159.64,266.22 169.47,289.53 \" fill=\"none\" id=\"E8-&gt;E7\" style=\"stroke: #A80036; stroke-width: 1.0; stroke-dasharray: 7.0,7.0;\"/><polygon fill=\"#A80036\" points=\"172.66,297.07,172.3241,288.5326,166.7933,290.8585,172.66,297.07\" style=\"stroke: #A80036; stroke-width: 1.0;\"/><text fill=\"#000000\" font-family=\"sans-serif\" font-size=\"13\" lengthAdjust=\"spacingAndGlyphs\" textLength=\"64\" x=\"159\" y=\"259.7869\">«depend»</text></a><!--MD5=[0ccbebba45b2f7dd22568cb53d016f83]\n",
       "@startuml\r\n",
       "skinparam wrapWidth 300\r\n",
       "hide circle\r\n",
       "\r\n",
       "package \"DependencyTest\" as E1  [[psysml:49f03030-de0c-4f13-ba7b-914972c61aaf ]]  {\r\n",
       "package \"System\" as E2  [[psysml:0a123ebf-9907-4602-8f86-a30c7447a6cf ]]  {\r\n",
       "package \"Application Layer\" as E3  [[psysml:fbc620fa-f332-480d-9302-6e81c218d767 ]]  {\r\n",
       "}\r\n",
       "package \"Service Layer\" as E4  [[psysml:426f0663-f125-4848-8cc6-b208ee541f23 ]]  {\r\n",
       "}\r\n",
       "package \"Data Layer\" as E5  [[psysml:fd3440a5-7307-47c9-b63e-e029b0e76f05 ]]  {\r\n",
       "}\r\n",
       "}\r\n",
       "comp usage \"x \" as E6  <<(T,blue) attribute>> [[psysml:0783b658-08bf-4abf-9182-ba1ece255f80 ]] {\r\n",
       "}\r\n",
       "comp usage \"y \" as E7  <<(T,blue) attribute>> [[psysml:00406d55-97a3-4ada-a9d4-67d88ef5929d ]] {\r\n",
       "}\r\n",
       "comp usage \"z \" as E8  <<(T,blue) attribute>> [[psysml:b610c4be-7598-4a50-a285-e23e2912f41a ]] {\r\n",
       "}\r\n",
       "}\r\n",
       "E1 ..> E2 [[psysml:1f214475-93e7-4d57-afd6-304a88df216d ]] : <<import>>*\r\n",
       "E3 ..>> E4 [[psysml:3b6c166c-6961-4bb7-b892-e5bb88ba66d9 ]] : <<depend>>\r\n",
       "E4 ..>> E5 [[psysml:f4ae8342-4685-4b6d-8549-04188d07c1c2 ]] : <<depend>>\r\n",
       "E8 ..>> E6 [[psysml:dd0e7371-702f-42f4-9a28-a8ea46c1187a ]] : <<depend>>\r\n",
       "E8 ..>> E7 [[psysml:dd0e7371-702f-42f4-9a28-a8ea46c1187a ]] : <<depend>>\r\n",
       "@enduml\r\n",
       "\n",
       "PlantUML version 1.2020.13(Sat Jun 13 12:26:38 UTC 2020)\n",
       "(EPL source distribution)\n",
       "Java Runtime: OpenJDK Runtime Environment\n",
       "JVM: OpenJDK 64-Bit Server VM\n",
       "Default Encoding: UTF-8\n",
       "Language: en\n",
       "Country: null\n",
       "--></g></svg>"
      ]
     },
     "execution_count": 29,
     "metadata": {},
     "output_type": "execute_result"
    }
   ],
   "source": [
    "%viz --style=\"STDCOLOR\" --view=\"MIXED\" \"DependencyTest\""
   ]
  },
  {
   "cell_type": "code",
   "execution_count": 30,
   "id": "96110a9b",
   "metadata": {
    "execution": {
     "iopub.execute_input": "2022-03-03T09:55:00.297156Z",
     "iopub.status.busy": "2022-03-03T09:55:00.296699Z",
     "iopub.status.idle": "2022-03-03T09:55:00.356506Z",
     "shell.execute_reply": "2022-03-03T09:55:00.356129Z"
    }
   },
   "outputs": [
    {
     "data": {
      "image/svg+xml": [
       "<?xml version=\"1.0\" encoding=\"UTF-8\" standalone=\"no\"?><svg xmlns=\"http://www.w3.org/2000/svg\" xmlns:xlink=\"http://www.w3.org/1999/xlink\" contentScriptType=\"application/ecmascript\" contentStyleType=\"text/css\" height=\"552px\" preserveAspectRatio=\"none\" style=\"width:557px;height:552px;\" version=\"1.1\" viewBox=\"0 0 557 552\" width=\"557px\" zoomAndPan=\"magnify\"><defs><filter height=\"300%\" id=\"f11qwwk6dir0o7\" width=\"300%\" x=\"-1\" y=\"-1\"><feGaussianBlur result=\"blurOut\" stdDeviation=\"2.0\"/><feColorMatrix in=\"blurOut\" result=\"blurOut2\" type=\"matrix\" values=\"0 0 0 0 0 0 0 0 0 0 0 0 0 0 0 0 0 0 .4 0\"/><feOffset dx=\"4.0\" dy=\"4.0\" in=\"blurOut2\" result=\"blurOut3\"/><feBlend in=\"SourceGraphic\" in2=\"blurOut3\" mode=\"normal\"/></filter></defs><g><!--MD5=[fbc87193dbaf4d95561dea2c320d4a47]\n",
       "cluster E1--><a href=\"psysml:49f03030-de0c-4f13-ba7b-914972c61aaf\" target=\"_top\" title=\"psysml:49f03030-de0c-4f13-ba7b-914972c61aaf\" xlink:actuate=\"onRequest\" xlink:href=\"psysml:49f03030-de0c-4f13-ba7b-914972c61aaf\" xlink:show=\"new\" xlink:title=\"psysml:49f03030-de0c-4f13-ba7b-914972c61aaf\" xlink:type=\"simple\"><polygon fill=\"#FFFFFF\" filter=\"url(#f11qwwk6dir0o7)\" points=\"16,6,142,6,149,28.2969,535,28.2969,535,540.72,16,540.72,16,6\" style=\"stroke: #000000; stroke-width: 1.5;\"/><line style=\"stroke: #000000; stroke-width: 1.5;\" x1=\"16\" x2=\"149\" y1=\"28.2969\" y2=\"28.2969\"/><text fill=\"#000000\" font-family=\"sans-serif\" font-size=\"14\" font-weight=\"bold\" lengthAdjust=\"spacingAndGlyphs\" textLength=\"120\" x=\"20\" y=\"20.9951\">DependencyTest</text></a><!--MD5=[e4f7fae6ed58524ba242bb0b0d3be6b7]\n",
       "cluster E2--><a href=\"psysml:0a123ebf-9907-4602-8f86-a30c7447a6cf\" target=\"_top\" title=\"psysml:0a123ebf-9907-4602-8f86-a30c7447a6cf\" xlink:actuate=\"onRequest\" xlink:href=\"psysml:0a123ebf-9907-4602-8f86-a30c7447a6cf\" xlink:show=\"new\" xlink:title=\"psysml:0a123ebf-9907-4602-8f86-a30c7447a6cf\" xlink:type=\"simple\"><polygon fill=\"#FFFFFF\" filter=\"url(#f11qwwk6dir0o7)\" points=\"292,120.72,349,120.72,356,143.0169,495,143.0169,495,500.72,292,500.72,292,120.72\" style=\"stroke: #000000; stroke-width: 1.5;\"/><line style=\"stroke: #000000; stroke-width: 1.5;\" x1=\"292\" x2=\"356\" y1=\"143.0169\" y2=\"143.0169\"/><text fill=\"#000000\" font-family=\"sans-serif\" font-size=\"14\" font-weight=\"bold\" lengthAdjust=\"spacingAndGlyphs\" textLength=\"51\" x=\"296\" y=\"135.7151\">System</text></a><!--MD5=[60a26617385b1d2d0262a64233df1f8d]\n",
       "class E6--><a href=\"psysml:0783b658-08bf-4abf-9182-ba1ece255f80\" target=\"_top\" title=\"psysml:0783b658-08bf-4abf-9182-ba1ece255f80\" xlink:actuate=\"onRequest\" xlink:href=\"psysml:0783b658-08bf-4abf-9182-ba1ece255f80\" xlink:show=\"new\" xlink:title=\"psysml:0783b658-08bf-4abf-9182-ba1ece255f80\" xlink:type=\"simple\"><rect fill=\"#FEFECE\" filter=\"url(#f11qwwk6dir0o7)\" height=\"45.9375\" id=\"E6\" rx=\"10\" ry=\"10\" style=\"stroke: #A80036; stroke-width: 1.5;\" width=\"97\" x=\"39.5\" y=\"297.22\"/><ellipse cx=\"54.5\" cy=\"316.1888\" fill=\"#FFA500\" rx=\"11\" ry=\"11\" style=\"stroke: #A80036; stroke-width: 1.0;\"/><path d=\"M54.25,321.6575 Q52.5,321.6575 51.5469,320.6263 Q50.6094,319.5794 50.6094,317.7356 L50.6094,310.845 L52.6719,310.845 L52.6719,311.0013 Q52.5781,311.095 52.5469,311.2356 Q52.5313,311.3606 52.5313,311.6263 L52.5313,317.7513 Q52.5313,318.845 52.9063,319.47 Q53.2813,320.095 54.2656,320.095 Q55.25,320.095 55.6406,319.47 Q56.0313,318.845 56.0313,317.7044 L56.0313,310.845 L57.9063,310.845 L57.9063,317.6888 Q57.9063,319.72 56.875,320.6888 Q55.8594,321.6575 54.25,321.6575 Z \"/><text fill=\"#000000\" font-family=\"sans-serif\" font-size=\"12\" font-style=\"italic\" lengthAdjust=\"spacingAndGlyphs\" textLength=\"69\" x=\"66.5\" y=\"313.3587\">«attribute»</text><text fill=\"#000000\" font-family=\"sans-serif\" font-size=\"12\" lengthAdjust=\"spacingAndGlyphs\" textLength=\"6\" x=\"96\" y=\"327.3274\">x</text><line style=\"stroke: #A80036; stroke-width: 1.5;\" x1=\"40.5\" x2=\"135.5\" y1=\"335.1575\" y2=\"335.1575\"/></a><!--MD5=[2156ba9850f5573cc1fc38a6a4b2f02b]\n",
       "class E7--><a href=\"psysml:00406d55-97a3-4ada-a9d4-67d88ef5929d\" target=\"_top\" title=\"psysml:00406d55-97a3-4ada-a9d4-67d88ef5929d\" xlink:actuate=\"onRequest\" xlink:href=\"psysml:00406d55-97a3-4ada-a9d4-67d88ef5929d\" xlink:show=\"new\" xlink:title=\"psysml:00406d55-97a3-4ada-a9d4-67d88ef5929d\" xlink:type=\"simple\"><rect fill=\"#FEFECE\" filter=\"url(#f11qwwk6dir0o7)\" height=\"45.9375\" id=\"E7\" rx=\"10\" ry=\"10\" style=\"stroke: #A80036; stroke-width: 1.5;\" width=\"97\" x=\"171.5\" y=\"297.22\"/><ellipse cx=\"186.5\" cy=\"316.1888\" fill=\"#FFA500\" rx=\"11\" ry=\"11\" style=\"stroke: #A80036; stroke-width: 1.0;\"/><path d=\"M186.25,321.6575 Q184.5,321.6575 183.5469,320.6263 Q182.6094,319.5794 182.6094,317.7356 L182.6094,310.845 L184.6719,310.845 L184.6719,311.0013 Q184.5781,311.095 184.5469,311.2356 Q184.5313,311.3606 184.5313,311.6263 L184.5313,317.7513 Q184.5313,318.845 184.9063,319.47 Q185.2813,320.095 186.2656,320.095 Q187.25,320.095 187.6406,319.47 Q188.0313,318.845 188.0313,317.7044 L188.0313,310.845 L189.9063,310.845 L189.9063,317.6888 Q189.9063,319.72 188.875,320.6888 Q187.8594,321.6575 186.25,321.6575 Z \"/><text fill=\"#000000\" font-family=\"sans-serif\" font-size=\"12\" font-style=\"italic\" lengthAdjust=\"spacingAndGlyphs\" textLength=\"69\" x=\"198.5\" y=\"313.3587\">«attribute»</text><text fill=\"#000000\" font-family=\"sans-serif\" font-size=\"12\" lengthAdjust=\"spacingAndGlyphs\" textLength=\"6\" x=\"228\" y=\"327.3274\">y</text><line style=\"stroke: #A80036; stroke-width: 1.5;\" x1=\"172.5\" x2=\"267.5\" y1=\"335.1575\" y2=\"335.1575\"/></a><!--MD5=[b9389687b975829384b498ac4b7476b2]\n",
       "class E8--><a href=\"psysml:b610c4be-7598-4a50-a285-e23e2912f41a\" target=\"_top\" title=\"psysml:b610c4be-7598-4a50-a285-e23e2912f41a\" xlink:actuate=\"onRequest\" xlink:href=\"psysml:b610c4be-7598-4a50-a285-e23e2912f41a\" xlink:show=\"new\" xlink:title=\"psysml:b610c4be-7598-4a50-a285-e23e2912f41a\" xlink:type=\"simple\"><rect fill=\"#FEFECE\" filter=\"url(#f11qwwk6dir0o7)\" height=\"45.9375\" id=\"E8\" rx=\"10\" ry=\"10\" style=\"stroke: #A80036; stroke-width: 1.5;\" width=\"97\" x=\"92.5\" y=\"167.22\"/><ellipse cx=\"107.5\" cy=\"186.1888\" fill=\"#FFA500\" rx=\"11\" ry=\"11\" style=\"stroke: #A80036; stroke-width: 1.0;\"/><path d=\"M107.25,191.6575 Q105.5,191.6575 104.5469,190.6263 Q103.6094,189.5794 103.6094,187.7356 L103.6094,180.845 L105.6719,180.845 L105.6719,181.0013 Q105.5781,181.095 105.5469,181.2356 Q105.5313,181.3606 105.5313,181.6263 L105.5313,187.7513 Q105.5313,188.845 105.9063,189.47 Q106.2813,190.095 107.2656,190.095 Q108.25,190.095 108.6406,189.47 Q109.0313,188.845 109.0313,187.7044 L109.0313,180.845 L110.9063,180.845 L110.9063,187.6888 Q110.9063,189.72 109.875,190.6888 Q108.8594,191.6575 107.25,191.6575 Z \"/><text fill=\"#000000\" font-family=\"sans-serif\" font-size=\"12\" font-style=\"italic\" lengthAdjust=\"spacingAndGlyphs\" textLength=\"69\" x=\"119.5\" y=\"183.3587\">«attribute»</text><text fill=\"#000000\" font-family=\"sans-serif\" font-size=\"12\" lengthAdjust=\"spacingAndGlyphs\" textLength=\"5\" x=\"149.5\" y=\"197.3274\">z</text><line style=\"stroke: #A80036; stroke-width: 1.5;\" x1=\"93.5\" x2=\"188.5\" y1=\"205.1575\" y2=\"205.1575\"/></a><a href=\"psysml:fbc620fa-f332-480d-9302-6e81c218d767\" target=\"_top\" title=\"psysml:fbc620fa-f332-480d-9302-6e81c218d767\" xlink:actuate=\"onRequest\" xlink:href=\"psysml:fbc620fa-f332-480d-9302-6e81c218d767\" xlink:show=\"new\" xlink:title=\"psysml:fbc620fa-f332-480d-9302-6e81c218d767\" xlink:type=\"simple\"><polygon fill=\"#FFFFFF\" filter=\"url(#f11qwwk6dir0o7)\" points=\"335.5,163.72,456.5,163.72,463.5,186.0169,470.5,186.0169,470.5,216.3138,335.5,216.3138,335.5,163.72\" style=\"stroke: #000000; stroke-width: 1.5;\"/><line style=\"stroke: #000000; stroke-width: 1.5;\" x1=\"335.5\" x2=\"463.5\" y1=\"186.0169\" y2=\"186.0169\"/><text fill=\"#000000\" font-family=\"sans-serif\" font-size=\"14\" font-weight=\"bold\" lengthAdjust=\"spacingAndGlyphs\" textLength=\"115\" x=\"339.5\" y=\"178.7151\">Application Layer</text></a><a href=\"psysml:426f0663-f125-4848-8cc6-b208ee541f23\" target=\"_top\" title=\"psysml:426f0663-f125-4848-8cc6-b208ee541f23\" xlink:actuate=\"onRequest\" xlink:href=\"psysml:426f0663-f125-4848-8cc6-b208ee541f23\" xlink:show=\"new\" xlink:title=\"psysml:426f0663-f125-4848-8cc6-b208ee541f23\" xlink:type=\"simple\"><polygon fill=\"#FFFFFF\" filter=\"url(#f11qwwk6dir0o7)\" points=\"348,293.72,444,293.72,451,316.0169,458,316.0169,458,346.3138,348,346.3138,348,293.72\" style=\"stroke: #000000; stroke-width: 1.5;\"/><line style=\"stroke: #000000; stroke-width: 1.5;\" x1=\"348\" x2=\"451\" y1=\"316.0169\" y2=\"316.0169\"/><text fill=\"#000000\" font-family=\"sans-serif\" font-size=\"14\" font-weight=\"bold\" lengthAdjust=\"spacingAndGlyphs\" textLength=\"90\" x=\"352\" y=\"308.7151\">Service Layer</text></a><a href=\"psysml:fd3440a5-7307-47c9-b63e-e029b0e76f05\" target=\"_top\" title=\"psysml:fd3440a5-7307-47c9-b63e-e029b0e76f05\" xlink:actuate=\"onRequest\" xlink:href=\"psysml:fd3440a5-7307-47c9-b63e-e029b0e76f05\" xlink:show=\"new\" xlink:title=\"psysml:fd3440a5-7307-47c9-b63e-e029b0e76f05\" xlink:type=\"simple\"><polygon fill=\"#FFFFFF\" filter=\"url(#f11qwwk6dir0o7)\" points=\"357,423.72,435,423.72,442,446.0169,449,446.0169,449,476.3138,357,476.3138,357,423.72\" style=\"stroke: #000000; stroke-width: 1.5;\"/><line style=\"stroke: #000000; stroke-width: 1.5;\" x1=\"357\" x2=\"442\" y1=\"446.0169\" y2=\"446.0169\"/><text fill=\"#000000\" font-family=\"sans-serif\" font-size=\"14\" font-weight=\"bold\" lengthAdjust=\"spacingAndGlyphs\" textLength=\"72\" x=\"361\" y=\"438.7151\">Data Layer</text></a><!--MD5=[1f1cd8e6dd4c1b2ca2aaccc9b9bcea6e]\n",
       "link E1 to E2--><a href=\"psysml:1f214475-93e7-4d57-afd6-304a88df216d\" target=\"_top\" title=\"psysml:1f214475-93e7-4d57-afd6-304a88df216d\" xlink:actuate=\"onRequest\" xlink:href=\"psysml:1f214475-93e7-4d57-afd6-304a88df216d\" xlink:show=\"new\" xlink:title=\"psysml:1f214475-93e7-4d57-afd6-304a88df216d\" xlink:type=\"simple\"><path d=\"M300,33.83 C300,36.15 300,73.83 300,111.5 C300,113.8544 300,116.2087 300,118.5544 C300,119.1408 300,119.7267 300,120.3119 \" fill=\"none\" id=\"E1-&gt;E2\" style=\"stroke: #A80036; stroke-width: 1.0; stroke-dasharray: 7.0,7.0;\"/><polygon fill=\"#A80036\" points=\"300,120.3119,304,111.3119,300,115.3119,296,111.3119,300,120.3119\" style=\"stroke: #A80036; stroke-width: 1.0;\"/><text fill=\"#000000\" font-family=\"sans-serif\" font-size=\"13\" lengthAdjust=\"spacingAndGlyphs\" textLength=\"65\" x=\"301\" y=\"76.7869\">«import»*</text></a><!--MD5=[af87c684e3b0d8be13c1a698a818ef1e]\n",
       "link E3 to E4--><a href=\"psysml:3b6c166c-6961-4bb7-b892-e5bb88ba66d9\" target=\"_top\" title=\"psysml:3b6c166c-6961-4bb7-b892-e5bb88ba66d9\" xlink:actuate=\"onRequest\" xlink:href=\"psysml:3b6c166c-6961-4bb7-b892-e5bb88ba66d9\" xlink:show=\"new\" xlink:title=\"psysml:3b6c166c-6961-4bb7-b892-e5bb88ba66d9\" xlink:type=\"simple\"><path d=\"M403,216.82 C403,236.52 403,263.94 403,285.45 \" fill=\"none\" id=\"E3-&gt;E4\" style=\"stroke: #A80036; stroke-width: 1.0; stroke-dasharray: 7.0,7.0;\"/><polygon fill=\"#A80036\" points=\"403,293.67,406,285.67,400,285.67,403,293.67\" style=\"stroke: #A80036; stroke-width: 1.0;\"/><text fill=\"#000000\" font-family=\"sans-serif\" font-size=\"13\" lengthAdjust=\"spacingAndGlyphs\" textLength=\"64\" x=\"404\" y=\"259.7869\">«depend»</text></a><!--MD5=[1b7591eae5389033d8d09a9d6721a717]\n",
       "link E4 to E5--><a href=\"psysml:f4ae8342-4685-4b6d-8549-04188d07c1c2\" target=\"_top\" title=\"psysml:f4ae8342-4685-4b6d-8549-04188d07c1c2\" xlink:actuate=\"onRequest\" xlink:href=\"psysml:f4ae8342-4685-4b6d-8549-04188d07c1c2\" xlink:show=\"new\" xlink:title=\"psysml:f4ae8342-4685-4b6d-8549-04188d07c1c2\" xlink:type=\"simple\"><path d=\"M403,346.82 C403,366.52 403,393.94 403,415.45 \" fill=\"none\" id=\"E4-&gt;E5\" style=\"stroke: #A80036; stroke-width: 1.0; stroke-dasharray: 7.0,7.0;\"/><polygon fill=\"#A80036\" points=\"403,423.67,406,415.67,400,415.67,403,423.67\" style=\"stroke: #A80036; stroke-width: 1.0;\"/><text fill=\"#000000\" font-family=\"sans-serif\" font-size=\"13\" lengthAdjust=\"spacingAndGlyphs\" textLength=\"64\" x=\"404\" y=\"389.7869\">«depend»</text></a><!--MD5=[c5e8897d989ce984f93528998a7150fe]\n",
       "link E8 to E6--><a href=\"psysml:dd0e7371-702f-42f4-9a28-a8ea46c1187a\" target=\"_top\" title=\"psysml:dd0e7371-702f-42f4-9a28-a8ea46c1187a\" xlink:actuate=\"onRequest\" xlink:href=\"psysml:dd0e7371-702f-42f4-9a28-a8ea46c1187a\" xlink:show=\"new\" xlink:title=\"psysml:dd0e7371-702f-42f4-9a28-a8ea46c1187a\" xlink:type=\"simple\"><path d=\"M114.44,213.48 C105.3,222.73 96.09,234.23 91,246.72 C85.6,259.95 84.4,275.7 84.73,289.13 \" fill=\"none\" id=\"E8-&gt;E6\" style=\"stroke: #A80036; stroke-width: 1.0; stroke-dasharray: 7.0,7.0;\"/><polygon fill=\"#A80036\" points=\"85.12,297.15,87.7306,289.0146,81.7375,289.304,85.12,297.15\" style=\"stroke: #A80036; stroke-width: 1.0;\"/><text fill=\"#000000\" font-family=\"sans-serif\" font-size=\"13\" lengthAdjust=\"spacingAndGlyphs\" textLength=\"64\" x=\"92\" y=\"259.7869\">«depend»</text></a><!--MD5=[bfa3c8b0d15052fdf50ae9310b491027]\n",
       "link E8 to E7--><a href=\"psysml:dd0e7371-702f-42f4-9a28-a8ea46c1187a\" target=\"_top\" title=\"psysml:dd0e7371-702f-42f4-9a28-a8ea46c1187a\" xlink:actuate=\"onRequest\" xlink:href=\"psysml:dd0e7371-702f-42f4-9a28-a8ea46c1187a\" xlink:show=\"new\" xlink:title=\"psysml:dd0e7371-702f-42f4-9a28-a8ea46c1187a\" xlink:type=\"simple\"><path d=\"M154.58,213.22 C167.69,234.47 187.63,266.77 202.05,290.13 \" fill=\"none\" id=\"E8-&gt;E7\" style=\"stroke: #A80036; stroke-width: 1.0; stroke-dasharray: 7.0,7.0;\"/><polygon fill=\"#A80036\" points=\"206.33,297.07,204.6785,288.6871,199.5737,291.8401,206.33,297.07\" style=\"stroke: #A80036; stroke-width: 1.0;\"/><text fill=\"#000000\" font-family=\"sans-serif\" font-size=\"13\" lengthAdjust=\"spacingAndGlyphs\" textLength=\"64\" x=\"186\" y=\"259.7869\">«depend»</text></a><!--MD5=[2c5059a66ecc58240d8a210a75686f70]\n",
       "@startuml\r\n",
       " \r\n",
       "package \"DependencyTest\" as E1  [[psysml:49f03030-de0c-4f13-ba7b-914972c61aaf ]]  {\r\n",
       "package \"System\" as E2  [[psysml:0a123ebf-9907-4602-8f86-a30c7447a6cf ]]  {\r\n",
       "package \"Application Layer\" as E3  [[psysml:fbc620fa-f332-480d-9302-6e81c218d767 ]]  {\r\n",
       "}\r\n",
       "package \"Service Layer\" as E4  [[psysml:426f0663-f125-4848-8cc6-b208ee541f23 ]]  {\r\n",
       "}\r\n",
       "package \"Data Layer\" as E5  [[psysml:fd3440a5-7307-47c9-b63e-e029b0e76f05 ]]  {\r\n",
       "}\r\n",
       "}\r\n",
       "comp usage \"x \" as E6 << <<(U,orange) attribute>> [[psysml:0783b658-08bf-4abf-9182-ba1ece255f80 ]] {\r\n",
       "}\r\n",
       "comp usage \"y \" as E7 << <<(U,orange) attribute>> [[psysml:00406d55-97a3-4ada-a9d4-67d88ef5929d ]] {\r\n",
       "}\r\n",
       "comp usage \"z \" as E8 << <<(U,orange) attribute>> [[psysml:b610c4be-7598-4a50-a285-e23e2912f41a ]] {\r\n",
       "}\r\n",
       "}\r\n",
       "E1 ..> E2 [[psysml:1f214475-93e7-4d57-afd6-304a88df216d ]] : <<import>>*\r\n",
       "E3 ..>> E4 [[psysml:3b6c166c-6961-4bb7-b892-e5bb88ba66d9 ]] : <<depend>>\r\n",
       "E4 ..>> E5 [[psysml:f4ae8342-4685-4b6d-8549-04188d07c1c2 ]] : <<depend>>\r\n",
       "E8 ..>> E6 [[psysml:dd0e7371-702f-42f4-9a28-a8ea46c1187a ]] : <<depend>>\r\n",
       "E8 ..>> E7 [[psysml:dd0e7371-702f-42f4-9a28-a8ea46c1187a ]] : <<depend>>\r\n",
       "@enduml\r\n",
       "\n",
       "PlantUML version 1.2020.13(Sat Jun 13 12:26:38 UTC 2020)\n",
       "(EPL source distribution)\n",
       "Java Runtime: OpenJDK Runtime Environment\n",
       "JVM: OpenJDK 64-Bit Server VM\n",
       "Default Encoding: UTF-8\n",
       "Language: en\n",
       "Country: null\n",
       "--></g></svg>"
      ]
     },
     "execution_count": 30,
     "metadata": {},
     "output_type": "execute_result"
    }
   ],
   "source": [
    "%viz --style=\"PLANTUML\" --view=\"Default\" \"DependencyTest\""
   ]
  },
  {
   "cell_type": "code",
   "execution_count": 31,
   "id": "4bc40176",
   "metadata": {
    "execution": {
     "iopub.execute_input": "2022-03-03T09:55:00.405861Z",
     "iopub.status.busy": "2022-03-03T09:55:00.405444Z",
     "iopub.status.idle": "2022-03-03T09:55:00.445780Z",
     "shell.execute_reply": "2022-03-03T09:55:00.445363Z"
    }
   },
   "outputs": [
    {
     "data": {
      "image/svg+xml": [
       "<?xml version=\"1.0\" encoding=\"UTF-8\" standalone=\"no\"?><svg xmlns=\"http://www.w3.org/2000/svg\" xmlns:xlink=\"http://www.w3.org/1999/xlink\" contentScriptType=\"application/ecmascript\" contentStyleType=\"text/css\" height=\"552px\" preserveAspectRatio=\"none\" style=\"width:557px;height:552px;\" version=\"1.1\" viewBox=\"0 0 557 552\" width=\"557px\" zoomAndPan=\"magnify\"><defs><filter height=\"300%\" id=\"f11qwwk6dir0o7\" width=\"300%\" x=\"-1\" y=\"-1\"><feGaussianBlur result=\"blurOut\" stdDeviation=\"2.0\"/><feColorMatrix in=\"blurOut\" result=\"blurOut2\" type=\"matrix\" values=\"0 0 0 0 0 0 0 0 0 0 0 0 0 0 0 0 0 0 .4 0\"/><feOffset dx=\"4.0\" dy=\"4.0\" in=\"blurOut2\" result=\"blurOut3\"/><feBlend in=\"SourceGraphic\" in2=\"blurOut3\" mode=\"normal\"/></filter></defs><g><!--MD5=[fbc87193dbaf4d95561dea2c320d4a47]\n",
       "cluster E1--><a href=\"psysml:49f03030-de0c-4f13-ba7b-914972c61aaf\" target=\"_top\" title=\"psysml:49f03030-de0c-4f13-ba7b-914972c61aaf\" xlink:actuate=\"onRequest\" xlink:href=\"psysml:49f03030-de0c-4f13-ba7b-914972c61aaf\" xlink:show=\"new\" xlink:title=\"psysml:49f03030-de0c-4f13-ba7b-914972c61aaf\" xlink:type=\"simple\"><polygon fill=\"#FFFFFF\" filter=\"url(#f11qwwk6dir0o7)\" points=\"16,6,142,6,149,28.2969,535,28.2969,535,540.72,16,540.72,16,6\" style=\"stroke: #000000; stroke-width: 1.5;\"/><line style=\"stroke: #000000; stroke-width: 1.5;\" x1=\"16\" x2=\"149\" y1=\"28.2969\" y2=\"28.2969\"/><text fill=\"#000000\" font-family=\"sans-serif\" font-size=\"14\" font-weight=\"bold\" lengthAdjust=\"spacingAndGlyphs\" textLength=\"120\" x=\"20\" y=\"20.9951\">DependencyTest</text></a><!--MD5=[e4f7fae6ed58524ba242bb0b0d3be6b7]\n",
       "cluster E2--><a href=\"psysml:0a123ebf-9907-4602-8f86-a30c7447a6cf\" target=\"_top\" title=\"psysml:0a123ebf-9907-4602-8f86-a30c7447a6cf\" xlink:actuate=\"onRequest\" xlink:href=\"psysml:0a123ebf-9907-4602-8f86-a30c7447a6cf\" xlink:show=\"new\" xlink:title=\"psysml:0a123ebf-9907-4602-8f86-a30c7447a6cf\" xlink:type=\"simple\"><polygon fill=\"#FFFFFF\" filter=\"url(#f11qwwk6dir0o7)\" points=\"292,120.72,349,120.72,356,143.0169,495,143.0169,495,500.72,292,500.72,292,120.72\" style=\"stroke: #000000; stroke-width: 1.5;\"/><line style=\"stroke: #000000; stroke-width: 1.5;\" x1=\"292\" x2=\"356\" y1=\"143.0169\" y2=\"143.0169\"/><text fill=\"#000000\" font-family=\"sans-serif\" font-size=\"14\" font-weight=\"bold\" lengthAdjust=\"spacingAndGlyphs\" textLength=\"51\" x=\"296\" y=\"135.7151\">System</text></a><!--MD5=[60a26617385b1d2d0262a64233df1f8d]\n",
       "class E6--><a href=\"psysml:0783b658-08bf-4abf-9182-ba1ece255f80\" target=\"_top\" title=\"psysml:0783b658-08bf-4abf-9182-ba1ece255f80\" xlink:actuate=\"onRequest\" xlink:href=\"psysml:0783b658-08bf-4abf-9182-ba1ece255f80\" xlink:show=\"new\" xlink:title=\"psysml:0783b658-08bf-4abf-9182-ba1ece255f80\" xlink:type=\"simple\"><rect fill=\"#FEFECE\" filter=\"url(#f11qwwk6dir0o7)\" height=\"45.9375\" id=\"E6\" rx=\"10\" ry=\"10\" style=\"stroke: #A80036; stroke-width: 1.5;\" width=\"97\" x=\"39.5\" y=\"297.22\"/><ellipse cx=\"54.5\" cy=\"316.1888\" fill=\"#FFA500\" rx=\"11\" ry=\"11\" style=\"stroke: #A80036; stroke-width: 1.0;\"/><path d=\"M54.25,321.6575 Q52.5,321.6575 51.5469,320.6263 Q50.6094,319.5794 50.6094,317.7356 L50.6094,310.845 L52.6719,310.845 L52.6719,311.0013 Q52.5781,311.095 52.5469,311.2356 Q52.5313,311.3606 52.5313,311.6263 L52.5313,317.7513 Q52.5313,318.845 52.9063,319.47 Q53.2813,320.095 54.2656,320.095 Q55.25,320.095 55.6406,319.47 Q56.0313,318.845 56.0313,317.7044 L56.0313,310.845 L57.9063,310.845 L57.9063,317.6888 Q57.9063,319.72 56.875,320.6888 Q55.8594,321.6575 54.25,321.6575 Z \"/><text fill=\"#000000\" font-family=\"sans-serif\" font-size=\"12\" font-style=\"italic\" lengthAdjust=\"spacingAndGlyphs\" textLength=\"69\" x=\"66.5\" y=\"313.3587\">«attribute»</text><text fill=\"#000000\" font-family=\"sans-serif\" font-size=\"12\" lengthAdjust=\"spacingAndGlyphs\" textLength=\"6\" x=\"96\" y=\"327.3274\">x</text><line style=\"stroke: #A80036; stroke-width: 1.5;\" x1=\"40.5\" x2=\"135.5\" y1=\"335.1575\" y2=\"335.1575\"/></a><!--MD5=[2156ba9850f5573cc1fc38a6a4b2f02b]\n",
       "class E7--><a href=\"psysml:00406d55-97a3-4ada-a9d4-67d88ef5929d\" target=\"_top\" title=\"psysml:00406d55-97a3-4ada-a9d4-67d88ef5929d\" xlink:actuate=\"onRequest\" xlink:href=\"psysml:00406d55-97a3-4ada-a9d4-67d88ef5929d\" xlink:show=\"new\" xlink:title=\"psysml:00406d55-97a3-4ada-a9d4-67d88ef5929d\" xlink:type=\"simple\"><rect fill=\"#FEFECE\" filter=\"url(#f11qwwk6dir0o7)\" height=\"45.9375\" id=\"E7\" rx=\"10\" ry=\"10\" style=\"stroke: #A80036; stroke-width: 1.5;\" width=\"97\" x=\"171.5\" y=\"297.22\"/><ellipse cx=\"186.5\" cy=\"316.1888\" fill=\"#FFA500\" rx=\"11\" ry=\"11\" style=\"stroke: #A80036; stroke-width: 1.0;\"/><path d=\"M186.25,321.6575 Q184.5,321.6575 183.5469,320.6263 Q182.6094,319.5794 182.6094,317.7356 L182.6094,310.845 L184.6719,310.845 L184.6719,311.0013 Q184.5781,311.095 184.5469,311.2356 Q184.5313,311.3606 184.5313,311.6263 L184.5313,317.7513 Q184.5313,318.845 184.9063,319.47 Q185.2813,320.095 186.2656,320.095 Q187.25,320.095 187.6406,319.47 Q188.0313,318.845 188.0313,317.7044 L188.0313,310.845 L189.9063,310.845 L189.9063,317.6888 Q189.9063,319.72 188.875,320.6888 Q187.8594,321.6575 186.25,321.6575 Z \"/><text fill=\"#000000\" font-family=\"sans-serif\" font-size=\"12\" font-style=\"italic\" lengthAdjust=\"spacingAndGlyphs\" textLength=\"69\" x=\"198.5\" y=\"313.3587\">«attribute»</text><text fill=\"#000000\" font-family=\"sans-serif\" font-size=\"12\" lengthAdjust=\"spacingAndGlyphs\" textLength=\"6\" x=\"228\" y=\"327.3274\">y</text><line style=\"stroke: #A80036; stroke-width: 1.5;\" x1=\"172.5\" x2=\"267.5\" y1=\"335.1575\" y2=\"335.1575\"/></a><!--MD5=[b9389687b975829384b498ac4b7476b2]\n",
       "class E8--><a href=\"psysml:b610c4be-7598-4a50-a285-e23e2912f41a\" target=\"_top\" title=\"psysml:b610c4be-7598-4a50-a285-e23e2912f41a\" xlink:actuate=\"onRequest\" xlink:href=\"psysml:b610c4be-7598-4a50-a285-e23e2912f41a\" xlink:show=\"new\" xlink:title=\"psysml:b610c4be-7598-4a50-a285-e23e2912f41a\" xlink:type=\"simple\"><rect fill=\"#FEFECE\" filter=\"url(#f11qwwk6dir0o7)\" height=\"45.9375\" id=\"E8\" rx=\"10\" ry=\"10\" style=\"stroke: #A80036; stroke-width: 1.5;\" width=\"97\" x=\"92.5\" y=\"167.22\"/><ellipse cx=\"107.5\" cy=\"186.1888\" fill=\"#FFA500\" rx=\"11\" ry=\"11\" style=\"stroke: #A80036; stroke-width: 1.0;\"/><path d=\"M107.25,191.6575 Q105.5,191.6575 104.5469,190.6263 Q103.6094,189.5794 103.6094,187.7356 L103.6094,180.845 L105.6719,180.845 L105.6719,181.0013 Q105.5781,181.095 105.5469,181.2356 Q105.5313,181.3606 105.5313,181.6263 L105.5313,187.7513 Q105.5313,188.845 105.9063,189.47 Q106.2813,190.095 107.2656,190.095 Q108.25,190.095 108.6406,189.47 Q109.0313,188.845 109.0313,187.7044 L109.0313,180.845 L110.9063,180.845 L110.9063,187.6888 Q110.9063,189.72 109.875,190.6888 Q108.8594,191.6575 107.25,191.6575 Z \"/><text fill=\"#000000\" font-family=\"sans-serif\" font-size=\"12\" font-style=\"italic\" lengthAdjust=\"spacingAndGlyphs\" textLength=\"69\" x=\"119.5\" y=\"183.3587\">«attribute»</text><text fill=\"#000000\" font-family=\"sans-serif\" font-size=\"12\" lengthAdjust=\"spacingAndGlyphs\" textLength=\"5\" x=\"149.5\" y=\"197.3274\">z</text><line style=\"stroke: #A80036; stroke-width: 1.5;\" x1=\"93.5\" x2=\"188.5\" y1=\"205.1575\" y2=\"205.1575\"/></a><a href=\"psysml:fbc620fa-f332-480d-9302-6e81c218d767\" target=\"_top\" title=\"psysml:fbc620fa-f332-480d-9302-6e81c218d767\" xlink:actuate=\"onRequest\" xlink:href=\"psysml:fbc620fa-f332-480d-9302-6e81c218d767\" xlink:show=\"new\" xlink:title=\"psysml:fbc620fa-f332-480d-9302-6e81c218d767\" xlink:type=\"simple\"><polygon fill=\"#FFFFFF\" filter=\"url(#f11qwwk6dir0o7)\" points=\"335.5,163.72,456.5,163.72,463.5,186.0169,470.5,186.0169,470.5,216.3138,335.5,216.3138,335.5,163.72\" style=\"stroke: #000000; stroke-width: 1.5;\"/><line style=\"stroke: #000000; stroke-width: 1.5;\" x1=\"335.5\" x2=\"463.5\" y1=\"186.0169\" y2=\"186.0169\"/><text fill=\"#000000\" font-family=\"sans-serif\" font-size=\"14\" font-weight=\"bold\" lengthAdjust=\"spacingAndGlyphs\" textLength=\"115\" x=\"339.5\" y=\"178.7151\">Application Layer</text></a><a href=\"psysml:426f0663-f125-4848-8cc6-b208ee541f23\" target=\"_top\" title=\"psysml:426f0663-f125-4848-8cc6-b208ee541f23\" xlink:actuate=\"onRequest\" xlink:href=\"psysml:426f0663-f125-4848-8cc6-b208ee541f23\" xlink:show=\"new\" xlink:title=\"psysml:426f0663-f125-4848-8cc6-b208ee541f23\" xlink:type=\"simple\"><polygon fill=\"#FFFFFF\" filter=\"url(#f11qwwk6dir0o7)\" points=\"348,293.72,444,293.72,451,316.0169,458,316.0169,458,346.3138,348,346.3138,348,293.72\" style=\"stroke: #000000; stroke-width: 1.5;\"/><line style=\"stroke: #000000; stroke-width: 1.5;\" x1=\"348\" x2=\"451\" y1=\"316.0169\" y2=\"316.0169\"/><text fill=\"#000000\" font-family=\"sans-serif\" font-size=\"14\" font-weight=\"bold\" lengthAdjust=\"spacingAndGlyphs\" textLength=\"90\" x=\"352\" y=\"308.7151\">Service Layer</text></a><a href=\"psysml:fd3440a5-7307-47c9-b63e-e029b0e76f05\" target=\"_top\" title=\"psysml:fd3440a5-7307-47c9-b63e-e029b0e76f05\" xlink:actuate=\"onRequest\" xlink:href=\"psysml:fd3440a5-7307-47c9-b63e-e029b0e76f05\" xlink:show=\"new\" xlink:title=\"psysml:fd3440a5-7307-47c9-b63e-e029b0e76f05\" xlink:type=\"simple\"><polygon fill=\"#FFFFFF\" filter=\"url(#f11qwwk6dir0o7)\" points=\"357,423.72,435,423.72,442,446.0169,449,446.0169,449,476.3138,357,476.3138,357,423.72\" style=\"stroke: #000000; stroke-width: 1.5;\"/><line style=\"stroke: #000000; stroke-width: 1.5;\" x1=\"357\" x2=\"442\" y1=\"446.0169\" y2=\"446.0169\"/><text fill=\"#000000\" font-family=\"sans-serif\" font-size=\"14\" font-weight=\"bold\" lengthAdjust=\"spacingAndGlyphs\" textLength=\"72\" x=\"361\" y=\"438.7151\">Data Layer</text></a><!--MD5=[1f1cd8e6dd4c1b2ca2aaccc9b9bcea6e]\n",
       "link E1 to E2--><a href=\"psysml:1f214475-93e7-4d57-afd6-304a88df216d\" target=\"_top\" title=\"psysml:1f214475-93e7-4d57-afd6-304a88df216d\" xlink:actuate=\"onRequest\" xlink:href=\"psysml:1f214475-93e7-4d57-afd6-304a88df216d\" xlink:show=\"new\" xlink:title=\"psysml:1f214475-93e7-4d57-afd6-304a88df216d\" xlink:type=\"simple\"><path d=\"M300,33.83 C300,36.15 300,73.83 300,111.5 C300,113.8544 300,116.2087 300,118.5544 C300,119.1408 300,119.7267 300,120.3119 \" fill=\"none\" id=\"E1-&gt;E2\" style=\"stroke: #A80036; stroke-width: 1.0; stroke-dasharray: 7.0,7.0;\"/><polygon fill=\"#A80036\" points=\"300,120.3119,304,111.3119,300,115.3119,296,111.3119,300,120.3119\" style=\"stroke: #A80036; stroke-width: 1.0;\"/><text fill=\"#000000\" font-family=\"sans-serif\" font-size=\"13\" lengthAdjust=\"spacingAndGlyphs\" textLength=\"65\" x=\"301\" y=\"76.7869\">«import»*</text></a><!--MD5=[af87c684e3b0d8be13c1a698a818ef1e]\n",
       "link E3 to E4--><a href=\"psysml:3b6c166c-6961-4bb7-b892-e5bb88ba66d9\" target=\"_top\" title=\"psysml:3b6c166c-6961-4bb7-b892-e5bb88ba66d9\" xlink:actuate=\"onRequest\" xlink:href=\"psysml:3b6c166c-6961-4bb7-b892-e5bb88ba66d9\" xlink:show=\"new\" xlink:title=\"psysml:3b6c166c-6961-4bb7-b892-e5bb88ba66d9\" xlink:type=\"simple\"><path d=\"M403,216.82 C403,236.52 403,263.94 403,285.45 \" fill=\"none\" id=\"E3-&gt;E4\" style=\"stroke: #A80036; stroke-width: 1.0; stroke-dasharray: 7.0,7.0;\"/><polygon fill=\"#A80036\" points=\"403,293.67,406,285.67,400,285.67,403,293.67\" style=\"stroke: #A80036; stroke-width: 1.0;\"/><text fill=\"#000000\" font-family=\"sans-serif\" font-size=\"13\" lengthAdjust=\"spacingAndGlyphs\" textLength=\"64\" x=\"404\" y=\"259.7869\">«depend»</text></a><!--MD5=[1b7591eae5389033d8d09a9d6721a717]\n",
       "link E4 to E5--><a href=\"psysml:f4ae8342-4685-4b6d-8549-04188d07c1c2\" target=\"_top\" title=\"psysml:f4ae8342-4685-4b6d-8549-04188d07c1c2\" xlink:actuate=\"onRequest\" xlink:href=\"psysml:f4ae8342-4685-4b6d-8549-04188d07c1c2\" xlink:show=\"new\" xlink:title=\"psysml:f4ae8342-4685-4b6d-8549-04188d07c1c2\" xlink:type=\"simple\"><path d=\"M403,346.82 C403,366.52 403,393.94 403,415.45 \" fill=\"none\" id=\"E4-&gt;E5\" style=\"stroke: #A80036; stroke-width: 1.0; stroke-dasharray: 7.0,7.0;\"/><polygon fill=\"#A80036\" points=\"403,423.67,406,415.67,400,415.67,403,423.67\" style=\"stroke: #A80036; stroke-width: 1.0;\"/><text fill=\"#000000\" font-family=\"sans-serif\" font-size=\"13\" lengthAdjust=\"spacingAndGlyphs\" textLength=\"64\" x=\"404\" y=\"389.7869\">«depend»</text></a><!--MD5=[c5e8897d989ce984f93528998a7150fe]\n",
       "link E8 to E6--><a href=\"psysml:dd0e7371-702f-42f4-9a28-a8ea46c1187a\" target=\"_top\" title=\"psysml:dd0e7371-702f-42f4-9a28-a8ea46c1187a\" xlink:actuate=\"onRequest\" xlink:href=\"psysml:dd0e7371-702f-42f4-9a28-a8ea46c1187a\" xlink:show=\"new\" xlink:title=\"psysml:dd0e7371-702f-42f4-9a28-a8ea46c1187a\" xlink:type=\"simple\"><path d=\"M114.44,213.48 C105.3,222.73 96.09,234.23 91,246.72 C85.6,259.95 84.4,275.7 84.73,289.13 \" fill=\"none\" id=\"E8-&gt;E6\" style=\"stroke: #A80036; stroke-width: 1.0; stroke-dasharray: 7.0,7.0;\"/><polygon fill=\"#A80036\" points=\"85.12,297.15,87.7306,289.0146,81.7375,289.304,85.12,297.15\" style=\"stroke: #A80036; stroke-width: 1.0;\"/><text fill=\"#000000\" font-family=\"sans-serif\" font-size=\"13\" lengthAdjust=\"spacingAndGlyphs\" textLength=\"64\" x=\"92\" y=\"259.7869\">«depend»</text></a><!--MD5=[bfa3c8b0d15052fdf50ae9310b491027]\n",
       "link E8 to E7--><a href=\"psysml:dd0e7371-702f-42f4-9a28-a8ea46c1187a\" target=\"_top\" title=\"psysml:dd0e7371-702f-42f4-9a28-a8ea46c1187a\" xlink:actuate=\"onRequest\" xlink:href=\"psysml:dd0e7371-702f-42f4-9a28-a8ea46c1187a\" xlink:show=\"new\" xlink:title=\"psysml:dd0e7371-702f-42f4-9a28-a8ea46c1187a\" xlink:type=\"simple\"><path d=\"M154.58,213.22 C167.69,234.47 187.63,266.77 202.05,290.13 \" fill=\"none\" id=\"E8-&gt;E7\" style=\"stroke: #A80036; stroke-width: 1.0; stroke-dasharray: 7.0,7.0;\"/><polygon fill=\"#A80036\" points=\"206.33,297.07,204.6785,288.6871,199.5737,291.8401,206.33,297.07\" style=\"stroke: #A80036; stroke-width: 1.0;\"/><text fill=\"#000000\" font-family=\"sans-serif\" font-size=\"13\" lengthAdjust=\"spacingAndGlyphs\" textLength=\"64\" x=\"186\" y=\"259.7869\">«depend»</text></a><!--MD5=[2c5059a66ecc58240d8a210a75686f70]\n",
       "@startuml\r\n",
       " \r\n",
       "package \"DependencyTest\" as E1  [[psysml:49f03030-de0c-4f13-ba7b-914972c61aaf ]]  {\r\n",
       "package \"System\" as E2  [[psysml:0a123ebf-9907-4602-8f86-a30c7447a6cf ]]  {\r\n",
       "package \"Application Layer\" as E3  [[psysml:fbc620fa-f332-480d-9302-6e81c218d767 ]]  {\r\n",
       "}\r\n",
       "package \"Service Layer\" as E4  [[psysml:426f0663-f125-4848-8cc6-b208ee541f23 ]]  {\r\n",
       "}\r\n",
       "package \"Data Layer\" as E5  [[psysml:fd3440a5-7307-47c9-b63e-e029b0e76f05 ]]  {\r\n",
       "}\r\n",
       "}\r\n",
       "comp usage \"x \" as E6 << <<(U,orange) attribute>> [[psysml:0783b658-08bf-4abf-9182-ba1ece255f80 ]] {\r\n",
       "}\r\n",
       "comp usage \"y \" as E7 << <<(U,orange) attribute>> [[psysml:00406d55-97a3-4ada-a9d4-67d88ef5929d ]] {\r\n",
       "}\r\n",
       "comp usage \"z \" as E8 << <<(U,orange) attribute>> [[psysml:b610c4be-7598-4a50-a285-e23e2912f41a ]] {\r\n",
       "}\r\n",
       "}\r\n",
       "E1 ..> E2 [[psysml:1f214475-93e7-4d57-afd6-304a88df216d ]] : <<import>>*\r\n",
       "E3 ..>> E4 [[psysml:3b6c166c-6961-4bb7-b892-e5bb88ba66d9 ]] : <<depend>>\r\n",
       "E4 ..>> E5 [[psysml:f4ae8342-4685-4b6d-8549-04188d07c1c2 ]] : <<depend>>\r\n",
       "E8 ..>> E6 [[psysml:dd0e7371-702f-42f4-9a28-a8ea46c1187a ]] : <<depend>>\r\n",
       "E8 ..>> E7 [[psysml:dd0e7371-702f-42f4-9a28-a8ea46c1187a ]] : <<depend>>\r\n",
       "@enduml\r\n",
       "\n",
       "PlantUML version 1.2020.13(Sat Jun 13 12:26:38 UTC 2020)\n",
       "(EPL source distribution)\n",
       "Java Runtime: OpenJDK Runtime Environment\n",
       "JVM: OpenJDK 64-Bit Server VM\n",
       "Default Encoding: UTF-8\n",
       "Language: en\n",
       "Country: null\n",
       "--></g></svg>"
      ]
     },
     "execution_count": 31,
     "metadata": {},
     "output_type": "execute_result"
    }
   ],
   "source": [
    "%viz --style=\"PLANTUML\" --view=\"Tree\" \"DependencyTest\""
   ]
  },
  {
   "cell_type": "code",
   "execution_count": 32,
   "id": "24271f85",
   "metadata": {
    "execution": {
     "iopub.execute_input": "2022-03-03T09:55:00.495249Z",
     "iopub.status.busy": "2022-03-03T09:55:00.494725Z",
     "iopub.status.idle": "2022-03-03T09:55:00.630109Z",
     "shell.execute_reply": "2022-03-03T09:55:00.628029Z"
    }
   },
   "outputs": [
    {
     "data": {
      "image/svg+xml": [
       "<?xml version=\"1.0\" encoding=\"UTF-8\" standalone=\"no\"?><svg xmlns=\"http://www.w3.org/2000/svg\" xmlns:xlink=\"http://www.w3.org/1999/xlink\" contentScriptType=\"application/ecmascript\" contentStyleType=\"text/css\" height=\"407px\" preserveAspectRatio=\"none\" style=\"width:603px;height:407px;background:#000000;\" version=\"1.1\" viewBox=\"0 0 603 407\" width=\"603px\" zoomAndPan=\"magnify\"><defs/><g><rect fill=\"#250506\" height=\"1\" style=\"stroke: #250506; stroke-width: 1.0;\" width=\"1\" x=\"0\" y=\"0\"/><rect fill=\"#FFFFFF\" height=\"53\" style=\"stroke: #FFFFFF; stroke-width: 1.0;\" width=\"602\" x=\"0\" y=\"0\"/><image height=\"53\" width=\"450\" x=\"1\" xlink:href=\"data:image/png;base64,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\" y=\"1\"/><rect fill=\"#FFFFFF\" height=\"202.8012\" style=\"stroke: #FFFFFF; stroke-width: 1.0;\" width=\"602\" x=\"0\" y=\"53\"/><text fill=\"#000000\" font-family=\"sans-serif\" font-size=\"12\" font-weight=\"bold\" lengthAdjust=\"spacingAndGlyphs\" textLength=\"139\" x=\"5\" y=\"69.1387\">Welcome to PlantUML!</text><text fill=\"#000000\" font-family=\"sans-serif\" font-size=\"12\" lengthAdjust=\"spacingAndGlyphs\" textLength=\"0\" x=\"9\" y=\"83.1074\"/><text fill=\"#000000\" font-family=\"sans-serif\" font-size=\"12\" lengthAdjust=\"spacingAndGlyphs\" textLength=\"293\" x=\"5\" y=\"97.0762\">If you use this software, you accept its license.</text><text fill=\"#000000\" font-family=\"sans-serif\" font-size=\"12\" lengthAdjust=\"spacingAndGlyphs\" textLength=\"107\" x=\"5\" y=\"111.0449\">(details by typing</text><text fill=\"#000000\" font-family=\"monospace\" font-size=\"12\" lengthAdjust=\"spacingAndGlyphs\" textLength=\"42\" x=\"116\" y=\"111.595\">license</text><text fill=\"#000000\" font-family=\"sans-serif\" font-size=\"12\" lengthAdjust=\"spacingAndGlyphs\" textLength=\"56\" x=\"162\" y=\"111.0449\">keyword)</text><text fill=\"#000000\" font-family=\"sans-serif\" font-size=\"12\" lengthAdjust=\"spacingAndGlyphs\" textLength=\"0\" x=\"9\" y=\"125.0137\"/><text fill=\"#000000\" font-family=\"sans-serif\" font-size=\"12\" lengthAdjust=\"spacingAndGlyphs\" textLength=\"283\" x=\"5\" y=\"138.9824\">You can start with a simple UML Diagram like:</text><text fill=\"#000000\" font-family=\"sans-serif\" font-size=\"12\" lengthAdjust=\"spacingAndGlyphs\" textLength=\"0\" x=\"9\" y=\"152.9512\"/><text fill=\"#000000\" font-family=\"monospace\" font-size=\"12\" lengthAdjust=\"spacingAndGlyphs\" textLength=\"102\" x=\"5\" y=\"166.0893\">Bob-&gt;Alice: Hello</text><text fill=\"#000000\" font-family=\"sans-serif\" font-size=\"12\" lengthAdjust=\"spacingAndGlyphs\" textLength=\"0\" x=\"9\" y=\"179.508\"/><text fill=\"#000000\" font-family=\"sans-serif\" font-size=\"12\" lengthAdjust=\"spacingAndGlyphs\" textLength=\"14\" x=\"5\" y=\"193.4768\">Or</text><text fill=\"#000000\" font-family=\"sans-serif\" font-size=\"12\" lengthAdjust=\"spacingAndGlyphs\" textLength=\"0\" x=\"9\" y=\"207.4455\"/><text fill=\"#000000\" font-family=\"monospace\" font-size=\"12\" lengthAdjust=\"spacingAndGlyphs\" textLength=\"78\" x=\"5\" y=\"220.5837\">class Example</text><text fill=\"#000000\" font-family=\"sans-serif\" font-size=\"12\" lengthAdjust=\"spacingAndGlyphs\" textLength=\"0\" x=\"9\" y=\"234.0023\"/><text fill=\"#000000\" font-family=\"sans-serif\" font-size=\"12\" lengthAdjust=\"spacingAndGlyphs\" textLength=\"349\" x=\"5\" y=\"247.9711\">You will find more information about PlantUML syntax on</text><text fill=\"#000000\" font-family=\"sans-serif\" font-size=\"12\" lengthAdjust=\"spacingAndGlyphs\" text-decoration=\"underline\" textLength=\"129\" x=\"358\" y=\"247.9711\">https://plantuml.com</text><image height=\"71\" width=\"80\" x=\"516\" xlink:href=\"data:image/png;base64,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\" y=\"59\"/><rect fill=\"#000000\" height=\"96.4844\" style=\"stroke: #000000; stroke-width: 1.0;\" width=\"602\" x=\"0\" y=\"255.8012\"/><rect fill=\"#33FF02\" height=\"21.2969\" style=\"stroke: #33FF02; stroke-width: 1.0;\" width=\"145\" x=\"5\" y=\"260.8012\"/><text fill=\"#000000\" font-family=\"sans-serif\" font-size=\"14\" font-weight=\"bold\" lengthAdjust=\"spacingAndGlyphs\" textLength=\"143\" x=\"6\" y=\"275.8012\">[From string (line 2) ]</text><text fill=\"#33FF02\" font-family=\"sans-serif\" font-size=\"14\" font-weight=\"bold\" lengthAdjust=\"spacingAndGlyphs\" textLength=\"0\" x=\"9\" y=\"296.0981\"/><text fill=\"#33FF02\" font-family=\"sans-serif\" font-size=\"14\" font-weight=\"bold\" lengthAdjust=\"spacingAndGlyphs\" textLength=\"70\" x=\"5\" y=\"312.3949\">@startuml</text><text fill=\"#33FF02\" font-family=\"sans-serif\" font-size=\"14\" font-weight=\"bold\" lengthAdjust=\"spacingAndGlyphs\" textLength=\"0\" x=\"9\" y=\"328.6918\"/><text fill=\"#FF0000\" font-family=\"sans-serif\" font-size=\"14\" font-weight=\"bold\" lengthAdjust=\"spacingAndGlyphs\" textLength=\"124\" x=\"9\" y=\"344.9887\">Empty description</text><rect fill=\"#FFFFFF\" height=\"53\" style=\"stroke: #FFFFFF; stroke-width: 1.0;\" width=\"602\" x=\"0\" y=\"352.2856\"/><image height=\"53\" width=\"450\" x=\"1\" xlink:href=\"data:image/png;base64,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\" y=\"353.2856\"/><!--MD5=[f59edd8218d337f74d0c332fc6737304]\n",
       "@startuml\r\n",
       " \r\n",
       "@enduml\r\n",
       "\n",
       "PlantUML version 1.2020.13(Sat Jun 13 12:26:38 UTC 2020)\n",
       "(EPL source distribution)\n",
       "Java Runtime: OpenJDK Runtime Environment\n",
       "JVM: OpenJDK 64-Bit Server VM\n",
       "Default Encoding: UTF-8\n",
       "Language: en\n",
       "Country: null\n",
       "--></g></svg>"
      ]
     },
     "execution_count": 32,
     "metadata": {},
     "output_type": "execute_result"
    }
   ],
   "source": [
    "%viz --style=\"PLANTUML\" --view=\"State\" \"DependencyTest\""
   ]
  },
  {
   "cell_type": "code",
   "execution_count": 33,
   "id": "ce81f7ee",
   "metadata": {
    "execution": {
     "iopub.execute_input": "2022-03-03T09:55:00.678457Z",
     "iopub.status.busy": "2022-03-03T09:55:00.677983Z",
     "iopub.status.idle": "2022-03-03T09:55:00.708306Z",
     "shell.execute_reply": "2022-03-03T09:55:00.706923Z"
    }
   },
   "outputs": [
    {
     "data": {
      "image/svg+xml": [
       "<?xml version=\"1.0\" encoding=\"UTF-8\" standalone=\"no\"?><svg xmlns=\"http://www.w3.org/2000/svg\" xmlns:xlink=\"http://www.w3.org/1999/xlink\" contentScriptType=\"application/ecmascript\" contentStyleType=\"text/css\" height=\"442px\" preserveAspectRatio=\"none\" style=\"width:557px;height:442px;\" version=\"1.1\" viewBox=\"0 0 557 442\" width=\"557px\" zoomAndPan=\"magnify\"><defs><filter height=\"300%\" id=\"fbnkicu4098f8\" width=\"300%\" x=\"-1\" y=\"-1\"><feGaussianBlur result=\"blurOut\" stdDeviation=\"2.0\"/><feColorMatrix in=\"blurOut\" result=\"blurOut2\" type=\"matrix\" values=\"0 0 0 0 0 0 0 0 0 0 0 0 0 0 0 0 0 0 .4 0\"/><feOffset dx=\"4.0\" dy=\"4.0\" in=\"blurOut2\" result=\"blurOut3\"/><feBlend in=\"SourceGraphic\" in2=\"blurOut3\" mode=\"normal\"/></filter></defs><g><!--MD5=[fbc87193dbaf4d95561dea2c320d4a47]\n",
       "cluster E1--><a href=\"psysml:49f03030-de0c-4f13-ba7b-914972c61aaf\" target=\"_top\" title=\"psysml:49f03030-de0c-4f13-ba7b-914972c61aaf\" xlink:actuate=\"onRequest\" xlink:href=\"psysml:49f03030-de0c-4f13-ba7b-914972c61aaf\" xlink:show=\"new\" xlink:title=\"psysml:49f03030-de0c-4f13-ba7b-914972c61aaf\" xlink:type=\"simple\"><polygon fill=\"#FFFFFF\" filter=\"url(#fbnkicu4098f8)\" points=\"16,6,142,6,149,28.2969,535,28.2969,535,430.72,16,430.72,16,6\" style=\"stroke: #000000; stroke-width: 1.5;\"/><line style=\"stroke: #000000; stroke-width: 1.5;\" x1=\"16\" x2=\"149\" y1=\"28.2969\" y2=\"28.2969\"/><text fill=\"#000000\" font-family=\"sans-serif\" font-size=\"14\" font-weight=\"bold\" lengthAdjust=\"spacingAndGlyphs\" textLength=\"120\" x=\"20\" y=\"20.9951\">DependencyTest</text></a><!--MD5=[e4f7fae6ed58524ba242bb0b0d3be6b7]\n",
       "cluster E2--><a href=\"psysml:0a123ebf-9907-4602-8f86-a30c7447a6cf\" target=\"_top\" title=\"psysml:0a123ebf-9907-4602-8f86-a30c7447a6cf\" xlink:actuate=\"onRequest\" xlink:href=\"psysml:0a123ebf-9907-4602-8f86-a30c7447a6cf\" xlink:show=\"new\" xlink:title=\"psysml:0a123ebf-9907-4602-8f86-a30c7447a6cf\" xlink:type=\"simple\"><polygon fill=\"#FFFFFF\" filter=\"url(#fbnkicu4098f8)\" points=\"292,98.72,349,98.72,356,121.0169,495,121.0169,495,390.72,292,390.72,292,98.72\" style=\"stroke: #000000; stroke-width: 1.5;\"/><line style=\"stroke: #000000; stroke-width: 1.5;\" x1=\"292\" x2=\"356\" y1=\"121.0169\" y2=\"121.0169\"/><text fill=\"#000000\" font-family=\"sans-serif\" font-size=\"14\" font-weight=\"bold\" lengthAdjust=\"spacingAndGlyphs\" textLength=\"51\" x=\"296\" y=\"113.7151\">System</text></a><!--MD5=[60a26617385b1d2d0262a64233df1f8d]\n",
       "class E6--><a href=\"psysml:0783b658-08bf-4abf-9182-ba1ece255f80\" target=\"_top\" title=\"psysml:0783b658-08bf-4abf-9182-ba1ece255f80\" xlink:actuate=\"onRequest\" xlink:href=\"psysml:0783b658-08bf-4abf-9182-ba1ece255f80\" xlink:show=\"new\" xlink:title=\"psysml:0783b658-08bf-4abf-9182-ba1ece255f80\" xlink:type=\"simple\"><rect fill=\"#FEFECE\" filter=\"url(#fbnkicu4098f8)\" height=\"45.9375\" id=\"E6\" rx=\"10\" ry=\"10\" style=\"stroke: #A80036; stroke-width: 1.5;\" width=\"97\" x=\"39.5\" y=\"231.22\"/><ellipse cx=\"54.5\" cy=\"250.1888\" fill=\"#FFA500\" rx=\"11\" ry=\"11\" style=\"stroke: #A80036; stroke-width: 1.0;\"/><path d=\"M54.25,255.6575 Q52.5,255.6575 51.5469,254.6263 Q50.6094,253.5794 50.6094,251.7356 L50.6094,244.845 L52.6719,244.845 L52.6719,245.0013 Q52.5781,245.095 52.5469,245.2356 Q52.5313,245.3606 52.5313,245.6263 L52.5313,251.7513 Q52.5313,252.845 52.9063,253.47 Q53.2813,254.095 54.2656,254.095 Q55.25,254.095 55.6406,253.47 Q56.0313,252.845 56.0313,251.7044 L56.0313,244.845 L57.9063,244.845 L57.9063,251.6888 Q57.9063,253.72 56.875,254.6888 Q55.8594,255.6575 54.25,255.6575 Z \"/><text fill=\"#000000\" font-family=\"sans-serif\" font-size=\"12\" font-style=\"italic\" lengthAdjust=\"spacingAndGlyphs\" textLength=\"69\" x=\"66.5\" y=\"247.3587\">«attribute»</text><text fill=\"#000000\" font-family=\"sans-serif\" font-size=\"12\" lengthAdjust=\"spacingAndGlyphs\" textLength=\"6\" x=\"96\" y=\"261.3274\">x</text><line style=\"stroke: #A80036; stroke-width: 1.5;\" x1=\"40.5\" x2=\"135.5\" y1=\"269.1575\" y2=\"269.1575\"/></a><!--MD5=[2156ba9850f5573cc1fc38a6a4b2f02b]\n",
       "class E7--><a href=\"psysml:00406d55-97a3-4ada-a9d4-67d88ef5929d\" target=\"_top\" title=\"psysml:00406d55-97a3-4ada-a9d4-67d88ef5929d\" xlink:actuate=\"onRequest\" xlink:href=\"psysml:00406d55-97a3-4ada-a9d4-67d88ef5929d\" xlink:show=\"new\" xlink:title=\"psysml:00406d55-97a3-4ada-a9d4-67d88ef5929d\" xlink:type=\"simple\"><rect fill=\"#FEFECE\" filter=\"url(#fbnkicu4098f8)\" height=\"45.9375\" id=\"E7\" rx=\"10\" ry=\"10\" style=\"stroke: #A80036; stroke-width: 1.5;\" width=\"97\" x=\"171.5\" y=\"231.22\"/><ellipse cx=\"186.5\" cy=\"250.1888\" fill=\"#FFA500\" rx=\"11\" ry=\"11\" style=\"stroke: #A80036; stroke-width: 1.0;\"/><path d=\"M186.25,255.6575 Q184.5,255.6575 183.5469,254.6263 Q182.6094,253.5794 182.6094,251.7356 L182.6094,244.845 L184.6719,244.845 L184.6719,245.0013 Q184.5781,245.095 184.5469,245.2356 Q184.5313,245.3606 184.5313,245.6263 L184.5313,251.7513 Q184.5313,252.845 184.9063,253.47 Q185.2813,254.095 186.2656,254.095 Q187.25,254.095 187.6406,253.47 Q188.0313,252.845 188.0313,251.7044 L188.0313,244.845 L189.9063,244.845 L189.9063,251.6888 Q189.9063,253.72 188.875,254.6888 Q187.8594,255.6575 186.25,255.6575 Z \"/><text fill=\"#000000\" font-family=\"sans-serif\" font-size=\"12\" font-style=\"italic\" lengthAdjust=\"spacingAndGlyphs\" textLength=\"69\" x=\"198.5\" y=\"247.3587\">«attribute»</text><text fill=\"#000000\" font-family=\"sans-serif\" font-size=\"12\" lengthAdjust=\"spacingAndGlyphs\" textLength=\"6\" x=\"228\" y=\"261.3274\">y</text><line style=\"stroke: #A80036; stroke-width: 1.5;\" x1=\"172.5\" x2=\"267.5\" y1=\"269.1575\" y2=\"269.1575\"/></a><!--MD5=[b9389687b975829384b498ac4b7476b2]\n",
       "class E8--><a href=\"psysml:b610c4be-7598-4a50-a285-e23e2912f41a\" target=\"_top\" title=\"psysml:b610c4be-7598-4a50-a285-e23e2912f41a\" xlink:actuate=\"onRequest\" xlink:href=\"psysml:b610c4be-7598-4a50-a285-e23e2912f41a\" xlink:show=\"new\" xlink:title=\"psysml:b610c4be-7598-4a50-a285-e23e2912f41a\" xlink:type=\"simple\"><rect fill=\"#FEFECE\" filter=\"url(#fbnkicu4098f8)\" height=\"45.9375\" id=\"E8\" rx=\"10\" ry=\"10\" style=\"stroke: #A80036; stroke-width: 1.5;\" width=\"97\" x=\"92.5\" y=\"145.22\"/><ellipse cx=\"107.5\" cy=\"164.1888\" fill=\"#FFA500\" rx=\"11\" ry=\"11\" style=\"stroke: #A80036; stroke-width: 1.0;\"/><path d=\"M107.25,169.6575 Q105.5,169.6575 104.5469,168.6263 Q103.6094,167.5794 103.6094,165.7356 L103.6094,158.845 L105.6719,158.845 L105.6719,159.0013 Q105.5781,159.095 105.5469,159.2356 Q105.5313,159.3606 105.5313,159.6263 L105.5313,165.7513 Q105.5313,166.845 105.9063,167.47 Q106.2813,168.095 107.2656,168.095 Q108.25,168.095 108.6406,167.47 Q109.0313,166.845 109.0313,165.7044 L109.0313,158.845 L110.9063,158.845 L110.9063,165.6888 Q110.9063,167.72 109.875,168.6888 Q108.8594,169.6575 107.25,169.6575 Z \"/><text fill=\"#000000\" font-family=\"sans-serif\" font-size=\"12\" font-style=\"italic\" lengthAdjust=\"spacingAndGlyphs\" textLength=\"69\" x=\"119.5\" y=\"161.3587\">«attribute»</text><text fill=\"#000000\" font-family=\"sans-serif\" font-size=\"12\" lengthAdjust=\"spacingAndGlyphs\" textLength=\"5\" x=\"149.5\" y=\"175.3274\">z</text><line style=\"stroke: #A80036; stroke-width: 1.5;\" x1=\"93.5\" x2=\"188.5\" y1=\"183.1575\" y2=\"183.1575\"/></a><a href=\"psysml:fbc620fa-f332-480d-9302-6e81c218d767\" target=\"_top\" title=\"psysml:fbc620fa-f332-480d-9302-6e81c218d767\" xlink:actuate=\"onRequest\" xlink:href=\"psysml:fbc620fa-f332-480d-9302-6e81c218d767\" xlink:show=\"new\" xlink:title=\"psysml:fbc620fa-f332-480d-9302-6e81c218d767\" xlink:type=\"simple\"><polygon fill=\"#FFFFFF\" filter=\"url(#fbnkicu4098f8)\" points=\"335.5,141.72,456.5,141.72,463.5,164.0169,470.5,164.0169,470.5,194.3138,335.5,194.3138,335.5,141.72\" style=\"stroke: #000000; stroke-width: 1.5;\"/><line style=\"stroke: #000000; stroke-width: 1.5;\" x1=\"335.5\" x2=\"463.5\" y1=\"164.0169\" y2=\"164.0169\"/><text fill=\"#000000\" font-family=\"sans-serif\" font-size=\"14\" font-weight=\"bold\" lengthAdjust=\"spacingAndGlyphs\" textLength=\"115\" x=\"339.5\" y=\"156.7151\">Application Layer</text></a><a href=\"psysml:426f0663-f125-4848-8cc6-b208ee541f23\" target=\"_top\" title=\"psysml:426f0663-f125-4848-8cc6-b208ee541f23\" xlink:actuate=\"onRequest\" xlink:href=\"psysml:426f0663-f125-4848-8cc6-b208ee541f23\" xlink:show=\"new\" xlink:title=\"psysml:426f0663-f125-4848-8cc6-b208ee541f23\" xlink:type=\"simple\"><polygon fill=\"#FFFFFF\" filter=\"url(#fbnkicu4098f8)\" points=\"348,227.72,444,227.72,451,250.0169,458,250.0169,458,280.3138,348,280.3138,348,227.72\" style=\"stroke: #000000; stroke-width: 1.5;\"/><line style=\"stroke: #000000; stroke-width: 1.5;\" x1=\"348\" x2=\"451\" y1=\"250.0169\" y2=\"250.0169\"/><text fill=\"#000000\" font-family=\"sans-serif\" font-size=\"14\" font-weight=\"bold\" lengthAdjust=\"spacingAndGlyphs\" textLength=\"90\" x=\"352\" y=\"242.7151\">Service Layer</text></a><a href=\"psysml:fd3440a5-7307-47c9-b63e-e029b0e76f05\" target=\"_top\" title=\"psysml:fd3440a5-7307-47c9-b63e-e029b0e76f05\" xlink:actuate=\"onRequest\" xlink:href=\"psysml:fd3440a5-7307-47c9-b63e-e029b0e76f05\" xlink:show=\"new\" xlink:title=\"psysml:fd3440a5-7307-47c9-b63e-e029b0e76f05\" xlink:type=\"simple\"><polygon fill=\"#FFFFFF\" filter=\"url(#fbnkicu4098f8)\" points=\"357,313.72,435,313.72,442,336.0169,449,336.0169,449,366.3138,357,366.3138,357,313.72\" style=\"stroke: #000000; stroke-width: 1.5;\"/><line style=\"stroke: #000000; stroke-width: 1.5;\" x1=\"357\" x2=\"442\" y1=\"336.0169\" y2=\"336.0169\"/><text fill=\"#000000\" font-family=\"sans-serif\" font-size=\"14\" font-weight=\"bold\" lengthAdjust=\"spacingAndGlyphs\" textLength=\"72\" x=\"361\" y=\"328.7151\">Data Layer</text></a><!--MD5=[1f1cd8e6dd4c1b2ca2aaccc9b9bcea6e]\n",
       "link E1 to E2--><a href=\"psysml:1f214475-93e7-4d57-afd6-304a88df216d\" target=\"_top\" title=\"psysml:1f214475-93e7-4d57-afd6-304a88df216d\" xlink:actuate=\"onRequest\" xlink:href=\"psysml:1f214475-93e7-4d57-afd6-304a88df216d\" xlink:show=\"new\" xlink:title=\"psysml:1f214475-93e7-4d57-afd6-304a88df216d\" xlink:type=\"simple\"><path d=\"M300,33.82 C300,34.815 300,43.3994 300,55.7775 C300,61.9666 300,69.1041 300,76.7155 C300,80.5213 300,84.4455 300,88.429 C300,90.4207 300,92.4272 300,94.4411 C300,95.448 300,96.4568 300,97.4665 C300,97.719 300,97.9714 300,98.224 \" fill=\"none\" id=\"E1-&gt;E2\" style=\"stroke: #A80036; stroke-width: 1.0; stroke-dasharray: 7.0,7.0;\"/><polygon fill=\"#A80036\" points=\"300,98.224,304,89.224,300,93.224,296,89.224,300,98.224\" style=\"stroke: #A80036; stroke-width: 1.0;\"/><text fill=\"#000000\" font-family=\"sans-serif\" font-size=\"13\" lengthAdjust=\"spacingAndGlyphs\" textLength=\"65\" x=\"301\" y=\"54.7869\">«import»*</text></a><!--MD5=[af87c684e3b0d8be13c1a698a818ef1e]\n",
       "link E3 to E4--><a href=\"psysml:3b6c166c-6961-4bb7-b892-e5bb88ba66d9\" target=\"_top\" title=\"psysml:3b6c166c-6961-4bb7-b892-e5bb88ba66d9\" xlink:actuate=\"onRequest\" xlink:href=\"psysml:3b6c166c-6961-4bb7-b892-e5bb88ba66d9\" xlink:show=\"new\" xlink:title=\"psysml:3b6c166c-6961-4bb7-b892-e5bb88ba66d9\" xlink:type=\"simple\"><path d=\"M403,194.88 C403,202.7 403,211.41 403,219.66 \" fill=\"none\" id=\"E3-&gt;E4\" style=\"stroke: #A80036; stroke-width: 1.0; stroke-dasharray: 7.0,7.0;\"/><polygon fill=\"#A80036\" points=\"403,227.72,406,219.72,400,219.72,403,227.72\" style=\"stroke: #A80036; stroke-width: 1.0;\"/><text fill=\"#000000\" font-family=\"sans-serif\" font-size=\"13\" lengthAdjust=\"spacingAndGlyphs\" textLength=\"64\" x=\"404\" y=\"215.7869\">«depend»</text></a><!--MD5=[1b7591eae5389033d8d09a9d6721a717]\n",
       "link E4 to E5--><a href=\"psysml:f4ae8342-4685-4b6d-8549-04188d07c1c2\" target=\"_top\" title=\"psysml:f4ae8342-4685-4b6d-8549-04188d07c1c2\" xlink:actuate=\"onRequest\" xlink:href=\"psysml:f4ae8342-4685-4b6d-8549-04188d07c1c2\" xlink:show=\"new\" xlink:title=\"psysml:f4ae8342-4685-4b6d-8549-04188d07c1c2\" xlink:type=\"simple\"><path d=\"M403,280.88 C403,288.7 403,297.41 403,305.66 \" fill=\"none\" id=\"E4-&gt;E5\" style=\"stroke: #A80036; stroke-width: 1.0; stroke-dasharray: 7.0,7.0;\"/><polygon fill=\"#A80036\" points=\"403,313.72,406,305.72,400,305.72,403,313.72\" style=\"stroke: #A80036; stroke-width: 1.0;\"/><text fill=\"#000000\" font-family=\"sans-serif\" font-size=\"13\" lengthAdjust=\"spacingAndGlyphs\" textLength=\"64\" x=\"404\" y=\"301.7869\">«depend»</text></a><!--MD5=[c5e8897d989ce984f93528998a7150fe]\n",
       "link E8 to E6--><a href=\"psysml:dd0e7371-702f-42f4-9a28-a8ea46c1187a\" target=\"_top\" title=\"psysml:dd0e7371-702f-42f4-9a28-a8ea46c1187a\" xlink:actuate=\"onRequest\" xlink:href=\"psysml:dd0e7371-702f-42f4-9a28-a8ea46c1187a\" xlink:show=\"new\" xlink:title=\"psysml:dd0e7371-702f-42f4-9a28-a8ea46c1187a\" xlink:type=\"simple\"><path d=\"M100.08,191.44 C96.53,194.79 93.39,198.55 91,202.72 C87.52,208.8 85.92,216 85.36,223.02 \" fill=\"none\" id=\"E8-&gt;E6\" style=\"stroke: #A80036; stroke-width: 1.0; stroke-dasharray: 7.0,7.0;\"/><polygon fill=\"#A80036\" points=\"85.14,231.11,88.3531,223.1932,82.3553,223.0325,85.14,231.11\" style=\"stroke: #A80036; stroke-width: 1.0;\"/><text fill=\"#000000\" font-family=\"sans-serif\" font-size=\"13\" lengthAdjust=\"spacingAndGlyphs\" textLength=\"64\" x=\"92\" y=\"215.7869\">«depend»</text></a><!--MD5=[bfa3c8b0d15052fdf50ae9310b491027]\n",
       "link E8 to E7--><a href=\"psysml:dd0e7371-702f-42f4-9a28-a8ea46c1187a\" target=\"_top\" title=\"psysml:dd0e7371-702f-42f4-9a28-a8ea46c1187a\" xlink:actuate=\"onRequest\" xlink:href=\"psysml:dd0e7371-702f-42f4-9a28-a8ea46c1187a\" xlink:show=\"new\" xlink:title=\"psysml:dd0e7371-702f-42f4-9a28-a8ea46c1187a\" xlink:type=\"simple\"><path d=\"M161.76,191.29 C171.48,201.63 183.17,214.06 193.52,225.06 \" fill=\"none\" id=\"E8-&gt;E7\" style=\"stroke: #A80036; stroke-width: 1.0; stroke-dasharray: 7.0,7.0;\"/><polygon fill=\"#A80036\" points=\"199.11,231.01,195.8117,223.1283,191.4425,227.2405,199.11,231.01\" style=\"stroke: #A80036; stroke-width: 1.0;\"/><text fill=\"#000000\" font-family=\"sans-serif\" font-size=\"13\" lengthAdjust=\"spacingAndGlyphs\" textLength=\"64\" x=\"188\" y=\"215.7869\">«depend»</text></a><!--MD5=[80702540333adc536443ad62747f021a]\n",
       "@startuml\r\n",
       "skinparam ranksep 10\r\n",
       "skinparam rectangle {\r\n",
       " backgroundColor<<block>> LightGreen\r\n",
       "}\r\n",
       " \r\n",
       "package \"DependencyTest\" as E1  [[psysml:49f03030-de0c-4f13-ba7b-914972c61aaf ]]  {\r\n",
       "package \"System\" as E2  [[psysml:0a123ebf-9907-4602-8f86-a30c7447a6cf ]]  {\r\n",
       "package \"Application Layer\" as E3  [[psysml:fbc620fa-f332-480d-9302-6e81c218d767 ]]  {\r\n",
       "}\r\n",
       "package \"Service Layer\" as E4  [[psysml:426f0663-f125-4848-8cc6-b208ee541f23 ]]  {\r\n",
       "}\r\n",
       "package \"Data Layer\" as E5  [[psysml:fd3440a5-7307-47c9-b63e-e029b0e76f05 ]]  {\r\n",
       "}\r\n",
       "}\r\n",
       "comp usage \"x \" as E6 << <<(U,orange) attribute>> [[psysml:0783b658-08bf-4abf-9182-ba1ece255f80 ]] {\r\n",
       "}\r\n",
       "comp usage \"y \" as E7 << <<(U,orange) attribute>> [[psysml:00406d55-97a3-4ada-a9d4-67d88ef5929d ]] {\r\n",
       "}\r\n",
       "comp usage \"z \" as E8 << <<(U,orange) attribute>> [[psysml:b610c4be-7598-4a50-a285-e23e2912f41a ]] {\r\n",
       "}\r\n",
       "}\r\n",
       "E1 ..> E2 [[psysml:1f214475-93e7-4d57-afd6-304a88df216d ]] : <<import>>*\r\n",
       "E3 ..>> E4 [[psysml:3b6c166c-6961-4bb7-b892-e5bb88ba66d9 ]] : <<depend>>\r\n",
       "E4 ..>> E5 [[psysml:f4ae8342-4685-4b6d-8549-04188d07c1c2 ]] : <<depend>>\r\n",
       "E8 ..>> E6 [[psysml:dd0e7371-702f-42f4-9a28-a8ea46c1187a ]] : <<depend>>\r\n",
       "E8 ..>> E7 [[psysml:dd0e7371-702f-42f4-9a28-a8ea46c1187a ]] : <<depend>>\r\n",
       "@enduml\r\n",
       "\n",
       "PlantUML version 1.2020.13(Sat Jun 13 12:26:38 UTC 2020)\n",
       "(EPL source distribution)\n",
       "Java Runtime: OpenJDK Runtime Environment\n",
       "JVM: OpenJDK 64-Bit Server VM\n",
       "Default Encoding: UTF-8\n",
       "Language: en\n",
       "Country: null\n",
       "--></g></svg>"
      ]
     },
     "execution_count": 33,
     "metadata": {},
     "output_type": "execute_result"
    }
   ],
   "source": [
    "%viz --style=\"PLANTUML\" --view=\"Interconnection\" \"DependencyTest\""
   ]
  },
  {
   "cell_type": "code",
   "execution_count": 34,
   "id": "0c6495b0",
   "metadata": {
    "execution": {
     "iopub.execute_input": "2022-03-03T09:55:00.757708Z",
     "iopub.status.busy": "2022-03-03T09:55:00.757297Z",
     "iopub.status.idle": "2022-03-03T09:55:00.760285Z",
     "shell.execute_reply": "2022-03-03T09:55:00.759901Z"
    }
   },
   "outputs": [
    {
     "data": {
      "image/svg+xml": [
       "<?xml version=\"1.0\" encoding=\"UTF-8\" standalone=\"no\"?><svg xmlns=\"http://www.w3.org/2000/svg\" xmlns:xlink=\"http://www.w3.org/1999/xlink\" contentScriptType=\"application/ecmascript\" contentStyleType=\"text/css\" height=\"12px\" preserveAspectRatio=\"none\" style=\"width:12px;height:12px;\" version=\"1.1\" viewBox=\"0 0 12 12\" width=\"12px\" zoomAndPan=\"magnify\"><defs/><g><!--MD5=[6a4cb978cab31700e1ce5529f947a75d]\n",
       "@startuml\r\n",
       "skinparam ranksep 8\r\n",
       " \r\n",
       "@enduml\r\n",
       "\n",
       "PlantUML version 1.2020.13(Sat Jun 13 12:26:38 UTC 2020)\n",
       "(EPL source distribution)\n",
       "Java Runtime: OpenJDK Runtime Environment\n",
       "JVM: OpenJDK 64-Bit Server VM\n",
       "Default Encoding: UTF-8\n",
       "Language: en\n",
       "Country: null\n",
       "--></g></svg>"
      ]
     },
     "execution_count": 34,
     "metadata": {},
     "output_type": "execute_result"
    }
   ],
   "source": [
    "%viz --style=\"PLANTUML\" --view=\"Action\" \"DependencyTest\""
   ]
  },
  {
   "cell_type": "code",
   "execution_count": 35,
   "id": "4249cd7d",
   "metadata": {
    "execution": {
     "iopub.execute_input": "2022-03-03T09:55:00.810167Z",
     "iopub.status.busy": "2022-03-03T09:55:00.809752Z",
     "iopub.status.idle": "2022-03-03T09:55:00.812603Z",
     "shell.execute_reply": "2022-03-03T09:55:00.812245Z"
    }
   },
   "outputs": [
    {
     "data": {
      "image/svg+xml": [
       "<?xml version=\"1.0\" encoding=\"UTF-8\" standalone=\"no\"?><svg xmlns=\"http://www.w3.org/2000/svg\" xmlns:xlink=\"http://www.w3.org/1999/xlink\" contentScriptType=\"application/ecmascript\" contentStyleType=\"text/css\" height=\"12px\" preserveAspectRatio=\"none\" style=\"width:12px;height:12px;\" version=\"1.1\" viewBox=\"0 0 12 12\" width=\"12px\" zoomAndPan=\"magnify\"><defs/><g><!--MD5=[ca4faa0b02def275ea33c14ea7a1a98d]\n",
       "@startuml\r\n",
       "skinparam roundcorner 20\r\n",
       "skinparam BoxPadding 20\r\n",
       "skinparam SequenceBoxBackgroundColor #white\r\n",
       "skinparam style strictuml\r\n",
       "skinparam maxMessageSize 100\r\n",
       " \r\n",
       "@enduml\r\n",
       "\n",
       "PlantUML version 1.2020.13(Sat Jun 13 12:26:38 UTC 2020)\n",
       "(EPL source distribution)\n",
       "Java Runtime: OpenJDK Runtime Environment\n",
       "JVM: OpenJDK 64-Bit Server VM\n",
       "Default Encoding: UTF-8\n",
       "Language: en\n",
       "Country: null\n",
       "--></g></svg>"
      ]
     },
     "execution_count": 35,
     "metadata": {},
     "output_type": "execute_result"
    }
   ],
   "source": [
    "%viz --style=\"PLANTUML\" --view=\"Sequence\" \"DependencyTest\""
   ]
  },
  {
   "cell_type": "code",
   "execution_count": 36,
   "id": "64d0b7e2",
   "metadata": {
    "execution": {
     "iopub.execute_input": "2022-03-03T09:55:00.862513Z",
     "iopub.status.busy": "2022-03-03T09:55:00.861991Z",
     "iopub.status.idle": "2022-03-03T09:55:00.890809Z",
     "shell.execute_reply": "2022-03-03T09:55:00.889109Z"
    }
   },
   "outputs": [
    {
     "data": {
      "image/svg+xml": [
       "<?xml version=\"1.0\" encoding=\"UTF-8\" standalone=\"no\"?><svg xmlns=\"http://www.w3.org/2000/svg\" xmlns:xlink=\"http://www.w3.org/1999/xlink\" contentScriptType=\"application/ecmascript\" contentStyleType=\"text/css\" height=\"552px\" preserveAspectRatio=\"none\" style=\"width:557px;height:552px;\" version=\"1.1\" viewBox=\"0 0 557 552\" width=\"557px\" zoomAndPan=\"magnify\"><defs><filter height=\"300%\" id=\"f11qwwk6dir0o7\" width=\"300%\" x=\"-1\" y=\"-1\"><feGaussianBlur result=\"blurOut\" stdDeviation=\"2.0\"/><feColorMatrix in=\"blurOut\" result=\"blurOut2\" type=\"matrix\" values=\"0 0 0 0 0 0 0 0 0 0 0 0 0 0 0 0 0 0 .4 0\"/><feOffset dx=\"4.0\" dy=\"4.0\" in=\"blurOut2\" result=\"blurOut3\"/><feBlend in=\"SourceGraphic\" in2=\"blurOut3\" mode=\"normal\"/></filter></defs><g><!--MD5=[fbc87193dbaf4d95561dea2c320d4a47]\n",
       "cluster E1--><a href=\"psysml:49f03030-de0c-4f13-ba7b-914972c61aaf\" target=\"_top\" title=\"psysml:49f03030-de0c-4f13-ba7b-914972c61aaf\" xlink:actuate=\"onRequest\" xlink:href=\"psysml:49f03030-de0c-4f13-ba7b-914972c61aaf\" xlink:show=\"new\" xlink:title=\"psysml:49f03030-de0c-4f13-ba7b-914972c61aaf\" xlink:type=\"simple\"><polygon fill=\"#FFFFFF\" filter=\"url(#f11qwwk6dir0o7)\" points=\"16,6,142,6,149,28.2969,535,28.2969,535,540.72,16,540.72,16,6\" style=\"stroke: #000000; stroke-width: 1.5;\"/><line style=\"stroke: #000000; stroke-width: 1.5;\" x1=\"16\" x2=\"149\" y1=\"28.2969\" y2=\"28.2969\"/><text fill=\"#000000\" font-family=\"sans-serif\" font-size=\"14\" font-weight=\"bold\" lengthAdjust=\"spacingAndGlyphs\" textLength=\"120\" x=\"20\" y=\"20.9951\">DependencyTest</text></a><!--MD5=[e4f7fae6ed58524ba242bb0b0d3be6b7]\n",
       "cluster E2--><a href=\"psysml:0a123ebf-9907-4602-8f86-a30c7447a6cf\" target=\"_top\" title=\"psysml:0a123ebf-9907-4602-8f86-a30c7447a6cf\" xlink:actuate=\"onRequest\" xlink:href=\"psysml:0a123ebf-9907-4602-8f86-a30c7447a6cf\" xlink:show=\"new\" xlink:title=\"psysml:0a123ebf-9907-4602-8f86-a30c7447a6cf\" xlink:type=\"simple\"><polygon fill=\"#FFFFFF\" filter=\"url(#f11qwwk6dir0o7)\" points=\"292,120.72,349,120.72,356,143.0169,495,143.0169,495,500.72,292,500.72,292,120.72\" style=\"stroke: #000000; stroke-width: 1.5;\"/><line style=\"stroke: #000000; stroke-width: 1.5;\" x1=\"292\" x2=\"356\" y1=\"143.0169\" y2=\"143.0169\"/><text fill=\"#000000\" font-family=\"sans-serif\" font-size=\"14\" font-weight=\"bold\" lengthAdjust=\"spacingAndGlyphs\" textLength=\"51\" x=\"296\" y=\"135.7151\">System</text></a><!--MD5=[60a26617385b1d2d0262a64233df1f8d]\n",
       "class E6--><a href=\"psysml:0783b658-08bf-4abf-9182-ba1ece255f80\" target=\"_top\" title=\"psysml:0783b658-08bf-4abf-9182-ba1ece255f80\" xlink:actuate=\"onRequest\" xlink:href=\"psysml:0783b658-08bf-4abf-9182-ba1ece255f80\" xlink:show=\"new\" xlink:title=\"psysml:0783b658-08bf-4abf-9182-ba1ece255f80\" xlink:type=\"simple\"><rect fill=\"#FEFECE\" filter=\"url(#f11qwwk6dir0o7)\" height=\"45.9375\" id=\"E6\" rx=\"10\" ry=\"10\" style=\"stroke: #A80036; stroke-width: 1.5;\" width=\"97\" x=\"39.5\" y=\"297.22\"/><ellipse cx=\"54.5\" cy=\"316.1888\" fill=\"#FFA500\" rx=\"11\" ry=\"11\" style=\"stroke: #A80036; stroke-width: 1.0;\"/><path d=\"M54.25,321.6575 Q52.5,321.6575 51.5469,320.6263 Q50.6094,319.5794 50.6094,317.7356 L50.6094,310.845 L52.6719,310.845 L52.6719,311.0013 Q52.5781,311.095 52.5469,311.2356 Q52.5313,311.3606 52.5313,311.6263 L52.5313,317.7513 Q52.5313,318.845 52.9063,319.47 Q53.2813,320.095 54.2656,320.095 Q55.25,320.095 55.6406,319.47 Q56.0313,318.845 56.0313,317.7044 L56.0313,310.845 L57.9063,310.845 L57.9063,317.6888 Q57.9063,319.72 56.875,320.6888 Q55.8594,321.6575 54.25,321.6575 Z \"/><text fill=\"#000000\" font-family=\"sans-serif\" font-size=\"12\" font-style=\"italic\" lengthAdjust=\"spacingAndGlyphs\" textLength=\"69\" x=\"66.5\" y=\"313.3587\">«attribute»</text><text fill=\"#000000\" font-family=\"sans-serif\" font-size=\"12\" lengthAdjust=\"spacingAndGlyphs\" textLength=\"6\" x=\"96\" y=\"327.3274\">x</text><line style=\"stroke: #A80036; stroke-width: 1.5;\" x1=\"40.5\" x2=\"135.5\" y1=\"335.1575\" y2=\"335.1575\"/></a><!--MD5=[2156ba9850f5573cc1fc38a6a4b2f02b]\n",
       "class E7--><a href=\"psysml:00406d55-97a3-4ada-a9d4-67d88ef5929d\" target=\"_top\" title=\"psysml:00406d55-97a3-4ada-a9d4-67d88ef5929d\" xlink:actuate=\"onRequest\" xlink:href=\"psysml:00406d55-97a3-4ada-a9d4-67d88ef5929d\" xlink:show=\"new\" xlink:title=\"psysml:00406d55-97a3-4ada-a9d4-67d88ef5929d\" xlink:type=\"simple\"><rect fill=\"#FEFECE\" filter=\"url(#f11qwwk6dir0o7)\" height=\"45.9375\" id=\"E7\" rx=\"10\" ry=\"10\" style=\"stroke: #A80036; stroke-width: 1.5;\" width=\"97\" x=\"171.5\" y=\"297.22\"/><ellipse cx=\"186.5\" cy=\"316.1888\" fill=\"#FFA500\" rx=\"11\" ry=\"11\" style=\"stroke: #A80036; stroke-width: 1.0;\"/><path d=\"M186.25,321.6575 Q184.5,321.6575 183.5469,320.6263 Q182.6094,319.5794 182.6094,317.7356 L182.6094,310.845 L184.6719,310.845 L184.6719,311.0013 Q184.5781,311.095 184.5469,311.2356 Q184.5313,311.3606 184.5313,311.6263 L184.5313,317.7513 Q184.5313,318.845 184.9063,319.47 Q185.2813,320.095 186.2656,320.095 Q187.25,320.095 187.6406,319.47 Q188.0313,318.845 188.0313,317.7044 L188.0313,310.845 L189.9063,310.845 L189.9063,317.6888 Q189.9063,319.72 188.875,320.6888 Q187.8594,321.6575 186.25,321.6575 Z \"/><text fill=\"#000000\" font-family=\"sans-serif\" font-size=\"12\" font-style=\"italic\" lengthAdjust=\"spacingAndGlyphs\" textLength=\"69\" x=\"198.5\" y=\"313.3587\">«attribute»</text><text fill=\"#000000\" font-family=\"sans-serif\" font-size=\"12\" lengthAdjust=\"spacingAndGlyphs\" textLength=\"6\" x=\"228\" y=\"327.3274\">y</text><line style=\"stroke: #A80036; stroke-width: 1.5;\" x1=\"172.5\" x2=\"267.5\" y1=\"335.1575\" y2=\"335.1575\"/></a><!--MD5=[b9389687b975829384b498ac4b7476b2]\n",
       "class E8--><a href=\"psysml:b610c4be-7598-4a50-a285-e23e2912f41a\" target=\"_top\" title=\"psysml:b610c4be-7598-4a50-a285-e23e2912f41a\" xlink:actuate=\"onRequest\" xlink:href=\"psysml:b610c4be-7598-4a50-a285-e23e2912f41a\" xlink:show=\"new\" xlink:title=\"psysml:b610c4be-7598-4a50-a285-e23e2912f41a\" xlink:type=\"simple\"><rect fill=\"#FEFECE\" filter=\"url(#f11qwwk6dir0o7)\" height=\"45.9375\" id=\"E8\" rx=\"10\" ry=\"10\" style=\"stroke: #A80036; stroke-width: 1.5;\" width=\"97\" x=\"92.5\" y=\"167.22\"/><ellipse cx=\"107.5\" cy=\"186.1888\" fill=\"#FFA500\" rx=\"11\" ry=\"11\" style=\"stroke: #A80036; stroke-width: 1.0;\"/><path d=\"M107.25,191.6575 Q105.5,191.6575 104.5469,190.6263 Q103.6094,189.5794 103.6094,187.7356 L103.6094,180.845 L105.6719,180.845 L105.6719,181.0013 Q105.5781,181.095 105.5469,181.2356 Q105.5313,181.3606 105.5313,181.6263 L105.5313,187.7513 Q105.5313,188.845 105.9063,189.47 Q106.2813,190.095 107.2656,190.095 Q108.25,190.095 108.6406,189.47 Q109.0313,188.845 109.0313,187.7044 L109.0313,180.845 L110.9063,180.845 L110.9063,187.6888 Q110.9063,189.72 109.875,190.6888 Q108.8594,191.6575 107.25,191.6575 Z \"/><text fill=\"#000000\" font-family=\"sans-serif\" font-size=\"12\" font-style=\"italic\" lengthAdjust=\"spacingAndGlyphs\" textLength=\"69\" x=\"119.5\" y=\"183.3587\">«attribute»</text><text fill=\"#000000\" font-family=\"sans-serif\" font-size=\"12\" lengthAdjust=\"spacingAndGlyphs\" textLength=\"5\" x=\"149.5\" y=\"197.3274\">z</text><line style=\"stroke: #A80036; stroke-width: 1.5;\" x1=\"93.5\" x2=\"188.5\" y1=\"205.1575\" y2=\"205.1575\"/></a><a href=\"psysml:fbc620fa-f332-480d-9302-6e81c218d767\" target=\"_top\" title=\"psysml:fbc620fa-f332-480d-9302-6e81c218d767\" xlink:actuate=\"onRequest\" xlink:href=\"psysml:fbc620fa-f332-480d-9302-6e81c218d767\" xlink:show=\"new\" xlink:title=\"psysml:fbc620fa-f332-480d-9302-6e81c218d767\" xlink:type=\"simple\"><polygon fill=\"#FFFFFF\" filter=\"url(#f11qwwk6dir0o7)\" points=\"335.5,163.72,456.5,163.72,463.5,186.0169,470.5,186.0169,470.5,216.3138,335.5,216.3138,335.5,163.72\" style=\"stroke: #000000; stroke-width: 1.5;\"/><line style=\"stroke: #000000; stroke-width: 1.5;\" x1=\"335.5\" x2=\"463.5\" y1=\"186.0169\" y2=\"186.0169\"/><text fill=\"#000000\" font-family=\"sans-serif\" font-size=\"14\" font-weight=\"bold\" lengthAdjust=\"spacingAndGlyphs\" textLength=\"115\" x=\"339.5\" y=\"178.7151\">Application Layer</text></a><a href=\"psysml:426f0663-f125-4848-8cc6-b208ee541f23\" target=\"_top\" title=\"psysml:426f0663-f125-4848-8cc6-b208ee541f23\" xlink:actuate=\"onRequest\" xlink:href=\"psysml:426f0663-f125-4848-8cc6-b208ee541f23\" xlink:show=\"new\" xlink:title=\"psysml:426f0663-f125-4848-8cc6-b208ee541f23\" xlink:type=\"simple\"><polygon fill=\"#FFFFFF\" filter=\"url(#f11qwwk6dir0o7)\" points=\"348,293.72,444,293.72,451,316.0169,458,316.0169,458,346.3138,348,346.3138,348,293.72\" style=\"stroke: #000000; stroke-width: 1.5;\"/><line style=\"stroke: #000000; stroke-width: 1.5;\" x1=\"348\" x2=\"451\" y1=\"316.0169\" y2=\"316.0169\"/><text fill=\"#000000\" font-family=\"sans-serif\" font-size=\"14\" font-weight=\"bold\" lengthAdjust=\"spacingAndGlyphs\" textLength=\"90\" x=\"352\" y=\"308.7151\">Service Layer</text></a><a href=\"psysml:fd3440a5-7307-47c9-b63e-e029b0e76f05\" target=\"_top\" title=\"psysml:fd3440a5-7307-47c9-b63e-e029b0e76f05\" xlink:actuate=\"onRequest\" xlink:href=\"psysml:fd3440a5-7307-47c9-b63e-e029b0e76f05\" xlink:show=\"new\" xlink:title=\"psysml:fd3440a5-7307-47c9-b63e-e029b0e76f05\" xlink:type=\"simple\"><polygon fill=\"#FFFFFF\" filter=\"url(#f11qwwk6dir0o7)\" points=\"357,423.72,435,423.72,442,446.0169,449,446.0169,449,476.3138,357,476.3138,357,423.72\" style=\"stroke: #000000; stroke-width: 1.5;\"/><line style=\"stroke: #000000; stroke-width: 1.5;\" x1=\"357\" x2=\"442\" y1=\"446.0169\" y2=\"446.0169\"/><text fill=\"#000000\" font-family=\"sans-serif\" font-size=\"14\" font-weight=\"bold\" lengthAdjust=\"spacingAndGlyphs\" textLength=\"72\" x=\"361\" y=\"438.7151\">Data Layer</text></a><!--MD5=[1f1cd8e6dd4c1b2ca2aaccc9b9bcea6e]\n",
       "link E1 to E2--><a href=\"psysml:1f214475-93e7-4d57-afd6-304a88df216d\" target=\"_top\" title=\"psysml:1f214475-93e7-4d57-afd6-304a88df216d\" xlink:actuate=\"onRequest\" xlink:href=\"psysml:1f214475-93e7-4d57-afd6-304a88df216d\" xlink:show=\"new\" xlink:title=\"psysml:1f214475-93e7-4d57-afd6-304a88df216d\" xlink:type=\"simple\"><path d=\"M300,33.83 C300,36.15 300,73.83 300,111.5 C300,113.8544 300,116.2087 300,118.5544 C300,119.1408 300,119.7267 300,120.3119 \" fill=\"none\" id=\"E1-&gt;E2\" style=\"stroke: #A80036; stroke-width: 1.0; stroke-dasharray: 7.0,7.0;\"/><polygon fill=\"#A80036\" points=\"300,120.3119,304,111.3119,300,115.3119,296,111.3119,300,120.3119\" style=\"stroke: #A80036; stroke-width: 1.0;\"/><text fill=\"#000000\" font-family=\"sans-serif\" font-size=\"13\" lengthAdjust=\"spacingAndGlyphs\" textLength=\"65\" x=\"301\" y=\"76.7869\">«import»*</text></a><!--MD5=[af87c684e3b0d8be13c1a698a818ef1e]\n",
       "link E3 to E4--><a href=\"psysml:3b6c166c-6961-4bb7-b892-e5bb88ba66d9\" target=\"_top\" title=\"psysml:3b6c166c-6961-4bb7-b892-e5bb88ba66d9\" xlink:actuate=\"onRequest\" xlink:href=\"psysml:3b6c166c-6961-4bb7-b892-e5bb88ba66d9\" xlink:show=\"new\" xlink:title=\"psysml:3b6c166c-6961-4bb7-b892-e5bb88ba66d9\" xlink:type=\"simple\"><path d=\"M403,216.82 C403,236.52 403,263.94 403,285.45 \" fill=\"none\" id=\"E3-&gt;E4\" style=\"stroke: #A80036; stroke-width: 1.0; stroke-dasharray: 7.0,7.0;\"/><polygon fill=\"#A80036\" points=\"403,293.67,406,285.67,400,285.67,403,293.67\" style=\"stroke: #A80036; stroke-width: 1.0;\"/><text fill=\"#000000\" font-family=\"sans-serif\" font-size=\"13\" lengthAdjust=\"spacingAndGlyphs\" textLength=\"64\" x=\"404\" y=\"259.7869\">«depend»</text></a><!--MD5=[1b7591eae5389033d8d09a9d6721a717]\n",
       "link E4 to E5--><a href=\"psysml:f4ae8342-4685-4b6d-8549-04188d07c1c2\" target=\"_top\" title=\"psysml:f4ae8342-4685-4b6d-8549-04188d07c1c2\" xlink:actuate=\"onRequest\" xlink:href=\"psysml:f4ae8342-4685-4b6d-8549-04188d07c1c2\" xlink:show=\"new\" xlink:title=\"psysml:f4ae8342-4685-4b6d-8549-04188d07c1c2\" xlink:type=\"simple\"><path d=\"M403,346.82 C403,366.52 403,393.94 403,415.45 \" fill=\"none\" id=\"E4-&gt;E5\" style=\"stroke: #A80036; stroke-width: 1.0; stroke-dasharray: 7.0,7.0;\"/><polygon fill=\"#A80036\" points=\"403,423.67,406,415.67,400,415.67,403,423.67\" style=\"stroke: #A80036; stroke-width: 1.0;\"/><text fill=\"#000000\" font-family=\"sans-serif\" font-size=\"13\" lengthAdjust=\"spacingAndGlyphs\" textLength=\"64\" x=\"404\" y=\"389.7869\">«depend»</text></a><!--MD5=[c5e8897d989ce984f93528998a7150fe]\n",
       "link E8 to E6--><a href=\"psysml:dd0e7371-702f-42f4-9a28-a8ea46c1187a\" target=\"_top\" title=\"psysml:dd0e7371-702f-42f4-9a28-a8ea46c1187a\" xlink:actuate=\"onRequest\" xlink:href=\"psysml:dd0e7371-702f-42f4-9a28-a8ea46c1187a\" xlink:show=\"new\" xlink:title=\"psysml:dd0e7371-702f-42f4-9a28-a8ea46c1187a\" xlink:type=\"simple\"><path d=\"M114.44,213.48 C105.3,222.73 96.09,234.23 91,246.72 C85.6,259.95 84.4,275.7 84.73,289.13 \" fill=\"none\" id=\"E8-&gt;E6\" style=\"stroke: #A80036; stroke-width: 1.0; stroke-dasharray: 7.0,7.0;\"/><polygon fill=\"#A80036\" points=\"85.12,297.15,87.7306,289.0146,81.7375,289.304,85.12,297.15\" style=\"stroke: #A80036; stroke-width: 1.0;\"/><text fill=\"#000000\" font-family=\"sans-serif\" font-size=\"13\" lengthAdjust=\"spacingAndGlyphs\" textLength=\"64\" x=\"92\" y=\"259.7869\">«depend»</text></a><!--MD5=[bfa3c8b0d15052fdf50ae9310b491027]\n",
       "link E8 to E7--><a href=\"psysml:dd0e7371-702f-42f4-9a28-a8ea46c1187a\" target=\"_top\" title=\"psysml:dd0e7371-702f-42f4-9a28-a8ea46c1187a\" xlink:actuate=\"onRequest\" xlink:href=\"psysml:dd0e7371-702f-42f4-9a28-a8ea46c1187a\" xlink:show=\"new\" xlink:title=\"psysml:dd0e7371-702f-42f4-9a28-a8ea46c1187a\" xlink:type=\"simple\"><path d=\"M154.58,213.22 C167.69,234.47 187.63,266.77 202.05,290.13 \" fill=\"none\" id=\"E8-&gt;E7\" style=\"stroke: #A80036; stroke-width: 1.0; stroke-dasharray: 7.0,7.0;\"/><polygon fill=\"#A80036\" points=\"206.33,297.07,204.6785,288.6871,199.5737,291.8401,206.33,297.07\" style=\"stroke: #A80036; stroke-width: 1.0;\"/><text fill=\"#000000\" font-family=\"sans-serif\" font-size=\"13\" lengthAdjust=\"spacingAndGlyphs\" textLength=\"64\" x=\"186\" y=\"259.7869\">«depend»</text></a><!--MD5=[2c5059a66ecc58240d8a210a75686f70]\n",
       "@startuml\r\n",
       " \r\n",
       "package \"DependencyTest\" as E1  [[psysml:49f03030-de0c-4f13-ba7b-914972c61aaf ]]  {\r\n",
       "package \"System\" as E2  [[psysml:0a123ebf-9907-4602-8f86-a30c7447a6cf ]]  {\r\n",
       "package \"Application Layer\" as E3  [[psysml:fbc620fa-f332-480d-9302-6e81c218d767 ]]  {\r\n",
       "}\r\n",
       "package \"Service Layer\" as E4  [[psysml:426f0663-f125-4848-8cc6-b208ee541f23 ]]  {\r\n",
       "}\r\n",
       "package \"Data Layer\" as E5  [[psysml:fd3440a5-7307-47c9-b63e-e029b0e76f05 ]]  {\r\n",
       "}\r\n",
       "}\r\n",
       "comp usage \"x \" as E6 << <<(U,orange) attribute>> [[psysml:0783b658-08bf-4abf-9182-ba1ece255f80 ]] {\r\n",
       "}\r\n",
       "comp usage \"y \" as E7 << <<(U,orange) attribute>> [[psysml:00406d55-97a3-4ada-a9d4-67d88ef5929d ]] {\r\n",
       "}\r\n",
       "comp usage \"z \" as E8 << <<(U,orange) attribute>> [[psysml:b610c4be-7598-4a50-a285-e23e2912f41a ]] {\r\n",
       "}\r\n",
       "}\r\n",
       "E1 ..> E2 [[psysml:1f214475-93e7-4d57-afd6-304a88df216d ]] : <<import>>*\r\n",
       "E3 ..>> E4 [[psysml:3b6c166c-6961-4bb7-b892-e5bb88ba66d9 ]] : <<depend>>\r\n",
       "E4 ..>> E5 [[psysml:f4ae8342-4685-4b6d-8549-04188d07c1c2 ]] : <<depend>>\r\n",
       "E8 ..>> E6 [[psysml:dd0e7371-702f-42f4-9a28-a8ea46c1187a ]] : <<depend>>\r\n",
       "E8 ..>> E7 [[psysml:dd0e7371-702f-42f4-9a28-a8ea46c1187a ]] : <<depend>>\r\n",
       "@enduml\r\n",
       "\n",
       "PlantUML version 1.2020.13(Sat Jun 13 12:26:38 UTC 2020)\n",
       "(EPL source distribution)\n",
       "Java Runtime: OpenJDK Runtime Environment\n",
       "JVM: OpenJDK 64-Bit Server VM\n",
       "Default Encoding: UTF-8\n",
       "Language: en\n",
       "Country: null\n",
       "--></g></svg>"
      ]
     },
     "execution_count": 36,
     "metadata": {},
     "output_type": "execute_result"
    }
   ],
   "source": [
    "%viz --style=\"PLANTUML\" --view=\"MIXED\" \"DependencyTest\""
   ]
  },
  {
   "cell_type": "code",
   "execution_count": 37,
   "id": "0040dd90",
   "metadata": {
    "execution": {
     "iopub.execute_input": "2022-03-03T09:55:00.940439Z",
     "iopub.status.busy": "2022-03-03T09:55:00.940009Z",
     "iopub.status.idle": "2022-03-03T09:55:00.968795Z",
     "shell.execute_reply": "2022-03-03T09:55:00.967457Z"
    }
   },
   "outputs": [
    {
     "data": {
      "image/svg+xml": [
       "<?xml version=\"1.0\" encoding=\"UTF-8\" standalone=\"no\"?><svg xmlns=\"http://www.w3.org/2000/svg\" xmlns:xlink=\"http://www.w3.org/1999/xlink\" contentScriptType=\"application/ecmascript\" contentStyleType=\"text/css\" height=\"552px\" preserveAspectRatio=\"none\" style=\"width:536px;height:552px;\" version=\"1.1\" viewBox=\"0 0 536 552\" width=\"536px\" zoomAndPan=\"magnify\"><defs/><g><!--MD5=[fbc87193dbaf4d95561dea2c320d4a47]\n",
       "cluster E1--><a href=\"psysml:49f03030-de0c-4f13-ba7b-914972c61aaf\" target=\"_top\" title=\"psysml:49f03030-de0c-4f13-ba7b-914972c61aaf\" xlink:actuate=\"onRequest\" xlink:href=\"psysml:49f03030-de0c-4f13-ba7b-914972c61aaf\" xlink:show=\"new\" xlink:title=\"psysml:49f03030-de0c-4f13-ba7b-914972c61aaf\" xlink:type=\"simple\"><polygon fill=\"#FFFFFF\" points=\"16,6,142,6,149,28.2969,514,28.2969,514,540.72,16,540.72,16,6\" style=\"stroke: #000000; stroke-width: 1.5;\"/><line style=\"stroke: #000000; stroke-width: 1.5;\" x1=\"16\" x2=\"149\" y1=\"28.2969\" y2=\"28.2969\"/><text fill=\"#000000\" font-family=\"sans-serif\" font-size=\"14\" font-weight=\"bold\" lengthAdjust=\"spacingAndGlyphs\" textLength=\"120\" x=\"20\" y=\"20.9951\">DependencyTest</text></a><!--MD5=[e4f7fae6ed58524ba242bb0b0d3be6b7]\n",
       "cluster E2--><a href=\"psysml:0a123ebf-9907-4602-8f86-a30c7447a6cf\" target=\"_top\" title=\"psysml:0a123ebf-9907-4602-8f86-a30c7447a6cf\" xlink:actuate=\"onRequest\" xlink:href=\"psysml:0a123ebf-9907-4602-8f86-a30c7447a6cf\" xlink:show=\"new\" xlink:title=\"psysml:0a123ebf-9907-4602-8f86-a30c7447a6cf\" xlink:type=\"simple\"><polygon fill=\"#FFFFFF\" points=\"271,120.72,328,120.72,335,143.0169,474,143.0169,474,500.72,271,500.72,271,120.72\" style=\"stroke: #000000; stroke-width: 1.5;\"/><line style=\"stroke: #000000; stroke-width: 1.5;\" x1=\"271\" x2=\"335\" y1=\"143.0169\" y2=\"143.0169\"/><text fill=\"#000000\" font-family=\"sans-serif\" font-size=\"14\" font-weight=\"bold\" lengthAdjust=\"spacingAndGlyphs\" textLength=\"51\" x=\"275\" y=\"135.7151\">System</text></a><!--MD5=[60a26617385b1d2d0262a64233df1f8d]\n",
       "class E6--><a href=\"psysml:0783b658-08bf-4abf-9182-ba1ece255f80\" target=\"_top\" title=\"psysml:0783b658-08bf-4abf-9182-ba1ece255f80\" xlink:actuate=\"onRequest\" xlink:href=\"psysml:0783b658-08bf-4abf-9182-ba1ece255f80\" xlink:show=\"new\" xlink:title=\"psysml:0783b658-08bf-4abf-9182-ba1ece255f80\" xlink:type=\"simple\"><rect fill=\"#FFFFFF\" height=\"45.9375\" id=\"E6\" rx=\"10\" ry=\"10\" style=\"stroke: #383838; stroke-width: 1.5;\" width=\"71\" x=\"40.5\" y=\"297.22\"/><text fill=\"#000000\" font-family=\"sans-serif\" font-size=\"12\" font-style=\"italic\" lengthAdjust=\"spacingAndGlyphs\" textLength=\"69\" x=\"41.5\" y=\"313.3587\">«attribute»</text><text fill=\"#000000\" font-family=\"sans-serif\" font-size=\"12\" lengthAdjust=\"spacingAndGlyphs\" textLength=\"6\" x=\"71\" y=\"327.3274\">x</text><line style=\"stroke: #383838; stroke-width: 1.5;\" x1=\"41.5\" x2=\"110.5\" y1=\"335.1575\" y2=\"335.1575\"/></a><!--MD5=[2156ba9850f5573cc1fc38a6a4b2f02b]\n",
       "class E7--><a href=\"psysml:00406d55-97a3-4ada-a9d4-67d88ef5929d\" target=\"_top\" title=\"psysml:00406d55-97a3-4ada-a9d4-67d88ef5929d\" xlink:actuate=\"onRequest\" xlink:href=\"psysml:00406d55-97a3-4ada-a9d4-67d88ef5929d\" xlink:show=\"new\" xlink:title=\"psysml:00406d55-97a3-4ada-a9d4-67d88ef5929d\" xlink:type=\"simple\"><rect fill=\"#FFFFFF\" height=\"45.9375\" id=\"E7\" rx=\"10\" ry=\"10\" style=\"stroke: #383838; stroke-width: 1.5;\" width=\"71\" x=\"146.5\" y=\"297.22\"/><text fill=\"#000000\" font-family=\"sans-serif\" font-size=\"12\" font-style=\"italic\" lengthAdjust=\"spacingAndGlyphs\" textLength=\"69\" x=\"147.5\" y=\"313.3587\">«attribute»</text><text fill=\"#000000\" font-family=\"sans-serif\" font-size=\"12\" lengthAdjust=\"spacingAndGlyphs\" textLength=\"6\" x=\"177\" y=\"327.3274\">y</text><line style=\"stroke: #383838; stroke-width: 1.5;\" x1=\"147.5\" x2=\"216.5\" y1=\"335.1575\" y2=\"335.1575\"/></a><!--MD5=[b9389687b975829384b498ac4b7476b2]\n",
       "class E8--><a href=\"psysml:b610c4be-7598-4a50-a285-e23e2912f41a\" target=\"_top\" title=\"psysml:b610c4be-7598-4a50-a285-e23e2912f41a\" xlink:actuate=\"onRequest\" xlink:href=\"psysml:b610c4be-7598-4a50-a285-e23e2912f41a\" xlink:show=\"new\" xlink:title=\"psysml:b610c4be-7598-4a50-a285-e23e2912f41a\" xlink:type=\"simple\"><rect fill=\"#FFFFFF\" height=\"45.9375\" id=\"E8\" rx=\"10\" ry=\"10\" style=\"stroke: #383838; stroke-width: 1.5;\" width=\"71\" x=\"92.5\" y=\"167.22\"/><text fill=\"#000000\" font-family=\"sans-serif\" font-size=\"12\" font-style=\"italic\" lengthAdjust=\"spacingAndGlyphs\" textLength=\"69\" x=\"93.5\" y=\"183.3587\">«attribute»</text><text fill=\"#000000\" font-family=\"sans-serif\" font-size=\"12\" lengthAdjust=\"spacingAndGlyphs\" textLength=\"5\" x=\"123.5\" y=\"197.3274\">z</text><line style=\"stroke: #383838; stroke-width: 1.5;\" x1=\"93.5\" x2=\"162.5\" y1=\"205.1575\" y2=\"205.1575\"/></a><a href=\"psysml:fbc620fa-f332-480d-9302-6e81c218d767\" target=\"_top\" title=\"psysml:fbc620fa-f332-480d-9302-6e81c218d767\" xlink:actuate=\"onRequest\" xlink:href=\"psysml:fbc620fa-f332-480d-9302-6e81c218d767\" xlink:show=\"new\" xlink:title=\"psysml:fbc620fa-f332-480d-9302-6e81c218d767\" xlink:type=\"simple\"><polygon fill=\"#FFFFFF\" points=\"314.5,163.72,435.5,163.72,442.5,186.0169,449.5,186.0169,449.5,216.3138,314.5,216.3138,314.5,163.72\" style=\"stroke: #000000; stroke-width: 1.5;\"/><line style=\"stroke: #000000; stroke-width: 1.5;\" x1=\"314.5\" x2=\"442.5\" y1=\"186.0169\" y2=\"186.0169\"/><text fill=\"#000000\" font-family=\"sans-serif\" font-size=\"14\" font-weight=\"bold\" lengthAdjust=\"spacingAndGlyphs\" textLength=\"115\" x=\"318.5\" y=\"178.7151\">Application Layer</text></a><a href=\"psysml:426f0663-f125-4848-8cc6-b208ee541f23\" target=\"_top\" title=\"psysml:426f0663-f125-4848-8cc6-b208ee541f23\" xlink:actuate=\"onRequest\" xlink:href=\"psysml:426f0663-f125-4848-8cc6-b208ee541f23\" xlink:show=\"new\" xlink:title=\"psysml:426f0663-f125-4848-8cc6-b208ee541f23\" xlink:type=\"simple\"><polygon fill=\"#FFFFFF\" points=\"327,293.72,423,293.72,430,316.0169,437,316.0169,437,346.3138,327,346.3138,327,293.72\" style=\"stroke: #000000; stroke-width: 1.5;\"/><line style=\"stroke: #000000; stroke-width: 1.5;\" x1=\"327\" x2=\"430\" y1=\"316.0169\" y2=\"316.0169\"/><text fill=\"#000000\" font-family=\"sans-serif\" font-size=\"14\" font-weight=\"bold\" lengthAdjust=\"spacingAndGlyphs\" textLength=\"90\" x=\"331\" y=\"308.7151\">Service Layer</text></a><a href=\"psysml:fd3440a5-7307-47c9-b63e-e029b0e76f05\" target=\"_top\" title=\"psysml:fd3440a5-7307-47c9-b63e-e029b0e76f05\" xlink:actuate=\"onRequest\" xlink:href=\"psysml:fd3440a5-7307-47c9-b63e-e029b0e76f05\" xlink:show=\"new\" xlink:title=\"psysml:fd3440a5-7307-47c9-b63e-e029b0e76f05\" xlink:type=\"simple\"><polygon fill=\"#FFFFFF\" points=\"336,423.72,414,423.72,421,446.0169,428,446.0169,428,476.3138,336,476.3138,336,423.72\" style=\"stroke: #000000; stroke-width: 1.5;\"/><line style=\"stroke: #000000; stroke-width: 1.5;\" x1=\"336\" x2=\"421\" y1=\"446.0169\" y2=\"446.0169\"/><text fill=\"#000000\" font-family=\"sans-serif\" font-size=\"14\" font-weight=\"bold\" lengthAdjust=\"spacingAndGlyphs\" textLength=\"72\" x=\"340\" y=\"438.7151\">Data Layer</text></a><!--MD5=[1f1cd8e6dd4c1b2ca2aaccc9b9bcea6e]\n",
       "link E1 to E2--><a href=\"psysml:1f214475-93e7-4d57-afd6-304a88df216d\" target=\"_top\" title=\"psysml:1f214475-93e7-4d57-afd6-304a88df216d\" xlink:actuate=\"onRequest\" xlink:href=\"psysml:1f214475-93e7-4d57-afd6-304a88df216d\" xlink:show=\"new\" xlink:title=\"psysml:1f214475-93e7-4d57-afd6-304a88df216d\" xlink:type=\"simple\"><path d=\"M279,33.83 C279,36.15 279,73.83 279,111.5 C279,113.8544 279,116.2087 279,118.5544 C279,119.1408 279,119.7267 279,120.3119 \" fill=\"none\" id=\"E1-&gt;E2\" style=\"stroke: #383838; stroke-width: 1.0; stroke-dasharray: 7.0,7.0;\"/><polygon fill=\"#383838\" points=\"279,120.3119,283,111.3119,279,115.3119,275,111.3119,279,120.3119\" style=\"stroke: #383838; stroke-width: 1.0;\"/><text fill=\"#000000\" font-family=\"sans-serif\" font-size=\"13\" lengthAdjust=\"spacingAndGlyphs\" textLength=\"65\" x=\"280\" y=\"76.7869\">«import»*</text></a><!--MD5=[af87c684e3b0d8be13c1a698a818ef1e]\n",
       "link E3 to E4--><a href=\"psysml:3b6c166c-6961-4bb7-b892-e5bb88ba66d9\" target=\"_top\" title=\"psysml:3b6c166c-6961-4bb7-b892-e5bb88ba66d9\" xlink:actuate=\"onRequest\" xlink:href=\"psysml:3b6c166c-6961-4bb7-b892-e5bb88ba66d9\" xlink:show=\"new\" xlink:title=\"psysml:3b6c166c-6961-4bb7-b892-e5bb88ba66d9\" xlink:type=\"simple\"><path d=\"M382,216.82 C382,236.52 382,263.94 382,285.45 \" fill=\"none\" id=\"E3-&gt;E4\" style=\"stroke: #383838; stroke-width: 1.0; stroke-dasharray: 7.0,7.0;\"/><polygon fill=\"#383838\" points=\"382,293.67,385,285.67,379,285.67,382,293.67\" style=\"stroke: #383838; stroke-width: 1.0;\"/><text fill=\"#000000\" font-family=\"sans-serif\" font-size=\"13\" lengthAdjust=\"spacingAndGlyphs\" textLength=\"64\" x=\"383\" y=\"259.7869\">«depend»</text></a><!--MD5=[1b7591eae5389033d8d09a9d6721a717]\n",
       "link E4 to E5--><a href=\"psysml:f4ae8342-4685-4b6d-8549-04188d07c1c2\" target=\"_top\" title=\"psysml:f4ae8342-4685-4b6d-8549-04188d07c1c2\" xlink:actuate=\"onRequest\" xlink:href=\"psysml:f4ae8342-4685-4b6d-8549-04188d07c1c2\" xlink:show=\"new\" xlink:title=\"psysml:f4ae8342-4685-4b6d-8549-04188d07c1c2\" xlink:type=\"simple\"><path d=\"M382,346.82 C382,366.52 382,393.94 382,415.45 \" fill=\"none\" id=\"E4-&gt;E5\" style=\"stroke: #383838; stroke-width: 1.0; stroke-dasharray: 7.0,7.0;\"/><polygon fill=\"#383838\" points=\"382,423.67,385,415.67,379,415.67,382,423.67\" style=\"stroke: #383838; stroke-width: 1.0;\"/><text fill=\"#000000\" font-family=\"sans-serif\" font-size=\"13\" lengthAdjust=\"spacingAndGlyphs\" textLength=\"64\" x=\"383\" y=\"389.7869\">«depend»</text></a><!--MD5=[c5e8897d989ce984f93528998a7150fe]\n",
       "link E8 to E6--><a href=\"psysml:dd0e7371-702f-42f4-9a28-a8ea46c1187a\" target=\"_top\" title=\"psysml:dd0e7371-702f-42f4-9a28-a8ea46c1187a\" xlink:actuate=\"onRequest\" xlink:href=\"psysml:dd0e7371-702f-42f4-9a28-a8ea46c1187a\" xlink:show=\"new\" xlink:title=\"psysml:dd0e7371-702f-42f4-9a28-a8ea46c1187a\" xlink:type=\"simple\"><path d=\"M97.42,213.32 C87.35,222.4 77.37,233.83 72,246.72 C66.5,259.92 66.66,275.66 68.54,289.1 \" fill=\"none\" id=\"E8-&gt;E6\" style=\"stroke: #383838; stroke-width: 1.0; stroke-dasharray: 7.0,7.0;\"/><polygon fill=\"#383838\" points=\"69.9,297.12,71.517,288.7304,65.6018,289.7359,69.9,297.12\" style=\"stroke: #383838; stroke-width: 1.0;\"/><text fill=\"#000000\" font-family=\"sans-serif\" font-size=\"13\" lengthAdjust=\"spacingAndGlyphs\" textLength=\"64\" x=\"73\" y=\"259.7869\">«depend»</text></a><!--MD5=[bfa3c8b0d15052fdf50ae9310b491027]\n",
       "link E8 to E7--><a href=\"psysml:dd0e7371-702f-42f4-9a28-a8ea46c1187a\" target=\"_top\" title=\"psysml:dd0e7371-702f-42f4-9a28-a8ea46c1187a\" xlink:actuate=\"onRequest\" xlink:href=\"psysml:dd0e7371-702f-42f4-9a28-a8ea46c1187a\" xlink:show=\"new\" xlink:title=\"psysml:dd0e7371-702f-42f4-9a28-a8ea46c1187a\" xlink:type=\"simple\"><path d=\"M137.28,213.22 C146.17,234.29 159.64,266.22 169.47,289.53 \" fill=\"none\" id=\"E8-&gt;E7\" style=\"stroke: #383838; stroke-width: 1.0; stroke-dasharray: 7.0,7.0;\"/><polygon fill=\"#383838\" points=\"172.66,297.07,172.3241,288.5326,166.7933,290.8585,172.66,297.07\" style=\"stroke: #383838; stroke-width: 1.0;\"/><text fill=\"#000000\" font-family=\"sans-serif\" font-size=\"13\" lengthAdjust=\"spacingAndGlyphs\" textLength=\"64\" x=\"159\" y=\"259.7869\">«depend»</text></a><!--MD5=[426f865c5f20dfcdc5dfb75b6af1ccf6]\n",
       "@startuml\r\n",
       "skinparam monochrome true\r\n",
       "skinparam classbackgroundcolor white\r\n",
       "skinparam shadowing false\r\n",
       "skinparam wrapWidth 300\r\n",
       "hide circle\r\n",
       "\r\n",
       "package \"DependencyTest\" as E1  [[psysml:49f03030-de0c-4f13-ba7b-914972c61aaf ]]  {\r\n",
       "package \"System\" as E2  [[psysml:0a123ebf-9907-4602-8f86-a30c7447a6cf ]]  {\r\n",
       "package \"Application Layer\" as E3  [[psysml:fbc620fa-f332-480d-9302-6e81c218d767 ]]  {\r\n",
       "}\r\n",
       "package \"Service Layer\" as E4  [[psysml:426f0663-f125-4848-8cc6-b208ee541f23 ]]  {\r\n",
       "}\r\n",
       "package \"Data Layer\" as E5  [[psysml:fd3440a5-7307-47c9-b63e-e029b0e76f05 ]]  {\r\n",
       "}\r\n",
       "}\r\n",
       "comp usage \"x \" as E6  <<(T,blue) attribute>> [[psysml:0783b658-08bf-4abf-9182-ba1ece255f80 ]] {\r\n",
       "}\r\n",
       "comp usage \"y \" as E7  <<(T,blue) attribute>> [[psysml:00406d55-97a3-4ada-a9d4-67d88ef5929d ]] {\r\n",
       "}\r\n",
       "comp usage \"z \" as E8  <<(T,blue) attribute>> [[psysml:b610c4be-7598-4a50-a285-e23e2912f41a ]] {\r\n",
       "}\r\n",
       "}\r\n",
       "E1 ..> E2 [[psysml:1f214475-93e7-4d57-afd6-304a88df216d ]] : <<import>>*\r\n",
       "E3 ..>> E4 [[psysml:3b6c166c-6961-4bb7-b892-e5bb88ba66d9 ]] : <<depend>>\r\n",
       "E4 ..>> E5 [[psysml:f4ae8342-4685-4b6d-8549-04188d07c1c2 ]] : <<depend>>\r\n",
       "E8 ..>> E6 [[psysml:dd0e7371-702f-42f4-9a28-a8ea46c1187a ]] : <<depend>>\r\n",
       "E8 ..>> E7 [[psysml:dd0e7371-702f-42f4-9a28-a8ea46c1187a ]] : <<depend>>\r\n",
       "@enduml\r\n",
       "\n",
       "PlantUML version 1.2020.13(Sat Jun 13 12:26:38 UTC 2020)\n",
       "(EPL source distribution)\n",
       "Java Runtime: OpenJDK Runtime Environment\n",
       "JVM: OpenJDK 64-Bit Server VM\n",
       "Default Encoding: UTF-8\n",
       "Language: en\n",
       "Country: null\n",
       "--></g></svg>"
      ]
     },
     "execution_count": 37,
     "metadata": {},
     "output_type": "execute_result"
    }
   ],
   "source": [
    "%viz --style=\"DEFAULT\" --view=\"Default\" \"DependencyTest\""
   ]
  },
  {
   "cell_type": "code",
   "execution_count": 38,
   "id": "b67100f7",
   "metadata": {
    "execution": {
     "iopub.execute_input": "2022-03-03T09:55:01.018610Z",
     "iopub.status.busy": "2022-03-03T09:55:01.018028Z",
     "iopub.status.idle": "2022-03-03T09:55:01.048817Z",
     "shell.execute_reply": "2022-03-03T09:55:01.048436Z"
    }
   },
   "outputs": [
    {
     "data": {
      "image/svg+xml": [
       "<?xml version=\"1.0\" encoding=\"UTF-8\" standalone=\"no\"?><svg xmlns=\"http://www.w3.org/2000/svg\" xmlns:xlink=\"http://www.w3.org/1999/xlink\" contentScriptType=\"application/ecmascript\" contentStyleType=\"text/css\" height=\"552px\" preserveAspectRatio=\"none\" style=\"width:536px;height:552px;\" version=\"1.1\" viewBox=\"0 0 536 552\" width=\"536px\" zoomAndPan=\"magnify\"><defs/><g><!--MD5=[fbc87193dbaf4d95561dea2c320d4a47]\n",
       "cluster E1--><a href=\"psysml:49f03030-de0c-4f13-ba7b-914972c61aaf\" target=\"_top\" title=\"psysml:49f03030-de0c-4f13-ba7b-914972c61aaf\" xlink:actuate=\"onRequest\" xlink:href=\"psysml:49f03030-de0c-4f13-ba7b-914972c61aaf\" xlink:show=\"new\" xlink:title=\"psysml:49f03030-de0c-4f13-ba7b-914972c61aaf\" xlink:type=\"simple\"><polygon fill=\"#FFFFFF\" points=\"16,6,142,6,149,28.2969,514,28.2969,514,540.72,16,540.72,16,6\" style=\"stroke: #000000; stroke-width: 1.5;\"/><line style=\"stroke: #000000; stroke-width: 1.5;\" x1=\"16\" x2=\"149\" y1=\"28.2969\" y2=\"28.2969\"/><text fill=\"#000000\" font-family=\"sans-serif\" font-size=\"14\" font-weight=\"bold\" lengthAdjust=\"spacingAndGlyphs\" textLength=\"120\" x=\"20\" y=\"20.9951\">DependencyTest</text></a><!--MD5=[e4f7fae6ed58524ba242bb0b0d3be6b7]\n",
       "cluster E2--><a href=\"psysml:0a123ebf-9907-4602-8f86-a30c7447a6cf\" target=\"_top\" title=\"psysml:0a123ebf-9907-4602-8f86-a30c7447a6cf\" xlink:actuate=\"onRequest\" xlink:href=\"psysml:0a123ebf-9907-4602-8f86-a30c7447a6cf\" xlink:show=\"new\" xlink:title=\"psysml:0a123ebf-9907-4602-8f86-a30c7447a6cf\" xlink:type=\"simple\"><polygon fill=\"#FFFFFF\" points=\"271,120.72,328,120.72,335,143.0169,474,143.0169,474,500.72,271,500.72,271,120.72\" style=\"stroke: #000000; stroke-width: 1.5;\"/><line style=\"stroke: #000000; stroke-width: 1.5;\" x1=\"271\" x2=\"335\" y1=\"143.0169\" y2=\"143.0169\"/><text fill=\"#000000\" font-family=\"sans-serif\" font-size=\"14\" font-weight=\"bold\" lengthAdjust=\"spacingAndGlyphs\" textLength=\"51\" x=\"275\" y=\"135.7151\">System</text></a><!--MD5=[60a26617385b1d2d0262a64233df1f8d]\n",
       "class E6--><a href=\"psysml:0783b658-08bf-4abf-9182-ba1ece255f80\" target=\"_top\" title=\"psysml:0783b658-08bf-4abf-9182-ba1ece255f80\" xlink:actuate=\"onRequest\" xlink:href=\"psysml:0783b658-08bf-4abf-9182-ba1ece255f80\" xlink:show=\"new\" xlink:title=\"psysml:0783b658-08bf-4abf-9182-ba1ece255f80\" xlink:type=\"simple\"><rect fill=\"#FFFFFF\" height=\"45.9375\" id=\"E6\" rx=\"10\" ry=\"10\" style=\"stroke: #383838; stroke-width: 1.5;\" width=\"71\" x=\"40.5\" y=\"297.22\"/><text fill=\"#000000\" font-family=\"sans-serif\" font-size=\"12\" font-style=\"italic\" lengthAdjust=\"spacingAndGlyphs\" textLength=\"69\" x=\"41.5\" y=\"313.3587\">«attribute»</text><text fill=\"#000000\" font-family=\"sans-serif\" font-size=\"12\" lengthAdjust=\"spacingAndGlyphs\" textLength=\"6\" x=\"71\" y=\"327.3274\">x</text><line style=\"stroke: #383838; stroke-width: 1.5;\" x1=\"41.5\" x2=\"110.5\" y1=\"335.1575\" y2=\"335.1575\"/></a><!--MD5=[2156ba9850f5573cc1fc38a6a4b2f02b]\n",
       "class E7--><a href=\"psysml:00406d55-97a3-4ada-a9d4-67d88ef5929d\" target=\"_top\" title=\"psysml:00406d55-97a3-4ada-a9d4-67d88ef5929d\" xlink:actuate=\"onRequest\" xlink:href=\"psysml:00406d55-97a3-4ada-a9d4-67d88ef5929d\" xlink:show=\"new\" xlink:title=\"psysml:00406d55-97a3-4ada-a9d4-67d88ef5929d\" xlink:type=\"simple\"><rect fill=\"#FFFFFF\" height=\"45.9375\" id=\"E7\" rx=\"10\" ry=\"10\" style=\"stroke: #383838; stroke-width: 1.5;\" width=\"71\" x=\"146.5\" y=\"297.22\"/><text fill=\"#000000\" font-family=\"sans-serif\" font-size=\"12\" font-style=\"italic\" lengthAdjust=\"spacingAndGlyphs\" textLength=\"69\" x=\"147.5\" y=\"313.3587\">«attribute»</text><text fill=\"#000000\" font-family=\"sans-serif\" font-size=\"12\" lengthAdjust=\"spacingAndGlyphs\" textLength=\"6\" x=\"177\" y=\"327.3274\">y</text><line style=\"stroke: #383838; stroke-width: 1.5;\" x1=\"147.5\" x2=\"216.5\" y1=\"335.1575\" y2=\"335.1575\"/></a><!--MD5=[b9389687b975829384b498ac4b7476b2]\n",
       "class E8--><a href=\"psysml:b610c4be-7598-4a50-a285-e23e2912f41a\" target=\"_top\" title=\"psysml:b610c4be-7598-4a50-a285-e23e2912f41a\" xlink:actuate=\"onRequest\" xlink:href=\"psysml:b610c4be-7598-4a50-a285-e23e2912f41a\" xlink:show=\"new\" xlink:title=\"psysml:b610c4be-7598-4a50-a285-e23e2912f41a\" xlink:type=\"simple\"><rect fill=\"#FFFFFF\" height=\"45.9375\" id=\"E8\" rx=\"10\" ry=\"10\" style=\"stroke: #383838; stroke-width: 1.5;\" width=\"71\" x=\"92.5\" y=\"167.22\"/><text fill=\"#000000\" font-family=\"sans-serif\" font-size=\"12\" font-style=\"italic\" lengthAdjust=\"spacingAndGlyphs\" textLength=\"69\" x=\"93.5\" y=\"183.3587\">«attribute»</text><text fill=\"#000000\" font-family=\"sans-serif\" font-size=\"12\" lengthAdjust=\"spacingAndGlyphs\" textLength=\"5\" x=\"123.5\" y=\"197.3274\">z</text><line style=\"stroke: #383838; stroke-width: 1.5;\" x1=\"93.5\" x2=\"162.5\" y1=\"205.1575\" y2=\"205.1575\"/></a><a href=\"psysml:fbc620fa-f332-480d-9302-6e81c218d767\" target=\"_top\" title=\"psysml:fbc620fa-f332-480d-9302-6e81c218d767\" xlink:actuate=\"onRequest\" xlink:href=\"psysml:fbc620fa-f332-480d-9302-6e81c218d767\" xlink:show=\"new\" xlink:title=\"psysml:fbc620fa-f332-480d-9302-6e81c218d767\" xlink:type=\"simple\"><polygon fill=\"#FFFFFF\" points=\"314.5,163.72,435.5,163.72,442.5,186.0169,449.5,186.0169,449.5,216.3138,314.5,216.3138,314.5,163.72\" style=\"stroke: #000000; stroke-width: 1.5;\"/><line style=\"stroke: #000000; stroke-width: 1.5;\" x1=\"314.5\" x2=\"442.5\" y1=\"186.0169\" y2=\"186.0169\"/><text fill=\"#000000\" font-family=\"sans-serif\" font-size=\"14\" font-weight=\"bold\" lengthAdjust=\"spacingAndGlyphs\" textLength=\"115\" x=\"318.5\" y=\"178.7151\">Application Layer</text></a><a href=\"psysml:426f0663-f125-4848-8cc6-b208ee541f23\" target=\"_top\" title=\"psysml:426f0663-f125-4848-8cc6-b208ee541f23\" xlink:actuate=\"onRequest\" xlink:href=\"psysml:426f0663-f125-4848-8cc6-b208ee541f23\" xlink:show=\"new\" xlink:title=\"psysml:426f0663-f125-4848-8cc6-b208ee541f23\" xlink:type=\"simple\"><polygon fill=\"#FFFFFF\" points=\"327,293.72,423,293.72,430,316.0169,437,316.0169,437,346.3138,327,346.3138,327,293.72\" style=\"stroke: #000000; stroke-width: 1.5;\"/><line style=\"stroke: #000000; stroke-width: 1.5;\" x1=\"327\" x2=\"430\" y1=\"316.0169\" y2=\"316.0169\"/><text fill=\"#000000\" font-family=\"sans-serif\" font-size=\"14\" font-weight=\"bold\" lengthAdjust=\"spacingAndGlyphs\" textLength=\"90\" x=\"331\" y=\"308.7151\">Service Layer</text></a><a href=\"psysml:fd3440a5-7307-47c9-b63e-e029b0e76f05\" target=\"_top\" title=\"psysml:fd3440a5-7307-47c9-b63e-e029b0e76f05\" xlink:actuate=\"onRequest\" xlink:href=\"psysml:fd3440a5-7307-47c9-b63e-e029b0e76f05\" xlink:show=\"new\" xlink:title=\"psysml:fd3440a5-7307-47c9-b63e-e029b0e76f05\" xlink:type=\"simple\"><polygon fill=\"#FFFFFF\" points=\"336,423.72,414,423.72,421,446.0169,428,446.0169,428,476.3138,336,476.3138,336,423.72\" style=\"stroke: #000000; stroke-width: 1.5;\"/><line style=\"stroke: #000000; stroke-width: 1.5;\" x1=\"336\" x2=\"421\" y1=\"446.0169\" y2=\"446.0169\"/><text fill=\"#000000\" font-family=\"sans-serif\" font-size=\"14\" font-weight=\"bold\" lengthAdjust=\"spacingAndGlyphs\" textLength=\"72\" x=\"340\" y=\"438.7151\">Data Layer</text></a><!--MD5=[1f1cd8e6dd4c1b2ca2aaccc9b9bcea6e]\n",
       "link E1 to E2--><a href=\"psysml:1f214475-93e7-4d57-afd6-304a88df216d\" target=\"_top\" title=\"psysml:1f214475-93e7-4d57-afd6-304a88df216d\" xlink:actuate=\"onRequest\" xlink:href=\"psysml:1f214475-93e7-4d57-afd6-304a88df216d\" xlink:show=\"new\" xlink:title=\"psysml:1f214475-93e7-4d57-afd6-304a88df216d\" xlink:type=\"simple\"><path d=\"M279,33.83 C279,36.15 279,73.83 279,111.5 C279,113.8544 279,116.2087 279,118.5544 C279,119.1408 279,119.7267 279,120.3119 \" fill=\"none\" id=\"E1-&gt;E2\" style=\"stroke: #383838; stroke-width: 1.0; stroke-dasharray: 7.0,7.0;\"/><polygon fill=\"#383838\" points=\"279,120.3119,283,111.3119,279,115.3119,275,111.3119,279,120.3119\" style=\"stroke: #383838; stroke-width: 1.0;\"/><text fill=\"#000000\" font-family=\"sans-serif\" font-size=\"13\" lengthAdjust=\"spacingAndGlyphs\" textLength=\"65\" x=\"280\" y=\"76.7869\">«import»*</text></a><!--MD5=[af87c684e3b0d8be13c1a698a818ef1e]\n",
       "link E3 to E4--><a href=\"psysml:3b6c166c-6961-4bb7-b892-e5bb88ba66d9\" target=\"_top\" title=\"psysml:3b6c166c-6961-4bb7-b892-e5bb88ba66d9\" xlink:actuate=\"onRequest\" xlink:href=\"psysml:3b6c166c-6961-4bb7-b892-e5bb88ba66d9\" xlink:show=\"new\" xlink:title=\"psysml:3b6c166c-6961-4bb7-b892-e5bb88ba66d9\" xlink:type=\"simple\"><path d=\"M382,216.82 C382,236.52 382,263.94 382,285.45 \" fill=\"none\" id=\"E3-&gt;E4\" style=\"stroke: #383838; stroke-width: 1.0; stroke-dasharray: 7.0,7.0;\"/><polygon fill=\"#383838\" points=\"382,293.67,385,285.67,379,285.67,382,293.67\" style=\"stroke: #383838; stroke-width: 1.0;\"/><text fill=\"#000000\" font-family=\"sans-serif\" font-size=\"13\" lengthAdjust=\"spacingAndGlyphs\" textLength=\"64\" x=\"383\" y=\"259.7869\">«depend»</text></a><!--MD5=[1b7591eae5389033d8d09a9d6721a717]\n",
       "link E4 to E5--><a href=\"psysml:f4ae8342-4685-4b6d-8549-04188d07c1c2\" target=\"_top\" title=\"psysml:f4ae8342-4685-4b6d-8549-04188d07c1c2\" xlink:actuate=\"onRequest\" xlink:href=\"psysml:f4ae8342-4685-4b6d-8549-04188d07c1c2\" xlink:show=\"new\" xlink:title=\"psysml:f4ae8342-4685-4b6d-8549-04188d07c1c2\" xlink:type=\"simple\"><path d=\"M382,346.82 C382,366.52 382,393.94 382,415.45 \" fill=\"none\" id=\"E4-&gt;E5\" style=\"stroke: #383838; stroke-width: 1.0; stroke-dasharray: 7.0,7.0;\"/><polygon fill=\"#383838\" points=\"382,423.67,385,415.67,379,415.67,382,423.67\" style=\"stroke: #383838; stroke-width: 1.0;\"/><text fill=\"#000000\" font-family=\"sans-serif\" font-size=\"13\" lengthAdjust=\"spacingAndGlyphs\" textLength=\"64\" x=\"383\" y=\"389.7869\">«depend»</text></a><!--MD5=[c5e8897d989ce984f93528998a7150fe]\n",
       "link E8 to E6--><a href=\"psysml:dd0e7371-702f-42f4-9a28-a8ea46c1187a\" target=\"_top\" title=\"psysml:dd0e7371-702f-42f4-9a28-a8ea46c1187a\" xlink:actuate=\"onRequest\" xlink:href=\"psysml:dd0e7371-702f-42f4-9a28-a8ea46c1187a\" xlink:show=\"new\" xlink:title=\"psysml:dd0e7371-702f-42f4-9a28-a8ea46c1187a\" xlink:type=\"simple\"><path d=\"M97.42,213.32 C87.35,222.4 77.37,233.83 72,246.72 C66.5,259.92 66.66,275.66 68.54,289.1 \" fill=\"none\" id=\"E8-&gt;E6\" style=\"stroke: #383838; stroke-width: 1.0; stroke-dasharray: 7.0,7.0;\"/><polygon fill=\"#383838\" points=\"69.9,297.12,71.517,288.7304,65.6018,289.7359,69.9,297.12\" style=\"stroke: #383838; stroke-width: 1.0;\"/><text fill=\"#000000\" font-family=\"sans-serif\" font-size=\"13\" lengthAdjust=\"spacingAndGlyphs\" textLength=\"64\" x=\"73\" y=\"259.7869\">«depend»</text></a><!--MD5=[bfa3c8b0d15052fdf50ae9310b491027]\n",
       "link E8 to E7--><a href=\"psysml:dd0e7371-702f-42f4-9a28-a8ea46c1187a\" target=\"_top\" title=\"psysml:dd0e7371-702f-42f4-9a28-a8ea46c1187a\" xlink:actuate=\"onRequest\" xlink:href=\"psysml:dd0e7371-702f-42f4-9a28-a8ea46c1187a\" xlink:show=\"new\" xlink:title=\"psysml:dd0e7371-702f-42f4-9a28-a8ea46c1187a\" xlink:type=\"simple\"><path d=\"M137.28,213.22 C146.17,234.29 159.64,266.22 169.47,289.53 \" fill=\"none\" id=\"E8-&gt;E7\" style=\"stroke: #383838; stroke-width: 1.0; stroke-dasharray: 7.0,7.0;\"/><polygon fill=\"#383838\" points=\"172.66,297.07,172.3241,288.5326,166.7933,290.8585,172.66,297.07\" style=\"stroke: #383838; stroke-width: 1.0;\"/><text fill=\"#000000\" font-family=\"sans-serif\" font-size=\"13\" lengthAdjust=\"spacingAndGlyphs\" textLength=\"64\" x=\"159\" y=\"259.7869\">«depend»</text></a><!--MD5=[426f865c5f20dfcdc5dfb75b6af1ccf6]\n",
       "@startuml\r\n",
       "skinparam monochrome true\r\n",
       "skinparam classbackgroundcolor white\r\n",
       "skinparam shadowing false\r\n",
       "skinparam wrapWidth 300\r\n",
       "hide circle\r\n",
       "\r\n",
       "package \"DependencyTest\" as E1  [[psysml:49f03030-de0c-4f13-ba7b-914972c61aaf ]]  {\r\n",
       "package \"System\" as E2  [[psysml:0a123ebf-9907-4602-8f86-a30c7447a6cf ]]  {\r\n",
       "package \"Application Layer\" as E3  [[psysml:fbc620fa-f332-480d-9302-6e81c218d767 ]]  {\r\n",
       "}\r\n",
       "package \"Service Layer\" as E4  [[psysml:426f0663-f125-4848-8cc6-b208ee541f23 ]]  {\r\n",
       "}\r\n",
       "package \"Data Layer\" as E5  [[psysml:fd3440a5-7307-47c9-b63e-e029b0e76f05 ]]  {\r\n",
       "}\r\n",
       "}\r\n",
       "comp usage \"x \" as E6  <<(T,blue) attribute>> [[psysml:0783b658-08bf-4abf-9182-ba1ece255f80 ]] {\r\n",
       "}\r\n",
       "comp usage \"y \" as E7  <<(T,blue) attribute>> [[psysml:00406d55-97a3-4ada-a9d4-67d88ef5929d ]] {\r\n",
       "}\r\n",
       "comp usage \"z \" as E8  <<(T,blue) attribute>> [[psysml:b610c4be-7598-4a50-a285-e23e2912f41a ]] {\r\n",
       "}\r\n",
       "}\r\n",
       "E1 ..> E2 [[psysml:1f214475-93e7-4d57-afd6-304a88df216d ]] : <<import>>*\r\n",
       "E3 ..>> E4 [[psysml:3b6c166c-6961-4bb7-b892-e5bb88ba66d9 ]] : <<depend>>\r\n",
       "E4 ..>> E5 [[psysml:f4ae8342-4685-4b6d-8549-04188d07c1c2 ]] : <<depend>>\r\n",
       "E8 ..>> E6 [[psysml:dd0e7371-702f-42f4-9a28-a8ea46c1187a ]] : <<depend>>\r\n",
       "E8 ..>> E7 [[psysml:dd0e7371-702f-42f4-9a28-a8ea46c1187a ]] : <<depend>>\r\n",
       "@enduml\r\n",
       "\n",
       "PlantUML version 1.2020.13(Sat Jun 13 12:26:38 UTC 2020)\n",
       "(EPL source distribution)\n",
       "Java Runtime: OpenJDK Runtime Environment\n",
       "JVM: OpenJDK 64-Bit Server VM\n",
       "Default Encoding: UTF-8\n",
       "Language: en\n",
       "Country: null\n",
       "--></g></svg>"
      ]
     },
     "execution_count": 38,
     "metadata": {},
     "output_type": "execute_result"
    }
   ],
   "source": [
    "%viz --style=\"DEFAULT\" --view=\"Tree\" \"DependencyTest\""
   ]
  },
  {
   "cell_type": "code",
   "execution_count": 39,
   "id": "d66855d8",
   "metadata": {
    "execution": {
     "iopub.execute_input": "2022-03-03T09:55:01.098419Z",
     "iopub.status.busy": "2022-03-03T09:55:01.098006Z",
     "iopub.status.idle": "2022-03-03T09:55:01.103208Z",
     "shell.execute_reply": "2022-03-03T09:55:01.102870Z"
    }
   },
   "outputs": [
    {
     "data": {
      "image/svg+xml": [
       "<?xml version=\"1.0\" encoding=\"UTF-8\" standalone=\"no\"?><svg xmlns=\"http://www.w3.org/2000/svg\" xmlns:xlink=\"http://www.w3.org/1999/xlink\" contentScriptType=\"application/ecmascript\" contentStyleType=\"text/css\" height=\"12px\" preserveAspectRatio=\"none\" style=\"width:12px;height:12px;\" version=\"1.1\" viewBox=\"0 0 12 12\" width=\"12px\" zoomAndPan=\"magnify\"><defs/><g><!--MD5=[c5f280e076d0d61ccf4b0f27871bda1d]\n",
       "@startuml\r\n",
       "skinparam monochrome true\r\n",
       "skinparam classbackgroundcolor white\r\n",
       "skinparam shadowing false\r\n",
       "skinparam wrapWidth 300\r\n",
       "hide circle\r\n",
       "\r\n",
       "@enduml\r\n",
       "\n",
       "PlantUML version 1.2020.13(Sat Jun 13 12:26:38 UTC 2020)\n",
       "(EPL source distribution)\n",
       "Java Runtime: OpenJDK Runtime Environment\n",
       "JVM: OpenJDK 64-Bit Server VM\n",
       "Default Encoding: UTF-8\n",
       "Language: en\n",
       "Country: null\n",
       "--></g></svg>"
      ]
     },
     "execution_count": 39,
     "metadata": {},
     "output_type": "execute_result"
    }
   ],
   "source": [
    "%viz --style=\"DEFAULT\" --view=\"State\" \"DependencyTest\""
   ]
  },
  {
   "cell_type": "code",
   "execution_count": 40,
   "id": "9e7a951d",
   "metadata": {
    "execution": {
     "iopub.execute_input": "2022-03-03T09:55:01.153401Z",
     "iopub.status.busy": "2022-03-03T09:55:01.152965Z",
     "iopub.status.idle": "2022-03-03T09:55:01.196974Z",
     "shell.execute_reply": "2022-03-03T09:55:01.194742Z"
    }
   },
   "outputs": [
    {
     "data": {
      "image/svg+xml": [
       "<?xml version=\"1.0\" encoding=\"UTF-8\" standalone=\"no\"?><svg xmlns=\"http://www.w3.org/2000/svg\" xmlns:xlink=\"http://www.w3.org/1999/xlink\" contentScriptType=\"application/ecmascript\" contentStyleType=\"text/css\" height=\"442px\" preserveAspectRatio=\"none\" style=\"width:536px;height:442px;\" version=\"1.1\" viewBox=\"0 0 536 442\" width=\"536px\" zoomAndPan=\"magnify\"><defs/><g><!--MD5=[fbc87193dbaf4d95561dea2c320d4a47]\n",
       "cluster E1--><a href=\"psysml:49f03030-de0c-4f13-ba7b-914972c61aaf\" target=\"_top\" title=\"psysml:49f03030-de0c-4f13-ba7b-914972c61aaf\" xlink:actuate=\"onRequest\" xlink:href=\"psysml:49f03030-de0c-4f13-ba7b-914972c61aaf\" xlink:show=\"new\" xlink:title=\"psysml:49f03030-de0c-4f13-ba7b-914972c61aaf\" xlink:type=\"simple\"><polygon fill=\"#FFFFFF\" points=\"16,6,142,6,149,28.2969,514,28.2969,514,430.72,16,430.72,16,6\" style=\"stroke: #000000; stroke-width: 1.5;\"/><line style=\"stroke: #000000; stroke-width: 1.5;\" x1=\"16\" x2=\"149\" y1=\"28.2969\" y2=\"28.2969\"/><text fill=\"#000000\" font-family=\"sans-serif\" font-size=\"14\" font-weight=\"bold\" lengthAdjust=\"spacingAndGlyphs\" textLength=\"120\" x=\"20\" y=\"20.9951\">DependencyTest</text></a><!--MD5=[e4f7fae6ed58524ba242bb0b0d3be6b7]\n",
       "cluster E2--><a href=\"psysml:0a123ebf-9907-4602-8f86-a30c7447a6cf\" target=\"_top\" title=\"psysml:0a123ebf-9907-4602-8f86-a30c7447a6cf\" xlink:actuate=\"onRequest\" xlink:href=\"psysml:0a123ebf-9907-4602-8f86-a30c7447a6cf\" xlink:show=\"new\" xlink:title=\"psysml:0a123ebf-9907-4602-8f86-a30c7447a6cf\" xlink:type=\"simple\"><polygon fill=\"#FFFFFF\" points=\"271,98.72,328,98.72,335,121.0169,474,121.0169,474,390.72,271,390.72,271,98.72\" style=\"stroke: #000000; stroke-width: 1.5;\"/><line style=\"stroke: #000000; stroke-width: 1.5;\" x1=\"271\" x2=\"335\" y1=\"121.0169\" y2=\"121.0169\"/><text fill=\"#000000\" font-family=\"sans-serif\" font-size=\"14\" font-weight=\"bold\" lengthAdjust=\"spacingAndGlyphs\" textLength=\"51\" x=\"275\" y=\"113.7151\">System</text></a><!--MD5=[60a26617385b1d2d0262a64233df1f8d]\n",
       "class E6--><a href=\"psysml:0783b658-08bf-4abf-9182-ba1ece255f80\" target=\"_top\" title=\"psysml:0783b658-08bf-4abf-9182-ba1ece255f80\" xlink:actuate=\"onRequest\" xlink:href=\"psysml:0783b658-08bf-4abf-9182-ba1ece255f80\" xlink:show=\"new\" xlink:title=\"psysml:0783b658-08bf-4abf-9182-ba1ece255f80\" xlink:type=\"simple\"><rect fill=\"#FFFFFF\" height=\"45.9375\" id=\"E6\" rx=\"10\" ry=\"10\" style=\"stroke: #383838; stroke-width: 1.5;\" width=\"71\" x=\"40.5\" y=\"231.22\"/><text fill=\"#000000\" font-family=\"sans-serif\" font-size=\"12\" font-style=\"italic\" lengthAdjust=\"spacingAndGlyphs\" textLength=\"69\" x=\"41.5\" y=\"247.3587\">«attribute»</text><text fill=\"#000000\" font-family=\"sans-serif\" font-size=\"12\" lengthAdjust=\"spacingAndGlyphs\" textLength=\"6\" x=\"71\" y=\"261.3274\">x</text><line style=\"stroke: #383838; stroke-width: 1.5;\" x1=\"41.5\" x2=\"110.5\" y1=\"269.1575\" y2=\"269.1575\"/></a><!--MD5=[2156ba9850f5573cc1fc38a6a4b2f02b]\n",
       "class E7--><a href=\"psysml:00406d55-97a3-4ada-a9d4-67d88ef5929d\" target=\"_top\" title=\"psysml:00406d55-97a3-4ada-a9d4-67d88ef5929d\" xlink:actuate=\"onRequest\" xlink:href=\"psysml:00406d55-97a3-4ada-a9d4-67d88ef5929d\" xlink:show=\"new\" xlink:title=\"psysml:00406d55-97a3-4ada-a9d4-67d88ef5929d\" xlink:type=\"simple\"><rect fill=\"#FFFFFF\" height=\"45.9375\" id=\"E7\" rx=\"10\" ry=\"10\" style=\"stroke: #383838; stroke-width: 1.5;\" width=\"71\" x=\"146.5\" y=\"231.22\"/><text fill=\"#000000\" font-family=\"sans-serif\" font-size=\"12\" font-style=\"italic\" lengthAdjust=\"spacingAndGlyphs\" textLength=\"69\" x=\"147.5\" y=\"247.3587\">«attribute»</text><text fill=\"#000000\" font-family=\"sans-serif\" font-size=\"12\" lengthAdjust=\"spacingAndGlyphs\" textLength=\"6\" x=\"177\" y=\"261.3274\">y</text><line style=\"stroke: #383838; stroke-width: 1.5;\" x1=\"147.5\" x2=\"216.5\" y1=\"269.1575\" y2=\"269.1575\"/></a><!--MD5=[b9389687b975829384b498ac4b7476b2]\n",
       "class E8--><a href=\"psysml:b610c4be-7598-4a50-a285-e23e2912f41a\" target=\"_top\" title=\"psysml:b610c4be-7598-4a50-a285-e23e2912f41a\" xlink:actuate=\"onRequest\" xlink:href=\"psysml:b610c4be-7598-4a50-a285-e23e2912f41a\" xlink:show=\"new\" xlink:title=\"psysml:b610c4be-7598-4a50-a285-e23e2912f41a\" xlink:type=\"simple\"><rect fill=\"#FFFFFF\" height=\"45.9375\" id=\"E8\" rx=\"10\" ry=\"10\" style=\"stroke: #383838; stroke-width: 1.5;\" width=\"71\" x=\"92.5\" y=\"145.22\"/><text fill=\"#000000\" font-family=\"sans-serif\" font-size=\"12\" font-style=\"italic\" lengthAdjust=\"spacingAndGlyphs\" textLength=\"69\" x=\"93.5\" y=\"161.3587\">«attribute»</text><text fill=\"#000000\" font-family=\"sans-serif\" font-size=\"12\" lengthAdjust=\"spacingAndGlyphs\" textLength=\"5\" x=\"123.5\" y=\"175.3274\">z</text><line style=\"stroke: #383838; stroke-width: 1.5;\" x1=\"93.5\" x2=\"162.5\" y1=\"183.1575\" y2=\"183.1575\"/></a><a href=\"psysml:fbc620fa-f332-480d-9302-6e81c218d767\" target=\"_top\" title=\"psysml:fbc620fa-f332-480d-9302-6e81c218d767\" xlink:actuate=\"onRequest\" xlink:href=\"psysml:fbc620fa-f332-480d-9302-6e81c218d767\" xlink:show=\"new\" xlink:title=\"psysml:fbc620fa-f332-480d-9302-6e81c218d767\" xlink:type=\"simple\"><polygon fill=\"#FFFFFF\" points=\"314.5,141.72,435.5,141.72,442.5,164.0169,449.5,164.0169,449.5,194.3138,314.5,194.3138,314.5,141.72\" style=\"stroke: #000000; stroke-width: 1.5;\"/><line style=\"stroke: #000000; stroke-width: 1.5;\" x1=\"314.5\" x2=\"442.5\" y1=\"164.0169\" y2=\"164.0169\"/><text fill=\"#000000\" font-family=\"sans-serif\" font-size=\"14\" font-weight=\"bold\" lengthAdjust=\"spacingAndGlyphs\" textLength=\"115\" x=\"318.5\" y=\"156.7151\">Application Layer</text></a><a href=\"psysml:426f0663-f125-4848-8cc6-b208ee541f23\" target=\"_top\" title=\"psysml:426f0663-f125-4848-8cc6-b208ee541f23\" xlink:actuate=\"onRequest\" xlink:href=\"psysml:426f0663-f125-4848-8cc6-b208ee541f23\" xlink:show=\"new\" xlink:title=\"psysml:426f0663-f125-4848-8cc6-b208ee541f23\" xlink:type=\"simple\"><polygon fill=\"#FFFFFF\" points=\"327,227.72,423,227.72,430,250.0169,437,250.0169,437,280.3138,327,280.3138,327,227.72\" style=\"stroke: #000000; stroke-width: 1.5;\"/><line style=\"stroke: #000000; stroke-width: 1.5;\" x1=\"327\" x2=\"430\" y1=\"250.0169\" y2=\"250.0169\"/><text fill=\"#000000\" font-family=\"sans-serif\" font-size=\"14\" font-weight=\"bold\" lengthAdjust=\"spacingAndGlyphs\" textLength=\"90\" x=\"331\" y=\"242.7151\">Service Layer</text></a><a href=\"psysml:fd3440a5-7307-47c9-b63e-e029b0e76f05\" target=\"_top\" title=\"psysml:fd3440a5-7307-47c9-b63e-e029b0e76f05\" xlink:actuate=\"onRequest\" xlink:href=\"psysml:fd3440a5-7307-47c9-b63e-e029b0e76f05\" xlink:show=\"new\" xlink:title=\"psysml:fd3440a5-7307-47c9-b63e-e029b0e76f05\" xlink:type=\"simple\"><polygon fill=\"#FFFFFF\" points=\"336,313.72,414,313.72,421,336.0169,428,336.0169,428,366.3138,336,366.3138,336,313.72\" style=\"stroke: #000000; stroke-width: 1.5;\"/><line style=\"stroke: #000000; stroke-width: 1.5;\" x1=\"336\" x2=\"421\" y1=\"336.0169\" y2=\"336.0169\"/><text fill=\"#000000\" font-family=\"sans-serif\" font-size=\"14\" font-weight=\"bold\" lengthAdjust=\"spacingAndGlyphs\" textLength=\"72\" x=\"340\" y=\"328.7151\">Data Layer</text></a><!--MD5=[1f1cd8e6dd4c1b2ca2aaccc9b9bcea6e]\n",
       "link E1 to E2--><a href=\"psysml:1f214475-93e7-4d57-afd6-304a88df216d\" target=\"_top\" title=\"psysml:1f214475-93e7-4d57-afd6-304a88df216d\" xlink:actuate=\"onRequest\" xlink:href=\"psysml:1f214475-93e7-4d57-afd6-304a88df216d\" xlink:show=\"new\" xlink:title=\"psysml:1f214475-93e7-4d57-afd6-304a88df216d\" xlink:type=\"simple\"><path d=\"M279,33.82 C279,34.815 279,43.3994 279,55.7775 C279,61.9666 279,69.1041 279,76.7155 C279,80.5213 279,84.4455 279,88.429 C279,90.4207 279,92.4272 279,94.4411 C279,95.448 279,96.4568 279,97.4665 C279,97.719 279,97.9714 279,98.224 \" fill=\"none\" id=\"E1-&gt;E2\" style=\"stroke: #383838; stroke-width: 1.0; stroke-dasharray: 7.0,7.0;\"/><polygon fill=\"#383838\" points=\"279,98.224,283,89.224,279,93.224,275,89.224,279,98.224\" style=\"stroke: #383838; stroke-width: 1.0;\"/><text fill=\"#000000\" font-family=\"sans-serif\" font-size=\"13\" lengthAdjust=\"spacingAndGlyphs\" textLength=\"65\" x=\"280\" y=\"54.7869\">«import»*</text></a><!--MD5=[af87c684e3b0d8be13c1a698a818ef1e]\n",
       "link E3 to E4--><a href=\"psysml:3b6c166c-6961-4bb7-b892-e5bb88ba66d9\" target=\"_top\" title=\"psysml:3b6c166c-6961-4bb7-b892-e5bb88ba66d9\" xlink:actuate=\"onRequest\" xlink:href=\"psysml:3b6c166c-6961-4bb7-b892-e5bb88ba66d9\" xlink:show=\"new\" xlink:title=\"psysml:3b6c166c-6961-4bb7-b892-e5bb88ba66d9\" xlink:type=\"simple\"><path d=\"M382,194.88 C382,202.7 382,211.41 382,219.66 \" fill=\"none\" id=\"E3-&gt;E4\" style=\"stroke: #383838; stroke-width: 1.0; stroke-dasharray: 7.0,7.0;\"/><polygon fill=\"#383838\" points=\"382,227.72,385,219.72,379,219.72,382,227.72\" style=\"stroke: #383838; stroke-width: 1.0;\"/><text fill=\"#000000\" font-family=\"sans-serif\" font-size=\"13\" lengthAdjust=\"spacingAndGlyphs\" textLength=\"64\" x=\"383\" y=\"215.7869\">«depend»</text></a><!--MD5=[1b7591eae5389033d8d09a9d6721a717]\n",
       "link E4 to E5--><a href=\"psysml:f4ae8342-4685-4b6d-8549-04188d07c1c2\" target=\"_top\" title=\"psysml:f4ae8342-4685-4b6d-8549-04188d07c1c2\" xlink:actuate=\"onRequest\" xlink:href=\"psysml:f4ae8342-4685-4b6d-8549-04188d07c1c2\" xlink:show=\"new\" xlink:title=\"psysml:f4ae8342-4685-4b6d-8549-04188d07c1c2\" xlink:type=\"simple\"><path d=\"M382,280.88 C382,288.7 382,297.41 382,305.66 \" fill=\"none\" id=\"E4-&gt;E5\" style=\"stroke: #383838; stroke-width: 1.0; stroke-dasharray: 7.0,7.0;\"/><polygon fill=\"#383838\" points=\"382,313.72,385,305.72,379,305.72,382,313.72\" style=\"stroke: #383838; stroke-width: 1.0;\"/><text fill=\"#000000\" font-family=\"sans-serif\" font-size=\"13\" lengthAdjust=\"spacingAndGlyphs\" textLength=\"64\" x=\"383\" y=\"301.7869\">«depend»</text></a><!--MD5=[c5e8897d989ce984f93528998a7150fe]\n",
       "link E8 to E6--><a href=\"psysml:dd0e7371-702f-42f4-9a28-a8ea46c1187a\" target=\"_top\" title=\"psysml:dd0e7371-702f-42f4-9a28-a8ea46c1187a\" xlink:actuate=\"onRequest\" xlink:href=\"psysml:dd0e7371-702f-42f4-9a28-a8ea46c1187a\" xlink:show=\"new\" xlink:title=\"psysml:dd0e7371-702f-42f4-9a28-a8ea46c1187a\" xlink:type=\"simple\"><path d=\"M92.49,183.06 C84.34,187.99 76.69,194.44 72,202.72 C68.54,208.82 67.62,216.03 68,223.05 \" fill=\"none\" id=\"E8-&gt;E6\" style=\"stroke: #383838; stroke-width: 1.0; stroke-dasharray: 7.0,7.0;\"/><polygon fill=\"#383838\" points=\"68.97,231.14,71.0061,222.8421,65.0479,223.5494,68.97,231.14\" style=\"stroke: #383838; stroke-width: 1.0;\"/><text fill=\"#000000\" font-family=\"sans-serif\" font-size=\"13\" lengthAdjust=\"spacingAndGlyphs\" textLength=\"64\" x=\"73\" y=\"215.7869\">«depend»</text></a><!--MD5=[bfa3c8b0d15052fdf50ae9310b491027]\n",
       "link E8 to E7--><a href=\"psysml:dd0e7371-702f-42f4-9a28-a8ea46c1187a\" target=\"_top\" title=\"psysml:dd0e7371-702f-42f4-9a28-a8ea46c1187a\" xlink:actuate=\"onRequest\" xlink:href=\"psysml:dd0e7371-702f-42f4-9a28-a8ea46c1187a\" xlink:show=\"new\" xlink:title=\"psysml:dd0e7371-702f-42f4-9a28-a8ea46c1187a\" xlink:type=\"simple\"><path d=\"M142.19,191.29 C148.65,201.34 156.38,213.37 163.31,224.14 \" fill=\"none\" id=\"E8-&gt;E7\" style=\"stroke: #383838; stroke-width: 1.0; stroke-dasharray: 7.0,7.0;\"/><polygon fill=\"#383838\" points=\"167.72,231.01,165.9148,222.6589,160.8688,225.905,167.72,231.01\" style=\"stroke: #383838; stroke-width: 1.0;\"/><text fill=\"#000000\" font-family=\"sans-serif\" font-size=\"13\" lengthAdjust=\"spacingAndGlyphs\" textLength=\"64\" x=\"160\" y=\"215.7869\">«depend»</text></a><!--MD5=[014c473bc9c5fc4819472a55f1e49f4d]\n",
       "@startuml\r\n",
       "skinparam ranksep 10\r\n",
       "skinparam rectangle {\r\n",
       " backgroundColor<<block>> LightGreen\r\n",
       "}\r\n",
       "skinparam monochrome true\r\n",
       "skinparam classbackgroundcolor white\r\n",
       "skinparam shadowing false\r\n",
       "skinparam wrapWidth 300\r\n",
       "hide circle\r\n",
       "\r\n",
       "package \"DependencyTest\" as E1  [[psysml:49f03030-de0c-4f13-ba7b-914972c61aaf ]]  {\r\n",
       "package \"System\" as E2  [[psysml:0a123ebf-9907-4602-8f86-a30c7447a6cf ]]  {\r\n",
       "package \"Application Layer\" as E3  [[psysml:fbc620fa-f332-480d-9302-6e81c218d767 ]]  {\r\n",
       "}\r\n",
       "package \"Service Layer\" as E4  [[psysml:426f0663-f125-4848-8cc6-b208ee541f23 ]]  {\r\n",
       "}\r\n",
       "package \"Data Layer\" as E5  [[psysml:fd3440a5-7307-47c9-b63e-e029b0e76f05 ]]  {\r\n",
       "}\r\n",
       "}\r\n",
       "comp usage \"x \" as E6  <<(T,blue) attribute>> [[psysml:0783b658-08bf-4abf-9182-ba1ece255f80 ]] {\r\n",
       "}\r\n",
       "comp usage \"y \" as E7  <<(T,blue) attribute>> [[psysml:00406d55-97a3-4ada-a9d4-67d88ef5929d ]] {\r\n",
       "}\r\n",
       "comp usage \"z \" as E8  <<(T,blue) attribute>> [[psysml:b610c4be-7598-4a50-a285-e23e2912f41a ]] {\r\n",
       "}\r\n",
       "}\r\n",
       "E1 ..> E2 [[psysml:1f214475-93e7-4d57-afd6-304a88df216d ]] : <<import>>*\r\n",
       "E3 ..>> E4 [[psysml:3b6c166c-6961-4bb7-b892-e5bb88ba66d9 ]] : <<depend>>\r\n",
       "E4 ..>> E5 [[psysml:f4ae8342-4685-4b6d-8549-04188d07c1c2 ]] : <<depend>>\r\n",
       "E8 ..>> E6 [[psysml:dd0e7371-702f-42f4-9a28-a8ea46c1187a ]] : <<depend>>\r\n",
       "E8 ..>> E7 [[psysml:dd0e7371-702f-42f4-9a28-a8ea46c1187a ]] : <<depend>>\r\n",
       "@enduml\r\n",
       "\n",
       "PlantUML version 1.2020.13(Sat Jun 13 12:26:38 UTC 2020)\n",
       "(EPL source distribution)\n",
       "Java Runtime: OpenJDK Runtime Environment\n",
       "JVM: OpenJDK 64-Bit Server VM\n",
       "Default Encoding: UTF-8\n",
       "Language: en\n",
       "Country: null\n",
       "--></g></svg>"
      ]
     },
     "execution_count": 40,
     "metadata": {},
     "output_type": "execute_result"
    }
   ],
   "source": [
    "%viz --style=\"DEFAULT\" --view=\"Interconnection\" \"DependencyTest\""
   ]
  },
  {
   "cell_type": "code",
   "execution_count": 41,
   "id": "97dd64b9",
   "metadata": {
    "execution": {
     "iopub.execute_input": "2022-03-03T09:55:01.245451Z",
     "iopub.status.busy": "2022-03-03T09:55:01.244931Z",
     "iopub.status.idle": "2022-03-03T09:55:01.250220Z",
     "shell.execute_reply": "2022-03-03T09:55:01.249880Z"
    }
   },
   "outputs": [
    {
     "data": {
      "image/svg+xml": [
       "<?xml version=\"1.0\" encoding=\"UTF-8\" standalone=\"no\"?><svg xmlns=\"http://www.w3.org/2000/svg\" xmlns:xlink=\"http://www.w3.org/1999/xlink\" contentScriptType=\"application/ecmascript\" contentStyleType=\"text/css\" height=\"12px\" preserveAspectRatio=\"none\" style=\"width:12px;height:12px;\" version=\"1.1\" viewBox=\"0 0 12 12\" width=\"12px\" zoomAndPan=\"magnify\"><defs/><g><!--MD5=[388f21188e31bfdd97050473b19af356]\n",
       "@startuml\r\n",
       "skinparam ranksep 8\r\n",
       "skinparam monochrome true\r\n",
       "skinparam classbackgroundcolor white\r\n",
       "skinparam shadowing false\r\n",
       "skinparam wrapWidth 300\r\n",
       "hide circle\r\n",
       "\r\n",
       "@enduml\r\n",
       "\n",
       "PlantUML version 1.2020.13(Sat Jun 13 12:26:38 UTC 2020)\n",
       "(EPL source distribution)\n",
       "Java Runtime: OpenJDK Runtime Environment\n",
       "JVM: OpenJDK 64-Bit Server VM\n",
       "Default Encoding: UTF-8\n",
       "Language: en\n",
       "Country: null\n",
       "--></g></svg>"
      ]
     },
     "execution_count": 41,
     "metadata": {},
     "output_type": "execute_result"
    }
   ],
   "source": [
    "%viz --style=\"DEFAULT\" --view=\"Action\" \"DependencyTest\""
   ]
  },
  {
   "cell_type": "code",
   "execution_count": 42,
   "id": "a918f9d4",
   "metadata": {
    "execution": {
     "iopub.execute_input": "2022-03-03T09:55:01.300048Z",
     "iopub.status.busy": "2022-03-03T09:55:01.299627Z",
     "iopub.status.idle": "2022-03-03T09:55:01.304327Z",
     "shell.execute_reply": "2022-03-03T09:55:01.303985Z"
    }
   },
   "outputs": [
    {
     "data": {
      "image/svg+xml": [
       "<?xml version=\"1.0\" encoding=\"UTF-8\" standalone=\"no\"?><svg xmlns=\"http://www.w3.org/2000/svg\" xmlns:xlink=\"http://www.w3.org/1999/xlink\" contentScriptType=\"application/ecmascript\" contentStyleType=\"text/css\" height=\"12px\" preserveAspectRatio=\"none\" style=\"width:12px;height:12px;\" version=\"1.1\" viewBox=\"0 0 12 12\" width=\"12px\" zoomAndPan=\"magnify\"><defs/><g><!--MD5=[0b72472770326784bf6c2b53246e1e64]\n",
       "@startuml\r\n",
       "skinparam roundcorner 20\r\n",
       "skinparam BoxPadding 20\r\n",
       "skinparam SequenceBoxBackgroundColor #white\r\n",
       "skinparam style strictuml\r\n",
       "skinparam maxMessageSize 100\r\n",
       "skinparam monochrome true\r\n",
       "skinparam classbackgroundcolor white\r\n",
       "skinparam shadowing false\r\n",
       "skinparam wrapWidth 300\r\n",
       "hide circle\r\n",
       "\r\n",
       "@enduml\r\n",
       "\n",
       "PlantUML version 1.2020.13(Sat Jun 13 12:26:38 UTC 2020)\n",
       "(EPL source distribution)\n",
       "Java Runtime: OpenJDK Runtime Environment\n",
       "JVM: OpenJDK 64-Bit Server VM\n",
       "Default Encoding: UTF-8\n",
       "Language: en\n",
       "Country: null\n",
       "--></g></svg>"
      ]
     },
     "execution_count": 42,
     "metadata": {},
     "output_type": "execute_result"
    }
   ],
   "source": [
    "%viz --style=\"DEFAULT\" --view=\"Sequence\" \"DependencyTest\""
   ]
  },
  {
   "cell_type": "code",
   "execution_count": 43,
   "id": "02cb3ed6",
   "metadata": {
    "execution": {
     "iopub.execute_input": "2022-03-03T09:55:01.354624Z",
     "iopub.status.busy": "2022-03-03T09:55:01.354060Z",
     "iopub.status.idle": "2022-03-03T09:55:01.388847Z",
     "shell.execute_reply": "2022-03-03T09:55:01.388486Z"
    }
   },
   "outputs": [
    {
     "data": {
      "image/svg+xml": [
       "<?xml version=\"1.0\" encoding=\"UTF-8\" standalone=\"no\"?><svg xmlns=\"http://www.w3.org/2000/svg\" xmlns:xlink=\"http://www.w3.org/1999/xlink\" contentScriptType=\"application/ecmascript\" contentStyleType=\"text/css\" height=\"552px\" preserveAspectRatio=\"none\" style=\"width:536px;height:552px;\" version=\"1.1\" viewBox=\"0 0 536 552\" width=\"536px\" zoomAndPan=\"magnify\"><defs/><g><!--MD5=[fbc87193dbaf4d95561dea2c320d4a47]\n",
       "cluster E1--><a href=\"psysml:49f03030-de0c-4f13-ba7b-914972c61aaf\" target=\"_top\" title=\"psysml:49f03030-de0c-4f13-ba7b-914972c61aaf\" xlink:actuate=\"onRequest\" xlink:href=\"psysml:49f03030-de0c-4f13-ba7b-914972c61aaf\" xlink:show=\"new\" xlink:title=\"psysml:49f03030-de0c-4f13-ba7b-914972c61aaf\" xlink:type=\"simple\"><polygon fill=\"#FFFFFF\" points=\"16,6,142,6,149,28.2969,514,28.2969,514,540.72,16,540.72,16,6\" style=\"stroke: #000000; stroke-width: 1.5;\"/><line style=\"stroke: #000000; stroke-width: 1.5;\" x1=\"16\" x2=\"149\" y1=\"28.2969\" y2=\"28.2969\"/><text fill=\"#000000\" font-family=\"sans-serif\" font-size=\"14\" font-weight=\"bold\" lengthAdjust=\"spacingAndGlyphs\" textLength=\"120\" x=\"20\" y=\"20.9951\">DependencyTest</text></a><!--MD5=[e4f7fae6ed58524ba242bb0b0d3be6b7]\n",
       "cluster E2--><a href=\"psysml:0a123ebf-9907-4602-8f86-a30c7447a6cf\" target=\"_top\" title=\"psysml:0a123ebf-9907-4602-8f86-a30c7447a6cf\" xlink:actuate=\"onRequest\" xlink:href=\"psysml:0a123ebf-9907-4602-8f86-a30c7447a6cf\" xlink:show=\"new\" xlink:title=\"psysml:0a123ebf-9907-4602-8f86-a30c7447a6cf\" xlink:type=\"simple\"><polygon fill=\"#FFFFFF\" points=\"271,120.72,328,120.72,335,143.0169,474,143.0169,474,500.72,271,500.72,271,120.72\" style=\"stroke: #000000; stroke-width: 1.5;\"/><line style=\"stroke: #000000; stroke-width: 1.5;\" x1=\"271\" x2=\"335\" y1=\"143.0169\" y2=\"143.0169\"/><text fill=\"#000000\" font-family=\"sans-serif\" font-size=\"14\" font-weight=\"bold\" lengthAdjust=\"spacingAndGlyphs\" textLength=\"51\" x=\"275\" y=\"135.7151\">System</text></a><!--MD5=[60a26617385b1d2d0262a64233df1f8d]\n",
       "class E6--><a href=\"psysml:0783b658-08bf-4abf-9182-ba1ece255f80\" target=\"_top\" title=\"psysml:0783b658-08bf-4abf-9182-ba1ece255f80\" xlink:actuate=\"onRequest\" xlink:href=\"psysml:0783b658-08bf-4abf-9182-ba1ece255f80\" xlink:show=\"new\" xlink:title=\"psysml:0783b658-08bf-4abf-9182-ba1ece255f80\" xlink:type=\"simple\"><rect fill=\"#FFFFFF\" height=\"45.9375\" id=\"E6\" rx=\"10\" ry=\"10\" style=\"stroke: #383838; stroke-width: 1.5;\" width=\"71\" x=\"40.5\" y=\"297.22\"/><text fill=\"#000000\" font-family=\"sans-serif\" font-size=\"12\" font-style=\"italic\" lengthAdjust=\"spacingAndGlyphs\" textLength=\"69\" x=\"41.5\" y=\"313.3587\">«attribute»</text><text fill=\"#000000\" font-family=\"sans-serif\" font-size=\"12\" lengthAdjust=\"spacingAndGlyphs\" textLength=\"6\" x=\"71\" y=\"327.3274\">x</text><line style=\"stroke: #383838; stroke-width: 1.5;\" x1=\"41.5\" x2=\"110.5\" y1=\"335.1575\" y2=\"335.1575\"/></a><!--MD5=[2156ba9850f5573cc1fc38a6a4b2f02b]\n",
       "class E7--><a href=\"psysml:00406d55-97a3-4ada-a9d4-67d88ef5929d\" target=\"_top\" title=\"psysml:00406d55-97a3-4ada-a9d4-67d88ef5929d\" xlink:actuate=\"onRequest\" xlink:href=\"psysml:00406d55-97a3-4ada-a9d4-67d88ef5929d\" xlink:show=\"new\" xlink:title=\"psysml:00406d55-97a3-4ada-a9d4-67d88ef5929d\" xlink:type=\"simple\"><rect fill=\"#FFFFFF\" height=\"45.9375\" id=\"E7\" rx=\"10\" ry=\"10\" style=\"stroke: #383838; stroke-width: 1.5;\" width=\"71\" x=\"146.5\" y=\"297.22\"/><text fill=\"#000000\" font-family=\"sans-serif\" font-size=\"12\" font-style=\"italic\" lengthAdjust=\"spacingAndGlyphs\" textLength=\"69\" x=\"147.5\" y=\"313.3587\">«attribute»</text><text fill=\"#000000\" font-family=\"sans-serif\" font-size=\"12\" lengthAdjust=\"spacingAndGlyphs\" textLength=\"6\" x=\"177\" y=\"327.3274\">y</text><line style=\"stroke: #383838; stroke-width: 1.5;\" x1=\"147.5\" x2=\"216.5\" y1=\"335.1575\" y2=\"335.1575\"/></a><!--MD5=[b9389687b975829384b498ac4b7476b2]\n",
       "class E8--><a href=\"psysml:b610c4be-7598-4a50-a285-e23e2912f41a\" target=\"_top\" title=\"psysml:b610c4be-7598-4a50-a285-e23e2912f41a\" xlink:actuate=\"onRequest\" xlink:href=\"psysml:b610c4be-7598-4a50-a285-e23e2912f41a\" xlink:show=\"new\" xlink:title=\"psysml:b610c4be-7598-4a50-a285-e23e2912f41a\" xlink:type=\"simple\"><rect fill=\"#FFFFFF\" height=\"45.9375\" id=\"E8\" rx=\"10\" ry=\"10\" style=\"stroke: #383838; stroke-width: 1.5;\" width=\"71\" x=\"92.5\" y=\"167.22\"/><text fill=\"#000000\" font-family=\"sans-serif\" font-size=\"12\" font-style=\"italic\" lengthAdjust=\"spacingAndGlyphs\" textLength=\"69\" x=\"93.5\" y=\"183.3587\">«attribute»</text><text fill=\"#000000\" font-family=\"sans-serif\" font-size=\"12\" lengthAdjust=\"spacingAndGlyphs\" textLength=\"5\" x=\"123.5\" y=\"197.3274\">z</text><line style=\"stroke: #383838; stroke-width: 1.5;\" x1=\"93.5\" x2=\"162.5\" y1=\"205.1575\" y2=\"205.1575\"/></a><a href=\"psysml:fbc620fa-f332-480d-9302-6e81c218d767\" target=\"_top\" title=\"psysml:fbc620fa-f332-480d-9302-6e81c218d767\" xlink:actuate=\"onRequest\" xlink:href=\"psysml:fbc620fa-f332-480d-9302-6e81c218d767\" xlink:show=\"new\" xlink:title=\"psysml:fbc620fa-f332-480d-9302-6e81c218d767\" xlink:type=\"simple\"><polygon fill=\"#FFFFFF\" points=\"314.5,163.72,435.5,163.72,442.5,186.0169,449.5,186.0169,449.5,216.3138,314.5,216.3138,314.5,163.72\" style=\"stroke: #000000; stroke-width: 1.5;\"/><line style=\"stroke: #000000; stroke-width: 1.5;\" x1=\"314.5\" x2=\"442.5\" y1=\"186.0169\" y2=\"186.0169\"/><text fill=\"#000000\" font-family=\"sans-serif\" font-size=\"14\" font-weight=\"bold\" lengthAdjust=\"spacingAndGlyphs\" textLength=\"115\" x=\"318.5\" y=\"178.7151\">Application Layer</text></a><a href=\"psysml:426f0663-f125-4848-8cc6-b208ee541f23\" target=\"_top\" title=\"psysml:426f0663-f125-4848-8cc6-b208ee541f23\" xlink:actuate=\"onRequest\" xlink:href=\"psysml:426f0663-f125-4848-8cc6-b208ee541f23\" xlink:show=\"new\" xlink:title=\"psysml:426f0663-f125-4848-8cc6-b208ee541f23\" xlink:type=\"simple\"><polygon fill=\"#FFFFFF\" points=\"327,293.72,423,293.72,430,316.0169,437,316.0169,437,346.3138,327,346.3138,327,293.72\" style=\"stroke: #000000; stroke-width: 1.5;\"/><line style=\"stroke: #000000; stroke-width: 1.5;\" x1=\"327\" x2=\"430\" y1=\"316.0169\" y2=\"316.0169\"/><text fill=\"#000000\" font-family=\"sans-serif\" font-size=\"14\" font-weight=\"bold\" lengthAdjust=\"spacingAndGlyphs\" textLength=\"90\" x=\"331\" y=\"308.7151\">Service Layer</text></a><a href=\"psysml:fd3440a5-7307-47c9-b63e-e029b0e76f05\" target=\"_top\" title=\"psysml:fd3440a5-7307-47c9-b63e-e029b0e76f05\" xlink:actuate=\"onRequest\" xlink:href=\"psysml:fd3440a5-7307-47c9-b63e-e029b0e76f05\" xlink:show=\"new\" xlink:title=\"psysml:fd3440a5-7307-47c9-b63e-e029b0e76f05\" xlink:type=\"simple\"><polygon fill=\"#FFFFFF\" points=\"336,423.72,414,423.72,421,446.0169,428,446.0169,428,476.3138,336,476.3138,336,423.72\" style=\"stroke: #000000; stroke-width: 1.5;\"/><line style=\"stroke: #000000; stroke-width: 1.5;\" x1=\"336\" x2=\"421\" y1=\"446.0169\" y2=\"446.0169\"/><text fill=\"#000000\" font-family=\"sans-serif\" font-size=\"14\" font-weight=\"bold\" lengthAdjust=\"spacingAndGlyphs\" textLength=\"72\" x=\"340\" y=\"438.7151\">Data Layer</text></a><!--MD5=[1f1cd8e6dd4c1b2ca2aaccc9b9bcea6e]\n",
       "link E1 to E2--><a href=\"psysml:1f214475-93e7-4d57-afd6-304a88df216d\" target=\"_top\" title=\"psysml:1f214475-93e7-4d57-afd6-304a88df216d\" xlink:actuate=\"onRequest\" xlink:href=\"psysml:1f214475-93e7-4d57-afd6-304a88df216d\" xlink:show=\"new\" xlink:title=\"psysml:1f214475-93e7-4d57-afd6-304a88df216d\" xlink:type=\"simple\"><path d=\"M279,33.83 C279,36.15 279,73.83 279,111.5 C279,113.8544 279,116.2087 279,118.5544 C279,119.1408 279,119.7267 279,120.3119 \" fill=\"none\" id=\"E1-&gt;E2\" style=\"stroke: #383838; stroke-width: 1.0; stroke-dasharray: 7.0,7.0;\"/><polygon fill=\"#383838\" points=\"279,120.3119,283,111.3119,279,115.3119,275,111.3119,279,120.3119\" style=\"stroke: #383838; stroke-width: 1.0;\"/><text fill=\"#000000\" font-family=\"sans-serif\" font-size=\"13\" lengthAdjust=\"spacingAndGlyphs\" textLength=\"65\" x=\"280\" y=\"76.7869\">«import»*</text></a><!--MD5=[af87c684e3b0d8be13c1a698a818ef1e]\n",
       "link E3 to E4--><a href=\"psysml:3b6c166c-6961-4bb7-b892-e5bb88ba66d9\" target=\"_top\" title=\"psysml:3b6c166c-6961-4bb7-b892-e5bb88ba66d9\" xlink:actuate=\"onRequest\" xlink:href=\"psysml:3b6c166c-6961-4bb7-b892-e5bb88ba66d9\" xlink:show=\"new\" xlink:title=\"psysml:3b6c166c-6961-4bb7-b892-e5bb88ba66d9\" xlink:type=\"simple\"><path d=\"M382,216.82 C382,236.52 382,263.94 382,285.45 \" fill=\"none\" id=\"E3-&gt;E4\" style=\"stroke: #383838; stroke-width: 1.0; stroke-dasharray: 7.0,7.0;\"/><polygon fill=\"#383838\" points=\"382,293.67,385,285.67,379,285.67,382,293.67\" style=\"stroke: #383838; stroke-width: 1.0;\"/><text fill=\"#000000\" font-family=\"sans-serif\" font-size=\"13\" lengthAdjust=\"spacingAndGlyphs\" textLength=\"64\" x=\"383\" y=\"259.7869\">«depend»</text></a><!--MD5=[1b7591eae5389033d8d09a9d6721a717]\n",
       "link E4 to E5--><a href=\"psysml:f4ae8342-4685-4b6d-8549-04188d07c1c2\" target=\"_top\" title=\"psysml:f4ae8342-4685-4b6d-8549-04188d07c1c2\" xlink:actuate=\"onRequest\" xlink:href=\"psysml:f4ae8342-4685-4b6d-8549-04188d07c1c2\" xlink:show=\"new\" xlink:title=\"psysml:f4ae8342-4685-4b6d-8549-04188d07c1c2\" xlink:type=\"simple\"><path d=\"M382,346.82 C382,366.52 382,393.94 382,415.45 \" fill=\"none\" id=\"E4-&gt;E5\" style=\"stroke: #383838; stroke-width: 1.0; stroke-dasharray: 7.0,7.0;\"/><polygon fill=\"#383838\" points=\"382,423.67,385,415.67,379,415.67,382,423.67\" style=\"stroke: #383838; stroke-width: 1.0;\"/><text fill=\"#000000\" font-family=\"sans-serif\" font-size=\"13\" lengthAdjust=\"spacingAndGlyphs\" textLength=\"64\" x=\"383\" y=\"389.7869\">«depend»</text></a><!--MD5=[c5e8897d989ce984f93528998a7150fe]\n",
       "link E8 to E6--><a href=\"psysml:dd0e7371-702f-42f4-9a28-a8ea46c1187a\" target=\"_top\" title=\"psysml:dd0e7371-702f-42f4-9a28-a8ea46c1187a\" xlink:actuate=\"onRequest\" xlink:href=\"psysml:dd0e7371-702f-42f4-9a28-a8ea46c1187a\" xlink:show=\"new\" xlink:title=\"psysml:dd0e7371-702f-42f4-9a28-a8ea46c1187a\" xlink:type=\"simple\"><path d=\"M97.42,213.32 C87.35,222.4 77.37,233.83 72,246.72 C66.5,259.92 66.66,275.66 68.54,289.1 \" fill=\"none\" id=\"E8-&gt;E6\" style=\"stroke: #383838; stroke-width: 1.0; stroke-dasharray: 7.0,7.0;\"/><polygon fill=\"#383838\" points=\"69.9,297.12,71.517,288.7304,65.6018,289.7359,69.9,297.12\" style=\"stroke: #383838; stroke-width: 1.0;\"/><text fill=\"#000000\" font-family=\"sans-serif\" font-size=\"13\" lengthAdjust=\"spacingAndGlyphs\" textLength=\"64\" x=\"73\" y=\"259.7869\">«depend»</text></a><!--MD5=[bfa3c8b0d15052fdf50ae9310b491027]\n",
       "link E8 to E7--><a href=\"psysml:dd0e7371-702f-42f4-9a28-a8ea46c1187a\" target=\"_top\" title=\"psysml:dd0e7371-702f-42f4-9a28-a8ea46c1187a\" xlink:actuate=\"onRequest\" xlink:href=\"psysml:dd0e7371-702f-42f4-9a28-a8ea46c1187a\" xlink:show=\"new\" xlink:title=\"psysml:dd0e7371-702f-42f4-9a28-a8ea46c1187a\" xlink:type=\"simple\"><path d=\"M137.28,213.22 C146.17,234.29 159.64,266.22 169.47,289.53 \" fill=\"none\" id=\"E8-&gt;E7\" style=\"stroke: #383838; stroke-width: 1.0; stroke-dasharray: 7.0,7.0;\"/><polygon fill=\"#383838\" points=\"172.66,297.07,172.3241,288.5326,166.7933,290.8585,172.66,297.07\" style=\"stroke: #383838; stroke-width: 1.0;\"/><text fill=\"#000000\" font-family=\"sans-serif\" font-size=\"13\" lengthAdjust=\"spacingAndGlyphs\" textLength=\"64\" x=\"159\" y=\"259.7869\">«depend»</text></a><!--MD5=[426f865c5f20dfcdc5dfb75b6af1ccf6]\n",
       "@startuml\r\n",
       "skinparam monochrome true\r\n",
       "skinparam classbackgroundcolor white\r\n",
       "skinparam shadowing false\r\n",
       "skinparam wrapWidth 300\r\n",
       "hide circle\r\n",
       "\r\n",
       "package \"DependencyTest\" as E1  [[psysml:49f03030-de0c-4f13-ba7b-914972c61aaf ]]  {\r\n",
       "package \"System\" as E2  [[psysml:0a123ebf-9907-4602-8f86-a30c7447a6cf ]]  {\r\n",
       "package \"Application Layer\" as E3  [[psysml:fbc620fa-f332-480d-9302-6e81c218d767 ]]  {\r\n",
       "}\r\n",
       "package \"Service Layer\" as E4  [[psysml:426f0663-f125-4848-8cc6-b208ee541f23 ]]  {\r\n",
       "}\r\n",
       "package \"Data Layer\" as E5  [[psysml:fd3440a5-7307-47c9-b63e-e029b0e76f05 ]]  {\r\n",
       "}\r\n",
       "}\r\n",
       "comp usage \"x \" as E6  <<(T,blue) attribute>> [[psysml:0783b658-08bf-4abf-9182-ba1ece255f80 ]] {\r\n",
       "}\r\n",
       "comp usage \"y \" as E7  <<(T,blue) attribute>> [[psysml:00406d55-97a3-4ada-a9d4-67d88ef5929d ]] {\r\n",
       "}\r\n",
       "comp usage \"z \" as E8  <<(T,blue) attribute>> [[psysml:b610c4be-7598-4a50-a285-e23e2912f41a ]] {\r\n",
       "}\r\n",
       "}\r\n",
       "E1 ..> E2 [[psysml:1f214475-93e7-4d57-afd6-304a88df216d ]] : <<import>>*\r\n",
       "E3 ..>> E4 [[psysml:3b6c166c-6961-4bb7-b892-e5bb88ba66d9 ]] : <<depend>>\r\n",
       "E4 ..>> E5 [[psysml:f4ae8342-4685-4b6d-8549-04188d07c1c2 ]] : <<depend>>\r\n",
       "E8 ..>> E6 [[psysml:dd0e7371-702f-42f4-9a28-a8ea46c1187a ]] : <<depend>>\r\n",
       "E8 ..>> E7 [[psysml:dd0e7371-702f-42f4-9a28-a8ea46c1187a ]] : <<depend>>\r\n",
       "@enduml\r\n",
       "\n",
       "PlantUML version 1.2020.13(Sat Jun 13 12:26:38 UTC 2020)\n",
       "(EPL source distribution)\n",
       "Java Runtime: OpenJDK Runtime Environment\n",
       "JVM: OpenJDK 64-Bit Server VM\n",
       "Default Encoding: UTF-8\n",
       "Language: en\n",
       "Country: null\n",
       "--></g></svg>"
      ]
     },
     "execution_count": 43,
     "metadata": {},
     "output_type": "execute_result"
    }
   ],
   "source": [
    "%viz --style=\"DEFAULT\" --view=\"MIXED\" \"DependencyTest\""
   ]
  },
  {
   "cell_type": "code",
   "execution_count": 44,
   "id": "bfdfcb32",
   "metadata": {
    "execution": {
     "iopub.execute_input": "2022-03-03T09:55:01.438655Z",
     "iopub.status.busy": "2022-03-03T09:55:01.438239Z",
     "iopub.status.idle": "2022-03-03T09:55:01.480236Z",
     "shell.execute_reply": "2022-03-03T09:55:01.479456Z"
    }
   },
   "outputs": [
    {
     "data": {
      "image/svg+xml": [
       "<?xml version=\"1.0\" encoding=\"UTF-8\" standalone=\"no\"?><svg xmlns=\"http://www.w3.org/2000/svg\" xmlns:xlink=\"http://www.w3.org/1999/xlink\" contentScriptType=\"application/ecmascript\" contentStyleType=\"text/css\" height=\"552px\" preserveAspectRatio=\"none\" style=\"width:536px;height:552px;\" version=\"1.1\" viewBox=\"0 0 536 552\" width=\"536px\" zoomAndPan=\"magnify\"><defs/><g><!--MD5=[fbc87193dbaf4d95561dea2c320d4a47]\n",
       "cluster E1--><a href=\"psysml:49f03030-de0c-4f13-ba7b-914972c61aaf\" target=\"_top\" title=\"psysml:49f03030-de0c-4f13-ba7b-914972c61aaf\" xlink:actuate=\"onRequest\" xlink:href=\"psysml:49f03030-de0c-4f13-ba7b-914972c61aaf\" xlink:show=\"new\" xlink:title=\"psysml:49f03030-de0c-4f13-ba7b-914972c61aaf\" xlink:type=\"simple\"><polygon fill=\"#FFFFFF\" points=\"16,6,142,6,149,28.2969,514,28.2969,514,540.72,16,540.72,16,6\" style=\"stroke: #000000; stroke-width: 1.5;\"/><line style=\"stroke: #000000; stroke-width: 1.5;\" x1=\"16\" x2=\"149\" y1=\"28.2969\" y2=\"28.2969\"/><text fill=\"#000000\" font-family=\"sans-serif\" font-size=\"14\" font-weight=\"bold\" lengthAdjust=\"spacingAndGlyphs\" textLength=\"120\" x=\"20\" y=\"20.9951\">DependencyTest</text></a><!--MD5=[e4f7fae6ed58524ba242bb0b0d3be6b7]\n",
       "cluster E2--><a href=\"psysml:0a123ebf-9907-4602-8f86-a30c7447a6cf\" target=\"_top\" title=\"psysml:0a123ebf-9907-4602-8f86-a30c7447a6cf\" xlink:actuate=\"onRequest\" xlink:href=\"psysml:0a123ebf-9907-4602-8f86-a30c7447a6cf\" xlink:show=\"new\" xlink:title=\"psysml:0a123ebf-9907-4602-8f86-a30c7447a6cf\" xlink:type=\"simple\"><polygon fill=\"#FFFFFF\" points=\"271,120.72,328,120.72,335,143.0169,474,143.0169,474,500.72,271,500.72,271,120.72\" style=\"stroke: #000000; stroke-width: 1.5;\"/><line style=\"stroke: #000000; stroke-width: 1.5;\" x1=\"271\" x2=\"335\" y1=\"143.0169\" y2=\"143.0169\"/><text fill=\"#000000\" font-family=\"sans-serif\" font-size=\"14\" font-weight=\"bold\" lengthAdjust=\"spacingAndGlyphs\" textLength=\"51\" x=\"275\" y=\"135.7151\">System</text></a><!--MD5=[60a26617385b1d2d0262a64233df1f8d]\n",
       "class E6--><a href=\"psysml:0783b658-08bf-4abf-9182-ba1ece255f80\" target=\"_top\" title=\"psysml:0783b658-08bf-4abf-9182-ba1ece255f80\" xlink:actuate=\"onRequest\" xlink:href=\"psysml:0783b658-08bf-4abf-9182-ba1ece255f80\" xlink:show=\"new\" xlink:title=\"psysml:0783b658-08bf-4abf-9182-ba1ece255f80\" xlink:type=\"simple\"><rect fill=\"#FFFFFF\" height=\"45.9375\" id=\"E6\" rx=\"10\" ry=\"10\" style=\"stroke: #383838; stroke-width: 1.5;\" width=\"71\" x=\"40.5\" y=\"297.22\"/><text fill=\"#000000\" font-family=\"sans-serif\" font-size=\"12\" font-style=\"italic\" lengthAdjust=\"spacingAndGlyphs\" textLength=\"69\" x=\"41.5\" y=\"313.3587\">«attribute»</text><text fill=\"#000000\" font-family=\"sans-serif\" font-size=\"12\" lengthAdjust=\"spacingAndGlyphs\" textLength=\"6\" x=\"71\" y=\"327.3274\">x</text><line style=\"stroke: #383838; stroke-width: 1.5;\" x1=\"41.5\" x2=\"110.5\" y1=\"335.1575\" y2=\"335.1575\"/></a><!--MD5=[2156ba9850f5573cc1fc38a6a4b2f02b]\n",
       "class E7--><a href=\"psysml:00406d55-97a3-4ada-a9d4-67d88ef5929d\" target=\"_top\" title=\"psysml:00406d55-97a3-4ada-a9d4-67d88ef5929d\" xlink:actuate=\"onRequest\" xlink:href=\"psysml:00406d55-97a3-4ada-a9d4-67d88ef5929d\" xlink:show=\"new\" xlink:title=\"psysml:00406d55-97a3-4ada-a9d4-67d88ef5929d\" xlink:type=\"simple\"><rect fill=\"#FFFFFF\" height=\"45.9375\" id=\"E7\" rx=\"10\" ry=\"10\" style=\"stroke: #383838; stroke-width: 1.5;\" width=\"71\" x=\"146.5\" y=\"297.22\"/><text fill=\"#000000\" font-family=\"sans-serif\" font-size=\"12\" font-style=\"italic\" lengthAdjust=\"spacingAndGlyphs\" textLength=\"69\" x=\"147.5\" y=\"313.3587\">«attribute»</text><text fill=\"#000000\" font-family=\"sans-serif\" font-size=\"12\" lengthAdjust=\"spacingAndGlyphs\" textLength=\"6\" x=\"177\" y=\"327.3274\">y</text><line style=\"stroke: #383838; stroke-width: 1.5;\" x1=\"147.5\" x2=\"216.5\" y1=\"335.1575\" y2=\"335.1575\"/></a><!--MD5=[b9389687b975829384b498ac4b7476b2]\n",
       "class E8--><a href=\"psysml:b610c4be-7598-4a50-a285-e23e2912f41a\" target=\"_top\" title=\"psysml:b610c4be-7598-4a50-a285-e23e2912f41a\" xlink:actuate=\"onRequest\" xlink:href=\"psysml:b610c4be-7598-4a50-a285-e23e2912f41a\" xlink:show=\"new\" xlink:title=\"psysml:b610c4be-7598-4a50-a285-e23e2912f41a\" xlink:type=\"simple\"><rect fill=\"#FFFFFF\" height=\"45.9375\" id=\"E8\" rx=\"10\" ry=\"10\" style=\"stroke: #383838; stroke-width: 1.5;\" width=\"71\" x=\"92.5\" y=\"167.22\"/><text fill=\"#000000\" font-family=\"sans-serif\" font-size=\"12\" font-style=\"italic\" lengthAdjust=\"spacingAndGlyphs\" textLength=\"69\" x=\"93.5\" y=\"183.3587\">«attribute»</text><text fill=\"#000000\" font-family=\"sans-serif\" font-size=\"12\" lengthAdjust=\"spacingAndGlyphs\" textLength=\"5\" x=\"123.5\" y=\"197.3274\">z</text><line style=\"stroke: #383838; stroke-width: 1.5;\" x1=\"93.5\" x2=\"162.5\" y1=\"205.1575\" y2=\"205.1575\"/></a><a href=\"psysml:fbc620fa-f332-480d-9302-6e81c218d767\" target=\"_top\" title=\"psysml:fbc620fa-f332-480d-9302-6e81c218d767\" xlink:actuate=\"onRequest\" xlink:href=\"psysml:fbc620fa-f332-480d-9302-6e81c218d767\" xlink:show=\"new\" xlink:title=\"psysml:fbc620fa-f332-480d-9302-6e81c218d767\" xlink:type=\"simple\"><polygon fill=\"#FFFFFF\" points=\"314.5,163.72,435.5,163.72,442.5,186.0169,449.5,186.0169,449.5,216.3138,314.5,216.3138,314.5,163.72\" style=\"stroke: #000000; stroke-width: 1.5;\"/><line style=\"stroke: #000000; stroke-width: 1.5;\" x1=\"314.5\" x2=\"442.5\" y1=\"186.0169\" y2=\"186.0169\"/><text fill=\"#000000\" font-family=\"sans-serif\" font-size=\"14\" font-weight=\"bold\" lengthAdjust=\"spacingAndGlyphs\" textLength=\"115\" x=\"318.5\" y=\"178.7151\">Application Layer</text></a><a href=\"psysml:426f0663-f125-4848-8cc6-b208ee541f23\" target=\"_top\" title=\"psysml:426f0663-f125-4848-8cc6-b208ee541f23\" xlink:actuate=\"onRequest\" xlink:href=\"psysml:426f0663-f125-4848-8cc6-b208ee541f23\" xlink:show=\"new\" xlink:title=\"psysml:426f0663-f125-4848-8cc6-b208ee541f23\" xlink:type=\"simple\"><polygon fill=\"#FFFFFF\" points=\"327,293.72,423,293.72,430,316.0169,437,316.0169,437,346.3138,327,346.3138,327,293.72\" style=\"stroke: #000000; stroke-width: 1.5;\"/><line style=\"stroke: #000000; stroke-width: 1.5;\" x1=\"327\" x2=\"430\" y1=\"316.0169\" y2=\"316.0169\"/><text fill=\"#000000\" font-family=\"sans-serif\" font-size=\"14\" font-weight=\"bold\" lengthAdjust=\"spacingAndGlyphs\" textLength=\"90\" x=\"331\" y=\"308.7151\">Service Layer</text></a><a href=\"psysml:fd3440a5-7307-47c9-b63e-e029b0e76f05\" target=\"_top\" title=\"psysml:fd3440a5-7307-47c9-b63e-e029b0e76f05\" xlink:actuate=\"onRequest\" xlink:href=\"psysml:fd3440a5-7307-47c9-b63e-e029b0e76f05\" xlink:show=\"new\" xlink:title=\"psysml:fd3440a5-7307-47c9-b63e-e029b0e76f05\" xlink:type=\"simple\"><polygon fill=\"#FFFFFF\" points=\"336,423.72,414,423.72,421,446.0169,428,446.0169,428,476.3138,336,476.3138,336,423.72\" style=\"stroke: #000000; stroke-width: 1.5;\"/><line style=\"stroke: #000000; stroke-width: 1.5;\" x1=\"336\" x2=\"421\" y1=\"446.0169\" y2=\"446.0169\"/><text fill=\"#000000\" font-family=\"sans-serif\" font-size=\"14\" font-weight=\"bold\" lengthAdjust=\"spacingAndGlyphs\" textLength=\"72\" x=\"340\" y=\"438.7151\">Data Layer</text></a><!--MD5=[1f1cd8e6dd4c1b2ca2aaccc9b9bcea6e]\n",
       "link E1 to E2--><a href=\"psysml:1f214475-93e7-4d57-afd6-304a88df216d\" target=\"_top\" title=\"psysml:1f214475-93e7-4d57-afd6-304a88df216d\" xlink:actuate=\"onRequest\" xlink:href=\"psysml:1f214475-93e7-4d57-afd6-304a88df216d\" xlink:show=\"new\" xlink:title=\"psysml:1f214475-93e7-4d57-afd6-304a88df216d\" xlink:type=\"simple\"><path d=\"M279,33.83 C279,36.15 279,73.83 279,111.5 C279,113.8544 279,116.2087 279,118.5544 C279,119.1408 279,119.7267 279,120.3119 \" fill=\"none\" id=\"E1-&gt;E2\" style=\"stroke: #383838; stroke-width: 1.0; stroke-dasharray: 7.0,7.0;\"/><polygon fill=\"#383838\" points=\"279,120.3119,283,111.3119,279,115.3119,275,111.3119,279,120.3119\" style=\"stroke: #383838; stroke-width: 1.0;\"/><text fill=\"#000000\" font-family=\"sans-serif\" font-size=\"13\" lengthAdjust=\"spacingAndGlyphs\" textLength=\"65\" x=\"280\" y=\"76.7869\">«import»*</text></a><!--MD5=[af87c684e3b0d8be13c1a698a818ef1e]\n",
       "link E3 to E4--><a href=\"psysml:3b6c166c-6961-4bb7-b892-e5bb88ba66d9\" target=\"_top\" title=\"psysml:3b6c166c-6961-4bb7-b892-e5bb88ba66d9\" xlink:actuate=\"onRequest\" xlink:href=\"psysml:3b6c166c-6961-4bb7-b892-e5bb88ba66d9\" xlink:show=\"new\" xlink:title=\"psysml:3b6c166c-6961-4bb7-b892-e5bb88ba66d9\" xlink:type=\"simple\"><path d=\"M382,216.82 C382,236.52 382,263.94 382,285.45 \" fill=\"none\" id=\"E3-&gt;E4\" style=\"stroke: #383838; stroke-width: 1.0; stroke-dasharray: 7.0,7.0;\"/><polygon fill=\"#383838\" points=\"382,293.67,385,285.67,379,285.67,382,293.67\" style=\"stroke: #383838; stroke-width: 1.0;\"/><text fill=\"#000000\" font-family=\"sans-serif\" font-size=\"13\" lengthAdjust=\"spacingAndGlyphs\" textLength=\"64\" x=\"383\" y=\"259.7869\">«depend»</text></a><!--MD5=[1b7591eae5389033d8d09a9d6721a717]\n",
       "link E4 to E5--><a href=\"psysml:f4ae8342-4685-4b6d-8549-04188d07c1c2\" target=\"_top\" title=\"psysml:f4ae8342-4685-4b6d-8549-04188d07c1c2\" xlink:actuate=\"onRequest\" xlink:href=\"psysml:f4ae8342-4685-4b6d-8549-04188d07c1c2\" xlink:show=\"new\" xlink:title=\"psysml:f4ae8342-4685-4b6d-8549-04188d07c1c2\" xlink:type=\"simple\"><path d=\"M382,346.82 C382,366.52 382,393.94 382,415.45 \" fill=\"none\" id=\"E4-&gt;E5\" style=\"stroke: #383838; stroke-width: 1.0; stroke-dasharray: 7.0,7.0;\"/><polygon fill=\"#383838\" points=\"382,423.67,385,415.67,379,415.67,382,423.67\" style=\"stroke: #383838; stroke-width: 1.0;\"/><text fill=\"#000000\" font-family=\"sans-serif\" font-size=\"13\" lengthAdjust=\"spacingAndGlyphs\" textLength=\"64\" x=\"383\" y=\"389.7869\">«depend»</text></a><!--MD5=[c5e8897d989ce984f93528998a7150fe]\n",
       "link E8 to E6--><a href=\"psysml:dd0e7371-702f-42f4-9a28-a8ea46c1187a\" target=\"_top\" title=\"psysml:dd0e7371-702f-42f4-9a28-a8ea46c1187a\" xlink:actuate=\"onRequest\" xlink:href=\"psysml:dd0e7371-702f-42f4-9a28-a8ea46c1187a\" xlink:show=\"new\" xlink:title=\"psysml:dd0e7371-702f-42f4-9a28-a8ea46c1187a\" xlink:type=\"simple\"><path d=\"M97.42,213.32 C87.35,222.4 77.37,233.83 72,246.72 C66.5,259.92 66.66,275.66 68.54,289.1 \" fill=\"none\" id=\"E8-&gt;E6\" style=\"stroke: #383838; stroke-width: 1.0; stroke-dasharray: 7.0,7.0;\"/><polygon fill=\"#383838\" points=\"69.9,297.12,71.517,288.7304,65.6018,289.7359,69.9,297.12\" style=\"stroke: #383838; stroke-width: 1.0;\"/><text fill=\"#000000\" font-family=\"sans-serif\" font-size=\"13\" lengthAdjust=\"spacingAndGlyphs\" textLength=\"64\" x=\"73\" y=\"259.7869\">«depend»</text></a><!--MD5=[bfa3c8b0d15052fdf50ae9310b491027]\n",
       "link E8 to E7--><a href=\"psysml:dd0e7371-702f-42f4-9a28-a8ea46c1187a\" target=\"_top\" title=\"psysml:dd0e7371-702f-42f4-9a28-a8ea46c1187a\" xlink:actuate=\"onRequest\" xlink:href=\"psysml:dd0e7371-702f-42f4-9a28-a8ea46c1187a\" xlink:show=\"new\" xlink:title=\"psysml:dd0e7371-702f-42f4-9a28-a8ea46c1187a\" xlink:type=\"simple\"><path d=\"M137.28,213.22 C146.17,234.29 159.64,266.22 169.47,289.53 \" fill=\"none\" id=\"E8-&gt;E7\" style=\"stroke: #383838; stroke-width: 1.0; stroke-dasharray: 7.0,7.0;\"/><polygon fill=\"#383838\" points=\"172.66,297.07,172.3241,288.5326,166.7933,290.8585,172.66,297.07\" style=\"stroke: #383838; stroke-width: 1.0;\"/><text fill=\"#000000\" font-family=\"sans-serif\" font-size=\"13\" lengthAdjust=\"spacingAndGlyphs\" textLength=\"64\" x=\"159\" y=\"259.7869\">«depend»</text></a><!--MD5=[37a35b6df931dc494c223dece3ea6d64]\n",
       "@startuml\r\n",
       "top to bottom direction\r\n",
       "skinparam monochrome true\r\n",
       "skinparam classbackgroundcolor white\r\n",
       "skinparam shadowing false\r\n",
       "skinparam wrapWidth 300\r\n",
       "hide circle\r\n",
       "\r\n",
       "package \"DependencyTest\" as E1  [[psysml:49f03030-de0c-4f13-ba7b-914972c61aaf ]]  {\r\n",
       "package \"System\" as E2  [[psysml:0a123ebf-9907-4602-8f86-a30c7447a6cf ]]  {\r\n",
       "package \"Application Layer\" as E3  [[psysml:fbc620fa-f332-480d-9302-6e81c218d767 ]]  {\r\n",
       "}\r\n",
       "package \"Service Layer\" as E4  [[psysml:426f0663-f125-4848-8cc6-b208ee541f23 ]]  {\r\n",
       "}\r\n",
       "package \"Data Layer\" as E5  [[psysml:fd3440a5-7307-47c9-b63e-e029b0e76f05 ]]  {\r\n",
       "}\r\n",
       "}\r\n",
       "comp usage \"x \" as E6  <<(T,blue) attribute>> [[psysml:0783b658-08bf-4abf-9182-ba1ece255f80 ]] {\r\n",
       "}\r\n",
       "comp usage \"y \" as E7  <<(T,blue) attribute>> [[psysml:00406d55-97a3-4ada-a9d4-67d88ef5929d ]] {\r\n",
       "}\r\n",
       "comp usage \"z \" as E8  <<(T,blue) attribute>> [[psysml:b610c4be-7598-4a50-a285-e23e2912f41a ]] {\r\n",
       "}\r\n",
       "}\r\n",
       "E1 ..> E2 [[psysml:1f214475-93e7-4d57-afd6-304a88df216d ]] : <<import>>*\r\n",
       "E3 ..>> E4 [[psysml:3b6c166c-6961-4bb7-b892-e5bb88ba66d9 ]] : <<depend>>\r\n",
       "E4 ..>> E5 [[psysml:f4ae8342-4685-4b6d-8549-04188d07c1c2 ]] : <<depend>>\r\n",
       "E8 ..>> E6 [[psysml:dd0e7371-702f-42f4-9a28-a8ea46c1187a ]] : <<depend>>\r\n",
       "E8 ..>> E7 [[psysml:dd0e7371-702f-42f4-9a28-a8ea46c1187a ]] : <<depend>>\r\n",
       "@enduml\r\n",
       "\n",
       "PlantUML version 1.2020.13(Sat Jun 13 12:26:38 UTC 2020)\n",
       "(EPL source distribution)\n",
       "Java Runtime: OpenJDK Runtime Environment\n",
       "JVM: OpenJDK 64-Bit Server VM\n",
       "Default Encoding: UTF-8\n",
       "Language: en\n",
       "Country: null\n",
       "--></g></svg>"
      ]
     },
     "execution_count": 44,
     "metadata": {},
     "output_type": "execute_result"
    }
   ],
   "source": [
    "%viz --style=\"TB\" --view=\"Default\" \"DependencyTest\""
   ]
  },
  {
   "cell_type": "code",
   "execution_count": 45,
   "id": "db772829",
   "metadata": {
    "execution": {
     "iopub.execute_input": "2022-03-03T09:55:01.530178Z",
     "iopub.status.busy": "2022-03-03T09:55:01.529904Z",
     "iopub.status.idle": "2022-03-03T09:55:01.563731Z",
     "shell.execute_reply": "2022-03-03T09:55:01.562312Z"
    }
   },
   "outputs": [
    {
     "data": {
      "image/svg+xml": [
       "<?xml version=\"1.0\" encoding=\"UTF-8\" standalone=\"no\"?><svg xmlns=\"http://www.w3.org/2000/svg\" xmlns:xlink=\"http://www.w3.org/1999/xlink\" contentScriptType=\"application/ecmascript\" contentStyleType=\"text/css\" height=\"552px\" preserveAspectRatio=\"none\" style=\"width:536px;height:552px;\" version=\"1.1\" viewBox=\"0 0 536 552\" width=\"536px\" zoomAndPan=\"magnify\"><defs/><g><!--MD5=[fbc87193dbaf4d95561dea2c320d4a47]\n",
       "cluster E1--><a href=\"psysml:49f03030-de0c-4f13-ba7b-914972c61aaf\" target=\"_top\" title=\"psysml:49f03030-de0c-4f13-ba7b-914972c61aaf\" xlink:actuate=\"onRequest\" xlink:href=\"psysml:49f03030-de0c-4f13-ba7b-914972c61aaf\" xlink:show=\"new\" xlink:title=\"psysml:49f03030-de0c-4f13-ba7b-914972c61aaf\" xlink:type=\"simple\"><polygon fill=\"#FFFFFF\" points=\"16,6,142,6,149,28.2969,514,28.2969,514,540.72,16,540.72,16,6\" style=\"stroke: #000000; stroke-width: 1.5;\"/><line style=\"stroke: #000000; stroke-width: 1.5;\" x1=\"16\" x2=\"149\" y1=\"28.2969\" y2=\"28.2969\"/><text fill=\"#000000\" font-family=\"sans-serif\" font-size=\"14\" font-weight=\"bold\" lengthAdjust=\"spacingAndGlyphs\" textLength=\"120\" x=\"20\" y=\"20.9951\">DependencyTest</text></a><!--MD5=[e4f7fae6ed58524ba242bb0b0d3be6b7]\n",
       "cluster E2--><a href=\"psysml:0a123ebf-9907-4602-8f86-a30c7447a6cf\" target=\"_top\" title=\"psysml:0a123ebf-9907-4602-8f86-a30c7447a6cf\" xlink:actuate=\"onRequest\" xlink:href=\"psysml:0a123ebf-9907-4602-8f86-a30c7447a6cf\" xlink:show=\"new\" xlink:title=\"psysml:0a123ebf-9907-4602-8f86-a30c7447a6cf\" xlink:type=\"simple\"><polygon fill=\"#FFFFFF\" points=\"271,120.72,328,120.72,335,143.0169,474,143.0169,474,500.72,271,500.72,271,120.72\" style=\"stroke: #000000; stroke-width: 1.5;\"/><line style=\"stroke: #000000; stroke-width: 1.5;\" x1=\"271\" x2=\"335\" y1=\"143.0169\" y2=\"143.0169\"/><text fill=\"#000000\" font-family=\"sans-serif\" font-size=\"14\" font-weight=\"bold\" lengthAdjust=\"spacingAndGlyphs\" textLength=\"51\" x=\"275\" y=\"135.7151\">System</text></a><!--MD5=[60a26617385b1d2d0262a64233df1f8d]\n",
       "class E6--><a href=\"psysml:0783b658-08bf-4abf-9182-ba1ece255f80\" target=\"_top\" title=\"psysml:0783b658-08bf-4abf-9182-ba1ece255f80\" xlink:actuate=\"onRequest\" xlink:href=\"psysml:0783b658-08bf-4abf-9182-ba1ece255f80\" xlink:show=\"new\" xlink:title=\"psysml:0783b658-08bf-4abf-9182-ba1ece255f80\" xlink:type=\"simple\"><rect fill=\"#FFFFFF\" height=\"45.9375\" id=\"E6\" rx=\"10\" ry=\"10\" style=\"stroke: #383838; stroke-width: 1.5;\" width=\"71\" x=\"40.5\" y=\"297.22\"/><text fill=\"#000000\" font-family=\"sans-serif\" font-size=\"12\" font-style=\"italic\" lengthAdjust=\"spacingAndGlyphs\" textLength=\"69\" x=\"41.5\" y=\"313.3587\">«attribute»</text><text fill=\"#000000\" font-family=\"sans-serif\" font-size=\"12\" lengthAdjust=\"spacingAndGlyphs\" textLength=\"6\" x=\"71\" y=\"327.3274\">x</text><line style=\"stroke: #383838; stroke-width: 1.5;\" x1=\"41.5\" x2=\"110.5\" y1=\"335.1575\" y2=\"335.1575\"/></a><!--MD5=[2156ba9850f5573cc1fc38a6a4b2f02b]\n",
       "class E7--><a href=\"psysml:00406d55-97a3-4ada-a9d4-67d88ef5929d\" target=\"_top\" title=\"psysml:00406d55-97a3-4ada-a9d4-67d88ef5929d\" xlink:actuate=\"onRequest\" xlink:href=\"psysml:00406d55-97a3-4ada-a9d4-67d88ef5929d\" xlink:show=\"new\" xlink:title=\"psysml:00406d55-97a3-4ada-a9d4-67d88ef5929d\" xlink:type=\"simple\"><rect fill=\"#FFFFFF\" height=\"45.9375\" id=\"E7\" rx=\"10\" ry=\"10\" style=\"stroke: #383838; stroke-width: 1.5;\" width=\"71\" x=\"146.5\" y=\"297.22\"/><text fill=\"#000000\" font-family=\"sans-serif\" font-size=\"12\" font-style=\"italic\" lengthAdjust=\"spacingAndGlyphs\" textLength=\"69\" x=\"147.5\" y=\"313.3587\">«attribute»</text><text fill=\"#000000\" font-family=\"sans-serif\" font-size=\"12\" lengthAdjust=\"spacingAndGlyphs\" textLength=\"6\" x=\"177\" y=\"327.3274\">y</text><line style=\"stroke: #383838; stroke-width: 1.5;\" x1=\"147.5\" x2=\"216.5\" y1=\"335.1575\" y2=\"335.1575\"/></a><!--MD5=[b9389687b975829384b498ac4b7476b2]\n",
       "class E8--><a href=\"psysml:b610c4be-7598-4a50-a285-e23e2912f41a\" target=\"_top\" title=\"psysml:b610c4be-7598-4a50-a285-e23e2912f41a\" xlink:actuate=\"onRequest\" xlink:href=\"psysml:b610c4be-7598-4a50-a285-e23e2912f41a\" xlink:show=\"new\" xlink:title=\"psysml:b610c4be-7598-4a50-a285-e23e2912f41a\" xlink:type=\"simple\"><rect fill=\"#FFFFFF\" height=\"45.9375\" id=\"E8\" rx=\"10\" ry=\"10\" style=\"stroke: #383838; stroke-width: 1.5;\" width=\"71\" x=\"92.5\" y=\"167.22\"/><text fill=\"#000000\" font-family=\"sans-serif\" font-size=\"12\" font-style=\"italic\" lengthAdjust=\"spacingAndGlyphs\" textLength=\"69\" x=\"93.5\" y=\"183.3587\">«attribute»</text><text fill=\"#000000\" font-family=\"sans-serif\" font-size=\"12\" lengthAdjust=\"spacingAndGlyphs\" textLength=\"5\" x=\"123.5\" y=\"197.3274\">z</text><line style=\"stroke: #383838; stroke-width: 1.5;\" x1=\"93.5\" x2=\"162.5\" y1=\"205.1575\" y2=\"205.1575\"/></a><a href=\"psysml:fbc620fa-f332-480d-9302-6e81c218d767\" target=\"_top\" title=\"psysml:fbc620fa-f332-480d-9302-6e81c218d767\" xlink:actuate=\"onRequest\" xlink:href=\"psysml:fbc620fa-f332-480d-9302-6e81c218d767\" xlink:show=\"new\" xlink:title=\"psysml:fbc620fa-f332-480d-9302-6e81c218d767\" xlink:type=\"simple\"><polygon fill=\"#FFFFFF\" points=\"314.5,163.72,435.5,163.72,442.5,186.0169,449.5,186.0169,449.5,216.3138,314.5,216.3138,314.5,163.72\" style=\"stroke: #000000; stroke-width: 1.5;\"/><line style=\"stroke: #000000; stroke-width: 1.5;\" x1=\"314.5\" x2=\"442.5\" y1=\"186.0169\" y2=\"186.0169\"/><text fill=\"#000000\" font-family=\"sans-serif\" font-size=\"14\" font-weight=\"bold\" lengthAdjust=\"spacingAndGlyphs\" textLength=\"115\" x=\"318.5\" y=\"178.7151\">Application Layer</text></a><a href=\"psysml:426f0663-f125-4848-8cc6-b208ee541f23\" target=\"_top\" title=\"psysml:426f0663-f125-4848-8cc6-b208ee541f23\" xlink:actuate=\"onRequest\" xlink:href=\"psysml:426f0663-f125-4848-8cc6-b208ee541f23\" xlink:show=\"new\" xlink:title=\"psysml:426f0663-f125-4848-8cc6-b208ee541f23\" xlink:type=\"simple\"><polygon fill=\"#FFFFFF\" points=\"327,293.72,423,293.72,430,316.0169,437,316.0169,437,346.3138,327,346.3138,327,293.72\" style=\"stroke: #000000; stroke-width: 1.5;\"/><line style=\"stroke: #000000; stroke-width: 1.5;\" x1=\"327\" x2=\"430\" y1=\"316.0169\" y2=\"316.0169\"/><text fill=\"#000000\" font-family=\"sans-serif\" font-size=\"14\" font-weight=\"bold\" lengthAdjust=\"spacingAndGlyphs\" textLength=\"90\" x=\"331\" y=\"308.7151\">Service Layer</text></a><a href=\"psysml:fd3440a5-7307-47c9-b63e-e029b0e76f05\" target=\"_top\" title=\"psysml:fd3440a5-7307-47c9-b63e-e029b0e76f05\" xlink:actuate=\"onRequest\" xlink:href=\"psysml:fd3440a5-7307-47c9-b63e-e029b0e76f05\" xlink:show=\"new\" xlink:title=\"psysml:fd3440a5-7307-47c9-b63e-e029b0e76f05\" xlink:type=\"simple\"><polygon fill=\"#FFFFFF\" points=\"336,423.72,414,423.72,421,446.0169,428,446.0169,428,476.3138,336,476.3138,336,423.72\" style=\"stroke: #000000; stroke-width: 1.5;\"/><line style=\"stroke: #000000; stroke-width: 1.5;\" x1=\"336\" x2=\"421\" y1=\"446.0169\" y2=\"446.0169\"/><text fill=\"#000000\" font-family=\"sans-serif\" font-size=\"14\" font-weight=\"bold\" lengthAdjust=\"spacingAndGlyphs\" textLength=\"72\" x=\"340\" y=\"438.7151\">Data Layer</text></a><!--MD5=[1f1cd8e6dd4c1b2ca2aaccc9b9bcea6e]\n",
       "link E1 to E2--><a href=\"psysml:1f214475-93e7-4d57-afd6-304a88df216d\" target=\"_top\" title=\"psysml:1f214475-93e7-4d57-afd6-304a88df216d\" xlink:actuate=\"onRequest\" xlink:href=\"psysml:1f214475-93e7-4d57-afd6-304a88df216d\" xlink:show=\"new\" xlink:title=\"psysml:1f214475-93e7-4d57-afd6-304a88df216d\" xlink:type=\"simple\"><path d=\"M279,33.83 C279,36.15 279,73.83 279,111.5 C279,113.8544 279,116.2087 279,118.5544 C279,119.1408 279,119.7267 279,120.3119 \" fill=\"none\" id=\"E1-&gt;E2\" style=\"stroke: #383838; stroke-width: 1.0; stroke-dasharray: 7.0,7.0;\"/><polygon fill=\"#383838\" points=\"279,120.3119,283,111.3119,279,115.3119,275,111.3119,279,120.3119\" style=\"stroke: #383838; stroke-width: 1.0;\"/><text fill=\"#000000\" font-family=\"sans-serif\" font-size=\"13\" lengthAdjust=\"spacingAndGlyphs\" textLength=\"65\" x=\"280\" y=\"76.7869\">«import»*</text></a><!--MD5=[af87c684e3b0d8be13c1a698a818ef1e]\n",
       "link E3 to E4--><a href=\"psysml:3b6c166c-6961-4bb7-b892-e5bb88ba66d9\" target=\"_top\" title=\"psysml:3b6c166c-6961-4bb7-b892-e5bb88ba66d9\" xlink:actuate=\"onRequest\" xlink:href=\"psysml:3b6c166c-6961-4bb7-b892-e5bb88ba66d9\" xlink:show=\"new\" xlink:title=\"psysml:3b6c166c-6961-4bb7-b892-e5bb88ba66d9\" xlink:type=\"simple\"><path d=\"M382,216.82 C382,236.52 382,263.94 382,285.45 \" fill=\"none\" id=\"E3-&gt;E4\" style=\"stroke: #383838; stroke-width: 1.0; stroke-dasharray: 7.0,7.0;\"/><polygon fill=\"#383838\" points=\"382,293.67,385,285.67,379,285.67,382,293.67\" style=\"stroke: #383838; stroke-width: 1.0;\"/><text fill=\"#000000\" font-family=\"sans-serif\" font-size=\"13\" lengthAdjust=\"spacingAndGlyphs\" textLength=\"64\" x=\"383\" y=\"259.7869\">«depend»</text></a><!--MD5=[1b7591eae5389033d8d09a9d6721a717]\n",
       "link E4 to E5--><a href=\"psysml:f4ae8342-4685-4b6d-8549-04188d07c1c2\" target=\"_top\" title=\"psysml:f4ae8342-4685-4b6d-8549-04188d07c1c2\" xlink:actuate=\"onRequest\" xlink:href=\"psysml:f4ae8342-4685-4b6d-8549-04188d07c1c2\" xlink:show=\"new\" xlink:title=\"psysml:f4ae8342-4685-4b6d-8549-04188d07c1c2\" xlink:type=\"simple\"><path d=\"M382,346.82 C382,366.52 382,393.94 382,415.45 \" fill=\"none\" id=\"E4-&gt;E5\" style=\"stroke: #383838; stroke-width: 1.0; stroke-dasharray: 7.0,7.0;\"/><polygon fill=\"#383838\" points=\"382,423.67,385,415.67,379,415.67,382,423.67\" style=\"stroke: #383838; stroke-width: 1.0;\"/><text fill=\"#000000\" font-family=\"sans-serif\" font-size=\"13\" lengthAdjust=\"spacingAndGlyphs\" textLength=\"64\" x=\"383\" y=\"389.7869\">«depend»</text></a><!--MD5=[c5e8897d989ce984f93528998a7150fe]\n",
       "link E8 to E6--><a href=\"psysml:dd0e7371-702f-42f4-9a28-a8ea46c1187a\" target=\"_top\" title=\"psysml:dd0e7371-702f-42f4-9a28-a8ea46c1187a\" xlink:actuate=\"onRequest\" xlink:href=\"psysml:dd0e7371-702f-42f4-9a28-a8ea46c1187a\" xlink:show=\"new\" xlink:title=\"psysml:dd0e7371-702f-42f4-9a28-a8ea46c1187a\" xlink:type=\"simple\"><path d=\"M97.42,213.32 C87.35,222.4 77.37,233.83 72,246.72 C66.5,259.92 66.66,275.66 68.54,289.1 \" fill=\"none\" id=\"E8-&gt;E6\" style=\"stroke: #383838; stroke-width: 1.0; stroke-dasharray: 7.0,7.0;\"/><polygon fill=\"#383838\" points=\"69.9,297.12,71.517,288.7304,65.6018,289.7359,69.9,297.12\" style=\"stroke: #383838; stroke-width: 1.0;\"/><text fill=\"#000000\" font-family=\"sans-serif\" font-size=\"13\" lengthAdjust=\"spacingAndGlyphs\" textLength=\"64\" x=\"73\" y=\"259.7869\">«depend»</text></a><!--MD5=[bfa3c8b0d15052fdf50ae9310b491027]\n",
       "link E8 to E7--><a href=\"psysml:dd0e7371-702f-42f4-9a28-a8ea46c1187a\" target=\"_top\" title=\"psysml:dd0e7371-702f-42f4-9a28-a8ea46c1187a\" xlink:actuate=\"onRequest\" xlink:href=\"psysml:dd0e7371-702f-42f4-9a28-a8ea46c1187a\" xlink:show=\"new\" xlink:title=\"psysml:dd0e7371-702f-42f4-9a28-a8ea46c1187a\" xlink:type=\"simple\"><path d=\"M137.28,213.22 C146.17,234.29 159.64,266.22 169.47,289.53 \" fill=\"none\" id=\"E8-&gt;E7\" style=\"stroke: #383838; stroke-width: 1.0; stroke-dasharray: 7.0,7.0;\"/><polygon fill=\"#383838\" points=\"172.66,297.07,172.3241,288.5326,166.7933,290.8585,172.66,297.07\" style=\"stroke: #383838; stroke-width: 1.0;\"/><text fill=\"#000000\" font-family=\"sans-serif\" font-size=\"13\" lengthAdjust=\"spacingAndGlyphs\" textLength=\"64\" x=\"159\" y=\"259.7869\">«depend»</text></a><!--MD5=[37a35b6df931dc494c223dece3ea6d64]\n",
       "@startuml\r\n",
       "top to bottom direction\r\n",
       "skinparam monochrome true\r\n",
       "skinparam classbackgroundcolor white\r\n",
       "skinparam shadowing false\r\n",
       "skinparam wrapWidth 300\r\n",
       "hide circle\r\n",
       "\r\n",
       "package \"DependencyTest\" as E1  [[psysml:49f03030-de0c-4f13-ba7b-914972c61aaf ]]  {\r\n",
       "package \"System\" as E2  [[psysml:0a123ebf-9907-4602-8f86-a30c7447a6cf ]]  {\r\n",
       "package \"Application Layer\" as E3  [[psysml:fbc620fa-f332-480d-9302-6e81c218d767 ]]  {\r\n",
       "}\r\n",
       "package \"Service Layer\" as E4  [[psysml:426f0663-f125-4848-8cc6-b208ee541f23 ]]  {\r\n",
       "}\r\n",
       "package \"Data Layer\" as E5  [[psysml:fd3440a5-7307-47c9-b63e-e029b0e76f05 ]]  {\r\n",
       "}\r\n",
       "}\r\n",
       "comp usage \"x \" as E6  <<(T,blue) attribute>> [[psysml:0783b658-08bf-4abf-9182-ba1ece255f80 ]] {\r\n",
       "}\r\n",
       "comp usage \"y \" as E7  <<(T,blue) attribute>> [[psysml:00406d55-97a3-4ada-a9d4-67d88ef5929d ]] {\r\n",
       "}\r\n",
       "comp usage \"z \" as E8  <<(T,blue) attribute>> [[psysml:b610c4be-7598-4a50-a285-e23e2912f41a ]] {\r\n",
       "}\r\n",
       "}\r\n",
       "E1 ..> E2 [[psysml:1f214475-93e7-4d57-afd6-304a88df216d ]] : <<import>>*\r\n",
       "E3 ..>> E4 [[psysml:3b6c166c-6961-4bb7-b892-e5bb88ba66d9 ]] : <<depend>>\r\n",
       "E4 ..>> E5 [[psysml:f4ae8342-4685-4b6d-8549-04188d07c1c2 ]] : <<depend>>\r\n",
       "E8 ..>> E6 [[psysml:dd0e7371-702f-42f4-9a28-a8ea46c1187a ]] : <<depend>>\r\n",
       "E8 ..>> E7 [[psysml:dd0e7371-702f-42f4-9a28-a8ea46c1187a ]] : <<depend>>\r\n",
       "@enduml\r\n",
       "\n",
       "PlantUML version 1.2020.13(Sat Jun 13 12:26:38 UTC 2020)\n",
       "(EPL source distribution)\n",
       "Java Runtime: OpenJDK Runtime Environment\n",
       "JVM: OpenJDK 64-Bit Server VM\n",
       "Default Encoding: UTF-8\n",
       "Language: en\n",
       "Country: null\n",
       "--></g></svg>"
      ]
     },
     "execution_count": 45,
     "metadata": {},
     "output_type": "execute_result"
    }
   ],
   "source": [
    "%viz --style=\"TB\" --view=\"Tree\" \"DependencyTest\""
   ]
  },
  {
   "cell_type": "code",
   "execution_count": 46,
   "id": "5daccafd",
   "metadata": {
    "execution": {
     "iopub.execute_input": "2022-03-03T09:55:01.613244Z",
     "iopub.status.busy": "2022-03-03T09:55:01.612814Z",
     "iopub.status.idle": "2022-03-03T09:55:01.616838Z",
     "shell.execute_reply": "2022-03-03T09:55:01.616471Z"
    }
   },
   "outputs": [
    {
     "data": {
      "image/svg+xml": [
       "<?xml version=\"1.0\" encoding=\"UTF-8\" standalone=\"no\"?><svg xmlns=\"http://www.w3.org/2000/svg\" xmlns:xlink=\"http://www.w3.org/1999/xlink\" contentScriptType=\"application/ecmascript\" contentStyleType=\"text/css\" height=\"12px\" preserveAspectRatio=\"none\" style=\"width:12px;height:12px;\" version=\"1.1\" viewBox=\"0 0 12 12\" width=\"12px\" zoomAndPan=\"magnify\"><defs/><g><!--MD5=[f4ee21bc66e489b5061b7c3e9601fdef]\n",
       "@startuml\r\n",
       "top to bottom direction\r\n",
       "skinparam monochrome true\r\n",
       "skinparam classbackgroundcolor white\r\n",
       "skinparam shadowing false\r\n",
       "skinparam wrapWidth 300\r\n",
       "hide circle\r\n",
       "\r\n",
       "@enduml\r\n",
       "\n",
       "PlantUML version 1.2020.13(Sat Jun 13 12:26:38 UTC 2020)\n",
       "(EPL source distribution)\n",
       "Java Runtime: OpenJDK Runtime Environment\n",
       "JVM: OpenJDK 64-Bit Server VM\n",
       "Default Encoding: UTF-8\n",
       "Language: en\n",
       "Country: null\n",
       "--></g></svg>"
      ]
     },
     "execution_count": 46,
     "metadata": {},
     "output_type": "execute_result"
    }
   ],
   "source": [
    "%viz --style=\"TB\" --view=\"State\" \"DependencyTest\""
   ]
  },
  {
   "cell_type": "code",
   "execution_count": 47,
   "id": "1ded5ac7",
   "metadata": {
    "execution": {
     "iopub.execute_input": "2022-03-03T09:55:01.666920Z",
     "iopub.status.busy": "2022-03-03T09:55:01.666485Z",
     "iopub.status.idle": "2022-03-03T09:55:01.699977Z",
     "shell.execute_reply": "2022-03-03T09:55:01.698600Z"
    }
   },
   "outputs": [
    {
     "data": {
      "image/svg+xml": [
       "<?xml version=\"1.0\" encoding=\"UTF-8\" standalone=\"no\"?><svg xmlns=\"http://www.w3.org/2000/svg\" xmlns:xlink=\"http://www.w3.org/1999/xlink\" contentScriptType=\"application/ecmascript\" contentStyleType=\"text/css\" height=\"442px\" preserveAspectRatio=\"none\" style=\"width:536px;height:442px;\" version=\"1.1\" viewBox=\"0 0 536 442\" width=\"536px\" zoomAndPan=\"magnify\"><defs/><g><!--MD5=[fbc87193dbaf4d95561dea2c320d4a47]\n",
       "cluster E1--><a href=\"psysml:49f03030-de0c-4f13-ba7b-914972c61aaf\" target=\"_top\" title=\"psysml:49f03030-de0c-4f13-ba7b-914972c61aaf\" xlink:actuate=\"onRequest\" xlink:href=\"psysml:49f03030-de0c-4f13-ba7b-914972c61aaf\" xlink:show=\"new\" xlink:title=\"psysml:49f03030-de0c-4f13-ba7b-914972c61aaf\" xlink:type=\"simple\"><polygon fill=\"#FFFFFF\" points=\"16,6,142,6,149,28.2969,514,28.2969,514,430.72,16,430.72,16,6\" style=\"stroke: #000000; stroke-width: 1.5;\"/><line style=\"stroke: #000000; stroke-width: 1.5;\" x1=\"16\" x2=\"149\" y1=\"28.2969\" y2=\"28.2969\"/><text fill=\"#000000\" font-family=\"sans-serif\" font-size=\"14\" font-weight=\"bold\" lengthAdjust=\"spacingAndGlyphs\" textLength=\"120\" x=\"20\" y=\"20.9951\">DependencyTest</text></a><!--MD5=[e4f7fae6ed58524ba242bb0b0d3be6b7]\n",
       "cluster E2--><a href=\"psysml:0a123ebf-9907-4602-8f86-a30c7447a6cf\" target=\"_top\" title=\"psysml:0a123ebf-9907-4602-8f86-a30c7447a6cf\" xlink:actuate=\"onRequest\" xlink:href=\"psysml:0a123ebf-9907-4602-8f86-a30c7447a6cf\" xlink:show=\"new\" xlink:title=\"psysml:0a123ebf-9907-4602-8f86-a30c7447a6cf\" xlink:type=\"simple\"><polygon fill=\"#FFFFFF\" points=\"271,98.72,328,98.72,335,121.0169,474,121.0169,474,390.72,271,390.72,271,98.72\" style=\"stroke: #000000; stroke-width: 1.5;\"/><line style=\"stroke: #000000; stroke-width: 1.5;\" x1=\"271\" x2=\"335\" y1=\"121.0169\" y2=\"121.0169\"/><text fill=\"#000000\" font-family=\"sans-serif\" font-size=\"14\" font-weight=\"bold\" lengthAdjust=\"spacingAndGlyphs\" textLength=\"51\" x=\"275\" y=\"113.7151\">System</text></a><!--MD5=[60a26617385b1d2d0262a64233df1f8d]\n",
       "class E6--><a href=\"psysml:0783b658-08bf-4abf-9182-ba1ece255f80\" target=\"_top\" title=\"psysml:0783b658-08bf-4abf-9182-ba1ece255f80\" xlink:actuate=\"onRequest\" xlink:href=\"psysml:0783b658-08bf-4abf-9182-ba1ece255f80\" xlink:show=\"new\" xlink:title=\"psysml:0783b658-08bf-4abf-9182-ba1ece255f80\" xlink:type=\"simple\"><rect fill=\"#FFFFFF\" height=\"45.9375\" id=\"E6\" rx=\"10\" ry=\"10\" style=\"stroke: #383838; stroke-width: 1.5;\" width=\"71\" x=\"40.5\" y=\"231.22\"/><text fill=\"#000000\" font-family=\"sans-serif\" font-size=\"12\" font-style=\"italic\" lengthAdjust=\"spacingAndGlyphs\" textLength=\"69\" x=\"41.5\" y=\"247.3587\">«attribute»</text><text fill=\"#000000\" font-family=\"sans-serif\" font-size=\"12\" lengthAdjust=\"spacingAndGlyphs\" textLength=\"6\" x=\"71\" y=\"261.3274\">x</text><line style=\"stroke: #383838; stroke-width: 1.5;\" x1=\"41.5\" x2=\"110.5\" y1=\"269.1575\" y2=\"269.1575\"/></a><!--MD5=[2156ba9850f5573cc1fc38a6a4b2f02b]\n",
       "class E7--><a href=\"psysml:00406d55-97a3-4ada-a9d4-67d88ef5929d\" target=\"_top\" title=\"psysml:00406d55-97a3-4ada-a9d4-67d88ef5929d\" xlink:actuate=\"onRequest\" xlink:href=\"psysml:00406d55-97a3-4ada-a9d4-67d88ef5929d\" xlink:show=\"new\" xlink:title=\"psysml:00406d55-97a3-4ada-a9d4-67d88ef5929d\" xlink:type=\"simple\"><rect fill=\"#FFFFFF\" height=\"45.9375\" id=\"E7\" rx=\"10\" ry=\"10\" style=\"stroke: #383838; stroke-width: 1.5;\" width=\"71\" x=\"146.5\" y=\"231.22\"/><text fill=\"#000000\" font-family=\"sans-serif\" font-size=\"12\" font-style=\"italic\" lengthAdjust=\"spacingAndGlyphs\" textLength=\"69\" x=\"147.5\" y=\"247.3587\">«attribute»</text><text fill=\"#000000\" font-family=\"sans-serif\" font-size=\"12\" lengthAdjust=\"spacingAndGlyphs\" textLength=\"6\" x=\"177\" y=\"261.3274\">y</text><line style=\"stroke: #383838; stroke-width: 1.5;\" x1=\"147.5\" x2=\"216.5\" y1=\"269.1575\" y2=\"269.1575\"/></a><!--MD5=[b9389687b975829384b498ac4b7476b2]\n",
       "class E8--><a href=\"psysml:b610c4be-7598-4a50-a285-e23e2912f41a\" target=\"_top\" title=\"psysml:b610c4be-7598-4a50-a285-e23e2912f41a\" xlink:actuate=\"onRequest\" xlink:href=\"psysml:b610c4be-7598-4a50-a285-e23e2912f41a\" xlink:show=\"new\" xlink:title=\"psysml:b610c4be-7598-4a50-a285-e23e2912f41a\" xlink:type=\"simple\"><rect fill=\"#FFFFFF\" height=\"45.9375\" id=\"E8\" rx=\"10\" ry=\"10\" style=\"stroke: #383838; stroke-width: 1.5;\" width=\"71\" x=\"92.5\" y=\"145.22\"/><text fill=\"#000000\" font-family=\"sans-serif\" font-size=\"12\" font-style=\"italic\" lengthAdjust=\"spacingAndGlyphs\" textLength=\"69\" x=\"93.5\" y=\"161.3587\">«attribute»</text><text fill=\"#000000\" font-family=\"sans-serif\" font-size=\"12\" lengthAdjust=\"spacingAndGlyphs\" textLength=\"5\" x=\"123.5\" y=\"175.3274\">z</text><line style=\"stroke: #383838; stroke-width: 1.5;\" x1=\"93.5\" x2=\"162.5\" y1=\"183.1575\" y2=\"183.1575\"/></a><a href=\"psysml:fbc620fa-f332-480d-9302-6e81c218d767\" target=\"_top\" title=\"psysml:fbc620fa-f332-480d-9302-6e81c218d767\" xlink:actuate=\"onRequest\" xlink:href=\"psysml:fbc620fa-f332-480d-9302-6e81c218d767\" xlink:show=\"new\" xlink:title=\"psysml:fbc620fa-f332-480d-9302-6e81c218d767\" xlink:type=\"simple\"><polygon fill=\"#FFFFFF\" points=\"314.5,141.72,435.5,141.72,442.5,164.0169,449.5,164.0169,449.5,194.3138,314.5,194.3138,314.5,141.72\" style=\"stroke: #000000; stroke-width: 1.5;\"/><line style=\"stroke: #000000; stroke-width: 1.5;\" x1=\"314.5\" x2=\"442.5\" y1=\"164.0169\" y2=\"164.0169\"/><text fill=\"#000000\" font-family=\"sans-serif\" font-size=\"14\" font-weight=\"bold\" lengthAdjust=\"spacingAndGlyphs\" textLength=\"115\" x=\"318.5\" y=\"156.7151\">Application Layer</text></a><a href=\"psysml:426f0663-f125-4848-8cc6-b208ee541f23\" target=\"_top\" title=\"psysml:426f0663-f125-4848-8cc6-b208ee541f23\" xlink:actuate=\"onRequest\" xlink:href=\"psysml:426f0663-f125-4848-8cc6-b208ee541f23\" xlink:show=\"new\" xlink:title=\"psysml:426f0663-f125-4848-8cc6-b208ee541f23\" xlink:type=\"simple\"><polygon fill=\"#FFFFFF\" points=\"327,227.72,423,227.72,430,250.0169,437,250.0169,437,280.3138,327,280.3138,327,227.72\" style=\"stroke: #000000; stroke-width: 1.5;\"/><line style=\"stroke: #000000; stroke-width: 1.5;\" x1=\"327\" x2=\"430\" y1=\"250.0169\" y2=\"250.0169\"/><text fill=\"#000000\" font-family=\"sans-serif\" font-size=\"14\" font-weight=\"bold\" lengthAdjust=\"spacingAndGlyphs\" textLength=\"90\" x=\"331\" y=\"242.7151\">Service Layer</text></a><a href=\"psysml:fd3440a5-7307-47c9-b63e-e029b0e76f05\" target=\"_top\" title=\"psysml:fd3440a5-7307-47c9-b63e-e029b0e76f05\" xlink:actuate=\"onRequest\" xlink:href=\"psysml:fd3440a5-7307-47c9-b63e-e029b0e76f05\" xlink:show=\"new\" xlink:title=\"psysml:fd3440a5-7307-47c9-b63e-e029b0e76f05\" xlink:type=\"simple\"><polygon fill=\"#FFFFFF\" points=\"336,313.72,414,313.72,421,336.0169,428,336.0169,428,366.3138,336,366.3138,336,313.72\" style=\"stroke: #000000; stroke-width: 1.5;\"/><line style=\"stroke: #000000; stroke-width: 1.5;\" x1=\"336\" x2=\"421\" y1=\"336.0169\" y2=\"336.0169\"/><text fill=\"#000000\" font-family=\"sans-serif\" font-size=\"14\" font-weight=\"bold\" lengthAdjust=\"spacingAndGlyphs\" textLength=\"72\" x=\"340\" y=\"328.7151\">Data Layer</text></a><!--MD5=[1f1cd8e6dd4c1b2ca2aaccc9b9bcea6e]\n",
       "link E1 to E2--><a href=\"psysml:1f214475-93e7-4d57-afd6-304a88df216d\" target=\"_top\" title=\"psysml:1f214475-93e7-4d57-afd6-304a88df216d\" xlink:actuate=\"onRequest\" xlink:href=\"psysml:1f214475-93e7-4d57-afd6-304a88df216d\" xlink:show=\"new\" xlink:title=\"psysml:1f214475-93e7-4d57-afd6-304a88df216d\" xlink:type=\"simple\"><path d=\"M279,33.82 C279,34.815 279,43.3994 279,55.7775 C279,61.9666 279,69.1041 279,76.7155 C279,80.5213 279,84.4455 279,88.429 C279,90.4207 279,92.4272 279,94.4411 C279,95.448 279,96.4568 279,97.4665 C279,97.719 279,97.9714 279,98.224 \" fill=\"none\" id=\"E1-&gt;E2\" style=\"stroke: #383838; stroke-width: 1.0; stroke-dasharray: 7.0,7.0;\"/><polygon fill=\"#383838\" points=\"279,98.224,283,89.224,279,93.224,275,89.224,279,98.224\" style=\"stroke: #383838; stroke-width: 1.0;\"/><text fill=\"#000000\" font-family=\"sans-serif\" font-size=\"13\" lengthAdjust=\"spacingAndGlyphs\" textLength=\"65\" x=\"280\" y=\"54.7869\">«import»*</text></a><!--MD5=[af87c684e3b0d8be13c1a698a818ef1e]\n",
       "link E3 to E4--><a href=\"psysml:3b6c166c-6961-4bb7-b892-e5bb88ba66d9\" target=\"_top\" title=\"psysml:3b6c166c-6961-4bb7-b892-e5bb88ba66d9\" xlink:actuate=\"onRequest\" xlink:href=\"psysml:3b6c166c-6961-4bb7-b892-e5bb88ba66d9\" xlink:show=\"new\" xlink:title=\"psysml:3b6c166c-6961-4bb7-b892-e5bb88ba66d9\" xlink:type=\"simple\"><path d=\"M382,194.88 C382,202.7 382,211.41 382,219.66 \" fill=\"none\" id=\"E3-&gt;E4\" style=\"stroke: #383838; stroke-width: 1.0; stroke-dasharray: 7.0,7.0;\"/><polygon fill=\"#383838\" points=\"382,227.72,385,219.72,379,219.72,382,227.72\" style=\"stroke: #383838; stroke-width: 1.0;\"/><text fill=\"#000000\" font-family=\"sans-serif\" font-size=\"13\" lengthAdjust=\"spacingAndGlyphs\" textLength=\"64\" x=\"383\" y=\"215.7869\">«depend»</text></a><!--MD5=[1b7591eae5389033d8d09a9d6721a717]\n",
       "link E4 to E5--><a href=\"psysml:f4ae8342-4685-4b6d-8549-04188d07c1c2\" target=\"_top\" title=\"psysml:f4ae8342-4685-4b6d-8549-04188d07c1c2\" xlink:actuate=\"onRequest\" xlink:href=\"psysml:f4ae8342-4685-4b6d-8549-04188d07c1c2\" xlink:show=\"new\" xlink:title=\"psysml:f4ae8342-4685-4b6d-8549-04188d07c1c2\" xlink:type=\"simple\"><path d=\"M382,280.88 C382,288.7 382,297.41 382,305.66 \" fill=\"none\" id=\"E4-&gt;E5\" style=\"stroke: #383838; stroke-width: 1.0; stroke-dasharray: 7.0,7.0;\"/><polygon fill=\"#383838\" points=\"382,313.72,385,305.72,379,305.72,382,313.72\" style=\"stroke: #383838; stroke-width: 1.0;\"/><text fill=\"#000000\" font-family=\"sans-serif\" font-size=\"13\" lengthAdjust=\"spacingAndGlyphs\" textLength=\"64\" x=\"383\" y=\"301.7869\">«depend»</text></a><!--MD5=[c5e8897d989ce984f93528998a7150fe]\n",
       "link E8 to E6--><a href=\"psysml:dd0e7371-702f-42f4-9a28-a8ea46c1187a\" target=\"_top\" title=\"psysml:dd0e7371-702f-42f4-9a28-a8ea46c1187a\" xlink:actuate=\"onRequest\" xlink:href=\"psysml:dd0e7371-702f-42f4-9a28-a8ea46c1187a\" xlink:show=\"new\" xlink:title=\"psysml:dd0e7371-702f-42f4-9a28-a8ea46c1187a\" xlink:type=\"simple\"><path d=\"M92.49,183.06 C84.34,187.99 76.69,194.44 72,202.72 C68.54,208.82 67.62,216.03 68,223.05 \" fill=\"none\" id=\"E8-&gt;E6\" style=\"stroke: #383838; stroke-width: 1.0; stroke-dasharray: 7.0,7.0;\"/><polygon fill=\"#383838\" points=\"68.97,231.14,71.0061,222.8421,65.0479,223.5494,68.97,231.14\" style=\"stroke: #383838; stroke-width: 1.0;\"/><text fill=\"#000000\" font-family=\"sans-serif\" font-size=\"13\" lengthAdjust=\"spacingAndGlyphs\" textLength=\"64\" x=\"73\" y=\"215.7869\">«depend»</text></a><!--MD5=[bfa3c8b0d15052fdf50ae9310b491027]\n",
       "link E8 to E7--><a href=\"psysml:dd0e7371-702f-42f4-9a28-a8ea46c1187a\" target=\"_top\" title=\"psysml:dd0e7371-702f-42f4-9a28-a8ea46c1187a\" xlink:actuate=\"onRequest\" xlink:href=\"psysml:dd0e7371-702f-42f4-9a28-a8ea46c1187a\" xlink:show=\"new\" xlink:title=\"psysml:dd0e7371-702f-42f4-9a28-a8ea46c1187a\" xlink:type=\"simple\"><path d=\"M142.19,191.29 C148.65,201.34 156.38,213.37 163.31,224.14 \" fill=\"none\" id=\"E8-&gt;E7\" style=\"stroke: #383838; stroke-width: 1.0; stroke-dasharray: 7.0,7.0;\"/><polygon fill=\"#383838\" points=\"167.72,231.01,165.9148,222.6589,160.8688,225.905,167.72,231.01\" style=\"stroke: #383838; stroke-width: 1.0;\"/><text fill=\"#000000\" font-family=\"sans-serif\" font-size=\"13\" lengthAdjust=\"spacingAndGlyphs\" textLength=\"64\" x=\"160\" y=\"215.7869\">«depend»</text></a><!--MD5=[cc3f893f1fe0e3904355c905a6de28c7]\n",
       "@startuml\r\n",
       "skinparam ranksep 10\r\n",
       "skinparam rectangle {\r\n",
       " backgroundColor<<block>> LightGreen\r\n",
       "}\r\n",
       "top to bottom direction\r\n",
       "skinparam monochrome true\r\n",
       "skinparam classbackgroundcolor white\r\n",
       "skinparam shadowing false\r\n",
       "skinparam wrapWidth 300\r\n",
       "hide circle\r\n",
       "\r\n",
       "package \"DependencyTest\" as E1  [[psysml:49f03030-de0c-4f13-ba7b-914972c61aaf ]]  {\r\n",
       "package \"System\" as E2  [[psysml:0a123ebf-9907-4602-8f86-a30c7447a6cf ]]  {\r\n",
       "package \"Application Layer\" as E3  [[psysml:fbc620fa-f332-480d-9302-6e81c218d767 ]]  {\r\n",
       "}\r\n",
       "package \"Service Layer\" as E4  [[psysml:426f0663-f125-4848-8cc6-b208ee541f23 ]]  {\r\n",
       "}\r\n",
       "package \"Data Layer\" as E5  [[psysml:fd3440a5-7307-47c9-b63e-e029b0e76f05 ]]  {\r\n",
       "}\r\n",
       "}\r\n",
       "comp usage \"x \" as E6  <<(T,blue) attribute>> [[psysml:0783b658-08bf-4abf-9182-ba1ece255f80 ]] {\r\n",
       "}\r\n",
       "comp usage \"y \" as E7  <<(T,blue) attribute>> [[psysml:00406d55-97a3-4ada-a9d4-67d88ef5929d ]] {\r\n",
       "}\r\n",
       "comp usage \"z \" as E8  <<(T,blue) attribute>> [[psysml:b610c4be-7598-4a50-a285-e23e2912f41a ]] {\r\n",
       "}\r\n",
       "}\r\n",
       "E1 ..> E2 [[psysml:1f214475-93e7-4d57-afd6-304a88df216d ]] : <<import>>*\r\n",
       "E3 ..>> E4 [[psysml:3b6c166c-6961-4bb7-b892-e5bb88ba66d9 ]] : <<depend>>\r\n",
       "E4 ..>> E5 [[psysml:f4ae8342-4685-4b6d-8549-04188d07c1c2 ]] : <<depend>>\r\n",
       "E8 ..>> E6 [[psysml:dd0e7371-702f-42f4-9a28-a8ea46c1187a ]] : <<depend>>\r\n",
       "E8 ..>> E7 [[psysml:dd0e7371-702f-42f4-9a28-a8ea46c1187a ]] : <<depend>>\r\n",
       "@enduml\r\n",
       "\n",
       "PlantUML version 1.2020.13(Sat Jun 13 12:26:38 UTC 2020)\n",
       "(EPL source distribution)\n",
       "Java Runtime: OpenJDK Runtime Environment\n",
       "JVM: OpenJDK 64-Bit Server VM\n",
       "Default Encoding: UTF-8\n",
       "Language: en\n",
       "Country: null\n",
       "--></g></svg>"
      ]
     },
     "execution_count": 47,
     "metadata": {},
     "output_type": "execute_result"
    }
   ],
   "source": [
    "%viz --style=\"TB\" --view=\"Interconnection\" \"DependencyTest\""
   ]
  },
  {
   "cell_type": "code",
   "execution_count": 48,
   "id": "77bc79f9",
   "metadata": {
    "execution": {
     "iopub.execute_input": "2022-03-03T09:55:01.749569Z",
     "iopub.status.busy": "2022-03-03T09:55:01.749149Z",
     "iopub.status.idle": "2022-03-03T09:55:01.753187Z",
     "shell.execute_reply": "2022-03-03T09:55:01.753498Z"
    }
   },
   "outputs": [
    {
     "data": {
      "image/svg+xml": [
       "<?xml version=\"1.0\" encoding=\"UTF-8\" standalone=\"no\"?><svg xmlns=\"http://www.w3.org/2000/svg\" xmlns:xlink=\"http://www.w3.org/1999/xlink\" contentScriptType=\"application/ecmascript\" contentStyleType=\"text/css\" height=\"12px\" preserveAspectRatio=\"none\" style=\"width:12px;height:12px;\" version=\"1.1\" viewBox=\"0 0 12 12\" width=\"12px\" zoomAndPan=\"magnify\"><defs/><g><!--MD5=[06afc254b03ac5e9d9fb7773b07d0800]\n",
       "@startuml\r\n",
       "skinparam ranksep 8\r\n",
       "top to bottom direction\r\n",
       "skinparam monochrome true\r\n",
       "skinparam classbackgroundcolor white\r\n",
       "skinparam shadowing false\r\n",
       "skinparam wrapWidth 300\r\n",
       "hide circle\r\n",
       "\r\n",
       "@enduml\r\n",
       "\n",
       "PlantUML version 1.2020.13(Sat Jun 13 12:26:38 UTC 2020)\n",
       "(EPL source distribution)\n",
       "Java Runtime: OpenJDK Runtime Environment\n",
       "JVM: OpenJDK 64-Bit Server VM\n",
       "Default Encoding: UTF-8\n",
       "Language: en\n",
       "Country: null\n",
       "--></g></svg>"
      ]
     },
     "execution_count": 48,
     "metadata": {},
     "output_type": "execute_result"
    }
   ],
   "source": [
    "%viz --style=\"TB\" --view=\"Action\" \"DependencyTest\""
   ]
  },
  {
   "cell_type": "code",
   "execution_count": 49,
   "id": "6c0b4f6f",
   "metadata": {
    "execution": {
     "iopub.execute_input": "2022-03-03T09:55:01.803636Z",
     "iopub.status.busy": "2022-03-03T09:55:01.803214Z",
     "iopub.status.idle": "2022-03-03T09:55:01.807247Z",
     "shell.execute_reply": "2022-03-03T09:55:01.807552Z"
    }
   },
   "outputs": [
    {
     "data": {
      "image/svg+xml": [
       "<?xml version=\"1.0\" encoding=\"UTF-8\" standalone=\"no\"?><svg xmlns=\"http://www.w3.org/2000/svg\" xmlns:xlink=\"http://www.w3.org/1999/xlink\" contentScriptType=\"application/ecmascript\" contentStyleType=\"text/css\" height=\"12px\" preserveAspectRatio=\"none\" style=\"width:12px;height:12px;\" version=\"1.1\" viewBox=\"0 0 12 12\" width=\"12px\" zoomAndPan=\"magnify\"><defs/><g><!--MD5=[e1ab0c84c44d2fef8bf5f140f2689906]\n",
       "@startuml\r\n",
       "skinparam roundcorner 20\r\n",
       "skinparam BoxPadding 20\r\n",
       "skinparam SequenceBoxBackgroundColor #white\r\n",
       "skinparam style strictuml\r\n",
       "skinparam maxMessageSize 100\r\n",
       "top to bottom direction\r\n",
       "skinparam monochrome true\r\n",
       "skinparam classbackgroundcolor white\r\n",
       "skinparam shadowing false\r\n",
       "skinparam wrapWidth 300\r\n",
       "hide circle\r\n",
       "\r\n",
       "@enduml\r\n",
       "\n",
       "PlantUML version 1.2020.13(Sat Jun 13 12:26:38 UTC 2020)\n",
       "(EPL source distribution)\n",
       "Java Runtime: OpenJDK Runtime Environment\n",
       "JVM: OpenJDK 64-Bit Server VM\n",
       "Default Encoding: UTF-8\n",
       "Language: en\n",
       "Country: null\n",
       "--></g></svg>"
      ]
     },
     "execution_count": 49,
     "metadata": {},
     "output_type": "execute_result"
    }
   ],
   "source": [
    "%viz --style=\"TB\" --view=\"Sequence\" \"DependencyTest\""
   ]
  },
  {
   "cell_type": "code",
   "execution_count": 50,
   "id": "ad36a2a0",
   "metadata": {
    "execution": {
     "iopub.execute_input": "2022-03-03T09:55:01.857727Z",
     "iopub.status.busy": "2022-03-03T09:55:01.857337Z",
     "iopub.status.idle": "2022-03-03T09:55:01.888452Z",
     "shell.execute_reply": "2022-03-03T09:55:01.887154Z"
    }
   },
   "outputs": [
    {
     "data": {
      "image/svg+xml": [
       "<?xml version=\"1.0\" encoding=\"UTF-8\" standalone=\"no\"?><svg xmlns=\"http://www.w3.org/2000/svg\" xmlns:xlink=\"http://www.w3.org/1999/xlink\" contentScriptType=\"application/ecmascript\" contentStyleType=\"text/css\" height=\"552px\" preserveAspectRatio=\"none\" style=\"width:536px;height:552px;\" version=\"1.1\" viewBox=\"0 0 536 552\" width=\"536px\" zoomAndPan=\"magnify\"><defs/><g><!--MD5=[fbc87193dbaf4d95561dea2c320d4a47]\n",
       "cluster E1--><a href=\"psysml:49f03030-de0c-4f13-ba7b-914972c61aaf\" target=\"_top\" title=\"psysml:49f03030-de0c-4f13-ba7b-914972c61aaf\" xlink:actuate=\"onRequest\" xlink:href=\"psysml:49f03030-de0c-4f13-ba7b-914972c61aaf\" xlink:show=\"new\" xlink:title=\"psysml:49f03030-de0c-4f13-ba7b-914972c61aaf\" xlink:type=\"simple\"><polygon fill=\"#FFFFFF\" points=\"16,6,142,6,149,28.2969,514,28.2969,514,540.72,16,540.72,16,6\" style=\"stroke: #000000; stroke-width: 1.5;\"/><line style=\"stroke: #000000; stroke-width: 1.5;\" x1=\"16\" x2=\"149\" y1=\"28.2969\" y2=\"28.2969\"/><text fill=\"#000000\" font-family=\"sans-serif\" font-size=\"14\" font-weight=\"bold\" lengthAdjust=\"spacingAndGlyphs\" textLength=\"120\" x=\"20\" y=\"20.9951\">DependencyTest</text></a><!--MD5=[e4f7fae6ed58524ba242bb0b0d3be6b7]\n",
       "cluster E2--><a href=\"psysml:0a123ebf-9907-4602-8f86-a30c7447a6cf\" target=\"_top\" title=\"psysml:0a123ebf-9907-4602-8f86-a30c7447a6cf\" xlink:actuate=\"onRequest\" xlink:href=\"psysml:0a123ebf-9907-4602-8f86-a30c7447a6cf\" xlink:show=\"new\" xlink:title=\"psysml:0a123ebf-9907-4602-8f86-a30c7447a6cf\" xlink:type=\"simple\"><polygon fill=\"#FFFFFF\" points=\"271,120.72,328,120.72,335,143.0169,474,143.0169,474,500.72,271,500.72,271,120.72\" style=\"stroke: #000000; stroke-width: 1.5;\"/><line style=\"stroke: #000000; stroke-width: 1.5;\" x1=\"271\" x2=\"335\" y1=\"143.0169\" y2=\"143.0169\"/><text fill=\"#000000\" font-family=\"sans-serif\" font-size=\"14\" font-weight=\"bold\" lengthAdjust=\"spacingAndGlyphs\" textLength=\"51\" x=\"275\" y=\"135.7151\">System</text></a><!--MD5=[60a26617385b1d2d0262a64233df1f8d]\n",
       "class E6--><a href=\"psysml:0783b658-08bf-4abf-9182-ba1ece255f80\" target=\"_top\" title=\"psysml:0783b658-08bf-4abf-9182-ba1ece255f80\" xlink:actuate=\"onRequest\" xlink:href=\"psysml:0783b658-08bf-4abf-9182-ba1ece255f80\" xlink:show=\"new\" xlink:title=\"psysml:0783b658-08bf-4abf-9182-ba1ece255f80\" xlink:type=\"simple\"><rect fill=\"#FFFFFF\" height=\"45.9375\" id=\"E6\" rx=\"10\" ry=\"10\" style=\"stroke: #383838; stroke-width: 1.5;\" width=\"71\" x=\"40.5\" y=\"297.22\"/><text fill=\"#000000\" font-family=\"sans-serif\" font-size=\"12\" font-style=\"italic\" lengthAdjust=\"spacingAndGlyphs\" textLength=\"69\" x=\"41.5\" y=\"313.3587\">«attribute»</text><text fill=\"#000000\" font-family=\"sans-serif\" font-size=\"12\" lengthAdjust=\"spacingAndGlyphs\" textLength=\"6\" x=\"71\" y=\"327.3274\">x</text><line style=\"stroke: #383838; stroke-width: 1.5;\" x1=\"41.5\" x2=\"110.5\" y1=\"335.1575\" y2=\"335.1575\"/></a><!--MD5=[2156ba9850f5573cc1fc38a6a4b2f02b]\n",
       "class E7--><a href=\"psysml:00406d55-97a3-4ada-a9d4-67d88ef5929d\" target=\"_top\" title=\"psysml:00406d55-97a3-4ada-a9d4-67d88ef5929d\" xlink:actuate=\"onRequest\" xlink:href=\"psysml:00406d55-97a3-4ada-a9d4-67d88ef5929d\" xlink:show=\"new\" xlink:title=\"psysml:00406d55-97a3-4ada-a9d4-67d88ef5929d\" xlink:type=\"simple\"><rect fill=\"#FFFFFF\" height=\"45.9375\" id=\"E7\" rx=\"10\" ry=\"10\" style=\"stroke: #383838; stroke-width: 1.5;\" width=\"71\" x=\"146.5\" y=\"297.22\"/><text fill=\"#000000\" font-family=\"sans-serif\" font-size=\"12\" font-style=\"italic\" lengthAdjust=\"spacingAndGlyphs\" textLength=\"69\" x=\"147.5\" y=\"313.3587\">«attribute»</text><text fill=\"#000000\" font-family=\"sans-serif\" font-size=\"12\" lengthAdjust=\"spacingAndGlyphs\" textLength=\"6\" x=\"177\" y=\"327.3274\">y</text><line style=\"stroke: #383838; stroke-width: 1.5;\" x1=\"147.5\" x2=\"216.5\" y1=\"335.1575\" y2=\"335.1575\"/></a><!--MD5=[b9389687b975829384b498ac4b7476b2]\n",
       "class E8--><a href=\"psysml:b610c4be-7598-4a50-a285-e23e2912f41a\" target=\"_top\" title=\"psysml:b610c4be-7598-4a50-a285-e23e2912f41a\" xlink:actuate=\"onRequest\" xlink:href=\"psysml:b610c4be-7598-4a50-a285-e23e2912f41a\" xlink:show=\"new\" xlink:title=\"psysml:b610c4be-7598-4a50-a285-e23e2912f41a\" xlink:type=\"simple\"><rect fill=\"#FFFFFF\" height=\"45.9375\" id=\"E8\" rx=\"10\" ry=\"10\" style=\"stroke: #383838; stroke-width: 1.5;\" width=\"71\" x=\"92.5\" y=\"167.22\"/><text fill=\"#000000\" font-family=\"sans-serif\" font-size=\"12\" font-style=\"italic\" lengthAdjust=\"spacingAndGlyphs\" textLength=\"69\" x=\"93.5\" y=\"183.3587\">«attribute»</text><text fill=\"#000000\" font-family=\"sans-serif\" font-size=\"12\" lengthAdjust=\"spacingAndGlyphs\" textLength=\"5\" x=\"123.5\" y=\"197.3274\">z</text><line style=\"stroke: #383838; stroke-width: 1.5;\" x1=\"93.5\" x2=\"162.5\" y1=\"205.1575\" y2=\"205.1575\"/></a><a href=\"psysml:fbc620fa-f332-480d-9302-6e81c218d767\" target=\"_top\" title=\"psysml:fbc620fa-f332-480d-9302-6e81c218d767\" xlink:actuate=\"onRequest\" xlink:href=\"psysml:fbc620fa-f332-480d-9302-6e81c218d767\" xlink:show=\"new\" xlink:title=\"psysml:fbc620fa-f332-480d-9302-6e81c218d767\" xlink:type=\"simple\"><polygon fill=\"#FFFFFF\" points=\"314.5,163.72,435.5,163.72,442.5,186.0169,449.5,186.0169,449.5,216.3138,314.5,216.3138,314.5,163.72\" style=\"stroke: #000000; stroke-width: 1.5;\"/><line style=\"stroke: #000000; stroke-width: 1.5;\" x1=\"314.5\" x2=\"442.5\" y1=\"186.0169\" y2=\"186.0169\"/><text fill=\"#000000\" font-family=\"sans-serif\" font-size=\"14\" font-weight=\"bold\" lengthAdjust=\"spacingAndGlyphs\" textLength=\"115\" x=\"318.5\" y=\"178.7151\">Application Layer</text></a><a href=\"psysml:426f0663-f125-4848-8cc6-b208ee541f23\" target=\"_top\" title=\"psysml:426f0663-f125-4848-8cc6-b208ee541f23\" xlink:actuate=\"onRequest\" xlink:href=\"psysml:426f0663-f125-4848-8cc6-b208ee541f23\" xlink:show=\"new\" xlink:title=\"psysml:426f0663-f125-4848-8cc6-b208ee541f23\" xlink:type=\"simple\"><polygon fill=\"#FFFFFF\" points=\"327,293.72,423,293.72,430,316.0169,437,316.0169,437,346.3138,327,346.3138,327,293.72\" style=\"stroke: #000000; stroke-width: 1.5;\"/><line style=\"stroke: #000000; stroke-width: 1.5;\" x1=\"327\" x2=\"430\" y1=\"316.0169\" y2=\"316.0169\"/><text fill=\"#000000\" font-family=\"sans-serif\" font-size=\"14\" font-weight=\"bold\" lengthAdjust=\"spacingAndGlyphs\" textLength=\"90\" x=\"331\" y=\"308.7151\">Service Layer</text></a><a href=\"psysml:fd3440a5-7307-47c9-b63e-e029b0e76f05\" target=\"_top\" title=\"psysml:fd3440a5-7307-47c9-b63e-e029b0e76f05\" xlink:actuate=\"onRequest\" xlink:href=\"psysml:fd3440a5-7307-47c9-b63e-e029b0e76f05\" xlink:show=\"new\" xlink:title=\"psysml:fd3440a5-7307-47c9-b63e-e029b0e76f05\" xlink:type=\"simple\"><polygon fill=\"#FFFFFF\" points=\"336,423.72,414,423.72,421,446.0169,428,446.0169,428,476.3138,336,476.3138,336,423.72\" style=\"stroke: #000000; stroke-width: 1.5;\"/><line style=\"stroke: #000000; stroke-width: 1.5;\" x1=\"336\" x2=\"421\" y1=\"446.0169\" y2=\"446.0169\"/><text fill=\"#000000\" font-family=\"sans-serif\" font-size=\"14\" font-weight=\"bold\" lengthAdjust=\"spacingAndGlyphs\" textLength=\"72\" x=\"340\" y=\"438.7151\">Data Layer</text></a><!--MD5=[1f1cd8e6dd4c1b2ca2aaccc9b9bcea6e]\n",
       "link E1 to E2--><a href=\"psysml:1f214475-93e7-4d57-afd6-304a88df216d\" target=\"_top\" title=\"psysml:1f214475-93e7-4d57-afd6-304a88df216d\" xlink:actuate=\"onRequest\" xlink:href=\"psysml:1f214475-93e7-4d57-afd6-304a88df216d\" xlink:show=\"new\" xlink:title=\"psysml:1f214475-93e7-4d57-afd6-304a88df216d\" xlink:type=\"simple\"><path d=\"M279,33.83 C279,36.15 279,73.83 279,111.5 C279,113.8544 279,116.2087 279,118.5544 C279,119.1408 279,119.7267 279,120.3119 \" fill=\"none\" id=\"E1-&gt;E2\" style=\"stroke: #383838; stroke-width: 1.0; stroke-dasharray: 7.0,7.0;\"/><polygon fill=\"#383838\" points=\"279,120.3119,283,111.3119,279,115.3119,275,111.3119,279,120.3119\" style=\"stroke: #383838; stroke-width: 1.0;\"/><text fill=\"#000000\" font-family=\"sans-serif\" font-size=\"13\" lengthAdjust=\"spacingAndGlyphs\" textLength=\"65\" x=\"280\" y=\"76.7869\">«import»*</text></a><!--MD5=[af87c684e3b0d8be13c1a698a818ef1e]\n",
       "link E3 to E4--><a href=\"psysml:3b6c166c-6961-4bb7-b892-e5bb88ba66d9\" target=\"_top\" title=\"psysml:3b6c166c-6961-4bb7-b892-e5bb88ba66d9\" xlink:actuate=\"onRequest\" xlink:href=\"psysml:3b6c166c-6961-4bb7-b892-e5bb88ba66d9\" xlink:show=\"new\" xlink:title=\"psysml:3b6c166c-6961-4bb7-b892-e5bb88ba66d9\" xlink:type=\"simple\"><path d=\"M382,216.82 C382,236.52 382,263.94 382,285.45 \" fill=\"none\" id=\"E3-&gt;E4\" style=\"stroke: #383838; stroke-width: 1.0; stroke-dasharray: 7.0,7.0;\"/><polygon fill=\"#383838\" points=\"382,293.67,385,285.67,379,285.67,382,293.67\" style=\"stroke: #383838; stroke-width: 1.0;\"/><text fill=\"#000000\" font-family=\"sans-serif\" font-size=\"13\" lengthAdjust=\"spacingAndGlyphs\" textLength=\"64\" x=\"383\" y=\"259.7869\">«depend»</text></a><!--MD5=[1b7591eae5389033d8d09a9d6721a717]\n",
       "link E4 to E5--><a href=\"psysml:f4ae8342-4685-4b6d-8549-04188d07c1c2\" target=\"_top\" title=\"psysml:f4ae8342-4685-4b6d-8549-04188d07c1c2\" xlink:actuate=\"onRequest\" xlink:href=\"psysml:f4ae8342-4685-4b6d-8549-04188d07c1c2\" xlink:show=\"new\" xlink:title=\"psysml:f4ae8342-4685-4b6d-8549-04188d07c1c2\" xlink:type=\"simple\"><path d=\"M382,346.82 C382,366.52 382,393.94 382,415.45 \" fill=\"none\" id=\"E4-&gt;E5\" style=\"stroke: #383838; stroke-width: 1.0; stroke-dasharray: 7.0,7.0;\"/><polygon fill=\"#383838\" points=\"382,423.67,385,415.67,379,415.67,382,423.67\" style=\"stroke: #383838; stroke-width: 1.0;\"/><text fill=\"#000000\" font-family=\"sans-serif\" font-size=\"13\" lengthAdjust=\"spacingAndGlyphs\" textLength=\"64\" x=\"383\" y=\"389.7869\">«depend»</text></a><!--MD5=[c5e8897d989ce984f93528998a7150fe]\n",
       "link E8 to E6--><a href=\"psysml:dd0e7371-702f-42f4-9a28-a8ea46c1187a\" target=\"_top\" title=\"psysml:dd0e7371-702f-42f4-9a28-a8ea46c1187a\" xlink:actuate=\"onRequest\" xlink:href=\"psysml:dd0e7371-702f-42f4-9a28-a8ea46c1187a\" xlink:show=\"new\" xlink:title=\"psysml:dd0e7371-702f-42f4-9a28-a8ea46c1187a\" xlink:type=\"simple\"><path d=\"M97.42,213.32 C87.35,222.4 77.37,233.83 72,246.72 C66.5,259.92 66.66,275.66 68.54,289.1 \" fill=\"none\" id=\"E8-&gt;E6\" style=\"stroke: #383838; stroke-width: 1.0; stroke-dasharray: 7.0,7.0;\"/><polygon fill=\"#383838\" points=\"69.9,297.12,71.517,288.7304,65.6018,289.7359,69.9,297.12\" style=\"stroke: #383838; stroke-width: 1.0;\"/><text fill=\"#000000\" font-family=\"sans-serif\" font-size=\"13\" lengthAdjust=\"spacingAndGlyphs\" textLength=\"64\" x=\"73\" y=\"259.7869\">«depend»</text></a><!--MD5=[bfa3c8b0d15052fdf50ae9310b491027]\n",
       "link E8 to E7--><a href=\"psysml:dd0e7371-702f-42f4-9a28-a8ea46c1187a\" target=\"_top\" title=\"psysml:dd0e7371-702f-42f4-9a28-a8ea46c1187a\" xlink:actuate=\"onRequest\" xlink:href=\"psysml:dd0e7371-702f-42f4-9a28-a8ea46c1187a\" xlink:show=\"new\" xlink:title=\"psysml:dd0e7371-702f-42f4-9a28-a8ea46c1187a\" xlink:type=\"simple\"><path d=\"M137.28,213.22 C146.17,234.29 159.64,266.22 169.47,289.53 \" fill=\"none\" id=\"E8-&gt;E7\" style=\"stroke: #383838; stroke-width: 1.0; stroke-dasharray: 7.0,7.0;\"/><polygon fill=\"#383838\" points=\"172.66,297.07,172.3241,288.5326,166.7933,290.8585,172.66,297.07\" style=\"stroke: #383838; stroke-width: 1.0;\"/><text fill=\"#000000\" font-family=\"sans-serif\" font-size=\"13\" lengthAdjust=\"spacingAndGlyphs\" textLength=\"64\" x=\"159\" y=\"259.7869\">«depend»</text></a><!--MD5=[37a35b6df931dc494c223dece3ea6d64]\n",
       "@startuml\r\n",
       "top to bottom direction\r\n",
       "skinparam monochrome true\r\n",
       "skinparam classbackgroundcolor white\r\n",
       "skinparam shadowing false\r\n",
       "skinparam wrapWidth 300\r\n",
       "hide circle\r\n",
       "\r\n",
       "package \"DependencyTest\" as E1  [[psysml:49f03030-de0c-4f13-ba7b-914972c61aaf ]]  {\r\n",
       "package \"System\" as E2  [[psysml:0a123ebf-9907-4602-8f86-a30c7447a6cf ]]  {\r\n",
       "package \"Application Layer\" as E3  [[psysml:fbc620fa-f332-480d-9302-6e81c218d767 ]]  {\r\n",
       "}\r\n",
       "package \"Service Layer\" as E4  [[psysml:426f0663-f125-4848-8cc6-b208ee541f23 ]]  {\r\n",
       "}\r\n",
       "package \"Data Layer\" as E5  [[psysml:fd3440a5-7307-47c9-b63e-e029b0e76f05 ]]  {\r\n",
       "}\r\n",
       "}\r\n",
       "comp usage \"x \" as E6  <<(T,blue) attribute>> [[psysml:0783b658-08bf-4abf-9182-ba1ece255f80 ]] {\r\n",
       "}\r\n",
       "comp usage \"y \" as E7  <<(T,blue) attribute>> [[psysml:00406d55-97a3-4ada-a9d4-67d88ef5929d ]] {\r\n",
       "}\r\n",
       "comp usage \"z \" as E8  <<(T,blue) attribute>> [[psysml:b610c4be-7598-4a50-a285-e23e2912f41a ]] {\r\n",
       "}\r\n",
       "}\r\n",
       "E1 ..> E2 [[psysml:1f214475-93e7-4d57-afd6-304a88df216d ]] : <<import>>*\r\n",
       "E3 ..>> E4 [[psysml:3b6c166c-6961-4bb7-b892-e5bb88ba66d9 ]] : <<depend>>\r\n",
       "E4 ..>> E5 [[psysml:f4ae8342-4685-4b6d-8549-04188d07c1c2 ]] : <<depend>>\r\n",
       "E8 ..>> E6 [[psysml:dd0e7371-702f-42f4-9a28-a8ea46c1187a ]] : <<depend>>\r\n",
       "E8 ..>> E7 [[psysml:dd0e7371-702f-42f4-9a28-a8ea46c1187a ]] : <<depend>>\r\n",
       "@enduml\r\n",
       "\n",
       "PlantUML version 1.2020.13(Sat Jun 13 12:26:38 UTC 2020)\n",
       "(EPL source distribution)\n",
       "Java Runtime: OpenJDK Runtime Environment\n",
       "JVM: OpenJDK 64-Bit Server VM\n",
       "Default Encoding: UTF-8\n",
       "Language: en\n",
       "Country: null\n",
       "--></g></svg>"
      ]
     },
     "execution_count": 50,
     "metadata": {},
     "output_type": "execute_result"
    }
   ],
   "source": [
    "%viz --style=\"TB\" --view=\"MIXED\" \"DependencyTest\""
   ]
  },
  {
   "cell_type": "code",
   "execution_count": 51,
   "id": "9b4d2bef",
   "metadata": {
    "execution": {
     "iopub.execute_input": "2022-03-03T09:55:01.937971Z",
     "iopub.status.busy": "2022-03-03T09:55:01.937572Z",
     "iopub.status.idle": "2022-03-03T09:55:01.969126Z",
     "shell.execute_reply": "2022-03-03T09:55:01.967782Z"
    }
   },
   "outputs": [
    {
     "data": {
      "image/svg+xml": [
       "<?xml version=\"1.0\" encoding=\"UTF-8\" standalone=\"no\"?><svg xmlns=\"http://www.w3.org/2000/svg\" xmlns:xlink=\"http://www.w3.org/1999/xlink\" contentScriptType=\"application/ecmascript\" contentStyleType=\"text/css\" height=\"552px\" preserveAspectRatio=\"none\" style=\"width:536px;height:552px;\" version=\"1.1\" viewBox=\"0 0 536 552\" width=\"536px\" zoomAndPan=\"magnify\"><defs/><g><!--MD5=[fbc87193dbaf4d95561dea2c320d4a47]\n",
       "cluster E1--><a href=\"psysml:49f03030-de0c-4f13-ba7b-914972c61aaf\" target=\"_top\" title=\"psysml:49f03030-de0c-4f13-ba7b-914972c61aaf\" xlink:actuate=\"onRequest\" xlink:href=\"psysml:49f03030-de0c-4f13-ba7b-914972c61aaf\" xlink:show=\"new\" xlink:title=\"psysml:49f03030-de0c-4f13-ba7b-914972c61aaf\" xlink:type=\"simple\"><polygon fill=\"#FFFFFF\" points=\"16,6,142,6,149,28.2969,514,28.2969,514,540.72,16,540.72,16,6\" style=\"stroke: #000000; stroke-width: 1.5;\"/><line style=\"stroke: #000000; stroke-width: 1.5;\" x1=\"16\" x2=\"149\" y1=\"28.2969\" y2=\"28.2969\"/><text fill=\"#000000\" font-family=\"sans-serif\" font-size=\"14\" font-weight=\"bold\" lengthAdjust=\"spacingAndGlyphs\" textLength=\"120\" x=\"20\" y=\"20.9951\">DependencyTest</text></a><!--MD5=[e4f7fae6ed58524ba242bb0b0d3be6b7]\n",
       "cluster E2--><a href=\"psysml:0a123ebf-9907-4602-8f86-a30c7447a6cf\" target=\"_top\" title=\"psysml:0a123ebf-9907-4602-8f86-a30c7447a6cf\" xlink:actuate=\"onRequest\" xlink:href=\"psysml:0a123ebf-9907-4602-8f86-a30c7447a6cf\" xlink:show=\"new\" xlink:title=\"psysml:0a123ebf-9907-4602-8f86-a30c7447a6cf\" xlink:type=\"simple\"><polygon fill=\"#FFFFFF\" points=\"271,120.72,328,120.72,335,143.0169,474,143.0169,474,500.72,271,500.72,271,120.72\" style=\"stroke: #000000; stroke-width: 1.5;\"/><line style=\"stroke: #000000; stroke-width: 1.5;\" x1=\"271\" x2=\"335\" y1=\"143.0169\" y2=\"143.0169\"/><text fill=\"#000000\" font-family=\"sans-serif\" font-size=\"14\" font-weight=\"bold\" lengthAdjust=\"spacingAndGlyphs\" textLength=\"51\" x=\"275\" y=\"135.7151\">System</text></a><!--MD5=[60a26617385b1d2d0262a64233df1f8d]\n",
       "class E6--><a href=\"psysml:0783b658-08bf-4abf-9182-ba1ece255f80\" target=\"_top\" title=\"psysml:0783b658-08bf-4abf-9182-ba1ece255f80\" xlink:actuate=\"onRequest\" xlink:href=\"psysml:0783b658-08bf-4abf-9182-ba1ece255f80\" xlink:show=\"new\" xlink:title=\"psysml:0783b658-08bf-4abf-9182-ba1ece255f80\" xlink:type=\"simple\"><rect fill=\"#FFFFFF\" height=\"45.9375\" id=\"E6\" rx=\"10\" ry=\"10\" style=\"stroke: #383838; stroke-width: 1.5;\" width=\"71\" x=\"40.5\" y=\"297.22\"/><text fill=\"#000000\" font-family=\"sans-serif\" font-size=\"12\" font-style=\"italic\" lengthAdjust=\"spacingAndGlyphs\" textLength=\"69\" x=\"41.5\" y=\"313.3587\">«attribute»</text><text fill=\"#000000\" font-family=\"sans-serif\" font-size=\"12\" lengthAdjust=\"spacingAndGlyphs\" textLength=\"6\" x=\"71\" y=\"327.3274\">x</text><line style=\"stroke: #383838; stroke-width: 1.5;\" x1=\"41.5\" x2=\"110.5\" y1=\"335.1575\" y2=\"335.1575\"/></a><!--MD5=[2156ba9850f5573cc1fc38a6a4b2f02b]\n",
       "class E7--><a href=\"psysml:00406d55-97a3-4ada-a9d4-67d88ef5929d\" target=\"_top\" title=\"psysml:00406d55-97a3-4ada-a9d4-67d88ef5929d\" xlink:actuate=\"onRequest\" xlink:href=\"psysml:00406d55-97a3-4ada-a9d4-67d88ef5929d\" xlink:show=\"new\" xlink:title=\"psysml:00406d55-97a3-4ada-a9d4-67d88ef5929d\" xlink:type=\"simple\"><rect fill=\"#FFFFFF\" height=\"45.9375\" id=\"E7\" rx=\"10\" ry=\"10\" style=\"stroke: #383838; stroke-width: 1.5;\" width=\"71\" x=\"146.5\" y=\"297.22\"/><text fill=\"#000000\" font-family=\"sans-serif\" font-size=\"12\" font-style=\"italic\" lengthAdjust=\"spacingAndGlyphs\" textLength=\"69\" x=\"147.5\" y=\"313.3587\">«attribute»</text><text fill=\"#000000\" font-family=\"sans-serif\" font-size=\"12\" lengthAdjust=\"spacingAndGlyphs\" textLength=\"6\" x=\"177\" y=\"327.3274\">y</text><line style=\"stroke: #383838; stroke-width: 1.5;\" x1=\"147.5\" x2=\"216.5\" y1=\"335.1575\" y2=\"335.1575\"/></a><!--MD5=[b9389687b975829384b498ac4b7476b2]\n",
       "class E8--><a href=\"psysml:b610c4be-7598-4a50-a285-e23e2912f41a\" target=\"_top\" title=\"psysml:b610c4be-7598-4a50-a285-e23e2912f41a\" xlink:actuate=\"onRequest\" xlink:href=\"psysml:b610c4be-7598-4a50-a285-e23e2912f41a\" xlink:show=\"new\" xlink:title=\"psysml:b610c4be-7598-4a50-a285-e23e2912f41a\" xlink:type=\"simple\"><rect fill=\"#FFFFFF\" height=\"45.9375\" id=\"E8\" rx=\"10\" ry=\"10\" style=\"stroke: #383838; stroke-width: 1.5;\" width=\"71\" x=\"92.5\" y=\"167.22\"/><text fill=\"#000000\" font-family=\"sans-serif\" font-size=\"12\" font-style=\"italic\" lengthAdjust=\"spacingAndGlyphs\" textLength=\"69\" x=\"93.5\" y=\"183.3587\">«attribute»</text><text fill=\"#000000\" font-family=\"sans-serif\" font-size=\"12\" lengthAdjust=\"spacingAndGlyphs\" textLength=\"5\" x=\"123.5\" y=\"197.3274\">z</text><line style=\"stroke: #383838; stroke-width: 1.5;\" x1=\"93.5\" x2=\"162.5\" y1=\"205.1575\" y2=\"205.1575\"/></a><a href=\"psysml:fbc620fa-f332-480d-9302-6e81c218d767\" target=\"_top\" title=\"psysml:fbc620fa-f332-480d-9302-6e81c218d767\" xlink:actuate=\"onRequest\" xlink:href=\"psysml:fbc620fa-f332-480d-9302-6e81c218d767\" xlink:show=\"new\" xlink:title=\"psysml:fbc620fa-f332-480d-9302-6e81c218d767\" xlink:type=\"simple\"><polygon fill=\"#FFFFFF\" points=\"314.5,163.72,435.5,163.72,442.5,186.0169,449.5,186.0169,449.5,216.3138,314.5,216.3138,314.5,163.72\" style=\"stroke: #000000; stroke-width: 1.5;\"/><line style=\"stroke: #000000; stroke-width: 1.5;\" x1=\"314.5\" x2=\"442.5\" y1=\"186.0169\" y2=\"186.0169\"/><text fill=\"#000000\" font-family=\"sans-serif\" font-size=\"14\" font-weight=\"bold\" lengthAdjust=\"spacingAndGlyphs\" textLength=\"115\" x=\"318.5\" y=\"178.7151\">Application Layer</text></a><a href=\"psysml:426f0663-f125-4848-8cc6-b208ee541f23\" target=\"_top\" title=\"psysml:426f0663-f125-4848-8cc6-b208ee541f23\" xlink:actuate=\"onRequest\" xlink:href=\"psysml:426f0663-f125-4848-8cc6-b208ee541f23\" xlink:show=\"new\" xlink:title=\"psysml:426f0663-f125-4848-8cc6-b208ee541f23\" xlink:type=\"simple\"><polygon fill=\"#FFFFFF\" points=\"327,293.72,423,293.72,430,316.0169,437,316.0169,437,346.3138,327,346.3138,327,293.72\" style=\"stroke: #000000; stroke-width: 1.5;\"/><line style=\"stroke: #000000; stroke-width: 1.5;\" x1=\"327\" x2=\"430\" y1=\"316.0169\" y2=\"316.0169\"/><text fill=\"#000000\" font-family=\"sans-serif\" font-size=\"14\" font-weight=\"bold\" lengthAdjust=\"spacingAndGlyphs\" textLength=\"90\" x=\"331\" y=\"308.7151\">Service Layer</text></a><a href=\"psysml:fd3440a5-7307-47c9-b63e-e029b0e76f05\" target=\"_top\" title=\"psysml:fd3440a5-7307-47c9-b63e-e029b0e76f05\" xlink:actuate=\"onRequest\" xlink:href=\"psysml:fd3440a5-7307-47c9-b63e-e029b0e76f05\" xlink:show=\"new\" xlink:title=\"psysml:fd3440a5-7307-47c9-b63e-e029b0e76f05\" xlink:type=\"simple\"><polygon fill=\"#FFFFFF\" points=\"336,423.72,414,423.72,421,446.0169,428,446.0169,428,476.3138,336,476.3138,336,423.72\" style=\"stroke: #000000; stroke-width: 1.5;\"/><line style=\"stroke: #000000; stroke-width: 1.5;\" x1=\"336\" x2=\"421\" y1=\"446.0169\" y2=\"446.0169\"/><text fill=\"#000000\" font-family=\"sans-serif\" font-size=\"14\" font-weight=\"bold\" lengthAdjust=\"spacingAndGlyphs\" textLength=\"72\" x=\"340\" y=\"438.7151\">Data Layer</text></a><!--MD5=[1f1cd8e6dd4c1b2ca2aaccc9b9bcea6e]\n",
       "link E1 to E2--><a href=\"psysml:1f214475-93e7-4d57-afd6-304a88df216d\" target=\"_top\" title=\"psysml:1f214475-93e7-4d57-afd6-304a88df216d\" xlink:actuate=\"onRequest\" xlink:href=\"psysml:1f214475-93e7-4d57-afd6-304a88df216d\" xlink:show=\"new\" xlink:title=\"psysml:1f214475-93e7-4d57-afd6-304a88df216d\" xlink:type=\"simple\"><path d=\"M279,33.81 C279,38.265 279,75.1 279,111.9025 C279,114.2027 279,116.5027 279,118.7947 C279,119.3677 279,119.9402 279,120.512 \" fill=\"none\" id=\"E1-&gt;E2\" style=\"stroke: #383838; stroke-width: 1.0; stroke-dasharray: 7.0,7.0;\"/><polygon fill=\"#383838\" points=\"279,120.512,283,111.512,279,115.512,275,111.512,279,120.512\" style=\"stroke: #383838; stroke-width: 1.0;\"/><text fill=\"#000000\" font-family=\"sans-serif\" font-size=\"13\" lengthAdjust=\"spacingAndGlyphs\" textLength=\"65\" x=\"280\" y=\"76.7869\">«import»*</text></a><!--MD5=[af87c684e3b0d8be13c1a698a818ef1e]\n",
       "link E3 to E4--><a href=\"psysml:3b6c166c-6961-4bb7-b892-e5bb88ba66d9\" target=\"_top\" title=\"psysml:3b6c166c-6961-4bb7-b892-e5bb88ba66d9\" xlink:actuate=\"onRequest\" xlink:href=\"psysml:3b6c166c-6961-4bb7-b892-e5bb88ba66d9\" xlink:show=\"new\" xlink:title=\"psysml:3b6c166c-6961-4bb7-b892-e5bb88ba66d9\" xlink:type=\"simple\"><path d=\"M382,216.84 C382,216.84 382,285.63 382,285.63 \" fill=\"none\" id=\"E3-&gt;E4\" style=\"stroke: #383838; stroke-width: 1.0; stroke-dasharray: 7.0,7.0;\"/><polygon fill=\"#383838\" points=\"382,293.63,385,285.63,379,285.63,382,293.63\" style=\"stroke: #383838; stroke-width: 1.0;\"/><text fill=\"#000000\" font-family=\"sans-serif\" font-size=\"13\" lengthAdjust=\"spacingAndGlyphs\" textLength=\"64\" x=\"383\" y=\"259.7869\">«depend»</text></a><!--MD5=[1b7591eae5389033d8d09a9d6721a717]\n",
       "link E4 to E5--><a href=\"psysml:f4ae8342-4685-4b6d-8549-04188d07c1c2\" target=\"_top\" title=\"psysml:f4ae8342-4685-4b6d-8549-04188d07c1c2\" xlink:actuate=\"onRequest\" xlink:href=\"psysml:f4ae8342-4685-4b6d-8549-04188d07c1c2\" xlink:show=\"new\" xlink:title=\"psysml:f4ae8342-4685-4b6d-8549-04188d07c1c2\" xlink:type=\"simple\"><path d=\"M382,346.84 C382,346.84 382,415.63 382,415.63 \" fill=\"none\" id=\"E4-&gt;E5\" style=\"stroke: #383838; stroke-width: 1.0; stroke-dasharray: 7.0,7.0;\"/><polygon fill=\"#383838\" points=\"382,423.63,385,415.63,379,415.63,382,423.63\" style=\"stroke: #383838; stroke-width: 1.0;\"/><text fill=\"#000000\" font-family=\"sans-serif\" font-size=\"13\" lengthAdjust=\"spacingAndGlyphs\" textLength=\"64\" x=\"383\" y=\"389.7869\">«depend»</text></a><!--MD5=[c5e8897d989ce984f93528998a7150fe]\n",
       "link E8 to E6--><a href=\"psysml:dd0e7371-702f-42f4-9a28-a8ea46c1187a\" target=\"_top\" title=\"psysml:dd0e7371-702f-42f4-9a28-a8ea46c1187a\" xlink:actuate=\"onRequest\" xlink:href=\"psysml:dd0e7371-702f-42f4-9a28-a8ea46c1187a\" xlink:show=\"new\" xlink:title=\"psysml:dd0e7371-702f-42f4-9a28-a8ea46c1187a\" xlink:type=\"simple\"><path d=\"M102,213.46 C102,213.46 102,289.18 102,289.18 \" fill=\"none\" id=\"E8-&gt;E6\" style=\"stroke: #383838; stroke-width: 1.0; stroke-dasharray: 7.0,7.0;\"/><polygon fill=\"#383838\" points=\"102,297.18,105,289.18,99,289.18,102,297.18\" style=\"stroke: #383838; stroke-width: 1.0;\"/><text fill=\"#000000\" font-family=\"sans-serif\" font-size=\"13\" lengthAdjust=\"spacingAndGlyphs\" textLength=\"64\" x=\"76\" y=\"259.7869\">«depend»</text></a><!--MD5=[bfa3c8b0d15052fdf50ae9310b491027]\n",
       "link E8 to E7--><a href=\"psysml:dd0e7371-702f-42f4-9a28-a8ea46c1187a\" target=\"_top\" title=\"psysml:dd0e7371-702f-42f4-9a28-a8ea46c1187a\" xlink:actuate=\"onRequest\" xlink:href=\"psysml:dd0e7371-702f-42f4-9a28-a8ea46c1187a\" xlink:show=\"new\" xlink:title=\"psysml:dd0e7371-702f-42f4-9a28-a8ea46c1187a\" xlink:type=\"simple\"><path d=\"M155,213.46 C155,213.46 155,289.18 155,289.18 \" fill=\"none\" id=\"E8-&gt;E7\" style=\"stroke: #383838; stroke-width: 1.0; stroke-dasharray: 7.0,7.0;\"/><polygon fill=\"#383838\" points=\"155,297.18,158,289.18,152,289.18,155,297.18\" style=\"stroke: #383838; stroke-width: 1.0;\"/><text fill=\"#000000\" font-family=\"sans-serif\" font-size=\"13\" lengthAdjust=\"spacingAndGlyphs\" textLength=\"64\" x=\"182\" y=\"259.7869\">«depend»</text></a><!--MD5=[4f2ae5a6e3ddc1d11b3cddd5b2023f20]\n",
       "@startuml\r\n",
       "skinparam linetype ortho\r\n",
       "skinparam monochrome true\r\n",
       "skinparam classbackgroundcolor white\r\n",
       "skinparam shadowing false\r\n",
       "skinparam wrapWidth 300\r\n",
       "hide circle\r\n",
       "\r\n",
       "package \"DependencyTest\" as E1  [[psysml:49f03030-de0c-4f13-ba7b-914972c61aaf ]]  {\r\n",
       "package \"System\" as E2  [[psysml:0a123ebf-9907-4602-8f86-a30c7447a6cf ]]  {\r\n",
       "package \"Application Layer\" as E3  [[psysml:fbc620fa-f332-480d-9302-6e81c218d767 ]]  {\r\n",
       "}\r\n",
       "package \"Service Layer\" as E4  [[psysml:426f0663-f125-4848-8cc6-b208ee541f23 ]]  {\r\n",
       "}\r\n",
       "package \"Data Layer\" as E5  [[psysml:fd3440a5-7307-47c9-b63e-e029b0e76f05 ]]  {\r\n",
       "}\r\n",
       "}\r\n",
       "comp usage \"x \" as E6  <<(T,blue) attribute>> [[psysml:0783b658-08bf-4abf-9182-ba1ece255f80 ]] {\r\n",
       "}\r\n",
       "comp usage \"y \" as E7  <<(T,blue) attribute>> [[psysml:00406d55-97a3-4ada-a9d4-67d88ef5929d ]] {\r\n",
       "}\r\n",
       "comp usage \"z \" as E8  <<(T,blue) attribute>> [[psysml:b610c4be-7598-4a50-a285-e23e2912f41a ]] {\r\n",
       "}\r\n",
       "}\r\n",
       "E1 ..> E2 [[psysml:1f214475-93e7-4d57-afd6-304a88df216d ]] : <<import>>*\r\n",
       "E3 ..>> E4 [[psysml:3b6c166c-6961-4bb7-b892-e5bb88ba66d9 ]] : <<depend>>\r\n",
       "E4 ..>> E5 [[psysml:f4ae8342-4685-4b6d-8549-04188d07c1c2 ]] : <<depend>>\r\n",
       "E8 ..>> E6 [[psysml:dd0e7371-702f-42f4-9a28-a8ea46c1187a ]] : <<depend>>\r\n",
       "E8 ..>> E7 [[psysml:dd0e7371-702f-42f4-9a28-a8ea46c1187a ]] : <<depend>>\r\n",
       "@enduml\r\n",
       "\n",
       "PlantUML version 1.2020.13(Sat Jun 13 12:26:38 UTC 2020)\n",
       "(EPL source distribution)\n",
       "Java Runtime: OpenJDK Runtime Environment\n",
       "JVM: OpenJDK 64-Bit Server VM\n",
       "Default Encoding: UTF-8\n",
       "Language: en\n",
       "Country: null\n",
       "--></g></svg>"
      ]
     },
     "execution_count": 51,
     "metadata": {},
     "output_type": "execute_result"
    }
   ],
   "source": [
    "%viz --style=\"ORTHOLINE\" --view=\"Default\" \"DependencyTest\""
   ]
  },
  {
   "cell_type": "code",
   "execution_count": 52,
   "id": "60e943a3",
   "metadata": {
    "execution": {
     "iopub.execute_input": "2022-03-03T09:55:02.018540Z",
     "iopub.status.busy": "2022-03-03T09:55:02.018143Z",
     "iopub.status.idle": "2022-03-03T09:55:02.051229Z",
     "shell.execute_reply": "2022-03-03T09:55:02.049974Z"
    }
   },
   "outputs": [
    {
     "data": {
      "image/svg+xml": [
       "<?xml version=\"1.0\" encoding=\"UTF-8\" standalone=\"no\"?><svg xmlns=\"http://www.w3.org/2000/svg\" xmlns:xlink=\"http://www.w3.org/1999/xlink\" contentScriptType=\"application/ecmascript\" contentStyleType=\"text/css\" height=\"552px\" preserveAspectRatio=\"none\" style=\"width:536px;height:552px;\" version=\"1.1\" viewBox=\"0 0 536 552\" width=\"536px\" zoomAndPan=\"magnify\"><defs/><g><!--MD5=[fbc87193dbaf4d95561dea2c320d4a47]\n",
       "cluster E1--><a href=\"psysml:49f03030-de0c-4f13-ba7b-914972c61aaf\" target=\"_top\" title=\"psysml:49f03030-de0c-4f13-ba7b-914972c61aaf\" xlink:actuate=\"onRequest\" xlink:href=\"psysml:49f03030-de0c-4f13-ba7b-914972c61aaf\" xlink:show=\"new\" xlink:title=\"psysml:49f03030-de0c-4f13-ba7b-914972c61aaf\" xlink:type=\"simple\"><polygon fill=\"#FFFFFF\" points=\"16,6,142,6,149,28.2969,514,28.2969,514,540.72,16,540.72,16,6\" style=\"stroke: #000000; stroke-width: 1.5;\"/><line style=\"stroke: #000000; stroke-width: 1.5;\" x1=\"16\" x2=\"149\" y1=\"28.2969\" y2=\"28.2969\"/><text fill=\"#000000\" font-family=\"sans-serif\" font-size=\"14\" font-weight=\"bold\" lengthAdjust=\"spacingAndGlyphs\" textLength=\"120\" x=\"20\" y=\"20.9951\">DependencyTest</text></a><!--MD5=[e4f7fae6ed58524ba242bb0b0d3be6b7]\n",
       "cluster E2--><a href=\"psysml:0a123ebf-9907-4602-8f86-a30c7447a6cf\" target=\"_top\" title=\"psysml:0a123ebf-9907-4602-8f86-a30c7447a6cf\" xlink:actuate=\"onRequest\" xlink:href=\"psysml:0a123ebf-9907-4602-8f86-a30c7447a6cf\" xlink:show=\"new\" xlink:title=\"psysml:0a123ebf-9907-4602-8f86-a30c7447a6cf\" xlink:type=\"simple\"><polygon fill=\"#FFFFFF\" points=\"271,120.72,328,120.72,335,143.0169,474,143.0169,474,500.72,271,500.72,271,120.72\" style=\"stroke: #000000; stroke-width: 1.5;\"/><line style=\"stroke: #000000; stroke-width: 1.5;\" x1=\"271\" x2=\"335\" y1=\"143.0169\" y2=\"143.0169\"/><text fill=\"#000000\" font-family=\"sans-serif\" font-size=\"14\" font-weight=\"bold\" lengthAdjust=\"spacingAndGlyphs\" textLength=\"51\" x=\"275\" y=\"135.7151\">System</text></a><!--MD5=[60a26617385b1d2d0262a64233df1f8d]\n",
       "class E6--><a href=\"psysml:0783b658-08bf-4abf-9182-ba1ece255f80\" target=\"_top\" title=\"psysml:0783b658-08bf-4abf-9182-ba1ece255f80\" xlink:actuate=\"onRequest\" xlink:href=\"psysml:0783b658-08bf-4abf-9182-ba1ece255f80\" xlink:show=\"new\" xlink:title=\"psysml:0783b658-08bf-4abf-9182-ba1ece255f80\" xlink:type=\"simple\"><rect fill=\"#FFFFFF\" height=\"45.9375\" id=\"E6\" rx=\"10\" ry=\"10\" style=\"stroke: #383838; stroke-width: 1.5;\" width=\"71\" x=\"40.5\" y=\"297.22\"/><text fill=\"#000000\" font-family=\"sans-serif\" font-size=\"12\" font-style=\"italic\" lengthAdjust=\"spacingAndGlyphs\" textLength=\"69\" x=\"41.5\" y=\"313.3587\">«attribute»</text><text fill=\"#000000\" font-family=\"sans-serif\" font-size=\"12\" lengthAdjust=\"spacingAndGlyphs\" textLength=\"6\" x=\"71\" y=\"327.3274\">x</text><line style=\"stroke: #383838; stroke-width: 1.5;\" x1=\"41.5\" x2=\"110.5\" y1=\"335.1575\" y2=\"335.1575\"/></a><!--MD5=[2156ba9850f5573cc1fc38a6a4b2f02b]\n",
       "class E7--><a href=\"psysml:00406d55-97a3-4ada-a9d4-67d88ef5929d\" target=\"_top\" title=\"psysml:00406d55-97a3-4ada-a9d4-67d88ef5929d\" xlink:actuate=\"onRequest\" xlink:href=\"psysml:00406d55-97a3-4ada-a9d4-67d88ef5929d\" xlink:show=\"new\" xlink:title=\"psysml:00406d55-97a3-4ada-a9d4-67d88ef5929d\" xlink:type=\"simple\"><rect fill=\"#FFFFFF\" height=\"45.9375\" id=\"E7\" rx=\"10\" ry=\"10\" style=\"stroke: #383838; stroke-width: 1.5;\" width=\"71\" x=\"146.5\" y=\"297.22\"/><text fill=\"#000000\" font-family=\"sans-serif\" font-size=\"12\" font-style=\"italic\" lengthAdjust=\"spacingAndGlyphs\" textLength=\"69\" x=\"147.5\" y=\"313.3587\">«attribute»</text><text fill=\"#000000\" font-family=\"sans-serif\" font-size=\"12\" lengthAdjust=\"spacingAndGlyphs\" textLength=\"6\" x=\"177\" y=\"327.3274\">y</text><line style=\"stroke: #383838; stroke-width: 1.5;\" x1=\"147.5\" x2=\"216.5\" y1=\"335.1575\" y2=\"335.1575\"/></a><!--MD5=[b9389687b975829384b498ac4b7476b2]\n",
       "class E8--><a href=\"psysml:b610c4be-7598-4a50-a285-e23e2912f41a\" target=\"_top\" title=\"psysml:b610c4be-7598-4a50-a285-e23e2912f41a\" xlink:actuate=\"onRequest\" xlink:href=\"psysml:b610c4be-7598-4a50-a285-e23e2912f41a\" xlink:show=\"new\" xlink:title=\"psysml:b610c4be-7598-4a50-a285-e23e2912f41a\" xlink:type=\"simple\"><rect fill=\"#FFFFFF\" height=\"45.9375\" id=\"E8\" rx=\"10\" ry=\"10\" style=\"stroke: #383838; stroke-width: 1.5;\" width=\"71\" x=\"92.5\" y=\"167.22\"/><text fill=\"#000000\" font-family=\"sans-serif\" font-size=\"12\" font-style=\"italic\" lengthAdjust=\"spacingAndGlyphs\" textLength=\"69\" x=\"93.5\" y=\"183.3587\">«attribute»</text><text fill=\"#000000\" font-family=\"sans-serif\" font-size=\"12\" lengthAdjust=\"spacingAndGlyphs\" textLength=\"5\" x=\"123.5\" y=\"197.3274\">z</text><line style=\"stroke: #383838; stroke-width: 1.5;\" x1=\"93.5\" x2=\"162.5\" y1=\"205.1575\" y2=\"205.1575\"/></a><a href=\"psysml:fbc620fa-f332-480d-9302-6e81c218d767\" target=\"_top\" title=\"psysml:fbc620fa-f332-480d-9302-6e81c218d767\" xlink:actuate=\"onRequest\" xlink:href=\"psysml:fbc620fa-f332-480d-9302-6e81c218d767\" xlink:show=\"new\" xlink:title=\"psysml:fbc620fa-f332-480d-9302-6e81c218d767\" xlink:type=\"simple\"><polygon fill=\"#FFFFFF\" points=\"314.5,163.72,435.5,163.72,442.5,186.0169,449.5,186.0169,449.5,216.3138,314.5,216.3138,314.5,163.72\" style=\"stroke: #000000; stroke-width: 1.5;\"/><line style=\"stroke: #000000; stroke-width: 1.5;\" x1=\"314.5\" x2=\"442.5\" y1=\"186.0169\" y2=\"186.0169\"/><text fill=\"#000000\" font-family=\"sans-serif\" font-size=\"14\" font-weight=\"bold\" lengthAdjust=\"spacingAndGlyphs\" textLength=\"115\" x=\"318.5\" y=\"178.7151\">Application Layer</text></a><a href=\"psysml:426f0663-f125-4848-8cc6-b208ee541f23\" target=\"_top\" title=\"psysml:426f0663-f125-4848-8cc6-b208ee541f23\" xlink:actuate=\"onRequest\" xlink:href=\"psysml:426f0663-f125-4848-8cc6-b208ee541f23\" xlink:show=\"new\" xlink:title=\"psysml:426f0663-f125-4848-8cc6-b208ee541f23\" xlink:type=\"simple\"><polygon fill=\"#FFFFFF\" points=\"327,293.72,423,293.72,430,316.0169,437,316.0169,437,346.3138,327,346.3138,327,293.72\" style=\"stroke: #000000; stroke-width: 1.5;\"/><line style=\"stroke: #000000; stroke-width: 1.5;\" x1=\"327\" x2=\"430\" y1=\"316.0169\" y2=\"316.0169\"/><text fill=\"#000000\" font-family=\"sans-serif\" font-size=\"14\" font-weight=\"bold\" lengthAdjust=\"spacingAndGlyphs\" textLength=\"90\" x=\"331\" y=\"308.7151\">Service Layer</text></a><a href=\"psysml:fd3440a5-7307-47c9-b63e-e029b0e76f05\" target=\"_top\" title=\"psysml:fd3440a5-7307-47c9-b63e-e029b0e76f05\" xlink:actuate=\"onRequest\" xlink:href=\"psysml:fd3440a5-7307-47c9-b63e-e029b0e76f05\" xlink:show=\"new\" xlink:title=\"psysml:fd3440a5-7307-47c9-b63e-e029b0e76f05\" xlink:type=\"simple\"><polygon fill=\"#FFFFFF\" points=\"336,423.72,414,423.72,421,446.0169,428,446.0169,428,476.3138,336,476.3138,336,423.72\" style=\"stroke: #000000; stroke-width: 1.5;\"/><line style=\"stroke: #000000; stroke-width: 1.5;\" x1=\"336\" x2=\"421\" y1=\"446.0169\" y2=\"446.0169\"/><text fill=\"#000000\" font-family=\"sans-serif\" font-size=\"14\" font-weight=\"bold\" lengthAdjust=\"spacingAndGlyphs\" textLength=\"72\" x=\"340\" y=\"438.7151\">Data Layer</text></a><!--MD5=[1f1cd8e6dd4c1b2ca2aaccc9b9bcea6e]\n",
       "link E1 to E2--><a href=\"psysml:1f214475-93e7-4d57-afd6-304a88df216d\" target=\"_top\" title=\"psysml:1f214475-93e7-4d57-afd6-304a88df216d\" xlink:actuate=\"onRequest\" xlink:href=\"psysml:1f214475-93e7-4d57-afd6-304a88df216d\" xlink:show=\"new\" xlink:title=\"psysml:1f214475-93e7-4d57-afd6-304a88df216d\" xlink:type=\"simple\"><path d=\"M279,33.81 C279,38.265 279,75.1 279,111.9025 C279,114.2027 279,116.5027 279,118.7947 C279,119.3677 279,119.9402 279,120.512 \" fill=\"none\" id=\"E1-&gt;E2\" style=\"stroke: #383838; stroke-width: 1.0; stroke-dasharray: 7.0,7.0;\"/><polygon fill=\"#383838\" points=\"279,120.512,283,111.512,279,115.512,275,111.512,279,120.512\" style=\"stroke: #383838; stroke-width: 1.0;\"/><text fill=\"#000000\" font-family=\"sans-serif\" font-size=\"13\" lengthAdjust=\"spacingAndGlyphs\" textLength=\"65\" x=\"280\" y=\"76.7869\">«import»*</text></a><!--MD5=[af87c684e3b0d8be13c1a698a818ef1e]\n",
       "link E3 to E4--><a href=\"psysml:3b6c166c-6961-4bb7-b892-e5bb88ba66d9\" target=\"_top\" title=\"psysml:3b6c166c-6961-4bb7-b892-e5bb88ba66d9\" xlink:actuate=\"onRequest\" xlink:href=\"psysml:3b6c166c-6961-4bb7-b892-e5bb88ba66d9\" xlink:show=\"new\" xlink:title=\"psysml:3b6c166c-6961-4bb7-b892-e5bb88ba66d9\" xlink:type=\"simple\"><path d=\"M382,216.84 C382,216.84 382,285.63 382,285.63 \" fill=\"none\" id=\"E3-&gt;E4\" style=\"stroke: #383838; stroke-width: 1.0; stroke-dasharray: 7.0,7.0;\"/><polygon fill=\"#383838\" points=\"382,293.63,385,285.63,379,285.63,382,293.63\" style=\"stroke: #383838; stroke-width: 1.0;\"/><text fill=\"#000000\" font-family=\"sans-serif\" font-size=\"13\" lengthAdjust=\"spacingAndGlyphs\" textLength=\"64\" x=\"383\" y=\"259.7869\">«depend»</text></a><!--MD5=[1b7591eae5389033d8d09a9d6721a717]\n",
       "link E4 to E5--><a href=\"psysml:f4ae8342-4685-4b6d-8549-04188d07c1c2\" target=\"_top\" title=\"psysml:f4ae8342-4685-4b6d-8549-04188d07c1c2\" xlink:actuate=\"onRequest\" xlink:href=\"psysml:f4ae8342-4685-4b6d-8549-04188d07c1c2\" xlink:show=\"new\" xlink:title=\"psysml:f4ae8342-4685-4b6d-8549-04188d07c1c2\" xlink:type=\"simple\"><path d=\"M382,346.84 C382,346.84 382,415.63 382,415.63 \" fill=\"none\" id=\"E4-&gt;E5\" style=\"stroke: #383838; stroke-width: 1.0; stroke-dasharray: 7.0,7.0;\"/><polygon fill=\"#383838\" points=\"382,423.63,385,415.63,379,415.63,382,423.63\" style=\"stroke: #383838; stroke-width: 1.0;\"/><text fill=\"#000000\" font-family=\"sans-serif\" font-size=\"13\" lengthAdjust=\"spacingAndGlyphs\" textLength=\"64\" x=\"383\" y=\"389.7869\">«depend»</text></a><!--MD5=[c5e8897d989ce984f93528998a7150fe]\n",
       "link E8 to E6--><a href=\"psysml:dd0e7371-702f-42f4-9a28-a8ea46c1187a\" target=\"_top\" title=\"psysml:dd0e7371-702f-42f4-9a28-a8ea46c1187a\" xlink:actuate=\"onRequest\" xlink:href=\"psysml:dd0e7371-702f-42f4-9a28-a8ea46c1187a\" xlink:show=\"new\" xlink:title=\"psysml:dd0e7371-702f-42f4-9a28-a8ea46c1187a\" xlink:type=\"simple\"><path d=\"M102,213.46 C102,213.46 102,289.18 102,289.18 \" fill=\"none\" id=\"E8-&gt;E6\" style=\"stroke: #383838; stroke-width: 1.0; stroke-dasharray: 7.0,7.0;\"/><polygon fill=\"#383838\" points=\"102,297.18,105,289.18,99,289.18,102,297.18\" style=\"stroke: #383838; stroke-width: 1.0;\"/><text fill=\"#000000\" font-family=\"sans-serif\" font-size=\"13\" lengthAdjust=\"spacingAndGlyphs\" textLength=\"64\" x=\"76\" y=\"259.7869\">«depend»</text></a><!--MD5=[bfa3c8b0d15052fdf50ae9310b491027]\n",
       "link E8 to E7--><a href=\"psysml:dd0e7371-702f-42f4-9a28-a8ea46c1187a\" target=\"_top\" title=\"psysml:dd0e7371-702f-42f4-9a28-a8ea46c1187a\" xlink:actuate=\"onRequest\" xlink:href=\"psysml:dd0e7371-702f-42f4-9a28-a8ea46c1187a\" xlink:show=\"new\" xlink:title=\"psysml:dd0e7371-702f-42f4-9a28-a8ea46c1187a\" xlink:type=\"simple\"><path d=\"M155,213.46 C155,213.46 155,289.18 155,289.18 \" fill=\"none\" id=\"E8-&gt;E7\" style=\"stroke: #383838; stroke-width: 1.0; stroke-dasharray: 7.0,7.0;\"/><polygon fill=\"#383838\" points=\"155,297.18,158,289.18,152,289.18,155,297.18\" style=\"stroke: #383838; stroke-width: 1.0;\"/><text fill=\"#000000\" font-family=\"sans-serif\" font-size=\"13\" lengthAdjust=\"spacingAndGlyphs\" textLength=\"64\" x=\"182\" y=\"259.7869\">«depend»</text></a><!--MD5=[4f2ae5a6e3ddc1d11b3cddd5b2023f20]\n",
       "@startuml\r\n",
       "skinparam linetype ortho\r\n",
       "skinparam monochrome true\r\n",
       "skinparam classbackgroundcolor white\r\n",
       "skinparam shadowing false\r\n",
       "skinparam wrapWidth 300\r\n",
       "hide circle\r\n",
       "\r\n",
       "package \"DependencyTest\" as E1  [[psysml:49f03030-de0c-4f13-ba7b-914972c61aaf ]]  {\r\n",
       "package \"System\" as E2  [[psysml:0a123ebf-9907-4602-8f86-a30c7447a6cf ]]  {\r\n",
       "package \"Application Layer\" as E3  [[psysml:fbc620fa-f332-480d-9302-6e81c218d767 ]]  {\r\n",
       "}\r\n",
       "package \"Service Layer\" as E4  [[psysml:426f0663-f125-4848-8cc6-b208ee541f23 ]]  {\r\n",
       "}\r\n",
       "package \"Data Layer\" as E5  [[psysml:fd3440a5-7307-47c9-b63e-e029b0e76f05 ]]  {\r\n",
       "}\r\n",
       "}\r\n",
       "comp usage \"x \" as E6  <<(T,blue) attribute>> [[psysml:0783b658-08bf-4abf-9182-ba1ece255f80 ]] {\r\n",
       "}\r\n",
       "comp usage \"y \" as E7  <<(T,blue) attribute>> [[psysml:00406d55-97a3-4ada-a9d4-67d88ef5929d ]] {\r\n",
       "}\r\n",
       "comp usage \"z \" as E8  <<(T,blue) attribute>> [[psysml:b610c4be-7598-4a50-a285-e23e2912f41a ]] {\r\n",
       "}\r\n",
       "}\r\n",
       "E1 ..> E2 [[psysml:1f214475-93e7-4d57-afd6-304a88df216d ]] : <<import>>*\r\n",
       "E3 ..>> E4 [[psysml:3b6c166c-6961-4bb7-b892-e5bb88ba66d9 ]] : <<depend>>\r\n",
       "E4 ..>> E5 [[psysml:f4ae8342-4685-4b6d-8549-04188d07c1c2 ]] : <<depend>>\r\n",
       "E8 ..>> E6 [[psysml:dd0e7371-702f-42f4-9a28-a8ea46c1187a ]] : <<depend>>\r\n",
       "E8 ..>> E7 [[psysml:dd0e7371-702f-42f4-9a28-a8ea46c1187a ]] : <<depend>>\r\n",
       "@enduml\r\n",
       "\n",
       "PlantUML version 1.2020.13(Sat Jun 13 12:26:38 UTC 2020)\n",
       "(EPL source distribution)\n",
       "Java Runtime: OpenJDK Runtime Environment\n",
       "JVM: OpenJDK 64-Bit Server VM\n",
       "Default Encoding: UTF-8\n",
       "Language: en\n",
       "Country: null\n",
       "--></g></svg>"
      ]
     },
     "execution_count": 52,
     "metadata": {},
     "output_type": "execute_result"
    }
   ],
   "source": [
    "%viz --style=\"ORTHOLINE\" --view=\"Tree\" \"DependencyTest\""
   ]
  },
  {
   "cell_type": "code",
   "execution_count": 53,
   "id": "7db15859",
   "metadata": {
    "execution": {
     "iopub.execute_input": "2022-03-03T09:55:02.101426Z",
     "iopub.status.busy": "2022-03-03T09:55:02.100838Z",
     "iopub.status.idle": "2022-03-03T09:55:02.106124Z",
     "shell.execute_reply": "2022-03-03T09:55:02.105752Z"
    }
   },
   "outputs": [
    {
     "data": {
      "image/svg+xml": [
       "<?xml version=\"1.0\" encoding=\"UTF-8\" standalone=\"no\"?><svg xmlns=\"http://www.w3.org/2000/svg\" xmlns:xlink=\"http://www.w3.org/1999/xlink\" contentScriptType=\"application/ecmascript\" contentStyleType=\"text/css\" height=\"12px\" preserveAspectRatio=\"none\" style=\"width:12px;height:12px;\" version=\"1.1\" viewBox=\"0 0 12 12\" width=\"12px\" zoomAndPan=\"magnify\"><defs/><g><!--MD5=[97d6f38768b311333d388e66b2b27985]\n",
       "@startuml\r\n",
       "skinparam linetype ortho\r\n",
       "skinparam monochrome true\r\n",
       "skinparam classbackgroundcolor white\r\n",
       "skinparam shadowing false\r\n",
       "skinparam wrapWidth 300\r\n",
       "hide circle\r\n",
       "\r\n",
       "@enduml\r\n",
       "\n",
       "PlantUML version 1.2020.13(Sat Jun 13 12:26:38 UTC 2020)\n",
       "(EPL source distribution)\n",
       "Java Runtime: OpenJDK Runtime Environment\n",
       "JVM: OpenJDK 64-Bit Server VM\n",
       "Default Encoding: UTF-8\n",
       "Language: en\n",
       "Country: null\n",
       "--></g></svg>"
      ]
     },
     "execution_count": 53,
     "metadata": {},
     "output_type": "execute_result"
    }
   ],
   "source": [
    "%viz --style=\"ORTHOLINE\" --view=\"State\" \"DependencyTest\""
   ]
  },
  {
   "cell_type": "code",
   "execution_count": 54,
   "id": "6b8b0c68",
   "metadata": {
    "execution": {
     "iopub.execute_input": "2022-03-03T09:55:02.155776Z",
     "iopub.status.busy": "2022-03-03T09:55:02.155310Z",
     "iopub.status.idle": "2022-03-03T09:55:02.189070Z",
     "shell.execute_reply": "2022-03-03T09:55:02.187356Z"
    }
   },
   "outputs": [
    {
     "data": {
      "image/svg+xml": [
       "<?xml version=\"1.0\" encoding=\"UTF-8\" standalone=\"no\"?><svg xmlns=\"http://www.w3.org/2000/svg\" xmlns:xlink=\"http://www.w3.org/1999/xlink\" contentScriptType=\"application/ecmascript\" contentStyleType=\"text/css\" height=\"442px\" preserveAspectRatio=\"none\" style=\"width:536px;height:442px;\" version=\"1.1\" viewBox=\"0 0 536 442\" width=\"536px\" zoomAndPan=\"magnify\"><defs/><g><!--MD5=[fbc87193dbaf4d95561dea2c320d4a47]\n",
       "cluster E1--><a href=\"psysml:49f03030-de0c-4f13-ba7b-914972c61aaf\" target=\"_top\" title=\"psysml:49f03030-de0c-4f13-ba7b-914972c61aaf\" xlink:actuate=\"onRequest\" xlink:href=\"psysml:49f03030-de0c-4f13-ba7b-914972c61aaf\" xlink:show=\"new\" xlink:title=\"psysml:49f03030-de0c-4f13-ba7b-914972c61aaf\" xlink:type=\"simple\"><polygon fill=\"#FFFFFF\" points=\"16,6,142,6,149,28.2969,514,28.2969,514,430.72,16,430.72,16,6\" style=\"stroke: #000000; stroke-width: 1.5;\"/><line style=\"stroke: #000000; stroke-width: 1.5;\" x1=\"16\" x2=\"149\" y1=\"28.2969\" y2=\"28.2969\"/><text fill=\"#000000\" font-family=\"sans-serif\" font-size=\"14\" font-weight=\"bold\" lengthAdjust=\"spacingAndGlyphs\" textLength=\"120\" x=\"20\" y=\"20.9951\">DependencyTest</text></a><!--MD5=[e4f7fae6ed58524ba242bb0b0d3be6b7]\n",
       "cluster E2--><a href=\"psysml:0a123ebf-9907-4602-8f86-a30c7447a6cf\" target=\"_top\" title=\"psysml:0a123ebf-9907-4602-8f86-a30c7447a6cf\" xlink:actuate=\"onRequest\" xlink:href=\"psysml:0a123ebf-9907-4602-8f86-a30c7447a6cf\" xlink:show=\"new\" xlink:title=\"psysml:0a123ebf-9907-4602-8f86-a30c7447a6cf\" xlink:type=\"simple\"><polygon fill=\"#FFFFFF\" points=\"271,98.72,328,98.72,335,121.0169,474,121.0169,474,390.72,271,390.72,271,98.72\" style=\"stroke: #000000; stroke-width: 1.5;\"/><line style=\"stroke: #000000; stroke-width: 1.5;\" x1=\"271\" x2=\"335\" y1=\"121.0169\" y2=\"121.0169\"/><text fill=\"#000000\" font-family=\"sans-serif\" font-size=\"14\" font-weight=\"bold\" lengthAdjust=\"spacingAndGlyphs\" textLength=\"51\" x=\"275\" y=\"113.7151\">System</text></a><!--MD5=[60a26617385b1d2d0262a64233df1f8d]\n",
       "class E6--><a href=\"psysml:0783b658-08bf-4abf-9182-ba1ece255f80\" target=\"_top\" title=\"psysml:0783b658-08bf-4abf-9182-ba1ece255f80\" xlink:actuate=\"onRequest\" xlink:href=\"psysml:0783b658-08bf-4abf-9182-ba1ece255f80\" xlink:show=\"new\" xlink:title=\"psysml:0783b658-08bf-4abf-9182-ba1ece255f80\" xlink:type=\"simple\"><rect fill=\"#FFFFFF\" height=\"45.9375\" id=\"E6\" rx=\"10\" ry=\"10\" style=\"stroke: #383838; stroke-width: 1.5;\" width=\"71\" x=\"40.5\" y=\"231.22\"/><text fill=\"#000000\" font-family=\"sans-serif\" font-size=\"12\" font-style=\"italic\" lengthAdjust=\"spacingAndGlyphs\" textLength=\"69\" x=\"41.5\" y=\"247.3587\">«attribute»</text><text fill=\"#000000\" font-family=\"sans-serif\" font-size=\"12\" lengthAdjust=\"spacingAndGlyphs\" textLength=\"6\" x=\"71\" y=\"261.3274\">x</text><line style=\"stroke: #383838; stroke-width: 1.5;\" x1=\"41.5\" x2=\"110.5\" y1=\"269.1575\" y2=\"269.1575\"/></a><!--MD5=[2156ba9850f5573cc1fc38a6a4b2f02b]\n",
       "class E7--><a href=\"psysml:00406d55-97a3-4ada-a9d4-67d88ef5929d\" target=\"_top\" title=\"psysml:00406d55-97a3-4ada-a9d4-67d88ef5929d\" xlink:actuate=\"onRequest\" xlink:href=\"psysml:00406d55-97a3-4ada-a9d4-67d88ef5929d\" xlink:show=\"new\" xlink:title=\"psysml:00406d55-97a3-4ada-a9d4-67d88ef5929d\" xlink:type=\"simple\"><rect fill=\"#FFFFFF\" height=\"45.9375\" id=\"E7\" rx=\"10\" ry=\"10\" style=\"stroke: #383838; stroke-width: 1.5;\" width=\"71\" x=\"146.5\" y=\"231.22\"/><text fill=\"#000000\" font-family=\"sans-serif\" font-size=\"12\" font-style=\"italic\" lengthAdjust=\"spacingAndGlyphs\" textLength=\"69\" x=\"147.5\" y=\"247.3587\">«attribute»</text><text fill=\"#000000\" font-family=\"sans-serif\" font-size=\"12\" lengthAdjust=\"spacingAndGlyphs\" textLength=\"6\" x=\"177\" y=\"261.3274\">y</text><line style=\"stroke: #383838; stroke-width: 1.5;\" x1=\"147.5\" x2=\"216.5\" y1=\"269.1575\" y2=\"269.1575\"/></a><!--MD5=[b9389687b975829384b498ac4b7476b2]\n",
       "class E8--><a href=\"psysml:b610c4be-7598-4a50-a285-e23e2912f41a\" target=\"_top\" title=\"psysml:b610c4be-7598-4a50-a285-e23e2912f41a\" xlink:actuate=\"onRequest\" xlink:href=\"psysml:b610c4be-7598-4a50-a285-e23e2912f41a\" xlink:show=\"new\" xlink:title=\"psysml:b610c4be-7598-4a50-a285-e23e2912f41a\" xlink:type=\"simple\"><rect fill=\"#FFFFFF\" height=\"45.9375\" id=\"E8\" rx=\"10\" ry=\"10\" style=\"stroke: #383838; stroke-width: 1.5;\" width=\"71\" x=\"92.5\" y=\"145.22\"/><text fill=\"#000000\" font-family=\"sans-serif\" font-size=\"12\" font-style=\"italic\" lengthAdjust=\"spacingAndGlyphs\" textLength=\"69\" x=\"93.5\" y=\"161.3587\">«attribute»</text><text fill=\"#000000\" font-family=\"sans-serif\" font-size=\"12\" lengthAdjust=\"spacingAndGlyphs\" textLength=\"5\" x=\"123.5\" y=\"175.3274\">z</text><line style=\"stroke: #383838; stroke-width: 1.5;\" x1=\"93.5\" x2=\"162.5\" y1=\"183.1575\" y2=\"183.1575\"/></a><a href=\"psysml:fbc620fa-f332-480d-9302-6e81c218d767\" target=\"_top\" title=\"psysml:fbc620fa-f332-480d-9302-6e81c218d767\" xlink:actuate=\"onRequest\" xlink:href=\"psysml:fbc620fa-f332-480d-9302-6e81c218d767\" xlink:show=\"new\" xlink:title=\"psysml:fbc620fa-f332-480d-9302-6e81c218d767\" xlink:type=\"simple\"><polygon fill=\"#FFFFFF\" points=\"314.5,141.72,435.5,141.72,442.5,164.0169,449.5,164.0169,449.5,194.3138,314.5,194.3138,314.5,141.72\" style=\"stroke: #000000; stroke-width: 1.5;\"/><line style=\"stroke: #000000; stroke-width: 1.5;\" x1=\"314.5\" x2=\"442.5\" y1=\"164.0169\" y2=\"164.0169\"/><text fill=\"#000000\" font-family=\"sans-serif\" font-size=\"14\" font-weight=\"bold\" lengthAdjust=\"spacingAndGlyphs\" textLength=\"115\" x=\"318.5\" y=\"156.7151\">Application Layer</text></a><a href=\"psysml:426f0663-f125-4848-8cc6-b208ee541f23\" target=\"_top\" title=\"psysml:426f0663-f125-4848-8cc6-b208ee541f23\" xlink:actuate=\"onRequest\" xlink:href=\"psysml:426f0663-f125-4848-8cc6-b208ee541f23\" xlink:show=\"new\" xlink:title=\"psysml:426f0663-f125-4848-8cc6-b208ee541f23\" xlink:type=\"simple\"><polygon fill=\"#FFFFFF\" points=\"327,227.72,423,227.72,430,250.0169,437,250.0169,437,280.3138,327,280.3138,327,227.72\" style=\"stroke: #000000; stroke-width: 1.5;\"/><line style=\"stroke: #000000; stroke-width: 1.5;\" x1=\"327\" x2=\"430\" y1=\"250.0169\" y2=\"250.0169\"/><text fill=\"#000000\" font-family=\"sans-serif\" font-size=\"14\" font-weight=\"bold\" lengthAdjust=\"spacingAndGlyphs\" textLength=\"90\" x=\"331\" y=\"242.7151\">Service Layer</text></a><a href=\"psysml:fd3440a5-7307-47c9-b63e-e029b0e76f05\" target=\"_top\" title=\"psysml:fd3440a5-7307-47c9-b63e-e029b0e76f05\" xlink:actuate=\"onRequest\" xlink:href=\"psysml:fd3440a5-7307-47c9-b63e-e029b0e76f05\" xlink:show=\"new\" xlink:title=\"psysml:fd3440a5-7307-47c9-b63e-e029b0e76f05\" xlink:type=\"simple\"><polygon fill=\"#FFFFFF\" points=\"336,313.72,414,313.72,421,336.0169,428,336.0169,428,366.3138,336,366.3138,336,313.72\" style=\"stroke: #000000; stroke-width: 1.5;\"/><line style=\"stroke: #000000; stroke-width: 1.5;\" x1=\"336\" x2=\"421\" y1=\"336.0169\" y2=\"336.0169\"/><text fill=\"#000000\" font-family=\"sans-serif\" font-size=\"14\" font-weight=\"bold\" lengthAdjust=\"spacingAndGlyphs\" textLength=\"72\" x=\"340\" y=\"328.7151\">Data Layer</text></a><!--MD5=[1f1cd8e6dd4c1b2ca2aaccc9b9bcea6e]\n",
       "link E1 to E2--><a href=\"psysml:1f214475-93e7-4d57-afd6-304a88df216d\" target=\"_top\" title=\"psysml:1f214475-93e7-4d57-afd6-304a88df216d\" xlink:actuate=\"onRequest\" xlink:href=\"psysml:1f214475-93e7-4d57-afd6-304a88df216d\" xlink:show=\"new\" xlink:title=\"psysml:1f214475-93e7-4d57-afd6-304a88df216d\" xlink:type=\"simple\"><path d=\"M279,33.75 C279,35.665 279,44.54 279,56.8914 C279,63.0671 279,70.1119 279,77.5904 C279,81.3296 279,85.1772 279,89.0789 C279,91.0297 279,92.994 279,94.965 C279,95.9505 279,96.9377 279,97.9256 C279,98.1726 279,98.4197 279,98.6668 \" fill=\"none\" id=\"E1-&gt;E2\" style=\"stroke: #383838; stroke-width: 1.0; stroke-dasharray: 7.0,7.0;\"/><polygon fill=\"#383838\" points=\"279,98.6668,283,89.6668,279,93.6668,275,89.6668,279,98.6668\" style=\"stroke: #383838; stroke-width: 1.0;\"/><text fill=\"#000000\" font-family=\"sans-serif\" font-size=\"13\" lengthAdjust=\"spacingAndGlyphs\" textLength=\"65\" x=\"280\" y=\"54.7869\">«import»*</text></a><!--MD5=[af87c684e3b0d8be13c1a698a818ef1e]\n",
       "link E3 to E4--><a href=\"psysml:3b6c166c-6961-4bb7-b892-e5bb88ba66d9\" target=\"_top\" title=\"psysml:3b6c166c-6961-4bb7-b892-e5bb88ba66d9\" xlink:actuate=\"onRequest\" xlink:href=\"psysml:3b6c166c-6961-4bb7-b892-e5bb88ba66d9\" xlink:show=\"new\" xlink:title=\"psysml:3b6c166c-6961-4bb7-b892-e5bb88ba66d9\" xlink:type=\"simple\"><path d=\"M382,194.96 C382,194.96 382,219.5 382,219.5 \" fill=\"none\" id=\"E3-&gt;E4\" style=\"stroke: #383838; stroke-width: 1.0; stroke-dasharray: 7.0,7.0;\"/><polygon fill=\"#383838\" points=\"382,227.5,385,219.5,379,219.5,382,227.5\" style=\"stroke: #383838; stroke-width: 1.0;\"/><text fill=\"#000000\" font-family=\"sans-serif\" font-size=\"13\" lengthAdjust=\"spacingAndGlyphs\" textLength=\"64\" x=\"383\" y=\"215.7869\">«depend»</text></a><!--MD5=[1b7591eae5389033d8d09a9d6721a717]\n",
       "link E4 to E5--><a href=\"psysml:f4ae8342-4685-4b6d-8549-04188d07c1c2\" target=\"_top\" title=\"psysml:f4ae8342-4685-4b6d-8549-04188d07c1c2\" xlink:actuate=\"onRequest\" xlink:href=\"psysml:f4ae8342-4685-4b6d-8549-04188d07c1c2\" xlink:show=\"new\" xlink:title=\"psysml:f4ae8342-4685-4b6d-8549-04188d07c1c2\" xlink:type=\"simple\"><path d=\"M382,280.96 C382,280.96 382,305.5 382,305.5 \" fill=\"none\" id=\"E4-&gt;E5\" style=\"stroke: #383838; stroke-width: 1.0; stroke-dasharray: 7.0,7.0;\"/><polygon fill=\"#383838\" points=\"382,313.5,385,305.5,379,305.5,382,313.5\" style=\"stroke: #383838; stroke-width: 1.0;\"/><text fill=\"#000000\" font-family=\"sans-serif\" font-size=\"13\" lengthAdjust=\"spacingAndGlyphs\" textLength=\"64\" x=\"383\" y=\"301.7869\">«depend»</text></a><!--MD5=[c5e8897d989ce984f93528998a7150fe]\n",
       "link E8 to E6--><a href=\"psysml:dd0e7371-702f-42f4-9a28-a8ea46c1187a\" target=\"_top\" title=\"psysml:dd0e7371-702f-42f4-9a28-a8ea46c1187a\" xlink:actuate=\"onRequest\" xlink:href=\"psysml:dd0e7371-702f-42f4-9a28-a8ea46c1187a\" xlink:show=\"new\" xlink:title=\"psysml:dd0e7371-702f-42f4-9a28-a8ea46c1187a\" xlink:type=\"simple\"><path d=\"M102,191.27 C102,191.27 102,223.11 102,223.11 \" fill=\"none\" id=\"E8-&gt;E6\" style=\"stroke: #383838; stroke-width: 1.0; stroke-dasharray: 7.0,7.0;\"/><polygon fill=\"#383838\" points=\"102,231.11,105,223.11,99,223.11,102,231.11\" style=\"stroke: #383838; stroke-width: 1.0;\"/><text fill=\"#000000\" font-family=\"sans-serif\" font-size=\"13\" lengthAdjust=\"spacingAndGlyphs\" textLength=\"64\" x=\"76\" y=\"215.7869\">«depend»</text></a><!--MD5=[bfa3c8b0d15052fdf50ae9310b491027]\n",
       "link E8 to E7--><a href=\"psysml:dd0e7371-702f-42f4-9a28-a8ea46c1187a\" target=\"_top\" title=\"psysml:dd0e7371-702f-42f4-9a28-a8ea46c1187a\" xlink:actuate=\"onRequest\" xlink:href=\"psysml:dd0e7371-702f-42f4-9a28-a8ea46c1187a\" xlink:show=\"new\" xlink:title=\"psysml:dd0e7371-702f-42f4-9a28-a8ea46c1187a\" xlink:type=\"simple\"><path d=\"M155,191.27 C155,191.27 155,223.11 155,223.11 \" fill=\"none\" id=\"E8-&gt;E7\" style=\"stroke: #383838; stroke-width: 1.0; stroke-dasharray: 7.0,7.0;\"/><polygon fill=\"#383838\" points=\"155,231.11,158,223.11,152,223.11,155,231.11\" style=\"stroke: #383838; stroke-width: 1.0;\"/><text fill=\"#000000\" font-family=\"sans-serif\" font-size=\"13\" lengthAdjust=\"spacingAndGlyphs\" textLength=\"64\" x=\"182\" y=\"215.7869\">«depend»</text></a><!--MD5=[553a93d2770f9732e464ee79b4542752]\n",
       "@startuml\r\n",
       "skinparam ranksep 10\r\n",
       "skinparam rectangle {\r\n",
       " backgroundColor<<block>> LightGreen\r\n",
       "}\r\n",
       "skinparam linetype ortho\r\n",
       "skinparam monochrome true\r\n",
       "skinparam classbackgroundcolor white\r\n",
       "skinparam shadowing false\r\n",
       "skinparam wrapWidth 300\r\n",
       "hide circle\r\n",
       "\r\n",
       "package \"DependencyTest\" as E1  [[psysml:49f03030-de0c-4f13-ba7b-914972c61aaf ]]  {\r\n",
       "package \"System\" as E2  [[psysml:0a123ebf-9907-4602-8f86-a30c7447a6cf ]]  {\r\n",
       "package \"Application Layer\" as E3  [[psysml:fbc620fa-f332-480d-9302-6e81c218d767 ]]  {\r\n",
       "}\r\n",
       "package \"Service Layer\" as E4  [[psysml:426f0663-f125-4848-8cc6-b208ee541f23 ]]  {\r\n",
       "}\r\n",
       "package \"Data Layer\" as E5  [[psysml:fd3440a5-7307-47c9-b63e-e029b0e76f05 ]]  {\r\n",
       "}\r\n",
       "}\r\n",
       "comp usage \"x \" as E6  <<(T,blue) attribute>> [[psysml:0783b658-08bf-4abf-9182-ba1ece255f80 ]] {\r\n",
       "}\r\n",
       "comp usage \"y \" as E7  <<(T,blue) attribute>> [[psysml:00406d55-97a3-4ada-a9d4-67d88ef5929d ]] {\r\n",
       "}\r\n",
       "comp usage \"z \" as E8  <<(T,blue) attribute>> [[psysml:b610c4be-7598-4a50-a285-e23e2912f41a ]] {\r\n",
       "}\r\n",
       "}\r\n",
       "E1 ..> E2 [[psysml:1f214475-93e7-4d57-afd6-304a88df216d ]] : <<import>>*\r\n",
       "E3 ..>> E4 [[psysml:3b6c166c-6961-4bb7-b892-e5bb88ba66d9 ]] : <<depend>>\r\n",
       "E4 ..>> E5 [[psysml:f4ae8342-4685-4b6d-8549-04188d07c1c2 ]] : <<depend>>\r\n",
       "E8 ..>> E6 [[psysml:dd0e7371-702f-42f4-9a28-a8ea46c1187a ]] : <<depend>>\r\n",
       "E8 ..>> E7 [[psysml:dd0e7371-702f-42f4-9a28-a8ea46c1187a ]] : <<depend>>\r\n",
       "@enduml\r\n",
       "\n",
       "PlantUML version 1.2020.13(Sat Jun 13 12:26:38 UTC 2020)\n",
       "(EPL source distribution)\n",
       "Java Runtime: OpenJDK Runtime Environment\n",
       "JVM: OpenJDK 64-Bit Server VM\n",
       "Default Encoding: UTF-8\n",
       "Language: en\n",
       "Country: null\n",
       "--></g></svg>"
      ]
     },
     "execution_count": 54,
     "metadata": {},
     "output_type": "execute_result"
    }
   ],
   "source": [
    "%viz --style=\"ORTHOLINE\" --view=\"Interconnection\" \"DependencyTest\""
   ]
  },
  {
   "cell_type": "code",
   "execution_count": 55,
   "id": "639ec38d",
   "metadata": {
    "execution": {
     "iopub.execute_input": "2022-03-03T09:55:02.238360Z",
     "iopub.status.busy": "2022-03-03T09:55:02.237932Z",
     "iopub.status.idle": "2022-03-03T09:55:02.241677Z",
     "shell.execute_reply": "2022-03-03T09:55:02.241406Z"
    }
   },
   "outputs": [
    {
     "data": {
      "image/svg+xml": [
       "<?xml version=\"1.0\" encoding=\"UTF-8\" standalone=\"no\"?><svg xmlns=\"http://www.w3.org/2000/svg\" xmlns:xlink=\"http://www.w3.org/1999/xlink\" contentScriptType=\"application/ecmascript\" contentStyleType=\"text/css\" height=\"12px\" preserveAspectRatio=\"none\" style=\"width:12px;height:12px;\" version=\"1.1\" viewBox=\"0 0 12 12\" width=\"12px\" zoomAndPan=\"magnify\"><defs/><g><!--MD5=[72934c63077099a26744516a776b4749]\n",
       "@startuml\r\n",
       "skinparam ranksep 8\r\n",
       "skinparam linetype ortho\r\n",
       "skinparam monochrome true\r\n",
       "skinparam classbackgroundcolor white\r\n",
       "skinparam shadowing false\r\n",
       "skinparam wrapWidth 300\r\n",
       "hide circle\r\n",
       "\r\n",
       "@enduml\r\n",
       "\n",
       "PlantUML version 1.2020.13(Sat Jun 13 12:26:38 UTC 2020)\n",
       "(EPL source distribution)\n",
       "Java Runtime: OpenJDK Runtime Environment\n",
       "JVM: OpenJDK 64-Bit Server VM\n",
       "Default Encoding: UTF-8\n",
       "Language: en\n",
       "Country: null\n",
       "--></g></svg>"
      ]
     },
     "execution_count": 55,
     "metadata": {},
     "output_type": "execute_result"
    }
   ],
   "source": [
    "%viz --style=\"ORTHOLINE\" --view=\"Action\" \"DependencyTest\""
   ]
  },
  {
   "cell_type": "code",
   "execution_count": 56,
   "id": "99a5423e",
   "metadata": {
    "execution": {
     "iopub.execute_input": "2022-03-03T09:55:02.291716Z",
     "iopub.status.busy": "2022-03-03T09:55:02.291462Z",
     "iopub.status.idle": "2022-03-03T09:55:02.296027Z",
     "shell.execute_reply": "2022-03-03T09:55:02.295646Z"
    }
   },
   "outputs": [
    {
     "data": {
      "image/svg+xml": [
       "<?xml version=\"1.0\" encoding=\"UTF-8\" standalone=\"no\"?><svg xmlns=\"http://www.w3.org/2000/svg\" xmlns:xlink=\"http://www.w3.org/1999/xlink\" contentScriptType=\"application/ecmascript\" contentStyleType=\"text/css\" height=\"12px\" preserveAspectRatio=\"none\" style=\"width:12px;height:12px;\" version=\"1.1\" viewBox=\"0 0 12 12\" width=\"12px\" zoomAndPan=\"magnify\"><defs/><g><!--MD5=[30fc1de5121c5abddedd55b44417fde8]\n",
       "@startuml\r\n",
       "skinparam roundcorner 20\r\n",
       "skinparam BoxPadding 20\r\n",
       "skinparam SequenceBoxBackgroundColor #white\r\n",
       "skinparam style strictuml\r\n",
       "skinparam maxMessageSize 100\r\n",
       "skinparam linetype ortho\r\n",
       "skinparam monochrome true\r\n",
       "skinparam classbackgroundcolor white\r\n",
       "skinparam shadowing false\r\n",
       "skinparam wrapWidth 300\r\n",
       "hide circle\r\n",
       "\r\n",
       "@enduml\r\n",
       "\n",
       "PlantUML version 1.2020.13(Sat Jun 13 12:26:38 UTC 2020)\n",
       "(EPL source distribution)\n",
       "Java Runtime: OpenJDK Runtime Environment\n",
       "JVM: OpenJDK 64-Bit Server VM\n",
       "Default Encoding: UTF-8\n",
       "Language: en\n",
       "Country: null\n",
       "--></g></svg>"
      ]
     },
     "execution_count": 56,
     "metadata": {},
     "output_type": "execute_result"
    }
   ],
   "source": [
    "%viz --style=\"ORTHOLINE\" --view=\"Sequence\" \"DependencyTest\""
   ]
  },
  {
   "cell_type": "code",
   "execution_count": 57,
   "id": "df090c4b",
   "metadata": {
    "execution": {
     "iopub.execute_input": "2022-03-03T09:55:02.345578Z",
     "iopub.status.busy": "2022-03-03T09:55:02.345154Z",
     "iopub.status.idle": "2022-03-03T09:55:02.376554Z",
     "shell.execute_reply": "2022-03-03T09:55:02.375139Z"
    }
   },
   "outputs": [
    {
     "data": {
      "image/svg+xml": [
       "<?xml version=\"1.0\" encoding=\"UTF-8\" standalone=\"no\"?><svg xmlns=\"http://www.w3.org/2000/svg\" xmlns:xlink=\"http://www.w3.org/1999/xlink\" contentScriptType=\"application/ecmascript\" contentStyleType=\"text/css\" height=\"552px\" preserveAspectRatio=\"none\" style=\"width:536px;height:552px;\" version=\"1.1\" viewBox=\"0 0 536 552\" width=\"536px\" zoomAndPan=\"magnify\"><defs/><g><!--MD5=[fbc87193dbaf4d95561dea2c320d4a47]\n",
       "cluster E1--><a href=\"psysml:49f03030-de0c-4f13-ba7b-914972c61aaf\" target=\"_top\" title=\"psysml:49f03030-de0c-4f13-ba7b-914972c61aaf\" xlink:actuate=\"onRequest\" xlink:href=\"psysml:49f03030-de0c-4f13-ba7b-914972c61aaf\" xlink:show=\"new\" xlink:title=\"psysml:49f03030-de0c-4f13-ba7b-914972c61aaf\" xlink:type=\"simple\"><polygon fill=\"#FFFFFF\" points=\"16,6,142,6,149,28.2969,514,28.2969,514,540.72,16,540.72,16,6\" style=\"stroke: #000000; stroke-width: 1.5;\"/><line style=\"stroke: #000000; stroke-width: 1.5;\" x1=\"16\" x2=\"149\" y1=\"28.2969\" y2=\"28.2969\"/><text fill=\"#000000\" font-family=\"sans-serif\" font-size=\"14\" font-weight=\"bold\" lengthAdjust=\"spacingAndGlyphs\" textLength=\"120\" x=\"20\" y=\"20.9951\">DependencyTest</text></a><!--MD5=[e4f7fae6ed58524ba242bb0b0d3be6b7]\n",
       "cluster E2--><a href=\"psysml:0a123ebf-9907-4602-8f86-a30c7447a6cf\" target=\"_top\" title=\"psysml:0a123ebf-9907-4602-8f86-a30c7447a6cf\" xlink:actuate=\"onRequest\" xlink:href=\"psysml:0a123ebf-9907-4602-8f86-a30c7447a6cf\" xlink:show=\"new\" xlink:title=\"psysml:0a123ebf-9907-4602-8f86-a30c7447a6cf\" xlink:type=\"simple\"><polygon fill=\"#FFFFFF\" points=\"271,120.72,328,120.72,335,143.0169,474,143.0169,474,500.72,271,500.72,271,120.72\" style=\"stroke: #000000; stroke-width: 1.5;\"/><line style=\"stroke: #000000; stroke-width: 1.5;\" x1=\"271\" x2=\"335\" y1=\"143.0169\" y2=\"143.0169\"/><text fill=\"#000000\" font-family=\"sans-serif\" font-size=\"14\" font-weight=\"bold\" lengthAdjust=\"spacingAndGlyphs\" textLength=\"51\" x=\"275\" y=\"135.7151\">System</text></a><!--MD5=[60a26617385b1d2d0262a64233df1f8d]\n",
       "class E6--><a href=\"psysml:0783b658-08bf-4abf-9182-ba1ece255f80\" target=\"_top\" title=\"psysml:0783b658-08bf-4abf-9182-ba1ece255f80\" xlink:actuate=\"onRequest\" xlink:href=\"psysml:0783b658-08bf-4abf-9182-ba1ece255f80\" xlink:show=\"new\" xlink:title=\"psysml:0783b658-08bf-4abf-9182-ba1ece255f80\" xlink:type=\"simple\"><rect fill=\"#FFFFFF\" height=\"45.9375\" id=\"E6\" rx=\"10\" ry=\"10\" style=\"stroke: #383838; stroke-width: 1.5;\" width=\"71\" x=\"40.5\" y=\"297.22\"/><text fill=\"#000000\" font-family=\"sans-serif\" font-size=\"12\" font-style=\"italic\" lengthAdjust=\"spacingAndGlyphs\" textLength=\"69\" x=\"41.5\" y=\"313.3587\">«attribute»</text><text fill=\"#000000\" font-family=\"sans-serif\" font-size=\"12\" lengthAdjust=\"spacingAndGlyphs\" textLength=\"6\" x=\"71\" y=\"327.3274\">x</text><line style=\"stroke: #383838; stroke-width: 1.5;\" x1=\"41.5\" x2=\"110.5\" y1=\"335.1575\" y2=\"335.1575\"/></a><!--MD5=[2156ba9850f5573cc1fc38a6a4b2f02b]\n",
       "class E7--><a href=\"psysml:00406d55-97a3-4ada-a9d4-67d88ef5929d\" target=\"_top\" title=\"psysml:00406d55-97a3-4ada-a9d4-67d88ef5929d\" xlink:actuate=\"onRequest\" xlink:href=\"psysml:00406d55-97a3-4ada-a9d4-67d88ef5929d\" xlink:show=\"new\" xlink:title=\"psysml:00406d55-97a3-4ada-a9d4-67d88ef5929d\" xlink:type=\"simple\"><rect fill=\"#FFFFFF\" height=\"45.9375\" id=\"E7\" rx=\"10\" ry=\"10\" style=\"stroke: #383838; stroke-width: 1.5;\" width=\"71\" x=\"146.5\" y=\"297.22\"/><text fill=\"#000000\" font-family=\"sans-serif\" font-size=\"12\" font-style=\"italic\" lengthAdjust=\"spacingAndGlyphs\" textLength=\"69\" x=\"147.5\" y=\"313.3587\">«attribute»</text><text fill=\"#000000\" font-family=\"sans-serif\" font-size=\"12\" lengthAdjust=\"spacingAndGlyphs\" textLength=\"6\" x=\"177\" y=\"327.3274\">y</text><line style=\"stroke: #383838; stroke-width: 1.5;\" x1=\"147.5\" x2=\"216.5\" y1=\"335.1575\" y2=\"335.1575\"/></a><!--MD5=[b9389687b975829384b498ac4b7476b2]\n",
       "class E8--><a href=\"psysml:b610c4be-7598-4a50-a285-e23e2912f41a\" target=\"_top\" title=\"psysml:b610c4be-7598-4a50-a285-e23e2912f41a\" xlink:actuate=\"onRequest\" xlink:href=\"psysml:b610c4be-7598-4a50-a285-e23e2912f41a\" xlink:show=\"new\" xlink:title=\"psysml:b610c4be-7598-4a50-a285-e23e2912f41a\" xlink:type=\"simple\"><rect fill=\"#FFFFFF\" height=\"45.9375\" id=\"E8\" rx=\"10\" ry=\"10\" style=\"stroke: #383838; stroke-width: 1.5;\" width=\"71\" x=\"92.5\" y=\"167.22\"/><text fill=\"#000000\" font-family=\"sans-serif\" font-size=\"12\" font-style=\"italic\" lengthAdjust=\"spacingAndGlyphs\" textLength=\"69\" x=\"93.5\" y=\"183.3587\">«attribute»</text><text fill=\"#000000\" font-family=\"sans-serif\" font-size=\"12\" lengthAdjust=\"spacingAndGlyphs\" textLength=\"5\" x=\"123.5\" y=\"197.3274\">z</text><line style=\"stroke: #383838; stroke-width: 1.5;\" x1=\"93.5\" x2=\"162.5\" y1=\"205.1575\" y2=\"205.1575\"/></a><a href=\"psysml:fbc620fa-f332-480d-9302-6e81c218d767\" target=\"_top\" title=\"psysml:fbc620fa-f332-480d-9302-6e81c218d767\" xlink:actuate=\"onRequest\" xlink:href=\"psysml:fbc620fa-f332-480d-9302-6e81c218d767\" xlink:show=\"new\" xlink:title=\"psysml:fbc620fa-f332-480d-9302-6e81c218d767\" xlink:type=\"simple\"><polygon fill=\"#FFFFFF\" points=\"314.5,163.72,435.5,163.72,442.5,186.0169,449.5,186.0169,449.5,216.3138,314.5,216.3138,314.5,163.72\" style=\"stroke: #000000; stroke-width: 1.5;\"/><line style=\"stroke: #000000; stroke-width: 1.5;\" x1=\"314.5\" x2=\"442.5\" y1=\"186.0169\" y2=\"186.0169\"/><text fill=\"#000000\" font-family=\"sans-serif\" font-size=\"14\" font-weight=\"bold\" lengthAdjust=\"spacingAndGlyphs\" textLength=\"115\" x=\"318.5\" y=\"178.7151\">Application Layer</text></a><a href=\"psysml:426f0663-f125-4848-8cc6-b208ee541f23\" target=\"_top\" title=\"psysml:426f0663-f125-4848-8cc6-b208ee541f23\" xlink:actuate=\"onRequest\" xlink:href=\"psysml:426f0663-f125-4848-8cc6-b208ee541f23\" xlink:show=\"new\" xlink:title=\"psysml:426f0663-f125-4848-8cc6-b208ee541f23\" xlink:type=\"simple\"><polygon fill=\"#FFFFFF\" points=\"327,293.72,423,293.72,430,316.0169,437,316.0169,437,346.3138,327,346.3138,327,293.72\" style=\"stroke: #000000; stroke-width: 1.5;\"/><line style=\"stroke: #000000; stroke-width: 1.5;\" x1=\"327\" x2=\"430\" y1=\"316.0169\" y2=\"316.0169\"/><text fill=\"#000000\" font-family=\"sans-serif\" font-size=\"14\" font-weight=\"bold\" lengthAdjust=\"spacingAndGlyphs\" textLength=\"90\" x=\"331\" y=\"308.7151\">Service Layer</text></a><a href=\"psysml:fd3440a5-7307-47c9-b63e-e029b0e76f05\" target=\"_top\" title=\"psysml:fd3440a5-7307-47c9-b63e-e029b0e76f05\" xlink:actuate=\"onRequest\" xlink:href=\"psysml:fd3440a5-7307-47c9-b63e-e029b0e76f05\" xlink:show=\"new\" xlink:title=\"psysml:fd3440a5-7307-47c9-b63e-e029b0e76f05\" xlink:type=\"simple\"><polygon fill=\"#FFFFFF\" points=\"336,423.72,414,423.72,421,446.0169,428,446.0169,428,476.3138,336,476.3138,336,423.72\" style=\"stroke: #000000; stroke-width: 1.5;\"/><line style=\"stroke: #000000; stroke-width: 1.5;\" x1=\"336\" x2=\"421\" y1=\"446.0169\" y2=\"446.0169\"/><text fill=\"#000000\" font-family=\"sans-serif\" font-size=\"14\" font-weight=\"bold\" lengthAdjust=\"spacingAndGlyphs\" textLength=\"72\" x=\"340\" y=\"438.7151\">Data Layer</text></a><!--MD5=[1f1cd8e6dd4c1b2ca2aaccc9b9bcea6e]\n",
       "link E1 to E2--><a href=\"psysml:1f214475-93e7-4d57-afd6-304a88df216d\" target=\"_top\" title=\"psysml:1f214475-93e7-4d57-afd6-304a88df216d\" xlink:actuate=\"onRequest\" xlink:href=\"psysml:1f214475-93e7-4d57-afd6-304a88df216d\" xlink:show=\"new\" xlink:title=\"psysml:1f214475-93e7-4d57-afd6-304a88df216d\" xlink:type=\"simple\"><path d=\"M279,33.81 C279,38.265 279,75.1 279,111.9025 C279,114.2027 279,116.5027 279,118.7947 C279,119.3677 279,119.9402 279,120.512 \" fill=\"none\" id=\"E1-&gt;E2\" style=\"stroke: #383838; stroke-width: 1.0; stroke-dasharray: 7.0,7.0;\"/><polygon fill=\"#383838\" points=\"279,120.512,283,111.512,279,115.512,275,111.512,279,120.512\" style=\"stroke: #383838; stroke-width: 1.0;\"/><text fill=\"#000000\" font-family=\"sans-serif\" font-size=\"13\" lengthAdjust=\"spacingAndGlyphs\" textLength=\"65\" x=\"280\" y=\"76.7869\">«import»*</text></a><!--MD5=[af87c684e3b0d8be13c1a698a818ef1e]\n",
       "link E3 to E4--><a href=\"psysml:3b6c166c-6961-4bb7-b892-e5bb88ba66d9\" target=\"_top\" title=\"psysml:3b6c166c-6961-4bb7-b892-e5bb88ba66d9\" xlink:actuate=\"onRequest\" xlink:href=\"psysml:3b6c166c-6961-4bb7-b892-e5bb88ba66d9\" xlink:show=\"new\" xlink:title=\"psysml:3b6c166c-6961-4bb7-b892-e5bb88ba66d9\" xlink:type=\"simple\"><path d=\"M382,216.84 C382,216.84 382,285.63 382,285.63 \" fill=\"none\" id=\"E3-&gt;E4\" style=\"stroke: #383838; stroke-width: 1.0; stroke-dasharray: 7.0,7.0;\"/><polygon fill=\"#383838\" points=\"382,293.63,385,285.63,379,285.63,382,293.63\" style=\"stroke: #383838; stroke-width: 1.0;\"/><text fill=\"#000000\" font-family=\"sans-serif\" font-size=\"13\" lengthAdjust=\"spacingAndGlyphs\" textLength=\"64\" x=\"383\" y=\"259.7869\">«depend»</text></a><!--MD5=[1b7591eae5389033d8d09a9d6721a717]\n",
       "link E4 to E5--><a href=\"psysml:f4ae8342-4685-4b6d-8549-04188d07c1c2\" target=\"_top\" title=\"psysml:f4ae8342-4685-4b6d-8549-04188d07c1c2\" xlink:actuate=\"onRequest\" xlink:href=\"psysml:f4ae8342-4685-4b6d-8549-04188d07c1c2\" xlink:show=\"new\" xlink:title=\"psysml:f4ae8342-4685-4b6d-8549-04188d07c1c2\" xlink:type=\"simple\"><path d=\"M382,346.84 C382,346.84 382,415.63 382,415.63 \" fill=\"none\" id=\"E4-&gt;E5\" style=\"stroke: #383838; stroke-width: 1.0; stroke-dasharray: 7.0,7.0;\"/><polygon fill=\"#383838\" points=\"382,423.63,385,415.63,379,415.63,382,423.63\" style=\"stroke: #383838; stroke-width: 1.0;\"/><text fill=\"#000000\" font-family=\"sans-serif\" font-size=\"13\" lengthAdjust=\"spacingAndGlyphs\" textLength=\"64\" x=\"383\" y=\"389.7869\">«depend»</text></a><!--MD5=[c5e8897d989ce984f93528998a7150fe]\n",
       "link E8 to E6--><a href=\"psysml:dd0e7371-702f-42f4-9a28-a8ea46c1187a\" target=\"_top\" title=\"psysml:dd0e7371-702f-42f4-9a28-a8ea46c1187a\" xlink:actuate=\"onRequest\" xlink:href=\"psysml:dd0e7371-702f-42f4-9a28-a8ea46c1187a\" xlink:show=\"new\" xlink:title=\"psysml:dd0e7371-702f-42f4-9a28-a8ea46c1187a\" xlink:type=\"simple\"><path d=\"M102,213.46 C102,213.46 102,289.18 102,289.18 \" fill=\"none\" id=\"E8-&gt;E6\" style=\"stroke: #383838; stroke-width: 1.0; stroke-dasharray: 7.0,7.0;\"/><polygon fill=\"#383838\" points=\"102,297.18,105,289.18,99,289.18,102,297.18\" style=\"stroke: #383838; stroke-width: 1.0;\"/><text fill=\"#000000\" font-family=\"sans-serif\" font-size=\"13\" lengthAdjust=\"spacingAndGlyphs\" textLength=\"64\" x=\"76\" y=\"259.7869\">«depend»</text></a><!--MD5=[bfa3c8b0d15052fdf50ae9310b491027]\n",
       "link E8 to E7--><a href=\"psysml:dd0e7371-702f-42f4-9a28-a8ea46c1187a\" target=\"_top\" title=\"psysml:dd0e7371-702f-42f4-9a28-a8ea46c1187a\" xlink:actuate=\"onRequest\" xlink:href=\"psysml:dd0e7371-702f-42f4-9a28-a8ea46c1187a\" xlink:show=\"new\" xlink:title=\"psysml:dd0e7371-702f-42f4-9a28-a8ea46c1187a\" xlink:type=\"simple\"><path d=\"M155,213.46 C155,213.46 155,289.18 155,289.18 \" fill=\"none\" id=\"E8-&gt;E7\" style=\"stroke: #383838; stroke-width: 1.0; stroke-dasharray: 7.0,7.0;\"/><polygon fill=\"#383838\" points=\"155,297.18,158,289.18,152,289.18,155,297.18\" style=\"stroke: #383838; stroke-width: 1.0;\"/><text fill=\"#000000\" font-family=\"sans-serif\" font-size=\"13\" lengthAdjust=\"spacingAndGlyphs\" textLength=\"64\" x=\"182\" y=\"259.7869\">«depend»</text></a><!--MD5=[4f2ae5a6e3ddc1d11b3cddd5b2023f20]\n",
       "@startuml\r\n",
       "skinparam linetype ortho\r\n",
       "skinparam monochrome true\r\n",
       "skinparam classbackgroundcolor white\r\n",
       "skinparam shadowing false\r\n",
       "skinparam wrapWidth 300\r\n",
       "hide circle\r\n",
       "\r\n",
       "package \"DependencyTest\" as E1  [[psysml:49f03030-de0c-4f13-ba7b-914972c61aaf ]]  {\r\n",
       "package \"System\" as E2  [[psysml:0a123ebf-9907-4602-8f86-a30c7447a6cf ]]  {\r\n",
       "package \"Application Layer\" as E3  [[psysml:fbc620fa-f332-480d-9302-6e81c218d767 ]]  {\r\n",
       "}\r\n",
       "package \"Service Layer\" as E4  [[psysml:426f0663-f125-4848-8cc6-b208ee541f23 ]]  {\r\n",
       "}\r\n",
       "package \"Data Layer\" as E5  [[psysml:fd3440a5-7307-47c9-b63e-e029b0e76f05 ]]  {\r\n",
       "}\r\n",
       "}\r\n",
       "comp usage \"x \" as E6  <<(T,blue) attribute>> [[psysml:0783b658-08bf-4abf-9182-ba1ece255f80 ]] {\r\n",
       "}\r\n",
       "comp usage \"y \" as E7  <<(T,blue) attribute>> [[psysml:00406d55-97a3-4ada-a9d4-67d88ef5929d ]] {\r\n",
       "}\r\n",
       "comp usage \"z \" as E8  <<(T,blue) attribute>> [[psysml:b610c4be-7598-4a50-a285-e23e2912f41a ]] {\r\n",
       "}\r\n",
       "}\r\n",
       "E1 ..> E2 [[psysml:1f214475-93e7-4d57-afd6-304a88df216d ]] : <<import>>*\r\n",
       "E3 ..>> E4 [[psysml:3b6c166c-6961-4bb7-b892-e5bb88ba66d9 ]] : <<depend>>\r\n",
       "E4 ..>> E5 [[psysml:f4ae8342-4685-4b6d-8549-04188d07c1c2 ]] : <<depend>>\r\n",
       "E8 ..>> E6 [[psysml:dd0e7371-702f-42f4-9a28-a8ea46c1187a ]] : <<depend>>\r\n",
       "E8 ..>> E7 [[psysml:dd0e7371-702f-42f4-9a28-a8ea46c1187a ]] : <<depend>>\r\n",
       "@enduml\r\n",
       "\n",
       "PlantUML version 1.2020.13(Sat Jun 13 12:26:38 UTC 2020)\n",
       "(EPL source distribution)\n",
       "Java Runtime: OpenJDK Runtime Environment\n",
       "JVM: OpenJDK 64-Bit Server VM\n",
       "Default Encoding: UTF-8\n",
       "Language: en\n",
       "Country: null\n",
       "--></g></svg>"
      ]
     },
     "execution_count": 57,
     "metadata": {},
     "output_type": "execute_result"
    }
   ],
   "source": [
    "%viz --style=\"ORTHOLINE\" --view=\"MIXED\" \"DependencyTest\""
   ]
  }
 ],
 "metadata": {
  "kernelspec": {
   "display_name": "SysML",
   "language": "sysml",
   "name": "sysml"
  },
  "language_info": {
   "codemirror_mode": "sysml",
   "file_extension": ".sysml",
   "mimetype": "text/x-sysml",
   "name": "SysML",
   "pygments_lexer": "java",
   "version": "1.0.0"
  }
 },
 "nbformat": 4,
 "nbformat_minor": 5
}
