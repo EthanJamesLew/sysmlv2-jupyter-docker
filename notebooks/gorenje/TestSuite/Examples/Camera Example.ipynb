{
 "cells": [
  {
   "cell_type": "markdown",
   "id": "dfa33f0b",
   "metadata": {},
   "source": [
    "# SysML v2 Test Suite\n",
    "\n",
    "This can notebook can be cleared using menu `Edit --> Clear All Outputs` and then all cells can be\n",
    "run using menu `Run --> Run All Cells`.\n",
    "\n",
    "**WARNING**: This file is generated, all modifications here will be ignored.\n"
   ]
  },
  {
   "cell_type": "markdown",
   "id": "db7d47c6",
   "metadata": {},
   "source": [
    "## Base Example Directory: ../../sysml/src/examples/Camera Example"
   ]
  },
  {
   "cell_type": "markdown",
   "id": "9cccf259",
   "metadata": {},
   "source": [
    "## File: PictureTaking.sysml"
   ]
  },
  {
   "cell_type": "code",
   "execution_count": 1,
   "id": "aa3ea389",
   "metadata": {
    "execution": {
     "iopub.execute_input": "2021-10-03T08:32:27.719977Z",
     "iopub.status.busy": "2021-10-03T08:32:27.718767Z",
     "iopub.status.idle": "2021-10-03T08:32:28.046620Z",
     "shell.execute_reply": "2021-10-03T08:32:28.046963Z"
    }
   },
   "outputs": [
    {
     "data": {
      "text/plain": [
       "Package PictureTaking (afb7e081-091d-4ad4-b1f7-41996448d597)\n"
      ]
     },
     "execution_count": 1,
     "metadata": {},
     "output_type": "execute_result"
    }
   ],
   "source": [
    "package PictureTaking {\n",
    "\tpart def Exposure;\n",
    "\t\n",
    "\taction def Focus(out xrsl: Exposure);\n",
    "\taction def Shoot(in xsf: Exposure);\t\n",
    "\t\t\n",
    "\taction takePicture() {\t\t\n",
    "\t\taction focus: Focus[1] (out xrsl);\t\n",
    "\t\taction shoot: Shoot[1] (in xsf flow from focus.xrsl);\n",
    "\t}\n",
    "}"
   ]
  },
  {
   "cell_type": "markdown",
   "id": "afb4139b",
   "metadata": {},
   "source": [
    "## File: Camera.sysml"
   ]
  },
  {
   "cell_type": "code",
   "execution_count": 2,
   "id": "a236024e",
   "metadata": {
    "execution": {
     "iopub.execute_input": "2021-10-03T08:32:28.097510Z",
     "iopub.status.busy": "2021-10-03T08:32:28.096977Z",
     "iopub.status.idle": "2021-10-03T08:32:28.162433Z",
     "shell.execute_reply": "2021-10-03T08:32:28.162951Z"
    }
   },
   "outputs": [
    {
     "data": {
      "text/plain": [
       "PartDefinition Camera (ad77c0b6-c958-4024-8b3b-e482deb4a228)\n"
      ]
     },
     "execution_count": 2,
     "metadata": {},
     "output_type": "execute_result"
    }
   ],
   "source": [
    "part def Camera {\n",
    "\timport PictureTaking::*;\n",
    "\t\n",
    "\tperform action takePicture[*] :> PictureTaking::takePicture;\n",
    "\t\n",
    "\tpart focusingSubsystem {\n",
    "\t\tperform takePicture.focus;\n",
    "\t}\n",
    "\t\n",
    "\tpart imagingSubsystem {\n",
    "\t\tperform takePicture.shoot;\n",
    "\t}\n",
    "\t\n",
    "}"
   ]
  }
 ],
 "metadata": {
  "kernelspec": {
   "display_name": "SysML",
   "language": "sysml",
   "name": "sysml"
  },
  "language_info": {
   "codemirror_mode": "sysml",
   "file_extension": ".sysml",
   "mimetype": "text/x-sysml",
   "name": "SysML",
   "pygments_lexer": "java",
   "version": "1.0.0"
  }
 },
 "nbformat": 4,
 "nbformat_minor": 5
}
