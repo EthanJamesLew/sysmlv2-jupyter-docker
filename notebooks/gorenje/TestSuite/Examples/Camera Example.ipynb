{
 "cells": [
  {
   "cell_type": "markdown",
   "id": "f19eed44",
   "metadata": {},
   "source": [
    "# SysML v2 Test Suite\n",
    "\n",
    "This can notebook can be cleared using menu `Edit --> Clear All Outputs` and then all cells can be\n",
    "run using menu `Run --> Run All Cells`.\n",
    "\n",
    "**WARNING**: This file is generated, all modifications here will be ignored.\n"
   ]
  },
  {
   "cell_type": "markdown",
   "id": "d9ad1e7c",
   "metadata": {},
   "source": [
    "## Base Example Directory: ../../sysml/src/examples/Camera Example"
   ]
  },
  {
   "cell_type": "markdown",
   "id": "788a37b9",
   "metadata": {},
   "source": [
    "## File: PictureTaking.sysml"
   ]
  },
  {
   "cell_type": "code",
   "execution_count": 1,
   "id": "769d037b",
   "metadata": {
    "execution": {
     "iopub.execute_input": "2022-03-03T10:00:49.864636Z",
     "iopub.status.busy": "2022-03-03T10:00:49.863629Z",
     "iopub.status.idle": "2022-03-03T10:00:50.271615Z",
     "shell.execute_reply": "2022-03-03T10:00:50.271956Z"
    }
   },
   "outputs": [
    {
     "data": {
      "text/plain": [
       "Package PictureTaking (2a40d205-4c8c-456e-b228-e84444b56c25)\n"
      ]
     },
     "execution_count": 1,
     "metadata": {},
     "output_type": "execute_result"
    }
   ],
   "source": [
    "package PictureTaking {\n",
    "\tpart def Exposure;\n",
    "\t\n",
    "\taction def Focus(out xrsl: Exposure);\n",
    "\taction def Shoot(in xsf: Exposure);\t\n",
    "\t\t\n",
    "\taction takePicture() {\t\t\n",
    "\t\taction focus: Focus[1] (out xrsl);\t\n",
    "\t\taction shoot: Shoot[1] (in xsf flow from focus.xrsl);\n",
    "\t}\n",
    "}"
   ]
  },
  {
   "cell_type": "markdown",
   "id": "6f7292e9",
   "metadata": {},
   "source": [
    "## File: Camera.sysml"
   ]
  },
  {
   "cell_type": "code",
   "execution_count": 2,
   "id": "399b5915",
   "metadata": {
    "execution": {
     "iopub.execute_input": "2022-03-03T10:00:50.322479Z",
     "iopub.status.busy": "2022-03-03T10:00:50.322071Z",
     "iopub.status.idle": "2022-03-03T10:00:50.356090Z",
     "shell.execute_reply": "2022-03-03T10:00:50.355715Z"
    }
   },
   "outputs": [
    {
     "data": {
      "text/plain": [
       "PartDefinition Camera (d91cb08d-57c4-4617-824e-db572c00f04e)\n"
      ]
     },
     "execution_count": 2,
     "metadata": {},
     "output_type": "execute_result"
    }
   ],
   "source": [
    "part def Camera {\n",
    "\timport PictureTaking::*;\n",
    "\t\n",
    "\tperform action takePicture[*] :> PictureTaking::takePicture;\n",
    "\t\n",
    "\tpart focusingSubsystem {\n",
    "\t\tperform takePicture.focus;\n",
    "\t}\n",
    "\t\n",
    "\tpart imagingSubsystem {\n",
    "\t\tperform takePicture.shoot;\n",
    "\t}\n",
    "\t\n",
    "}"
   ]
  }
 ],
 "metadata": {
  "kernelspec": {
   "display_name": "SysML",
   "language": "sysml",
   "name": "sysml"
  },
  "language_info": {
   "codemirror_mode": "sysml",
   "file_extension": ".sysml",
   "mimetype": "text/x-sysml",
   "name": "SysML",
   "pygments_lexer": "java",
   "version": "1.0.0"
  }
 },
 "nbformat": 4,
 "nbformat_minor": 5
}
