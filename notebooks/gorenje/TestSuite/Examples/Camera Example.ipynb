{
 "cells": [
  {
   "cell_type": "markdown",
   "id": "6aeb3527",
   "metadata": {},
   "source": [
    "# SysML v2 Test Suite\n",
    "\n",
    "This can notebook can be cleared using menu `Edit --> Clear All Outputs` and then all cells can be\n",
    "run using menu `Run --> Run All Cells`.\n",
    "\n",
    "**WARNING**: This file is generated, all modifications here will be ignored.\n"
   ]
  },
  {
   "cell_type": "markdown",
   "id": "b1cddcb4",
   "metadata": {},
   "source": [
    "## Base Example Directory: ../../sysml/src/examples/Camera Example"
   ]
  },
  {
   "cell_type": "markdown",
   "id": "74b67a94",
   "metadata": {},
   "source": [
    "## File: PictureTaking.sysml"
   ]
  },
  {
   "cell_type": "code",
   "execution_count": 1,
   "id": "fe228c58",
   "metadata": {
    "execution": {
     "iopub.execute_input": "2021-11-13T13:03:32.962907Z",
     "iopub.status.busy": "2021-11-13T13:03:32.961784Z",
     "iopub.status.idle": "2021-11-13T13:03:33.388449Z",
     "shell.execute_reply": "2021-11-13T13:03:33.388785Z"
    }
   },
   "outputs": [
    {
     "data": {
      "text/plain": [
       "Package PictureTaking (445075d4-0932-4e27-a3e4-d71e36f3f4dd)\n"
      ]
     },
     "execution_count": 1,
     "metadata": {},
     "output_type": "execute_result"
    }
   ],
   "source": [
    "package PictureTaking {\n",
    "\tpart def Exposure;\n",
    "\t\n",
    "\taction def Focus(out xrsl: Exposure);\n",
    "\taction def Shoot(in xsf: Exposure);\t\n",
    "\t\t\n",
    "\taction takePicture() {\t\t\n",
    "\t\taction focus: Focus[1] (out xrsl);\t\n",
    "\t\taction shoot: Shoot[1] (in xsf flow from focus.xrsl);\n",
    "\t}\n",
    "}"
   ]
  },
  {
   "cell_type": "markdown",
   "id": "fee581f2",
   "metadata": {},
   "source": [
    "## File: Camera.sysml"
   ]
  },
  {
   "cell_type": "code",
   "execution_count": 2,
   "id": "771df17b",
   "metadata": {
    "execution": {
     "iopub.execute_input": "2021-11-13T13:03:33.439426Z",
     "iopub.status.busy": "2021-11-13T13:03:33.438990Z",
     "iopub.status.idle": "2021-11-13T13:03:33.479389Z",
     "shell.execute_reply": "2021-11-13T13:03:33.479700Z"
    }
   },
   "outputs": [
    {
     "data": {
      "text/plain": [
       "PartDefinition Camera (ef773970-95df-42e5-a8cd-83db25144280)\n"
      ]
     },
     "execution_count": 2,
     "metadata": {},
     "output_type": "execute_result"
    }
   ],
   "source": [
    "part def Camera {\n",
    "\timport PictureTaking::*;\n",
    "\t\n",
    "\tperform action takePicture[*] :> PictureTaking::takePicture;\n",
    "\t\n",
    "\tpart focusingSubsystem {\n",
    "\t\tperform takePicture.focus;\n",
    "\t}\n",
    "\t\n",
    "\tpart imagingSubsystem {\n",
    "\t\tperform takePicture.shoot;\n",
    "\t}\n",
    "\t\n",
    "}"
   ]
  }
 ],
 "metadata": {
  "kernelspec": {
   "display_name": "SysML",
   "language": "sysml",
   "name": "sysml"
  },
  "language_info": {
   "codemirror_mode": "sysml",
   "file_extension": ".sysml",
   "mimetype": "text/x-sysml",
   "name": "SysML",
   "pygments_lexer": "java",
   "version": "1.0.0"
  }
 },
 "nbformat": 4,
 "nbformat_minor": 5
}
