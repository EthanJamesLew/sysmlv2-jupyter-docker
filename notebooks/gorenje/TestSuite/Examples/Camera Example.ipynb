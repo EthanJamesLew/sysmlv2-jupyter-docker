{
 "cells": [
  {
   "cell_type": "markdown",
   "id": "3c59cd5b",
   "metadata": {},
   "source": [
    "# SysML v2 Test Suite\n",
    "\n",
    "This can notebook can be cleared using menu `Edit --> Clear All Outputs` and then all cells can be\n",
    "run using menu `Run --> Run All Cells`.\n",
    "\n",
    "**WARNING**: This file is generated, all modifications here will be ignored.\n"
   ]
  },
  {
   "cell_type": "markdown",
   "id": "3c4df8b3",
   "metadata": {},
   "source": [
    "## Base Example Directory: ../../sysml/src/examples/Camera Example"
   ]
  },
  {
   "cell_type": "markdown",
   "id": "b7289270",
   "metadata": {},
   "source": [
    "## File: PictureTaking.sysml"
   ]
  },
  {
   "cell_type": "code",
   "execution_count": 1,
   "id": "2886b319",
   "metadata": {
    "execution": {
     "iopub.execute_input": "2022-04-22T09:54:19.447702Z",
     "iopub.status.busy": "2022-04-22T09:54:19.446150Z",
     "iopub.status.idle": "2022-04-22T09:54:20.115985Z",
     "shell.execute_reply": "2022-04-22T09:54:20.115710Z"
    }
   },
   "outputs": [
    {
     "data": {
      "text/plain": [
       "Package PictureTaking (5ccf3a31-8de9-4a5b-8196-a376ea420c61)\n"
      ]
     },
     "execution_count": 1,
     "metadata": {},
     "output_type": "execute_result"
    }
   ],
   "source": [
    "package PictureTaking {\n",
    "\tpart def Exposure;\n",
    "\t\n",
    "\taction def Focus(out xrsl: Exposure);\n",
    "\taction def Shoot(in xsf: Exposure);\t\n",
    "\t\t\n",
    "\taction takePicture() {\t\t\n",
    "\t\taction focus: Focus[1] (out xrsl);\t\n",
    "\t\taction shoot: Shoot[1] (in xsf flow from focus.xrsl);\n",
    "\t}\n",
    "}"
   ]
  },
  {
   "cell_type": "markdown",
   "id": "eed892c3",
   "metadata": {},
   "source": [
    "## File: Camera.sysml"
   ]
  },
  {
   "cell_type": "code",
   "execution_count": 2,
   "id": "c6732ee5",
   "metadata": {
    "execution": {
     "iopub.execute_input": "2022-04-22T09:54:20.168319Z",
     "iopub.status.busy": "2022-04-22T09:54:20.167835Z",
     "iopub.status.idle": "2022-04-22T09:54:20.242073Z",
     "shell.execute_reply": "2022-04-22T09:54:20.242247Z"
    }
   },
   "outputs": [
    {
     "data": {
      "text/plain": [
       "PartDefinition Camera (a814f9f4-4e14-49d6-9845-13aaa8b56a22)\n"
      ]
     },
     "execution_count": 2,
     "metadata": {},
     "output_type": "execute_result"
    }
   ],
   "source": [
    "part def Camera {\n",
    "\timport PictureTaking::*;\n",
    "\t\n",
    "\tperform action takePicture[*] :> PictureTaking::takePicture;\n",
    "\t\n",
    "\tpart focusingSubsystem {\n",
    "\t\tperform takePicture.focus;\n",
    "\t}\n",
    "\t\n",
    "\tpart imagingSubsystem {\n",
    "\t\tperform takePicture.shoot;\n",
    "\t}\n",
    "\t\n",
    "}"
   ]
  }
 ],
 "metadata": {
  "kernelspec": {
   "display_name": "SysML",
   "language": "sysml",
   "name": "sysml"
  },
  "language_info": {
   "codemirror_mode": "sysml",
   "file_extension": ".sysml",
   "mimetype": "text/x-sysml",
   "name": "SysML",
   "pygments_lexer": "java",
   "version": "1.0.0"
  }
 },
 "nbformat": 4,
 "nbformat_minor": 5
}
