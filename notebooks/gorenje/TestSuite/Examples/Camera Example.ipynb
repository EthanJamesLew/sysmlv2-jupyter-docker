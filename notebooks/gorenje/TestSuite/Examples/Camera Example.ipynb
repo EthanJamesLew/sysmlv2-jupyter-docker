{
 "cells": [
  {
   "cell_type": "markdown",
   "id": "ae01063a",
   "metadata": {},
   "source": [
    "# SysML v2 Test Suite\n",
    "\n",
    "This can notebook can be cleared using menu `Edit --> Clear All Outputs` and then all cells can be\n",
    "run using menu `Run --> Run All Cells`.\n",
    "\n",
    "**WARNING**: This file is generated, all modifications here will be ignored.\n"
   ]
  },
  {
   "cell_type": "markdown",
   "id": "645084b1",
   "metadata": {},
   "source": [
    "## Base Example Directory: ../../sysml/src/examples/Camera Example"
   ]
  },
  {
   "cell_type": "markdown",
   "id": "801d860b",
   "metadata": {},
   "source": [
    "## File: PictureTaking.sysml"
   ]
  },
  {
   "cell_type": "code",
   "execution_count": 1,
   "id": "53be8d1b",
   "metadata": {
    "execution": {
     "iopub.execute_input": "2022-05-19T08:48:18.093037Z",
     "iopub.status.busy": "2022-05-19T08:48:18.091625Z",
     "iopub.status.idle": "2022-05-19T08:48:18.634659Z",
     "shell.execute_reply": "2022-05-19T08:48:18.635120Z"
    }
   },
   "outputs": [
    {
     "data": {
      "text/plain": [
       "Package PictureTaking (3387833b-0752-4d73-b584-9ccaa4b62f94)\n"
      ]
     },
     "execution_count": 1,
     "metadata": {},
     "output_type": "execute_result"
    }
   ],
   "source": [
    "package PictureTaking {\n",
    "\tpart def Exposure;\n",
    "\t\n",
    "\taction def Focus(out xrsl: Exposure);\n",
    "\taction def Shoot(in xsf: Exposure);\t\n",
    "\t\t\n",
    "\taction takePicture() {\t\t\n",
    "\t\taction focus: Focus[1] (out xrsl);\t\n",
    "\t\taction shoot: Shoot[1] (in xsf flow from focus.xrsl);\n",
    "\t}\n",
    "}"
   ]
  },
  {
   "cell_type": "markdown",
   "id": "275ebda3",
   "metadata": {},
   "source": [
    "## File: Camera.sysml"
   ]
  },
  {
   "cell_type": "code",
   "execution_count": 2,
   "id": "defd42a2",
   "metadata": {
    "execution": {
     "iopub.execute_input": "2022-05-19T08:48:18.686182Z",
     "iopub.status.busy": "2022-05-19T08:48:18.685671Z",
     "iopub.status.idle": "2022-05-19T08:48:18.744708Z",
     "shell.execute_reply": "2022-05-19T08:48:18.744259Z"
    }
   },
   "outputs": [
    {
     "data": {
      "text/plain": [
       "PartDefinition Camera (21953125-6697-4e1d-9310-4cc918210194)\n"
      ]
     },
     "execution_count": 2,
     "metadata": {},
     "output_type": "execute_result"
    }
   ],
   "source": [
    "part def Camera {\n",
    "\timport PictureTaking::*;\n",
    "\t\n",
    "\tperform action takePicture[*] :> PictureTaking::takePicture;\n",
    "\t\n",
    "\tpart focusingSubsystem {\n",
    "\t\tperform takePicture.focus;\n",
    "\t}\n",
    "\t\n",
    "\tpart imagingSubsystem {\n",
    "\t\tperform takePicture.shoot;\n",
    "\t}\n",
    "\t\n",
    "}"
   ]
  }
 ],
 "metadata": {
  "kernelspec": {
   "display_name": "SysML",
   "language": "sysml",
   "name": "sysml"
  },
  "language_info": {
   "codemirror_mode": "sysml",
   "file_extension": ".sysml",
   "mimetype": "text/x-sysml",
   "name": "SysML",
   "pygments_lexer": "java",
   "version": "1.0.0"
  }
 },
 "nbformat": 4,
 "nbformat_minor": 5
}
