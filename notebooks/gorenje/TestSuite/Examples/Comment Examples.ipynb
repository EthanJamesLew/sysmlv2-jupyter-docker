{
 "cells": [
  {
   "cell_type": "markdown",
   "id": "cb298ef4",
   "metadata": {},
   "source": [
    "# SysML v2 Test Suite\n",
    "\n",
    "This can notebook can be cleared using menu `Edit --> Clear All Outputs` and then all cells can be\n",
    "run using menu `Run --> Run All Cells`.\n",
    "\n",
    "**WARNING**: This file is generated, all modifications here will be ignored.\n"
   ]
  },
  {
   "cell_type": "markdown",
   "id": "0ec649d0",
   "metadata": {},
   "source": [
    "## Base Example Directory: ../../sysml/src/examples/Comment Examples"
   ]
  },
  {
   "cell_type": "markdown",
   "id": "17a30699",
   "metadata": {},
   "source": [
    "## File: Comments.sysml"
   ]
  },
  {
   "cell_type": "code",
   "execution_count": 1,
   "id": "3929282a",
   "metadata": {
    "execution": {
     "iopub.execute_input": "2021-06-30T09:25:16.445882Z",
     "iopub.status.busy": "2021-06-30T09:25:16.441750Z",
     "iopub.status.idle": "2021-06-30T09:25:16.641431Z",
     "shell.execute_reply": "2021-06-30T09:25:16.641793Z"
    }
   },
   "outputs": [
    {
     "data": {
      "text/plain": [
       "Package Comments (e00e4b90-6fbe-4348-ab31-b5dccbd15cc7)\n"
      ]
     },
     "execution_count": 1,
     "metadata": {},
     "output_type": "execute_result"
    }
   ],
   "source": [
    "/** Documentation Comment */\n",
    "package Comments {\n",
    "\tdoc /* Documentation about Package */\n",
    "\tdoc /** Comment about Comment */\n",
    "\tcomment cmt /* Named Comment */\t\n",
    "\tcomment cmt_cmtc about cmt /* Other Comment about Comment */\n",
    "\t\n",
    "\tdoc /** Documention Comment on Block */\n",
    "\tpart def C {\n",
    "\t\tdoc /* Documentation in Part Def */\n",
    "\t\tcomment /* Comment in Part Def */\n",
    "\t\tcomment about Comments /* Comment about Package */\n",
    "\t}\n",
    "}"
   ]
  }
 ],
 "metadata": {
  "kernelspec": {
   "display_name": "SysML",
   "language": "sysml",
   "name": "sysml"
  },
  "language_info": {
   "codemirror_mode": "sysml",
   "file_extension": ".sysml",
   "mimetype": "text/x-sysml",
   "name": "SysML",
   "pygments_lexer": "java",
   "version": "1.0.0"
  }
 },
 "nbformat": 4,
 "nbformat_minor": 5
}
