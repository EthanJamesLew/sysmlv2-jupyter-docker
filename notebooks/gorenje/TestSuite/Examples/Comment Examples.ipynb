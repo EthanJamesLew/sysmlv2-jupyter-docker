{
 "cells": [
  {
   "cell_type": "markdown",
   "id": "95fc4433",
   "metadata": {},
   "source": [
    "# SysML v2 Test Suite\n",
    "\n",
    "This can notebook can be cleared using menu `Edit --> Clear All Outputs` and then all cells can be\n",
    "run using menu `Run --> Run All Cells`.\n",
    "\n",
    "**WARNING**: This file is generated, all modifications here will be ignored.\n"
   ]
  },
  {
   "cell_type": "markdown",
   "id": "ca0db844",
   "metadata": {},
   "source": [
    "## Base Example Directory: ../../sysml/src/examples/Comment Examples"
   ]
  },
  {
   "cell_type": "markdown",
   "id": "3ea8fb61",
   "metadata": {},
   "source": [
    "## File: Comments.sysml"
   ]
  },
  {
   "cell_type": "code",
   "execution_count": 1,
   "id": "900da035",
   "metadata": {
    "execution": {
     "iopub.execute_input": "2022-03-03T09:59:59.536828Z",
     "iopub.status.busy": "2022-03-03T09:59:59.535222Z",
     "iopub.status.idle": "2022-03-03T09:59:59.674603Z",
     "shell.execute_reply": "2022-03-03T09:59:59.674979Z"
    }
   },
   "outputs": [
    {
     "data": {
      "text/plain": [
       "Package Comments (2dcdb7ab-5f45-4561-9327-0ee554384a71)\n"
      ]
     },
     "execution_count": 1,
     "metadata": {},
     "output_type": "execute_result"
    }
   ],
   "source": [
    "/** Documentation Comment */\n",
    "package Comments {\n",
    "\tdoc /* Documentation about Package */\n",
    "\tdoc /** Comment about Comment */\n",
    "\tcomment cmt /* Named Comment */\t\n",
    "\tcomment cmt_cmtc about cmt /* Other Comment about Comment */\n",
    "\t\n",
    "\tdoc /** Documention Comment on Block */\n",
    "\tpart def C {\n",
    "\t\tdoc /* Documentation in Part Def */\n",
    "\t\tcomment /* Comment in Part Def */\n",
    "\t\tcomment about Comments /* Comment about Package */\n",
    "\t}\n",
    "}"
   ]
  }
 ],
 "metadata": {
  "kernelspec": {
   "display_name": "SysML",
   "language": "sysml",
   "name": "sysml"
  },
  "language_info": {
   "codemirror_mode": "sysml",
   "file_extension": ".sysml",
   "mimetype": "text/x-sysml",
   "name": "SysML",
   "pygments_lexer": "java",
   "version": "1.0.0"
  }
 },
 "nbformat": 4,
 "nbformat_minor": 5
}
