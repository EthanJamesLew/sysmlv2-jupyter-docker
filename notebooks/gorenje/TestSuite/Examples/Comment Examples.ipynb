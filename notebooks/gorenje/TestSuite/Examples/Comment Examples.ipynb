{
 "cells": [
  {
   "cell_type": "markdown",
   "id": "098a49eb",
   "metadata": {},
   "source": [
    "# SysML v2 Test Suite\n",
    "\n",
    "This can notebook can be cleared using menu `Edit --> Clear All Outputs` and then all cells can be\n",
    "run using menu `Run --> Run All Cells`.\n",
    "\n",
    "**WARNING**: This file is generated, all modifications here will be ignored.\n"
   ]
  },
  {
   "cell_type": "markdown",
   "id": "f6523043",
   "metadata": {},
   "source": [
    "## Base Example Directory: ../../sysml/src/examples/Comment Examples"
   ]
  },
  {
   "cell_type": "markdown",
   "id": "98ada284",
   "metadata": {},
   "source": [
    "## File: Comments.sysml"
   ]
  },
  {
   "cell_type": "code",
   "execution_count": 1,
   "id": "cfaecfb8",
   "metadata": {
    "execution": {
     "iopub.execute_input": "2021-09-27T07:20:30.562611Z",
     "iopub.status.busy": "2021-09-27T07:20:30.561340Z",
     "iopub.status.idle": "2021-09-27T07:20:30.702439Z",
     "shell.execute_reply": "2021-09-27T07:20:30.701970Z"
    }
   },
   "outputs": [
    {
     "data": {
      "text/plain": [
       "Package Comments (87c0ba5a-b51c-4ceb-9e2f-0977e31f25dd)\n"
      ]
     },
     "execution_count": 1,
     "metadata": {},
     "output_type": "execute_result"
    }
   ],
   "source": [
    "/** Documentation Comment */\n",
    "package Comments {\n",
    "\tdoc /* Documentation about Package */\n",
    "\tdoc /** Comment about Comment */\n",
    "\tcomment cmt /* Named Comment */\t\n",
    "\tcomment cmt_cmtc about cmt /* Other Comment about Comment */\n",
    "\t\n",
    "\tdoc /** Documention Comment on Block */\n",
    "\tpart def C {\n",
    "\t\tdoc /* Documentation in Part Def */\n",
    "\t\tcomment /* Comment in Part Def */\n",
    "\t\tcomment about Comments /* Comment about Package */\n",
    "\t}\n",
    "}"
   ]
  }
 ],
 "metadata": {
  "kernelspec": {
   "display_name": "SysML",
   "language": "sysml",
   "name": "sysml"
  },
  "language_info": {
   "codemirror_mode": "sysml",
   "file_extension": ".sysml",
   "mimetype": "text/x-sysml",
   "name": "SysML",
   "pygments_lexer": "java",
   "version": "1.0.0"
  }
 },
 "nbformat": 4,
 "nbformat_minor": 5
}
