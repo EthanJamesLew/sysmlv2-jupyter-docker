{
 "cells": [
  {
   "cell_type": "markdown",
   "id": "a76f3088",
   "metadata": {},
   "source": [
    "# SysML v2 Test Suite\n",
    "\n",
    "This can notebook can be cleared using menu `Edit --> Clear All Outputs` and then all cells can be\n",
    "run using menu `Run --> Run All Cells`.\n",
    "\n",
    "**WARNING**: This file is generated, all modifications here will be ignored.\n"
   ]
  },
  {
   "cell_type": "markdown",
   "id": "852aad59",
   "metadata": {},
   "source": [
    "## Base Example Directory: ../../sysml/src/examples/Comment Examples"
   ]
  },
  {
   "cell_type": "markdown",
   "id": "508bcc3d",
   "metadata": {},
   "source": [
    "## File: Comments.sysml"
   ]
  },
  {
   "cell_type": "code",
   "execution_count": 1,
   "id": "b0d68681",
   "metadata": {
    "execution": {
     "iopub.execute_input": "2022-03-21T07:53:54.766580Z",
     "iopub.status.busy": "2022-03-21T07:53:54.765451Z",
     "iopub.status.idle": "2022-03-21T07:53:54.926800Z",
     "shell.execute_reply": "2022-03-21T07:53:54.927259Z"
    }
   },
   "outputs": [
    {
     "data": {
      "text/plain": [
       "Package Comments (180c153e-77d4-4e2b-944e-baf15a5b3636)\n"
      ]
     },
     "execution_count": 1,
     "metadata": {},
     "output_type": "execute_result"
    }
   ],
   "source": [
    "/** Documentation Comment */\n",
    "package Comments {\n",
    "\tdoc /* Documentation about Package */\n",
    "\tdoc /** Comment about Comment */\n",
    "\tcomment cmt /* Named Comment */\t\n",
    "\tcomment cmt_cmtc about cmt /* Other Comment about Comment */\n",
    "\t\n",
    "\tdoc /** Documention Comment on Block */\n",
    "\tpart def C {\n",
    "\t\tdoc /* Documentation in Part Def */\n",
    "\t\tcomment /* Comment in Part Def */\n",
    "\t\tcomment about Comments /* Comment about Package */\n",
    "\t}\n",
    "}"
   ]
  }
 ],
 "metadata": {
  "kernelspec": {
   "display_name": "SysML",
   "language": "sysml",
   "name": "sysml"
  },
  "language_info": {
   "codemirror_mode": "sysml",
   "file_extension": ".sysml",
   "mimetype": "text/x-sysml",
   "name": "SysML",
   "pygments_lexer": "java",
   "version": "1.0.0"
  }
 },
 "nbformat": 4,
 "nbformat_minor": 5
}
