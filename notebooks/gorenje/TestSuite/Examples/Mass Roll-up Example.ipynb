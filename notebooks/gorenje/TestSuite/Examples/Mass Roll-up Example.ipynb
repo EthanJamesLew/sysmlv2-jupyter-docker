{
 "cells": [
  {
   "cell_type": "markdown",
   "id": "54f8eadf",
   "metadata": {},
   "source": [
    "# SysML v2 Test Suite\n",
    "\n",
    "This can notebook can be cleared using menu `Edit --> Clear All Outputs` and then all cells can be\n",
    "run using menu `Run --> Run All Cells`.\n",
    "\n",
    "**WARNING**: This file is generated, all modifications here will be ignored.\n"
   ]
  },
  {
   "cell_type": "markdown",
   "id": "b99b3207",
   "metadata": {},
   "source": [
    "## Base Example Directory: ../../sysml/src/examples/Mass Roll-up Example"
   ]
  },
  {
   "cell_type": "markdown",
   "id": "f7b7e454",
   "metadata": {},
   "source": [
    "## File: MassConstraintExample.sysml"
   ]
  },
  {
   "cell_type": "code",
   "execution_count": 1,
   "id": "066e3503",
   "metadata": {
    "execution": {
     "iopub.execute_input": "2021-09-27T07:20:34.376249Z",
     "iopub.status.busy": "2021-09-27T07:20:34.374320Z",
     "iopub.status.idle": "2021-09-27T07:20:35.331533Z",
     "shell.execute_reply": "2021-09-27T07:20:35.330952Z"
    }
   },
   "outputs": [
    {
     "data": {
      "text/plain": [
       "Package MassConstraintExample (34cc97d2-2f85-4fc3-bd08-c751bf84f989)\n"
      ]
     },
     "execution_count": 1,
     "metadata": {},
     "output_type": "execute_result"
    }
   ],
   "source": [
    "package MassConstraintExample {\n",
    "\timport ISQ::*;\n",
    "\timport SI::*;\n",
    "\timport ScalarFunctions::*;\n",
    "\t\n",
    "\tpart def Engine {\n",
    "\t\tattribute m :> mass;\n",
    "\t}\n",
    "\t\n",
    "\tpart def Transmission {\n",
    "\t\tattribute m :> mass;\n",
    "\t}\n",
    "\t\n",
    "\tpart def Vehicle1 {\n",
    "\t\tattribute m : MassValue = eng.m + trans.m;\n",
    "\t\t\n",
    "\t\tpart eng : Engine {\n",
    "\t\t\tattribute :>> m : MassValue;\n",
    "\t\t}\n",
    "\t\t\n",
    "\t\tpart trans : Transmission {\n",
    "\t\t\tattribute :>> m : MassValue;\n",
    "\t\t}\n",
    "\t}\n",
    "\t\n",
    "\tpart def Vehicle2 {\n",
    "\t\tassert constraint { m == eng.m + trans.m }\n",
    "\t\t\n",
    "\t\tattribute m : MassValue;\n",
    "\t\t\n",
    "\t\tpart eng : Engine {\n",
    "\t\t\tattribute :>> m : MassValue;\n",
    "\t\t}\n",
    "\t\t\n",
    "\t\tpart trans : Transmission {\n",
    "\t\t\tattribute :>> m : MassValue;\n",
    "\t\t}\n",
    "\t}\n",
    "\t\n",
    "\tconstraint def MassConstraint3 (\n",
    "\t\ttotalMass : MassValue, \n",
    "\t\tpartMasses : MassValue[0..*]) {\n",
    "\t\t\t\n",
    "\t\ttotalMass == sum(partMasses)\n",
    "\t}\n",
    "\t\n",
    "\tpart def Vehicle3 {\n",
    "\t\tassert constraint massConstraint : MassConstraint3 (\n",
    "\t\t\ttotalMass = m, \n",
    "\t\t\tpartMasses = (eng.m, trans.m)\n",
    "\t\t);\n",
    "\t\t\n",
    "\t\tattribute m : MassValue;\n",
    "\t\t\n",
    "\t\tpart eng {\n",
    "\t\t\tattribute m : MassValue;\n",
    "\t\t}\n",
    "\t\t\n",
    "\t\tpart trans {\n",
    "\t\t\tattribute m : MassValue;\n",
    "\t\t}\n",
    "\t}\n",
    "\t\n",
    "\tconstraint def MassConstraint4 (\n",
    "\t\ttotalMass : MassValue, \n",
    "\t\tpartMasses : MassValue[0..*]);\n",
    "\t\n",
    "\tconstraint mc : MassConstraint4 (\n",
    "\t\ttotalMass : MassValue, \n",
    "\t\tpartMasses : MassValue[0..*]) {\n",
    "\t\t\n",
    "\t\ttotalMass == sum(partMasses)\n",
    "\t}\n",
    "\t\n",
    "\tpart def Vehicle4 {\n",
    "\t\tassert mc (\n",
    "\t\t\ttotalMass = m, \n",
    "\t\t\tpartMasses = (eng.m, trans.m)\n",
    "\t\t);\n",
    "\t\t\n",
    "\t\tattribute m : MassValue;\n",
    "\t\t\n",
    "\t\tpart eng : Engine {\n",
    "\t\t\tattribute :>> m : MassValue;\n",
    "\t\t}\n",
    "\t\t\n",
    "\t\tpart trans : Transmission {\n",
    "\t\t\tattribute :>> m : MassValue;\n",
    "\t\t}\n",
    "\t}\n",
    "\t\n",
    "\tconstraint def MassLimit (\n",
    "\t\tmass : MassValue, \n",
    "\t\tmaxMass : MassValue) {\n",
    "\t\t\t\n",
    "\t\tmass <= maxMass\n",
    "\t}\n",
    "\t\n",
    "\tpart def Vehicle5 {\n",
    "\t\tassert constraint ml : MassLimit (\n",
    "\t\t\tmass = m, \n",
    "\t\t\tmaxMass = 2500 [kg]\n",
    "\t\t);\n",
    "\t\t\n",
    "\t\tattribute m : MassValue = eng.m + trans.m;\n",
    "\t\t\n",
    "\t\tpart eng : Engine {\n",
    "\t\t\tattribute :>> m : MassValue;\n",
    "\t\t}\n",
    "\t\t\n",
    "\t\tpart trans : Transmission {\n",
    "\t\t\tattribute :>> m : MassValue;\n",
    "\t\t}\n",
    "\t}\t\n",
    "\t\n",
    "}"
   ]
  },
  {
   "cell_type": "markdown",
   "id": "583ced18",
   "metadata": {},
   "source": [
    "## File: MassRollup.sysml"
   ]
  },
  {
   "cell_type": "code",
   "execution_count": 2,
   "id": "61a17691",
   "metadata": {
    "execution": {
     "iopub.execute_input": "2021-09-27T07:20:35.383326Z",
     "iopub.status.busy": "2021-09-27T07:20:35.382813Z",
     "iopub.status.idle": "2021-09-27T07:20:35.606410Z",
     "shell.execute_reply": "2021-09-27T07:20:35.606663Z"
    }
   },
   "outputs": [
    {
     "data": {
      "text/plain": [
       "Package MassRollup (24136717-2dca-4236-98b4-f9e6d21bf910)\n"
      ]
     },
     "execution_count": 2,
     "metadata": {},
     "output_type": "execute_result"
    }
   ],
   "source": [
    "package MassRollup {\n",
    "\timport ScalarFunctions::*;\n",
    "\t\n",
    "\tpart def MassedThing {\n",
    "\t\tattribute mass :> ISQ::mass; \n",
    "\t\tattribute totalMass :> ISQ::mass;\n",
    "\t}\n",
    "\t\n",
    "\tpart simpleThing : MassedThing {\n",
    "\t\tattribute totalMass redefines MassedThing::totalMass = mass;\n",
    "\t}\n",
    "\t\n",
    "\tpart compositeThing : MassedThing {\n",
    "\t\tpart subcomponents: MassedThing[*];\n",
    "\t\t\n",
    "\t\tattribute totalMass redefines MassedThing::totalMass =\n",
    "\t\t\tmass + sum(subcomponents.totalMass); \n",
    "\t}\n",
    "\t\n",
    "\tpart filteredMassThing :> compositeThing {\n",
    "\t\tabstract attribute minMass :> ISQ::mass;\n",
    "\t\t\n",
    "\t\tattribute totalMass redefines MassedThing::totalMass =\n",
    "\t\t\tmass + sum(subcomponents.totalMass.{in p :> ISQ::mass; p > minMass});\n",
    "\t}\n",
    "\n",
    "}"
   ]
  },
  {
   "cell_type": "markdown",
   "id": "94ed7f52",
   "metadata": {},
   "source": [
    "## File: Vehicles.sysml"
   ]
  },
  {
   "cell_type": "code",
   "execution_count": 3,
   "id": "fb91a16b",
   "metadata": {
    "execution": {
     "iopub.execute_input": "2021-09-27T07:20:35.657416Z",
     "iopub.status.busy": "2021-09-27T07:20:35.657072Z",
     "iopub.status.idle": "2021-09-27T07:20:35.740768Z",
     "shell.execute_reply": "2021-09-27T07:20:35.740508Z"
    }
   },
   "outputs": [
    {
     "data": {
      "text/plain": [
       "Package VehicleMasses (3d519bbc-d2f0-4f82-a493-3573bc663ceb)\n"
      ]
     },
     "execution_count": 3,
     "metadata": {},
     "output_type": "execute_result"
    }
   ],
   "source": [
    "package VehicleMasses {\n",
    "\timport ScalarValues::*;\n",
    "\timport MassRollup::*;\n",
    "\t\n",
    "\tpart def CarPart :> MassedThing {\t\t\t\n",
    "\t\tattribute serialNumber: String;\n",
    "\t}\n",
    "\t\n",
    "\tpart car: CarPart :> compositeThing {\t\n",
    "\t\tattribute vin redefines serialNumber;\n",
    "\t\t\n",
    "\t\tpart carParts: CarPart[*] redefines subcomponents;\n",
    "\t\t\n",
    "\t\tpart engine :> simpleThing, carParts {\n",
    "\t\t\t//...\n",
    "\t\t}\n",
    "\t\t\n",
    "\t\tpart transmission :> simpleThing, carParts {\n",
    "\t\t\t//...\n",
    "\t\t}\n",
    "\t}\n",
    "\n",
    "\t// Example usage\n",
    "\timport SI::*;\t\n",
    "\tpart c :> car {\n",
    "\t\tredefines mass = 1000 [kg];\n",
    "\t\tpart redefines engine {\n",
    "\t\t\tredefines car::engine::mass = 100 [kg];\n",
    "\t\t}\n",
    "\t\t\n",
    "\t\tpart redefines transmission {\n",
    "\t\t\tredefines car::engine::mass = 50 [kg];\n",
    "\t\t}\t\n",
    "\t}\n",
    "\t\n",
    "\t// c::totalMass --> 1150.0 [kg]\n",
    "}"
   ]
  }
 ],
 "metadata": {
  "kernelspec": {
   "display_name": "SysML",
   "language": "sysml",
   "name": "sysml"
  },
  "language_info": {
   "codemirror_mode": "sysml",
   "file_extension": ".sysml",
   "mimetype": "text/x-sysml",
   "name": "SysML",
   "pygments_lexer": "java",
   "version": "1.0.0"
  }
 },
 "nbformat": 4,
 "nbformat_minor": 5
}
