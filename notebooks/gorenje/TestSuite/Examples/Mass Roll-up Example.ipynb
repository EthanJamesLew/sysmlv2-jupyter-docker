{
 "cells": [
  {
   "cell_type": "markdown",
   "id": "d9859998",
   "metadata": {},
   "source": [
    "# SysML v2 Test Suite\n",
    "\n",
    "This can notebook can be cleared using menu `Edit --> Clear All Outputs` and then all cells can be\n",
    "run using menu `Run --> Run All Cells`.\n",
    "\n",
    "**WARNING**: This file is generated, all modifications here will be ignored.\n"
   ]
  },
  {
   "cell_type": "markdown",
   "id": "2dc43767",
   "metadata": {},
   "source": [
    "## Base Example Directory: ../../sysml/src/examples/Mass Roll-up Example"
   ]
  },
  {
   "cell_type": "markdown",
   "id": "90f3299f",
   "metadata": {},
   "source": [
    "## File: MassConstraintExample.sysml"
   ]
  },
  {
   "cell_type": "code",
   "execution_count": 1,
   "id": "df939846",
   "metadata": {
    "execution": {
     "iopub.execute_input": "2022-02-05T16:57:40.614700Z",
     "iopub.status.busy": "2022-02-05T16:57:40.613028Z",
     "iopub.status.idle": "2022-02-05T16:57:41.445685Z",
     "shell.execute_reply": "2022-02-05T16:57:41.446214Z"
    }
   },
   "outputs": [
    {
     "data": {
      "text/plain": [
       "Package MassConstraintExample (5c2d8bf8-d09f-417e-9e93-1626e0c9e9d1)\n"
      ]
     },
     "execution_count": 1,
     "metadata": {},
     "output_type": "execute_result"
    }
   ],
   "source": [
    "package MassConstraintExample {\n",
    "\timport ISQ::*;\n",
    "\timport SI::*;\n",
    "\timport ScalarFunctions::*;\n",
    "\t\n",
    "\tpart def Engine {\n",
    "\t\tattribute m :> mass;\n",
    "\t}\n",
    "\t\n",
    "\tpart def Transmission {\n",
    "\t\tattribute m :> mass;\n",
    "\t}\n",
    "\t\n",
    "\tpart def Vehicle1 {\n",
    "\t\tattribute m : MassValue = eng.m + trans.m;\n",
    "\t\t\n",
    "\t\tpart eng : Engine {\n",
    "\t\t\tattribute :>> m : MassValue;\n",
    "\t\t}\n",
    "\t\t\n",
    "\t\tpart trans : Transmission {\n",
    "\t\t\tattribute :>> m : MassValue;\n",
    "\t\t}\n",
    "\t}\n",
    "\t\n",
    "\tpart def Vehicle2 {\n",
    "\t\tassert constraint { m == eng.m + trans.m }\n",
    "\t\t\n",
    "\t\tattribute m : MassValue;\n",
    "\t\t\n",
    "\t\tpart eng : Engine {\n",
    "\t\t\tattribute :>> m : MassValue;\n",
    "\t\t}\n",
    "\t\t\n",
    "\t\tpart trans : Transmission {\n",
    "\t\t\tattribute :>> m : MassValue;\n",
    "\t\t}\n",
    "\t}\n",
    "\t\n",
    "\tconstraint def MassConstraint3 (\n",
    "\t\ttotalMass : MassValue, \n",
    "\t\tpartMasses : MassValue[0..*]) {\n",
    "\t\t\t\n",
    "\t\ttotalMass == sum(partMasses)\n",
    "\t}\n",
    "\t\n",
    "\tpart def Vehicle3 {\n",
    "\t\tassert constraint massConstraint : MassConstraint3 (\n",
    "\t\t\ttotalMass = m, \n",
    "\t\t\tpartMasses = (eng.m, trans.m)\n",
    "\t\t);\n",
    "\t\t\n",
    "\t\tattribute m : MassValue;\n",
    "\t\t\n",
    "\t\tpart eng {\n",
    "\t\t\tattribute m : MassValue;\n",
    "\t\t}\n",
    "\t\t\n",
    "\t\tpart trans {\n",
    "\t\t\tattribute m : MassValue;\n",
    "\t\t}\n",
    "\t}\n",
    "\t\n",
    "\tconstraint def MassConstraint4 (\n",
    "\t\ttotalMass : MassValue, \n",
    "\t\tpartMasses : MassValue[0..*]);\n",
    "\t\n",
    "\tconstraint mc : MassConstraint4 (\n",
    "\t\ttotalMass : MassValue, \n",
    "\t\tpartMasses : MassValue[0..*]) {\n",
    "\t\t\n",
    "\t\ttotalMass == sum(partMasses)\n",
    "\t}\n",
    "\t\n",
    "\tpart def Vehicle4 {\n",
    "\t\tassert mc (\n",
    "\t\t\ttotalMass = m, \n",
    "\t\t\tpartMasses = (eng.m, trans.m)\n",
    "\t\t);\n",
    "\t\t\n",
    "\t\tattribute m : MassValue;\n",
    "\t\t\n",
    "\t\tpart eng : Engine {\n",
    "\t\t\tattribute :>> m : MassValue;\n",
    "\t\t}\n",
    "\t\t\n",
    "\t\tpart trans : Transmission {\n",
    "\t\t\tattribute :>> m : MassValue;\n",
    "\t\t}\n",
    "\t}\n",
    "\t\n",
    "\tconstraint def MassLimit (\n",
    "\t\tmass : MassValue, \n",
    "\t\tmaxMass : MassValue) {\n",
    "\t\t\t\n",
    "\t\tmass <= maxMass\n",
    "\t}\n",
    "\t\n",
    "\tpart def Vehicle5 {\n",
    "\t\tassert constraint ml : MassLimit (\n",
    "\t\t\tmass = m, \n",
    "\t\t\tmaxMass = 2500 [kg]\n",
    "\t\t);\n",
    "\t\t\n",
    "\t\tattribute m : MassValue = eng.m + trans.m;\n",
    "\t\t\n",
    "\t\tpart eng : Engine {\n",
    "\t\t\tattribute :>> m : MassValue;\n",
    "\t\t}\n",
    "\t\t\n",
    "\t\tpart trans : Transmission {\n",
    "\t\t\tattribute :>> m : MassValue;\n",
    "\t\t}\n",
    "\t}\t\n",
    "\t\n",
    "}"
   ]
  },
  {
   "cell_type": "markdown",
   "id": "794beedc",
   "metadata": {},
   "source": [
    "## File: MassRollup.sysml"
   ]
  },
  {
   "cell_type": "code",
   "execution_count": 2,
   "id": "227f772f",
   "metadata": {
    "execution": {
     "iopub.execute_input": "2022-02-05T16:57:41.496539Z",
     "iopub.status.busy": "2022-02-05T16:57:41.496177Z",
     "iopub.status.idle": "2022-02-05T16:57:41.651474Z",
     "shell.execute_reply": "2022-02-05T16:57:41.651162Z"
    }
   },
   "outputs": [
    {
     "data": {
      "text/plain": [
       "Package MassRollup (8e93b7fb-8fd7-42be-b08c-d735d2136177)\n"
      ]
     },
     "execution_count": 2,
     "metadata": {},
     "output_type": "execute_result"
    }
   ],
   "source": [
    "package MassRollup {\n",
    "\timport ScalarFunctions::*;\n",
    "\t\n",
    "\tpart def MassedThing {\n",
    "\t\tattribute mass :> ISQ::mass; \n",
    "\t\tattribute totalMass :> ISQ::mass;\n",
    "\t}\n",
    "\t\n",
    "\tpart simpleThing : MassedThing {\n",
    "\t\tattribute totalMass redefines MassedThing::totalMass = mass;\n",
    "\t}\n",
    "\t\n",
    "\tpart compositeThing : MassedThing {\n",
    "\t\tpart subcomponents: MassedThing[*];\n",
    "\t\t\n",
    "\t\tattribute totalMass redefines MassedThing::totalMass =\n",
    "\t\t\tmass + sum(subcomponents.totalMass); \n",
    "\t}\n",
    "\t\n",
    "\tpart filteredMassThing :> compositeThing {\n",
    "\t\tabstract attribute minMass :> ISQ::mass;\n",
    "\t\t\n",
    "\t\tattribute totalMass redefines MassedThing::totalMass =\n",
    "\t\t\tmass + sum(subcomponents.totalMass.{in p :> ISQ::mass; p > minMass});\n",
    "\t}\n",
    "\n",
    "}"
   ]
  },
  {
   "cell_type": "markdown",
   "id": "41cd4c47",
   "metadata": {},
   "source": [
    "## File: Vehicles.sysml"
   ]
  },
  {
   "cell_type": "code",
   "execution_count": 3,
   "id": "6d35626c",
   "metadata": {
    "execution": {
     "iopub.execute_input": "2022-02-05T16:57:41.701821Z",
     "iopub.status.busy": "2022-02-05T16:57:41.701552Z",
     "iopub.status.idle": "2022-02-05T16:57:41.802113Z",
     "shell.execute_reply": "2022-02-05T16:57:41.801820Z"
    }
   },
   "outputs": [
    {
     "data": {
      "text/plain": [
       "Package VehicleMasses (2a0168eb-070c-4b19-b0de-8fc54c7fd4b9)\n"
      ]
     },
     "execution_count": 3,
     "metadata": {},
     "output_type": "execute_result"
    }
   ],
   "source": [
    "package VehicleMasses {\n",
    "\timport ScalarValues::*;\n",
    "\timport MassRollup::*;\n",
    "\t\n",
    "\tpart def CarPart :> MassedThing {\t\t\t\n",
    "\t\tattribute serialNumber: String;\n",
    "\t}\n",
    "\t\n",
    "\tpart car: CarPart :> compositeThing {\t\n",
    "\t\tattribute vin redefines serialNumber;\n",
    "\t\t\n",
    "\t\tpart carParts: CarPart[*] redefines subcomponents;\n",
    "\t\t\n",
    "\t\tpart engine :> simpleThing, carParts {\n",
    "\t\t\t//...\n",
    "\t\t}\n",
    "\t\t\n",
    "\t\tpart transmission :> simpleThing, carParts {\n",
    "\t\t\t//...\n",
    "\t\t}\n",
    "\t}\n",
    "\n",
    "\t// Example usage\n",
    "\timport SI::*;\t\n",
    "\tpart c :> car {\n",
    "\t\tredefines mass = 1000 [kg];\n",
    "\t\tpart redefines engine {\n",
    "\t\t\tredefines car::engine::mass = 100 [kg];\n",
    "\t\t}\n",
    "\t\t\n",
    "\t\tpart redefines transmission {\n",
    "\t\t\tredefines car::engine::mass = 50 [kg];\n",
    "\t\t}\t\n",
    "\t}\n",
    "\t\n",
    "\t// c::totalMass --> 1150.0 [kg]\n",
    "}"
   ]
  }
 ],
 "metadata": {
  "kernelspec": {
   "display_name": "SysML",
   "language": "sysml",
   "name": "sysml"
  },
  "language_info": {
   "codemirror_mode": "sysml",
   "file_extension": ".sysml",
   "mimetype": "text/x-sysml",
   "name": "SysML",
   "pygments_lexer": "java",
   "version": "1.0.0"
  }
 },
 "nbformat": 4,
 "nbformat_minor": 5
}
