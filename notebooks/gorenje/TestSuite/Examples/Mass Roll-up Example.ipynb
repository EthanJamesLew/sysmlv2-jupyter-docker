{
 "cells": [
  {
   "cell_type": "markdown",
   "id": "bae60cd4",
   "metadata": {},
   "source": [
    "# SysML v2 Test Suite\n",
    "\n",
    "This can notebook can be cleared using menu `Edit --> Clear All Outputs` and then all cells can be\n",
    "run using menu `Run --> Run All Cells`.\n",
    "\n",
    "**WARNING**: This file is generated, all modifications here will be ignored.\n"
   ]
  },
  {
   "cell_type": "markdown",
   "id": "a24fc34f",
   "metadata": {},
   "source": [
    "## Base Example Directory: ../../sysml/src/examples/Mass Roll-up Example"
   ]
  },
  {
   "cell_type": "markdown",
   "id": "8c01dc93",
   "metadata": {},
   "source": [
    "## File: MassConstraintExample.sysml"
   ]
  },
  {
   "cell_type": "code",
   "execution_count": 1,
   "id": "432ac69f",
   "metadata": {
    "execution": {
     "iopub.execute_input": "2021-10-25T08:25:24.989014Z",
     "iopub.status.busy": "2021-10-25T08:25:24.987336Z",
     "iopub.status.idle": "2021-10-25T08:25:25.875994Z",
     "shell.execute_reply": "2021-10-25T08:25:25.876348Z"
    }
   },
   "outputs": [
    {
     "data": {
      "text/plain": [
       "Package MassConstraintExample (af7d40b4-3c40-4228-aab8-b94284fbd6e2)\n"
      ]
     },
     "execution_count": 1,
     "metadata": {},
     "output_type": "execute_result"
    }
   ],
   "source": [
    "package MassConstraintExample {\n",
    "\timport ISQ::*;\n",
    "\timport SI::*;\n",
    "\timport ScalarFunctions::*;\n",
    "\t\n",
    "\tpart def Engine {\n",
    "\t\tattribute m :> mass;\n",
    "\t}\n",
    "\t\n",
    "\tpart def Transmission {\n",
    "\t\tattribute m :> mass;\n",
    "\t}\n",
    "\t\n",
    "\tpart def Vehicle1 {\n",
    "\t\tattribute m : MassValue = eng.m + trans.m;\n",
    "\t\t\n",
    "\t\tpart eng : Engine {\n",
    "\t\t\tattribute :>> m : MassValue;\n",
    "\t\t}\n",
    "\t\t\n",
    "\t\tpart trans : Transmission {\n",
    "\t\t\tattribute :>> m : MassValue;\n",
    "\t\t}\n",
    "\t}\n",
    "\t\n",
    "\tpart def Vehicle2 {\n",
    "\t\tassert constraint { m == eng.m + trans.m }\n",
    "\t\t\n",
    "\t\tattribute m : MassValue;\n",
    "\t\t\n",
    "\t\tpart eng : Engine {\n",
    "\t\t\tattribute :>> m : MassValue;\n",
    "\t\t}\n",
    "\t\t\n",
    "\t\tpart trans : Transmission {\n",
    "\t\t\tattribute :>> m : MassValue;\n",
    "\t\t}\n",
    "\t}\n",
    "\t\n",
    "\tconstraint def MassConstraint3 (\n",
    "\t\ttotalMass : MassValue, \n",
    "\t\tpartMasses : MassValue[0..*]) {\n",
    "\t\t\t\n",
    "\t\ttotalMass == sum(partMasses)\n",
    "\t}\n",
    "\t\n",
    "\tpart def Vehicle3 {\n",
    "\t\tassert constraint massConstraint : MassConstraint3 (\n",
    "\t\t\ttotalMass = m, \n",
    "\t\t\tpartMasses = (eng.m, trans.m)\n",
    "\t\t);\n",
    "\t\t\n",
    "\t\tattribute m : MassValue;\n",
    "\t\t\n",
    "\t\tpart eng {\n",
    "\t\t\tattribute m : MassValue;\n",
    "\t\t}\n",
    "\t\t\n",
    "\t\tpart trans {\n",
    "\t\t\tattribute m : MassValue;\n",
    "\t\t}\n",
    "\t}\n",
    "\t\n",
    "\tconstraint def MassConstraint4 (\n",
    "\t\ttotalMass : MassValue, \n",
    "\t\tpartMasses : MassValue[0..*]);\n",
    "\t\n",
    "\tconstraint mc : MassConstraint4 (\n",
    "\t\ttotalMass : MassValue, \n",
    "\t\tpartMasses : MassValue[0..*]) {\n",
    "\t\t\n",
    "\t\ttotalMass == sum(partMasses)\n",
    "\t}\n",
    "\t\n",
    "\tpart def Vehicle4 {\n",
    "\t\tassert mc (\n",
    "\t\t\ttotalMass = m, \n",
    "\t\t\tpartMasses = (eng.m, trans.m)\n",
    "\t\t);\n",
    "\t\t\n",
    "\t\tattribute m : MassValue;\n",
    "\t\t\n",
    "\t\tpart eng : Engine {\n",
    "\t\t\tattribute :>> m : MassValue;\n",
    "\t\t}\n",
    "\t\t\n",
    "\t\tpart trans : Transmission {\n",
    "\t\t\tattribute :>> m : MassValue;\n",
    "\t\t}\n",
    "\t}\n",
    "\t\n",
    "\tconstraint def MassLimit (\n",
    "\t\tmass : MassValue, \n",
    "\t\tmaxMass : MassValue) {\n",
    "\t\t\t\n",
    "\t\tmass <= maxMass\n",
    "\t}\n",
    "\t\n",
    "\tpart def Vehicle5 {\n",
    "\t\tassert constraint ml : MassLimit (\n",
    "\t\t\tmass = m, \n",
    "\t\t\tmaxMass = 2500 [kg]\n",
    "\t\t);\n",
    "\t\t\n",
    "\t\tattribute m : MassValue = eng.m + trans.m;\n",
    "\t\t\n",
    "\t\tpart eng : Engine {\n",
    "\t\t\tattribute :>> m : MassValue;\n",
    "\t\t}\n",
    "\t\t\n",
    "\t\tpart trans : Transmission {\n",
    "\t\t\tattribute :>> m : MassValue;\n",
    "\t\t}\n",
    "\t}\t\n",
    "\t\n",
    "}"
   ]
  },
  {
   "cell_type": "markdown",
   "id": "171af4d4",
   "metadata": {},
   "source": [
    "## File: MassRollup.sysml"
   ]
  },
  {
   "cell_type": "code",
   "execution_count": 2,
   "id": "fc985a6d",
   "metadata": {
    "execution": {
     "iopub.execute_input": "2021-10-25T08:25:25.927752Z",
     "iopub.status.busy": "2021-10-25T08:25:25.927257Z",
     "iopub.status.idle": "2021-10-25T08:25:26.117828Z",
     "shell.execute_reply": "2021-10-25T08:25:26.117609Z"
    }
   },
   "outputs": [
    {
     "data": {
      "text/plain": [
       "Package MassRollup (7d4d939b-667c-4ab1-9883-c655c9bf9c34)\n"
      ]
     },
     "execution_count": 2,
     "metadata": {},
     "output_type": "execute_result"
    }
   ],
   "source": [
    "package MassRollup {\n",
    "\timport ScalarFunctions::*;\n",
    "\t\n",
    "\tpart def MassedThing {\n",
    "\t\tattribute mass :> ISQ::mass; \n",
    "\t\tattribute totalMass :> ISQ::mass;\n",
    "\t}\n",
    "\t\n",
    "\tpart simpleThing : MassedThing {\n",
    "\t\tattribute totalMass redefines MassedThing::totalMass = mass;\n",
    "\t}\n",
    "\t\n",
    "\tpart compositeThing : MassedThing {\n",
    "\t\tpart subcomponents: MassedThing[*];\n",
    "\t\t\n",
    "\t\tattribute totalMass redefines MassedThing::totalMass =\n",
    "\t\t\tmass + sum(subcomponents.totalMass); \n",
    "\t}\n",
    "\t\n",
    "\tpart filteredMassThing :> compositeThing {\n",
    "\t\tabstract attribute minMass :> ISQ::mass;\n",
    "\t\t\n",
    "\t\tattribute totalMass redefines MassedThing::totalMass =\n",
    "\t\t\tmass + sum(subcomponents.totalMass.{in p :> ISQ::mass; p > minMass});\n",
    "\t}\n",
    "\n",
    "}"
   ]
  },
  {
   "cell_type": "markdown",
   "id": "6f8c5997",
   "metadata": {},
   "source": [
    "## File: Vehicles.sysml"
   ]
  },
  {
   "cell_type": "code",
   "execution_count": 3,
   "id": "4106b122",
   "metadata": {
    "execution": {
     "iopub.execute_input": "2021-10-25T08:25:26.168592Z",
     "iopub.status.busy": "2021-10-25T08:25:26.168223Z",
     "iopub.status.idle": "2021-10-25T08:25:26.257415Z",
     "shell.execute_reply": "2021-10-25T08:25:26.257592Z"
    }
   },
   "outputs": [
    {
     "data": {
      "text/plain": [
       "Package VehicleMasses (4c2f7506-3090-49fd-bc34-2a1ebdc95bf9)\n"
      ]
     },
     "execution_count": 3,
     "metadata": {},
     "output_type": "execute_result"
    }
   ],
   "source": [
    "package VehicleMasses {\n",
    "\timport ScalarValues::*;\n",
    "\timport MassRollup::*;\n",
    "\t\n",
    "\tpart def CarPart :> MassedThing {\t\t\t\n",
    "\t\tattribute serialNumber: String;\n",
    "\t}\n",
    "\t\n",
    "\tpart car: CarPart :> compositeThing {\t\n",
    "\t\tattribute vin redefines serialNumber;\n",
    "\t\t\n",
    "\t\tpart carParts: CarPart[*] redefines subcomponents;\n",
    "\t\t\n",
    "\t\tpart engine :> simpleThing, carParts {\n",
    "\t\t\t//...\n",
    "\t\t}\n",
    "\t\t\n",
    "\t\tpart transmission :> simpleThing, carParts {\n",
    "\t\t\t//...\n",
    "\t\t}\n",
    "\t}\n",
    "\n",
    "\t// Example usage\n",
    "\timport SI::*;\t\n",
    "\tpart c :> car {\n",
    "\t\tredefines mass = 1000 [kg];\n",
    "\t\tpart redefines engine {\n",
    "\t\t\tredefines car::engine::mass = 100 [kg];\n",
    "\t\t}\n",
    "\t\t\n",
    "\t\tpart redefines transmission {\n",
    "\t\t\tredefines car::engine::mass = 50 [kg];\n",
    "\t\t}\t\n",
    "\t}\n",
    "\t\n",
    "\t// c::totalMass --> 1150.0 [kg]\n",
    "}"
   ]
  }
 ],
 "metadata": {
  "kernelspec": {
   "display_name": "SysML",
   "language": "sysml",
   "name": "sysml"
  },
  "language_info": {
   "codemirror_mode": "sysml",
   "file_extension": ".sysml",
   "mimetype": "text/x-sysml",
   "name": "SysML",
   "pygments_lexer": "java",
   "version": "1.0.0"
  }
 },
 "nbformat": 4,
 "nbformat_minor": 5
}
