{
 "cells": [
  {
   "cell_type": "markdown",
   "id": "c506556d",
   "metadata": {},
   "source": [
    "# SysML v2 Test Suite\n",
    "\n",
    "This can notebook can be cleared using menu `Edit --> Clear All Outputs` and then all cells can be\n",
    "run using menu `Run --> Run All Cells`.\n",
    "\n",
    "**WARNING**: This file is generated, all modifications here will be ignored.\n"
   ]
  },
  {
   "cell_type": "markdown",
   "id": "088b945a",
   "metadata": {},
   "source": [
    "## Base Example Directory: ../../sysml/src/examples/Packet Example"
   ]
  },
  {
   "cell_type": "markdown",
   "id": "907cef10",
   "metadata": {},
   "source": [
    "## File: Packets.sysml"
   ]
  },
  {
   "cell_type": "code",
   "execution_count": 1,
   "id": "e8ba4143",
   "metadata": {
    "execution": {
     "iopub.execute_input": "2022-03-03T10:00:46.380578Z",
     "iopub.status.busy": "2022-03-03T10:00:46.379679Z",
     "iopub.status.idle": "2022-03-03T10:00:46.567860Z",
     "shell.execute_reply": "2022-03-03T10:00:46.568212Z"
    }
   },
   "outputs": [
    {
     "data": {
      "text/plain": [
       "Package Packets (4991b99a-e759-4228-8bf1-ab140962aa34)\n"
      ]
     },
     "execution_count": 1,
     "metadata": {},
     "output_type": "execute_result"
    }
   ],
   "source": [
    "package Packets {\n",
    "\tprivate import ScalarValues::*;\n",
    "\tprivate import Time::DateTime;\n",
    "\t\n",
    "\tattribute 'packet header' { }\n",
    "\t\n",
    "\tattribute 'packet data field' {\t\n",
    "\t\tattribute 'packet secondary header' redefines 'packet header';\n",
    "\t\tattribute 'user data field';\n",
    "\t}\n",
    "\t\n",
    "\tpart def 'Data Packet' {\n",
    "\t\tattribute 'packet primary header' redefines 'packet header' {\n",
    "\t\t\tattribute 'packet version number': Integer;\n",
    "\t\t\tattribute 'packet identification': String;\n",
    "\t\t\tattribute 'packet data length': Integer;\n",
    "\t\t}\n",
    "\t\tattribute redefines 'packet data field';\n",
    "\t}\n",
    "\t\n",
    "\tpart def 'Thermal Data Packet' :> 'Data Packet' {\n",
    "\t\tattribute 'packet data field' redefines Packets::'packet data field'{\n",
    "\t\t\tattribute 'packet secondary header' redefines 'packet header' {\n",
    "\t\t\t\tattribute 'packet timestamp': DateTime;\n",
    "\t\t\t\tattribute 'telemetry packet type': String;\n",
    "\t\t\t}\n",
    "\t\t\t\n",
    "\t\t\tattribute 'user data field' redefines Packets::'packet data field'::'user data field' {\n",
    "\t\t\t\tattribute timestamp: DateTime;\n",
    "\t\t\t\tattribute temperature: Real;\n",
    "\t\t\t}\n",
    "\t\t}\n",
    "\t}\n",
    "\t\n",
    "}"
   ]
  },
  {
   "cell_type": "markdown",
   "id": "a0c8ec76",
   "metadata": {},
   "source": [
    "## File: PacketUsage.sysml"
   ]
  },
  {
   "cell_type": "code",
   "execution_count": 2,
   "id": "d7b1939b",
   "metadata": {
    "execution": {
     "iopub.execute_input": "2022-03-03T10:00:46.619333Z",
     "iopub.status.busy": "2022-03-03T10:00:46.618868Z",
     "iopub.status.idle": "2022-03-03T10:00:46.635204Z",
     "shell.execute_reply": "2022-03-03T10:00:46.635514Z"
    }
   },
   "outputs": [
    {
     "data": {
      "text/plain": [
       "Package Packet Usage (60d2311c-889d-481d-8285-e0b26ae1efaa)\n"
      ]
     },
     "execution_count": 2,
     "metadata": {},
     "output_type": "execute_result"
    }
   ],
   "source": [
    "package 'Packet Usage' {\n",
    "\tpublic import Packets::*;\n",
    "\tprivate import ScalarValues::Real;\n",
    "\t\n",
    "\tpart packet1: 'Thermal Data Packet';\n",
    "\tpart packet2: 'Thermal Data Packet';\n",
    "\tpart packet3: 'Thermal Data Packet' {\n",
    "\t\tattribute 'special data field' redefines 'packet data field'{\n",
    "\t\t\tattribute redefines 'user data field' {\n",
    "\t\t\t\tattribute 'special data': Real;\n",
    "\t\t\t}\n",
    "\t\t}\n",
    "\t}\n",
    "\t\n",
    "}\n",
    "\t\n"
   ]
  }
 ],
 "metadata": {
  "kernelspec": {
   "display_name": "SysML",
   "language": "sysml",
   "name": "sysml"
  },
  "language_info": {
   "codemirror_mode": "sysml",
   "file_extension": ".sysml",
   "mimetype": "text/x-sysml",
   "name": "SysML",
   "pygments_lexer": "java",
   "version": "1.0.0"
  }
 },
 "nbformat": 4,
 "nbformat_minor": 5
}
