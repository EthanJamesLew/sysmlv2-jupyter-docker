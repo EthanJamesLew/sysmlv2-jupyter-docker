{
 "cells": [
  {
   "cell_type": "markdown",
   "id": "24178029",
   "metadata": {},
   "source": [
    "# SysML v2 Test Suite\n",
    "\n",
    "This can notebook can be cleared using menu `Edit --> Clear All Outputs` and then all cells can be\n",
    "run using menu `Run --> Run All Cells`.\n",
    "\n",
    "**WARNING**: This file is generated, all modifications here will be ignored.\n"
   ]
  },
  {
   "cell_type": "markdown",
   "id": "b40bc57c",
   "metadata": {},
   "source": [
    "## Base Example Directory: ../../sysml/src/examples/Requirements Examples"
   ]
  },
  {
   "cell_type": "markdown",
   "id": "9960cb64",
   "metadata": {},
   "source": [
    "## File: HSUVRequirements.sysml"
   ]
  },
  {
   "cell_type": "code",
   "execution_count": 1,
   "id": "c980cbb0",
   "metadata": {
    "execution": {
     "iopub.execute_input": "2021-08-04T06:31:18.610199Z",
     "iopub.status.busy": "2021-08-04T06:31:18.608645Z",
     "iopub.status.idle": "2021-08-04T06:31:19.127733Z",
     "shell.execute_reply": "2021-08-04T06:31:19.128078Z"
    }
   },
   "outputs": [
    {
     "data": {
      "text/plain": [
       "Package HSUVRequirements (8a43c48e-6b6b-4680-8cbf-fa00942f4947)\n"
      ]
     },
     "execution_count": 1,
     "metadata": {},
     "output_type": "execute_result"
    }
   ],
   "source": [
    "package HSUVRequirements {\n",
    "\timport Requirements::*;\n",
    "\t\n",
    "\trequirement id 'UR1.1' Load: FunctionalRequirementCheck {\n",
    "\t\t// The following requirements are composite sub-requirements.\n",
    "\t\trequirement Passengers;\n",
    "\t\trequirement FuelCapacity;\n",
    "\t\trequirement Cargo;\n",
    "\t}\n",
    "\t\n",
    "\trequirement id 'UR1.2' EcoFriendliness: PerformanceRequirementCheck {\n",
    "\t\trequirement id 'URI1.2.1' Emissions: PerformanceRequirementCheck {\n",
    "\t\t\t/* The car shall meet 2010 Kyoto Accord emissions standards. */\n",
    "\t\t}\n",
    "\t}\n",
    "\t\n",
    "\trequirement id 'UR1.3' Performance: PerformanceRequirementCheck {\n",
    "\t\trequirement Acceleration;\n",
    "\t\trequirement id 'UR1.3.1' FuelEconomy: PerformanceRequirementCheck {\n",
    "\t\t\t/* User shall obtain fuel economy better than that provided by\n",
    "\t\t\t * 95% of cars built in 2004.\n",
    "\t\t\t */\n",
    "\t\t}\n",
    "\t\trequirement Braking;\n",
    "\t\trequirement Range;\n",
    "\t\trequirement Power;\n",
    "\t}\n",
    "\t\n",
    "\trequirement id 'UR1.4' Ergonomics;\n",
    "\t\n",
    "\t// Syntactically, should this be explicitly marked as a \"group\"?\n",
    "\trequirement HybridSUVSpec {\t\t\n",
    "\t\t// The following requirements are required by reference.\n",
    "\t\trequire Load;\n",
    "\t\trequire EcoFriendliness;\n",
    "\t\trequire Performance;\n",
    "\t\trequire Ergonomics;\n",
    "\t}\n",
    "}"
   ]
  }
 ],
 "metadata": {
  "kernelspec": {
   "display_name": "SysML",
   "language": "sysml",
   "name": "sysml"
  },
  "language_info": {
   "codemirror_mode": "sysml",
   "file_extension": ".sysml",
   "mimetype": "text/x-sysml",
   "name": "SysML",
   "pygments_lexer": "java",
   "version": "1.0.0"
  }
 },
 "nbformat": 4,
 "nbformat_minor": 5
}
