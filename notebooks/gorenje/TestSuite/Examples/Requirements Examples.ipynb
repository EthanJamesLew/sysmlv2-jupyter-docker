{
 "cells": [
  {
   "cell_type": "markdown",
   "id": "fc268ea5",
   "metadata": {},
   "source": [
    "# SysML v2 Test Suite\n",
    "\n",
    "This can notebook can be cleared using menu `Edit --> Clear All Outputs` and then all cells can be\n",
    "run using menu `Run --> Run All Cells`.\n",
    "\n",
    "**WARNING**: This file is generated, all modifications here will be ignored.\n"
   ]
  },
  {
   "cell_type": "markdown",
   "id": "bcabacd3",
   "metadata": {},
   "source": [
    "## Base Example Directory: ../../sysml/src/examples/Requirements Examples"
   ]
  },
  {
   "cell_type": "markdown",
   "id": "42369643",
   "metadata": {},
   "source": [
    "## File: HSUVRequirements.sysml"
   ]
  },
  {
   "cell_type": "code",
   "execution_count": 1,
   "id": "739158d1",
   "metadata": {
    "execution": {
     "iopub.execute_input": "2021-09-27T07:20:39.531527Z",
     "iopub.status.busy": "2021-09-27T07:20:39.530149Z",
     "iopub.status.idle": "2021-09-27T07:20:40.097460Z",
     "shell.execute_reply": "2021-09-27T07:20:40.097153Z"
    }
   },
   "outputs": [
    {
     "data": {
      "text/plain": [
       "Package HSUVRequirements (9acbc449-a806-49dc-aa23-415e9273fbac)\n"
      ]
     },
     "execution_count": 1,
     "metadata": {},
     "output_type": "execute_result"
    }
   ],
   "source": [
    "package HSUVRequirements {\n",
    "\timport Requirements::*;\n",
    "\t\n",
    "\trequirement id 'UR1.1' Load: FunctionalRequirementCheck {\n",
    "\t\t// The following requirements are composite sub-requirements.\n",
    "\t\trequirement Passengers;\n",
    "\t\trequirement FuelCapacity;\n",
    "\t\trequirement Cargo;\n",
    "\t}\n",
    "\t\n",
    "\trequirement id 'UR1.2' EcoFriendliness: PerformanceRequirementCheck {\n",
    "\t\trequirement id 'URI1.2.1' Emissions: PerformanceRequirementCheck {\n",
    "\t\t\t/* The car shall meet 2010 Kyoto Accord emissions standards. */\n",
    "\t\t}\n",
    "\t}\n",
    "\t\n",
    "\trequirement id 'UR1.3' Performance: PerformanceRequirementCheck {\n",
    "\t\trequirement Acceleration;\n",
    "\t\trequirement id 'UR1.3.1' FuelEconomy: PerformanceRequirementCheck {\n",
    "\t\t\t/* User shall obtain fuel economy better than that provided by\n",
    "\t\t\t * 95% of cars built in 2004.\n",
    "\t\t\t */\n",
    "\t\t}\n",
    "\t\trequirement Braking;\n",
    "\t\trequirement Range;\n",
    "\t\trequirement Power;\n",
    "\t}\n",
    "\t\n",
    "\trequirement id 'UR1.4' Ergonomics;\n",
    "\t\n",
    "\t// Syntactically, should this be explicitly marked as a \"group\"?\n",
    "\trequirement HybridSUVSpec {\t\t\n",
    "\t\t// The following requirements are required by reference.\n",
    "\t\trequire Load;\n",
    "\t\trequire EcoFriendliness;\n",
    "\t\trequire Performance;\n",
    "\t\trequire Ergonomics;\n",
    "\t}\n",
    "}"
   ]
  }
 ],
 "metadata": {
  "kernelspec": {
   "display_name": "SysML",
   "language": "sysml",
   "name": "sysml"
  },
  "language_info": {
   "codemirror_mode": "sysml",
   "file_extension": ".sysml",
   "mimetype": "text/x-sysml",
   "name": "SysML",
   "pygments_lexer": "java",
   "version": "1.0.0"
  }
 },
 "nbformat": 4,
 "nbformat_minor": 5
}
