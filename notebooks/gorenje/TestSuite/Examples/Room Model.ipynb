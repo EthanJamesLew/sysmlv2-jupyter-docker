{
 "cells": [
  {
   "cell_type": "markdown",
   "id": "2724ffda",
   "metadata": {},
   "source": [
    "# SysML v2 Test Suite\n",
    "\n",
    "This can notebook can be cleared using menu `Edit --> Clear All Outputs` and then all cells can be\n",
    "run using menu `Run --> Run All Cells`.\n",
    "\n",
    "**WARNING**: This file is generated, all modifications here will be ignored.\n"
   ]
  },
  {
   "cell_type": "markdown",
   "id": "fc5a558a",
   "metadata": {},
   "source": [
    "## Base Example Directory: ../../sysml/src/examples/Room Model"
   ]
  },
  {
   "cell_type": "markdown",
   "id": "1b7877f6",
   "metadata": {},
   "source": [
    "## File: RoomModel.sysml"
   ]
  },
  {
   "cell_type": "code",
   "execution_count": 1,
   "id": "636e3f60",
   "metadata": {
    "execution": {
     "iopub.execute_input": "2021-09-27T07:20:48.380032Z",
     "iopub.status.busy": "2021-09-27T07:20:48.378471Z",
     "iopub.status.idle": "2021-09-27T07:20:48.811438Z",
     "shell.execute_reply": "2021-09-27T07:20:48.811999Z"
    }
   },
   "outputs": [
    {
     "data": {
      "text/plain": [
       "Package RoomModel (a871fc0d-cd04-411c-a056-67bc39887d93)\n"
      ]
     },
     "execution_count": 1,
     "metadata": {},
     "output_type": "execute_result"
    }
   ],
   "source": [
    "// SysML v2 Interpretation of the SysML v1 Room Connection Example\n",
    "package RoomModel { \n",
    "    package RoomDefinitionModelLibrary{\n",
    "        import Port_Definitions::*;\n",
    "        import Flow_Definitions::*;\n",
    "        package Part_Definitions{\n",
    "            // Rooms\n",
    "            part def Classroom {\n",
    "                port classEntry: EntryWay_to_Classroom;\n",
    "            }\n",
    "            part def Storageroom {\n",
    "                port storageEntry: EntryWay_to_Storageroom;\n",
    "            }\n",
    "            part def Hallway {\n",
    "                // conjugate ports with ~\n",
    "                port hallExit_to_Classroom: ~EntryWay_to_Classroom;\n",
    "                port hallExit_to_Storageroom: ~EntryWay_to_Storageroom;\n",
    "            }\n",
    "        }\n",
    "        package Port_Definitions{\n",
    "            port def EntryWay_to_Classroom {\n",
    "                //flow properties\n",
    "                in ref student:Student;\n",
    "                in ref teacher:Teacher;\n",
    "                in ref furniture:Furniture;\n",
    "                in ref air:Air;\n",
    "            }\n",
    "            port def EntryWay_to_Storageroom {\n",
    "                //flow properties\n",
    "                in ref furniture:  Furniture;\n",
    "                in ref air: Air;\n",
    "            }\n",
    "        }\n",
    "        package Flow_Definitions {\n",
    "                //  Conveyed items between Hallway, Classroom, and Storageroom\n",
    "                part def Air;\n",
    "                part def Furniture;\n",
    "                part def Student;\n",
    "                part def Teacher;\n",
    "        }\n",
    "    }\n",
    "    package Room_Configuration{\n",
    "        // defining the parts and their interconnection in context \n",
    "        import RoomDefinitionModelLibrary::*;\n",
    "        import RoomDefinitionModelLibrary::Part_Definitions::*;\n",
    "        import RoomDefinitionModelLibrary::Port_Definitions::*;\n",
    "        import RoomDefinitionModelLibrary::Flow_Definitions::*;\n",
    "        part roomContext{\n",
    "            part c:Classroom;\n",
    "            part s:Storageroom;\n",
    "            part h:Hallway;\n",
    "            \n",
    "    \t\t//  Connectors and item flows between hallway and classroom\n",
    "            stream HallToClassroom_Air\n",
    "                from h.hallExit_to_Classroom.air\n",
    "                to c.classEntry.air;\n",
    "            stream HallToClassroom_Furniture\n",
    "                from h.hallExit_to_Classroom.furniture\n",
    "                to c.classEntry.furniture;\n",
    "            stream HallToClassroom_Student\n",
    "                from h.hallExit_to_Classroom.student\n",
    "                to c.classEntry.student;\n",
    "            stream HallToClassroom_Teacher\n",
    "                from h.hallExit_to_Classroom.teacher\n",
    "                to c.classEntry.teacher;\n",
    "            stream HallToStorageroom_Air\n",
    "                from h.hallExit_to_Storageroom.air\n",
    "                to s.storageEntry.air;\n",
    "            stream HallToStorageroom_Furniture\n",
    "                from h.hallExit_to_Storageroom.furniture\n",
    "                to s.storageEntry.furniture;\n",
    "        }\n",
    "    }\n",
    "}\n",
    "\n",
    "\n",
    "\n"
   ]
  }
 ],
 "metadata": {
  "kernelspec": {
   "display_name": "SysML",
   "language": "sysml",
   "name": "sysml"
  },
  "language_info": {
   "codemirror_mode": "sysml",
   "file_extension": ".sysml",
   "mimetype": "text/x-sysml",
   "name": "SysML",
   "pygments_lexer": "java",
   "version": "1.0.0"
  }
 },
 "nbformat": 4,
 "nbformat_minor": 5
}
